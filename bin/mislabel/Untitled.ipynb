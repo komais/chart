{
 "cells": [
  {
   "cell_type": "code",
   "execution_count": 3,
   "metadata": {},
   "outputs": [],
   "source": [
    "%matplotlib inline"
   ]
  },
  {
   "cell_type": "code",
   "execution_count": 4,
   "metadata": {},
   "outputs": [],
   "source": [
    "import pandas as pd"
   ]
  },
  {
   "cell_type": "code",
   "execution_count": 11,
   "metadata": {},
   "outputs": [],
   "source": [
    "df1 = pd.read_csv(\"../../data/mislabeled_samples/test_pro.tsv\",sep=\"\\t\").T"
   ]
  },
  {
   "cell_type": "markdown",
   "metadata": {},
   "source": [
    "# 数据统计\n",
    "* shape\n",
    "* describe()\n",
    "* 平行坐标图\n",
    "** 归一化或者不归一化\n",
    "* 属性和属性 或者 与目标之间的相关性\n",
    "* qq plot\n",
    "* boxplot(归一化）\n",
    "* 相关性的统计 热图\n",
    "* logistic 回归\n",
    "\n"
   ]
  },
  {
   "cell_type": "code",
   "execution_count": 13,
   "metadata": {},
   "outputs": [
    {
     "data": {
      "text/plain": [
       "Index(['Testing_1', 'Testing_2', 'Testing_3', 'Testing_4', 'Testing_5',\n",
       "       'Testing_6', 'Testing_7', 'Testing_8', 'Testing_9', 'Testing_10',\n",
       "       'Testing_11', 'Testing_12', 'Testing_13', 'Testing_14', 'Testing_15',\n",
       "       'Testing_16', 'Testing_17', 'Testing_18', 'Testing_19', 'Testing_20',\n",
       "       'Testing_21', 'Testing_22', 'Testing_23', 'Testing_24', 'Testing_25',\n",
       "       'Testing_26', 'Testing_27', 'Testing_28', 'Testing_29', 'Testing_30',\n",
       "       'Testing_31', 'Testing_32', 'Testing_33', 'Testing_34', 'Testing_35',\n",
       "       'Testing_36', 'Testing_37', 'Testing_38', 'Testing_39', 'Testing_40',\n",
       "       'Testing_41', 'Testing_42', 'Testing_43', 'Testing_44', 'Testing_45',\n",
       "       'Testing_46', 'Testing_47', 'Testing_48', 'Testing_49', 'Testing_50',\n",
       "       'Testing_51', 'Testing_52', 'Testing_53', 'Testing_54', 'Testing_55',\n",
       "       'Testing_56', 'Testing_57', 'Testing_58', 'Testing_59', 'Testing_60',\n",
       "       'Testing_61', 'Testing_62', 'Testing_63', 'Testing_64', 'Testing_65',\n",
       "       'Testing_66', 'Testing_67', 'Testing_68', 'Testing_69', 'Testing_70',\n",
       "       'Testing_71', 'Testing_72', 'Testing_73', 'Testing_74', 'Testing_75',\n",
       "       'Testing_76', 'Testing_77', 'Testing_78', 'Testing_79', 'Testing_80'],\n",
       "      dtype='object')"
      ]
     },
     "execution_count": 13,
     "metadata": {},
     "output_type": "execute_result"
    }
   ],
   "source": []
  },
  {
   "cell_type": "code",
   "execution_count": null,
   "metadata": {},
   "outputs": [],
   "source": [
    "https://pandas.pydata.org/pandas-docs/stable/basics.html#summarizing-data-describe"
   ]
  }
 ],
 "metadata": {
  "hide_input": false,
  "kernelspec": {
   "display_name": "Python 3",
   "language": "python",
   "name": "python3"
  },
  "language_info": {
   "codemirror_mode": {
    "name": "ipython",
    "version": 3
   },
   "file_extension": ".py",
   "mimetype": "text/x-python",
   "name": "python",
   "nbconvert_exporter": "python",
   "pygments_lexer": "ipython3",
   "version": "3.6.6"
  },
  "toc": {
   "base_numbering": 1,
   "nav_menu": {},
   "number_sections": true,
   "sideBar": true,
   "skip_h1_title": false,
   "title_cell": "Table of Contents",
   "title_sidebar": "Contents",
   "toc_cell": false,
   "toc_position": {},
   "toc_section_display": true,
   "toc_window_display": false
  }
 },
 "nbformat": 4,
 "nbformat_minor": 2
}
