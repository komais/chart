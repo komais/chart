{
 "cells": [
  {
   "cell_type": "code",
   "execution_count": 22,
   "metadata": {},
   "outputs": [
    {
     "name": "stdout",
     "output_type": "stream",
     "text": [
      "The autoreload extension is already loaded. To reload it, use:\n",
      "  %reload_ext autoreload\n"
     ]
    }
   ],
   "source": [
    "%load_ext autoreload\n",
    "%autoreload 2\n",
    "%matplotlib inline"
   ]
  },
  {
   "cell_type": "code",
   "execution_count": 23,
   "metadata": {},
   "outputs": [],
   "source": [
    "import pandas as pd\n",
    "import sys \n",
    "sys.path.append('./')\n",
    "import check_data\n",
    "import plot"
   ]
  },
  {
   "cell_type": "code",
   "execution_count": 24,
   "metadata": {},
   "outputs": [],
   "source": [
    "df1 = pd.read_csv(\"../../data/mislabeled_samples/test_pro.tsv\",sep=\"\\t\").T\n",
    "df2 = pd.read_csv(\"../../data/mislabeled_samples/test_cli.tsv\",sep=\"\\t\").set_index('sample')"
   ]
  },
  {
   "cell_type": "markdown",
   "metadata": {},
   "source": [
    "# 数据统计\n",
    "* shape\n",
    "* describe()\n",
    "* 平行坐标图\n",
    "** 归一化或者不归一化\n",
    "* 属性和属性 或者 与目标之间的相关性\n",
    "* qq plot\n",
    "* boxplot(归一化）\n",
    "* 相关性的统计 热图\n",
    "* logistic 回归\n",
    "\n"
   ]
  },
  {
   "cell_type": "markdown",
   "metadata": {},
   "source": [
    "## 数据检查\n",
    "* 查看数据的维度，其中列代表特征，行代表实例。\n",
    "* 属性也被称之为预测因子、特征、独立变量、输入； 标签也通常被称之为结果、目标、依赖变量、响应。\n",
    "* 当标签是数值的，称之为回归问题；当标签是类别的，称之为分类问题"
   ]
  },
  {
   "cell_type": "markdown",
   "metadata": {},
   "source": [
    "### 数据的行数和列数"
   ]
  },
  {
   "cell_type": "code",
   "execution_count": 4,
   "metadata": {},
   "outputs": [
    {
     "name": "stdout",
     "output_type": "stream",
     "text": [
      "该数据有80个实例(样品)，4118个属性(维度)\n"
     ]
    }
   ],
   "source": [
    "check_data.shape(df1)"
   ]
  },
  {
   "cell_type": "markdown",
   "metadata": {},
   "source": [
    "### 每个属性的特征检查\n",
    "* na ： not available ； nan：not a number\n",
    "* 计算每个属性的相关特点，例如类型（float，string），长度，缺失的个数与比例\n",
    "* 添加float类型的mean，std等，string的类型\n",
    "* range ： float是min和max，string是类别\n",
    "* information： float是四分位数， string是个数"
   ]
  },
  {
   "cell_type": "code",
   "execution_count": 5,
   "metadata": {},
   "outputs": [
    {
     "data": {
      "text/html": [
       "<div>\n",
       "<style scoped>\n",
       "    .dataframe tbody tr th:only-of-type {\n",
       "        vertical-align: middle;\n",
       "    }\n",
       "\n",
       "    .dataframe tbody tr th {\n",
       "        vertical-align: top;\n",
       "    }\n",
       "\n",
       "    .dataframe thead th {\n",
       "        text-align: right;\n",
       "    }\n",
       "</style>\n",
       "<table border=\"1\" class=\"dataframe\">\n",
       "  <thead>\n",
       "    <tr style=\"text-align: right;\">\n",
       "      <th></th>\n",
       "      <th>A1BG</th>\n",
       "      <th>A2M</th>\n",
       "      <th>AAAS</th>\n",
       "      <th>AACS</th>\n",
       "      <th>AAGAB</th>\n",
       "      <th>AAK1</th>\n",
       "      <th>AAMDC</th>\n",
       "      <th>AARS</th>\n",
       "      <th>AARS2</th>\n",
       "      <th>AASDHPPT</th>\n",
       "      <th>...</th>\n",
       "      <th>ZNF185</th>\n",
       "      <th>ZNF207</th>\n",
       "      <th>ZNF280C</th>\n",
       "      <th>ZNF326</th>\n",
       "      <th>ZNF638</th>\n",
       "      <th>ZNF706</th>\n",
       "      <th>ZPR1</th>\n",
       "      <th>ZW10</th>\n",
       "      <th>ZYX</th>\n",
       "      <th>ZZEF1</th>\n",
       "    </tr>\n",
       "  </thead>\n",
       "  <tbody>\n",
       "    <tr>\n",
       "      <th>Testing_1</th>\n",
       "      <td>3.446723</td>\n",
       "      <td>5.994520</td>\n",
       "      <td>2.168001</td>\n",
       "      <td>NaN</td>\n",
       "      <td>NaN</td>\n",
       "      <td>1.613696</td>\n",
       "      <td>NaN</td>\n",
       "      <td>4.412741</td>\n",
       "      <td>3.166511</td>\n",
       "      <td>1.056106</td>\n",
       "      <td>...</td>\n",
       "      <td>NaN</td>\n",
       "      <td>2.528991</td>\n",
       "      <td>NaN</td>\n",
       "      <td>2.245434</td>\n",
       "      <td>NaN</td>\n",
       "      <td>1.058798</td>\n",
       "      <td>1.848274</td>\n",
       "      <td>2.565798</td>\n",
       "      <td>3.597116</td>\n",
       "      <td>1.636396</td>\n",
       "    </tr>\n",
       "    <tr>\n",
       "      <th>Testing_2</th>\n",
       "      <td>3.669580</td>\n",
       "      <td>6.371038</td>\n",
       "      <td>2.410543</td>\n",
       "      <td>1.024838</td>\n",
       "      <td>0.991114</td>\n",
       "      <td>1.192009</td>\n",
       "      <td>NaN</td>\n",
       "      <td>4.769827</td>\n",
       "      <td>3.096463</td>\n",
       "      <td>2.355183</td>\n",
       "      <td>...</td>\n",
       "      <td>1.005540</td>\n",
       "      <td>1.976372</td>\n",
       "      <td>NaN</td>\n",
       "      <td>1.287584</td>\n",
       "      <td>1.733361</td>\n",
       "      <td>NaN</td>\n",
       "      <td>0.997150</td>\n",
       "      <td>2.265862</td>\n",
       "      <td>3.967766</td>\n",
       "      <td>1.802938</td>\n",
       "    </tr>\n",
       "    <tr>\n",
       "      <th>Testing_3</th>\n",
       "      <td>3.398472</td>\n",
       "      <td>6.132440</td>\n",
       "      <td>NaN</td>\n",
       "      <td>NaN</td>\n",
       "      <td>1.096724</td>\n",
       "      <td>2.132646</td>\n",
       "      <td>1.141625</td>\n",
       "      <td>4.273302</td>\n",
       "      <td>0.998518</td>\n",
       "      <td>NaN</td>\n",
       "      <td>...</td>\n",
       "      <td>NaN</td>\n",
       "      <td>1.399577</td>\n",
       "      <td>NaN</td>\n",
       "      <td>1.908988</td>\n",
       "      <td>1.126579</td>\n",
       "      <td>NaN</td>\n",
       "      <td>1.120824</td>\n",
       "      <td>2.944166</td>\n",
       "      <td>3.779964</td>\n",
       "      <td>1.756282</td>\n",
       "    </tr>\n",
       "    <tr>\n",
       "      <th>Testing_4</th>\n",
       "      <td>3.112875</td>\n",
       "      <td>5.645341</td>\n",
       "      <td>2.211822</td>\n",
       "      <td>1.099892</td>\n",
       "      <td>1.056902</td>\n",
       "      <td>2.060400</td>\n",
       "      <td>NaN</td>\n",
       "      <td>4.904586</td>\n",
       "      <td>2.417391</td>\n",
       "      <td>NaN</td>\n",
       "      <td>...</td>\n",
       "      <td>1.076813</td>\n",
       "      <td>2.571042</td>\n",
       "      <td>NaN</td>\n",
       "      <td>2.288274</td>\n",
       "      <td>1.081373</td>\n",
       "      <td>1.780610</td>\n",
       "      <td>1.074043</td>\n",
       "      <td>NaN</td>\n",
       "      <td>3.918465</td>\n",
       "      <td>NaN</td>\n",
       "    </tr>\n",
       "    <tr>\n",
       "      <th>Testing_5</th>\n",
       "      <td>3.535956</td>\n",
       "      <td>5.532811</td>\n",
       "      <td>0.987561</td>\n",
       "      <td>1.076615</td>\n",
       "      <td>NaN</td>\n",
       "      <td>NaN</td>\n",
       "      <td>1.067227</td>\n",
       "      <td>2.481525</td>\n",
       "      <td>3.285401</td>\n",
       "      <td>1.049430</td>\n",
       "      <td>...</td>\n",
       "      <td>NaN</td>\n",
       "      <td>2.523349</td>\n",
       "      <td>NaN</td>\n",
       "      <td>2.886522</td>\n",
       "      <td>NaN</td>\n",
       "      <td>1.721321</td>\n",
       "      <td>NaN</td>\n",
       "      <td>1.795269</td>\n",
       "      <td>3.535849</td>\n",
       "      <td>NaN</td>\n",
       "    </tr>\n",
       "  </tbody>\n",
       "</table>\n",
       "<p>5 rows × 4118 columns</p>\n",
       "</div>"
      ],
      "text/plain": [
       "               A1BG       A2M      AAAS      AACS     AAGAB      AAK1  \\\n",
       "Testing_1  3.446723  5.994520  2.168001       NaN       NaN  1.613696   \n",
       "Testing_2  3.669580  6.371038  2.410543  1.024838  0.991114  1.192009   \n",
       "Testing_3  3.398472  6.132440       NaN       NaN  1.096724  2.132646   \n",
       "Testing_4  3.112875  5.645341  2.211822  1.099892  1.056902  2.060400   \n",
       "Testing_5  3.535956  5.532811  0.987561  1.076615       NaN       NaN   \n",
       "\n",
       "              AAMDC      AARS     AARS2  AASDHPPT    ...       ZNF185  \\\n",
       "Testing_1       NaN  4.412741  3.166511  1.056106    ...          NaN   \n",
       "Testing_2       NaN  4.769827  3.096463  2.355183    ...     1.005540   \n",
       "Testing_3  1.141625  4.273302  0.998518       NaN    ...          NaN   \n",
       "Testing_4       NaN  4.904586  2.417391       NaN    ...     1.076813   \n",
       "Testing_5  1.067227  2.481525  3.285401  1.049430    ...          NaN   \n",
       "\n",
       "             ZNF207  ZNF280C    ZNF326    ZNF638    ZNF706      ZPR1  \\\n",
       "Testing_1  2.528991      NaN  2.245434       NaN  1.058798  1.848274   \n",
       "Testing_2  1.976372      NaN  1.287584  1.733361       NaN  0.997150   \n",
       "Testing_3  1.399577      NaN  1.908988  1.126579       NaN  1.120824   \n",
       "Testing_4  2.571042      NaN  2.288274  1.081373  1.780610  1.074043   \n",
       "Testing_5  2.523349      NaN  2.886522       NaN  1.721321       NaN   \n",
       "\n",
       "               ZW10       ZYX     ZZEF1  \n",
       "Testing_1  2.565798  3.597116  1.636396  \n",
       "Testing_2  2.265862  3.967766  1.802938  \n",
       "Testing_3  2.944166  3.779964  1.756282  \n",
       "Testing_4       NaN  3.918465       NaN  \n",
       "Testing_5  1.795269  3.535849       NaN  \n",
       "\n",
       "[5 rows x 4118 columns]"
      ]
     },
     "execution_count": 5,
     "metadata": {},
     "output_type": "execute_result"
    }
   ],
   "source": [
    "df1.head()"
   ]
  },
  {
   "cell_type": "code",
   "execution_count": 6,
   "metadata": {
    "scrolled": true
   },
   "outputs": [
    {
     "data": {
      "text/html": [
       "<div>\n",
       "<style scoped>\n",
       "    .dataframe tbody tr th:only-of-type {\n",
       "        vertical-align: middle;\n",
       "    }\n",
       "\n",
       "    .dataframe tbody tr th {\n",
       "        vertical-align: top;\n",
       "    }\n",
       "\n",
       "    .dataframe thead th {\n",
       "        text-align: right;\n",
       "    }\n",
       "</style>\n",
       "<table border=\"1\" class=\"dataframe\">\n",
       "  <thead>\n",
       "    <tr style=\"text-align: right;\">\n",
       "      <th></th>\n",
       "      <th>col</th>\n",
       "      <th>name</th>\n",
       "      <th>type</th>\n",
       "      <th>length</th>\n",
       "      <th>NA_count</th>\n",
       "      <th>missing_rate</th>\n",
       "      <th>range</th>\n",
       "      <th>information</th>\n",
       "    </tr>\n",
       "  </thead>\n",
       "  <tbody>\n",
       "    <tr>\n",
       "      <th>0</th>\n",
       "      <td>0</td>\n",
       "      <td>gender</td>\n",
       "      <td>string</td>\n",
       "      <td>80</td>\n",
       "      <td>0</td>\n",
       "      <td>0.0</td>\n",
       "      <td>Female,Male</td>\n",
       "      <td>31,49</td>\n",
       "    </tr>\n",
       "    <tr>\n",
       "      <th>1</th>\n",
       "      <td>1</td>\n",
       "      <td>msi</td>\n",
       "      <td>string</td>\n",
       "      <td>80</td>\n",
       "      <td>0</td>\n",
       "      <td>0.0</td>\n",
       "      <td>MSI-Low/MSS,MSI-High</td>\n",
       "      <td>66,14</td>\n",
       "    </tr>\n",
       "  </tbody>\n",
       "</table>\n",
       "</div>"
      ],
      "text/plain": [
       "   col    name    type  length  NA_count  missing_rate                 range  \\\n",
       "0    0  gender  string      80         0           0.0           Female,Male   \n",
       "1    1     msi  string      80         0           0.0  MSI-Low/MSS,MSI-High   \n",
       "\n",
       "  information  \n",
       "0       31,49  \n",
       "1       66,14  "
      ]
     },
     "execution_count": 6,
     "metadata": {},
     "output_type": "execute_result"
    }
   ],
   "source": [
    "check_data.feature_type(df2)"
   ]
  },
  {
   "cell_type": "markdown",
   "metadata": {},
   "source": [
    "### 对标签或者属性的分布进行正态分布的检测"
   ]
  },
  {
   "cell_type": "code",
   "execution_count": 7,
   "metadata": {},
   "outputs": [
    {
     "data": {
      "image/png": "[encoded data removed]",
      "text/plain": [
       "<Figure size 432x288 with 1 Axes>"
      ]
     },
     "metadata": {},
     "output_type": "display_data"
    },
    {
     "name": "stdout",
     "output_type": "stream",
     "text": [
      "R^2 = 0.858062292643213\n"
     ]
    }
   ],
   "source": [
    "gene = 'AAK1'\n",
    "r2 = plot.qqplot(df1[gene],gene)\n",
    "print(\"R^2 = {0}\".format(r2))"
   ]
  },
  {
   "cell_type": "markdown",
   "metadata": {},
   "source": [
    "### 平行坐标图"
   ]
  },
  {
   "cell_type": "markdown",
   "metadata": {},
   "source": [
    "画出所有属性的折线图，并按组来上色，观察分布情况"
   ]
  },
  {
   "cell_type": "code",
   "execution_count": 37,
   "metadata": {},
   "outputs": [],
   "source": [
    "tt = plot.myPlot(df1.T.head(10),color_by=pd.DataFrame(df2['gender']))"
   ]
  },
  {
   "cell_type": "code",
   "execution_count": 38,
   "metadata": {},
   "outputs": [
    {
     "data": {
      "application/vnd.plotly.v1+json": {
       "data": [
        {
         "legendgroup": "Male",
         "line": {
          "color": "rgb(145,191,219)"
         },
         "name": "Male",
         "showlegend": true,
         "type": "scatter",
         "uid": "c0e542ba-d605-11e8-af20-a81e84e6c740",
         "x": [
          "A1BG",
          "A2M",
          "AAAS",
          "AACS",
          "AAGAB",
          "AAK1",
          "AAMDC",
          "AARS",
          "AARS2",
          "AASDHPPT"
         ],
         "y": [
          3.9568532392881,
          5.4126322011768195,
          null,
          null,
          null,
          null,
          null,
          4.368986458329339,
          null,
          null
         ]
        },
        {
         "legendgroup": "Male",
         "line": {
          "color": "rgb(145,191,219)"
         },
         "name": "Male",
         "showlegend": false,
         "type": "scatter",
         "uid": "c0e548b4-d605-11e8-af20-a81e84e6c740",
         "x": [
          "A1BG",
          "A2M",
          "AAAS",
          "AACS",
          "AAGAB",
          "AAK1",
          "AAMDC",
          "AARS",
          "AARS2",
          "AASDHPPT"
         ],
         "y": [
          3.5645763471574803,
          6.905626016456701,
          2.4998208350840097,
          1.40851402777901,
          1.01523369988498,
          null,
          1.3920761080249802,
          4.84252929574435,
          1.1424717052325,
          1.5233196760224
         ]
        },
        {
         "legendgroup": "Male",
         "line": {
          "color": "rgb(145,191,219)"
         },
         "name": "Male",
         "showlegend": false,
         "type": "scatter",
         "uid": "c0e54cec-d605-11e8-af20-a81e84e6c740",
         "x": [
          "A1BG",
          "A2M",
          "AAAS",
          "AACS",
          "AAGAB",
          "AAK1",
          "AAMDC",
          "AARS",
          "AARS2",
          "AASDHPPT"
         ],
         "y": [
          3.11287453774938,
          5.6453405614965,
          2.21182179988104,
          1.0998923824396398,
          1.0569019428453499,
          2.06040013391011,
          null,
          4.90458636524111,
          2.41739094486806,
          null
         ]
        },
        {
         "legendgroup": "Female",
         "line": {
          "color": "rgb(252,141,89)"
         },
         "name": "Female",
         "showlegend": true,
         "type": "scatter",
         "uid": "c0e550b6-d605-11e8-af20-a81e84e6c740",
         "x": [
          "A1BG",
          "A2M",
          "AAAS",
          "AACS",
          "AAGAB",
          "AAK1",
          "AAMDC",
          "AARS",
          "AARS2",
          "AASDHPPT"
         ],
         "y": [
          3.4467226479524498,
          5.994520057153459,
          2.16800100282735,
          null,
          null,
          1.61369551680054,
          null,
          4.41274094396811,
          3.16651083481783,
          1.05610612353621
         ]
        },
        {
         "legendgroup": "Male",
         "line": {
          "color": "rgb(145,191,219)"
         },
         "name": "Male",
         "showlegend": false,
         "type": "scatter",
         "uid": "c0e55462-d605-11e8-af20-a81e84e6c740",
         "x": [
          "A1BG",
          "A2M",
          "AAAS",
          "AACS",
          "AAGAB",
          "AAK1",
          "AAMDC",
          "AARS",
          "AARS2",
          "AASDHPPT"
         ],
         "y": [
          2.8287122493345396,
          6.0989533035417,
          2.57551931967134,
          1.8490700820656398,
          null,
          1.27397185482978,
          null,
          4.469706288708389,
          2.41396495244369,
          1.00491304925533
         ]
        },
        {
         "legendgroup": "Male",
         "line": {
          "color": "rgb(145,191,219)"
         },
         "name": "Male",
         "showlegend": false,
         "type": "scatter",
         "uid": "c0e557f0-d605-11e8-af20-a81e84e6c740",
         "x": [
          "A1BG",
          "A2M",
          "AAAS",
          "AACS",
          "AAGAB",
          "AAK1",
          "AAMDC",
          "AARS",
          "AARS2",
          "AASDHPPT"
         ],
         "y": [
          3.5691876124278394,
          5.96193635264858,
          1.0086016172160401,
          1.0998923824396398,
          1.0569019428453499,
          1.63526605234666,
          1.94064075910959,
          4.39434113105162,
          2.05862709130219,
          1.06939011649125
         ]
        },
        {
         "legendgroup": "Female",
         "line": {
          "color": "rgb(252,141,89)"
         },
         "name": "Female",
         "showlegend": false,
         "type": "scatter",
         "uid": "c0e55b74-d605-11e8-af20-a81e84e6c740",
         "x": [
          "A1BG",
          "A2M",
          "AAAS",
          "AACS",
          "AAGAB",
          "AAK1",
          "AAMDC",
          "AARS",
          "AARS2",
          "AASDHPPT"
         ],
         "y": [
          3.74044443852763,
          5.7058074918282,
          2.26874343854218,
          2.1011266875291597,
          1.0052580463963001,
          null,
          1.02879354215339,
          4.54715117397611,
          1.4126007472509199,
          2.4942105051202597
         ]
        },
        {
         "legendgroup": "Male",
         "line": {
          "color": "rgb(145,191,219)"
         },
         "name": "Male",
         "showlegend": false,
         "type": "scatter",
         "uid": "c0e55eee-d605-11e8-af20-a81e84e6c740",
         "x": [
          "A1BG",
          "A2M",
          "AAAS",
          "AACS",
          "AAGAB",
          "AAK1",
          "AAMDC",
          "AARS",
          "AARS2",
          "AASDHPPT"
         ],
         "y": [
          3.00964584983622,
          5.47173817039407,
          2.71752278015999,
          2.22700848103247,
          1.03805729687483,
          null,
          1.01524997044423,
          4.83323987708376,
          1.16632434082758,
          1.0145084647357598
         ]
        },
        {
         "legendgroup": "Female",
         "line": {
          "color": "rgb(252,141,89)"
         },
         "name": "Female",
         "showlegend": false,
         "type": "scatter",
         "uid": "c0e56268-d605-11e8-af20-a81e84e6c740",
         "x": [
          "A1BG",
          "A2M",
          "AAAS",
          "AACS",
          "AAGAB",
          "AAK1",
          "AAMDC",
          "AARS",
          "AARS2",
          "AASDHPPT"
         ],
         "y": [
          4.98627258089667,
          8.21014329758554,
          2.81945959603419,
          2.4647752369903198,
          0.99111448794322,
          0.9628873049168191,
          1.01145806300837,
          5.09006760143972,
          2.77995609574954,
          1.2069843285982098
         ]
        },
        {
         "legendgroup": "Female",
         "line": {
          "color": "rgb(252,141,89)"
         },
         "name": "Female",
         "showlegend": false,
         "type": "scatter",
         "uid": "c0e565e2-d605-11e8-af20-a81e84e6c740",
         "x": [
          "A1BG",
          "A2M",
          "AAAS",
          "AACS",
          "AAGAB",
          "AAK1",
          "AAMDC",
          "AARS",
          "AARS2",
          "AASDHPPT"
         ],
         "y": [
          3.1738809297096697,
          6.48099123966293,
          2.2399137839727596,
          null,
          null,
          null,
          1.0142236363555601,
          4.04690402733727,
          1.94204456313777,
          1.81376933159376
         ]
        },
        {
         "legendgroup": "Male",
         "line": {
          "color": "rgb(145,191,219)"
         },
         "name": "Male",
         "showlegend": false,
         "type": "scatter",
         "uid": "c0e56970-d605-11e8-af20-a81e84e6c740",
         "x": [
          "A1BG",
          "A2M",
          "AAAS",
          "AACS",
          "AAGAB",
          "AAK1",
          "AAMDC",
          "AARS",
          "AARS2",
          "AASDHPPT"
         ],
         "y": [
          2.53149439026854,
          5.49626834415834,
          1.4704743103508202,
          2.82177328515283,
          1.9111215439005402,
          0.972636721098597,
          1.64767852887355,
          4.31587061575167,
          1.7927291657702402,
          1.5002451904055198
         ]
        },
        {
         "legendgroup": "Female",
         "line": {
          "color": "rgb(252,141,89)"
         },
         "name": "Female",
         "showlegend": false,
         "type": "scatter",
         "uid": "c0e56cf4-d605-11e8-af20-a81e84e6c740",
         "x": [
          "A1BG",
          "A2M",
          "AAAS",
          "AACS",
          "AAGAB",
          "AAK1",
          "AAMDC",
          "AARS",
          "AARS2",
          "AASDHPPT"
         ],
         "y": [
          3.6385086918589105,
          6.305606292392469,
          3.6253679298211097,
          1.57713892176335,
          1.0359638813056802,
          null,
          null,
          3.83061917530115,
          null,
          null
         ]
        },
        {
         "legendgroup": "Female",
         "line": {
          "color": "rgb(252,141,89)"
         },
         "name": "Female",
         "showlegend": false,
         "type": "scatter",
         "uid": "c0e5706e-d605-11e8-af20-a81e84e6c740",
         "x": [
          "A1BG",
          "A2M",
          "AAAS",
          "AACS",
          "AAGAB",
          "AAK1",
          "AAMDC",
          "AARS",
          "AARS2",
          "AASDHPPT"
         ],
         "y": [
          4.27789641162052,
          6.28088230527511,
          null,
          null,
          null,
          1.07542267086727,
          1.0142236363555601,
          4.5867212109572595,
          1.87708669052473,
          null
         ]
        },
        {
         "legendgroup": "Male",
         "line": {
          "color": "rgb(145,191,219)"
         },
         "name": "Male",
         "showlegend": false,
         "type": "scatter",
         "uid": "c0e573de-d605-11e8-af20-a81e84e6c740",
         "x": [
          "A1BG",
          "A2M",
          "AAAS",
          "AACS",
          "AAGAB",
          "AAK1",
          "AAMDC",
          "AARS",
          "AARS2",
          "AASDHPPT"
         ],
         "y": [
          3.8540464225194198,
          5.2593768526907,
          2.2338572688108,
          null,
          1.06697767638036,
          null,
          1.10480055864805,
          4.58764170812752,
          2.43129542982708,
          null
         ]
        },
        {
         "legendgroup": "Male",
         "line": {
          "color": "rgb(145,191,219)"
         },
         "name": "Male",
         "showlegend": false,
         "type": "scatter",
         "uid": "c0e57758-d605-11e8-af20-a81e84e6c740",
         "x": [
          "A1BG",
          "A2M",
          "AAAS",
          "AACS",
          "AAGAB",
          "AAK1",
          "AAMDC",
          "AARS",
          "AARS2",
          "AASDHPPT"
         ],
         "y": [
          3.5757543344815295,
          5.53058944604922,
          1.55698808621769,
          2.9546967160746602,
          1.5298165684435099,
          1.04504527325487,
          1.74623424197519,
          4.68632432747435,
          2.70823940744851,
          2.01759212190021
         ]
        },
        {
         "legendgroup": "Male",
         "line": {
          "color": "rgb(145,191,219)"
         },
         "name": "Male",
         "showlegend": false,
         "type": "scatter",
         "uid": "c0e57ac8-d605-11e8-af20-a81e84e6c740",
         "x": [
          "A1BG",
          "A2M",
          "AAAS",
          "AACS",
          "AAGAB",
          "AAK1",
          "AAMDC",
          "AARS",
          "AARS2",
          "AASDHPPT"
         ],
         "y": [
          2.50012315868521,
          6.445045416439521,
          2.69257350697021,
          1.31432470128625,
          0.99111448794322,
          1.83150577634997,
          1.3251788007888001,
          5.35321329700026,
          2.84503834222961,
          1.2520152359131598
         ]
        },
        {
         "legendgroup": "Male",
         "line": {
          "color": "rgb(145,191,219)"
         },
         "name": "Male",
         "showlegend": false,
         "type": "scatter",
         "uid": "c0e57e42-d605-11e8-af20-a81e84e6c740",
         "x": [
          "A1BG",
          "A2M",
          "AAAS",
          "AACS",
          "AAGAB",
          "AAK1",
          "AAMDC",
          "AARS",
          "AARS2",
          "AASDHPPT"
         ],
         "y": [
          2.44439878162391,
          6.45534920348141,
          2.12171873153648,
          0.9945943348960798,
          1.02818261398489,
          1.06533851499275,
          null,
          4.319877587970891,
          2.67948969638221,
          null
         ]
        },
        {
         "legendgroup": "Male",
         "line": {
          "color": "rgb(145,191,219)"
         },
         "name": "Male",
         "showlegend": false,
         "type": "scatter",
         "uid": "c0e581bc-d605-11e8-af20-a81e84e6c740",
         "x": [
          "A1BG",
          "A2M",
          "AAAS",
          "AACS",
          "AAGAB",
          "AAK1",
          "AAMDC",
          "AARS",
          "AARS2",
          "AASDHPPT"
         ],
         "y": [
          null,
          5.372677370349081,
          1.7740293994988603,
          1.00186067380989,
          1.0367636458346001,
          1.07542267086727,
          2.4467432535289904,
          4.32724382791758,
          1.16497348445752,
          null
         ]
        },
        {
         "legendgroup": "Female",
         "line": {
          "color": "rgb(252,141,89)"
         },
         "name": "Female",
         "showlegend": false,
         "type": "scatter",
         "uid": "c0e5852c-d605-11e8-af20-a81e84e6c740",
         "x": [
          "A1BG",
          "A2M",
          "AAAS",
          "AACS",
          "AAGAB",
          "AAK1",
          "AAMDC",
          "AARS",
          "AARS2",
          "AASDHPPT"
         ],
         "y": [
          3.6792387954765697,
          6.01402448503538,
          1.0086016172160401,
          null,
          null,
          2.0395090830744698,
          null,
          4.3204465490092705,
          2.64663790865316,
          1.06939011649125
         ]
        },
        {
         "legendgroup": "Male",
         "line": {
          "color": "rgb(145,191,219)"
         },
         "name": "Male",
         "showlegend": false,
         "type": "scatter",
         "uid": "c0e5889c-d605-11e8-af20-a81e84e6c740",
         "x": [
          "A1BG",
          "A2M",
          "AAAS",
          "AACS",
          "AAGAB",
          "AAK1",
          "AAMDC",
          "AARS",
          "AARS2",
          "AASDHPPT"
         ],
         "y": [
          1.91183905219512,
          5.061908806174469,
          2.2453435756570403,
          1.77390306066003,
          null,
          1.04504527325487,
          1.39701568999526,
          4.38792282771599,
          2.42944825393415,
          1.9920717848981002
         ]
        },
        {
         "legendgroup": "Male",
         "line": {
          "color": "rgb(145,191,219)"
         },
         "name": "Male",
         "showlegend": false,
         "type": "scatter",
         "uid": "c0e58c16-d605-11e8-af20-a81e84e6c740",
         "x": [
          "A1BG",
          "A2M",
          "AAAS",
          "AACS",
          "AAGAB",
          "AAK1",
          "AAMDC",
          "AARS",
          "AARS2",
          "AASDHPPT"
         ],
         "y": [
          3.2225562058399904,
          5.7548859012492,
          1.73783675722456,
          1.00186067380989,
          null,
          1.07542267086727,
          1.0142236363555601,
          4.891808355824651,
          1.87132465211397,
          1.7391595006136102
         ]
        },
        {
         "legendgroup": "Male",
         "line": {
          "color": "rgb(145,191,219)"
         },
         "name": "Male",
         "showlegend": false,
         "type": "scatter",
         "uid": "c0e58f86-d605-11e8-af20-a81e84e6c740",
         "x": [
          "A1BG",
          "A2M",
          "AAAS",
          "AACS",
          "AAGAB",
          "AAK1",
          "AAMDC",
          "AARS",
          "AARS2",
          "AASDHPPT"
         ],
         "y": [
          1.3223685551553601,
          5.535452473535099,
          3.5544799973906,
          2.03849084255943,
          1.12258260105199,
          null,
          1.17372963799334,
          4.79104459549079,
          1.7516553897764702,
          1.13366248141502
         ]
        },
        {
         "legendgroup": "Male",
         "line": {
          "color": "rgb(145,191,219)"
         },
         "name": "Male",
         "showlegend": false,
         "type": "scatter",
         "uid": "c0e592f6-d605-11e8-af20-a81e84e6c740",
         "x": [
          "A1BG",
          "A2M",
          "AAAS",
          "AACS",
          "AAGAB",
          "AAK1",
          "AAMDC",
          "AARS",
          "AARS2",
          "AASDHPPT"
         ],
         "y": [
          3.6695804062468,
          6.371037944960201,
          2.4105428081762,
          1.02483846226713,
          0.99111448794322,
          1.1920088144193302,
          null,
          4.7698265288818,
          3.0964631895945196,
          2.35518285053525
         ]
        },
        {
         "legendgroup": "Male",
         "line": {
          "color": "rgb(145,191,219)"
         },
         "name": "Male",
         "showlegend": false,
         "type": "scatter",
         "uid": "c0e59666-d605-11e8-af20-a81e84e6c740",
         "x": [
          "A1BG",
          "A2M",
          "AAAS",
          "AACS",
          "AAGAB",
          "AAK1",
          "AAMDC",
          "AARS",
          "AARS2",
          "AASDHPPT"
         ],
         "y": [
          4.40447551348546,
          7.48900775206629,
          1.09839319413485,
          1.00186067380989,
          null,
          1.07542267086727,
          1.0142236363555601,
          4.09473032547892,
          1.85682772518969,
          null
         ]
        },
        {
         "legendgroup": "Male",
         "line": {
          "color": "rgb(145,191,219)"
         },
         "name": "Male",
         "showlegend": false,
         "type": "scatter",
         "uid": "c0e59c7e-d605-11e8-af20-a81e84e6c740",
         "x": [
          "A1BG",
          "A2M",
          "AAAS",
          "AACS",
          "AAGAB",
          "AAK1",
          "AAMDC",
          "AARS",
          "AARS2",
          "AASDHPPT"
         ],
         "y": [
          3.25562838097532,
          6.35243769994773,
          2.11359193674844,
          1.48258954019649,
          1.3896125798624799,
          2.41422783648875,
          1.01145806300837,
          4.126862125861661,
          0.89769406653957,
          1.00491304925533
         ]
        },
        {
         "legendgroup": "Male",
         "line": {
          "color": "rgb(145,191,219)"
         },
         "name": "Male",
         "showlegend": false,
         "type": "scatter",
         "uid": "c0e5a4c6-d605-11e8-af20-a81e84e6c740",
         "x": [
          "A1BG",
          "A2M",
          "AAAS",
          "AACS",
          "AAGAB",
          "AAK1",
          "AAMDC",
          "AARS",
          "AARS2",
          "AASDHPPT"
         ],
         "y": [
          3.69621238006336,
          5.685035282571031,
          2.11359193674844,
          1.08439701966148,
          null,
          null,
          null,
          4.60366493799604,
          null,
          null
         ]
        },
        {
         "legendgroup": "Male",
         "line": {
          "color": "rgb(145,191,219)"
         },
         "name": "Male",
         "showlegend": false,
         "type": "scatter",
         "uid": "c0e5aade-d605-11e8-af20-a81e84e6c740",
         "x": [
          "A1BG",
          "A2M",
          "AAAS",
          "AACS",
          "AAGAB",
          "AAK1",
          "AAMDC",
          "AARS",
          "AARS2",
          "AASDHPPT"
         ],
         "y": [
          3.7903569232410494,
          6.555174151224411,
          2.36631806706837,
          2.14955324680551,
          null,
          1.1202909975556299,
          1.67668273771783,
          4.865935488291849,
          2.04224400893629,
          null
         ]
        },
        {
         "legendgroup": "Male",
         "line": {
          "color": "rgb(145,191,219)"
         },
         "name": "Male",
         "showlegend": false,
         "type": "scatter",
         "uid": "c0e5b0a6-d605-11e8-af20-a81e84e6c740",
         "x": [
          "A1BG",
          "A2M",
          "AAAS",
          "AACS",
          "AAGAB",
          "AAK1",
          "AAMDC",
          "AARS",
          "AARS2",
          "AASDHPPT"
         ],
         "y": [
          3.6453741040981797,
          6.39108693632353,
          2.50173543918015,
          1.0608531607782299,
          1.0227129601087501,
          null,
          null,
          4.9753031561232,
          2.01851600170076,
          1.03589537660383
         ]
        },
        {
         "legendgroup": "Male",
         "line": {
          "color": "rgb(145,191,219)"
         },
         "name": "Male",
         "showlegend": false,
         "type": "scatter",
         "uid": "c0e5c082-d605-11e8-af20-a81e84e6c740",
         "x": [
          "A1BG",
          "A2M",
          "AAAS",
          "AACS",
          "AAGAB",
          "AAK1",
          "AAMDC",
          "AARS",
          "AARS2",
          "AASDHPPT"
         ],
         "y": [
          2.2225698206158198,
          5.5729708898153305,
          2.62391125934332,
          1.8472180493484598,
          1.4177698632658502,
          1.8422209142208401,
          null,
          5.06436240462637,
          1.30849774436443,
          1.07925601827744
         ]
        },
        {
         "legendgroup": "Male",
         "line": {
          "color": "rgb(145,191,219)"
         },
         "name": "Male",
         "showlegend": false,
         "type": "scatter",
         "uid": "c0e60e34-d605-11e8-af20-a81e84e6c740",
         "x": [
          "A1BG",
          "A2M",
          "AAAS",
          "AACS",
          "AAGAB",
          "AAK1",
          "AAMDC",
          "AARS",
          "AARS2",
          "AASDHPPT"
         ],
         "y": [
          2.53025823238162,
          6.8219692897695,
          2.0368406591234196,
          1.93378651341344,
          1.11804623118907,
          1.4220380940206998,
          null,
          5.152915791159769,
          2.49048690190197,
          1.4956171371616798
         ]
        },
        {
         "legendgroup": "Female",
         "line": {
          "color": "rgb(252,141,89)"
         },
         "name": "Female",
         "showlegend": false,
         "type": "scatter",
         "uid": "c0e616c2-d605-11e8-af20-a81e84e6c740",
         "x": [
          "A1BG",
          "A2M",
          "AAAS",
          "AACS",
          "AAGAB",
          "AAK1",
          "AAMDC",
          "AARS",
          "AARS2",
          "AASDHPPT"
         ],
         "y": [
          2.1092147980754,
          6.0822990256605305,
          3.5983606540200603,
          2.3947611163360496,
          0.9982065080402499,
          1.7449297860081001,
          1.02014658202786,
          5.13826044580504,
          2.05681264046274,
          1.4613234535819097
         ]
        },
        {
         "legendgroup": "Female",
         "line": {
          "color": "rgb(252,141,89)"
         },
         "name": "Female",
         "showlegend": false,
         "type": "scatter",
         "uid": "c0e61c26-d605-11e8-af20-a81e84e6c740",
         "x": [
          "A1BG",
          "A2M",
          "AAAS",
          "AACS",
          "AAGAB",
          "AAK1",
          "AAMDC",
          "AARS",
          "AARS2",
          "AASDHPPT"
         ],
         "y": [
          3.78893062342746,
          6.43865670541757,
          2.5676518995548396,
          1.02483846226713,
          0.99111448794322,
          1.2686102769799,
          1.01145806300837,
          4.5367247870698,
          2.81926149389621,
          1.70280613974603
         ]
        },
        {
         "legendgroup": "Female",
         "line": {
          "color": "rgb(252,141,89)"
         },
         "name": "Female",
         "showlegend": false,
         "type": "scatter",
         "uid": "c0e62310-d605-11e8-af20-a81e84e6c740",
         "x": [
          "A1BG",
          "A2M",
          "AAAS",
          "AACS",
          "AAGAB",
          "AAK1",
          "AAMDC",
          "AARS",
          "AARS2",
          "AASDHPPT"
         ],
         "y": [
          2.79625822733875,
          5.06708492745029,
          1.5206938408893302,
          1.9787844353182802,
          1.01089659482907,
          1.04504527325487,
          1.36680430823468,
          4.982152903155759,
          1.13793426422732,
          1.48846638347727
         ]
        },
        {
         "legendgroup": "Male",
         "line": {
          "color": "rgb(145,191,219)"
         },
         "name": "Male",
         "showlegend": false,
         "type": "scatter",
         "uid": "c0e62c52-d605-11e8-af20-a81e84e6c740",
         "x": [
          "A1BG",
          "A2M",
          "AAAS",
          "AACS",
          "AAGAB",
          "AAK1",
          "AAMDC",
          "AARS",
          "AARS2",
          "AASDHPPT"
         ],
         "y": [
          3.9131817343082704,
          5.963700672551839,
          1.10210874991172,
          null,
          1.0406941353373,
          1.93644779057287,
          1.0173414479681,
          4.591923444532901,
          2.3152017676180603,
          null
         ]
        },
        {
         "legendgroup": "Male",
         "line": {
          "color": "rgb(145,191,219)"
         },
         "name": "Male",
         "showlegend": false,
         "type": "scatter",
         "uid": "c0e63468-d605-11e8-af20-a81e84e6c740",
         "x": [
          "A1BG",
          "A2M",
          "AAAS",
          "AACS",
          "AAGAB",
          "AAK1",
          "AAMDC",
          "AARS",
          "AARS2",
          "AASDHPPT"
         ],
         "y": [
          3.5460650404498,
          6.0671120113963095,
          1.74523248356026,
          null,
          1.12258260105199,
          1.6623719798169199,
          null,
          4.8827528981481505,
          3.21867516992729,
          2.35788793658119
         ]
        },
        {
         "legendgroup": "Female",
         "line": {
          "color": "rgb(252,141,89)"
         },
         "name": "Female",
         "showlegend": false,
         "type": "scatter",
         "uid": "c0e638a0-d605-11e8-af20-a81e84e6c740",
         "x": [
          "A1BG",
          "A2M",
          "AAAS",
          "AACS",
          "AAGAB",
          "AAK1",
          "AAMDC",
          "AARS",
          "AARS2",
          "AASDHPPT"
         ],
         "y": [
          3.42451180183654,
          5.66165966447068,
          2.20543428122873,
          1.02483846226713,
          1.20311065472102,
          1.53172918507209,
          null,
          4.661098186681901,
          2.28541247813833,
          1.2123431075727
         ]
        },
        {
         "legendgroup": "Male",
         "line": {
          "color": "rgb(145,191,219)"
         },
         "name": "Male",
         "showlegend": false,
         "type": "scatter",
         "uid": "c0e63b98-d605-11e8-af20-a81e84e6c740",
         "x": [
          "A1BG",
          "A2M",
          "AAAS",
          "AACS",
          "AAGAB",
          "AAK1",
          "AAMDC",
          "AARS",
          "AARS2",
          "AASDHPPT"
         ],
         "y": [
          3.9510790496329804,
          6.63784286919579,
          2.4020662299203797,
          2.3975477892155097,
          null,
          1.06028084957578,
          2.46888125240476,
          4.60154377120712,
          2.85727476596398,
          1.6359455268142098
         ]
        },
        {
         "legendgroup": "Male",
         "line": {
          "color": "rgb(145,191,219)"
         },
         "name": "Male",
         "showlegend": false,
         "type": "scatter",
         "uid": "c0e63e72-d605-11e8-af20-a81e84e6c740",
         "x": [
          "A1BG",
          "A2M",
          "AAAS",
          "AACS",
          "AAGAB",
          "AAK1",
          "AAMDC",
          "AARS",
          "AARS2",
          "AASDHPPT"
         ],
         "y": [
          1.59634671483682,
          5.94287672558743,
          1.93367163967319,
          1.7548523265688798,
          null,
          1.04589857729304,
          1.39133858819126,
          5.1708856805288,
          3.4547976367609197,
          1.52230146291188
         ]
        },
        {
         "legendgroup": "Female",
         "line": {
          "color": "rgb(252,141,89)"
         },
         "name": "Female",
         "showlegend": false,
         "type": "scatter",
         "uid": "c0e64142-d605-11e8-af20-a81e84e6c740",
         "x": [
          "A1BG",
          "A2M",
          "AAAS",
          "AACS",
          "AAGAB",
          "AAK1",
          "AAMDC",
          "AARS",
          "AARS2",
          "AASDHPPT"
         ],
         "y": [
          3.1869759816271297,
          5.648713310313929,
          2.8200148740369397,
          null,
          1.01089659482907,
          1.04504527325487,
          0.99366769892017,
          4.619720865621121,
          2.65271643942605,
          1.4946552648303602
         ]
        },
        {
         "legendgroup": "Male",
         "line": {
          "color": "rgb(145,191,219)"
         },
         "name": "Male",
         "showlegend": false,
         "type": "scatter",
         "uid": "c0e643fe-d605-11e8-af20-a81e84e6c740",
         "x": [
          "A1BG",
          "A2M",
          "AAAS",
          "AACS",
          "AAGAB",
          "AAK1",
          "AAMDC",
          "AARS",
          "AARS2",
          "AASDHPPT"
         ],
         "y": [
          3.5900139905084503,
          6.23911802513181,
          1.2833333241170801,
          null,
          null,
          1.30860553198265,
          null,
          2.8826966931964,
          null,
          1.21881323382269
         ]
        },
        {
         "legendgroup": "Female",
         "line": {
          "color": "rgb(252,141,89)"
         },
         "name": "Female",
         "showlegend": false,
         "type": "scatter",
         "uid": "c0e646c4-d605-11e8-af20-a81e84e6c740",
         "x": [
          "A1BG",
          "A2M",
          "AAAS",
          "AACS",
          "AAGAB",
          "AAK1",
          "AAMDC",
          "AARS",
          "AARS2",
          "AASDHPPT"
         ],
         "y": [
          5.61615758765507,
          6.94810817247808,
          1.1798879673929599,
          null,
          null,
          1.17741975181246,
          null,
          3.91361202382425,
          null,
          1.10321509213274
         ]
        },
        {
         "legendgroup": "Male",
         "line": {
          "color": "rgb(145,191,219)"
         },
         "name": "Male",
         "showlegend": false,
         "type": "scatter",
         "uid": "c0e6499e-d605-11e8-af20-a81e84e6c740",
         "x": [
          "A1BG",
          "A2M",
          "AAAS",
          "AACS",
          "AAGAB",
          "AAK1",
          "AAMDC",
          "AARS",
          "AARS2",
          "AASDHPPT"
         ],
         "y": [
          3.09986973640628,
          6.03836212677954,
          null,
          1.2077306192777,
          1.1510473689148202,
          1.10937319038175,
          null,
          4.55998391650249,
          2.95444533458089,
          null
         ]
        },
        {
         "legendgroup": "Female",
         "line": {
          "color": "rgb(252,141,89)"
         },
         "name": "Female",
         "showlegend": false,
         "type": "scatter",
         "uid": "c0e64c64-d605-11e8-af20-a81e84e6c740",
         "x": [
          "A1BG",
          "A2M",
          "AAAS",
          "AACS",
          "AAGAB",
          "AAK1",
          "AAMDC",
          "AARS",
          "AARS2",
          "AASDHPPT"
         ],
         "y": [
          3.49828912179644,
          6.424258302267329,
          2.27870057612752,
          0.979942342319088,
          1.01089659482907,
          2.14968667277861,
          1.36200838928563,
          4.233465251255799,
          2.75697156407123,
          0.986304773117901
         ]
        },
        {
         "legendgroup": "Female",
         "line": {
          "color": "rgb(252,141,89)"
         },
         "name": "Female",
         "showlegend": false,
         "type": "scatter",
         "uid": "c0e64f2a-d605-11e8-af20-a81e84e6c740",
         "x": [
          "A1BG",
          "A2M",
          "AAAS",
          "AACS",
          "AAGAB",
          "AAK1",
          "AAMDC",
          "AARS",
          "AARS2",
          "AASDHPPT"
         ],
         "y": [
          3.5475122283036806,
          5.87081065956632,
          null,
          null,
          null,
          null,
          1.10676622478426,
          4.07093864092873,
          0.971576121234059,
          null
         ]
        },
        {
         "legendgroup": "Female",
         "line": {
          "color": "rgb(252,141,89)"
         },
         "name": "Female",
         "showlegend": false,
         "type": "scatter",
         "uid": "c0e651e6-d605-11e8-af20-a81e84e6c740",
         "x": [
          "A1BG",
          "A2M",
          "AAAS",
          "AACS",
          "AAGAB",
          "AAK1",
          "AAMDC",
          "AARS",
          "AARS2",
          "AASDHPPT"
         ],
         "y": [
          3.7285857988234703,
          6.955854648987679,
          2.12280729603685,
          1.07267074279829,
          null,
          1.0013742095451499,
          null,
          4.79652178194246,
          0.9376713266103291,
          2.09513128203311
         ]
        },
        {
         "legendgroup": "Male",
         "line": {
          "color": "rgb(145,191,219)"
         },
         "name": "Male",
         "showlegend": false,
         "type": "scatter",
         "uid": "c0e654ac-d605-11e8-af20-a81e84e6c740",
         "x": [
          "A1BG",
          "A2M",
          "AAAS",
          "AACS",
          "AAGAB",
          "AAK1",
          "AAMDC",
          "AARS",
          "AARS2",
          "AASDHPPT"
         ],
         "y": [
          3.0461862804088398,
          6.263410712577491,
          0.9843469248480609,
          null,
          1.03340855129467,
          1.00168551154172,
          1.06339050638629,
          3.8837260914434397,
          1.55882665924754,
          null
         ]
        },
        {
         "legendgroup": "Female",
         "line": {
          "color": "rgb(252,141,89)"
         },
         "name": "Female",
         "showlegend": false,
         "type": "scatter",
         "uid": "c0e65768-d605-11e8-af20-a81e84e6c740",
         "x": [
          "A1BG",
          "A2M",
          "AAAS",
          "AACS",
          "AAGAB",
          "AAK1",
          "AAMDC",
          "AARS",
          "AARS2",
          "AASDHPPT"
         ],
         "y": [
          2.4597690615736,
          5.52691465271868,
          1.75966450371144,
          null,
          null,
          1.04463470918049,
          1.12126134205584,
          4.13187132349338,
          2.6367594527075298,
          1.09228388334885
         ]
        },
        {
         "legendgroup": "Female",
         "line": {
          "color": "rgb(252,141,89)"
         },
         "name": "Female",
         "showlegend": false,
         "type": "scatter",
         "uid": "c0e65a56-d605-11e8-af20-a81e84e6c740",
         "x": [
          "A1BG",
          "A2M",
          "AAAS",
          "AACS",
          "AAGAB",
          "AAK1",
          "AAMDC",
          "AARS",
          "AARS2",
          "AASDHPPT"
         ],
         "y": [
          4.23692509558401,
          5.86785209899078,
          2.04186621044897,
          null,
          1.0330689917054798,
          1.5686588573731002,
          null,
          4.852242852312941,
          2.22769835189275,
          1.04604407169187
         ]
        },
        {
         "legendgroup": "Female",
         "line": {
          "color": "rgb(252,141,89)"
         },
         "name": "Female",
         "showlegend": false,
         "type": "scatter",
         "uid": "c0e65d26-d605-11e8-af20-a81e84e6c740",
         "x": [
          "A1BG",
          "A2M",
          "AAAS",
          "AACS",
          "AAGAB",
          "AAK1",
          "AAMDC",
          "AARS",
          "AARS2",
          "AASDHPPT"
         ],
         "y": [
          3.53595587638427,
          5.5328111271033,
          0.987561301006021,
          1.07661506676178,
          null,
          null,
          1.06722700816823,
          2.48152514783537,
          3.2854013020450097,
          1.04942951129427
         ]
        },
        {
         "legendgroup": "Female",
         "line": {
          "color": "rgb(252,141,89)"
         },
         "name": "Female",
         "showlegend": false,
         "type": "scatter",
         "uid": "c0e65fec-d605-11e8-af20-a81e84e6c740",
         "x": [
          "A1BG",
          "A2M",
          "AAAS",
          "AACS",
          "AAGAB",
          "AAK1",
          "AAMDC",
          "AARS",
          "AARS2",
          "AASDHPPT"
         ],
         "y": [
          3.5294451981434602,
          5.65267147487592,
          2.31023795754196,
          1.8780051856273001,
          1.01089659482907,
          1.04504527325487,
          0.99366769892017,
          4.4888766465886105,
          2.2359286223552597,
          0.986304773117901
         ]
        },
        {
         "legendgroup": "Male",
         "line": {
          "color": "rgb(145,191,219)"
         },
         "name": "Male",
         "showlegend": false,
         "type": "scatter",
         "uid": "c0e662b2-d605-11e8-af20-a81e84e6c740",
         "x": [
          "A1BG",
          "A2M",
          "AAAS",
          "AACS",
          "AAGAB",
          "AAK1",
          "AAMDC",
          "AARS",
          "AARS2",
          "AASDHPPT"
         ],
         "y": [
          3.0210295011864603,
          5.390655306223071,
          2.0057382993153,
          1.43769498225318,
          1.01524746891747,
          1.6970252199695102,
          0.9971298391069341,
          4.99087878389666,
          2.79107375171594,
          0.990820177539033
         ]
        },
        {
         "legendgroup": "Female",
         "line": {
          "color": "rgb(252,141,89)"
         },
         "name": "Female",
         "showlegend": false,
         "type": "scatter",
         "uid": "c0e66578-d605-11e8-af20-a81e84e6c740",
         "x": [
          "A1BG",
          "A2M",
          "AAAS",
          "AACS",
          "AAGAB",
          "AAK1",
          "AAMDC",
          "AARS",
          "AARS2",
          "AASDHPPT"
         ],
         "y": [
          3.1372893420888994,
          6.140038104548041,
          1.0867083418688102,
          null,
          null,
          1.79699396161654,
          1.00441577873043,
          4.499901032177299,
          1.1520682976672099,
          1.6485000716955802
         ]
        },
        {
         "legendgroup": "Male",
         "line": {
          "color": "rgb(145,191,219)"
         },
         "name": "Male",
         "showlegend": false,
         "type": "scatter",
         "uid": "c0e6682a-d605-11e8-af20-a81e84e6c740",
         "x": [
          "A1BG",
          "A2M",
          "AAAS",
          "AACS",
          "AAGAB",
          "AAK1",
          "AAMDC",
          "AARS",
          "AARS2",
          "AASDHPPT"
         ],
         "y": [
          3.2149157915835804,
          6.3395089600410195,
          2.2594843463472998,
          1.35202811825311,
          0.99111448794322,
          1.8536763962525,
          1.01145806300837,
          4.70134745871087,
          2.6040711824836604,
          1.28393524570721
         ]
        },
        {
         "legendgroup": "Male",
         "line": {
          "color": "rgb(145,191,219)"
         },
         "name": "Male",
         "showlegend": false,
         "type": "scatter",
         "uid": "c0e66ae6-d605-11e8-af20-a81e84e6c740",
         "x": [
          "A1BG",
          "A2M",
          "AAAS",
          "AACS",
          "AAGAB",
          "AAK1",
          "AAMDC",
          "AARS",
          "AARS2",
          "AASDHPPT"
         ],
         "y": [
          4.01122618635688,
          5.91743456877841,
          2.38168761934465,
          1.92473376286295,
          1.01089659482907,
          null,
          1.30096112531407,
          4.5038922227256695,
          2.57883036856966,
          1.88161332337544
         ]
        },
        {
         "legendgroup": "Male",
         "line": {
          "color": "rgb(145,191,219)"
         },
         "name": "Male",
         "showlegend": false,
         "type": "scatter",
         "uid": "c0e66da2-d605-11e8-af20-a81e84e6c740",
         "x": [
          "A1BG",
          "A2M",
          "AAAS",
          "AACS",
          "AAGAB",
          "AAK1",
          "AAMDC",
          "AARS",
          "AARS2",
          "AASDHPPT"
         ],
         "y": [
          3.6606331844525997,
          6.05613605616244,
          2.19386317938781,
          1.02483846226713,
          0.99111448794322,
          1.1596809122768,
          1.79522648385255,
          4.75165048878155,
          2.2793717828773397,
          1.88032789712684
         ]
        },
        {
         "legendgroup": "Male",
         "line": {
          "color": "rgb(145,191,219)"
         },
         "name": "Male",
         "showlegend": false,
         "type": "scatter",
         "uid": "c0e6705e-d605-11e8-af20-a81e84e6c740",
         "x": [
          "A1BG",
          "A2M",
          "AAAS",
          "AACS",
          "AAGAB",
          "AAK1",
          "AAMDC",
          "AARS",
          "AARS2",
          "AASDHPPT"
         ],
         "y": [
          3.2899536210132903,
          6.755774933511749,
          2.23395224764821,
          1.64654716994273,
          null,
          1.09047126511384,
          1.0243677966265299,
          5.00802831663644,
          1.17832845911814,
          1.02646268360328
         ]
        },
        {
         "legendgroup": "Female",
         "line": {
          "color": "rgb(252,141,89)"
         },
         "name": "Female",
         "showlegend": false,
         "type": "scatter",
         "uid": "c0e6731a-d605-11e8-af20-a81e84e6c740",
         "x": [
          "A1BG",
          "A2M",
          "AAAS",
          "AACS",
          "AAGAB",
          "AAK1",
          "AAMDC",
          "AARS",
          "AARS2",
          "AASDHPPT"
         ],
         "y": [
          3.3984718128030496,
          6.13243996592667,
          null,
          null,
          1.09672430645745,
          2.13264585982025,
          1.1416254978843101,
          4.27330191250592,
          0.9985178346585221,
          null
         ]
        },
        {
         "legendgroup": "Female",
         "line": {
          "color": "rgb(252,141,89)"
         },
         "name": "Female",
         "showlegend": false,
         "type": "scatter",
         "uid": "c0e675d6-d605-11e8-af20-a81e84e6c740",
         "x": [
          "A1BG",
          "A2M",
          "AAAS",
          "AACS",
          "AAGAB",
          "AAK1",
          "AAMDC",
          "AARS",
          "AARS2",
          "AASDHPPT"
         ],
         "y": [
          4.32321666403368,
          6.82230279432001,
          2.81512663367239,
          1.63864685138365,
          null,
          0.9758672839469449,
          null,
          4.33512955179083,
          1.80171764542292,
          1.5253561396284199
         ]
        },
        {
         "legendgroup": "Male",
         "line": {
          "color": "rgb(145,191,219)"
         },
         "name": "Male",
         "showlegend": false,
         "type": "scatter",
         "uid": "c0e67900-d605-11e8-af20-a81e84e6c740",
         "x": [
          "A1BG",
          "A2M",
          "AAAS",
          "AACS",
          "AAGAB",
          "AAK1",
          "AAMDC",
          "AARS",
          "AARS2",
          "AASDHPPT"
         ],
         "y": [
          3.74351497638519,
          5.45576882125558,
          1.09027708769643,
          null,
          null,
          null,
          1.0074117187597098,
          4.79442520339982,
          null,
          1.0042502399398698
         ]
        },
        {
         "legendgroup": "Male",
         "line": {
          "color": "rgb(145,191,219)"
         },
         "name": "Male",
         "showlegend": false,
         "type": "scatter",
         "uid": "c0e67b44-d605-11e8-af20-a81e84e6c740",
         "x": [
          "A1BG",
          "A2M",
          "AAAS",
          "AACS",
          "AAGAB",
          "AAK1",
          "AAMDC",
          "AARS",
          "AARS2",
          "AASDHPPT"
         ],
         "y": [
          4.17398271560642,
          6.43809597045893,
          1.9858943807884397,
          1.04894287708223,
          null,
          0.9822999177289541,
          null,
          5.02924347571587,
          2.64860701417994,
          1.0256584245101001
         ]
        },
        {
         "legendgroup": "Male",
         "line": {
          "color": "rgb(145,191,219)"
         },
         "name": "Male",
         "showlegend": false,
         "type": "scatter",
         "uid": "c0e67d7e-d605-11e8-af20-a81e84e6c740",
         "x": [
          "A1BG",
          "A2M",
          "AAAS",
          "AACS",
          "AAGAB",
          "AAK1",
          "AAMDC",
          "AARS",
          "AARS2",
          "AASDHPPT"
         ],
         "y": [
          1.8744786050718,
          5.05718731420642,
          2.20883997895392,
          2.00551609042952,
          1.75872521995669,
          1.07542267086727,
          1.0142236363555601,
          5.02653290013259,
          1.90276095637902,
          null
         ]
        },
        {
         "legendgroup": "Male",
         "line": {
          "color": "rgb(145,191,219)"
         },
         "name": "Male",
         "showlegend": false,
         "type": "scatter",
         "uid": "c0e67fd6-d605-11e8-af20-a81e84e6c740",
         "x": [
          "A1BG",
          "A2M",
          "AAAS",
          "AACS",
          "AAGAB",
          "AAK1",
          "AAMDC",
          "AARS",
          "AARS2",
          "AASDHPPT"
         ],
         "y": [
          2.66666789327159,
          5.91951048793276,
          2.96660268244922,
          2.56435127132078,
          null,
          1.0552127667234399,
          1.0005599083947199,
          4.3833807656506405,
          1.67855367365289,
          1.5372286493133402
         ]
        },
        {
         "legendgroup": "Female",
         "line": {
          "color": "rgb(252,141,89)"
         },
         "name": "Female",
         "showlegend": false,
         "type": "scatter",
         "uid": "c0e683fa-d605-11e8-af20-a81e84e6c740",
         "x": [
          "A1BG",
          "A2M",
          "AAAS",
          "AACS",
          "AAGAB",
          "AAK1",
          "AAMDC",
          "AARS",
          "AARS2",
          "AASDHPPT"
         ],
         "y": [
          3.04072666998582,
          5.6512557568238,
          3.15403675439119,
          1.02483846226713,
          null,
          1.29771568214231,
          1.01145806300837,
          4.36929709703882,
          2.9557659204559905,
          2.0217995930710804
         ]
        },
        {
         "legendgroup": "Male",
         "line": {
          "color": "rgb(145,191,219)"
         },
         "name": "Male",
         "showlegend": false,
         "type": "scatter",
         "uid": "c0e6876a-d605-11e8-af20-a81e84e6c740",
         "x": [
          "A1BG",
          "A2M",
          "AAAS",
          "AACS",
          "AAGAB",
          "AAK1",
          "AAMDC",
          "AARS",
          "AARS2",
          "AASDHPPT"
         ],
         "y": [
          2.64240755615416,
          6.39596614181663,
          1.07390934886208,
          1.4289593505851599,
          null,
          2.26056729727604,
          1.7744563874611599,
          4.961583289822559,
          1.13793426422732,
          0.986304773117901
         ]
        },
        {
         "legendgroup": "Male",
         "line": {
          "color": "rgb(145,191,219)"
         },
         "name": "Male",
         "showlegend": false,
         "type": "scatter",
         "uid": "c0e68ada-d605-11e8-af20-a81e84e6c740",
         "x": [
          "A1BG",
          "A2M",
          "AAAS",
          "AACS",
          "AAGAB",
          "AAK1",
          "AAMDC",
          "AARS",
          "AARS2",
          "AASDHPPT"
         ],
         "y": [
          3.97556513332576,
          6.49790052913669,
          2.8600771313966,
          1.02483846226713,
          0.99111448794322,
          null,
          null,
          4.16498943767364,
          1.95639863727083,
          1.75924647252024
         ]
        },
        {
         "legendgroup": "Male",
         "line": {
          "color": "rgb(145,191,219)"
         },
         "name": "Male",
         "showlegend": false,
         "type": "scatter",
         "uid": "c0e68e40-d605-11e8-af20-a81e84e6c740",
         "x": [
          "A1BG",
          "A2M",
          "AAAS",
          "AACS",
          "AAGAB",
          "AAK1",
          "AAMDC",
          "AARS",
          "AARS2",
          "AASDHPPT"
         ],
         "y": [
          3.1041431931728702,
          5.835617887528139,
          1.0120815331898,
          1.10374161160281,
          1.06026960572526,
          2.04730174722207,
          null,
          4.359264714721689,
          1.6204604603754198,
          2.16176041876236
         ]
        },
        {
         "legendgroup": "Female",
         "line": {
          "color": "rgb(252,141,89)"
         },
         "name": "Female",
         "showlegend": false,
         "type": "scatter",
         "uid": "c0e691b0-d605-11e8-af20-a81e84e6c740",
         "x": [
          "A1BG",
          "A2M",
          "AAAS",
          "AACS",
          "AAGAB",
          "AAK1",
          "AAMDC",
          "AARS",
          "AARS2",
          "AASDHPPT"
         ],
         "y": [
          4.1413042153527,
          6.308504863621019,
          1.0888229534745901,
          null,
          null,
          1.06353326728556,
          1.00619103130547,
          4.90936966651822,
          2.70976062865171,
          1.00265422616861
         ]
        },
        {
         "legendgroup": "Female",
         "line": {
          "color": "rgb(252,141,89)"
         },
         "name": "Female",
         "showlegend": false,
         "type": "scatter",
         "uid": "c0e69516-d605-11e8-af20-a81e84e6c740",
         "x": [
          "A1BG",
          "A2M",
          "AAAS",
          "AACS",
          "AAGAB",
          "AAK1",
          "AAMDC",
          "AARS",
          "AARS2",
          "AASDHPPT"
         ],
         "y": [
          3.48464206708574,
          5.782307475170589,
          1.07390934886208,
          1.89876222147167,
          1.01089659482907,
          1.6038926865303702,
          0.99366769892017,
          4.45323531300642,
          3.7874033642787004,
          1.47860568411859
         ]
        },
        {
         "legendgroup": "Female",
         "line": {
          "color": "rgb(252,141,89)"
         },
         "name": "Female",
         "showlegend": false,
         "type": "scatter",
         "uid": "c0e69886-d605-11e8-af20-a81e84e6c740",
         "x": [
          "A1BG",
          "A2M",
          "AAAS",
          "AACS",
          "AAGAB",
          "AAK1",
          "AAMDC",
          "AARS",
          "AARS2",
          "AASDHPPT"
         ],
         "y": [
          2.92245873992549,
          5.64027569498491,
          1.72469093511447,
          1.00186067380989,
          null,
          1.07542267086727,
          1.5365851722122699,
          4.5689554051992,
          1.16497348445752,
          1.72389795835833
         ]
        },
        {
         "legendgroup": "Male",
         "line": {
          "color": "rgb(145,191,219)"
         },
         "name": "Male",
         "showlegend": false,
         "type": "scatter",
         "uid": "c0e69bf6-d605-11e8-af20-a81e84e6c740",
         "x": [
          "A1BG",
          "A2M",
          "AAAS",
          "AACS",
          "AAGAB",
          "AAK1",
          "AAMDC",
          "AARS",
          "AARS2",
          "AASDHPPT"
         ],
         "y": [
          3.86207865896245,
          5.52920535539224,
          1.032781152957,
          null,
          null,
          null,
          1.12126134205584,
          4.368541198483539,
          2.41238505024026,
          null
         ]
        },
        {
         "legendgroup": "Male",
         "line": {
          "color": "rgb(145,191,219)"
         },
         "name": "Male",
         "showlegend": false,
         "type": "scatter",
         "uid": "c0e69f66-d605-11e8-af20-a81e84e6c740",
         "x": [
          "A1BG",
          "A2M",
          "AAAS",
          "AACS",
          "AAGAB",
          "AAK1",
          "AAMDC",
          "AARS",
          "AARS2",
          "AASDHPPT"
         ],
         "y": [
          3.46004861959962,
          5.80154432988065,
          2.9749454705839105,
          1.3902325431493898,
          1.01089659482907,
          2.61728994681138,
          1.7256731019902398,
          4.75490672581986,
          2.10695750098407,
          null
         ]
        },
        {
         "legendgroup": "Female",
         "line": {
          "color": "rgb(252,141,89)"
         },
         "name": "Female",
         "showlegend": false,
         "type": "scatter",
         "uid": "c0e6a2d6-d605-11e8-af20-a81e84e6c740",
         "x": [
          "A1BG",
          "A2M",
          "AAAS",
          "AACS",
          "AAGAB",
          "AAK1",
          "AAMDC",
          "AARS",
          "AARS2",
          "AASDHPPT"
         ],
         "y": [
          3.53886689073838,
          6.20644513107262,
          1.09839319413485,
          null,
          null,
          1.07542267086727,
          1.0142236363555601,
          4.6496791362982,
          1.16497348445752,
          1.0131642884910999
         ]
        },
        {
         "legendgroup": "Female",
         "line": {
          "color": "rgb(252,141,89)"
         },
         "name": "Female",
         "showlegend": false,
         "type": "scatter",
         "uid": "c0e6a646-d605-11e8-af20-a81e84e6c740",
         "x": [
          "A1BG",
          "A2M",
          "AAAS",
          "AACS",
          "AAGAB",
          "AAK1",
          "AAMDC",
          "AARS",
          "AARS2",
          "AASDHPPT"
         ],
         "y": [
          2.21231342637408,
          4.977798239208981,
          2.20637076236175,
          2.30497772432296,
          null,
          null,
          2.21406718636955,
          3.9937787403873197,
          2.38670359333038,
          2.28790013059148
         ]
        },
        {
         "legendgroup": "Female",
         "line": {
          "color": "rgb(252,141,89)"
         },
         "name": "Female",
         "showlegend": false,
         "type": "scatter",
         "uid": "c0e6a9b6-d605-11e8-af20-a81e84e6c740",
         "x": [
          "A1BG",
          "A2M",
          "AAAS",
          "AACS",
          "AAGAB",
          "AAK1",
          "AAMDC",
          "AARS",
          "AARS2",
          "AASDHPPT"
         ],
         "y": [
          2.3898485120729505,
          7.081374918101701,
          2.5441119249999,
          1.5033812208348998,
          1.6759082502623999,
          1.7862860386903199,
          1.01145806300837,
          5.3737865181234,
          2.9401854217930903,
          1.41165218975371
         ]
        },
        {
         "legendgroup": "Male",
         "line": {
          "color": "rgb(145,191,219)"
         },
         "name": "Male",
         "showlegend": false,
         "type": "scatter",
         "uid": "c0e6ad30-d605-11e8-af20-a81e84e6c740",
         "x": [
          "A1BG",
          "A2M",
          "AAAS",
          "AACS",
          "AAGAB",
          "AAK1",
          "AAMDC",
          "AARS",
          "AARS2",
          "AASDHPPT"
         ],
         "y": [
          2.74788584277287,
          6.16447266836761,
          2.84243508057628,
          2.48176719805289,
          1.18193387685088,
          1.46822489228849,
          1.01145806300837,
          4.759782869212589,
          2.6635788744426097,
          1.54493462483271
         ]
        },
        {
         "legendgroup": "Male",
         "line": {
          "color": "rgb(145,191,219)"
         },
         "name": "Male",
         "showlegend": false,
         "type": "scatter",
         "uid": "c0e6b0a0-d605-11e8-af20-a81e84e6c740",
         "x": [
          "A1BG",
          "A2M",
          "AAAS",
          "AACS",
          "AAGAB",
          "AAK1",
          "AAMDC",
          "AARS",
          "AARS2",
          "AASDHPPT"
         ],
         "y": [
          3.1079071657078,
          6.40427574842441,
          1.6948888376572702,
          null,
          1.04451125039997,
          2.04662401129165,
          1.07706857952074,
          4.64137727392521,
          2.6850890856321095,
          2.16104033774996
         ]
        },
        {
         "legendgroup": "Male",
         "line": {
          "color": "rgb(145,191,219)"
         },
         "name": "Male",
         "showlegend": false,
         "type": "scatter",
         "uid": "c0e6b41a-d605-11e8-af20-a81e84e6c740",
         "x": [
          "A1BG",
          "A2M",
          "AAAS",
          "AACS",
          "AAGAB",
          "AAK1",
          "AAMDC",
          "AARS",
          "AARS2",
          "AASDHPPT"
         ],
         "y": [
          null,
          4.03572846150933,
          null,
          1.1149343907511102,
          null,
          1.03526888109567,
          1.10860936227704,
          4.95969920985146,
          2.10491205881968,
          null
         ]
        },
        {
         "legendgroup": "Female",
         "line": {
          "color": "rgb(252,141,89)"
         },
         "name": "Female",
         "showlegend": false,
         "type": "scatter",
         "uid": "c0e6b78a-d605-11e8-af20-a81e84e6c740",
         "x": [
          "A1BG",
          "A2M",
          "AAAS",
          "AACS",
          "AAGAB",
          "AAK1",
          "AAMDC",
          "AARS",
          "AARS2",
          "AASDHPPT"
         ],
         "y": [
          3.84011693807891,
          6.17233464516218,
          2.3051915332916697,
          0.990946335141364,
          null,
          null,
          1.4391006083879798,
          4.48887984223513,
          2.15391945240706,
          null
         ]
        },
        {
         "legendgroup": "Male",
         "line": {
          "color": "rgb(145,191,219)"
         },
         "name": "Male",
         "showlegend": false,
         "type": "scatter",
         "uid": "c0e6bafa-d605-11e8-af20-a81e84e6c740",
         "x": [
          "A1BG",
          "A2M",
          "AAAS",
          "AACS",
          "AAGAB",
          "AAK1",
          "AAMDC",
          "AARS",
          "AARS2",
          "AASDHPPT"
         ],
         "y": [
          3.55133226365456,
          5.519233288830299,
          1.6536038268083302,
          null,
          null,
          0.997351059132894,
          1.05757182945798,
          4.4561823515131795,
          0.9334852955540359,
          1.0417441949391602
         ]
        },
        {
         "legendgroup": "Male",
         "line": {
          "color": "rgb(145,191,219)"
         },
         "name": "Male",
         "showlegend": false,
         "type": "scatter",
         "uid": "c0e6be6a-d605-11e8-af20-a81e84e6c740",
         "x": [
          "A1BG",
          "A2M",
          "AAAS",
          "AACS",
          "AAGAB",
          "AAK1",
          "AAMDC",
          "AARS",
          "AARS2",
          "AASDHPPT"
         ],
         "y": [
          3.92300199949009,
          5.737921664576991,
          1.76891346782014,
          1.60540194254802,
          1.04103881460347,
          1.94095768372969,
          2.42469050336944,
          4.65543468501441,
          1.90558826334556,
          null
         ]
        }
       ],
       "layout": {
        "title": "",
        "xaxis": {
         "mirror": "all",
         "nticks": 20,
         "showgrid": true,
         "showline": true,
         "title": "all_index",
         "zeroline": true
        },
        "yaxis": {
         "mirror": "all",
         "nticks": 20,
         "showgrid": true,
         "showline": true,
         "title": "all_column",
         "zeroline": true
        }
       }
      },
      "text/html": [
       "<div id=\"ffa5b583-650c-4db3-9932-9fe9a50fa1fd\" style=\"height: 525px; width: 100%;\" class=\"plotly-graph-div\"></div><script type=\"text/javascript\">require([\"plotly\"], function(Plotly) { window.PLOTLYENV=window.PLOTLYENV || {};window.PLOTLYENV.BASE_URL=\"https://plot.ly\";Plotly.newPlot(\"ffa5b583-650c-4db3-9932-9fe9a50fa1fd\", [{\"legendgroup\": \"Male\", \"line\": {\"color\": \"rgb(145,191,219)\"}, \"name\": \"Male\", \"showlegend\": true, \"x\": [\"A1BG\", \"A2M\", \"AAAS\", \"AACS\", \"AAGAB\", \"AAK1\", \"AAMDC\", \"AARS\", \"AARS2\", \"AASDHPPT\"], \"y\": [3.9568532392881, 5.4126322011768195, null, null, null, null, null, 4.368986458329339, null, null], \"type\": \"scatter\", \"uid\": \"c0e542ba-d605-11e8-af20-a81e84e6c740\"}, {\"legendgroup\": \"Male\", \"line\": {\"color\": \"rgb(145,191,219)\"}, \"name\": \"Male\", \"showlegend\": false, \"x\": [\"A1BG\", \"A2M\", \"AAAS\", \"AACS\", \"AAGAB\", \"AAK1\", \"AAMDC\", \"AARS\", \"AARS2\", \"AASDHPPT\"], \"y\": [3.5645763471574803, 6.905626016456701, 2.4998208350840097, 1.40851402777901, 1.01523369988498, null, 1.3920761080249802, 4.84252929574435, 1.1424717052325, 1.5233196760224], \"type\": \"scatter\", \"uid\": \"c0e548b4-d605-11e8-af20-a81e84e6c740\"}, {\"legendgroup\": \"Male\", \"line\": {\"color\": \"rgb(145,191,219)\"}, \"name\": \"Male\", \"showlegend\": false, \"x\": [\"A1BG\", \"A2M\", \"AAAS\", \"AACS\", \"AAGAB\", \"AAK1\", \"AAMDC\", \"AARS\", \"AARS2\", \"AASDHPPT\"], \"y\": [3.11287453774938, 5.6453405614965, 2.21182179988104, 1.0998923824396398, 1.0569019428453499, 2.06040013391011, null, 4.90458636524111, 2.41739094486806, null], \"type\": \"scatter\", \"uid\": \"c0e54cec-d605-11e8-af20-a81e84e6c740\"}, {\"legendgroup\": \"Female\", \"line\": {\"color\": \"rgb(252,141,89)\"}, \"name\": \"Female\", \"showlegend\": true, \"x\": [\"A1BG\", \"A2M\", \"AAAS\", \"AACS\", \"AAGAB\", \"AAK1\", \"AAMDC\", \"AARS\", \"AARS2\", \"AASDHPPT\"], \"y\": [3.4467226479524498, 5.994520057153459, 2.16800100282735, null, null, 1.61369551680054, null, 4.41274094396811, 3.16651083481783, 1.05610612353621], \"type\": \"scatter\", \"uid\": \"c0e550b6-d605-11e8-af20-a81e84e6c740\"}, {\"legendgroup\": \"Male\", \"line\": {\"color\": \"rgb(145,191,219)\"}, \"name\": \"Male\", \"showlegend\": false, \"x\": [\"A1BG\", \"A2M\", \"AAAS\", \"AACS\", \"AAGAB\", \"AAK1\", \"AAMDC\", \"AARS\", \"AARS2\", \"AASDHPPT\"], \"y\": [2.8287122493345396, 6.0989533035417, 2.57551931967134, 1.8490700820656398, null, 1.27397185482978, null, 4.469706288708389, 2.41396495244369, 1.00491304925533], \"type\": \"scatter\", \"uid\": \"c0e55462-d605-11e8-af20-a81e84e6c740\"}, {\"legendgroup\": \"Male\", \"line\": {\"color\": \"rgb(145,191,219)\"}, \"name\": \"Male\", \"showlegend\": false, \"x\": [\"A1BG\", \"A2M\", \"AAAS\", \"AACS\", \"AAGAB\", \"AAK1\", \"AAMDC\", \"AARS\", \"AARS2\", \"AASDHPPT\"], \"y\": [3.5691876124278394, 5.96193635264858, 1.0086016172160401, 1.0998923824396398, 1.0569019428453499, 1.63526605234666, 1.94064075910959, 4.39434113105162, 2.05862709130219, 1.06939011649125], \"type\": \"scatter\", \"uid\": \"c0e557f0-d605-11e8-af20-a81e84e6c740\"}, {\"legendgroup\": \"Female\", \"line\": {\"color\": \"rgb(252,141,89)\"}, \"name\": \"Female\", \"showlegend\": false, \"x\": [\"A1BG\", \"A2M\", \"AAAS\", \"AACS\", \"AAGAB\", \"AAK1\", \"AAMDC\", \"AARS\", \"AARS2\", \"AASDHPPT\"], \"y\": [3.74044443852763, 5.7058074918282, 2.26874343854218, 2.1011266875291597, 1.0052580463963001, null, 1.02879354215339, 4.54715117397611, 1.4126007472509199, 2.4942105051202597], \"type\": \"scatter\", \"uid\": \"c0e55b74-d605-11e8-af20-a81e84e6c740\"}, {\"legendgroup\": \"Male\", \"line\": {\"color\": \"rgb(145,191,219)\"}, \"name\": \"Male\", \"showlegend\": false, \"x\": [\"A1BG\", \"A2M\", \"AAAS\", \"AACS\", \"AAGAB\", \"AAK1\", \"AAMDC\", \"AARS\", \"AARS2\", \"AASDHPPT\"], \"y\": [3.00964584983622, 5.47173817039407, 2.71752278015999, 2.22700848103247, 1.03805729687483, null, 1.01524997044423, 4.83323987708376, 1.16632434082758, 1.0145084647357598], \"type\": \"scatter\", \"uid\": \"c0e55eee-d605-11e8-af20-a81e84e6c740\"}, {\"legendgroup\": \"Female\", \"line\": {\"color\": \"rgb(252,141,89)\"}, \"name\": \"Female\", \"showlegend\": false, \"x\": [\"A1BG\", \"A2M\", \"AAAS\", \"AACS\", \"AAGAB\", \"AAK1\", \"AAMDC\", \"AARS\", \"AARS2\", \"AASDHPPT\"], \"y\": [4.98627258089667, 8.21014329758554, 2.81945959603419, 2.4647752369903198, 0.99111448794322, 0.9628873049168191, 1.01145806300837, 5.09006760143972, 2.77995609574954, 1.2069843285982098], \"type\": \"scatter\", \"uid\": \"c0e56268-d605-11e8-af20-a81e84e6c740\"}, {\"legendgroup\": \"Female\", \"line\": {\"color\": \"rgb(252,141,89)\"}, \"name\": \"Female\", \"showlegend\": false, \"x\": [\"A1BG\", \"A2M\", \"AAAS\", \"AACS\", \"AAGAB\", \"AAK1\", \"AAMDC\", \"AARS\", \"AARS2\", \"AASDHPPT\"], \"y\": [3.1738809297096697, 6.48099123966293, 2.2399137839727596, null, null, null, 1.0142236363555601, 4.04690402733727, 1.94204456313777, 1.81376933159376], \"type\": \"scatter\", \"uid\": \"c0e565e2-d605-11e8-af20-a81e84e6c740\"}, {\"legendgroup\": \"Male\", \"line\": {\"color\": \"rgb(145,191,219)\"}, \"name\": \"Male\", \"showlegend\": false, \"x\": [\"A1BG\", \"A2M\", \"AAAS\", \"AACS\", \"AAGAB\", \"AAK1\", \"AAMDC\", \"AARS\", \"AARS2\", \"AASDHPPT\"], \"y\": [2.53149439026854, 5.49626834415834, 1.4704743103508202, 2.82177328515283, 1.9111215439005402, 0.972636721098597, 1.64767852887355, 4.31587061575167, 1.7927291657702402, 1.5002451904055198], \"type\": \"scatter\", \"uid\": \"c0e56970-d605-11e8-af20-a81e84e6c740\"}, {\"legendgroup\": \"Female\", \"line\": {\"color\": \"rgb(252,141,89)\"}, \"name\": \"Female\", \"showlegend\": false, \"x\": [\"A1BG\", \"A2M\", \"AAAS\", \"AACS\", \"AAGAB\", \"AAK1\", \"AAMDC\", \"AARS\", \"AARS2\", \"AASDHPPT\"], \"y\": [3.6385086918589105, 6.305606292392469, 3.6253679298211097, 1.57713892176335, 1.0359638813056802, null, null, 3.83061917530115, null, null], \"type\": \"scatter\", \"uid\": \"c0e56cf4-d605-11e8-af20-a81e84e6c740\"}, {\"legendgroup\": \"Female\", \"line\": {\"color\": \"rgb(252,141,89)\"}, \"name\": \"Female\", \"showlegend\": false, \"x\": [\"A1BG\", \"A2M\", \"AAAS\", \"AACS\", \"AAGAB\", \"AAK1\", \"AAMDC\", \"AARS\", \"AARS2\", \"AASDHPPT\"], \"y\": [4.27789641162052, 6.28088230527511, null, null, null, 1.07542267086727, 1.0142236363555601, 4.5867212109572595, 1.87708669052473, null], \"type\": \"scatter\", \"uid\": \"c0e5706e-d605-11e8-af20-a81e84e6c740\"}, {\"legendgroup\": \"Male\", \"line\": {\"color\": \"rgb(145,191,219)\"}, \"name\": \"Male\", \"showlegend\": false, \"x\": [\"A1BG\", \"A2M\", \"AAAS\", \"AACS\", \"AAGAB\", \"AAK1\", \"AAMDC\", \"AARS\", \"AARS2\", \"AASDHPPT\"], \"y\": [3.8540464225194198, 5.2593768526907, 2.2338572688108, null, 1.06697767638036, null, 1.10480055864805, 4.58764170812752, 2.43129542982708, null], \"type\": \"scatter\", \"uid\": \"c0e573de-d605-11e8-af20-a81e84e6c740\"}, {\"legendgroup\": \"Male\", \"line\": {\"color\": \"rgb(145,191,219)\"}, \"name\": \"Male\", \"showlegend\": false, \"x\": [\"A1BG\", \"A2M\", \"AAAS\", \"AACS\", \"AAGAB\", \"AAK1\", \"AAMDC\", \"AARS\", \"AARS2\", \"AASDHPPT\"], \"y\": [3.5757543344815295, 5.53058944604922, 1.55698808621769, 2.9546967160746602, 1.5298165684435099, 1.04504527325487, 1.74623424197519, 4.68632432747435, 2.70823940744851, 2.01759212190021], \"type\": \"scatter\", \"uid\": \"c0e57758-d605-11e8-af20-a81e84e6c740\"}, {\"legendgroup\": \"Male\", \"line\": {\"color\": \"rgb(145,191,219)\"}, \"name\": \"Male\", \"showlegend\": false, \"x\": [\"A1BG\", \"A2M\", \"AAAS\", \"AACS\", \"AAGAB\", \"AAK1\", \"AAMDC\", \"AARS\", \"AARS2\", \"AASDHPPT\"], \"y\": [2.50012315868521, 6.445045416439521, 2.69257350697021, 1.31432470128625, 0.99111448794322, 1.83150577634997, 1.3251788007888001, 5.35321329700026, 2.84503834222961, 1.2520152359131598], \"type\": \"scatter\", \"uid\": \"c0e57ac8-d605-11e8-af20-a81e84e6c740\"}, {\"legendgroup\": \"Male\", \"line\": {\"color\": \"rgb(145,191,219)\"}, \"name\": \"Male\", \"showlegend\": false, \"x\": [\"A1BG\", \"A2M\", \"AAAS\", \"AACS\", \"AAGAB\", \"AAK1\", \"AAMDC\", \"AARS\", \"AARS2\", \"AASDHPPT\"], \"y\": [2.44439878162391, 6.45534920348141, 2.12171873153648, 0.9945943348960798, 1.02818261398489, 1.06533851499275, null, 4.319877587970891, 2.67948969638221, null], \"type\": \"scatter\", \"uid\": \"c0e57e42-d605-11e8-af20-a81e84e6c740\"}, {\"legendgroup\": \"Male\", \"line\": {\"color\": \"rgb(145,191,219)\"}, \"name\": \"Male\", \"showlegend\": false, \"x\": [\"A1BG\", \"A2M\", \"AAAS\", \"AACS\", \"AAGAB\", \"AAK1\", \"AAMDC\", \"AARS\", \"AARS2\", \"AASDHPPT\"], \"y\": [null, 5.372677370349081, 1.7740293994988603, 1.00186067380989, 1.0367636458346001, 1.07542267086727, 2.4467432535289904, 4.32724382791758, 1.16497348445752, null], \"type\": \"scatter\", \"uid\": \"c0e581bc-d605-11e8-af20-a81e84e6c740\"}, {\"legendgroup\": \"Female\", \"line\": {\"color\": \"rgb(252,141,89)\"}, \"name\": \"Female\", \"showlegend\": false, \"x\": [\"A1BG\", \"A2M\", \"AAAS\", \"AACS\", \"AAGAB\", \"AAK1\", \"AAMDC\", \"AARS\", \"AARS2\", \"AASDHPPT\"], \"y\": [3.6792387954765697, 6.01402448503538, 1.0086016172160401, null, null, 2.0395090830744698, null, 4.3204465490092705, 2.64663790865316, 1.06939011649125], \"type\": \"scatter\", \"uid\": \"c0e5852c-d605-11e8-af20-a81e84e6c740\"}, {\"legendgroup\": \"Male\", \"line\": {\"color\": \"rgb(145,191,219)\"}, \"name\": \"Male\", \"showlegend\": false, \"x\": [\"A1BG\", \"A2M\", \"AAAS\", \"AACS\", \"AAGAB\", \"AAK1\", \"AAMDC\", \"AARS\", \"AARS2\", \"AASDHPPT\"], \"y\": [1.91183905219512, 5.061908806174469, 2.2453435756570403, 1.77390306066003, null, 1.04504527325487, 1.39701568999526, 4.38792282771599, 2.42944825393415, 1.9920717848981002], \"type\": \"scatter\", \"uid\": \"c0e5889c-d605-11e8-af20-a81e84e6c740\"}, {\"legendgroup\": \"Male\", \"line\": {\"color\": \"rgb(145,191,219)\"}, \"name\": \"Male\", \"showlegend\": false, \"x\": [\"A1BG\", \"A2M\", \"AAAS\", \"AACS\", \"AAGAB\", \"AAK1\", \"AAMDC\", \"AARS\", \"AARS2\", \"AASDHPPT\"], \"y\": [3.2225562058399904, 5.7548859012492, 1.73783675722456, 1.00186067380989, null, 1.07542267086727, 1.0142236363555601, 4.891808355824651, 1.87132465211397, 1.7391595006136102], \"type\": \"scatter\", \"uid\": \"c0e58c16-d605-11e8-af20-a81e84e6c740\"}, {\"legendgroup\": \"Male\", \"line\": {\"color\": \"rgb(145,191,219)\"}, \"name\": \"Male\", \"showlegend\": false, \"x\": [\"A1BG\", \"A2M\", \"AAAS\", \"AACS\", \"AAGAB\", \"AAK1\", \"AAMDC\", \"AARS\", \"AARS2\", \"AASDHPPT\"], \"y\": [1.3223685551553601, 5.535452473535099, 3.5544799973906, 2.03849084255943, 1.12258260105199, null, 1.17372963799334, 4.79104459549079, 1.7516553897764702, 1.13366248141502], \"type\": \"scatter\", \"uid\": \"c0e58f86-d605-11e8-af20-a81e84e6c740\"}, {\"legendgroup\": \"Male\", \"line\": {\"color\": \"rgb(145,191,219)\"}, \"name\": \"Male\", \"showlegend\": false, \"x\": [\"A1BG\", \"A2M\", \"AAAS\", \"AACS\", \"AAGAB\", \"AAK1\", \"AAMDC\", \"AARS\", \"AARS2\", \"AASDHPPT\"], \"y\": [3.6695804062468, 6.371037944960201, 2.4105428081762, 1.02483846226713, 0.99111448794322, 1.1920088144193302, null, 4.7698265288818, 3.0964631895945196, 2.35518285053525], \"type\": \"scatter\", \"uid\": \"c0e592f6-d605-11e8-af20-a81e84e6c740\"}, {\"legendgroup\": \"Male\", \"line\": {\"color\": \"rgb(145,191,219)\"}, \"name\": \"Male\", \"showlegend\": false, \"x\": [\"A1BG\", \"A2M\", \"AAAS\", \"AACS\", \"AAGAB\", \"AAK1\", \"AAMDC\", \"AARS\", \"AARS2\", \"AASDHPPT\"], \"y\": [4.40447551348546, 7.48900775206629, 1.09839319413485, 1.00186067380989, null, 1.07542267086727, 1.0142236363555601, 4.09473032547892, 1.85682772518969, null], \"type\": \"scatter\", \"uid\": \"c0e59666-d605-11e8-af20-a81e84e6c740\"}, {\"legendgroup\": \"Male\", \"line\": {\"color\": \"rgb(145,191,219)\"}, \"name\": \"Male\", \"showlegend\": false, \"x\": [\"A1BG\", \"A2M\", \"AAAS\", \"AACS\", \"AAGAB\", \"AAK1\", \"AAMDC\", \"AARS\", \"AARS2\", \"AASDHPPT\"], \"y\": [3.25562838097532, 6.35243769994773, 2.11359193674844, 1.48258954019649, 1.3896125798624799, 2.41422783648875, 1.01145806300837, 4.126862125861661, 0.89769406653957, 1.00491304925533], \"type\": \"scatter\", \"uid\": \"c0e59c7e-d605-11e8-af20-a81e84e6c740\"}, {\"legendgroup\": \"Male\", \"line\": {\"color\": \"rgb(145,191,219)\"}, \"name\": \"Male\", \"showlegend\": false, \"x\": [\"A1BG\", \"A2M\", \"AAAS\", \"AACS\", \"AAGAB\", \"AAK1\", \"AAMDC\", \"AARS\", \"AARS2\", \"AASDHPPT\"], \"y\": [3.69621238006336, 5.685035282571031, 2.11359193674844, 1.08439701966148, null, null, null, 4.60366493799604, null, null], \"type\": \"scatter\", \"uid\": \"c0e5a4c6-d605-11e8-af20-a81e84e6c740\"}, {\"legendgroup\": \"Male\", \"line\": {\"color\": \"rgb(145,191,219)\"}, \"name\": \"Male\", \"showlegend\": false, \"x\": [\"A1BG\", \"A2M\", \"AAAS\", \"AACS\", \"AAGAB\", \"AAK1\", \"AAMDC\", \"AARS\", \"AARS2\", \"AASDHPPT\"], \"y\": [3.7903569232410494, 6.555174151224411, 2.36631806706837, 2.14955324680551, null, 1.1202909975556299, 1.67668273771783, 4.865935488291849, 2.04224400893629, null], \"type\": \"scatter\", \"uid\": \"c0e5aade-d605-11e8-af20-a81e84e6c740\"}, {\"legendgroup\": \"Male\", \"line\": {\"color\": \"rgb(145,191,219)\"}, \"name\": \"Male\", \"showlegend\": false, \"x\": [\"A1BG\", \"A2M\", \"AAAS\", \"AACS\", \"AAGAB\", \"AAK1\", \"AAMDC\", \"AARS\", \"AARS2\", \"AASDHPPT\"], \"y\": [3.6453741040981797, 6.39108693632353, 2.50173543918015, 1.0608531607782299, 1.0227129601087501, null, null, 4.9753031561232, 2.01851600170076, 1.03589537660383], \"type\": \"scatter\", \"uid\": \"c0e5b0a6-d605-11e8-af20-a81e84e6c740\"}, {\"legendgroup\": \"Male\", \"line\": {\"color\": \"rgb(145,191,219)\"}, \"name\": \"Male\", \"showlegend\": false, \"x\": [\"A1BG\", \"A2M\", \"AAAS\", \"AACS\", \"AAGAB\", \"AAK1\", \"AAMDC\", \"AARS\", \"AARS2\", \"AASDHPPT\"], \"y\": [2.2225698206158198, 5.5729708898153305, 2.62391125934332, 1.8472180493484598, 1.4177698632658502, 1.8422209142208401, null, 5.06436240462637, 1.30849774436443, 1.07925601827744], \"type\": \"scatter\", \"uid\": \"c0e5c082-d605-11e8-af20-a81e84e6c740\"}, {\"legendgroup\": \"Male\", \"line\": {\"color\": \"rgb(145,191,219)\"}, \"name\": \"Male\", \"showlegend\": false, \"x\": [\"A1BG\", \"A2M\", \"AAAS\", \"AACS\", \"AAGAB\", \"AAK1\", \"AAMDC\", \"AARS\", \"AARS2\", \"AASDHPPT\"], \"y\": [2.53025823238162, 6.8219692897695, 2.0368406591234196, 1.93378651341344, 1.11804623118907, 1.4220380940206998, null, 5.152915791159769, 2.49048690190197, 1.4956171371616798], \"type\": \"scatter\", \"uid\": \"c0e60e34-d605-11e8-af20-a81e84e6c740\"}, {\"legendgroup\": \"Female\", \"line\": {\"color\": \"rgb(252,141,89)\"}, \"name\": \"Female\", \"showlegend\": false, \"x\": [\"A1BG\", \"A2M\", \"AAAS\", \"AACS\", \"AAGAB\", \"AAK1\", \"AAMDC\", \"AARS\", \"AARS2\", \"AASDHPPT\"], \"y\": [2.1092147980754, 6.0822990256605305, 3.5983606540200603, 2.3947611163360496, 0.9982065080402499, 1.7449297860081001, 1.02014658202786, 5.13826044580504, 2.05681264046274, 1.4613234535819097], \"type\": \"scatter\", \"uid\": \"c0e616c2-d605-11e8-af20-a81e84e6c740\"}, {\"legendgroup\": \"Female\", \"line\": {\"color\": \"rgb(252,141,89)\"}, \"name\": \"Female\", \"showlegend\": false, \"x\": [\"A1BG\", \"A2M\", \"AAAS\", \"AACS\", \"AAGAB\", \"AAK1\", \"AAMDC\", \"AARS\", \"AARS2\", \"AASDHPPT\"], \"y\": [3.78893062342746, 6.43865670541757, 2.5676518995548396, 1.02483846226713, 0.99111448794322, 1.2686102769799, 1.01145806300837, 4.5367247870698, 2.81926149389621, 1.70280613974603], \"type\": \"scatter\", \"uid\": \"c0e61c26-d605-11e8-af20-a81e84e6c740\"}, {\"legendgroup\": \"Female\", \"line\": {\"color\": \"rgb(252,141,89)\"}, \"name\": \"Female\", \"showlegend\": false, \"x\": [\"A1BG\", \"A2M\", \"AAAS\", \"AACS\", \"AAGAB\", \"AAK1\", \"AAMDC\", \"AARS\", \"AARS2\", \"AASDHPPT\"], \"y\": [2.79625822733875, 5.06708492745029, 1.5206938408893302, 1.9787844353182802, 1.01089659482907, 1.04504527325487, 1.36680430823468, 4.982152903155759, 1.13793426422732, 1.48846638347727], \"type\": \"scatter\", \"uid\": \"c0e62310-d605-11e8-af20-a81e84e6c740\"}, {\"legendgroup\": \"Male\", \"line\": {\"color\": \"rgb(145,191,219)\"}, \"name\": \"Male\", \"showlegend\": false, \"x\": [\"A1BG\", \"A2M\", \"AAAS\", \"AACS\", \"AAGAB\", \"AAK1\", \"AAMDC\", \"AARS\", \"AARS2\", \"AASDHPPT\"], \"y\": [3.9131817343082704, 5.963700672551839, 1.10210874991172, null, 1.0406941353373, 1.93644779057287, 1.0173414479681, 4.591923444532901, 2.3152017676180603, null], \"type\": \"scatter\", \"uid\": \"c0e62c52-d605-11e8-af20-a81e84e6c740\"}, {\"legendgroup\": \"Male\", \"line\": {\"color\": \"rgb(145,191,219)\"}, \"name\": \"Male\", \"showlegend\": false, \"x\": [\"A1BG\", \"A2M\", \"AAAS\", \"AACS\", \"AAGAB\", \"AAK1\", \"AAMDC\", \"AARS\", \"AARS2\", \"AASDHPPT\"], \"y\": [3.5460650404498, 6.0671120113963095, 1.74523248356026, null, 1.12258260105199, 1.6623719798169199, null, 4.8827528981481505, 3.21867516992729, 2.35788793658119], \"type\": \"scatter\", \"uid\": \"c0e63468-d605-11e8-af20-a81e84e6c740\"}, {\"legendgroup\": \"Female\", \"line\": {\"color\": \"rgb(252,141,89)\"}, \"name\": \"Female\", \"showlegend\": false, \"x\": [\"A1BG\", \"A2M\", \"AAAS\", \"AACS\", \"AAGAB\", \"AAK1\", \"AAMDC\", \"AARS\", \"AARS2\", \"AASDHPPT\"], \"y\": [3.42451180183654, 5.66165966447068, 2.20543428122873, 1.02483846226713, 1.20311065472102, 1.53172918507209, null, 4.661098186681901, 2.28541247813833, 1.2123431075727], \"type\": \"scatter\", \"uid\": \"c0e638a0-d605-11e8-af20-a81e84e6c740\"}, {\"legendgroup\": \"Male\", \"line\": {\"color\": \"rgb(145,191,219)\"}, \"name\": \"Male\", \"showlegend\": false, \"x\": [\"A1BG\", \"A2M\", \"AAAS\", \"AACS\", \"AAGAB\", \"AAK1\", \"AAMDC\", \"AARS\", \"AARS2\", \"AASDHPPT\"], \"y\": [3.9510790496329804, 6.63784286919579, 2.4020662299203797, 2.3975477892155097, null, 1.06028084957578, 2.46888125240476, 4.60154377120712, 2.85727476596398, 1.6359455268142098], \"type\": \"scatter\", \"uid\": \"c0e63b98-d605-11e8-af20-a81e84e6c740\"}, {\"legendgroup\": \"Male\", \"line\": {\"color\": \"rgb(145,191,219)\"}, \"name\": \"Male\", \"showlegend\": false, \"x\": [\"A1BG\", \"A2M\", \"AAAS\", \"AACS\", \"AAGAB\", \"AAK1\", \"AAMDC\", \"AARS\", \"AARS2\", \"AASDHPPT\"], \"y\": [1.59634671483682, 5.94287672558743, 1.93367163967319, 1.7548523265688798, null, 1.04589857729304, 1.39133858819126, 5.1708856805288, 3.4547976367609197, 1.52230146291188], \"type\": \"scatter\", \"uid\": \"c0e63e72-d605-11e8-af20-a81e84e6c740\"}, {\"legendgroup\": \"Female\", \"line\": {\"color\": \"rgb(252,141,89)\"}, \"name\": \"Female\", \"showlegend\": false, \"x\": [\"A1BG\", \"A2M\", \"AAAS\", \"AACS\", \"AAGAB\", \"AAK1\", \"AAMDC\", \"AARS\", \"AARS2\", \"AASDHPPT\"], \"y\": [3.1869759816271297, 5.648713310313929, 2.8200148740369397, null, 1.01089659482907, 1.04504527325487, 0.99366769892017, 4.619720865621121, 2.65271643942605, 1.4946552648303602], \"type\": \"scatter\", \"uid\": \"c0e64142-d605-11e8-af20-a81e84e6c740\"}, {\"legendgroup\": \"Male\", \"line\": {\"color\": \"rgb(145,191,219)\"}, \"name\": \"Male\", \"showlegend\": false, \"x\": [\"A1BG\", \"A2M\", \"AAAS\", \"AACS\", \"AAGAB\", \"AAK1\", \"AAMDC\", \"AARS\", \"AARS2\", \"AASDHPPT\"], \"y\": [3.5900139905084503, 6.23911802513181, 1.2833333241170801, null, null, 1.30860553198265, null, 2.8826966931964, null, 1.21881323382269], \"type\": \"scatter\", \"uid\": \"c0e643fe-d605-11e8-af20-a81e84e6c740\"}, {\"legendgroup\": \"Female\", \"line\": {\"color\": \"rgb(252,141,89)\"}, \"name\": \"Female\", \"showlegend\": false, \"x\": [\"A1BG\", \"A2M\", \"AAAS\", \"AACS\", \"AAGAB\", \"AAK1\", \"AAMDC\", \"AARS\", \"AARS2\", \"AASDHPPT\"], \"y\": [5.61615758765507, 6.94810817247808, 1.1798879673929599, null, null, 1.17741975181246, null, 3.91361202382425, null, 1.10321509213274], \"type\": \"scatter\", \"uid\": \"c0e646c4-d605-11e8-af20-a81e84e6c740\"}, {\"legendgroup\": \"Male\", \"line\": {\"color\": \"rgb(145,191,219)\"}, \"name\": \"Male\", \"showlegend\": false, \"x\": [\"A1BG\", \"A2M\", \"AAAS\", \"AACS\", \"AAGAB\", \"AAK1\", \"AAMDC\", \"AARS\", \"AARS2\", \"AASDHPPT\"], \"y\": [3.09986973640628, 6.03836212677954, null, 1.2077306192777, 1.1510473689148202, 1.10937319038175, null, 4.55998391650249, 2.95444533458089, null], \"type\": \"scatter\", \"uid\": \"c0e6499e-d605-11e8-af20-a81e84e6c740\"}, {\"legendgroup\": \"Female\", \"line\": {\"color\": \"rgb(252,141,89)\"}, \"name\": \"Female\", \"showlegend\": false, \"x\": [\"A1BG\", \"A2M\", \"AAAS\", \"AACS\", \"AAGAB\", \"AAK1\", \"AAMDC\", \"AARS\", \"AARS2\", \"AASDHPPT\"], \"y\": [3.49828912179644, 6.424258302267329, 2.27870057612752, 0.979942342319088, 1.01089659482907, 2.14968667277861, 1.36200838928563, 4.233465251255799, 2.75697156407123, 0.986304773117901], \"type\": \"scatter\", \"uid\": \"c0e64c64-d605-11e8-af20-a81e84e6c740\"}, {\"legendgroup\": \"Female\", \"line\": {\"color\": \"rgb(252,141,89)\"}, \"name\": \"Female\", \"showlegend\": false, \"x\": [\"A1BG\", \"A2M\", \"AAAS\", \"AACS\", \"AAGAB\", \"AAK1\", \"AAMDC\", \"AARS\", \"AARS2\", \"AASDHPPT\"], \"y\": [3.5475122283036806, 5.87081065956632, null, null, null, null, 1.10676622478426, 4.07093864092873, 0.971576121234059, null], \"type\": \"scatter\", \"uid\": \"c0e64f2a-d605-11e8-af20-a81e84e6c740\"}, {\"legendgroup\": \"Female\", \"line\": {\"color\": \"rgb(252,141,89)\"}, \"name\": \"Female\", \"showlegend\": false, \"x\": [\"A1BG\", \"A2M\", \"AAAS\", \"AACS\", \"AAGAB\", \"AAK1\", \"AAMDC\", \"AARS\", \"AARS2\", \"AASDHPPT\"], \"y\": [3.7285857988234703, 6.955854648987679, 2.12280729603685, 1.07267074279829, null, 1.0013742095451499, null, 4.79652178194246, 0.9376713266103291, 2.09513128203311], \"type\": \"scatter\", \"uid\": \"c0e651e6-d605-11e8-af20-a81e84e6c740\"}, {\"legendgroup\": \"Male\", \"line\": {\"color\": \"rgb(145,191,219)\"}, \"name\": \"Male\", \"showlegend\": false, \"x\": [\"A1BG\", \"A2M\", \"AAAS\", \"AACS\", \"AAGAB\", \"AAK1\", \"AAMDC\", \"AARS\", \"AARS2\", \"AASDHPPT\"], \"y\": [3.0461862804088398, 6.263410712577491, 0.9843469248480609, null, 1.03340855129467, 1.00168551154172, 1.06339050638629, 3.8837260914434397, 1.55882665924754, null], \"type\": \"scatter\", \"uid\": \"c0e654ac-d605-11e8-af20-a81e84e6c740\"}, {\"legendgroup\": \"Female\", \"line\": {\"color\": \"rgb(252,141,89)\"}, \"name\": \"Female\", \"showlegend\": false, \"x\": [\"A1BG\", \"A2M\", \"AAAS\", \"AACS\", \"AAGAB\", \"AAK1\", \"AAMDC\", \"AARS\", \"AARS2\", \"AASDHPPT\"], \"y\": [2.4597690615736, 5.52691465271868, 1.75966450371144, null, null, 1.04463470918049, 1.12126134205584, 4.13187132349338, 2.6367594527075298, 1.09228388334885], \"type\": \"scatter\", \"uid\": \"c0e65768-d605-11e8-af20-a81e84e6c740\"}, {\"legendgroup\": \"Female\", \"line\": {\"color\": \"rgb(252,141,89)\"}, \"name\": \"Female\", \"showlegend\": false, \"x\": [\"A1BG\", \"A2M\", \"AAAS\", \"AACS\", \"AAGAB\", \"AAK1\", \"AAMDC\", \"AARS\", \"AARS2\", \"AASDHPPT\"], \"y\": [4.23692509558401, 5.86785209899078, 2.04186621044897, null, 1.0330689917054798, 1.5686588573731002, null, 4.852242852312941, 2.22769835189275, 1.04604407169187], \"type\": \"scatter\", \"uid\": \"c0e65a56-d605-11e8-af20-a81e84e6c740\"}, {\"legendgroup\": \"Female\", \"line\": {\"color\": \"rgb(252,141,89)\"}, \"name\": \"Female\", \"showlegend\": false, \"x\": [\"A1BG\", \"A2M\", \"AAAS\", \"AACS\", \"AAGAB\", \"AAK1\", \"AAMDC\", \"AARS\", \"AARS2\", \"AASDHPPT\"], \"y\": [3.53595587638427, 5.5328111271033, 0.987561301006021, 1.07661506676178, null, null, 1.06722700816823, 2.48152514783537, 3.2854013020450097, 1.04942951129427], \"type\": \"scatter\", \"uid\": \"c0e65d26-d605-11e8-af20-a81e84e6c740\"}, {\"legendgroup\": \"Female\", \"line\": {\"color\": \"rgb(252,141,89)\"}, \"name\": \"Female\", \"showlegend\": false, \"x\": [\"A1BG\", \"A2M\", \"AAAS\", \"AACS\", \"AAGAB\", \"AAK1\", \"AAMDC\", \"AARS\", \"AARS2\", \"AASDHPPT\"], \"y\": [3.5294451981434602, 5.65267147487592, 2.31023795754196, 1.8780051856273001, 1.01089659482907, 1.04504527325487, 0.99366769892017, 4.4888766465886105, 2.2359286223552597, 0.986304773117901], \"type\": \"scatter\", \"uid\": \"c0e65fec-d605-11e8-af20-a81e84e6c740\"}, {\"legendgroup\": \"Male\", \"line\": {\"color\": \"rgb(145,191,219)\"}, \"name\": \"Male\", \"showlegend\": false, \"x\": [\"A1BG\", \"A2M\", \"AAAS\", \"AACS\", \"AAGAB\", \"AAK1\", \"AAMDC\", \"AARS\", \"AARS2\", \"AASDHPPT\"], \"y\": [3.0210295011864603, 5.390655306223071, 2.0057382993153, 1.43769498225318, 1.01524746891747, 1.6970252199695102, 0.9971298391069341, 4.99087878389666, 2.79107375171594, 0.990820177539033], \"type\": \"scatter\", \"uid\": \"c0e662b2-d605-11e8-af20-a81e84e6c740\"}, {\"legendgroup\": \"Female\", \"line\": {\"color\": \"rgb(252,141,89)\"}, \"name\": \"Female\", \"showlegend\": false, \"x\": [\"A1BG\", \"A2M\", \"AAAS\", \"AACS\", \"AAGAB\", \"AAK1\", \"AAMDC\", \"AARS\", \"AARS2\", \"AASDHPPT\"], \"y\": [3.1372893420888994, 6.140038104548041, 1.0867083418688102, null, null, 1.79699396161654, 1.00441577873043, 4.499901032177299, 1.1520682976672099, 1.6485000716955802], \"type\": \"scatter\", \"uid\": \"c0e66578-d605-11e8-af20-a81e84e6c740\"}, {\"legendgroup\": \"Male\", \"line\": {\"color\": \"rgb(145,191,219)\"}, \"name\": \"Male\", \"showlegend\": false, \"x\": [\"A1BG\", \"A2M\", \"AAAS\", \"AACS\", \"AAGAB\", \"AAK1\", \"AAMDC\", \"AARS\", \"AARS2\", \"AASDHPPT\"], \"y\": [3.2149157915835804, 6.3395089600410195, 2.2594843463472998, 1.35202811825311, 0.99111448794322, 1.8536763962525, 1.01145806300837, 4.70134745871087, 2.6040711824836604, 1.28393524570721], \"type\": \"scatter\", \"uid\": \"c0e6682a-d605-11e8-af20-a81e84e6c740\"}, {\"legendgroup\": \"Male\", \"line\": {\"color\": \"rgb(145,191,219)\"}, \"name\": \"Male\", \"showlegend\": false, \"x\": [\"A1BG\", \"A2M\", \"AAAS\", \"AACS\", \"AAGAB\", \"AAK1\", \"AAMDC\", \"AARS\", \"AARS2\", \"AASDHPPT\"], \"y\": [4.01122618635688, 5.91743456877841, 2.38168761934465, 1.92473376286295, 1.01089659482907, null, 1.30096112531407, 4.5038922227256695, 2.57883036856966, 1.88161332337544], \"type\": \"scatter\", \"uid\": \"c0e66ae6-d605-11e8-af20-a81e84e6c740\"}, {\"legendgroup\": \"Male\", \"line\": {\"color\": \"rgb(145,191,219)\"}, \"name\": \"Male\", \"showlegend\": false, \"x\": [\"A1BG\", \"A2M\", \"AAAS\", \"AACS\", \"AAGAB\", \"AAK1\", \"AAMDC\", \"AARS\", \"AARS2\", \"AASDHPPT\"], \"y\": [3.6606331844525997, 6.05613605616244, 2.19386317938781, 1.02483846226713, 0.99111448794322, 1.1596809122768, 1.79522648385255, 4.75165048878155, 2.2793717828773397, 1.88032789712684], \"type\": \"scatter\", \"uid\": \"c0e66da2-d605-11e8-af20-a81e84e6c740\"}, {\"legendgroup\": \"Male\", \"line\": {\"color\": \"rgb(145,191,219)\"}, \"name\": \"Male\", \"showlegend\": false, \"x\": [\"A1BG\", \"A2M\", \"AAAS\", \"AACS\", \"AAGAB\", \"AAK1\", \"AAMDC\", \"AARS\", \"AARS2\", \"AASDHPPT\"], \"y\": [3.2899536210132903, 6.755774933511749, 2.23395224764821, 1.64654716994273, null, 1.09047126511384, 1.0243677966265299, 5.00802831663644, 1.17832845911814, 1.02646268360328], \"type\": \"scatter\", \"uid\": \"c0e6705e-d605-11e8-af20-a81e84e6c740\"}, {\"legendgroup\": \"Female\", \"line\": {\"color\": \"rgb(252,141,89)\"}, \"name\": \"Female\", \"showlegend\": false, \"x\": [\"A1BG\", \"A2M\", \"AAAS\", \"AACS\", \"AAGAB\", \"AAK1\", \"AAMDC\", \"AARS\", \"AARS2\", \"AASDHPPT\"], \"y\": [3.3984718128030496, 6.13243996592667, null, null, 1.09672430645745, 2.13264585982025, 1.1416254978843101, 4.27330191250592, 0.9985178346585221, null], \"type\": \"scatter\", \"uid\": \"c0e6731a-d605-11e8-af20-a81e84e6c740\"}, {\"legendgroup\": \"Female\", \"line\": {\"color\": \"rgb(252,141,89)\"}, \"name\": \"Female\", \"showlegend\": false, \"x\": [\"A1BG\", \"A2M\", \"AAAS\", \"AACS\", \"AAGAB\", \"AAK1\", \"AAMDC\", \"AARS\", \"AARS2\", \"AASDHPPT\"], \"y\": [4.32321666403368, 6.82230279432001, 2.81512663367239, 1.63864685138365, null, 0.9758672839469449, null, 4.33512955179083, 1.80171764542292, 1.5253561396284199], \"type\": \"scatter\", \"uid\": \"c0e675d6-d605-11e8-af20-a81e84e6c740\"}, {\"legendgroup\": \"Male\", \"line\": {\"color\": \"rgb(145,191,219)\"}, \"name\": \"Male\", \"showlegend\": false, \"x\": [\"A1BG\", \"A2M\", \"AAAS\", \"AACS\", \"AAGAB\", \"AAK1\", \"AAMDC\", \"AARS\", \"AARS2\", \"AASDHPPT\"], \"y\": [3.74351497638519, 5.45576882125558, 1.09027708769643, null, null, null, 1.0074117187597098, 4.79442520339982, null, 1.0042502399398698], \"type\": \"scatter\", \"uid\": \"c0e67900-d605-11e8-af20-a81e84e6c740\"}, {\"legendgroup\": \"Male\", \"line\": {\"color\": \"rgb(145,191,219)\"}, \"name\": \"Male\", \"showlegend\": false, \"x\": [\"A1BG\", \"A2M\", \"AAAS\", \"AACS\", \"AAGAB\", \"AAK1\", \"AAMDC\", \"AARS\", \"AARS2\", \"AASDHPPT\"], \"y\": [4.17398271560642, 6.43809597045893, 1.9858943807884397, 1.04894287708223, null, 0.9822999177289541, null, 5.02924347571587, 2.64860701417994, 1.0256584245101001], \"type\": \"scatter\", \"uid\": \"c0e67b44-d605-11e8-af20-a81e84e6c740\"}, {\"legendgroup\": \"Male\", \"line\": {\"color\": \"rgb(145,191,219)\"}, \"name\": \"Male\", \"showlegend\": false, \"x\": [\"A1BG\", \"A2M\", \"AAAS\", \"AACS\", \"AAGAB\", \"AAK1\", \"AAMDC\", \"AARS\", \"AARS2\", \"AASDHPPT\"], \"y\": [1.8744786050718, 5.05718731420642, 2.20883997895392, 2.00551609042952, 1.75872521995669, 1.07542267086727, 1.0142236363555601, 5.02653290013259, 1.90276095637902, null], \"type\": \"scatter\", \"uid\": \"c0e67d7e-d605-11e8-af20-a81e84e6c740\"}, {\"legendgroup\": \"Male\", \"line\": {\"color\": \"rgb(145,191,219)\"}, \"name\": \"Male\", \"showlegend\": false, \"x\": [\"A1BG\", \"A2M\", \"AAAS\", \"AACS\", \"AAGAB\", \"AAK1\", \"AAMDC\", \"AARS\", \"AARS2\", \"AASDHPPT\"], \"y\": [2.66666789327159, 5.91951048793276, 2.96660268244922, 2.56435127132078, null, 1.0552127667234399, 1.0005599083947199, 4.3833807656506405, 1.67855367365289, 1.5372286493133402], \"type\": \"scatter\", \"uid\": \"c0e67fd6-d605-11e8-af20-a81e84e6c740\"}, {\"legendgroup\": \"Female\", \"line\": {\"color\": \"rgb(252,141,89)\"}, \"name\": \"Female\", \"showlegend\": false, \"x\": [\"A1BG\", \"A2M\", \"AAAS\", \"AACS\", \"AAGAB\", \"AAK1\", \"AAMDC\", \"AARS\", \"AARS2\", \"AASDHPPT\"], \"y\": [3.04072666998582, 5.6512557568238, 3.15403675439119, 1.02483846226713, null, 1.29771568214231, 1.01145806300837, 4.36929709703882, 2.9557659204559905, 2.0217995930710804], \"type\": \"scatter\", \"uid\": \"c0e683fa-d605-11e8-af20-a81e84e6c740\"}, {\"legendgroup\": \"Male\", \"line\": {\"color\": \"rgb(145,191,219)\"}, \"name\": \"Male\", \"showlegend\": false, \"x\": [\"A1BG\", \"A2M\", \"AAAS\", \"AACS\", \"AAGAB\", \"AAK1\", \"AAMDC\", \"AARS\", \"AARS2\", \"AASDHPPT\"], \"y\": [2.64240755615416, 6.39596614181663, 1.07390934886208, 1.4289593505851599, null, 2.26056729727604, 1.7744563874611599, 4.961583289822559, 1.13793426422732, 0.986304773117901], \"type\": \"scatter\", \"uid\": \"c0e6876a-d605-11e8-af20-a81e84e6c740\"}, {\"legendgroup\": \"Male\", \"line\": {\"color\": \"rgb(145,191,219)\"}, \"name\": \"Male\", \"showlegend\": false, \"x\": [\"A1BG\", \"A2M\", \"AAAS\", \"AACS\", \"AAGAB\", \"AAK1\", \"AAMDC\", \"AARS\", \"AARS2\", \"AASDHPPT\"], \"y\": [3.97556513332576, 6.49790052913669, 2.8600771313966, 1.02483846226713, 0.99111448794322, null, null, 4.16498943767364, 1.95639863727083, 1.75924647252024], \"type\": \"scatter\", \"uid\": \"c0e68ada-d605-11e8-af20-a81e84e6c740\"}, {\"legendgroup\": \"Male\", \"line\": {\"color\": \"rgb(145,191,219)\"}, \"name\": \"Male\", \"showlegend\": false, \"x\": [\"A1BG\", \"A2M\", \"AAAS\", \"AACS\", \"AAGAB\", \"AAK1\", \"AAMDC\", \"AARS\", \"AARS2\", \"AASDHPPT\"], \"y\": [3.1041431931728702, 5.835617887528139, 1.0120815331898, 1.10374161160281, 1.06026960572526, 2.04730174722207, null, 4.359264714721689, 1.6204604603754198, 2.16176041876236], \"type\": \"scatter\", \"uid\": \"c0e68e40-d605-11e8-af20-a81e84e6c740\"}, {\"legendgroup\": \"Female\", \"line\": {\"color\": \"rgb(252,141,89)\"}, \"name\": \"Female\", \"showlegend\": false, \"x\": [\"A1BG\", \"A2M\", \"AAAS\", \"AACS\", \"AAGAB\", \"AAK1\", \"AAMDC\", \"AARS\", \"AARS2\", \"AASDHPPT\"], \"y\": [4.1413042153527, 6.308504863621019, 1.0888229534745901, null, null, 1.06353326728556, 1.00619103130547, 4.90936966651822, 2.70976062865171, 1.00265422616861], \"type\": \"scatter\", \"uid\": \"c0e691b0-d605-11e8-af20-a81e84e6c740\"}, {\"legendgroup\": \"Female\", \"line\": {\"color\": \"rgb(252,141,89)\"}, \"name\": \"Female\", \"showlegend\": false, \"x\": [\"A1BG\", \"A2M\", \"AAAS\", \"AACS\", \"AAGAB\", \"AAK1\", \"AAMDC\", \"AARS\", \"AARS2\", \"AASDHPPT\"], \"y\": [3.48464206708574, 5.782307475170589, 1.07390934886208, 1.89876222147167, 1.01089659482907, 1.6038926865303702, 0.99366769892017, 4.45323531300642, 3.7874033642787004, 1.47860568411859], \"type\": \"scatter\", \"uid\": \"c0e69516-d605-11e8-af20-a81e84e6c740\"}, {\"legendgroup\": \"Female\", \"line\": {\"color\": \"rgb(252,141,89)\"}, \"name\": \"Female\", \"showlegend\": false, \"x\": [\"A1BG\", \"A2M\", \"AAAS\", \"AACS\", \"AAGAB\", \"AAK1\", \"AAMDC\", \"AARS\", \"AARS2\", \"AASDHPPT\"], \"y\": [2.92245873992549, 5.64027569498491, 1.72469093511447, 1.00186067380989, null, 1.07542267086727, 1.5365851722122699, 4.5689554051992, 1.16497348445752, 1.72389795835833], \"type\": \"scatter\", \"uid\": \"c0e69886-d605-11e8-af20-a81e84e6c740\"}, {\"legendgroup\": \"Male\", \"line\": {\"color\": \"rgb(145,191,219)\"}, \"name\": \"Male\", \"showlegend\": false, \"x\": [\"A1BG\", \"A2M\", \"AAAS\", \"AACS\", \"AAGAB\", \"AAK1\", \"AAMDC\", \"AARS\", \"AARS2\", \"AASDHPPT\"], \"y\": [3.86207865896245, 5.52920535539224, 1.032781152957, null, null, null, 1.12126134205584, 4.368541198483539, 2.41238505024026, null], \"type\": \"scatter\", \"uid\": \"c0e69bf6-d605-11e8-af20-a81e84e6c740\"}, {\"legendgroup\": \"Male\", \"line\": {\"color\": \"rgb(145,191,219)\"}, \"name\": \"Male\", \"showlegend\": false, \"x\": [\"A1BG\", \"A2M\", \"AAAS\", \"AACS\", \"AAGAB\", \"AAK1\", \"AAMDC\", \"AARS\", \"AARS2\", \"AASDHPPT\"], \"y\": [3.46004861959962, 5.80154432988065, 2.9749454705839105, 1.3902325431493898, 1.01089659482907, 2.61728994681138, 1.7256731019902398, 4.75490672581986, 2.10695750098407, null], \"type\": \"scatter\", \"uid\": \"c0e69f66-d605-11e8-af20-a81e84e6c740\"}, {\"legendgroup\": \"Female\", \"line\": {\"color\": \"rgb(252,141,89)\"}, \"name\": \"Female\", \"showlegend\": false, \"x\": [\"A1BG\", \"A2M\", \"AAAS\", \"AACS\", \"AAGAB\", \"AAK1\", \"AAMDC\", \"AARS\", \"AARS2\", \"AASDHPPT\"], \"y\": [3.53886689073838, 6.20644513107262, 1.09839319413485, null, null, 1.07542267086727, 1.0142236363555601, 4.6496791362982, 1.16497348445752, 1.0131642884910999], \"type\": \"scatter\", \"uid\": \"c0e6a2d6-d605-11e8-af20-a81e84e6c740\"}, {\"legendgroup\": \"Female\", \"line\": {\"color\": \"rgb(252,141,89)\"}, \"name\": \"Female\", \"showlegend\": false, \"x\": [\"A1BG\", \"A2M\", \"AAAS\", \"AACS\", \"AAGAB\", \"AAK1\", \"AAMDC\", \"AARS\", \"AARS2\", \"AASDHPPT\"], \"y\": [2.21231342637408, 4.977798239208981, 2.20637076236175, 2.30497772432296, null, null, 2.21406718636955, 3.9937787403873197, 2.38670359333038, 2.28790013059148], \"type\": \"scatter\", \"uid\": \"c0e6a646-d605-11e8-af20-a81e84e6c740\"}, {\"legendgroup\": \"Female\", \"line\": {\"color\": \"rgb(252,141,89)\"}, \"name\": \"Female\", \"showlegend\": false, \"x\": [\"A1BG\", \"A2M\", \"AAAS\", \"AACS\", \"AAGAB\", \"AAK1\", \"AAMDC\", \"AARS\", \"AARS2\", \"AASDHPPT\"], \"y\": [2.3898485120729505, 7.081374918101701, 2.5441119249999, 1.5033812208348998, 1.6759082502623999, 1.7862860386903199, 1.01145806300837, 5.3737865181234, 2.9401854217930903, 1.41165218975371], \"type\": \"scatter\", \"uid\": \"c0e6a9b6-d605-11e8-af20-a81e84e6c740\"}, {\"legendgroup\": \"Male\", \"line\": {\"color\": \"rgb(145,191,219)\"}, \"name\": \"Male\", \"showlegend\": false, \"x\": [\"A1BG\", \"A2M\", \"AAAS\", \"AACS\", \"AAGAB\", \"AAK1\", \"AAMDC\", \"AARS\", \"AARS2\", \"AASDHPPT\"], \"y\": [2.74788584277287, 6.16447266836761, 2.84243508057628, 2.48176719805289, 1.18193387685088, 1.46822489228849, 1.01145806300837, 4.759782869212589, 2.6635788744426097, 1.54493462483271], \"type\": \"scatter\", \"uid\": \"c0e6ad30-d605-11e8-af20-a81e84e6c740\"}, {\"legendgroup\": \"Male\", \"line\": {\"color\": \"rgb(145,191,219)\"}, \"name\": \"Male\", \"showlegend\": false, \"x\": [\"A1BG\", \"A2M\", \"AAAS\", \"AACS\", \"AAGAB\", \"AAK1\", \"AAMDC\", \"AARS\", \"AARS2\", \"AASDHPPT\"], \"y\": [3.1079071657078, 6.40427574842441, 1.6948888376572702, null, 1.04451125039997, 2.04662401129165, 1.07706857952074, 4.64137727392521, 2.6850890856321095, 2.16104033774996], \"type\": \"scatter\", \"uid\": \"c0e6b0a0-d605-11e8-af20-a81e84e6c740\"}, {\"legendgroup\": \"Male\", \"line\": {\"color\": \"rgb(145,191,219)\"}, \"name\": \"Male\", \"showlegend\": false, \"x\": [\"A1BG\", \"A2M\", \"AAAS\", \"AACS\", \"AAGAB\", \"AAK1\", \"AAMDC\", \"AARS\", \"AARS2\", \"AASDHPPT\"], \"y\": [null, 4.03572846150933, null, 1.1149343907511102, null, 1.03526888109567, 1.10860936227704, 4.95969920985146, 2.10491205881968, null], \"type\": \"scatter\", \"uid\": \"c0e6b41a-d605-11e8-af20-a81e84e6c740\"}, {\"legendgroup\": \"Female\", \"line\": {\"color\": \"rgb(252,141,89)\"}, \"name\": \"Female\", \"showlegend\": false, \"x\": [\"A1BG\", \"A2M\", \"AAAS\", \"AACS\", \"AAGAB\", \"AAK1\", \"AAMDC\", \"AARS\", \"AARS2\", \"AASDHPPT\"], \"y\": [3.84011693807891, 6.17233464516218, 2.3051915332916697, 0.990946335141364, null, null, 1.4391006083879798, 4.48887984223513, 2.15391945240706, null], \"type\": \"scatter\", \"uid\": \"c0e6b78a-d605-11e8-af20-a81e84e6c740\"}, {\"legendgroup\": \"Male\", \"line\": {\"color\": \"rgb(145,191,219)\"}, \"name\": \"Male\", \"showlegend\": false, \"x\": [\"A1BG\", \"A2M\", \"AAAS\", \"AACS\", \"AAGAB\", \"AAK1\", \"AAMDC\", \"AARS\", \"AARS2\", \"AASDHPPT\"], \"y\": [3.55133226365456, 5.519233288830299, 1.6536038268083302, null, null, 0.997351059132894, 1.05757182945798, 4.4561823515131795, 0.9334852955540359, 1.0417441949391602], \"type\": \"scatter\", \"uid\": \"c0e6bafa-d605-11e8-af20-a81e84e6c740\"}, {\"legendgroup\": \"Male\", \"line\": {\"color\": \"rgb(145,191,219)\"}, \"name\": \"Male\", \"showlegend\": false, \"x\": [\"A1BG\", \"A2M\", \"AAAS\", \"AACS\", \"AAGAB\", \"AAK1\", \"AAMDC\", \"AARS\", \"AARS2\", \"AASDHPPT\"], \"y\": [3.92300199949009, 5.737921664576991, 1.76891346782014, 1.60540194254802, 1.04103881460347, 1.94095768372969, 2.42469050336944, 4.65543468501441, 1.90558826334556, null], \"type\": \"scatter\", \"uid\": \"c0e6be6a-d605-11e8-af20-a81e84e6c740\"}], {\"title\": \"\", \"xaxis\": {\"mirror\": \"all\", \"nticks\": 20, \"showgrid\": true, \"showline\": true, \"title\": \"all_index\", \"zeroline\": true}, \"yaxis\": {\"mirror\": \"all\", \"nticks\": 20, \"showgrid\": true, \"showline\": true, \"title\": \"all_column\", \"zeroline\": true}}, {\"showLink\": true, \"linkText\": \"Export to plot.ly\"})});</script>"
      ],
      "text/vnd.plotly.v1+html": [
       "<div id=\"ffa5b583-650c-4db3-9932-9fe9a50fa1fd\" style=\"height: 525px; width: 100%;\" class=\"plotly-graph-div\"></div><script type=\"text/javascript\">require([\"plotly\"], function(Plotly) { window.PLOTLYENV=window.PLOTLYENV || {};window.PLOTLYENV.BASE_URL=\"https://plot.ly\";Plotly.newPlot(\"ffa5b583-650c-4db3-9932-9fe9a50fa1fd\", [{\"legendgroup\": \"Male\", \"line\": {\"color\": \"rgb(145,191,219)\"}, \"name\": \"Male\", \"showlegend\": true, \"x\": [\"A1BG\", \"A2M\", \"AAAS\", \"AACS\", \"AAGAB\", \"AAK1\", \"AAMDC\", \"AARS\", \"AARS2\", \"AASDHPPT\"], \"y\": [3.9568532392881, 5.4126322011768195, null, null, null, null, null, 4.368986458329339, null, null], \"type\": \"scatter\", \"uid\": \"c0e542ba-d605-11e8-af20-a81e84e6c740\"}, {\"legendgroup\": \"Male\", \"line\": {\"color\": \"rgb(145,191,219)\"}, \"name\": \"Male\", \"showlegend\": false, \"x\": [\"A1BG\", \"A2M\", \"AAAS\", \"AACS\", \"AAGAB\", \"AAK1\", \"AAMDC\", \"AARS\", \"AARS2\", \"AASDHPPT\"], \"y\": [3.5645763471574803, 6.905626016456701, 2.4998208350840097, 1.40851402777901, 1.01523369988498, null, 1.3920761080249802, 4.84252929574435, 1.1424717052325, 1.5233196760224], \"type\": \"scatter\", \"uid\": \"c0e548b4-d605-11e8-af20-a81e84e6c740\"}, {\"legendgroup\": \"Male\", \"line\": {\"color\": \"rgb(145,191,219)\"}, \"name\": \"Male\", \"showlegend\": false, \"x\": [\"A1BG\", \"A2M\", \"AAAS\", \"AACS\", \"AAGAB\", \"AAK1\", \"AAMDC\", \"AARS\", \"AARS2\", \"AASDHPPT\"], \"y\": [3.11287453774938, 5.6453405614965, 2.21182179988104, 1.0998923824396398, 1.0569019428453499, 2.06040013391011, null, 4.90458636524111, 2.41739094486806, null], \"type\": \"scatter\", \"uid\": \"c0e54cec-d605-11e8-af20-a81e84e6c740\"}, {\"legendgroup\": \"Female\", \"line\": {\"color\": \"rgb(252,141,89)\"}, \"name\": \"Female\", \"showlegend\": true, \"x\": [\"A1BG\", \"A2M\", \"AAAS\", \"AACS\", \"AAGAB\", \"AAK1\", \"AAMDC\", \"AARS\", \"AARS2\", \"AASDHPPT\"], \"y\": [3.4467226479524498, 5.994520057153459, 2.16800100282735, null, null, 1.61369551680054, null, 4.41274094396811, 3.16651083481783, 1.05610612353621], \"type\": \"scatter\", \"uid\": \"c0e550b6-d605-11e8-af20-a81e84e6c740\"}, {\"legendgroup\": \"Male\", \"line\": {\"color\": \"rgb(145,191,219)\"}, \"name\": \"Male\", \"showlegend\": false, \"x\": [\"A1BG\", \"A2M\", \"AAAS\", \"AACS\", \"AAGAB\", \"AAK1\", \"AAMDC\", \"AARS\", \"AARS2\", \"AASDHPPT\"], \"y\": [2.8287122493345396, 6.0989533035417, 2.57551931967134, 1.8490700820656398, null, 1.27397185482978, null, 4.469706288708389, 2.41396495244369, 1.00491304925533], \"type\": \"scatter\", \"uid\": \"c0e55462-d605-11e8-af20-a81e84e6c740\"}, {\"legendgroup\": \"Male\", \"line\": {\"color\": \"rgb(145,191,219)\"}, \"name\": \"Male\", \"showlegend\": false, \"x\": [\"A1BG\", \"A2M\", \"AAAS\", \"AACS\", \"AAGAB\", \"AAK1\", \"AAMDC\", \"AARS\", \"AARS2\", \"AASDHPPT\"], \"y\": [3.5691876124278394, 5.96193635264858, 1.0086016172160401, 1.0998923824396398, 1.0569019428453499, 1.63526605234666, 1.94064075910959, 4.39434113105162, 2.05862709130219, 1.06939011649125], \"type\": \"scatter\", \"uid\": \"c0e557f0-d605-11e8-af20-a81e84e6c740\"}, {\"legendgroup\": \"Female\", \"line\": {\"color\": \"rgb(252,141,89)\"}, \"name\": \"Female\", \"showlegend\": false, \"x\": [\"A1BG\", \"A2M\", \"AAAS\", \"AACS\", \"AAGAB\", \"AAK1\", \"AAMDC\", \"AARS\", \"AARS2\", \"AASDHPPT\"], \"y\": [3.74044443852763, 5.7058074918282, 2.26874343854218, 2.1011266875291597, 1.0052580463963001, null, 1.02879354215339, 4.54715117397611, 1.4126007472509199, 2.4942105051202597], \"type\": \"scatter\", \"uid\": \"c0e55b74-d605-11e8-af20-a81e84e6c740\"}, {\"legendgroup\": \"Male\", \"line\": {\"color\": \"rgb(145,191,219)\"}, \"name\": \"Male\", \"showlegend\": false, \"x\": [\"A1BG\", \"A2M\", \"AAAS\", \"AACS\", \"AAGAB\", \"AAK1\", \"AAMDC\", \"AARS\", \"AARS2\", \"AASDHPPT\"], \"y\": [3.00964584983622, 5.47173817039407, 2.71752278015999, 2.22700848103247, 1.03805729687483, null, 1.01524997044423, 4.83323987708376, 1.16632434082758, 1.0145084647357598], \"type\": \"scatter\", \"uid\": \"c0e55eee-d605-11e8-af20-a81e84e6c740\"}, {\"legendgroup\": \"Female\", \"line\": {\"color\": \"rgb(252,141,89)\"}, \"name\": \"Female\", \"showlegend\": false, \"x\": [\"A1BG\", \"A2M\", \"AAAS\", \"AACS\", \"AAGAB\", \"AAK1\", \"AAMDC\", \"AARS\", \"AARS2\", \"AASDHPPT\"], \"y\": [4.98627258089667, 8.21014329758554, 2.81945959603419, 2.4647752369903198, 0.99111448794322, 0.9628873049168191, 1.01145806300837, 5.09006760143972, 2.77995609574954, 1.2069843285982098], \"type\": \"scatter\", \"uid\": \"c0e56268-d605-11e8-af20-a81e84e6c740\"}, {\"legendgroup\": \"Female\", \"line\": {\"color\": \"rgb(252,141,89)\"}, \"name\": \"Female\", \"showlegend\": false, \"x\": [\"A1BG\", \"A2M\", \"AAAS\", \"AACS\", \"AAGAB\", \"AAK1\", \"AAMDC\", \"AARS\", \"AARS2\", \"AASDHPPT\"], \"y\": [3.1738809297096697, 6.48099123966293, 2.2399137839727596, null, null, null, 1.0142236363555601, 4.04690402733727, 1.94204456313777, 1.81376933159376], \"type\": \"scatter\", \"uid\": \"c0e565e2-d605-11e8-af20-a81e84e6c740\"}, {\"legendgroup\": \"Male\", \"line\": {\"color\": \"rgb(145,191,219)\"}, \"name\": \"Male\", \"showlegend\": false, \"x\": [\"A1BG\", \"A2M\", \"AAAS\", \"AACS\", \"AAGAB\", \"AAK1\", \"AAMDC\", \"AARS\", \"AARS2\", \"AASDHPPT\"], \"y\": [2.53149439026854, 5.49626834415834, 1.4704743103508202, 2.82177328515283, 1.9111215439005402, 0.972636721098597, 1.64767852887355, 4.31587061575167, 1.7927291657702402, 1.5002451904055198], \"type\": \"scatter\", \"uid\": \"c0e56970-d605-11e8-af20-a81e84e6c740\"}, {\"legendgroup\": \"Female\", \"line\": {\"color\": \"rgb(252,141,89)\"}, \"name\": \"Female\", \"showlegend\": false, \"x\": [\"A1BG\", \"A2M\", \"AAAS\", \"AACS\", \"AAGAB\", \"AAK1\", \"AAMDC\", \"AARS\", \"AARS2\", \"AASDHPPT\"], \"y\": [3.6385086918589105, 6.305606292392469, 3.6253679298211097, 1.57713892176335, 1.0359638813056802, null, null, 3.83061917530115, null, null], \"type\": \"scatter\", \"uid\": \"c0e56cf4-d605-11e8-af20-a81e84e6c740\"}, {\"legendgroup\": \"Female\", \"line\": {\"color\": \"rgb(252,141,89)\"}, \"name\": \"Female\", \"showlegend\": false, \"x\": [\"A1BG\", \"A2M\", \"AAAS\", \"AACS\", \"AAGAB\", \"AAK1\", \"AAMDC\", \"AARS\", \"AARS2\", \"AASDHPPT\"], \"y\": [4.27789641162052, 6.28088230527511, null, null, null, 1.07542267086727, 1.0142236363555601, 4.5867212109572595, 1.87708669052473, null], \"type\": \"scatter\", \"uid\": \"c0e5706e-d605-11e8-af20-a81e84e6c740\"}, {\"legendgroup\": \"Male\", \"line\": {\"color\": \"rgb(145,191,219)\"}, \"name\": \"Male\", \"showlegend\": false, \"x\": [\"A1BG\", \"A2M\", \"AAAS\", \"AACS\", \"AAGAB\", \"AAK1\", \"AAMDC\", \"AARS\", \"AARS2\", \"AASDHPPT\"], \"y\": [3.8540464225194198, 5.2593768526907, 2.2338572688108, null, 1.06697767638036, null, 1.10480055864805, 4.58764170812752, 2.43129542982708, null], \"type\": \"scatter\", \"uid\": \"c0e573de-d605-11e8-af20-a81e84e6c740\"}, {\"legendgroup\": \"Male\", \"line\": {\"color\": \"rgb(145,191,219)\"}, \"name\": \"Male\", \"showlegend\": false, \"x\": [\"A1BG\", \"A2M\", \"AAAS\", \"AACS\", \"AAGAB\", \"AAK1\", \"AAMDC\", \"AARS\", \"AARS2\", \"AASDHPPT\"], \"y\": [3.5757543344815295, 5.53058944604922, 1.55698808621769, 2.9546967160746602, 1.5298165684435099, 1.04504527325487, 1.74623424197519, 4.68632432747435, 2.70823940744851, 2.01759212190021], \"type\": \"scatter\", \"uid\": \"c0e57758-d605-11e8-af20-a81e84e6c740\"}, {\"legendgroup\": \"Male\", \"line\": {\"color\": \"rgb(145,191,219)\"}, \"name\": \"Male\", \"showlegend\": false, \"x\": [\"A1BG\", \"A2M\", \"AAAS\", \"AACS\", \"AAGAB\", \"AAK1\", \"AAMDC\", \"AARS\", \"AARS2\", \"AASDHPPT\"], \"y\": [2.50012315868521, 6.445045416439521, 2.69257350697021, 1.31432470128625, 0.99111448794322, 1.83150577634997, 1.3251788007888001, 5.35321329700026, 2.84503834222961, 1.2520152359131598], \"type\": \"scatter\", \"uid\": \"c0e57ac8-d605-11e8-af20-a81e84e6c740\"}, {\"legendgroup\": \"Male\", \"line\": {\"color\": \"rgb(145,191,219)\"}, \"name\": \"Male\", \"showlegend\": false, \"x\": [\"A1BG\", \"A2M\", \"AAAS\", \"AACS\", \"AAGAB\", \"AAK1\", \"AAMDC\", \"AARS\", \"AARS2\", \"AASDHPPT\"], \"y\": [2.44439878162391, 6.45534920348141, 2.12171873153648, 0.9945943348960798, 1.02818261398489, 1.06533851499275, null, 4.319877587970891, 2.67948969638221, null], \"type\": \"scatter\", \"uid\": \"c0e57e42-d605-11e8-af20-a81e84e6c740\"}, {\"legendgroup\": \"Male\", \"line\": {\"color\": \"rgb(145,191,219)\"}, \"name\": \"Male\", \"showlegend\": false, \"x\": [\"A1BG\", \"A2M\", \"AAAS\", \"AACS\", \"AAGAB\", \"AAK1\", \"AAMDC\", \"AARS\", \"AARS2\", \"AASDHPPT\"], \"y\": [null, 5.372677370349081, 1.7740293994988603, 1.00186067380989, 1.0367636458346001, 1.07542267086727, 2.4467432535289904, 4.32724382791758, 1.16497348445752, null], \"type\": \"scatter\", \"uid\": \"c0e581bc-d605-11e8-af20-a81e84e6c740\"}, {\"legendgroup\": \"Female\", \"line\": {\"color\": \"rgb(252,141,89)\"}, \"name\": \"Female\", \"showlegend\": false, \"x\": [\"A1BG\", \"A2M\", \"AAAS\", \"AACS\", \"AAGAB\", \"AAK1\", \"AAMDC\", \"AARS\", \"AARS2\", \"AASDHPPT\"], \"y\": [3.6792387954765697, 6.01402448503538, 1.0086016172160401, null, null, 2.0395090830744698, null, 4.3204465490092705, 2.64663790865316, 1.06939011649125], \"type\": \"scatter\", \"uid\": \"c0e5852c-d605-11e8-af20-a81e84e6c740\"}, {\"legendgroup\": \"Male\", \"line\": {\"color\": \"rgb(145,191,219)\"}, \"name\": \"Male\", \"showlegend\": false, \"x\": [\"A1BG\", \"A2M\", \"AAAS\", \"AACS\", \"AAGAB\", \"AAK1\", \"AAMDC\", \"AARS\", \"AARS2\", \"AASDHPPT\"], \"y\": [1.91183905219512, 5.061908806174469, 2.2453435756570403, 1.77390306066003, null, 1.04504527325487, 1.39701568999526, 4.38792282771599, 2.42944825393415, 1.9920717848981002], \"type\": \"scatter\", \"uid\": \"c0e5889c-d605-11e8-af20-a81e84e6c740\"}, {\"legendgroup\": \"Male\", \"line\": {\"color\": \"rgb(145,191,219)\"}, \"name\": \"Male\", \"showlegend\": false, \"x\": [\"A1BG\", \"A2M\", \"AAAS\", \"AACS\", \"AAGAB\", \"AAK1\", \"AAMDC\", \"AARS\", \"AARS2\", \"AASDHPPT\"], \"y\": [3.2225562058399904, 5.7548859012492, 1.73783675722456, 1.00186067380989, null, 1.07542267086727, 1.0142236363555601, 4.891808355824651, 1.87132465211397, 1.7391595006136102], \"type\": \"scatter\", \"uid\": \"c0e58c16-d605-11e8-af20-a81e84e6c740\"}, {\"legendgroup\": \"Male\", \"line\": {\"color\": \"rgb(145,191,219)\"}, \"name\": \"Male\", \"showlegend\": false, \"x\": [\"A1BG\", \"A2M\", \"AAAS\", \"AACS\", \"AAGAB\", \"AAK1\", \"AAMDC\", \"AARS\", \"AARS2\", \"AASDHPPT\"], \"y\": [1.3223685551553601, 5.535452473535099, 3.5544799973906, 2.03849084255943, 1.12258260105199, null, 1.17372963799334, 4.79104459549079, 1.7516553897764702, 1.13366248141502], \"type\": \"scatter\", \"uid\": \"c0e58f86-d605-11e8-af20-a81e84e6c740\"}, {\"legendgroup\": \"Male\", \"line\": {\"color\": \"rgb(145,191,219)\"}, \"name\": \"Male\", \"showlegend\": false, \"x\": [\"A1BG\", \"A2M\", \"AAAS\", \"AACS\", \"AAGAB\", \"AAK1\", \"AAMDC\", \"AARS\", \"AARS2\", \"AASDHPPT\"], \"y\": [3.6695804062468, 6.371037944960201, 2.4105428081762, 1.02483846226713, 0.99111448794322, 1.1920088144193302, null, 4.7698265288818, 3.0964631895945196, 2.35518285053525], \"type\": \"scatter\", \"uid\": \"c0e592f6-d605-11e8-af20-a81e84e6c740\"}, {\"legendgroup\": \"Male\", \"line\": {\"color\": \"rgb(145,191,219)\"}, \"name\": \"Male\", \"showlegend\": false, \"x\": [\"A1BG\", \"A2M\", \"AAAS\", \"AACS\", \"AAGAB\", \"AAK1\", \"AAMDC\", \"AARS\", \"AARS2\", \"AASDHPPT\"], \"y\": [4.40447551348546, 7.48900775206629, 1.09839319413485, 1.00186067380989, null, 1.07542267086727, 1.0142236363555601, 4.09473032547892, 1.85682772518969, null], \"type\": \"scatter\", \"uid\": \"c0e59666-d605-11e8-af20-a81e84e6c740\"}, {\"legendgroup\": \"Male\", \"line\": {\"color\": \"rgb(145,191,219)\"}, \"name\": \"Male\", \"showlegend\": false, \"x\": [\"A1BG\", \"A2M\", \"AAAS\", \"AACS\", \"AAGAB\", \"AAK1\", \"AAMDC\", \"AARS\", \"AARS2\", \"AASDHPPT\"], \"y\": [3.25562838097532, 6.35243769994773, 2.11359193674844, 1.48258954019649, 1.3896125798624799, 2.41422783648875, 1.01145806300837, 4.126862125861661, 0.89769406653957, 1.00491304925533], \"type\": \"scatter\", \"uid\": \"c0e59c7e-d605-11e8-af20-a81e84e6c740\"}, {\"legendgroup\": \"Male\", \"line\": {\"color\": \"rgb(145,191,219)\"}, \"name\": \"Male\", \"showlegend\": false, \"x\": [\"A1BG\", \"A2M\", \"AAAS\", \"AACS\", \"AAGAB\", \"AAK1\", \"AAMDC\", \"AARS\", \"AARS2\", \"AASDHPPT\"], \"y\": [3.69621238006336, 5.685035282571031, 2.11359193674844, 1.08439701966148, null, null, null, 4.60366493799604, null, null], \"type\": \"scatter\", \"uid\": \"c0e5a4c6-d605-11e8-af20-a81e84e6c740\"}, {\"legendgroup\": \"Male\", \"line\": {\"color\": \"rgb(145,191,219)\"}, \"name\": \"Male\", \"showlegend\": false, \"x\": [\"A1BG\", \"A2M\", \"AAAS\", \"AACS\", \"AAGAB\", \"AAK1\", \"AAMDC\", \"AARS\", \"AARS2\", \"AASDHPPT\"], \"y\": [3.7903569232410494, 6.555174151224411, 2.36631806706837, 2.14955324680551, null, 1.1202909975556299, 1.67668273771783, 4.865935488291849, 2.04224400893629, null], \"type\": \"scatter\", \"uid\": \"c0e5aade-d605-11e8-af20-a81e84e6c740\"}, {\"legendgroup\": \"Male\", \"line\": {\"color\": \"rgb(145,191,219)\"}, \"name\": \"Male\", \"showlegend\": false, \"x\": [\"A1BG\", \"A2M\", \"AAAS\", \"AACS\", \"AAGAB\", \"AAK1\", \"AAMDC\", \"AARS\", \"AARS2\", \"AASDHPPT\"], \"y\": [3.6453741040981797, 6.39108693632353, 2.50173543918015, 1.0608531607782299, 1.0227129601087501, null, null, 4.9753031561232, 2.01851600170076, 1.03589537660383], \"type\": \"scatter\", \"uid\": \"c0e5b0a6-d605-11e8-af20-a81e84e6c740\"}, {\"legendgroup\": \"Male\", \"line\": {\"color\": \"rgb(145,191,219)\"}, \"name\": \"Male\", \"showlegend\": false, \"x\": [\"A1BG\", \"A2M\", \"AAAS\", \"AACS\", \"AAGAB\", \"AAK1\", \"AAMDC\", \"AARS\", \"AARS2\", \"AASDHPPT\"], \"y\": [2.2225698206158198, 5.5729708898153305, 2.62391125934332, 1.8472180493484598, 1.4177698632658502, 1.8422209142208401, null, 5.06436240462637, 1.30849774436443, 1.07925601827744], \"type\": \"scatter\", \"uid\": \"c0e5c082-d605-11e8-af20-a81e84e6c740\"}, {\"legendgroup\": \"Male\", \"line\": {\"color\": \"rgb(145,191,219)\"}, \"name\": \"Male\", \"showlegend\": false, \"x\": [\"A1BG\", \"A2M\", \"AAAS\", \"AACS\", \"AAGAB\", \"AAK1\", \"AAMDC\", \"AARS\", \"AARS2\", \"AASDHPPT\"], \"y\": [2.53025823238162, 6.8219692897695, 2.0368406591234196, 1.93378651341344, 1.11804623118907, 1.4220380940206998, null, 5.152915791159769, 2.49048690190197, 1.4956171371616798], \"type\": \"scatter\", \"uid\": \"c0e60e34-d605-11e8-af20-a81e84e6c740\"}, {\"legendgroup\": \"Female\", \"line\": {\"color\": \"rgb(252,141,89)\"}, \"name\": \"Female\", \"showlegend\": false, \"x\": [\"A1BG\", \"A2M\", \"AAAS\", \"AACS\", \"AAGAB\", \"AAK1\", \"AAMDC\", \"AARS\", \"AARS2\", \"AASDHPPT\"], \"y\": [2.1092147980754, 6.0822990256605305, 3.5983606540200603, 2.3947611163360496, 0.9982065080402499, 1.7449297860081001, 1.02014658202786, 5.13826044580504, 2.05681264046274, 1.4613234535819097], \"type\": \"scatter\", \"uid\": \"c0e616c2-d605-11e8-af20-a81e84e6c740\"}, {\"legendgroup\": \"Female\", \"line\": {\"color\": \"rgb(252,141,89)\"}, \"name\": \"Female\", \"showlegend\": false, \"x\": [\"A1BG\", \"A2M\", \"AAAS\", \"AACS\", \"AAGAB\", \"AAK1\", \"AAMDC\", \"AARS\", \"AARS2\", \"AASDHPPT\"], \"y\": [3.78893062342746, 6.43865670541757, 2.5676518995548396, 1.02483846226713, 0.99111448794322, 1.2686102769799, 1.01145806300837, 4.5367247870698, 2.81926149389621, 1.70280613974603], \"type\": \"scatter\", \"uid\": \"c0e61c26-d605-11e8-af20-a81e84e6c740\"}, {\"legendgroup\": \"Female\", \"line\": {\"color\": \"rgb(252,141,89)\"}, \"name\": \"Female\", \"showlegend\": false, \"x\": [\"A1BG\", \"A2M\", \"AAAS\", \"AACS\", \"AAGAB\", \"AAK1\", \"AAMDC\", \"AARS\", \"AARS2\", \"AASDHPPT\"], \"y\": [2.79625822733875, 5.06708492745029, 1.5206938408893302, 1.9787844353182802, 1.01089659482907, 1.04504527325487, 1.36680430823468, 4.982152903155759, 1.13793426422732, 1.48846638347727], \"type\": \"scatter\", \"uid\": \"c0e62310-d605-11e8-af20-a81e84e6c740\"}, {\"legendgroup\": \"Male\", \"line\": {\"color\": \"rgb(145,191,219)\"}, \"name\": \"Male\", \"showlegend\": false, \"x\": [\"A1BG\", \"A2M\", \"AAAS\", \"AACS\", \"AAGAB\", \"AAK1\", \"AAMDC\", \"AARS\", \"AARS2\", \"AASDHPPT\"], \"y\": [3.9131817343082704, 5.963700672551839, 1.10210874991172, null, 1.0406941353373, 1.93644779057287, 1.0173414479681, 4.591923444532901, 2.3152017676180603, null], \"type\": \"scatter\", \"uid\": \"c0e62c52-d605-11e8-af20-a81e84e6c740\"}, {\"legendgroup\": \"Male\", \"line\": {\"color\": \"rgb(145,191,219)\"}, \"name\": \"Male\", \"showlegend\": false, \"x\": [\"A1BG\", \"A2M\", \"AAAS\", \"AACS\", \"AAGAB\", \"AAK1\", \"AAMDC\", \"AARS\", \"AARS2\", \"AASDHPPT\"], \"y\": [3.5460650404498, 6.0671120113963095, 1.74523248356026, null, 1.12258260105199, 1.6623719798169199, null, 4.8827528981481505, 3.21867516992729, 2.35788793658119], \"type\": \"scatter\", \"uid\": \"c0e63468-d605-11e8-af20-a81e84e6c740\"}, {\"legendgroup\": \"Female\", \"line\": {\"color\": \"rgb(252,141,89)\"}, \"name\": \"Female\", \"showlegend\": false, \"x\": [\"A1BG\", \"A2M\", \"AAAS\", \"AACS\", \"AAGAB\", \"AAK1\", \"AAMDC\", \"AARS\", \"AARS2\", \"AASDHPPT\"], \"y\": [3.42451180183654, 5.66165966447068, 2.20543428122873, 1.02483846226713, 1.20311065472102, 1.53172918507209, null, 4.661098186681901, 2.28541247813833, 1.2123431075727], \"type\": \"scatter\", \"uid\": \"c0e638a0-d605-11e8-af20-a81e84e6c740\"}, {\"legendgroup\": \"Male\", \"line\": {\"color\": \"rgb(145,191,219)\"}, \"name\": \"Male\", \"showlegend\": false, \"x\": [\"A1BG\", \"A2M\", \"AAAS\", \"AACS\", \"AAGAB\", \"AAK1\", \"AAMDC\", \"AARS\", \"AARS2\", \"AASDHPPT\"], \"y\": [3.9510790496329804, 6.63784286919579, 2.4020662299203797, 2.3975477892155097, null, 1.06028084957578, 2.46888125240476, 4.60154377120712, 2.85727476596398, 1.6359455268142098], \"type\": \"scatter\", \"uid\": \"c0e63b98-d605-11e8-af20-a81e84e6c740\"}, {\"legendgroup\": \"Male\", \"line\": {\"color\": \"rgb(145,191,219)\"}, \"name\": \"Male\", \"showlegend\": false, \"x\": [\"A1BG\", \"A2M\", \"AAAS\", \"AACS\", \"AAGAB\", \"AAK1\", \"AAMDC\", \"AARS\", \"AARS2\", \"AASDHPPT\"], \"y\": [1.59634671483682, 5.94287672558743, 1.93367163967319, 1.7548523265688798, null, 1.04589857729304, 1.39133858819126, 5.1708856805288, 3.4547976367609197, 1.52230146291188], \"type\": \"scatter\", \"uid\": \"c0e63e72-d605-11e8-af20-a81e84e6c740\"}, {\"legendgroup\": \"Female\", \"line\": {\"color\": \"rgb(252,141,89)\"}, \"name\": \"Female\", \"showlegend\": false, \"x\": [\"A1BG\", \"A2M\", \"AAAS\", \"AACS\", \"AAGAB\", \"AAK1\", \"AAMDC\", \"AARS\", \"AARS2\", \"AASDHPPT\"], \"y\": [3.1869759816271297, 5.648713310313929, 2.8200148740369397, null, 1.01089659482907, 1.04504527325487, 0.99366769892017, 4.619720865621121, 2.65271643942605, 1.4946552648303602], \"type\": \"scatter\", \"uid\": \"c0e64142-d605-11e8-af20-a81e84e6c740\"}, {\"legendgroup\": \"Male\", \"line\": {\"color\": \"rgb(145,191,219)\"}, \"name\": \"Male\", \"showlegend\": false, \"x\": [\"A1BG\", \"A2M\", \"AAAS\", \"AACS\", \"AAGAB\", \"AAK1\", \"AAMDC\", \"AARS\", \"AARS2\", \"AASDHPPT\"], \"y\": [3.5900139905084503, 6.23911802513181, 1.2833333241170801, null, null, 1.30860553198265, null, 2.8826966931964, null, 1.21881323382269], \"type\": \"scatter\", \"uid\": \"c0e643fe-d605-11e8-af20-a81e84e6c740\"}, {\"legendgroup\": \"Female\", \"line\": {\"color\": \"rgb(252,141,89)\"}, \"name\": \"Female\", \"showlegend\": false, \"x\": [\"A1BG\", \"A2M\", \"AAAS\", \"AACS\", \"AAGAB\", \"AAK1\", \"AAMDC\", \"AARS\", \"AARS2\", \"AASDHPPT\"], \"y\": [5.61615758765507, 6.94810817247808, 1.1798879673929599, null, null, 1.17741975181246, null, 3.91361202382425, null, 1.10321509213274], \"type\": \"scatter\", \"uid\": \"c0e646c4-d605-11e8-af20-a81e84e6c740\"}, {\"legendgroup\": \"Male\", \"line\": {\"color\": \"rgb(145,191,219)\"}, \"name\": \"Male\", \"showlegend\": false, \"x\": [\"A1BG\", \"A2M\", \"AAAS\", \"AACS\", \"AAGAB\", \"AAK1\", \"AAMDC\", \"AARS\", \"AARS2\", \"AASDHPPT\"], \"y\": [3.09986973640628, 6.03836212677954, null, 1.2077306192777, 1.1510473689148202, 1.10937319038175, null, 4.55998391650249, 2.95444533458089, null], \"type\": \"scatter\", \"uid\": \"c0e6499e-d605-11e8-af20-a81e84e6c740\"}, {\"legendgroup\": \"Female\", \"line\": {\"color\": \"rgb(252,141,89)\"}, \"name\": \"Female\", \"showlegend\": false, \"x\": [\"A1BG\", \"A2M\", \"AAAS\", \"AACS\", \"AAGAB\", \"AAK1\", \"AAMDC\", \"AARS\", \"AARS2\", \"AASDHPPT\"], \"y\": [3.49828912179644, 6.424258302267329, 2.27870057612752, 0.979942342319088, 1.01089659482907, 2.14968667277861, 1.36200838928563, 4.233465251255799, 2.75697156407123, 0.986304773117901], \"type\": \"scatter\", \"uid\": \"c0e64c64-d605-11e8-af20-a81e84e6c740\"}, {\"legendgroup\": \"Female\", \"line\": {\"color\": \"rgb(252,141,89)\"}, \"name\": \"Female\", \"showlegend\": false, \"x\": [\"A1BG\", \"A2M\", \"AAAS\", \"AACS\", \"AAGAB\", \"AAK1\", \"AAMDC\", \"AARS\", \"AARS2\", \"AASDHPPT\"], \"y\": [3.5475122283036806, 5.87081065956632, null, null, null, null, 1.10676622478426, 4.07093864092873, 0.971576121234059, null], \"type\": \"scatter\", \"uid\": \"c0e64f2a-d605-11e8-af20-a81e84e6c740\"}, {\"legendgroup\": \"Female\", \"line\": {\"color\": \"rgb(252,141,89)\"}, \"name\": \"Female\", \"showlegend\": false, \"x\": [\"A1BG\", \"A2M\", \"AAAS\", \"AACS\", \"AAGAB\", \"AAK1\", \"AAMDC\", \"AARS\", \"AARS2\", \"AASDHPPT\"], \"y\": [3.7285857988234703, 6.955854648987679, 2.12280729603685, 1.07267074279829, null, 1.0013742095451499, null, 4.79652178194246, 0.9376713266103291, 2.09513128203311], \"type\": \"scatter\", \"uid\": \"c0e651e6-d605-11e8-af20-a81e84e6c740\"}, {\"legendgroup\": \"Male\", \"line\": {\"color\": \"rgb(145,191,219)\"}, \"name\": \"Male\", \"showlegend\": false, \"x\": [\"A1BG\", \"A2M\", \"AAAS\", \"AACS\", \"AAGAB\", \"AAK1\", \"AAMDC\", \"AARS\", \"AARS2\", \"AASDHPPT\"], \"y\": [3.0461862804088398, 6.263410712577491, 0.9843469248480609, null, 1.03340855129467, 1.00168551154172, 1.06339050638629, 3.8837260914434397, 1.55882665924754, null], \"type\": \"scatter\", \"uid\": \"c0e654ac-d605-11e8-af20-a81e84e6c740\"}, {\"legendgroup\": \"Female\", \"line\": {\"color\": \"rgb(252,141,89)\"}, \"name\": \"Female\", \"showlegend\": false, \"x\": [\"A1BG\", \"A2M\", \"AAAS\", \"AACS\", \"AAGAB\", \"AAK1\", \"AAMDC\", \"AARS\", \"AARS2\", \"AASDHPPT\"], \"y\": [2.4597690615736, 5.52691465271868, 1.75966450371144, null, null, 1.04463470918049, 1.12126134205584, 4.13187132349338, 2.6367594527075298, 1.09228388334885], \"type\": \"scatter\", \"uid\": \"c0e65768-d605-11e8-af20-a81e84e6c740\"}, {\"legendgroup\": \"Female\", \"line\": {\"color\": \"rgb(252,141,89)\"}, \"name\": \"Female\", \"showlegend\": false, \"x\": [\"A1BG\", \"A2M\", \"AAAS\", \"AACS\", \"AAGAB\", \"AAK1\", \"AAMDC\", \"AARS\", \"AARS2\", \"AASDHPPT\"], \"y\": [4.23692509558401, 5.86785209899078, 2.04186621044897, null, 1.0330689917054798, 1.5686588573731002, null, 4.852242852312941, 2.22769835189275, 1.04604407169187], \"type\": \"scatter\", \"uid\": \"c0e65a56-d605-11e8-af20-a81e84e6c740\"}, {\"legendgroup\": \"Female\", \"line\": {\"color\": \"rgb(252,141,89)\"}, \"name\": \"Female\", \"showlegend\": false, \"x\": [\"A1BG\", \"A2M\", \"AAAS\", \"AACS\", \"AAGAB\", \"AAK1\", \"AAMDC\", \"AARS\", \"AARS2\", \"AASDHPPT\"], \"y\": [3.53595587638427, 5.5328111271033, 0.987561301006021, 1.07661506676178, null, null, 1.06722700816823, 2.48152514783537, 3.2854013020450097, 1.04942951129427], \"type\": \"scatter\", \"uid\": \"c0e65d26-d605-11e8-af20-a81e84e6c740\"}, {\"legendgroup\": \"Female\", \"line\": {\"color\": \"rgb(252,141,89)\"}, \"name\": \"Female\", \"showlegend\": false, \"x\": [\"A1BG\", \"A2M\", \"AAAS\", \"AACS\", \"AAGAB\", \"AAK1\", \"AAMDC\", \"AARS\", \"AARS2\", \"AASDHPPT\"], \"y\": [3.5294451981434602, 5.65267147487592, 2.31023795754196, 1.8780051856273001, 1.01089659482907, 1.04504527325487, 0.99366769892017, 4.4888766465886105, 2.2359286223552597, 0.986304773117901], \"type\": \"scatter\", \"uid\": \"c0e65fec-d605-11e8-af20-a81e84e6c740\"}, {\"legendgroup\": \"Male\", \"line\": {\"color\": \"rgb(145,191,219)\"}, \"name\": \"Male\", \"showlegend\": false, \"x\": [\"A1BG\", \"A2M\", \"AAAS\", \"AACS\", \"AAGAB\", \"AAK1\", \"AAMDC\", \"AARS\", \"AARS2\", \"AASDHPPT\"], \"y\": [3.0210295011864603, 5.390655306223071, 2.0057382993153, 1.43769498225318, 1.01524746891747, 1.6970252199695102, 0.9971298391069341, 4.99087878389666, 2.79107375171594, 0.990820177539033], \"type\": \"scatter\", \"uid\": \"c0e662b2-d605-11e8-af20-a81e84e6c740\"}, {\"legendgroup\": \"Female\", \"line\": {\"color\": \"rgb(252,141,89)\"}, \"name\": \"Female\", \"showlegend\": false, \"x\": [\"A1BG\", \"A2M\", \"AAAS\", \"AACS\", \"AAGAB\", \"AAK1\", \"AAMDC\", \"AARS\", \"AARS2\", \"AASDHPPT\"], \"y\": [3.1372893420888994, 6.140038104548041, 1.0867083418688102, null, null, 1.79699396161654, 1.00441577873043, 4.499901032177299, 1.1520682976672099, 1.6485000716955802], \"type\": \"scatter\", \"uid\": \"c0e66578-d605-11e8-af20-a81e84e6c740\"}, {\"legendgroup\": \"Male\", \"line\": {\"color\": \"rgb(145,191,219)\"}, \"name\": \"Male\", \"showlegend\": false, \"x\": [\"A1BG\", \"A2M\", \"AAAS\", \"AACS\", \"AAGAB\", \"AAK1\", \"AAMDC\", \"AARS\", \"AARS2\", \"AASDHPPT\"], \"y\": [3.2149157915835804, 6.3395089600410195, 2.2594843463472998, 1.35202811825311, 0.99111448794322, 1.8536763962525, 1.01145806300837, 4.70134745871087, 2.6040711824836604, 1.28393524570721], \"type\": \"scatter\", \"uid\": \"c0e6682a-d605-11e8-af20-a81e84e6c740\"}, {\"legendgroup\": \"Male\", \"line\": {\"color\": \"rgb(145,191,219)\"}, \"name\": \"Male\", \"showlegend\": false, \"x\": [\"A1BG\", \"A2M\", \"AAAS\", \"AACS\", \"AAGAB\", \"AAK1\", \"AAMDC\", \"AARS\", \"AARS2\", \"AASDHPPT\"], \"y\": [4.01122618635688, 5.91743456877841, 2.38168761934465, 1.92473376286295, 1.01089659482907, null, 1.30096112531407, 4.5038922227256695, 2.57883036856966, 1.88161332337544], \"type\": \"scatter\", \"uid\": \"c0e66ae6-d605-11e8-af20-a81e84e6c740\"}, {\"legendgroup\": \"Male\", \"line\": {\"color\": \"rgb(145,191,219)\"}, \"name\": \"Male\", \"showlegend\": false, \"x\": [\"A1BG\", \"A2M\", \"AAAS\", \"AACS\", \"AAGAB\", \"AAK1\", \"AAMDC\", \"AARS\", \"AARS2\", \"AASDHPPT\"], \"y\": [3.6606331844525997, 6.05613605616244, 2.19386317938781, 1.02483846226713, 0.99111448794322, 1.1596809122768, 1.79522648385255, 4.75165048878155, 2.2793717828773397, 1.88032789712684], \"type\": \"scatter\", \"uid\": \"c0e66da2-d605-11e8-af20-a81e84e6c740\"}, {\"legendgroup\": \"Male\", \"line\": {\"color\": \"rgb(145,191,219)\"}, \"name\": \"Male\", \"showlegend\": false, \"x\": [\"A1BG\", \"A2M\", \"AAAS\", \"AACS\", \"AAGAB\", \"AAK1\", \"AAMDC\", \"AARS\", \"AARS2\", \"AASDHPPT\"], \"y\": [3.2899536210132903, 6.755774933511749, 2.23395224764821, 1.64654716994273, null, 1.09047126511384, 1.0243677966265299, 5.00802831663644, 1.17832845911814, 1.02646268360328], \"type\": \"scatter\", \"uid\": \"c0e6705e-d605-11e8-af20-a81e84e6c740\"}, {\"legendgroup\": \"Female\", \"line\": {\"color\": \"rgb(252,141,89)\"}, \"name\": \"Female\", \"showlegend\": false, \"x\": [\"A1BG\", \"A2M\", \"AAAS\", \"AACS\", \"AAGAB\", \"AAK1\", \"AAMDC\", \"AARS\", \"AARS2\", \"AASDHPPT\"], \"y\": [3.3984718128030496, 6.13243996592667, null, null, 1.09672430645745, 2.13264585982025, 1.1416254978843101, 4.27330191250592, 0.9985178346585221, null], \"type\": \"scatter\", \"uid\": \"c0e6731a-d605-11e8-af20-a81e84e6c740\"}, {\"legendgroup\": \"Female\", \"line\": {\"color\": \"rgb(252,141,89)\"}, \"name\": \"Female\", \"showlegend\": false, \"x\": [\"A1BG\", \"A2M\", \"AAAS\", \"AACS\", \"AAGAB\", \"AAK1\", \"AAMDC\", \"AARS\", \"AARS2\", \"AASDHPPT\"], \"y\": [4.32321666403368, 6.82230279432001, 2.81512663367239, 1.63864685138365, null, 0.9758672839469449, null, 4.33512955179083, 1.80171764542292, 1.5253561396284199], \"type\": \"scatter\", \"uid\": \"c0e675d6-d605-11e8-af20-a81e84e6c740\"}, {\"legendgroup\": \"Male\", \"line\": {\"color\": \"rgb(145,191,219)\"}, \"name\": \"Male\", \"showlegend\": false, \"x\": [\"A1BG\", \"A2M\", \"AAAS\", \"AACS\", \"AAGAB\", \"AAK1\", \"AAMDC\", \"AARS\", \"AARS2\", \"AASDHPPT\"], \"y\": [3.74351497638519, 5.45576882125558, 1.09027708769643, null, null, null, 1.0074117187597098, 4.79442520339982, null, 1.0042502399398698], \"type\": \"scatter\", \"uid\": \"c0e67900-d605-11e8-af20-a81e84e6c740\"}, {\"legendgroup\": \"Male\", \"line\": {\"color\": \"rgb(145,191,219)\"}, \"name\": \"Male\", \"showlegend\": false, \"x\": [\"A1BG\", \"A2M\", \"AAAS\", \"AACS\", \"AAGAB\", \"AAK1\", \"AAMDC\", \"AARS\", \"AARS2\", \"AASDHPPT\"], \"y\": [4.17398271560642, 6.43809597045893, 1.9858943807884397, 1.04894287708223, null, 0.9822999177289541, null, 5.02924347571587, 2.64860701417994, 1.0256584245101001], \"type\": \"scatter\", \"uid\": \"c0e67b44-d605-11e8-af20-a81e84e6c740\"}, {\"legendgroup\": \"Male\", \"line\": {\"color\": \"rgb(145,191,219)\"}, \"name\": \"Male\", \"showlegend\": false, \"x\": [\"A1BG\", \"A2M\", \"AAAS\", \"AACS\", \"AAGAB\", \"AAK1\", \"AAMDC\", \"AARS\", \"AARS2\", \"AASDHPPT\"], \"y\": [1.8744786050718, 5.05718731420642, 2.20883997895392, 2.00551609042952, 1.75872521995669, 1.07542267086727, 1.0142236363555601, 5.02653290013259, 1.90276095637902, null], \"type\": \"scatter\", \"uid\": \"c0e67d7e-d605-11e8-af20-a81e84e6c740\"}, {\"legendgroup\": \"Male\", \"line\": {\"color\": \"rgb(145,191,219)\"}, \"name\": \"Male\", \"showlegend\": false, \"x\": [\"A1BG\", \"A2M\", \"AAAS\", \"AACS\", \"AAGAB\", \"AAK1\", \"AAMDC\", \"AARS\", \"AARS2\", \"AASDHPPT\"], \"y\": [2.66666789327159, 5.91951048793276, 2.96660268244922, 2.56435127132078, null, 1.0552127667234399, 1.0005599083947199, 4.3833807656506405, 1.67855367365289, 1.5372286493133402], \"type\": \"scatter\", \"uid\": \"c0e67fd6-d605-11e8-af20-a81e84e6c740\"}, {\"legendgroup\": \"Female\", \"line\": {\"color\": \"rgb(252,141,89)\"}, \"name\": \"Female\", \"showlegend\": false, \"x\": [\"A1BG\", \"A2M\", \"AAAS\", \"AACS\", \"AAGAB\", \"AAK1\", \"AAMDC\", \"AARS\", \"AARS2\", \"AASDHPPT\"], \"y\": [3.04072666998582, 5.6512557568238, 3.15403675439119, 1.02483846226713, null, 1.29771568214231, 1.01145806300837, 4.36929709703882, 2.9557659204559905, 2.0217995930710804], \"type\": \"scatter\", \"uid\": \"c0e683fa-d605-11e8-af20-a81e84e6c740\"}, {\"legendgroup\": \"Male\", \"line\": {\"color\": \"rgb(145,191,219)\"}, \"name\": \"Male\", \"showlegend\": false, \"x\": [\"A1BG\", \"A2M\", \"AAAS\", \"AACS\", \"AAGAB\", \"AAK1\", \"AAMDC\", \"AARS\", \"AARS2\", \"AASDHPPT\"], \"y\": [2.64240755615416, 6.39596614181663, 1.07390934886208, 1.4289593505851599, null, 2.26056729727604, 1.7744563874611599, 4.961583289822559, 1.13793426422732, 0.986304773117901], \"type\": \"scatter\", \"uid\": \"c0e6876a-d605-11e8-af20-a81e84e6c740\"}, {\"legendgroup\": \"Male\", \"line\": {\"color\": \"rgb(145,191,219)\"}, \"name\": \"Male\", \"showlegend\": false, \"x\": [\"A1BG\", \"A2M\", \"AAAS\", \"AACS\", \"AAGAB\", \"AAK1\", \"AAMDC\", \"AARS\", \"AARS2\", \"AASDHPPT\"], \"y\": [3.97556513332576, 6.49790052913669, 2.8600771313966, 1.02483846226713, 0.99111448794322, null, null, 4.16498943767364, 1.95639863727083, 1.75924647252024], \"type\": \"scatter\", \"uid\": \"c0e68ada-d605-11e8-af20-a81e84e6c740\"}, {\"legendgroup\": \"Male\", \"line\": {\"color\": \"rgb(145,191,219)\"}, \"name\": \"Male\", \"showlegend\": false, \"x\": [\"A1BG\", \"A2M\", \"AAAS\", \"AACS\", \"AAGAB\", \"AAK1\", \"AAMDC\", \"AARS\", \"AARS2\", \"AASDHPPT\"], \"y\": [3.1041431931728702, 5.835617887528139, 1.0120815331898, 1.10374161160281, 1.06026960572526, 2.04730174722207, null, 4.359264714721689, 1.6204604603754198, 2.16176041876236], \"type\": \"scatter\", \"uid\": \"c0e68e40-d605-11e8-af20-a81e84e6c740\"}, {\"legendgroup\": \"Female\", \"line\": {\"color\": \"rgb(252,141,89)\"}, \"name\": \"Female\", \"showlegend\": false, \"x\": [\"A1BG\", \"A2M\", \"AAAS\", \"AACS\", \"AAGAB\", \"AAK1\", \"AAMDC\", \"AARS\", \"AARS2\", \"AASDHPPT\"], \"y\": [4.1413042153527, 6.308504863621019, 1.0888229534745901, null, null, 1.06353326728556, 1.00619103130547, 4.90936966651822, 2.70976062865171, 1.00265422616861], \"type\": \"scatter\", \"uid\": \"c0e691b0-d605-11e8-af20-a81e84e6c740\"}, {\"legendgroup\": \"Female\", \"line\": {\"color\": \"rgb(252,141,89)\"}, \"name\": \"Female\", \"showlegend\": false, \"x\": [\"A1BG\", \"A2M\", \"AAAS\", \"AACS\", \"AAGAB\", \"AAK1\", \"AAMDC\", \"AARS\", \"AARS2\", \"AASDHPPT\"], \"y\": [3.48464206708574, 5.782307475170589, 1.07390934886208, 1.89876222147167, 1.01089659482907, 1.6038926865303702, 0.99366769892017, 4.45323531300642, 3.7874033642787004, 1.47860568411859], \"type\": \"scatter\", \"uid\": \"c0e69516-d605-11e8-af20-a81e84e6c740\"}, {\"legendgroup\": \"Female\", \"line\": {\"color\": \"rgb(252,141,89)\"}, \"name\": \"Female\", \"showlegend\": false, \"x\": [\"A1BG\", \"A2M\", \"AAAS\", \"AACS\", \"AAGAB\", \"AAK1\", \"AAMDC\", \"AARS\", \"AARS2\", \"AASDHPPT\"], \"y\": [2.92245873992549, 5.64027569498491, 1.72469093511447, 1.00186067380989, null, 1.07542267086727, 1.5365851722122699, 4.5689554051992, 1.16497348445752, 1.72389795835833], \"type\": \"scatter\", \"uid\": \"c0e69886-d605-11e8-af20-a81e84e6c740\"}, {\"legendgroup\": \"Male\", \"line\": {\"color\": \"rgb(145,191,219)\"}, \"name\": \"Male\", \"showlegend\": false, \"x\": [\"A1BG\", \"A2M\", \"AAAS\", \"AACS\", \"AAGAB\", \"AAK1\", \"AAMDC\", \"AARS\", \"AARS2\", \"AASDHPPT\"], \"y\": [3.86207865896245, 5.52920535539224, 1.032781152957, null, null, null, 1.12126134205584, 4.368541198483539, 2.41238505024026, null], \"type\": \"scatter\", \"uid\": \"c0e69bf6-d605-11e8-af20-a81e84e6c740\"}, {\"legendgroup\": \"Male\", \"line\": {\"color\": \"rgb(145,191,219)\"}, \"name\": \"Male\", \"showlegend\": false, \"x\": [\"A1BG\", \"A2M\", \"AAAS\", \"AACS\", \"AAGAB\", \"AAK1\", \"AAMDC\", \"AARS\", \"AARS2\", \"AASDHPPT\"], \"y\": [3.46004861959962, 5.80154432988065, 2.9749454705839105, 1.3902325431493898, 1.01089659482907, 2.61728994681138, 1.7256731019902398, 4.75490672581986, 2.10695750098407, null], \"type\": \"scatter\", \"uid\": \"c0e69f66-d605-11e8-af20-a81e84e6c740\"}, {\"legendgroup\": \"Female\", \"line\": {\"color\": \"rgb(252,141,89)\"}, \"name\": \"Female\", \"showlegend\": false, \"x\": [\"A1BG\", \"A2M\", \"AAAS\", \"AACS\", \"AAGAB\", \"AAK1\", \"AAMDC\", \"AARS\", \"AARS2\", \"AASDHPPT\"], \"y\": [3.53886689073838, 6.20644513107262, 1.09839319413485, null, null, 1.07542267086727, 1.0142236363555601, 4.6496791362982, 1.16497348445752, 1.0131642884910999], \"type\": \"scatter\", \"uid\": \"c0e6a2d6-d605-11e8-af20-a81e84e6c740\"}, {\"legendgroup\": \"Female\", \"line\": {\"color\": \"rgb(252,141,89)\"}, \"name\": \"Female\", \"showlegend\": false, \"x\": [\"A1BG\", \"A2M\", \"AAAS\", \"AACS\", \"AAGAB\", \"AAK1\", \"AAMDC\", \"AARS\", \"AARS2\", \"AASDHPPT\"], \"y\": [2.21231342637408, 4.977798239208981, 2.20637076236175, 2.30497772432296, null, null, 2.21406718636955, 3.9937787403873197, 2.38670359333038, 2.28790013059148], \"type\": \"scatter\", \"uid\": \"c0e6a646-d605-11e8-af20-a81e84e6c740\"}, {\"legendgroup\": \"Female\", \"line\": {\"color\": \"rgb(252,141,89)\"}, \"name\": \"Female\", \"showlegend\": false, \"x\": [\"A1BG\", \"A2M\", \"AAAS\", \"AACS\", \"AAGAB\", \"AAK1\", \"AAMDC\", \"AARS\", \"AARS2\", \"AASDHPPT\"], \"y\": [2.3898485120729505, 7.081374918101701, 2.5441119249999, 1.5033812208348998, 1.6759082502623999, 1.7862860386903199, 1.01145806300837, 5.3737865181234, 2.9401854217930903, 1.41165218975371], \"type\": \"scatter\", \"uid\": \"c0e6a9b6-d605-11e8-af20-a81e84e6c740\"}, {\"legendgroup\": \"Male\", \"line\": {\"color\": \"rgb(145,191,219)\"}, \"name\": \"Male\", \"showlegend\": false, \"x\": [\"A1BG\", \"A2M\", \"AAAS\", \"AACS\", \"AAGAB\", \"AAK1\", \"AAMDC\", \"AARS\", \"AARS2\", \"AASDHPPT\"], \"y\": [2.74788584277287, 6.16447266836761, 2.84243508057628, 2.48176719805289, 1.18193387685088, 1.46822489228849, 1.01145806300837, 4.759782869212589, 2.6635788744426097, 1.54493462483271], \"type\": \"scatter\", \"uid\": \"c0e6ad30-d605-11e8-af20-a81e84e6c740\"}, {\"legendgroup\": \"Male\", \"line\": {\"color\": \"rgb(145,191,219)\"}, \"name\": \"Male\", \"showlegend\": false, \"x\": [\"A1BG\", \"A2M\", \"AAAS\", \"AACS\", \"AAGAB\", \"AAK1\", \"AAMDC\", \"AARS\", \"AARS2\", \"AASDHPPT\"], \"y\": [3.1079071657078, 6.40427574842441, 1.6948888376572702, null, 1.04451125039997, 2.04662401129165, 1.07706857952074, 4.64137727392521, 2.6850890856321095, 2.16104033774996], \"type\": \"scatter\", \"uid\": \"c0e6b0a0-d605-11e8-af20-a81e84e6c740\"}, {\"legendgroup\": \"Male\", \"line\": {\"color\": \"rgb(145,191,219)\"}, \"name\": \"Male\", \"showlegend\": false, \"x\": [\"A1BG\", \"A2M\", \"AAAS\", \"AACS\", \"AAGAB\", \"AAK1\", \"AAMDC\", \"AARS\", \"AARS2\", \"AASDHPPT\"], \"y\": [null, 4.03572846150933, null, 1.1149343907511102, null, 1.03526888109567, 1.10860936227704, 4.95969920985146, 2.10491205881968, null], \"type\": \"scatter\", \"uid\": \"c0e6b41a-d605-11e8-af20-a81e84e6c740\"}, {\"legendgroup\": \"Female\", \"line\": {\"color\": \"rgb(252,141,89)\"}, \"name\": \"Female\", \"showlegend\": false, \"x\": [\"A1BG\", \"A2M\", \"AAAS\", \"AACS\", \"AAGAB\", \"AAK1\", \"AAMDC\", \"AARS\", \"AARS2\", \"AASDHPPT\"], \"y\": [3.84011693807891, 6.17233464516218, 2.3051915332916697, 0.990946335141364, null, null, 1.4391006083879798, 4.48887984223513, 2.15391945240706, null], \"type\": \"scatter\", \"uid\": \"c0e6b78a-d605-11e8-af20-a81e84e6c740\"}, {\"legendgroup\": \"Male\", \"line\": {\"color\": \"rgb(145,191,219)\"}, \"name\": \"Male\", \"showlegend\": false, \"x\": [\"A1BG\", \"A2M\", \"AAAS\", \"AACS\", \"AAGAB\", \"AAK1\", \"AAMDC\", \"AARS\", \"AARS2\", \"AASDHPPT\"], \"y\": [3.55133226365456, 5.519233288830299, 1.6536038268083302, null, null, 0.997351059132894, 1.05757182945798, 4.4561823515131795, 0.9334852955540359, 1.0417441949391602], \"type\": \"scatter\", \"uid\": \"c0e6bafa-d605-11e8-af20-a81e84e6c740\"}, {\"legendgroup\": \"Male\", \"line\": {\"color\": \"rgb(145,191,219)\"}, \"name\": \"Male\", \"showlegend\": false, \"x\": [\"A1BG\", \"A2M\", \"AAAS\", \"AACS\", \"AAGAB\", \"AAK1\", \"AAMDC\", \"AARS\", \"AARS2\", \"AASDHPPT\"], \"y\": [3.92300199949009, 5.737921664576991, 1.76891346782014, 1.60540194254802, 1.04103881460347, 1.94095768372969, 2.42469050336944, 4.65543468501441, 1.90558826334556, null], \"type\": \"scatter\", \"uid\": \"c0e6be6a-d605-11e8-af20-a81e84e6c740\"}], {\"title\": \"\", \"xaxis\": {\"mirror\": \"all\", \"nticks\": 20, \"showgrid\": true, \"showline\": true, \"title\": \"all_index\", \"zeroline\": true}, \"yaxis\": {\"mirror\": \"all\", \"nticks\": 20, \"showgrid\": true, \"showline\": true, \"title\": \"all_column\", \"zeroline\": true}}, {\"showLink\": true, \"linkText\": \"Export to plot.ly\"})});</script>"
      ]
     },
     "metadata": {},
     "output_type": "display_data"
    }
   ],
   "source": [
    "tt.line_plot()"
   ]
  },
  {
   "cell_type": "markdown",
   "metadata": {},
   "source": [
    "### 属性对（属性和标签）的交会散点图"
   ]
  },
  {
   "cell_type": "markdown",
   "metadata": {},
   "source": [
    "1022finish"
   ]
  },
  {
   "cell_type": "code",
   "execution_count": 41,
   "metadata": {},
   "outputs": [],
   "source": [
    "tt = plot.myPlot(df1)"
   ]
  },
  {
   "cell_type": "code",
   "execution_count": 43,
   "metadata": {},
   "outputs": [
    {
     "data": {
      "application/vnd.plotly.v1+json": {
       "data": [
        {
         "marker": {
          "opacity": 1
         },
         "mode": "markers",
         "name": "AAAS",
         "type": "scatter",
         "uid": "f4672888-d605-11e8-af20-a81e84e6c740",
         "x": [
          3.4467226479524498,
          3.6695804062468,
          3.3984718128030496,
          3.11287453774938,
          3.53595587638427,
          3.2225562058399904,
          4.01122618635688,
          3.6606331844525997,
          2.4597690615736,
          3.5294451981434602,
          3.9568532392881,
          null,
          3.0461862804088398,
          2.8287122493345396,
          3.1372893420888994,
          2.92245873992549,
          3.48464206708574,
          1.3223685551553601,
          3.74044443852763,
          3.92300199949009,
          4.23692509558401,
          4.98627258089667,
          2.2225698206158198,
          3.9510790496329804,
          3.5757543344815295,
          3.5691876124278394,
          3.42451180183654,
          3.6453741040981797,
          3.5475122283036806,
          3.86207865896245,
          3.5645763471574803,
          1.59634671483682,
          3.74351497638519,
          2.21231342637408,
          3.1869759816271297,
          3.5460650404498,
          3.04072666998582,
          3.5900139905084503,
          5.61615758765507,
          3.2899536210132903,
          3.6385086918589105,
          4.27789641162052,
          3.6792387954765697,
          3.09986973640628,
          3.78893062342746,
          2.1092147980754,
          3.49828912179644,
          3.00964584983622,
          3.7285857988234703,
          3.55133226365456,
          1.91183905219512,
          4.40447551348546,
          3.46004861959962,
          null,
          2.3898485120729505,
          4.32321666403368,
          4.17398271560642,
          3.25562838097532,
          3.69621238006336,
          2.50012315868521,
          3.1041431931728702,
          3.1738809297096697,
          3.2149157915835804,
          1.8744786050718,
          3.0210295011864603,
          2.44439878162391,
          2.53025823238162,
          3.7903569232410494,
          3.53886689073838,
          2.66666789327159,
          2.74788584277287,
          3.1079071657078,
          2.79625822733875,
          3.97556513332576,
          3.8540464225194198,
          3.84011693807891,
          2.53149439026854,
          2.64240755615416,
          3.9131817343082704,
          4.1413042153527
         ],
         "y": [
          2.16800100282735,
          2.4105428081762,
          null,
          2.21182179988104,
          0.987561301006021,
          1.73783675722456,
          2.38168761934465,
          2.19386317938781,
          1.75966450371144,
          2.31023795754196,
          null,
          1.7740293994988603,
          0.9843469248480609,
          2.57551931967134,
          1.0867083418688102,
          1.72469093511447,
          1.07390934886208,
          3.5544799973906,
          2.26874343854218,
          1.76891346782014,
          2.04186621044897,
          2.81945959603419,
          2.62391125934332,
          2.4020662299203797,
          1.55698808621769,
          1.0086016172160401,
          2.20543428122873,
          2.50173543918015,
          null,
          1.032781152957,
          2.4998208350840097,
          1.93367163967319,
          1.09027708769643,
          2.20637076236175,
          2.8200148740369397,
          1.74523248356026,
          3.15403675439119,
          1.2833333241170801,
          1.1798879673929599,
          2.23395224764821,
          3.6253679298211097,
          null,
          1.0086016172160401,
          null,
          2.5676518995548396,
          3.5983606540200603,
          2.27870057612752,
          2.71752278015999,
          2.12280729603685,
          1.6536038268083302,
          2.2453435756570403,
          1.09839319413485,
          2.9749454705839105,
          null,
          2.5441119249999,
          2.81512663367239,
          1.9858943807884397,
          2.11359193674844,
          2.11359193674844,
          2.69257350697021,
          1.0120815331898,
          2.2399137839727596,
          2.2594843463472998,
          2.20883997895392,
          2.0057382993153,
          2.12171873153648,
          2.0368406591234196,
          2.36631806706837,
          1.09839319413485,
          2.96660268244922,
          2.84243508057628,
          1.6948888376572702,
          1.5206938408893302,
          2.8600771313966,
          2.2338572688108,
          2.3051915332916697,
          1.4704743103508202,
          1.07390934886208,
          1.10210874991172,
          1.0888229534745901
         ]
        }
       ],
       "layout": {
        "title": "",
        "xaxis": {
         "mirror": "all",
         "nticks": 20,
         "showgrid": true,
         "showline": true,
         "title": "A1BG",
         "zeroline": true
        },
        "yaxis": {
         "mirror": "all",
         "nticks": 20,
         "showgrid": true,
         "showline": true,
         "title": "AAAS",
         "zeroline": true
        }
       }
      },
      "text/html": [
       "<div id=\"66e998be-1f88-4a61-8370-a66250d86ff5\" style=\"height: 525px; width: 100%;\" class=\"plotly-graph-div\"></div><script type=\"text/javascript\">require([\"plotly\"], function(Plotly) { window.PLOTLYENV=window.PLOTLYENV || {};window.PLOTLYENV.BASE_URL=\"https://plot.ly\";Plotly.newPlot(\"66e998be-1f88-4a61-8370-a66250d86ff5\", [{\"marker\": {\"opacity\": 1}, \"mode\": \"markers\", \"name\": \"AAAS\", \"x\": [3.4467226479524498, 3.6695804062468, 3.3984718128030496, 3.11287453774938, 3.53595587638427, 3.2225562058399904, 4.01122618635688, 3.6606331844525997, 2.4597690615736, 3.5294451981434602, 3.9568532392881, null, 3.0461862804088398, 2.8287122493345396, 3.1372893420888994, 2.92245873992549, 3.48464206708574, 1.3223685551553601, 3.74044443852763, 3.92300199949009, 4.23692509558401, 4.98627258089667, 2.2225698206158198, 3.9510790496329804, 3.5757543344815295, 3.5691876124278394, 3.42451180183654, 3.6453741040981797, 3.5475122283036806, 3.86207865896245, 3.5645763471574803, 1.59634671483682, 3.74351497638519, 2.21231342637408, 3.1869759816271297, 3.5460650404498, 3.04072666998582, 3.5900139905084503, 5.61615758765507, 3.2899536210132903, 3.6385086918589105, 4.27789641162052, 3.6792387954765697, 3.09986973640628, 3.78893062342746, 2.1092147980754, 3.49828912179644, 3.00964584983622, 3.7285857988234703, 3.55133226365456, 1.91183905219512, 4.40447551348546, 3.46004861959962, null, 2.3898485120729505, 4.32321666403368, 4.17398271560642, 3.25562838097532, 3.69621238006336, 2.50012315868521, 3.1041431931728702, 3.1738809297096697, 3.2149157915835804, 1.8744786050718, 3.0210295011864603, 2.44439878162391, 2.53025823238162, 3.7903569232410494, 3.53886689073838, 2.66666789327159, 2.74788584277287, 3.1079071657078, 2.79625822733875, 3.97556513332576, 3.8540464225194198, 3.84011693807891, 2.53149439026854, 2.64240755615416, 3.9131817343082704, 4.1413042153527], \"y\": [2.16800100282735, 2.4105428081762, null, 2.21182179988104, 0.987561301006021, 1.73783675722456, 2.38168761934465, 2.19386317938781, 1.75966450371144, 2.31023795754196, null, 1.7740293994988603, 0.9843469248480609, 2.57551931967134, 1.0867083418688102, 1.72469093511447, 1.07390934886208, 3.5544799973906, 2.26874343854218, 1.76891346782014, 2.04186621044897, 2.81945959603419, 2.62391125934332, 2.4020662299203797, 1.55698808621769, 1.0086016172160401, 2.20543428122873, 2.50173543918015, null, 1.032781152957, 2.4998208350840097, 1.93367163967319, 1.09027708769643, 2.20637076236175, 2.8200148740369397, 1.74523248356026, 3.15403675439119, 1.2833333241170801, 1.1798879673929599, 2.23395224764821, 3.6253679298211097, null, 1.0086016172160401, null, 2.5676518995548396, 3.5983606540200603, 2.27870057612752, 2.71752278015999, 2.12280729603685, 1.6536038268083302, 2.2453435756570403, 1.09839319413485, 2.9749454705839105, null, 2.5441119249999, 2.81512663367239, 1.9858943807884397, 2.11359193674844, 2.11359193674844, 2.69257350697021, 1.0120815331898, 2.2399137839727596, 2.2594843463472998, 2.20883997895392, 2.0057382993153, 2.12171873153648, 2.0368406591234196, 2.36631806706837, 1.09839319413485, 2.96660268244922, 2.84243508057628, 1.6948888376572702, 1.5206938408893302, 2.8600771313966, 2.2338572688108, 2.3051915332916697, 1.4704743103508202, 1.07390934886208, 1.10210874991172, 1.0888229534745901], \"type\": \"scatter\", \"uid\": \"f4672888-d605-11e8-af20-a81e84e6c740\"}], {\"title\": \"\", \"xaxis\": {\"mirror\": \"all\", \"nticks\": 20, \"showgrid\": true, \"showline\": true, \"title\": \"A1BG\", \"zeroline\": true}, \"yaxis\": {\"mirror\": \"all\", \"nticks\": 20, \"showgrid\": true, \"showline\": true, \"title\": \"AAAS\", \"zeroline\": true}}, {\"showLink\": true, \"linkText\": \"Export to plot.ly\"})});</script>"
      ],
      "text/vnd.plotly.v1+html": [
       "<div id=\"66e998be-1f88-4a61-8370-a66250d86ff5\" style=\"height: 525px; width: 100%;\" class=\"plotly-graph-div\"></div><script type=\"text/javascript\">require([\"plotly\"], function(Plotly) { window.PLOTLYENV=window.PLOTLYENV || {};window.PLOTLYENV.BASE_URL=\"https://plot.ly\";Plotly.newPlot(\"66e998be-1f88-4a61-8370-a66250d86ff5\", [{\"marker\": {\"opacity\": 1}, \"mode\": \"markers\", \"name\": \"AAAS\", \"x\": [3.4467226479524498, 3.6695804062468, 3.3984718128030496, 3.11287453774938, 3.53595587638427, 3.2225562058399904, 4.01122618635688, 3.6606331844525997, 2.4597690615736, 3.5294451981434602, 3.9568532392881, null, 3.0461862804088398, 2.8287122493345396, 3.1372893420888994, 2.92245873992549, 3.48464206708574, 1.3223685551553601, 3.74044443852763, 3.92300199949009, 4.23692509558401, 4.98627258089667, 2.2225698206158198, 3.9510790496329804, 3.5757543344815295, 3.5691876124278394, 3.42451180183654, 3.6453741040981797, 3.5475122283036806, 3.86207865896245, 3.5645763471574803, 1.59634671483682, 3.74351497638519, 2.21231342637408, 3.1869759816271297, 3.5460650404498, 3.04072666998582, 3.5900139905084503, 5.61615758765507, 3.2899536210132903, 3.6385086918589105, 4.27789641162052, 3.6792387954765697, 3.09986973640628, 3.78893062342746, 2.1092147980754, 3.49828912179644, 3.00964584983622, 3.7285857988234703, 3.55133226365456, 1.91183905219512, 4.40447551348546, 3.46004861959962, null, 2.3898485120729505, 4.32321666403368, 4.17398271560642, 3.25562838097532, 3.69621238006336, 2.50012315868521, 3.1041431931728702, 3.1738809297096697, 3.2149157915835804, 1.8744786050718, 3.0210295011864603, 2.44439878162391, 2.53025823238162, 3.7903569232410494, 3.53886689073838, 2.66666789327159, 2.74788584277287, 3.1079071657078, 2.79625822733875, 3.97556513332576, 3.8540464225194198, 3.84011693807891, 2.53149439026854, 2.64240755615416, 3.9131817343082704, 4.1413042153527], \"y\": [2.16800100282735, 2.4105428081762, null, 2.21182179988104, 0.987561301006021, 1.73783675722456, 2.38168761934465, 2.19386317938781, 1.75966450371144, 2.31023795754196, null, 1.7740293994988603, 0.9843469248480609, 2.57551931967134, 1.0867083418688102, 1.72469093511447, 1.07390934886208, 3.5544799973906, 2.26874343854218, 1.76891346782014, 2.04186621044897, 2.81945959603419, 2.62391125934332, 2.4020662299203797, 1.55698808621769, 1.0086016172160401, 2.20543428122873, 2.50173543918015, null, 1.032781152957, 2.4998208350840097, 1.93367163967319, 1.09027708769643, 2.20637076236175, 2.8200148740369397, 1.74523248356026, 3.15403675439119, 1.2833333241170801, 1.1798879673929599, 2.23395224764821, 3.6253679298211097, null, 1.0086016172160401, null, 2.5676518995548396, 3.5983606540200603, 2.27870057612752, 2.71752278015999, 2.12280729603685, 1.6536038268083302, 2.2453435756570403, 1.09839319413485, 2.9749454705839105, null, 2.5441119249999, 2.81512663367239, 1.9858943807884397, 2.11359193674844, 2.11359193674844, 2.69257350697021, 1.0120815331898, 2.2399137839727596, 2.2594843463472998, 2.20883997895392, 2.0057382993153, 2.12171873153648, 2.0368406591234196, 2.36631806706837, 1.09839319413485, 2.96660268244922, 2.84243508057628, 1.6948888376572702, 1.5206938408893302, 2.8600771313966, 2.2338572688108, 2.3051915332916697, 1.4704743103508202, 1.07390934886208, 1.10210874991172, 1.0888229534745901], \"type\": \"scatter\", \"uid\": \"f4672888-d605-11e8-af20-a81e84e6c740\"}], {\"title\": \"\", \"xaxis\": {\"mirror\": \"all\", \"nticks\": 20, \"showgrid\": true, \"showline\": true, \"title\": \"A1BG\", \"zeroline\": true}, \"yaxis\": {\"mirror\": \"all\", \"nticks\": 20, \"showgrid\": true, \"showline\": true, \"title\": \"AAAS\", \"zeroline\": true}}, {\"showLink\": true, \"linkText\": \"Export to plot.ly\"})});</script>"
      ]
     },
     "metadata": {},
     "output_type": "display_data"
    }
   ],
   "source": [
    "tt.scatter_plot(x='A1BG',y=['AAAS'])"
   ]
  },
  {
   "cell_type": "code",
   "execution_count": 7,
   "metadata": {},
   "outputs": [
    {
     "ename": "SyntaxError",
     "evalue": "invalid syntax (<ipython-input-7-82b1d48f3e2c>, line 1)",
     "output_type": "error",
     "traceback": [
      "\u001b[0;36m  File \u001b[0;32m\"<ipython-input-7-82b1d48f3e2c>\"\u001b[0;36m, line \u001b[0;32m1\u001b[0m\n\u001b[0;31m    https://pandas.pydata.org/pandas-docs/stable/basics.html#summarizing-data-describe\u001b[0m\n\u001b[0m           ^\u001b[0m\n\u001b[0;31mSyntaxError\u001b[0m\u001b[0;31m:\u001b[0m invalid syntax\n"
     ]
    }
   ],
   "source": [
    "https://pandas.pydata.org/pandas-docs/stable/basics.html#summarizing-data-describe"
   ]
  }
 ],
 "metadata": {
  "hide_input": false,
  "kernelspec": {
   "display_name": "Python 3",
   "language": "python",
   "name": "python3"
  },
  "language_info": {
   "codemirror_mode": {
    "name": "ipython",
    "version": 3
   },
   "file_extension": ".py",
   "mimetype": "text/x-python",
   "name": "python",
   "nbconvert_exporter": "python",
   "pygments_lexer": "ipython3",
   "version": "3.6.6"
  },
  "toc": {
   "base_numbering": 1,
   "nav_menu": {},
   "number_sections": true,
   "sideBar": true,
   "skip_h1_title": false,
   "title_cell": "Table of Contents",
   "title_sidebar": "Contents",
   "toc_cell": false,
   "toc_position": {},
   "toc_section_display": true,
   "toc_window_display": true
  }
 },
 "nbformat": 4,
 "nbformat_minor": 2
}
