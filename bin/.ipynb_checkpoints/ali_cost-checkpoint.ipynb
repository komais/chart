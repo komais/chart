{
 "cells": [
  {
   "cell_type": "code",
   "execution_count": 98,
   "metadata": {
    "extensions": {
     "jupyter_dashboards": {
      "version": 1,
      "views": {
       "grid_default": {},
       "report_default": {
        "hidden": true
       }
      }
     }
    },
    "hide_input": true
   },
   "outputs": [],
   "source": [
    "from openpyxl import load_workbook\n",
    "from pandas import DataFrame\n",
    "import pandas as pd\n",
    "wb = load_workbook('../data/ali.xlsx')"
   ]
  },
  {
   "cell_type": "code",
   "execution_count": 140,
   "metadata": {
    "extensions": {
     "jupyter_dashboards": {
      "version": 1,
      "views": {
       "grid_default": {},
       "report_default": {
        "hidden": true
       }
      }
     }
    },
    "scrolled": true
   },
   "outputs": [],
   "source": [
    "#wb.sheetnames\n",
    "#a_sheet = wb.get_sheet_by_name('Sheet1')"
   ]
  },
  {
   "cell_type": "code",
   "execution_count": 105,
   "metadata": {
    "extensions": {
     "jupyter_dashboards": {
      "version": 1,
      "views": {
       "grid_default": {},
       "report_default": {
        "hidden": true
       }
      }
     }
    },
    "hide_input": false,
    "scrolled": false
   },
   "outputs": [],
   "source": [
    "#help(wb)\n",
    "def excel2df(sheet , month):\n",
    "    data = sheet.values\n",
    "    #print(list(data))\n",
    "    cols = next(data)[1:]\n",
    "    #print(cols)\n",
    "    data1 = list(data)\n",
    "    idx = [r[0] for r in data1]\n",
    "    data2 = (r[1:] for r in data1)\n",
    "    df= DataFrame(data2, index=idx, columns=(month,))\n",
    "    return(df)    "
   ]
  },
  {
   "cell_type": "code",
   "execution_count": 106,
   "metadata": {
    "hide_input": true
   },
   "outputs": [],
   "source": [
    "#ws = wb['4月']\n",
    "#for row in ws.rows:\n",
    "   # for cell in row :\n",
    "     #   print(cell.value)"
   ]
  },
  {
   "cell_type": "code",
   "execution_count": 118,
   "metadata": {
    "extensions": {
     "jupyter_dashboards": {
      "version": 1,
      "views": {
       "grid_default": {},
       "report_default": {
        "hidden": true
       }
      }
     }
    },
    "hide_input": true
   },
   "outputs": [],
   "source": [
    "df_list  = [ excel2df(wb[i],i ) for i in wb.sheetnames]\n",
    "df = df_list[0]\n",
    "#excel2df(wb['4月'] ,'3yue')\n"
   ]
  },
  {
   "cell_type": "code",
   "execution_count": 119,
   "metadata": {},
   "outputs": [],
   "source": [
    "for i in df_list[1:]:\n",
    "    df = df.join(i)\n",
    "df = df.T"
   ]
  },
  {
   "cell_type": "code",
   "execution_count": 137,
   "metadata": {
    "extensions": {
     "jupyter_dashboards": {
      "version": 1,
      "views": {
       "grid_default": {},
       "report_default": {
        "hidden": false
       }
      }
     }
    }
   },
   "outputs": [],
   "source": [
    "import plotly.plotly as py\n",
    "import plotly.graph_objs as go\n",
    "\n",
    "from plotly import tools\n",
    "\n",
    "tools.set_credentials_file(username='komais', api_key='QdsljhmigazpkMklcD5q')\n",
    "\n",
    "draw_data = [go.Scatter(x = df.index , y=df[i] , name = i ) for i in df.columns]\n",
    "layout = go.Layout(\n",
    "         title = '阿里费用',\n",
    "         xaxis=dict(\n",
    "        autorange=True,\n",
    "             ticktext= df.index,\n",
    "             tickvals = df.index,\n",
    "             #ticks = \"\" ,\n",
    "\n",
    "        #showticklabels=True,\n",
    "    ),\n",
    "         )\n",
    " #            go.Scatter(x = df.index , y=df['立项完成数'] , name = '立项完成数')]\n",
    "#draw_data"
   ]
  },
  {
   "cell_type": "markdown",
   "metadata": {},
   "source": [
    "#  阿里每个月存储使用情况如下\n",
    "* nas存储增长迅速\n",
    "* oss继续不变\n",
    "* ecs根据业务有波动"
   ]
  },
  {
   "cell_type": "code",
   "execution_count": 138,
   "metadata": {
    "extensions": {
     "jupyter_dashboards": {
      "version": 1,
      "views": {
       "grid_default": {},
       "report_default": {
        "hidden": false
       }
      }
     }
    }
   },
   "outputs": [
    {
     "data": {
      "text/html": [
       "<iframe id=\"igraph\" scrolling=\"no\" style=\"border:none;\" seamless=\"seamless\" src=\"https://plot.ly/~komais/6.embed\" height=\"525px\" width=\"100%\"></iframe>"
      ],
      "text/plain": [
       "<plotly.tools.PlotlyDisplay object>"
      ]
     },
     "execution_count": 138,
     "metadata": {},
     "output_type": "execute_result"
    }
   ],
   "source": [
    "fig = go.Figure(data = draw_data , layout = layout)\n",
    "py.iplot(fig  , filename='tt')"
   ]
  },
  {
   "cell_type": "code",
   "execution_count": 139,
   "metadata": {
    "extensions": {
     "jupyter_dashboards": {
      "version": 1,
      "views": {
       "grid_default": {},
       "report_default": {
        "hidden": false
       }
      }
     }
    },
    "scrolled": false
   },
   "outputs": [
    {
     "data": {
      "text/html": [
       "<iframe id=\"igraph\" scrolling=\"no\" style=\"border:none;\" seamless=\"seamless\" src=\"https://plot.ly/~komais/8.embed\" height=\"525px\" width=\"100%\"></iframe>"
      ],
      "text/plain": [
       "<plotly.tools.PlotlyDisplay object>"
      ]
     },
     "execution_count": 139,
     "metadata": {},
     "output_type": "execute_result"
    }
   ],
   "source": [
    "import plotly.plotly as py\n",
    "import plotly.graph_objs as go\n",
    "\n",
    "from plotly import tools\n",
    "\n",
    "tools.set_credentials_file(username='komais', api_key='QdsljhmigazpkMklcD5q')\n",
    "\n",
    "draw_data = [go.Bar(x = df.index , y=df[i] , name = i ) for i in  df.columns]\n",
    "layout = go.Layout(\n",
    "         title = '阿里费用',\n",
    "         barmode = 'stack',\n",
    "         xaxis=dict(\n",
    "        autorange=True,\n",
    "             ticktext= df.index,\n",
    "             tickvals = df.index,\n",
    "             #ticks = \"\" ,\n",
    "\n",
    "        #showticklabels=True,\n",
    "    ),\n",
    "         )\n",
    " #            go.Scatter(x = df.index , y=df['立项完成数'] , name = '立项完成数')]\n",
    "draw_data\n",
    "fig = go.Figure(data = draw_data , layout = layout)\n",
    "py.iplot(fig  , filename='bar')"
   ]
  },
  {
   "cell_type": "code",
   "execution_count": null,
   "metadata": {
    "extensions": {
     "jupyter_dashboards": {
      "version": 1,
      "views": {
       "grid_default": {},
       "report_default": {
        "hidden": true
       }
      }
     }
    }
   },
   "outputs": [],
   "source": []
  }
 ],
 "metadata": {
  "extensions": {
   "jupyter_dashboards": {
    "activeView": "grid_default",
    "version": 1,
    "views": {
     "grid_default": {
      "cellMargin": 10,
      "defaultCellHeight": 20,
      "maxColumns": 12,
      "name": "grid",
      "type": "grid"
     },
     "report_default": {
      "name": "report",
      "type": "report"
     }
    }
   }
  },
  "hide_input": true,
  "kernelspec": {
   "display_name": "Python 3",
   "language": "python",
   "name": "python3"
  },
  "language_info": {
   "codemirror_mode": {
    "name": "ipython",
    "version": 3
   },
   "file_extension": ".py",
   "mimetype": "text/x-python",
   "name": "python",
   "nbconvert_exporter": "python",
   "pygments_lexer": "ipython3",
   "version": "3.6.6rc1+"
  }
 },
 "nbformat": 4,
 "nbformat_minor": 2
}
