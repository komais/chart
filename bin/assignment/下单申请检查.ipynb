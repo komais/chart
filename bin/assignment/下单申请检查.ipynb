{
 "cells": [
  {
   "cell_type": "code",
   "execution_count": 3,
   "metadata": {},
   "outputs": [
    {
     "name": "stdout",
     "output_type": "stream",
     "text": [
      "The autoreload extension is already loaded. To reload it, use:\n",
      "  %reload_ext autoreload\n"
     ]
    }
   ],
   "source": [
    "%load_ext autoreload\n",
    "%autoreload 2"
   ]
  },
  {
   "cell_type": "code",
   "execution_count": 4,
   "metadata": {},
   "outputs": [
    {
     "data": {
      "text/html": [
       "<script>requirejs.config({paths: { 'plotly': ['https://cdn.plot.ly/plotly-latest.min']},});if(!window.Plotly) {{require(['plotly'],function(plotly) {window.Plotly=plotly;});}}</script>"
      ],
      "text/vnd.plotly.v1+html": [
       "<script>requirejs.config({paths: { 'plotly': ['https://cdn.plot.ly/plotly-latest.min']},});if(!window.Plotly) {{require(['plotly'],function(plotly) {window.Plotly=plotly;});}}</script>"
      ]
     },
     "metadata": {},
     "output_type": "display_data"
    },
    {
     "data": {
      "text/html": [
       "<script>requirejs.config({paths: { 'plotly': ['https://cdn.plot.ly/plotly-latest.min']},});if(!window.Plotly) {{require(['plotly'],function(plotly) {window.Plotly=plotly;});}}</script>"
      ],
      "text/vnd.plotly.v1+html": [
       "<script>requirejs.config({paths: { 'plotly': ['https://cdn.plot.ly/plotly-latest.min']},});if(!window.Plotly) {{require(['plotly'],function(plotly) {window.Plotly=plotly;});}}</script>"
      ]
     },
     "metadata": {},
     "output_type": "display_data"
    },
    {
     "data": {
      "text/html": [
       "<script>requirejs.config({paths: { 'plotly': ['https://cdn.plot.ly/plotly-latest.min']},});if(!window.Plotly) {{require(['plotly'],function(plotly) {window.Plotly=plotly;});}}</script>"
      ],
      "text/vnd.plotly.v1+html": [
       "<script>requirejs.config({paths: { 'plotly': ['https://cdn.plot.ly/plotly-latest.min']},});if(!window.Plotly) {{require(['plotly'],function(plotly) {window.Plotly=plotly;});}}</script>"
      ]
     },
     "metadata": {},
     "output_type": "display_data"
    },
    {
     "data": {
      "text/html": [
       "<script>requirejs.config({paths: { 'plotly': ['https://cdn.plot.ly/plotly-latest.min']},});if(!window.Plotly) {{require(['plotly'],function(plotly) {window.Plotly=plotly;});}}</script>"
      ],
      "text/vnd.plotly.v1+html": [
       "<script>requirejs.config({paths: { 'plotly': ['https://cdn.plot.ly/plotly-latest.min']},});if(!window.Plotly) {{require(['plotly'],function(plotly) {window.Plotly=plotly;});}}</script>"
      ]
     },
     "metadata": {},
     "output_type": "display_data"
    },
    {
     "data": {
      "text/plain": [
       "<module 'myModule' from '/mnt/e/jupyter/bin/assignment/myModule.py'>"
      ]
     },
     "execution_count": 4,
     "metadata": {},
     "output_type": "execute_result"
    }
   ],
   "source": [
    "import sys\n",
    "sys.path.append('./')\n",
    "import xiadan_check\n",
    "import myModule\n",
    "import imp\n",
    "imp.reload(xiadan_check)\n",
    "imp.reload(myModule)\n"
   ]
  },
  {
   "cell_type": "markdown",
   "metadata": {},
   "source": [
    "# 医学组下单情况"
   ]
  },
  {
   "cell_type": "code",
   "execution_count": 5,
   "metadata": {},
   "outputs": [],
   "source": [
    "pathway = '/mnt/e/工作/下单申请/2018第四季度/2018-10-08/'\n",
    "all_files  = xiadan_check.get_files(pathway, \"蛋白\",\"10-2\")   ##给路径\n",
    "df1  = xiadan_check.read_xlsx(all_files , 0 )## read all files sheet1"
   ]
  },
  {
   "cell_type": "markdown",
   "metadata": {},
   "source": [
    "## 医学组人员立项总工时情况"
   ]
  },
  {
   "cell_type": "code",
   "execution_count": 7,
   "metadata": {},
   "outputs": [
    {
     "data": {
      "application/vnd.plotly.v1+json": {
       "data": [
        {
         "name": "总工时(周杨)",
         "type": "bar",
         "uid": "17265e06-cc75-11e8-b6d2-a81e84e6c740",
         "x": [
          "10-2"
         ],
         "y": [
          32
         ]
        },
        {
         "name": "总工时(孟昊)",
         "type": "bar",
         "uid": "172661e4-cc75-11e8-b6d2-a81e84e6c740",
         "x": [
          "10-2"
         ],
         "y": [
          31
         ]
        },
        {
         "name": "总工时(封彦杰)",
         "type": "bar",
         "uid": "1726643c-cc75-11e8-b6d2-a81e84e6c740",
         "x": [
          "10-2"
         ],
         "y": [
          36
         ]
        },
        {
         "name": "总工时(于慧)",
         "type": "bar",
         "uid": "17266658-cc75-11e8-b6d2-a81e84e6c740",
         "x": [
          "10-2"
         ],
         "y": [
          37
         ]
        },
        {
         "name": "总工时(路慧萍)",
         "type": "bar",
         "uid": "17266860-cc75-11e8-b6d2-a81e84e6c740",
         "x": [
          "10-2"
         ],
         "y": [
          28
         ]
        },
        {
         "name": "总工时(李庆原)",
         "type": "bar",
         "uid": "17266a54-cc75-11e8-b6d2-a81e84e6c740",
         "x": [
          "10-2"
         ],
         "y": [
          22
         ]
        }
       ],
       "layout": {
        "title": "总工时周趋势图",
        "xaxis": {
         "mirror": "all",
         "nticks": 20,
         "showgrid": true,
         "showline": true,
         "title": "周",
         "zeroline": true
        },
        "yaxis": {
         "mirror": "all",
         "nticks": 20,
         "showgrid": true,
         "showline": true,
         "title": "总工时",
         "zeroline": true
        }
       }
      },
      "text/html": [
       "<div id=\"0a5b5775-479f-4d00-9c50-322ac6455fbe\" style=\"height: 525px; width: 100%;\" class=\"plotly-graph-div\"></div><script type=\"text/javascript\">require([\"plotly\"], function(Plotly) { window.PLOTLYENV=window.PLOTLYENV || {};window.PLOTLYENV.BASE_URL=\"https://plot.ly\";Plotly.newPlot(\"0a5b5775-479f-4d00-9c50-322ac6455fbe\", [{\"name\": \"\\u603b\\u5de5\\u65f6(\\u5468\\u6768)\", \"x\": [\"10-2\"], \"y\": [32], \"type\": \"bar\", \"uid\": \"17265e06-cc75-11e8-b6d2-a81e84e6c740\"}, {\"name\": \"\\u603b\\u5de5\\u65f6(\\u5b5f\\u660a)\", \"x\": [\"10-2\"], \"y\": [31], \"type\": \"bar\", \"uid\": \"172661e4-cc75-11e8-b6d2-a81e84e6c740\"}, {\"name\": \"\\u603b\\u5de5\\u65f6(\\u5c01\\u5f66\\u6770)\", \"x\": [\"10-2\"], \"y\": [36], \"type\": \"bar\", \"uid\": \"1726643c-cc75-11e8-b6d2-a81e84e6c740\"}, {\"name\": \"\\u603b\\u5de5\\u65f6(\\u4e8e\\u6167)\", \"x\": [\"10-2\"], \"y\": [37], \"type\": \"bar\", \"uid\": \"17266658-cc75-11e8-b6d2-a81e84e6c740\"}, {\"name\": \"\\u603b\\u5de5\\u65f6(\\u8def\\u6167\\u840d)\", \"x\": [\"10-2\"], \"y\": [28], \"type\": \"bar\", \"uid\": \"17266860-cc75-11e8-b6d2-a81e84e6c740\"}, {\"name\": \"\\u603b\\u5de5\\u65f6(\\u674e\\u5e86\\u539f)\", \"x\": [\"10-2\"], \"y\": [22], \"type\": \"bar\", \"uid\": \"17266a54-cc75-11e8-b6d2-a81e84e6c740\"}], {\"title\": \"\\u603b\\u5de5\\u65f6\\u5468\\u8d8b\\u52bf\\u56fe\", \"xaxis\": {\"mirror\": \"all\", \"nticks\": 20, \"showgrid\": true, \"showline\": true, \"title\": \"\\u5468\", \"zeroline\": true}, \"yaxis\": {\"mirror\": \"all\", \"nticks\": 20, \"showgrid\": true, \"showline\": true, \"title\": \"\\u603b\\u5de5\\u65f6\", \"zeroline\": true}}, {\"showLink\": true, \"linkText\": \"Export to plot.ly\"})});</script>"
      ],
      "text/vnd.plotly.v1+html": [
       "<div id=\"0a5b5775-479f-4d00-9c50-322ac6455fbe\" style=\"height: 525px; width: 100%;\" class=\"plotly-graph-div\"></div><script type=\"text/javascript\">require([\"plotly\"], function(Plotly) { window.PLOTLYENV=window.PLOTLYENV || {};window.PLOTLYENV.BASE_URL=\"https://plot.ly\";Plotly.newPlot(\"0a5b5775-479f-4d00-9c50-322ac6455fbe\", [{\"name\": \"\\u603b\\u5de5\\u65f6(\\u5468\\u6768)\", \"x\": [\"10-2\"], \"y\": [32], \"type\": \"bar\", \"uid\": \"17265e06-cc75-11e8-b6d2-a81e84e6c740\"}, {\"name\": \"\\u603b\\u5de5\\u65f6(\\u5b5f\\u660a)\", \"x\": [\"10-2\"], \"y\": [31], \"type\": \"bar\", \"uid\": \"172661e4-cc75-11e8-b6d2-a81e84e6c740\"}, {\"name\": \"\\u603b\\u5de5\\u65f6(\\u5c01\\u5f66\\u6770)\", \"x\": [\"10-2\"], \"y\": [36], \"type\": \"bar\", \"uid\": \"1726643c-cc75-11e8-b6d2-a81e84e6c740\"}, {\"name\": \"\\u603b\\u5de5\\u65f6(\\u4e8e\\u6167)\", \"x\": [\"10-2\"], \"y\": [37], \"type\": \"bar\", \"uid\": \"17266658-cc75-11e8-b6d2-a81e84e6c740\"}, {\"name\": \"\\u603b\\u5de5\\u65f6(\\u8def\\u6167\\u840d)\", \"x\": [\"10-2\"], \"y\": [28], \"type\": \"bar\", \"uid\": \"17266860-cc75-11e8-b6d2-a81e84e6c740\"}, {\"name\": \"\\u603b\\u5de5\\u65f6(\\u674e\\u5e86\\u539f)\", \"x\": [\"10-2\"], \"y\": [22], \"type\": \"bar\", \"uid\": \"17266a54-cc75-11e8-b6d2-a81e84e6c740\"}], {\"title\": \"\\u603b\\u5de5\\u65f6\\u5468\\u8d8b\\u52bf\\u56fe\", \"xaxis\": {\"mirror\": \"all\", \"nticks\": 20, \"showgrid\": true, \"showline\": true, \"title\": \"\\u5468\", \"zeroline\": true}, \"yaxis\": {\"mirror\": \"all\", \"nticks\": 20, \"showgrid\": true, \"showline\": true, \"title\": \"\\u603b\\u5de5\\u65f6\", \"zeroline\": true}}, {\"showLink\": true, \"linkText\": \"Export to plot.ly\"})});</script>"
      ]
     },
     "metadata": {},
     "output_type": "display_data"
    }
   ],
   "source": [
    "ss = myModule.format(df1 ,df1.columns[1] ,['总工时'])\n",
    "ss.add_group('信息负责人')\n",
    "tt = myModule.myPlot(ss.groupby('sum'))\n",
    "tt.plot('bar')"
   ]
  },
  {
   "cell_type": "markdown",
   "metadata": {},
   "source": [
    "## 医学组人员立项下单个数情况"
   ]
  },
  {
   "cell_type": "code",
   "execution_count": 6,
   "metadata": {},
   "outputs": [
    {
     "data": {
      "application/vnd.plotly.v1+json": {
       "data": [
        {
         "name": "子项目号(封彦杰)",
         "type": "bar",
         "uid": "e145fb6a-cc48-11e8-8976-a81e84e6c740",
         "x": [
          "10-2"
         ],
         "y": [
          7
         ]
        },
        {
         "name": "子项目号(于慧)",
         "type": "bar",
         "uid": "e145ff0c-cc48-11e8-8976-a81e84e6c740",
         "x": [
          "10-2"
         ],
         "y": [
          6
         ]
        },
        {
         "name": "子项目号(周杨)",
         "type": "bar",
         "uid": "e1460164-cc48-11e8-8976-a81e84e6c740",
         "x": [
          "10-2"
         ],
         "y": [
          6
         ]
        },
        {
         "name": "子项目号(孟昊)",
         "type": "bar",
         "uid": "e14603bc-cc48-11e8-8976-a81e84e6c740",
         "x": [
          "10-2"
         ],
         "y": [
          7
         ]
        },
        {
         "name": "子项目号(路慧萍)",
         "type": "bar",
         "uid": "e14606c8-cc48-11e8-8976-a81e84e6c740",
         "x": [
          "10-2"
         ],
         "y": [
          5
         ]
        },
        {
         "name": "子项目号(李庆原)",
         "type": "bar",
         "uid": "e1460a06-cc48-11e8-8976-a81e84e6c740",
         "x": [
          "10-2"
         ],
         "y": [
          6
         ]
        }
       ],
       "layout": {
        "title": "子项目号周趋势图",
        "xaxis": {
         "mirror": "all",
         "nticks": 20,
         "showgrid": true,
         "showline": true,
         "title": "周",
         "zeroline": true
        },
        "yaxis": {
         "mirror": "all",
         "nticks": 20,
         "showgrid": true,
         "showline": true,
         "title": "子项目号",
         "zeroline": true
        }
       }
      },
      "text/html": [
       "<div id=\"8c97c090-c2c9-4075-9f29-42a9d346d8c7\" style=\"height: 525px; width: 100%;\" class=\"plotly-graph-div\"></div><script type=\"text/javascript\">require([\"plotly\"], function(Plotly) { window.PLOTLYENV=window.PLOTLYENV || {};window.PLOTLYENV.BASE_URL=\"https://plot.ly\";Plotly.newPlot(\"8c97c090-c2c9-4075-9f29-42a9d346d8c7\", [{\"name\": \"\\u5b50\\u9879\\u76ee\\u53f7(\\u5c01\\u5f66\\u6770)\", \"x\": [\"10-2\"], \"y\": [7], \"type\": \"bar\", \"uid\": \"e145fb6a-cc48-11e8-8976-a81e84e6c740\"}, {\"name\": \"\\u5b50\\u9879\\u76ee\\u53f7(\\u4e8e\\u6167)\", \"x\": [\"10-2\"], \"y\": [6], \"type\": \"bar\", \"uid\": \"e145ff0c-cc48-11e8-8976-a81e84e6c740\"}, {\"name\": \"\\u5b50\\u9879\\u76ee\\u53f7(\\u5468\\u6768)\", \"x\": [\"10-2\"], \"y\": [6], \"type\": \"bar\", \"uid\": \"e1460164-cc48-11e8-8976-a81e84e6c740\"}, {\"name\": \"\\u5b50\\u9879\\u76ee\\u53f7(\\u5b5f\\u660a)\", \"x\": [\"10-2\"], \"y\": [7], \"type\": \"bar\", \"uid\": \"e14603bc-cc48-11e8-8976-a81e84e6c740\"}, {\"name\": \"\\u5b50\\u9879\\u76ee\\u53f7(\\u8def\\u6167\\u840d)\", \"x\": [\"10-2\"], \"y\": [5], \"type\": \"bar\", \"uid\": \"e14606c8-cc48-11e8-8976-a81e84e6c740\"}, {\"name\": \"\\u5b50\\u9879\\u76ee\\u53f7(\\u674e\\u5e86\\u539f)\", \"x\": [\"10-2\"], \"y\": [6], \"type\": \"bar\", \"uid\": \"e1460a06-cc48-11e8-8976-a81e84e6c740\"}], {\"title\": \"\\u5b50\\u9879\\u76ee\\u53f7\\u5468\\u8d8b\\u52bf\\u56fe\", \"xaxis\": {\"mirror\": \"all\", \"nticks\": 20, \"showgrid\": true, \"showline\": true, \"title\": \"\\u5468\", \"zeroline\": true}, \"yaxis\": {\"mirror\": \"all\", \"nticks\": 20, \"showgrid\": true, \"showline\": true, \"title\": \"\\u5b50\\u9879\\u76ee\\u53f7\", \"zeroline\": true}}, {\"showLink\": true, \"linkText\": \"Export to plot.ly\"})});</script>"
      ],
      "text/vnd.plotly.v1+html": [
       "<div id=\"8c97c090-c2c9-4075-9f29-42a9d346d8c7\" style=\"height: 525px; width: 100%;\" class=\"plotly-graph-div\"></div><script type=\"text/javascript\">require([\"plotly\"], function(Plotly) { window.PLOTLYENV=window.PLOTLYENV || {};window.PLOTLYENV.BASE_URL=\"https://plot.ly\";Plotly.newPlot(\"8c97c090-c2c9-4075-9f29-42a9d346d8c7\", [{\"name\": \"\\u5b50\\u9879\\u76ee\\u53f7(\\u5c01\\u5f66\\u6770)\", \"x\": [\"10-2\"], \"y\": [7], \"type\": \"bar\", \"uid\": \"e145fb6a-cc48-11e8-8976-a81e84e6c740\"}, {\"name\": \"\\u5b50\\u9879\\u76ee\\u53f7(\\u4e8e\\u6167)\", \"x\": [\"10-2\"], \"y\": [6], \"type\": \"bar\", \"uid\": \"e145ff0c-cc48-11e8-8976-a81e84e6c740\"}, {\"name\": \"\\u5b50\\u9879\\u76ee\\u53f7(\\u5468\\u6768)\", \"x\": [\"10-2\"], \"y\": [6], \"type\": \"bar\", \"uid\": \"e1460164-cc48-11e8-8976-a81e84e6c740\"}, {\"name\": \"\\u5b50\\u9879\\u76ee\\u53f7(\\u5b5f\\u660a)\", \"x\": [\"10-2\"], \"y\": [7], \"type\": \"bar\", \"uid\": \"e14603bc-cc48-11e8-8976-a81e84e6c740\"}, {\"name\": \"\\u5b50\\u9879\\u76ee\\u53f7(\\u8def\\u6167\\u840d)\", \"x\": [\"10-2\"], \"y\": [5], \"type\": \"bar\", \"uid\": \"e14606c8-cc48-11e8-8976-a81e84e6c740\"}, {\"name\": \"\\u5b50\\u9879\\u76ee\\u53f7(\\u674e\\u5e86\\u539f)\", \"x\": [\"10-2\"], \"y\": [6], \"type\": \"bar\", \"uid\": \"e1460a06-cc48-11e8-8976-a81e84e6c740\"}], {\"title\": \"\\u5b50\\u9879\\u76ee\\u53f7\\u5468\\u8d8b\\u52bf\\u56fe\", \"xaxis\": {\"mirror\": \"all\", \"nticks\": 20, \"showgrid\": true, \"showline\": true, \"title\": \"\\u5468\", \"zeroline\": true}, \"yaxis\": {\"mirror\": \"all\", \"nticks\": 20, \"showgrid\": true, \"showline\": true, \"title\": \"\\u5b50\\u9879\\u76ee\\u53f7\", \"zeroline\": true}}, {\"showLink\": true, \"linkText\": \"Export to plot.ly\"})});</script>"
      ]
     },
     "metadata": {},
     "output_type": "display_data"
    }
   ],
   "source": [
    "ss = myModule.format(df1 ,df1.columns[1],['子项目号'])\n",
    "ss.add_group('信息负责人')\n",
    "tt = myModule.myPlot(ss.groupby('count'))\n",
    "tt.plot('bar')"
   ]
  },
  {
   "cell_type": "markdown",
   "metadata": {},
   "source": [
    "## 医学组人员立项人均工时情况"
   ]
  },
  {
   "cell_type": "code",
   "execution_count": 7,
   "metadata": {},
   "outputs": [
    {
     "data": {
      "application/vnd.plotly.v1+json": {
       "data": [
        {
         "name": "总工时(封彦杰)",
         "type": "bar",
         "uid": "e15f6974-cc48-11e8-8976-a81e84e6c740",
         "x": [
          "10-2"
         ],
         "y": [
          5.142857142857143
         ]
        },
        {
         "name": "总工时(于慧)",
         "type": "bar",
         "uid": "e15f6eb0-cc48-11e8-8976-a81e84e6c740",
         "x": [
          "10-2"
         ],
         "y": [
          6.166666666666667
         ]
        },
        {
         "name": "总工时(周杨)",
         "type": "bar",
         "uid": "e15f722a-cc48-11e8-8976-a81e84e6c740",
         "x": [
          "10-2"
         ],
         "y": [
          5.333333333333333
         ]
        },
        {
         "name": "总工时(孟昊)",
         "type": "bar",
         "uid": "e15f754a-cc48-11e8-8976-a81e84e6c740",
         "x": [
          "10-2"
         ],
         "y": [
          4.428571428571429
         ]
        },
        {
         "name": "总工时(路慧萍)",
         "type": "bar",
         "uid": "e15f7860-cc48-11e8-8976-a81e84e6c740",
         "x": [
          "10-2"
         ],
         "y": [
          5.6
         ]
        },
        {
         "name": "总工时(李庆原)",
         "type": "bar",
         "uid": "e15f7b8a-cc48-11e8-8976-a81e84e6c740",
         "x": [
          "10-2"
         ],
         "y": [
          3.6666666666666665
         ]
        }
       ],
       "layout": {
        "title": "总工时周趋势图",
        "xaxis": {
         "mirror": "all",
         "nticks": 20,
         "showgrid": true,
         "showline": true,
         "title": "周",
         "zeroline": true
        },
        "yaxis": {
         "mirror": "all",
         "nticks": 20,
         "showgrid": true,
         "showline": true,
         "title": "总工时",
         "zeroline": true
        }
       }
      },
      "text/html": [
       "<div id=\"a02eb97a-ac1d-4bf7-9b1b-af01dc3393eb\" style=\"height: 525px; width: 100%;\" class=\"plotly-graph-div\"></div><script type=\"text/javascript\">require([\"plotly\"], function(Plotly) { window.PLOTLYENV=window.PLOTLYENV || {};window.PLOTLYENV.BASE_URL=\"https://plot.ly\";Plotly.newPlot(\"a02eb97a-ac1d-4bf7-9b1b-af01dc3393eb\", [{\"name\": \"\\u603b\\u5de5\\u65f6(\\u5c01\\u5f66\\u6770)\", \"x\": [\"10-2\"], \"y\": [5.142857142857143], \"type\": \"bar\", \"uid\": \"e15f6974-cc48-11e8-8976-a81e84e6c740\"}, {\"name\": \"\\u603b\\u5de5\\u65f6(\\u4e8e\\u6167)\", \"x\": [\"10-2\"], \"y\": [6.166666666666667], \"type\": \"bar\", \"uid\": \"e15f6eb0-cc48-11e8-8976-a81e84e6c740\"}, {\"name\": \"\\u603b\\u5de5\\u65f6(\\u5468\\u6768)\", \"x\": [\"10-2\"], \"y\": [5.333333333333333], \"type\": \"bar\", \"uid\": \"e15f722a-cc48-11e8-8976-a81e84e6c740\"}, {\"name\": \"\\u603b\\u5de5\\u65f6(\\u5b5f\\u660a)\", \"x\": [\"10-2\"], \"y\": [4.428571428571429], \"type\": \"bar\", \"uid\": \"e15f754a-cc48-11e8-8976-a81e84e6c740\"}, {\"name\": \"\\u603b\\u5de5\\u65f6(\\u8def\\u6167\\u840d)\", \"x\": [\"10-2\"], \"y\": [5.6], \"type\": \"bar\", \"uid\": \"e15f7860-cc48-11e8-8976-a81e84e6c740\"}, {\"name\": \"\\u603b\\u5de5\\u65f6(\\u674e\\u5e86\\u539f)\", \"x\": [\"10-2\"], \"y\": [3.6666666666666665], \"type\": \"bar\", \"uid\": \"e15f7b8a-cc48-11e8-8976-a81e84e6c740\"}], {\"title\": \"\\u603b\\u5de5\\u65f6\\u5468\\u8d8b\\u52bf\\u56fe\", \"xaxis\": {\"mirror\": \"all\", \"nticks\": 20, \"showgrid\": true, \"showline\": true, \"title\": \"\\u5468\", \"zeroline\": true}, \"yaxis\": {\"mirror\": \"all\", \"nticks\": 20, \"showgrid\": true, \"showline\": true, \"title\": \"\\u603b\\u5de5\\u65f6\", \"zeroline\": true}}, {\"showLink\": true, \"linkText\": \"Export to plot.ly\"})});</script>"
      ],
      "text/vnd.plotly.v1+html": [
       "<div id=\"a02eb97a-ac1d-4bf7-9b1b-af01dc3393eb\" style=\"height: 525px; width: 100%;\" class=\"plotly-graph-div\"></div><script type=\"text/javascript\">require([\"plotly\"], function(Plotly) { window.PLOTLYENV=window.PLOTLYENV || {};window.PLOTLYENV.BASE_URL=\"https://plot.ly\";Plotly.newPlot(\"a02eb97a-ac1d-4bf7-9b1b-af01dc3393eb\", [{\"name\": \"\\u603b\\u5de5\\u65f6(\\u5c01\\u5f66\\u6770)\", \"x\": [\"10-2\"], \"y\": [5.142857142857143], \"type\": \"bar\", \"uid\": \"e15f6974-cc48-11e8-8976-a81e84e6c740\"}, {\"name\": \"\\u603b\\u5de5\\u65f6(\\u4e8e\\u6167)\", \"x\": [\"10-2\"], \"y\": [6.166666666666667], \"type\": \"bar\", \"uid\": \"e15f6eb0-cc48-11e8-8976-a81e84e6c740\"}, {\"name\": \"\\u603b\\u5de5\\u65f6(\\u5468\\u6768)\", \"x\": [\"10-2\"], \"y\": [5.333333333333333], \"type\": \"bar\", \"uid\": \"e15f722a-cc48-11e8-8976-a81e84e6c740\"}, {\"name\": \"\\u603b\\u5de5\\u65f6(\\u5b5f\\u660a)\", \"x\": [\"10-2\"], \"y\": [4.428571428571429], \"type\": \"bar\", \"uid\": \"e15f754a-cc48-11e8-8976-a81e84e6c740\"}, {\"name\": \"\\u603b\\u5de5\\u65f6(\\u8def\\u6167\\u840d)\", \"x\": [\"10-2\"], \"y\": [5.6], \"type\": \"bar\", \"uid\": \"e15f7860-cc48-11e8-8976-a81e84e6c740\"}, {\"name\": \"\\u603b\\u5de5\\u65f6(\\u674e\\u5e86\\u539f)\", \"x\": [\"10-2\"], \"y\": [3.6666666666666665], \"type\": \"bar\", \"uid\": \"e15f7b8a-cc48-11e8-8976-a81e84e6c740\"}], {\"title\": \"\\u603b\\u5de5\\u65f6\\u5468\\u8d8b\\u52bf\\u56fe\", \"xaxis\": {\"mirror\": \"all\", \"nticks\": 20, \"showgrid\": true, \"showline\": true, \"title\": \"\\u5468\", \"zeroline\": true}, \"yaxis\": {\"mirror\": \"all\", \"nticks\": 20, \"showgrid\": true, \"showline\": true, \"title\": \"\\u603b\\u5de5\\u65f6\", \"zeroline\": true}}, {\"showLink\": true, \"linkText\": \"Export to plot.ly\"})});</script>"
      ]
     },
     "metadata": {},
     "output_type": "display_data"
    }
   ],
   "source": [
    "ss = myModule.format(df1 ,df1.columns[1] ,['总工时'])\n",
    "ss.add_group('信息负责人')\n",
    "ss.get_average_by('子项目号')\n",
    "#ss.df.groupby([ss.x , ss.group_col]).sum().groupby([ss.x , ss.group_col]).mean()\n",
    "tt = myModule.myPlot(ss.groupby('sum'))\n",
    "tt.plot('bar')"
   ]
  },
  {
   "cell_type": "markdown",
   "metadata": {},
   "source": [
    "## 产品研发来源趋势图"
   ]
  },
  {
   "cell_type": "markdown",
   "metadata": {},
   "source": [
    "### 个数"
   ]
  },
  {
   "cell_type": "code",
   "execution_count": 8,
   "metadata": {},
   "outputs": [
    {
     "data": {
      "application/vnd.plotly.v1+json": {
       "data": [
        {
         "name": "子项目号(研发项目)",
         "type": "bar",
         "uid": "e173a862-cc48-11e8-8976-a81e84e6c740",
         "x": [
          "10-2"
         ],
         "y": [
          24
         ]
        },
        {
         "name": "子项目号(商业项目)",
         "type": "bar",
         "uid": "e173ad12-cc48-11e8-8976-a81e84e6c740",
         "x": [
          "10-2"
         ],
         "y": [
          13
         ]
        }
       ],
       "layout": {
        "title": "子项目号周趋势图",
        "xaxis": {
         "mirror": "all",
         "nticks": 20,
         "showgrid": true,
         "showline": true,
         "title": "周",
         "zeroline": true
        },
        "yaxis": {
         "mirror": "all",
         "nticks": 20,
         "showgrid": true,
         "showline": true,
         "title": "子项目号",
         "zeroline": true
        }
       }
      },
      "text/html": [
       "<div id=\"9ac194b1-5742-4774-8639-795e2360c224\" style=\"height: 525px; width: 100%;\" class=\"plotly-graph-div\"></div><script type=\"text/javascript\">require([\"plotly\"], function(Plotly) { window.PLOTLYENV=window.PLOTLYENV || {};window.PLOTLYENV.BASE_URL=\"https://plot.ly\";Plotly.newPlot(\"9ac194b1-5742-4774-8639-795e2360c224\", [{\"name\": \"\\u5b50\\u9879\\u76ee\\u53f7(\\u7814\\u53d1\\u9879\\u76ee)\", \"x\": [\"10-2\"], \"y\": [24], \"type\": \"bar\", \"uid\": \"e173a862-cc48-11e8-8976-a81e84e6c740\"}, {\"name\": \"\\u5b50\\u9879\\u76ee\\u53f7(\\u5546\\u4e1a\\u9879\\u76ee)\", \"x\": [\"10-2\"], \"y\": [13], \"type\": \"bar\", \"uid\": \"e173ad12-cc48-11e8-8976-a81e84e6c740\"}], {\"title\": \"\\u5b50\\u9879\\u76ee\\u53f7\\u5468\\u8d8b\\u52bf\\u56fe\", \"xaxis\": {\"mirror\": \"all\", \"nticks\": 20, \"showgrid\": true, \"showline\": true, \"title\": \"\\u5468\", \"zeroline\": true}, \"yaxis\": {\"mirror\": \"all\", \"nticks\": 20, \"showgrid\": true, \"showline\": true, \"title\": \"\\u5b50\\u9879\\u76ee\\u53f7\", \"zeroline\": true}}, {\"showLink\": true, \"linkText\": \"Export to plot.ly\"})});</script>"
      ],
      "text/vnd.plotly.v1+html": [
       "<div id=\"9ac194b1-5742-4774-8639-795e2360c224\" style=\"height: 525px; width: 100%;\" class=\"plotly-graph-div\"></div><script type=\"text/javascript\">require([\"plotly\"], function(Plotly) { window.PLOTLYENV=window.PLOTLYENV || {};window.PLOTLYENV.BASE_URL=\"https://plot.ly\";Plotly.newPlot(\"9ac194b1-5742-4774-8639-795e2360c224\", [{\"name\": \"\\u5b50\\u9879\\u76ee\\u53f7(\\u7814\\u53d1\\u9879\\u76ee)\", \"x\": [\"10-2\"], \"y\": [24], \"type\": \"bar\", \"uid\": \"e173a862-cc48-11e8-8976-a81e84e6c740\"}, {\"name\": \"\\u5b50\\u9879\\u76ee\\u53f7(\\u5546\\u4e1a\\u9879\\u76ee)\", \"x\": [\"10-2\"], \"y\": [13], \"type\": \"bar\", \"uid\": \"e173ad12-cc48-11e8-8976-a81e84e6c740\"}], {\"title\": \"\\u5b50\\u9879\\u76ee\\u53f7\\u5468\\u8d8b\\u52bf\\u56fe\", \"xaxis\": {\"mirror\": \"all\", \"nticks\": 20, \"showgrid\": true, \"showline\": true, \"title\": \"\\u5468\", \"zeroline\": true}, \"yaxis\": {\"mirror\": \"all\", \"nticks\": 20, \"showgrid\": true, \"showline\": true, \"title\": \"\\u5b50\\u9879\\u76ee\\u53f7\", \"zeroline\": true}}, {\"showLink\": true, \"linkText\": \"Export to plot.ly\"})});</script>"
      ]
     },
     "metadata": {},
     "output_type": "display_data"
    }
   ],
   "source": [
    "ss = myModule.format(df1 ,df1.columns[1] ,['子项目号'])\n",
    "ss.add_group('产品大类（研发项目/商业项目）')\n",
    "#ss.get_average_by('子项目号')\n",
    "#ss.df.groupby([ss.x , ss.group_col]).sum().groupby([ss.x , ss.group_col]).mean()\n",
    "tt = myModule.myPlot(ss.groupby('count'))\n",
    "tt.plot('bar')"
   ]
  },
  {
   "cell_type": "markdown",
   "metadata": {},
   "source": [
    "### 工时"
   ]
  },
  {
   "cell_type": "code",
   "execution_count": 9,
   "metadata": {},
   "outputs": [
    {
     "data": {
      "application/vnd.plotly.v1+json": {
       "data": [
        {
         "name": "总工时(研发项目)",
         "type": "bar",
         "uid": "e1862da2-cc48-11e8-8976-a81e84e6c740",
         "x": [
          "10-2"
         ],
         "y": [
          127
         ]
        },
        {
         "name": "总工时(商业项目)",
         "type": "bar",
         "uid": "e18631ee-cc48-11e8-8976-a81e84e6c740",
         "x": [
          "10-2"
         ],
         "y": [
          59
         ]
        }
       ],
       "layout": {
        "title": "总工时周趋势图",
        "xaxis": {
         "mirror": "all",
         "nticks": 20,
         "showgrid": true,
         "showline": true,
         "title": "周",
         "zeroline": true
        },
        "yaxis": {
         "mirror": "all",
         "nticks": 20,
         "showgrid": true,
         "showline": true,
         "title": "总工时",
         "zeroline": true
        }
       }
      },
      "text/html": [
       "<div id=\"e0f0aae8-c8f2-4f87-a1c1-135ecdd57989\" style=\"height: 525px; width: 100%;\" class=\"plotly-graph-div\"></div><script type=\"text/javascript\">require([\"plotly\"], function(Plotly) { window.PLOTLYENV=window.PLOTLYENV || {};window.PLOTLYENV.BASE_URL=\"https://plot.ly\";Plotly.newPlot(\"e0f0aae8-c8f2-4f87-a1c1-135ecdd57989\", [{\"name\": \"\\u603b\\u5de5\\u65f6(\\u7814\\u53d1\\u9879\\u76ee)\", \"x\": [\"10-2\"], \"y\": [127], \"type\": \"bar\", \"uid\": \"e1862da2-cc48-11e8-8976-a81e84e6c740\"}, {\"name\": \"\\u603b\\u5de5\\u65f6(\\u5546\\u4e1a\\u9879\\u76ee)\", \"x\": [\"10-2\"], \"y\": [59], \"type\": \"bar\", \"uid\": \"e18631ee-cc48-11e8-8976-a81e84e6c740\"}], {\"title\": \"\\u603b\\u5de5\\u65f6\\u5468\\u8d8b\\u52bf\\u56fe\", \"xaxis\": {\"mirror\": \"all\", \"nticks\": 20, \"showgrid\": true, \"showline\": true, \"title\": \"\\u5468\", \"zeroline\": true}, \"yaxis\": {\"mirror\": \"all\", \"nticks\": 20, \"showgrid\": true, \"showline\": true, \"title\": \"\\u603b\\u5de5\\u65f6\", \"zeroline\": true}}, {\"showLink\": true, \"linkText\": \"Export to plot.ly\"})});</script>"
      ],
      "text/vnd.plotly.v1+html": [
       "<div id=\"e0f0aae8-c8f2-4f87-a1c1-135ecdd57989\" style=\"height: 525px; width: 100%;\" class=\"plotly-graph-div\"></div><script type=\"text/javascript\">require([\"plotly\"], function(Plotly) { window.PLOTLYENV=window.PLOTLYENV || {};window.PLOTLYENV.BASE_URL=\"https://plot.ly\";Plotly.newPlot(\"e0f0aae8-c8f2-4f87-a1c1-135ecdd57989\", [{\"name\": \"\\u603b\\u5de5\\u65f6(\\u7814\\u53d1\\u9879\\u76ee)\", \"x\": [\"10-2\"], \"y\": [127], \"type\": \"bar\", \"uid\": \"e1862da2-cc48-11e8-8976-a81e84e6c740\"}, {\"name\": \"\\u603b\\u5de5\\u65f6(\\u5546\\u4e1a\\u9879\\u76ee)\", \"x\": [\"10-2\"], \"y\": [59], \"type\": \"bar\", \"uid\": \"e18631ee-cc48-11e8-8976-a81e84e6c740\"}], {\"title\": \"\\u603b\\u5de5\\u65f6\\u5468\\u8d8b\\u52bf\\u56fe\", \"xaxis\": {\"mirror\": \"all\", \"nticks\": 20, \"showgrid\": true, \"showline\": true, \"title\": \"\\u5468\", \"zeroline\": true}, \"yaxis\": {\"mirror\": \"all\", \"nticks\": 20, \"showgrid\": true, \"showline\": true, \"title\": \"\\u603b\\u5de5\\u65f6\", \"zeroline\": true}}, {\"showLink\": true, \"linkText\": \"Export to plot.ly\"})});</script>"
      ]
     },
     "metadata": {},
     "output_type": "display_data"
    }
   ],
   "source": [
    "ss = myModule.format(df1 ,df1.columns[1] ,['总工时'])\n",
    "ss.add_group('产品大类（研发项目/商业项目）')\n",
    "#ss.get_average_by('子项目号')\n",
    "#ss.df.groupby([ss.x , ss.group_col]).sum().groupby([ss.x , ss.group_col]).mean()\n",
    "tt = myModule.myPlot(ss.groupby('sum'))\n",
    "tt.plot('bar')"
   ]
  },
  {
   "cell_type": "markdown",
   "metadata": {},
   "source": [
    "## 各产品占比"
   ]
  },
  {
   "cell_type": "markdown",
   "metadata": {},
   "source": [
    "### 个数"
   ]
  },
  {
   "cell_type": "code",
   "execution_count": 10,
   "metadata": {
    "scrolled": false
   },
   "outputs": [
    {
     "data": {
      "application/vnd.plotly.v1+json": {
       "data": [
        {
         "name": "子项目号(单基因病外显子)",
         "type": "bar",
         "uid": "e19e7894-cc48-11e8-8976-a81e84e6c740",
         "x": [
          "10-2"
         ],
         "y": [
          4
         ]
        },
        {
         "name": "子项目号(单基因病重测序)",
         "type": "bar",
         "uid": "e19e7dd0-cc48-11e8-8976-a81e84e6c740",
         "x": [
          "10-2"
         ],
         "y": [
          3
         ]
        },
        {
         "name": "子项目号(肿瘤多组学)",
         "type": "bar",
         "uid": "e19e8424-cc48-11e8-8976-a81e84e6c740",
         "x": [
          "10-2"
         ],
         "y": [
          6
         ]
        },
        {
         "name": "子项目号(新生抗原)",
         "type": "bar",
         "uid": "e19e8802-cc48-11e8-8976-a81e84e6c740",
         "x": [
          "10-2"
         ],
         "y": [
          4
         ]
        },
        {
         "name": "子项目号(医学转录组)",
         "type": "bar",
         "uid": "e19e8b22-cc48-11e8-8976-a81e84e6c740",
         "x": [
          "10-2"
         ],
         "y": [
          7
         ]
        },
        {
         "name": "子项目号(复杂疾病)",
         "type": "bar",
         "uid": "e19e8e42-cc48-11e8-8976-a81e84e6c740",
         "x": [
          "10-2"
         ],
         "y": [
          11
         ]
        },
        {
         "name": "子项目号(肿瘤人重)",
         "type": "bar",
         "uid": "e19e9392-cc48-11e8-8976-a81e84e6c740",
         "x": [
          "10-2"
         ],
         "y": [
          2
         ]
        }
       ],
       "layout": {
        "title": "子项目号周趋势图",
        "xaxis": {
         "mirror": "all",
         "nticks": 20,
         "showgrid": true,
         "showline": true,
         "title": "周",
         "zeroline": true
        },
        "yaxis": {
         "mirror": "all",
         "nticks": 20,
         "showgrid": true,
         "showline": true,
         "title": "子项目号",
         "zeroline": true
        }
       }
      },
      "text/html": [
       "<div id=\"66ace052-c9aa-4d55-878c-d132140a0660\" style=\"height: 525px; width: 100%;\" class=\"plotly-graph-div\"></div><script type=\"text/javascript\">require([\"plotly\"], function(Plotly) { window.PLOTLYENV=window.PLOTLYENV || {};window.PLOTLYENV.BASE_URL=\"https://plot.ly\";Plotly.newPlot(\"66ace052-c9aa-4d55-878c-d132140a0660\", [{\"name\": \"\\u5b50\\u9879\\u76ee\\u53f7(\\u5355\\u57fa\\u56e0\\u75c5\\u5916\\u663e\\u5b50)\", \"x\": [\"10-2\"], \"y\": [4], \"type\": \"bar\", \"uid\": \"e19e7894-cc48-11e8-8976-a81e84e6c740\"}, {\"name\": \"\\u5b50\\u9879\\u76ee\\u53f7(\\u5355\\u57fa\\u56e0\\u75c5\\u91cd\\u6d4b\\u5e8f)\", \"x\": [\"10-2\"], \"y\": [3], \"type\": \"bar\", \"uid\": \"e19e7dd0-cc48-11e8-8976-a81e84e6c740\"}, {\"name\": \"\\u5b50\\u9879\\u76ee\\u53f7(\\u80bf\\u7624\\u591a\\u7ec4\\u5b66)\", \"x\": [\"10-2\"], \"y\": [6], \"type\": \"bar\", \"uid\": \"e19e8424-cc48-11e8-8976-a81e84e6c740\"}, {\"name\": \"\\u5b50\\u9879\\u76ee\\u53f7(\\u65b0\\u751f\\u6297\\u539f)\", \"x\": [\"10-2\"], \"y\": [4], \"type\": \"bar\", \"uid\": \"e19e8802-cc48-11e8-8976-a81e84e6c740\"}, {\"name\": \"\\u5b50\\u9879\\u76ee\\u53f7(\\u533b\\u5b66\\u8f6c\\u5f55\\u7ec4)\", \"x\": [\"10-2\"], \"y\": [7], \"type\": \"bar\", \"uid\": \"e19e8b22-cc48-11e8-8976-a81e84e6c740\"}, {\"name\": \"\\u5b50\\u9879\\u76ee\\u53f7(\\u590d\\u6742\\u75be\\u75c5)\", \"x\": [\"10-2\"], \"y\": [11], \"type\": \"bar\", \"uid\": \"e19e8e42-cc48-11e8-8976-a81e84e6c740\"}, {\"name\": \"\\u5b50\\u9879\\u76ee\\u53f7(\\u80bf\\u7624\\u4eba\\u91cd)\", \"x\": [\"10-2\"], \"y\": [2], \"type\": \"bar\", \"uid\": \"e19e9392-cc48-11e8-8976-a81e84e6c740\"}], {\"title\": \"\\u5b50\\u9879\\u76ee\\u53f7\\u5468\\u8d8b\\u52bf\\u56fe\", \"xaxis\": {\"mirror\": \"all\", \"nticks\": 20, \"showgrid\": true, \"showline\": true, \"title\": \"\\u5468\", \"zeroline\": true}, \"yaxis\": {\"mirror\": \"all\", \"nticks\": 20, \"showgrid\": true, \"showline\": true, \"title\": \"\\u5b50\\u9879\\u76ee\\u53f7\", \"zeroline\": true}}, {\"showLink\": true, \"linkText\": \"Export to plot.ly\"})});</script>"
      ],
      "text/vnd.plotly.v1+html": [
       "<div id=\"66ace052-c9aa-4d55-878c-d132140a0660\" style=\"height: 525px; width: 100%;\" class=\"plotly-graph-div\"></div><script type=\"text/javascript\">require([\"plotly\"], function(Plotly) { window.PLOTLYENV=window.PLOTLYENV || {};window.PLOTLYENV.BASE_URL=\"https://plot.ly\";Plotly.newPlot(\"66ace052-c9aa-4d55-878c-d132140a0660\", [{\"name\": \"\\u5b50\\u9879\\u76ee\\u53f7(\\u5355\\u57fa\\u56e0\\u75c5\\u5916\\u663e\\u5b50)\", \"x\": [\"10-2\"], \"y\": [4], \"type\": \"bar\", \"uid\": \"e19e7894-cc48-11e8-8976-a81e84e6c740\"}, {\"name\": \"\\u5b50\\u9879\\u76ee\\u53f7(\\u5355\\u57fa\\u56e0\\u75c5\\u91cd\\u6d4b\\u5e8f)\", \"x\": [\"10-2\"], \"y\": [3], \"type\": \"bar\", \"uid\": \"e19e7dd0-cc48-11e8-8976-a81e84e6c740\"}, {\"name\": \"\\u5b50\\u9879\\u76ee\\u53f7(\\u80bf\\u7624\\u591a\\u7ec4\\u5b66)\", \"x\": [\"10-2\"], \"y\": [6], \"type\": \"bar\", \"uid\": \"e19e8424-cc48-11e8-8976-a81e84e6c740\"}, {\"name\": \"\\u5b50\\u9879\\u76ee\\u53f7(\\u65b0\\u751f\\u6297\\u539f)\", \"x\": [\"10-2\"], \"y\": [4], \"type\": \"bar\", \"uid\": \"e19e8802-cc48-11e8-8976-a81e84e6c740\"}, {\"name\": \"\\u5b50\\u9879\\u76ee\\u53f7(\\u533b\\u5b66\\u8f6c\\u5f55\\u7ec4)\", \"x\": [\"10-2\"], \"y\": [7], \"type\": \"bar\", \"uid\": \"e19e8b22-cc48-11e8-8976-a81e84e6c740\"}, {\"name\": \"\\u5b50\\u9879\\u76ee\\u53f7(\\u590d\\u6742\\u75be\\u75c5)\", \"x\": [\"10-2\"], \"y\": [11], \"type\": \"bar\", \"uid\": \"e19e8e42-cc48-11e8-8976-a81e84e6c740\"}, {\"name\": \"\\u5b50\\u9879\\u76ee\\u53f7(\\u80bf\\u7624\\u4eba\\u91cd)\", \"x\": [\"10-2\"], \"y\": [2], \"type\": \"bar\", \"uid\": \"e19e9392-cc48-11e8-8976-a81e84e6c740\"}], {\"title\": \"\\u5b50\\u9879\\u76ee\\u53f7\\u5468\\u8d8b\\u52bf\\u56fe\", \"xaxis\": {\"mirror\": \"all\", \"nticks\": 20, \"showgrid\": true, \"showline\": true, \"title\": \"\\u5468\", \"zeroline\": true}, \"yaxis\": {\"mirror\": \"all\", \"nticks\": 20, \"showgrid\": true, \"showline\": true, \"title\": \"\\u5b50\\u9879\\u76ee\\u53f7\", \"zeroline\": true}}, {\"showLink\": true, \"linkText\": \"Export to plot.ly\"})});</script>"
      ]
     },
     "metadata": {},
     "output_type": "display_data"
    }
   ],
   "source": [
    "ss = myModule.format(df1 ,df1.columns[1] ,['子项目号'])\n",
    "ss.add_group('产品子类')\n",
    "#ss.get_average_by('子项目号')\n",
    "#ss.df.groupby([ss.x , ss.group_col]).sum().groupby([ss.x , ss.group_col]).mean()\n",
    "tt = myModule.myPlot(ss.groupby('count'))\n",
    "tt.plot('bar')"
   ]
  },
  {
   "cell_type": "markdown",
   "metadata": {},
   "source": [
    "### 工时"
   ]
  },
  {
   "cell_type": "code",
   "execution_count": 11,
   "metadata": {
    "scrolled": false
   },
   "outputs": [
    {
     "data": {
      "application/vnd.plotly.v1+json": {
       "data": [
        {
         "name": "总工时(单基因病外显子)",
         "type": "bar",
         "uid": "e1c1123c-cc48-11e8-8976-a81e84e6c740",
         "x": [
          "10-2"
         ],
         "y": [
          18
         ]
        },
        {
         "name": "总工时(单基因病重测序)",
         "type": "bar",
         "uid": "e1c115ca-cc48-11e8-8976-a81e84e6c740",
         "x": [
          "10-2"
         ],
         "y": [
          18
         ]
        },
        {
         "name": "总工时(肿瘤多组学)",
         "type": "bar",
         "uid": "e1c11836-cc48-11e8-8976-a81e84e6c740",
         "x": [
          "10-2"
         ],
         "y": [
          22
         ]
        },
        {
         "name": "总工时(新生抗原)",
         "type": "bar",
         "uid": "e1c11a52-cc48-11e8-8976-a81e84e6c740",
         "x": [
          "10-2"
         ],
         "y": [
          25
         ]
        },
        {
         "name": "总工时(医学转录组)",
         "type": "bar",
         "uid": "e1c11c50-cc48-11e8-8976-a81e84e6c740",
         "x": [
          "10-2"
         ],
         "y": [
          31
         ]
        },
        {
         "name": "总工时(复杂疾病)",
         "type": "bar",
         "uid": "e1c11e4e-cc48-11e8-8976-a81e84e6c740",
         "x": [
          "10-2"
         ],
         "y": [
          60
         ]
        },
        {
         "name": "总工时(肿瘤人重)",
         "type": "bar",
         "uid": "e1c12038-cc48-11e8-8976-a81e84e6c740",
         "x": [
          "10-2"
         ],
         "y": [
          12
         ]
        }
       ],
       "layout": {
        "title": "总工时周趋势图",
        "xaxis": {
         "mirror": "all",
         "nticks": 20,
         "showgrid": true,
         "showline": true,
         "title": "周",
         "zeroline": true
        },
        "yaxis": {
         "mirror": "all",
         "nticks": 20,
         "showgrid": true,
         "showline": true,
         "title": "总工时",
         "zeroline": true
        }
       }
      },
      "text/html": [
       "<div id=\"78a60607-3c9f-4e4f-87c4-0370a736b438\" style=\"height: 525px; width: 100%;\" class=\"plotly-graph-div\"></div><script type=\"text/javascript\">require([\"plotly\"], function(Plotly) { window.PLOTLYENV=window.PLOTLYENV || {};window.PLOTLYENV.BASE_URL=\"https://plot.ly\";Plotly.newPlot(\"78a60607-3c9f-4e4f-87c4-0370a736b438\", [{\"name\": \"\\u603b\\u5de5\\u65f6(\\u5355\\u57fa\\u56e0\\u75c5\\u5916\\u663e\\u5b50)\", \"x\": [\"10-2\"], \"y\": [18], \"type\": \"bar\", \"uid\": \"e1c1123c-cc48-11e8-8976-a81e84e6c740\"}, {\"name\": \"\\u603b\\u5de5\\u65f6(\\u5355\\u57fa\\u56e0\\u75c5\\u91cd\\u6d4b\\u5e8f)\", \"x\": [\"10-2\"], \"y\": [18], \"type\": \"bar\", \"uid\": \"e1c115ca-cc48-11e8-8976-a81e84e6c740\"}, {\"name\": \"\\u603b\\u5de5\\u65f6(\\u80bf\\u7624\\u591a\\u7ec4\\u5b66)\", \"x\": [\"10-2\"], \"y\": [22], \"type\": \"bar\", \"uid\": \"e1c11836-cc48-11e8-8976-a81e84e6c740\"}, {\"name\": \"\\u603b\\u5de5\\u65f6(\\u65b0\\u751f\\u6297\\u539f)\", \"x\": [\"10-2\"], \"y\": [25], \"type\": \"bar\", \"uid\": \"e1c11a52-cc48-11e8-8976-a81e84e6c740\"}, {\"name\": \"\\u603b\\u5de5\\u65f6(\\u533b\\u5b66\\u8f6c\\u5f55\\u7ec4)\", \"x\": [\"10-2\"], \"y\": [31], \"type\": \"bar\", \"uid\": \"e1c11c50-cc48-11e8-8976-a81e84e6c740\"}, {\"name\": \"\\u603b\\u5de5\\u65f6(\\u590d\\u6742\\u75be\\u75c5)\", \"x\": [\"10-2\"], \"y\": [60], \"type\": \"bar\", \"uid\": \"e1c11e4e-cc48-11e8-8976-a81e84e6c740\"}, {\"name\": \"\\u603b\\u5de5\\u65f6(\\u80bf\\u7624\\u4eba\\u91cd)\", \"x\": [\"10-2\"], \"y\": [12], \"type\": \"bar\", \"uid\": \"e1c12038-cc48-11e8-8976-a81e84e6c740\"}], {\"title\": \"\\u603b\\u5de5\\u65f6\\u5468\\u8d8b\\u52bf\\u56fe\", \"xaxis\": {\"mirror\": \"all\", \"nticks\": 20, \"showgrid\": true, \"showline\": true, \"title\": \"\\u5468\", \"zeroline\": true}, \"yaxis\": {\"mirror\": \"all\", \"nticks\": 20, \"showgrid\": true, \"showline\": true, \"title\": \"\\u603b\\u5de5\\u65f6\", \"zeroline\": true}}, {\"showLink\": true, \"linkText\": \"Export to plot.ly\"})});</script>"
      ],
      "text/vnd.plotly.v1+html": [
       "<div id=\"78a60607-3c9f-4e4f-87c4-0370a736b438\" style=\"height: 525px; width: 100%;\" class=\"plotly-graph-div\"></div><script type=\"text/javascript\">require([\"plotly\"], function(Plotly) { window.PLOTLYENV=window.PLOTLYENV || {};window.PLOTLYENV.BASE_URL=\"https://plot.ly\";Plotly.newPlot(\"78a60607-3c9f-4e4f-87c4-0370a736b438\", [{\"name\": \"\\u603b\\u5de5\\u65f6(\\u5355\\u57fa\\u56e0\\u75c5\\u5916\\u663e\\u5b50)\", \"x\": [\"10-2\"], \"y\": [18], \"type\": \"bar\", \"uid\": \"e1c1123c-cc48-11e8-8976-a81e84e6c740\"}, {\"name\": \"\\u603b\\u5de5\\u65f6(\\u5355\\u57fa\\u56e0\\u75c5\\u91cd\\u6d4b\\u5e8f)\", \"x\": [\"10-2\"], \"y\": [18], \"type\": \"bar\", \"uid\": \"e1c115ca-cc48-11e8-8976-a81e84e6c740\"}, {\"name\": \"\\u603b\\u5de5\\u65f6(\\u80bf\\u7624\\u591a\\u7ec4\\u5b66)\", \"x\": [\"10-2\"], \"y\": [22], \"type\": \"bar\", \"uid\": \"e1c11836-cc48-11e8-8976-a81e84e6c740\"}, {\"name\": \"\\u603b\\u5de5\\u65f6(\\u65b0\\u751f\\u6297\\u539f)\", \"x\": [\"10-2\"], \"y\": [25], \"type\": \"bar\", \"uid\": \"e1c11a52-cc48-11e8-8976-a81e84e6c740\"}, {\"name\": \"\\u603b\\u5de5\\u65f6(\\u533b\\u5b66\\u8f6c\\u5f55\\u7ec4)\", \"x\": [\"10-2\"], \"y\": [31], \"type\": \"bar\", \"uid\": \"e1c11c50-cc48-11e8-8976-a81e84e6c740\"}, {\"name\": \"\\u603b\\u5de5\\u65f6(\\u590d\\u6742\\u75be\\u75c5)\", \"x\": [\"10-2\"], \"y\": [60], \"type\": \"bar\", \"uid\": \"e1c11e4e-cc48-11e8-8976-a81e84e6c740\"}, {\"name\": \"\\u603b\\u5de5\\u65f6(\\u80bf\\u7624\\u4eba\\u91cd)\", \"x\": [\"10-2\"], \"y\": [12], \"type\": \"bar\", \"uid\": \"e1c12038-cc48-11e8-8976-a81e84e6c740\"}], {\"title\": \"\\u603b\\u5de5\\u65f6\\u5468\\u8d8b\\u52bf\\u56fe\", \"xaxis\": {\"mirror\": \"all\", \"nticks\": 20, \"showgrid\": true, \"showline\": true, \"title\": \"\\u5468\", \"zeroline\": true}, \"yaxis\": {\"mirror\": \"all\", \"nticks\": 20, \"showgrid\": true, \"showline\": true, \"title\": \"\\u603b\\u5de5\\u65f6\", \"zeroline\": true}}, {\"showLink\": true, \"linkText\": \"Export to plot.ly\"})});</script>"
      ]
     },
     "metadata": {},
     "output_type": "display_data"
    }
   ],
   "source": [
    "ss = myModule.format(df1 ,df1.columns[1] ,['总工时'])\n",
    "ss.add_group('产品子类')\n",
    "#ss.get_average_by('子项目号')\n",
    "#ss.df.groupby([ss.x , ss.group_col]).sum().groupby([ss.x , ss.group_col]).mean()\n",
    "tt = myModule.myPlot(ss.groupby('sum'))\n",
    "tt.plot('bar')"
   ]
  },
  {
   "cell_type": "markdown",
   "metadata": {},
   "source": [
    "# 生物学DNA组下单情况"
   ]
  },
  {
   "cell_type": "code",
   "execution_count": 12,
   "metadata": {},
   "outputs": [],
   "source": [
    "pathway = '/mnt/e/工作/下单申请/2018第四季度/2018-10-08/'\n",
    "all_files  = xiadan_check.get_files(pathway, \"生物学\",\"10-2\")   ##给路径\n",
    "df2  = xiadan_check.read_xlsx(all_files , 0 )## read all files sheet1"
   ]
  },
  {
   "cell_type": "markdown",
   "metadata": {},
   "source": [
    "## 生物学人员立项总工时情况"
   ]
  },
  {
   "cell_type": "code",
   "execution_count": 13,
   "metadata": {},
   "outputs": [
    {
     "data": {
      "application/vnd.plotly.v1+json": {
       "data": [
        {
         "name": "总工时(杨伟飞)",
         "type": "bar",
         "uid": "e1ea8b08-cc48-11e8-8976-a81e84e6c740",
         "x": [
          "10-2"
         ],
         "y": [
          37
         ]
        },
        {
         "name": "总工时(于勇一)",
         "type": "bar",
         "uid": "e1ea901c-cc48-11e8-8976-a81e84e6c740",
         "x": [
          "10-2"
         ],
         "y": [
          30
         ]
        },
        {
         "name": "总工时(占伟)",
         "type": "bar",
         "uid": "e1ea92b0-cc48-11e8-8976-a81e84e6c740",
         "x": [
          "10-2"
         ],
         "y": [
          38
         ]
        },
        {
         "name": "总工时(马潇)",
         "type": "bar",
         "uid": "e1ea94e0-cc48-11e8-8976-a81e84e6c740",
         "x": [
          "10-2"
         ],
         "y": [
          44
         ]
        },
        {
         "name": "总工时(任雪)",
         "type": "bar",
         "uid": "e1ea96e8-cc48-11e8-8976-a81e84e6c740",
         "x": [
          "10-2"
         ],
         "y": [
          46
         ]
        },
        {
         "name": "总工时(刘江)",
         "type": "bar",
         "uid": "e1ea98f0-cc48-11e8-8976-a81e84e6c740",
         "x": [
          "10-2"
         ],
         "y": [
          33
         ]
        },
        {
         "name": "总工时(刘三阳)",
         "type": "bar",
         "uid": "e1ea9ada-cc48-11e8-8976-a81e84e6c740",
         "x": [
          "10-2"
         ],
         "y": [
          8
         ]
        }
       ],
       "layout": {
        "title": "总工时周趋势图",
        "xaxis": {
         "mirror": "all",
         "nticks": 20,
         "showgrid": true,
         "showline": true,
         "title": "周",
         "zeroline": true
        },
        "yaxis": {
         "mirror": "all",
         "nticks": 20,
         "showgrid": true,
         "showline": true,
         "title": "总工时",
         "zeroline": true
        }
       }
      },
      "text/html": [
       "<div id=\"25545b6b-5246-40fd-929f-41647fe8e598\" style=\"height: 525px; width: 100%;\" class=\"plotly-graph-div\"></div><script type=\"text/javascript\">require([\"plotly\"], function(Plotly) { window.PLOTLYENV=window.PLOTLYENV || {};window.PLOTLYENV.BASE_URL=\"https://plot.ly\";Plotly.newPlot(\"25545b6b-5246-40fd-929f-41647fe8e598\", [{\"name\": \"\\u603b\\u5de5\\u65f6(\\u6768\\u4f1f\\u98de)\", \"x\": [\"10-2\"], \"y\": [37], \"type\": \"bar\", \"uid\": \"e1ea8b08-cc48-11e8-8976-a81e84e6c740\"}, {\"name\": \"\\u603b\\u5de5\\u65f6(\\u4e8e\\u52c7\\u4e00)\", \"x\": [\"10-2\"], \"y\": [30], \"type\": \"bar\", \"uid\": \"e1ea901c-cc48-11e8-8976-a81e84e6c740\"}, {\"name\": \"\\u603b\\u5de5\\u65f6(\\u5360\\u4f1f)\", \"x\": [\"10-2\"], \"y\": [38], \"type\": \"bar\", \"uid\": \"e1ea92b0-cc48-11e8-8976-a81e84e6c740\"}, {\"name\": \"\\u603b\\u5de5\\u65f6(\\u9a6c\\u6f47)\", \"x\": [\"10-2\"], \"y\": [44], \"type\": \"bar\", \"uid\": \"e1ea94e0-cc48-11e8-8976-a81e84e6c740\"}, {\"name\": \"\\u603b\\u5de5\\u65f6(\\u4efb\\u96ea)\", \"x\": [\"10-2\"], \"y\": [46], \"type\": \"bar\", \"uid\": \"e1ea96e8-cc48-11e8-8976-a81e84e6c740\"}, {\"name\": \"\\u603b\\u5de5\\u65f6(\\u5218\\u6c5f)\", \"x\": [\"10-2\"], \"y\": [33], \"type\": \"bar\", \"uid\": \"e1ea98f0-cc48-11e8-8976-a81e84e6c740\"}, {\"name\": \"\\u603b\\u5de5\\u65f6(\\u5218\\u4e09\\u9633)\", \"x\": [\"10-2\"], \"y\": [8], \"type\": \"bar\", \"uid\": \"e1ea9ada-cc48-11e8-8976-a81e84e6c740\"}], {\"title\": \"\\u603b\\u5de5\\u65f6\\u5468\\u8d8b\\u52bf\\u56fe\", \"xaxis\": {\"mirror\": \"all\", \"nticks\": 20, \"showgrid\": true, \"showline\": true, \"title\": \"\\u5468\", \"zeroline\": true}, \"yaxis\": {\"mirror\": \"all\", \"nticks\": 20, \"showgrid\": true, \"showline\": true, \"title\": \"\\u603b\\u5de5\\u65f6\", \"zeroline\": true}}, {\"showLink\": true, \"linkText\": \"Export to plot.ly\"})});</script>"
      ],
      "text/vnd.plotly.v1+html": [
       "<div id=\"25545b6b-5246-40fd-929f-41647fe8e598\" style=\"height: 525px; width: 100%;\" class=\"plotly-graph-div\"></div><script type=\"text/javascript\">require([\"plotly\"], function(Plotly) { window.PLOTLYENV=window.PLOTLYENV || {};window.PLOTLYENV.BASE_URL=\"https://plot.ly\";Plotly.newPlot(\"25545b6b-5246-40fd-929f-41647fe8e598\", [{\"name\": \"\\u603b\\u5de5\\u65f6(\\u6768\\u4f1f\\u98de)\", \"x\": [\"10-2\"], \"y\": [37], \"type\": \"bar\", \"uid\": \"e1ea8b08-cc48-11e8-8976-a81e84e6c740\"}, {\"name\": \"\\u603b\\u5de5\\u65f6(\\u4e8e\\u52c7\\u4e00)\", \"x\": [\"10-2\"], \"y\": [30], \"type\": \"bar\", \"uid\": \"e1ea901c-cc48-11e8-8976-a81e84e6c740\"}, {\"name\": \"\\u603b\\u5de5\\u65f6(\\u5360\\u4f1f)\", \"x\": [\"10-2\"], \"y\": [38], \"type\": \"bar\", \"uid\": \"e1ea92b0-cc48-11e8-8976-a81e84e6c740\"}, {\"name\": \"\\u603b\\u5de5\\u65f6(\\u9a6c\\u6f47)\", \"x\": [\"10-2\"], \"y\": [44], \"type\": \"bar\", \"uid\": \"e1ea94e0-cc48-11e8-8976-a81e84e6c740\"}, {\"name\": \"\\u603b\\u5de5\\u65f6(\\u4efb\\u96ea)\", \"x\": [\"10-2\"], \"y\": [46], \"type\": \"bar\", \"uid\": \"e1ea96e8-cc48-11e8-8976-a81e84e6c740\"}, {\"name\": \"\\u603b\\u5de5\\u65f6(\\u5218\\u6c5f)\", \"x\": [\"10-2\"], \"y\": [33], \"type\": \"bar\", \"uid\": \"e1ea98f0-cc48-11e8-8976-a81e84e6c740\"}, {\"name\": \"\\u603b\\u5de5\\u65f6(\\u5218\\u4e09\\u9633)\", \"x\": [\"10-2\"], \"y\": [8], \"type\": \"bar\", \"uid\": \"e1ea9ada-cc48-11e8-8976-a81e84e6c740\"}], {\"title\": \"\\u603b\\u5de5\\u65f6\\u5468\\u8d8b\\u52bf\\u56fe\", \"xaxis\": {\"mirror\": \"all\", \"nticks\": 20, \"showgrid\": true, \"showline\": true, \"title\": \"\\u5468\", \"zeroline\": true}, \"yaxis\": {\"mirror\": \"all\", \"nticks\": 20, \"showgrid\": true, \"showline\": true, \"title\": \"\\u603b\\u5de5\\u65f6\", \"zeroline\": true}}, {\"showLink\": true, \"linkText\": \"Export to plot.ly\"})});</script>"
      ]
     },
     "metadata": {},
     "output_type": "display_data"
    }
   ],
   "source": [
    "ss = myModule.format(df2 ,df2.columns[1] ,['总工时'])\n",
    "ss.add_group('信息负责人')\n",
    "#ss.get_average_by('子项目号')\n",
    "#ss.df.groupby([ss.x , ss.group_col]).sum().groupby([ss.x , ss.group_col]).mean()\n",
    "tt = myModule.myPlot(ss.groupby('sum'))\n",
    "tt.plot('bar')"
   ]
  },
  {
   "cell_type": "markdown",
   "metadata": {},
   "source": [
    "## 生物学人员立项下单个数情况"
   ]
  },
  {
   "cell_type": "code",
   "execution_count": 14,
   "metadata": {},
   "outputs": [
    {
     "data": {
      "application/vnd.plotly.v1+json": {
       "data": [
        {
         "name": "子项目号(杨伟飞)",
         "type": "bar",
         "uid": "e2010400-cc48-11e8-8976-a81e84e6c740",
         "x": [
          "10-2"
         ],
         "y": [
          4
         ]
        },
        {
         "name": "子项目号(于勇一)",
         "type": "bar",
         "uid": "e20109c8-cc48-11e8-8976-a81e84e6c740",
         "x": [
          "10-2"
         ],
         "y": [
          7
         ]
        },
        {
         "name": "子项目号(占伟)",
         "type": "bar",
         "uid": "e2010ce8-cc48-11e8-8976-a81e84e6c740",
         "x": [
          "10-2"
         ],
         "y": [
          9
         ]
        },
        {
         "name": "子项目号(马潇)",
         "type": "bar",
         "uid": "e2010fb8-cc48-11e8-8976-a81e84e6c740",
         "x": [
          "10-2"
         ],
         "y": [
          9
         ]
        },
        {
         "name": "子项目号(任雪)",
         "type": "bar",
         "uid": "e2011260-cc48-11e8-8976-a81e84e6c740",
         "x": [
          "10-2"
         ],
         "y": [
          7
         ]
        },
        {
         "name": "子项目号(刘江)",
         "type": "bar",
         "uid": "e20115b2-cc48-11e8-8976-a81e84e6c740",
         "x": [
          "10-2"
         ],
         "y": [
          7
         ]
        },
        {
         "name": "子项目号(刘三阳)",
         "type": "bar",
         "uid": "e2011922-cc48-11e8-8976-a81e84e6c740",
         "x": [
          "10-2"
         ],
         "y": [
          1
         ]
        }
       ],
       "layout": {
        "title": "子项目号周趋势图",
        "xaxis": {
         "mirror": "all",
         "nticks": 20,
         "showgrid": true,
         "showline": true,
         "title": "周",
         "zeroline": true
        },
        "yaxis": {
         "mirror": "all",
         "nticks": 20,
         "showgrid": true,
         "showline": true,
         "title": "子项目号",
         "zeroline": true
        }
       }
      },
      "text/html": [
       "<div id=\"a9746cbb-d188-481d-86c0-1c31dc5f4848\" style=\"height: 525px; width: 100%;\" class=\"plotly-graph-div\"></div><script type=\"text/javascript\">require([\"plotly\"], function(Plotly) { window.PLOTLYENV=window.PLOTLYENV || {};window.PLOTLYENV.BASE_URL=\"https://plot.ly\";Plotly.newPlot(\"a9746cbb-d188-481d-86c0-1c31dc5f4848\", [{\"name\": \"\\u5b50\\u9879\\u76ee\\u53f7(\\u6768\\u4f1f\\u98de)\", \"x\": [\"10-2\"], \"y\": [4], \"type\": \"bar\", \"uid\": \"e2010400-cc48-11e8-8976-a81e84e6c740\"}, {\"name\": \"\\u5b50\\u9879\\u76ee\\u53f7(\\u4e8e\\u52c7\\u4e00)\", \"x\": [\"10-2\"], \"y\": [7], \"type\": \"bar\", \"uid\": \"e20109c8-cc48-11e8-8976-a81e84e6c740\"}, {\"name\": \"\\u5b50\\u9879\\u76ee\\u53f7(\\u5360\\u4f1f)\", \"x\": [\"10-2\"], \"y\": [9], \"type\": \"bar\", \"uid\": \"e2010ce8-cc48-11e8-8976-a81e84e6c740\"}, {\"name\": \"\\u5b50\\u9879\\u76ee\\u53f7(\\u9a6c\\u6f47)\", \"x\": [\"10-2\"], \"y\": [9], \"type\": \"bar\", \"uid\": \"e2010fb8-cc48-11e8-8976-a81e84e6c740\"}, {\"name\": \"\\u5b50\\u9879\\u76ee\\u53f7(\\u4efb\\u96ea)\", \"x\": [\"10-2\"], \"y\": [7], \"type\": \"bar\", \"uid\": \"e2011260-cc48-11e8-8976-a81e84e6c740\"}, {\"name\": \"\\u5b50\\u9879\\u76ee\\u53f7(\\u5218\\u6c5f)\", \"x\": [\"10-2\"], \"y\": [7], \"type\": \"bar\", \"uid\": \"e20115b2-cc48-11e8-8976-a81e84e6c740\"}, {\"name\": \"\\u5b50\\u9879\\u76ee\\u53f7(\\u5218\\u4e09\\u9633)\", \"x\": [\"10-2\"], \"y\": [1], \"type\": \"bar\", \"uid\": \"e2011922-cc48-11e8-8976-a81e84e6c740\"}], {\"title\": \"\\u5b50\\u9879\\u76ee\\u53f7\\u5468\\u8d8b\\u52bf\\u56fe\", \"xaxis\": {\"mirror\": \"all\", \"nticks\": 20, \"showgrid\": true, \"showline\": true, \"title\": \"\\u5468\", \"zeroline\": true}, \"yaxis\": {\"mirror\": \"all\", \"nticks\": 20, \"showgrid\": true, \"showline\": true, \"title\": \"\\u5b50\\u9879\\u76ee\\u53f7\", \"zeroline\": true}}, {\"showLink\": true, \"linkText\": \"Export to plot.ly\"})});</script>"
      ],
      "text/vnd.plotly.v1+html": [
       "<div id=\"a9746cbb-d188-481d-86c0-1c31dc5f4848\" style=\"height: 525px; width: 100%;\" class=\"plotly-graph-div\"></div><script type=\"text/javascript\">require([\"plotly\"], function(Plotly) { window.PLOTLYENV=window.PLOTLYENV || {};window.PLOTLYENV.BASE_URL=\"https://plot.ly\";Plotly.newPlot(\"a9746cbb-d188-481d-86c0-1c31dc5f4848\", [{\"name\": \"\\u5b50\\u9879\\u76ee\\u53f7(\\u6768\\u4f1f\\u98de)\", \"x\": [\"10-2\"], \"y\": [4], \"type\": \"bar\", \"uid\": \"e2010400-cc48-11e8-8976-a81e84e6c740\"}, {\"name\": \"\\u5b50\\u9879\\u76ee\\u53f7(\\u4e8e\\u52c7\\u4e00)\", \"x\": [\"10-2\"], \"y\": [7], \"type\": \"bar\", \"uid\": \"e20109c8-cc48-11e8-8976-a81e84e6c740\"}, {\"name\": \"\\u5b50\\u9879\\u76ee\\u53f7(\\u5360\\u4f1f)\", \"x\": [\"10-2\"], \"y\": [9], \"type\": \"bar\", \"uid\": \"e2010ce8-cc48-11e8-8976-a81e84e6c740\"}, {\"name\": \"\\u5b50\\u9879\\u76ee\\u53f7(\\u9a6c\\u6f47)\", \"x\": [\"10-2\"], \"y\": [9], \"type\": \"bar\", \"uid\": \"e2010fb8-cc48-11e8-8976-a81e84e6c740\"}, {\"name\": \"\\u5b50\\u9879\\u76ee\\u53f7(\\u4efb\\u96ea)\", \"x\": [\"10-2\"], \"y\": [7], \"type\": \"bar\", \"uid\": \"e2011260-cc48-11e8-8976-a81e84e6c740\"}, {\"name\": \"\\u5b50\\u9879\\u76ee\\u53f7(\\u5218\\u6c5f)\", \"x\": [\"10-2\"], \"y\": [7], \"type\": \"bar\", \"uid\": \"e20115b2-cc48-11e8-8976-a81e84e6c740\"}, {\"name\": \"\\u5b50\\u9879\\u76ee\\u53f7(\\u5218\\u4e09\\u9633)\", \"x\": [\"10-2\"], \"y\": [1], \"type\": \"bar\", \"uid\": \"e2011922-cc48-11e8-8976-a81e84e6c740\"}], {\"title\": \"\\u5b50\\u9879\\u76ee\\u53f7\\u5468\\u8d8b\\u52bf\\u56fe\", \"xaxis\": {\"mirror\": \"all\", \"nticks\": 20, \"showgrid\": true, \"showline\": true, \"title\": \"\\u5468\", \"zeroline\": true}, \"yaxis\": {\"mirror\": \"all\", \"nticks\": 20, \"showgrid\": true, \"showline\": true, \"title\": \"\\u5b50\\u9879\\u76ee\\u53f7\", \"zeroline\": true}}, {\"showLink\": true, \"linkText\": \"Export to plot.ly\"})});</script>"
      ]
     },
     "metadata": {},
     "output_type": "display_data"
    }
   ],
   "source": [
    "ss = myModule.format(df2 ,df2.columns[1] ,['子项目号'])\n",
    "ss.add_group('信息负责人')\n",
    "tt = myModule.myPlot(ss.groupby('count'))\n",
    "tt.plot('bar')"
   ]
  },
  {
   "cell_type": "markdown",
   "metadata": {},
   "source": [
    "## 生物学DNA组人员立项人均工时情况"
   ]
  },
  {
   "cell_type": "code",
   "execution_count": 15,
   "metadata": {},
   "outputs": [
    {
     "data": {
      "application/vnd.plotly.v1+json": {
       "data": [
        {
         "name": "总工时(杨伟飞)",
         "type": "bar",
         "uid": "e2260da4-cc48-11e8-8976-a81e84e6c740",
         "x": [
          "10-2"
         ],
         "y": [
          9.25
         ]
        },
        {
         "name": "总工时(于勇一)",
         "type": "bar",
         "uid": "e226118c-cc48-11e8-8976-a81e84e6c740",
         "x": [
          "10-2"
         ],
         "y": [
          4.285714285714286
         ]
        },
        {
         "name": "总工时(占伟)",
         "type": "bar",
         "uid": "e2261402-cc48-11e8-8976-a81e84e6c740",
         "x": [
          "10-2"
         ],
         "y": [
          4.222222222222222
         ]
        },
        {
         "name": "总工时(马潇)",
         "type": "bar",
         "uid": "e226161e-cc48-11e8-8976-a81e84e6c740",
         "x": [
          "10-2"
         ],
         "y": [
          4.888888888888889
         ]
        },
        {
         "name": "总工时(任雪)",
         "type": "bar",
         "uid": "e2261826-cc48-11e8-8976-a81e84e6c740",
         "x": [
          "10-2"
         ],
         "y": [
          6.571428571428571
         ]
        },
        {
         "name": "总工时(刘江)",
         "type": "bar",
         "uid": "e2261a24-cc48-11e8-8976-a81e84e6c740",
         "x": [
          "10-2"
         ],
         "y": [
          4.714285714285714
         ]
        },
        {
         "name": "总工时(刘三阳)",
         "type": "bar",
         "uid": "e2261c22-cc48-11e8-8976-a81e84e6c740",
         "x": [
          "10-2"
         ],
         "y": [
          8
         ]
        }
       ],
       "layout": {
        "title": "总工时周趋势图",
        "xaxis": {
         "mirror": "all",
         "nticks": 20,
         "showgrid": true,
         "showline": true,
         "title": "周",
         "zeroline": true
        },
        "yaxis": {
         "mirror": "all",
         "nticks": 20,
         "showgrid": true,
         "showline": true,
         "title": "总工时",
         "zeroline": true
        }
       }
      },
      "text/html": [
       "<div id=\"cecce454-aa0e-4df1-bede-546f7fa9bbea\" style=\"height: 525px; width: 100%;\" class=\"plotly-graph-div\"></div><script type=\"text/javascript\">require([\"plotly\"], function(Plotly) { window.PLOTLYENV=window.PLOTLYENV || {};window.PLOTLYENV.BASE_URL=\"https://plot.ly\";Plotly.newPlot(\"cecce454-aa0e-4df1-bede-546f7fa9bbea\", [{\"name\": \"\\u603b\\u5de5\\u65f6(\\u6768\\u4f1f\\u98de)\", \"x\": [\"10-2\"], \"y\": [9.25], \"type\": \"bar\", \"uid\": \"e2260da4-cc48-11e8-8976-a81e84e6c740\"}, {\"name\": \"\\u603b\\u5de5\\u65f6(\\u4e8e\\u52c7\\u4e00)\", \"x\": [\"10-2\"], \"y\": [4.285714285714286], \"type\": \"bar\", \"uid\": \"e226118c-cc48-11e8-8976-a81e84e6c740\"}, {\"name\": \"\\u603b\\u5de5\\u65f6(\\u5360\\u4f1f)\", \"x\": [\"10-2\"], \"y\": [4.222222222222222], \"type\": \"bar\", \"uid\": \"e2261402-cc48-11e8-8976-a81e84e6c740\"}, {\"name\": \"\\u603b\\u5de5\\u65f6(\\u9a6c\\u6f47)\", \"x\": [\"10-2\"], \"y\": [4.888888888888889], \"type\": \"bar\", \"uid\": \"e226161e-cc48-11e8-8976-a81e84e6c740\"}, {\"name\": \"\\u603b\\u5de5\\u65f6(\\u4efb\\u96ea)\", \"x\": [\"10-2\"], \"y\": [6.571428571428571], \"type\": \"bar\", \"uid\": \"e2261826-cc48-11e8-8976-a81e84e6c740\"}, {\"name\": \"\\u603b\\u5de5\\u65f6(\\u5218\\u6c5f)\", \"x\": [\"10-2\"], \"y\": [4.714285714285714], \"type\": \"bar\", \"uid\": \"e2261a24-cc48-11e8-8976-a81e84e6c740\"}, {\"name\": \"\\u603b\\u5de5\\u65f6(\\u5218\\u4e09\\u9633)\", \"x\": [\"10-2\"], \"y\": [8.0], \"type\": \"bar\", \"uid\": \"e2261c22-cc48-11e8-8976-a81e84e6c740\"}], {\"title\": \"\\u603b\\u5de5\\u65f6\\u5468\\u8d8b\\u52bf\\u56fe\", \"xaxis\": {\"mirror\": \"all\", \"nticks\": 20, \"showgrid\": true, \"showline\": true, \"title\": \"\\u5468\", \"zeroline\": true}, \"yaxis\": {\"mirror\": \"all\", \"nticks\": 20, \"showgrid\": true, \"showline\": true, \"title\": \"\\u603b\\u5de5\\u65f6\", \"zeroline\": true}}, {\"showLink\": true, \"linkText\": \"Export to plot.ly\"})});</script>"
      ],
      "text/vnd.plotly.v1+html": [
       "<div id=\"cecce454-aa0e-4df1-bede-546f7fa9bbea\" style=\"height: 525px; width: 100%;\" class=\"plotly-graph-div\"></div><script type=\"text/javascript\">require([\"plotly\"], function(Plotly) { window.PLOTLYENV=window.PLOTLYENV || {};window.PLOTLYENV.BASE_URL=\"https://plot.ly\";Plotly.newPlot(\"cecce454-aa0e-4df1-bede-546f7fa9bbea\", [{\"name\": \"\\u603b\\u5de5\\u65f6(\\u6768\\u4f1f\\u98de)\", \"x\": [\"10-2\"], \"y\": [9.25], \"type\": \"bar\", \"uid\": \"e2260da4-cc48-11e8-8976-a81e84e6c740\"}, {\"name\": \"\\u603b\\u5de5\\u65f6(\\u4e8e\\u52c7\\u4e00)\", \"x\": [\"10-2\"], \"y\": [4.285714285714286], \"type\": \"bar\", \"uid\": \"e226118c-cc48-11e8-8976-a81e84e6c740\"}, {\"name\": \"\\u603b\\u5de5\\u65f6(\\u5360\\u4f1f)\", \"x\": [\"10-2\"], \"y\": [4.222222222222222], \"type\": \"bar\", \"uid\": \"e2261402-cc48-11e8-8976-a81e84e6c740\"}, {\"name\": \"\\u603b\\u5de5\\u65f6(\\u9a6c\\u6f47)\", \"x\": [\"10-2\"], \"y\": [4.888888888888889], \"type\": \"bar\", \"uid\": \"e226161e-cc48-11e8-8976-a81e84e6c740\"}, {\"name\": \"\\u603b\\u5de5\\u65f6(\\u4efb\\u96ea)\", \"x\": [\"10-2\"], \"y\": [6.571428571428571], \"type\": \"bar\", \"uid\": \"e2261826-cc48-11e8-8976-a81e84e6c740\"}, {\"name\": \"\\u603b\\u5de5\\u65f6(\\u5218\\u6c5f)\", \"x\": [\"10-2\"], \"y\": [4.714285714285714], \"type\": \"bar\", \"uid\": \"e2261a24-cc48-11e8-8976-a81e84e6c740\"}, {\"name\": \"\\u603b\\u5de5\\u65f6(\\u5218\\u4e09\\u9633)\", \"x\": [\"10-2\"], \"y\": [8.0], \"type\": \"bar\", \"uid\": \"e2261c22-cc48-11e8-8976-a81e84e6c740\"}], {\"title\": \"\\u603b\\u5de5\\u65f6\\u5468\\u8d8b\\u52bf\\u56fe\", \"xaxis\": {\"mirror\": \"all\", \"nticks\": 20, \"showgrid\": true, \"showline\": true, \"title\": \"\\u5468\", \"zeroline\": true}, \"yaxis\": {\"mirror\": \"all\", \"nticks\": 20, \"showgrid\": true, \"showline\": true, \"title\": \"\\u603b\\u5de5\\u65f6\", \"zeroline\": true}}, {\"showLink\": true, \"linkText\": \"Export to plot.ly\"})});</script>"
      ]
     },
     "metadata": {},
     "output_type": "display_data"
    }
   ],
   "source": [
    "ss = myModule.format(df2 ,df2.columns[1] ,['总工时'])\n",
    "ss.add_group('信息负责人')\n",
    "ss.get_average_by('子项目号')\n",
    "#ss.df.groupby([ss.x , ss.group_col]).sum().groupby([ss.x , ss.group_col]).mean()\n",
    "tt = myModule.myPlot(ss.groupby('sum'))\n",
    "tt.plot('bar')"
   ]
  },
  {
   "cell_type": "markdown",
   "metadata": {},
   "source": [
    "## 产品研发来源趋势图"
   ]
  },
  {
   "cell_type": "markdown",
   "metadata": {},
   "source": [
    "### 个数"
   ]
  },
  {
   "cell_type": "code",
   "execution_count": 16,
   "metadata": {},
   "outputs": [
    {
     "data": {
      "application/vnd.plotly.v1+json": {
       "data": [
        {
         "name": "子项目号(研发项目)",
         "type": "bar",
         "uid": "e23c5924-cc48-11e8-8976-a81e84e6c740",
         "x": [
          "10-2"
         ],
         "y": [
          23
         ]
        },
        {
         "name": "子项目号(商业项目)",
         "type": "bar",
         "uid": "e23c5d34-cc48-11e8-8976-a81e84e6c740",
         "x": [
          "10-2"
         ],
         "y": [
          21
         ]
        }
       ],
       "layout": {
        "title": "子项目号周趋势图",
        "xaxis": {
         "mirror": "all",
         "nticks": 20,
         "showgrid": true,
         "showline": true,
         "title": "周",
         "zeroline": true
        },
        "yaxis": {
         "mirror": "all",
         "nticks": 20,
         "showgrid": true,
         "showline": true,
         "title": "子项目号",
         "zeroline": true
        }
       }
      },
      "text/html": [
       "<div id=\"48cdfea8-e3b8-4498-9cb2-0d7c6419e84a\" style=\"height: 525px; width: 100%;\" class=\"plotly-graph-div\"></div><script type=\"text/javascript\">require([\"plotly\"], function(Plotly) { window.PLOTLYENV=window.PLOTLYENV || {};window.PLOTLYENV.BASE_URL=\"https://plot.ly\";Plotly.newPlot(\"48cdfea8-e3b8-4498-9cb2-0d7c6419e84a\", [{\"name\": \"\\u5b50\\u9879\\u76ee\\u53f7(\\u7814\\u53d1\\u9879\\u76ee)\", \"x\": [\"10-2\"], \"y\": [23], \"type\": \"bar\", \"uid\": \"e23c5924-cc48-11e8-8976-a81e84e6c740\"}, {\"name\": \"\\u5b50\\u9879\\u76ee\\u53f7(\\u5546\\u4e1a\\u9879\\u76ee)\", \"x\": [\"10-2\"], \"y\": [21], \"type\": \"bar\", \"uid\": \"e23c5d34-cc48-11e8-8976-a81e84e6c740\"}], {\"title\": \"\\u5b50\\u9879\\u76ee\\u53f7\\u5468\\u8d8b\\u52bf\\u56fe\", \"xaxis\": {\"mirror\": \"all\", \"nticks\": 20, \"showgrid\": true, \"showline\": true, \"title\": \"\\u5468\", \"zeroline\": true}, \"yaxis\": {\"mirror\": \"all\", \"nticks\": 20, \"showgrid\": true, \"showline\": true, \"title\": \"\\u5b50\\u9879\\u76ee\\u53f7\", \"zeroline\": true}}, {\"showLink\": true, \"linkText\": \"Export to plot.ly\"})});</script>"
      ],
      "text/vnd.plotly.v1+html": [
       "<div id=\"48cdfea8-e3b8-4498-9cb2-0d7c6419e84a\" style=\"height: 525px; width: 100%;\" class=\"plotly-graph-div\"></div><script type=\"text/javascript\">require([\"plotly\"], function(Plotly) { window.PLOTLYENV=window.PLOTLYENV || {};window.PLOTLYENV.BASE_URL=\"https://plot.ly\";Plotly.newPlot(\"48cdfea8-e3b8-4498-9cb2-0d7c6419e84a\", [{\"name\": \"\\u5b50\\u9879\\u76ee\\u53f7(\\u7814\\u53d1\\u9879\\u76ee)\", \"x\": [\"10-2\"], \"y\": [23], \"type\": \"bar\", \"uid\": \"e23c5924-cc48-11e8-8976-a81e84e6c740\"}, {\"name\": \"\\u5b50\\u9879\\u76ee\\u53f7(\\u5546\\u4e1a\\u9879\\u76ee)\", \"x\": [\"10-2\"], \"y\": [21], \"type\": \"bar\", \"uid\": \"e23c5d34-cc48-11e8-8976-a81e84e6c740\"}], {\"title\": \"\\u5b50\\u9879\\u76ee\\u53f7\\u5468\\u8d8b\\u52bf\\u56fe\", \"xaxis\": {\"mirror\": \"all\", \"nticks\": 20, \"showgrid\": true, \"showline\": true, \"title\": \"\\u5468\", \"zeroline\": true}, \"yaxis\": {\"mirror\": \"all\", \"nticks\": 20, \"showgrid\": true, \"showline\": true, \"title\": \"\\u5b50\\u9879\\u76ee\\u53f7\", \"zeroline\": true}}, {\"showLink\": true, \"linkText\": \"Export to plot.ly\"})});</script>"
      ]
     },
     "metadata": {},
     "output_type": "display_data"
    }
   ],
   "source": [
    "ss = myModule.format(df2 ,df2.columns[1] ,['子项目号'])\n",
    "ss.add_group('产品大类（研发项目/商业项目）')\n",
    "#ss.get_average_by('子项目号')\n",
    "#ss.df.groupby([ss.x , ss.group_col]).sum().groupby([ss.x , ss.group_col]).mean()\n",
    "tt = myModule.myPlot(ss.groupby('count'))\n",
    "tt.plot('bar')"
   ]
  },
  {
   "cell_type": "markdown",
   "metadata": {},
   "source": [
    "### 工时"
   ]
  },
  {
   "cell_type": "code",
   "execution_count": 17,
   "metadata": {},
   "outputs": [
    {
     "data": {
      "application/vnd.plotly.v1+json": {
       "data": [
        {
         "name": "总工时(研发项目)",
         "type": "bar",
         "uid": "e24e9206-cc48-11e8-8976-a81e84e6c740",
         "x": [
          "10-2"
         ],
         "y": [
          137
         ]
        },
        {
         "name": "总工时(商业项目)",
         "type": "bar",
         "uid": "e24e9580-cc48-11e8-8976-a81e84e6c740",
         "x": [
          "10-2"
         ],
         "y": [
          99
         ]
        }
       ],
       "layout": {
        "title": "总工时周趋势图",
        "xaxis": {
         "mirror": "all",
         "nticks": 20,
         "showgrid": true,
         "showline": true,
         "title": "周",
         "zeroline": true
        },
        "yaxis": {
         "mirror": "all",
         "nticks": 20,
         "showgrid": true,
         "showline": true,
         "title": "总工时",
         "zeroline": true
        }
       }
      },
      "text/html": [
       "<div id=\"31da5546-e4b1-4ac4-bc08-78d5d33efc26\" style=\"height: 525px; width: 100%;\" class=\"plotly-graph-div\"></div><script type=\"text/javascript\">require([\"plotly\"], function(Plotly) { window.PLOTLYENV=window.PLOTLYENV || {};window.PLOTLYENV.BASE_URL=\"https://plot.ly\";Plotly.newPlot(\"31da5546-e4b1-4ac4-bc08-78d5d33efc26\", [{\"name\": \"\\u603b\\u5de5\\u65f6(\\u7814\\u53d1\\u9879\\u76ee)\", \"x\": [\"10-2\"], \"y\": [137], \"type\": \"bar\", \"uid\": \"e24e9206-cc48-11e8-8976-a81e84e6c740\"}, {\"name\": \"\\u603b\\u5de5\\u65f6(\\u5546\\u4e1a\\u9879\\u76ee)\", \"x\": [\"10-2\"], \"y\": [99], \"type\": \"bar\", \"uid\": \"e24e9580-cc48-11e8-8976-a81e84e6c740\"}], {\"title\": \"\\u603b\\u5de5\\u65f6\\u5468\\u8d8b\\u52bf\\u56fe\", \"xaxis\": {\"mirror\": \"all\", \"nticks\": 20, \"showgrid\": true, \"showline\": true, \"title\": \"\\u5468\", \"zeroline\": true}, \"yaxis\": {\"mirror\": \"all\", \"nticks\": 20, \"showgrid\": true, \"showline\": true, \"title\": \"\\u603b\\u5de5\\u65f6\", \"zeroline\": true}}, {\"showLink\": true, \"linkText\": \"Export to plot.ly\"})});</script>"
      ],
      "text/vnd.plotly.v1+html": [
       "<div id=\"31da5546-e4b1-4ac4-bc08-78d5d33efc26\" style=\"height: 525px; width: 100%;\" class=\"plotly-graph-div\"></div><script type=\"text/javascript\">require([\"plotly\"], function(Plotly) { window.PLOTLYENV=window.PLOTLYENV || {};window.PLOTLYENV.BASE_URL=\"https://plot.ly\";Plotly.newPlot(\"31da5546-e4b1-4ac4-bc08-78d5d33efc26\", [{\"name\": \"\\u603b\\u5de5\\u65f6(\\u7814\\u53d1\\u9879\\u76ee)\", \"x\": [\"10-2\"], \"y\": [137], \"type\": \"bar\", \"uid\": \"e24e9206-cc48-11e8-8976-a81e84e6c740\"}, {\"name\": \"\\u603b\\u5de5\\u65f6(\\u5546\\u4e1a\\u9879\\u76ee)\", \"x\": [\"10-2\"], \"y\": [99], \"type\": \"bar\", \"uid\": \"e24e9580-cc48-11e8-8976-a81e84e6c740\"}], {\"title\": \"\\u603b\\u5de5\\u65f6\\u5468\\u8d8b\\u52bf\\u56fe\", \"xaxis\": {\"mirror\": \"all\", \"nticks\": 20, \"showgrid\": true, \"showline\": true, \"title\": \"\\u5468\", \"zeroline\": true}, \"yaxis\": {\"mirror\": \"all\", \"nticks\": 20, \"showgrid\": true, \"showline\": true, \"title\": \"\\u603b\\u5de5\\u65f6\", \"zeroline\": true}}, {\"showLink\": true, \"linkText\": \"Export to plot.ly\"})});</script>"
      ]
     },
     "metadata": {},
     "output_type": "display_data"
    }
   ],
   "source": [
    "ss = myModule.format(df2 ,df2.columns[1] ,['总工时'])\n",
    "ss.add_group('产品大类（研发项目/商业项目）')\n",
    "#ss.get_average_by('子项目号')\n",
    "#ss.df.groupby([ss.x , ss.group_col]).sum().groupby([ss.x , ss.group_col]).mean()\n",
    "tt = myModule.myPlot(ss.groupby('sum'))\n",
    "tt.plot('bar')"
   ]
  },
  {
   "cell_type": "markdown",
   "metadata": {},
   "source": [
    "## 各产品占比"
   ]
  },
  {
   "cell_type": "markdown",
   "metadata": {},
   "source": [
    "### 个数"
   ]
  },
  {
   "cell_type": "code",
   "execution_count": 18,
   "metadata": {
    "scrolled": false
   },
   "outputs": [
    {
     "data": {
      "application/vnd.plotly.v1+json": {
       "data": [
        {
         "name": "子项目号(Hi-C辅助组装)",
         "type": "bar",
         "uid": "e26864ba-cc48-11e8-8976-a81e84e6c740",
         "x": [
          "10-2"
         ],
         "y": [
          2
         ]
        },
        {
         "name": "子项目号(denovo)",
         "type": "bar",
         "uid": "e268688e-cc48-11e8-8976-a81e84e6c740",
         "x": [
          "10-2"
         ],
         "y": [
          31
         ]
        },
        {
         "name": "子项目号(单细胞重测序)",
         "type": "bar",
         "uid": "e2686b40-cc48-11e8-8976-a81e84e6c740",
         "x": [
          "10-2"
         ],
         "y": [
          1
         ]
        },
        {
         "name": "子项目号(重测序)",
         "type": "bar",
         "uid": "e2686d66-cc48-11e8-8976-a81e84e6c740",
         "x": [
          "10-2"
         ],
         "y": [
          4
         ]
        },
        {
         "name": "子项目号(混池测序)",
         "type": "bar",
         "uid": "e2686f6e-cc48-11e8-8976-a81e84e6c740",
         "x": [
          "10-2"
         ],
         "y": [
          1
         ]
        },
        {
         "name": "子项目号(群体进化)",
         "type": "bar",
         "uid": "e268716c-cc48-11e8-8976-a81e84e6c740",
         "x": [
          "10-2"
         ],
         "y": [
          3
         ]
        },
        {
         "name": "子项目号(GWAS)",
         "type": "bar",
         "uid": "e2687360-cc48-11e8-8976-a81e84e6c740",
         "x": [
          "10-2"
         ],
         "y": [
          2
         ]
        }
       ],
       "layout": {
        "title": "子项目号周趋势图",
        "xaxis": {
         "mirror": "all",
         "nticks": 20,
         "showgrid": true,
         "showline": true,
         "title": "周",
         "zeroline": true
        },
        "yaxis": {
         "mirror": "all",
         "nticks": 20,
         "showgrid": true,
         "showline": true,
         "title": "子项目号",
         "zeroline": true
        }
       }
      },
      "text/html": [
       "<div id=\"6ad1dd14-c584-41c1-be8c-7bfa14483cff\" style=\"height: 525px; width: 100%;\" class=\"plotly-graph-div\"></div><script type=\"text/javascript\">require([\"plotly\"], function(Plotly) { window.PLOTLYENV=window.PLOTLYENV || {};window.PLOTLYENV.BASE_URL=\"https://plot.ly\";Plotly.newPlot(\"6ad1dd14-c584-41c1-be8c-7bfa14483cff\", [{\"name\": \"\\u5b50\\u9879\\u76ee\\u53f7(Hi-C\\u8f85\\u52a9\\u7ec4\\u88c5)\", \"x\": [\"10-2\"], \"y\": [2], \"type\": \"bar\", \"uid\": \"e26864ba-cc48-11e8-8976-a81e84e6c740\"}, {\"name\": \"\\u5b50\\u9879\\u76ee\\u53f7(denovo)\", \"x\": [\"10-2\"], \"y\": [31], \"type\": \"bar\", \"uid\": \"e268688e-cc48-11e8-8976-a81e84e6c740\"}, {\"name\": \"\\u5b50\\u9879\\u76ee\\u53f7(\\u5355\\u7ec6\\u80de\\u91cd\\u6d4b\\u5e8f)\", \"x\": [\"10-2\"], \"y\": [1], \"type\": \"bar\", \"uid\": \"e2686b40-cc48-11e8-8976-a81e84e6c740\"}, {\"name\": \"\\u5b50\\u9879\\u76ee\\u53f7(\\u91cd\\u6d4b\\u5e8f)\", \"x\": [\"10-2\"], \"y\": [4], \"type\": \"bar\", \"uid\": \"e2686d66-cc48-11e8-8976-a81e84e6c740\"}, {\"name\": \"\\u5b50\\u9879\\u76ee\\u53f7(\\u6df7\\u6c60\\u6d4b\\u5e8f)\", \"x\": [\"10-2\"], \"y\": [1], \"type\": \"bar\", \"uid\": \"e2686f6e-cc48-11e8-8976-a81e84e6c740\"}, {\"name\": \"\\u5b50\\u9879\\u76ee\\u53f7(\\u7fa4\\u4f53\\u8fdb\\u5316)\", \"x\": [\"10-2\"], \"y\": [3], \"type\": \"bar\", \"uid\": \"e268716c-cc48-11e8-8976-a81e84e6c740\"}, {\"name\": \"\\u5b50\\u9879\\u76ee\\u53f7(GWAS)\", \"x\": [\"10-2\"], \"y\": [2], \"type\": \"bar\", \"uid\": \"e2687360-cc48-11e8-8976-a81e84e6c740\"}], {\"title\": \"\\u5b50\\u9879\\u76ee\\u53f7\\u5468\\u8d8b\\u52bf\\u56fe\", \"xaxis\": {\"mirror\": \"all\", \"nticks\": 20, \"showgrid\": true, \"showline\": true, \"title\": \"\\u5468\", \"zeroline\": true}, \"yaxis\": {\"mirror\": \"all\", \"nticks\": 20, \"showgrid\": true, \"showline\": true, \"title\": \"\\u5b50\\u9879\\u76ee\\u53f7\", \"zeroline\": true}}, {\"showLink\": true, \"linkText\": \"Export to plot.ly\"})});</script>"
      ],
      "text/vnd.plotly.v1+html": [
       "<div id=\"6ad1dd14-c584-41c1-be8c-7bfa14483cff\" style=\"height: 525px; width: 100%;\" class=\"plotly-graph-div\"></div><script type=\"text/javascript\">require([\"plotly\"], function(Plotly) { window.PLOTLYENV=window.PLOTLYENV || {};window.PLOTLYENV.BASE_URL=\"https://plot.ly\";Plotly.newPlot(\"6ad1dd14-c584-41c1-be8c-7bfa14483cff\", [{\"name\": \"\\u5b50\\u9879\\u76ee\\u53f7(Hi-C\\u8f85\\u52a9\\u7ec4\\u88c5)\", \"x\": [\"10-2\"], \"y\": [2], \"type\": \"bar\", \"uid\": \"e26864ba-cc48-11e8-8976-a81e84e6c740\"}, {\"name\": \"\\u5b50\\u9879\\u76ee\\u53f7(denovo)\", \"x\": [\"10-2\"], \"y\": [31], \"type\": \"bar\", \"uid\": \"e268688e-cc48-11e8-8976-a81e84e6c740\"}, {\"name\": \"\\u5b50\\u9879\\u76ee\\u53f7(\\u5355\\u7ec6\\u80de\\u91cd\\u6d4b\\u5e8f)\", \"x\": [\"10-2\"], \"y\": [1], \"type\": \"bar\", \"uid\": \"e2686b40-cc48-11e8-8976-a81e84e6c740\"}, {\"name\": \"\\u5b50\\u9879\\u76ee\\u53f7(\\u91cd\\u6d4b\\u5e8f)\", \"x\": [\"10-2\"], \"y\": [4], \"type\": \"bar\", \"uid\": \"e2686d66-cc48-11e8-8976-a81e84e6c740\"}, {\"name\": \"\\u5b50\\u9879\\u76ee\\u53f7(\\u6df7\\u6c60\\u6d4b\\u5e8f)\", \"x\": [\"10-2\"], \"y\": [1], \"type\": \"bar\", \"uid\": \"e2686f6e-cc48-11e8-8976-a81e84e6c740\"}, {\"name\": \"\\u5b50\\u9879\\u76ee\\u53f7(\\u7fa4\\u4f53\\u8fdb\\u5316)\", \"x\": [\"10-2\"], \"y\": [3], \"type\": \"bar\", \"uid\": \"e268716c-cc48-11e8-8976-a81e84e6c740\"}, {\"name\": \"\\u5b50\\u9879\\u76ee\\u53f7(GWAS)\", \"x\": [\"10-2\"], \"y\": [2], \"type\": \"bar\", \"uid\": \"e2687360-cc48-11e8-8976-a81e84e6c740\"}], {\"title\": \"\\u5b50\\u9879\\u76ee\\u53f7\\u5468\\u8d8b\\u52bf\\u56fe\", \"xaxis\": {\"mirror\": \"all\", \"nticks\": 20, \"showgrid\": true, \"showline\": true, \"title\": \"\\u5468\", \"zeroline\": true}, \"yaxis\": {\"mirror\": \"all\", \"nticks\": 20, \"showgrid\": true, \"showline\": true, \"title\": \"\\u5b50\\u9879\\u76ee\\u53f7\", \"zeroline\": true}}, {\"showLink\": true, \"linkText\": \"Export to plot.ly\"})});</script>"
      ]
     },
     "metadata": {},
     "output_type": "display_data"
    }
   ],
   "source": [
    "ss = myModule.format(df2 ,df2.columns[1] ,['子项目号'])\n",
    "ss.add_group('产品子类')\n",
    "#ss.get_average_by('子项目号')\n",
    "#ss.df.groupby([ss.x , ss.group_col]).sum().groupby([ss.x , ss.group_col]).mean()\n",
    "tt = myModule.myPlot(ss.groupby('count'))\n",
    "tt.plot('bar')"
   ]
  },
  {
   "cell_type": "markdown",
   "metadata": {},
   "source": [
    "### 工时"
   ]
  },
  {
   "cell_type": "code",
   "execution_count": 19,
   "metadata": {
    "scrolled": false
   },
   "outputs": [
    {
     "data": {
      "application/vnd.plotly.v1+json": {
       "data": [
        {
         "name": "总工时(Hi-C辅助组装)",
         "type": "bar",
         "uid": "e28b5c9a-cc48-11e8-8976-a81e84e6c740",
         "x": [
          "10-2"
         ],
         "y": [
          8
         ]
        },
        {
         "name": "总工时(denovo)",
         "type": "bar",
         "uid": "e28b62d0-cc48-11e8-8976-a81e84e6c740",
         "x": [
          "10-2"
         ],
         "y": [
          160
         ]
        },
        {
         "name": "总工时(单细胞重测序)",
         "type": "bar",
         "uid": "e28b67d0-cc48-11e8-8976-a81e84e6c740",
         "x": [
          "10-2"
         ],
         "y": [
          6
         ]
        },
        {
         "name": "总工时(重测序)",
         "type": "bar",
         "uid": "e28b6ae6-cc48-11e8-8976-a81e84e6c740",
         "x": [
          "10-2"
         ],
         "y": [
          20
         ]
        },
        {
         "name": "总工时(混池测序)",
         "type": "bar",
         "uid": "e28b6dca-cc48-11e8-8976-a81e84e6c740",
         "x": [
          "10-2"
         ],
         "y": [
          4
         ]
        },
        {
         "name": "总工时(群体进化)",
         "type": "bar",
         "uid": "e28b7090-cc48-11e8-8976-a81e84e6c740",
         "x": [
          "10-2"
         ],
         "y": [
          20
         ]
        },
        {
         "name": "总工时(GWAS)",
         "type": "bar",
         "uid": "e28b734c-cc48-11e8-8976-a81e84e6c740",
         "x": [
          "10-2"
         ],
         "y": [
          18
         ]
        }
       ],
       "layout": {
        "title": "总工时周趋势图",
        "xaxis": {
         "mirror": "all",
         "nticks": 20,
         "showgrid": true,
         "showline": true,
         "title": "周",
         "zeroline": true
        },
        "yaxis": {
         "mirror": "all",
         "nticks": 20,
         "showgrid": true,
         "showline": true,
         "title": "总工时",
         "zeroline": true
        }
       }
      },
      "text/html": [
       "<div id=\"9f620e03-ca8b-4f2a-863c-45f7e93481cd\" style=\"height: 525px; width: 100%;\" class=\"plotly-graph-div\"></div><script type=\"text/javascript\">require([\"plotly\"], function(Plotly) { window.PLOTLYENV=window.PLOTLYENV || {};window.PLOTLYENV.BASE_URL=\"https://plot.ly\";Plotly.newPlot(\"9f620e03-ca8b-4f2a-863c-45f7e93481cd\", [{\"name\": \"\\u603b\\u5de5\\u65f6(Hi-C\\u8f85\\u52a9\\u7ec4\\u88c5)\", \"x\": [\"10-2\"], \"y\": [8], \"type\": \"bar\", \"uid\": \"e28b5c9a-cc48-11e8-8976-a81e84e6c740\"}, {\"name\": \"\\u603b\\u5de5\\u65f6(denovo)\", \"x\": [\"10-2\"], \"y\": [160], \"type\": \"bar\", \"uid\": \"e28b62d0-cc48-11e8-8976-a81e84e6c740\"}, {\"name\": \"\\u603b\\u5de5\\u65f6(\\u5355\\u7ec6\\u80de\\u91cd\\u6d4b\\u5e8f)\", \"x\": [\"10-2\"], \"y\": [6], \"type\": \"bar\", \"uid\": \"e28b67d0-cc48-11e8-8976-a81e84e6c740\"}, {\"name\": \"\\u603b\\u5de5\\u65f6(\\u91cd\\u6d4b\\u5e8f)\", \"x\": [\"10-2\"], \"y\": [20], \"type\": \"bar\", \"uid\": \"e28b6ae6-cc48-11e8-8976-a81e84e6c740\"}, {\"name\": \"\\u603b\\u5de5\\u65f6(\\u6df7\\u6c60\\u6d4b\\u5e8f)\", \"x\": [\"10-2\"], \"y\": [4], \"type\": \"bar\", \"uid\": \"e28b6dca-cc48-11e8-8976-a81e84e6c740\"}, {\"name\": \"\\u603b\\u5de5\\u65f6(\\u7fa4\\u4f53\\u8fdb\\u5316)\", \"x\": [\"10-2\"], \"y\": [20], \"type\": \"bar\", \"uid\": \"e28b7090-cc48-11e8-8976-a81e84e6c740\"}, {\"name\": \"\\u603b\\u5de5\\u65f6(GWAS)\", \"x\": [\"10-2\"], \"y\": [18], \"type\": \"bar\", \"uid\": \"e28b734c-cc48-11e8-8976-a81e84e6c740\"}], {\"title\": \"\\u603b\\u5de5\\u65f6\\u5468\\u8d8b\\u52bf\\u56fe\", \"xaxis\": {\"mirror\": \"all\", \"nticks\": 20, \"showgrid\": true, \"showline\": true, \"title\": \"\\u5468\", \"zeroline\": true}, \"yaxis\": {\"mirror\": \"all\", \"nticks\": 20, \"showgrid\": true, \"showline\": true, \"title\": \"\\u603b\\u5de5\\u65f6\", \"zeroline\": true}}, {\"showLink\": true, \"linkText\": \"Export to plot.ly\"})});</script>"
      ],
      "text/vnd.plotly.v1+html": [
       "<div id=\"9f620e03-ca8b-4f2a-863c-45f7e93481cd\" style=\"height: 525px; width: 100%;\" class=\"plotly-graph-div\"></div><script type=\"text/javascript\">require([\"plotly\"], function(Plotly) { window.PLOTLYENV=window.PLOTLYENV || {};window.PLOTLYENV.BASE_URL=\"https://plot.ly\";Plotly.newPlot(\"9f620e03-ca8b-4f2a-863c-45f7e93481cd\", [{\"name\": \"\\u603b\\u5de5\\u65f6(Hi-C\\u8f85\\u52a9\\u7ec4\\u88c5)\", \"x\": [\"10-2\"], \"y\": [8], \"type\": \"bar\", \"uid\": \"e28b5c9a-cc48-11e8-8976-a81e84e6c740\"}, {\"name\": \"\\u603b\\u5de5\\u65f6(denovo)\", \"x\": [\"10-2\"], \"y\": [160], \"type\": \"bar\", \"uid\": \"e28b62d0-cc48-11e8-8976-a81e84e6c740\"}, {\"name\": \"\\u603b\\u5de5\\u65f6(\\u5355\\u7ec6\\u80de\\u91cd\\u6d4b\\u5e8f)\", \"x\": [\"10-2\"], \"y\": [6], \"type\": \"bar\", \"uid\": \"e28b67d0-cc48-11e8-8976-a81e84e6c740\"}, {\"name\": \"\\u603b\\u5de5\\u65f6(\\u91cd\\u6d4b\\u5e8f)\", \"x\": [\"10-2\"], \"y\": [20], \"type\": \"bar\", \"uid\": \"e28b6ae6-cc48-11e8-8976-a81e84e6c740\"}, {\"name\": \"\\u603b\\u5de5\\u65f6(\\u6df7\\u6c60\\u6d4b\\u5e8f)\", \"x\": [\"10-2\"], \"y\": [4], \"type\": \"bar\", \"uid\": \"e28b6dca-cc48-11e8-8976-a81e84e6c740\"}, {\"name\": \"\\u603b\\u5de5\\u65f6(\\u7fa4\\u4f53\\u8fdb\\u5316)\", \"x\": [\"10-2\"], \"y\": [20], \"type\": \"bar\", \"uid\": \"e28b7090-cc48-11e8-8976-a81e84e6c740\"}, {\"name\": \"\\u603b\\u5de5\\u65f6(GWAS)\", \"x\": [\"10-2\"], \"y\": [18], \"type\": \"bar\", \"uid\": \"e28b734c-cc48-11e8-8976-a81e84e6c740\"}], {\"title\": \"\\u603b\\u5de5\\u65f6\\u5468\\u8d8b\\u52bf\\u56fe\", \"xaxis\": {\"mirror\": \"all\", \"nticks\": 20, \"showgrid\": true, \"showline\": true, \"title\": \"\\u5468\", \"zeroline\": true}, \"yaxis\": {\"mirror\": \"all\", \"nticks\": 20, \"showgrid\": true, \"showline\": true, \"title\": \"\\u603b\\u5de5\\u65f6\", \"zeroline\": true}}, {\"showLink\": true, \"linkText\": \"Export to plot.ly\"})});</script>"
      ]
     },
     "metadata": {},
     "output_type": "display_data"
    }
   ],
   "source": [
    "ss = myModule.format(df2 ,df2.columns[1] ,['总工时'])\n",
    "ss.add_group('产品子类')\n",
    "#ss.get_average_by('子项目号')\n",
    "#ss.df.groupby([ss.x , ss.group_col]).sum().groupby([ss.x , ss.group_col]).mean()\n",
    "tt = myModule.myPlot(ss.groupby('sum'))\n",
    "tt.plot('bar')"
   ]
  },
  {
   "cell_type": "markdown",
   "metadata": {},
   "source": [
    "# 转录调控组下单情况"
   ]
  },
  {
   "cell_type": "code",
   "execution_count": 20,
   "metadata": {},
   "outputs": [],
   "source": [
    "pathway = '/mnt/e/工作/下单申请/2018第四季度/2018-10-08/'\n",
    "all_files  = xiadan_check.get_files(pathway, \"转录\",\"10-2\")   ##给路径\n",
    "df3  = xiadan_check.read_xlsx(all_files ,  0 )## read all files sheet1"
   ]
  },
  {
   "cell_type": "markdown",
   "metadata": {},
   "source": [
    "## 转录调控人员立项总工时情况"
   ]
  },
  {
   "cell_type": "code",
   "execution_count": 21,
   "metadata": {},
   "outputs": [
    {
     "data": {
      "application/vnd.plotly.v1+json": {
       "data": [
        {
         "name": "总工时(谢德健)",
         "type": "bar",
         "uid": "e2c1698e-cc48-11e8-8976-a81e84e6c740",
         "x": [
          "10-2"
         ],
         "y": [
          38
         ]
        },
        {
         "name": "总工时(范旭宁)",
         "type": "bar",
         "uid": "e2c16cf4-cc48-11e8-8976-a81e84e6c740",
         "x": [
          "10-2"
         ],
         "y": [
          36
         ]
        },
        {
         "name": "总工时(韩少怀)",
         "type": "bar",
         "uid": "e2c17096-cc48-11e8-8976-a81e84e6c740",
         "x": [
          "10-2"
         ],
         "y": [
          34
         ]
        },
        {
         "name": "总工时(段利强)",
         "type": "bar",
         "uid": "e2c1732a-cc48-11e8-8976-a81e84e6c740",
         "x": [
          "10-2"
         ],
         "y": [
          36
         ]
        },
        {
         "name": "总工时(姚盟成)",
         "type": "bar",
         "uid": "e2c17514-cc48-11e8-8976-a81e84e6c740",
         "x": [
          "10-2"
         ],
         "y": [
          36
         ]
        },
        {
         "name": "总工时(赵玥)",
         "type": "bar",
         "uid": "e2c176f4-cc48-11e8-8976-a81e84e6c740",
         "x": [
          "10-2"
         ],
         "y": [
          38
         ]
        },
        {
         "name": "总工时(张守伟)",
         "type": "bar",
         "uid": "e2c178f2-cc48-11e8-8976-a81e84e6c740",
         "x": [
          "10-2"
         ],
         "y": [
          36
         ]
        }
       ],
       "layout": {
        "title": "总工时周趋势图",
        "xaxis": {
         "mirror": "all",
         "nticks": 20,
         "showgrid": true,
         "showline": true,
         "title": "周",
         "zeroline": true
        },
        "yaxis": {
         "mirror": "all",
         "nticks": 20,
         "showgrid": true,
         "showline": true,
         "title": "总工时",
         "zeroline": true
        }
       }
      },
      "text/html": [
       "<div id=\"c009164c-92a0-4788-bf42-b5794d24f40c\" style=\"height: 525px; width: 100%;\" class=\"plotly-graph-div\"></div><script type=\"text/javascript\">require([\"plotly\"], function(Plotly) { window.PLOTLYENV=window.PLOTLYENV || {};window.PLOTLYENV.BASE_URL=\"https://plot.ly\";Plotly.newPlot(\"c009164c-92a0-4788-bf42-b5794d24f40c\", [{\"name\": \"\\u603b\\u5de5\\u65f6(\\u8c22\\u5fb7\\u5065)\", \"x\": [\"10-2\"], \"y\": [38], \"type\": \"bar\", \"uid\": \"e2c1698e-cc48-11e8-8976-a81e84e6c740\"}, {\"name\": \"\\u603b\\u5de5\\u65f6(\\u8303\\u65ed\\u5b81)\", \"x\": [\"10-2\"], \"y\": [36], \"type\": \"bar\", \"uid\": \"e2c16cf4-cc48-11e8-8976-a81e84e6c740\"}, {\"name\": \"\\u603b\\u5de5\\u65f6(\\u97e9\\u5c11\\u6000)\", \"x\": [\"10-2\"], \"y\": [34], \"type\": \"bar\", \"uid\": \"e2c17096-cc48-11e8-8976-a81e84e6c740\"}, {\"name\": \"\\u603b\\u5de5\\u65f6(\\u6bb5\\u5229\\u5f3a)\", \"x\": [\"10-2\"], \"y\": [36], \"type\": \"bar\", \"uid\": \"e2c1732a-cc48-11e8-8976-a81e84e6c740\"}, {\"name\": \"\\u603b\\u5de5\\u65f6(\\u59da\\u76df\\u6210)\", \"x\": [\"10-2\"], \"y\": [36], \"type\": \"bar\", \"uid\": \"e2c17514-cc48-11e8-8976-a81e84e6c740\"}, {\"name\": \"\\u603b\\u5de5\\u65f6(\\u8d75\\u73a5)\", \"x\": [\"10-2\"], \"y\": [38], \"type\": \"bar\", \"uid\": \"e2c176f4-cc48-11e8-8976-a81e84e6c740\"}, {\"name\": \"\\u603b\\u5de5\\u65f6(\\u5f20\\u5b88\\u4f1f)\", \"x\": [\"10-2\"], \"y\": [36], \"type\": \"bar\", \"uid\": \"e2c178f2-cc48-11e8-8976-a81e84e6c740\"}], {\"title\": \"\\u603b\\u5de5\\u65f6\\u5468\\u8d8b\\u52bf\\u56fe\", \"xaxis\": {\"mirror\": \"all\", \"nticks\": 20, \"showgrid\": true, \"showline\": true, \"title\": \"\\u5468\", \"zeroline\": true}, \"yaxis\": {\"mirror\": \"all\", \"nticks\": 20, \"showgrid\": true, \"showline\": true, \"title\": \"\\u603b\\u5de5\\u65f6\", \"zeroline\": true}}, {\"showLink\": true, \"linkText\": \"Export to plot.ly\"})});</script>"
      ],
      "text/vnd.plotly.v1+html": [
       "<div id=\"c009164c-92a0-4788-bf42-b5794d24f40c\" style=\"height: 525px; width: 100%;\" class=\"plotly-graph-div\"></div><script type=\"text/javascript\">require([\"plotly\"], function(Plotly) { window.PLOTLYENV=window.PLOTLYENV || {};window.PLOTLYENV.BASE_URL=\"https://plot.ly\";Plotly.newPlot(\"c009164c-92a0-4788-bf42-b5794d24f40c\", [{\"name\": \"\\u603b\\u5de5\\u65f6(\\u8c22\\u5fb7\\u5065)\", \"x\": [\"10-2\"], \"y\": [38], \"type\": \"bar\", \"uid\": \"e2c1698e-cc48-11e8-8976-a81e84e6c740\"}, {\"name\": \"\\u603b\\u5de5\\u65f6(\\u8303\\u65ed\\u5b81)\", \"x\": [\"10-2\"], \"y\": [36], \"type\": \"bar\", \"uid\": \"e2c16cf4-cc48-11e8-8976-a81e84e6c740\"}, {\"name\": \"\\u603b\\u5de5\\u65f6(\\u97e9\\u5c11\\u6000)\", \"x\": [\"10-2\"], \"y\": [34], \"type\": \"bar\", \"uid\": \"e2c17096-cc48-11e8-8976-a81e84e6c740\"}, {\"name\": \"\\u603b\\u5de5\\u65f6(\\u6bb5\\u5229\\u5f3a)\", \"x\": [\"10-2\"], \"y\": [36], \"type\": \"bar\", \"uid\": \"e2c1732a-cc48-11e8-8976-a81e84e6c740\"}, {\"name\": \"\\u603b\\u5de5\\u65f6(\\u59da\\u76df\\u6210)\", \"x\": [\"10-2\"], \"y\": [36], \"type\": \"bar\", \"uid\": \"e2c17514-cc48-11e8-8976-a81e84e6c740\"}, {\"name\": \"\\u603b\\u5de5\\u65f6(\\u8d75\\u73a5)\", \"x\": [\"10-2\"], \"y\": [38], \"type\": \"bar\", \"uid\": \"e2c176f4-cc48-11e8-8976-a81e84e6c740\"}, {\"name\": \"\\u603b\\u5de5\\u65f6(\\u5f20\\u5b88\\u4f1f)\", \"x\": [\"10-2\"], \"y\": [36], \"type\": \"bar\", \"uid\": \"e2c178f2-cc48-11e8-8976-a81e84e6c740\"}], {\"title\": \"\\u603b\\u5de5\\u65f6\\u5468\\u8d8b\\u52bf\\u56fe\", \"xaxis\": {\"mirror\": \"all\", \"nticks\": 20, \"showgrid\": true, \"showline\": true, \"title\": \"\\u5468\", \"zeroline\": true}, \"yaxis\": {\"mirror\": \"all\", \"nticks\": 20, \"showgrid\": true, \"showline\": true, \"title\": \"\\u603b\\u5de5\\u65f6\", \"zeroline\": true}}, {\"showLink\": true, \"linkText\": \"Export to plot.ly\"})});</script>"
      ]
     },
     "metadata": {},
     "output_type": "display_data"
    }
   ],
   "source": [
    "ss = myModule.format(df3 ,df3.columns[1] ,['总工时'])\n",
    "ss.add_group('信息负责人')\n",
    "#ss.get_average_by('子项目号')\n",
    "#ss.df.groupby([ss.x , ss.group_col]).sum().groupby([ss.x , ss.group_col]).mean()\n",
    "tt = myModule.myPlot(ss.groupby('sum'))\n",
    "tt.plot('bar')"
   ]
  },
  {
   "cell_type": "markdown",
   "metadata": {},
   "source": [
    "## 转录调控人员立项下单个数情况"
   ]
  },
  {
   "cell_type": "code",
   "execution_count": 22,
   "metadata": {},
   "outputs": [
    {
     "data": {
      "application/vnd.plotly.v1+json": {
       "data": [
        {
         "name": "子项目号(谢德健)",
         "type": "bar",
         "uid": "e2d8bada-cc48-11e8-8976-a81e84e6c740",
         "x": [
          "10-2"
         ],
         "y": [
          4
         ]
        },
        {
         "name": "子项目号(范旭宁)",
         "type": "bar",
         "uid": "e2d8c00c-cc48-11e8-8976-a81e84e6c740",
         "x": [
          "10-2"
         ],
         "y": [
          5
         ]
        },
        {
         "name": "子项目号(韩少怀)",
         "type": "bar",
         "uid": "e2d8c3e0-cc48-11e8-8976-a81e84e6c740",
         "x": [
          "10-2"
         ],
         "y": [
          4
         ]
        },
        {
         "name": "子项目号(段利强)",
         "type": "bar",
         "uid": "e2d8c71e-cc48-11e8-8976-a81e84e6c740",
         "x": [
          "10-2"
         ],
         "y": [
          3
         ]
        },
        {
         "name": "子项目号(姚盟成)",
         "type": "bar",
         "uid": "e2d8ca0c-cc48-11e8-8976-a81e84e6c740",
         "x": [
          "10-2"
         ],
         "y": [
          4
         ]
        },
        {
         "name": "子项目号(赵玥)",
         "type": "bar",
         "uid": "e2d8ccf0-cc48-11e8-8976-a81e84e6c740",
         "x": [
          "10-2"
         ],
         "y": [
          4
         ]
        },
        {
         "name": "子项目号(张守伟)",
         "type": "bar",
         "uid": "e2d8cfe8-cc48-11e8-8976-a81e84e6c740",
         "x": [
          "10-2"
         ],
         "y": [
          3
         ]
        }
       ],
       "layout": {
        "title": "子项目号周趋势图",
        "xaxis": {
         "mirror": "all",
         "nticks": 20,
         "showgrid": true,
         "showline": true,
         "title": "周",
         "zeroline": true
        },
        "yaxis": {
         "mirror": "all",
         "nticks": 20,
         "showgrid": true,
         "showline": true,
         "title": "子项目号",
         "zeroline": true
        }
       }
      },
      "text/html": [
       "<div id=\"0b439765-c4b8-4b69-aae1-bc2047d2ed39\" style=\"height: 525px; width: 100%;\" class=\"plotly-graph-div\"></div><script type=\"text/javascript\">require([\"plotly\"], function(Plotly) { window.PLOTLYENV=window.PLOTLYENV || {};window.PLOTLYENV.BASE_URL=\"https://plot.ly\";Plotly.newPlot(\"0b439765-c4b8-4b69-aae1-bc2047d2ed39\", [{\"name\": \"\\u5b50\\u9879\\u76ee\\u53f7(\\u8c22\\u5fb7\\u5065)\", \"x\": [\"10-2\"], \"y\": [4], \"type\": \"bar\", \"uid\": \"e2d8bada-cc48-11e8-8976-a81e84e6c740\"}, {\"name\": \"\\u5b50\\u9879\\u76ee\\u53f7(\\u8303\\u65ed\\u5b81)\", \"x\": [\"10-2\"], \"y\": [5], \"type\": \"bar\", \"uid\": \"e2d8c00c-cc48-11e8-8976-a81e84e6c740\"}, {\"name\": \"\\u5b50\\u9879\\u76ee\\u53f7(\\u97e9\\u5c11\\u6000)\", \"x\": [\"10-2\"], \"y\": [4], \"type\": \"bar\", \"uid\": \"e2d8c3e0-cc48-11e8-8976-a81e84e6c740\"}, {\"name\": \"\\u5b50\\u9879\\u76ee\\u53f7(\\u6bb5\\u5229\\u5f3a)\", \"x\": [\"10-2\"], \"y\": [3], \"type\": \"bar\", \"uid\": \"e2d8c71e-cc48-11e8-8976-a81e84e6c740\"}, {\"name\": \"\\u5b50\\u9879\\u76ee\\u53f7(\\u59da\\u76df\\u6210)\", \"x\": [\"10-2\"], \"y\": [4], \"type\": \"bar\", \"uid\": \"e2d8ca0c-cc48-11e8-8976-a81e84e6c740\"}, {\"name\": \"\\u5b50\\u9879\\u76ee\\u53f7(\\u8d75\\u73a5)\", \"x\": [\"10-2\"], \"y\": [4], \"type\": \"bar\", \"uid\": \"e2d8ccf0-cc48-11e8-8976-a81e84e6c740\"}, {\"name\": \"\\u5b50\\u9879\\u76ee\\u53f7(\\u5f20\\u5b88\\u4f1f)\", \"x\": [\"10-2\"], \"y\": [3], \"type\": \"bar\", \"uid\": \"e2d8cfe8-cc48-11e8-8976-a81e84e6c740\"}], {\"title\": \"\\u5b50\\u9879\\u76ee\\u53f7\\u5468\\u8d8b\\u52bf\\u56fe\", \"xaxis\": {\"mirror\": \"all\", \"nticks\": 20, \"showgrid\": true, \"showline\": true, \"title\": \"\\u5468\", \"zeroline\": true}, \"yaxis\": {\"mirror\": \"all\", \"nticks\": 20, \"showgrid\": true, \"showline\": true, \"title\": \"\\u5b50\\u9879\\u76ee\\u53f7\", \"zeroline\": true}}, {\"showLink\": true, \"linkText\": \"Export to plot.ly\"})});</script>"
      ],
      "text/vnd.plotly.v1+html": [
       "<div id=\"0b439765-c4b8-4b69-aae1-bc2047d2ed39\" style=\"height: 525px; width: 100%;\" class=\"plotly-graph-div\"></div><script type=\"text/javascript\">require([\"plotly\"], function(Plotly) { window.PLOTLYENV=window.PLOTLYENV || {};window.PLOTLYENV.BASE_URL=\"https://plot.ly\";Plotly.newPlot(\"0b439765-c4b8-4b69-aae1-bc2047d2ed39\", [{\"name\": \"\\u5b50\\u9879\\u76ee\\u53f7(\\u8c22\\u5fb7\\u5065)\", \"x\": [\"10-2\"], \"y\": [4], \"type\": \"bar\", \"uid\": \"e2d8bada-cc48-11e8-8976-a81e84e6c740\"}, {\"name\": \"\\u5b50\\u9879\\u76ee\\u53f7(\\u8303\\u65ed\\u5b81)\", \"x\": [\"10-2\"], \"y\": [5], \"type\": \"bar\", \"uid\": \"e2d8c00c-cc48-11e8-8976-a81e84e6c740\"}, {\"name\": \"\\u5b50\\u9879\\u76ee\\u53f7(\\u97e9\\u5c11\\u6000)\", \"x\": [\"10-2\"], \"y\": [4], \"type\": \"bar\", \"uid\": \"e2d8c3e0-cc48-11e8-8976-a81e84e6c740\"}, {\"name\": \"\\u5b50\\u9879\\u76ee\\u53f7(\\u6bb5\\u5229\\u5f3a)\", \"x\": [\"10-2\"], \"y\": [3], \"type\": \"bar\", \"uid\": \"e2d8c71e-cc48-11e8-8976-a81e84e6c740\"}, {\"name\": \"\\u5b50\\u9879\\u76ee\\u53f7(\\u59da\\u76df\\u6210)\", \"x\": [\"10-2\"], \"y\": [4], \"type\": \"bar\", \"uid\": \"e2d8ca0c-cc48-11e8-8976-a81e84e6c740\"}, {\"name\": \"\\u5b50\\u9879\\u76ee\\u53f7(\\u8d75\\u73a5)\", \"x\": [\"10-2\"], \"y\": [4], \"type\": \"bar\", \"uid\": \"e2d8ccf0-cc48-11e8-8976-a81e84e6c740\"}, {\"name\": \"\\u5b50\\u9879\\u76ee\\u53f7(\\u5f20\\u5b88\\u4f1f)\", \"x\": [\"10-2\"], \"y\": [3], \"type\": \"bar\", \"uid\": \"e2d8cfe8-cc48-11e8-8976-a81e84e6c740\"}], {\"title\": \"\\u5b50\\u9879\\u76ee\\u53f7\\u5468\\u8d8b\\u52bf\\u56fe\", \"xaxis\": {\"mirror\": \"all\", \"nticks\": 20, \"showgrid\": true, \"showline\": true, \"title\": \"\\u5468\", \"zeroline\": true}, \"yaxis\": {\"mirror\": \"all\", \"nticks\": 20, \"showgrid\": true, \"showline\": true, \"title\": \"\\u5b50\\u9879\\u76ee\\u53f7\", \"zeroline\": true}}, {\"showLink\": true, \"linkText\": \"Export to plot.ly\"})});</script>"
      ]
     },
     "metadata": {},
     "output_type": "display_data"
    }
   ],
   "source": [
    "ss = myModule.format(df3 ,df3.columns[1] ,['子项目号'])\n",
    "ss.add_group('信息负责人')\n",
    "tt = myModule.myPlot(ss.groupby('count'))\n",
    "tt.plot('bar')"
   ]
  },
  {
   "cell_type": "markdown",
   "metadata": {},
   "source": [
    "## 转录调控组人员立项人均工时情况"
   ]
  },
  {
   "cell_type": "code",
   "execution_count": 23,
   "metadata": {},
   "outputs": [
    {
     "data": {
      "application/vnd.plotly.v1+json": {
       "data": [
        {
         "name": "总工时(谢德健)",
         "type": "bar",
         "uid": "e2ffd98a-cc48-11e8-8976-a81e84e6c740",
         "x": [
          "10-2"
         ],
         "y": [
          9.5
         ]
        },
        {
         "name": "总工时(范旭宁)",
         "type": "bar",
         "uid": "e2ffdf48-cc48-11e8-8976-a81e84e6c740",
         "x": [
          "10-2"
         ],
         "y": [
          7.2
         ]
        },
        {
         "name": "总工时(韩少怀)",
         "type": "bar",
         "uid": "e2ffe420-cc48-11e8-8976-a81e84e6c740",
         "x": [
          "10-2"
         ],
         "y": [
          8.5
         ]
        },
        {
         "name": "总工时(段利强)",
         "type": "bar",
         "uid": "e2ffe88a-cc48-11e8-8976-a81e84e6c740",
         "x": [
          "10-2"
         ],
         "y": [
          12
         ]
        },
        {
         "name": "总工时(姚盟成)",
         "type": "bar",
         "uid": "e2ffec40-cc48-11e8-8976-a81e84e6c740",
         "x": [
          "10-2"
         ],
         "y": [
          9
         ]
        },
        {
         "name": "总工时(赵玥)",
         "type": "bar",
         "uid": "e2ffefce-cc48-11e8-8976-a81e84e6c740",
         "x": [
          "10-2"
         ],
         "y": [
          9.5
         ]
        },
        {
         "name": "总工时(张守伟)",
         "type": "bar",
         "uid": "e2fff348-cc48-11e8-8976-a81e84e6c740",
         "x": [
          "10-2"
         ],
         "y": [
          12
         ]
        }
       ],
       "layout": {
        "title": "总工时周趋势图",
        "xaxis": {
         "mirror": "all",
         "nticks": 20,
         "showgrid": true,
         "showline": true,
         "title": "周",
         "zeroline": true
        },
        "yaxis": {
         "mirror": "all",
         "nticks": 20,
         "showgrid": true,
         "showline": true,
         "title": "总工时",
         "zeroline": true
        }
       }
      },
      "text/html": [
       "<div id=\"5045772e-2ba5-4252-af4c-1de35146f228\" style=\"height: 525px; width: 100%;\" class=\"plotly-graph-div\"></div><script type=\"text/javascript\">require([\"plotly\"], function(Plotly) { window.PLOTLYENV=window.PLOTLYENV || {};window.PLOTLYENV.BASE_URL=\"https://plot.ly\";Plotly.newPlot(\"5045772e-2ba5-4252-af4c-1de35146f228\", [{\"name\": \"\\u603b\\u5de5\\u65f6(\\u8c22\\u5fb7\\u5065)\", \"x\": [\"10-2\"], \"y\": [9.5], \"type\": \"bar\", \"uid\": \"e2ffd98a-cc48-11e8-8976-a81e84e6c740\"}, {\"name\": \"\\u603b\\u5de5\\u65f6(\\u8303\\u65ed\\u5b81)\", \"x\": [\"10-2\"], \"y\": [7.2], \"type\": \"bar\", \"uid\": \"e2ffdf48-cc48-11e8-8976-a81e84e6c740\"}, {\"name\": \"\\u603b\\u5de5\\u65f6(\\u97e9\\u5c11\\u6000)\", \"x\": [\"10-2\"], \"y\": [8.5], \"type\": \"bar\", \"uid\": \"e2ffe420-cc48-11e8-8976-a81e84e6c740\"}, {\"name\": \"\\u603b\\u5de5\\u65f6(\\u6bb5\\u5229\\u5f3a)\", \"x\": [\"10-2\"], \"y\": [12.0], \"type\": \"bar\", \"uid\": \"e2ffe88a-cc48-11e8-8976-a81e84e6c740\"}, {\"name\": \"\\u603b\\u5de5\\u65f6(\\u59da\\u76df\\u6210)\", \"x\": [\"10-2\"], \"y\": [9.0], \"type\": \"bar\", \"uid\": \"e2ffec40-cc48-11e8-8976-a81e84e6c740\"}, {\"name\": \"\\u603b\\u5de5\\u65f6(\\u8d75\\u73a5)\", \"x\": [\"10-2\"], \"y\": [9.5], \"type\": \"bar\", \"uid\": \"e2ffefce-cc48-11e8-8976-a81e84e6c740\"}, {\"name\": \"\\u603b\\u5de5\\u65f6(\\u5f20\\u5b88\\u4f1f)\", \"x\": [\"10-2\"], \"y\": [12.0], \"type\": \"bar\", \"uid\": \"e2fff348-cc48-11e8-8976-a81e84e6c740\"}], {\"title\": \"\\u603b\\u5de5\\u65f6\\u5468\\u8d8b\\u52bf\\u56fe\", \"xaxis\": {\"mirror\": \"all\", \"nticks\": 20, \"showgrid\": true, \"showline\": true, \"title\": \"\\u5468\", \"zeroline\": true}, \"yaxis\": {\"mirror\": \"all\", \"nticks\": 20, \"showgrid\": true, \"showline\": true, \"title\": \"\\u603b\\u5de5\\u65f6\", \"zeroline\": true}}, {\"showLink\": true, \"linkText\": \"Export to plot.ly\"})});</script>"
      ],
      "text/vnd.plotly.v1+html": [
       "<div id=\"5045772e-2ba5-4252-af4c-1de35146f228\" style=\"height: 525px; width: 100%;\" class=\"plotly-graph-div\"></div><script type=\"text/javascript\">require([\"plotly\"], function(Plotly) { window.PLOTLYENV=window.PLOTLYENV || {};window.PLOTLYENV.BASE_URL=\"https://plot.ly\";Plotly.newPlot(\"5045772e-2ba5-4252-af4c-1de35146f228\", [{\"name\": \"\\u603b\\u5de5\\u65f6(\\u8c22\\u5fb7\\u5065)\", \"x\": [\"10-2\"], \"y\": [9.5], \"type\": \"bar\", \"uid\": \"e2ffd98a-cc48-11e8-8976-a81e84e6c740\"}, {\"name\": \"\\u603b\\u5de5\\u65f6(\\u8303\\u65ed\\u5b81)\", \"x\": [\"10-2\"], \"y\": [7.2], \"type\": \"bar\", \"uid\": \"e2ffdf48-cc48-11e8-8976-a81e84e6c740\"}, {\"name\": \"\\u603b\\u5de5\\u65f6(\\u97e9\\u5c11\\u6000)\", \"x\": [\"10-2\"], \"y\": [8.5], \"type\": \"bar\", \"uid\": \"e2ffe420-cc48-11e8-8976-a81e84e6c740\"}, {\"name\": \"\\u603b\\u5de5\\u65f6(\\u6bb5\\u5229\\u5f3a)\", \"x\": [\"10-2\"], \"y\": [12.0], \"type\": \"bar\", \"uid\": \"e2ffe88a-cc48-11e8-8976-a81e84e6c740\"}, {\"name\": \"\\u603b\\u5de5\\u65f6(\\u59da\\u76df\\u6210)\", \"x\": [\"10-2\"], \"y\": [9.0], \"type\": \"bar\", \"uid\": \"e2ffec40-cc48-11e8-8976-a81e84e6c740\"}, {\"name\": \"\\u603b\\u5de5\\u65f6(\\u8d75\\u73a5)\", \"x\": [\"10-2\"], \"y\": [9.5], \"type\": \"bar\", \"uid\": \"e2ffefce-cc48-11e8-8976-a81e84e6c740\"}, {\"name\": \"\\u603b\\u5de5\\u65f6(\\u5f20\\u5b88\\u4f1f)\", \"x\": [\"10-2\"], \"y\": [12.0], \"type\": \"bar\", \"uid\": \"e2fff348-cc48-11e8-8976-a81e84e6c740\"}], {\"title\": \"\\u603b\\u5de5\\u65f6\\u5468\\u8d8b\\u52bf\\u56fe\", \"xaxis\": {\"mirror\": \"all\", \"nticks\": 20, \"showgrid\": true, \"showline\": true, \"title\": \"\\u5468\", \"zeroline\": true}, \"yaxis\": {\"mirror\": \"all\", \"nticks\": 20, \"showgrid\": true, \"showline\": true, \"title\": \"\\u603b\\u5de5\\u65f6\", \"zeroline\": true}}, {\"showLink\": true, \"linkText\": \"Export to plot.ly\"})});</script>"
      ]
     },
     "metadata": {},
     "output_type": "display_data"
    }
   ],
   "source": [
    "ss = myModule.format(df3 ,df3.columns[1] ,['总工时'])\n",
    "ss.add_group('信息负责人')\n",
    "ss.get_average_by('子项目号')\n",
    "#ss.df.groupby([ss.x , ss.group_col]).sum().groupby([ss.x , ss.group_col]).mean()\n",
    "tt = myModule.myPlot(ss.groupby('sum'))\n",
    "tt.plot('bar')"
   ]
  },
  {
   "cell_type": "markdown",
   "metadata": {},
   "source": [
    "## 产品研发来源趋势图"
   ]
  },
  {
   "cell_type": "markdown",
   "metadata": {},
   "source": [
    "### 个数"
   ]
  },
  {
   "cell_type": "code",
   "execution_count": 24,
   "metadata": {},
   "outputs": [
    {
     "data": {
      "application/vnd.plotly.v1+json": {
       "data": [
        {
         "name": "子项目号(研发项目)",
         "type": "bar",
         "uid": "e3147188-cc48-11e8-8976-a81e84e6c740",
         "x": [
          "10-2"
         ],
         "y": [
          14
         ]
        },
        {
         "name": "子项目号(商业项目)",
         "type": "bar",
         "uid": "e314753e-cc48-11e8-8976-a81e84e6c740",
         "x": [
          "10-2"
         ],
         "y": [
          13
         ]
        }
       ],
       "layout": {
        "title": "子项目号周趋势图",
        "xaxis": {
         "mirror": "all",
         "nticks": 20,
         "showgrid": true,
         "showline": true,
         "title": "周",
         "zeroline": true
        },
        "yaxis": {
         "mirror": "all",
         "nticks": 20,
         "showgrid": true,
         "showline": true,
         "title": "子项目号",
         "zeroline": true
        }
       }
      },
      "text/html": [
       "<div id=\"122056ef-5d62-4117-b8a8-d3728676a76b\" style=\"height: 525px; width: 100%;\" class=\"plotly-graph-div\"></div><script type=\"text/javascript\">require([\"plotly\"], function(Plotly) { window.PLOTLYENV=window.PLOTLYENV || {};window.PLOTLYENV.BASE_URL=\"https://plot.ly\";Plotly.newPlot(\"122056ef-5d62-4117-b8a8-d3728676a76b\", [{\"name\": \"\\u5b50\\u9879\\u76ee\\u53f7(\\u7814\\u53d1\\u9879\\u76ee)\", \"x\": [\"10-2\"], \"y\": [14], \"type\": \"bar\", \"uid\": \"e3147188-cc48-11e8-8976-a81e84e6c740\"}, {\"name\": \"\\u5b50\\u9879\\u76ee\\u53f7(\\u5546\\u4e1a\\u9879\\u76ee)\", \"x\": [\"10-2\"], \"y\": [13], \"type\": \"bar\", \"uid\": \"e314753e-cc48-11e8-8976-a81e84e6c740\"}], {\"title\": \"\\u5b50\\u9879\\u76ee\\u53f7\\u5468\\u8d8b\\u52bf\\u56fe\", \"xaxis\": {\"mirror\": \"all\", \"nticks\": 20, \"showgrid\": true, \"showline\": true, \"title\": \"\\u5468\", \"zeroline\": true}, \"yaxis\": {\"mirror\": \"all\", \"nticks\": 20, \"showgrid\": true, \"showline\": true, \"title\": \"\\u5b50\\u9879\\u76ee\\u53f7\", \"zeroline\": true}}, {\"showLink\": true, \"linkText\": \"Export to plot.ly\"})});</script>"
      ],
      "text/vnd.plotly.v1+html": [
       "<div id=\"122056ef-5d62-4117-b8a8-d3728676a76b\" style=\"height: 525px; width: 100%;\" class=\"plotly-graph-div\"></div><script type=\"text/javascript\">require([\"plotly\"], function(Plotly) { window.PLOTLYENV=window.PLOTLYENV || {};window.PLOTLYENV.BASE_URL=\"https://plot.ly\";Plotly.newPlot(\"122056ef-5d62-4117-b8a8-d3728676a76b\", [{\"name\": \"\\u5b50\\u9879\\u76ee\\u53f7(\\u7814\\u53d1\\u9879\\u76ee)\", \"x\": [\"10-2\"], \"y\": [14], \"type\": \"bar\", \"uid\": \"e3147188-cc48-11e8-8976-a81e84e6c740\"}, {\"name\": \"\\u5b50\\u9879\\u76ee\\u53f7(\\u5546\\u4e1a\\u9879\\u76ee)\", \"x\": [\"10-2\"], \"y\": [13], \"type\": \"bar\", \"uid\": \"e314753e-cc48-11e8-8976-a81e84e6c740\"}], {\"title\": \"\\u5b50\\u9879\\u76ee\\u53f7\\u5468\\u8d8b\\u52bf\\u56fe\", \"xaxis\": {\"mirror\": \"all\", \"nticks\": 20, \"showgrid\": true, \"showline\": true, \"title\": \"\\u5468\", \"zeroline\": true}, \"yaxis\": {\"mirror\": \"all\", \"nticks\": 20, \"showgrid\": true, \"showline\": true, \"title\": \"\\u5b50\\u9879\\u76ee\\u53f7\", \"zeroline\": true}}, {\"showLink\": true, \"linkText\": \"Export to plot.ly\"})});</script>"
      ]
     },
     "metadata": {},
     "output_type": "display_data"
    }
   ],
   "source": [
    "ss = myModule.format(df3 ,df3.columns[1] ,['子项目号'])\n",
    "ss.add_group('产品大类（研发项目/商业项目）')\n",
    "#ss.get_average_by('子项目号')\n",
    "#ss.df.groupby([ss.x , ss.group_col]).sum().groupby([ss.x , ss.group_col]).mean()\n",
    "tt = myModule.myPlot(ss.groupby('count'))\n",
    "tt.plot('bar')"
   ]
  },
  {
   "cell_type": "markdown",
   "metadata": {},
   "source": [
    "### 工时"
   ]
  },
  {
   "cell_type": "code",
   "execution_count": 25,
   "metadata": {},
   "outputs": [
    {
     "data": {
      "application/vnd.plotly.v1+json": {
       "data": [
        {
         "name": "总工时(研发项目)",
         "type": "bar",
         "uid": "e32a54ee-cc48-11e8-8976-a81e84e6c740",
         "x": [
          "10-2"
         ],
         "y": [
          144
         ]
        },
        {
         "name": "总工时(商业项目)",
         "type": "bar",
         "uid": "e32a5ab6-cc48-11e8-8976-a81e84e6c740",
         "x": [
          "10-2"
         ],
         "y": [
          110
         ]
        }
       ],
       "layout": {
        "title": "总工时周趋势图",
        "xaxis": {
         "mirror": "all",
         "nticks": 20,
         "showgrid": true,
         "showline": true,
         "title": "周",
         "zeroline": true
        },
        "yaxis": {
         "mirror": "all",
         "nticks": 20,
         "showgrid": true,
         "showline": true,
         "title": "总工时",
         "zeroline": true
        }
       }
      },
      "text/html": [
       "<div id=\"2863997e-34e7-499e-8e0e-5afce60868e9\" style=\"height: 525px; width: 100%;\" class=\"plotly-graph-div\"></div><script type=\"text/javascript\">require([\"plotly\"], function(Plotly) { window.PLOTLYENV=window.PLOTLYENV || {};window.PLOTLYENV.BASE_URL=\"https://plot.ly\";Plotly.newPlot(\"2863997e-34e7-499e-8e0e-5afce60868e9\", [{\"name\": \"\\u603b\\u5de5\\u65f6(\\u7814\\u53d1\\u9879\\u76ee)\", \"x\": [\"10-2\"], \"y\": [144], \"type\": \"bar\", \"uid\": \"e32a54ee-cc48-11e8-8976-a81e84e6c740\"}, {\"name\": \"\\u603b\\u5de5\\u65f6(\\u5546\\u4e1a\\u9879\\u76ee)\", \"x\": [\"10-2\"], \"y\": [110], \"type\": \"bar\", \"uid\": \"e32a5ab6-cc48-11e8-8976-a81e84e6c740\"}], {\"title\": \"\\u603b\\u5de5\\u65f6\\u5468\\u8d8b\\u52bf\\u56fe\", \"xaxis\": {\"mirror\": \"all\", \"nticks\": 20, \"showgrid\": true, \"showline\": true, \"title\": \"\\u5468\", \"zeroline\": true}, \"yaxis\": {\"mirror\": \"all\", \"nticks\": 20, \"showgrid\": true, \"showline\": true, \"title\": \"\\u603b\\u5de5\\u65f6\", \"zeroline\": true}}, {\"showLink\": true, \"linkText\": \"Export to plot.ly\"})});</script>"
      ],
      "text/vnd.plotly.v1+html": [
       "<div id=\"2863997e-34e7-499e-8e0e-5afce60868e9\" style=\"height: 525px; width: 100%;\" class=\"plotly-graph-div\"></div><script type=\"text/javascript\">require([\"plotly\"], function(Plotly) { window.PLOTLYENV=window.PLOTLYENV || {};window.PLOTLYENV.BASE_URL=\"https://plot.ly\";Plotly.newPlot(\"2863997e-34e7-499e-8e0e-5afce60868e9\", [{\"name\": \"\\u603b\\u5de5\\u65f6(\\u7814\\u53d1\\u9879\\u76ee)\", \"x\": [\"10-2\"], \"y\": [144], \"type\": \"bar\", \"uid\": \"e32a54ee-cc48-11e8-8976-a81e84e6c740\"}, {\"name\": \"\\u603b\\u5de5\\u65f6(\\u5546\\u4e1a\\u9879\\u76ee)\", \"x\": [\"10-2\"], \"y\": [110], \"type\": \"bar\", \"uid\": \"e32a5ab6-cc48-11e8-8976-a81e84e6c740\"}], {\"title\": \"\\u603b\\u5de5\\u65f6\\u5468\\u8d8b\\u52bf\\u56fe\", \"xaxis\": {\"mirror\": \"all\", \"nticks\": 20, \"showgrid\": true, \"showline\": true, \"title\": \"\\u5468\", \"zeroline\": true}, \"yaxis\": {\"mirror\": \"all\", \"nticks\": 20, \"showgrid\": true, \"showline\": true, \"title\": \"\\u603b\\u5de5\\u65f6\", \"zeroline\": true}}, {\"showLink\": true, \"linkText\": \"Export to plot.ly\"})});</script>"
      ]
     },
     "metadata": {},
     "output_type": "display_data"
    }
   ],
   "source": [
    "ss = myModule.format(df3 ,df3.columns[1] ,['总工时'])\n",
    "ss.add_group('产品大类（研发项目/商业项目）')\n",
    "#ss.get_average_by('子项目号')\n",
    "#ss.df.groupby([ss.x , ss.group_col]).sum().groupby([ss.x , ss.group_col]).mean()\n",
    "tt = myModule.myPlot(ss.groupby('sum'))\n",
    "tt.plot('bar')"
   ]
  },
  {
   "cell_type": "markdown",
   "metadata": {},
   "source": [
    "## 各产品占比"
   ]
  },
  {
   "cell_type": "markdown",
   "metadata": {},
   "source": [
    "### 个数"
   ]
  },
  {
   "cell_type": "code",
   "execution_count": 26,
   "metadata": {
    "scrolled": false
   },
   "outputs": [
    {
     "data": {
      "application/vnd.plotly.v1+json": {
       "data": [
        {
         "name": "子项目号(Hi-C)",
         "type": "bar",
         "uid": "e342b49e-cc48-11e8-8976-a81e84e6c740",
         "x": [
          "10-2"
         ],
         "y": [
          16
         ]
        },
        {
         "name": "子项目号(Transcriptome)",
         "type": "bar",
         "uid": "e342b872-cc48-11e8-8976-a81e84e6c740",
         "x": [
          "10-2"
         ],
         "y": [
          2
         ]
        },
        {
         "name": "子项目号(10XGenomics)",
         "type": "bar",
         "uid": "e342bad4-cc48-11e8-8976-a81e84e6c740",
         "x": [
          "10-2"
         ],
         "y": [
          3
         ]
        },
        {
         "name": "子项目号(Iso-seq)",
         "type": "bar",
         "uid": "e342bd5e-cc48-11e8-8976-a81e84e6c740",
         "x": [
          "10-2"
         ],
         "y": [
          3
         ]
        },
        {
         "name": "子项目号(scBS-seq)",
         "type": "bar",
         "uid": "e342c15a-cc48-11e8-8976-a81e84e6c740",
         "x": [
          "10-2"
         ],
         "y": [
          1
         ]
        },
        {
         "name": "子项目号(BS)",
         "type": "bar",
         "uid": "e342c8d0-cc48-11e8-8976-a81e84e6c740",
         "x": [
          "10-2"
         ],
         "y": [
          2
         ]
        }
       ],
       "layout": {
        "title": "子项目号周趋势图",
        "xaxis": {
         "mirror": "all",
         "nticks": 20,
         "showgrid": true,
         "showline": true,
         "title": "周",
         "zeroline": true
        },
        "yaxis": {
         "mirror": "all",
         "nticks": 20,
         "showgrid": true,
         "showline": true,
         "title": "子项目号",
         "zeroline": true
        }
       }
      },
      "text/html": [
       "<div id=\"68b402ff-12b8-4d1b-b009-ba0250d039bb\" style=\"height: 525px; width: 100%;\" class=\"plotly-graph-div\"></div><script type=\"text/javascript\">require([\"plotly\"], function(Plotly) { window.PLOTLYENV=window.PLOTLYENV || {};window.PLOTLYENV.BASE_URL=\"https://plot.ly\";Plotly.newPlot(\"68b402ff-12b8-4d1b-b009-ba0250d039bb\", [{\"name\": \"\\u5b50\\u9879\\u76ee\\u53f7(Hi-C)\", \"x\": [\"10-2\"], \"y\": [16], \"type\": \"bar\", \"uid\": \"e342b49e-cc48-11e8-8976-a81e84e6c740\"}, {\"name\": \"\\u5b50\\u9879\\u76ee\\u53f7(Transcriptome)\", \"x\": [\"10-2\"], \"y\": [2], \"type\": \"bar\", \"uid\": \"e342b872-cc48-11e8-8976-a81e84e6c740\"}, {\"name\": \"\\u5b50\\u9879\\u76ee\\u53f7(10XGenomics)\", \"x\": [\"10-2\"], \"y\": [3], \"type\": \"bar\", \"uid\": \"e342bad4-cc48-11e8-8976-a81e84e6c740\"}, {\"name\": \"\\u5b50\\u9879\\u76ee\\u53f7(Iso-seq)\", \"x\": [\"10-2\"], \"y\": [3], \"type\": \"bar\", \"uid\": \"e342bd5e-cc48-11e8-8976-a81e84e6c740\"}, {\"name\": \"\\u5b50\\u9879\\u76ee\\u53f7(scBS-seq)\", \"x\": [\"10-2\"], \"y\": [1], \"type\": \"bar\", \"uid\": \"e342c15a-cc48-11e8-8976-a81e84e6c740\"}, {\"name\": \"\\u5b50\\u9879\\u76ee\\u53f7(BS)\", \"x\": [\"10-2\"], \"y\": [2], \"type\": \"bar\", \"uid\": \"e342c8d0-cc48-11e8-8976-a81e84e6c740\"}], {\"title\": \"\\u5b50\\u9879\\u76ee\\u53f7\\u5468\\u8d8b\\u52bf\\u56fe\", \"xaxis\": {\"mirror\": \"all\", \"nticks\": 20, \"showgrid\": true, \"showline\": true, \"title\": \"\\u5468\", \"zeroline\": true}, \"yaxis\": {\"mirror\": \"all\", \"nticks\": 20, \"showgrid\": true, \"showline\": true, \"title\": \"\\u5b50\\u9879\\u76ee\\u53f7\", \"zeroline\": true}}, {\"showLink\": true, \"linkText\": \"Export to plot.ly\"})});</script>"
      ],
      "text/vnd.plotly.v1+html": [
       "<div id=\"68b402ff-12b8-4d1b-b009-ba0250d039bb\" style=\"height: 525px; width: 100%;\" class=\"plotly-graph-div\"></div><script type=\"text/javascript\">require([\"plotly\"], function(Plotly) { window.PLOTLYENV=window.PLOTLYENV || {};window.PLOTLYENV.BASE_URL=\"https://plot.ly\";Plotly.newPlot(\"68b402ff-12b8-4d1b-b009-ba0250d039bb\", [{\"name\": \"\\u5b50\\u9879\\u76ee\\u53f7(Hi-C)\", \"x\": [\"10-2\"], \"y\": [16], \"type\": \"bar\", \"uid\": \"e342b49e-cc48-11e8-8976-a81e84e6c740\"}, {\"name\": \"\\u5b50\\u9879\\u76ee\\u53f7(Transcriptome)\", \"x\": [\"10-2\"], \"y\": [2], \"type\": \"bar\", \"uid\": \"e342b872-cc48-11e8-8976-a81e84e6c740\"}, {\"name\": \"\\u5b50\\u9879\\u76ee\\u53f7(10XGenomics)\", \"x\": [\"10-2\"], \"y\": [3], \"type\": \"bar\", \"uid\": \"e342bad4-cc48-11e8-8976-a81e84e6c740\"}, {\"name\": \"\\u5b50\\u9879\\u76ee\\u53f7(Iso-seq)\", \"x\": [\"10-2\"], \"y\": [3], \"type\": \"bar\", \"uid\": \"e342bd5e-cc48-11e8-8976-a81e84e6c740\"}, {\"name\": \"\\u5b50\\u9879\\u76ee\\u53f7(scBS-seq)\", \"x\": [\"10-2\"], \"y\": [1], \"type\": \"bar\", \"uid\": \"e342c15a-cc48-11e8-8976-a81e84e6c740\"}, {\"name\": \"\\u5b50\\u9879\\u76ee\\u53f7(BS)\", \"x\": [\"10-2\"], \"y\": [2], \"type\": \"bar\", \"uid\": \"e342c8d0-cc48-11e8-8976-a81e84e6c740\"}], {\"title\": \"\\u5b50\\u9879\\u76ee\\u53f7\\u5468\\u8d8b\\u52bf\\u56fe\", \"xaxis\": {\"mirror\": \"all\", \"nticks\": 20, \"showgrid\": true, \"showline\": true, \"title\": \"\\u5468\", \"zeroline\": true}, \"yaxis\": {\"mirror\": \"all\", \"nticks\": 20, \"showgrid\": true, \"showline\": true, \"title\": \"\\u5b50\\u9879\\u76ee\\u53f7\", \"zeroline\": true}}, {\"showLink\": true, \"linkText\": \"Export to plot.ly\"})});</script>"
      ]
     },
     "metadata": {},
     "output_type": "display_data"
    }
   ],
   "source": [
    "ss = myModule.format(df3 ,df3.columns[1] ,['子项目号'])\n",
    "ss.add_group('产品子类')\n",
    "#ss.get_average_by('子项目号')\n",
    "#ss.df.groupby([ss.x , ss.group_col]).sum().groupby([ss.x , ss.group_col]).mean()\n",
    "tt = myModule.myPlot(ss.groupby('count'))\n",
    "tt.plot('bar')"
   ]
  },
  {
   "cell_type": "markdown",
   "metadata": {},
   "source": [
    "### 工时"
   ]
  },
  {
   "cell_type": "code",
   "execution_count": 27,
   "metadata": {
    "scrolled": false
   },
   "outputs": [
    {
     "data": {
      "application/vnd.plotly.v1+json": {
       "data": [
        {
         "name": "总工时(Hi-C)",
         "type": "bar",
         "uid": "e35be842-cc48-11e8-8976-a81e84e6c740",
         "x": [
          "10-2"
         ],
         "y": [
          148
         ]
        },
        {
         "name": "总工时(Transcriptome)",
         "type": "bar",
         "uid": "e35becf2-cc48-11e8-8976-a81e84e6c740",
         "x": [
          "10-2"
         ],
         "y": [
          32
         ]
        },
        {
         "name": "总工时(10XGenomics)",
         "type": "bar",
         "uid": "e35bef7c-cc48-11e8-8976-a81e84e6c740",
         "x": [
          "10-2"
         ],
         "y": [
          28
         ]
        },
        {
         "name": "总工时(Iso-seq)",
         "type": "bar",
         "uid": "e35bf1a2-cc48-11e8-8976-a81e84e6c740",
         "x": [
          "10-2"
         ],
         "y": [
          22
         ]
        },
        {
         "name": "总工时(scBS-seq)",
         "type": "bar",
         "uid": "e35bf3be-cc48-11e8-8976-a81e84e6c740",
         "x": [
          "10-2"
         ],
         "y": [
          6
         ]
        },
        {
         "name": "总工时(BS)",
         "type": "bar",
         "uid": "e35bf5f8-cc48-11e8-8976-a81e84e6c740",
         "x": [
          "10-2"
         ],
         "y": [
          18
         ]
        }
       ],
       "layout": {
        "title": "总工时周趋势图",
        "xaxis": {
         "mirror": "all",
         "nticks": 20,
         "showgrid": true,
         "showline": true,
         "title": "周",
         "zeroline": true
        },
        "yaxis": {
         "mirror": "all",
         "nticks": 20,
         "showgrid": true,
         "showline": true,
         "title": "总工时",
         "zeroline": true
        }
       }
      },
      "text/html": [
       "<div id=\"d6a2870e-099a-4625-a2e3-082a5ec510cc\" style=\"height: 525px; width: 100%;\" class=\"plotly-graph-div\"></div><script type=\"text/javascript\">require([\"plotly\"], function(Plotly) { window.PLOTLYENV=window.PLOTLYENV || {};window.PLOTLYENV.BASE_URL=\"https://plot.ly\";Plotly.newPlot(\"d6a2870e-099a-4625-a2e3-082a5ec510cc\", [{\"name\": \"\\u603b\\u5de5\\u65f6(Hi-C)\", \"x\": [\"10-2\"], \"y\": [148], \"type\": \"bar\", \"uid\": \"e35be842-cc48-11e8-8976-a81e84e6c740\"}, {\"name\": \"\\u603b\\u5de5\\u65f6(Transcriptome)\", \"x\": [\"10-2\"], \"y\": [32], \"type\": \"bar\", \"uid\": \"e35becf2-cc48-11e8-8976-a81e84e6c740\"}, {\"name\": \"\\u603b\\u5de5\\u65f6(10XGenomics)\", \"x\": [\"10-2\"], \"y\": [28], \"type\": \"bar\", \"uid\": \"e35bef7c-cc48-11e8-8976-a81e84e6c740\"}, {\"name\": \"\\u603b\\u5de5\\u65f6(Iso-seq)\", \"x\": [\"10-2\"], \"y\": [22], \"type\": \"bar\", \"uid\": \"e35bf1a2-cc48-11e8-8976-a81e84e6c740\"}, {\"name\": \"\\u603b\\u5de5\\u65f6(scBS-seq)\", \"x\": [\"10-2\"], \"y\": [6], \"type\": \"bar\", \"uid\": \"e35bf3be-cc48-11e8-8976-a81e84e6c740\"}, {\"name\": \"\\u603b\\u5de5\\u65f6(BS)\", \"x\": [\"10-2\"], \"y\": [18], \"type\": \"bar\", \"uid\": \"e35bf5f8-cc48-11e8-8976-a81e84e6c740\"}], {\"title\": \"\\u603b\\u5de5\\u65f6\\u5468\\u8d8b\\u52bf\\u56fe\", \"xaxis\": {\"mirror\": \"all\", \"nticks\": 20, \"showgrid\": true, \"showline\": true, \"title\": \"\\u5468\", \"zeroline\": true}, \"yaxis\": {\"mirror\": \"all\", \"nticks\": 20, \"showgrid\": true, \"showline\": true, \"title\": \"\\u603b\\u5de5\\u65f6\", \"zeroline\": true}}, {\"showLink\": true, \"linkText\": \"Export to plot.ly\"})});</script>"
      ],
      "text/vnd.plotly.v1+html": [
       "<div id=\"d6a2870e-099a-4625-a2e3-082a5ec510cc\" style=\"height: 525px; width: 100%;\" class=\"plotly-graph-div\"></div><script type=\"text/javascript\">require([\"plotly\"], function(Plotly) { window.PLOTLYENV=window.PLOTLYENV || {};window.PLOTLYENV.BASE_URL=\"https://plot.ly\";Plotly.newPlot(\"d6a2870e-099a-4625-a2e3-082a5ec510cc\", [{\"name\": \"\\u603b\\u5de5\\u65f6(Hi-C)\", \"x\": [\"10-2\"], \"y\": [148], \"type\": \"bar\", \"uid\": \"e35be842-cc48-11e8-8976-a81e84e6c740\"}, {\"name\": \"\\u603b\\u5de5\\u65f6(Transcriptome)\", \"x\": [\"10-2\"], \"y\": [32], \"type\": \"bar\", \"uid\": \"e35becf2-cc48-11e8-8976-a81e84e6c740\"}, {\"name\": \"\\u603b\\u5de5\\u65f6(10XGenomics)\", \"x\": [\"10-2\"], \"y\": [28], \"type\": \"bar\", \"uid\": \"e35bef7c-cc48-11e8-8976-a81e84e6c740\"}, {\"name\": \"\\u603b\\u5de5\\u65f6(Iso-seq)\", \"x\": [\"10-2\"], \"y\": [22], \"type\": \"bar\", \"uid\": \"e35bf1a2-cc48-11e8-8976-a81e84e6c740\"}, {\"name\": \"\\u603b\\u5de5\\u65f6(scBS-seq)\", \"x\": [\"10-2\"], \"y\": [6], \"type\": \"bar\", \"uid\": \"e35bf3be-cc48-11e8-8976-a81e84e6c740\"}, {\"name\": \"\\u603b\\u5de5\\u65f6(BS)\", \"x\": [\"10-2\"], \"y\": [18], \"type\": \"bar\", \"uid\": \"e35bf5f8-cc48-11e8-8976-a81e84e6c740\"}], {\"title\": \"\\u603b\\u5de5\\u65f6\\u5468\\u8d8b\\u52bf\\u56fe\", \"xaxis\": {\"mirror\": \"all\", \"nticks\": 20, \"showgrid\": true, \"showline\": true, \"title\": \"\\u5468\", \"zeroline\": true}, \"yaxis\": {\"mirror\": \"all\", \"nticks\": 20, \"showgrid\": true, \"showline\": true, \"title\": \"\\u603b\\u5de5\\u65f6\", \"zeroline\": true}}, {\"showLink\": true, \"linkText\": \"Export to plot.ly\"})});</script>"
      ]
     },
     "metadata": {},
     "output_type": "display_data"
    }
   ],
   "source": [
    "ss = myModule.format(df3 ,df3.columns[1] ,['总工时'])\n",
    "ss.add_group('产品子类')\n",
    "#ss.get_average_by('子项目号')\n",
    "#ss.df.groupby([ss.x , ss.group_col]).sum().groupby([ss.x , ss.group_col]).mean()\n",
    "tt = myModule.myPlot(ss.groupby('sum'))\n",
    "tt.plot('bar')"
   ]
  },
  {
   "cell_type": "markdown",
   "metadata": {},
   "source": [
    "# 三个组比较"
   ]
  },
  {
   "cell_type": "code",
   "execution_count": 28,
   "metadata": {},
   "outputs": [],
   "source": [
    "import pandas as pd\n",
    "r_df = pd.concat([df1, df2, df3 ], axis=0 ,sort=False , join='outer')"
   ]
  },
  {
   "cell_type": "markdown",
   "metadata": {},
   "source": [
    "## 三个组项目数比较"
   ]
  },
  {
   "cell_type": "code",
   "execution_count": 29,
   "metadata": {
    "scrolled": false
   },
   "outputs": [
    {
     "data": {
      "application/vnd.plotly.v1+json": {
       "data": [
        {
         "name": "子项目号(生物学DNA)",
         "type": "bar",
         "uid": "e37e8550-cc48-11e8-8976-a81e84e6c740",
         "x": [
          "10-2"
         ],
         "y": [
          44
         ]
        },
        {
         "name": "子项目号(蛋白&医学研发组)",
         "type": "bar",
         "uid": "e37e8a32-cc48-11e8-8976-a81e84e6c740",
         "x": [
          "10-2"
         ],
         "y": [
          37
         ]
        },
        {
         "name": "子项目号(转录调控组)",
         "type": "bar",
         "uid": "e37e8e74-cc48-11e8-8976-a81e84e6c740",
         "x": [
          "10-2"
         ],
         "y": [
          27
         ]
        }
       ],
       "layout": {
        "title": "子项目号周趋势图",
        "xaxis": {
         "mirror": "all",
         "nticks": 20,
         "showgrid": true,
         "showline": true,
         "title": "周",
         "zeroline": true
        },
        "yaxis": {
         "mirror": "all",
         "nticks": 20,
         "showgrid": true,
         "showline": true,
         "title": "子项目号",
         "zeroline": true
        }
       }
      },
      "text/html": [
       "<div id=\"c3950499-a065-49ca-9fe8-03039ad561b2\" style=\"height: 525px; width: 100%;\" class=\"plotly-graph-div\"></div><script type=\"text/javascript\">require([\"plotly\"], function(Plotly) { window.PLOTLYENV=window.PLOTLYENV || {};window.PLOTLYENV.BASE_URL=\"https://plot.ly\";Plotly.newPlot(\"c3950499-a065-49ca-9fe8-03039ad561b2\", [{\"name\": \"\\u5b50\\u9879\\u76ee\\u53f7(\\u751f\\u7269\\u5b66DNA)\", \"x\": [\"10-2\"], \"y\": [44], \"type\": \"bar\", \"uid\": \"e37e8550-cc48-11e8-8976-a81e84e6c740\"}, {\"name\": \"\\u5b50\\u9879\\u76ee\\u53f7(\\u86cb\\u767d&\\u533b\\u5b66\\u7814\\u53d1\\u7ec4)\", \"x\": [\"10-2\"], \"y\": [37], \"type\": \"bar\", \"uid\": \"e37e8a32-cc48-11e8-8976-a81e84e6c740\"}, {\"name\": \"\\u5b50\\u9879\\u76ee\\u53f7(\\u8f6c\\u5f55\\u8c03\\u63a7\\u7ec4)\", \"x\": [\"10-2\"], \"y\": [27], \"type\": \"bar\", \"uid\": \"e37e8e74-cc48-11e8-8976-a81e84e6c740\"}], {\"title\": \"\\u5b50\\u9879\\u76ee\\u53f7\\u5468\\u8d8b\\u52bf\\u56fe\", \"xaxis\": {\"mirror\": \"all\", \"nticks\": 20, \"showgrid\": true, \"showline\": true, \"title\": \"\\u5468\", \"zeroline\": true}, \"yaxis\": {\"mirror\": \"all\", \"nticks\": 20, \"showgrid\": true, \"showline\": true, \"title\": \"\\u5b50\\u9879\\u76ee\\u53f7\", \"zeroline\": true}}, {\"showLink\": true, \"linkText\": \"Export to plot.ly\"})});</script>"
      ],
      "text/vnd.plotly.v1+html": [
       "<div id=\"c3950499-a065-49ca-9fe8-03039ad561b2\" style=\"height: 525px; width: 100%;\" class=\"plotly-graph-div\"></div><script type=\"text/javascript\">require([\"plotly\"], function(Plotly) { window.PLOTLYENV=window.PLOTLYENV || {};window.PLOTLYENV.BASE_URL=\"https://plot.ly\";Plotly.newPlot(\"c3950499-a065-49ca-9fe8-03039ad561b2\", [{\"name\": \"\\u5b50\\u9879\\u76ee\\u53f7(\\u751f\\u7269\\u5b66DNA)\", \"x\": [\"10-2\"], \"y\": [44], \"type\": \"bar\", \"uid\": \"e37e8550-cc48-11e8-8976-a81e84e6c740\"}, {\"name\": \"\\u5b50\\u9879\\u76ee\\u53f7(\\u86cb\\u767d&\\u533b\\u5b66\\u7814\\u53d1\\u7ec4)\", \"x\": [\"10-2\"], \"y\": [37], \"type\": \"bar\", \"uid\": \"e37e8a32-cc48-11e8-8976-a81e84e6c740\"}, {\"name\": \"\\u5b50\\u9879\\u76ee\\u53f7(\\u8f6c\\u5f55\\u8c03\\u63a7\\u7ec4)\", \"x\": [\"10-2\"], \"y\": [27], \"type\": \"bar\", \"uid\": \"e37e8e74-cc48-11e8-8976-a81e84e6c740\"}], {\"title\": \"\\u5b50\\u9879\\u76ee\\u53f7\\u5468\\u8d8b\\u52bf\\u56fe\", \"xaxis\": {\"mirror\": \"all\", \"nticks\": 20, \"showgrid\": true, \"showline\": true, \"title\": \"\\u5468\", \"zeroline\": true}, \"yaxis\": {\"mirror\": \"all\", \"nticks\": 20, \"showgrid\": true, \"showline\": true, \"title\": \"\\u5b50\\u9879\\u76ee\\u53f7\", \"zeroline\": true}}, {\"showLink\": true, \"linkText\": \"Export to plot.ly\"})});</script>"
      ]
     },
     "metadata": {},
     "output_type": "display_data"
    }
   ],
   "source": [
    "ss = myModule.format(r_df ,df3.columns[1] ,['子项目号'])\n",
    "ss.add_group('组别')\n",
    "#ss.get_average_by('子项目号')\n",
    "#ss.df.groupby([ss.x , ss.group_col]).sum().groupby([ss.x , ss.group_col]).mean()\n",
    "tt = myModule.myPlot(ss.groupby('count'))\n",
    "tt.plot('bar')"
   ]
  },
  {
   "cell_type": "markdown",
   "metadata": {},
   "source": [
    "## 三个组高质量报告数比较"
   ]
  },
  {
   "cell_type": "code",
   "execution_count": 30,
   "metadata": {
    "scrolled": false
   },
   "outputs": [
    {
     "data": {
      "application/vnd.plotly.v1+json": {
       "data": [
        {
         "name": "是否提交报告(生物学DNA)",
         "type": "bar",
         "uid": "e3949cd2-cc48-11e8-8976-a81e84e6c740",
         "x": [
          "10-2"
         ],
         "y": [
          7
         ]
        },
        {
         "name": "是否提交报告(蛋白&医学研发组)",
         "type": "bar",
         "uid": "e394a150-cc48-11e8-8976-a81e84e6c740",
         "x": [
          "10-2"
         ],
         "y": [
          2
         ]
        },
        {
         "name": "是否提交报告(转录调控组)",
         "type": "bar",
         "uid": "e394a3d0-cc48-11e8-8976-a81e84e6c740",
         "x": [
          "10-2"
         ],
         "y": [
          3
         ]
        }
       ],
       "layout": {
        "title": "是否提交报告周趋势图",
        "xaxis": {
         "mirror": "all",
         "nticks": 20,
         "showgrid": true,
         "showline": true,
         "title": "周",
         "zeroline": true
        },
        "yaxis": {
         "mirror": "all",
         "nticks": 20,
         "showgrid": true,
         "showline": true,
         "title": "是否提交报告",
         "zeroline": true
        }
       }
      },
      "text/html": [
       "<div id=\"24e9157b-45bf-47c3-a0e3-b63dcf10c2de\" style=\"height: 525px; width: 100%;\" class=\"plotly-graph-div\"></div><script type=\"text/javascript\">require([\"plotly\"], function(Plotly) { window.PLOTLYENV=window.PLOTLYENV || {};window.PLOTLYENV.BASE_URL=\"https://plot.ly\";Plotly.newPlot(\"24e9157b-45bf-47c3-a0e3-b63dcf10c2de\", [{\"name\": \"\\u662f\\u5426\\u63d0\\u4ea4\\u62a5\\u544a(\\u751f\\u7269\\u5b66DNA)\", \"x\": [\"10-2\"], \"y\": [7], \"type\": \"bar\", \"uid\": \"e3949cd2-cc48-11e8-8976-a81e84e6c740\"}, {\"name\": \"\\u662f\\u5426\\u63d0\\u4ea4\\u62a5\\u544a(\\u86cb\\u767d&\\u533b\\u5b66\\u7814\\u53d1\\u7ec4)\", \"x\": [\"10-2\"], \"y\": [2], \"type\": \"bar\", \"uid\": \"e394a150-cc48-11e8-8976-a81e84e6c740\"}, {\"name\": \"\\u662f\\u5426\\u63d0\\u4ea4\\u62a5\\u544a(\\u8f6c\\u5f55\\u8c03\\u63a7\\u7ec4)\", \"x\": [\"10-2\"], \"y\": [3], \"type\": \"bar\", \"uid\": \"e394a3d0-cc48-11e8-8976-a81e84e6c740\"}], {\"title\": \"\\u662f\\u5426\\u63d0\\u4ea4\\u62a5\\u544a\\u5468\\u8d8b\\u52bf\\u56fe\", \"xaxis\": {\"mirror\": \"all\", \"nticks\": 20, \"showgrid\": true, \"showline\": true, \"title\": \"\\u5468\", \"zeroline\": true}, \"yaxis\": {\"mirror\": \"all\", \"nticks\": 20, \"showgrid\": true, \"showline\": true, \"title\": \"\\u662f\\u5426\\u63d0\\u4ea4\\u62a5\\u544a\", \"zeroline\": true}}, {\"showLink\": true, \"linkText\": \"Export to plot.ly\"})});</script>"
      ],
      "text/vnd.plotly.v1+html": [
       "<div id=\"24e9157b-45bf-47c3-a0e3-b63dcf10c2de\" style=\"height: 525px; width: 100%;\" class=\"plotly-graph-div\"></div><script type=\"text/javascript\">require([\"plotly\"], function(Plotly) { window.PLOTLYENV=window.PLOTLYENV || {};window.PLOTLYENV.BASE_URL=\"https://plot.ly\";Plotly.newPlot(\"24e9157b-45bf-47c3-a0e3-b63dcf10c2de\", [{\"name\": \"\\u662f\\u5426\\u63d0\\u4ea4\\u62a5\\u544a(\\u751f\\u7269\\u5b66DNA)\", \"x\": [\"10-2\"], \"y\": [7], \"type\": \"bar\", \"uid\": \"e3949cd2-cc48-11e8-8976-a81e84e6c740\"}, {\"name\": \"\\u662f\\u5426\\u63d0\\u4ea4\\u62a5\\u544a(\\u86cb\\u767d&\\u533b\\u5b66\\u7814\\u53d1\\u7ec4)\", \"x\": [\"10-2\"], \"y\": [2], \"type\": \"bar\", \"uid\": \"e394a150-cc48-11e8-8976-a81e84e6c740\"}, {\"name\": \"\\u662f\\u5426\\u63d0\\u4ea4\\u62a5\\u544a(\\u8f6c\\u5f55\\u8c03\\u63a7\\u7ec4)\", \"x\": [\"10-2\"], \"y\": [3], \"type\": \"bar\", \"uid\": \"e394a3d0-cc48-11e8-8976-a81e84e6c740\"}], {\"title\": \"\\u662f\\u5426\\u63d0\\u4ea4\\u62a5\\u544a\\u5468\\u8d8b\\u52bf\\u56fe\", \"xaxis\": {\"mirror\": \"all\", \"nticks\": 20, \"showgrid\": true, \"showline\": true, \"title\": \"\\u5468\", \"zeroline\": true}, \"yaxis\": {\"mirror\": \"all\", \"nticks\": 20, \"showgrid\": true, \"showline\": true, \"title\": \"\\u662f\\u5426\\u63d0\\u4ea4\\u62a5\\u544a\", \"zeroline\": true}}, {\"showLink\": true, \"linkText\": \"Export to plot.ly\"})});</script>"
      ]
     },
     "metadata": {},
     "output_type": "display_data"
    }
   ],
   "source": [
    "ss = myModule.format(r_df ,df3.columns[1] ,['是否提交报告'])\n",
    "ss.add_group('组别')\n",
    "ss.select_by_value('是否提交报告' , '是')\n",
    "tt = myModule.myPlot(ss.groupby('count'))\n",
    "tt.plot('bar')"
   ]
  },
  {
   "cell_type": "markdown",
   "metadata": {},
   "source": [
    "## 人均工时的比较"
   ]
  },
  {
   "cell_type": "code",
   "execution_count": 31,
   "metadata": {},
   "outputs": [
    {
     "data": {
      "application/vnd.plotly.v1+json": {
       "data": [
        {
         "name": "总工时(生物学DNA)",
         "type": "bar",
         "uid": "e3a9ab54-cc48-11e8-8976-a81e84e6c740",
         "x": [
          "10-2"
         ],
         "y": [
          5.363636363636363
         ]
        },
        {
         "name": "总工时(蛋白&医学研发组)",
         "type": "bar",
         "uid": "e3a9b0ae-cc48-11e8-8976-a81e84e6c740",
         "x": [
          "10-2"
         ],
         "y": [
          5.027027027027027
         ]
        },
        {
         "name": "总工时(转录调控组)",
         "type": "bar",
         "uid": "e3a9b432-cc48-11e8-8976-a81e84e6c740",
         "x": [
          "10-2"
         ],
         "y": [
          9.407407407407407
         ]
        }
       ],
       "layout": {
        "title": "单个项目工时周趋势图",
        "xaxis": {
         "mirror": "all",
         "nticks": 20,
         "showgrid": true,
         "showline": true,
         "title": "周",
         "zeroline": true
        },
        "yaxis": {
         "mirror": "all",
         "nticks": 20,
         "showgrid": true,
         "showline": true,
         "title": "总工时",
         "zeroline": true
        }
       }
      },
      "text/html": [
       "<div id=\"f5ade218-653b-4c47-a821-47e9a9ce1215\" style=\"height: 525px; width: 100%;\" class=\"plotly-graph-div\"></div><script type=\"text/javascript\">require([\"plotly\"], function(Plotly) { window.PLOTLYENV=window.PLOTLYENV || {};window.PLOTLYENV.BASE_URL=\"https://plot.ly\";Plotly.newPlot(\"f5ade218-653b-4c47-a821-47e9a9ce1215\", [{\"name\": \"\\u603b\\u5de5\\u65f6(\\u751f\\u7269\\u5b66DNA)\", \"x\": [\"10-2\"], \"y\": [5.363636363636363], \"type\": \"bar\", \"uid\": \"e3a9ab54-cc48-11e8-8976-a81e84e6c740\"}, {\"name\": \"\\u603b\\u5de5\\u65f6(\\u86cb\\u767d&\\u533b\\u5b66\\u7814\\u53d1\\u7ec4)\", \"x\": [\"10-2\"], \"y\": [5.027027027027027], \"type\": \"bar\", \"uid\": \"e3a9b0ae-cc48-11e8-8976-a81e84e6c740\"}, {\"name\": \"\\u603b\\u5de5\\u65f6(\\u8f6c\\u5f55\\u8c03\\u63a7\\u7ec4)\", \"x\": [\"10-2\"], \"y\": [9.407407407407407], \"type\": \"bar\", \"uid\": \"e3a9b432-cc48-11e8-8976-a81e84e6c740\"}], {\"title\": \"\\u5355\\u4e2a\\u9879\\u76ee\\u5de5\\u65f6\\u5468\\u8d8b\\u52bf\\u56fe\", \"xaxis\": {\"mirror\": \"all\", \"nticks\": 20, \"showgrid\": true, \"showline\": true, \"title\": \"\\u5468\", \"zeroline\": true}, \"yaxis\": {\"mirror\": \"all\", \"nticks\": 20, \"showgrid\": true, \"showline\": true, \"title\": \"\\u603b\\u5de5\\u65f6\", \"zeroline\": true}}, {\"showLink\": true, \"linkText\": \"Export to plot.ly\"})});</script>"
      ],
      "text/vnd.plotly.v1+html": [
       "<div id=\"f5ade218-653b-4c47-a821-47e9a9ce1215\" style=\"height: 525px; width: 100%;\" class=\"plotly-graph-div\"></div><script type=\"text/javascript\">require([\"plotly\"], function(Plotly) { window.PLOTLYENV=window.PLOTLYENV || {};window.PLOTLYENV.BASE_URL=\"https://plot.ly\";Plotly.newPlot(\"f5ade218-653b-4c47-a821-47e9a9ce1215\", [{\"name\": \"\\u603b\\u5de5\\u65f6(\\u751f\\u7269\\u5b66DNA)\", \"x\": [\"10-2\"], \"y\": [5.363636363636363], \"type\": \"bar\", \"uid\": \"e3a9ab54-cc48-11e8-8976-a81e84e6c740\"}, {\"name\": \"\\u603b\\u5de5\\u65f6(\\u86cb\\u767d&\\u533b\\u5b66\\u7814\\u53d1\\u7ec4)\", \"x\": [\"10-2\"], \"y\": [5.027027027027027], \"type\": \"bar\", \"uid\": \"e3a9b0ae-cc48-11e8-8976-a81e84e6c740\"}, {\"name\": \"\\u603b\\u5de5\\u65f6(\\u8f6c\\u5f55\\u8c03\\u63a7\\u7ec4)\", \"x\": [\"10-2\"], \"y\": [9.407407407407407], \"type\": \"bar\", \"uid\": \"e3a9b432-cc48-11e8-8976-a81e84e6c740\"}], {\"title\": \"\\u5355\\u4e2a\\u9879\\u76ee\\u5de5\\u65f6\\u5468\\u8d8b\\u52bf\\u56fe\", \"xaxis\": {\"mirror\": \"all\", \"nticks\": 20, \"showgrid\": true, \"showline\": true, \"title\": \"\\u5468\", \"zeroline\": true}, \"yaxis\": {\"mirror\": \"all\", \"nticks\": 20, \"showgrid\": true, \"showline\": true, \"title\": \"\\u603b\\u5de5\\u65f6\", \"zeroline\": true}}, {\"showLink\": true, \"linkText\": \"Export to plot.ly\"})});</script>"
      ]
     },
     "metadata": {},
     "output_type": "display_data"
    }
   ],
   "source": [
    "ss = myModule.format(r_df ,r_df.columns[1] ,['总工时'])\n",
    "ss.add_group('组别')\n",
    "ss.get_average_by('子项目号')\n",
    "#ss.df.groupby([ss.x , ss.group_col]).sum().groupby([ss.x , ss.group_col]).mean()\n",
    "tt = myModule.myPlot(ss.groupby('sum'))\n",
    "tt.plot('bar',fig_title='单个项目工时周趋势图')"
   ]
  },
  {
   "cell_type": "markdown",
   "metadata": {},
   "source": [
    "## 人均项目数的比较"
   ]
  },
  {
   "cell_type": "code",
   "execution_count": 35,
   "metadata": {},
   "outputs": [
    {
     "data": {
      "application/vnd.plotly.v1+json": {
       "data": [
        {
         "name": "子项目号(生物学DNA)",
         "type": "bar",
         "uid": "06dc09d2-cc49-11e8-8976-a81e84e6c740",
         "x": [
          "10-2"
         ],
         "y": [
          6.285714285714286
         ]
        },
        {
         "name": "子项目号(蛋白&医学研发组)",
         "type": "bar",
         "uid": "06dc0d4c-cc49-11e8-8976-a81e84e6c740",
         "x": [
          "10-2"
         ],
         "y": [
          6.166666666666667
         ]
        },
        {
         "name": "子项目号(转录调控组)",
         "type": "bar",
         "uid": "06dc0fa4-cc49-11e8-8976-a81e84e6c740",
         "x": [
          "10-2"
         ],
         "y": [
          3.857142857142857
         ]
        }
       ],
       "layout": {
        "title": "人均项目数周趋势图",
        "xaxis": {
         "mirror": "all",
         "nticks": 20,
         "showgrid": true,
         "showline": true,
         "title": "周",
         "zeroline": true
        },
        "yaxis": {
         "mirror": "all",
         "nticks": 20,
         "showgrid": true,
         "showline": true,
         "title": "子项目号",
         "zeroline": true
        }
       }
      },
      "text/html": [
       "<div id=\"73e0263c-31a6-4edc-9009-e1b12cf20d3e\" style=\"height: 525px; width: 100%;\" class=\"plotly-graph-div\"></div><script type=\"text/javascript\">require([\"plotly\"], function(Plotly) { window.PLOTLYENV=window.PLOTLYENV || {};window.PLOTLYENV.BASE_URL=\"https://plot.ly\";Plotly.newPlot(\"73e0263c-31a6-4edc-9009-e1b12cf20d3e\", [{\"name\": \"\\u5b50\\u9879\\u76ee\\u53f7(\\u751f\\u7269\\u5b66DNA)\", \"x\": [\"10-2\"], \"y\": [6.285714285714286], \"type\": \"bar\", \"uid\": \"06dc09d2-cc49-11e8-8976-a81e84e6c740\"}, {\"name\": \"\\u5b50\\u9879\\u76ee\\u53f7(\\u86cb\\u767d&\\u533b\\u5b66\\u7814\\u53d1\\u7ec4)\", \"x\": [\"10-2\"], \"y\": [6.166666666666667], \"type\": \"bar\", \"uid\": \"06dc0d4c-cc49-11e8-8976-a81e84e6c740\"}, {\"name\": \"\\u5b50\\u9879\\u76ee\\u53f7(\\u8f6c\\u5f55\\u8c03\\u63a7\\u7ec4)\", \"x\": [\"10-2\"], \"y\": [3.857142857142857], \"type\": \"bar\", \"uid\": \"06dc0fa4-cc49-11e8-8976-a81e84e6c740\"}], {\"title\": \"\\u4eba\\u5747\\u9879\\u76ee\\u6570\\u5468\\u8d8b\\u52bf\\u56fe\", \"xaxis\": {\"mirror\": \"all\", \"nticks\": 20, \"showgrid\": true, \"showline\": true, \"title\": \"\\u5468\", \"zeroline\": true}, \"yaxis\": {\"mirror\": \"all\", \"nticks\": 20, \"showgrid\": true, \"showline\": true, \"title\": \"\\u5b50\\u9879\\u76ee\\u53f7\", \"zeroline\": true}}, {\"showLink\": true, \"linkText\": \"Export to plot.ly\"})});</script>"
      ],
      "text/vnd.plotly.v1+html": [
       "<div id=\"73e0263c-31a6-4edc-9009-e1b12cf20d3e\" style=\"height: 525px; width: 100%;\" class=\"plotly-graph-div\"></div><script type=\"text/javascript\">require([\"plotly\"], function(Plotly) { window.PLOTLYENV=window.PLOTLYENV || {};window.PLOTLYENV.BASE_URL=\"https://plot.ly\";Plotly.newPlot(\"73e0263c-31a6-4edc-9009-e1b12cf20d3e\", [{\"name\": \"\\u5b50\\u9879\\u76ee\\u53f7(\\u751f\\u7269\\u5b66DNA)\", \"x\": [\"10-2\"], \"y\": [6.285714285714286], \"type\": \"bar\", \"uid\": \"06dc09d2-cc49-11e8-8976-a81e84e6c740\"}, {\"name\": \"\\u5b50\\u9879\\u76ee\\u53f7(\\u86cb\\u767d&\\u533b\\u5b66\\u7814\\u53d1\\u7ec4)\", \"x\": [\"10-2\"], \"y\": [6.166666666666667], \"type\": \"bar\", \"uid\": \"06dc0d4c-cc49-11e8-8976-a81e84e6c740\"}, {\"name\": \"\\u5b50\\u9879\\u76ee\\u53f7(\\u8f6c\\u5f55\\u8c03\\u63a7\\u7ec4)\", \"x\": [\"10-2\"], \"y\": [3.857142857142857], \"type\": \"bar\", \"uid\": \"06dc0fa4-cc49-11e8-8976-a81e84e6c740\"}], {\"title\": \"\\u4eba\\u5747\\u9879\\u76ee\\u6570\\u5468\\u8d8b\\u52bf\\u56fe\", \"xaxis\": {\"mirror\": \"all\", \"nticks\": 20, \"showgrid\": true, \"showline\": true, \"title\": \"\\u5468\", \"zeroline\": true}, \"yaxis\": {\"mirror\": \"all\", \"nticks\": 20, \"showgrid\": true, \"showline\": true, \"title\": \"\\u5b50\\u9879\\u76ee\\u53f7\", \"zeroline\": true}}, {\"showLink\": true, \"linkText\": \"Export to plot.ly\"})});</script>"
      ]
     },
     "metadata": {},
     "output_type": "display_data"
    }
   ],
   "source": [
    "ss = myModule.format(r_df ,r_df.columns[1] ,['子项目号'])\n",
    "ss.add_group('组别')\n",
    "ss.get_average_by('信息负责人')\n",
    "#ss.df.groupby([ss.x , ss.group_col]).sum().groupby([ss.x , ss.group_col]).mean()\n",
    "tt = myModule.myPlot(ss.groupby('count'))\n",
    "tt.plot('bar',fig_title='人均项目数周趋势图')"
   ]
  }
 ],
 "metadata": {
  "hide_input": true,
  "kernelspec": {
   "display_name": "Python 3",
   "language": "python",
   "name": "python3"
  },
  "language_info": {
   "codemirror_mode": {
    "name": "ipython",
    "version": 3
   },
   "file_extension": ".py",
   "mimetype": "text/x-python",
   "name": "python",
   "nbconvert_exporter": "python",
   "pygments_lexer": "ipython3",
   "version": "3.6.6"
  },
  "toc": {
   "base_numbering": 1,
   "nav_menu": {},
   "number_sections": true,
   "sideBar": true,
   "skip_h1_title": false,
   "title_cell": "Table of Contents",
   "title_sidebar": "Contents",
   "toc_cell": false,
   "toc_position": {
    "height": "calc(100% - 180px)",
    "left": "10px",
    "top": "150px",
    "width": "270.5px"
   },
   "toc_section_display": true,
   "toc_window_display": true
  }
 },
 "nbformat": 4,
 "nbformat_minor": 2
}
