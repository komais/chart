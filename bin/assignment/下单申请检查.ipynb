{
 "cells": [
  {
   "cell_type": "code",
   "execution_count": 1,
   "metadata": {
    "collapsed": true
   },
   "outputs": [],
   "source": [
    "%load_ext autoreload\n",
    "%autoreload 2"
   ]
  },
  {
   "cell_type": "code",
   "execution_count": 2,
   "metadata": {
    "collapsed": false
   },
   "outputs": [
    {
     "data": {
      "text/html": [
       "<script>requirejs.config({paths: { 'plotly': ['https://cdn.plot.ly/plotly-latest.min']},});if(!window.Plotly) {{require(['plotly'],function(plotly) {window.Plotly=plotly;});}}</script>"
      ],
      "text/vnd.plotly.v1+html": [
       "<script>requirejs.config({paths: { 'plotly': ['https://cdn.plot.ly/plotly-latest.min']},});if(!window.Plotly) {{require(['plotly'],function(plotly) {window.Plotly=plotly;});}}</script>"
      ]
     },
     "metadata": {},
     "output_type": "display_data"
    },
    {
     "data": {
      "text/html": [
       "<script>requirejs.config({paths: { 'plotly': ['https://cdn.plot.ly/plotly-latest.min']},});if(!window.Plotly) {{require(['plotly'],function(plotly) {window.Plotly=plotly;});}}</script>"
      ],
      "text/vnd.plotly.v1+html": [
       "<script>requirejs.config({paths: { 'plotly': ['https://cdn.plot.ly/plotly-latest.min']},});if(!window.Plotly) {{require(['plotly'],function(plotly) {window.Plotly=plotly;});}}</script>"
      ]
     },
     "metadata": {},
     "output_type": "display_data"
    },
    {
     "data": {
      "text/html": [
       "<script>requirejs.config({paths: { 'plotly': ['https://cdn.plot.ly/plotly-latest.min']},});if(!window.Plotly) {{require(['plotly'],function(plotly) {window.Plotly=plotly;});}}</script>"
      ],
      "text/vnd.plotly.v1+html": [
       "<script>requirejs.config({paths: { 'plotly': ['https://cdn.plot.ly/plotly-latest.min']},});if(!window.Plotly) {{require(['plotly'],function(plotly) {window.Plotly=plotly;});}}</script>"
      ]
     },
     "metadata": {},
     "output_type": "display_data"
    },
    {
     "data": {
      "text/html": [
       "<script>requirejs.config({paths: { 'plotly': ['https://cdn.plot.ly/plotly-latest.min']},});if(!window.Plotly) {{require(['plotly'],function(plotly) {window.Plotly=plotly;});}}</script>"
      ],
      "text/vnd.plotly.v1+html": [
       "<script>requirejs.config({paths: { 'plotly': ['https://cdn.plot.ly/plotly-latest.min']},});if(!window.Plotly) {{require(['plotly'],function(plotly) {window.Plotly=plotly;});}}</script>"
      ]
     },
     "metadata": {},
     "output_type": "display_data"
    },
    {
     "data": {
      "text/plain": [
       "<module 'myModule' from '/home/jiankong/jupyter/chart/bin/assignment/myModule.py'>"
      ]
     },
     "execution_count": 2,
     "metadata": {},
     "output_type": "execute_result"
    }
   ],
   "source": [
    "import sys\n",
    "sys.path.append('./')\n",
    "import xiadan_check\n",
    "import myModule\n",
    "import imp\n",
    "imp.reload(xiadan_check)\n",
    "imp.reload(myModule)\n"
   ]
  },
  {
   "cell_type": "markdown",
   "metadata": {},
   "source": [
    "# 医学组下单情况"
   ]
  },
  {
   "cell_type": "code",
   "execution_count": 3,
   "metadata": {
    "collapsed": false
   },
   "outputs": [
    {
     "ename": "SystemExit",
     "evalue": "file is not exists in /mnt/e/工作/下单申请/2018第四季度/2018-10-08/",
     "output_type": "error",
     "traceback": [
      "An exception has occurred, use %tb to see the full traceback.\n",
      "\u001b[0;31mSystemExit\u001b[0m\u001b[0;31m:\u001b[0m file is not exists in /mnt/e/工作/下单申请/2018第四季度/2018-10-08/\n"
     ]
    },
    {
     "name": "stderr",
     "output_type": "stream",
     "text": [
      "/home/jiankong/anaconda3/lib/python3.6/site-packages/IPython/core/interactiveshell.py:2889: UserWarning:\n",
      "\n",
      "To exit: use 'exit', 'quit', or Ctrl-D.\n",
      "\n"
     ]
    }
   ],
   "source": [
    "pathway = '/mnt/e/工作/下单申请/2018第四季度/2018-10-08/'\n",
    "all_files  = xiadan_check.get_files(pathway, \"蛋白\",\"10-2\")   ##给路径\n",
    "df1  = xiadan_check.read_xlsx(all_files , 0 )## read all files sheet1"
   ]
  },
  {
   "cell_type": "markdown",
   "metadata": {},
   "source": [
    "## 医学组人员立项总工时情况"
   ]
  },
  {
   "cell_type": "code",
   "execution_count": null,
   "metadata": {
    "collapsed": false
   },
   "outputs": [],
   "source": [
    "ss = myModule.format(df1 ,df1.columns[1] ,['总工时'])\n",
    "ss.add_group('信息负责人')\n",
    "tt = myModule.myPlot(ss.groupby('sum'))\n",
    "tt.plot('bar')"
   ]
  },
  {
   "cell_type": "markdown",
   "metadata": {},
   "source": [
    "## 医学组人员立项下单个数情况"
   ]
  },
  {
   "cell_type": "code",
   "execution_count": null,
   "metadata": {
    "collapsed": false
   },
   "outputs": [],
   "source": [
    "ss = myModule.format(df1 ,df1.columns[1],['子项目号'])\n",
    "ss.add_group('信息负责人')\n",
    "tt = myModule.myPlot(ss.groupby('count'))\n",
    "tt.plot('bar')"
   ]
  },
  {
   "cell_type": "markdown",
   "metadata": {},
   "source": [
    "## 医学组人员立项人均工时情况"
   ]
  },
  {
   "cell_type": "code",
   "execution_count": null,
   "metadata": {
    "collapsed": false
   },
   "outputs": [],
   "source": [
    "ss = myModule.format(df1 ,df1.columns[1] ,['总工时'])\n",
    "ss.add_group('信息负责人')\n",
    "ss.get_average_by('子项目号')\n",
    "#ss.df.groupby([ss.x , ss.group_col]).sum().groupby([ss.x , ss.group_col]).mean()\n",
    "tt = myModule.myPlot(ss.groupby('sum'))\n",
    "tt.plot('bar')"
   ]
  },
  {
   "cell_type": "markdown",
   "metadata": {},
   "source": [
    "## 产品研发来源趋势图"
   ]
  },
  {
   "cell_type": "markdown",
   "metadata": {},
   "source": [
    "### 个数"
   ]
  },
  {
   "cell_type": "code",
   "execution_count": null,
   "metadata": {
    "collapsed": false
   },
   "outputs": [],
   "source": [
    "ss = myModule.format(df1 ,df1.columns[1] ,['子项目号'])\n",
    "ss.add_group('产品大类（研发项目/商业项目）')\n",
    "#ss.get_average_by('子项目号')\n",
    "#ss.df.groupby([ss.x , ss.group_col]).sum().groupby([ss.x , ss.group_col]).mean()\n",
    "tt = myModule.myPlot(ss.groupby('count'))\n",
    "tt.plot('bar')"
   ]
  },
  {
   "cell_type": "markdown",
   "metadata": {},
   "source": [
    "### 工时"
   ]
  },
  {
   "cell_type": "code",
   "execution_count": null,
   "metadata": {
    "collapsed": false
   },
   "outputs": [],
   "source": [
    "ss = myModule.format(df1 ,df1.columns[1] ,['总工时'])\n",
    "ss.add_group('产品大类（研发项目/商业项目）')\n",
    "#ss.get_average_by('子项目号')\n",
    "#ss.df.groupby([ss.x , ss.group_col]).sum().groupby([ss.x , ss.group_col]).mean()\n",
    "tt = myModule.myPlot(ss.groupby('sum'))\n",
    "tt.plot('bar')"
   ]
  },
  {
   "cell_type": "markdown",
   "metadata": {},
   "source": [
    "## 各产品占比"
   ]
  },
  {
   "cell_type": "markdown",
   "metadata": {},
   "source": [
    "### 个数"
   ]
  },
  {
   "cell_type": "code",
   "execution_count": null,
   "metadata": {
    "collapsed": false,
    "scrolled": false
   },
   "outputs": [],
   "source": [
    "ss = myModule.format(df1 ,df1.columns[1] ,['子项目号'])\n",
    "ss.add_group('产品子类')\n",
    "#ss.get_average_by('子项目号')\n",
    "#ss.df.groupby([ss.x , ss.group_col]).sum().groupby([ss.x , ss.group_col]).mean()\n",
    "tt = myModule.myPlot(ss.groupby('count'))\n",
    "tt.plot('bar')"
   ]
  },
  {
   "cell_type": "markdown",
   "metadata": {},
   "source": [
    "### 工时"
   ]
  },
  {
   "cell_type": "code",
   "execution_count": null,
   "metadata": {
    "collapsed": false,
    "scrolled": false
   },
   "outputs": [],
   "source": [
    "ss = myModule.format(df1 ,df1.columns[1] ,['总工时'])\n",
    "ss.add_group('产品子类')\n",
    "#ss.get_average_by('子项目号')\n",
    "#ss.df.groupby([ss.x , ss.group_col]).sum().groupby([ss.x , ss.group_col]).mean()\n",
    "tt = myModule.myPlot(ss.groupby('sum'))\n",
    "tt.plot('bar')"
   ]
  },
  {
   "cell_type": "markdown",
   "metadata": {},
   "source": [
    "# 生物学DNA组下单情况"
   ]
  },
  {
   "cell_type": "code",
   "execution_count": null,
   "metadata": {
    "collapsed": true
   },
   "outputs": [],
   "source": [
    "pathway = '/mnt/e/工作/下单申请/2018第四季度/2018-10-08/'\n",
    "all_files  = xiadan_check.get_files(pathway, \"生物学\",\"10-2\")   ##给路径\n",
    "df2  = xiadan_check.read_xlsx(all_files , 0 )## read all files sheet1"
   ]
  },
  {
   "cell_type": "markdown",
   "metadata": {},
   "source": [
    "## 生物学人员立项总工时情况"
   ]
  },
  {
   "cell_type": "code",
   "execution_count": null,
   "metadata": {
    "collapsed": false
   },
   "outputs": [],
   "source": [
    "ss = myModule.format(df2 ,df2.columns[1] ,['总工时'])\n",
    "ss.add_group('信息负责人')\n",
    "#ss.get_average_by('子项目号')\n",
    "#ss.df.groupby([ss.x , ss.group_col]).sum().groupby([ss.x , ss.group_col]).mean()\n",
    "tt = myModule.myPlot(ss.groupby('sum'))\n",
    "tt.plot('bar')"
   ]
  },
  {
   "cell_type": "markdown",
   "metadata": {},
   "source": [
    "## 生物学人员立项下单个数情况"
   ]
  },
  {
   "cell_type": "code",
   "execution_count": null,
   "metadata": {
    "collapsed": false
   },
   "outputs": [],
   "source": [
    "ss = myModule.format(df2 ,df2.columns[1] ,['子项目号'])\n",
    "ss.add_group('信息负责人')\n",
    "tt = myModule.myPlot(ss.groupby('count'))\n",
    "tt.plot('bar')"
   ]
  },
  {
   "cell_type": "markdown",
   "metadata": {},
   "source": [
    "## 生物学DNA组人员立项人均工时情况"
   ]
  },
  {
   "cell_type": "code",
   "execution_count": null,
   "metadata": {
    "collapsed": false
   },
   "outputs": [],
   "source": [
    "ss = myModule.format(df2 ,df2.columns[1] ,['总工时'])\n",
    "ss.add_group('信息负责人')\n",
    "ss.get_average_by('子项目号')\n",
    "#ss.df.groupby([ss.x , ss.group_col]).sum().groupby([ss.x , ss.group_col]).mean()\n",
    "tt = myModule.myPlot(ss.groupby('sum'))\n",
    "tt.plot('bar')"
   ]
  },
  {
   "cell_type": "markdown",
   "metadata": {},
   "source": [
    "## 产品研发来源趋势图"
   ]
  },
  {
   "cell_type": "markdown",
   "metadata": {},
   "source": [
    "### 个数"
   ]
  },
  {
   "cell_type": "code",
   "execution_count": null,
   "metadata": {
    "collapsed": false
   },
   "outputs": [],
   "source": [
    "ss = myModule.format(df2 ,df2.columns[1] ,['子项目号'])\n",
    "ss.add_group('产品大类（研发项目/商业项目）')\n",
    "#ss.get_average_by('子项目号')\n",
    "#ss.df.groupby([ss.x , ss.group_col]).sum().groupby([ss.x , ss.group_col]).mean()\n",
    "tt = myModule.myPlot(ss.groupby('count'))\n",
    "tt.plot('bar')"
   ]
  },
  {
   "cell_type": "markdown",
   "metadata": {},
   "source": [
    "### 工时"
   ]
  },
  {
   "cell_type": "code",
   "execution_count": null,
   "metadata": {
    "collapsed": false
   },
   "outputs": [],
   "source": [
    "ss = myModule.format(df2 ,df2.columns[1] ,['总工时'])\n",
    "ss.add_group('产品大类（研发项目/商业项目）')\n",
    "#ss.get_average_by('子项目号')\n",
    "#ss.df.groupby([ss.x , ss.group_col]).sum().groupby([ss.x , ss.group_col]).mean()\n",
    "tt = myModule.myPlot(ss.groupby('sum'))\n",
    "tt.plot('bar')"
   ]
  },
  {
   "cell_type": "markdown",
   "metadata": {},
   "source": [
    "## 各产品占比"
   ]
  },
  {
   "cell_type": "markdown",
   "metadata": {},
   "source": [
    "### 个数"
   ]
  },
  {
   "cell_type": "code",
   "execution_count": null,
   "metadata": {
    "collapsed": false,
    "scrolled": false
   },
   "outputs": [],
   "source": [
    "ss = myModule.format(df2 ,df2.columns[1] ,['子项目号'])\n",
    "ss.add_group('产品子类')\n",
    "#ss.get_average_by('子项目号')\n",
    "#ss.df.groupby([ss.x , ss.group_col]).sum().groupby([ss.x , ss.group_col]).mean()\n",
    "tt = myModule.myPlot(ss.groupby('count'))\n",
    "tt.plot('bar')"
   ]
  },
  {
   "cell_type": "markdown",
   "metadata": {},
   "source": [
    "### 工时"
   ]
  },
  {
   "cell_type": "code",
   "execution_count": null,
   "metadata": {
    "collapsed": false,
    "scrolled": false
   },
   "outputs": [],
   "source": [
    "ss = myModule.format(df2 ,df2.columns[1] ,['总工时'])\n",
    "ss.add_group('产品子类')\n",
    "#ss.get_average_by('子项目号')\n",
    "#ss.df.groupby([ss.x , ss.group_col]).sum().groupby([ss.x , ss.group_col]).mean()\n",
    "tt = myModule.myPlot(ss.groupby('sum'))\n",
    "tt.plot('bar')"
   ]
  },
  {
   "cell_type": "markdown",
   "metadata": {},
   "source": [
    "# 转录调控组下单情况"
   ]
  },
  {
   "cell_type": "code",
   "execution_count": null,
   "metadata": {
    "collapsed": true
   },
   "outputs": [],
   "source": [
    "pathway = '/mnt/e/工作/下单申请/2018第四季度/2018-10-08/'\n",
    "all_files  = xiadan_check.get_files(pathway, \"转录\",\"10-2\")   ##给路径\n",
    "df3  = xiadan_check.read_xlsx(all_files ,  0 )## read all files sheet1"
   ]
  },
  {
   "cell_type": "markdown",
   "metadata": {},
   "source": [
    "## 转录调控人员立项总工时情况"
   ]
  },
  {
   "cell_type": "code",
   "execution_count": null,
   "metadata": {
    "collapsed": false
   },
   "outputs": [],
   "source": [
    "ss = myModule.format(df3 ,df3.columns[1] ,['总工时'])\n",
    "ss.add_group('信息负责人')\n",
    "#ss.get_average_by('子项目号')\n",
    "#ss.df.groupby([ss.x , ss.group_col]).sum().groupby([ss.x , ss.group_col]).mean()\n",
    "tt = myModule.myPlot(ss.groupby('sum'))\n",
    "tt.plot('bar')"
   ]
  },
  {
   "cell_type": "markdown",
   "metadata": {},
   "source": [
    "## 转录调控人员立项下单个数情况"
   ]
  },
  {
   "cell_type": "code",
   "execution_count": null,
   "metadata": {
    "collapsed": false
   },
   "outputs": [],
   "source": [
    "ss = myModule.format(df3 ,df3.columns[1] ,['子项目号'])\n",
    "ss.add_group('信息负责人')\n",
    "tt = myModule.myPlot(ss.groupby('count'))\n",
    "tt.plot('bar')"
   ]
  },
  {
   "cell_type": "markdown",
   "metadata": {},
   "source": [
    "## 转录调控组人员立项人均工时情况"
   ]
  },
  {
   "cell_type": "code",
   "execution_count": null,
   "metadata": {
    "collapsed": false
   },
   "outputs": [],
   "source": [
    "ss = myModule.format(df3 ,df3.columns[1] ,['总工时'])\n",
    "ss.add_group('信息负责人')\n",
    "ss.get_average_by('子项目号')\n",
    "#ss.df.groupby([ss.x , ss.group_col]).sum().groupby([ss.x , ss.group_col]).mean()\n",
    "tt = myModule.myPlot(ss.groupby('sum'))\n",
    "tt.plot('bar')"
   ]
  },
  {
   "cell_type": "markdown",
   "metadata": {},
   "source": [
    "## 产品研发来源趋势图"
   ]
  },
  {
   "cell_type": "markdown",
   "metadata": {},
   "source": [
    "### 个数"
   ]
  },
  {
   "cell_type": "code",
   "execution_count": null,
   "metadata": {
    "collapsed": false
   },
   "outputs": [],
   "source": [
    "ss = myModule.format(df3 ,df3.columns[1] ,['子项目号'])\n",
    "ss.add_group('产品大类（研发项目/商业项目）')\n",
    "#ss.get_average_by('子项目号')\n",
    "#ss.df.groupby([ss.x , ss.group_col]).sum().groupby([ss.x , ss.group_col]).mean()\n",
    "tt = myModule.myPlot(ss.groupby('count'))\n",
    "tt.plot('bar')"
   ]
  },
  {
   "cell_type": "markdown",
   "metadata": {},
   "source": [
    "### 工时"
   ]
  },
  {
   "cell_type": "code",
   "execution_count": null,
   "metadata": {
    "collapsed": false
   },
   "outputs": [],
   "source": [
    "ss = myModule.format(df3 ,df3.columns[1] ,['总工时'])\n",
    "ss.add_group('产品大类（研发项目/商业项目）')\n",
    "#ss.get_average_by('子项目号')\n",
    "#ss.df.groupby([ss.x , ss.group_col]).sum().groupby([ss.x , ss.group_col]).mean()\n",
    "tt = myModule.myPlot(ss.groupby('sum'))\n",
    "tt.plot('bar')"
   ]
  },
  {
   "cell_type": "markdown",
   "metadata": {},
   "source": [
    "## 各产品占比"
   ]
  },
  {
   "cell_type": "markdown",
   "metadata": {},
   "source": [
    "### 个数"
   ]
  },
  {
   "cell_type": "code",
   "execution_count": null,
   "metadata": {
    "collapsed": false,
    "scrolled": false
   },
   "outputs": [],
   "source": [
    "ss = myModule.format(df3 ,df3.columns[1] ,['子项目号'])\n",
    "ss.add_group('产品子类')\n",
    "#ss.get_average_by('子项目号')\n",
    "#ss.df.groupby([ss.x , ss.group_col]).sum().groupby([ss.x , ss.group_col]).mean()\n",
    "tt = myModule.myPlot(ss.groupby('count'))\n",
    "tt.plot('bar')"
   ]
  },
  {
   "cell_type": "markdown",
   "metadata": {},
   "source": [
    "### 工时"
   ]
  },
  {
   "cell_type": "code",
   "execution_count": null,
   "metadata": {
    "collapsed": false,
    "scrolled": false
   },
   "outputs": [],
   "source": [
    "ss = myModule.format(df3 ,df3.columns[1] ,['总工时'])\n",
    "ss.add_group('产品子类')\n",
    "#ss.get_average_by('子项目号')\n",
    "#ss.df.groupby([ss.x , ss.group_col]).sum().groupby([ss.x , ss.group_col]).mean()\n",
    "tt = myModule.myPlot(ss.groupby('sum'))\n",
    "tt.plot('bar')"
   ]
  },
  {
   "cell_type": "markdown",
   "metadata": {},
   "source": [
    "# 三个组比较"
   ]
  },
  {
   "cell_type": "code",
   "execution_count": null,
   "metadata": {
    "collapsed": true
   },
   "outputs": [],
   "source": [
    "import pandas as pd\n",
    "r_df = pd.concat([df1, df2, df3 ], axis=0 ,sort=False , join='outer')"
   ]
  },
  {
   "cell_type": "markdown",
   "metadata": {},
   "source": [
    "## 三个组项目数比较"
   ]
  },
  {
   "cell_type": "code",
   "execution_count": null,
   "metadata": {
    "collapsed": false,
    "scrolled": false
   },
   "outputs": [],
   "source": [
    "ss = myModule.format(r_df ,df3.columns[1] ,['子项目号'])\n",
    "ss.add_group('组别')\n",
    "#ss.get_average_by('子项目号')\n",
    "#ss.df.groupby([ss.x , ss.group_col]).sum().groupby([ss.x , ss.group_col]).mean()\n",
    "tt = myModule.myPlot(ss.groupby('count'))\n",
    "tt.plot('bar')"
   ]
  },
  {
   "cell_type": "markdown",
   "metadata": {},
   "source": [
    "## 三个组高质量报告数比较"
   ]
  },
  {
   "cell_type": "code",
   "execution_count": null,
   "metadata": {
    "collapsed": false,
    "scrolled": false
   },
   "outputs": [],
   "source": [
    "ss = myModule.format(r_df ,df3.columns[1] ,['是否提交报告'])\n",
    "ss.add_group('组别')\n",
    "ss.select_by_value('是否提交报告' , '是')\n",
    "tt = myModule.myPlot(ss.groupby('count'))\n",
    "tt.plot('bar')"
   ]
  },
  {
   "cell_type": "markdown",
   "metadata": {},
   "source": [
    "## 人均工时的比较"
   ]
  },
  {
   "cell_type": "code",
   "execution_count": null,
   "metadata": {
    "collapsed": false
   },
   "outputs": [],
   "source": [
    "ss = myModule.format(r_df ,r_df.columns[1] ,['总工时'])\n",
    "ss.add_group('组别')\n",
    "ss.get_average_by('子项目号')\n",
    "#ss.df.groupby([ss.x , ss.group_col]).sum().groupby([ss.x , ss.group_col]).mean()\n",
    "tt = myModule.myPlot(ss.groupby('sum'))\n",
    "tt.plot('bar',fig_title='单个项目工时周趋势图')"
   ]
  },
  {
   "cell_type": "markdown",
   "metadata": {},
   "source": [
    "## 人均项目数的比较"
   ]
  },
  {
   "cell_type": "code",
   "execution_count": null,
   "metadata": {
    "collapsed": false
   },
   "outputs": [],
   "source": [
    "ss = myModule.format(r_df ,r_df.columns[1] ,['子项目号'])\n",
    "ss.add_group('组别')\n",
    "ss.get_average_by('信息负责人')\n",
    "#ss.df.groupby([ss.x , ss.group_col]).sum().groupby([ss.x , ss.group_col]).mean()\n",
    "tt = myModule.myPlot(ss.groupby('count'))\n",
    "tt.plot('bar',fig_title='人均项目数周趋势图')"
   ]
  }
 ],
 "metadata": {
  "hide_input": false,
  "kernelspec": {
   "display_name": "Python 3",
   "language": "python",
   "name": "python3"
  },
  "language_info": {
   "codemirror_mode": {
    "name": "ipython",
    "version": 3
   },
   "file_extension": ".py",
   "mimetype": "text/x-python",
   "name": "python",
   "nbconvert_exporter": "python",
   "pygments_lexer": "ipython3",
   "version": "3.6.0"
  },
  "toc": {
   "base_numbering": 1,
   "nav_menu": {},
   "number_sections": true,
   "sideBar": true,
   "skip_h1_title": false,
   "title_cell": "Table of Contents",
   "title_sidebar": "Contents",
   "toc_cell": false,
   "toc_position": {
    "height": "calc(100% - 180px)",
    "left": "10px",
    "top": "150px",
    "width": "270.5px"
   },
   "toc_section_display": true,
   "toc_window_display": true
  }
 },
 "nbformat": 4,
 "nbformat_minor": 2
}
