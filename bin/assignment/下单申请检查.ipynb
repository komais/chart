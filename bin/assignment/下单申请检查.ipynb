{
 "cells": [
  {
   "cell_type": "code",
   "execution_count": 3,
   "metadata": {
    "collapsed": false
   },
   "outputs": [
    {
     "name": "stdout",
     "output_type": "stream",
     "text": [
      "The autoreload extension is already loaded. To reload it, use:\n",
      "  %reload_ext autoreload\n"
     ]
    }
   ],
   "source": [
    "%load_ext autoreload\n",
    "%autoreload 2"
   ]
  },
  {
   "cell_type": "code",
   "execution_count": 4,
   "metadata": {
    "collapsed": false
   },
   "outputs": [
    {
     "data": {
      "text/html": [
       "<script>requirejs.config({paths: { 'plotly': ['https://cdn.plot.ly/plotly-latest.min']},});if(!window.Plotly) {{require(['plotly'],function(plotly) {window.Plotly=plotly;});}}</script>"
      ],
      "text/vnd.plotly.v1+html": [
       "<script>requirejs.config({paths: { 'plotly': ['https://cdn.plot.ly/plotly-latest.min']},});if(!window.Plotly) {{require(['plotly'],function(plotly) {window.Plotly=plotly;});}}</script>"
      ]
     },
     "metadata": {},
     "output_type": "display_data"
    },
    {
     "data": {
      "text/html": [
       "<script>requirejs.config({paths: { 'plotly': ['https://cdn.plot.ly/plotly-latest.min']},});if(!window.Plotly) {{require(['plotly'],function(plotly) {window.Plotly=plotly;});}}</script>"
      ],
      "text/vnd.plotly.v1+html": [
       "<script>requirejs.config({paths: { 'plotly': ['https://cdn.plot.ly/plotly-latest.min']},});if(!window.Plotly) {{require(['plotly'],function(plotly) {window.Plotly=plotly;});}}</script>"
      ]
     },
     "metadata": {},
     "output_type": "display_data"
    },
    {
     "data": {
      "text/html": [
       "<script>requirejs.config({paths: { 'plotly': ['https://cdn.plot.ly/plotly-latest.min']},});if(!window.Plotly) {{require(['plotly'],function(plotly) {window.Plotly=plotly;});}}</script>"
      ],
      "text/vnd.plotly.v1+html": [
       "<script>requirejs.config({paths: { 'plotly': ['https://cdn.plot.ly/plotly-latest.min']},});if(!window.Plotly) {{require(['plotly'],function(plotly) {window.Plotly=plotly;});}}</script>"
      ]
     },
     "metadata": {},
     "output_type": "display_data"
    },
    {
     "data": {
      "text/html": [
       "<script>requirejs.config({paths: { 'plotly': ['https://cdn.plot.ly/plotly-latest.min']},});if(!window.Plotly) {{require(['plotly'],function(plotly) {window.Plotly=plotly;});}}</script>"
      ],
      "text/vnd.plotly.v1+html": [
       "<script>requirejs.config({paths: { 'plotly': ['https://cdn.plot.ly/plotly-latest.min']},});if(!window.Plotly) {{require(['plotly'],function(plotly) {window.Plotly=plotly;});}}</script>"
      ]
     },
     "metadata": {},
     "output_type": "display_data"
    },
    {
     "data": {
      "text/plain": [
       "<module 'myModule' from '/mnt/e/jupyter/bin/assignment/myModule.py'>"
      ]
     },
     "execution_count": 4,
     "metadata": {},
     "output_type": "execute_result"
    }
   ],
   "source": [
    "import sys\n",
    "sys.path.append('./')\n",
    "import xiadan_check\n",
    "import myModule\n",
    "import imp\n",
    "imp.reload(xiadan_check)\n",
    "imp.reload(myModule)\n"
   ]
  },
  {
   "cell_type": "markdown",
   "metadata": {},
   "source": [
    "# 医学组下单情况"
   ]
  },
  {
   "cell_type": "code",
   "execution_count": 7,
   "metadata": {
    "collapsed": true
   },
   "outputs": [],
   "source": [
    "pathway = '/mnt/e/工作/下单申请/2018第四季度/2018-10-15/new/'\n",
    "all_files  = xiadan_check.get_files(pathway, \"蛋白\",\"10-2\")   ##给路径\n",
    "df1  = xiadan_check.read_xlsx(all_files , 0 )## read all files sheet1"
   ]
  },
  {
   "cell_type": "markdown",
   "metadata": {},
   "source": [
    "## 医学组人员立项总工时情况"
   ]
  },
  {
   "cell_type": "code",
   "execution_count": 10,
   "metadata": {
    "collapsed": false
   },
   "outputs": [
    {
     "data": {
      "application/vnd.plotly.v1+json": {
       "data": [
        {
         "name": "总工时(封彦杰)",
         "type": "bar",
         "uid": "112a749c-d2dd-11e8-8102-a81e84e6c740",
         "x": [
          "10-2",
          "10-3"
         ],
         "y": [
          36,
          37
         ]
        },
        {
         "name": "总工时(苏彦勋)",
         "type": "bar",
         "uid": "112a7b4a-d2dd-11e8-8102-a81e84e6c740",
         "x": [
          "10-2",
          "10-3"
         ],
         "y": [
          null,
          40
         ]
        },
        {
         "name": "总工时(李庆原)",
         "type": "bar",
         "uid": "112a7f8c-d2dd-11e8-8102-a81e84e6c740",
         "x": [
          "10-2",
          "10-3"
         ],
         "y": [
          22,
          32
         ]
        },
        {
         "name": "总工时(孟昊)",
         "type": "bar",
         "uid": "112a8284-d2dd-11e8-8102-a81e84e6c740",
         "x": [
          "10-2",
          "10-3"
         ],
         "y": [
          31,
          36
         ]
        },
        {
         "name": "总工时(路慧萍)",
         "type": "bar",
         "uid": "112a8950-d2dd-11e8-8102-a81e84e6c740",
         "x": [
          "10-2",
          "10-3"
         ],
         "y": [
          28,
          35
         ]
        },
        {
         "name": "总工时(周杨)",
         "type": "bar",
         "uid": "112a8c52-d2dd-11e8-8102-a81e84e6c740",
         "x": [
          "10-2",
          "10-3"
         ],
         "y": [
          32,
          15
         ]
        },
        {
         "name": "总工时(于慧)",
         "type": "bar",
         "uid": "112a8e96-d2dd-11e8-8102-a81e84e6c740",
         "x": [
          "10-2",
          "10-3"
         ],
         "y": [
          37,
          34
         ]
        }
       ],
       "layout": {
        "title": "总工时周趋势图",
        "xaxis": {
         "mirror": "all",
         "nticks": 20,
         "showgrid": true,
         "showline": true,
         "title": "周",
         "type": "category",
         "zeroline": true
        },
        "yaxis": {
         "mirror": "all",
         "nticks": 20,
         "showgrid": true,
         "showline": true,
         "title": "总工时",
         "zeroline": true
        }
       }
      },
      "text/html": [
       "<div id=\"9653c9c6-9a08-42b9-9c07-04429751e33b\" style=\"height: 525px; width: 100%;\" class=\"plotly-graph-div\"></div><script type=\"text/javascript\">require([\"plotly\"], function(Plotly) { window.PLOTLYENV=window.PLOTLYENV || {};window.PLOTLYENV.BASE_URL=\"https://plot.ly\";Plotly.newPlot(\"9653c9c6-9a08-42b9-9c07-04429751e33b\", [{\"name\": \"\\u603b\\u5de5\\u65f6(\\u5c01\\u5f66\\u6770)\", \"x\": [\"10-2\", \"10-3\"], \"y\": [36.0, 37.0], \"type\": \"bar\", \"uid\": \"112a749c-d2dd-11e8-8102-a81e84e6c740\"}, {\"name\": \"\\u603b\\u5de5\\u65f6(\\u82cf\\u5f66\\u52cb)\", \"x\": [\"10-2\", \"10-3\"], \"y\": [null, 40.0], \"type\": \"bar\", \"uid\": \"112a7b4a-d2dd-11e8-8102-a81e84e6c740\"}, {\"name\": \"\\u603b\\u5de5\\u65f6(\\u674e\\u5e86\\u539f)\", \"x\": [\"10-2\", \"10-3\"], \"y\": [22.0, 32.0], \"type\": \"bar\", \"uid\": \"112a7f8c-d2dd-11e8-8102-a81e84e6c740\"}, {\"name\": \"\\u603b\\u5de5\\u65f6(\\u5b5f\\u660a)\", \"x\": [\"10-2\", \"10-3\"], \"y\": [31.0, 36.0], \"type\": \"bar\", \"uid\": \"112a8284-d2dd-11e8-8102-a81e84e6c740\"}, {\"name\": \"\\u603b\\u5de5\\u65f6(\\u8def\\u6167\\u840d)\", \"x\": [\"10-2\", \"10-3\"], \"y\": [28.0, 35.0], \"type\": \"bar\", \"uid\": \"112a8950-d2dd-11e8-8102-a81e84e6c740\"}, {\"name\": \"\\u603b\\u5de5\\u65f6(\\u5468\\u6768)\", \"x\": [\"10-2\", \"10-3\"], \"y\": [32.0, 15.0], \"type\": \"bar\", \"uid\": \"112a8c52-d2dd-11e8-8102-a81e84e6c740\"}, {\"name\": \"\\u603b\\u5de5\\u65f6(\\u4e8e\\u6167)\", \"x\": [\"10-2\", \"10-3\"], \"y\": [37.0, 34.0], \"type\": \"bar\", \"uid\": \"112a8e96-d2dd-11e8-8102-a81e84e6c740\"}], {\"title\": \"\\u603b\\u5de5\\u65f6\\u5468\\u8d8b\\u52bf\\u56fe\", \"xaxis\": {\"mirror\": \"all\", \"nticks\": 20, \"showgrid\": true, \"showline\": true, \"title\": \"\\u5468\", \"type\": \"category\", \"zeroline\": true}, \"yaxis\": {\"mirror\": \"all\", \"nticks\": 20, \"showgrid\": true, \"showline\": true, \"title\": \"\\u603b\\u5de5\\u65f6\", \"zeroline\": true}}, {\"showLink\": true, \"linkText\": \"Export to plot.ly\"})});</script>"
      ],
      "text/vnd.plotly.v1+html": [
       "<div id=\"9653c9c6-9a08-42b9-9c07-04429751e33b\" style=\"height: 525px; width: 100%;\" class=\"plotly-graph-div\"></div><script type=\"text/javascript\">require([\"plotly\"], function(Plotly) { window.PLOTLYENV=window.PLOTLYENV || {};window.PLOTLYENV.BASE_URL=\"https://plot.ly\";Plotly.newPlot(\"9653c9c6-9a08-42b9-9c07-04429751e33b\", [{\"name\": \"\\u603b\\u5de5\\u65f6(\\u5c01\\u5f66\\u6770)\", \"x\": [\"10-2\", \"10-3\"], \"y\": [36.0, 37.0], \"type\": \"bar\", \"uid\": \"112a749c-d2dd-11e8-8102-a81e84e6c740\"}, {\"name\": \"\\u603b\\u5de5\\u65f6(\\u82cf\\u5f66\\u52cb)\", \"x\": [\"10-2\", \"10-3\"], \"y\": [null, 40.0], \"type\": \"bar\", \"uid\": \"112a7b4a-d2dd-11e8-8102-a81e84e6c740\"}, {\"name\": \"\\u603b\\u5de5\\u65f6(\\u674e\\u5e86\\u539f)\", \"x\": [\"10-2\", \"10-3\"], \"y\": [22.0, 32.0], \"type\": \"bar\", \"uid\": \"112a7f8c-d2dd-11e8-8102-a81e84e6c740\"}, {\"name\": \"\\u603b\\u5de5\\u65f6(\\u5b5f\\u660a)\", \"x\": [\"10-2\", \"10-3\"], \"y\": [31.0, 36.0], \"type\": \"bar\", \"uid\": \"112a8284-d2dd-11e8-8102-a81e84e6c740\"}, {\"name\": \"\\u603b\\u5de5\\u65f6(\\u8def\\u6167\\u840d)\", \"x\": [\"10-2\", \"10-3\"], \"y\": [28.0, 35.0], \"type\": \"bar\", \"uid\": \"112a8950-d2dd-11e8-8102-a81e84e6c740\"}, {\"name\": \"\\u603b\\u5de5\\u65f6(\\u5468\\u6768)\", \"x\": [\"10-2\", \"10-3\"], \"y\": [32.0, 15.0], \"type\": \"bar\", \"uid\": \"112a8c52-d2dd-11e8-8102-a81e84e6c740\"}, {\"name\": \"\\u603b\\u5de5\\u65f6(\\u4e8e\\u6167)\", \"x\": [\"10-2\", \"10-3\"], \"y\": [37.0, 34.0], \"type\": \"bar\", \"uid\": \"112a8e96-d2dd-11e8-8102-a81e84e6c740\"}], {\"title\": \"\\u603b\\u5de5\\u65f6\\u5468\\u8d8b\\u52bf\\u56fe\", \"xaxis\": {\"mirror\": \"all\", \"nticks\": 20, \"showgrid\": true, \"showline\": true, \"title\": \"\\u5468\", \"type\": \"category\", \"zeroline\": true}, \"yaxis\": {\"mirror\": \"all\", \"nticks\": 20, \"showgrid\": true, \"showline\": true, \"title\": \"\\u603b\\u5de5\\u65f6\", \"zeroline\": true}}, {\"showLink\": true, \"linkText\": \"Export to plot.ly\"})});</script>"
      ]
     },
     "metadata": {},
     "output_type": "display_data"
    }
   ],
   "source": [
    "ss = myModule.format(df1 ,df1.columns[1] ,['总工时'])\n",
    "ss.add_group('信息负责人')\n",
    "tt = myModule.myPlot(ss.groupby('sum'))\n",
    "tt.plot('bar')"
   ]
  },
  {
   "cell_type": "markdown",
   "metadata": {},
   "source": [
    "## 医学组人员立项下单个数情况"
   ]
  },
  {
   "cell_type": "code",
   "execution_count": 12,
   "metadata": {
    "collapsed": false
   },
   "outputs": [
    {
     "data": {
      "application/vnd.plotly.v1+json": {
       "data": [
        {
         "name": "子项目编号(封彦杰)",
         "type": "bar",
         "uid": "3fec610a-d2dd-11e8-8102-a81e84e6c740",
         "x": [
          "10-2",
          "10-3"
         ],
         "y": [
          7,
          6
         ]
        },
        {
         "name": "子项目编号(苏彦勋)",
         "type": "bar",
         "uid": "3fec64a2-d2dd-11e8-8102-a81e84e6c740",
         "x": [
          "10-2",
          "10-3"
         ],
         "y": [
          null,
          7
         ]
        },
        {
         "name": "子项目编号(李庆原)",
         "type": "bar",
         "uid": "3fec6740-d2dd-11e8-8102-a81e84e6c740",
         "x": [
          "10-2",
          "10-3"
         ],
         "y": [
          6,
          5
         ]
        },
        {
         "name": "子项目编号(孟昊)",
         "type": "bar",
         "uid": "3fec69e8-d2dd-11e8-8102-a81e84e6c740",
         "x": [
          "10-2",
          "10-3"
         ],
         "y": [
          7,
          7
         ]
        },
        {
         "name": "子项目编号(路慧萍)",
         "type": "bar",
         "uid": "3fec6bdc-d2dd-11e8-8102-a81e84e6c740",
         "x": [
          "10-2",
          "10-3"
         ],
         "y": [
          5,
          6
         ]
        },
        {
         "name": "子项目编号(周杨)",
         "type": "bar",
         "uid": "3fec6e70-d2dd-11e8-8102-a81e84e6c740",
         "x": [
          "10-2",
          "10-3"
         ],
         "y": [
          6,
          3
         ]
        },
        {
         "name": "子项目编号(于慧)",
         "type": "bar",
         "uid": "3fec7050-d2dd-11e8-8102-a81e84e6c740",
         "x": [
          "10-2",
          "10-3"
         ],
         "y": [
          6,
          6
         ]
        }
       ],
       "layout": {
        "title": "子项目编号周趋势图",
        "xaxis": {
         "mirror": "all",
         "nticks": 20,
         "showgrid": true,
         "showline": true,
         "title": "周",
         "type": "category",
         "zeroline": true
        },
        "yaxis": {
         "mirror": "all",
         "nticks": 20,
         "showgrid": true,
         "showline": true,
         "title": "子项目编号",
         "zeroline": true
        }
       }
      },
      "text/html": [
       "<div id=\"1fabb506-14cd-4614-8eaf-4e3348e9539e\" style=\"height: 525px; width: 100%;\" class=\"plotly-graph-div\"></div><script type=\"text/javascript\">require([\"plotly\"], function(Plotly) { window.PLOTLYENV=window.PLOTLYENV || {};window.PLOTLYENV.BASE_URL=\"https://plot.ly\";Plotly.newPlot(\"1fabb506-14cd-4614-8eaf-4e3348e9539e\", [{\"name\": \"\\u5b50\\u9879\\u76ee\\u7f16\\u53f7(\\u5c01\\u5f66\\u6770)\", \"x\": [\"10-2\", \"10-3\"], \"y\": [7.0, 6.0], \"type\": \"bar\", \"uid\": \"3fec610a-d2dd-11e8-8102-a81e84e6c740\"}, {\"name\": \"\\u5b50\\u9879\\u76ee\\u7f16\\u53f7(\\u82cf\\u5f66\\u52cb)\", \"x\": [\"10-2\", \"10-3\"], \"y\": [null, 7.0], \"type\": \"bar\", \"uid\": \"3fec64a2-d2dd-11e8-8102-a81e84e6c740\"}, {\"name\": \"\\u5b50\\u9879\\u76ee\\u7f16\\u53f7(\\u674e\\u5e86\\u539f)\", \"x\": [\"10-2\", \"10-3\"], \"y\": [6.0, 5.0], \"type\": \"bar\", \"uid\": \"3fec6740-d2dd-11e8-8102-a81e84e6c740\"}, {\"name\": \"\\u5b50\\u9879\\u76ee\\u7f16\\u53f7(\\u5b5f\\u660a)\", \"x\": [\"10-2\", \"10-3\"], \"y\": [7.0, 7.0], \"type\": \"bar\", \"uid\": \"3fec69e8-d2dd-11e8-8102-a81e84e6c740\"}, {\"name\": \"\\u5b50\\u9879\\u76ee\\u7f16\\u53f7(\\u8def\\u6167\\u840d)\", \"x\": [\"10-2\", \"10-3\"], \"y\": [5.0, 6.0], \"type\": \"bar\", \"uid\": \"3fec6bdc-d2dd-11e8-8102-a81e84e6c740\"}, {\"name\": \"\\u5b50\\u9879\\u76ee\\u7f16\\u53f7(\\u5468\\u6768)\", \"x\": [\"10-2\", \"10-3\"], \"y\": [6.0, 3.0], \"type\": \"bar\", \"uid\": \"3fec6e70-d2dd-11e8-8102-a81e84e6c740\"}, {\"name\": \"\\u5b50\\u9879\\u76ee\\u7f16\\u53f7(\\u4e8e\\u6167)\", \"x\": [\"10-2\", \"10-3\"], \"y\": [6.0, 6.0], \"type\": \"bar\", \"uid\": \"3fec7050-d2dd-11e8-8102-a81e84e6c740\"}], {\"title\": \"\\u5b50\\u9879\\u76ee\\u7f16\\u53f7\\u5468\\u8d8b\\u52bf\\u56fe\", \"xaxis\": {\"mirror\": \"all\", \"nticks\": 20, \"showgrid\": true, \"showline\": true, \"title\": \"\\u5468\", \"type\": \"category\", \"zeroline\": true}, \"yaxis\": {\"mirror\": \"all\", \"nticks\": 20, \"showgrid\": true, \"showline\": true, \"title\": \"\\u5b50\\u9879\\u76ee\\u7f16\\u53f7\", \"zeroline\": true}}, {\"showLink\": true, \"linkText\": \"Export to plot.ly\"})});</script>"
      ],
      "text/vnd.plotly.v1+html": [
       "<div id=\"1fabb506-14cd-4614-8eaf-4e3348e9539e\" style=\"height: 525px; width: 100%;\" class=\"plotly-graph-div\"></div><script type=\"text/javascript\">require([\"plotly\"], function(Plotly) { window.PLOTLYENV=window.PLOTLYENV || {};window.PLOTLYENV.BASE_URL=\"https://plot.ly\";Plotly.newPlot(\"1fabb506-14cd-4614-8eaf-4e3348e9539e\", [{\"name\": \"\\u5b50\\u9879\\u76ee\\u7f16\\u53f7(\\u5c01\\u5f66\\u6770)\", \"x\": [\"10-2\", \"10-3\"], \"y\": [7.0, 6.0], \"type\": \"bar\", \"uid\": \"3fec610a-d2dd-11e8-8102-a81e84e6c740\"}, {\"name\": \"\\u5b50\\u9879\\u76ee\\u7f16\\u53f7(\\u82cf\\u5f66\\u52cb)\", \"x\": [\"10-2\", \"10-3\"], \"y\": [null, 7.0], \"type\": \"bar\", \"uid\": \"3fec64a2-d2dd-11e8-8102-a81e84e6c740\"}, {\"name\": \"\\u5b50\\u9879\\u76ee\\u7f16\\u53f7(\\u674e\\u5e86\\u539f)\", \"x\": [\"10-2\", \"10-3\"], \"y\": [6.0, 5.0], \"type\": \"bar\", \"uid\": \"3fec6740-d2dd-11e8-8102-a81e84e6c740\"}, {\"name\": \"\\u5b50\\u9879\\u76ee\\u7f16\\u53f7(\\u5b5f\\u660a)\", \"x\": [\"10-2\", \"10-3\"], \"y\": [7.0, 7.0], \"type\": \"bar\", \"uid\": \"3fec69e8-d2dd-11e8-8102-a81e84e6c740\"}, {\"name\": \"\\u5b50\\u9879\\u76ee\\u7f16\\u53f7(\\u8def\\u6167\\u840d)\", \"x\": [\"10-2\", \"10-3\"], \"y\": [5.0, 6.0], \"type\": \"bar\", \"uid\": \"3fec6bdc-d2dd-11e8-8102-a81e84e6c740\"}, {\"name\": \"\\u5b50\\u9879\\u76ee\\u7f16\\u53f7(\\u5468\\u6768)\", \"x\": [\"10-2\", \"10-3\"], \"y\": [6.0, 3.0], \"type\": \"bar\", \"uid\": \"3fec6e70-d2dd-11e8-8102-a81e84e6c740\"}, {\"name\": \"\\u5b50\\u9879\\u76ee\\u7f16\\u53f7(\\u4e8e\\u6167)\", \"x\": [\"10-2\", \"10-3\"], \"y\": [6.0, 6.0], \"type\": \"bar\", \"uid\": \"3fec7050-d2dd-11e8-8102-a81e84e6c740\"}], {\"title\": \"\\u5b50\\u9879\\u76ee\\u7f16\\u53f7\\u5468\\u8d8b\\u52bf\\u56fe\", \"xaxis\": {\"mirror\": \"all\", \"nticks\": 20, \"showgrid\": true, \"showline\": true, \"title\": \"\\u5468\", \"type\": \"category\", \"zeroline\": true}, \"yaxis\": {\"mirror\": \"all\", \"nticks\": 20, \"showgrid\": true, \"showline\": true, \"title\": \"\\u5b50\\u9879\\u76ee\\u7f16\\u53f7\", \"zeroline\": true}}, {\"showLink\": true, \"linkText\": \"Export to plot.ly\"})});</script>"
      ]
     },
     "metadata": {},
     "output_type": "display_data"
    }
   ],
   "source": [
    "ss = myModule.format(df1 ,df1.columns[1],['子项目编号'])\n",
    "ss.add_group('信息负责人')\n",
    "tt = myModule.myPlot(ss.groupby('count'))\n",
    "tt.plot('bar')"
   ]
  },
  {
   "cell_type": "markdown",
   "metadata": {},
   "source": [
    "## 医学组人员立项人均工时情况"
   ]
  },
  {
   "cell_type": "code",
   "execution_count": 14,
   "metadata": {
    "collapsed": false
   },
   "outputs": [
    {
     "data": {
      "application/vnd.plotly.v1+json": {
       "data": [
        {
         "name": "总工时(封彦杰)",
         "type": "bar",
         "uid": "47a14442-d2dd-11e8-8102-a81e84e6c740",
         "x": [
          "10-2",
          "10-3"
         ],
         "y": [
          5.142857142857143,
          6.166666666666667
         ]
        },
        {
         "name": "总工时(苏彦勋)",
         "type": "bar",
         "uid": "47a14852-d2dd-11e8-8102-a81e84e6c740",
         "x": [
          "10-2",
          "10-3"
         ],
         "y": [
          null,
          5.714285714285714
         ]
        },
        {
         "name": "总工时(李庆原)",
         "type": "bar",
         "uid": "47a14ab4-d2dd-11e8-8102-a81e84e6c740",
         "x": [
          "10-2",
          "10-3"
         ],
         "y": [
          3.6666666666666665,
          6.4
         ]
        },
        {
         "name": "总工时(孟昊)",
         "type": "bar",
         "uid": "47a14cc6-d2dd-11e8-8102-a81e84e6c740",
         "x": [
          "10-2",
          "10-3"
         ],
         "y": [
          4.428571428571429,
          5.142857142857143
         ]
        },
        {
         "name": "总工时(路慧萍)",
         "type": "bar",
         "uid": "47a14ece-d2dd-11e8-8102-a81e84e6c740",
         "x": [
          "10-2",
          "10-3"
         ],
         "y": [
          5.6,
          5.833333333333333
         ]
        },
        {
         "name": "总工时(周杨)",
         "type": "bar",
         "uid": "47a150e0-d2dd-11e8-8102-a81e84e6c740",
         "x": [
          "10-2",
          "10-3"
         ],
         "y": [
          5.333333333333333,
          5
         ]
        },
        {
         "name": "总工时(于慧)",
         "type": "bar",
         "uid": "47a152ca-d2dd-11e8-8102-a81e84e6c740",
         "x": [
          "10-2",
          "10-3"
         ],
         "y": [
          6.166666666666667,
          5.666666666666667
         ]
        }
       ],
       "layout": {
        "title": "总工时周趋势图",
        "xaxis": {
         "mirror": "all",
         "nticks": 20,
         "showgrid": true,
         "showline": true,
         "title": "周",
         "type": "category",
         "zeroline": true
        },
        "yaxis": {
         "mirror": "all",
         "nticks": 20,
         "showgrid": true,
         "showline": true,
         "title": "总工时",
         "zeroline": true
        }
       }
      },
      "text/html": [
       "<div id=\"3ae363cf-25d3-400b-9c01-894b88dcfdde\" style=\"height: 525px; width: 100%;\" class=\"plotly-graph-div\"></div><script type=\"text/javascript\">require([\"plotly\"], function(Plotly) { window.PLOTLYENV=window.PLOTLYENV || {};window.PLOTLYENV.BASE_URL=\"https://plot.ly\";Plotly.newPlot(\"3ae363cf-25d3-400b-9c01-894b88dcfdde\", [{\"name\": \"\\u603b\\u5de5\\u65f6(\\u5c01\\u5f66\\u6770)\", \"x\": [\"10-2\", \"10-3\"], \"y\": [5.142857142857143, 6.166666666666667], \"type\": \"bar\", \"uid\": \"47a14442-d2dd-11e8-8102-a81e84e6c740\"}, {\"name\": \"\\u603b\\u5de5\\u65f6(\\u82cf\\u5f66\\u52cb)\", \"x\": [\"10-2\", \"10-3\"], \"y\": [null, 5.714285714285714], \"type\": \"bar\", \"uid\": \"47a14852-d2dd-11e8-8102-a81e84e6c740\"}, {\"name\": \"\\u603b\\u5de5\\u65f6(\\u674e\\u5e86\\u539f)\", \"x\": [\"10-2\", \"10-3\"], \"y\": [3.6666666666666665, 6.4], \"type\": \"bar\", \"uid\": \"47a14ab4-d2dd-11e8-8102-a81e84e6c740\"}, {\"name\": \"\\u603b\\u5de5\\u65f6(\\u5b5f\\u660a)\", \"x\": [\"10-2\", \"10-3\"], \"y\": [4.428571428571429, 5.142857142857143], \"type\": \"bar\", \"uid\": \"47a14cc6-d2dd-11e8-8102-a81e84e6c740\"}, {\"name\": \"\\u603b\\u5de5\\u65f6(\\u8def\\u6167\\u840d)\", \"x\": [\"10-2\", \"10-3\"], \"y\": [5.6, 5.833333333333333], \"type\": \"bar\", \"uid\": \"47a14ece-d2dd-11e8-8102-a81e84e6c740\"}, {\"name\": \"\\u603b\\u5de5\\u65f6(\\u5468\\u6768)\", \"x\": [\"10-2\", \"10-3\"], \"y\": [5.333333333333333, 5.0], \"type\": \"bar\", \"uid\": \"47a150e0-d2dd-11e8-8102-a81e84e6c740\"}, {\"name\": \"\\u603b\\u5de5\\u65f6(\\u4e8e\\u6167)\", \"x\": [\"10-2\", \"10-3\"], \"y\": [6.166666666666667, 5.666666666666667], \"type\": \"bar\", \"uid\": \"47a152ca-d2dd-11e8-8102-a81e84e6c740\"}], {\"title\": \"\\u603b\\u5de5\\u65f6\\u5468\\u8d8b\\u52bf\\u56fe\", \"xaxis\": {\"mirror\": \"all\", \"nticks\": 20, \"showgrid\": true, \"showline\": true, \"title\": \"\\u5468\", \"type\": \"category\", \"zeroline\": true}, \"yaxis\": {\"mirror\": \"all\", \"nticks\": 20, \"showgrid\": true, \"showline\": true, \"title\": \"\\u603b\\u5de5\\u65f6\", \"zeroline\": true}}, {\"showLink\": true, \"linkText\": \"Export to plot.ly\"})});</script>"
      ],
      "text/vnd.plotly.v1+html": [
       "<div id=\"3ae363cf-25d3-400b-9c01-894b88dcfdde\" style=\"height: 525px; width: 100%;\" class=\"plotly-graph-div\"></div><script type=\"text/javascript\">require([\"plotly\"], function(Plotly) { window.PLOTLYENV=window.PLOTLYENV || {};window.PLOTLYENV.BASE_URL=\"https://plot.ly\";Plotly.newPlot(\"3ae363cf-25d3-400b-9c01-894b88dcfdde\", [{\"name\": \"\\u603b\\u5de5\\u65f6(\\u5c01\\u5f66\\u6770)\", \"x\": [\"10-2\", \"10-3\"], \"y\": [5.142857142857143, 6.166666666666667], \"type\": \"bar\", \"uid\": \"47a14442-d2dd-11e8-8102-a81e84e6c740\"}, {\"name\": \"\\u603b\\u5de5\\u65f6(\\u82cf\\u5f66\\u52cb)\", \"x\": [\"10-2\", \"10-3\"], \"y\": [null, 5.714285714285714], \"type\": \"bar\", \"uid\": \"47a14852-d2dd-11e8-8102-a81e84e6c740\"}, {\"name\": \"\\u603b\\u5de5\\u65f6(\\u674e\\u5e86\\u539f)\", \"x\": [\"10-2\", \"10-3\"], \"y\": [3.6666666666666665, 6.4], \"type\": \"bar\", \"uid\": \"47a14ab4-d2dd-11e8-8102-a81e84e6c740\"}, {\"name\": \"\\u603b\\u5de5\\u65f6(\\u5b5f\\u660a)\", \"x\": [\"10-2\", \"10-3\"], \"y\": [4.428571428571429, 5.142857142857143], \"type\": \"bar\", \"uid\": \"47a14cc6-d2dd-11e8-8102-a81e84e6c740\"}, {\"name\": \"\\u603b\\u5de5\\u65f6(\\u8def\\u6167\\u840d)\", \"x\": [\"10-2\", \"10-3\"], \"y\": [5.6, 5.833333333333333], \"type\": \"bar\", \"uid\": \"47a14ece-d2dd-11e8-8102-a81e84e6c740\"}, {\"name\": \"\\u603b\\u5de5\\u65f6(\\u5468\\u6768)\", \"x\": [\"10-2\", \"10-3\"], \"y\": [5.333333333333333, 5.0], \"type\": \"bar\", \"uid\": \"47a150e0-d2dd-11e8-8102-a81e84e6c740\"}, {\"name\": \"\\u603b\\u5de5\\u65f6(\\u4e8e\\u6167)\", \"x\": [\"10-2\", \"10-3\"], \"y\": [6.166666666666667, 5.666666666666667], \"type\": \"bar\", \"uid\": \"47a152ca-d2dd-11e8-8102-a81e84e6c740\"}], {\"title\": \"\\u603b\\u5de5\\u65f6\\u5468\\u8d8b\\u52bf\\u56fe\", \"xaxis\": {\"mirror\": \"all\", \"nticks\": 20, \"showgrid\": true, \"showline\": true, \"title\": \"\\u5468\", \"type\": \"category\", \"zeroline\": true}, \"yaxis\": {\"mirror\": \"all\", \"nticks\": 20, \"showgrid\": true, \"showline\": true, \"title\": \"\\u603b\\u5de5\\u65f6\", \"zeroline\": true}}, {\"showLink\": true, \"linkText\": \"Export to plot.ly\"})});</script>"
      ]
     },
     "metadata": {},
     "output_type": "display_data"
    }
   ],
   "source": [
    "ss = myModule.format(df1 ,df1.columns[1] ,['总工时'])\n",
    "ss.add_group('信息负责人')\n",
    "ss.get_average_by('子项目编号')\n",
    "#ss.df.groupby([ss.x , ss.group_col]).sum().groupby([ss.x , ss.group_col]).mean()\n",
    "tt = myModule.myPlot(ss.groupby('sum'))\n",
    "tt.plot('bar')"
   ]
  },
  {
   "cell_type": "markdown",
   "metadata": {},
   "source": [
    "## 产品研发来源趋势图"
   ]
  },
  {
   "cell_type": "markdown",
   "metadata": {},
   "source": [
    "### 个数"
   ]
  },
  {
   "cell_type": "code",
   "execution_count": 15,
   "metadata": {
    "collapsed": false
   },
   "outputs": [
    {
     "data": {
      "application/vnd.plotly.v1+json": {
       "data": [
        {
         "name": "子项目编号(商业项目)",
         "type": "bar",
         "uid": "550c1e22-d2dd-11e8-8102-a81e84e6c740",
         "x": [
          "10-2",
          "10-3"
         ],
         "y": [
          13,
          18
         ]
        },
        {
         "name": "子项目编号(研发项目)",
         "type": "bar",
         "uid": "550c2304-d2dd-11e8-8102-a81e84e6c740",
         "x": [
          "10-2",
          "10-3"
         ],
         "y": [
          24,
          22
         ]
        }
       ],
       "layout": {
        "title": "子项目编号周趋势图",
        "xaxis": {
         "mirror": "all",
         "nticks": 20,
         "showgrid": true,
         "showline": true,
         "title": "周",
         "type": "category",
         "zeroline": true
        },
        "yaxis": {
         "mirror": "all",
         "nticks": 20,
         "showgrid": true,
         "showline": true,
         "title": "子项目编号",
         "zeroline": true
        }
       }
      },
      "text/html": [
       "<div id=\"b6133ada-99a8-44b0-85fa-7fcdb2681550\" style=\"height: 525px; width: 100%;\" class=\"plotly-graph-div\"></div><script type=\"text/javascript\">require([\"plotly\"], function(Plotly) { window.PLOTLYENV=window.PLOTLYENV || {};window.PLOTLYENV.BASE_URL=\"https://plot.ly\";Plotly.newPlot(\"b6133ada-99a8-44b0-85fa-7fcdb2681550\", [{\"name\": \"\\u5b50\\u9879\\u76ee\\u7f16\\u53f7(\\u5546\\u4e1a\\u9879\\u76ee)\", \"x\": [\"10-2\", \"10-3\"], \"y\": [13, 18], \"type\": \"bar\", \"uid\": \"550c1e22-d2dd-11e8-8102-a81e84e6c740\"}, {\"name\": \"\\u5b50\\u9879\\u76ee\\u7f16\\u53f7(\\u7814\\u53d1\\u9879\\u76ee)\", \"x\": [\"10-2\", \"10-3\"], \"y\": [24, 22], \"type\": \"bar\", \"uid\": \"550c2304-d2dd-11e8-8102-a81e84e6c740\"}], {\"title\": \"\\u5b50\\u9879\\u76ee\\u7f16\\u53f7\\u5468\\u8d8b\\u52bf\\u56fe\", \"xaxis\": {\"mirror\": \"all\", \"nticks\": 20, \"showgrid\": true, \"showline\": true, \"title\": \"\\u5468\", \"type\": \"category\", \"zeroline\": true}, \"yaxis\": {\"mirror\": \"all\", \"nticks\": 20, \"showgrid\": true, \"showline\": true, \"title\": \"\\u5b50\\u9879\\u76ee\\u7f16\\u53f7\", \"zeroline\": true}}, {\"showLink\": true, \"linkText\": \"Export to plot.ly\"})});</script>"
      ],
      "text/vnd.plotly.v1+html": [
       "<div id=\"b6133ada-99a8-44b0-85fa-7fcdb2681550\" style=\"height: 525px; width: 100%;\" class=\"plotly-graph-div\"></div><script type=\"text/javascript\">require([\"plotly\"], function(Plotly) { window.PLOTLYENV=window.PLOTLYENV || {};window.PLOTLYENV.BASE_URL=\"https://plot.ly\";Plotly.newPlot(\"b6133ada-99a8-44b0-85fa-7fcdb2681550\", [{\"name\": \"\\u5b50\\u9879\\u76ee\\u7f16\\u53f7(\\u5546\\u4e1a\\u9879\\u76ee)\", \"x\": [\"10-2\", \"10-3\"], \"y\": [13, 18], \"type\": \"bar\", \"uid\": \"550c1e22-d2dd-11e8-8102-a81e84e6c740\"}, {\"name\": \"\\u5b50\\u9879\\u76ee\\u7f16\\u53f7(\\u7814\\u53d1\\u9879\\u76ee)\", \"x\": [\"10-2\", \"10-3\"], \"y\": [24, 22], \"type\": \"bar\", \"uid\": \"550c2304-d2dd-11e8-8102-a81e84e6c740\"}], {\"title\": \"\\u5b50\\u9879\\u76ee\\u7f16\\u53f7\\u5468\\u8d8b\\u52bf\\u56fe\", \"xaxis\": {\"mirror\": \"all\", \"nticks\": 20, \"showgrid\": true, \"showline\": true, \"title\": \"\\u5468\", \"type\": \"category\", \"zeroline\": true}, \"yaxis\": {\"mirror\": \"all\", \"nticks\": 20, \"showgrid\": true, \"showline\": true, \"title\": \"\\u5b50\\u9879\\u76ee\\u7f16\\u53f7\", \"zeroline\": true}}, {\"showLink\": true, \"linkText\": \"Export to plot.ly\"})});</script>"
      ]
     },
     "metadata": {},
     "output_type": "display_data"
    }
   ],
   "source": [
    "ss = myModule.format(df1 ,df1.columns[1] ,['子项目编号'])\n",
    "ss.add_group('产品大类（研发项目/商业项目）')\n",
    "#ss.get_average_by('子项目号')\n",
    "#ss.df.groupby([ss.x , ss.group_col]).sum().groupby([ss.x , ss.group_col]).mean()\n",
    "tt = myModule.myPlot(ss.groupby('count'))\n",
    "tt.plot('bar')"
   ]
  },
  {
   "cell_type": "markdown",
   "metadata": {},
   "source": [
    "### 工时"
   ]
  },
  {
   "cell_type": "code",
   "execution_count": 16,
   "metadata": {
    "collapsed": false
   },
   "outputs": [
    {
     "data": {
      "application/vnd.plotly.v1+json": {
       "data": [
        {
         "name": "总工时(商业项目)",
         "type": "bar",
         "uid": "690c8722-d2dd-11e8-8102-a81e84e6c740",
         "x": [
          "10-2",
          "10-3"
         ],
         "y": [
          59,
          112
         ]
        },
        {
         "name": "总工时(研发项目)",
         "type": "bar",
         "uid": "690c8aa6-d2dd-11e8-8102-a81e84e6c740",
         "x": [
          "10-2",
          "10-3"
         ],
         "y": [
          127,
          117
         ]
        }
       ],
       "layout": {
        "title": "总工时周趋势图",
        "xaxis": {
         "mirror": "all",
         "nticks": 20,
         "showgrid": true,
         "showline": true,
         "title": "周",
         "type": "category",
         "zeroline": true
        },
        "yaxis": {
         "mirror": "all",
         "nticks": 20,
         "showgrid": true,
         "showline": true,
         "title": "总工时",
         "zeroline": true
        }
       }
      },
      "text/html": [
       "<div id=\"6442cf17-defe-44c1-aaf6-97712098d149\" style=\"height: 525px; width: 100%;\" class=\"plotly-graph-div\"></div><script type=\"text/javascript\">require([\"plotly\"], function(Plotly) { window.PLOTLYENV=window.PLOTLYENV || {};window.PLOTLYENV.BASE_URL=\"https://plot.ly\";Plotly.newPlot(\"6442cf17-defe-44c1-aaf6-97712098d149\", [{\"name\": \"\\u603b\\u5de5\\u65f6(\\u5546\\u4e1a\\u9879\\u76ee)\", \"x\": [\"10-2\", \"10-3\"], \"y\": [59, 112], \"type\": \"bar\", \"uid\": \"690c8722-d2dd-11e8-8102-a81e84e6c740\"}, {\"name\": \"\\u603b\\u5de5\\u65f6(\\u7814\\u53d1\\u9879\\u76ee)\", \"x\": [\"10-2\", \"10-3\"], \"y\": [127, 117], \"type\": \"bar\", \"uid\": \"690c8aa6-d2dd-11e8-8102-a81e84e6c740\"}], {\"title\": \"\\u603b\\u5de5\\u65f6\\u5468\\u8d8b\\u52bf\\u56fe\", \"xaxis\": {\"mirror\": \"all\", \"nticks\": 20, \"showgrid\": true, \"showline\": true, \"title\": \"\\u5468\", \"type\": \"category\", \"zeroline\": true}, \"yaxis\": {\"mirror\": \"all\", \"nticks\": 20, \"showgrid\": true, \"showline\": true, \"title\": \"\\u603b\\u5de5\\u65f6\", \"zeroline\": true}}, {\"showLink\": true, \"linkText\": \"Export to plot.ly\"})});</script>"
      ],
      "text/vnd.plotly.v1+html": [
       "<div id=\"6442cf17-defe-44c1-aaf6-97712098d149\" style=\"height: 525px; width: 100%;\" class=\"plotly-graph-div\"></div><script type=\"text/javascript\">require([\"plotly\"], function(Plotly) { window.PLOTLYENV=window.PLOTLYENV || {};window.PLOTLYENV.BASE_URL=\"https://plot.ly\";Plotly.newPlot(\"6442cf17-defe-44c1-aaf6-97712098d149\", [{\"name\": \"\\u603b\\u5de5\\u65f6(\\u5546\\u4e1a\\u9879\\u76ee)\", \"x\": [\"10-2\", \"10-3\"], \"y\": [59, 112], \"type\": \"bar\", \"uid\": \"690c8722-d2dd-11e8-8102-a81e84e6c740\"}, {\"name\": \"\\u603b\\u5de5\\u65f6(\\u7814\\u53d1\\u9879\\u76ee)\", \"x\": [\"10-2\", \"10-3\"], \"y\": [127, 117], \"type\": \"bar\", \"uid\": \"690c8aa6-d2dd-11e8-8102-a81e84e6c740\"}], {\"title\": \"\\u603b\\u5de5\\u65f6\\u5468\\u8d8b\\u52bf\\u56fe\", \"xaxis\": {\"mirror\": \"all\", \"nticks\": 20, \"showgrid\": true, \"showline\": true, \"title\": \"\\u5468\", \"type\": \"category\", \"zeroline\": true}, \"yaxis\": {\"mirror\": \"all\", \"nticks\": 20, \"showgrid\": true, \"showline\": true, \"title\": \"\\u603b\\u5de5\\u65f6\", \"zeroline\": true}}, {\"showLink\": true, \"linkText\": \"Export to plot.ly\"})});</script>"
      ]
     },
     "metadata": {},
     "output_type": "display_data"
    }
   ],
   "source": [
    "ss = myModule.format(df1 ,df1.columns[1] ,['总工时'])\n",
    "ss.add_group('产品大类（研发项目/商业项目）')\n",
    "#ss.get_average_by('子项目号')\n",
    "#ss.df.groupby([ss.x , ss.group_col]).sum().groupby([ss.x , ss.group_col]).mean()\n",
    "tt = myModule.myPlot(ss.groupby('sum'))\n",
    "tt.plot('bar')"
   ]
  },
  {
   "cell_type": "markdown",
   "metadata": {},
   "source": [
    "## 各产品占比"
   ]
  },
  {
   "cell_type": "markdown",
   "metadata": {},
   "source": [
    "### 个数"
   ]
  },
  {
   "cell_type": "code",
   "execution_count": 17,
   "metadata": {
    "collapsed": false,
    "scrolled": false
   },
   "outputs": [
    {
     "data": {
      "application/vnd.plotly.v1+json": {
       "data": [
        {
         "name": "子项目编号(医学癌症)",
         "type": "bar",
         "uid": "7cd794ea-d2dd-11e8-8102-a81e84e6c740",
         "x": [
          "10-2",
          "10-3"
         ],
         "y": [
          null,
          7
         ]
        },
        {
         "name": "子项目编号(医学转录组)",
         "type": "bar",
         "uid": "7cd799e0-d2dd-11e8-8102-a81e84e6c740",
         "x": [
          "10-2",
          "10-3"
         ],
         "y": [
          7,
          null
         ]
        },
        {
         "name": "子项目编号(复杂疾病)",
         "type": "bar",
         "uid": "7cd79d78-d2dd-11e8-8102-a81e84e6c740",
         "x": [
          "10-2",
          "10-3"
         ],
         "y": [
          11,
          9
         ]
        },
        {
         "name": "子项目编号(新生抗原)",
         "type": "bar",
         "uid": "7cd7a016-d2dd-11e8-8102-a81e84e6c740",
         "x": [
          "10-2",
          "10-3"
         ],
         "y": [
          4,
          2
         ]
        },
        {
         "name": "子项目编号(肿瘤外显子)",
         "type": "bar",
         "uid": "7cd7a23c-d2dd-11e8-8102-a81e84e6c740",
         "x": [
          "10-2",
          "10-3"
         ],
         "y": [
          null,
          6
         ]
        },
        {
         "name": "子项目编号(单基因病外显子)",
         "type": "bar",
         "uid": "7cd7a43a-d2dd-11e8-8102-a81e84e6c740",
         "x": [
          "10-2",
          "10-3"
         ],
         "y": [
          4,
          2
         ]
        },
        {
         "name": "子项目编号(肿瘤人重)",
         "type": "bar",
         "uid": "7cd7a62e-d2dd-11e8-8102-a81e84e6c740",
         "x": [
          "10-2",
          "10-3"
         ],
         "y": [
          2,
          null
         ]
        },
        {
         "name": "子项目编号(其他)",
         "type": "bar",
         "uid": "7cd7a818-d2dd-11e8-8102-a81e84e6c740",
         "x": [
          "10-2",
          "10-3"
         ],
         "y": [
          null,
          3
         ]
        },
        {
         "name": "子项目编号(单基因病重测序)",
         "type": "bar",
         "uid": "7cd7aa3e-d2dd-11e8-8102-a81e84e6c740",
         "x": [
          "10-2",
          "10-3"
         ],
         "y": [
          3,
          null
         ]
        },
        {
         "name": "子项目编号(肿瘤多组学)",
         "type": "bar",
         "uid": "7cd7ac28-d2dd-11e8-8102-a81e84e6c740",
         "x": [
          "10-2",
          "10-3"
         ],
         "y": [
          6,
          4
         ]
        },
        {
         "name": "子项目编号(三代人重)",
         "type": "bar",
         "uid": "7cd7ae08-d2dd-11e8-8102-a81e84e6c740",
         "x": [
          "10-2",
          "10-3"
         ],
         "y": [
          null,
          7
         ]
        }
       ],
       "layout": {
        "title": "子项目编号周趋势图",
        "xaxis": {
         "mirror": "all",
         "nticks": 20,
         "showgrid": true,
         "showline": true,
         "title": "周",
         "type": "category",
         "zeroline": true
        },
        "yaxis": {
         "mirror": "all",
         "nticks": 20,
         "showgrid": true,
         "showline": true,
         "title": "子项目编号",
         "zeroline": true
        }
       }
      },
      "text/html": [
       "<div id=\"38ac72d5-3de7-445d-b6dc-a9c7304988f3\" style=\"height: 525px; width: 100%;\" class=\"plotly-graph-div\"></div><script type=\"text/javascript\">require([\"plotly\"], function(Plotly) { window.PLOTLYENV=window.PLOTLYENV || {};window.PLOTLYENV.BASE_URL=\"https://plot.ly\";Plotly.newPlot(\"38ac72d5-3de7-445d-b6dc-a9c7304988f3\", [{\"name\": \"\\u5b50\\u9879\\u76ee\\u7f16\\u53f7(\\u533b\\u5b66\\u764c\\u75c7)\", \"x\": [\"10-2\", \"10-3\"], \"y\": [null, 7.0], \"type\": \"bar\", \"uid\": \"7cd794ea-d2dd-11e8-8102-a81e84e6c740\"}, {\"name\": \"\\u5b50\\u9879\\u76ee\\u7f16\\u53f7(\\u533b\\u5b66\\u8f6c\\u5f55\\u7ec4)\", \"x\": [\"10-2\", \"10-3\"], \"y\": [7.0, null], \"type\": \"bar\", \"uid\": \"7cd799e0-d2dd-11e8-8102-a81e84e6c740\"}, {\"name\": \"\\u5b50\\u9879\\u76ee\\u7f16\\u53f7(\\u590d\\u6742\\u75be\\u75c5)\", \"x\": [\"10-2\", \"10-3\"], \"y\": [11.0, 9.0], \"type\": \"bar\", \"uid\": \"7cd79d78-d2dd-11e8-8102-a81e84e6c740\"}, {\"name\": \"\\u5b50\\u9879\\u76ee\\u7f16\\u53f7(\\u65b0\\u751f\\u6297\\u539f)\", \"x\": [\"10-2\", \"10-3\"], \"y\": [4.0, 2.0], \"type\": \"bar\", \"uid\": \"7cd7a016-d2dd-11e8-8102-a81e84e6c740\"}, {\"name\": \"\\u5b50\\u9879\\u76ee\\u7f16\\u53f7(\\u80bf\\u7624\\u5916\\u663e\\u5b50)\", \"x\": [\"10-2\", \"10-3\"], \"y\": [null, 6.0], \"type\": \"bar\", \"uid\": \"7cd7a23c-d2dd-11e8-8102-a81e84e6c740\"}, {\"name\": \"\\u5b50\\u9879\\u76ee\\u7f16\\u53f7(\\u5355\\u57fa\\u56e0\\u75c5\\u5916\\u663e\\u5b50)\", \"x\": [\"10-2\", \"10-3\"], \"y\": [4.0, 2.0], \"type\": \"bar\", \"uid\": \"7cd7a43a-d2dd-11e8-8102-a81e84e6c740\"}, {\"name\": \"\\u5b50\\u9879\\u76ee\\u7f16\\u53f7(\\u80bf\\u7624\\u4eba\\u91cd)\", \"x\": [\"10-2\", \"10-3\"], \"y\": [2.0, null], \"type\": \"bar\", \"uid\": \"7cd7a62e-d2dd-11e8-8102-a81e84e6c740\"}, {\"name\": \"\\u5b50\\u9879\\u76ee\\u7f16\\u53f7(\\u5176\\u4ed6)\", \"x\": [\"10-2\", \"10-3\"], \"y\": [null, 3.0], \"type\": \"bar\", \"uid\": \"7cd7a818-d2dd-11e8-8102-a81e84e6c740\"}, {\"name\": \"\\u5b50\\u9879\\u76ee\\u7f16\\u53f7(\\u5355\\u57fa\\u56e0\\u75c5\\u91cd\\u6d4b\\u5e8f)\", \"x\": [\"10-2\", \"10-3\"], \"y\": [3.0, null], \"type\": \"bar\", \"uid\": \"7cd7aa3e-d2dd-11e8-8102-a81e84e6c740\"}, {\"name\": \"\\u5b50\\u9879\\u76ee\\u7f16\\u53f7(\\u80bf\\u7624\\u591a\\u7ec4\\u5b66)\", \"x\": [\"10-2\", \"10-3\"], \"y\": [6.0, 4.0], \"type\": \"bar\", \"uid\": \"7cd7ac28-d2dd-11e8-8102-a81e84e6c740\"}, {\"name\": \"\\u5b50\\u9879\\u76ee\\u7f16\\u53f7(\\u4e09\\u4ee3\\u4eba\\u91cd)\", \"x\": [\"10-2\", \"10-3\"], \"y\": [null, 7.0], \"type\": \"bar\", \"uid\": \"7cd7ae08-d2dd-11e8-8102-a81e84e6c740\"}], {\"title\": \"\\u5b50\\u9879\\u76ee\\u7f16\\u53f7\\u5468\\u8d8b\\u52bf\\u56fe\", \"xaxis\": {\"mirror\": \"all\", \"nticks\": 20, \"showgrid\": true, \"showline\": true, \"title\": \"\\u5468\", \"type\": \"category\", \"zeroline\": true}, \"yaxis\": {\"mirror\": \"all\", \"nticks\": 20, \"showgrid\": true, \"showline\": true, \"title\": \"\\u5b50\\u9879\\u76ee\\u7f16\\u53f7\", \"zeroline\": true}}, {\"showLink\": true, \"linkText\": \"Export to plot.ly\"})});</script>"
      ],
      "text/vnd.plotly.v1+html": [
       "<div id=\"38ac72d5-3de7-445d-b6dc-a9c7304988f3\" style=\"height: 525px; width: 100%;\" class=\"plotly-graph-div\"></div><script type=\"text/javascript\">require([\"plotly\"], function(Plotly) { window.PLOTLYENV=window.PLOTLYENV || {};window.PLOTLYENV.BASE_URL=\"https://plot.ly\";Plotly.newPlot(\"38ac72d5-3de7-445d-b6dc-a9c7304988f3\", [{\"name\": \"\\u5b50\\u9879\\u76ee\\u7f16\\u53f7(\\u533b\\u5b66\\u764c\\u75c7)\", \"x\": [\"10-2\", \"10-3\"], \"y\": [null, 7.0], \"type\": \"bar\", \"uid\": \"7cd794ea-d2dd-11e8-8102-a81e84e6c740\"}, {\"name\": \"\\u5b50\\u9879\\u76ee\\u7f16\\u53f7(\\u533b\\u5b66\\u8f6c\\u5f55\\u7ec4)\", \"x\": [\"10-2\", \"10-3\"], \"y\": [7.0, null], \"type\": \"bar\", \"uid\": \"7cd799e0-d2dd-11e8-8102-a81e84e6c740\"}, {\"name\": \"\\u5b50\\u9879\\u76ee\\u7f16\\u53f7(\\u590d\\u6742\\u75be\\u75c5)\", \"x\": [\"10-2\", \"10-3\"], \"y\": [11.0, 9.0], \"type\": \"bar\", \"uid\": \"7cd79d78-d2dd-11e8-8102-a81e84e6c740\"}, {\"name\": \"\\u5b50\\u9879\\u76ee\\u7f16\\u53f7(\\u65b0\\u751f\\u6297\\u539f)\", \"x\": [\"10-2\", \"10-3\"], \"y\": [4.0, 2.0], \"type\": \"bar\", \"uid\": \"7cd7a016-d2dd-11e8-8102-a81e84e6c740\"}, {\"name\": \"\\u5b50\\u9879\\u76ee\\u7f16\\u53f7(\\u80bf\\u7624\\u5916\\u663e\\u5b50)\", \"x\": [\"10-2\", \"10-3\"], \"y\": [null, 6.0], \"type\": \"bar\", \"uid\": \"7cd7a23c-d2dd-11e8-8102-a81e84e6c740\"}, {\"name\": \"\\u5b50\\u9879\\u76ee\\u7f16\\u53f7(\\u5355\\u57fa\\u56e0\\u75c5\\u5916\\u663e\\u5b50)\", \"x\": [\"10-2\", \"10-3\"], \"y\": [4.0, 2.0], \"type\": \"bar\", \"uid\": \"7cd7a43a-d2dd-11e8-8102-a81e84e6c740\"}, {\"name\": \"\\u5b50\\u9879\\u76ee\\u7f16\\u53f7(\\u80bf\\u7624\\u4eba\\u91cd)\", \"x\": [\"10-2\", \"10-3\"], \"y\": [2.0, null], \"type\": \"bar\", \"uid\": \"7cd7a62e-d2dd-11e8-8102-a81e84e6c740\"}, {\"name\": \"\\u5b50\\u9879\\u76ee\\u7f16\\u53f7(\\u5176\\u4ed6)\", \"x\": [\"10-2\", \"10-3\"], \"y\": [null, 3.0], \"type\": \"bar\", \"uid\": \"7cd7a818-d2dd-11e8-8102-a81e84e6c740\"}, {\"name\": \"\\u5b50\\u9879\\u76ee\\u7f16\\u53f7(\\u5355\\u57fa\\u56e0\\u75c5\\u91cd\\u6d4b\\u5e8f)\", \"x\": [\"10-2\", \"10-3\"], \"y\": [3.0, null], \"type\": \"bar\", \"uid\": \"7cd7aa3e-d2dd-11e8-8102-a81e84e6c740\"}, {\"name\": \"\\u5b50\\u9879\\u76ee\\u7f16\\u53f7(\\u80bf\\u7624\\u591a\\u7ec4\\u5b66)\", \"x\": [\"10-2\", \"10-3\"], \"y\": [6.0, 4.0], \"type\": \"bar\", \"uid\": \"7cd7ac28-d2dd-11e8-8102-a81e84e6c740\"}, {\"name\": \"\\u5b50\\u9879\\u76ee\\u7f16\\u53f7(\\u4e09\\u4ee3\\u4eba\\u91cd)\", \"x\": [\"10-2\", \"10-3\"], \"y\": [null, 7.0], \"type\": \"bar\", \"uid\": \"7cd7ae08-d2dd-11e8-8102-a81e84e6c740\"}], {\"title\": \"\\u5b50\\u9879\\u76ee\\u7f16\\u53f7\\u5468\\u8d8b\\u52bf\\u56fe\", \"xaxis\": {\"mirror\": \"all\", \"nticks\": 20, \"showgrid\": true, \"showline\": true, \"title\": \"\\u5468\", \"type\": \"category\", \"zeroline\": true}, \"yaxis\": {\"mirror\": \"all\", \"nticks\": 20, \"showgrid\": true, \"showline\": true, \"title\": \"\\u5b50\\u9879\\u76ee\\u7f16\\u53f7\", \"zeroline\": true}}, {\"showLink\": true, \"linkText\": \"Export to plot.ly\"})});</script>"
      ]
     },
     "metadata": {},
     "output_type": "display_data"
    }
   ],
   "source": [
    "ss = myModule.format(df1 ,df1.columns[1] ,['子项目编号'])\n",
    "ss.add_group('产品子类')\n",
    "#ss.get_average_by('子项目号')\n",
    "#ss.df.groupby([ss.x , ss.group_col]).sum().groupby([ss.x , ss.group_col]).mean()\n",
    "tt = myModule.myPlot(ss.groupby('count'))\n",
    "tt.plot('bar')"
   ]
  },
  {
   "cell_type": "markdown",
   "metadata": {},
   "source": [
    "### 工时"
   ]
  },
  {
   "cell_type": "code",
   "execution_count": 18,
   "metadata": {
    "collapsed": false,
    "scrolled": false
   },
   "outputs": [
    {
     "data": {
      "application/vnd.plotly.v1+json": {
       "data": [
        {
         "name": "总工时(医学癌症)",
         "type": "bar",
         "uid": "8385efc6-d2dd-11e8-8102-a81e84e6c740",
         "x": [
          "10-2",
          "10-3"
         ],
         "y": [
          null,
          36
         ]
        },
        {
         "name": "总工时(医学转录组)",
         "type": "bar",
         "uid": "8385f372-d2dd-11e8-8102-a81e84e6c740",
         "x": [
          "10-2",
          "10-3"
         ],
         "y": [
          31,
          null
         ]
        },
        {
         "name": "总工时(复杂疾病)",
         "type": "bar",
         "uid": "8385f5d4-d2dd-11e8-8102-a81e84e6c740",
         "x": [
          "10-2",
          "10-3"
         ],
         "y": [
          60,
          50
         ]
        },
        {
         "name": "总工时(新生抗原)",
         "type": "bar",
         "uid": "8385f7fa-d2dd-11e8-8102-a81e84e6c740",
         "x": [
          "10-2",
          "10-3"
         ],
         "y": [
          25,
          12
         ]
        },
        {
         "name": "总工时(肿瘤外显子)",
         "type": "bar",
         "uid": "8385fa02-d2dd-11e8-8102-a81e84e6c740",
         "x": [
          "10-2",
          "10-3"
         ],
         "y": [
          null,
          34
         ]
        },
        {
         "name": "总工时(单基因病外显子)",
         "type": "bar",
         "uid": "8385fbf6-d2dd-11e8-8102-a81e84e6c740",
         "x": [
          "10-2",
          "10-3"
         ],
         "y": [
          18,
          13
         ]
        },
        {
         "name": "总工时(肿瘤人重)",
         "type": "bar",
         "uid": "8385fdf4-d2dd-11e8-8102-a81e84e6c740",
         "x": [
          "10-2",
          "10-3"
         ],
         "y": [
          12,
          null
         ]
        },
        {
         "name": "总工时(其他)",
         "type": "bar",
         "uid": "838600ba-d2dd-11e8-8102-a81e84e6c740",
         "x": [
          "10-2",
          "10-3"
         ],
         "y": [
          null,
          22
         ]
        },
        {
         "name": "总工时(单基因病重测序)",
         "type": "bar",
         "uid": "83860402-d2dd-11e8-8102-a81e84e6c740",
         "x": [
          "10-2",
          "10-3"
         ],
         "y": [
          18,
          null
         ]
        },
        {
         "name": "总工时(肿瘤多组学)",
         "type": "bar",
         "uid": "83860920-d2dd-11e8-8102-a81e84e6c740",
         "x": [
          "10-2",
          "10-3"
         ],
         "y": [
          22,
          24
         ]
        },
        {
         "name": "总工时(三代人重)",
         "type": "bar",
         "uid": "83860f24-d2dd-11e8-8102-a81e84e6c740",
         "x": [
          "10-2",
          "10-3"
         ],
         "y": [
          null,
          38
         ]
        }
       ],
       "layout": {
        "title": "总工时周趋势图",
        "xaxis": {
         "mirror": "all",
         "nticks": 20,
         "showgrid": true,
         "showline": true,
         "title": "周",
         "type": "category",
         "zeroline": true
        },
        "yaxis": {
         "mirror": "all",
         "nticks": 20,
         "showgrid": true,
         "showline": true,
         "title": "总工时",
         "zeroline": true
        }
       }
      },
      "text/html": [
       "<div id=\"ef69e1fb-1263-413b-b543-832583d811e2\" style=\"height: 525px; width: 100%;\" class=\"plotly-graph-div\"></div><script type=\"text/javascript\">require([\"plotly\"], function(Plotly) { window.PLOTLYENV=window.PLOTLYENV || {};window.PLOTLYENV.BASE_URL=\"https://plot.ly\";Plotly.newPlot(\"ef69e1fb-1263-413b-b543-832583d811e2\", [{\"name\": \"\\u603b\\u5de5\\u65f6(\\u533b\\u5b66\\u764c\\u75c7)\", \"x\": [\"10-2\", \"10-3\"], \"y\": [null, 36.0], \"type\": \"bar\", \"uid\": \"8385efc6-d2dd-11e8-8102-a81e84e6c740\"}, {\"name\": \"\\u603b\\u5de5\\u65f6(\\u533b\\u5b66\\u8f6c\\u5f55\\u7ec4)\", \"x\": [\"10-2\", \"10-3\"], \"y\": [31.0, null], \"type\": \"bar\", \"uid\": \"8385f372-d2dd-11e8-8102-a81e84e6c740\"}, {\"name\": \"\\u603b\\u5de5\\u65f6(\\u590d\\u6742\\u75be\\u75c5)\", \"x\": [\"10-2\", \"10-3\"], \"y\": [60.0, 50.0], \"type\": \"bar\", \"uid\": \"8385f5d4-d2dd-11e8-8102-a81e84e6c740\"}, {\"name\": \"\\u603b\\u5de5\\u65f6(\\u65b0\\u751f\\u6297\\u539f)\", \"x\": [\"10-2\", \"10-3\"], \"y\": [25.0, 12.0], \"type\": \"bar\", \"uid\": \"8385f7fa-d2dd-11e8-8102-a81e84e6c740\"}, {\"name\": \"\\u603b\\u5de5\\u65f6(\\u80bf\\u7624\\u5916\\u663e\\u5b50)\", \"x\": [\"10-2\", \"10-3\"], \"y\": [null, 34.0], \"type\": \"bar\", \"uid\": \"8385fa02-d2dd-11e8-8102-a81e84e6c740\"}, {\"name\": \"\\u603b\\u5de5\\u65f6(\\u5355\\u57fa\\u56e0\\u75c5\\u5916\\u663e\\u5b50)\", \"x\": [\"10-2\", \"10-3\"], \"y\": [18.0, 13.0], \"type\": \"bar\", \"uid\": \"8385fbf6-d2dd-11e8-8102-a81e84e6c740\"}, {\"name\": \"\\u603b\\u5de5\\u65f6(\\u80bf\\u7624\\u4eba\\u91cd)\", \"x\": [\"10-2\", \"10-3\"], \"y\": [12.0, null], \"type\": \"bar\", \"uid\": \"8385fdf4-d2dd-11e8-8102-a81e84e6c740\"}, {\"name\": \"\\u603b\\u5de5\\u65f6(\\u5176\\u4ed6)\", \"x\": [\"10-2\", \"10-3\"], \"y\": [null, 22.0], \"type\": \"bar\", \"uid\": \"838600ba-d2dd-11e8-8102-a81e84e6c740\"}, {\"name\": \"\\u603b\\u5de5\\u65f6(\\u5355\\u57fa\\u56e0\\u75c5\\u91cd\\u6d4b\\u5e8f)\", \"x\": [\"10-2\", \"10-3\"], \"y\": [18.0, null], \"type\": \"bar\", \"uid\": \"83860402-d2dd-11e8-8102-a81e84e6c740\"}, {\"name\": \"\\u603b\\u5de5\\u65f6(\\u80bf\\u7624\\u591a\\u7ec4\\u5b66)\", \"x\": [\"10-2\", \"10-3\"], \"y\": [22.0, 24.0], \"type\": \"bar\", \"uid\": \"83860920-d2dd-11e8-8102-a81e84e6c740\"}, {\"name\": \"\\u603b\\u5de5\\u65f6(\\u4e09\\u4ee3\\u4eba\\u91cd)\", \"x\": [\"10-2\", \"10-3\"], \"y\": [null, 38.0], \"type\": \"bar\", \"uid\": \"83860f24-d2dd-11e8-8102-a81e84e6c740\"}], {\"title\": \"\\u603b\\u5de5\\u65f6\\u5468\\u8d8b\\u52bf\\u56fe\", \"xaxis\": {\"mirror\": \"all\", \"nticks\": 20, \"showgrid\": true, \"showline\": true, \"title\": \"\\u5468\", \"type\": \"category\", \"zeroline\": true}, \"yaxis\": {\"mirror\": \"all\", \"nticks\": 20, \"showgrid\": true, \"showline\": true, \"title\": \"\\u603b\\u5de5\\u65f6\", \"zeroline\": true}}, {\"showLink\": true, \"linkText\": \"Export to plot.ly\"})});</script>"
      ],
      "text/vnd.plotly.v1+html": [
       "<div id=\"ef69e1fb-1263-413b-b543-832583d811e2\" style=\"height: 525px; width: 100%;\" class=\"plotly-graph-div\"></div><script type=\"text/javascript\">require([\"plotly\"], function(Plotly) { window.PLOTLYENV=window.PLOTLYENV || {};window.PLOTLYENV.BASE_URL=\"https://plot.ly\";Plotly.newPlot(\"ef69e1fb-1263-413b-b543-832583d811e2\", [{\"name\": \"\\u603b\\u5de5\\u65f6(\\u533b\\u5b66\\u764c\\u75c7)\", \"x\": [\"10-2\", \"10-3\"], \"y\": [null, 36.0], \"type\": \"bar\", \"uid\": \"8385efc6-d2dd-11e8-8102-a81e84e6c740\"}, {\"name\": \"\\u603b\\u5de5\\u65f6(\\u533b\\u5b66\\u8f6c\\u5f55\\u7ec4)\", \"x\": [\"10-2\", \"10-3\"], \"y\": [31.0, null], \"type\": \"bar\", \"uid\": \"8385f372-d2dd-11e8-8102-a81e84e6c740\"}, {\"name\": \"\\u603b\\u5de5\\u65f6(\\u590d\\u6742\\u75be\\u75c5)\", \"x\": [\"10-2\", \"10-3\"], \"y\": [60.0, 50.0], \"type\": \"bar\", \"uid\": \"8385f5d4-d2dd-11e8-8102-a81e84e6c740\"}, {\"name\": \"\\u603b\\u5de5\\u65f6(\\u65b0\\u751f\\u6297\\u539f)\", \"x\": [\"10-2\", \"10-3\"], \"y\": [25.0, 12.0], \"type\": \"bar\", \"uid\": \"8385f7fa-d2dd-11e8-8102-a81e84e6c740\"}, {\"name\": \"\\u603b\\u5de5\\u65f6(\\u80bf\\u7624\\u5916\\u663e\\u5b50)\", \"x\": [\"10-2\", \"10-3\"], \"y\": [null, 34.0], \"type\": \"bar\", \"uid\": \"8385fa02-d2dd-11e8-8102-a81e84e6c740\"}, {\"name\": \"\\u603b\\u5de5\\u65f6(\\u5355\\u57fa\\u56e0\\u75c5\\u5916\\u663e\\u5b50)\", \"x\": [\"10-2\", \"10-3\"], \"y\": [18.0, 13.0], \"type\": \"bar\", \"uid\": \"8385fbf6-d2dd-11e8-8102-a81e84e6c740\"}, {\"name\": \"\\u603b\\u5de5\\u65f6(\\u80bf\\u7624\\u4eba\\u91cd)\", \"x\": [\"10-2\", \"10-3\"], \"y\": [12.0, null], \"type\": \"bar\", \"uid\": \"8385fdf4-d2dd-11e8-8102-a81e84e6c740\"}, {\"name\": \"\\u603b\\u5de5\\u65f6(\\u5176\\u4ed6)\", \"x\": [\"10-2\", \"10-3\"], \"y\": [null, 22.0], \"type\": \"bar\", \"uid\": \"838600ba-d2dd-11e8-8102-a81e84e6c740\"}, {\"name\": \"\\u603b\\u5de5\\u65f6(\\u5355\\u57fa\\u56e0\\u75c5\\u91cd\\u6d4b\\u5e8f)\", \"x\": [\"10-2\", \"10-3\"], \"y\": [18.0, null], \"type\": \"bar\", \"uid\": \"83860402-d2dd-11e8-8102-a81e84e6c740\"}, {\"name\": \"\\u603b\\u5de5\\u65f6(\\u80bf\\u7624\\u591a\\u7ec4\\u5b66)\", \"x\": [\"10-2\", \"10-3\"], \"y\": [22.0, 24.0], \"type\": \"bar\", \"uid\": \"83860920-d2dd-11e8-8102-a81e84e6c740\"}, {\"name\": \"\\u603b\\u5de5\\u65f6(\\u4e09\\u4ee3\\u4eba\\u91cd)\", \"x\": [\"10-2\", \"10-3\"], \"y\": [null, 38.0], \"type\": \"bar\", \"uid\": \"83860f24-d2dd-11e8-8102-a81e84e6c740\"}], {\"title\": \"\\u603b\\u5de5\\u65f6\\u5468\\u8d8b\\u52bf\\u56fe\", \"xaxis\": {\"mirror\": \"all\", \"nticks\": 20, \"showgrid\": true, \"showline\": true, \"title\": \"\\u5468\", \"type\": \"category\", \"zeroline\": true}, \"yaxis\": {\"mirror\": \"all\", \"nticks\": 20, \"showgrid\": true, \"showline\": true, \"title\": \"\\u603b\\u5de5\\u65f6\", \"zeroline\": true}}, {\"showLink\": true, \"linkText\": \"Export to plot.ly\"})});</script>"
      ]
     },
     "metadata": {},
     "output_type": "display_data"
    }
   ],
   "source": [
    "ss = myModule.format(df1 ,df1.columns[1] ,['总工时'])\n",
    "ss.add_group('产品子类')\n",
    "#ss.get_average_by('子项目号')\n",
    "#ss.df.groupby([ss.x , ss.group_col]).sum().groupby([ss.x , ss.group_col]).mean()\n",
    "tt = myModule.myPlot(ss.groupby('sum'))\n",
    "tt.plot('bar')"
   ]
  },
  {
   "cell_type": "markdown",
   "metadata": {},
   "source": [
    "# 生物学DNA组下单情况"
   ]
  },
  {
   "cell_type": "code",
   "execution_count": 24,
   "metadata": {
    "collapsed": false
   },
   "outputs": [
    {
     "data": {
      "text/plain": [
       "'/mnt/e/工作/下单申请/2018第四季度/2018-10-15/new/生物学DNA下单申请20181017-10-2.xlsx'"
      ]
     },
     "execution_count": 24,
     "metadata": {},
     "output_type": "execute_result"
    }
   ],
   "source": [
    "pathway = '/mnt/e/工作/下单申请/2018第四季度/2018-10-15/new/'\n",
    "all_files  = xiadan_check.get_files(pathway, \"生物学\",\"10-2\")   ##给路径\n",
    "df2  = xiadan_check.read_xlsx(all_files , 0 )## read all files sheet1\n",
    "all_files"
   ]
  },
  {
   "cell_type": "markdown",
   "metadata": {},
   "source": [
    "## 生物学人员立项总工时情况"
   ]
  },
  {
   "cell_type": "code",
   "execution_count": 25,
   "metadata": {
    "collapsed": false
   },
   "outputs": [
    {
     "data": {
      "application/vnd.plotly.v1+json": {
       "data": [
        {
         "name": "总工时(刘三阳)",
         "type": "bar",
         "uid": "d60b8288-d2dd-11e8-8102-a81e84e6c740",
         "x": [
          "10-2",
          "10-3"
         ],
         "y": [
          null,
          6
         ]
        },
        {
         "name": "总工时(于勇一)",
         "type": "bar",
         "uid": "d60b8760-d2dd-11e8-8102-a81e84e6c740",
         "x": [
          "10-2",
          "10-3"
         ],
         "y": [
          30,
          30
         ]
        },
        {
         "name": "总工时(马潇)",
         "type": "bar",
         "uid": "d60b8a6c-d2dd-11e8-8102-a81e84e6c740",
         "x": [
          "10-2",
          "10-3"
         ],
         "y": [
          44,
          36
         ]
        },
        {
         "name": "总工时(占伟)",
         "type": "bar",
         "uid": "d60b8d46-d2dd-11e8-8102-a81e84e6c740",
         "x": [
          "10-2",
          "10-3"
         ],
         "y": [
          38,
          41
         ]
        },
        {
         "name": "总工时(陈鹏燕)",
         "type": "bar",
         "uid": "d60b8fee-d2dd-11e8-8102-a81e84e6c740",
         "x": [
          "10-2",
          "10-3"
         ],
         "y": [
          null,
          36
         ]
        },
        {
         "name": "总工时(刘江)",
         "type": "bar",
         "uid": "d60b9296-d2dd-11e8-8102-a81e84e6c740",
         "x": [
          "10-2",
          "10-3"
         ],
         "y": [
          33,
          22
         ]
        },
        {
         "name": "总工时(杨伟飞)",
         "type": "bar",
         "uid": "d60b953e-d2dd-11e8-8102-a81e84e6c740",
         "x": [
          "10-2",
          "10-3"
         ],
         "y": [
          37,
          36
         ]
        },
        {
         "name": "总工时(任雪)",
         "type": "bar",
         "uid": "d60b9818-d2dd-11e8-8102-a81e84e6c740",
         "x": [
          "10-2",
          "10-3"
         ],
         "y": [
          46,
          34
         ]
        }
       ],
       "layout": {
        "title": "总工时周趋势图",
        "xaxis": {
         "mirror": "all",
         "nticks": 20,
         "showgrid": true,
         "showline": true,
         "title": "周",
         "type": "category",
         "zeroline": true
        },
        "yaxis": {
         "mirror": "all",
         "nticks": 20,
         "showgrid": true,
         "showline": true,
         "title": "总工时",
         "zeroline": true
        }
       }
      },
      "text/html": [
       "<div id=\"5dea5b38-52f0-4981-88ec-694515583238\" style=\"height: 525px; width: 100%;\" class=\"plotly-graph-div\"></div><script type=\"text/javascript\">require([\"plotly\"], function(Plotly) { window.PLOTLYENV=window.PLOTLYENV || {};window.PLOTLYENV.BASE_URL=\"https://plot.ly\";Plotly.newPlot(\"5dea5b38-52f0-4981-88ec-694515583238\", [{\"name\": \"\\u603b\\u5de5\\u65f6(\\u5218\\u4e09\\u9633)\", \"x\": [\"10-2\", \"10-3\"], \"y\": [null, 6.0], \"type\": \"bar\", \"uid\": \"d60b8288-d2dd-11e8-8102-a81e84e6c740\"}, {\"name\": \"\\u603b\\u5de5\\u65f6(\\u4e8e\\u52c7\\u4e00)\", \"x\": [\"10-2\", \"10-3\"], \"y\": [30.0, 30.0], \"type\": \"bar\", \"uid\": \"d60b8760-d2dd-11e8-8102-a81e84e6c740\"}, {\"name\": \"\\u603b\\u5de5\\u65f6(\\u9a6c\\u6f47)\", \"x\": [\"10-2\", \"10-3\"], \"y\": [44.0, 36.0], \"type\": \"bar\", \"uid\": \"d60b8a6c-d2dd-11e8-8102-a81e84e6c740\"}, {\"name\": \"\\u603b\\u5de5\\u65f6(\\u5360\\u4f1f)\", \"x\": [\"10-2\", \"10-3\"], \"y\": [38.0, 41.0], \"type\": \"bar\", \"uid\": \"d60b8d46-d2dd-11e8-8102-a81e84e6c740\"}, {\"name\": \"\\u603b\\u5de5\\u65f6(\\u9648\\u9e4f\\u71d5)\", \"x\": [\"10-2\", \"10-3\"], \"y\": [null, 36.0], \"type\": \"bar\", \"uid\": \"d60b8fee-d2dd-11e8-8102-a81e84e6c740\"}, {\"name\": \"\\u603b\\u5de5\\u65f6(\\u5218\\u6c5f)\", \"x\": [\"10-2\", \"10-3\"], \"y\": [33.0, 22.0], \"type\": \"bar\", \"uid\": \"d60b9296-d2dd-11e8-8102-a81e84e6c740\"}, {\"name\": \"\\u603b\\u5de5\\u65f6(\\u6768\\u4f1f\\u98de)\", \"x\": [\"10-2\", \"10-3\"], \"y\": [37.0, 36.0], \"type\": \"bar\", \"uid\": \"d60b953e-d2dd-11e8-8102-a81e84e6c740\"}, {\"name\": \"\\u603b\\u5de5\\u65f6(\\u4efb\\u96ea)\", \"x\": [\"10-2\", \"10-3\"], \"y\": [46.0, 34.0], \"type\": \"bar\", \"uid\": \"d60b9818-d2dd-11e8-8102-a81e84e6c740\"}], {\"title\": \"\\u603b\\u5de5\\u65f6\\u5468\\u8d8b\\u52bf\\u56fe\", \"xaxis\": {\"mirror\": \"all\", \"nticks\": 20, \"showgrid\": true, \"showline\": true, \"title\": \"\\u5468\", \"type\": \"category\", \"zeroline\": true}, \"yaxis\": {\"mirror\": \"all\", \"nticks\": 20, \"showgrid\": true, \"showline\": true, \"title\": \"\\u603b\\u5de5\\u65f6\", \"zeroline\": true}}, {\"showLink\": true, \"linkText\": \"Export to plot.ly\"})});</script>"
      ],
      "text/vnd.plotly.v1+html": [
       "<div id=\"5dea5b38-52f0-4981-88ec-694515583238\" style=\"height: 525px; width: 100%;\" class=\"plotly-graph-div\"></div><script type=\"text/javascript\">require([\"plotly\"], function(Plotly) { window.PLOTLYENV=window.PLOTLYENV || {};window.PLOTLYENV.BASE_URL=\"https://plot.ly\";Plotly.newPlot(\"5dea5b38-52f0-4981-88ec-694515583238\", [{\"name\": \"\\u603b\\u5de5\\u65f6(\\u5218\\u4e09\\u9633)\", \"x\": [\"10-2\", \"10-3\"], \"y\": [null, 6.0], \"type\": \"bar\", \"uid\": \"d60b8288-d2dd-11e8-8102-a81e84e6c740\"}, {\"name\": \"\\u603b\\u5de5\\u65f6(\\u4e8e\\u52c7\\u4e00)\", \"x\": [\"10-2\", \"10-3\"], \"y\": [30.0, 30.0], \"type\": \"bar\", \"uid\": \"d60b8760-d2dd-11e8-8102-a81e84e6c740\"}, {\"name\": \"\\u603b\\u5de5\\u65f6(\\u9a6c\\u6f47)\", \"x\": [\"10-2\", \"10-3\"], \"y\": [44.0, 36.0], \"type\": \"bar\", \"uid\": \"d60b8a6c-d2dd-11e8-8102-a81e84e6c740\"}, {\"name\": \"\\u603b\\u5de5\\u65f6(\\u5360\\u4f1f)\", \"x\": [\"10-2\", \"10-3\"], \"y\": [38.0, 41.0], \"type\": \"bar\", \"uid\": \"d60b8d46-d2dd-11e8-8102-a81e84e6c740\"}, {\"name\": \"\\u603b\\u5de5\\u65f6(\\u9648\\u9e4f\\u71d5)\", \"x\": [\"10-2\", \"10-3\"], \"y\": [null, 36.0], \"type\": \"bar\", \"uid\": \"d60b8fee-d2dd-11e8-8102-a81e84e6c740\"}, {\"name\": \"\\u603b\\u5de5\\u65f6(\\u5218\\u6c5f)\", \"x\": [\"10-2\", \"10-3\"], \"y\": [33.0, 22.0], \"type\": \"bar\", \"uid\": \"d60b9296-d2dd-11e8-8102-a81e84e6c740\"}, {\"name\": \"\\u603b\\u5de5\\u65f6(\\u6768\\u4f1f\\u98de)\", \"x\": [\"10-2\", \"10-3\"], \"y\": [37.0, 36.0], \"type\": \"bar\", \"uid\": \"d60b953e-d2dd-11e8-8102-a81e84e6c740\"}, {\"name\": \"\\u603b\\u5de5\\u65f6(\\u4efb\\u96ea)\", \"x\": [\"10-2\", \"10-3\"], \"y\": [46.0, 34.0], \"type\": \"bar\", \"uid\": \"d60b9818-d2dd-11e8-8102-a81e84e6c740\"}], {\"title\": \"\\u603b\\u5de5\\u65f6\\u5468\\u8d8b\\u52bf\\u56fe\", \"xaxis\": {\"mirror\": \"all\", \"nticks\": 20, \"showgrid\": true, \"showline\": true, \"title\": \"\\u5468\", \"type\": \"category\", \"zeroline\": true}, \"yaxis\": {\"mirror\": \"all\", \"nticks\": 20, \"showgrid\": true, \"showline\": true, \"title\": \"\\u603b\\u5de5\\u65f6\", \"zeroline\": true}}, {\"showLink\": true, \"linkText\": \"Export to plot.ly\"})});</script>"
      ]
     },
     "metadata": {},
     "output_type": "display_data"
    }
   ],
   "source": [
    "ss = myModule.format(df2 ,df2.columns[1] ,['总工时'])\n",
    "ss.add_group('信息负责人')\n",
    "#ss.get_average_by('子项目号')\n",
    "#ss.df.groupby([ss.x , ss.group_col]).sum().groupby([ss.x , ss.group_col]).mean()\n",
    "tt = myModule.myPlot(ss.groupby('sum'))\n",
    "tt.plot('bar')"
   ]
  },
  {
   "cell_type": "markdown",
   "metadata": {},
   "source": [
    "## 生物学人员立项下单个数情况"
   ]
  },
  {
   "cell_type": "code",
   "execution_count": 27,
   "metadata": {
    "collapsed": false
   },
   "outputs": [
    {
     "data": {
      "application/vnd.plotly.v1+json": {
       "data": [
        {
         "name": "子项目编号(刘三阳)",
         "type": "bar",
         "uid": "dd5c4388-d2dd-11e8-8102-a81e84e6c740",
         "x": [
          "10-2",
          "10-3"
         ],
         "y": [
          null,
          1
         ]
        },
        {
         "name": "子项目编号(于勇一)",
         "type": "bar",
         "uid": "dd5c49aa-d2dd-11e8-8102-a81e84e6c740",
         "x": [
          "10-2",
          "10-3"
         ],
         "y": [
          7,
          5
         ]
        },
        {
         "name": "子项目编号(马潇)",
         "type": "bar",
         "uid": "dd5c4bee-d2dd-11e8-8102-a81e84e6c740",
         "x": [
          "10-2",
          "10-3"
         ],
         "y": [
          9,
          8
         ]
        },
        {
         "name": "子项目编号(占伟)",
         "type": "bar",
         "uid": "dd5c4dec-d2dd-11e8-8102-a81e84e6c740",
         "x": [
          "10-2",
          "10-3"
         ],
         "y": [
          9,
          9
         ]
        },
        {
         "name": "子项目编号(陈鹏燕)",
         "type": "bar",
         "uid": "dd5c4fd6-d2dd-11e8-8102-a81e84e6c740",
         "x": [
          "10-2",
          "10-3"
         ],
         "y": [
          null,
          5
         ]
        },
        {
         "name": "子项目编号(刘江)",
         "type": "bar",
         "uid": "dd5c51c0-d2dd-11e8-8102-a81e84e6c740",
         "x": [
          "10-2",
          "10-3"
         ],
         "y": [
          7,
          7
         ]
        },
        {
         "name": "子项目编号(杨伟飞)",
         "type": "bar",
         "uid": "dd5c53aa-d2dd-11e8-8102-a81e84e6c740",
         "x": [
          "10-2",
          "10-3"
         ],
         "y": [
          4,
          4
         ]
        },
        {
         "name": "子项目编号(任雪)",
         "type": "bar",
         "uid": "dd5c5576-d2dd-11e8-8102-a81e84e6c740",
         "x": [
          "10-2",
          "10-3"
         ],
         "y": [
          7,
          4
         ]
        }
       ],
       "layout": {
        "title": "子项目编号周趋势图",
        "xaxis": {
         "mirror": "all",
         "nticks": 20,
         "showgrid": true,
         "showline": true,
         "title": "周",
         "type": "category",
         "zeroline": true
        },
        "yaxis": {
         "mirror": "all",
         "nticks": 20,
         "showgrid": true,
         "showline": true,
         "title": "子项目编号",
         "zeroline": true
        }
       }
      },
      "text/html": [
       "<div id=\"5aef6a19-a9a2-4fd7-a35a-55e088ae570b\" style=\"height: 525px; width: 100%;\" class=\"plotly-graph-div\"></div><script type=\"text/javascript\">require([\"plotly\"], function(Plotly) { window.PLOTLYENV=window.PLOTLYENV || {};window.PLOTLYENV.BASE_URL=\"https://plot.ly\";Plotly.newPlot(\"5aef6a19-a9a2-4fd7-a35a-55e088ae570b\", [{\"name\": \"\\u5b50\\u9879\\u76ee\\u7f16\\u53f7(\\u5218\\u4e09\\u9633)\", \"x\": [\"10-2\", \"10-3\"], \"y\": [null, 1.0], \"type\": \"bar\", \"uid\": \"dd5c4388-d2dd-11e8-8102-a81e84e6c740\"}, {\"name\": \"\\u5b50\\u9879\\u76ee\\u7f16\\u53f7(\\u4e8e\\u52c7\\u4e00)\", \"x\": [\"10-2\", \"10-3\"], \"y\": [7.0, 5.0], \"type\": \"bar\", \"uid\": \"dd5c49aa-d2dd-11e8-8102-a81e84e6c740\"}, {\"name\": \"\\u5b50\\u9879\\u76ee\\u7f16\\u53f7(\\u9a6c\\u6f47)\", \"x\": [\"10-2\", \"10-3\"], \"y\": [9.0, 8.0], \"type\": \"bar\", \"uid\": \"dd5c4bee-d2dd-11e8-8102-a81e84e6c740\"}, {\"name\": \"\\u5b50\\u9879\\u76ee\\u7f16\\u53f7(\\u5360\\u4f1f)\", \"x\": [\"10-2\", \"10-3\"], \"y\": [9.0, 9.0], \"type\": \"bar\", \"uid\": \"dd5c4dec-d2dd-11e8-8102-a81e84e6c740\"}, {\"name\": \"\\u5b50\\u9879\\u76ee\\u7f16\\u53f7(\\u9648\\u9e4f\\u71d5)\", \"x\": [\"10-2\", \"10-3\"], \"y\": [null, 5.0], \"type\": \"bar\", \"uid\": \"dd5c4fd6-d2dd-11e8-8102-a81e84e6c740\"}, {\"name\": \"\\u5b50\\u9879\\u76ee\\u7f16\\u53f7(\\u5218\\u6c5f)\", \"x\": [\"10-2\", \"10-3\"], \"y\": [7.0, 7.0], \"type\": \"bar\", \"uid\": \"dd5c51c0-d2dd-11e8-8102-a81e84e6c740\"}, {\"name\": \"\\u5b50\\u9879\\u76ee\\u7f16\\u53f7(\\u6768\\u4f1f\\u98de)\", \"x\": [\"10-2\", \"10-3\"], \"y\": [4.0, 4.0], \"type\": \"bar\", \"uid\": \"dd5c53aa-d2dd-11e8-8102-a81e84e6c740\"}, {\"name\": \"\\u5b50\\u9879\\u76ee\\u7f16\\u53f7(\\u4efb\\u96ea)\", \"x\": [\"10-2\", \"10-3\"], \"y\": [7.0, 4.0], \"type\": \"bar\", \"uid\": \"dd5c5576-d2dd-11e8-8102-a81e84e6c740\"}], {\"title\": \"\\u5b50\\u9879\\u76ee\\u7f16\\u53f7\\u5468\\u8d8b\\u52bf\\u56fe\", \"xaxis\": {\"mirror\": \"all\", \"nticks\": 20, \"showgrid\": true, \"showline\": true, \"title\": \"\\u5468\", \"type\": \"category\", \"zeroline\": true}, \"yaxis\": {\"mirror\": \"all\", \"nticks\": 20, \"showgrid\": true, \"showline\": true, \"title\": \"\\u5b50\\u9879\\u76ee\\u7f16\\u53f7\", \"zeroline\": true}}, {\"showLink\": true, \"linkText\": \"Export to plot.ly\"})});</script>"
      ],
      "text/vnd.plotly.v1+html": [
       "<div id=\"5aef6a19-a9a2-4fd7-a35a-55e088ae570b\" style=\"height: 525px; width: 100%;\" class=\"plotly-graph-div\"></div><script type=\"text/javascript\">require([\"plotly\"], function(Plotly) { window.PLOTLYENV=window.PLOTLYENV || {};window.PLOTLYENV.BASE_URL=\"https://plot.ly\";Plotly.newPlot(\"5aef6a19-a9a2-4fd7-a35a-55e088ae570b\", [{\"name\": \"\\u5b50\\u9879\\u76ee\\u7f16\\u53f7(\\u5218\\u4e09\\u9633)\", \"x\": [\"10-2\", \"10-3\"], \"y\": [null, 1.0], \"type\": \"bar\", \"uid\": \"dd5c4388-d2dd-11e8-8102-a81e84e6c740\"}, {\"name\": \"\\u5b50\\u9879\\u76ee\\u7f16\\u53f7(\\u4e8e\\u52c7\\u4e00)\", \"x\": [\"10-2\", \"10-3\"], \"y\": [7.0, 5.0], \"type\": \"bar\", \"uid\": \"dd5c49aa-d2dd-11e8-8102-a81e84e6c740\"}, {\"name\": \"\\u5b50\\u9879\\u76ee\\u7f16\\u53f7(\\u9a6c\\u6f47)\", \"x\": [\"10-2\", \"10-3\"], \"y\": [9.0, 8.0], \"type\": \"bar\", \"uid\": \"dd5c4bee-d2dd-11e8-8102-a81e84e6c740\"}, {\"name\": \"\\u5b50\\u9879\\u76ee\\u7f16\\u53f7(\\u5360\\u4f1f)\", \"x\": [\"10-2\", \"10-3\"], \"y\": [9.0, 9.0], \"type\": \"bar\", \"uid\": \"dd5c4dec-d2dd-11e8-8102-a81e84e6c740\"}, {\"name\": \"\\u5b50\\u9879\\u76ee\\u7f16\\u53f7(\\u9648\\u9e4f\\u71d5)\", \"x\": [\"10-2\", \"10-3\"], \"y\": [null, 5.0], \"type\": \"bar\", \"uid\": \"dd5c4fd6-d2dd-11e8-8102-a81e84e6c740\"}, {\"name\": \"\\u5b50\\u9879\\u76ee\\u7f16\\u53f7(\\u5218\\u6c5f)\", \"x\": [\"10-2\", \"10-3\"], \"y\": [7.0, 7.0], \"type\": \"bar\", \"uid\": \"dd5c51c0-d2dd-11e8-8102-a81e84e6c740\"}, {\"name\": \"\\u5b50\\u9879\\u76ee\\u7f16\\u53f7(\\u6768\\u4f1f\\u98de)\", \"x\": [\"10-2\", \"10-3\"], \"y\": [4.0, 4.0], \"type\": \"bar\", \"uid\": \"dd5c53aa-d2dd-11e8-8102-a81e84e6c740\"}, {\"name\": \"\\u5b50\\u9879\\u76ee\\u7f16\\u53f7(\\u4efb\\u96ea)\", \"x\": [\"10-2\", \"10-3\"], \"y\": [7.0, 4.0], \"type\": \"bar\", \"uid\": \"dd5c5576-d2dd-11e8-8102-a81e84e6c740\"}], {\"title\": \"\\u5b50\\u9879\\u76ee\\u7f16\\u53f7\\u5468\\u8d8b\\u52bf\\u56fe\", \"xaxis\": {\"mirror\": \"all\", \"nticks\": 20, \"showgrid\": true, \"showline\": true, \"title\": \"\\u5468\", \"type\": \"category\", \"zeroline\": true}, \"yaxis\": {\"mirror\": \"all\", \"nticks\": 20, \"showgrid\": true, \"showline\": true, \"title\": \"\\u5b50\\u9879\\u76ee\\u7f16\\u53f7\", \"zeroline\": true}}, {\"showLink\": true, \"linkText\": \"Export to plot.ly\"})});</script>"
      ]
     },
     "metadata": {},
     "output_type": "display_data"
    }
   ],
   "source": [
    "ss = myModule.format(df2 ,df2.columns[1] ,['子项目编号'])\n",
    "ss.add_group('信息负责人')\n",
    "tt = myModule.myPlot(ss.groupby('count'))\n",
    "tt.plot('bar')"
   ]
  },
  {
   "cell_type": "markdown",
   "metadata": {},
   "source": [
    "## 生物学DNA组人员立项人均工时情况"
   ]
  },
  {
   "cell_type": "code",
   "execution_count": 28,
   "metadata": {
    "collapsed": false
   },
   "outputs": [
    {
     "data": {
      "application/vnd.plotly.v1+json": {
       "data": [
        {
         "name": "总工时(刘三阳)",
         "type": "bar",
         "uid": "e1f1d03e-d2dd-11e8-8102-a81e84e6c740",
         "x": [
          "10-2",
          "10-3"
         ],
         "y": [
          null,
          6
         ]
        },
        {
         "name": "总工时(于勇一)",
         "type": "bar",
         "uid": "e1f1d37c-d2dd-11e8-8102-a81e84e6c740",
         "x": [
          "10-2",
          "10-3"
         ],
         "y": [
          4.285714285714286,
          6
         ]
        },
        {
         "name": "总工时(马潇)",
         "type": "bar",
         "uid": "e1f1d5b6-d2dd-11e8-8102-a81e84e6c740",
         "x": [
          "10-2",
          "10-3"
         ],
         "y": [
          4.888888888888889,
          4.5
         ]
        },
        {
         "name": "总工时(占伟)",
         "type": "bar",
         "uid": "e1f1d7be-d2dd-11e8-8102-a81e84e6c740",
         "x": [
          "10-2",
          "10-3"
         ],
         "y": [
          4.222222222222222,
          4.555555555555555
         ]
        },
        {
         "name": "总工时(陈鹏燕)",
         "type": "bar",
         "uid": "e1f1d9a8-d2dd-11e8-8102-a81e84e6c740",
         "x": [
          "10-2",
          "10-3"
         ],
         "y": [
          null,
          7.2
         ]
        },
        {
         "name": "总工时(刘江)",
         "type": "bar",
         "uid": "e1f1db88-d2dd-11e8-8102-a81e84e6c740",
         "x": [
          "10-2",
          "10-3"
         ],
         "y": [
          4.714285714285714,
          3.142857142857143
         ]
        },
        {
         "name": "总工时(杨伟飞)",
         "type": "bar",
         "uid": "e1f1dd68-d2dd-11e8-8102-a81e84e6c740",
         "x": [
          "10-2",
          "10-3"
         ],
         "y": [
          9.25,
          9
         ]
        },
        {
         "name": "总工时(任雪)",
         "type": "bar",
         "uid": "e1f1df3e-d2dd-11e8-8102-a81e84e6c740",
         "x": [
          "10-2",
          "10-3"
         ],
         "y": [
          6.571428571428571,
          8.5
         ]
        }
       ],
       "layout": {
        "title": "总工时周趋势图",
        "xaxis": {
         "mirror": "all",
         "nticks": 20,
         "showgrid": true,
         "showline": true,
         "title": "周",
         "type": "category",
         "zeroline": true
        },
        "yaxis": {
         "mirror": "all",
         "nticks": 20,
         "showgrid": true,
         "showline": true,
         "title": "总工时",
         "zeroline": true
        }
       }
      },
      "text/html": [
       "<div id=\"ee91b238-a8f3-4693-8669-db280e12a92b\" style=\"height: 525px; width: 100%;\" class=\"plotly-graph-div\"></div><script type=\"text/javascript\">require([\"plotly\"], function(Plotly) { window.PLOTLYENV=window.PLOTLYENV || {};window.PLOTLYENV.BASE_URL=\"https://plot.ly\";Plotly.newPlot(\"ee91b238-a8f3-4693-8669-db280e12a92b\", [{\"name\": \"\\u603b\\u5de5\\u65f6(\\u5218\\u4e09\\u9633)\", \"x\": [\"10-2\", \"10-3\"], \"y\": [null, 6.0], \"type\": \"bar\", \"uid\": \"e1f1d03e-d2dd-11e8-8102-a81e84e6c740\"}, {\"name\": \"\\u603b\\u5de5\\u65f6(\\u4e8e\\u52c7\\u4e00)\", \"x\": [\"10-2\", \"10-3\"], \"y\": [4.285714285714286, 6.0], \"type\": \"bar\", \"uid\": \"e1f1d37c-d2dd-11e8-8102-a81e84e6c740\"}, {\"name\": \"\\u603b\\u5de5\\u65f6(\\u9a6c\\u6f47)\", \"x\": [\"10-2\", \"10-3\"], \"y\": [4.888888888888889, 4.5], \"type\": \"bar\", \"uid\": \"e1f1d5b6-d2dd-11e8-8102-a81e84e6c740\"}, {\"name\": \"\\u603b\\u5de5\\u65f6(\\u5360\\u4f1f)\", \"x\": [\"10-2\", \"10-3\"], \"y\": [4.222222222222222, 4.555555555555555], \"type\": \"bar\", \"uid\": \"e1f1d7be-d2dd-11e8-8102-a81e84e6c740\"}, {\"name\": \"\\u603b\\u5de5\\u65f6(\\u9648\\u9e4f\\u71d5)\", \"x\": [\"10-2\", \"10-3\"], \"y\": [null, 7.2], \"type\": \"bar\", \"uid\": \"e1f1d9a8-d2dd-11e8-8102-a81e84e6c740\"}, {\"name\": \"\\u603b\\u5de5\\u65f6(\\u5218\\u6c5f)\", \"x\": [\"10-2\", \"10-3\"], \"y\": [4.714285714285714, 3.142857142857143], \"type\": \"bar\", \"uid\": \"e1f1db88-d2dd-11e8-8102-a81e84e6c740\"}, {\"name\": \"\\u603b\\u5de5\\u65f6(\\u6768\\u4f1f\\u98de)\", \"x\": [\"10-2\", \"10-3\"], \"y\": [9.25, 9.0], \"type\": \"bar\", \"uid\": \"e1f1dd68-d2dd-11e8-8102-a81e84e6c740\"}, {\"name\": \"\\u603b\\u5de5\\u65f6(\\u4efb\\u96ea)\", \"x\": [\"10-2\", \"10-3\"], \"y\": [6.571428571428571, 8.5], \"type\": \"bar\", \"uid\": \"e1f1df3e-d2dd-11e8-8102-a81e84e6c740\"}], {\"title\": \"\\u603b\\u5de5\\u65f6\\u5468\\u8d8b\\u52bf\\u56fe\", \"xaxis\": {\"mirror\": \"all\", \"nticks\": 20, \"showgrid\": true, \"showline\": true, \"title\": \"\\u5468\", \"type\": \"category\", \"zeroline\": true}, \"yaxis\": {\"mirror\": \"all\", \"nticks\": 20, \"showgrid\": true, \"showline\": true, \"title\": \"\\u603b\\u5de5\\u65f6\", \"zeroline\": true}}, {\"showLink\": true, \"linkText\": \"Export to plot.ly\"})});</script>"
      ],
      "text/vnd.plotly.v1+html": [
       "<div id=\"ee91b238-a8f3-4693-8669-db280e12a92b\" style=\"height: 525px; width: 100%;\" class=\"plotly-graph-div\"></div><script type=\"text/javascript\">require([\"plotly\"], function(Plotly) { window.PLOTLYENV=window.PLOTLYENV || {};window.PLOTLYENV.BASE_URL=\"https://plot.ly\";Plotly.newPlot(\"ee91b238-a8f3-4693-8669-db280e12a92b\", [{\"name\": \"\\u603b\\u5de5\\u65f6(\\u5218\\u4e09\\u9633)\", \"x\": [\"10-2\", \"10-3\"], \"y\": [null, 6.0], \"type\": \"bar\", \"uid\": \"e1f1d03e-d2dd-11e8-8102-a81e84e6c740\"}, {\"name\": \"\\u603b\\u5de5\\u65f6(\\u4e8e\\u52c7\\u4e00)\", \"x\": [\"10-2\", \"10-3\"], \"y\": [4.285714285714286, 6.0], \"type\": \"bar\", \"uid\": \"e1f1d37c-d2dd-11e8-8102-a81e84e6c740\"}, {\"name\": \"\\u603b\\u5de5\\u65f6(\\u9a6c\\u6f47)\", \"x\": [\"10-2\", \"10-3\"], \"y\": [4.888888888888889, 4.5], \"type\": \"bar\", \"uid\": \"e1f1d5b6-d2dd-11e8-8102-a81e84e6c740\"}, {\"name\": \"\\u603b\\u5de5\\u65f6(\\u5360\\u4f1f)\", \"x\": [\"10-2\", \"10-3\"], \"y\": [4.222222222222222, 4.555555555555555], \"type\": \"bar\", \"uid\": \"e1f1d7be-d2dd-11e8-8102-a81e84e6c740\"}, {\"name\": \"\\u603b\\u5de5\\u65f6(\\u9648\\u9e4f\\u71d5)\", \"x\": [\"10-2\", \"10-3\"], \"y\": [null, 7.2], \"type\": \"bar\", \"uid\": \"e1f1d9a8-d2dd-11e8-8102-a81e84e6c740\"}, {\"name\": \"\\u603b\\u5de5\\u65f6(\\u5218\\u6c5f)\", \"x\": [\"10-2\", \"10-3\"], \"y\": [4.714285714285714, 3.142857142857143], \"type\": \"bar\", \"uid\": \"e1f1db88-d2dd-11e8-8102-a81e84e6c740\"}, {\"name\": \"\\u603b\\u5de5\\u65f6(\\u6768\\u4f1f\\u98de)\", \"x\": [\"10-2\", \"10-3\"], \"y\": [9.25, 9.0], \"type\": \"bar\", \"uid\": \"e1f1dd68-d2dd-11e8-8102-a81e84e6c740\"}, {\"name\": \"\\u603b\\u5de5\\u65f6(\\u4efb\\u96ea)\", \"x\": [\"10-2\", \"10-3\"], \"y\": [6.571428571428571, 8.5], \"type\": \"bar\", \"uid\": \"e1f1df3e-d2dd-11e8-8102-a81e84e6c740\"}], {\"title\": \"\\u603b\\u5de5\\u65f6\\u5468\\u8d8b\\u52bf\\u56fe\", \"xaxis\": {\"mirror\": \"all\", \"nticks\": 20, \"showgrid\": true, \"showline\": true, \"title\": \"\\u5468\", \"type\": \"category\", \"zeroline\": true}, \"yaxis\": {\"mirror\": \"all\", \"nticks\": 20, \"showgrid\": true, \"showline\": true, \"title\": \"\\u603b\\u5de5\\u65f6\", \"zeroline\": true}}, {\"showLink\": true, \"linkText\": \"Export to plot.ly\"})});</script>"
      ]
     },
     "metadata": {},
     "output_type": "display_data"
    }
   ],
   "source": [
    "ss = myModule.format(df2 ,df2.columns[1] ,['总工时'])\n",
    "ss.add_group('信息负责人')\n",
    "ss.get_average_by('子项目编号')\n",
    "#ss.df.groupby([ss.x , ss.group_col]).sum().groupby([ss.x , ss.group_col]).mean()\n",
    "tt = myModule.myPlot(ss.groupby('sum'))\n",
    "tt.plot('bar')"
   ]
  },
  {
   "cell_type": "markdown",
   "metadata": {},
   "source": [
    "## 产品研发来源趋势图"
   ]
  },
  {
   "cell_type": "markdown",
   "metadata": {},
   "source": [
    "### 个数"
   ]
  },
  {
   "cell_type": "code",
   "execution_count": 29,
   "metadata": {
    "collapsed": false
   },
   "outputs": [
    {
     "data": {
      "application/vnd.plotly.v1+json": {
       "data": [
        {
         "name": "子项目编号(0)",
         "type": "bar",
         "uid": "ebd51f98-d2dd-11e8-8102-a81e84e6c740",
         "x": [
          "10-2",
          "10-3"
         ],
         "y": [
          null,
          1
         ]
        },
        {
         "name": "子项目编号(商业项目)",
         "type": "bar",
         "uid": "ebd52344-d2dd-11e8-8102-a81e84e6c740",
         "x": [
          "10-2",
          "10-3"
         ],
         "y": [
          21,
          22
         ]
        },
        {
         "name": "子项目编号(研发项目)",
         "type": "bar",
         "uid": "ebd52722-d2dd-11e8-8102-a81e84e6c740",
         "x": [
          "10-2",
          "10-3"
         ],
         "y": [
          22,
          20
         ]
        }
       ],
       "layout": {
        "title": "子项目编号周趋势图",
        "xaxis": {
         "mirror": "all",
         "nticks": 20,
         "showgrid": true,
         "showline": true,
         "title": "周",
         "type": "category",
         "zeroline": true
        },
        "yaxis": {
         "mirror": "all",
         "nticks": 20,
         "showgrid": true,
         "showline": true,
         "title": "子项目编号",
         "zeroline": true
        }
       }
      },
      "text/html": [
       "<div id=\"b5b2849e-4c41-4ef0-9ceb-674362895e2a\" style=\"height: 525px; width: 100%;\" class=\"plotly-graph-div\"></div><script type=\"text/javascript\">require([\"plotly\"], function(Plotly) { window.PLOTLYENV=window.PLOTLYENV || {};window.PLOTLYENV.BASE_URL=\"https://plot.ly\";Plotly.newPlot(\"b5b2849e-4c41-4ef0-9ceb-674362895e2a\", [{\"name\": \"\\u5b50\\u9879\\u76ee\\u7f16\\u53f7(0)\", \"x\": [\"10-2\", \"10-3\"], \"y\": [null, 1.0], \"type\": \"bar\", \"uid\": \"ebd51f98-d2dd-11e8-8102-a81e84e6c740\"}, {\"name\": \"\\u5b50\\u9879\\u76ee\\u7f16\\u53f7(\\u5546\\u4e1a\\u9879\\u76ee)\", \"x\": [\"10-2\", \"10-3\"], \"y\": [21.0, 22.0], \"type\": \"bar\", \"uid\": \"ebd52344-d2dd-11e8-8102-a81e84e6c740\"}, {\"name\": \"\\u5b50\\u9879\\u76ee\\u7f16\\u53f7(\\u7814\\u53d1\\u9879\\u76ee)\", \"x\": [\"10-2\", \"10-3\"], \"y\": [22.0, 20.0], \"type\": \"bar\", \"uid\": \"ebd52722-d2dd-11e8-8102-a81e84e6c740\"}], {\"title\": \"\\u5b50\\u9879\\u76ee\\u7f16\\u53f7\\u5468\\u8d8b\\u52bf\\u56fe\", \"xaxis\": {\"mirror\": \"all\", \"nticks\": 20, \"showgrid\": true, \"showline\": true, \"title\": \"\\u5468\", \"type\": \"category\", \"zeroline\": true}, \"yaxis\": {\"mirror\": \"all\", \"nticks\": 20, \"showgrid\": true, \"showline\": true, \"title\": \"\\u5b50\\u9879\\u76ee\\u7f16\\u53f7\", \"zeroline\": true}}, {\"showLink\": true, \"linkText\": \"Export to plot.ly\"})});</script>"
      ],
      "text/vnd.plotly.v1+html": [
       "<div id=\"b5b2849e-4c41-4ef0-9ceb-674362895e2a\" style=\"height: 525px; width: 100%;\" class=\"plotly-graph-div\"></div><script type=\"text/javascript\">require([\"plotly\"], function(Plotly) { window.PLOTLYENV=window.PLOTLYENV || {};window.PLOTLYENV.BASE_URL=\"https://plot.ly\";Plotly.newPlot(\"b5b2849e-4c41-4ef0-9ceb-674362895e2a\", [{\"name\": \"\\u5b50\\u9879\\u76ee\\u7f16\\u53f7(0)\", \"x\": [\"10-2\", \"10-3\"], \"y\": [null, 1.0], \"type\": \"bar\", \"uid\": \"ebd51f98-d2dd-11e8-8102-a81e84e6c740\"}, {\"name\": \"\\u5b50\\u9879\\u76ee\\u7f16\\u53f7(\\u5546\\u4e1a\\u9879\\u76ee)\", \"x\": [\"10-2\", \"10-3\"], \"y\": [21.0, 22.0], \"type\": \"bar\", \"uid\": \"ebd52344-d2dd-11e8-8102-a81e84e6c740\"}, {\"name\": \"\\u5b50\\u9879\\u76ee\\u7f16\\u53f7(\\u7814\\u53d1\\u9879\\u76ee)\", \"x\": [\"10-2\", \"10-3\"], \"y\": [22.0, 20.0], \"type\": \"bar\", \"uid\": \"ebd52722-d2dd-11e8-8102-a81e84e6c740\"}], {\"title\": \"\\u5b50\\u9879\\u76ee\\u7f16\\u53f7\\u5468\\u8d8b\\u52bf\\u56fe\", \"xaxis\": {\"mirror\": \"all\", \"nticks\": 20, \"showgrid\": true, \"showline\": true, \"title\": \"\\u5468\", \"type\": \"category\", \"zeroline\": true}, \"yaxis\": {\"mirror\": \"all\", \"nticks\": 20, \"showgrid\": true, \"showline\": true, \"title\": \"\\u5b50\\u9879\\u76ee\\u7f16\\u53f7\", \"zeroline\": true}}, {\"showLink\": true, \"linkText\": \"Export to plot.ly\"})});</script>"
      ]
     },
     "metadata": {},
     "output_type": "display_data"
    }
   ],
   "source": [
    "ss = myModule.format(df2 ,df2.columns[1] ,['子项目编号'])\n",
    "ss.add_group('产品大类（研发项目/商业项目）')\n",
    "#ss.get_average_by('子项目号')\n",
    "#ss.df.groupby([ss.x , ss.group_col]).sum().groupby([ss.x , ss.group_col]).mean()\n",
    "tt = myModule.myPlot(ss.groupby('count'))\n",
    "tt.plot('bar')"
   ]
  },
  {
   "cell_type": "markdown",
   "metadata": {},
   "source": [
    "### 工时"
   ]
  },
  {
   "cell_type": "code",
   "execution_count": 30,
   "metadata": {
    "collapsed": false
   },
   "outputs": [
    {
     "data": {
      "application/vnd.plotly.v1+json": {
       "data": [
        {
         "name": "总工时(0)",
         "type": "bar",
         "uid": "f30fad14-d2dd-11e8-8102-a81e84e6c740",
         "x": [
          "10-2",
          "10-3"
         ],
         "y": [
          null,
          4
         ]
        },
        {
         "name": "总工时(商业项目)",
         "type": "bar",
         "uid": "f30fb0ca-d2dd-11e8-8102-a81e84e6c740",
         "x": [
          "10-2",
          "10-3"
         ],
         "y": [
          99,
          103
         ]
        },
        {
         "name": "总工时(研发项目)",
         "type": "bar",
         "uid": "f30fb336-d2dd-11e8-8102-a81e84e6c740",
         "x": [
          "10-2",
          "10-3"
         ],
         "y": [
          129,
          134
         ]
        }
       ],
       "layout": {
        "title": "总工时周趋势图",
        "xaxis": {
         "mirror": "all",
         "nticks": 20,
         "showgrid": true,
         "showline": true,
         "title": "周",
         "type": "category",
         "zeroline": true
        },
        "yaxis": {
         "mirror": "all",
         "nticks": 20,
         "showgrid": true,
         "showline": true,
         "title": "总工时",
         "zeroline": true
        }
       }
      },
      "text/html": [
       "<div id=\"c212969c-f31c-4353-8be8-fd060df41907\" style=\"height: 525px; width: 100%;\" class=\"plotly-graph-div\"></div><script type=\"text/javascript\">require([\"plotly\"], function(Plotly) { window.PLOTLYENV=window.PLOTLYENV || {};window.PLOTLYENV.BASE_URL=\"https://plot.ly\";Plotly.newPlot(\"c212969c-f31c-4353-8be8-fd060df41907\", [{\"name\": \"\\u603b\\u5de5\\u65f6(0)\", \"x\": [\"10-2\", \"10-3\"], \"y\": [null, 4.0], \"type\": \"bar\", \"uid\": \"f30fad14-d2dd-11e8-8102-a81e84e6c740\"}, {\"name\": \"\\u603b\\u5de5\\u65f6(\\u5546\\u4e1a\\u9879\\u76ee)\", \"x\": [\"10-2\", \"10-3\"], \"y\": [99.0, 103.0], \"type\": \"bar\", \"uid\": \"f30fb0ca-d2dd-11e8-8102-a81e84e6c740\"}, {\"name\": \"\\u603b\\u5de5\\u65f6(\\u7814\\u53d1\\u9879\\u76ee)\", \"x\": [\"10-2\", \"10-3\"], \"y\": [129.0, 134.0], \"type\": \"bar\", \"uid\": \"f30fb336-d2dd-11e8-8102-a81e84e6c740\"}], {\"title\": \"\\u603b\\u5de5\\u65f6\\u5468\\u8d8b\\u52bf\\u56fe\", \"xaxis\": {\"mirror\": \"all\", \"nticks\": 20, \"showgrid\": true, \"showline\": true, \"title\": \"\\u5468\", \"type\": \"category\", \"zeroline\": true}, \"yaxis\": {\"mirror\": \"all\", \"nticks\": 20, \"showgrid\": true, \"showline\": true, \"title\": \"\\u603b\\u5de5\\u65f6\", \"zeroline\": true}}, {\"showLink\": true, \"linkText\": \"Export to plot.ly\"})});</script>"
      ],
      "text/vnd.plotly.v1+html": [
       "<div id=\"c212969c-f31c-4353-8be8-fd060df41907\" style=\"height: 525px; width: 100%;\" class=\"plotly-graph-div\"></div><script type=\"text/javascript\">require([\"plotly\"], function(Plotly) { window.PLOTLYENV=window.PLOTLYENV || {};window.PLOTLYENV.BASE_URL=\"https://plot.ly\";Plotly.newPlot(\"c212969c-f31c-4353-8be8-fd060df41907\", [{\"name\": \"\\u603b\\u5de5\\u65f6(0)\", \"x\": [\"10-2\", \"10-3\"], \"y\": [null, 4.0], \"type\": \"bar\", \"uid\": \"f30fad14-d2dd-11e8-8102-a81e84e6c740\"}, {\"name\": \"\\u603b\\u5de5\\u65f6(\\u5546\\u4e1a\\u9879\\u76ee)\", \"x\": [\"10-2\", \"10-3\"], \"y\": [99.0, 103.0], \"type\": \"bar\", \"uid\": \"f30fb0ca-d2dd-11e8-8102-a81e84e6c740\"}, {\"name\": \"\\u603b\\u5de5\\u65f6(\\u7814\\u53d1\\u9879\\u76ee)\", \"x\": [\"10-2\", \"10-3\"], \"y\": [129.0, 134.0], \"type\": \"bar\", \"uid\": \"f30fb336-d2dd-11e8-8102-a81e84e6c740\"}], {\"title\": \"\\u603b\\u5de5\\u65f6\\u5468\\u8d8b\\u52bf\\u56fe\", \"xaxis\": {\"mirror\": \"all\", \"nticks\": 20, \"showgrid\": true, \"showline\": true, \"title\": \"\\u5468\", \"type\": \"category\", \"zeroline\": true}, \"yaxis\": {\"mirror\": \"all\", \"nticks\": 20, \"showgrid\": true, \"showline\": true, \"title\": \"\\u603b\\u5de5\\u65f6\", \"zeroline\": true}}, {\"showLink\": true, \"linkText\": \"Export to plot.ly\"})});</script>"
      ]
     },
     "metadata": {},
     "output_type": "display_data"
    }
   ],
   "source": [
    "ss = myModule.format(df2 ,df2.columns[1] ,['总工时'])\n",
    "ss.add_group('产品大类（研发项目/商业项目）')\n",
    "#ss.get_average_by('子项目号')\n",
    "#ss.df.groupby([ss.x , ss.group_col]).sum().groupby([ss.x , ss.group_col]).mean()\n",
    "tt = myModule.myPlot(ss.groupby('sum'))\n",
    "tt.plot('bar')"
   ]
  },
  {
   "cell_type": "markdown",
   "metadata": {},
   "source": [
    "## 各产品占比"
   ]
  },
  {
   "cell_type": "markdown",
   "metadata": {},
   "source": [
    "### 个数"
   ]
  },
  {
   "cell_type": "code",
   "execution_count": 31,
   "metadata": {
    "collapsed": false,
    "scrolled": false
   },
   "outputs": [
    {
     "data": {
      "application/vnd.plotly.v1+json": {
       "data": [
        {
         "name": "子项目编号(混池测序)",
         "type": "bar",
         "uid": "f695f8a8-d2dd-11e8-8102-a81e84e6c740",
         "x": [
          "10-2",
          "10-3"
         ],
         "y": [
          1,
          1
         ]
        },
        {
         "name": "子项目编号(GWAS)",
         "type": "bar",
         "uid": "f695fc86-d2dd-11e8-8102-a81e84e6c740",
         "x": [
          "10-2",
          "10-3"
         ],
         "y": [
          2,
          1
         ]
        },
        {
         "name": "子项目编号(重测序)",
         "type": "bar",
         "uid": "f695fefc-d2dd-11e8-8102-a81e84e6c740",
         "x": [
          "10-2",
          "10-3"
         ],
         "y": [
          4,
          2
         ]
        },
        {
         "name": "子项目编号(单细胞重测序)",
         "type": "bar",
         "uid": "f69601a4-d2dd-11e8-8102-a81e84e6c740",
         "x": [
          "10-2",
          "10-3"
         ],
         "y": [
          1,
          null
         ]
        },
        {
         "name": "子项目编号(Hi-C辅助组装)",
         "type": "bar",
         "uid": "f6960398-d2dd-11e8-8102-a81e84e6c740",
         "x": [
          "10-2",
          "10-3"
         ],
         "y": [
          2,
          2
         ]
        },
        {
         "name": "子项目编号(denovo)",
         "type": "bar",
         "uid": "f6960582-d2dd-11e8-8102-a81e84e6c740",
         "x": [
          "10-2",
          "10-3"
         ],
         "y": [
          30,
          36
         ]
        },
        {
         "name": "子项目编号(群体进化)",
         "type": "bar",
         "uid": "f6960776-d2dd-11e8-8102-a81e84e6c740",
         "x": [
          "10-2",
          "10-3"
         ],
         "y": [
          3,
          null
         ]
        },
        {
         "name": "子项目编号(CRISPR)",
         "type": "bar",
         "uid": "f696096a-d2dd-11e8-8102-a81e84e6c740",
         "x": [
          "10-2",
          "10-3"
         ],
         "y": [
          null,
          1
         ]
        }
       ],
       "layout": {
        "title": "子项目编号周趋势图",
        "xaxis": {
         "mirror": "all",
         "nticks": 20,
         "showgrid": true,
         "showline": true,
         "title": "周",
         "type": "category",
         "zeroline": true
        },
        "yaxis": {
         "mirror": "all",
         "nticks": 20,
         "showgrid": true,
         "showline": true,
         "title": "子项目编号",
         "zeroline": true
        }
       }
      },
      "text/html": [
       "<div id=\"25bc4b3b-63de-476a-a9c9-f3e4c7b3b4db\" style=\"height: 525px; width: 100%;\" class=\"plotly-graph-div\"></div><script type=\"text/javascript\">require([\"plotly\"], function(Plotly) { window.PLOTLYENV=window.PLOTLYENV || {};window.PLOTLYENV.BASE_URL=\"https://plot.ly\";Plotly.newPlot(\"25bc4b3b-63de-476a-a9c9-f3e4c7b3b4db\", [{\"name\": \"\\u5b50\\u9879\\u76ee\\u7f16\\u53f7(\\u6df7\\u6c60\\u6d4b\\u5e8f)\", \"x\": [\"10-2\", \"10-3\"], \"y\": [1.0, 1.0], \"type\": \"bar\", \"uid\": \"f695f8a8-d2dd-11e8-8102-a81e84e6c740\"}, {\"name\": \"\\u5b50\\u9879\\u76ee\\u7f16\\u53f7(GWAS)\", \"x\": [\"10-2\", \"10-3\"], \"y\": [2.0, 1.0], \"type\": \"bar\", \"uid\": \"f695fc86-d2dd-11e8-8102-a81e84e6c740\"}, {\"name\": \"\\u5b50\\u9879\\u76ee\\u7f16\\u53f7(\\u91cd\\u6d4b\\u5e8f)\", \"x\": [\"10-2\", \"10-3\"], \"y\": [4.0, 2.0], \"type\": \"bar\", \"uid\": \"f695fefc-d2dd-11e8-8102-a81e84e6c740\"}, {\"name\": \"\\u5b50\\u9879\\u76ee\\u7f16\\u53f7(\\u5355\\u7ec6\\u80de\\u91cd\\u6d4b\\u5e8f)\", \"x\": [\"10-2\", \"10-3\"], \"y\": [1.0, null], \"type\": \"bar\", \"uid\": \"f69601a4-d2dd-11e8-8102-a81e84e6c740\"}, {\"name\": \"\\u5b50\\u9879\\u76ee\\u7f16\\u53f7(Hi-C\\u8f85\\u52a9\\u7ec4\\u88c5)\", \"x\": [\"10-2\", \"10-3\"], \"y\": [2.0, 2.0], \"type\": \"bar\", \"uid\": \"f6960398-d2dd-11e8-8102-a81e84e6c740\"}, {\"name\": \"\\u5b50\\u9879\\u76ee\\u7f16\\u53f7(denovo)\", \"x\": [\"10-2\", \"10-3\"], \"y\": [30.0, 36.0], \"type\": \"bar\", \"uid\": \"f6960582-d2dd-11e8-8102-a81e84e6c740\"}, {\"name\": \"\\u5b50\\u9879\\u76ee\\u7f16\\u53f7(\\u7fa4\\u4f53\\u8fdb\\u5316)\", \"x\": [\"10-2\", \"10-3\"], \"y\": [3.0, null], \"type\": \"bar\", \"uid\": \"f6960776-d2dd-11e8-8102-a81e84e6c740\"}, {\"name\": \"\\u5b50\\u9879\\u76ee\\u7f16\\u53f7(CRISPR)\", \"x\": [\"10-2\", \"10-3\"], \"y\": [null, 1.0], \"type\": \"bar\", \"uid\": \"f696096a-d2dd-11e8-8102-a81e84e6c740\"}], {\"title\": \"\\u5b50\\u9879\\u76ee\\u7f16\\u53f7\\u5468\\u8d8b\\u52bf\\u56fe\", \"xaxis\": {\"mirror\": \"all\", \"nticks\": 20, \"showgrid\": true, \"showline\": true, \"title\": \"\\u5468\", \"type\": \"category\", \"zeroline\": true}, \"yaxis\": {\"mirror\": \"all\", \"nticks\": 20, \"showgrid\": true, \"showline\": true, \"title\": \"\\u5b50\\u9879\\u76ee\\u7f16\\u53f7\", \"zeroline\": true}}, {\"showLink\": true, \"linkText\": \"Export to plot.ly\"})});</script>"
      ],
      "text/vnd.plotly.v1+html": [
       "<div id=\"25bc4b3b-63de-476a-a9c9-f3e4c7b3b4db\" style=\"height: 525px; width: 100%;\" class=\"plotly-graph-div\"></div><script type=\"text/javascript\">require([\"plotly\"], function(Plotly) { window.PLOTLYENV=window.PLOTLYENV || {};window.PLOTLYENV.BASE_URL=\"https://plot.ly\";Plotly.newPlot(\"25bc4b3b-63de-476a-a9c9-f3e4c7b3b4db\", [{\"name\": \"\\u5b50\\u9879\\u76ee\\u7f16\\u53f7(\\u6df7\\u6c60\\u6d4b\\u5e8f)\", \"x\": [\"10-2\", \"10-3\"], \"y\": [1.0, 1.0], \"type\": \"bar\", \"uid\": \"f695f8a8-d2dd-11e8-8102-a81e84e6c740\"}, {\"name\": \"\\u5b50\\u9879\\u76ee\\u7f16\\u53f7(GWAS)\", \"x\": [\"10-2\", \"10-3\"], \"y\": [2.0, 1.0], \"type\": \"bar\", \"uid\": \"f695fc86-d2dd-11e8-8102-a81e84e6c740\"}, {\"name\": \"\\u5b50\\u9879\\u76ee\\u7f16\\u53f7(\\u91cd\\u6d4b\\u5e8f)\", \"x\": [\"10-2\", \"10-3\"], \"y\": [4.0, 2.0], \"type\": \"bar\", \"uid\": \"f695fefc-d2dd-11e8-8102-a81e84e6c740\"}, {\"name\": \"\\u5b50\\u9879\\u76ee\\u7f16\\u53f7(\\u5355\\u7ec6\\u80de\\u91cd\\u6d4b\\u5e8f)\", \"x\": [\"10-2\", \"10-3\"], \"y\": [1.0, null], \"type\": \"bar\", \"uid\": \"f69601a4-d2dd-11e8-8102-a81e84e6c740\"}, {\"name\": \"\\u5b50\\u9879\\u76ee\\u7f16\\u53f7(Hi-C\\u8f85\\u52a9\\u7ec4\\u88c5)\", \"x\": [\"10-2\", \"10-3\"], \"y\": [2.0, 2.0], \"type\": \"bar\", \"uid\": \"f6960398-d2dd-11e8-8102-a81e84e6c740\"}, {\"name\": \"\\u5b50\\u9879\\u76ee\\u7f16\\u53f7(denovo)\", \"x\": [\"10-2\", \"10-3\"], \"y\": [30.0, 36.0], \"type\": \"bar\", \"uid\": \"f6960582-d2dd-11e8-8102-a81e84e6c740\"}, {\"name\": \"\\u5b50\\u9879\\u76ee\\u7f16\\u53f7(\\u7fa4\\u4f53\\u8fdb\\u5316)\", \"x\": [\"10-2\", \"10-3\"], \"y\": [3.0, null], \"type\": \"bar\", \"uid\": \"f6960776-d2dd-11e8-8102-a81e84e6c740\"}, {\"name\": \"\\u5b50\\u9879\\u76ee\\u7f16\\u53f7(CRISPR)\", \"x\": [\"10-2\", \"10-3\"], \"y\": [null, 1.0], \"type\": \"bar\", \"uid\": \"f696096a-d2dd-11e8-8102-a81e84e6c740\"}], {\"title\": \"\\u5b50\\u9879\\u76ee\\u7f16\\u53f7\\u5468\\u8d8b\\u52bf\\u56fe\", \"xaxis\": {\"mirror\": \"all\", \"nticks\": 20, \"showgrid\": true, \"showline\": true, \"title\": \"\\u5468\", \"type\": \"category\", \"zeroline\": true}, \"yaxis\": {\"mirror\": \"all\", \"nticks\": 20, \"showgrid\": true, \"showline\": true, \"title\": \"\\u5b50\\u9879\\u76ee\\u7f16\\u53f7\", \"zeroline\": true}}, {\"showLink\": true, \"linkText\": \"Export to plot.ly\"})});</script>"
      ]
     },
     "metadata": {},
     "output_type": "display_data"
    }
   ],
   "source": [
    "ss = myModule.format(df2 ,df2.columns[1] ,['子项目编号'])\n",
    "ss.add_group('产品子类')\n",
    "#ss.get_average_by('子项目号')\n",
    "#ss.df.groupby([ss.x , ss.group_col]).sum().groupby([ss.x , ss.group_col]).mean()\n",
    "tt = myModule.myPlot(ss.groupby('count'))\n",
    "tt.plot('bar')"
   ]
  },
  {
   "cell_type": "markdown",
   "metadata": {},
   "source": [
    "### 工时"
   ]
  },
  {
   "cell_type": "code",
   "execution_count": 32,
   "metadata": {
    "collapsed": false,
    "scrolled": false
   },
   "outputs": [
    {
     "data": {
      "application/vnd.plotly.v1+json": {
       "data": [
        {
         "name": "总工时(混池测序)",
         "type": "bar",
         "uid": "fa92763e-d2dd-11e8-8102-a81e84e6c740",
         "x": [
          "10-2",
          "10-3"
         ],
         "y": [
          4,
          4
         ]
        },
        {
         "name": "总工时(GWAS)",
         "type": "bar",
         "uid": "fa927a76-d2dd-11e8-8102-a81e84e6c740",
         "x": [
          "10-2",
          "10-3"
         ],
         "y": [
          18,
          10
         ]
        },
        {
         "name": "总工时(重测序)",
         "type": "bar",
         "uid": "fa927cb0-d2dd-11e8-8102-a81e84e6c740",
         "x": [
          "10-2",
          "10-3"
         ],
         "y": [
          20,
          18
         ]
        },
        {
         "name": "总工时(单细胞重测序)",
         "type": "bar",
         "uid": "fa92805c-d2dd-11e8-8102-a81e84e6c740",
         "x": [
          "10-2",
          "10-3"
         ],
         "y": [
          6,
          null
         ]
        },
        {
         "name": "总工时(Hi-C辅助组装)",
         "type": "bar",
         "uid": "fa928250-d2dd-11e8-8102-a81e84e6c740",
         "x": [
          "10-2",
          "10-3"
         ],
         "y": [
          8,
          7
         ]
        },
        {
         "name": "总工时(denovo)",
         "type": "bar",
         "uid": "fa928430-d2dd-11e8-8102-a81e84e6c740",
         "x": [
          "10-2",
          "10-3"
         ],
         "y": [
          152,
          196
         ]
        },
        {
         "name": "总工时(群体进化)",
         "type": "bar",
         "uid": "fa928606-d2dd-11e8-8102-a81e84e6c740",
         "x": [
          "10-2",
          "10-3"
         ],
         "y": [
          20,
          null
         ]
        },
        {
         "name": "总工时(CRISPR)",
         "type": "bar",
         "uid": "fa9287d2-d2dd-11e8-8102-a81e84e6c740",
         "x": [
          "10-2",
          "10-3"
         ],
         "y": [
          null,
          6
         ]
        }
       ],
       "layout": {
        "title": "总工时周趋势图",
        "xaxis": {
         "mirror": "all",
         "nticks": 20,
         "showgrid": true,
         "showline": true,
         "title": "周",
         "type": "category",
         "zeroline": true
        },
        "yaxis": {
         "mirror": "all",
         "nticks": 20,
         "showgrid": true,
         "showline": true,
         "title": "总工时",
         "zeroline": true
        }
       }
      },
      "text/html": [
       "<div id=\"33dd8d56-4c23-4eb4-aa67-44b4b54e45da\" style=\"height: 525px; width: 100%;\" class=\"plotly-graph-div\"></div><script type=\"text/javascript\">require([\"plotly\"], function(Plotly) { window.PLOTLYENV=window.PLOTLYENV || {};window.PLOTLYENV.BASE_URL=\"https://plot.ly\";Plotly.newPlot(\"33dd8d56-4c23-4eb4-aa67-44b4b54e45da\", [{\"name\": \"\\u603b\\u5de5\\u65f6(\\u6df7\\u6c60\\u6d4b\\u5e8f)\", \"x\": [\"10-2\", \"10-3\"], \"y\": [4.0, 4.0], \"type\": \"bar\", \"uid\": \"fa92763e-d2dd-11e8-8102-a81e84e6c740\"}, {\"name\": \"\\u603b\\u5de5\\u65f6(GWAS)\", \"x\": [\"10-2\", \"10-3\"], \"y\": [18.0, 10.0], \"type\": \"bar\", \"uid\": \"fa927a76-d2dd-11e8-8102-a81e84e6c740\"}, {\"name\": \"\\u603b\\u5de5\\u65f6(\\u91cd\\u6d4b\\u5e8f)\", \"x\": [\"10-2\", \"10-3\"], \"y\": [20.0, 18.0], \"type\": \"bar\", \"uid\": \"fa927cb0-d2dd-11e8-8102-a81e84e6c740\"}, {\"name\": \"\\u603b\\u5de5\\u65f6(\\u5355\\u7ec6\\u80de\\u91cd\\u6d4b\\u5e8f)\", \"x\": [\"10-2\", \"10-3\"], \"y\": [6.0, null], \"type\": \"bar\", \"uid\": \"fa92805c-d2dd-11e8-8102-a81e84e6c740\"}, {\"name\": \"\\u603b\\u5de5\\u65f6(Hi-C\\u8f85\\u52a9\\u7ec4\\u88c5)\", \"x\": [\"10-2\", \"10-3\"], \"y\": [8.0, 7.0], \"type\": \"bar\", \"uid\": \"fa928250-d2dd-11e8-8102-a81e84e6c740\"}, {\"name\": \"\\u603b\\u5de5\\u65f6(denovo)\", \"x\": [\"10-2\", \"10-3\"], \"y\": [152.0, 196.0], \"type\": \"bar\", \"uid\": \"fa928430-d2dd-11e8-8102-a81e84e6c740\"}, {\"name\": \"\\u603b\\u5de5\\u65f6(\\u7fa4\\u4f53\\u8fdb\\u5316)\", \"x\": [\"10-2\", \"10-3\"], \"y\": [20.0, null], \"type\": \"bar\", \"uid\": \"fa928606-d2dd-11e8-8102-a81e84e6c740\"}, {\"name\": \"\\u603b\\u5de5\\u65f6(CRISPR)\", \"x\": [\"10-2\", \"10-3\"], \"y\": [null, 6.0], \"type\": \"bar\", \"uid\": \"fa9287d2-d2dd-11e8-8102-a81e84e6c740\"}], {\"title\": \"\\u603b\\u5de5\\u65f6\\u5468\\u8d8b\\u52bf\\u56fe\", \"xaxis\": {\"mirror\": \"all\", \"nticks\": 20, \"showgrid\": true, \"showline\": true, \"title\": \"\\u5468\", \"type\": \"category\", \"zeroline\": true}, \"yaxis\": {\"mirror\": \"all\", \"nticks\": 20, \"showgrid\": true, \"showline\": true, \"title\": \"\\u603b\\u5de5\\u65f6\", \"zeroline\": true}}, {\"showLink\": true, \"linkText\": \"Export to plot.ly\"})});</script>"
      ],
      "text/vnd.plotly.v1+html": [
       "<div id=\"33dd8d56-4c23-4eb4-aa67-44b4b54e45da\" style=\"height: 525px; width: 100%;\" class=\"plotly-graph-div\"></div><script type=\"text/javascript\">require([\"plotly\"], function(Plotly) { window.PLOTLYENV=window.PLOTLYENV || {};window.PLOTLYENV.BASE_URL=\"https://plot.ly\";Plotly.newPlot(\"33dd8d56-4c23-4eb4-aa67-44b4b54e45da\", [{\"name\": \"\\u603b\\u5de5\\u65f6(\\u6df7\\u6c60\\u6d4b\\u5e8f)\", \"x\": [\"10-2\", \"10-3\"], \"y\": [4.0, 4.0], \"type\": \"bar\", \"uid\": \"fa92763e-d2dd-11e8-8102-a81e84e6c740\"}, {\"name\": \"\\u603b\\u5de5\\u65f6(GWAS)\", \"x\": [\"10-2\", \"10-3\"], \"y\": [18.0, 10.0], \"type\": \"bar\", \"uid\": \"fa927a76-d2dd-11e8-8102-a81e84e6c740\"}, {\"name\": \"\\u603b\\u5de5\\u65f6(\\u91cd\\u6d4b\\u5e8f)\", \"x\": [\"10-2\", \"10-3\"], \"y\": [20.0, 18.0], \"type\": \"bar\", \"uid\": \"fa927cb0-d2dd-11e8-8102-a81e84e6c740\"}, {\"name\": \"\\u603b\\u5de5\\u65f6(\\u5355\\u7ec6\\u80de\\u91cd\\u6d4b\\u5e8f)\", \"x\": [\"10-2\", \"10-3\"], \"y\": [6.0, null], \"type\": \"bar\", \"uid\": \"fa92805c-d2dd-11e8-8102-a81e84e6c740\"}, {\"name\": \"\\u603b\\u5de5\\u65f6(Hi-C\\u8f85\\u52a9\\u7ec4\\u88c5)\", \"x\": [\"10-2\", \"10-3\"], \"y\": [8.0, 7.0], \"type\": \"bar\", \"uid\": \"fa928250-d2dd-11e8-8102-a81e84e6c740\"}, {\"name\": \"\\u603b\\u5de5\\u65f6(denovo)\", \"x\": [\"10-2\", \"10-3\"], \"y\": [152.0, 196.0], \"type\": \"bar\", \"uid\": \"fa928430-d2dd-11e8-8102-a81e84e6c740\"}, {\"name\": \"\\u603b\\u5de5\\u65f6(\\u7fa4\\u4f53\\u8fdb\\u5316)\", \"x\": [\"10-2\", \"10-3\"], \"y\": [20.0, null], \"type\": \"bar\", \"uid\": \"fa928606-d2dd-11e8-8102-a81e84e6c740\"}, {\"name\": \"\\u603b\\u5de5\\u65f6(CRISPR)\", \"x\": [\"10-2\", \"10-3\"], \"y\": [null, 6.0], \"type\": \"bar\", \"uid\": \"fa9287d2-d2dd-11e8-8102-a81e84e6c740\"}], {\"title\": \"\\u603b\\u5de5\\u65f6\\u5468\\u8d8b\\u52bf\\u56fe\", \"xaxis\": {\"mirror\": \"all\", \"nticks\": 20, \"showgrid\": true, \"showline\": true, \"title\": \"\\u5468\", \"type\": \"category\", \"zeroline\": true}, \"yaxis\": {\"mirror\": \"all\", \"nticks\": 20, \"showgrid\": true, \"showline\": true, \"title\": \"\\u603b\\u5de5\\u65f6\", \"zeroline\": true}}, {\"showLink\": true, \"linkText\": \"Export to plot.ly\"})});</script>"
      ]
     },
     "metadata": {},
     "output_type": "display_data"
    }
   ],
   "source": [
    "ss = myModule.format(df2 ,df2.columns[1] ,['总工时'])\n",
    "ss.add_group('产品子类')\n",
    "#ss.get_average_by('子项目号')\n",
    "#ss.df.groupby([ss.x , ss.group_col]).sum().groupby([ss.x , ss.group_col]).mean()\n",
    "tt = myModule.myPlot(ss.groupby('sum'))\n",
    "tt.plot('bar')"
   ]
  },
  {
   "cell_type": "markdown",
   "metadata": {},
   "source": [
    "# 转录调控组下单情况"
   ]
  },
  {
   "cell_type": "code",
   "execution_count": 34,
   "metadata": {
    "collapsed": true
   },
   "outputs": [],
   "source": [
    "pathway = '/mnt/e/工作/下单申请/2018第四季度/2018-10-15/new/'\n",
    "all_files  = xiadan_check.get_files(pathway, \"转录\",\"10-2\")   ##给路径\n",
    "df3  = xiadan_check.read_xlsx(all_files ,  0 )## read all files sheet1"
   ]
  },
  {
   "cell_type": "markdown",
   "metadata": {},
   "source": [
    "## 转录调控人员立项总工时情况"
   ]
  },
  {
   "cell_type": "code",
   "execution_count": 35,
   "metadata": {
    "collapsed": false
   },
   "outputs": [
    {
     "data": {
      "application/vnd.plotly.v1+json": {
       "data": [
        {
         "name": "总工时(韩少怀)",
         "type": "bar",
         "uid": "01f0d092-d2de-11e8-8102-a81e84e6c740",
         "x": [
          "10-2",
          "10-3"
         ],
         "y": [
          34,
          32
         ]
        },
        {
         "name": "总工时(谢德健)",
         "type": "bar",
         "uid": "01f0d7b8-d2de-11e8-8102-a81e84e6c740",
         "x": [
          "10-2",
          "10-3"
         ],
         "y": [
          38,
          34
         ]
        },
        {
         "name": "总工时(范旭宁)",
         "type": "bar",
         "uid": "01f0daba-d2de-11e8-8102-a81e84e6c740",
         "x": [
          "10-2",
          "10-3"
         ],
         "y": [
          36,
          34
         ]
        },
        {
         "name": "总工时(姚盟成)",
         "type": "bar",
         "uid": "01f0dcc2-d2de-11e8-8102-a81e84e6c740",
         "x": [
          "10-2",
          "10-3"
         ],
         "y": [
          36,
          32
         ]
        },
        {
         "name": "总工时(段利强)",
         "type": "bar",
         "uid": "01f0deac-d2de-11e8-8102-a81e84e6c740",
         "x": [
          "10-2",
          "10-3"
         ],
         "y": [
          36,
          null
         ]
        },
        {
         "name": "总工时(张守伟)",
         "type": "bar",
         "uid": "01f0e082-d2de-11e8-8102-a81e84e6c740",
         "x": [
          "10-2",
          "10-3"
         ],
         "y": [
          36,
          36
         ]
        },
        {
         "name": "总工时(赵玥)",
         "type": "bar",
         "uid": "01f0e26c-d2de-11e8-8102-a81e84e6c740",
         "x": [
          "10-2",
          "10-3"
         ],
         "y": [
          38,
          58
         ]
        },
        {
         "name": "总工时(昶吉阳)",
         "type": "bar",
         "uid": "01f0e442-d2de-11e8-8102-a81e84e6c740",
         "x": [
          "10-2",
          "10-3"
         ],
         "y": [
          null,
          6
         ]
        }
       ],
       "layout": {
        "title": "总工时周趋势图",
        "xaxis": {
         "mirror": "all",
         "nticks": 20,
         "showgrid": true,
         "showline": true,
         "title": "周",
         "type": "category",
         "zeroline": true
        },
        "yaxis": {
         "mirror": "all",
         "nticks": 20,
         "showgrid": true,
         "showline": true,
         "title": "总工时",
         "zeroline": true
        }
       }
      },
      "text/html": [
       "<div id=\"d84ac7e6-673b-40af-84ef-84cb556cc97a\" style=\"height: 525px; width: 100%;\" class=\"plotly-graph-div\"></div><script type=\"text/javascript\">require([\"plotly\"], function(Plotly) { window.PLOTLYENV=window.PLOTLYENV || {};window.PLOTLYENV.BASE_URL=\"https://plot.ly\";Plotly.newPlot(\"d84ac7e6-673b-40af-84ef-84cb556cc97a\", [{\"name\": \"\\u603b\\u5de5\\u65f6(\\u97e9\\u5c11\\u6000)\", \"x\": [\"10-2\", \"10-3\"], \"y\": [34.0, 32.0], \"type\": \"bar\", \"uid\": \"01f0d092-d2de-11e8-8102-a81e84e6c740\"}, {\"name\": \"\\u603b\\u5de5\\u65f6(\\u8c22\\u5fb7\\u5065)\", \"x\": [\"10-2\", \"10-3\"], \"y\": [38.0, 34.0], \"type\": \"bar\", \"uid\": \"01f0d7b8-d2de-11e8-8102-a81e84e6c740\"}, {\"name\": \"\\u603b\\u5de5\\u65f6(\\u8303\\u65ed\\u5b81)\", \"x\": [\"10-2\", \"10-3\"], \"y\": [36.0, 34.0], \"type\": \"bar\", \"uid\": \"01f0daba-d2de-11e8-8102-a81e84e6c740\"}, {\"name\": \"\\u603b\\u5de5\\u65f6(\\u59da\\u76df\\u6210)\", \"x\": [\"10-2\", \"10-3\"], \"y\": [36.0, 32.0], \"type\": \"bar\", \"uid\": \"01f0dcc2-d2de-11e8-8102-a81e84e6c740\"}, {\"name\": \"\\u603b\\u5de5\\u65f6(\\u6bb5\\u5229\\u5f3a)\", \"x\": [\"10-2\", \"10-3\"], \"y\": [36.0, null], \"type\": \"bar\", \"uid\": \"01f0deac-d2de-11e8-8102-a81e84e6c740\"}, {\"name\": \"\\u603b\\u5de5\\u65f6(\\u5f20\\u5b88\\u4f1f)\", \"x\": [\"10-2\", \"10-3\"], \"y\": [36.0, 36.0], \"type\": \"bar\", \"uid\": \"01f0e082-d2de-11e8-8102-a81e84e6c740\"}, {\"name\": \"\\u603b\\u5de5\\u65f6(\\u8d75\\u73a5)\", \"x\": [\"10-2\", \"10-3\"], \"y\": [38.0, 58.0], \"type\": \"bar\", \"uid\": \"01f0e26c-d2de-11e8-8102-a81e84e6c740\"}, {\"name\": \"\\u603b\\u5de5\\u65f6(\\u6636\\u5409\\u9633)\", \"x\": [\"10-2\", \"10-3\"], \"y\": [null, 6.0], \"type\": \"bar\", \"uid\": \"01f0e442-d2de-11e8-8102-a81e84e6c740\"}], {\"title\": \"\\u603b\\u5de5\\u65f6\\u5468\\u8d8b\\u52bf\\u56fe\", \"xaxis\": {\"mirror\": \"all\", \"nticks\": 20, \"showgrid\": true, \"showline\": true, \"title\": \"\\u5468\", \"type\": \"category\", \"zeroline\": true}, \"yaxis\": {\"mirror\": \"all\", \"nticks\": 20, \"showgrid\": true, \"showline\": true, \"title\": \"\\u603b\\u5de5\\u65f6\", \"zeroline\": true}}, {\"showLink\": true, \"linkText\": \"Export to plot.ly\"})});</script>"
      ],
      "text/vnd.plotly.v1+html": [
       "<div id=\"d84ac7e6-673b-40af-84ef-84cb556cc97a\" style=\"height: 525px; width: 100%;\" class=\"plotly-graph-div\"></div><script type=\"text/javascript\">require([\"plotly\"], function(Plotly) { window.PLOTLYENV=window.PLOTLYENV || {};window.PLOTLYENV.BASE_URL=\"https://plot.ly\";Plotly.newPlot(\"d84ac7e6-673b-40af-84ef-84cb556cc97a\", [{\"name\": \"\\u603b\\u5de5\\u65f6(\\u97e9\\u5c11\\u6000)\", \"x\": [\"10-2\", \"10-3\"], \"y\": [34.0, 32.0], \"type\": \"bar\", \"uid\": \"01f0d092-d2de-11e8-8102-a81e84e6c740\"}, {\"name\": \"\\u603b\\u5de5\\u65f6(\\u8c22\\u5fb7\\u5065)\", \"x\": [\"10-2\", \"10-3\"], \"y\": [38.0, 34.0], \"type\": \"bar\", \"uid\": \"01f0d7b8-d2de-11e8-8102-a81e84e6c740\"}, {\"name\": \"\\u603b\\u5de5\\u65f6(\\u8303\\u65ed\\u5b81)\", \"x\": [\"10-2\", \"10-3\"], \"y\": [36.0, 34.0], \"type\": \"bar\", \"uid\": \"01f0daba-d2de-11e8-8102-a81e84e6c740\"}, {\"name\": \"\\u603b\\u5de5\\u65f6(\\u59da\\u76df\\u6210)\", \"x\": [\"10-2\", \"10-3\"], \"y\": [36.0, 32.0], \"type\": \"bar\", \"uid\": \"01f0dcc2-d2de-11e8-8102-a81e84e6c740\"}, {\"name\": \"\\u603b\\u5de5\\u65f6(\\u6bb5\\u5229\\u5f3a)\", \"x\": [\"10-2\", \"10-3\"], \"y\": [36.0, null], \"type\": \"bar\", \"uid\": \"01f0deac-d2de-11e8-8102-a81e84e6c740\"}, {\"name\": \"\\u603b\\u5de5\\u65f6(\\u5f20\\u5b88\\u4f1f)\", \"x\": [\"10-2\", \"10-3\"], \"y\": [36.0, 36.0], \"type\": \"bar\", \"uid\": \"01f0e082-d2de-11e8-8102-a81e84e6c740\"}, {\"name\": \"\\u603b\\u5de5\\u65f6(\\u8d75\\u73a5)\", \"x\": [\"10-2\", \"10-3\"], \"y\": [38.0, 58.0], \"type\": \"bar\", \"uid\": \"01f0e26c-d2de-11e8-8102-a81e84e6c740\"}, {\"name\": \"\\u603b\\u5de5\\u65f6(\\u6636\\u5409\\u9633)\", \"x\": [\"10-2\", \"10-3\"], \"y\": [null, 6.0], \"type\": \"bar\", \"uid\": \"01f0e442-d2de-11e8-8102-a81e84e6c740\"}], {\"title\": \"\\u603b\\u5de5\\u65f6\\u5468\\u8d8b\\u52bf\\u56fe\", \"xaxis\": {\"mirror\": \"all\", \"nticks\": 20, \"showgrid\": true, \"showline\": true, \"title\": \"\\u5468\", \"type\": \"category\", \"zeroline\": true}, \"yaxis\": {\"mirror\": \"all\", \"nticks\": 20, \"showgrid\": true, \"showline\": true, \"title\": \"\\u603b\\u5de5\\u65f6\", \"zeroline\": true}}, {\"showLink\": true, \"linkText\": \"Export to plot.ly\"})});</script>"
      ]
     },
     "metadata": {},
     "output_type": "display_data"
    }
   ],
   "source": [
    "ss = myModule.format(df3 ,df3.columns[1] ,['总工时'])\n",
    "ss.add_group('信息负责人')\n",
    "#ss.get_average_by('子项目号')\n",
    "#ss.df.groupby([ss.x , ss.group_col]).sum().groupby([ss.x , ss.group_col]).mean()\n",
    "tt = myModule.myPlot(ss.groupby('sum'))\n",
    "tt.plot('bar')"
   ]
  },
  {
   "cell_type": "markdown",
   "metadata": {},
   "source": [
    "## 转录调控人员立项下单个数情况"
   ]
  },
  {
   "cell_type": "code",
   "execution_count": 37,
   "metadata": {
    "collapsed": false
   },
   "outputs": [
    {
     "data": {
      "application/vnd.plotly.v1+json": {
       "data": [
        {
         "name": "子项目编号(韩少怀)",
         "type": "bar",
         "uid": "071aca32-d2de-11e8-8102-a81e84e6c740",
         "x": [
          "10-2",
          "10-3"
         ],
         "y": [
          4,
          5
         ]
        },
        {
         "name": "子项目编号(谢德健)",
         "type": "bar",
         "uid": "071acdca-d2de-11e8-8102-a81e84e6c740",
         "x": [
          "10-2",
          "10-3"
         ],
         "y": [
          4,
          3
         ]
        },
        {
         "name": "子项目编号(范旭宁)",
         "type": "bar",
         "uid": "071ad13a-d2de-11e8-8102-a81e84e6c740",
         "x": [
          "10-2",
          "10-3"
         ],
         "y": [
          5,
          3
         ]
        },
        {
         "name": "子项目编号(姚盟成)",
         "type": "bar",
         "uid": "071ad338-d2de-11e8-8102-a81e84e6c740",
         "x": [
          "10-2",
          "10-3"
         ],
         "y": [
          4,
          3
         ]
        },
        {
         "name": "子项目编号(段利强)",
         "type": "bar",
         "uid": "071ad522-d2de-11e8-8102-a81e84e6c740",
         "x": [
          "10-2",
          "10-3"
         ],
         "y": [
          3,
          null
         ]
        },
        {
         "name": "子项目编号(张守伟)",
         "type": "bar",
         "uid": "071ad702-d2de-11e8-8102-a81e84e6c740",
         "x": [
          "10-2",
          "10-3"
         ],
         "y": [
          3,
          3
         ]
        },
        {
         "name": "子项目编号(赵玥)",
         "type": "bar",
         "uid": "071ad8d8-d2de-11e8-8102-a81e84e6c740",
         "x": [
          "10-2",
          "10-3"
         ],
         "y": [
          4,
          6
         ]
        },
        {
         "name": "子项目编号(昶吉阳)",
         "type": "bar",
         "uid": "071adab8-d2de-11e8-8102-a81e84e6c740",
         "x": [
          "10-2",
          "10-3"
         ],
         "y": [
          null,
          1
         ]
        }
       ],
       "layout": {
        "title": "子项目编号周趋势图",
        "xaxis": {
         "mirror": "all",
         "nticks": 20,
         "showgrid": true,
         "showline": true,
         "title": "周",
         "type": "category",
         "zeroline": true
        },
        "yaxis": {
         "mirror": "all",
         "nticks": 20,
         "showgrid": true,
         "showline": true,
         "title": "子项目编号",
         "zeroline": true
        }
       }
      },
      "text/html": [
       "<div id=\"3d923b3a-f25b-4dfb-b0ae-f06434edcc8a\" style=\"height: 525px; width: 100%;\" class=\"plotly-graph-div\"></div><script type=\"text/javascript\">require([\"plotly\"], function(Plotly) { window.PLOTLYENV=window.PLOTLYENV || {};window.PLOTLYENV.BASE_URL=\"https://plot.ly\";Plotly.newPlot(\"3d923b3a-f25b-4dfb-b0ae-f06434edcc8a\", [{\"name\": \"\\u5b50\\u9879\\u76ee\\u7f16\\u53f7(\\u97e9\\u5c11\\u6000)\", \"x\": [\"10-2\", \"10-3\"], \"y\": [4.0, 5.0], \"type\": \"bar\", \"uid\": \"071aca32-d2de-11e8-8102-a81e84e6c740\"}, {\"name\": \"\\u5b50\\u9879\\u76ee\\u7f16\\u53f7(\\u8c22\\u5fb7\\u5065)\", \"x\": [\"10-2\", \"10-3\"], \"y\": [4.0, 3.0], \"type\": \"bar\", \"uid\": \"071acdca-d2de-11e8-8102-a81e84e6c740\"}, {\"name\": \"\\u5b50\\u9879\\u76ee\\u7f16\\u53f7(\\u8303\\u65ed\\u5b81)\", \"x\": [\"10-2\", \"10-3\"], \"y\": [5.0, 3.0], \"type\": \"bar\", \"uid\": \"071ad13a-d2de-11e8-8102-a81e84e6c740\"}, {\"name\": \"\\u5b50\\u9879\\u76ee\\u7f16\\u53f7(\\u59da\\u76df\\u6210)\", \"x\": [\"10-2\", \"10-3\"], \"y\": [4.0, 3.0], \"type\": \"bar\", \"uid\": \"071ad338-d2de-11e8-8102-a81e84e6c740\"}, {\"name\": \"\\u5b50\\u9879\\u76ee\\u7f16\\u53f7(\\u6bb5\\u5229\\u5f3a)\", \"x\": [\"10-2\", \"10-3\"], \"y\": [3.0, null], \"type\": \"bar\", \"uid\": \"071ad522-d2de-11e8-8102-a81e84e6c740\"}, {\"name\": \"\\u5b50\\u9879\\u76ee\\u7f16\\u53f7(\\u5f20\\u5b88\\u4f1f)\", \"x\": [\"10-2\", \"10-3\"], \"y\": [3.0, 3.0], \"type\": \"bar\", \"uid\": \"071ad702-d2de-11e8-8102-a81e84e6c740\"}, {\"name\": \"\\u5b50\\u9879\\u76ee\\u7f16\\u53f7(\\u8d75\\u73a5)\", \"x\": [\"10-2\", \"10-3\"], \"y\": [4.0, 6.0], \"type\": \"bar\", \"uid\": \"071ad8d8-d2de-11e8-8102-a81e84e6c740\"}, {\"name\": \"\\u5b50\\u9879\\u76ee\\u7f16\\u53f7(\\u6636\\u5409\\u9633)\", \"x\": [\"10-2\", \"10-3\"], \"y\": [null, 1.0], \"type\": \"bar\", \"uid\": \"071adab8-d2de-11e8-8102-a81e84e6c740\"}], {\"title\": \"\\u5b50\\u9879\\u76ee\\u7f16\\u53f7\\u5468\\u8d8b\\u52bf\\u56fe\", \"xaxis\": {\"mirror\": \"all\", \"nticks\": 20, \"showgrid\": true, \"showline\": true, \"title\": \"\\u5468\", \"type\": \"category\", \"zeroline\": true}, \"yaxis\": {\"mirror\": \"all\", \"nticks\": 20, \"showgrid\": true, \"showline\": true, \"title\": \"\\u5b50\\u9879\\u76ee\\u7f16\\u53f7\", \"zeroline\": true}}, {\"showLink\": true, \"linkText\": \"Export to plot.ly\"})});</script>"
      ],
      "text/vnd.plotly.v1+html": [
       "<div id=\"3d923b3a-f25b-4dfb-b0ae-f06434edcc8a\" style=\"height: 525px; width: 100%;\" class=\"plotly-graph-div\"></div><script type=\"text/javascript\">require([\"plotly\"], function(Plotly) { window.PLOTLYENV=window.PLOTLYENV || {};window.PLOTLYENV.BASE_URL=\"https://plot.ly\";Plotly.newPlot(\"3d923b3a-f25b-4dfb-b0ae-f06434edcc8a\", [{\"name\": \"\\u5b50\\u9879\\u76ee\\u7f16\\u53f7(\\u97e9\\u5c11\\u6000)\", \"x\": [\"10-2\", \"10-3\"], \"y\": [4.0, 5.0], \"type\": \"bar\", \"uid\": \"071aca32-d2de-11e8-8102-a81e84e6c740\"}, {\"name\": \"\\u5b50\\u9879\\u76ee\\u7f16\\u53f7(\\u8c22\\u5fb7\\u5065)\", \"x\": [\"10-2\", \"10-3\"], \"y\": [4.0, 3.0], \"type\": \"bar\", \"uid\": \"071acdca-d2de-11e8-8102-a81e84e6c740\"}, {\"name\": \"\\u5b50\\u9879\\u76ee\\u7f16\\u53f7(\\u8303\\u65ed\\u5b81)\", \"x\": [\"10-2\", \"10-3\"], \"y\": [5.0, 3.0], \"type\": \"bar\", \"uid\": \"071ad13a-d2de-11e8-8102-a81e84e6c740\"}, {\"name\": \"\\u5b50\\u9879\\u76ee\\u7f16\\u53f7(\\u59da\\u76df\\u6210)\", \"x\": [\"10-2\", \"10-3\"], \"y\": [4.0, 3.0], \"type\": \"bar\", \"uid\": \"071ad338-d2de-11e8-8102-a81e84e6c740\"}, {\"name\": \"\\u5b50\\u9879\\u76ee\\u7f16\\u53f7(\\u6bb5\\u5229\\u5f3a)\", \"x\": [\"10-2\", \"10-3\"], \"y\": [3.0, null], \"type\": \"bar\", \"uid\": \"071ad522-d2de-11e8-8102-a81e84e6c740\"}, {\"name\": \"\\u5b50\\u9879\\u76ee\\u7f16\\u53f7(\\u5f20\\u5b88\\u4f1f)\", \"x\": [\"10-2\", \"10-3\"], \"y\": [3.0, 3.0], \"type\": \"bar\", \"uid\": \"071ad702-d2de-11e8-8102-a81e84e6c740\"}, {\"name\": \"\\u5b50\\u9879\\u76ee\\u7f16\\u53f7(\\u8d75\\u73a5)\", \"x\": [\"10-2\", \"10-3\"], \"y\": [4.0, 6.0], \"type\": \"bar\", \"uid\": \"071ad8d8-d2de-11e8-8102-a81e84e6c740\"}, {\"name\": \"\\u5b50\\u9879\\u76ee\\u7f16\\u53f7(\\u6636\\u5409\\u9633)\", \"x\": [\"10-2\", \"10-3\"], \"y\": [null, 1.0], \"type\": \"bar\", \"uid\": \"071adab8-d2de-11e8-8102-a81e84e6c740\"}], {\"title\": \"\\u5b50\\u9879\\u76ee\\u7f16\\u53f7\\u5468\\u8d8b\\u52bf\\u56fe\", \"xaxis\": {\"mirror\": \"all\", \"nticks\": 20, \"showgrid\": true, \"showline\": true, \"title\": \"\\u5468\", \"type\": \"category\", \"zeroline\": true}, \"yaxis\": {\"mirror\": \"all\", \"nticks\": 20, \"showgrid\": true, \"showline\": true, \"title\": \"\\u5b50\\u9879\\u76ee\\u7f16\\u53f7\", \"zeroline\": true}}, {\"showLink\": true, \"linkText\": \"Export to plot.ly\"})});</script>"
      ]
     },
     "metadata": {},
     "output_type": "display_data"
    }
   ],
   "source": [
    "ss = myModule.format(df3 ,df3.columns[1] ,['子项目编号'])\n",
    "ss.add_group('信息负责人')\n",
    "tt = myModule.myPlot(ss.groupby('count'))\n",
    "tt.plot('bar')"
   ]
  },
  {
   "cell_type": "markdown",
   "metadata": {},
   "source": [
    "## 转录调控组人员立项人均工时情况"
   ]
  },
  {
   "cell_type": "code",
   "execution_count": 39,
   "metadata": {
    "collapsed": false
   },
   "outputs": [
    {
     "data": {
      "application/vnd.plotly.v1+json": {
       "data": [
        {
         "name": "总工时(韩少怀)",
         "type": "bar",
         "uid": "0cc5944e-d2de-11e8-8102-a81e84e6c740",
         "x": [
          "10-2",
          "10-3"
         ],
         "y": [
          8.5,
          6.4
         ]
        },
        {
         "name": "总工时(谢德健)",
         "type": "bar",
         "uid": "0cc597be-d2de-11e8-8102-a81e84e6c740",
         "x": [
          "10-2",
          "10-3"
         ],
         "y": [
          9.5,
          11.333333333333334
         ]
        },
        {
         "name": "总工时(范旭宁)",
         "type": "bar",
         "uid": "0cc59a20-d2de-11e8-8102-a81e84e6c740",
         "x": [
          "10-2",
          "10-3"
         ],
         "y": [
          7.2,
          11.333333333333334
         ]
        },
        {
         "name": "总工时(姚盟成)",
         "type": "bar",
         "uid": "0cc59c50-d2de-11e8-8102-a81e84e6c740",
         "x": [
          "10-2",
          "10-3"
         ],
         "y": [
          9,
          10.666666666666666
         ]
        },
        {
         "name": "总工时(段利强)",
         "type": "bar",
         "uid": "0cc59e58-d2de-11e8-8102-a81e84e6c740",
         "x": [
          "10-2",
          "10-3"
         ],
         "y": [
          12,
          null
         ]
        },
        {
         "name": "总工时(张守伟)",
         "type": "bar",
         "uid": "0cc5a04c-d2de-11e8-8102-a81e84e6c740",
         "x": [
          "10-2",
          "10-3"
         ],
         "y": [
          12,
          12
         ]
        },
        {
         "name": "总工时(赵玥)",
         "type": "bar",
         "uid": "0cc5a254-d2de-11e8-8102-a81e84e6c740",
         "x": [
          "10-2",
          "10-3"
         ],
         "y": [
          9.5,
          9.666666666666666
         ]
        },
        {
         "name": "总工时(昶吉阳)",
         "type": "bar",
         "uid": "0cc5a43e-d2de-11e8-8102-a81e84e6c740",
         "x": [
          "10-2",
          "10-3"
         ],
         "y": [
          null,
          6
         ]
        }
       ],
       "layout": {
        "title": "总工时周趋势图",
        "xaxis": {
         "mirror": "all",
         "nticks": 20,
         "showgrid": true,
         "showline": true,
         "title": "周",
         "type": "category",
         "zeroline": true
        },
        "yaxis": {
         "mirror": "all",
         "nticks": 20,
         "showgrid": true,
         "showline": true,
         "title": "总工时",
         "zeroline": true
        }
       }
      },
      "text/html": [
       "<div id=\"82495fa6-4d30-457d-97e5-84c20a4fd1c9\" style=\"height: 525px; width: 100%;\" class=\"plotly-graph-div\"></div><script type=\"text/javascript\">require([\"plotly\"], function(Plotly) { window.PLOTLYENV=window.PLOTLYENV || {};window.PLOTLYENV.BASE_URL=\"https://plot.ly\";Plotly.newPlot(\"82495fa6-4d30-457d-97e5-84c20a4fd1c9\", [{\"name\": \"\\u603b\\u5de5\\u65f6(\\u97e9\\u5c11\\u6000)\", \"x\": [\"10-2\", \"10-3\"], \"y\": [8.5, 6.4], \"type\": \"bar\", \"uid\": \"0cc5944e-d2de-11e8-8102-a81e84e6c740\"}, {\"name\": \"\\u603b\\u5de5\\u65f6(\\u8c22\\u5fb7\\u5065)\", \"x\": [\"10-2\", \"10-3\"], \"y\": [9.5, 11.333333333333334], \"type\": \"bar\", \"uid\": \"0cc597be-d2de-11e8-8102-a81e84e6c740\"}, {\"name\": \"\\u603b\\u5de5\\u65f6(\\u8303\\u65ed\\u5b81)\", \"x\": [\"10-2\", \"10-3\"], \"y\": [7.2, 11.333333333333334], \"type\": \"bar\", \"uid\": \"0cc59a20-d2de-11e8-8102-a81e84e6c740\"}, {\"name\": \"\\u603b\\u5de5\\u65f6(\\u59da\\u76df\\u6210)\", \"x\": [\"10-2\", \"10-3\"], \"y\": [9.0, 10.666666666666666], \"type\": \"bar\", \"uid\": \"0cc59c50-d2de-11e8-8102-a81e84e6c740\"}, {\"name\": \"\\u603b\\u5de5\\u65f6(\\u6bb5\\u5229\\u5f3a)\", \"x\": [\"10-2\", \"10-3\"], \"y\": [12.0, null], \"type\": \"bar\", \"uid\": \"0cc59e58-d2de-11e8-8102-a81e84e6c740\"}, {\"name\": \"\\u603b\\u5de5\\u65f6(\\u5f20\\u5b88\\u4f1f)\", \"x\": [\"10-2\", \"10-3\"], \"y\": [12.0, 12.0], \"type\": \"bar\", \"uid\": \"0cc5a04c-d2de-11e8-8102-a81e84e6c740\"}, {\"name\": \"\\u603b\\u5de5\\u65f6(\\u8d75\\u73a5)\", \"x\": [\"10-2\", \"10-3\"], \"y\": [9.5, 9.666666666666666], \"type\": \"bar\", \"uid\": \"0cc5a254-d2de-11e8-8102-a81e84e6c740\"}, {\"name\": \"\\u603b\\u5de5\\u65f6(\\u6636\\u5409\\u9633)\", \"x\": [\"10-2\", \"10-3\"], \"y\": [null, 6.0], \"type\": \"bar\", \"uid\": \"0cc5a43e-d2de-11e8-8102-a81e84e6c740\"}], {\"title\": \"\\u603b\\u5de5\\u65f6\\u5468\\u8d8b\\u52bf\\u56fe\", \"xaxis\": {\"mirror\": \"all\", \"nticks\": 20, \"showgrid\": true, \"showline\": true, \"title\": \"\\u5468\", \"type\": \"category\", \"zeroline\": true}, \"yaxis\": {\"mirror\": \"all\", \"nticks\": 20, \"showgrid\": true, \"showline\": true, \"title\": \"\\u603b\\u5de5\\u65f6\", \"zeroline\": true}}, {\"showLink\": true, \"linkText\": \"Export to plot.ly\"})});</script>"
      ],
      "text/vnd.plotly.v1+html": [
       "<div id=\"82495fa6-4d30-457d-97e5-84c20a4fd1c9\" style=\"height: 525px; width: 100%;\" class=\"plotly-graph-div\"></div><script type=\"text/javascript\">require([\"plotly\"], function(Plotly) { window.PLOTLYENV=window.PLOTLYENV || {};window.PLOTLYENV.BASE_URL=\"https://plot.ly\";Plotly.newPlot(\"82495fa6-4d30-457d-97e5-84c20a4fd1c9\", [{\"name\": \"\\u603b\\u5de5\\u65f6(\\u97e9\\u5c11\\u6000)\", \"x\": [\"10-2\", \"10-3\"], \"y\": [8.5, 6.4], \"type\": \"bar\", \"uid\": \"0cc5944e-d2de-11e8-8102-a81e84e6c740\"}, {\"name\": \"\\u603b\\u5de5\\u65f6(\\u8c22\\u5fb7\\u5065)\", \"x\": [\"10-2\", \"10-3\"], \"y\": [9.5, 11.333333333333334], \"type\": \"bar\", \"uid\": \"0cc597be-d2de-11e8-8102-a81e84e6c740\"}, {\"name\": \"\\u603b\\u5de5\\u65f6(\\u8303\\u65ed\\u5b81)\", \"x\": [\"10-2\", \"10-3\"], \"y\": [7.2, 11.333333333333334], \"type\": \"bar\", \"uid\": \"0cc59a20-d2de-11e8-8102-a81e84e6c740\"}, {\"name\": \"\\u603b\\u5de5\\u65f6(\\u59da\\u76df\\u6210)\", \"x\": [\"10-2\", \"10-3\"], \"y\": [9.0, 10.666666666666666], \"type\": \"bar\", \"uid\": \"0cc59c50-d2de-11e8-8102-a81e84e6c740\"}, {\"name\": \"\\u603b\\u5de5\\u65f6(\\u6bb5\\u5229\\u5f3a)\", \"x\": [\"10-2\", \"10-3\"], \"y\": [12.0, null], \"type\": \"bar\", \"uid\": \"0cc59e58-d2de-11e8-8102-a81e84e6c740\"}, {\"name\": \"\\u603b\\u5de5\\u65f6(\\u5f20\\u5b88\\u4f1f)\", \"x\": [\"10-2\", \"10-3\"], \"y\": [12.0, 12.0], \"type\": \"bar\", \"uid\": \"0cc5a04c-d2de-11e8-8102-a81e84e6c740\"}, {\"name\": \"\\u603b\\u5de5\\u65f6(\\u8d75\\u73a5)\", \"x\": [\"10-2\", \"10-3\"], \"y\": [9.5, 9.666666666666666], \"type\": \"bar\", \"uid\": \"0cc5a254-d2de-11e8-8102-a81e84e6c740\"}, {\"name\": \"\\u603b\\u5de5\\u65f6(\\u6636\\u5409\\u9633)\", \"x\": [\"10-2\", \"10-3\"], \"y\": [null, 6.0], \"type\": \"bar\", \"uid\": \"0cc5a43e-d2de-11e8-8102-a81e84e6c740\"}], {\"title\": \"\\u603b\\u5de5\\u65f6\\u5468\\u8d8b\\u52bf\\u56fe\", \"xaxis\": {\"mirror\": \"all\", \"nticks\": 20, \"showgrid\": true, \"showline\": true, \"title\": \"\\u5468\", \"type\": \"category\", \"zeroline\": true}, \"yaxis\": {\"mirror\": \"all\", \"nticks\": 20, \"showgrid\": true, \"showline\": true, \"title\": \"\\u603b\\u5de5\\u65f6\", \"zeroline\": true}}, {\"showLink\": true, \"linkText\": \"Export to plot.ly\"})});</script>"
      ]
     },
     "metadata": {},
     "output_type": "display_data"
    }
   ],
   "source": [
    "ss = myModule.format(df3 ,df3.columns[1] ,['总工时'])\n",
    "ss.add_group('信息负责人')\n",
    "ss.get_average_by('子项目编号')\n",
    "#ss.df.groupby([ss.x , ss.group_col]).sum().groupby([ss.x , ss.group_col]).mean()\n",
    "tt = myModule.myPlot(ss.groupby('sum'))\n",
    "tt.plot('bar')"
   ]
  },
  {
   "cell_type": "markdown",
   "metadata": {},
   "source": [
    "## 产品研发来源趋势图"
   ]
  },
  {
   "cell_type": "markdown",
   "metadata": {},
   "source": [
    "### 个数"
   ]
  },
  {
   "cell_type": "code",
   "execution_count": 41,
   "metadata": {
    "collapsed": false
   },
   "outputs": [
    {
     "data": {
      "application/vnd.plotly.v1+json": {
       "data": [
        {
         "name": "子项目编号(0)",
         "type": "bar",
         "uid": "11e206d8-d2de-11e8-8102-a81e84e6c740",
         "x": [
          "10-2",
          "10-3"
         ],
         "y": [
          null,
          1
         ]
        },
        {
         "name": "子项目编号(商业项目)",
         "type": "bar",
         "uid": "11e20aac-d2de-11e8-8102-a81e84e6c740",
         "x": [
          "10-2",
          "10-3"
         ],
         "y": [
          13,
          5
         ]
        },
        {
         "name": "子项目编号(研发项目)",
         "type": "bar",
         "uid": "11e20d18-d2de-11e8-8102-a81e84e6c740",
         "x": [
          "10-2",
          "10-3"
         ],
         "y": [
          14,
          18
         ]
        }
       ],
       "layout": {
        "title": "子项目编号周趋势图",
        "xaxis": {
         "mirror": "all",
         "nticks": 20,
         "showgrid": true,
         "showline": true,
         "title": "周",
         "type": "category",
         "zeroline": true
        },
        "yaxis": {
         "mirror": "all",
         "nticks": 20,
         "showgrid": true,
         "showline": true,
         "title": "子项目编号",
         "zeroline": true
        }
       }
      },
      "text/html": [
       "<div id=\"78d28eb4-8aa3-41fc-bac4-eaa1a3d6ea01\" style=\"height: 525px; width: 100%;\" class=\"plotly-graph-div\"></div><script type=\"text/javascript\">require([\"plotly\"], function(Plotly) { window.PLOTLYENV=window.PLOTLYENV || {};window.PLOTLYENV.BASE_URL=\"https://plot.ly\";Plotly.newPlot(\"78d28eb4-8aa3-41fc-bac4-eaa1a3d6ea01\", [{\"name\": \"\\u5b50\\u9879\\u76ee\\u7f16\\u53f7(0)\", \"x\": [\"10-2\", \"10-3\"], \"y\": [null, 1.0], \"type\": \"bar\", \"uid\": \"11e206d8-d2de-11e8-8102-a81e84e6c740\"}, {\"name\": \"\\u5b50\\u9879\\u76ee\\u7f16\\u53f7(\\u5546\\u4e1a\\u9879\\u76ee)\", \"x\": [\"10-2\", \"10-3\"], \"y\": [13.0, 5.0], \"type\": \"bar\", \"uid\": \"11e20aac-d2de-11e8-8102-a81e84e6c740\"}, {\"name\": \"\\u5b50\\u9879\\u76ee\\u7f16\\u53f7(\\u7814\\u53d1\\u9879\\u76ee)\", \"x\": [\"10-2\", \"10-3\"], \"y\": [14.0, 18.0], \"type\": \"bar\", \"uid\": \"11e20d18-d2de-11e8-8102-a81e84e6c740\"}], {\"title\": \"\\u5b50\\u9879\\u76ee\\u7f16\\u53f7\\u5468\\u8d8b\\u52bf\\u56fe\", \"xaxis\": {\"mirror\": \"all\", \"nticks\": 20, \"showgrid\": true, \"showline\": true, \"title\": \"\\u5468\", \"type\": \"category\", \"zeroline\": true}, \"yaxis\": {\"mirror\": \"all\", \"nticks\": 20, \"showgrid\": true, \"showline\": true, \"title\": \"\\u5b50\\u9879\\u76ee\\u7f16\\u53f7\", \"zeroline\": true}}, {\"showLink\": true, \"linkText\": \"Export to plot.ly\"})});</script>"
      ],
      "text/vnd.plotly.v1+html": [
       "<div id=\"78d28eb4-8aa3-41fc-bac4-eaa1a3d6ea01\" style=\"height: 525px; width: 100%;\" class=\"plotly-graph-div\"></div><script type=\"text/javascript\">require([\"plotly\"], function(Plotly) { window.PLOTLYENV=window.PLOTLYENV || {};window.PLOTLYENV.BASE_URL=\"https://plot.ly\";Plotly.newPlot(\"78d28eb4-8aa3-41fc-bac4-eaa1a3d6ea01\", [{\"name\": \"\\u5b50\\u9879\\u76ee\\u7f16\\u53f7(0)\", \"x\": [\"10-2\", \"10-3\"], \"y\": [null, 1.0], \"type\": \"bar\", \"uid\": \"11e206d8-d2de-11e8-8102-a81e84e6c740\"}, {\"name\": \"\\u5b50\\u9879\\u76ee\\u7f16\\u53f7(\\u5546\\u4e1a\\u9879\\u76ee)\", \"x\": [\"10-2\", \"10-3\"], \"y\": [13.0, 5.0], \"type\": \"bar\", \"uid\": \"11e20aac-d2de-11e8-8102-a81e84e6c740\"}, {\"name\": \"\\u5b50\\u9879\\u76ee\\u7f16\\u53f7(\\u7814\\u53d1\\u9879\\u76ee)\", \"x\": [\"10-2\", \"10-3\"], \"y\": [14.0, 18.0], \"type\": \"bar\", \"uid\": \"11e20d18-d2de-11e8-8102-a81e84e6c740\"}], {\"title\": \"\\u5b50\\u9879\\u76ee\\u7f16\\u53f7\\u5468\\u8d8b\\u52bf\\u56fe\", \"xaxis\": {\"mirror\": \"all\", \"nticks\": 20, \"showgrid\": true, \"showline\": true, \"title\": \"\\u5468\", \"type\": \"category\", \"zeroline\": true}, \"yaxis\": {\"mirror\": \"all\", \"nticks\": 20, \"showgrid\": true, \"showline\": true, \"title\": \"\\u5b50\\u9879\\u76ee\\u7f16\\u53f7\", \"zeroline\": true}}, {\"showLink\": true, \"linkText\": \"Export to plot.ly\"})});</script>"
      ]
     },
     "metadata": {},
     "output_type": "display_data"
    }
   ],
   "source": [
    "ss = myModule.format(df3 ,df3.columns[1] ,['子项目编号'])\n",
    "ss.add_group('产品大类（研发项目/商业项目）')\n",
    "#ss.get_average_by('子项目号')\n",
    "#ss.df.groupby([ss.x , ss.group_col]).sum().groupby([ss.x , ss.group_col]).mean()\n",
    "tt = myModule.myPlot(ss.groupby('count'))\n",
    "tt.plot('bar')"
   ]
  },
  {
   "cell_type": "markdown",
   "metadata": {},
   "source": [
    "### 工时"
   ]
  },
  {
   "cell_type": "code",
   "execution_count": 42,
   "metadata": {
    "collapsed": false
   },
   "outputs": [
    {
     "data": {
      "application/vnd.plotly.v1+json": {
       "data": [
        {
         "name": "总工时(0)",
         "type": "bar",
         "uid": "140f6126-d2de-11e8-8102-a81e84e6c740",
         "x": [
          "10-2",
          "10-3"
         ],
         "y": [
          null,
          5
         ]
        },
        {
         "name": "总工时(商业项目)",
         "type": "bar",
         "uid": "140f6676-d2de-11e8-8102-a81e84e6c740",
         "x": [
          "10-2",
          "10-3"
         ],
         "y": [
          110,
          50
         ]
        },
        {
         "name": "总工时(研发项目)",
         "type": "bar",
         "uid": "140f6b26-d2de-11e8-8102-a81e84e6c740",
         "x": [
          "10-2",
          "10-3"
         ],
         "y": [
          144,
          177
         ]
        }
       ],
       "layout": {
        "title": "总工时周趋势图",
        "xaxis": {
         "mirror": "all",
         "nticks": 20,
         "showgrid": true,
         "showline": true,
         "title": "周",
         "type": "category",
         "zeroline": true
        },
        "yaxis": {
         "mirror": "all",
         "nticks": 20,
         "showgrid": true,
         "showline": true,
         "title": "总工时",
         "zeroline": true
        }
       }
      },
      "text/html": [
       "<div id=\"faac0c95-57df-4661-8988-eceeefd71c27\" style=\"height: 525px; width: 100%;\" class=\"plotly-graph-div\"></div><script type=\"text/javascript\">require([\"plotly\"], function(Plotly) { window.PLOTLYENV=window.PLOTLYENV || {};window.PLOTLYENV.BASE_URL=\"https://plot.ly\";Plotly.newPlot(\"faac0c95-57df-4661-8988-eceeefd71c27\", [{\"name\": \"\\u603b\\u5de5\\u65f6(0)\", \"x\": [\"10-2\", \"10-3\"], \"y\": [null, 5.0], \"type\": \"bar\", \"uid\": \"140f6126-d2de-11e8-8102-a81e84e6c740\"}, {\"name\": \"\\u603b\\u5de5\\u65f6(\\u5546\\u4e1a\\u9879\\u76ee)\", \"x\": [\"10-2\", \"10-3\"], \"y\": [110.0, 50.0], \"type\": \"bar\", \"uid\": \"140f6676-d2de-11e8-8102-a81e84e6c740\"}, {\"name\": \"\\u603b\\u5de5\\u65f6(\\u7814\\u53d1\\u9879\\u76ee)\", \"x\": [\"10-2\", \"10-3\"], \"y\": [144.0, 177.0], \"type\": \"bar\", \"uid\": \"140f6b26-d2de-11e8-8102-a81e84e6c740\"}], {\"title\": \"\\u603b\\u5de5\\u65f6\\u5468\\u8d8b\\u52bf\\u56fe\", \"xaxis\": {\"mirror\": \"all\", \"nticks\": 20, \"showgrid\": true, \"showline\": true, \"title\": \"\\u5468\", \"type\": \"category\", \"zeroline\": true}, \"yaxis\": {\"mirror\": \"all\", \"nticks\": 20, \"showgrid\": true, \"showline\": true, \"title\": \"\\u603b\\u5de5\\u65f6\", \"zeroline\": true}}, {\"showLink\": true, \"linkText\": \"Export to plot.ly\"})});</script>"
      ],
      "text/vnd.plotly.v1+html": [
       "<div id=\"faac0c95-57df-4661-8988-eceeefd71c27\" style=\"height: 525px; width: 100%;\" class=\"plotly-graph-div\"></div><script type=\"text/javascript\">require([\"plotly\"], function(Plotly) { window.PLOTLYENV=window.PLOTLYENV || {};window.PLOTLYENV.BASE_URL=\"https://plot.ly\";Plotly.newPlot(\"faac0c95-57df-4661-8988-eceeefd71c27\", [{\"name\": \"\\u603b\\u5de5\\u65f6(0)\", \"x\": [\"10-2\", \"10-3\"], \"y\": [null, 5.0], \"type\": \"bar\", \"uid\": \"140f6126-d2de-11e8-8102-a81e84e6c740\"}, {\"name\": \"\\u603b\\u5de5\\u65f6(\\u5546\\u4e1a\\u9879\\u76ee)\", \"x\": [\"10-2\", \"10-3\"], \"y\": [110.0, 50.0], \"type\": \"bar\", \"uid\": \"140f6676-d2de-11e8-8102-a81e84e6c740\"}, {\"name\": \"\\u603b\\u5de5\\u65f6(\\u7814\\u53d1\\u9879\\u76ee)\", \"x\": [\"10-2\", \"10-3\"], \"y\": [144.0, 177.0], \"type\": \"bar\", \"uid\": \"140f6b26-d2de-11e8-8102-a81e84e6c740\"}], {\"title\": \"\\u603b\\u5de5\\u65f6\\u5468\\u8d8b\\u52bf\\u56fe\", \"xaxis\": {\"mirror\": \"all\", \"nticks\": 20, \"showgrid\": true, \"showline\": true, \"title\": \"\\u5468\", \"type\": \"category\", \"zeroline\": true}, \"yaxis\": {\"mirror\": \"all\", \"nticks\": 20, \"showgrid\": true, \"showline\": true, \"title\": \"\\u603b\\u5de5\\u65f6\", \"zeroline\": true}}, {\"showLink\": true, \"linkText\": \"Export to plot.ly\"})});</script>"
      ]
     },
     "metadata": {},
     "output_type": "display_data"
    }
   ],
   "source": [
    "ss = myModule.format(df3 ,df3.columns[1] ,['总工时'])\n",
    "ss.add_group('产品大类（研发项目/商业项目）')\n",
    "#ss.get_average_by('子项目号')\n",
    "#ss.df.groupby([ss.x , ss.group_col]).sum().groupby([ss.x , ss.group_col]).mean()\n",
    "tt = myModule.myPlot(ss.groupby('sum'))\n",
    "tt.plot('bar')"
   ]
  },
  {
   "cell_type": "markdown",
   "metadata": {},
   "source": [
    "## 各产品占比"
   ]
  },
  {
   "cell_type": "markdown",
   "metadata": {},
   "source": [
    "### 个数"
   ]
  },
  {
   "cell_type": "code",
   "execution_count": 43,
   "metadata": {
    "collapsed": false,
    "scrolled": false
   },
   "outputs": [
    {
     "data": {
      "application/vnd.plotly.v1+json": {
       "data": [
        {
         "name": "子项目编号(Hi-C)",
         "type": "bar",
         "uid": "1916932e-d2de-11e8-8102-a81e84e6c740",
         "x": [
          "10-2",
          "10-3"
         ],
         "y": [
          16,
          15
         ]
        },
        {
         "name": "子项目编号(Chip)",
         "type": "bar",
         "uid": "1916973e-d2de-11e8-8102-a81e84e6c740",
         "x": [
          "10-2",
          "10-3"
         ],
         "y": [
          null,
          1
         ]
        },
        {
         "name": "子项目编号(BS-seq)",
         "type": "bar",
         "uid": "191699a0-d2de-11e8-8102-a81e84e6c740",
         "x": [
          "10-2",
          "10-3"
         ],
         "y": [
          null,
          2
         ]
        },
        {
         "name": "子项目编号(Transcriptome)",
         "type": "bar",
         "uid": "19169bd0-d2de-11e8-8102-a81e84e6c740",
         "x": [
          "10-2",
          "10-3"
         ],
         "y": [
          2,
          3
         ]
        },
        {
         "name": "子项目编号(scBS-seq)",
         "type": "bar",
         "uid": "19169dd8-d2de-11e8-8102-a81e84e6c740",
         "x": [
          "10-2",
          "10-3"
         ],
         "y": [
          1,
          1
         ]
        },
        {
         "name": "子项目编号(10XGenomics)",
         "type": "bar",
         "uid": "1916a058-d2de-11e8-8102-a81e84e6c740",
         "x": [
          "10-2",
          "10-3"
         ],
         "y": [
          3,
          1
         ]
        },
        {
         "name": "子项目编号(BS)",
         "type": "bar",
         "uid": "1916a58a-d2de-11e8-8102-a81e84e6c740",
         "x": [
          "10-2",
          "10-3"
         ],
         "y": [
          2,
          null
         ]
        },
        {
         "name": "子项目编号(Iso-seq)",
         "type": "bar",
         "uid": "1916a8c8-d2de-11e8-8102-a81e84e6c740",
         "x": [
          "10-2",
          "10-3"
         ],
         "y": [
          3,
          1
         ]
        }
       ],
       "layout": {
        "title": "子项目编号周趋势图",
        "xaxis": {
         "mirror": "all",
         "nticks": 20,
         "showgrid": true,
         "showline": true,
         "title": "周",
         "type": "category",
         "zeroline": true
        },
        "yaxis": {
         "mirror": "all",
         "nticks": 20,
         "showgrid": true,
         "showline": true,
         "title": "子项目编号",
         "zeroline": true
        }
       }
      },
      "text/html": [
       "<div id=\"22cb1a05-2d03-4626-a3d9-9eb5f1944a70\" style=\"height: 525px; width: 100%;\" class=\"plotly-graph-div\"></div><script type=\"text/javascript\">require([\"plotly\"], function(Plotly) { window.PLOTLYENV=window.PLOTLYENV || {};window.PLOTLYENV.BASE_URL=\"https://plot.ly\";Plotly.newPlot(\"22cb1a05-2d03-4626-a3d9-9eb5f1944a70\", [{\"name\": \"\\u5b50\\u9879\\u76ee\\u7f16\\u53f7(Hi-C)\", \"x\": [\"10-2\", \"10-3\"], \"y\": [16.0, 15.0], \"type\": \"bar\", \"uid\": \"1916932e-d2de-11e8-8102-a81e84e6c740\"}, {\"name\": \"\\u5b50\\u9879\\u76ee\\u7f16\\u53f7(Chip)\", \"x\": [\"10-2\", \"10-3\"], \"y\": [null, 1.0], \"type\": \"bar\", \"uid\": \"1916973e-d2de-11e8-8102-a81e84e6c740\"}, {\"name\": \"\\u5b50\\u9879\\u76ee\\u7f16\\u53f7(BS-seq)\", \"x\": [\"10-2\", \"10-3\"], \"y\": [null, 2.0], \"type\": \"bar\", \"uid\": \"191699a0-d2de-11e8-8102-a81e84e6c740\"}, {\"name\": \"\\u5b50\\u9879\\u76ee\\u7f16\\u53f7(Transcriptome)\", \"x\": [\"10-2\", \"10-3\"], \"y\": [2.0, 3.0], \"type\": \"bar\", \"uid\": \"19169bd0-d2de-11e8-8102-a81e84e6c740\"}, {\"name\": \"\\u5b50\\u9879\\u76ee\\u7f16\\u53f7(scBS-seq)\", \"x\": [\"10-2\", \"10-3\"], \"y\": [1.0, 1.0], \"type\": \"bar\", \"uid\": \"19169dd8-d2de-11e8-8102-a81e84e6c740\"}, {\"name\": \"\\u5b50\\u9879\\u76ee\\u7f16\\u53f7(10XGenomics)\", \"x\": [\"10-2\", \"10-3\"], \"y\": [3.0, 1.0], \"type\": \"bar\", \"uid\": \"1916a058-d2de-11e8-8102-a81e84e6c740\"}, {\"name\": \"\\u5b50\\u9879\\u76ee\\u7f16\\u53f7(BS)\", \"x\": [\"10-2\", \"10-3\"], \"y\": [2.0, null], \"type\": \"bar\", \"uid\": \"1916a58a-d2de-11e8-8102-a81e84e6c740\"}, {\"name\": \"\\u5b50\\u9879\\u76ee\\u7f16\\u53f7(Iso-seq)\", \"x\": [\"10-2\", \"10-3\"], \"y\": [3.0, 1.0], \"type\": \"bar\", \"uid\": \"1916a8c8-d2de-11e8-8102-a81e84e6c740\"}], {\"title\": \"\\u5b50\\u9879\\u76ee\\u7f16\\u53f7\\u5468\\u8d8b\\u52bf\\u56fe\", \"xaxis\": {\"mirror\": \"all\", \"nticks\": 20, \"showgrid\": true, \"showline\": true, \"title\": \"\\u5468\", \"type\": \"category\", \"zeroline\": true}, \"yaxis\": {\"mirror\": \"all\", \"nticks\": 20, \"showgrid\": true, \"showline\": true, \"title\": \"\\u5b50\\u9879\\u76ee\\u7f16\\u53f7\", \"zeroline\": true}}, {\"showLink\": true, \"linkText\": \"Export to plot.ly\"})});</script>"
      ],
      "text/vnd.plotly.v1+html": [
       "<div id=\"22cb1a05-2d03-4626-a3d9-9eb5f1944a70\" style=\"height: 525px; width: 100%;\" class=\"plotly-graph-div\"></div><script type=\"text/javascript\">require([\"plotly\"], function(Plotly) { window.PLOTLYENV=window.PLOTLYENV || {};window.PLOTLYENV.BASE_URL=\"https://plot.ly\";Plotly.newPlot(\"22cb1a05-2d03-4626-a3d9-9eb5f1944a70\", [{\"name\": \"\\u5b50\\u9879\\u76ee\\u7f16\\u53f7(Hi-C)\", \"x\": [\"10-2\", \"10-3\"], \"y\": [16.0, 15.0], \"type\": \"bar\", \"uid\": \"1916932e-d2de-11e8-8102-a81e84e6c740\"}, {\"name\": \"\\u5b50\\u9879\\u76ee\\u7f16\\u53f7(Chip)\", \"x\": [\"10-2\", \"10-3\"], \"y\": [null, 1.0], \"type\": \"bar\", \"uid\": \"1916973e-d2de-11e8-8102-a81e84e6c740\"}, {\"name\": \"\\u5b50\\u9879\\u76ee\\u7f16\\u53f7(BS-seq)\", \"x\": [\"10-2\", \"10-3\"], \"y\": [null, 2.0], \"type\": \"bar\", \"uid\": \"191699a0-d2de-11e8-8102-a81e84e6c740\"}, {\"name\": \"\\u5b50\\u9879\\u76ee\\u7f16\\u53f7(Transcriptome)\", \"x\": [\"10-2\", \"10-3\"], \"y\": [2.0, 3.0], \"type\": \"bar\", \"uid\": \"19169bd0-d2de-11e8-8102-a81e84e6c740\"}, {\"name\": \"\\u5b50\\u9879\\u76ee\\u7f16\\u53f7(scBS-seq)\", \"x\": [\"10-2\", \"10-3\"], \"y\": [1.0, 1.0], \"type\": \"bar\", \"uid\": \"19169dd8-d2de-11e8-8102-a81e84e6c740\"}, {\"name\": \"\\u5b50\\u9879\\u76ee\\u7f16\\u53f7(10XGenomics)\", \"x\": [\"10-2\", \"10-3\"], \"y\": [3.0, 1.0], \"type\": \"bar\", \"uid\": \"1916a058-d2de-11e8-8102-a81e84e6c740\"}, {\"name\": \"\\u5b50\\u9879\\u76ee\\u7f16\\u53f7(BS)\", \"x\": [\"10-2\", \"10-3\"], \"y\": [2.0, null], \"type\": \"bar\", \"uid\": \"1916a58a-d2de-11e8-8102-a81e84e6c740\"}, {\"name\": \"\\u5b50\\u9879\\u76ee\\u7f16\\u53f7(Iso-seq)\", \"x\": [\"10-2\", \"10-3\"], \"y\": [3.0, 1.0], \"type\": \"bar\", \"uid\": \"1916a8c8-d2de-11e8-8102-a81e84e6c740\"}], {\"title\": \"\\u5b50\\u9879\\u76ee\\u7f16\\u53f7\\u5468\\u8d8b\\u52bf\\u56fe\", \"xaxis\": {\"mirror\": \"all\", \"nticks\": 20, \"showgrid\": true, \"showline\": true, \"title\": \"\\u5468\", \"type\": \"category\", \"zeroline\": true}, \"yaxis\": {\"mirror\": \"all\", \"nticks\": 20, \"showgrid\": true, \"showline\": true, \"title\": \"\\u5b50\\u9879\\u76ee\\u7f16\\u53f7\", \"zeroline\": true}}, {\"showLink\": true, \"linkText\": \"Export to plot.ly\"})});</script>"
      ]
     },
     "metadata": {},
     "output_type": "display_data"
    }
   ],
   "source": [
    "ss = myModule.format(df3 ,df3.columns[1] ,['子项目编号'])\n",
    "ss.add_group('产品子类')\n",
    "#ss.get_average_by('子项目号')\n",
    "#ss.df.groupby([ss.x , ss.group_col]).sum().groupby([ss.x , ss.group_col]).mean()\n",
    "tt = myModule.myPlot(ss.groupby('count'))\n",
    "tt.plot('bar')"
   ]
  },
  {
   "cell_type": "markdown",
   "metadata": {},
   "source": [
    "### 工时"
   ]
  },
  {
   "cell_type": "code",
   "execution_count": 44,
   "metadata": {
    "collapsed": false,
    "scrolled": false
   },
   "outputs": [
    {
     "data": {
      "application/vnd.plotly.v1+json": {
       "data": [
        {
         "name": "总工时(Hi-C)",
         "type": "bar",
         "uid": "1b02ecd2-d2de-11e8-8102-a81e84e6c740",
         "x": [
          "10-2",
          "10-3"
         ],
         "y": [
          148,
          162
         ]
        },
        {
         "name": "总工时(Chip)",
         "type": "bar",
         "uid": "1b02f538-d2de-11e8-8102-a81e84e6c740",
         "x": [
          "10-2",
          "10-3"
         ],
         "y": [
          null,
          5
         ]
        },
        {
         "name": "总工时(BS-seq)",
         "type": "bar",
         "uid": "1b02f790-d2de-11e8-8102-a81e84e6c740",
         "x": [
          "10-2",
          "10-3"
         ],
         "y": [
          null,
          16
         ]
        },
        {
         "name": "总工时(Transcriptome)",
         "type": "bar",
         "uid": "1b02f9ac-d2de-11e8-8102-a81e84e6c740",
         "x": [
          "10-2",
          "10-3"
         ],
         "y": [
          32,
          30
         ]
        },
        {
         "name": "总工时(scBS-seq)",
         "type": "bar",
         "uid": "1b02fba0-d2de-11e8-8102-a81e84e6c740",
         "x": [
          "10-2",
          "10-3"
         ],
         "y": [
          6,
          5
         ]
        },
        {
         "name": "总工时(10XGenomics)",
         "type": "bar",
         "uid": "1b02fda8-d2de-11e8-8102-a81e84e6c740",
         "x": [
          "10-2",
          "10-3"
         ],
         "y": [
          28,
          8
         ]
        },
        {
         "name": "总工时(BS)",
         "type": "bar",
         "uid": "1b02ff88-d2de-11e8-8102-a81e84e6c740",
         "x": [
          "10-2",
          "10-3"
         ],
         "y": [
          18,
          null
         ]
        },
        {
         "name": "总工时(Iso-seq)",
         "type": "bar",
         "uid": "1b030168-d2de-11e8-8102-a81e84e6c740",
         "x": [
          "10-2",
          "10-3"
         ],
         "y": [
          22,
          6
         ]
        }
       ],
       "layout": {
        "title": "总工时周趋势图",
        "xaxis": {
         "mirror": "all",
         "nticks": 20,
         "showgrid": true,
         "showline": true,
         "title": "周",
         "type": "category",
         "zeroline": true
        },
        "yaxis": {
         "mirror": "all",
         "nticks": 20,
         "showgrid": true,
         "showline": true,
         "title": "总工时",
         "zeroline": true
        }
       }
      },
      "text/html": [
       "<div id=\"1b439fae-0ada-45c7-9c1b-f2de09daf4e8\" style=\"height: 525px; width: 100%;\" class=\"plotly-graph-div\"></div><script type=\"text/javascript\">require([\"plotly\"], function(Plotly) { window.PLOTLYENV=window.PLOTLYENV || {};window.PLOTLYENV.BASE_URL=\"https://plot.ly\";Plotly.newPlot(\"1b439fae-0ada-45c7-9c1b-f2de09daf4e8\", [{\"name\": \"\\u603b\\u5de5\\u65f6(Hi-C)\", \"x\": [\"10-2\", \"10-3\"], \"y\": [148.0, 162.0], \"type\": \"bar\", \"uid\": \"1b02ecd2-d2de-11e8-8102-a81e84e6c740\"}, {\"name\": \"\\u603b\\u5de5\\u65f6(Chip)\", \"x\": [\"10-2\", \"10-3\"], \"y\": [null, 5.0], \"type\": \"bar\", \"uid\": \"1b02f538-d2de-11e8-8102-a81e84e6c740\"}, {\"name\": \"\\u603b\\u5de5\\u65f6(BS-seq)\", \"x\": [\"10-2\", \"10-3\"], \"y\": [null, 16.0], \"type\": \"bar\", \"uid\": \"1b02f790-d2de-11e8-8102-a81e84e6c740\"}, {\"name\": \"\\u603b\\u5de5\\u65f6(Transcriptome)\", \"x\": [\"10-2\", \"10-3\"], \"y\": [32.0, 30.0], \"type\": \"bar\", \"uid\": \"1b02f9ac-d2de-11e8-8102-a81e84e6c740\"}, {\"name\": \"\\u603b\\u5de5\\u65f6(scBS-seq)\", \"x\": [\"10-2\", \"10-3\"], \"y\": [6.0, 5.0], \"type\": \"bar\", \"uid\": \"1b02fba0-d2de-11e8-8102-a81e84e6c740\"}, {\"name\": \"\\u603b\\u5de5\\u65f6(10XGenomics)\", \"x\": [\"10-2\", \"10-3\"], \"y\": [28.0, 8.0], \"type\": \"bar\", \"uid\": \"1b02fda8-d2de-11e8-8102-a81e84e6c740\"}, {\"name\": \"\\u603b\\u5de5\\u65f6(BS)\", \"x\": [\"10-2\", \"10-3\"], \"y\": [18.0, null], \"type\": \"bar\", \"uid\": \"1b02ff88-d2de-11e8-8102-a81e84e6c740\"}, {\"name\": \"\\u603b\\u5de5\\u65f6(Iso-seq)\", \"x\": [\"10-2\", \"10-3\"], \"y\": [22.0, 6.0], \"type\": \"bar\", \"uid\": \"1b030168-d2de-11e8-8102-a81e84e6c740\"}], {\"title\": \"\\u603b\\u5de5\\u65f6\\u5468\\u8d8b\\u52bf\\u56fe\", \"xaxis\": {\"mirror\": \"all\", \"nticks\": 20, \"showgrid\": true, \"showline\": true, \"title\": \"\\u5468\", \"type\": \"category\", \"zeroline\": true}, \"yaxis\": {\"mirror\": \"all\", \"nticks\": 20, \"showgrid\": true, \"showline\": true, \"title\": \"\\u603b\\u5de5\\u65f6\", \"zeroline\": true}}, {\"showLink\": true, \"linkText\": \"Export to plot.ly\"})});</script>"
      ],
      "text/vnd.plotly.v1+html": [
       "<div id=\"1b439fae-0ada-45c7-9c1b-f2de09daf4e8\" style=\"height: 525px; width: 100%;\" class=\"plotly-graph-div\"></div><script type=\"text/javascript\">require([\"plotly\"], function(Plotly) { window.PLOTLYENV=window.PLOTLYENV || {};window.PLOTLYENV.BASE_URL=\"https://plot.ly\";Plotly.newPlot(\"1b439fae-0ada-45c7-9c1b-f2de09daf4e8\", [{\"name\": \"\\u603b\\u5de5\\u65f6(Hi-C)\", \"x\": [\"10-2\", \"10-3\"], \"y\": [148.0, 162.0], \"type\": \"bar\", \"uid\": \"1b02ecd2-d2de-11e8-8102-a81e84e6c740\"}, {\"name\": \"\\u603b\\u5de5\\u65f6(Chip)\", \"x\": [\"10-2\", \"10-3\"], \"y\": [null, 5.0], \"type\": \"bar\", \"uid\": \"1b02f538-d2de-11e8-8102-a81e84e6c740\"}, {\"name\": \"\\u603b\\u5de5\\u65f6(BS-seq)\", \"x\": [\"10-2\", \"10-3\"], \"y\": [null, 16.0], \"type\": \"bar\", \"uid\": \"1b02f790-d2de-11e8-8102-a81e84e6c740\"}, {\"name\": \"\\u603b\\u5de5\\u65f6(Transcriptome)\", \"x\": [\"10-2\", \"10-3\"], \"y\": [32.0, 30.0], \"type\": \"bar\", \"uid\": \"1b02f9ac-d2de-11e8-8102-a81e84e6c740\"}, {\"name\": \"\\u603b\\u5de5\\u65f6(scBS-seq)\", \"x\": [\"10-2\", \"10-3\"], \"y\": [6.0, 5.0], \"type\": \"bar\", \"uid\": \"1b02fba0-d2de-11e8-8102-a81e84e6c740\"}, {\"name\": \"\\u603b\\u5de5\\u65f6(10XGenomics)\", \"x\": [\"10-2\", \"10-3\"], \"y\": [28.0, 8.0], \"type\": \"bar\", \"uid\": \"1b02fda8-d2de-11e8-8102-a81e84e6c740\"}, {\"name\": \"\\u603b\\u5de5\\u65f6(BS)\", \"x\": [\"10-2\", \"10-3\"], \"y\": [18.0, null], \"type\": \"bar\", \"uid\": \"1b02ff88-d2de-11e8-8102-a81e84e6c740\"}, {\"name\": \"\\u603b\\u5de5\\u65f6(Iso-seq)\", \"x\": [\"10-2\", \"10-3\"], \"y\": [22.0, 6.0], \"type\": \"bar\", \"uid\": \"1b030168-d2de-11e8-8102-a81e84e6c740\"}], {\"title\": \"\\u603b\\u5de5\\u65f6\\u5468\\u8d8b\\u52bf\\u56fe\", \"xaxis\": {\"mirror\": \"all\", \"nticks\": 20, \"showgrid\": true, \"showline\": true, \"title\": \"\\u5468\", \"type\": \"category\", \"zeroline\": true}, \"yaxis\": {\"mirror\": \"all\", \"nticks\": 20, \"showgrid\": true, \"showline\": true, \"title\": \"\\u603b\\u5de5\\u65f6\", \"zeroline\": true}}, {\"showLink\": true, \"linkText\": \"Export to plot.ly\"})});</script>"
      ]
     },
     "metadata": {},
     "output_type": "display_data"
    }
   ],
   "source": [
    "ss = myModule.format(df3 ,df3.columns[1] ,['总工时'])\n",
    "ss.add_group('产品子类')\n",
    "#ss.get_average_by('子项目号')\n",
    "#ss.df.groupby([ss.x , ss.group_col]).sum().groupby([ss.x , ss.group_col]).mean()\n",
    "tt = myModule.myPlot(ss.groupby('sum'))\n",
    "tt.plot('bar')"
   ]
  },
  {
   "cell_type": "markdown",
   "metadata": {},
   "source": [
    "# 三个组比较"
   ]
  },
  {
   "cell_type": "code",
   "execution_count": 45,
   "metadata": {
    "collapsed": true
   },
   "outputs": [],
   "source": [
    "import pandas as pd\n",
    "r_df = pd.concat([df1, df2, df3 ], axis=0 ,sort=False , join='outer')"
   ]
  },
  {
   "cell_type": "markdown",
   "metadata": {},
   "source": [
    "## 三个组项目数比较"
   ]
  },
  {
   "cell_type": "code",
   "execution_count": 46,
   "metadata": {
    "collapsed": false,
    "scrolled": false
   },
   "outputs": [
    {
     "data": {
      "application/vnd.plotly.v1+json": {
       "data": [
        {
         "name": "子项目编号(蛋白&医学研发组)",
         "type": "bar",
         "uid": "20479c74-d2de-11e8-8102-a81e84e6c740",
         "x": [
          "10-2",
          "10-3"
         ],
         "y": [
          37,
          40
         ]
        },
        {
         "name": "子项目编号(转录调控研发组)",
         "type": "bar",
         "uid": "2047a200-d2de-11e8-8102-a81e84e6c740",
         "x": [
          "10-2",
          "10-3"
         ],
         "y": [
          27,
          24
         ]
        },
        {
         "name": "子项目编号(生物学DNA)",
         "type": "bar",
         "uid": "2047a64c-d2de-11e8-8102-a81e84e6c740",
         "x": [
          "10-2",
          "10-3"
         ],
         "y": [
          43,
          43
         ]
        }
       ],
       "layout": {
        "title": "子项目编号周趋势图",
        "xaxis": {
         "mirror": "all",
         "nticks": 20,
         "showgrid": true,
         "showline": true,
         "title": "周",
         "type": "category",
         "zeroline": true
        },
        "yaxis": {
         "mirror": "all",
         "nticks": 20,
         "showgrid": true,
         "showline": true,
         "title": "子项目编号",
         "zeroline": true
        }
       }
      },
      "text/html": [
       "<div id=\"ed20432a-5127-411b-8621-afe696d5870d\" style=\"height: 525px; width: 100%;\" class=\"plotly-graph-div\"></div><script type=\"text/javascript\">require([\"plotly\"], function(Plotly) { window.PLOTLYENV=window.PLOTLYENV || {};window.PLOTLYENV.BASE_URL=\"https://plot.ly\";Plotly.newPlot(\"ed20432a-5127-411b-8621-afe696d5870d\", [{\"name\": \"\\u5b50\\u9879\\u76ee\\u7f16\\u53f7(\\u86cb\\u767d&\\u533b\\u5b66\\u7814\\u53d1\\u7ec4)\", \"x\": [\"10-2\", \"10-3\"], \"y\": [37, 40], \"type\": \"bar\", \"uid\": \"20479c74-d2de-11e8-8102-a81e84e6c740\"}, {\"name\": \"\\u5b50\\u9879\\u76ee\\u7f16\\u53f7(\\u8f6c\\u5f55\\u8c03\\u63a7\\u7814\\u53d1\\u7ec4)\", \"x\": [\"10-2\", \"10-3\"], \"y\": [27, 24], \"type\": \"bar\", \"uid\": \"2047a200-d2de-11e8-8102-a81e84e6c740\"}, {\"name\": \"\\u5b50\\u9879\\u76ee\\u7f16\\u53f7(\\u751f\\u7269\\u5b66DNA)\", \"x\": [\"10-2\", \"10-3\"], \"y\": [43, 43], \"type\": \"bar\", \"uid\": \"2047a64c-d2de-11e8-8102-a81e84e6c740\"}], {\"title\": \"\\u5b50\\u9879\\u76ee\\u7f16\\u53f7\\u5468\\u8d8b\\u52bf\\u56fe\", \"xaxis\": {\"mirror\": \"all\", \"nticks\": 20, \"showgrid\": true, \"showline\": true, \"title\": \"\\u5468\", \"type\": \"category\", \"zeroline\": true}, \"yaxis\": {\"mirror\": \"all\", \"nticks\": 20, \"showgrid\": true, \"showline\": true, \"title\": \"\\u5b50\\u9879\\u76ee\\u7f16\\u53f7\", \"zeroline\": true}}, {\"showLink\": true, \"linkText\": \"Export to plot.ly\"})});</script>"
      ],
      "text/vnd.plotly.v1+html": [
       "<div id=\"ed20432a-5127-411b-8621-afe696d5870d\" style=\"height: 525px; width: 100%;\" class=\"plotly-graph-div\"></div><script type=\"text/javascript\">require([\"plotly\"], function(Plotly) { window.PLOTLYENV=window.PLOTLYENV || {};window.PLOTLYENV.BASE_URL=\"https://plot.ly\";Plotly.newPlot(\"ed20432a-5127-411b-8621-afe696d5870d\", [{\"name\": \"\\u5b50\\u9879\\u76ee\\u7f16\\u53f7(\\u86cb\\u767d&\\u533b\\u5b66\\u7814\\u53d1\\u7ec4)\", \"x\": [\"10-2\", \"10-3\"], \"y\": [37, 40], \"type\": \"bar\", \"uid\": \"20479c74-d2de-11e8-8102-a81e84e6c740\"}, {\"name\": \"\\u5b50\\u9879\\u76ee\\u7f16\\u53f7(\\u8f6c\\u5f55\\u8c03\\u63a7\\u7814\\u53d1\\u7ec4)\", \"x\": [\"10-2\", \"10-3\"], \"y\": [27, 24], \"type\": \"bar\", \"uid\": \"2047a200-d2de-11e8-8102-a81e84e6c740\"}, {\"name\": \"\\u5b50\\u9879\\u76ee\\u7f16\\u53f7(\\u751f\\u7269\\u5b66DNA)\", \"x\": [\"10-2\", \"10-3\"], \"y\": [43, 43], \"type\": \"bar\", \"uid\": \"2047a64c-d2de-11e8-8102-a81e84e6c740\"}], {\"title\": \"\\u5b50\\u9879\\u76ee\\u7f16\\u53f7\\u5468\\u8d8b\\u52bf\\u56fe\", \"xaxis\": {\"mirror\": \"all\", \"nticks\": 20, \"showgrid\": true, \"showline\": true, \"title\": \"\\u5468\", \"type\": \"category\", \"zeroline\": true}, \"yaxis\": {\"mirror\": \"all\", \"nticks\": 20, \"showgrid\": true, \"showline\": true, \"title\": \"\\u5b50\\u9879\\u76ee\\u7f16\\u53f7\", \"zeroline\": true}}, {\"showLink\": true, \"linkText\": \"Export to plot.ly\"})});</script>"
      ]
     },
     "metadata": {},
     "output_type": "display_data"
    }
   ],
   "source": [
    "ss = myModule.format(r_df ,df3.columns[1] ,['子项目编号'])\n",
    "ss.add_group('组别')\n",
    "#ss.get_average_by('子项目号')\n",
    "#ss.df.groupby([ss.x , ss.group_col]).sum().groupby([ss.x , ss.group_col]).mean()\n",
    "tt = myModule.myPlot(ss.groupby('count'))\n",
    "tt.plot('bar')"
   ]
  },
  {
   "cell_type": "markdown",
   "metadata": {},
   "source": [
    "## 三个组高质量报告数比较"
   ]
  },
  {
   "cell_type": "code",
   "execution_count": 47,
   "metadata": {
    "collapsed": false,
    "scrolled": false
   },
   "outputs": [
    {
     "data": {
      "application/vnd.plotly.v1+json": {
       "data": [
        {
         "name": "是否提交报告(蛋白&医学研发组)",
         "type": "bar",
         "uid": "26f5896e-d2de-11e8-8102-a81e84e6c740",
         "x": [
          "10-2",
          "10-3"
         ],
         "y": [
          3,
          null
         ]
        },
        {
         "name": "是否提交报告(转录调控研发组)",
         "type": "bar",
         "uid": "26f58d60-d2de-11e8-8102-a81e84e6c740",
         "x": [
          "10-2",
          "10-3"
         ],
         "y": [
          3,
          2
         ]
        },
        {
         "name": "是否提交报告(生物学DNA)",
         "type": "bar",
         "uid": "26f58fe0-d2de-11e8-8102-a81e84e6c740",
         "x": [
          "10-2",
          "10-3"
         ],
         "y": [
          6,
          2
         ]
        }
       ],
       "layout": {
        "title": "是否提交报告周趋势图",
        "xaxis": {
         "mirror": "all",
         "nticks": 20,
         "showgrid": true,
         "showline": true,
         "title": "周",
         "type": "category",
         "zeroline": true
        },
        "yaxis": {
         "mirror": "all",
         "nticks": 20,
         "showgrid": true,
         "showline": true,
         "title": "是否提交报告",
         "zeroline": true
        }
       }
      },
      "text/html": [
       "<div id=\"3b47d568-f025-4fad-9a9f-02a733853401\" style=\"height: 525px; width: 100%;\" class=\"plotly-graph-div\"></div><script type=\"text/javascript\">require([\"plotly\"], function(Plotly) { window.PLOTLYENV=window.PLOTLYENV || {};window.PLOTLYENV.BASE_URL=\"https://plot.ly\";Plotly.newPlot(\"3b47d568-f025-4fad-9a9f-02a733853401\", [{\"name\": \"\\u662f\\u5426\\u63d0\\u4ea4\\u62a5\\u544a(\\u86cb\\u767d&\\u533b\\u5b66\\u7814\\u53d1\\u7ec4)\", \"x\": [\"10-2\", \"10-3\"], \"y\": [3.0, null], \"type\": \"bar\", \"uid\": \"26f5896e-d2de-11e8-8102-a81e84e6c740\"}, {\"name\": \"\\u662f\\u5426\\u63d0\\u4ea4\\u62a5\\u544a(\\u8f6c\\u5f55\\u8c03\\u63a7\\u7814\\u53d1\\u7ec4)\", \"x\": [\"10-2\", \"10-3\"], \"y\": [3.0, 2.0], \"type\": \"bar\", \"uid\": \"26f58d60-d2de-11e8-8102-a81e84e6c740\"}, {\"name\": \"\\u662f\\u5426\\u63d0\\u4ea4\\u62a5\\u544a(\\u751f\\u7269\\u5b66DNA)\", \"x\": [\"10-2\", \"10-3\"], \"y\": [6.0, 2.0], \"type\": \"bar\", \"uid\": \"26f58fe0-d2de-11e8-8102-a81e84e6c740\"}], {\"title\": \"\\u662f\\u5426\\u63d0\\u4ea4\\u62a5\\u544a\\u5468\\u8d8b\\u52bf\\u56fe\", \"xaxis\": {\"mirror\": \"all\", \"nticks\": 20, \"showgrid\": true, \"showline\": true, \"title\": \"\\u5468\", \"type\": \"category\", \"zeroline\": true}, \"yaxis\": {\"mirror\": \"all\", \"nticks\": 20, \"showgrid\": true, \"showline\": true, \"title\": \"\\u662f\\u5426\\u63d0\\u4ea4\\u62a5\\u544a\", \"zeroline\": true}}, {\"showLink\": true, \"linkText\": \"Export to plot.ly\"})});</script>"
      ],
      "text/vnd.plotly.v1+html": [
       "<div id=\"3b47d568-f025-4fad-9a9f-02a733853401\" style=\"height: 525px; width: 100%;\" class=\"plotly-graph-div\"></div><script type=\"text/javascript\">require([\"plotly\"], function(Plotly) { window.PLOTLYENV=window.PLOTLYENV || {};window.PLOTLYENV.BASE_URL=\"https://plot.ly\";Plotly.newPlot(\"3b47d568-f025-4fad-9a9f-02a733853401\", [{\"name\": \"\\u662f\\u5426\\u63d0\\u4ea4\\u62a5\\u544a(\\u86cb\\u767d&\\u533b\\u5b66\\u7814\\u53d1\\u7ec4)\", \"x\": [\"10-2\", \"10-3\"], \"y\": [3.0, null], \"type\": \"bar\", \"uid\": \"26f5896e-d2de-11e8-8102-a81e84e6c740\"}, {\"name\": \"\\u662f\\u5426\\u63d0\\u4ea4\\u62a5\\u544a(\\u8f6c\\u5f55\\u8c03\\u63a7\\u7814\\u53d1\\u7ec4)\", \"x\": [\"10-2\", \"10-3\"], \"y\": [3.0, 2.0], \"type\": \"bar\", \"uid\": \"26f58d60-d2de-11e8-8102-a81e84e6c740\"}, {\"name\": \"\\u662f\\u5426\\u63d0\\u4ea4\\u62a5\\u544a(\\u751f\\u7269\\u5b66DNA)\", \"x\": [\"10-2\", \"10-3\"], \"y\": [6.0, 2.0], \"type\": \"bar\", \"uid\": \"26f58fe0-d2de-11e8-8102-a81e84e6c740\"}], {\"title\": \"\\u662f\\u5426\\u63d0\\u4ea4\\u62a5\\u544a\\u5468\\u8d8b\\u52bf\\u56fe\", \"xaxis\": {\"mirror\": \"all\", \"nticks\": 20, \"showgrid\": true, \"showline\": true, \"title\": \"\\u5468\", \"type\": \"category\", \"zeroline\": true}, \"yaxis\": {\"mirror\": \"all\", \"nticks\": 20, \"showgrid\": true, \"showline\": true, \"title\": \"\\u662f\\u5426\\u63d0\\u4ea4\\u62a5\\u544a\", \"zeroline\": true}}, {\"showLink\": true, \"linkText\": \"Export to plot.ly\"})});</script>"
      ]
     },
     "metadata": {},
     "output_type": "display_data"
    }
   ],
   "source": [
    "ss = myModule.format(r_df ,df3.columns[1] ,['是否提交报告'])\n",
    "ss.add_group('组别')\n",
    "ss.select_by_value('是否提交报告' , '是')\n",
    "tt = myModule.myPlot(ss.groupby('count'))\n",
    "tt.plot('bar')"
   ]
  },
  {
   "cell_type": "markdown",
   "metadata": {},
   "source": [
    "## 人均工时的比较"
   ]
  },
  {
   "cell_type": "code",
   "execution_count": 49,
   "metadata": {
    "collapsed": false
   },
   "outputs": [
    {
     "data": {
      "application/vnd.plotly.v1+json": {
       "data": [
        {
         "name": "总工时(蛋白&医学研发组)",
         "type": "bar",
         "uid": "2c3f3528-d2de-11e8-8102-a81e84e6c740",
         "x": [
          "10-2",
          "10-3"
         ],
         "y": [
          5.027027027027027,
          5.725
         ]
        },
        {
         "name": "总工时(转录调控研发组)",
         "type": "bar",
         "uid": "2c3f387a-d2de-11e8-8102-a81e84e6c740",
         "x": [
          "10-2",
          "10-3"
         ],
         "y": [
          9.407407407407407,
          9.666666666666666
         ]
        },
        {
         "name": "总工时(生物学DNA)",
         "type": "bar",
         "uid": "2c3f3bcc-d2de-11e8-8102-a81e84e6c740",
         "x": [
          "10-2",
          "10-3"
         ],
         "y": [
          5.3023255813953485,
          5.604651162790698
         ]
        }
       ],
       "layout": {
        "title": "单个项目工时周趋势图",
        "xaxis": {
         "mirror": "all",
         "nticks": 20,
         "showgrid": true,
         "showline": true,
         "title": "周",
         "type": "category",
         "zeroline": true
        },
        "yaxis": {
         "mirror": "all",
         "nticks": 20,
         "showgrid": true,
         "showline": true,
         "title": "总工时",
         "zeroline": true
        }
       }
      },
      "text/html": [
       "<div id=\"07bf46df-cda8-469b-92aa-6c986177a1aa\" style=\"height: 525px; width: 100%;\" class=\"plotly-graph-div\"></div><script type=\"text/javascript\">require([\"plotly\"], function(Plotly) { window.PLOTLYENV=window.PLOTLYENV || {};window.PLOTLYENV.BASE_URL=\"https://plot.ly\";Plotly.newPlot(\"07bf46df-cda8-469b-92aa-6c986177a1aa\", [{\"name\": \"\\u603b\\u5de5\\u65f6(\\u86cb\\u767d&\\u533b\\u5b66\\u7814\\u53d1\\u7ec4)\", \"x\": [\"10-2\", \"10-3\"], \"y\": [5.027027027027027, 5.725], \"type\": \"bar\", \"uid\": \"2c3f3528-d2de-11e8-8102-a81e84e6c740\"}, {\"name\": \"\\u603b\\u5de5\\u65f6(\\u8f6c\\u5f55\\u8c03\\u63a7\\u7814\\u53d1\\u7ec4)\", \"x\": [\"10-2\", \"10-3\"], \"y\": [9.407407407407407, 9.666666666666666], \"type\": \"bar\", \"uid\": \"2c3f387a-d2de-11e8-8102-a81e84e6c740\"}, {\"name\": \"\\u603b\\u5de5\\u65f6(\\u751f\\u7269\\u5b66DNA)\", \"x\": [\"10-2\", \"10-3\"], \"y\": [5.3023255813953485, 5.604651162790698], \"type\": \"bar\", \"uid\": \"2c3f3bcc-d2de-11e8-8102-a81e84e6c740\"}], {\"title\": \"\\u5355\\u4e2a\\u9879\\u76ee\\u5de5\\u65f6\\u5468\\u8d8b\\u52bf\\u56fe\", \"xaxis\": {\"mirror\": \"all\", \"nticks\": 20, \"showgrid\": true, \"showline\": true, \"title\": \"\\u5468\", \"type\": \"category\", \"zeroline\": true}, \"yaxis\": {\"mirror\": \"all\", \"nticks\": 20, \"showgrid\": true, \"showline\": true, \"title\": \"\\u603b\\u5de5\\u65f6\", \"zeroline\": true}}, {\"showLink\": true, \"linkText\": \"Export to plot.ly\"})});</script>"
      ],
      "text/vnd.plotly.v1+html": [
       "<div id=\"07bf46df-cda8-469b-92aa-6c986177a1aa\" style=\"height: 525px; width: 100%;\" class=\"plotly-graph-div\"></div><script type=\"text/javascript\">require([\"plotly\"], function(Plotly) { window.PLOTLYENV=window.PLOTLYENV || {};window.PLOTLYENV.BASE_URL=\"https://plot.ly\";Plotly.newPlot(\"07bf46df-cda8-469b-92aa-6c986177a1aa\", [{\"name\": \"\\u603b\\u5de5\\u65f6(\\u86cb\\u767d&\\u533b\\u5b66\\u7814\\u53d1\\u7ec4)\", \"x\": [\"10-2\", \"10-3\"], \"y\": [5.027027027027027, 5.725], \"type\": \"bar\", \"uid\": \"2c3f3528-d2de-11e8-8102-a81e84e6c740\"}, {\"name\": \"\\u603b\\u5de5\\u65f6(\\u8f6c\\u5f55\\u8c03\\u63a7\\u7814\\u53d1\\u7ec4)\", \"x\": [\"10-2\", \"10-3\"], \"y\": [9.407407407407407, 9.666666666666666], \"type\": \"bar\", \"uid\": \"2c3f387a-d2de-11e8-8102-a81e84e6c740\"}, {\"name\": \"\\u603b\\u5de5\\u65f6(\\u751f\\u7269\\u5b66DNA)\", \"x\": [\"10-2\", \"10-3\"], \"y\": [5.3023255813953485, 5.604651162790698], \"type\": \"bar\", \"uid\": \"2c3f3bcc-d2de-11e8-8102-a81e84e6c740\"}], {\"title\": \"\\u5355\\u4e2a\\u9879\\u76ee\\u5de5\\u65f6\\u5468\\u8d8b\\u52bf\\u56fe\", \"xaxis\": {\"mirror\": \"all\", \"nticks\": 20, \"showgrid\": true, \"showline\": true, \"title\": \"\\u5468\", \"type\": \"category\", \"zeroline\": true}, \"yaxis\": {\"mirror\": \"all\", \"nticks\": 20, \"showgrid\": true, \"showline\": true, \"title\": \"\\u603b\\u5de5\\u65f6\", \"zeroline\": true}}, {\"showLink\": true, \"linkText\": \"Export to plot.ly\"})});</script>"
      ]
     },
     "metadata": {},
     "output_type": "display_data"
    }
   ],
   "source": [
    "ss = myModule.format(r_df ,r_df.columns[1] ,['总工时'])\n",
    "ss.add_group('组别')\n",
    "ss.get_average_by('子项目编号')\n",
    "#ss.df.groupby([ss.x , ss.group_col]).sum().groupby([ss.x , ss.group_col]).mean()\n",
    "tt = myModule.myPlot(ss.groupby('sum'))\n",
    "tt.plot('bar',fig_title='单个项目工时周趋势图')"
   ]
  },
  {
   "cell_type": "markdown",
   "metadata": {},
   "source": [
    "## 人均项目数的比较"
   ]
  },
  {
   "cell_type": "code",
   "execution_count": 50,
   "metadata": {
    "collapsed": false
   },
   "outputs": [
    {
     "data": {
      "application/vnd.plotly.v1+json": {
       "data": [
        {
         "name": "子项目编号(蛋白&医学研发组)",
         "type": "bar",
         "uid": "34378938-d2de-11e8-8102-a81e84e6c740",
         "x": [
          "10-2",
          "10-3"
         ],
         "y": [
          6.166666666666667,
          5.714285714285714
         ]
        },
        {
         "name": "子项目编号(转录调控研发组)",
         "type": "bar",
         "uid": "34378e06-d2de-11e8-8102-a81e84e6c740",
         "x": [
          "10-2",
          "10-3"
         ],
         "y": [
          3.857142857142857,
          3.4285714285714284
         ]
        },
        {
         "name": "子项目编号(生物学DNA)",
         "type": "bar",
         "uid": "343791c6-d2de-11e8-8102-a81e84e6c740",
         "x": [
          "10-2",
          "10-3"
         ],
         "y": [
          7.166666666666667,
          5.375
         ]
        }
       ],
       "layout": {
        "title": "人均项目数周趋势图",
        "xaxis": {
         "mirror": "all",
         "nticks": 20,
         "showgrid": true,
         "showline": true,
         "title": "周",
         "type": "category",
         "zeroline": true
        },
        "yaxis": {
         "mirror": "all",
         "nticks": 20,
         "showgrid": true,
         "showline": true,
         "title": "子项目编号",
         "zeroline": true
        }
       }
      },
      "text/html": [
       "<div id=\"cbdf2a77-50d7-479b-b537-6bada20ce4b3\" style=\"height: 525px; width: 100%;\" class=\"plotly-graph-div\"></div><script type=\"text/javascript\">require([\"plotly\"], function(Plotly) { window.PLOTLYENV=window.PLOTLYENV || {};window.PLOTLYENV.BASE_URL=\"https://plot.ly\";Plotly.newPlot(\"cbdf2a77-50d7-479b-b537-6bada20ce4b3\", [{\"name\": \"\\u5b50\\u9879\\u76ee\\u7f16\\u53f7(\\u86cb\\u767d&\\u533b\\u5b66\\u7814\\u53d1\\u7ec4)\", \"x\": [\"10-2\", \"10-3\"], \"y\": [6.166666666666667, 5.714285714285714], \"type\": \"bar\", \"uid\": \"34378938-d2de-11e8-8102-a81e84e6c740\"}, {\"name\": \"\\u5b50\\u9879\\u76ee\\u7f16\\u53f7(\\u8f6c\\u5f55\\u8c03\\u63a7\\u7814\\u53d1\\u7ec4)\", \"x\": [\"10-2\", \"10-3\"], \"y\": [3.857142857142857, 3.4285714285714284], \"type\": \"bar\", \"uid\": \"34378e06-d2de-11e8-8102-a81e84e6c740\"}, {\"name\": \"\\u5b50\\u9879\\u76ee\\u7f16\\u53f7(\\u751f\\u7269\\u5b66DNA)\", \"x\": [\"10-2\", \"10-3\"], \"y\": [7.166666666666667, 5.375], \"type\": \"bar\", \"uid\": \"343791c6-d2de-11e8-8102-a81e84e6c740\"}], {\"title\": \"\\u4eba\\u5747\\u9879\\u76ee\\u6570\\u5468\\u8d8b\\u52bf\\u56fe\", \"xaxis\": {\"mirror\": \"all\", \"nticks\": 20, \"showgrid\": true, \"showline\": true, \"title\": \"\\u5468\", \"type\": \"category\", \"zeroline\": true}, \"yaxis\": {\"mirror\": \"all\", \"nticks\": 20, \"showgrid\": true, \"showline\": true, \"title\": \"\\u5b50\\u9879\\u76ee\\u7f16\\u53f7\", \"zeroline\": true}}, {\"showLink\": true, \"linkText\": \"Export to plot.ly\"})});</script>"
      ],
      "text/vnd.plotly.v1+html": [
       "<div id=\"cbdf2a77-50d7-479b-b537-6bada20ce4b3\" style=\"height: 525px; width: 100%;\" class=\"plotly-graph-div\"></div><script type=\"text/javascript\">require([\"plotly\"], function(Plotly) { window.PLOTLYENV=window.PLOTLYENV || {};window.PLOTLYENV.BASE_URL=\"https://plot.ly\";Plotly.newPlot(\"cbdf2a77-50d7-479b-b537-6bada20ce4b3\", [{\"name\": \"\\u5b50\\u9879\\u76ee\\u7f16\\u53f7(\\u86cb\\u767d&\\u533b\\u5b66\\u7814\\u53d1\\u7ec4)\", \"x\": [\"10-2\", \"10-3\"], \"y\": [6.166666666666667, 5.714285714285714], \"type\": \"bar\", \"uid\": \"34378938-d2de-11e8-8102-a81e84e6c740\"}, {\"name\": \"\\u5b50\\u9879\\u76ee\\u7f16\\u53f7(\\u8f6c\\u5f55\\u8c03\\u63a7\\u7814\\u53d1\\u7ec4)\", \"x\": [\"10-2\", \"10-3\"], \"y\": [3.857142857142857, 3.4285714285714284], \"type\": \"bar\", \"uid\": \"34378e06-d2de-11e8-8102-a81e84e6c740\"}, {\"name\": \"\\u5b50\\u9879\\u76ee\\u7f16\\u53f7(\\u751f\\u7269\\u5b66DNA)\", \"x\": [\"10-2\", \"10-3\"], \"y\": [7.166666666666667, 5.375], \"type\": \"bar\", \"uid\": \"343791c6-d2de-11e8-8102-a81e84e6c740\"}], {\"title\": \"\\u4eba\\u5747\\u9879\\u76ee\\u6570\\u5468\\u8d8b\\u52bf\\u56fe\", \"xaxis\": {\"mirror\": \"all\", \"nticks\": 20, \"showgrid\": true, \"showline\": true, \"title\": \"\\u5468\", \"type\": \"category\", \"zeroline\": true}, \"yaxis\": {\"mirror\": \"all\", \"nticks\": 20, \"showgrid\": true, \"showline\": true, \"title\": \"\\u5b50\\u9879\\u76ee\\u7f16\\u53f7\", \"zeroline\": true}}, {\"showLink\": true, \"linkText\": \"Export to plot.ly\"})});</script>"
      ]
     },
     "metadata": {},
     "output_type": "display_data"
    }
   ],
   "source": [
    "ss = myModule.format(r_df ,r_df.columns[1] ,['子项目编号'])\n",
    "ss.add_group('组别')\n",
    "ss.get_average_by('信息负责人')\n",
    "#ss.df.groupby([ss.x , ss.group_col]).sum().groupby([ss.x , ss.group_col]).mean()\n",
    "tt = myModule.myPlot(ss.groupby('count'))\n",
    "tt.plot('bar',fig_title='人均项目数周趋势图')"
   ]
  },
  {
   "cell_type": "code",
   "execution_count": null,
   "metadata": {
    "collapsed": true
   },
   "outputs": [],
   "source": []
  }
 ],
 "metadata": {
  "hide_input": false,
  "kernelspec": {
   "display_name": "Python 3",
   "language": "python",
   "name": "python3"
  },
  "language_info": {
   "codemirror_mode": {
    "name": "ipython",
    "version": 3
   },
   "file_extension": ".py",
   "mimetype": "text/x-python",
   "name": "python",
   "nbconvert_exporter": "python",
   "pygments_lexer": "ipython3",
   "version": "3.6.0"
  },
  "toc": {
   "base_numbering": 1,
   "nav_menu": {},
   "number_sections": true,
   "sideBar": true,
   "skip_h1_title": false,
   "title_cell": "Table of Contents",
   "title_sidebar": "Contents",
   "toc_cell": false,
   "toc_position": {
    "height": "calc(100% - 180px)",
    "left": "10px",
    "top": "150px",
    "width": "270.5px"
   },
   "toc_section_display": true,
   "toc_window_display": true
  }
 },
 "nbformat": 4,
 "nbformat_minor": 2
}
