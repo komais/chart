{
 "cells": [
  {
   "cell_type": "markdown",
   "metadata": {
    "collapsed": false
   },
   "source": [
    "%load_ext autoreload\n",
    "%autoreload 2"
   ]
  },
  {
   "cell_type": "code",
   "execution_count": 217,
   "metadata": {
    "collapsed": false
   },
   "outputs": [
    {
     "data": {
      "text/html": [
       "<script>requirejs.config({paths: { 'plotly': ['https://cdn.plot.ly/plotly-latest.min']},});if(!window.Plotly) {{require(['plotly'],function(plotly) {window.Plotly=plotly;});}}</script>"
      ],
      "text/vnd.plotly.v1+html": [
       "<script>requirejs.config({paths: { 'plotly': ['https://cdn.plot.ly/plotly-latest.min']},});if(!window.Plotly) {{require(['plotly'],function(plotly) {window.Plotly=plotly;});}}</script>"
      ]
     },
     "metadata": {},
     "output_type": "display_data"
    },
    {
     "data": {
      "text/html": [
       "<script>requirejs.config({paths: { 'plotly': ['https://cdn.plot.ly/plotly-latest.min']},});if(!window.Plotly) {{require(['plotly'],function(plotly) {window.Plotly=plotly;});}}</script>"
      ],
      "text/vnd.plotly.v1+html": [
       "<script>requirejs.config({paths: { 'plotly': ['https://cdn.plot.ly/plotly-latest.min']},});if(!window.Plotly) {{require(['plotly'],function(plotly) {window.Plotly=plotly;});}}</script>"
      ]
     },
     "metadata": {},
     "output_type": "display_data"
    }
   ],
   "source": [
    "import pandas as pd\n",
    "import numpy as np\n",
    "import sys\n",
    "sys.path.append('./')\n",
    "import xiadan_check\n",
    "import myModule\n",
    "import imp\n",
    "imp.reload(xiadan_check)\n",
    "imp.reload(myModule)\n",
    "import time"
   ]
  },
  {
   "cell_type": "code",
   "execution_count": 218,
   "metadata": {
    "collapsed": false
   },
   "outputs": [],
   "source": [
    "pathway = './'\n",
    "all_files  = xiadan_check.get_files(pathway, \"个性化\",\"20181022\")   ##给路径\n",
    "df1  = xiadan_check.read_xlsx(all_files , 0 )## read all files sheet1"
   ]
  },
  {
   "cell_type": "code",
   "execution_count": 219,
   "metadata": {
    "collapsed": false
   },
   "outputs": [],
   "source": [
    "import datetime\n",
    "def changetype1(check_str):\n",
    "    value = 1 if type(check_str) == datetime.datetime else 0\n",
    "    return value\n",
    "def changetype2(check_str):\n",
    "    value = 0 if type(check_str) == datetime.datetime else 1\n",
    "    return value"
   ]
  },
  {
   "cell_type": "code",
   "execution_count": 220,
   "metadata": {
    "collapsed": false,
    "scrolled": true
   },
   "outputs": [
    {
     "name": "stderr",
     "output_type": "stream",
     "text": [
      "/home/jiankong/anaconda3/lib/python3.6/site-packages/ipykernel/__main__.py:15: SettingWithCopyWarning:\n",
      "\n",
      "\n",
      "A value is trying to be set on a copy of a slice from a DataFrame.\n",
      "Try using .loc[row_indexer,col_indexer] = value instead\n",
      "\n",
      "See the caveats in the documentation: http://pandas.pydata.org/pandas-docs/stable/indexing.html#indexing-view-versus-copy\n",
      "\n",
      "/home/jiankong/jupyter/chart/bin/supplment_analysis/myModule.py:87: SettingWithCopyWarning:\n",
      "\n",
      "\n",
      "A value is trying to be set on a copy of a slice from a DataFrame.\n",
      "Try using .loc[row_indexer,col_indexer] = value instead\n",
      "\n",
      "See the caveats in the documentation: http://pandas.pydata.org/pandas-docs/stable/indexing.html#indexing-view-versus-copy\n",
      "\n",
      "/home/jiankong/jupyter/chart/bin/supplment_analysis/myModule.py:129: SettingWithCopyWarning:\n",
      "\n",
      "\n",
      "A value is trying to be set on a copy of a slice from a DataFrame.\n",
      "Try using .loc[row_indexer,col_indexer] = value instead\n",
      "\n",
      "See the caveats in the documentation: http://pandas.pydata.org/pandas-docs/stable/indexing.html#indexing-view-versus-copy\n",
      "\n",
      "/home/jiankong/anaconda3/lib/python3.6/site-packages/ipykernel/__main__.py:22: SettingWithCopyWarning:\n",
      "\n",
      "\n",
      "A value is trying to be set on a copy of a slice from a DataFrame.\n",
      "Try using .loc[row_indexer,col_indexer] = value instead\n",
      "\n",
      "See the caveats in the documentation: http://pandas.pydata.org/pandas-docs/stable/indexing.html#indexing-view-versus-copy\n",
      "\n",
      "/home/jiankong/jupyter/chart/bin/supplment_analysis/myModule.py:117: SettingWithCopyWarning:\n",
      "\n",
      "\n",
      "A value is trying to be set on a copy of a slice from a DataFrame.\n",
      "Try using .loc[row_indexer,col_indexer] = value instead\n",
      "\n",
      "See the caveats in the documentation: http://pandas.pydata.org/pandas-docs/stable/indexing.html#indexing-view-versus-copy\n",
      "\n",
      "/home/jiankong/anaconda3/lib/python3.6/site-packages/ipykernel/__main__.py:29: SettingWithCopyWarning:\n",
      "\n",
      "\n",
      "A value is trying to be set on a copy of a slice from a DataFrame.\n",
      "Try using .loc[row_indexer,col_indexer] = value instead\n",
      "\n",
      "See the caveats in the documentation: http://pandas.pydata.org/pandas-docs/stable/indexing.html#indexing-view-versus-copy\n",
      "\n",
      "/home/jiankong/anaconda3/lib/python3.6/site-packages/ipykernel/__main__.py:30: SettingWithCopyWarning:\n",
      "\n",
      "\n",
      "A value is trying to be set on a copy of a slice from a DataFrame.\n",
      "Try using .loc[row_indexer,col_indexer] = value instead\n",
      "\n",
      "See the caveats in the documentation: http://pandas.pydata.org/pandas-docs/stable/indexing.html#indexing-view-versus-copy\n",
      "\n"
     ]
    }
   ],
   "source": [
    "date = pd.to_datetime(time.strftime('%Y-%m-%d',time.localtime(time.time())))\n",
    "stat_week = '10月2周'\n",
    "## df1:原始项目；\n",
    "## df2:有效反馈项目，即排除驳回、暂停、沟通中\n",
    "## df3:在线项目，基于df2\n",
    "## df4:完成项目，基于df2\n",
    "## df5:延期项目，基于df3中未交付延期、df4\n",
    "\n",
    "myModule.add_week(df1,'下单时间',4)                                              #以下单时间定义week_number\n",
    "myModule.upgrade_df(df1, [['反馈周期', ['评估反馈时间','下单时间'], '-']])     #增加“反馈周期”列\n",
    "tt = lambda x : getattr(x , 'days')                                            #更换“days”类型\n",
    "[myModule.retype(df1, i , tt) for i in ['反馈周期']] \n",
    "\n",
    "df2 = df1[df1['预计交付时间'].apply(lambda x: type(x) == datetime.datetime)]   #根据“预计交付时间”筛选有效反馈项目列表\n",
    "df2['预计交付时间'] = df2['预计交付时间'].apply(pd.to_datetime)                #转换时间类型\n",
    "myModule.upgrade_df(df2, [['预计周期', ['预计交付时间','评估反馈时间'], '-']]) #增加“预计周期”列\n",
    "[myModule.retype(df2, i , tt) for i in ['预计周期']]                           #更换“days”类型\n",
    "\n",
    "df3 = df2[df2['实际交付时间'].apply(lambda x: x == 0)]                          #根据“实际交付时间”筛选在线项目列表\n",
    "\n",
    "df4 = df2[df2['实际交付时间'].apply(lambda x: type(x) == datetime.datetime)]    #根据“实际交付时间”筛选已交付项目列表\n",
    "df4['实际交付时间'] = df4['实际交付时间'].apply(pd.to_datetime)                 #转换时间类型\n",
    "myModule.upgrade_df(df4, [['实际周期', ['实际交付时间','评估反馈时间'], '-'],   #增加“实际周期”、“延期天数”列\n",
    "                         ['延期天数',['实际交付时间','预计交付时间'], '-']])\n",
    "[myModule.retype(df4, i , tt) for i in ['实际周期','延期天数']]                 #更换“days”类型\n",
    "myModule.add_week(df4,'实际交付时间',4)                                           #以实际交付时间定义week_number\n",
    "\n",
    "tmp = df3[df3['预计交付时间'].apply(lambda x: date>x)]                          #未交付延期项目\n",
    "tmp['实际周期'] = 1000\n",
    "tmp['延期天数'] = 1000\n",
    "df5 = df4.append(tmp)\n",
    "myModule.add_week(df5,'预计交付时间',4)                                           #以预计交付时间定义week_number\n",
    "\n",
    "## 分析组人员列表\n",
    "fenxi = [\"施毓芷\",\"闻少楠\",\"杨宇\",\"刘永强\",\"刘梦苑\",\"何胜\",\"陈碧雯\",\"王霞\",\"卢楠\",\"冯敬岩\",\"朱慧萍\",\"赵倩\",\"解飞\",\"宋少宇\",\"卢楠\"]"
   ]
  },
  {
   "cell_type": "markdown",
   "metadata": {},
   "source": [
    "# 评估情况统计"
   ]
  },
  {
   "cell_type": "code",
   "execution_count": 221,
   "metadata": {
    "collapsed": false
   },
   "outputs": [
    {
     "data": {
      "text/html": [
       "<div>\n",
       "<style scoped>\n",
       "    .dataframe tbody tr th:only-of-type {\n",
       "        vertical-align: middle;\n",
       "    }\n",
       "\n",
       "    .dataframe tbody tr th {\n",
       "        vertical-align: top;\n",
       "    }\n",
       "\n",
       "    .dataframe thead th {\n",
       "        text-align: right;\n",
       "    }\n",
       "</style>\n",
       "<table border=\"1\" class=\"dataframe\">\n",
       "  <thead>\n",
       "    <tr style=\"text-align: right;\">\n",
       "      <th></th>\n",
       "      <th>序号</th>\n",
       "      <th>流水号</th>\n",
       "      <th>个性化分析名称</th>\n",
       "      <th>项目管理</th>\n",
       "      <th>接入时间</th>\n",
       "      <th>下单时间</th>\n",
       "      <th>信息负责人</th>\n",
       "      <th>评估反馈时间</th>\n",
       "      <th>预计交付时间</th>\n",
       "      <th>数据迁回花费时间（天）</th>\n",
       "      <th>实际交付时间</th>\n",
       "      <th>评估人时（h）</th>\n",
       "      <th>评估机时(h)</th>\n",
       "      <th>是否在库里</th>\n",
       "      <th>库里周期（天）</th>\n",
       "      <th>项目管理交付时间</th>\n",
       "      <th>备注</th>\n",
       "      <th>week_number</th>\n",
       "      <th>反馈周期</th>\n",
       "    </tr>\n",
       "  </thead>\n",
       "  <tbody>\n",
       "    <tr>\n",
       "      <th>323</th>\n",
       "      <td>1286</td>\n",
       "      <td>20181018-008</td>\n",
       "      <td>HA170069-02河南农业大学2个泡桐样本构建12个hic文库只分析任务单-VIP-02</td>\n",
       "      <td>王含</td>\n",
       "      <td>2018-10-18 00:00:00</td>\n",
       "      <td>2018-10-18</td>\n",
       "      <td>何胜</td>\n",
       "      <td>2018-10-19</td>\n",
       "      <td>2018-10-26 00:00:00</td>\n",
       "      <td>0</td>\n",
       "      <td>0</td>\n",
       "      <td>0</td>\n",
       "      <td>0.0</td>\n",
       "      <td>0</td>\n",
       "      <td>0</td>\n",
       "      <td>0</td>\n",
       "      <td>0.0</td>\n",
       "      <td>10月2周</td>\n",
       "      <td>1</td>\n",
       "    </tr>\n",
       "    <tr>\n",
       "      <th>324</th>\n",
       "      <td>1287</td>\n",
       "      <td>20181018-009</td>\n",
       "      <td>HA170069-02河南农业大学2个泡桐样本构建12个hic文库只分析任务单-VIP-03</td>\n",
       "      <td>王含</td>\n",
       "      <td>2018-10-18 00:00:00</td>\n",
       "      <td>2018-10-18</td>\n",
       "      <td>驳回</td>\n",
       "      <td>2018-10-18</td>\n",
       "      <td>驳回</td>\n",
       "      <td>0</td>\n",
       "      <td>0</td>\n",
       "      <td>0</td>\n",
       "      <td>0.0</td>\n",
       "      <td>0</td>\n",
       "      <td>0</td>\n",
       "      <td>0</td>\n",
       "      <td>0.0</td>\n",
       "      <td>10月2周</td>\n",
       "      <td>0</td>\n",
       "    </tr>\n",
       "    <tr>\n",
       "      <th>325</th>\n",
       "      <td>1288</td>\n",
       "      <td>20181018-010</td>\n",
       "      <td>ANCJS170153南通大学300个大鼠神经元单细胞lncRNA建库测序分析任务单-VIP-07</td>\n",
       "      <td>廖星吕</td>\n",
       "      <td>2018-10-18 00:00:00</td>\n",
       "      <td>2018-10-18</td>\n",
       "      <td>赵倩</td>\n",
       "      <td>2018-10-19</td>\n",
       "      <td>2018-10-25 00:00:00</td>\n",
       "      <td>0</td>\n",
       "      <td>0</td>\n",
       "      <td>0</td>\n",
       "      <td>0.0</td>\n",
       "      <td>0</td>\n",
       "      <td>0</td>\n",
       "      <td>0</td>\n",
       "      <td>0.0</td>\n",
       "      <td>10月2周</td>\n",
       "      <td>1</td>\n",
       "    </tr>\n",
       "    <tr>\n",
       "      <th>326</th>\n",
       "      <td>1289</td>\n",
       "      <td>20181018-011</td>\n",
       "      <td>BJ170435-01动物所12个小鼠MALBAC扩增单细胞基因组建库测序分析任务单_VIP-13</td>\n",
       "      <td>廖星吕</td>\n",
       "      <td>2018-10-18 00:00:00</td>\n",
       "      <td>2018-10-18</td>\n",
       "      <td>刘江</td>\n",
       "      <td>2018-10-18</td>\n",
       "      <td>2018-10-28 00:00:00</td>\n",
       "      <td>0</td>\n",
       "      <td>0</td>\n",
       "      <td>0</td>\n",
       "      <td>0.0</td>\n",
       "      <td>0</td>\n",
       "      <td>0</td>\n",
       "      <td>0</td>\n",
       "      <td>0.0</td>\n",
       "      <td>10月2周</td>\n",
       "      <td>0</td>\n",
       "    </tr>\n",
       "    <tr>\n",
       "      <th>327</th>\n",
       "      <td>1290</td>\n",
       "      <td>20181018-012</td>\n",
       "      <td>BJ170435-01动物所12个小鼠MALBAC扩增单细胞基因组建库测序分析任务单_VIP-14</td>\n",
       "      <td>廖星吕</td>\n",
       "      <td>2018-10-18 00:00:00</td>\n",
       "      <td>2018-10-18</td>\n",
       "      <td>刘江</td>\n",
       "      <td>2018-10-18</td>\n",
       "      <td>2018-10-28 00:00:00</td>\n",
       "      <td>0</td>\n",
       "      <td>0</td>\n",
       "      <td>0</td>\n",
       "      <td>0.0</td>\n",
       "      <td>0</td>\n",
       "      <td>0</td>\n",
       "      <td>0</td>\n",
       "      <td>0.0</td>\n",
       "      <td>10月2周</td>\n",
       "      <td>0</td>\n",
       "    </tr>\n",
       "  </tbody>\n",
       "</table>\n",
       "</div>"
      ],
      "text/plain": [
       "       序号           流水号                                            个性化分析名称  \\\n",
       "323  1286  20181018-008     HA170069-02河南农业大学2个泡桐样本构建12个hic文库只分析任务单-VIP-02   \n",
       "324  1287  20181018-009     HA170069-02河南农业大学2个泡桐样本构建12个hic文库只分析任务单-VIP-03   \n",
       "325  1288  20181018-010  ANCJS170153南通大学300个大鼠神经元单细胞lncRNA建库测序分析任务单-VIP-07   \n",
       "326  1289  20181018-011  BJ170435-01动物所12个小鼠MALBAC扩增单细胞基因组建库测序分析任务单_VIP-13   \n",
       "327  1290  20181018-012  BJ170435-01动物所12个小鼠MALBAC扩增单细胞基因组建库测序分析任务单_VIP-14   \n",
       "\n",
       "    项目管理                 接入时间       下单时间 信息负责人     评估反馈时间  \\\n",
       "323   王含  2018-10-18 00:00:00 2018-10-18    何胜 2018-10-19   \n",
       "324   王含  2018-10-18 00:00:00 2018-10-18    驳回 2018-10-18   \n",
       "325  廖星吕  2018-10-18 00:00:00 2018-10-18    赵倩 2018-10-19   \n",
       "326  廖星吕  2018-10-18 00:00:00 2018-10-18    刘江 2018-10-18   \n",
       "327  廖星吕  2018-10-18 00:00:00 2018-10-18    刘江 2018-10-18   \n",
       "\n",
       "                  预计交付时间 数据迁回花费时间（天） 实际交付时间 评估人时（h）  评估机时(h) 是否在库里 库里周期（天）  \\\n",
       "323  2018-10-26 00:00:00           0      0       0      0.0     0       0   \n",
       "324                   驳回           0      0       0      0.0     0       0   \n",
       "325  2018-10-25 00:00:00           0      0       0      0.0     0       0   \n",
       "326  2018-10-28 00:00:00           0      0       0      0.0     0       0   \n",
       "327  2018-10-28 00:00:00           0      0       0      0.0     0       0   \n",
       "\n",
       "    项目管理交付时间   备注 week_number  反馈周期  \n",
       "323        0  0.0       10月2周     1  \n",
       "324        0  0.0       10月2周     0  \n",
       "325        0  0.0       10月2周     1  \n",
       "326        0  0.0       10月2周     0  \n",
       "327        0  0.0       10月2周     0  "
      ]
     },
     "execution_count": 221,
     "metadata": {},
     "output_type": "execute_result"
    }
   ],
   "source": [
    "df1.tail()"
   ]
  },
  {
   "cell_type": "markdown",
   "metadata": {},
   "source": [
    "## 接入项目数统计"
   ]
  },
  {
   "cell_type": "markdown",
   "metadata": {},
   "source": [
    "### 整体接入项目数趋势图"
   ]
  },
  {
   "cell_type": "code",
   "execution_count": 222,
   "metadata": {
    "collapsed": false
   },
   "outputs": [
    {
     "name": "stderr",
     "output_type": "stream",
     "text": [
      "/home/jiankong/anaconda3/lib/python3.6/site-packages/ipykernel/__main__.py:2: SettingWithCopyWarning:\n",
      "\n",
      "\n",
      "A value is trying to be set on a copy of a slice from a DataFrame.\n",
      "Try using .loc[row_indexer,col_indexer] = value instead\n",
      "\n",
      "See the caveats in the documentation: http://pandas.pydata.org/pandas-docs/stable/indexing.html#indexing-view-versus-copy\n",
      "\n",
      "/home/jiankong/anaconda3/lib/python3.6/site-packages/ipykernel/__main__.py:3: SettingWithCopyWarning:\n",
      "\n",
      "\n",
      "A value is trying to be set on a copy of a slice from a DataFrame.\n",
      "Try using .loc[row_indexer,col_indexer] = value instead\n",
      "\n",
      "See the caveats in the documentation: http://pandas.pydata.org/pandas-docs/stable/indexing.html#indexing-view-versus-copy\n",
      "\n",
      "/home/jiankong/anaconda3/lib/python3.6/site-packages/ipykernel/__main__.py:4: SettingWithCopyWarning:\n",
      "\n",
      "\n",
      "A value is trying to be set on a copy of a slice from a DataFrame.\n",
      "Try using .loc[row_indexer,col_indexer] = value instead\n",
      "\n",
      "See the caveats in the documentation: http://pandas.pydata.org/pandas-docs/stable/indexing.html#indexing-view-versus-copy\n",
      "\n"
     ]
    },
    {
     "data": {
      "application/vnd.plotly.v1+json": {
       "data": [
        {
         "name": "驳回暂停沟通项目数",
         "type": "scatter",
         "uid": "16dff4b6-d611-11e8-8ddb-a41f72875c19",
         "x": [
          "8月6周",
          "9月1周",
          "9月2周",
          "9月3周",
          "9月4周",
          "10月1周",
          "10月2周"
         ],
         "y": [
          4,
          4,
          3,
          6,
          1,
          7,
          16
         ]
        },
        {
         "name": "接入项目数",
         "type": "scatter",
         "uid": "16dff4b7-d611-11e8-8ddb-a41f72875c19",
         "x": [
          "8月6周",
          "9月1周",
          "9月2周",
          "9月3周",
          "9月4周",
          "10月1周",
          "10月2周"
         ],
         "y": [
          41,
          45,
          44,
          49,
          12,
          64,
          73
         ]
        },
        {
         "name": "有效接入项目数",
         "type": "scatter",
         "uid": "16dff4b8-d611-11e8-8ddb-a41f72875c19",
         "x": [
          "8月6周",
          "9月1周",
          "9月2周",
          "9月3周",
          "9月4周",
          "10月1周",
          "10月2周"
         ],
         "y": [
          37,
          41,
          41,
          43,
          11,
          57,
          57
         ]
        }
       ],
       "layout": {
        "title": "驳回暂停沟通项目数&接入项目数&有效接入项目数周趋势图",
        "xaxis": {
         "mirror": "all",
         "nticks": 20,
         "showgrid": true,
         "showline": true,
         "title": "周",
         "type": "category",
         "zeroline": true
        },
        "yaxis": {
         "mirror": "all",
         "nticks": 20,
         "showgrid": true,
         "showline": true,
         "title": "驳回暂停沟通项目数&接入项目数&有效接入项目数",
         "zeroline": true
        }
       }
      },
      "text/html": [
       "<div id=\"10b5c4a4-daa4-480d-bfcc-8f272fbb5290\" style=\"height: 525px; width: 100%;\" class=\"plotly-graph-div\"></div><script type=\"text/javascript\">require([\"plotly\"], function(Plotly) { window.PLOTLYENV=window.PLOTLYENV || {};window.PLOTLYENV.BASE_URL=\"https://plot.ly\";Plotly.newPlot(\"10b5c4a4-daa4-480d-bfcc-8f272fbb5290\", [{\"name\": \"\\u9a73\\u56de\\u6682\\u505c\\u6c9f\\u901a\\u9879\\u76ee\\u6570\", \"x\": [\"8\\u67086\\u5468\", \"9\\u67081\\u5468\", \"9\\u67082\\u5468\", \"9\\u67083\\u5468\", \"9\\u67084\\u5468\", \"10\\u67081\\u5468\", \"10\\u67082\\u5468\"], \"y\": [4, 4, 3, 6, 1, 7, 16], \"type\": \"scatter\", \"uid\": \"16dff4b6-d611-11e8-8ddb-a41f72875c19\"}, {\"name\": \"\\u63a5\\u5165\\u9879\\u76ee\\u6570\", \"x\": [\"8\\u67086\\u5468\", \"9\\u67081\\u5468\", \"9\\u67082\\u5468\", \"9\\u67083\\u5468\", \"9\\u67084\\u5468\", \"10\\u67081\\u5468\", \"10\\u67082\\u5468\"], \"y\": [41, 45, 44, 49, 12, 64, 73], \"type\": \"scatter\", \"uid\": \"16dff4b7-d611-11e8-8ddb-a41f72875c19\"}, {\"name\": \"\\u6709\\u6548\\u63a5\\u5165\\u9879\\u76ee\\u6570\", \"x\": [\"8\\u67086\\u5468\", \"9\\u67081\\u5468\", \"9\\u67082\\u5468\", \"9\\u67083\\u5468\", \"9\\u67084\\u5468\", \"10\\u67081\\u5468\", \"10\\u67082\\u5468\"], \"y\": [37, 41, 41, 43, 11, 57, 57], \"type\": \"scatter\", \"uid\": \"16dff4b8-d611-11e8-8ddb-a41f72875c19\"}], {\"title\": \"\\u9a73\\u56de\\u6682\\u505c\\u6c9f\\u901a\\u9879\\u76ee\\u6570&\\u63a5\\u5165\\u9879\\u76ee\\u6570&\\u6709\\u6548\\u63a5\\u5165\\u9879\\u76ee\\u6570\\u5468\\u8d8b\\u52bf\\u56fe\", \"xaxis\": {\"mirror\": \"all\", \"nticks\": 20, \"showgrid\": true, \"showline\": true, \"title\": \"\\u5468\", \"type\": \"category\", \"zeroline\": true}, \"yaxis\": {\"mirror\": \"all\", \"nticks\": 20, \"showgrid\": true, \"showline\": true, \"title\": \"\\u9a73\\u56de\\u6682\\u505c\\u6c9f\\u901a\\u9879\\u76ee\\u6570&\\u63a5\\u5165\\u9879\\u76ee\\u6570&\\u6709\\u6548\\u63a5\\u5165\\u9879\\u76ee\\u6570\", \"zeroline\": true}}, {\"showLink\": true, \"linkText\": \"Export to plot.ly\"})});</script>"
      ],
      "text/vnd.plotly.v1+html": [
       "<div id=\"10b5c4a4-daa4-480d-bfcc-8f272fbb5290\" style=\"height: 525px; width: 100%;\" class=\"plotly-graph-div\"></div><script type=\"text/javascript\">require([\"plotly\"], function(Plotly) { window.PLOTLYENV=window.PLOTLYENV || {};window.PLOTLYENV.BASE_URL=\"https://plot.ly\";Plotly.newPlot(\"10b5c4a4-daa4-480d-bfcc-8f272fbb5290\", [{\"name\": \"\\u9a73\\u56de\\u6682\\u505c\\u6c9f\\u901a\\u9879\\u76ee\\u6570\", \"x\": [\"8\\u67086\\u5468\", \"9\\u67081\\u5468\", \"9\\u67082\\u5468\", \"9\\u67083\\u5468\", \"9\\u67084\\u5468\", \"10\\u67081\\u5468\", \"10\\u67082\\u5468\"], \"y\": [4, 4, 3, 6, 1, 7, 16], \"type\": \"scatter\", \"uid\": \"16dff4b6-d611-11e8-8ddb-a41f72875c19\"}, {\"name\": \"\\u63a5\\u5165\\u9879\\u76ee\\u6570\", \"x\": [\"8\\u67086\\u5468\", \"9\\u67081\\u5468\", \"9\\u67082\\u5468\", \"9\\u67083\\u5468\", \"9\\u67084\\u5468\", \"10\\u67081\\u5468\", \"10\\u67082\\u5468\"], \"y\": [41, 45, 44, 49, 12, 64, 73], \"type\": \"scatter\", \"uid\": \"16dff4b7-d611-11e8-8ddb-a41f72875c19\"}, {\"name\": \"\\u6709\\u6548\\u63a5\\u5165\\u9879\\u76ee\\u6570\", \"x\": [\"8\\u67086\\u5468\", \"9\\u67081\\u5468\", \"9\\u67082\\u5468\", \"9\\u67083\\u5468\", \"9\\u67084\\u5468\", \"10\\u67081\\u5468\", \"10\\u67082\\u5468\"], \"y\": [37, 41, 41, 43, 11, 57, 57], \"type\": \"scatter\", \"uid\": \"16dff4b8-d611-11e8-8ddb-a41f72875c19\"}], {\"title\": \"\\u9a73\\u56de\\u6682\\u505c\\u6c9f\\u901a\\u9879\\u76ee\\u6570&\\u63a5\\u5165\\u9879\\u76ee\\u6570&\\u6709\\u6548\\u63a5\\u5165\\u9879\\u76ee\\u6570\\u5468\\u8d8b\\u52bf\\u56fe\", \"xaxis\": {\"mirror\": \"all\", \"nticks\": 20, \"showgrid\": true, \"showline\": true, \"title\": \"\\u5468\", \"type\": \"category\", \"zeroline\": true}, \"yaxis\": {\"mirror\": \"all\", \"nticks\": 20, \"showgrid\": true, \"showline\": true, \"title\": \"\\u9a73\\u56de\\u6682\\u505c\\u6c9f\\u901a\\u9879\\u76ee\\u6570&\\u63a5\\u5165\\u9879\\u76ee\\u6570&\\u6709\\u6548\\u63a5\\u5165\\u9879\\u76ee\\u6570\", \"zeroline\": true}}, {\"showLink\": true, \"linkText\": \"Export to plot.ly\"})});</script>"
      ]
     },
     "metadata": {},
     "output_type": "display_data"
    }
   ],
   "source": [
    "ss = myModule.format(df1,'week_number',['流水号','个性化分析名称','项目管理','预计交付时间'])\n",
    "ss.df['接入项目数'] = list(map(changetype2,ss.df['流水号']))\n",
    "ss.df['有效接入项目数'] = list(map(changetype1,ss.df['预计交付时间']))\n",
    "ss.df['驳回暂停沟通项目数'] = list(map(changetype2,ss.df['预计交付时间']))\n",
    "tt = myModule.format(ss.df,'week_number',['有效接入项目数','驳回暂停沟通项目数','接入项目数'])\n",
    "pp = myModule.sort_by_index(tt.groupby('sum'))\n",
    "myModule.myPlot(pp).plot('line')"
   ]
  },
  {
   "cell_type": "markdown",
   "metadata": {},
   "source": [
    "### 个人接入项目数分布图"
   ]
  },
  {
   "cell_type": "code",
   "execution_count": 223,
   "metadata": {
    "collapsed": false
   },
   "outputs": [
    {
     "data": {
      "application/vnd.plotly.v1+json": {
       "data": [
        {
         "name": "流水号(朱慧萍)",
         "type": "bar",
         "uid": "16dff4b9-d611-11e8-8ddb-a41f72875c19",
         "x": [
          "8月6周",
          "9月1周",
          "9月2周",
          "9月3周",
          "9月4周",
          "10月1周",
          "10月2周"
         ],
         "y": [
          4,
          4,
          3,
          1,
          1,
          2,
          5
         ]
        },
        {
         "name": "流水号(何胜)",
         "type": "bar",
         "uid": "16dff4ba-d611-11e8-8ddb-a41f72875c19",
         "x": [
          "8月6周",
          "9月1周",
          "9月2周",
          "9月3周",
          "9月4周",
          "10月1周",
          "10月2周"
         ],
         "y": [
          3,
          2,
          4,
          3,
          null,
          3,
          2
         ]
        },
        {
         "name": "流水号(终止)",
         "type": "bar",
         "uid": "16dff4bb-d611-11e8-8ddb-a41f72875c19",
         "x": [
          "8月6周",
          "9月1周",
          "9月2周",
          "9月3周",
          "9月4周",
          "10月1周",
          "10月2周"
         ],
         "y": [
          null,
          null,
          null,
          1,
          null,
          null,
          2
         ]
        },
        {
         "name": "流水号(王霞)",
         "type": "bar",
         "uid": "16dff4bc-d611-11e8-8ddb-a41f72875c19",
         "x": [
          "8月6周",
          "9月1周",
          "9月2周",
          "9月3周",
          "9月4周",
          "10月1周",
          "10月2周"
         ],
         "y": [
          2,
          2,
          3,
          2,
          null,
          4,
          2
         ]
        },
        {
         "name": "流水号(陈鹏燕)",
         "type": "bar",
         "uid": "16dff4bd-d611-11e8-8ddb-a41f72875c19",
         "x": [
          "8月6周",
          "9月1周",
          "9月2周",
          "9月3周",
          "9月4周",
          "10月1周",
          "10月2周"
         ],
         "y": [
          3,
          3,
          2,
          3,
          null,
          null,
          null
         ]
        },
        {
         "name": "流水号(张悦)",
         "type": "bar",
         "uid": "16dff4be-d611-11e8-8ddb-a41f72875c19",
         "x": [
          "8月6周",
          "9月1周",
          "9月2周",
          "9月3周",
          "9月4周",
          "10月1周",
          "10月2周"
         ],
         "y": [
          null,
          null,
          null,
          null,
          null,
          1,
          null
         ]
        },
        {
         "name": "流水号(冯敬岩)",
         "type": "bar",
         "uid": "16dff4bf-d611-11e8-8ddb-a41f72875c19",
         "x": [
          "8月6周",
          "9月1周",
          "9月2周",
          "9月3周",
          "9月4周",
          "10月1周",
          "10月2周"
         ],
         "y": [
          3,
          3,
          1,
          3,
          1,
          4,
          7
         ]
        },
        {
         "name": "流水号(韩少怀)",
         "type": "bar",
         "uid": "16dff4c0-d611-11e8-8ddb-a41f72875c19",
         "x": [
          "8月6周",
          "9月1周",
          "9月2周",
          "9月3周",
          "9月4周",
          "10月1周",
          "10月2周"
         ],
         "y": [
          1,
          null,
          null,
          3,
          null,
          2,
          3
         ]
        },
        {
         "name": "流水号(林文文)",
         "type": "bar",
         "uid": "16dff4c1-d611-11e8-8ddb-a41f72875c19",
         "x": [
          "8月6周",
          "9月1周",
          "9月2周",
          "9月3周",
          "9月4周",
          "10月1周",
          "10月2周"
         ],
         "y": [
          null,
          1,
          null,
          3,
          null,
          null,
          null
         ]
        },
        {
         "name": "流水号(于勇一)",
         "type": "bar",
         "uid": "16dff4c2-d611-11e8-8ddb-a41f72875c19",
         "x": [
          "8月6周",
          "9月1周",
          "9月2周",
          "9月3周",
          "9月4周",
          "10月1周",
          "10月2周"
         ],
         "y": [
          null,
          null,
          1,
          null,
          null,
          null,
          null
         ]
        },
        {
         "name": "流水号(任雪)",
         "type": "bar",
         "uid": "16dff4c3-d611-11e8-8ddb-a41f72875c19",
         "x": [
          "8月6周",
          "9月1周",
          "9月2周",
          "9月3周",
          "9月4周",
          "10月1周",
          "10月2周"
         ],
         "y": [
          null,
          null,
          null,
          null,
          null,
          null,
          1
         ]
        },
        {
         "name": "流水号(昶吉阳)",
         "type": "bar",
         "uid": "16dff4c4-d611-11e8-8ddb-a41f72875c19",
         "x": [
          "8月6周",
          "9月1周",
          "9月2周",
          "9月3周",
          "9月4周",
          "10月1周",
          "10月2周"
         ],
         "y": [
          1,
          1,
          1,
          3,
          1,
          null,
          1
         ]
        },
        {
         "name": "流水号(宋少宇)",
         "type": "bar",
         "uid": "16dff4c5-d611-11e8-8ddb-a41f72875c19",
         "x": [
          "8月6周",
          "9月1周",
          "9月2周",
          "9月3周",
          "9月4周",
          "10月1周",
          "10月2周"
         ],
         "y": [
          1,
          null,
          null,
          null,
          null,
          7,
          null
         ]
        },
        {
         "name": "流水号(姚盟成)",
         "type": "bar",
         "uid": "16dff4c6-d611-11e8-8ddb-a41f72875c19",
         "x": [
          "8月6周",
          "9月1周",
          "9月2周",
          "9月3周",
          "9月4周",
          "10月1周",
          "10月2周"
         ],
         "y": [
          1,
          null,
          1,
          null,
          null,
          null,
          2
         ]
        },
        {
         "name": "流水号(段利强)",
         "type": "bar",
         "uid": "16dff4c7-d611-11e8-8ddb-a41f72875c19",
         "x": [
          "8月6周",
          "9月1周",
          "9月2周",
          "9月3周",
          "9月4周",
          "10月1周",
          "10月2周"
         ],
         "y": [
          1,
          1,
          5,
          null,
          null,
          null,
          null
         ]
        },
        {
         "name": "流水号(范旭宁)",
         "type": "bar",
         "uid": "16dff4c8-d611-11e8-8ddb-a41f72875c19",
         "x": [
          "8月6周",
          "9月1周",
          "9月2周",
          "9月3周",
          "9月4周",
          "10月1周",
          "10月2周"
         ],
         "y": [
          1,
          null,
          2,
          2,
          null,
          null,
          null
         ]
        },
        {
         "name": "流水号(杨宇)",
         "type": "bar",
         "uid": "16dff4c9-d611-11e8-8ddb-a41f72875c19",
         "x": [
          "8月6周",
          "9月1周",
          "9月2周",
          "9月3周",
          "9月4周",
          "10月1周",
          "10月2周"
         ],
         "y": [
          1,
          4,
          2,
          3,
          1,
          3,
          2
         ]
        },
        {
         "name": "流水号(驳回)",
         "type": "bar",
         "uid": "16dff4ca-d611-11e8-8ddb-a41f72875c19",
         "x": [
          "8月6周",
          "9月1周",
          "9月2周",
          "9月3周",
          "9月4周",
          "10月1周",
          "10月2周"
         ],
         "y": [
          3,
          3,
          3,
          3,
          1,
          4,
          9
         ]
        },
        {
         "name": "流水号(刘永强)",
         "type": "bar",
         "uid": "16dff4cb-d611-11e8-8ddb-a41f72875c19",
         "x": [
          "8月6周",
          "9月1周",
          "9月2周",
          "9月3周",
          "9月4周",
          "10月1周",
          "10月2周"
         ],
         "y": [
          1,
          null,
          null,
          1,
          null,
          null,
          2
         ]
        },
        {
         "name": "流水号(封彦杰)",
         "type": "bar",
         "uid": "16dff4cc-d611-11e8-8ddb-a41f72875c19",
         "x": [
          "8月6周",
          "9月1周",
          "9月2周",
          "9月3周",
          "9月4周",
          "10月1周",
          "10月2周"
         ],
         "y": [
          null,
          null,
          null,
          null,
          null,
          1,
          null
         ]
        },
        {
         "name": "流水号(车天栋)",
         "type": "bar",
         "uid": "16dff4cd-d611-11e8-8ddb-a41f72875c19",
         "x": [
          "8月6周",
          "9月1周",
          "9月2周",
          "9月3周",
          "9月4周",
          "10月1周",
          "10月2周"
         ],
         "y": [
          null,
          1,
          1,
          null,
          null,
          1,
          null
         ]
        },
        {
         "name": "流水号(赵倩)",
         "type": "bar",
         "uid": "16dff4ce-d611-11e8-8ddb-a41f72875c19",
         "x": [
          "8月6周",
          "9月1周",
          "9月2周",
          "9月3周",
          "9月4周",
          "10月1周",
          "10月2周"
         ],
         "y": [
          4,
          5,
          4,
          5,
          1,
          8,
          5
         ]
        },
        {
         "name": "流水号(沈恩惠)",
         "type": "bar",
         "uid": "16dff4cf-d611-11e8-8ddb-a41f72875c19",
         "x": [
          "8月6周",
          "9月1周",
          "9月2周",
          "9月3周",
          "9月4周",
          "10月1周",
          "10月2周"
         ],
         "y": [
          1,
          null,
          1,
          null,
          null,
          1,
          1
         ]
        },
        {
         "name": "流水号(解飞)",
         "type": "bar",
         "uid": "16dff4d0-d611-11e8-8ddb-a41f72875c19",
         "x": [
          "8月6周",
          "9月1周",
          "9月2周",
          "9月3周",
          "9月4周",
          "10月1周",
          "10月2周"
         ],
         "y": [
          null,
          null,
          null,
          null,
          1,
          2,
          3
         ]
        },
        {
         "name": "流水号(高剑)",
         "type": "bar",
         "uid": "16dff4d1-d611-11e8-8ddb-a41f72875c19",
         "x": [
          "8月6周",
          "9月1周",
          "9月2周",
          "9月3周",
          "9月4周",
          "10月1周",
          "10月2周"
         ],
         "y": [
          1,
          null,
          null,
          null,
          null,
          null,
          null
         ]
        },
        {
         "name": "流水号(杨伟飞)",
         "type": "bar",
         "uid": "16dff4d2-d611-11e8-8ddb-a41f72875c19",
         "x": [
          "8月6周",
          "9月1周",
          "9月2周",
          "9月3周",
          "9月4周",
          "10月1周",
          "10月2周"
         ],
         "y": [
          1,
          2,
          null,
          null,
          null,
          null,
          4
         ]
        },
        {
         "name": "流水号(刘江)",
         "type": "bar",
         "uid": "16dff4d3-d611-11e8-8ddb-a41f72875c19",
         "x": [
          "8月6周",
          "9月1周",
          "9月2周",
          "9月3周",
          "9月4周",
          "10月1周",
          "10月2周"
         ],
         "y": [
          1,
          2,
          null,
          null,
          null,
          1,
          2
         ]
        },
        {
         "name": "流水号(沟通)",
         "type": "bar",
         "uid": "16dff4d4-d611-11e8-8ddb-a41f72875c19",
         "x": [
          "8月6周",
          "9月1周",
          "9月2周",
          "9月3周",
          "9月4周",
          "10月1周",
          "10月2周"
         ],
         "y": [
          null,
          null,
          null,
          1,
          null,
          null,
          null
         ]
        },
        {
         "name": "流水号(于慧)",
         "type": "bar",
         "uid": "16dff4d5-d611-11e8-8ddb-a41f72875c19",
         "x": [
          "8月6周",
          "9月1周",
          "9月2周",
          "9月3周",
          "9月4周",
          "10月1周",
          "10月2周"
         ],
         "y": [
          null,
          1,
          1,
          null,
          null,
          2,
          1
         ]
        },
        {
         "name": "流水号(闻少楠)",
         "type": "bar",
         "uid": "16dff4d6-d611-11e8-8ddb-a41f72875c19",
         "x": [
          "8月6周",
          "9月1周",
          "9月2周",
          "9月3周",
          "9月4周",
          "10月1周",
          "10月2周"
         ],
         "y": [
          null,
          1,
          1,
          2,
          null,
          4,
          3
         ]
        },
        {
         "name": "流水号(沈立群)",
         "type": "bar",
         "uid": "16dff4d7-d611-11e8-8ddb-a41f72875c19",
         "x": [
          "8月6周",
          "9月1周",
          "9月2周",
          "9月3周",
          "9月4周",
          "10月1周",
          "10月2周"
         ],
         "y": [
          null,
          null,
          1,
          null,
          null,
          null,
          4
         ]
        },
        {
         "name": "流水号(刘梦苑)",
         "type": "bar",
         "uid": "16dff4d8-d611-11e8-8ddb-a41f72875c19",
         "x": [
          "8月6周",
          "9月1周",
          "9月2周",
          "9月3周",
          "9月4周",
          "10月1周",
          "10月2周"
         ],
         "y": [
          2,
          null,
          2,
          1,
          2,
          6,
          1
         ]
        },
        {
         "name": "流水号(李华云)",
         "type": "bar",
         "uid": "16dff4d9-d611-11e8-8ddb-a41f72875c19",
         "x": [
          "8月6周",
          "9月1周",
          "9月2周",
          "9月3周",
          "9月4周",
          "10月1周",
          "10月2周"
         ],
         "y": [
          null,
          null,
          1,
          1,
          null,
          null,
          null
         ]
        },
        {
         "name": "流水号(占伟)",
         "type": "bar",
         "uid": "16dff4da-d611-11e8-8ddb-a41f72875c19",
         "x": [
          "8月6周",
          "9月1周",
          "9月2周",
          "9月3周",
          "9月4周",
          "10月1周",
          "10月2周"
         ],
         "y": [
          null,
          2,
          null,
          null,
          null,
          3,
          1
         ]
        },
        {
         "name": "流水号(王传文)",
         "type": "bar",
         "uid": "16dff4db-d611-11e8-8ddb-a41f72875c19",
         "x": [
          "8月6周",
          "9月1周",
          "9月2周",
          "9月3周",
          "9月4周",
          "10月1周",
          "10月2周"
         ],
         "y": [
          null,
          null,
          null,
          1,
          null,
          2,
          3
         ]
        },
        {
         "name": "流水号(赵玥)",
         "type": "bar",
         "uid": "16dff4dc-d611-11e8-8ddb-a41f72875c19",
         "x": [
          "8月6周",
          "9月1周",
          "9月2周",
          "9月3周",
          "9月4周",
          "10月1周",
          "10月2周"
         ],
         "y": [
          null,
          null,
          1,
          null,
          null,
          null,
          1
         ]
        },
        {
         "name": "流水号(陈碧雯)",
         "type": "bar",
         "uid": "16dff4dd-d611-11e8-8ddb-a41f72875c19",
         "x": [
          "8月6周",
          "9月1周",
          "9月2周",
          "9月3周",
          "9月4周",
          "10月1周",
          "10月2周"
         ],
         "y": [
          2,
          3,
          2,
          2,
          null,
          1,
          3
         ]
        },
        {
         "name": "流水号(施毓芷)",
         "type": "bar",
         "uid": "16dff4de-d611-11e8-8ddb-a41f72875c19",
         "x": [
          "8月6周",
          "9月1周",
          "9月2周",
          "9月3周",
          "9月4周",
          "10月1周",
          "10月2周"
         ],
         "y": [
          null,
          null,
          null,
          null,
          null,
          null,
          1
         ]
        },
        {
         "name": "流水号(冷雪)",
         "type": "bar",
         "uid": "16dff4df-d611-11e8-8ddb-a41f72875c19",
         "x": [
          "8月6周",
          "9月1周",
          "9月2周",
          "9月3周",
          "9月4周",
          "10月1周",
          "10月2周"
         ],
         "y": [
          1,
          1,
          null,
          2,
          2,
          1,
          null
         ]
        },
        {
         "name": "流水号(靳甜甜)",
         "type": "bar",
         "uid": "16dff4e0-d611-11e8-8ddb-a41f72875c19",
         "x": [
          "8月6周",
          "9月1周",
          "9月2周",
          "9月3周",
          "9月4周",
          "10月1周",
          "10月2周"
         ],
         "y": [
          null,
          null,
          null,
          null,
          null,
          1,
          null
         ]
        },
        {
         "name": "流水号(马潇)",
         "type": "bar",
         "uid": "16dff4e1-d611-11e8-8ddb-a41f72875c19",
         "x": [
          "8月6周",
          "9月1周",
          "9月2周",
          "9月3周",
          "9月4周",
          "10月1周",
          "10月2周"
         ],
         "y": [
          1,
          3,
          null,
          2,
          1,
          null,
          1
         ]
        },
        {
         "name": "流水号(屈昂)",
         "type": "bar",
         "uid": "16dff4e2-d611-11e8-8ddb-a41f72875c19",
         "x": [
          "8月6周",
          "9月1周",
          "9月2周",
          "9月3周",
          "9月4周",
          "10月1周",
          "10月2周"
         ],
         "y": [
          1,
          null,
          1,
          1,
          null,
          null,
          1
         ]
        }
       ],
       "layout": {
        "barmode": "stack",
        "title": "流水号周趋势图",
        "xaxis": {
         "mirror": "all",
         "nticks": 20,
         "showgrid": true,
         "showline": true,
         "title": "周",
         "type": "category",
         "zeroline": true
        },
        "yaxis": {
         "mirror": "all",
         "nticks": 20,
         "showgrid": true,
         "showline": true,
         "title": "流水号",
         "zeroline": true
        }
       }
      },
      "text/html": [
       "<div id=\"38e6e69e-1cc5-4fdc-b156-875767a59a7f\" style=\"height: 525px; width: 100%;\" class=\"plotly-graph-div\"></div><script type=\"text/javascript\">require([\"plotly\"], function(Plotly) { window.PLOTLYENV=window.PLOTLYENV || {};window.PLOTLYENV.BASE_URL=\"https://plot.ly\";Plotly.newPlot(\"38e6e69e-1cc5-4fdc-b156-875767a59a7f\", [{\"name\": \"\\u6d41\\u6c34\\u53f7(\\u6731\\u6167\\u840d)\", \"x\": [\"8\\u67086\\u5468\", \"9\\u67081\\u5468\", \"9\\u67082\\u5468\", \"9\\u67083\\u5468\", \"9\\u67084\\u5468\", \"10\\u67081\\u5468\", \"10\\u67082\\u5468\"], \"y\": [4.0, 4.0, 3.0, 1.0, 1.0, 2.0, 5.0], \"type\": \"bar\", \"uid\": \"16dff4b9-d611-11e8-8ddb-a41f72875c19\"}, {\"name\": \"\\u6d41\\u6c34\\u53f7(\\u4f55\\u80dc)\", \"x\": [\"8\\u67086\\u5468\", \"9\\u67081\\u5468\", \"9\\u67082\\u5468\", \"9\\u67083\\u5468\", \"9\\u67084\\u5468\", \"10\\u67081\\u5468\", \"10\\u67082\\u5468\"], \"y\": [3.0, 2.0, 4.0, 3.0, null, 3.0, 2.0], \"type\": \"bar\", \"uid\": \"16dff4ba-d611-11e8-8ddb-a41f72875c19\"}, {\"name\": \"\\u6d41\\u6c34\\u53f7(\\u7ec8\\u6b62)\", \"x\": [\"8\\u67086\\u5468\", \"9\\u67081\\u5468\", \"9\\u67082\\u5468\", \"9\\u67083\\u5468\", \"9\\u67084\\u5468\", \"10\\u67081\\u5468\", \"10\\u67082\\u5468\"], \"y\": [null, null, null, 1.0, null, null, 2.0], \"type\": \"bar\", \"uid\": \"16dff4bb-d611-11e8-8ddb-a41f72875c19\"}, {\"name\": \"\\u6d41\\u6c34\\u53f7(\\u738b\\u971e)\", \"x\": [\"8\\u67086\\u5468\", \"9\\u67081\\u5468\", \"9\\u67082\\u5468\", \"9\\u67083\\u5468\", \"9\\u67084\\u5468\", \"10\\u67081\\u5468\", \"10\\u67082\\u5468\"], \"y\": [2.0, 2.0, 3.0, 2.0, null, 4.0, 2.0], \"type\": \"bar\", \"uid\": \"16dff4bc-d611-11e8-8ddb-a41f72875c19\"}, {\"name\": \"\\u6d41\\u6c34\\u53f7(\\u9648\\u9e4f\\u71d5)\", \"x\": [\"8\\u67086\\u5468\", \"9\\u67081\\u5468\", \"9\\u67082\\u5468\", \"9\\u67083\\u5468\", \"9\\u67084\\u5468\", \"10\\u67081\\u5468\", \"10\\u67082\\u5468\"], \"y\": [3.0, 3.0, 2.0, 3.0, null, null, null], \"type\": \"bar\", \"uid\": \"16dff4bd-d611-11e8-8ddb-a41f72875c19\"}, {\"name\": \"\\u6d41\\u6c34\\u53f7(\\u5f20\\u60a6)\", \"x\": [\"8\\u67086\\u5468\", \"9\\u67081\\u5468\", \"9\\u67082\\u5468\", \"9\\u67083\\u5468\", \"9\\u67084\\u5468\", \"10\\u67081\\u5468\", \"10\\u67082\\u5468\"], \"y\": [null, null, null, null, null, 1.0, null], \"type\": \"bar\", \"uid\": \"16dff4be-d611-11e8-8ddb-a41f72875c19\"}, {\"name\": \"\\u6d41\\u6c34\\u53f7(\\u51af\\u656c\\u5ca9)\", \"x\": [\"8\\u67086\\u5468\", \"9\\u67081\\u5468\", \"9\\u67082\\u5468\", \"9\\u67083\\u5468\", \"9\\u67084\\u5468\", \"10\\u67081\\u5468\", \"10\\u67082\\u5468\"], \"y\": [3.0, 3.0, 1.0, 3.0, 1.0, 4.0, 7.0], \"type\": \"bar\", \"uid\": \"16dff4bf-d611-11e8-8ddb-a41f72875c19\"}, {\"name\": \"\\u6d41\\u6c34\\u53f7(\\u97e9\\u5c11\\u6000)\", \"x\": [\"8\\u67086\\u5468\", \"9\\u67081\\u5468\", \"9\\u67082\\u5468\", \"9\\u67083\\u5468\", \"9\\u67084\\u5468\", \"10\\u67081\\u5468\", \"10\\u67082\\u5468\"], \"y\": [1.0, null, null, 3.0, null, 2.0, 3.0], \"type\": \"bar\", \"uid\": \"16dff4c0-d611-11e8-8ddb-a41f72875c19\"}, {\"name\": \"\\u6d41\\u6c34\\u53f7(\\u6797\\u6587\\u6587)\", \"x\": [\"8\\u67086\\u5468\", \"9\\u67081\\u5468\", \"9\\u67082\\u5468\", \"9\\u67083\\u5468\", \"9\\u67084\\u5468\", \"10\\u67081\\u5468\", \"10\\u67082\\u5468\"], \"y\": [null, 1.0, null, 3.0, null, null, null], \"type\": \"bar\", \"uid\": \"16dff4c1-d611-11e8-8ddb-a41f72875c19\"}, {\"name\": \"\\u6d41\\u6c34\\u53f7(\\u4e8e\\u52c7\\u4e00)\", \"x\": [\"8\\u67086\\u5468\", \"9\\u67081\\u5468\", \"9\\u67082\\u5468\", \"9\\u67083\\u5468\", \"9\\u67084\\u5468\", \"10\\u67081\\u5468\", \"10\\u67082\\u5468\"], \"y\": [null, null, 1.0, null, null, null, null], \"type\": \"bar\", \"uid\": \"16dff4c2-d611-11e8-8ddb-a41f72875c19\"}, {\"name\": \"\\u6d41\\u6c34\\u53f7(\\u4efb\\u96ea)\", \"x\": [\"8\\u67086\\u5468\", \"9\\u67081\\u5468\", \"9\\u67082\\u5468\", \"9\\u67083\\u5468\", \"9\\u67084\\u5468\", \"10\\u67081\\u5468\", \"10\\u67082\\u5468\"], \"y\": [null, null, null, null, null, null, 1.0], \"type\": \"bar\", \"uid\": \"16dff4c3-d611-11e8-8ddb-a41f72875c19\"}, {\"name\": \"\\u6d41\\u6c34\\u53f7(\\u6636\\u5409\\u9633)\", \"x\": [\"8\\u67086\\u5468\", \"9\\u67081\\u5468\", \"9\\u67082\\u5468\", \"9\\u67083\\u5468\", \"9\\u67084\\u5468\", \"10\\u67081\\u5468\", \"10\\u67082\\u5468\"], \"y\": [1.0, 1.0, 1.0, 3.0, 1.0, null, 1.0], \"type\": \"bar\", \"uid\": \"16dff4c4-d611-11e8-8ddb-a41f72875c19\"}, {\"name\": \"\\u6d41\\u6c34\\u53f7(\\u5b8b\\u5c11\\u5b87)\", \"x\": [\"8\\u67086\\u5468\", \"9\\u67081\\u5468\", \"9\\u67082\\u5468\", \"9\\u67083\\u5468\", \"9\\u67084\\u5468\", \"10\\u67081\\u5468\", \"10\\u67082\\u5468\"], \"y\": [1.0, null, null, null, null, 7.0, null], \"type\": \"bar\", \"uid\": \"16dff4c5-d611-11e8-8ddb-a41f72875c19\"}, {\"name\": \"\\u6d41\\u6c34\\u53f7(\\u59da\\u76df\\u6210)\", \"x\": [\"8\\u67086\\u5468\", \"9\\u67081\\u5468\", \"9\\u67082\\u5468\", \"9\\u67083\\u5468\", \"9\\u67084\\u5468\", \"10\\u67081\\u5468\", \"10\\u67082\\u5468\"], \"y\": [1.0, null, 1.0, null, null, null, 2.0], \"type\": \"bar\", \"uid\": \"16dff4c6-d611-11e8-8ddb-a41f72875c19\"}, {\"name\": \"\\u6d41\\u6c34\\u53f7(\\u6bb5\\u5229\\u5f3a)\", \"x\": [\"8\\u67086\\u5468\", \"9\\u67081\\u5468\", \"9\\u67082\\u5468\", \"9\\u67083\\u5468\", \"9\\u67084\\u5468\", \"10\\u67081\\u5468\", \"10\\u67082\\u5468\"], \"y\": [1.0, 1.0, 5.0, null, null, null, null], \"type\": \"bar\", \"uid\": \"16dff4c7-d611-11e8-8ddb-a41f72875c19\"}, {\"name\": \"\\u6d41\\u6c34\\u53f7(\\u8303\\u65ed\\u5b81)\", \"x\": [\"8\\u67086\\u5468\", \"9\\u67081\\u5468\", \"9\\u67082\\u5468\", \"9\\u67083\\u5468\", \"9\\u67084\\u5468\", \"10\\u67081\\u5468\", \"10\\u67082\\u5468\"], \"y\": [1.0, null, 2.0, 2.0, null, null, null], \"type\": \"bar\", \"uid\": \"16dff4c8-d611-11e8-8ddb-a41f72875c19\"}, {\"name\": \"\\u6d41\\u6c34\\u53f7(\\u6768\\u5b87)\", \"x\": [\"8\\u67086\\u5468\", \"9\\u67081\\u5468\", \"9\\u67082\\u5468\", \"9\\u67083\\u5468\", \"9\\u67084\\u5468\", \"10\\u67081\\u5468\", \"10\\u67082\\u5468\"], \"y\": [1.0, 4.0, 2.0, 3.0, 1.0, 3.0, 2.0], \"type\": \"bar\", \"uid\": \"16dff4c9-d611-11e8-8ddb-a41f72875c19\"}, {\"name\": \"\\u6d41\\u6c34\\u53f7(\\u9a73\\u56de)\", \"x\": [\"8\\u67086\\u5468\", \"9\\u67081\\u5468\", \"9\\u67082\\u5468\", \"9\\u67083\\u5468\", \"9\\u67084\\u5468\", \"10\\u67081\\u5468\", \"10\\u67082\\u5468\"], \"y\": [3.0, 3.0, 3.0, 3.0, 1.0, 4.0, 9.0], \"type\": \"bar\", \"uid\": \"16dff4ca-d611-11e8-8ddb-a41f72875c19\"}, {\"name\": \"\\u6d41\\u6c34\\u53f7(\\u5218\\u6c38\\u5f3a)\", \"x\": [\"8\\u67086\\u5468\", \"9\\u67081\\u5468\", \"9\\u67082\\u5468\", \"9\\u67083\\u5468\", \"9\\u67084\\u5468\", \"10\\u67081\\u5468\", \"10\\u67082\\u5468\"], \"y\": [1.0, null, null, 1.0, null, null, 2.0], \"type\": \"bar\", \"uid\": \"16dff4cb-d611-11e8-8ddb-a41f72875c19\"}, {\"name\": \"\\u6d41\\u6c34\\u53f7(\\u5c01\\u5f66\\u6770)\", \"x\": [\"8\\u67086\\u5468\", \"9\\u67081\\u5468\", \"9\\u67082\\u5468\", \"9\\u67083\\u5468\", \"9\\u67084\\u5468\", \"10\\u67081\\u5468\", \"10\\u67082\\u5468\"], \"y\": [null, null, null, null, null, 1.0, null], \"type\": \"bar\", \"uid\": \"16dff4cc-d611-11e8-8ddb-a41f72875c19\"}, {\"name\": \"\\u6d41\\u6c34\\u53f7(\\u8f66\\u5929\\u680b)\", \"x\": [\"8\\u67086\\u5468\", \"9\\u67081\\u5468\", \"9\\u67082\\u5468\", \"9\\u67083\\u5468\", \"9\\u67084\\u5468\", \"10\\u67081\\u5468\", \"10\\u67082\\u5468\"], \"y\": [null, 1.0, 1.0, null, null, 1.0, null], \"type\": \"bar\", \"uid\": \"16dff4cd-d611-11e8-8ddb-a41f72875c19\"}, {\"name\": \"\\u6d41\\u6c34\\u53f7(\\u8d75\\u5029)\", \"x\": [\"8\\u67086\\u5468\", \"9\\u67081\\u5468\", \"9\\u67082\\u5468\", \"9\\u67083\\u5468\", \"9\\u67084\\u5468\", \"10\\u67081\\u5468\", \"10\\u67082\\u5468\"], \"y\": [4.0, 5.0, 4.0, 5.0, 1.0, 8.0, 5.0], \"type\": \"bar\", \"uid\": \"16dff4ce-d611-11e8-8ddb-a41f72875c19\"}, {\"name\": \"\\u6d41\\u6c34\\u53f7(\\u6c88\\u6069\\u60e0)\", \"x\": [\"8\\u67086\\u5468\", \"9\\u67081\\u5468\", \"9\\u67082\\u5468\", \"9\\u67083\\u5468\", \"9\\u67084\\u5468\", \"10\\u67081\\u5468\", \"10\\u67082\\u5468\"], \"y\": [1.0, null, 1.0, null, null, 1.0, 1.0], \"type\": \"bar\", \"uid\": \"16dff4cf-d611-11e8-8ddb-a41f72875c19\"}, {\"name\": \"\\u6d41\\u6c34\\u53f7(\\u89e3\\u98de)\", \"x\": [\"8\\u67086\\u5468\", \"9\\u67081\\u5468\", \"9\\u67082\\u5468\", \"9\\u67083\\u5468\", \"9\\u67084\\u5468\", \"10\\u67081\\u5468\", \"10\\u67082\\u5468\"], \"y\": [null, null, null, null, 1.0, 2.0, 3.0], \"type\": \"bar\", \"uid\": \"16dff4d0-d611-11e8-8ddb-a41f72875c19\"}, {\"name\": \"\\u6d41\\u6c34\\u53f7(\\u9ad8\\u5251)\", \"x\": [\"8\\u67086\\u5468\", \"9\\u67081\\u5468\", \"9\\u67082\\u5468\", \"9\\u67083\\u5468\", \"9\\u67084\\u5468\", \"10\\u67081\\u5468\", \"10\\u67082\\u5468\"], \"y\": [1.0, null, null, null, null, null, null], \"type\": \"bar\", \"uid\": \"16dff4d1-d611-11e8-8ddb-a41f72875c19\"}, {\"name\": \"\\u6d41\\u6c34\\u53f7(\\u6768\\u4f1f\\u98de)\", \"x\": [\"8\\u67086\\u5468\", \"9\\u67081\\u5468\", \"9\\u67082\\u5468\", \"9\\u67083\\u5468\", \"9\\u67084\\u5468\", \"10\\u67081\\u5468\", \"10\\u67082\\u5468\"], \"y\": [1.0, 2.0, null, null, null, null, 4.0], \"type\": \"bar\", \"uid\": \"16dff4d2-d611-11e8-8ddb-a41f72875c19\"}, {\"name\": \"\\u6d41\\u6c34\\u53f7(\\u5218\\u6c5f)\", \"x\": [\"8\\u67086\\u5468\", \"9\\u67081\\u5468\", \"9\\u67082\\u5468\", \"9\\u67083\\u5468\", \"9\\u67084\\u5468\", \"10\\u67081\\u5468\", \"10\\u67082\\u5468\"], \"y\": [1.0, 2.0, null, null, null, 1.0, 2.0], \"type\": \"bar\", \"uid\": \"16dff4d3-d611-11e8-8ddb-a41f72875c19\"}, {\"name\": \"\\u6d41\\u6c34\\u53f7(\\u6c9f\\u901a)\", \"x\": [\"8\\u67086\\u5468\", \"9\\u67081\\u5468\", \"9\\u67082\\u5468\", \"9\\u67083\\u5468\", \"9\\u67084\\u5468\", \"10\\u67081\\u5468\", \"10\\u67082\\u5468\"], \"y\": [null, null, null, 1.0, null, null, null], \"type\": \"bar\", \"uid\": \"16dff4d4-d611-11e8-8ddb-a41f72875c19\"}, {\"name\": \"\\u6d41\\u6c34\\u53f7(\\u4e8e\\u6167)\", \"x\": [\"8\\u67086\\u5468\", \"9\\u67081\\u5468\", \"9\\u67082\\u5468\", \"9\\u67083\\u5468\", \"9\\u67084\\u5468\", \"10\\u67081\\u5468\", \"10\\u67082\\u5468\"], \"y\": [null, 1.0, 1.0, null, null, 2.0, 1.0], \"type\": \"bar\", \"uid\": \"16dff4d5-d611-11e8-8ddb-a41f72875c19\"}, {\"name\": \"\\u6d41\\u6c34\\u53f7(\\u95fb\\u5c11\\u6960)\", \"x\": [\"8\\u67086\\u5468\", \"9\\u67081\\u5468\", \"9\\u67082\\u5468\", \"9\\u67083\\u5468\", \"9\\u67084\\u5468\", \"10\\u67081\\u5468\", \"10\\u67082\\u5468\"], \"y\": [null, 1.0, 1.0, 2.0, null, 4.0, 3.0], \"type\": \"bar\", \"uid\": \"16dff4d6-d611-11e8-8ddb-a41f72875c19\"}, {\"name\": \"\\u6d41\\u6c34\\u53f7(\\u6c88\\u7acb\\u7fa4)\", \"x\": [\"8\\u67086\\u5468\", \"9\\u67081\\u5468\", \"9\\u67082\\u5468\", \"9\\u67083\\u5468\", \"9\\u67084\\u5468\", \"10\\u67081\\u5468\", \"10\\u67082\\u5468\"], \"y\": [null, null, 1.0, null, null, null, 4.0], \"type\": \"bar\", \"uid\": \"16dff4d7-d611-11e8-8ddb-a41f72875c19\"}, {\"name\": \"\\u6d41\\u6c34\\u53f7(\\u5218\\u68a6\\u82d1)\", \"x\": [\"8\\u67086\\u5468\", \"9\\u67081\\u5468\", \"9\\u67082\\u5468\", \"9\\u67083\\u5468\", \"9\\u67084\\u5468\", \"10\\u67081\\u5468\", \"10\\u67082\\u5468\"], \"y\": [2.0, null, 2.0, 1.0, 2.0, 6.0, 1.0], \"type\": \"bar\", \"uid\": \"16dff4d8-d611-11e8-8ddb-a41f72875c19\"}, {\"name\": \"\\u6d41\\u6c34\\u53f7(\\u674e\\u534e\\u4e91)\", \"x\": [\"8\\u67086\\u5468\", \"9\\u67081\\u5468\", \"9\\u67082\\u5468\", \"9\\u67083\\u5468\", \"9\\u67084\\u5468\", \"10\\u67081\\u5468\", \"10\\u67082\\u5468\"], \"y\": [null, null, 1.0, 1.0, null, null, null], \"type\": \"bar\", \"uid\": \"16dff4d9-d611-11e8-8ddb-a41f72875c19\"}, {\"name\": \"\\u6d41\\u6c34\\u53f7(\\u5360\\u4f1f)\", \"x\": [\"8\\u67086\\u5468\", \"9\\u67081\\u5468\", \"9\\u67082\\u5468\", \"9\\u67083\\u5468\", \"9\\u67084\\u5468\", \"10\\u67081\\u5468\", \"10\\u67082\\u5468\"], \"y\": [null, 2.0, null, null, null, 3.0, 1.0], \"type\": \"bar\", \"uid\": \"16dff4da-d611-11e8-8ddb-a41f72875c19\"}, {\"name\": \"\\u6d41\\u6c34\\u53f7(\\u738b\\u4f20\\u6587)\", \"x\": [\"8\\u67086\\u5468\", \"9\\u67081\\u5468\", \"9\\u67082\\u5468\", \"9\\u67083\\u5468\", \"9\\u67084\\u5468\", \"10\\u67081\\u5468\", \"10\\u67082\\u5468\"], \"y\": [null, null, null, 1.0, null, 2.0, 3.0], \"type\": \"bar\", \"uid\": \"16dff4db-d611-11e8-8ddb-a41f72875c19\"}, {\"name\": \"\\u6d41\\u6c34\\u53f7(\\u8d75\\u73a5)\", \"x\": [\"8\\u67086\\u5468\", \"9\\u67081\\u5468\", \"9\\u67082\\u5468\", \"9\\u67083\\u5468\", \"9\\u67084\\u5468\", \"10\\u67081\\u5468\", \"10\\u67082\\u5468\"], \"y\": [null, null, 1.0, null, null, null, 1.0], \"type\": \"bar\", \"uid\": \"16dff4dc-d611-11e8-8ddb-a41f72875c19\"}, {\"name\": \"\\u6d41\\u6c34\\u53f7(\\u9648\\u78a7\\u96ef)\", \"x\": [\"8\\u67086\\u5468\", \"9\\u67081\\u5468\", \"9\\u67082\\u5468\", \"9\\u67083\\u5468\", \"9\\u67084\\u5468\", \"10\\u67081\\u5468\", \"10\\u67082\\u5468\"], \"y\": [2.0, 3.0, 2.0, 2.0, null, 1.0, 3.0], \"type\": \"bar\", \"uid\": \"16dff4dd-d611-11e8-8ddb-a41f72875c19\"}, {\"name\": \"\\u6d41\\u6c34\\u53f7(\\u65bd\\u6bd3\\u82b7)\", \"x\": [\"8\\u67086\\u5468\", \"9\\u67081\\u5468\", \"9\\u67082\\u5468\", \"9\\u67083\\u5468\", \"9\\u67084\\u5468\", \"10\\u67081\\u5468\", \"10\\u67082\\u5468\"], \"y\": [null, null, null, null, null, null, 1.0], \"type\": \"bar\", \"uid\": \"16dff4de-d611-11e8-8ddb-a41f72875c19\"}, {\"name\": \"\\u6d41\\u6c34\\u53f7(\\u51b7\\u96ea)\", \"x\": [\"8\\u67086\\u5468\", \"9\\u67081\\u5468\", \"9\\u67082\\u5468\", \"9\\u67083\\u5468\", \"9\\u67084\\u5468\", \"10\\u67081\\u5468\", \"10\\u67082\\u5468\"], \"y\": [1.0, 1.0, null, 2.0, 2.0, 1.0, null], \"type\": \"bar\", \"uid\": \"16dff4df-d611-11e8-8ddb-a41f72875c19\"}, {\"name\": \"\\u6d41\\u6c34\\u53f7(\\u9773\\u751c\\u751c)\", \"x\": [\"8\\u67086\\u5468\", \"9\\u67081\\u5468\", \"9\\u67082\\u5468\", \"9\\u67083\\u5468\", \"9\\u67084\\u5468\", \"10\\u67081\\u5468\", \"10\\u67082\\u5468\"], \"y\": [null, null, null, null, null, 1.0, null], \"type\": \"bar\", \"uid\": \"16dff4e0-d611-11e8-8ddb-a41f72875c19\"}, {\"name\": \"\\u6d41\\u6c34\\u53f7(\\u9a6c\\u6f47)\", \"x\": [\"8\\u67086\\u5468\", \"9\\u67081\\u5468\", \"9\\u67082\\u5468\", \"9\\u67083\\u5468\", \"9\\u67084\\u5468\", \"10\\u67081\\u5468\", \"10\\u67082\\u5468\"], \"y\": [1.0, 3.0, null, 2.0, 1.0, null, 1.0], \"type\": \"bar\", \"uid\": \"16dff4e1-d611-11e8-8ddb-a41f72875c19\"}, {\"name\": \"\\u6d41\\u6c34\\u53f7(\\u5c48\\u6602)\", \"x\": [\"8\\u67086\\u5468\", \"9\\u67081\\u5468\", \"9\\u67082\\u5468\", \"9\\u67083\\u5468\", \"9\\u67084\\u5468\", \"10\\u67081\\u5468\", \"10\\u67082\\u5468\"], \"y\": [1.0, null, 1.0, 1.0, null, null, 1.0], \"type\": \"bar\", \"uid\": \"16dff4e2-d611-11e8-8ddb-a41f72875c19\"}], {\"barmode\": \"stack\", \"title\": \"\\u6d41\\u6c34\\u53f7\\u5468\\u8d8b\\u52bf\\u56fe\", \"xaxis\": {\"mirror\": \"all\", \"nticks\": 20, \"showgrid\": true, \"showline\": true, \"title\": \"\\u5468\", \"type\": \"category\", \"zeroline\": true}, \"yaxis\": {\"mirror\": \"all\", \"nticks\": 20, \"showgrid\": true, \"showline\": true, \"title\": \"\\u6d41\\u6c34\\u53f7\", \"zeroline\": true}}, {\"showLink\": true, \"linkText\": \"Export to plot.ly\"})});</script>"
      ],
      "text/vnd.plotly.v1+html": [
       "<div id=\"38e6e69e-1cc5-4fdc-b156-875767a59a7f\" style=\"height: 525px; width: 100%;\" class=\"plotly-graph-div\"></div><script type=\"text/javascript\">require([\"plotly\"], function(Plotly) { window.PLOTLYENV=window.PLOTLYENV || {};window.PLOTLYENV.BASE_URL=\"https://plot.ly\";Plotly.newPlot(\"38e6e69e-1cc5-4fdc-b156-875767a59a7f\", [{\"name\": \"\\u6d41\\u6c34\\u53f7(\\u6731\\u6167\\u840d)\", \"x\": [\"8\\u67086\\u5468\", \"9\\u67081\\u5468\", \"9\\u67082\\u5468\", \"9\\u67083\\u5468\", \"9\\u67084\\u5468\", \"10\\u67081\\u5468\", \"10\\u67082\\u5468\"], \"y\": [4.0, 4.0, 3.0, 1.0, 1.0, 2.0, 5.0], \"type\": \"bar\", \"uid\": \"16dff4b9-d611-11e8-8ddb-a41f72875c19\"}, {\"name\": \"\\u6d41\\u6c34\\u53f7(\\u4f55\\u80dc)\", \"x\": [\"8\\u67086\\u5468\", \"9\\u67081\\u5468\", \"9\\u67082\\u5468\", \"9\\u67083\\u5468\", \"9\\u67084\\u5468\", \"10\\u67081\\u5468\", \"10\\u67082\\u5468\"], \"y\": [3.0, 2.0, 4.0, 3.0, null, 3.0, 2.0], \"type\": \"bar\", \"uid\": \"16dff4ba-d611-11e8-8ddb-a41f72875c19\"}, {\"name\": \"\\u6d41\\u6c34\\u53f7(\\u7ec8\\u6b62)\", \"x\": [\"8\\u67086\\u5468\", \"9\\u67081\\u5468\", \"9\\u67082\\u5468\", \"9\\u67083\\u5468\", \"9\\u67084\\u5468\", \"10\\u67081\\u5468\", \"10\\u67082\\u5468\"], \"y\": [null, null, null, 1.0, null, null, 2.0], \"type\": \"bar\", \"uid\": \"16dff4bb-d611-11e8-8ddb-a41f72875c19\"}, {\"name\": \"\\u6d41\\u6c34\\u53f7(\\u738b\\u971e)\", \"x\": [\"8\\u67086\\u5468\", \"9\\u67081\\u5468\", \"9\\u67082\\u5468\", \"9\\u67083\\u5468\", \"9\\u67084\\u5468\", \"10\\u67081\\u5468\", \"10\\u67082\\u5468\"], \"y\": [2.0, 2.0, 3.0, 2.0, null, 4.0, 2.0], \"type\": \"bar\", \"uid\": \"16dff4bc-d611-11e8-8ddb-a41f72875c19\"}, {\"name\": \"\\u6d41\\u6c34\\u53f7(\\u9648\\u9e4f\\u71d5)\", \"x\": [\"8\\u67086\\u5468\", \"9\\u67081\\u5468\", \"9\\u67082\\u5468\", \"9\\u67083\\u5468\", \"9\\u67084\\u5468\", \"10\\u67081\\u5468\", \"10\\u67082\\u5468\"], \"y\": [3.0, 3.0, 2.0, 3.0, null, null, null], \"type\": \"bar\", \"uid\": \"16dff4bd-d611-11e8-8ddb-a41f72875c19\"}, {\"name\": \"\\u6d41\\u6c34\\u53f7(\\u5f20\\u60a6)\", \"x\": [\"8\\u67086\\u5468\", \"9\\u67081\\u5468\", \"9\\u67082\\u5468\", \"9\\u67083\\u5468\", \"9\\u67084\\u5468\", \"10\\u67081\\u5468\", \"10\\u67082\\u5468\"], \"y\": [null, null, null, null, null, 1.0, null], \"type\": \"bar\", \"uid\": \"16dff4be-d611-11e8-8ddb-a41f72875c19\"}, {\"name\": \"\\u6d41\\u6c34\\u53f7(\\u51af\\u656c\\u5ca9)\", \"x\": [\"8\\u67086\\u5468\", \"9\\u67081\\u5468\", \"9\\u67082\\u5468\", \"9\\u67083\\u5468\", \"9\\u67084\\u5468\", \"10\\u67081\\u5468\", \"10\\u67082\\u5468\"], \"y\": [3.0, 3.0, 1.0, 3.0, 1.0, 4.0, 7.0], \"type\": \"bar\", \"uid\": \"16dff4bf-d611-11e8-8ddb-a41f72875c19\"}, {\"name\": \"\\u6d41\\u6c34\\u53f7(\\u97e9\\u5c11\\u6000)\", \"x\": [\"8\\u67086\\u5468\", \"9\\u67081\\u5468\", \"9\\u67082\\u5468\", \"9\\u67083\\u5468\", \"9\\u67084\\u5468\", \"10\\u67081\\u5468\", \"10\\u67082\\u5468\"], \"y\": [1.0, null, null, 3.0, null, 2.0, 3.0], \"type\": \"bar\", \"uid\": \"16dff4c0-d611-11e8-8ddb-a41f72875c19\"}, {\"name\": \"\\u6d41\\u6c34\\u53f7(\\u6797\\u6587\\u6587)\", \"x\": [\"8\\u67086\\u5468\", \"9\\u67081\\u5468\", \"9\\u67082\\u5468\", \"9\\u67083\\u5468\", \"9\\u67084\\u5468\", \"10\\u67081\\u5468\", \"10\\u67082\\u5468\"], \"y\": [null, 1.0, null, 3.0, null, null, null], \"type\": \"bar\", \"uid\": \"16dff4c1-d611-11e8-8ddb-a41f72875c19\"}, {\"name\": \"\\u6d41\\u6c34\\u53f7(\\u4e8e\\u52c7\\u4e00)\", \"x\": [\"8\\u67086\\u5468\", \"9\\u67081\\u5468\", \"9\\u67082\\u5468\", \"9\\u67083\\u5468\", \"9\\u67084\\u5468\", \"10\\u67081\\u5468\", \"10\\u67082\\u5468\"], \"y\": [null, null, 1.0, null, null, null, null], \"type\": \"bar\", \"uid\": \"16dff4c2-d611-11e8-8ddb-a41f72875c19\"}, {\"name\": \"\\u6d41\\u6c34\\u53f7(\\u4efb\\u96ea)\", \"x\": [\"8\\u67086\\u5468\", \"9\\u67081\\u5468\", \"9\\u67082\\u5468\", \"9\\u67083\\u5468\", \"9\\u67084\\u5468\", \"10\\u67081\\u5468\", \"10\\u67082\\u5468\"], \"y\": [null, null, null, null, null, null, 1.0], \"type\": \"bar\", \"uid\": \"16dff4c3-d611-11e8-8ddb-a41f72875c19\"}, {\"name\": \"\\u6d41\\u6c34\\u53f7(\\u6636\\u5409\\u9633)\", \"x\": [\"8\\u67086\\u5468\", \"9\\u67081\\u5468\", \"9\\u67082\\u5468\", \"9\\u67083\\u5468\", \"9\\u67084\\u5468\", \"10\\u67081\\u5468\", \"10\\u67082\\u5468\"], \"y\": [1.0, 1.0, 1.0, 3.0, 1.0, null, 1.0], \"type\": \"bar\", \"uid\": \"16dff4c4-d611-11e8-8ddb-a41f72875c19\"}, {\"name\": \"\\u6d41\\u6c34\\u53f7(\\u5b8b\\u5c11\\u5b87)\", \"x\": [\"8\\u67086\\u5468\", \"9\\u67081\\u5468\", \"9\\u67082\\u5468\", \"9\\u67083\\u5468\", \"9\\u67084\\u5468\", \"10\\u67081\\u5468\", \"10\\u67082\\u5468\"], \"y\": [1.0, null, null, null, null, 7.0, null], \"type\": \"bar\", \"uid\": \"16dff4c5-d611-11e8-8ddb-a41f72875c19\"}, {\"name\": \"\\u6d41\\u6c34\\u53f7(\\u59da\\u76df\\u6210)\", \"x\": [\"8\\u67086\\u5468\", \"9\\u67081\\u5468\", \"9\\u67082\\u5468\", \"9\\u67083\\u5468\", \"9\\u67084\\u5468\", \"10\\u67081\\u5468\", \"10\\u67082\\u5468\"], \"y\": [1.0, null, 1.0, null, null, null, 2.0], \"type\": \"bar\", \"uid\": \"16dff4c6-d611-11e8-8ddb-a41f72875c19\"}, {\"name\": \"\\u6d41\\u6c34\\u53f7(\\u6bb5\\u5229\\u5f3a)\", \"x\": [\"8\\u67086\\u5468\", \"9\\u67081\\u5468\", \"9\\u67082\\u5468\", \"9\\u67083\\u5468\", \"9\\u67084\\u5468\", \"10\\u67081\\u5468\", \"10\\u67082\\u5468\"], \"y\": [1.0, 1.0, 5.0, null, null, null, null], \"type\": \"bar\", \"uid\": \"16dff4c7-d611-11e8-8ddb-a41f72875c19\"}, {\"name\": \"\\u6d41\\u6c34\\u53f7(\\u8303\\u65ed\\u5b81)\", \"x\": [\"8\\u67086\\u5468\", \"9\\u67081\\u5468\", \"9\\u67082\\u5468\", \"9\\u67083\\u5468\", \"9\\u67084\\u5468\", \"10\\u67081\\u5468\", \"10\\u67082\\u5468\"], \"y\": [1.0, null, 2.0, 2.0, null, null, null], \"type\": \"bar\", \"uid\": \"16dff4c8-d611-11e8-8ddb-a41f72875c19\"}, {\"name\": \"\\u6d41\\u6c34\\u53f7(\\u6768\\u5b87)\", \"x\": [\"8\\u67086\\u5468\", \"9\\u67081\\u5468\", \"9\\u67082\\u5468\", \"9\\u67083\\u5468\", \"9\\u67084\\u5468\", \"10\\u67081\\u5468\", \"10\\u67082\\u5468\"], \"y\": [1.0, 4.0, 2.0, 3.0, 1.0, 3.0, 2.0], \"type\": \"bar\", \"uid\": \"16dff4c9-d611-11e8-8ddb-a41f72875c19\"}, {\"name\": \"\\u6d41\\u6c34\\u53f7(\\u9a73\\u56de)\", \"x\": [\"8\\u67086\\u5468\", \"9\\u67081\\u5468\", \"9\\u67082\\u5468\", \"9\\u67083\\u5468\", \"9\\u67084\\u5468\", \"10\\u67081\\u5468\", \"10\\u67082\\u5468\"], \"y\": [3.0, 3.0, 3.0, 3.0, 1.0, 4.0, 9.0], \"type\": \"bar\", \"uid\": \"16dff4ca-d611-11e8-8ddb-a41f72875c19\"}, {\"name\": \"\\u6d41\\u6c34\\u53f7(\\u5218\\u6c38\\u5f3a)\", \"x\": [\"8\\u67086\\u5468\", \"9\\u67081\\u5468\", \"9\\u67082\\u5468\", \"9\\u67083\\u5468\", \"9\\u67084\\u5468\", \"10\\u67081\\u5468\", \"10\\u67082\\u5468\"], \"y\": [1.0, null, null, 1.0, null, null, 2.0], \"type\": \"bar\", \"uid\": \"16dff4cb-d611-11e8-8ddb-a41f72875c19\"}, {\"name\": \"\\u6d41\\u6c34\\u53f7(\\u5c01\\u5f66\\u6770)\", \"x\": [\"8\\u67086\\u5468\", \"9\\u67081\\u5468\", \"9\\u67082\\u5468\", \"9\\u67083\\u5468\", \"9\\u67084\\u5468\", \"10\\u67081\\u5468\", \"10\\u67082\\u5468\"], \"y\": [null, null, null, null, null, 1.0, null], \"type\": \"bar\", \"uid\": \"16dff4cc-d611-11e8-8ddb-a41f72875c19\"}, {\"name\": \"\\u6d41\\u6c34\\u53f7(\\u8f66\\u5929\\u680b)\", \"x\": [\"8\\u67086\\u5468\", \"9\\u67081\\u5468\", \"9\\u67082\\u5468\", \"9\\u67083\\u5468\", \"9\\u67084\\u5468\", \"10\\u67081\\u5468\", \"10\\u67082\\u5468\"], \"y\": [null, 1.0, 1.0, null, null, 1.0, null], \"type\": \"bar\", \"uid\": \"16dff4cd-d611-11e8-8ddb-a41f72875c19\"}, {\"name\": \"\\u6d41\\u6c34\\u53f7(\\u8d75\\u5029)\", \"x\": [\"8\\u67086\\u5468\", \"9\\u67081\\u5468\", \"9\\u67082\\u5468\", \"9\\u67083\\u5468\", \"9\\u67084\\u5468\", \"10\\u67081\\u5468\", \"10\\u67082\\u5468\"], \"y\": [4.0, 5.0, 4.0, 5.0, 1.0, 8.0, 5.0], \"type\": \"bar\", \"uid\": \"16dff4ce-d611-11e8-8ddb-a41f72875c19\"}, {\"name\": \"\\u6d41\\u6c34\\u53f7(\\u6c88\\u6069\\u60e0)\", \"x\": [\"8\\u67086\\u5468\", \"9\\u67081\\u5468\", \"9\\u67082\\u5468\", \"9\\u67083\\u5468\", \"9\\u67084\\u5468\", \"10\\u67081\\u5468\", \"10\\u67082\\u5468\"], \"y\": [1.0, null, 1.0, null, null, 1.0, 1.0], \"type\": \"bar\", \"uid\": \"16dff4cf-d611-11e8-8ddb-a41f72875c19\"}, {\"name\": \"\\u6d41\\u6c34\\u53f7(\\u89e3\\u98de)\", \"x\": [\"8\\u67086\\u5468\", \"9\\u67081\\u5468\", \"9\\u67082\\u5468\", \"9\\u67083\\u5468\", \"9\\u67084\\u5468\", \"10\\u67081\\u5468\", \"10\\u67082\\u5468\"], \"y\": [null, null, null, null, 1.0, 2.0, 3.0], \"type\": \"bar\", \"uid\": \"16dff4d0-d611-11e8-8ddb-a41f72875c19\"}, {\"name\": \"\\u6d41\\u6c34\\u53f7(\\u9ad8\\u5251)\", \"x\": [\"8\\u67086\\u5468\", \"9\\u67081\\u5468\", \"9\\u67082\\u5468\", \"9\\u67083\\u5468\", \"9\\u67084\\u5468\", \"10\\u67081\\u5468\", \"10\\u67082\\u5468\"], \"y\": [1.0, null, null, null, null, null, null], \"type\": \"bar\", \"uid\": \"16dff4d1-d611-11e8-8ddb-a41f72875c19\"}, {\"name\": \"\\u6d41\\u6c34\\u53f7(\\u6768\\u4f1f\\u98de)\", \"x\": [\"8\\u67086\\u5468\", \"9\\u67081\\u5468\", \"9\\u67082\\u5468\", \"9\\u67083\\u5468\", \"9\\u67084\\u5468\", \"10\\u67081\\u5468\", \"10\\u67082\\u5468\"], \"y\": [1.0, 2.0, null, null, null, null, 4.0], \"type\": \"bar\", \"uid\": \"16dff4d2-d611-11e8-8ddb-a41f72875c19\"}, {\"name\": \"\\u6d41\\u6c34\\u53f7(\\u5218\\u6c5f)\", \"x\": [\"8\\u67086\\u5468\", \"9\\u67081\\u5468\", \"9\\u67082\\u5468\", \"9\\u67083\\u5468\", \"9\\u67084\\u5468\", \"10\\u67081\\u5468\", \"10\\u67082\\u5468\"], \"y\": [1.0, 2.0, null, null, null, 1.0, 2.0], \"type\": \"bar\", \"uid\": \"16dff4d3-d611-11e8-8ddb-a41f72875c19\"}, {\"name\": \"\\u6d41\\u6c34\\u53f7(\\u6c9f\\u901a)\", \"x\": [\"8\\u67086\\u5468\", \"9\\u67081\\u5468\", \"9\\u67082\\u5468\", \"9\\u67083\\u5468\", \"9\\u67084\\u5468\", \"10\\u67081\\u5468\", \"10\\u67082\\u5468\"], \"y\": [null, null, null, 1.0, null, null, null], \"type\": \"bar\", \"uid\": \"16dff4d4-d611-11e8-8ddb-a41f72875c19\"}, {\"name\": \"\\u6d41\\u6c34\\u53f7(\\u4e8e\\u6167)\", \"x\": [\"8\\u67086\\u5468\", \"9\\u67081\\u5468\", \"9\\u67082\\u5468\", \"9\\u67083\\u5468\", \"9\\u67084\\u5468\", \"10\\u67081\\u5468\", \"10\\u67082\\u5468\"], \"y\": [null, 1.0, 1.0, null, null, 2.0, 1.0], \"type\": \"bar\", \"uid\": \"16dff4d5-d611-11e8-8ddb-a41f72875c19\"}, {\"name\": \"\\u6d41\\u6c34\\u53f7(\\u95fb\\u5c11\\u6960)\", \"x\": [\"8\\u67086\\u5468\", \"9\\u67081\\u5468\", \"9\\u67082\\u5468\", \"9\\u67083\\u5468\", \"9\\u67084\\u5468\", \"10\\u67081\\u5468\", \"10\\u67082\\u5468\"], \"y\": [null, 1.0, 1.0, 2.0, null, 4.0, 3.0], \"type\": \"bar\", \"uid\": \"16dff4d6-d611-11e8-8ddb-a41f72875c19\"}, {\"name\": \"\\u6d41\\u6c34\\u53f7(\\u6c88\\u7acb\\u7fa4)\", \"x\": [\"8\\u67086\\u5468\", \"9\\u67081\\u5468\", \"9\\u67082\\u5468\", \"9\\u67083\\u5468\", \"9\\u67084\\u5468\", \"10\\u67081\\u5468\", \"10\\u67082\\u5468\"], \"y\": [null, null, 1.0, null, null, null, 4.0], \"type\": \"bar\", \"uid\": \"16dff4d7-d611-11e8-8ddb-a41f72875c19\"}, {\"name\": \"\\u6d41\\u6c34\\u53f7(\\u5218\\u68a6\\u82d1)\", \"x\": [\"8\\u67086\\u5468\", \"9\\u67081\\u5468\", \"9\\u67082\\u5468\", \"9\\u67083\\u5468\", \"9\\u67084\\u5468\", \"10\\u67081\\u5468\", \"10\\u67082\\u5468\"], \"y\": [2.0, null, 2.0, 1.0, 2.0, 6.0, 1.0], \"type\": \"bar\", \"uid\": \"16dff4d8-d611-11e8-8ddb-a41f72875c19\"}, {\"name\": \"\\u6d41\\u6c34\\u53f7(\\u674e\\u534e\\u4e91)\", \"x\": [\"8\\u67086\\u5468\", \"9\\u67081\\u5468\", \"9\\u67082\\u5468\", \"9\\u67083\\u5468\", \"9\\u67084\\u5468\", \"10\\u67081\\u5468\", \"10\\u67082\\u5468\"], \"y\": [null, null, 1.0, 1.0, null, null, null], \"type\": \"bar\", \"uid\": \"16dff4d9-d611-11e8-8ddb-a41f72875c19\"}, {\"name\": \"\\u6d41\\u6c34\\u53f7(\\u5360\\u4f1f)\", \"x\": [\"8\\u67086\\u5468\", \"9\\u67081\\u5468\", \"9\\u67082\\u5468\", \"9\\u67083\\u5468\", \"9\\u67084\\u5468\", \"10\\u67081\\u5468\", \"10\\u67082\\u5468\"], \"y\": [null, 2.0, null, null, null, 3.0, 1.0], \"type\": \"bar\", \"uid\": \"16dff4da-d611-11e8-8ddb-a41f72875c19\"}, {\"name\": \"\\u6d41\\u6c34\\u53f7(\\u738b\\u4f20\\u6587)\", \"x\": [\"8\\u67086\\u5468\", \"9\\u67081\\u5468\", \"9\\u67082\\u5468\", \"9\\u67083\\u5468\", \"9\\u67084\\u5468\", \"10\\u67081\\u5468\", \"10\\u67082\\u5468\"], \"y\": [null, null, null, 1.0, null, 2.0, 3.0], \"type\": \"bar\", \"uid\": \"16dff4db-d611-11e8-8ddb-a41f72875c19\"}, {\"name\": \"\\u6d41\\u6c34\\u53f7(\\u8d75\\u73a5)\", \"x\": [\"8\\u67086\\u5468\", \"9\\u67081\\u5468\", \"9\\u67082\\u5468\", \"9\\u67083\\u5468\", \"9\\u67084\\u5468\", \"10\\u67081\\u5468\", \"10\\u67082\\u5468\"], \"y\": [null, null, 1.0, null, null, null, 1.0], \"type\": \"bar\", \"uid\": \"16dff4dc-d611-11e8-8ddb-a41f72875c19\"}, {\"name\": \"\\u6d41\\u6c34\\u53f7(\\u9648\\u78a7\\u96ef)\", \"x\": [\"8\\u67086\\u5468\", \"9\\u67081\\u5468\", \"9\\u67082\\u5468\", \"9\\u67083\\u5468\", \"9\\u67084\\u5468\", \"10\\u67081\\u5468\", \"10\\u67082\\u5468\"], \"y\": [2.0, 3.0, 2.0, 2.0, null, 1.0, 3.0], \"type\": \"bar\", \"uid\": \"16dff4dd-d611-11e8-8ddb-a41f72875c19\"}, {\"name\": \"\\u6d41\\u6c34\\u53f7(\\u65bd\\u6bd3\\u82b7)\", \"x\": [\"8\\u67086\\u5468\", \"9\\u67081\\u5468\", \"9\\u67082\\u5468\", \"9\\u67083\\u5468\", \"9\\u67084\\u5468\", \"10\\u67081\\u5468\", \"10\\u67082\\u5468\"], \"y\": [null, null, null, null, null, null, 1.0], \"type\": \"bar\", \"uid\": \"16dff4de-d611-11e8-8ddb-a41f72875c19\"}, {\"name\": \"\\u6d41\\u6c34\\u53f7(\\u51b7\\u96ea)\", \"x\": [\"8\\u67086\\u5468\", \"9\\u67081\\u5468\", \"9\\u67082\\u5468\", \"9\\u67083\\u5468\", \"9\\u67084\\u5468\", \"10\\u67081\\u5468\", \"10\\u67082\\u5468\"], \"y\": [1.0, 1.0, null, 2.0, 2.0, 1.0, null], \"type\": \"bar\", \"uid\": \"16dff4df-d611-11e8-8ddb-a41f72875c19\"}, {\"name\": \"\\u6d41\\u6c34\\u53f7(\\u9773\\u751c\\u751c)\", \"x\": [\"8\\u67086\\u5468\", \"9\\u67081\\u5468\", \"9\\u67082\\u5468\", \"9\\u67083\\u5468\", \"9\\u67084\\u5468\", \"10\\u67081\\u5468\", \"10\\u67082\\u5468\"], \"y\": [null, null, null, null, null, 1.0, null], \"type\": \"bar\", \"uid\": \"16dff4e0-d611-11e8-8ddb-a41f72875c19\"}, {\"name\": \"\\u6d41\\u6c34\\u53f7(\\u9a6c\\u6f47)\", \"x\": [\"8\\u67086\\u5468\", \"9\\u67081\\u5468\", \"9\\u67082\\u5468\", \"9\\u67083\\u5468\", \"9\\u67084\\u5468\", \"10\\u67081\\u5468\", \"10\\u67082\\u5468\"], \"y\": [1.0, 3.0, null, 2.0, 1.0, null, 1.0], \"type\": \"bar\", \"uid\": \"16dff4e1-d611-11e8-8ddb-a41f72875c19\"}, {\"name\": \"\\u6d41\\u6c34\\u53f7(\\u5c48\\u6602)\", \"x\": [\"8\\u67086\\u5468\", \"9\\u67081\\u5468\", \"9\\u67082\\u5468\", \"9\\u67083\\u5468\", \"9\\u67084\\u5468\", \"10\\u67081\\u5468\", \"10\\u67082\\u5468\"], \"y\": [1.0, null, 1.0, 1.0, null, null, 1.0], \"type\": \"bar\", \"uid\": \"16dff4e2-d611-11e8-8ddb-a41f72875c19\"}], {\"barmode\": \"stack\", \"title\": \"\\u6d41\\u6c34\\u53f7\\u5468\\u8d8b\\u52bf\\u56fe\", \"xaxis\": {\"mirror\": \"all\", \"nticks\": 20, \"showgrid\": true, \"showline\": true, \"title\": \"\\u5468\", \"type\": \"category\", \"zeroline\": true}, \"yaxis\": {\"mirror\": \"all\", \"nticks\": 20, \"showgrid\": true, \"showline\": true, \"title\": \"\\u6d41\\u6c34\\u53f7\", \"zeroline\": true}}, {\"showLink\": true, \"linkText\": \"Export to plot.ly\"})});</script>"
      ]
     },
     "metadata": {},
     "output_type": "display_data"
    }
   ],
   "source": [
    "ss = myModule.format(df1 ,'week_number' ,['流水号'])\n",
    "ss.add_group('信息负责人')\n",
    "pp = myModule.sort_by_index(ss.groupby('count'))\n",
    "myModule.myPlot(pp).plot('stack_bar')\n",
    "#myModule.get_rank(ss.df , '信息负责人' ,'流水号', quantile=0.8, compare='>' )"
   ]
  },
  {
   "cell_type": "markdown",
   "metadata": {},
   "source": [
    "## 评估周期情况统计"
   ]
  },
  {
   "cell_type": "markdown",
   "metadata": {},
   "source": [
    "### 预计周期趋势图"
   ]
  },
  {
   "cell_type": "code",
   "execution_count": 224,
   "metadata": {
    "collapsed": false
   },
   "outputs": [
    {
     "data": {
      "application/vnd.plotly.v1+json": {
       "data": [
        {
         "name": "预计周期",
         "type": "scatter",
         "uid": "16dff4e3-d611-11e8-8ddb-a41f72875c19",
         "x": [
          "8月6周",
          "9月1周",
          "9月2周",
          "9月3周",
          "9月4周",
          "10月1周",
          "10月2周"
         ],
         "y": [
          6.5675675675675675,
          6.7317073170731705,
          8.853658536585366,
          8.325581395348838,
          9.636363636363637,
          6.614035087719298,
          6.105263157894737
         ]
        }
       ],
       "layout": {
        "title": "预计周期周趋势图",
        "xaxis": {
         "mirror": "all",
         "nticks": 20,
         "showgrid": true,
         "showline": true,
         "title": "周",
         "type": "category",
         "zeroline": true
        },
        "yaxis": {
         "mirror": "all",
         "nticks": 20,
         "showgrid": true,
         "showline": true,
         "title": "预计周期",
         "zeroline": true
        }
       }
      },
      "text/html": [
       "<div id=\"c4b7c166-4107-4d8e-a135-83df346d19cd\" style=\"height: 525px; width: 100%;\" class=\"plotly-graph-div\"></div><script type=\"text/javascript\">require([\"plotly\"], function(Plotly) { window.PLOTLYENV=window.PLOTLYENV || {};window.PLOTLYENV.BASE_URL=\"https://plot.ly\";Plotly.newPlot(\"c4b7c166-4107-4d8e-a135-83df346d19cd\", [{\"name\": \"\\u9884\\u8ba1\\u5468\\u671f\", \"x\": [\"8\\u67086\\u5468\", \"9\\u67081\\u5468\", \"9\\u67082\\u5468\", \"9\\u67083\\u5468\", \"9\\u67084\\u5468\", \"10\\u67081\\u5468\", \"10\\u67082\\u5468\"], \"y\": [6.5675675675675675, 6.7317073170731705, 8.853658536585366, 8.325581395348838, 9.636363636363637, 6.614035087719298, 6.105263157894737], \"type\": \"scatter\", \"uid\": \"16dff4e3-d611-11e8-8ddb-a41f72875c19\"}], {\"title\": \"\\u9884\\u8ba1\\u5468\\u671f\\u5468\\u8d8b\\u52bf\\u56fe\", \"xaxis\": {\"mirror\": \"all\", \"nticks\": 20, \"showgrid\": true, \"showline\": true, \"title\": \"\\u5468\", \"type\": \"category\", \"zeroline\": true}, \"yaxis\": {\"mirror\": \"all\", \"nticks\": 20, \"showgrid\": true, \"showline\": true, \"title\": \"\\u9884\\u8ba1\\u5468\\u671f\", \"zeroline\": true}}, {\"showLink\": true, \"linkText\": \"Export to plot.ly\"})});</script>"
      ],
      "text/vnd.plotly.v1+html": [
       "<div id=\"c4b7c166-4107-4d8e-a135-83df346d19cd\" style=\"height: 525px; width: 100%;\" class=\"plotly-graph-div\"></div><script type=\"text/javascript\">require([\"plotly\"], function(Plotly) { window.PLOTLYENV=window.PLOTLYENV || {};window.PLOTLYENV.BASE_URL=\"https://plot.ly\";Plotly.newPlot(\"c4b7c166-4107-4d8e-a135-83df346d19cd\", [{\"name\": \"\\u9884\\u8ba1\\u5468\\u671f\", \"x\": [\"8\\u67086\\u5468\", \"9\\u67081\\u5468\", \"9\\u67082\\u5468\", \"9\\u67083\\u5468\", \"9\\u67084\\u5468\", \"10\\u67081\\u5468\", \"10\\u67082\\u5468\"], \"y\": [6.5675675675675675, 6.7317073170731705, 8.853658536585366, 8.325581395348838, 9.636363636363637, 6.614035087719298, 6.105263157894737], \"type\": \"scatter\", \"uid\": \"16dff4e3-d611-11e8-8ddb-a41f72875c19\"}], {\"title\": \"\\u9884\\u8ba1\\u5468\\u671f\\u5468\\u8d8b\\u52bf\\u56fe\", \"xaxis\": {\"mirror\": \"all\", \"nticks\": 20, \"showgrid\": true, \"showline\": true, \"title\": \"\\u5468\", \"type\": \"category\", \"zeroline\": true}, \"yaxis\": {\"mirror\": \"all\", \"nticks\": 20, \"showgrid\": true, \"showline\": true, \"title\": \"\\u9884\\u8ba1\\u5468\\u671f\", \"zeroline\": true}}, {\"showLink\": true, \"linkText\": \"Export to plot.ly\"})});</script>"
      ]
     },
     "metadata": {},
     "output_type": "display_data"
    }
   ],
   "source": [
    "# 平均评估周期，建议添加最长评估周期、25%、50%、80%项目评估周期的指标\n",
    "ss = myModule.format(df2 ,'week_number' ,['预计周期'])\n",
    "pp = myModule.sort_by_index(ss.groupby('mean'))\n",
    "myModule.myPlot(pp).plot('line')"
   ]
  },
  {
   "cell_type": "markdown",
   "metadata": {},
   "source": [
    "### 预计周期>7日项目列表"
   ]
  },
  {
   "cell_type": "code",
   "execution_count": 225,
   "metadata": {
    "collapsed": false,
    "scrolled": true
   },
   "outputs": [
    {
     "data": {
      "text/html": [
       "<div>\n",
       "<style scoped>\n",
       "    .dataframe tbody tr th:only-of-type {\n",
       "        vertical-align: middle;\n",
       "    }\n",
       "\n",
       "    .dataframe tbody tr th {\n",
       "        vertical-align: top;\n",
       "    }\n",
       "\n",
       "    .dataframe thead th {\n",
       "        text-align: right;\n",
       "    }\n",
       "</style>\n",
       "<table border=\"1\" class=\"dataframe\">\n",
       "  <thead>\n",
       "    <tr style=\"text-align: right;\">\n",
       "      <th></th>\n",
       "      <th>week_number</th>\n",
       "      <th>流水号</th>\n",
       "      <th>个性化分析名称</th>\n",
       "      <th>信息负责人</th>\n",
       "      <th>下单时间</th>\n",
       "      <th>评估反馈时间</th>\n",
       "      <th>预计交付时间</th>\n",
       "      <th>预计周期</th>\n",
       "    </tr>\n",
       "  </thead>\n",
       "  <tbody>\n",
       "    <tr>\n",
       "      <th>308</th>\n",
       "      <td>10月2周</td>\n",
       "      <td>20181017-012</td>\n",
       "      <td>PM-HB180225-01华中农大1个白背飞虱Hi-C辅助基因组组装建库测序分析任务单-02</td>\n",
       "      <td>占伟</td>\n",
       "      <td>2018-10-17</td>\n",
       "      <td>2018-10-18</td>\n",
       "      <td>2018-11-02</td>\n",
       "      <td>15</td>\n",
       "    </tr>\n",
       "    <tr>\n",
       "      <th>293</th>\n",
       "      <td>10月2周</td>\n",
       "      <td>20181016-012</td>\n",
       "      <td>SN170074-02陕西师范大学1个黄芩基因组三代数据组装进化只分析任务单-05</td>\n",
       "      <td>杨伟飞</td>\n",
       "      <td>2018-10-16</td>\n",
       "      <td>2018-10-16</td>\n",
       "      <td>2018-10-29</td>\n",
       "      <td>13</td>\n",
       "    </tr>\n",
       "    <tr>\n",
       "      <th>252</th>\n",
       "      <td>10月2周</td>\n",
       "      <td>20181011-011</td>\n",
       "      <td>BJ181222-02遗传所1个植物全长转录组只分析任务单-02</td>\n",
       "      <td>刘永强</td>\n",
       "      <td>2018-10-12</td>\n",
       "      <td>2018-10-18</td>\n",
       "      <td>2018-10-29</td>\n",
       "      <td>11</td>\n",
       "    </tr>\n",
       "    <tr>\n",
       "      <th>326</th>\n",
       "      <td>10月2周</td>\n",
       "      <td>20181018-011</td>\n",
       "      <td>BJ170435-01动物所12个小鼠MALBAC扩增单细胞基因组建库测序分析任务单_VIP-13</td>\n",
       "      <td>刘江</td>\n",
       "      <td>2018-10-18</td>\n",
       "      <td>2018-10-18</td>\n",
       "      <td>2018-10-28</td>\n",
       "      <td>10</td>\n",
       "    </tr>\n",
       "    <tr>\n",
       "      <th>327</th>\n",
       "      <td>10月2周</td>\n",
       "      <td>20181018-012</td>\n",
       "      <td>BJ170435-01动物所12个小鼠MALBAC扩增单细胞基因组建库测序分析任务单_VIP-14</td>\n",
       "      <td>刘江</td>\n",
       "      <td>2018-10-18</td>\n",
       "      <td>2018-10-18</td>\n",
       "      <td>2018-10-28</td>\n",
       "      <td>10</td>\n",
       "    </tr>\n",
       "    <tr>\n",
       "      <th>304</th>\n",
       "      <td>10月2周</td>\n",
       "      <td>20181017-008</td>\n",
       "      <td>ANCBJ170753协和医院2个单细胞转录组10x genomics测序分析-04</td>\n",
       "      <td>姚盟成</td>\n",
       "      <td>2018-10-17</td>\n",
       "      <td>2018-10-18</td>\n",
       "      <td>2018-10-26</td>\n",
       "      <td>8</td>\n",
       "    </tr>\n",
       "    <tr>\n",
       "      <th>305</th>\n",
       "      <td>10月2周</td>\n",
       "      <td>20181017-009</td>\n",
       "      <td>ANCBJ170753协和医院2个单细胞转录组10x genomics测序分析-05</td>\n",
       "      <td>姚盟成</td>\n",
       "      <td>2018-10-17</td>\n",
       "      <td>2018-10-18</td>\n",
       "      <td>2018-10-26</td>\n",
       "      <td>8</td>\n",
       "    </tr>\n",
       "    <tr>\n",
       "      <th>314</th>\n",
       "      <td>10月2周</td>\n",
       "      <td>20181017-018</td>\n",
       "      <td>PM-GD180505-01华农4个青枯菌hic建库测序分析任务单-02</td>\n",
       "      <td>昶吉阳</td>\n",
       "      <td>2018-10-18</td>\n",
       "      <td>2018-10-22</td>\n",
       "      <td>2018-10-30</td>\n",
       "      <td>8</td>\n",
       "    </tr>\n",
       "  </tbody>\n",
       "</table>\n",
       "</div>"
      ],
      "text/plain": [
       "    week_number           流水号  \\\n",
       "308       10月2周  20181017-012   \n",
       "293       10月2周  20181016-012   \n",
       "252       10月2周  20181011-011   \n",
       "326       10月2周  20181018-011   \n",
       "327       10月2周  20181018-012   \n",
       "304       10月2周  20181017-008   \n",
       "305       10月2周  20181017-009   \n",
       "314       10月2周  20181017-018   \n",
       "\n",
       "                                               个性化分析名称 信息负责人       下单时间  \\\n",
       "308    PM-HB180225-01华中农大1个白背飞虱Hi-C辅助基因组组装建库测序分析任务单-02    占伟 2018-10-17   \n",
       "293          SN170074-02陕西师范大学1个黄芩基因组三代数据组装进化只分析任务单-05   杨伟飞 2018-10-16   \n",
       "252                   BJ181222-02遗传所1个植物全长转录组只分析任务单-02   刘永强 2018-10-12   \n",
       "326  BJ170435-01动物所12个小鼠MALBAC扩增单细胞基因组建库测序分析任务单_VIP-13    刘江 2018-10-18   \n",
       "327  BJ170435-01动物所12个小鼠MALBAC扩增单细胞基因组建库测序分析任务单_VIP-14    刘江 2018-10-18   \n",
       "304         ANCBJ170753协和医院2个单细胞转录组10x genomics测序分析-04   姚盟成 2018-10-17   \n",
       "305         ANCBJ170753协和医院2个单细胞转录组10x genomics测序分析-05   姚盟成 2018-10-17   \n",
       "314               PM-GD180505-01华农4个青枯菌hic建库测序分析任务单-02   昶吉阳 2018-10-18   \n",
       "\n",
       "        评估反馈时间     预计交付时间  预计周期  \n",
       "308 2018-10-18 2018-11-02    15  \n",
       "293 2018-10-16 2018-10-29    13  \n",
       "252 2018-10-18 2018-10-29    11  \n",
       "326 2018-10-18 2018-10-28    10  \n",
       "327 2018-10-18 2018-10-28    10  \n",
       "304 2018-10-18 2018-10-26     8  \n",
       "305 2018-10-18 2018-10-26     8  \n",
       "314 2018-10-22 2018-10-30     8  "
      ]
     },
     "execution_count": 225,
     "metadata": {},
     "output_type": "execute_result"
    }
   ],
   "source": [
    "ss = myModule.format(df2,'week_number',['流水号','个性化分析名称','信息负责人','下单时间','评估反馈时间','预计交付时间','预计周期'])\n",
    "ss.select_by_value('week_number',stat_week)\n",
    "ss.judge_and_replace('预计周期',7)\n",
    "ss.select_by_value('预计周期_bool',True)\n",
    "tt = myModule.format(ss.df,'week_number',['流水号','个性化分析名称','信息负责人','下单时间','评估反馈时间','预计交付时间','预计周期']).df\n",
    "tt.sort_values(by = '预计周期',axis = 0,ascending = False)   #预计周期从大到小排序"
   ]
  },
  {
   "cell_type": "markdown",
   "metadata": {},
   "source": [
    "## 反馈延期情况统计"
   ]
  },
  {
   "cell_type": "markdown",
   "metadata": {},
   "source": [
    "### 反馈延期率趋势图"
   ]
  },
  {
   "cell_type": "code",
   "execution_count": 226,
   "metadata": {
    "collapsed": false
   },
   "outputs": [
    {
     "name": "stderr",
     "output_type": "stream",
     "text": [
      "/home/jiankong/jupyter/chart/bin/supplment_analysis/myModule.py:249: SettingWithCopyWarning:\n",
      "\n",
      "\n",
      "A value is trying to be set on a copy of a slice from a DataFrame.\n",
      "Try using .loc[row_indexer,col_indexer] = value instead\n",
      "\n",
      "See the caveats in the documentation: http://pandas.pydata.org/pandas-docs/stable/indexing.html#indexing-view-versus-copy\n",
      "\n",
      "/home/jiankong/anaconda3/lib/python3.6/site-packages/ipykernel/__main__.py:3: SettingWithCopyWarning:\n",
      "\n",
      "\n",
      "A value is trying to be set on a copy of a slice from a DataFrame.\n",
      "Try using .loc[row_indexer,col_indexer] = value instead\n",
      "\n",
      "See the caveats in the documentation: http://pandas.pydata.org/pandas-docs/stable/indexing.html#indexing-view-versus-copy\n",
      "\n",
      "/home/jiankong/anaconda3/lib/python3.6/site-packages/ipykernel/__main__.py:4: SettingWithCopyWarning:\n",
      "\n",
      "\n",
      "A value is trying to be set on a copy of a slice from a DataFrame.\n",
      "Try using .loc[row_indexer,col_indexer] = value instead\n",
      "\n",
      "See the caveats in the documentation: http://pandas.pydata.org/pandas-docs/stable/indexing.html#indexing-view-versus-copy\n",
      "\n"
     ]
    },
    {
     "data": {
      "application/vnd.plotly.v1+json": {
       "data": [
        {
         "name": "反馈延期率",
         "type": "scatter",
         "uid": "16dff4e4-d611-11e8-8ddb-a41f72875c19",
         "x": [
          "8月6周",
          "9月1周",
          "9月2周",
          "9月3周",
          "9月4周",
          "10月1周",
          "10月2周"
         ],
         "y": [
          0.04878048780487805,
          0,
          0.022727272727272728,
          0.02040816326530612,
          0.08333333333333333,
          0,
          0.0410958904109589
         ]
        }
       ],
       "layout": {
        "title": "反馈延期率周趋势图",
        "xaxis": {
         "mirror": "all",
         "nticks": 20,
         "showgrid": true,
         "showline": true,
         "title": "周",
         "type": "category",
         "zeroline": true
        },
        "yaxis": {
         "mirror": "all",
         "nticks": 20,
         "showgrid": true,
         "showline": true,
         "title": "反馈延期率",
         "zeroline": true
        }
       }
      },
      "text/html": [
       "<div id=\"c964cc0f-6471-4763-b5a4-32ea457a70c5\" style=\"height: 525px; width: 100%;\" class=\"plotly-graph-div\"></div><script type=\"text/javascript\">require([\"plotly\"], function(Plotly) { window.PLOTLYENV=window.PLOTLYENV || {};window.PLOTLYENV.BASE_URL=\"https://plot.ly\";Plotly.newPlot(\"c964cc0f-6471-4763-b5a4-32ea457a70c5\", [{\"name\": \"\\u53cd\\u9988\\u5ef6\\u671f\\u7387\", \"x\": [\"8\\u67086\\u5468\", \"9\\u67081\\u5468\", \"9\\u67082\\u5468\", \"9\\u67083\\u5468\", \"9\\u67084\\u5468\", \"10\\u67081\\u5468\", \"10\\u67082\\u5468\"], \"y\": [0.04878048780487805, 0.0, 0.022727272727272728, 0.02040816326530612, 0.08333333333333333, 0.0, 0.0410958904109589], \"type\": \"scatter\", \"uid\": \"16dff4e4-d611-11e8-8ddb-a41f72875c19\"}], {\"title\": \"\\u53cd\\u9988\\u5ef6\\u671f\\u7387\\u5468\\u8d8b\\u52bf\\u56fe\", \"xaxis\": {\"mirror\": \"all\", \"nticks\": 20, \"showgrid\": true, \"showline\": true, \"title\": \"\\u5468\", \"type\": \"category\", \"zeroline\": true}, \"yaxis\": {\"mirror\": \"all\", \"nticks\": 20, \"showgrid\": true, \"showline\": true, \"title\": \"\\u53cd\\u9988\\u5ef6\\u671f\\u7387\", \"zeroline\": true}}, {\"showLink\": true, \"linkText\": \"Export to plot.ly\"})});</script>"
      ],
      "text/vnd.plotly.v1+html": [
       "<div id=\"c964cc0f-6471-4763-b5a4-32ea457a70c5\" style=\"height: 525px; width: 100%;\" class=\"plotly-graph-div\"></div><script type=\"text/javascript\">require([\"plotly\"], function(Plotly) { window.PLOTLYENV=window.PLOTLYENV || {};window.PLOTLYENV.BASE_URL=\"https://plot.ly\";Plotly.newPlot(\"c964cc0f-6471-4763-b5a4-32ea457a70c5\", [{\"name\": \"\\u53cd\\u9988\\u5ef6\\u671f\\u7387\", \"x\": [\"8\\u67086\\u5468\", \"9\\u67081\\u5468\", \"9\\u67082\\u5468\", \"9\\u67083\\u5468\", \"9\\u67084\\u5468\", \"10\\u67081\\u5468\", \"10\\u67082\\u5468\"], \"y\": [0.04878048780487805, 0.0, 0.022727272727272728, 0.02040816326530612, 0.08333333333333333, 0.0, 0.0410958904109589], \"type\": \"scatter\", \"uid\": \"16dff4e4-d611-11e8-8ddb-a41f72875c19\"}], {\"title\": \"\\u53cd\\u9988\\u5ef6\\u671f\\u7387\\u5468\\u8d8b\\u52bf\\u56fe\", \"xaxis\": {\"mirror\": \"all\", \"nticks\": 20, \"showgrid\": true, \"showline\": true, \"title\": \"\\u5468\", \"type\": \"category\", \"zeroline\": true}, \"yaxis\": {\"mirror\": \"all\", \"nticks\": 20, \"showgrid\": true, \"showline\": true, \"title\": \"\\u53cd\\u9988\\u5ef6\\u671f\\u7387\", \"zeroline\": true}}, {\"showLink\": true, \"linkText\": \"Export to plot.ly\"})});</script>"
      ]
     },
     "metadata": {},
     "output_type": "display_data"
    }
   ],
   "source": [
    "ss = myModule.format(df1 ,'week_number' ,['流水号','反馈周期'])\n",
    "ss.judge_and_replace('反馈周期',1)\n",
    "ss.df['流水号'] = list(map(changetype2, ss.df['流水号']))\n",
    "ss.df['反馈周期_bool'] = ss.df['反馈周期_bool'].astype(int)      #bool类型装换为数值1/0\n",
    "pp = myModule.sort_by_index(ss.get_total_ratio([['反馈延期率' ,'反馈周期_bool' , '流水号','/']]))\n",
    "myModule.myPlot(pp).plot('line')"
   ]
  },
  {
   "cell_type": "markdown",
   "metadata": {},
   "source": [
    "### 反馈延期项目列表"
   ]
  },
  {
   "cell_type": "code",
   "execution_count": 227,
   "metadata": {
    "collapsed": false
   },
   "outputs": [
    {
     "data": {
      "text/html": [
       "<div>\n",
       "<style scoped>\n",
       "    .dataframe tbody tr th:only-of-type {\n",
       "        vertical-align: middle;\n",
       "    }\n",
       "\n",
       "    .dataframe tbody tr th {\n",
       "        vertical-align: top;\n",
       "    }\n",
       "\n",
       "    .dataframe thead th {\n",
       "        text-align: right;\n",
       "    }\n",
       "</style>\n",
       "<table border=\"1\" class=\"dataframe\">\n",
       "  <thead>\n",
       "    <tr style=\"text-align: right;\">\n",
       "      <th></th>\n",
       "      <th>week_number</th>\n",
       "      <th>流水号</th>\n",
       "      <th>个性化分析名称</th>\n",
       "      <th>信息负责人</th>\n",
       "      <th>下单时间</th>\n",
       "      <th>评估反馈时间</th>\n",
       "      <th>反馈周期</th>\n",
       "    </tr>\n",
       "  </thead>\n",
       "  <tbody>\n",
       "    <tr>\n",
       "      <th>252</th>\n",
       "      <td>10月2周</td>\n",
       "      <td>20181011-011</td>\n",
       "      <td>BJ181222-02遗传所1个植物全长转录组只分析任务单-02</td>\n",
       "      <td>刘永强</td>\n",
       "      <td>2018-10-12</td>\n",
       "      <td>2018-10-18</td>\n",
       "      <td>6</td>\n",
       "    </tr>\n",
       "    <tr>\n",
       "      <th>321</th>\n",
       "      <td>10月2周</td>\n",
       "      <td>20181018-006</td>\n",
       "      <td>PM-BJ181076-01基因组所2个细菌HiC建库测序任务单-01</td>\n",
       "      <td>屈昂</td>\n",
       "      <td>2018-10-18</td>\n",
       "      <td>2018-10-23</td>\n",
       "      <td>5</td>\n",
       "    </tr>\n",
       "    <tr>\n",
       "      <th>314</th>\n",
       "      <td>10月2周</td>\n",
       "      <td>20181017-018</td>\n",
       "      <td>PM-GD180505-01华农4个青枯菌hic建库测序分析任务单-02</td>\n",
       "      <td>昶吉阳</td>\n",
       "      <td>2018-10-18</td>\n",
       "      <td>2018-10-22</td>\n",
       "      <td>4</td>\n",
       "    </tr>\n",
       "  </tbody>\n",
       "</table>\n",
       "</div>"
      ],
      "text/plain": [
       "    week_number           流水号                               个性化分析名称 信息负责人  \\\n",
       "252       10月2周  20181011-011      BJ181222-02遗传所1个植物全长转录组只分析任务单-02   刘永强   \n",
       "321       10月2周  20181018-006   PM-BJ181076-01基因组所2个细菌HiC建库测序任务单-01    屈昂   \n",
       "314       10月2周  20181017-018  PM-GD180505-01华农4个青枯菌hic建库测序分析任务单-02   昶吉阳   \n",
       "\n",
       "          下单时间     评估反馈时间  反馈周期  \n",
       "252 2018-10-12 2018-10-18     6  \n",
       "321 2018-10-18 2018-10-23     5  \n",
       "314 2018-10-18 2018-10-22     4  "
      ]
     },
     "execution_count": 227,
     "metadata": {},
     "output_type": "execute_result"
    }
   ],
   "source": [
    "ss = myModule.format(df1,'week_number',['流水号','个性化分析名称','信息负责人','下单时间','评估反馈时间','反馈周期'])\n",
    "ss.select_by_value('week_number',stat_week)\n",
    "ss.judge_and_replace('反馈周期',1)\n",
    "ss.select_by_value('反馈周期_bool',True)\n",
    "tt = myModule.format(ss.df,'week_number',['流水号','个性化分析名称','信息负责人','下单时间','评估反馈时间','反馈周期']).df\n",
    "tt.sort_values(by = '反馈周期',axis = 0,ascending = False)"
   ]
  },
  {
   "cell_type": "markdown",
   "metadata": {},
   "source": [
    "## 在线项目数统计"
   ]
  },
  {
   "cell_type": "code",
   "execution_count": 228,
   "metadata": {
    "collapsed": false,
    "scrolled": true
   },
   "outputs": [
    {
     "data": {
      "application/vnd.plotly.v1+json": {
       "data": [
        {
         "name": "流水号",
         "type": "bar",
         "uid": "16dff4e5-d611-11e8-8ddb-a41f72875c19",
         "x": [
          "于慧",
          "何胜",
          "冯敬岩",
          "刘梦苑",
          "刘永强",
          "刘江",
          "占伟",
          "姚盟成",
          "宋少宇",
          "封彦杰",
          "昶吉阳",
          "朱慧萍",
          "杨伟飞",
          "杨宇",
          "沈立群",
          "王霞",
          "范旭宁",
          "解飞",
          "赵倩",
          "赵玥",
          "闻少楠",
          "陈碧雯",
          "韩少怀",
          "马潇"
         ],
         "y": [
          1,
          2,
          3,
          1,
          1,
          2,
          4,
          2,
          5,
          1,
          3,
          3,
          4,
          2,
          3,
          1,
          3,
          1,
          6,
          1,
          3,
          2,
          2,
          1
         ]
        }
       ],
       "layout": {
        "title": "流水号周趋势图",
        "xaxis": {
         "mirror": "all",
         "nticks": 20,
         "showgrid": true,
         "showline": true,
         "title": "周",
         "type": "category",
         "zeroline": true
        },
        "yaxis": {
         "mirror": "all",
         "nticks": 20,
         "showgrid": true,
         "showline": true,
         "title": "流水号",
         "zeroline": true
        }
       }
      },
      "text/html": [
       "<div id=\"cc6ca168-1bb5-4c0c-82fd-7ab3ff3e9b43\" style=\"height: 525px; width: 100%;\" class=\"plotly-graph-div\"></div><script type=\"text/javascript\">require([\"plotly\"], function(Plotly) { window.PLOTLYENV=window.PLOTLYENV || {};window.PLOTLYENV.BASE_URL=\"https://plot.ly\";Plotly.newPlot(\"cc6ca168-1bb5-4c0c-82fd-7ab3ff3e9b43\", [{\"name\": \"\\u6d41\\u6c34\\u53f7\", \"x\": [\"\\u4e8e\\u6167\", \"\\u4f55\\u80dc\", \"\\u51af\\u656c\\u5ca9\", \"\\u5218\\u68a6\\u82d1\", \"\\u5218\\u6c38\\u5f3a\", \"\\u5218\\u6c5f\", \"\\u5360\\u4f1f\", \"\\u59da\\u76df\\u6210\", \"\\u5b8b\\u5c11\\u5b87\", \"\\u5c01\\u5f66\\u6770\", \"\\u6636\\u5409\\u9633\", \"\\u6731\\u6167\\u840d\", \"\\u6768\\u4f1f\\u98de\", \"\\u6768\\u5b87\", \"\\u6c88\\u7acb\\u7fa4\", \"\\u738b\\u971e\", \"\\u8303\\u65ed\\u5b81\", \"\\u89e3\\u98de\", \"\\u8d75\\u5029\", \"\\u8d75\\u73a5\", \"\\u95fb\\u5c11\\u6960\", \"\\u9648\\u78a7\\u96ef\", \"\\u97e9\\u5c11\\u6000\", \"\\u9a6c\\u6f47\"], \"y\": [1, 2, 3, 1, 1, 2, 4, 2, 5, 1, 3, 3, 4, 2, 3, 1, 3, 1, 6, 1, 3, 2, 2, 1], \"type\": \"bar\", \"uid\": \"16dff4e5-d611-11e8-8ddb-a41f72875c19\"}], {\"title\": \"\\u6d41\\u6c34\\u53f7\\u5468\\u8d8b\\u52bf\\u56fe\", \"xaxis\": {\"mirror\": \"all\", \"nticks\": 20, \"showgrid\": true, \"showline\": true, \"title\": \"\\u5468\", \"type\": \"category\", \"zeroline\": true}, \"yaxis\": {\"mirror\": \"all\", \"nticks\": 20, \"showgrid\": true, \"showline\": true, \"title\": \"\\u6d41\\u6c34\\u53f7\", \"zeroline\": true}}, {\"showLink\": true, \"linkText\": \"Export to plot.ly\"})});</script>"
      ],
      "text/vnd.plotly.v1+html": [
       "<div id=\"cc6ca168-1bb5-4c0c-82fd-7ab3ff3e9b43\" style=\"height: 525px; width: 100%;\" class=\"plotly-graph-div\"></div><script type=\"text/javascript\">require([\"plotly\"], function(Plotly) { window.PLOTLYENV=window.PLOTLYENV || {};window.PLOTLYENV.BASE_URL=\"https://plot.ly\";Plotly.newPlot(\"cc6ca168-1bb5-4c0c-82fd-7ab3ff3e9b43\", [{\"name\": \"\\u6d41\\u6c34\\u53f7\", \"x\": [\"\\u4e8e\\u6167\", \"\\u4f55\\u80dc\", \"\\u51af\\u656c\\u5ca9\", \"\\u5218\\u68a6\\u82d1\", \"\\u5218\\u6c38\\u5f3a\", \"\\u5218\\u6c5f\", \"\\u5360\\u4f1f\", \"\\u59da\\u76df\\u6210\", \"\\u5b8b\\u5c11\\u5b87\", \"\\u5c01\\u5f66\\u6770\", \"\\u6636\\u5409\\u9633\", \"\\u6731\\u6167\\u840d\", \"\\u6768\\u4f1f\\u98de\", \"\\u6768\\u5b87\", \"\\u6c88\\u7acb\\u7fa4\", \"\\u738b\\u971e\", \"\\u8303\\u65ed\\u5b81\", \"\\u89e3\\u98de\", \"\\u8d75\\u5029\", \"\\u8d75\\u73a5\", \"\\u95fb\\u5c11\\u6960\", \"\\u9648\\u78a7\\u96ef\", \"\\u97e9\\u5c11\\u6000\", \"\\u9a6c\\u6f47\"], \"y\": [1, 2, 3, 1, 1, 2, 4, 2, 5, 1, 3, 3, 4, 2, 3, 1, 3, 1, 6, 1, 3, 2, 2, 1], \"type\": \"bar\", \"uid\": \"16dff4e5-d611-11e8-8ddb-a41f72875c19\"}], {\"title\": \"\\u6d41\\u6c34\\u53f7\\u5468\\u8d8b\\u52bf\\u56fe\", \"xaxis\": {\"mirror\": \"all\", \"nticks\": 20, \"showgrid\": true, \"showline\": true, \"title\": \"\\u5468\", \"type\": \"category\", \"zeroline\": true}, \"yaxis\": {\"mirror\": \"all\", \"nticks\": 20, \"showgrid\": true, \"showline\": true, \"title\": \"\\u6d41\\u6c34\\u53f7\", \"zeroline\": true}}, {\"showLink\": true, \"linkText\": \"Export to plot.ly\"})});</script>"
      ]
     },
     "metadata": {},
     "output_type": "display_data"
    }
   ],
   "source": [
    "ss = myModule.format(df3 ,'信息负责人' ,['流水号'])\n",
    "pp = ss.groupby('count')\n",
    "myModule.myPlot(pp).plot('bar')"
   ]
  },
  {
   "cell_type": "markdown",
   "metadata": {},
   "source": [
    "# 交付情况统计"
   ]
  },
  {
   "cell_type": "markdown",
   "metadata": {},
   "source": [
    "## 完成项目数统计"
   ]
  },
  {
   "cell_type": "markdown",
   "metadata": {},
   "source": [
    "### 整体完成项目数趋势图"
   ]
  },
  {
   "cell_type": "code",
   "execution_count": 229,
   "metadata": {
    "collapsed": false
   },
   "outputs": [
    {
     "data": {
      "application/vnd.plotly.v1+json": {
       "data": [
        {
         "name": "实际交付时间",
         "type": "scatter",
         "uid": "16dff4e6-d611-11e8-8ddb-a41f72875c19",
         "x": [
          "8月6周",
          "9月1周",
          "9月2周",
          "9月3周",
          "9月4周",
          "10月1周",
          "10月2周",
          "10月3周"
         ],
         "y": [
          8,
          36,
          51,
          34,
          16,
          25,
          49,
          4
         ]
        }
       ],
       "layout": {
        "title": "实际交付时间周趋势图",
        "xaxis": {
         "mirror": "all",
         "nticks": 20,
         "showgrid": true,
         "showline": true,
         "title": "周",
         "type": "category",
         "zeroline": true
        },
        "yaxis": {
         "mirror": "all",
         "nticks": 20,
         "showgrid": true,
         "showline": true,
         "title": "实际交付时间",
         "zeroline": true
        }
       }
      },
      "text/html": [
       "<div id=\"128f6f1d-715b-4822-b4a1-d2c59a46a73d\" style=\"height: 525px; width: 100%;\" class=\"plotly-graph-div\"></div><script type=\"text/javascript\">require([\"plotly\"], function(Plotly) { window.PLOTLYENV=window.PLOTLYENV || {};window.PLOTLYENV.BASE_URL=\"https://plot.ly\";Plotly.newPlot(\"128f6f1d-715b-4822-b4a1-d2c59a46a73d\", [{\"name\": \"\\u5b9e\\u9645\\u4ea4\\u4ed8\\u65f6\\u95f4\", \"x\": [\"8\\u67086\\u5468\", \"9\\u67081\\u5468\", \"9\\u67082\\u5468\", \"9\\u67083\\u5468\", \"9\\u67084\\u5468\", \"10\\u67081\\u5468\", \"10\\u67082\\u5468\", \"10\\u67083\\u5468\"], \"y\": [8, 36, 51, 34, 16, 25, 49, 4], \"type\": \"scatter\", \"uid\": \"16dff4e6-d611-11e8-8ddb-a41f72875c19\"}], {\"title\": \"\\u5b9e\\u9645\\u4ea4\\u4ed8\\u65f6\\u95f4\\u5468\\u8d8b\\u52bf\\u56fe\", \"xaxis\": {\"mirror\": \"all\", \"nticks\": 20, \"showgrid\": true, \"showline\": true, \"title\": \"\\u5468\", \"type\": \"category\", \"zeroline\": true}, \"yaxis\": {\"mirror\": \"all\", \"nticks\": 20, \"showgrid\": true, \"showline\": true, \"title\": \"\\u5b9e\\u9645\\u4ea4\\u4ed8\\u65f6\\u95f4\", \"zeroline\": true}}, {\"showLink\": true, \"linkText\": \"Export to plot.ly\"})});</script>"
      ],
      "text/vnd.plotly.v1+html": [
       "<div id=\"128f6f1d-715b-4822-b4a1-d2c59a46a73d\" style=\"height: 525px; width: 100%;\" class=\"plotly-graph-div\"></div><script type=\"text/javascript\">require([\"plotly\"], function(Plotly) { window.PLOTLYENV=window.PLOTLYENV || {};window.PLOTLYENV.BASE_URL=\"https://plot.ly\";Plotly.newPlot(\"128f6f1d-715b-4822-b4a1-d2c59a46a73d\", [{\"name\": \"\\u5b9e\\u9645\\u4ea4\\u4ed8\\u65f6\\u95f4\", \"x\": [\"8\\u67086\\u5468\", \"9\\u67081\\u5468\", \"9\\u67082\\u5468\", \"9\\u67083\\u5468\", \"9\\u67084\\u5468\", \"10\\u67081\\u5468\", \"10\\u67082\\u5468\", \"10\\u67083\\u5468\"], \"y\": [8, 36, 51, 34, 16, 25, 49, 4], \"type\": \"scatter\", \"uid\": \"16dff4e6-d611-11e8-8ddb-a41f72875c19\"}], {\"title\": \"\\u5b9e\\u9645\\u4ea4\\u4ed8\\u65f6\\u95f4\\u5468\\u8d8b\\u52bf\\u56fe\", \"xaxis\": {\"mirror\": \"all\", \"nticks\": 20, \"showgrid\": true, \"showline\": true, \"title\": \"\\u5468\", \"type\": \"category\", \"zeroline\": true}, \"yaxis\": {\"mirror\": \"all\", \"nticks\": 20, \"showgrid\": true, \"showline\": true, \"title\": \"\\u5b9e\\u9645\\u4ea4\\u4ed8\\u65f6\\u95f4\", \"zeroline\": true}}, {\"showLink\": true, \"linkText\": \"Export to plot.ly\"})});</script>"
      ]
     },
     "metadata": {},
     "output_type": "display_data"
    }
   ],
   "source": [
    "ss = myModule.format(df4 ,'week_number' ,['实际交付时间'])\n",
    "pp = myModule.sort_by_index(ss.groupby('count'))\n",
    "myModule.myPlot(pp).plot('line')"
   ]
  },
  {
   "cell_type": "markdown",
   "metadata": {},
   "source": [
    "### 个人完成项目数统计"
   ]
  },
  {
   "cell_type": "code",
   "execution_count": 230,
   "metadata": {
    "collapsed": false
   },
   "outputs": [
    {
     "data": {
      "application/vnd.plotly.v1+json": {
       "data": [
        {
         "name": "实际交付时间(朱慧萍)",
         "type": "bar",
         "uid": "16dff4e7-d611-11e8-8ddb-a41f72875c19",
         "x": [
          "8月6周",
          "9月1周",
          "9月2周",
          "9月3周",
          "9月4周",
          "10月1周",
          "10月2周",
          "10月3周"
         ],
         "y": [
          2,
          5,
          3,
          2,
          1,
          null,
          3,
          null
         ]
        },
        {
         "name": "实际交付时间(何胜)",
         "type": "bar",
         "uid": "16dff4e8-d611-11e8-8ddb-a41f72875c19",
         "x": [
          "8月6周",
          "9月1周",
          "9月2周",
          "9月3周",
          "9月4周",
          "10月1周",
          "10月2周",
          "10月3周"
         ],
         "y": [
          2,
          1,
          4,
          2,
          1,
          2,
          2,
          null
         ]
        },
        {
         "name": "实际交付时间(王霞)",
         "type": "bar",
         "uid": "16dff4e9-d611-11e8-8ddb-a41f72875c19",
         "x": [
          "8月6周",
          "9月1周",
          "9月2周",
          "9月3周",
          "9月4周",
          "10月1周",
          "10月2周",
          "10月3周"
         ],
         "y": [
          null,
          2,
          3,
          2,
          null,
          2,
          3,
          null
         ]
        },
        {
         "name": "实际交付时间(陈鹏燕)",
         "type": "bar",
         "uid": "16dff4ea-d611-11e8-8ddb-a41f72875c19",
         "x": [
          "8月6周",
          "9月1周",
          "9月2周",
          "9月3周",
          "9月4周",
          "10月1周",
          "10月2周",
          "10月3周"
         ],
         "y": [
          null,
          3,
          3,
          4,
          1,
          null,
          null,
          null
         ]
        },
        {
         "name": "实际交付时间(张悦)",
         "type": "bar",
         "uid": "16dff4eb-d611-11e8-8ddb-a41f72875c19",
         "x": [
          "8月6周",
          "9月1周",
          "9月2周",
          "9月3周",
          "9月4周",
          "10月1周",
          "10月2周",
          "10月3周"
         ],
         "y": [
          null,
          null,
          null,
          null,
          null,
          null,
          1,
          null
         ]
        },
        {
         "name": "实际交付时间(冯敬岩)",
         "type": "bar",
         "uid": "16dff4ec-d611-11e8-8ddb-a41f72875c19",
         "x": [
          "8月6周",
          "9月1周",
          "9月2周",
          "9月3周",
          "9月4周",
          "10月1周",
          "10月2周",
          "10月3周"
         ],
         "y": [
          1,
          2,
          2,
          3,
          1,
          4,
          3,
          null
         ]
        },
        {
         "name": "实际交付时间(韩少怀)",
         "type": "bar",
         "uid": "16dff4ed-d611-11e8-8ddb-a41f72875c19",
         "x": [
          "8月6周",
          "9月1周",
          "9月2周",
          "9月3周",
          "9月4周",
          "10月1周",
          "10月2周",
          "10月3周"
         ],
         "y": [
          null,
          null,
          null,
          null,
          2,
          1,
          3,
          null
         ]
        },
        {
         "name": "实际交付时间(林文文)",
         "type": "bar",
         "uid": "16dff4ee-d611-11e8-8ddb-a41f72875c19",
         "x": [
          "8月6周",
          "9月1周",
          "9月2周",
          "9月3周",
          "9月4周",
          "10月1周",
          "10月2周",
          "10月3周"
         ],
         "y": [
          null,
          null,
          1,
          1,
          null,
          null,
          null,
          null
         ]
        },
        {
         "name": "实际交付时间(于勇一)",
         "type": "bar",
         "uid": "16dff4ef-d611-11e8-8ddb-a41f72875c19",
         "x": [
          "8月6周",
          "9月1周",
          "9月2周",
          "9月3周",
          "9月4周",
          "10月1周",
          "10月2周",
          "10月3周"
         ],
         "y": [
          null,
          null,
          null,
          1,
          null,
          null,
          null,
          null
         ]
        },
        {
         "name": "实际交付时间(任雪)",
         "type": "bar",
         "uid": "16dff4f0-d611-11e8-8ddb-a41f72875c19",
         "x": [
          "8月6周",
          "9月1周",
          "9月2周",
          "9月3周",
          "9月4周",
          "10月1周",
          "10月2周",
          "10月3周"
         ],
         "y": [
          null,
          null,
          null,
          null,
          null,
          null,
          1,
          null
         ]
        },
        {
         "name": "实际交付时间(昶吉阳)",
         "type": "bar",
         "uid": "16dff4f1-d611-11e8-8ddb-a41f72875c19",
         "x": [
          "8月6周",
          "9月1周",
          "9月2周",
          "9月3周",
          "9月4周",
          "10月1周",
          "10月2周",
          "10月3周"
         ],
         "y": [
          null,
          1,
          2,
          null,
          null,
          2,
          null,
          null
         ]
        },
        {
         "name": "实际交付时间(宋少宇)",
         "type": "bar",
         "uid": "16dff4f2-d611-11e8-8ddb-a41f72875c19",
         "x": [
          "8月6周",
          "9月1周",
          "9月2周",
          "9月3周",
          "9月4周",
          "10月1周",
          "10月2周",
          "10月3周"
         ],
         "y": [
          null,
          1,
          null,
          null,
          null,
          null,
          null,
          null
         ]
        },
        {
         "name": "实际交付时间(姚盟成)",
         "type": "bar",
         "uid": "16dff4f3-d611-11e8-8ddb-a41f72875c19",
         "x": [
          "8月6周",
          "9月1周",
          "9月2周",
          "9月3周",
          "9月4周",
          "10月1周",
          "10月2周",
          "10月3周"
         ],
         "y": [
          null,
          null,
          1,
          null,
          null,
          null,
          1,
          null
         ]
        },
        {
         "name": "实际交付时间(段利强)",
         "type": "bar",
         "uid": "16dff4f4-d611-11e8-8ddb-a41f72875c19",
         "x": [
          "8月6周",
          "9月1周",
          "9月2周",
          "9月3周",
          "9月4周",
          "10月1周",
          "10月2周",
          "10月3周"
         ],
         "y": [
          null,
          1,
          6,
          null,
          null,
          null,
          null,
          null
         ]
        },
        {
         "name": "实际交付时间(范旭宁)",
         "type": "bar",
         "uid": "16dff4f5-d611-11e8-8ddb-a41f72875c19",
         "x": [
          "8月6周",
          "9月1周",
          "9月2周",
          "9月3周",
          "9月4周",
          "10月1周",
          "10月2周",
          "10月3周"
         ],
         "y": [
          null,
          null,
          1,
          null,
          null,
          1,
          null,
          null
         ]
        },
        {
         "name": "实际交付时间(杨宇)",
         "type": "bar",
         "uid": "16dff4f6-d611-11e8-8ddb-a41f72875c19",
         "x": [
          "8月6周",
          "9月1周",
          "9月2周",
          "9月3周",
          "9月4周",
          "10月1周",
          "10月2周",
          "10月3周"
         ],
         "y": [
          null,
          1,
          6,
          1,
          null,
          null,
          3,
          null
         ]
        },
        {
         "name": "实际交付时间(刘永强)",
         "type": "bar",
         "uid": "16dff4f7-d611-11e8-8ddb-a41f72875c19",
         "x": [
          "8月6周",
          "9月1周",
          "9月2周",
          "9月3周",
          "9月4周",
          "10月1周",
          "10月2周",
          "10月3周"
         ],
         "y": [
          null,
          1,
          null,
          null,
          null,
          1,
          1,
          null
         ]
        },
        {
         "name": "实际交付时间(车天栋)",
         "type": "bar",
         "uid": "16dff4f8-d611-11e8-8ddb-a41f72875c19",
         "x": [
          "8月6周",
          "9月1周",
          "9月2周",
          "9月3周",
          "9月4周",
          "10月1周",
          "10月2周",
          "10月3周"
         ],
         "y": [
          null,
          1,
          null,
          1,
          null,
          null,
          1,
          null
         ]
        },
        {
         "name": "实际交付时间(赵倩)",
         "type": "bar",
         "uid": "16dff4f9-d611-11e8-8ddb-a41f72875c19",
         "x": [
          "8月6周",
          "9月1周",
          "9月2周",
          "9月3周",
          "9月4周",
          "10月1周",
          "10月2周",
          "10月3周"
         ],
         "y": [
          1,
          4,
          4,
          7,
          1,
          3,
          5,
          null
         ]
        },
        {
         "name": "实际交付时间(沈恩惠)",
         "type": "bar",
         "uid": "16dff4fa-d611-11e8-8ddb-a41f72875c19",
         "x": [
          "8月6周",
          "9月1周",
          "9月2周",
          "9月3周",
          "9月4周",
          "10月1周",
          "10月2周",
          "10月3周"
         ],
         "y": [
          null,
          1,
          null,
          1,
          null,
          1,
          1,
          null
         ]
        },
        {
         "name": "实际交付时间(解飞)",
         "type": "bar",
         "uid": "16dff4fb-d611-11e8-8ddb-a41f72875c19",
         "x": [
          "8月6周",
          "9月1周",
          "9月2周",
          "9月3周",
          "9月4周",
          "10月1周",
          "10月2周",
          "10月3周"
         ],
         "y": [
          null,
          null,
          null,
          null,
          null,
          1,
          4,
          null
         ]
        },
        {
         "name": "实际交付时间(高剑)",
         "type": "bar",
         "uid": "16dff4fc-d611-11e8-8ddb-a41f72875c19",
         "x": [
          "8月6周",
          "9月1周",
          "9月2周",
          "9月3周",
          "9月4周",
          "10月1周",
          "10月2周",
          "10月3周"
         ],
         "y": [
          null,
          1,
          null,
          null,
          null,
          null,
          null,
          null
         ]
        },
        {
         "name": "实际交付时间(杨伟飞)",
         "type": "bar",
         "uid": "16dff4fd-d611-11e8-8ddb-a41f72875c19",
         "x": [
          "8月6周",
          "9月1周",
          "9月2周",
          "9月3周",
          "9月4周",
          "10月1周",
          "10月2周",
          "10月3周"
         ],
         "y": [
          null,
          1,
          2,
          null,
          null,
          null,
          null,
          null
         ]
        },
        {
         "name": "实际交付时间(刘江)",
         "type": "bar",
         "uid": "16dff4fe-d611-11e8-8ddb-a41f72875c19",
         "x": [
          "8月6周",
          "9月1周",
          "9月2周",
          "9月3周",
          "9月4周",
          "10月1周",
          "10月2周",
          "10月3周"
         ],
         "y": [
          null,
          1,
          2,
          null,
          null,
          null,
          1,
          null
         ]
        },
        {
         "name": "实际交付时间(于慧)",
         "type": "bar",
         "uid": "16dff4ff-d611-11e8-8ddb-a41f72875c19",
         "x": [
          "8月6周",
          "9月1周",
          "9月2周",
          "9月3周",
          "9月4周",
          "10月1周",
          "10月2周",
          "10月3周"
         ],
         "y": [
          null,
          1,
          null,
          1,
          null,
          null,
          2,
          null
         ]
        },
        {
         "name": "实际交付时间(闻少楠)",
         "type": "bar",
         "uid": "16dff500-d611-11e8-8ddb-a41f72875c19",
         "x": [
          "8月6周",
          "9月1周",
          "9月2周",
          "9月3周",
          "9月4周",
          "10月1周",
          "10月2周",
          "10月3周"
         ],
         "y": [
          null,
          null,
          2,
          null,
          2,
          2,
          2,
          null
         ]
        },
        {
         "name": "实际交付时间(沈立群)",
         "type": "bar",
         "uid": "16dff501-d611-11e8-8ddb-a41f72875c19",
         "x": [
          "8月6周",
          "9月1周",
          "9月2周",
          "9月3周",
          "9月4周",
          "10月1周",
          "10月2周",
          "10月3周"
         ],
         "y": [
          null,
          null,
          null,
          1,
          null,
          null,
          1,
          null
         ]
        },
        {
         "name": "实际交付时间(刘梦苑)",
         "type": "bar",
         "uid": "16dff502-d611-11e8-8ddb-a41f72875c19",
         "x": [
          "8月6周",
          "9月1周",
          "9月2周",
          "9月3周",
          "9月4周",
          "10月1周",
          "10月2周",
          "10月3周"
         ],
         "y": [
          1,
          1,
          1,
          2,
          1,
          2,
          5,
          null
         ]
        },
        {
         "name": "实际交付时间(李华云)",
         "type": "bar",
         "uid": "16dff503-d611-11e8-8ddb-a41f72875c19",
         "x": [
          "8月6周",
          "9月1周",
          "9月2周",
          "9月3周",
          "9月4周",
          "10月1周",
          "10月2周",
          "10月3周"
         ],
         "y": [
          null,
          null,
          1,
          null,
          1,
          null,
          null,
          null
         ]
        },
        {
         "name": "实际交付时间(占伟)",
         "type": "bar",
         "uid": "16dff504-d611-11e8-8ddb-a41f72875c19",
         "x": [
          "8月6周",
          "9月1周",
          "9月2周",
          "9月3周",
          "9月4周",
          "10月1周",
          "10月2周",
          "10月3周"
         ],
         "y": [
          null,
          null,
          1,
          1,
          null,
          null,
          null,
          null
         ]
        },
        {
         "name": "实际交付时间(王传文)",
         "type": "bar",
         "uid": "16dff505-d611-11e8-8ddb-a41f72875c19",
         "x": [
          "8月6周",
          "9月1周",
          "9月2周",
          "9月3周",
          "9月4周",
          "10月1周",
          "10月2周",
          "10月3周"
         ],
         "y": [
          null,
          null,
          null,
          1,
          null,
          1,
          2,
          2
         ]
        },
        {
         "name": "实际交付时间(陈碧雯)",
         "type": "bar",
         "uid": "16dff506-d611-11e8-8ddb-a41f72875c19",
         "x": [
          "8月6周",
          "9月1周",
          "9月2周",
          "9月3周",
          "9月4周",
          "10月1周",
          "10月2周",
          "10月3周"
         ],
         "y": [
          null,
          4,
          3,
          null,
          1,
          2,
          1,
          null
         ]
        },
        {
         "name": "实际交付时间(施毓芷)",
         "type": "bar",
         "uid": "16dff507-d611-11e8-8ddb-a41f72875c19",
         "x": [
          "8月6周",
          "9月1周",
          "9月2周",
          "9月3周",
          "9月4周",
          "10月1周",
          "10月2周",
          "10月3周"
         ],
         "y": [
          null,
          null,
          null,
          null,
          null,
          null,
          null,
          1
         ]
        },
        {
         "name": "实际交付时间(冷雪)",
         "type": "bar",
         "uid": "16dff508-d611-11e8-8ddb-a41f72875c19",
         "x": [
          "8月6周",
          "9月1周",
          "9月2周",
          "9月3周",
          "9月4周",
          "10月1周",
          "10月2周",
          "10月3周"
         ],
         "y": [
          1,
          null,
          1,
          2,
          2,
          null,
          1,
          null
         ]
        },
        {
         "name": "实际交付时间(靳甜甜)",
         "type": "bar",
         "uid": "16dff509-d611-11e8-8ddb-a41f72875c19",
         "x": [
          "8月6周",
          "9月1周",
          "9月2周",
          "9月3周",
          "9月4周",
          "10月1周",
          "10月2周",
          "10月3周"
         ],
         "y": [
          null,
          null,
          null,
          null,
          null,
          null,
          null,
          1
         ]
        },
        {
         "name": "实际交付时间(马潇)",
         "type": "bar",
         "uid": "16dff50a-d611-11e8-8ddb-a41f72875c19",
         "x": [
          "8月6周",
          "9月1周",
          "9月2周",
          "9月3周",
          "9月4周",
          "10月1周",
          "10月2周",
          "10月3周"
         ],
         "y": [
          null,
          2,
          2,
          null,
          2,
          null,
          1,
          null
         ]
        },
        {
         "name": "实际交付时间(屈昂)",
         "type": "bar",
         "uid": "16dff50b-d611-11e8-8ddb-a41f72875c19",
         "x": [
          "8月6周",
          "9月1周",
          "9月2周",
          "9月3周",
          "9月4周",
          "10月1周",
          "10月2周",
          "10月3周"
         ],
         "y": [
          null,
          1,
          null,
          1,
          null,
          null,
          1,
          null
         ]
        }
       ],
       "layout": {
        "barmode": "stack",
        "title": "实际交付时间周趋势图",
        "xaxis": {
         "mirror": "all",
         "nticks": 20,
         "showgrid": true,
         "showline": true,
         "title": "周",
         "type": "category",
         "zeroline": true
        },
        "yaxis": {
         "mirror": "all",
         "nticks": 20,
         "showgrid": true,
         "showline": true,
         "title": "实际交付时间",
         "zeroline": true
        }
       }
      },
      "text/html": [
       "<div id=\"40f31be7-df1e-4cf4-846d-15456a617f70\" style=\"height: 525px; width: 100%;\" class=\"plotly-graph-div\"></div><script type=\"text/javascript\">require([\"plotly\"], function(Plotly) { window.PLOTLYENV=window.PLOTLYENV || {};window.PLOTLYENV.BASE_URL=\"https://plot.ly\";Plotly.newPlot(\"40f31be7-df1e-4cf4-846d-15456a617f70\", [{\"name\": \"\\u5b9e\\u9645\\u4ea4\\u4ed8\\u65f6\\u95f4(\\u6731\\u6167\\u840d)\", \"x\": [\"8\\u67086\\u5468\", \"9\\u67081\\u5468\", \"9\\u67082\\u5468\", \"9\\u67083\\u5468\", \"9\\u67084\\u5468\", \"10\\u67081\\u5468\", \"10\\u67082\\u5468\", \"10\\u67083\\u5468\"], \"y\": [2.0, 5.0, 3.0, 2.0, 1.0, null, 3.0, null], \"type\": \"bar\", \"uid\": \"16dff4e7-d611-11e8-8ddb-a41f72875c19\"}, {\"name\": \"\\u5b9e\\u9645\\u4ea4\\u4ed8\\u65f6\\u95f4(\\u4f55\\u80dc)\", \"x\": [\"8\\u67086\\u5468\", \"9\\u67081\\u5468\", \"9\\u67082\\u5468\", \"9\\u67083\\u5468\", \"9\\u67084\\u5468\", \"10\\u67081\\u5468\", \"10\\u67082\\u5468\", \"10\\u67083\\u5468\"], \"y\": [2.0, 1.0, 4.0, 2.0, 1.0, 2.0, 2.0, null], \"type\": \"bar\", \"uid\": \"16dff4e8-d611-11e8-8ddb-a41f72875c19\"}, {\"name\": \"\\u5b9e\\u9645\\u4ea4\\u4ed8\\u65f6\\u95f4(\\u738b\\u971e)\", \"x\": [\"8\\u67086\\u5468\", \"9\\u67081\\u5468\", \"9\\u67082\\u5468\", \"9\\u67083\\u5468\", \"9\\u67084\\u5468\", \"10\\u67081\\u5468\", \"10\\u67082\\u5468\", \"10\\u67083\\u5468\"], \"y\": [null, 2.0, 3.0, 2.0, null, 2.0, 3.0, null], \"type\": \"bar\", \"uid\": \"16dff4e9-d611-11e8-8ddb-a41f72875c19\"}, {\"name\": \"\\u5b9e\\u9645\\u4ea4\\u4ed8\\u65f6\\u95f4(\\u9648\\u9e4f\\u71d5)\", \"x\": [\"8\\u67086\\u5468\", \"9\\u67081\\u5468\", \"9\\u67082\\u5468\", \"9\\u67083\\u5468\", \"9\\u67084\\u5468\", \"10\\u67081\\u5468\", \"10\\u67082\\u5468\", \"10\\u67083\\u5468\"], \"y\": [null, 3.0, 3.0, 4.0, 1.0, null, null, null], \"type\": \"bar\", \"uid\": \"16dff4ea-d611-11e8-8ddb-a41f72875c19\"}, {\"name\": \"\\u5b9e\\u9645\\u4ea4\\u4ed8\\u65f6\\u95f4(\\u5f20\\u60a6)\", \"x\": [\"8\\u67086\\u5468\", \"9\\u67081\\u5468\", \"9\\u67082\\u5468\", \"9\\u67083\\u5468\", \"9\\u67084\\u5468\", \"10\\u67081\\u5468\", \"10\\u67082\\u5468\", \"10\\u67083\\u5468\"], \"y\": [null, null, null, null, null, null, 1.0, null], \"type\": \"bar\", \"uid\": \"16dff4eb-d611-11e8-8ddb-a41f72875c19\"}, {\"name\": \"\\u5b9e\\u9645\\u4ea4\\u4ed8\\u65f6\\u95f4(\\u51af\\u656c\\u5ca9)\", \"x\": [\"8\\u67086\\u5468\", \"9\\u67081\\u5468\", \"9\\u67082\\u5468\", \"9\\u67083\\u5468\", \"9\\u67084\\u5468\", \"10\\u67081\\u5468\", \"10\\u67082\\u5468\", \"10\\u67083\\u5468\"], \"y\": [1.0, 2.0, 2.0, 3.0, 1.0, 4.0, 3.0, null], \"type\": \"bar\", \"uid\": \"16dff4ec-d611-11e8-8ddb-a41f72875c19\"}, {\"name\": \"\\u5b9e\\u9645\\u4ea4\\u4ed8\\u65f6\\u95f4(\\u97e9\\u5c11\\u6000)\", \"x\": [\"8\\u67086\\u5468\", \"9\\u67081\\u5468\", \"9\\u67082\\u5468\", \"9\\u67083\\u5468\", \"9\\u67084\\u5468\", \"10\\u67081\\u5468\", \"10\\u67082\\u5468\", \"10\\u67083\\u5468\"], \"y\": [null, null, null, null, 2.0, 1.0, 3.0, null], \"type\": \"bar\", \"uid\": \"16dff4ed-d611-11e8-8ddb-a41f72875c19\"}, {\"name\": \"\\u5b9e\\u9645\\u4ea4\\u4ed8\\u65f6\\u95f4(\\u6797\\u6587\\u6587)\", \"x\": [\"8\\u67086\\u5468\", \"9\\u67081\\u5468\", \"9\\u67082\\u5468\", \"9\\u67083\\u5468\", \"9\\u67084\\u5468\", \"10\\u67081\\u5468\", \"10\\u67082\\u5468\", \"10\\u67083\\u5468\"], \"y\": [null, null, 1.0, 1.0, null, null, null, null], \"type\": \"bar\", \"uid\": \"16dff4ee-d611-11e8-8ddb-a41f72875c19\"}, {\"name\": \"\\u5b9e\\u9645\\u4ea4\\u4ed8\\u65f6\\u95f4(\\u4e8e\\u52c7\\u4e00)\", \"x\": [\"8\\u67086\\u5468\", \"9\\u67081\\u5468\", \"9\\u67082\\u5468\", \"9\\u67083\\u5468\", \"9\\u67084\\u5468\", \"10\\u67081\\u5468\", \"10\\u67082\\u5468\", \"10\\u67083\\u5468\"], \"y\": [null, null, null, 1.0, null, null, null, null], \"type\": \"bar\", \"uid\": \"16dff4ef-d611-11e8-8ddb-a41f72875c19\"}, {\"name\": \"\\u5b9e\\u9645\\u4ea4\\u4ed8\\u65f6\\u95f4(\\u4efb\\u96ea)\", \"x\": [\"8\\u67086\\u5468\", \"9\\u67081\\u5468\", \"9\\u67082\\u5468\", \"9\\u67083\\u5468\", \"9\\u67084\\u5468\", \"10\\u67081\\u5468\", \"10\\u67082\\u5468\", \"10\\u67083\\u5468\"], \"y\": [null, null, null, null, null, null, 1.0, null], \"type\": \"bar\", \"uid\": \"16dff4f0-d611-11e8-8ddb-a41f72875c19\"}, {\"name\": \"\\u5b9e\\u9645\\u4ea4\\u4ed8\\u65f6\\u95f4(\\u6636\\u5409\\u9633)\", \"x\": [\"8\\u67086\\u5468\", \"9\\u67081\\u5468\", \"9\\u67082\\u5468\", \"9\\u67083\\u5468\", \"9\\u67084\\u5468\", \"10\\u67081\\u5468\", \"10\\u67082\\u5468\", \"10\\u67083\\u5468\"], \"y\": [null, 1.0, 2.0, null, null, 2.0, null, null], \"type\": \"bar\", \"uid\": \"16dff4f1-d611-11e8-8ddb-a41f72875c19\"}, {\"name\": \"\\u5b9e\\u9645\\u4ea4\\u4ed8\\u65f6\\u95f4(\\u5b8b\\u5c11\\u5b87)\", \"x\": [\"8\\u67086\\u5468\", \"9\\u67081\\u5468\", \"9\\u67082\\u5468\", \"9\\u67083\\u5468\", \"9\\u67084\\u5468\", \"10\\u67081\\u5468\", \"10\\u67082\\u5468\", \"10\\u67083\\u5468\"], \"y\": [null, 1.0, null, null, null, null, null, null], \"type\": \"bar\", \"uid\": \"16dff4f2-d611-11e8-8ddb-a41f72875c19\"}, {\"name\": \"\\u5b9e\\u9645\\u4ea4\\u4ed8\\u65f6\\u95f4(\\u59da\\u76df\\u6210)\", \"x\": [\"8\\u67086\\u5468\", \"9\\u67081\\u5468\", \"9\\u67082\\u5468\", \"9\\u67083\\u5468\", \"9\\u67084\\u5468\", \"10\\u67081\\u5468\", \"10\\u67082\\u5468\", \"10\\u67083\\u5468\"], \"y\": [null, null, 1.0, null, null, null, 1.0, null], \"type\": \"bar\", \"uid\": \"16dff4f3-d611-11e8-8ddb-a41f72875c19\"}, {\"name\": \"\\u5b9e\\u9645\\u4ea4\\u4ed8\\u65f6\\u95f4(\\u6bb5\\u5229\\u5f3a)\", \"x\": [\"8\\u67086\\u5468\", \"9\\u67081\\u5468\", \"9\\u67082\\u5468\", \"9\\u67083\\u5468\", \"9\\u67084\\u5468\", \"10\\u67081\\u5468\", \"10\\u67082\\u5468\", \"10\\u67083\\u5468\"], \"y\": [null, 1.0, 6.0, null, null, null, null, null], \"type\": \"bar\", \"uid\": \"16dff4f4-d611-11e8-8ddb-a41f72875c19\"}, {\"name\": \"\\u5b9e\\u9645\\u4ea4\\u4ed8\\u65f6\\u95f4(\\u8303\\u65ed\\u5b81)\", \"x\": [\"8\\u67086\\u5468\", \"9\\u67081\\u5468\", \"9\\u67082\\u5468\", \"9\\u67083\\u5468\", \"9\\u67084\\u5468\", \"10\\u67081\\u5468\", \"10\\u67082\\u5468\", \"10\\u67083\\u5468\"], \"y\": [null, null, 1.0, null, null, 1.0, null, null], \"type\": \"bar\", \"uid\": \"16dff4f5-d611-11e8-8ddb-a41f72875c19\"}, {\"name\": \"\\u5b9e\\u9645\\u4ea4\\u4ed8\\u65f6\\u95f4(\\u6768\\u5b87)\", \"x\": [\"8\\u67086\\u5468\", \"9\\u67081\\u5468\", \"9\\u67082\\u5468\", \"9\\u67083\\u5468\", \"9\\u67084\\u5468\", \"10\\u67081\\u5468\", \"10\\u67082\\u5468\", \"10\\u67083\\u5468\"], \"y\": [null, 1.0, 6.0, 1.0, null, null, 3.0, null], \"type\": \"bar\", \"uid\": \"16dff4f6-d611-11e8-8ddb-a41f72875c19\"}, {\"name\": \"\\u5b9e\\u9645\\u4ea4\\u4ed8\\u65f6\\u95f4(\\u5218\\u6c38\\u5f3a)\", \"x\": [\"8\\u67086\\u5468\", \"9\\u67081\\u5468\", \"9\\u67082\\u5468\", \"9\\u67083\\u5468\", \"9\\u67084\\u5468\", \"10\\u67081\\u5468\", \"10\\u67082\\u5468\", \"10\\u67083\\u5468\"], \"y\": [null, 1.0, null, null, null, 1.0, 1.0, null], \"type\": \"bar\", \"uid\": \"16dff4f7-d611-11e8-8ddb-a41f72875c19\"}, {\"name\": \"\\u5b9e\\u9645\\u4ea4\\u4ed8\\u65f6\\u95f4(\\u8f66\\u5929\\u680b)\", \"x\": [\"8\\u67086\\u5468\", \"9\\u67081\\u5468\", \"9\\u67082\\u5468\", \"9\\u67083\\u5468\", \"9\\u67084\\u5468\", \"10\\u67081\\u5468\", \"10\\u67082\\u5468\", \"10\\u67083\\u5468\"], \"y\": [null, 1.0, null, 1.0, null, null, 1.0, null], \"type\": \"bar\", \"uid\": \"16dff4f8-d611-11e8-8ddb-a41f72875c19\"}, {\"name\": \"\\u5b9e\\u9645\\u4ea4\\u4ed8\\u65f6\\u95f4(\\u8d75\\u5029)\", \"x\": [\"8\\u67086\\u5468\", \"9\\u67081\\u5468\", \"9\\u67082\\u5468\", \"9\\u67083\\u5468\", \"9\\u67084\\u5468\", \"10\\u67081\\u5468\", \"10\\u67082\\u5468\", \"10\\u67083\\u5468\"], \"y\": [1.0, 4.0, 4.0, 7.0, 1.0, 3.0, 5.0, null], \"type\": \"bar\", \"uid\": \"16dff4f9-d611-11e8-8ddb-a41f72875c19\"}, {\"name\": \"\\u5b9e\\u9645\\u4ea4\\u4ed8\\u65f6\\u95f4(\\u6c88\\u6069\\u60e0)\", \"x\": [\"8\\u67086\\u5468\", \"9\\u67081\\u5468\", \"9\\u67082\\u5468\", \"9\\u67083\\u5468\", \"9\\u67084\\u5468\", \"10\\u67081\\u5468\", \"10\\u67082\\u5468\", \"10\\u67083\\u5468\"], \"y\": [null, 1.0, null, 1.0, null, 1.0, 1.0, null], \"type\": \"bar\", \"uid\": \"16dff4fa-d611-11e8-8ddb-a41f72875c19\"}, {\"name\": \"\\u5b9e\\u9645\\u4ea4\\u4ed8\\u65f6\\u95f4(\\u89e3\\u98de)\", \"x\": [\"8\\u67086\\u5468\", \"9\\u67081\\u5468\", \"9\\u67082\\u5468\", \"9\\u67083\\u5468\", \"9\\u67084\\u5468\", \"10\\u67081\\u5468\", \"10\\u67082\\u5468\", \"10\\u67083\\u5468\"], \"y\": [null, null, null, null, null, 1.0, 4.0, null], \"type\": \"bar\", \"uid\": \"16dff4fb-d611-11e8-8ddb-a41f72875c19\"}, {\"name\": \"\\u5b9e\\u9645\\u4ea4\\u4ed8\\u65f6\\u95f4(\\u9ad8\\u5251)\", \"x\": [\"8\\u67086\\u5468\", \"9\\u67081\\u5468\", \"9\\u67082\\u5468\", \"9\\u67083\\u5468\", \"9\\u67084\\u5468\", \"10\\u67081\\u5468\", \"10\\u67082\\u5468\", \"10\\u67083\\u5468\"], \"y\": [null, 1.0, null, null, null, null, null, null], \"type\": \"bar\", \"uid\": \"16dff4fc-d611-11e8-8ddb-a41f72875c19\"}, {\"name\": \"\\u5b9e\\u9645\\u4ea4\\u4ed8\\u65f6\\u95f4(\\u6768\\u4f1f\\u98de)\", \"x\": [\"8\\u67086\\u5468\", \"9\\u67081\\u5468\", \"9\\u67082\\u5468\", \"9\\u67083\\u5468\", \"9\\u67084\\u5468\", \"10\\u67081\\u5468\", \"10\\u67082\\u5468\", \"10\\u67083\\u5468\"], \"y\": [null, 1.0, 2.0, null, null, null, null, null], \"type\": \"bar\", \"uid\": \"16dff4fd-d611-11e8-8ddb-a41f72875c19\"}, {\"name\": \"\\u5b9e\\u9645\\u4ea4\\u4ed8\\u65f6\\u95f4(\\u5218\\u6c5f)\", \"x\": [\"8\\u67086\\u5468\", \"9\\u67081\\u5468\", \"9\\u67082\\u5468\", \"9\\u67083\\u5468\", \"9\\u67084\\u5468\", \"10\\u67081\\u5468\", \"10\\u67082\\u5468\", \"10\\u67083\\u5468\"], \"y\": [null, 1.0, 2.0, null, null, null, 1.0, null], \"type\": \"bar\", \"uid\": \"16dff4fe-d611-11e8-8ddb-a41f72875c19\"}, {\"name\": \"\\u5b9e\\u9645\\u4ea4\\u4ed8\\u65f6\\u95f4(\\u4e8e\\u6167)\", \"x\": [\"8\\u67086\\u5468\", \"9\\u67081\\u5468\", \"9\\u67082\\u5468\", \"9\\u67083\\u5468\", \"9\\u67084\\u5468\", \"10\\u67081\\u5468\", \"10\\u67082\\u5468\", \"10\\u67083\\u5468\"], \"y\": [null, 1.0, null, 1.0, null, null, 2.0, null], \"type\": \"bar\", \"uid\": \"16dff4ff-d611-11e8-8ddb-a41f72875c19\"}, {\"name\": \"\\u5b9e\\u9645\\u4ea4\\u4ed8\\u65f6\\u95f4(\\u95fb\\u5c11\\u6960)\", \"x\": [\"8\\u67086\\u5468\", \"9\\u67081\\u5468\", \"9\\u67082\\u5468\", \"9\\u67083\\u5468\", \"9\\u67084\\u5468\", \"10\\u67081\\u5468\", \"10\\u67082\\u5468\", \"10\\u67083\\u5468\"], \"y\": [null, null, 2.0, null, 2.0, 2.0, 2.0, null], \"type\": \"bar\", \"uid\": \"16dff500-d611-11e8-8ddb-a41f72875c19\"}, {\"name\": \"\\u5b9e\\u9645\\u4ea4\\u4ed8\\u65f6\\u95f4(\\u6c88\\u7acb\\u7fa4)\", \"x\": [\"8\\u67086\\u5468\", \"9\\u67081\\u5468\", \"9\\u67082\\u5468\", \"9\\u67083\\u5468\", \"9\\u67084\\u5468\", \"10\\u67081\\u5468\", \"10\\u67082\\u5468\", \"10\\u67083\\u5468\"], \"y\": [null, null, null, 1.0, null, null, 1.0, null], \"type\": \"bar\", \"uid\": \"16dff501-d611-11e8-8ddb-a41f72875c19\"}, {\"name\": \"\\u5b9e\\u9645\\u4ea4\\u4ed8\\u65f6\\u95f4(\\u5218\\u68a6\\u82d1)\", \"x\": [\"8\\u67086\\u5468\", \"9\\u67081\\u5468\", \"9\\u67082\\u5468\", \"9\\u67083\\u5468\", \"9\\u67084\\u5468\", \"10\\u67081\\u5468\", \"10\\u67082\\u5468\", \"10\\u67083\\u5468\"], \"y\": [1.0, 1.0, 1.0, 2.0, 1.0, 2.0, 5.0, null], \"type\": \"bar\", \"uid\": \"16dff502-d611-11e8-8ddb-a41f72875c19\"}, {\"name\": \"\\u5b9e\\u9645\\u4ea4\\u4ed8\\u65f6\\u95f4(\\u674e\\u534e\\u4e91)\", \"x\": [\"8\\u67086\\u5468\", \"9\\u67081\\u5468\", \"9\\u67082\\u5468\", \"9\\u67083\\u5468\", \"9\\u67084\\u5468\", \"10\\u67081\\u5468\", \"10\\u67082\\u5468\", \"10\\u67083\\u5468\"], \"y\": [null, null, 1.0, null, 1.0, null, null, null], \"type\": \"bar\", \"uid\": \"16dff503-d611-11e8-8ddb-a41f72875c19\"}, {\"name\": \"\\u5b9e\\u9645\\u4ea4\\u4ed8\\u65f6\\u95f4(\\u5360\\u4f1f)\", \"x\": [\"8\\u67086\\u5468\", \"9\\u67081\\u5468\", \"9\\u67082\\u5468\", \"9\\u67083\\u5468\", \"9\\u67084\\u5468\", \"10\\u67081\\u5468\", \"10\\u67082\\u5468\", \"10\\u67083\\u5468\"], \"y\": [null, null, 1.0, 1.0, null, null, null, null], \"type\": \"bar\", \"uid\": \"16dff504-d611-11e8-8ddb-a41f72875c19\"}, {\"name\": \"\\u5b9e\\u9645\\u4ea4\\u4ed8\\u65f6\\u95f4(\\u738b\\u4f20\\u6587)\", \"x\": [\"8\\u67086\\u5468\", \"9\\u67081\\u5468\", \"9\\u67082\\u5468\", \"9\\u67083\\u5468\", \"9\\u67084\\u5468\", \"10\\u67081\\u5468\", \"10\\u67082\\u5468\", \"10\\u67083\\u5468\"], \"y\": [null, null, null, 1.0, null, 1.0, 2.0, 2.0], \"type\": \"bar\", \"uid\": \"16dff505-d611-11e8-8ddb-a41f72875c19\"}, {\"name\": \"\\u5b9e\\u9645\\u4ea4\\u4ed8\\u65f6\\u95f4(\\u9648\\u78a7\\u96ef)\", \"x\": [\"8\\u67086\\u5468\", \"9\\u67081\\u5468\", \"9\\u67082\\u5468\", \"9\\u67083\\u5468\", \"9\\u67084\\u5468\", \"10\\u67081\\u5468\", \"10\\u67082\\u5468\", \"10\\u67083\\u5468\"], \"y\": [null, 4.0, 3.0, null, 1.0, 2.0, 1.0, null], \"type\": \"bar\", \"uid\": \"16dff506-d611-11e8-8ddb-a41f72875c19\"}, {\"name\": \"\\u5b9e\\u9645\\u4ea4\\u4ed8\\u65f6\\u95f4(\\u65bd\\u6bd3\\u82b7)\", \"x\": [\"8\\u67086\\u5468\", \"9\\u67081\\u5468\", \"9\\u67082\\u5468\", \"9\\u67083\\u5468\", \"9\\u67084\\u5468\", \"10\\u67081\\u5468\", \"10\\u67082\\u5468\", \"10\\u67083\\u5468\"], \"y\": [null, null, null, null, null, null, null, 1.0], \"type\": \"bar\", \"uid\": \"16dff507-d611-11e8-8ddb-a41f72875c19\"}, {\"name\": \"\\u5b9e\\u9645\\u4ea4\\u4ed8\\u65f6\\u95f4(\\u51b7\\u96ea)\", \"x\": [\"8\\u67086\\u5468\", \"9\\u67081\\u5468\", \"9\\u67082\\u5468\", \"9\\u67083\\u5468\", \"9\\u67084\\u5468\", \"10\\u67081\\u5468\", \"10\\u67082\\u5468\", \"10\\u67083\\u5468\"], \"y\": [1.0, null, 1.0, 2.0, 2.0, null, 1.0, null], \"type\": \"bar\", \"uid\": \"16dff508-d611-11e8-8ddb-a41f72875c19\"}, {\"name\": \"\\u5b9e\\u9645\\u4ea4\\u4ed8\\u65f6\\u95f4(\\u9773\\u751c\\u751c)\", \"x\": [\"8\\u67086\\u5468\", \"9\\u67081\\u5468\", \"9\\u67082\\u5468\", \"9\\u67083\\u5468\", \"9\\u67084\\u5468\", \"10\\u67081\\u5468\", \"10\\u67082\\u5468\", \"10\\u67083\\u5468\"], \"y\": [null, null, null, null, null, null, null, 1.0], \"type\": \"bar\", \"uid\": \"16dff509-d611-11e8-8ddb-a41f72875c19\"}, {\"name\": \"\\u5b9e\\u9645\\u4ea4\\u4ed8\\u65f6\\u95f4(\\u9a6c\\u6f47)\", \"x\": [\"8\\u67086\\u5468\", \"9\\u67081\\u5468\", \"9\\u67082\\u5468\", \"9\\u67083\\u5468\", \"9\\u67084\\u5468\", \"10\\u67081\\u5468\", \"10\\u67082\\u5468\", \"10\\u67083\\u5468\"], \"y\": [null, 2.0, 2.0, null, 2.0, null, 1.0, null], \"type\": \"bar\", \"uid\": \"16dff50a-d611-11e8-8ddb-a41f72875c19\"}, {\"name\": \"\\u5b9e\\u9645\\u4ea4\\u4ed8\\u65f6\\u95f4(\\u5c48\\u6602)\", \"x\": [\"8\\u67086\\u5468\", \"9\\u67081\\u5468\", \"9\\u67082\\u5468\", \"9\\u67083\\u5468\", \"9\\u67084\\u5468\", \"10\\u67081\\u5468\", \"10\\u67082\\u5468\", \"10\\u67083\\u5468\"], \"y\": [null, 1.0, null, 1.0, null, null, 1.0, null], \"type\": \"bar\", \"uid\": \"16dff50b-d611-11e8-8ddb-a41f72875c19\"}], {\"barmode\": \"stack\", \"title\": \"\\u5b9e\\u9645\\u4ea4\\u4ed8\\u65f6\\u95f4\\u5468\\u8d8b\\u52bf\\u56fe\", \"xaxis\": {\"mirror\": \"all\", \"nticks\": 20, \"showgrid\": true, \"showline\": true, \"title\": \"\\u5468\", \"type\": \"category\", \"zeroline\": true}, \"yaxis\": {\"mirror\": \"all\", \"nticks\": 20, \"showgrid\": true, \"showline\": true, \"title\": \"\\u5b9e\\u9645\\u4ea4\\u4ed8\\u65f6\\u95f4\", \"zeroline\": true}}, {\"showLink\": true, \"linkText\": \"Export to plot.ly\"})});</script>"
      ],
      "text/vnd.plotly.v1+html": [
       "<div id=\"40f31be7-df1e-4cf4-846d-15456a617f70\" style=\"height: 525px; width: 100%;\" class=\"plotly-graph-div\"></div><script type=\"text/javascript\">require([\"plotly\"], function(Plotly) { window.PLOTLYENV=window.PLOTLYENV || {};window.PLOTLYENV.BASE_URL=\"https://plot.ly\";Plotly.newPlot(\"40f31be7-df1e-4cf4-846d-15456a617f70\", [{\"name\": \"\\u5b9e\\u9645\\u4ea4\\u4ed8\\u65f6\\u95f4(\\u6731\\u6167\\u840d)\", \"x\": [\"8\\u67086\\u5468\", \"9\\u67081\\u5468\", \"9\\u67082\\u5468\", \"9\\u67083\\u5468\", \"9\\u67084\\u5468\", \"10\\u67081\\u5468\", \"10\\u67082\\u5468\", \"10\\u67083\\u5468\"], \"y\": [2.0, 5.0, 3.0, 2.0, 1.0, null, 3.0, null], \"type\": \"bar\", \"uid\": \"16dff4e7-d611-11e8-8ddb-a41f72875c19\"}, {\"name\": \"\\u5b9e\\u9645\\u4ea4\\u4ed8\\u65f6\\u95f4(\\u4f55\\u80dc)\", \"x\": [\"8\\u67086\\u5468\", \"9\\u67081\\u5468\", \"9\\u67082\\u5468\", \"9\\u67083\\u5468\", \"9\\u67084\\u5468\", \"10\\u67081\\u5468\", \"10\\u67082\\u5468\", \"10\\u67083\\u5468\"], \"y\": [2.0, 1.0, 4.0, 2.0, 1.0, 2.0, 2.0, null], \"type\": \"bar\", \"uid\": \"16dff4e8-d611-11e8-8ddb-a41f72875c19\"}, {\"name\": \"\\u5b9e\\u9645\\u4ea4\\u4ed8\\u65f6\\u95f4(\\u738b\\u971e)\", \"x\": [\"8\\u67086\\u5468\", \"9\\u67081\\u5468\", \"9\\u67082\\u5468\", \"9\\u67083\\u5468\", \"9\\u67084\\u5468\", \"10\\u67081\\u5468\", \"10\\u67082\\u5468\", \"10\\u67083\\u5468\"], \"y\": [null, 2.0, 3.0, 2.0, null, 2.0, 3.0, null], \"type\": \"bar\", \"uid\": \"16dff4e9-d611-11e8-8ddb-a41f72875c19\"}, {\"name\": \"\\u5b9e\\u9645\\u4ea4\\u4ed8\\u65f6\\u95f4(\\u9648\\u9e4f\\u71d5)\", \"x\": [\"8\\u67086\\u5468\", \"9\\u67081\\u5468\", \"9\\u67082\\u5468\", \"9\\u67083\\u5468\", \"9\\u67084\\u5468\", \"10\\u67081\\u5468\", \"10\\u67082\\u5468\", \"10\\u67083\\u5468\"], \"y\": [null, 3.0, 3.0, 4.0, 1.0, null, null, null], \"type\": \"bar\", \"uid\": \"16dff4ea-d611-11e8-8ddb-a41f72875c19\"}, {\"name\": \"\\u5b9e\\u9645\\u4ea4\\u4ed8\\u65f6\\u95f4(\\u5f20\\u60a6)\", \"x\": [\"8\\u67086\\u5468\", \"9\\u67081\\u5468\", \"9\\u67082\\u5468\", \"9\\u67083\\u5468\", \"9\\u67084\\u5468\", \"10\\u67081\\u5468\", \"10\\u67082\\u5468\", \"10\\u67083\\u5468\"], \"y\": [null, null, null, null, null, null, 1.0, null], \"type\": \"bar\", \"uid\": \"16dff4eb-d611-11e8-8ddb-a41f72875c19\"}, {\"name\": \"\\u5b9e\\u9645\\u4ea4\\u4ed8\\u65f6\\u95f4(\\u51af\\u656c\\u5ca9)\", \"x\": [\"8\\u67086\\u5468\", \"9\\u67081\\u5468\", \"9\\u67082\\u5468\", \"9\\u67083\\u5468\", \"9\\u67084\\u5468\", \"10\\u67081\\u5468\", \"10\\u67082\\u5468\", \"10\\u67083\\u5468\"], \"y\": [1.0, 2.0, 2.0, 3.0, 1.0, 4.0, 3.0, null], \"type\": \"bar\", \"uid\": \"16dff4ec-d611-11e8-8ddb-a41f72875c19\"}, {\"name\": \"\\u5b9e\\u9645\\u4ea4\\u4ed8\\u65f6\\u95f4(\\u97e9\\u5c11\\u6000)\", \"x\": [\"8\\u67086\\u5468\", \"9\\u67081\\u5468\", \"9\\u67082\\u5468\", \"9\\u67083\\u5468\", \"9\\u67084\\u5468\", \"10\\u67081\\u5468\", \"10\\u67082\\u5468\", \"10\\u67083\\u5468\"], \"y\": [null, null, null, null, 2.0, 1.0, 3.0, null], \"type\": \"bar\", \"uid\": \"16dff4ed-d611-11e8-8ddb-a41f72875c19\"}, {\"name\": \"\\u5b9e\\u9645\\u4ea4\\u4ed8\\u65f6\\u95f4(\\u6797\\u6587\\u6587)\", \"x\": [\"8\\u67086\\u5468\", \"9\\u67081\\u5468\", \"9\\u67082\\u5468\", \"9\\u67083\\u5468\", \"9\\u67084\\u5468\", \"10\\u67081\\u5468\", \"10\\u67082\\u5468\", \"10\\u67083\\u5468\"], \"y\": [null, null, 1.0, 1.0, null, null, null, null], \"type\": \"bar\", \"uid\": \"16dff4ee-d611-11e8-8ddb-a41f72875c19\"}, {\"name\": \"\\u5b9e\\u9645\\u4ea4\\u4ed8\\u65f6\\u95f4(\\u4e8e\\u52c7\\u4e00)\", \"x\": [\"8\\u67086\\u5468\", \"9\\u67081\\u5468\", \"9\\u67082\\u5468\", \"9\\u67083\\u5468\", \"9\\u67084\\u5468\", \"10\\u67081\\u5468\", \"10\\u67082\\u5468\", \"10\\u67083\\u5468\"], \"y\": [null, null, null, 1.0, null, null, null, null], \"type\": \"bar\", \"uid\": \"16dff4ef-d611-11e8-8ddb-a41f72875c19\"}, {\"name\": \"\\u5b9e\\u9645\\u4ea4\\u4ed8\\u65f6\\u95f4(\\u4efb\\u96ea)\", \"x\": [\"8\\u67086\\u5468\", \"9\\u67081\\u5468\", \"9\\u67082\\u5468\", \"9\\u67083\\u5468\", \"9\\u67084\\u5468\", \"10\\u67081\\u5468\", \"10\\u67082\\u5468\", \"10\\u67083\\u5468\"], \"y\": [null, null, null, null, null, null, 1.0, null], \"type\": \"bar\", \"uid\": \"16dff4f0-d611-11e8-8ddb-a41f72875c19\"}, {\"name\": \"\\u5b9e\\u9645\\u4ea4\\u4ed8\\u65f6\\u95f4(\\u6636\\u5409\\u9633)\", \"x\": [\"8\\u67086\\u5468\", \"9\\u67081\\u5468\", \"9\\u67082\\u5468\", \"9\\u67083\\u5468\", \"9\\u67084\\u5468\", \"10\\u67081\\u5468\", \"10\\u67082\\u5468\", \"10\\u67083\\u5468\"], \"y\": [null, 1.0, 2.0, null, null, 2.0, null, null], \"type\": \"bar\", \"uid\": \"16dff4f1-d611-11e8-8ddb-a41f72875c19\"}, {\"name\": \"\\u5b9e\\u9645\\u4ea4\\u4ed8\\u65f6\\u95f4(\\u5b8b\\u5c11\\u5b87)\", \"x\": [\"8\\u67086\\u5468\", \"9\\u67081\\u5468\", \"9\\u67082\\u5468\", \"9\\u67083\\u5468\", \"9\\u67084\\u5468\", \"10\\u67081\\u5468\", \"10\\u67082\\u5468\", \"10\\u67083\\u5468\"], \"y\": [null, 1.0, null, null, null, null, null, null], \"type\": \"bar\", \"uid\": \"16dff4f2-d611-11e8-8ddb-a41f72875c19\"}, {\"name\": \"\\u5b9e\\u9645\\u4ea4\\u4ed8\\u65f6\\u95f4(\\u59da\\u76df\\u6210)\", \"x\": [\"8\\u67086\\u5468\", \"9\\u67081\\u5468\", \"9\\u67082\\u5468\", \"9\\u67083\\u5468\", \"9\\u67084\\u5468\", \"10\\u67081\\u5468\", \"10\\u67082\\u5468\", \"10\\u67083\\u5468\"], \"y\": [null, null, 1.0, null, null, null, 1.0, null], \"type\": \"bar\", \"uid\": \"16dff4f3-d611-11e8-8ddb-a41f72875c19\"}, {\"name\": \"\\u5b9e\\u9645\\u4ea4\\u4ed8\\u65f6\\u95f4(\\u6bb5\\u5229\\u5f3a)\", \"x\": [\"8\\u67086\\u5468\", \"9\\u67081\\u5468\", \"9\\u67082\\u5468\", \"9\\u67083\\u5468\", \"9\\u67084\\u5468\", \"10\\u67081\\u5468\", \"10\\u67082\\u5468\", \"10\\u67083\\u5468\"], \"y\": [null, 1.0, 6.0, null, null, null, null, null], \"type\": \"bar\", \"uid\": \"16dff4f4-d611-11e8-8ddb-a41f72875c19\"}, {\"name\": \"\\u5b9e\\u9645\\u4ea4\\u4ed8\\u65f6\\u95f4(\\u8303\\u65ed\\u5b81)\", \"x\": [\"8\\u67086\\u5468\", \"9\\u67081\\u5468\", \"9\\u67082\\u5468\", \"9\\u67083\\u5468\", \"9\\u67084\\u5468\", \"10\\u67081\\u5468\", \"10\\u67082\\u5468\", \"10\\u67083\\u5468\"], \"y\": [null, null, 1.0, null, null, 1.0, null, null], \"type\": \"bar\", \"uid\": \"16dff4f5-d611-11e8-8ddb-a41f72875c19\"}, {\"name\": \"\\u5b9e\\u9645\\u4ea4\\u4ed8\\u65f6\\u95f4(\\u6768\\u5b87)\", \"x\": [\"8\\u67086\\u5468\", \"9\\u67081\\u5468\", \"9\\u67082\\u5468\", \"9\\u67083\\u5468\", \"9\\u67084\\u5468\", \"10\\u67081\\u5468\", \"10\\u67082\\u5468\", \"10\\u67083\\u5468\"], \"y\": [null, 1.0, 6.0, 1.0, null, null, 3.0, null], \"type\": \"bar\", \"uid\": \"16dff4f6-d611-11e8-8ddb-a41f72875c19\"}, {\"name\": \"\\u5b9e\\u9645\\u4ea4\\u4ed8\\u65f6\\u95f4(\\u5218\\u6c38\\u5f3a)\", \"x\": [\"8\\u67086\\u5468\", \"9\\u67081\\u5468\", \"9\\u67082\\u5468\", \"9\\u67083\\u5468\", \"9\\u67084\\u5468\", \"10\\u67081\\u5468\", \"10\\u67082\\u5468\", \"10\\u67083\\u5468\"], \"y\": [null, 1.0, null, null, null, 1.0, 1.0, null], \"type\": \"bar\", \"uid\": \"16dff4f7-d611-11e8-8ddb-a41f72875c19\"}, {\"name\": \"\\u5b9e\\u9645\\u4ea4\\u4ed8\\u65f6\\u95f4(\\u8f66\\u5929\\u680b)\", \"x\": [\"8\\u67086\\u5468\", \"9\\u67081\\u5468\", \"9\\u67082\\u5468\", \"9\\u67083\\u5468\", \"9\\u67084\\u5468\", \"10\\u67081\\u5468\", \"10\\u67082\\u5468\", \"10\\u67083\\u5468\"], \"y\": [null, 1.0, null, 1.0, null, null, 1.0, null], \"type\": \"bar\", \"uid\": \"16dff4f8-d611-11e8-8ddb-a41f72875c19\"}, {\"name\": \"\\u5b9e\\u9645\\u4ea4\\u4ed8\\u65f6\\u95f4(\\u8d75\\u5029)\", \"x\": [\"8\\u67086\\u5468\", \"9\\u67081\\u5468\", \"9\\u67082\\u5468\", \"9\\u67083\\u5468\", \"9\\u67084\\u5468\", \"10\\u67081\\u5468\", \"10\\u67082\\u5468\", \"10\\u67083\\u5468\"], \"y\": [1.0, 4.0, 4.0, 7.0, 1.0, 3.0, 5.0, null], \"type\": \"bar\", \"uid\": \"16dff4f9-d611-11e8-8ddb-a41f72875c19\"}, {\"name\": \"\\u5b9e\\u9645\\u4ea4\\u4ed8\\u65f6\\u95f4(\\u6c88\\u6069\\u60e0)\", \"x\": [\"8\\u67086\\u5468\", \"9\\u67081\\u5468\", \"9\\u67082\\u5468\", \"9\\u67083\\u5468\", \"9\\u67084\\u5468\", \"10\\u67081\\u5468\", \"10\\u67082\\u5468\", \"10\\u67083\\u5468\"], \"y\": [null, 1.0, null, 1.0, null, 1.0, 1.0, null], \"type\": \"bar\", \"uid\": \"16dff4fa-d611-11e8-8ddb-a41f72875c19\"}, {\"name\": \"\\u5b9e\\u9645\\u4ea4\\u4ed8\\u65f6\\u95f4(\\u89e3\\u98de)\", \"x\": [\"8\\u67086\\u5468\", \"9\\u67081\\u5468\", \"9\\u67082\\u5468\", \"9\\u67083\\u5468\", \"9\\u67084\\u5468\", \"10\\u67081\\u5468\", \"10\\u67082\\u5468\", \"10\\u67083\\u5468\"], \"y\": [null, null, null, null, null, 1.0, 4.0, null], \"type\": \"bar\", \"uid\": \"16dff4fb-d611-11e8-8ddb-a41f72875c19\"}, {\"name\": \"\\u5b9e\\u9645\\u4ea4\\u4ed8\\u65f6\\u95f4(\\u9ad8\\u5251)\", \"x\": [\"8\\u67086\\u5468\", \"9\\u67081\\u5468\", \"9\\u67082\\u5468\", \"9\\u67083\\u5468\", \"9\\u67084\\u5468\", \"10\\u67081\\u5468\", \"10\\u67082\\u5468\", \"10\\u67083\\u5468\"], \"y\": [null, 1.0, null, null, null, null, null, null], \"type\": \"bar\", \"uid\": \"16dff4fc-d611-11e8-8ddb-a41f72875c19\"}, {\"name\": \"\\u5b9e\\u9645\\u4ea4\\u4ed8\\u65f6\\u95f4(\\u6768\\u4f1f\\u98de)\", \"x\": [\"8\\u67086\\u5468\", \"9\\u67081\\u5468\", \"9\\u67082\\u5468\", \"9\\u67083\\u5468\", \"9\\u67084\\u5468\", \"10\\u67081\\u5468\", \"10\\u67082\\u5468\", \"10\\u67083\\u5468\"], \"y\": [null, 1.0, 2.0, null, null, null, null, null], \"type\": \"bar\", \"uid\": \"16dff4fd-d611-11e8-8ddb-a41f72875c19\"}, {\"name\": \"\\u5b9e\\u9645\\u4ea4\\u4ed8\\u65f6\\u95f4(\\u5218\\u6c5f)\", \"x\": [\"8\\u67086\\u5468\", \"9\\u67081\\u5468\", \"9\\u67082\\u5468\", \"9\\u67083\\u5468\", \"9\\u67084\\u5468\", \"10\\u67081\\u5468\", \"10\\u67082\\u5468\", \"10\\u67083\\u5468\"], \"y\": [null, 1.0, 2.0, null, null, null, 1.0, null], \"type\": \"bar\", \"uid\": \"16dff4fe-d611-11e8-8ddb-a41f72875c19\"}, {\"name\": \"\\u5b9e\\u9645\\u4ea4\\u4ed8\\u65f6\\u95f4(\\u4e8e\\u6167)\", \"x\": [\"8\\u67086\\u5468\", \"9\\u67081\\u5468\", \"9\\u67082\\u5468\", \"9\\u67083\\u5468\", \"9\\u67084\\u5468\", \"10\\u67081\\u5468\", \"10\\u67082\\u5468\", \"10\\u67083\\u5468\"], \"y\": [null, 1.0, null, 1.0, null, null, 2.0, null], \"type\": \"bar\", \"uid\": \"16dff4ff-d611-11e8-8ddb-a41f72875c19\"}, {\"name\": \"\\u5b9e\\u9645\\u4ea4\\u4ed8\\u65f6\\u95f4(\\u95fb\\u5c11\\u6960)\", \"x\": [\"8\\u67086\\u5468\", \"9\\u67081\\u5468\", \"9\\u67082\\u5468\", \"9\\u67083\\u5468\", \"9\\u67084\\u5468\", \"10\\u67081\\u5468\", \"10\\u67082\\u5468\", \"10\\u67083\\u5468\"], \"y\": [null, null, 2.0, null, 2.0, 2.0, 2.0, null], \"type\": \"bar\", \"uid\": \"16dff500-d611-11e8-8ddb-a41f72875c19\"}, {\"name\": \"\\u5b9e\\u9645\\u4ea4\\u4ed8\\u65f6\\u95f4(\\u6c88\\u7acb\\u7fa4)\", \"x\": [\"8\\u67086\\u5468\", \"9\\u67081\\u5468\", \"9\\u67082\\u5468\", \"9\\u67083\\u5468\", \"9\\u67084\\u5468\", \"10\\u67081\\u5468\", \"10\\u67082\\u5468\", \"10\\u67083\\u5468\"], \"y\": [null, null, null, 1.0, null, null, 1.0, null], \"type\": \"bar\", \"uid\": \"16dff501-d611-11e8-8ddb-a41f72875c19\"}, {\"name\": \"\\u5b9e\\u9645\\u4ea4\\u4ed8\\u65f6\\u95f4(\\u5218\\u68a6\\u82d1)\", \"x\": [\"8\\u67086\\u5468\", \"9\\u67081\\u5468\", \"9\\u67082\\u5468\", \"9\\u67083\\u5468\", \"9\\u67084\\u5468\", \"10\\u67081\\u5468\", \"10\\u67082\\u5468\", \"10\\u67083\\u5468\"], \"y\": [1.0, 1.0, 1.0, 2.0, 1.0, 2.0, 5.0, null], \"type\": \"bar\", \"uid\": \"16dff502-d611-11e8-8ddb-a41f72875c19\"}, {\"name\": \"\\u5b9e\\u9645\\u4ea4\\u4ed8\\u65f6\\u95f4(\\u674e\\u534e\\u4e91)\", \"x\": [\"8\\u67086\\u5468\", \"9\\u67081\\u5468\", \"9\\u67082\\u5468\", \"9\\u67083\\u5468\", \"9\\u67084\\u5468\", \"10\\u67081\\u5468\", \"10\\u67082\\u5468\", \"10\\u67083\\u5468\"], \"y\": [null, null, 1.0, null, 1.0, null, null, null], \"type\": \"bar\", \"uid\": \"16dff503-d611-11e8-8ddb-a41f72875c19\"}, {\"name\": \"\\u5b9e\\u9645\\u4ea4\\u4ed8\\u65f6\\u95f4(\\u5360\\u4f1f)\", \"x\": [\"8\\u67086\\u5468\", \"9\\u67081\\u5468\", \"9\\u67082\\u5468\", \"9\\u67083\\u5468\", \"9\\u67084\\u5468\", \"10\\u67081\\u5468\", \"10\\u67082\\u5468\", \"10\\u67083\\u5468\"], \"y\": [null, null, 1.0, 1.0, null, null, null, null], \"type\": \"bar\", \"uid\": \"16dff504-d611-11e8-8ddb-a41f72875c19\"}, {\"name\": \"\\u5b9e\\u9645\\u4ea4\\u4ed8\\u65f6\\u95f4(\\u738b\\u4f20\\u6587)\", \"x\": [\"8\\u67086\\u5468\", \"9\\u67081\\u5468\", \"9\\u67082\\u5468\", \"9\\u67083\\u5468\", \"9\\u67084\\u5468\", \"10\\u67081\\u5468\", \"10\\u67082\\u5468\", \"10\\u67083\\u5468\"], \"y\": [null, null, null, 1.0, null, 1.0, 2.0, 2.0], \"type\": \"bar\", \"uid\": \"16dff505-d611-11e8-8ddb-a41f72875c19\"}, {\"name\": \"\\u5b9e\\u9645\\u4ea4\\u4ed8\\u65f6\\u95f4(\\u9648\\u78a7\\u96ef)\", \"x\": [\"8\\u67086\\u5468\", \"9\\u67081\\u5468\", \"9\\u67082\\u5468\", \"9\\u67083\\u5468\", \"9\\u67084\\u5468\", \"10\\u67081\\u5468\", \"10\\u67082\\u5468\", \"10\\u67083\\u5468\"], \"y\": [null, 4.0, 3.0, null, 1.0, 2.0, 1.0, null], \"type\": \"bar\", \"uid\": \"16dff506-d611-11e8-8ddb-a41f72875c19\"}, {\"name\": \"\\u5b9e\\u9645\\u4ea4\\u4ed8\\u65f6\\u95f4(\\u65bd\\u6bd3\\u82b7)\", \"x\": [\"8\\u67086\\u5468\", \"9\\u67081\\u5468\", \"9\\u67082\\u5468\", \"9\\u67083\\u5468\", \"9\\u67084\\u5468\", \"10\\u67081\\u5468\", \"10\\u67082\\u5468\", \"10\\u67083\\u5468\"], \"y\": [null, null, null, null, null, null, null, 1.0], \"type\": \"bar\", \"uid\": \"16dff507-d611-11e8-8ddb-a41f72875c19\"}, {\"name\": \"\\u5b9e\\u9645\\u4ea4\\u4ed8\\u65f6\\u95f4(\\u51b7\\u96ea)\", \"x\": [\"8\\u67086\\u5468\", \"9\\u67081\\u5468\", \"9\\u67082\\u5468\", \"9\\u67083\\u5468\", \"9\\u67084\\u5468\", \"10\\u67081\\u5468\", \"10\\u67082\\u5468\", \"10\\u67083\\u5468\"], \"y\": [1.0, null, 1.0, 2.0, 2.0, null, 1.0, null], \"type\": \"bar\", \"uid\": \"16dff508-d611-11e8-8ddb-a41f72875c19\"}, {\"name\": \"\\u5b9e\\u9645\\u4ea4\\u4ed8\\u65f6\\u95f4(\\u9773\\u751c\\u751c)\", \"x\": [\"8\\u67086\\u5468\", \"9\\u67081\\u5468\", \"9\\u67082\\u5468\", \"9\\u67083\\u5468\", \"9\\u67084\\u5468\", \"10\\u67081\\u5468\", \"10\\u67082\\u5468\", \"10\\u67083\\u5468\"], \"y\": [null, null, null, null, null, null, null, 1.0], \"type\": \"bar\", \"uid\": \"16dff509-d611-11e8-8ddb-a41f72875c19\"}, {\"name\": \"\\u5b9e\\u9645\\u4ea4\\u4ed8\\u65f6\\u95f4(\\u9a6c\\u6f47)\", \"x\": [\"8\\u67086\\u5468\", \"9\\u67081\\u5468\", \"9\\u67082\\u5468\", \"9\\u67083\\u5468\", \"9\\u67084\\u5468\", \"10\\u67081\\u5468\", \"10\\u67082\\u5468\", \"10\\u67083\\u5468\"], \"y\": [null, 2.0, 2.0, null, 2.0, null, 1.0, null], \"type\": \"bar\", \"uid\": \"16dff50a-d611-11e8-8ddb-a41f72875c19\"}, {\"name\": \"\\u5b9e\\u9645\\u4ea4\\u4ed8\\u65f6\\u95f4(\\u5c48\\u6602)\", \"x\": [\"8\\u67086\\u5468\", \"9\\u67081\\u5468\", \"9\\u67082\\u5468\", \"9\\u67083\\u5468\", \"9\\u67084\\u5468\", \"10\\u67081\\u5468\", \"10\\u67082\\u5468\", \"10\\u67083\\u5468\"], \"y\": [null, 1.0, null, 1.0, null, null, 1.0, null], \"type\": \"bar\", \"uid\": \"16dff50b-d611-11e8-8ddb-a41f72875c19\"}], {\"barmode\": \"stack\", \"title\": \"\\u5b9e\\u9645\\u4ea4\\u4ed8\\u65f6\\u95f4\\u5468\\u8d8b\\u52bf\\u56fe\", \"xaxis\": {\"mirror\": \"all\", \"nticks\": 20, \"showgrid\": true, \"showline\": true, \"title\": \"\\u5468\", \"type\": \"category\", \"zeroline\": true}, \"yaxis\": {\"mirror\": \"all\", \"nticks\": 20, \"showgrid\": true, \"showline\": true, \"title\": \"\\u5b9e\\u9645\\u4ea4\\u4ed8\\u65f6\\u95f4\", \"zeroline\": true}}, {\"showLink\": true, \"linkText\": \"Export to plot.ly\"})});</script>"
      ]
     },
     "metadata": {},
     "output_type": "display_data"
    }
   ],
   "source": [
    "ss = myModule.format(df4 ,'week_number' ,['实际交付时间'])\n",
    "ss.add_group('信息负责人')\n",
    "pp = myModule.sort_by_index(ss.groupby('count'))\n",
    "myModule.myPlot(pp).plot('stack_bar')"
   ]
  },
  {
   "cell_type": "markdown",
   "metadata": {},
   "source": [
    "## 完成周期统计"
   ]
  },
  {
   "cell_type": "markdown",
   "metadata": {},
   "source": [
    "### 整体完成周期趋势图"
   ]
  },
  {
   "cell_type": "code",
   "execution_count": 231,
   "metadata": {
    "collapsed": false,
    "scrolled": true
   },
   "outputs": [
    {
     "data": {
      "application/vnd.plotly.v1+json": {
       "data": [
        {
         "name": "实际周期",
         "type": "scatter",
         "uid": "16dff50c-d611-11e8-8ddb-a41f72875c19",
         "x": [
          "8月6周",
          "9月1周",
          "9月2周",
          "9月3周",
          "9月4周",
          "10月1周",
          "10月2周",
          "10月3周"
         ],
         "y": [
          1.5,
          4.527777777777778,
          4.450980392156863,
          4.735294117647059,
          2.75,
          6.04,
          5.551020408163265,
          3.5
         ]
        }
       ],
       "layout": {
        "title": "实际周期周趋势图",
        "xaxis": {
         "mirror": "all",
         "nticks": 20,
         "showgrid": true,
         "showline": true,
         "title": "周",
         "type": "category",
         "zeroline": true
        },
        "yaxis": {
         "mirror": "all",
         "nticks": 20,
         "showgrid": true,
         "showline": true,
         "title": "实际周期",
         "zeroline": true
        }
       }
      },
      "text/html": [
       "<div id=\"4aec91dc-36ad-4eab-910f-fbd569bb0015\" style=\"height: 525px; width: 100%;\" class=\"plotly-graph-div\"></div><script type=\"text/javascript\">require([\"plotly\"], function(Plotly) { window.PLOTLYENV=window.PLOTLYENV || {};window.PLOTLYENV.BASE_URL=\"https://plot.ly\";Plotly.newPlot(\"4aec91dc-36ad-4eab-910f-fbd569bb0015\", [{\"name\": \"\\u5b9e\\u9645\\u5468\\u671f\", \"x\": [\"8\\u67086\\u5468\", \"9\\u67081\\u5468\", \"9\\u67082\\u5468\", \"9\\u67083\\u5468\", \"9\\u67084\\u5468\", \"10\\u67081\\u5468\", \"10\\u67082\\u5468\", \"10\\u67083\\u5468\"], \"y\": [1.5, 4.527777777777778, 4.450980392156863, 4.735294117647059, 2.75, 6.04, 5.551020408163265, 3.5], \"type\": \"scatter\", \"uid\": \"16dff50c-d611-11e8-8ddb-a41f72875c19\"}], {\"title\": \"\\u5b9e\\u9645\\u5468\\u671f\\u5468\\u8d8b\\u52bf\\u56fe\", \"xaxis\": {\"mirror\": \"all\", \"nticks\": 20, \"showgrid\": true, \"showline\": true, \"title\": \"\\u5468\", \"type\": \"category\", \"zeroline\": true}, \"yaxis\": {\"mirror\": \"all\", \"nticks\": 20, \"showgrid\": true, \"showline\": true, \"title\": \"\\u5b9e\\u9645\\u5468\\u671f\", \"zeroline\": true}}, {\"showLink\": true, \"linkText\": \"Export to plot.ly\"})});</script>"
      ],
      "text/vnd.plotly.v1+html": [
       "<div id=\"4aec91dc-36ad-4eab-910f-fbd569bb0015\" style=\"height: 525px; width: 100%;\" class=\"plotly-graph-div\"></div><script type=\"text/javascript\">require([\"plotly\"], function(Plotly) { window.PLOTLYENV=window.PLOTLYENV || {};window.PLOTLYENV.BASE_URL=\"https://plot.ly\";Plotly.newPlot(\"4aec91dc-36ad-4eab-910f-fbd569bb0015\", [{\"name\": \"\\u5b9e\\u9645\\u5468\\u671f\", \"x\": [\"8\\u67086\\u5468\", \"9\\u67081\\u5468\", \"9\\u67082\\u5468\", \"9\\u67083\\u5468\", \"9\\u67084\\u5468\", \"10\\u67081\\u5468\", \"10\\u67082\\u5468\", \"10\\u67083\\u5468\"], \"y\": [1.5, 4.527777777777778, 4.450980392156863, 4.735294117647059, 2.75, 6.04, 5.551020408163265, 3.5], \"type\": \"scatter\", \"uid\": \"16dff50c-d611-11e8-8ddb-a41f72875c19\"}], {\"title\": \"\\u5b9e\\u9645\\u5468\\u671f\\u5468\\u8d8b\\u52bf\\u56fe\", \"xaxis\": {\"mirror\": \"all\", \"nticks\": 20, \"showgrid\": true, \"showline\": true, \"title\": \"\\u5468\", \"type\": \"category\", \"zeroline\": true}, \"yaxis\": {\"mirror\": \"all\", \"nticks\": 20, \"showgrid\": true, \"showline\": true, \"title\": \"\\u5b9e\\u9645\\u5468\\u671f\", \"zeroline\": true}}, {\"showLink\": true, \"linkText\": \"Export to plot.ly\"})});</script>"
      ]
     },
     "metadata": {},
     "output_type": "display_data"
    }
   ],
   "source": [
    "# 实际完成平均周期，建议添加最长完成周期、25%、50%、80%项目完成周期的指标\n",
    "ss = myModule.format(df4 ,'week_number' ,['实际周期'])\n",
    "pp = myModule.sort_by_index(ss.groupby('mean'))\n",
    "myModule.myPlot(pp).plot('line')"
   ]
  },
  {
   "cell_type": "markdown",
   "metadata": {},
   "source": [
    "### 个人完成周期统计"
   ]
  },
  {
   "cell_type": "code",
   "execution_count": 232,
   "metadata": {
    "collapsed": false,
    "scrolled": true
   },
   "outputs": [
    {
     "data": {
      "application/vnd.plotly.v1+json": {
       "data": [
        {
         "name": "实际周期",
         "type": "bar",
         "uid": "16dff50d-d611-11e8-8ddb-a41f72875c19",
         "x": [
          "何胜",
          "冯敬岩",
          "刘梦苑",
          "刘永强",
          "宋少宇",
          "施毓芷",
          "朱慧萍",
          "杨宇",
          "王霞",
          "解飞",
          "赵倩",
          "闻少楠",
          "陈碧雯"
         ],
         "y": [
          4,
          3.5625,
          3.6153846153846154,
          8,
          1,
          3,
          4,
          5.2727272727272725,
          3.5833333333333335,
          6.2,
          5,
          4.375,
          4.636363636363637
         ]
        }
       ],
       "layout": {
        "title": "实际周期周趋势图",
        "xaxis": {
         "mirror": "all",
         "nticks": 20,
         "showgrid": true,
         "showline": true,
         "title": "周",
         "type": "category",
         "zeroline": true
        },
        "yaxis": {
         "mirror": "all",
         "nticks": 20,
         "showgrid": true,
         "showline": true,
         "title": "实际周期",
         "zeroline": true
        }
       }
      },
      "text/html": [
       "<div id=\"176a5990-4087-4edb-9718-a76ca5b2e517\" style=\"height: 525px; width: 100%;\" class=\"plotly-graph-div\"></div><script type=\"text/javascript\">require([\"plotly\"], function(Plotly) { window.PLOTLYENV=window.PLOTLYENV || {};window.PLOTLYENV.BASE_URL=\"https://plot.ly\";Plotly.newPlot(\"176a5990-4087-4edb-9718-a76ca5b2e517\", [{\"name\": \"\\u5b9e\\u9645\\u5468\\u671f\", \"x\": [\"\\u4f55\\u80dc\", \"\\u51af\\u656c\\u5ca9\", \"\\u5218\\u68a6\\u82d1\", \"\\u5218\\u6c38\\u5f3a\", \"\\u5b8b\\u5c11\\u5b87\", \"\\u65bd\\u6bd3\\u82b7\", \"\\u6731\\u6167\\u840d\", \"\\u6768\\u5b87\", \"\\u738b\\u971e\", \"\\u89e3\\u98de\", \"\\u8d75\\u5029\", \"\\u95fb\\u5c11\\u6960\", \"\\u9648\\u78a7\\u96ef\"], \"y\": [4.0, 3.5625, 3.6153846153846154, 8.0, 1.0, 3.0, 4.0, 5.2727272727272725, 3.5833333333333335, 6.2, 5.0, 4.375, 4.636363636363637], \"type\": \"bar\", \"uid\": \"16dff50d-d611-11e8-8ddb-a41f72875c19\"}], {\"title\": \"\\u5b9e\\u9645\\u5468\\u671f\\u5468\\u8d8b\\u52bf\\u56fe\", \"xaxis\": {\"mirror\": \"all\", \"nticks\": 20, \"showgrid\": true, \"showline\": true, \"title\": \"\\u5468\", \"type\": \"category\", \"zeroline\": true}, \"yaxis\": {\"mirror\": \"all\", \"nticks\": 20, \"showgrid\": true, \"showline\": true, \"title\": \"\\u5b9e\\u9645\\u5468\\u671f\", \"zeroline\": true}}, {\"showLink\": true, \"linkText\": \"Export to plot.ly\"})});</script>"
      ],
      "text/vnd.plotly.v1+html": [
       "<div id=\"176a5990-4087-4edb-9718-a76ca5b2e517\" style=\"height: 525px; width: 100%;\" class=\"plotly-graph-div\"></div><script type=\"text/javascript\">require([\"plotly\"], function(Plotly) { window.PLOTLYENV=window.PLOTLYENV || {};window.PLOTLYENV.BASE_URL=\"https://plot.ly\";Plotly.newPlot(\"176a5990-4087-4edb-9718-a76ca5b2e517\", [{\"name\": \"\\u5b9e\\u9645\\u5468\\u671f\", \"x\": [\"\\u4f55\\u80dc\", \"\\u51af\\u656c\\u5ca9\", \"\\u5218\\u68a6\\u82d1\", \"\\u5218\\u6c38\\u5f3a\", \"\\u5b8b\\u5c11\\u5b87\", \"\\u65bd\\u6bd3\\u82b7\", \"\\u6731\\u6167\\u840d\", \"\\u6768\\u5b87\", \"\\u738b\\u971e\", \"\\u89e3\\u98de\", \"\\u8d75\\u5029\", \"\\u95fb\\u5c11\\u6960\", \"\\u9648\\u78a7\\u96ef\"], \"y\": [4.0, 3.5625, 3.6153846153846154, 8.0, 1.0, 3.0, 4.0, 5.2727272727272725, 3.5833333333333335, 6.2, 5.0, 4.375, 4.636363636363637], \"type\": \"bar\", \"uid\": \"16dff50d-d611-11e8-8ddb-a41f72875c19\"}], {\"title\": \"\\u5b9e\\u9645\\u5468\\u671f\\u5468\\u8d8b\\u52bf\\u56fe\", \"xaxis\": {\"mirror\": \"all\", \"nticks\": 20, \"showgrid\": true, \"showline\": true, \"title\": \"\\u5468\", \"type\": \"category\", \"zeroline\": true}, \"yaxis\": {\"mirror\": \"all\", \"nticks\": 20, \"showgrid\": true, \"showline\": true, \"title\": \"\\u5b9e\\u9645\\u5468\\u671f\", \"zeroline\": true}}, {\"showLink\": true, \"linkText\": \"Export to plot.ly\"})});</script>"
      ]
     },
     "metadata": {},
     "output_type": "display_data"
    }
   ],
   "source": [
    "df4_fx = df4[df4['信息负责人'].isin(fenxi)] \n",
    "ss = myModule.format(df4_fx,'信息负责人' ,['实际周期'])\n",
    "pp = ss.groupby('mean')\n",
    "myModule.myPlot(pp).plot('bar')"
   ]
  },
  {
   "cell_type": "markdown",
   "metadata": {},
   "source": [
    "# 延期情况统计"
   ]
  },
  {
   "cell_type": "markdown",
   "metadata": {},
   "source": [
    "## 延期率趋势图"
   ]
  },
  {
   "cell_type": "code",
   "execution_count": 233,
   "metadata": {
    "collapsed": false,
    "scrolled": true
   },
   "outputs": [
    {
     "name": "stderr",
     "output_type": "stream",
     "text": [
      "/home/jiankong/jupyter/chart/bin/supplment_analysis/myModule.py:249: SettingWithCopyWarning:\n",
      "\n",
      "\n",
      "A value is trying to be set on a copy of a slice from a DataFrame.\n",
      "Try using .loc[row_indexer,col_indexer] = value instead\n",
      "\n",
      "See the caveats in the documentation: http://pandas.pydata.org/pandas-docs/stable/indexing.html#indexing-view-versus-copy\n",
      "\n",
      "/home/jiankong/anaconda3/lib/python3.6/site-packages/ipykernel/__main__.py:3: SettingWithCopyWarning:\n",
      "\n",
      "\n",
      "A value is trying to be set on a copy of a slice from a DataFrame.\n",
      "Try using .loc[row_indexer,col_indexer] = value instead\n",
      "\n",
      "See the caveats in the documentation: http://pandas.pydata.org/pandas-docs/stable/indexing.html#indexing-view-versus-copy\n",
      "\n",
      "/home/jiankong/anaconda3/lib/python3.6/site-packages/ipykernel/__main__.py:4: SettingWithCopyWarning:\n",
      "\n",
      "\n",
      "A value is trying to be set on a copy of a slice from a DataFrame.\n",
      "Try using .loc[row_indexer,col_indexer] = value instead\n",
      "\n",
      "See the caveats in the documentation: http://pandas.pydata.org/pandas-docs/stable/indexing.html#indexing-view-versus-copy\n",
      "\n"
     ]
    },
    {
     "data": {
      "application/vnd.plotly.v1+json": {
       "data": [
        {
         "name": "项目延期率",
         "type": "scatter",
         "uid": "1800809a-d611-11e8-8ddb-a41f72875c19",
         "x": [
          "9月1周",
          "9月2周",
          "9月3周",
          "9月4周",
          "10月1周",
          "10月2周",
          "10月3周",
          "10月4周"
         ],
         "y": [
          0,
          0,
          0.030303030303030304,
          0,
          0.25,
          0.12307692307692308,
          0.1875,
          0
         ]
        }
       ],
       "layout": {
        "title": "项目延期率周趋势图",
        "xaxis": {
         "mirror": "all",
         "nticks": 20,
         "showgrid": true,
         "showline": true,
         "title": "周",
         "type": "category",
         "zeroline": true
        },
        "yaxis": {
         "mirror": "all",
         "nticks": 20,
         "showgrid": true,
         "showline": true,
         "title": "项目延期率",
         "zeroline": true
        }
       }
      },
      "text/html": [
       "<div id=\"f580eaf8-d92e-4ed6-b637-2806d1065333\" style=\"height: 525px; width: 100%;\" class=\"plotly-graph-div\"></div><script type=\"text/javascript\">require([\"plotly\"], function(Plotly) { window.PLOTLYENV=window.PLOTLYENV || {};window.PLOTLYENV.BASE_URL=\"https://plot.ly\";Plotly.newPlot(\"f580eaf8-d92e-4ed6-b637-2806d1065333\", [{\"name\": \"\\u9879\\u76ee\\u5ef6\\u671f\\u7387\", \"x\": [\"9\\u67081\\u5468\", \"9\\u67082\\u5468\", \"9\\u67083\\u5468\", \"9\\u67084\\u5468\", \"10\\u67081\\u5468\", \"10\\u67082\\u5468\", \"10\\u67083\\u5468\", \"10\\u67084\\u5468\"], \"y\": [0.0, 0.0, 0.030303030303030304, 0.0, 0.25, 0.12307692307692308, 0.1875, 0.0], \"type\": \"scatter\", \"uid\": \"1800809a-d611-11e8-8ddb-a41f72875c19\"}], {\"title\": \"\\u9879\\u76ee\\u5ef6\\u671f\\u7387\\u5468\\u8d8b\\u52bf\\u56fe\", \"xaxis\": {\"mirror\": \"all\", \"nticks\": 20, \"showgrid\": true, \"showline\": true, \"title\": \"\\u5468\", \"type\": \"category\", \"zeroline\": true}, \"yaxis\": {\"mirror\": \"all\", \"nticks\": 20, \"showgrid\": true, \"showline\": true, \"title\": \"\\u9879\\u76ee\\u5ef6\\u671f\\u7387\", \"zeroline\": true}}, {\"showLink\": true, \"linkText\": \"Export to plot.ly\"})});</script>"
      ],
      "text/vnd.plotly.v1+html": [
       "<div id=\"f580eaf8-d92e-4ed6-b637-2806d1065333\" style=\"height: 525px; width: 100%;\" class=\"plotly-graph-div\"></div><script type=\"text/javascript\">require([\"plotly\"], function(Plotly) { window.PLOTLYENV=window.PLOTLYENV || {};window.PLOTLYENV.BASE_URL=\"https://plot.ly\";Plotly.newPlot(\"f580eaf8-d92e-4ed6-b637-2806d1065333\", [{\"name\": \"\\u9879\\u76ee\\u5ef6\\u671f\\u7387\", \"x\": [\"9\\u67081\\u5468\", \"9\\u67082\\u5468\", \"9\\u67083\\u5468\", \"9\\u67084\\u5468\", \"10\\u67081\\u5468\", \"10\\u67082\\u5468\", \"10\\u67083\\u5468\", \"10\\u67084\\u5468\"], \"y\": [0.0, 0.0, 0.030303030303030304, 0.0, 0.25, 0.12307692307692308, 0.1875, 0.0], \"type\": \"scatter\", \"uid\": \"1800809a-d611-11e8-8ddb-a41f72875c19\"}], {\"title\": \"\\u9879\\u76ee\\u5ef6\\u671f\\u7387\\u5468\\u8d8b\\u52bf\\u56fe\", \"xaxis\": {\"mirror\": \"all\", \"nticks\": 20, \"showgrid\": true, \"showline\": true, \"title\": \"\\u5468\", \"type\": \"category\", \"zeroline\": true}, \"yaxis\": {\"mirror\": \"all\", \"nticks\": 20, \"showgrid\": true, \"showline\": true, \"title\": \"\\u9879\\u76ee\\u5ef6\\u671f\\u7387\", \"zeroline\": true}}, {\"showLink\": true, \"linkText\": \"Export to plot.ly\"})});</script>"
      ]
     },
     "metadata": {},
     "output_type": "display_data"
    }
   ],
   "source": [
    "ss = myModule.format(df5 ,'week_number' ,['流水号','延期天数'])\n",
    "ss.judge_and_replace('延期天数',1)\n",
    "ss.df['流水号'] = list(map(changetype2, ss.df['流水号']))\n",
    "ss.df['延期天数_bool'] = ss.df['延期天数_bool'].astype(int)      #bool类型装换为数值1/0\n",
    "pp = myModule.sort_by_index(ss.get_total_ratio([['项目延期率' ,'延期天数_bool' , '流水号','/']]))\n",
    "myModule.myPlot(pp).plot('line')"
   ]
  },
  {
   "cell_type": "markdown",
   "metadata": {},
   "source": [
    "## 延期项目列表"
   ]
  },
  {
   "cell_type": "code",
   "execution_count": 234,
   "metadata": {
    "collapsed": false
   },
   "outputs": [
    {
     "data": {
      "text/html": [
       "<div>\n",
       "<style scoped>\n",
       "    .dataframe tbody tr th:only-of-type {\n",
       "        vertical-align: middle;\n",
       "    }\n",
       "\n",
       "    .dataframe tbody tr th {\n",
       "        vertical-align: top;\n",
       "    }\n",
       "\n",
       "    .dataframe thead th {\n",
       "        text-align: right;\n",
       "    }\n",
       "</style>\n",
       "<table border=\"1\" class=\"dataframe\">\n",
       "  <thead>\n",
       "    <tr style=\"text-align: right;\">\n",
       "      <th></th>\n",
       "      <th>week_number</th>\n",
       "      <th>流水号</th>\n",
       "      <th>个性化分析名称</th>\n",
       "      <th>信息负责人</th>\n",
       "      <th>评估反馈时间</th>\n",
       "      <th>预计交付时间</th>\n",
       "      <th>实际交付时间</th>\n",
       "    </tr>\n",
       "  </thead>\n",
       "  <tbody>\n",
       "    <tr>\n",
       "      <th>237</th>\n",
       "      <td>10月2周</td>\n",
       "      <td>20181010-010</td>\n",
       "      <td>PM-GD170317-01深圳市人民医院16个人6mA建库测序分析任务单-03</td>\n",
       "      <td>宋少宇</td>\n",
       "      <td>2018-10-11</td>\n",
       "      <td>2018-10-18</td>\n",
       "      <td>0</td>\n",
       "    </tr>\n",
       "    <tr>\n",
       "      <th>238</th>\n",
       "      <td>10月2周</td>\n",
       "      <td>20181010-011</td>\n",
       "      <td>PM-GD170317-01深圳市人民医院16个人6mA建库测序分析任务单-04</td>\n",
       "      <td>宋少宇</td>\n",
       "      <td>2018-10-11</td>\n",
       "      <td>2018-10-18</td>\n",
       "      <td>0</td>\n",
       "    </tr>\n",
       "    <tr>\n",
       "      <th>239</th>\n",
       "      <td>10月2周</td>\n",
       "      <td>20181010-012</td>\n",
       "      <td>PM-GD170317-01深圳市人民医院16个人6mA建库测序分析任务单-05</td>\n",
       "      <td>宋少宇</td>\n",
       "      <td>2018-10-11</td>\n",
       "      <td>2018-10-18</td>\n",
       "      <td>0</td>\n",
       "    </tr>\n",
       "    <tr>\n",
       "      <th>279</th>\n",
       "      <td>10月2周</td>\n",
       "      <td>20181015-008</td>\n",
       "      <td>PM-BJ181079-03动物所9个小鼠Bisulfite甲基化建库测序分析任务单-05</td>\n",
       "      <td>韩少怀</td>\n",
       "      <td>2018-10-16</td>\n",
       "      <td>2018-10-17</td>\n",
       "      <td>0</td>\n",
       "    </tr>\n",
       "    <tr>\n",
       "      <th>190</th>\n",
       "      <td>10月2周</td>\n",
       "      <td>20180929-005</td>\n",
       "      <td>PM-GD170317-01深圳市人民医院16个人6mA建库测序分析任务单-01</td>\n",
       "      <td>宋少宇</td>\n",
       "      <td>2018-10-08</td>\n",
       "      <td>2018-10-16</td>\n",
       "      <td>0</td>\n",
       "    </tr>\n",
       "    <tr>\n",
       "      <th>195</th>\n",
       "      <td>10月2周</td>\n",
       "      <td>20180930-003</td>\n",
       "      <td>PM-SD180234-01山东省立医院78个人肿瘤外显子建库测序自动化分析任务单-01</td>\n",
       "      <td>封彦杰</td>\n",
       "      <td>2018-10-08</td>\n",
       "      <td>2018-10-16</td>\n",
       "      <td>0</td>\n",
       "    </tr>\n",
       "    <tr>\n",
       "      <th>207</th>\n",
       "      <td>10月2周</td>\n",
       "      <td>20181008-010</td>\n",
       "      <td>PM-GD170317-01深圳市人民医院16个人6mA建库测序分析任务单-02</td>\n",
       "      <td>宋少宇</td>\n",
       "      <td>2018-10-09</td>\n",
       "      <td>2018-10-16</td>\n",
       "      <td>0</td>\n",
       "    </tr>\n",
       "    <tr>\n",
       "      <th>156</th>\n",
       "      <td>10月2周</td>\n",
       "      <td>20180925-007</td>\n",
       "      <td>PM-SD170191-02山东大学生殖医学研究中心1个人hic文库测序分析任务单-VIP-02</td>\n",
       "      <td>范旭宁</td>\n",
       "      <td>2018-09-26</td>\n",
       "      <td>2018-10-15</td>\n",
       "      <td>0</td>\n",
       "    </tr>\n",
       "  </tbody>\n",
       "</table>\n",
       "</div>"
      ],
      "text/plain": [
       "    week_number           流水号  \\\n",
       "237       10月2周  20181010-010   \n",
       "238       10月2周  20181010-011   \n",
       "239       10月2周  20181010-012   \n",
       "279       10月2周  20181015-008   \n",
       "190       10月2周  20180929-005   \n",
       "195       10月2周  20180930-003   \n",
       "207       10月2周  20181008-010   \n",
       "156       10月2周  20180925-007   \n",
       "\n",
       "                                              个性化分析名称 信息负责人     评估反馈时间  \\\n",
       "237          PM-GD170317-01深圳市人民医院16个人6mA建库测序分析任务单-03   宋少宇 2018-10-11   \n",
       "238          PM-GD170317-01深圳市人民医院16个人6mA建库测序分析任务单-04   宋少宇 2018-10-11   \n",
       "239          PM-GD170317-01深圳市人民医院16个人6mA建库测序分析任务单-05   宋少宇 2018-10-11   \n",
       "279     PM-BJ181079-03动物所9个小鼠Bisulfite甲基化建库测序分析任务单-05   韩少怀 2018-10-16   \n",
       "190          PM-GD170317-01深圳市人民医院16个人6mA建库测序分析任务单-01   宋少宇 2018-10-08   \n",
       "195      PM-SD180234-01山东省立医院78个人肿瘤外显子建库测序自动化分析任务单-01   封彦杰 2018-10-08   \n",
       "207          PM-GD170317-01深圳市人民医院16个人6mA建库测序分析任务单-02   宋少宇 2018-10-09   \n",
       "156  PM-SD170191-02山东大学生殖医学研究中心1个人hic文库测序分析任务单-VIP-02   范旭宁 2018-09-26   \n",
       "\n",
       "        预计交付时间 实际交付时间  \n",
       "237 2018-10-18      0  \n",
       "238 2018-10-18      0  \n",
       "239 2018-10-18      0  \n",
       "279 2018-10-17      0  \n",
       "190 2018-10-16      0  \n",
       "195 2018-10-16      0  \n",
       "207 2018-10-16      0  \n",
       "156 2018-10-15      0  "
      ]
     },
     "execution_count": 234,
     "metadata": {},
     "output_type": "execute_result"
    }
   ],
   "source": [
    "ss = myModule.format(df5,'week_number',['流水号','个性化分析名称','信息负责人','评估反馈时间','预计交付时间','实际交付时间','延期天数'])\n",
    "ss.select_by_value('week_number',stat_week)\n",
    "ss.judge_and_replace('延期天数',1)\n",
    "ss.select_by_value('延期天数_bool',True)\n",
    "tt = myModule.format(ss.df,'week_number',['流水号','个性化分析名称','信息负责人','评估反馈时间','预计交付时间','实际交付时间']).df\n",
    "tt.sort_values(by = '预计交付时间',axis = 0,ascending = False)"
   ]
  },
  {
   "cell_type": "markdown",
   "metadata": {},
   "source": [
    "# 7日完成率统计"
   ]
  },
  {
   "cell_type": "markdown",
   "metadata": {},
   "source": [
    "##  7日完成率趋势图"
   ]
  },
  {
   "cell_type": "code",
   "execution_count": 235,
   "metadata": {
    "collapsed": false,
    "scrolled": true
   },
   "outputs": [
    {
     "name": "stderr",
     "output_type": "stream",
     "text": [
      "/home/jiankong/jupyter/chart/bin/supplment_analysis/myModule.py:249: SettingWithCopyWarning:\n",
      "\n",
      "\n",
      "A value is trying to be set on a copy of a slice from a DataFrame.\n",
      "Try using .loc[row_indexer,col_indexer] = value instead\n",
      "\n",
      "See the caveats in the documentation: http://pandas.pydata.org/pandas-docs/stable/indexing.html#indexing-view-versus-copy\n",
      "\n",
      "/home/jiankong/anaconda3/lib/python3.6/site-packages/ipykernel/__main__.py:3: SettingWithCopyWarning:\n",
      "\n",
      "\n",
      "A value is trying to be set on a copy of a slice from a DataFrame.\n",
      "Try using .loc[row_indexer,col_indexer] = value instead\n",
      "\n",
      "See the caveats in the documentation: http://pandas.pydata.org/pandas-docs/stable/indexing.html#indexing-view-versus-copy\n",
      "\n",
      "/home/jiankong/anaconda3/lib/python3.6/site-packages/ipykernel/__main__.py:4: SettingWithCopyWarning:\n",
      "\n",
      "\n",
      "A value is trying to be set on a copy of a slice from a DataFrame.\n",
      "Try using .loc[row_indexer,col_indexer] = value instead\n",
      "\n",
      "See the caveats in the documentation: http://pandas.pydata.org/pandas-docs/stable/indexing.html#indexing-view-versus-copy\n",
      "\n"
     ]
    },
    {
     "data": {
      "application/vnd.plotly.v1+json": {
       "data": [
        {
         "name": "7日完成率",
         "type": "scatter",
         "uid": "1800809b-d611-11e8-8ddb-a41f72875c19",
         "x": [
          "8月6周",
          "9月1周",
          "9月2周",
          "9月3周",
          "9月4周",
          "10月1周",
          "10月2周",
          "10月3周"
         ],
         "y": [
          0,
          0.027777777777777776,
          0.058823529411764705,
          0.14705882352941177,
          0,
          0.4,
          0.20408163265306123,
          0
         ]
        }
       ],
       "layout": {
        "title": "7日完成率周趋势图",
        "xaxis": {
         "mirror": "all",
         "nticks": 20,
         "showgrid": true,
         "showline": true,
         "title": "周",
         "type": "category",
         "zeroline": true
        },
        "yaxis": {
         "mirror": "all",
         "nticks": 20,
         "showgrid": true,
         "showline": true,
         "title": "7日完成率",
         "zeroline": true
        }
       }
      },
      "text/html": [
       "<div id=\"2b05030c-bcb1-4808-9b94-cbad387b0d82\" style=\"height: 525px; width: 100%;\" class=\"plotly-graph-div\"></div><script type=\"text/javascript\">require([\"plotly\"], function(Plotly) { window.PLOTLYENV=window.PLOTLYENV || {};window.PLOTLYENV.BASE_URL=\"https://plot.ly\";Plotly.newPlot(\"2b05030c-bcb1-4808-9b94-cbad387b0d82\", [{\"name\": \"7\\u65e5\\u5b8c\\u6210\\u7387\", \"x\": [\"8\\u67086\\u5468\", \"9\\u67081\\u5468\", \"9\\u67082\\u5468\", \"9\\u67083\\u5468\", \"9\\u67084\\u5468\", \"10\\u67081\\u5468\", \"10\\u67082\\u5468\", \"10\\u67083\\u5468\"], \"y\": [0.0, 0.027777777777777776, 0.058823529411764705, 0.14705882352941177, 0.0, 0.4, 0.20408163265306123, 0.0], \"type\": \"scatter\", \"uid\": \"1800809b-d611-11e8-8ddb-a41f72875c19\"}], {\"title\": \"7\\u65e5\\u5b8c\\u6210\\u7387\\u5468\\u8d8b\\u52bf\\u56fe\", \"xaxis\": {\"mirror\": \"all\", \"nticks\": 20, \"showgrid\": true, \"showline\": true, \"title\": \"\\u5468\", \"type\": \"category\", \"zeroline\": true}, \"yaxis\": {\"mirror\": \"all\", \"nticks\": 20, \"showgrid\": true, \"showline\": true, \"title\": \"7\\u65e5\\u5b8c\\u6210\\u7387\", \"zeroline\": true}}, {\"showLink\": true, \"linkText\": \"Export to plot.ly\"})});</script>"
      ],
      "text/vnd.plotly.v1+html": [
       "<div id=\"2b05030c-bcb1-4808-9b94-cbad387b0d82\" style=\"height: 525px; width: 100%;\" class=\"plotly-graph-div\"></div><script type=\"text/javascript\">require([\"plotly\"], function(Plotly) { window.PLOTLYENV=window.PLOTLYENV || {};window.PLOTLYENV.BASE_URL=\"https://plot.ly\";Plotly.newPlot(\"2b05030c-bcb1-4808-9b94-cbad387b0d82\", [{\"name\": \"7\\u65e5\\u5b8c\\u6210\\u7387\", \"x\": [\"8\\u67086\\u5468\", \"9\\u67081\\u5468\", \"9\\u67082\\u5468\", \"9\\u67083\\u5468\", \"9\\u67084\\u5468\", \"10\\u67081\\u5468\", \"10\\u67082\\u5468\", \"10\\u67083\\u5468\"], \"y\": [0.0, 0.027777777777777776, 0.058823529411764705, 0.14705882352941177, 0.0, 0.4, 0.20408163265306123, 0.0], \"type\": \"scatter\", \"uid\": \"1800809b-d611-11e8-8ddb-a41f72875c19\"}], {\"title\": \"7\\u65e5\\u5b8c\\u6210\\u7387\\u5468\\u8d8b\\u52bf\\u56fe\", \"xaxis\": {\"mirror\": \"all\", \"nticks\": 20, \"showgrid\": true, \"showline\": true, \"title\": \"\\u5468\", \"type\": \"category\", \"zeroline\": true}, \"yaxis\": {\"mirror\": \"all\", \"nticks\": 20, \"showgrid\": true, \"showline\": true, \"title\": \"7\\u65e5\\u5b8c\\u6210\\u7387\", \"zeroline\": true}}, {\"showLink\": true, \"linkText\": \"Export to plot.ly\"})});</script>"
      ]
     },
     "metadata": {},
     "output_type": "display_data"
    }
   ],
   "source": [
    "ss = myModule.format(df4 ,'week_number' ,['流水号','实际周期'])\n",
    "ss.judge_and_replace('实际周期',7)   # 建议添加小于号\n",
    "ss.df['流水号'] = list(map(changetype2, ss.df['流水号']))\n",
    "ss.df['实际周期_bool'] = ss.df['实际周期_bool'].astype(int)      #bool类型装换为数值1/0\n",
    "pp = myModule.sort_by_index(ss.get_total_ratio([['7日完成率' ,'实际周期_bool' , '流水号','/']]))\n",
    "myModule.myPlot(pp).plot('line')"
   ]
  },
  {
   "cell_type": "markdown",
   "metadata": {
    "collapsed": true
   },
   "source": [
    "## 实际周期>7日项目列表"
   ]
  },
  {
   "cell_type": "code",
   "execution_count": 236,
   "metadata": {
    "collapsed": false,
    "scrolled": true
   },
   "outputs": [
    {
     "data": {
      "text/html": [
       "<div>\n",
       "<style scoped>\n",
       "    .dataframe tbody tr th:only-of-type {\n",
       "        vertical-align: middle;\n",
       "    }\n",
       "\n",
       "    .dataframe tbody tr th {\n",
       "        vertical-align: top;\n",
       "    }\n",
       "\n",
       "    .dataframe thead th {\n",
       "        text-align: right;\n",
       "    }\n",
       "</style>\n",
       "<table border=\"1\" class=\"dataframe\">\n",
       "  <thead>\n",
       "    <tr style=\"text-align: right;\">\n",
       "      <th></th>\n",
       "      <th>week_number</th>\n",
       "      <th>流水号</th>\n",
       "      <th>个性化分析名称</th>\n",
       "      <th>信息负责人</th>\n",
       "      <th>评估反馈时间</th>\n",
       "      <th>实际交付时间</th>\n",
       "      <th>实际周期</th>\n",
       "    </tr>\n",
       "  </thead>\n",
       "  <tbody>\n",
       "    <tr>\n",
       "      <th>124</th>\n",
       "      <td>10月2周</td>\n",
       "      <td>20180920-003</td>\n",
       "      <td>PM-BJ170057-01、02/03北京蛋白质组研究中心4个小鼠10XGenomics文...</td>\n",
       "      <td>姚盟成</td>\n",
       "      <td>2018-09-20</td>\n",
       "      <td>2018-10-12</td>\n",
       "      <td>22</td>\n",
       "    </tr>\n",
       "    <tr>\n",
       "      <th>178</th>\n",
       "      <td>10月2周</td>\n",
       "      <td>20180927-006</td>\n",
       "      <td>PM-ZJ180327-01浙医二院35个人普通转录组建库测序过滤任务单-快速产品-01</td>\n",
       "      <td>屈昂</td>\n",
       "      <td>2018-09-30</td>\n",
       "      <td>2018-10-16</td>\n",
       "      <td>16</td>\n",
       "    </tr>\n",
       "    <tr>\n",
       "      <th>194</th>\n",
       "      <td>10月2周</td>\n",
       "      <td>20180930-002</td>\n",
       "      <td>PM-GD180479-01中山大学6个人有参普通转录组建库测序分析任务单-快速产品-02</td>\n",
       "      <td>杨宇</td>\n",
       "      <td>2018-09-30</td>\n",
       "      <td>2018-10-15</td>\n",
       "      <td>15</td>\n",
       "    </tr>\n",
       "    <tr>\n",
       "      <th>179</th>\n",
       "      <td>10月2周</td>\n",
       "      <td>20180927-007</td>\n",
       "      <td>BJ180998-02中药所1个药用动物S4基因组denovo只分析任务单</td>\n",
       "      <td>马潇</td>\n",
       "      <td>2018-09-28</td>\n",
       "      <td>2018-10-12</td>\n",
       "      <td>14</td>\n",
       "    </tr>\n",
       "    <tr>\n",
       "      <th>193</th>\n",
       "      <td>10月2周</td>\n",
       "      <td>20180930-001</td>\n",
       "      <td>SD170077-01山东大学齐鲁医院王刚的6个人单基因病外显子建库测序分析任务单-01</td>\n",
       "      <td>解飞</td>\n",
       "      <td>2018-09-30</td>\n",
       "      <td>2018-10-12</td>\n",
       "      <td>12</td>\n",
       "    </tr>\n",
       "    <tr>\n",
       "      <th>198</th>\n",
       "      <td>10月2周</td>\n",
       "      <td>20181008-001</td>\n",
       "      <td>PM-YWHB180262-01华科协和医院2个人全基因组重测序建库测序分析任务单-快速产品-01</td>\n",
       "      <td>车天栋</td>\n",
       "      <td>2018-10-08</td>\n",
       "      <td>2018-10-18</td>\n",
       "      <td>10</td>\n",
       "    </tr>\n",
       "    <tr>\n",
       "      <th>203</th>\n",
       "      <td>10月2周</td>\n",
       "      <td>20181008-006</td>\n",
       "      <td>PM-BJ180807-01医科院药物所15个人有参转录组建库测序分析任务单-01</td>\n",
       "      <td>冯敬岩</td>\n",
       "      <td>2018-10-09</td>\n",
       "      <td>2018-10-18</td>\n",
       "      <td>9</td>\n",
       "    </tr>\n",
       "    <tr>\n",
       "      <th>217</th>\n",
       "      <td>10月2周</td>\n",
       "      <td>20181009-009</td>\n",
       "      <td>PM-YWJS180225-01徐州市中心医院20个大鼠粪便宏基因组建库测序过滤任务单-快速产品</td>\n",
       "      <td>冷雪</td>\n",
       "      <td>2018-10-09</td>\n",
       "      <td>2018-10-18</td>\n",
       "      <td>9</td>\n",
       "    </tr>\n",
       "    <tr>\n",
       "      <th>221</th>\n",
       "      <td>10月2周</td>\n",
       "      <td>20181009-013</td>\n",
       "      <td>SD170174-04山东农大1个芒属植物Hi-C辅助基因组组装只分析任务单</td>\n",
       "      <td>刘江</td>\n",
       "      <td>2018-10-09</td>\n",
       "      <td>2018-10-17</td>\n",
       "      <td>8</td>\n",
       "    </tr>\n",
       "    <tr>\n",
       "      <th>234</th>\n",
       "      <td>10月2周</td>\n",
       "      <td>20181010-007</td>\n",
       "      <td>PM-BJ181079-03动物所9个小鼠Bisulfite甲基化建库测序分析任务单-04</td>\n",
       "      <td>韩少怀</td>\n",
       "      <td>2018-10-10</td>\n",
       "      <td>2018-10-18</td>\n",
       "      <td>8</td>\n",
       "    </tr>\n",
       "  </tbody>\n",
       "</table>\n",
       "</div>"
      ],
      "text/plain": [
       "    week_number           流水号  \\\n",
       "124       10月2周  20180920-003   \n",
       "178       10月2周  20180927-006   \n",
       "194       10月2周  20180930-002   \n",
       "179       10月2周  20180927-007   \n",
       "193       10月2周  20180930-001   \n",
       "198       10月2周  20181008-001   \n",
       "203       10月2周  20181008-006   \n",
       "217       10月2周  20181009-009   \n",
       "221       10月2周  20181009-013   \n",
       "234       10月2周  20181010-007   \n",
       "\n",
       "                                               个性化分析名称 信息负责人     评估反馈时间  \\\n",
       "124  PM-BJ170057-01、02/03北京蛋白质组研究中心4个小鼠10XGenomics文...   姚盟成 2018-09-20   \n",
       "178       PM-ZJ180327-01浙医二院35个人普通转录组建库测序过滤任务单-快速产品-01    屈昂 2018-09-30   \n",
       "194      PM-GD180479-01中山大学6个人有参普通转录组建库测序分析任务单-快速产品-02    杨宇 2018-09-30   \n",
       "179              BJ180998-02中药所1个药用动物S4基因组denovo只分析任务单    马潇 2018-09-28   \n",
       "193       SD170077-01山东大学齐鲁医院王刚的6个人单基因病外显子建库测序分析任务单-01    解飞 2018-09-30   \n",
       "198  PM-YWHB180262-01华科协和医院2个人全基因组重测序建库测序分析任务单-快速产品-01   车天栋 2018-10-08   \n",
       "203          PM-BJ180807-01医科院药物所15个人有参转录组建库测序分析任务单-01   冯敬岩 2018-10-09   \n",
       "217   PM-YWJS180225-01徐州市中心医院20个大鼠粪便宏基因组建库测序过滤任务单-快速产品    冷雪 2018-10-09   \n",
       "221             SD170174-04山东农大1个芒属植物Hi-C辅助基因组组装只分析任务单    刘江 2018-10-09   \n",
       "234      PM-BJ181079-03动物所9个小鼠Bisulfite甲基化建库测序分析任务单-04   韩少怀 2018-10-10   \n",
       "\n",
       "        实际交付时间  实际周期  \n",
       "124 2018-10-12    22  \n",
       "178 2018-10-16    16  \n",
       "194 2018-10-15    15  \n",
       "179 2018-10-12    14  \n",
       "193 2018-10-12    12  \n",
       "198 2018-10-18    10  \n",
       "203 2018-10-18     9  \n",
       "217 2018-10-18     9  \n",
       "221 2018-10-17     8  \n",
       "234 2018-10-18     8  "
      ]
     },
     "execution_count": 236,
     "metadata": {},
     "output_type": "execute_result"
    }
   ],
   "source": [
    "ss = myModule.format(df4,'week_number',['流水号','个性化分析名称','信息负责人','评估反馈时间','实际交付时间','实际周期'])\n",
    "ss.select_by_value('week_number',stat_week)\n",
    "ss.judge_and_replace('实际周期',7)\n",
    "ss.select_by_value('实际周期_bool',True)\n",
    "tt = myModule.format(ss.df,'week_number',['流水号','个性化分析名称','信息负责人','评估反馈时间','实际交付时间','实际周期']).df\n",
    "tt.sort_values(by = '实际周期',axis = 0,ascending = False)   #预计周期从大到小排序"
   ]
  }
 ],
 "metadata": {
  "hide_input": false,
  "kernelspec": {
   "display_name": "Python 3",
   "language": "python",
   "name": "python3"
  },
  "language_info": {
   "codemirror_mode": {
    "name": "ipython",
    "version": 3
   },
   "file_extension": ".py",
   "mimetype": "text/x-python",
   "name": "python",
   "nbconvert_exporter": "python",
   "pygments_lexer": "ipython3",
   "version": "3.6.0"
  },
  "toc": {
   "base_numbering": 1,
   "nav_menu": {},
   "number_sections": true,
   "sideBar": true,
   "skip_h1_title": false,
   "title_cell": "Table of Contents",
   "title_sidebar": "Contents",
   "toc_cell": false,
   "toc_position": {
    "height": "calc(100% - 180px)",
    "left": "10px",
    "top": "150px",
    "width": "273px"
   },
   "toc_section_display": true,
   "toc_window_display": true
  }
 },
 "nbformat": 4,
 "nbformat_minor": 2
}
