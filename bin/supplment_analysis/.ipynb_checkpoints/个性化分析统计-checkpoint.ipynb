{
 "cells": [
  {
   "cell_type": "markdown",
   "metadata": {},
   "source": [
    "%load_ext autoreload\n",
    "%autoreload 2"
   ]
  },
  {
   "cell_type": "code",
<<<<<<< HEAD
   "execution_count": 1464,
   "metadata": {
    "collapsed": false
   },
=======
   "execution_count": 1,
   "metadata": {},
>>>>>>> 2645079b727ccf7005842fd856e6ec984f2ff004
   "outputs": [
    {
     "data": {
      "text/html": [
       "<script>requirejs.config({paths: { 'plotly': ['https://cdn.plot.ly/plotly-latest.min']},});if(!window.Plotly) {{require(['plotly'],function(plotly) {window.Plotly=plotly;});}}</script>"
      ],
      "text/vnd.plotly.v1+html": [
       "<script>requirejs.config({paths: { 'plotly': ['https://cdn.plot.ly/plotly-latest.min']},});if(!window.Plotly) {{require(['plotly'],function(plotly) {window.Plotly=plotly;});}}</script>"
      ]
     },
     "metadata": {},
     "output_type": "display_data"
    },
    {
     "data": {
      "text/html": [
       "<script>requirejs.config({paths: { 'plotly': ['https://cdn.plot.ly/plotly-latest.min']},});if(!window.Plotly) {{require(['plotly'],function(plotly) {window.Plotly=plotly;});}}</script>"
      ],
      "text/vnd.plotly.v1+html": [
       "<script>requirejs.config({paths: { 'plotly': ['https://cdn.plot.ly/plotly-latest.min']},});if(!window.Plotly) {{require(['plotly'],function(plotly) {window.Plotly=plotly;});}}</script>"
      ]
     },
     "metadata": {},
     "output_type": "display_data"
    },
    {
     "data": {
      "text/html": [
       "<script>requirejs.config({paths: { 'plotly': ['https://cdn.plot.ly/plotly-latest.min']},});if(!window.Plotly) {{require(['plotly'],function(plotly) {window.Plotly=plotly;});}}</script>"
      ],
      "text/vnd.plotly.v1+html": [
       "<script>requirejs.config({paths: { 'plotly': ['https://cdn.plot.ly/plotly-latest.min']},});if(!window.Plotly) {{require(['plotly'],function(plotly) {window.Plotly=plotly;});}}</script>"
      ]
     },
     "metadata": {},
     "output_type": "display_data"
    },
    {
     "data": {
      "text/html": [
       "<script>requirejs.config({paths: { 'plotly': ['https://cdn.plot.ly/plotly-latest.min']},});if(!window.Plotly) {{require(['plotly'],function(plotly) {window.Plotly=plotly;});}}</script>"
      ],
      "text/vnd.plotly.v1+html": [
       "<script>requirejs.config({paths: { 'plotly': ['https://cdn.plot.ly/plotly-latest.min']},});if(!window.Plotly) {{require(['plotly'],function(plotly) {window.Plotly=plotly;});}}</script>"
      ]
     },
     "metadata": {},
     "output_type": "display_data"
    }
   ],
   "source": [
    "import pandas as pd\n",
    "import numpy as np\n",
    "import sys\n",
    "sys.path.append('./')\n",
    "import xiadan_check\n",
    "import myModule\n",
    "import imp\n",
    "imp.reload(xiadan_check)\n",
    "imp.reload(myModule)\n",
    "import time"
   ]
  },
  {
   "cell_type": "code",
<<<<<<< HEAD
   "execution_count": 1465,
   "metadata": {
    "collapsed": false
   },
=======
   "execution_count": 2,
   "metadata": {},
>>>>>>> 2645079b727ccf7005842fd856e6ec984f2ff004
   "outputs": [],
   "source": [
    "pathway = './'\n",
    "all_files  = xiadan_check.get_files(pathway, \"个性化\",\"20181011\")   ##给路径\n",
    "df1  = xiadan_check.read_xlsx(all_files , 0 )## read all files sheet1"
   ]
  },
  {
   "cell_type": "code",
<<<<<<< HEAD
   "execution_count": 1466,
   "metadata": {
    "collapsed": false
   },
=======
   "execution_count": 3,
   "metadata": {},
>>>>>>> 2645079b727ccf7005842fd856e6ec984f2ff004
   "outputs": [],
   "source": [
    "import datetime\n",
    "def changetype1(check_str):\n",
    "    value = 1 if type(check_str) == datetime.datetime else 0\n",
    "    return value\n",
    "def changetype2(check_str):\n",
    "    value = 0 if type(check_str) == datetime.datetime else 1\n",
    "    return value"
   ]
  },
  {
   "cell_type": "code",
<<<<<<< HEAD
   "execution_count": 1467,
=======
   "execution_count": 4,
>>>>>>> 2645079b727ccf7005842fd856e6ec984f2ff004
   "metadata": {
    "scrolled": true
   },
   "outputs": [
    {
     "name": "stderr",
     "output_type": "stream",
     "text": [
      "/usr/local/lib/python3.6/dist-packages/ipykernel_launcher.py:15: SettingWithCopyWarning:\n",
      "\n",
      "\n",
      "A value is trying to be set on a copy of a slice from a DataFrame.\n",
      "Try using .loc[row_indexer,col_indexer] = value instead\n",
      "\n",
      "See the caveats in the documentation: http://pandas.pydata.org/pandas-docs/stable/indexing.html#indexing-view-versus-copy\n",
      "\n",
      "/mnt/e/jupyter/bin/supplment_analysis/myModule.py:87: SettingWithCopyWarning:\n",
      "\n",
      "\n",
      "A value is trying to be set on a copy of a slice from a DataFrame.\n",
      "Try using .loc[row_indexer,col_indexer] = value instead\n",
      "\n",
      "See the caveats in the documentation: http://pandas.pydata.org/pandas-docs/stable/indexing.html#indexing-view-versus-copy\n",
      "\n",
      "/mnt/e/jupyter/bin/supplment_analysis/myModule.py:129: SettingWithCopyWarning:\n",
      "\n",
      "\n",
      "A value is trying to be set on a copy of a slice from a DataFrame.\n",
      "Try using .loc[row_indexer,col_indexer] = value instead\n",
      "\n",
      "See the caveats in the documentation: http://pandas.pydata.org/pandas-docs/stable/indexing.html#indexing-view-versus-copy\n",
      "\n",
      "/usr/local/lib/python3.6/dist-packages/ipykernel_launcher.py:22: SettingWithCopyWarning:\n",
      "\n",
      "\n",
      "A value is trying to be set on a copy of a slice from a DataFrame.\n",
      "Try using .loc[row_indexer,col_indexer] = value instead\n",
      "\n",
      "See the caveats in the documentation: http://pandas.pydata.org/pandas-docs/stable/indexing.html#indexing-view-versus-copy\n",
      "\n",
      "/mnt/e/jupyter/bin/supplment_analysis/myModule.py:117: SettingWithCopyWarning:\n",
      "\n",
      "\n",
      "A value is trying to be set on a copy of a slice from a DataFrame.\n",
      "Try using .loc[row_indexer,col_indexer] = value instead\n",
      "\n",
      "See the caveats in the documentation: http://pandas.pydata.org/pandas-docs/stable/indexing.html#indexing-view-versus-copy\n",
      "\n",
      "/usr/local/lib/python3.6/dist-packages/ipykernel_launcher.py:29: SettingWithCopyWarning:\n",
      "\n",
      "\n",
      "A value is trying to be set on a copy of a slice from a DataFrame.\n",
      "Try using .loc[row_indexer,col_indexer] = value instead\n",
      "\n",
      "See the caveats in the documentation: http://pandas.pydata.org/pandas-docs/stable/indexing.html#indexing-view-versus-copy\n",
      "\n",
      "/usr/local/lib/python3.6/dist-packages/ipykernel_launcher.py:30: SettingWithCopyWarning:\n",
      "\n",
      "\n",
      "A value is trying to be set on a copy of a slice from a DataFrame.\n",
      "Try using .loc[row_indexer,col_indexer] = value instead\n",
      "\n",
      "See the caveats in the documentation: http://pandas.pydata.org/pandas-docs/stable/indexing.html#indexing-view-versus-copy\n",
      "\n"
     ]
    }
   ],
   "source": [
    "date = pd.to_datetime(time.strftime('%Y-%m-%d',time.localtime(time.time())))\n",
    "stat_week = '10月2周'\n",
    "## df1:原始项目；\n",
    "## df2:有效反馈项目，即排除驳回、暂停、沟通中\n",
    "## df3:在线项目，基于df2\n",
    "## df4:完成项目，基于df2\n",
    "## df5:延期项目，基于df3中未交付延期、df4\n",
    "\n",
    "myModule.add_week(df1,'下单时间', 3)                                              #以下单时间定义week_number\n",
    "myModule.upgrade_df(df1, [['反馈周期', ['评估反馈时间','下单时间'], '-']])     #增加“反馈周期”列\n",
    "tt = lambda x : getattr(x , 'days')                                            #更换“days”类型\n",
    "[myModule.retype(df1, i , tt) for i in ['反馈周期']] \n",
    "\n",
    "df2 = df1[df1['预计交付时间'].apply(lambda x: type(x) == datetime.datetime)]   #根据“预计交付时间”筛选有效反馈项目列表\n",
    "df2['预计交付时间'] = df2['预计交付时间'].apply(pd.to_datetime)                #转换时间类型\n",
    "myModule.upgrade_df(df2, [['预计周期', ['预计交付时间','评估反馈时间'], '-']]) #增加“预计周期”列\n",
    "[myModule.retype(df2, i , tt) for i in ['预计周期']]                           #更换“days”类型\n",
    "\n",
    "df3 = df2[df2['实际交付时间'].apply(lambda x: x == 0)]                          #根据“实际交付时间”筛选在线项目列表\n",
    "\n",
    "df4 = df2[df2['实际交付时间'].apply(lambda x: type(x) == datetime.datetime)]    #根据“实际交付时间”筛选已交付项目列表\n",
    "df4['实际交付时间'] = df4['实际交付时间'].apply(pd.to_datetime)                 #转换时间类型\n",
    "myModule.upgrade_df(df4, [['实际周期', ['实际交付时间','评估反馈时间'], '-'],   #增加“实际周期”、“延期天数”列\n",
    "                         ['延期天数',['实际交付时间','预计交付时间'], '-']])\n",
    "[myModule.retype(df4, i , tt) for i in ['实际周期','延期天数']]                 #更换“days”类型\n",
    "myModule.add_week(df4,'实际交付时间',3)                                           #以实际交付时间定义week_number\n",
    "\n",
    "tmp = df3[df3['预计交付时间'].apply(lambda x: date>x)]                          #未交付延期项目\n",
    "tmp['实际周期'] = 1000\n",
    "tmp['延期天数'] = 1000\n",
    "df5 = df4.append(tmp)\n",
    "myModule.add_week(df5,'预计交付时间',3)                                           #以预计交付时间定义week_number\n",
    "\n",
    "## 分析组人员列表\n",
    "fenxi = [\"施毓芷\",\"闻少楠\",\"杨宇\",\"刘永强\",\"刘梦苑\",\"何胜\",\"陈碧雯\",\"王霞\",\"卢楠\",\"冯敬岩\",\"朱慧萍\",\"赵倩\",\"解飞\",\"宋少宇\"]"
   ]
  },
  {
   "cell_type": "markdown",
   "metadata": {},
   "source": [
    "# 评估情况统计"
   ]
  },
  {
   "cell_type": "code",
<<<<<<< HEAD
   "execution_count": 1468,
   "metadata": {
    "collapsed": false
   },
=======
   "execution_count": 5,
   "metadata": {},
>>>>>>> 2645079b727ccf7005842fd856e6ec984f2ff004
   "outputs": [
    {
     "data": {
      "text/html": [
       "<div>\n",
       "<style scoped>\n",
       "    .dataframe tbody tr th:only-of-type {\n",
       "        vertical-align: middle;\n",
       "    }\n",
       "\n",
       "    .dataframe tbody tr th {\n",
       "        vertical-align: top;\n",
       "    }\n",
       "\n",
       "    .dataframe thead th {\n",
       "        text-align: right;\n",
       "    }\n",
       "</style>\n",
       "<table border=\"1\" class=\"dataframe\">\n",
       "  <thead>\n",
       "    <tr style=\"text-align: right;\">\n",
       "      <th></th>\n",
       "      <th>序号</th>\n",
       "      <th>流水号</th>\n",
       "      <th>个性化分析名称</th>\n",
       "      <th>项目管理</th>\n",
       "      <th>接入时间</th>\n",
       "      <th>下单时间</th>\n",
       "      <th>信息负责人</th>\n",
       "      <th>评估反馈时间</th>\n",
       "      <th>预计交付时间</th>\n",
       "      <th>数据迁回花费时间（天）</th>\n",
       "      <th>实际交付时间</th>\n",
       "      <th>评估人时（h）</th>\n",
       "      <th>评估机时(h)</th>\n",
       "      <th>是否在库里</th>\n",
       "      <th>库里周期（天）</th>\n",
       "      <th>项目管理交付时间</th>\n",
       "      <th>备注</th>\n",
       "      <th>week_number</th>\n",
       "      <th>反馈周期</th>\n",
       "    </tr>\n",
       "  </thead>\n",
       "  <tbody>\n",
       "    <tr>\n",
       "      <th>0</th>\n",
       "      <td>961</td>\n",
       "      <td>20180902-001</td>\n",
       "      <td>PM-GD180463-01华南农业大学6个青枯菌原核链特异性转录组建库测序过滤任务单-02</td>\n",
       "      <td>孟凡姗</td>\n",
       "      <td>2018-09-02</td>\n",
       "      <td>2018-09-02</td>\n",
       "      <td>屈昂</td>\n",
       "      <td>2018-09-05</td>\n",
       "      <td>2018-09-10 00:00:00</td>\n",
       "      <td>0</td>\n",
       "      <td>2018-09-07 00:00:00</td>\n",
       "      <td>3</td>\n",
       "      <td>18.0</td>\n",
       "      <td>0</td>\n",
       "      <td>0.0</td>\n",
       "      <td>2018-09-07 00:00:00</td>\n",
       "      <td>0</td>\n",
       "      <td>8月5周</td>\n",
       "      <td>3</td>\n",
       "    </tr>\n",
       "    <tr>\n",
       "      <th>1</th>\n",
       "      <td>962</td>\n",
       "      <td>20180902-002</td>\n",
       "      <td>ANCSN180125西安交大数据分析任务单-03</td>\n",
       "      <td>孟凡姗</td>\n",
       "      <td>2018-09-02</td>\n",
       "      <td>2018-09-02</td>\n",
       "      <td>朱慧萍</td>\n",
       "      <td>2018-09-03</td>\n",
       "      <td>2018-09-10 00:00:00</td>\n",
       "      <td>0</td>\n",
       "      <td>2018-09-06 00:00:00</td>\n",
       "      <td>0</td>\n",
       "      <td>0.0</td>\n",
       "      <td>0</td>\n",
       "      <td>0.0</td>\n",
       "      <td>2018-09-07 00:00:00</td>\n",
       "      <td>0</td>\n",
       "      <td>8月5周</td>\n",
       "      <td>1</td>\n",
       "    </tr>\n",
       "    <tr>\n",
       "      <th>2</th>\n",
       "      <td>963</td>\n",
       "      <td>20180902-003</td>\n",
       "      <td>ANCSN180125西安交大数据分析任务单-04</td>\n",
       "      <td>孟凡姗</td>\n",
       "      <td>2018-09-02</td>\n",
       "      <td>2018-09-02</td>\n",
       "      <td>朱慧萍</td>\n",
       "      <td>2018-09-03</td>\n",
       "      <td>2018-09-10 00:00:00</td>\n",
       "      <td>0</td>\n",
       "      <td>2018-09-06 00:00:00</td>\n",
       "      <td>0</td>\n",
       "      <td>0.0</td>\n",
       "      <td>0</td>\n",
       "      <td>0.0</td>\n",
       "      <td>2018-09-07 00:00:00</td>\n",
       "      <td>0</td>\n",
       "      <td>8月5周</td>\n",
       "      <td>1</td>\n",
       "    </tr>\n",
       "    <tr>\n",
       "      <th>3</th>\n",
       "      <td>964</td>\n",
       "      <td>20180902-004</td>\n",
       "      <td>PM-JS180194-01通大附院18个大鼠有参转录组建库测序分析任务单-快速产品-02</td>\n",
       "      <td>孟凡姗</td>\n",
       "      <td>2018-09-02</td>\n",
       "      <td>2018-09-02</td>\n",
       "      <td>朱慧萍</td>\n",
       "      <td>2018-09-03</td>\n",
       "      <td>2018-09-10 00:00:00</td>\n",
       "      <td>0</td>\n",
       "      <td>2018-09-10 00:00:00</td>\n",
       "      <td>0</td>\n",
       "      <td>0.0</td>\n",
       "      <td>0</td>\n",
       "      <td>0.0</td>\n",
       "      <td>2018-09-10 00:00:00</td>\n",
       "      <td>0</td>\n",
       "      <td>8月5周</td>\n",
       "      <td>1</td>\n",
       "    </tr>\n",
       "    <tr>\n",
       "      <th>4</th>\n",
       "      <td>965</td>\n",
       "      <td>20180902-005</td>\n",
       "      <td>PM-JS180194-01通大附院18个大鼠有参转录组建库测序分析任务单-快速产品-03</td>\n",
       "      <td>孟凡姗</td>\n",
       "      <td>2018-09-02</td>\n",
       "      <td>2018-09-02</td>\n",
       "      <td>朱慧萍</td>\n",
       "      <td>2018-09-03</td>\n",
       "      <td>2018-09-10 00:00:00</td>\n",
       "      <td>0</td>\n",
       "      <td>2018-09-10 00:00:00</td>\n",
       "      <td>0</td>\n",
       "      <td>0.0</td>\n",
       "      <td>0</td>\n",
       "      <td>0.0</td>\n",
       "      <td>2018-09-10 00:00:00</td>\n",
       "      <td>0</td>\n",
       "      <td>8月5周</td>\n",
       "      <td>1</td>\n",
       "    </tr>\n",
       "  </tbody>\n",
       "</table>\n",
       "</div>"
      ],
      "text/plain": [
       "    序号           流水号                                         个性化分析名称 项目管理  \\\n",
       "0  961  20180902-001  PM-GD180463-01华南农业大学6个青枯菌原核链特异性转录组建库测序过滤任务单-02  孟凡姗   \n",
       "1  962  20180902-002                       ANCSN180125西安交大数据分析任务单-03  孟凡姗   \n",
       "2  963  20180902-003                       ANCSN180125西安交大数据分析任务单-04  孟凡姗   \n",
       "3  964  20180902-004   PM-JS180194-01通大附院18个大鼠有参转录组建库测序分析任务单-快速产品-02  孟凡姗   \n",
       "4  965  20180902-005   PM-JS180194-01通大附院18个大鼠有参转录组建库测序分析任务单-快速产品-03  孟凡姗   \n",
       "\n",
       "        接入时间       下单时间 信息负责人     评估反馈时间               预计交付时间 数据迁回花费时间（天）  \\\n",
       "0 2018-09-02 2018-09-02    屈昂 2018-09-05  2018-09-10 00:00:00           0   \n",
       "1 2018-09-02 2018-09-02   朱慧萍 2018-09-03  2018-09-10 00:00:00           0   \n",
       "2 2018-09-02 2018-09-02   朱慧萍 2018-09-03  2018-09-10 00:00:00           0   \n",
       "3 2018-09-02 2018-09-02   朱慧萍 2018-09-03  2018-09-10 00:00:00           0   \n",
       "4 2018-09-02 2018-09-02   朱慧萍 2018-09-03  2018-09-10 00:00:00           0   \n",
       "\n",
       "                实际交付时间 评估人时（h）  评估机时(h) 是否在库里  库里周期（天）             项目管理交付时间  \\\n",
       "0  2018-09-07 00:00:00       3     18.0     0      0.0  2018-09-07 00:00:00   \n",
       "1  2018-09-06 00:00:00       0      0.0     0      0.0  2018-09-07 00:00:00   \n",
       "2  2018-09-06 00:00:00       0      0.0     0      0.0  2018-09-07 00:00:00   \n",
       "3  2018-09-10 00:00:00       0      0.0     0      0.0  2018-09-10 00:00:00   \n",
       "4  2018-09-10 00:00:00       0      0.0     0      0.0  2018-09-10 00:00:00   \n",
       "\n",
       "  备注 week_number  反馈周期  \n",
       "0  0        8月5周     3  \n",
       "1  0        8月5周     1  \n",
       "2  0        8月5周     1  \n",
       "3  0        8月5周     1  \n",
       "4  0        8月5周     1  "
      ]
     },
<<<<<<< HEAD
     "execution_count": 1468,
=======
     "execution_count": 5,
>>>>>>> 2645079b727ccf7005842fd856e6ec984f2ff004
     "metadata": {},
     "output_type": "execute_result"
    }
   ],
   "source": [
    "df1.head()"
   ]
  },
  {
   "cell_type": "markdown",
   "metadata": {},
   "source": [
    "## 接入项目数统计"
   ]
  },
  {
   "cell_type": "markdown",
   "metadata": {},
   "source": [
    "### 整体接入项目数趋势图"
   ]
  },
  {
   "cell_type": "code",
<<<<<<< HEAD
   "execution_count": 1469,
   "metadata": {
    "collapsed": false
   },
=======
   "execution_count": 6,
   "metadata": {},
>>>>>>> 2645079b727ccf7005842fd856e6ec984f2ff004
   "outputs": [
    {
     "name": "stderr",
     "output_type": "stream",
     "text": [
      "/usr/local/lib/python3.6/dist-packages/ipykernel_launcher.py:2: SettingWithCopyWarning:\n",
      "\n",
      "\n",
      "A value is trying to be set on a copy of a slice from a DataFrame.\n",
      "Try using .loc[row_indexer,col_indexer] = value instead\n",
      "\n",
      "See the caveats in the documentation: http://pandas.pydata.org/pandas-docs/stable/indexing.html#indexing-view-versus-copy\n",
      "\n",
      "/usr/local/lib/python3.6/dist-packages/ipykernel_launcher.py:3: SettingWithCopyWarning:\n",
      "\n",
      "\n",
      "A value is trying to be set on a copy of a slice from a DataFrame.\n",
      "Try using .loc[row_indexer,col_indexer] = value instead\n",
      "\n",
      "See the caveats in the documentation: http://pandas.pydata.org/pandas-docs/stable/indexing.html#indexing-view-versus-copy\n",
      "\n",
      "/usr/local/lib/python3.6/dist-packages/ipykernel_launcher.py:4: SettingWithCopyWarning:\n",
      "\n",
      "\n",
      "A value is trying to be set on a copy of a slice from a DataFrame.\n",
      "Try using .loc[row_indexer,col_indexer] = value instead\n",
      "\n",
      "See the caveats in the documentation: http://pandas.pydata.org/pandas-docs/stable/indexing.html#indexing-view-versus-copy\n",
      "\n"
     ]
    },
    {
     "data": {
      "application/vnd.plotly.v1+json": {
       "data": [
        {
         "name": "接入项目数",
         "type": "scatter",
<<<<<<< HEAD
         "uid": "3e50ade0-d028-11e8-8ddb-a41f72875c19",
=======
         "uid": "4413c19a-d082-11e8-af77-a81e84e6c740",
>>>>>>> 2645079b727ccf7005842fd856e6ec984f2ff004
         "x": [
          "8月5周",
          "9月1周",
          "9月2周",
          "9月3周",
          "9月4周",
          "10月2周",
          "10月3周"
         ],
         "y": [
          6,
          45,
          52,
          47,
          47,
          63,
          1
         ]
        },
        {
         "name": "驳回暂停沟通项目数",
         "type": "scatter",
<<<<<<< HEAD
         "uid": "3e50ade1-d028-11e8-8ddb-a41f72875c19",
=======
         "uid": "4413ce1a-d082-11e8-af77-a81e84e6c740",
>>>>>>> 2645079b727ccf7005842fd856e6ec984f2ff004
         "x": [
          "8月5周",
          "9月1周",
          "9月2周",
          "9月3周",
          "9月4周",
          "10月2周",
          "10月3周"
         ],
         "y": [
          0,
          5,
          6,
<<<<<<< HEAD
          41,
          46,
          44,
          41,
          54,
          1
=======
          3,
          7,
          0
>>>>>>> 2645079b727ccf7005842fd856e6ec984f2ff004
         ]
        },
        {
         "name": "有效接入项目数",
         "type": "scatter",
<<<<<<< HEAD
         "uid": "3e50ade2-d028-11e8-8ddb-a41f72875c19",
=======
         "uid": "4413d428-d082-11e8-af77-a81e84e6c740",
>>>>>>> 2645079b727ccf7005842fd856e6ec984f2ff004
         "x": [
          "8月5周",
          "9月1周",
          "9月2周",
          "9月3周",
          "9月4周",
          "10月2周",
          "10月3周"
         ],
         "y": [
<<<<<<< HEAD
          0,
          4,
          6,
          3,
          6,
          9,
          0
=======
          6,
          41,
          46,
          43,
          38,
          1
>>>>>>> 2645079b727ccf7005842fd856e6ec984f2ff004
         ]
        }
       ],
       "layout": {
        "title": "接入项目数&驳回暂停沟通项目数&有效接入项目数周趋势图",
        "xaxis": {
         "mirror": "all",
         "nticks": 20,
         "showgrid": true,
         "showline": true,
         "title": "周",
         "zeroline": true
        },
        "yaxis": {
         "mirror": "all",
         "nticks": 20,
         "showgrid": true,
         "showline": true,
         "title": "接入项目数&驳回暂停沟通项目数&有效接入项目数",
         "zeroline": true
        }
       }
      },
      "text/html": [
<<<<<<< HEAD
       "<div id=\"21434992-19ee-463d-89b6-83b95f9eb0a9\" style=\"height: 525px; width: 100%;\" class=\"plotly-graph-div\"></div><script type=\"text/javascript\">require([\"plotly\"], function(Plotly) { window.PLOTLYENV=window.PLOTLYENV || {};window.PLOTLYENV.BASE_URL=\"https://plot.ly\";Plotly.newPlot(\"21434992-19ee-463d-89b6-83b95f9eb0a9\", [{\"name\": \"\\u63a5\\u5165\\u9879\\u76ee\\u6570\", \"x\": [\"8\\u67085\\u5468\", \"9\\u67081\\u5468\", \"9\\u67082\\u5468\", \"9\\u67083\\u5468\", \"9\\u67084\\u5468\", \"10\\u67082\\u5468\", \"10\\u67083\\u5468\"], \"y\": [6, 45, 52, 47, 47, 63, 1], \"type\": \"scatter\", \"uid\": \"3e50ade0-d028-11e8-8ddb-a41f72875c19\"}, {\"name\": \"\\u6709\\u6548\\u63a5\\u5165\\u9879\\u76ee\\u6570\", \"x\": [\"8\\u67085\\u5468\", \"9\\u67081\\u5468\", \"9\\u67082\\u5468\", \"9\\u67083\\u5468\", \"9\\u67084\\u5468\", \"10\\u67082\\u5468\", \"10\\u67083\\u5468\"], \"y\": [6, 41, 46, 44, 41, 54, 1], \"type\": \"scatter\", \"uid\": \"3e50ade1-d028-11e8-8ddb-a41f72875c19\"}, {\"name\": \"\\u9a73\\u56de\\u6682\\u505c\\u6c9f\\u901a\\u9879\\u76ee\\u6570\", \"x\": [\"8\\u67085\\u5468\", \"9\\u67081\\u5468\", \"9\\u67082\\u5468\", \"9\\u67083\\u5468\", \"9\\u67084\\u5468\", \"10\\u67082\\u5468\", \"10\\u67083\\u5468\"], \"y\": [0, 4, 6, 3, 6, 9, 0], \"type\": \"scatter\", \"uid\": \"3e50ade2-d028-11e8-8ddb-a41f72875c19\"}], {\"title\": \"\\u63a5\\u5165\\u9879\\u76ee\\u6570&\\u6709\\u6548\\u63a5\\u5165\\u9879\\u76ee\\u6570&\\u9a73\\u56de\\u6682\\u505c\\u6c9f\\u901a\\u9879\\u76ee\\u6570\\u5468\\u8d8b\\u52bf\\u56fe\", \"xaxis\": {\"mirror\": \"all\", \"nticks\": 20, \"showgrid\": true, \"showline\": true, \"title\": \"\\u5468\", \"zeroline\": true}, \"yaxis\": {\"mirror\": \"all\", \"nticks\": 20, \"showgrid\": true, \"showline\": true, \"title\": \"\\u63a5\\u5165\\u9879\\u76ee\\u6570&\\u6709\\u6548\\u63a5\\u5165\\u9879\\u76ee\\u6570&\\u9a73\\u56de\\u6682\\u505c\\u6c9f\\u901a\\u9879\\u76ee\\u6570\", \"zeroline\": true}}, {\"showLink\": true, \"linkText\": \"Export to plot.ly\"})});</script>"
      ],
      "text/vnd.plotly.v1+html": [
       "<div id=\"21434992-19ee-463d-89b6-83b95f9eb0a9\" style=\"height: 525px; width: 100%;\" class=\"plotly-graph-div\"></div><script type=\"text/javascript\">require([\"plotly\"], function(Plotly) { window.PLOTLYENV=window.PLOTLYENV || {};window.PLOTLYENV.BASE_URL=\"https://plot.ly\";Plotly.newPlot(\"21434992-19ee-463d-89b6-83b95f9eb0a9\", [{\"name\": \"\\u63a5\\u5165\\u9879\\u76ee\\u6570\", \"x\": [\"8\\u67085\\u5468\", \"9\\u67081\\u5468\", \"9\\u67082\\u5468\", \"9\\u67083\\u5468\", \"9\\u67084\\u5468\", \"10\\u67082\\u5468\", \"10\\u67083\\u5468\"], \"y\": [6, 45, 52, 47, 47, 63, 1], \"type\": \"scatter\", \"uid\": \"3e50ade0-d028-11e8-8ddb-a41f72875c19\"}, {\"name\": \"\\u6709\\u6548\\u63a5\\u5165\\u9879\\u76ee\\u6570\", \"x\": [\"8\\u67085\\u5468\", \"9\\u67081\\u5468\", \"9\\u67082\\u5468\", \"9\\u67083\\u5468\", \"9\\u67084\\u5468\", \"10\\u67082\\u5468\", \"10\\u67083\\u5468\"], \"y\": [6, 41, 46, 44, 41, 54, 1], \"type\": \"scatter\", \"uid\": \"3e50ade1-d028-11e8-8ddb-a41f72875c19\"}, {\"name\": \"\\u9a73\\u56de\\u6682\\u505c\\u6c9f\\u901a\\u9879\\u76ee\\u6570\", \"x\": [\"8\\u67085\\u5468\", \"9\\u67081\\u5468\", \"9\\u67082\\u5468\", \"9\\u67083\\u5468\", \"9\\u67084\\u5468\", \"10\\u67082\\u5468\", \"10\\u67083\\u5468\"], \"y\": [0, 4, 6, 3, 6, 9, 0], \"type\": \"scatter\", \"uid\": \"3e50ade2-d028-11e8-8ddb-a41f72875c19\"}], {\"title\": \"\\u63a5\\u5165\\u9879\\u76ee\\u6570&\\u6709\\u6548\\u63a5\\u5165\\u9879\\u76ee\\u6570&\\u9a73\\u56de\\u6682\\u505c\\u6c9f\\u901a\\u9879\\u76ee\\u6570\\u5468\\u8d8b\\u52bf\\u56fe\", \"xaxis\": {\"mirror\": \"all\", \"nticks\": 20, \"showgrid\": true, \"showline\": true, \"title\": \"\\u5468\", \"zeroline\": true}, \"yaxis\": {\"mirror\": \"all\", \"nticks\": 20, \"showgrid\": true, \"showline\": true, \"title\": \"\\u63a5\\u5165\\u9879\\u76ee\\u6570&\\u6709\\u6548\\u63a5\\u5165\\u9879\\u76ee\\u6570&\\u9a73\\u56de\\u6682\\u505c\\u6c9f\\u901a\\u9879\\u76ee\\u6570\", \"zeroline\": true}}, {\"showLink\": true, \"linkText\": \"Export to plot.ly\"})});</script>"
=======
       "<div id=\"9750b810-6cef-4482-bf10-efb21aac6353\" style=\"height: 525px; width: 100%;\" class=\"plotly-graph-div\"></div><script type=\"text/javascript\">require([\"plotly\"], function(Plotly) { window.PLOTLYENV=window.PLOTLYENV || {};window.PLOTLYENV.BASE_URL=\"https://plot.ly\";Plotly.newPlot(\"9750b810-6cef-4482-bf10-efb21aac6353\", [{\"name\": \"\\u63a5\\u5165\\u9879\\u76ee\\u6570\", \"x\": [\"8\\u67085\\u5468\", \"9\\u67081\\u5468\", \"9\\u67082\\u5468\", \"9\\u67083\\u5468\", \"9\\u67084\\u5468\", \"10\\u67082\\u5468\"], \"y\": [6, 46, 52, 46, 45, 1], \"type\": \"scatter\", \"uid\": \"4413c19a-d082-11e8-af77-a81e84e6c740\"}, {\"name\": \"\\u9a73\\u56de\\u6682\\u505c\\u6c9f\\u901a\\u9879\\u76ee\\u6570\", \"x\": [\"8\\u67085\\u5468\", \"9\\u67081\\u5468\", \"9\\u67082\\u5468\", \"9\\u67083\\u5468\", \"9\\u67084\\u5468\", \"10\\u67082\\u5468\"], \"y\": [0, 5, 6, 3, 7, 0], \"type\": \"scatter\", \"uid\": \"4413ce1a-d082-11e8-af77-a81e84e6c740\"}, {\"name\": \"\\u6709\\u6548\\u63a5\\u5165\\u9879\\u76ee\\u6570\", \"x\": [\"8\\u67085\\u5468\", \"9\\u67081\\u5468\", \"9\\u67082\\u5468\", \"9\\u67083\\u5468\", \"9\\u67084\\u5468\", \"10\\u67082\\u5468\"], \"y\": [6, 41, 46, 43, 38, 1], \"type\": \"scatter\", \"uid\": \"4413d428-d082-11e8-af77-a81e84e6c740\"}], {\"title\": \"\\u63a5\\u5165\\u9879\\u76ee\\u6570&\\u9a73\\u56de\\u6682\\u505c\\u6c9f\\u901a\\u9879\\u76ee\\u6570&\\u6709\\u6548\\u63a5\\u5165\\u9879\\u76ee\\u6570\\u5468\\u8d8b\\u52bf\\u56fe\", \"xaxis\": {\"mirror\": \"all\", \"nticks\": 20, \"showgrid\": true, \"showline\": true, \"title\": \"\\u5468\", \"zeroline\": true}, \"yaxis\": {\"mirror\": \"all\", \"nticks\": 20, \"showgrid\": true, \"showline\": true, \"title\": \"\\u63a5\\u5165\\u9879\\u76ee\\u6570&\\u9a73\\u56de\\u6682\\u505c\\u6c9f\\u901a\\u9879\\u76ee\\u6570&\\u6709\\u6548\\u63a5\\u5165\\u9879\\u76ee\\u6570\", \"zeroline\": true}}, {\"showLink\": true, \"linkText\": \"Export to plot.ly\"})});</script>"
      ],
      "text/vnd.plotly.v1+html": [
       "<div id=\"9750b810-6cef-4482-bf10-efb21aac6353\" style=\"height: 525px; width: 100%;\" class=\"plotly-graph-div\"></div><script type=\"text/javascript\">require([\"plotly\"], function(Plotly) { window.PLOTLYENV=window.PLOTLYENV || {};window.PLOTLYENV.BASE_URL=\"https://plot.ly\";Plotly.newPlot(\"9750b810-6cef-4482-bf10-efb21aac6353\", [{\"name\": \"\\u63a5\\u5165\\u9879\\u76ee\\u6570\", \"x\": [\"8\\u67085\\u5468\", \"9\\u67081\\u5468\", \"9\\u67082\\u5468\", \"9\\u67083\\u5468\", \"9\\u67084\\u5468\", \"10\\u67082\\u5468\"], \"y\": [6, 46, 52, 46, 45, 1], \"type\": \"scatter\", \"uid\": \"4413c19a-d082-11e8-af77-a81e84e6c740\"}, {\"name\": \"\\u9a73\\u56de\\u6682\\u505c\\u6c9f\\u901a\\u9879\\u76ee\\u6570\", \"x\": [\"8\\u67085\\u5468\", \"9\\u67081\\u5468\", \"9\\u67082\\u5468\", \"9\\u67083\\u5468\", \"9\\u67084\\u5468\", \"10\\u67082\\u5468\"], \"y\": [0, 5, 6, 3, 7, 0], \"type\": \"scatter\", \"uid\": \"4413ce1a-d082-11e8-af77-a81e84e6c740\"}, {\"name\": \"\\u6709\\u6548\\u63a5\\u5165\\u9879\\u76ee\\u6570\", \"x\": [\"8\\u67085\\u5468\", \"9\\u67081\\u5468\", \"9\\u67082\\u5468\", \"9\\u67083\\u5468\", \"9\\u67084\\u5468\", \"10\\u67082\\u5468\"], \"y\": [6, 41, 46, 43, 38, 1], \"type\": \"scatter\", \"uid\": \"4413d428-d082-11e8-af77-a81e84e6c740\"}], {\"title\": \"\\u63a5\\u5165\\u9879\\u76ee\\u6570&\\u9a73\\u56de\\u6682\\u505c\\u6c9f\\u901a\\u9879\\u76ee\\u6570&\\u6709\\u6548\\u63a5\\u5165\\u9879\\u76ee\\u6570\\u5468\\u8d8b\\u52bf\\u56fe\", \"xaxis\": {\"mirror\": \"all\", \"nticks\": 20, \"showgrid\": true, \"showline\": true, \"title\": \"\\u5468\", \"zeroline\": true}, \"yaxis\": {\"mirror\": \"all\", \"nticks\": 20, \"showgrid\": true, \"showline\": true, \"title\": \"\\u63a5\\u5165\\u9879\\u76ee\\u6570&\\u9a73\\u56de\\u6682\\u505c\\u6c9f\\u901a\\u9879\\u76ee\\u6570&\\u6709\\u6548\\u63a5\\u5165\\u9879\\u76ee\\u6570\", \"zeroline\": true}}, {\"showLink\": true, \"linkText\": \"Export to plot.ly\"})});</script>"
>>>>>>> 2645079b727ccf7005842fd856e6ec984f2ff004
      ]
     },
     "metadata": {},
     "output_type": "display_data"
    }
   ],
   "source": [
    "ss = myModule.format(df1,'week_number',['流水号','个性化分析名称','项目管理','预计交付时间'])\n",
    "ss.df['接入项目数'] = list(map(changetype2,ss.df['流水号']))\n",
    "ss.df['有效接入项目数'] = list(map(changetype1,ss.df['预计交付时间']))\n",
    "ss.df['驳回暂停沟通项目数'] = list(map(changetype2,ss.df['预计交付时间']))\n",
    "tt = myModule.format(ss.df,'week_number',['有效接入项目数','驳回暂停沟通项目数','接入项目数'])\n",
    "pp = myModule.sort_by_index(tt.groupby('sum'))\n",
    "myModule.myPlot(pp).plot('line')"
   ]
  },
  {
   "cell_type": "markdown",
   "metadata": {},
   "source": [
    "### 个人接入项目数分布图"
   ]
  },
  {
   "cell_type": "code",
<<<<<<< HEAD
   "execution_count": 1470,
   "metadata": {
    "collapsed": false
   },
=======
   "execution_count": 1316,
   "metadata": {},
>>>>>>> 2645079b727ccf7005842fd856e6ec984f2ff004
   "outputs": [
    {
     "data": {
      "application/vnd.plotly.v1+json": {
       "data": [
        {
         "name": "流水号(马潇)",
         "type": "bar",
<<<<<<< HEAD
         "uid": "3e50ade3-d028-11e8-8ddb-a41f72875c19",
=======
         "uid": "b0d6a767-d016-11e8-8ddb-a41f72875c19",
>>>>>>> 2645079b727ccf7005842fd856e6ec984f2ff004
         "x": [
          "8月5周",
          "9月1周",
          "9月2周",
          "9月3周",
          "9月4周",
          "10月2周",
          "10月3周"
         ],
         "y": [
          null,
          2,
          2,
          null,
          3,
          null,
          null
         ]
        },
        {
         "name": "流水号(韩少怀)",
         "type": "bar",
<<<<<<< HEAD
         "uid": "3e50ade4-d028-11e8-8ddb-a41f72875c19",
=======
         "uid": "b0d6a768-d016-11e8-8ddb-a41f72875c19",
>>>>>>> 2645079b727ccf7005842fd856e6ec984f2ff004
         "x": [
          "8月5周",
          "9月1周",
          "9月2周",
          "9月3周",
          "9月4周",
          "10月2周",
          "10月3周"
         ],
         "y": [
          null,
          1,
          null,
          null,
          3,
          2,
          null
         ]
        },
        {
         "name": "流水号(苑赞)",
         "type": "bar",
<<<<<<< HEAD
         "uid": "3e50ade5-d028-11e8-8ddb-a41f72875c19",
=======
         "uid": "b0d6a769-d016-11e8-8ddb-a41f72875c19",
>>>>>>> 2645079b727ccf7005842fd856e6ec984f2ff004
         "x": [
          "8月5周",
          "9月1周",
          "9月2周",
          "9月3周",
          "9月4周",
          "10月2周",
          "10月3周"
         ],
         "y": [
          null,
          null,
          null,
          null,
          1,
          null,
          null
         ]
        },
        {
         "name": "流水号(姚盟成)",
         "type": "bar",
<<<<<<< HEAD
         "uid": "3e50ade6-d028-11e8-8ddb-a41f72875c19",
=======
         "uid": "b0d6a76a-d016-11e8-8ddb-a41f72875c19",
>>>>>>> 2645079b727ccf7005842fd856e6ec984f2ff004
         "x": [
          "8月5周",
          "9月1周",
          "9月2周",
          "9月3周",
          "9月4周",
          "10月2周",
          "10月3周"
         ],
         "y": [
          null,
          1,
          null,
          1,
          null,
          null,
          null
         ]
        },
        {
         "name": "流水号(刘永强)",
         "type": "bar",
<<<<<<< HEAD
         "uid": "3e50ade7-d028-11e8-8ddb-a41f72875c19",
=======
         "uid": "b0d6a76b-d016-11e8-8ddb-a41f72875c19",
>>>>>>> 2645079b727ccf7005842fd856e6ec984f2ff004
         "x": [
          "8月5周",
          "9月1周",
          "9月2周",
          "9月3周",
          "9月4周",
          "10月2周",
          "10月3周"
         ],
         "y": [
          null,
          1,
          null,
          1,
          null,
<<<<<<< HEAD
=======
          null
         ]
        },
        {
         "name": "流水号(任雪)",
         "type": "bar",
         "uid": "b0d6a76c-d016-11e8-8ddb-a41f72875c19",
         "x": [
          "8月5周",
          "9月1周",
          "9月2周",
          "9月3周",
          "9月4周",
          "10月2周"
         ],
         "y": [
          null,
          null,
          null,
          null,
>>>>>>> 2645079b727ccf7005842fd856e6ec984f2ff004
          1,
          null
         ]
        },
        {
         "name": "流水号(朱慧萍)",
         "type": "bar",
<<<<<<< HEAD
         "uid": "3e50ade8-d028-11e8-8ddb-a41f72875c19",
=======
         "uid": "b0d6a76d-d016-11e8-8ddb-a41f72875c19",
>>>>>>> 2645079b727ccf7005842fd856e6ec984f2ff004
         "x": [
          "8月5周",
          "9月1周",
          "9月2周",
          "9月3周",
          "9月4周",
          "10月2周",
          "10月3周"
         ],
         "y": [
          4,
          3,
          4,
          2,
          1,
          3,
          null
         ]
        },
        {
         "name": "流水号(林文文)",
         "type": "bar",
<<<<<<< HEAD
         "uid": "3e50ade9-d028-11e8-8ddb-a41f72875c19",
=======
         "uid": "b0d6a76e-d016-11e8-8ddb-a41f72875c19",
>>>>>>> 2645079b727ccf7005842fd856e6ec984f2ff004
         "x": [
          "8月5周",
          "9月1周",
          "9月2周",
          "9月3周",
          "9月4周",
          "10月2周",
          "10月3周"
         ],
         "y": [
          null,
          null,
          1,
          3,
          null,
          null,
          null
         ]
        },
        {
         "name": "流水号(车天栋)",
         "type": "bar",
<<<<<<< HEAD
         "uid": "3e50adea-d028-11e8-8ddb-a41f72875c19",
=======
         "uid": "b0d6a76f-d016-11e8-8ddb-a41f72875c19",
>>>>>>> 2645079b727ccf7005842fd856e6ec984f2ff004
         "x": [
          "8月5周",
          "9月1周",
          "9月2周",
          "9月3周",
          "9月4周",
          "10月2周",
          "10月3周"
         ],
         "y": [
          null,
          null,
          1,
          1,
          null,
          1,
          null
         ]
        },
        {
         "name": "流水号(段利强)",
         "type": "bar",
<<<<<<< HEAD
         "uid": "3e50adeb-d028-11e8-8ddb-a41f72875c19",
=======
         "uid": "b0d6a770-d016-11e8-8ddb-a41f72875c19",
>>>>>>> 2645079b727ccf7005842fd856e6ec984f2ff004
         "x": [
          "8月5周",
          "9月1周",
          "9月2周",
          "9月3周",
          "9月4周",
          "10月2周",
          "10月3周"
         ],
         "y": [
          null,
          1,
          5,
          null,
          null,
          null,
          null
         ]
        },
        {
         "name": "流水号(沈立群)",
         "type": "bar",
<<<<<<< HEAD
         "uid": "3e50adec-d028-11e8-8ddb-a41f72875c19",
=======
         "uid": "b0d6a771-d016-11e8-8ddb-a41f72875c19",
>>>>>>> 2645079b727ccf7005842fd856e6ec984f2ff004
         "x": [
          "8月5周",
          "9月1周",
          "9月2周",
          "9月3周",
          "9月4周",
          "10月2周",
          "10月3周"
         ],
         "y": [
          null,
          null,
          null,
          1,
          null,
          null,
          null
         ]
        },
        {
         "name": "流水号(陈鹏燕)",
         "type": "bar",
<<<<<<< HEAD
         "uid": "3e50aded-d028-11e8-8ddb-a41f72875c19",
=======
         "uid": "b0d6a772-d016-11e8-8ddb-a41f72875c19",
>>>>>>> 2645079b727ccf7005842fd856e6ec984f2ff004
         "x": [
          "8月5周",
          "9月1周",
          "9月2周",
          "9月3周",
          "9月4周",
          "10月2周",
          "10月3周"
         ],
         "y": [
          1,
          2,
          3,
          5,
          null,
          null,
          null
         ]
        },
        {
         "name": "流水号(闻少楠)",
         "type": "bar",
<<<<<<< HEAD
         "uid": "3e50adee-d028-11e8-8ddb-a41f72875c19",
=======
         "uid": "b0d6a773-d016-11e8-8ddb-a41f72875c19",
>>>>>>> 2645079b727ccf7005842fd856e6ec984f2ff004
         "x": [
          "8月5周",
          "9月1周",
          "9月2周",
          "9月3周",
          "9月4周",
          "10月2周",
          "10月3周"
         ],
         "y": [
          null,
          null,
          2,
          1,
          1,
          4,
          null
         ]
        },
        {
         "name": "流水号(杨宇)",
         "type": "bar",
<<<<<<< HEAD
         "uid": "3e50adef-d028-11e8-8ddb-a41f72875c19",
=======
         "uid": "b0d6a774-d016-11e8-8ddb-a41f72875c19",
>>>>>>> 2645079b727ccf7005842fd856e6ec984f2ff004
         "x": [
          "8月5周",
          "9月1周",
          "9月2周",
          "9月3周",
          "9月4周",
          "10月2周",
          "10月3周"
         ],
         "y": [
          null,
          2,
          4,
          4,
          1,
          3,
          null
         ]
        },
        {
         "name": "流水号(屈昂)",
         "type": "bar",
<<<<<<< HEAD
         "uid": "3e50adf0-d028-11e8-8ddb-a41f72875c19",
=======
         "uid": "b0d6a775-d016-11e8-8ddb-a41f72875c19",
>>>>>>> 2645079b727ccf7005842fd856e6ec984f2ff004
         "x": [
          "8月5周",
          "9月1周",
          "9月2周",
          "9月3周",
          "9月4周",
          "10月2周",
          "10月3周"
         ],
         "y": [
          1,
          null,
          null,
          1,
          1,
          null,
          null
         ]
        },
        {
         "name": "流水号(王传文)",
         "type": "bar",
<<<<<<< HEAD
         "uid": "3e50adf1-d028-11e8-8ddb-a41f72875c19",
=======
         "uid": "b0d6a776-d016-11e8-8ddb-a41f72875c19",
>>>>>>> 2645079b727ccf7005842fd856e6ec984f2ff004
         "x": [
          "8月5周",
          "9月1周",
          "9月2周",
          "9月3周",
          "9月4周",
          "10月2周",
          "10月3周"
         ],
         "y": [
          null,
          null,
          null,
          1,
          null,
          2,
          null
         ]
        },
        {
         "name": "流水号(李华云)",
         "type": "bar",
<<<<<<< HEAD
         "uid": "3e50adf2-d028-11e8-8ddb-a41f72875c19",
=======
         "uid": "b0d6a777-d016-11e8-8ddb-a41f72875c19",
>>>>>>> 2645079b727ccf7005842fd856e6ec984f2ff004
         "x": [
          "8月5周",
          "9月1周",
          "9月2周",
          "9月3周",
          "9月4周",
          "10月2周",
          "10月3周"
         ],
         "y": [
          null,
          null,
          null,
          1,
          1,
          null,
          null
         ]
        },
        {
         "name": "流水号(王霞)",
         "type": "bar",
<<<<<<< HEAD
         "uid": "3e50adf3-d028-11e8-8ddb-a41f72875c19",
=======
         "uid": "b0d6a778-d016-11e8-8ddb-a41f72875c19",
>>>>>>> 2645079b727ccf7005842fd856e6ec984f2ff004
         "x": [
          "8月5周",
          "9月1周",
          "9月2周",
          "9月3周",
          "9月4周",
          "10月2周",
          "10月3周"
         ],
         "y": [
          null,
          2,
          2,
          5,
          1,
          4,
          null
         ]
        },
        {
         "name": "流水号(范旭宁)",
         "type": "bar",
<<<<<<< HEAD
         "uid": "3e50adf4-d028-11e8-8ddb-a41f72875c19",
=======
         "uid": "b0d6a779-d016-11e8-8ddb-a41f72875c19",
>>>>>>> 2645079b727ccf7005842fd856e6ec984f2ff004
         "x": [
          "8月5周",
          "9月1周",
          "9月2周",
          "9月3周",
          "9月4周",
          "10月2周",
          "10月3周"
         ],
         "y": [
          null,
          1,
          null,
          2,
          2,
          null,
          null
         ]
        },
        {
         "name": "流水号(于慧)",
         "type": "bar",
<<<<<<< HEAD
         "uid": "3e50adf5-d028-11e8-8ddb-a41f72875c19",
=======
         "uid": "b0d6a77a-d016-11e8-8ddb-a41f72875c19",
>>>>>>> 2645079b727ccf7005842fd856e6ec984f2ff004
         "x": [
          "8月5周",
          "9月1周",
          "9月2周",
          "9月3周",
          "9月4周",
          "10月2周",
          "10月3周"
         ],
         "y": [
          null,
          null,
          1,
          1,
          null,
          2,
          null
         ]
        },
        {
         "name": "流水号(张悦)",
         "type": "bar",
         "uid": "3e50adf6-d028-11e8-8ddb-a41f72875c19",
         "x": [
          "8月5周",
          "9月1周",
          "9月2周",
          "9月3周",
          "9月4周",
          "10月2周",
          "10月3周"
         ],
         "y": [
          null,
          null,
          null,
          null,
          null,
          1,
          null
         ]
        },
        {
         "name": "流水号(高剑)",
         "type": "bar",
<<<<<<< HEAD
         "uid": "3e50adf7-d028-11e8-8ddb-a41f72875c19",
=======
         "uid": "b0d6a77b-d016-11e8-8ddb-a41f72875c19",
>>>>>>> 2645079b727ccf7005842fd856e6ec984f2ff004
         "x": [
          "8月5周",
          "9月1周",
          "9月2周",
          "9月3周",
          "9月4周",
          "10月2周",
          "10月3周"
         ],
         "y": [
          null,
          1,
          null,
          null,
          null,
          null,
          null
         ]
        },
        {
         "name": "流水号(靳甜甜)",
         "type": "bar",
<<<<<<< HEAD
         "uid": "3e50adf8-d028-11e8-8ddb-a41f72875c19",
=======
         "uid": "b0d6a77c-d016-11e8-8ddb-a41f72875c19",
>>>>>>> 2645079b727ccf7005842fd856e6ec984f2ff004
         "x": [
          "8月5周",
          "9月1周",
          "9月2周",
          "9月3周",
          "9月4周",
          "10月2周",
          "10月3周"
         ],
         "y": [
          null,
          null,
          null,
          null,
          null,
          1,
          null
         ]
        },
        {
         "name": "流水号(于勇一)",
         "type": "bar",
<<<<<<< HEAD
         "uid": "3e50adf9-d028-11e8-8ddb-a41f72875c19",
=======
         "uid": "b0d6a77d-d016-11e8-8ddb-a41f72875c19",
>>>>>>> 2645079b727ccf7005842fd856e6ec984f2ff004
         "x": [
          "8月5周",
          "9月1周",
          "9月2周",
          "9月3周",
          "9月4周",
          "10月2周",
          "10月3周"
         ],
         "y": [
          null,
          null,
          null,
          1,
          null,
          null,
          null
         ]
        },
        {
         "name": "流水号(解飞)",
         "type": "bar",
<<<<<<< HEAD
         "uid": "3e50adfa-d028-11e8-8ddb-a41f72875c19",
=======
         "uid": "b0d6a77e-d016-11e8-8ddb-a41f72875c19",
>>>>>>> 2645079b727ccf7005842fd856e6ec984f2ff004
         "x": [
          "8月5周",
          "9月1周",
          "9月2周",
          "9月3周",
          "9月4周",
          "10月2周",
          "10月3周"
         ],
         "y": [
          null,
          null,
          null,
          null,
          2,
          1,
          null
         ]
        },
        {
         "name": "流水号(刘梦苑)",
         "type": "bar",
<<<<<<< HEAD
         "uid": "3e50adfb-d028-11e8-8ddb-a41f72875c19",
=======
         "uid": "b0d6a77f-d016-11e8-8ddb-a41f72875c19",
>>>>>>> 2645079b727ccf7005842fd856e6ec984f2ff004
         "x": [
          "8月5周",
          "9月1周",
          "9月2周",
          "9月3周",
          "9月4周",
          "10月2周",
          "10月3周"
         ],
         "y": [
          null,
          2,
          null,
          2,
          3,
          6,
          null
         ]
        },
        {
         "name": "流水号(陈碧雯)",
         "type": "bar",
<<<<<<< HEAD
         "uid": "3e50adfc-d028-11e8-8ddb-a41f72875c19",
=======
         "uid": "b0d6a780-d016-11e8-8ddb-a41f72875c19",
>>>>>>> 2645079b727ccf7005842fd856e6ec984f2ff004
         "x": [
          "8月5周",
          "9月1周",
          "9月2周",
          "9月3周",
          "9月4周",
          "10月2周",
          "10月3周"
         ],
         "y": [
          null,
          4,
          2,
          1,
          4,
          null,
          null
         ]
        },
        {
         "name": "流水号(冯敬岩)",
         "type": "bar",
<<<<<<< HEAD
         "uid": "3e50adfd-d028-11e8-8ddb-a41f72875c19",
=======
         "uid": "b0d6a781-d016-11e8-8ddb-a41f72875c19",
>>>>>>> 2645079b727ccf7005842fd856e6ec984f2ff004
         "x": [
          "8月5周",
          "9月1周",
          "9月2周",
          "9月3周",
          "9月4周",
          "10月2周",
          "10月3周"
         ],
         "y": [
          null,
          3,
          3,
          2,
          3,
          4,
          1
         ]
        },
        {
         "name": "流水号(冷雪)",
         "type": "bar",
<<<<<<< HEAD
         "uid": "3e50adfe-d028-11e8-8ddb-a41f72875c19",
=======
         "uid": "b0d6a782-d016-11e8-8ddb-a41f72875c19",
>>>>>>> 2645079b727ccf7005842fd856e6ec984f2ff004
         "x": [
          "8月5周",
          "9月1周",
          "9月2周",
          "9月3周",
          "9月4周",
          "10月2周",
          "10月3周"
         ],
         "y": [
          null,
          1,
          1,
          null,
          4,
          1,
          null
         ]
        },
        {
         "name": "流水号(沈恩惠)",
         "type": "bar",
<<<<<<< HEAD
         "uid": "3e50adff-d028-11e8-8ddb-a41f72875c19",
=======
         "uid": "b0d6a783-d016-11e8-8ddb-a41f72875c19",
>>>>>>> 2645079b727ccf7005842fd856e6ec984f2ff004
         "x": [
          "8月5周",
          "9月1周",
          "9月2周",
          "9月3周",
          "9月4周",
          "10月2周",
          "10月3周"
         ],
         "y": [
          null,
          1,
          null,
          1,
          null,
          1,
          null
         ]
        },
        {
         "name": "流水号(赵玥)",
         "type": "bar",
<<<<<<< HEAD
         "uid": "3e50ae00-d028-11e8-8ddb-a41f72875c19",
=======
         "uid": "b0d6a784-d016-11e8-8ddb-a41f72875c19",
>>>>>>> 2645079b727ccf7005842fd856e6ec984f2ff004
         "x": [
          "8月5周",
          "9月1周",
          "9月2周",
          "9月3周",
          "9月4周",
          "10月2周",
          "10月3周"
         ],
         "y": [
          null,
          null,
          1,
          null,
          null,
          null,
          null
         ]
        },
        {
         "name": "流水号(昶吉阳)",
         "type": "bar",
<<<<<<< HEAD
         "uid": "3e50ae01-d028-11e8-8ddb-a41f72875c19",
=======
         "uid": "b0d6a785-d016-11e8-8ddb-a41f72875c19",
>>>>>>> 2645079b727ccf7005842fd856e6ec984f2ff004
         "x": [
          "8月5周",
          "9月1周",
          "9月2周",
          "9月3周",
          "9月4周",
          "10月2周",
          "10月3周"
         ],
         "y": [
          null,
          1,
          2,
          null,
          4,
          null,
          null
         ]
        },
        {
         "name": "流水号(何胜)",
         "type": "bar",
<<<<<<< HEAD
         "uid": "3e50ae02-d028-11e8-8ddb-a41f72875c19",
=======
         "uid": "b0d6a786-d016-11e8-8ddb-a41f72875c19",
>>>>>>> 2645079b727ccf7005842fd856e6ec984f2ff004
         "x": [
          "8月5周",
          "9月1周",
          "9月2周",
          "9月3周",
          "9月4周",
          "10月2周",
          "10月3周"
         ],
         "y": [
          null,
          3,
          2,
          5,
          2,
          3,
          null
         ]
        },
        {
         "name": "流水号(封彦杰)",
         "type": "bar",
<<<<<<< HEAD
         "uid": "3e50ae03-d028-11e8-8ddb-a41f72875c19",
=======
         "uid": "b0d6a787-d016-11e8-8ddb-a41f72875c19",
>>>>>>> 2645079b727ccf7005842fd856e6ec984f2ff004
         "x": [
          "8月5周",
          "9月1周",
          "9月2周",
          "9月3周",
          "9月4周",
          "10月2周",
          "10月3周"
         ],
         "y": [
          null,
          null,
          null,
          null,
          1,
          null,
          null
         ]
        },
        {
         "name": "流水号(占伟)",
         "type": "bar",
<<<<<<< HEAD
         "uid": "3e50ae04-d028-11e8-8ddb-a41f72875c19",
=======
         "uid": "b0d6a788-d016-11e8-8ddb-a41f72875c19",
>>>>>>> 2645079b727ccf7005842fd856e6ec984f2ff004
         "x": [
          "8月5周",
          "9月1周",
          "9月2周",
          "9月3周",
          "9月4周",
          "10月2周",
          "10月3周"
         ],
         "y": [
          null,
          1,
          1,
          null,
          null,
          3,
          null
         ]
        },
        {
         "name": "流水号(宋少宇)",
         "type": "bar",
<<<<<<< HEAD
         "uid": "3e50ae05-d028-11e8-8ddb-a41f72875c19",
=======
         "uid": "b0d6a789-d016-11e8-8ddb-a41f72875c19",
>>>>>>> 2645079b727ccf7005842fd856e6ec984f2ff004
         "x": [
          "8月5周",
          "9月1周",
          "9月2周",
          "9月3周",
          "9月4周",
          "10月2周",
          "10月3周"
         ],
         "y": [
          null,
          1,
          null,
          null,
          1,
          6,
          null
         ]
        },
        {
         "name": "流水号(驳回)",
         "type": "bar",
         "uid": "3e50ae06-d028-11e8-8ddb-a41f72875c19",
         "x": [
          "8月5周",
          "9月1周",
          "9月2周",
          "9月3周",
          "9月4周",
          "10月2周",
          "10月3周"
         ],
         "y": [
          null,
          3,
          5,
          2,
          3,
          4,
          null
         ]
        },
        {
         "name": "流水号(刘江)",
         "type": "bar",
<<<<<<< HEAD
         "uid": "3e50ae07-d028-11e8-8ddb-a41f72875c19",
=======
         "uid": "b0d6a78a-d016-11e8-8ddb-a41f72875c19",
>>>>>>> 2645079b727ccf7005842fd856e6ec984f2ff004
         "x": [
          "8月5周",
          "9月1周",
          "9月2周",
          "9月3周",
          "9月4周",
          "10月2周",
          "10月3周"
         ],
         "y": [
          null,
          2,
          1,
          null,
          null,
          1,
          null
         ]
        },
        {
         "name": "流水号(杨伟飞)",
         "type": "bar",
<<<<<<< HEAD
         "uid": "3e50ae08-d028-11e8-8ddb-a41f72875c19",
=======
         "uid": "b0d6a78b-d016-11e8-8ddb-a41f72875c19",
>>>>>>> 2645079b727ccf7005842fd856e6ec984f2ff004
         "x": [
          "8月5周",
          "9月1周",
          "9月2周",
          "9月3周",
          "9月4周",
          "10月2周",
          "10月3周"
         ],
         "y": [
          null,
          1,
          2,
          null,
          null,
          1,
          null
         ]
        },
        {
         "name": "流水号(赵倩)",
         "type": "bar",
<<<<<<< HEAD
         "uid": "3e50ae09-d028-11e8-8ddb-a41f72875c19",
=======
         "uid": "b0d6a78c-d016-11e8-8ddb-a41f72875c19",
>>>>>>> 2645079b727ccf7005842fd856e6ec984f2ff004
         "x": [
          "8月5周",
          "9月1周",
          "9月2周",
          "9月3周",
          "9月4周",
          "10月2周",
          "10月3周"
         ],
         "y": [
          null,
          5,
          7,
          3,
          5,
          8,
          null
         ]
        }
       ],
       "layout": {
        "barmode": "stack",
        "title": "流水号周趋势图",
        "xaxis": {
         "mirror": "all",
         "nticks": 20,
         "showgrid": true,
         "showline": true,
         "title": "周",
         "zeroline": true
        },
        "yaxis": {
         "mirror": "all",
         "nticks": 20,
         "showgrid": true,
         "showline": true,
         "title": "流水号",
         "zeroline": true
        }
       }
      },
      "text/html": [
<<<<<<< HEAD
       "<div id=\"d1bce0f7-fe39-4f17-851a-32d0fc9ff22b\" style=\"height: 525px; width: 100%;\" class=\"plotly-graph-div\"></div><script type=\"text/javascript\">require([\"plotly\"], function(Plotly) { window.PLOTLYENV=window.PLOTLYENV || {};window.PLOTLYENV.BASE_URL=\"https://plot.ly\";Plotly.newPlot(\"d1bce0f7-fe39-4f17-851a-32d0fc9ff22b\", [{\"name\": \"\\u6d41\\u6c34\\u53f7(\\u9a6c\\u6f47)\", \"x\": [\"8\\u67085\\u5468\", \"9\\u67081\\u5468\", \"9\\u67082\\u5468\", \"9\\u67083\\u5468\", \"9\\u67084\\u5468\", \"10\\u67082\\u5468\", \"10\\u67083\\u5468\"], \"y\": [null, 2.0, 2.0, null, 3.0, null, null], \"type\": \"bar\", \"uid\": \"3e50ade3-d028-11e8-8ddb-a41f72875c19\"}, {\"name\": \"\\u6d41\\u6c34\\u53f7(\\u97e9\\u5c11\\u6000)\", \"x\": [\"8\\u67085\\u5468\", \"9\\u67081\\u5468\", \"9\\u67082\\u5468\", \"9\\u67083\\u5468\", \"9\\u67084\\u5468\", \"10\\u67082\\u5468\", \"10\\u67083\\u5468\"], \"y\": [null, 1.0, null, null, 3.0, 2.0, null], \"type\": \"bar\", \"uid\": \"3e50ade4-d028-11e8-8ddb-a41f72875c19\"}, {\"name\": \"\\u6d41\\u6c34\\u53f7(\\u82d1\\u8d5e)\", \"x\": [\"8\\u67085\\u5468\", \"9\\u67081\\u5468\", \"9\\u67082\\u5468\", \"9\\u67083\\u5468\", \"9\\u67084\\u5468\", \"10\\u67082\\u5468\", \"10\\u67083\\u5468\"], \"y\": [null, null, null, null, 1.0, null, null], \"type\": \"bar\", \"uid\": \"3e50ade5-d028-11e8-8ddb-a41f72875c19\"}, {\"name\": \"\\u6d41\\u6c34\\u53f7(\\u59da\\u76df\\u6210)\", \"x\": [\"8\\u67085\\u5468\", \"9\\u67081\\u5468\", \"9\\u67082\\u5468\", \"9\\u67083\\u5468\", \"9\\u67084\\u5468\", \"10\\u67082\\u5468\", \"10\\u67083\\u5468\"], \"y\": [null, 1.0, null, 1.0, null, null, null], \"type\": \"bar\", \"uid\": \"3e50ade6-d028-11e8-8ddb-a41f72875c19\"}, {\"name\": \"\\u6d41\\u6c34\\u53f7(\\u5218\\u6c38\\u5f3a)\", \"x\": [\"8\\u67085\\u5468\", \"9\\u67081\\u5468\", \"9\\u67082\\u5468\", \"9\\u67083\\u5468\", \"9\\u67084\\u5468\", \"10\\u67082\\u5468\", \"10\\u67083\\u5468\"], \"y\": [null, 1.0, null, 1.0, null, 1.0, null], \"type\": \"bar\", \"uid\": \"3e50ade7-d028-11e8-8ddb-a41f72875c19\"}, {\"name\": \"\\u6d41\\u6c34\\u53f7(\\u6731\\u6167\\u840d)\", \"x\": [\"8\\u67085\\u5468\", \"9\\u67081\\u5468\", \"9\\u67082\\u5468\", \"9\\u67083\\u5468\", \"9\\u67084\\u5468\", \"10\\u67082\\u5468\", \"10\\u67083\\u5468\"], \"y\": [4.0, 3.0, 4.0, 2.0, 1.0, 3.0, null], \"type\": \"bar\", \"uid\": \"3e50ade8-d028-11e8-8ddb-a41f72875c19\"}, {\"name\": \"\\u6d41\\u6c34\\u53f7(\\u6797\\u6587\\u6587)\", \"x\": [\"8\\u67085\\u5468\", \"9\\u67081\\u5468\", \"9\\u67082\\u5468\", \"9\\u67083\\u5468\", \"9\\u67084\\u5468\", \"10\\u67082\\u5468\", \"10\\u67083\\u5468\"], \"y\": [null, null, 1.0, 3.0, null, null, null], \"type\": \"bar\", \"uid\": \"3e50ade9-d028-11e8-8ddb-a41f72875c19\"}, {\"name\": \"\\u6d41\\u6c34\\u53f7(\\u8f66\\u5929\\u680b)\", \"x\": [\"8\\u67085\\u5468\", \"9\\u67081\\u5468\", \"9\\u67082\\u5468\", \"9\\u67083\\u5468\", \"9\\u67084\\u5468\", \"10\\u67082\\u5468\", \"10\\u67083\\u5468\"], \"y\": [null, null, 1.0, 1.0, null, 1.0, null], \"type\": \"bar\", \"uid\": \"3e50adea-d028-11e8-8ddb-a41f72875c19\"}, {\"name\": \"\\u6d41\\u6c34\\u53f7(\\u6bb5\\u5229\\u5f3a)\", \"x\": [\"8\\u67085\\u5468\", \"9\\u67081\\u5468\", \"9\\u67082\\u5468\", \"9\\u67083\\u5468\", \"9\\u67084\\u5468\", \"10\\u67082\\u5468\", \"10\\u67083\\u5468\"], \"y\": [null, 1.0, 5.0, null, null, null, null], \"type\": \"bar\", \"uid\": \"3e50adeb-d028-11e8-8ddb-a41f72875c19\"}, {\"name\": \"\\u6d41\\u6c34\\u53f7(\\u6c88\\u7acb\\u7fa4)\", \"x\": [\"8\\u67085\\u5468\", \"9\\u67081\\u5468\", \"9\\u67082\\u5468\", \"9\\u67083\\u5468\", \"9\\u67084\\u5468\", \"10\\u67082\\u5468\", \"10\\u67083\\u5468\"], \"y\": [null, null, null, 1.0, null, null, null], \"type\": \"bar\", \"uid\": \"3e50adec-d028-11e8-8ddb-a41f72875c19\"}, {\"name\": \"\\u6d41\\u6c34\\u53f7(\\u9648\\u9e4f\\u71d5)\", \"x\": [\"8\\u67085\\u5468\", \"9\\u67081\\u5468\", \"9\\u67082\\u5468\", \"9\\u67083\\u5468\", \"9\\u67084\\u5468\", \"10\\u67082\\u5468\", \"10\\u67083\\u5468\"], \"y\": [1.0, 2.0, 3.0, 5.0, null, null, null], \"type\": \"bar\", \"uid\": \"3e50aded-d028-11e8-8ddb-a41f72875c19\"}, {\"name\": \"\\u6d41\\u6c34\\u53f7(\\u95fb\\u5c11\\u6960)\", \"x\": [\"8\\u67085\\u5468\", \"9\\u67081\\u5468\", \"9\\u67082\\u5468\", \"9\\u67083\\u5468\", \"9\\u67084\\u5468\", \"10\\u67082\\u5468\", \"10\\u67083\\u5468\"], \"y\": [null, null, 2.0, 1.0, 1.0, 4.0, null], \"type\": \"bar\", \"uid\": \"3e50adee-d028-11e8-8ddb-a41f72875c19\"}, {\"name\": \"\\u6d41\\u6c34\\u53f7(\\u6768\\u5b87)\", \"x\": [\"8\\u67085\\u5468\", \"9\\u67081\\u5468\", \"9\\u67082\\u5468\", \"9\\u67083\\u5468\", \"9\\u67084\\u5468\", \"10\\u67082\\u5468\", \"10\\u67083\\u5468\"], \"y\": [null, 2.0, 4.0, 4.0, 1.0, 3.0, null], \"type\": \"bar\", \"uid\": \"3e50adef-d028-11e8-8ddb-a41f72875c19\"}, {\"name\": \"\\u6d41\\u6c34\\u53f7(\\u5c48\\u6602)\", \"x\": [\"8\\u67085\\u5468\", \"9\\u67081\\u5468\", \"9\\u67082\\u5468\", \"9\\u67083\\u5468\", \"9\\u67084\\u5468\", \"10\\u67082\\u5468\", \"10\\u67083\\u5468\"], \"y\": [1.0, null, null, 1.0, 1.0, null, null], \"type\": \"bar\", \"uid\": \"3e50adf0-d028-11e8-8ddb-a41f72875c19\"}, {\"name\": \"\\u6d41\\u6c34\\u53f7(\\u738b\\u4f20\\u6587)\", \"x\": [\"8\\u67085\\u5468\", \"9\\u67081\\u5468\", \"9\\u67082\\u5468\", \"9\\u67083\\u5468\", \"9\\u67084\\u5468\", \"10\\u67082\\u5468\", \"10\\u67083\\u5468\"], \"y\": [null, null, null, 1.0, null, 2.0, null], \"type\": \"bar\", \"uid\": \"3e50adf1-d028-11e8-8ddb-a41f72875c19\"}, {\"name\": \"\\u6d41\\u6c34\\u53f7(\\u674e\\u534e\\u4e91)\", \"x\": [\"8\\u67085\\u5468\", \"9\\u67081\\u5468\", \"9\\u67082\\u5468\", \"9\\u67083\\u5468\", \"9\\u67084\\u5468\", \"10\\u67082\\u5468\", \"10\\u67083\\u5468\"], \"y\": [null, null, null, 1.0, 1.0, null, null], \"type\": \"bar\", \"uid\": \"3e50adf2-d028-11e8-8ddb-a41f72875c19\"}, {\"name\": \"\\u6d41\\u6c34\\u53f7(\\u738b\\u971e)\", \"x\": [\"8\\u67085\\u5468\", \"9\\u67081\\u5468\", \"9\\u67082\\u5468\", \"9\\u67083\\u5468\", \"9\\u67084\\u5468\", \"10\\u67082\\u5468\", \"10\\u67083\\u5468\"], \"y\": [null, 2.0, 2.0, 5.0, 1.0, 4.0, null], \"type\": \"bar\", \"uid\": \"3e50adf3-d028-11e8-8ddb-a41f72875c19\"}, {\"name\": \"\\u6d41\\u6c34\\u53f7(\\u8303\\u65ed\\u5b81)\", \"x\": [\"8\\u67085\\u5468\", \"9\\u67081\\u5468\", \"9\\u67082\\u5468\", \"9\\u67083\\u5468\", \"9\\u67084\\u5468\", \"10\\u67082\\u5468\", \"10\\u67083\\u5468\"], \"y\": [null, 1.0, null, 2.0, 2.0, null, null], \"type\": \"bar\", \"uid\": \"3e50adf4-d028-11e8-8ddb-a41f72875c19\"}, {\"name\": \"\\u6d41\\u6c34\\u53f7(\\u4e8e\\u6167)\", \"x\": [\"8\\u67085\\u5468\", \"9\\u67081\\u5468\", \"9\\u67082\\u5468\", \"9\\u67083\\u5468\", \"9\\u67084\\u5468\", \"10\\u67082\\u5468\", \"10\\u67083\\u5468\"], \"y\": [null, null, 1.0, 1.0, null, 2.0, null], \"type\": \"bar\", \"uid\": \"3e50adf5-d028-11e8-8ddb-a41f72875c19\"}, {\"name\": \"\\u6d41\\u6c34\\u53f7(\\u5f20\\u60a6)\", \"x\": [\"8\\u67085\\u5468\", \"9\\u67081\\u5468\", \"9\\u67082\\u5468\", \"9\\u67083\\u5468\", \"9\\u67084\\u5468\", \"10\\u67082\\u5468\", \"10\\u67083\\u5468\"], \"y\": [null, null, null, null, null, 1.0, null], \"type\": \"bar\", \"uid\": \"3e50adf6-d028-11e8-8ddb-a41f72875c19\"}, {\"name\": \"\\u6d41\\u6c34\\u53f7(\\u9ad8\\u5251)\", \"x\": [\"8\\u67085\\u5468\", \"9\\u67081\\u5468\", \"9\\u67082\\u5468\", \"9\\u67083\\u5468\", \"9\\u67084\\u5468\", \"10\\u67082\\u5468\", \"10\\u67083\\u5468\"], \"y\": [null, 1.0, null, null, null, null, null], \"type\": \"bar\", \"uid\": \"3e50adf7-d028-11e8-8ddb-a41f72875c19\"}, {\"name\": \"\\u6d41\\u6c34\\u53f7(\\u9773\\u751c\\u751c)\", \"x\": [\"8\\u67085\\u5468\", \"9\\u67081\\u5468\", \"9\\u67082\\u5468\", \"9\\u67083\\u5468\", \"9\\u67084\\u5468\", \"10\\u67082\\u5468\", \"10\\u67083\\u5468\"], \"y\": [null, null, null, null, null, 1.0, null], \"type\": \"bar\", \"uid\": \"3e50adf8-d028-11e8-8ddb-a41f72875c19\"}, {\"name\": \"\\u6d41\\u6c34\\u53f7(\\u4e8e\\u52c7\\u4e00)\", \"x\": [\"8\\u67085\\u5468\", \"9\\u67081\\u5468\", \"9\\u67082\\u5468\", \"9\\u67083\\u5468\", \"9\\u67084\\u5468\", \"10\\u67082\\u5468\", \"10\\u67083\\u5468\"], \"y\": [null, null, null, 1.0, null, null, null], \"type\": \"bar\", \"uid\": \"3e50adf9-d028-11e8-8ddb-a41f72875c19\"}, {\"name\": \"\\u6d41\\u6c34\\u53f7(\\u89e3\\u98de)\", \"x\": [\"8\\u67085\\u5468\", \"9\\u67081\\u5468\", \"9\\u67082\\u5468\", \"9\\u67083\\u5468\", \"9\\u67084\\u5468\", \"10\\u67082\\u5468\", \"10\\u67083\\u5468\"], \"y\": [null, null, null, null, 2.0, 1.0, null], \"type\": \"bar\", \"uid\": \"3e50adfa-d028-11e8-8ddb-a41f72875c19\"}, {\"name\": \"\\u6d41\\u6c34\\u53f7(\\u5218\\u68a6\\u82d1)\", \"x\": [\"8\\u67085\\u5468\", \"9\\u67081\\u5468\", \"9\\u67082\\u5468\", \"9\\u67083\\u5468\", \"9\\u67084\\u5468\", \"10\\u67082\\u5468\", \"10\\u67083\\u5468\"], \"y\": [null, 2.0, null, 2.0, 3.0, 6.0, null], \"type\": \"bar\", \"uid\": \"3e50adfb-d028-11e8-8ddb-a41f72875c19\"}, {\"name\": \"\\u6d41\\u6c34\\u53f7(\\u9648\\u78a7\\u96ef)\", \"x\": [\"8\\u67085\\u5468\", \"9\\u67081\\u5468\", \"9\\u67082\\u5468\", \"9\\u67083\\u5468\", \"9\\u67084\\u5468\", \"10\\u67082\\u5468\", \"10\\u67083\\u5468\"], \"y\": [null, 4.0, 2.0, 1.0, 4.0, null, null], \"type\": \"bar\", \"uid\": \"3e50adfc-d028-11e8-8ddb-a41f72875c19\"}, {\"name\": \"\\u6d41\\u6c34\\u53f7(\\u51af\\u656c\\u5ca9)\", \"x\": [\"8\\u67085\\u5468\", \"9\\u67081\\u5468\", \"9\\u67082\\u5468\", \"9\\u67083\\u5468\", \"9\\u67084\\u5468\", \"10\\u67082\\u5468\", \"10\\u67083\\u5468\"], \"y\": [null, 3.0, 3.0, 2.0, 3.0, 4.0, 1.0], \"type\": \"bar\", \"uid\": \"3e50adfd-d028-11e8-8ddb-a41f72875c19\"}, {\"name\": \"\\u6d41\\u6c34\\u53f7(\\u51b7\\u96ea)\", \"x\": [\"8\\u67085\\u5468\", \"9\\u67081\\u5468\", \"9\\u67082\\u5468\", \"9\\u67083\\u5468\", \"9\\u67084\\u5468\", \"10\\u67082\\u5468\", \"10\\u67083\\u5468\"], \"y\": [null, 1.0, 1.0, null, 4.0, 1.0, null], \"type\": \"bar\", \"uid\": \"3e50adfe-d028-11e8-8ddb-a41f72875c19\"}, {\"name\": \"\\u6d41\\u6c34\\u53f7(\\u6c88\\u6069\\u60e0)\", \"x\": [\"8\\u67085\\u5468\", \"9\\u67081\\u5468\", \"9\\u67082\\u5468\", \"9\\u67083\\u5468\", \"9\\u67084\\u5468\", \"10\\u67082\\u5468\", \"10\\u67083\\u5468\"], \"y\": [null, 1.0, null, 1.0, null, 1.0, null], \"type\": \"bar\", \"uid\": \"3e50adff-d028-11e8-8ddb-a41f72875c19\"}, {\"name\": \"\\u6d41\\u6c34\\u53f7(\\u8d75\\u73a5)\", \"x\": [\"8\\u67085\\u5468\", \"9\\u67081\\u5468\", \"9\\u67082\\u5468\", \"9\\u67083\\u5468\", \"9\\u67084\\u5468\", \"10\\u67082\\u5468\", \"10\\u67083\\u5468\"], \"y\": [null, null, 1.0, null, null, null, null], \"type\": \"bar\", \"uid\": \"3e50ae00-d028-11e8-8ddb-a41f72875c19\"}, {\"name\": \"\\u6d41\\u6c34\\u53f7(\\u6636\\u5409\\u9633)\", \"x\": [\"8\\u67085\\u5468\", \"9\\u67081\\u5468\", \"9\\u67082\\u5468\", \"9\\u67083\\u5468\", \"9\\u67084\\u5468\", \"10\\u67082\\u5468\", \"10\\u67083\\u5468\"], \"y\": [null, 1.0, 2.0, null, 4.0, null, null], \"type\": \"bar\", \"uid\": \"3e50ae01-d028-11e8-8ddb-a41f72875c19\"}, {\"name\": \"\\u6d41\\u6c34\\u53f7(\\u4f55\\u80dc)\", \"x\": [\"8\\u67085\\u5468\", \"9\\u67081\\u5468\", \"9\\u67082\\u5468\", \"9\\u67083\\u5468\", \"9\\u67084\\u5468\", \"10\\u67082\\u5468\", \"10\\u67083\\u5468\"], \"y\": [null, 3.0, 2.0, 5.0, 2.0, 3.0, null], \"type\": \"bar\", \"uid\": \"3e50ae02-d028-11e8-8ddb-a41f72875c19\"}, {\"name\": \"\\u6d41\\u6c34\\u53f7(\\u5c01\\u5f66\\u6770)\", \"x\": [\"8\\u67085\\u5468\", \"9\\u67081\\u5468\", \"9\\u67082\\u5468\", \"9\\u67083\\u5468\", \"9\\u67084\\u5468\", \"10\\u67082\\u5468\", \"10\\u67083\\u5468\"], \"y\": [null, null, null, null, 1.0, null, null], \"type\": \"bar\", \"uid\": \"3e50ae03-d028-11e8-8ddb-a41f72875c19\"}, {\"name\": \"\\u6d41\\u6c34\\u53f7(\\u5360\\u4f1f)\", \"x\": [\"8\\u67085\\u5468\", \"9\\u67081\\u5468\", \"9\\u67082\\u5468\", \"9\\u67083\\u5468\", \"9\\u67084\\u5468\", \"10\\u67082\\u5468\", \"10\\u67083\\u5468\"], \"y\": [null, 1.0, 1.0, null, null, 3.0, null], \"type\": \"bar\", \"uid\": \"3e50ae04-d028-11e8-8ddb-a41f72875c19\"}, {\"name\": \"\\u6d41\\u6c34\\u53f7(\\u5b8b\\u5c11\\u5b87)\", \"x\": [\"8\\u67085\\u5468\", \"9\\u67081\\u5468\", \"9\\u67082\\u5468\", \"9\\u67083\\u5468\", \"9\\u67084\\u5468\", \"10\\u67082\\u5468\", \"10\\u67083\\u5468\"], \"y\": [null, 1.0, null, null, 1.0, 6.0, null], \"type\": \"bar\", \"uid\": \"3e50ae05-d028-11e8-8ddb-a41f72875c19\"}, {\"name\": \"\\u6d41\\u6c34\\u53f7(\\u9a73\\u56de)\", \"x\": [\"8\\u67085\\u5468\", \"9\\u67081\\u5468\", \"9\\u67082\\u5468\", \"9\\u67083\\u5468\", \"9\\u67084\\u5468\", \"10\\u67082\\u5468\", \"10\\u67083\\u5468\"], \"y\": [null, 3.0, 5.0, 2.0, 3.0, 4.0, null], \"type\": \"bar\", \"uid\": \"3e50ae06-d028-11e8-8ddb-a41f72875c19\"}, {\"name\": \"\\u6d41\\u6c34\\u53f7(\\u5218\\u6c5f)\", \"x\": [\"8\\u67085\\u5468\", \"9\\u67081\\u5468\", \"9\\u67082\\u5468\", \"9\\u67083\\u5468\", \"9\\u67084\\u5468\", \"10\\u67082\\u5468\", \"10\\u67083\\u5468\"], \"y\": [null, 2.0, 1.0, null, null, 1.0, null], \"type\": \"bar\", \"uid\": \"3e50ae07-d028-11e8-8ddb-a41f72875c19\"}, {\"name\": \"\\u6d41\\u6c34\\u53f7(\\u6768\\u4f1f\\u98de)\", \"x\": [\"8\\u67085\\u5468\", \"9\\u67081\\u5468\", \"9\\u67082\\u5468\", \"9\\u67083\\u5468\", \"9\\u67084\\u5468\", \"10\\u67082\\u5468\", \"10\\u67083\\u5468\"], \"y\": [null, 1.0, 2.0, null, null, 1.0, null], \"type\": \"bar\", \"uid\": \"3e50ae08-d028-11e8-8ddb-a41f72875c19\"}, {\"name\": \"\\u6d41\\u6c34\\u53f7(\\u8d75\\u5029)\", \"x\": [\"8\\u67085\\u5468\", \"9\\u67081\\u5468\", \"9\\u67082\\u5468\", \"9\\u67083\\u5468\", \"9\\u67084\\u5468\", \"10\\u67082\\u5468\", \"10\\u67083\\u5468\"], \"y\": [null, 5.0, 7.0, 3.0, 5.0, 8.0, null], \"type\": \"bar\", \"uid\": \"3e50ae09-d028-11e8-8ddb-a41f72875c19\"}], {\"barmode\": \"stack\", \"title\": \"\\u6d41\\u6c34\\u53f7\\u5468\\u8d8b\\u52bf\\u56fe\", \"xaxis\": {\"mirror\": \"all\", \"nticks\": 20, \"showgrid\": true, \"showline\": true, \"title\": \"\\u5468\", \"zeroline\": true}, \"yaxis\": {\"mirror\": \"all\", \"nticks\": 20, \"showgrid\": true, \"showline\": true, \"title\": \"\\u6d41\\u6c34\\u53f7\", \"zeroline\": true}}, {\"showLink\": true, \"linkText\": \"Export to plot.ly\"})});</script>"
      ],
      "text/vnd.plotly.v1+html": [
       "<div id=\"d1bce0f7-fe39-4f17-851a-32d0fc9ff22b\" style=\"height: 525px; width: 100%;\" class=\"plotly-graph-div\"></div><script type=\"text/javascript\">require([\"plotly\"], function(Plotly) { window.PLOTLYENV=window.PLOTLYENV || {};window.PLOTLYENV.BASE_URL=\"https://plot.ly\";Plotly.newPlot(\"d1bce0f7-fe39-4f17-851a-32d0fc9ff22b\", [{\"name\": \"\\u6d41\\u6c34\\u53f7(\\u9a6c\\u6f47)\", \"x\": [\"8\\u67085\\u5468\", \"9\\u67081\\u5468\", \"9\\u67082\\u5468\", \"9\\u67083\\u5468\", \"9\\u67084\\u5468\", \"10\\u67082\\u5468\", \"10\\u67083\\u5468\"], \"y\": [null, 2.0, 2.0, null, 3.0, null, null], \"type\": \"bar\", \"uid\": \"3e50ade3-d028-11e8-8ddb-a41f72875c19\"}, {\"name\": \"\\u6d41\\u6c34\\u53f7(\\u97e9\\u5c11\\u6000)\", \"x\": [\"8\\u67085\\u5468\", \"9\\u67081\\u5468\", \"9\\u67082\\u5468\", \"9\\u67083\\u5468\", \"9\\u67084\\u5468\", \"10\\u67082\\u5468\", \"10\\u67083\\u5468\"], \"y\": [null, 1.0, null, null, 3.0, 2.0, null], \"type\": \"bar\", \"uid\": \"3e50ade4-d028-11e8-8ddb-a41f72875c19\"}, {\"name\": \"\\u6d41\\u6c34\\u53f7(\\u82d1\\u8d5e)\", \"x\": [\"8\\u67085\\u5468\", \"9\\u67081\\u5468\", \"9\\u67082\\u5468\", \"9\\u67083\\u5468\", \"9\\u67084\\u5468\", \"10\\u67082\\u5468\", \"10\\u67083\\u5468\"], \"y\": [null, null, null, null, 1.0, null, null], \"type\": \"bar\", \"uid\": \"3e50ade5-d028-11e8-8ddb-a41f72875c19\"}, {\"name\": \"\\u6d41\\u6c34\\u53f7(\\u59da\\u76df\\u6210)\", \"x\": [\"8\\u67085\\u5468\", \"9\\u67081\\u5468\", \"9\\u67082\\u5468\", \"9\\u67083\\u5468\", \"9\\u67084\\u5468\", \"10\\u67082\\u5468\", \"10\\u67083\\u5468\"], \"y\": [null, 1.0, null, 1.0, null, null, null], \"type\": \"bar\", \"uid\": \"3e50ade6-d028-11e8-8ddb-a41f72875c19\"}, {\"name\": \"\\u6d41\\u6c34\\u53f7(\\u5218\\u6c38\\u5f3a)\", \"x\": [\"8\\u67085\\u5468\", \"9\\u67081\\u5468\", \"9\\u67082\\u5468\", \"9\\u67083\\u5468\", \"9\\u67084\\u5468\", \"10\\u67082\\u5468\", \"10\\u67083\\u5468\"], \"y\": [null, 1.0, null, 1.0, null, 1.0, null], \"type\": \"bar\", \"uid\": \"3e50ade7-d028-11e8-8ddb-a41f72875c19\"}, {\"name\": \"\\u6d41\\u6c34\\u53f7(\\u6731\\u6167\\u840d)\", \"x\": [\"8\\u67085\\u5468\", \"9\\u67081\\u5468\", \"9\\u67082\\u5468\", \"9\\u67083\\u5468\", \"9\\u67084\\u5468\", \"10\\u67082\\u5468\", \"10\\u67083\\u5468\"], \"y\": [4.0, 3.0, 4.0, 2.0, 1.0, 3.0, null], \"type\": \"bar\", \"uid\": \"3e50ade8-d028-11e8-8ddb-a41f72875c19\"}, {\"name\": \"\\u6d41\\u6c34\\u53f7(\\u6797\\u6587\\u6587)\", \"x\": [\"8\\u67085\\u5468\", \"9\\u67081\\u5468\", \"9\\u67082\\u5468\", \"9\\u67083\\u5468\", \"9\\u67084\\u5468\", \"10\\u67082\\u5468\", \"10\\u67083\\u5468\"], \"y\": [null, null, 1.0, 3.0, null, null, null], \"type\": \"bar\", \"uid\": \"3e50ade9-d028-11e8-8ddb-a41f72875c19\"}, {\"name\": \"\\u6d41\\u6c34\\u53f7(\\u8f66\\u5929\\u680b)\", \"x\": [\"8\\u67085\\u5468\", \"9\\u67081\\u5468\", \"9\\u67082\\u5468\", \"9\\u67083\\u5468\", \"9\\u67084\\u5468\", \"10\\u67082\\u5468\", \"10\\u67083\\u5468\"], \"y\": [null, null, 1.0, 1.0, null, 1.0, null], \"type\": \"bar\", \"uid\": \"3e50adea-d028-11e8-8ddb-a41f72875c19\"}, {\"name\": \"\\u6d41\\u6c34\\u53f7(\\u6bb5\\u5229\\u5f3a)\", \"x\": [\"8\\u67085\\u5468\", \"9\\u67081\\u5468\", \"9\\u67082\\u5468\", \"9\\u67083\\u5468\", \"9\\u67084\\u5468\", \"10\\u67082\\u5468\", \"10\\u67083\\u5468\"], \"y\": [null, 1.0, 5.0, null, null, null, null], \"type\": \"bar\", \"uid\": \"3e50adeb-d028-11e8-8ddb-a41f72875c19\"}, {\"name\": \"\\u6d41\\u6c34\\u53f7(\\u6c88\\u7acb\\u7fa4)\", \"x\": [\"8\\u67085\\u5468\", \"9\\u67081\\u5468\", \"9\\u67082\\u5468\", \"9\\u67083\\u5468\", \"9\\u67084\\u5468\", \"10\\u67082\\u5468\", \"10\\u67083\\u5468\"], \"y\": [null, null, null, 1.0, null, null, null], \"type\": \"bar\", \"uid\": \"3e50adec-d028-11e8-8ddb-a41f72875c19\"}, {\"name\": \"\\u6d41\\u6c34\\u53f7(\\u9648\\u9e4f\\u71d5)\", \"x\": [\"8\\u67085\\u5468\", \"9\\u67081\\u5468\", \"9\\u67082\\u5468\", \"9\\u67083\\u5468\", \"9\\u67084\\u5468\", \"10\\u67082\\u5468\", \"10\\u67083\\u5468\"], \"y\": [1.0, 2.0, 3.0, 5.0, null, null, null], \"type\": \"bar\", \"uid\": \"3e50aded-d028-11e8-8ddb-a41f72875c19\"}, {\"name\": \"\\u6d41\\u6c34\\u53f7(\\u95fb\\u5c11\\u6960)\", \"x\": [\"8\\u67085\\u5468\", \"9\\u67081\\u5468\", \"9\\u67082\\u5468\", \"9\\u67083\\u5468\", \"9\\u67084\\u5468\", \"10\\u67082\\u5468\", \"10\\u67083\\u5468\"], \"y\": [null, null, 2.0, 1.0, 1.0, 4.0, null], \"type\": \"bar\", \"uid\": \"3e50adee-d028-11e8-8ddb-a41f72875c19\"}, {\"name\": \"\\u6d41\\u6c34\\u53f7(\\u6768\\u5b87)\", \"x\": [\"8\\u67085\\u5468\", \"9\\u67081\\u5468\", \"9\\u67082\\u5468\", \"9\\u67083\\u5468\", \"9\\u67084\\u5468\", \"10\\u67082\\u5468\", \"10\\u67083\\u5468\"], \"y\": [null, 2.0, 4.0, 4.0, 1.0, 3.0, null], \"type\": \"bar\", \"uid\": \"3e50adef-d028-11e8-8ddb-a41f72875c19\"}, {\"name\": \"\\u6d41\\u6c34\\u53f7(\\u5c48\\u6602)\", \"x\": [\"8\\u67085\\u5468\", \"9\\u67081\\u5468\", \"9\\u67082\\u5468\", \"9\\u67083\\u5468\", \"9\\u67084\\u5468\", \"10\\u67082\\u5468\", \"10\\u67083\\u5468\"], \"y\": [1.0, null, null, 1.0, 1.0, null, null], \"type\": \"bar\", \"uid\": \"3e50adf0-d028-11e8-8ddb-a41f72875c19\"}, {\"name\": \"\\u6d41\\u6c34\\u53f7(\\u738b\\u4f20\\u6587)\", \"x\": [\"8\\u67085\\u5468\", \"9\\u67081\\u5468\", \"9\\u67082\\u5468\", \"9\\u67083\\u5468\", \"9\\u67084\\u5468\", \"10\\u67082\\u5468\", \"10\\u67083\\u5468\"], \"y\": [null, null, null, 1.0, null, 2.0, null], \"type\": \"bar\", \"uid\": \"3e50adf1-d028-11e8-8ddb-a41f72875c19\"}, {\"name\": \"\\u6d41\\u6c34\\u53f7(\\u674e\\u534e\\u4e91)\", \"x\": [\"8\\u67085\\u5468\", \"9\\u67081\\u5468\", \"9\\u67082\\u5468\", \"9\\u67083\\u5468\", \"9\\u67084\\u5468\", \"10\\u67082\\u5468\", \"10\\u67083\\u5468\"], \"y\": [null, null, null, 1.0, 1.0, null, null], \"type\": \"bar\", \"uid\": \"3e50adf2-d028-11e8-8ddb-a41f72875c19\"}, {\"name\": \"\\u6d41\\u6c34\\u53f7(\\u738b\\u971e)\", \"x\": [\"8\\u67085\\u5468\", \"9\\u67081\\u5468\", \"9\\u67082\\u5468\", \"9\\u67083\\u5468\", \"9\\u67084\\u5468\", \"10\\u67082\\u5468\", \"10\\u67083\\u5468\"], \"y\": [null, 2.0, 2.0, 5.0, 1.0, 4.0, null], \"type\": \"bar\", \"uid\": \"3e50adf3-d028-11e8-8ddb-a41f72875c19\"}, {\"name\": \"\\u6d41\\u6c34\\u53f7(\\u8303\\u65ed\\u5b81)\", \"x\": [\"8\\u67085\\u5468\", \"9\\u67081\\u5468\", \"9\\u67082\\u5468\", \"9\\u67083\\u5468\", \"9\\u67084\\u5468\", \"10\\u67082\\u5468\", \"10\\u67083\\u5468\"], \"y\": [null, 1.0, null, 2.0, 2.0, null, null], \"type\": \"bar\", \"uid\": \"3e50adf4-d028-11e8-8ddb-a41f72875c19\"}, {\"name\": \"\\u6d41\\u6c34\\u53f7(\\u4e8e\\u6167)\", \"x\": [\"8\\u67085\\u5468\", \"9\\u67081\\u5468\", \"9\\u67082\\u5468\", \"9\\u67083\\u5468\", \"9\\u67084\\u5468\", \"10\\u67082\\u5468\", \"10\\u67083\\u5468\"], \"y\": [null, null, 1.0, 1.0, null, 2.0, null], \"type\": \"bar\", \"uid\": \"3e50adf5-d028-11e8-8ddb-a41f72875c19\"}, {\"name\": \"\\u6d41\\u6c34\\u53f7(\\u5f20\\u60a6)\", \"x\": [\"8\\u67085\\u5468\", \"9\\u67081\\u5468\", \"9\\u67082\\u5468\", \"9\\u67083\\u5468\", \"9\\u67084\\u5468\", \"10\\u67082\\u5468\", \"10\\u67083\\u5468\"], \"y\": [null, null, null, null, null, 1.0, null], \"type\": \"bar\", \"uid\": \"3e50adf6-d028-11e8-8ddb-a41f72875c19\"}, {\"name\": \"\\u6d41\\u6c34\\u53f7(\\u9ad8\\u5251)\", \"x\": [\"8\\u67085\\u5468\", \"9\\u67081\\u5468\", \"9\\u67082\\u5468\", \"9\\u67083\\u5468\", \"9\\u67084\\u5468\", \"10\\u67082\\u5468\", \"10\\u67083\\u5468\"], \"y\": [null, 1.0, null, null, null, null, null], \"type\": \"bar\", \"uid\": \"3e50adf7-d028-11e8-8ddb-a41f72875c19\"}, {\"name\": \"\\u6d41\\u6c34\\u53f7(\\u9773\\u751c\\u751c)\", \"x\": [\"8\\u67085\\u5468\", \"9\\u67081\\u5468\", \"9\\u67082\\u5468\", \"9\\u67083\\u5468\", \"9\\u67084\\u5468\", \"10\\u67082\\u5468\", \"10\\u67083\\u5468\"], \"y\": [null, null, null, null, null, 1.0, null], \"type\": \"bar\", \"uid\": \"3e50adf8-d028-11e8-8ddb-a41f72875c19\"}, {\"name\": \"\\u6d41\\u6c34\\u53f7(\\u4e8e\\u52c7\\u4e00)\", \"x\": [\"8\\u67085\\u5468\", \"9\\u67081\\u5468\", \"9\\u67082\\u5468\", \"9\\u67083\\u5468\", \"9\\u67084\\u5468\", \"10\\u67082\\u5468\", \"10\\u67083\\u5468\"], \"y\": [null, null, null, 1.0, null, null, null], \"type\": \"bar\", \"uid\": \"3e50adf9-d028-11e8-8ddb-a41f72875c19\"}, {\"name\": \"\\u6d41\\u6c34\\u53f7(\\u89e3\\u98de)\", \"x\": [\"8\\u67085\\u5468\", \"9\\u67081\\u5468\", \"9\\u67082\\u5468\", \"9\\u67083\\u5468\", \"9\\u67084\\u5468\", \"10\\u67082\\u5468\", \"10\\u67083\\u5468\"], \"y\": [null, null, null, null, 2.0, 1.0, null], \"type\": \"bar\", \"uid\": \"3e50adfa-d028-11e8-8ddb-a41f72875c19\"}, {\"name\": \"\\u6d41\\u6c34\\u53f7(\\u5218\\u68a6\\u82d1)\", \"x\": [\"8\\u67085\\u5468\", \"9\\u67081\\u5468\", \"9\\u67082\\u5468\", \"9\\u67083\\u5468\", \"9\\u67084\\u5468\", \"10\\u67082\\u5468\", \"10\\u67083\\u5468\"], \"y\": [null, 2.0, null, 2.0, 3.0, 6.0, null], \"type\": \"bar\", \"uid\": \"3e50adfb-d028-11e8-8ddb-a41f72875c19\"}, {\"name\": \"\\u6d41\\u6c34\\u53f7(\\u9648\\u78a7\\u96ef)\", \"x\": [\"8\\u67085\\u5468\", \"9\\u67081\\u5468\", \"9\\u67082\\u5468\", \"9\\u67083\\u5468\", \"9\\u67084\\u5468\", \"10\\u67082\\u5468\", \"10\\u67083\\u5468\"], \"y\": [null, 4.0, 2.0, 1.0, 4.0, null, null], \"type\": \"bar\", \"uid\": \"3e50adfc-d028-11e8-8ddb-a41f72875c19\"}, {\"name\": \"\\u6d41\\u6c34\\u53f7(\\u51af\\u656c\\u5ca9)\", \"x\": [\"8\\u67085\\u5468\", \"9\\u67081\\u5468\", \"9\\u67082\\u5468\", \"9\\u67083\\u5468\", \"9\\u67084\\u5468\", \"10\\u67082\\u5468\", \"10\\u67083\\u5468\"], \"y\": [null, 3.0, 3.0, 2.0, 3.0, 4.0, 1.0], \"type\": \"bar\", \"uid\": \"3e50adfd-d028-11e8-8ddb-a41f72875c19\"}, {\"name\": \"\\u6d41\\u6c34\\u53f7(\\u51b7\\u96ea)\", \"x\": [\"8\\u67085\\u5468\", \"9\\u67081\\u5468\", \"9\\u67082\\u5468\", \"9\\u67083\\u5468\", \"9\\u67084\\u5468\", \"10\\u67082\\u5468\", \"10\\u67083\\u5468\"], \"y\": [null, 1.0, 1.0, null, 4.0, 1.0, null], \"type\": \"bar\", \"uid\": \"3e50adfe-d028-11e8-8ddb-a41f72875c19\"}, {\"name\": \"\\u6d41\\u6c34\\u53f7(\\u6c88\\u6069\\u60e0)\", \"x\": [\"8\\u67085\\u5468\", \"9\\u67081\\u5468\", \"9\\u67082\\u5468\", \"9\\u67083\\u5468\", \"9\\u67084\\u5468\", \"10\\u67082\\u5468\", \"10\\u67083\\u5468\"], \"y\": [null, 1.0, null, 1.0, null, 1.0, null], \"type\": \"bar\", \"uid\": \"3e50adff-d028-11e8-8ddb-a41f72875c19\"}, {\"name\": \"\\u6d41\\u6c34\\u53f7(\\u8d75\\u73a5)\", \"x\": [\"8\\u67085\\u5468\", \"9\\u67081\\u5468\", \"9\\u67082\\u5468\", \"9\\u67083\\u5468\", \"9\\u67084\\u5468\", \"10\\u67082\\u5468\", \"10\\u67083\\u5468\"], \"y\": [null, null, 1.0, null, null, null, null], \"type\": \"bar\", \"uid\": \"3e50ae00-d028-11e8-8ddb-a41f72875c19\"}, {\"name\": \"\\u6d41\\u6c34\\u53f7(\\u6636\\u5409\\u9633)\", \"x\": [\"8\\u67085\\u5468\", \"9\\u67081\\u5468\", \"9\\u67082\\u5468\", \"9\\u67083\\u5468\", \"9\\u67084\\u5468\", \"10\\u67082\\u5468\", \"10\\u67083\\u5468\"], \"y\": [null, 1.0, 2.0, null, 4.0, null, null], \"type\": \"bar\", \"uid\": \"3e50ae01-d028-11e8-8ddb-a41f72875c19\"}, {\"name\": \"\\u6d41\\u6c34\\u53f7(\\u4f55\\u80dc)\", \"x\": [\"8\\u67085\\u5468\", \"9\\u67081\\u5468\", \"9\\u67082\\u5468\", \"9\\u67083\\u5468\", \"9\\u67084\\u5468\", \"10\\u67082\\u5468\", \"10\\u67083\\u5468\"], \"y\": [null, 3.0, 2.0, 5.0, 2.0, 3.0, null], \"type\": \"bar\", \"uid\": \"3e50ae02-d028-11e8-8ddb-a41f72875c19\"}, {\"name\": \"\\u6d41\\u6c34\\u53f7(\\u5c01\\u5f66\\u6770)\", \"x\": [\"8\\u67085\\u5468\", \"9\\u67081\\u5468\", \"9\\u67082\\u5468\", \"9\\u67083\\u5468\", \"9\\u67084\\u5468\", \"10\\u67082\\u5468\", \"10\\u67083\\u5468\"], \"y\": [null, null, null, null, 1.0, null, null], \"type\": \"bar\", \"uid\": \"3e50ae03-d028-11e8-8ddb-a41f72875c19\"}, {\"name\": \"\\u6d41\\u6c34\\u53f7(\\u5360\\u4f1f)\", \"x\": [\"8\\u67085\\u5468\", \"9\\u67081\\u5468\", \"9\\u67082\\u5468\", \"9\\u67083\\u5468\", \"9\\u67084\\u5468\", \"10\\u67082\\u5468\", \"10\\u67083\\u5468\"], \"y\": [null, 1.0, 1.0, null, null, 3.0, null], \"type\": \"bar\", \"uid\": \"3e50ae04-d028-11e8-8ddb-a41f72875c19\"}, {\"name\": \"\\u6d41\\u6c34\\u53f7(\\u5b8b\\u5c11\\u5b87)\", \"x\": [\"8\\u67085\\u5468\", \"9\\u67081\\u5468\", \"9\\u67082\\u5468\", \"9\\u67083\\u5468\", \"9\\u67084\\u5468\", \"10\\u67082\\u5468\", \"10\\u67083\\u5468\"], \"y\": [null, 1.0, null, null, 1.0, 6.0, null], \"type\": \"bar\", \"uid\": \"3e50ae05-d028-11e8-8ddb-a41f72875c19\"}, {\"name\": \"\\u6d41\\u6c34\\u53f7(\\u9a73\\u56de)\", \"x\": [\"8\\u67085\\u5468\", \"9\\u67081\\u5468\", \"9\\u67082\\u5468\", \"9\\u67083\\u5468\", \"9\\u67084\\u5468\", \"10\\u67082\\u5468\", \"10\\u67083\\u5468\"], \"y\": [null, 3.0, 5.0, 2.0, 3.0, 4.0, null], \"type\": \"bar\", \"uid\": \"3e50ae06-d028-11e8-8ddb-a41f72875c19\"}, {\"name\": \"\\u6d41\\u6c34\\u53f7(\\u5218\\u6c5f)\", \"x\": [\"8\\u67085\\u5468\", \"9\\u67081\\u5468\", \"9\\u67082\\u5468\", \"9\\u67083\\u5468\", \"9\\u67084\\u5468\", \"10\\u67082\\u5468\", \"10\\u67083\\u5468\"], \"y\": [null, 2.0, 1.0, null, null, 1.0, null], \"type\": \"bar\", \"uid\": \"3e50ae07-d028-11e8-8ddb-a41f72875c19\"}, {\"name\": \"\\u6d41\\u6c34\\u53f7(\\u6768\\u4f1f\\u98de)\", \"x\": [\"8\\u67085\\u5468\", \"9\\u67081\\u5468\", \"9\\u67082\\u5468\", \"9\\u67083\\u5468\", \"9\\u67084\\u5468\", \"10\\u67082\\u5468\", \"10\\u67083\\u5468\"], \"y\": [null, 1.0, 2.0, null, null, 1.0, null], \"type\": \"bar\", \"uid\": \"3e50ae08-d028-11e8-8ddb-a41f72875c19\"}, {\"name\": \"\\u6d41\\u6c34\\u53f7(\\u8d75\\u5029)\", \"x\": [\"8\\u67085\\u5468\", \"9\\u67081\\u5468\", \"9\\u67082\\u5468\", \"9\\u67083\\u5468\", \"9\\u67084\\u5468\", \"10\\u67082\\u5468\", \"10\\u67083\\u5468\"], \"y\": [null, 5.0, 7.0, 3.0, 5.0, 8.0, null], \"type\": \"bar\", \"uid\": \"3e50ae09-d028-11e8-8ddb-a41f72875c19\"}], {\"barmode\": \"stack\", \"title\": \"\\u6d41\\u6c34\\u53f7\\u5468\\u8d8b\\u52bf\\u56fe\", \"xaxis\": {\"mirror\": \"all\", \"nticks\": 20, \"showgrid\": true, \"showline\": true, \"title\": \"\\u5468\", \"zeroline\": true}, \"yaxis\": {\"mirror\": \"all\", \"nticks\": 20, \"showgrid\": true, \"showline\": true, \"title\": \"\\u6d41\\u6c34\\u53f7\", \"zeroline\": true}}, {\"showLink\": true, \"linkText\": \"Export to plot.ly\"})});</script>"
=======
       "<div id=\"146b706d-5485-4950-96c4-d4f8393c7773\" style=\"height: 525px; width: 100%;\" class=\"plotly-graph-div\"></div><script type=\"text/javascript\">require([\"plotly\"], function(Plotly) { window.PLOTLYENV=window.PLOTLYENV || {};window.PLOTLYENV.BASE_URL=\"https://plot.ly\";Plotly.newPlot(\"146b706d-5485-4950-96c4-d4f8393c7773\", [{\"name\": \"\\u6d41\\u6c34\\u53f7(\\u9a6c\\u6f47)\", \"x\": [\"8\\u67085\\u5468\", \"9\\u67081\\u5468\", \"9\\u67082\\u5468\", \"9\\u67083\\u5468\", \"9\\u67084\\u5468\", \"10\\u67082\\u5468\"], \"y\": [null, 2.0, 2.0, null, 4.0, null], \"type\": \"bar\", \"uid\": \"b0d6a767-d016-11e8-8ddb-a41f72875c19\"}, {\"name\": \"\\u6d41\\u6c34\\u53f7(\\u97e9\\u5c11\\u6000)\", \"x\": [\"8\\u67085\\u5468\", \"9\\u67081\\u5468\", \"9\\u67082\\u5468\", \"9\\u67083\\u5468\", \"9\\u67084\\u5468\", \"10\\u67082\\u5468\"], \"y\": [null, 1.0, null, null, 1.0, null], \"type\": \"bar\", \"uid\": \"b0d6a768-d016-11e8-8ddb-a41f72875c19\"}, {\"name\": \"\\u6d41\\u6c34\\u53f7(\\u82d1\\u8d5e)\", \"x\": [\"8\\u67085\\u5468\", \"9\\u67081\\u5468\", \"9\\u67082\\u5468\", \"9\\u67083\\u5468\", \"9\\u67084\\u5468\", \"10\\u67082\\u5468\"], \"y\": [null, null, null, null, 1.0, null], \"type\": \"bar\", \"uid\": \"b0d6a769-d016-11e8-8ddb-a41f72875c19\"}, {\"name\": \"\\u6d41\\u6c34\\u53f7(\\u59da\\u76df\\u6210)\", \"x\": [\"8\\u67085\\u5468\", \"9\\u67081\\u5468\", \"9\\u67082\\u5468\", \"9\\u67083\\u5468\", \"9\\u67084\\u5468\", \"10\\u67082\\u5468\"], \"y\": [null, 1.0, null, 1.0, null, null], \"type\": \"bar\", \"uid\": \"b0d6a76a-d016-11e8-8ddb-a41f72875c19\"}, {\"name\": \"\\u6d41\\u6c34\\u53f7(\\u5218\\u6c38\\u5f3a)\", \"x\": [\"8\\u67085\\u5468\", \"9\\u67081\\u5468\", \"9\\u67082\\u5468\", \"9\\u67083\\u5468\", \"9\\u67084\\u5468\", \"10\\u67082\\u5468\"], \"y\": [null, 1.0, null, 1.0, null, null], \"type\": \"bar\", \"uid\": \"b0d6a76b-d016-11e8-8ddb-a41f72875c19\"}, {\"name\": \"\\u6d41\\u6c34\\u53f7(\\u4efb\\u96ea)\", \"x\": [\"8\\u67085\\u5468\", \"9\\u67081\\u5468\", \"9\\u67082\\u5468\", \"9\\u67083\\u5468\", \"9\\u67084\\u5468\", \"10\\u67082\\u5468\"], \"y\": [null, null, null, null, 1.0, null], \"type\": \"bar\", \"uid\": \"b0d6a76c-d016-11e8-8ddb-a41f72875c19\"}, {\"name\": \"\\u6d41\\u6c34\\u53f7(\\u6731\\u6167\\u840d)\", \"x\": [\"8\\u67085\\u5468\", \"9\\u67081\\u5468\", \"9\\u67082\\u5468\", \"9\\u67083\\u5468\", \"9\\u67084\\u5468\", \"10\\u67082\\u5468\"], \"y\": [4.0, 3.0, 5.0, 2.0, 3.0, null], \"type\": \"bar\", \"uid\": \"b0d6a76d-d016-11e8-8ddb-a41f72875c19\"}, {\"name\": \"\\u6d41\\u6c34\\u53f7(\\u6797\\u6587\\u6587)\", \"x\": [\"8\\u67085\\u5468\", \"9\\u67081\\u5468\", \"9\\u67082\\u5468\", \"9\\u67083\\u5468\", \"9\\u67084\\u5468\", \"10\\u67082\\u5468\"], \"y\": [null, null, 2.0, 3.0, null, null], \"type\": \"bar\", \"uid\": \"b0d6a76e-d016-11e8-8ddb-a41f72875c19\"}, {\"name\": \"\\u6d41\\u6c34\\u53f7(\\u8f66\\u5929\\u680b)\", \"x\": [\"8\\u67085\\u5468\", \"9\\u67081\\u5468\", \"9\\u67082\\u5468\", \"9\\u67083\\u5468\", \"9\\u67084\\u5468\", \"10\\u67082\\u5468\"], \"y\": [null, null, 1.0, 1.0, null, null], \"type\": \"bar\", \"uid\": \"b0d6a76f-d016-11e8-8ddb-a41f72875c19\"}, {\"name\": \"\\u6d41\\u6c34\\u53f7(\\u6bb5\\u5229\\u5f3a)\", \"x\": [\"8\\u67085\\u5468\", \"9\\u67081\\u5468\", \"9\\u67082\\u5468\", \"9\\u67083\\u5468\", \"9\\u67084\\u5468\", \"10\\u67082\\u5468\"], \"y\": [null, 1.0, 5.0, null, null, null], \"type\": \"bar\", \"uid\": \"b0d6a770-d016-11e8-8ddb-a41f72875c19\"}, {\"name\": \"\\u6d41\\u6c34\\u53f7(\\u6c88\\u7acb\\u7fa4)\", \"x\": [\"8\\u67085\\u5468\", \"9\\u67081\\u5468\", \"9\\u67082\\u5468\", \"9\\u67083\\u5468\", \"9\\u67084\\u5468\", \"10\\u67082\\u5468\"], \"y\": [null, null, null, 1.0, null, null], \"type\": \"bar\", \"uid\": \"b0d6a771-d016-11e8-8ddb-a41f72875c19\"}, {\"name\": \"\\u6d41\\u6c34\\u53f7(\\u9648\\u9e4f\\u71d5)\", \"x\": [\"8\\u67085\\u5468\", \"9\\u67081\\u5468\", \"9\\u67082\\u5468\", \"9\\u67083\\u5468\", \"9\\u67084\\u5468\", \"10\\u67082\\u5468\"], \"y\": [1.0, 2.0, 3.0, 5.0, null, null], \"type\": \"bar\", \"uid\": \"b0d6a772-d016-11e8-8ddb-a41f72875c19\"}, {\"name\": \"\\u6d41\\u6c34\\u53f7(\\u95fb\\u5c11\\u6960)\", \"x\": [\"8\\u67085\\u5468\", \"9\\u67081\\u5468\", \"9\\u67082\\u5468\", \"9\\u67083\\u5468\", \"9\\u67084\\u5468\", \"10\\u67082\\u5468\"], \"y\": [null, null, 2.0, 1.0, 1.0, null], \"type\": \"bar\", \"uid\": \"b0d6a773-d016-11e8-8ddb-a41f72875c19\"}, {\"name\": \"\\u6d41\\u6c34\\u53f7(\\u6768\\u5b87)\", \"x\": [\"8\\u67085\\u5468\", \"9\\u67081\\u5468\", \"9\\u67082\\u5468\", \"9\\u67083\\u5468\", \"9\\u67084\\u5468\", \"10\\u67082\\u5468\"], \"y\": [null, 2.0, 4.0, 4.0, 1.0, null], \"type\": \"bar\", \"uid\": \"b0d6a774-d016-11e8-8ddb-a41f72875c19\"}, {\"name\": \"\\u6d41\\u6c34\\u53f7(\\u5c48\\u6602)\", \"x\": [\"8\\u67085\\u5468\", \"9\\u67081\\u5468\", \"9\\u67082\\u5468\", \"9\\u67083\\u5468\", \"9\\u67084\\u5468\", \"10\\u67082\\u5468\"], \"y\": [1.0, null, null, 1.0, 1.0, null], \"type\": \"bar\", \"uid\": \"b0d6a775-d016-11e8-8ddb-a41f72875c19\"}, {\"name\": \"\\u6d41\\u6c34\\u53f7(\\u738b\\u4f20\\u6587)\", \"x\": [\"8\\u67085\\u5468\", \"9\\u67081\\u5468\", \"9\\u67082\\u5468\", \"9\\u67083\\u5468\", \"9\\u67084\\u5468\", \"10\\u67082\\u5468\"], \"y\": [null, null, null, 1.0, null, null], \"type\": \"bar\", \"uid\": \"b0d6a776-d016-11e8-8ddb-a41f72875c19\"}, {\"name\": \"\\u6d41\\u6c34\\u53f7(\\u674e\\u534e\\u4e91)\", \"x\": [\"8\\u67085\\u5468\", \"9\\u67081\\u5468\", \"9\\u67082\\u5468\", \"9\\u67083\\u5468\", \"9\\u67084\\u5468\", \"10\\u67082\\u5468\"], \"y\": [null, null, null, 1.0, 1.0, null], \"type\": \"bar\", \"uid\": \"b0d6a777-d016-11e8-8ddb-a41f72875c19\"}, {\"name\": \"\\u6d41\\u6c34\\u53f7(\\u738b\\u971e)\", \"x\": [\"8\\u67085\\u5468\", \"9\\u67081\\u5468\", \"9\\u67082\\u5468\", \"9\\u67083\\u5468\", \"9\\u67084\\u5468\", \"10\\u67082\\u5468\"], \"y\": [null, 2.0, 2.0, 5.0, 1.0, null], \"type\": \"bar\", \"uid\": \"b0d6a778-d016-11e8-8ddb-a41f72875c19\"}, {\"name\": \"\\u6d41\\u6c34\\u53f7(\\u8303\\u65ed\\u5b81)\", \"x\": [\"8\\u67085\\u5468\", \"9\\u67081\\u5468\", \"9\\u67082\\u5468\", \"9\\u67083\\u5468\", \"9\\u67084\\u5468\", \"10\\u67082\\u5468\"], \"y\": [null, 1.0, null, 2.0, 2.0, null], \"type\": \"bar\", \"uid\": \"b0d6a779-d016-11e8-8ddb-a41f72875c19\"}, {\"name\": \"\\u6d41\\u6c34\\u53f7(\\u4e8e\\u6167)\", \"x\": [\"8\\u67085\\u5468\", \"9\\u67081\\u5468\", \"9\\u67082\\u5468\", \"9\\u67083\\u5468\", \"9\\u67084\\u5468\", \"10\\u67082\\u5468\"], \"y\": [null, null, 1.0, 1.0, null, null], \"type\": \"bar\", \"uid\": \"b0d6a77a-d016-11e8-8ddb-a41f72875c19\"}, {\"name\": \"\\u6d41\\u6c34\\u53f7(\\u9ad8\\u5251)\", \"x\": [\"8\\u67085\\u5468\", \"9\\u67081\\u5468\", \"9\\u67082\\u5468\", \"9\\u67083\\u5468\", \"9\\u67084\\u5468\", \"10\\u67082\\u5468\"], \"y\": [null, 1.0, null, null, null, null], \"type\": \"bar\", \"uid\": \"b0d6a77b-d016-11e8-8ddb-a41f72875c19\"}, {\"name\": \"\\u6d41\\u6c34\\u53f7(\\u9773\\u751c\\u751c)\", \"x\": [\"8\\u67085\\u5468\", \"9\\u67081\\u5468\", \"9\\u67082\\u5468\", \"9\\u67083\\u5468\", \"9\\u67084\\u5468\", \"10\\u67082\\u5468\"], \"y\": [null, null, 1.0, null, null, null], \"type\": \"bar\", \"uid\": \"b0d6a77c-d016-11e8-8ddb-a41f72875c19\"}, {\"name\": \"\\u6d41\\u6c34\\u53f7(\\u4e8e\\u52c7\\u4e00)\", \"x\": [\"8\\u67085\\u5468\", \"9\\u67081\\u5468\", \"9\\u67082\\u5468\", \"9\\u67083\\u5468\", \"9\\u67084\\u5468\", \"10\\u67082\\u5468\"], \"y\": [null, null, null, 1.0, null, null], \"type\": \"bar\", \"uid\": \"b0d6a77d-d016-11e8-8ddb-a41f72875c19\"}, {\"name\": \"\\u6d41\\u6c34\\u53f7(\\u89e3\\u98de)\", \"x\": [\"8\\u67085\\u5468\", \"9\\u67081\\u5468\", \"9\\u67082\\u5468\", \"9\\u67083\\u5468\", \"9\\u67084\\u5468\", \"10\\u67082\\u5468\"], \"y\": [null, null, null, null, 1.0, 1.0], \"type\": \"bar\", \"uid\": \"b0d6a77e-d016-11e8-8ddb-a41f72875c19\"}, {\"name\": \"\\u6d41\\u6c34\\u53f7(\\u5218\\u68a6\\u82d1)\", \"x\": [\"8\\u67085\\u5468\", \"9\\u67081\\u5468\", \"9\\u67082\\u5468\", \"9\\u67083\\u5468\", \"9\\u67084\\u5468\", \"10\\u67082\\u5468\"], \"y\": [null, 2.0, null, 2.0, 3.0, null], \"type\": \"bar\", \"uid\": \"b0d6a77f-d016-11e8-8ddb-a41f72875c19\"}, {\"name\": \"\\u6d41\\u6c34\\u53f7(\\u9648\\u78a7\\u96ef)\", \"x\": [\"8\\u67085\\u5468\", \"9\\u67081\\u5468\", \"9\\u67082\\u5468\", \"9\\u67083\\u5468\", \"9\\u67084\\u5468\", \"10\\u67082\\u5468\"], \"y\": [null, 4.0, 2.0, 1.0, 3.0, null], \"type\": \"bar\", \"uid\": \"b0d6a780-d016-11e8-8ddb-a41f72875c19\"}, {\"name\": \"\\u6d41\\u6c34\\u53f7(\\u51af\\u656c\\u5ca9)\", \"x\": [\"8\\u67085\\u5468\", \"9\\u67081\\u5468\", \"9\\u67082\\u5468\", \"9\\u67083\\u5468\", \"9\\u67084\\u5468\", \"10\\u67082\\u5468\"], \"y\": [null, 4.0, 4.0, 3.0, 4.0, null], \"type\": \"bar\", \"uid\": \"b0d6a781-d016-11e8-8ddb-a41f72875c19\"}, {\"name\": \"\\u6d41\\u6c34\\u53f7(\\u51b7\\u96ea)\", \"x\": [\"8\\u67085\\u5468\", \"9\\u67081\\u5468\", \"9\\u67082\\u5468\", \"9\\u67083\\u5468\", \"9\\u67084\\u5468\", \"10\\u67082\\u5468\"], \"y\": [null, 1.0, 1.0, null, 4.0, null], \"type\": \"bar\", \"uid\": \"b0d6a782-d016-11e8-8ddb-a41f72875c19\"}, {\"name\": \"\\u6d41\\u6c34\\u53f7(\\u6c88\\u6069\\u60e0)\", \"x\": [\"8\\u67085\\u5468\", \"9\\u67081\\u5468\", \"9\\u67082\\u5468\", \"9\\u67083\\u5468\", \"9\\u67084\\u5468\", \"10\\u67082\\u5468\"], \"y\": [null, 1.0, null, 1.0, null, null], \"type\": \"bar\", \"uid\": \"b0d6a783-d016-11e8-8ddb-a41f72875c19\"}, {\"name\": \"\\u6d41\\u6c34\\u53f7(\\u8d75\\u73a5)\", \"x\": [\"8\\u67085\\u5468\", \"9\\u67081\\u5468\", \"9\\u67082\\u5468\", \"9\\u67083\\u5468\", \"9\\u67084\\u5468\", \"10\\u67082\\u5468\"], \"y\": [null, null, 1.0, null, null, null], \"type\": \"bar\", \"uid\": \"b0d6a784-d016-11e8-8ddb-a41f72875c19\"}, {\"name\": \"\\u6d41\\u6c34\\u53f7(\\u6636\\u5409\\u9633)\", \"x\": [\"8\\u67085\\u5468\", \"9\\u67081\\u5468\", \"9\\u67082\\u5468\", \"9\\u67083\\u5468\", \"9\\u67084\\u5468\", \"10\\u67082\\u5468\"], \"y\": [null, 1.0, 2.0, null, 4.0, null], \"type\": \"bar\", \"uid\": \"b0d6a785-d016-11e8-8ddb-a41f72875c19\"}, {\"name\": \"\\u6d41\\u6c34\\u53f7(\\u4f55\\u80dc)\", \"x\": [\"8\\u67085\\u5468\", \"9\\u67081\\u5468\", \"9\\u67082\\u5468\", \"9\\u67083\\u5468\", \"9\\u67084\\u5468\", \"10\\u67082\\u5468\"], \"y\": [null, 4.0, 3.0, 4.0, 2.0, null], \"type\": \"bar\", \"uid\": \"b0d6a786-d016-11e8-8ddb-a41f72875c19\"}, {\"name\": \"\\u6d41\\u6c34\\u53f7(\\u5c01\\u5f66\\u6770)\", \"x\": [\"8\\u67085\\u5468\", \"9\\u67081\\u5468\", \"9\\u67082\\u5468\", \"9\\u67083\\u5468\", \"9\\u67084\\u5468\", \"10\\u67082\\u5468\"], \"y\": [null, null, null, null, 1.0, null], \"type\": \"bar\", \"uid\": \"b0d6a787-d016-11e8-8ddb-a41f72875c19\"}, {\"name\": \"\\u6d41\\u6c34\\u53f7(\\u5360\\u4f1f)\", \"x\": [\"8\\u67085\\u5468\", \"9\\u67081\\u5468\", \"9\\u67082\\u5468\", \"9\\u67083\\u5468\", \"9\\u67084\\u5468\", \"10\\u67082\\u5468\"], \"y\": [null, 2.0, 1.0, null, null, null], \"type\": \"bar\", \"uid\": \"b0d6a788-d016-11e8-8ddb-a41f72875c19\"}, {\"name\": \"\\u6d41\\u6c34\\u53f7(\\u5b8b\\u5c11\\u5b87)\", \"x\": [\"8\\u67085\\u5468\", \"9\\u67081\\u5468\", \"9\\u67082\\u5468\", \"9\\u67083\\u5468\", \"9\\u67084\\u5468\", \"10\\u67082\\u5468\"], \"y\": [null, 1.0, null, null, 1.0, null], \"type\": \"bar\", \"uid\": \"b0d6a789-d016-11e8-8ddb-a41f72875c19\"}, {\"name\": \"\\u6d41\\u6c34\\u53f7(\\u5218\\u6c5f)\", \"x\": [\"8\\u67085\\u5468\", \"9\\u67081\\u5468\", \"9\\u67082\\u5468\", \"9\\u67083\\u5468\", \"9\\u67084\\u5468\", \"10\\u67082\\u5468\"], \"y\": [null, 2.0, 1.0, null, null, null], \"type\": \"bar\", \"uid\": \"b0d6a78a-d016-11e8-8ddb-a41f72875c19\"}, {\"name\": \"\\u6d41\\u6c34\\u53f7(\\u6768\\u4f1f\\u98de)\", \"x\": [\"8\\u67085\\u5468\", \"9\\u67081\\u5468\", \"9\\u67082\\u5468\", \"9\\u67083\\u5468\", \"9\\u67084\\u5468\", \"10\\u67082\\u5468\"], \"y\": [null, 2.0, 2.0, null, null, null], \"type\": \"bar\", \"uid\": \"b0d6a78b-d016-11e8-8ddb-a41f72875c19\"}, {\"name\": \"\\u6d41\\u6c34\\u53f7(\\u8d75\\u5029)\", \"x\": [\"8\\u67085\\u5468\", \"9\\u67081\\u5468\", \"9\\u67082\\u5468\", \"9\\u67083\\u5468\", \"9\\u67084\\u5468\", \"10\\u67082\\u5468\"], \"y\": [null, 5.0, 7.0, 4.0, 5.0, null], \"type\": \"bar\", \"uid\": \"b0d6a78c-d016-11e8-8ddb-a41f72875c19\"}], {\"barmode\": \"stack\", \"title\": \"\\u6d41\\u6c34\\u53f7\\u5468\\u8d8b\\u52bf\\u56fe\", \"xaxis\": {\"mirror\": \"all\", \"nticks\": 20, \"showgrid\": true, \"showline\": true, \"title\": \"\\u5468\", \"zeroline\": true}, \"yaxis\": {\"mirror\": \"all\", \"nticks\": 20, \"showgrid\": true, \"showline\": true, \"title\": \"\\u6d41\\u6c34\\u53f7\", \"zeroline\": true}}, {\"showLink\": true, \"linkText\": \"Export to plot.ly\"})});</script>"
      ],
      "text/vnd.plotly.v1+html": [
       "<div id=\"146b706d-5485-4950-96c4-d4f8393c7773\" style=\"height: 525px; width: 100%;\" class=\"plotly-graph-div\"></div><script type=\"text/javascript\">require([\"plotly\"], function(Plotly) { window.PLOTLYENV=window.PLOTLYENV || {};window.PLOTLYENV.BASE_URL=\"https://plot.ly\";Plotly.newPlot(\"146b706d-5485-4950-96c4-d4f8393c7773\", [{\"name\": \"\\u6d41\\u6c34\\u53f7(\\u9a6c\\u6f47)\", \"x\": [\"8\\u67085\\u5468\", \"9\\u67081\\u5468\", \"9\\u67082\\u5468\", \"9\\u67083\\u5468\", \"9\\u67084\\u5468\", \"10\\u67082\\u5468\"], \"y\": [null, 2.0, 2.0, null, 4.0, null], \"type\": \"bar\", \"uid\": \"b0d6a767-d016-11e8-8ddb-a41f72875c19\"}, {\"name\": \"\\u6d41\\u6c34\\u53f7(\\u97e9\\u5c11\\u6000)\", \"x\": [\"8\\u67085\\u5468\", \"9\\u67081\\u5468\", \"9\\u67082\\u5468\", \"9\\u67083\\u5468\", \"9\\u67084\\u5468\", \"10\\u67082\\u5468\"], \"y\": [null, 1.0, null, null, 1.0, null], \"type\": \"bar\", \"uid\": \"b0d6a768-d016-11e8-8ddb-a41f72875c19\"}, {\"name\": \"\\u6d41\\u6c34\\u53f7(\\u82d1\\u8d5e)\", \"x\": [\"8\\u67085\\u5468\", \"9\\u67081\\u5468\", \"9\\u67082\\u5468\", \"9\\u67083\\u5468\", \"9\\u67084\\u5468\", \"10\\u67082\\u5468\"], \"y\": [null, null, null, null, 1.0, null], \"type\": \"bar\", \"uid\": \"b0d6a769-d016-11e8-8ddb-a41f72875c19\"}, {\"name\": \"\\u6d41\\u6c34\\u53f7(\\u59da\\u76df\\u6210)\", \"x\": [\"8\\u67085\\u5468\", \"9\\u67081\\u5468\", \"9\\u67082\\u5468\", \"9\\u67083\\u5468\", \"9\\u67084\\u5468\", \"10\\u67082\\u5468\"], \"y\": [null, 1.0, null, 1.0, null, null], \"type\": \"bar\", \"uid\": \"b0d6a76a-d016-11e8-8ddb-a41f72875c19\"}, {\"name\": \"\\u6d41\\u6c34\\u53f7(\\u5218\\u6c38\\u5f3a)\", \"x\": [\"8\\u67085\\u5468\", \"9\\u67081\\u5468\", \"9\\u67082\\u5468\", \"9\\u67083\\u5468\", \"9\\u67084\\u5468\", \"10\\u67082\\u5468\"], \"y\": [null, 1.0, null, 1.0, null, null], \"type\": \"bar\", \"uid\": \"b0d6a76b-d016-11e8-8ddb-a41f72875c19\"}, {\"name\": \"\\u6d41\\u6c34\\u53f7(\\u4efb\\u96ea)\", \"x\": [\"8\\u67085\\u5468\", \"9\\u67081\\u5468\", \"9\\u67082\\u5468\", \"9\\u67083\\u5468\", \"9\\u67084\\u5468\", \"10\\u67082\\u5468\"], \"y\": [null, null, null, null, 1.0, null], \"type\": \"bar\", \"uid\": \"b0d6a76c-d016-11e8-8ddb-a41f72875c19\"}, {\"name\": \"\\u6d41\\u6c34\\u53f7(\\u6731\\u6167\\u840d)\", \"x\": [\"8\\u67085\\u5468\", \"9\\u67081\\u5468\", \"9\\u67082\\u5468\", \"9\\u67083\\u5468\", \"9\\u67084\\u5468\", \"10\\u67082\\u5468\"], \"y\": [4.0, 3.0, 5.0, 2.0, 3.0, null], \"type\": \"bar\", \"uid\": \"b0d6a76d-d016-11e8-8ddb-a41f72875c19\"}, {\"name\": \"\\u6d41\\u6c34\\u53f7(\\u6797\\u6587\\u6587)\", \"x\": [\"8\\u67085\\u5468\", \"9\\u67081\\u5468\", \"9\\u67082\\u5468\", \"9\\u67083\\u5468\", \"9\\u67084\\u5468\", \"10\\u67082\\u5468\"], \"y\": [null, null, 2.0, 3.0, null, null], \"type\": \"bar\", \"uid\": \"b0d6a76e-d016-11e8-8ddb-a41f72875c19\"}, {\"name\": \"\\u6d41\\u6c34\\u53f7(\\u8f66\\u5929\\u680b)\", \"x\": [\"8\\u67085\\u5468\", \"9\\u67081\\u5468\", \"9\\u67082\\u5468\", \"9\\u67083\\u5468\", \"9\\u67084\\u5468\", \"10\\u67082\\u5468\"], \"y\": [null, null, 1.0, 1.0, null, null], \"type\": \"bar\", \"uid\": \"b0d6a76f-d016-11e8-8ddb-a41f72875c19\"}, {\"name\": \"\\u6d41\\u6c34\\u53f7(\\u6bb5\\u5229\\u5f3a)\", \"x\": [\"8\\u67085\\u5468\", \"9\\u67081\\u5468\", \"9\\u67082\\u5468\", \"9\\u67083\\u5468\", \"9\\u67084\\u5468\", \"10\\u67082\\u5468\"], \"y\": [null, 1.0, 5.0, null, null, null], \"type\": \"bar\", \"uid\": \"b0d6a770-d016-11e8-8ddb-a41f72875c19\"}, {\"name\": \"\\u6d41\\u6c34\\u53f7(\\u6c88\\u7acb\\u7fa4)\", \"x\": [\"8\\u67085\\u5468\", \"9\\u67081\\u5468\", \"9\\u67082\\u5468\", \"9\\u67083\\u5468\", \"9\\u67084\\u5468\", \"10\\u67082\\u5468\"], \"y\": [null, null, null, 1.0, null, null], \"type\": \"bar\", \"uid\": \"b0d6a771-d016-11e8-8ddb-a41f72875c19\"}, {\"name\": \"\\u6d41\\u6c34\\u53f7(\\u9648\\u9e4f\\u71d5)\", \"x\": [\"8\\u67085\\u5468\", \"9\\u67081\\u5468\", \"9\\u67082\\u5468\", \"9\\u67083\\u5468\", \"9\\u67084\\u5468\", \"10\\u67082\\u5468\"], \"y\": [1.0, 2.0, 3.0, 5.0, null, null], \"type\": \"bar\", \"uid\": \"b0d6a772-d016-11e8-8ddb-a41f72875c19\"}, {\"name\": \"\\u6d41\\u6c34\\u53f7(\\u95fb\\u5c11\\u6960)\", \"x\": [\"8\\u67085\\u5468\", \"9\\u67081\\u5468\", \"9\\u67082\\u5468\", \"9\\u67083\\u5468\", \"9\\u67084\\u5468\", \"10\\u67082\\u5468\"], \"y\": [null, null, 2.0, 1.0, 1.0, null], \"type\": \"bar\", \"uid\": \"b0d6a773-d016-11e8-8ddb-a41f72875c19\"}, {\"name\": \"\\u6d41\\u6c34\\u53f7(\\u6768\\u5b87)\", \"x\": [\"8\\u67085\\u5468\", \"9\\u67081\\u5468\", \"9\\u67082\\u5468\", \"9\\u67083\\u5468\", \"9\\u67084\\u5468\", \"10\\u67082\\u5468\"], \"y\": [null, 2.0, 4.0, 4.0, 1.0, null], \"type\": \"bar\", \"uid\": \"b0d6a774-d016-11e8-8ddb-a41f72875c19\"}, {\"name\": \"\\u6d41\\u6c34\\u53f7(\\u5c48\\u6602)\", \"x\": [\"8\\u67085\\u5468\", \"9\\u67081\\u5468\", \"9\\u67082\\u5468\", \"9\\u67083\\u5468\", \"9\\u67084\\u5468\", \"10\\u67082\\u5468\"], \"y\": [1.0, null, null, 1.0, 1.0, null], \"type\": \"bar\", \"uid\": \"b0d6a775-d016-11e8-8ddb-a41f72875c19\"}, {\"name\": \"\\u6d41\\u6c34\\u53f7(\\u738b\\u4f20\\u6587)\", \"x\": [\"8\\u67085\\u5468\", \"9\\u67081\\u5468\", \"9\\u67082\\u5468\", \"9\\u67083\\u5468\", \"9\\u67084\\u5468\", \"10\\u67082\\u5468\"], \"y\": [null, null, null, 1.0, null, null], \"type\": \"bar\", \"uid\": \"b0d6a776-d016-11e8-8ddb-a41f72875c19\"}, {\"name\": \"\\u6d41\\u6c34\\u53f7(\\u674e\\u534e\\u4e91)\", \"x\": [\"8\\u67085\\u5468\", \"9\\u67081\\u5468\", \"9\\u67082\\u5468\", \"9\\u67083\\u5468\", \"9\\u67084\\u5468\", \"10\\u67082\\u5468\"], \"y\": [null, null, null, 1.0, 1.0, null], \"type\": \"bar\", \"uid\": \"b0d6a777-d016-11e8-8ddb-a41f72875c19\"}, {\"name\": \"\\u6d41\\u6c34\\u53f7(\\u738b\\u971e)\", \"x\": [\"8\\u67085\\u5468\", \"9\\u67081\\u5468\", \"9\\u67082\\u5468\", \"9\\u67083\\u5468\", \"9\\u67084\\u5468\", \"10\\u67082\\u5468\"], \"y\": [null, 2.0, 2.0, 5.0, 1.0, null], \"type\": \"bar\", \"uid\": \"b0d6a778-d016-11e8-8ddb-a41f72875c19\"}, {\"name\": \"\\u6d41\\u6c34\\u53f7(\\u8303\\u65ed\\u5b81)\", \"x\": [\"8\\u67085\\u5468\", \"9\\u67081\\u5468\", \"9\\u67082\\u5468\", \"9\\u67083\\u5468\", \"9\\u67084\\u5468\", \"10\\u67082\\u5468\"], \"y\": [null, 1.0, null, 2.0, 2.0, null], \"type\": \"bar\", \"uid\": \"b0d6a779-d016-11e8-8ddb-a41f72875c19\"}, {\"name\": \"\\u6d41\\u6c34\\u53f7(\\u4e8e\\u6167)\", \"x\": [\"8\\u67085\\u5468\", \"9\\u67081\\u5468\", \"9\\u67082\\u5468\", \"9\\u67083\\u5468\", \"9\\u67084\\u5468\", \"10\\u67082\\u5468\"], \"y\": [null, null, 1.0, 1.0, null, null], \"type\": \"bar\", \"uid\": \"b0d6a77a-d016-11e8-8ddb-a41f72875c19\"}, {\"name\": \"\\u6d41\\u6c34\\u53f7(\\u9ad8\\u5251)\", \"x\": [\"8\\u67085\\u5468\", \"9\\u67081\\u5468\", \"9\\u67082\\u5468\", \"9\\u67083\\u5468\", \"9\\u67084\\u5468\", \"10\\u67082\\u5468\"], \"y\": [null, 1.0, null, null, null, null], \"type\": \"bar\", \"uid\": \"b0d6a77b-d016-11e8-8ddb-a41f72875c19\"}, {\"name\": \"\\u6d41\\u6c34\\u53f7(\\u9773\\u751c\\u751c)\", \"x\": [\"8\\u67085\\u5468\", \"9\\u67081\\u5468\", \"9\\u67082\\u5468\", \"9\\u67083\\u5468\", \"9\\u67084\\u5468\", \"10\\u67082\\u5468\"], \"y\": [null, null, 1.0, null, null, null], \"type\": \"bar\", \"uid\": \"b0d6a77c-d016-11e8-8ddb-a41f72875c19\"}, {\"name\": \"\\u6d41\\u6c34\\u53f7(\\u4e8e\\u52c7\\u4e00)\", \"x\": [\"8\\u67085\\u5468\", \"9\\u67081\\u5468\", \"9\\u67082\\u5468\", \"9\\u67083\\u5468\", \"9\\u67084\\u5468\", \"10\\u67082\\u5468\"], \"y\": [null, null, null, 1.0, null, null], \"type\": \"bar\", \"uid\": \"b0d6a77d-d016-11e8-8ddb-a41f72875c19\"}, {\"name\": \"\\u6d41\\u6c34\\u53f7(\\u89e3\\u98de)\", \"x\": [\"8\\u67085\\u5468\", \"9\\u67081\\u5468\", \"9\\u67082\\u5468\", \"9\\u67083\\u5468\", \"9\\u67084\\u5468\", \"10\\u67082\\u5468\"], \"y\": [null, null, null, null, 1.0, 1.0], \"type\": \"bar\", \"uid\": \"b0d6a77e-d016-11e8-8ddb-a41f72875c19\"}, {\"name\": \"\\u6d41\\u6c34\\u53f7(\\u5218\\u68a6\\u82d1)\", \"x\": [\"8\\u67085\\u5468\", \"9\\u67081\\u5468\", \"9\\u67082\\u5468\", \"9\\u67083\\u5468\", \"9\\u67084\\u5468\", \"10\\u67082\\u5468\"], \"y\": [null, 2.0, null, 2.0, 3.0, null], \"type\": \"bar\", \"uid\": \"b0d6a77f-d016-11e8-8ddb-a41f72875c19\"}, {\"name\": \"\\u6d41\\u6c34\\u53f7(\\u9648\\u78a7\\u96ef)\", \"x\": [\"8\\u67085\\u5468\", \"9\\u67081\\u5468\", \"9\\u67082\\u5468\", \"9\\u67083\\u5468\", \"9\\u67084\\u5468\", \"10\\u67082\\u5468\"], \"y\": [null, 4.0, 2.0, 1.0, 3.0, null], \"type\": \"bar\", \"uid\": \"b0d6a780-d016-11e8-8ddb-a41f72875c19\"}, {\"name\": \"\\u6d41\\u6c34\\u53f7(\\u51af\\u656c\\u5ca9)\", \"x\": [\"8\\u67085\\u5468\", \"9\\u67081\\u5468\", \"9\\u67082\\u5468\", \"9\\u67083\\u5468\", \"9\\u67084\\u5468\", \"10\\u67082\\u5468\"], \"y\": [null, 4.0, 4.0, 3.0, 4.0, null], \"type\": \"bar\", \"uid\": \"b0d6a781-d016-11e8-8ddb-a41f72875c19\"}, {\"name\": \"\\u6d41\\u6c34\\u53f7(\\u51b7\\u96ea)\", \"x\": [\"8\\u67085\\u5468\", \"9\\u67081\\u5468\", \"9\\u67082\\u5468\", \"9\\u67083\\u5468\", \"9\\u67084\\u5468\", \"10\\u67082\\u5468\"], \"y\": [null, 1.0, 1.0, null, 4.0, null], \"type\": \"bar\", \"uid\": \"b0d6a782-d016-11e8-8ddb-a41f72875c19\"}, {\"name\": \"\\u6d41\\u6c34\\u53f7(\\u6c88\\u6069\\u60e0)\", \"x\": [\"8\\u67085\\u5468\", \"9\\u67081\\u5468\", \"9\\u67082\\u5468\", \"9\\u67083\\u5468\", \"9\\u67084\\u5468\", \"10\\u67082\\u5468\"], \"y\": [null, 1.0, null, 1.0, null, null], \"type\": \"bar\", \"uid\": \"b0d6a783-d016-11e8-8ddb-a41f72875c19\"}, {\"name\": \"\\u6d41\\u6c34\\u53f7(\\u8d75\\u73a5)\", \"x\": [\"8\\u67085\\u5468\", \"9\\u67081\\u5468\", \"9\\u67082\\u5468\", \"9\\u67083\\u5468\", \"9\\u67084\\u5468\", \"10\\u67082\\u5468\"], \"y\": [null, null, 1.0, null, null, null], \"type\": \"bar\", \"uid\": \"b0d6a784-d016-11e8-8ddb-a41f72875c19\"}, {\"name\": \"\\u6d41\\u6c34\\u53f7(\\u6636\\u5409\\u9633)\", \"x\": [\"8\\u67085\\u5468\", \"9\\u67081\\u5468\", \"9\\u67082\\u5468\", \"9\\u67083\\u5468\", \"9\\u67084\\u5468\", \"10\\u67082\\u5468\"], \"y\": [null, 1.0, 2.0, null, 4.0, null], \"type\": \"bar\", \"uid\": \"b0d6a785-d016-11e8-8ddb-a41f72875c19\"}, {\"name\": \"\\u6d41\\u6c34\\u53f7(\\u4f55\\u80dc)\", \"x\": [\"8\\u67085\\u5468\", \"9\\u67081\\u5468\", \"9\\u67082\\u5468\", \"9\\u67083\\u5468\", \"9\\u67084\\u5468\", \"10\\u67082\\u5468\"], \"y\": [null, 4.0, 3.0, 4.0, 2.0, null], \"type\": \"bar\", \"uid\": \"b0d6a786-d016-11e8-8ddb-a41f72875c19\"}, {\"name\": \"\\u6d41\\u6c34\\u53f7(\\u5c01\\u5f66\\u6770)\", \"x\": [\"8\\u67085\\u5468\", \"9\\u67081\\u5468\", \"9\\u67082\\u5468\", \"9\\u67083\\u5468\", \"9\\u67084\\u5468\", \"10\\u67082\\u5468\"], \"y\": [null, null, null, null, 1.0, null], \"type\": \"bar\", \"uid\": \"b0d6a787-d016-11e8-8ddb-a41f72875c19\"}, {\"name\": \"\\u6d41\\u6c34\\u53f7(\\u5360\\u4f1f)\", \"x\": [\"8\\u67085\\u5468\", \"9\\u67081\\u5468\", \"9\\u67082\\u5468\", \"9\\u67083\\u5468\", \"9\\u67084\\u5468\", \"10\\u67082\\u5468\"], \"y\": [null, 2.0, 1.0, null, null, null], \"type\": \"bar\", \"uid\": \"b0d6a788-d016-11e8-8ddb-a41f72875c19\"}, {\"name\": \"\\u6d41\\u6c34\\u53f7(\\u5b8b\\u5c11\\u5b87)\", \"x\": [\"8\\u67085\\u5468\", \"9\\u67081\\u5468\", \"9\\u67082\\u5468\", \"9\\u67083\\u5468\", \"9\\u67084\\u5468\", \"10\\u67082\\u5468\"], \"y\": [null, 1.0, null, null, 1.0, null], \"type\": \"bar\", \"uid\": \"b0d6a789-d016-11e8-8ddb-a41f72875c19\"}, {\"name\": \"\\u6d41\\u6c34\\u53f7(\\u5218\\u6c5f)\", \"x\": [\"8\\u67085\\u5468\", \"9\\u67081\\u5468\", \"9\\u67082\\u5468\", \"9\\u67083\\u5468\", \"9\\u67084\\u5468\", \"10\\u67082\\u5468\"], \"y\": [null, 2.0, 1.0, null, null, null], \"type\": \"bar\", \"uid\": \"b0d6a78a-d016-11e8-8ddb-a41f72875c19\"}, {\"name\": \"\\u6d41\\u6c34\\u53f7(\\u6768\\u4f1f\\u98de)\", \"x\": [\"8\\u67085\\u5468\", \"9\\u67081\\u5468\", \"9\\u67082\\u5468\", \"9\\u67083\\u5468\", \"9\\u67084\\u5468\", \"10\\u67082\\u5468\"], \"y\": [null, 2.0, 2.0, null, null, null], \"type\": \"bar\", \"uid\": \"b0d6a78b-d016-11e8-8ddb-a41f72875c19\"}, {\"name\": \"\\u6d41\\u6c34\\u53f7(\\u8d75\\u5029)\", \"x\": [\"8\\u67085\\u5468\", \"9\\u67081\\u5468\", \"9\\u67082\\u5468\", \"9\\u67083\\u5468\", \"9\\u67084\\u5468\", \"10\\u67082\\u5468\"], \"y\": [null, 5.0, 7.0, 4.0, 5.0, null], \"type\": \"bar\", \"uid\": \"b0d6a78c-d016-11e8-8ddb-a41f72875c19\"}], {\"barmode\": \"stack\", \"title\": \"\\u6d41\\u6c34\\u53f7\\u5468\\u8d8b\\u52bf\\u56fe\", \"xaxis\": {\"mirror\": \"all\", \"nticks\": 20, \"showgrid\": true, \"showline\": true, \"title\": \"\\u5468\", \"zeroline\": true}, \"yaxis\": {\"mirror\": \"all\", \"nticks\": 20, \"showgrid\": true, \"showline\": true, \"title\": \"\\u6d41\\u6c34\\u53f7\", \"zeroline\": true}}, {\"showLink\": true, \"linkText\": \"Export to plot.ly\"})});</script>"
>>>>>>> 2645079b727ccf7005842fd856e6ec984f2ff004
      ]
     },
     "metadata": {},
     "output_type": "display_data"
    }
   ],
   "source": [
    "ss = myModule.format(df1 ,'week_number' ,['流水号'])\n",
    "ss.add_group('信息负责人')\n",
    "pp = myModule.sort_by_index(ss.groupby('count'))\n",
    "myModule.myPlot(pp).plot('stack_bar')"
   ]
  },
  {
   "cell_type": "markdown",
   "metadata": {},
   "source": [
    "## 评估周期情况统计"
   ]
  },
  {
   "cell_type": "markdown",
   "metadata": {},
   "source": [
    "### 预计周期趋势图"
   ]
  },
  {
   "cell_type": "code",
<<<<<<< HEAD
   "execution_count": 1471,
   "metadata": {
    "collapsed": false
   },
=======
   "execution_count": 1317,
   "metadata": {},
>>>>>>> 2645079b727ccf7005842fd856e6ec984f2ff004
   "outputs": [
    {
     "data": {
      "application/vnd.plotly.v1+json": {
       "data": [
        {
         "name": "预计周期",
         "type": "scatter",
<<<<<<< HEAD
         "uid": "3e50ae0a-d028-11e8-8ddb-a41f72875c19",
=======
         "uid": "b0d6a78d-d016-11e8-8ddb-a41f72875c19",
>>>>>>> 2645079b727ccf7005842fd856e6ec984f2ff004
         "x": [
          "8月5周",
          "9月1周",
          "9月2周",
          "9月3周",
          "9月4周",
          "10月2周",
          "10月3周"
         ],
         "y": [
          6.166666666666667,
          6.878048780487805,
          7.760869565217392,
          7.636363636363637,
          8.926829268292684,
          6.481481481481482,
          7
         ]
        }
       ],
       "layout": {
        "title": "预计周期周趋势图",
        "xaxis": {
         "mirror": "all",
         "nticks": 20,
         "showgrid": true,
         "showline": true,
         "title": "周",
         "zeroline": true
        },
        "yaxis": {
         "mirror": "all",
         "nticks": 20,
         "showgrid": true,
         "showline": true,
         "title": "预计周期",
         "zeroline": true
        }
       }
      },
      "text/html": [
<<<<<<< HEAD
       "<div id=\"0321510e-9447-402f-a08e-9d5e2698b747\" style=\"height: 525px; width: 100%;\" class=\"plotly-graph-div\"></div><script type=\"text/javascript\">require([\"plotly\"], function(Plotly) { window.PLOTLYENV=window.PLOTLYENV || {};window.PLOTLYENV.BASE_URL=\"https://plot.ly\";Plotly.newPlot(\"0321510e-9447-402f-a08e-9d5e2698b747\", [{\"name\": \"\\u9884\\u8ba1\\u5468\\u671f\", \"x\": [\"8\\u67085\\u5468\", \"9\\u67081\\u5468\", \"9\\u67082\\u5468\", \"9\\u67083\\u5468\", \"9\\u67084\\u5468\", \"10\\u67082\\u5468\", \"10\\u67083\\u5468\"], \"y\": [6.166666666666667, 6.878048780487805, 7.760869565217392, 7.636363636363637, 8.926829268292684, 6.481481481481482, 7.0], \"type\": \"scatter\", \"uid\": \"3e50ae0a-d028-11e8-8ddb-a41f72875c19\"}], {\"title\": \"\\u9884\\u8ba1\\u5468\\u671f\\u5468\\u8d8b\\u52bf\\u56fe\", \"xaxis\": {\"mirror\": \"all\", \"nticks\": 20, \"showgrid\": true, \"showline\": true, \"title\": \"\\u5468\", \"zeroline\": true}, \"yaxis\": {\"mirror\": \"all\", \"nticks\": 20, \"showgrid\": true, \"showline\": true, \"title\": \"\\u9884\\u8ba1\\u5468\\u671f\", \"zeroline\": true}}, {\"showLink\": true, \"linkText\": \"Export to plot.ly\"})});</script>"
      ],
      "text/vnd.plotly.v1+html": [
       "<div id=\"0321510e-9447-402f-a08e-9d5e2698b747\" style=\"height: 525px; width: 100%;\" class=\"plotly-graph-div\"></div><script type=\"text/javascript\">require([\"plotly\"], function(Plotly) { window.PLOTLYENV=window.PLOTLYENV || {};window.PLOTLYENV.BASE_URL=\"https://plot.ly\";Plotly.newPlot(\"0321510e-9447-402f-a08e-9d5e2698b747\", [{\"name\": \"\\u9884\\u8ba1\\u5468\\u671f\", \"x\": [\"8\\u67085\\u5468\", \"9\\u67081\\u5468\", \"9\\u67082\\u5468\", \"9\\u67083\\u5468\", \"9\\u67084\\u5468\", \"10\\u67082\\u5468\", \"10\\u67083\\u5468\"], \"y\": [6.166666666666667, 6.878048780487805, 7.760869565217392, 7.636363636363637, 8.926829268292684, 6.481481481481482, 7.0], \"type\": \"scatter\", \"uid\": \"3e50ae0a-d028-11e8-8ddb-a41f72875c19\"}], {\"title\": \"\\u9884\\u8ba1\\u5468\\u671f\\u5468\\u8d8b\\u52bf\\u56fe\", \"xaxis\": {\"mirror\": \"all\", \"nticks\": 20, \"showgrid\": true, \"showline\": true, \"title\": \"\\u5468\", \"zeroline\": true}, \"yaxis\": {\"mirror\": \"all\", \"nticks\": 20, \"showgrid\": true, \"showline\": true, \"title\": \"\\u9884\\u8ba1\\u5468\\u671f\", \"zeroline\": true}}, {\"showLink\": true, \"linkText\": \"Export to plot.ly\"})});</script>"
=======
       "<div id=\"cdf2e60c-73e8-47fc-a497-3fee4dfb8ad1\" style=\"height: 525px; width: 100%;\" class=\"plotly-graph-div\"></div><script type=\"text/javascript\">require([\"plotly\"], function(Plotly) { window.PLOTLYENV=window.PLOTLYENV || {};window.PLOTLYENV.BASE_URL=\"https://plot.ly\";Plotly.newPlot(\"cdf2e60c-73e8-47fc-a497-3fee4dfb8ad1\", [{\"name\": \"\\u9884\\u8ba1\\u5468\\u671f\", \"x\": [\"8\\u67085\\u5468\", \"9\\u67081\\u5468\", \"9\\u67082\\u5468\", \"9\\u67083\\u5468\", \"9\\u67084\\u5468\", \"10\\u67082\\u5468\"], \"y\": [6.166666666666667, 6.878048780487805, 7.760869565217392, 7.558139534883721, 9.18421052631579, 6.0], \"type\": \"scatter\", \"uid\": \"b0d6a78d-d016-11e8-8ddb-a41f72875c19\"}], {\"title\": \"\\u9884\\u8ba1\\u5468\\u671f\\u5468\\u8d8b\\u52bf\\u56fe\", \"xaxis\": {\"mirror\": \"all\", \"nticks\": 20, \"showgrid\": true, \"showline\": true, \"title\": \"\\u5468\", \"zeroline\": true}, \"yaxis\": {\"mirror\": \"all\", \"nticks\": 20, \"showgrid\": true, \"showline\": true, \"title\": \"\\u9884\\u8ba1\\u5468\\u671f\", \"zeroline\": true}}, {\"showLink\": true, \"linkText\": \"Export to plot.ly\"})});</script>"
      ],
      "text/vnd.plotly.v1+html": [
       "<div id=\"cdf2e60c-73e8-47fc-a497-3fee4dfb8ad1\" style=\"height: 525px; width: 100%;\" class=\"plotly-graph-div\"></div><script type=\"text/javascript\">require([\"plotly\"], function(Plotly) { window.PLOTLYENV=window.PLOTLYENV || {};window.PLOTLYENV.BASE_URL=\"https://plot.ly\";Plotly.newPlot(\"cdf2e60c-73e8-47fc-a497-3fee4dfb8ad1\", [{\"name\": \"\\u9884\\u8ba1\\u5468\\u671f\", \"x\": [\"8\\u67085\\u5468\", \"9\\u67081\\u5468\", \"9\\u67082\\u5468\", \"9\\u67083\\u5468\", \"9\\u67084\\u5468\", \"10\\u67082\\u5468\"], \"y\": [6.166666666666667, 6.878048780487805, 7.760869565217392, 7.558139534883721, 9.18421052631579, 6.0], \"type\": \"scatter\", \"uid\": \"b0d6a78d-d016-11e8-8ddb-a41f72875c19\"}], {\"title\": \"\\u9884\\u8ba1\\u5468\\u671f\\u5468\\u8d8b\\u52bf\\u56fe\", \"xaxis\": {\"mirror\": \"all\", \"nticks\": 20, \"showgrid\": true, \"showline\": true, \"title\": \"\\u5468\", \"zeroline\": true}, \"yaxis\": {\"mirror\": \"all\", \"nticks\": 20, \"showgrid\": true, \"showline\": true, \"title\": \"\\u9884\\u8ba1\\u5468\\u671f\", \"zeroline\": true}}, {\"showLink\": true, \"linkText\": \"Export to plot.ly\"})});</script>"
>>>>>>> 2645079b727ccf7005842fd856e6ec984f2ff004
      ]
     },
     "metadata": {},
     "output_type": "display_data"
    }
   ],
   "source": [
    "# 平均评估周期，建议添加最长评估周期、25%、50%、80%项目评估周期的指标\n",
    "ss = myModule.format(df2 ,'week_number' ,['预计周期'])\n",
    "pp = myModule.sort_by_index(ss.groupby('mean'))\n",
    "myModule.myPlot(pp).plot('line')"
   ]
  },
  {
   "cell_type": "markdown",
   "metadata": {},
   "source": [
    "### 预计周期>7日项目列表"
   ]
  },
  {
   "cell_type": "code",
<<<<<<< HEAD
   "execution_count": 1472,
=======
   "execution_count": 1318,
>>>>>>> 2645079b727ccf7005842fd856e6ec984f2ff004
   "metadata": {
    "scrolled": true
   },
   "outputs": [
    {
     "data": {
      "text/html": [
       "<div>\n",
       "<style scoped>\n",
       "    .dataframe tbody tr th:only-of-type {\n",
       "        vertical-align: middle;\n",
       "    }\n",
       "\n",
       "    .dataframe tbody tr th {\n",
       "        vertical-align: top;\n",
       "    }\n",
       "\n",
       "    .dataframe thead th {\n",
       "        text-align: right;\n",
       "    }\n",
       "</style>\n",
       "<table border=\"1\" class=\"dataframe\">\n",
       "  <thead>\n",
       "    <tr style=\"text-align: right;\">\n",
       "      <th></th>\n",
       "      <th>week_number</th>\n",
       "      <th>流水号</th>\n",
       "      <th>个性化分析名称</th>\n",
       "      <th>信息负责人</th>\n",
       "      <th>预计周期</th>\n",
       "    </tr>\n",
       "  </thead>\n",
       "  <tbody>\n",
       "    <tr>\n",
       "      <th>198</th>\n",
       "      <td>10月2周</td>\n",
       "      <td>20181008-001</td>\n",
       "      <td>PM-YWHB180262-01华科协和医院2个人全基因组重测序建库测序分析任务单-快速产品-01</td>\n",
       "      <td>车天栋</td>\n",
       "      <td>20</td>\n",
       "    </tr>\n",
       "    <tr>\n",
       "      <th>244</th>\n",
       "      <td>10月2周</td>\n",
       "      <td>20181011-003</td>\n",
       "      <td>YN180155-01云南大学1个果蝇基因组三代DNA建库测序过滤任务单-02</td>\n",
       "      <td>占伟</td>\n",
       "      <td>14</td>\n",
       "    </tr>\n",
       "    <tr>\n",
       "      <th>253</th>\n",
       "      <td>10月2周</td>\n",
       "      <td>20181011-012</td>\n",
       "      <td>HA160001-22河南农大4个玉米denovo10K文库测序分析任务单-02</td>\n",
       "      <td>占伟</td>\n",
       "      <td>14</td>\n",
       "    </tr>\n",
       "    <tr>\n",
       "      <th>254</th>\n",
       "      <td>10月2周</td>\n",
       "      <td>20181011-013</td>\n",
       "      <td>HA160001-22河南农大4个玉米denovo10K文库测序分析任务单-01</td>\n",
       "      <td>占伟</td>\n",
       "      <td>11</td>\n",
       "    </tr>\n",
       "    <tr>\n",
       "      <th>203</th>\n",
       "      <td>10月2周</td>\n",
       "      <td>20181008-006</td>\n",
       "      <td>PM-BJ180807-01医科院药物所15个人有参转录组建库测序分析任务单-01</td>\n",
       "      <td>冯敬岩</td>\n",
       "      <td>10</td>\n",
       "    </tr>\n",
       "    <tr>\n",
       "      <th>221</th>\n",
       "      <td>10月2周</td>\n",
       "      <td>20181009-013</td>\n",
       "      <td>SD170174-04山东农大1个芒属植物Hi-C辅助基因组组装只分析任务单</td>\n",
       "      <td>刘江</td>\n",
       "      <td>9</td>\n",
       "    </tr>\n",
       "    <tr>\n",
       "      <th>207</th>\n",
       "      <td>10月2周</td>\n",
       "      <td>20181008-010</td>\n",
       "      <td>PM-GD170317-01深圳市人民医院16个人6mA建库测序分析任务单-02</td>\n",
       "      <td>宋少宇</td>\n",
       "      <td>8</td>\n",
       "    </tr>\n",
       "    <tr>\n",
       "      <th>222</th>\n",
       "      <td>10月2周</td>\n",
       "      <td>20181009-014</td>\n",
       "      <td>PM-YWBJ181246-01阜外医院40个大鼠有参普通转录组建库测序分析任务单-快速产品-01</td>\n",
       "      <td>刘梦苑</td>\n",
       "      <td>8</td>\n",
       "    </tr>\n",
       "    <tr>\n",
       "      <th>223</th>\n",
       "      <td>10月2周</td>\n",
       "      <td>20181009-015</td>\n",
       "      <td>BJ181246-02阜外医院8个大鼠有参普通转录组建库测序分析任务单-快速产品-01</td>\n",
       "      <td>刘梦苑</td>\n",
       "      <td>8</td>\n",
       "    </tr>\n",
       "    <tr>\n",
       "      <th>234</th>\n",
       "      <td>10月2周</td>\n",
       "      <td>20181010-007</td>\n",
       "      <td>PM-BJ181079-03动物所9个小鼠Bisulfite甲基化建库测序分析任务单-04</td>\n",
       "      <td>韩少怀</td>\n",
       "      <td>8</td>\n",
       "    </tr>\n",
       "  </tbody>\n",
       "</table>\n",
       "</div>"
      ],
      "text/plain": [
       "    week_number           流水号  \\\n",
       "198       10月2周  20181008-001   \n",
       "244       10月2周  20181011-003   \n",
       "253       10月2周  20181011-012   \n",
       "254       10月2周  20181011-013   \n",
       "203       10月2周  20181008-006   \n",
       "221       10月2周  20181009-013   \n",
       "207       10月2周  20181008-010   \n",
       "222       10月2周  20181009-014   \n",
       "223       10月2周  20181009-015   \n",
       "234       10月2周  20181010-007   \n",
       "\n",
       "                                               个性化分析名称 信息负责人  预计周期  \n",
       "198  PM-YWHB180262-01华科协和医院2个人全基因组重测序建库测序分析任务单-快速产品-01   车天栋    20  \n",
       "244            YN180155-01云南大学1个果蝇基因组三代DNA建库测序过滤任务单-02    占伟    14  \n",
       "253           HA160001-22河南农大4个玉米denovo10K文库测序分析任务单-02    占伟    14  \n",
       "254           HA160001-22河南农大4个玉米denovo10K文库测序分析任务单-01    占伟    11  \n",
       "203          PM-BJ180807-01医科院药物所15个人有参转录组建库测序分析任务单-01   冯敬岩    10  \n",
       "221             SD170174-04山东农大1个芒属植物Hi-C辅助基因组组装只分析任务单    刘江     9  \n",
       "207           PM-GD170317-01深圳市人民医院16个人6mA建库测序分析任务单-02   宋少宇     8  \n",
       "222  PM-YWBJ181246-01阜外医院40个大鼠有参普通转录组建库测序分析任务单-快速产品-01   刘梦苑     8  \n",
       "223        BJ181246-02阜外医院8个大鼠有参普通转录组建库测序分析任务单-快速产品-01   刘梦苑     8  \n",
       "234      PM-BJ181079-03动物所9个小鼠Bisulfite甲基化建库测序分析任务单-04   韩少怀     8  "
      ]
     },
<<<<<<< HEAD
     "execution_count": 1472,
=======
     "execution_count": 1318,
>>>>>>> 2645079b727ccf7005842fd856e6ec984f2ff004
     "metadata": {},
     "output_type": "execute_result"
    }
   ],
   "source": [
    "ss = myModule.format(df2,'week_number',['流水号','个性化分析名称','信息负责人','预计周期'])\n",
    "ss.select_by_value('week_number',stat_week)\n",
    "ss.judge_and_replace('预计周期',7)\n",
    "ss.select_by_value('预计周期_bool',True)\n",
    "tt = myModule.format(ss.df,'week_number',['流水号','个性化分析名称','信息负责人','预计周期']).df\n",
    "tt.sort_values(by = '预计周期',axis = 0,ascending = False)   #预计周期从大到小排序"
   ]
  },
  {
   "cell_type": "markdown",
   "metadata": {},
   "source": [
    "## 反馈延期情况统计"
   ]
  },
  {
   "cell_type": "markdown",
   "metadata": {},
   "source": [
    "### 反馈延期率趋势图"
   ]
  },
  {
   "cell_type": "code",
<<<<<<< HEAD
   "execution_count": 1473,
   "metadata": {
    "collapsed": false
   },
=======
   "execution_count": 1319,
   "metadata": {},
>>>>>>> 2645079b727ccf7005842fd856e6ec984f2ff004
   "outputs": [
    {
     "name": "stderr",
     "output_type": "stream",
     "text": [
      "/home/jiankong/jupyter/chart/bin/supplment_analysis/myModule.py:244: SettingWithCopyWarning:\n",
      "\n",
      "\n",
      "A value is trying to be set on a copy of a slice from a DataFrame.\n",
      "Try using .loc[row_indexer,col_indexer] = value instead\n",
      "\n",
      "See the caveats in the documentation: http://pandas.pydata.org/pandas-docs/stable/indexing.html#indexing-view-versus-copy\n",
      "\n",
      "/home/jiankong/anaconda3/lib/python3.6/site-packages/ipykernel/__main__.py:3: SettingWithCopyWarning:\n",
      "\n",
      "\n",
      "A value is trying to be set on a copy of a slice from a DataFrame.\n",
      "Try using .loc[row_indexer,col_indexer] = value instead\n",
      "\n",
      "See the caveats in the documentation: http://pandas.pydata.org/pandas-docs/stable/indexing.html#indexing-view-versus-copy\n",
      "\n",
      "/home/jiankong/anaconda3/lib/python3.6/site-packages/ipykernel/__main__.py:4: SettingWithCopyWarning:\n",
      "\n",
      "\n",
      "A value is trying to be set on a copy of a slice from a DataFrame.\n",
      "Try using .loc[row_indexer,col_indexer] = value instead\n",
      "\n",
      "See the caveats in the documentation: http://pandas.pydata.org/pandas-docs/stable/indexing.html#indexing-view-versus-copy\n",
      "\n"
     ]
    },
    {
     "data": {
      "application/vnd.plotly.v1+json": {
       "data": [
        {
         "name": "反馈延期率",
         "type": "scatter",
<<<<<<< HEAD
         "uid": "3e50ae0b-d028-11e8-8ddb-a41f72875c19",
=======
         "uid": "b0d6a78e-d016-11e8-8ddb-a41f72875c19",
>>>>>>> 2645079b727ccf7005842fd856e6ec984f2ff004
         "x": [
          "8月5周",
          "9月1周",
          "9月2周",
          "9月3周",
          "9月4周",
          "10月2周",
          "10月3周"
         ],
         "y": [
          0.16666666666666666,
          0.13333333333333333,
          0.21153846153846154,
          0.0425531914893617,
          0.23404255319148937,
          0.015873015873015872,
          0
         ]
        }
       ],
       "layout": {
        "title": "反馈延期率周趋势图",
        "xaxis": {
         "mirror": "all",
         "nticks": 20,
         "showgrid": true,
         "showline": true,
         "title": "周",
         "zeroline": true
        },
        "yaxis": {
         "mirror": "all",
         "nticks": 20,
         "showgrid": true,
         "showline": true,
         "title": "反馈延期率",
         "zeroline": true
        }
       }
      },
      "text/html": [
<<<<<<< HEAD
       "<div id=\"4d9550a2-6525-48e4-8edd-a058e6e624b2\" style=\"height: 525px; width: 100%;\" class=\"plotly-graph-div\"></div><script type=\"text/javascript\">require([\"plotly\"], function(Plotly) { window.PLOTLYENV=window.PLOTLYENV || {};window.PLOTLYENV.BASE_URL=\"https://plot.ly\";Plotly.newPlot(\"4d9550a2-6525-48e4-8edd-a058e6e624b2\", [{\"name\": \"\\u53cd\\u9988\\u5ef6\\u671f\\u7387\", \"x\": [\"8\\u67085\\u5468\", \"9\\u67081\\u5468\", \"9\\u67082\\u5468\", \"9\\u67083\\u5468\", \"9\\u67084\\u5468\", \"10\\u67082\\u5468\", \"10\\u67083\\u5468\"], \"y\": [0.16666666666666666, 0.13333333333333333, 0.21153846153846154, 0.0425531914893617, 0.23404255319148937, 0.015873015873015872, 0.0], \"type\": \"scatter\", \"uid\": \"3e50ae0b-d028-11e8-8ddb-a41f72875c19\"}], {\"title\": \"\\u53cd\\u9988\\u5ef6\\u671f\\u7387\\u5468\\u8d8b\\u52bf\\u56fe\", \"xaxis\": {\"mirror\": \"all\", \"nticks\": 20, \"showgrid\": true, \"showline\": true, \"title\": \"\\u5468\", \"zeroline\": true}, \"yaxis\": {\"mirror\": \"all\", \"nticks\": 20, \"showgrid\": true, \"showline\": true, \"title\": \"\\u53cd\\u9988\\u5ef6\\u671f\\u7387\", \"zeroline\": true}}, {\"showLink\": true, \"linkText\": \"Export to plot.ly\"})});</script>"
      ],
      "text/vnd.plotly.v1+html": [
       "<div id=\"4d9550a2-6525-48e4-8edd-a058e6e624b2\" style=\"height: 525px; width: 100%;\" class=\"plotly-graph-div\"></div><script type=\"text/javascript\">require([\"plotly\"], function(Plotly) { window.PLOTLYENV=window.PLOTLYENV || {};window.PLOTLYENV.BASE_URL=\"https://plot.ly\";Plotly.newPlot(\"4d9550a2-6525-48e4-8edd-a058e6e624b2\", [{\"name\": \"\\u53cd\\u9988\\u5ef6\\u671f\\u7387\", \"x\": [\"8\\u67085\\u5468\", \"9\\u67081\\u5468\", \"9\\u67082\\u5468\", \"9\\u67083\\u5468\", \"9\\u67084\\u5468\", \"10\\u67082\\u5468\", \"10\\u67083\\u5468\"], \"y\": [0.16666666666666666, 0.13333333333333333, 0.21153846153846154, 0.0425531914893617, 0.23404255319148937, 0.015873015873015872, 0.0], \"type\": \"scatter\", \"uid\": \"3e50ae0b-d028-11e8-8ddb-a41f72875c19\"}], {\"title\": \"\\u53cd\\u9988\\u5ef6\\u671f\\u7387\\u5468\\u8d8b\\u52bf\\u56fe\", \"xaxis\": {\"mirror\": \"all\", \"nticks\": 20, \"showgrid\": true, \"showline\": true, \"title\": \"\\u5468\", \"zeroline\": true}, \"yaxis\": {\"mirror\": \"all\", \"nticks\": 20, \"showgrid\": true, \"showline\": true, \"title\": \"\\u53cd\\u9988\\u5ef6\\u671f\\u7387\", \"zeroline\": true}}, {\"showLink\": true, \"linkText\": \"Export to plot.ly\"})});</script>"
=======
       "<div id=\"6a3be485-564a-404d-a3e7-ab61e6e1ebeb\" style=\"height: 525px; width: 100%;\" class=\"plotly-graph-div\"></div><script type=\"text/javascript\">require([\"plotly\"], function(Plotly) { window.PLOTLYENV=window.PLOTLYENV || {};window.PLOTLYENV.BASE_URL=\"https://plot.ly\";Plotly.newPlot(\"6a3be485-564a-404d-a3e7-ab61e6e1ebeb\", [{\"name\": \"\\u53cd\\u9988\\u5ef6\\u671f\\u7387\", \"x\": [\"8\\u67085\\u5468\", \"9\\u67081\\u5468\", \"9\\u67082\\u5468\", \"9\\u67083\\u5468\", \"9\\u67084\\u5468\", \"10\\u67082\\u5468\"], \"y\": [0.16666666666666666, 0.13043478260869565, 0.21153846153846154, 0.043478260869565216, 0.15555555555555556, 0.0], \"type\": \"scatter\", \"uid\": \"b0d6a78e-d016-11e8-8ddb-a41f72875c19\"}], {\"title\": \"\\u53cd\\u9988\\u5ef6\\u671f\\u7387\\u5468\\u8d8b\\u52bf\\u56fe\", \"xaxis\": {\"mirror\": \"all\", \"nticks\": 20, \"showgrid\": true, \"showline\": true, \"title\": \"\\u5468\", \"zeroline\": true}, \"yaxis\": {\"mirror\": \"all\", \"nticks\": 20, \"showgrid\": true, \"showline\": true, \"title\": \"\\u53cd\\u9988\\u5ef6\\u671f\\u7387\", \"zeroline\": true}}, {\"showLink\": true, \"linkText\": \"Export to plot.ly\"})});</script>"
      ],
      "text/vnd.plotly.v1+html": [
       "<div id=\"6a3be485-564a-404d-a3e7-ab61e6e1ebeb\" style=\"height: 525px; width: 100%;\" class=\"plotly-graph-div\"></div><script type=\"text/javascript\">require([\"plotly\"], function(Plotly) { window.PLOTLYENV=window.PLOTLYENV || {};window.PLOTLYENV.BASE_URL=\"https://plot.ly\";Plotly.newPlot(\"6a3be485-564a-404d-a3e7-ab61e6e1ebeb\", [{\"name\": \"\\u53cd\\u9988\\u5ef6\\u671f\\u7387\", \"x\": [\"8\\u67085\\u5468\", \"9\\u67081\\u5468\", \"9\\u67082\\u5468\", \"9\\u67083\\u5468\", \"9\\u67084\\u5468\", \"10\\u67082\\u5468\"], \"y\": [0.16666666666666666, 0.13043478260869565, 0.21153846153846154, 0.043478260869565216, 0.15555555555555556, 0.0], \"type\": \"scatter\", \"uid\": \"b0d6a78e-d016-11e8-8ddb-a41f72875c19\"}], {\"title\": \"\\u53cd\\u9988\\u5ef6\\u671f\\u7387\\u5468\\u8d8b\\u52bf\\u56fe\", \"xaxis\": {\"mirror\": \"all\", \"nticks\": 20, \"showgrid\": true, \"showline\": true, \"title\": \"\\u5468\", \"zeroline\": true}, \"yaxis\": {\"mirror\": \"all\", \"nticks\": 20, \"showgrid\": true, \"showline\": true, \"title\": \"\\u53cd\\u9988\\u5ef6\\u671f\\u7387\", \"zeroline\": true}}, {\"showLink\": true, \"linkText\": \"Export to plot.ly\"})});</script>"
>>>>>>> 2645079b727ccf7005842fd856e6ec984f2ff004
      ]
     },
     "metadata": {},
     "output_type": "display_data"
    }
   ],
   "source": [
    "ss = myModule.format(df1 ,'week_number' ,['流水号','反馈周期'])\n",
    "ss.judge_and_replace('反馈周期',1)\n",
    "ss.df['流水号'] = list(map(changetype2, ss.df['流水号']))\n",
    "ss.df['反馈周期_bool'] = ss.df['反馈周期_bool'].astype(int)      #bool类型装换为数值1/0\n",
    "pp = myModule.sort_by_index(ss.get_total_ratio([['反馈延期率' ,'反馈周期_bool' , '流水号','/']]))\n",
    "myModule.myPlot(pp).plot('line')"
   ]
  },
  {
   "cell_type": "markdown",
   "metadata": {},
   "source": [
    "### 反馈延期项目列表"
   ]
  },
  {
   "cell_type": "code",
<<<<<<< HEAD
   "execution_count": 1474,
   "metadata": {
    "collapsed": false
   },
=======
   "execution_count": 1320,
   "metadata": {},
>>>>>>> 2645079b727ccf7005842fd856e6ec984f2ff004
   "outputs": [
    {
     "data": {
      "text/html": [
       "<div>\n",
       "<style scoped>\n",
       "    .dataframe tbody tr th:only-of-type {\n",
       "        vertical-align: middle;\n",
       "    }\n",
       "\n",
       "    .dataframe tbody tr th {\n",
       "        vertical-align: top;\n",
       "    }\n",
       "\n",
       "    .dataframe thead th {\n",
       "        text-align: right;\n",
       "    }\n",
       "</style>\n",
       "<table border=\"1\" class=\"dataframe\">\n",
       "  <thead>\n",
       "    <tr style=\"text-align: right;\">\n",
       "      <th></th>\n",
       "      <th>week_number</th>\n",
       "      <th>流水号</th>\n",
       "      <th>个性化分析名称</th>\n",
       "      <th>信息负责人</th>\n",
       "      <th>下单时间</th>\n",
       "      <th>评估反馈时间</th>\n",
       "      <th>反馈周期</th>\n",
       "    </tr>\n",
       "  </thead>\n",
       "  <tbody>\n",
       "    <tr>\n",
       "      <th>252</th>\n",
       "      <td>10月2周</td>\n",
       "      <td>20181011-011</td>\n",
       "      <td>BJ181222-02遗传所1个植物全长转录组只分析任务单-02</td>\n",
       "      <td>刘永强</td>\n",
       "      <td>2018-10-11</td>\n",
       "      <td>2018-10-15</td>\n",
       "      <td>4</td>\n",
       "    </tr>\n",
       "  </tbody>\n",
       "</table>\n",
       "</div>"
      ],
      "text/plain": [
       "    week_number           流水号                           个性化分析名称 信息负责人  \\\n",
       "252       10月2周  20181011-011  BJ181222-02遗传所1个植物全长转录组只分析任务单-02   刘永强   \n",
       "\n",
       "          下单时间     评估反馈时间  反馈周期  \n",
       "252 2018-10-11 2018-10-15     4  "
      ]
     },
<<<<<<< HEAD
     "execution_count": 1474,
=======
     "execution_count": 1320,
>>>>>>> 2645079b727ccf7005842fd856e6ec984f2ff004
     "metadata": {},
     "output_type": "execute_result"
    }
   ],
   "source": [
    "ss = myModule.format(df1,'week_number',['流水号','个性化分析名称','信息负责人','下单时间','评估反馈时间','反馈周期'])\n",
    "ss.select_by_value('week_number',stat_week)\n",
    "ss.judge_and_replace('反馈周期',1)\n",
    "ss.select_by_value('反馈周期_bool',True)\n",
    "tt = myModule.format(ss.df,'week_number',['流水号','个性化分析名称','信息负责人','下单时间','评估反馈时间','反馈周期']).df\n",
    "tt.sort_values(by = '反馈周期',axis = 0,ascending = False)"
   ]
  },
  {
   "cell_type": "markdown",
   "metadata": {},
   "source": [
    "## 在线项目数统计"
   ]
  },
  {
   "cell_type": "code",
<<<<<<< HEAD
   "execution_count": 1475,
=======
   "execution_count": 1321,
>>>>>>> 2645079b727ccf7005842fd856e6ec984f2ff004
   "metadata": {
    "scrolled": true
   },
   "outputs": [
    {
     "data": {
      "application/vnd.plotly.v1+json": {
       "data": [
        {
         "name": "流水号",
         "type": "bar",
<<<<<<< HEAD
         "uid": "3e50ae0c-d028-11e8-8ddb-a41f72875c19",
=======
         "uid": "b179d3d0-d016-11e8-8ddb-a41f72875c19",
>>>>>>> 2645079b727ccf7005842fd856e6ec984f2ff004
         "x": [
          "何胜",
          "冯敬岩",
          "冷雪",
          "刘梦苑",
          "刘江",
          "占伟",
          "宋少宇",
          "封彦杰",
          "屈昂",
          "张悦",
          "昶吉阳",
          "杨伟飞",
          "杨宇",
          "王霞",
          "范旭宁",
          "解飞",
          "赵倩",
          "赵玥",
          "车天栋",
          "闻少楠",
          "靳甜甜",
          "韩少怀",
          "马潇"
         ],
         "y": [
          2,
          2,
          1,
          4,
          1,
          3,
          5,
          1,
          1,
          1,
          2,
          1,
          3,
          2,
          4,
          2,
          6,
          1,
          1,
          2,
          1,
          2,
          1
         ]
        }
       ],
       "layout": {
        "title": "流水号周趋势图",
        "xaxis": {
         "mirror": "all",
         "nticks": 20,
         "showgrid": true,
         "showline": true,
         "title": "周",
         "zeroline": true
        },
        "yaxis": {
         "mirror": "all",
         "nticks": 20,
         "showgrid": true,
         "showline": true,
         "title": "流水号",
         "zeroline": true
        }
       }
      },
      "text/html": [
<<<<<<< HEAD
       "<div id=\"8a3b4009-e186-43a1-aad4-ec7038385993\" style=\"height: 525px; width: 100%;\" class=\"plotly-graph-div\"></div><script type=\"text/javascript\">require([\"plotly\"], function(Plotly) { window.PLOTLYENV=window.PLOTLYENV || {};window.PLOTLYENV.BASE_URL=\"https://plot.ly\";Plotly.newPlot(\"8a3b4009-e186-43a1-aad4-ec7038385993\", [{\"name\": \"\\u6d41\\u6c34\\u53f7\", \"x\": [\"\\u4f55\\u80dc\", \"\\u51af\\u656c\\u5ca9\", \"\\u51b7\\u96ea\", \"\\u5218\\u68a6\\u82d1\", \"\\u5218\\u6c5f\", \"\\u5360\\u4f1f\", \"\\u5b8b\\u5c11\\u5b87\", \"\\u5c01\\u5f66\\u6770\", \"\\u5c48\\u6602\", \"\\u5f20\\u60a6\", \"\\u6636\\u5409\\u9633\", \"\\u6768\\u4f1f\\u98de\", \"\\u6768\\u5b87\", \"\\u738b\\u971e\", \"\\u8303\\u65ed\\u5b81\", \"\\u89e3\\u98de\", \"\\u8d75\\u5029\", \"\\u8d75\\u73a5\", \"\\u8f66\\u5929\\u680b\", \"\\u95fb\\u5c11\\u6960\", \"\\u9773\\u751c\\u751c\", \"\\u97e9\\u5c11\\u6000\", \"\\u9a6c\\u6f47\"], \"y\": [2, 2, 1, 4, 1, 3, 5, 1, 1, 1, 2, 1, 3, 2, 4, 2, 6, 1, 1, 2, 1, 2, 1], \"type\": \"bar\", \"uid\": \"3e50ae0c-d028-11e8-8ddb-a41f72875c19\"}], {\"title\": \"\\u6d41\\u6c34\\u53f7\\u5468\\u8d8b\\u52bf\\u56fe\", \"xaxis\": {\"mirror\": \"all\", \"nticks\": 20, \"showgrid\": true, \"showline\": true, \"title\": \"\\u5468\", \"zeroline\": true}, \"yaxis\": {\"mirror\": \"all\", \"nticks\": 20, \"showgrid\": true, \"showline\": true, \"title\": \"\\u6d41\\u6c34\\u53f7\", \"zeroline\": true}}, {\"showLink\": true, \"linkText\": \"Export to plot.ly\"})});</script>"
      ],
      "text/vnd.plotly.v1+html": [
       "<div id=\"8a3b4009-e186-43a1-aad4-ec7038385993\" style=\"height: 525px; width: 100%;\" class=\"plotly-graph-div\"></div><script type=\"text/javascript\">require([\"plotly\"], function(Plotly) { window.PLOTLYENV=window.PLOTLYENV || {};window.PLOTLYENV.BASE_URL=\"https://plot.ly\";Plotly.newPlot(\"8a3b4009-e186-43a1-aad4-ec7038385993\", [{\"name\": \"\\u6d41\\u6c34\\u53f7\", \"x\": [\"\\u4f55\\u80dc\", \"\\u51af\\u656c\\u5ca9\", \"\\u51b7\\u96ea\", \"\\u5218\\u68a6\\u82d1\", \"\\u5218\\u6c5f\", \"\\u5360\\u4f1f\", \"\\u5b8b\\u5c11\\u5b87\", \"\\u5c01\\u5f66\\u6770\", \"\\u5c48\\u6602\", \"\\u5f20\\u60a6\", \"\\u6636\\u5409\\u9633\", \"\\u6768\\u4f1f\\u98de\", \"\\u6768\\u5b87\", \"\\u738b\\u971e\", \"\\u8303\\u65ed\\u5b81\", \"\\u89e3\\u98de\", \"\\u8d75\\u5029\", \"\\u8d75\\u73a5\", \"\\u8f66\\u5929\\u680b\", \"\\u95fb\\u5c11\\u6960\", \"\\u9773\\u751c\\u751c\", \"\\u97e9\\u5c11\\u6000\", \"\\u9a6c\\u6f47\"], \"y\": [2, 2, 1, 4, 1, 3, 5, 1, 1, 1, 2, 1, 3, 2, 4, 2, 6, 1, 1, 2, 1, 2, 1], \"type\": \"bar\", \"uid\": \"3e50ae0c-d028-11e8-8ddb-a41f72875c19\"}], {\"title\": \"\\u6d41\\u6c34\\u53f7\\u5468\\u8d8b\\u52bf\\u56fe\", \"xaxis\": {\"mirror\": \"all\", \"nticks\": 20, \"showgrid\": true, \"showline\": true, \"title\": \"\\u5468\", \"zeroline\": true}, \"yaxis\": {\"mirror\": \"all\", \"nticks\": 20, \"showgrid\": true, \"showline\": true, \"title\": \"\\u6d41\\u6c34\\u53f7\", \"zeroline\": true}}, {\"showLink\": true, \"linkText\": \"Export to plot.ly\"})});</script>"
=======
       "<div id=\"f177e7c4-74c4-4637-9b27-c2b38f89b265\" style=\"height: 525px; width: 100%;\" class=\"plotly-graph-div\"></div><script type=\"text/javascript\">require([\"plotly\"], function(Plotly) { window.PLOTLYENV=window.PLOTLYENV || {};window.PLOTLYENV.BASE_URL=\"https://plot.ly\";Plotly.newPlot(\"f177e7c4-74c4-4637-9b27-c2b38f89b265\", [{\"name\": \"\\u6d41\\u6c34\\u53f7\", \"x\": [\"\\u51af\\u656c\\u5ca9\", \"\\u5218\\u68a6\\u82d1\", \"\\u5218\\u6c38\\u5f3a\", \"\\u59da\\u76df\\u6210\", \"\\u5b8b\\u5c11\\u5b87\", \"\\u5c01\\u5f66\\u6770\", \"\\u5c48\\u6602\", \"\\u6636\\u5409\\u9633\", \"\\u6768\\u5b87\", \"\\u8303\\u65ed\\u5b81\", \"\\u89e3\\u98de\", \"\\u8d75\\u73a5\", \"\\u9648\\u78a7\\u96ef\", \"\\u9a6c\\u6f47\"], \"y\": [1, 2, 1, 1, 1, 1, 1, 4, 1, 2, 2, 1, 1, 2], \"type\": \"bar\", \"uid\": \"b179d3d0-d016-11e8-8ddb-a41f72875c19\"}], {\"title\": \"\\u6d41\\u6c34\\u53f7\\u5468\\u8d8b\\u52bf\\u56fe\", \"xaxis\": {\"mirror\": \"all\", \"nticks\": 20, \"showgrid\": true, \"showline\": true, \"title\": \"\\u5468\", \"zeroline\": true}, \"yaxis\": {\"mirror\": \"all\", \"nticks\": 20, \"showgrid\": true, \"showline\": true, \"title\": \"\\u6d41\\u6c34\\u53f7\", \"zeroline\": true}}, {\"showLink\": true, \"linkText\": \"Export to plot.ly\"})});</script>"
      ],
      "text/vnd.plotly.v1+html": [
       "<div id=\"f177e7c4-74c4-4637-9b27-c2b38f89b265\" style=\"height: 525px; width: 100%;\" class=\"plotly-graph-div\"></div><script type=\"text/javascript\">require([\"plotly\"], function(Plotly) { window.PLOTLYENV=window.PLOTLYENV || {};window.PLOTLYENV.BASE_URL=\"https://plot.ly\";Plotly.newPlot(\"f177e7c4-74c4-4637-9b27-c2b38f89b265\", [{\"name\": \"\\u6d41\\u6c34\\u53f7\", \"x\": [\"\\u51af\\u656c\\u5ca9\", \"\\u5218\\u68a6\\u82d1\", \"\\u5218\\u6c38\\u5f3a\", \"\\u59da\\u76df\\u6210\", \"\\u5b8b\\u5c11\\u5b87\", \"\\u5c01\\u5f66\\u6770\", \"\\u5c48\\u6602\", \"\\u6636\\u5409\\u9633\", \"\\u6768\\u5b87\", \"\\u8303\\u65ed\\u5b81\", \"\\u89e3\\u98de\", \"\\u8d75\\u73a5\", \"\\u9648\\u78a7\\u96ef\", \"\\u9a6c\\u6f47\"], \"y\": [1, 2, 1, 1, 1, 1, 1, 4, 1, 2, 2, 1, 1, 2], \"type\": \"bar\", \"uid\": \"b179d3d0-d016-11e8-8ddb-a41f72875c19\"}], {\"title\": \"\\u6d41\\u6c34\\u53f7\\u5468\\u8d8b\\u52bf\\u56fe\", \"xaxis\": {\"mirror\": \"all\", \"nticks\": 20, \"showgrid\": true, \"showline\": true, \"title\": \"\\u5468\", \"zeroline\": true}, \"yaxis\": {\"mirror\": \"all\", \"nticks\": 20, \"showgrid\": true, \"showline\": true, \"title\": \"\\u6d41\\u6c34\\u53f7\", \"zeroline\": true}}, {\"showLink\": true, \"linkText\": \"Export to plot.ly\"})});</script>"
>>>>>>> 2645079b727ccf7005842fd856e6ec984f2ff004
      ]
     },
     "metadata": {},
     "output_type": "display_data"
    }
   ],
   "source": [
    "ss = myModule.format(df3 ,'信息负责人' ,['流水号'])\n",
    "pp = ss.groupby('count')\n",
    "myModule.myPlot(pp).plot('bar')"
   ]
  },
  {
   "cell_type": "markdown",
   "metadata": {},
   "source": [
    "# 交付情况统计"
   ]
  },
  {
   "cell_type": "markdown",
   "metadata": {},
   "source": [
    "## 完成项目数统计"
   ]
  },
  {
   "cell_type": "markdown",
   "metadata": {},
   "source": [
    "### 整体完成项目数趋势图"
   ]
  },
  {
   "cell_type": "code",
<<<<<<< HEAD
   "execution_count": 1476,
   "metadata": {
    "collapsed": false
   },
=======
   "execution_count": 1322,
   "metadata": {},
>>>>>>> 2645079b727ccf7005842fd856e6ec984f2ff004
   "outputs": [
    {
     "data": {
      "application/vnd.plotly.v1+json": {
       "data": [
        {
         "name": "实际交付时间",
         "type": "scatter",
<<<<<<< HEAD
         "uid": "3e50ae0d-d028-11e8-8ddb-a41f72875c19",
=======
         "uid": "b179d3d1-d016-11e8-8ddb-a41f72875c19",
>>>>>>> 2645079b727ccf7005842fd856e6ec984f2ff004
         "x": [
          "8月3周",
          "9月1周",
          "9月2周",
          "9月3周",
          "9月4周",
          "10月2周"
         ],
         "y": [
          1,
          17,
          35,
          47,
          45,
          32
         ]
        }
       ],
       "layout": {
        "title": "实际交付时间周趋势图",
        "xaxis": {
         "mirror": "all",
         "nticks": 20,
         "showgrid": true,
         "showline": true,
         "title": "周",
         "zeroline": true
        },
        "yaxis": {
         "mirror": "all",
         "nticks": 20,
         "showgrid": true,
         "showline": true,
         "title": "实际交付时间",
         "zeroline": true
        }
       }
      },
      "text/html": [
<<<<<<< HEAD
       "<div id=\"5f81dd71-ea20-4b5a-b6e4-e419a4154c91\" style=\"height: 525px; width: 100%;\" class=\"plotly-graph-div\"></div><script type=\"text/javascript\">require([\"plotly\"], function(Plotly) { window.PLOTLYENV=window.PLOTLYENV || {};window.PLOTLYENV.BASE_URL=\"https://plot.ly\";Plotly.newPlot(\"5f81dd71-ea20-4b5a-b6e4-e419a4154c91\", [{\"name\": \"\\u5b9e\\u9645\\u4ea4\\u4ed8\\u65f6\\u95f4\", \"x\": [\"8\\u67083\\u5468\", \"9\\u67081\\u5468\", \"9\\u67082\\u5468\", \"9\\u67083\\u5468\", \"9\\u67084\\u5468\", \"10\\u67082\\u5468\"], \"y\": [1, 17, 35, 47, 45, 32], \"type\": \"scatter\", \"uid\": \"3e50ae0d-d028-11e8-8ddb-a41f72875c19\"}], {\"title\": \"\\u5b9e\\u9645\\u4ea4\\u4ed8\\u65f6\\u95f4\\u5468\\u8d8b\\u52bf\\u56fe\", \"xaxis\": {\"mirror\": \"all\", \"nticks\": 20, \"showgrid\": true, \"showline\": true, \"title\": \"\\u5468\", \"zeroline\": true}, \"yaxis\": {\"mirror\": \"all\", \"nticks\": 20, \"showgrid\": true, \"showline\": true, \"title\": \"\\u5b9e\\u9645\\u4ea4\\u4ed8\\u65f6\\u95f4\", \"zeroline\": true}}, {\"showLink\": true, \"linkText\": \"Export to plot.ly\"})});</script>"
      ],
      "text/vnd.plotly.v1+html": [
       "<div id=\"5f81dd71-ea20-4b5a-b6e4-e419a4154c91\" style=\"height: 525px; width: 100%;\" class=\"plotly-graph-div\"></div><script type=\"text/javascript\">require([\"plotly\"], function(Plotly) { window.PLOTLYENV=window.PLOTLYENV || {};window.PLOTLYENV.BASE_URL=\"https://plot.ly\";Plotly.newPlot(\"5f81dd71-ea20-4b5a-b6e4-e419a4154c91\", [{\"name\": \"\\u5b9e\\u9645\\u4ea4\\u4ed8\\u65f6\\u95f4\", \"x\": [\"8\\u67083\\u5468\", \"9\\u67081\\u5468\", \"9\\u67082\\u5468\", \"9\\u67083\\u5468\", \"9\\u67084\\u5468\", \"10\\u67082\\u5468\"], \"y\": [1, 17, 35, 47, 45, 32], \"type\": \"scatter\", \"uid\": \"3e50ae0d-d028-11e8-8ddb-a41f72875c19\"}], {\"title\": \"\\u5b9e\\u9645\\u4ea4\\u4ed8\\u65f6\\u95f4\\u5468\\u8d8b\\u52bf\\u56fe\", \"xaxis\": {\"mirror\": \"all\", \"nticks\": 20, \"showgrid\": true, \"showline\": true, \"title\": \"\\u5468\", \"zeroline\": true}, \"yaxis\": {\"mirror\": \"all\", \"nticks\": 20, \"showgrid\": true, \"showline\": true, \"title\": \"\\u5b9e\\u9645\\u4ea4\\u4ed8\\u65f6\\u95f4\", \"zeroline\": true}}, {\"showLink\": true, \"linkText\": \"Export to plot.ly\"})});</script>"
=======
       "<div id=\"8c6697fb-e8c8-4c08-bd2b-fb9d7402bc10\" style=\"height: 525px; width: 100%;\" class=\"plotly-graph-div\"></div><script type=\"text/javascript\">require([\"plotly\"], function(Plotly) { window.PLOTLYENV=window.PLOTLYENV || {};window.PLOTLYENV.BASE_URL=\"https://plot.ly\";Plotly.newPlot(\"8c6697fb-e8c8-4c08-bd2b-fb9d7402bc10\", [{\"name\": \"\\u5b9e\\u9645\\u4ea4\\u4ed8\\u65f6\\u95f4\", \"x\": [\"9\\u67081\\u5468\", \"9\\u67082\\u5468\", \"9\\u67083\\u5468\", \"9\\u67084\\u5468\", \"10\\u67082\\u5468\"], \"y\": [17, 35, 46, 42, 6], \"type\": \"scatter\", \"uid\": \"b179d3d1-d016-11e8-8ddb-a41f72875c19\"}], {\"title\": \"\\u5b9e\\u9645\\u4ea4\\u4ed8\\u65f6\\u95f4\\u5468\\u8d8b\\u52bf\\u56fe\", \"xaxis\": {\"mirror\": \"all\", \"nticks\": 20, \"showgrid\": true, \"showline\": true, \"title\": \"\\u5468\", \"zeroline\": true}, \"yaxis\": {\"mirror\": \"all\", \"nticks\": 20, \"showgrid\": true, \"showline\": true, \"title\": \"\\u5b9e\\u9645\\u4ea4\\u4ed8\\u65f6\\u95f4\", \"zeroline\": true}}, {\"showLink\": true, \"linkText\": \"Export to plot.ly\"})});</script>"
      ],
      "text/vnd.plotly.v1+html": [
       "<div id=\"8c6697fb-e8c8-4c08-bd2b-fb9d7402bc10\" style=\"height: 525px; width: 100%;\" class=\"plotly-graph-div\"></div><script type=\"text/javascript\">require([\"plotly\"], function(Plotly) { window.PLOTLYENV=window.PLOTLYENV || {};window.PLOTLYENV.BASE_URL=\"https://plot.ly\";Plotly.newPlot(\"8c6697fb-e8c8-4c08-bd2b-fb9d7402bc10\", [{\"name\": \"\\u5b9e\\u9645\\u4ea4\\u4ed8\\u65f6\\u95f4\", \"x\": [\"9\\u67081\\u5468\", \"9\\u67082\\u5468\", \"9\\u67083\\u5468\", \"9\\u67084\\u5468\", \"10\\u67082\\u5468\"], \"y\": [17, 35, 46, 42, 6], \"type\": \"scatter\", \"uid\": \"b179d3d1-d016-11e8-8ddb-a41f72875c19\"}], {\"title\": \"\\u5b9e\\u9645\\u4ea4\\u4ed8\\u65f6\\u95f4\\u5468\\u8d8b\\u52bf\\u56fe\", \"xaxis\": {\"mirror\": \"all\", \"nticks\": 20, \"showgrid\": true, \"showline\": true, \"title\": \"\\u5468\", \"zeroline\": true}, \"yaxis\": {\"mirror\": \"all\", \"nticks\": 20, \"showgrid\": true, \"showline\": true, \"title\": \"\\u5b9e\\u9645\\u4ea4\\u4ed8\\u65f6\\u95f4\", \"zeroline\": true}}, {\"showLink\": true, \"linkText\": \"Export to plot.ly\"})});</script>"
>>>>>>> 2645079b727ccf7005842fd856e6ec984f2ff004
      ]
     },
     "metadata": {},
     "output_type": "display_data"
    }
   ],
   "source": [
    "ss = myModule.format(df4 ,'week_number' ,['实际交付时间'])\n",
    "pp = myModule.sort_by_index(ss.groupby('count'))\n",
    "myModule.myPlot(pp).plot('line')"
   ]
  },
  {
   "cell_type": "markdown",
   "metadata": {},
   "source": [
    "### 个人完成项目数统计"
   ]
  },
  {
   "cell_type": "code",
<<<<<<< HEAD
   "execution_count": 1477,
   "metadata": {
    "collapsed": false
   },
=======
   "execution_count": 1323,
   "metadata": {},
>>>>>>> 2645079b727ccf7005842fd856e6ec984f2ff004
   "outputs": [
    {
     "data": {
      "application/vnd.plotly.v1+json": {
       "data": [
        {
         "name": "实际交付时间(马潇)",
         "type": "bar",
<<<<<<< HEAD
         "uid": "3f412496-d028-11e8-8ddb-a41f72875c19",
=======
         "uid": "b179d3d2-d016-11e8-8ddb-a41f72875c19",
>>>>>>> 2645079b727ccf7005842fd856e6ec984f2ff004
         "x": [
          "8月3周",
          "9月1周",
          "9月2周",
          "9月3周",
          "9月4周",
          "10月2周"
         ],
         "y": [
          null,
          null,
          2,
          2,
          2,
          null
         ]
        },
        {
         "name": "实际交付时间(韩少怀)",
         "type": "bar",
<<<<<<< HEAD
         "uid": "3f412497-d028-11e8-8ddb-a41f72875c19",
=======
         "uid": "b179d3d3-d016-11e8-8ddb-a41f72875c19",
>>>>>>> 2645079b727ccf7005842fd856e6ec984f2ff004
         "x": [
          "8月3周",
          "9月1周",
          "9月2周",
          "9月3周",
          "9月4周",
          "10月2周"
         ],
         "y": [
          null,
          null,
          null,
          null,
          2,
          1
         ]
        },
        {
         "name": "实际交付时间(姚盟成)",
         "type": "bar",
<<<<<<< HEAD
         "uid": "3f412498-d028-11e8-8ddb-a41f72875c19",
=======
         "uid": "b179d3d4-d016-11e8-8ddb-a41f72875c19",
>>>>>>> 2645079b727ccf7005842fd856e6ec984f2ff004
         "x": [
          "8月3周",
          "9月1周",
          "9月2周",
          "9月3周",
          "9月4周",
          "10月2周"
         ],
         "y": [
          null,
          null,
          1,
          null,
          null,
          1
         ]
        },
        {
         "name": "实际交付时间(刘永强)",
         "type": "bar",
<<<<<<< HEAD
         "uid": "3f412499-d028-11e8-8ddb-a41f72875c19",
=======
         "uid": "b179d3d5-d016-11e8-8ddb-a41f72875c19",
>>>>>>> 2645079b727ccf7005842fd856e6ec984f2ff004
         "x": [
          "8月3周",
          "9月1周",
          "9月2周",
          "9月3周",
          "9月4周",
          "10月2周"
         ],
         "y": [
          null,
          1,
          null,
          null,
          null,
          1
         ]
        },
        {
         "name": "实际交付时间(朱慧萍)",
         "type": "bar",
<<<<<<< HEAD
         "uid": "3f41249a-d028-11e8-8ddb-a41f72875c19",
=======
         "uid": "b179d3d6-d016-11e8-8ddb-a41f72875c19",
>>>>>>> 2645079b727ccf7005842fd856e6ec984f2ff004
         "x": [
          "8月3周",
          "9月1周",
          "9月2周",
          "9月3周",
          "9月4周",
          "10月2周"
         ],
         "y": [
          null,
          2,
          5,
          4,
          3,
          2
         ]
        },
        {
         "name": "实际交付时间(林文文)",
         "type": "bar",
<<<<<<< HEAD
         "uid": "3f41249b-d028-11e8-8ddb-a41f72875c19",
=======
         "uid": "b179d3d7-d016-11e8-8ddb-a41f72875c19",
>>>>>>> 2645079b727ccf7005842fd856e6ec984f2ff004
         "x": [
          "8月3周",
          "9月1周",
          "9月2周",
          "9月3周",
          "9月4周",
          "10月2周"
         ],
         "y": [
          null,
          null,
          null,
          1,
          1,
          null
         ]
        },
        {
         "name": "实际交付时间(车天栋)",
         "type": "bar",
<<<<<<< HEAD
         "uid": "3f41249c-d028-11e8-8ddb-a41f72875c19",
=======
         "uid": "b179d3d8-d016-11e8-8ddb-a41f72875c19",
>>>>>>> 2645079b727ccf7005842fd856e6ec984f2ff004
         "x": [
          "8月3周",
          "9月1周",
          "9月2周",
          "9月3周",
          "9月4周",
          "10月2周"
         ],
         "y": [
          null,
          null,
          1,
          null,
          1,
          null
         ]
        },
        {
         "name": "实际交付时间(沈立群)",
         "type": "bar",
<<<<<<< HEAD
         "uid": "3f41249d-d028-11e8-8ddb-a41f72875c19",
=======
         "uid": "b179d3d9-d016-11e8-8ddb-a41f72875c19",
>>>>>>> 2645079b727ccf7005842fd856e6ec984f2ff004
         "x": [
          "8月3周",
          "9月1周",
          "9月2周",
          "9月3周",
          "9月4周",
          "10月2周"
         ],
         "y": [
          null,
          null,
          null,
          null,
          1,
          null
         ]
        },
        {
         "name": "实际交付时间(段利强)",
         "type": "bar",
<<<<<<< HEAD
         "uid": "3f41249e-d028-11e8-8ddb-a41f72875c19",
=======
         "uid": "b179d3da-d016-11e8-8ddb-a41f72875c19",
>>>>>>> 2645079b727ccf7005842fd856e6ec984f2ff004
         "x": [
          "8月3周",
          "9月1周",
          "9月2周",
          "9月3周",
          "9月4周",
          "10月2周"
         ],
         "y": [
          null,
          null,
          1,
          5,
          null,
          null
         ]
        },
        {
         "name": "实际交付时间(陈鹏燕)",
         "type": "bar",
<<<<<<< HEAD
         "uid": "3f41249f-d028-11e8-8ddb-a41f72875c19",
=======
         "uid": "b179d3db-d016-11e8-8ddb-a41f72875c19",
>>>>>>> 2645079b727ccf7005842fd856e6ec984f2ff004
         "x": [
          "8月3周",
          "9月1周",
          "9月2周",
          "9月3周",
          "9月4周",
          "10月2周"
         ],
         "y": [
          null,
          1,
          2,
          4,
          4,
          null
         ]
        },
        {
         "name": "实际交付时间(闻少楠)",
         "type": "bar",
<<<<<<< HEAD
         "uid": "3f4124a0-d028-11e8-8ddb-a41f72875c19",
=======
         "uid": "b179d3dc-d016-11e8-8ddb-a41f72875c19",
>>>>>>> 2645079b727ccf7005842fd856e6ec984f2ff004
         "x": [
          "8月3周",
          "9月1周",
          "9月2周",
          "9月3周",
          "9月4周",
          "10月2周"
         ],
         "y": [
          null,
          null,
          null,
          2,
          2,
          2
         ]
        },
        {
         "name": "实际交付时间(杨宇)",
         "type": "bar",
<<<<<<< HEAD
         "uid": "3f4124a1-d028-11e8-8ddb-a41f72875c19",
=======
         "uid": "b179d3dd-d016-11e8-8ddb-a41f72875c19",
>>>>>>> 2645079b727ccf7005842fd856e6ec984f2ff004
         "x": [
          "8月3周",
          "9月1周",
          "9月2周",
          "9月3周",
          "9月4周",
          "10月2周"
         ],
         "y": [
          null,
          null,
          1,
          7,
          null,
          1
         ]
        },
        {
         "name": "实际交付时间(屈昂)",
         "type": "bar",
<<<<<<< HEAD
         "uid": "3f4124a2-d028-11e8-8ddb-a41f72875c19",
=======
         "uid": "b179d3de-d016-11e8-8ddb-a41f72875c19",
>>>>>>> 2645079b727ccf7005842fd856e6ec984f2ff004
         "x": [
          "8月3周",
          "9月1周",
          "9月2周",
          "9月3周",
          "9月4周",
          "10月2周"
         ],
         "y": [
          null,
          1,
          null,
          null,
          1,
          null
         ]
        },
        {
         "name": "实际交付时间(王传文)",
         "type": "bar",
<<<<<<< HEAD
         "uid": "3f4124a3-d028-11e8-8ddb-a41f72875c19",
=======
         "uid": "b179d3df-d016-11e8-8ddb-a41f72875c19",
>>>>>>> 2645079b727ccf7005842fd856e6ec984f2ff004
         "x": [
          "8月3周",
          "9月1周",
          "9月2周",
          "9月3周",
          "9月4周",
          "10月2周"
         ],
         "y": [
          null,
          null,
          null,
          1,
          null,
          2
         ]
        },
        {
         "name": "实际交付时间(李华云)",
         "type": "bar",
<<<<<<< HEAD
         "uid": "3f4124a4-d028-11e8-8ddb-a41f72875c19",
=======
         "uid": "b179d3e0-d016-11e8-8ddb-a41f72875c19",
>>>>>>> 2645079b727ccf7005842fd856e6ec984f2ff004
         "x": [
          "8月3周",
          "9月1周",
          "9月2周",
          "9月3周",
          "9月4周",
          "10月2周"
         ],
         "y": [
          null,
          null,
          null,
          1,
          1,
          null
         ]
        },
        {
         "name": "实际交付时间(王霞)",
         "type": "bar",
<<<<<<< HEAD
         "uid": "3f4124a5-d028-11e8-8ddb-a41f72875c19",
=======
         "uid": "b179d3e1-d016-11e8-8ddb-a41f72875c19",
>>>>>>> 2645079b727ccf7005842fd856e6ec984f2ff004
         "x": [
          "8月3周",
          "9月1周",
          "9月2周",
          "9月3周",
          "9月4周",
          "10月2周"
         ],
         "y": [
          null,
          2,
          1,
          2,
          2,
          2
         ]
        },
        {
         "name": "实际交付时间(范旭宁)",
         "type": "bar",
<<<<<<< HEAD
         "uid": "3f4124a6-d028-11e8-8ddb-a41f72875c19",
=======
         "uid": "b179d3e2-d016-11e8-8ddb-a41f72875c19",
>>>>>>> 2645079b727ccf7005842fd856e6ec984f2ff004
         "x": [
          "8月3周",
          "9月1周",
          "9月2周",
          "9月3周",
          "9月4周",
          "10月2周"
         ],
         "y": [
          null,
          null,
          null,
          1,
          null,
          null
         ]
        },
        {
         "name": "实际交付时间(于慧)",
         "type": "bar",
<<<<<<< HEAD
         "uid": "3f4124a7-d028-11e8-8ddb-a41f72875c19",
=======
         "uid": "b179d3e3-d016-11e8-8ddb-a41f72875c19",
>>>>>>> 2645079b727ccf7005842fd856e6ec984f2ff004
         "x": [
          "8月3周",
          "9月1周",
          "9月2周",
          "9月3周",
          "9月4周",
          "10月2周"
         ],
         "y": [
          null,
          null,
          1,
          null,
          1,
          2
         ]
        },
        {
         "name": "实际交付时间(高剑)",
         "type": "bar",
<<<<<<< HEAD
         "uid": "3f4124a8-d028-11e8-8ddb-a41f72875c19",
=======
         "uid": "b179d3e4-d016-11e8-8ddb-a41f72875c19",
>>>>>>> 2645079b727ccf7005842fd856e6ec984f2ff004
         "x": [
          "8月3周",
          "9月1周",
          "9月2周",
          "9月3周",
          "9月4周",
          "10月2周"
         ],
         "y": [
          null,
          null,
          1,
          null,
          null,
          null
         ]
        },
        {
         "name": "实际交付时间(于勇一)",
         "type": "bar",
<<<<<<< HEAD
         "uid": "3f4124a9-d028-11e8-8ddb-a41f72875c19",
=======
         "uid": "b179d3e5-d016-11e8-8ddb-a41f72875c19",
>>>>>>> 2645079b727ccf7005842fd856e6ec984f2ff004
         "x": [
          "8月3周",
          "9月1周",
          "9月2周",
          "9月3周",
          "9月4周",
          "10月2周"
         ],
         "y": [
          null,
          null,
          null,
          null,
          1,
          null
         ]
        },
        {
         "name": "实际交付时间(解飞)",
         "type": "bar",
         "uid": "3f4124aa-d028-11e8-8ddb-a41f72875c19",
         "x": [
          "8月3周",
          "9月1周",
          "9月2周",
          "9月3周",
          "9月4周",
          "10月2周"
         ],
         "y": [
          null,
          null,
          null,
          null,
          null,
          1
         ]
        },
        {
         "name": "实际交付时间(刘梦苑)",
         "type": "bar",
<<<<<<< HEAD
         "uid": "3f4124ab-d028-11e8-8ddb-a41f72875c19",
=======
         "uid": "b179d3e6-d016-11e8-8ddb-a41f72875c19",
>>>>>>> 2645079b727ccf7005842fd856e6ec984f2ff004
         "x": [
          "8月3周",
          "9月1周",
          "9月2周",
          "9月3周",
          "9月4周",
          "10月2周"
         ],
         "y": [
          null,
          1,
          1,
          2,
          2,
          3
         ]
        },
        {
         "name": "实际交付时间(陈碧雯)",
         "type": "bar",
<<<<<<< HEAD
         "uid": "3f4124ac-d028-11e8-8ddb-a41f72875c19",
=======
         "uid": "b179d3e7-d016-11e8-8ddb-a41f72875c19",
>>>>>>> 2645079b727ccf7005842fd856e6ec984f2ff004
         "x": [
          "8月3周",
          "9月1周",
          "9月2周",
          "9月3周",
          "9月4周",
          "10月2周"
         ],
         "y": [
          null,
          null,
          4,
          3,
          1,
          2
         ]
        },
        {
         "name": "实际交付时间(冯敬岩)",
         "type": "bar",
<<<<<<< HEAD
         "uid": "3f4124ad-d028-11e8-8ddb-a41f72875c19",
=======
         "uid": "b179d3e8-d016-11e8-8ddb-a41f72875c19",
>>>>>>> 2645079b727ccf7005842fd856e6ec984f2ff004
         "x": [
          "8月3周",
          "9月1周",
          "9月2周",
          "9月3周",
          "9月4周",
          "10月2周"
         ],
         "y": [
          null,
          2,
          1,
          1,
          5,
          4
         ]
        },
        {
         "name": "实际交付时间(冷雪)",
         "type": "bar",
<<<<<<< HEAD
         "uid": "3f4124ae-d028-11e8-8ddb-a41f72875c19",
=======
         "uid": "b179d3e9-d016-11e8-8ddb-a41f72875c19",
>>>>>>> 2645079b727ccf7005842fd856e6ec984f2ff004
         "x": [
          "8月3周",
          "9月1周",
          "9月2周",
          "9月3周",
          "9月4周",
          "10月2周"
         ],
         "y": [
          1,
          1,
          1,
          null,
          3,
          null
         ]
        },
        {
         "name": "实际交付时间(沈恩惠)",
         "type": "bar",
<<<<<<< HEAD
         "uid": "3f4124af-d028-11e8-8ddb-a41f72875c19",
=======
         "uid": "b179d3ea-d016-11e8-8ddb-a41f72875c19",
>>>>>>> 2645079b727ccf7005842fd856e6ec984f2ff004
         "x": [
          "8月3周",
          "9月1周",
          "9月2周",
          "9月3周",
          "9月4周",
          "10月2周"
         ],
         "y": [
          null,
          null,
          1,
          null,
          1,
          1
         ]
        },
        {
         "name": "实际交付时间(昶吉阳)",
         "type": "bar",
<<<<<<< HEAD
         "uid": "3f4124b0-d028-11e8-8ddb-a41f72875c19",
=======
         "uid": "b179d3eb-d016-11e8-8ddb-a41f72875c19",
>>>>>>> 2645079b727ccf7005842fd856e6ec984f2ff004
         "x": [
          "8月3周",
          "9月1周",
          "9月2周",
          "9月3周",
          "9月4周",
          "10月2周"
         ],
         "y": [
          null,
          1,
          null,
          2,
          null,
          2
         ]
        },
        {
         "name": "实际交付时间(何胜)",
         "type": "bar",
<<<<<<< HEAD
         "uid": "3f4124b1-d028-11e8-8ddb-a41f72875c19",
=======
         "uid": "b179d3ec-d016-11e8-8ddb-a41f72875c19",
>>>>>>> 2645079b727ccf7005842fd856e6ec984f2ff004
         "x": [
          "8月3周",
          "9月1周",
          "9月2周",
          "9月3周",
          "9月4周",
          "10月2周"
         ],
         "y": [
          null,
          2,
          3,
          2,
          3,
          2
         ]
        },
        {
         "name": "实际交付时间(占伟)",
         "type": "bar",
<<<<<<< HEAD
         "uid": "3f4124b2-d028-11e8-8ddb-a41f72875c19",
=======
         "uid": "b179d3ed-d016-11e8-8ddb-a41f72875c19",
>>>>>>> 2645079b727ccf7005842fd856e6ec984f2ff004
         "x": [
          "8月3周",
          "9月1周",
          "9月2周",
          "9月3周",
          "9月4周",
          "10月2周"
         ],
         "y": [
          null,
          null,
          null,
          1,
          1,
          null
         ]
        },
        {
         "name": "实际交付时间(宋少宇)",
         "type": "bar",
<<<<<<< HEAD
         "uid": "3f4124b3-d028-11e8-8ddb-a41f72875c19",
=======
         "uid": "b179d3ee-d016-11e8-8ddb-a41f72875c19",
>>>>>>> 2645079b727ccf7005842fd856e6ec984f2ff004
         "x": [
          "8月3周",
          "9月1周",
          "9月2周",
          "9月3周",
          "9月4周",
          "10月2周"
         ],
         "y": [
          null,
          1,
          null,
          null,
          null,
          null
         ]
        },
        {
         "name": "实际交付时间(刘江)",
         "type": "bar",
<<<<<<< HEAD
         "uid": "3f4124b4-d028-11e8-8ddb-a41f72875c19",
=======
         "uid": "b179d3ef-d016-11e8-8ddb-a41f72875c19",
>>>>>>> 2645079b727ccf7005842fd856e6ec984f2ff004
         "x": [
          "8月3周",
          "9月1周",
          "9月2周",
          "9月3周",
          "9月4周",
          "10月2周"
         ],
         "y": [
          null,
          null,
          2,
          1,
          null,
          null
         ]
        },
        {
         "name": "实际交付时间(杨伟飞)",
         "type": "bar",
<<<<<<< HEAD
         "uid": "3f4124b5-d028-11e8-8ddb-a41f72875c19",
=======
         "uid": "b179d3f0-d016-11e8-8ddb-a41f72875c19",
>>>>>>> 2645079b727ccf7005842fd856e6ec984f2ff004
         "x": [
          "8月3周",
          "9月1周",
          "9月2周",
          "9月3周",
          "9月4周",
          "10月2周"
         ],
         "y": [
          null,
          1,
          2,
          null,
          null,
          null
         ]
        },
        {
         "name": "实际交付时间(赵倩)",
         "type": "bar",
<<<<<<< HEAD
         "uid": "3f4124b6-d028-11e8-8ddb-a41f72875c19",
=======
         "uid": "b179d3f1-d016-11e8-8ddb-a41f72875c19",
>>>>>>> 2645079b727ccf7005842fd856e6ec984f2ff004
         "x": [
          "8月3周",
          "9月1周",
          "9月2周",
          "9月3周",
          "9月4周",
          "10月2周"
         ],
         "y": [
          null,
          1,
          4,
          5,
          7,
          3
         ]
        }
       ],
       "layout": {
        "barmode": "stack",
        "title": "实际交付时间周趋势图",
        "xaxis": {
         "mirror": "all",
         "nticks": 20,
         "showgrid": true,
         "showline": true,
         "title": "周",
         "zeroline": true
        },
        "yaxis": {
         "mirror": "all",
         "nticks": 20,
         "showgrid": true,
         "showline": true,
         "title": "实际交付时间",
         "zeroline": true
        }
       }
      },
      "text/html": [
<<<<<<< HEAD
       "<div id=\"03e72145-0801-4680-ac29-741240cec4b0\" style=\"height: 525px; width: 100%;\" class=\"plotly-graph-div\"></div><script type=\"text/javascript\">require([\"plotly\"], function(Plotly) { window.PLOTLYENV=window.PLOTLYENV || {};window.PLOTLYENV.BASE_URL=\"https://plot.ly\";Plotly.newPlot(\"03e72145-0801-4680-ac29-741240cec4b0\", [{\"name\": \"\\u5b9e\\u9645\\u4ea4\\u4ed8\\u65f6\\u95f4(\\u9a6c\\u6f47)\", \"x\": [\"8\\u67083\\u5468\", \"9\\u67081\\u5468\", \"9\\u67082\\u5468\", \"9\\u67083\\u5468\", \"9\\u67084\\u5468\", \"10\\u67082\\u5468\"], \"y\": [null, null, 2.0, 2.0, 2.0, null], \"type\": \"bar\", \"uid\": \"3f412496-d028-11e8-8ddb-a41f72875c19\"}, {\"name\": \"\\u5b9e\\u9645\\u4ea4\\u4ed8\\u65f6\\u95f4(\\u97e9\\u5c11\\u6000)\", \"x\": [\"8\\u67083\\u5468\", \"9\\u67081\\u5468\", \"9\\u67082\\u5468\", \"9\\u67083\\u5468\", \"9\\u67084\\u5468\", \"10\\u67082\\u5468\"], \"y\": [null, null, null, null, 2.0, 1.0], \"type\": \"bar\", \"uid\": \"3f412497-d028-11e8-8ddb-a41f72875c19\"}, {\"name\": \"\\u5b9e\\u9645\\u4ea4\\u4ed8\\u65f6\\u95f4(\\u59da\\u76df\\u6210)\", \"x\": [\"8\\u67083\\u5468\", \"9\\u67081\\u5468\", \"9\\u67082\\u5468\", \"9\\u67083\\u5468\", \"9\\u67084\\u5468\", \"10\\u67082\\u5468\"], \"y\": [null, null, 1.0, null, null, 1.0], \"type\": \"bar\", \"uid\": \"3f412498-d028-11e8-8ddb-a41f72875c19\"}, {\"name\": \"\\u5b9e\\u9645\\u4ea4\\u4ed8\\u65f6\\u95f4(\\u5218\\u6c38\\u5f3a)\", \"x\": [\"8\\u67083\\u5468\", \"9\\u67081\\u5468\", \"9\\u67082\\u5468\", \"9\\u67083\\u5468\", \"9\\u67084\\u5468\", \"10\\u67082\\u5468\"], \"y\": [null, 1.0, null, null, null, 1.0], \"type\": \"bar\", \"uid\": \"3f412499-d028-11e8-8ddb-a41f72875c19\"}, {\"name\": \"\\u5b9e\\u9645\\u4ea4\\u4ed8\\u65f6\\u95f4(\\u6731\\u6167\\u840d)\", \"x\": [\"8\\u67083\\u5468\", \"9\\u67081\\u5468\", \"9\\u67082\\u5468\", \"9\\u67083\\u5468\", \"9\\u67084\\u5468\", \"10\\u67082\\u5468\"], \"y\": [null, 2.0, 5.0, 4.0, 3.0, 2.0], \"type\": \"bar\", \"uid\": \"3f41249a-d028-11e8-8ddb-a41f72875c19\"}, {\"name\": \"\\u5b9e\\u9645\\u4ea4\\u4ed8\\u65f6\\u95f4(\\u6797\\u6587\\u6587)\", \"x\": [\"8\\u67083\\u5468\", \"9\\u67081\\u5468\", \"9\\u67082\\u5468\", \"9\\u67083\\u5468\", \"9\\u67084\\u5468\", \"10\\u67082\\u5468\"], \"y\": [null, null, null, 1.0, 1.0, null], \"type\": \"bar\", \"uid\": \"3f41249b-d028-11e8-8ddb-a41f72875c19\"}, {\"name\": \"\\u5b9e\\u9645\\u4ea4\\u4ed8\\u65f6\\u95f4(\\u8f66\\u5929\\u680b)\", \"x\": [\"8\\u67083\\u5468\", \"9\\u67081\\u5468\", \"9\\u67082\\u5468\", \"9\\u67083\\u5468\", \"9\\u67084\\u5468\", \"10\\u67082\\u5468\"], \"y\": [null, null, 1.0, null, 1.0, null], \"type\": \"bar\", \"uid\": \"3f41249c-d028-11e8-8ddb-a41f72875c19\"}, {\"name\": \"\\u5b9e\\u9645\\u4ea4\\u4ed8\\u65f6\\u95f4(\\u6c88\\u7acb\\u7fa4)\", \"x\": [\"8\\u67083\\u5468\", \"9\\u67081\\u5468\", \"9\\u67082\\u5468\", \"9\\u67083\\u5468\", \"9\\u67084\\u5468\", \"10\\u67082\\u5468\"], \"y\": [null, null, null, null, 1.0, null], \"type\": \"bar\", \"uid\": \"3f41249d-d028-11e8-8ddb-a41f72875c19\"}, {\"name\": \"\\u5b9e\\u9645\\u4ea4\\u4ed8\\u65f6\\u95f4(\\u6bb5\\u5229\\u5f3a)\", \"x\": [\"8\\u67083\\u5468\", \"9\\u67081\\u5468\", \"9\\u67082\\u5468\", \"9\\u67083\\u5468\", \"9\\u67084\\u5468\", \"10\\u67082\\u5468\"], \"y\": [null, null, 1.0, 5.0, null, null], \"type\": \"bar\", \"uid\": \"3f41249e-d028-11e8-8ddb-a41f72875c19\"}, {\"name\": \"\\u5b9e\\u9645\\u4ea4\\u4ed8\\u65f6\\u95f4(\\u9648\\u9e4f\\u71d5)\", \"x\": [\"8\\u67083\\u5468\", \"9\\u67081\\u5468\", \"9\\u67082\\u5468\", \"9\\u67083\\u5468\", \"9\\u67084\\u5468\", \"10\\u67082\\u5468\"], \"y\": [null, 1.0, 2.0, 4.0, 4.0, null], \"type\": \"bar\", \"uid\": \"3f41249f-d028-11e8-8ddb-a41f72875c19\"}, {\"name\": \"\\u5b9e\\u9645\\u4ea4\\u4ed8\\u65f6\\u95f4(\\u95fb\\u5c11\\u6960)\", \"x\": [\"8\\u67083\\u5468\", \"9\\u67081\\u5468\", \"9\\u67082\\u5468\", \"9\\u67083\\u5468\", \"9\\u67084\\u5468\", \"10\\u67082\\u5468\"], \"y\": [null, null, null, 2.0, 2.0, 2.0], \"type\": \"bar\", \"uid\": \"3f4124a0-d028-11e8-8ddb-a41f72875c19\"}, {\"name\": \"\\u5b9e\\u9645\\u4ea4\\u4ed8\\u65f6\\u95f4(\\u6768\\u5b87)\", \"x\": [\"8\\u67083\\u5468\", \"9\\u67081\\u5468\", \"9\\u67082\\u5468\", \"9\\u67083\\u5468\", \"9\\u67084\\u5468\", \"10\\u67082\\u5468\"], \"y\": [null, null, 1.0, 7.0, null, 1.0], \"type\": \"bar\", \"uid\": \"3f4124a1-d028-11e8-8ddb-a41f72875c19\"}, {\"name\": \"\\u5b9e\\u9645\\u4ea4\\u4ed8\\u65f6\\u95f4(\\u5c48\\u6602)\", \"x\": [\"8\\u67083\\u5468\", \"9\\u67081\\u5468\", \"9\\u67082\\u5468\", \"9\\u67083\\u5468\", \"9\\u67084\\u5468\", \"10\\u67082\\u5468\"], \"y\": [null, 1.0, null, null, 1.0, null], \"type\": \"bar\", \"uid\": \"3f4124a2-d028-11e8-8ddb-a41f72875c19\"}, {\"name\": \"\\u5b9e\\u9645\\u4ea4\\u4ed8\\u65f6\\u95f4(\\u738b\\u4f20\\u6587)\", \"x\": [\"8\\u67083\\u5468\", \"9\\u67081\\u5468\", \"9\\u67082\\u5468\", \"9\\u67083\\u5468\", \"9\\u67084\\u5468\", \"10\\u67082\\u5468\"], \"y\": [null, null, null, 1.0, null, 2.0], \"type\": \"bar\", \"uid\": \"3f4124a3-d028-11e8-8ddb-a41f72875c19\"}, {\"name\": \"\\u5b9e\\u9645\\u4ea4\\u4ed8\\u65f6\\u95f4(\\u674e\\u534e\\u4e91)\", \"x\": [\"8\\u67083\\u5468\", \"9\\u67081\\u5468\", \"9\\u67082\\u5468\", \"9\\u67083\\u5468\", \"9\\u67084\\u5468\", \"10\\u67082\\u5468\"], \"y\": [null, null, null, 1.0, 1.0, null], \"type\": \"bar\", \"uid\": \"3f4124a4-d028-11e8-8ddb-a41f72875c19\"}, {\"name\": \"\\u5b9e\\u9645\\u4ea4\\u4ed8\\u65f6\\u95f4(\\u738b\\u971e)\", \"x\": [\"8\\u67083\\u5468\", \"9\\u67081\\u5468\", \"9\\u67082\\u5468\", \"9\\u67083\\u5468\", \"9\\u67084\\u5468\", \"10\\u67082\\u5468\"], \"y\": [null, 2.0, 1.0, 2.0, 2.0, 2.0], \"type\": \"bar\", \"uid\": \"3f4124a5-d028-11e8-8ddb-a41f72875c19\"}, {\"name\": \"\\u5b9e\\u9645\\u4ea4\\u4ed8\\u65f6\\u95f4(\\u8303\\u65ed\\u5b81)\", \"x\": [\"8\\u67083\\u5468\", \"9\\u67081\\u5468\", \"9\\u67082\\u5468\", \"9\\u67083\\u5468\", \"9\\u67084\\u5468\", \"10\\u67082\\u5468\"], \"y\": [null, null, null, 1.0, null, null], \"type\": \"bar\", \"uid\": \"3f4124a6-d028-11e8-8ddb-a41f72875c19\"}, {\"name\": \"\\u5b9e\\u9645\\u4ea4\\u4ed8\\u65f6\\u95f4(\\u4e8e\\u6167)\", \"x\": [\"8\\u67083\\u5468\", \"9\\u67081\\u5468\", \"9\\u67082\\u5468\", \"9\\u67083\\u5468\", \"9\\u67084\\u5468\", \"10\\u67082\\u5468\"], \"y\": [null, null, 1.0, null, 1.0, 2.0], \"type\": \"bar\", \"uid\": \"3f4124a7-d028-11e8-8ddb-a41f72875c19\"}, {\"name\": \"\\u5b9e\\u9645\\u4ea4\\u4ed8\\u65f6\\u95f4(\\u9ad8\\u5251)\", \"x\": [\"8\\u67083\\u5468\", \"9\\u67081\\u5468\", \"9\\u67082\\u5468\", \"9\\u67083\\u5468\", \"9\\u67084\\u5468\", \"10\\u67082\\u5468\"], \"y\": [null, null, 1.0, null, null, null], \"type\": \"bar\", \"uid\": \"3f4124a8-d028-11e8-8ddb-a41f72875c19\"}, {\"name\": \"\\u5b9e\\u9645\\u4ea4\\u4ed8\\u65f6\\u95f4(\\u4e8e\\u52c7\\u4e00)\", \"x\": [\"8\\u67083\\u5468\", \"9\\u67081\\u5468\", \"9\\u67082\\u5468\", \"9\\u67083\\u5468\", \"9\\u67084\\u5468\", \"10\\u67082\\u5468\"], \"y\": [null, null, null, null, 1.0, null], \"type\": \"bar\", \"uid\": \"3f4124a9-d028-11e8-8ddb-a41f72875c19\"}, {\"name\": \"\\u5b9e\\u9645\\u4ea4\\u4ed8\\u65f6\\u95f4(\\u89e3\\u98de)\", \"x\": [\"8\\u67083\\u5468\", \"9\\u67081\\u5468\", \"9\\u67082\\u5468\", \"9\\u67083\\u5468\", \"9\\u67084\\u5468\", \"10\\u67082\\u5468\"], \"y\": [null, null, null, null, null, 1.0], \"type\": \"bar\", \"uid\": \"3f4124aa-d028-11e8-8ddb-a41f72875c19\"}, {\"name\": \"\\u5b9e\\u9645\\u4ea4\\u4ed8\\u65f6\\u95f4(\\u5218\\u68a6\\u82d1)\", \"x\": [\"8\\u67083\\u5468\", \"9\\u67081\\u5468\", \"9\\u67082\\u5468\", \"9\\u67083\\u5468\", \"9\\u67084\\u5468\", \"10\\u67082\\u5468\"], \"y\": [null, 1.0, 1.0, 2.0, 2.0, 3.0], \"type\": \"bar\", \"uid\": \"3f4124ab-d028-11e8-8ddb-a41f72875c19\"}, {\"name\": \"\\u5b9e\\u9645\\u4ea4\\u4ed8\\u65f6\\u95f4(\\u9648\\u78a7\\u96ef)\", \"x\": [\"8\\u67083\\u5468\", \"9\\u67081\\u5468\", \"9\\u67082\\u5468\", \"9\\u67083\\u5468\", \"9\\u67084\\u5468\", \"10\\u67082\\u5468\"], \"y\": [null, null, 4.0, 3.0, 1.0, 2.0], \"type\": \"bar\", \"uid\": \"3f4124ac-d028-11e8-8ddb-a41f72875c19\"}, {\"name\": \"\\u5b9e\\u9645\\u4ea4\\u4ed8\\u65f6\\u95f4(\\u51af\\u656c\\u5ca9)\", \"x\": [\"8\\u67083\\u5468\", \"9\\u67081\\u5468\", \"9\\u67082\\u5468\", \"9\\u67083\\u5468\", \"9\\u67084\\u5468\", \"10\\u67082\\u5468\"], \"y\": [null, 2.0, 1.0, 1.0, 5.0, 4.0], \"type\": \"bar\", \"uid\": \"3f4124ad-d028-11e8-8ddb-a41f72875c19\"}, {\"name\": \"\\u5b9e\\u9645\\u4ea4\\u4ed8\\u65f6\\u95f4(\\u51b7\\u96ea)\", \"x\": [\"8\\u67083\\u5468\", \"9\\u67081\\u5468\", \"9\\u67082\\u5468\", \"9\\u67083\\u5468\", \"9\\u67084\\u5468\", \"10\\u67082\\u5468\"], \"y\": [1.0, 1.0, 1.0, null, 3.0, null], \"type\": \"bar\", \"uid\": \"3f4124ae-d028-11e8-8ddb-a41f72875c19\"}, {\"name\": \"\\u5b9e\\u9645\\u4ea4\\u4ed8\\u65f6\\u95f4(\\u6c88\\u6069\\u60e0)\", \"x\": [\"8\\u67083\\u5468\", \"9\\u67081\\u5468\", \"9\\u67082\\u5468\", \"9\\u67083\\u5468\", \"9\\u67084\\u5468\", \"10\\u67082\\u5468\"], \"y\": [null, null, 1.0, null, 1.0, 1.0], \"type\": \"bar\", \"uid\": \"3f4124af-d028-11e8-8ddb-a41f72875c19\"}, {\"name\": \"\\u5b9e\\u9645\\u4ea4\\u4ed8\\u65f6\\u95f4(\\u6636\\u5409\\u9633)\", \"x\": [\"8\\u67083\\u5468\", \"9\\u67081\\u5468\", \"9\\u67082\\u5468\", \"9\\u67083\\u5468\", \"9\\u67084\\u5468\", \"10\\u67082\\u5468\"], \"y\": [null, 1.0, null, 2.0, null, 2.0], \"type\": \"bar\", \"uid\": \"3f4124b0-d028-11e8-8ddb-a41f72875c19\"}, {\"name\": \"\\u5b9e\\u9645\\u4ea4\\u4ed8\\u65f6\\u95f4(\\u4f55\\u80dc)\", \"x\": [\"8\\u67083\\u5468\", \"9\\u67081\\u5468\", \"9\\u67082\\u5468\", \"9\\u67083\\u5468\", \"9\\u67084\\u5468\", \"10\\u67082\\u5468\"], \"y\": [null, 2.0, 3.0, 2.0, 3.0, 2.0], \"type\": \"bar\", \"uid\": \"3f4124b1-d028-11e8-8ddb-a41f72875c19\"}, {\"name\": \"\\u5b9e\\u9645\\u4ea4\\u4ed8\\u65f6\\u95f4(\\u5360\\u4f1f)\", \"x\": [\"8\\u67083\\u5468\", \"9\\u67081\\u5468\", \"9\\u67082\\u5468\", \"9\\u67083\\u5468\", \"9\\u67084\\u5468\", \"10\\u67082\\u5468\"], \"y\": [null, null, null, 1.0, 1.0, null], \"type\": \"bar\", \"uid\": \"3f4124b2-d028-11e8-8ddb-a41f72875c19\"}, {\"name\": \"\\u5b9e\\u9645\\u4ea4\\u4ed8\\u65f6\\u95f4(\\u5b8b\\u5c11\\u5b87)\", \"x\": [\"8\\u67083\\u5468\", \"9\\u67081\\u5468\", \"9\\u67082\\u5468\", \"9\\u67083\\u5468\", \"9\\u67084\\u5468\", \"10\\u67082\\u5468\"], \"y\": [null, 1.0, null, null, null, null], \"type\": \"bar\", \"uid\": \"3f4124b3-d028-11e8-8ddb-a41f72875c19\"}, {\"name\": \"\\u5b9e\\u9645\\u4ea4\\u4ed8\\u65f6\\u95f4(\\u5218\\u6c5f)\", \"x\": [\"8\\u67083\\u5468\", \"9\\u67081\\u5468\", \"9\\u67082\\u5468\", \"9\\u67083\\u5468\", \"9\\u67084\\u5468\", \"10\\u67082\\u5468\"], \"y\": [null, null, 2.0, 1.0, null, null], \"type\": \"bar\", \"uid\": \"3f4124b4-d028-11e8-8ddb-a41f72875c19\"}, {\"name\": \"\\u5b9e\\u9645\\u4ea4\\u4ed8\\u65f6\\u95f4(\\u6768\\u4f1f\\u98de)\", \"x\": [\"8\\u67083\\u5468\", \"9\\u67081\\u5468\", \"9\\u67082\\u5468\", \"9\\u67083\\u5468\", \"9\\u67084\\u5468\", \"10\\u67082\\u5468\"], \"y\": [null, 1.0, 2.0, null, null, null], \"type\": \"bar\", \"uid\": \"3f4124b5-d028-11e8-8ddb-a41f72875c19\"}, {\"name\": \"\\u5b9e\\u9645\\u4ea4\\u4ed8\\u65f6\\u95f4(\\u8d75\\u5029)\", \"x\": [\"8\\u67083\\u5468\", \"9\\u67081\\u5468\", \"9\\u67082\\u5468\", \"9\\u67083\\u5468\", \"9\\u67084\\u5468\", \"10\\u67082\\u5468\"], \"y\": [null, 1.0, 4.0, 5.0, 7.0, 3.0], \"type\": \"bar\", \"uid\": \"3f4124b6-d028-11e8-8ddb-a41f72875c19\"}], {\"barmode\": \"stack\", \"title\": \"\\u5b9e\\u9645\\u4ea4\\u4ed8\\u65f6\\u95f4\\u5468\\u8d8b\\u52bf\\u56fe\", \"xaxis\": {\"mirror\": \"all\", \"nticks\": 20, \"showgrid\": true, \"showline\": true, \"title\": \"\\u5468\", \"zeroline\": true}, \"yaxis\": {\"mirror\": \"all\", \"nticks\": 20, \"showgrid\": true, \"showline\": true, \"title\": \"\\u5b9e\\u9645\\u4ea4\\u4ed8\\u65f6\\u95f4\", \"zeroline\": true}}, {\"showLink\": true, \"linkText\": \"Export to plot.ly\"})});</script>"
      ],
      "text/vnd.plotly.v1+html": [
       "<div id=\"03e72145-0801-4680-ac29-741240cec4b0\" style=\"height: 525px; width: 100%;\" class=\"plotly-graph-div\"></div><script type=\"text/javascript\">require([\"plotly\"], function(Plotly) { window.PLOTLYENV=window.PLOTLYENV || {};window.PLOTLYENV.BASE_URL=\"https://plot.ly\";Plotly.newPlot(\"03e72145-0801-4680-ac29-741240cec4b0\", [{\"name\": \"\\u5b9e\\u9645\\u4ea4\\u4ed8\\u65f6\\u95f4(\\u9a6c\\u6f47)\", \"x\": [\"8\\u67083\\u5468\", \"9\\u67081\\u5468\", \"9\\u67082\\u5468\", \"9\\u67083\\u5468\", \"9\\u67084\\u5468\", \"10\\u67082\\u5468\"], \"y\": [null, null, 2.0, 2.0, 2.0, null], \"type\": \"bar\", \"uid\": \"3f412496-d028-11e8-8ddb-a41f72875c19\"}, {\"name\": \"\\u5b9e\\u9645\\u4ea4\\u4ed8\\u65f6\\u95f4(\\u97e9\\u5c11\\u6000)\", \"x\": [\"8\\u67083\\u5468\", \"9\\u67081\\u5468\", \"9\\u67082\\u5468\", \"9\\u67083\\u5468\", \"9\\u67084\\u5468\", \"10\\u67082\\u5468\"], \"y\": [null, null, null, null, 2.0, 1.0], \"type\": \"bar\", \"uid\": \"3f412497-d028-11e8-8ddb-a41f72875c19\"}, {\"name\": \"\\u5b9e\\u9645\\u4ea4\\u4ed8\\u65f6\\u95f4(\\u59da\\u76df\\u6210)\", \"x\": [\"8\\u67083\\u5468\", \"9\\u67081\\u5468\", \"9\\u67082\\u5468\", \"9\\u67083\\u5468\", \"9\\u67084\\u5468\", \"10\\u67082\\u5468\"], \"y\": [null, null, 1.0, null, null, 1.0], \"type\": \"bar\", \"uid\": \"3f412498-d028-11e8-8ddb-a41f72875c19\"}, {\"name\": \"\\u5b9e\\u9645\\u4ea4\\u4ed8\\u65f6\\u95f4(\\u5218\\u6c38\\u5f3a)\", \"x\": [\"8\\u67083\\u5468\", \"9\\u67081\\u5468\", \"9\\u67082\\u5468\", \"9\\u67083\\u5468\", \"9\\u67084\\u5468\", \"10\\u67082\\u5468\"], \"y\": [null, 1.0, null, null, null, 1.0], \"type\": \"bar\", \"uid\": \"3f412499-d028-11e8-8ddb-a41f72875c19\"}, {\"name\": \"\\u5b9e\\u9645\\u4ea4\\u4ed8\\u65f6\\u95f4(\\u6731\\u6167\\u840d)\", \"x\": [\"8\\u67083\\u5468\", \"9\\u67081\\u5468\", \"9\\u67082\\u5468\", \"9\\u67083\\u5468\", \"9\\u67084\\u5468\", \"10\\u67082\\u5468\"], \"y\": [null, 2.0, 5.0, 4.0, 3.0, 2.0], \"type\": \"bar\", \"uid\": \"3f41249a-d028-11e8-8ddb-a41f72875c19\"}, {\"name\": \"\\u5b9e\\u9645\\u4ea4\\u4ed8\\u65f6\\u95f4(\\u6797\\u6587\\u6587)\", \"x\": [\"8\\u67083\\u5468\", \"9\\u67081\\u5468\", \"9\\u67082\\u5468\", \"9\\u67083\\u5468\", \"9\\u67084\\u5468\", \"10\\u67082\\u5468\"], \"y\": [null, null, null, 1.0, 1.0, null], \"type\": \"bar\", \"uid\": \"3f41249b-d028-11e8-8ddb-a41f72875c19\"}, {\"name\": \"\\u5b9e\\u9645\\u4ea4\\u4ed8\\u65f6\\u95f4(\\u8f66\\u5929\\u680b)\", \"x\": [\"8\\u67083\\u5468\", \"9\\u67081\\u5468\", \"9\\u67082\\u5468\", \"9\\u67083\\u5468\", \"9\\u67084\\u5468\", \"10\\u67082\\u5468\"], \"y\": [null, null, 1.0, null, 1.0, null], \"type\": \"bar\", \"uid\": \"3f41249c-d028-11e8-8ddb-a41f72875c19\"}, {\"name\": \"\\u5b9e\\u9645\\u4ea4\\u4ed8\\u65f6\\u95f4(\\u6c88\\u7acb\\u7fa4)\", \"x\": [\"8\\u67083\\u5468\", \"9\\u67081\\u5468\", \"9\\u67082\\u5468\", \"9\\u67083\\u5468\", \"9\\u67084\\u5468\", \"10\\u67082\\u5468\"], \"y\": [null, null, null, null, 1.0, null], \"type\": \"bar\", \"uid\": \"3f41249d-d028-11e8-8ddb-a41f72875c19\"}, {\"name\": \"\\u5b9e\\u9645\\u4ea4\\u4ed8\\u65f6\\u95f4(\\u6bb5\\u5229\\u5f3a)\", \"x\": [\"8\\u67083\\u5468\", \"9\\u67081\\u5468\", \"9\\u67082\\u5468\", \"9\\u67083\\u5468\", \"9\\u67084\\u5468\", \"10\\u67082\\u5468\"], \"y\": [null, null, 1.0, 5.0, null, null], \"type\": \"bar\", \"uid\": \"3f41249e-d028-11e8-8ddb-a41f72875c19\"}, {\"name\": \"\\u5b9e\\u9645\\u4ea4\\u4ed8\\u65f6\\u95f4(\\u9648\\u9e4f\\u71d5)\", \"x\": [\"8\\u67083\\u5468\", \"9\\u67081\\u5468\", \"9\\u67082\\u5468\", \"9\\u67083\\u5468\", \"9\\u67084\\u5468\", \"10\\u67082\\u5468\"], \"y\": [null, 1.0, 2.0, 4.0, 4.0, null], \"type\": \"bar\", \"uid\": \"3f41249f-d028-11e8-8ddb-a41f72875c19\"}, {\"name\": \"\\u5b9e\\u9645\\u4ea4\\u4ed8\\u65f6\\u95f4(\\u95fb\\u5c11\\u6960)\", \"x\": [\"8\\u67083\\u5468\", \"9\\u67081\\u5468\", \"9\\u67082\\u5468\", \"9\\u67083\\u5468\", \"9\\u67084\\u5468\", \"10\\u67082\\u5468\"], \"y\": [null, null, null, 2.0, 2.0, 2.0], \"type\": \"bar\", \"uid\": \"3f4124a0-d028-11e8-8ddb-a41f72875c19\"}, {\"name\": \"\\u5b9e\\u9645\\u4ea4\\u4ed8\\u65f6\\u95f4(\\u6768\\u5b87)\", \"x\": [\"8\\u67083\\u5468\", \"9\\u67081\\u5468\", \"9\\u67082\\u5468\", \"9\\u67083\\u5468\", \"9\\u67084\\u5468\", \"10\\u67082\\u5468\"], \"y\": [null, null, 1.0, 7.0, null, 1.0], \"type\": \"bar\", \"uid\": \"3f4124a1-d028-11e8-8ddb-a41f72875c19\"}, {\"name\": \"\\u5b9e\\u9645\\u4ea4\\u4ed8\\u65f6\\u95f4(\\u5c48\\u6602)\", \"x\": [\"8\\u67083\\u5468\", \"9\\u67081\\u5468\", \"9\\u67082\\u5468\", \"9\\u67083\\u5468\", \"9\\u67084\\u5468\", \"10\\u67082\\u5468\"], \"y\": [null, 1.0, null, null, 1.0, null], \"type\": \"bar\", \"uid\": \"3f4124a2-d028-11e8-8ddb-a41f72875c19\"}, {\"name\": \"\\u5b9e\\u9645\\u4ea4\\u4ed8\\u65f6\\u95f4(\\u738b\\u4f20\\u6587)\", \"x\": [\"8\\u67083\\u5468\", \"9\\u67081\\u5468\", \"9\\u67082\\u5468\", \"9\\u67083\\u5468\", \"9\\u67084\\u5468\", \"10\\u67082\\u5468\"], \"y\": [null, null, null, 1.0, null, 2.0], \"type\": \"bar\", \"uid\": \"3f4124a3-d028-11e8-8ddb-a41f72875c19\"}, {\"name\": \"\\u5b9e\\u9645\\u4ea4\\u4ed8\\u65f6\\u95f4(\\u674e\\u534e\\u4e91)\", \"x\": [\"8\\u67083\\u5468\", \"9\\u67081\\u5468\", \"9\\u67082\\u5468\", \"9\\u67083\\u5468\", \"9\\u67084\\u5468\", \"10\\u67082\\u5468\"], \"y\": [null, null, null, 1.0, 1.0, null], \"type\": \"bar\", \"uid\": \"3f4124a4-d028-11e8-8ddb-a41f72875c19\"}, {\"name\": \"\\u5b9e\\u9645\\u4ea4\\u4ed8\\u65f6\\u95f4(\\u738b\\u971e)\", \"x\": [\"8\\u67083\\u5468\", \"9\\u67081\\u5468\", \"9\\u67082\\u5468\", \"9\\u67083\\u5468\", \"9\\u67084\\u5468\", \"10\\u67082\\u5468\"], \"y\": [null, 2.0, 1.0, 2.0, 2.0, 2.0], \"type\": \"bar\", \"uid\": \"3f4124a5-d028-11e8-8ddb-a41f72875c19\"}, {\"name\": \"\\u5b9e\\u9645\\u4ea4\\u4ed8\\u65f6\\u95f4(\\u8303\\u65ed\\u5b81)\", \"x\": [\"8\\u67083\\u5468\", \"9\\u67081\\u5468\", \"9\\u67082\\u5468\", \"9\\u67083\\u5468\", \"9\\u67084\\u5468\", \"10\\u67082\\u5468\"], \"y\": [null, null, null, 1.0, null, null], \"type\": \"bar\", \"uid\": \"3f4124a6-d028-11e8-8ddb-a41f72875c19\"}, {\"name\": \"\\u5b9e\\u9645\\u4ea4\\u4ed8\\u65f6\\u95f4(\\u4e8e\\u6167)\", \"x\": [\"8\\u67083\\u5468\", \"9\\u67081\\u5468\", \"9\\u67082\\u5468\", \"9\\u67083\\u5468\", \"9\\u67084\\u5468\", \"10\\u67082\\u5468\"], \"y\": [null, null, 1.0, null, 1.0, 2.0], \"type\": \"bar\", \"uid\": \"3f4124a7-d028-11e8-8ddb-a41f72875c19\"}, {\"name\": \"\\u5b9e\\u9645\\u4ea4\\u4ed8\\u65f6\\u95f4(\\u9ad8\\u5251)\", \"x\": [\"8\\u67083\\u5468\", \"9\\u67081\\u5468\", \"9\\u67082\\u5468\", \"9\\u67083\\u5468\", \"9\\u67084\\u5468\", \"10\\u67082\\u5468\"], \"y\": [null, null, 1.0, null, null, null], \"type\": \"bar\", \"uid\": \"3f4124a8-d028-11e8-8ddb-a41f72875c19\"}, {\"name\": \"\\u5b9e\\u9645\\u4ea4\\u4ed8\\u65f6\\u95f4(\\u4e8e\\u52c7\\u4e00)\", \"x\": [\"8\\u67083\\u5468\", \"9\\u67081\\u5468\", \"9\\u67082\\u5468\", \"9\\u67083\\u5468\", \"9\\u67084\\u5468\", \"10\\u67082\\u5468\"], \"y\": [null, null, null, null, 1.0, null], \"type\": \"bar\", \"uid\": \"3f4124a9-d028-11e8-8ddb-a41f72875c19\"}, {\"name\": \"\\u5b9e\\u9645\\u4ea4\\u4ed8\\u65f6\\u95f4(\\u89e3\\u98de)\", \"x\": [\"8\\u67083\\u5468\", \"9\\u67081\\u5468\", \"9\\u67082\\u5468\", \"9\\u67083\\u5468\", \"9\\u67084\\u5468\", \"10\\u67082\\u5468\"], \"y\": [null, null, null, null, null, 1.0], \"type\": \"bar\", \"uid\": \"3f4124aa-d028-11e8-8ddb-a41f72875c19\"}, {\"name\": \"\\u5b9e\\u9645\\u4ea4\\u4ed8\\u65f6\\u95f4(\\u5218\\u68a6\\u82d1)\", \"x\": [\"8\\u67083\\u5468\", \"9\\u67081\\u5468\", \"9\\u67082\\u5468\", \"9\\u67083\\u5468\", \"9\\u67084\\u5468\", \"10\\u67082\\u5468\"], \"y\": [null, 1.0, 1.0, 2.0, 2.0, 3.0], \"type\": \"bar\", \"uid\": \"3f4124ab-d028-11e8-8ddb-a41f72875c19\"}, {\"name\": \"\\u5b9e\\u9645\\u4ea4\\u4ed8\\u65f6\\u95f4(\\u9648\\u78a7\\u96ef)\", \"x\": [\"8\\u67083\\u5468\", \"9\\u67081\\u5468\", \"9\\u67082\\u5468\", \"9\\u67083\\u5468\", \"9\\u67084\\u5468\", \"10\\u67082\\u5468\"], \"y\": [null, null, 4.0, 3.0, 1.0, 2.0], \"type\": \"bar\", \"uid\": \"3f4124ac-d028-11e8-8ddb-a41f72875c19\"}, {\"name\": \"\\u5b9e\\u9645\\u4ea4\\u4ed8\\u65f6\\u95f4(\\u51af\\u656c\\u5ca9)\", \"x\": [\"8\\u67083\\u5468\", \"9\\u67081\\u5468\", \"9\\u67082\\u5468\", \"9\\u67083\\u5468\", \"9\\u67084\\u5468\", \"10\\u67082\\u5468\"], \"y\": [null, 2.0, 1.0, 1.0, 5.0, 4.0], \"type\": \"bar\", \"uid\": \"3f4124ad-d028-11e8-8ddb-a41f72875c19\"}, {\"name\": \"\\u5b9e\\u9645\\u4ea4\\u4ed8\\u65f6\\u95f4(\\u51b7\\u96ea)\", \"x\": [\"8\\u67083\\u5468\", \"9\\u67081\\u5468\", \"9\\u67082\\u5468\", \"9\\u67083\\u5468\", \"9\\u67084\\u5468\", \"10\\u67082\\u5468\"], \"y\": [1.0, 1.0, 1.0, null, 3.0, null], \"type\": \"bar\", \"uid\": \"3f4124ae-d028-11e8-8ddb-a41f72875c19\"}, {\"name\": \"\\u5b9e\\u9645\\u4ea4\\u4ed8\\u65f6\\u95f4(\\u6c88\\u6069\\u60e0)\", \"x\": [\"8\\u67083\\u5468\", \"9\\u67081\\u5468\", \"9\\u67082\\u5468\", \"9\\u67083\\u5468\", \"9\\u67084\\u5468\", \"10\\u67082\\u5468\"], \"y\": [null, null, 1.0, null, 1.0, 1.0], \"type\": \"bar\", \"uid\": \"3f4124af-d028-11e8-8ddb-a41f72875c19\"}, {\"name\": \"\\u5b9e\\u9645\\u4ea4\\u4ed8\\u65f6\\u95f4(\\u6636\\u5409\\u9633)\", \"x\": [\"8\\u67083\\u5468\", \"9\\u67081\\u5468\", \"9\\u67082\\u5468\", \"9\\u67083\\u5468\", \"9\\u67084\\u5468\", \"10\\u67082\\u5468\"], \"y\": [null, 1.0, null, 2.0, null, 2.0], \"type\": \"bar\", \"uid\": \"3f4124b0-d028-11e8-8ddb-a41f72875c19\"}, {\"name\": \"\\u5b9e\\u9645\\u4ea4\\u4ed8\\u65f6\\u95f4(\\u4f55\\u80dc)\", \"x\": [\"8\\u67083\\u5468\", \"9\\u67081\\u5468\", \"9\\u67082\\u5468\", \"9\\u67083\\u5468\", \"9\\u67084\\u5468\", \"10\\u67082\\u5468\"], \"y\": [null, 2.0, 3.0, 2.0, 3.0, 2.0], \"type\": \"bar\", \"uid\": \"3f4124b1-d028-11e8-8ddb-a41f72875c19\"}, {\"name\": \"\\u5b9e\\u9645\\u4ea4\\u4ed8\\u65f6\\u95f4(\\u5360\\u4f1f)\", \"x\": [\"8\\u67083\\u5468\", \"9\\u67081\\u5468\", \"9\\u67082\\u5468\", \"9\\u67083\\u5468\", \"9\\u67084\\u5468\", \"10\\u67082\\u5468\"], \"y\": [null, null, null, 1.0, 1.0, null], \"type\": \"bar\", \"uid\": \"3f4124b2-d028-11e8-8ddb-a41f72875c19\"}, {\"name\": \"\\u5b9e\\u9645\\u4ea4\\u4ed8\\u65f6\\u95f4(\\u5b8b\\u5c11\\u5b87)\", \"x\": [\"8\\u67083\\u5468\", \"9\\u67081\\u5468\", \"9\\u67082\\u5468\", \"9\\u67083\\u5468\", \"9\\u67084\\u5468\", \"10\\u67082\\u5468\"], \"y\": [null, 1.0, null, null, null, null], \"type\": \"bar\", \"uid\": \"3f4124b3-d028-11e8-8ddb-a41f72875c19\"}, {\"name\": \"\\u5b9e\\u9645\\u4ea4\\u4ed8\\u65f6\\u95f4(\\u5218\\u6c5f)\", \"x\": [\"8\\u67083\\u5468\", \"9\\u67081\\u5468\", \"9\\u67082\\u5468\", \"9\\u67083\\u5468\", \"9\\u67084\\u5468\", \"10\\u67082\\u5468\"], \"y\": [null, null, 2.0, 1.0, null, null], \"type\": \"bar\", \"uid\": \"3f4124b4-d028-11e8-8ddb-a41f72875c19\"}, {\"name\": \"\\u5b9e\\u9645\\u4ea4\\u4ed8\\u65f6\\u95f4(\\u6768\\u4f1f\\u98de)\", \"x\": [\"8\\u67083\\u5468\", \"9\\u67081\\u5468\", \"9\\u67082\\u5468\", \"9\\u67083\\u5468\", \"9\\u67084\\u5468\", \"10\\u67082\\u5468\"], \"y\": [null, 1.0, 2.0, null, null, null], \"type\": \"bar\", \"uid\": \"3f4124b5-d028-11e8-8ddb-a41f72875c19\"}, {\"name\": \"\\u5b9e\\u9645\\u4ea4\\u4ed8\\u65f6\\u95f4(\\u8d75\\u5029)\", \"x\": [\"8\\u67083\\u5468\", \"9\\u67081\\u5468\", \"9\\u67082\\u5468\", \"9\\u67083\\u5468\", \"9\\u67084\\u5468\", \"10\\u67082\\u5468\"], \"y\": [null, 1.0, 4.0, 5.0, 7.0, 3.0], \"type\": \"bar\", \"uid\": \"3f4124b6-d028-11e8-8ddb-a41f72875c19\"}], {\"barmode\": \"stack\", \"title\": \"\\u5b9e\\u9645\\u4ea4\\u4ed8\\u65f6\\u95f4\\u5468\\u8d8b\\u52bf\\u56fe\", \"xaxis\": {\"mirror\": \"all\", \"nticks\": 20, \"showgrid\": true, \"showline\": true, \"title\": \"\\u5468\", \"zeroline\": true}, \"yaxis\": {\"mirror\": \"all\", \"nticks\": 20, \"showgrid\": true, \"showline\": true, \"title\": \"\\u5b9e\\u9645\\u4ea4\\u4ed8\\u65f6\\u95f4\", \"zeroline\": true}}, {\"showLink\": true, \"linkText\": \"Export to plot.ly\"})});</script>"
=======
       "<div id=\"5d174e0e-fa1f-4e7c-bf72-c1447d639b00\" style=\"height: 525px; width: 100%;\" class=\"plotly-graph-div\"></div><script type=\"text/javascript\">require([\"plotly\"], function(Plotly) { window.PLOTLYENV=window.PLOTLYENV || {};window.PLOTLYENV.BASE_URL=\"https://plot.ly\";Plotly.newPlot(\"5d174e0e-fa1f-4e7c-bf72-c1447d639b00\", [{\"name\": \"\\u5b9e\\u9645\\u4ea4\\u4ed8\\u65f6\\u95f4(\\u9a6c\\u6f47)\", \"x\": [\"9\\u67081\\u5468\", \"9\\u67082\\u5468\", \"9\\u67083\\u5468\", \"9\\u67084\\u5468\", \"10\\u67082\\u5468\"], \"y\": [null, 2.0, 2.0, 1.0, null], \"type\": \"bar\", \"uid\": \"b179d3d2-d016-11e8-8ddb-a41f72875c19\"}, {\"name\": \"\\u5b9e\\u9645\\u4ea4\\u4ed8\\u65f6\\u95f4(\\u97e9\\u5c11\\u6000)\", \"x\": [\"9\\u67081\\u5468\", \"9\\u67082\\u5468\", \"9\\u67083\\u5468\", \"9\\u67084\\u5468\", \"10\\u67082\\u5468\"], \"y\": [null, null, null, null, 1.0], \"type\": \"bar\", \"uid\": \"b179d3d3-d016-11e8-8ddb-a41f72875c19\"}, {\"name\": \"\\u5b9e\\u9645\\u4ea4\\u4ed8\\u65f6\\u95f4(\\u59da\\u76df\\u6210)\", \"x\": [\"9\\u67081\\u5468\", \"9\\u67082\\u5468\", \"9\\u67083\\u5468\", \"9\\u67084\\u5468\", \"10\\u67082\\u5468\"], \"y\": [null, 1.0, null, null, null], \"type\": \"bar\", \"uid\": \"b179d3d4-d016-11e8-8ddb-a41f72875c19\"}, {\"name\": \"\\u5b9e\\u9645\\u4ea4\\u4ed8\\u65f6\\u95f4(\\u5218\\u6c38\\u5f3a)\", \"x\": [\"9\\u67081\\u5468\", \"9\\u67082\\u5468\", \"9\\u67083\\u5468\", \"9\\u67084\\u5468\", \"10\\u67082\\u5468\"], \"y\": [1.0, null, null, null, null], \"type\": \"bar\", \"uid\": \"b179d3d5-d016-11e8-8ddb-a41f72875c19\"}, {\"name\": \"\\u5b9e\\u9645\\u4ea4\\u4ed8\\u65f6\\u95f4(\\u6731\\u6167\\u840d)\", \"x\": [\"9\\u67081\\u5468\", \"9\\u67082\\u5468\", \"9\\u67083\\u5468\", \"9\\u67084\\u5468\", \"10\\u67082\\u5468\"], \"y\": [2.0, 5.0, 4.0, 3.0, null], \"type\": \"bar\", \"uid\": \"b179d3d6-d016-11e8-8ddb-a41f72875c19\"}, {\"name\": \"\\u5b9e\\u9645\\u4ea4\\u4ed8\\u65f6\\u95f4(\\u6797\\u6587\\u6587)\", \"x\": [\"9\\u67081\\u5468\", \"9\\u67082\\u5468\", \"9\\u67083\\u5468\", \"9\\u67084\\u5468\", \"10\\u67082\\u5468\"], \"y\": [null, null, 1.0, 1.0, null], \"type\": \"bar\", \"uid\": \"b179d3d7-d016-11e8-8ddb-a41f72875c19\"}, {\"name\": \"\\u5b9e\\u9645\\u4ea4\\u4ed8\\u65f6\\u95f4(\\u8f66\\u5929\\u680b)\", \"x\": [\"9\\u67081\\u5468\", \"9\\u67082\\u5468\", \"9\\u67083\\u5468\", \"9\\u67084\\u5468\", \"10\\u67082\\u5468\"], \"y\": [null, 1.0, null, 1.0, null], \"type\": \"bar\", \"uid\": \"b179d3d8-d016-11e8-8ddb-a41f72875c19\"}, {\"name\": \"\\u5b9e\\u9645\\u4ea4\\u4ed8\\u65f6\\u95f4(\\u6c88\\u7acb\\u7fa4)\", \"x\": [\"9\\u67081\\u5468\", \"9\\u67082\\u5468\", \"9\\u67083\\u5468\", \"9\\u67084\\u5468\", \"10\\u67082\\u5468\"], \"y\": [null, null, null, 1.0, null], \"type\": \"bar\", \"uid\": \"b179d3d9-d016-11e8-8ddb-a41f72875c19\"}, {\"name\": \"\\u5b9e\\u9645\\u4ea4\\u4ed8\\u65f6\\u95f4(\\u6bb5\\u5229\\u5f3a)\", \"x\": [\"9\\u67081\\u5468\", \"9\\u67082\\u5468\", \"9\\u67083\\u5468\", \"9\\u67084\\u5468\", \"10\\u67082\\u5468\"], \"y\": [null, 1.0, 5.0, null, null], \"type\": \"bar\", \"uid\": \"b179d3da-d016-11e8-8ddb-a41f72875c19\"}, {\"name\": \"\\u5b9e\\u9645\\u4ea4\\u4ed8\\u65f6\\u95f4(\\u9648\\u9e4f\\u71d5)\", \"x\": [\"9\\u67081\\u5468\", \"9\\u67082\\u5468\", \"9\\u67083\\u5468\", \"9\\u67084\\u5468\", \"10\\u67082\\u5468\"], \"y\": [1.0, 2.0, 4.0, 4.0, null], \"type\": \"bar\", \"uid\": \"b179d3db-d016-11e8-8ddb-a41f72875c19\"}, {\"name\": \"\\u5b9e\\u9645\\u4ea4\\u4ed8\\u65f6\\u95f4(\\u95fb\\u5c11\\u6960)\", \"x\": [\"9\\u67081\\u5468\", \"9\\u67082\\u5468\", \"9\\u67083\\u5468\", \"9\\u67084\\u5468\", \"10\\u67082\\u5468\"], \"y\": [null, null, 2.0, 2.0, null], \"type\": \"bar\", \"uid\": \"b179d3dc-d016-11e8-8ddb-a41f72875c19\"}, {\"name\": \"\\u5b9e\\u9645\\u4ea4\\u4ed8\\u65f6\\u95f4(\\u6768\\u5b87)\", \"x\": [\"9\\u67081\\u5468\", \"9\\u67082\\u5468\", \"9\\u67083\\u5468\", \"9\\u67084\\u5468\", \"10\\u67082\\u5468\"], \"y\": [null, 1.0, 7.0, null, null], \"type\": \"bar\", \"uid\": \"b179d3dd-d016-11e8-8ddb-a41f72875c19\"}, {\"name\": \"\\u5b9e\\u9645\\u4ea4\\u4ed8\\u65f6\\u95f4(\\u5c48\\u6602)\", \"x\": [\"9\\u67081\\u5468\", \"9\\u67082\\u5468\", \"9\\u67083\\u5468\", \"9\\u67084\\u5468\", \"10\\u67082\\u5468\"], \"y\": [1.0, null, null, 1.0, null], \"type\": \"bar\", \"uid\": \"b179d3de-d016-11e8-8ddb-a41f72875c19\"}, {\"name\": \"\\u5b9e\\u9645\\u4ea4\\u4ed8\\u65f6\\u95f4(\\u738b\\u4f20\\u6587)\", \"x\": [\"9\\u67081\\u5468\", \"9\\u67082\\u5468\", \"9\\u67083\\u5468\", \"9\\u67084\\u5468\", \"10\\u67082\\u5468\"], \"y\": [null, null, 1.0, null, null], \"type\": \"bar\", \"uid\": \"b179d3df-d016-11e8-8ddb-a41f72875c19\"}, {\"name\": \"\\u5b9e\\u9645\\u4ea4\\u4ed8\\u65f6\\u95f4(\\u674e\\u534e\\u4e91)\", \"x\": [\"9\\u67081\\u5468\", \"9\\u67082\\u5468\", \"9\\u67083\\u5468\", \"9\\u67084\\u5468\", \"10\\u67082\\u5468\"], \"y\": [null, null, 1.0, 1.0, null], \"type\": \"bar\", \"uid\": \"b179d3e0-d016-11e8-8ddb-a41f72875c19\"}, {\"name\": \"\\u5b9e\\u9645\\u4ea4\\u4ed8\\u65f6\\u95f4(\\u738b\\u971e)\", \"x\": [\"9\\u67081\\u5468\", \"9\\u67082\\u5468\", \"9\\u67083\\u5468\", \"9\\u67084\\u5468\", \"10\\u67082\\u5468\"], \"y\": [2.0, 1.0, 2.0, 2.0, null], \"type\": \"bar\", \"uid\": \"b179d3e1-d016-11e8-8ddb-a41f72875c19\"}, {\"name\": \"\\u5b9e\\u9645\\u4ea4\\u4ed8\\u65f6\\u95f4(\\u8303\\u65ed\\u5b81)\", \"x\": [\"9\\u67081\\u5468\", \"9\\u67082\\u5468\", \"9\\u67083\\u5468\", \"9\\u67084\\u5468\", \"10\\u67082\\u5468\"], \"y\": [null, null, 1.0, null, 2.0], \"type\": \"bar\", \"uid\": \"b179d3e2-d016-11e8-8ddb-a41f72875c19\"}, {\"name\": \"\\u5b9e\\u9645\\u4ea4\\u4ed8\\u65f6\\u95f4(\\u4e8e\\u6167)\", \"x\": [\"9\\u67081\\u5468\", \"9\\u67082\\u5468\", \"9\\u67083\\u5468\", \"9\\u67084\\u5468\", \"10\\u67082\\u5468\"], \"y\": [null, 1.0, null, 1.0, null], \"type\": \"bar\", \"uid\": \"b179d3e3-d016-11e8-8ddb-a41f72875c19\"}, {\"name\": \"\\u5b9e\\u9645\\u4ea4\\u4ed8\\u65f6\\u95f4(\\u9ad8\\u5251)\", \"x\": [\"9\\u67081\\u5468\", \"9\\u67082\\u5468\", \"9\\u67083\\u5468\", \"9\\u67084\\u5468\", \"10\\u67082\\u5468\"], \"y\": [null, 1.0, null, null, null], \"type\": \"bar\", \"uid\": \"b179d3e4-d016-11e8-8ddb-a41f72875c19\"}, {\"name\": \"\\u5b9e\\u9645\\u4ea4\\u4ed8\\u65f6\\u95f4(\\u4e8e\\u52c7\\u4e00)\", \"x\": [\"9\\u67081\\u5468\", \"9\\u67082\\u5468\", \"9\\u67083\\u5468\", \"9\\u67084\\u5468\", \"10\\u67082\\u5468\"], \"y\": [null, null, null, 1.0, null], \"type\": \"bar\", \"uid\": \"b179d3e5-d016-11e8-8ddb-a41f72875c19\"}, {\"name\": \"\\u5b9e\\u9645\\u4ea4\\u4ed8\\u65f6\\u95f4(\\u5218\\u68a6\\u82d1)\", \"x\": [\"9\\u67081\\u5468\", \"9\\u67082\\u5468\", \"9\\u67083\\u5468\", \"9\\u67084\\u5468\", \"10\\u67082\\u5468\"], \"y\": [1.0, 1.0, 2.0, 1.0, null], \"type\": \"bar\", \"uid\": \"b179d3e6-d016-11e8-8ddb-a41f72875c19\"}, {\"name\": \"\\u5b9e\\u9645\\u4ea4\\u4ed8\\u65f6\\u95f4(\\u9648\\u78a7\\u96ef)\", \"x\": [\"9\\u67081\\u5468\", \"9\\u67082\\u5468\", \"9\\u67083\\u5468\", \"9\\u67084\\u5468\", \"10\\u67082\\u5468\"], \"y\": [null, 4.0, 3.0, 1.0, 1.0], \"type\": \"bar\", \"uid\": \"b179d3e7-d016-11e8-8ddb-a41f72875c19\"}, {\"name\": \"\\u5b9e\\u9645\\u4ea4\\u4ed8\\u65f6\\u95f4(\\u51af\\u656c\\u5ca9)\", \"x\": [\"9\\u67081\\u5468\", \"9\\u67082\\u5468\", \"9\\u67083\\u5468\", \"9\\u67084\\u5468\", \"10\\u67082\\u5468\"], \"y\": [2.0, 1.0, 1.0, 5.0, null], \"type\": \"bar\", \"uid\": \"b179d3e8-d016-11e8-8ddb-a41f72875c19\"}, {\"name\": \"\\u5b9e\\u9645\\u4ea4\\u4ed8\\u65f6\\u95f4(\\u51b7\\u96ea)\", \"x\": [\"9\\u67081\\u5468\", \"9\\u67082\\u5468\", \"9\\u67083\\u5468\", \"9\\u67084\\u5468\", \"10\\u67082\\u5468\"], \"y\": [1.0, 1.0, null, 4.0, null], \"type\": \"bar\", \"uid\": \"b179d3e9-d016-11e8-8ddb-a41f72875c19\"}, {\"name\": \"\\u5b9e\\u9645\\u4ea4\\u4ed8\\u65f6\\u95f4(\\u6c88\\u6069\\u60e0)\", \"x\": [\"9\\u67081\\u5468\", \"9\\u67082\\u5468\", \"9\\u67083\\u5468\", \"9\\u67084\\u5468\", \"10\\u67082\\u5468\"], \"y\": [null, 1.0, null, 1.0, null], \"type\": \"bar\", \"uid\": \"b179d3ea-d016-11e8-8ddb-a41f72875c19\"}, {\"name\": \"\\u5b9e\\u9645\\u4ea4\\u4ed8\\u65f6\\u95f4(\\u6636\\u5409\\u9633)\", \"x\": [\"9\\u67081\\u5468\", \"9\\u67082\\u5468\", \"9\\u67083\\u5468\", \"9\\u67084\\u5468\", \"10\\u67082\\u5468\"], \"y\": [1.0, null, 2.0, null, null], \"type\": \"bar\", \"uid\": \"b179d3eb-d016-11e8-8ddb-a41f72875c19\"}, {\"name\": \"\\u5b9e\\u9645\\u4ea4\\u4ed8\\u65f6\\u95f4(\\u4f55\\u80dc)\", \"x\": [\"9\\u67081\\u5468\", \"9\\u67082\\u5468\", \"9\\u67083\\u5468\", \"9\\u67084\\u5468\", \"10\\u67082\\u5468\"], \"y\": [2.0, 3.0, 1.0, 3.0, 1.0], \"type\": \"bar\", \"uid\": \"b179d3ec-d016-11e8-8ddb-a41f72875c19\"}, {\"name\": \"\\u5b9e\\u9645\\u4ea4\\u4ed8\\u65f6\\u95f4(\\u5360\\u4f1f)\", \"x\": [\"9\\u67081\\u5468\", \"9\\u67082\\u5468\", \"9\\u67083\\u5468\", \"9\\u67084\\u5468\", \"10\\u67082\\u5468\"], \"y\": [null, null, 1.0, 1.0, null], \"type\": \"bar\", \"uid\": \"b179d3ed-d016-11e8-8ddb-a41f72875c19\"}, {\"name\": \"\\u5b9e\\u9645\\u4ea4\\u4ed8\\u65f6\\u95f4(\\u5b8b\\u5c11\\u5b87)\", \"x\": [\"9\\u67081\\u5468\", \"9\\u67082\\u5468\", \"9\\u67083\\u5468\", \"9\\u67084\\u5468\", \"10\\u67082\\u5468\"], \"y\": [1.0, null, null, null, null], \"type\": \"bar\", \"uid\": \"b179d3ee-d016-11e8-8ddb-a41f72875c19\"}, {\"name\": \"\\u5b9e\\u9645\\u4ea4\\u4ed8\\u65f6\\u95f4(\\u5218\\u6c5f)\", \"x\": [\"9\\u67081\\u5468\", \"9\\u67082\\u5468\", \"9\\u67083\\u5468\", \"9\\u67084\\u5468\", \"10\\u67082\\u5468\"], \"y\": [null, 2.0, 1.0, null, null], \"type\": \"bar\", \"uid\": \"b179d3ef-d016-11e8-8ddb-a41f72875c19\"}, {\"name\": \"\\u5b9e\\u9645\\u4ea4\\u4ed8\\u65f6\\u95f4(\\u6768\\u4f1f\\u98de)\", \"x\": [\"9\\u67081\\u5468\", \"9\\u67082\\u5468\", \"9\\u67083\\u5468\", \"9\\u67084\\u5468\", \"10\\u67082\\u5468\"], \"y\": [1.0, 2.0, null, null, null], \"type\": \"bar\", \"uid\": \"b179d3f0-d016-11e8-8ddb-a41f72875c19\"}, {\"name\": \"\\u5b9e\\u9645\\u4ea4\\u4ed8\\u65f6\\u95f4(\\u8d75\\u5029)\", \"x\": [\"9\\u67081\\u5468\", \"9\\u67082\\u5468\", \"9\\u67083\\u5468\", \"9\\u67084\\u5468\", \"10\\u67082\\u5468\"], \"y\": [1.0, 4.0, 5.0, 7.0, 1.0], \"type\": \"bar\", \"uid\": \"b179d3f1-d016-11e8-8ddb-a41f72875c19\"}], {\"barmode\": \"stack\", \"title\": \"\\u5b9e\\u9645\\u4ea4\\u4ed8\\u65f6\\u95f4\\u5468\\u8d8b\\u52bf\\u56fe\", \"xaxis\": {\"mirror\": \"all\", \"nticks\": 20, \"showgrid\": true, \"showline\": true, \"title\": \"\\u5468\", \"zeroline\": true}, \"yaxis\": {\"mirror\": \"all\", \"nticks\": 20, \"showgrid\": true, \"showline\": true, \"title\": \"\\u5b9e\\u9645\\u4ea4\\u4ed8\\u65f6\\u95f4\", \"zeroline\": true}}, {\"showLink\": true, \"linkText\": \"Export to plot.ly\"})});</script>"
      ],
      "text/vnd.plotly.v1+html": [
       "<div id=\"5d174e0e-fa1f-4e7c-bf72-c1447d639b00\" style=\"height: 525px; width: 100%;\" class=\"plotly-graph-div\"></div><script type=\"text/javascript\">require([\"plotly\"], function(Plotly) { window.PLOTLYENV=window.PLOTLYENV || {};window.PLOTLYENV.BASE_URL=\"https://plot.ly\";Plotly.newPlot(\"5d174e0e-fa1f-4e7c-bf72-c1447d639b00\", [{\"name\": \"\\u5b9e\\u9645\\u4ea4\\u4ed8\\u65f6\\u95f4(\\u9a6c\\u6f47)\", \"x\": [\"9\\u67081\\u5468\", \"9\\u67082\\u5468\", \"9\\u67083\\u5468\", \"9\\u67084\\u5468\", \"10\\u67082\\u5468\"], \"y\": [null, 2.0, 2.0, 1.0, null], \"type\": \"bar\", \"uid\": \"b179d3d2-d016-11e8-8ddb-a41f72875c19\"}, {\"name\": \"\\u5b9e\\u9645\\u4ea4\\u4ed8\\u65f6\\u95f4(\\u97e9\\u5c11\\u6000)\", \"x\": [\"9\\u67081\\u5468\", \"9\\u67082\\u5468\", \"9\\u67083\\u5468\", \"9\\u67084\\u5468\", \"10\\u67082\\u5468\"], \"y\": [null, null, null, null, 1.0], \"type\": \"bar\", \"uid\": \"b179d3d3-d016-11e8-8ddb-a41f72875c19\"}, {\"name\": \"\\u5b9e\\u9645\\u4ea4\\u4ed8\\u65f6\\u95f4(\\u59da\\u76df\\u6210)\", \"x\": [\"9\\u67081\\u5468\", \"9\\u67082\\u5468\", \"9\\u67083\\u5468\", \"9\\u67084\\u5468\", \"10\\u67082\\u5468\"], \"y\": [null, 1.0, null, null, null], \"type\": \"bar\", \"uid\": \"b179d3d4-d016-11e8-8ddb-a41f72875c19\"}, {\"name\": \"\\u5b9e\\u9645\\u4ea4\\u4ed8\\u65f6\\u95f4(\\u5218\\u6c38\\u5f3a)\", \"x\": [\"9\\u67081\\u5468\", \"9\\u67082\\u5468\", \"9\\u67083\\u5468\", \"9\\u67084\\u5468\", \"10\\u67082\\u5468\"], \"y\": [1.0, null, null, null, null], \"type\": \"bar\", \"uid\": \"b179d3d5-d016-11e8-8ddb-a41f72875c19\"}, {\"name\": \"\\u5b9e\\u9645\\u4ea4\\u4ed8\\u65f6\\u95f4(\\u6731\\u6167\\u840d)\", \"x\": [\"9\\u67081\\u5468\", \"9\\u67082\\u5468\", \"9\\u67083\\u5468\", \"9\\u67084\\u5468\", \"10\\u67082\\u5468\"], \"y\": [2.0, 5.0, 4.0, 3.0, null], \"type\": \"bar\", \"uid\": \"b179d3d6-d016-11e8-8ddb-a41f72875c19\"}, {\"name\": \"\\u5b9e\\u9645\\u4ea4\\u4ed8\\u65f6\\u95f4(\\u6797\\u6587\\u6587)\", \"x\": [\"9\\u67081\\u5468\", \"9\\u67082\\u5468\", \"9\\u67083\\u5468\", \"9\\u67084\\u5468\", \"10\\u67082\\u5468\"], \"y\": [null, null, 1.0, 1.0, null], \"type\": \"bar\", \"uid\": \"b179d3d7-d016-11e8-8ddb-a41f72875c19\"}, {\"name\": \"\\u5b9e\\u9645\\u4ea4\\u4ed8\\u65f6\\u95f4(\\u8f66\\u5929\\u680b)\", \"x\": [\"9\\u67081\\u5468\", \"9\\u67082\\u5468\", \"9\\u67083\\u5468\", \"9\\u67084\\u5468\", \"10\\u67082\\u5468\"], \"y\": [null, 1.0, null, 1.0, null], \"type\": \"bar\", \"uid\": \"b179d3d8-d016-11e8-8ddb-a41f72875c19\"}, {\"name\": \"\\u5b9e\\u9645\\u4ea4\\u4ed8\\u65f6\\u95f4(\\u6c88\\u7acb\\u7fa4)\", \"x\": [\"9\\u67081\\u5468\", \"9\\u67082\\u5468\", \"9\\u67083\\u5468\", \"9\\u67084\\u5468\", \"10\\u67082\\u5468\"], \"y\": [null, null, null, 1.0, null], \"type\": \"bar\", \"uid\": \"b179d3d9-d016-11e8-8ddb-a41f72875c19\"}, {\"name\": \"\\u5b9e\\u9645\\u4ea4\\u4ed8\\u65f6\\u95f4(\\u6bb5\\u5229\\u5f3a)\", \"x\": [\"9\\u67081\\u5468\", \"9\\u67082\\u5468\", \"9\\u67083\\u5468\", \"9\\u67084\\u5468\", \"10\\u67082\\u5468\"], \"y\": [null, 1.0, 5.0, null, null], \"type\": \"bar\", \"uid\": \"b179d3da-d016-11e8-8ddb-a41f72875c19\"}, {\"name\": \"\\u5b9e\\u9645\\u4ea4\\u4ed8\\u65f6\\u95f4(\\u9648\\u9e4f\\u71d5)\", \"x\": [\"9\\u67081\\u5468\", \"9\\u67082\\u5468\", \"9\\u67083\\u5468\", \"9\\u67084\\u5468\", \"10\\u67082\\u5468\"], \"y\": [1.0, 2.0, 4.0, 4.0, null], \"type\": \"bar\", \"uid\": \"b179d3db-d016-11e8-8ddb-a41f72875c19\"}, {\"name\": \"\\u5b9e\\u9645\\u4ea4\\u4ed8\\u65f6\\u95f4(\\u95fb\\u5c11\\u6960)\", \"x\": [\"9\\u67081\\u5468\", \"9\\u67082\\u5468\", \"9\\u67083\\u5468\", \"9\\u67084\\u5468\", \"10\\u67082\\u5468\"], \"y\": [null, null, 2.0, 2.0, null], \"type\": \"bar\", \"uid\": \"b179d3dc-d016-11e8-8ddb-a41f72875c19\"}, {\"name\": \"\\u5b9e\\u9645\\u4ea4\\u4ed8\\u65f6\\u95f4(\\u6768\\u5b87)\", \"x\": [\"9\\u67081\\u5468\", \"9\\u67082\\u5468\", \"9\\u67083\\u5468\", \"9\\u67084\\u5468\", \"10\\u67082\\u5468\"], \"y\": [null, 1.0, 7.0, null, null], \"type\": \"bar\", \"uid\": \"b179d3dd-d016-11e8-8ddb-a41f72875c19\"}, {\"name\": \"\\u5b9e\\u9645\\u4ea4\\u4ed8\\u65f6\\u95f4(\\u5c48\\u6602)\", \"x\": [\"9\\u67081\\u5468\", \"9\\u67082\\u5468\", \"9\\u67083\\u5468\", \"9\\u67084\\u5468\", \"10\\u67082\\u5468\"], \"y\": [1.0, null, null, 1.0, null], \"type\": \"bar\", \"uid\": \"b179d3de-d016-11e8-8ddb-a41f72875c19\"}, {\"name\": \"\\u5b9e\\u9645\\u4ea4\\u4ed8\\u65f6\\u95f4(\\u738b\\u4f20\\u6587)\", \"x\": [\"9\\u67081\\u5468\", \"9\\u67082\\u5468\", \"9\\u67083\\u5468\", \"9\\u67084\\u5468\", \"10\\u67082\\u5468\"], \"y\": [null, null, 1.0, null, null], \"type\": \"bar\", \"uid\": \"b179d3df-d016-11e8-8ddb-a41f72875c19\"}, {\"name\": \"\\u5b9e\\u9645\\u4ea4\\u4ed8\\u65f6\\u95f4(\\u674e\\u534e\\u4e91)\", \"x\": [\"9\\u67081\\u5468\", \"9\\u67082\\u5468\", \"9\\u67083\\u5468\", \"9\\u67084\\u5468\", \"10\\u67082\\u5468\"], \"y\": [null, null, 1.0, 1.0, null], \"type\": \"bar\", \"uid\": \"b179d3e0-d016-11e8-8ddb-a41f72875c19\"}, {\"name\": \"\\u5b9e\\u9645\\u4ea4\\u4ed8\\u65f6\\u95f4(\\u738b\\u971e)\", \"x\": [\"9\\u67081\\u5468\", \"9\\u67082\\u5468\", \"9\\u67083\\u5468\", \"9\\u67084\\u5468\", \"10\\u67082\\u5468\"], \"y\": [2.0, 1.0, 2.0, 2.0, null], \"type\": \"bar\", \"uid\": \"b179d3e1-d016-11e8-8ddb-a41f72875c19\"}, {\"name\": \"\\u5b9e\\u9645\\u4ea4\\u4ed8\\u65f6\\u95f4(\\u8303\\u65ed\\u5b81)\", \"x\": [\"9\\u67081\\u5468\", \"9\\u67082\\u5468\", \"9\\u67083\\u5468\", \"9\\u67084\\u5468\", \"10\\u67082\\u5468\"], \"y\": [null, null, 1.0, null, 2.0], \"type\": \"bar\", \"uid\": \"b179d3e2-d016-11e8-8ddb-a41f72875c19\"}, {\"name\": \"\\u5b9e\\u9645\\u4ea4\\u4ed8\\u65f6\\u95f4(\\u4e8e\\u6167)\", \"x\": [\"9\\u67081\\u5468\", \"9\\u67082\\u5468\", \"9\\u67083\\u5468\", \"9\\u67084\\u5468\", \"10\\u67082\\u5468\"], \"y\": [null, 1.0, null, 1.0, null], \"type\": \"bar\", \"uid\": \"b179d3e3-d016-11e8-8ddb-a41f72875c19\"}, {\"name\": \"\\u5b9e\\u9645\\u4ea4\\u4ed8\\u65f6\\u95f4(\\u9ad8\\u5251)\", \"x\": [\"9\\u67081\\u5468\", \"9\\u67082\\u5468\", \"9\\u67083\\u5468\", \"9\\u67084\\u5468\", \"10\\u67082\\u5468\"], \"y\": [null, 1.0, null, null, null], \"type\": \"bar\", \"uid\": \"b179d3e4-d016-11e8-8ddb-a41f72875c19\"}, {\"name\": \"\\u5b9e\\u9645\\u4ea4\\u4ed8\\u65f6\\u95f4(\\u4e8e\\u52c7\\u4e00)\", \"x\": [\"9\\u67081\\u5468\", \"9\\u67082\\u5468\", \"9\\u67083\\u5468\", \"9\\u67084\\u5468\", \"10\\u67082\\u5468\"], \"y\": [null, null, null, 1.0, null], \"type\": \"bar\", \"uid\": \"b179d3e5-d016-11e8-8ddb-a41f72875c19\"}, {\"name\": \"\\u5b9e\\u9645\\u4ea4\\u4ed8\\u65f6\\u95f4(\\u5218\\u68a6\\u82d1)\", \"x\": [\"9\\u67081\\u5468\", \"9\\u67082\\u5468\", \"9\\u67083\\u5468\", \"9\\u67084\\u5468\", \"10\\u67082\\u5468\"], \"y\": [1.0, 1.0, 2.0, 1.0, null], \"type\": \"bar\", \"uid\": \"b179d3e6-d016-11e8-8ddb-a41f72875c19\"}, {\"name\": \"\\u5b9e\\u9645\\u4ea4\\u4ed8\\u65f6\\u95f4(\\u9648\\u78a7\\u96ef)\", \"x\": [\"9\\u67081\\u5468\", \"9\\u67082\\u5468\", \"9\\u67083\\u5468\", \"9\\u67084\\u5468\", \"10\\u67082\\u5468\"], \"y\": [null, 4.0, 3.0, 1.0, 1.0], \"type\": \"bar\", \"uid\": \"b179d3e7-d016-11e8-8ddb-a41f72875c19\"}, {\"name\": \"\\u5b9e\\u9645\\u4ea4\\u4ed8\\u65f6\\u95f4(\\u51af\\u656c\\u5ca9)\", \"x\": [\"9\\u67081\\u5468\", \"9\\u67082\\u5468\", \"9\\u67083\\u5468\", \"9\\u67084\\u5468\", \"10\\u67082\\u5468\"], \"y\": [2.0, 1.0, 1.0, 5.0, null], \"type\": \"bar\", \"uid\": \"b179d3e8-d016-11e8-8ddb-a41f72875c19\"}, {\"name\": \"\\u5b9e\\u9645\\u4ea4\\u4ed8\\u65f6\\u95f4(\\u51b7\\u96ea)\", \"x\": [\"9\\u67081\\u5468\", \"9\\u67082\\u5468\", \"9\\u67083\\u5468\", \"9\\u67084\\u5468\", \"10\\u67082\\u5468\"], \"y\": [1.0, 1.0, null, 4.0, null], \"type\": \"bar\", \"uid\": \"b179d3e9-d016-11e8-8ddb-a41f72875c19\"}, {\"name\": \"\\u5b9e\\u9645\\u4ea4\\u4ed8\\u65f6\\u95f4(\\u6c88\\u6069\\u60e0)\", \"x\": [\"9\\u67081\\u5468\", \"9\\u67082\\u5468\", \"9\\u67083\\u5468\", \"9\\u67084\\u5468\", \"10\\u67082\\u5468\"], \"y\": [null, 1.0, null, 1.0, null], \"type\": \"bar\", \"uid\": \"b179d3ea-d016-11e8-8ddb-a41f72875c19\"}, {\"name\": \"\\u5b9e\\u9645\\u4ea4\\u4ed8\\u65f6\\u95f4(\\u6636\\u5409\\u9633)\", \"x\": [\"9\\u67081\\u5468\", \"9\\u67082\\u5468\", \"9\\u67083\\u5468\", \"9\\u67084\\u5468\", \"10\\u67082\\u5468\"], \"y\": [1.0, null, 2.0, null, null], \"type\": \"bar\", \"uid\": \"b179d3eb-d016-11e8-8ddb-a41f72875c19\"}, {\"name\": \"\\u5b9e\\u9645\\u4ea4\\u4ed8\\u65f6\\u95f4(\\u4f55\\u80dc)\", \"x\": [\"9\\u67081\\u5468\", \"9\\u67082\\u5468\", \"9\\u67083\\u5468\", \"9\\u67084\\u5468\", \"10\\u67082\\u5468\"], \"y\": [2.0, 3.0, 1.0, 3.0, 1.0], \"type\": \"bar\", \"uid\": \"b179d3ec-d016-11e8-8ddb-a41f72875c19\"}, {\"name\": \"\\u5b9e\\u9645\\u4ea4\\u4ed8\\u65f6\\u95f4(\\u5360\\u4f1f)\", \"x\": [\"9\\u67081\\u5468\", \"9\\u67082\\u5468\", \"9\\u67083\\u5468\", \"9\\u67084\\u5468\", \"10\\u67082\\u5468\"], \"y\": [null, null, 1.0, 1.0, null], \"type\": \"bar\", \"uid\": \"b179d3ed-d016-11e8-8ddb-a41f72875c19\"}, {\"name\": \"\\u5b9e\\u9645\\u4ea4\\u4ed8\\u65f6\\u95f4(\\u5b8b\\u5c11\\u5b87)\", \"x\": [\"9\\u67081\\u5468\", \"9\\u67082\\u5468\", \"9\\u67083\\u5468\", \"9\\u67084\\u5468\", \"10\\u67082\\u5468\"], \"y\": [1.0, null, null, null, null], \"type\": \"bar\", \"uid\": \"b179d3ee-d016-11e8-8ddb-a41f72875c19\"}, {\"name\": \"\\u5b9e\\u9645\\u4ea4\\u4ed8\\u65f6\\u95f4(\\u5218\\u6c5f)\", \"x\": [\"9\\u67081\\u5468\", \"9\\u67082\\u5468\", \"9\\u67083\\u5468\", \"9\\u67084\\u5468\", \"10\\u67082\\u5468\"], \"y\": [null, 2.0, 1.0, null, null], \"type\": \"bar\", \"uid\": \"b179d3ef-d016-11e8-8ddb-a41f72875c19\"}, {\"name\": \"\\u5b9e\\u9645\\u4ea4\\u4ed8\\u65f6\\u95f4(\\u6768\\u4f1f\\u98de)\", \"x\": [\"9\\u67081\\u5468\", \"9\\u67082\\u5468\", \"9\\u67083\\u5468\", \"9\\u67084\\u5468\", \"10\\u67082\\u5468\"], \"y\": [1.0, 2.0, null, null, null], \"type\": \"bar\", \"uid\": \"b179d3f0-d016-11e8-8ddb-a41f72875c19\"}, {\"name\": \"\\u5b9e\\u9645\\u4ea4\\u4ed8\\u65f6\\u95f4(\\u8d75\\u5029)\", \"x\": [\"9\\u67081\\u5468\", \"9\\u67082\\u5468\", \"9\\u67083\\u5468\", \"9\\u67084\\u5468\", \"10\\u67082\\u5468\"], \"y\": [1.0, 4.0, 5.0, 7.0, 1.0], \"type\": \"bar\", \"uid\": \"b179d3f1-d016-11e8-8ddb-a41f72875c19\"}], {\"barmode\": \"stack\", \"title\": \"\\u5b9e\\u9645\\u4ea4\\u4ed8\\u65f6\\u95f4\\u5468\\u8d8b\\u52bf\\u56fe\", \"xaxis\": {\"mirror\": \"all\", \"nticks\": 20, \"showgrid\": true, \"showline\": true, \"title\": \"\\u5468\", \"zeroline\": true}, \"yaxis\": {\"mirror\": \"all\", \"nticks\": 20, \"showgrid\": true, \"showline\": true, \"title\": \"\\u5b9e\\u9645\\u4ea4\\u4ed8\\u65f6\\u95f4\", \"zeroline\": true}}, {\"showLink\": true, \"linkText\": \"Export to plot.ly\"})});</script>"
>>>>>>> 2645079b727ccf7005842fd856e6ec984f2ff004
      ]
     },
     "metadata": {},
     "output_type": "display_data"
    }
   ],
   "source": [
    "ss = myModule.format(df4 ,'week_number' ,['实际交付时间'])\n",
    "ss.add_group('信息负责人')\n",
    "pp = myModule.sort_by_index(ss.groupby('count'))\n",
    "myModule.myPlot(pp).plot('stack_bar')"
   ]
  },
  {
   "cell_type": "markdown",
   "metadata": {},
   "source": [
    "## 完成周期统计"
   ]
  },
  {
   "cell_type": "markdown",
   "metadata": {},
   "source": [
    "### 整体完成周期趋势图"
   ]
  },
  {
   "cell_type": "code",
<<<<<<< HEAD
   "execution_count": 1478,
=======
   "execution_count": 1324,
>>>>>>> 2645079b727ccf7005842fd856e6ec984f2ff004
   "metadata": {
    "scrolled": true
   },
   "outputs": [
    {
     "data": {
      "application/vnd.plotly.v1+json": {
       "data": [
        {
         "name": "实际周期",
         "type": "scatter",
<<<<<<< HEAD
         "uid": "3f4124b7-d028-11e8-8ddb-a41f72875c19",
=======
         "uid": "b179d3f2-d016-11e8-8ddb-a41f72875c19",
>>>>>>> 2645079b727ccf7005842fd856e6ec984f2ff004
         "x": [
          "8月3周",
          "9月1周",
          "9月2周",
          "9月3周",
          "9月4周",
          "10月2周"
         ],
         "y": [
          -31,
          2.1176470588235294,
          4.742857142857143,
          4.212765957446808,
          4.622222222222222,
          5.4375
         ]
        }
       ],
       "layout": {
        "title": "实际周期周趋势图",
        "xaxis": {
         "mirror": "all",
         "nticks": 20,
         "showgrid": true,
         "showline": true,
         "title": "周",
         "zeroline": true
        },
        "yaxis": {
         "mirror": "all",
         "nticks": 20,
         "showgrid": true,
         "showline": true,
         "title": "实际周期",
         "zeroline": true
        }
       }
      },
      "text/html": [
<<<<<<< HEAD
       "<div id=\"2f3254b3-69c3-4929-8ad7-457c094609fd\" style=\"height: 525px; width: 100%;\" class=\"plotly-graph-div\"></div><script type=\"text/javascript\">require([\"plotly\"], function(Plotly) { window.PLOTLYENV=window.PLOTLYENV || {};window.PLOTLYENV.BASE_URL=\"https://plot.ly\";Plotly.newPlot(\"2f3254b3-69c3-4929-8ad7-457c094609fd\", [{\"name\": \"\\u5b9e\\u9645\\u5468\\u671f\", \"x\": [\"8\\u67083\\u5468\", \"9\\u67081\\u5468\", \"9\\u67082\\u5468\", \"9\\u67083\\u5468\", \"9\\u67084\\u5468\", \"10\\u67082\\u5468\"], \"y\": [-31.0, 2.1176470588235294, 4.742857142857143, 4.212765957446808, 4.622222222222222, 5.4375], \"type\": \"scatter\", \"uid\": \"3f4124b7-d028-11e8-8ddb-a41f72875c19\"}], {\"title\": \"\\u5b9e\\u9645\\u5468\\u671f\\u5468\\u8d8b\\u52bf\\u56fe\", \"xaxis\": {\"mirror\": \"all\", \"nticks\": 20, \"showgrid\": true, \"showline\": true, \"title\": \"\\u5468\", \"zeroline\": true}, \"yaxis\": {\"mirror\": \"all\", \"nticks\": 20, \"showgrid\": true, \"showline\": true, \"title\": \"\\u5b9e\\u9645\\u5468\\u671f\", \"zeroline\": true}}, {\"showLink\": true, \"linkText\": \"Export to plot.ly\"})});</script>"
      ],
      "text/vnd.plotly.v1+html": [
       "<div id=\"2f3254b3-69c3-4929-8ad7-457c094609fd\" style=\"height: 525px; width: 100%;\" class=\"plotly-graph-div\"></div><script type=\"text/javascript\">require([\"plotly\"], function(Plotly) { window.PLOTLYENV=window.PLOTLYENV || {};window.PLOTLYENV.BASE_URL=\"https://plot.ly\";Plotly.newPlot(\"2f3254b3-69c3-4929-8ad7-457c094609fd\", [{\"name\": \"\\u5b9e\\u9645\\u5468\\u671f\", \"x\": [\"8\\u67083\\u5468\", \"9\\u67081\\u5468\", \"9\\u67082\\u5468\", \"9\\u67083\\u5468\", \"9\\u67084\\u5468\", \"10\\u67082\\u5468\"], \"y\": [-31.0, 2.1176470588235294, 4.742857142857143, 4.212765957446808, 4.622222222222222, 5.4375], \"type\": \"scatter\", \"uid\": \"3f4124b7-d028-11e8-8ddb-a41f72875c19\"}], {\"title\": \"\\u5b9e\\u9645\\u5468\\u671f\\u5468\\u8d8b\\u52bf\\u56fe\", \"xaxis\": {\"mirror\": \"all\", \"nticks\": 20, \"showgrid\": true, \"showline\": true, \"title\": \"\\u5468\", \"zeroline\": true}, \"yaxis\": {\"mirror\": \"all\", \"nticks\": 20, \"showgrid\": true, \"showline\": true, \"title\": \"\\u5b9e\\u9645\\u5468\\u671f\", \"zeroline\": true}}, {\"showLink\": true, \"linkText\": \"Export to plot.ly\"})});</script>"
=======
       "<div id=\"5cf36240-362a-4072-a6b2-071e2cb4c39c\" style=\"height: 525px; width: 100%;\" class=\"plotly-graph-div\"></div><script type=\"text/javascript\">require([\"plotly\"], function(Plotly) { window.PLOTLYENV=window.PLOTLYENV || {};window.PLOTLYENV.BASE_URL=\"https://plot.ly\";Plotly.newPlot(\"5cf36240-362a-4072-a6b2-071e2cb4c39c\", [{\"name\": \"\\u5b9e\\u9645\\u5468\\u671f\", \"x\": [\"9\\u67081\\u5468\", \"9\\u67082\\u5468\", \"9\\u67083\\u5468\", \"9\\u67084\\u5468\", \"10\\u67082\\u5468\"], \"y\": [2.1176470588235294, 4.742857142857143, 4.304347826086956, 4.619047619047619, 14.5], \"type\": \"scatter\", \"uid\": \"b179d3f2-d016-11e8-8ddb-a41f72875c19\"}], {\"title\": \"\\u5b9e\\u9645\\u5468\\u671f\\u5468\\u8d8b\\u52bf\\u56fe\", \"xaxis\": {\"mirror\": \"all\", \"nticks\": 20, \"showgrid\": true, \"showline\": true, \"title\": \"\\u5468\", \"zeroline\": true}, \"yaxis\": {\"mirror\": \"all\", \"nticks\": 20, \"showgrid\": true, \"showline\": true, \"title\": \"\\u5b9e\\u9645\\u5468\\u671f\", \"zeroline\": true}}, {\"showLink\": true, \"linkText\": \"Export to plot.ly\"})});</script>"
      ],
      "text/vnd.plotly.v1+html": [
       "<div id=\"5cf36240-362a-4072-a6b2-071e2cb4c39c\" style=\"height: 525px; width: 100%;\" class=\"plotly-graph-div\"></div><script type=\"text/javascript\">require([\"plotly\"], function(Plotly) { window.PLOTLYENV=window.PLOTLYENV || {};window.PLOTLYENV.BASE_URL=\"https://plot.ly\";Plotly.newPlot(\"5cf36240-362a-4072-a6b2-071e2cb4c39c\", [{\"name\": \"\\u5b9e\\u9645\\u5468\\u671f\", \"x\": [\"9\\u67081\\u5468\", \"9\\u67082\\u5468\", \"9\\u67083\\u5468\", \"9\\u67084\\u5468\", \"10\\u67082\\u5468\"], \"y\": [2.1176470588235294, 4.742857142857143, 4.304347826086956, 4.619047619047619, 14.5], \"type\": \"scatter\", \"uid\": \"b179d3f2-d016-11e8-8ddb-a41f72875c19\"}], {\"title\": \"\\u5b9e\\u9645\\u5468\\u671f\\u5468\\u8d8b\\u52bf\\u56fe\", \"xaxis\": {\"mirror\": \"all\", \"nticks\": 20, \"showgrid\": true, \"showline\": true, \"title\": \"\\u5468\", \"zeroline\": true}, \"yaxis\": {\"mirror\": \"all\", \"nticks\": 20, \"showgrid\": true, \"showline\": true, \"title\": \"\\u5b9e\\u9645\\u5468\\u671f\", \"zeroline\": true}}, {\"showLink\": true, \"linkText\": \"Export to plot.ly\"})});</script>"
>>>>>>> 2645079b727ccf7005842fd856e6ec984f2ff004
      ]
     },
     "metadata": {},
     "output_type": "display_data"
    }
   ],
   "source": [
    "# 实际完成平均周期，建议添加最长完成周期、25%、50%、80%项目完成周期的指标\n",
    "ss = myModule.format(df4 ,'week_number' ,['实际周期'])\n",
    "pp = myModule.sort_by_index(ss.groupby('mean'))\n",
    "myModule.myPlot(pp).plot('line')"
   ]
  },
  {
   "cell_type": "markdown",
   "metadata": {},
   "source": [
    "### 个人完成周期统计"
   ]
  },
  {
   "cell_type": "code",
<<<<<<< HEAD
   "execution_count": 1479,
=======
   "execution_count": 1325,
>>>>>>> 2645079b727ccf7005842fd856e6ec984f2ff004
   "metadata": {
    "scrolled": true
   },
   "outputs": [
    {
     "data": {
      "application/vnd.plotly.v1+json": {
       "data": [
        {
         "name": "实际周期",
         "type": "bar",
<<<<<<< HEAD
         "uid": "3f4124b8-d028-11e8-8ddb-a41f72875c19",
=======
         "uid": "b179d3f3-d016-11e8-8ddb-a41f72875c19",
>>>>>>> 2645079b727ccf7005842fd856e6ec984f2ff004
         "x": [
          "何胜",
          "冯敬岩",
          "刘梦苑",
          "刘永强",
          "宋少宇",
          "朱慧萍",
          "杨宇",
          "王霞",
          "解飞",
          "赵倩",
          "闻少楠",
          "陈碧雯"
         ],
         "y": [
          3.5,
          4.230769230769231,
          2.4444444444444446,
          10,
          1,
          4.1875,
          4,
          3.7777777777777777,
          1,
          5.6,
          3,
          4.7
         ]
        }
       ],
       "layout": {
        "title": "实际周期周趋势图",
        "xaxis": {
         "mirror": "all",
         "nticks": 20,
         "showgrid": true,
         "showline": true,
         "title": "周",
         "zeroline": true
        },
        "yaxis": {
         "mirror": "all",
         "nticks": 20,
         "showgrid": true,
         "showline": true,
         "title": "实际周期",
         "zeroline": true
        }
       }
      },
      "text/html": [
<<<<<<< HEAD
       "<div id=\"8f1703a6-e2fc-4597-b5e5-25e31b751131\" style=\"height: 525px; width: 100%;\" class=\"plotly-graph-div\"></div><script type=\"text/javascript\">require([\"plotly\"], function(Plotly) { window.PLOTLYENV=window.PLOTLYENV || {};window.PLOTLYENV.BASE_URL=\"https://plot.ly\";Plotly.newPlot(\"8f1703a6-e2fc-4597-b5e5-25e31b751131\", [{\"name\": \"\\u5b9e\\u9645\\u5468\\u671f\", \"x\": [\"\\u4f55\\u80dc\", \"\\u51af\\u656c\\u5ca9\", \"\\u5218\\u68a6\\u82d1\", \"\\u5218\\u6c38\\u5f3a\", \"\\u5b8b\\u5c11\\u5b87\", \"\\u6731\\u6167\\u840d\", \"\\u6768\\u5b87\", \"\\u738b\\u971e\", \"\\u89e3\\u98de\", \"\\u8d75\\u5029\", \"\\u95fb\\u5c11\\u6960\", \"\\u9648\\u78a7\\u96ef\"], \"y\": [3.5, 4.230769230769231, 2.4444444444444446, 10.0, 1.0, 4.1875, 4.0, 3.7777777777777777, 1.0, 5.6, 3.0, 4.7], \"type\": \"bar\", \"uid\": \"3f4124b8-d028-11e8-8ddb-a41f72875c19\"}], {\"title\": \"\\u5b9e\\u9645\\u5468\\u671f\\u5468\\u8d8b\\u52bf\\u56fe\", \"xaxis\": {\"mirror\": \"all\", \"nticks\": 20, \"showgrid\": true, \"showline\": true, \"title\": \"\\u5468\", \"zeroline\": true}, \"yaxis\": {\"mirror\": \"all\", \"nticks\": 20, \"showgrid\": true, \"showline\": true, \"title\": \"\\u5b9e\\u9645\\u5468\\u671f\", \"zeroline\": true}}, {\"showLink\": true, \"linkText\": \"Export to plot.ly\"})});</script>"
      ],
      "text/vnd.plotly.v1+html": [
       "<div id=\"8f1703a6-e2fc-4597-b5e5-25e31b751131\" style=\"height: 525px; width: 100%;\" class=\"plotly-graph-div\"></div><script type=\"text/javascript\">require([\"plotly\"], function(Plotly) { window.PLOTLYENV=window.PLOTLYENV || {};window.PLOTLYENV.BASE_URL=\"https://plot.ly\";Plotly.newPlot(\"8f1703a6-e2fc-4597-b5e5-25e31b751131\", [{\"name\": \"\\u5b9e\\u9645\\u5468\\u671f\", \"x\": [\"\\u4f55\\u80dc\", \"\\u51af\\u656c\\u5ca9\", \"\\u5218\\u68a6\\u82d1\", \"\\u5218\\u6c38\\u5f3a\", \"\\u5b8b\\u5c11\\u5b87\", \"\\u6731\\u6167\\u840d\", \"\\u6768\\u5b87\", \"\\u738b\\u971e\", \"\\u89e3\\u98de\", \"\\u8d75\\u5029\", \"\\u95fb\\u5c11\\u6960\", \"\\u9648\\u78a7\\u96ef\"], \"y\": [3.5, 4.230769230769231, 2.4444444444444446, 10.0, 1.0, 4.1875, 4.0, 3.7777777777777777, 1.0, 5.6, 3.0, 4.7], \"type\": \"bar\", \"uid\": \"3f4124b8-d028-11e8-8ddb-a41f72875c19\"}], {\"title\": \"\\u5b9e\\u9645\\u5468\\u671f\\u5468\\u8d8b\\u52bf\\u56fe\", \"xaxis\": {\"mirror\": \"all\", \"nticks\": 20, \"showgrid\": true, \"showline\": true, \"title\": \"\\u5468\", \"zeroline\": true}, \"yaxis\": {\"mirror\": \"all\", \"nticks\": 20, \"showgrid\": true, \"showline\": true, \"title\": \"\\u5b9e\\u9645\\u5468\\u671f\", \"zeroline\": true}}, {\"showLink\": true, \"linkText\": \"Export to plot.ly\"})});</script>"
=======
       "<div id=\"6ce7b277-c2ea-4ea4-94b2-c44167465005\" style=\"height: 525px; width: 100%;\" class=\"plotly-graph-div\"></div><script type=\"text/javascript\">require([\"plotly\"], function(Plotly) { window.PLOTLYENV=window.PLOTLYENV || {};window.PLOTLYENV.BASE_URL=\"https://plot.ly\";Plotly.newPlot(\"6ce7b277-c2ea-4ea4-94b2-c44167465005\", [{\"name\": \"\\u5b9e\\u9645\\u5468\\u671f\", \"x\": [\"\\u4f55\\u80dc\", \"\\u51af\\u656c\\u5ca9\", \"\\u5218\\u68a6\\u82d1\", \"\\u5218\\u6c38\\u5f3a\", \"\\u5b8b\\u5c11\\u5b87\", \"\\u6731\\u6167\\u840d\", \"\\u6768\\u5b87\", \"\\u738b\\u971e\", \"\\u8d75\\u5029\", \"\\u95fb\\u5c11\\u6960\", \"\\u9648\\u78a7\\u96ef\"], \"y\": [4.2, 4.444444444444445, 1.2, 4.0, 1.0, 4.642857142857143, 4.125, 4.285714285714286, 5.444444444444445, 2.75, 4.888888888888889], \"type\": \"bar\", \"uid\": \"b179d3f3-d016-11e8-8ddb-a41f72875c19\"}], {\"title\": \"\\u5b9e\\u9645\\u5468\\u671f\\u5468\\u8d8b\\u52bf\\u56fe\", \"xaxis\": {\"mirror\": \"all\", \"nticks\": 20, \"showgrid\": true, \"showline\": true, \"title\": \"\\u5468\", \"zeroline\": true}, \"yaxis\": {\"mirror\": \"all\", \"nticks\": 20, \"showgrid\": true, \"showline\": true, \"title\": \"\\u5b9e\\u9645\\u5468\\u671f\", \"zeroline\": true}}, {\"showLink\": true, \"linkText\": \"Export to plot.ly\"})});</script>"
      ],
      "text/vnd.plotly.v1+html": [
       "<div id=\"6ce7b277-c2ea-4ea4-94b2-c44167465005\" style=\"height: 525px; width: 100%;\" class=\"plotly-graph-div\"></div><script type=\"text/javascript\">require([\"plotly\"], function(Plotly) { window.PLOTLYENV=window.PLOTLYENV || {};window.PLOTLYENV.BASE_URL=\"https://plot.ly\";Plotly.newPlot(\"6ce7b277-c2ea-4ea4-94b2-c44167465005\", [{\"name\": \"\\u5b9e\\u9645\\u5468\\u671f\", \"x\": [\"\\u4f55\\u80dc\", \"\\u51af\\u656c\\u5ca9\", \"\\u5218\\u68a6\\u82d1\", \"\\u5218\\u6c38\\u5f3a\", \"\\u5b8b\\u5c11\\u5b87\", \"\\u6731\\u6167\\u840d\", \"\\u6768\\u5b87\", \"\\u738b\\u971e\", \"\\u8d75\\u5029\", \"\\u95fb\\u5c11\\u6960\", \"\\u9648\\u78a7\\u96ef\"], \"y\": [4.2, 4.444444444444445, 1.2, 4.0, 1.0, 4.642857142857143, 4.125, 4.285714285714286, 5.444444444444445, 2.75, 4.888888888888889], \"type\": \"bar\", \"uid\": \"b179d3f3-d016-11e8-8ddb-a41f72875c19\"}], {\"title\": \"\\u5b9e\\u9645\\u5468\\u671f\\u5468\\u8d8b\\u52bf\\u56fe\", \"xaxis\": {\"mirror\": \"all\", \"nticks\": 20, \"showgrid\": true, \"showline\": true, \"title\": \"\\u5468\", \"zeroline\": true}, \"yaxis\": {\"mirror\": \"all\", \"nticks\": 20, \"showgrid\": true, \"showline\": true, \"title\": \"\\u5b9e\\u9645\\u5468\\u671f\", \"zeroline\": true}}, {\"showLink\": true, \"linkText\": \"Export to plot.ly\"})});</script>"
>>>>>>> 2645079b727ccf7005842fd856e6ec984f2ff004
      ]
     },
     "metadata": {},
     "output_type": "display_data"
    }
   ],
   "source": [
    "df4_fx = df4[df4['信息负责人'].isin(fenxi)] \n",
    "ss = myModule.format(df4_fx,'信息负责人' ,['实际周期'])\n",
    "pp = ss.groupby('mean')\n",
    "myModule.myPlot(pp).plot('bar')"
   ]
  },
  {
   "cell_type": "markdown",
   "metadata": {},
   "source": [
    "### 实际周期>7日项目列表"
   ]
  },
  {
   "cell_type": "code",
<<<<<<< HEAD
   "execution_count": 1480,
=======
   "execution_count": 1326,
>>>>>>> 2645079b727ccf7005842fd856e6ec984f2ff004
   "metadata": {
    "scrolled": true
   },
   "outputs": [
    {
     "data": {
      "text/html": [
       "<div>\n",
       "<style scoped>\n",
       "    .dataframe tbody tr th:only-of-type {\n",
       "        vertical-align: middle;\n",
       "    }\n",
       "\n",
       "    .dataframe tbody tr th {\n",
       "        vertical-align: top;\n",
       "    }\n",
       "\n",
       "    .dataframe thead th {\n",
       "        text-align: right;\n",
       "    }\n",
       "</style>\n",
       "<table border=\"1\" class=\"dataframe\">\n",
       "  <thead>\n",
       "    <tr style=\"text-align: right;\">\n",
       "      <th></th>\n",
       "      <th>week_number</th>\n",
       "      <th>流水号</th>\n",
       "      <th>个性化分析名称</th>\n",
       "      <th>信息负责人</th>\n",
       "      <th>评估反馈时间</th>\n",
       "      <th>预计交付时间</th>\n",
       "      <th>实际交付时间</th>\n",
       "      <th>实际周期</th>\n",
       "    </tr>\n",
       "  </thead>\n",
       "  <tbody>\n",
       "    <tr>\n",
       "      <th>124</th>\n",
       "      <td>10月2周</td>\n",
       "      <td>20180920-003</td>\n",
       "      <td>PM-BJ170057-01、02/03北京蛋白质组研究中心4个小鼠10XGenomics文...</td>\n",
       "      <td>姚盟成</td>\n",
       "      <td>2018-09-20</td>\n",
       "      <td>2018-10-12</td>\n",
       "      <td>2018-10-12</td>\n",
       "      <td>22</td>\n",
       "    </tr>\n",
       "    <tr>\n",
       "      <th>136</th>\n",
       "      <td>10月2周</td>\n",
       "      <td>20180921-007</td>\n",
       "      <td>BJ181222-02遗传所1个植物全长转录组只分析任务单-01</td>\n",
       "      <td>刘永强</td>\n",
       "      <td>2018-09-25</td>\n",
       "      <td>2018-10-11</td>\n",
       "      <td>2018-10-11</td>\n",
       "      <td>16</td>\n",
       "    </tr>\n",
       "    <tr>\n",
       "      <th>172</th>\n",
       "      <td>10月2周</td>\n",
       "      <td>20180926-011</td>\n",
       "      <td>SD170144-04生物所24个爪蟾有参转录组建库测序分析任务单-05</td>\n",
       "      <td>陈碧雯</td>\n",
       "      <td>2018-09-27</td>\n",
       "      <td>2018-10-11</td>\n",
       "      <td>2018-10-10</td>\n",
       "      <td>13</td>\n",
       "    </tr>\n",
       "    <tr>\n",
       "      <th>174</th>\n",
       "      <td>10月2周</td>\n",
       "      <td>20180927-002</td>\n",
       "      <td>.南通大学300个大鼠神经元单细胞lncRNA建库测序分析任务单-VIP-04</td>\n",
       "      <td>赵倩</td>\n",
       "      <td>2018-09-27</td>\n",
       "      <td>2018-09-29</td>\n",
       "      <td>2018-10-10</td>\n",
       "      <td>13</td>\n",
       "    </tr>\n",
       "    <tr>\n",
       "      <th>169</th>\n",
       "      <td>10月2周</td>\n",
       "      <td>20180926-008</td>\n",
       "      <td>JL180047-01中国农业科学院特产研究所18个水貂单细胞无参转录组只分析任务单-02</td>\n",
       "      <td>何胜</td>\n",
       "      <td>2018-09-27</td>\n",
       "      <td>2018-10-10</td>\n",
       "      <td>2018-10-09</td>\n",
       "      <td>12</td>\n",
       "    </tr>\n",
       "    <tr>\n",
       "      <th>175</th>\n",
       "      <td>10月2周</td>\n",
       "      <td>20180927-003</td>\n",
       "      <td>BJ170165-02中科院动物所10个小鼠单细胞甲基化建库任务单-04</td>\n",
       "      <td>韩少怀</td>\n",
       "      <td>2018-09-28</td>\n",
       "      <td>2018-10-10</td>\n",
       "      <td>2018-10-10</td>\n",
       "      <td>12</td>\n",
       "    </tr>\n",
       "    <tr>\n",
       "      <th>159</th>\n",
       "      <td>10月2周</td>\n",
       "      <td>20180925-010</td>\n",
       "      <td>PM-YWHB180242-02华科协和医院1个人外显子建库测序分析任务单-快速产品-01</td>\n",
       "      <td>昶吉阳</td>\n",
       "      <td>2018-09-28</td>\n",
       "      <td>2018-10-09</td>\n",
       "      <td>2018-10-09</td>\n",
       "      <td>11</td>\n",
       "    </tr>\n",
       "    <tr>\n",
       "      <th>185</th>\n",
       "      <td>10月2周</td>\n",
       "      <td>20180928-006</td>\n",
       "      <td>PM-BJ180911-01中国农业科学院北京畜牧所12个牛单细胞全转录组建库测序分析任务单...</td>\n",
       "      <td>冯敬岩</td>\n",
       "      <td>2018-09-30</td>\n",
       "      <td>2018-10-12</td>\n",
       "      <td>2018-10-11</td>\n",
       "      <td>11</td>\n",
       "    </tr>\n",
       "    <tr>\n",
       "      <th>180</th>\n",
       "      <td>10月2周</td>\n",
       "      <td>20180928-001</td>\n",
       "      <td>PM-BJ180995-01中科院遗传所6个小鼠卵细胞单细胞转录组建库测序分析任务单-03</td>\n",
       "      <td>赵倩</td>\n",
       "      <td>2018-09-29</td>\n",
       "      <td>2018-10-09</td>\n",
       "      <td>2018-10-09</td>\n",
       "      <td>10</td>\n",
       "    </tr>\n",
       "    <tr>\n",
       "      <th>187</th>\n",
       "      <td>10月2周</td>\n",
       "      <td>20180929-001</td>\n",
       "      <td>PM-BJ181079-02动物所32个小鼠ChIP-DNA建库测序分析任务单-01</td>\n",
       "      <td>昶吉阳</td>\n",
       "      <td>2018-09-30</td>\n",
       "      <td>2018-10-12</td>\n",
       "      <td>2018-10-09</td>\n",
       "      <td>9</td>\n",
       "    </tr>\n",
       "    <tr>\n",
       "      <th>192</th>\n",
       "      <td>10月2周</td>\n",
       "      <td>20180929-007</td>\n",
       "      <td>PM-BJ181125-03阜外医院6个大鼠Bisulfite甲基化建库测序分析任务单-01</td>\n",
       "      <td>刘梦苑</td>\n",
       "      <td>2018-09-30</td>\n",
       "      <td>2018-10-12</td>\n",
       "      <td>2018-10-09</td>\n",
       "      <td>9</td>\n",
       "    </tr>\n",
       "  </tbody>\n",
       "</table>\n",
       "</div>"
      ],
      "text/plain": [
       "    week_number           流水号  \\\n",
       "124       10月2周  20180920-003   \n",
       "136       10月2周  20180921-007   \n",
       "172       10月2周  20180926-011   \n",
       "174       10月2周  20180927-002   \n",
       "169       10月2周  20180926-008   \n",
       "175       10月2周  20180927-003   \n",
       "159       10月2周  20180925-010   \n",
       "185       10月2周  20180928-006   \n",
       "180       10月2周  20180928-001   \n",
       "187       10月2周  20180929-001   \n",
       "192       10月2周  20180929-007   \n",
       "\n",
       "                                               个性化分析名称 信息负责人     评估反馈时间  \\\n",
       "124  PM-BJ170057-01、02/03北京蛋白质组研究中心4个小鼠10XGenomics文...   姚盟成 2018-09-20   \n",
       "136                   BJ181222-02遗传所1个植物全长转录组只分析任务单-01   刘永强 2018-09-25   \n",
       "172               SD170144-04生物所24个爪蟾有参转录组建库测序分析任务单-05   陈碧雯 2018-09-27   \n",
       "174            .南通大学300个大鼠神经元单细胞lncRNA建库测序分析任务单-VIP-04    赵倩 2018-09-27   \n",
       "169      JL180047-01中国农业科学院特产研究所18个水貂单细胞无参转录组只分析任务单-02    何胜 2018-09-27   \n",
       "175               BJ170165-02中科院动物所10个小鼠单细胞甲基化建库任务单-04   韩少怀 2018-09-28   \n",
       "159      PM-YWHB180242-02华科协和医院1个人外显子建库测序分析任务单-快速产品-01   昶吉阳 2018-09-28   \n",
       "185  PM-BJ180911-01中国农业科学院北京畜牧所12个牛单细胞全转录组建库测序分析任务单...   冯敬岩 2018-09-30   \n",
       "180      PM-BJ180995-01中科院遗传所6个小鼠卵细胞单细胞转录组建库测序分析任务单-03    赵倩 2018-09-29   \n",
       "187         PM-BJ181079-02动物所32个小鼠ChIP-DNA建库测序分析任务单-01   昶吉阳 2018-09-30   \n",
       "192     PM-BJ181125-03阜外医院6个大鼠Bisulfite甲基化建库测序分析任务单-01   刘梦苑 2018-09-30   \n",
       "\n",
       "        预计交付时间     实际交付时间  实际周期  \n",
       "124 2018-10-12 2018-10-12    22  \n",
       "136 2018-10-11 2018-10-11    16  \n",
       "172 2018-10-11 2018-10-10    13  \n",
       "174 2018-09-29 2018-10-10    13  \n",
       "169 2018-10-10 2018-10-09    12  \n",
       "175 2018-10-10 2018-10-10    12  \n",
       "159 2018-10-09 2018-10-09    11  \n",
       "185 2018-10-12 2018-10-11    11  \n",
       "180 2018-10-09 2018-10-09    10  \n",
       "187 2018-10-12 2018-10-09     9  \n",
       "192 2018-10-12 2018-10-09     9  "
      ]
     },
<<<<<<< HEAD
     "execution_count": 1480,
=======
     "execution_count": 1326,
>>>>>>> 2645079b727ccf7005842fd856e6ec984f2ff004
     "metadata": {},
     "output_type": "execute_result"
    }
   ],
   "source": [
    "# 实际周期>7日项目列表\n",
    "ss = myModule.format(df4,'week_number',['流水号','个性化分析名称','信息负责人','评估反馈时间','预计交付时间','实际交付时间','实际周期'])\n",
    "ss.select_by_value('week_number',stat_week)\n",
    "ss.judge_and_replace('实际周期',7)\n",
    "ss.select_by_value('实际周期_bool',True)\n",
    "tt = myModule.format(ss.df,'week_number',['流水号','个性化分析名称','信息负责人','评估反馈时间','预计交付时间','实际交付时间','实际周期']).df\n",
    "tt.sort_values(by = '实际周期',axis = 0,ascending = False)"
   ]
  },
  {
   "cell_type": "markdown",
   "metadata": {},
   "source": [
    "# 延期情况统计"
   ]
  },
  {
   "cell_type": "markdown",
   "metadata": {},
   "source": [
    "## 延期率趋势图"
   ]
  },
  {
   "cell_type": "code",
<<<<<<< HEAD
   "execution_count": 1481,
=======
   "execution_count": 1327,
>>>>>>> 2645079b727ccf7005842fd856e6ec984f2ff004
   "metadata": {
    "scrolled": true
   },
   "outputs": [
    {
     "name": "stderr",
     "output_type": "stream",
     "text": [
      "/home/jiankong/jupyter/chart/bin/supplment_analysis/myModule.py:244: SettingWithCopyWarning:\n",
      "\n",
      "\n",
      "A value is trying to be set on a copy of a slice from a DataFrame.\n",
      "Try using .loc[row_indexer,col_indexer] = value instead\n",
      "\n",
      "See the caveats in the documentation: http://pandas.pydata.org/pandas-docs/stable/indexing.html#indexing-view-versus-copy\n",
      "\n",
      "/home/jiankong/anaconda3/lib/python3.6/site-packages/ipykernel/__main__.py:3: SettingWithCopyWarning:\n",
      "\n",
      "\n",
      "A value is trying to be set on a copy of a slice from a DataFrame.\n",
      "Try using .loc[row_indexer,col_indexer] = value instead\n",
      "\n",
      "See the caveats in the documentation: http://pandas.pydata.org/pandas-docs/stable/indexing.html#indexing-view-versus-copy\n",
      "\n",
      "/home/jiankong/anaconda3/lib/python3.6/site-packages/ipykernel/__main__.py:4: SettingWithCopyWarning:\n",
      "\n",
      "\n",
      "A value is trying to be set on a copy of a slice from a DataFrame.\n",
      "Try using .loc[row_indexer,col_indexer] = value instead\n",
      "\n",
      "See the caveats in the documentation: http://pandas.pydata.org/pandas-docs/stable/indexing.html#indexing-view-versus-copy\n",
      "\n"
     ]
    },
    {
     "data": {
      "application/vnd.plotly.v1+json": {
       "data": [
        {
         "name": "项目延期率",
         "type": "scatter",
<<<<<<< HEAD
         "uid": "3f4124b9-d028-11e8-8ddb-a41f72875c19",
=======
         "uid": "b179d3f4-d016-11e8-8ddb-a41f72875c19",
>>>>>>> 2645079b727ccf7005842fd856e6ec984f2ff004
         "x": [
          "9月1周",
          "9月2周",
          "9月3周",
          "9月4周",
          "10月2周",
          "10月3周"
         ],
         "y": [
          0,
          0,
<<<<<<< HEAD
          0.023809523809523808,
          0.034482758620689655,
          0.23529411764705882,
          0
=======
          0.024390243902439025,
          0.03571428571428571,
          0.6363636363636364
>>>>>>> 2645079b727ccf7005842fd856e6ec984f2ff004
         ]
        }
       ],
       "layout": {
        "title": "项目延期率周趋势图",
        "xaxis": {
         "mirror": "all",
         "nticks": 20,
         "showgrid": true,
         "showline": true,
         "title": "周",
         "zeroline": true
        },
        "yaxis": {
         "mirror": "all",
         "nticks": 20,
         "showgrid": true,
         "showline": true,
         "title": "项目延期率",
         "zeroline": true
        }
       }
      },
      "text/html": [
<<<<<<< HEAD
       "<div id=\"1effd6ad-f063-4051-b117-763bd6538f10\" style=\"height: 525px; width: 100%;\" class=\"plotly-graph-div\"></div><script type=\"text/javascript\">require([\"plotly\"], function(Plotly) { window.PLOTLYENV=window.PLOTLYENV || {};window.PLOTLYENV.BASE_URL=\"https://plot.ly\";Plotly.newPlot(\"1effd6ad-f063-4051-b117-763bd6538f10\", [{\"name\": \"\\u9879\\u76ee\\u5ef6\\u671f\\u7387\", \"x\": [\"9\\u67081\\u5468\", \"9\\u67082\\u5468\", \"9\\u67083\\u5468\", \"9\\u67084\\u5468\", \"10\\u67082\\u5468\", \"10\\u67083\\u5468\"], \"y\": [0.0, 0.0, 0.023809523809523808, 0.034482758620689655, 0.23529411764705882, 0.0], \"type\": \"scatter\", \"uid\": \"3f4124b9-d028-11e8-8ddb-a41f72875c19\"}], {\"title\": \"\\u9879\\u76ee\\u5ef6\\u671f\\u7387\\u5468\\u8d8b\\u52bf\\u56fe\", \"xaxis\": {\"mirror\": \"all\", \"nticks\": 20, \"showgrid\": true, \"showline\": true, \"title\": \"\\u5468\", \"zeroline\": true}, \"yaxis\": {\"mirror\": \"all\", \"nticks\": 20, \"showgrid\": true, \"showline\": true, \"title\": \"\\u9879\\u76ee\\u5ef6\\u671f\\u7387\", \"zeroline\": true}}, {\"showLink\": true, \"linkText\": \"Export to plot.ly\"})});</script>"
      ],
      "text/vnd.plotly.v1+html": [
       "<div id=\"1effd6ad-f063-4051-b117-763bd6538f10\" style=\"height: 525px; width: 100%;\" class=\"plotly-graph-div\"></div><script type=\"text/javascript\">require([\"plotly\"], function(Plotly) { window.PLOTLYENV=window.PLOTLYENV || {};window.PLOTLYENV.BASE_URL=\"https://plot.ly\";Plotly.newPlot(\"1effd6ad-f063-4051-b117-763bd6538f10\", [{\"name\": \"\\u9879\\u76ee\\u5ef6\\u671f\\u7387\", \"x\": [\"9\\u67081\\u5468\", \"9\\u67082\\u5468\", \"9\\u67083\\u5468\", \"9\\u67084\\u5468\", \"10\\u67082\\u5468\", \"10\\u67083\\u5468\"], \"y\": [0.0, 0.0, 0.023809523809523808, 0.034482758620689655, 0.23529411764705882, 0.0], \"type\": \"scatter\", \"uid\": \"3f4124b9-d028-11e8-8ddb-a41f72875c19\"}], {\"title\": \"\\u9879\\u76ee\\u5ef6\\u671f\\u7387\\u5468\\u8d8b\\u52bf\\u56fe\", \"xaxis\": {\"mirror\": \"all\", \"nticks\": 20, \"showgrid\": true, \"showline\": true, \"title\": \"\\u5468\", \"zeroline\": true}, \"yaxis\": {\"mirror\": \"all\", \"nticks\": 20, \"showgrid\": true, \"showline\": true, \"title\": \"\\u9879\\u76ee\\u5ef6\\u671f\\u7387\", \"zeroline\": true}}, {\"showLink\": true, \"linkText\": \"Export to plot.ly\"})});</script>"
=======
       "<div id=\"9ee43352-2d8f-44e4-ab4c-edb7621593cd\" style=\"height: 525px; width: 100%;\" class=\"plotly-graph-div\"></div><script type=\"text/javascript\">require([\"plotly\"], function(Plotly) { window.PLOTLYENV=window.PLOTLYENV || {};window.PLOTLYENV.BASE_URL=\"https://plot.ly\";Plotly.newPlot(\"9ee43352-2d8f-44e4-ab4c-edb7621593cd\", [{\"name\": \"\\u9879\\u76ee\\u5ef6\\u671f\\u7387\", \"x\": [\"9\\u67081\\u5468\", \"9\\u67082\\u5468\", \"9\\u67083\\u5468\", \"9\\u67084\\u5468\", \"10\\u67082\\u5468\"], \"y\": [0.0, 0.0, 0.024390243902439025, 0.03571428571428571, 0.6363636363636364], \"type\": \"scatter\", \"uid\": \"b179d3f4-d016-11e8-8ddb-a41f72875c19\"}], {\"title\": \"\\u9879\\u76ee\\u5ef6\\u671f\\u7387\\u5468\\u8d8b\\u52bf\\u56fe\", \"xaxis\": {\"mirror\": \"all\", \"nticks\": 20, \"showgrid\": true, \"showline\": true, \"title\": \"\\u5468\", \"zeroline\": true}, \"yaxis\": {\"mirror\": \"all\", \"nticks\": 20, \"showgrid\": true, \"showline\": true, \"title\": \"\\u9879\\u76ee\\u5ef6\\u671f\\u7387\", \"zeroline\": true}}, {\"showLink\": true, \"linkText\": \"Export to plot.ly\"})});</script>"
      ],
      "text/vnd.plotly.v1+html": [
       "<div id=\"9ee43352-2d8f-44e4-ab4c-edb7621593cd\" style=\"height: 525px; width: 100%;\" class=\"plotly-graph-div\"></div><script type=\"text/javascript\">require([\"plotly\"], function(Plotly) { window.PLOTLYENV=window.PLOTLYENV || {};window.PLOTLYENV.BASE_URL=\"https://plot.ly\";Plotly.newPlot(\"9ee43352-2d8f-44e4-ab4c-edb7621593cd\", [{\"name\": \"\\u9879\\u76ee\\u5ef6\\u671f\\u7387\", \"x\": [\"9\\u67081\\u5468\", \"9\\u67082\\u5468\", \"9\\u67083\\u5468\", \"9\\u67084\\u5468\", \"10\\u67082\\u5468\"], \"y\": [0.0, 0.0, 0.024390243902439025, 0.03571428571428571, 0.6363636363636364], \"type\": \"scatter\", \"uid\": \"b179d3f4-d016-11e8-8ddb-a41f72875c19\"}], {\"title\": \"\\u9879\\u76ee\\u5ef6\\u671f\\u7387\\u5468\\u8d8b\\u52bf\\u56fe\", \"xaxis\": {\"mirror\": \"all\", \"nticks\": 20, \"showgrid\": true, \"showline\": true, \"title\": \"\\u5468\", \"zeroline\": true}, \"yaxis\": {\"mirror\": \"all\", \"nticks\": 20, \"showgrid\": true, \"showline\": true, \"title\": \"\\u9879\\u76ee\\u5ef6\\u671f\\u7387\", \"zeroline\": true}}, {\"showLink\": true, \"linkText\": \"Export to plot.ly\"})});</script>"
>>>>>>> 2645079b727ccf7005842fd856e6ec984f2ff004
      ]
     },
     "metadata": {},
     "output_type": "display_data"
    }
   ],
   "source": [
    "ss = myModule.format(df5 ,'week_number' ,['流水号','延期天数'])\n",
    "ss.judge_and_replace('延期天数',1)\n",
    "ss.df['流水号'] = list(map(changetype2, ss.df['流水号']))\n",
    "ss.df['延期天数_bool'] = ss.df['延期天数_bool'].astype(int)      #bool类型装换为数值1/0\n",
    "pp = myModule.sort_by_index(ss.get_total_ratio([['项目延期率' ,'延期天数_bool' , '流水号','/']]))\n",
    "myModule.myPlot(pp).plot('line')"
   ]
  },
  {
   "cell_type": "markdown",
   "metadata": {},
   "source": [
    "## 延期项目列表"
   ]
  },
  {
   "cell_type": "code",
<<<<<<< HEAD
   "execution_count": 1482,
   "metadata": {
    "collapsed": false
   },
=======
   "execution_count": 1328,
   "metadata": {},
>>>>>>> 2645079b727ccf7005842fd856e6ec984f2ff004
   "outputs": [
    {
     "data": {
      "text/html": [
       "<div>\n",
       "<style scoped>\n",
       "    .dataframe tbody tr th:only-of-type {\n",
       "        vertical-align: middle;\n",
       "    }\n",
       "\n",
       "    .dataframe tbody tr th {\n",
       "        vertical-align: top;\n",
       "    }\n",
       "\n",
       "    .dataframe thead th {\n",
       "        text-align: right;\n",
       "    }\n",
       "</style>\n",
       "<table border=\"1\" class=\"dataframe\">\n",
       "  <thead>\n",
       "    <tr style=\"text-align: right;\">\n",
       "      <th></th>\n",
       "      <th>week_number</th>\n",
       "      <th>流水号</th>\n",
       "      <th>个性化分析名称</th>\n",
       "      <th>信息负责人</th>\n",
       "      <th>评估反馈时间</th>\n",
       "      <th>预计交付时间</th>\n",
       "      <th>实际交付时间</th>\n",
       "    </tr>\n",
       "  </thead>\n",
       "  <tbody>\n",
       "    <tr>\n",
       "      <th>178</th>\n",
       "      <td>10月2周</td>\n",
       "      <td>20180927-006</td>\n",
       "      <td>PM-ZJ180327-01浙医二院35个人普通转录组建库测序过滤任务单-快速产品-01</td>\n",
       "      <td>屈昂</td>\n",
       "      <td>2018-09-30</td>\n",
       "      <td>2018-10-14</td>\n",
       "      <td>0</td>\n",
       "    </tr>\n",
       "    <tr>\n",
       "      <th>193</th>\n",
       "      <td>10月2周</td>\n",
       "      <td>20180930-001</td>\n",
       "      <td>SD170077-01山东大学齐鲁医院王刚的6个人单基因病外显子建库测序分析任务单-01</td>\n",
       "      <td>解飞</td>\n",
       "      <td>2018-09-30</td>\n",
       "      <td>2018-10-14</td>\n",
       "      <td>0</td>\n",
       "    </tr>\n",
       "    <tr>\n",
       "      <th>202</th>\n",
       "      <td>10月2周</td>\n",
       "      <td>20181008-005</td>\n",
       "      <td>BJ161019-03中国农业大学12个牛单细胞全转录组-06</td>\n",
       "      <td>刘梦苑</td>\n",
       "      <td>2018-10-08</td>\n",
       "      <td>2018-10-14</td>\n",
       "      <td>0</td>\n",
       "    </tr>\n",
       "    <tr>\n",
       "      <th>179</th>\n",
       "      <td>10月2周</td>\n",
       "      <td>20180927-007</td>\n",
       "      <td>BJ180998-02中药所1个药用动物S4基因组denovo只分析任务单</td>\n",
       "      <td>马潇</td>\n",
       "      <td>2018-09-28</td>\n",
       "      <td>2018-10-12</td>\n",
       "      <td>0</td>\n",
       "    </tr>\n",
       "    <tr>\n",
       "      <th>217</th>\n",
       "      <td>10月2周</td>\n",
       "      <td>20181009-009</td>\n",
       "      <td>PM-YWJS180225-01徐州市中心医院20个大鼠粪便宏基因组建库测序过滤任务单-快速产品</td>\n",
       "      <td>冷雪</td>\n",
       "      <td>2018-10-09</td>\n",
       "      <td>2018-10-12</td>\n",
       "      <td>0</td>\n",
       "    </tr>\n",
       "    <tr>\n",
       "      <th>230</th>\n",
       "      <td>10月2周</td>\n",
       "      <td>20181010-003</td>\n",
       "      <td>BJ180998-02中药所1个药用动物S4基因组denovo只分析任务单-02</td>\n",
       "      <td>杨伟飞</td>\n",
       "      <td>2018-10-08</td>\n",
       "      <td>2018-10-12</td>\n",
       "      <td>0</td>\n",
       "    </tr>\n",
       "    <tr>\n",
       "      <th>105</th>\n",
       "      <td>10月2周</td>\n",
       "      <td>20180917-002</td>\n",
       "      <td>SN170011-04西北农林2个拟南芥样本4个HiC文库测序分析任务单-07</td>\n",
       "      <td>范旭宁</td>\n",
       "      <td>2018-09-17</td>\n",
       "      <td>2018-10-09</td>\n",
       "      <td>0</td>\n",
       "    </tr>\n",
       "    <tr>\n",
       "      <th>121</th>\n",
       "      <td>10月2周</td>\n",
       "      <td>20180919-008</td>\n",
       "      <td>ANHL160027东北师大水稻Hi-C-03</td>\n",
       "      <td>范旭宁</td>\n",
       "      <td>2018-09-20</td>\n",
       "      <td>2018-10-08</td>\n",
       "      <td>0</td>\n",
       "    </tr>\n",
       "  </tbody>\n",
       "</table>\n",
       "</div>"
      ],
      "text/plain": [
       "    week_number           流水号  \\\n",
       "178       10月2周  20180927-006   \n",
       "193       10月2周  20180930-001   \n",
       "202       10月2周  20181008-005   \n",
       "179       10月2周  20180927-007   \n",
       "217       10月2周  20181009-009   \n",
       "230       10月2周  20181010-003   \n",
       "105       10月2周  20180917-002   \n",
       "121       10月2周  20180919-008   \n",
       "\n",
       "                                              个性化分析名称 信息负责人     评估反馈时间  \\\n",
       "178      PM-ZJ180327-01浙医二院35个人普通转录组建库测序过滤任务单-快速产品-01    屈昂 2018-09-30   \n",
       "193      SD170077-01山东大学齐鲁医院王刚的6个人单基因病外显子建库测序分析任务单-01    解飞 2018-09-30   \n",
       "202                   BJ161019-03中国农业大学12个牛单细胞全转录组-06   刘梦苑 2018-10-08   \n",
       "179             BJ180998-02中药所1个药用动物S4基因组denovo只分析任务单    马潇 2018-09-28   \n",
       "217  PM-YWJS180225-01徐州市中心医院20个大鼠粪便宏基因组建库测序过滤任务单-快速产品    冷雪 2018-10-09   \n",
       "230          BJ180998-02中药所1个药用动物S4基因组denovo只分析任务单-02   杨伟飞 2018-10-08   \n",
       "105           SN170011-04西北农林2个拟南芥样本4个HiC文库测序分析任务单-07   范旭宁 2018-09-17   \n",
       "121                           ANHL160027东北师大水稻Hi-C-03   范旭宁 2018-09-20   \n",
       "\n",
       "        预计交付时间 实际交付时间  \n",
       "178 2018-10-14      0  \n",
       "193 2018-10-14      0  \n",
       "202 2018-10-14      0  \n",
       "179 2018-10-12      0  \n",
       "217 2018-10-12      0  \n",
       "230 2018-10-12      0  \n",
       "105 2018-10-09      0  \n",
       "121 2018-10-08      0  "
      ]
     },
<<<<<<< HEAD
     "execution_count": 1482,
=======
     "execution_count": 1328,
>>>>>>> 2645079b727ccf7005842fd856e6ec984f2ff004
     "metadata": {},
     "output_type": "execute_result"
    }
   ],
   "source": [
    "ss = myModule.format(df5,'week_number',['流水号','个性化分析名称','信息负责人','评估反馈时间','预计交付时间','实际交付时间','延期天数'])\n",
    "ss.select_by_value('week_number',stat_week)\n",
    "ss.judge_and_replace('延期天数',1)\n",
    "ss.select_by_value('延期天数_bool',True)\n",
    "tt = myModule.format(ss.df,'week_number',['流水号','个性化分析名称','信息负责人','评估反馈时间','预计交付时间','实际交付时间']).df\n",
    "tt.sort_values(by = '预计交付时间',axis = 0,ascending = False)"
   ]
  },
  {
   "cell_type": "markdown",
   "metadata": {},
   "source": [
    "# 7日完成率统计"
   ]
  },
  {
   "cell_type": "markdown",
   "metadata": {},
   "source": [
    "##  7日完成率趋势图"
   ]
  },
  {
   "cell_type": "code",
<<<<<<< HEAD
   "execution_count": 1483,
=======
   "execution_count": 1329,
>>>>>>> 2645079b727ccf7005842fd856e6ec984f2ff004
   "metadata": {
    "scrolled": true
   },
   "outputs": [
    {
     "name": "stderr",
     "output_type": "stream",
     "text": [
      "/home/jiankong/jupyter/chart/bin/supplment_analysis/myModule.py:244: SettingWithCopyWarning:\n",
      "\n",
      "\n",
      "A value is trying to be set on a copy of a slice from a DataFrame.\n",
      "Try using .loc[row_indexer,col_indexer] = value instead\n",
      "\n",
      "See the caveats in the documentation: http://pandas.pydata.org/pandas-docs/stable/indexing.html#indexing-view-versus-copy\n",
      "\n",
      "/home/jiankong/anaconda3/lib/python3.6/site-packages/ipykernel/__main__.py:3: SettingWithCopyWarning:\n",
      "\n",
      "\n",
      "A value is trying to be set on a copy of a slice from a DataFrame.\n",
      "Try using .loc[row_indexer,col_indexer] = value instead\n",
      "\n",
      "See the caveats in the documentation: http://pandas.pydata.org/pandas-docs/stable/indexing.html#indexing-view-versus-copy\n",
      "\n",
      "/home/jiankong/anaconda3/lib/python3.6/site-packages/ipykernel/__main__.py:4: SettingWithCopyWarning:\n",
      "\n",
      "\n",
      "A value is trying to be set on a copy of a slice from a DataFrame.\n",
      "Try using .loc[row_indexer,col_indexer] = value instead\n",
      "\n",
      "See the caveats in the documentation: http://pandas.pydata.org/pandas-docs/stable/indexing.html#indexing-view-versus-copy\n",
      "\n"
     ]
    },
    {
     "data": {
      "application/vnd.plotly.v1+json": {
       "data": [
        {
         "name": "7日完成率",
         "type": "scatter",
<<<<<<< HEAD
         "uid": "3f4124ba-d028-11e8-8ddb-a41f72875c19",
=======
         "uid": "b179d3f5-d016-11e8-8ddb-a41f72875c19",
>>>>>>> 2645079b727ccf7005842fd856e6ec984f2ff004
         "x": [
          "8月3周",
          "9月1周",
          "9月2周",
          "9月3周",
          "9月4周",
          "10月2周"
         ],
         "y": [
          0,
          0,
          0.05714285714285714,
          0.0425531914893617,
          0.13333333333333333,
          0.34375
         ]
        }
       ],
       "layout": {
        "title": "7日完成率周趋势图",
        "xaxis": {
         "mirror": "all",
         "nticks": 20,
         "showgrid": true,
         "showline": true,
         "title": "周",
         "zeroline": true
        },
        "yaxis": {
         "mirror": "all",
         "nticks": 20,
         "showgrid": true,
         "showline": true,
         "title": "7日完成率",
         "zeroline": true
        }
       }
      },
      "text/html": [
<<<<<<< HEAD
       "<div id=\"b5ee3392-9f1c-4bf5-abef-e2a42fa4a2d5\" style=\"height: 525px; width: 100%;\" class=\"plotly-graph-div\"></div><script type=\"text/javascript\">require([\"plotly\"], function(Plotly) { window.PLOTLYENV=window.PLOTLYENV || {};window.PLOTLYENV.BASE_URL=\"https://plot.ly\";Plotly.newPlot(\"b5ee3392-9f1c-4bf5-abef-e2a42fa4a2d5\", [{\"name\": \"7\\u65e5\\u5b8c\\u6210\\u7387\", \"x\": [\"8\\u67083\\u5468\", \"9\\u67081\\u5468\", \"9\\u67082\\u5468\", \"9\\u67083\\u5468\", \"9\\u67084\\u5468\", \"10\\u67082\\u5468\"], \"y\": [0.0, 0.0, 0.05714285714285714, 0.0425531914893617, 0.13333333333333333, 0.34375], \"type\": \"scatter\", \"uid\": \"3f4124ba-d028-11e8-8ddb-a41f72875c19\"}], {\"title\": \"7\\u65e5\\u5b8c\\u6210\\u7387\\u5468\\u8d8b\\u52bf\\u56fe\", \"xaxis\": {\"mirror\": \"all\", \"nticks\": 20, \"showgrid\": true, \"showline\": true, \"title\": \"\\u5468\", \"zeroline\": true}, \"yaxis\": {\"mirror\": \"all\", \"nticks\": 20, \"showgrid\": true, \"showline\": true, \"title\": \"7\\u65e5\\u5b8c\\u6210\\u7387\", \"zeroline\": true}}, {\"showLink\": true, \"linkText\": \"Export to plot.ly\"})});</script>"
      ],
      "text/vnd.plotly.v1+html": [
       "<div id=\"b5ee3392-9f1c-4bf5-abef-e2a42fa4a2d5\" style=\"height: 525px; width: 100%;\" class=\"plotly-graph-div\"></div><script type=\"text/javascript\">require([\"plotly\"], function(Plotly) { window.PLOTLYENV=window.PLOTLYENV || {};window.PLOTLYENV.BASE_URL=\"https://plot.ly\";Plotly.newPlot(\"b5ee3392-9f1c-4bf5-abef-e2a42fa4a2d5\", [{\"name\": \"7\\u65e5\\u5b8c\\u6210\\u7387\", \"x\": [\"8\\u67083\\u5468\", \"9\\u67081\\u5468\", \"9\\u67082\\u5468\", \"9\\u67083\\u5468\", \"9\\u67084\\u5468\", \"10\\u67082\\u5468\"], \"y\": [0.0, 0.0, 0.05714285714285714, 0.0425531914893617, 0.13333333333333333, 0.34375], \"type\": \"scatter\", \"uid\": \"3f4124ba-d028-11e8-8ddb-a41f72875c19\"}], {\"title\": \"7\\u65e5\\u5b8c\\u6210\\u7387\\u5468\\u8d8b\\u52bf\\u56fe\", \"xaxis\": {\"mirror\": \"all\", \"nticks\": 20, \"showgrid\": true, \"showline\": true, \"title\": \"\\u5468\", \"zeroline\": true}, \"yaxis\": {\"mirror\": \"all\", \"nticks\": 20, \"showgrid\": true, \"showline\": true, \"title\": \"7\\u65e5\\u5b8c\\u6210\\u7387\", \"zeroline\": true}}, {\"showLink\": true, \"linkText\": \"Export to plot.ly\"})});</script>"
=======
       "<div id=\"0617e2e1-c997-4963-9b13-a4dd8be8ce64\" style=\"height: 525px; width: 100%;\" class=\"plotly-graph-div\"></div><script type=\"text/javascript\">require([\"plotly\"], function(Plotly) { window.PLOTLYENV=window.PLOTLYENV || {};window.PLOTLYENV.BASE_URL=\"https://plot.ly\";Plotly.newPlot(\"0617e2e1-c997-4963-9b13-a4dd8be8ce64\", [{\"name\": \"7\\u65e5\\u5b8c\\u6210\\u7387\", \"x\": [\"9\\u67081\\u5468\", \"9\\u67082\\u5468\", \"9\\u67083\\u5468\", \"9\\u67084\\u5468\", \"10\\u67082\\u5468\"], \"y\": [0.0, 0.05714285714285714, 0.043478260869565216, 0.14285714285714285, 1.0], \"type\": \"scatter\", \"uid\": \"b179d3f5-d016-11e8-8ddb-a41f72875c19\"}], {\"title\": \"7\\u65e5\\u5b8c\\u6210\\u7387\\u5468\\u8d8b\\u52bf\\u56fe\", \"xaxis\": {\"mirror\": \"all\", \"nticks\": 20, \"showgrid\": true, \"showline\": true, \"title\": \"\\u5468\", \"zeroline\": true}, \"yaxis\": {\"mirror\": \"all\", \"nticks\": 20, \"showgrid\": true, \"showline\": true, \"title\": \"7\\u65e5\\u5b8c\\u6210\\u7387\", \"zeroline\": true}}, {\"showLink\": true, \"linkText\": \"Export to plot.ly\"})});</script>"
      ],
      "text/vnd.plotly.v1+html": [
       "<div id=\"0617e2e1-c997-4963-9b13-a4dd8be8ce64\" style=\"height: 525px; width: 100%;\" class=\"plotly-graph-div\"></div><script type=\"text/javascript\">require([\"plotly\"], function(Plotly) { window.PLOTLYENV=window.PLOTLYENV || {};window.PLOTLYENV.BASE_URL=\"https://plot.ly\";Plotly.newPlot(\"0617e2e1-c997-4963-9b13-a4dd8be8ce64\", [{\"name\": \"7\\u65e5\\u5b8c\\u6210\\u7387\", \"x\": [\"9\\u67081\\u5468\", \"9\\u67082\\u5468\", \"9\\u67083\\u5468\", \"9\\u67084\\u5468\", \"10\\u67082\\u5468\"], \"y\": [0.0, 0.05714285714285714, 0.043478260869565216, 0.14285714285714285, 1.0], \"type\": \"scatter\", \"uid\": \"b179d3f5-d016-11e8-8ddb-a41f72875c19\"}], {\"title\": \"7\\u65e5\\u5b8c\\u6210\\u7387\\u5468\\u8d8b\\u52bf\\u56fe\", \"xaxis\": {\"mirror\": \"all\", \"nticks\": 20, \"showgrid\": true, \"showline\": true, \"title\": \"\\u5468\", \"zeroline\": true}, \"yaxis\": {\"mirror\": \"all\", \"nticks\": 20, \"showgrid\": true, \"showline\": true, \"title\": \"7\\u65e5\\u5b8c\\u6210\\u7387\", \"zeroline\": true}}, {\"showLink\": true, \"linkText\": \"Export to plot.ly\"})});</script>"
>>>>>>> 2645079b727ccf7005842fd856e6ec984f2ff004
      ]
     },
     "metadata": {},
     "output_type": "display_data"
    }
   ],
   "source": [
    "ss = myModule.format(df4 ,'week_number' ,['流水号','实际周期'])\n",
    "ss.judge_and_replace('实际周期',7)   # 建议添加小于号\n",
    "ss.df['流水号'] = list(map(changetype2, ss.df['流水号']))\n",
    "ss.df['实际周期_bool'] = ss.df['实际周期_bool'].astype(int)      #bool类型装换为数值1/0\n",
    "pp = myModule.sort_by_index(ss.get_total_ratio([['7日完成率' ,'实际周期_bool' , '流水号','/']]))\n",
    "myModule.myPlot(pp).plot('line')"
   ]
  },
  {
   "cell_type": "markdown",
   "metadata": {
    "collapsed": true
   },
   "source": [
    "## 实际周期>7日项目列表"
   ]
  },
  {
   "cell_type": "code",
<<<<<<< HEAD
   "execution_count": 1484,
=======
   "execution_count": 1330,
>>>>>>> 2645079b727ccf7005842fd856e6ec984f2ff004
   "metadata": {
    "scrolled": true
   },
   "outputs": [
    {
     "data": {
      "text/html": [
       "<div>\n",
       "<style scoped>\n",
       "    .dataframe tbody tr th:only-of-type {\n",
       "        vertical-align: middle;\n",
       "    }\n",
       "\n",
       "    .dataframe tbody tr th {\n",
       "        vertical-align: top;\n",
       "    }\n",
       "\n",
       "    .dataframe thead th {\n",
       "        text-align: right;\n",
       "    }\n",
       "</style>\n",
       "<table border=\"1\" class=\"dataframe\">\n",
       "  <thead>\n",
       "    <tr style=\"text-align: right;\">\n",
       "      <th></th>\n",
       "      <th>week_number</th>\n",
       "      <th>流水号</th>\n",
       "      <th>个性化分析名称</th>\n",
       "      <th>信息负责人</th>\n",
       "      <th>实际周期</th>\n",
       "    </tr>\n",
       "  </thead>\n",
       "  <tbody>\n",
       "    <tr>\n",
       "      <th>124</th>\n",
       "      <td>10月2周</td>\n",
       "      <td>20180920-003</td>\n",
       "      <td>PM-BJ170057-01、02/03北京蛋白质组研究中心4个小鼠10XGenomics文...</td>\n",
       "      <td>姚盟成</td>\n",
       "      <td>22</td>\n",
       "    </tr>\n",
       "    <tr>\n",
       "      <th>136</th>\n",
       "      <td>10月2周</td>\n",
       "      <td>20180921-007</td>\n",
       "      <td>BJ181222-02遗传所1个植物全长转录组只分析任务单-01</td>\n",
       "      <td>刘永强</td>\n",
       "      <td>16</td>\n",
       "    </tr>\n",
       "    <tr>\n",
       "      <th>172</th>\n",
       "      <td>10月2周</td>\n",
       "      <td>20180926-011</td>\n",
       "      <td>SD170144-04生物所24个爪蟾有参转录组建库测序分析任务单-05</td>\n",
       "      <td>陈碧雯</td>\n",
       "      <td>13</td>\n",
       "    </tr>\n",
       "    <tr>\n",
       "      <th>174</th>\n",
       "      <td>10月2周</td>\n",
       "      <td>20180927-002</td>\n",
       "      <td>.南通大学300个大鼠神经元单细胞lncRNA建库测序分析任务单-VIP-04</td>\n",
       "      <td>赵倩</td>\n",
       "      <td>13</td>\n",
       "    </tr>\n",
       "    <tr>\n",
       "      <th>169</th>\n",
       "      <td>10月2周</td>\n",
       "      <td>20180926-008</td>\n",
       "      <td>JL180047-01中国农业科学院特产研究所18个水貂单细胞无参转录组只分析任务单-02</td>\n",
       "      <td>何胜</td>\n",
       "      <td>12</td>\n",
       "    </tr>\n",
       "    <tr>\n",
       "      <th>175</th>\n",
       "      <td>10月2周</td>\n",
       "      <td>20180927-003</td>\n",
       "      <td>BJ170165-02中科院动物所10个小鼠单细胞甲基化建库任务单-04</td>\n",
       "      <td>韩少怀</td>\n",
       "      <td>12</td>\n",
       "    </tr>\n",
       "    <tr>\n",
       "      <th>159</th>\n",
       "      <td>10月2周</td>\n",
       "      <td>20180925-010</td>\n",
       "      <td>PM-YWHB180242-02华科协和医院1个人外显子建库测序分析任务单-快速产品-01</td>\n",
       "      <td>昶吉阳</td>\n",
       "      <td>11</td>\n",
       "    </tr>\n",
       "    <tr>\n",
       "      <th>185</th>\n",
       "      <td>10月2周</td>\n",
       "      <td>20180928-006</td>\n",
       "      <td>PM-BJ180911-01中国农业科学院北京畜牧所12个牛单细胞全转录组建库测序分析任务单...</td>\n",
       "      <td>冯敬岩</td>\n",
       "      <td>11</td>\n",
       "    </tr>\n",
       "    <tr>\n",
       "      <th>180</th>\n",
       "      <td>10月2周</td>\n",
       "      <td>20180928-001</td>\n",
       "      <td>PM-BJ180995-01中科院遗传所6个小鼠卵细胞单细胞转录组建库测序分析任务单-03</td>\n",
       "      <td>赵倩</td>\n",
       "      <td>10</td>\n",
       "    </tr>\n",
       "    <tr>\n",
       "      <th>187</th>\n",
       "      <td>10月2周</td>\n",
       "      <td>20180929-001</td>\n",
       "      <td>PM-BJ181079-02动物所32个小鼠ChIP-DNA建库测序分析任务单-01</td>\n",
       "      <td>昶吉阳</td>\n",
       "      <td>9</td>\n",
       "    </tr>\n",
       "    <tr>\n",
       "      <th>192</th>\n",
       "      <td>10月2周</td>\n",
       "      <td>20180929-007</td>\n",
       "      <td>PM-BJ181125-03阜外医院6个大鼠Bisulfite甲基化建库测序分析任务单-01</td>\n",
       "      <td>刘梦苑</td>\n",
       "      <td>9</td>\n",
       "    </tr>\n",
       "  </tbody>\n",
       "</table>\n",
       "</div>"
      ],
      "text/plain": [
       "    week_number           流水号  \\\n",
       "124       10月2周  20180920-003   \n",
       "136       10月2周  20180921-007   \n",
       "172       10月2周  20180926-011   \n",
       "174       10月2周  20180927-002   \n",
       "169       10月2周  20180926-008   \n",
       "175       10月2周  20180927-003   \n",
       "159       10月2周  20180925-010   \n",
       "185       10月2周  20180928-006   \n",
       "180       10月2周  20180928-001   \n",
       "187       10月2周  20180929-001   \n",
       "192       10月2周  20180929-007   \n",
       "\n",
       "                                               个性化分析名称 信息负责人  实际周期  \n",
       "124  PM-BJ170057-01、02/03北京蛋白质组研究中心4个小鼠10XGenomics文...   姚盟成    22  \n",
       "136                   BJ181222-02遗传所1个植物全长转录组只分析任务单-01   刘永强    16  \n",
       "172               SD170144-04生物所24个爪蟾有参转录组建库测序分析任务单-05   陈碧雯    13  \n",
       "174            .南通大学300个大鼠神经元单细胞lncRNA建库测序分析任务单-VIP-04    赵倩    13  \n",
       "169      JL180047-01中国农业科学院特产研究所18个水貂单细胞无参转录组只分析任务单-02    何胜    12  \n",
       "175               BJ170165-02中科院动物所10个小鼠单细胞甲基化建库任务单-04   韩少怀    12  \n",
       "159      PM-YWHB180242-02华科协和医院1个人外显子建库测序分析任务单-快速产品-01   昶吉阳    11  \n",
       "185  PM-BJ180911-01中国农业科学院北京畜牧所12个牛单细胞全转录组建库测序分析任务单...   冯敬岩    11  \n",
       "180      PM-BJ180995-01中科院遗传所6个小鼠卵细胞单细胞转录组建库测序分析任务单-03    赵倩    10  \n",
       "187         PM-BJ181079-02动物所32个小鼠ChIP-DNA建库测序分析任务单-01   昶吉阳     9  \n",
       "192     PM-BJ181125-03阜外医院6个大鼠Bisulfite甲基化建库测序分析任务单-01   刘梦苑     9  "
      ]
     },
<<<<<<< HEAD
     "execution_count": 1484,
=======
     "execution_count": 1330,
>>>>>>> 2645079b727ccf7005842fd856e6ec984f2ff004
     "metadata": {},
     "output_type": "execute_result"
    }
   ],
   "source": [
    "ss = myModule.format(df4,'week_number',['流水号','个性化分析名称','信息负责人','实际周期'])\n",
    "ss.select_by_value('week_number',stat_week)\n",
    "ss.judge_and_replace('实际周期',7)\n",
    "ss.select_by_value('实际周期_bool',True)\n",
    "tt = myModule.format(ss.df,'week_number',['流水号','个性化分析名称','信息负责人','实际周期']).df\n",
    "tt.sort_values(by = '实际周期',axis = 0,ascending = False)   #预计周期从大到小排序"
   ]
  }
 ],
 "metadata": {
  "hide_input": false,
  "kernelspec": {
   "display_name": "Python 3",
   "language": "python",
   "name": "python3"
  },
  "language_info": {
   "codemirror_mode": {
    "name": "ipython",
    "version": 3
   },
   "file_extension": ".py",
   "mimetype": "text/x-python",
   "name": "python",
   "nbconvert_exporter": "python",
   "pygments_lexer": "ipython3",
   "version": "3.6.6"
  },
  "toc": {
   "base_numbering": 1,
   "nav_menu": {},
   "number_sections": true,
   "sideBar": true,
   "skip_h1_title": false,
   "title_cell": "Table of Contents",
   "title_sidebar": "Contents",
   "toc_cell": false,
   "toc_position": {
    "height": "calc(100% - 180px)",
    "left": "10px",
    "top": "150px",
    "width": "273px"
   },
   "toc_section_display": true,
   "toc_window_display": true
  }
 },
 "nbformat": 4,
 "nbformat_minor": 2
}
