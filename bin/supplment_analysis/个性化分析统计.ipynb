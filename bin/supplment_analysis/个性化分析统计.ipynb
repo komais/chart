{
 "cells": [
  {
   "cell_type": "code",
   "execution_count": 2,
   "metadata": {},
   "outputs": [
    {
     "name": "stdout",
     "output_type": "stream",
     "text": [
      "The autoreload extension is already loaded. To reload it, use:\n",
      "  %reload_ext autoreload\n"
     ]
    }
   ],
   "source": [
    "%load_ext autoreload\n",
    "%autoreload 2"
   ]
  },
  {
   "cell_type": "code",
   "execution_count": 3,
   "metadata": {},
   "outputs": [
    {
     "data": {
      "text/html": [
       "<script>requirejs.config({paths: { 'plotly': ['https://cdn.plot.ly/plotly-latest.min']},});if(!window.Plotly) {{require(['plotly'],function(plotly) {window.Plotly=plotly;});}}</script>"
      ],
      "text/vnd.plotly.v1+html": [
       "<script>requirejs.config({paths: { 'plotly': ['https://cdn.plot.ly/plotly-latest.min']},});if(!window.Plotly) {{require(['plotly'],function(plotly) {window.Plotly=plotly;});}}</script>"
      ]
     },
     "metadata": {},
     "output_type": "display_data"
    },
    {
     "data": {
      "text/html": [
       "<script>requirejs.config({paths: { 'plotly': ['https://cdn.plot.ly/plotly-latest.min']},});if(!window.Plotly) {{require(['plotly'],function(plotly) {window.Plotly=plotly;});}}</script>"
      ],
      "text/vnd.plotly.v1+html": [
       "<script>requirejs.config({paths: { 'plotly': ['https://cdn.plot.ly/plotly-latest.min']},});if(!window.Plotly) {{require(['plotly'],function(plotly) {window.Plotly=plotly;});}}</script>"
      ]
     },
     "metadata": {},
     "output_type": "display_data"
    },
    {
     "data": {
      "text/html": [
       "<script>requirejs.config({paths: { 'plotly': ['https://cdn.plot.ly/plotly-latest.min']},});if(!window.Plotly) {{require(['plotly'],function(plotly) {window.Plotly=plotly;});}}</script>"
      ],
      "text/vnd.plotly.v1+html": [
       "<script>requirejs.config({paths: { 'plotly': ['https://cdn.plot.ly/plotly-latest.min']},});if(!window.Plotly) {{require(['plotly'],function(plotly) {window.Plotly=plotly;});}}</script>"
      ]
     },
     "metadata": {},
     "output_type": "display_data"
    },
    {
     "data": {
      "text/html": [
       "<script>requirejs.config({paths: { 'plotly': ['https://cdn.plot.ly/plotly-latest.min']},});if(!window.Plotly) {{require(['plotly'],function(plotly) {window.Plotly=plotly;});}}</script>"
      ],
      "text/vnd.plotly.v1+html": [
       "<script>requirejs.config({paths: { 'plotly': ['https://cdn.plot.ly/plotly-latest.min']},});if(!window.Plotly) {{require(['plotly'],function(plotly) {window.Plotly=plotly;});}}</script>"
      ]
     },
     "metadata": {},
     "output_type": "display_data"
    },
    {
     "data": {
      "text/plain": [
       "<module 'myModule' from '/mnt/e/jupyter/bin/supplment_analysis/myModule.py'>"
      ]
     },
     "execution_count": 3,
     "metadata": {},
     "output_type": "execute_result"
    }
   ],
   "source": [
    "import sys\n",
    "sys.path.append('./')\n",
    "import xiadan_check\n",
    "import myModule\n",
    "import imp\n",
    "imp.reload(xiadan_check)\n",
    "imp.reload(myModule)"
   ]
  },
  {
   "cell_type": "code",
   "execution_count": 4,
   "metadata": {},
   "outputs": [],
   "source": [
    "pathway = './'\n",
    "all_files  = xiadan_check.get_files(pathway, \"个性化\",\"9月\")   ##给路径\n",
    "df1  = xiadan_check.read_xlsx(all_files , 0 )## read all files sheet1"
   ]
  },
  {
   "cell_type": "code",
   "execution_count": 5,
   "metadata": {},
   "outputs": [],
   "source": [
    "myModule.add_week(df1,'下单时间')"
   ]
  },
  {
   "cell_type": "code",
   "execution_count": 6,
   "metadata": {},
   "outputs": [
    {
     "data": {
      "text/html": [
       "<div>\n",
       "<style scoped>\n",
       "    .dataframe tbody tr th:only-of-type {\n",
       "        vertical-align: middle;\n",
       "    }\n",
       "\n",
       "    .dataframe tbody tr th {\n",
       "        vertical-align: top;\n",
       "    }\n",
       "\n",
       "    .dataframe thead th {\n",
       "        text-align: right;\n",
       "    }\n",
       "</style>\n",
       "<table border=\"1\" class=\"dataframe\">\n",
       "  <thead>\n",
       "    <tr style=\"text-align: right;\">\n",
       "      <th></th>\n",
       "      <th>序号</th>\n",
       "      <th>流水号</th>\n",
       "      <th>个性化分析名称</th>\n",
       "      <th>项目管理</th>\n",
       "      <th>接入时间</th>\n",
       "      <th>下单时间</th>\n",
       "      <th>信息负责人</th>\n",
       "      <th>评估反馈时间</th>\n",
       "      <th>预计交付时间</th>\n",
       "      <th>数据迁回花费时间（天）</th>\n",
       "      <th>实际交付时间</th>\n",
       "      <th>评估人时（h）</th>\n",
       "      <th>评估机时(h)</th>\n",
       "      <th>是否在库里</th>\n",
       "      <th>库里周期（天）</th>\n",
       "      <th>项目管理交付时间</th>\n",
       "      <th>预计周期</th>\n",
       "      <th>实际周期</th>\n",
       "      <th>week_number</th>\n",
       "    </tr>\n",
       "  </thead>\n",
       "  <tbody>\n",
       "    <tr>\n",
       "      <th>0</th>\n",
       "      <td>961</td>\n",
       "      <td>20180902-001</td>\n",
       "      <td>PM-GD180463-01华南农业大学6个青枯菌原核链特异性转录组建库测序过滤任务单-02</td>\n",
       "      <td>孟凡姗</td>\n",
       "      <td>2018-09-02</td>\n",
       "      <td>2018-09-02</td>\n",
       "      <td>屈昂</td>\n",
       "      <td>2018-09-05</td>\n",
       "      <td>2018-09-10 00:00:00</td>\n",
       "      <td>0</td>\n",
       "      <td>2018-09-07 00:00:00</td>\n",
       "      <td>3</td>\n",
       "      <td>18.0</td>\n",
       "      <td>0</td>\n",
       "      <td>0.0</td>\n",
       "      <td>2018-09-07 00:00:00</td>\n",
       "      <td>0.0</td>\n",
       "      <td>0.0</td>\n",
       "      <td>8月5周</td>\n",
       "    </tr>\n",
       "    <tr>\n",
       "      <th>1</th>\n",
       "      <td>962</td>\n",
       "      <td>20180902-002</td>\n",
       "      <td>ANCSN180125西安交大数据分析任务单-03</td>\n",
       "      <td>孟凡姗</td>\n",
       "      <td>2018-09-02</td>\n",
       "      <td>2018-09-02</td>\n",
       "      <td>朱慧萍</td>\n",
       "      <td>2018-09-03</td>\n",
       "      <td>2018-09-10 00:00:00</td>\n",
       "      <td>0</td>\n",
       "      <td>2018-09-06 00:00:00</td>\n",
       "      <td>0</td>\n",
       "      <td>0.0</td>\n",
       "      <td>0</td>\n",
       "      <td>0.0</td>\n",
       "      <td>2018-09-07 00:00:00</td>\n",
       "      <td>0.0</td>\n",
       "      <td>0.0</td>\n",
       "      <td>8月5周</td>\n",
       "    </tr>\n",
       "    <tr>\n",
       "      <th>2</th>\n",
       "      <td>963</td>\n",
       "      <td>20180902-003</td>\n",
       "      <td>ANCSN180125西安交大数据分析任务单-04</td>\n",
       "      <td>孟凡姗</td>\n",
       "      <td>2018-09-02</td>\n",
       "      <td>2018-09-02</td>\n",
       "      <td>朱慧萍</td>\n",
       "      <td>2018-09-03</td>\n",
       "      <td>2018-09-10 00:00:00</td>\n",
       "      <td>0</td>\n",
       "      <td>2018-09-06 00:00:00</td>\n",
       "      <td>0</td>\n",
       "      <td>0.0</td>\n",
       "      <td>0</td>\n",
       "      <td>0.0</td>\n",
       "      <td>2018-09-07 00:00:00</td>\n",
       "      <td>0.0</td>\n",
       "      <td>0.0</td>\n",
       "      <td>8月5周</td>\n",
       "    </tr>\n",
       "    <tr>\n",
       "      <th>3</th>\n",
       "      <td>964</td>\n",
       "      <td>20180902-004</td>\n",
       "      <td>PM-JS180194-01通大附院18个大鼠有参转录组建库测序分析任务单-快速产品-02</td>\n",
       "      <td>孟凡姗</td>\n",
       "      <td>2018-09-02</td>\n",
       "      <td>2018-09-02</td>\n",
       "      <td>朱慧萍</td>\n",
       "      <td>2018-09-03</td>\n",
       "      <td>2018-09-10 00:00:00</td>\n",
       "      <td>0</td>\n",
       "      <td>2018-09-10 00:00:00</td>\n",
       "      <td>0</td>\n",
       "      <td>0.0</td>\n",
       "      <td>0</td>\n",
       "      <td>0.0</td>\n",
       "      <td>2018-09-10 00:00:00</td>\n",
       "      <td>0.0</td>\n",
       "      <td>0.0</td>\n",
       "      <td>8月5周</td>\n",
       "    </tr>\n",
       "    <tr>\n",
       "      <th>4</th>\n",
       "      <td>965</td>\n",
       "      <td>20180902-005</td>\n",
       "      <td>PM-JS180194-01通大附院18个大鼠有参转录组建库测序分析任务单-快速产品-03</td>\n",
       "      <td>孟凡姗</td>\n",
       "      <td>2018-09-02</td>\n",
       "      <td>2018-09-02</td>\n",
       "      <td>朱慧萍</td>\n",
       "      <td>2018-09-03</td>\n",
       "      <td>2018-09-10 00:00:00</td>\n",
       "      <td>0</td>\n",
       "      <td>2018-09-10 00:00:00</td>\n",
       "      <td>0</td>\n",
       "      <td>0.0</td>\n",
       "      <td>0</td>\n",
       "      <td>0.0</td>\n",
       "      <td>2018-09-10 00:00:00</td>\n",
       "      <td>0.0</td>\n",
       "      <td>0.0</td>\n",
       "      <td>8月5周</td>\n",
       "    </tr>\n",
       "  </tbody>\n",
       "</table>\n",
       "</div>"
      ],
      "text/plain": [
       "    序号           流水号                                         个性化分析名称 项目管理  \\\n",
       "0  961  20180902-001  PM-GD180463-01华南农业大学6个青枯菌原核链特异性转录组建库测序过滤任务单-02  孟凡姗   \n",
       "1  962  20180902-002                       ANCSN180125西安交大数据分析任务单-03  孟凡姗   \n",
       "2  963  20180902-003                       ANCSN180125西安交大数据分析任务单-04  孟凡姗   \n",
       "3  964  20180902-004   PM-JS180194-01通大附院18个大鼠有参转录组建库测序分析任务单-快速产品-02  孟凡姗   \n",
       "4  965  20180902-005   PM-JS180194-01通大附院18个大鼠有参转录组建库测序分析任务单-快速产品-03  孟凡姗   \n",
       "\n",
       "        接入时间       下单时间 信息负责人     评估反馈时间               预计交付时间 数据迁回花费时间（天）  \\\n",
       "0 2018-09-02 2018-09-02    屈昂 2018-09-05  2018-09-10 00:00:00           0   \n",
       "1 2018-09-02 2018-09-02   朱慧萍 2018-09-03  2018-09-10 00:00:00           0   \n",
       "2 2018-09-02 2018-09-02   朱慧萍 2018-09-03  2018-09-10 00:00:00           0   \n",
       "3 2018-09-02 2018-09-02   朱慧萍 2018-09-03  2018-09-10 00:00:00           0   \n",
       "4 2018-09-02 2018-09-02   朱慧萍 2018-09-03  2018-09-10 00:00:00           0   \n",
       "\n",
       "                实际交付时间 评估人时（h）  评估机时(h) 是否在库里  库里周期（天）             项目管理交付时间  \\\n",
       "0  2018-09-07 00:00:00       3     18.0     0      0.0  2018-09-07 00:00:00   \n",
       "1  2018-09-06 00:00:00       0      0.0     0      0.0  2018-09-07 00:00:00   \n",
       "2  2018-09-06 00:00:00       0      0.0     0      0.0  2018-09-07 00:00:00   \n",
       "3  2018-09-10 00:00:00       0      0.0     0      0.0  2018-09-10 00:00:00   \n",
       "4  2018-09-10 00:00:00       0      0.0     0      0.0  2018-09-10 00:00:00   \n",
       "\n",
       "   预计周期  实际周期 week_number  \n",
       "0   0.0   0.0        8月5周  \n",
       "1   0.0   0.0        8月5周  \n",
       "2   0.0   0.0        8月5周  \n",
       "3   0.0   0.0        8月5周  \n",
       "4   0.0   0.0        8月5周  "
      ]
     },
     "execution_count": 6,
     "metadata": {},
     "output_type": "execute_result"
    }
   ],
   "source": [
    "df1.head()"
   ]
  },
  {
   "cell_type": "code",
   "execution_count": 12,
   "metadata": {},
   "outputs": [
    {
     "data": {
      "application/vnd.plotly.v1+json": {
       "data": [
        {
         "name": "流水号(苑赞)",
         "type": "bar",
         "uid": "d920fd30-cdb6-11e8-a024-a81e84e6c740",
         "x": [
          "8月5周",
          "9月1周",
          "9月2周",
          "9月3周",
          "9月4周",
          "10月2周"
         ],
         "y": [
          null,
          null,
          null,
          null,
          1,
          null
         ]
        },
        {
         "name": "流水号(屈昂)",
         "type": "bar",
         "uid": "d92102b2-cdb6-11e8-a024-a81e84e6c740",
         "x": [
          "8月5周",
          "9月1周",
          "9月2周",
          "9月3周",
          "9月4周",
          "10月2周"
         ],
         "y": [
          1,
          null,
          null,
          1,
          1,
          null
         ]
        },
        {
         "name": "流水号(段利强)",
         "type": "bar",
         "uid": "d92106d6-cdb6-11e8-a024-a81e84e6c740",
         "x": [
          "8月5周",
          "9月1周",
          "9月2周",
          "9月3周",
          "9月4周",
          "10月2周"
         ],
         "y": [
          null,
          1,
          5,
          null,
          null,
          null
         ]
        },
        {
         "name": "流水号(于勇一)",
         "type": "bar",
         "uid": "d9210a8c-cdb6-11e8-a024-a81e84e6c740",
         "x": [
          "8月5周",
          "9月1周",
          "9月2周",
          "9月3周",
          "9月4周",
          "10月2周"
         ],
         "y": [
          null,
          null,
          null,
          1,
          null,
          null
         ]
        },
        {
         "name": "流水号(杨宇)",
         "type": "bar",
         "uid": "d9210e10-cdb6-11e8-a024-a81e84e6c740",
         "x": [
          "8月5周",
          "9月1周",
          "9月2周",
          "9月3周",
          "9月4周",
          "10月2周"
         ],
         "y": [
          null,
          2,
          4,
          4,
          1,
          null
         ]
        },
        {
         "name": "流水号(马潇)",
         "type": "bar",
         "uid": "d9211194-cdb6-11e8-a024-a81e84e6c740",
         "x": [
          "8月5周",
          "9月1周",
          "9月2周",
          "9月3周",
          "9月4周",
          "10月2周"
         ],
         "y": [
          null,
          2,
          2,
          null,
          4,
          null
         ]
        },
        {
         "name": "流水号(解飞)",
         "type": "bar",
         "uid": "d92114fa-cdb6-11e8-a024-a81e84e6c740",
         "x": [
          "8月5周",
          "9月1周",
          "9月2周",
          "9月3周",
          "9月4周",
          "10月2周"
         ],
         "y": [
          null,
          null,
          null,
          null,
          1,
          1
         ]
        },
        {
         "name": "流水号(刘梦苑)",
         "type": "bar",
         "uid": "d921186a-cdb6-11e8-a024-a81e84e6c740",
         "x": [
          "8月5周",
          "9月1周",
          "9月2周",
          "9月3周",
          "9月4周",
          "10月2周"
         ],
         "y": [
          null,
          2,
          null,
          2,
          3,
          null
         ]
        },
        {
         "name": "流水号(杨伟飞)",
         "type": "bar",
         "uid": "d9211bd0-cdb6-11e8-a024-a81e84e6c740",
         "x": [
          "8月5周",
          "9月1周",
          "9月2周",
          "9月3周",
          "9月4周",
          "10月2周"
         ],
         "y": [
          null,
          2,
          2,
          null,
          null,
          null
         ]
        },
        {
         "name": "流水号(冷雪)",
         "type": "bar",
         "uid": "d9211f40-cdb6-11e8-a024-a81e84e6c740",
         "x": [
          "8月5周",
          "9月1周",
          "9月2周",
          "9月3周",
          "9月4周",
          "10月2周"
         ],
         "y": [
          null,
          1,
          1,
          null,
          4,
          null
         ]
        },
        {
         "name": "流水号(刘永强)",
         "type": "bar",
         "uid": "d92122a6-cdb6-11e8-a024-a81e84e6c740",
         "x": [
          "8月5周",
          "9月1周",
          "9月2周",
          "9月3周",
          "9月4周",
          "10月2周"
         ],
         "y": [
          null,
          1,
          null,
          1,
          null,
          null
         ]
        },
        {
         "name": "流水号(沈恩惠)",
         "type": "bar",
         "uid": "d921260c-cdb6-11e8-a024-a81e84e6c740",
         "x": [
          "8月5周",
          "9月1周",
          "9月2周",
          "9月3周",
          "9月4周",
          "10月2周"
         ],
         "y": [
          null,
          1,
          null,
          1,
          null,
          null
         ]
        },
        {
         "name": "流水号(占伟)",
         "type": "bar",
         "uid": "d9212968-cdb6-11e8-a024-a81e84e6c740",
         "x": [
          "8月5周",
          "9月1周",
          "9月2周",
          "9月3周",
          "9月4周",
          "10月2周"
         ],
         "y": [
          null,
          2,
          1,
          null,
          null,
          null
         ]
        },
        {
         "name": "流水号(朱慧萍)",
         "type": "bar",
         "uid": "d9212cce-cdb6-11e8-a024-a81e84e6c740",
         "x": [
          "8月5周",
          "9月1周",
          "9月2周",
          "9月3周",
          "9月4周",
          "10月2周"
         ],
         "y": [
          4,
          3,
          5,
          2,
          3,
          null
         ]
        },
        {
         "name": "流水号(王传文)",
         "type": "bar",
         "uid": "d9213034-cdb6-11e8-a024-a81e84e6c740",
         "x": [
          "8月5周",
          "9月1周",
          "9月2周",
          "9月3周",
          "9月4周",
          "10月2周"
         ],
         "y": [
          null,
          null,
          null,
          1,
          null,
          null
         ]
        },
        {
         "name": "流水号(封彦杰)",
         "type": "bar",
         "uid": "d921339a-cdb6-11e8-a024-a81e84e6c740",
         "x": [
          "8月5周",
          "9月1周",
          "9月2周",
          "9月3周",
          "9月4周",
          "10月2周"
         ],
         "y": [
          null,
          null,
          null,
          null,
          1,
          null
         ]
        },
        {
         "name": "流水号(高剑)",
         "type": "bar",
         "uid": "d92136f6-cdb6-11e8-a024-a81e84e6c740",
         "x": [
          "8月5周",
          "9月1周",
          "9月2周",
          "9月3周",
          "9月4周",
          "10月2周"
         ],
         "y": [
          null,
          1,
          null,
          null,
          null,
          null
         ]
        },
        {
         "name": "流水号(陈碧雯)",
         "type": "bar",
         "uid": "d9213a66-cdb6-11e8-a024-a81e84e6c740",
         "x": [
          "8月5周",
          "9月1周",
          "9月2周",
          "9月3周",
          "9月4周",
          "10月2周"
         ],
         "y": [
          null,
          4,
          2,
          1,
          3,
          null
         ]
        },
        {
         "name": "流水号(赵玥)",
         "type": "bar",
         "uid": "d9213dcc-cdb6-11e8-a024-a81e84e6c740",
         "x": [
          "8月5周",
          "9月1周",
          "9月2周",
          "9月3周",
          "9月4周",
          "10月2周"
         ],
         "y": [
          null,
          null,
          1,
          null,
          null,
          null
         ]
        },
        {
         "name": "流水号(靳甜甜)",
         "type": "bar",
         "uid": "d9214132-cdb6-11e8-a024-a81e84e6c740",
         "x": [
          "8月5周",
          "9月1周",
          "9月2周",
          "9月3周",
          "9月4周",
          "10月2周"
         ],
         "y": [
          null,
          null,
          1,
          null,
          null,
          null
         ]
        },
        {
         "name": "流水号(昶吉阳)",
         "type": "bar",
         "uid": "d9214498-cdb6-11e8-a024-a81e84e6c740",
         "x": [
          "8月5周",
          "9月1周",
          "9月2周",
          "9月3周",
          "9月4周",
          "10月2周"
         ],
         "y": [
          null,
          1,
          2,
          null,
          4,
          null
         ]
        },
        {
         "name": "流水号(车天栋)",
         "type": "bar",
         "uid": "d92147fe-cdb6-11e8-a024-a81e84e6c740",
         "x": [
          "8月5周",
          "9月1周",
          "9月2周",
          "9月3周",
          "9月4周",
          "10月2周"
         ],
         "y": [
          null,
          null,
          1,
          1,
          null,
          null
         ]
        },
        {
         "name": "流水号(冯敬岩)",
         "type": "bar",
         "uid": "d9214b64-cdb6-11e8-a024-a81e84e6c740",
         "x": [
          "8月5周",
          "9月1周",
          "9月2周",
          "9月3周",
          "9月4周",
          "10月2周"
         ],
         "y": [
          null,
          4,
          4,
          3,
          4,
          null
         ]
        },
        {
         "name": "流水号(王霞)",
         "type": "bar",
         "uid": "d9214ed4-cdb6-11e8-a024-a81e84e6c740",
         "x": [
          "8月5周",
          "9月1周",
          "9月2周",
          "9月3周",
          "9月4周",
          "10月2周"
         ],
         "y": [
          null,
          2,
          2,
          5,
          1,
          null
         ]
        },
        {
         "name": "流水号(何胜)",
         "type": "bar",
         "uid": "d9215244-cdb6-11e8-a024-a81e84e6c740",
         "x": [
          "8月5周",
          "9月1周",
          "9月2周",
          "9月3周",
          "9月4周",
          "10月2周"
         ],
         "y": [
          null,
          4,
          3,
          4,
          2,
          null
         ]
        },
        {
         "name": "流水号(宋少宇)",
         "type": "bar",
         "uid": "d92155aa-cdb6-11e8-a024-a81e84e6c740",
         "x": [
          "8月5周",
          "9月1周",
          "9月2周",
          "9月3周",
          "9月4周",
          "10月2周"
         ],
         "y": [
          null,
          1,
          null,
          null,
          1,
          null
         ]
        },
        {
         "name": "流水号(赵倩)",
         "type": "bar",
         "uid": "d9215910-cdb6-11e8-a024-a81e84e6c740",
         "x": [
          "8月5周",
          "9月1周",
          "9月2周",
          "9月3周",
          "9月4周",
          "10月2周"
         ],
         "y": [
          null,
          5,
          7,
          4,
          5,
          null
         ]
        },
        {
         "name": "流水号(林文文)",
         "type": "bar",
         "uid": "d9215c6c-cdb6-11e8-a024-a81e84e6c740",
         "x": [
          "8月5周",
          "9月1周",
          "9月2周",
          "9月3周",
          "9月4周",
          "10月2周"
         ],
         "y": [
          null,
          null,
          2,
          3,
          null,
          null
         ]
        },
        {
         "name": "流水号(李华云)",
         "type": "bar",
         "uid": "d9215fe6-cdb6-11e8-a024-a81e84e6c740",
         "x": [
          "8月5周",
          "9月1周",
          "9月2周",
          "9月3周",
          "9月4周",
          "10月2周"
         ],
         "y": [
          null,
          null,
          null,
          1,
          1,
          null
         ]
        },
        {
         "name": "流水号(闻少楠)",
         "type": "bar",
         "uid": "d9216356-cdb6-11e8-a024-a81e84e6c740",
         "x": [
          "8月5周",
          "9月1周",
          "9月2周",
          "9月3周",
          "9月4周",
          "10月2周"
         ],
         "y": [
          null,
          null,
          2,
          1,
          1,
          null
         ]
        },
        {
         "name": "流水号(范旭宁)",
         "type": "bar",
         "uid": "d92166bc-cdb6-11e8-a024-a81e84e6c740",
         "x": [
          "8月5周",
          "9月1周",
          "9月2周",
          "9月3周",
          "9月4周",
          "10月2周"
         ],
         "y": [
          null,
          1,
          null,
          2,
          2,
          null
         ]
        },
        {
         "name": "流水号(任雪)",
         "type": "bar",
         "uid": "d9216a22-cdb6-11e8-a024-a81e84e6c740",
         "x": [
          "8月5周",
          "9月1周",
          "9月2周",
          "9月3周",
          "9月4周",
          "10月2周"
         ],
         "y": [
          null,
          null,
          null,
          null,
          1,
          null
         ]
        },
        {
         "name": "流水号(刘江)",
         "type": "bar",
         "uid": "d9216d88-cdb6-11e8-a024-a81e84e6c740",
         "x": [
          "8月5周",
          "9月1周",
          "9月2周",
          "9月3周",
          "9月4周",
          "10月2周"
         ],
         "y": [
          null,
          2,
          1,
          null,
          null,
          null
         ]
        },
        {
         "name": "流水号(姚盟成)",
         "type": "bar",
         "uid": "d92170e4-cdb6-11e8-a024-a81e84e6c740",
         "x": [
          "8月5周",
          "9月1周",
          "9月2周",
          "9月3周",
          "9月4周",
          "10月2周"
         ],
         "y": [
          null,
          1,
          null,
          1,
          null,
          null
         ]
        },
        {
         "name": "流水号(沈立群)",
         "type": "bar",
         "uid": "d921744a-cdb6-11e8-a024-a81e84e6c740",
         "x": [
          "8月5周",
          "9月1周",
          "9月2周",
          "9月3周",
          "9月4周",
          "10月2周"
         ],
         "y": [
          null,
          null,
          null,
          1,
          null,
          null
         ]
        },
        {
         "name": "流水号(陈鹏燕)",
         "type": "bar",
         "uid": "d92177a6-cdb6-11e8-a024-a81e84e6c740",
         "x": [
          "8月5周",
          "9月1周",
          "9月2周",
          "9月3周",
          "9月4周",
          "10月2周"
         ],
         "y": [
          1,
          2,
          3,
          5,
          null,
          null
         ]
        },
        {
         "name": "流水号(于慧)",
         "type": "bar",
         "uid": "d9217b02-cdb6-11e8-a024-a81e84e6c740",
         "x": [
          "8月5周",
          "9月1周",
          "9月2周",
          "9月3周",
          "9月4周",
          "10月2周"
         ],
         "y": [
          null,
          null,
          1,
          1,
          null,
          null
         ]
        },
        {
         "name": "流水号(韩少怀)",
         "type": "bar",
         "uid": "d9217e68-cdb6-11e8-a024-a81e84e6c740",
         "x": [
          "8月5周",
          "9月1周",
          "9月2周",
          "9月3周",
          "9月4周",
          "10月2周"
         ],
         "y": [
          null,
          1,
          null,
          null,
          1,
          null
         ]
        }
       ],
       "layout": {
        "barmode": "stack",
        "title": "流水号周趋势图",
        "xaxis": {
         "mirror": "all",
         "nticks": 20,
         "showgrid": true,
         "showline": true,
         "title": "周",
         "zeroline": true
        },
        "yaxis": {
         "mirror": "all",
         "nticks": 20,
         "showgrid": true,
         "showline": true,
         "title": "流水号",
         "zeroline": true
        }
       }
      },
      "text/html": [
       "<div id=\"278eb389-9701-4c33-8199-f8b4bec26a17\" style=\"height: 525px; width: 100%;\" class=\"plotly-graph-div\"></div><script type=\"text/javascript\">require([\"plotly\"], function(Plotly) { window.PLOTLYENV=window.PLOTLYENV || {};window.PLOTLYENV.BASE_URL=\"https://plot.ly\";Plotly.newPlot(\"278eb389-9701-4c33-8199-f8b4bec26a17\", [{\"name\": \"\\u6d41\\u6c34\\u53f7(\\u82d1\\u8d5e)\", \"x\": [\"8\\u67085\\u5468\", \"9\\u67081\\u5468\", \"9\\u67082\\u5468\", \"9\\u67083\\u5468\", \"9\\u67084\\u5468\", \"10\\u67082\\u5468\"], \"y\": [null, null, null, null, 1.0, null], \"type\": \"bar\", \"uid\": \"d920fd30-cdb6-11e8-a024-a81e84e6c740\"}, {\"name\": \"\\u6d41\\u6c34\\u53f7(\\u5c48\\u6602)\", \"x\": [\"8\\u67085\\u5468\", \"9\\u67081\\u5468\", \"9\\u67082\\u5468\", \"9\\u67083\\u5468\", \"9\\u67084\\u5468\", \"10\\u67082\\u5468\"], \"y\": [1.0, null, null, 1.0, 1.0, null], \"type\": \"bar\", \"uid\": \"d92102b2-cdb6-11e8-a024-a81e84e6c740\"}, {\"name\": \"\\u6d41\\u6c34\\u53f7(\\u6bb5\\u5229\\u5f3a)\", \"x\": [\"8\\u67085\\u5468\", \"9\\u67081\\u5468\", \"9\\u67082\\u5468\", \"9\\u67083\\u5468\", \"9\\u67084\\u5468\", \"10\\u67082\\u5468\"], \"y\": [null, 1.0, 5.0, null, null, null], \"type\": \"bar\", \"uid\": \"d92106d6-cdb6-11e8-a024-a81e84e6c740\"}, {\"name\": \"\\u6d41\\u6c34\\u53f7(\\u4e8e\\u52c7\\u4e00)\", \"x\": [\"8\\u67085\\u5468\", \"9\\u67081\\u5468\", \"9\\u67082\\u5468\", \"9\\u67083\\u5468\", \"9\\u67084\\u5468\", \"10\\u67082\\u5468\"], \"y\": [null, null, null, 1.0, null, null], \"type\": \"bar\", \"uid\": \"d9210a8c-cdb6-11e8-a024-a81e84e6c740\"}, {\"name\": \"\\u6d41\\u6c34\\u53f7(\\u6768\\u5b87)\", \"x\": [\"8\\u67085\\u5468\", \"9\\u67081\\u5468\", \"9\\u67082\\u5468\", \"9\\u67083\\u5468\", \"9\\u67084\\u5468\", \"10\\u67082\\u5468\"], \"y\": [null, 2.0, 4.0, 4.0, 1.0, null], \"type\": \"bar\", \"uid\": \"d9210e10-cdb6-11e8-a024-a81e84e6c740\"}, {\"name\": \"\\u6d41\\u6c34\\u53f7(\\u9a6c\\u6f47)\", \"x\": [\"8\\u67085\\u5468\", \"9\\u67081\\u5468\", \"9\\u67082\\u5468\", \"9\\u67083\\u5468\", \"9\\u67084\\u5468\", \"10\\u67082\\u5468\"], \"y\": [null, 2.0, 2.0, null, 4.0, null], \"type\": \"bar\", \"uid\": \"d9211194-cdb6-11e8-a024-a81e84e6c740\"}, {\"name\": \"\\u6d41\\u6c34\\u53f7(\\u89e3\\u98de)\", \"x\": [\"8\\u67085\\u5468\", \"9\\u67081\\u5468\", \"9\\u67082\\u5468\", \"9\\u67083\\u5468\", \"9\\u67084\\u5468\", \"10\\u67082\\u5468\"], \"y\": [null, null, null, null, 1.0, 1.0], \"type\": \"bar\", \"uid\": \"d92114fa-cdb6-11e8-a024-a81e84e6c740\"}, {\"name\": \"\\u6d41\\u6c34\\u53f7(\\u5218\\u68a6\\u82d1)\", \"x\": [\"8\\u67085\\u5468\", \"9\\u67081\\u5468\", \"9\\u67082\\u5468\", \"9\\u67083\\u5468\", \"9\\u67084\\u5468\", \"10\\u67082\\u5468\"], \"y\": [null, 2.0, null, 2.0, 3.0, null], \"type\": \"bar\", \"uid\": \"d921186a-cdb6-11e8-a024-a81e84e6c740\"}, {\"name\": \"\\u6d41\\u6c34\\u53f7(\\u6768\\u4f1f\\u98de)\", \"x\": [\"8\\u67085\\u5468\", \"9\\u67081\\u5468\", \"9\\u67082\\u5468\", \"9\\u67083\\u5468\", \"9\\u67084\\u5468\", \"10\\u67082\\u5468\"], \"y\": [null, 2.0, 2.0, null, null, null], \"type\": \"bar\", \"uid\": \"d9211bd0-cdb6-11e8-a024-a81e84e6c740\"}, {\"name\": \"\\u6d41\\u6c34\\u53f7(\\u51b7\\u96ea)\", \"x\": [\"8\\u67085\\u5468\", \"9\\u67081\\u5468\", \"9\\u67082\\u5468\", \"9\\u67083\\u5468\", \"9\\u67084\\u5468\", \"10\\u67082\\u5468\"], \"y\": [null, 1.0, 1.0, null, 4.0, null], \"type\": \"bar\", \"uid\": \"d9211f40-cdb6-11e8-a024-a81e84e6c740\"}, {\"name\": \"\\u6d41\\u6c34\\u53f7(\\u5218\\u6c38\\u5f3a)\", \"x\": [\"8\\u67085\\u5468\", \"9\\u67081\\u5468\", \"9\\u67082\\u5468\", \"9\\u67083\\u5468\", \"9\\u67084\\u5468\", \"10\\u67082\\u5468\"], \"y\": [null, 1.0, null, 1.0, null, null], \"type\": \"bar\", \"uid\": \"d92122a6-cdb6-11e8-a024-a81e84e6c740\"}, {\"name\": \"\\u6d41\\u6c34\\u53f7(\\u6c88\\u6069\\u60e0)\", \"x\": [\"8\\u67085\\u5468\", \"9\\u67081\\u5468\", \"9\\u67082\\u5468\", \"9\\u67083\\u5468\", \"9\\u67084\\u5468\", \"10\\u67082\\u5468\"], \"y\": [null, 1.0, null, 1.0, null, null], \"type\": \"bar\", \"uid\": \"d921260c-cdb6-11e8-a024-a81e84e6c740\"}, {\"name\": \"\\u6d41\\u6c34\\u53f7(\\u5360\\u4f1f)\", \"x\": [\"8\\u67085\\u5468\", \"9\\u67081\\u5468\", \"9\\u67082\\u5468\", \"9\\u67083\\u5468\", \"9\\u67084\\u5468\", \"10\\u67082\\u5468\"], \"y\": [null, 2.0, 1.0, null, null, null], \"type\": \"bar\", \"uid\": \"d9212968-cdb6-11e8-a024-a81e84e6c740\"}, {\"name\": \"\\u6d41\\u6c34\\u53f7(\\u6731\\u6167\\u840d)\", \"x\": [\"8\\u67085\\u5468\", \"9\\u67081\\u5468\", \"9\\u67082\\u5468\", \"9\\u67083\\u5468\", \"9\\u67084\\u5468\", \"10\\u67082\\u5468\"], \"y\": [4.0, 3.0, 5.0, 2.0, 3.0, null], \"type\": \"bar\", \"uid\": \"d9212cce-cdb6-11e8-a024-a81e84e6c740\"}, {\"name\": \"\\u6d41\\u6c34\\u53f7(\\u738b\\u4f20\\u6587)\", \"x\": [\"8\\u67085\\u5468\", \"9\\u67081\\u5468\", \"9\\u67082\\u5468\", \"9\\u67083\\u5468\", \"9\\u67084\\u5468\", \"10\\u67082\\u5468\"], \"y\": [null, null, null, 1.0, null, null], \"type\": \"bar\", \"uid\": \"d9213034-cdb6-11e8-a024-a81e84e6c740\"}, {\"name\": \"\\u6d41\\u6c34\\u53f7(\\u5c01\\u5f66\\u6770)\", \"x\": [\"8\\u67085\\u5468\", \"9\\u67081\\u5468\", \"9\\u67082\\u5468\", \"9\\u67083\\u5468\", \"9\\u67084\\u5468\", \"10\\u67082\\u5468\"], \"y\": [null, null, null, null, 1.0, null], \"type\": \"bar\", \"uid\": \"d921339a-cdb6-11e8-a024-a81e84e6c740\"}, {\"name\": \"\\u6d41\\u6c34\\u53f7(\\u9ad8\\u5251)\", \"x\": [\"8\\u67085\\u5468\", \"9\\u67081\\u5468\", \"9\\u67082\\u5468\", \"9\\u67083\\u5468\", \"9\\u67084\\u5468\", \"10\\u67082\\u5468\"], \"y\": [null, 1.0, null, null, null, null], \"type\": \"bar\", \"uid\": \"d92136f6-cdb6-11e8-a024-a81e84e6c740\"}, {\"name\": \"\\u6d41\\u6c34\\u53f7(\\u9648\\u78a7\\u96ef)\", \"x\": [\"8\\u67085\\u5468\", \"9\\u67081\\u5468\", \"9\\u67082\\u5468\", \"9\\u67083\\u5468\", \"9\\u67084\\u5468\", \"10\\u67082\\u5468\"], \"y\": [null, 4.0, 2.0, 1.0, 3.0, null], \"type\": \"bar\", \"uid\": \"d9213a66-cdb6-11e8-a024-a81e84e6c740\"}, {\"name\": \"\\u6d41\\u6c34\\u53f7(\\u8d75\\u73a5)\", \"x\": [\"8\\u67085\\u5468\", \"9\\u67081\\u5468\", \"9\\u67082\\u5468\", \"9\\u67083\\u5468\", \"9\\u67084\\u5468\", \"10\\u67082\\u5468\"], \"y\": [null, null, 1.0, null, null, null], \"type\": \"bar\", \"uid\": \"d9213dcc-cdb6-11e8-a024-a81e84e6c740\"}, {\"name\": \"\\u6d41\\u6c34\\u53f7(\\u9773\\u751c\\u751c)\", \"x\": [\"8\\u67085\\u5468\", \"9\\u67081\\u5468\", \"9\\u67082\\u5468\", \"9\\u67083\\u5468\", \"9\\u67084\\u5468\", \"10\\u67082\\u5468\"], \"y\": [null, null, 1.0, null, null, null], \"type\": \"bar\", \"uid\": \"d9214132-cdb6-11e8-a024-a81e84e6c740\"}, {\"name\": \"\\u6d41\\u6c34\\u53f7(\\u6636\\u5409\\u9633)\", \"x\": [\"8\\u67085\\u5468\", \"9\\u67081\\u5468\", \"9\\u67082\\u5468\", \"9\\u67083\\u5468\", \"9\\u67084\\u5468\", \"10\\u67082\\u5468\"], \"y\": [null, 1.0, 2.0, null, 4.0, null], \"type\": \"bar\", \"uid\": \"d9214498-cdb6-11e8-a024-a81e84e6c740\"}, {\"name\": \"\\u6d41\\u6c34\\u53f7(\\u8f66\\u5929\\u680b)\", \"x\": [\"8\\u67085\\u5468\", \"9\\u67081\\u5468\", \"9\\u67082\\u5468\", \"9\\u67083\\u5468\", \"9\\u67084\\u5468\", \"10\\u67082\\u5468\"], \"y\": [null, null, 1.0, 1.0, null, null], \"type\": \"bar\", \"uid\": \"d92147fe-cdb6-11e8-a024-a81e84e6c740\"}, {\"name\": \"\\u6d41\\u6c34\\u53f7(\\u51af\\u656c\\u5ca9)\", \"x\": [\"8\\u67085\\u5468\", \"9\\u67081\\u5468\", \"9\\u67082\\u5468\", \"9\\u67083\\u5468\", \"9\\u67084\\u5468\", \"10\\u67082\\u5468\"], \"y\": [null, 4.0, 4.0, 3.0, 4.0, null], \"type\": \"bar\", \"uid\": \"d9214b64-cdb6-11e8-a024-a81e84e6c740\"}, {\"name\": \"\\u6d41\\u6c34\\u53f7(\\u738b\\u971e)\", \"x\": [\"8\\u67085\\u5468\", \"9\\u67081\\u5468\", \"9\\u67082\\u5468\", \"9\\u67083\\u5468\", \"9\\u67084\\u5468\", \"10\\u67082\\u5468\"], \"y\": [null, 2.0, 2.0, 5.0, 1.0, null], \"type\": \"bar\", \"uid\": \"d9214ed4-cdb6-11e8-a024-a81e84e6c740\"}, {\"name\": \"\\u6d41\\u6c34\\u53f7(\\u4f55\\u80dc)\", \"x\": [\"8\\u67085\\u5468\", \"9\\u67081\\u5468\", \"9\\u67082\\u5468\", \"9\\u67083\\u5468\", \"9\\u67084\\u5468\", \"10\\u67082\\u5468\"], \"y\": [null, 4.0, 3.0, 4.0, 2.0, null], \"type\": \"bar\", \"uid\": \"d9215244-cdb6-11e8-a024-a81e84e6c740\"}, {\"name\": \"\\u6d41\\u6c34\\u53f7(\\u5b8b\\u5c11\\u5b87)\", \"x\": [\"8\\u67085\\u5468\", \"9\\u67081\\u5468\", \"9\\u67082\\u5468\", \"9\\u67083\\u5468\", \"9\\u67084\\u5468\", \"10\\u67082\\u5468\"], \"y\": [null, 1.0, null, null, 1.0, null], \"type\": \"bar\", \"uid\": \"d92155aa-cdb6-11e8-a024-a81e84e6c740\"}, {\"name\": \"\\u6d41\\u6c34\\u53f7(\\u8d75\\u5029)\", \"x\": [\"8\\u67085\\u5468\", \"9\\u67081\\u5468\", \"9\\u67082\\u5468\", \"9\\u67083\\u5468\", \"9\\u67084\\u5468\", \"10\\u67082\\u5468\"], \"y\": [null, 5.0, 7.0, 4.0, 5.0, null], \"type\": \"bar\", \"uid\": \"d9215910-cdb6-11e8-a024-a81e84e6c740\"}, {\"name\": \"\\u6d41\\u6c34\\u53f7(\\u6797\\u6587\\u6587)\", \"x\": [\"8\\u67085\\u5468\", \"9\\u67081\\u5468\", \"9\\u67082\\u5468\", \"9\\u67083\\u5468\", \"9\\u67084\\u5468\", \"10\\u67082\\u5468\"], \"y\": [null, null, 2.0, 3.0, null, null], \"type\": \"bar\", \"uid\": \"d9215c6c-cdb6-11e8-a024-a81e84e6c740\"}, {\"name\": \"\\u6d41\\u6c34\\u53f7(\\u674e\\u534e\\u4e91)\", \"x\": [\"8\\u67085\\u5468\", \"9\\u67081\\u5468\", \"9\\u67082\\u5468\", \"9\\u67083\\u5468\", \"9\\u67084\\u5468\", \"10\\u67082\\u5468\"], \"y\": [null, null, null, 1.0, 1.0, null], \"type\": \"bar\", \"uid\": \"d9215fe6-cdb6-11e8-a024-a81e84e6c740\"}, {\"name\": \"\\u6d41\\u6c34\\u53f7(\\u95fb\\u5c11\\u6960)\", \"x\": [\"8\\u67085\\u5468\", \"9\\u67081\\u5468\", \"9\\u67082\\u5468\", \"9\\u67083\\u5468\", \"9\\u67084\\u5468\", \"10\\u67082\\u5468\"], \"y\": [null, null, 2.0, 1.0, 1.0, null], \"type\": \"bar\", \"uid\": \"d9216356-cdb6-11e8-a024-a81e84e6c740\"}, {\"name\": \"\\u6d41\\u6c34\\u53f7(\\u8303\\u65ed\\u5b81)\", \"x\": [\"8\\u67085\\u5468\", \"9\\u67081\\u5468\", \"9\\u67082\\u5468\", \"9\\u67083\\u5468\", \"9\\u67084\\u5468\", \"10\\u67082\\u5468\"], \"y\": [null, 1.0, null, 2.0, 2.0, null], \"type\": \"bar\", \"uid\": \"d92166bc-cdb6-11e8-a024-a81e84e6c740\"}, {\"name\": \"\\u6d41\\u6c34\\u53f7(\\u4efb\\u96ea)\", \"x\": [\"8\\u67085\\u5468\", \"9\\u67081\\u5468\", \"9\\u67082\\u5468\", \"9\\u67083\\u5468\", \"9\\u67084\\u5468\", \"10\\u67082\\u5468\"], \"y\": [null, null, null, null, 1.0, null], \"type\": \"bar\", \"uid\": \"d9216a22-cdb6-11e8-a024-a81e84e6c740\"}, {\"name\": \"\\u6d41\\u6c34\\u53f7(\\u5218\\u6c5f)\", \"x\": [\"8\\u67085\\u5468\", \"9\\u67081\\u5468\", \"9\\u67082\\u5468\", \"9\\u67083\\u5468\", \"9\\u67084\\u5468\", \"10\\u67082\\u5468\"], \"y\": [null, 2.0, 1.0, null, null, null], \"type\": \"bar\", \"uid\": \"d9216d88-cdb6-11e8-a024-a81e84e6c740\"}, {\"name\": \"\\u6d41\\u6c34\\u53f7(\\u59da\\u76df\\u6210)\", \"x\": [\"8\\u67085\\u5468\", \"9\\u67081\\u5468\", \"9\\u67082\\u5468\", \"9\\u67083\\u5468\", \"9\\u67084\\u5468\", \"10\\u67082\\u5468\"], \"y\": [null, 1.0, null, 1.0, null, null], \"type\": \"bar\", \"uid\": \"d92170e4-cdb6-11e8-a024-a81e84e6c740\"}, {\"name\": \"\\u6d41\\u6c34\\u53f7(\\u6c88\\u7acb\\u7fa4)\", \"x\": [\"8\\u67085\\u5468\", \"9\\u67081\\u5468\", \"9\\u67082\\u5468\", \"9\\u67083\\u5468\", \"9\\u67084\\u5468\", \"10\\u67082\\u5468\"], \"y\": [null, null, null, 1.0, null, null], \"type\": \"bar\", \"uid\": \"d921744a-cdb6-11e8-a024-a81e84e6c740\"}, {\"name\": \"\\u6d41\\u6c34\\u53f7(\\u9648\\u9e4f\\u71d5)\", \"x\": [\"8\\u67085\\u5468\", \"9\\u67081\\u5468\", \"9\\u67082\\u5468\", \"9\\u67083\\u5468\", \"9\\u67084\\u5468\", \"10\\u67082\\u5468\"], \"y\": [1.0, 2.0, 3.0, 5.0, null, null], \"type\": \"bar\", \"uid\": \"d92177a6-cdb6-11e8-a024-a81e84e6c740\"}, {\"name\": \"\\u6d41\\u6c34\\u53f7(\\u4e8e\\u6167)\", \"x\": [\"8\\u67085\\u5468\", \"9\\u67081\\u5468\", \"9\\u67082\\u5468\", \"9\\u67083\\u5468\", \"9\\u67084\\u5468\", \"10\\u67082\\u5468\"], \"y\": [null, null, 1.0, 1.0, null, null], \"type\": \"bar\", \"uid\": \"d9217b02-cdb6-11e8-a024-a81e84e6c740\"}, {\"name\": \"\\u6d41\\u6c34\\u53f7(\\u97e9\\u5c11\\u6000)\", \"x\": [\"8\\u67085\\u5468\", \"9\\u67081\\u5468\", \"9\\u67082\\u5468\", \"9\\u67083\\u5468\", \"9\\u67084\\u5468\", \"10\\u67082\\u5468\"], \"y\": [null, 1.0, null, null, 1.0, null], \"type\": \"bar\", \"uid\": \"d9217e68-cdb6-11e8-a024-a81e84e6c740\"}], {\"barmode\": \"stack\", \"title\": \"\\u6d41\\u6c34\\u53f7\\u5468\\u8d8b\\u52bf\\u56fe\", \"xaxis\": {\"mirror\": \"all\", \"nticks\": 20, \"showgrid\": true, \"showline\": true, \"title\": \"\\u5468\", \"zeroline\": true}, \"yaxis\": {\"mirror\": \"all\", \"nticks\": 20, \"showgrid\": true, \"showline\": true, \"title\": \"\\u6d41\\u6c34\\u53f7\", \"zeroline\": true}}, {\"showLink\": true, \"linkText\": \"Export to plot.ly\"})});</script>"
      ],
      "text/vnd.plotly.v1+html": [
       "<div id=\"278eb389-9701-4c33-8199-f8b4bec26a17\" style=\"height: 525px; width: 100%;\" class=\"plotly-graph-div\"></div><script type=\"text/javascript\">require([\"plotly\"], function(Plotly) { window.PLOTLYENV=window.PLOTLYENV || {};window.PLOTLYENV.BASE_URL=\"https://plot.ly\";Plotly.newPlot(\"278eb389-9701-4c33-8199-f8b4bec26a17\", [{\"name\": \"\\u6d41\\u6c34\\u53f7(\\u82d1\\u8d5e)\", \"x\": [\"8\\u67085\\u5468\", \"9\\u67081\\u5468\", \"9\\u67082\\u5468\", \"9\\u67083\\u5468\", \"9\\u67084\\u5468\", \"10\\u67082\\u5468\"], \"y\": [null, null, null, null, 1.0, null], \"type\": \"bar\", \"uid\": \"d920fd30-cdb6-11e8-a024-a81e84e6c740\"}, {\"name\": \"\\u6d41\\u6c34\\u53f7(\\u5c48\\u6602)\", \"x\": [\"8\\u67085\\u5468\", \"9\\u67081\\u5468\", \"9\\u67082\\u5468\", \"9\\u67083\\u5468\", \"9\\u67084\\u5468\", \"10\\u67082\\u5468\"], \"y\": [1.0, null, null, 1.0, 1.0, null], \"type\": \"bar\", \"uid\": \"d92102b2-cdb6-11e8-a024-a81e84e6c740\"}, {\"name\": \"\\u6d41\\u6c34\\u53f7(\\u6bb5\\u5229\\u5f3a)\", \"x\": [\"8\\u67085\\u5468\", \"9\\u67081\\u5468\", \"9\\u67082\\u5468\", \"9\\u67083\\u5468\", \"9\\u67084\\u5468\", \"10\\u67082\\u5468\"], \"y\": [null, 1.0, 5.0, null, null, null], \"type\": \"bar\", \"uid\": \"d92106d6-cdb6-11e8-a024-a81e84e6c740\"}, {\"name\": \"\\u6d41\\u6c34\\u53f7(\\u4e8e\\u52c7\\u4e00)\", \"x\": [\"8\\u67085\\u5468\", \"9\\u67081\\u5468\", \"9\\u67082\\u5468\", \"9\\u67083\\u5468\", \"9\\u67084\\u5468\", \"10\\u67082\\u5468\"], \"y\": [null, null, null, 1.0, null, null], \"type\": \"bar\", \"uid\": \"d9210a8c-cdb6-11e8-a024-a81e84e6c740\"}, {\"name\": \"\\u6d41\\u6c34\\u53f7(\\u6768\\u5b87)\", \"x\": [\"8\\u67085\\u5468\", \"9\\u67081\\u5468\", \"9\\u67082\\u5468\", \"9\\u67083\\u5468\", \"9\\u67084\\u5468\", \"10\\u67082\\u5468\"], \"y\": [null, 2.0, 4.0, 4.0, 1.0, null], \"type\": \"bar\", \"uid\": \"d9210e10-cdb6-11e8-a024-a81e84e6c740\"}, {\"name\": \"\\u6d41\\u6c34\\u53f7(\\u9a6c\\u6f47)\", \"x\": [\"8\\u67085\\u5468\", \"9\\u67081\\u5468\", \"9\\u67082\\u5468\", \"9\\u67083\\u5468\", \"9\\u67084\\u5468\", \"10\\u67082\\u5468\"], \"y\": [null, 2.0, 2.0, null, 4.0, null], \"type\": \"bar\", \"uid\": \"d9211194-cdb6-11e8-a024-a81e84e6c740\"}, {\"name\": \"\\u6d41\\u6c34\\u53f7(\\u89e3\\u98de)\", \"x\": [\"8\\u67085\\u5468\", \"9\\u67081\\u5468\", \"9\\u67082\\u5468\", \"9\\u67083\\u5468\", \"9\\u67084\\u5468\", \"10\\u67082\\u5468\"], \"y\": [null, null, null, null, 1.0, 1.0], \"type\": \"bar\", \"uid\": \"d92114fa-cdb6-11e8-a024-a81e84e6c740\"}, {\"name\": \"\\u6d41\\u6c34\\u53f7(\\u5218\\u68a6\\u82d1)\", \"x\": [\"8\\u67085\\u5468\", \"9\\u67081\\u5468\", \"9\\u67082\\u5468\", \"9\\u67083\\u5468\", \"9\\u67084\\u5468\", \"10\\u67082\\u5468\"], \"y\": [null, 2.0, null, 2.0, 3.0, null], \"type\": \"bar\", \"uid\": \"d921186a-cdb6-11e8-a024-a81e84e6c740\"}, {\"name\": \"\\u6d41\\u6c34\\u53f7(\\u6768\\u4f1f\\u98de)\", \"x\": [\"8\\u67085\\u5468\", \"9\\u67081\\u5468\", \"9\\u67082\\u5468\", \"9\\u67083\\u5468\", \"9\\u67084\\u5468\", \"10\\u67082\\u5468\"], \"y\": [null, 2.0, 2.0, null, null, null], \"type\": \"bar\", \"uid\": \"d9211bd0-cdb6-11e8-a024-a81e84e6c740\"}, {\"name\": \"\\u6d41\\u6c34\\u53f7(\\u51b7\\u96ea)\", \"x\": [\"8\\u67085\\u5468\", \"9\\u67081\\u5468\", \"9\\u67082\\u5468\", \"9\\u67083\\u5468\", \"9\\u67084\\u5468\", \"10\\u67082\\u5468\"], \"y\": [null, 1.0, 1.0, null, 4.0, null], \"type\": \"bar\", \"uid\": \"d9211f40-cdb6-11e8-a024-a81e84e6c740\"}, {\"name\": \"\\u6d41\\u6c34\\u53f7(\\u5218\\u6c38\\u5f3a)\", \"x\": [\"8\\u67085\\u5468\", \"9\\u67081\\u5468\", \"9\\u67082\\u5468\", \"9\\u67083\\u5468\", \"9\\u67084\\u5468\", \"10\\u67082\\u5468\"], \"y\": [null, 1.0, null, 1.0, null, null], \"type\": \"bar\", \"uid\": \"d92122a6-cdb6-11e8-a024-a81e84e6c740\"}, {\"name\": \"\\u6d41\\u6c34\\u53f7(\\u6c88\\u6069\\u60e0)\", \"x\": [\"8\\u67085\\u5468\", \"9\\u67081\\u5468\", \"9\\u67082\\u5468\", \"9\\u67083\\u5468\", \"9\\u67084\\u5468\", \"10\\u67082\\u5468\"], \"y\": [null, 1.0, null, 1.0, null, null], \"type\": \"bar\", \"uid\": \"d921260c-cdb6-11e8-a024-a81e84e6c740\"}, {\"name\": \"\\u6d41\\u6c34\\u53f7(\\u5360\\u4f1f)\", \"x\": [\"8\\u67085\\u5468\", \"9\\u67081\\u5468\", \"9\\u67082\\u5468\", \"9\\u67083\\u5468\", \"9\\u67084\\u5468\", \"10\\u67082\\u5468\"], \"y\": [null, 2.0, 1.0, null, null, null], \"type\": \"bar\", \"uid\": \"d9212968-cdb6-11e8-a024-a81e84e6c740\"}, {\"name\": \"\\u6d41\\u6c34\\u53f7(\\u6731\\u6167\\u840d)\", \"x\": [\"8\\u67085\\u5468\", \"9\\u67081\\u5468\", \"9\\u67082\\u5468\", \"9\\u67083\\u5468\", \"9\\u67084\\u5468\", \"10\\u67082\\u5468\"], \"y\": [4.0, 3.0, 5.0, 2.0, 3.0, null], \"type\": \"bar\", \"uid\": \"d9212cce-cdb6-11e8-a024-a81e84e6c740\"}, {\"name\": \"\\u6d41\\u6c34\\u53f7(\\u738b\\u4f20\\u6587)\", \"x\": [\"8\\u67085\\u5468\", \"9\\u67081\\u5468\", \"9\\u67082\\u5468\", \"9\\u67083\\u5468\", \"9\\u67084\\u5468\", \"10\\u67082\\u5468\"], \"y\": [null, null, null, 1.0, null, null], \"type\": \"bar\", \"uid\": \"d9213034-cdb6-11e8-a024-a81e84e6c740\"}, {\"name\": \"\\u6d41\\u6c34\\u53f7(\\u5c01\\u5f66\\u6770)\", \"x\": [\"8\\u67085\\u5468\", \"9\\u67081\\u5468\", \"9\\u67082\\u5468\", \"9\\u67083\\u5468\", \"9\\u67084\\u5468\", \"10\\u67082\\u5468\"], \"y\": [null, null, null, null, 1.0, null], \"type\": \"bar\", \"uid\": \"d921339a-cdb6-11e8-a024-a81e84e6c740\"}, {\"name\": \"\\u6d41\\u6c34\\u53f7(\\u9ad8\\u5251)\", \"x\": [\"8\\u67085\\u5468\", \"9\\u67081\\u5468\", \"9\\u67082\\u5468\", \"9\\u67083\\u5468\", \"9\\u67084\\u5468\", \"10\\u67082\\u5468\"], \"y\": [null, 1.0, null, null, null, null], \"type\": \"bar\", \"uid\": \"d92136f6-cdb6-11e8-a024-a81e84e6c740\"}, {\"name\": \"\\u6d41\\u6c34\\u53f7(\\u9648\\u78a7\\u96ef)\", \"x\": [\"8\\u67085\\u5468\", \"9\\u67081\\u5468\", \"9\\u67082\\u5468\", \"9\\u67083\\u5468\", \"9\\u67084\\u5468\", \"10\\u67082\\u5468\"], \"y\": [null, 4.0, 2.0, 1.0, 3.0, null], \"type\": \"bar\", \"uid\": \"d9213a66-cdb6-11e8-a024-a81e84e6c740\"}, {\"name\": \"\\u6d41\\u6c34\\u53f7(\\u8d75\\u73a5)\", \"x\": [\"8\\u67085\\u5468\", \"9\\u67081\\u5468\", \"9\\u67082\\u5468\", \"9\\u67083\\u5468\", \"9\\u67084\\u5468\", \"10\\u67082\\u5468\"], \"y\": [null, null, 1.0, null, null, null], \"type\": \"bar\", \"uid\": \"d9213dcc-cdb6-11e8-a024-a81e84e6c740\"}, {\"name\": \"\\u6d41\\u6c34\\u53f7(\\u9773\\u751c\\u751c)\", \"x\": [\"8\\u67085\\u5468\", \"9\\u67081\\u5468\", \"9\\u67082\\u5468\", \"9\\u67083\\u5468\", \"9\\u67084\\u5468\", \"10\\u67082\\u5468\"], \"y\": [null, null, 1.0, null, null, null], \"type\": \"bar\", \"uid\": \"d9214132-cdb6-11e8-a024-a81e84e6c740\"}, {\"name\": \"\\u6d41\\u6c34\\u53f7(\\u6636\\u5409\\u9633)\", \"x\": [\"8\\u67085\\u5468\", \"9\\u67081\\u5468\", \"9\\u67082\\u5468\", \"9\\u67083\\u5468\", \"9\\u67084\\u5468\", \"10\\u67082\\u5468\"], \"y\": [null, 1.0, 2.0, null, 4.0, null], \"type\": \"bar\", \"uid\": \"d9214498-cdb6-11e8-a024-a81e84e6c740\"}, {\"name\": \"\\u6d41\\u6c34\\u53f7(\\u8f66\\u5929\\u680b)\", \"x\": [\"8\\u67085\\u5468\", \"9\\u67081\\u5468\", \"9\\u67082\\u5468\", \"9\\u67083\\u5468\", \"9\\u67084\\u5468\", \"10\\u67082\\u5468\"], \"y\": [null, null, 1.0, 1.0, null, null], \"type\": \"bar\", \"uid\": \"d92147fe-cdb6-11e8-a024-a81e84e6c740\"}, {\"name\": \"\\u6d41\\u6c34\\u53f7(\\u51af\\u656c\\u5ca9)\", \"x\": [\"8\\u67085\\u5468\", \"9\\u67081\\u5468\", \"9\\u67082\\u5468\", \"9\\u67083\\u5468\", \"9\\u67084\\u5468\", \"10\\u67082\\u5468\"], \"y\": [null, 4.0, 4.0, 3.0, 4.0, null], \"type\": \"bar\", \"uid\": \"d9214b64-cdb6-11e8-a024-a81e84e6c740\"}, {\"name\": \"\\u6d41\\u6c34\\u53f7(\\u738b\\u971e)\", \"x\": [\"8\\u67085\\u5468\", \"9\\u67081\\u5468\", \"9\\u67082\\u5468\", \"9\\u67083\\u5468\", \"9\\u67084\\u5468\", \"10\\u67082\\u5468\"], \"y\": [null, 2.0, 2.0, 5.0, 1.0, null], \"type\": \"bar\", \"uid\": \"d9214ed4-cdb6-11e8-a024-a81e84e6c740\"}, {\"name\": \"\\u6d41\\u6c34\\u53f7(\\u4f55\\u80dc)\", \"x\": [\"8\\u67085\\u5468\", \"9\\u67081\\u5468\", \"9\\u67082\\u5468\", \"9\\u67083\\u5468\", \"9\\u67084\\u5468\", \"10\\u67082\\u5468\"], \"y\": [null, 4.0, 3.0, 4.0, 2.0, null], \"type\": \"bar\", \"uid\": \"d9215244-cdb6-11e8-a024-a81e84e6c740\"}, {\"name\": \"\\u6d41\\u6c34\\u53f7(\\u5b8b\\u5c11\\u5b87)\", \"x\": [\"8\\u67085\\u5468\", \"9\\u67081\\u5468\", \"9\\u67082\\u5468\", \"9\\u67083\\u5468\", \"9\\u67084\\u5468\", \"10\\u67082\\u5468\"], \"y\": [null, 1.0, null, null, 1.0, null], \"type\": \"bar\", \"uid\": \"d92155aa-cdb6-11e8-a024-a81e84e6c740\"}, {\"name\": \"\\u6d41\\u6c34\\u53f7(\\u8d75\\u5029)\", \"x\": [\"8\\u67085\\u5468\", \"9\\u67081\\u5468\", \"9\\u67082\\u5468\", \"9\\u67083\\u5468\", \"9\\u67084\\u5468\", \"10\\u67082\\u5468\"], \"y\": [null, 5.0, 7.0, 4.0, 5.0, null], \"type\": \"bar\", \"uid\": \"d9215910-cdb6-11e8-a024-a81e84e6c740\"}, {\"name\": \"\\u6d41\\u6c34\\u53f7(\\u6797\\u6587\\u6587)\", \"x\": [\"8\\u67085\\u5468\", \"9\\u67081\\u5468\", \"9\\u67082\\u5468\", \"9\\u67083\\u5468\", \"9\\u67084\\u5468\", \"10\\u67082\\u5468\"], \"y\": [null, null, 2.0, 3.0, null, null], \"type\": \"bar\", \"uid\": \"d9215c6c-cdb6-11e8-a024-a81e84e6c740\"}, {\"name\": \"\\u6d41\\u6c34\\u53f7(\\u674e\\u534e\\u4e91)\", \"x\": [\"8\\u67085\\u5468\", \"9\\u67081\\u5468\", \"9\\u67082\\u5468\", \"9\\u67083\\u5468\", \"9\\u67084\\u5468\", \"10\\u67082\\u5468\"], \"y\": [null, null, null, 1.0, 1.0, null], \"type\": \"bar\", \"uid\": \"d9215fe6-cdb6-11e8-a024-a81e84e6c740\"}, {\"name\": \"\\u6d41\\u6c34\\u53f7(\\u95fb\\u5c11\\u6960)\", \"x\": [\"8\\u67085\\u5468\", \"9\\u67081\\u5468\", \"9\\u67082\\u5468\", \"9\\u67083\\u5468\", \"9\\u67084\\u5468\", \"10\\u67082\\u5468\"], \"y\": [null, null, 2.0, 1.0, 1.0, null], \"type\": \"bar\", \"uid\": \"d9216356-cdb6-11e8-a024-a81e84e6c740\"}, {\"name\": \"\\u6d41\\u6c34\\u53f7(\\u8303\\u65ed\\u5b81)\", \"x\": [\"8\\u67085\\u5468\", \"9\\u67081\\u5468\", \"9\\u67082\\u5468\", \"9\\u67083\\u5468\", \"9\\u67084\\u5468\", \"10\\u67082\\u5468\"], \"y\": [null, 1.0, null, 2.0, 2.0, null], \"type\": \"bar\", \"uid\": \"d92166bc-cdb6-11e8-a024-a81e84e6c740\"}, {\"name\": \"\\u6d41\\u6c34\\u53f7(\\u4efb\\u96ea)\", \"x\": [\"8\\u67085\\u5468\", \"9\\u67081\\u5468\", \"9\\u67082\\u5468\", \"9\\u67083\\u5468\", \"9\\u67084\\u5468\", \"10\\u67082\\u5468\"], \"y\": [null, null, null, null, 1.0, null], \"type\": \"bar\", \"uid\": \"d9216a22-cdb6-11e8-a024-a81e84e6c740\"}, {\"name\": \"\\u6d41\\u6c34\\u53f7(\\u5218\\u6c5f)\", \"x\": [\"8\\u67085\\u5468\", \"9\\u67081\\u5468\", \"9\\u67082\\u5468\", \"9\\u67083\\u5468\", \"9\\u67084\\u5468\", \"10\\u67082\\u5468\"], \"y\": [null, 2.0, 1.0, null, null, null], \"type\": \"bar\", \"uid\": \"d9216d88-cdb6-11e8-a024-a81e84e6c740\"}, {\"name\": \"\\u6d41\\u6c34\\u53f7(\\u59da\\u76df\\u6210)\", \"x\": [\"8\\u67085\\u5468\", \"9\\u67081\\u5468\", \"9\\u67082\\u5468\", \"9\\u67083\\u5468\", \"9\\u67084\\u5468\", \"10\\u67082\\u5468\"], \"y\": [null, 1.0, null, 1.0, null, null], \"type\": \"bar\", \"uid\": \"d92170e4-cdb6-11e8-a024-a81e84e6c740\"}, {\"name\": \"\\u6d41\\u6c34\\u53f7(\\u6c88\\u7acb\\u7fa4)\", \"x\": [\"8\\u67085\\u5468\", \"9\\u67081\\u5468\", \"9\\u67082\\u5468\", \"9\\u67083\\u5468\", \"9\\u67084\\u5468\", \"10\\u67082\\u5468\"], \"y\": [null, null, null, 1.0, null, null], \"type\": \"bar\", \"uid\": \"d921744a-cdb6-11e8-a024-a81e84e6c740\"}, {\"name\": \"\\u6d41\\u6c34\\u53f7(\\u9648\\u9e4f\\u71d5)\", \"x\": [\"8\\u67085\\u5468\", \"9\\u67081\\u5468\", \"9\\u67082\\u5468\", \"9\\u67083\\u5468\", \"9\\u67084\\u5468\", \"10\\u67082\\u5468\"], \"y\": [1.0, 2.0, 3.0, 5.0, null, null], \"type\": \"bar\", \"uid\": \"d92177a6-cdb6-11e8-a024-a81e84e6c740\"}, {\"name\": \"\\u6d41\\u6c34\\u53f7(\\u4e8e\\u6167)\", \"x\": [\"8\\u67085\\u5468\", \"9\\u67081\\u5468\", \"9\\u67082\\u5468\", \"9\\u67083\\u5468\", \"9\\u67084\\u5468\", \"10\\u67082\\u5468\"], \"y\": [null, null, 1.0, 1.0, null, null], \"type\": \"bar\", \"uid\": \"d9217b02-cdb6-11e8-a024-a81e84e6c740\"}, {\"name\": \"\\u6d41\\u6c34\\u53f7(\\u97e9\\u5c11\\u6000)\", \"x\": [\"8\\u67085\\u5468\", \"9\\u67081\\u5468\", \"9\\u67082\\u5468\", \"9\\u67083\\u5468\", \"9\\u67084\\u5468\", \"10\\u67082\\u5468\"], \"y\": [null, 1.0, null, null, 1.0, null], \"type\": \"bar\", \"uid\": \"d9217e68-cdb6-11e8-a024-a81e84e6c740\"}], {\"barmode\": \"stack\", \"title\": \"\\u6d41\\u6c34\\u53f7\\u5468\\u8d8b\\u52bf\\u56fe\", \"xaxis\": {\"mirror\": \"all\", \"nticks\": 20, \"showgrid\": true, \"showline\": true, \"title\": \"\\u5468\", \"zeroline\": true}, \"yaxis\": {\"mirror\": \"all\", \"nticks\": 20, \"showgrid\": true, \"showline\": true, \"title\": \"\\u6d41\\u6c34\\u53f7\", \"zeroline\": true}}, {\"showLink\": true, \"linkText\": \"Export to plot.ly\"})});</script>"
      ]
     },
     "metadata": {},
     "output_type": "display_data"
    }
   ],
   "source": [
    "ss = myModule.format(df1 ,'week_number' ,['流水号'])\n",
    "ss.add_group('信息负责人')\n",
    "pp = myModule.sort_by_index(ss.groupby('count'))\n",
    "tt = myModule.myPlot(pp)\n",
    "tt.plot('stack_bar')"
   ]
  },
  {
   "cell_type": "code",
   "execution_count": 11,
   "metadata": {},
   "outputs": [
    {
     "data": {
      "application/vnd.plotly.v1+json": {
       "data": [
        {
         "name": "评估人时（h）(苑赞)",
         "type": "bar",
         "uid": "c7ac6896-cdb6-11e8-a024-a81e84e6c740",
         "x": [
          "8月5周",
          "9月1周",
          "9月2周",
          "9月3周",
          "9月4周",
          "10月2周"
         ],
         "y": [
          null,
          null,
          null,
          null,
          0,
          null
         ]
        },
        {
         "name": "评估人时（h）(屈昂)",
         "type": "bar",
         "uid": "c7ac6e18-cdb6-11e8-a024-a81e84e6c740",
         "x": [
          "8月5周",
          "9月1周",
          "9月2周",
          "9月3周",
          "9月4周",
          "10月2周"
         ],
         "y": [
          3,
          null,
          null,
          3,
          0,
          null
         ]
        },
        {
         "name": "评估人时（h）(段利强)",
         "type": "bar",
         "uid": "c7ac7246-cdb6-11e8-a024-a81e84e6c740",
         "x": [
          "8月5周",
          "9月1周",
          "9月2周",
          "9月3周",
          "9月4周",
          "10月2周"
         ],
         "y": [
          null,
          5,
          24,
          null,
          null,
          null
         ]
        },
        {
         "name": "评估人时（h）(于勇一)",
         "type": "bar",
         "uid": "c7ac761a-cdb6-11e8-a024-a81e84e6c740",
         "x": [
          "8月5周",
          "9月1周",
          "9月2周",
          "9月3周",
          "9月4周",
          "10月2周"
         ],
         "y": [
          null,
          null,
          null,
          4,
          null,
          null
         ]
        },
        {
         "name": "评估人时（h）(杨宇)",
         "type": "bar",
         "uid": "c7ac79bc-cdb6-11e8-a024-a81e84e6c740",
         "x": [
          "8月5周",
          "9月1周",
          "9月2周",
          "9月3周",
          "9月4周",
          "10月2周"
         ],
         "y": [
          null,
          8,
          12,
          6,
          0,
          null
         ]
        },
        {
         "name": "评估人时（h）(马潇)",
         "type": "bar",
         "uid": "c7ac7d40-cdb6-11e8-a024-a81e84e6c740",
         "x": [
          "8月5周",
          "9月1周",
          "9月2周",
          "9月3周",
          "9月4周",
          "10月2周"
         ],
         "y": [
          null,
          null,
          0,
          null,
          3,
          null
         ]
        },
        {
         "name": "评估人时（h）(解飞)",
         "type": "bar",
         "uid": "c7ac80c4-cdb6-11e8-a024-a81e84e6c740",
         "x": [
          "8月5周",
          "9月1周",
          "9月2周",
          "9月3周",
          "9月4周",
          "10月2周"
         ],
         "y": [
          null,
          null,
          null,
          null,
          0,
          0
         ]
        },
        {
         "name": "评估人时（h）(刘梦苑)",
         "type": "bar",
         "uid": "c7ac8448-cdb6-11e8-a024-a81e84e6c740",
         "x": [
          "8月5周",
          "9月1周",
          "9月2周",
          "9月3周",
          "9月4周",
          "10月2周"
         ],
         "y": [
          null,
          4,
          null,
          2,
          6,
          null
         ]
        },
        {
         "name": "评估人时（h）(杨伟飞)",
         "type": "bar",
         "uid": "c7ac87c2-cdb6-11e8-a024-a81e84e6c740",
         "x": [
          "8月5周",
          "9月1周",
          "9月2周",
          "9月3周",
          "9月4周",
          "10月2周"
         ],
         "y": [
          null,
          19,
          17,
          null,
          null,
          null
         ]
        },
        {
         "name": "评估人时（h）(冷雪)",
         "type": "bar",
         "uid": "c7ac8b3c-cdb6-11e8-a024-a81e84e6c740",
         "x": [
          "8月5周",
          "9月1周",
          "9月2周",
          "9月3周",
          "9月4周",
          "10月2周"
         ],
         "y": [
          null,
          0.5,
          9,
          null,
          15,
          null
         ]
        },
        {
         "name": "评估人时（h）(刘永强)",
         "type": "bar",
         "uid": "c7ac8ea2-cdb6-11e8-a024-a81e84e6c740",
         "x": [
          "8月5周",
          "9月1周",
          "9月2周",
          "9月3周",
          "9月4周",
          "10月2周"
         ],
         "y": [
          null,
          0,
          null,
          0,
          null,
          null
         ]
        },
        {
         "name": "评估人时（h）(沈恩惠)",
         "type": "bar",
         "uid": "c7ac921c-cdb6-11e8-a024-a81e84e6c740",
         "x": [
          "8月5周",
          "9月1周",
          "9月2周",
          "9月3周",
          "9月4周",
          "10月2周"
         ],
         "y": [
          null,
          3,
          null,
          3,
          null,
          null
         ]
        },
        {
         "name": "评估人时（h）(占伟)",
         "type": "bar",
         "uid": "c7ac9582-cdb6-11e8-a024-a81e84e6c740",
         "x": [
          "8月5周",
          "9月1周",
          "9月2周",
          "9月3周",
          "9月4周",
          "10月2周"
         ],
         "y": [
          null,
          8,
          3,
          null,
          null,
          null
         ]
        },
        {
         "name": "评估人时（h）(朱慧萍)",
         "type": "bar",
         "uid": "c7ac98f2-cdb6-11e8-a024-a81e84e6c740",
         "x": [
          "8月5周",
          "9月1周",
          "9月2周",
          "9月3周",
          "9月4周",
          "10月2周"
         ],
         "y": [
          0,
          0,
          0,
          0,
          0,
          null
         ]
        },
        {
         "name": "评估人时（h）(王传文)",
         "type": "bar",
         "uid": "c7ac9c62-cdb6-11e8-a024-a81e84e6c740",
         "x": [
          "8月5周",
          "9月1周",
          "9月2周",
          "9月3周",
          "9月4周",
          "10月2周"
         ],
         "y": [
          null,
          null,
          null,
          4,
          null,
          null
         ]
        },
        {
         "name": "评估人时（h）(封彦杰)",
         "type": "bar",
         "uid": "c7ac9fd2-cdb6-11e8-a024-a81e84e6c740",
         "x": [
          "8月5周",
          "9月1周",
          "9月2周",
          "9月3周",
          "9月4周",
          "10月2周"
         ],
         "y": [
          null,
          null,
          null,
          null,
          0,
          null
         ]
        },
        {
         "name": "评估人时（h）(高剑)",
         "type": "bar",
         "uid": "c7aca342-cdb6-11e8-a024-a81e84e6c740",
         "x": [
          "8月5周",
          "9月1周",
          "9月2周",
          "9月3周",
          "9月4周",
          "10月2周"
         ],
         "y": [
          null,
          3,
          null,
          null,
          null,
          null
         ]
        },
        {
         "name": "评估人时（h）(陈碧雯)",
         "type": "bar",
         "uid": "c7aca6f8-cdb6-11e8-a024-a81e84e6c740",
         "x": [
          "8月5周",
          "9月1周",
          "9月2周",
          "9月3周",
          "9月4周",
          "10月2周"
         ],
         "y": [
          null,
          "\n5\n10\n10\n3",
          6,
          3,
          0,
          null
         ]
        },
        {
         "name": "评估人时（h）(赵玥)",
         "type": "bar",
         "uid": "c7acaab8-cdb6-11e8-a024-a81e84e6c740",
         "x": [
          "8月5周",
          "9月1周",
          "9月2周",
          "9月3周",
          "9月4周",
          "10月2周"
         ],
         "y": [
          null,
          null,
          0,
          null,
          null,
          null
         ]
        },
        {
         "name": "评估人时（h）(靳甜甜)",
         "type": "bar",
         "uid": "c7acae32-cdb6-11e8-a024-a81e84e6c740",
         "x": [
          "8月5周",
          "9月1周",
          "9月2周",
          "9月3周",
          "9月4周",
          "10月2周"
         ],
         "y": [
          null,
          null,
          0,
          null,
          null,
          null
         ]
        },
        {
         "name": "评估人时（h）(昶吉阳)",
         "type": "bar",
         "uid": "c7acb1a2-cdb6-11e8-a024-a81e84e6c740",
         "x": [
          "8月5周",
          "9月1周",
          "9月2周",
          "9月3周",
          "9月4周",
          "10月2周"
         ],
         "y": [
          null,
          0,
          5,
          null,
          0,
          null
         ]
        },
        {
         "name": "评估人时（h）(车天栋)",
         "type": "bar",
         "uid": "c7acb508-cdb6-11e8-a024-a81e84e6c740",
         "x": [
          "8月5周",
          "9月1周",
          "9月2周",
          "9月3周",
          "9月4周",
          "10月2周"
         ],
         "y": [
          null,
          null,
          3,
          3,
          null,
          null
         ]
        },
        {
         "name": "评估人时（h）(冯敬岩)",
         "type": "bar",
         "uid": "c7acb878-cdb6-11e8-a024-a81e84e6c740",
         "x": [
          "8月5周",
          "9月1周",
          "9月2周",
          "9月3周",
          "9月4周",
          "10月2周"
         ],
         "y": [
          null,
          0,
          0,
          0,
          0,
          null
         ]
        },
        {
         "name": "评估人时（h）(王霞)",
         "type": "bar",
         "uid": "c7acbbde-cdb6-11e8-a024-a81e84e6c740",
         "x": [
          "8月5周",
          "9月1周",
          "9月2周",
          "9月3周",
          "9月4周",
          "10月2周"
         ],
         "y": [
          null,
          0,
          9,
          38,
          0,
          null
         ]
        },
        {
         "name": "评估人时（h）(何胜)",
         "type": "bar",
         "uid": "c7acc03e-cdb6-11e8-a024-a81e84e6c740",
         "x": [
          "8月5周",
          "9月1周",
          "9月2周",
          "9月3周",
          "9月4周",
          "10月2周"
         ],
         "y": [
          null,
          0,
          0,
          0,
          0,
          null
         ]
        },
        {
         "name": "评估人时（h）(宋少宇)",
         "type": "bar",
         "uid": "c7acc3a4-cdb6-11e8-a024-a81e84e6c740",
         "x": [
          "8月5周",
          "9月1周",
          "9月2周",
          "9月3周",
          "9月4周",
          "10月2周"
         ],
         "y": [
          null,
          3,
          null,
          null,
          0,
          null
         ]
        },
        {
         "name": "评估人时（h）(赵倩)",
         "type": "bar",
         "uid": "c7acc71e-cdb6-11e8-a024-a81e84e6c740",
         "x": [
          "8月5周",
          "9月1周",
          "9月2周",
          "9月3周",
          "9月4周",
          "10月2周"
         ],
         "y": [
          null,
          0,
          0,
          0,
          0,
          null
         ]
        },
        {
         "name": "评估人时（h）(林文文)",
         "type": "bar",
         "uid": "c7acca84-cdb6-11e8-a024-a81e84e6c740",
         "x": [
          "8月5周",
          "9月1周",
          "9月2周",
          "9月3周",
          "9月4周",
          "10月2周"
         ],
         "y": [
          null,
          null,
          4,
          12,
          null,
          null
         ]
        },
        {
         "name": "评估人时（h）(李华云)",
         "type": "bar",
         "uid": "c7accdea-cdb6-11e8-a024-a81e84e6c740",
         "x": [
          "8月5周",
          "9月1周",
          "9月2周",
          "9月3周",
          "9月4周",
          "10月2周"
         ],
         "y": [
          null,
          null,
          null,
          4,
          3,
          null
         ]
        },
        {
         "name": "评估人时（h）(闻少楠)",
         "type": "bar",
         "uid": "c7acd15a-cdb6-11e8-a024-a81e84e6c740",
         "x": [
          "8月5周",
          "9月1周",
          "9月2周",
          "9月3周",
          "9月4周",
          "10月2周"
         ],
         "y": [
          null,
          null,
          7,
          3,
          3,
          null
         ]
        },
        {
         "name": "评估人时（h）(范旭宁)",
         "type": "bar",
         "uid": "c7acd4b6-cdb6-11e8-a024-a81e84e6c740",
         "x": [
          "8月5周",
          "9月1周",
          "9月2周",
          "9月3周",
          "9月4周",
          "10月2周"
         ],
         "y": [
          null,
          3,
          null,
          0,
          0,
          null
         ]
        },
        {
         "name": "评估人时（h）(任雪)",
         "type": "bar",
         "uid": "c7acd81c-cdb6-11e8-a024-a81e84e6c740",
         "x": [
          "8月5周",
          "9月1周",
          "9月2周",
          "9月3周",
          "9月4周",
          "10月2周"
         ],
         "y": [
          null,
          null,
          null,
          null,
          0,
          null
         ]
        },
        {
         "name": "评估人时（h）(刘江)",
         "type": "bar",
         "uid": "c7acdb78-cdb6-11e8-a024-a81e84e6c740",
         "x": [
          "8月5周",
          "9月1周",
          "9月2周",
          "9月3周",
          "9月4周",
          "10月2周"
         ],
         "y": [
          null,
          6,
          4,
          null,
          null,
          null
         ]
        },
        {
         "name": "评估人时（h）(姚盟成)",
         "type": "bar",
         "uid": "c7acdee8-cdb6-11e8-a024-a81e84e6c740",
         "x": [
          "8月5周",
          "9月1周",
          "9月2周",
          "9月3周",
          "9月4周",
          "10月2周"
         ],
         "y": [
          null,
          16,
          null,
          8,
          null,
          null
         ]
        },
        {
         "name": "评估人时（h）(沈立群)",
         "type": "bar",
         "uid": "c7ace24e-cdb6-11e8-a024-a81e84e6c740",
         "x": [
          "8月5周",
          "9月1周",
          "9月2周",
          "9月3周",
          "9月4周",
          "10月2周"
         ],
         "y": [
          null,
          null,
          null,
          2,
          null,
          null
         ]
        },
        {
         "name": "评估人时（h）(陈鹏燕)",
         "type": "bar",
         "uid": "c7ace5c8-cdb6-11e8-a024-a81e84e6c740",
         "x": [
          "8月5周",
          "9月1周",
          "9月2周",
          "9月3周",
          "9月4周",
          "10月2周"
         ],
         "y": [
          0,
          0,
          0,
          0,
          null,
          null
         ]
        },
        {
         "name": "评估人时（h）(于慧)",
         "type": "bar",
         "uid": "c7ace92e-cdb6-11e8-a024-a81e84e6c740",
         "x": [
          "8月5周",
          "9月1周",
          "9月2周",
          "9月3周",
          "9月4周",
          "10月2周"
         ],
         "y": [
          null,
          null,
          0,
          0,
          null,
          null
         ]
        },
        {
         "name": "评估人时（h）(韩少怀)",
         "type": "bar",
         "uid": "c7acec8a-cdb6-11e8-a024-a81e84e6c740",
         "x": [
          "8月5周",
          "9月1周",
          "9月2周",
          "9月3周",
          "9月4周",
          "10月2周"
         ],
         "y": [
          null,
          0,
          null,
          null,
          0,
          null
         ]
        }
       ],
       "layout": {
        "barmode": "stack",
        "title": "评估人时（h）周趋势图",
        "xaxis": {
         "mirror": "all",
         "nticks": 20,
         "showgrid": true,
         "showline": true,
         "title": "周",
         "zeroline": true
        },
        "yaxis": {
         "mirror": "all",
         "nticks": 20,
         "showgrid": true,
         "showline": true,
         "title": "评估人时（h）",
         "zeroline": true
        }
       }
      },
      "text/html": [
       "<div id=\"bfd1125f-4a08-4919-8ace-206e3154bd23\" style=\"height: 525px; width: 100%;\" class=\"plotly-graph-div\"></div><script type=\"text/javascript\">require([\"plotly\"], function(Plotly) { window.PLOTLYENV=window.PLOTLYENV || {};window.PLOTLYENV.BASE_URL=\"https://plot.ly\";Plotly.newPlot(\"bfd1125f-4a08-4919-8ace-206e3154bd23\", [{\"name\": \"\\u8bc4\\u4f30\\u4eba\\u65f6\\uff08h\\uff09(\\u82d1\\u8d5e)\", \"x\": [\"8\\u67085\\u5468\", \"9\\u67081\\u5468\", \"9\\u67082\\u5468\", \"9\\u67083\\u5468\", \"9\\u67084\\u5468\", \"10\\u67082\\u5468\"], \"y\": [null, null, null, null, 0.0, null], \"type\": \"bar\", \"uid\": \"c7ac6896-cdb6-11e8-a024-a81e84e6c740\"}, {\"name\": \"\\u8bc4\\u4f30\\u4eba\\u65f6\\uff08h\\uff09(\\u5c48\\u6602)\", \"x\": [\"8\\u67085\\u5468\", \"9\\u67081\\u5468\", \"9\\u67082\\u5468\", \"9\\u67083\\u5468\", \"9\\u67084\\u5468\", \"10\\u67082\\u5468\"], \"y\": [3.0, null, null, 3.0, 0.0, null], \"type\": \"bar\", \"uid\": \"c7ac6e18-cdb6-11e8-a024-a81e84e6c740\"}, {\"name\": \"\\u8bc4\\u4f30\\u4eba\\u65f6\\uff08h\\uff09(\\u6bb5\\u5229\\u5f3a)\", \"x\": [\"8\\u67085\\u5468\", \"9\\u67081\\u5468\", \"9\\u67082\\u5468\", \"9\\u67083\\u5468\", \"9\\u67084\\u5468\", \"10\\u67082\\u5468\"], \"y\": [null, 5.0, 24.0, null, null, null], \"type\": \"bar\", \"uid\": \"c7ac7246-cdb6-11e8-a024-a81e84e6c740\"}, {\"name\": \"\\u8bc4\\u4f30\\u4eba\\u65f6\\uff08h\\uff09(\\u4e8e\\u52c7\\u4e00)\", \"x\": [\"8\\u67085\\u5468\", \"9\\u67081\\u5468\", \"9\\u67082\\u5468\", \"9\\u67083\\u5468\", \"9\\u67084\\u5468\", \"10\\u67082\\u5468\"], \"y\": [null, null, null, 4.0, null, null], \"type\": \"bar\", \"uid\": \"c7ac761a-cdb6-11e8-a024-a81e84e6c740\"}, {\"name\": \"\\u8bc4\\u4f30\\u4eba\\u65f6\\uff08h\\uff09(\\u6768\\u5b87)\", \"x\": [\"8\\u67085\\u5468\", \"9\\u67081\\u5468\", \"9\\u67082\\u5468\", \"9\\u67083\\u5468\", \"9\\u67084\\u5468\", \"10\\u67082\\u5468\"], \"y\": [null, 8.0, 12.0, 6.0, 0.0, null], \"type\": \"bar\", \"uid\": \"c7ac79bc-cdb6-11e8-a024-a81e84e6c740\"}, {\"name\": \"\\u8bc4\\u4f30\\u4eba\\u65f6\\uff08h\\uff09(\\u9a6c\\u6f47)\", \"x\": [\"8\\u67085\\u5468\", \"9\\u67081\\u5468\", \"9\\u67082\\u5468\", \"9\\u67083\\u5468\", \"9\\u67084\\u5468\", \"10\\u67082\\u5468\"], \"y\": [null, null, 0.0, null, 3.0, null], \"type\": \"bar\", \"uid\": \"c7ac7d40-cdb6-11e8-a024-a81e84e6c740\"}, {\"name\": \"\\u8bc4\\u4f30\\u4eba\\u65f6\\uff08h\\uff09(\\u89e3\\u98de)\", \"x\": [\"8\\u67085\\u5468\", \"9\\u67081\\u5468\", \"9\\u67082\\u5468\", \"9\\u67083\\u5468\", \"9\\u67084\\u5468\", \"10\\u67082\\u5468\"], \"y\": [null, null, null, null, 0.0, 0.0], \"type\": \"bar\", \"uid\": \"c7ac80c4-cdb6-11e8-a024-a81e84e6c740\"}, {\"name\": \"\\u8bc4\\u4f30\\u4eba\\u65f6\\uff08h\\uff09(\\u5218\\u68a6\\u82d1)\", \"x\": [\"8\\u67085\\u5468\", \"9\\u67081\\u5468\", \"9\\u67082\\u5468\", \"9\\u67083\\u5468\", \"9\\u67084\\u5468\", \"10\\u67082\\u5468\"], \"y\": [null, 4.0, null, 2.0, 6.0, null], \"type\": \"bar\", \"uid\": \"c7ac8448-cdb6-11e8-a024-a81e84e6c740\"}, {\"name\": \"\\u8bc4\\u4f30\\u4eba\\u65f6\\uff08h\\uff09(\\u6768\\u4f1f\\u98de)\", \"x\": [\"8\\u67085\\u5468\", \"9\\u67081\\u5468\", \"9\\u67082\\u5468\", \"9\\u67083\\u5468\", \"9\\u67084\\u5468\", \"10\\u67082\\u5468\"], \"y\": [null, 19.0, 17.0, null, null, null], \"type\": \"bar\", \"uid\": \"c7ac87c2-cdb6-11e8-a024-a81e84e6c740\"}, {\"name\": \"\\u8bc4\\u4f30\\u4eba\\u65f6\\uff08h\\uff09(\\u51b7\\u96ea)\", \"x\": [\"8\\u67085\\u5468\", \"9\\u67081\\u5468\", \"9\\u67082\\u5468\", \"9\\u67083\\u5468\", \"9\\u67084\\u5468\", \"10\\u67082\\u5468\"], \"y\": [null, 0.5, 9.0, null, 15.0, null], \"type\": \"bar\", \"uid\": \"c7ac8b3c-cdb6-11e8-a024-a81e84e6c740\"}, {\"name\": \"\\u8bc4\\u4f30\\u4eba\\u65f6\\uff08h\\uff09(\\u5218\\u6c38\\u5f3a)\", \"x\": [\"8\\u67085\\u5468\", \"9\\u67081\\u5468\", \"9\\u67082\\u5468\", \"9\\u67083\\u5468\", \"9\\u67084\\u5468\", \"10\\u67082\\u5468\"], \"y\": [null, 0.0, null, 0.0, null, null], \"type\": \"bar\", \"uid\": \"c7ac8ea2-cdb6-11e8-a024-a81e84e6c740\"}, {\"name\": \"\\u8bc4\\u4f30\\u4eba\\u65f6\\uff08h\\uff09(\\u6c88\\u6069\\u60e0)\", \"x\": [\"8\\u67085\\u5468\", \"9\\u67081\\u5468\", \"9\\u67082\\u5468\", \"9\\u67083\\u5468\", \"9\\u67084\\u5468\", \"10\\u67082\\u5468\"], \"y\": [null, 3.0, null, 3.0, null, null], \"type\": \"bar\", \"uid\": \"c7ac921c-cdb6-11e8-a024-a81e84e6c740\"}, {\"name\": \"\\u8bc4\\u4f30\\u4eba\\u65f6\\uff08h\\uff09(\\u5360\\u4f1f)\", \"x\": [\"8\\u67085\\u5468\", \"9\\u67081\\u5468\", \"9\\u67082\\u5468\", \"9\\u67083\\u5468\", \"9\\u67084\\u5468\", \"10\\u67082\\u5468\"], \"y\": [null, 8.0, 3.0, null, null, null], \"type\": \"bar\", \"uid\": \"c7ac9582-cdb6-11e8-a024-a81e84e6c740\"}, {\"name\": \"\\u8bc4\\u4f30\\u4eba\\u65f6\\uff08h\\uff09(\\u6731\\u6167\\u840d)\", \"x\": [\"8\\u67085\\u5468\", \"9\\u67081\\u5468\", \"9\\u67082\\u5468\", \"9\\u67083\\u5468\", \"9\\u67084\\u5468\", \"10\\u67082\\u5468\"], \"y\": [0.0, 0.0, 0.0, 0.0, 0.0, null], \"type\": \"bar\", \"uid\": \"c7ac98f2-cdb6-11e8-a024-a81e84e6c740\"}, {\"name\": \"\\u8bc4\\u4f30\\u4eba\\u65f6\\uff08h\\uff09(\\u738b\\u4f20\\u6587)\", \"x\": [\"8\\u67085\\u5468\", \"9\\u67081\\u5468\", \"9\\u67082\\u5468\", \"9\\u67083\\u5468\", \"9\\u67084\\u5468\", \"10\\u67082\\u5468\"], \"y\": [null, null, null, 4.0, null, null], \"type\": \"bar\", \"uid\": \"c7ac9c62-cdb6-11e8-a024-a81e84e6c740\"}, {\"name\": \"\\u8bc4\\u4f30\\u4eba\\u65f6\\uff08h\\uff09(\\u5c01\\u5f66\\u6770)\", \"x\": [\"8\\u67085\\u5468\", \"9\\u67081\\u5468\", \"9\\u67082\\u5468\", \"9\\u67083\\u5468\", \"9\\u67084\\u5468\", \"10\\u67082\\u5468\"], \"y\": [null, null, null, null, 0.0, null], \"type\": \"bar\", \"uid\": \"c7ac9fd2-cdb6-11e8-a024-a81e84e6c740\"}, {\"name\": \"\\u8bc4\\u4f30\\u4eba\\u65f6\\uff08h\\uff09(\\u9ad8\\u5251)\", \"x\": [\"8\\u67085\\u5468\", \"9\\u67081\\u5468\", \"9\\u67082\\u5468\", \"9\\u67083\\u5468\", \"9\\u67084\\u5468\", \"10\\u67082\\u5468\"], \"y\": [null, 3.0, null, null, null, null], \"type\": \"bar\", \"uid\": \"c7aca342-cdb6-11e8-a024-a81e84e6c740\"}, {\"name\": \"\\u8bc4\\u4f30\\u4eba\\u65f6\\uff08h\\uff09(\\u9648\\u78a7\\u96ef)\", \"x\": [\"8\\u67085\\u5468\", \"9\\u67081\\u5468\", \"9\\u67082\\u5468\", \"9\\u67083\\u5468\", \"9\\u67084\\u5468\", \"10\\u67082\\u5468\"], \"y\": [null, \"\\n5\\n10\\n10\\n3\", 6.0, 3.0, 0.0, null], \"type\": \"bar\", \"uid\": \"c7aca6f8-cdb6-11e8-a024-a81e84e6c740\"}, {\"name\": \"\\u8bc4\\u4f30\\u4eba\\u65f6\\uff08h\\uff09(\\u8d75\\u73a5)\", \"x\": [\"8\\u67085\\u5468\", \"9\\u67081\\u5468\", \"9\\u67082\\u5468\", \"9\\u67083\\u5468\", \"9\\u67084\\u5468\", \"10\\u67082\\u5468\"], \"y\": [null, null, 0.0, null, null, null], \"type\": \"bar\", \"uid\": \"c7acaab8-cdb6-11e8-a024-a81e84e6c740\"}, {\"name\": \"\\u8bc4\\u4f30\\u4eba\\u65f6\\uff08h\\uff09(\\u9773\\u751c\\u751c)\", \"x\": [\"8\\u67085\\u5468\", \"9\\u67081\\u5468\", \"9\\u67082\\u5468\", \"9\\u67083\\u5468\", \"9\\u67084\\u5468\", \"10\\u67082\\u5468\"], \"y\": [null, null, 0.0, null, null, null], \"type\": \"bar\", \"uid\": \"c7acae32-cdb6-11e8-a024-a81e84e6c740\"}, {\"name\": \"\\u8bc4\\u4f30\\u4eba\\u65f6\\uff08h\\uff09(\\u6636\\u5409\\u9633)\", \"x\": [\"8\\u67085\\u5468\", \"9\\u67081\\u5468\", \"9\\u67082\\u5468\", \"9\\u67083\\u5468\", \"9\\u67084\\u5468\", \"10\\u67082\\u5468\"], \"y\": [null, 0.0, 5.0, null, 0.0, null], \"type\": \"bar\", \"uid\": \"c7acb1a2-cdb6-11e8-a024-a81e84e6c740\"}, {\"name\": \"\\u8bc4\\u4f30\\u4eba\\u65f6\\uff08h\\uff09(\\u8f66\\u5929\\u680b)\", \"x\": [\"8\\u67085\\u5468\", \"9\\u67081\\u5468\", \"9\\u67082\\u5468\", \"9\\u67083\\u5468\", \"9\\u67084\\u5468\", \"10\\u67082\\u5468\"], \"y\": [null, null, 3.0, 3.0, null, null], \"type\": \"bar\", \"uid\": \"c7acb508-cdb6-11e8-a024-a81e84e6c740\"}, {\"name\": \"\\u8bc4\\u4f30\\u4eba\\u65f6\\uff08h\\uff09(\\u51af\\u656c\\u5ca9)\", \"x\": [\"8\\u67085\\u5468\", \"9\\u67081\\u5468\", \"9\\u67082\\u5468\", \"9\\u67083\\u5468\", \"9\\u67084\\u5468\", \"10\\u67082\\u5468\"], \"y\": [null, 0.0, 0.0, 0.0, 0.0, null], \"type\": \"bar\", \"uid\": \"c7acb878-cdb6-11e8-a024-a81e84e6c740\"}, {\"name\": \"\\u8bc4\\u4f30\\u4eba\\u65f6\\uff08h\\uff09(\\u738b\\u971e)\", \"x\": [\"8\\u67085\\u5468\", \"9\\u67081\\u5468\", \"9\\u67082\\u5468\", \"9\\u67083\\u5468\", \"9\\u67084\\u5468\", \"10\\u67082\\u5468\"], \"y\": [null, 0.0, 9.0, 38.0, 0.0, null], \"type\": \"bar\", \"uid\": \"c7acbbde-cdb6-11e8-a024-a81e84e6c740\"}, {\"name\": \"\\u8bc4\\u4f30\\u4eba\\u65f6\\uff08h\\uff09(\\u4f55\\u80dc)\", \"x\": [\"8\\u67085\\u5468\", \"9\\u67081\\u5468\", \"9\\u67082\\u5468\", \"9\\u67083\\u5468\", \"9\\u67084\\u5468\", \"10\\u67082\\u5468\"], \"y\": [null, 0.0, 0.0, 0.0, 0.0, null], \"type\": \"bar\", \"uid\": \"c7acc03e-cdb6-11e8-a024-a81e84e6c740\"}, {\"name\": \"\\u8bc4\\u4f30\\u4eba\\u65f6\\uff08h\\uff09(\\u5b8b\\u5c11\\u5b87)\", \"x\": [\"8\\u67085\\u5468\", \"9\\u67081\\u5468\", \"9\\u67082\\u5468\", \"9\\u67083\\u5468\", \"9\\u67084\\u5468\", \"10\\u67082\\u5468\"], \"y\": [null, 3.0, null, null, 0.0, null], \"type\": \"bar\", \"uid\": \"c7acc3a4-cdb6-11e8-a024-a81e84e6c740\"}, {\"name\": \"\\u8bc4\\u4f30\\u4eba\\u65f6\\uff08h\\uff09(\\u8d75\\u5029)\", \"x\": [\"8\\u67085\\u5468\", \"9\\u67081\\u5468\", \"9\\u67082\\u5468\", \"9\\u67083\\u5468\", \"9\\u67084\\u5468\", \"10\\u67082\\u5468\"], \"y\": [null, 0.0, 0.0, 0.0, 0.0, null], \"type\": \"bar\", \"uid\": \"c7acc71e-cdb6-11e8-a024-a81e84e6c740\"}, {\"name\": \"\\u8bc4\\u4f30\\u4eba\\u65f6\\uff08h\\uff09(\\u6797\\u6587\\u6587)\", \"x\": [\"8\\u67085\\u5468\", \"9\\u67081\\u5468\", \"9\\u67082\\u5468\", \"9\\u67083\\u5468\", \"9\\u67084\\u5468\", \"10\\u67082\\u5468\"], \"y\": [null, null, 4.0, 12.0, null, null], \"type\": \"bar\", \"uid\": \"c7acca84-cdb6-11e8-a024-a81e84e6c740\"}, {\"name\": \"\\u8bc4\\u4f30\\u4eba\\u65f6\\uff08h\\uff09(\\u674e\\u534e\\u4e91)\", \"x\": [\"8\\u67085\\u5468\", \"9\\u67081\\u5468\", \"9\\u67082\\u5468\", \"9\\u67083\\u5468\", \"9\\u67084\\u5468\", \"10\\u67082\\u5468\"], \"y\": [null, null, null, 4.0, 3.0, null], \"type\": \"bar\", \"uid\": \"c7accdea-cdb6-11e8-a024-a81e84e6c740\"}, {\"name\": \"\\u8bc4\\u4f30\\u4eba\\u65f6\\uff08h\\uff09(\\u95fb\\u5c11\\u6960)\", \"x\": [\"8\\u67085\\u5468\", \"9\\u67081\\u5468\", \"9\\u67082\\u5468\", \"9\\u67083\\u5468\", \"9\\u67084\\u5468\", \"10\\u67082\\u5468\"], \"y\": [null, null, 7.0, 3.0, 3.0, null], \"type\": \"bar\", \"uid\": \"c7acd15a-cdb6-11e8-a024-a81e84e6c740\"}, {\"name\": \"\\u8bc4\\u4f30\\u4eba\\u65f6\\uff08h\\uff09(\\u8303\\u65ed\\u5b81)\", \"x\": [\"8\\u67085\\u5468\", \"9\\u67081\\u5468\", \"9\\u67082\\u5468\", \"9\\u67083\\u5468\", \"9\\u67084\\u5468\", \"10\\u67082\\u5468\"], \"y\": [null, 3.0, null, 0.0, 0.0, null], \"type\": \"bar\", \"uid\": \"c7acd4b6-cdb6-11e8-a024-a81e84e6c740\"}, {\"name\": \"\\u8bc4\\u4f30\\u4eba\\u65f6\\uff08h\\uff09(\\u4efb\\u96ea)\", \"x\": [\"8\\u67085\\u5468\", \"9\\u67081\\u5468\", \"9\\u67082\\u5468\", \"9\\u67083\\u5468\", \"9\\u67084\\u5468\", \"10\\u67082\\u5468\"], \"y\": [null, null, null, null, 0.0, null], \"type\": \"bar\", \"uid\": \"c7acd81c-cdb6-11e8-a024-a81e84e6c740\"}, {\"name\": \"\\u8bc4\\u4f30\\u4eba\\u65f6\\uff08h\\uff09(\\u5218\\u6c5f)\", \"x\": [\"8\\u67085\\u5468\", \"9\\u67081\\u5468\", \"9\\u67082\\u5468\", \"9\\u67083\\u5468\", \"9\\u67084\\u5468\", \"10\\u67082\\u5468\"], \"y\": [null, 6.0, 4.0, null, null, null], \"type\": \"bar\", \"uid\": \"c7acdb78-cdb6-11e8-a024-a81e84e6c740\"}, {\"name\": \"\\u8bc4\\u4f30\\u4eba\\u65f6\\uff08h\\uff09(\\u59da\\u76df\\u6210)\", \"x\": [\"8\\u67085\\u5468\", \"9\\u67081\\u5468\", \"9\\u67082\\u5468\", \"9\\u67083\\u5468\", \"9\\u67084\\u5468\", \"10\\u67082\\u5468\"], \"y\": [null, 16.0, null, 8.0, null, null], \"type\": \"bar\", \"uid\": \"c7acdee8-cdb6-11e8-a024-a81e84e6c740\"}, {\"name\": \"\\u8bc4\\u4f30\\u4eba\\u65f6\\uff08h\\uff09(\\u6c88\\u7acb\\u7fa4)\", \"x\": [\"8\\u67085\\u5468\", \"9\\u67081\\u5468\", \"9\\u67082\\u5468\", \"9\\u67083\\u5468\", \"9\\u67084\\u5468\", \"10\\u67082\\u5468\"], \"y\": [null, null, null, 2.0, null, null], \"type\": \"bar\", \"uid\": \"c7ace24e-cdb6-11e8-a024-a81e84e6c740\"}, {\"name\": \"\\u8bc4\\u4f30\\u4eba\\u65f6\\uff08h\\uff09(\\u9648\\u9e4f\\u71d5)\", \"x\": [\"8\\u67085\\u5468\", \"9\\u67081\\u5468\", \"9\\u67082\\u5468\", \"9\\u67083\\u5468\", \"9\\u67084\\u5468\", \"10\\u67082\\u5468\"], \"y\": [0.0, 0.0, 0.0, 0.0, null, null], \"type\": \"bar\", \"uid\": \"c7ace5c8-cdb6-11e8-a024-a81e84e6c740\"}, {\"name\": \"\\u8bc4\\u4f30\\u4eba\\u65f6\\uff08h\\uff09(\\u4e8e\\u6167)\", \"x\": [\"8\\u67085\\u5468\", \"9\\u67081\\u5468\", \"9\\u67082\\u5468\", \"9\\u67083\\u5468\", \"9\\u67084\\u5468\", \"10\\u67082\\u5468\"], \"y\": [null, null, 0.0, 0.0, null, null], \"type\": \"bar\", \"uid\": \"c7ace92e-cdb6-11e8-a024-a81e84e6c740\"}, {\"name\": \"\\u8bc4\\u4f30\\u4eba\\u65f6\\uff08h\\uff09(\\u97e9\\u5c11\\u6000)\", \"x\": [\"8\\u67085\\u5468\", \"9\\u67081\\u5468\", \"9\\u67082\\u5468\", \"9\\u67083\\u5468\", \"9\\u67084\\u5468\", \"10\\u67082\\u5468\"], \"y\": [null, 0.0, null, null, 0.0, null], \"type\": \"bar\", \"uid\": \"c7acec8a-cdb6-11e8-a024-a81e84e6c740\"}], {\"barmode\": \"stack\", \"title\": \"\\u8bc4\\u4f30\\u4eba\\u65f6\\uff08h\\uff09\\u5468\\u8d8b\\u52bf\\u56fe\", \"xaxis\": {\"mirror\": \"all\", \"nticks\": 20, \"showgrid\": true, \"showline\": true, \"title\": \"\\u5468\", \"zeroline\": true}, \"yaxis\": {\"mirror\": \"all\", \"nticks\": 20, \"showgrid\": true, \"showline\": true, \"title\": \"\\u8bc4\\u4f30\\u4eba\\u65f6\\uff08h\\uff09\", \"zeroline\": true}}, {\"showLink\": true, \"linkText\": \"Export to plot.ly\"})});</script>"
      ],
      "text/vnd.plotly.v1+html": [
       "<div id=\"bfd1125f-4a08-4919-8ace-206e3154bd23\" style=\"height: 525px; width: 100%;\" class=\"plotly-graph-div\"></div><script type=\"text/javascript\">require([\"plotly\"], function(Plotly) { window.PLOTLYENV=window.PLOTLYENV || {};window.PLOTLYENV.BASE_URL=\"https://plot.ly\";Plotly.newPlot(\"bfd1125f-4a08-4919-8ace-206e3154bd23\", [{\"name\": \"\\u8bc4\\u4f30\\u4eba\\u65f6\\uff08h\\uff09(\\u82d1\\u8d5e)\", \"x\": [\"8\\u67085\\u5468\", \"9\\u67081\\u5468\", \"9\\u67082\\u5468\", \"9\\u67083\\u5468\", \"9\\u67084\\u5468\", \"10\\u67082\\u5468\"], \"y\": [null, null, null, null, 0.0, null], \"type\": \"bar\", \"uid\": \"c7ac6896-cdb6-11e8-a024-a81e84e6c740\"}, {\"name\": \"\\u8bc4\\u4f30\\u4eba\\u65f6\\uff08h\\uff09(\\u5c48\\u6602)\", \"x\": [\"8\\u67085\\u5468\", \"9\\u67081\\u5468\", \"9\\u67082\\u5468\", \"9\\u67083\\u5468\", \"9\\u67084\\u5468\", \"10\\u67082\\u5468\"], \"y\": [3.0, null, null, 3.0, 0.0, null], \"type\": \"bar\", \"uid\": \"c7ac6e18-cdb6-11e8-a024-a81e84e6c740\"}, {\"name\": \"\\u8bc4\\u4f30\\u4eba\\u65f6\\uff08h\\uff09(\\u6bb5\\u5229\\u5f3a)\", \"x\": [\"8\\u67085\\u5468\", \"9\\u67081\\u5468\", \"9\\u67082\\u5468\", \"9\\u67083\\u5468\", \"9\\u67084\\u5468\", \"10\\u67082\\u5468\"], \"y\": [null, 5.0, 24.0, null, null, null], \"type\": \"bar\", \"uid\": \"c7ac7246-cdb6-11e8-a024-a81e84e6c740\"}, {\"name\": \"\\u8bc4\\u4f30\\u4eba\\u65f6\\uff08h\\uff09(\\u4e8e\\u52c7\\u4e00)\", \"x\": [\"8\\u67085\\u5468\", \"9\\u67081\\u5468\", \"9\\u67082\\u5468\", \"9\\u67083\\u5468\", \"9\\u67084\\u5468\", \"10\\u67082\\u5468\"], \"y\": [null, null, null, 4.0, null, null], \"type\": \"bar\", \"uid\": \"c7ac761a-cdb6-11e8-a024-a81e84e6c740\"}, {\"name\": \"\\u8bc4\\u4f30\\u4eba\\u65f6\\uff08h\\uff09(\\u6768\\u5b87)\", \"x\": [\"8\\u67085\\u5468\", \"9\\u67081\\u5468\", \"9\\u67082\\u5468\", \"9\\u67083\\u5468\", \"9\\u67084\\u5468\", \"10\\u67082\\u5468\"], \"y\": [null, 8.0, 12.0, 6.0, 0.0, null], \"type\": \"bar\", \"uid\": \"c7ac79bc-cdb6-11e8-a024-a81e84e6c740\"}, {\"name\": \"\\u8bc4\\u4f30\\u4eba\\u65f6\\uff08h\\uff09(\\u9a6c\\u6f47)\", \"x\": [\"8\\u67085\\u5468\", \"9\\u67081\\u5468\", \"9\\u67082\\u5468\", \"9\\u67083\\u5468\", \"9\\u67084\\u5468\", \"10\\u67082\\u5468\"], \"y\": [null, null, 0.0, null, 3.0, null], \"type\": \"bar\", \"uid\": \"c7ac7d40-cdb6-11e8-a024-a81e84e6c740\"}, {\"name\": \"\\u8bc4\\u4f30\\u4eba\\u65f6\\uff08h\\uff09(\\u89e3\\u98de)\", \"x\": [\"8\\u67085\\u5468\", \"9\\u67081\\u5468\", \"9\\u67082\\u5468\", \"9\\u67083\\u5468\", \"9\\u67084\\u5468\", \"10\\u67082\\u5468\"], \"y\": [null, null, null, null, 0.0, 0.0], \"type\": \"bar\", \"uid\": \"c7ac80c4-cdb6-11e8-a024-a81e84e6c740\"}, {\"name\": \"\\u8bc4\\u4f30\\u4eba\\u65f6\\uff08h\\uff09(\\u5218\\u68a6\\u82d1)\", \"x\": [\"8\\u67085\\u5468\", \"9\\u67081\\u5468\", \"9\\u67082\\u5468\", \"9\\u67083\\u5468\", \"9\\u67084\\u5468\", \"10\\u67082\\u5468\"], \"y\": [null, 4.0, null, 2.0, 6.0, null], \"type\": \"bar\", \"uid\": \"c7ac8448-cdb6-11e8-a024-a81e84e6c740\"}, {\"name\": \"\\u8bc4\\u4f30\\u4eba\\u65f6\\uff08h\\uff09(\\u6768\\u4f1f\\u98de)\", \"x\": [\"8\\u67085\\u5468\", \"9\\u67081\\u5468\", \"9\\u67082\\u5468\", \"9\\u67083\\u5468\", \"9\\u67084\\u5468\", \"10\\u67082\\u5468\"], \"y\": [null, 19.0, 17.0, null, null, null], \"type\": \"bar\", \"uid\": \"c7ac87c2-cdb6-11e8-a024-a81e84e6c740\"}, {\"name\": \"\\u8bc4\\u4f30\\u4eba\\u65f6\\uff08h\\uff09(\\u51b7\\u96ea)\", \"x\": [\"8\\u67085\\u5468\", \"9\\u67081\\u5468\", \"9\\u67082\\u5468\", \"9\\u67083\\u5468\", \"9\\u67084\\u5468\", \"10\\u67082\\u5468\"], \"y\": [null, 0.5, 9.0, null, 15.0, null], \"type\": \"bar\", \"uid\": \"c7ac8b3c-cdb6-11e8-a024-a81e84e6c740\"}, {\"name\": \"\\u8bc4\\u4f30\\u4eba\\u65f6\\uff08h\\uff09(\\u5218\\u6c38\\u5f3a)\", \"x\": [\"8\\u67085\\u5468\", \"9\\u67081\\u5468\", \"9\\u67082\\u5468\", \"9\\u67083\\u5468\", \"9\\u67084\\u5468\", \"10\\u67082\\u5468\"], \"y\": [null, 0.0, null, 0.0, null, null], \"type\": \"bar\", \"uid\": \"c7ac8ea2-cdb6-11e8-a024-a81e84e6c740\"}, {\"name\": \"\\u8bc4\\u4f30\\u4eba\\u65f6\\uff08h\\uff09(\\u6c88\\u6069\\u60e0)\", \"x\": [\"8\\u67085\\u5468\", \"9\\u67081\\u5468\", \"9\\u67082\\u5468\", \"9\\u67083\\u5468\", \"9\\u67084\\u5468\", \"10\\u67082\\u5468\"], \"y\": [null, 3.0, null, 3.0, null, null], \"type\": \"bar\", \"uid\": \"c7ac921c-cdb6-11e8-a024-a81e84e6c740\"}, {\"name\": \"\\u8bc4\\u4f30\\u4eba\\u65f6\\uff08h\\uff09(\\u5360\\u4f1f)\", \"x\": [\"8\\u67085\\u5468\", \"9\\u67081\\u5468\", \"9\\u67082\\u5468\", \"9\\u67083\\u5468\", \"9\\u67084\\u5468\", \"10\\u67082\\u5468\"], \"y\": [null, 8.0, 3.0, null, null, null], \"type\": \"bar\", \"uid\": \"c7ac9582-cdb6-11e8-a024-a81e84e6c740\"}, {\"name\": \"\\u8bc4\\u4f30\\u4eba\\u65f6\\uff08h\\uff09(\\u6731\\u6167\\u840d)\", \"x\": [\"8\\u67085\\u5468\", \"9\\u67081\\u5468\", \"9\\u67082\\u5468\", \"9\\u67083\\u5468\", \"9\\u67084\\u5468\", \"10\\u67082\\u5468\"], \"y\": [0.0, 0.0, 0.0, 0.0, 0.0, null], \"type\": \"bar\", \"uid\": \"c7ac98f2-cdb6-11e8-a024-a81e84e6c740\"}, {\"name\": \"\\u8bc4\\u4f30\\u4eba\\u65f6\\uff08h\\uff09(\\u738b\\u4f20\\u6587)\", \"x\": [\"8\\u67085\\u5468\", \"9\\u67081\\u5468\", \"9\\u67082\\u5468\", \"9\\u67083\\u5468\", \"9\\u67084\\u5468\", \"10\\u67082\\u5468\"], \"y\": [null, null, null, 4.0, null, null], \"type\": \"bar\", \"uid\": \"c7ac9c62-cdb6-11e8-a024-a81e84e6c740\"}, {\"name\": \"\\u8bc4\\u4f30\\u4eba\\u65f6\\uff08h\\uff09(\\u5c01\\u5f66\\u6770)\", \"x\": [\"8\\u67085\\u5468\", \"9\\u67081\\u5468\", \"9\\u67082\\u5468\", \"9\\u67083\\u5468\", \"9\\u67084\\u5468\", \"10\\u67082\\u5468\"], \"y\": [null, null, null, null, 0.0, null], \"type\": \"bar\", \"uid\": \"c7ac9fd2-cdb6-11e8-a024-a81e84e6c740\"}, {\"name\": \"\\u8bc4\\u4f30\\u4eba\\u65f6\\uff08h\\uff09(\\u9ad8\\u5251)\", \"x\": [\"8\\u67085\\u5468\", \"9\\u67081\\u5468\", \"9\\u67082\\u5468\", \"9\\u67083\\u5468\", \"9\\u67084\\u5468\", \"10\\u67082\\u5468\"], \"y\": [null, 3.0, null, null, null, null], \"type\": \"bar\", \"uid\": \"c7aca342-cdb6-11e8-a024-a81e84e6c740\"}, {\"name\": \"\\u8bc4\\u4f30\\u4eba\\u65f6\\uff08h\\uff09(\\u9648\\u78a7\\u96ef)\", \"x\": [\"8\\u67085\\u5468\", \"9\\u67081\\u5468\", \"9\\u67082\\u5468\", \"9\\u67083\\u5468\", \"9\\u67084\\u5468\", \"10\\u67082\\u5468\"], \"y\": [null, \"\\n5\\n10\\n10\\n3\", 6.0, 3.0, 0.0, null], \"type\": \"bar\", \"uid\": \"c7aca6f8-cdb6-11e8-a024-a81e84e6c740\"}, {\"name\": \"\\u8bc4\\u4f30\\u4eba\\u65f6\\uff08h\\uff09(\\u8d75\\u73a5)\", \"x\": [\"8\\u67085\\u5468\", \"9\\u67081\\u5468\", \"9\\u67082\\u5468\", \"9\\u67083\\u5468\", \"9\\u67084\\u5468\", \"10\\u67082\\u5468\"], \"y\": [null, null, 0.0, null, null, null], \"type\": \"bar\", \"uid\": \"c7acaab8-cdb6-11e8-a024-a81e84e6c740\"}, {\"name\": \"\\u8bc4\\u4f30\\u4eba\\u65f6\\uff08h\\uff09(\\u9773\\u751c\\u751c)\", \"x\": [\"8\\u67085\\u5468\", \"9\\u67081\\u5468\", \"9\\u67082\\u5468\", \"9\\u67083\\u5468\", \"9\\u67084\\u5468\", \"10\\u67082\\u5468\"], \"y\": [null, null, 0.0, null, null, null], \"type\": \"bar\", \"uid\": \"c7acae32-cdb6-11e8-a024-a81e84e6c740\"}, {\"name\": \"\\u8bc4\\u4f30\\u4eba\\u65f6\\uff08h\\uff09(\\u6636\\u5409\\u9633)\", \"x\": [\"8\\u67085\\u5468\", \"9\\u67081\\u5468\", \"9\\u67082\\u5468\", \"9\\u67083\\u5468\", \"9\\u67084\\u5468\", \"10\\u67082\\u5468\"], \"y\": [null, 0.0, 5.0, null, 0.0, null], \"type\": \"bar\", \"uid\": \"c7acb1a2-cdb6-11e8-a024-a81e84e6c740\"}, {\"name\": \"\\u8bc4\\u4f30\\u4eba\\u65f6\\uff08h\\uff09(\\u8f66\\u5929\\u680b)\", \"x\": [\"8\\u67085\\u5468\", \"9\\u67081\\u5468\", \"9\\u67082\\u5468\", \"9\\u67083\\u5468\", \"9\\u67084\\u5468\", \"10\\u67082\\u5468\"], \"y\": [null, null, 3.0, 3.0, null, null], \"type\": \"bar\", \"uid\": \"c7acb508-cdb6-11e8-a024-a81e84e6c740\"}, {\"name\": \"\\u8bc4\\u4f30\\u4eba\\u65f6\\uff08h\\uff09(\\u51af\\u656c\\u5ca9)\", \"x\": [\"8\\u67085\\u5468\", \"9\\u67081\\u5468\", \"9\\u67082\\u5468\", \"9\\u67083\\u5468\", \"9\\u67084\\u5468\", \"10\\u67082\\u5468\"], \"y\": [null, 0.0, 0.0, 0.0, 0.0, null], \"type\": \"bar\", \"uid\": \"c7acb878-cdb6-11e8-a024-a81e84e6c740\"}, {\"name\": \"\\u8bc4\\u4f30\\u4eba\\u65f6\\uff08h\\uff09(\\u738b\\u971e)\", \"x\": [\"8\\u67085\\u5468\", \"9\\u67081\\u5468\", \"9\\u67082\\u5468\", \"9\\u67083\\u5468\", \"9\\u67084\\u5468\", \"10\\u67082\\u5468\"], \"y\": [null, 0.0, 9.0, 38.0, 0.0, null], \"type\": \"bar\", \"uid\": \"c7acbbde-cdb6-11e8-a024-a81e84e6c740\"}, {\"name\": \"\\u8bc4\\u4f30\\u4eba\\u65f6\\uff08h\\uff09(\\u4f55\\u80dc)\", \"x\": [\"8\\u67085\\u5468\", \"9\\u67081\\u5468\", \"9\\u67082\\u5468\", \"9\\u67083\\u5468\", \"9\\u67084\\u5468\", \"10\\u67082\\u5468\"], \"y\": [null, 0.0, 0.0, 0.0, 0.0, null], \"type\": \"bar\", \"uid\": \"c7acc03e-cdb6-11e8-a024-a81e84e6c740\"}, {\"name\": \"\\u8bc4\\u4f30\\u4eba\\u65f6\\uff08h\\uff09(\\u5b8b\\u5c11\\u5b87)\", \"x\": [\"8\\u67085\\u5468\", \"9\\u67081\\u5468\", \"9\\u67082\\u5468\", \"9\\u67083\\u5468\", \"9\\u67084\\u5468\", \"10\\u67082\\u5468\"], \"y\": [null, 3.0, null, null, 0.0, null], \"type\": \"bar\", \"uid\": \"c7acc3a4-cdb6-11e8-a024-a81e84e6c740\"}, {\"name\": \"\\u8bc4\\u4f30\\u4eba\\u65f6\\uff08h\\uff09(\\u8d75\\u5029)\", \"x\": [\"8\\u67085\\u5468\", \"9\\u67081\\u5468\", \"9\\u67082\\u5468\", \"9\\u67083\\u5468\", \"9\\u67084\\u5468\", \"10\\u67082\\u5468\"], \"y\": [null, 0.0, 0.0, 0.0, 0.0, null], \"type\": \"bar\", \"uid\": \"c7acc71e-cdb6-11e8-a024-a81e84e6c740\"}, {\"name\": \"\\u8bc4\\u4f30\\u4eba\\u65f6\\uff08h\\uff09(\\u6797\\u6587\\u6587)\", \"x\": [\"8\\u67085\\u5468\", \"9\\u67081\\u5468\", \"9\\u67082\\u5468\", \"9\\u67083\\u5468\", \"9\\u67084\\u5468\", \"10\\u67082\\u5468\"], \"y\": [null, null, 4.0, 12.0, null, null], \"type\": \"bar\", \"uid\": \"c7acca84-cdb6-11e8-a024-a81e84e6c740\"}, {\"name\": \"\\u8bc4\\u4f30\\u4eba\\u65f6\\uff08h\\uff09(\\u674e\\u534e\\u4e91)\", \"x\": [\"8\\u67085\\u5468\", \"9\\u67081\\u5468\", \"9\\u67082\\u5468\", \"9\\u67083\\u5468\", \"9\\u67084\\u5468\", \"10\\u67082\\u5468\"], \"y\": [null, null, null, 4.0, 3.0, null], \"type\": \"bar\", \"uid\": \"c7accdea-cdb6-11e8-a024-a81e84e6c740\"}, {\"name\": \"\\u8bc4\\u4f30\\u4eba\\u65f6\\uff08h\\uff09(\\u95fb\\u5c11\\u6960)\", \"x\": [\"8\\u67085\\u5468\", \"9\\u67081\\u5468\", \"9\\u67082\\u5468\", \"9\\u67083\\u5468\", \"9\\u67084\\u5468\", \"10\\u67082\\u5468\"], \"y\": [null, null, 7.0, 3.0, 3.0, null], \"type\": \"bar\", \"uid\": \"c7acd15a-cdb6-11e8-a024-a81e84e6c740\"}, {\"name\": \"\\u8bc4\\u4f30\\u4eba\\u65f6\\uff08h\\uff09(\\u8303\\u65ed\\u5b81)\", \"x\": [\"8\\u67085\\u5468\", \"9\\u67081\\u5468\", \"9\\u67082\\u5468\", \"9\\u67083\\u5468\", \"9\\u67084\\u5468\", \"10\\u67082\\u5468\"], \"y\": [null, 3.0, null, 0.0, 0.0, null], \"type\": \"bar\", \"uid\": \"c7acd4b6-cdb6-11e8-a024-a81e84e6c740\"}, {\"name\": \"\\u8bc4\\u4f30\\u4eba\\u65f6\\uff08h\\uff09(\\u4efb\\u96ea)\", \"x\": [\"8\\u67085\\u5468\", \"9\\u67081\\u5468\", \"9\\u67082\\u5468\", \"9\\u67083\\u5468\", \"9\\u67084\\u5468\", \"10\\u67082\\u5468\"], \"y\": [null, null, null, null, 0.0, null], \"type\": \"bar\", \"uid\": \"c7acd81c-cdb6-11e8-a024-a81e84e6c740\"}, {\"name\": \"\\u8bc4\\u4f30\\u4eba\\u65f6\\uff08h\\uff09(\\u5218\\u6c5f)\", \"x\": [\"8\\u67085\\u5468\", \"9\\u67081\\u5468\", \"9\\u67082\\u5468\", \"9\\u67083\\u5468\", \"9\\u67084\\u5468\", \"10\\u67082\\u5468\"], \"y\": [null, 6.0, 4.0, null, null, null], \"type\": \"bar\", \"uid\": \"c7acdb78-cdb6-11e8-a024-a81e84e6c740\"}, {\"name\": \"\\u8bc4\\u4f30\\u4eba\\u65f6\\uff08h\\uff09(\\u59da\\u76df\\u6210)\", \"x\": [\"8\\u67085\\u5468\", \"9\\u67081\\u5468\", \"9\\u67082\\u5468\", \"9\\u67083\\u5468\", \"9\\u67084\\u5468\", \"10\\u67082\\u5468\"], \"y\": [null, 16.0, null, 8.0, null, null], \"type\": \"bar\", \"uid\": \"c7acdee8-cdb6-11e8-a024-a81e84e6c740\"}, {\"name\": \"\\u8bc4\\u4f30\\u4eba\\u65f6\\uff08h\\uff09(\\u6c88\\u7acb\\u7fa4)\", \"x\": [\"8\\u67085\\u5468\", \"9\\u67081\\u5468\", \"9\\u67082\\u5468\", \"9\\u67083\\u5468\", \"9\\u67084\\u5468\", \"10\\u67082\\u5468\"], \"y\": [null, null, null, 2.0, null, null], \"type\": \"bar\", \"uid\": \"c7ace24e-cdb6-11e8-a024-a81e84e6c740\"}, {\"name\": \"\\u8bc4\\u4f30\\u4eba\\u65f6\\uff08h\\uff09(\\u9648\\u9e4f\\u71d5)\", \"x\": [\"8\\u67085\\u5468\", \"9\\u67081\\u5468\", \"9\\u67082\\u5468\", \"9\\u67083\\u5468\", \"9\\u67084\\u5468\", \"10\\u67082\\u5468\"], \"y\": [0.0, 0.0, 0.0, 0.0, null, null], \"type\": \"bar\", \"uid\": \"c7ace5c8-cdb6-11e8-a024-a81e84e6c740\"}, {\"name\": \"\\u8bc4\\u4f30\\u4eba\\u65f6\\uff08h\\uff09(\\u4e8e\\u6167)\", \"x\": [\"8\\u67085\\u5468\", \"9\\u67081\\u5468\", \"9\\u67082\\u5468\", \"9\\u67083\\u5468\", \"9\\u67084\\u5468\", \"10\\u67082\\u5468\"], \"y\": [null, null, 0.0, 0.0, null, null], \"type\": \"bar\", \"uid\": \"c7ace92e-cdb6-11e8-a024-a81e84e6c740\"}, {\"name\": \"\\u8bc4\\u4f30\\u4eba\\u65f6\\uff08h\\uff09(\\u97e9\\u5c11\\u6000)\", \"x\": [\"8\\u67085\\u5468\", \"9\\u67081\\u5468\", \"9\\u67082\\u5468\", \"9\\u67083\\u5468\", \"9\\u67084\\u5468\", \"10\\u67082\\u5468\"], \"y\": [null, 0.0, null, null, 0.0, null], \"type\": \"bar\", \"uid\": \"c7acec8a-cdb6-11e8-a024-a81e84e6c740\"}], {\"barmode\": \"stack\", \"title\": \"\\u8bc4\\u4f30\\u4eba\\u65f6\\uff08h\\uff09\\u5468\\u8d8b\\u52bf\\u56fe\", \"xaxis\": {\"mirror\": \"all\", \"nticks\": 20, \"showgrid\": true, \"showline\": true, \"title\": \"\\u5468\", \"zeroline\": true}, \"yaxis\": {\"mirror\": \"all\", \"nticks\": 20, \"showgrid\": true, \"showline\": true, \"title\": \"\\u8bc4\\u4f30\\u4eba\\u65f6\\uff08h\\uff09\", \"zeroline\": true}}, {\"showLink\": true, \"linkText\": \"Export to plot.ly\"})});</script>"
      ]
     },
     "metadata": {},
     "output_type": "display_data"
    }
   ],
   "source": [
    "ss = myModule.format(df1 ,'week_number' ,['评估人时（h）'])\n",
    "ss.add_group('信息负责人')\n",
    "#ss.groupby('sum')\n",
    "#ss.df.groupby([ss.x , ss.group_col]).mean()\n",
    "#oo = ss.groupby('sum').index.get_level_values(0)\n",
    "#tt = lambda x:int(x.replace('月','').replace('周','').replace('-',''))\n",
    "#list(map(tt,oo))\n",
    "#ss.groupby('sum').unstack()\n",
    "pp = myModule.sort_by_index(ss.groupby('sum'))\n",
    "tt = myModule.myPlot(pp)\n",
    "tt.plot('stack_bar')"
   ]
  },
  {
   "cell_type": "code",
   "execution_count": null,
   "metadata": {},
   "outputs": [],
   "source": []
  }
 ],
 "metadata": {
  "hide_input": false,
  "kernelspec": {
   "display_name": "Python 3",
   "language": "python",
   "name": "python3"
  },
  "language_info": {
   "codemirror_mode": {
    "name": "ipython",
    "version": 3
   },
   "file_extension": ".py",
   "mimetype": "text/x-python",
   "name": "python",
   "nbconvert_exporter": "python",
   "pygments_lexer": "ipython3",
   "version": "3.6.6"
  },
  "toc": {
   "base_numbering": 1,
   "nav_menu": {},
   "number_sections": true,
   "sideBar": true,
   "skip_h1_title": false,
   "title_cell": "Table of Contents",
   "title_sidebar": "Contents",
   "toc_cell": false,
   "toc_position": {},
   "toc_section_display": true,
   "toc_window_display": false
  }
 },
 "nbformat": 4,
 "nbformat_minor": 2
}
