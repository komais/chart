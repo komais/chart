{
 "cells": [
  {
   "cell_type": "markdown",
   "metadata": {
    "collapsed": false
   },
   "source": [
    "%load_ext autoreload\n",
    "%autoreload 2"
   ]
  },
  {
   "cell_type": "code",
   "execution_count": 44,
   "metadata": {
    "collapsed": false
   },
   "outputs": [
    {
     "data": {
      "text/html": [
       "<script>requirejs.config({paths: { 'plotly': ['https://cdn.plot.ly/plotly-latest.min']},});if(!window.Plotly) {{require(['plotly'],function(plotly) {window.Plotly=plotly;});}}</script>"
      ],
      "text/vnd.plotly.v1+html": [
       "<script>requirejs.config({paths: { 'plotly': ['https://cdn.plot.ly/plotly-latest.min']},});if(!window.Plotly) {{require(['plotly'],function(plotly) {window.Plotly=plotly;});}}</script>"
      ]
     },
     "metadata": {},
     "output_type": "display_data"
    },
    {
     "data": {
      "text/html": [
       "<script>requirejs.config({paths: { 'plotly': ['https://cdn.plot.ly/plotly-latest.min']},});if(!window.Plotly) {{require(['plotly'],function(plotly) {window.Plotly=plotly;});}}</script>"
      ],
      "text/vnd.plotly.v1+html": [
       "<script>requirejs.config({paths: { 'plotly': ['https://cdn.plot.ly/plotly-latest.min']},});if(!window.Plotly) {{require(['plotly'],function(plotly) {window.Plotly=plotly;});}}</script>"
      ]
     },
     "metadata": {},
     "output_type": "display_data"
    }
   ],
   "source": [
    "import pandas as pd\n",
    "import numpy as np\n",
    "import sys\n",
    "sys.path.append('./')\n",
    "import xiadan_check\n",
    "import myModule\n",
    "import imp\n",
    "imp.reload(xiadan_check)\n",
    "imp.reload(myModule)\n",
    "import time"
   ]
  },
  {
   "cell_type": "code",
   "execution_count": 45,
   "metadata": {
    "collapsed": false
   },
   "outputs": [],
   "source": [
    "pathway = './'\n",
    "all_files  = xiadan_check.get_files(pathway, \"个性化\",\"20181011\")   ##给路径\n",
    "df1  = xiadan_check.read_xlsx(all_files , 0 )## read all files sheet1"
   ]
  },
  {
   "cell_type": "code",
   "execution_count": 46,
   "metadata": {
    "collapsed": false
   },
   "outputs": [],
   "source": [
    "import datetime\n",
    "def changetype1(check_str):\n",
    "    value = 1 if type(check_str) == datetime.datetime else 0\n",
    "    return value\n",
    "def changetype2(check_str):\n",
    "    value = 0 if type(check_str) == datetime.datetime else 1\n",
    "    return value"
   ]
  },
  {
   "cell_type": "code",
   "execution_count": 47,
   "metadata": {
    "collapsed": false,
    "scrolled": true
   },
   "outputs": [
    {
     "name": "stderr",
     "output_type": "stream",
     "text": [
      "/home/jiankong/anaconda3/lib/python3.6/site-packages/ipykernel/__main__.py:15: SettingWithCopyWarning:\n",
      "\n",
      "\n",
      "A value is trying to be set on a copy of a slice from a DataFrame.\n",
      "Try using .loc[row_indexer,col_indexer] = value instead\n",
      "\n",
      "See the caveats in the documentation: http://pandas.pydata.org/pandas-docs/stable/indexing.html#indexing-view-versus-copy\n",
      "\n",
      "/home/jiankong/jupyter/chart/bin/supplment_analysis/myModule.py:87: SettingWithCopyWarning:\n",
      "\n",
      "\n",
      "A value is trying to be set on a copy of a slice from a DataFrame.\n",
      "Try using .loc[row_indexer,col_indexer] = value instead\n",
      "\n",
      "See the caveats in the documentation: http://pandas.pydata.org/pandas-docs/stable/indexing.html#indexing-view-versus-copy\n",
      "\n",
      "/home/jiankong/jupyter/chart/bin/supplment_analysis/myModule.py:129: SettingWithCopyWarning:\n",
      "\n",
      "\n",
      "A value is trying to be set on a copy of a slice from a DataFrame.\n",
      "Try using .loc[row_indexer,col_indexer] = value instead\n",
      "\n",
      "See the caveats in the documentation: http://pandas.pydata.org/pandas-docs/stable/indexing.html#indexing-view-versus-copy\n",
      "\n",
      "/home/jiankong/anaconda3/lib/python3.6/site-packages/ipykernel/__main__.py:22: SettingWithCopyWarning:\n",
      "\n",
      "\n",
      "A value is trying to be set on a copy of a slice from a DataFrame.\n",
      "Try using .loc[row_indexer,col_indexer] = value instead\n",
      "\n",
      "See the caveats in the documentation: http://pandas.pydata.org/pandas-docs/stable/indexing.html#indexing-view-versus-copy\n",
      "\n",
      "/home/jiankong/jupyter/chart/bin/supplment_analysis/myModule.py:117: SettingWithCopyWarning:\n",
      "\n",
      "\n",
      "A value is trying to be set on a copy of a slice from a DataFrame.\n",
      "Try using .loc[row_indexer,col_indexer] = value instead\n",
      "\n",
      "See the caveats in the documentation: http://pandas.pydata.org/pandas-docs/stable/indexing.html#indexing-view-versus-copy\n",
      "\n",
      "/home/jiankong/anaconda3/lib/python3.6/site-packages/ipykernel/__main__.py:29: SettingWithCopyWarning:\n",
      "\n",
      "\n",
      "A value is trying to be set on a copy of a slice from a DataFrame.\n",
      "Try using .loc[row_indexer,col_indexer] = value instead\n",
      "\n",
      "See the caveats in the documentation: http://pandas.pydata.org/pandas-docs/stable/indexing.html#indexing-view-versus-copy\n",
      "\n",
      "/home/jiankong/anaconda3/lib/python3.6/site-packages/ipykernel/__main__.py:30: SettingWithCopyWarning:\n",
      "\n",
      "\n",
      "A value is trying to be set on a copy of a slice from a DataFrame.\n",
      "Try using .loc[row_indexer,col_indexer] = value instead\n",
      "\n",
      "See the caveats in the documentation: http://pandas.pydata.org/pandas-docs/stable/indexing.html#indexing-view-versus-copy\n",
      "\n"
     ]
    }
   ],
   "source": [
    "date = pd.to_datetime(time.strftime('%Y-%m-%d',time.localtime(time.time())))\n",
    "stat_week = '10月2周'\n",
    "## df1:原始项目；\n",
    "## df2:有效反馈项目，即排除驳回、暂停、沟通中\n",
    "## df3:在线项目，基于df2\n",
    "## df4:完成项目，基于df2\n",
    "## df5:延期项目，基于df3中未交付延期、df4\n",
    "\n",
    "myModule.add_week(df1,'下单时间')                                              #以下单时间定义week_number\n",
    "myModule.upgrade_df(df1, [['反馈周期', ['评估反馈时间','下单时间'], '-']])     #增加“反馈周期”列\n",
    "tt = lambda x : getattr(x , 'days')                                            #更换“days”类型\n",
    "[myModule.retype(df1, i , tt) for i in ['反馈周期']] \n",
    "\n",
    "df2 = df1[df1['预计交付时间'].apply(lambda x: type(x) == datetime.datetime)]   #根据“预计交付时间”筛选有效反馈项目列表\n",
    "df2['预计交付时间'] = df2['预计交付时间'].apply(pd.to_datetime)                #转换时间类型\n",
    "myModule.upgrade_df(df2, [['预计周期', ['预计交付时间','评估反馈时间'], '-']]) #增加“预计周期”列\n",
    "[myModule.retype(df2, i , tt) for i in ['预计周期']]                           #更换“days”类型\n",
    "\n",
    "df3 = df2[df2['实际交付时间'].apply(lambda x: x == 0)]                          #根据“实际交付时间”筛选在线项目列表\n",
    "\n",
    "df4 = df2[df2['实际交付时间'].apply(lambda x: type(x) == datetime.datetime)]    #根据“实际交付时间”筛选已交付项目列表\n",
    "df4['实际交付时间'] = df4['实际交付时间'].apply(pd.to_datetime)                 #转换时间类型\n",
    "myModule.upgrade_df(df4, [['实际周期', ['实际交付时间','评估反馈时间'], '-'],   #增加“实际周期”、“延期天数”列\n",
    "                         ['延期天数',['实际交付时间','预计交付时间'], '-']])\n",
    "[myModule.retype(df4, i , tt) for i in ['实际周期','延期天数']]                 #更换“days”类型\n",
    "myModule.add_week(df4,'实际交付时间')                                           #以实际交付时间定义week_number\n",
    "\n",
    "tmp = df3[df3['预计交付时间'].apply(lambda x: date>x)]                          #未交付延期项目\n",
    "tmp['实际周期'] = 1000\n",
    "tmp['延期天数'] = 1000\n",
    "df5 = df4.append(tmp)\n",
    "myModule.add_week(df5,'预计交付时间')                                           #以预计交付时间定义week_number\n",
    "\n",
    "## 分析组人员列表\n",
    "fenxi = [\"施毓芷\",\"闻少楠\",\"杨宇\",\"刘永强\",\"刘梦苑\",\"何胜\",\"陈碧雯\",\"王霞\",\"卢楠\",\"冯敬岩\",\"朱慧萍\",\"赵倩\",\"解飞\",\"宋少宇\"]"
   ]
  },
  {
   "cell_type": "markdown",
   "metadata": {},
   "source": [
    "# 评估情况统计"
   ]
  },
  {
   "cell_type": "code",
   "execution_count": 48,
   "metadata": {
    "collapsed": false
   },
   "outputs": [
    {
     "data": {
      "text/html": [
       "<div>\n",
       "<style scoped>\n",
       "    .dataframe tbody tr th:only-of-type {\n",
       "        vertical-align: middle;\n",
       "    }\n",
       "\n",
       "    .dataframe tbody tr th {\n",
       "        vertical-align: top;\n",
       "    }\n",
       "\n",
       "    .dataframe thead th {\n",
       "        text-align: right;\n",
       "    }\n",
       "</style>\n",
       "<table border=\"1\" class=\"dataframe\">\n",
       "  <thead>\n",
       "    <tr style=\"text-align: right;\">\n",
       "      <th></th>\n",
       "      <th>序号</th>\n",
       "      <th>流水号</th>\n",
       "      <th>个性化分析名称</th>\n",
       "      <th>项目管理</th>\n",
       "      <th>接入时间</th>\n",
       "      <th>下单时间</th>\n",
       "      <th>信息负责人</th>\n",
       "      <th>评估反馈时间</th>\n",
       "      <th>预计交付时间</th>\n",
       "      <th>数据迁回花费时间（天）</th>\n",
       "      <th>实际交付时间</th>\n",
       "      <th>评估人时（h）</th>\n",
       "      <th>评估机时(h)</th>\n",
       "      <th>是否在库里</th>\n",
       "      <th>库里周期（天）</th>\n",
       "      <th>项目管理交付时间</th>\n",
       "      <th>备注</th>\n",
       "      <th>week_number</th>\n",
       "      <th>反馈周期</th>\n",
       "    </tr>\n",
       "  </thead>\n",
       "  <tbody>\n",
       "    <tr>\n",
       "      <th>256</th>\n",
       "      <td>1218</td>\n",
       "      <td>20181011-015</td>\n",
       "      <td>PM-HL170060-02东北农大12个大豆lncRNA建库测序分析任务单-02</td>\n",
       "      <td>赵景华</td>\n",
       "      <td>2018-10-11</td>\n",
       "      <td>2018-10-11</td>\n",
       "      <td>赵倩</td>\n",
       "      <td>2018-10-12</td>\n",
       "      <td>0</td>\n",
       "      <td>0</td>\n",
       "      <td>0</td>\n",
       "      <td>0</td>\n",
       "      <td>0.0</td>\n",
       "      <td>0</td>\n",
       "      <td>0.0</td>\n",
       "      <td>0</td>\n",
       "      <td>0</td>\n",
       "      <td>10月2周</td>\n",
       "      <td>1</td>\n",
       "    </tr>\n",
       "    <tr>\n",
       "      <th>257</th>\n",
       "      <td>1219</td>\n",
       "      <td>20181011-016</td>\n",
       "      <td>PM-GD160093-04中二院3个人样品转录组建库测序分析任务单-02</td>\n",
       "      <td>古艳芳</td>\n",
       "      <td>2018-10-11</td>\n",
       "      <td>2018-10-11</td>\n",
       "      <td>赵倩</td>\n",
       "      <td>2018-10-12</td>\n",
       "      <td>2018-10-19 00:00:00</td>\n",
       "      <td>0</td>\n",
       "      <td>0</td>\n",
       "      <td>0</td>\n",
       "      <td>0.0</td>\n",
       "      <td>0</td>\n",
       "      <td>0.0</td>\n",
       "      <td>0</td>\n",
       "      <td>0</td>\n",
       "      <td>10月2周</td>\n",
       "      <td>1</td>\n",
       "    </tr>\n",
       "    <tr>\n",
       "      <th>258</th>\n",
       "      <td>1220</td>\n",
       "      <td>20181011-017</td>\n",
       "      <td>PM-GD160093-01中山二院3个人有参转录组建库测序自动化分析任务单-01</td>\n",
       "      <td>古艳芳</td>\n",
       "      <td>2018-10-11</td>\n",
       "      <td>2018-10-11</td>\n",
       "      <td>王霞</td>\n",
       "      <td>2018-10-12</td>\n",
       "      <td>2018-10-19 00:00:00</td>\n",
       "      <td>0</td>\n",
       "      <td>0</td>\n",
       "      <td>0</td>\n",
       "      <td>0.0</td>\n",
       "      <td>0</td>\n",
       "      <td>0.0</td>\n",
       "      <td>0</td>\n",
       "      <td>0</td>\n",
       "      <td>10月2周</td>\n",
       "      <td>1</td>\n",
       "    </tr>\n",
       "    <tr>\n",
       "      <th>259</th>\n",
       "      <td>1221</td>\n",
       "      <td>20181011-018</td>\n",
       "      <td>PM-GD160093-06中山二院6个人有参转录组建库测序分析任务单-快速产品-01</td>\n",
       "      <td>古艳芳</td>\n",
       "      <td>2018-10-11</td>\n",
       "      <td>2018-10-11</td>\n",
       "      <td>王霞</td>\n",
       "      <td>2018-10-12</td>\n",
       "      <td>2018-10-19 00:00:00</td>\n",
       "      <td>0</td>\n",
       "      <td>0</td>\n",
       "      <td>0</td>\n",
       "      <td>0.0</td>\n",
       "      <td>0</td>\n",
       "      <td>0.0</td>\n",
       "      <td>0</td>\n",
       "      <td>0</td>\n",
       "      <td>10月2周</td>\n",
       "      <td>1</td>\n",
       "    </tr>\n",
       "    <tr>\n",
       "      <th>260</th>\n",
       "      <td>1222</td>\n",
       "      <td>20181011-019</td>\n",
       "      <td>FJ170076-07福建农林大学215个金鱼数据只分析任务单-VIP-02</td>\n",
       "      <td>古艳芳</td>\n",
       "      <td>2018-10-11</td>\n",
       "      <td>2018-10-11</td>\n",
       "      <td>刘梦苑</td>\n",
       "      <td>2018-10-12</td>\n",
       "      <td>2018-10-18 00:00:00</td>\n",
       "      <td>0</td>\n",
       "      <td>0</td>\n",
       "      <td>0</td>\n",
       "      <td>0.0</td>\n",
       "      <td>0</td>\n",
       "      <td>0.0</td>\n",
       "      <td>0</td>\n",
       "      <td>0</td>\n",
       "      <td>10月2周</td>\n",
       "      <td>1</td>\n",
       "    </tr>\n",
       "  </tbody>\n",
       "</table>\n",
       "</div>"
      ],
      "text/plain": [
       "       序号           流水号                                      个性化分析名称 项目管理  \\\n",
       "256  1218  20181011-015    PM-HL170060-02东北农大12个大豆lncRNA建库测序分析任务单-02  赵景华   \n",
       "257  1219  20181011-016        PM-GD160093-04中二院3个人样品转录组建库测序分析任务单-02  古艳芳   \n",
       "258  1220  20181011-017    PM-GD160093-01中山二院3个人有参转录组建库测序自动化分析任务单-01  古艳芳   \n",
       "259  1221  20181011-018  PM-GD160093-06中山二院6个人有参转录组建库测序分析任务单-快速产品-01  古艳芳   \n",
       "260  1222  20181011-019       FJ170076-07福建农林大学215个金鱼数据只分析任务单-VIP-02  古艳芳   \n",
       "\n",
       "          接入时间       下单时间 信息负责人     评估反馈时间               预计交付时间 数据迁回花费时间（天）  \\\n",
       "256 2018-10-11 2018-10-11    赵倩 2018-10-12                    0           0   \n",
       "257 2018-10-11 2018-10-11    赵倩 2018-10-12  2018-10-19 00:00:00           0   \n",
       "258 2018-10-11 2018-10-11    王霞 2018-10-12  2018-10-19 00:00:00           0   \n",
       "259 2018-10-11 2018-10-11    王霞 2018-10-12  2018-10-19 00:00:00           0   \n",
       "260 2018-10-11 2018-10-11   刘梦苑 2018-10-12  2018-10-18 00:00:00           0   \n",
       "\n",
       "    实际交付时间 评估人时（h）  评估机时(h) 是否在库里  库里周期（天） 项目管理交付时间 备注 week_number  反馈周期  \n",
       "256      0       0      0.0     0      0.0        0  0       10月2周     1  \n",
       "257      0       0      0.0     0      0.0        0  0       10月2周     1  \n",
       "258      0       0      0.0     0      0.0        0  0       10月2周     1  \n",
       "259      0       0      0.0     0      0.0        0  0       10月2周     1  \n",
       "260      0       0      0.0     0      0.0        0  0       10月2周     1  "
      ]
     },
     "execution_count": 48,
     "metadata": {},
     "output_type": "execute_result"
    }
   ],
   "source": [
    "df1.tail()"
   ]
  },
  {
   "cell_type": "markdown",
   "metadata": {},
   "source": [
    "## 接入项目数统计"
   ]
  },
  {
   "cell_type": "markdown",
   "metadata": {},
   "source": [
    "### 整体接入项目数趋势图"
   ]
  },
  {
   "cell_type": "code",
   "execution_count": 49,
   "metadata": {
    "collapsed": false
   },
   "outputs": [
    {
     "name": "stderr",
     "output_type": "stream",
     "text": [
      "/home/jiankong/anaconda3/lib/python3.6/site-packages/ipykernel/__main__.py:2: SettingWithCopyWarning:\n",
      "\n",
      "\n",
      "A value is trying to be set on a copy of a slice from a DataFrame.\n",
      "Try using .loc[row_indexer,col_indexer] = value instead\n",
      "\n",
      "See the caveats in the documentation: http://pandas.pydata.org/pandas-docs/stable/indexing.html#indexing-view-versus-copy\n",
      "\n",
      "/home/jiankong/anaconda3/lib/python3.6/site-packages/ipykernel/__main__.py:3: SettingWithCopyWarning:\n",
      "\n",
      "\n",
      "A value is trying to be set on a copy of a slice from a DataFrame.\n",
      "Try using .loc[row_indexer,col_indexer] = value instead\n",
      "\n",
      "See the caveats in the documentation: http://pandas.pydata.org/pandas-docs/stable/indexing.html#indexing-view-versus-copy\n",
      "\n",
      "/home/jiankong/anaconda3/lib/python3.6/site-packages/ipykernel/__main__.py:4: SettingWithCopyWarning:\n",
      "\n",
      "\n",
      "A value is trying to be set on a copy of a slice from a DataFrame.\n",
      "Try using .loc[row_indexer,col_indexer] = value instead\n",
      "\n",
      "See the caveats in the documentation: http://pandas.pydata.org/pandas-docs/stable/indexing.html#indexing-view-versus-copy\n",
      "\n"
     ]
    },
    {
     "data": {
      "application/vnd.plotly.v1+json": {
       "data": [
        {
         "name": "有效接入项目数",
         "type": "scatter",
         "uid": "42b455d6-d1b2-11e8-8ddb-a41f72875c19",
         "x": [
          "8月5周",
          "9月1周",
          "9月2周",
          "9月3周",
          "9月4周",
          "10月2周",
          "10月3周"
         ],
         "y": [
          6,
          41,
          46,
          44,
          41,
          54,
          1
         ]
        },
        {
         "name": "接入项目数",
         "type": "scatter",
         "uid": "42b455d7-d1b2-11e8-8ddb-a41f72875c19",
         "x": [
          "8月5周",
          "9月1周",
          "9月2周",
          "9月3周",
          "9月4周",
          "10月2周",
          "10月3周"
         ],
         "y": [
          6,
          45,
          52,
          47,
          47,
          63,
          1
         ]
        },
        {
         "name": "驳回暂停沟通项目数",
         "type": "scatter",
         "uid": "42b455d8-d1b2-11e8-8ddb-a41f72875c19",
         "x": [
          "8月5周",
          "9月1周",
          "9月2周",
          "9月3周",
          "9月4周",
          "10月2周",
          "10月3周"
         ],
         "y": [
          0,
          4,
          6,
          3,
          6,
          9,
          0
         ]
        }
       ],
       "layout": {
        "title": "有效接入项目数&接入项目数&驳回暂停沟通项目数周趋势图",
        "xaxis": {
         "mirror": "all",
         "nticks": 20,
         "showgrid": true,
         "showline": true,
         "title": "周",
         "zeroline": true
        },
        "yaxis": {
         "mirror": "all",
         "nticks": 20,
         "showgrid": true,
         "showline": true,
         "title": "有效接入项目数&接入项目数&驳回暂停沟通项目数",
         "zeroline": true
        }
       }
      },
      "text/html": [
       "<div id=\"9a35da75-709e-4a70-9dbf-b837ddff367f\" style=\"height: 525px; width: 100%;\" class=\"plotly-graph-div\"></div><script type=\"text/javascript\">require([\"plotly\"], function(Plotly) { window.PLOTLYENV=window.PLOTLYENV || {};window.PLOTLYENV.BASE_URL=\"https://plot.ly\";Plotly.newPlot(\"9a35da75-709e-4a70-9dbf-b837ddff367f\", [{\"name\": \"\\u6709\\u6548\\u63a5\\u5165\\u9879\\u76ee\\u6570\", \"x\": [\"8\\u67085\\u5468\", \"9\\u67081\\u5468\", \"9\\u67082\\u5468\", \"9\\u67083\\u5468\", \"9\\u67084\\u5468\", \"10\\u67082\\u5468\", \"10\\u67083\\u5468\"], \"y\": [6, 41, 46, 44, 41, 54, 1], \"type\": \"scatter\", \"uid\": \"42b455d6-d1b2-11e8-8ddb-a41f72875c19\"}, {\"name\": \"\\u63a5\\u5165\\u9879\\u76ee\\u6570\", \"x\": [\"8\\u67085\\u5468\", \"9\\u67081\\u5468\", \"9\\u67082\\u5468\", \"9\\u67083\\u5468\", \"9\\u67084\\u5468\", \"10\\u67082\\u5468\", \"10\\u67083\\u5468\"], \"y\": [6, 45, 52, 47, 47, 63, 1], \"type\": \"scatter\", \"uid\": \"42b455d7-d1b2-11e8-8ddb-a41f72875c19\"}, {\"name\": \"\\u9a73\\u56de\\u6682\\u505c\\u6c9f\\u901a\\u9879\\u76ee\\u6570\", \"x\": [\"8\\u67085\\u5468\", \"9\\u67081\\u5468\", \"9\\u67082\\u5468\", \"9\\u67083\\u5468\", \"9\\u67084\\u5468\", \"10\\u67082\\u5468\", \"10\\u67083\\u5468\"], \"y\": [0, 4, 6, 3, 6, 9, 0], \"type\": \"scatter\", \"uid\": \"42b455d8-d1b2-11e8-8ddb-a41f72875c19\"}], {\"title\": \"\\u6709\\u6548\\u63a5\\u5165\\u9879\\u76ee\\u6570&\\u63a5\\u5165\\u9879\\u76ee\\u6570&\\u9a73\\u56de\\u6682\\u505c\\u6c9f\\u901a\\u9879\\u76ee\\u6570\\u5468\\u8d8b\\u52bf\\u56fe\", \"xaxis\": {\"mirror\": \"all\", \"nticks\": 20, \"showgrid\": true, \"showline\": true, \"title\": \"\\u5468\", \"zeroline\": true}, \"yaxis\": {\"mirror\": \"all\", \"nticks\": 20, \"showgrid\": true, \"showline\": true, \"title\": \"\\u6709\\u6548\\u63a5\\u5165\\u9879\\u76ee\\u6570&\\u63a5\\u5165\\u9879\\u76ee\\u6570&\\u9a73\\u56de\\u6682\\u505c\\u6c9f\\u901a\\u9879\\u76ee\\u6570\", \"zeroline\": true}}, {\"showLink\": true, \"linkText\": \"Export to plot.ly\"})});</script>"
      ],
      "text/vnd.plotly.v1+html": [
       "<div id=\"9a35da75-709e-4a70-9dbf-b837ddff367f\" style=\"height: 525px; width: 100%;\" class=\"plotly-graph-div\"></div><script type=\"text/javascript\">require([\"plotly\"], function(Plotly) { window.PLOTLYENV=window.PLOTLYENV || {};window.PLOTLYENV.BASE_URL=\"https://plot.ly\";Plotly.newPlot(\"9a35da75-709e-4a70-9dbf-b837ddff367f\", [{\"name\": \"\\u6709\\u6548\\u63a5\\u5165\\u9879\\u76ee\\u6570\", \"x\": [\"8\\u67085\\u5468\", \"9\\u67081\\u5468\", \"9\\u67082\\u5468\", \"9\\u67083\\u5468\", \"9\\u67084\\u5468\", \"10\\u67082\\u5468\", \"10\\u67083\\u5468\"], \"y\": [6, 41, 46, 44, 41, 54, 1], \"type\": \"scatter\", \"uid\": \"42b455d6-d1b2-11e8-8ddb-a41f72875c19\"}, {\"name\": \"\\u63a5\\u5165\\u9879\\u76ee\\u6570\", \"x\": [\"8\\u67085\\u5468\", \"9\\u67081\\u5468\", \"9\\u67082\\u5468\", \"9\\u67083\\u5468\", \"9\\u67084\\u5468\", \"10\\u67082\\u5468\", \"10\\u67083\\u5468\"], \"y\": [6, 45, 52, 47, 47, 63, 1], \"type\": \"scatter\", \"uid\": \"42b455d7-d1b2-11e8-8ddb-a41f72875c19\"}, {\"name\": \"\\u9a73\\u56de\\u6682\\u505c\\u6c9f\\u901a\\u9879\\u76ee\\u6570\", \"x\": [\"8\\u67085\\u5468\", \"9\\u67081\\u5468\", \"9\\u67082\\u5468\", \"9\\u67083\\u5468\", \"9\\u67084\\u5468\", \"10\\u67082\\u5468\", \"10\\u67083\\u5468\"], \"y\": [0, 4, 6, 3, 6, 9, 0], \"type\": \"scatter\", \"uid\": \"42b455d8-d1b2-11e8-8ddb-a41f72875c19\"}], {\"title\": \"\\u6709\\u6548\\u63a5\\u5165\\u9879\\u76ee\\u6570&\\u63a5\\u5165\\u9879\\u76ee\\u6570&\\u9a73\\u56de\\u6682\\u505c\\u6c9f\\u901a\\u9879\\u76ee\\u6570\\u5468\\u8d8b\\u52bf\\u56fe\", \"xaxis\": {\"mirror\": \"all\", \"nticks\": 20, \"showgrid\": true, \"showline\": true, \"title\": \"\\u5468\", \"zeroline\": true}, \"yaxis\": {\"mirror\": \"all\", \"nticks\": 20, \"showgrid\": true, \"showline\": true, \"title\": \"\\u6709\\u6548\\u63a5\\u5165\\u9879\\u76ee\\u6570&\\u63a5\\u5165\\u9879\\u76ee\\u6570&\\u9a73\\u56de\\u6682\\u505c\\u6c9f\\u901a\\u9879\\u76ee\\u6570\", \"zeroline\": true}}, {\"showLink\": true, \"linkText\": \"Export to plot.ly\"})});</script>"
      ]
     },
     "metadata": {},
     "output_type": "display_data"
    }
   ],
   "source": [
    "ss = myModule.format(df1,'week_number',['流水号','个性化分析名称','项目管理','预计交付时间'])\n",
    "ss.df['接入项目数'] = list(map(changetype2,ss.df['流水号']))\n",
    "ss.df['有效接入项目数'] = list(map(changetype1,ss.df['预计交付时间']))\n",
    "ss.df['驳回暂停沟通项目数'] = list(map(changetype2,ss.df['预计交付时间']))\n",
    "tt = myModule.format(ss.df,'week_number',['有效接入项目数','驳回暂停沟通项目数','接入项目数'])\n",
    "pp = myModule.sort_by_index(tt.groupby('sum'))\n",
    "myModule.myPlot(pp).plot('line')"
   ]
  },
  {
   "cell_type": "markdown",
   "metadata": {},
   "source": [
    "### 个人接入项目数分布图"
   ]
  },
  {
   "cell_type": "code",
   "execution_count": 50,
   "metadata": {
    "collapsed": false
   },
   "outputs": [
    {
     "data": {
      "application/vnd.plotly.v1+json": {
       "data": [
        {
         "name": "流水号(朱慧萍)",
         "type": "bar",
         "uid": "42b455d9-d1b2-11e8-8ddb-a41f72875c19",
         "x": [
          "8月5周",
          "9月1周",
          "9月2周",
          "9月3周",
          "9月4周",
          "10月2周",
          "10月3周"
         ],
         "y": [
          4,
          3,
          4,
          2,
          1,
          3,
          null
         ]
        },
        {
         "name": "流水号(韩少怀)",
         "type": "bar",
         "uid": "42b455da-d1b2-11e8-8ddb-a41f72875c19",
         "x": [
          "8月5周",
          "9月1周",
          "9月2周",
          "9月3周",
          "9月4周",
          "10月2周",
          "10月3周"
         ],
         "y": [
          null,
          1,
          null,
          null,
          3,
          2,
          null
         ]
        },
        {
         "name": "流水号(王传文)",
         "type": "bar",
         "uid": "42b455db-d1b2-11e8-8ddb-a41f72875c19",
         "x": [
          "8月5周",
          "9月1周",
          "9月2周",
          "9月3周",
          "9月4周",
          "10月2周",
          "10月3周"
         ],
         "y": [
          null,
          null,
          null,
          1,
          null,
          2,
          null
         ]
        },
        {
         "name": "流水号(驳回)",
         "type": "bar",
         "uid": "42b455dc-d1b2-11e8-8ddb-a41f72875c19",
         "x": [
          "8月5周",
          "9月1周",
          "9月2周",
          "9月3周",
          "9月4周",
          "10月2周",
          "10月3周"
         ],
         "y": [
          null,
          3,
          5,
          2,
          3,
          4,
          null
         ]
        },
        {
         "name": "流水号(于慧)",
         "type": "bar",
         "uid": "42b455dd-d1b2-11e8-8ddb-a41f72875c19",
         "x": [
          "8月5周",
          "9月1周",
          "9月2周",
          "9月3周",
          "9月4周",
          "10月2周",
          "10月3周"
         ],
         "y": [
          null,
          null,
          1,
          1,
          null,
          2,
          null
         ]
        },
        {
         "name": "流水号(解飞)",
         "type": "bar",
         "uid": "42b455de-d1b2-11e8-8ddb-a41f72875c19",
         "x": [
          "8月5周",
          "9月1周",
          "9月2周",
          "9月3周",
          "9月4周",
          "10月2周",
          "10月3周"
         ],
         "y": [
          null,
          null,
          null,
          null,
          2,
          1,
          null
         ]
        },
        {
         "name": "流水号(高剑)",
         "type": "bar",
         "uid": "42b455df-d1b2-11e8-8ddb-a41f72875c19",
         "x": [
          "8月5周",
          "9月1周",
          "9月2周",
          "9月3周",
          "9月4周",
          "10月2周",
          "10月3周"
         ],
         "y": [
          null,
          1,
          null,
          null,
          null,
          null,
          null
         ]
        },
        {
         "name": "流水号(冯敬岩)",
         "type": "bar",
         "uid": "42b455e0-d1b2-11e8-8ddb-a41f72875c19",
         "x": [
          "8月5周",
          "9月1周",
          "9月2周",
          "9月3周",
          "9月4周",
          "10月2周",
          "10月3周"
         ],
         "y": [
          null,
          3,
          3,
          2,
          3,
          4,
          1
         ]
        },
        {
         "name": "流水号(姚盟成)",
         "type": "bar",
         "uid": "42b455e1-d1b2-11e8-8ddb-a41f72875c19",
         "x": [
          "8月5周",
          "9月1周",
          "9月2周",
          "9月3周",
          "9月4周",
          "10月2周",
          "10月3周"
         ],
         "y": [
          null,
          1,
          null,
          1,
          null,
          null,
          null
         ]
        },
        {
         "name": "流水号(段利强)",
         "type": "bar",
         "uid": "42b455e2-d1b2-11e8-8ddb-a41f72875c19",
         "x": [
          "8月5周",
          "9月1周",
          "9月2周",
          "9月3周",
          "9月4周",
          "10月2周",
          "10月3周"
         ],
         "y": [
          null,
          1,
          5,
          null,
          null,
          null,
          null
         ]
        },
        {
         "name": "流水号(杨宇)",
         "type": "bar",
         "uid": "42b455e3-d1b2-11e8-8ddb-a41f72875c19",
         "x": [
          "8月5周",
          "9月1周",
          "9月2周",
          "9月3周",
          "9月4周",
          "10月2周",
          "10月3周"
         ],
         "y": [
          null,
          2,
          4,
          4,
          1,
          3,
          null
         ]
        },
        {
         "name": "流水号(林文文)",
         "type": "bar",
         "uid": "42b455e4-d1b2-11e8-8ddb-a41f72875c19",
         "x": [
          "8月5周",
          "9月1周",
          "9月2周",
          "9月3周",
          "9月4周",
          "10月2周",
          "10月3周"
         ],
         "y": [
          null,
          null,
          1,
          3,
          null,
          null,
          null
         ]
        },
        {
         "name": "流水号(刘梦苑)",
         "type": "bar",
         "uid": "42b455e5-d1b2-11e8-8ddb-a41f72875c19",
         "x": [
          "8月5周",
          "9月1周",
          "9月2周",
          "9月3周",
          "9月4周",
          "10月2周",
          "10月3周"
         ],
         "y": [
          null,
          2,
          null,
          2,
          3,
          6,
          null
         ]
        },
        {
         "name": "流水号(占伟)",
         "type": "bar",
         "uid": "42b455e6-d1b2-11e8-8ddb-a41f72875c19",
         "x": [
          "8月5周",
          "9月1周",
          "9月2周",
          "9月3周",
          "9月4周",
          "10月2周",
          "10月3周"
         ],
         "y": [
          null,
          1,
          1,
          null,
          null,
          3,
          null
         ]
        },
        {
         "name": "流水号(封彦杰)",
         "type": "bar",
         "uid": "42b455e7-d1b2-11e8-8ddb-a41f72875c19",
         "x": [
          "8月5周",
          "9月1周",
          "9月2周",
          "9月3周",
          "9月4周",
          "10月2周",
          "10月3周"
         ],
         "y": [
          null,
          null,
          null,
          null,
          1,
          null,
          null
         ]
        },
        {
         "name": "流水号(昶吉阳)",
         "type": "bar",
         "uid": "42b455e8-d1b2-11e8-8ddb-a41f72875c19",
         "x": [
          "8月5周",
          "9月1周",
          "9月2周",
          "9月3周",
          "9月4周",
          "10月2周",
          "10月3周"
         ],
         "y": [
          null,
          1,
          2,
          null,
          4,
          null,
          null
         ]
        },
        {
         "name": "流水号(刘永强)",
         "type": "bar",
         "uid": "42b455e9-d1b2-11e8-8ddb-a41f72875c19",
         "x": [
          "8月5周",
          "9月1周",
          "9月2周",
          "9月3周",
          "9月4周",
          "10月2周",
          "10月3周"
         ],
         "y": [
          null,
          1,
          null,
          1,
          null,
          1,
          null
         ]
        },
        {
         "name": "流水号(苑赞)",
         "type": "bar",
         "uid": "42b455ea-d1b2-11e8-8ddb-a41f72875c19",
         "x": [
          "8月5周",
          "9月1周",
          "9月2周",
          "9月3周",
          "9月4周",
          "10月2周",
          "10月3周"
         ],
         "y": [
          null,
          null,
          null,
          null,
          1,
          null,
          null
         ]
        },
        {
         "name": "流水号(宋少宇)",
         "type": "bar",
         "uid": "42b455eb-d1b2-11e8-8ddb-a41f72875c19",
         "x": [
          "8月5周",
          "9月1周",
          "9月2周",
          "9月3周",
          "9月4周",
          "10月2周",
          "10月3周"
         ],
         "y": [
          null,
          1,
          null,
          null,
          1,
          6,
          null
         ]
        },
        {
         "name": "流水号(陈碧雯)",
         "type": "bar",
         "uid": "42b455ec-d1b2-11e8-8ddb-a41f72875c19",
         "x": [
          "8月5周",
          "9月1周",
          "9月2周",
          "9月3周",
          "9月4周",
          "10月2周",
          "10月3周"
         ],
         "y": [
          null,
          4,
          2,
          1,
          4,
          null,
          null
         ]
        },
        {
         "name": "流水号(王霞)",
         "type": "bar",
         "uid": "42b455ed-d1b2-11e8-8ddb-a41f72875c19",
         "x": [
          "8月5周",
          "9月1周",
          "9月2周",
          "9月3周",
          "9月4周",
          "10月2周",
          "10月3周"
         ],
         "y": [
          null,
          2,
          2,
          5,
          1,
          4,
          null
         ]
        },
        {
         "name": "流水号(冷雪)",
         "type": "bar",
         "uid": "42b455ee-d1b2-11e8-8ddb-a41f72875c19",
         "x": [
          "8月5周",
          "9月1周",
          "9月2周",
          "9月3周",
          "9月4周",
          "10月2周",
          "10月3周"
         ],
         "y": [
          null,
          1,
          1,
          null,
          4,
          1,
          null
         ]
        },
        {
         "name": "流水号(赵倩)",
         "type": "bar",
         "uid": "42b455ef-d1b2-11e8-8ddb-a41f72875c19",
         "x": [
          "8月5周",
          "9月1周",
          "9月2周",
          "9月3周",
          "9月4周",
          "10月2周",
          "10月3周"
         ],
         "y": [
          null,
          5,
          7,
          3,
          5,
          8,
          null
         ]
        },
        {
         "name": "流水号(沈立群)",
         "type": "bar",
         "uid": "42b455f0-d1b2-11e8-8ddb-a41f72875c19",
         "x": [
          "8月5周",
          "9月1周",
          "9月2周",
          "9月3周",
          "9月4周",
          "10月2周",
          "10月3周"
         ],
         "y": [
          null,
          null,
          null,
          1,
          null,
          null,
          null
         ]
        },
        {
         "name": "流水号(范旭宁)",
         "type": "bar",
         "uid": "42b455f1-d1b2-11e8-8ddb-a41f72875c19",
         "x": [
          "8月5周",
          "9月1周",
          "9月2周",
          "9月3周",
          "9月4周",
          "10月2周",
          "10月3周"
         ],
         "y": [
          null,
          1,
          null,
          2,
          2,
          null,
          null
         ]
        },
        {
         "name": "流水号(屈昂)",
         "type": "bar",
         "uid": "42b455f2-d1b2-11e8-8ddb-a41f72875c19",
         "x": [
          "8月5周",
          "9月1周",
          "9月2周",
          "9月3周",
          "9月4周",
          "10月2周",
          "10月3周"
         ],
         "y": [
          1,
          null,
          null,
          1,
          1,
          null,
          null
         ]
        },
        {
         "name": "流水号(何胜)",
         "type": "bar",
         "uid": "42b455f3-d1b2-11e8-8ddb-a41f72875c19",
         "x": [
          "8月5周",
          "9月1周",
          "9月2周",
          "9月3周",
          "9月4周",
          "10月2周",
          "10月3周"
         ],
         "y": [
          null,
          3,
          2,
          5,
          2,
          3,
          null
         ]
        },
        {
         "name": "流水号(沈恩惠)",
         "type": "bar",
         "uid": "42b455f4-d1b2-11e8-8ddb-a41f72875c19",
         "x": [
          "8月5周",
          "9月1周",
          "9月2周",
          "9月3周",
          "9月4周",
          "10月2周",
          "10月3周"
         ],
         "y": [
          null,
          1,
          null,
          1,
          null,
          1,
          null
         ]
        },
        {
         "name": "流水号(马潇)",
         "type": "bar",
         "uid": "42b455f5-d1b2-11e8-8ddb-a41f72875c19",
         "x": [
          "8月5周",
          "9月1周",
          "9月2周",
          "9月3周",
          "9月4周",
          "10月2周",
          "10月3周"
         ],
         "y": [
          null,
          2,
          2,
          null,
          3,
          null,
          null
         ]
        },
        {
         "name": "流水号(刘江)",
         "type": "bar",
         "uid": "42b455f6-d1b2-11e8-8ddb-a41f72875c19",
         "x": [
          "8月5周",
          "9月1周",
          "9月2周",
          "9月3周",
          "9月4周",
          "10月2周",
          "10月3周"
         ],
         "y": [
          null,
          2,
          1,
          null,
          null,
          1,
          null
         ]
        },
        {
         "name": "流水号(杨伟飞)",
         "type": "bar",
         "uid": "42b455f7-d1b2-11e8-8ddb-a41f72875c19",
         "x": [
          "8月5周",
          "9月1周",
          "9月2周",
          "9月3周",
          "9月4周",
          "10月2周",
          "10月3周"
         ],
         "y": [
          null,
          1,
          2,
          null,
          null,
          1,
          null
         ]
        },
        {
         "name": "流水号(赵玥)",
         "type": "bar",
         "uid": "42b455f8-d1b2-11e8-8ddb-a41f72875c19",
         "x": [
          "8月5周",
          "9月1周",
          "9月2周",
          "9月3周",
          "9月4周",
          "10月2周",
          "10月3周"
         ],
         "y": [
          null,
          null,
          1,
          null,
          null,
          null,
          null
         ]
        },
        {
         "name": "流水号(于勇一)",
         "type": "bar",
         "uid": "42b455f9-d1b2-11e8-8ddb-a41f72875c19",
         "x": [
          "8月5周",
          "9月1周",
          "9月2周",
          "9月3周",
          "9月4周",
          "10月2周",
          "10月3周"
         ],
         "y": [
          null,
          null,
          null,
          1,
          null,
          null,
          null
         ]
        },
        {
         "name": "流水号(张悦)",
         "type": "bar",
         "uid": "42b455fa-d1b2-11e8-8ddb-a41f72875c19",
         "x": [
          "8月5周",
          "9月1周",
          "9月2周",
          "9月3周",
          "9月4周",
          "10月2周",
          "10月3周"
         ],
         "y": [
          null,
          null,
          null,
          null,
          null,
          1,
          null
         ]
        },
        {
         "name": "流水号(车天栋)",
         "type": "bar",
         "uid": "42b455fb-d1b2-11e8-8ddb-a41f72875c19",
         "x": [
          "8月5周",
          "9月1周",
          "9月2周",
          "9月3周",
          "9月4周",
          "10月2周",
          "10月3周"
         ],
         "y": [
          null,
          null,
          1,
          1,
          null,
          1,
          null
         ]
        },
        {
         "name": "流水号(李华云)",
         "type": "bar",
         "uid": "42b455fc-d1b2-11e8-8ddb-a41f72875c19",
         "x": [
          "8月5周",
          "9月1周",
          "9月2周",
          "9月3周",
          "9月4周",
          "10月2周",
          "10月3周"
         ],
         "y": [
          null,
          null,
          null,
          1,
          1,
          null,
          null
         ]
        },
        {
         "name": "流水号(陈鹏燕)",
         "type": "bar",
         "uid": "42b455fd-d1b2-11e8-8ddb-a41f72875c19",
         "x": [
          "8月5周",
          "9月1周",
          "9月2周",
          "9月3周",
          "9月4周",
          "10月2周",
          "10月3周"
         ],
         "y": [
          1,
          2,
          3,
          5,
          null,
          null,
          null
         ]
        },
        {
         "name": "流水号(靳甜甜)",
         "type": "bar",
         "uid": "42b455fe-d1b2-11e8-8ddb-a41f72875c19",
         "x": [
          "8月5周",
          "9月1周",
          "9月2周",
          "9月3周",
          "9月4周",
          "10月2周",
          "10月3周"
         ],
         "y": [
          null,
          null,
          null,
          null,
          null,
          1,
          null
         ]
        },
        {
         "name": "流水号(闻少楠)",
         "type": "bar",
         "uid": "42b455ff-d1b2-11e8-8ddb-a41f72875c19",
         "x": [
          "8月5周",
          "9月1周",
          "9月2周",
          "9月3周",
          "9月4周",
          "10月2周",
          "10月3周"
         ],
         "y": [
          null,
          null,
          2,
          1,
          1,
          4,
          null
         ]
        }
       ],
       "layout": {
        "barmode": "stack",
        "title": "流水号周趋势图",
        "xaxis": {
         "mirror": "all",
         "nticks": 20,
         "showgrid": true,
         "showline": true,
         "title": "周",
         "zeroline": true
        },
        "yaxis": {
         "mirror": "all",
         "nticks": 20,
         "showgrid": true,
         "showline": true,
         "title": "流水号",
         "zeroline": true
        }
       }
      },
      "text/html": [
       "<div id=\"7851f459-52a5-4521-941d-902ce1937828\" style=\"height: 525px; width: 100%;\" class=\"plotly-graph-div\"></div><script type=\"text/javascript\">require([\"plotly\"], function(Plotly) { window.PLOTLYENV=window.PLOTLYENV || {};window.PLOTLYENV.BASE_URL=\"https://plot.ly\";Plotly.newPlot(\"7851f459-52a5-4521-941d-902ce1937828\", [{\"name\": \"\\u6d41\\u6c34\\u53f7(\\u6731\\u6167\\u840d)\", \"x\": [\"8\\u67085\\u5468\", \"9\\u67081\\u5468\", \"9\\u67082\\u5468\", \"9\\u67083\\u5468\", \"9\\u67084\\u5468\", \"10\\u67082\\u5468\", \"10\\u67083\\u5468\"], \"y\": [4.0, 3.0, 4.0, 2.0, 1.0, 3.0, null], \"type\": \"bar\", \"uid\": \"42b455d9-d1b2-11e8-8ddb-a41f72875c19\"}, {\"name\": \"\\u6d41\\u6c34\\u53f7(\\u97e9\\u5c11\\u6000)\", \"x\": [\"8\\u67085\\u5468\", \"9\\u67081\\u5468\", \"9\\u67082\\u5468\", \"9\\u67083\\u5468\", \"9\\u67084\\u5468\", \"10\\u67082\\u5468\", \"10\\u67083\\u5468\"], \"y\": [null, 1.0, null, null, 3.0, 2.0, null], \"type\": \"bar\", \"uid\": \"42b455da-d1b2-11e8-8ddb-a41f72875c19\"}, {\"name\": \"\\u6d41\\u6c34\\u53f7(\\u738b\\u4f20\\u6587)\", \"x\": [\"8\\u67085\\u5468\", \"9\\u67081\\u5468\", \"9\\u67082\\u5468\", \"9\\u67083\\u5468\", \"9\\u67084\\u5468\", \"10\\u67082\\u5468\", \"10\\u67083\\u5468\"], \"y\": [null, null, null, 1.0, null, 2.0, null], \"type\": \"bar\", \"uid\": \"42b455db-d1b2-11e8-8ddb-a41f72875c19\"}, {\"name\": \"\\u6d41\\u6c34\\u53f7(\\u9a73\\u56de)\", \"x\": [\"8\\u67085\\u5468\", \"9\\u67081\\u5468\", \"9\\u67082\\u5468\", \"9\\u67083\\u5468\", \"9\\u67084\\u5468\", \"10\\u67082\\u5468\", \"10\\u67083\\u5468\"], \"y\": [null, 3.0, 5.0, 2.0, 3.0, 4.0, null], \"type\": \"bar\", \"uid\": \"42b455dc-d1b2-11e8-8ddb-a41f72875c19\"}, {\"name\": \"\\u6d41\\u6c34\\u53f7(\\u4e8e\\u6167)\", \"x\": [\"8\\u67085\\u5468\", \"9\\u67081\\u5468\", \"9\\u67082\\u5468\", \"9\\u67083\\u5468\", \"9\\u67084\\u5468\", \"10\\u67082\\u5468\", \"10\\u67083\\u5468\"], \"y\": [null, null, 1.0, 1.0, null, 2.0, null], \"type\": \"bar\", \"uid\": \"42b455dd-d1b2-11e8-8ddb-a41f72875c19\"}, {\"name\": \"\\u6d41\\u6c34\\u53f7(\\u89e3\\u98de)\", \"x\": [\"8\\u67085\\u5468\", \"9\\u67081\\u5468\", \"9\\u67082\\u5468\", \"9\\u67083\\u5468\", \"9\\u67084\\u5468\", \"10\\u67082\\u5468\", \"10\\u67083\\u5468\"], \"y\": [null, null, null, null, 2.0, 1.0, null], \"type\": \"bar\", \"uid\": \"42b455de-d1b2-11e8-8ddb-a41f72875c19\"}, {\"name\": \"\\u6d41\\u6c34\\u53f7(\\u9ad8\\u5251)\", \"x\": [\"8\\u67085\\u5468\", \"9\\u67081\\u5468\", \"9\\u67082\\u5468\", \"9\\u67083\\u5468\", \"9\\u67084\\u5468\", \"10\\u67082\\u5468\", \"10\\u67083\\u5468\"], \"y\": [null, 1.0, null, null, null, null, null], \"type\": \"bar\", \"uid\": \"42b455df-d1b2-11e8-8ddb-a41f72875c19\"}, {\"name\": \"\\u6d41\\u6c34\\u53f7(\\u51af\\u656c\\u5ca9)\", \"x\": [\"8\\u67085\\u5468\", \"9\\u67081\\u5468\", \"9\\u67082\\u5468\", \"9\\u67083\\u5468\", \"9\\u67084\\u5468\", \"10\\u67082\\u5468\", \"10\\u67083\\u5468\"], \"y\": [null, 3.0, 3.0, 2.0, 3.0, 4.0, 1.0], \"type\": \"bar\", \"uid\": \"42b455e0-d1b2-11e8-8ddb-a41f72875c19\"}, {\"name\": \"\\u6d41\\u6c34\\u53f7(\\u59da\\u76df\\u6210)\", \"x\": [\"8\\u67085\\u5468\", \"9\\u67081\\u5468\", \"9\\u67082\\u5468\", \"9\\u67083\\u5468\", \"9\\u67084\\u5468\", \"10\\u67082\\u5468\", \"10\\u67083\\u5468\"], \"y\": [null, 1.0, null, 1.0, null, null, null], \"type\": \"bar\", \"uid\": \"42b455e1-d1b2-11e8-8ddb-a41f72875c19\"}, {\"name\": \"\\u6d41\\u6c34\\u53f7(\\u6bb5\\u5229\\u5f3a)\", \"x\": [\"8\\u67085\\u5468\", \"9\\u67081\\u5468\", \"9\\u67082\\u5468\", \"9\\u67083\\u5468\", \"9\\u67084\\u5468\", \"10\\u67082\\u5468\", \"10\\u67083\\u5468\"], \"y\": [null, 1.0, 5.0, null, null, null, null], \"type\": \"bar\", \"uid\": \"42b455e2-d1b2-11e8-8ddb-a41f72875c19\"}, {\"name\": \"\\u6d41\\u6c34\\u53f7(\\u6768\\u5b87)\", \"x\": [\"8\\u67085\\u5468\", \"9\\u67081\\u5468\", \"9\\u67082\\u5468\", \"9\\u67083\\u5468\", \"9\\u67084\\u5468\", \"10\\u67082\\u5468\", \"10\\u67083\\u5468\"], \"y\": [null, 2.0, 4.0, 4.0, 1.0, 3.0, null], \"type\": \"bar\", \"uid\": \"42b455e3-d1b2-11e8-8ddb-a41f72875c19\"}, {\"name\": \"\\u6d41\\u6c34\\u53f7(\\u6797\\u6587\\u6587)\", \"x\": [\"8\\u67085\\u5468\", \"9\\u67081\\u5468\", \"9\\u67082\\u5468\", \"9\\u67083\\u5468\", \"9\\u67084\\u5468\", \"10\\u67082\\u5468\", \"10\\u67083\\u5468\"], \"y\": [null, null, 1.0, 3.0, null, null, null], \"type\": \"bar\", \"uid\": \"42b455e4-d1b2-11e8-8ddb-a41f72875c19\"}, {\"name\": \"\\u6d41\\u6c34\\u53f7(\\u5218\\u68a6\\u82d1)\", \"x\": [\"8\\u67085\\u5468\", \"9\\u67081\\u5468\", \"9\\u67082\\u5468\", \"9\\u67083\\u5468\", \"9\\u67084\\u5468\", \"10\\u67082\\u5468\", \"10\\u67083\\u5468\"], \"y\": [null, 2.0, null, 2.0, 3.0, 6.0, null], \"type\": \"bar\", \"uid\": \"42b455e5-d1b2-11e8-8ddb-a41f72875c19\"}, {\"name\": \"\\u6d41\\u6c34\\u53f7(\\u5360\\u4f1f)\", \"x\": [\"8\\u67085\\u5468\", \"9\\u67081\\u5468\", \"9\\u67082\\u5468\", \"9\\u67083\\u5468\", \"9\\u67084\\u5468\", \"10\\u67082\\u5468\", \"10\\u67083\\u5468\"], \"y\": [null, 1.0, 1.0, null, null, 3.0, null], \"type\": \"bar\", \"uid\": \"42b455e6-d1b2-11e8-8ddb-a41f72875c19\"}, {\"name\": \"\\u6d41\\u6c34\\u53f7(\\u5c01\\u5f66\\u6770)\", \"x\": [\"8\\u67085\\u5468\", \"9\\u67081\\u5468\", \"9\\u67082\\u5468\", \"9\\u67083\\u5468\", \"9\\u67084\\u5468\", \"10\\u67082\\u5468\", \"10\\u67083\\u5468\"], \"y\": [null, null, null, null, 1.0, null, null], \"type\": \"bar\", \"uid\": \"42b455e7-d1b2-11e8-8ddb-a41f72875c19\"}, {\"name\": \"\\u6d41\\u6c34\\u53f7(\\u6636\\u5409\\u9633)\", \"x\": [\"8\\u67085\\u5468\", \"9\\u67081\\u5468\", \"9\\u67082\\u5468\", \"9\\u67083\\u5468\", \"9\\u67084\\u5468\", \"10\\u67082\\u5468\", \"10\\u67083\\u5468\"], \"y\": [null, 1.0, 2.0, null, 4.0, null, null], \"type\": \"bar\", \"uid\": \"42b455e8-d1b2-11e8-8ddb-a41f72875c19\"}, {\"name\": \"\\u6d41\\u6c34\\u53f7(\\u5218\\u6c38\\u5f3a)\", \"x\": [\"8\\u67085\\u5468\", \"9\\u67081\\u5468\", \"9\\u67082\\u5468\", \"9\\u67083\\u5468\", \"9\\u67084\\u5468\", \"10\\u67082\\u5468\", \"10\\u67083\\u5468\"], \"y\": [null, 1.0, null, 1.0, null, 1.0, null], \"type\": \"bar\", \"uid\": \"42b455e9-d1b2-11e8-8ddb-a41f72875c19\"}, {\"name\": \"\\u6d41\\u6c34\\u53f7(\\u82d1\\u8d5e)\", \"x\": [\"8\\u67085\\u5468\", \"9\\u67081\\u5468\", \"9\\u67082\\u5468\", \"9\\u67083\\u5468\", \"9\\u67084\\u5468\", \"10\\u67082\\u5468\", \"10\\u67083\\u5468\"], \"y\": [null, null, null, null, 1.0, null, null], \"type\": \"bar\", \"uid\": \"42b455ea-d1b2-11e8-8ddb-a41f72875c19\"}, {\"name\": \"\\u6d41\\u6c34\\u53f7(\\u5b8b\\u5c11\\u5b87)\", \"x\": [\"8\\u67085\\u5468\", \"9\\u67081\\u5468\", \"9\\u67082\\u5468\", \"9\\u67083\\u5468\", \"9\\u67084\\u5468\", \"10\\u67082\\u5468\", \"10\\u67083\\u5468\"], \"y\": [null, 1.0, null, null, 1.0, 6.0, null], \"type\": \"bar\", \"uid\": \"42b455eb-d1b2-11e8-8ddb-a41f72875c19\"}, {\"name\": \"\\u6d41\\u6c34\\u53f7(\\u9648\\u78a7\\u96ef)\", \"x\": [\"8\\u67085\\u5468\", \"9\\u67081\\u5468\", \"9\\u67082\\u5468\", \"9\\u67083\\u5468\", \"9\\u67084\\u5468\", \"10\\u67082\\u5468\", \"10\\u67083\\u5468\"], \"y\": [null, 4.0, 2.0, 1.0, 4.0, null, null], \"type\": \"bar\", \"uid\": \"42b455ec-d1b2-11e8-8ddb-a41f72875c19\"}, {\"name\": \"\\u6d41\\u6c34\\u53f7(\\u738b\\u971e)\", \"x\": [\"8\\u67085\\u5468\", \"9\\u67081\\u5468\", \"9\\u67082\\u5468\", \"9\\u67083\\u5468\", \"9\\u67084\\u5468\", \"10\\u67082\\u5468\", \"10\\u67083\\u5468\"], \"y\": [null, 2.0, 2.0, 5.0, 1.0, 4.0, null], \"type\": \"bar\", \"uid\": \"42b455ed-d1b2-11e8-8ddb-a41f72875c19\"}, {\"name\": \"\\u6d41\\u6c34\\u53f7(\\u51b7\\u96ea)\", \"x\": [\"8\\u67085\\u5468\", \"9\\u67081\\u5468\", \"9\\u67082\\u5468\", \"9\\u67083\\u5468\", \"9\\u67084\\u5468\", \"10\\u67082\\u5468\", \"10\\u67083\\u5468\"], \"y\": [null, 1.0, 1.0, null, 4.0, 1.0, null], \"type\": \"bar\", \"uid\": \"42b455ee-d1b2-11e8-8ddb-a41f72875c19\"}, {\"name\": \"\\u6d41\\u6c34\\u53f7(\\u8d75\\u5029)\", \"x\": [\"8\\u67085\\u5468\", \"9\\u67081\\u5468\", \"9\\u67082\\u5468\", \"9\\u67083\\u5468\", \"9\\u67084\\u5468\", \"10\\u67082\\u5468\", \"10\\u67083\\u5468\"], \"y\": [null, 5.0, 7.0, 3.0, 5.0, 8.0, null], \"type\": \"bar\", \"uid\": \"42b455ef-d1b2-11e8-8ddb-a41f72875c19\"}, {\"name\": \"\\u6d41\\u6c34\\u53f7(\\u6c88\\u7acb\\u7fa4)\", \"x\": [\"8\\u67085\\u5468\", \"9\\u67081\\u5468\", \"9\\u67082\\u5468\", \"9\\u67083\\u5468\", \"9\\u67084\\u5468\", \"10\\u67082\\u5468\", \"10\\u67083\\u5468\"], \"y\": [null, null, null, 1.0, null, null, null], \"type\": \"bar\", \"uid\": \"42b455f0-d1b2-11e8-8ddb-a41f72875c19\"}, {\"name\": \"\\u6d41\\u6c34\\u53f7(\\u8303\\u65ed\\u5b81)\", \"x\": [\"8\\u67085\\u5468\", \"9\\u67081\\u5468\", \"9\\u67082\\u5468\", \"9\\u67083\\u5468\", \"9\\u67084\\u5468\", \"10\\u67082\\u5468\", \"10\\u67083\\u5468\"], \"y\": [null, 1.0, null, 2.0, 2.0, null, null], \"type\": \"bar\", \"uid\": \"42b455f1-d1b2-11e8-8ddb-a41f72875c19\"}, {\"name\": \"\\u6d41\\u6c34\\u53f7(\\u5c48\\u6602)\", \"x\": [\"8\\u67085\\u5468\", \"9\\u67081\\u5468\", \"9\\u67082\\u5468\", \"9\\u67083\\u5468\", \"9\\u67084\\u5468\", \"10\\u67082\\u5468\", \"10\\u67083\\u5468\"], \"y\": [1.0, null, null, 1.0, 1.0, null, null], \"type\": \"bar\", \"uid\": \"42b455f2-d1b2-11e8-8ddb-a41f72875c19\"}, {\"name\": \"\\u6d41\\u6c34\\u53f7(\\u4f55\\u80dc)\", \"x\": [\"8\\u67085\\u5468\", \"9\\u67081\\u5468\", \"9\\u67082\\u5468\", \"9\\u67083\\u5468\", \"9\\u67084\\u5468\", \"10\\u67082\\u5468\", \"10\\u67083\\u5468\"], \"y\": [null, 3.0, 2.0, 5.0, 2.0, 3.0, null], \"type\": \"bar\", \"uid\": \"42b455f3-d1b2-11e8-8ddb-a41f72875c19\"}, {\"name\": \"\\u6d41\\u6c34\\u53f7(\\u6c88\\u6069\\u60e0)\", \"x\": [\"8\\u67085\\u5468\", \"9\\u67081\\u5468\", \"9\\u67082\\u5468\", \"9\\u67083\\u5468\", \"9\\u67084\\u5468\", \"10\\u67082\\u5468\", \"10\\u67083\\u5468\"], \"y\": [null, 1.0, null, 1.0, null, 1.0, null], \"type\": \"bar\", \"uid\": \"42b455f4-d1b2-11e8-8ddb-a41f72875c19\"}, {\"name\": \"\\u6d41\\u6c34\\u53f7(\\u9a6c\\u6f47)\", \"x\": [\"8\\u67085\\u5468\", \"9\\u67081\\u5468\", \"9\\u67082\\u5468\", \"9\\u67083\\u5468\", \"9\\u67084\\u5468\", \"10\\u67082\\u5468\", \"10\\u67083\\u5468\"], \"y\": [null, 2.0, 2.0, null, 3.0, null, null], \"type\": \"bar\", \"uid\": \"42b455f5-d1b2-11e8-8ddb-a41f72875c19\"}, {\"name\": \"\\u6d41\\u6c34\\u53f7(\\u5218\\u6c5f)\", \"x\": [\"8\\u67085\\u5468\", \"9\\u67081\\u5468\", \"9\\u67082\\u5468\", \"9\\u67083\\u5468\", \"9\\u67084\\u5468\", \"10\\u67082\\u5468\", \"10\\u67083\\u5468\"], \"y\": [null, 2.0, 1.0, null, null, 1.0, null], \"type\": \"bar\", \"uid\": \"42b455f6-d1b2-11e8-8ddb-a41f72875c19\"}, {\"name\": \"\\u6d41\\u6c34\\u53f7(\\u6768\\u4f1f\\u98de)\", \"x\": [\"8\\u67085\\u5468\", \"9\\u67081\\u5468\", \"9\\u67082\\u5468\", \"9\\u67083\\u5468\", \"9\\u67084\\u5468\", \"10\\u67082\\u5468\", \"10\\u67083\\u5468\"], \"y\": [null, 1.0, 2.0, null, null, 1.0, null], \"type\": \"bar\", \"uid\": \"42b455f7-d1b2-11e8-8ddb-a41f72875c19\"}, {\"name\": \"\\u6d41\\u6c34\\u53f7(\\u8d75\\u73a5)\", \"x\": [\"8\\u67085\\u5468\", \"9\\u67081\\u5468\", \"9\\u67082\\u5468\", \"9\\u67083\\u5468\", \"9\\u67084\\u5468\", \"10\\u67082\\u5468\", \"10\\u67083\\u5468\"], \"y\": [null, null, 1.0, null, null, null, null], \"type\": \"bar\", \"uid\": \"42b455f8-d1b2-11e8-8ddb-a41f72875c19\"}, {\"name\": \"\\u6d41\\u6c34\\u53f7(\\u4e8e\\u52c7\\u4e00)\", \"x\": [\"8\\u67085\\u5468\", \"9\\u67081\\u5468\", \"9\\u67082\\u5468\", \"9\\u67083\\u5468\", \"9\\u67084\\u5468\", \"10\\u67082\\u5468\", \"10\\u67083\\u5468\"], \"y\": [null, null, null, 1.0, null, null, null], \"type\": \"bar\", \"uid\": \"42b455f9-d1b2-11e8-8ddb-a41f72875c19\"}, {\"name\": \"\\u6d41\\u6c34\\u53f7(\\u5f20\\u60a6)\", \"x\": [\"8\\u67085\\u5468\", \"9\\u67081\\u5468\", \"9\\u67082\\u5468\", \"9\\u67083\\u5468\", \"9\\u67084\\u5468\", \"10\\u67082\\u5468\", \"10\\u67083\\u5468\"], \"y\": [null, null, null, null, null, 1.0, null], \"type\": \"bar\", \"uid\": \"42b455fa-d1b2-11e8-8ddb-a41f72875c19\"}, {\"name\": \"\\u6d41\\u6c34\\u53f7(\\u8f66\\u5929\\u680b)\", \"x\": [\"8\\u67085\\u5468\", \"9\\u67081\\u5468\", \"9\\u67082\\u5468\", \"9\\u67083\\u5468\", \"9\\u67084\\u5468\", \"10\\u67082\\u5468\", \"10\\u67083\\u5468\"], \"y\": [null, null, 1.0, 1.0, null, 1.0, null], \"type\": \"bar\", \"uid\": \"42b455fb-d1b2-11e8-8ddb-a41f72875c19\"}, {\"name\": \"\\u6d41\\u6c34\\u53f7(\\u674e\\u534e\\u4e91)\", \"x\": [\"8\\u67085\\u5468\", \"9\\u67081\\u5468\", \"9\\u67082\\u5468\", \"9\\u67083\\u5468\", \"9\\u67084\\u5468\", \"10\\u67082\\u5468\", \"10\\u67083\\u5468\"], \"y\": [null, null, null, 1.0, 1.0, null, null], \"type\": \"bar\", \"uid\": \"42b455fc-d1b2-11e8-8ddb-a41f72875c19\"}, {\"name\": \"\\u6d41\\u6c34\\u53f7(\\u9648\\u9e4f\\u71d5)\", \"x\": [\"8\\u67085\\u5468\", \"9\\u67081\\u5468\", \"9\\u67082\\u5468\", \"9\\u67083\\u5468\", \"9\\u67084\\u5468\", \"10\\u67082\\u5468\", \"10\\u67083\\u5468\"], \"y\": [1.0, 2.0, 3.0, 5.0, null, null, null], \"type\": \"bar\", \"uid\": \"42b455fd-d1b2-11e8-8ddb-a41f72875c19\"}, {\"name\": \"\\u6d41\\u6c34\\u53f7(\\u9773\\u751c\\u751c)\", \"x\": [\"8\\u67085\\u5468\", \"9\\u67081\\u5468\", \"9\\u67082\\u5468\", \"9\\u67083\\u5468\", \"9\\u67084\\u5468\", \"10\\u67082\\u5468\", \"10\\u67083\\u5468\"], \"y\": [null, null, null, null, null, 1.0, null], \"type\": \"bar\", \"uid\": \"42b455fe-d1b2-11e8-8ddb-a41f72875c19\"}, {\"name\": \"\\u6d41\\u6c34\\u53f7(\\u95fb\\u5c11\\u6960)\", \"x\": [\"8\\u67085\\u5468\", \"9\\u67081\\u5468\", \"9\\u67082\\u5468\", \"9\\u67083\\u5468\", \"9\\u67084\\u5468\", \"10\\u67082\\u5468\", \"10\\u67083\\u5468\"], \"y\": [null, null, 2.0, 1.0, 1.0, 4.0, null], \"type\": \"bar\", \"uid\": \"42b455ff-d1b2-11e8-8ddb-a41f72875c19\"}], {\"barmode\": \"stack\", \"title\": \"\\u6d41\\u6c34\\u53f7\\u5468\\u8d8b\\u52bf\\u56fe\", \"xaxis\": {\"mirror\": \"all\", \"nticks\": 20, \"showgrid\": true, \"showline\": true, \"title\": \"\\u5468\", \"zeroline\": true}, \"yaxis\": {\"mirror\": \"all\", \"nticks\": 20, \"showgrid\": true, \"showline\": true, \"title\": \"\\u6d41\\u6c34\\u53f7\", \"zeroline\": true}}, {\"showLink\": true, \"linkText\": \"Export to plot.ly\"})});</script>"
      ],
      "text/vnd.plotly.v1+html": [
       "<div id=\"7851f459-52a5-4521-941d-902ce1937828\" style=\"height: 525px; width: 100%;\" class=\"plotly-graph-div\"></div><script type=\"text/javascript\">require([\"plotly\"], function(Plotly) { window.PLOTLYENV=window.PLOTLYENV || {};window.PLOTLYENV.BASE_URL=\"https://plot.ly\";Plotly.newPlot(\"7851f459-52a5-4521-941d-902ce1937828\", [{\"name\": \"\\u6d41\\u6c34\\u53f7(\\u6731\\u6167\\u840d)\", \"x\": [\"8\\u67085\\u5468\", \"9\\u67081\\u5468\", \"9\\u67082\\u5468\", \"9\\u67083\\u5468\", \"9\\u67084\\u5468\", \"10\\u67082\\u5468\", \"10\\u67083\\u5468\"], \"y\": [4.0, 3.0, 4.0, 2.0, 1.0, 3.0, null], \"type\": \"bar\", \"uid\": \"42b455d9-d1b2-11e8-8ddb-a41f72875c19\"}, {\"name\": \"\\u6d41\\u6c34\\u53f7(\\u97e9\\u5c11\\u6000)\", \"x\": [\"8\\u67085\\u5468\", \"9\\u67081\\u5468\", \"9\\u67082\\u5468\", \"9\\u67083\\u5468\", \"9\\u67084\\u5468\", \"10\\u67082\\u5468\", \"10\\u67083\\u5468\"], \"y\": [null, 1.0, null, null, 3.0, 2.0, null], \"type\": \"bar\", \"uid\": \"42b455da-d1b2-11e8-8ddb-a41f72875c19\"}, {\"name\": \"\\u6d41\\u6c34\\u53f7(\\u738b\\u4f20\\u6587)\", \"x\": [\"8\\u67085\\u5468\", \"9\\u67081\\u5468\", \"9\\u67082\\u5468\", \"9\\u67083\\u5468\", \"9\\u67084\\u5468\", \"10\\u67082\\u5468\", \"10\\u67083\\u5468\"], \"y\": [null, null, null, 1.0, null, 2.0, null], \"type\": \"bar\", \"uid\": \"42b455db-d1b2-11e8-8ddb-a41f72875c19\"}, {\"name\": \"\\u6d41\\u6c34\\u53f7(\\u9a73\\u56de)\", \"x\": [\"8\\u67085\\u5468\", \"9\\u67081\\u5468\", \"9\\u67082\\u5468\", \"9\\u67083\\u5468\", \"9\\u67084\\u5468\", \"10\\u67082\\u5468\", \"10\\u67083\\u5468\"], \"y\": [null, 3.0, 5.0, 2.0, 3.0, 4.0, null], \"type\": \"bar\", \"uid\": \"42b455dc-d1b2-11e8-8ddb-a41f72875c19\"}, {\"name\": \"\\u6d41\\u6c34\\u53f7(\\u4e8e\\u6167)\", \"x\": [\"8\\u67085\\u5468\", \"9\\u67081\\u5468\", \"9\\u67082\\u5468\", \"9\\u67083\\u5468\", \"9\\u67084\\u5468\", \"10\\u67082\\u5468\", \"10\\u67083\\u5468\"], \"y\": [null, null, 1.0, 1.0, null, 2.0, null], \"type\": \"bar\", \"uid\": \"42b455dd-d1b2-11e8-8ddb-a41f72875c19\"}, {\"name\": \"\\u6d41\\u6c34\\u53f7(\\u89e3\\u98de)\", \"x\": [\"8\\u67085\\u5468\", \"9\\u67081\\u5468\", \"9\\u67082\\u5468\", \"9\\u67083\\u5468\", \"9\\u67084\\u5468\", \"10\\u67082\\u5468\", \"10\\u67083\\u5468\"], \"y\": [null, null, null, null, 2.0, 1.0, null], \"type\": \"bar\", \"uid\": \"42b455de-d1b2-11e8-8ddb-a41f72875c19\"}, {\"name\": \"\\u6d41\\u6c34\\u53f7(\\u9ad8\\u5251)\", \"x\": [\"8\\u67085\\u5468\", \"9\\u67081\\u5468\", \"9\\u67082\\u5468\", \"9\\u67083\\u5468\", \"9\\u67084\\u5468\", \"10\\u67082\\u5468\", \"10\\u67083\\u5468\"], \"y\": [null, 1.0, null, null, null, null, null], \"type\": \"bar\", \"uid\": \"42b455df-d1b2-11e8-8ddb-a41f72875c19\"}, {\"name\": \"\\u6d41\\u6c34\\u53f7(\\u51af\\u656c\\u5ca9)\", \"x\": [\"8\\u67085\\u5468\", \"9\\u67081\\u5468\", \"9\\u67082\\u5468\", \"9\\u67083\\u5468\", \"9\\u67084\\u5468\", \"10\\u67082\\u5468\", \"10\\u67083\\u5468\"], \"y\": [null, 3.0, 3.0, 2.0, 3.0, 4.0, 1.0], \"type\": \"bar\", \"uid\": \"42b455e0-d1b2-11e8-8ddb-a41f72875c19\"}, {\"name\": \"\\u6d41\\u6c34\\u53f7(\\u59da\\u76df\\u6210)\", \"x\": [\"8\\u67085\\u5468\", \"9\\u67081\\u5468\", \"9\\u67082\\u5468\", \"9\\u67083\\u5468\", \"9\\u67084\\u5468\", \"10\\u67082\\u5468\", \"10\\u67083\\u5468\"], \"y\": [null, 1.0, null, 1.0, null, null, null], \"type\": \"bar\", \"uid\": \"42b455e1-d1b2-11e8-8ddb-a41f72875c19\"}, {\"name\": \"\\u6d41\\u6c34\\u53f7(\\u6bb5\\u5229\\u5f3a)\", \"x\": [\"8\\u67085\\u5468\", \"9\\u67081\\u5468\", \"9\\u67082\\u5468\", \"9\\u67083\\u5468\", \"9\\u67084\\u5468\", \"10\\u67082\\u5468\", \"10\\u67083\\u5468\"], \"y\": [null, 1.0, 5.0, null, null, null, null], \"type\": \"bar\", \"uid\": \"42b455e2-d1b2-11e8-8ddb-a41f72875c19\"}, {\"name\": \"\\u6d41\\u6c34\\u53f7(\\u6768\\u5b87)\", \"x\": [\"8\\u67085\\u5468\", \"9\\u67081\\u5468\", \"9\\u67082\\u5468\", \"9\\u67083\\u5468\", \"9\\u67084\\u5468\", \"10\\u67082\\u5468\", \"10\\u67083\\u5468\"], \"y\": [null, 2.0, 4.0, 4.0, 1.0, 3.0, null], \"type\": \"bar\", \"uid\": \"42b455e3-d1b2-11e8-8ddb-a41f72875c19\"}, {\"name\": \"\\u6d41\\u6c34\\u53f7(\\u6797\\u6587\\u6587)\", \"x\": [\"8\\u67085\\u5468\", \"9\\u67081\\u5468\", \"9\\u67082\\u5468\", \"9\\u67083\\u5468\", \"9\\u67084\\u5468\", \"10\\u67082\\u5468\", \"10\\u67083\\u5468\"], \"y\": [null, null, 1.0, 3.0, null, null, null], \"type\": \"bar\", \"uid\": \"42b455e4-d1b2-11e8-8ddb-a41f72875c19\"}, {\"name\": \"\\u6d41\\u6c34\\u53f7(\\u5218\\u68a6\\u82d1)\", \"x\": [\"8\\u67085\\u5468\", \"9\\u67081\\u5468\", \"9\\u67082\\u5468\", \"9\\u67083\\u5468\", \"9\\u67084\\u5468\", \"10\\u67082\\u5468\", \"10\\u67083\\u5468\"], \"y\": [null, 2.0, null, 2.0, 3.0, 6.0, null], \"type\": \"bar\", \"uid\": \"42b455e5-d1b2-11e8-8ddb-a41f72875c19\"}, {\"name\": \"\\u6d41\\u6c34\\u53f7(\\u5360\\u4f1f)\", \"x\": [\"8\\u67085\\u5468\", \"9\\u67081\\u5468\", \"9\\u67082\\u5468\", \"9\\u67083\\u5468\", \"9\\u67084\\u5468\", \"10\\u67082\\u5468\", \"10\\u67083\\u5468\"], \"y\": [null, 1.0, 1.0, null, null, 3.0, null], \"type\": \"bar\", \"uid\": \"42b455e6-d1b2-11e8-8ddb-a41f72875c19\"}, {\"name\": \"\\u6d41\\u6c34\\u53f7(\\u5c01\\u5f66\\u6770)\", \"x\": [\"8\\u67085\\u5468\", \"9\\u67081\\u5468\", \"9\\u67082\\u5468\", \"9\\u67083\\u5468\", \"9\\u67084\\u5468\", \"10\\u67082\\u5468\", \"10\\u67083\\u5468\"], \"y\": [null, null, null, null, 1.0, null, null], \"type\": \"bar\", \"uid\": \"42b455e7-d1b2-11e8-8ddb-a41f72875c19\"}, {\"name\": \"\\u6d41\\u6c34\\u53f7(\\u6636\\u5409\\u9633)\", \"x\": [\"8\\u67085\\u5468\", \"9\\u67081\\u5468\", \"9\\u67082\\u5468\", \"9\\u67083\\u5468\", \"9\\u67084\\u5468\", \"10\\u67082\\u5468\", \"10\\u67083\\u5468\"], \"y\": [null, 1.0, 2.0, null, 4.0, null, null], \"type\": \"bar\", \"uid\": \"42b455e8-d1b2-11e8-8ddb-a41f72875c19\"}, {\"name\": \"\\u6d41\\u6c34\\u53f7(\\u5218\\u6c38\\u5f3a)\", \"x\": [\"8\\u67085\\u5468\", \"9\\u67081\\u5468\", \"9\\u67082\\u5468\", \"9\\u67083\\u5468\", \"9\\u67084\\u5468\", \"10\\u67082\\u5468\", \"10\\u67083\\u5468\"], \"y\": [null, 1.0, null, 1.0, null, 1.0, null], \"type\": \"bar\", \"uid\": \"42b455e9-d1b2-11e8-8ddb-a41f72875c19\"}, {\"name\": \"\\u6d41\\u6c34\\u53f7(\\u82d1\\u8d5e)\", \"x\": [\"8\\u67085\\u5468\", \"9\\u67081\\u5468\", \"9\\u67082\\u5468\", \"9\\u67083\\u5468\", \"9\\u67084\\u5468\", \"10\\u67082\\u5468\", \"10\\u67083\\u5468\"], \"y\": [null, null, null, null, 1.0, null, null], \"type\": \"bar\", \"uid\": \"42b455ea-d1b2-11e8-8ddb-a41f72875c19\"}, {\"name\": \"\\u6d41\\u6c34\\u53f7(\\u5b8b\\u5c11\\u5b87)\", \"x\": [\"8\\u67085\\u5468\", \"9\\u67081\\u5468\", \"9\\u67082\\u5468\", \"9\\u67083\\u5468\", \"9\\u67084\\u5468\", \"10\\u67082\\u5468\", \"10\\u67083\\u5468\"], \"y\": [null, 1.0, null, null, 1.0, 6.0, null], \"type\": \"bar\", \"uid\": \"42b455eb-d1b2-11e8-8ddb-a41f72875c19\"}, {\"name\": \"\\u6d41\\u6c34\\u53f7(\\u9648\\u78a7\\u96ef)\", \"x\": [\"8\\u67085\\u5468\", \"9\\u67081\\u5468\", \"9\\u67082\\u5468\", \"9\\u67083\\u5468\", \"9\\u67084\\u5468\", \"10\\u67082\\u5468\", \"10\\u67083\\u5468\"], \"y\": [null, 4.0, 2.0, 1.0, 4.0, null, null], \"type\": \"bar\", \"uid\": \"42b455ec-d1b2-11e8-8ddb-a41f72875c19\"}, {\"name\": \"\\u6d41\\u6c34\\u53f7(\\u738b\\u971e)\", \"x\": [\"8\\u67085\\u5468\", \"9\\u67081\\u5468\", \"9\\u67082\\u5468\", \"9\\u67083\\u5468\", \"9\\u67084\\u5468\", \"10\\u67082\\u5468\", \"10\\u67083\\u5468\"], \"y\": [null, 2.0, 2.0, 5.0, 1.0, 4.0, null], \"type\": \"bar\", \"uid\": \"42b455ed-d1b2-11e8-8ddb-a41f72875c19\"}, {\"name\": \"\\u6d41\\u6c34\\u53f7(\\u51b7\\u96ea)\", \"x\": [\"8\\u67085\\u5468\", \"9\\u67081\\u5468\", \"9\\u67082\\u5468\", \"9\\u67083\\u5468\", \"9\\u67084\\u5468\", \"10\\u67082\\u5468\", \"10\\u67083\\u5468\"], \"y\": [null, 1.0, 1.0, null, 4.0, 1.0, null], \"type\": \"bar\", \"uid\": \"42b455ee-d1b2-11e8-8ddb-a41f72875c19\"}, {\"name\": \"\\u6d41\\u6c34\\u53f7(\\u8d75\\u5029)\", \"x\": [\"8\\u67085\\u5468\", \"9\\u67081\\u5468\", \"9\\u67082\\u5468\", \"9\\u67083\\u5468\", \"9\\u67084\\u5468\", \"10\\u67082\\u5468\", \"10\\u67083\\u5468\"], \"y\": [null, 5.0, 7.0, 3.0, 5.0, 8.0, null], \"type\": \"bar\", \"uid\": \"42b455ef-d1b2-11e8-8ddb-a41f72875c19\"}, {\"name\": \"\\u6d41\\u6c34\\u53f7(\\u6c88\\u7acb\\u7fa4)\", \"x\": [\"8\\u67085\\u5468\", \"9\\u67081\\u5468\", \"9\\u67082\\u5468\", \"9\\u67083\\u5468\", \"9\\u67084\\u5468\", \"10\\u67082\\u5468\", \"10\\u67083\\u5468\"], \"y\": [null, null, null, 1.0, null, null, null], \"type\": \"bar\", \"uid\": \"42b455f0-d1b2-11e8-8ddb-a41f72875c19\"}, {\"name\": \"\\u6d41\\u6c34\\u53f7(\\u8303\\u65ed\\u5b81)\", \"x\": [\"8\\u67085\\u5468\", \"9\\u67081\\u5468\", \"9\\u67082\\u5468\", \"9\\u67083\\u5468\", \"9\\u67084\\u5468\", \"10\\u67082\\u5468\", \"10\\u67083\\u5468\"], \"y\": [null, 1.0, null, 2.0, 2.0, null, null], \"type\": \"bar\", \"uid\": \"42b455f1-d1b2-11e8-8ddb-a41f72875c19\"}, {\"name\": \"\\u6d41\\u6c34\\u53f7(\\u5c48\\u6602)\", \"x\": [\"8\\u67085\\u5468\", \"9\\u67081\\u5468\", \"9\\u67082\\u5468\", \"9\\u67083\\u5468\", \"9\\u67084\\u5468\", \"10\\u67082\\u5468\", \"10\\u67083\\u5468\"], \"y\": [1.0, null, null, 1.0, 1.0, null, null], \"type\": \"bar\", \"uid\": \"42b455f2-d1b2-11e8-8ddb-a41f72875c19\"}, {\"name\": \"\\u6d41\\u6c34\\u53f7(\\u4f55\\u80dc)\", \"x\": [\"8\\u67085\\u5468\", \"9\\u67081\\u5468\", \"9\\u67082\\u5468\", \"9\\u67083\\u5468\", \"9\\u67084\\u5468\", \"10\\u67082\\u5468\", \"10\\u67083\\u5468\"], \"y\": [null, 3.0, 2.0, 5.0, 2.0, 3.0, null], \"type\": \"bar\", \"uid\": \"42b455f3-d1b2-11e8-8ddb-a41f72875c19\"}, {\"name\": \"\\u6d41\\u6c34\\u53f7(\\u6c88\\u6069\\u60e0)\", \"x\": [\"8\\u67085\\u5468\", \"9\\u67081\\u5468\", \"9\\u67082\\u5468\", \"9\\u67083\\u5468\", \"9\\u67084\\u5468\", \"10\\u67082\\u5468\", \"10\\u67083\\u5468\"], \"y\": [null, 1.0, null, 1.0, null, 1.0, null], \"type\": \"bar\", \"uid\": \"42b455f4-d1b2-11e8-8ddb-a41f72875c19\"}, {\"name\": \"\\u6d41\\u6c34\\u53f7(\\u9a6c\\u6f47)\", \"x\": [\"8\\u67085\\u5468\", \"9\\u67081\\u5468\", \"9\\u67082\\u5468\", \"9\\u67083\\u5468\", \"9\\u67084\\u5468\", \"10\\u67082\\u5468\", \"10\\u67083\\u5468\"], \"y\": [null, 2.0, 2.0, null, 3.0, null, null], \"type\": \"bar\", \"uid\": \"42b455f5-d1b2-11e8-8ddb-a41f72875c19\"}, {\"name\": \"\\u6d41\\u6c34\\u53f7(\\u5218\\u6c5f)\", \"x\": [\"8\\u67085\\u5468\", \"9\\u67081\\u5468\", \"9\\u67082\\u5468\", \"9\\u67083\\u5468\", \"9\\u67084\\u5468\", \"10\\u67082\\u5468\", \"10\\u67083\\u5468\"], \"y\": [null, 2.0, 1.0, null, null, 1.0, null], \"type\": \"bar\", \"uid\": \"42b455f6-d1b2-11e8-8ddb-a41f72875c19\"}, {\"name\": \"\\u6d41\\u6c34\\u53f7(\\u6768\\u4f1f\\u98de)\", \"x\": [\"8\\u67085\\u5468\", \"9\\u67081\\u5468\", \"9\\u67082\\u5468\", \"9\\u67083\\u5468\", \"9\\u67084\\u5468\", \"10\\u67082\\u5468\", \"10\\u67083\\u5468\"], \"y\": [null, 1.0, 2.0, null, null, 1.0, null], \"type\": \"bar\", \"uid\": \"42b455f7-d1b2-11e8-8ddb-a41f72875c19\"}, {\"name\": \"\\u6d41\\u6c34\\u53f7(\\u8d75\\u73a5)\", \"x\": [\"8\\u67085\\u5468\", \"9\\u67081\\u5468\", \"9\\u67082\\u5468\", \"9\\u67083\\u5468\", \"9\\u67084\\u5468\", \"10\\u67082\\u5468\", \"10\\u67083\\u5468\"], \"y\": [null, null, 1.0, null, null, null, null], \"type\": \"bar\", \"uid\": \"42b455f8-d1b2-11e8-8ddb-a41f72875c19\"}, {\"name\": \"\\u6d41\\u6c34\\u53f7(\\u4e8e\\u52c7\\u4e00)\", \"x\": [\"8\\u67085\\u5468\", \"9\\u67081\\u5468\", \"9\\u67082\\u5468\", \"9\\u67083\\u5468\", \"9\\u67084\\u5468\", \"10\\u67082\\u5468\", \"10\\u67083\\u5468\"], \"y\": [null, null, null, 1.0, null, null, null], \"type\": \"bar\", \"uid\": \"42b455f9-d1b2-11e8-8ddb-a41f72875c19\"}, {\"name\": \"\\u6d41\\u6c34\\u53f7(\\u5f20\\u60a6)\", \"x\": [\"8\\u67085\\u5468\", \"9\\u67081\\u5468\", \"9\\u67082\\u5468\", \"9\\u67083\\u5468\", \"9\\u67084\\u5468\", \"10\\u67082\\u5468\", \"10\\u67083\\u5468\"], \"y\": [null, null, null, null, null, 1.0, null], \"type\": \"bar\", \"uid\": \"42b455fa-d1b2-11e8-8ddb-a41f72875c19\"}, {\"name\": \"\\u6d41\\u6c34\\u53f7(\\u8f66\\u5929\\u680b)\", \"x\": [\"8\\u67085\\u5468\", \"9\\u67081\\u5468\", \"9\\u67082\\u5468\", \"9\\u67083\\u5468\", \"9\\u67084\\u5468\", \"10\\u67082\\u5468\", \"10\\u67083\\u5468\"], \"y\": [null, null, 1.0, 1.0, null, 1.0, null], \"type\": \"bar\", \"uid\": \"42b455fb-d1b2-11e8-8ddb-a41f72875c19\"}, {\"name\": \"\\u6d41\\u6c34\\u53f7(\\u674e\\u534e\\u4e91)\", \"x\": [\"8\\u67085\\u5468\", \"9\\u67081\\u5468\", \"9\\u67082\\u5468\", \"9\\u67083\\u5468\", \"9\\u67084\\u5468\", \"10\\u67082\\u5468\", \"10\\u67083\\u5468\"], \"y\": [null, null, null, 1.0, 1.0, null, null], \"type\": \"bar\", \"uid\": \"42b455fc-d1b2-11e8-8ddb-a41f72875c19\"}, {\"name\": \"\\u6d41\\u6c34\\u53f7(\\u9648\\u9e4f\\u71d5)\", \"x\": [\"8\\u67085\\u5468\", \"9\\u67081\\u5468\", \"9\\u67082\\u5468\", \"9\\u67083\\u5468\", \"9\\u67084\\u5468\", \"10\\u67082\\u5468\", \"10\\u67083\\u5468\"], \"y\": [1.0, 2.0, 3.0, 5.0, null, null, null], \"type\": \"bar\", \"uid\": \"42b455fd-d1b2-11e8-8ddb-a41f72875c19\"}, {\"name\": \"\\u6d41\\u6c34\\u53f7(\\u9773\\u751c\\u751c)\", \"x\": [\"8\\u67085\\u5468\", \"9\\u67081\\u5468\", \"9\\u67082\\u5468\", \"9\\u67083\\u5468\", \"9\\u67084\\u5468\", \"10\\u67082\\u5468\", \"10\\u67083\\u5468\"], \"y\": [null, null, null, null, null, 1.0, null], \"type\": \"bar\", \"uid\": \"42b455fe-d1b2-11e8-8ddb-a41f72875c19\"}, {\"name\": \"\\u6d41\\u6c34\\u53f7(\\u95fb\\u5c11\\u6960)\", \"x\": [\"8\\u67085\\u5468\", \"9\\u67081\\u5468\", \"9\\u67082\\u5468\", \"9\\u67083\\u5468\", \"9\\u67084\\u5468\", \"10\\u67082\\u5468\", \"10\\u67083\\u5468\"], \"y\": [null, null, 2.0, 1.0, 1.0, 4.0, null], \"type\": \"bar\", \"uid\": \"42b455ff-d1b2-11e8-8ddb-a41f72875c19\"}], {\"barmode\": \"stack\", \"title\": \"\\u6d41\\u6c34\\u53f7\\u5468\\u8d8b\\u52bf\\u56fe\", \"xaxis\": {\"mirror\": \"all\", \"nticks\": 20, \"showgrid\": true, \"showline\": true, \"title\": \"\\u5468\", \"zeroline\": true}, \"yaxis\": {\"mirror\": \"all\", \"nticks\": 20, \"showgrid\": true, \"showline\": true, \"title\": \"\\u6d41\\u6c34\\u53f7\", \"zeroline\": true}}, {\"showLink\": true, \"linkText\": \"Export to plot.ly\"})});</script>"
      ]
     },
     "metadata": {},
     "output_type": "display_data"
    }
   ],
   "source": [
    "ss = myModule.format(df1 ,'week_number' ,['流水号'])\n",
    "ss.add_group('信息负责人')\n",
    "pp = myModule.sort_by_index(ss.groupby('count'))\n",
    "myModule.myPlot(pp).plot('stack_bar')"
   ]
  },
  {
   "cell_type": "markdown",
   "metadata": {},
   "source": [
    "## 评估周期情况统计"
   ]
  },
  {
   "cell_type": "markdown",
   "metadata": {},
   "source": [
    "### 预计周期趋势图"
   ]
  },
  {
   "cell_type": "code",
   "execution_count": 51,
   "metadata": {
    "collapsed": false
   },
   "outputs": [
    {
     "data": {
      "application/vnd.plotly.v1+json": {
       "data": [
        {
         "name": "预计周期",
         "type": "scatter",
         "uid": "42b45600-d1b2-11e8-8ddb-a41f72875c19",
         "x": [
          "8月5周",
          "9月1周",
          "9月2周",
          "9月3周",
          "9月4周",
          "10月2周",
          "10月3周"
         ],
         "y": [
          6.166666666666667,
          6.878048780487805,
          7.760869565217392,
          7.636363636363637,
          8.878048780487806,
          6.481481481481482,
          7
         ]
        }
       ],
       "layout": {
        "title": "预计周期周趋势图",
        "xaxis": {
         "mirror": "all",
         "nticks": 20,
         "showgrid": true,
         "showline": true,
         "title": "周",
         "zeroline": true
        },
        "yaxis": {
         "mirror": "all",
         "nticks": 20,
         "showgrid": true,
         "showline": true,
         "title": "预计周期",
         "zeroline": true
        }
       }
      },
      "text/html": [
       "<div id=\"32ca057a-4b64-4fc7-8826-bd570a201e18\" style=\"height: 525px; width: 100%;\" class=\"plotly-graph-div\"></div><script type=\"text/javascript\">require([\"plotly\"], function(Plotly) { window.PLOTLYENV=window.PLOTLYENV || {};window.PLOTLYENV.BASE_URL=\"https://plot.ly\";Plotly.newPlot(\"32ca057a-4b64-4fc7-8826-bd570a201e18\", [{\"name\": \"\\u9884\\u8ba1\\u5468\\u671f\", \"x\": [\"8\\u67085\\u5468\", \"9\\u67081\\u5468\", \"9\\u67082\\u5468\", \"9\\u67083\\u5468\", \"9\\u67084\\u5468\", \"10\\u67082\\u5468\", \"10\\u67083\\u5468\"], \"y\": [6.166666666666667, 6.878048780487805, 7.760869565217392, 7.636363636363637, 8.878048780487806, 6.481481481481482, 7.0], \"type\": \"scatter\", \"uid\": \"42b45600-d1b2-11e8-8ddb-a41f72875c19\"}], {\"title\": \"\\u9884\\u8ba1\\u5468\\u671f\\u5468\\u8d8b\\u52bf\\u56fe\", \"xaxis\": {\"mirror\": \"all\", \"nticks\": 20, \"showgrid\": true, \"showline\": true, \"title\": \"\\u5468\", \"zeroline\": true}, \"yaxis\": {\"mirror\": \"all\", \"nticks\": 20, \"showgrid\": true, \"showline\": true, \"title\": \"\\u9884\\u8ba1\\u5468\\u671f\", \"zeroline\": true}}, {\"showLink\": true, \"linkText\": \"Export to plot.ly\"})});</script>"
      ],
      "text/vnd.plotly.v1+html": [
       "<div id=\"32ca057a-4b64-4fc7-8826-bd570a201e18\" style=\"height: 525px; width: 100%;\" class=\"plotly-graph-div\"></div><script type=\"text/javascript\">require([\"plotly\"], function(Plotly) { window.PLOTLYENV=window.PLOTLYENV || {};window.PLOTLYENV.BASE_URL=\"https://plot.ly\";Plotly.newPlot(\"32ca057a-4b64-4fc7-8826-bd570a201e18\", [{\"name\": \"\\u9884\\u8ba1\\u5468\\u671f\", \"x\": [\"8\\u67085\\u5468\", \"9\\u67081\\u5468\", \"9\\u67082\\u5468\", \"9\\u67083\\u5468\", \"9\\u67084\\u5468\", \"10\\u67082\\u5468\", \"10\\u67083\\u5468\"], \"y\": [6.166666666666667, 6.878048780487805, 7.760869565217392, 7.636363636363637, 8.878048780487806, 6.481481481481482, 7.0], \"type\": \"scatter\", \"uid\": \"42b45600-d1b2-11e8-8ddb-a41f72875c19\"}], {\"title\": \"\\u9884\\u8ba1\\u5468\\u671f\\u5468\\u8d8b\\u52bf\\u56fe\", \"xaxis\": {\"mirror\": \"all\", \"nticks\": 20, \"showgrid\": true, \"showline\": true, \"title\": \"\\u5468\", \"zeroline\": true}, \"yaxis\": {\"mirror\": \"all\", \"nticks\": 20, \"showgrid\": true, \"showline\": true, \"title\": \"\\u9884\\u8ba1\\u5468\\u671f\", \"zeroline\": true}}, {\"showLink\": true, \"linkText\": \"Export to plot.ly\"})});</script>"
      ]
     },
     "metadata": {},
     "output_type": "display_data"
    }
   ],
   "source": [
    "# 平均评估周期，建议添加最长评估周期、25%、50%、80%项目评估周期的指标\n",
    "ss = myModule.format(df2 ,'week_number' ,['预计周期'])\n",
    "pp = myModule.sort_by_index(ss.groupby('mean'))\n",
    "myModule.myPlot(pp).plot('line')"
   ]
  },
  {
   "cell_type": "markdown",
   "metadata": {},
   "source": [
    "### 预计周期>7日项目列表"
   ]
  },
  {
   "cell_type": "code",
   "execution_count": 52,
   "metadata": {
    "collapsed": false,
    "scrolled": true
   },
   "outputs": [
    {
     "data": {
      "text/html": [
       "<div>\n",
       "<style scoped>\n",
       "    .dataframe tbody tr th:only-of-type {\n",
       "        vertical-align: middle;\n",
       "    }\n",
       "\n",
       "    .dataframe tbody tr th {\n",
       "        vertical-align: top;\n",
       "    }\n",
       "\n",
       "    .dataframe thead th {\n",
       "        text-align: right;\n",
       "    }\n",
       "</style>\n",
       "<table border=\"1\" class=\"dataframe\">\n",
       "  <thead>\n",
       "    <tr style=\"text-align: right;\">\n",
       "      <th></th>\n",
       "      <th>week_number</th>\n",
       "      <th>流水号</th>\n",
       "      <th>个性化分析名称</th>\n",
       "      <th>信息负责人</th>\n",
       "      <th>预计周期</th>\n",
       "    </tr>\n",
       "  </thead>\n",
       "  <tbody>\n",
       "    <tr>\n",
       "      <th>198</th>\n",
       "      <td>10月2周</td>\n",
       "      <td>20181008-001</td>\n",
       "      <td>PM-YWHB180262-01华科协和医院2个人全基因组重测序建库测序分析任务单-快速产品-01</td>\n",
       "      <td>车天栋</td>\n",
       "      <td>20</td>\n",
       "    </tr>\n",
       "    <tr>\n",
       "      <th>244</th>\n",
       "      <td>10月2周</td>\n",
       "      <td>20181011-003</td>\n",
       "      <td>YN180155-01云南大学1个果蝇基因组三代DNA建库测序过滤任务单-02</td>\n",
       "      <td>占伟</td>\n",
       "      <td>14</td>\n",
       "    </tr>\n",
       "    <tr>\n",
       "      <th>253</th>\n",
       "      <td>10月2周</td>\n",
       "      <td>20181011-012</td>\n",
       "      <td>HA160001-22河南农大4个玉米denovo10K文库测序分析任务单-02</td>\n",
       "      <td>占伟</td>\n",
       "      <td>14</td>\n",
       "    </tr>\n",
       "    <tr>\n",
       "      <th>254</th>\n",
       "      <td>10月2周</td>\n",
       "      <td>20181011-013</td>\n",
       "      <td>HA160001-22河南农大4个玉米denovo10K文库测序分析任务单-01</td>\n",
       "      <td>占伟</td>\n",
       "      <td>11</td>\n",
       "    </tr>\n",
       "    <tr>\n",
       "      <th>203</th>\n",
       "      <td>10月2周</td>\n",
       "      <td>20181008-006</td>\n",
       "      <td>PM-BJ180807-01医科院药物所15个人有参转录组建库测序分析任务单-01</td>\n",
       "      <td>冯敬岩</td>\n",
       "      <td>10</td>\n",
       "    </tr>\n",
       "    <tr>\n",
       "      <th>221</th>\n",
       "      <td>10月2周</td>\n",
       "      <td>20181009-013</td>\n",
       "      <td>SD170174-04山东农大1个芒属植物Hi-C辅助基因组组装只分析任务单</td>\n",
       "      <td>刘江</td>\n",
       "      <td>9</td>\n",
       "    </tr>\n",
       "    <tr>\n",
       "      <th>207</th>\n",
       "      <td>10月2周</td>\n",
       "      <td>20181008-010</td>\n",
       "      <td>PM-GD170317-01深圳市人民医院16个人6mA建库测序分析任务单-02</td>\n",
       "      <td>宋少宇</td>\n",
       "      <td>8</td>\n",
       "    </tr>\n",
       "    <tr>\n",
       "      <th>222</th>\n",
       "      <td>10月2周</td>\n",
       "      <td>20181009-014</td>\n",
       "      <td>PM-YWBJ181246-01阜外医院40个大鼠有参普通转录组建库测序分析任务单-快速产品-01</td>\n",
       "      <td>刘梦苑</td>\n",
       "      <td>8</td>\n",
       "    </tr>\n",
       "    <tr>\n",
       "      <th>223</th>\n",
       "      <td>10月2周</td>\n",
       "      <td>20181009-015</td>\n",
       "      <td>BJ181246-02阜外医院8个大鼠有参普通转录组建库测序分析任务单-快速产品-01</td>\n",
       "      <td>刘梦苑</td>\n",
       "      <td>8</td>\n",
       "    </tr>\n",
       "    <tr>\n",
       "      <th>234</th>\n",
       "      <td>10月2周</td>\n",
       "      <td>20181010-007</td>\n",
       "      <td>PM-BJ181079-03动物所9个小鼠Bisulfite甲基化建库测序分析任务单-04</td>\n",
       "      <td>韩少怀</td>\n",
       "      <td>8</td>\n",
       "    </tr>\n",
       "  </tbody>\n",
       "</table>\n",
       "</div>"
      ],
      "text/plain": [
       "    week_number           流水号  \\\n",
       "198       10月2周  20181008-001   \n",
       "244       10月2周  20181011-003   \n",
       "253       10月2周  20181011-012   \n",
       "254       10月2周  20181011-013   \n",
       "203       10月2周  20181008-006   \n",
       "221       10月2周  20181009-013   \n",
       "207       10月2周  20181008-010   \n",
       "222       10月2周  20181009-014   \n",
       "223       10月2周  20181009-015   \n",
       "234       10月2周  20181010-007   \n",
       "\n",
       "                                               个性化分析名称 信息负责人  预计周期  \n",
       "198  PM-YWHB180262-01华科协和医院2个人全基因组重测序建库测序分析任务单-快速产品-01   车天栋    20  \n",
       "244            YN180155-01云南大学1个果蝇基因组三代DNA建库测序过滤任务单-02    占伟    14  \n",
       "253           HA160001-22河南农大4个玉米denovo10K文库测序分析任务单-02    占伟    14  \n",
       "254           HA160001-22河南农大4个玉米denovo10K文库测序分析任务单-01    占伟    11  \n",
       "203          PM-BJ180807-01医科院药物所15个人有参转录组建库测序分析任务单-01   冯敬岩    10  \n",
       "221             SD170174-04山东农大1个芒属植物Hi-C辅助基因组组装只分析任务单    刘江     9  \n",
       "207           PM-GD170317-01深圳市人民医院16个人6mA建库测序分析任务单-02   宋少宇     8  \n",
       "222  PM-YWBJ181246-01阜外医院40个大鼠有参普通转录组建库测序分析任务单-快速产品-01   刘梦苑     8  \n",
       "223        BJ181246-02阜外医院8个大鼠有参普通转录组建库测序分析任务单-快速产品-01   刘梦苑     8  \n",
       "234      PM-BJ181079-03动物所9个小鼠Bisulfite甲基化建库测序分析任务单-04   韩少怀     8  "
      ]
     },
     "execution_count": 52,
     "metadata": {},
     "output_type": "execute_result"
    }
   ],
   "source": [
    "ss = myModule.format(df2,'week_number',['流水号','个性化分析名称','信息负责人','预计周期'])\n",
    "ss.select_by_value('week_number',stat_week)\n",
    "ss.judge_and_replace('预计周期',7)\n",
    "ss.select_by_value('预计周期_bool',True)\n",
    "tt = myModule.format(ss.df,'week_number',['流水号','个性化分析名称','信息负责人','预计周期']).df\n",
    "tt.sort_values(by = '预计周期',axis = 0,ascending = False)   #预计周期从大到小排序"
   ]
  },
  {
   "cell_type": "markdown",
   "metadata": {},
   "source": [
    "## 反馈延期情况统计"
   ]
  },
  {
   "cell_type": "markdown",
   "metadata": {},
   "source": [
    "### 反馈延期率趋势图"
   ]
  },
  {
   "cell_type": "code",
   "execution_count": 53,
   "metadata": {
    "collapsed": false
   },
   "outputs": [
    {
     "name": "stderr",
     "output_type": "stream",
     "text": [
      "/home/jiankong/jupyter/chart/bin/supplment_analysis/myModule.py:246: SettingWithCopyWarning:\n",
      "\n",
      "\n",
      "A value is trying to be set on a copy of a slice from a DataFrame.\n",
      "Try using .loc[row_indexer,col_indexer] = value instead\n",
      "\n",
      "See the caveats in the documentation: http://pandas.pydata.org/pandas-docs/stable/indexing.html#indexing-view-versus-copy\n",
      "\n",
      "/home/jiankong/anaconda3/lib/python3.6/site-packages/ipykernel/__main__.py:3: SettingWithCopyWarning:\n",
      "\n",
      "\n",
      "A value is trying to be set on a copy of a slice from a DataFrame.\n",
      "Try using .loc[row_indexer,col_indexer] = value instead\n",
      "\n",
      "See the caveats in the documentation: http://pandas.pydata.org/pandas-docs/stable/indexing.html#indexing-view-versus-copy\n",
      "\n",
      "/home/jiankong/anaconda3/lib/python3.6/site-packages/ipykernel/__main__.py:4: SettingWithCopyWarning:\n",
      "\n",
      "\n",
      "A value is trying to be set on a copy of a slice from a DataFrame.\n",
      "Try using .loc[row_indexer,col_indexer] = value instead\n",
      "\n",
      "See the caveats in the documentation: http://pandas.pydata.org/pandas-docs/stable/indexing.html#indexing-view-versus-copy\n",
      "\n"
     ]
    },
    {
     "data": {
      "application/vnd.plotly.v1+json": {
       "data": [
        {
         "name": "反馈延期率",
         "type": "scatter",
         "uid": "42b45601-d1b2-11e8-8ddb-a41f72875c19",
         "x": [
          "8月5周",
          "9月1周",
          "9月2周",
          "9月3周",
          "9月4周",
          "10月2周",
          "10月3周"
         ],
         "y": [
          0.16666666666666666,
          0.13333333333333333,
          0.21153846153846154,
          0.0425531914893617,
          0.23404255319148937,
          0.015873015873015872,
          0
         ]
        }
       ],
       "layout": {
        "title": "反馈延期率周趋势图",
        "xaxis": {
         "mirror": "all",
         "nticks": 20,
         "showgrid": true,
         "showline": true,
         "title": "周",
         "zeroline": true
        },
        "yaxis": {
         "mirror": "all",
         "nticks": 20,
         "showgrid": true,
         "showline": true,
         "title": "反馈延期率",
         "zeroline": true
        }
       }
      },
      "text/html": [
       "<div id=\"de8755b0-97ff-4718-b86f-b55815b5d869\" style=\"height: 525px; width: 100%;\" class=\"plotly-graph-div\"></div><script type=\"text/javascript\">require([\"plotly\"], function(Plotly) { window.PLOTLYENV=window.PLOTLYENV || {};window.PLOTLYENV.BASE_URL=\"https://plot.ly\";Plotly.newPlot(\"de8755b0-97ff-4718-b86f-b55815b5d869\", [{\"name\": \"\\u53cd\\u9988\\u5ef6\\u671f\\u7387\", \"x\": [\"8\\u67085\\u5468\", \"9\\u67081\\u5468\", \"9\\u67082\\u5468\", \"9\\u67083\\u5468\", \"9\\u67084\\u5468\", \"10\\u67082\\u5468\", \"10\\u67083\\u5468\"], \"y\": [0.16666666666666666, 0.13333333333333333, 0.21153846153846154, 0.0425531914893617, 0.23404255319148937, 0.015873015873015872, 0.0], \"type\": \"scatter\", \"uid\": \"42b45601-d1b2-11e8-8ddb-a41f72875c19\"}], {\"title\": \"\\u53cd\\u9988\\u5ef6\\u671f\\u7387\\u5468\\u8d8b\\u52bf\\u56fe\", \"xaxis\": {\"mirror\": \"all\", \"nticks\": 20, \"showgrid\": true, \"showline\": true, \"title\": \"\\u5468\", \"zeroline\": true}, \"yaxis\": {\"mirror\": \"all\", \"nticks\": 20, \"showgrid\": true, \"showline\": true, \"title\": \"\\u53cd\\u9988\\u5ef6\\u671f\\u7387\", \"zeroline\": true}}, {\"showLink\": true, \"linkText\": \"Export to plot.ly\"})});</script>"
      ],
      "text/vnd.plotly.v1+html": [
       "<div id=\"de8755b0-97ff-4718-b86f-b55815b5d869\" style=\"height: 525px; width: 100%;\" class=\"plotly-graph-div\"></div><script type=\"text/javascript\">require([\"plotly\"], function(Plotly) { window.PLOTLYENV=window.PLOTLYENV || {};window.PLOTLYENV.BASE_URL=\"https://plot.ly\";Plotly.newPlot(\"de8755b0-97ff-4718-b86f-b55815b5d869\", [{\"name\": \"\\u53cd\\u9988\\u5ef6\\u671f\\u7387\", \"x\": [\"8\\u67085\\u5468\", \"9\\u67081\\u5468\", \"9\\u67082\\u5468\", \"9\\u67083\\u5468\", \"9\\u67084\\u5468\", \"10\\u67082\\u5468\", \"10\\u67083\\u5468\"], \"y\": [0.16666666666666666, 0.13333333333333333, 0.21153846153846154, 0.0425531914893617, 0.23404255319148937, 0.015873015873015872, 0.0], \"type\": \"scatter\", \"uid\": \"42b45601-d1b2-11e8-8ddb-a41f72875c19\"}], {\"title\": \"\\u53cd\\u9988\\u5ef6\\u671f\\u7387\\u5468\\u8d8b\\u52bf\\u56fe\", \"xaxis\": {\"mirror\": \"all\", \"nticks\": 20, \"showgrid\": true, \"showline\": true, \"title\": \"\\u5468\", \"zeroline\": true}, \"yaxis\": {\"mirror\": \"all\", \"nticks\": 20, \"showgrid\": true, \"showline\": true, \"title\": \"\\u53cd\\u9988\\u5ef6\\u671f\\u7387\", \"zeroline\": true}}, {\"showLink\": true, \"linkText\": \"Export to plot.ly\"})});</script>"
      ]
     },
     "metadata": {},
     "output_type": "display_data"
    }
   ],
   "source": [
    "ss = myModule.format(df1 ,'week_number' ,['流水号','反馈周期'])\n",
    "ss.judge_and_replace('反馈周期',1)\n",
    "ss.df['流水号'] = list(map(changetype2, ss.df['流水号']))\n",
    "ss.df['反馈周期_bool'] = ss.df['反馈周期_bool'].astype(int)      #bool类型装换为数值1/0\n",
    "pp = myModule.sort_by_index(ss.get_total_ratio([['反馈延期率' ,'反馈周期_bool' , '流水号','/']]))\n",
    "myModule.myPlot(pp).plot('line')"
   ]
  },
  {
   "cell_type": "markdown",
   "metadata": {},
   "source": [
    "### 反馈延期项目列表"
   ]
  },
  {
   "cell_type": "code",
   "execution_count": 54,
   "metadata": {
    "collapsed": false
   },
   "outputs": [
    {
     "data": {
      "text/html": [
       "<div>\n",
       "<style scoped>\n",
       "    .dataframe tbody tr th:only-of-type {\n",
       "        vertical-align: middle;\n",
       "    }\n",
       "\n",
       "    .dataframe tbody tr th {\n",
       "        vertical-align: top;\n",
       "    }\n",
       "\n",
       "    .dataframe thead th {\n",
       "        text-align: right;\n",
       "    }\n",
       "</style>\n",
       "<table border=\"1\" class=\"dataframe\">\n",
       "  <thead>\n",
       "    <tr style=\"text-align: right;\">\n",
       "      <th></th>\n",
       "      <th>week_number</th>\n",
       "      <th>流水号</th>\n",
       "      <th>个性化分析名称</th>\n",
       "      <th>信息负责人</th>\n",
       "      <th>下单时间</th>\n",
       "      <th>评估反馈时间</th>\n",
       "      <th>反馈周期</th>\n",
       "    </tr>\n",
       "  </thead>\n",
       "  <tbody>\n",
       "    <tr>\n",
       "      <th>252</th>\n",
       "      <td>10月2周</td>\n",
       "      <td>20181011-011</td>\n",
       "      <td>BJ181222-02遗传所1个植物全长转录组只分析任务单-02</td>\n",
       "      <td>刘永强</td>\n",
       "      <td>2018-10-11</td>\n",
       "      <td>2018-10-15</td>\n",
       "      <td>4</td>\n",
       "    </tr>\n",
       "  </tbody>\n",
       "</table>\n",
       "</div>"
      ],
      "text/plain": [
       "    week_number           流水号                           个性化分析名称 信息负责人  \\\n",
       "252       10月2周  20181011-011  BJ181222-02遗传所1个植物全长转录组只分析任务单-02   刘永强   \n",
       "\n",
       "          下单时间     评估反馈时间  反馈周期  \n",
       "252 2018-10-11 2018-10-15     4  "
      ]
     },
     "execution_count": 54,
     "metadata": {},
     "output_type": "execute_result"
    }
   ],
   "source": [
    "ss = myModule.format(df1,'week_number',['流水号','个性化分析名称','信息负责人','下单时间','评估反馈时间','反馈周期'])\n",
    "ss.select_by_value('week_number',stat_week)\n",
    "ss.judge_and_replace('反馈周期',1)\n",
    "ss.select_by_value('反馈周期_bool',True)\n",
    "tt = myModule.format(ss.df,'week_number',['流水号','个性化分析名称','信息负责人','下单时间','评估反馈时间','反馈周期']).df\n",
    "tt.sort_values(by = '反馈周期',axis = 0,ascending = False)"
   ]
  },
  {
   "cell_type": "markdown",
   "metadata": {},
   "source": [
    "## 在线项目数统计"
   ]
  },
  {
   "cell_type": "code",
   "execution_count": 55,
   "metadata": {
    "collapsed": false,
    "scrolled": true
   },
   "outputs": [
    {
     "data": {
      "application/vnd.plotly.v1+json": {
       "data": [
        {
         "name": "流水号",
         "type": "bar",
         "uid": "42b45602-d1b2-11e8-8ddb-a41f72875c19",
         "x": [
          "何胜",
          "冯敬岩",
          "冷雪",
          "刘梦苑",
          "刘江",
          "占伟",
          "宋少宇",
          "封彦杰",
          "屈昂",
          "张悦",
          "昶吉阳",
          "杨伟飞",
          "杨宇",
          "王霞",
          "范旭宁",
          "解飞",
          "赵倩",
          "赵玥",
          "车天栋",
          "闻少楠",
          "靳甜甜",
          "韩少怀"
         ],
         "y": [
          2,
          2,
          1,
          3,
          1,
          3,
          5,
          1,
          1,
          1,
          2,
          1,
          3,
          2,
          4,
          1,
          6,
          1,
          1,
          2,
          1,
          2
         ]
        }
       ],
       "layout": {
        "title": "流水号周趋势图",
        "xaxis": {
         "mirror": "all",
         "nticks": 20,
         "showgrid": true,
         "showline": true,
         "title": "周",
         "zeroline": true
        },
        "yaxis": {
         "mirror": "all",
         "nticks": 20,
         "showgrid": true,
         "showline": true,
         "title": "流水号",
         "zeroline": true
        }
       }
      },
      "text/html": [
       "<div id=\"7a0aac74-fe09-43d5-8785-b0c336fc3335\" style=\"height: 525px; width: 100%;\" class=\"plotly-graph-div\"></div><script type=\"text/javascript\">require([\"plotly\"], function(Plotly) { window.PLOTLYENV=window.PLOTLYENV || {};window.PLOTLYENV.BASE_URL=\"https://plot.ly\";Plotly.newPlot(\"7a0aac74-fe09-43d5-8785-b0c336fc3335\", [{\"name\": \"\\u6d41\\u6c34\\u53f7\", \"x\": [\"\\u4f55\\u80dc\", \"\\u51af\\u656c\\u5ca9\", \"\\u51b7\\u96ea\", \"\\u5218\\u68a6\\u82d1\", \"\\u5218\\u6c5f\", \"\\u5360\\u4f1f\", \"\\u5b8b\\u5c11\\u5b87\", \"\\u5c01\\u5f66\\u6770\", \"\\u5c48\\u6602\", \"\\u5f20\\u60a6\", \"\\u6636\\u5409\\u9633\", \"\\u6768\\u4f1f\\u98de\", \"\\u6768\\u5b87\", \"\\u738b\\u971e\", \"\\u8303\\u65ed\\u5b81\", \"\\u89e3\\u98de\", \"\\u8d75\\u5029\", \"\\u8d75\\u73a5\", \"\\u8f66\\u5929\\u680b\", \"\\u95fb\\u5c11\\u6960\", \"\\u9773\\u751c\\u751c\", \"\\u97e9\\u5c11\\u6000\"], \"y\": [2, 2, 1, 3, 1, 3, 5, 1, 1, 1, 2, 1, 3, 2, 4, 1, 6, 1, 1, 2, 1, 2], \"type\": \"bar\", \"uid\": \"42b45602-d1b2-11e8-8ddb-a41f72875c19\"}], {\"title\": \"\\u6d41\\u6c34\\u53f7\\u5468\\u8d8b\\u52bf\\u56fe\", \"xaxis\": {\"mirror\": \"all\", \"nticks\": 20, \"showgrid\": true, \"showline\": true, \"title\": \"\\u5468\", \"zeroline\": true}, \"yaxis\": {\"mirror\": \"all\", \"nticks\": 20, \"showgrid\": true, \"showline\": true, \"title\": \"\\u6d41\\u6c34\\u53f7\", \"zeroline\": true}}, {\"showLink\": true, \"linkText\": \"Export to plot.ly\"})});</script>"
      ],
      "text/vnd.plotly.v1+html": [
       "<div id=\"7a0aac74-fe09-43d5-8785-b0c336fc3335\" style=\"height: 525px; width: 100%;\" class=\"plotly-graph-div\"></div><script type=\"text/javascript\">require([\"plotly\"], function(Plotly) { window.PLOTLYENV=window.PLOTLYENV || {};window.PLOTLYENV.BASE_URL=\"https://plot.ly\";Plotly.newPlot(\"7a0aac74-fe09-43d5-8785-b0c336fc3335\", [{\"name\": \"\\u6d41\\u6c34\\u53f7\", \"x\": [\"\\u4f55\\u80dc\", \"\\u51af\\u656c\\u5ca9\", \"\\u51b7\\u96ea\", \"\\u5218\\u68a6\\u82d1\", \"\\u5218\\u6c5f\", \"\\u5360\\u4f1f\", \"\\u5b8b\\u5c11\\u5b87\", \"\\u5c01\\u5f66\\u6770\", \"\\u5c48\\u6602\", \"\\u5f20\\u60a6\", \"\\u6636\\u5409\\u9633\", \"\\u6768\\u4f1f\\u98de\", \"\\u6768\\u5b87\", \"\\u738b\\u971e\", \"\\u8303\\u65ed\\u5b81\", \"\\u89e3\\u98de\", \"\\u8d75\\u5029\", \"\\u8d75\\u73a5\", \"\\u8f66\\u5929\\u680b\", \"\\u95fb\\u5c11\\u6960\", \"\\u9773\\u751c\\u751c\", \"\\u97e9\\u5c11\\u6000\"], \"y\": [2, 2, 1, 3, 1, 3, 5, 1, 1, 1, 2, 1, 3, 2, 4, 1, 6, 1, 1, 2, 1, 2], \"type\": \"bar\", \"uid\": \"42b45602-d1b2-11e8-8ddb-a41f72875c19\"}], {\"title\": \"\\u6d41\\u6c34\\u53f7\\u5468\\u8d8b\\u52bf\\u56fe\", \"xaxis\": {\"mirror\": \"all\", \"nticks\": 20, \"showgrid\": true, \"showline\": true, \"title\": \"\\u5468\", \"zeroline\": true}, \"yaxis\": {\"mirror\": \"all\", \"nticks\": 20, \"showgrid\": true, \"showline\": true, \"title\": \"\\u6d41\\u6c34\\u53f7\", \"zeroline\": true}}, {\"showLink\": true, \"linkText\": \"Export to plot.ly\"})});</script>"
      ]
     },
     "metadata": {},
     "output_type": "display_data"
    }
   ],
   "source": [
    "ss = myModule.format(df3 ,'信息负责人' ,['流水号'])\n",
    "pp = ss.groupby('count')\n",
    "myModule.myPlot(pp).plot('bar')"
   ]
  },
  {
   "cell_type": "markdown",
   "metadata": {},
   "source": [
    "# 交付情况统计"
   ]
  },
  {
   "cell_type": "markdown",
   "metadata": {},
   "source": [
    "## 完成项目数统计"
   ]
  },
  {
   "cell_type": "markdown",
   "metadata": {},
   "source": [
    "### 整体完成项目数趋势图"
   ]
  },
  {
   "cell_type": "code",
   "execution_count": 56,
   "metadata": {
    "collapsed": false
   },
   "outputs": [
    {
     "data": {
      "application/vnd.plotly.v1+json": {
       "data": [
        {
         "name": "实际交付时间",
         "type": "scatter",
         "uid": "42b45603-d1b2-11e8-8ddb-a41f72875c19",
         "x": [
          "8月3周",
          "9月1周",
          "9月2周",
          "9月3周",
          "9月4周",
          "10月2周"
         ],
         "y": [
          1,
          17,
          35,
          47,
          45,
          35
         ]
        }
       ],
       "layout": {
        "title": "实际交付时间周趋势图",
        "xaxis": {
         "mirror": "all",
         "nticks": 20,
         "showgrid": true,
         "showline": true,
         "title": "周",
         "zeroline": true
        },
        "yaxis": {
         "mirror": "all",
         "nticks": 20,
         "showgrid": true,
         "showline": true,
         "title": "实际交付时间",
         "zeroline": true
        }
       }
      },
      "text/html": [
       "<div id=\"8a1930dd-8a8a-48ae-a3b3-930515eeeecc\" style=\"height: 525px; width: 100%;\" class=\"plotly-graph-div\"></div><script type=\"text/javascript\">require([\"plotly\"], function(Plotly) { window.PLOTLYENV=window.PLOTLYENV || {};window.PLOTLYENV.BASE_URL=\"https://plot.ly\";Plotly.newPlot(\"8a1930dd-8a8a-48ae-a3b3-930515eeeecc\", [{\"name\": \"\\u5b9e\\u9645\\u4ea4\\u4ed8\\u65f6\\u95f4\", \"x\": [\"8\\u67083\\u5468\", \"9\\u67081\\u5468\", \"9\\u67082\\u5468\", \"9\\u67083\\u5468\", \"9\\u67084\\u5468\", \"10\\u67082\\u5468\"], \"y\": [1, 17, 35, 47, 45, 35], \"type\": \"scatter\", \"uid\": \"42b45603-d1b2-11e8-8ddb-a41f72875c19\"}], {\"title\": \"\\u5b9e\\u9645\\u4ea4\\u4ed8\\u65f6\\u95f4\\u5468\\u8d8b\\u52bf\\u56fe\", \"xaxis\": {\"mirror\": \"all\", \"nticks\": 20, \"showgrid\": true, \"showline\": true, \"title\": \"\\u5468\", \"zeroline\": true}, \"yaxis\": {\"mirror\": \"all\", \"nticks\": 20, \"showgrid\": true, \"showline\": true, \"title\": \"\\u5b9e\\u9645\\u4ea4\\u4ed8\\u65f6\\u95f4\", \"zeroline\": true}}, {\"showLink\": true, \"linkText\": \"Export to plot.ly\"})});</script>"
      ],
      "text/vnd.plotly.v1+html": [
       "<div id=\"8a1930dd-8a8a-48ae-a3b3-930515eeeecc\" style=\"height: 525px; width: 100%;\" class=\"plotly-graph-div\"></div><script type=\"text/javascript\">require([\"plotly\"], function(Plotly) { window.PLOTLYENV=window.PLOTLYENV || {};window.PLOTLYENV.BASE_URL=\"https://plot.ly\";Plotly.newPlot(\"8a1930dd-8a8a-48ae-a3b3-930515eeeecc\", [{\"name\": \"\\u5b9e\\u9645\\u4ea4\\u4ed8\\u65f6\\u95f4\", \"x\": [\"8\\u67083\\u5468\", \"9\\u67081\\u5468\", \"9\\u67082\\u5468\", \"9\\u67083\\u5468\", \"9\\u67084\\u5468\", \"10\\u67082\\u5468\"], \"y\": [1, 17, 35, 47, 45, 35], \"type\": \"scatter\", \"uid\": \"42b45603-d1b2-11e8-8ddb-a41f72875c19\"}], {\"title\": \"\\u5b9e\\u9645\\u4ea4\\u4ed8\\u65f6\\u95f4\\u5468\\u8d8b\\u52bf\\u56fe\", \"xaxis\": {\"mirror\": \"all\", \"nticks\": 20, \"showgrid\": true, \"showline\": true, \"title\": \"\\u5468\", \"zeroline\": true}, \"yaxis\": {\"mirror\": \"all\", \"nticks\": 20, \"showgrid\": true, \"showline\": true, \"title\": \"\\u5b9e\\u9645\\u4ea4\\u4ed8\\u65f6\\u95f4\", \"zeroline\": true}}, {\"showLink\": true, \"linkText\": \"Export to plot.ly\"})});</script>"
      ]
     },
     "metadata": {},
     "output_type": "display_data"
    }
   ],
   "source": [
    "ss = myModule.format(df4 ,'week_number' ,['实际交付时间'])\n",
    "pp = myModule.sort_by_index(ss.groupby('count'))\n",
    "myModule.myPlot(pp).plot('line')"
   ]
  },
  {
   "cell_type": "markdown",
   "metadata": {},
   "source": [
    "### 个人完成项目数统计"
   ]
  },
  {
   "cell_type": "code",
   "execution_count": 57,
   "metadata": {
    "collapsed": false
   },
   "outputs": [
    {
     "data": {
      "application/vnd.plotly.v1+json": {
       "data": [
        {
         "name": "实际交付时间(朱慧萍)",
         "type": "bar",
         "uid": "438bb850-d1b2-11e8-8ddb-a41f72875c19",
         "x": [
          "8月3周",
          "9月1周",
          "9月2周",
          "9月3周",
          "9月4周",
          "10月2周"
         ],
         "y": [
          null,
          2,
          5,
          4,
          3,
          2
         ]
        },
        {
         "name": "实际交付时间(韩少怀)",
         "type": "bar",
         "uid": "438bb851-d1b2-11e8-8ddb-a41f72875c19",
         "x": [
          "8月3周",
          "9月1周",
          "9月2周",
          "9月3周",
          "9月4周",
          "10月2周"
         ],
         "y": [
          null,
          null,
          null,
          null,
          2,
          1
         ]
        },
        {
         "name": "实际交付时间(王传文)",
         "type": "bar",
         "uid": "438bb852-d1b2-11e8-8ddb-a41f72875c19",
         "x": [
          "8月3周",
          "9月1周",
          "9月2周",
          "9月3周",
          "9月4周",
          "10月2周"
         ],
         "y": [
          null,
          null,
          null,
          1,
          null,
          2
         ]
        },
        {
         "name": "实际交付时间(于慧)",
         "type": "bar",
         "uid": "438bb853-d1b2-11e8-8ddb-a41f72875c19",
         "x": [
          "8月3周",
          "9月1周",
          "9月2周",
          "9月3周",
          "9月4周",
          "10月2周"
         ],
         "y": [
          null,
          null,
          1,
          null,
          1,
          2
         ]
        },
        {
         "name": "实际交付时间(解飞)",
         "type": "bar",
         "uid": "438bb854-d1b2-11e8-8ddb-a41f72875c19",
         "x": [
          "8月3周",
          "9月1周",
          "9月2周",
          "9月3周",
          "9月4周",
          "10月2周"
         ],
         "y": [
          null,
          null,
          null,
          null,
          null,
          2
         ]
        },
        {
         "name": "实际交付时间(高剑)",
         "type": "bar",
         "uid": "438bb855-d1b2-11e8-8ddb-a41f72875c19",
         "x": [
          "8月3周",
          "9月1周",
          "9月2周",
          "9月3周",
          "9月4周",
          "10月2周"
         ],
         "y": [
          null,
          null,
          1,
          null,
          null,
          null
         ]
        },
        {
         "name": "实际交付时间(冯敬岩)",
         "type": "bar",
         "uid": "438bb856-d1b2-11e8-8ddb-a41f72875c19",
         "x": [
          "8月3周",
          "9月1周",
          "9月2周",
          "9月3周",
          "9月4周",
          "10月2周"
         ],
         "y": [
          null,
          2,
          1,
          1,
          5,
          4
         ]
        },
        {
         "name": "实际交付时间(姚盟成)",
         "type": "bar",
         "uid": "438bb857-d1b2-11e8-8ddb-a41f72875c19",
         "x": [
          "8月3周",
          "9月1周",
          "9月2周",
          "9月3周",
          "9月4周",
          "10月2周"
         ],
         "y": [
          null,
          null,
          1,
          null,
          null,
          1
         ]
        },
        {
         "name": "实际交付时间(段利强)",
         "type": "bar",
         "uid": "438bb858-d1b2-11e8-8ddb-a41f72875c19",
         "x": [
          "8月3周",
          "9月1周",
          "9月2周",
          "9月3周",
          "9月4周",
          "10月2周"
         ],
         "y": [
          null,
          null,
          1,
          5,
          null,
          null
         ]
        },
        {
         "name": "实际交付时间(杨宇)",
         "type": "bar",
         "uid": "438bb859-d1b2-11e8-8ddb-a41f72875c19",
         "x": [
          "8月3周",
          "9月1周",
          "9月2周",
          "9月3周",
          "9月4周",
          "10月2周"
         ],
         "y": [
          null,
          null,
          1,
          7,
          null,
          1
         ]
        },
        {
         "name": "实际交付时间(林文文)",
         "type": "bar",
         "uid": "438bb85a-d1b2-11e8-8ddb-a41f72875c19",
         "x": [
          "8月3周",
          "9月1周",
          "9月2周",
          "9月3周",
          "9月4周",
          "10月2周"
         ],
         "y": [
          null,
          null,
          null,
          1,
          1,
          null
         ]
        },
        {
         "name": "实际交付时间(刘梦苑)",
         "type": "bar",
         "uid": "438bb85b-d1b2-11e8-8ddb-a41f72875c19",
         "x": [
          "8月3周",
          "9月1周",
          "9月2周",
          "9月3周",
          "9月4周",
          "10月2周"
         ],
         "y": [
          null,
          1,
          1,
          2,
          2,
          4
         ]
        },
        {
         "name": "实际交付时间(占伟)",
         "type": "bar",
         "uid": "438bb85c-d1b2-11e8-8ddb-a41f72875c19",
         "x": [
          "8月3周",
          "9月1周",
          "9月2周",
          "9月3周",
          "9月4周",
          "10月2周"
         ],
         "y": [
          null,
          null,
          null,
          1,
          1,
          null
         ]
        },
        {
         "name": "实际交付时间(昶吉阳)",
         "type": "bar",
         "uid": "438bb85d-d1b2-11e8-8ddb-a41f72875c19",
         "x": [
          "8月3周",
          "9月1周",
          "9月2周",
          "9月3周",
          "9月4周",
          "10月2周"
         ],
         "y": [
          null,
          1,
          null,
          2,
          null,
          2
         ]
        },
        {
         "name": "实际交付时间(刘永强)",
         "type": "bar",
         "uid": "438bb85e-d1b2-11e8-8ddb-a41f72875c19",
         "x": [
          "8月3周",
          "9月1周",
          "9月2周",
          "9月3周",
          "9月4周",
          "10月2周"
         ],
         "y": [
          null,
          1,
          null,
          null,
          null,
          1
         ]
        },
        {
         "name": "实际交付时间(宋少宇)",
         "type": "bar",
         "uid": "438bb85f-d1b2-11e8-8ddb-a41f72875c19",
         "x": [
          "8月3周",
          "9月1周",
          "9月2周",
          "9月3周",
          "9月4周",
          "10月2周"
         ],
         "y": [
          null,
          1,
          null,
          null,
          null,
          null
         ]
        },
        {
         "name": "实际交付时间(陈碧雯)",
         "type": "bar",
         "uid": "438bb860-d1b2-11e8-8ddb-a41f72875c19",
         "x": [
          "8月3周",
          "9月1周",
          "9月2周",
          "9月3周",
          "9月4周",
          "10月2周"
         ],
         "y": [
          null,
          null,
          4,
          3,
          1,
          2
         ]
        },
        {
         "name": "实际交付时间(王霞)",
         "type": "bar",
         "uid": "438bb861-d1b2-11e8-8ddb-a41f72875c19",
         "x": [
          "8月3周",
          "9月1周",
          "9月2周",
          "9月3周",
          "9月4周",
          "10月2周"
         ],
         "y": [
          null,
          2,
          1,
          2,
          2,
          2
         ]
        },
        {
         "name": "实际交付时间(冷雪)",
         "type": "bar",
         "uid": "438bb862-d1b2-11e8-8ddb-a41f72875c19",
         "x": [
          "8月3周",
          "9月1周",
          "9月2周",
          "9月3周",
          "9月4周",
          "10月2周"
         ],
         "y": [
          1,
          1,
          1,
          null,
          3,
          null
         ]
        },
        {
         "name": "实际交付时间(赵倩)",
         "type": "bar",
         "uid": "438bb863-d1b2-11e8-8ddb-a41f72875c19",
         "x": [
          "8月3周",
          "9月1周",
          "9月2周",
          "9月3周",
          "9月4周",
          "10月2周"
         ],
         "y": [
          null,
          1,
          4,
          5,
          7,
          3
         ]
        },
        {
         "name": "实际交付时间(沈立群)",
         "type": "bar",
         "uid": "438bb864-d1b2-11e8-8ddb-a41f72875c19",
         "x": [
          "8月3周",
          "9月1周",
          "9月2周",
          "9月3周",
          "9月4周",
          "10月2周"
         ],
         "y": [
          null,
          null,
          null,
          null,
          1,
          null
         ]
        },
        {
         "name": "实际交付时间(范旭宁)",
         "type": "bar",
         "uid": "438bb865-d1b2-11e8-8ddb-a41f72875c19",
         "x": [
          "8月3周",
          "9月1周",
          "9月2周",
          "9月3周",
          "9月4周",
          "10月2周"
         ],
         "y": [
          null,
          null,
          null,
          1,
          null,
          null
         ]
        },
        {
         "name": "实际交付时间(屈昂)",
         "type": "bar",
         "uid": "438bb866-d1b2-11e8-8ddb-a41f72875c19",
         "x": [
          "8月3周",
          "9月1周",
          "9月2周",
          "9月3周",
          "9月4周",
          "10月2周"
         ],
         "y": [
          null,
          1,
          null,
          null,
          1,
          null
         ]
        },
        {
         "name": "实际交付时间(何胜)",
         "type": "bar",
         "uid": "438bb867-d1b2-11e8-8ddb-a41f72875c19",
         "x": [
          "8月3周",
          "9月1周",
          "9月2周",
          "9月3周",
          "9月4周",
          "10月2周"
         ],
         "y": [
          null,
          2,
          3,
          2,
          3,
          2
         ]
        },
        {
         "name": "实际交付时间(沈恩惠)",
         "type": "bar",
         "uid": "438bb868-d1b2-11e8-8ddb-a41f72875c19",
         "x": [
          "8月3周",
          "9月1周",
          "9月2周",
          "9月3周",
          "9月4周",
          "10月2周"
         ],
         "y": [
          null,
          null,
          1,
          null,
          1,
          1
         ]
        },
        {
         "name": "实际交付时间(马潇)",
         "type": "bar",
         "uid": "438bb869-d1b2-11e8-8ddb-a41f72875c19",
         "x": [
          "8月3周",
          "9月1周",
          "9月2周",
          "9月3周",
          "9月4周",
          "10月2周"
         ],
         "y": [
          null,
          null,
          2,
          2,
          2,
          1
         ]
        },
        {
         "name": "实际交付时间(刘江)",
         "type": "bar",
         "uid": "438bb86a-d1b2-11e8-8ddb-a41f72875c19",
         "x": [
          "8月3周",
          "9月1周",
          "9月2周",
          "9月3周",
          "9月4周",
          "10月2周"
         ],
         "y": [
          null,
          null,
          2,
          1,
          null,
          null
         ]
        },
        {
         "name": "实际交付时间(杨伟飞)",
         "type": "bar",
         "uid": "438bb86b-d1b2-11e8-8ddb-a41f72875c19",
         "x": [
          "8月3周",
          "9月1周",
          "9月2周",
          "9月3周",
          "9月4周",
          "10月2周"
         ],
         "y": [
          null,
          1,
          2,
          null,
          null,
          null
         ]
        },
        {
         "name": "实际交付时间(于勇一)",
         "type": "bar",
         "uid": "438bb86c-d1b2-11e8-8ddb-a41f72875c19",
         "x": [
          "8月3周",
          "9月1周",
          "9月2周",
          "9月3周",
          "9月4周",
          "10月2周"
         ],
         "y": [
          null,
          null,
          null,
          null,
          1,
          null
         ]
        },
        {
         "name": "实际交付时间(车天栋)",
         "type": "bar",
         "uid": "438bb86d-d1b2-11e8-8ddb-a41f72875c19",
         "x": [
          "8月3周",
          "9月1周",
          "9月2周",
          "9月3周",
          "9月4周",
          "10月2周"
         ],
         "y": [
          null,
          null,
          1,
          null,
          1,
          null
         ]
        },
        {
         "name": "实际交付时间(李华云)",
         "type": "bar",
         "uid": "438bb86e-d1b2-11e8-8ddb-a41f72875c19",
         "x": [
          "8月3周",
          "9月1周",
          "9月2周",
          "9月3周",
          "9月4周",
          "10月2周"
         ],
         "y": [
          null,
          null,
          null,
          1,
          1,
          null
         ]
        },
        {
         "name": "实际交付时间(陈鹏燕)",
         "type": "bar",
         "uid": "438bb86f-d1b2-11e8-8ddb-a41f72875c19",
         "x": [
          "8月3周",
          "9月1周",
          "9月2周",
          "9月3周",
          "9月4周",
          "10月2周"
         ],
         "y": [
          null,
          1,
          2,
          4,
          4,
          null
         ]
        },
        {
         "name": "实际交付时间(闻少楠)",
         "type": "bar",
         "uid": "438bb870-d1b2-11e8-8ddb-a41f72875c19",
         "x": [
          "8月3周",
          "9月1周",
          "9月2周",
          "9月3周",
          "9月4周",
          "10月2周"
         ],
         "y": [
          null,
          null,
          null,
          2,
          2,
          2
         ]
        }
       ],
       "layout": {
        "barmode": "stack",
        "title": "实际交付时间周趋势图",
        "xaxis": {
         "mirror": "all",
         "nticks": 20,
         "showgrid": true,
         "showline": true,
         "title": "周",
         "zeroline": true
        },
        "yaxis": {
         "mirror": "all",
         "nticks": 20,
         "showgrid": true,
         "showline": true,
         "title": "实际交付时间",
         "zeroline": true
        }
       }
      },
      "text/html": [
       "<div id=\"2411501c-faa3-473d-8665-52a74782921f\" style=\"height: 525px; width: 100%;\" class=\"plotly-graph-div\"></div><script type=\"text/javascript\">require([\"plotly\"], function(Plotly) { window.PLOTLYENV=window.PLOTLYENV || {};window.PLOTLYENV.BASE_URL=\"https://plot.ly\";Plotly.newPlot(\"2411501c-faa3-473d-8665-52a74782921f\", [{\"name\": \"\\u5b9e\\u9645\\u4ea4\\u4ed8\\u65f6\\u95f4(\\u6731\\u6167\\u840d)\", \"x\": [\"8\\u67083\\u5468\", \"9\\u67081\\u5468\", \"9\\u67082\\u5468\", \"9\\u67083\\u5468\", \"9\\u67084\\u5468\", \"10\\u67082\\u5468\"], \"y\": [null, 2.0, 5.0, 4.0, 3.0, 2.0], \"type\": \"bar\", \"uid\": \"438bb850-d1b2-11e8-8ddb-a41f72875c19\"}, {\"name\": \"\\u5b9e\\u9645\\u4ea4\\u4ed8\\u65f6\\u95f4(\\u97e9\\u5c11\\u6000)\", \"x\": [\"8\\u67083\\u5468\", \"9\\u67081\\u5468\", \"9\\u67082\\u5468\", \"9\\u67083\\u5468\", \"9\\u67084\\u5468\", \"10\\u67082\\u5468\"], \"y\": [null, null, null, null, 2.0, 1.0], \"type\": \"bar\", \"uid\": \"438bb851-d1b2-11e8-8ddb-a41f72875c19\"}, {\"name\": \"\\u5b9e\\u9645\\u4ea4\\u4ed8\\u65f6\\u95f4(\\u738b\\u4f20\\u6587)\", \"x\": [\"8\\u67083\\u5468\", \"9\\u67081\\u5468\", \"9\\u67082\\u5468\", \"9\\u67083\\u5468\", \"9\\u67084\\u5468\", \"10\\u67082\\u5468\"], \"y\": [null, null, null, 1.0, null, 2.0], \"type\": \"bar\", \"uid\": \"438bb852-d1b2-11e8-8ddb-a41f72875c19\"}, {\"name\": \"\\u5b9e\\u9645\\u4ea4\\u4ed8\\u65f6\\u95f4(\\u4e8e\\u6167)\", \"x\": [\"8\\u67083\\u5468\", \"9\\u67081\\u5468\", \"9\\u67082\\u5468\", \"9\\u67083\\u5468\", \"9\\u67084\\u5468\", \"10\\u67082\\u5468\"], \"y\": [null, null, 1.0, null, 1.0, 2.0], \"type\": \"bar\", \"uid\": \"438bb853-d1b2-11e8-8ddb-a41f72875c19\"}, {\"name\": \"\\u5b9e\\u9645\\u4ea4\\u4ed8\\u65f6\\u95f4(\\u89e3\\u98de)\", \"x\": [\"8\\u67083\\u5468\", \"9\\u67081\\u5468\", \"9\\u67082\\u5468\", \"9\\u67083\\u5468\", \"9\\u67084\\u5468\", \"10\\u67082\\u5468\"], \"y\": [null, null, null, null, null, 2.0], \"type\": \"bar\", \"uid\": \"438bb854-d1b2-11e8-8ddb-a41f72875c19\"}, {\"name\": \"\\u5b9e\\u9645\\u4ea4\\u4ed8\\u65f6\\u95f4(\\u9ad8\\u5251)\", \"x\": [\"8\\u67083\\u5468\", \"9\\u67081\\u5468\", \"9\\u67082\\u5468\", \"9\\u67083\\u5468\", \"9\\u67084\\u5468\", \"10\\u67082\\u5468\"], \"y\": [null, null, 1.0, null, null, null], \"type\": \"bar\", \"uid\": \"438bb855-d1b2-11e8-8ddb-a41f72875c19\"}, {\"name\": \"\\u5b9e\\u9645\\u4ea4\\u4ed8\\u65f6\\u95f4(\\u51af\\u656c\\u5ca9)\", \"x\": [\"8\\u67083\\u5468\", \"9\\u67081\\u5468\", \"9\\u67082\\u5468\", \"9\\u67083\\u5468\", \"9\\u67084\\u5468\", \"10\\u67082\\u5468\"], \"y\": [null, 2.0, 1.0, 1.0, 5.0, 4.0], \"type\": \"bar\", \"uid\": \"438bb856-d1b2-11e8-8ddb-a41f72875c19\"}, {\"name\": \"\\u5b9e\\u9645\\u4ea4\\u4ed8\\u65f6\\u95f4(\\u59da\\u76df\\u6210)\", \"x\": [\"8\\u67083\\u5468\", \"9\\u67081\\u5468\", \"9\\u67082\\u5468\", \"9\\u67083\\u5468\", \"9\\u67084\\u5468\", \"10\\u67082\\u5468\"], \"y\": [null, null, 1.0, null, null, 1.0], \"type\": \"bar\", \"uid\": \"438bb857-d1b2-11e8-8ddb-a41f72875c19\"}, {\"name\": \"\\u5b9e\\u9645\\u4ea4\\u4ed8\\u65f6\\u95f4(\\u6bb5\\u5229\\u5f3a)\", \"x\": [\"8\\u67083\\u5468\", \"9\\u67081\\u5468\", \"9\\u67082\\u5468\", \"9\\u67083\\u5468\", \"9\\u67084\\u5468\", \"10\\u67082\\u5468\"], \"y\": [null, null, 1.0, 5.0, null, null], \"type\": \"bar\", \"uid\": \"438bb858-d1b2-11e8-8ddb-a41f72875c19\"}, {\"name\": \"\\u5b9e\\u9645\\u4ea4\\u4ed8\\u65f6\\u95f4(\\u6768\\u5b87)\", \"x\": [\"8\\u67083\\u5468\", \"9\\u67081\\u5468\", \"9\\u67082\\u5468\", \"9\\u67083\\u5468\", \"9\\u67084\\u5468\", \"10\\u67082\\u5468\"], \"y\": [null, null, 1.0, 7.0, null, 1.0], \"type\": \"bar\", \"uid\": \"438bb859-d1b2-11e8-8ddb-a41f72875c19\"}, {\"name\": \"\\u5b9e\\u9645\\u4ea4\\u4ed8\\u65f6\\u95f4(\\u6797\\u6587\\u6587)\", \"x\": [\"8\\u67083\\u5468\", \"9\\u67081\\u5468\", \"9\\u67082\\u5468\", \"9\\u67083\\u5468\", \"9\\u67084\\u5468\", \"10\\u67082\\u5468\"], \"y\": [null, null, null, 1.0, 1.0, null], \"type\": \"bar\", \"uid\": \"438bb85a-d1b2-11e8-8ddb-a41f72875c19\"}, {\"name\": \"\\u5b9e\\u9645\\u4ea4\\u4ed8\\u65f6\\u95f4(\\u5218\\u68a6\\u82d1)\", \"x\": [\"8\\u67083\\u5468\", \"9\\u67081\\u5468\", \"9\\u67082\\u5468\", \"9\\u67083\\u5468\", \"9\\u67084\\u5468\", \"10\\u67082\\u5468\"], \"y\": [null, 1.0, 1.0, 2.0, 2.0, 4.0], \"type\": \"bar\", \"uid\": \"438bb85b-d1b2-11e8-8ddb-a41f72875c19\"}, {\"name\": \"\\u5b9e\\u9645\\u4ea4\\u4ed8\\u65f6\\u95f4(\\u5360\\u4f1f)\", \"x\": [\"8\\u67083\\u5468\", \"9\\u67081\\u5468\", \"9\\u67082\\u5468\", \"9\\u67083\\u5468\", \"9\\u67084\\u5468\", \"10\\u67082\\u5468\"], \"y\": [null, null, null, 1.0, 1.0, null], \"type\": \"bar\", \"uid\": \"438bb85c-d1b2-11e8-8ddb-a41f72875c19\"}, {\"name\": \"\\u5b9e\\u9645\\u4ea4\\u4ed8\\u65f6\\u95f4(\\u6636\\u5409\\u9633)\", \"x\": [\"8\\u67083\\u5468\", \"9\\u67081\\u5468\", \"9\\u67082\\u5468\", \"9\\u67083\\u5468\", \"9\\u67084\\u5468\", \"10\\u67082\\u5468\"], \"y\": [null, 1.0, null, 2.0, null, 2.0], \"type\": \"bar\", \"uid\": \"438bb85d-d1b2-11e8-8ddb-a41f72875c19\"}, {\"name\": \"\\u5b9e\\u9645\\u4ea4\\u4ed8\\u65f6\\u95f4(\\u5218\\u6c38\\u5f3a)\", \"x\": [\"8\\u67083\\u5468\", \"9\\u67081\\u5468\", \"9\\u67082\\u5468\", \"9\\u67083\\u5468\", \"9\\u67084\\u5468\", \"10\\u67082\\u5468\"], \"y\": [null, 1.0, null, null, null, 1.0], \"type\": \"bar\", \"uid\": \"438bb85e-d1b2-11e8-8ddb-a41f72875c19\"}, {\"name\": \"\\u5b9e\\u9645\\u4ea4\\u4ed8\\u65f6\\u95f4(\\u5b8b\\u5c11\\u5b87)\", \"x\": [\"8\\u67083\\u5468\", \"9\\u67081\\u5468\", \"9\\u67082\\u5468\", \"9\\u67083\\u5468\", \"9\\u67084\\u5468\", \"10\\u67082\\u5468\"], \"y\": [null, 1.0, null, null, null, null], \"type\": \"bar\", \"uid\": \"438bb85f-d1b2-11e8-8ddb-a41f72875c19\"}, {\"name\": \"\\u5b9e\\u9645\\u4ea4\\u4ed8\\u65f6\\u95f4(\\u9648\\u78a7\\u96ef)\", \"x\": [\"8\\u67083\\u5468\", \"9\\u67081\\u5468\", \"9\\u67082\\u5468\", \"9\\u67083\\u5468\", \"9\\u67084\\u5468\", \"10\\u67082\\u5468\"], \"y\": [null, null, 4.0, 3.0, 1.0, 2.0], \"type\": \"bar\", \"uid\": \"438bb860-d1b2-11e8-8ddb-a41f72875c19\"}, {\"name\": \"\\u5b9e\\u9645\\u4ea4\\u4ed8\\u65f6\\u95f4(\\u738b\\u971e)\", \"x\": [\"8\\u67083\\u5468\", \"9\\u67081\\u5468\", \"9\\u67082\\u5468\", \"9\\u67083\\u5468\", \"9\\u67084\\u5468\", \"10\\u67082\\u5468\"], \"y\": [null, 2.0, 1.0, 2.0, 2.0, 2.0], \"type\": \"bar\", \"uid\": \"438bb861-d1b2-11e8-8ddb-a41f72875c19\"}, {\"name\": \"\\u5b9e\\u9645\\u4ea4\\u4ed8\\u65f6\\u95f4(\\u51b7\\u96ea)\", \"x\": [\"8\\u67083\\u5468\", \"9\\u67081\\u5468\", \"9\\u67082\\u5468\", \"9\\u67083\\u5468\", \"9\\u67084\\u5468\", \"10\\u67082\\u5468\"], \"y\": [1.0, 1.0, 1.0, null, 3.0, null], \"type\": \"bar\", \"uid\": \"438bb862-d1b2-11e8-8ddb-a41f72875c19\"}, {\"name\": \"\\u5b9e\\u9645\\u4ea4\\u4ed8\\u65f6\\u95f4(\\u8d75\\u5029)\", \"x\": [\"8\\u67083\\u5468\", \"9\\u67081\\u5468\", \"9\\u67082\\u5468\", \"9\\u67083\\u5468\", \"9\\u67084\\u5468\", \"10\\u67082\\u5468\"], \"y\": [null, 1.0, 4.0, 5.0, 7.0, 3.0], \"type\": \"bar\", \"uid\": \"438bb863-d1b2-11e8-8ddb-a41f72875c19\"}, {\"name\": \"\\u5b9e\\u9645\\u4ea4\\u4ed8\\u65f6\\u95f4(\\u6c88\\u7acb\\u7fa4)\", \"x\": [\"8\\u67083\\u5468\", \"9\\u67081\\u5468\", \"9\\u67082\\u5468\", \"9\\u67083\\u5468\", \"9\\u67084\\u5468\", \"10\\u67082\\u5468\"], \"y\": [null, null, null, null, 1.0, null], \"type\": \"bar\", \"uid\": \"438bb864-d1b2-11e8-8ddb-a41f72875c19\"}, {\"name\": \"\\u5b9e\\u9645\\u4ea4\\u4ed8\\u65f6\\u95f4(\\u8303\\u65ed\\u5b81)\", \"x\": [\"8\\u67083\\u5468\", \"9\\u67081\\u5468\", \"9\\u67082\\u5468\", \"9\\u67083\\u5468\", \"9\\u67084\\u5468\", \"10\\u67082\\u5468\"], \"y\": [null, null, null, 1.0, null, null], \"type\": \"bar\", \"uid\": \"438bb865-d1b2-11e8-8ddb-a41f72875c19\"}, {\"name\": \"\\u5b9e\\u9645\\u4ea4\\u4ed8\\u65f6\\u95f4(\\u5c48\\u6602)\", \"x\": [\"8\\u67083\\u5468\", \"9\\u67081\\u5468\", \"9\\u67082\\u5468\", \"9\\u67083\\u5468\", \"9\\u67084\\u5468\", \"10\\u67082\\u5468\"], \"y\": [null, 1.0, null, null, 1.0, null], \"type\": \"bar\", \"uid\": \"438bb866-d1b2-11e8-8ddb-a41f72875c19\"}, {\"name\": \"\\u5b9e\\u9645\\u4ea4\\u4ed8\\u65f6\\u95f4(\\u4f55\\u80dc)\", \"x\": [\"8\\u67083\\u5468\", \"9\\u67081\\u5468\", \"9\\u67082\\u5468\", \"9\\u67083\\u5468\", \"9\\u67084\\u5468\", \"10\\u67082\\u5468\"], \"y\": [null, 2.0, 3.0, 2.0, 3.0, 2.0], \"type\": \"bar\", \"uid\": \"438bb867-d1b2-11e8-8ddb-a41f72875c19\"}, {\"name\": \"\\u5b9e\\u9645\\u4ea4\\u4ed8\\u65f6\\u95f4(\\u6c88\\u6069\\u60e0)\", \"x\": [\"8\\u67083\\u5468\", \"9\\u67081\\u5468\", \"9\\u67082\\u5468\", \"9\\u67083\\u5468\", \"9\\u67084\\u5468\", \"10\\u67082\\u5468\"], \"y\": [null, null, 1.0, null, 1.0, 1.0], \"type\": \"bar\", \"uid\": \"438bb868-d1b2-11e8-8ddb-a41f72875c19\"}, {\"name\": \"\\u5b9e\\u9645\\u4ea4\\u4ed8\\u65f6\\u95f4(\\u9a6c\\u6f47)\", \"x\": [\"8\\u67083\\u5468\", \"9\\u67081\\u5468\", \"9\\u67082\\u5468\", \"9\\u67083\\u5468\", \"9\\u67084\\u5468\", \"10\\u67082\\u5468\"], \"y\": [null, null, 2.0, 2.0, 2.0, 1.0], \"type\": \"bar\", \"uid\": \"438bb869-d1b2-11e8-8ddb-a41f72875c19\"}, {\"name\": \"\\u5b9e\\u9645\\u4ea4\\u4ed8\\u65f6\\u95f4(\\u5218\\u6c5f)\", \"x\": [\"8\\u67083\\u5468\", \"9\\u67081\\u5468\", \"9\\u67082\\u5468\", \"9\\u67083\\u5468\", \"9\\u67084\\u5468\", \"10\\u67082\\u5468\"], \"y\": [null, null, 2.0, 1.0, null, null], \"type\": \"bar\", \"uid\": \"438bb86a-d1b2-11e8-8ddb-a41f72875c19\"}, {\"name\": \"\\u5b9e\\u9645\\u4ea4\\u4ed8\\u65f6\\u95f4(\\u6768\\u4f1f\\u98de)\", \"x\": [\"8\\u67083\\u5468\", \"9\\u67081\\u5468\", \"9\\u67082\\u5468\", \"9\\u67083\\u5468\", \"9\\u67084\\u5468\", \"10\\u67082\\u5468\"], \"y\": [null, 1.0, 2.0, null, null, null], \"type\": \"bar\", \"uid\": \"438bb86b-d1b2-11e8-8ddb-a41f72875c19\"}, {\"name\": \"\\u5b9e\\u9645\\u4ea4\\u4ed8\\u65f6\\u95f4(\\u4e8e\\u52c7\\u4e00)\", \"x\": [\"8\\u67083\\u5468\", \"9\\u67081\\u5468\", \"9\\u67082\\u5468\", \"9\\u67083\\u5468\", \"9\\u67084\\u5468\", \"10\\u67082\\u5468\"], \"y\": [null, null, null, null, 1.0, null], \"type\": \"bar\", \"uid\": \"438bb86c-d1b2-11e8-8ddb-a41f72875c19\"}, {\"name\": \"\\u5b9e\\u9645\\u4ea4\\u4ed8\\u65f6\\u95f4(\\u8f66\\u5929\\u680b)\", \"x\": [\"8\\u67083\\u5468\", \"9\\u67081\\u5468\", \"9\\u67082\\u5468\", \"9\\u67083\\u5468\", \"9\\u67084\\u5468\", \"10\\u67082\\u5468\"], \"y\": [null, null, 1.0, null, 1.0, null], \"type\": \"bar\", \"uid\": \"438bb86d-d1b2-11e8-8ddb-a41f72875c19\"}, {\"name\": \"\\u5b9e\\u9645\\u4ea4\\u4ed8\\u65f6\\u95f4(\\u674e\\u534e\\u4e91)\", \"x\": [\"8\\u67083\\u5468\", \"9\\u67081\\u5468\", \"9\\u67082\\u5468\", \"9\\u67083\\u5468\", \"9\\u67084\\u5468\", \"10\\u67082\\u5468\"], \"y\": [null, null, null, 1.0, 1.0, null], \"type\": \"bar\", \"uid\": \"438bb86e-d1b2-11e8-8ddb-a41f72875c19\"}, {\"name\": \"\\u5b9e\\u9645\\u4ea4\\u4ed8\\u65f6\\u95f4(\\u9648\\u9e4f\\u71d5)\", \"x\": [\"8\\u67083\\u5468\", \"9\\u67081\\u5468\", \"9\\u67082\\u5468\", \"9\\u67083\\u5468\", \"9\\u67084\\u5468\", \"10\\u67082\\u5468\"], \"y\": [null, 1.0, 2.0, 4.0, 4.0, null], \"type\": \"bar\", \"uid\": \"438bb86f-d1b2-11e8-8ddb-a41f72875c19\"}, {\"name\": \"\\u5b9e\\u9645\\u4ea4\\u4ed8\\u65f6\\u95f4(\\u95fb\\u5c11\\u6960)\", \"x\": [\"8\\u67083\\u5468\", \"9\\u67081\\u5468\", \"9\\u67082\\u5468\", \"9\\u67083\\u5468\", \"9\\u67084\\u5468\", \"10\\u67082\\u5468\"], \"y\": [null, null, null, 2.0, 2.0, 2.0], \"type\": \"bar\", \"uid\": \"438bb870-d1b2-11e8-8ddb-a41f72875c19\"}], {\"barmode\": \"stack\", \"title\": \"\\u5b9e\\u9645\\u4ea4\\u4ed8\\u65f6\\u95f4\\u5468\\u8d8b\\u52bf\\u56fe\", \"xaxis\": {\"mirror\": \"all\", \"nticks\": 20, \"showgrid\": true, \"showline\": true, \"title\": \"\\u5468\", \"zeroline\": true}, \"yaxis\": {\"mirror\": \"all\", \"nticks\": 20, \"showgrid\": true, \"showline\": true, \"title\": \"\\u5b9e\\u9645\\u4ea4\\u4ed8\\u65f6\\u95f4\", \"zeroline\": true}}, {\"showLink\": true, \"linkText\": \"Export to plot.ly\"})});</script>"
      ],
      "text/vnd.plotly.v1+html": [
       "<div id=\"2411501c-faa3-473d-8665-52a74782921f\" style=\"height: 525px; width: 100%;\" class=\"plotly-graph-div\"></div><script type=\"text/javascript\">require([\"plotly\"], function(Plotly) { window.PLOTLYENV=window.PLOTLYENV || {};window.PLOTLYENV.BASE_URL=\"https://plot.ly\";Plotly.newPlot(\"2411501c-faa3-473d-8665-52a74782921f\", [{\"name\": \"\\u5b9e\\u9645\\u4ea4\\u4ed8\\u65f6\\u95f4(\\u6731\\u6167\\u840d)\", \"x\": [\"8\\u67083\\u5468\", \"9\\u67081\\u5468\", \"9\\u67082\\u5468\", \"9\\u67083\\u5468\", \"9\\u67084\\u5468\", \"10\\u67082\\u5468\"], \"y\": [null, 2.0, 5.0, 4.0, 3.0, 2.0], \"type\": \"bar\", \"uid\": \"438bb850-d1b2-11e8-8ddb-a41f72875c19\"}, {\"name\": \"\\u5b9e\\u9645\\u4ea4\\u4ed8\\u65f6\\u95f4(\\u97e9\\u5c11\\u6000)\", \"x\": [\"8\\u67083\\u5468\", \"9\\u67081\\u5468\", \"9\\u67082\\u5468\", \"9\\u67083\\u5468\", \"9\\u67084\\u5468\", \"10\\u67082\\u5468\"], \"y\": [null, null, null, null, 2.0, 1.0], \"type\": \"bar\", \"uid\": \"438bb851-d1b2-11e8-8ddb-a41f72875c19\"}, {\"name\": \"\\u5b9e\\u9645\\u4ea4\\u4ed8\\u65f6\\u95f4(\\u738b\\u4f20\\u6587)\", \"x\": [\"8\\u67083\\u5468\", \"9\\u67081\\u5468\", \"9\\u67082\\u5468\", \"9\\u67083\\u5468\", \"9\\u67084\\u5468\", \"10\\u67082\\u5468\"], \"y\": [null, null, null, 1.0, null, 2.0], \"type\": \"bar\", \"uid\": \"438bb852-d1b2-11e8-8ddb-a41f72875c19\"}, {\"name\": \"\\u5b9e\\u9645\\u4ea4\\u4ed8\\u65f6\\u95f4(\\u4e8e\\u6167)\", \"x\": [\"8\\u67083\\u5468\", \"9\\u67081\\u5468\", \"9\\u67082\\u5468\", \"9\\u67083\\u5468\", \"9\\u67084\\u5468\", \"10\\u67082\\u5468\"], \"y\": [null, null, 1.0, null, 1.0, 2.0], \"type\": \"bar\", \"uid\": \"438bb853-d1b2-11e8-8ddb-a41f72875c19\"}, {\"name\": \"\\u5b9e\\u9645\\u4ea4\\u4ed8\\u65f6\\u95f4(\\u89e3\\u98de)\", \"x\": [\"8\\u67083\\u5468\", \"9\\u67081\\u5468\", \"9\\u67082\\u5468\", \"9\\u67083\\u5468\", \"9\\u67084\\u5468\", \"10\\u67082\\u5468\"], \"y\": [null, null, null, null, null, 2.0], \"type\": \"bar\", \"uid\": \"438bb854-d1b2-11e8-8ddb-a41f72875c19\"}, {\"name\": \"\\u5b9e\\u9645\\u4ea4\\u4ed8\\u65f6\\u95f4(\\u9ad8\\u5251)\", \"x\": [\"8\\u67083\\u5468\", \"9\\u67081\\u5468\", \"9\\u67082\\u5468\", \"9\\u67083\\u5468\", \"9\\u67084\\u5468\", \"10\\u67082\\u5468\"], \"y\": [null, null, 1.0, null, null, null], \"type\": \"bar\", \"uid\": \"438bb855-d1b2-11e8-8ddb-a41f72875c19\"}, {\"name\": \"\\u5b9e\\u9645\\u4ea4\\u4ed8\\u65f6\\u95f4(\\u51af\\u656c\\u5ca9)\", \"x\": [\"8\\u67083\\u5468\", \"9\\u67081\\u5468\", \"9\\u67082\\u5468\", \"9\\u67083\\u5468\", \"9\\u67084\\u5468\", \"10\\u67082\\u5468\"], \"y\": [null, 2.0, 1.0, 1.0, 5.0, 4.0], \"type\": \"bar\", \"uid\": \"438bb856-d1b2-11e8-8ddb-a41f72875c19\"}, {\"name\": \"\\u5b9e\\u9645\\u4ea4\\u4ed8\\u65f6\\u95f4(\\u59da\\u76df\\u6210)\", \"x\": [\"8\\u67083\\u5468\", \"9\\u67081\\u5468\", \"9\\u67082\\u5468\", \"9\\u67083\\u5468\", \"9\\u67084\\u5468\", \"10\\u67082\\u5468\"], \"y\": [null, null, 1.0, null, null, 1.0], \"type\": \"bar\", \"uid\": \"438bb857-d1b2-11e8-8ddb-a41f72875c19\"}, {\"name\": \"\\u5b9e\\u9645\\u4ea4\\u4ed8\\u65f6\\u95f4(\\u6bb5\\u5229\\u5f3a)\", \"x\": [\"8\\u67083\\u5468\", \"9\\u67081\\u5468\", \"9\\u67082\\u5468\", \"9\\u67083\\u5468\", \"9\\u67084\\u5468\", \"10\\u67082\\u5468\"], \"y\": [null, null, 1.0, 5.0, null, null], \"type\": \"bar\", \"uid\": \"438bb858-d1b2-11e8-8ddb-a41f72875c19\"}, {\"name\": \"\\u5b9e\\u9645\\u4ea4\\u4ed8\\u65f6\\u95f4(\\u6768\\u5b87)\", \"x\": [\"8\\u67083\\u5468\", \"9\\u67081\\u5468\", \"9\\u67082\\u5468\", \"9\\u67083\\u5468\", \"9\\u67084\\u5468\", \"10\\u67082\\u5468\"], \"y\": [null, null, 1.0, 7.0, null, 1.0], \"type\": \"bar\", \"uid\": \"438bb859-d1b2-11e8-8ddb-a41f72875c19\"}, {\"name\": \"\\u5b9e\\u9645\\u4ea4\\u4ed8\\u65f6\\u95f4(\\u6797\\u6587\\u6587)\", \"x\": [\"8\\u67083\\u5468\", \"9\\u67081\\u5468\", \"9\\u67082\\u5468\", \"9\\u67083\\u5468\", \"9\\u67084\\u5468\", \"10\\u67082\\u5468\"], \"y\": [null, null, null, 1.0, 1.0, null], \"type\": \"bar\", \"uid\": \"438bb85a-d1b2-11e8-8ddb-a41f72875c19\"}, {\"name\": \"\\u5b9e\\u9645\\u4ea4\\u4ed8\\u65f6\\u95f4(\\u5218\\u68a6\\u82d1)\", \"x\": [\"8\\u67083\\u5468\", \"9\\u67081\\u5468\", \"9\\u67082\\u5468\", \"9\\u67083\\u5468\", \"9\\u67084\\u5468\", \"10\\u67082\\u5468\"], \"y\": [null, 1.0, 1.0, 2.0, 2.0, 4.0], \"type\": \"bar\", \"uid\": \"438bb85b-d1b2-11e8-8ddb-a41f72875c19\"}, {\"name\": \"\\u5b9e\\u9645\\u4ea4\\u4ed8\\u65f6\\u95f4(\\u5360\\u4f1f)\", \"x\": [\"8\\u67083\\u5468\", \"9\\u67081\\u5468\", \"9\\u67082\\u5468\", \"9\\u67083\\u5468\", \"9\\u67084\\u5468\", \"10\\u67082\\u5468\"], \"y\": [null, null, null, 1.0, 1.0, null], \"type\": \"bar\", \"uid\": \"438bb85c-d1b2-11e8-8ddb-a41f72875c19\"}, {\"name\": \"\\u5b9e\\u9645\\u4ea4\\u4ed8\\u65f6\\u95f4(\\u6636\\u5409\\u9633)\", \"x\": [\"8\\u67083\\u5468\", \"9\\u67081\\u5468\", \"9\\u67082\\u5468\", \"9\\u67083\\u5468\", \"9\\u67084\\u5468\", \"10\\u67082\\u5468\"], \"y\": [null, 1.0, null, 2.0, null, 2.0], \"type\": \"bar\", \"uid\": \"438bb85d-d1b2-11e8-8ddb-a41f72875c19\"}, {\"name\": \"\\u5b9e\\u9645\\u4ea4\\u4ed8\\u65f6\\u95f4(\\u5218\\u6c38\\u5f3a)\", \"x\": [\"8\\u67083\\u5468\", \"9\\u67081\\u5468\", \"9\\u67082\\u5468\", \"9\\u67083\\u5468\", \"9\\u67084\\u5468\", \"10\\u67082\\u5468\"], \"y\": [null, 1.0, null, null, null, 1.0], \"type\": \"bar\", \"uid\": \"438bb85e-d1b2-11e8-8ddb-a41f72875c19\"}, {\"name\": \"\\u5b9e\\u9645\\u4ea4\\u4ed8\\u65f6\\u95f4(\\u5b8b\\u5c11\\u5b87)\", \"x\": [\"8\\u67083\\u5468\", \"9\\u67081\\u5468\", \"9\\u67082\\u5468\", \"9\\u67083\\u5468\", \"9\\u67084\\u5468\", \"10\\u67082\\u5468\"], \"y\": [null, 1.0, null, null, null, null], \"type\": \"bar\", \"uid\": \"438bb85f-d1b2-11e8-8ddb-a41f72875c19\"}, {\"name\": \"\\u5b9e\\u9645\\u4ea4\\u4ed8\\u65f6\\u95f4(\\u9648\\u78a7\\u96ef)\", \"x\": [\"8\\u67083\\u5468\", \"9\\u67081\\u5468\", \"9\\u67082\\u5468\", \"9\\u67083\\u5468\", \"9\\u67084\\u5468\", \"10\\u67082\\u5468\"], \"y\": [null, null, 4.0, 3.0, 1.0, 2.0], \"type\": \"bar\", \"uid\": \"438bb860-d1b2-11e8-8ddb-a41f72875c19\"}, {\"name\": \"\\u5b9e\\u9645\\u4ea4\\u4ed8\\u65f6\\u95f4(\\u738b\\u971e)\", \"x\": [\"8\\u67083\\u5468\", \"9\\u67081\\u5468\", \"9\\u67082\\u5468\", \"9\\u67083\\u5468\", \"9\\u67084\\u5468\", \"10\\u67082\\u5468\"], \"y\": [null, 2.0, 1.0, 2.0, 2.0, 2.0], \"type\": \"bar\", \"uid\": \"438bb861-d1b2-11e8-8ddb-a41f72875c19\"}, {\"name\": \"\\u5b9e\\u9645\\u4ea4\\u4ed8\\u65f6\\u95f4(\\u51b7\\u96ea)\", \"x\": [\"8\\u67083\\u5468\", \"9\\u67081\\u5468\", \"9\\u67082\\u5468\", \"9\\u67083\\u5468\", \"9\\u67084\\u5468\", \"10\\u67082\\u5468\"], \"y\": [1.0, 1.0, 1.0, null, 3.0, null], \"type\": \"bar\", \"uid\": \"438bb862-d1b2-11e8-8ddb-a41f72875c19\"}, {\"name\": \"\\u5b9e\\u9645\\u4ea4\\u4ed8\\u65f6\\u95f4(\\u8d75\\u5029)\", \"x\": [\"8\\u67083\\u5468\", \"9\\u67081\\u5468\", \"9\\u67082\\u5468\", \"9\\u67083\\u5468\", \"9\\u67084\\u5468\", \"10\\u67082\\u5468\"], \"y\": [null, 1.0, 4.0, 5.0, 7.0, 3.0], \"type\": \"bar\", \"uid\": \"438bb863-d1b2-11e8-8ddb-a41f72875c19\"}, {\"name\": \"\\u5b9e\\u9645\\u4ea4\\u4ed8\\u65f6\\u95f4(\\u6c88\\u7acb\\u7fa4)\", \"x\": [\"8\\u67083\\u5468\", \"9\\u67081\\u5468\", \"9\\u67082\\u5468\", \"9\\u67083\\u5468\", \"9\\u67084\\u5468\", \"10\\u67082\\u5468\"], \"y\": [null, null, null, null, 1.0, null], \"type\": \"bar\", \"uid\": \"438bb864-d1b2-11e8-8ddb-a41f72875c19\"}, {\"name\": \"\\u5b9e\\u9645\\u4ea4\\u4ed8\\u65f6\\u95f4(\\u8303\\u65ed\\u5b81)\", \"x\": [\"8\\u67083\\u5468\", \"9\\u67081\\u5468\", \"9\\u67082\\u5468\", \"9\\u67083\\u5468\", \"9\\u67084\\u5468\", \"10\\u67082\\u5468\"], \"y\": [null, null, null, 1.0, null, null], \"type\": \"bar\", \"uid\": \"438bb865-d1b2-11e8-8ddb-a41f72875c19\"}, {\"name\": \"\\u5b9e\\u9645\\u4ea4\\u4ed8\\u65f6\\u95f4(\\u5c48\\u6602)\", \"x\": [\"8\\u67083\\u5468\", \"9\\u67081\\u5468\", \"9\\u67082\\u5468\", \"9\\u67083\\u5468\", \"9\\u67084\\u5468\", \"10\\u67082\\u5468\"], \"y\": [null, 1.0, null, null, 1.0, null], \"type\": \"bar\", \"uid\": \"438bb866-d1b2-11e8-8ddb-a41f72875c19\"}, {\"name\": \"\\u5b9e\\u9645\\u4ea4\\u4ed8\\u65f6\\u95f4(\\u4f55\\u80dc)\", \"x\": [\"8\\u67083\\u5468\", \"9\\u67081\\u5468\", \"9\\u67082\\u5468\", \"9\\u67083\\u5468\", \"9\\u67084\\u5468\", \"10\\u67082\\u5468\"], \"y\": [null, 2.0, 3.0, 2.0, 3.0, 2.0], \"type\": \"bar\", \"uid\": \"438bb867-d1b2-11e8-8ddb-a41f72875c19\"}, {\"name\": \"\\u5b9e\\u9645\\u4ea4\\u4ed8\\u65f6\\u95f4(\\u6c88\\u6069\\u60e0)\", \"x\": [\"8\\u67083\\u5468\", \"9\\u67081\\u5468\", \"9\\u67082\\u5468\", \"9\\u67083\\u5468\", \"9\\u67084\\u5468\", \"10\\u67082\\u5468\"], \"y\": [null, null, 1.0, null, 1.0, 1.0], \"type\": \"bar\", \"uid\": \"438bb868-d1b2-11e8-8ddb-a41f72875c19\"}, {\"name\": \"\\u5b9e\\u9645\\u4ea4\\u4ed8\\u65f6\\u95f4(\\u9a6c\\u6f47)\", \"x\": [\"8\\u67083\\u5468\", \"9\\u67081\\u5468\", \"9\\u67082\\u5468\", \"9\\u67083\\u5468\", \"9\\u67084\\u5468\", \"10\\u67082\\u5468\"], \"y\": [null, null, 2.0, 2.0, 2.0, 1.0], \"type\": \"bar\", \"uid\": \"438bb869-d1b2-11e8-8ddb-a41f72875c19\"}, {\"name\": \"\\u5b9e\\u9645\\u4ea4\\u4ed8\\u65f6\\u95f4(\\u5218\\u6c5f)\", \"x\": [\"8\\u67083\\u5468\", \"9\\u67081\\u5468\", \"9\\u67082\\u5468\", \"9\\u67083\\u5468\", \"9\\u67084\\u5468\", \"10\\u67082\\u5468\"], \"y\": [null, null, 2.0, 1.0, null, null], \"type\": \"bar\", \"uid\": \"438bb86a-d1b2-11e8-8ddb-a41f72875c19\"}, {\"name\": \"\\u5b9e\\u9645\\u4ea4\\u4ed8\\u65f6\\u95f4(\\u6768\\u4f1f\\u98de)\", \"x\": [\"8\\u67083\\u5468\", \"9\\u67081\\u5468\", \"9\\u67082\\u5468\", \"9\\u67083\\u5468\", \"9\\u67084\\u5468\", \"10\\u67082\\u5468\"], \"y\": [null, 1.0, 2.0, null, null, null], \"type\": \"bar\", \"uid\": \"438bb86b-d1b2-11e8-8ddb-a41f72875c19\"}, {\"name\": \"\\u5b9e\\u9645\\u4ea4\\u4ed8\\u65f6\\u95f4(\\u4e8e\\u52c7\\u4e00)\", \"x\": [\"8\\u67083\\u5468\", \"9\\u67081\\u5468\", \"9\\u67082\\u5468\", \"9\\u67083\\u5468\", \"9\\u67084\\u5468\", \"10\\u67082\\u5468\"], \"y\": [null, null, null, null, 1.0, null], \"type\": \"bar\", \"uid\": \"438bb86c-d1b2-11e8-8ddb-a41f72875c19\"}, {\"name\": \"\\u5b9e\\u9645\\u4ea4\\u4ed8\\u65f6\\u95f4(\\u8f66\\u5929\\u680b)\", \"x\": [\"8\\u67083\\u5468\", \"9\\u67081\\u5468\", \"9\\u67082\\u5468\", \"9\\u67083\\u5468\", \"9\\u67084\\u5468\", \"10\\u67082\\u5468\"], \"y\": [null, null, 1.0, null, 1.0, null], \"type\": \"bar\", \"uid\": \"438bb86d-d1b2-11e8-8ddb-a41f72875c19\"}, {\"name\": \"\\u5b9e\\u9645\\u4ea4\\u4ed8\\u65f6\\u95f4(\\u674e\\u534e\\u4e91)\", \"x\": [\"8\\u67083\\u5468\", \"9\\u67081\\u5468\", \"9\\u67082\\u5468\", \"9\\u67083\\u5468\", \"9\\u67084\\u5468\", \"10\\u67082\\u5468\"], \"y\": [null, null, null, 1.0, 1.0, null], \"type\": \"bar\", \"uid\": \"438bb86e-d1b2-11e8-8ddb-a41f72875c19\"}, {\"name\": \"\\u5b9e\\u9645\\u4ea4\\u4ed8\\u65f6\\u95f4(\\u9648\\u9e4f\\u71d5)\", \"x\": [\"8\\u67083\\u5468\", \"9\\u67081\\u5468\", \"9\\u67082\\u5468\", \"9\\u67083\\u5468\", \"9\\u67084\\u5468\", \"10\\u67082\\u5468\"], \"y\": [null, 1.0, 2.0, 4.0, 4.0, null], \"type\": \"bar\", \"uid\": \"438bb86f-d1b2-11e8-8ddb-a41f72875c19\"}, {\"name\": \"\\u5b9e\\u9645\\u4ea4\\u4ed8\\u65f6\\u95f4(\\u95fb\\u5c11\\u6960)\", \"x\": [\"8\\u67083\\u5468\", \"9\\u67081\\u5468\", \"9\\u67082\\u5468\", \"9\\u67083\\u5468\", \"9\\u67084\\u5468\", \"10\\u67082\\u5468\"], \"y\": [null, null, null, 2.0, 2.0, 2.0], \"type\": \"bar\", \"uid\": \"438bb870-d1b2-11e8-8ddb-a41f72875c19\"}], {\"barmode\": \"stack\", \"title\": \"\\u5b9e\\u9645\\u4ea4\\u4ed8\\u65f6\\u95f4\\u5468\\u8d8b\\u52bf\\u56fe\", \"xaxis\": {\"mirror\": \"all\", \"nticks\": 20, \"showgrid\": true, \"showline\": true, \"title\": \"\\u5468\", \"zeroline\": true}, \"yaxis\": {\"mirror\": \"all\", \"nticks\": 20, \"showgrid\": true, \"showline\": true, \"title\": \"\\u5b9e\\u9645\\u4ea4\\u4ed8\\u65f6\\u95f4\", \"zeroline\": true}}, {\"showLink\": true, \"linkText\": \"Export to plot.ly\"})});</script>"
      ]
     },
     "metadata": {},
     "output_type": "display_data"
    }
   ],
   "source": [
    "ss = myModule.format(df4 ,'week_number' ,['实际交付时间'])\n",
    "ss.add_group('信息负责人')\n",
    "pp = myModule.sort_by_index(ss.groupby('count'))\n",
    "myModule.myPlot(pp).plot('stack_bar')"
   ]
  },
  {
   "cell_type": "markdown",
   "metadata": {},
   "source": [
    "## 完成周期统计"
   ]
  },
  {
   "cell_type": "markdown",
   "metadata": {},
   "source": [
    "### 整体完成周期趋势图"
   ]
  },
  {
   "cell_type": "code",
   "execution_count": 58,
   "metadata": {
    "collapsed": false,
    "scrolled": true
   },
   "outputs": [
    {
     "data": {
      "application/vnd.plotly.v1+json": {
       "data": [
        {
         "name": "实际周期",
         "type": "scatter",
         "uid": "438bb871-d1b2-11e8-8ddb-a41f72875c19",
         "x": [
          "8月3周",
          "9月1周",
          "9月2周",
          "9月3周",
          "9月4周",
          "10月2周"
         ],
         "y": [
          -31,
          2.1176470588235294,
          4.742857142857143,
          4.212765957446808,
          4.622222222222222,
          5.885714285714286
         ]
        }
       ],
       "layout": {
        "title": "实际周期周趋势图",
        "xaxis": {
         "mirror": "all",
         "nticks": 20,
         "showgrid": true,
         "showline": true,
         "title": "周",
         "zeroline": true
        },
        "yaxis": {
         "mirror": "all",
         "nticks": 20,
         "showgrid": true,
         "showline": true,
         "title": "实际周期",
         "zeroline": true
        }
       }
      },
      "text/html": [
       "<div id=\"6023a8d9-dfdf-47a8-b5f7-e5d58bd9c27c\" style=\"height: 525px; width: 100%;\" class=\"plotly-graph-div\"></div><script type=\"text/javascript\">require([\"plotly\"], function(Plotly) { window.PLOTLYENV=window.PLOTLYENV || {};window.PLOTLYENV.BASE_URL=\"https://plot.ly\";Plotly.newPlot(\"6023a8d9-dfdf-47a8-b5f7-e5d58bd9c27c\", [{\"name\": \"\\u5b9e\\u9645\\u5468\\u671f\", \"x\": [\"8\\u67083\\u5468\", \"9\\u67081\\u5468\", \"9\\u67082\\u5468\", \"9\\u67083\\u5468\", \"9\\u67084\\u5468\", \"10\\u67082\\u5468\"], \"y\": [-31.0, 2.1176470588235294, 4.742857142857143, 4.212765957446808, 4.622222222222222, 5.885714285714286], \"type\": \"scatter\", \"uid\": \"438bb871-d1b2-11e8-8ddb-a41f72875c19\"}], {\"title\": \"\\u5b9e\\u9645\\u5468\\u671f\\u5468\\u8d8b\\u52bf\\u56fe\", \"xaxis\": {\"mirror\": \"all\", \"nticks\": 20, \"showgrid\": true, \"showline\": true, \"title\": \"\\u5468\", \"zeroline\": true}, \"yaxis\": {\"mirror\": \"all\", \"nticks\": 20, \"showgrid\": true, \"showline\": true, \"title\": \"\\u5b9e\\u9645\\u5468\\u671f\", \"zeroline\": true}}, {\"showLink\": true, \"linkText\": \"Export to plot.ly\"})});</script>"
      ],
      "text/vnd.plotly.v1+html": [
       "<div id=\"6023a8d9-dfdf-47a8-b5f7-e5d58bd9c27c\" style=\"height: 525px; width: 100%;\" class=\"plotly-graph-div\"></div><script type=\"text/javascript\">require([\"plotly\"], function(Plotly) { window.PLOTLYENV=window.PLOTLYENV || {};window.PLOTLYENV.BASE_URL=\"https://plot.ly\";Plotly.newPlot(\"6023a8d9-dfdf-47a8-b5f7-e5d58bd9c27c\", [{\"name\": \"\\u5b9e\\u9645\\u5468\\u671f\", \"x\": [\"8\\u67083\\u5468\", \"9\\u67081\\u5468\", \"9\\u67082\\u5468\", \"9\\u67083\\u5468\", \"9\\u67084\\u5468\", \"10\\u67082\\u5468\"], \"y\": [-31.0, 2.1176470588235294, 4.742857142857143, 4.212765957446808, 4.622222222222222, 5.885714285714286], \"type\": \"scatter\", \"uid\": \"438bb871-d1b2-11e8-8ddb-a41f72875c19\"}], {\"title\": \"\\u5b9e\\u9645\\u5468\\u671f\\u5468\\u8d8b\\u52bf\\u56fe\", \"xaxis\": {\"mirror\": \"all\", \"nticks\": 20, \"showgrid\": true, \"showline\": true, \"title\": \"\\u5468\", \"zeroline\": true}, \"yaxis\": {\"mirror\": \"all\", \"nticks\": 20, \"showgrid\": true, \"showline\": true, \"title\": \"\\u5b9e\\u9645\\u5468\\u671f\", \"zeroline\": true}}, {\"showLink\": true, \"linkText\": \"Export to plot.ly\"})});</script>"
      ]
     },
     "metadata": {},
     "output_type": "display_data"
    }
   ],
   "source": [
    "# 实际完成平均周期，建议添加最长完成周期、25%、50%、80%项目完成周期的指标\n",
    "ss = myModule.format(df4 ,'week_number' ,['实际周期'])\n",
    "pp = myModule.sort_by_index(ss.groupby('mean'))\n",
    "myModule.myPlot(pp).plot('line')"
   ]
  },
  {
   "cell_type": "markdown",
   "metadata": {},
   "source": [
    "### 个人完成周期统计"
   ]
  },
  {
   "cell_type": "code",
   "execution_count": 59,
   "metadata": {
    "collapsed": false,
    "scrolled": true
   },
   "outputs": [
    {
     "data": {
      "application/vnd.plotly.v1+json": {
       "data": [
        {
         "name": "实际周期",
         "type": "bar",
         "uid": "438bb872-d1b2-11e8-8ddb-a41f72875c19",
         "x": [
          "何胜",
          "冯敬岩",
          "刘梦苑",
          "刘永强",
          "宋少宇",
          "朱慧萍",
          "杨宇",
          "王霞",
          "解飞",
          "赵倩",
          "闻少楠",
          "陈碧雯"
         ],
         "y": [
          3.5,
          4.230769230769231,
          2.8,
          10,
          1,
          4.1875,
          4,
          3.7777777777777777,
          6.5,
          5.6,
          3,
          4.7
         ]
        }
       ],
       "layout": {
        "title": "实际周期周趋势图",
        "xaxis": {
         "mirror": "all",
         "nticks": 20,
         "showgrid": true,
         "showline": true,
         "title": "周",
         "zeroline": true
        },
        "yaxis": {
         "mirror": "all",
         "nticks": 20,
         "showgrid": true,
         "showline": true,
         "title": "实际周期",
         "zeroline": true
        }
       }
      },
      "text/html": [
       "<div id=\"3a14e7fc-8f18-4fbb-8214-bf53b6d0cfdb\" style=\"height: 525px; width: 100%;\" class=\"plotly-graph-div\"></div><script type=\"text/javascript\">require([\"plotly\"], function(Plotly) { window.PLOTLYENV=window.PLOTLYENV || {};window.PLOTLYENV.BASE_URL=\"https://plot.ly\";Plotly.newPlot(\"3a14e7fc-8f18-4fbb-8214-bf53b6d0cfdb\", [{\"name\": \"\\u5b9e\\u9645\\u5468\\u671f\", \"x\": [\"\\u4f55\\u80dc\", \"\\u51af\\u656c\\u5ca9\", \"\\u5218\\u68a6\\u82d1\", \"\\u5218\\u6c38\\u5f3a\", \"\\u5b8b\\u5c11\\u5b87\", \"\\u6731\\u6167\\u840d\", \"\\u6768\\u5b87\", \"\\u738b\\u971e\", \"\\u89e3\\u98de\", \"\\u8d75\\u5029\", \"\\u95fb\\u5c11\\u6960\", \"\\u9648\\u78a7\\u96ef\"], \"y\": [3.5, 4.230769230769231, 2.8, 10.0, 1.0, 4.1875, 4.0, 3.7777777777777777, 6.5, 5.6, 3.0, 4.7], \"type\": \"bar\", \"uid\": \"438bb872-d1b2-11e8-8ddb-a41f72875c19\"}], {\"title\": \"\\u5b9e\\u9645\\u5468\\u671f\\u5468\\u8d8b\\u52bf\\u56fe\", \"xaxis\": {\"mirror\": \"all\", \"nticks\": 20, \"showgrid\": true, \"showline\": true, \"title\": \"\\u5468\", \"zeroline\": true}, \"yaxis\": {\"mirror\": \"all\", \"nticks\": 20, \"showgrid\": true, \"showline\": true, \"title\": \"\\u5b9e\\u9645\\u5468\\u671f\", \"zeroline\": true}}, {\"showLink\": true, \"linkText\": \"Export to plot.ly\"})});</script>"
      ],
      "text/vnd.plotly.v1+html": [
       "<div id=\"3a14e7fc-8f18-4fbb-8214-bf53b6d0cfdb\" style=\"height: 525px; width: 100%;\" class=\"plotly-graph-div\"></div><script type=\"text/javascript\">require([\"plotly\"], function(Plotly) { window.PLOTLYENV=window.PLOTLYENV || {};window.PLOTLYENV.BASE_URL=\"https://plot.ly\";Plotly.newPlot(\"3a14e7fc-8f18-4fbb-8214-bf53b6d0cfdb\", [{\"name\": \"\\u5b9e\\u9645\\u5468\\u671f\", \"x\": [\"\\u4f55\\u80dc\", \"\\u51af\\u656c\\u5ca9\", \"\\u5218\\u68a6\\u82d1\", \"\\u5218\\u6c38\\u5f3a\", \"\\u5b8b\\u5c11\\u5b87\", \"\\u6731\\u6167\\u840d\", \"\\u6768\\u5b87\", \"\\u738b\\u971e\", \"\\u89e3\\u98de\", \"\\u8d75\\u5029\", \"\\u95fb\\u5c11\\u6960\", \"\\u9648\\u78a7\\u96ef\"], \"y\": [3.5, 4.230769230769231, 2.8, 10.0, 1.0, 4.1875, 4.0, 3.7777777777777777, 6.5, 5.6, 3.0, 4.7], \"type\": \"bar\", \"uid\": \"438bb872-d1b2-11e8-8ddb-a41f72875c19\"}], {\"title\": \"\\u5b9e\\u9645\\u5468\\u671f\\u5468\\u8d8b\\u52bf\\u56fe\", \"xaxis\": {\"mirror\": \"all\", \"nticks\": 20, \"showgrid\": true, \"showline\": true, \"title\": \"\\u5468\", \"zeroline\": true}, \"yaxis\": {\"mirror\": \"all\", \"nticks\": 20, \"showgrid\": true, \"showline\": true, \"title\": \"\\u5b9e\\u9645\\u5468\\u671f\", \"zeroline\": true}}, {\"showLink\": true, \"linkText\": \"Export to plot.ly\"})});</script>"
      ]
     },
     "metadata": {},
     "output_type": "display_data"
    }
   ],
   "source": [
    "df4_fx = df4[df4['信息负责人'].isin(fenxi)] \n",
    "ss = myModule.format(df4_fx,'信息负责人' ,['实际周期'])\n",
    "pp = ss.groupby('mean')\n",
    "myModule.myPlot(pp).plot('bar')"
   ]
  },
  {
   "cell_type": "markdown",
   "metadata": {},
   "source": [
    "# 延期情况统计"
   ]
  },
  {
   "cell_type": "markdown",
   "metadata": {},
   "source": [
    "## 延期率趋势图"
   ]
  },
  {
   "cell_type": "code",
   "execution_count": 60,
   "metadata": {
    "collapsed": false,
    "scrolled": true
   },
   "outputs": [
    {
     "name": "stderr",
     "output_type": "stream",
     "text": [
      "/home/jiankong/jupyter/chart/bin/supplment_analysis/myModule.py:246: SettingWithCopyWarning:\n",
      "\n",
      "\n",
      "A value is trying to be set on a copy of a slice from a DataFrame.\n",
      "Try using .loc[row_indexer,col_indexer] = value instead\n",
      "\n",
      "See the caveats in the documentation: http://pandas.pydata.org/pandas-docs/stable/indexing.html#indexing-view-versus-copy\n",
      "\n",
      "/home/jiankong/anaconda3/lib/python3.6/site-packages/ipykernel/__main__.py:3: SettingWithCopyWarning:\n",
      "\n",
      "\n",
      "A value is trying to be set on a copy of a slice from a DataFrame.\n",
      "Try using .loc[row_indexer,col_indexer] = value instead\n",
      "\n",
      "See the caveats in the documentation: http://pandas.pydata.org/pandas-docs/stable/indexing.html#indexing-view-versus-copy\n",
      "\n",
      "/home/jiankong/anaconda3/lib/python3.6/site-packages/ipykernel/__main__.py:4: SettingWithCopyWarning:\n",
      "\n",
      "\n",
      "A value is trying to be set on a copy of a slice from a DataFrame.\n",
      "Try using .loc[row_indexer,col_indexer] = value instead\n",
      "\n",
      "See the caveats in the documentation: http://pandas.pydata.org/pandas-docs/stable/indexing.html#indexing-view-versus-copy\n",
      "\n"
     ]
    },
    {
     "data": {
      "application/vnd.plotly.v1+json": {
       "data": [
        {
         "name": "项目延期率",
         "type": "scatter",
         "uid": "438bb873-d1b2-11e8-8ddb-a41f72875c19",
         "x": [
          "9月1周",
          "9月2周",
          "9月3周",
          "9月4周",
          "10月2周",
          "10月3周"
         ],
         "y": [
          0,
          0,
          0.023809523809523808,
          0.034482758620689655,
          0.14705882352941177,
          0.5652173913043478
         ]
        }
       ],
       "layout": {
        "title": "项目延期率周趋势图",
        "xaxis": {
         "mirror": "all",
         "nticks": 20,
         "showgrid": true,
         "showline": true,
         "title": "周",
         "zeroline": true
        },
        "yaxis": {
         "mirror": "all",
         "nticks": 20,
         "showgrid": true,
         "showline": true,
         "title": "项目延期率",
         "zeroline": true
        }
       }
      },
      "text/html": [
       "<div id=\"b59fb601-9151-45bd-a5dd-a0d5a27d51ef\" style=\"height: 525px; width: 100%;\" class=\"plotly-graph-div\"></div><script type=\"text/javascript\">require([\"plotly\"], function(Plotly) { window.PLOTLYENV=window.PLOTLYENV || {};window.PLOTLYENV.BASE_URL=\"https://plot.ly\";Plotly.newPlot(\"b59fb601-9151-45bd-a5dd-a0d5a27d51ef\", [{\"name\": \"\\u9879\\u76ee\\u5ef6\\u671f\\u7387\", \"x\": [\"9\\u67081\\u5468\", \"9\\u67082\\u5468\", \"9\\u67083\\u5468\", \"9\\u67084\\u5468\", \"10\\u67082\\u5468\", \"10\\u67083\\u5468\"], \"y\": [0.0, 0.0, 0.023809523809523808, 0.034482758620689655, 0.14705882352941177, 0.5652173913043478], \"type\": \"scatter\", \"uid\": \"438bb873-d1b2-11e8-8ddb-a41f72875c19\"}], {\"title\": \"\\u9879\\u76ee\\u5ef6\\u671f\\u7387\\u5468\\u8d8b\\u52bf\\u56fe\", \"xaxis\": {\"mirror\": \"all\", \"nticks\": 20, \"showgrid\": true, \"showline\": true, \"title\": \"\\u5468\", \"zeroline\": true}, \"yaxis\": {\"mirror\": \"all\", \"nticks\": 20, \"showgrid\": true, \"showline\": true, \"title\": \"\\u9879\\u76ee\\u5ef6\\u671f\\u7387\", \"zeroline\": true}}, {\"showLink\": true, \"linkText\": \"Export to plot.ly\"})});</script>"
      ],
      "text/vnd.plotly.v1+html": [
       "<div id=\"b59fb601-9151-45bd-a5dd-a0d5a27d51ef\" style=\"height: 525px; width: 100%;\" class=\"plotly-graph-div\"></div><script type=\"text/javascript\">require([\"plotly\"], function(Plotly) { window.PLOTLYENV=window.PLOTLYENV || {};window.PLOTLYENV.BASE_URL=\"https://plot.ly\";Plotly.newPlot(\"b59fb601-9151-45bd-a5dd-a0d5a27d51ef\", [{\"name\": \"\\u9879\\u76ee\\u5ef6\\u671f\\u7387\", \"x\": [\"9\\u67081\\u5468\", \"9\\u67082\\u5468\", \"9\\u67083\\u5468\", \"9\\u67084\\u5468\", \"10\\u67082\\u5468\", \"10\\u67083\\u5468\"], \"y\": [0.0, 0.0, 0.023809523809523808, 0.034482758620689655, 0.14705882352941177, 0.5652173913043478], \"type\": \"scatter\", \"uid\": \"438bb873-d1b2-11e8-8ddb-a41f72875c19\"}], {\"title\": \"\\u9879\\u76ee\\u5ef6\\u671f\\u7387\\u5468\\u8d8b\\u52bf\\u56fe\", \"xaxis\": {\"mirror\": \"all\", \"nticks\": 20, \"showgrid\": true, \"showline\": true, \"title\": \"\\u5468\", \"zeroline\": true}, \"yaxis\": {\"mirror\": \"all\", \"nticks\": 20, \"showgrid\": true, \"showline\": true, \"title\": \"\\u9879\\u76ee\\u5ef6\\u671f\\u7387\", \"zeroline\": true}}, {\"showLink\": true, \"linkText\": \"Export to plot.ly\"})});</script>"
      ]
     },
     "metadata": {},
     "output_type": "display_data"
    }
   ],
   "source": [
    "ss = myModule.format(df5 ,'week_number' ,['流水号','延期天数'])\n",
    "ss.judge_and_replace('延期天数',1)\n",
    "ss.df['流水号'] = list(map(changetype2, ss.df['流水号']))\n",
    "ss.df['延期天数_bool'] = ss.df['延期天数_bool'].astype(int)      #bool类型装换为数值1/0\n",
    "pp = myModule.sort_by_index(ss.get_total_ratio([['项目延期率' ,'延期天数_bool' , '流水号','/']]))\n",
    "myModule.myPlot(pp).plot('line')"
   ]
  },
  {
   "cell_type": "markdown",
   "metadata": {},
   "source": [
    "## 延期项目列表"
   ]
  },
  {
   "cell_type": "code",
   "execution_count": 61,
   "metadata": {
    "collapsed": false
   },
   "outputs": [
    {
     "data": {
      "text/html": [
       "<div>\n",
       "<style scoped>\n",
       "    .dataframe tbody tr th:only-of-type {\n",
       "        vertical-align: middle;\n",
       "    }\n",
       "\n",
       "    .dataframe tbody tr th {\n",
       "        vertical-align: top;\n",
       "    }\n",
       "\n",
       "    .dataframe thead th {\n",
       "        text-align: right;\n",
       "    }\n",
       "</style>\n",
       "<table border=\"1\" class=\"dataframe\">\n",
       "  <thead>\n",
       "    <tr style=\"text-align: right;\">\n",
       "      <th></th>\n",
       "      <th>week_number</th>\n",
       "      <th>流水号</th>\n",
       "      <th>个性化分析名称</th>\n",
       "      <th>信息负责人</th>\n",
       "      <th>评估反馈时间</th>\n",
       "      <th>预计交付时间</th>\n",
       "      <th>实际交付时间</th>\n",
       "    </tr>\n",
       "  </thead>\n",
       "  <tbody>\n",
       "    <tr>\n",
       "      <th>178</th>\n",
       "      <td>10月2周</td>\n",
       "      <td>20180927-006</td>\n",
       "      <td>PM-ZJ180327-01浙医二院35个人普通转录组建库测序过滤任务单-快速产品-01</td>\n",
       "      <td>屈昂</td>\n",
       "      <td>2018-09-30</td>\n",
       "      <td>2018-10-14</td>\n",
       "      <td>0</td>\n",
       "    </tr>\n",
       "    <tr>\n",
       "      <th>217</th>\n",
       "      <td>10月2周</td>\n",
       "      <td>20181009-009</td>\n",
       "      <td>PM-YWJS180225-01徐州市中心医院20个大鼠粪便宏基因组建库测序过滤任务单-快速产品</td>\n",
       "      <td>冷雪</td>\n",
       "      <td>2018-10-09</td>\n",
       "      <td>2018-10-12</td>\n",
       "      <td>0</td>\n",
       "    </tr>\n",
       "    <tr>\n",
       "      <th>230</th>\n",
       "      <td>10月2周</td>\n",
       "      <td>20181010-003</td>\n",
       "      <td>BJ180998-02中药所1个药用动物S4基因组denovo只分析任务单-02</td>\n",
       "      <td>杨伟飞</td>\n",
       "      <td>2018-10-08</td>\n",
       "      <td>2018-10-12</td>\n",
       "      <td>0</td>\n",
       "    </tr>\n",
       "    <tr>\n",
       "      <th>105</th>\n",
       "      <td>10月2周</td>\n",
       "      <td>20180917-002</td>\n",
       "      <td>SN170011-04西北农林2个拟南芥样本4个HiC文库测序分析任务单-07</td>\n",
       "      <td>范旭宁</td>\n",
       "      <td>2018-09-17</td>\n",
       "      <td>2018-10-09</td>\n",
       "      <td>0</td>\n",
       "    </tr>\n",
       "    <tr>\n",
       "      <th>121</th>\n",
       "      <td>10月2周</td>\n",
       "      <td>20180919-008</td>\n",
       "      <td>ANHL160027东北师大水稻Hi-C-03</td>\n",
       "      <td>范旭宁</td>\n",
       "      <td>2018-09-20</td>\n",
       "      <td>2018-10-08</td>\n",
       "      <td>0</td>\n",
       "    </tr>\n",
       "  </tbody>\n",
       "</table>\n",
       "</div>"
      ],
      "text/plain": [
       "    week_number           流水号  \\\n",
       "178       10月2周  20180927-006   \n",
       "217       10月2周  20181009-009   \n",
       "230       10月2周  20181010-003   \n",
       "105       10月2周  20180917-002   \n",
       "121       10月2周  20180919-008   \n",
       "\n",
       "                                              个性化分析名称 信息负责人     评估反馈时间  \\\n",
       "178      PM-ZJ180327-01浙医二院35个人普通转录组建库测序过滤任务单-快速产品-01    屈昂 2018-09-30   \n",
       "217  PM-YWJS180225-01徐州市中心医院20个大鼠粪便宏基因组建库测序过滤任务单-快速产品    冷雪 2018-10-09   \n",
       "230          BJ180998-02中药所1个药用动物S4基因组denovo只分析任务单-02   杨伟飞 2018-10-08   \n",
       "105           SN170011-04西北农林2个拟南芥样本4个HiC文库测序分析任务单-07   范旭宁 2018-09-17   \n",
       "121                           ANHL160027东北师大水稻Hi-C-03   范旭宁 2018-09-20   \n",
       "\n",
       "        预计交付时间 实际交付时间  \n",
       "178 2018-10-14      0  \n",
       "217 2018-10-12      0  \n",
       "230 2018-10-12      0  \n",
       "105 2018-10-09      0  \n",
       "121 2018-10-08      0  "
      ]
     },
     "execution_count": 61,
     "metadata": {},
     "output_type": "execute_result"
    }
   ],
   "source": [
    "ss = myModule.format(df5,'week_number',['流水号','个性化分析名称','信息负责人','评估反馈时间','预计交付时间','实际交付时间','延期天数'])\n",
    "ss.select_by_value('week_number',stat_week)\n",
    "ss.judge_and_replace('延期天数',1)\n",
    "ss.select_by_value('延期天数_bool',True)\n",
    "tt = myModule.format(ss.df,'week_number',['流水号','个性化分析名称','信息负责人','评估反馈时间','预计交付时间','实际交付时间']).df\n",
    "tt.sort_values(by = '预计交付时间',axis = 0,ascending = False)"
   ]
  },
  {
   "cell_type": "markdown",
   "metadata": {},
   "source": [
    "# 7日完成率统计"
   ]
  },
  {
   "cell_type": "markdown",
   "metadata": {},
   "source": [
    "##  7日完成率趋势图"
   ]
  },
  {
   "cell_type": "code",
   "execution_count": 62,
   "metadata": {
    "collapsed": false,
    "scrolled": true
   },
   "outputs": [
    {
     "name": "stderr",
     "output_type": "stream",
     "text": [
      "/home/jiankong/jupyter/chart/bin/supplment_analysis/myModule.py:246: SettingWithCopyWarning:\n",
      "\n",
      "\n",
      "A value is trying to be set on a copy of a slice from a DataFrame.\n",
      "Try using .loc[row_indexer,col_indexer] = value instead\n",
      "\n",
      "See the caveats in the documentation: http://pandas.pydata.org/pandas-docs/stable/indexing.html#indexing-view-versus-copy\n",
      "\n",
      "/home/jiankong/anaconda3/lib/python3.6/site-packages/ipykernel/__main__.py:3: SettingWithCopyWarning:\n",
      "\n",
      "\n",
      "A value is trying to be set on a copy of a slice from a DataFrame.\n",
      "Try using .loc[row_indexer,col_indexer] = value instead\n",
      "\n",
      "See the caveats in the documentation: http://pandas.pydata.org/pandas-docs/stable/indexing.html#indexing-view-versus-copy\n",
      "\n",
      "/home/jiankong/anaconda3/lib/python3.6/site-packages/ipykernel/__main__.py:4: SettingWithCopyWarning:\n",
      "\n",
      "\n",
      "A value is trying to be set on a copy of a slice from a DataFrame.\n",
      "Try using .loc[row_indexer,col_indexer] = value instead\n",
      "\n",
      "See the caveats in the documentation: http://pandas.pydata.org/pandas-docs/stable/indexing.html#indexing-view-versus-copy\n",
      "\n"
     ]
    },
    {
     "data": {
      "application/vnd.plotly.v1+json": {
       "data": [
        {
         "name": "7日完成率",
         "type": "scatter",
         "uid": "438bb874-d1b2-11e8-8ddb-a41f72875c19",
         "x": [
          "8月3周",
          "9月1周",
          "9月2周",
          "9月3周",
          "9月4周",
          "10月2周"
         ],
         "y": [
          0,
          0,
          0.05714285714285714,
          0.0425531914893617,
          0.13333333333333333,
          0.37142857142857144
         ]
        }
       ],
       "layout": {
        "title": "7日完成率周趋势图",
        "xaxis": {
         "mirror": "all",
         "nticks": 20,
         "showgrid": true,
         "showline": true,
         "title": "周",
         "zeroline": true
        },
        "yaxis": {
         "mirror": "all",
         "nticks": 20,
         "showgrid": true,
         "showline": true,
         "title": "7日完成率",
         "zeroline": true
        }
       }
      },
      "text/html": [
       "<div id=\"80ac417e-a006-4704-808f-7a9db65ae5bd\" style=\"height: 525px; width: 100%;\" class=\"plotly-graph-div\"></div><script type=\"text/javascript\">require([\"plotly\"], function(Plotly) { window.PLOTLYENV=window.PLOTLYENV || {};window.PLOTLYENV.BASE_URL=\"https://plot.ly\";Plotly.newPlot(\"80ac417e-a006-4704-808f-7a9db65ae5bd\", [{\"name\": \"7\\u65e5\\u5b8c\\u6210\\u7387\", \"x\": [\"8\\u67083\\u5468\", \"9\\u67081\\u5468\", \"9\\u67082\\u5468\", \"9\\u67083\\u5468\", \"9\\u67084\\u5468\", \"10\\u67082\\u5468\"], \"y\": [0.0, 0.0, 0.05714285714285714, 0.0425531914893617, 0.13333333333333333, 0.37142857142857144], \"type\": \"scatter\", \"uid\": \"438bb874-d1b2-11e8-8ddb-a41f72875c19\"}], {\"title\": \"7\\u65e5\\u5b8c\\u6210\\u7387\\u5468\\u8d8b\\u52bf\\u56fe\", \"xaxis\": {\"mirror\": \"all\", \"nticks\": 20, \"showgrid\": true, \"showline\": true, \"title\": \"\\u5468\", \"zeroline\": true}, \"yaxis\": {\"mirror\": \"all\", \"nticks\": 20, \"showgrid\": true, \"showline\": true, \"title\": \"7\\u65e5\\u5b8c\\u6210\\u7387\", \"zeroline\": true}}, {\"showLink\": true, \"linkText\": \"Export to plot.ly\"})});</script>"
      ],
      "text/vnd.plotly.v1+html": [
       "<div id=\"80ac417e-a006-4704-808f-7a9db65ae5bd\" style=\"height: 525px; width: 100%;\" class=\"plotly-graph-div\"></div><script type=\"text/javascript\">require([\"plotly\"], function(Plotly) { window.PLOTLYENV=window.PLOTLYENV || {};window.PLOTLYENV.BASE_URL=\"https://plot.ly\";Plotly.newPlot(\"80ac417e-a006-4704-808f-7a9db65ae5bd\", [{\"name\": \"7\\u65e5\\u5b8c\\u6210\\u7387\", \"x\": [\"8\\u67083\\u5468\", \"9\\u67081\\u5468\", \"9\\u67082\\u5468\", \"9\\u67083\\u5468\", \"9\\u67084\\u5468\", \"10\\u67082\\u5468\"], \"y\": [0.0, 0.0, 0.05714285714285714, 0.0425531914893617, 0.13333333333333333, 0.37142857142857144], \"type\": \"scatter\", \"uid\": \"438bb874-d1b2-11e8-8ddb-a41f72875c19\"}], {\"title\": \"7\\u65e5\\u5b8c\\u6210\\u7387\\u5468\\u8d8b\\u52bf\\u56fe\", \"xaxis\": {\"mirror\": \"all\", \"nticks\": 20, \"showgrid\": true, \"showline\": true, \"title\": \"\\u5468\", \"zeroline\": true}, \"yaxis\": {\"mirror\": \"all\", \"nticks\": 20, \"showgrid\": true, \"showline\": true, \"title\": \"7\\u65e5\\u5b8c\\u6210\\u7387\", \"zeroline\": true}}, {\"showLink\": true, \"linkText\": \"Export to plot.ly\"})});</script>"
      ]
     },
     "metadata": {},
     "output_type": "display_data"
    }
   ],
   "source": [
    "ss = myModule.format(df4 ,'week_number' ,['流水号','实际周期'])\n",
    "ss.judge_and_replace('实际周期',7)   # 建议添加小于号\n",
    "ss.df['流水号'] = list(map(changetype2, ss.df['流水号']))\n",
    "ss.df['实际周期_bool'] = ss.df['实际周期_bool'].astype(int)      #bool类型装换为数值1/0\n",
    "pp = myModule.sort_by_index(ss.get_total_ratio([['7日完成率' ,'实际周期_bool' , '流水号','/']]))\n",
    "myModule.myPlot(pp).plot('line')"
   ]
  },
  {
   "cell_type": "markdown",
   "metadata": {
    "collapsed": true
   },
   "source": [
    "## 实际周期>7日项目列表"
   ]
  },
  {
   "cell_type": "code",
   "execution_count": 63,
   "metadata": {
    "collapsed": false,
    "scrolled": true
   },
   "outputs": [
    {
     "data": {
      "text/html": [
       "<div>\n",
       "<style scoped>\n",
       "    .dataframe tbody tr th:only-of-type {\n",
       "        vertical-align: middle;\n",
       "    }\n",
       "\n",
       "    .dataframe tbody tr th {\n",
       "        vertical-align: top;\n",
       "    }\n",
       "\n",
       "    .dataframe thead th {\n",
       "        text-align: right;\n",
       "    }\n",
       "</style>\n",
       "<table border=\"1\" class=\"dataframe\">\n",
       "  <thead>\n",
       "    <tr style=\"text-align: right;\">\n",
       "      <th></th>\n",
       "      <th>week_number</th>\n",
       "      <th>流水号</th>\n",
       "      <th>个性化分析名称</th>\n",
       "      <th>信息负责人</th>\n",
       "      <th>实际周期</th>\n",
       "    </tr>\n",
       "  </thead>\n",
       "  <tbody>\n",
       "    <tr>\n",
       "      <th>124</th>\n",
       "      <td>10月2周</td>\n",
       "      <td>20180920-003</td>\n",
       "      <td>PM-BJ170057-01、02/03北京蛋白质组研究中心4个小鼠10XGenomics文...</td>\n",
       "      <td>姚盟成</td>\n",
       "      <td>22</td>\n",
       "    </tr>\n",
       "    <tr>\n",
       "      <th>136</th>\n",
       "      <td>10月2周</td>\n",
       "      <td>20180921-007</td>\n",
       "      <td>BJ181222-02遗传所1个植物全长转录组只分析任务单-01</td>\n",
       "      <td>刘永强</td>\n",
       "      <td>16</td>\n",
       "    </tr>\n",
       "    <tr>\n",
       "      <th>179</th>\n",
       "      <td>10月2周</td>\n",
       "      <td>20180927-007</td>\n",
       "      <td>BJ180998-02中药所1个药用动物S4基因组denovo只分析任务单</td>\n",
       "      <td>马潇</td>\n",
       "      <td>14</td>\n",
       "    </tr>\n",
       "    <tr>\n",
       "      <th>172</th>\n",
       "      <td>10月2周</td>\n",
       "      <td>20180926-011</td>\n",
       "      <td>SD170144-04生物所24个爪蟾有参转录组建库测序分析任务单-05</td>\n",
       "      <td>陈碧雯</td>\n",
       "      <td>13</td>\n",
       "    </tr>\n",
       "    <tr>\n",
       "      <th>174</th>\n",
       "      <td>10月2周</td>\n",
       "      <td>20180927-002</td>\n",
       "      <td>.南通大学300个大鼠神经元单细胞lncRNA建库测序分析任务单-VIP-04</td>\n",
       "      <td>赵倩</td>\n",
       "      <td>13</td>\n",
       "    </tr>\n",
       "    <tr>\n",
       "      <th>169</th>\n",
       "      <td>10月2周</td>\n",
       "      <td>20180926-008</td>\n",
       "      <td>JL180047-01中国农业科学院特产研究所18个水貂单细胞无参转录组只分析任务单-02</td>\n",
       "      <td>何胜</td>\n",
       "      <td>12</td>\n",
       "    </tr>\n",
       "    <tr>\n",
       "      <th>175</th>\n",
       "      <td>10月2周</td>\n",
       "      <td>20180927-003</td>\n",
       "      <td>BJ170165-02中科院动物所10个小鼠单细胞甲基化建库任务单-04</td>\n",
       "      <td>韩少怀</td>\n",
       "      <td>12</td>\n",
       "    </tr>\n",
       "    <tr>\n",
       "      <th>193</th>\n",
       "      <td>10月2周</td>\n",
       "      <td>20180930-001</td>\n",
       "      <td>SD170077-01山东大学齐鲁医院王刚的6个人单基因病外显子建库测序分析任务单-01</td>\n",
       "      <td>解飞</td>\n",
       "      <td>12</td>\n",
       "    </tr>\n",
       "    <tr>\n",
       "      <th>159</th>\n",
       "      <td>10月2周</td>\n",
       "      <td>20180925-010</td>\n",
       "      <td>PM-YWHB180242-02华科协和医院1个人外显子建库测序分析任务单-快速产品-01</td>\n",
       "      <td>昶吉阳</td>\n",
       "      <td>11</td>\n",
       "    </tr>\n",
       "    <tr>\n",
       "      <th>185</th>\n",
       "      <td>10月2周</td>\n",
       "      <td>20180928-006</td>\n",
       "      <td>PM-BJ180911-01中国农业科学院北京畜牧所12个牛单细胞全转录组建库测序分析任务单...</td>\n",
       "      <td>冯敬岩</td>\n",
       "      <td>11</td>\n",
       "    </tr>\n",
       "    <tr>\n",
       "      <th>180</th>\n",
       "      <td>10月2周</td>\n",
       "      <td>20180928-001</td>\n",
       "      <td>PM-BJ180995-01中科院遗传所6个小鼠卵细胞单细胞转录组建库测序分析任务单-03</td>\n",
       "      <td>赵倩</td>\n",
       "      <td>10</td>\n",
       "    </tr>\n",
       "    <tr>\n",
       "      <th>187</th>\n",
       "      <td>10月2周</td>\n",
       "      <td>20180929-001</td>\n",
       "      <td>PM-BJ181079-02动物所32个小鼠ChIP-DNA建库测序分析任务单-01</td>\n",
       "      <td>昶吉阳</td>\n",
       "      <td>9</td>\n",
       "    </tr>\n",
       "    <tr>\n",
       "      <th>192</th>\n",
       "      <td>10月2周</td>\n",
       "      <td>20180929-007</td>\n",
       "      <td>PM-BJ181125-03阜外医院6个大鼠Bisulfite甲基化建库测序分析任务单-01</td>\n",
       "      <td>刘梦苑</td>\n",
       "      <td>9</td>\n",
       "    </tr>\n",
       "  </tbody>\n",
       "</table>\n",
       "</div>"
      ],
      "text/plain": [
       "    week_number           流水号  \\\n",
       "124       10月2周  20180920-003   \n",
       "136       10月2周  20180921-007   \n",
       "179       10月2周  20180927-007   \n",
       "172       10月2周  20180926-011   \n",
       "174       10月2周  20180927-002   \n",
       "169       10月2周  20180926-008   \n",
       "175       10月2周  20180927-003   \n",
       "193       10月2周  20180930-001   \n",
       "159       10月2周  20180925-010   \n",
       "185       10月2周  20180928-006   \n",
       "180       10月2周  20180928-001   \n",
       "187       10月2周  20180929-001   \n",
       "192       10月2周  20180929-007   \n",
       "\n",
       "                                               个性化分析名称 信息负责人  实际周期  \n",
       "124  PM-BJ170057-01、02/03北京蛋白质组研究中心4个小鼠10XGenomics文...   姚盟成    22  \n",
       "136                   BJ181222-02遗传所1个植物全长转录组只分析任务单-01   刘永强    16  \n",
       "179              BJ180998-02中药所1个药用动物S4基因组denovo只分析任务单    马潇    14  \n",
       "172               SD170144-04生物所24个爪蟾有参转录组建库测序分析任务单-05   陈碧雯    13  \n",
       "174            .南通大学300个大鼠神经元单细胞lncRNA建库测序分析任务单-VIP-04    赵倩    13  \n",
       "169      JL180047-01中国农业科学院特产研究所18个水貂单细胞无参转录组只分析任务单-02    何胜    12  \n",
       "175               BJ170165-02中科院动物所10个小鼠单细胞甲基化建库任务单-04   韩少怀    12  \n",
       "193       SD170077-01山东大学齐鲁医院王刚的6个人单基因病外显子建库测序分析任务单-01    解飞    12  \n",
       "159      PM-YWHB180242-02华科协和医院1个人外显子建库测序分析任务单-快速产品-01   昶吉阳    11  \n",
       "185  PM-BJ180911-01中国农业科学院北京畜牧所12个牛单细胞全转录组建库测序分析任务单...   冯敬岩    11  \n",
       "180      PM-BJ180995-01中科院遗传所6个小鼠卵细胞单细胞转录组建库测序分析任务单-03    赵倩    10  \n",
       "187         PM-BJ181079-02动物所32个小鼠ChIP-DNA建库测序分析任务单-01   昶吉阳     9  \n",
       "192     PM-BJ181125-03阜外医院6个大鼠Bisulfite甲基化建库测序分析任务单-01   刘梦苑     9  "
      ]
     },
     "execution_count": 63,
     "metadata": {},
     "output_type": "execute_result"
    }
   ],
   "source": [
    "ss = myModule.format(df4,'week_number',['流水号','个性化分析名称','信息负责人','实际周期'])\n",
    "ss.select_by_value('week_number',stat_week)\n",
    "ss.judge_and_replace('实际周期',7)\n",
    "ss.select_by_value('实际周期_bool',True)\n",
    "tt = myModule.format(ss.df,'week_number',['流水号','个性化分析名称','信息负责人','实际周期']).df\n",
    "tt.sort_values(by = '实际周期',axis = 0,ascending = False)   #预计周期从大到小排序"
   ]
  }
 ],
 "metadata": {
  "hide_input": false,
  "kernelspec": {
   "display_name": "Python 3",
   "language": "python",
   "name": "python3"
  },
  "language_info": {
   "codemirror_mode": {
    "name": "ipython",
    "version": 3
   },
   "file_extension": ".py",
   "mimetype": "text/x-python",
   "name": "python",
   "nbconvert_exporter": "python",
   "pygments_lexer": "ipython3",
   "version": "3.6.0"
  },
  "toc": {
   "base_numbering": 1,
   "nav_menu": {},
   "number_sections": true,
   "sideBar": true,
   "skip_h1_title": false,
   "title_cell": "Table of Contents",
   "title_sidebar": "Contents",
   "toc_cell": false,
   "toc_position": {
    "height": "calc(100% - 180px)",
    "left": "10px",
    "top": "150px",
    "width": "273px"
   },
   "toc_section_display": true,
   "toc_window_display": true
  }
 },
 "nbformat": 4,
 "nbformat_minor": 2
}
