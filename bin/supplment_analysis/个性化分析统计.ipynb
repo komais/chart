{
 "cells": [
  {
   "cell_type": "markdown",
   "metadata": {
    "collapsed": false
   },
   "source": [
    "%load_ext autoreload\n",
    "%autoreload 2"
   ]
  },
  {
   "cell_type": "code",
   "execution_count": 115,
   "metadata": {
    "collapsed": false
   },
   "outputs": [
    {
     "data": {
      "text/html": [
       "<script>requirejs.config({paths: { 'plotly': ['https://cdn.plot.ly/plotly-latest.min']},});if(!window.Plotly) {{require(['plotly'],function(plotly) {window.Plotly=plotly;});}}</script>"
      ],
      "text/vnd.plotly.v1+html": [
       "<script>requirejs.config({paths: { 'plotly': ['https://cdn.plot.ly/plotly-latest.min']},});if(!window.Plotly) {{require(['plotly'],function(plotly) {window.Plotly=plotly;});}}</script>"
      ]
     },
     "metadata": {},
     "output_type": "display_data"
    },
    {
     "data": {
      "text/html": [
       "<script>requirejs.config({paths: { 'plotly': ['https://cdn.plot.ly/plotly-latest.min']},});if(!window.Plotly) {{require(['plotly'],function(plotly) {window.Plotly=plotly;});}}</script>"
      ],
      "text/vnd.plotly.v1+html": [
       "<script>requirejs.config({paths: { 'plotly': ['https://cdn.plot.ly/plotly-latest.min']},});if(!window.Plotly) {{require(['plotly'],function(plotly) {window.Plotly=plotly;});}}</script>"
      ]
     },
     "metadata": {},
     "output_type": "display_data"
    }
   ],
   "source": [
    "import pandas as pd\n",
    "import numpy as np\n",
    "import sys\n",
    "sys.path.append('./')\n",
    "import xiadan_check\n",
    "import myModule\n",
    "import imp\n",
    "imp.reload(xiadan_check)\n",
    "imp.reload(myModule)\n",
    "import time"
   ]
  },
  {
   "cell_type": "code",
   "execution_count": 116,
   "metadata": {
    "collapsed": false
   },
   "outputs": [],
   "source": [
    "pathway = './'\n",
    "all_files  = xiadan_check.get_files(pathway, \"个性化汇总\",\"20181102-20181108\")   ##给路径\n",
    "df1  = xiadan_check.read_xlsx(all_files , 0 )## read all files sheet1"
   ]
  },
  {
   "cell_type": "code",
   "execution_count": 117,
   "metadata": {
    "collapsed": false
   },
   "outputs": [],
   "source": [
    "import datetime\n",
    "def changetype1(check_str):\n",
    "    value = 1 if type(check_str) == datetime.datetime else 0\n",
    "    return value\n",
    "def changetype2(check_str):\n",
    "    value = 0 if type(check_str) == datetime.datetime else 1\n",
    "    return value"
   ]
  },
  {
   "cell_type": "code",
   "execution_count": 118,
   "metadata": {
    "collapsed": false,
    "scrolled": true
   },
   "outputs": [
    {
     "name": "stderr",
     "output_type": "stream",
     "text": [
      "/home/jiankong/anaconda3/lib/python3.6/site-packages/ipykernel/__main__.py:15: SettingWithCopyWarning:\n",
      "\n",
      "\n",
      "A value is trying to be set on a copy of a slice from a DataFrame.\n",
      "Try using .loc[row_indexer,col_indexer] = value instead\n",
      "\n",
      "See the caveats in the documentation: http://pandas.pydata.org/pandas-docs/stable/indexing.html#indexing-view-versus-copy\n",
      "\n",
      "/home/jiankong/jupyter/chart/bin/supplment_analysis/myModule.py:89: SettingWithCopyWarning:\n",
      "\n",
      "\n",
      "A value is trying to be set on a copy of a slice from a DataFrame.\n",
      "Try using .loc[row_indexer,col_indexer] = value instead\n",
      "\n",
      "See the caveats in the documentation: http://pandas.pydata.org/pandas-docs/stable/indexing.html#indexing-view-versus-copy\n",
      "\n",
      "/home/jiankong/jupyter/chart/bin/supplment_analysis/myModule.py:133: SettingWithCopyWarning:\n",
      "\n",
      "\n",
      "A value is trying to be set on a copy of a slice from a DataFrame.\n",
      "Try using .loc[row_indexer,col_indexer] = value instead\n",
      "\n",
      "See the caveats in the documentation: http://pandas.pydata.org/pandas-docs/stable/indexing.html#indexing-view-versus-copy\n",
      "\n",
      "/home/jiankong/anaconda3/lib/python3.6/site-packages/ipykernel/__main__.py:22: SettingWithCopyWarning:\n",
      "\n",
      "\n",
      "A value is trying to be set on a copy of a slice from a DataFrame.\n",
      "Try using .loc[row_indexer,col_indexer] = value instead\n",
      "\n",
      "See the caveats in the documentation: http://pandas.pydata.org/pandas-docs/stable/indexing.html#indexing-view-versus-copy\n",
      "\n",
      "/home/jiankong/jupyter/chart/bin/supplment_analysis/myModule.py:121: SettingWithCopyWarning:\n",
      "\n",
      "\n",
      "A value is trying to be set on a copy of a slice from a DataFrame.\n",
      "Try using .loc[row_indexer,col_indexer] = value instead\n",
      "\n",
      "See the caveats in the documentation: http://pandas.pydata.org/pandas-docs/stable/indexing.html#indexing-view-versus-copy\n",
      "\n",
      "/home/jiankong/anaconda3/lib/python3.6/site-packages/ipykernel/__main__.py:29: SettingWithCopyWarning:\n",
      "\n",
      "\n",
      "A value is trying to be set on a copy of a slice from a DataFrame.\n",
      "Try using .loc[row_indexer,col_indexer] = value instead\n",
      "\n",
      "See the caveats in the documentation: http://pandas.pydata.org/pandas-docs/stable/indexing.html#indexing-view-versus-copy\n",
      "\n",
      "/home/jiankong/anaconda3/lib/python3.6/site-packages/ipykernel/__main__.py:30: SettingWithCopyWarning:\n",
      "\n",
      "\n",
      "A value is trying to be set on a copy of a slice from a DataFrame.\n",
      "Try using .loc[row_indexer,col_indexer] = value instead\n",
      "\n",
      "See the caveats in the documentation: http://pandas.pydata.org/pandas-docs/stable/indexing.html#indexing-view-versus-copy\n",
      "\n"
     ]
    }
   ],
   "source": [
    "date = pd.to_datetime(time.strftime('%Y-%m-%d',time.localtime(time.time())))\n",
    "stat_week = '11月1周'\n",
    "## df1:原始项目；\n",
    "## df2:有效反馈项目，即排除驳回、暂停、沟通中\n",
    "## df3:在线项目，基于df2\n",
    "## df4:完成项目，基于df2\n",
    "## df5:延期项目，基于df3中未交付延期、df4\n",
    "\n",
    "myModule.add_week(df1,'下单时间',4)                                              #以下单时间定义week_number\n",
    "myModule.upgrade_df(df1, [['反馈周期', ['首次评估反馈时间','下单时间'], '-']])     #增加“反馈周期”列\n",
    "tt = lambda x : getattr(x , 'days')                                            #更换“days”类型\n",
    "[myModule.retype(df1, i , tt) for i in ['反馈周期']] \n",
    "\n",
    "df2 = df1[df1['预计交付时间'].apply(lambda x: type(x) == datetime.datetime)]   #根据“预计交付时间”筛选有效反馈项目列表\n",
    "df2['预计交付时间'] = df2['预计交付时间'].apply(pd.to_datetime)                #转换时间类型\n",
    "myModule.upgrade_df(df2, [['预计周期', ['预计交付时间','开始执行时间'], '-']]) #增加“预计周期”列\n",
    "[myModule.retype(df2, i , tt) for i in ['预计周期']]                           #更换“days”类型\n",
    "\n",
    "df3 = df2[df2['实际交付时间'].apply(lambda x: x == 0)]                          #根据“实际交付时间”筛选在线项目列表\n",
    "\n",
    "df4 = df2[df2['实际交付时间'].apply(lambda x: type(x) == datetime.datetime)]    #根据“实际交付时间”筛选已交付项目列表\n",
    "df4['实际交付时间'] = df4['实际交付时间'].apply(pd.to_datetime)                 #转换时间类型\n",
    "myModule.upgrade_df(df4, [['实际周期', ['实际交付时间','开始执行时间'], '-'],   #增加“实际周期”、“延期天数”列\n",
    "                         ['延期天数',['实际交付时间','预计交付时间'], '-']])\n",
    "[myModule.retype(df4, i , tt) for i in ['实际周期','延期天数']]                 #更换“days”类型\n",
    "myModule.add_week(df4,'实际交付时间',4)                                         #以实际交付时间定义week_number\n",
    "\n",
    "tmp = df3[df3['预计交付时间'].apply(lambda x: date>x)]                          #未交付延期项目\n",
    "tmp['实际周期'] = 1000\n",
    "tmp['延期天数'] = 1000\n",
    "df5 = df4.append(tmp)\n",
    "myModule.add_week(df5,'预计交付时间',4)                                           #以预计交付时间定义week_number\n",
    "\n",
    "## 分析组人员列表\n",
    "fenxi = [\"施毓芷\",\"闻少楠\",\"杨宇\",\"刘永强\",\"刘梦苑\",\n",
    "         \"何胜\",\"陈碧雯\",\"王霞\",\"卢楠\",\n",
    "         \"冯敬岩\",\"朱慧萍\",\"赵倩\",\"解飞\",\"宋少宇\",\n",
    "         \"高剑\",\"林文文\",\"沈恩惠\",\"沈立群\",\"车天栋\",\"王传文\"]\n",
    "gxh = [\"冯敬岩\",\"朱慧萍\",\"赵倩\",\"解飞\",\"宋少宇\"]"
   ]
  },
  {
   "cell_type": "markdown",
   "metadata": {},
   "source": [
    "# 评估情况统计"
   ]
  },
  {
   "cell_type": "code",
   "execution_count": 119,
   "metadata": {
    "collapsed": false
   },
   "outputs": [
    {
     "data": {
      "text/html": [
       "<div>\n",
       "<style scoped>\n",
       "    .dataframe tbody tr th:only-of-type {\n",
       "        vertical-align: middle;\n",
       "    }\n",
       "\n",
       "    .dataframe tbody tr th {\n",
       "        vertical-align: top;\n",
       "    }\n",
       "\n",
       "    .dataframe thead th {\n",
       "        text-align: right;\n",
       "    }\n",
       "</style>\n",
       "<table border=\"1\" class=\"dataframe\">\n",
       "  <thead>\n",
       "    <tr style=\"text-align: right;\">\n",
       "      <th></th>\n",
       "      <th>序号</th>\n",
       "      <th>流水号</th>\n",
       "      <th>个性化分析名称</th>\n",
       "      <th>项目管理</th>\n",
       "      <th>接入时间</th>\n",
       "      <th>下单时间</th>\n",
       "      <th>信息负责人</th>\n",
       "      <th>首次评估反馈时间</th>\n",
       "      <th>开始执行时间</th>\n",
       "      <th>预计交付时间</th>\n",
       "      <th>数据迁回花费时间（天）</th>\n",
       "      <th>实际交付时间</th>\n",
       "      <th>评估人时（h）</th>\n",
       "      <th>评估机时(h)</th>\n",
       "      <th>是否在库里</th>\n",
       "      <th>库里周期（天）</th>\n",
       "      <th>项目管理交付时间</th>\n",
       "      <th>备注</th>\n",
       "      <th>week_number</th>\n",
       "      <th>反馈周期</th>\n",
       "    </tr>\n",
       "  </thead>\n",
       "  <tbody>\n",
       "    <tr>\n",
       "      <th>512</th>\n",
       "      <td>1477</td>\n",
       "      <td>20181109-012</td>\n",
       "      <td>GX170025-01广西大学一个白头叶猴基因组denovo只分析任务单-02</td>\n",
       "      <td>周娜</td>\n",
       "      <td>2018-11-09</td>\n",
       "      <td>2018-11-09</td>\n",
       "      <td>于勇一</td>\n",
       "      <td>2018-11-09</td>\n",
       "      <td>2018-11-09</td>\n",
       "      <td>0</td>\n",
       "      <td>0</td>\n",
       "      <td>0</td>\n",
       "      <td>0</td>\n",
       "      <td>0</td>\n",
       "      <td>0</td>\n",
       "      <td>0</td>\n",
       "      <td>0</td>\n",
       "      <td>0</td>\n",
       "      <td>11月2周</td>\n",
       "      <td>0</td>\n",
       "    </tr>\n",
       "    <tr>\n",
       "      <th>513</th>\n",
       "      <td>1478</td>\n",
       "      <td>20181109-013</td>\n",
       "      <td>SN170074-02陕西师范大学1个黄芩基因组三代数据组装进化只分析任务单-09</td>\n",
       "      <td>周娜</td>\n",
       "      <td>2018-11-09</td>\n",
       "      <td>2018-11-09</td>\n",
       "      <td>于勇一</td>\n",
       "      <td>2018-11-09</td>\n",
       "      <td>2018-11-09</td>\n",
       "      <td>0</td>\n",
       "      <td>0</td>\n",
       "      <td>0</td>\n",
       "      <td>0</td>\n",
       "      <td>0</td>\n",
       "      <td>0</td>\n",
       "      <td>0</td>\n",
       "      <td>0</td>\n",
       "      <td>0</td>\n",
       "      <td>11月2周</td>\n",
       "      <td>0</td>\n",
       "    </tr>\n",
       "    <tr>\n",
       "      <th>514</th>\n",
       "      <td>1479</td>\n",
       "      <td>20181109-014</td>\n",
       "      <td>SN170074-02陕西师范大学1个黄芩基因组三代数据组装进化只分析任务单-10</td>\n",
       "      <td>周娜</td>\n",
       "      <td>2018-11-09</td>\n",
       "      <td>2018-11-09</td>\n",
       "      <td>陈鹏燕</td>\n",
       "      <td>2018-11-09</td>\n",
       "      <td>2018-11-12</td>\n",
       "      <td>2018-11-16 00:00:00</td>\n",
       "      <td>0</td>\n",
       "      <td>0</td>\n",
       "      <td>0</td>\n",
       "      <td>0</td>\n",
       "      <td>0</td>\n",
       "      <td>0</td>\n",
       "      <td>0</td>\n",
       "      <td>0</td>\n",
       "      <td>11月2周</td>\n",
       "      <td>0</td>\n",
       "    </tr>\n",
       "    <tr>\n",
       "      <th>515</th>\n",
       "      <td>1480</td>\n",
       "      <td>20181109-015</td>\n",
       "      <td>PM-BJ170023-03协和医院12个人LncRNA建库测序分析任务单-01</td>\n",
       "      <td>黄超</td>\n",
       "      <td>2018-11-09</td>\n",
       "      <td>2018-11-09</td>\n",
       "      <td>王霞</td>\n",
       "      <td>2018-11-09</td>\n",
       "      <td>2018-11-12</td>\n",
       "      <td>2018-11-14 00:00:00</td>\n",
       "      <td>0</td>\n",
       "      <td>0</td>\n",
       "      <td>0</td>\n",
       "      <td>0</td>\n",
       "      <td>0</td>\n",
       "      <td>0</td>\n",
       "      <td>0</td>\n",
       "      <td>0</td>\n",
       "      <td>11月2周</td>\n",
       "      <td>0</td>\n",
       "    </tr>\n",
       "    <tr>\n",
       "      <th>516</th>\n",
       "      <td>1481</td>\n",
       "      <td>20181109-016</td>\n",
       "      <td>JS160050-01海南省农业科学院畜牧兽医研究所6个猪全基因组甲基化建库测序分析任务单-05</td>\n",
       "      <td>廖星吕</td>\n",
       "      <td>2018-11-09</td>\n",
       "      <td>2018-11-09</td>\n",
       "      <td>陈碧雯</td>\n",
       "      <td>2018-11-09</td>\n",
       "      <td>2018-11-09</td>\n",
       "      <td>0</td>\n",
       "      <td>0</td>\n",
       "      <td>0</td>\n",
       "      <td>0</td>\n",
       "      <td>0</td>\n",
       "      <td>0</td>\n",
       "      <td>0</td>\n",
       "      <td>0</td>\n",
       "      <td>0</td>\n",
       "      <td>11月2周</td>\n",
       "      <td>0</td>\n",
       "    </tr>\n",
       "  </tbody>\n",
       "</table>\n",
       "</div>"
      ],
      "text/plain": [
       "       序号           流水号                                           个性化分析名称  \\\n",
       "512  1477  20181109-012           GX170025-01广西大学一个白头叶猴基因组denovo只分析任务单-02   \n",
       "513  1478  20181109-013        SN170074-02陕西师范大学1个黄芩基因组三代数据组装进化只分析任务单-09    \n",
       "514  1479  20181109-014         SN170074-02陕西师范大学1个黄芩基因组三代数据组装进化只分析任务单-10   \n",
       "515  1480  20181109-015          PM-BJ170023-03协和医院12个人LncRNA建库测序分析任务单-01   \n",
       "516  1481  20181109-016  JS160050-01海南省农业科学院畜牧兽医研究所6个猪全基因组甲基化建库测序分析任务单-05   \n",
       "\n",
       "    项目管理       接入时间       下单时间 信息负责人   首次评估反馈时间     开始执行时间  \\\n",
       "512   周娜 2018-11-09 2018-11-09   于勇一 2018-11-09 2018-11-09   \n",
       "513   周娜 2018-11-09 2018-11-09   于勇一 2018-11-09 2018-11-09   \n",
       "514   周娜 2018-11-09 2018-11-09   陈鹏燕 2018-11-09 2018-11-12   \n",
       "515   黄超 2018-11-09 2018-11-09    王霞 2018-11-09 2018-11-12   \n",
       "516  廖星吕 2018-11-09 2018-11-09   陈碧雯 2018-11-09 2018-11-09   \n",
       "\n",
       "                  预计交付时间 数据迁回花费时间（天） 实际交付时间 评估人时（h） 评估机时(h) 是否在库里 库里周期（天）  \\\n",
       "512                    0           0      0       0       0     0       0   \n",
       "513                    0           0      0       0       0     0       0   \n",
       "514  2018-11-16 00:00:00           0      0       0       0     0       0   \n",
       "515  2018-11-14 00:00:00           0      0       0       0     0       0   \n",
       "516                    0           0      0       0       0     0       0   \n",
       "\n",
       "    项目管理交付时间 备注 week_number  反馈周期  \n",
       "512        0  0       11月2周     0  \n",
       "513        0  0       11月2周     0  \n",
       "514        0  0       11月2周     0  \n",
       "515        0  0       11月2周     0  \n",
       "516        0  0       11月2周     0  "
      ]
     },
     "execution_count": 119,
     "metadata": {},
     "output_type": "execute_result"
    }
   ],
   "source": [
    "df1.tail()"
   ]
  },
  {
   "cell_type": "markdown",
   "metadata": {},
   "source": [
    "## 接入项目数统计"
   ]
  },
  {
   "cell_type": "markdown",
   "metadata": {},
   "source": [
    "### 整体接入项目数趋势图"
   ]
  },
  {
   "cell_type": "code",
   "execution_count": 120,
   "metadata": {
    "collapsed": false,
    "scrolled": true
   },
   "outputs": [
    {
     "name": "stderr",
     "output_type": "stream",
     "text": [
      "/home/jiankong/anaconda3/lib/python3.6/site-packages/ipykernel/__main__.py:2: SettingWithCopyWarning:\n",
      "\n",
      "\n",
      "A value is trying to be set on a copy of a slice from a DataFrame.\n",
      "Try using .loc[row_indexer,col_indexer] = value instead\n",
      "\n",
      "See the caveats in the documentation: http://pandas.pydata.org/pandas-docs/stable/indexing.html#indexing-view-versus-copy\n",
      "\n",
      "/home/jiankong/anaconda3/lib/python3.6/site-packages/ipykernel/__main__.py:3: SettingWithCopyWarning:\n",
      "\n",
      "\n",
      "A value is trying to be set on a copy of a slice from a DataFrame.\n",
      "Try using .loc[row_indexer,col_indexer] = value instead\n",
      "\n",
      "See the caveats in the documentation: http://pandas.pydata.org/pandas-docs/stable/indexing.html#indexing-view-versus-copy\n",
      "\n",
      "/home/jiankong/anaconda3/lib/python3.6/site-packages/ipykernel/__main__.py:4: SettingWithCopyWarning:\n",
      "\n",
      "\n",
      "A value is trying to be set on a copy of a slice from a DataFrame.\n",
      "Try using .loc[row_indexer,col_indexer] = value instead\n",
      "\n",
      "See the caveats in the documentation: http://pandas.pydata.org/pandas-docs/stable/indexing.html#indexing-view-versus-copy\n",
      "\n"
     ]
    },
    {
     "data": {
      "application/vnd.plotly.v1+json": {
       "data": [
        {
         "name": "有效接入项目数",
         "type": "scatter",
         "uid": "91c51cfa-e625-11e8-8ddb-a41f72875c19",
         "x": [
          "8月5周",
          "9月1周",
          "9月2周",
          "9月3周",
          "9月4周",
          "10月1周",
          "10月2周",
          "10月3周",
          "10月4周",
          "11月1周",
          "11月2周"
         ],
         "y": [
          39,
          42,
          37,
          45,
          16,
          58,
          54,
          52,
          53,
          42,
          9
         ]
        },
        {
         "name": "驳回暂停沟通项目数",
         "type": "scatter",
         "uid": "91c51cfb-e625-11e8-8ddb-a41f72875c19",
         "x": [
          "8月5周",
          "9月1周",
          "9月2周",
          "9月3周",
          "9月4周",
          "10月1周",
          "10月2周",
          "10月3周",
          "10月4周",
          "11月1周",
          "11月2周"
         ],
         "y": [
          4,
          4,
          3,
          6,
          2,
          5,
          13,
          4,
          11,
          11,
          7
         ]
        },
        {
         "name": "接入项目数",
         "type": "scatter",
         "uid": "91c51cfc-e625-11e8-8ddb-a41f72875c19",
         "x": [
          "8月5周",
          "9月1周",
          "9月2周",
          "9月3周",
          "9月4周",
          "10月1周",
          "10月2周",
          "10月3周",
          "10月4周",
          "11月1周",
          "11月2周"
         ],
         "y": [
          43,
          46,
          40,
          51,
          18,
          63,
          67,
          56,
          64,
          53,
          16
         ]
        }
       ],
       "layout": {
        "title": "有效接入项目数&驳回暂停沟通项目数&接入项目数周趋势图",
        "xaxis": {
         "mirror": "all",
         "nticks": 20,
         "showgrid": true,
         "showline": true,
         "title": "周",
         "type": "category",
         "zeroline": true
        },
        "yaxis": {
         "mirror": "all",
         "nticks": 20,
         "showgrid": true,
         "showline": true,
         "title": "有效接入项目数&驳回暂停沟通项目数&接入项目数",
         "zeroline": true
        }
       }
      },
      "text/html": [
       "<div id=\"a7370f46-a680-473a-b3db-01529905443d\" style=\"height: 525px; width: 100%;\" class=\"plotly-graph-div\"></div><script type=\"text/javascript\">require([\"plotly\"], function(Plotly) { window.PLOTLYENV=window.PLOTLYENV || {};window.PLOTLYENV.BASE_URL=\"https://plot.ly\";Plotly.newPlot(\"a7370f46-a680-473a-b3db-01529905443d\", [{\"name\": \"\\u6709\\u6548\\u63a5\\u5165\\u9879\\u76ee\\u6570\", \"x\": [\"8\\u67085\\u5468\", \"9\\u67081\\u5468\", \"9\\u67082\\u5468\", \"9\\u67083\\u5468\", \"9\\u67084\\u5468\", \"10\\u67081\\u5468\", \"10\\u67082\\u5468\", \"10\\u67083\\u5468\", \"10\\u67084\\u5468\", \"11\\u67081\\u5468\", \"11\\u67082\\u5468\"], \"y\": [39, 42, 37, 45, 16, 58, 54, 52, 53, 42, 9], \"type\": \"scatter\", \"uid\": \"91c51cfa-e625-11e8-8ddb-a41f72875c19\"}, {\"name\": \"\\u9a73\\u56de\\u6682\\u505c\\u6c9f\\u901a\\u9879\\u76ee\\u6570\", \"x\": [\"8\\u67085\\u5468\", \"9\\u67081\\u5468\", \"9\\u67082\\u5468\", \"9\\u67083\\u5468\", \"9\\u67084\\u5468\", \"10\\u67081\\u5468\", \"10\\u67082\\u5468\", \"10\\u67083\\u5468\", \"10\\u67084\\u5468\", \"11\\u67081\\u5468\", \"11\\u67082\\u5468\"], \"y\": [4, 4, 3, 6, 2, 5, 13, 4, 11, 11, 7], \"type\": \"scatter\", \"uid\": \"91c51cfb-e625-11e8-8ddb-a41f72875c19\"}, {\"name\": \"\\u63a5\\u5165\\u9879\\u76ee\\u6570\", \"x\": [\"8\\u67085\\u5468\", \"9\\u67081\\u5468\", \"9\\u67082\\u5468\", \"9\\u67083\\u5468\", \"9\\u67084\\u5468\", \"10\\u67081\\u5468\", \"10\\u67082\\u5468\", \"10\\u67083\\u5468\", \"10\\u67084\\u5468\", \"11\\u67081\\u5468\", \"11\\u67082\\u5468\"], \"y\": [43, 46, 40, 51, 18, 63, 67, 56, 64, 53, 16], \"type\": \"scatter\", \"uid\": \"91c51cfc-e625-11e8-8ddb-a41f72875c19\"}], {\"title\": \"\\u6709\\u6548\\u63a5\\u5165\\u9879\\u76ee\\u6570&\\u9a73\\u56de\\u6682\\u505c\\u6c9f\\u901a\\u9879\\u76ee\\u6570&\\u63a5\\u5165\\u9879\\u76ee\\u6570\\u5468\\u8d8b\\u52bf\\u56fe\", \"xaxis\": {\"mirror\": \"all\", \"nticks\": 20, \"showgrid\": true, \"showline\": true, \"title\": \"\\u5468\", \"type\": \"category\", \"zeroline\": true}, \"yaxis\": {\"mirror\": \"all\", \"nticks\": 20, \"showgrid\": true, \"showline\": true, \"title\": \"\\u6709\\u6548\\u63a5\\u5165\\u9879\\u76ee\\u6570&\\u9a73\\u56de\\u6682\\u505c\\u6c9f\\u901a\\u9879\\u76ee\\u6570&\\u63a5\\u5165\\u9879\\u76ee\\u6570\", \"zeroline\": true}}, {\"showLink\": true, \"linkText\": \"Export to plot.ly\"})});</script>"
      ],
      "text/vnd.plotly.v1+html": [
       "<div id=\"a7370f46-a680-473a-b3db-01529905443d\" style=\"height: 525px; width: 100%;\" class=\"plotly-graph-div\"></div><script type=\"text/javascript\">require([\"plotly\"], function(Plotly) { window.PLOTLYENV=window.PLOTLYENV || {};window.PLOTLYENV.BASE_URL=\"https://plot.ly\";Plotly.newPlot(\"a7370f46-a680-473a-b3db-01529905443d\", [{\"name\": \"\\u6709\\u6548\\u63a5\\u5165\\u9879\\u76ee\\u6570\", \"x\": [\"8\\u67085\\u5468\", \"9\\u67081\\u5468\", \"9\\u67082\\u5468\", \"9\\u67083\\u5468\", \"9\\u67084\\u5468\", \"10\\u67081\\u5468\", \"10\\u67082\\u5468\", \"10\\u67083\\u5468\", \"10\\u67084\\u5468\", \"11\\u67081\\u5468\", \"11\\u67082\\u5468\"], \"y\": [39, 42, 37, 45, 16, 58, 54, 52, 53, 42, 9], \"type\": \"scatter\", \"uid\": \"91c51cfa-e625-11e8-8ddb-a41f72875c19\"}, {\"name\": \"\\u9a73\\u56de\\u6682\\u505c\\u6c9f\\u901a\\u9879\\u76ee\\u6570\", \"x\": [\"8\\u67085\\u5468\", \"9\\u67081\\u5468\", \"9\\u67082\\u5468\", \"9\\u67083\\u5468\", \"9\\u67084\\u5468\", \"10\\u67081\\u5468\", \"10\\u67082\\u5468\", \"10\\u67083\\u5468\", \"10\\u67084\\u5468\", \"11\\u67081\\u5468\", \"11\\u67082\\u5468\"], \"y\": [4, 4, 3, 6, 2, 5, 13, 4, 11, 11, 7], \"type\": \"scatter\", \"uid\": \"91c51cfb-e625-11e8-8ddb-a41f72875c19\"}, {\"name\": \"\\u63a5\\u5165\\u9879\\u76ee\\u6570\", \"x\": [\"8\\u67085\\u5468\", \"9\\u67081\\u5468\", \"9\\u67082\\u5468\", \"9\\u67083\\u5468\", \"9\\u67084\\u5468\", \"10\\u67081\\u5468\", \"10\\u67082\\u5468\", \"10\\u67083\\u5468\", \"10\\u67084\\u5468\", \"11\\u67081\\u5468\", \"11\\u67082\\u5468\"], \"y\": [43, 46, 40, 51, 18, 63, 67, 56, 64, 53, 16], \"type\": \"scatter\", \"uid\": \"91c51cfc-e625-11e8-8ddb-a41f72875c19\"}], {\"title\": \"\\u6709\\u6548\\u63a5\\u5165\\u9879\\u76ee\\u6570&\\u9a73\\u56de\\u6682\\u505c\\u6c9f\\u901a\\u9879\\u76ee\\u6570&\\u63a5\\u5165\\u9879\\u76ee\\u6570\\u5468\\u8d8b\\u52bf\\u56fe\", \"xaxis\": {\"mirror\": \"all\", \"nticks\": 20, \"showgrid\": true, \"showline\": true, \"title\": \"\\u5468\", \"type\": \"category\", \"zeroline\": true}, \"yaxis\": {\"mirror\": \"all\", \"nticks\": 20, \"showgrid\": true, \"showline\": true, \"title\": \"\\u6709\\u6548\\u63a5\\u5165\\u9879\\u76ee\\u6570&\\u9a73\\u56de\\u6682\\u505c\\u6c9f\\u901a\\u9879\\u76ee\\u6570&\\u63a5\\u5165\\u9879\\u76ee\\u6570\", \"zeroline\": true}}, {\"showLink\": true, \"linkText\": \"Export to plot.ly\"})});</script>"
      ]
     },
     "metadata": {},
     "output_type": "display_data"
    }
   ],
   "source": [
    "ss = myModule.format(df1,'week_number',['流水号','个性化分析名称','项目管理','下单时间','预计交付时间','备注'])\n",
    "ss.df['接入项目数'] = list(map(changetype2,ss.df['流水号']))\n",
    "ss.df['有效接入项目数'] = list(map(changetype1,ss.df['预计交付时间']))\n",
    "ss.df['驳回暂停沟通项目数'] = list(map(changetype2,ss.df['预计交付时间']))\n",
    "tt = myModule.format(ss.df,'week_number',['有效接入项目数','驳回暂停沟通项目数','接入项目数'])\n",
    "pp = myModule.sort_by_index(tt.groupby('sum'))\n",
    "myModule.myPlot(pp).plot('line')"
   ]
  },
  {
   "cell_type": "code",
   "execution_count": 121,
   "metadata": {
    "collapsed": false
   },
   "outputs": [
    {
     "name": "stderr",
     "output_type": "stream",
     "text": [
      "/home/jiankong/jupyter/chart/bin/supplment_analysis/myModule.py:253: SettingWithCopyWarning:\n",
      "\n",
      "\n",
      "A value is trying to be set on a copy of a slice from a DataFrame.\n",
      "Try using .loc[row_indexer,col_indexer] = value instead\n",
      "\n",
      "See the caveats in the documentation: http://pandas.pydata.org/pandas-docs/stable/indexing.html#indexing-view-versus-copy\n",
      "\n"
     ]
    },
    {
     "data": {
      "text/html": [
       "<div>\n",
       "<style scoped>\n",
       "    .dataframe tbody tr th:only-of-type {\n",
       "        vertical-align: middle;\n",
       "    }\n",
       "\n",
       "    .dataframe tbody tr th {\n",
       "        vertical-align: top;\n",
       "    }\n",
       "\n",
       "    .dataframe thead th {\n",
       "        text-align: right;\n",
       "    }\n",
       "</style>\n",
       "<table border=\"1\" class=\"dataframe\">\n",
       "  <thead>\n",
       "    <tr style=\"text-align: right;\">\n",
       "      <th></th>\n",
       "      <th>week_number</th>\n",
       "      <th>流水号</th>\n",
       "      <th>个性化分析名称</th>\n",
       "      <th>项目管理</th>\n",
       "      <th>下单时间</th>\n",
       "      <th>备注</th>\n",
       "    </tr>\n",
       "  </thead>\n",
       "  <tbody>\n",
       "    <tr>\n",
       "      <th>478</th>\n",
       "      <td>11月1周</td>\n",
       "      <td>20181107-001</td>\n",
       "      <td>SN170074-02陕西师范大学1个黄芩基因组三代数据组装进化只分析任务单-08</td>\n",
       "      <td>周娜</td>\n",
       "      <td>2018-11-07</td>\n",
       "      <td>沟通暂停</td>\n",
       "    </tr>\n",
       "    <tr>\n",
       "      <th>487</th>\n",
       "      <td>11月1周</td>\n",
       "      <td>20181108-002</td>\n",
       "      <td>BJ170145-03中国畜牧兽医学会164只鸡样WaferGen平台目标区域捕获建库测序及...</td>\n",
       "      <td>古艳芳</td>\n",
       "      <td>2018-11-08</td>\n",
       "      <td>未反馈</td>\n",
       "    </tr>\n",
       "    <tr>\n",
       "      <th>488</th>\n",
       "      <td>11月1周</td>\n",
       "      <td>20181108-003</td>\n",
       "      <td>PM-SD170191-02山东大学生殖医学研究中心1个人hic文库测序分析任务单-VIP-05</td>\n",
       "      <td>王含</td>\n",
       "      <td>2018-11-08</td>\n",
       "      <td>未反馈</td>\n",
       "    </tr>\n",
       "    <tr>\n",
       "      <th>489</th>\n",
       "      <td>11月1周</td>\n",
       "      <td>20181108-004</td>\n",
       "      <td>ANCCR180438北京莲和医学检验-01</td>\n",
       "      <td>黄凯兵</td>\n",
       "      <td>2018-11-08</td>\n",
       "      <td>驳回</td>\n",
       "    </tr>\n",
       "    <tr>\n",
       "      <th>494</th>\n",
       "      <td>11月1周</td>\n",
       "      <td>20181108-009</td>\n",
       "      <td>SD170144-01生物所24个爪蟾有参转录组建库测序分析任务单-07</td>\n",
       "      <td>王含</td>\n",
       "      <td>2018-11-08</td>\n",
       "      <td>沟通</td>\n",
       "    </tr>\n",
       "    <tr>\n",
       "      <th>495</th>\n",
       "      <td>11月1周</td>\n",
       "      <td>20181108-010</td>\n",
       "      <td>SD170144-02生物所24个爪蟾有参转录组建库测序分析任务单-05</td>\n",
       "      <td>王含</td>\n",
       "      <td>2018-11-08</td>\n",
       "      <td>沟通</td>\n",
       "    </tr>\n",
       "    <tr>\n",
       "      <th>496</th>\n",
       "      <td>11月1周</td>\n",
       "      <td>20181108-011</td>\n",
       "      <td>SD170144-03生物所24个爪蟾有参转录组建库测序分析任务单-06</td>\n",
       "      <td>王含</td>\n",
       "      <td>2018-11-08</td>\n",
       "      <td>沟通</td>\n",
       "    </tr>\n",
       "    <tr>\n",
       "      <th>497</th>\n",
       "      <td>11月1周</td>\n",
       "      <td>20181108-012</td>\n",
       "      <td>SD170144-04生物所24个爪蟾有参转录组建库测序分析任务单-06</td>\n",
       "      <td>王含</td>\n",
       "      <td>2018-11-08</td>\n",
       "      <td>沟通</td>\n",
       "    </tr>\n",
       "    <tr>\n",
       "      <th>498</th>\n",
       "      <td>11月1周</td>\n",
       "      <td>20181108-013</td>\n",
       "      <td>SD170144-05生物所24个爪蟾有参转录组建库测序分析任务单-05</td>\n",
       "      <td>王含</td>\n",
       "      <td>2018-11-08</td>\n",
       "      <td>沟通</td>\n",
       "    </tr>\n",
       "    <tr>\n",
       "      <th>499</th>\n",
       "      <td>11月1周</td>\n",
       "      <td>20181108-014</td>\n",
       "      <td>SD170144-06生物所24个爪蟾有参转录组建库测序分析任务单-05</td>\n",
       "      <td>王含</td>\n",
       "      <td>2018-11-08</td>\n",
       "      <td>沟通</td>\n",
       "    </tr>\n",
       "    <tr>\n",
       "      <th>500</th>\n",
       "      <td>11月1周</td>\n",
       "      <td>20181108-015</td>\n",
       "      <td>SD170144-07生物所24个爪蟾有参转录组建库测序分析任务单-05</td>\n",
       "      <td>王含</td>\n",
       "      <td>2018-11-08</td>\n",
       "      <td>沟通</td>\n",
       "    </tr>\n",
       "  </tbody>\n",
       "</table>\n",
       "</div>"
      ],
      "text/plain": [
       "    week_number           流水号  \\\n",
       "478       11月1周  20181107-001   \n",
       "487       11月1周  20181108-002   \n",
       "488       11月1周  20181108-003   \n",
       "489       11月1周  20181108-004   \n",
       "494       11月1周  20181108-009   \n",
       "495       11月1周  20181108-010   \n",
       "496       11月1周  20181108-011   \n",
       "497       11月1周  20181108-012   \n",
       "498       11月1周  20181108-013   \n",
       "499       11月1周  20181108-014   \n",
       "500       11月1周  20181108-015   \n",
       "\n",
       "                                               个性化分析名称 项目管理       下单时间    备注  \n",
       "478          SN170074-02陕西师范大学1个黄芩基因组三代数据组装进化只分析任务单-08   周娜 2018-11-07  沟通暂停  \n",
       "487  BJ170145-03中国畜牧兽医学会164只鸡样WaferGen平台目标区域捕获建库测序及...  古艳芳 2018-11-08   未反馈  \n",
       "488   PM-SD170191-02山东大学生殖医学研究中心1个人hic文库测序分析任务单-VIP-05   王含 2018-11-08   未反馈  \n",
       "489                             ANCCR180438北京莲和医学检验-01  黄凯兵 2018-11-08    驳回  \n",
       "494               SD170144-01生物所24个爪蟾有参转录组建库测序分析任务单-07   王含 2018-11-08    沟通  \n",
       "495               SD170144-02生物所24个爪蟾有参转录组建库测序分析任务单-05   王含 2018-11-08    沟通  \n",
       "496               SD170144-03生物所24个爪蟾有参转录组建库测序分析任务单-06   王含 2018-11-08    沟通  \n",
       "497               SD170144-04生物所24个爪蟾有参转录组建库测序分析任务单-06   王含 2018-11-08    沟通  \n",
       "498               SD170144-05生物所24个爪蟾有参转录组建库测序分析任务单-05   王含 2018-11-08    沟通  \n",
       "499               SD170144-06生物所24个爪蟾有参转录组建库测序分析任务单-05   王含 2018-11-08    沟通  \n",
       "500               SD170144-07生物所24个爪蟾有参转录组建库测序分析任务单-05   王含 2018-11-08    沟通  "
      ]
     },
     "execution_count": 121,
     "metadata": {},
     "output_type": "execute_result"
    }
   ],
   "source": [
    "ss.select_by_value('week_number',stat_week)\n",
    "ss.judge_and_replace('驳回暂停沟通项目数',0)\n",
    "ss.select_by_value('驳回暂停沟通项目数_bool',True)\n",
    "myModule.format(ss.df,'week_number',['流水号','个性化分析名称','项目管理','下单时间','备注']).df"
   ]
  },
  {
   "cell_type": "markdown",
   "metadata": {},
   "source": [
    "### 个人接入项目数分布图"
   ]
  },
  {
   "cell_type": "code",
   "execution_count": 122,
   "metadata": {
    "collapsed": false,
    "scrolled": true
   },
   "outputs": [
    {
     "data": {
      "application/vnd.plotly.v1+json": {
       "data": [
        {
         "name": "流水号(宋少宇)",
         "type": "bar",
         "uid": "91c51cfd-e625-11e8-8ddb-a41f72875c19",
         "x": [
          "8月5周",
          "9月1周",
          "9月2周",
          "9月3周",
          "9月4周",
          "10月1周",
          "10月2周",
          "10月3周",
          "10月4周",
          "11月1周",
          "11月2周"
         ],
         "y": [
          1,
          null,
          null,
          null,
          1,
          6,
          null,
          3,
          1,
          null,
          1
         ]
        },
        {
         "name": "流水号(闻少楠)",
         "type": "bar",
         "uid": "91c51cfe-e625-11e8-8ddb-a41f72875c19",
         "x": [
          "8月5周",
          "9月1周",
          "9月2周",
          "9月3周",
          "9月4周",
          "10月1周",
          "10月2周",
          "10月3周",
          "10月4周",
          "11月1周",
          "11月2周"
         ],
         "y": [
          null,
          1,
          1,
          2,
          null,
          4,
          3,
          1,
          2,
          1,
          null
         ]
        },
        {
         "name": "流水号(林文文)",
         "type": "bar",
         "uid": "91c51cff-e625-11e8-8ddb-a41f72875c19",
         "x": [
          "8月5周",
          "9月1周",
          "9月2周",
          "9月3周",
          "9月4周",
          "10月1周",
          "10月2周",
          "10月3周",
          "10月4周",
          "11月1周",
          "11月2周"
         ],
         "y": [
          null,
          1,
          null,
          3,
          null,
          null,
          null,
          1,
          null,
          2,
          1
         ]
        },
        {
         "name": "流水号(冯敬岩)",
         "type": "bar",
         "uid": "91c51d00-e625-11e8-8ddb-a41f72875c19",
         "x": [
          "8月5周",
          "9月1周",
          "9月2周",
          "9月3周",
          "9月4周",
          "10月1周",
          "10月2周",
          "10月3周",
          "10月4周",
          "11月1周",
          "11月2周"
         ],
         "y": [
          3,
          3,
          1,
          3,
          1,
          5,
          5,
          12,
          5,
          6,
          1
         ]
        },
        {
         "name": "流水号(施毓芷)",
         "type": "bar",
         "uid": "91c51d01-e625-11e8-8ddb-a41f72875c19",
         "x": [
          "8月5周",
          "9月1周",
          "9月2周",
          "9月3周",
          "9月4周",
          "10月1周",
          "10月2周",
          "10月3周",
          "10月4周",
          "11月1周",
          "11月2周"
         ],
         "y": [
          null,
          null,
          null,
          null,
          null,
          null,
          1,
          null,
          null,
          null,
          null
         ]
        },
        {
         "name": "流水号(刘永强)",
         "type": "bar",
         "uid": "91c51d02-e625-11e8-8ddb-a41f72875c19",
         "x": [
          "8月5周",
          "9月1周",
          "9月2周",
          "9月3周",
          "9月4周",
          "10月1周",
          "10月2周",
          "10月3周",
          "10月4周",
          "11月1周",
          "11月2周"
         ],
         "y": [
          1,
          null,
          null,
          1,
          null,
          1,
          1,
          null,
          2,
          1,
          null
         ]
        },
        {
         "name": "流水号(刘梦苑)",
         "type": "bar",
         "uid": "91c51d03-e625-11e8-8ddb-a41f72875c19",
         "x": [
          "8月5周",
          "9月1周",
          "9月2周",
          "9月3周",
          "9月4周",
          "10月1周",
          "10月2周",
          "10月3周",
          "10月4周",
          "11月1周",
          "11月2周"
         ],
         "y": [
          2,
          null,
          2,
          1,
          2,
          6,
          1,
          null,
          1,
          3,
          1
         ]
        },
        {
         "name": "流水号(杨宇)",
         "type": "bar",
         "uid": "91c51d04-e625-11e8-8ddb-a41f72875c19",
         "x": [
          "8月5周",
          "9月1周",
          "9月2周",
          "9月3周",
          "9月4周",
          "10月1周",
          "10月2周",
          "10月3周",
          "10月4周",
          "11月1周",
          "11月2周"
         ],
         "y": [
          1,
          4,
          2,
          3,
          1,
          3,
          2,
          1,
          2,
          3,
          null
         ]
        },
        {
         "name": "流水号(解飞)",
         "type": "bar",
         "uid": "91c51d05-e625-11e8-8ddb-a41f72875c19",
         "x": [
          "8月5周",
          "9月1周",
          "9月2周",
          "9月3周",
          "9月4周",
          "10月1周",
          "10月2周",
          "10月3周",
          "10月4周",
          "11月1周",
          "11月2周"
         ],
         "y": [
          null,
          null,
          null,
          null,
          2,
          1,
          3,
          3,
          4,
          1,
          null
         ]
        },
        {
         "name": "流水号(卢楠)",
         "type": "bar",
         "uid": "91c51d06-e625-11e8-8ddb-a41f72875c19",
         "x": [
          "8月5周",
          "9月1周",
          "9月2周",
          "9月3周",
          "9月4周",
          "10月1周",
          "10月2周",
          "10月3周",
          "10月4周",
          "11月1周",
          "11月2周"
         ],
         "y": [
          null,
          null,
          null,
          null,
          null,
          null,
          null,
          null,
          1,
          null,
          null
         ]
        },
        {
         "name": "流水号(朱慧萍)",
         "type": "bar",
         "uid": "91c51d07-e625-11e8-8ddb-a41f72875c19",
         "x": [
          "8月5周",
          "9月1周",
          "9月2周",
          "9月3周",
          "9月4周",
          "10月1周",
          "10月2周",
          "10月3周",
          "10月4周",
          "11月1周",
          "11月2周"
         ],
         "y": [
          4,
          4,
          3,
          1,
          1,
          3,
          4,
          5,
          5,
          6,
          1
         ]
        },
        {
         "name": "流水号(沈立群)",
         "type": "bar",
         "uid": "91c51d08-e625-11e8-8ddb-a41f72875c19",
         "x": [
          "8月5周",
          "9月1周",
          "9月2周",
          "9月3周",
          "9月4周",
          "10月1周",
          "10月2周",
          "10月3周",
          "10月4周",
          "11月1周",
          "11月2周"
         ],
         "y": [
          null,
          null,
          1,
          null,
          null,
          null,
          4,
          1,
          null,
          null,
          1
         ]
        },
        {
         "name": "流水号(赵倩)",
         "type": "bar",
         "uid": "91c51d09-e625-11e8-8ddb-a41f72875c19",
         "x": [
          "8月5周",
          "9月1周",
          "9月2周",
          "9月3周",
          "9月4周",
          "10月1周",
          "10月2周",
          "10月3周",
          "10月4周",
          "11月1周",
          "11月2周"
         ],
         "y": [
          4,
          5,
          4,
          6,
          1,
          8,
          4,
          3,
          4,
          3,
          1
         ]
        },
        {
         "name": "流水号(王霞)",
         "type": "bar",
         "uid": "91c51d0a-e625-11e8-8ddb-a41f72875c19",
         "x": [
          "8月5周",
          "9月1周",
          "9月2周",
          "9月3周",
          "9月4周",
          "10月1周",
          "10月2周",
          "10月3周",
          "10月4周",
          "11月1周",
          "11月2周"
         ],
         "y": [
          2,
          2,
          3,
          2,
          null,
          4,
          2,
          2,
          4,
          5,
          1
         ]
        },
        {
         "name": "流水号(陈碧雯)",
         "type": "bar",
         "uid": "91c51d0b-e625-11e8-8ddb-a41f72875c19",
         "x": [
          "8月5周",
          "9月1周",
          "9月2周",
          "9月3周",
          "9月4周",
          "10月1周",
          "10月2周",
          "10月3周",
          "10月4周",
          "11月1周",
          "11月2周"
         ],
         "y": [
          3,
          2,
          2,
          2,
          2,
          null,
          2,
          2,
          3,
          2,
          1
         ]
        },
        {
         "name": "流水号(沈恩惠)",
         "type": "bar",
         "uid": "91c51d0c-e625-11e8-8ddb-a41f72875c19",
         "x": [
          "8月5周",
          "9月1周",
          "9月2周",
          "9月3周",
          "9月4周",
          "10月1周",
          "10月2周",
          "10月3周",
          "10月4周",
          "11月1周",
          "11月2周"
         ],
         "y": [
          1,
          null,
          1,
          null,
          null,
          1,
          1,
          null,
          null,
          null,
          null
         ]
        },
        {
         "name": "流水号(高剑)",
         "type": "bar",
         "uid": "91c51d0d-e625-11e8-8ddb-a41f72875c19",
         "x": [
          "8月5周",
          "9月1周",
          "9月2周",
          "9月3周",
          "9月4周",
          "10月1周",
          "10月2周",
          "10月3周",
          "10月4周",
          "11月1周",
          "11月2周"
         ],
         "y": [
          1,
          null,
          null,
          null,
          null,
          null,
          null,
          null,
          null,
          null,
          null
         ]
        },
        {
         "name": "流水号(王传文)",
         "type": "bar",
         "uid": "91c51d0e-e625-11e8-8ddb-a41f72875c19",
         "x": [
          "8月5周",
          "9月1周",
          "9月2周",
          "9月3周",
          "9月4周",
          "10月1周",
          "10月2周",
          "10月3周",
          "10月4周",
          "11月1周",
          "11月2周"
         ],
         "y": [
          null,
          null,
          null,
          1,
          null,
          2,
          3,
          1,
          2,
          1,
          null
         ]
        },
        {
         "name": "流水号(何胜)",
         "type": "bar",
         "uid": "91c51d0f-e625-11e8-8ddb-a41f72875c19",
         "x": [
          "8月5周",
          "9月1周",
          "9月2周",
          "9月3周",
          "9月4周",
          "10月1周",
          "10月2周",
          "10月3周",
          "10月4周",
          "11月1周",
          "11月2周"
         ],
         "y": [
          4,
          2,
          3,
          3,
          null,
          3,
          2,
          2,
          4,
          3,
          null
         ]
        },
        {
         "name": "流水号(车天栋)",
         "type": "bar",
         "uid": "91c51d10-e625-11e8-8ddb-a41f72875c19",
         "x": [
          "8月5周",
          "9月1周",
          "9月2周",
          "9月3周",
          "9月4周",
          "10月1周",
          "10月2周",
          "10月3周",
          "10月4周",
          "11月1周",
          "11月2周"
         ],
         "y": [
          null,
          1,
          null,
          1,
          null,
          1,
          null,
          1,
          null,
          null,
          null
         ]
        }
       ],
       "layout": {
        "barmode": "stack",
        "title": "流水号周趋势图",
        "xaxis": {
         "mirror": "all",
         "nticks": 20,
         "showgrid": true,
         "showline": true,
         "title": "周",
         "type": "category",
         "zeroline": true
        },
        "yaxis": {
         "mirror": "all",
         "nticks": 20,
         "showgrid": true,
         "showline": true,
         "title": "流水号",
         "zeroline": true
        }
       }
      },
      "text/html": [
       "<div id=\"6428d96e-faf0-447b-b61a-1ed60dcfa30c\" style=\"height: 525px; width: 100%;\" class=\"plotly-graph-div\"></div><script type=\"text/javascript\">require([\"plotly\"], function(Plotly) { window.PLOTLYENV=window.PLOTLYENV || {};window.PLOTLYENV.BASE_URL=\"https://plot.ly\";Plotly.newPlot(\"6428d96e-faf0-447b-b61a-1ed60dcfa30c\", [{\"name\": \"\\u6d41\\u6c34\\u53f7(\\u5b8b\\u5c11\\u5b87)\", \"x\": [\"8\\u67085\\u5468\", \"9\\u67081\\u5468\", \"9\\u67082\\u5468\", \"9\\u67083\\u5468\", \"9\\u67084\\u5468\", \"10\\u67081\\u5468\", \"10\\u67082\\u5468\", \"10\\u67083\\u5468\", \"10\\u67084\\u5468\", \"11\\u67081\\u5468\", \"11\\u67082\\u5468\"], \"y\": [1.0, null, null, null, 1.0, 6.0, null, 3.0, 1.0, null, 1.0], \"type\": \"bar\", \"uid\": \"91c51cfd-e625-11e8-8ddb-a41f72875c19\"}, {\"name\": \"\\u6d41\\u6c34\\u53f7(\\u95fb\\u5c11\\u6960)\", \"x\": [\"8\\u67085\\u5468\", \"9\\u67081\\u5468\", \"9\\u67082\\u5468\", \"9\\u67083\\u5468\", \"9\\u67084\\u5468\", \"10\\u67081\\u5468\", \"10\\u67082\\u5468\", \"10\\u67083\\u5468\", \"10\\u67084\\u5468\", \"11\\u67081\\u5468\", \"11\\u67082\\u5468\"], \"y\": [null, 1.0, 1.0, 2.0, null, 4.0, 3.0, 1.0, 2.0, 1.0, null], \"type\": \"bar\", \"uid\": \"91c51cfe-e625-11e8-8ddb-a41f72875c19\"}, {\"name\": \"\\u6d41\\u6c34\\u53f7(\\u6797\\u6587\\u6587)\", \"x\": [\"8\\u67085\\u5468\", \"9\\u67081\\u5468\", \"9\\u67082\\u5468\", \"9\\u67083\\u5468\", \"9\\u67084\\u5468\", \"10\\u67081\\u5468\", \"10\\u67082\\u5468\", \"10\\u67083\\u5468\", \"10\\u67084\\u5468\", \"11\\u67081\\u5468\", \"11\\u67082\\u5468\"], \"y\": [null, 1.0, null, 3.0, null, null, null, 1.0, null, 2.0, 1.0], \"type\": \"bar\", \"uid\": \"91c51cff-e625-11e8-8ddb-a41f72875c19\"}, {\"name\": \"\\u6d41\\u6c34\\u53f7(\\u51af\\u656c\\u5ca9)\", \"x\": [\"8\\u67085\\u5468\", \"9\\u67081\\u5468\", \"9\\u67082\\u5468\", \"9\\u67083\\u5468\", \"9\\u67084\\u5468\", \"10\\u67081\\u5468\", \"10\\u67082\\u5468\", \"10\\u67083\\u5468\", \"10\\u67084\\u5468\", \"11\\u67081\\u5468\", \"11\\u67082\\u5468\"], \"y\": [3.0, 3.0, 1.0, 3.0, 1.0, 5.0, 5.0, 12.0, 5.0, 6.0, 1.0], \"type\": \"bar\", \"uid\": \"91c51d00-e625-11e8-8ddb-a41f72875c19\"}, {\"name\": \"\\u6d41\\u6c34\\u53f7(\\u65bd\\u6bd3\\u82b7)\", \"x\": [\"8\\u67085\\u5468\", \"9\\u67081\\u5468\", \"9\\u67082\\u5468\", \"9\\u67083\\u5468\", \"9\\u67084\\u5468\", \"10\\u67081\\u5468\", \"10\\u67082\\u5468\", \"10\\u67083\\u5468\", \"10\\u67084\\u5468\", \"11\\u67081\\u5468\", \"11\\u67082\\u5468\"], \"y\": [null, null, null, null, null, null, 1.0, null, null, null, null], \"type\": \"bar\", \"uid\": \"91c51d01-e625-11e8-8ddb-a41f72875c19\"}, {\"name\": \"\\u6d41\\u6c34\\u53f7(\\u5218\\u6c38\\u5f3a)\", \"x\": [\"8\\u67085\\u5468\", \"9\\u67081\\u5468\", \"9\\u67082\\u5468\", \"9\\u67083\\u5468\", \"9\\u67084\\u5468\", \"10\\u67081\\u5468\", \"10\\u67082\\u5468\", \"10\\u67083\\u5468\", \"10\\u67084\\u5468\", \"11\\u67081\\u5468\", \"11\\u67082\\u5468\"], \"y\": [1.0, null, null, 1.0, null, 1.0, 1.0, null, 2.0, 1.0, null], \"type\": \"bar\", \"uid\": \"91c51d02-e625-11e8-8ddb-a41f72875c19\"}, {\"name\": \"\\u6d41\\u6c34\\u53f7(\\u5218\\u68a6\\u82d1)\", \"x\": [\"8\\u67085\\u5468\", \"9\\u67081\\u5468\", \"9\\u67082\\u5468\", \"9\\u67083\\u5468\", \"9\\u67084\\u5468\", \"10\\u67081\\u5468\", \"10\\u67082\\u5468\", \"10\\u67083\\u5468\", \"10\\u67084\\u5468\", \"11\\u67081\\u5468\", \"11\\u67082\\u5468\"], \"y\": [2.0, null, 2.0, 1.0, 2.0, 6.0, 1.0, null, 1.0, 3.0, 1.0], \"type\": \"bar\", \"uid\": \"91c51d03-e625-11e8-8ddb-a41f72875c19\"}, {\"name\": \"\\u6d41\\u6c34\\u53f7(\\u6768\\u5b87)\", \"x\": [\"8\\u67085\\u5468\", \"9\\u67081\\u5468\", \"9\\u67082\\u5468\", \"9\\u67083\\u5468\", \"9\\u67084\\u5468\", \"10\\u67081\\u5468\", \"10\\u67082\\u5468\", \"10\\u67083\\u5468\", \"10\\u67084\\u5468\", \"11\\u67081\\u5468\", \"11\\u67082\\u5468\"], \"y\": [1.0, 4.0, 2.0, 3.0, 1.0, 3.0, 2.0, 1.0, 2.0, 3.0, null], \"type\": \"bar\", \"uid\": \"91c51d04-e625-11e8-8ddb-a41f72875c19\"}, {\"name\": \"\\u6d41\\u6c34\\u53f7(\\u89e3\\u98de)\", \"x\": [\"8\\u67085\\u5468\", \"9\\u67081\\u5468\", \"9\\u67082\\u5468\", \"9\\u67083\\u5468\", \"9\\u67084\\u5468\", \"10\\u67081\\u5468\", \"10\\u67082\\u5468\", \"10\\u67083\\u5468\", \"10\\u67084\\u5468\", \"11\\u67081\\u5468\", \"11\\u67082\\u5468\"], \"y\": [null, null, null, null, 2.0, 1.0, 3.0, 3.0, 4.0, 1.0, null], \"type\": \"bar\", \"uid\": \"91c51d05-e625-11e8-8ddb-a41f72875c19\"}, {\"name\": \"\\u6d41\\u6c34\\u53f7(\\u5362\\u6960)\", \"x\": [\"8\\u67085\\u5468\", \"9\\u67081\\u5468\", \"9\\u67082\\u5468\", \"9\\u67083\\u5468\", \"9\\u67084\\u5468\", \"10\\u67081\\u5468\", \"10\\u67082\\u5468\", \"10\\u67083\\u5468\", \"10\\u67084\\u5468\", \"11\\u67081\\u5468\", \"11\\u67082\\u5468\"], \"y\": [null, null, null, null, null, null, null, null, 1.0, null, null], \"type\": \"bar\", \"uid\": \"91c51d06-e625-11e8-8ddb-a41f72875c19\"}, {\"name\": \"\\u6d41\\u6c34\\u53f7(\\u6731\\u6167\\u840d)\", \"x\": [\"8\\u67085\\u5468\", \"9\\u67081\\u5468\", \"9\\u67082\\u5468\", \"9\\u67083\\u5468\", \"9\\u67084\\u5468\", \"10\\u67081\\u5468\", \"10\\u67082\\u5468\", \"10\\u67083\\u5468\", \"10\\u67084\\u5468\", \"11\\u67081\\u5468\", \"11\\u67082\\u5468\"], \"y\": [4.0, 4.0, 3.0, 1.0, 1.0, 3.0, 4.0, 5.0, 5.0, 6.0, 1.0], \"type\": \"bar\", \"uid\": \"91c51d07-e625-11e8-8ddb-a41f72875c19\"}, {\"name\": \"\\u6d41\\u6c34\\u53f7(\\u6c88\\u7acb\\u7fa4)\", \"x\": [\"8\\u67085\\u5468\", \"9\\u67081\\u5468\", \"9\\u67082\\u5468\", \"9\\u67083\\u5468\", \"9\\u67084\\u5468\", \"10\\u67081\\u5468\", \"10\\u67082\\u5468\", \"10\\u67083\\u5468\", \"10\\u67084\\u5468\", \"11\\u67081\\u5468\", \"11\\u67082\\u5468\"], \"y\": [null, null, 1.0, null, null, null, 4.0, 1.0, null, null, 1.0], \"type\": \"bar\", \"uid\": \"91c51d08-e625-11e8-8ddb-a41f72875c19\"}, {\"name\": \"\\u6d41\\u6c34\\u53f7(\\u8d75\\u5029)\", \"x\": [\"8\\u67085\\u5468\", \"9\\u67081\\u5468\", \"9\\u67082\\u5468\", \"9\\u67083\\u5468\", \"9\\u67084\\u5468\", \"10\\u67081\\u5468\", \"10\\u67082\\u5468\", \"10\\u67083\\u5468\", \"10\\u67084\\u5468\", \"11\\u67081\\u5468\", \"11\\u67082\\u5468\"], \"y\": [4.0, 5.0, 4.0, 6.0, 1.0, 8.0, 4.0, 3.0, 4.0, 3.0, 1.0], \"type\": \"bar\", \"uid\": \"91c51d09-e625-11e8-8ddb-a41f72875c19\"}, {\"name\": \"\\u6d41\\u6c34\\u53f7(\\u738b\\u971e)\", \"x\": [\"8\\u67085\\u5468\", \"9\\u67081\\u5468\", \"9\\u67082\\u5468\", \"9\\u67083\\u5468\", \"9\\u67084\\u5468\", \"10\\u67081\\u5468\", \"10\\u67082\\u5468\", \"10\\u67083\\u5468\", \"10\\u67084\\u5468\", \"11\\u67081\\u5468\", \"11\\u67082\\u5468\"], \"y\": [2.0, 2.0, 3.0, 2.0, null, 4.0, 2.0, 2.0, 4.0, 5.0, 1.0], \"type\": \"bar\", \"uid\": \"91c51d0a-e625-11e8-8ddb-a41f72875c19\"}, {\"name\": \"\\u6d41\\u6c34\\u53f7(\\u9648\\u78a7\\u96ef)\", \"x\": [\"8\\u67085\\u5468\", \"9\\u67081\\u5468\", \"9\\u67082\\u5468\", \"9\\u67083\\u5468\", \"9\\u67084\\u5468\", \"10\\u67081\\u5468\", \"10\\u67082\\u5468\", \"10\\u67083\\u5468\", \"10\\u67084\\u5468\", \"11\\u67081\\u5468\", \"11\\u67082\\u5468\"], \"y\": [3.0, 2.0, 2.0, 2.0, 2.0, null, 2.0, 2.0, 3.0, 2.0, 1.0], \"type\": \"bar\", \"uid\": \"91c51d0b-e625-11e8-8ddb-a41f72875c19\"}, {\"name\": \"\\u6d41\\u6c34\\u53f7(\\u6c88\\u6069\\u60e0)\", \"x\": [\"8\\u67085\\u5468\", \"9\\u67081\\u5468\", \"9\\u67082\\u5468\", \"9\\u67083\\u5468\", \"9\\u67084\\u5468\", \"10\\u67081\\u5468\", \"10\\u67082\\u5468\", \"10\\u67083\\u5468\", \"10\\u67084\\u5468\", \"11\\u67081\\u5468\", \"11\\u67082\\u5468\"], \"y\": [1.0, null, 1.0, null, null, 1.0, 1.0, null, null, null, null], \"type\": \"bar\", \"uid\": \"91c51d0c-e625-11e8-8ddb-a41f72875c19\"}, {\"name\": \"\\u6d41\\u6c34\\u53f7(\\u9ad8\\u5251)\", \"x\": [\"8\\u67085\\u5468\", \"9\\u67081\\u5468\", \"9\\u67082\\u5468\", \"9\\u67083\\u5468\", \"9\\u67084\\u5468\", \"10\\u67081\\u5468\", \"10\\u67082\\u5468\", \"10\\u67083\\u5468\", \"10\\u67084\\u5468\", \"11\\u67081\\u5468\", \"11\\u67082\\u5468\"], \"y\": [1.0, null, null, null, null, null, null, null, null, null, null], \"type\": \"bar\", \"uid\": \"91c51d0d-e625-11e8-8ddb-a41f72875c19\"}, {\"name\": \"\\u6d41\\u6c34\\u53f7(\\u738b\\u4f20\\u6587)\", \"x\": [\"8\\u67085\\u5468\", \"9\\u67081\\u5468\", \"9\\u67082\\u5468\", \"9\\u67083\\u5468\", \"9\\u67084\\u5468\", \"10\\u67081\\u5468\", \"10\\u67082\\u5468\", \"10\\u67083\\u5468\", \"10\\u67084\\u5468\", \"11\\u67081\\u5468\", \"11\\u67082\\u5468\"], \"y\": [null, null, null, 1.0, null, 2.0, 3.0, 1.0, 2.0, 1.0, null], \"type\": \"bar\", \"uid\": \"91c51d0e-e625-11e8-8ddb-a41f72875c19\"}, {\"name\": \"\\u6d41\\u6c34\\u53f7(\\u4f55\\u80dc)\", \"x\": [\"8\\u67085\\u5468\", \"9\\u67081\\u5468\", \"9\\u67082\\u5468\", \"9\\u67083\\u5468\", \"9\\u67084\\u5468\", \"10\\u67081\\u5468\", \"10\\u67082\\u5468\", \"10\\u67083\\u5468\", \"10\\u67084\\u5468\", \"11\\u67081\\u5468\", \"11\\u67082\\u5468\"], \"y\": [4.0, 2.0, 3.0, 3.0, null, 3.0, 2.0, 2.0, 4.0, 3.0, null], \"type\": \"bar\", \"uid\": \"91c51d0f-e625-11e8-8ddb-a41f72875c19\"}, {\"name\": \"\\u6d41\\u6c34\\u53f7(\\u8f66\\u5929\\u680b)\", \"x\": [\"8\\u67085\\u5468\", \"9\\u67081\\u5468\", \"9\\u67082\\u5468\", \"9\\u67083\\u5468\", \"9\\u67084\\u5468\", \"10\\u67081\\u5468\", \"10\\u67082\\u5468\", \"10\\u67083\\u5468\", \"10\\u67084\\u5468\", \"11\\u67081\\u5468\", \"11\\u67082\\u5468\"], \"y\": [null, 1.0, null, 1.0, null, 1.0, null, 1.0, null, null, null], \"type\": \"bar\", \"uid\": \"91c51d10-e625-11e8-8ddb-a41f72875c19\"}], {\"barmode\": \"stack\", \"title\": \"\\u6d41\\u6c34\\u53f7\\u5468\\u8d8b\\u52bf\\u56fe\", \"xaxis\": {\"mirror\": \"all\", \"nticks\": 20, \"showgrid\": true, \"showline\": true, \"title\": \"\\u5468\", \"type\": \"category\", \"zeroline\": true}, \"yaxis\": {\"mirror\": \"all\", \"nticks\": 20, \"showgrid\": true, \"showline\": true, \"title\": \"\\u6d41\\u6c34\\u53f7\", \"zeroline\": true}}, {\"showLink\": true, \"linkText\": \"Export to plot.ly\"})});</script>"
      ],
      "text/vnd.plotly.v1+html": [
       "<div id=\"6428d96e-faf0-447b-b61a-1ed60dcfa30c\" style=\"height: 525px; width: 100%;\" class=\"plotly-graph-div\"></div><script type=\"text/javascript\">require([\"plotly\"], function(Plotly) { window.PLOTLYENV=window.PLOTLYENV || {};window.PLOTLYENV.BASE_URL=\"https://plot.ly\";Plotly.newPlot(\"6428d96e-faf0-447b-b61a-1ed60dcfa30c\", [{\"name\": \"\\u6d41\\u6c34\\u53f7(\\u5b8b\\u5c11\\u5b87)\", \"x\": [\"8\\u67085\\u5468\", \"9\\u67081\\u5468\", \"9\\u67082\\u5468\", \"9\\u67083\\u5468\", \"9\\u67084\\u5468\", \"10\\u67081\\u5468\", \"10\\u67082\\u5468\", \"10\\u67083\\u5468\", \"10\\u67084\\u5468\", \"11\\u67081\\u5468\", \"11\\u67082\\u5468\"], \"y\": [1.0, null, null, null, 1.0, 6.0, null, 3.0, 1.0, null, 1.0], \"type\": \"bar\", \"uid\": \"91c51cfd-e625-11e8-8ddb-a41f72875c19\"}, {\"name\": \"\\u6d41\\u6c34\\u53f7(\\u95fb\\u5c11\\u6960)\", \"x\": [\"8\\u67085\\u5468\", \"9\\u67081\\u5468\", \"9\\u67082\\u5468\", \"9\\u67083\\u5468\", \"9\\u67084\\u5468\", \"10\\u67081\\u5468\", \"10\\u67082\\u5468\", \"10\\u67083\\u5468\", \"10\\u67084\\u5468\", \"11\\u67081\\u5468\", \"11\\u67082\\u5468\"], \"y\": [null, 1.0, 1.0, 2.0, null, 4.0, 3.0, 1.0, 2.0, 1.0, null], \"type\": \"bar\", \"uid\": \"91c51cfe-e625-11e8-8ddb-a41f72875c19\"}, {\"name\": \"\\u6d41\\u6c34\\u53f7(\\u6797\\u6587\\u6587)\", \"x\": [\"8\\u67085\\u5468\", \"9\\u67081\\u5468\", \"9\\u67082\\u5468\", \"9\\u67083\\u5468\", \"9\\u67084\\u5468\", \"10\\u67081\\u5468\", \"10\\u67082\\u5468\", \"10\\u67083\\u5468\", \"10\\u67084\\u5468\", \"11\\u67081\\u5468\", \"11\\u67082\\u5468\"], \"y\": [null, 1.0, null, 3.0, null, null, null, 1.0, null, 2.0, 1.0], \"type\": \"bar\", \"uid\": \"91c51cff-e625-11e8-8ddb-a41f72875c19\"}, {\"name\": \"\\u6d41\\u6c34\\u53f7(\\u51af\\u656c\\u5ca9)\", \"x\": [\"8\\u67085\\u5468\", \"9\\u67081\\u5468\", \"9\\u67082\\u5468\", \"9\\u67083\\u5468\", \"9\\u67084\\u5468\", \"10\\u67081\\u5468\", \"10\\u67082\\u5468\", \"10\\u67083\\u5468\", \"10\\u67084\\u5468\", \"11\\u67081\\u5468\", \"11\\u67082\\u5468\"], \"y\": [3.0, 3.0, 1.0, 3.0, 1.0, 5.0, 5.0, 12.0, 5.0, 6.0, 1.0], \"type\": \"bar\", \"uid\": \"91c51d00-e625-11e8-8ddb-a41f72875c19\"}, {\"name\": \"\\u6d41\\u6c34\\u53f7(\\u65bd\\u6bd3\\u82b7)\", \"x\": [\"8\\u67085\\u5468\", \"9\\u67081\\u5468\", \"9\\u67082\\u5468\", \"9\\u67083\\u5468\", \"9\\u67084\\u5468\", \"10\\u67081\\u5468\", \"10\\u67082\\u5468\", \"10\\u67083\\u5468\", \"10\\u67084\\u5468\", \"11\\u67081\\u5468\", \"11\\u67082\\u5468\"], \"y\": [null, null, null, null, null, null, 1.0, null, null, null, null], \"type\": \"bar\", \"uid\": \"91c51d01-e625-11e8-8ddb-a41f72875c19\"}, {\"name\": \"\\u6d41\\u6c34\\u53f7(\\u5218\\u6c38\\u5f3a)\", \"x\": [\"8\\u67085\\u5468\", \"9\\u67081\\u5468\", \"9\\u67082\\u5468\", \"9\\u67083\\u5468\", \"9\\u67084\\u5468\", \"10\\u67081\\u5468\", \"10\\u67082\\u5468\", \"10\\u67083\\u5468\", \"10\\u67084\\u5468\", \"11\\u67081\\u5468\", \"11\\u67082\\u5468\"], \"y\": [1.0, null, null, 1.0, null, 1.0, 1.0, null, 2.0, 1.0, null], \"type\": \"bar\", \"uid\": \"91c51d02-e625-11e8-8ddb-a41f72875c19\"}, {\"name\": \"\\u6d41\\u6c34\\u53f7(\\u5218\\u68a6\\u82d1)\", \"x\": [\"8\\u67085\\u5468\", \"9\\u67081\\u5468\", \"9\\u67082\\u5468\", \"9\\u67083\\u5468\", \"9\\u67084\\u5468\", \"10\\u67081\\u5468\", \"10\\u67082\\u5468\", \"10\\u67083\\u5468\", \"10\\u67084\\u5468\", \"11\\u67081\\u5468\", \"11\\u67082\\u5468\"], \"y\": [2.0, null, 2.0, 1.0, 2.0, 6.0, 1.0, null, 1.0, 3.0, 1.0], \"type\": \"bar\", \"uid\": \"91c51d03-e625-11e8-8ddb-a41f72875c19\"}, {\"name\": \"\\u6d41\\u6c34\\u53f7(\\u6768\\u5b87)\", \"x\": [\"8\\u67085\\u5468\", \"9\\u67081\\u5468\", \"9\\u67082\\u5468\", \"9\\u67083\\u5468\", \"9\\u67084\\u5468\", \"10\\u67081\\u5468\", \"10\\u67082\\u5468\", \"10\\u67083\\u5468\", \"10\\u67084\\u5468\", \"11\\u67081\\u5468\", \"11\\u67082\\u5468\"], \"y\": [1.0, 4.0, 2.0, 3.0, 1.0, 3.0, 2.0, 1.0, 2.0, 3.0, null], \"type\": \"bar\", \"uid\": \"91c51d04-e625-11e8-8ddb-a41f72875c19\"}, {\"name\": \"\\u6d41\\u6c34\\u53f7(\\u89e3\\u98de)\", \"x\": [\"8\\u67085\\u5468\", \"9\\u67081\\u5468\", \"9\\u67082\\u5468\", \"9\\u67083\\u5468\", \"9\\u67084\\u5468\", \"10\\u67081\\u5468\", \"10\\u67082\\u5468\", \"10\\u67083\\u5468\", \"10\\u67084\\u5468\", \"11\\u67081\\u5468\", \"11\\u67082\\u5468\"], \"y\": [null, null, null, null, 2.0, 1.0, 3.0, 3.0, 4.0, 1.0, null], \"type\": \"bar\", \"uid\": \"91c51d05-e625-11e8-8ddb-a41f72875c19\"}, {\"name\": \"\\u6d41\\u6c34\\u53f7(\\u5362\\u6960)\", \"x\": [\"8\\u67085\\u5468\", \"9\\u67081\\u5468\", \"9\\u67082\\u5468\", \"9\\u67083\\u5468\", \"9\\u67084\\u5468\", \"10\\u67081\\u5468\", \"10\\u67082\\u5468\", \"10\\u67083\\u5468\", \"10\\u67084\\u5468\", \"11\\u67081\\u5468\", \"11\\u67082\\u5468\"], \"y\": [null, null, null, null, null, null, null, null, 1.0, null, null], \"type\": \"bar\", \"uid\": \"91c51d06-e625-11e8-8ddb-a41f72875c19\"}, {\"name\": \"\\u6d41\\u6c34\\u53f7(\\u6731\\u6167\\u840d)\", \"x\": [\"8\\u67085\\u5468\", \"9\\u67081\\u5468\", \"9\\u67082\\u5468\", \"9\\u67083\\u5468\", \"9\\u67084\\u5468\", \"10\\u67081\\u5468\", \"10\\u67082\\u5468\", \"10\\u67083\\u5468\", \"10\\u67084\\u5468\", \"11\\u67081\\u5468\", \"11\\u67082\\u5468\"], \"y\": [4.0, 4.0, 3.0, 1.0, 1.0, 3.0, 4.0, 5.0, 5.0, 6.0, 1.0], \"type\": \"bar\", \"uid\": \"91c51d07-e625-11e8-8ddb-a41f72875c19\"}, {\"name\": \"\\u6d41\\u6c34\\u53f7(\\u6c88\\u7acb\\u7fa4)\", \"x\": [\"8\\u67085\\u5468\", \"9\\u67081\\u5468\", \"9\\u67082\\u5468\", \"9\\u67083\\u5468\", \"9\\u67084\\u5468\", \"10\\u67081\\u5468\", \"10\\u67082\\u5468\", \"10\\u67083\\u5468\", \"10\\u67084\\u5468\", \"11\\u67081\\u5468\", \"11\\u67082\\u5468\"], \"y\": [null, null, 1.0, null, null, null, 4.0, 1.0, null, null, 1.0], \"type\": \"bar\", \"uid\": \"91c51d08-e625-11e8-8ddb-a41f72875c19\"}, {\"name\": \"\\u6d41\\u6c34\\u53f7(\\u8d75\\u5029)\", \"x\": [\"8\\u67085\\u5468\", \"9\\u67081\\u5468\", \"9\\u67082\\u5468\", \"9\\u67083\\u5468\", \"9\\u67084\\u5468\", \"10\\u67081\\u5468\", \"10\\u67082\\u5468\", \"10\\u67083\\u5468\", \"10\\u67084\\u5468\", \"11\\u67081\\u5468\", \"11\\u67082\\u5468\"], \"y\": [4.0, 5.0, 4.0, 6.0, 1.0, 8.0, 4.0, 3.0, 4.0, 3.0, 1.0], \"type\": \"bar\", \"uid\": \"91c51d09-e625-11e8-8ddb-a41f72875c19\"}, {\"name\": \"\\u6d41\\u6c34\\u53f7(\\u738b\\u971e)\", \"x\": [\"8\\u67085\\u5468\", \"9\\u67081\\u5468\", \"9\\u67082\\u5468\", \"9\\u67083\\u5468\", \"9\\u67084\\u5468\", \"10\\u67081\\u5468\", \"10\\u67082\\u5468\", \"10\\u67083\\u5468\", \"10\\u67084\\u5468\", \"11\\u67081\\u5468\", \"11\\u67082\\u5468\"], \"y\": [2.0, 2.0, 3.0, 2.0, null, 4.0, 2.0, 2.0, 4.0, 5.0, 1.0], \"type\": \"bar\", \"uid\": \"91c51d0a-e625-11e8-8ddb-a41f72875c19\"}, {\"name\": \"\\u6d41\\u6c34\\u53f7(\\u9648\\u78a7\\u96ef)\", \"x\": [\"8\\u67085\\u5468\", \"9\\u67081\\u5468\", \"9\\u67082\\u5468\", \"9\\u67083\\u5468\", \"9\\u67084\\u5468\", \"10\\u67081\\u5468\", \"10\\u67082\\u5468\", \"10\\u67083\\u5468\", \"10\\u67084\\u5468\", \"11\\u67081\\u5468\", \"11\\u67082\\u5468\"], \"y\": [3.0, 2.0, 2.0, 2.0, 2.0, null, 2.0, 2.0, 3.0, 2.0, 1.0], \"type\": \"bar\", \"uid\": \"91c51d0b-e625-11e8-8ddb-a41f72875c19\"}, {\"name\": \"\\u6d41\\u6c34\\u53f7(\\u6c88\\u6069\\u60e0)\", \"x\": [\"8\\u67085\\u5468\", \"9\\u67081\\u5468\", \"9\\u67082\\u5468\", \"9\\u67083\\u5468\", \"9\\u67084\\u5468\", \"10\\u67081\\u5468\", \"10\\u67082\\u5468\", \"10\\u67083\\u5468\", \"10\\u67084\\u5468\", \"11\\u67081\\u5468\", \"11\\u67082\\u5468\"], \"y\": [1.0, null, 1.0, null, null, 1.0, 1.0, null, null, null, null], \"type\": \"bar\", \"uid\": \"91c51d0c-e625-11e8-8ddb-a41f72875c19\"}, {\"name\": \"\\u6d41\\u6c34\\u53f7(\\u9ad8\\u5251)\", \"x\": [\"8\\u67085\\u5468\", \"9\\u67081\\u5468\", \"9\\u67082\\u5468\", \"9\\u67083\\u5468\", \"9\\u67084\\u5468\", \"10\\u67081\\u5468\", \"10\\u67082\\u5468\", \"10\\u67083\\u5468\", \"10\\u67084\\u5468\", \"11\\u67081\\u5468\", \"11\\u67082\\u5468\"], \"y\": [1.0, null, null, null, null, null, null, null, null, null, null], \"type\": \"bar\", \"uid\": \"91c51d0d-e625-11e8-8ddb-a41f72875c19\"}, {\"name\": \"\\u6d41\\u6c34\\u53f7(\\u738b\\u4f20\\u6587)\", \"x\": [\"8\\u67085\\u5468\", \"9\\u67081\\u5468\", \"9\\u67082\\u5468\", \"9\\u67083\\u5468\", \"9\\u67084\\u5468\", \"10\\u67081\\u5468\", \"10\\u67082\\u5468\", \"10\\u67083\\u5468\", \"10\\u67084\\u5468\", \"11\\u67081\\u5468\", \"11\\u67082\\u5468\"], \"y\": [null, null, null, 1.0, null, 2.0, 3.0, 1.0, 2.0, 1.0, null], \"type\": \"bar\", \"uid\": \"91c51d0e-e625-11e8-8ddb-a41f72875c19\"}, {\"name\": \"\\u6d41\\u6c34\\u53f7(\\u4f55\\u80dc)\", \"x\": [\"8\\u67085\\u5468\", \"9\\u67081\\u5468\", \"9\\u67082\\u5468\", \"9\\u67083\\u5468\", \"9\\u67084\\u5468\", \"10\\u67081\\u5468\", \"10\\u67082\\u5468\", \"10\\u67083\\u5468\", \"10\\u67084\\u5468\", \"11\\u67081\\u5468\", \"11\\u67082\\u5468\"], \"y\": [4.0, 2.0, 3.0, 3.0, null, 3.0, 2.0, 2.0, 4.0, 3.0, null], \"type\": \"bar\", \"uid\": \"91c51d0f-e625-11e8-8ddb-a41f72875c19\"}, {\"name\": \"\\u6d41\\u6c34\\u53f7(\\u8f66\\u5929\\u680b)\", \"x\": [\"8\\u67085\\u5468\", \"9\\u67081\\u5468\", \"9\\u67082\\u5468\", \"9\\u67083\\u5468\", \"9\\u67084\\u5468\", \"10\\u67081\\u5468\", \"10\\u67082\\u5468\", \"10\\u67083\\u5468\", \"10\\u67084\\u5468\", \"11\\u67081\\u5468\", \"11\\u67082\\u5468\"], \"y\": [null, 1.0, null, 1.0, null, 1.0, null, 1.0, null, null, null], \"type\": \"bar\", \"uid\": \"91c51d10-e625-11e8-8ddb-a41f72875c19\"}], {\"barmode\": \"stack\", \"title\": \"\\u6d41\\u6c34\\u53f7\\u5468\\u8d8b\\u52bf\\u56fe\", \"xaxis\": {\"mirror\": \"all\", \"nticks\": 20, \"showgrid\": true, \"showline\": true, \"title\": \"\\u5468\", \"type\": \"category\", \"zeroline\": true}, \"yaxis\": {\"mirror\": \"all\", \"nticks\": 20, \"showgrid\": true, \"showline\": true, \"title\": \"\\u6d41\\u6c34\\u53f7\", \"zeroline\": true}}, {\"showLink\": true, \"linkText\": \"Export to plot.ly\"})});</script>"
      ]
     },
     "metadata": {},
     "output_type": "display_data"
    }
   ],
   "source": [
    "df1_fx = df1[df1['信息负责人'].isin(fenxi)] \n",
    "ss = myModule.format(df1_fx ,'week_number' ,['流水号'])\n",
    "ss.add_group('信息负责人')\n",
    "pp = myModule.sort_by_index(ss.groupby('count'))\n",
    "myModule.myPlot(pp).plot('stack_bar')\n",
    "#myModule.get_rank(ss.df , '信息负责人' ,'流水号', quantile=0.8, compare='>' )"
   ]
  },
  {
   "cell_type": "code",
   "execution_count": 123,
   "metadata": {
    "collapsed": false
   },
   "outputs": [
    {
     "data": {
      "application/vnd.plotly.v1+json": {
       "data": [
        {
         "line": {
          "dash": "solid"
         },
         "name": "流水号(宋少宇)",
         "type": "scatter",
         "uid": "91c51d11-e625-11e8-8ddb-a41f72875c19",
         "x": [
          "8月5周",
          "9月1周",
          "9月2周",
          "9月3周",
          "9月4周",
          "10月1周",
          "10月2周",
          "10月3周",
          "10月4周",
          "11月1周",
          "11月2周"
         ],
         "y": [
          1,
          null,
          null,
          null,
          1,
          6,
          null,
          3,
          1,
          null,
          1
         ]
        },
        {
         "line": {
          "dash": "dot"
         },
         "name": "流水号(冯敬岩)",
         "type": "scatter",
         "uid": "91c51d12-e625-11e8-8ddb-a41f72875c19",
         "x": [
          "8月5周",
          "9月1周",
          "9月2周",
          "9月3周",
          "9月4周",
          "10月1周",
          "10月2周",
          "10月3周",
          "10月4周",
          "11月1周",
          "11月2周"
         ],
         "y": [
          3,
          3,
          1,
          3,
          1,
          5,
          5,
          12,
          5,
          6,
          1
         ]
        },
        {
         "line": {
          "dash": "dash"
         },
         "name": "流水号(解飞)",
         "type": "scatter",
         "uid": "91c51d13-e625-11e8-8ddb-a41f72875c19",
         "x": [
          "8月5周",
          "9月1周",
          "9月2周",
          "9月3周",
          "9月4周",
          "10月1周",
          "10月2周",
          "10月3周",
          "10月4周",
          "11月1周",
          "11月2周"
         ],
         "y": [
          null,
          null,
          null,
          null,
          2,
          1,
          3,
          3,
          4,
          1,
          null
         ]
        },
        {
         "line": {
          "dash": "longdash"
         },
         "name": "流水号(朱慧萍)",
         "type": "scatter",
         "uid": "91c51d14-e625-11e8-8ddb-a41f72875c19",
         "x": [
          "8月5周",
          "9月1周",
          "9月2周",
          "9月3周",
          "9月4周",
          "10月1周",
          "10月2周",
          "10月3周",
          "10月4周",
          "11月1周",
          "11月2周"
         ],
         "y": [
          4,
          4,
          3,
          1,
          1,
          3,
          4,
          5,
          5,
          6,
          1
         ]
        },
        {
         "line": {
          "dash": "dashdot"
         },
         "name": "流水号(赵倩)",
         "type": "scatter",
         "uid": "91c51d15-e625-11e8-8ddb-a41f72875c19",
         "x": [
          "8月5周",
          "9月1周",
          "9月2周",
          "9月3周",
          "9月4周",
          "10月1周",
          "10月2周",
          "10月3周",
          "10月4周",
          "11月1周",
          "11月2周"
         ],
         "y": [
          4,
          5,
          4,
          6,
          1,
          8,
          4,
          3,
          4,
          3,
          1
         ]
        }
       ],
       "layout": {
        "title": "流水号周趋势图",
        "xaxis": {
         "mirror": "all",
         "nticks": 20,
         "showgrid": true,
         "showline": true,
         "title": "周",
         "type": "category",
         "zeroline": true
        },
        "yaxis": {
         "mirror": "all",
         "nticks": 20,
         "showgrid": true,
         "showline": true,
         "title": "流水号",
         "zeroline": true
        }
       }
      },
      "text/html": [
       "<div id=\"8db1f3e4-6c72-47b0-9896-972cb5bdfcce\" style=\"height: 525px; width: 100%;\" class=\"plotly-graph-div\"></div><script type=\"text/javascript\">require([\"plotly\"], function(Plotly) { window.PLOTLYENV=window.PLOTLYENV || {};window.PLOTLYENV.BASE_URL=\"https://plot.ly\";Plotly.newPlot(\"8db1f3e4-6c72-47b0-9896-972cb5bdfcce\", [{\"line\": {\"dash\": \"solid\"}, \"name\": \"\\u6d41\\u6c34\\u53f7(\\u5b8b\\u5c11\\u5b87)\", \"x\": [\"8\\u67085\\u5468\", \"9\\u67081\\u5468\", \"9\\u67082\\u5468\", \"9\\u67083\\u5468\", \"9\\u67084\\u5468\", \"10\\u67081\\u5468\", \"10\\u67082\\u5468\", \"10\\u67083\\u5468\", \"10\\u67084\\u5468\", \"11\\u67081\\u5468\", \"11\\u67082\\u5468\"], \"y\": [1.0, null, null, null, 1.0, 6.0, null, 3.0, 1.0, null, 1.0], \"type\": \"scatter\", \"uid\": \"91c51d11-e625-11e8-8ddb-a41f72875c19\"}, {\"line\": {\"dash\": \"dot\"}, \"name\": \"\\u6d41\\u6c34\\u53f7(\\u51af\\u656c\\u5ca9)\", \"x\": [\"8\\u67085\\u5468\", \"9\\u67081\\u5468\", \"9\\u67082\\u5468\", \"9\\u67083\\u5468\", \"9\\u67084\\u5468\", \"10\\u67081\\u5468\", \"10\\u67082\\u5468\", \"10\\u67083\\u5468\", \"10\\u67084\\u5468\", \"11\\u67081\\u5468\", \"11\\u67082\\u5468\"], \"y\": [3.0, 3.0, 1.0, 3.0, 1.0, 5.0, 5.0, 12.0, 5.0, 6.0, 1.0], \"type\": \"scatter\", \"uid\": \"91c51d12-e625-11e8-8ddb-a41f72875c19\"}, {\"line\": {\"dash\": \"dash\"}, \"name\": \"\\u6d41\\u6c34\\u53f7(\\u89e3\\u98de)\", \"x\": [\"8\\u67085\\u5468\", \"9\\u67081\\u5468\", \"9\\u67082\\u5468\", \"9\\u67083\\u5468\", \"9\\u67084\\u5468\", \"10\\u67081\\u5468\", \"10\\u67082\\u5468\", \"10\\u67083\\u5468\", \"10\\u67084\\u5468\", \"11\\u67081\\u5468\", \"11\\u67082\\u5468\"], \"y\": [null, null, null, null, 2.0, 1.0, 3.0, 3.0, 4.0, 1.0, null], \"type\": \"scatter\", \"uid\": \"91c51d13-e625-11e8-8ddb-a41f72875c19\"}, {\"line\": {\"dash\": \"longdash\"}, \"name\": \"\\u6d41\\u6c34\\u53f7(\\u6731\\u6167\\u840d)\", \"x\": [\"8\\u67085\\u5468\", \"9\\u67081\\u5468\", \"9\\u67082\\u5468\", \"9\\u67083\\u5468\", \"9\\u67084\\u5468\", \"10\\u67081\\u5468\", \"10\\u67082\\u5468\", \"10\\u67083\\u5468\", \"10\\u67084\\u5468\", \"11\\u67081\\u5468\", \"11\\u67082\\u5468\"], \"y\": [4.0, 4.0, 3.0, 1.0, 1.0, 3.0, 4.0, 5.0, 5.0, 6.0, 1.0], \"type\": \"scatter\", \"uid\": \"91c51d14-e625-11e8-8ddb-a41f72875c19\"}, {\"line\": {\"dash\": \"dashdot\"}, \"name\": \"\\u6d41\\u6c34\\u53f7(\\u8d75\\u5029)\", \"x\": [\"8\\u67085\\u5468\", \"9\\u67081\\u5468\", \"9\\u67082\\u5468\", \"9\\u67083\\u5468\", \"9\\u67084\\u5468\", \"10\\u67081\\u5468\", \"10\\u67082\\u5468\", \"10\\u67083\\u5468\", \"10\\u67084\\u5468\", \"11\\u67081\\u5468\", \"11\\u67082\\u5468\"], \"y\": [4.0, 5.0, 4.0, 6.0, 1.0, 8.0, 4.0, 3.0, 4.0, 3.0, 1.0], \"type\": \"scatter\", \"uid\": \"91c51d15-e625-11e8-8ddb-a41f72875c19\"}], {\"title\": \"\\u6d41\\u6c34\\u53f7\\u5468\\u8d8b\\u52bf\\u56fe\", \"xaxis\": {\"mirror\": \"all\", \"nticks\": 20, \"showgrid\": true, \"showline\": true, \"title\": \"\\u5468\", \"type\": \"category\", \"zeroline\": true}, \"yaxis\": {\"mirror\": \"all\", \"nticks\": 20, \"showgrid\": true, \"showline\": true, \"title\": \"\\u6d41\\u6c34\\u53f7\", \"zeroline\": true}}, {\"showLink\": true, \"linkText\": \"Export to plot.ly\"})});</script>"
      ],
      "text/vnd.plotly.v1+html": [
       "<div id=\"8db1f3e4-6c72-47b0-9896-972cb5bdfcce\" style=\"height: 525px; width: 100%;\" class=\"plotly-graph-div\"></div><script type=\"text/javascript\">require([\"plotly\"], function(Plotly) { window.PLOTLYENV=window.PLOTLYENV || {};window.PLOTLYENV.BASE_URL=\"https://plot.ly\";Plotly.newPlot(\"8db1f3e4-6c72-47b0-9896-972cb5bdfcce\", [{\"line\": {\"dash\": \"solid\"}, \"name\": \"\\u6d41\\u6c34\\u53f7(\\u5b8b\\u5c11\\u5b87)\", \"x\": [\"8\\u67085\\u5468\", \"9\\u67081\\u5468\", \"9\\u67082\\u5468\", \"9\\u67083\\u5468\", \"9\\u67084\\u5468\", \"10\\u67081\\u5468\", \"10\\u67082\\u5468\", \"10\\u67083\\u5468\", \"10\\u67084\\u5468\", \"11\\u67081\\u5468\", \"11\\u67082\\u5468\"], \"y\": [1.0, null, null, null, 1.0, 6.0, null, 3.0, 1.0, null, 1.0], \"type\": \"scatter\", \"uid\": \"91c51d11-e625-11e8-8ddb-a41f72875c19\"}, {\"line\": {\"dash\": \"dot\"}, \"name\": \"\\u6d41\\u6c34\\u53f7(\\u51af\\u656c\\u5ca9)\", \"x\": [\"8\\u67085\\u5468\", \"9\\u67081\\u5468\", \"9\\u67082\\u5468\", \"9\\u67083\\u5468\", \"9\\u67084\\u5468\", \"10\\u67081\\u5468\", \"10\\u67082\\u5468\", \"10\\u67083\\u5468\", \"10\\u67084\\u5468\", \"11\\u67081\\u5468\", \"11\\u67082\\u5468\"], \"y\": [3.0, 3.0, 1.0, 3.0, 1.0, 5.0, 5.0, 12.0, 5.0, 6.0, 1.0], \"type\": \"scatter\", \"uid\": \"91c51d12-e625-11e8-8ddb-a41f72875c19\"}, {\"line\": {\"dash\": \"dash\"}, \"name\": \"\\u6d41\\u6c34\\u53f7(\\u89e3\\u98de)\", \"x\": [\"8\\u67085\\u5468\", \"9\\u67081\\u5468\", \"9\\u67082\\u5468\", \"9\\u67083\\u5468\", \"9\\u67084\\u5468\", \"10\\u67081\\u5468\", \"10\\u67082\\u5468\", \"10\\u67083\\u5468\", \"10\\u67084\\u5468\", \"11\\u67081\\u5468\", \"11\\u67082\\u5468\"], \"y\": [null, null, null, null, 2.0, 1.0, 3.0, 3.0, 4.0, 1.0, null], \"type\": \"scatter\", \"uid\": \"91c51d13-e625-11e8-8ddb-a41f72875c19\"}, {\"line\": {\"dash\": \"longdash\"}, \"name\": \"\\u6d41\\u6c34\\u53f7(\\u6731\\u6167\\u840d)\", \"x\": [\"8\\u67085\\u5468\", \"9\\u67081\\u5468\", \"9\\u67082\\u5468\", \"9\\u67083\\u5468\", \"9\\u67084\\u5468\", \"10\\u67081\\u5468\", \"10\\u67082\\u5468\", \"10\\u67083\\u5468\", \"10\\u67084\\u5468\", \"11\\u67081\\u5468\", \"11\\u67082\\u5468\"], \"y\": [4.0, 4.0, 3.0, 1.0, 1.0, 3.0, 4.0, 5.0, 5.0, 6.0, 1.0], \"type\": \"scatter\", \"uid\": \"91c51d14-e625-11e8-8ddb-a41f72875c19\"}, {\"line\": {\"dash\": \"dashdot\"}, \"name\": \"\\u6d41\\u6c34\\u53f7(\\u8d75\\u5029)\", \"x\": [\"8\\u67085\\u5468\", \"9\\u67081\\u5468\", \"9\\u67082\\u5468\", \"9\\u67083\\u5468\", \"9\\u67084\\u5468\", \"10\\u67081\\u5468\", \"10\\u67082\\u5468\", \"10\\u67083\\u5468\", \"10\\u67084\\u5468\", \"11\\u67081\\u5468\", \"11\\u67082\\u5468\"], \"y\": [4.0, 5.0, 4.0, 6.0, 1.0, 8.0, 4.0, 3.0, 4.0, 3.0, 1.0], \"type\": \"scatter\", \"uid\": \"91c51d15-e625-11e8-8ddb-a41f72875c19\"}], {\"title\": \"\\u6d41\\u6c34\\u53f7\\u5468\\u8d8b\\u52bf\\u56fe\", \"xaxis\": {\"mirror\": \"all\", \"nticks\": 20, \"showgrid\": true, \"showline\": true, \"title\": \"\\u5468\", \"type\": \"category\", \"zeroline\": true}, \"yaxis\": {\"mirror\": \"all\", \"nticks\": 20, \"showgrid\": true, \"showline\": true, \"title\": \"\\u6d41\\u6c34\\u53f7\", \"zeroline\": true}}, {\"showLink\": true, \"linkText\": \"Export to plot.ly\"})});</script>"
      ]
     },
     "metadata": {},
     "output_type": "display_data"
    }
   ],
   "source": [
    "df1_gxh = df1[df1['信息负责人'].isin(gxh)] \n",
    "ss = myModule.format(df1_gxh ,'week_number' ,['流水号'])\n",
    "ss.add_group('信息负责人')\n",
    "pp = myModule.sort_by_index(ss.groupby('count'))\n",
    "myModule.myPlot(pp).plot('line')"
   ]
  },
  {
   "cell_type": "markdown",
   "metadata": {},
   "source": [
    "## 评估周期情况统计"
   ]
  },
  {
   "cell_type": "markdown",
   "metadata": {},
   "source": [
    "### 预计周期趋势图"
   ]
  },
  {
   "cell_type": "code",
   "execution_count": 124,
   "metadata": {
    "collapsed": false
   },
   "outputs": [
    {
     "data": {
      "application/vnd.plotly.v1+json": {
       "data": [
        {
         "name": "预计周期",
         "type": "scatter",
         "uid": "91c51d16-e625-11e8-8ddb-a41f72875c19",
         "x": [
          "8月5周",
          "9月1周",
          "9月2周",
          "9月3周",
          "9月4周",
          "10月1周",
          "10月2周",
          "10月3周",
          "10月4周",
          "11月1周",
          "11月2周"
         ],
         "y": [
          6.051282051282051,
          6.880952380952381,
          8,
          8.622222222222222,
          8.6875,
          6.948275862068965,
          6.055555555555555,
          5.865384615384615,
          6.0754716981132075,
          6.142857142857143,
          4.666666666666667
         ]
        }
       ],
       "layout": {
        "title": "预计周期周趋势图",
        "xaxis": {
         "mirror": "all",
         "nticks": 20,
         "showgrid": true,
         "showline": true,
         "title": "周",
         "type": "category",
         "zeroline": true
        },
        "yaxis": {
         "mirror": "all",
         "nticks": 20,
         "showgrid": true,
         "showline": true,
         "title": "预计周期",
         "zeroline": true
        }
       }
      },
      "text/html": [
       "<div id=\"5121e2c7-6133-41a8-bd7c-8dc6319afa46\" style=\"height: 525px; width: 100%;\" class=\"plotly-graph-div\"></div><script type=\"text/javascript\">require([\"plotly\"], function(Plotly) { window.PLOTLYENV=window.PLOTLYENV || {};window.PLOTLYENV.BASE_URL=\"https://plot.ly\";Plotly.newPlot(\"5121e2c7-6133-41a8-bd7c-8dc6319afa46\", [{\"name\": \"\\u9884\\u8ba1\\u5468\\u671f\", \"x\": [\"8\\u67085\\u5468\", \"9\\u67081\\u5468\", \"9\\u67082\\u5468\", \"9\\u67083\\u5468\", \"9\\u67084\\u5468\", \"10\\u67081\\u5468\", \"10\\u67082\\u5468\", \"10\\u67083\\u5468\", \"10\\u67084\\u5468\", \"11\\u67081\\u5468\", \"11\\u67082\\u5468\"], \"y\": [6.051282051282051, 6.880952380952381, 8.0, 8.622222222222222, 8.6875, 6.948275862068965, 6.055555555555555, 5.865384615384615, 6.0754716981132075, 6.142857142857143, 4.666666666666667], \"type\": \"scatter\", \"uid\": \"91c51d16-e625-11e8-8ddb-a41f72875c19\"}], {\"title\": \"\\u9884\\u8ba1\\u5468\\u671f\\u5468\\u8d8b\\u52bf\\u56fe\", \"xaxis\": {\"mirror\": \"all\", \"nticks\": 20, \"showgrid\": true, \"showline\": true, \"title\": \"\\u5468\", \"type\": \"category\", \"zeroline\": true}, \"yaxis\": {\"mirror\": \"all\", \"nticks\": 20, \"showgrid\": true, \"showline\": true, \"title\": \"\\u9884\\u8ba1\\u5468\\u671f\", \"zeroline\": true}}, {\"showLink\": true, \"linkText\": \"Export to plot.ly\"})});</script>"
      ],
      "text/vnd.plotly.v1+html": [
       "<div id=\"5121e2c7-6133-41a8-bd7c-8dc6319afa46\" style=\"height: 525px; width: 100%;\" class=\"plotly-graph-div\"></div><script type=\"text/javascript\">require([\"plotly\"], function(Plotly) { window.PLOTLYENV=window.PLOTLYENV || {};window.PLOTLYENV.BASE_URL=\"https://plot.ly\";Plotly.newPlot(\"5121e2c7-6133-41a8-bd7c-8dc6319afa46\", [{\"name\": \"\\u9884\\u8ba1\\u5468\\u671f\", \"x\": [\"8\\u67085\\u5468\", \"9\\u67081\\u5468\", \"9\\u67082\\u5468\", \"9\\u67083\\u5468\", \"9\\u67084\\u5468\", \"10\\u67081\\u5468\", \"10\\u67082\\u5468\", \"10\\u67083\\u5468\", \"10\\u67084\\u5468\", \"11\\u67081\\u5468\", \"11\\u67082\\u5468\"], \"y\": [6.051282051282051, 6.880952380952381, 8.0, 8.622222222222222, 8.6875, 6.948275862068965, 6.055555555555555, 5.865384615384615, 6.0754716981132075, 6.142857142857143, 4.666666666666667], \"type\": \"scatter\", \"uid\": \"91c51d16-e625-11e8-8ddb-a41f72875c19\"}], {\"title\": \"\\u9884\\u8ba1\\u5468\\u671f\\u5468\\u8d8b\\u52bf\\u56fe\", \"xaxis\": {\"mirror\": \"all\", \"nticks\": 20, \"showgrid\": true, \"showline\": true, \"title\": \"\\u5468\", \"type\": \"category\", \"zeroline\": true}, \"yaxis\": {\"mirror\": \"all\", \"nticks\": 20, \"showgrid\": true, \"showline\": true, \"title\": \"\\u9884\\u8ba1\\u5468\\u671f\", \"zeroline\": true}}, {\"showLink\": true, \"linkText\": \"Export to plot.ly\"})});</script>"
      ]
     },
     "metadata": {},
     "output_type": "display_data"
    }
   ],
   "source": [
    "# 平均评估周期，建议添加最长评估周期、25%、50%、80%项目评估周期的指标\n",
    "ss = myModule.format(df2 ,'week_number' ,['预计周期'])\n",
    "pp = myModule.sort_by_index(ss.groupby('mean'))\n",
    "myModule.myPlot(pp).plot('line')"
   ]
  },
  {
   "cell_type": "markdown",
   "metadata": {},
   "source": [
    "### 预计周期>7日项目列表"
   ]
  },
  {
   "cell_type": "code",
   "execution_count": 125,
   "metadata": {
    "collapsed": false,
    "scrolled": false
   },
   "outputs": [
    {
     "data": {
      "text/html": [
       "<div>\n",
       "<style scoped>\n",
       "    .dataframe tbody tr th:only-of-type {\n",
       "        vertical-align: middle;\n",
       "    }\n",
       "\n",
       "    .dataframe tbody tr th {\n",
       "        vertical-align: top;\n",
       "    }\n",
       "\n",
       "    .dataframe thead th {\n",
       "        text-align: right;\n",
       "    }\n",
       "</style>\n",
       "<table border=\"1\" class=\"dataframe\">\n",
       "  <thead>\n",
       "    <tr style=\"text-align: right;\">\n",
       "      <th></th>\n",
       "      <th>week_number</th>\n",
       "      <th>流水号</th>\n",
       "      <th>个性化分析名称</th>\n",
       "      <th>信息负责人</th>\n",
       "      <th>下单时间</th>\n",
       "      <th>开始执行时间</th>\n",
       "      <th>预计交付时间</th>\n",
       "      <th>预计周期</th>\n",
       "      <th>备注</th>\n",
       "    </tr>\n",
       "  </thead>\n",
       "  <tbody>\n",
       "    <tr>\n",
       "      <th>455</th>\n",
       "      <td>11月1周</td>\n",
       "      <td>20181102-012</td>\n",
       "      <td>PM-BJ181079-03动物所9个小鼠Bisulfite甲基化建库测序分析任务单-15</td>\n",
       "      <td>韩少怀</td>\n",
       "      <td>2018-11-02</td>\n",
       "      <td>2018-11-05</td>\n",
       "      <td>2018-11-16</td>\n",
       "      <td>11</td>\n",
       "      <td>0</td>\n",
       "    </tr>\n",
       "    <tr>\n",
       "      <th>468</th>\n",
       "      <td>11月1周</td>\n",
       "      <td>20181106-006</td>\n",
       "      <td>BJ2331-02军医科院8个人小RNA分析任务单-01</td>\n",
       "      <td>杨宇</td>\n",
       "      <td>2018-11-06</td>\n",
       "      <td>2018-11-06</td>\n",
       "      <td>2018-11-16</td>\n",
       "      <td>10</td>\n",
       "      <td>0</td>\n",
       "    </tr>\n",
       "    <tr>\n",
       "      <th>491</th>\n",
       "      <td>11月1周</td>\n",
       "      <td>20181108-006</td>\n",
       "      <td>ANYWSD180249山东农业大学18个银杏蛋白组学定量分析</td>\n",
       "      <td>李华云</td>\n",
       "      <td>2018-11-08</td>\n",
       "      <td>2018-11-09</td>\n",
       "      <td>2018-11-19</td>\n",
       "      <td>10</td>\n",
       "      <td>0</td>\n",
       "    </tr>\n",
       "    <tr>\n",
       "      <th>474</th>\n",
       "      <td>11月1周</td>\n",
       "      <td>20181106-012</td>\n",
       "      <td>BJ170165-02中科院动物所10个小鼠单细胞甲基化建库任务单-07</td>\n",
       "      <td>韩少怀</td>\n",
       "      <td>2018-11-06</td>\n",
       "      <td>2018-11-07</td>\n",
       "      <td>2018-11-16</td>\n",
       "      <td>9</td>\n",
       "      <td>0</td>\n",
       "    </tr>\n",
       "    <tr>\n",
       "      <th>475</th>\n",
       "      <td>11月1周</td>\n",
       "      <td>20181106-013</td>\n",
       "      <td>BJ170165-02中科院动物所10个小鼠单细胞甲基化建库任务单-08</td>\n",
       "      <td>韩少怀</td>\n",
       "      <td>2018-11-06</td>\n",
       "      <td>2018-11-07</td>\n",
       "      <td>2018-11-16</td>\n",
       "      <td>9</td>\n",
       "      <td>0</td>\n",
       "    </tr>\n",
       "    <tr>\n",
       "      <th>476</th>\n",
       "      <td>11月1周</td>\n",
       "      <td>20181106-014</td>\n",
       "      <td>BJ170165-02中科院动物所10个小鼠单细胞甲基化建库任务单-09</td>\n",
       "      <td>韩少怀</td>\n",
       "      <td>2018-11-06</td>\n",
       "      <td>2018-11-07</td>\n",
       "      <td>2018-11-16</td>\n",
       "      <td>9</td>\n",
       "      <td>0</td>\n",
       "    </tr>\n",
       "  </tbody>\n",
       "</table>\n",
       "</div>"
      ],
      "text/plain": [
       "    week_number           流水号                                        个性化分析名称  \\\n",
       "455       11月1周  20181102-012  PM-BJ181079-03动物所9个小鼠Bisulfite甲基化建库测序分析任务单-15   \n",
       "468       11月1周  20181106-006                   BJ2331-02军医科院8个人小RNA分析任务单-01   \n",
       "491       11月1周  20181108-006                ANYWSD180249山东农业大学18个银杏蛋白组学定量分析   \n",
       "474       11月1周  20181106-012           BJ170165-02中科院动物所10个小鼠单细胞甲基化建库任务单-07   \n",
       "475       11月1周  20181106-013           BJ170165-02中科院动物所10个小鼠单细胞甲基化建库任务单-08   \n",
       "476       11月1周  20181106-014           BJ170165-02中科院动物所10个小鼠单细胞甲基化建库任务单-09   \n",
       "\n",
       "    信息负责人       下单时间     开始执行时间     预计交付时间  预计周期 备注  \n",
       "455   韩少怀 2018-11-02 2018-11-05 2018-11-16    11  0  \n",
       "468    杨宇 2018-11-06 2018-11-06 2018-11-16    10  0  \n",
       "491   李华云 2018-11-08 2018-11-09 2018-11-19    10  0  \n",
       "474   韩少怀 2018-11-06 2018-11-07 2018-11-16     9  0  \n",
       "475   韩少怀 2018-11-06 2018-11-07 2018-11-16     9  0  \n",
       "476   韩少怀 2018-11-06 2018-11-07 2018-11-16     9  0  "
      ]
     },
     "execution_count": 125,
     "metadata": {},
     "output_type": "execute_result"
    }
   ],
   "source": [
    "ss = myModule.format(df2,'week_number',['流水号','个性化分析名称','信息负责人','下单时间','开始执行时间','预计交付时间','预计周期','备注'])\n",
    "ss.select_by_value('week_number',stat_week)\n",
    "ss.judge_and_replace('预计周期',7)\n",
    "ss.select_by_value('预计周期_bool',True)\n",
    "tt = myModule.format(ss.df,'week_number',['流水号','个性化分析名称','信息负责人','下单时间','开始执行时间','预计交付时间','预计周期','备注']).df\n",
    "tt.sort_values(by = '预计周期',axis = 0,ascending = False)   #预计周期从大到小排序"
   ]
  },
  {
   "cell_type": "code",
   "execution_count": null,
   "metadata": {
    "collapsed": true
   },
   "outputs": [],
   "source": []
  },
  {
   "cell_type": "markdown",
   "metadata": {},
   "source": [
    "## 反馈延期情况统计"
   ]
  },
  {
   "cell_type": "markdown",
   "metadata": {},
   "source": [
    "### 反馈延期率趋势图"
   ]
  },
  {
   "cell_type": "code",
   "execution_count": 126,
   "metadata": {
    "collapsed": false
   },
   "outputs": [
    {
     "name": "stderr",
     "output_type": "stream",
     "text": [
      "/home/jiankong/jupyter/chart/bin/supplment_analysis/myModule.py:253: SettingWithCopyWarning:\n",
      "\n",
      "\n",
      "A value is trying to be set on a copy of a slice from a DataFrame.\n",
      "Try using .loc[row_indexer,col_indexer] = value instead\n",
      "\n",
      "See the caveats in the documentation: http://pandas.pydata.org/pandas-docs/stable/indexing.html#indexing-view-versus-copy\n",
      "\n",
      "/home/jiankong/anaconda3/lib/python3.6/site-packages/ipykernel/__main__.py:3: SettingWithCopyWarning:\n",
      "\n",
      "\n",
      "A value is trying to be set on a copy of a slice from a DataFrame.\n",
      "Try using .loc[row_indexer,col_indexer] = value instead\n",
      "\n",
      "See the caveats in the documentation: http://pandas.pydata.org/pandas-docs/stable/indexing.html#indexing-view-versus-copy\n",
      "\n",
      "/home/jiankong/anaconda3/lib/python3.6/site-packages/ipykernel/__main__.py:4: SettingWithCopyWarning:\n",
      "\n",
      "\n",
      "A value is trying to be set on a copy of a slice from a DataFrame.\n",
      "Try using .loc[row_indexer,col_indexer] = value instead\n",
      "\n",
      "See the caveats in the documentation: http://pandas.pydata.org/pandas-docs/stable/indexing.html#indexing-view-versus-copy\n",
      "\n"
     ]
    },
    {
     "data": {
      "application/vnd.plotly.v1+json": {
       "data": [
        {
         "name": "反馈延期率",
         "type": "scatter",
         "uid": "91c51d17-e625-11e8-8ddb-a41f72875c19",
         "x": [
          "8月5周",
          "9月1周",
          "9月2周",
          "9月3周",
          "9月4周",
          "10月1周",
          "10月2周",
          "10月3周",
          "10月4周",
          "11月1周",
          "11月2周"
         ],
         "y": [
          0.023255813953488372,
          0,
          0,
          0,
          0.05555555555555555,
          0,
          0.029850746268656716,
          0.05357142857142857,
          0.015625,
          0.03773584905660377,
          0
         ]
        }
       ],
       "layout": {
        "title": "反馈延期率周趋势图",
        "xaxis": {
         "mirror": "all",
         "nticks": 20,
         "showgrid": true,
         "showline": true,
         "title": "周",
         "type": "category",
         "zeroline": true
        },
        "yaxis": {
         "mirror": "all",
         "nticks": 20,
         "showgrid": true,
         "showline": true,
         "title": "反馈延期率",
         "zeroline": true
        }
       }
      },
      "text/html": [
       "<div id=\"707853ad-3b7b-48ba-8f22-bf92a94b0d77\" style=\"height: 525px; width: 100%;\" class=\"plotly-graph-div\"></div><script type=\"text/javascript\">require([\"plotly\"], function(Plotly) { window.PLOTLYENV=window.PLOTLYENV || {};window.PLOTLYENV.BASE_URL=\"https://plot.ly\";Plotly.newPlot(\"707853ad-3b7b-48ba-8f22-bf92a94b0d77\", [{\"name\": \"\\u53cd\\u9988\\u5ef6\\u671f\\u7387\", \"x\": [\"8\\u67085\\u5468\", \"9\\u67081\\u5468\", \"9\\u67082\\u5468\", \"9\\u67083\\u5468\", \"9\\u67084\\u5468\", \"10\\u67081\\u5468\", \"10\\u67082\\u5468\", \"10\\u67083\\u5468\", \"10\\u67084\\u5468\", \"11\\u67081\\u5468\", \"11\\u67082\\u5468\"], \"y\": [0.023255813953488372, 0.0, 0.0, 0.0, 0.05555555555555555, 0.0, 0.029850746268656716, 0.05357142857142857, 0.015625, 0.03773584905660377, 0.0], \"type\": \"scatter\", \"uid\": \"91c51d17-e625-11e8-8ddb-a41f72875c19\"}], {\"title\": \"\\u53cd\\u9988\\u5ef6\\u671f\\u7387\\u5468\\u8d8b\\u52bf\\u56fe\", \"xaxis\": {\"mirror\": \"all\", \"nticks\": 20, \"showgrid\": true, \"showline\": true, \"title\": \"\\u5468\", \"type\": \"category\", \"zeroline\": true}, \"yaxis\": {\"mirror\": \"all\", \"nticks\": 20, \"showgrid\": true, \"showline\": true, \"title\": \"\\u53cd\\u9988\\u5ef6\\u671f\\u7387\", \"zeroline\": true}}, {\"showLink\": true, \"linkText\": \"Export to plot.ly\"})});</script>"
      ],
      "text/vnd.plotly.v1+html": [
       "<div id=\"707853ad-3b7b-48ba-8f22-bf92a94b0d77\" style=\"height: 525px; width: 100%;\" class=\"plotly-graph-div\"></div><script type=\"text/javascript\">require([\"plotly\"], function(Plotly) { window.PLOTLYENV=window.PLOTLYENV || {};window.PLOTLYENV.BASE_URL=\"https://plot.ly\";Plotly.newPlot(\"707853ad-3b7b-48ba-8f22-bf92a94b0d77\", [{\"name\": \"\\u53cd\\u9988\\u5ef6\\u671f\\u7387\", \"x\": [\"8\\u67085\\u5468\", \"9\\u67081\\u5468\", \"9\\u67082\\u5468\", \"9\\u67083\\u5468\", \"9\\u67084\\u5468\", \"10\\u67081\\u5468\", \"10\\u67082\\u5468\", \"10\\u67083\\u5468\", \"10\\u67084\\u5468\", \"11\\u67081\\u5468\", \"11\\u67082\\u5468\"], \"y\": [0.023255813953488372, 0.0, 0.0, 0.0, 0.05555555555555555, 0.0, 0.029850746268656716, 0.05357142857142857, 0.015625, 0.03773584905660377, 0.0], \"type\": \"scatter\", \"uid\": \"91c51d17-e625-11e8-8ddb-a41f72875c19\"}], {\"title\": \"\\u53cd\\u9988\\u5ef6\\u671f\\u7387\\u5468\\u8d8b\\u52bf\\u56fe\", \"xaxis\": {\"mirror\": \"all\", \"nticks\": 20, \"showgrid\": true, \"showline\": true, \"title\": \"\\u5468\", \"type\": \"category\", \"zeroline\": true}, \"yaxis\": {\"mirror\": \"all\", \"nticks\": 20, \"showgrid\": true, \"showline\": true, \"title\": \"\\u53cd\\u9988\\u5ef6\\u671f\\u7387\", \"zeroline\": true}}, {\"showLink\": true, \"linkText\": \"Export to plot.ly\"})});</script>"
      ]
     },
     "metadata": {},
     "output_type": "display_data"
    }
   ],
   "source": [
    "ss = myModule.format(df1 ,'week_number' ,['流水号','反馈周期'])\n",
    "ss.judge_and_replace('反馈周期',1)\n",
    "ss.df['流水号'] = list(map(changetype2, ss.df['流水号']))\n",
    "ss.df['反馈周期_bool'] = ss.df['反馈周期_bool'].astype(int)      #bool类型装换为数值1/0\n",
    "pp = myModule.sort_by_index(ss.get_total_ratio([['反馈延期率' ,'反馈周期_bool' , '流水号','/']]))\n",
    "myModule.myPlot(pp).plot('line')"
   ]
  },
  {
   "cell_type": "markdown",
   "metadata": {},
   "source": [
    "### 反馈延期项目列表"
   ]
  },
  {
   "cell_type": "code",
   "execution_count": 127,
   "metadata": {
    "collapsed": false
   },
   "outputs": [
    {
     "data": {
      "text/html": [
       "<div>\n",
       "<style scoped>\n",
       "    .dataframe tbody tr th:only-of-type {\n",
       "        vertical-align: middle;\n",
       "    }\n",
       "\n",
       "    .dataframe tbody tr th {\n",
       "        vertical-align: top;\n",
       "    }\n",
       "\n",
       "    .dataframe thead th {\n",
       "        text-align: right;\n",
       "    }\n",
       "</style>\n",
       "<table border=\"1\" class=\"dataframe\">\n",
       "  <thead>\n",
       "    <tr style=\"text-align: right;\">\n",
       "      <th></th>\n",
       "      <th>week_number</th>\n",
       "      <th>流水号</th>\n",
       "      <th>个性化分析名称</th>\n",
       "      <th>信息负责人</th>\n",
       "      <th>下单时间</th>\n",
       "      <th>首次评估反馈时间</th>\n",
       "      <th>反馈周期</th>\n",
       "      <th>备注</th>\n",
       "    </tr>\n",
       "  </thead>\n",
       "  <tbody>\n",
       "    <tr>\n",
       "      <th>487</th>\n",
       "      <td>11月1周</td>\n",
       "      <td>20181108-002</td>\n",
       "      <td>BJ170145-03中国畜牧兽医学会164只鸡样WaferGen平台目标区域捕获建库测序及...</td>\n",
       "      <td>刘永强</td>\n",
       "      <td>2018-11-08</td>\n",
       "      <td>2018-11-12</td>\n",
       "      <td>4</td>\n",
       "      <td>未反馈</td>\n",
       "    </tr>\n",
       "    <tr>\n",
       "      <th>488</th>\n",
       "      <td>11月1周</td>\n",
       "      <td>20181108-003</td>\n",
       "      <td>PM-SD170191-02山东大学生殖医学研究中心1个人hic文库测序分析任务单-VIP-05</td>\n",
       "      <td>谢德键</td>\n",
       "      <td>2018-11-08</td>\n",
       "      <td>2018-11-12</td>\n",
       "      <td>4</td>\n",
       "      <td>未反馈</td>\n",
       "    </tr>\n",
       "  </tbody>\n",
       "</table>\n",
       "</div>"
      ],
      "text/plain": [
       "    week_number           流水号  \\\n",
       "487       11月1周  20181108-002   \n",
       "488       11月1周  20181108-003   \n",
       "\n",
       "                                               个性化分析名称 信息负责人       下单时间  \\\n",
       "487  BJ170145-03中国畜牧兽医学会164只鸡样WaferGen平台目标区域捕获建库测序及...   刘永强 2018-11-08   \n",
       "488   PM-SD170191-02山东大学生殖医学研究中心1个人hic文库测序分析任务单-VIP-05   谢德键 2018-11-08   \n",
       "\n",
       "      首次评估反馈时间  反馈周期   备注  \n",
       "487 2018-11-12     4  未反馈  \n",
       "488 2018-11-12     4  未反馈  "
      ]
     },
     "execution_count": 127,
     "metadata": {},
     "output_type": "execute_result"
    }
   ],
   "source": [
    "ss = myModule.format(df1,'week_number',['流水号','个性化分析名称','信息负责人','下单时间','首次评估反馈时间','反馈周期','备注'])\n",
    "ss.select_by_value('week_number',stat_week)\n",
    "ss.judge_and_replace('反馈周期',1)\n",
    "ss.select_by_value('反馈周期_bool',True)\n",
    "tt = myModule.format(ss.df,'week_number',['流水号','个性化分析名称','信息负责人','下单时间','首次评估反馈时间','反馈周期','备注']).df\n",
    "tt.sort_values(by = '反馈周期',axis = 0,ascending = False)"
   ]
  },
  {
   "cell_type": "markdown",
   "metadata": {},
   "source": [
    "## 在线项目数统计"
   ]
  },
  {
   "cell_type": "code",
   "execution_count": 128,
   "metadata": {
    "collapsed": false,
    "scrolled": true
   },
   "outputs": [
    {
     "data": {
      "application/vnd.plotly.v1+json": {
       "data": [
        {
         "name": "流水号",
         "type": "bar",
         "uid": "91c51d18-e625-11e8-8ddb-a41f72875c19",
         "x": [
          "何胜",
          "冯敬岩",
          "刘梦苑",
          "刘永强",
          "朱慧萍",
          "沈立群",
          "王霞",
          "赵倩"
         ],
         "y": [
          2,
          6,
          3,
          2,
          2,
          1,
          2,
          2
         ]
        }
       ],
       "layout": {
        "title": "流水号周趋势图",
        "xaxis": {
         "mirror": "all",
         "nticks": 20,
         "showgrid": true,
         "showline": true,
         "title": "周",
         "type": "category",
         "zeroline": true
        },
        "yaxis": {
         "mirror": "all",
         "nticks": 20,
         "showgrid": true,
         "showline": true,
         "title": "流水号",
         "zeroline": true
        }
       }
      },
      "text/html": [
       "<div id=\"42ae784b-9f22-4615-b7f8-4363f02651e0\" style=\"height: 525px; width: 100%;\" class=\"plotly-graph-div\"></div><script type=\"text/javascript\">require([\"plotly\"], function(Plotly) { window.PLOTLYENV=window.PLOTLYENV || {};window.PLOTLYENV.BASE_URL=\"https://plot.ly\";Plotly.newPlot(\"42ae784b-9f22-4615-b7f8-4363f02651e0\", [{\"name\": \"\\u6d41\\u6c34\\u53f7\", \"x\": [\"\\u4f55\\u80dc\", \"\\u51af\\u656c\\u5ca9\", \"\\u5218\\u68a6\\u82d1\", \"\\u5218\\u6c38\\u5f3a\", \"\\u6731\\u6167\\u840d\", \"\\u6c88\\u7acb\\u7fa4\", \"\\u738b\\u971e\", \"\\u8d75\\u5029\"], \"y\": [2, 6, 3, 2, 2, 1, 2, 2], \"type\": \"bar\", \"uid\": \"91c51d18-e625-11e8-8ddb-a41f72875c19\"}], {\"title\": \"\\u6d41\\u6c34\\u53f7\\u5468\\u8d8b\\u52bf\\u56fe\", \"xaxis\": {\"mirror\": \"all\", \"nticks\": 20, \"showgrid\": true, \"showline\": true, \"title\": \"\\u5468\", \"type\": \"category\", \"zeroline\": true}, \"yaxis\": {\"mirror\": \"all\", \"nticks\": 20, \"showgrid\": true, \"showline\": true, \"title\": \"\\u6d41\\u6c34\\u53f7\", \"zeroline\": true}}, {\"showLink\": true, \"linkText\": \"Export to plot.ly\"})});</script>"
      ],
      "text/vnd.plotly.v1+html": [
       "<div id=\"42ae784b-9f22-4615-b7f8-4363f02651e0\" style=\"height: 525px; width: 100%;\" class=\"plotly-graph-div\"></div><script type=\"text/javascript\">require([\"plotly\"], function(Plotly) { window.PLOTLYENV=window.PLOTLYENV || {};window.PLOTLYENV.BASE_URL=\"https://plot.ly\";Plotly.newPlot(\"42ae784b-9f22-4615-b7f8-4363f02651e0\", [{\"name\": \"\\u6d41\\u6c34\\u53f7\", \"x\": [\"\\u4f55\\u80dc\", \"\\u51af\\u656c\\u5ca9\", \"\\u5218\\u68a6\\u82d1\", \"\\u5218\\u6c38\\u5f3a\", \"\\u6731\\u6167\\u840d\", \"\\u6c88\\u7acb\\u7fa4\", \"\\u738b\\u971e\", \"\\u8d75\\u5029\"], \"y\": [2, 6, 3, 2, 2, 1, 2, 2], \"type\": \"bar\", \"uid\": \"91c51d18-e625-11e8-8ddb-a41f72875c19\"}], {\"title\": \"\\u6d41\\u6c34\\u53f7\\u5468\\u8d8b\\u52bf\\u56fe\", \"xaxis\": {\"mirror\": \"all\", \"nticks\": 20, \"showgrid\": true, \"showline\": true, \"title\": \"\\u5468\", \"type\": \"category\", \"zeroline\": true}, \"yaxis\": {\"mirror\": \"all\", \"nticks\": 20, \"showgrid\": true, \"showline\": true, \"title\": \"\\u6d41\\u6c34\\u53f7\", \"zeroline\": true}}, {\"showLink\": true, \"linkText\": \"Export to plot.ly\"})});</script>"
      ]
     },
     "metadata": {},
     "output_type": "display_data"
    }
   ],
   "source": [
    "df3_fx = df3[df3['信息负责人'].isin(fenxi)] \n",
    "ss = myModule.format(df3_fx ,'信息负责人' ,['流水号'])\n",
    "pp = ss.groupby('count')\n",
    "myModule.myPlot(pp).plot('bar')"
   ]
  },
  {
   "cell_type": "markdown",
   "metadata": {},
   "source": [
    "# 交付情况统计"
   ]
  },
  {
   "cell_type": "markdown",
   "metadata": {},
   "source": [
    "## 完成项目数统计"
   ]
  },
  {
   "cell_type": "markdown",
   "metadata": {},
   "source": [
    "### 整体完成项目数趋势图"
   ]
  },
  {
   "cell_type": "code",
   "execution_count": 129,
   "metadata": {
    "collapsed": false
   },
   "outputs": [
    {
     "data": {
      "application/vnd.plotly.v1+json": {
       "data": [
        {
         "name": "实际交付时间",
         "type": "scatter",
         "uid": "91c51d19-e625-11e8-8ddb-a41f72875c19",
         "x": [
          "8月5周",
          "9月1周",
          "9月2周",
          "9月3周",
          "9月4周",
          "10月1周",
          "10月2周",
          "10月3周",
          "10月4周",
          "11月1周",
          "11月2周"
         ],
         "y": [
          8,
          35,
          51,
          34,
          16,
          26,
          48,
          59,
          54,
          60,
          7
         ]
        }
       ],
       "layout": {
        "title": "实际交付时间周趋势图",
        "xaxis": {
         "mirror": "all",
         "nticks": 20,
         "showgrid": true,
         "showline": true,
         "title": "周",
         "type": "category",
         "zeroline": true
        },
        "yaxis": {
         "mirror": "all",
         "nticks": 20,
         "showgrid": true,
         "showline": true,
         "title": "实际交付时间",
         "zeroline": true
        }
       }
      },
      "text/html": [
       "<div id=\"636ba0eb-86e3-4a5b-81ff-d3041ff1a03c\" style=\"height: 525px; width: 100%;\" class=\"plotly-graph-div\"></div><script type=\"text/javascript\">require([\"plotly\"], function(Plotly) { window.PLOTLYENV=window.PLOTLYENV || {};window.PLOTLYENV.BASE_URL=\"https://plot.ly\";Plotly.newPlot(\"636ba0eb-86e3-4a5b-81ff-d3041ff1a03c\", [{\"name\": \"\\u5b9e\\u9645\\u4ea4\\u4ed8\\u65f6\\u95f4\", \"x\": [\"8\\u67085\\u5468\", \"9\\u67081\\u5468\", \"9\\u67082\\u5468\", \"9\\u67083\\u5468\", \"9\\u67084\\u5468\", \"10\\u67081\\u5468\", \"10\\u67082\\u5468\", \"10\\u67083\\u5468\", \"10\\u67084\\u5468\", \"11\\u67081\\u5468\", \"11\\u67082\\u5468\"], \"y\": [8, 35, 51, 34, 16, 26, 48, 59, 54, 60, 7], \"type\": \"scatter\", \"uid\": \"91c51d19-e625-11e8-8ddb-a41f72875c19\"}], {\"title\": \"\\u5b9e\\u9645\\u4ea4\\u4ed8\\u65f6\\u95f4\\u5468\\u8d8b\\u52bf\\u56fe\", \"xaxis\": {\"mirror\": \"all\", \"nticks\": 20, \"showgrid\": true, \"showline\": true, \"title\": \"\\u5468\", \"type\": \"category\", \"zeroline\": true}, \"yaxis\": {\"mirror\": \"all\", \"nticks\": 20, \"showgrid\": true, \"showline\": true, \"title\": \"\\u5b9e\\u9645\\u4ea4\\u4ed8\\u65f6\\u95f4\", \"zeroline\": true}}, {\"showLink\": true, \"linkText\": \"Export to plot.ly\"})});</script>"
      ],
      "text/vnd.plotly.v1+html": [
       "<div id=\"636ba0eb-86e3-4a5b-81ff-d3041ff1a03c\" style=\"height: 525px; width: 100%;\" class=\"plotly-graph-div\"></div><script type=\"text/javascript\">require([\"plotly\"], function(Plotly) { window.PLOTLYENV=window.PLOTLYENV || {};window.PLOTLYENV.BASE_URL=\"https://plot.ly\";Plotly.newPlot(\"636ba0eb-86e3-4a5b-81ff-d3041ff1a03c\", [{\"name\": \"\\u5b9e\\u9645\\u4ea4\\u4ed8\\u65f6\\u95f4\", \"x\": [\"8\\u67085\\u5468\", \"9\\u67081\\u5468\", \"9\\u67082\\u5468\", \"9\\u67083\\u5468\", \"9\\u67084\\u5468\", \"10\\u67081\\u5468\", \"10\\u67082\\u5468\", \"10\\u67083\\u5468\", \"10\\u67084\\u5468\", \"11\\u67081\\u5468\", \"11\\u67082\\u5468\"], \"y\": [8, 35, 51, 34, 16, 26, 48, 59, 54, 60, 7], \"type\": \"scatter\", \"uid\": \"91c51d19-e625-11e8-8ddb-a41f72875c19\"}], {\"title\": \"\\u5b9e\\u9645\\u4ea4\\u4ed8\\u65f6\\u95f4\\u5468\\u8d8b\\u52bf\\u56fe\", \"xaxis\": {\"mirror\": \"all\", \"nticks\": 20, \"showgrid\": true, \"showline\": true, \"title\": \"\\u5468\", \"type\": \"category\", \"zeroline\": true}, \"yaxis\": {\"mirror\": \"all\", \"nticks\": 20, \"showgrid\": true, \"showline\": true, \"title\": \"\\u5b9e\\u9645\\u4ea4\\u4ed8\\u65f6\\u95f4\", \"zeroline\": true}}, {\"showLink\": true, \"linkText\": \"Export to plot.ly\"})});</script>"
      ]
     },
     "metadata": {},
     "output_type": "display_data"
    }
   ],
   "source": [
    "ss = myModule.format(df4 ,'week_number' ,['实际交付时间'])\n",
    "pp = myModule.sort_by_index(ss.groupby('count'))\n",
    "myModule.myPlot(pp).plot('line')"
   ]
  },
  {
   "cell_type": "markdown",
   "metadata": {},
   "source": [
    "### 个人完成项目数统计"
   ]
  },
  {
   "cell_type": "code",
   "execution_count": 130,
   "metadata": {
    "collapsed": false
   },
   "outputs": [
    {
     "data": {
      "application/vnd.plotly.v1+json": {
       "data": [
        {
         "name": "实际交付时间(宋少宇)",
         "type": "bar",
         "uid": "92956054-e625-11e8-8ddb-a41f72875c19",
         "x": [
          "8月5周",
          "9月1周",
          "9月2周",
          "9月3周",
          "9月4周",
          "10月1周",
          "10月2周",
          "10月3周",
          "10月4周",
          "11月1周",
          "11月2周"
         ],
         "y": [
          null,
          1,
          null,
          null,
          null,
          null,
          null,
          6,
          3,
          null,
          null
         ]
        },
        {
         "name": "实际交付时间(闻少楠)",
         "type": "bar",
         "uid": "92956055-e625-11e8-8ddb-a41f72875c19",
         "x": [
          "8月5周",
          "9月1周",
          "9月2周",
          "9月3周",
          "9月4周",
          "10月1周",
          "10月2周",
          "10月3周",
          "10月4周",
          "11月1周",
          "11月2周"
         ],
         "y": [
          null,
          null,
          2,
          null,
          2,
          2,
          2,
          1,
          4,
          2,
          null
         ]
        },
        {
         "name": "实际交付时间(林文文)",
         "type": "bar",
         "uid": "92956056-e625-11e8-8ddb-a41f72875c19",
         "x": [
          "8月5周",
          "9月1周",
          "9月2周",
          "9月3周",
          "9月4周",
          "10月1周",
          "10月2周",
          "10月3周",
          "10月4周",
          "11月1周",
          "11月2周"
         ],
         "y": [
          null,
          null,
          1,
          1,
          null,
          null,
          null,
          null,
          1,
          2,
          null
         ]
        },
        {
         "name": "实际交付时间(冯敬岩)",
         "type": "bar",
         "uid": "92956057-e625-11e8-8ddb-a41f72875c19",
         "x": [
          "8月5周",
          "9月1周",
          "9月2周",
          "9月3周",
          "9月4周",
          "10月1周",
          "10月2周",
          "10月3周",
          "10月4周",
          "11月1周",
          "11月2周"
         ],
         "y": [
          1,
          2,
          2,
          3,
          1,
          4,
          3,
          5,
          12,
          4,
          null
         ]
        },
        {
         "name": "实际交付时间(施毓芷)",
         "type": "bar",
         "uid": "92956058-e625-11e8-8ddb-a41f72875c19",
         "x": [
          "8月5周",
          "9月1周",
          "9月2周",
          "9月3周",
          "9月4周",
          "10月1周",
          "10月2周",
          "10月3周",
          "10月4周",
          "11月1周",
          "11月2周"
         ],
         "y": [
          null,
          null,
          null,
          null,
          null,
          null,
          null,
          1,
          null,
          null,
          null
         ]
        },
        {
         "name": "实际交付时间(刘永强)",
         "type": "bar",
         "uid": "92956059-e625-11e8-8ddb-a41f72875c19",
         "x": [
          "8月5周",
          "9月1周",
          "9月2周",
          "9月3周",
          "9月4周",
          "10月1周",
          "10月2周",
          "10月3周",
          "10月4周",
          "11月1周",
          "11月2周"
         ],
         "y": [
          null,
          1,
          null,
          null,
          null,
          1,
          1,
          1,
          null,
          null,
          null
         ]
        },
        {
         "name": "实际交付时间(刘梦苑)",
         "type": "bar",
         "uid": "9295605a-e625-11e8-8ddb-a41f72875c19",
         "x": [
          "8月5周",
          "9月1周",
          "9月2周",
          "9月3周",
          "9月4周",
          "10月1周",
          "10月2周",
          "10月3周",
          "10月4周",
          "11月1周",
          "11月2周"
         ],
         "y": [
          1,
          1,
          1,
          2,
          1,
          2,
          5,
          1,
          1,
          1,
          null
         ]
        },
        {
         "name": "实际交付时间(杨宇)",
         "type": "bar",
         "uid": "9295605b-e625-11e8-8ddb-a41f72875c19",
         "x": [
          "8月5周",
          "9月1周",
          "9月2周",
          "9月3周",
          "9月4周",
          "10月1周",
          "10月2周",
          "10月3周",
          "10月4周",
          "11月1周",
          "11月2周"
         ],
         "y": [
          null,
          1,
          6,
          1,
          null,
          null,
          3,
          3,
          2,
          3,
          null
         ]
        },
        {
         "name": "实际交付时间(解飞)",
         "type": "bar",
         "uid": "9295605c-e625-11e8-8ddb-a41f72875c19",
         "x": [
          "8月5周",
          "9月1周",
          "9月2周",
          "9月3周",
          "9月4周",
          "10月1周",
          "10月2周",
          "10月3周",
          "10月4周",
          "11月1周",
          "11月2周"
         ],
         "y": [
          null,
          null,
          null,
          null,
          null,
          1,
          4,
          2,
          2,
          4,
          null
         ]
        },
        {
         "name": "实际交付时间(朱慧萍)",
         "type": "bar",
         "uid": "9295605d-e625-11e8-8ddb-a41f72875c19",
         "x": [
          "8月5周",
          "9月1周",
          "9月2周",
          "9月3周",
          "9月4周",
          "10月1周",
          "10月2周",
          "10月3周",
          "10月4周",
          "11月1周",
          "11月2周"
         ],
         "y": [
          2,
          5,
          3,
          2,
          1,
          null,
          3,
          5,
          5,
          7,
          1
         ]
        },
        {
         "name": "实际交付时间(沈立群)",
         "type": "bar",
         "uid": "9295605e-e625-11e8-8ddb-a41f72875c19",
         "x": [
          "8月5周",
          "9月1周",
          "9月2周",
          "9月3周",
          "9月4周",
          "10月1周",
          "10月2周",
          "10月3周",
          "10月4周",
          "11月1周",
          "11月2周"
         ],
         "y": [
          null,
          null,
          null,
          1,
          null,
          null,
          1,
          3,
          null,
          1,
          null
         ]
        },
        {
         "name": "实际交付时间(赵倩)",
         "type": "bar",
         "uid": "9295605f-e625-11e8-8ddb-a41f72875c19",
         "x": [
          "8月5周",
          "9月1周",
          "9月2周",
          "9月3周",
          "9月4周",
          "10月1周",
          "10月2周",
          "10月3周",
          "10月4周",
          "11月1周",
          "11月2周"
         ],
         "y": [
          1,
          3,
          4,
          7,
          1,
          3,
          5,
          6,
          2,
          3,
          3
         ]
        },
        {
         "name": "实际交付时间(王霞)",
         "type": "bar",
         "uid": "92956060-e625-11e8-8ddb-a41f72875c19",
         "x": [
          "8月5周",
          "9月1周",
          "9月2周",
          "9月3周",
          "9月4周",
          "10月1周",
          "10月2周",
          "10月3周",
          "10月4周",
          "11月1周",
          "11月2周"
         ],
         "y": [
          null,
          2,
          3,
          2,
          null,
          2,
          3,
          1,
          2,
          6,
          1
         ]
        },
        {
         "name": "实际交付时间(陈碧雯)",
         "type": "bar",
         "uid": "92956061-e625-11e8-8ddb-a41f72875c19",
         "x": [
          "8月5周",
          "9月1周",
          "9月2周",
          "9月3周",
          "9月4周",
          "10月1周",
          "10月2周",
          "10月3周",
          "10月4周",
          "11月1周",
          "11月2周"
         ],
         "y": [
          null,
          4,
          3,
          null,
          1,
          2,
          1,
          3,
          2,
          4,
          null
         ]
        },
        {
         "name": "实际交付时间(沈恩惠)",
         "type": "bar",
         "uid": "92956062-e625-11e8-8ddb-a41f72875c19",
         "x": [
          "8月5周",
          "9月1周",
          "9月2周",
          "9月3周",
          "9月4周",
          "10月1周",
          "10月2周",
          "10月3周",
          "10月4周",
          "11月1周",
          "11月2周"
         ],
         "y": [
          null,
          1,
          null,
          1,
          null,
          1,
          1,
          null,
          null,
          null,
          null
         ]
        },
        {
         "name": "实际交付时间(高剑)",
         "type": "bar",
         "uid": "92956063-e625-11e8-8ddb-a41f72875c19",
         "x": [
          "8月5周",
          "9月1周",
          "9月2周",
          "9月3周",
          "9月4周",
          "10月1周",
          "10月2周",
          "10月3周",
          "10月4周",
          "11月1周",
          "11月2周"
         ],
         "y": [
          null,
          1,
          null,
          null,
          null,
          null,
          null,
          null,
          null,
          null,
          null
         ]
        },
        {
         "name": "实际交付时间(王传文)",
         "type": "bar",
         "uid": "92956064-e625-11e8-8ddb-a41f72875c19",
         "x": [
          "8月5周",
          "9月1周",
          "9月2周",
          "9月3周",
          "9月4周",
          "10月1周",
          "10月2周",
          "10月3周",
          "10月4周",
          "11月1周",
          "11月2周"
         ],
         "y": [
          null,
          null,
          null,
          1,
          null,
          1,
          2,
          2,
          1,
          3,
          null
         ]
        },
        {
         "name": "实际交付时间(何胜)",
         "type": "bar",
         "uid": "92956065-e625-11e8-8ddb-a41f72875c19",
         "x": [
          "8月5周",
          "9月1周",
          "9月2周",
          "9月3周",
          "9月4周",
          "10月1周",
          "10月2周",
          "10月3周",
          "10月4周",
          "11月1周",
          "11月2周"
         ],
         "y": [
          2,
          1,
          4,
          2,
          1,
          2,
          2,
          3,
          1,
          4,
          1
         ]
        },
        {
         "name": "实际交付时间(车天栋)",
         "type": "bar",
         "uid": "92956066-e625-11e8-8ddb-a41f72875c19",
         "x": [
          "8月5周",
          "9月1周",
          "9月2周",
          "9月3周",
          "9月4周",
          "10月1周",
          "10月2周",
          "10月3周",
          "10月4周",
          "11月1周",
          "11月2周"
         ],
         "y": [
          null,
          1,
          null,
          1,
          null,
          null,
          1,
          null,
          1,
          null,
          null
         ]
        }
       ],
       "layout": {
        "barmode": "stack",
        "title": "实际交付时间周趋势图",
        "xaxis": {
         "mirror": "all",
         "nticks": 20,
         "showgrid": true,
         "showline": true,
         "title": "周",
         "type": "category",
         "zeroline": true
        },
        "yaxis": {
         "mirror": "all",
         "nticks": 20,
         "showgrid": true,
         "showline": true,
         "title": "实际交付时间",
         "zeroline": true
        }
       }
      },
      "text/html": [
       "<div id=\"1fdad637-518c-490c-8b97-8dd1fed5fabf\" style=\"height: 525px; width: 100%;\" class=\"plotly-graph-div\"></div><script type=\"text/javascript\">require([\"plotly\"], function(Plotly) { window.PLOTLYENV=window.PLOTLYENV || {};window.PLOTLYENV.BASE_URL=\"https://plot.ly\";Plotly.newPlot(\"1fdad637-518c-490c-8b97-8dd1fed5fabf\", [{\"name\": \"\\u5b9e\\u9645\\u4ea4\\u4ed8\\u65f6\\u95f4(\\u5b8b\\u5c11\\u5b87)\", \"x\": [\"8\\u67085\\u5468\", \"9\\u67081\\u5468\", \"9\\u67082\\u5468\", \"9\\u67083\\u5468\", \"9\\u67084\\u5468\", \"10\\u67081\\u5468\", \"10\\u67082\\u5468\", \"10\\u67083\\u5468\", \"10\\u67084\\u5468\", \"11\\u67081\\u5468\", \"11\\u67082\\u5468\"], \"y\": [null, 1.0, null, null, null, null, null, 6.0, 3.0, null, null], \"type\": \"bar\", \"uid\": \"92956054-e625-11e8-8ddb-a41f72875c19\"}, {\"name\": \"\\u5b9e\\u9645\\u4ea4\\u4ed8\\u65f6\\u95f4(\\u95fb\\u5c11\\u6960)\", \"x\": [\"8\\u67085\\u5468\", \"9\\u67081\\u5468\", \"9\\u67082\\u5468\", \"9\\u67083\\u5468\", \"9\\u67084\\u5468\", \"10\\u67081\\u5468\", \"10\\u67082\\u5468\", \"10\\u67083\\u5468\", \"10\\u67084\\u5468\", \"11\\u67081\\u5468\", \"11\\u67082\\u5468\"], \"y\": [null, null, 2.0, null, 2.0, 2.0, 2.0, 1.0, 4.0, 2.0, null], \"type\": \"bar\", \"uid\": \"92956055-e625-11e8-8ddb-a41f72875c19\"}, {\"name\": \"\\u5b9e\\u9645\\u4ea4\\u4ed8\\u65f6\\u95f4(\\u6797\\u6587\\u6587)\", \"x\": [\"8\\u67085\\u5468\", \"9\\u67081\\u5468\", \"9\\u67082\\u5468\", \"9\\u67083\\u5468\", \"9\\u67084\\u5468\", \"10\\u67081\\u5468\", \"10\\u67082\\u5468\", \"10\\u67083\\u5468\", \"10\\u67084\\u5468\", \"11\\u67081\\u5468\", \"11\\u67082\\u5468\"], \"y\": [null, null, 1.0, 1.0, null, null, null, null, 1.0, 2.0, null], \"type\": \"bar\", \"uid\": \"92956056-e625-11e8-8ddb-a41f72875c19\"}, {\"name\": \"\\u5b9e\\u9645\\u4ea4\\u4ed8\\u65f6\\u95f4(\\u51af\\u656c\\u5ca9)\", \"x\": [\"8\\u67085\\u5468\", \"9\\u67081\\u5468\", \"9\\u67082\\u5468\", \"9\\u67083\\u5468\", \"9\\u67084\\u5468\", \"10\\u67081\\u5468\", \"10\\u67082\\u5468\", \"10\\u67083\\u5468\", \"10\\u67084\\u5468\", \"11\\u67081\\u5468\", \"11\\u67082\\u5468\"], \"y\": [1.0, 2.0, 2.0, 3.0, 1.0, 4.0, 3.0, 5.0, 12.0, 4.0, null], \"type\": \"bar\", \"uid\": \"92956057-e625-11e8-8ddb-a41f72875c19\"}, {\"name\": \"\\u5b9e\\u9645\\u4ea4\\u4ed8\\u65f6\\u95f4(\\u65bd\\u6bd3\\u82b7)\", \"x\": [\"8\\u67085\\u5468\", \"9\\u67081\\u5468\", \"9\\u67082\\u5468\", \"9\\u67083\\u5468\", \"9\\u67084\\u5468\", \"10\\u67081\\u5468\", \"10\\u67082\\u5468\", \"10\\u67083\\u5468\", \"10\\u67084\\u5468\", \"11\\u67081\\u5468\", \"11\\u67082\\u5468\"], \"y\": [null, null, null, null, null, null, null, 1.0, null, null, null], \"type\": \"bar\", \"uid\": \"92956058-e625-11e8-8ddb-a41f72875c19\"}, {\"name\": \"\\u5b9e\\u9645\\u4ea4\\u4ed8\\u65f6\\u95f4(\\u5218\\u6c38\\u5f3a)\", \"x\": [\"8\\u67085\\u5468\", \"9\\u67081\\u5468\", \"9\\u67082\\u5468\", \"9\\u67083\\u5468\", \"9\\u67084\\u5468\", \"10\\u67081\\u5468\", \"10\\u67082\\u5468\", \"10\\u67083\\u5468\", \"10\\u67084\\u5468\", \"11\\u67081\\u5468\", \"11\\u67082\\u5468\"], \"y\": [null, 1.0, null, null, null, 1.0, 1.0, 1.0, null, null, null], \"type\": \"bar\", \"uid\": \"92956059-e625-11e8-8ddb-a41f72875c19\"}, {\"name\": \"\\u5b9e\\u9645\\u4ea4\\u4ed8\\u65f6\\u95f4(\\u5218\\u68a6\\u82d1)\", \"x\": [\"8\\u67085\\u5468\", \"9\\u67081\\u5468\", \"9\\u67082\\u5468\", \"9\\u67083\\u5468\", \"9\\u67084\\u5468\", \"10\\u67081\\u5468\", \"10\\u67082\\u5468\", \"10\\u67083\\u5468\", \"10\\u67084\\u5468\", \"11\\u67081\\u5468\", \"11\\u67082\\u5468\"], \"y\": [1.0, 1.0, 1.0, 2.0, 1.0, 2.0, 5.0, 1.0, 1.0, 1.0, null], \"type\": \"bar\", \"uid\": \"9295605a-e625-11e8-8ddb-a41f72875c19\"}, {\"name\": \"\\u5b9e\\u9645\\u4ea4\\u4ed8\\u65f6\\u95f4(\\u6768\\u5b87)\", \"x\": [\"8\\u67085\\u5468\", \"9\\u67081\\u5468\", \"9\\u67082\\u5468\", \"9\\u67083\\u5468\", \"9\\u67084\\u5468\", \"10\\u67081\\u5468\", \"10\\u67082\\u5468\", \"10\\u67083\\u5468\", \"10\\u67084\\u5468\", \"11\\u67081\\u5468\", \"11\\u67082\\u5468\"], \"y\": [null, 1.0, 6.0, 1.0, null, null, 3.0, 3.0, 2.0, 3.0, null], \"type\": \"bar\", \"uid\": \"9295605b-e625-11e8-8ddb-a41f72875c19\"}, {\"name\": \"\\u5b9e\\u9645\\u4ea4\\u4ed8\\u65f6\\u95f4(\\u89e3\\u98de)\", \"x\": [\"8\\u67085\\u5468\", \"9\\u67081\\u5468\", \"9\\u67082\\u5468\", \"9\\u67083\\u5468\", \"9\\u67084\\u5468\", \"10\\u67081\\u5468\", \"10\\u67082\\u5468\", \"10\\u67083\\u5468\", \"10\\u67084\\u5468\", \"11\\u67081\\u5468\", \"11\\u67082\\u5468\"], \"y\": [null, null, null, null, null, 1.0, 4.0, 2.0, 2.0, 4.0, null], \"type\": \"bar\", \"uid\": \"9295605c-e625-11e8-8ddb-a41f72875c19\"}, {\"name\": \"\\u5b9e\\u9645\\u4ea4\\u4ed8\\u65f6\\u95f4(\\u6731\\u6167\\u840d)\", \"x\": [\"8\\u67085\\u5468\", \"9\\u67081\\u5468\", \"9\\u67082\\u5468\", \"9\\u67083\\u5468\", \"9\\u67084\\u5468\", \"10\\u67081\\u5468\", \"10\\u67082\\u5468\", \"10\\u67083\\u5468\", \"10\\u67084\\u5468\", \"11\\u67081\\u5468\", \"11\\u67082\\u5468\"], \"y\": [2.0, 5.0, 3.0, 2.0, 1.0, null, 3.0, 5.0, 5.0, 7.0, 1.0], \"type\": \"bar\", \"uid\": \"9295605d-e625-11e8-8ddb-a41f72875c19\"}, {\"name\": \"\\u5b9e\\u9645\\u4ea4\\u4ed8\\u65f6\\u95f4(\\u6c88\\u7acb\\u7fa4)\", \"x\": [\"8\\u67085\\u5468\", \"9\\u67081\\u5468\", \"9\\u67082\\u5468\", \"9\\u67083\\u5468\", \"9\\u67084\\u5468\", \"10\\u67081\\u5468\", \"10\\u67082\\u5468\", \"10\\u67083\\u5468\", \"10\\u67084\\u5468\", \"11\\u67081\\u5468\", \"11\\u67082\\u5468\"], \"y\": [null, null, null, 1.0, null, null, 1.0, 3.0, null, 1.0, null], \"type\": \"bar\", \"uid\": \"9295605e-e625-11e8-8ddb-a41f72875c19\"}, {\"name\": \"\\u5b9e\\u9645\\u4ea4\\u4ed8\\u65f6\\u95f4(\\u8d75\\u5029)\", \"x\": [\"8\\u67085\\u5468\", \"9\\u67081\\u5468\", \"9\\u67082\\u5468\", \"9\\u67083\\u5468\", \"9\\u67084\\u5468\", \"10\\u67081\\u5468\", \"10\\u67082\\u5468\", \"10\\u67083\\u5468\", \"10\\u67084\\u5468\", \"11\\u67081\\u5468\", \"11\\u67082\\u5468\"], \"y\": [1.0, 3.0, 4.0, 7.0, 1.0, 3.0, 5.0, 6.0, 2.0, 3.0, 3.0], \"type\": \"bar\", \"uid\": \"9295605f-e625-11e8-8ddb-a41f72875c19\"}, {\"name\": \"\\u5b9e\\u9645\\u4ea4\\u4ed8\\u65f6\\u95f4(\\u738b\\u971e)\", \"x\": [\"8\\u67085\\u5468\", \"9\\u67081\\u5468\", \"9\\u67082\\u5468\", \"9\\u67083\\u5468\", \"9\\u67084\\u5468\", \"10\\u67081\\u5468\", \"10\\u67082\\u5468\", \"10\\u67083\\u5468\", \"10\\u67084\\u5468\", \"11\\u67081\\u5468\", \"11\\u67082\\u5468\"], \"y\": [null, 2.0, 3.0, 2.0, null, 2.0, 3.0, 1.0, 2.0, 6.0, 1.0], \"type\": \"bar\", \"uid\": \"92956060-e625-11e8-8ddb-a41f72875c19\"}, {\"name\": \"\\u5b9e\\u9645\\u4ea4\\u4ed8\\u65f6\\u95f4(\\u9648\\u78a7\\u96ef)\", \"x\": [\"8\\u67085\\u5468\", \"9\\u67081\\u5468\", \"9\\u67082\\u5468\", \"9\\u67083\\u5468\", \"9\\u67084\\u5468\", \"10\\u67081\\u5468\", \"10\\u67082\\u5468\", \"10\\u67083\\u5468\", \"10\\u67084\\u5468\", \"11\\u67081\\u5468\", \"11\\u67082\\u5468\"], \"y\": [null, 4.0, 3.0, null, 1.0, 2.0, 1.0, 3.0, 2.0, 4.0, null], \"type\": \"bar\", \"uid\": \"92956061-e625-11e8-8ddb-a41f72875c19\"}, {\"name\": \"\\u5b9e\\u9645\\u4ea4\\u4ed8\\u65f6\\u95f4(\\u6c88\\u6069\\u60e0)\", \"x\": [\"8\\u67085\\u5468\", \"9\\u67081\\u5468\", \"9\\u67082\\u5468\", \"9\\u67083\\u5468\", \"9\\u67084\\u5468\", \"10\\u67081\\u5468\", \"10\\u67082\\u5468\", \"10\\u67083\\u5468\", \"10\\u67084\\u5468\", \"11\\u67081\\u5468\", \"11\\u67082\\u5468\"], \"y\": [null, 1.0, null, 1.0, null, 1.0, 1.0, null, null, null, null], \"type\": \"bar\", \"uid\": \"92956062-e625-11e8-8ddb-a41f72875c19\"}, {\"name\": \"\\u5b9e\\u9645\\u4ea4\\u4ed8\\u65f6\\u95f4(\\u9ad8\\u5251)\", \"x\": [\"8\\u67085\\u5468\", \"9\\u67081\\u5468\", \"9\\u67082\\u5468\", \"9\\u67083\\u5468\", \"9\\u67084\\u5468\", \"10\\u67081\\u5468\", \"10\\u67082\\u5468\", \"10\\u67083\\u5468\", \"10\\u67084\\u5468\", \"11\\u67081\\u5468\", \"11\\u67082\\u5468\"], \"y\": [null, 1.0, null, null, null, null, null, null, null, null, null], \"type\": \"bar\", \"uid\": \"92956063-e625-11e8-8ddb-a41f72875c19\"}, {\"name\": \"\\u5b9e\\u9645\\u4ea4\\u4ed8\\u65f6\\u95f4(\\u738b\\u4f20\\u6587)\", \"x\": [\"8\\u67085\\u5468\", \"9\\u67081\\u5468\", \"9\\u67082\\u5468\", \"9\\u67083\\u5468\", \"9\\u67084\\u5468\", \"10\\u67081\\u5468\", \"10\\u67082\\u5468\", \"10\\u67083\\u5468\", \"10\\u67084\\u5468\", \"11\\u67081\\u5468\", \"11\\u67082\\u5468\"], \"y\": [null, null, null, 1.0, null, 1.0, 2.0, 2.0, 1.0, 3.0, null], \"type\": \"bar\", \"uid\": \"92956064-e625-11e8-8ddb-a41f72875c19\"}, {\"name\": \"\\u5b9e\\u9645\\u4ea4\\u4ed8\\u65f6\\u95f4(\\u4f55\\u80dc)\", \"x\": [\"8\\u67085\\u5468\", \"9\\u67081\\u5468\", \"9\\u67082\\u5468\", \"9\\u67083\\u5468\", \"9\\u67084\\u5468\", \"10\\u67081\\u5468\", \"10\\u67082\\u5468\", \"10\\u67083\\u5468\", \"10\\u67084\\u5468\", \"11\\u67081\\u5468\", \"11\\u67082\\u5468\"], \"y\": [2.0, 1.0, 4.0, 2.0, 1.0, 2.0, 2.0, 3.0, 1.0, 4.0, 1.0], \"type\": \"bar\", \"uid\": \"92956065-e625-11e8-8ddb-a41f72875c19\"}, {\"name\": \"\\u5b9e\\u9645\\u4ea4\\u4ed8\\u65f6\\u95f4(\\u8f66\\u5929\\u680b)\", \"x\": [\"8\\u67085\\u5468\", \"9\\u67081\\u5468\", \"9\\u67082\\u5468\", \"9\\u67083\\u5468\", \"9\\u67084\\u5468\", \"10\\u67081\\u5468\", \"10\\u67082\\u5468\", \"10\\u67083\\u5468\", \"10\\u67084\\u5468\", \"11\\u67081\\u5468\", \"11\\u67082\\u5468\"], \"y\": [null, 1.0, null, 1.0, null, null, 1.0, null, 1.0, null, null], \"type\": \"bar\", \"uid\": \"92956066-e625-11e8-8ddb-a41f72875c19\"}], {\"barmode\": \"stack\", \"title\": \"\\u5b9e\\u9645\\u4ea4\\u4ed8\\u65f6\\u95f4\\u5468\\u8d8b\\u52bf\\u56fe\", \"xaxis\": {\"mirror\": \"all\", \"nticks\": 20, \"showgrid\": true, \"showline\": true, \"title\": \"\\u5468\", \"type\": \"category\", \"zeroline\": true}, \"yaxis\": {\"mirror\": \"all\", \"nticks\": 20, \"showgrid\": true, \"showline\": true, \"title\": \"\\u5b9e\\u9645\\u4ea4\\u4ed8\\u65f6\\u95f4\", \"zeroline\": true}}, {\"showLink\": true, \"linkText\": \"Export to plot.ly\"})});</script>"
      ],
      "text/vnd.plotly.v1+html": [
       "<div id=\"1fdad637-518c-490c-8b97-8dd1fed5fabf\" style=\"height: 525px; width: 100%;\" class=\"plotly-graph-div\"></div><script type=\"text/javascript\">require([\"plotly\"], function(Plotly) { window.PLOTLYENV=window.PLOTLYENV || {};window.PLOTLYENV.BASE_URL=\"https://plot.ly\";Plotly.newPlot(\"1fdad637-518c-490c-8b97-8dd1fed5fabf\", [{\"name\": \"\\u5b9e\\u9645\\u4ea4\\u4ed8\\u65f6\\u95f4(\\u5b8b\\u5c11\\u5b87)\", \"x\": [\"8\\u67085\\u5468\", \"9\\u67081\\u5468\", \"9\\u67082\\u5468\", \"9\\u67083\\u5468\", \"9\\u67084\\u5468\", \"10\\u67081\\u5468\", \"10\\u67082\\u5468\", \"10\\u67083\\u5468\", \"10\\u67084\\u5468\", \"11\\u67081\\u5468\", \"11\\u67082\\u5468\"], \"y\": [null, 1.0, null, null, null, null, null, 6.0, 3.0, null, null], \"type\": \"bar\", \"uid\": \"92956054-e625-11e8-8ddb-a41f72875c19\"}, {\"name\": \"\\u5b9e\\u9645\\u4ea4\\u4ed8\\u65f6\\u95f4(\\u95fb\\u5c11\\u6960)\", \"x\": [\"8\\u67085\\u5468\", \"9\\u67081\\u5468\", \"9\\u67082\\u5468\", \"9\\u67083\\u5468\", \"9\\u67084\\u5468\", \"10\\u67081\\u5468\", \"10\\u67082\\u5468\", \"10\\u67083\\u5468\", \"10\\u67084\\u5468\", \"11\\u67081\\u5468\", \"11\\u67082\\u5468\"], \"y\": [null, null, 2.0, null, 2.0, 2.0, 2.0, 1.0, 4.0, 2.0, null], \"type\": \"bar\", \"uid\": \"92956055-e625-11e8-8ddb-a41f72875c19\"}, {\"name\": \"\\u5b9e\\u9645\\u4ea4\\u4ed8\\u65f6\\u95f4(\\u6797\\u6587\\u6587)\", \"x\": [\"8\\u67085\\u5468\", \"9\\u67081\\u5468\", \"9\\u67082\\u5468\", \"9\\u67083\\u5468\", \"9\\u67084\\u5468\", \"10\\u67081\\u5468\", \"10\\u67082\\u5468\", \"10\\u67083\\u5468\", \"10\\u67084\\u5468\", \"11\\u67081\\u5468\", \"11\\u67082\\u5468\"], \"y\": [null, null, 1.0, 1.0, null, null, null, null, 1.0, 2.0, null], \"type\": \"bar\", \"uid\": \"92956056-e625-11e8-8ddb-a41f72875c19\"}, {\"name\": \"\\u5b9e\\u9645\\u4ea4\\u4ed8\\u65f6\\u95f4(\\u51af\\u656c\\u5ca9)\", \"x\": [\"8\\u67085\\u5468\", \"9\\u67081\\u5468\", \"9\\u67082\\u5468\", \"9\\u67083\\u5468\", \"9\\u67084\\u5468\", \"10\\u67081\\u5468\", \"10\\u67082\\u5468\", \"10\\u67083\\u5468\", \"10\\u67084\\u5468\", \"11\\u67081\\u5468\", \"11\\u67082\\u5468\"], \"y\": [1.0, 2.0, 2.0, 3.0, 1.0, 4.0, 3.0, 5.0, 12.0, 4.0, null], \"type\": \"bar\", \"uid\": \"92956057-e625-11e8-8ddb-a41f72875c19\"}, {\"name\": \"\\u5b9e\\u9645\\u4ea4\\u4ed8\\u65f6\\u95f4(\\u65bd\\u6bd3\\u82b7)\", \"x\": [\"8\\u67085\\u5468\", \"9\\u67081\\u5468\", \"9\\u67082\\u5468\", \"9\\u67083\\u5468\", \"9\\u67084\\u5468\", \"10\\u67081\\u5468\", \"10\\u67082\\u5468\", \"10\\u67083\\u5468\", \"10\\u67084\\u5468\", \"11\\u67081\\u5468\", \"11\\u67082\\u5468\"], \"y\": [null, null, null, null, null, null, null, 1.0, null, null, null], \"type\": \"bar\", \"uid\": \"92956058-e625-11e8-8ddb-a41f72875c19\"}, {\"name\": \"\\u5b9e\\u9645\\u4ea4\\u4ed8\\u65f6\\u95f4(\\u5218\\u6c38\\u5f3a)\", \"x\": [\"8\\u67085\\u5468\", \"9\\u67081\\u5468\", \"9\\u67082\\u5468\", \"9\\u67083\\u5468\", \"9\\u67084\\u5468\", \"10\\u67081\\u5468\", \"10\\u67082\\u5468\", \"10\\u67083\\u5468\", \"10\\u67084\\u5468\", \"11\\u67081\\u5468\", \"11\\u67082\\u5468\"], \"y\": [null, 1.0, null, null, null, 1.0, 1.0, 1.0, null, null, null], \"type\": \"bar\", \"uid\": \"92956059-e625-11e8-8ddb-a41f72875c19\"}, {\"name\": \"\\u5b9e\\u9645\\u4ea4\\u4ed8\\u65f6\\u95f4(\\u5218\\u68a6\\u82d1)\", \"x\": [\"8\\u67085\\u5468\", \"9\\u67081\\u5468\", \"9\\u67082\\u5468\", \"9\\u67083\\u5468\", \"9\\u67084\\u5468\", \"10\\u67081\\u5468\", \"10\\u67082\\u5468\", \"10\\u67083\\u5468\", \"10\\u67084\\u5468\", \"11\\u67081\\u5468\", \"11\\u67082\\u5468\"], \"y\": [1.0, 1.0, 1.0, 2.0, 1.0, 2.0, 5.0, 1.0, 1.0, 1.0, null], \"type\": \"bar\", \"uid\": \"9295605a-e625-11e8-8ddb-a41f72875c19\"}, {\"name\": \"\\u5b9e\\u9645\\u4ea4\\u4ed8\\u65f6\\u95f4(\\u6768\\u5b87)\", \"x\": [\"8\\u67085\\u5468\", \"9\\u67081\\u5468\", \"9\\u67082\\u5468\", \"9\\u67083\\u5468\", \"9\\u67084\\u5468\", \"10\\u67081\\u5468\", \"10\\u67082\\u5468\", \"10\\u67083\\u5468\", \"10\\u67084\\u5468\", \"11\\u67081\\u5468\", \"11\\u67082\\u5468\"], \"y\": [null, 1.0, 6.0, 1.0, null, null, 3.0, 3.0, 2.0, 3.0, null], \"type\": \"bar\", \"uid\": \"9295605b-e625-11e8-8ddb-a41f72875c19\"}, {\"name\": \"\\u5b9e\\u9645\\u4ea4\\u4ed8\\u65f6\\u95f4(\\u89e3\\u98de)\", \"x\": [\"8\\u67085\\u5468\", \"9\\u67081\\u5468\", \"9\\u67082\\u5468\", \"9\\u67083\\u5468\", \"9\\u67084\\u5468\", \"10\\u67081\\u5468\", \"10\\u67082\\u5468\", \"10\\u67083\\u5468\", \"10\\u67084\\u5468\", \"11\\u67081\\u5468\", \"11\\u67082\\u5468\"], \"y\": [null, null, null, null, null, 1.0, 4.0, 2.0, 2.0, 4.0, null], \"type\": \"bar\", \"uid\": \"9295605c-e625-11e8-8ddb-a41f72875c19\"}, {\"name\": \"\\u5b9e\\u9645\\u4ea4\\u4ed8\\u65f6\\u95f4(\\u6731\\u6167\\u840d)\", \"x\": [\"8\\u67085\\u5468\", \"9\\u67081\\u5468\", \"9\\u67082\\u5468\", \"9\\u67083\\u5468\", \"9\\u67084\\u5468\", \"10\\u67081\\u5468\", \"10\\u67082\\u5468\", \"10\\u67083\\u5468\", \"10\\u67084\\u5468\", \"11\\u67081\\u5468\", \"11\\u67082\\u5468\"], \"y\": [2.0, 5.0, 3.0, 2.0, 1.0, null, 3.0, 5.0, 5.0, 7.0, 1.0], \"type\": \"bar\", \"uid\": \"9295605d-e625-11e8-8ddb-a41f72875c19\"}, {\"name\": \"\\u5b9e\\u9645\\u4ea4\\u4ed8\\u65f6\\u95f4(\\u6c88\\u7acb\\u7fa4)\", \"x\": [\"8\\u67085\\u5468\", \"9\\u67081\\u5468\", \"9\\u67082\\u5468\", \"9\\u67083\\u5468\", \"9\\u67084\\u5468\", \"10\\u67081\\u5468\", \"10\\u67082\\u5468\", \"10\\u67083\\u5468\", \"10\\u67084\\u5468\", \"11\\u67081\\u5468\", \"11\\u67082\\u5468\"], \"y\": [null, null, null, 1.0, null, null, 1.0, 3.0, null, 1.0, null], \"type\": \"bar\", \"uid\": \"9295605e-e625-11e8-8ddb-a41f72875c19\"}, {\"name\": \"\\u5b9e\\u9645\\u4ea4\\u4ed8\\u65f6\\u95f4(\\u8d75\\u5029)\", \"x\": [\"8\\u67085\\u5468\", \"9\\u67081\\u5468\", \"9\\u67082\\u5468\", \"9\\u67083\\u5468\", \"9\\u67084\\u5468\", \"10\\u67081\\u5468\", \"10\\u67082\\u5468\", \"10\\u67083\\u5468\", \"10\\u67084\\u5468\", \"11\\u67081\\u5468\", \"11\\u67082\\u5468\"], \"y\": [1.0, 3.0, 4.0, 7.0, 1.0, 3.0, 5.0, 6.0, 2.0, 3.0, 3.0], \"type\": \"bar\", \"uid\": \"9295605f-e625-11e8-8ddb-a41f72875c19\"}, {\"name\": \"\\u5b9e\\u9645\\u4ea4\\u4ed8\\u65f6\\u95f4(\\u738b\\u971e)\", \"x\": [\"8\\u67085\\u5468\", \"9\\u67081\\u5468\", \"9\\u67082\\u5468\", \"9\\u67083\\u5468\", \"9\\u67084\\u5468\", \"10\\u67081\\u5468\", \"10\\u67082\\u5468\", \"10\\u67083\\u5468\", \"10\\u67084\\u5468\", \"11\\u67081\\u5468\", \"11\\u67082\\u5468\"], \"y\": [null, 2.0, 3.0, 2.0, null, 2.0, 3.0, 1.0, 2.0, 6.0, 1.0], \"type\": \"bar\", \"uid\": \"92956060-e625-11e8-8ddb-a41f72875c19\"}, {\"name\": \"\\u5b9e\\u9645\\u4ea4\\u4ed8\\u65f6\\u95f4(\\u9648\\u78a7\\u96ef)\", \"x\": [\"8\\u67085\\u5468\", \"9\\u67081\\u5468\", \"9\\u67082\\u5468\", \"9\\u67083\\u5468\", \"9\\u67084\\u5468\", \"10\\u67081\\u5468\", \"10\\u67082\\u5468\", \"10\\u67083\\u5468\", \"10\\u67084\\u5468\", \"11\\u67081\\u5468\", \"11\\u67082\\u5468\"], \"y\": [null, 4.0, 3.0, null, 1.0, 2.0, 1.0, 3.0, 2.0, 4.0, null], \"type\": \"bar\", \"uid\": \"92956061-e625-11e8-8ddb-a41f72875c19\"}, {\"name\": \"\\u5b9e\\u9645\\u4ea4\\u4ed8\\u65f6\\u95f4(\\u6c88\\u6069\\u60e0)\", \"x\": [\"8\\u67085\\u5468\", \"9\\u67081\\u5468\", \"9\\u67082\\u5468\", \"9\\u67083\\u5468\", \"9\\u67084\\u5468\", \"10\\u67081\\u5468\", \"10\\u67082\\u5468\", \"10\\u67083\\u5468\", \"10\\u67084\\u5468\", \"11\\u67081\\u5468\", \"11\\u67082\\u5468\"], \"y\": [null, 1.0, null, 1.0, null, 1.0, 1.0, null, null, null, null], \"type\": \"bar\", \"uid\": \"92956062-e625-11e8-8ddb-a41f72875c19\"}, {\"name\": \"\\u5b9e\\u9645\\u4ea4\\u4ed8\\u65f6\\u95f4(\\u9ad8\\u5251)\", \"x\": [\"8\\u67085\\u5468\", \"9\\u67081\\u5468\", \"9\\u67082\\u5468\", \"9\\u67083\\u5468\", \"9\\u67084\\u5468\", \"10\\u67081\\u5468\", \"10\\u67082\\u5468\", \"10\\u67083\\u5468\", \"10\\u67084\\u5468\", \"11\\u67081\\u5468\", \"11\\u67082\\u5468\"], \"y\": [null, 1.0, null, null, null, null, null, null, null, null, null], \"type\": \"bar\", \"uid\": \"92956063-e625-11e8-8ddb-a41f72875c19\"}, {\"name\": \"\\u5b9e\\u9645\\u4ea4\\u4ed8\\u65f6\\u95f4(\\u738b\\u4f20\\u6587)\", \"x\": [\"8\\u67085\\u5468\", \"9\\u67081\\u5468\", \"9\\u67082\\u5468\", \"9\\u67083\\u5468\", \"9\\u67084\\u5468\", \"10\\u67081\\u5468\", \"10\\u67082\\u5468\", \"10\\u67083\\u5468\", \"10\\u67084\\u5468\", \"11\\u67081\\u5468\", \"11\\u67082\\u5468\"], \"y\": [null, null, null, 1.0, null, 1.0, 2.0, 2.0, 1.0, 3.0, null], \"type\": \"bar\", \"uid\": \"92956064-e625-11e8-8ddb-a41f72875c19\"}, {\"name\": \"\\u5b9e\\u9645\\u4ea4\\u4ed8\\u65f6\\u95f4(\\u4f55\\u80dc)\", \"x\": [\"8\\u67085\\u5468\", \"9\\u67081\\u5468\", \"9\\u67082\\u5468\", \"9\\u67083\\u5468\", \"9\\u67084\\u5468\", \"10\\u67081\\u5468\", \"10\\u67082\\u5468\", \"10\\u67083\\u5468\", \"10\\u67084\\u5468\", \"11\\u67081\\u5468\", \"11\\u67082\\u5468\"], \"y\": [2.0, 1.0, 4.0, 2.0, 1.0, 2.0, 2.0, 3.0, 1.0, 4.0, 1.0], \"type\": \"bar\", \"uid\": \"92956065-e625-11e8-8ddb-a41f72875c19\"}, {\"name\": \"\\u5b9e\\u9645\\u4ea4\\u4ed8\\u65f6\\u95f4(\\u8f66\\u5929\\u680b)\", \"x\": [\"8\\u67085\\u5468\", \"9\\u67081\\u5468\", \"9\\u67082\\u5468\", \"9\\u67083\\u5468\", \"9\\u67084\\u5468\", \"10\\u67081\\u5468\", \"10\\u67082\\u5468\", \"10\\u67083\\u5468\", \"10\\u67084\\u5468\", \"11\\u67081\\u5468\", \"11\\u67082\\u5468\"], \"y\": [null, 1.0, null, 1.0, null, null, 1.0, null, 1.0, null, null], \"type\": \"bar\", \"uid\": \"92956066-e625-11e8-8ddb-a41f72875c19\"}], {\"barmode\": \"stack\", \"title\": \"\\u5b9e\\u9645\\u4ea4\\u4ed8\\u65f6\\u95f4\\u5468\\u8d8b\\u52bf\\u56fe\", \"xaxis\": {\"mirror\": \"all\", \"nticks\": 20, \"showgrid\": true, \"showline\": true, \"title\": \"\\u5468\", \"type\": \"category\", \"zeroline\": true}, \"yaxis\": {\"mirror\": \"all\", \"nticks\": 20, \"showgrid\": true, \"showline\": true, \"title\": \"\\u5b9e\\u9645\\u4ea4\\u4ed8\\u65f6\\u95f4\", \"zeroline\": true}}, {\"showLink\": true, \"linkText\": \"Export to plot.ly\"})});</script>"
      ]
     },
     "metadata": {},
     "output_type": "display_data"
    }
   ],
   "source": [
    "df4_fx = df4[df4['信息负责人'].isin(fenxi)] \n",
    "ss = myModule.format(df4_fx ,'week_number' ,['实际交付时间'])\n",
    "ss.add_group('信息负责人')\n",
    "pp = myModule.sort_by_index(ss.groupby('count'))\n",
    "myModule.myPlot(pp).plot('stack_bar')"
   ]
  },
  {
   "cell_type": "code",
   "execution_count": 131,
   "metadata": {
    "collapsed": false
   },
   "outputs": [
    {
     "data": {
      "application/vnd.plotly.v1+json": {
       "data": [
        {
         "line": {
          "dash": "solid"
         },
         "name": "实际交付时间(宋少宇)",
         "type": "scatter",
         "uid": "92956067-e625-11e8-8ddb-a41f72875c19",
         "x": [
          "8月5周",
          "9月1周",
          "9月2周",
          "9月3周",
          "9月4周",
          "10月1周",
          "10月2周",
          "10月3周",
          "10月4周",
          "11月1周",
          "11月2周"
         ],
         "y": [
          null,
          1,
          null,
          null,
          null,
          null,
          null,
          6,
          3,
          null,
          null
         ]
        },
        {
         "line": {
          "dash": "dot"
         },
         "name": "实际交付时间(冯敬岩)",
         "type": "scatter",
         "uid": "92956068-e625-11e8-8ddb-a41f72875c19",
         "x": [
          "8月5周",
          "9月1周",
          "9月2周",
          "9月3周",
          "9月4周",
          "10月1周",
          "10月2周",
          "10月3周",
          "10月4周",
          "11月1周",
          "11月2周"
         ],
         "y": [
          1,
          2,
          2,
          3,
          1,
          4,
          3,
          5,
          12,
          4,
          null
         ]
        },
        {
         "line": {
          "dash": "dash"
         },
         "name": "实际交付时间(解飞)",
         "type": "scatter",
         "uid": "92956069-e625-11e8-8ddb-a41f72875c19",
         "x": [
          "8月5周",
          "9月1周",
          "9月2周",
          "9月3周",
          "9月4周",
          "10月1周",
          "10月2周",
          "10月3周",
          "10月4周",
          "11月1周",
          "11月2周"
         ],
         "y": [
          null,
          null,
          null,
          null,
          null,
          1,
          4,
          2,
          2,
          4,
          null
         ]
        },
        {
         "line": {
          "dash": "longdash"
         },
         "name": "实际交付时间(朱慧萍)",
         "type": "scatter",
         "uid": "9295606a-e625-11e8-8ddb-a41f72875c19",
         "x": [
          "8月5周",
          "9月1周",
          "9月2周",
          "9月3周",
          "9月4周",
          "10月1周",
          "10月2周",
          "10月3周",
          "10月4周",
          "11月1周",
          "11月2周"
         ],
         "y": [
          2,
          5,
          3,
          2,
          1,
          null,
          3,
          5,
          5,
          7,
          1
         ]
        },
        {
         "line": {
          "dash": "dashdot"
         },
         "name": "实际交付时间(赵倩)",
         "type": "scatter",
         "uid": "9295606b-e625-11e8-8ddb-a41f72875c19",
         "x": [
          "8月5周",
          "9月1周",
          "9月2周",
          "9月3周",
          "9月4周",
          "10月1周",
          "10月2周",
          "10月3周",
          "10月4周",
          "11月1周",
          "11月2周"
         ],
         "y": [
          1,
          3,
          4,
          7,
          1,
          3,
          5,
          6,
          2,
          3,
          3
         ]
        }
       ],
       "layout": {
        "title": "实际交付时间周趋势图",
        "xaxis": {
         "mirror": "all",
         "nticks": 20,
         "showgrid": true,
         "showline": true,
         "title": "周",
         "type": "category",
         "zeroline": true
        },
        "yaxis": {
         "mirror": "all",
         "nticks": 20,
         "showgrid": true,
         "showline": true,
         "title": "实际交付时间",
         "zeroline": true
        }
       }
      },
      "text/html": [
       "<div id=\"c1169ee8-d3f5-4983-a9ed-7d0b1ee95529\" style=\"height: 525px; width: 100%;\" class=\"plotly-graph-div\"></div><script type=\"text/javascript\">require([\"plotly\"], function(Plotly) { window.PLOTLYENV=window.PLOTLYENV || {};window.PLOTLYENV.BASE_URL=\"https://plot.ly\";Plotly.newPlot(\"c1169ee8-d3f5-4983-a9ed-7d0b1ee95529\", [{\"line\": {\"dash\": \"solid\"}, \"name\": \"\\u5b9e\\u9645\\u4ea4\\u4ed8\\u65f6\\u95f4(\\u5b8b\\u5c11\\u5b87)\", \"x\": [\"8\\u67085\\u5468\", \"9\\u67081\\u5468\", \"9\\u67082\\u5468\", \"9\\u67083\\u5468\", \"9\\u67084\\u5468\", \"10\\u67081\\u5468\", \"10\\u67082\\u5468\", \"10\\u67083\\u5468\", \"10\\u67084\\u5468\", \"11\\u67081\\u5468\", \"11\\u67082\\u5468\"], \"y\": [null, 1.0, null, null, null, null, null, 6.0, 3.0, null, null], \"type\": \"scatter\", \"uid\": \"92956067-e625-11e8-8ddb-a41f72875c19\"}, {\"line\": {\"dash\": \"dot\"}, \"name\": \"\\u5b9e\\u9645\\u4ea4\\u4ed8\\u65f6\\u95f4(\\u51af\\u656c\\u5ca9)\", \"x\": [\"8\\u67085\\u5468\", \"9\\u67081\\u5468\", \"9\\u67082\\u5468\", \"9\\u67083\\u5468\", \"9\\u67084\\u5468\", \"10\\u67081\\u5468\", \"10\\u67082\\u5468\", \"10\\u67083\\u5468\", \"10\\u67084\\u5468\", \"11\\u67081\\u5468\", \"11\\u67082\\u5468\"], \"y\": [1.0, 2.0, 2.0, 3.0, 1.0, 4.0, 3.0, 5.0, 12.0, 4.0, null], \"type\": \"scatter\", \"uid\": \"92956068-e625-11e8-8ddb-a41f72875c19\"}, {\"line\": {\"dash\": \"dash\"}, \"name\": \"\\u5b9e\\u9645\\u4ea4\\u4ed8\\u65f6\\u95f4(\\u89e3\\u98de)\", \"x\": [\"8\\u67085\\u5468\", \"9\\u67081\\u5468\", \"9\\u67082\\u5468\", \"9\\u67083\\u5468\", \"9\\u67084\\u5468\", \"10\\u67081\\u5468\", \"10\\u67082\\u5468\", \"10\\u67083\\u5468\", \"10\\u67084\\u5468\", \"11\\u67081\\u5468\", \"11\\u67082\\u5468\"], \"y\": [null, null, null, null, null, 1.0, 4.0, 2.0, 2.0, 4.0, null], \"type\": \"scatter\", \"uid\": \"92956069-e625-11e8-8ddb-a41f72875c19\"}, {\"line\": {\"dash\": \"longdash\"}, \"name\": \"\\u5b9e\\u9645\\u4ea4\\u4ed8\\u65f6\\u95f4(\\u6731\\u6167\\u840d)\", \"x\": [\"8\\u67085\\u5468\", \"9\\u67081\\u5468\", \"9\\u67082\\u5468\", \"9\\u67083\\u5468\", \"9\\u67084\\u5468\", \"10\\u67081\\u5468\", \"10\\u67082\\u5468\", \"10\\u67083\\u5468\", \"10\\u67084\\u5468\", \"11\\u67081\\u5468\", \"11\\u67082\\u5468\"], \"y\": [2.0, 5.0, 3.0, 2.0, 1.0, null, 3.0, 5.0, 5.0, 7.0, 1.0], \"type\": \"scatter\", \"uid\": \"9295606a-e625-11e8-8ddb-a41f72875c19\"}, {\"line\": {\"dash\": \"dashdot\"}, \"name\": \"\\u5b9e\\u9645\\u4ea4\\u4ed8\\u65f6\\u95f4(\\u8d75\\u5029)\", \"x\": [\"8\\u67085\\u5468\", \"9\\u67081\\u5468\", \"9\\u67082\\u5468\", \"9\\u67083\\u5468\", \"9\\u67084\\u5468\", \"10\\u67081\\u5468\", \"10\\u67082\\u5468\", \"10\\u67083\\u5468\", \"10\\u67084\\u5468\", \"11\\u67081\\u5468\", \"11\\u67082\\u5468\"], \"y\": [1.0, 3.0, 4.0, 7.0, 1.0, 3.0, 5.0, 6.0, 2.0, 3.0, 3.0], \"type\": \"scatter\", \"uid\": \"9295606b-e625-11e8-8ddb-a41f72875c19\"}], {\"title\": \"\\u5b9e\\u9645\\u4ea4\\u4ed8\\u65f6\\u95f4\\u5468\\u8d8b\\u52bf\\u56fe\", \"xaxis\": {\"mirror\": \"all\", \"nticks\": 20, \"showgrid\": true, \"showline\": true, \"title\": \"\\u5468\", \"type\": \"category\", \"zeroline\": true}, \"yaxis\": {\"mirror\": \"all\", \"nticks\": 20, \"showgrid\": true, \"showline\": true, \"title\": \"\\u5b9e\\u9645\\u4ea4\\u4ed8\\u65f6\\u95f4\", \"zeroline\": true}}, {\"showLink\": true, \"linkText\": \"Export to plot.ly\"})});</script>"
      ],
      "text/vnd.plotly.v1+html": [
       "<div id=\"c1169ee8-d3f5-4983-a9ed-7d0b1ee95529\" style=\"height: 525px; width: 100%;\" class=\"plotly-graph-div\"></div><script type=\"text/javascript\">require([\"plotly\"], function(Plotly) { window.PLOTLYENV=window.PLOTLYENV || {};window.PLOTLYENV.BASE_URL=\"https://plot.ly\";Plotly.newPlot(\"c1169ee8-d3f5-4983-a9ed-7d0b1ee95529\", [{\"line\": {\"dash\": \"solid\"}, \"name\": \"\\u5b9e\\u9645\\u4ea4\\u4ed8\\u65f6\\u95f4(\\u5b8b\\u5c11\\u5b87)\", \"x\": [\"8\\u67085\\u5468\", \"9\\u67081\\u5468\", \"9\\u67082\\u5468\", \"9\\u67083\\u5468\", \"9\\u67084\\u5468\", \"10\\u67081\\u5468\", \"10\\u67082\\u5468\", \"10\\u67083\\u5468\", \"10\\u67084\\u5468\", \"11\\u67081\\u5468\", \"11\\u67082\\u5468\"], \"y\": [null, 1.0, null, null, null, null, null, 6.0, 3.0, null, null], \"type\": \"scatter\", \"uid\": \"92956067-e625-11e8-8ddb-a41f72875c19\"}, {\"line\": {\"dash\": \"dot\"}, \"name\": \"\\u5b9e\\u9645\\u4ea4\\u4ed8\\u65f6\\u95f4(\\u51af\\u656c\\u5ca9)\", \"x\": [\"8\\u67085\\u5468\", \"9\\u67081\\u5468\", \"9\\u67082\\u5468\", \"9\\u67083\\u5468\", \"9\\u67084\\u5468\", \"10\\u67081\\u5468\", \"10\\u67082\\u5468\", \"10\\u67083\\u5468\", \"10\\u67084\\u5468\", \"11\\u67081\\u5468\", \"11\\u67082\\u5468\"], \"y\": [1.0, 2.0, 2.0, 3.0, 1.0, 4.0, 3.0, 5.0, 12.0, 4.0, null], \"type\": \"scatter\", \"uid\": \"92956068-e625-11e8-8ddb-a41f72875c19\"}, {\"line\": {\"dash\": \"dash\"}, \"name\": \"\\u5b9e\\u9645\\u4ea4\\u4ed8\\u65f6\\u95f4(\\u89e3\\u98de)\", \"x\": [\"8\\u67085\\u5468\", \"9\\u67081\\u5468\", \"9\\u67082\\u5468\", \"9\\u67083\\u5468\", \"9\\u67084\\u5468\", \"10\\u67081\\u5468\", \"10\\u67082\\u5468\", \"10\\u67083\\u5468\", \"10\\u67084\\u5468\", \"11\\u67081\\u5468\", \"11\\u67082\\u5468\"], \"y\": [null, null, null, null, null, 1.0, 4.0, 2.0, 2.0, 4.0, null], \"type\": \"scatter\", \"uid\": \"92956069-e625-11e8-8ddb-a41f72875c19\"}, {\"line\": {\"dash\": \"longdash\"}, \"name\": \"\\u5b9e\\u9645\\u4ea4\\u4ed8\\u65f6\\u95f4(\\u6731\\u6167\\u840d)\", \"x\": [\"8\\u67085\\u5468\", \"9\\u67081\\u5468\", \"9\\u67082\\u5468\", \"9\\u67083\\u5468\", \"9\\u67084\\u5468\", \"10\\u67081\\u5468\", \"10\\u67082\\u5468\", \"10\\u67083\\u5468\", \"10\\u67084\\u5468\", \"11\\u67081\\u5468\", \"11\\u67082\\u5468\"], \"y\": [2.0, 5.0, 3.0, 2.0, 1.0, null, 3.0, 5.0, 5.0, 7.0, 1.0], \"type\": \"scatter\", \"uid\": \"9295606a-e625-11e8-8ddb-a41f72875c19\"}, {\"line\": {\"dash\": \"dashdot\"}, \"name\": \"\\u5b9e\\u9645\\u4ea4\\u4ed8\\u65f6\\u95f4(\\u8d75\\u5029)\", \"x\": [\"8\\u67085\\u5468\", \"9\\u67081\\u5468\", \"9\\u67082\\u5468\", \"9\\u67083\\u5468\", \"9\\u67084\\u5468\", \"10\\u67081\\u5468\", \"10\\u67082\\u5468\", \"10\\u67083\\u5468\", \"10\\u67084\\u5468\", \"11\\u67081\\u5468\", \"11\\u67082\\u5468\"], \"y\": [1.0, 3.0, 4.0, 7.0, 1.0, 3.0, 5.0, 6.0, 2.0, 3.0, 3.0], \"type\": \"scatter\", \"uid\": \"9295606b-e625-11e8-8ddb-a41f72875c19\"}], {\"title\": \"\\u5b9e\\u9645\\u4ea4\\u4ed8\\u65f6\\u95f4\\u5468\\u8d8b\\u52bf\\u56fe\", \"xaxis\": {\"mirror\": \"all\", \"nticks\": 20, \"showgrid\": true, \"showline\": true, \"title\": \"\\u5468\", \"type\": \"category\", \"zeroline\": true}, \"yaxis\": {\"mirror\": \"all\", \"nticks\": 20, \"showgrid\": true, \"showline\": true, \"title\": \"\\u5b9e\\u9645\\u4ea4\\u4ed8\\u65f6\\u95f4\", \"zeroline\": true}}, {\"showLink\": true, \"linkText\": \"Export to plot.ly\"})});</script>"
      ]
     },
     "metadata": {},
     "output_type": "display_data"
    }
   ],
   "source": [
    "df4_gxh = df4[df4['信息负责人'].isin(gxh)] \n",
    "ss = myModule.format(df4_gxh ,'week_number' ,['实际交付时间'])\n",
    "ss.add_group('信息负责人')\n",
    "pp = myModule.sort_by_index(ss.groupby('count'))\n",
    "myModule.myPlot(pp).plot('line')"
   ]
  },
  {
   "cell_type": "markdown",
   "metadata": {},
   "source": [
    "## 完成周期统计"
   ]
  },
  {
   "cell_type": "markdown",
   "metadata": {},
   "source": [
    "### 整体完成周期趋势图"
   ]
  },
  {
   "cell_type": "code",
   "execution_count": 132,
   "metadata": {
    "collapsed": false,
    "scrolled": true
   },
   "outputs": [
    {
     "data": {
      "application/vnd.plotly.v1+json": {
       "data": [
        {
         "name": "实际周期",
         "type": "scatter",
         "uid": "9295606c-e625-11e8-8ddb-a41f72875c19",
         "x": [
          "8月5周",
          "9月1周",
          "9月2周",
          "9月3周",
          "9月4周",
          "10月1周",
          "10月2周",
          "10月3周",
          "10月4周",
          "11月1周",
          "11月2周"
         ],
         "y": [
          1.25,
          4.3428571428571425,
          4.196078431372549,
          4.647058823529412,
          2.6875,
          5.846153846153846,
          5.1875,
          5.711864406779661,
          5.5,
          4.35,
          4
         ]
        }
       ],
       "layout": {
        "title": "实际周期周趋势图",
        "xaxis": {
         "mirror": "all",
         "nticks": 20,
         "showgrid": true,
         "showline": true,
         "title": "周",
         "type": "category",
         "zeroline": true
        },
        "yaxis": {
         "mirror": "all",
         "nticks": 20,
         "showgrid": true,
         "showline": true,
         "title": "实际周期",
         "zeroline": true
        }
       }
      },
      "text/html": [
       "<div id=\"19197860-215b-4a6b-a1f0-0a373109c182\" style=\"height: 525px; width: 100%;\" class=\"plotly-graph-div\"></div><script type=\"text/javascript\">require([\"plotly\"], function(Plotly) { window.PLOTLYENV=window.PLOTLYENV || {};window.PLOTLYENV.BASE_URL=\"https://plot.ly\";Plotly.newPlot(\"19197860-215b-4a6b-a1f0-0a373109c182\", [{\"name\": \"\\u5b9e\\u9645\\u5468\\u671f\", \"x\": [\"8\\u67085\\u5468\", \"9\\u67081\\u5468\", \"9\\u67082\\u5468\", \"9\\u67083\\u5468\", \"9\\u67084\\u5468\", \"10\\u67081\\u5468\", \"10\\u67082\\u5468\", \"10\\u67083\\u5468\", \"10\\u67084\\u5468\", \"11\\u67081\\u5468\", \"11\\u67082\\u5468\"], \"y\": [1.25, 4.3428571428571425, 4.196078431372549, 4.647058823529412, 2.6875, 5.846153846153846, 5.1875, 5.711864406779661, 5.5, 4.35, 4.0], \"type\": \"scatter\", \"uid\": \"9295606c-e625-11e8-8ddb-a41f72875c19\"}], {\"title\": \"\\u5b9e\\u9645\\u5468\\u671f\\u5468\\u8d8b\\u52bf\\u56fe\", \"xaxis\": {\"mirror\": \"all\", \"nticks\": 20, \"showgrid\": true, \"showline\": true, \"title\": \"\\u5468\", \"type\": \"category\", \"zeroline\": true}, \"yaxis\": {\"mirror\": \"all\", \"nticks\": 20, \"showgrid\": true, \"showline\": true, \"title\": \"\\u5b9e\\u9645\\u5468\\u671f\", \"zeroline\": true}}, {\"showLink\": true, \"linkText\": \"Export to plot.ly\"})});</script>"
      ],
      "text/vnd.plotly.v1+html": [
       "<div id=\"19197860-215b-4a6b-a1f0-0a373109c182\" style=\"height: 525px; width: 100%;\" class=\"plotly-graph-div\"></div><script type=\"text/javascript\">require([\"plotly\"], function(Plotly) { window.PLOTLYENV=window.PLOTLYENV || {};window.PLOTLYENV.BASE_URL=\"https://plot.ly\";Plotly.newPlot(\"19197860-215b-4a6b-a1f0-0a373109c182\", [{\"name\": \"\\u5b9e\\u9645\\u5468\\u671f\", \"x\": [\"8\\u67085\\u5468\", \"9\\u67081\\u5468\", \"9\\u67082\\u5468\", \"9\\u67083\\u5468\", \"9\\u67084\\u5468\", \"10\\u67081\\u5468\", \"10\\u67082\\u5468\", \"10\\u67083\\u5468\", \"10\\u67084\\u5468\", \"11\\u67081\\u5468\", \"11\\u67082\\u5468\"], \"y\": [1.25, 4.3428571428571425, 4.196078431372549, 4.647058823529412, 2.6875, 5.846153846153846, 5.1875, 5.711864406779661, 5.5, 4.35, 4.0], \"type\": \"scatter\", \"uid\": \"9295606c-e625-11e8-8ddb-a41f72875c19\"}], {\"title\": \"\\u5b9e\\u9645\\u5468\\u671f\\u5468\\u8d8b\\u52bf\\u56fe\", \"xaxis\": {\"mirror\": \"all\", \"nticks\": 20, \"showgrid\": true, \"showline\": true, \"title\": \"\\u5468\", \"type\": \"category\", \"zeroline\": true}, \"yaxis\": {\"mirror\": \"all\", \"nticks\": 20, \"showgrid\": true, \"showline\": true, \"title\": \"\\u5b9e\\u9645\\u5468\\u671f\", \"zeroline\": true}}, {\"showLink\": true, \"linkText\": \"Export to plot.ly\"})});</script>"
      ]
     },
     "metadata": {},
     "output_type": "display_data"
    }
   ],
   "source": [
    "# 实际完成平均周期，建议添加最长完成周期、25%、50%、80%项目完成周期的指标\n",
    "ss = myModule.format(df4 ,'week_number' ,['实际周期'])\n",
    "pp = myModule.sort_by_index(ss.groupby('mean'))\n",
    "myModule.myPlot(pp).plot('line')"
   ]
  },
  {
   "cell_type": "markdown",
   "metadata": {},
   "source": [
    "### 个人完成周期统计"
   ]
  },
  {
   "cell_type": "code",
   "execution_count": 133,
   "metadata": {
    "collapsed": false,
    "scrolled": true
   },
   "outputs": [
    {
     "data": {
      "application/vnd.plotly.v1+json": {
       "data": [
        {
         "name": "实际周期",
         "type": "bar",
         "uid": "9295606d-e625-11e8-8ddb-a41f72875c19",
         "x": [
          "何胜",
          "冯敬岩",
          "刘梦苑",
          "刘永强",
          "宋少宇",
          "施毓芷",
          "朱慧萍",
          "杨宇",
          "林文文",
          "沈恩惠",
          "沈立群",
          "王传文",
          "王霞",
          "解飞",
          "赵倩",
          "车天栋",
          "闻少楠",
          "陈碧雯",
          "高剑"
         ],
         "y": [
          4.217391304347826,
          3.945945945945946,
          3.6875,
          7.25,
          7.5,
          3,
          3.8529411764705883,
          4.631578947368421,
          2.8,
          4.75,
          5.833333333333333,
          3,
          3.1363636363636362,
          5.3076923076923075,
          4.947368421052632,
          5.75,
          5.666666666666667,
          3.2,
          8
         ]
        }
       ],
       "layout": {
        "title": "实际周期周趋势图",
        "xaxis": {
         "mirror": "all",
         "nticks": 20,
         "showgrid": true,
         "showline": true,
         "title": "周",
         "type": "category",
         "zeroline": true
        },
        "yaxis": {
         "mirror": "all",
         "nticks": 20,
         "showgrid": true,
         "showline": true,
         "title": "实际周期",
         "zeroline": true
        }
       }
      },
      "text/html": [
       "<div id=\"d79ac95f-ac93-4684-aee6-1ca93b36ed51\" style=\"height: 525px; width: 100%;\" class=\"plotly-graph-div\"></div><script type=\"text/javascript\">require([\"plotly\"], function(Plotly) { window.PLOTLYENV=window.PLOTLYENV || {};window.PLOTLYENV.BASE_URL=\"https://plot.ly\";Plotly.newPlot(\"d79ac95f-ac93-4684-aee6-1ca93b36ed51\", [{\"name\": \"\\u5b9e\\u9645\\u5468\\u671f\", \"x\": [\"\\u4f55\\u80dc\", \"\\u51af\\u656c\\u5ca9\", \"\\u5218\\u68a6\\u82d1\", \"\\u5218\\u6c38\\u5f3a\", \"\\u5b8b\\u5c11\\u5b87\", \"\\u65bd\\u6bd3\\u82b7\", \"\\u6731\\u6167\\u840d\", \"\\u6768\\u5b87\", \"\\u6797\\u6587\\u6587\", \"\\u6c88\\u6069\\u60e0\", \"\\u6c88\\u7acb\\u7fa4\", \"\\u738b\\u4f20\\u6587\", \"\\u738b\\u971e\", \"\\u89e3\\u98de\", \"\\u8d75\\u5029\", \"\\u8f66\\u5929\\u680b\", \"\\u95fb\\u5c11\\u6960\", \"\\u9648\\u78a7\\u96ef\", \"\\u9ad8\\u5251\"], \"y\": [4.217391304347826, 3.945945945945946, 3.6875, 7.25, 7.5, 3.0, 3.8529411764705883, 4.631578947368421, 2.8, 4.75, 5.833333333333333, 3.0, 3.1363636363636362, 5.3076923076923075, 4.947368421052632, 5.75, 5.666666666666667, 3.2, 8.0], \"type\": \"bar\", \"uid\": \"9295606d-e625-11e8-8ddb-a41f72875c19\"}], {\"title\": \"\\u5b9e\\u9645\\u5468\\u671f\\u5468\\u8d8b\\u52bf\\u56fe\", \"xaxis\": {\"mirror\": \"all\", \"nticks\": 20, \"showgrid\": true, \"showline\": true, \"title\": \"\\u5468\", \"type\": \"category\", \"zeroline\": true}, \"yaxis\": {\"mirror\": \"all\", \"nticks\": 20, \"showgrid\": true, \"showline\": true, \"title\": \"\\u5b9e\\u9645\\u5468\\u671f\", \"zeroline\": true}}, {\"showLink\": true, \"linkText\": \"Export to plot.ly\"})});</script>"
      ],
      "text/vnd.plotly.v1+html": [
       "<div id=\"d79ac95f-ac93-4684-aee6-1ca93b36ed51\" style=\"height: 525px; width: 100%;\" class=\"plotly-graph-div\"></div><script type=\"text/javascript\">require([\"plotly\"], function(Plotly) { window.PLOTLYENV=window.PLOTLYENV || {};window.PLOTLYENV.BASE_URL=\"https://plot.ly\";Plotly.newPlot(\"d79ac95f-ac93-4684-aee6-1ca93b36ed51\", [{\"name\": \"\\u5b9e\\u9645\\u5468\\u671f\", \"x\": [\"\\u4f55\\u80dc\", \"\\u51af\\u656c\\u5ca9\", \"\\u5218\\u68a6\\u82d1\", \"\\u5218\\u6c38\\u5f3a\", \"\\u5b8b\\u5c11\\u5b87\", \"\\u65bd\\u6bd3\\u82b7\", \"\\u6731\\u6167\\u840d\", \"\\u6768\\u5b87\", \"\\u6797\\u6587\\u6587\", \"\\u6c88\\u6069\\u60e0\", \"\\u6c88\\u7acb\\u7fa4\", \"\\u738b\\u4f20\\u6587\", \"\\u738b\\u971e\", \"\\u89e3\\u98de\", \"\\u8d75\\u5029\", \"\\u8f66\\u5929\\u680b\", \"\\u95fb\\u5c11\\u6960\", \"\\u9648\\u78a7\\u96ef\", \"\\u9ad8\\u5251\"], \"y\": [4.217391304347826, 3.945945945945946, 3.6875, 7.25, 7.5, 3.0, 3.8529411764705883, 4.631578947368421, 2.8, 4.75, 5.833333333333333, 3.0, 3.1363636363636362, 5.3076923076923075, 4.947368421052632, 5.75, 5.666666666666667, 3.2, 8.0], \"type\": \"bar\", \"uid\": \"9295606d-e625-11e8-8ddb-a41f72875c19\"}], {\"title\": \"\\u5b9e\\u9645\\u5468\\u671f\\u5468\\u8d8b\\u52bf\\u56fe\", \"xaxis\": {\"mirror\": \"all\", \"nticks\": 20, \"showgrid\": true, \"showline\": true, \"title\": \"\\u5468\", \"type\": \"category\", \"zeroline\": true}, \"yaxis\": {\"mirror\": \"all\", \"nticks\": 20, \"showgrid\": true, \"showline\": true, \"title\": \"\\u5b9e\\u9645\\u5468\\u671f\", \"zeroline\": true}}, {\"showLink\": true, \"linkText\": \"Export to plot.ly\"})});</script>"
      ]
     },
     "metadata": {},
     "output_type": "display_data"
    }
   ],
   "source": [
    "df4_fx = df4[df4['信息负责人'].isin(fenxi)] \n",
    "ss = myModule.format(df4_fx,'信息负责人' ,['实际周期'])\n",
    "pp = ss.groupby('mean')\n",
    "myModule.myPlot(pp).plot('bar')"
   ]
  },
  {
   "cell_type": "markdown",
   "metadata": {},
   "source": [
    "# 延期情况统计"
   ]
  },
  {
   "cell_type": "markdown",
   "metadata": {},
   "source": [
    "## 延期率趋势图"
   ]
  },
  {
   "cell_type": "code",
   "execution_count": 134,
   "metadata": {
    "collapsed": false,
    "scrolled": true
   },
   "outputs": [
    {
     "name": "stderr",
     "output_type": "stream",
     "text": [
      "/home/jiankong/jupyter/chart/bin/supplment_analysis/myModule.py:253: SettingWithCopyWarning:\n",
      "\n",
      "\n",
      "A value is trying to be set on a copy of a slice from a DataFrame.\n",
      "Try using .loc[row_indexer,col_indexer] = value instead\n",
      "\n",
      "See the caveats in the documentation: http://pandas.pydata.org/pandas-docs/stable/indexing.html#indexing-view-versus-copy\n",
      "\n",
      "/home/jiankong/anaconda3/lib/python3.6/site-packages/ipykernel/__main__.py:3: SettingWithCopyWarning:\n",
      "\n",
      "\n",
      "A value is trying to be set on a copy of a slice from a DataFrame.\n",
      "Try using .loc[row_indexer,col_indexer] = value instead\n",
      "\n",
      "See the caveats in the documentation: http://pandas.pydata.org/pandas-docs/stable/indexing.html#indexing-view-versus-copy\n",
      "\n",
      "/home/jiankong/anaconda3/lib/python3.6/site-packages/ipykernel/__main__.py:4: SettingWithCopyWarning:\n",
      "\n",
      "\n",
      "A value is trying to be set on a copy of a slice from a DataFrame.\n",
      "Try using .loc[row_indexer,col_indexer] = value instead\n",
      "\n",
      "See the caveats in the documentation: http://pandas.pydata.org/pandas-docs/stable/indexing.html#indexing-view-versus-copy\n",
      "\n"
     ]
    },
    {
     "data": {
      "application/vnd.plotly.v1+json": {
       "data": [
        {
         "name": "项目延期率",
         "type": "scatter",
         "uid": "9295606e-e625-11e8-8ddb-a41f72875c19",
         "x": [
          "9月1周",
          "9月2周",
          "9月3周",
          "9月4周",
          "10月1周",
          "10月2周",
          "10月3周",
          "10月4周",
          "11月1周",
          "11月2周",
          "11月3周"
         ],
         "y": [
          0.05714285714285714,
          0,
          0.09090909090909091,
          0.030303030303030304,
          0.13333333333333333,
          0.06896551724137931,
          0.11538461538461539,
          0,
          0.05555555555555555,
          0.04,
          0
         ]
        }
       ],
       "layout": {
        "title": "项目延期率周趋势图",
        "xaxis": {
         "mirror": "all",
         "nticks": 20,
         "showgrid": true,
         "showline": true,
         "title": "周",
         "type": "category",
         "zeroline": true
        },
        "yaxis": {
         "mirror": "all",
         "nticks": 20,
         "showgrid": true,
         "showline": true,
         "title": "项目延期率",
         "zeroline": true
        }
       }
      },
      "text/html": [
       "<div id=\"dd2530d3-59ed-4334-870e-ea35eec349f2\" style=\"height: 525px; width: 100%;\" class=\"plotly-graph-div\"></div><script type=\"text/javascript\">require([\"plotly\"], function(Plotly) { window.PLOTLYENV=window.PLOTLYENV || {};window.PLOTLYENV.BASE_URL=\"https://plot.ly\";Plotly.newPlot(\"dd2530d3-59ed-4334-870e-ea35eec349f2\", [{\"name\": \"\\u9879\\u76ee\\u5ef6\\u671f\\u7387\", \"x\": [\"9\\u67081\\u5468\", \"9\\u67082\\u5468\", \"9\\u67083\\u5468\", \"9\\u67084\\u5468\", \"10\\u67081\\u5468\", \"10\\u67082\\u5468\", \"10\\u67083\\u5468\", \"10\\u67084\\u5468\", \"11\\u67081\\u5468\", \"11\\u67082\\u5468\", \"11\\u67083\\u5468\"], \"y\": [0.05714285714285714, 0.0, 0.09090909090909091, 0.030303030303030304, 0.13333333333333333, 0.06896551724137931, 0.11538461538461539, 0.0, 0.05555555555555555, 0.04, 0.0], \"type\": \"scatter\", \"uid\": \"9295606e-e625-11e8-8ddb-a41f72875c19\"}], {\"title\": \"\\u9879\\u76ee\\u5ef6\\u671f\\u7387\\u5468\\u8d8b\\u52bf\\u56fe\", \"xaxis\": {\"mirror\": \"all\", \"nticks\": 20, \"showgrid\": true, \"showline\": true, \"title\": \"\\u5468\", \"type\": \"category\", \"zeroline\": true}, \"yaxis\": {\"mirror\": \"all\", \"nticks\": 20, \"showgrid\": true, \"showline\": true, \"title\": \"\\u9879\\u76ee\\u5ef6\\u671f\\u7387\", \"zeroline\": true}}, {\"showLink\": true, \"linkText\": \"Export to plot.ly\"})});</script>"
      ],
      "text/vnd.plotly.v1+html": [
       "<div id=\"dd2530d3-59ed-4334-870e-ea35eec349f2\" style=\"height: 525px; width: 100%;\" class=\"plotly-graph-div\"></div><script type=\"text/javascript\">require([\"plotly\"], function(Plotly) { window.PLOTLYENV=window.PLOTLYENV || {};window.PLOTLYENV.BASE_URL=\"https://plot.ly\";Plotly.newPlot(\"dd2530d3-59ed-4334-870e-ea35eec349f2\", [{\"name\": \"\\u9879\\u76ee\\u5ef6\\u671f\\u7387\", \"x\": [\"9\\u67081\\u5468\", \"9\\u67082\\u5468\", \"9\\u67083\\u5468\", \"9\\u67084\\u5468\", \"10\\u67081\\u5468\", \"10\\u67082\\u5468\", \"10\\u67083\\u5468\", \"10\\u67084\\u5468\", \"11\\u67081\\u5468\", \"11\\u67082\\u5468\", \"11\\u67083\\u5468\"], \"y\": [0.05714285714285714, 0.0, 0.09090909090909091, 0.030303030303030304, 0.13333333333333333, 0.06896551724137931, 0.11538461538461539, 0.0, 0.05555555555555555, 0.04, 0.0], \"type\": \"scatter\", \"uid\": \"9295606e-e625-11e8-8ddb-a41f72875c19\"}], {\"title\": \"\\u9879\\u76ee\\u5ef6\\u671f\\u7387\\u5468\\u8d8b\\u52bf\\u56fe\", \"xaxis\": {\"mirror\": \"all\", \"nticks\": 20, \"showgrid\": true, \"showline\": true, \"title\": \"\\u5468\", \"type\": \"category\", \"zeroline\": true}, \"yaxis\": {\"mirror\": \"all\", \"nticks\": 20, \"showgrid\": true, \"showline\": true, \"title\": \"\\u9879\\u76ee\\u5ef6\\u671f\\u7387\", \"zeroline\": true}}, {\"showLink\": true, \"linkText\": \"Export to plot.ly\"})});</script>"
      ]
     },
     "metadata": {},
     "output_type": "display_data"
    }
   ],
   "source": [
    "ss = myModule.format(df5 ,'week_number' ,['流水号','延期天数'])\n",
    "ss.judge_and_replace('延期天数',0)\n",
    "ss.df['流水号'] = list(map(changetype2, ss.df['流水号']))\n",
    "ss.df['延期天数_bool'] = ss.df['延期天数_bool'].astype(int)      #bool类型装换为数值1/0\n",
    "pp = myModule.sort_by_index(ss.get_total_ratio([['项目延期率' ,'延期天数_bool' , '流水号','/']]))\n",
    "myModule.myPlot(pp).plot('line')"
   ]
  },
  {
   "cell_type": "markdown",
   "metadata": {},
   "source": [
    "## 延期项目列表"
   ]
  },
  {
   "cell_type": "code",
   "execution_count": 135,
   "metadata": {
    "collapsed": false
   },
   "outputs": [
    {
     "data": {
      "text/html": [
       "<div>\n",
       "<style scoped>\n",
       "    .dataframe tbody tr th:only-of-type {\n",
       "        vertical-align: middle;\n",
       "    }\n",
       "\n",
       "    .dataframe tbody tr th {\n",
       "        vertical-align: top;\n",
       "    }\n",
       "\n",
       "    .dataframe thead th {\n",
       "        text-align: right;\n",
       "    }\n",
       "</style>\n",
       "<table border=\"1\" class=\"dataframe\">\n",
       "  <thead>\n",
       "    <tr style=\"text-align: right;\">\n",
       "      <th></th>\n",
       "      <th>week_number</th>\n",
       "      <th>流水号</th>\n",
       "      <th>个性化分析名称</th>\n",
       "      <th>信息负责人</th>\n",
       "      <th>首次评估反馈时间</th>\n",
       "      <th>开始执行时间</th>\n",
       "      <th>预计交付时间</th>\n",
       "      <th>实际交付时间</th>\n",
       "      <th>备注</th>\n",
       "    </tr>\n",
       "  </thead>\n",
       "  <tbody>\n",
       "    <tr>\n",
       "      <th>337</th>\n",
       "      <td>11月1周</td>\n",
       "      <td>20181022-007</td>\n",
       "      <td>PM-YWYN180191-01中科院昆明动物所59个人DNA建库测序过滤任务单-01</td>\n",
       "      <td>沈立群</td>\n",
       "      <td>2018-10-23</td>\n",
       "      <td>2018-10-23</td>\n",
       "      <td>2018-11-03</td>\n",
       "      <td>2018-11-04 00:00:00</td>\n",
       "      <td>0</td>\n",
       "    </tr>\n",
       "    <tr>\n",
       "      <th>341</th>\n",
       "      <td>11月1周</td>\n",
       "      <td>20181022-011</td>\n",
       "      <td>PM-BJ170057-01北京蛋白质组研究中心4个小鼠10XGenomics文库包8条la...</td>\n",
       "      <td>姚盟成</td>\n",
       "      <td>2018-10-23</td>\n",
       "      <td>2018-10-29</td>\n",
       "      <td>2018-11-02</td>\n",
       "      <td>2018-11-07 00:00:00</td>\n",
       "      <td>由于协和基础所的项目问题，临时调整了优先级</td>\n",
       "    </tr>\n",
       "    <tr>\n",
       "      <th>377</th>\n",
       "      <td>11月1周</td>\n",
       "      <td>20181025-001</td>\n",
       "      <td>PM-HA170097-01河南农业大学2个鸡HiC建库测序分析任务单-05</td>\n",
       "      <td>赵玥</td>\n",
       "      <td>2018-10-30</td>\n",
       "      <td>2018-10-30</td>\n",
       "      <td>2018-11-02</td>\n",
       "      <td>0</td>\n",
       "      <td>0</td>\n",
       "    </tr>\n",
       "  </tbody>\n",
       "</table>\n",
       "</div>"
      ],
      "text/plain": [
       "    week_number           流水号  \\\n",
       "337       11月1周  20181022-007   \n",
       "341       11月1周  20181022-011   \n",
       "377       11月1周  20181025-001   \n",
       "\n",
       "                                               个性化分析名称 信息负责人   首次评估反馈时间  \\\n",
       "337        PM-YWYN180191-01中科院昆明动物所59个人DNA建库测序过滤任务单-01   沈立群 2018-10-23   \n",
       "341  PM-BJ170057-01北京蛋白质组研究中心4个小鼠10XGenomics文库包8条la...   姚盟成 2018-10-23   \n",
       "377             PM-HA170097-01河南农业大学2个鸡HiC建库测序分析任务单-05    赵玥 2018-10-30   \n",
       "\n",
       "        开始执行时间     预计交付时间               实际交付时间                     备注  \n",
       "337 2018-10-23 2018-11-03  2018-11-04 00:00:00                      0  \n",
       "341 2018-10-29 2018-11-02  2018-11-07 00:00:00  由于协和基础所的项目问题，临时调整了优先级  \n",
       "377 2018-10-30 2018-11-02                    0                      0  "
      ]
     },
     "execution_count": 135,
     "metadata": {},
     "output_type": "execute_result"
    }
   ],
   "source": [
    "ss = myModule.format(df5,'week_number',['流水号','个性化分析名称','信息负责人','首次评估反馈时间','开始执行时间','预计交付时间','实际交付时间','延期天数','备注'])\n",
    "ss.select_by_value('week_number',stat_week)\n",
    "ss.judge_and_replace('延期天数',0)\n",
    "ss.select_by_value('延期天数_bool',True)\n",
    "tt = myModule.format(ss.df,'week_number',['流水号','个性化分析名称','信息负责人','首次评估反馈时间','开始执行时间','预计交付时间','实际交付时间','备注']).df\n",
    "tt.sort_values(by = '预计交付时间',axis = 0,ascending = False)"
   ]
  },
  {
   "cell_type": "markdown",
   "metadata": {},
   "source": [
    "# 7日完成率统计"
   ]
  },
  {
   "cell_type": "markdown",
   "metadata": {},
   "source": [
    "##  7日完成率趋势图"
   ]
  },
  {
   "cell_type": "code",
   "execution_count": 136,
   "metadata": {
    "collapsed": false,
    "scrolled": true
   },
   "outputs": [
    {
     "name": "stderr",
     "output_type": "stream",
     "text": [
      "/home/jiankong/jupyter/chart/bin/supplment_analysis/myModule.py:253: SettingWithCopyWarning:\n",
      "\n",
      "\n",
      "A value is trying to be set on a copy of a slice from a DataFrame.\n",
      "Try using .loc[row_indexer,col_indexer] = value instead\n",
      "\n",
      "See the caveats in the documentation: http://pandas.pydata.org/pandas-docs/stable/indexing.html#indexing-view-versus-copy\n",
      "\n",
      "/home/jiankong/anaconda3/lib/python3.6/site-packages/ipykernel/__main__.py:3: SettingWithCopyWarning:\n",
      "\n",
      "\n",
      "A value is trying to be set on a copy of a slice from a DataFrame.\n",
      "Try using .loc[row_indexer,col_indexer] = value instead\n",
      "\n",
      "See the caveats in the documentation: http://pandas.pydata.org/pandas-docs/stable/indexing.html#indexing-view-versus-copy\n",
      "\n",
      "/home/jiankong/anaconda3/lib/python3.6/site-packages/ipykernel/__main__.py:4: SettingWithCopyWarning:\n",
      "\n",
      "\n",
      "A value is trying to be set on a copy of a slice from a DataFrame.\n",
      "Try using .loc[row_indexer,col_indexer] = value instead\n",
      "\n",
      "See the caveats in the documentation: http://pandas.pydata.org/pandas-docs/stable/indexing.html#indexing-view-versus-copy\n",
      "\n"
     ]
    },
    {
     "data": {
      "application/vnd.plotly.v1+json": {
       "data": [
        {
         "name": "7日完成率",
         "type": "scatter",
         "uid": "9295606f-e625-11e8-8ddb-a41f72875c19",
         "x": [
          "8月5周",
          "9月1周",
          "9月2周",
          "9月3周",
          "9月4周",
          "10月1周",
          "10月2周",
          "10月3周",
          "10月4周",
          "11月1周",
          "11月2周"
         ],
         "y": [
          0,
          0.02857142857142857,
          0.0392156862745098,
          0.14705882352941177,
          0,
          0.38461538461538464,
          0.16666666666666666,
          0.1694915254237288,
          0.1111111111111111,
          0.06666666666666667,
          0
         ]
        }
       ],
       "layout": {
        "title": "7日完成率周趋势图",
        "xaxis": {
         "mirror": "all",
         "nticks": 20,
         "showgrid": true,
         "showline": true,
         "title": "周",
         "type": "category",
         "zeroline": true
        },
        "yaxis": {
         "mirror": "all",
         "nticks": 20,
         "showgrid": true,
         "showline": true,
         "title": "7日完成率",
         "zeroline": true
        }
       }
      },
      "text/html": [
       "<div id=\"704f41bc-ea7a-4c86-93a6-bd00eca3773e\" style=\"height: 525px; width: 100%;\" class=\"plotly-graph-div\"></div><script type=\"text/javascript\">require([\"plotly\"], function(Plotly) { window.PLOTLYENV=window.PLOTLYENV || {};window.PLOTLYENV.BASE_URL=\"https://plot.ly\";Plotly.newPlot(\"704f41bc-ea7a-4c86-93a6-bd00eca3773e\", [{\"name\": \"7\\u65e5\\u5b8c\\u6210\\u7387\", \"x\": [\"8\\u67085\\u5468\", \"9\\u67081\\u5468\", \"9\\u67082\\u5468\", \"9\\u67083\\u5468\", \"9\\u67084\\u5468\", \"10\\u67081\\u5468\", \"10\\u67082\\u5468\", \"10\\u67083\\u5468\", \"10\\u67084\\u5468\", \"11\\u67081\\u5468\", \"11\\u67082\\u5468\"], \"y\": [0.0, 0.02857142857142857, 0.0392156862745098, 0.14705882352941177, 0.0, 0.38461538461538464, 0.16666666666666666, 0.1694915254237288, 0.1111111111111111, 0.06666666666666667, 0.0], \"type\": \"scatter\", \"uid\": \"9295606f-e625-11e8-8ddb-a41f72875c19\"}], {\"title\": \"7\\u65e5\\u5b8c\\u6210\\u7387\\u5468\\u8d8b\\u52bf\\u56fe\", \"xaxis\": {\"mirror\": \"all\", \"nticks\": 20, \"showgrid\": true, \"showline\": true, \"title\": \"\\u5468\", \"type\": \"category\", \"zeroline\": true}, \"yaxis\": {\"mirror\": \"all\", \"nticks\": 20, \"showgrid\": true, \"showline\": true, \"title\": \"7\\u65e5\\u5b8c\\u6210\\u7387\", \"zeroline\": true}}, {\"showLink\": true, \"linkText\": \"Export to plot.ly\"})});</script>"
      ],
      "text/vnd.plotly.v1+html": [
       "<div id=\"704f41bc-ea7a-4c86-93a6-bd00eca3773e\" style=\"height: 525px; width: 100%;\" class=\"plotly-graph-div\"></div><script type=\"text/javascript\">require([\"plotly\"], function(Plotly) { window.PLOTLYENV=window.PLOTLYENV || {};window.PLOTLYENV.BASE_URL=\"https://plot.ly\";Plotly.newPlot(\"704f41bc-ea7a-4c86-93a6-bd00eca3773e\", [{\"name\": \"7\\u65e5\\u5b8c\\u6210\\u7387\", \"x\": [\"8\\u67085\\u5468\", \"9\\u67081\\u5468\", \"9\\u67082\\u5468\", \"9\\u67083\\u5468\", \"9\\u67084\\u5468\", \"10\\u67081\\u5468\", \"10\\u67082\\u5468\", \"10\\u67083\\u5468\", \"10\\u67084\\u5468\", \"11\\u67081\\u5468\", \"11\\u67082\\u5468\"], \"y\": [0.0, 0.02857142857142857, 0.0392156862745098, 0.14705882352941177, 0.0, 0.38461538461538464, 0.16666666666666666, 0.1694915254237288, 0.1111111111111111, 0.06666666666666667, 0.0], \"type\": \"scatter\", \"uid\": \"9295606f-e625-11e8-8ddb-a41f72875c19\"}], {\"title\": \"7\\u65e5\\u5b8c\\u6210\\u7387\\u5468\\u8d8b\\u52bf\\u56fe\", \"xaxis\": {\"mirror\": \"all\", \"nticks\": 20, \"showgrid\": true, \"showline\": true, \"title\": \"\\u5468\", \"type\": \"category\", \"zeroline\": true}, \"yaxis\": {\"mirror\": \"all\", \"nticks\": 20, \"showgrid\": true, \"showline\": true, \"title\": \"7\\u65e5\\u5b8c\\u6210\\u7387\", \"zeroline\": true}}, {\"showLink\": true, \"linkText\": \"Export to plot.ly\"})});</script>"
      ]
     },
     "metadata": {},
     "output_type": "display_data"
    }
   ],
   "source": [
    "ss = myModule.format(df4 ,'week_number' ,['流水号','实际周期'])\n",
    "ss.judge_and_replace('实际周期',7)   # 建议添加小于号\n",
    "ss.df['流水号'] = list(map(changetype2, ss.df['流水号']))\n",
    "ss.df['实际周期_bool'] = ss.df['实际周期_bool'].astype(int)      #bool类型装换为数值1/0\n",
    "pp = myModule.sort_by_index(ss.get_total_ratio([['7日完成率' ,'实际周期_bool' , '流水号','/']]))\n",
    "myModule.myPlot(pp).plot('line')"
   ]
  },
  {
   "cell_type": "markdown",
   "metadata": {
    "collapsed": true
   },
   "source": [
    "## 实际周期>7日项目列表"
   ]
  },
  {
   "cell_type": "code",
   "execution_count": 137,
   "metadata": {
    "collapsed": false,
    "scrolled": true
   },
   "outputs": [
    {
     "data": {
      "text/html": [
       "<div>\n",
       "<style scoped>\n",
       "    .dataframe tbody tr th:only-of-type {\n",
       "        vertical-align: middle;\n",
       "    }\n",
       "\n",
       "    .dataframe tbody tr th {\n",
       "        vertical-align: top;\n",
       "    }\n",
       "\n",
       "    .dataframe thead th {\n",
       "        text-align: right;\n",
       "    }\n",
       "</style>\n",
       "<table border=\"1\" class=\"dataframe\">\n",
       "  <thead>\n",
       "    <tr style=\"text-align: right;\">\n",
       "      <th></th>\n",
       "      <th>week_number</th>\n",
       "      <th>流水号</th>\n",
       "      <th>个性化分析名称</th>\n",
       "      <th>信息负责人</th>\n",
       "      <th>首次评估反馈时间</th>\n",
       "      <th>开始执行时间</th>\n",
       "      <th>实际交付时间</th>\n",
       "      <th>实际周期</th>\n",
       "      <th>备注</th>\n",
       "    </tr>\n",
       "  </thead>\n",
       "  <tbody>\n",
       "    <tr>\n",
       "      <th>312</th>\n",
       "      <td>11月1周</td>\n",
       "      <td>20181017-016</td>\n",
       "      <td>PM-HA170097-01河南农业大学2个鸡HiC建库测序分析任务单-04</td>\n",
       "      <td>赵玥</td>\n",
       "      <td>2018-10-17</td>\n",
       "      <td>2018-10-17</td>\n",
       "      <td>2018-11-02</td>\n",
       "      <td>16</td>\n",
       "      <td>0</td>\n",
       "    </tr>\n",
       "    <tr>\n",
       "      <th>308</th>\n",
       "      <td>11月1周</td>\n",
       "      <td>20181017-012</td>\n",
       "      <td>PM-HB180225-01华中农大1个白背飞虱Hi-C辅助基因组组装建库测序分析任务单-02</td>\n",
       "      <td>占伟</td>\n",
       "      <td>2018-10-18</td>\n",
       "      <td>2018-10-18</td>\n",
       "      <td>2018-11-02</td>\n",
       "      <td>15</td>\n",
       "      <td>0</td>\n",
       "    </tr>\n",
       "    <tr>\n",
       "      <th>337</th>\n",
       "      <td>11月1周</td>\n",
       "      <td>20181022-007</td>\n",
       "      <td>PM-YWYN180191-01中科院昆明动物所59个人DNA建库测序过滤任务单-01</td>\n",
       "      <td>沈立群</td>\n",
       "      <td>2018-10-23</td>\n",
       "      <td>2018-10-23</td>\n",
       "      <td>2018-11-04</td>\n",
       "      <td>12</td>\n",
       "      <td>0</td>\n",
       "    </tr>\n",
       "    <tr>\n",
       "      <th>341</th>\n",
       "      <td>11月1周</td>\n",
       "      <td>20181022-011</td>\n",
       "      <td>PM-BJ170057-01北京蛋白质组研究中心4个小鼠10XGenomics文库包8条la...</td>\n",
       "      <td>姚盟成</td>\n",
       "      <td>2018-10-23</td>\n",
       "      <td>2018-10-29</td>\n",
       "      <td>2018-11-07</td>\n",
       "      <td>9</td>\n",
       "      <td>由于协和基础所的项目问题，临时调整了优先级</td>\n",
       "    </tr>\n",
       "  </tbody>\n",
       "</table>\n",
       "</div>"
      ],
      "text/plain": [
       "    week_number           流水号  \\\n",
       "312       11月1周  20181017-016   \n",
       "308       11月1周  20181017-012   \n",
       "337       11月1周  20181022-007   \n",
       "341       11月1周  20181022-011   \n",
       "\n",
       "                                               个性化分析名称 信息负责人   首次评估反馈时间  \\\n",
       "312             PM-HA170097-01河南农业大学2个鸡HiC建库测序分析任务单-04    赵玥 2018-10-17   \n",
       "308    PM-HB180225-01华中农大1个白背飞虱Hi-C辅助基因组组装建库测序分析任务单-02    占伟 2018-10-18   \n",
       "337        PM-YWYN180191-01中科院昆明动物所59个人DNA建库测序过滤任务单-01   沈立群 2018-10-23   \n",
       "341  PM-BJ170057-01北京蛋白质组研究中心4个小鼠10XGenomics文库包8条la...   姚盟成 2018-10-23   \n",
       "\n",
       "        开始执行时间     实际交付时间  实际周期                     备注  \n",
       "312 2018-10-17 2018-11-02    16                      0  \n",
       "308 2018-10-18 2018-11-02    15                      0  \n",
       "337 2018-10-23 2018-11-04    12                      0  \n",
       "341 2018-10-29 2018-11-07     9  由于协和基础所的项目问题，临时调整了优先级  "
      ]
     },
     "execution_count": 137,
     "metadata": {},
     "output_type": "execute_result"
    }
   ],
   "source": [
    "ss = myModule.format(df4,'week_number',['流水号','个性化分析名称','信息负责人','首次评估反馈时间','开始执行时间','实际交付时间','实际周期','备注'])\n",
    "ss.select_by_value('week_number',stat_week)\n",
    "ss.judge_and_replace('实际周期',7)\n",
    "ss.select_by_value('实际周期_bool',True)\n",
    "tt = myModule.format(ss.df,'week_number',['流水号','个性化分析名称','信息负责人','首次评估反馈时间','开始执行时间','实际交付时间','实际周期','备注']).df\n",
    "tt.sort_values(by = '实际周期',axis = 0,ascending = False)   #预计周期从大到小排序"
   ]
  },
  {
   "cell_type": "code",
   "execution_count": null,
   "metadata": {
    "collapsed": true
   },
   "outputs": [],
   "source": []
  }
 ],
 "metadata": {
  "hide_input": false,
  "kernelspec": {
   "display_name": "Python 3",
   "language": "python",
   "name": "python3"
  },
  "language_info": {
   "codemirror_mode": {
    "name": "ipython",
    "version": 3
   },
   "file_extension": ".py",
   "mimetype": "text/x-python",
   "name": "python",
   "nbconvert_exporter": "python",
   "pygments_lexer": "ipython3",
   "version": "3.6.0"
  },
  "toc": {
   "base_numbering": 1,
   "nav_menu": {},
   "number_sections": true,
   "sideBar": true,
   "skip_h1_title": false,
   "title_cell": "Table of Contents",
   "title_sidebar": "Contents",
   "toc_cell": false,
   "toc_position": {
    "height": "calc(100% - 180px)",
    "left": "10px",
    "top": "150px",
    "width": "273px"
   },
   "toc_section_display": true,
   "toc_window_display": true
  }
 },
 "nbformat": 4,
 "nbformat_minor": 2
}
