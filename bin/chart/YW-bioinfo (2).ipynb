{
 "cells": [
  {
   "cell_type": "code",
   "execution_count": 2,
   "metadata": {
    "collapsed": false,
    "hide_input": false,
    "scrolled": true
   },
   "outputs": [
    {
     "name": "stdout",
     "output_type": "stream",
     "text": [
      "The autoreload extension is already loaded. To reload it, use:\n",
      "  %reload_ext autoreload\n"
     ]
    }
   ],
   "source": [
    "%load_ext autoreload\n",
    "%autoreload 2\n",
    "import sys\n",
    "sys.path.append('./')\n",
    "import myModule\n",
    "import pandas as pd "
   ]
  },
  {
   "cell_type": "code",
   "execution_count": 3,
   "metadata": {
    "collapsed": false
   },
   "outputs": [
    {
     "data": {
      "text/html": [
       "<script>requirejs.config({paths: { 'plotly': ['https://cdn.plot.ly/plotly-latest.min']},});if(!window.Plotly) {{require(['plotly'],function(plotly) {window.Plotly=plotly;});}}</script>"
      ],
      "text/vnd.plotly.v1+html": [
       "<script>requirejs.config({paths: { 'plotly': ['https://cdn.plot.ly/plotly-latest.min']},});if(!window.Plotly) {{require(['plotly'],function(plotly) {window.Plotly=plotly;});}}</script>"
      ]
     },
     "metadata": {},
     "output_type": "display_data"
    },
    {
     "data": {
      "text/plain": [
       "<module 'myModule' from 'E:\\\\运营数据\\\\仪表盘\\\\义乌组\\\\chart\\\\myModule.py'>"
      ]
     },
     "execution_count": 3,
     "metadata": {},
     "output_type": "execute_result"
    }
   ],
   "source": [
    "import imp\n",
    "imp.reload(myModule)"
   ]
  },
  {
   "cell_type": "code",
   "execution_count": 4,
   "metadata": {
    "collapsed": false
   },
   "outputs": [],
   "source": [
    "pathway = r\"E:\\\\运营数据\\\\仪表盘\\\\义乌组\\\\data\\YW\""
   ]
  },
  {
   "cell_type": "markdown",
   "metadata": {},
   "source": [
    "# 芯片质控情况\n",
    "* 对二代芯片质控情况进行汇总分析"
   ]
  },
  {
   "cell_type": "code",
   "execution_count": 5,
   "metadata": {
    "collapsed": false,
    "scrolled": false
   },
   "outputs": [],
   "source": [
    "all_files , title = myModule.get_title(pathway,1 )##给路径\n",
    "all_dict = myModule.read_xlsx(all_files, 1 ) ## read all files"
   ]
  },
  {
   "cell_type": "markdown",
   "metadata": {},
   "source": [
    "## 产能"
   ]
  },
  {
   "cell_type": "markdown",
   "metadata": {},
   "source": [
    "### 芯片总数和不通过芯片数"
   ]
  },
  {
   "cell_type": "code",
   "execution_count": 6,
   "metadata": {
    "collapsed": false,
    "scrolled": false
   },
   "outputs": [
    {
     "data": {
      "application/vnd.plotly.v1+json": {
       "data": [
        {
         "name": "芯片总数",
         "type": "scatter",
         "uid": "dc86348a-ca97-11e8-9abf-d89ef3991fb3",
         "x": [
          "8-1",
          "8-2",
          "8-3",
          "8-4",
          "9-1",
          "9-2",
          "9-3",
          "9-4"
         ],
         "y": [
          0,
          0,
          0,
          0,
          3,
          2,
          2,
          1
         ]
        },
        {
         "name": "不通过芯片数",
         "type": "scatter",
         "uid": "dc865b80-ca97-11e8-9304-d89ef3991fb3",
         "x": [
          "8-1",
          "8-2",
          "8-3",
          "8-4",
          "9-1",
          "9-2",
          "9-3",
          "9-4"
         ],
         "y": [
          0,
          0,
          0,
          0,
          0,
          0,
          0,
          1
         ]
        }
       ],
       "layout": {
        "title": "芯片总数&不通过芯片数周趋势图",
        "xaxis": {
         "mirror": "all",
         "nticks": 20,
         "showgrid": true,
         "showline": true,
         "title": "周",
         "zeroline": true
        },
        "yaxis": {
         "mirror": "all",
         "nticks": 20,
         "showgrid": true,
         "showline": true,
         "title": "芯片总数&不通过芯片数",
         "zeroline": true
        }
       }
      },
      "text/html": [
       "<div id=\"05540085-d8d8-4d4e-96fc-810e1d217011\" style=\"height: 525px; width: 100%;\" class=\"plotly-graph-div\"></div><script type=\"text/javascript\">require([\"plotly\"], function(Plotly) { window.PLOTLYENV=window.PLOTLYENV || {};window.PLOTLYENV.BASE_URL=\"https://plot.ly\";Plotly.newPlot(\"05540085-d8d8-4d4e-96fc-810e1d217011\", [{\"name\": \"\\u82af\\u7247\\u603b\\u6570\", \"x\": [\"8-1\", \"8-2\", \"8-3\", \"8-4\", \"9-1\", \"9-2\", \"9-3\", \"9-4\"], \"y\": [0.0, 0.0, 0.0, 0.0, 3.0, 2.0, 2.0, 1.0], \"type\": \"scatter\", \"uid\": \"dc86348a-ca97-11e8-9abf-d89ef3991fb3\"}, {\"name\": \"\\u4e0d\\u901a\\u8fc7\\u82af\\u7247\\u6570\", \"x\": [\"8-1\", \"8-2\", \"8-3\", \"8-4\", \"9-1\", \"9-2\", \"9-3\", \"9-4\"], \"y\": [0.0, 0.0, 0.0, 0.0, 0.0, 0.0, 0.0, 1.0], \"type\": \"scatter\", \"uid\": \"dc865b80-ca97-11e8-9304-d89ef3991fb3\"}], {\"title\": \"\\u82af\\u7247\\u603b\\u6570&\\u4e0d\\u901a\\u8fc7\\u82af\\u7247\\u6570\\u5468\\u8d8b\\u52bf\\u56fe\", \"xaxis\": {\"mirror\": \"all\", \"nticks\": 20, \"showgrid\": true, \"showline\": true, \"title\": \"\\u5468\", \"zeroline\": true}, \"yaxis\": {\"mirror\": \"all\", \"nticks\": 20, \"showgrid\": true, \"showline\": true, \"title\": \"\\u82af\\u7247\\u603b\\u6570&\\u4e0d\\u901a\\u8fc7\\u82af\\u7247\\u6570\", \"zeroline\": true}}, {\"showLink\": true, \"linkText\": \"Export to plot.ly\"})});</script>"
      ],
      "text/vnd.plotly.v1+html": [
       "<div id=\"05540085-d8d8-4d4e-96fc-810e1d217011\" style=\"height: 525px; width: 100%;\" class=\"plotly-graph-div\"></div><script type=\"text/javascript\">require([\"plotly\"], function(Plotly) { window.PLOTLYENV=window.PLOTLYENV || {};window.PLOTLYENV.BASE_URL=\"https://plot.ly\";Plotly.newPlot(\"05540085-d8d8-4d4e-96fc-810e1d217011\", [{\"name\": \"\\u82af\\u7247\\u603b\\u6570\", \"x\": [\"8-1\", \"8-2\", \"8-3\", \"8-4\", \"9-1\", \"9-2\", \"9-3\", \"9-4\"], \"y\": [0.0, 0.0, 0.0, 0.0, 3.0, 2.0, 2.0, 1.0], \"type\": \"scatter\", \"uid\": \"dc86348a-ca97-11e8-9abf-d89ef3991fb3\"}, {\"name\": \"\\u4e0d\\u901a\\u8fc7\\u82af\\u7247\\u6570\", \"x\": [\"8-1\", \"8-2\", \"8-3\", \"8-4\", \"9-1\", \"9-2\", \"9-3\", \"9-4\"], \"y\": [0.0, 0.0, 0.0, 0.0, 0.0, 0.0, 0.0, 1.0], \"type\": \"scatter\", \"uid\": \"dc865b80-ca97-11e8-9304-d89ef3991fb3\"}], {\"title\": \"\\u82af\\u7247\\u603b\\u6570&\\u4e0d\\u901a\\u8fc7\\u82af\\u7247\\u6570\\u5468\\u8d8b\\u52bf\\u56fe\", \"xaxis\": {\"mirror\": \"all\", \"nticks\": 20, \"showgrid\": true, \"showline\": true, \"title\": \"\\u5468\", \"zeroline\": true}, \"yaxis\": {\"mirror\": \"all\", \"nticks\": 20, \"showgrid\": true, \"showline\": true, \"title\": \"\\u82af\\u7247\\u603b\\u6570&\\u4e0d\\u901a\\u8fc7\\u82af\\u7247\\u6570\", \"zeroline\": true}}, {\"showLink\": true, \"linkText\": \"Export to plot.ly\"})});</script>"
      ]
     },
     "metadata": {},
     "output_type": "display_data"
    },
    {
     "data": {
      "application/vnd.plotly.v1+json": {
       "data": [
        {
         "name": "芯片总数",
         "type": "scatter",
         "uid": "dc956c62-ca97-11e8-b237-d89ef3991fb3",
         "x": [
          "8",
          "9"
         ],
         "y": [
          0,
          8
         ]
        },
        {
         "name": "不通过芯片数",
         "type": "scatter",
         "uid": "dc956c63-ca97-11e8-b536-d89ef3991fb3",
         "x": [
          "8",
          "9"
         ],
         "y": [
          0,
          1
         ]
        }
       ],
       "layout": {
        "title": "芯片总数&不通过芯片数月趋势图",
        "xaxis": {
         "mirror": "all",
         "nticks": 20,
         "showgrid": true,
         "showline": true,
         "title": "月",
         "zeroline": true
        },
        "yaxis": {
         "mirror": "all",
         "nticks": 20,
         "showgrid": true,
         "showline": true,
         "title": "芯片总数&不通过芯片数",
         "zeroline": true
        }
       }
      },
      "text/html": [
       "<div id=\"8773bfe3-0821-4c31-ab1d-94bd307d3686\" style=\"height: 525px; width: 100%;\" class=\"plotly-graph-div\"></div><script type=\"text/javascript\">require([\"plotly\"], function(Plotly) { window.PLOTLYENV=window.PLOTLYENV || {};window.PLOTLYENV.BASE_URL=\"https://plot.ly\";Plotly.newPlot(\"8773bfe3-0821-4c31-ab1d-94bd307d3686\", [{\"name\": \"\\u82af\\u7247\\u603b\\u6570\", \"x\": [\"8\", \"9\"], \"y\": [0.0, 8.0], \"type\": \"scatter\", \"uid\": \"dc956c62-ca97-11e8-b237-d89ef3991fb3\"}, {\"name\": \"\\u4e0d\\u901a\\u8fc7\\u82af\\u7247\\u6570\", \"x\": [\"8\", \"9\"], \"y\": [0.0, 1.0], \"type\": \"scatter\", \"uid\": \"dc956c63-ca97-11e8-b536-d89ef3991fb3\"}], {\"title\": \"\\u82af\\u7247\\u603b\\u6570&\\u4e0d\\u901a\\u8fc7\\u82af\\u7247\\u6570\\u6708\\u8d8b\\u52bf\\u56fe\", \"xaxis\": {\"mirror\": \"all\", \"nticks\": 20, \"showgrid\": true, \"showline\": true, \"title\": \"\\u6708\", \"zeroline\": true}, \"yaxis\": {\"mirror\": \"all\", \"nticks\": 20, \"showgrid\": true, \"showline\": true, \"title\": \"\\u82af\\u7247\\u603b\\u6570&\\u4e0d\\u901a\\u8fc7\\u82af\\u7247\\u6570\", \"zeroline\": true}}, {\"showLink\": true, \"linkText\": \"Export to plot.ly\"})});</script>"
      ],
      "text/vnd.plotly.v1+html": [
       "<div id=\"8773bfe3-0821-4c31-ab1d-94bd307d3686\" style=\"height: 525px; width: 100%;\" class=\"plotly-graph-div\"></div><script type=\"text/javascript\">require([\"plotly\"], function(Plotly) { window.PLOTLYENV=window.PLOTLYENV || {};window.PLOTLYENV.BASE_URL=\"https://plot.ly\";Plotly.newPlot(\"8773bfe3-0821-4c31-ab1d-94bd307d3686\", [{\"name\": \"\\u82af\\u7247\\u603b\\u6570\", \"x\": [\"8\", \"9\"], \"y\": [0.0, 8.0], \"type\": \"scatter\", \"uid\": \"dc956c62-ca97-11e8-b237-d89ef3991fb3\"}, {\"name\": \"\\u4e0d\\u901a\\u8fc7\\u82af\\u7247\\u6570\", \"x\": [\"8\", \"9\"], \"y\": [0.0, 1.0], \"type\": \"scatter\", \"uid\": \"dc956c63-ca97-11e8-b536-d89ef3991fb3\"}], {\"title\": \"\\u82af\\u7247\\u603b\\u6570&\\u4e0d\\u901a\\u8fc7\\u82af\\u7247\\u6570\\u6708\\u8d8b\\u52bf\\u56fe\", \"xaxis\": {\"mirror\": \"all\", \"nticks\": 20, \"showgrid\": true, \"showline\": true, \"title\": \"\\u6708\", \"zeroline\": true}, \"yaxis\": {\"mirror\": \"all\", \"nticks\": 20, \"showgrid\": true, \"showline\": true, \"title\": \"\\u82af\\u7247\\u603b\\u6570&\\u4e0d\\u901a\\u8fc7\\u82af\\u7247\\u6570\", \"zeroline\": true}}, {\"showLink\": true, \"linkText\": \"Export to plot.ly\"})});</script>"
      ]
     },
     "metadata": {},
     "output_type": "display_data"
    }
   ],
   "source": [
    "data_dict = {'芯片总数':['芯片总数'], '不通过芯片数':['不通过芯片数']}\n",
    "myModule.plot( all_dict, data_dict, '人员', 'line', all='all')"
   ]
  },
  {
   "cell_type": "markdown",
   "metadata": {},
   "source": [
    "## 效率"
   ]
  },
  {
   "cell_type": "markdown",
   "metadata": {},
   "source": [
    "### 不合格率"
   ]
  },
  {
   "cell_type": "code",
   "execution_count": 7,
   "metadata": {
    "collapsed": false,
    "scrolled": false
   },
   "outputs": [
    {
     "data": {
      "application/vnd.plotly.v1+json": {
       "data": [
        {
         "name": "不合格率",
         "type": "scatter",
         "uid": "dce1f876-ca97-11e8-8cb5-d89ef3991fb3",
         "x": [
          "8-1",
          "8-2",
          "8-3",
          "8-4",
          "9-1",
          "9-2",
          "9-3",
          "9-4"
         ],
         "y": [
          null,
          null,
          null,
          null,
          0,
          0,
          0,
          1
         ]
        }
       ],
       "layout": {
        "title": "不合格率周趋势图",
        "xaxis": {
         "mirror": "all",
         "nticks": 20,
         "showgrid": true,
         "showline": true,
         "title": "周",
         "zeroline": true
        },
        "yaxis": {
         "mirror": "all",
         "nticks": 20,
         "showgrid": true,
         "showline": true,
         "title": "不合格率",
         "zeroline": true
        }
       }
      },
      "text/html": [
       "<div id=\"20805696-4dc0-48af-85e7-755f6f9fc410\" style=\"height: 525px; width: 100%;\" class=\"plotly-graph-div\"></div><script type=\"text/javascript\">require([\"plotly\"], function(Plotly) { window.PLOTLYENV=window.PLOTLYENV || {};window.PLOTLYENV.BASE_URL=\"https://plot.ly\";Plotly.newPlot(\"20805696-4dc0-48af-85e7-755f6f9fc410\", [{\"name\": \"\\u4e0d\\u5408\\u683c\\u7387\", \"x\": [\"8-1\", \"8-2\", \"8-3\", \"8-4\", \"9-1\", \"9-2\", \"9-3\", \"9-4\"], \"y\": [null, null, null, null, 0.0, 0.0, 0.0, 1.0], \"type\": \"scatter\", \"uid\": \"dce1f876-ca97-11e8-8cb5-d89ef3991fb3\"}], {\"title\": \"\\u4e0d\\u5408\\u683c\\u7387\\u5468\\u8d8b\\u52bf\\u56fe\", \"xaxis\": {\"mirror\": \"all\", \"nticks\": 20, \"showgrid\": true, \"showline\": true, \"title\": \"\\u5468\", \"zeroline\": true}, \"yaxis\": {\"mirror\": \"all\", \"nticks\": 20, \"showgrid\": true, \"showline\": true, \"title\": \"\\u4e0d\\u5408\\u683c\\u7387\", \"zeroline\": true}}, {\"showLink\": true, \"linkText\": \"Export to plot.ly\"})});</script>"
      ],
      "text/vnd.plotly.v1+html": [
       "<div id=\"20805696-4dc0-48af-85e7-755f6f9fc410\" style=\"height: 525px; width: 100%;\" class=\"plotly-graph-div\"></div><script type=\"text/javascript\">require([\"plotly\"], function(Plotly) { window.PLOTLYENV=window.PLOTLYENV || {};window.PLOTLYENV.BASE_URL=\"https://plot.ly\";Plotly.newPlot(\"20805696-4dc0-48af-85e7-755f6f9fc410\", [{\"name\": \"\\u4e0d\\u5408\\u683c\\u7387\", \"x\": [\"8-1\", \"8-2\", \"8-3\", \"8-4\", \"9-1\", \"9-2\", \"9-3\", \"9-4\"], \"y\": [null, null, null, null, 0.0, 0.0, 0.0, 1.0], \"type\": \"scatter\", \"uid\": \"dce1f876-ca97-11e8-8cb5-d89ef3991fb3\"}], {\"title\": \"\\u4e0d\\u5408\\u683c\\u7387\\u5468\\u8d8b\\u52bf\\u56fe\", \"xaxis\": {\"mirror\": \"all\", \"nticks\": 20, \"showgrid\": true, \"showline\": true, \"title\": \"\\u5468\", \"zeroline\": true}, \"yaxis\": {\"mirror\": \"all\", \"nticks\": 20, \"showgrid\": true, \"showline\": true, \"title\": \"\\u4e0d\\u5408\\u683c\\u7387\", \"zeroline\": true}}, {\"showLink\": true, \"linkText\": \"Export to plot.ly\"})});</script>"
      ]
     },
     "metadata": {},
     "output_type": "display_data"
    },
    {
     "data": {
      "application/vnd.plotly.v1+json": {
       "data": [
        {
         "name": "不合格率",
         "type": "scatter",
         "uid": "dcebb5d4-ca97-11e8-a517-d89ef3991fb3",
         "x": [
          "8",
          "9"
         ],
         "y": [
          null,
          0.125
         ]
        }
       ],
       "layout": {
        "title": "不合格率月趋势图",
        "xaxis": {
         "mirror": "all",
         "nticks": 20,
         "showgrid": true,
         "showline": true,
         "title": "月",
         "zeroline": true
        },
        "yaxis": {
         "mirror": "all",
         "nticks": 20,
         "showgrid": true,
         "showline": true,
         "title": "不合格率",
         "zeroline": true
        }
       }
      },
      "text/html": [
       "<div id=\"e3815253-2a9d-4ef1-a271-c815ba8b1172\" style=\"height: 525px; width: 100%;\" class=\"plotly-graph-div\"></div><script type=\"text/javascript\">require([\"plotly\"], function(Plotly) { window.PLOTLYENV=window.PLOTLYENV || {};window.PLOTLYENV.BASE_URL=\"https://plot.ly\";Plotly.newPlot(\"e3815253-2a9d-4ef1-a271-c815ba8b1172\", [{\"name\": \"\\u4e0d\\u5408\\u683c\\u7387\", \"x\": [\"8\", \"9\"], \"y\": [null, 0.125], \"type\": \"scatter\", \"uid\": \"dcebb5d4-ca97-11e8-a517-d89ef3991fb3\"}], {\"title\": \"\\u4e0d\\u5408\\u683c\\u7387\\u6708\\u8d8b\\u52bf\\u56fe\", \"xaxis\": {\"mirror\": \"all\", \"nticks\": 20, \"showgrid\": true, \"showline\": true, \"title\": \"\\u6708\", \"zeroline\": true}, \"yaxis\": {\"mirror\": \"all\", \"nticks\": 20, \"showgrid\": true, \"showline\": true, \"title\": \"\\u4e0d\\u5408\\u683c\\u7387\", \"zeroline\": true}}, {\"showLink\": true, \"linkText\": \"Export to plot.ly\"})});</script>"
      ],
      "text/vnd.plotly.v1+html": [
       "<div id=\"e3815253-2a9d-4ef1-a271-c815ba8b1172\" style=\"height: 525px; width: 100%;\" class=\"plotly-graph-div\"></div><script type=\"text/javascript\">require([\"plotly\"], function(Plotly) { window.PLOTLYENV=window.PLOTLYENV || {};window.PLOTLYENV.BASE_URL=\"https://plot.ly\";Plotly.newPlot(\"e3815253-2a9d-4ef1-a271-c815ba8b1172\", [{\"name\": \"\\u4e0d\\u5408\\u683c\\u7387\", \"x\": [\"8\", \"9\"], \"y\": [null, 0.125], \"type\": \"scatter\", \"uid\": \"dcebb5d4-ca97-11e8-a517-d89ef3991fb3\"}], {\"title\": \"\\u4e0d\\u5408\\u683c\\u7387\\u6708\\u8d8b\\u52bf\\u56fe\", \"xaxis\": {\"mirror\": \"all\", \"nticks\": 20, \"showgrid\": true, \"showline\": true, \"title\": \"\\u6708\", \"zeroline\": true}, \"yaxis\": {\"mirror\": \"all\", \"nticks\": 20, \"showgrid\": true, \"showline\": true, \"title\": \"\\u4e0d\\u5408\\u683c\\u7387\", \"zeroline\": true}}, {\"showLink\": true, \"linkText\": \"Export to plot.ly\"})});</script>"
      ]
     },
     "metadata": {},
     "output_type": "display_data"
    }
   ],
   "source": [
    "data_dict = {'不合格率':['不通过芯片数', '芯片总数']}\n",
    "myModule.plot( all_dict, data_dict, '人员' ,  'line' , all='all')"
   ]
  },
  {
   "cell_type": "markdown",
   "metadata": {},
   "source": [
    "### 通过率情况"
   ]
  },
  {
   "cell_type": "code",
   "execution_count": 8,
   "metadata": {
    "collapsed": false
   },
   "outputs": [
    {
     "data": {
      "application/vnd.plotly.v1+json": {
       "data": [
        {
         "name": "8h通过率",
         "type": "scatter",
         "uid": "dd2f4754-ca97-11e8-aa1b-d89ef3991fb3",
         "x": [
          "8-1",
          "8-2",
          "8-3",
          "8-4",
          "9-1",
          "9-2",
          "9-3",
          "9-4"
         ],
         "y": [
          null,
          null,
          null,
          null,
          0,
          0,
          0,
          0
         ]
        },
        {
         "name": "24h通过率",
         "type": "scatter",
         "uid": "dd2f4755-ca97-11e8-863a-d89ef3991fb3",
         "x": [
          "8-1",
          "8-2",
          "8-3",
          "8-4",
          "9-1",
          "9-2",
          "9-3",
          "9-4"
         ],
         "y": [
          null,
          null,
          null,
          null,
          0,
          0,
          0,
          0
         ]
        },
        {
         "name": "48h通过率",
         "type": "scatter",
         "uid": "dd2f4756-ca97-11e8-a314-d89ef3991fb3",
         "x": [
          "8-1",
          "8-2",
          "8-3",
          "8-4",
          "9-1",
          "9-2",
          "9-3",
          "9-4"
         ],
         "y": [
          null,
          null,
          null,
          null,
          0,
          0,
          0,
          0
         ]
        }
       ],
       "layout": {
        "title": "8h通过率&24h通过率&48h通过率周趋势图",
        "xaxis": {
         "mirror": "all",
         "nticks": 20,
         "showgrid": true,
         "showline": true,
         "title": "周",
         "zeroline": true
        },
        "yaxis": {
         "mirror": "all",
         "nticks": 20,
         "showgrid": true,
         "showline": true,
         "title": "8h通过率&24h通过率&48h通过率",
         "zeroline": true
        }
       }
      },
      "text/html": [
       "<div id=\"8057ecee-3fd1-4265-a0b9-165f67705e17\" style=\"height: 525px; width: 100%;\" class=\"plotly-graph-div\"></div><script type=\"text/javascript\">require([\"plotly\"], function(Plotly) { window.PLOTLYENV=window.PLOTLYENV || {};window.PLOTLYENV.BASE_URL=\"https://plot.ly\";Plotly.newPlot(\"8057ecee-3fd1-4265-a0b9-165f67705e17\", [{\"name\": \"8h\\u901a\\u8fc7\\u7387\", \"x\": [\"8-1\", \"8-2\", \"8-3\", \"8-4\", \"9-1\", \"9-2\", \"9-3\", \"9-4\"], \"y\": [null, null, null, null, 0.0, 0.0, 0.0, 0.0], \"type\": \"scatter\", \"uid\": \"dd2f4754-ca97-11e8-aa1b-d89ef3991fb3\"}, {\"name\": \"24h\\u901a\\u8fc7\\u7387\", \"x\": [\"8-1\", \"8-2\", \"8-3\", \"8-4\", \"9-1\", \"9-2\", \"9-3\", \"9-4\"], \"y\": [null, null, null, null, 0.0, 0.0, 0.0, 0.0], \"type\": \"scatter\", \"uid\": \"dd2f4755-ca97-11e8-863a-d89ef3991fb3\"}, {\"name\": \"48h\\u901a\\u8fc7\\u7387\", \"x\": [\"8-1\", \"8-2\", \"8-3\", \"8-4\", \"9-1\", \"9-2\", \"9-3\", \"9-4\"], \"y\": [null, null, null, null, 0.0, 0.0, 0.0, 0.0], \"type\": \"scatter\", \"uid\": \"dd2f4756-ca97-11e8-a314-d89ef3991fb3\"}], {\"title\": \"8h\\u901a\\u8fc7\\u7387&24h\\u901a\\u8fc7\\u7387&48h\\u901a\\u8fc7\\u7387\\u5468\\u8d8b\\u52bf\\u56fe\", \"xaxis\": {\"mirror\": \"all\", \"nticks\": 20, \"showgrid\": true, \"showline\": true, \"title\": \"\\u5468\", \"zeroline\": true}, \"yaxis\": {\"mirror\": \"all\", \"nticks\": 20, \"showgrid\": true, \"showline\": true, \"title\": \"8h\\u901a\\u8fc7\\u7387&24h\\u901a\\u8fc7\\u7387&48h\\u901a\\u8fc7\\u7387\", \"zeroline\": true}}, {\"showLink\": true, \"linkText\": \"Export to plot.ly\"})});</script>"
      ],
      "text/vnd.plotly.v1+html": [
       "<div id=\"8057ecee-3fd1-4265-a0b9-165f67705e17\" style=\"height: 525px; width: 100%;\" class=\"plotly-graph-div\"></div><script type=\"text/javascript\">require([\"plotly\"], function(Plotly) { window.PLOTLYENV=window.PLOTLYENV || {};window.PLOTLYENV.BASE_URL=\"https://plot.ly\";Plotly.newPlot(\"8057ecee-3fd1-4265-a0b9-165f67705e17\", [{\"name\": \"8h\\u901a\\u8fc7\\u7387\", \"x\": [\"8-1\", \"8-2\", \"8-3\", \"8-4\", \"9-1\", \"9-2\", \"9-3\", \"9-4\"], \"y\": [null, null, null, null, 0.0, 0.0, 0.0, 0.0], \"type\": \"scatter\", \"uid\": \"dd2f4754-ca97-11e8-aa1b-d89ef3991fb3\"}, {\"name\": \"24h\\u901a\\u8fc7\\u7387\", \"x\": [\"8-1\", \"8-2\", \"8-3\", \"8-4\", \"9-1\", \"9-2\", \"9-3\", \"9-4\"], \"y\": [null, null, null, null, 0.0, 0.0, 0.0, 0.0], \"type\": \"scatter\", \"uid\": \"dd2f4755-ca97-11e8-863a-d89ef3991fb3\"}, {\"name\": \"48h\\u901a\\u8fc7\\u7387\", \"x\": [\"8-1\", \"8-2\", \"8-3\", \"8-4\", \"9-1\", \"9-2\", \"9-3\", \"9-4\"], \"y\": [null, null, null, null, 0.0, 0.0, 0.0, 0.0], \"type\": \"scatter\", \"uid\": \"dd2f4756-ca97-11e8-a314-d89ef3991fb3\"}], {\"title\": \"8h\\u901a\\u8fc7\\u7387&24h\\u901a\\u8fc7\\u7387&48h\\u901a\\u8fc7\\u7387\\u5468\\u8d8b\\u52bf\\u56fe\", \"xaxis\": {\"mirror\": \"all\", \"nticks\": 20, \"showgrid\": true, \"showline\": true, \"title\": \"\\u5468\", \"zeroline\": true}, \"yaxis\": {\"mirror\": \"all\", \"nticks\": 20, \"showgrid\": true, \"showline\": true, \"title\": \"8h\\u901a\\u8fc7\\u7387&24h\\u901a\\u8fc7\\u7387&48h\\u901a\\u8fc7\\u7387\", \"zeroline\": true}}, {\"showLink\": true, \"linkText\": \"Export to plot.ly\"})});</script>"
      ]
     },
     "metadata": {},
     "output_type": "display_data"
    },
    {
     "data": {
      "application/vnd.plotly.v1+json": {
       "data": [
        {
         "name": "8h通过率",
         "type": "scatter",
         "uid": "dd3ad826-ca97-11e8-9caf-d89ef3991fb3",
         "x": [
          "8",
          "9"
         ],
         "y": [
          null,
          0
         ]
        },
        {
         "name": "24h通过率",
         "type": "scatter",
         "uid": "dd3aff22-ca97-11e8-955d-d89ef3991fb3",
         "x": [
          "8",
          "9"
         ],
         "y": [
          null,
          0
         ]
        },
        {
         "name": "48h通过率",
         "type": "scatter",
         "uid": "dd3aff23-ca97-11e8-961e-d89ef3991fb3",
         "x": [
          "8",
          "9"
         ],
         "y": [
          null,
          0
         ]
        }
       ],
       "layout": {
        "title": "8h通过率&24h通过率&48h通过率月趋势图",
        "xaxis": {
         "mirror": "all",
         "nticks": 20,
         "showgrid": true,
         "showline": true,
         "title": "月",
         "zeroline": true
        },
        "yaxis": {
         "mirror": "all",
         "nticks": 20,
         "showgrid": true,
         "showline": true,
         "title": "8h通过率&24h通过率&48h通过率",
         "zeroline": true
        }
       }
      },
      "text/html": [
       "<div id=\"46ccf443-8b09-4a68-a7ba-ee007ceb1f72\" style=\"height: 525px; width: 100%;\" class=\"plotly-graph-div\"></div><script type=\"text/javascript\">require([\"plotly\"], function(Plotly) { window.PLOTLYENV=window.PLOTLYENV || {};window.PLOTLYENV.BASE_URL=\"https://plot.ly\";Plotly.newPlot(\"46ccf443-8b09-4a68-a7ba-ee007ceb1f72\", [{\"name\": \"8h\\u901a\\u8fc7\\u7387\", \"x\": [\"8\", \"9\"], \"y\": [null, 0.0], \"type\": \"scatter\", \"uid\": \"dd3ad826-ca97-11e8-9caf-d89ef3991fb3\"}, {\"name\": \"24h\\u901a\\u8fc7\\u7387\", \"x\": [\"8\", \"9\"], \"y\": [null, 0.0], \"type\": \"scatter\", \"uid\": \"dd3aff22-ca97-11e8-955d-d89ef3991fb3\"}, {\"name\": \"48h\\u901a\\u8fc7\\u7387\", \"x\": [\"8\", \"9\"], \"y\": [null, 0.0], \"type\": \"scatter\", \"uid\": \"dd3aff23-ca97-11e8-961e-d89ef3991fb3\"}], {\"title\": \"8h\\u901a\\u8fc7\\u7387&24h\\u901a\\u8fc7\\u7387&48h\\u901a\\u8fc7\\u7387\\u6708\\u8d8b\\u52bf\\u56fe\", \"xaxis\": {\"mirror\": \"all\", \"nticks\": 20, \"showgrid\": true, \"showline\": true, \"title\": \"\\u6708\", \"zeroline\": true}, \"yaxis\": {\"mirror\": \"all\", \"nticks\": 20, \"showgrid\": true, \"showline\": true, \"title\": \"8h\\u901a\\u8fc7\\u7387&24h\\u901a\\u8fc7\\u7387&48h\\u901a\\u8fc7\\u7387\", \"zeroline\": true}}, {\"showLink\": true, \"linkText\": \"Export to plot.ly\"})});</script>"
      ],
      "text/vnd.plotly.v1+html": [
       "<div id=\"46ccf443-8b09-4a68-a7ba-ee007ceb1f72\" style=\"height: 525px; width: 100%;\" class=\"plotly-graph-div\"></div><script type=\"text/javascript\">require([\"plotly\"], function(Plotly) { window.PLOTLYENV=window.PLOTLYENV || {};window.PLOTLYENV.BASE_URL=\"https://plot.ly\";Plotly.newPlot(\"46ccf443-8b09-4a68-a7ba-ee007ceb1f72\", [{\"name\": \"8h\\u901a\\u8fc7\\u7387\", \"x\": [\"8\", \"9\"], \"y\": [null, 0.0], \"type\": \"scatter\", \"uid\": \"dd3ad826-ca97-11e8-9caf-d89ef3991fb3\"}, {\"name\": \"24h\\u901a\\u8fc7\\u7387\", \"x\": [\"8\", \"9\"], \"y\": [null, 0.0], \"type\": \"scatter\", \"uid\": \"dd3aff22-ca97-11e8-955d-d89ef3991fb3\"}, {\"name\": \"48h\\u901a\\u8fc7\\u7387\", \"x\": [\"8\", \"9\"], \"y\": [null, 0.0], \"type\": \"scatter\", \"uid\": \"dd3aff23-ca97-11e8-961e-d89ef3991fb3\"}], {\"title\": \"8h\\u901a\\u8fc7\\u7387&24h\\u901a\\u8fc7\\u7387&48h\\u901a\\u8fc7\\u7387\\u6708\\u8d8b\\u52bf\\u56fe\", \"xaxis\": {\"mirror\": \"all\", \"nticks\": 20, \"showgrid\": true, \"showline\": true, \"title\": \"\\u6708\", \"zeroline\": true}, \"yaxis\": {\"mirror\": \"all\", \"nticks\": 20, \"showgrid\": true, \"showline\": true, \"title\": \"8h\\u901a\\u8fc7\\u7387&24h\\u901a\\u8fc7\\u7387&48h\\u901a\\u8fc7\\u7387\", \"zeroline\": true}}, {\"showLink\": true, \"linkText\": \"Export to plot.ly\"})});</script>"
      ]
     },
     "metadata": {},
     "output_type": "display_data"
    }
   ],
   "source": [
    "#data_dict = {'8h通过率':['8h通过芯片数', '芯片总数'], '24h通过率':['24h通过芯片数', '芯片总数'], \n",
    "             #'48h通过率':['48h通过芯片数', '芯片总数'], '24h通过率标线':['24h通过率标线'], '48h通过率标线':['48h通过率标线']}\n",
    "data_dict = {'8h通过率':['8h通过芯片数', '芯片总数'], '24h通过率':['24h通过芯片数', '芯片总数'], '48h通过率':['48h通过芯片数', '芯片总数']}\n",
    "myModule.plot( all_dict, data_dict, '人员' ,  'line' ,  all='all')"
   ]
  },
  {
   "cell_type": "markdown",
   "metadata": {},
   "source": [
    "### 平均通过时长\n",
    "* 平均通过时长，一次通过平均时长，非一次通过平均时长，通过时长Q80"
   ]
  },
  {
   "cell_type": "code",
   "execution_count": 9,
   "metadata": {
    "collapsed": false
   },
   "outputs": [
    {
     "data": {
      "application/vnd.plotly.v1+json": {
       "data": [
        {
         "name": "平均通过时长",
         "type": "scatter",
         "uid": "dd7b1092-ca97-11e8-95ad-d89ef3991fb3",
         "x": [
          "8-1",
          "8-2",
          "8-3",
          "8-4",
          "9-1",
          "9-2",
          "9-3",
          "9-4"
         ],
         "y": [
          0,
          0,
          0,
          0,
          76.3,
          36,
          0,
          0
         ]
        },
        {
         "name": "NovaS4一次通过时长",
         "type": "scatter",
         "uid": "dd7b1093-ca97-11e8-a70e-d89ef3991fb3",
         "x": [
          "8-1",
          "8-2",
          "8-3",
          "8-4",
          "9-1",
          "9-2",
          "9-3",
          "9-4"
         ],
         "y": [
          0,
          0,
          0,
          0,
          0,
          0,
          0,
          0
         ]
        },
        {
         "name": "非一次通过平均时长",
         "type": "scatter",
         "uid": "dd7b1094-ca97-11e8-bb66-d89ef3991fb3",
         "x": [
          "8-1",
          "8-2",
          "8-3",
          "8-4",
          "9-1",
          "9-2",
          "9-3",
          "9-4"
         ],
         "y": [
          0,
          0,
          0,
          0,
          76.3,
          36,
          0,
          0
         ]
        },
        {
         "name": "通过时长Q80",
         "type": "scatter",
         "uid": "dd7b1095-ca97-11e8-afb7-d89ef3991fb3",
         "x": [
          "8-1",
          "8-2",
          "8-3",
          "8-4",
          "9-1",
          "9-2",
          "9-3",
          "9-4"
         ],
         "y": [
          0,
          0,
          0,
          0,
          0,
          32,
          0,
          0
         ]
        }
       ],
       "layout": {
        "title": "平均通过时长&NovaS4一次通过时长&非一次通过平均时长&通过时长Q80周趋势图",
        "xaxis": {
         "mirror": "all",
         "nticks": 20,
         "showgrid": true,
         "showline": true,
         "title": "周",
         "zeroline": true
        },
        "yaxis": {
         "mirror": "all",
         "nticks": 20,
         "showgrid": true,
         "showline": true,
         "title": "平均通过时长&NovaS4一次通过时长&非一次通过平均时长&通过时长Q80",
         "zeroline": true
        }
       }
      },
      "text/html": [
       "<div id=\"6e7c1b19-bc74-4cb9-816e-347bc3ec6272\" style=\"height: 525px; width: 100%;\" class=\"plotly-graph-div\"></div><script type=\"text/javascript\">require([\"plotly\"], function(Plotly) { window.PLOTLYENV=window.PLOTLYENV || {};window.PLOTLYENV.BASE_URL=\"https://plot.ly\";Plotly.newPlot(\"6e7c1b19-bc74-4cb9-816e-347bc3ec6272\", [{\"name\": \"\\u5e73\\u5747\\u901a\\u8fc7\\u65f6\\u957f\", \"x\": [\"8-1\", \"8-2\", \"8-3\", \"8-4\", \"9-1\", \"9-2\", \"9-3\", \"9-4\"], \"y\": [0.0, 0.0, 0.0, 0.0, 76.3, 36.0, 0.0, 0.0], \"type\": \"scatter\", \"uid\": \"dd7b1092-ca97-11e8-95ad-d89ef3991fb3\"}, {\"name\": \"NovaS4\\u4e00\\u6b21\\u901a\\u8fc7\\u65f6\\u957f\", \"x\": [\"8-1\", \"8-2\", \"8-3\", \"8-4\", \"9-1\", \"9-2\", \"9-3\", \"9-4\"], \"y\": [0.0, 0.0, 0.0, 0.0, 0.0, 0.0, 0.0, 0.0], \"type\": \"scatter\", \"uid\": \"dd7b1093-ca97-11e8-a70e-d89ef3991fb3\"}, {\"name\": \"\\u975e\\u4e00\\u6b21\\u901a\\u8fc7\\u5e73\\u5747\\u65f6\\u957f\", \"x\": [\"8-1\", \"8-2\", \"8-3\", \"8-4\", \"9-1\", \"9-2\", \"9-3\", \"9-4\"], \"y\": [0.0, 0.0, 0.0, 0.0, 76.3, 36.0, 0.0, 0.0], \"type\": \"scatter\", \"uid\": \"dd7b1094-ca97-11e8-bb66-d89ef3991fb3\"}, {\"name\": \"\\u901a\\u8fc7\\u65f6\\u957fQ80\", \"x\": [\"8-1\", \"8-2\", \"8-3\", \"8-4\", \"9-1\", \"9-2\", \"9-3\", \"9-4\"], \"y\": [0.0, 0.0, 0.0, 0.0, 0.0, 32.0, 0.0, 0.0], \"type\": \"scatter\", \"uid\": \"dd7b1095-ca97-11e8-afb7-d89ef3991fb3\"}], {\"title\": \"\\u5e73\\u5747\\u901a\\u8fc7\\u65f6\\u957f&NovaS4\\u4e00\\u6b21\\u901a\\u8fc7\\u65f6\\u957f&\\u975e\\u4e00\\u6b21\\u901a\\u8fc7\\u5e73\\u5747\\u65f6\\u957f&\\u901a\\u8fc7\\u65f6\\u957fQ80\\u5468\\u8d8b\\u52bf\\u56fe\", \"xaxis\": {\"mirror\": \"all\", \"nticks\": 20, \"showgrid\": true, \"showline\": true, \"title\": \"\\u5468\", \"zeroline\": true}, \"yaxis\": {\"mirror\": \"all\", \"nticks\": 20, \"showgrid\": true, \"showline\": true, \"title\": \"\\u5e73\\u5747\\u901a\\u8fc7\\u65f6\\u957f&NovaS4\\u4e00\\u6b21\\u901a\\u8fc7\\u65f6\\u957f&\\u975e\\u4e00\\u6b21\\u901a\\u8fc7\\u5e73\\u5747\\u65f6\\u957f&\\u901a\\u8fc7\\u65f6\\u957fQ80\", \"zeroline\": true}}, {\"showLink\": true, \"linkText\": \"Export to plot.ly\"})});</script>"
      ],
      "text/vnd.plotly.v1+html": [
       "<div id=\"6e7c1b19-bc74-4cb9-816e-347bc3ec6272\" style=\"height: 525px; width: 100%;\" class=\"plotly-graph-div\"></div><script type=\"text/javascript\">require([\"plotly\"], function(Plotly) { window.PLOTLYENV=window.PLOTLYENV || {};window.PLOTLYENV.BASE_URL=\"https://plot.ly\";Plotly.newPlot(\"6e7c1b19-bc74-4cb9-816e-347bc3ec6272\", [{\"name\": \"\\u5e73\\u5747\\u901a\\u8fc7\\u65f6\\u957f\", \"x\": [\"8-1\", \"8-2\", \"8-3\", \"8-4\", \"9-1\", \"9-2\", \"9-3\", \"9-4\"], \"y\": [0.0, 0.0, 0.0, 0.0, 76.3, 36.0, 0.0, 0.0], \"type\": \"scatter\", \"uid\": \"dd7b1092-ca97-11e8-95ad-d89ef3991fb3\"}, {\"name\": \"NovaS4\\u4e00\\u6b21\\u901a\\u8fc7\\u65f6\\u957f\", \"x\": [\"8-1\", \"8-2\", \"8-3\", \"8-4\", \"9-1\", \"9-2\", \"9-3\", \"9-4\"], \"y\": [0.0, 0.0, 0.0, 0.0, 0.0, 0.0, 0.0, 0.0], \"type\": \"scatter\", \"uid\": \"dd7b1093-ca97-11e8-a70e-d89ef3991fb3\"}, {\"name\": \"\\u975e\\u4e00\\u6b21\\u901a\\u8fc7\\u5e73\\u5747\\u65f6\\u957f\", \"x\": [\"8-1\", \"8-2\", \"8-3\", \"8-4\", \"9-1\", \"9-2\", \"9-3\", \"9-4\"], \"y\": [0.0, 0.0, 0.0, 0.0, 76.3, 36.0, 0.0, 0.0], \"type\": \"scatter\", \"uid\": \"dd7b1094-ca97-11e8-bb66-d89ef3991fb3\"}, {\"name\": \"\\u901a\\u8fc7\\u65f6\\u957fQ80\", \"x\": [\"8-1\", \"8-2\", \"8-3\", \"8-4\", \"9-1\", \"9-2\", \"9-3\", \"9-4\"], \"y\": [0.0, 0.0, 0.0, 0.0, 0.0, 32.0, 0.0, 0.0], \"type\": \"scatter\", \"uid\": \"dd7b1095-ca97-11e8-afb7-d89ef3991fb3\"}], {\"title\": \"\\u5e73\\u5747\\u901a\\u8fc7\\u65f6\\u957f&NovaS4\\u4e00\\u6b21\\u901a\\u8fc7\\u65f6\\u957f&\\u975e\\u4e00\\u6b21\\u901a\\u8fc7\\u5e73\\u5747\\u65f6\\u957f&\\u901a\\u8fc7\\u65f6\\u957fQ80\\u5468\\u8d8b\\u52bf\\u56fe\", \"xaxis\": {\"mirror\": \"all\", \"nticks\": 20, \"showgrid\": true, \"showline\": true, \"title\": \"\\u5468\", \"zeroline\": true}, \"yaxis\": {\"mirror\": \"all\", \"nticks\": 20, \"showgrid\": true, \"showline\": true, \"title\": \"\\u5e73\\u5747\\u901a\\u8fc7\\u65f6\\u957f&NovaS4\\u4e00\\u6b21\\u901a\\u8fc7\\u65f6\\u957f&\\u975e\\u4e00\\u6b21\\u901a\\u8fc7\\u5e73\\u5747\\u65f6\\u957f&\\u901a\\u8fc7\\u65f6\\u957fQ80\", \"zeroline\": true}}, {\"showLink\": true, \"linkText\": \"Export to plot.ly\"})});</script>"
      ]
     },
     "metadata": {},
     "output_type": "display_data"
    },
    {
     "data": {
      "application/vnd.plotly.v1+json": {
       "data": [
        {
         "name": "平均通过时长",
         "type": "scatter",
         "uid": "dd895eb6-ca97-11e8-8fa4-d89ef3991fb3",
         "x": [
          "8",
          "9"
         ],
         "y": [
          0,
          112.3
         ]
        },
        {
         "name": "NovaS4一次通过时长",
         "type": "scatter",
         "uid": "dd895eb7-ca97-11e8-8b30-d89ef3991fb3",
         "x": [
          "8",
          "9"
         ],
         "y": [
          0,
          0
         ]
        },
        {
         "name": "非一次通过平均时长",
         "type": "scatter",
         "uid": "dd895eb8-ca97-11e8-bbb5-d89ef3991fb3",
         "x": [
          "8",
          "9"
         ],
         "y": [
          0,
          112.3
         ]
        },
        {
         "name": "通过时长Q80",
         "type": "scatter",
         "uid": "dd895eb9-ca97-11e8-b41c-d89ef3991fb3",
         "x": [
          "8",
          "9"
         ],
         "y": [
          0,
          32
         ]
        }
       ],
       "layout": {
        "title": "平均通过时长&NovaS4一次通过时长&非一次通过平均时长&通过时长Q80月趋势图",
        "xaxis": {
         "mirror": "all",
         "nticks": 20,
         "showgrid": true,
         "showline": true,
         "title": "月",
         "zeroline": true
        },
        "yaxis": {
         "mirror": "all",
         "nticks": 20,
         "showgrid": true,
         "showline": true,
         "title": "平均通过时长&NovaS4一次通过时长&非一次通过平均时长&通过时长Q80",
         "zeroline": true
        }
       }
      },
      "text/html": [
       "<div id=\"c2868930-a120-4ec4-bbd8-25fd49369e2e\" style=\"height: 525px; width: 100%;\" class=\"plotly-graph-div\"></div><script type=\"text/javascript\">require([\"plotly\"], function(Plotly) { window.PLOTLYENV=window.PLOTLYENV || {};window.PLOTLYENV.BASE_URL=\"https://plot.ly\";Plotly.newPlot(\"c2868930-a120-4ec4-bbd8-25fd49369e2e\", [{\"name\": \"\\u5e73\\u5747\\u901a\\u8fc7\\u65f6\\u957f\", \"x\": [\"8\", \"9\"], \"y\": [0.0, 112.3], \"type\": \"scatter\", \"uid\": \"dd895eb6-ca97-11e8-8fa4-d89ef3991fb3\"}, {\"name\": \"NovaS4\\u4e00\\u6b21\\u901a\\u8fc7\\u65f6\\u957f\", \"x\": [\"8\", \"9\"], \"y\": [0.0, 0.0], \"type\": \"scatter\", \"uid\": \"dd895eb7-ca97-11e8-8b30-d89ef3991fb3\"}, {\"name\": \"\\u975e\\u4e00\\u6b21\\u901a\\u8fc7\\u5e73\\u5747\\u65f6\\u957f\", \"x\": [\"8\", \"9\"], \"y\": [0.0, 112.3], \"type\": \"scatter\", \"uid\": \"dd895eb8-ca97-11e8-bbb5-d89ef3991fb3\"}, {\"name\": \"\\u901a\\u8fc7\\u65f6\\u957fQ80\", \"x\": [\"8\", \"9\"], \"y\": [0.0, 32.0], \"type\": \"scatter\", \"uid\": \"dd895eb9-ca97-11e8-b41c-d89ef3991fb3\"}], {\"title\": \"\\u5e73\\u5747\\u901a\\u8fc7\\u65f6\\u957f&NovaS4\\u4e00\\u6b21\\u901a\\u8fc7\\u65f6\\u957f&\\u975e\\u4e00\\u6b21\\u901a\\u8fc7\\u5e73\\u5747\\u65f6\\u957f&\\u901a\\u8fc7\\u65f6\\u957fQ80\\u6708\\u8d8b\\u52bf\\u56fe\", \"xaxis\": {\"mirror\": \"all\", \"nticks\": 20, \"showgrid\": true, \"showline\": true, \"title\": \"\\u6708\", \"zeroline\": true}, \"yaxis\": {\"mirror\": \"all\", \"nticks\": 20, \"showgrid\": true, \"showline\": true, \"title\": \"\\u5e73\\u5747\\u901a\\u8fc7\\u65f6\\u957f&NovaS4\\u4e00\\u6b21\\u901a\\u8fc7\\u65f6\\u957f&\\u975e\\u4e00\\u6b21\\u901a\\u8fc7\\u5e73\\u5747\\u65f6\\u957f&\\u901a\\u8fc7\\u65f6\\u957fQ80\", \"zeroline\": true}}, {\"showLink\": true, \"linkText\": \"Export to plot.ly\"})});</script>"
      ],
      "text/vnd.plotly.v1+html": [
       "<div id=\"c2868930-a120-4ec4-bbd8-25fd49369e2e\" style=\"height: 525px; width: 100%;\" class=\"plotly-graph-div\"></div><script type=\"text/javascript\">require([\"plotly\"], function(Plotly) { window.PLOTLYENV=window.PLOTLYENV || {};window.PLOTLYENV.BASE_URL=\"https://plot.ly\";Plotly.newPlot(\"c2868930-a120-4ec4-bbd8-25fd49369e2e\", [{\"name\": \"\\u5e73\\u5747\\u901a\\u8fc7\\u65f6\\u957f\", \"x\": [\"8\", \"9\"], \"y\": [0.0, 112.3], \"type\": \"scatter\", \"uid\": \"dd895eb6-ca97-11e8-8fa4-d89ef3991fb3\"}, {\"name\": \"NovaS4\\u4e00\\u6b21\\u901a\\u8fc7\\u65f6\\u957f\", \"x\": [\"8\", \"9\"], \"y\": [0.0, 0.0], \"type\": \"scatter\", \"uid\": \"dd895eb7-ca97-11e8-8b30-d89ef3991fb3\"}, {\"name\": \"\\u975e\\u4e00\\u6b21\\u901a\\u8fc7\\u5e73\\u5747\\u65f6\\u957f\", \"x\": [\"8\", \"9\"], \"y\": [0.0, 112.3], \"type\": \"scatter\", \"uid\": \"dd895eb8-ca97-11e8-bbb5-d89ef3991fb3\"}, {\"name\": \"\\u901a\\u8fc7\\u65f6\\u957fQ80\", \"x\": [\"8\", \"9\"], \"y\": [0.0, 32.0], \"type\": \"scatter\", \"uid\": \"dd895eb9-ca97-11e8-b41c-d89ef3991fb3\"}], {\"title\": \"\\u5e73\\u5747\\u901a\\u8fc7\\u65f6\\u957f&NovaS4\\u4e00\\u6b21\\u901a\\u8fc7\\u65f6\\u957f&\\u975e\\u4e00\\u6b21\\u901a\\u8fc7\\u5e73\\u5747\\u65f6\\u957f&\\u901a\\u8fc7\\u65f6\\u957fQ80\\u6708\\u8d8b\\u52bf\\u56fe\", \"xaxis\": {\"mirror\": \"all\", \"nticks\": 20, \"showgrid\": true, \"showline\": true, \"title\": \"\\u6708\", \"zeroline\": true}, \"yaxis\": {\"mirror\": \"all\", \"nticks\": 20, \"showgrid\": true, \"showline\": true, \"title\": \"\\u5e73\\u5747\\u901a\\u8fc7\\u65f6\\u957f&NovaS4\\u4e00\\u6b21\\u901a\\u8fc7\\u65f6\\u957f&\\u975e\\u4e00\\u6b21\\u901a\\u8fc7\\u5e73\\u5747\\u65f6\\u957f&\\u901a\\u8fc7\\u65f6\\u957fQ80\", \"zeroline\": true}}, {\"showLink\": true, \"linkText\": \"Export to plot.ly\"})});</script>"
      ]
     },
     "metadata": {},
     "output_type": "display_data"
    }
   ],
   "source": [
    "data_dict = {'平均通过时长':['平均通过时长'], 'NovaS4一次通过时长':['NovaS4一次通过时长'], \n",
    "             '非一次通过平均时长':['非一次通过平均时长'],'通过时长Q80':['通过时长Q80']}\n",
    "myModule.plot( all_dict, data_dict, '人员' ,  'line' , all='all')"
   ]
  },
  {
   "cell_type": "markdown",
   "metadata": {},
   "source": [
    "## 异常"
   ]
  },
  {
   "cell_type": "markdown",
   "metadata": {},
   "source": [
    "### 个性化拆分数"
   ]
  },
  {
   "cell_type": "code",
   "execution_count": 10,
   "metadata": {
    "collapsed": false
   },
   "outputs": [
    {
     "data": {
      "application/vnd.plotly.v1+json": {
       "data": [
        {
         "name": "个性化拆分数",
         "type": "scatter",
         "uid": "ddc41c9c-ca97-11e8-8243-d89ef3991fb3",
         "x": [
          "8-1",
          "8-2",
          "8-3",
          "8-4",
          "9-1",
          "9-2",
          "9-3",
          "9-4"
         ],
         "y": [
          0,
          0,
          0,
          0,
          0,
          1,
          1,
          1
         ]
        }
       ],
       "layout": {
        "title": "个性化拆分数周趋势图",
        "xaxis": {
         "mirror": "all",
         "nticks": 20,
         "showgrid": true,
         "showline": true,
         "title": "周",
         "zeroline": true
        },
        "yaxis": {
         "mirror": "all",
         "nticks": 20,
         "showgrid": true,
         "showline": true,
         "title": "个性化拆分数",
         "zeroline": true
        }
       }
      },
      "text/html": [
       "<div id=\"7fb6e165-c24c-489b-8eb7-a21a071f88e4\" style=\"height: 525px; width: 100%;\" class=\"plotly-graph-div\"></div><script type=\"text/javascript\">require([\"plotly\"], function(Plotly) { window.PLOTLYENV=window.PLOTLYENV || {};window.PLOTLYENV.BASE_URL=\"https://plot.ly\";Plotly.newPlot(\"7fb6e165-c24c-489b-8eb7-a21a071f88e4\", [{\"name\": \"\\u4e2a\\u6027\\u5316\\u62c6\\u5206\\u6570\", \"x\": [\"8-1\", \"8-2\", \"8-3\", \"8-4\", \"9-1\", \"9-2\", \"9-3\", \"9-4\"], \"y\": [0.0, 0.0, 0.0, 0.0, 0.0, 1.0, 1.0, 1.0], \"type\": \"scatter\", \"uid\": \"ddc41c9c-ca97-11e8-8243-d89ef3991fb3\"}], {\"title\": \"\\u4e2a\\u6027\\u5316\\u62c6\\u5206\\u6570\\u5468\\u8d8b\\u52bf\\u56fe\", \"xaxis\": {\"mirror\": \"all\", \"nticks\": 20, \"showgrid\": true, \"showline\": true, \"title\": \"\\u5468\", \"zeroline\": true}, \"yaxis\": {\"mirror\": \"all\", \"nticks\": 20, \"showgrid\": true, \"showline\": true, \"title\": \"\\u4e2a\\u6027\\u5316\\u62c6\\u5206\\u6570\", \"zeroline\": true}}, {\"showLink\": true, \"linkText\": \"Export to plot.ly\"})});</script>"
      ],
      "text/vnd.plotly.v1+html": [
       "<div id=\"7fb6e165-c24c-489b-8eb7-a21a071f88e4\" style=\"height: 525px; width: 100%;\" class=\"plotly-graph-div\"></div><script type=\"text/javascript\">require([\"plotly\"], function(Plotly) { window.PLOTLYENV=window.PLOTLYENV || {};window.PLOTLYENV.BASE_URL=\"https://plot.ly\";Plotly.newPlot(\"7fb6e165-c24c-489b-8eb7-a21a071f88e4\", [{\"name\": \"\\u4e2a\\u6027\\u5316\\u62c6\\u5206\\u6570\", \"x\": [\"8-1\", \"8-2\", \"8-3\", \"8-4\", \"9-1\", \"9-2\", \"9-3\", \"9-4\"], \"y\": [0.0, 0.0, 0.0, 0.0, 0.0, 1.0, 1.0, 1.0], \"type\": \"scatter\", \"uid\": \"ddc41c9c-ca97-11e8-8243-d89ef3991fb3\"}], {\"title\": \"\\u4e2a\\u6027\\u5316\\u62c6\\u5206\\u6570\\u5468\\u8d8b\\u52bf\\u56fe\", \"xaxis\": {\"mirror\": \"all\", \"nticks\": 20, \"showgrid\": true, \"showline\": true, \"title\": \"\\u5468\", \"zeroline\": true}, \"yaxis\": {\"mirror\": \"all\", \"nticks\": 20, \"showgrid\": true, \"showline\": true, \"title\": \"\\u4e2a\\u6027\\u5316\\u62c6\\u5206\\u6570\", \"zeroline\": true}}, {\"showLink\": true, \"linkText\": \"Export to plot.ly\"})});</script>"
      ]
     },
     "metadata": {},
     "output_type": "display_data"
    },
    {
     "data": {
      "application/vnd.plotly.v1+json": {
       "data": [
        {
         "name": "个性化拆分数",
         "type": "scatter",
         "uid": "ddcc7b58-ca97-11e8-a182-d89ef3991fb3",
         "x": [
          "8",
          "9"
         ],
         "y": [
          0,
          3
         ]
        }
       ],
       "layout": {
        "title": "个性化拆分数月趋势图",
        "xaxis": {
         "mirror": "all",
         "nticks": 20,
         "showgrid": true,
         "showline": true,
         "title": "月",
         "zeroline": true
        },
        "yaxis": {
         "mirror": "all",
         "nticks": 20,
         "showgrid": true,
         "showline": true,
         "title": "个性化拆分数",
         "zeroline": true
        }
       }
      },
      "text/html": [
       "<div id=\"c82d0fd2-bbe5-48d5-8881-7482db690d30\" style=\"height: 525px; width: 100%;\" class=\"plotly-graph-div\"></div><script type=\"text/javascript\">require([\"plotly\"], function(Plotly) { window.PLOTLYENV=window.PLOTLYENV || {};window.PLOTLYENV.BASE_URL=\"https://plot.ly\";Plotly.newPlot(\"c82d0fd2-bbe5-48d5-8881-7482db690d30\", [{\"name\": \"\\u4e2a\\u6027\\u5316\\u62c6\\u5206\\u6570\", \"x\": [\"8\", \"9\"], \"y\": [0.0, 3.0], \"type\": \"scatter\", \"uid\": \"ddcc7b58-ca97-11e8-a182-d89ef3991fb3\"}], {\"title\": \"\\u4e2a\\u6027\\u5316\\u62c6\\u5206\\u6570\\u6708\\u8d8b\\u52bf\\u56fe\", \"xaxis\": {\"mirror\": \"all\", \"nticks\": 20, \"showgrid\": true, \"showline\": true, \"title\": \"\\u6708\", \"zeroline\": true}, \"yaxis\": {\"mirror\": \"all\", \"nticks\": 20, \"showgrid\": true, \"showline\": true, \"title\": \"\\u4e2a\\u6027\\u5316\\u62c6\\u5206\\u6570\", \"zeroline\": true}}, {\"showLink\": true, \"linkText\": \"Export to plot.ly\"})});</script>"
      ],
      "text/vnd.plotly.v1+html": [
       "<div id=\"c82d0fd2-bbe5-48d5-8881-7482db690d30\" style=\"height: 525px; width: 100%;\" class=\"plotly-graph-div\"></div><script type=\"text/javascript\">require([\"plotly\"], function(Plotly) { window.PLOTLYENV=window.PLOTLYENV || {};window.PLOTLYENV.BASE_URL=\"https://plot.ly\";Plotly.newPlot(\"c82d0fd2-bbe5-48d5-8881-7482db690d30\", [{\"name\": \"\\u4e2a\\u6027\\u5316\\u62c6\\u5206\\u6570\", \"x\": [\"8\", \"9\"], \"y\": [0.0, 3.0], \"type\": \"scatter\", \"uid\": \"ddcc7b58-ca97-11e8-a182-d89ef3991fb3\"}], {\"title\": \"\\u4e2a\\u6027\\u5316\\u62c6\\u5206\\u6570\\u6708\\u8d8b\\u52bf\\u56fe\", \"xaxis\": {\"mirror\": \"all\", \"nticks\": 20, \"showgrid\": true, \"showline\": true, \"title\": \"\\u6708\", \"zeroline\": true}, \"yaxis\": {\"mirror\": \"all\", \"nticks\": 20, \"showgrid\": true, \"showline\": true, \"title\": \"\\u4e2a\\u6027\\u5316\\u62c6\\u5206\\u6570\", \"zeroline\": true}}, {\"showLink\": true, \"linkText\": \"Export to plot.ly\"})});</script>"
      ]
     },
     "metadata": {},
     "output_type": "display_data"
    }
   ],
   "source": [
    "data_dict = {'个性化拆分数':['个性化拆分数']}\n",
    "myModule.plot( all_dict, data_dict, '人员' ,  'line' , all='all')"
   ]
  },
  {
   "cell_type": "markdown",
   "metadata": {},
   "source": [
    "### 流程异常\n",
    "* 拆分流程异常数，延期处理"
   ]
  },
  {
   "cell_type": "code",
   "execution_count": 11,
   "metadata": {
    "collapsed": false
   },
   "outputs": [
    {
     "data": {
      "application/vnd.plotly.v1+json": {
       "data": [
        {
         "name": "拆分流程异常数",
         "type": "scatter",
         "uid": "de11e05a-ca97-11e8-83f8-d89ef3991fb3",
         "x": [
          "8-1",
          "8-2",
          "8-3",
          "8-4",
          "9-1",
          "9-2",
          "9-3",
          "9-4"
         ],
         "y": [
          0,
          0,
          0,
          0,
          0,
          2,
          2,
          0
         ]
        },
        {
         "name": "处理延期",
         "type": "scatter",
         "uid": "de11e05b-ca97-11e8-91e0-d89ef3991fb3",
         "x": [
          "8-1",
          "8-2",
          "8-3",
          "8-4",
          "9-1",
          "9-2",
          "9-3",
          "9-4"
         ],
         "y": [
          0,
          0,
          0,
          0,
          0,
          2,
          2,
          1
         ]
        }
       ],
       "layout": {
        "title": "拆分流程异常数&处理延期周趋势图",
        "xaxis": {
         "mirror": "all",
         "nticks": 20,
         "showgrid": true,
         "showline": true,
         "title": "周",
         "zeroline": true
        },
        "yaxis": {
         "mirror": "all",
         "nticks": 20,
         "showgrid": true,
         "showline": true,
         "title": "拆分流程异常数&处理延期",
         "zeroline": true
        }
       }
      },
      "text/html": [
       "<div id=\"adbbe2b2-464b-4fb9-9e8e-9c9f4405d7e2\" style=\"height: 525px; width: 100%;\" class=\"plotly-graph-div\"></div><script type=\"text/javascript\">require([\"plotly\"], function(Plotly) { window.PLOTLYENV=window.PLOTLYENV || {};window.PLOTLYENV.BASE_URL=\"https://plot.ly\";Plotly.newPlot(\"adbbe2b2-464b-4fb9-9e8e-9c9f4405d7e2\", [{\"name\": \"\\u62c6\\u5206\\u6d41\\u7a0b\\u5f02\\u5e38\\u6570\", \"x\": [\"8-1\", \"8-2\", \"8-3\", \"8-4\", \"9-1\", \"9-2\", \"9-3\", \"9-4\"], \"y\": [0.0, 0.0, 0.0, 0.0, 0.0, 2.0, 2.0, 0.0], \"type\": \"scatter\", \"uid\": \"de11e05a-ca97-11e8-83f8-d89ef3991fb3\"}, {\"name\": \"\\u5904\\u7406\\u5ef6\\u671f\", \"x\": [\"8-1\", \"8-2\", \"8-3\", \"8-4\", \"9-1\", \"9-2\", \"9-3\", \"9-4\"], \"y\": [0.0, 0.0, 0.0, 0.0, 0.0, 2.0, 2.0, 1.0], \"type\": \"scatter\", \"uid\": \"de11e05b-ca97-11e8-91e0-d89ef3991fb3\"}], {\"title\": \"\\u62c6\\u5206\\u6d41\\u7a0b\\u5f02\\u5e38\\u6570&\\u5904\\u7406\\u5ef6\\u671f\\u5468\\u8d8b\\u52bf\\u56fe\", \"xaxis\": {\"mirror\": \"all\", \"nticks\": 20, \"showgrid\": true, \"showline\": true, \"title\": \"\\u5468\", \"zeroline\": true}, \"yaxis\": {\"mirror\": \"all\", \"nticks\": 20, \"showgrid\": true, \"showline\": true, \"title\": \"\\u62c6\\u5206\\u6d41\\u7a0b\\u5f02\\u5e38\\u6570&\\u5904\\u7406\\u5ef6\\u671f\", \"zeroline\": true}}, {\"showLink\": true, \"linkText\": \"Export to plot.ly\"})});</script>"
      ],
      "text/vnd.plotly.v1+html": [
       "<div id=\"adbbe2b2-464b-4fb9-9e8e-9c9f4405d7e2\" style=\"height: 525px; width: 100%;\" class=\"plotly-graph-div\"></div><script type=\"text/javascript\">require([\"plotly\"], function(Plotly) { window.PLOTLYENV=window.PLOTLYENV || {};window.PLOTLYENV.BASE_URL=\"https://plot.ly\";Plotly.newPlot(\"adbbe2b2-464b-4fb9-9e8e-9c9f4405d7e2\", [{\"name\": \"\\u62c6\\u5206\\u6d41\\u7a0b\\u5f02\\u5e38\\u6570\", \"x\": [\"8-1\", \"8-2\", \"8-3\", \"8-4\", \"9-1\", \"9-2\", \"9-3\", \"9-4\"], \"y\": [0.0, 0.0, 0.0, 0.0, 0.0, 2.0, 2.0, 0.0], \"type\": \"scatter\", \"uid\": \"de11e05a-ca97-11e8-83f8-d89ef3991fb3\"}, {\"name\": \"\\u5904\\u7406\\u5ef6\\u671f\", \"x\": [\"8-1\", \"8-2\", \"8-3\", \"8-4\", \"9-1\", \"9-2\", \"9-3\", \"9-4\"], \"y\": [0.0, 0.0, 0.0, 0.0, 0.0, 2.0, 2.0, 1.0], \"type\": \"scatter\", \"uid\": \"de11e05b-ca97-11e8-91e0-d89ef3991fb3\"}], {\"title\": \"\\u62c6\\u5206\\u6d41\\u7a0b\\u5f02\\u5e38\\u6570&\\u5904\\u7406\\u5ef6\\u671f\\u5468\\u8d8b\\u52bf\\u56fe\", \"xaxis\": {\"mirror\": \"all\", \"nticks\": 20, \"showgrid\": true, \"showline\": true, \"title\": \"\\u5468\", \"zeroline\": true}, \"yaxis\": {\"mirror\": \"all\", \"nticks\": 20, \"showgrid\": true, \"showline\": true, \"title\": \"\\u62c6\\u5206\\u6d41\\u7a0b\\u5f02\\u5e38\\u6570&\\u5904\\u7406\\u5ef6\\u671f\", \"zeroline\": true}}, {\"showLink\": true, \"linkText\": \"Export to plot.ly\"})});</script>"
      ]
     },
     "metadata": {},
     "output_type": "display_data"
    },
    {
     "data": {
      "application/vnd.plotly.v1+json": {
       "data": [
        {
         "name": "拆分流程异常数",
         "type": "scatter",
         "uid": "de1cd55e-ca97-11e8-8223-d89ef3991fb3",
         "x": [
          "8",
          "9"
         ],
         "y": [
          0,
          4
         ]
        },
        {
         "name": "处理延期",
         "type": "scatter",
         "uid": "de1cd55f-ca97-11e8-959f-d89ef3991fb3",
         "x": [
          "8",
          "9"
         ],
         "y": [
          0,
          5
         ]
        }
       ],
       "layout": {
        "title": "拆分流程异常数&处理延期月趋势图",
        "xaxis": {
         "mirror": "all",
         "nticks": 20,
         "showgrid": true,
         "showline": true,
         "title": "月",
         "zeroline": true
        },
        "yaxis": {
         "mirror": "all",
         "nticks": 20,
         "showgrid": true,
         "showline": true,
         "title": "拆分流程异常数&处理延期",
         "zeroline": true
        }
       }
      },
      "text/html": [
       "<div id=\"3016ddeb-10b6-43e0-a835-5c703e244e55\" style=\"height: 525px; width: 100%;\" class=\"plotly-graph-div\"></div><script type=\"text/javascript\">require([\"plotly\"], function(Plotly) { window.PLOTLYENV=window.PLOTLYENV || {};window.PLOTLYENV.BASE_URL=\"https://plot.ly\";Plotly.newPlot(\"3016ddeb-10b6-43e0-a835-5c703e244e55\", [{\"name\": \"\\u62c6\\u5206\\u6d41\\u7a0b\\u5f02\\u5e38\\u6570\", \"x\": [\"8\", \"9\"], \"y\": [0.0, 4.0], \"type\": \"scatter\", \"uid\": \"de1cd55e-ca97-11e8-8223-d89ef3991fb3\"}, {\"name\": \"\\u5904\\u7406\\u5ef6\\u671f\", \"x\": [\"8\", \"9\"], \"y\": [0.0, 5.0], \"type\": \"scatter\", \"uid\": \"de1cd55f-ca97-11e8-959f-d89ef3991fb3\"}], {\"title\": \"\\u62c6\\u5206\\u6d41\\u7a0b\\u5f02\\u5e38\\u6570&\\u5904\\u7406\\u5ef6\\u671f\\u6708\\u8d8b\\u52bf\\u56fe\", \"xaxis\": {\"mirror\": \"all\", \"nticks\": 20, \"showgrid\": true, \"showline\": true, \"title\": \"\\u6708\", \"zeroline\": true}, \"yaxis\": {\"mirror\": \"all\", \"nticks\": 20, \"showgrid\": true, \"showline\": true, \"title\": \"\\u62c6\\u5206\\u6d41\\u7a0b\\u5f02\\u5e38\\u6570&\\u5904\\u7406\\u5ef6\\u671f\", \"zeroline\": true}}, {\"showLink\": true, \"linkText\": \"Export to plot.ly\"})});</script>"
      ],
      "text/vnd.plotly.v1+html": [
       "<div id=\"3016ddeb-10b6-43e0-a835-5c703e244e55\" style=\"height: 525px; width: 100%;\" class=\"plotly-graph-div\"></div><script type=\"text/javascript\">require([\"plotly\"], function(Plotly) { window.PLOTLYENV=window.PLOTLYENV || {};window.PLOTLYENV.BASE_URL=\"https://plot.ly\";Plotly.newPlot(\"3016ddeb-10b6-43e0-a835-5c703e244e55\", [{\"name\": \"\\u62c6\\u5206\\u6d41\\u7a0b\\u5f02\\u5e38\\u6570\", \"x\": [\"8\", \"9\"], \"y\": [0.0, 4.0], \"type\": \"scatter\", \"uid\": \"de1cd55e-ca97-11e8-8223-d89ef3991fb3\"}, {\"name\": \"\\u5904\\u7406\\u5ef6\\u671f\", \"x\": [\"8\", \"9\"], \"y\": [0.0, 5.0], \"type\": \"scatter\", \"uid\": \"de1cd55f-ca97-11e8-959f-d89ef3991fb3\"}], {\"title\": \"\\u62c6\\u5206\\u6d41\\u7a0b\\u5f02\\u5e38\\u6570&\\u5904\\u7406\\u5ef6\\u671f\\u6708\\u8d8b\\u52bf\\u56fe\", \"xaxis\": {\"mirror\": \"all\", \"nticks\": 20, \"showgrid\": true, \"showline\": true, \"title\": \"\\u6708\", \"zeroline\": true}, \"yaxis\": {\"mirror\": \"all\", \"nticks\": 20, \"showgrid\": true, \"showline\": true, \"title\": \"\\u62c6\\u5206\\u6d41\\u7a0b\\u5f02\\u5e38\\u6570&\\u5904\\u7406\\u5ef6\\u671f\", \"zeroline\": true}}, {\"showLink\": true, \"linkText\": \"Export to plot.ly\"})});</script>"
      ]
     },
     "metadata": {},
     "output_type": "display_data"
    }
   ],
   "source": [
    "data_dict = {'拆分流程异常数':['拆分流程异常数'], '处理延期':['处理延期']}\n",
    "myModule.plot( all_dict, data_dict, '人员' ,  'line' , all='all')"
   ]
  },
  {
   "cell_type": "markdown",
   "metadata": {},
   "source": [
    "### 非流程异常\n",
    "* 测序异常，外来index错误，自建库index错误，lims系统错误"
   ]
  },
  {
   "cell_type": "code",
   "execution_count": 12,
   "metadata": {
    "collapsed": false
   },
   "outputs": [
    {
     "data": {
      "application/vnd.plotly.v1+json": {
       "data": [
        {
         "name": "测序异常",
         "type": "scatter",
         "uid": "de651e92-ca97-11e8-b7ba-d89ef3991fb3",
         "x": [
          "8-1",
          "8-2",
          "8-3",
          "8-4",
          "9-1",
          "9-2",
          "9-3",
          "9-4"
         ],
         "y": [
          0,
          0,
          0,
          0,
          0,
          0,
          0,
          0
         ]
        },
        {
         "name": "外来Index错误",
         "type": "scatter",
         "uid": "de651e93-ca97-11e8-a07c-d89ef3991fb3",
         "x": [
          "8-1",
          "8-2",
          "8-3",
          "8-4",
          "9-1",
          "9-2",
          "9-3",
          "9-4"
         ],
         "y": [
          0,
          0,
          0,
          0,
          0,
          0,
          0,
          0
         ]
        },
        {
         "name": "自建库Index错误",
         "type": "scatter",
         "uid": "de651e94-ca97-11e8-9fc5-d89ef3991fb3",
         "x": [
          "8-1",
          "8-2",
          "8-3",
          "8-4",
          "9-1",
          "9-2",
          "9-3",
          "9-4"
         ],
         "y": [
          0,
          0,
          0,
          0,
          0,
          0,
          0,
          0
         ]
        },
        {
         "name": "lims系统错误",
         "type": "scatter",
         "uid": "de651e95-ca97-11e8-a8bd-d89ef3991fb3",
         "x": [
          "8-1",
          "8-2",
          "8-3",
          "8-4",
          "9-1",
          "9-2",
          "9-3",
          "9-4"
         ],
         "y": [
          0,
          0,
          0,
          0,
          0,
          0,
          0,
          0
         ]
        }
       ],
       "layout": {
        "title": "测序异常&外来Index错误&自建库Index错误&lims系统错误周趋势图",
        "xaxis": {
         "mirror": "all",
         "nticks": 20,
         "showgrid": true,
         "showline": true,
         "title": "周",
         "zeroline": true
        },
        "yaxis": {
         "mirror": "all",
         "nticks": 20,
         "showgrid": true,
         "showline": true,
         "title": "测序异常&外来Index错误&自建库Index错误&lims系统错误",
         "zeroline": true
        }
       }
      },
      "text/html": [
       "<div id=\"bb644fe8-a4f2-419e-a451-88bb3fa1a550\" style=\"height: 525px; width: 100%;\" class=\"plotly-graph-div\"></div><script type=\"text/javascript\">require([\"plotly\"], function(Plotly) { window.PLOTLYENV=window.PLOTLYENV || {};window.PLOTLYENV.BASE_URL=\"https://plot.ly\";Plotly.newPlot(\"bb644fe8-a4f2-419e-a451-88bb3fa1a550\", [{\"name\": \"\\u6d4b\\u5e8f\\u5f02\\u5e38\", \"x\": [\"8-1\", \"8-2\", \"8-3\", \"8-4\", \"9-1\", \"9-2\", \"9-3\", \"9-4\"], \"y\": [0.0, 0.0, 0.0, 0.0, 0.0, 0.0, 0.0, 0.0], \"type\": \"scatter\", \"uid\": \"de651e92-ca97-11e8-b7ba-d89ef3991fb3\"}, {\"name\": \"\\u5916\\u6765Index\\u9519\\u8bef\", \"x\": [\"8-1\", \"8-2\", \"8-3\", \"8-4\", \"9-1\", \"9-2\", \"9-3\", \"9-4\"], \"y\": [0.0, 0.0, 0.0, 0.0, 0.0, 0.0, 0.0, 0.0], \"type\": \"scatter\", \"uid\": \"de651e93-ca97-11e8-a07c-d89ef3991fb3\"}, {\"name\": \"\\u81ea\\u5efa\\u5e93Index\\u9519\\u8bef\", \"x\": [\"8-1\", \"8-2\", \"8-3\", \"8-4\", \"9-1\", \"9-2\", \"9-3\", \"9-4\"], \"y\": [0.0, 0.0, 0.0, 0.0, 0.0, 0.0, 0.0, 0.0], \"type\": \"scatter\", \"uid\": \"de651e94-ca97-11e8-9fc5-d89ef3991fb3\"}, {\"name\": \"lims\\u7cfb\\u7edf\\u9519\\u8bef\", \"x\": [\"8-1\", \"8-2\", \"8-3\", \"8-4\", \"9-1\", \"9-2\", \"9-3\", \"9-4\"], \"y\": [0.0, 0.0, 0.0, 0.0, 0.0, 0.0, 0.0, 0.0], \"type\": \"scatter\", \"uid\": \"de651e95-ca97-11e8-a8bd-d89ef3991fb3\"}], {\"title\": \"\\u6d4b\\u5e8f\\u5f02\\u5e38&\\u5916\\u6765Index\\u9519\\u8bef&\\u81ea\\u5efa\\u5e93Index\\u9519\\u8bef&lims\\u7cfb\\u7edf\\u9519\\u8bef\\u5468\\u8d8b\\u52bf\\u56fe\", \"xaxis\": {\"mirror\": \"all\", \"nticks\": 20, \"showgrid\": true, \"showline\": true, \"title\": \"\\u5468\", \"zeroline\": true}, \"yaxis\": {\"mirror\": \"all\", \"nticks\": 20, \"showgrid\": true, \"showline\": true, \"title\": \"\\u6d4b\\u5e8f\\u5f02\\u5e38&\\u5916\\u6765Index\\u9519\\u8bef&\\u81ea\\u5efa\\u5e93Index\\u9519\\u8bef&lims\\u7cfb\\u7edf\\u9519\\u8bef\", \"zeroline\": true}}, {\"showLink\": true, \"linkText\": \"Export to plot.ly\"})});</script>"
      ],
      "text/vnd.plotly.v1+html": [
       "<div id=\"bb644fe8-a4f2-419e-a451-88bb3fa1a550\" style=\"height: 525px; width: 100%;\" class=\"plotly-graph-div\"></div><script type=\"text/javascript\">require([\"plotly\"], function(Plotly) { window.PLOTLYENV=window.PLOTLYENV || {};window.PLOTLYENV.BASE_URL=\"https://plot.ly\";Plotly.newPlot(\"bb644fe8-a4f2-419e-a451-88bb3fa1a550\", [{\"name\": \"\\u6d4b\\u5e8f\\u5f02\\u5e38\", \"x\": [\"8-1\", \"8-2\", \"8-3\", \"8-4\", \"9-1\", \"9-2\", \"9-3\", \"9-4\"], \"y\": [0.0, 0.0, 0.0, 0.0, 0.0, 0.0, 0.0, 0.0], \"type\": \"scatter\", \"uid\": \"de651e92-ca97-11e8-b7ba-d89ef3991fb3\"}, {\"name\": \"\\u5916\\u6765Index\\u9519\\u8bef\", \"x\": [\"8-1\", \"8-2\", \"8-3\", \"8-4\", \"9-1\", \"9-2\", \"9-3\", \"9-4\"], \"y\": [0.0, 0.0, 0.0, 0.0, 0.0, 0.0, 0.0, 0.0], \"type\": \"scatter\", \"uid\": \"de651e93-ca97-11e8-a07c-d89ef3991fb3\"}, {\"name\": \"\\u81ea\\u5efa\\u5e93Index\\u9519\\u8bef\", \"x\": [\"8-1\", \"8-2\", \"8-3\", \"8-4\", \"9-1\", \"9-2\", \"9-3\", \"9-4\"], \"y\": [0.0, 0.0, 0.0, 0.0, 0.0, 0.0, 0.0, 0.0], \"type\": \"scatter\", \"uid\": \"de651e94-ca97-11e8-9fc5-d89ef3991fb3\"}, {\"name\": \"lims\\u7cfb\\u7edf\\u9519\\u8bef\", \"x\": [\"8-1\", \"8-2\", \"8-3\", \"8-4\", \"9-1\", \"9-2\", \"9-3\", \"9-4\"], \"y\": [0.0, 0.0, 0.0, 0.0, 0.0, 0.0, 0.0, 0.0], \"type\": \"scatter\", \"uid\": \"de651e95-ca97-11e8-a8bd-d89ef3991fb3\"}], {\"title\": \"\\u6d4b\\u5e8f\\u5f02\\u5e38&\\u5916\\u6765Index\\u9519\\u8bef&\\u81ea\\u5efa\\u5e93Index\\u9519\\u8bef&lims\\u7cfb\\u7edf\\u9519\\u8bef\\u5468\\u8d8b\\u52bf\\u56fe\", \"xaxis\": {\"mirror\": \"all\", \"nticks\": 20, \"showgrid\": true, \"showline\": true, \"title\": \"\\u5468\", \"zeroline\": true}, \"yaxis\": {\"mirror\": \"all\", \"nticks\": 20, \"showgrid\": true, \"showline\": true, \"title\": \"\\u6d4b\\u5e8f\\u5f02\\u5e38&\\u5916\\u6765Index\\u9519\\u8bef&\\u81ea\\u5efa\\u5e93Index\\u9519\\u8bef&lims\\u7cfb\\u7edf\\u9519\\u8bef\", \"zeroline\": true}}, {\"showLink\": true, \"linkText\": \"Export to plot.ly\"})});</script>"
      ]
     },
     "metadata": {},
     "output_type": "display_data"
    },
    {
     "data": {
      "application/vnd.plotly.v1+json": {
       "data": [
        {
         "name": "测序异常",
         "type": "scatter",
         "uid": "de75dc0c-ca97-11e8-85cb-d89ef3991fb3",
         "x": [
          "8",
          "9"
         ],
         "y": [
          0,
          0
         ]
        },
        {
         "name": "外来Index错误",
         "type": "scatter",
         "uid": "de75dc0d-ca97-11e8-99f8-d89ef3991fb3",
         "x": [
          "8",
          "9"
         ],
         "y": [
          0,
          0
         ]
        },
        {
         "name": "自建库Index错误",
         "type": "scatter",
         "uid": "de75dc0e-ca97-11e8-8971-d89ef3991fb3",
         "x": [
          "8",
          "9"
         ],
         "y": [
          0,
          0
         ]
        },
        {
         "name": "lims系统错误",
         "type": "scatter",
         "uid": "de75dc0f-ca97-11e8-be4e-d89ef3991fb3",
         "x": [
          "8",
          "9"
         ],
         "y": [
          0,
          0
         ]
        }
       ],
       "layout": {
        "title": "测序异常&外来Index错误&自建库Index错误&lims系统错误月趋势图",
        "xaxis": {
         "mirror": "all",
         "nticks": 20,
         "showgrid": true,
         "showline": true,
         "title": "月",
         "zeroline": true
        },
        "yaxis": {
         "mirror": "all",
         "nticks": 20,
         "showgrid": true,
         "showline": true,
         "title": "测序异常&外来Index错误&自建库Index错误&lims系统错误",
         "zeroline": true
        }
       }
      },
      "text/html": [
       "<div id=\"c9b12757-3a1b-4902-8f5d-c5557f87834a\" style=\"height: 525px; width: 100%;\" class=\"plotly-graph-div\"></div><script type=\"text/javascript\">require([\"plotly\"], function(Plotly) { window.PLOTLYENV=window.PLOTLYENV || {};window.PLOTLYENV.BASE_URL=\"https://plot.ly\";Plotly.newPlot(\"c9b12757-3a1b-4902-8f5d-c5557f87834a\", [{\"name\": \"\\u6d4b\\u5e8f\\u5f02\\u5e38\", \"x\": [\"8\", \"9\"], \"y\": [0.0, 0.0], \"type\": \"scatter\", \"uid\": \"de75dc0c-ca97-11e8-85cb-d89ef3991fb3\"}, {\"name\": \"\\u5916\\u6765Index\\u9519\\u8bef\", \"x\": [\"8\", \"9\"], \"y\": [0.0, 0.0], \"type\": \"scatter\", \"uid\": \"de75dc0d-ca97-11e8-99f8-d89ef3991fb3\"}, {\"name\": \"\\u81ea\\u5efa\\u5e93Index\\u9519\\u8bef\", \"x\": [\"8\", \"9\"], \"y\": [0.0, 0.0], \"type\": \"scatter\", \"uid\": \"de75dc0e-ca97-11e8-8971-d89ef3991fb3\"}, {\"name\": \"lims\\u7cfb\\u7edf\\u9519\\u8bef\", \"x\": [\"8\", \"9\"], \"y\": [0.0, 0.0], \"type\": \"scatter\", \"uid\": \"de75dc0f-ca97-11e8-be4e-d89ef3991fb3\"}], {\"title\": \"\\u6d4b\\u5e8f\\u5f02\\u5e38&\\u5916\\u6765Index\\u9519\\u8bef&\\u81ea\\u5efa\\u5e93Index\\u9519\\u8bef&lims\\u7cfb\\u7edf\\u9519\\u8bef\\u6708\\u8d8b\\u52bf\\u56fe\", \"xaxis\": {\"mirror\": \"all\", \"nticks\": 20, \"showgrid\": true, \"showline\": true, \"title\": \"\\u6708\", \"zeroline\": true}, \"yaxis\": {\"mirror\": \"all\", \"nticks\": 20, \"showgrid\": true, \"showline\": true, \"title\": \"\\u6d4b\\u5e8f\\u5f02\\u5e38&\\u5916\\u6765Index\\u9519\\u8bef&\\u81ea\\u5efa\\u5e93Index\\u9519\\u8bef&lims\\u7cfb\\u7edf\\u9519\\u8bef\", \"zeroline\": true}}, {\"showLink\": true, \"linkText\": \"Export to plot.ly\"})});</script>"
      ],
      "text/vnd.plotly.v1+html": [
       "<div id=\"c9b12757-3a1b-4902-8f5d-c5557f87834a\" style=\"height: 525px; width: 100%;\" class=\"plotly-graph-div\"></div><script type=\"text/javascript\">require([\"plotly\"], function(Plotly) { window.PLOTLYENV=window.PLOTLYENV || {};window.PLOTLYENV.BASE_URL=\"https://plot.ly\";Plotly.newPlot(\"c9b12757-3a1b-4902-8f5d-c5557f87834a\", [{\"name\": \"\\u6d4b\\u5e8f\\u5f02\\u5e38\", \"x\": [\"8\", \"9\"], \"y\": [0.0, 0.0], \"type\": \"scatter\", \"uid\": \"de75dc0c-ca97-11e8-85cb-d89ef3991fb3\"}, {\"name\": \"\\u5916\\u6765Index\\u9519\\u8bef\", \"x\": [\"8\", \"9\"], \"y\": [0.0, 0.0], \"type\": \"scatter\", \"uid\": \"de75dc0d-ca97-11e8-99f8-d89ef3991fb3\"}, {\"name\": \"\\u81ea\\u5efa\\u5e93Index\\u9519\\u8bef\", \"x\": [\"8\", \"9\"], \"y\": [0.0, 0.0], \"type\": \"scatter\", \"uid\": \"de75dc0e-ca97-11e8-8971-d89ef3991fb3\"}, {\"name\": \"lims\\u7cfb\\u7edf\\u9519\\u8bef\", \"x\": [\"8\", \"9\"], \"y\": [0.0, 0.0], \"type\": \"scatter\", \"uid\": \"de75dc0f-ca97-11e8-be4e-d89ef3991fb3\"}], {\"title\": \"\\u6d4b\\u5e8f\\u5f02\\u5e38&\\u5916\\u6765Index\\u9519\\u8bef&\\u81ea\\u5efa\\u5e93Index\\u9519\\u8bef&lims\\u7cfb\\u7edf\\u9519\\u8bef\\u6708\\u8d8b\\u52bf\\u56fe\", \"xaxis\": {\"mirror\": \"all\", \"nticks\": 20, \"showgrid\": true, \"showline\": true, \"title\": \"\\u6708\", \"zeroline\": true}, \"yaxis\": {\"mirror\": \"all\", \"nticks\": 20, \"showgrid\": true, \"showline\": true, \"title\": \"\\u6d4b\\u5e8f\\u5f02\\u5e38&\\u5916\\u6765Index\\u9519\\u8bef&\\u81ea\\u5efa\\u5e93Index\\u9519\\u8bef&lims\\u7cfb\\u7edf\\u9519\\u8bef\", \"zeroline\": true}}, {\"showLink\": true, \"linkText\": \"Export to plot.ly\"})});</script>"
      ]
     },
     "metadata": {},
     "output_type": "display_data"
    }
   ],
   "source": [
    "data_dict = {'测序异常':['测序异常'], '外来Index错误':['外来Index错误'], '自建库Index错误':['自建库Index错误'], \n",
    "             'lims系统错误':['lims系统错误']}\n",
    "myModule.plot( all_dict, data_dict, '人员' ,  'line' , all='all')"
   ]
  },
  {
   "cell_type": "markdown",
   "metadata": {},
   "source": [
    "# 过滤项目情况"
   ]
  },
  {
   "cell_type": "code",
   "execution_count": 13,
   "metadata": {
    "collapsed": false
   },
   "outputs": [],
   "source": [
    "all_files , title = myModule.get_title(pathway, 0 )##给路径\n",
    "all_dict = myModule.read_xlsx(all_files, 0 ) ## read all files"
   ]
  },
  {
   "cell_type": "markdown",
   "metadata": {},
   "source": [
    "## 整体情况"
   ]
  },
  {
   "cell_type": "markdown",
   "metadata": {},
   "source": [
    "### 产能"
   ]
  },
  {
   "cell_type": "markdown",
   "metadata": {},
   "source": [
    "#### 下机批次数和下机项目数"
   ]
  },
  {
   "cell_type": "code",
   "execution_count": 14,
   "metadata": {
    "collapsed": false
   },
   "outputs": [
    {
     "data": {
      "application/vnd.plotly.v1+json": {
       "data": [
        {
         "name": "下机批次数",
         "type": "scatter",
         "uid": "df17eeb4-ca97-11e8-a81b-d89ef3991fb3",
         "x": [
          "8-1",
          "8-2",
          "8-3",
          "8-4",
          "9-1",
          "9-2",
          "9-3",
          "9-4"
         ],
         "y": [
          6,
          0,
          5,
          24,
          23,
          7,
          12,
          16
         ]
        },
        {
         "name": "下机项目数",
         "type": "scatter",
         "uid": "df17eeb5-ca97-11e8-a5ea-d89ef3991fb3",
         "x": [
          "8-1",
          "8-2",
          "8-3",
          "8-4",
          "9-1",
          "9-2",
          "9-3",
          "9-4"
         ],
         "y": [
          6,
          0,
          5,
          20,
          21,
          6,
          12,
          15
         ]
        }
       ],
       "layout": {
        "title": "下机批次数&下机项目数周趋势图",
        "xaxis": {
         "mirror": "all",
         "nticks": 20,
         "showgrid": true,
         "showline": true,
         "title": "周",
         "zeroline": true
        },
        "yaxis": {
         "mirror": "all",
         "nticks": 20,
         "showgrid": true,
         "showline": true,
         "title": "下机批次数&下机项目数",
         "zeroline": true
        }
       }
      },
      "text/html": [
       "<div id=\"9969015c-e81c-442b-9b2a-b2345b8ad7fe\" style=\"height: 525px; width: 100%;\" class=\"plotly-graph-div\"></div><script type=\"text/javascript\">require([\"plotly\"], function(Plotly) { window.PLOTLYENV=window.PLOTLYENV || {};window.PLOTLYENV.BASE_URL=\"https://plot.ly\";Plotly.newPlot(\"9969015c-e81c-442b-9b2a-b2345b8ad7fe\", [{\"name\": \"\\u4e0b\\u673a\\u6279\\u6b21\\u6570\", \"x\": [\"8-1\", \"8-2\", \"8-3\", \"8-4\", \"9-1\", \"9-2\", \"9-3\", \"9-4\"], \"y\": [6.0, 0.0, 5.0, 24.0, 23.0, 7.0, 12.0, 16.0], \"type\": \"scatter\", \"uid\": \"df17eeb4-ca97-11e8-a81b-d89ef3991fb3\"}, {\"name\": \"\\u4e0b\\u673a\\u9879\\u76ee\\u6570\", \"x\": [\"8-1\", \"8-2\", \"8-3\", \"8-4\", \"9-1\", \"9-2\", \"9-3\", \"9-4\"], \"y\": [6.0, 0.0, 5.0, 20.0, 21.0, 6.0, 12.0, 15.0], \"type\": \"scatter\", \"uid\": \"df17eeb5-ca97-11e8-a5ea-d89ef3991fb3\"}], {\"title\": \"\\u4e0b\\u673a\\u6279\\u6b21\\u6570&\\u4e0b\\u673a\\u9879\\u76ee\\u6570\\u5468\\u8d8b\\u52bf\\u56fe\", \"xaxis\": {\"mirror\": \"all\", \"nticks\": 20, \"showgrid\": true, \"showline\": true, \"title\": \"\\u5468\", \"zeroline\": true}, \"yaxis\": {\"mirror\": \"all\", \"nticks\": 20, \"showgrid\": true, \"showline\": true, \"title\": \"\\u4e0b\\u673a\\u6279\\u6b21\\u6570&\\u4e0b\\u673a\\u9879\\u76ee\\u6570\", \"zeroline\": true}}, {\"showLink\": true, \"linkText\": \"Export to plot.ly\"})});</script>"
      ],
      "text/vnd.plotly.v1+html": [
       "<div id=\"9969015c-e81c-442b-9b2a-b2345b8ad7fe\" style=\"height: 525px; width: 100%;\" class=\"plotly-graph-div\"></div><script type=\"text/javascript\">require([\"plotly\"], function(Plotly) { window.PLOTLYENV=window.PLOTLYENV || {};window.PLOTLYENV.BASE_URL=\"https://plot.ly\";Plotly.newPlot(\"9969015c-e81c-442b-9b2a-b2345b8ad7fe\", [{\"name\": \"\\u4e0b\\u673a\\u6279\\u6b21\\u6570\", \"x\": [\"8-1\", \"8-2\", \"8-3\", \"8-4\", \"9-1\", \"9-2\", \"9-3\", \"9-4\"], \"y\": [6.0, 0.0, 5.0, 24.0, 23.0, 7.0, 12.0, 16.0], \"type\": \"scatter\", \"uid\": \"df17eeb4-ca97-11e8-a81b-d89ef3991fb3\"}, {\"name\": \"\\u4e0b\\u673a\\u9879\\u76ee\\u6570\", \"x\": [\"8-1\", \"8-2\", \"8-3\", \"8-4\", \"9-1\", \"9-2\", \"9-3\", \"9-4\"], \"y\": [6.0, 0.0, 5.0, 20.0, 21.0, 6.0, 12.0, 15.0], \"type\": \"scatter\", \"uid\": \"df17eeb5-ca97-11e8-a5ea-d89ef3991fb3\"}], {\"title\": \"\\u4e0b\\u673a\\u6279\\u6b21\\u6570&\\u4e0b\\u673a\\u9879\\u76ee\\u6570\\u5468\\u8d8b\\u52bf\\u56fe\", \"xaxis\": {\"mirror\": \"all\", \"nticks\": 20, \"showgrid\": true, \"showline\": true, \"title\": \"\\u5468\", \"zeroline\": true}, \"yaxis\": {\"mirror\": \"all\", \"nticks\": 20, \"showgrid\": true, \"showline\": true, \"title\": \"\\u4e0b\\u673a\\u6279\\u6b21\\u6570&\\u4e0b\\u673a\\u9879\\u76ee\\u6570\", \"zeroline\": true}}, {\"showLink\": true, \"linkText\": \"Export to plot.ly\"})});</script>"
      ]
     },
     "metadata": {},
     "output_type": "display_data"
    },
    {
     "data": {
      "application/vnd.plotly.v1+json": {
       "data": [
        {
         "name": "下机批次数",
         "type": "scatter",
         "uid": "df272692-ca97-11e8-95f3-d89ef3991fb3",
         "x": [
          "8",
          "9"
         ],
         "y": [
          35,
          58
         ]
        },
        {
         "name": "下机项目数",
         "type": "scatter",
         "uid": "df272693-ca97-11e8-b07e-d89ef3991fb3",
         "x": [
          "8",
          "9"
         ],
         "y": [
          31,
          54
         ]
        }
       ],
       "layout": {
        "title": "下机批次数&下机项目数月趋势图",
        "xaxis": {
         "mirror": "all",
         "nticks": 20,
         "showgrid": true,
         "showline": true,
         "title": "月",
         "zeroline": true
        },
        "yaxis": {
         "mirror": "all",
         "nticks": 20,
         "showgrid": true,
         "showline": true,
         "title": "下机批次数&下机项目数",
         "zeroline": true
        }
       }
      },
      "text/html": [
       "<div id=\"4c776863-17d6-48b8-9c37-7d424d9929df\" style=\"height: 525px; width: 100%;\" class=\"plotly-graph-div\"></div><script type=\"text/javascript\">require([\"plotly\"], function(Plotly) { window.PLOTLYENV=window.PLOTLYENV || {};window.PLOTLYENV.BASE_URL=\"https://plot.ly\";Plotly.newPlot(\"4c776863-17d6-48b8-9c37-7d424d9929df\", [{\"name\": \"\\u4e0b\\u673a\\u6279\\u6b21\\u6570\", \"x\": [\"8\", \"9\"], \"y\": [35.0, 58.0], \"type\": \"scatter\", \"uid\": \"df272692-ca97-11e8-95f3-d89ef3991fb3\"}, {\"name\": \"\\u4e0b\\u673a\\u9879\\u76ee\\u6570\", \"x\": [\"8\", \"9\"], \"y\": [31.0, 54.0], \"type\": \"scatter\", \"uid\": \"df272693-ca97-11e8-b07e-d89ef3991fb3\"}], {\"title\": \"\\u4e0b\\u673a\\u6279\\u6b21\\u6570&\\u4e0b\\u673a\\u9879\\u76ee\\u6570\\u6708\\u8d8b\\u52bf\\u56fe\", \"xaxis\": {\"mirror\": \"all\", \"nticks\": 20, \"showgrid\": true, \"showline\": true, \"title\": \"\\u6708\", \"zeroline\": true}, \"yaxis\": {\"mirror\": \"all\", \"nticks\": 20, \"showgrid\": true, \"showline\": true, \"title\": \"\\u4e0b\\u673a\\u6279\\u6b21\\u6570&\\u4e0b\\u673a\\u9879\\u76ee\\u6570\", \"zeroline\": true}}, {\"showLink\": true, \"linkText\": \"Export to plot.ly\"})});</script>"
      ],
      "text/vnd.plotly.v1+html": [
       "<div id=\"4c776863-17d6-48b8-9c37-7d424d9929df\" style=\"height: 525px; width: 100%;\" class=\"plotly-graph-div\"></div><script type=\"text/javascript\">require([\"plotly\"], function(Plotly) { window.PLOTLYENV=window.PLOTLYENV || {};window.PLOTLYENV.BASE_URL=\"https://plot.ly\";Plotly.newPlot(\"4c776863-17d6-48b8-9c37-7d424d9929df\", [{\"name\": \"\\u4e0b\\u673a\\u6279\\u6b21\\u6570\", \"x\": [\"8\", \"9\"], \"y\": [35.0, 58.0], \"type\": \"scatter\", \"uid\": \"df272692-ca97-11e8-95f3-d89ef3991fb3\"}, {\"name\": \"\\u4e0b\\u673a\\u9879\\u76ee\\u6570\", \"x\": [\"8\", \"9\"], \"y\": [31.0, 54.0], \"type\": \"scatter\", \"uid\": \"df272693-ca97-11e8-b07e-d89ef3991fb3\"}], {\"title\": \"\\u4e0b\\u673a\\u6279\\u6b21\\u6570&\\u4e0b\\u673a\\u9879\\u76ee\\u6570\\u6708\\u8d8b\\u52bf\\u56fe\", \"xaxis\": {\"mirror\": \"all\", \"nticks\": 20, \"showgrid\": true, \"showline\": true, \"title\": \"\\u6708\", \"zeroline\": true}, \"yaxis\": {\"mirror\": \"all\", \"nticks\": 20, \"showgrid\": true, \"showline\": true, \"title\": \"\\u4e0b\\u673a\\u6279\\u6b21\\u6570&\\u4e0b\\u673a\\u9879\\u76ee\\u6570\", \"zeroline\": true}}, {\"showLink\": true, \"linkText\": \"Export to plot.ly\"})});</script>"
      ]
     },
     "metadata": {},
     "output_type": "display_data"
    }
   ],
   "source": [
    "data_dict = {'下机批次数':['下机批次数'],'下机项目数':['下机项目数']}\n",
    "myModule.plot( all_dict, data_dict, '人员' ,  'line', all='all' )"
   ]
  },
  {
   "cell_type": "markdown",
   "metadata": {},
   "source": [
    "#### 下机批次比"
   ]
  },
  {
   "cell_type": "code",
   "execution_count": 15,
   "metadata": {
    "collapsed": false
   },
   "outputs": [
    {
     "data": {
      "application/vnd.plotly.v1+json": {
       "data": [
        {
         "name": "下机批次比",
         "type": "scatter",
         "uid": "df778090-ca97-11e8-9eaa-d89ef3991fb3",
         "x": [
          "8-1",
          "8-2",
          "8-3",
          "8-4",
          "9-1",
          "9-2",
          "9-3",
          "9-4"
         ],
         "y": [
          1,
          null,
          1,
          1.2,
          1.0952380952380953,
          1.1666666666666667,
          1,
          1.0666666666666667
         ]
        }
       ],
       "layout": {
        "title": "下机批次比周趋势图",
        "xaxis": {
         "mirror": "all",
         "nticks": 20,
         "showgrid": true,
         "showline": true,
         "title": "周",
         "zeroline": true
        },
        "yaxis": {
         "mirror": "all",
         "nticks": 20,
         "showgrid": true,
         "showline": true,
         "title": "下机批次比",
         "zeroline": true
        }
       }
      },
      "text/html": [
       "<div id=\"45febc54-52ef-45e6-acf9-cdb79add8cbe\" style=\"height: 525px; width: 100%;\" class=\"plotly-graph-div\"></div><script type=\"text/javascript\">require([\"plotly\"], function(Plotly) { window.PLOTLYENV=window.PLOTLYENV || {};window.PLOTLYENV.BASE_URL=\"https://plot.ly\";Plotly.newPlot(\"45febc54-52ef-45e6-acf9-cdb79add8cbe\", [{\"name\": \"\\u4e0b\\u673a\\u6279\\u6b21\\u6bd4\", \"x\": [\"8-1\", \"8-2\", \"8-3\", \"8-4\", \"9-1\", \"9-2\", \"9-3\", \"9-4\"], \"y\": [1.0, null, 1.0, 1.2, 1.0952380952380953, 1.1666666666666667, 1.0, 1.0666666666666667], \"type\": \"scatter\", \"uid\": \"df778090-ca97-11e8-9eaa-d89ef3991fb3\"}], {\"title\": \"\\u4e0b\\u673a\\u6279\\u6b21\\u6bd4\\u5468\\u8d8b\\u52bf\\u56fe\", \"xaxis\": {\"mirror\": \"all\", \"nticks\": 20, \"showgrid\": true, \"showline\": true, \"title\": \"\\u5468\", \"zeroline\": true}, \"yaxis\": {\"mirror\": \"all\", \"nticks\": 20, \"showgrid\": true, \"showline\": true, \"title\": \"\\u4e0b\\u673a\\u6279\\u6b21\\u6bd4\", \"zeroline\": true}}, {\"showLink\": true, \"linkText\": \"Export to plot.ly\"})});</script>"
      ],
      "text/vnd.plotly.v1+html": [
       "<div id=\"45febc54-52ef-45e6-acf9-cdb79add8cbe\" style=\"height: 525px; width: 100%;\" class=\"plotly-graph-div\"></div><script type=\"text/javascript\">require([\"plotly\"], function(Plotly) { window.PLOTLYENV=window.PLOTLYENV || {};window.PLOTLYENV.BASE_URL=\"https://plot.ly\";Plotly.newPlot(\"45febc54-52ef-45e6-acf9-cdb79add8cbe\", [{\"name\": \"\\u4e0b\\u673a\\u6279\\u6b21\\u6bd4\", \"x\": [\"8-1\", \"8-2\", \"8-3\", \"8-4\", \"9-1\", \"9-2\", \"9-3\", \"9-4\"], \"y\": [1.0, null, 1.0, 1.2, 1.0952380952380953, 1.1666666666666667, 1.0, 1.0666666666666667], \"type\": \"scatter\", \"uid\": \"df778090-ca97-11e8-9eaa-d89ef3991fb3\"}], {\"title\": \"\\u4e0b\\u673a\\u6279\\u6b21\\u6bd4\\u5468\\u8d8b\\u52bf\\u56fe\", \"xaxis\": {\"mirror\": \"all\", \"nticks\": 20, \"showgrid\": true, \"showline\": true, \"title\": \"\\u5468\", \"zeroline\": true}, \"yaxis\": {\"mirror\": \"all\", \"nticks\": 20, \"showgrid\": true, \"showline\": true, \"title\": \"\\u4e0b\\u673a\\u6279\\u6b21\\u6bd4\", \"zeroline\": true}}, {\"showLink\": true, \"linkText\": \"Export to plot.ly\"})});</script>"
      ]
     },
     "metadata": {},
     "output_type": "display_data"
    },
    {
     "data": {
      "application/vnd.plotly.v1+json": {
       "data": [
        {
         "name": "下机批次比",
         "type": "scatter",
         "uid": "df81b2ca-ca97-11e8-a634-d89ef3991fb3",
         "x": [
          "8",
          "9"
         ],
         "y": [
          1.1290322580645162,
          1.0740740740740742
         ]
        }
       ],
       "layout": {
        "title": "下机批次比月趋势图",
        "xaxis": {
         "mirror": "all",
         "nticks": 20,
         "showgrid": true,
         "showline": true,
         "title": "月",
         "zeroline": true
        },
        "yaxis": {
         "mirror": "all",
         "nticks": 20,
         "showgrid": true,
         "showline": true,
         "title": "下机批次比",
         "zeroline": true
        }
       }
      },
      "text/html": [
       "<div id=\"3b553923-48ff-4d6e-ab04-16746ae00f20\" style=\"height: 525px; width: 100%;\" class=\"plotly-graph-div\"></div><script type=\"text/javascript\">require([\"plotly\"], function(Plotly) { window.PLOTLYENV=window.PLOTLYENV || {};window.PLOTLYENV.BASE_URL=\"https://plot.ly\";Plotly.newPlot(\"3b553923-48ff-4d6e-ab04-16746ae00f20\", [{\"name\": \"\\u4e0b\\u673a\\u6279\\u6b21\\u6bd4\", \"x\": [\"8\", \"9\"], \"y\": [1.1290322580645162, 1.0740740740740742], \"type\": \"scatter\", \"uid\": \"df81b2ca-ca97-11e8-a634-d89ef3991fb3\"}], {\"title\": \"\\u4e0b\\u673a\\u6279\\u6b21\\u6bd4\\u6708\\u8d8b\\u52bf\\u56fe\", \"xaxis\": {\"mirror\": \"all\", \"nticks\": 20, \"showgrid\": true, \"showline\": true, \"title\": \"\\u6708\", \"zeroline\": true}, \"yaxis\": {\"mirror\": \"all\", \"nticks\": 20, \"showgrid\": true, \"showline\": true, \"title\": \"\\u4e0b\\u673a\\u6279\\u6b21\\u6bd4\", \"zeroline\": true}}, {\"showLink\": true, \"linkText\": \"Export to plot.ly\"})});</script>"
      ],
      "text/vnd.plotly.v1+html": [
       "<div id=\"3b553923-48ff-4d6e-ab04-16746ae00f20\" style=\"height: 525px; width: 100%;\" class=\"plotly-graph-div\"></div><script type=\"text/javascript\">require([\"plotly\"], function(Plotly) { window.PLOTLYENV=window.PLOTLYENV || {};window.PLOTLYENV.BASE_URL=\"https://plot.ly\";Plotly.newPlot(\"3b553923-48ff-4d6e-ab04-16746ae00f20\", [{\"name\": \"\\u4e0b\\u673a\\u6279\\u6b21\\u6bd4\", \"x\": [\"8\", \"9\"], \"y\": [1.1290322580645162, 1.0740740740740742], \"type\": \"scatter\", \"uid\": \"df81b2ca-ca97-11e8-a634-d89ef3991fb3\"}], {\"title\": \"\\u4e0b\\u673a\\u6279\\u6b21\\u6bd4\\u6708\\u8d8b\\u52bf\\u56fe\", \"xaxis\": {\"mirror\": \"all\", \"nticks\": 20, \"showgrid\": true, \"showline\": true, \"title\": \"\\u6708\", \"zeroline\": true}, \"yaxis\": {\"mirror\": \"all\", \"nticks\": 20, \"showgrid\": true, \"showline\": true, \"title\": \"\\u4e0b\\u673a\\u6279\\u6b21\\u6bd4\", \"zeroline\": true}}, {\"showLink\": true, \"linkText\": \"Export to plot.ly\"})});</script>"
      ]
     },
     "metadata": {},
     "output_type": "display_data"
    }
   ],
   "source": [
    "data_dict = {'下机批次比':['下机批次数','下机项目数']}\n",
    "myModule.plot( all_dict, data_dict, '人员' ,  'line' , all='all')"
   ]
  },
  {
   "cell_type": "markdown",
   "metadata": {},
   "source": [
    "### 效率"
   ]
  },
  {
   "cell_type": "markdown",
   "metadata": {},
   "source": [
    "####  反馈及时率和数据交付及时率"
   ]
  },
  {
   "cell_type": "code",
   "execution_count": 16,
   "metadata": {
    "collapsed": false
   },
   "outputs": [
    {
     "data": {
      "application/vnd.plotly.v1+json": {
       "data": [
        {
         "name": "反馈及时率",
         "type": "scatter",
         "uid": "dfd2a89a-ca97-11e8-b8c9-d89ef3991fb3",
         "x": [
          "8-1",
          "8-2",
          "8-3",
          "8-4",
          "9-1",
          "9-2",
          "9-3",
          "9-4"
         ],
         "y": [
          1,
          null,
          0.6,
          1,
          0.8695652173913043,
          1,
          1,
          1
         ]
        },
        {
         "name": "数据及时交付率",
         "type": "scatter",
         "uid": "dfd2a89b-ca97-11e8-9bf2-d89ef3991fb3",
         "x": [
          "8-1",
          "8-2",
          "8-3",
          "8-4",
          "9-1",
          "9-2",
          "9-3",
          "9-4"
         ],
         "y": [
          1,
          null,
          1,
          null,
          1,
          1,
          null,
          null
         ]
        }
       ],
       "layout": {
        "title": "反馈及时率&数据及时交付率周趋势图",
        "xaxis": {
         "mirror": "all",
         "nticks": 20,
         "showgrid": true,
         "showline": true,
         "title": "周",
         "zeroline": true
        },
        "yaxis": {
         "mirror": "all",
         "nticks": 20,
         "showgrid": true,
         "showline": true,
         "title": "反馈及时率&数据及时交付率",
         "zeroline": true
        }
       }
      },
      "text/html": [
       "<div id=\"175fe908-e807-48d5-9806-c8c012a9476d\" style=\"height: 525px; width: 100%;\" class=\"plotly-graph-div\"></div><script type=\"text/javascript\">require([\"plotly\"], function(Plotly) { window.PLOTLYENV=window.PLOTLYENV || {};window.PLOTLYENV.BASE_URL=\"https://plot.ly\";Plotly.newPlot(\"175fe908-e807-48d5-9806-c8c012a9476d\", [{\"name\": \"\\u53cd\\u9988\\u53ca\\u65f6\\u7387\", \"x\": [\"8-1\", \"8-2\", \"8-3\", \"8-4\", \"9-1\", \"9-2\", \"9-3\", \"9-4\"], \"y\": [1.0, null, 0.6, 1.0, 0.8695652173913043, 1.0, 1.0, 1.0], \"type\": \"scatter\", \"uid\": \"dfd2a89a-ca97-11e8-b8c9-d89ef3991fb3\"}, {\"name\": \"\\u6570\\u636e\\u53ca\\u65f6\\u4ea4\\u4ed8\\u7387\", \"x\": [\"8-1\", \"8-2\", \"8-3\", \"8-4\", \"9-1\", \"9-2\", \"9-3\", \"9-4\"], \"y\": [1.0, null, 1.0, null, 1.0, 1.0, null, null], \"type\": \"scatter\", \"uid\": \"dfd2a89b-ca97-11e8-9bf2-d89ef3991fb3\"}], {\"title\": \"\\u53cd\\u9988\\u53ca\\u65f6\\u7387&\\u6570\\u636e\\u53ca\\u65f6\\u4ea4\\u4ed8\\u7387\\u5468\\u8d8b\\u52bf\\u56fe\", \"xaxis\": {\"mirror\": \"all\", \"nticks\": 20, \"showgrid\": true, \"showline\": true, \"title\": \"\\u5468\", \"zeroline\": true}, \"yaxis\": {\"mirror\": \"all\", \"nticks\": 20, \"showgrid\": true, \"showline\": true, \"title\": \"\\u53cd\\u9988\\u53ca\\u65f6\\u7387&\\u6570\\u636e\\u53ca\\u65f6\\u4ea4\\u4ed8\\u7387\", \"zeroline\": true}}, {\"showLink\": true, \"linkText\": \"Export to plot.ly\"})});</script>"
      ],
      "text/vnd.plotly.v1+html": [
       "<div id=\"175fe908-e807-48d5-9806-c8c012a9476d\" style=\"height: 525px; width: 100%;\" class=\"plotly-graph-div\"></div><script type=\"text/javascript\">require([\"plotly\"], function(Plotly) { window.PLOTLYENV=window.PLOTLYENV || {};window.PLOTLYENV.BASE_URL=\"https://plot.ly\";Plotly.newPlot(\"175fe908-e807-48d5-9806-c8c012a9476d\", [{\"name\": \"\\u53cd\\u9988\\u53ca\\u65f6\\u7387\", \"x\": [\"8-1\", \"8-2\", \"8-3\", \"8-4\", \"9-1\", \"9-2\", \"9-3\", \"9-4\"], \"y\": [1.0, null, 0.6, 1.0, 0.8695652173913043, 1.0, 1.0, 1.0], \"type\": \"scatter\", \"uid\": \"dfd2a89a-ca97-11e8-b8c9-d89ef3991fb3\"}, {\"name\": \"\\u6570\\u636e\\u53ca\\u65f6\\u4ea4\\u4ed8\\u7387\", \"x\": [\"8-1\", \"8-2\", \"8-3\", \"8-4\", \"9-1\", \"9-2\", \"9-3\", \"9-4\"], \"y\": [1.0, null, 1.0, null, 1.0, 1.0, null, null], \"type\": \"scatter\", \"uid\": \"dfd2a89b-ca97-11e8-9bf2-d89ef3991fb3\"}], {\"title\": \"\\u53cd\\u9988\\u53ca\\u65f6\\u7387&\\u6570\\u636e\\u53ca\\u65f6\\u4ea4\\u4ed8\\u7387\\u5468\\u8d8b\\u52bf\\u56fe\", \"xaxis\": {\"mirror\": \"all\", \"nticks\": 20, \"showgrid\": true, \"showline\": true, \"title\": \"\\u5468\", \"zeroline\": true}, \"yaxis\": {\"mirror\": \"all\", \"nticks\": 20, \"showgrid\": true, \"showline\": true, \"title\": \"\\u53cd\\u9988\\u53ca\\u65f6\\u7387&\\u6570\\u636e\\u53ca\\u65f6\\u4ea4\\u4ed8\\u7387\", \"zeroline\": true}}, {\"showLink\": true, \"linkText\": \"Export to plot.ly\"})});</script>"
      ]
     },
     "metadata": {},
     "output_type": "display_data"
    },
    {
     "data": {
      "application/vnd.plotly.v1+json": {
       "data": [
        {
         "name": "反馈及时率",
         "type": "scatter",
         "uid": "dfdf4a24-ca97-11e8-9e24-d89ef3991fb3",
         "x": [
          "8",
          "9"
         ],
         "y": [
          0.9428571428571428,
          0.9482758620689655
         ]
        },
        {
         "name": "数据及时交付率",
         "type": "scatter",
         "uid": "dfdf4a25-ca97-11e8-897e-d89ef3991fb3",
         "x": [
          "8",
          "9"
         ],
         "y": [
          1,
          1
         ]
        }
       ],
       "layout": {
        "title": "反馈及时率&数据及时交付率月趋势图",
        "xaxis": {
         "mirror": "all",
         "nticks": 20,
         "showgrid": true,
         "showline": true,
         "title": "月",
         "zeroline": true
        },
        "yaxis": {
         "mirror": "all",
         "nticks": 20,
         "showgrid": true,
         "showline": true,
         "title": "反馈及时率&数据及时交付率",
         "zeroline": true
        }
       }
      },
      "text/html": [
       "<div id=\"6eedf11b-ae92-4bba-a688-21a0cd8b09d7\" style=\"height: 525px; width: 100%;\" class=\"plotly-graph-div\"></div><script type=\"text/javascript\">require([\"plotly\"], function(Plotly) { window.PLOTLYENV=window.PLOTLYENV || {};window.PLOTLYENV.BASE_URL=\"https://plot.ly\";Plotly.newPlot(\"6eedf11b-ae92-4bba-a688-21a0cd8b09d7\", [{\"name\": \"\\u53cd\\u9988\\u53ca\\u65f6\\u7387\", \"x\": [\"8\", \"9\"], \"y\": [0.9428571428571428, 0.9482758620689655], \"type\": \"scatter\", \"uid\": \"dfdf4a24-ca97-11e8-9e24-d89ef3991fb3\"}, {\"name\": \"\\u6570\\u636e\\u53ca\\u65f6\\u4ea4\\u4ed8\\u7387\", \"x\": [\"8\", \"9\"], \"y\": [1.0, 1.0], \"type\": \"scatter\", \"uid\": \"dfdf4a25-ca97-11e8-897e-d89ef3991fb3\"}], {\"title\": \"\\u53cd\\u9988\\u53ca\\u65f6\\u7387&\\u6570\\u636e\\u53ca\\u65f6\\u4ea4\\u4ed8\\u7387\\u6708\\u8d8b\\u52bf\\u56fe\", \"xaxis\": {\"mirror\": \"all\", \"nticks\": 20, \"showgrid\": true, \"showline\": true, \"title\": \"\\u6708\", \"zeroline\": true}, \"yaxis\": {\"mirror\": \"all\", \"nticks\": 20, \"showgrid\": true, \"showline\": true, \"title\": \"\\u53cd\\u9988\\u53ca\\u65f6\\u7387&\\u6570\\u636e\\u53ca\\u65f6\\u4ea4\\u4ed8\\u7387\", \"zeroline\": true}}, {\"showLink\": true, \"linkText\": \"Export to plot.ly\"})});</script>"
      ],
      "text/vnd.plotly.v1+html": [
       "<div id=\"6eedf11b-ae92-4bba-a688-21a0cd8b09d7\" style=\"height: 525px; width: 100%;\" class=\"plotly-graph-div\"></div><script type=\"text/javascript\">require([\"plotly\"], function(Plotly) { window.PLOTLYENV=window.PLOTLYENV || {};window.PLOTLYENV.BASE_URL=\"https://plot.ly\";Plotly.newPlot(\"6eedf11b-ae92-4bba-a688-21a0cd8b09d7\", [{\"name\": \"\\u53cd\\u9988\\u53ca\\u65f6\\u7387\", \"x\": [\"8\", \"9\"], \"y\": [0.9428571428571428, 0.9482758620689655], \"type\": \"scatter\", \"uid\": \"dfdf4a24-ca97-11e8-9e24-d89ef3991fb3\"}, {\"name\": \"\\u6570\\u636e\\u53ca\\u65f6\\u4ea4\\u4ed8\\u7387\", \"x\": [\"8\", \"9\"], \"y\": [1.0, 1.0], \"type\": \"scatter\", \"uid\": \"dfdf4a25-ca97-11e8-897e-d89ef3991fb3\"}], {\"title\": \"\\u53cd\\u9988\\u53ca\\u65f6\\u7387&\\u6570\\u636e\\u53ca\\u65f6\\u4ea4\\u4ed8\\u7387\\u6708\\u8d8b\\u52bf\\u56fe\", \"xaxis\": {\"mirror\": \"all\", \"nticks\": 20, \"showgrid\": true, \"showline\": true, \"title\": \"\\u6708\", \"zeroline\": true}, \"yaxis\": {\"mirror\": \"all\", \"nticks\": 20, \"showgrid\": true, \"showline\": true, \"title\": \"\\u53cd\\u9988\\u53ca\\u65f6\\u7387&\\u6570\\u636e\\u53ca\\u65f6\\u4ea4\\u4ed8\\u7387\", \"zeroline\": true}}, {\"showLink\": true, \"linkText\": \"Export to plot.ly\"})});</script>"
      ]
     },
     "metadata": {},
     "output_type": "display_data"
    }
   ],
   "source": [
    "data_dict = {'反馈及时率':['及时反馈数','下机批次数'], '数据及时交付率':['数据及时交付数','数据交付总数']}\n",
    "myModule.plot( all_dict, data_dict, '人员' ,  'line' , all='all')"
   ]
  },
  {
   "cell_type": "markdown",
   "metadata": {},
   "source": [
    "#### 24h拆分过滤率和48h拆分过滤率"
   ]
  },
  {
   "cell_type": "code",
   "execution_count": 17,
   "metadata": {
    "collapsed": false
   },
   "outputs": [
    {
     "data": {
      "application/vnd.plotly.v1+json": {
       "data": [
        {
         "name": "24h拆分过滤率",
         "type": "scatter",
         "uid": "e044a470-ca97-11e8-99f2-d89ef3991fb3",
         "x": [
          "8-1",
          "8-2",
          "8-3",
          "8-4",
          "9-1",
          "9-2",
          "9-3",
          "9-4"
         ],
         "y": [
          1,
          null,
          0.8,
          0,
          0.43478260869565216,
          0.5714285714285714,
          0,
          0
         ]
        },
        {
         "name": "48h拆分过滤率",
         "type": "scatter",
         "uid": "e044a471-ca97-11e8-b19d-d89ef3991fb3",
         "x": [
          "8-1",
          "8-2",
          "8-3",
          "8-4",
          "9-1",
          "9-2",
          "9-3",
          "9-4"
         ],
         "y": [
          1,
          null,
          0.8,
          0,
          0.782608695652174,
          1,
          0,
          0
         ]
        }
       ],
       "layout": {
        "title": "24h拆分过滤率&48h拆分过滤率周趋势图",
        "xaxis": {
         "mirror": "all",
         "nticks": 20,
         "showgrid": true,
         "showline": true,
         "title": "周",
         "zeroline": true
        },
        "yaxis": {
         "mirror": "all",
         "nticks": 20,
         "showgrid": true,
         "showline": true,
         "title": "24h拆分过滤率&48h拆分过滤率",
         "zeroline": true
        }
       }
      },
      "text/html": [
       "<div id=\"f46e870b-9c35-4fd6-a722-473c743e0a38\" style=\"height: 525px; width: 100%;\" class=\"plotly-graph-div\"></div><script type=\"text/javascript\">require([\"plotly\"], function(Plotly) { window.PLOTLYENV=window.PLOTLYENV || {};window.PLOTLYENV.BASE_URL=\"https://plot.ly\";Plotly.newPlot(\"f46e870b-9c35-4fd6-a722-473c743e0a38\", [{\"name\": \"24h\\u62c6\\u5206\\u8fc7\\u6ee4\\u7387\", \"x\": [\"8-1\", \"8-2\", \"8-3\", \"8-4\", \"9-1\", \"9-2\", \"9-3\", \"9-4\"], \"y\": [1.0, null, 0.8, 0.0, 0.43478260869565216, 0.5714285714285714, 0.0, 0.0], \"type\": \"scatter\", \"uid\": \"e044a470-ca97-11e8-99f2-d89ef3991fb3\"}, {\"name\": \"48h\\u62c6\\u5206\\u8fc7\\u6ee4\\u7387\", \"x\": [\"8-1\", \"8-2\", \"8-3\", \"8-4\", \"9-1\", \"9-2\", \"9-3\", \"9-4\"], \"y\": [1.0, null, 0.8, 0.0, 0.782608695652174, 1.0, 0.0, 0.0], \"type\": \"scatter\", \"uid\": \"e044a471-ca97-11e8-b19d-d89ef3991fb3\"}], {\"title\": \"24h\\u62c6\\u5206\\u8fc7\\u6ee4\\u7387&48h\\u62c6\\u5206\\u8fc7\\u6ee4\\u7387\\u5468\\u8d8b\\u52bf\\u56fe\", \"xaxis\": {\"mirror\": \"all\", \"nticks\": 20, \"showgrid\": true, \"showline\": true, \"title\": \"\\u5468\", \"zeroline\": true}, \"yaxis\": {\"mirror\": \"all\", \"nticks\": 20, \"showgrid\": true, \"showline\": true, \"title\": \"24h\\u62c6\\u5206\\u8fc7\\u6ee4\\u7387&48h\\u62c6\\u5206\\u8fc7\\u6ee4\\u7387\", \"zeroline\": true}}, {\"showLink\": true, \"linkText\": \"Export to plot.ly\"})});</script>"
      ],
      "text/vnd.plotly.v1+html": [
       "<div id=\"f46e870b-9c35-4fd6-a722-473c743e0a38\" style=\"height: 525px; width: 100%;\" class=\"plotly-graph-div\"></div><script type=\"text/javascript\">require([\"plotly\"], function(Plotly) { window.PLOTLYENV=window.PLOTLYENV || {};window.PLOTLYENV.BASE_URL=\"https://plot.ly\";Plotly.newPlot(\"f46e870b-9c35-4fd6-a722-473c743e0a38\", [{\"name\": \"24h\\u62c6\\u5206\\u8fc7\\u6ee4\\u7387\", \"x\": [\"8-1\", \"8-2\", \"8-3\", \"8-4\", \"9-1\", \"9-2\", \"9-3\", \"9-4\"], \"y\": [1.0, null, 0.8, 0.0, 0.43478260869565216, 0.5714285714285714, 0.0, 0.0], \"type\": \"scatter\", \"uid\": \"e044a470-ca97-11e8-99f2-d89ef3991fb3\"}, {\"name\": \"48h\\u62c6\\u5206\\u8fc7\\u6ee4\\u7387\", \"x\": [\"8-1\", \"8-2\", \"8-3\", \"8-4\", \"9-1\", \"9-2\", \"9-3\", \"9-4\"], \"y\": [1.0, null, 0.8, 0.0, 0.782608695652174, 1.0, 0.0, 0.0], \"type\": \"scatter\", \"uid\": \"e044a471-ca97-11e8-b19d-d89ef3991fb3\"}], {\"title\": \"24h\\u62c6\\u5206\\u8fc7\\u6ee4\\u7387&48h\\u62c6\\u5206\\u8fc7\\u6ee4\\u7387\\u5468\\u8d8b\\u52bf\\u56fe\", \"xaxis\": {\"mirror\": \"all\", \"nticks\": 20, \"showgrid\": true, \"showline\": true, \"title\": \"\\u5468\", \"zeroline\": true}, \"yaxis\": {\"mirror\": \"all\", \"nticks\": 20, \"showgrid\": true, \"showline\": true, \"title\": \"24h\\u62c6\\u5206\\u8fc7\\u6ee4\\u7387&48h\\u62c6\\u5206\\u8fc7\\u6ee4\\u7387\", \"zeroline\": true}}, {\"showLink\": true, \"linkText\": \"Export to plot.ly\"})});</script>"
      ]
     },
     "metadata": {},
     "output_type": "display_data"
    },
    {
     "data": {
      "application/vnd.plotly.v1+json": {
       "data": [
        {
         "name": "24h拆分过滤率",
         "type": "scatter",
         "uid": "e0511f10-ca97-11e8-adcc-d89ef3991fb3",
         "x": [
          "8",
          "9"
         ],
         "y": [
          0.2857142857142857,
          0.2413793103448276
         ]
        },
        {
         "name": "48h拆分过滤率",
         "type": "scatter",
         "uid": "e0511f11-ca97-11e8-afdc-d89ef3991fb3",
         "x": [
          "8",
          "9"
         ],
         "y": [
          0.2857142857142857,
          0.43103448275862066
         ]
        }
       ],
       "layout": {
        "title": "24h拆分过滤率&48h拆分过滤率月趋势图",
        "xaxis": {
         "mirror": "all",
         "nticks": 20,
         "showgrid": true,
         "showline": true,
         "title": "月",
         "zeroline": true
        },
        "yaxis": {
         "mirror": "all",
         "nticks": 20,
         "showgrid": true,
         "showline": true,
         "title": "24h拆分过滤率&48h拆分过滤率",
         "zeroline": true
        }
       }
      },
      "text/html": [
       "<div id=\"97ab6f82-133e-4561-a703-e11b937b7890\" style=\"height: 525px; width: 100%;\" class=\"plotly-graph-div\"></div><script type=\"text/javascript\">require([\"plotly\"], function(Plotly) { window.PLOTLYENV=window.PLOTLYENV || {};window.PLOTLYENV.BASE_URL=\"https://plot.ly\";Plotly.newPlot(\"97ab6f82-133e-4561-a703-e11b937b7890\", [{\"name\": \"24h\\u62c6\\u5206\\u8fc7\\u6ee4\\u7387\", \"x\": [\"8\", \"9\"], \"y\": [0.2857142857142857, 0.2413793103448276], \"type\": \"scatter\", \"uid\": \"e0511f10-ca97-11e8-adcc-d89ef3991fb3\"}, {\"name\": \"48h\\u62c6\\u5206\\u8fc7\\u6ee4\\u7387\", \"x\": [\"8\", \"9\"], \"y\": [0.2857142857142857, 0.43103448275862066], \"type\": \"scatter\", \"uid\": \"e0511f11-ca97-11e8-afdc-d89ef3991fb3\"}], {\"title\": \"24h\\u62c6\\u5206\\u8fc7\\u6ee4\\u7387&48h\\u62c6\\u5206\\u8fc7\\u6ee4\\u7387\\u6708\\u8d8b\\u52bf\\u56fe\", \"xaxis\": {\"mirror\": \"all\", \"nticks\": 20, \"showgrid\": true, \"showline\": true, \"title\": \"\\u6708\", \"zeroline\": true}, \"yaxis\": {\"mirror\": \"all\", \"nticks\": 20, \"showgrid\": true, \"showline\": true, \"title\": \"24h\\u62c6\\u5206\\u8fc7\\u6ee4\\u7387&48h\\u62c6\\u5206\\u8fc7\\u6ee4\\u7387\", \"zeroline\": true}}, {\"showLink\": true, \"linkText\": \"Export to plot.ly\"})});</script>"
      ],
      "text/vnd.plotly.v1+html": [
       "<div id=\"97ab6f82-133e-4561-a703-e11b937b7890\" style=\"height: 525px; width: 100%;\" class=\"plotly-graph-div\"></div><script type=\"text/javascript\">require([\"plotly\"], function(Plotly) { window.PLOTLYENV=window.PLOTLYENV || {};window.PLOTLYENV.BASE_URL=\"https://plot.ly\";Plotly.newPlot(\"97ab6f82-133e-4561-a703-e11b937b7890\", [{\"name\": \"24h\\u62c6\\u5206\\u8fc7\\u6ee4\\u7387\", \"x\": [\"8\", \"9\"], \"y\": [0.2857142857142857, 0.2413793103448276], \"type\": \"scatter\", \"uid\": \"e0511f10-ca97-11e8-adcc-d89ef3991fb3\"}, {\"name\": \"48h\\u62c6\\u5206\\u8fc7\\u6ee4\\u7387\", \"x\": [\"8\", \"9\"], \"y\": [0.2857142857142857, 0.43103448275862066], \"type\": \"scatter\", \"uid\": \"e0511f11-ca97-11e8-afdc-d89ef3991fb3\"}], {\"title\": \"24h\\u62c6\\u5206\\u8fc7\\u6ee4\\u7387&48h\\u62c6\\u5206\\u8fc7\\u6ee4\\u7387\\u6708\\u8d8b\\u52bf\\u56fe\", \"xaxis\": {\"mirror\": \"all\", \"nticks\": 20, \"showgrid\": true, \"showline\": true, \"title\": \"\\u6708\", \"zeroline\": true}, \"yaxis\": {\"mirror\": \"all\", \"nticks\": 20, \"showgrid\": true, \"showline\": true, \"title\": \"24h\\u62c6\\u5206\\u8fc7\\u6ee4\\u7387&48h\\u62c6\\u5206\\u8fc7\\u6ee4\\u7387\", \"zeroline\": true}}, {\"showLink\": true, \"linkText\": \"Export to plot.ly\"})});</script>"
      ]
     },
     "metadata": {},
     "output_type": "display_data"
    }
   ],
   "source": [
    "data_dict = {'24h拆分过滤率':['24h完成批次数', '下机批次数'], '48h拆分过滤率':['48h完成批次数', '下机批次数']}\n",
    "myModule.plot( all_dict, data_dict, '人员' ,  'line' , all='all')"
   ]
  },
  {
   "cell_type": "markdown",
   "metadata": {},
   "source": [
    "#### 平均反馈时长"
   ]
  },
  {
   "cell_type": "code",
   "execution_count": 18,
   "metadata": {
    "collapsed": false
   },
   "outputs": [
    {
     "data": {
      "application/vnd.plotly.v1+json": {
       "data": [
        {
         "name": "平均反馈时长",
         "type": "scatter",
         "uid": "e0a4d21e-ca97-11e8-9bb4-d89ef3991fb3",
         "x": [
          "8-1",
          "8-2",
          "8-3",
          "8-4",
          "9-1",
          "9-2",
          "9-3",
          "9-4"
         ],
         "y": [
          6,
          0,
          49.22,
          18.07,
          54.230000000000004,
          22.200000000000003,
          11.26,
          16.66
         ]
        }
       ],
       "layout": {
        "title": "平均反馈时长周趋势图",
        "xaxis": {
         "mirror": "all",
         "nticks": 20,
         "showgrid": true,
         "showline": true,
         "title": "周",
         "zeroline": true
        },
        "yaxis": {
         "mirror": "all",
         "nticks": 20,
         "showgrid": true,
         "showline": true,
         "title": "平均反馈时长",
         "zeroline": true
        }
       }
      },
      "text/html": [
       "<div id=\"64562425-5365-4527-b6fe-2b1dd250c477\" style=\"height: 525px; width: 100%;\" class=\"plotly-graph-div\"></div><script type=\"text/javascript\">require([\"plotly\"], function(Plotly) { window.PLOTLYENV=window.PLOTLYENV || {};window.PLOTLYENV.BASE_URL=\"https://plot.ly\";Plotly.newPlot(\"64562425-5365-4527-b6fe-2b1dd250c477\", [{\"name\": \"\\u5e73\\u5747\\u53cd\\u9988\\u65f6\\u957f\", \"x\": [\"8-1\", \"8-2\", \"8-3\", \"8-4\", \"9-1\", \"9-2\", \"9-3\", \"9-4\"], \"y\": [6.0, 0.0, 49.22, 18.07, 54.230000000000004, 22.200000000000003, 11.26, 16.66], \"type\": \"scatter\", \"uid\": \"e0a4d21e-ca97-11e8-9bb4-d89ef3991fb3\"}], {\"title\": \"\\u5e73\\u5747\\u53cd\\u9988\\u65f6\\u957f\\u5468\\u8d8b\\u52bf\\u56fe\", \"xaxis\": {\"mirror\": \"all\", \"nticks\": 20, \"showgrid\": true, \"showline\": true, \"title\": \"\\u5468\", \"zeroline\": true}, \"yaxis\": {\"mirror\": \"all\", \"nticks\": 20, \"showgrid\": true, \"showline\": true, \"title\": \"\\u5e73\\u5747\\u53cd\\u9988\\u65f6\\u957f\", \"zeroline\": true}}, {\"showLink\": true, \"linkText\": \"Export to plot.ly\"})});</script>"
      ],
      "text/vnd.plotly.v1+html": [
       "<div id=\"64562425-5365-4527-b6fe-2b1dd250c477\" style=\"height: 525px; width: 100%;\" class=\"plotly-graph-div\"></div><script type=\"text/javascript\">require([\"plotly\"], function(Plotly) { window.PLOTLYENV=window.PLOTLYENV || {};window.PLOTLYENV.BASE_URL=\"https://plot.ly\";Plotly.newPlot(\"64562425-5365-4527-b6fe-2b1dd250c477\", [{\"name\": \"\\u5e73\\u5747\\u53cd\\u9988\\u65f6\\u957f\", \"x\": [\"8-1\", \"8-2\", \"8-3\", \"8-4\", \"9-1\", \"9-2\", \"9-3\", \"9-4\"], \"y\": [6.0, 0.0, 49.22, 18.07, 54.230000000000004, 22.200000000000003, 11.26, 16.66], \"type\": \"scatter\", \"uid\": \"e0a4d21e-ca97-11e8-9bb4-d89ef3991fb3\"}], {\"title\": \"\\u5e73\\u5747\\u53cd\\u9988\\u65f6\\u957f\\u5468\\u8d8b\\u52bf\\u56fe\", \"xaxis\": {\"mirror\": \"all\", \"nticks\": 20, \"showgrid\": true, \"showline\": true, \"title\": \"\\u5468\", \"zeroline\": true}, \"yaxis\": {\"mirror\": \"all\", \"nticks\": 20, \"showgrid\": true, \"showline\": true, \"title\": \"\\u5e73\\u5747\\u53cd\\u9988\\u65f6\\u957f\", \"zeroline\": true}}, {\"showLink\": true, \"linkText\": \"Export to plot.ly\"})});</script>"
      ]
     },
     "metadata": {},
     "output_type": "display_data"
    },
    {
     "data": {
      "application/vnd.plotly.v1+json": {
       "data": [
        {
         "name": "平均反馈时长",
         "type": "scatter",
         "uid": "e0afc728-ca97-11e8-b8d6-d89ef3991fb3",
         "x": [
          "8",
          "9"
         ],
         "y": [
          73.28999999999999,
          104.35000000000001
         ]
        }
       ],
       "layout": {
        "title": "平均反馈时长月趋势图",
        "xaxis": {
         "mirror": "all",
         "nticks": 20,
         "showgrid": true,
         "showline": true,
         "title": "月",
         "zeroline": true
        },
        "yaxis": {
         "mirror": "all",
         "nticks": 20,
         "showgrid": true,
         "showline": true,
         "title": "平均反馈时长",
         "zeroline": true
        }
       }
      },
      "text/html": [
       "<div id=\"eb586851-cb28-4d03-930f-8947cced042b\" style=\"height: 525px; width: 100%;\" class=\"plotly-graph-div\"></div><script type=\"text/javascript\">require([\"plotly\"], function(Plotly) { window.PLOTLYENV=window.PLOTLYENV || {};window.PLOTLYENV.BASE_URL=\"https://plot.ly\";Plotly.newPlot(\"eb586851-cb28-4d03-930f-8947cced042b\", [{\"name\": \"\\u5e73\\u5747\\u53cd\\u9988\\u65f6\\u957f\", \"x\": [\"8\", \"9\"], \"y\": [73.28999999999999, 104.35000000000001], \"type\": \"scatter\", \"uid\": \"e0afc728-ca97-11e8-b8d6-d89ef3991fb3\"}], {\"title\": \"\\u5e73\\u5747\\u53cd\\u9988\\u65f6\\u957f\\u6708\\u8d8b\\u52bf\\u56fe\", \"xaxis\": {\"mirror\": \"all\", \"nticks\": 20, \"showgrid\": true, \"showline\": true, \"title\": \"\\u6708\", \"zeroline\": true}, \"yaxis\": {\"mirror\": \"all\", \"nticks\": 20, \"showgrid\": true, \"showline\": true, \"title\": \"\\u5e73\\u5747\\u53cd\\u9988\\u65f6\\u957f\", \"zeroline\": true}}, {\"showLink\": true, \"linkText\": \"Export to plot.ly\"})});</script>"
      ],
      "text/vnd.plotly.v1+html": [
       "<div id=\"eb586851-cb28-4d03-930f-8947cced042b\" style=\"height: 525px; width: 100%;\" class=\"plotly-graph-div\"></div><script type=\"text/javascript\">require([\"plotly\"], function(Plotly) { window.PLOTLYENV=window.PLOTLYENV || {};window.PLOTLYENV.BASE_URL=\"https://plot.ly\";Plotly.newPlot(\"eb586851-cb28-4d03-930f-8947cced042b\", [{\"name\": \"\\u5e73\\u5747\\u53cd\\u9988\\u65f6\\u957f\", \"x\": [\"8\", \"9\"], \"y\": [73.28999999999999, 104.35000000000001], \"type\": \"scatter\", \"uid\": \"e0afc728-ca97-11e8-b8d6-d89ef3991fb3\"}], {\"title\": \"\\u5e73\\u5747\\u53cd\\u9988\\u65f6\\u957f\\u6708\\u8d8b\\u52bf\\u56fe\", \"xaxis\": {\"mirror\": \"all\", \"nticks\": 20, \"showgrid\": true, \"showline\": true, \"title\": \"\\u6708\", \"zeroline\": true}, \"yaxis\": {\"mirror\": \"all\", \"nticks\": 20, \"showgrid\": true, \"showline\": true, \"title\": \"\\u5e73\\u5747\\u53cd\\u9988\\u65f6\\u957f\", \"zeroline\": true}}, {\"showLink\": true, \"linkText\": \"Export to plot.ly\"})});</script>"
      ]
     },
     "metadata": {},
     "output_type": "display_data"
    }
   ],
   "source": [
    "data_dict = {'平均反馈时长':['平均反馈时长']}\n",
    "myModule.plot( all_dict, data_dict, '人员' ,  'line' , all='all')"
   ]
  },
  {
   "cell_type": "markdown",
   "metadata": {},
   "source": [
    "### 异常"
   ]
  },
  {
   "cell_type": "markdown",
   "metadata": {},
   "source": [
    "#### 个性化过滤"
   ]
  },
  {
   "cell_type": "code",
   "execution_count": 19,
   "metadata": {
    "collapsed": false
   },
   "outputs": [
    {
     "data": {
      "application/vnd.plotly.v1+json": {
       "data": [
        {
         "name": "个性化数",
         "type": "bar",
         "uid": "e114d386-ca97-11e8-8643-d89ef3991fb3",
         "x": [
          "8-1",
          "8-2",
          "8-3",
          "8-4",
          "9-1",
          "9-2",
          "9-3",
          "9-4"
         ],
         "y": [
          6,
          0,
          0,
          0,
          1,
          2,
          0,
          0
         ]
        }
       ],
       "layout": {
        "title": "个性化数周趋势图",
        "xaxis": {
         "mirror": "all",
         "nticks": 20,
         "showgrid": true,
         "showline": true,
         "title": "周",
         "zeroline": true
        },
        "yaxis": {
         "mirror": "all",
         "nticks": 20,
         "showgrid": true,
         "showline": true,
         "title": "个性化数",
         "zeroline": true
        }
       }
      },
      "text/html": [
       "<div id=\"e15c7470-17ab-4efb-a1ff-adf56d29e515\" style=\"height: 525px; width: 100%;\" class=\"plotly-graph-div\"></div><script type=\"text/javascript\">require([\"plotly\"], function(Plotly) { window.PLOTLYENV=window.PLOTLYENV || {};window.PLOTLYENV.BASE_URL=\"https://plot.ly\";Plotly.newPlot(\"e15c7470-17ab-4efb-a1ff-adf56d29e515\", [{\"name\": \"\\u4e2a\\u6027\\u5316\\u6570\", \"x\": [\"8-1\", \"8-2\", \"8-3\", \"8-4\", \"9-1\", \"9-2\", \"9-3\", \"9-4\"], \"y\": [6.0, 0.0, 0.0, 0.0, 1.0, 2.0, 0.0, 0.0], \"type\": \"bar\", \"uid\": \"e114d386-ca97-11e8-8643-d89ef3991fb3\"}], {\"title\": \"\\u4e2a\\u6027\\u5316\\u6570\\u5468\\u8d8b\\u52bf\\u56fe\", \"xaxis\": {\"mirror\": \"all\", \"nticks\": 20, \"showgrid\": true, \"showline\": true, \"title\": \"\\u5468\", \"zeroline\": true}, \"yaxis\": {\"mirror\": \"all\", \"nticks\": 20, \"showgrid\": true, \"showline\": true, \"title\": \"\\u4e2a\\u6027\\u5316\\u6570\", \"zeroline\": true}}, {\"showLink\": true, \"linkText\": \"Export to plot.ly\"})});</script>"
      ],
      "text/vnd.plotly.v1+html": [
       "<div id=\"e15c7470-17ab-4efb-a1ff-adf56d29e515\" style=\"height: 525px; width: 100%;\" class=\"plotly-graph-div\"></div><script type=\"text/javascript\">require([\"plotly\"], function(Plotly) { window.PLOTLYENV=window.PLOTLYENV || {};window.PLOTLYENV.BASE_URL=\"https://plot.ly\";Plotly.newPlot(\"e15c7470-17ab-4efb-a1ff-adf56d29e515\", [{\"name\": \"\\u4e2a\\u6027\\u5316\\u6570\", \"x\": [\"8-1\", \"8-2\", \"8-3\", \"8-4\", \"9-1\", \"9-2\", \"9-3\", \"9-4\"], \"y\": [6.0, 0.0, 0.0, 0.0, 1.0, 2.0, 0.0, 0.0], \"type\": \"bar\", \"uid\": \"e114d386-ca97-11e8-8643-d89ef3991fb3\"}], {\"title\": \"\\u4e2a\\u6027\\u5316\\u6570\\u5468\\u8d8b\\u52bf\\u56fe\", \"xaxis\": {\"mirror\": \"all\", \"nticks\": 20, \"showgrid\": true, \"showline\": true, \"title\": \"\\u5468\", \"zeroline\": true}, \"yaxis\": {\"mirror\": \"all\", \"nticks\": 20, \"showgrid\": true, \"showline\": true, \"title\": \"\\u4e2a\\u6027\\u5316\\u6570\", \"zeroline\": true}}, {\"showLink\": true, \"linkText\": \"Export to plot.ly\"})});</script>"
      ]
     },
     "metadata": {},
     "output_type": "display_data"
    },
    {
     "data": {
      "application/vnd.plotly.v1+json": {
       "data": [
        {
         "name": "个性化数",
         "type": "bar",
         "uid": "e11e90e2-ca97-11e8-8c85-d89ef3991fb3",
         "x": [
          "8",
          "9"
         ],
         "y": [
          6,
          3
         ]
        }
       ],
       "layout": {
        "title": "个性化数月趋势图",
        "xaxis": {
         "mirror": "all",
         "nticks": 20,
         "showgrid": true,
         "showline": true,
         "title": "月",
         "zeroline": true
        },
        "yaxis": {
         "mirror": "all",
         "nticks": 20,
         "showgrid": true,
         "showline": true,
         "title": "个性化数",
         "zeroline": true
        }
       }
      },
      "text/html": [
       "<div id=\"f2180425-26c2-42c2-bfff-35613b79b793\" style=\"height: 525px; width: 100%;\" class=\"plotly-graph-div\"></div><script type=\"text/javascript\">require([\"plotly\"], function(Plotly) { window.PLOTLYENV=window.PLOTLYENV || {};window.PLOTLYENV.BASE_URL=\"https://plot.ly\";Plotly.newPlot(\"f2180425-26c2-42c2-bfff-35613b79b793\", [{\"name\": \"\\u4e2a\\u6027\\u5316\\u6570\", \"x\": [\"8\", \"9\"], \"y\": [6.0, 3.0], \"type\": \"bar\", \"uid\": \"e11e90e2-ca97-11e8-8c85-d89ef3991fb3\"}], {\"title\": \"\\u4e2a\\u6027\\u5316\\u6570\\u6708\\u8d8b\\u52bf\\u56fe\", \"xaxis\": {\"mirror\": \"all\", \"nticks\": 20, \"showgrid\": true, \"showline\": true, \"title\": \"\\u6708\", \"zeroline\": true}, \"yaxis\": {\"mirror\": \"all\", \"nticks\": 20, \"showgrid\": true, \"showline\": true, \"title\": \"\\u4e2a\\u6027\\u5316\\u6570\", \"zeroline\": true}}, {\"showLink\": true, \"linkText\": \"Export to plot.ly\"})});</script>"
      ],
      "text/vnd.plotly.v1+html": [
       "<div id=\"f2180425-26c2-42c2-bfff-35613b79b793\" style=\"height: 525px; width: 100%;\" class=\"plotly-graph-div\"></div><script type=\"text/javascript\">require([\"plotly\"], function(Plotly) { window.PLOTLYENV=window.PLOTLYENV || {};window.PLOTLYENV.BASE_URL=\"https://plot.ly\";Plotly.newPlot(\"f2180425-26c2-42c2-bfff-35613b79b793\", [{\"name\": \"\\u4e2a\\u6027\\u5316\\u6570\", \"x\": [\"8\", \"9\"], \"y\": [6.0, 3.0], \"type\": \"bar\", \"uid\": \"e11e90e2-ca97-11e8-8c85-d89ef3991fb3\"}], {\"title\": \"\\u4e2a\\u6027\\u5316\\u6570\\u6708\\u8d8b\\u52bf\\u56fe\", \"xaxis\": {\"mirror\": \"all\", \"nticks\": 20, \"showgrid\": true, \"showline\": true, \"title\": \"\\u6708\", \"zeroline\": true}, \"yaxis\": {\"mirror\": \"all\", \"nticks\": 20, \"showgrid\": true, \"showline\": true, \"title\": \"\\u4e2a\\u6027\\u5316\\u6570\", \"zeroline\": true}}, {\"showLink\": true, \"linkText\": \"Export to plot.ly\"})});</script>"
      ]
     },
     "metadata": {},
     "output_type": "display_data"
    }
   ],
   "source": [
    "data_dict = {'个性化数':['个性化数']}\n",
    "myModule.plot( all_dict, data_dict, '人员' ,  'bar' , all='all')"
   ]
  },
  {
   "cell_type": "markdown",
   "metadata": {},
   "source": [
    "#### lims异常数和下单错误数"
   ]
  },
  {
   "cell_type": "code",
   "execution_count": 20,
   "metadata": {
    "collapsed": false
   },
   "outputs": [
    {
     "data": {
      "application/vnd.plotly.v1+json": {
       "data": [
        {
         "name": "lims异常数",
         "type": "scatter",
         "uid": "e18154d4-ca97-11e8-b9d5-d89ef3991fb3",
         "x": [
          "8-1",
          "8-2",
          "8-3",
          "8-4",
          "9-1",
          "9-2",
          "9-3",
          "9-4"
         ],
         "y": [
          6,
          0,
          0,
          0,
          0,
          0,
          0,
          0
         ]
        },
        {
         "name": "下单错误数",
         "type": "scatter",
         "uid": "e18154d5-ca97-11e8-980e-d89ef3991fb3",
         "x": [
          "8-1",
          "8-2",
          "8-3",
          "8-4",
          "9-1",
          "9-2",
          "9-3",
          "9-4"
         ],
         "y": [
          6,
          0,
          0,
          0,
          0,
          0,
          0,
          0
         ]
        }
       ],
       "layout": {
        "title": "lims异常数&下单错误数周趋势图",
        "xaxis": {
         "mirror": "all",
         "nticks": 20,
         "showgrid": true,
         "showline": true,
         "title": "周",
         "zeroline": true
        },
        "yaxis": {
         "mirror": "all",
         "nticks": 20,
         "showgrid": true,
         "showline": true,
         "title": "lims异常数&下单错误数",
         "zeroline": true
        }
       }
      },
      "text/html": [
       "<div id=\"e381b476-d822-44c0-8334-067f9d513c13\" style=\"height: 525px; width: 100%;\" class=\"plotly-graph-div\"></div><script type=\"text/javascript\">require([\"plotly\"], function(Plotly) { window.PLOTLYENV=window.PLOTLYENV || {};window.PLOTLYENV.BASE_URL=\"https://plot.ly\";Plotly.newPlot(\"e381b476-d822-44c0-8334-067f9d513c13\", [{\"name\": \"lims\\u5f02\\u5e38\\u6570\", \"x\": [\"8-1\", \"8-2\", \"8-3\", \"8-4\", \"9-1\", \"9-2\", \"9-3\", \"9-4\"], \"y\": [6.0, 0.0, 0.0, 0.0, 0.0, 0.0, 0.0, 0.0], \"type\": \"scatter\", \"uid\": \"e18154d4-ca97-11e8-b9d5-d89ef3991fb3\"}, {\"name\": \"\\u4e0b\\u5355\\u9519\\u8bef\\u6570\", \"x\": [\"8-1\", \"8-2\", \"8-3\", \"8-4\", \"9-1\", \"9-2\", \"9-3\", \"9-4\"], \"y\": [6.0, 0.0, 0.0, 0.0, 0.0, 0.0, 0.0, 0.0], \"type\": \"scatter\", \"uid\": \"e18154d5-ca97-11e8-980e-d89ef3991fb3\"}], {\"title\": \"lims\\u5f02\\u5e38\\u6570&\\u4e0b\\u5355\\u9519\\u8bef\\u6570\\u5468\\u8d8b\\u52bf\\u56fe\", \"xaxis\": {\"mirror\": \"all\", \"nticks\": 20, \"showgrid\": true, \"showline\": true, \"title\": \"\\u5468\", \"zeroline\": true}, \"yaxis\": {\"mirror\": \"all\", \"nticks\": 20, \"showgrid\": true, \"showline\": true, \"title\": \"lims\\u5f02\\u5e38\\u6570&\\u4e0b\\u5355\\u9519\\u8bef\\u6570\", \"zeroline\": true}}, {\"showLink\": true, \"linkText\": \"Export to plot.ly\"})});</script>"
      ],
      "text/vnd.plotly.v1+html": [
       "<div id=\"e381b476-d822-44c0-8334-067f9d513c13\" style=\"height: 525px; width: 100%;\" class=\"plotly-graph-div\"></div><script type=\"text/javascript\">require([\"plotly\"], function(Plotly) { window.PLOTLYENV=window.PLOTLYENV || {};window.PLOTLYENV.BASE_URL=\"https://plot.ly\";Plotly.newPlot(\"e381b476-d822-44c0-8334-067f9d513c13\", [{\"name\": \"lims\\u5f02\\u5e38\\u6570\", \"x\": [\"8-1\", \"8-2\", \"8-3\", \"8-4\", \"9-1\", \"9-2\", \"9-3\", \"9-4\"], \"y\": [6.0, 0.0, 0.0, 0.0, 0.0, 0.0, 0.0, 0.0], \"type\": \"scatter\", \"uid\": \"e18154d4-ca97-11e8-b9d5-d89ef3991fb3\"}, {\"name\": \"\\u4e0b\\u5355\\u9519\\u8bef\\u6570\", \"x\": [\"8-1\", \"8-2\", \"8-3\", \"8-4\", \"9-1\", \"9-2\", \"9-3\", \"9-4\"], \"y\": [6.0, 0.0, 0.0, 0.0, 0.0, 0.0, 0.0, 0.0], \"type\": \"scatter\", \"uid\": \"e18154d5-ca97-11e8-980e-d89ef3991fb3\"}], {\"title\": \"lims\\u5f02\\u5e38\\u6570&\\u4e0b\\u5355\\u9519\\u8bef\\u6570\\u5468\\u8d8b\\u52bf\\u56fe\", \"xaxis\": {\"mirror\": \"all\", \"nticks\": 20, \"showgrid\": true, \"showline\": true, \"title\": \"\\u5468\", \"zeroline\": true}, \"yaxis\": {\"mirror\": \"all\", \"nticks\": 20, \"showgrid\": true, \"showline\": true, \"title\": \"lims\\u5f02\\u5e38\\u6570&\\u4e0b\\u5355\\u9519\\u8bef\\u6570\", \"zeroline\": true}}, {\"showLink\": true, \"linkText\": \"Export to plot.ly\"})});</script>"
      ]
     },
     "metadata": {},
     "output_type": "display_data"
    },
    {
     "data": {
      "application/vnd.plotly.v1+json": {
       "data": [
        {
         "name": "lims异常数",
         "type": "scatter",
         "uid": "e1948192-ca97-11e8-b7b4-d89ef3991fb3",
         "x": [
          "8",
          "9"
         ],
         "y": [
          6,
          0
         ]
        },
        {
         "name": "下单错误数",
         "type": "scatter",
         "uid": "e1948193-ca97-11e8-aafa-d89ef3991fb3",
         "x": [
          "8",
          "9"
         ],
         "y": [
          6,
          0
         ]
        }
       ],
       "layout": {
        "title": "lims异常数&下单错误数月趋势图",
        "xaxis": {
         "mirror": "all",
         "nticks": 20,
         "showgrid": true,
         "showline": true,
         "title": "月",
         "zeroline": true
        },
        "yaxis": {
         "mirror": "all",
         "nticks": 20,
         "showgrid": true,
         "showline": true,
         "title": "lims异常数&下单错误数",
         "zeroline": true
        }
       }
      },
      "text/html": [
       "<div id=\"5fa2fa46-52dc-4cda-a571-bd0b0c1802c6\" style=\"height: 525px; width: 100%;\" class=\"plotly-graph-div\"></div><script type=\"text/javascript\">require([\"plotly\"], function(Plotly) { window.PLOTLYENV=window.PLOTLYENV || {};window.PLOTLYENV.BASE_URL=\"https://plot.ly\";Plotly.newPlot(\"5fa2fa46-52dc-4cda-a571-bd0b0c1802c6\", [{\"name\": \"lims\\u5f02\\u5e38\\u6570\", \"x\": [\"8\", \"9\"], \"y\": [6.0, 0.0], \"type\": \"scatter\", \"uid\": \"e1948192-ca97-11e8-b7b4-d89ef3991fb3\"}, {\"name\": \"\\u4e0b\\u5355\\u9519\\u8bef\\u6570\", \"x\": [\"8\", \"9\"], \"y\": [6.0, 0.0], \"type\": \"scatter\", \"uid\": \"e1948193-ca97-11e8-aafa-d89ef3991fb3\"}], {\"title\": \"lims\\u5f02\\u5e38\\u6570&\\u4e0b\\u5355\\u9519\\u8bef\\u6570\\u6708\\u8d8b\\u52bf\\u56fe\", \"xaxis\": {\"mirror\": \"all\", \"nticks\": 20, \"showgrid\": true, \"showline\": true, \"title\": \"\\u6708\", \"zeroline\": true}, \"yaxis\": {\"mirror\": \"all\", \"nticks\": 20, \"showgrid\": true, \"showline\": true, \"title\": \"lims\\u5f02\\u5e38\\u6570&\\u4e0b\\u5355\\u9519\\u8bef\\u6570\", \"zeroline\": true}}, {\"showLink\": true, \"linkText\": \"Export to plot.ly\"})});</script>"
      ],
      "text/vnd.plotly.v1+html": [
       "<div id=\"5fa2fa46-52dc-4cda-a571-bd0b0c1802c6\" style=\"height: 525px; width: 100%;\" class=\"plotly-graph-div\"></div><script type=\"text/javascript\">require([\"plotly\"], function(Plotly) { window.PLOTLYENV=window.PLOTLYENV || {};window.PLOTLYENV.BASE_URL=\"https://plot.ly\";Plotly.newPlot(\"5fa2fa46-52dc-4cda-a571-bd0b0c1802c6\", [{\"name\": \"lims\\u5f02\\u5e38\\u6570\", \"x\": [\"8\", \"9\"], \"y\": [6.0, 0.0], \"type\": \"scatter\", \"uid\": \"e1948192-ca97-11e8-b7b4-d89ef3991fb3\"}, {\"name\": \"\\u4e0b\\u5355\\u9519\\u8bef\\u6570\", \"x\": [\"8\", \"9\"], \"y\": [6.0, 0.0], \"type\": \"scatter\", \"uid\": \"e1948193-ca97-11e8-aafa-d89ef3991fb3\"}], {\"title\": \"lims\\u5f02\\u5e38\\u6570&\\u4e0b\\u5355\\u9519\\u8bef\\u6570\\u6708\\u8d8b\\u52bf\\u56fe\", \"xaxis\": {\"mirror\": \"all\", \"nticks\": 20, \"showgrid\": true, \"showline\": true, \"title\": \"\\u6708\", \"zeroline\": true}, \"yaxis\": {\"mirror\": \"all\", \"nticks\": 20, \"showgrid\": true, \"showline\": true, \"title\": \"lims\\u5f02\\u5e38\\u6570&\\u4e0b\\u5355\\u9519\\u8bef\\u6570\", \"zeroline\": true}}, {\"showLink\": true, \"linkText\": \"Export to plot.ly\"})});</script>"
      ]
     },
     "metadata": {},
     "output_type": "display_data"
    }
   ],
   "source": [
    "data_dict = {'lims异常数':['lims异常数'], '下单错误数':['下单错误数']}\n",
    "myModule.plot( all_dict, data_dict, '人员' ,  'line' , all='all')"
   ]
  },
  {
   "cell_type": "markdown",
   "metadata": {},
   "source": [
    "#### 过滤流程异常数"
   ]
  },
  {
   "cell_type": "code",
   "execution_count": 21,
   "metadata": {
    "collapsed": false
   },
   "outputs": [
    {
     "data": {
      "application/vnd.plotly.v1+json": {
       "data": [
        {
         "name": "过滤流程异常数",
         "type": "scatter",
         "uid": "e1e1a980-ca97-11e8-90b5-d89ef3991fb3",
         "x": [
          "8-1",
          "8-2",
          "8-3",
          "8-4",
          "9-1",
          "9-2",
          "9-3",
          "9-4"
         ],
         "y": [
          6,
          0,
          0,
          0,
          0,
          0,
          0,
          0
         ]
        }
       ],
       "layout": {
        "title": "过滤流程异常数周趋势图",
        "xaxis": {
         "mirror": "all",
         "nticks": 20,
         "showgrid": true,
         "showline": true,
         "title": "周",
         "zeroline": true
        },
        "yaxis": {
         "mirror": "all",
         "nticks": 20,
         "showgrid": true,
         "showline": true,
         "title": "过滤流程异常数",
         "zeroline": true
        }
       }
      },
      "text/html": [
       "<div id=\"78413db3-c835-41b0-af00-bdc5878082f4\" style=\"height: 525px; width: 100%;\" class=\"plotly-graph-div\"></div><script type=\"text/javascript\">require([\"plotly\"], function(Plotly) { window.PLOTLYENV=window.PLOTLYENV || {};window.PLOTLYENV.BASE_URL=\"https://plot.ly\";Plotly.newPlot(\"78413db3-c835-41b0-af00-bdc5878082f4\", [{\"name\": \"\\u8fc7\\u6ee4\\u6d41\\u7a0b\\u5f02\\u5e38\\u6570\", \"x\": [\"8-1\", \"8-2\", \"8-3\", \"8-4\", \"9-1\", \"9-2\", \"9-3\", \"9-4\"], \"y\": [6.0, 0.0, 0.0, 0.0, 0.0, 0.0, 0.0, 0.0], \"type\": \"scatter\", \"uid\": \"e1e1a980-ca97-11e8-90b5-d89ef3991fb3\"}], {\"title\": \"\\u8fc7\\u6ee4\\u6d41\\u7a0b\\u5f02\\u5e38\\u6570\\u5468\\u8d8b\\u52bf\\u56fe\", \"xaxis\": {\"mirror\": \"all\", \"nticks\": 20, \"showgrid\": true, \"showline\": true, \"title\": \"\\u5468\", \"zeroline\": true}, \"yaxis\": {\"mirror\": \"all\", \"nticks\": 20, \"showgrid\": true, \"showline\": true, \"title\": \"\\u8fc7\\u6ee4\\u6d41\\u7a0b\\u5f02\\u5e38\\u6570\", \"zeroline\": true}}, {\"showLink\": true, \"linkText\": \"Export to plot.ly\"})});</script>"
      ],
      "text/vnd.plotly.v1+html": [
       "<div id=\"78413db3-c835-41b0-af00-bdc5878082f4\" style=\"height: 525px; width: 100%;\" class=\"plotly-graph-div\"></div><script type=\"text/javascript\">require([\"plotly\"], function(Plotly) { window.PLOTLYENV=window.PLOTLYENV || {};window.PLOTLYENV.BASE_URL=\"https://plot.ly\";Plotly.newPlot(\"78413db3-c835-41b0-af00-bdc5878082f4\", [{\"name\": \"\\u8fc7\\u6ee4\\u6d41\\u7a0b\\u5f02\\u5e38\\u6570\", \"x\": [\"8-1\", \"8-2\", \"8-3\", \"8-4\", \"9-1\", \"9-2\", \"9-3\", \"9-4\"], \"y\": [6.0, 0.0, 0.0, 0.0, 0.0, 0.0, 0.0, 0.0], \"type\": \"scatter\", \"uid\": \"e1e1a980-ca97-11e8-90b5-d89ef3991fb3\"}], {\"title\": \"\\u8fc7\\u6ee4\\u6d41\\u7a0b\\u5f02\\u5e38\\u6570\\u5468\\u8d8b\\u52bf\\u56fe\", \"xaxis\": {\"mirror\": \"all\", \"nticks\": 20, \"showgrid\": true, \"showline\": true, \"title\": \"\\u5468\", \"zeroline\": true}, \"yaxis\": {\"mirror\": \"all\", \"nticks\": 20, \"showgrid\": true, \"showline\": true, \"title\": \"\\u8fc7\\u6ee4\\u6d41\\u7a0b\\u5f02\\u5e38\\u6570\", \"zeroline\": true}}, {\"showLink\": true, \"linkText\": \"Export to plot.ly\"})});</script>"
      ]
     },
     "metadata": {},
     "output_type": "display_data"
    },
    {
     "data": {
      "application/vnd.plotly.v1+json": {
       "data": [
        {
         "name": "过滤流程异常数",
         "type": "scatter",
         "uid": "e1eb8dcc-ca97-11e8-ab55-d89ef3991fb3",
         "x": [
          "8",
          "9"
         ],
         "y": [
          6,
          0
         ]
        }
       ],
       "layout": {
        "title": "过滤流程异常数月趋势图",
        "xaxis": {
         "mirror": "all",
         "nticks": 20,
         "showgrid": true,
         "showline": true,
         "title": "月",
         "zeroline": true
        },
        "yaxis": {
         "mirror": "all",
         "nticks": 20,
         "showgrid": true,
         "showline": true,
         "title": "过滤流程异常数",
         "zeroline": true
        }
       }
      },
      "text/html": [
       "<div id=\"e9dc373e-8a93-41e4-8279-2ada75a08160\" style=\"height: 525px; width: 100%;\" class=\"plotly-graph-div\"></div><script type=\"text/javascript\">require([\"plotly\"], function(Plotly) { window.PLOTLYENV=window.PLOTLYENV || {};window.PLOTLYENV.BASE_URL=\"https://plot.ly\";Plotly.newPlot(\"e9dc373e-8a93-41e4-8279-2ada75a08160\", [{\"name\": \"\\u8fc7\\u6ee4\\u6d41\\u7a0b\\u5f02\\u5e38\\u6570\", \"x\": [\"8\", \"9\"], \"y\": [6.0, 0.0], \"type\": \"scatter\", \"uid\": \"e1eb8dcc-ca97-11e8-ab55-d89ef3991fb3\"}], {\"title\": \"\\u8fc7\\u6ee4\\u6d41\\u7a0b\\u5f02\\u5e38\\u6570\\u6708\\u8d8b\\u52bf\\u56fe\", \"xaxis\": {\"mirror\": \"all\", \"nticks\": 20, \"showgrid\": true, \"showline\": true, \"title\": \"\\u6708\", \"zeroline\": true}, \"yaxis\": {\"mirror\": \"all\", \"nticks\": 20, \"showgrid\": true, \"showline\": true, \"title\": \"\\u8fc7\\u6ee4\\u6d41\\u7a0b\\u5f02\\u5e38\\u6570\", \"zeroline\": true}}, {\"showLink\": true, \"linkText\": \"Export to plot.ly\"})});</script>"
      ],
      "text/vnd.plotly.v1+html": [
       "<div id=\"e9dc373e-8a93-41e4-8279-2ada75a08160\" style=\"height: 525px; width: 100%;\" class=\"plotly-graph-div\"></div><script type=\"text/javascript\">require([\"plotly\"], function(Plotly) { window.PLOTLYENV=window.PLOTLYENV || {};window.PLOTLYENV.BASE_URL=\"https://plot.ly\";Plotly.newPlot(\"e9dc373e-8a93-41e4-8279-2ada75a08160\", [{\"name\": \"\\u8fc7\\u6ee4\\u6d41\\u7a0b\\u5f02\\u5e38\\u6570\", \"x\": [\"8\", \"9\"], \"y\": [6.0, 0.0], \"type\": \"scatter\", \"uid\": \"e1eb8dcc-ca97-11e8-ab55-d89ef3991fb3\"}], {\"title\": \"\\u8fc7\\u6ee4\\u6d41\\u7a0b\\u5f02\\u5e38\\u6570\\u6708\\u8d8b\\u52bf\\u56fe\", \"xaxis\": {\"mirror\": \"all\", \"nticks\": 20, \"showgrid\": true, \"showline\": true, \"title\": \"\\u6708\", \"zeroline\": true}, \"yaxis\": {\"mirror\": \"all\", \"nticks\": 20, \"showgrid\": true, \"showline\": true, \"title\": \"\\u8fc7\\u6ee4\\u6d41\\u7a0b\\u5f02\\u5e38\\u6570\", \"zeroline\": true}}, {\"showLink\": true, \"linkText\": \"Export to plot.ly\"})});</script>"
      ]
     },
     "metadata": {},
     "output_type": "display_data"
    }
   ],
   "source": [
    "data_dict = {'过滤流程异常数':['过滤流程异常数']}\n",
    "myModule.plot( all_dict, data_dict, '人员' ,  'line' , all='all')"
   ]
  },
  {
   "cell_type": "markdown",
   "metadata": {},
   "source": [
    "## 个人情况"
   ]
  },
  {
   "cell_type": "markdown",
   "metadata": {},
   "source": [
    "### 产能"
   ]
  },
  {
   "cell_type": "markdown",
   "metadata": {},
   "source": [
    "#### 下机批次"
   ]
  },
  {
   "cell_type": "code",
   "execution_count": 22,
   "metadata": {
    "collapsed": false
   },
   "outputs": [
    {
     "data": {
      "application/vnd.plotly.v1+json": {
       "data": [
        {
         "name": "沈恩惠_下机批次数",
         "type": "scatter",
         "uid": "e24a35e4-ca97-11e8-aeac-d89ef3991fb3",
         "x": [
          "8-1",
          "8-2",
          "8-3",
          "8-4",
          "9-1",
          "9-2",
          "9-3",
          "9-4"
         ],
         "y": [
          1,
          0,
          0,
          3,
          5,
          0,
          2,
          4
         ]
        },
        {
         "name": "沈恩惠_下机项目数",
         "type": "scatter",
         "uid": "e24a35e5-ca97-11e8-a638-d89ef3991fb3",
         "x": [
          "8-1",
          "8-2",
          "8-3",
          "8-4",
          "9-1",
          "9-2",
          "9-3",
          "9-4"
         ],
         "y": [
          1,
          0,
          0,
          3,
          5,
          0,
          2,
          4
         ]
        },
        {
         "name": "林文文_下机批次数",
         "type": "scatter",
         "uid": "e24a35e6-ca97-11e8-b202-d89ef3991fb3",
         "x": [
          "8-1",
          "8-2",
          "8-3",
          "8-4",
          "9-1",
          "9-2",
          "9-3",
          "9-4"
         ],
         "y": [
          1,
          0,
          2,
          4,
          4,
          2,
          2,
          2
         ]
        },
        {
         "name": "林文文_下机项目数",
         "type": "scatter",
         "uid": "e24a35e7-ca97-11e8-b2db-d89ef3991fb3",
         "x": [
          "8-1",
          "8-2",
          "8-3",
          "8-4",
          "9-1",
          "9-2",
          "9-3",
          "9-4"
         ],
         "y": [
          1,
          0,
          2,
          3,
          4,
          2,
          2,
          2
         ]
        },
        {
         "name": "高剑_下机批次数",
         "type": "scatter",
         "uid": "e24a35e8-ca97-11e8-8da7-d89ef3991fb3",
         "x": [
          "8-1",
          "8-2",
          "8-3",
          "8-4",
          "9-1",
          "9-2",
          "9-3",
          "9-4"
         ],
         "y": [
          1,
          0,
          1,
          7,
          1,
          0,
          0,
          0
         ]
        },
        {
         "name": "高剑_下机项目数",
         "type": "scatter",
         "uid": "e24a35e9-ca97-11e8-b2d0-d89ef3991fb3",
         "x": [
          "8-1",
          "8-2",
          "8-3",
          "8-4",
          "9-1",
          "9-2",
          "9-3",
          "9-4"
         ],
         "y": [
          1,
          0,
          1,
          5,
          1,
          0,
          0,
          0
         ]
        },
        {
         "name": "车天栋_下机批次数",
         "type": "scatter",
         "uid": "e24a35ea-ca97-11e8-917f-d89ef3991fb3",
         "x": [
          "8-1",
          "8-2",
          "8-3",
          "8-4",
          "9-1",
          "9-2",
          "9-3",
          "9-4"
         ],
         "y": [
          1,
          0,
          0,
          2,
          3,
          0,
          3,
          1
         ]
        },
        {
         "name": "车天栋_下机项目数",
         "type": "scatter",
         "uid": "e24a35eb-ca97-11e8-b4f0-d89ef3991fb3",
         "x": [
          "8-1",
          "8-2",
          "8-3",
          "8-4",
          "9-1",
          "9-2",
          "9-3",
          "9-4"
         ],
         "y": [
          1,
          0,
          0,
          2,
          3,
          0,
          3,
          1
         ]
        },
        {
         "name": "王传文_下机批次数",
         "type": "scatter",
         "uid": "e24a35ec-ca97-11e8-8bc2-d89ef3991fb3",
         "x": [
          "8-1",
          "8-2",
          "8-3",
          "8-4",
          "9-1",
          "9-2",
          "9-3",
          "9-4"
         ],
         "y": [
          1,
          0,
          1,
          3,
          2,
          2,
          3,
          4
         ]
        },
        {
         "name": "王传文_下机项目数",
         "type": "scatter",
         "uid": "e24a35ed-ca97-11e8-8a0f-d89ef3991fb3",
         "x": [
          "8-1",
          "8-2",
          "8-3",
          "8-4",
          "9-1",
          "9-2",
          "9-3",
          "9-4"
         ],
         "y": [
          1,
          0,
          1,
          3,
          2,
          2,
          3,
          4
         ]
        },
        {
         "name": "沈立群_下机批次数",
         "type": "scatter",
         "uid": "e24a35ee-ca97-11e8-a3d2-d89ef3991fb3",
         "x": [
          "8-1",
          "8-2",
          "8-3",
          "8-4",
          "9-1",
          "9-2",
          "9-3",
          "9-4"
         ],
         "y": [
          1,
          0,
          1,
          5,
          8,
          3,
          2,
          5
         ]
        },
        {
         "name": "沈立群_下机项目数",
         "type": "scatter",
         "uid": "e24a35ef-ca97-11e8-aa0a-d89ef3991fb3",
         "x": [
          "8-1",
          "8-2",
          "8-3",
          "8-4",
          "9-1",
          "9-2",
          "9-3",
          "9-4"
         ],
         "y": [
          1,
          0,
          1,
          4,
          6,
          2,
          2,
          4
         ]
        }
       ],
       "layout": {
        "title": "下机批次数&下机项目数周趋势图",
        "xaxis": {
         "mirror": "all",
         "nticks": 20,
         "showgrid": true,
         "showline": true,
         "title": "周",
         "zeroline": true
        },
        "yaxis": {
         "mirror": "all",
         "nticks": 20,
         "showgrid": true,
         "showline": true,
         "title": "下机批次数&下机项目数",
         "zeroline": true
        }
       }
      },
      "text/html": [
       "<div id=\"19318b3e-c5c3-4e9a-b27c-cd99ae839c75\" style=\"height: 525px; width: 100%;\" class=\"plotly-graph-div\"></div><script type=\"text/javascript\">require([\"plotly\"], function(Plotly) { window.PLOTLYENV=window.PLOTLYENV || {};window.PLOTLYENV.BASE_URL=\"https://plot.ly\";Plotly.newPlot(\"19318b3e-c5c3-4e9a-b27c-cd99ae839c75\", [{\"name\": \"\\u6c88\\u6069\\u60e0_\\u4e0b\\u673a\\u6279\\u6b21\\u6570\", \"x\": [\"8-1\", \"8-2\", \"8-3\", \"8-4\", \"9-1\", \"9-2\", \"9-3\", \"9-4\"], \"y\": [1.0, 0.0, 0.0, 3.0, 5.0, 0.0, 2.0, 4.0], \"type\": \"scatter\", \"uid\": \"e24a35e4-ca97-11e8-aeac-d89ef3991fb3\"}, {\"name\": \"\\u6c88\\u6069\\u60e0_\\u4e0b\\u673a\\u9879\\u76ee\\u6570\", \"x\": [\"8-1\", \"8-2\", \"8-3\", \"8-4\", \"9-1\", \"9-2\", \"9-3\", \"9-4\"], \"y\": [1.0, 0.0, 0.0, 3.0, 5.0, 0.0, 2.0, 4.0], \"type\": \"scatter\", \"uid\": \"e24a35e5-ca97-11e8-a638-d89ef3991fb3\"}, {\"name\": \"\\u6797\\u6587\\u6587_\\u4e0b\\u673a\\u6279\\u6b21\\u6570\", \"x\": [\"8-1\", \"8-2\", \"8-3\", \"8-4\", \"9-1\", \"9-2\", \"9-3\", \"9-4\"], \"y\": [1.0, 0.0, 2.0, 4.0, 4.0, 2.0, 2.0, 2.0], \"type\": \"scatter\", \"uid\": \"e24a35e6-ca97-11e8-b202-d89ef3991fb3\"}, {\"name\": \"\\u6797\\u6587\\u6587_\\u4e0b\\u673a\\u9879\\u76ee\\u6570\", \"x\": [\"8-1\", \"8-2\", \"8-3\", \"8-4\", \"9-1\", \"9-2\", \"9-3\", \"9-4\"], \"y\": [1.0, 0.0, 2.0, 3.0, 4.0, 2.0, 2.0, 2.0], \"type\": \"scatter\", \"uid\": \"e24a35e7-ca97-11e8-b2db-d89ef3991fb3\"}, {\"name\": \"\\u9ad8\\u5251_\\u4e0b\\u673a\\u6279\\u6b21\\u6570\", \"x\": [\"8-1\", \"8-2\", \"8-3\", \"8-4\", \"9-1\", \"9-2\", \"9-3\", \"9-4\"], \"y\": [1.0, 0.0, 1.0, 7.0, 1.0, 0.0, 0.0, 0.0], \"type\": \"scatter\", \"uid\": \"e24a35e8-ca97-11e8-8da7-d89ef3991fb3\"}, {\"name\": \"\\u9ad8\\u5251_\\u4e0b\\u673a\\u9879\\u76ee\\u6570\", \"x\": [\"8-1\", \"8-2\", \"8-3\", \"8-4\", \"9-1\", \"9-2\", \"9-3\", \"9-4\"], \"y\": [1.0, 0.0, 1.0, 5.0, 1.0, 0.0, 0.0, 0.0], \"type\": \"scatter\", \"uid\": \"e24a35e9-ca97-11e8-b2d0-d89ef3991fb3\"}, {\"name\": \"\\u8f66\\u5929\\u680b_\\u4e0b\\u673a\\u6279\\u6b21\\u6570\", \"x\": [\"8-1\", \"8-2\", \"8-3\", \"8-4\", \"9-1\", \"9-2\", \"9-3\", \"9-4\"], \"y\": [1.0, 0.0, 0.0, 2.0, 3.0, 0.0, 3.0, 1.0], \"type\": \"scatter\", \"uid\": \"e24a35ea-ca97-11e8-917f-d89ef3991fb3\"}, {\"name\": \"\\u8f66\\u5929\\u680b_\\u4e0b\\u673a\\u9879\\u76ee\\u6570\", \"x\": [\"8-1\", \"8-2\", \"8-3\", \"8-4\", \"9-1\", \"9-2\", \"9-3\", \"9-4\"], \"y\": [1.0, 0.0, 0.0, 2.0, 3.0, 0.0, 3.0, 1.0], \"type\": \"scatter\", \"uid\": \"e24a35eb-ca97-11e8-b4f0-d89ef3991fb3\"}, {\"name\": \"\\u738b\\u4f20\\u6587_\\u4e0b\\u673a\\u6279\\u6b21\\u6570\", \"x\": [\"8-1\", \"8-2\", \"8-3\", \"8-4\", \"9-1\", \"9-2\", \"9-3\", \"9-4\"], \"y\": [1.0, 0.0, 1.0, 3.0, 2.0, 2.0, 3.0, 4.0], \"type\": \"scatter\", \"uid\": \"e24a35ec-ca97-11e8-8bc2-d89ef3991fb3\"}, {\"name\": \"\\u738b\\u4f20\\u6587_\\u4e0b\\u673a\\u9879\\u76ee\\u6570\", \"x\": [\"8-1\", \"8-2\", \"8-3\", \"8-4\", \"9-1\", \"9-2\", \"9-3\", \"9-4\"], \"y\": [1.0, 0.0, 1.0, 3.0, 2.0, 2.0, 3.0, 4.0], \"type\": \"scatter\", \"uid\": \"e24a35ed-ca97-11e8-8a0f-d89ef3991fb3\"}, {\"name\": \"\\u6c88\\u7acb\\u7fa4_\\u4e0b\\u673a\\u6279\\u6b21\\u6570\", \"x\": [\"8-1\", \"8-2\", \"8-3\", \"8-4\", \"9-1\", \"9-2\", \"9-3\", \"9-4\"], \"y\": [1.0, 0.0, 1.0, 5.0, 8.0, 3.0, 2.0, 5.0], \"type\": \"scatter\", \"uid\": \"e24a35ee-ca97-11e8-a3d2-d89ef3991fb3\"}, {\"name\": \"\\u6c88\\u7acb\\u7fa4_\\u4e0b\\u673a\\u9879\\u76ee\\u6570\", \"x\": [\"8-1\", \"8-2\", \"8-3\", \"8-4\", \"9-1\", \"9-2\", \"9-3\", \"9-4\"], \"y\": [1.0, 0.0, 1.0, 4.0, 6.0, 2.0, 2.0, 4.0], \"type\": \"scatter\", \"uid\": \"e24a35ef-ca97-11e8-aa0a-d89ef3991fb3\"}], {\"title\": \"\\u4e0b\\u673a\\u6279\\u6b21\\u6570&\\u4e0b\\u673a\\u9879\\u76ee\\u6570\\u5468\\u8d8b\\u52bf\\u56fe\", \"xaxis\": {\"mirror\": \"all\", \"nticks\": 20, \"showgrid\": true, \"showline\": true, \"title\": \"\\u5468\", \"zeroline\": true}, \"yaxis\": {\"mirror\": \"all\", \"nticks\": 20, \"showgrid\": true, \"showline\": true, \"title\": \"\\u4e0b\\u673a\\u6279\\u6b21\\u6570&\\u4e0b\\u673a\\u9879\\u76ee\\u6570\", \"zeroline\": true}}, {\"showLink\": true, \"linkText\": \"Export to plot.ly\"})});</script>"
      ],
      "text/vnd.plotly.v1+html": [
       "<div id=\"19318b3e-c5c3-4e9a-b27c-cd99ae839c75\" style=\"height: 525px; width: 100%;\" class=\"plotly-graph-div\"></div><script type=\"text/javascript\">require([\"plotly\"], function(Plotly) { window.PLOTLYENV=window.PLOTLYENV || {};window.PLOTLYENV.BASE_URL=\"https://plot.ly\";Plotly.newPlot(\"19318b3e-c5c3-4e9a-b27c-cd99ae839c75\", [{\"name\": \"\\u6c88\\u6069\\u60e0_\\u4e0b\\u673a\\u6279\\u6b21\\u6570\", \"x\": [\"8-1\", \"8-2\", \"8-3\", \"8-4\", \"9-1\", \"9-2\", \"9-3\", \"9-4\"], \"y\": [1.0, 0.0, 0.0, 3.0, 5.0, 0.0, 2.0, 4.0], \"type\": \"scatter\", \"uid\": \"e24a35e4-ca97-11e8-aeac-d89ef3991fb3\"}, {\"name\": \"\\u6c88\\u6069\\u60e0_\\u4e0b\\u673a\\u9879\\u76ee\\u6570\", \"x\": [\"8-1\", \"8-2\", \"8-3\", \"8-4\", \"9-1\", \"9-2\", \"9-3\", \"9-4\"], \"y\": [1.0, 0.0, 0.0, 3.0, 5.0, 0.0, 2.0, 4.0], \"type\": \"scatter\", \"uid\": \"e24a35e5-ca97-11e8-a638-d89ef3991fb3\"}, {\"name\": \"\\u6797\\u6587\\u6587_\\u4e0b\\u673a\\u6279\\u6b21\\u6570\", \"x\": [\"8-1\", \"8-2\", \"8-3\", \"8-4\", \"9-1\", \"9-2\", \"9-3\", \"9-4\"], \"y\": [1.0, 0.0, 2.0, 4.0, 4.0, 2.0, 2.0, 2.0], \"type\": \"scatter\", \"uid\": \"e24a35e6-ca97-11e8-b202-d89ef3991fb3\"}, {\"name\": \"\\u6797\\u6587\\u6587_\\u4e0b\\u673a\\u9879\\u76ee\\u6570\", \"x\": [\"8-1\", \"8-2\", \"8-3\", \"8-4\", \"9-1\", \"9-2\", \"9-3\", \"9-4\"], \"y\": [1.0, 0.0, 2.0, 3.0, 4.0, 2.0, 2.0, 2.0], \"type\": \"scatter\", \"uid\": \"e24a35e7-ca97-11e8-b2db-d89ef3991fb3\"}, {\"name\": \"\\u9ad8\\u5251_\\u4e0b\\u673a\\u6279\\u6b21\\u6570\", \"x\": [\"8-1\", \"8-2\", \"8-3\", \"8-4\", \"9-1\", \"9-2\", \"9-3\", \"9-4\"], \"y\": [1.0, 0.0, 1.0, 7.0, 1.0, 0.0, 0.0, 0.0], \"type\": \"scatter\", \"uid\": \"e24a35e8-ca97-11e8-8da7-d89ef3991fb3\"}, {\"name\": \"\\u9ad8\\u5251_\\u4e0b\\u673a\\u9879\\u76ee\\u6570\", \"x\": [\"8-1\", \"8-2\", \"8-3\", \"8-4\", \"9-1\", \"9-2\", \"9-3\", \"9-4\"], \"y\": [1.0, 0.0, 1.0, 5.0, 1.0, 0.0, 0.0, 0.0], \"type\": \"scatter\", \"uid\": \"e24a35e9-ca97-11e8-b2d0-d89ef3991fb3\"}, {\"name\": \"\\u8f66\\u5929\\u680b_\\u4e0b\\u673a\\u6279\\u6b21\\u6570\", \"x\": [\"8-1\", \"8-2\", \"8-3\", \"8-4\", \"9-1\", \"9-2\", \"9-3\", \"9-4\"], \"y\": [1.0, 0.0, 0.0, 2.0, 3.0, 0.0, 3.0, 1.0], \"type\": \"scatter\", \"uid\": \"e24a35ea-ca97-11e8-917f-d89ef3991fb3\"}, {\"name\": \"\\u8f66\\u5929\\u680b_\\u4e0b\\u673a\\u9879\\u76ee\\u6570\", \"x\": [\"8-1\", \"8-2\", \"8-3\", \"8-4\", \"9-1\", \"9-2\", \"9-3\", \"9-4\"], \"y\": [1.0, 0.0, 0.0, 2.0, 3.0, 0.0, 3.0, 1.0], \"type\": \"scatter\", \"uid\": \"e24a35eb-ca97-11e8-b4f0-d89ef3991fb3\"}, {\"name\": \"\\u738b\\u4f20\\u6587_\\u4e0b\\u673a\\u6279\\u6b21\\u6570\", \"x\": [\"8-1\", \"8-2\", \"8-3\", \"8-4\", \"9-1\", \"9-2\", \"9-3\", \"9-4\"], \"y\": [1.0, 0.0, 1.0, 3.0, 2.0, 2.0, 3.0, 4.0], \"type\": \"scatter\", \"uid\": \"e24a35ec-ca97-11e8-8bc2-d89ef3991fb3\"}, {\"name\": \"\\u738b\\u4f20\\u6587_\\u4e0b\\u673a\\u9879\\u76ee\\u6570\", \"x\": [\"8-1\", \"8-2\", \"8-3\", \"8-4\", \"9-1\", \"9-2\", \"9-3\", \"9-4\"], \"y\": [1.0, 0.0, 1.0, 3.0, 2.0, 2.0, 3.0, 4.0], \"type\": \"scatter\", \"uid\": \"e24a35ed-ca97-11e8-8a0f-d89ef3991fb3\"}, {\"name\": \"\\u6c88\\u7acb\\u7fa4_\\u4e0b\\u673a\\u6279\\u6b21\\u6570\", \"x\": [\"8-1\", \"8-2\", \"8-3\", \"8-4\", \"9-1\", \"9-2\", \"9-3\", \"9-4\"], \"y\": [1.0, 0.0, 1.0, 5.0, 8.0, 3.0, 2.0, 5.0], \"type\": \"scatter\", \"uid\": \"e24a35ee-ca97-11e8-a3d2-d89ef3991fb3\"}, {\"name\": \"\\u6c88\\u7acb\\u7fa4_\\u4e0b\\u673a\\u9879\\u76ee\\u6570\", \"x\": [\"8-1\", \"8-2\", \"8-3\", \"8-4\", \"9-1\", \"9-2\", \"9-3\", \"9-4\"], \"y\": [1.0, 0.0, 1.0, 4.0, 6.0, 2.0, 2.0, 4.0], \"type\": \"scatter\", \"uid\": \"e24a35ef-ca97-11e8-aa0a-d89ef3991fb3\"}], {\"title\": \"\\u4e0b\\u673a\\u6279\\u6b21\\u6570&\\u4e0b\\u673a\\u9879\\u76ee\\u6570\\u5468\\u8d8b\\u52bf\\u56fe\", \"xaxis\": {\"mirror\": \"all\", \"nticks\": 20, \"showgrid\": true, \"showline\": true, \"title\": \"\\u5468\", \"zeroline\": true}, \"yaxis\": {\"mirror\": \"all\", \"nticks\": 20, \"showgrid\": true, \"showline\": true, \"title\": \"\\u4e0b\\u673a\\u6279\\u6b21\\u6570&\\u4e0b\\u673a\\u9879\\u76ee\\u6570\", \"zeroline\": true}}, {\"showLink\": true, \"linkText\": \"Export to plot.ly\"})});</script>"
      ]
     },
     "metadata": {},
     "output_type": "display_data"
    },
    {
     "data": {
      "application/vnd.plotly.v1+json": {
       "data": [
        {
         "name": "沈恩惠_下机批次数",
         "type": "scatter",
         "uid": "e2628f68-ca97-11e8-8f9f-d89ef3991fb3",
         "x": [
          "8",
          "9"
         ],
         "y": [
          4,
          11
         ]
        },
        {
         "name": "沈恩惠_下机项目数",
         "type": "scatter",
         "uid": "e2628f69-ca97-11e8-8a9f-d89ef3991fb3",
         "x": [
          "8",
          "9"
         ],
         "y": [
          4,
          11
         ]
        },
        {
         "name": "林文文_下机批次数",
         "type": "scatter",
         "uid": "e2628f6a-ca97-11e8-a726-d89ef3991fb3",
         "x": [
          "8",
          "9"
         ],
         "y": [
          7,
          10
         ]
        },
        {
         "name": "林文文_下机项目数",
         "type": "scatter",
         "uid": "e2628f6b-ca97-11e8-812b-d89ef3991fb3",
         "x": [
          "8",
          "9"
         ],
         "y": [
          6,
          10
         ]
        },
        {
         "name": "高剑_下机批次数",
         "type": "scatter",
         "uid": "e2628f6c-ca97-11e8-a2a2-d89ef3991fb3",
         "x": [
          "8",
          "9"
         ],
         "y": [
          9,
          1
         ]
        },
        {
         "name": "高剑_下机项目数",
         "type": "scatter",
         "uid": "e2628f6d-ca97-11e8-b4b0-d89ef3991fb3",
         "x": [
          "8",
          "9"
         ],
         "y": [
          7,
          1
         ]
        },
        {
         "name": "车天栋_下机批次数",
         "type": "scatter",
         "uid": "e2628f6e-ca97-11e8-9355-d89ef3991fb3",
         "x": [
          "8",
          "9"
         ],
         "y": [
          3,
          7
         ]
        },
        {
         "name": "车天栋_下机项目数",
         "type": "scatter",
         "uid": "e2628f6f-ca97-11e8-b719-d89ef3991fb3",
         "x": [
          "8",
          "9"
         ],
         "y": [
          3,
          7
         ]
        },
        {
         "name": "王传文_下机批次数",
         "type": "scatter",
         "uid": "e2628f70-ca97-11e8-b38a-d89ef3991fb3",
         "x": [
          "8",
          "9"
         ],
         "y": [
          5,
          11
         ]
        },
        {
         "name": "王传文_下机项目数",
         "type": "scatter",
         "uid": "e2628f71-ca97-11e8-92e0-d89ef3991fb3",
         "x": [
          "8",
          "9"
         ],
         "y": [
          5,
          11
         ]
        },
        {
         "name": "沈立群_下机批次数",
         "type": "scatter",
         "uid": "e2628f72-ca97-11e8-87a2-d89ef3991fb3",
         "x": [
          "8",
          "9"
         ],
         "y": [
          7,
          18
         ]
        },
        {
         "name": "沈立群_下机项目数",
         "type": "scatter",
         "uid": "e2628f73-ca97-11e8-888b-d89ef3991fb3",
         "x": [
          "8",
          "9"
         ],
         "y": [
          6,
          14
         ]
        }
       ],
       "layout": {
        "title": "下机批次数&下机项目数月趋势图",
        "xaxis": {
         "mirror": "all",
         "nticks": 20,
         "showgrid": true,
         "showline": true,
         "title": "月",
         "zeroline": true
        },
        "yaxis": {
         "mirror": "all",
         "nticks": 20,
         "showgrid": true,
         "showline": true,
         "title": "下机批次数&下机项目数",
         "zeroline": true
        }
       }
      },
      "text/html": [
       "<div id=\"98437af2-3d3e-4396-8934-f1747186058b\" style=\"height: 525px; width: 100%;\" class=\"plotly-graph-div\"></div><script type=\"text/javascript\">require([\"plotly\"], function(Plotly) { window.PLOTLYENV=window.PLOTLYENV || {};window.PLOTLYENV.BASE_URL=\"https://plot.ly\";Plotly.newPlot(\"98437af2-3d3e-4396-8934-f1747186058b\", [{\"name\": \"\\u6c88\\u6069\\u60e0_\\u4e0b\\u673a\\u6279\\u6b21\\u6570\", \"x\": [\"8\", \"9\"], \"y\": [4.0, 11.0], \"type\": \"scatter\", \"uid\": \"e2628f68-ca97-11e8-8f9f-d89ef3991fb3\"}, {\"name\": \"\\u6c88\\u6069\\u60e0_\\u4e0b\\u673a\\u9879\\u76ee\\u6570\", \"x\": [\"8\", \"9\"], \"y\": [4.0, 11.0], \"type\": \"scatter\", \"uid\": \"e2628f69-ca97-11e8-8a9f-d89ef3991fb3\"}, {\"name\": \"\\u6797\\u6587\\u6587_\\u4e0b\\u673a\\u6279\\u6b21\\u6570\", \"x\": [\"8\", \"9\"], \"y\": [7.0, 10.0], \"type\": \"scatter\", \"uid\": \"e2628f6a-ca97-11e8-a726-d89ef3991fb3\"}, {\"name\": \"\\u6797\\u6587\\u6587_\\u4e0b\\u673a\\u9879\\u76ee\\u6570\", \"x\": [\"8\", \"9\"], \"y\": [6.0, 10.0], \"type\": \"scatter\", \"uid\": \"e2628f6b-ca97-11e8-812b-d89ef3991fb3\"}, {\"name\": \"\\u9ad8\\u5251_\\u4e0b\\u673a\\u6279\\u6b21\\u6570\", \"x\": [\"8\", \"9\"], \"y\": [9.0, 1.0], \"type\": \"scatter\", \"uid\": \"e2628f6c-ca97-11e8-a2a2-d89ef3991fb3\"}, {\"name\": \"\\u9ad8\\u5251_\\u4e0b\\u673a\\u9879\\u76ee\\u6570\", \"x\": [\"8\", \"9\"], \"y\": [7.0, 1.0], \"type\": \"scatter\", \"uid\": \"e2628f6d-ca97-11e8-b4b0-d89ef3991fb3\"}, {\"name\": \"\\u8f66\\u5929\\u680b_\\u4e0b\\u673a\\u6279\\u6b21\\u6570\", \"x\": [\"8\", \"9\"], \"y\": [3.0, 7.0], \"type\": \"scatter\", \"uid\": \"e2628f6e-ca97-11e8-9355-d89ef3991fb3\"}, {\"name\": \"\\u8f66\\u5929\\u680b_\\u4e0b\\u673a\\u9879\\u76ee\\u6570\", \"x\": [\"8\", \"9\"], \"y\": [3.0, 7.0], \"type\": \"scatter\", \"uid\": \"e2628f6f-ca97-11e8-b719-d89ef3991fb3\"}, {\"name\": \"\\u738b\\u4f20\\u6587_\\u4e0b\\u673a\\u6279\\u6b21\\u6570\", \"x\": [\"8\", \"9\"], \"y\": [5.0, 11.0], \"type\": \"scatter\", \"uid\": \"e2628f70-ca97-11e8-b38a-d89ef3991fb3\"}, {\"name\": \"\\u738b\\u4f20\\u6587_\\u4e0b\\u673a\\u9879\\u76ee\\u6570\", \"x\": [\"8\", \"9\"], \"y\": [5.0, 11.0], \"type\": \"scatter\", \"uid\": \"e2628f71-ca97-11e8-92e0-d89ef3991fb3\"}, {\"name\": \"\\u6c88\\u7acb\\u7fa4_\\u4e0b\\u673a\\u6279\\u6b21\\u6570\", \"x\": [\"8\", \"9\"], \"y\": [7.0, 18.0], \"type\": \"scatter\", \"uid\": \"e2628f72-ca97-11e8-87a2-d89ef3991fb3\"}, {\"name\": \"\\u6c88\\u7acb\\u7fa4_\\u4e0b\\u673a\\u9879\\u76ee\\u6570\", \"x\": [\"8\", \"9\"], \"y\": [6.0, 14.0], \"type\": \"scatter\", \"uid\": \"e2628f73-ca97-11e8-888b-d89ef3991fb3\"}], {\"title\": \"\\u4e0b\\u673a\\u6279\\u6b21\\u6570&\\u4e0b\\u673a\\u9879\\u76ee\\u6570\\u6708\\u8d8b\\u52bf\\u56fe\", \"xaxis\": {\"mirror\": \"all\", \"nticks\": 20, \"showgrid\": true, \"showline\": true, \"title\": \"\\u6708\", \"zeroline\": true}, \"yaxis\": {\"mirror\": \"all\", \"nticks\": 20, \"showgrid\": true, \"showline\": true, \"title\": \"\\u4e0b\\u673a\\u6279\\u6b21\\u6570&\\u4e0b\\u673a\\u9879\\u76ee\\u6570\", \"zeroline\": true}}, {\"showLink\": true, \"linkText\": \"Export to plot.ly\"})});</script>"
      ],
      "text/vnd.plotly.v1+html": [
       "<div id=\"98437af2-3d3e-4396-8934-f1747186058b\" style=\"height: 525px; width: 100%;\" class=\"plotly-graph-div\"></div><script type=\"text/javascript\">require([\"plotly\"], function(Plotly) { window.PLOTLYENV=window.PLOTLYENV || {};window.PLOTLYENV.BASE_URL=\"https://plot.ly\";Plotly.newPlot(\"98437af2-3d3e-4396-8934-f1747186058b\", [{\"name\": \"\\u6c88\\u6069\\u60e0_\\u4e0b\\u673a\\u6279\\u6b21\\u6570\", \"x\": [\"8\", \"9\"], \"y\": [4.0, 11.0], \"type\": \"scatter\", \"uid\": \"e2628f68-ca97-11e8-8f9f-d89ef3991fb3\"}, {\"name\": \"\\u6c88\\u6069\\u60e0_\\u4e0b\\u673a\\u9879\\u76ee\\u6570\", \"x\": [\"8\", \"9\"], \"y\": [4.0, 11.0], \"type\": \"scatter\", \"uid\": \"e2628f69-ca97-11e8-8a9f-d89ef3991fb3\"}, {\"name\": \"\\u6797\\u6587\\u6587_\\u4e0b\\u673a\\u6279\\u6b21\\u6570\", \"x\": [\"8\", \"9\"], \"y\": [7.0, 10.0], \"type\": \"scatter\", \"uid\": \"e2628f6a-ca97-11e8-a726-d89ef3991fb3\"}, {\"name\": \"\\u6797\\u6587\\u6587_\\u4e0b\\u673a\\u9879\\u76ee\\u6570\", \"x\": [\"8\", \"9\"], \"y\": [6.0, 10.0], \"type\": \"scatter\", \"uid\": \"e2628f6b-ca97-11e8-812b-d89ef3991fb3\"}, {\"name\": \"\\u9ad8\\u5251_\\u4e0b\\u673a\\u6279\\u6b21\\u6570\", \"x\": [\"8\", \"9\"], \"y\": [9.0, 1.0], \"type\": \"scatter\", \"uid\": \"e2628f6c-ca97-11e8-a2a2-d89ef3991fb3\"}, {\"name\": \"\\u9ad8\\u5251_\\u4e0b\\u673a\\u9879\\u76ee\\u6570\", \"x\": [\"8\", \"9\"], \"y\": [7.0, 1.0], \"type\": \"scatter\", \"uid\": \"e2628f6d-ca97-11e8-b4b0-d89ef3991fb3\"}, {\"name\": \"\\u8f66\\u5929\\u680b_\\u4e0b\\u673a\\u6279\\u6b21\\u6570\", \"x\": [\"8\", \"9\"], \"y\": [3.0, 7.0], \"type\": \"scatter\", \"uid\": \"e2628f6e-ca97-11e8-9355-d89ef3991fb3\"}, {\"name\": \"\\u8f66\\u5929\\u680b_\\u4e0b\\u673a\\u9879\\u76ee\\u6570\", \"x\": [\"8\", \"9\"], \"y\": [3.0, 7.0], \"type\": \"scatter\", \"uid\": \"e2628f6f-ca97-11e8-b719-d89ef3991fb3\"}, {\"name\": \"\\u738b\\u4f20\\u6587_\\u4e0b\\u673a\\u6279\\u6b21\\u6570\", \"x\": [\"8\", \"9\"], \"y\": [5.0, 11.0], \"type\": \"scatter\", \"uid\": \"e2628f70-ca97-11e8-b38a-d89ef3991fb3\"}, {\"name\": \"\\u738b\\u4f20\\u6587_\\u4e0b\\u673a\\u9879\\u76ee\\u6570\", \"x\": [\"8\", \"9\"], \"y\": [5.0, 11.0], \"type\": \"scatter\", \"uid\": \"e2628f71-ca97-11e8-92e0-d89ef3991fb3\"}, {\"name\": \"\\u6c88\\u7acb\\u7fa4_\\u4e0b\\u673a\\u6279\\u6b21\\u6570\", \"x\": [\"8\", \"9\"], \"y\": [7.0, 18.0], \"type\": \"scatter\", \"uid\": \"e2628f72-ca97-11e8-87a2-d89ef3991fb3\"}, {\"name\": \"\\u6c88\\u7acb\\u7fa4_\\u4e0b\\u673a\\u9879\\u76ee\\u6570\", \"x\": [\"8\", \"9\"], \"y\": [6.0, 14.0], \"type\": \"scatter\", \"uid\": \"e2628f73-ca97-11e8-888b-d89ef3991fb3\"}], {\"title\": \"\\u4e0b\\u673a\\u6279\\u6b21\\u6570&\\u4e0b\\u673a\\u9879\\u76ee\\u6570\\u6708\\u8d8b\\u52bf\\u56fe\", \"xaxis\": {\"mirror\": \"all\", \"nticks\": 20, \"showgrid\": true, \"showline\": true, \"title\": \"\\u6708\", \"zeroline\": true}, \"yaxis\": {\"mirror\": \"all\", \"nticks\": 20, \"showgrid\": true, \"showline\": true, \"title\": \"\\u4e0b\\u673a\\u6279\\u6b21\\u6570&\\u4e0b\\u673a\\u9879\\u76ee\\u6570\", \"zeroline\": true}}, {\"showLink\": true, \"linkText\": \"Export to plot.ly\"})});</script>"
      ]
     },
     "metadata": {},
     "output_type": "display_data"
    }
   ],
   "source": [
    "data_dict = {'下机批次数':['下机批次数'],'下机项目数':['下机项目数']}\n",
    "myModule.plot( all_dict, data_dict, '人员' ,  'line' )"
   ]
  },
  {
   "cell_type": "markdown",
   "metadata": {},
   "source": [
    "### 效率"
   ]
  },
  {
   "cell_type": "markdown",
   "metadata": {},
   "source": [
    "#### 反馈及时率和数据及时交付率"
   ]
  },
  {
   "cell_type": "code",
   "execution_count": 23,
   "metadata": {
    "collapsed": false
   },
   "outputs": [
    {
     "data": {
      "application/vnd.plotly.v1+json": {
       "data": [
        {
         "name": "沈恩惠_反馈及时率",
         "type": "scatter",
         "uid": "e2c295f8-ca97-11e8-a0f8-d89ef3991fb3",
         "x": [
          "8-1",
          "8-2",
          "8-3",
          "8-4",
          "9-1",
          "9-2",
          "9-3",
          "9-4"
         ],
         "y": [
          1,
          null,
          null,
          1,
          0.8,
          null,
          1,
          1
         ]
        },
        {
         "name": "沈恩惠_数据及时交付率",
         "type": "scatter",
         "uid": "e2c295f9-ca97-11e8-8eea-d89ef3991fb3",
         "x": [
          "8-1",
          "8-2",
          "8-3",
          "8-4",
          "9-1",
          "9-2",
          "9-3",
          "9-4"
         ],
         "y": [
          1,
          null,
          null,
          null,
          1,
          null,
          null,
          null
         ]
        },
        {
         "name": "林文文_反馈及时率",
         "type": "scatter",
         "uid": "e2c295fa-ca97-11e8-babe-d89ef3991fb3",
         "x": [
          "8-1",
          "8-2",
          "8-3",
          "8-4",
          "9-1",
          "9-2",
          "9-3",
          "9-4"
         ],
         "y": [
          1,
          null,
          0.5,
          1,
          1,
          1,
          1,
          1
         ]
        },
        {
         "name": "林文文_数据及时交付率",
         "type": "scatter",
         "uid": "e2c295fb-ca97-11e8-a5a2-d89ef3991fb3",
         "x": [
          "8-1",
          "8-2",
          "8-3",
          "8-4",
          "9-1",
          "9-2",
          "9-3",
          "9-4"
         ],
         "y": [
          1,
          null,
          1,
          null,
          1,
          1,
          null,
          null
         ]
        },
        {
         "name": "高剑_反馈及时率",
         "type": "scatter",
         "uid": "e2c295fc-ca97-11e8-99a4-d89ef3991fb3",
         "x": [
          "8-1",
          "8-2",
          "8-3",
          "8-4",
          "9-1",
          "9-2",
          "9-3",
          "9-4"
         ],
         "y": [
          1,
          null,
          0,
          1,
          1,
          null,
          null,
          null
         ]
        },
        {
         "name": "高剑_数据及时交付率",
         "type": "scatter",
         "uid": "e2c295fd-ca97-11e8-994a-d89ef3991fb3",
         "x": [
          "8-1",
          "8-2",
          "8-3",
          "8-4",
          "9-1",
          "9-2",
          "9-3",
          "9-4"
         ],
         "y": [
          1,
          null,
          1,
          null,
          null,
          null,
          null,
          null
         ]
        },
        {
         "name": "车天栋_反馈及时率",
         "type": "scatter",
         "uid": "e2c295fe-ca97-11e8-8c0e-d89ef3991fb3",
         "x": [
          "8-1",
          "8-2",
          "8-3",
          "8-4",
          "9-1",
          "9-2",
          "9-3",
          "9-4"
         ],
         "y": [
          1,
          null,
          null,
          1,
          1,
          null,
          1,
          1
         ]
        },
        {
         "name": "车天栋_数据及时交付率",
         "type": "scatter",
         "uid": "e2c295ff-ca97-11e8-b6dc-d89ef3991fb3",
         "x": [
          "8-1",
          "8-2",
          "8-3",
          "8-4",
          "9-1",
          "9-2",
          "9-3",
          "9-4"
         ],
         "y": [
          1,
          null,
          null,
          null,
          1,
          null,
          null,
          null
         ]
        },
        {
         "name": "王传文_反馈及时率",
         "type": "scatter",
         "uid": "e2c29600-ca97-11e8-9ab3-d89ef3991fb3",
         "x": [
          "8-1",
          "8-2",
          "8-3",
          "8-4",
          "9-1",
          "9-2",
          "9-3",
          "9-4"
         ],
         "y": [
          1,
          null,
          1,
          1,
          1,
          1,
          1,
          1
         ]
        },
        {
         "name": "王传文_数据及时交付率",
         "type": "scatter",
         "uid": "e2c29601-ca97-11e8-a223-d89ef3991fb3",
         "x": [
          "8-1",
          "8-2",
          "8-3",
          "8-4",
          "9-1",
          "9-2",
          "9-3",
          "9-4"
         ],
         "y": [
          1,
          null,
          1,
          null,
          null,
          1,
          null,
          null
         ]
        },
        {
         "name": "沈立群_反馈及时率",
         "type": "scatter",
         "uid": "e2c29602-ca97-11e8-aca9-d89ef3991fb3",
         "x": [
          "8-1",
          "8-2",
          "8-3",
          "8-4",
          "9-1",
          "9-2",
          "9-3",
          "9-4"
         ],
         "y": [
          1,
          null,
          1,
          1,
          0.75,
          1,
          1,
          1
         ]
        },
        {
         "name": "沈立群_数据及时交付率",
         "type": "scatter",
         "uid": "e2c29603-ca97-11e8-8f43-d89ef3991fb3",
         "x": [
          "8-1",
          "8-2",
          "8-3",
          "8-4",
          "9-1",
          "9-2",
          "9-3",
          "9-4"
         ],
         "y": [
          1,
          null,
          1,
          null,
          1,
          1,
          null,
          null
         ]
        }
       ],
       "layout": {
        "title": "反馈及时率&数据及时交付率周趋势图",
        "xaxis": {
         "mirror": "all",
         "nticks": 20,
         "showgrid": true,
         "showline": true,
         "title": "周",
         "zeroline": true
        },
        "yaxis": {
         "mirror": "all",
         "nticks": 20,
         "showgrid": true,
         "showline": true,
         "title": "反馈及时率&数据及时交付率",
         "zeroline": true
        }
       }
      },
      "text/html": [
       "<div id=\"c298d17b-4b45-49cd-b21c-f38dbbec721e\" style=\"height: 525px; width: 100%;\" class=\"plotly-graph-div\"></div><script type=\"text/javascript\">require([\"plotly\"], function(Plotly) { window.PLOTLYENV=window.PLOTLYENV || {};window.PLOTLYENV.BASE_URL=\"https://plot.ly\";Plotly.newPlot(\"c298d17b-4b45-49cd-b21c-f38dbbec721e\", [{\"name\": \"\\u6c88\\u6069\\u60e0_\\u53cd\\u9988\\u53ca\\u65f6\\u7387\", \"x\": [\"8-1\", \"8-2\", \"8-3\", \"8-4\", \"9-1\", \"9-2\", \"9-3\", \"9-4\"], \"y\": [1.0, null, null, 1.0, 0.8, null, 1.0, 1.0], \"type\": \"scatter\", \"uid\": \"e2c295f8-ca97-11e8-a0f8-d89ef3991fb3\"}, {\"name\": \"\\u6c88\\u6069\\u60e0_\\u6570\\u636e\\u53ca\\u65f6\\u4ea4\\u4ed8\\u7387\", \"x\": [\"8-1\", \"8-2\", \"8-3\", \"8-4\", \"9-1\", \"9-2\", \"9-3\", \"9-4\"], \"y\": [1.0, null, null, null, 1.0, null, null, null], \"type\": \"scatter\", \"uid\": \"e2c295f9-ca97-11e8-8eea-d89ef3991fb3\"}, {\"name\": \"\\u6797\\u6587\\u6587_\\u53cd\\u9988\\u53ca\\u65f6\\u7387\", \"x\": [\"8-1\", \"8-2\", \"8-3\", \"8-4\", \"9-1\", \"9-2\", \"9-3\", \"9-4\"], \"y\": [1.0, null, 0.5, 1.0, 1.0, 1.0, 1.0, 1.0], \"type\": \"scatter\", \"uid\": \"e2c295fa-ca97-11e8-babe-d89ef3991fb3\"}, {\"name\": \"\\u6797\\u6587\\u6587_\\u6570\\u636e\\u53ca\\u65f6\\u4ea4\\u4ed8\\u7387\", \"x\": [\"8-1\", \"8-2\", \"8-3\", \"8-4\", \"9-1\", \"9-2\", \"9-3\", \"9-4\"], \"y\": [1.0, null, 1.0, null, 1.0, 1.0, null, null], \"type\": \"scatter\", \"uid\": \"e2c295fb-ca97-11e8-a5a2-d89ef3991fb3\"}, {\"name\": \"\\u9ad8\\u5251_\\u53cd\\u9988\\u53ca\\u65f6\\u7387\", \"x\": [\"8-1\", \"8-2\", \"8-3\", \"8-4\", \"9-1\", \"9-2\", \"9-3\", \"9-4\"], \"y\": [1.0, null, 0.0, 1.0, 1.0, null, null, null], \"type\": \"scatter\", \"uid\": \"e2c295fc-ca97-11e8-99a4-d89ef3991fb3\"}, {\"name\": \"\\u9ad8\\u5251_\\u6570\\u636e\\u53ca\\u65f6\\u4ea4\\u4ed8\\u7387\", \"x\": [\"8-1\", \"8-2\", \"8-3\", \"8-4\", \"9-1\", \"9-2\", \"9-3\", \"9-4\"], \"y\": [1.0, null, 1.0, null, null, null, null, null], \"type\": \"scatter\", \"uid\": \"e2c295fd-ca97-11e8-994a-d89ef3991fb3\"}, {\"name\": \"\\u8f66\\u5929\\u680b_\\u53cd\\u9988\\u53ca\\u65f6\\u7387\", \"x\": [\"8-1\", \"8-2\", \"8-3\", \"8-4\", \"9-1\", \"9-2\", \"9-3\", \"9-4\"], \"y\": [1.0, null, null, 1.0, 1.0, null, 1.0, 1.0], \"type\": \"scatter\", \"uid\": \"e2c295fe-ca97-11e8-8c0e-d89ef3991fb3\"}, {\"name\": \"\\u8f66\\u5929\\u680b_\\u6570\\u636e\\u53ca\\u65f6\\u4ea4\\u4ed8\\u7387\", \"x\": [\"8-1\", \"8-2\", \"8-3\", \"8-4\", \"9-1\", \"9-2\", \"9-3\", \"9-4\"], \"y\": [1.0, null, null, null, 1.0, null, null, null], \"type\": \"scatter\", \"uid\": \"e2c295ff-ca97-11e8-b6dc-d89ef3991fb3\"}, {\"name\": \"\\u738b\\u4f20\\u6587_\\u53cd\\u9988\\u53ca\\u65f6\\u7387\", \"x\": [\"8-1\", \"8-2\", \"8-3\", \"8-4\", \"9-1\", \"9-2\", \"9-3\", \"9-4\"], \"y\": [1.0, null, 1.0, 1.0, 1.0, 1.0, 1.0, 1.0], \"type\": \"scatter\", \"uid\": \"e2c29600-ca97-11e8-9ab3-d89ef3991fb3\"}, {\"name\": \"\\u738b\\u4f20\\u6587_\\u6570\\u636e\\u53ca\\u65f6\\u4ea4\\u4ed8\\u7387\", \"x\": [\"8-1\", \"8-2\", \"8-3\", \"8-4\", \"9-1\", \"9-2\", \"9-3\", \"9-4\"], \"y\": [1.0, null, 1.0, null, null, 1.0, null, null], \"type\": \"scatter\", \"uid\": \"e2c29601-ca97-11e8-a223-d89ef3991fb3\"}, {\"name\": \"\\u6c88\\u7acb\\u7fa4_\\u53cd\\u9988\\u53ca\\u65f6\\u7387\", \"x\": [\"8-1\", \"8-2\", \"8-3\", \"8-4\", \"9-1\", \"9-2\", \"9-3\", \"9-4\"], \"y\": [1.0, null, 1.0, 1.0, 0.75, 1.0, 1.0, 1.0], \"type\": \"scatter\", \"uid\": \"e2c29602-ca97-11e8-aca9-d89ef3991fb3\"}, {\"name\": \"\\u6c88\\u7acb\\u7fa4_\\u6570\\u636e\\u53ca\\u65f6\\u4ea4\\u4ed8\\u7387\", \"x\": [\"8-1\", \"8-2\", \"8-3\", \"8-4\", \"9-1\", \"9-2\", \"9-3\", \"9-4\"], \"y\": [1.0, null, 1.0, null, 1.0, 1.0, null, null], \"type\": \"scatter\", \"uid\": \"e2c29603-ca97-11e8-8f43-d89ef3991fb3\"}], {\"title\": \"\\u53cd\\u9988\\u53ca\\u65f6\\u7387&\\u6570\\u636e\\u53ca\\u65f6\\u4ea4\\u4ed8\\u7387\\u5468\\u8d8b\\u52bf\\u56fe\", \"xaxis\": {\"mirror\": \"all\", \"nticks\": 20, \"showgrid\": true, \"showline\": true, \"title\": \"\\u5468\", \"zeroline\": true}, \"yaxis\": {\"mirror\": \"all\", \"nticks\": 20, \"showgrid\": true, \"showline\": true, \"title\": \"\\u53cd\\u9988\\u53ca\\u65f6\\u7387&\\u6570\\u636e\\u53ca\\u65f6\\u4ea4\\u4ed8\\u7387\", \"zeroline\": true}}, {\"showLink\": true, \"linkText\": \"Export to plot.ly\"})});</script>"
      ],
      "text/vnd.plotly.v1+html": [
       "<div id=\"c298d17b-4b45-49cd-b21c-f38dbbec721e\" style=\"height: 525px; width: 100%;\" class=\"plotly-graph-div\"></div><script type=\"text/javascript\">require([\"plotly\"], function(Plotly) { window.PLOTLYENV=window.PLOTLYENV || {};window.PLOTLYENV.BASE_URL=\"https://plot.ly\";Plotly.newPlot(\"c298d17b-4b45-49cd-b21c-f38dbbec721e\", [{\"name\": \"\\u6c88\\u6069\\u60e0_\\u53cd\\u9988\\u53ca\\u65f6\\u7387\", \"x\": [\"8-1\", \"8-2\", \"8-3\", \"8-4\", \"9-1\", \"9-2\", \"9-3\", \"9-4\"], \"y\": [1.0, null, null, 1.0, 0.8, null, 1.0, 1.0], \"type\": \"scatter\", \"uid\": \"e2c295f8-ca97-11e8-a0f8-d89ef3991fb3\"}, {\"name\": \"\\u6c88\\u6069\\u60e0_\\u6570\\u636e\\u53ca\\u65f6\\u4ea4\\u4ed8\\u7387\", \"x\": [\"8-1\", \"8-2\", \"8-3\", \"8-4\", \"9-1\", \"9-2\", \"9-3\", \"9-4\"], \"y\": [1.0, null, null, null, 1.0, null, null, null], \"type\": \"scatter\", \"uid\": \"e2c295f9-ca97-11e8-8eea-d89ef3991fb3\"}, {\"name\": \"\\u6797\\u6587\\u6587_\\u53cd\\u9988\\u53ca\\u65f6\\u7387\", \"x\": [\"8-1\", \"8-2\", \"8-3\", \"8-4\", \"9-1\", \"9-2\", \"9-3\", \"9-4\"], \"y\": [1.0, null, 0.5, 1.0, 1.0, 1.0, 1.0, 1.0], \"type\": \"scatter\", \"uid\": \"e2c295fa-ca97-11e8-babe-d89ef3991fb3\"}, {\"name\": \"\\u6797\\u6587\\u6587_\\u6570\\u636e\\u53ca\\u65f6\\u4ea4\\u4ed8\\u7387\", \"x\": [\"8-1\", \"8-2\", \"8-3\", \"8-4\", \"9-1\", \"9-2\", \"9-3\", \"9-4\"], \"y\": [1.0, null, 1.0, null, 1.0, 1.0, null, null], \"type\": \"scatter\", \"uid\": \"e2c295fb-ca97-11e8-a5a2-d89ef3991fb3\"}, {\"name\": \"\\u9ad8\\u5251_\\u53cd\\u9988\\u53ca\\u65f6\\u7387\", \"x\": [\"8-1\", \"8-2\", \"8-3\", \"8-4\", \"9-1\", \"9-2\", \"9-3\", \"9-4\"], \"y\": [1.0, null, 0.0, 1.0, 1.0, null, null, null], \"type\": \"scatter\", \"uid\": \"e2c295fc-ca97-11e8-99a4-d89ef3991fb3\"}, {\"name\": \"\\u9ad8\\u5251_\\u6570\\u636e\\u53ca\\u65f6\\u4ea4\\u4ed8\\u7387\", \"x\": [\"8-1\", \"8-2\", \"8-3\", \"8-4\", \"9-1\", \"9-2\", \"9-3\", \"9-4\"], \"y\": [1.0, null, 1.0, null, null, null, null, null], \"type\": \"scatter\", \"uid\": \"e2c295fd-ca97-11e8-994a-d89ef3991fb3\"}, {\"name\": \"\\u8f66\\u5929\\u680b_\\u53cd\\u9988\\u53ca\\u65f6\\u7387\", \"x\": [\"8-1\", \"8-2\", \"8-3\", \"8-4\", \"9-1\", \"9-2\", \"9-3\", \"9-4\"], \"y\": [1.0, null, null, 1.0, 1.0, null, 1.0, 1.0], \"type\": \"scatter\", \"uid\": \"e2c295fe-ca97-11e8-8c0e-d89ef3991fb3\"}, {\"name\": \"\\u8f66\\u5929\\u680b_\\u6570\\u636e\\u53ca\\u65f6\\u4ea4\\u4ed8\\u7387\", \"x\": [\"8-1\", \"8-2\", \"8-3\", \"8-4\", \"9-1\", \"9-2\", \"9-3\", \"9-4\"], \"y\": [1.0, null, null, null, 1.0, null, null, null], \"type\": \"scatter\", \"uid\": \"e2c295ff-ca97-11e8-b6dc-d89ef3991fb3\"}, {\"name\": \"\\u738b\\u4f20\\u6587_\\u53cd\\u9988\\u53ca\\u65f6\\u7387\", \"x\": [\"8-1\", \"8-2\", \"8-3\", \"8-4\", \"9-1\", \"9-2\", \"9-3\", \"9-4\"], \"y\": [1.0, null, 1.0, 1.0, 1.0, 1.0, 1.0, 1.0], \"type\": \"scatter\", \"uid\": \"e2c29600-ca97-11e8-9ab3-d89ef3991fb3\"}, {\"name\": \"\\u738b\\u4f20\\u6587_\\u6570\\u636e\\u53ca\\u65f6\\u4ea4\\u4ed8\\u7387\", \"x\": [\"8-1\", \"8-2\", \"8-3\", \"8-4\", \"9-1\", \"9-2\", \"9-3\", \"9-4\"], \"y\": [1.0, null, 1.0, null, null, 1.0, null, null], \"type\": \"scatter\", \"uid\": \"e2c29601-ca97-11e8-a223-d89ef3991fb3\"}, {\"name\": \"\\u6c88\\u7acb\\u7fa4_\\u53cd\\u9988\\u53ca\\u65f6\\u7387\", \"x\": [\"8-1\", \"8-2\", \"8-3\", \"8-4\", \"9-1\", \"9-2\", \"9-3\", \"9-4\"], \"y\": [1.0, null, 1.0, 1.0, 0.75, 1.0, 1.0, 1.0], \"type\": \"scatter\", \"uid\": \"e2c29602-ca97-11e8-aca9-d89ef3991fb3\"}, {\"name\": \"\\u6c88\\u7acb\\u7fa4_\\u6570\\u636e\\u53ca\\u65f6\\u4ea4\\u4ed8\\u7387\", \"x\": [\"8-1\", \"8-2\", \"8-3\", \"8-4\", \"9-1\", \"9-2\", \"9-3\", \"9-4\"], \"y\": [1.0, null, 1.0, null, 1.0, 1.0, null, null], \"type\": \"scatter\", \"uid\": \"e2c29603-ca97-11e8-8f43-d89ef3991fb3\"}], {\"title\": \"\\u53cd\\u9988\\u53ca\\u65f6\\u7387&\\u6570\\u636e\\u53ca\\u65f6\\u4ea4\\u4ed8\\u7387\\u5468\\u8d8b\\u52bf\\u56fe\", \"xaxis\": {\"mirror\": \"all\", \"nticks\": 20, \"showgrid\": true, \"showline\": true, \"title\": \"\\u5468\", \"zeroline\": true}, \"yaxis\": {\"mirror\": \"all\", \"nticks\": 20, \"showgrid\": true, \"showline\": true, \"title\": \"\\u53cd\\u9988\\u53ca\\u65f6\\u7387&\\u6570\\u636e\\u53ca\\u65f6\\u4ea4\\u4ed8\\u7387\", \"zeroline\": true}}, {\"showLink\": true, \"linkText\": \"Export to plot.ly\"})});</script>"
      ]
     },
     "metadata": {},
     "output_type": "display_data"
    },
    {
     "data": {
      "application/vnd.plotly.v1+json": {
       "data": [
        {
         "name": "沈恩惠_反馈及时率",
         "type": "scatter",
         "uid": "e2e6a71c-ca97-11e8-8931-d89ef3991fb3",
         "x": [
          "8",
          "9"
         ],
         "y": [
          1,
          0.9090909090909091
         ]
        },
        {
         "name": "沈恩惠_数据及时交付率",
         "type": "scatter",
         "uid": "e2e6a71d-ca97-11e8-84e7-d89ef3991fb3",
         "x": [
          "8",
          "9"
         ],
         "y": [
          1,
          1
         ]
        },
        {
         "name": "林文文_反馈及时率",
         "type": "scatter",
         "uid": "e2e6ce0c-ca97-11e8-a6e8-d89ef3991fb3",
         "x": [
          "8",
          "9"
         ],
         "y": [
          0.8571428571428571,
          1
         ]
        },
        {
         "name": "林文文_数据及时交付率",
         "type": "scatter",
         "uid": "e2e6ce0d-ca97-11e8-898e-d89ef3991fb3",
         "x": [
          "8",
          "9"
         ],
         "y": [
          1,
          1
         ]
        },
        {
         "name": "高剑_反馈及时率",
         "type": "scatter",
         "uid": "e2e6ce0e-ca97-11e8-968c-d89ef3991fb3",
         "x": [
          "8",
          "9"
         ],
         "y": [
          0.8888888888888888,
          1
         ]
        },
        {
         "name": "高剑_数据及时交付率",
         "type": "scatter",
         "uid": "e2e6ce0f-ca97-11e8-8a5c-d89ef3991fb3",
         "x": [
          "8",
          "9"
         ],
         "y": [
          1,
          null
         ]
        },
        {
         "name": "车天栋_反馈及时率",
         "type": "scatter",
         "uid": "e2e6ce10-ca97-11e8-9d58-d89ef3991fb3",
         "x": [
          "8",
          "9"
         ],
         "y": [
          1,
          1
         ]
        },
        {
         "name": "车天栋_数据及时交付率",
         "type": "scatter",
         "uid": "e2e6ce11-ca97-11e8-a38e-d89ef3991fb3",
         "x": [
          "8",
          "9"
         ],
         "y": [
          1,
          1
         ]
        },
        {
         "name": "王传文_反馈及时率",
         "type": "scatter",
         "uid": "e2e6ce12-ca97-11e8-aeed-d89ef3991fb3",
         "x": [
          "8",
          "9"
         ],
         "y": [
          1,
          1
         ]
        },
        {
         "name": "王传文_数据及时交付率",
         "type": "scatter",
         "uid": "e2e6ce13-ca97-11e8-8ab1-d89ef3991fb3",
         "x": [
          "8",
          "9"
         ],
         "y": [
          1,
          1
         ]
        },
        {
         "name": "沈立群_反馈及时率",
         "type": "scatter",
         "uid": "e2e6ce14-ca97-11e8-b4ca-d89ef3991fb3",
         "x": [
          "8",
          "9"
         ],
         "y": [
          1,
          0.8888888888888888
         ]
        },
        {
         "name": "沈立群_数据及时交付率",
         "type": "scatter",
         "uid": "e2e6ce15-ca97-11e8-bac7-d89ef3991fb3",
         "x": [
          "8",
          "9"
         ],
         "y": [
          1,
          1
         ]
        }
       ],
       "layout": {
        "title": "反馈及时率&数据及时交付率月趋势图",
        "xaxis": {
         "mirror": "all",
         "nticks": 20,
         "showgrid": true,
         "showline": true,
         "title": "月",
         "zeroline": true
        },
        "yaxis": {
         "mirror": "all",
         "nticks": 20,
         "showgrid": true,
         "showline": true,
         "title": "反馈及时率&数据及时交付率",
         "zeroline": true
        }
       }
      },
      "text/html": [
       "<div id=\"65edd534-6122-41e4-8143-4f5a40c48612\" style=\"height: 525px; width: 100%;\" class=\"plotly-graph-div\"></div><script type=\"text/javascript\">require([\"plotly\"], function(Plotly) { window.PLOTLYENV=window.PLOTLYENV || {};window.PLOTLYENV.BASE_URL=\"https://plot.ly\";Plotly.newPlot(\"65edd534-6122-41e4-8143-4f5a40c48612\", [{\"name\": \"\\u6c88\\u6069\\u60e0_\\u53cd\\u9988\\u53ca\\u65f6\\u7387\", \"x\": [\"8\", \"9\"], \"y\": [1.0, 0.9090909090909091], \"type\": \"scatter\", \"uid\": \"e2e6a71c-ca97-11e8-8931-d89ef3991fb3\"}, {\"name\": \"\\u6c88\\u6069\\u60e0_\\u6570\\u636e\\u53ca\\u65f6\\u4ea4\\u4ed8\\u7387\", \"x\": [\"8\", \"9\"], \"y\": [1.0, 1.0], \"type\": \"scatter\", \"uid\": \"e2e6a71d-ca97-11e8-84e7-d89ef3991fb3\"}, {\"name\": \"\\u6797\\u6587\\u6587_\\u53cd\\u9988\\u53ca\\u65f6\\u7387\", \"x\": [\"8\", \"9\"], \"y\": [0.8571428571428571, 1.0], \"type\": \"scatter\", \"uid\": \"e2e6ce0c-ca97-11e8-a6e8-d89ef3991fb3\"}, {\"name\": \"\\u6797\\u6587\\u6587_\\u6570\\u636e\\u53ca\\u65f6\\u4ea4\\u4ed8\\u7387\", \"x\": [\"8\", \"9\"], \"y\": [1.0, 1.0], \"type\": \"scatter\", \"uid\": \"e2e6ce0d-ca97-11e8-898e-d89ef3991fb3\"}, {\"name\": \"\\u9ad8\\u5251_\\u53cd\\u9988\\u53ca\\u65f6\\u7387\", \"x\": [\"8\", \"9\"], \"y\": [0.8888888888888888, 1.0], \"type\": \"scatter\", \"uid\": \"e2e6ce0e-ca97-11e8-968c-d89ef3991fb3\"}, {\"name\": \"\\u9ad8\\u5251_\\u6570\\u636e\\u53ca\\u65f6\\u4ea4\\u4ed8\\u7387\", \"x\": [\"8\", \"9\"], \"y\": [1.0, null], \"type\": \"scatter\", \"uid\": \"e2e6ce0f-ca97-11e8-8a5c-d89ef3991fb3\"}, {\"name\": \"\\u8f66\\u5929\\u680b_\\u53cd\\u9988\\u53ca\\u65f6\\u7387\", \"x\": [\"8\", \"9\"], \"y\": [1.0, 1.0], \"type\": \"scatter\", \"uid\": \"e2e6ce10-ca97-11e8-9d58-d89ef3991fb3\"}, {\"name\": \"\\u8f66\\u5929\\u680b_\\u6570\\u636e\\u53ca\\u65f6\\u4ea4\\u4ed8\\u7387\", \"x\": [\"8\", \"9\"], \"y\": [1.0, 1.0], \"type\": \"scatter\", \"uid\": \"e2e6ce11-ca97-11e8-a38e-d89ef3991fb3\"}, {\"name\": \"\\u738b\\u4f20\\u6587_\\u53cd\\u9988\\u53ca\\u65f6\\u7387\", \"x\": [\"8\", \"9\"], \"y\": [1.0, 1.0], \"type\": \"scatter\", \"uid\": \"e2e6ce12-ca97-11e8-aeed-d89ef3991fb3\"}, {\"name\": \"\\u738b\\u4f20\\u6587_\\u6570\\u636e\\u53ca\\u65f6\\u4ea4\\u4ed8\\u7387\", \"x\": [\"8\", \"9\"], \"y\": [1.0, 1.0], \"type\": \"scatter\", \"uid\": \"e2e6ce13-ca97-11e8-8ab1-d89ef3991fb3\"}, {\"name\": \"\\u6c88\\u7acb\\u7fa4_\\u53cd\\u9988\\u53ca\\u65f6\\u7387\", \"x\": [\"8\", \"9\"], \"y\": [1.0, 0.8888888888888888], \"type\": \"scatter\", \"uid\": \"e2e6ce14-ca97-11e8-b4ca-d89ef3991fb3\"}, {\"name\": \"\\u6c88\\u7acb\\u7fa4_\\u6570\\u636e\\u53ca\\u65f6\\u4ea4\\u4ed8\\u7387\", \"x\": [\"8\", \"9\"], \"y\": [1.0, 1.0], \"type\": \"scatter\", \"uid\": \"e2e6ce15-ca97-11e8-bac7-d89ef3991fb3\"}], {\"title\": \"\\u53cd\\u9988\\u53ca\\u65f6\\u7387&\\u6570\\u636e\\u53ca\\u65f6\\u4ea4\\u4ed8\\u7387\\u6708\\u8d8b\\u52bf\\u56fe\", \"xaxis\": {\"mirror\": \"all\", \"nticks\": 20, \"showgrid\": true, \"showline\": true, \"title\": \"\\u6708\", \"zeroline\": true}, \"yaxis\": {\"mirror\": \"all\", \"nticks\": 20, \"showgrid\": true, \"showline\": true, \"title\": \"\\u53cd\\u9988\\u53ca\\u65f6\\u7387&\\u6570\\u636e\\u53ca\\u65f6\\u4ea4\\u4ed8\\u7387\", \"zeroline\": true}}, {\"showLink\": true, \"linkText\": \"Export to plot.ly\"})});</script>"
      ],
      "text/vnd.plotly.v1+html": [
       "<div id=\"65edd534-6122-41e4-8143-4f5a40c48612\" style=\"height: 525px; width: 100%;\" class=\"plotly-graph-div\"></div><script type=\"text/javascript\">require([\"plotly\"], function(Plotly) { window.PLOTLYENV=window.PLOTLYENV || {};window.PLOTLYENV.BASE_URL=\"https://plot.ly\";Plotly.newPlot(\"65edd534-6122-41e4-8143-4f5a40c48612\", [{\"name\": \"\\u6c88\\u6069\\u60e0_\\u53cd\\u9988\\u53ca\\u65f6\\u7387\", \"x\": [\"8\", \"9\"], \"y\": [1.0, 0.9090909090909091], \"type\": \"scatter\", \"uid\": \"e2e6a71c-ca97-11e8-8931-d89ef3991fb3\"}, {\"name\": \"\\u6c88\\u6069\\u60e0_\\u6570\\u636e\\u53ca\\u65f6\\u4ea4\\u4ed8\\u7387\", \"x\": [\"8\", \"9\"], \"y\": [1.0, 1.0], \"type\": \"scatter\", \"uid\": \"e2e6a71d-ca97-11e8-84e7-d89ef3991fb3\"}, {\"name\": \"\\u6797\\u6587\\u6587_\\u53cd\\u9988\\u53ca\\u65f6\\u7387\", \"x\": [\"8\", \"9\"], \"y\": [0.8571428571428571, 1.0], \"type\": \"scatter\", \"uid\": \"e2e6ce0c-ca97-11e8-a6e8-d89ef3991fb3\"}, {\"name\": \"\\u6797\\u6587\\u6587_\\u6570\\u636e\\u53ca\\u65f6\\u4ea4\\u4ed8\\u7387\", \"x\": [\"8\", \"9\"], \"y\": [1.0, 1.0], \"type\": \"scatter\", \"uid\": \"e2e6ce0d-ca97-11e8-898e-d89ef3991fb3\"}, {\"name\": \"\\u9ad8\\u5251_\\u53cd\\u9988\\u53ca\\u65f6\\u7387\", \"x\": [\"8\", \"9\"], \"y\": [0.8888888888888888, 1.0], \"type\": \"scatter\", \"uid\": \"e2e6ce0e-ca97-11e8-968c-d89ef3991fb3\"}, {\"name\": \"\\u9ad8\\u5251_\\u6570\\u636e\\u53ca\\u65f6\\u4ea4\\u4ed8\\u7387\", \"x\": [\"8\", \"9\"], \"y\": [1.0, null], \"type\": \"scatter\", \"uid\": \"e2e6ce0f-ca97-11e8-8a5c-d89ef3991fb3\"}, {\"name\": \"\\u8f66\\u5929\\u680b_\\u53cd\\u9988\\u53ca\\u65f6\\u7387\", \"x\": [\"8\", \"9\"], \"y\": [1.0, 1.0], \"type\": \"scatter\", \"uid\": \"e2e6ce10-ca97-11e8-9d58-d89ef3991fb3\"}, {\"name\": \"\\u8f66\\u5929\\u680b_\\u6570\\u636e\\u53ca\\u65f6\\u4ea4\\u4ed8\\u7387\", \"x\": [\"8\", \"9\"], \"y\": [1.0, 1.0], \"type\": \"scatter\", \"uid\": \"e2e6ce11-ca97-11e8-a38e-d89ef3991fb3\"}, {\"name\": \"\\u738b\\u4f20\\u6587_\\u53cd\\u9988\\u53ca\\u65f6\\u7387\", \"x\": [\"8\", \"9\"], \"y\": [1.0, 1.0], \"type\": \"scatter\", \"uid\": \"e2e6ce12-ca97-11e8-aeed-d89ef3991fb3\"}, {\"name\": \"\\u738b\\u4f20\\u6587_\\u6570\\u636e\\u53ca\\u65f6\\u4ea4\\u4ed8\\u7387\", \"x\": [\"8\", \"9\"], \"y\": [1.0, 1.0], \"type\": \"scatter\", \"uid\": \"e2e6ce13-ca97-11e8-8ab1-d89ef3991fb3\"}, {\"name\": \"\\u6c88\\u7acb\\u7fa4_\\u53cd\\u9988\\u53ca\\u65f6\\u7387\", \"x\": [\"8\", \"9\"], \"y\": [1.0, 0.8888888888888888], \"type\": \"scatter\", \"uid\": \"e2e6ce14-ca97-11e8-b4ca-d89ef3991fb3\"}, {\"name\": \"\\u6c88\\u7acb\\u7fa4_\\u6570\\u636e\\u53ca\\u65f6\\u4ea4\\u4ed8\\u7387\", \"x\": [\"8\", \"9\"], \"y\": [1.0, 1.0], \"type\": \"scatter\", \"uid\": \"e2e6ce15-ca97-11e8-bac7-d89ef3991fb3\"}], {\"title\": \"\\u53cd\\u9988\\u53ca\\u65f6\\u7387&\\u6570\\u636e\\u53ca\\u65f6\\u4ea4\\u4ed8\\u7387\\u6708\\u8d8b\\u52bf\\u56fe\", \"xaxis\": {\"mirror\": \"all\", \"nticks\": 20, \"showgrid\": true, \"showline\": true, \"title\": \"\\u6708\", \"zeroline\": true}, \"yaxis\": {\"mirror\": \"all\", \"nticks\": 20, \"showgrid\": true, \"showline\": true, \"title\": \"\\u53cd\\u9988\\u53ca\\u65f6\\u7387&\\u6570\\u636e\\u53ca\\u65f6\\u4ea4\\u4ed8\\u7387\", \"zeroline\": true}}, {\"showLink\": true, \"linkText\": \"Export to plot.ly\"})});</script>"
      ]
     },
     "metadata": {},
     "output_type": "display_data"
    }
   ],
   "source": [
    "data_dict = {'反馈及时率':['及时反馈数','下机批次数'], '数据及时交付率':['数据及时交付数','数据交付总数']}\n",
    "myModule.plot( all_dict, data_dict, '人员' ,  'line' )"
   ]
  },
  {
   "cell_type": "markdown",
   "metadata": {},
   "source": [
    "#### 24h拆分过滤率和28h拆分过滤率"
   ]
  },
  {
   "cell_type": "code",
   "execution_count": 24,
   "metadata": {
    "collapsed": false
   },
   "outputs": [
    {
     "data": {
      "application/vnd.plotly.v1+json": {
       "data": [
        {
         "name": "沈恩惠_24h拆分过滤率",
         "type": "scatter",
         "uid": "e3580718-ca97-11e8-b8fe-d89ef3991fb3",
         "x": [
          "8-1",
          "8-2",
          "8-3",
          "8-4",
          "9-1",
          "9-2",
          "9-3",
          "9-4"
         ],
         "y": [
          1,
          null,
          null,
          0,
          0.2,
          null,
          0,
          0
         ]
        },
        {
         "name": "沈恩惠_48h拆分过滤率",
         "type": "scatter",
         "uid": "e3580719-ca97-11e8-9534-d89ef3991fb3",
         "x": [
          "8-1",
          "8-2",
          "8-3",
          "8-4",
          "9-1",
          "9-2",
          "9-3",
          "9-4"
         ],
         "y": [
          1,
          null,
          null,
          0,
          0.6,
          null,
          0,
          0
         ]
        },
        {
         "name": "林文文_24h拆分过滤率",
         "type": "scatter",
         "uid": "e358071a-ca97-11e8-b1d9-d89ef3991fb3",
         "x": [
          "8-1",
          "8-2",
          "8-3",
          "8-4",
          "9-1",
          "9-2",
          "9-3",
          "9-4"
         ],
         "y": [
          1,
          null,
          1,
          0,
          0.75,
          0.5,
          0,
          0
         ]
        },
        {
         "name": "林文文_48h拆分过滤率",
         "type": "scatter",
         "uid": "e358071b-ca97-11e8-bede-d89ef3991fb3",
         "x": [
          "8-1",
          "8-2",
          "8-3",
          "8-4",
          "9-1",
          "9-2",
          "9-3",
          "9-4"
         ],
         "y": [
          1,
          null,
          1,
          0,
          0.75,
          1,
          0,
          0
         ]
        },
        {
         "name": "高剑_24h拆分过滤率",
         "type": "scatter",
         "uid": "e358071c-ca97-11e8-bf2d-d89ef3991fb3",
         "x": [
          "8-1",
          "8-2",
          "8-3",
          "8-4",
          "9-1",
          "9-2",
          "9-3",
          "9-4"
         ],
         "y": [
          1,
          null,
          0,
          0,
          0,
          null,
          null,
          null
         ]
        },
        {
         "name": "高剑_48h拆分过滤率",
         "type": "scatter",
         "uid": "e358071d-ca97-11e8-a2c9-d89ef3991fb3",
         "x": [
          "8-1",
          "8-2",
          "8-3",
          "8-4",
          "9-1",
          "9-2",
          "9-3",
          "9-4"
         ],
         "y": [
          1,
          null,
          0,
          0,
          0,
          null,
          null,
          null
         ]
        },
        {
         "name": "车天栋_24h拆分过滤率",
         "type": "scatter",
         "uid": "e358071e-ca97-11e8-a7b7-d89ef3991fb3",
         "x": [
          "8-1",
          "8-2",
          "8-3",
          "8-4",
          "9-1",
          "9-2",
          "9-3",
          "9-4"
         ],
         "y": [
          1,
          null,
          null,
          0,
          0.6666666666666666,
          null,
          0,
          0
         ]
        },
        {
         "name": "车天栋_48h拆分过滤率",
         "type": "scatter",
         "uid": "e358071f-ca97-11e8-b2e6-d89ef3991fb3",
         "x": [
          "8-1",
          "8-2",
          "8-3",
          "8-4",
          "9-1",
          "9-2",
          "9-3",
          "9-4"
         ],
         "y": [
          1,
          null,
          null,
          0,
          1,
          null,
          0,
          0
         ]
        },
        {
         "name": "王传文_24h拆分过滤率",
         "type": "scatter",
         "uid": "e3580720-ca97-11e8-ac76-d89ef3991fb3",
         "x": [
          "8-1",
          "8-2",
          "8-3",
          "8-4",
          "9-1",
          "9-2",
          "9-3",
          "9-4"
         ],
         "y": [
          1,
          null,
          1,
          0,
          0,
          0.5,
          0,
          0
         ]
        },
        {
         "name": "王传文_48h拆分过滤率",
         "type": "scatter",
         "uid": "e3580721-ca97-11e8-a1f9-d89ef3991fb3",
         "x": [
          "8-1",
          "8-2",
          "8-3",
          "8-4",
          "9-1",
          "9-2",
          "9-3",
          "9-4"
         ],
         "y": [
          1,
          null,
          1,
          0,
          1,
          1,
          0,
          0
         ]
        },
        {
         "name": "沈立群_24h拆分过滤率",
         "type": "scatter",
         "uid": "e3580722-ca97-11e8-8cf2-d89ef3991fb3",
         "x": [
          "8-1",
          "8-2",
          "8-3",
          "8-4",
          "9-1",
          "9-2",
          "9-3",
          "9-4"
         ],
         "y": [
          1,
          null,
          1,
          0,
          0.5,
          0.6666666666666666,
          0,
          0
         ]
        },
        {
         "name": "沈立群_48h拆分过滤率",
         "type": "scatter",
         "uid": "e3580723-ca97-11e8-8fde-d89ef3991fb3",
         "x": [
          "8-1",
          "8-2",
          "8-3",
          "8-4",
          "9-1",
          "9-2",
          "9-3",
          "9-4"
         ],
         "y": [
          1,
          null,
          1,
          0,
          0.875,
          1,
          0,
          0
         ]
        }
       ],
       "layout": {
        "title": "24h拆分过滤率&48h拆分过滤率周趋势图",
        "xaxis": {
         "mirror": "all",
         "nticks": 20,
         "showgrid": true,
         "showline": true,
         "title": "周",
         "zeroline": true
        },
        "yaxis": {
         "mirror": "all",
         "nticks": 20,
         "showgrid": true,
         "showline": true,
         "title": "24h拆分过滤率&48h拆分过滤率",
         "zeroline": true
        }
       }
      },
      "text/html": [
       "<div id=\"9d5de29d-a637-4003-b16a-c59d8e6f39f1\" style=\"height: 525px; width: 100%;\" class=\"plotly-graph-div\"></div><script type=\"text/javascript\">require([\"plotly\"], function(Plotly) { window.PLOTLYENV=window.PLOTLYENV || {};window.PLOTLYENV.BASE_URL=\"https://plot.ly\";Plotly.newPlot(\"9d5de29d-a637-4003-b16a-c59d8e6f39f1\", [{\"name\": \"\\u6c88\\u6069\\u60e0_24h\\u62c6\\u5206\\u8fc7\\u6ee4\\u7387\", \"x\": [\"8-1\", \"8-2\", \"8-3\", \"8-4\", \"9-1\", \"9-2\", \"9-3\", \"9-4\"], \"y\": [1.0, null, null, 0.0, 0.2, null, 0.0, 0.0], \"type\": \"scatter\", \"uid\": \"e3580718-ca97-11e8-b8fe-d89ef3991fb3\"}, {\"name\": \"\\u6c88\\u6069\\u60e0_48h\\u62c6\\u5206\\u8fc7\\u6ee4\\u7387\", \"x\": [\"8-1\", \"8-2\", \"8-3\", \"8-4\", \"9-1\", \"9-2\", \"9-3\", \"9-4\"], \"y\": [1.0, null, null, 0.0, 0.6, null, 0.0, 0.0], \"type\": \"scatter\", \"uid\": \"e3580719-ca97-11e8-9534-d89ef3991fb3\"}, {\"name\": \"\\u6797\\u6587\\u6587_24h\\u62c6\\u5206\\u8fc7\\u6ee4\\u7387\", \"x\": [\"8-1\", \"8-2\", \"8-3\", \"8-4\", \"9-1\", \"9-2\", \"9-3\", \"9-4\"], \"y\": [1.0, null, 1.0, 0.0, 0.75, 0.5, 0.0, 0.0], \"type\": \"scatter\", \"uid\": \"e358071a-ca97-11e8-b1d9-d89ef3991fb3\"}, {\"name\": \"\\u6797\\u6587\\u6587_48h\\u62c6\\u5206\\u8fc7\\u6ee4\\u7387\", \"x\": [\"8-1\", \"8-2\", \"8-3\", \"8-4\", \"9-1\", \"9-2\", \"9-3\", \"9-4\"], \"y\": [1.0, null, 1.0, 0.0, 0.75, 1.0, 0.0, 0.0], \"type\": \"scatter\", \"uid\": \"e358071b-ca97-11e8-bede-d89ef3991fb3\"}, {\"name\": \"\\u9ad8\\u5251_24h\\u62c6\\u5206\\u8fc7\\u6ee4\\u7387\", \"x\": [\"8-1\", \"8-2\", \"8-3\", \"8-4\", \"9-1\", \"9-2\", \"9-3\", \"9-4\"], \"y\": [1.0, null, 0.0, 0.0, 0.0, null, null, null], \"type\": \"scatter\", \"uid\": \"e358071c-ca97-11e8-bf2d-d89ef3991fb3\"}, {\"name\": \"\\u9ad8\\u5251_48h\\u62c6\\u5206\\u8fc7\\u6ee4\\u7387\", \"x\": [\"8-1\", \"8-2\", \"8-3\", \"8-4\", \"9-1\", \"9-2\", \"9-3\", \"9-4\"], \"y\": [1.0, null, 0.0, 0.0, 0.0, null, null, null], \"type\": \"scatter\", \"uid\": \"e358071d-ca97-11e8-a2c9-d89ef3991fb3\"}, {\"name\": \"\\u8f66\\u5929\\u680b_24h\\u62c6\\u5206\\u8fc7\\u6ee4\\u7387\", \"x\": [\"8-1\", \"8-2\", \"8-3\", \"8-4\", \"9-1\", \"9-2\", \"9-3\", \"9-4\"], \"y\": [1.0, null, null, 0.0, 0.6666666666666666, null, 0.0, 0.0], \"type\": \"scatter\", \"uid\": \"e358071e-ca97-11e8-a7b7-d89ef3991fb3\"}, {\"name\": \"\\u8f66\\u5929\\u680b_48h\\u62c6\\u5206\\u8fc7\\u6ee4\\u7387\", \"x\": [\"8-1\", \"8-2\", \"8-3\", \"8-4\", \"9-1\", \"9-2\", \"9-3\", \"9-4\"], \"y\": [1.0, null, null, 0.0, 1.0, null, 0.0, 0.0], \"type\": \"scatter\", \"uid\": \"e358071f-ca97-11e8-b2e6-d89ef3991fb3\"}, {\"name\": \"\\u738b\\u4f20\\u6587_24h\\u62c6\\u5206\\u8fc7\\u6ee4\\u7387\", \"x\": [\"8-1\", \"8-2\", \"8-3\", \"8-4\", \"9-1\", \"9-2\", \"9-3\", \"9-4\"], \"y\": [1.0, null, 1.0, 0.0, 0.0, 0.5, 0.0, 0.0], \"type\": \"scatter\", \"uid\": \"e3580720-ca97-11e8-ac76-d89ef3991fb3\"}, {\"name\": \"\\u738b\\u4f20\\u6587_48h\\u62c6\\u5206\\u8fc7\\u6ee4\\u7387\", \"x\": [\"8-1\", \"8-2\", \"8-3\", \"8-4\", \"9-1\", \"9-2\", \"9-3\", \"9-4\"], \"y\": [1.0, null, 1.0, 0.0, 1.0, 1.0, 0.0, 0.0], \"type\": \"scatter\", \"uid\": \"e3580721-ca97-11e8-a1f9-d89ef3991fb3\"}, {\"name\": \"\\u6c88\\u7acb\\u7fa4_24h\\u62c6\\u5206\\u8fc7\\u6ee4\\u7387\", \"x\": [\"8-1\", \"8-2\", \"8-3\", \"8-4\", \"9-1\", \"9-2\", \"9-3\", \"9-4\"], \"y\": [1.0, null, 1.0, 0.0, 0.5, 0.6666666666666666, 0.0, 0.0], \"type\": \"scatter\", \"uid\": \"e3580722-ca97-11e8-8cf2-d89ef3991fb3\"}, {\"name\": \"\\u6c88\\u7acb\\u7fa4_48h\\u62c6\\u5206\\u8fc7\\u6ee4\\u7387\", \"x\": [\"8-1\", \"8-2\", \"8-3\", \"8-4\", \"9-1\", \"9-2\", \"9-3\", \"9-4\"], \"y\": [1.0, null, 1.0, 0.0, 0.875, 1.0, 0.0, 0.0], \"type\": \"scatter\", \"uid\": \"e3580723-ca97-11e8-8fde-d89ef3991fb3\"}], {\"title\": \"24h\\u62c6\\u5206\\u8fc7\\u6ee4\\u7387&48h\\u62c6\\u5206\\u8fc7\\u6ee4\\u7387\\u5468\\u8d8b\\u52bf\\u56fe\", \"xaxis\": {\"mirror\": \"all\", \"nticks\": 20, \"showgrid\": true, \"showline\": true, \"title\": \"\\u5468\", \"zeroline\": true}, \"yaxis\": {\"mirror\": \"all\", \"nticks\": 20, \"showgrid\": true, \"showline\": true, \"title\": \"24h\\u62c6\\u5206\\u8fc7\\u6ee4\\u7387&48h\\u62c6\\u5206\\u8fc7\\u6ee4\\u7387\", \"zeroline\": true}}, {\"showLink\": true, \"linkText\": \"Export to plot.ly\"})});</script>"
      ],
      "text/vnd.plotly.v1+html": [
       "<div id=\"9d5de29d-a637-4003-b16a-c59d8e6f39f1\" style=\"height: 525px; width: 100%;\" class=\"plotly-graph-div\"></div><script type=\"text/javascript\">require([\"plotly\"], function(Plotly) { window.PLOTLYENV=window.PLOTLYENV || {};window.PLOTLYENV.BASE_URL=\"https://plot.ly\";Plotly.newPlot(\"9d5de29d-a637-4003-b16a-c59d8e6f39f1\", [{\"name\": \"\\u6c88\\u6069\\u60e0_24h\\u62c6\\u5206\\u8fc7\\u6ee4\\u7387\", \"x\": [\"8-1\", \"8-2\", \"8-3\", \"8-4\", \"9-1\", \"9-2\", \"9-3\", \"9-4\"], \"y\": [1.0, null, null, 0.0, 0.2, null, 0.0, 0.0], \"type\": \"scatter\", \"uid\": \"e3580718-ca97-11e8-b8fe-d89ef3991fb3\"}, {\"name\": \"\\u6c88\\u6069\\u60e0_48h\\u62c6\\u5206\\u8fc7\\u6ee4\\u7387\", \"x\": [\"8-1\", \"8-2\", \"8-3\", \"8-4\", \"9-1\", \"9-2\", \"9-3\", \"9-4\"], \"y\": [1.0, null, null, 0.0, 0.6, null, 0.0, 0.0], \"type\": \"scatter\", \"uid\": \"e3580719-ca97-11e8-9534-d89ef3991fb3\"}, {\"name\": \"\\u6797\\u6587\\u6587_24h\\u62c6\\u5206\\u8fc7\\u6ee4\\u7387\", \"x\": [\"8-1\", \"8-2\", \"8-3\", \"8-4\", \"9-1\", \"9-2\", \"9-3\", \"9-4\"], \"y\": [1.0, null, 1.0, 0.0, 0.75, 0.5, 0.0, 0.0], \"type\": \"scatter\", \"uid\": \"e358071a-ca97-11e8-b1d9-d89ef3991fb3\"}, {\"name\": \"\\u6797\\u6587\\u6587_48h\\u62c6\\u5206\\u8fc7\\u6ee4\\u7387\", \"x\": [\"8-1\", \"8-2\", \"8-3\", \"8-4\", \"9-1\", \"9-2\", \"9-3\", \"9-4\"], \"y\": [1.0, null, 1.0, 0.0, 0.75, 1.0, 0.0, 0.0], \"type\": \"scatter\", \"uid\": \"e358071b-ca97-11e8-bede-d89ef3991fb3\"}, {\"name\": \"\\u9ad8\\u5251_24h\\u62c6\\u5206\\u8fc7\\u6ee4\\u7387\", \"x\": [\"8-1\", \"8-2\", \"8-3\", \"8-4\", \"9-1\", \"9-2\", \"9-3\", \"9-4\"], \"y\": [1.0, null, 0.0, 0.0, 0.0, null, null, null], \"type\": \"scatter\", \"uid\": \"e358071c-ca97-11e8-bf2d-d89ef3991fb3\"}, {\"name\": \"\\u9ad8\\u5251_48h\\u62c6\\u5206\\u8fc7\\u6ee4\\u7387\", \"x\": [\"8-1\", \"8-2\", \"8-3\", \"8-4\", \"9-1\", \"9-2\", \"9-3\", \"9-4\"], \"y\": [1.0, null, 0.0, 0.0, 0.0, null, null, null], \"type\": \"scatter\", \"uid\": \"e358071d-ca97-11e8-a2c9-d89ef3991fb3\"}, {\"name\": \"\\u8f66\\u5929\\u680b_24h\\u62c6\\u5206\\u8fc7\\u6ee4\\u7387\", \"x\": [\"8-1\", \"8-2\", \"8-3\", \"8-4\", \"9-1\", \"9-2\", \"9-3\", \"9-4\"], \"y\": [1.0, null, null, 0.0, 0.6666666666666666, null, 0.0, 0.0], \"type\": \"scatter\", \"uid\": \"e358071e-ca97-11e8-a7b7-d89ef3991fb3\"}, {\"name\": \"\\u8f66\\u5929\\u680b_48h\\u62c6\\u5206\\u8fc7\\u6ee4\\u7387\", \"x\": [\"8-1\", \"8-2\", \"8-3\", \"8-4\", \"9-1\", \"9-2\", \"9-3\", \"9-4\"], \"y\": [1.0, null, null, 0.0, 1.0, null, 0.0, 0.0], \"type\": \"scatter\", \"uid\": \"e358071f-ca97-11e8-b2e6-d89ef3991fb3\"}, {\"name\": \"\\u738b\\u4f20\\u6587_24h\\u62c6\\u5206\\u8fc7\\u6ee4\\u7387\", \"x\": [\"8-1\", \"8-2\", \"8-3\", \"8-4\", \"9-1\", \"9-2\", \"9-3\", \"9-4\"], \"y\": [1.0, null, 1.0, 0.0, 0.0, 0.5, 0.0, 0.0], \"type\": \"scatter\", \"uid\": \"e3580720-ca97-11e8-ac76-d89ef3991fb3\"}, {\"name\": \"\\u738b\\u4f20\\u6587_48h\\u62c6\\u5206\\u8fc7\\u6ee4\\u7387\", \"x\": [\"8-1\", \"8-2\", \"8-3\", \"8-4\", \"9-1\", \"9-2\", \"9-3\", \"9-4\"], \"y\": [1.0, null, 1.0, 0.0, 1.0, 1.0, 0.0, 0.0], \"type\": \"scatter\", \"uid\": \"e3580721-ca97-11e8-a1f9-d89ef3991fb3\"}, {\"name\": \"\\u6c88\\u7acb\\u7fa4_24h\\u62c6\\u5206\\u8fc7\\u6ee4\\u7387\", \"x\": [\"8-1\", \"8-2\", \"8-3\", \"8-4\", \"9-1\", \"9-2\", \"9-3\", \"9-4\"], \"y\": [1.0, null, 1.0, 0.0, 0.5, 0.6666666666666666, 0.0, 0.0], \"type\": \"scatter\", \"uid\": \"e3580722-ca97-11e8-8cf2-d89ef3991fb3\"}, {\"name\": \"\\u6c88\\u7acb\\u7fa4_48h\\u62c6\\u5206\\u8fc7\\u6ee4\\u7387\", \"x\": [\"8-1\", \"8-2\", \"8-3\", \"8-4\", \"9-1\", \"9-2\", \"9-3\", \"9-4\"], \"y\": [1.0, null, 1.0, 0.0, 0.875, 1.0, 0.0, 0.0], \"type\": \"scatter\", \"uid\": \"e3580723-ca97-11e8-8fde-d89ef3991fb3\"}], {\"title\": \"24h\\u62c6\\u5206\\u8fc7\\u6ee4\\u7387&48h\\u62c6\\u5206\\u8fc7\\u6ee4\\u7387\\u5468\\u8d8b\\u52bf\\u56fe\", \"xaxis\": {\"mirror\": \"all\", \"nticks\": 20, \"showgrid\": true, \"showline\": true, \"title\": \"\\u5468\", \"zeroline\": true}, \"yaxis\": {\"mirror\": \"all\", \"nticks\": 20, \"showgrid\": true, \"showline\": true, \"title\": \"24h\\u62c6\\u5206\\u8fc7\\u6ee4\\u7387&48h\\u62c6\\u5206\\u8fc7\\u6ee4\\u7387\", \"zeroline\": true}}, {\"showLink\": true, \"linkText\": \"Export to plot.ly\"})});</script>"
      ]
     },
     "metadata": {},
     "output_type": "display_data"
    },
    {
     "data": {
      "application/vnd.plotly.v1+json": {
       "data": [
        {
         "name": "沈恩惠_24h拆分过滤率",
         "type": "scatter",
         "uid": "e374ca3e-ca97-11e8-9958-d89ef3991fb3",
         "x": [
          "8",
          "9"
         ],
         "y": [
          0.25,
          0.09090909090909091
         ]
        },
        {
         "name": "沈恩惠_48h拆分过滤率",
         "type": "scatter",
         "uid": "e374ca3f-ca97-11e8-afc3-d89ef3991fb3",
         "x": [
          "8",
          "9"
         ],
         "y": [
          0.25,
          0.2727272727272727
         ]
        },
        {
         "name": "林文文_24h拆分过滤率",
         "type": "scatter",
         "uid": "e374ca40-ca97-11e8-9929-d89ef3991fb3",
         "x": [
          "8",
          "9"
         ],
         "y": [
          0.42857142857142855,
          0.4
         ]
        },
        {
         "name": "林文文_48h拆分过滤率",
         "type": "scatter",
         "uid": "e374ca41-ca97-11e8-8f27-d89ef3991fb3",
         "x": [
          "8",
          "9"
         ],
         "y": [
          0.42857142857142855,
          0.5
         ]
        },
        {
         "name": "高剑_24h拆分过滤率",
         "type": "scatter",
         "uid": "e374ca42-ca97-11e8-ae1e-d89ef3991fb3",
         "x": [
          "8",
          "9"
         ],
         "y": [
          0.1111111111111111,
          0
         ]
        },
        {
         "name": "高剑_48h拆分过滤率",
         "type": "scatter",
         "uid": "e374ca43-ca97-11e8-af95-d89ef3991fb3",
         "x": [
          "8",
          "9"
         ],
         "y": [
          0.1111111111111111,
          0
         ]
        },
        {
         "name": "车天栋_24h拆分过滤率",
         "type": "scatter",
         "uid": "e374ca44-ca97-11e8-8948-d89ef3991fb3",
         "x": [
          "8",
          "9"
         ],
         "y": [
          0.3333333333333333,
          0.2857142857142857
         ]
        },
        {
         "name": "车天栋_48h拆分过滤率",
         "type": "scatter",
         "uid": "e374ca45-ca97-11e8-ac5b-d89ef3991fb3",
         "x": [
          "8",
          "9"
         ],
         "y": [
          0.3333333333333333,
          0.42857142857142855
         ]
        },
        {
         "name": "王传文_24h拆分过滤率",
         "type": "scatter",
         "uid": "e374ca46-ca97-11e8-aec8-d89ef3991fb3",
         "x": [
          "8",
          "9"
         ],
         "y": [
          0.4,
          0.09090909090909091
         ]
        },
        {
         "name": "王传文_48h拆分过滤率",
         "type": "scatter",
         "uid": "e374ca47-ca97-11e8-8530-d89ef3991fb3",
         "x": [
          "8",
          "9"
         ],
         "y": [
          0.4,
          0.36363636363636365
         ]
        },
        {
         "name": "沈立群_24h拆分过滤率",
         "type": "scatter",
         "uid": "e374ca48-ca97-11e8-a5e5-d89ef3991fb3",
         "x": [
          "8",
          "9"
         ],
         "y": [
          0.2857142857142857,
          0.3333333333333333
         ]
        },
        {
         "name": "沈立群_48h拆分过滤率",
         "type": "scatter",
         "uid": "e374ca49-ca97-11e8-b7c5-d89ef3991fb3",
         "x": [
          "8",
          "9"
         ],
         "y": [
          0.2857142857142857,
          0.5555555555555556
         ]
        }
       ],
       "layout": {
        "title": "24h拆分过滤率&48h拆分过滤率月趋势图",
        "xaxis": {
         "mirror": "all",
         "nticks": 20,
         "showgrid": true,
         "showline": true,
         "title": "月",
         "zeroline": true
        },
        "yaxis": {
         "mirror": "all",
         "nticks": 20,
         "showgrid": true,
         "showline": true,
         "title": "24h拆分过滤率&48h拆分过滤率",
         "zeroline": true
        }
       }
      },
      "text/html": [
       "<div id=\"90377c95-f495-4700-8fe0-bcfbd1cd6a5b\" style=\"height: 525px; width: 100%;\" class=\"plotly-graph-div\"></div><script type=\"text/javascript\">require([\"plotly\"], function(Plotly) { window.PLOTLYENV=window.PLOTLYENV || {};window.PLOTLYENV.BASE_URL=\"https://plot.ly\";Plotly.newPlot(\"90377c95-f495-4700-8fe0-bcfbd1cd6a5b\", [{\"name\": \"\\u6c88\\u6069\\u60e0_24h\\u62c6\\u5206\\u8fc7\\u6ee4\\u7387\", \"x\": [\"8\", \"9\"], \"y\": [0.25, 0.09090909090909091], \"type\": \"scatter\", \"uid\": \"e374ca3e-ca97-11e8-9958-d89ef3991fb3\"}, {\"name\": \"\\u6c88\\u6069\\u60e0_48h\\u62c6\\u5206\\u8fc7\\u6ee4\\u7387\", \"x\": [\"8\", \"9\"], \"y\": [0.25, 0.2727272727272727], \"type\": \"scatter\", \"uid\": \"e374ca3f-ca97-11e8-afc3-d89ef3991fb3\"}, {\"name\": \"\\u6797\\u6587\\u6587_24h\\u62c6\\u5206\\u8fc7\\u6ee4\\u7387\", \"x\": [\"8\", \"9\"], \"y\": [0.42857142857142855, 0.4], \"type\": \"scatter\", \"uid\": \"e374ca40-ca97-11e8-9929-d89ef3991fb3\"}, {\"name\": \"\\u6797\\u6587\\u6587_48h\\u62c6\\u5206\\u8fc7\\u6ee4\\u7387\", \"x\": [\"8\", \"9\"], \"y\": [0.42857142857142855, 0.5], \"type\": \"scatter\", \"uid\": \"e374ca41-ca97-11e8-8f27-d89ef3991fb3\"}, {\"name\": \"\\u9ad8\\u5251_24h\\u62c6\\u5206\\u8fc7\\u6ee4\\u7387\", \"x\": [\"8\", \"9\"], \"y\": [0.1111111111111111, 0.0], \"type\": \"scatter\", \"uid\": \"e374ca42-ca97-11e8-ae1e-d89ef3991fb3\"}, {\"name\": \"\\u9ad8\\u5251_48h\\u62c6\\u5206\\u8fc7\\u6ee4\\u7387\", \"x\": [\"8\", \"9\"], \"y\": [0.1111111111111111, 0.0], \"type\": \"scatter\", \"uid\": \"e374ca43-ca97-11e8-af95-d89ef3991fb3\"}, {\"name\": \"\\u8f66\\u5929\\u680b_24h\\u62c6\\u5206\\u8fc7\\u6ee4\\u7387\", \"x\": [\"8\", \"9\"], \"y\": [0.3333333333333333, 0.2857142857142857], \"type\": \"scatter\", \"uid\": \"e374ca44-ca97-11e8-8948-d89ef3991fb3\"}, {\"name\": \"\\u8f66\\u5929\\u680b_48h\\u62c6\\u5206\\u8fc7\\u6ee4\\u7387\", \"x\": [\"8\", \"9\"], \"y\": [0.3333333333333333, 0.42857142857142855], \"type\": \"scatter\", \"uid\": \"e374ca45-ca97-11e8-ac5b-d89ef3991fb3\"}, {\"name\": \"\\u738b\\u4f20\\u6587_24h\\u62c6\\u5206\\u8fc7\\u6ee4\\u7387\", \"x\": [\"8\", \"9\"], \"y\": [0.4, 0.09090909090909091], \"type\": \"scatter\", \"uid\": \"e374ca46-ca97-11e8-aec8-d89ef3991fb3\"}, {\"name\": \"\\u738b\\u4f20\\u6587_48h\\u62c6\\u5206\\u8fc7\\u6ee4\\u7387\", \"x\": [\"8\", \"9\"], \"y\": [0.4, 0.36363636363636365], \"type\": \"scatter\", \"uid\": \"e374ca47-ca97-11e8-8530-d89ef3991fb3\"}, {\"name\": \"\\u6c88\\u7acb\\u7fa4_24h\\u62c6\\u5206\\u8fc7\\u6ee4\\u7387\", \"x\": [\"8\", \"9\"], \"y\": [0.2857142857142857, 0.3333333333333333], \"type\": \"scatter\", \"uid\": \"e374ca48-ca97-11e8-a5e5-d89ef3991fb3\"}, {\"name\": \"\\u6c88\\u7acb\\u7fa4_48h\\u62c6\\u5206\\u8fc7\\u6ee4\\u7387\", \"x\": [\"8\", \"9\"], \"y\": [0.2857142857142857, 0.5555555555555556], \"type\": \"scatter\", \"uid\": \"e374ca49-ca97-11e8-b7c5-d89ef3991fb3\"}], {\"title\": \"24h\\u62c6\\u5206\\u8fc7\\u6ee4\\u7387&48h\\u62c6\\u5206\\u8fc7\\u6ee4\\u7387\\u6708\\u8d8b\\u52bf\\u56fe\", \"xaxis\": {\"mirror\": \"all\", \"nticks\": 20, \"showgrid\": true, \"showline\": true, \"title\": \"\\u6708\", \"zeroline\": true}, \"yaxis\": {\"mirror\": \"all\", \"nticks\": 20, \"showgrid\": true, \"showline\": true, \"title\": \"24h\\u62c6\\u5206\\u8fc7\\u6ee4\\u7387&48h\\u62c6\\u5206\\u8fc7\\u6ee4\\u7387\", \"zeroline\": true}}, {\"showLink\": true, \"linkText\": \"Export to plot.ly\"})});</script>"
      ],
      "text/vnd.plotly.v1+html": [
       "<div id=\"90377c95-f495-4700-8fe0-bcfbd1cd6a5b\" style=\"height: 525px; width: 100%;\" class=\"plotly-graph-div\"></div><script type=\"text/javascript\">require([\"plotly\"], function(Plotly) { window.PLOTLYENV=window.PLOTLYENV || {};window.PLOTLYENV.BASE_URL=\"https://plot.ly\";Plotly.newPlot(\"90377c95-f495-4700-8fe0-bcfbd1cd6a5b\", [{\"name\": \"\\u6c88\\u6069\\u60e0_24h\\u62c6\\u5206\\u8fc7\\u6ee4\\u7387\", \"x\": [\"8\", \"9\"], \"y\": [0.25, 0.09090909090909091], \"type\": \"scatter\", \"uid\": \"e374ca3e-ca97-11e8-9958-d89ef3991fb3\"}, {\"name\": \"\\u6c88\\u6069\\u60e0_48h\\u62c6\\u5206\\u8fc7\\u6ee4\\u7387\", \"x\": [\"8\", \"9\"], \"y\": [0.25, 0.2727272727272727], \"type\": \"scatter\", \"uid\": \"e374ca3f-ca97-11e8-afc3-d89ef3991fb3\"}, {\"name\": \"\\u6797\\u6587\\u6587_24h\\u62c6\\u5206\\u8fc7\\u6ee4\\u7387\", \"x\": [\"8\", \"9\"], \"y\": [0.42857142857142855, 0.4], \"type\": \"scatter\", \"uid\": \"e374ca40-ca97-11e8-9929-d89ef3991fb3\"}, {\"name\": \"\\u6797\\u6587\\u6587_48h\\u62c6\\u5206\\u8fc7\\u6ee4\\u7387\", \"x\": [\"8\", \"9\"], \"y\": [0.42857142857142855, 0.5], \"type\": \"scatter\", \"uid\": \"e374ca41-ca97-11e8-8f27-d89ef3991fb3\"}, {\"name\": \"\\u9ad8\\u5251_24h\\u62c6\\u5206\\u8fc7\\u6ee4\\u7387\", \"x\": [\"8\", \"9\"], \"y\": [0.1111111111111111, 0.0], \"type\": \"scatter\", \"uid\": \"e374ca42-ca97-11e8-ae1e-d89ef3991fb3\"}, {\"name\": \"\\u9ad8\\u5251_48h\\u62c6\\u5206\\u8fc7\\u6ee4\\u7387\", \"x\": [\"8\", \"9\"], \"y\": [0.1111111111111111, 0.0], \"type\": \"scatter\", \"uid\": \"e374ca43-ca97-11e8-af95-d89ef3991fb3\"}, {\"name\": \"\\u8f66\\u5929\\u680b_24h\\u62c6\\u5206\\u8fc7\\u6ee4\\u7387\", \"x\": [\"8\", \"9\"], \"y\": [0.3333333333333333, 0.2857142857142857], \"type\": \"scatter\", \"uid\": \"e374ca44-ca97-11e8-8948-d89ef3991fb3\"}, {\"name\": \"\\u8f66\\u5929\\u680b_48h\\u62c6\\u5206\\u8fc7\\u6ee4\\u7387\", \"x\": [\"8\", \"9\"], \"y\": [0.3333333333333333, 0.42857142857142855], \"type\": \"scatter\", \"uid\": \"e374ca45-ca97-11e8-ac5b-d89ef3991fb3\"}, {\"name\": \"\\u738b\\u4f20\\u6587_24h\\u62c6\\u5206\\u8fc7\\u6ee4\\u7387\", \"x\": [\"8\", \"9\"], \"y\": [0.4, 0.09090909090909091], \"type\": \"scatter\", \"uid\": \"e374ca46-ca97-11e8-aec8-d89ef3991fb3\"}, {\"name\": \"\\u738b\\u4f20\\u6587_48h\\u62c6\\u5206\\u8fc7\\u6ee4\\u7387\", \"x\": [\"8\", \"9\"], \"y\": [0.4, 0.36363636363636365], \"type\": \"scatter\", \"uid\": \"e374ca47-ca97-11e8-8530-d89ef3991fb3\"}, {\"name\": \"\\u6c88\\u7acb\\u7fa4_24h\\u62c6\\u5206\\u8fc7\\u6ee4\\u7387\", \"x\": [\"8\", \"9\"], \"y\": [0.2857142857142857, 0.3333333333333333], \"type\": \"scatter\", \"uid\": \"e374ca48-ca97-11e8-a5e5-d89ef3991fb3\"}, {\"name\": \"\\u6c88\\u7acb\\u7fa4_48h\\u62c6\\u5206\\u8fc7\\u6ee4\\u7387\", \"x\": [\"8\", \"9\"], \"y\": [0.2857142857142857, 0.5555555555555556], \"type\": \"scatter\", \"uid\": \"e374ca49-ca97-11e8-b7c5-d89ef3991fb3\"}], {\"title\": \"24h\\u62c6\\u5206\\u8fc7\\u6ee4\\u7387&48h\\u62c6\\u5206\\u8fc7\\u6ee4\\u7387\\u6708\\u8d8b\\u52bf\\u56fe\", \"xaxis\": {\"mirror\": \"all\", \"nticks\": 20, \"showgrid\": true, \"showline\": true, \"title\": \"\\u6708\", \"zeroline\": true}, \"yaxis\": {\"mirror\": \"all\", \"nticks\": 20, \"showgrid\": true, \"showline\": true, \"title\": \"24h\\u62c6\\u5206\\u8fc7\\u6ee4\\u7387&48h\\u62c6\\u5206\\u8fc7\\u6ee4\\u7387\", \"zeroline\": true}}, {\"showLink\": true, \"linkText\": \"Export to plot.ly\"})});</script>"
      ]
     },
     "metadata": {},
     "output_type": "display_data"
    }
   ],
   "source": [
    "data_dict = {'24h拆分过滤率':['24h完成批次数', '下机批次数'], '48h拆分过滤率':['48h完成批次数', '下机批次数']}\n",
    "myModule.plot( all_dict, data_dict, '人员' ,  'line' )"
   ]
  },
  {
   "cell_type": "markdown",
   "metadata": {},
   "source": [
    "#### 平均反馈时长和反馈时长Q80"
   ]
  },
  {
   "cell_type": "code",
   "execution_count": 25,
   "metadata": {
    "collapsed": false
   },
   "outputs": [
    {
     "data": {
      "application/vnd.plotly.v1+json": {
       "data": [
        {
         "name": "沈恩惠_平均反馈时长",
         "type": "scatter",
         "uid": "e3da9962-ca97-11e8-916f-d89ef3991fb3",
         "x": [
          "8-1",
          "8-2",
          "8-3",
          "8-4",
          "9-1",
          "9-2",
          "9-3",
          "9-4"
         ],
         "y": [
          1,
          0,
          0,
          4.6,
          7.69,
          0,
          1.52,
          3.22
         ]
        },
        {
         "name": "沈恩惠_反馈时长Q80",
         "type": "scatter",
         "uid": "e3da9963-ca97-11e8-91a9-d89ef3991fb3",
         "x": [
          "8-1",
          "8-2",
          "8-3",
          "8-4",
          "9-1",
          "9-2",
          "9-3",
          "9-4"
         ],
         "y": [
          1,
          0,
          0,
          3.36,
          2.66,
          0,
          0.9,
          2.73
         ]
        },
        {
         "name": "林文文_平均反馈时长",
         "type": "scatter",
         "uid": "e3da9964-ca97-11e8-bfdc-d89ef3991fb3",
         "x": [
          "8-1",
          "8-2",
          "8-3",
          "8-4",
          "9-1",
          "9-2",
          "9-3",
          "9-4"
         ],
         "y": [
          1,
          0,
          1.8,
          2.24,
          3.29,
          8.91,
          2.75,
          2.92
         ]
        },
        {
         "name": "林文文_反馈时长Q80",
         "type": "scatter",
         "uid": "e3da9965-ca97-11e8-a7a8-d89ef3991fb3",
         "x": [
          "8-1",
          "8-2",
          "8-3",
          "8-4",
          "9-1",
          "9-2",
          "9-3",
          "9-4"
         ],
         "y": [
          1,
          0,
          1.44,
          2.38,
          3.84,
          3.01,
          2.28,
          2.37
         ]
        },
        {
         "name": "高剑_平均反馈时长",
         "type": "scatter",
         "uid": "e3da9966-ca97-11e8-a97f-d89ef3991fb3",
         "x": [
          "8-1",
          "8-2",
          "8-3",
          "8-4",
          "9-1",
          "9-2",
          "9-3",
          "9-4"
         ],
         "y": [
          1,
          0,
          43.34,
          3.21,
          6.55,
          0,
          0,
          0
         ]
        },
        {
         "name": "高剑_反馈时长Q80",
         "type": "scatter",
         "uid": "e3da9967-ca97-11e8-bbc3-d89ef3991fb3",
         "x": [
          "8-1",
          "8-2",
          "8-3",
          "8-4",
          "9-1",
          "9-2",
          "9-3",
          "9-4"
         ],
         "y": [
          1,
          0,
          43.34,
          3.15,
          6.55,
          0,
          0,
          0
         ]
        },
        {
         "name": "车天栋_平均反馈时长",
         "type": "scatter",
         "uid": "e3da9968-ca97-11e8-b220-d89ef3991fb3",
         "x": [
          "8-1",
          "8-2",
          "8-3",
          "8-4",
          "9-1",
          "9-2",
          "9-3",
          "9-4"
         ],
         "y": [
          1,
          0,
          0,
          1.75,
          11.02,
          0,
          3.66,
          5.33
         ]
        },
        {
         "name": "车天栋_反馈时长Q80",
         "type": "scatter",
         "uid": "e3da9969-ca97-11e8-b1f3-d89ef3991fb3",
         "x": [
          "8-1",
          "8-2",
          "8-3",
          "8-4",
          "9-1",
          "9-2",
          "9-3",
          "9-4"
         ],
         "y": [
          1,
          0,
          0,
          1.56,
          11.36,
          0,
          2.14,
          5.33
         ]
        },
        {
         "name": "王传文_平均反馈时长",
         "type": "scatter",
         "uid": "e3da996a-ca97-11e8-8283-d89ef3991fb3",
         "x": [
          "8-1",
          "8-2",
          "8-3",
          "8-4",
          "9-1",
          "9-2",
          "9-3",
          "9-4"
         ],
         "y": [
          1,
          0,
          3.04,
          4.31,
          12.68,
          8.47,
          1.85,
          2.51
         ]
        },
        {
         "name": "王传文_反馈时长Q80",
         "type": "scatter",
         "uid": "e3da996b-ca97-11e8-b0dc-d89ef3991fb3",
         "x": [
          "8-1",
          "8-2",
          "8-3",
          "8-4",
          "9-1",
          "9-2",
          "9-3",
          "9-4"
         ],
         "y": [
          1,
          0,
          3.04,
          2.03,
          1.56,
          2.04,
          1.71,
          2.61
         ]
        },
        {
         "name": "沈立群_平均反馈时长",
         "type": "scatter",
         "uid": "e3da996c-ca97-11e8-92e8-d89ef3991fb3",
         "x": [
          "8-1",
          "8-2",
          "8-3",
          "8-4",
          "9-1",
          "9-2",
          "9-3",
          "9-4"
         ],
         "y": [
          1,
          0,
          1.04,
          1.96,
          13,
          4.82,
          1.48,
          2.68
         ]
        },
        {
         "name": "沈立群_反馈时长Q80",
         "type": "scatter",
         "uid": "e3dac05e-ca97-11e8-ab7d-d89ef3991fb3",
         "x": [
          "8-1",
          "8-2",
          "8-3",
          "8-4",
          "9-1",
          "9-2",
          "9-3",
          "9-4"
         ],
         "y": [
          1,
          0,
          1.04,
          2.33,
          14.08,
          4.06,
          1.32,
          2.7
         ]
        }
       ],
       "layout": {
        "title": "平均反馈时长&反馈时长Q80周趋势图",
        "xaxis": {
         "mirror": "all",
         "nticks": 20,
         "showgrid": true,
         "showline": true,
         "title": "周",
         "zeroline": true
        },
        "yaxis": {
         "mirror": "all",
         "nticks": 20,
         "showgrid": true,
         "showline": true,
         "title": "平均反馈时长&反馈时长Q80",
         "zeroline": true
        }
       }
      },
      "text/html": [
       "<div id=\"f9e56b30-d3fd-44e5-a996-a10348e248f9\" style=\"height: 525px; width: 100%;\" class=\"plotly-graph-div\"></div><script type=\"text/javascript\">require([\"plotly\"], function(Plotly) { window.PLOTLYENV=window.PLOTLYENV || {};window.PLOTLYENV.BASE_URL=\"https://plot.ly\";Plotly.newPlot(\"f9e56b30-d3fd-44e5-a996-a10348e248f9\", [{\"name\": \"\\u6c88\\u6069\\u60e0_\\u5e73\\u5747\\u53cd\\u9988\\u65f6\\u957f\", \"x\": [\"8-1\", \"8-2\", \"8-3\", \"8-4\", \"9-1\", \"9-2\", \"9-3\", \"9-4\"], \"y\": [1.0, 0.0, 0.0, 4.6, 7.69, 0.0, 1.52, 3.22], \"type\": \"scatter\", \"uid\": \"e3da9962-ca97-11e8-916f-d89ef3991fb3\"}, {\"name\": \"\\u6c88\\u6069\\u60e0_\\u53cd\\u9988\\u65f6\\u957fQ80\", \"x\": [\"8-1\", \"8-2\", \"8-3\", \"8-4\", \"9-1\", \"9-2\", \"9-3\", \"9-4\"], \"y\": [1.0, 0.0, 0.0, 3.36, 2.66, 0.0, 0.9, 2.73], \"type\": \"scatter\", \"uid\": \"e3da9963-ca97-11e8-91a9-d89ef3991fb3\"}, {\"name\": \"\\u6797\\u6587\\u6587_\\u5e73\\u5747\\u53cd\\u9988\\u65f6\\u957f\", \"x\": [\"8-1\", \"8-2\", \"8-3\", \"8-4\", \"9-1\", \"9-2\", \"9-3\", \"9-4\"], \"y\": [1.0, 0.0, 1.8, 2.24, 3.29, 8.91, 2.75, 2.92], \"type\": \"scatter\", \"uid\": \"e3da9964-ca97-11e8-bfdc-d89ef3991fb3\"}, {\"name\": \"\\u6797\\u6587\\u6587_\\u53cd\\u9988\\u65f6\\u957fQ80\", \"x\": [\"8-1\", \"8-2\", \"8-3\", \"8-4\", \"9-1\", \"9-2\", \"9-3\", \"9-4\"], \"y\": [1.0, 0.0, 1.44, 2.38, 3.84, 3.01, 2.28, 2.37], \"type\": \"scatter\", \"uid\": \"e3da9965-ca97-11e8-a7a8-d89ef3991fb3\"}, {\"name\": \"\\u9ad8\\u5251_\\u5e73\\u5747\\u53cd\\u9988\\u65f6\\u957f\", \"x\": [\"8-1\", \"8-2\", \"8-3\", \"8-4\", \"9-1\", \"9-2\", \"9-3\", \"9-4\"], \"y\": [1.0, 0.0, 43.34, 3.21, 6.55, 0.0, 0.0, 0.0], \"type\": \"scatter\", \"uid\": \"e3da9966-ca97-11e8-a97f-d89ef3991fb3\"}, {\"name\": \"\\u9ad8\\u5251_\\u53cd\\u9988\\u65f6\\u957fQ80\", \"x\": [\"8-1\", \"8-2\", \"8-3\", \"8-4\", \"9-1\", \"9-2\", \"9-3\", \"9-4\"], \"y\": [1.0, 0.0, 43.34, 3.15, 6.55, 0.0, 0.0, 0.0], \"type\": \"scatter\", \"uid\": \"e3da9967-ca97-11e8-bbc3-d89ef3991fb3\"}, {\"name\": \"\\u8f66\\u5929\\u680b_\\u5e73\\u5747\\u53cd\\u9988\\u65f6\\u957f\", \"x\": [\"8-1\", \"8-2\", \"8-3\", \"8-4\", \"9-1\", \"9-2\", \"9-3\", \"9-4\"], \"y\": [1.0, 0.0, 0.0, 1.75, 11.02, 0.0, 3.66, 5.33], \"type\": \"scatter\", \"uid\": \"e3da9968-ca97-11e8-b220-d89ef3991fb3\"}, {\"name\": \"\\u8f66\\u5929\\u680b_\\u53cd\\u9988\\u65f6\\u957fQ80\", \"x\": [\"8-1\", \"8-2\", \"8-3\", \"8-4\", \"9-1\", \"9-2\", \"9-3\", \"9-4\"], \"y\": [1.0, 0.0, 0.0, 1.56, 11.36, 0.0, 2.14, 5.33], \"type\": \"scatter\", \"uid\": \"e3da9969-ca97-11e8-b1f3-d89ef3991fb3\"}, {\"name\": \"\\u738b\\u4f20\\u6587_\\u5e73\\u5747\\u53cd\\u9988\\u65f6\\u957f\", \"x\": [\"8-1\", \"8-2\", \"8-3\", \"8-4\", \"9-1\", \"9-2\", \"9-3\", \"9-4\"], \"y\": [1.0, 0.0, 3.04, 4.31, 12.68, 8.47, 1.85, 2.51], \"type\": \"scatter\", \"uid\": \"e3da996a-ca97-11e8-8283-d89ef3991fb3\"}, {\"name\": \"\\u738b\\u4f20\\u6587_\\u53cd\\u9988\\u65f6\\u957fQ80\", \"x\": [\"8-1\", \"8-2\", \"8-3\", \"8-4\", \"9-1\", \"9-2\", \"9-3\", \"9-4\"], \"y\": [1.0, 0.0, 3.04, 2.03, 1.56, 2.04, 1.71, 2.61], \"type\": \"scatter\", \"uid\": \"e3da996b-ca97-11e8-b0dc-d89ef3991fb3\"}, {\"name\": \"\\u6c88\\u7acb\\u7fa4_\\u5e73\\u5747\\u53cd\\u9988\\u65f6\\u957f\", \"x\": [\"8-1\", \"8-2\", \"8-3\", \"8-4\", \"9-1\", \"9-2\", \"9-3\", \"9-4\"], \"y\": [1.0, 0.0, 1.04, 1.96, 13.0, 4.82, 1.48, 2.68], \"type\": \"scatter\", \"uid\": \"e3da996c-ca97-11e8-92e8-d89ef3991fb3\"}, {\"name\": \"\\u6c88\\u7acb\\u7fa4_\\u53cd\\u9988\\u65f6\\u957fQ80\", \"x\": [\"8-1\", \"8-2\", \"8-3\", \"8-4\", \"9-1\", \"9-2\", \"9-3\", \"9-4\"], \"y\": [1.0, 0.0, 1.04, 2.33, 14.08, 4.06, 1.32, 2.7], \"type\": \"scatter\", \"uid\": \"e3dac05e-ca97-11e8-ab7d-d89ef3991fb3\"}], {\"title\": \"\\u5e73\\u5747\\u53cd\\u9988\\u65f6\\u957f&\\u53cd\\u9988\\u65f6\\u957fQ80\\u5468\\u8d8b\\u52bf\\u56fe\", \"xaxis\": {\"mirror\": \"all\", \"nticks\": 20, \"showgrid\": true, \"showline\": true, \"title\": \"\\u5468\", \"zeroline\": true}, \"yaxis\": {\"mirror\": \"all\", \"nticks\": 20, \"showgrid\": true, \"showline\": true, \"title\": \"\\u5e73\\u5747\\u53cd\\u9988\\u65f6\\u957f&\\u53cd\\u9988\\u65f6\\u957fQ80\", \"zeroline\": true}}, {\"showLink\": true, \"linkText\": \"Export to plot.ly\"})});</script>"
      ],
      "text/vnd.plotly.v1+html": [
       "<div id=\"f9e56b30-d3fd-44e5-a996-a10348e248f9\" style=\"height: 525px; width: 100%;\" class=\"plotly-graph-div\"></div><script type=\"text/javascript\">require([\"plotly\"], function(Plotly) { window.PLOTLYENV=window.PLOTLYENV || {};window.PLOTLYENV.BASE_URL=\"https://plot.ly\";Plotly.newPlot(\"f9e56b30-d3fd-44e5-a996-a10348e248f9\", [{\"name\": \"\\u6c88\\u6069\\u60e0_\\u5e73\\u5747\\u53cd\\u9988\\u65f6\\u957f\", \"x\": [\"8-1\", \"8-2\", \"8-3\", \"8-4\", \"9-1\", \"9-2\", \"9-3\", \"9-4\"], \"y\": [1.0, 0.0, 0.0, 4.6, 7.69, 0.0, 1.52, 3.22], \"type\": \"scatter\", \"uid\": \"e3da9962-ca97-11e8-916f-d89ef3991fb3\"}, {\"name\": \"\\u6c88\\u6069\\u60e0_\\u53cd\\u9988\\u65f6\\u957fQ80\", \"x\": [\"8-1\", \"8-2\", \"8-3\", \"8-4\", \"9-1\", \"9-2\", \"9-3\", \"9-4\"], \"y\": [1.0, 0.0, 0.0, 3.36, 2.66, 0.0, 0.9, 2.73], \"type\": \"scatter\", \"uid\": \"e3da9963-ca97-11e8-91a9-d89ef3991fb3\"}, {\"name\": \"\\u6797\\u6587\\u6587_\\u5e73\\u5747\\u53cd\\u9988\\u65f6\\u957f\", \"x\": [\"8-1\", \"8-2\", \"8-3\", \"8-4\", \"9-1\", \"9-2\", \"9-3\", \"9-4\"], \"y\": [1.0, 0.0, 1.8, 2.24, 3.29, 8.91, 2.75, 2.92], \"type\": \"scatter\", \"uid\": \"e3da9964-ca97-11e8-bfdc-d89ef3991fb3\"}, {\"name\": \"\\u6797\\u6587\\u6587_\\u53cd\\u9988\\u65f6\\u957fQ80\", \"x\": [\"8-1\", \"8-2\", \"8-3\", \"8-4\", \"9-1\", \"9-2\", \"9-3\", \"9-4\"], \"y\": [1.0, 0.0, 1.44, 2.38, 3.84, 3.01, 2.28, 2.37], \"type\": \"scatter\", \"uid\": \"e3da9965-ca97-11e8-a7a8-d89ef3991fb3\"}, {\"name\": \"\\u9ad8\\u5251_\\u5e73\\u5747\\u53cd\\u9988\\u65f6\\u957f\", \"x\": [\"8-1\", \"8-2\", \"8-3\", \"8-4\", \"9-1\", \"9-2\", \"9-3\", \"9-4\"], \"y\": [1.0, 0.0, 43.34, 3.21, 6.55, 0.0, 0.0, 0.0], \"type\": \"scatter\", \"uid\": \"e3da9966-ca97-11e8-a97f-d89ef3991fb3\"}, {\"name\": \"\\u9ad8\\u5251_\\u53cd\\u9988\\u65f6\\u957fQ80\", \"x\": [\"8-1\", \"8-2\", \"8-3\", \"8-4\", \"9-1\", \"9-2\", \"9-3\", \"9-4\"], \"y\": [1.0, 0.0, 43.34, 3.15, 6.55, 0.0, 0.0, 0.0], \"type\": \"scatter\", \"uid\": \"e3da9967-ca97-11e8-bbc3-d89ef3991fb3\"}, {\"name\": \"\\u8f66\\u5929\\u680b_\\u5e73\\u5747\\u53cd\\u9988\\u65f6\\u957f\", \"x\": [\"8-1\", \"8-2\", \"8-3\", \"8-4\", \"9-1\", \"9-2\", \"9-3\", \"9-4\"], \"y\": [1.0, 0.0, 0.0, 1.75, 11.02, 0.0, 3.66, 5.33], \"type\": \"scatter\", \"uid\": \"e3da9968-ca97-11e8-b220-d89ef3991fb3\"}, {\"name\": \"\\u8f66\\u5929\\u680b_\\u53cd\\u9988\\u65f6\\u957fQ80\", \"x\": [\"8-1\", \"8-2\", \"8-3\", \"8-4\", \"9-1\", \"9-2\", \"9-3\", \"9-4\"], \"y\": [1.0, 0.0, 0.0, 1.56, 11.36, 0.0, 2.14, 5.33], \"type\": \"scatter\", \"uid\": \"e3da9969-ca97-11e8-b1f3-d89ef3991fb3\"}, {\"name\": \"\\u738b\\u4f20\\u6587_\\u5e73\\u5747\\u53cd\\u9988\\u65f6\\u957f\", \"x\": [\"8-1\", \"8-2\", \"8-3\", \"8-4\", \"9-1\", \"9-2\", \"9-3\", \"9-4\"], \"y\": [1.0, 0.0, 3.04, 4.31, 12.68, 8.47, 1.85, 2.51], \"type\": \"scatter\", \"uid\": \"e3da996a-ca97-11e8-8283-d89ef3991fb3\"}, {\"name\": \"\\u738b\\u4f20\\u6587_\\u53cd\\u9988\\u65f6\\u957fQ80\", \"x\": [\"8-1\", \"8-2\", \"8-3\", \"8-4\", \"9-1\", \"9-2\", \"9-3\", \"9-4\"], \"y\": [1.0, 0.0, 3.04, 2.03, 1.56, 2.04, 1.71, 2.61], \"type\": \"scatter\", \"uid\": \"e3da996b-ca97-11e8-b0dc-d89ef3991fb3\"}, {\"name\": \"\\u6c88\\u7acb\\u7fa4_\\u5e73\\u5747\\u53cd\\u9988\\u65f6\\u957f\", \"x\": [\"8-1\", \"8-2\", \"8-3\", \"8-4\", \"9-1\", \"9-2\", \"9-3\", \"9-4\"], \"y\": [1.0, 0.0, 1.04, 1.96, 13.0, 4.82, 1.48, 2.68], \"type\": \"scatter\", \"uid\": \"e3da996c-ca97-11e8-92e8-d89ef3991fb3\"}, {\"name\": \"\\u6c88\\u7acb\\u7fa4_\\u53cd\\u9988\\u65f6\\u957fQ80\", \"x\": [\"8-1\", \"8-2\", \"8-3\", \"8-4\", \"9-1\", \"9-2\", \"9-3\", \"9-4\"], \"y\": [1.0, 0.0, 1.04, 2.33, 14.08, 4.06, 1.32, 2.7], \"type\": \"scatter\", \"uid\": \"e3dac05e-ca97-11e8-ab7d-d89ef3991fb3\"}], {\"title\": \"\\u5e73\\u5747\\u53cd\\u9988\\u65f6\\u957f&\\u53cd\\u9988\\u65f6\\u957fQ80\\u5468\\u8d8b\\u52bf\\u56fe\", \"xaxis\": {\"mirror\": \"all\", \"nticks\": 20, \"showgrid\": true, \"showline\": true, \"title\": \"\\u5468\", \"zeroline\": true}, \"yaxis\": {\"mirror\": \"all\", \"nticks\": 20, \"showgrid\": true, \"showline\": true, \"title\": \"\\u5e73\\u5747\\u53cd\\u9988\\u65f6\\u957f&\\u53cd\\u9988\\u65f6\\u957fQ80\", \"zeroline\": true}}, {\"showLink\": true, \"linkText\": \"Export to plot.ly\"})});</script>"
      ]
     },
     "metadata": {},
     "output_type": "display_data"
    },
    {
     "data": {
      "application/vnd.plotly.v1+json": {
       "data": [
        {
         "name": "沈恩惠_平均反馈时长",
         "type": "scatter",
         "uid": "e3fd24f4-ca97-11e8-9784-d89ef3991fb3",
         "x": [
          "8",
          "9"
         ],
         "y": [
          5.6,
          12.430000000000001
         ]
        },
        {
         "name": "沈恩惠_反馈时长Q80",
         "type": "scatter",
         "uid": "e3fd24f5-ca97-11e8-8597-d89ef3991fb3",
         "x": [
          "8",
          "9"
         ],
         "y": [
          4.359999999999999,
          6.29
         ]
        },
        {
         "name": "林文文_平均反馈时长",
         "type": "scatter",
         "uid": "e3fd24f6-ca97-11e8-8983-d89ef3991fb3",
         "x": [
          "8",
          "9"
         ],
         "y": [
          5.04,
          17.869999999999997
         ]
        },
        {
         "name": "林文文_反馈时长Q80",
         "type": "scatter",
         "uid": "e3fd24f7-ca97-11e8-956e-d89ef3991fb3",
         "x": [
          "8",
          "9"
         ],
         "y": [
          4.82,
          11.5
         ]
        },
        {
         "name": "高剑_平均反馈时长",
         "type": "scatter",
         "uid": "e3fd24f8-ca97-11e8-986c-d89ef3991fb3",
         "x": [
          "8",
          "9"
         ],
         "y": [
          47.550000000000004,
          6.55
         ]
        },
        {
         "name": "高剑_反馈时长Q80",
         "type": "scatter",
         "uid": "e3fd24f9-ca97-11e8-8ec4-d89ef3991fb3",
         "x": [
          "8",
          "9"
         ],
         "y": [
          47.49,
          6.55
         ]
        },
        {
         "name": "车天栋_平均反馈时长",
         "type": "scatter",
         "uid": "e3fd24fa-ca97-11e8-8a6a-d89ef3991fb3",
         "x": [
          "8",
          "9"
         ],
         "y": [
          2.75,
          20.009999999999998
         ]
        },
        {
         "name": "车天栋_反馈时长Q80",
         "type": "scatter",
         "uid": "e3fd24fb-ca97-11e8-a61d-d89ef3991fb3",
         "x": [
          "8",
          "9"
         ],
         "y": [
          2.56,
          18.83
         ]
        },
        {
         "name": "王传文_平均反馈时长",
         "type": "scatter",
         "uid": "e3fd24fc-ca97-11e8-97ed-d89ef3991fb3",
         "x": [
          "8",
          "9"
         ],
         "y": [
          8.35,
          25.509999999999998
         ]
        },
        {
         "name": "王传文_反馈时长Q80",
         "type": "scatter",
         "uid": "e3fd24fd-ca97-11e8-a878-d89ef3991fb3",
         "x": [
          "8",
          "9"
         ],
         "y": [
          6.07,
          7.92
         ]
        },
        {
         "name": "沈立群_平均反馈时长",
         "type": "scatter",
         "uid": "e3fd24fe-ca97-11e8-b235-d89ef3991fb3",
         "x": [
          "8",
          "9"
         ],
         "y": [
          4,
          21.98
         ]
        },
        {
         "name": "沈立群_反馈时长Q80",
         "type": "scatter",
         "uid": "e3fd24ff-ca97-11e8-9412-d89ef3991fb3",
         "x": [
          "8",
          "9"
         ],
         "y": [
          4.37,
          22.16
         ]
        }
       ],
       "layout": {
        "title": "平均反馈时长&反馈时长Q80月趋势图",
        "xaxis": {
         "mirror": "all",
         "nticks": 20,
         "showgrid": true,
         "showline": true,
         "title": "月",
         "zeroline": true
        },
        "yaxis": {
         "mirror": "all",
         "nticks": 20,
         "showgrid": true,
         "showline": true,
         "title": "平均反馈时长&反馈时长Q80",
         "zeroline": true
        }
       }
      },
      "text/html": [
       "<div id=\"562a4854-33dd-473a-a529-20f3f46f6f60\" style=\"height: 525px; width: 100%;\" class=\"plotly-graph-div\"></div><script type=\"text/javascript\">require([\"plotly\"], function(Plotly) { window.PLOTLYENV=window.PLOTLYENV || {};window.PLOTLYENV.BASE_URL=\"https://plot.ly\";Plotly.newPlot(\"562a4854-33dd-473a-a529-20f3f46f6f60\", [{\"name\": \"\\u6c88\\u6069\\u60e0_\\u5e73\\u5747\\u53cd\\u9988\\u65f6\\u957f\", \"x\": [\"8\", \"9\"], \"y\": [5.6, 12.430000000000001], \"type\": \"scatter\", \"uid\": \"e3fd24f4-ca97-11e8-9784-d89ef3991fb3\"}, {\"name\": \"\\u6c88\\u6069\\u60e0_\\u53cd\\u9988\\u65f6\\u957fQ80\", \"x\": [\"8\", \"9\"], \"y\": [4.359999999999999, 6.29], \"type\": \"scatter\", \"uid\": \"e3fd24f5-ca97-11e8-8597-d89ef3991fb3\"}, {\"name\": \"\\u6797\\u6587\\u6587_\\u5e73\\u5747\\u53cd\\u9988\\u65f6\\u957f\", \"x\": [\"8\", \"9\"], \"y\": [5.04, 17.869999999999997], \"type\": \"scatter\", \"uid\": \"e3fd24f6-ca97-11e8-8983-d89ef3991fb3\"}, {\"name\": \"\\u6797\\u6587\\u6587_\\u53cd\\u9988\\u65f6\\u957fQ80\", \"x\": [\"8\", \"9\"], \"y\": [4.82, 11.5], \"type\": \"scatter\", \"uid\": \"e3fd24f7-ca97-11e8-956e-d89ef3991fb3\"}, {\"name\": \"\\u9ad8\\u5251_\\u5e73\\u5747\\u53cd\\u9988\\u65f6\\u957f\", \"x\": [\"8\", \"9\"], \"y\": [47.550000000000004, 6.55], \"type\": \"scatter\", \"uid\": \"e3fd24f8-ca97-11e8-986c-d89ef3991fb3\"}, {\"name\": \"\\u9ad8\\u5251_\\u53cd\\u9988\\u65f6\\u957fQ80\", \"x\": [\"8\", \"9\"], \"y\": [47.49, 6.55], \"type\": \"scatter\", \"uid\": \"e3fd24f9-ca97-11e8-8ec4-d89ef3991fb3\"}, {\"name\": \"\\u8f66\\u5929\\u680b_\\u5e73\\u5747\\u53cd\\u9988\\u65f6\\u957f\", \"x\": [\"8\", \"9\"], \"y\": [2.75, 20.009999999999998], \"type\": \"scatter\", \"uid\": \"e3fd24fa-ca97-11e8-8a6a-d89ef3991fb3\"}, {\"name\": \"\\u8f66\\u5929\\u680b_\\u53cd\\u9988\\u65f6\\u957fQ80\", \"x\": [\"8\", \"9\"], \"y\": [2.56, 18.83], \"type\": \"scatter\", \"uid\": \"e3fd24fb-ca97-11e8-a61d-d89ef3991fb3\"}, {\"name\": \"\\u738b\\u4f20\\u6587_\\u5e73\\u5747\\u53cd\\u9988\\u65f6\\u957f\", \"x\": [\"8\", \"9\"], \"y\": [8.35, 25.509999999999998], \"type\": \"scatter\", \"uid\": \"e3fd24fc-ca97-11e8-97ed-d89ef3991fb3\"}, {\"name\": \"\\u738b\\u4f20\\u6587_\\u53cd\\u9988\\u65f6\\u957fQ80\", \"x\": [\"8\", \"9\"], \"y\": [6.07, 7.92], \"type\": \"scatter\", \"uid\": \"e3fd24fd-ca97-11e8-a878-d89ef3991fb3\"}, {\"name\": \"\\u6c88\\u7acb\\u7fa4_\\u5e73\\u5747\\u53cd\\u9988\\u65f6\\u957f\", \"x\": [\"8\", \"9\"], \"y\": [4.0, 21.98], \"type\": \"scatter\", \"uid\": \"e3fd24fe-ca97-11e8-b235-d89ef3991fb3\"}, {\"name\": \"\\u6c88\\u7acb\\u7fa4_\\u53cd\\u9988\\u65f6\\u957fQ80\", \"x\": [\"8\", \"9\"], \"y\": [4.37, 22.16], \"type\": \"scatter\", \"uid\": \"e3fd24ff-ca97-11e8-9412-d89ef3991fb3\"}], {\"title\": \"\\u5e73\\u5747\\u53cd\\u9988\\u65f6\\u957f&\\u53cd\\u9988\\u65f6\\u957fQ80\\u6708\\u8d8b\\u52bf\\u56fe\", \"xaxis\": {\"mirror\": \"all\", \"nticks\": 20, \"showgrid\": true, \"showline\": true, \"title\": \"\\u6708\", \"zeroline\": true}, \"yaxis\": {\"mirror\": \"all\", \"nticks\": 20, \"showgrid\": true, \"showline\": true, \"title\": \"\\u5e73\\u5747\\u53cd\\u9988\\u65f6\\u957f&\\u53cd\\u9988\\u65f6\\u957fQ80\", \"zeroline\": true}}, {\"showLink\": true, \"linkText\": \"Export to plot.ly\"})});</script>"
      ],
      "text/vnd.plotly.v1+html": [
       "<div id=\"562a4854-33dd-473a-a529-20f3f46f6f60\" style=\"height: 525px; width: 100%;\" class=\"plotly-graph-div\"></div><script type=\"text/javascript\">require([\"plotly\"], function(Plotly) { window.PLOTLYENV=window.PLOTLYENV || {};window.PLOTLYENV.BASE_URL=\"https://plot.ly\";Plotly.newPlot(\"562a4854-33dd-473a-a529-20f3f46f6f60\", [{\"name\": \"\\u6c88\\u6069\\u60e0_\\u5e73\\u5747\\u53cd\\u9988\\u65f6\\u957f\", \"x\": [\"8\", \"9\"], \"y\": [5.6, 12.430000000000001], \"type\": \"scatter\", \"uid\": \"e3fd24f4-ca97-11e8-9784-d89ef3991fb3\"}, {\"name\": \"\\u6c88\\u6069\\u60e0_\\u53cd\\u9988\\u65f6\\u957fQ80\", \"x\": [\"8\", \"9\"], \"y\": [4.359999999999999, 6.29], \"type\": \"scatter\", \"uid\": \"e3fd24f5-ca97-11e8-8597-d89ef3991fb3\"}, {\"name\": \"\\u6797\\u6587\\u6587_\\u5e73\\u5747\\u53cd\\u9988\\u65f6\\u957f\", \"x\": [\"8\", \"9\"], \"y\": [5.04, 17.869999999999997], \"type\": \"scatter\", \"uid\": \"e3fd24f6-ca97-11e8-8983-d89ef3991fb3\"}, {\"name\": \"\\u6797\\u6587\\u6587_\\u53cd\\u9988\\u65f6\\u957fQ80\", \"x\": [\"8\", \"9\"], \"y\": [4.82, 11.5], \"type\": \"scatter\", \"uid\": \"e3fd24f7-ca97-11e8-956e-d89ef3991fb3\"}, {\"name\": \"\\u9ad8\\u5251_\\u5e73\\u5747\\u53cd\\u9988\\u65f6\\u957f\", \"x\": [\"8\", \"9\"], \"y\": [47.550000000000004, 6.55], \"type\": \"scatter\", \"uid\": \"e3fd24f8-ca97-11e8-986c-d89ef3991fb3\"}, {\"name\": \"\\u9ad8\\u5251_\\u53cd\\u9988\\u65f6\\u957fQ80\", \"x\": [\"8\", \"9\"], \"y\": [47.49, 6.55], \"type\": \"scatter\", \"uid\": \"e3fd24f9-ca97-11e8-8ec4-d89ef3991fb3\"}, {\"name\": \"\\u8f66\\u5929\\u680b_\\u5e73\\u5747\\u53cd\\u9988\\u65f6\\u957f\", \"x\": [\"8\", \"9\"], \"y\": [2.75, 20.009999999999998], \"type\": \"scatter\", \"uid\": \"e3fd24fa-ca97-11e8-8a6a-d89ef3991fb3\"}, {\"name\": \"\\u8f66\\u5929\\u680b_\\u53cd\\u9988\\u65f6\\u957fQ80\", \"x\": [\"8\", \"9\"], \"y\": [2.56, 18.83], \"type\": \"scatter\", \"uid\": \"e3fd24fb-ca97-11e8-a61d-d89ef3991fb3\"}, {\"name\": \"\\u738b\\u4f20\\u6587_\\u5e73\\u5747\\u53cd\\u9988\\u65f6\\u957f\", \"x\": [\"8\", \"9\"], \"y\": [8.35, 25.509999999999998], \"type\": \"scatter\", \"uid\": \"e3fd24fc-ca97-11e8-97ed-d89ef3991fb3\"}, {\"name\": \"\\u738b\\u4f20\\u6587_\\u53cd\\u9988\\u65f6\\u957fQ80\", \"x\": [\"8\", \"9\"], \"y\": [6.07, 7.92], \"type\": \"scatter\", \"uid\": \"e3fd24fd-ca97-11e8-a878-d89ef3991fb3\"}, {\"name\": \"\\u6c88\\u7acb\\u7fa4_\\u5e73\\u5747\\u53cd\\u9988\\u65f6\\u957f\", \"x\": [\"8\", \"9\"], \"y\": [4.0, 21.98], \"type\": \"scatter\", \"uid\": \"e3fd24fe-ca97-11e8-b235-d89ef3991fb3\"}, {\"name\": \"\\u6c88\\u7acb\\u7fa4_\\u53cd\\u9988\\u65f6\\u957fQ80\", \"x\": [\"8\", \"9\"], \"y\": [4.37, 22.16], \"type\": \"scatter\", \"uid\": \"e3fd24ff-ca97-11e8-9412-d89ef3991fb3\"}], {\"title\": \"\\u5e73\\u5747\\u53cd\\u9988\\u65f6\\u957f&\\u53cd\\u9988\\u65f6\\u957fQ80\\u6708\\u8d8b\\u52bf\\u56fe\", \"xaxis\": {\"mirror\": \"all\", \"nticks\": 20, \"showgrid\": true, \"showline\": true, \"title\": \"\\u6708\", \"zeroline\": true}, \"yaxis\": {\"mirror\": \"all\", \"nticks\": 20, \"showgrid\": true, \"showline\": true, \"title\": \"\\u5e73\\u5747\\u53cd\\u9988\\u65f6\\u957f&\\u53cd\\u9988\\u65f6\\u957fQ80\", \"zeroline\": true}}, {\"showLink\": true, \"linkText\": \"Export to plot.ly\"})});</script>"
      ]
     },
     "metadata": {},
     "output_type": "display_data"
    }
   ],
   "source": [
    "data_dict = {'平均反馈时长':['平均反馈时长'], '反馈时长Q80':['反馈时长Q80']}\n",
    "myModule.plot( all_dict, data_dict, '人员' ,  'line' )"
   ]
  },
  {
   "cell_type": "markdown",
   "metadata": {},
   "source": [
    "### 异常"
   ]
  },
  {
   "cell_type": "markdown",
   "metadata": {},
   "source": [
    "#### 下机批次比"
   ]
  },
  {
   "cell_type": "code",
   "execution_count": 26,
   "metadata": {
    "collapsed": false
   },
   "outputs": [
    {
     "data": {
      "application/vnd.plotly.v1+json": {
       "data": [
        {
         "name": "沈恩惠",
         "type": "scatter",
         "uid": "e45e1574-ca97-11e8-a7a0-d89ef3991fb3",
         "x": [
          "8-1",
          "8-2",
          "8-3",
          "8-4",
          "9-1",
          "9-2",
          "9-3",
          "9-4"
         ],
         "y": [
          1,
          null,
          null,
          1,
          1,
          null,
          1,
          1
         ]
        },
        {
         "name": "林文文",
         "type": "scatter",
         "uid": "e45e1575-ca97-11e8-b84f-d89ef3991fb3",
         "x": [
          "8-1",
          "8-2",
          "8-3",
          "8-4",
          "9-1",
          "9-2",
          "9-3",
          "9-4"
         ],
         "y": [
          1,
          null,
          1,
          1.3333333333333333,
          1,
          1,
          1,
          1
         ]
        },
        {
         "name": "高剑",
         "type": "scatter",
         "uid": "e45e1576-ca97-11e8-84d7-d89ef3991fb3",
         "x": [
          "8-1",
          "8-2",
          "8-3",
          "8-4",
          "9-1",
          "9-2",
          "9-3",
          "9-4"
         ],
         "y": [
          1,
          null,
          1,
          1.4,
          1,
          null,
          null,
          null
         ]
        },
        {
         "name": "车天栋",
         "type": "scatter",
         "uid": "e45e1577-ca97-11e8-82cc-d89ef3991fb3",
         "x": [
          "8-1",
          "8-2",
          "8-3",
          "8-4",
          "9-1",
          "9-2",
          "9-3",
          "9-4"
         ],
         "y": [
          1,
          null,
          null,
          1,
          1,
          null,
          1,
          1
         ]
        },
        {
         "name": "王传文",
         "type": "scatter",
         "uid": "e45e1578-ca97-11e8-84d7-d89ef3991fb3",
         "x": [
          "8-1",
          "8-2",
          "8-3",
          "8-4",
          "9-1",
          "9-2",
          "9-3",
          "9-4"
         ],
         "y": [
          1,
          null,
          1,
          1,
          1,
          1,
          1,
          1
         ]
        },
        {
         "name": "沈立群",
         "type": "scatter",
         "uid": "e45e1579-ca97-11e8-8824-d89ef3991fb3",
         "x": [
          "8-1",
          "8-2",
          "8-3",
          "8-4",
          "9-1",
          "9-2",
          "9-3",
          "9-4"
         ],
         "y": [
          1,
          null,
          1,
          1.25,
          1.3333333333333333,
          1.5,
          1,
          1.25
         ]
        }
       ],
       "layout": {
        "title": "下机批次比周趋势图",
        "xaxis": {
         "mirror": "all",
         "nticks": 20,
         "showgrid": true,
         "showline": true,
         "title": "周",
         "zeroline": true
        },
        "yaxis": {
         "mirror": "all",
         "nticks": 20,
         "showgrid": true,
         "showline": true,
         "title": "下机批次比",
         "zeroline": true
        }
       }
      },
      "text/html": [
       "<div id=\"66665eb3-3f44-4db6-9ef3-029be94aabdb\" style=\"height: 525px; width: 100%;\" class=\"plotly-graph-div\"></div><script type=\"text/javascript\">require([\"plotly\"], function(Plotly) { window.PLOTLYENV=window.PLOTLYENV || {};window.PLOTLYENV.BASE_URL=\"https://plot.ly\";Plotly.newPlot(\"66665eb3-3f44-4db6-9ef3-029be94aabdb\", [{\"name\": \"\\u6c88\\u6069\\u60e0\", \"x\": [\"8-1\", \"8-2\", \"8-3\", \"8-4\", \"9-1\", \"9-2\", \"9-3\", \"9-4\"], \"y\": [1.0, null, null, 1.0, 1.0, null, 1.0, 1.0], \"type\": \"scatter\", \"uid\": \"e45e1574-ca97-11e8-a7a0-d89ef3991fb3\"}, {\"name\": \"\\u6797\\u6587\\u6587\", \"x\": [\"8-1\", \"8-2\", \"8-3\", \"8-4\", \"9-1\", \"9-2\", \"9-3\", \"9-4\"], \"y\": [1.0, null, 1.0, 1.3333333333333333, 1.0, 1.0, 1.0, 1.0], \"type\": \"scatter\", \"uid\": \"e45e1575-ca97-11e8-b84f-d89ef3991fb3\"}, {\"name\": \"\\u9ad8\\u5251\", \"x\": [\"8-1\", \"8-2\", \"8-3\", \"8-4\", \"9-1\", \"9-2\", \"9-3\", \"9-4\"], \"y\": [1.0, null, 1.0, 1.4, 1.0, null, null, null], \"type\": \"scatter\", \"uid\": \"e45e1576-ca97-11e8-84d7-d89ef3991fb3\"}, {\"name\": \"\\u8f66\\u5929\\u680b\", \"x\": [\"8-1\", \"8-2\", \"8-3\", \"8-4\", \"9-1\", \"9-2\", \"9-3\", \"9-4\"], \"y\": [1.0, null, null, 1.0, 1.0, null, 1.0, 1.0], \"type\": \"scatter\", \"uid\": \"e45e1577-ca97-11e8-82cc-d89ef3991fb3\"}, {\"name\": \"\\u738b\\u4f20\\u6587\", \"x\": [\"8-1\", \"8-2\", \"8-3\", \"8-4\", \"9-1\", \"9-2\", \"9-3\", \"9-4\"], \"y\": [1.0, null, 1.0, 1.0, 1.0, 1.0, 1.0, 1.0], \"type\": \"scatter\", \"uid\": \"e45e1578-ca97-11e8-84d7-d89ef3991fb3\"}, {\"name\": \"\\u6c88\\u7acb\\u7fa4\", \"x\": [\"8-1\", \"8-2\", \"8-3\", \"8-4\", \"9-1\", \"9-2\", \"9-3\", \"9-4\"], \"y\": [1.0, null, 1.0, 1.25, 1.3333333333333333, 1.5, 1.0, 1.25], \"type\": \"scatter\", \"uid\": \"e45e1579-ca97-11e8-8824-d89ef3991fb3\"}], {\"title\": \"\\u4e0b\\u673a\\u6279\\u6b21\\u6bd4\\u5468\\u8d8b\\u52bf\\u56fe\", \"xaxis\": {\"mirror\": \"all\", \"nticks\": 20, \"showgrid\": true, \"showline\": true, \"title\": \"\\u5468\", \"zeroline\": true}, \"yaxis\": {\"mirror\": \"all\", \"nticks\": 20, \"showgrid\": true, \"showline\": true, \"title\": \"\\u4e0b\\u673a\\u6279\\u6b21\\u6bd4\", \"zeroline\": true}}, {\"showLink\": true, \"linkText\": \"Export to plot.ly\"})});</script>"
      ],
      "text/vnd.plotly.v1+html": [
       "<div id=\"66665eb3-3f44-4db6-9ef3-029be94aabdb\" style=\"height: 525px; width: 100%;\" class=\"plotly-graph-div\"></div><script type=\"text/javascript\">require([\"plotly\"], function(Plotly) { window.PLOTLYENV=window.PLOTLYENV || {};window.PLOTLYENV.BASE_URL=\"https://plot.ly\";Plotly.newPlot(\"66665eb3-3f44-4db6-9ef3-029be94aabdb\", [{\"name\": \"\\u6c88\\u6069\\u60e0\", \"x\": [\"8-1\", \"8-2\", \"8-3\", \"8-4\", \"9-1\", \"9-2\", \"9-3\", \"9-4\"], \"y\": [1.0, null, null, 1.0, 1.0, null, 1.0, 1.0], \"type\": \"scatter\", \"uid\": \"e45e1574-ca97-11e8-a7a0-d89ef3991fb3\"}, {\"name\": \"\\u6797\\u6587\\u6587\", \"x\": [\"8-1\", \"8-2\", \"8-3\", \"8-4\", \"9-1\", \"9-2\", \"9-3\", \"9-4\"], \"y\": [1.0, null, 1.0, 1.3333333333333333, 1.0, 1.0, 1.0, 1.0], \"type\": \"scatter\", \"uid\": \"e45e1575-ca97-11e8-b84f-d89ef3991fb3\"}, {\"name\": \"\\u9ad8\\u5251\", \"x\": [\"8-1\", \"8-2\", \"8-3\", \"8-4\", \"9-1\", \"9-2\", \"9-3\", \"9-4\"], \"y\": [1.0, null, 1.0, 1.4, 1.0, null, null, null], \"type\": \"scatter\", \"uid\": \"e45e1576-ca97-11e8-84d7-d89ef3991fb3\"}, {\"name\": \"\\u8f66\\u5929\\u680b\", \"x\": [\"8-1\", \"8-2\", \"8-3\", \"8-4\", \"9-1\", \"9-2\", \"9-3\", \"9-4\"], \"y\": [1.0, null, null, 1.0, 1.0, null, 1.0, 1.0], \"type\": \"scatter\", \"uid\": \"e45e1577-ca97-11e8-82cc-d89ef3991fb3\"}, {\"name\": \"\\u738b\\u4f20\\u6587\", \"x\": [\"8-1\", \"8-2\", \"8-3\", \"8-4\", \"9-1\", \"9-2\", \"9-3\", \"9-4\"], \"y\": [1.0, null, 1.0, 1.0, 1.0, 1.0, 1.0, 1.0], \"type\": \"scatter\", \"uid\": \"e45e1578-ca97-11e8-84d7-d89ef3991fb3\"}, {\"name\": \"\\u6c88\\u7acb\\u7fa4\", \"x\": [\"8-1\", \"8-2\", \"8-3\", \"8-4\", \"9-1\", \"9-2\", \"9-3\", \"9-4\"], \"y\": [1.0, null, 1.0, 1.25, 1.3333333333333333, 1.5, 1.0, 1.25], \"type\": \"scatter\", \"uid\": \"e45e1579-ca97-11e8-8824-d89ef3991fb3\"}], {\"title\": \"\\u4e0b\\u673a\\u6279\\u6b21\\u6bd4\\u5468\\u8d8b\\u52bf\\u56fe\", \"xaxis\": {\"mirror\": \"all\", \"nticks\": 20, \"showgrid\": true, \"showline\": true, \"title\": \"\\u5468\", \"zeroline\": true}, \"yaxis\": {\"mirror\": \"all\", \"nticks\": 20, \"showgrid\": true, \"showline\": true, \"title\": \"\\u4e0b\\u673a\\u6279\\u6b21\\u6bd4\", \"zeroline\": true}}, {\"showLink\": true, \"linkText\": \"Export to plot.ly\"})});</script>"
      ]
     },
     "metadata": {},
     "output_type": "display_data"
    },
    {
     "data": {
      "application/vnd.plotly.v1+json": {
       "data": [
        {
         "name": "沈恩惠",
         "type": "scatter",
         "uid": "e471901e-ca97-11e8-903b-d89ef3991fb3",
         "x": [
          "8",
          "9"
         ],
         "y": [
          1,
          1
         ]
        },
        {
         "name": "林文文",
         "type": "scatter",
         "uid": "e471901f-ca97-11e8-96ad-d89ef3991fb3",
         "x": [
          "8",
          "9"
         ],
         "y": [
          1.1666666666666667,
          1
         ]
        },
        {
         "name": "高剑",
         "type": "scatter",
         "uid": "e4719020-ca97-11e8-aa62-d89ef3991fb3",
         "x": [
          "8",
          "9"
         ],
         "y": [
          1.2857142857142858,
          1
         ]
        },
        {
         "name": "车天栋",
         "type": "scatter",
         "uid": "e4719021-ca97-11e8-8987-d89ef3991fb3",
         "x": [
          "8",
          "9"
         ],
         "y": [
          1,
          1
         ]
        },
        {
         "name": "王传文",
         "type": "scatter",
         "uid": "e4719022-ca97-11e8-a1eb-d89ef3991fb3",
         "x": [
          "8",
          "9"
         ],
         "y": [
          1,
          1
         ]
        },
        {
         "name": "沈立群",
         "type": "scatter",
         "uid": "e4719023-ca97-11e8-a8c4-d89ef3991fb3",
         "x": [
          "8",
          "9"
         ],
         "y": [
          1.1666666666666667,
          1.2857142857142858
         ]
        }
       ],
       "layout": {
        "title": "下机批次比月趋势图",
        "xaxis": {
         "mirror": "all",
         "nticks": 20,
         "showgrid": true,
         "showline": true,
         "title": "月",
         "zeroline": true
        },
        "yaxis": {
         "mirror": "all",
         "nticks": 20,
         "showgrid": true,
         "showline": true,
         "title": "下机批次比",
         "zeroline": true
        }
       }
      },
      "text/html": [
       "<div id=\"7082c60d-a157-4b05-a3b9-c2fc7b2cb8a5\" style=\"height: 525px; width: 100%;\" class=\"plotly-graph-div\"></div><script type=\"text/javascript\">require([\"plotly\"], function(Plotly) { window.PLOTLYENV=window.PLOTLYENV || {};window.PLOTLYENV.BASE_URL=\"https://plot.ly\";Plotly.newPlot(\"7082c60d-a157-4b05-a3b9-c2fc7b2cb8a5\", [{\"name\": \"\\u6c88\\u6069\\u60e0\", \"x\": [\"8\", \"9\"], \"y\": [1.0, 1.0], \"type\": \"scatter\", \"uid\": \"e471901e-ca97-11e8-903b-d89ef3991fb3\"}, {\"name\": \"\\u6797\\u6587\\u6587\", \"x\": [\"8\", \"9\"], \"y\": [1.1666666666666667, 1.0], \"type\": \"scatter\", \"uid\": \"e471901f-ca97-11e8-96ad-d89ef3991fb3\"}, {\"name\": \"\\u9ad8\\u5251\", \"x\": [\"8\", \"9\"], \"y\": [1.2857142857142858, 1.0], \"type\": \"scatter\", \"uid\": \"e4719020-ca97-11e8-aa62-d89ef3991fb3\"}, {\"name\": \"\\u8f66\\u5929\\u680b\", \"x\": [\"8\", \"9\"], \"y\": [1.0, 1.0], \"type\": \"scatter\", \"uid\": \"e4719021-ca97-11e8-8987-d89ef3991fb3\"}, {\"name\": \"\\u738b\\u4f20\\u6587\", \"x\": [\"8\", \"9\"], \"y\": [1.0, 1.0], \"type\": \"scatter\", \"uid\": \"e4719022-ca97-11e8-a1eb-d89ef3991fb3\"}, {\"name\": \"\\u6c88\\u7acb\\u7fa4\", \"x\": [\"8\", \"9\"], \"y\": [1.1666666666666667, 1.2857142857142858], \"type\": \"scatter\", \"uid\": \"e4719023-ca97-11e8-a8c4-d89ef3991fb3\"}], {\"title\": \"\\u4e0b\\u673a\\u6279\\u6b21\\u6bd4\\u6708\\u8d8b\\u52bf\\u56fe\", \"xaxis\": {\"mirror\": \"all\", \"nticks\": 20, \"showgrid\": true, \"showline\": true, \"title\": \"\\u6708\", \"zeroline\": true}, \"yaxis\": {\"mirror\": \"all\", \"nticks\": 20, \"showgrid\": true, \"showline\": true, \"title\": \"\\u4e0b\\u673a\\u6279\\u6b21\\u6bd4\", \"zeroline\": true}}, {\"showLink\": true, \"linkText\": \"Export to plot.ly\"})});</script>"
      ],
      "text/vnd.plotly.v1+html": [
       "<div id=\"7082c60d-a157-4b05-a3b9-c2fc7b2cb8a5\" style=\"height: 525px; width: 100%;\" class=\"plotly-graph-div\"></div><script type=\"text/javascript\">require([\"plotly\"], function(Plotly) { window.PLOTLYENV=window.PLOTLYENV || {};window.PLOTLYENV.BASE_URL=\"https://plot.ly\";Plotly.newPlot(\"7082c60d-a157-4b05-a3b9-c2fc7b2cb8a5\", [{\"name\": \"\\u6c88\\u6069\\u60e0\", \"x\": [\"8\", \"9\"], \"y\": [1.0, 1.0], \"type\": \"scatter\", \"uid\": \"e471901e-ca97-11e8-903b-d89ef3991fb3\"}, {\"name\": \"\\u6797\\u6587\\u6587\", \"x\": [\"8\", \"9\"], \"y\": [1.1666666666666667, 1.0], \"type\": \"scatter\", \"uid\": \"e471901f-ca97-11e8-96ad-d89ef3991fb3\"}, {\"name\": \"\\u9ad8\\u5251\", \"x\": [\"8\", \"9\"], \"y\": [1.2857142857142858, 1.0], \"type\": \"scatter\", \"uid\": \"e4719020-ca97-11e8-aa62-d89ef3991fb3\"}, {\"name\": \"\\u8f66\\u5929\\u680b\", \"x\": [\"8\", \"9\"], \"y\": [1.0, 1.0], \"type\": \"scatter\", \"uid\": \"e4719021-ca97-11e8-8987-d89ef3991fb3\"}, {\"name\": \"\\u738b\\u4f20\\u6587\", \"x\": [\"8\", \"9\"], \"y\": [1.0, 1.0], \"type\": \"scatter\", \"uid\": \"e4719022-ca97-11e8-a1eb-d89ef3991fb3\"}, {\"name\": \"\\u6c88\\u7acb\\u7fa4\", \"x\": [\"8\", \"9\"], \"y\": [1.1666666666666667, 1.2857142857142858], \"type\": \"scatter\", \"uid\": \"e4719023-ca97-11e8-a8c4-d89ef3991fb3\"}], {\"title\": \"\\u4e0b\\u673a\\u6279\\u6b21\\u6bd4\\u6708\\u8d8b\\u52bf\\u56fe\", \"xaxis\": {\"mirror\": \"all\", \"nticks\": 20, \"showgrid\": true, \"showline\": true, \"title\": \"\\u6708\", \"zeroline\": true}, \"yaxis\": {\"mirror\": \"all\", \"nticks\": 20, \"showgrid\": true, \"showline\": true, \"title\": \"\\u4e0b\\u673a\\u6279\\u6b21\\u6bd4\", \"zeroline\": true}}, {\"showLink\": true, \"linkText\": \"Export to plot.ly\"})});</script>"
      ]
     },
     "metadata": {},
     "output_type": "display_data"
    }
   ],
   "source": [
    "data_dict = {'下机批次比':['下机批次数','下机项目数']}\n",
    "myModule.plot( all_dict, data_dict, '人员' ,  'line' )"
   ]
  },
  {
   "cell_type": "markdown",
   "metadata": {},
   "source": [
    "#### 个性化过滤"
   ]
  },
  {
   "cell_type": "code",
   "execution_count": 27,
   "metadata": {
    "collapsed": false
   },
   "outputs": [
    {
     "data": {
      "application/vnd.plotly.v1+json": {
       "data": [
        {
         "name": "沈恩惠",
         "type": "scatter",
         "uid": "e4cae4a8-ca97-11e8-bbaa-d89ef3991fb3",
         "x": [
          "8-1",
          "8-2",
          "8-3",
          "8-4",
          "9-1",
          "9-2",
          "9-3",
          "9-4"
         ],
         "y": [
          1,
          0,
          0,
          0,
          0,
          1,
          0,
          0
         ]
        },
        {
         "name": "林文文",
         "type": "scatter",
         "uid": "e4cae4a9-ca97-11e8-af14-d89ef3991fb3",
         "x": [
          "8-1",
          "8-2",
          "8-3",
          "8-4",
          "9-1",
          "9-2",
          "9-3",
          "9-4"
         ],
         "y": [
          1,
          0,
          0,
          0,
          1,
          0,
          0,
          0
         ]
        },
        {
         "name": "高剑",
         "type": "scatter",
         "uid": "e4cae4aa-ca97-11e8-811e-d89ef3991fb3",
         "x": [
          "8-1",
          "8-2",
          "8-3",
          "8-4",
          "9-1",
          "9-2",
          "9-3",
          "9-4"
         ],
         "y": [
          1,
          0,
          0,
          0,
          0,
          0,
          0,
          0
         ]
        },
        {
         "name": "车天栋",
         "type": "scatter",
         "uid": "e4cb0bd2-ca97-11e8-a425-d89ef3991fb3",
         "x": [
          "8-1",
          "8-2",
          "8-3",
          "8-4",
          "9-1",
          "9-2",
          "9-3",
          "9-4"
         ],
         "y": [
          1,
          0,
          0,
          0,
          0,
          1,
          0,
          0
         ]
        },
        {
         "name": "王传文",
         "type": "scatter",
         "uid": "e4cb0bd3-ca97-11e8-8279-d89ef3991fb3",
         "x": [
          "8-1",
          "8-2",
          "8-3",
          "8-4",
          "9-1",
          "9-2",
          "9-3",
          "9-4"
         ],
         "y": [
          1,
          0,
          0,
          0,
          0,
          0,
          0,
          0
         ]
        },
        {
         "name": "沈立群",
         "type": "scatter",
         "uid": "e4cb0bd4-ca97-11e8-8e88-d89ef3991fb3",
         "x": [
          "8-1",
          "8-2",
          "8-3",
          "8-4",
          "9-1",
          "9-2",
          "9-3",
          "9-4"
         ],
         "y": [
          1,
          0,
          0,
          0,
          0,
          0,
          0,
          0
         ]
        }
       ],
       "layout": {
        "title": "个性化数周趋势图",
        "xaxis": {
         "mirror": "all",
         "nticks": 20,
         "showgrid": true,
         "showline": true,
         "title": "周",
         "zeroline": true
        },
        "yaxis": {
         "mirror": "all",
         "nticks": 20,
         "showgrid": true,
         "showline": true,
         "title": "个性化数",
         "zeroline": true
        }
       }
      },
      "text/html": [
       "<div id=\"4cdbb091-c403-45b8-89cf-420314c6a05e\" style=\"height: 525px; width: 100%;\" class=\"plotly-graph-div\"></div><script type=\"text/javascript\">require([\"plotly\"], function(Plotly) { window.PLOTLYENV=window.PLOTLYENV || {};window.PLOTLYENV.BASE_URL=\"https://plot.ly\";Plotly.newPlot(\"4cdbb091-c403-45b8-89cf-420314c6a05e\", [{\"name\": \"\\u6c88\\u6069\\u60e0\", \"x\": [\"8-1\", \"8-2\", \"8-3\", \"8-4\", \"9-1\", \"9-2\", \"9-3\", \"9-4\"], \"y\": [1.0, 0.0, 0.0, 0.0, 0.0, 1.0, 0.0, 0.0], \"type\": \"scatter\", \"uid\": \"e4cae4a8-ca97-11e8-bbaa-d89ef3991fb3\"}, {\"name\": \"\\u6797\\u6587\\u6587\", \"x\": [\"8-1\", \"8-2\", \"8-3\", \"8-4\", \"9-1\", \"9-2\", \"9-3\", \"9-4\"], \"y\": [1.0, 0.0, 0.0, 0.0, 1.0, 0.0, 0.0, 0.0], \"type\": \"scatter\", \"uid\": \"e4cae4a9-ca97-11e8-af14-d89ef3991fb3\"}, {\"name\": \"\\u9ad8\\u5251\", \"x\": [\"8-1\", \"8-2\", \"8-3\", \"8-4\", \"9-1\", \"9-2\", \"9-3\", \"9-4\"], \"y\": [1.0, 0.0, 0.0, 0.0, 0.0, 0.0, 0.0, 0.0], \"type\": \"scatter\", \"uid\": \"e4cae4aa-ca97-11e8-811e-d89ef3991fb3\"}, {\"name\": \"\\u8f66\\u5929\\u680b\", \"x\": [\"8-1\", \"8-2\", \"8-3\", \"8-4\", \"9-1\", \"9-2\", \"9-3\", \"9-4\"], \"y\": [1.0, 0.0, 0.0, 0.0, 0.0, 1.0, 0.0, 0.0], \"type\": \"scatter\", \"uid\": \"e4cb0bd2-ca97-11e8-a425-d89ef3991fb3\"}, {\"name\": \"\\u738b\\u4f20\\u6587\", \"x\": [\"8-1\", \"8-2\", \"8-3\", \"8-4\", \"9-1\", \"9-2\", \"9-3\", \"9-4\"], \"y\": [1.0, 0.0, 0.0, 0.0, 0.0, 0.0, 0.0, 0.0], \"type\": \"scatter\", \"uid\": \"e4cb0bd3-ca97-11e8-8279-d89ef3991fb3\"}, {\"name\": \"\\u6c88\\u7acb\\u7fa4\", \"x\": [\"8-1\", \"8-2\", \"8-3\", \"8-4\", \"9-1\", \"9-2\", \"9-3\", \"9-4\"], \"y\": [1.0, 0.0, 0.0, 0.0, 0.0, 0.0, 0.0, 0.0], \"type\": \"scatter\", \"uid\": \"e4cb0bd4-ca97-11e8-8e88-d89ef3991fb3\"}], {\"title\": \"\\u4e2a\\u6027\\u5316\\u6570\\u5468\\u8d8b\\u52bf\\u56fe\", \"xaxis\": {\"mirror\": \"all\", \"nticks\": 20, \"showgrid\": true, \"showline\": true, \"title\": \"\\u5468\", \"zeroline\": true}, \"yaxis\": {\"mirror\": \"all\", \"nticks\": 20, \"showgrid\": true, \"showline\": true, \"title\": \"\\u4e2a\\u6027\\u5316\\u6570\", \"zeroline\": true}}, {\"showLink\": true, \"linkText\": \"Export to plot.ly\"})});</script>"
      ],
      "text/vnd.plotly.v1+html": [
       "<div id=\"4cdbb091-c403-45b8-89cf-420314c6a05e\" style=\"height: 525px; width: 100%;\" class=\"plotly-graph-div\"></div><script type=\"text/javascript\">require([\"plotly\"], function(Plotly) { window.PLOTLYENV=window.PLOTLYENV || {};window.PLOTLYENV.BASE_URL=\"https://plot.ly\";Plotly.newPlot(\"4cdbb091-c403-45b8-89cf-420314c6a05e\", [{\"name\": \"\\u6c88\\u6069\\u60e0\", \"x\": [\"8-1\", \"8-2\", \"8-3\", \"8-4\", \"9-1\", \"9-2\", \"9-3\", \"9-4\"], \"y\": [1.0, 0.0, 0.0, 0.0, 0.0, 1.0, 0.0, 0.0], \"type\": \"scatter\", \"uid\": \"e4cae4a8-ca97-11e8-bbaa-d89ef3991fb3\"}, {\"name\": \"\\u6797\\u6587\\u6587\", \"x\": [\"8-1\", \"8-2\", \"8-3\", \"8-4\", \"9-1\", \"9-2\", \"9-3\", \"9-4\"], \"y\": [1.0, 0.0, 0.0, 0.0, 1.0, 0.0, 0.0, 0.0], \"type\": \"scatter\", \"uid\": \"e4cae4a9-ca97-11e8-af14-d89ef3991fb3\"}, {\"name\": \"\\u9ad8\\u5251\", \"x\": [\"8-1\", \"8-2\", \"8-3\", \"8-4\", \"9-1\", \"9-2\", \"9-3\", \"9-4\"], \"y\": [1.0, 0.0, 0.0, 0.0, 0.0, 0.0, 0.0, 0.0], \"type\": \"scatter\", \"uid\": \"e4cae4aa-ca97-11e8-811e-d89ef3991fb3\"}, {\"name\": \"\\u8f66\\u5929\\u680b\", \"x\": [\"8-1\", \"8-2\", \"8-3\", \"8-4\", \"9-1\", \"9-2\", \"9-3\", \"9-4\"], \"y\": [1.0, 0.0, 0.0, 0.0, 0.0, 1.0, 0.0, 0.0], \"type\": \"scatter\", \"uid\": \"e4cb0bd2-ca97-11e8-a425-d89ef3991fb3\"}, {\"name\": \"\\u738b\\u4f20\\u6587\", \"x\": [\"8-1\", \"8-2\", \"8-3\", \"8-4\", \"9-1\", \"9-2\", \"9-3\", \"9-4\"], \"y\": [1.0, 0.0, 0.0, 0.0, 0.0, 0.0, 0.0, 0.0], \"type\": \"scatter\", \"uid\": \"e4cb0bd3-ca97-11e8-8279-d89ef3991fb3\"}, {\"name\": \"\\u6c88\\u7acb\\u7fa4\", \"x\": [\"8-1\", \"8-2\", \"8-3\", \"8-4\", \"9-1\", \"9-2\", \"9-3\", \"9-4\"], \"y\": [1.0, 0.0, 0.0, 0.0, 0.0, 0.0, 0.0, 0.0], \"type\": \"scatter\", \"uid\": \"e4cb0bd4-ca97-11e8-8e88-d89ef3991fb3\"}], {\"title\": \"\\u4e2a\\u6027\\u5316\\u6570\\u5468\\u8d8b\\u52bf\\u56fe\", \"xaxis\": {\"mirror\": \"all\", \"nticks\": 20, \"showgrid\": true, \"showline\": true, \"title\": \"\\u5468\", \"zeroline\": true}, \"yaxis\": {\"mirror\": \"all\", \"nticks\": 20, \"showgrid\": true, \"showline\": true, \"title\": \"\\u4e2a\\u6027\\u5316\\u6570\", \"zeroline\": true}}, {\"showLink\": true, \"linkText\": \"Export to plot.ly\"})});</script>"
      ]
     },
     "metadata": {},
     "output_type": "display_data"
    },
    {
     "data": {
      "application/vnd.plotly.v1+json": {
       "data": [
        {
         "name": "沈恩惠",
         "type": "scatter",
         "uid": "e4df4918-ca97-11e8-924d-d89ef3991fb3",
         "x": [
          "8",
          "9"
         ],
         "y": [
          1,
          1
         ]
        },
        {
         "name": "林文文",
         "type": "scatter",
         "uid": "e4df4919-ca97-11e8-b84b-d89ef3991fb3",
         "x": [
          "8",
          "9"
         ],
         "y": [
          1,
          1
         ]
        },
        {
         "name": "高剑",
         "type": "scatter",
         "uid": "e4df491a-ca97-11e8-9c2a-d89ef3991fb3",
         "x": [
          "8",
          "9"
         ],
         "y": [
          1,
          0
         ]
        },
        {
         "name": "车天栋",
         "type": "scatter",
         "uid": "e4df491b-ca97-11e8-8fba-d89ef3991fb3",
         "x": [
          "8",
          "9"
         ],
         "y": [
          1,
          1
         ]
        },
        {
         "name": "王传文",
         "type": "scatter",
         "uid": "e4df491c-ca97-11e8-b26f-d89ef3991fb3",
         "x": [
          "8",
          "9"
         ],
         "y": [
          1,
          0
         ]
        },
        {
         "name": "沈立群",
         "type": "scatter",
         "uid": "e4df491d-ca97-11e8-9183-d89ef3991fb3",
         "x": [
          "8",
          "9"
         ],
         "y": [
          1,
          0
         ]
        }
       ],
       "layout": {
        "title": "个性化数月趋势图",
        "xaxis": {
         "mirror": "all",
         "nticks": 20,
         "showgrid": true,
         "showline": true,
         "title": "月",
         "zeroline": true
        },
        "yaxis": {
         "mirror": "all",
         "nticks": 20,
         "showgrid": true,
         "showline": true,
         "title": "个性化数",
         "zeroline": true
        }
       }
      },
      "text/html": [
       "<div id=\"f3929f8b-a644-41b0-9d63-38ff87774cca\" style=\"height: 525px; width: 100%;\" class=\"plotly-graph-div\"></div><script type=\"text/javascript\">require([\"plotly\"], function(Plotly) { window.PLOTLYENV=window.PLOTLYENV || {};window.PLOTLYENV.BASE_URL=\"https://plot.ly\";Plotly.newPlot(\"f3929f8b-a644-41b0-9d63-38ff87774cca\", [{\"name\": \"\\u6c88\\u6069\\u60e0\", \"x\": [\"8\", \"9\"], \"y\": [1.0, 1.0], \"type\": \"scatter\", \"uid\": \"e4df4918-ca97-11e8-924d-d89ef3991fb3\"}, {\"name\": \"\\u6797\\u6587\\u6587\", \"x\": [\"8\", \"9\"], \"y\": [1.0, 1.0], \"type\": \"scatter\", \"uid\": \"e4df4919-ca97-11e8-b84b-d89ef3991fb3\"}, {\"name\": \"\\u9ad8\\u5251\", \"x\": [\"8\", \"9\"], \"y\": [1.0, 0.0], \"type\": \"scatter\", \"uid\": \"e4df491a-ca97-11e8-9c2a-d89ef3991fb3\"}, {\"name\": \"\\u8f66\\u5929\\u680b\", \"x\": [\"8\", \"9\"], \"y\": [1.0, 1.0], \"type\": \"scatter\", \"uid\": \"e4df491b-ca97-11e8-8fba-d89ef3991fb3\"}, {\"name\": \"\\u738b\\u4f20\\u6587\", \"x\": [\"8\", \"9\"], \"y\": [1.0, 0.0], \"type\": \"scatter\", \"uid\": \"e4df491c-ca97-11e8-b26f-d89ef3991fb3\"}, {\"name\": \"\\u6c88\\u7acb\\u7fa4\", \"x\": [\"8\", \"9\"], \"y\": [1.0, 0.0], \"type\": \"scatter\", \"uid\": \"e4df491d-ca97-11e8-9183-d89ef3991fb3\"}], {\"title\": \"\\u4e2a\\u6027\\u5316\\u6570\\u6708\\u8d8b\\u52bf\\u56fe\", \"xaxis\": {\"mirror\": \"all\", \"nticks\": 20, \"showgrid\": true, \"showline\": true, \"title\": \"\\u6708\", \"zeroline\": true}, \"yaxis\": {\"mirror\": \"all\", \"nticks\": 20, \"showgrid\": true, \"showline\": true, \"title\": \"\\u4e2a\\u6027\\u5316\\u6570\", \"zeroline\": true}}, {\"showLink\": true, \"linkText\": \"Export to plot.ly\"})});</script>"
      ],
      "text/vnd.plotly.v1+html": [
       "<div id=\"f3929f8b-a644-41b0-9d63-38ff87774cca\" style=\"height: 525px; width: 100%;\" class=\"plotly-graph-div\"></div><script type=\"text/javascript\">require([\"plotly\"], function(Plotly) { window.PLOTLYENV=window.PLOTLYENV || {};window.PLOTLYENV.BASE_URL=\"https://plot.ly\";Plotly.newPlot(\"f3929f8b-a644-41b0-9d63-38ff87774cca\", [{\"name\": \"\\u6c88\\u6069\\u60e0\", \"x\": [\"8\", \"9\"], \"y\": [1.0, 1.0], \"type\": \"scatter\", \"uid\": \"e4df4918-ca97-11e8-924d-d89ef3991fb3\"}, {\"name\": \"\\u6797\\u6587\\u6587\", \"x\": [\"8\", \"9\"], \"y\": [1.0, 1.0], \"type\": \"scatter\", \"uid\": \"e4df4919-ca97-11e8-b84b-d89ef3991fb3\"}, {\"name\": \"\\u9ad8\\u5251\", \"x\": [\"8\", \"9\"], \"y\": [1.0, 0.0], \"type\": \"scatter\", \"uid\": \"e4df491a-ca97-11e8-9c2a-d89ef3991fb3\"}, {\"name\": \"\\u8f66\\u5929\\u680b\", \"x\": [\"8\", \"9\"], \"y\": [1.0, 1.0], \"type\": \"scatter\", \"uid\": \"e4df491b-ca97-11e8-8fba-d89ef3991fb3\"}, {\"name\": \"\\u738b\\u4f20\\u6587\", \"x\": [\"8\", \"9\"], \"y\": [1.0, 0.0], \"type\": \"scatter\", \"uid\": \"e4df491c-ca97-11e8-b26f-d89ef3991fb3\"}, {\"name\": \"\\u6c88\\u7acb\\u7fa4\", \"x\": [\"8\", \"9\"], \"y\": [1.0, 0.0], \"type\": \"scatter\", \"uid\": \"e4df491d-ca97-11e8-9183-d89ef3991fb3\"}], {\"title\": \"\\u4e2a\\u6027\\u5316\\u6570\\u6708\\u8d8b\\u52bf\\u56fe\", \"xaxis\": {\"mirror\": \"all\", \"nticks\": 20, \"showgrid\": true, \"showline\": true, \"title\": \"\\u6708\", \"zeroline\": true}, \"yaxis\": {\"mirror\": \"all\", \"nticks\": 20, \"showgrid\": true, \"showline\": true, \"title\": \"\\u4e2a\\u6027\\u5316\\u6570\", \"zeroline\": true}}, {\"showLink\": true, \"linkText\": \"Export to plot.ly\"})});</script>"
      ]
     },
     "metadata": {},
     "output_type": "display_data"
    }
   ],
   "source": [
    "data_dict = {'个性化数':['个性化数']}\n",
    "myModule.plot( all_dict, data_dict, '人员' ,  'line' )"
   ]
  },
  {
   "cell_type": "markdown",
   "metadata": {},
   "source": [
    "# 分析项目情况"
   ]
  },
  {
   "cell_type": "markdown",
   "metadata": {
    "collapsed": true
   },
   "source": [
    "## 整体情况"
   ]
  },
  {
   "cell_type": "markdown",
   "metadata": {},
   "source": [
    "### 完成商业项目数"
   ]
  },
  {
   "cell_type": "code",
   "execution_count": 28,
   "metadata": {
    "collapsed": false,
    "scrolled": false
   },
   "outputs": [],
   "source": [
    "all_files , title = myModule.get_title(pathway , 2 ) ##给路径\n",
    "all_dict = myModule.read_xlsx(all_files, 2 ) ## read all files"
   ]
  },
  {
   "cell_type": "code",
   "execution_count": 29,
   "metadata": {
    "collapsed": false,
    "scrolled": false
   },
   "outputs": [
    {
     "data": {
      "application/vnd.plotly.v1+json": {
       "data": [
        {
         "name": "完成商业项目数",
         "type": "bar",
         "uid": "e54ed59a-ca97-11e8-ba41-d89ef3991fb3",
         "x": [
          "8-1",
          "8-2",
          "8-3",
          "8-4",
          "9-1",
          "9-2",
          "9-3",
          "9-4"
         ],
         "y": [
          4,
          5,
          5,
          5,
          11,
          6,
          7,
          6
         ]
        },
        {
         "name": "完成个性化数",
         "type": "bar",
         "uid": "e54ed59b-ca97-11e8-a557-d89ef3991fb3",
         "x": [
          "8-1",
          "8-2",
          "8-3",
          "8-4",
          "9-1",
          "9-2",
          "9-3",
          "9-4"
         ],
         "y": [
          3,
          2,
          2,
          5,
          1,
          6,
          2,
          5
         ]
        }
       ],
       "layout": {
        "title": "完成商业项目数&完成个性化数周趋势图",
        "xaxis": {
         "mirror": "all",
         "nticks": 20,
         "showgrid": true,
         "showline": true,
         "title": "周",
         "zeroline": true
        },
        "yaxis": {
         "mirror": "all",
         "nticks": 20,
         "showgrid": true,
         "showline": true,
         "title": "完成商业项目数&完成个性化数",
         "zeroline": true
        }
       }
      },
      "text/html": [
       "<div id=\"2bea7182-f066-4bd5-b8e3-9793c4bcdb13\" style=\"height: 525px; width: 100%;\" class=\"plotly-graph-div\"></div><script type=\"text/javascript\">require([\"plotly\"], function(Plotly) { window.PLOTLYENV=window.PLOTLYENV || {};window.PLOTLYENV.BASE_URL=\"https://plot.ly\";Plotly.newPlot(\"2bea7182-f066-4bd5-b8e3-9793c4bcdb13\", [{\"name\": \"\\u5b8c\\u6210\\u5546\\u4e1a\\u9879\\u76ee\\u6570\", \"x\": [\"8-1\", \"8-2\", \"8-3\", \"8-4\", \"9-1\", \"9-2\", \"9-3\", \"9-4\"], \"y\": [4.0, 5.0, 5.0, 5.0, 11.0, 6.0, 7.0, 6.0], \"type\": \"bar\", \"uid\": \"e54ed59a-ca97-11e8-ba41-d89ef3991fb3\"}, {\"name\": \"\\u5b8c\\u6210\\u4e2a\\u6027\\u5316\\u6570\", \"x\": [\"8-1\", \"8-2\", \"8-3\", \"8-4\", \"9-1\", \"9-2\", \"9-3\", \"9-4\"], \"y\": [3.0, 2.0, 2.0, 5.0, 1.0, 6.0, 2.0, 5.0], \"type\": \"bar\", \"uid\": \"e54ed59b-ca97-11e8-a557-d89ef3991fb3\"}], {\"title\": \"\\u5b8c\\u6210\\u5546\\u4e1a\\u9879\\u76ee\\u6570&\\u5b8c\\u6210\\u4e2a\\u6027\\u5316\\u6570\\u5468\\u8d8b\\u52bf\\u56fe\", \"xaxis\": {\"mirror\": \"all\", \"nticks\": 20, \"showgrid\": true, \"showline\": true, \"title\": \"\\u5468\", \"zeroline\": true}, \"yaxis\": {\"mirror\": \"all\", \"nticks\": 20, \"showgrid\": true, \"showline\": true, \"title\": \"\\u5b8c\\u6210\\u5546\\u4e1a\\u9879\\u76ee\\u6570&\\u5b8c\\u6210\\u4e2a\\u6027\\u5316\\u6570\", \"zeroline\": true}}, {\"showLink\": true, \"linkText\": \"Export to plot.ly\"})});</script>"
      ],
      "text/vnd.plotly.v1+html": [
       "<div id=\"2bea7182-f066-4bd5-b8e3-9793c4bcdb13\" style=\"height: 525px; width: 100%;\" class=\"plotly-graph-div\"></div><script type=\"text/javascript\">require([\"plotly\"], function(Plotly) { window.PLOTLYENV=window.PLOTLYENV || {};window.PLOTLYENV.BASE_URL=\"https://plot.ly\";Plotly.newPlot(\"2bea7182-f066-4bd5-b8e3-9793c4bcdb13\", [{\"name\": \"\\u5b8c\\u6210\\u5546\\u4e1a\\u9879\\u76ee\\u6570\", \"x\": [\"8-1\", \"8-2\", \"8-3\", \"8-4\", \"9-1\", \"9-2\", \"9-3\", \"9-4\"], \"y\": [4.0, 5.0, 5.0, 5.0, 11.0, 6.0, 7.0, 6.0], \"type\": \"bar\", \"uid\": \"e54ed59a-ca97-11e8-ba41-d89ef3991fb3\"}, {\"name\": \"\\u5b8c\\u6210\\u4e2a\\u6027\\u5316\\u6570\", \"x\": [\"8-1\", \"8-2\", \"8-3\", \"8-4\", \"9-1\", \"9-2\", \"9-3\", \"9-4\"], \"y\": [3.0, 2.0, 2.0, 5.0, 1.0, 6.0, 2.0, 5.0], \"type\": \"bar\", \"uid\": \"e54ed59b-ca97-11e8-a557-d89ef3991fb3\"}], {\"title\": \"\\u5b8c\\u6210\\u5546\\u4e1a\\u9879\\u76ee\\u6570&\\u5b8c\\u6210\\u4e2a\\u6027\\u5316\\u6570\\u5468\\u8d8b\\u52bf\\u56fe\", \"xaxis\": {\"mirror\": \"all\", \"nticks\": 20, \"showgrid\": true, \"showline\": true, \"title\": \"\\u5468\", \"zeroline\": true}, \"yaxis\": {\"mirror\": \"all\", \"nticks\": 20, \"showgrid\": true, \"showline\": true, \"title\": \"\\u5b8c\\u6210\\u5546\\u4e1a\\u9879\\u76ee\\u6570&\\u5b8c\\u6210\\u4e2a\\u6027\\u5316\\u6570\", \"zeroline\": true}}, {\"showLink\": true, \"linkText\": \"Export to plot.ly\"})});</script>"
      ]
     },
     "metadata": {},
     "output_type": "display_data"
    },
    {
     "data": {
      "application/vnd.plotly.v1+json": {
       "data": [
        {
         "name": "完成商业项目数",
         "type": "bar",
         "uid": "e55892f4-ca97-11e8-95d3-d89ef3991fb3",
         "x": [
          "8",
          "9"
         ],
         "y": [
          19,
          30
         ]
        },
        {
         "name": "完成个性化数",
         "type": "bar",
         "uid": "e55892f5-ca97-11e8-9ed5-d89ef3991fb3",
         "x": [
          "8",
          "9"
         ],
         "y": [
          12,
          14
         ]
        }
       ],
       "layout": {
        "title": "完成商业项目数&完成个性化数月趋势图",
        "xaxis": {
         "mirror": "all",
         "nticks": 20,
         "showgrid": true,
         "showline": true,
         "title": "月",
         "zeroline": true
        },
        "yaxis": {
         "mirror": "all",
         "nticks": 20,
         "showgrid": true,
         "showline": true,
         "title": "完成商业项目数&完成个性化数",
         "zeroline": true
        }
       }
      },
      "text/html": [
       "<div id=\"80281ccb-4064-44f6-99da-0e3675d26cfe\" style=\"height: 525px; width: 100%;\" class=\"plotly-graph-div\"></div><script type=\"text/javascript\">require([\"plotly\"], function(Plotly) { window.PLOTLYENV=window.PLOTLYENV || {};window.PLOTLYENV.BASE_URL=\"https://plot.ly\";Plotly.newPlot(\"80281ccb-4064-44f6-99da-0e3675d26cfe\", [{\"name\": \"\\u5b8c\\u6210\\u5546\\u4e1a\\u9879\\u76ee\\u6570\", \"x\": [\"8\", \"9\"], \"y\": [19.0, 30.0], \"type\": \"bar\", \"uid\": \"e55892f4-ca97-11e8-95d3-d89ef3991fb3\"}, {\"name\": \"\\u5b8c\\u6210\\u4e2a\\u6027\\u5316\\u6570\", \"x\": [\"8\", \"9\"], \"y\": [12.0, 14.0], \"type\": \"bar\", \"uid\": \"e55892f5-ca97-11e8-9ed5-d89ef3991fb3\"}], {\"title\": \"\\u5b8c\\u6210\\u5546\\u4e1a\\u9879\\u76ee\\u6570&\\u5b8c\\u6210\\u4e2a\\u6027\\u5316\\u6570\\u6708\\u8d8b\\u52bf\\u56fe\", \"xaxis\": {\"mirror\": \"all\", \"nticks\": 20, \"showgrid\": true, \"showline\": true, \"title\": \"\\u6708\", \"zeroline\": true}, \"yaxis\": {\"mirror\": \"all\", \"nticks\": 20, \"showgrid\": true, \"showline\": true, \"title\": \"\\u5b8c\\u6210\\u5546\\u4e1a\\u9879\\u76ee\\u6570&\\u5b8c\\u6210\\u4e2a\\u6027\\u5316\\u6570\", \"zeroline\": true}}, {\"showLink\": true, \"linkText\": \"Export to plot.ly\"})});</script>"
      ],
      "text/vnd.plotly.v1+html": [
       "<div id=\"80281ccb-4064-44f6-99da-0e3675d26cfe\" style=\"height: 525px; width: 100%;\" class=\"plotly-graph-div\"></div><script type=\"text/javascript\">require([\"plotly\"], function(Plotly) { window.PLOTLYENV=window.PLOTLYENV || {};window.PLOTLYENV.BASE_URL=\"https://plot.ly\";Plotly.newPlot(\"80281ccb-4064-44f6-99da-0e3675d26cfe\", [{\"name\": \"\\u5b8c\\u6210\\u5546\\u4e1a\\u9879\\u76ee\\u6570\", \"x\": [\"8\", \"9\"], \"y\": [19.0, 30.0], \"type\": \"bar\", \"uid\": \"e55892f4-ca97-11e8-95d3-d89ef3991fb3\"}, {\"name\": \"\\u5b8c\\u6210\\u4e2a\\u6027\\u5316\\u6570\", \"x\": [\"8\", \"9\"], \"y\": [12.0, 14.0], \"type\": \"bar\", \"uid\": \"e55892f5-ca97-11e8-9ed5-d89ef3991fb3\"}], {\"title\": \"\\u5b8c\\u6210\\u5546\\u4e1a\\u9879\\u76ee\\u6570&\\u5b8c\\u6210\\u4e2a\\u6027\\u5316\\u6570\\u6708\\u8d8b\\u52bf\\u56fe\", \"xaxis\": {\"mirror\": \"all\", \"nticks\": 20, \"showgrid\": true, \"showline\": true, \"title\": \"\\u6708\", \"zeroline\": true}, \"yaxis\": {\"mirror\": \"all\", \"nticks\": 20, \"showgrid\": true, \"showline\": true, \"title\": \"\\u5b8c\\u6210\\u5546\\u4e1a\\u9879\\u76ee\\u6570&\\u5b8c\\u6210\\u4e2a\\u6027\\u5316\\u6570\", \"zeroline\": true}}, {\"showLink\": true, \"linkText\": \"Export to plot.ly\"})});</script>"
      ]
     },
     "metadata": {},
     "output_type": "display_data"
    }
   ],
   "source": [
    "data_dict = {'完成商业项目数':['完成商业项目数'], '完成个性化数':['完成个性化数']}\n",
    "myModule.plot( all_dict, data_dict, '组别' ,  'bar' , all='all')"
   ]
  },
  {
   "cell_type": "markdown",
   "metadata": {},
   "source": [
    "### 延期项目数"
   ]
  },
  {
   "cell_type": "code",
   "execution_count": 30,
   "metadata": {
    "collapsed": false,
    "scrolled": false
   },
   "outputs": [
    {
     "data": {
      "application/vnd.plotly.v1+json": {
       "data": [
        {
         "name": "延期商业项目数",
         "type": "bar",
         "uid": "e5c27dfa-ca97-11e8-9cd5-d89ef3991fb3",
         "x": [
          "8-1",
          "8-2",
          "8-3",
          "8-4",
          "9-1",
          "9-2",
          "9-3",
          "9-4"
         ],
         "y": [
          0,
          0,
          0,
          0,
          0,
          0,
          2,
          0
         ]
        },
        {
         "name": "延期个性化项目数",
         "type": "bar",
         "uid": "e5c2a4f0-ca97-11e8-afbd-d89ef3991fb3",
         "x": [
          "8-1",
          "8-2",
          "8-3",
          "8-4",
          "9-1",
          "9-2",
          "9-3",
          "9-4"
         ],
         "y": [
          0,
          0,
          0,
          0,
          0,
          0,
          0,
          0
         ]
        }
       ],
       "layout": {
        "title": "延期商业项目数&延期个性化项目数周趋势图",
        "xaxis": {
         "mirror": "all",
         "nticks": 20,
         "showgrid": true,
         "showline": true,
         "title": "周",
         "zeroline": true
        },
        "yaxis": {
         "mirror": "all",
         "nticks": 20,
         "showgrid": true,
         "showline": true,
         "title": "延期商业项目数&延期个性化项目数",
         "zeroline": true
        }
       }
      },
      "text/html": [
       "<div id=\"b2ce79da-98b3-4712-b30d-428419449be3\" style=\"height: 525px; width: 100%;\" class=\"plotly-graph-div\"></div><script type=\"text/javascript\">require([\"plotly\"], function(Plotly) { window.PLOTLYENV=window.PLOTLYENV || {};window.PLOTLYENV.BASE_URL=\"https://plot.ly\";Plotly.newPlot(\"b2ce79da-98b3-4712-b30d-428419449be3\", [{\"name\": \"\\u5ef6\\u671f\\u5546\\u4e1a\\u9879\\u76ee\\u6570\", \"x\": [\"8-1\", \"8-2\", \"8-3\", \"8-4\", \"9-1\", \"9-2\", \"9-3\", \"9-4\"], \"y\": [0.0, 0.0, 0.0, 0.0, 0.0, 0.0, 2.0, 0.0], \"type\": \"bar\", \"uid\": \"e5c27dfa-ca97-11e8-9cd5-d89ef3991fb3\"}, {\"name\": \"\\u5ef6\\u671f\\u4e2a\\u6027\\u5316\\u9879\\u76ee\\u6570\", \"x\": [\"8-1\", \"8-2\", \"8-3\", \"8-4\", \"9-1\", \"9-2\", \"9-3\", \"9-4\"], \"y\": [0.0, 0.0, 0.0, 0.0, 0.0, 0.0, 0.0, 0.0], \"type\": \"bar\", \"uid\": \"e5c2a4f0-ca97-11e8-afbd-d89ef3991fb3\"}], {\"title\": \"\\u5ef6\\u671f\\u5546\\u4e1a\\u9879\\u76ee\\u6570&\\u5ef6\\u671f\\u4e2a\\u6027\\u5316\\u9879\\u76ee\\u6570\\u5468\\u8d8b\\u52bf\\u56fe\", \"xaxis\": {\"mirror\": \"all\", \"nticks\": 20, \"showgrid\": true, \"showline\": true, \"title\": \"\\u5468\", \"zeroline\": true}, \"yaxis\": {\"mirror\": \"all\", \"nticks\": 20, \"showgrid\": true, \"showline\": true, \"title\": \"\\u5ef6\\u671f\\u5546\\u4e1a\\u9879\\u76ee\\u6570&\\u5ef6\\u671f\\u4e2a\\u6027\\u5316\\u9879\\u76ee\\u6570\", \"zeroline\": true}}, {\"showLink\": true, \"linkText\": \"Export to plot.ly\"})});</script>"
      ],
      "text/vnd.plotly.v1+html": [
       "<div id=\"b2ce79da-98b3-4712-b30d-428419449be3\" style=\"height: 525px; width: 100%;\" class=\"plotly-graph-div\"></div><script type=\"text/javascript\">require([\"plotly\"], function(Plotly) { window.PLOTLYENV=window.PLOTLYENV || {};window.PLOTLYENV.BASE_URL=\"https://plot.ly\";Plotly.newPlot(\"b2ce79da-98b3-4712-b30d-428419449be3\", [{\"name\": \"\\u5ef6\\u671f\\u5546\\u4e1a\\u9879\\u76ee\\u6570\", \"x\": [\"8-1\", \"8-2\", \"8-3\", \"8-4\", \"9-1\", \"9-2\", \"9-3\", \"9-4\"], \"y\": [0.0, 0.0, 0.0, 0.0, 0.0, 0.0, 2.0, 0.0], \"type\": \"bar\", \"uid\": \"e5c27dfa-ca97-11e8-9cd5-d89ef3991fb3\"}, {\"name\": \"\\u5ef6\\u671f\\u4e2a\\u6027\\u5316\\u9879\\u76ee\\u6570\", \"x\": [\"8-1\", \"8-2\", \"8-3\", \"8-4\", \"9-1\", \"9-2\", \"9-3\", \"9-4\"], \"y\": [0.0, 0.0, 0.0, 0.0, 0.0, 0.0, 0.0, 0.0], \"type\": \"bar\", \"uid\": \"e5c2a4f0-ca97-11e8-afbd-d89ef3991fb3\"}], {\"title\": \"\\u5ef6\\u671f\\u5546\\u4e1a\\u9879\\u76ee\\u6570&\\u5ef6\\u671f\\u4e2a\\u6027\\u5316\\u9879\\u76ee\\u6570\\u5468\\u8d8b\\u52bf\\u56fe\", \"xaxis\": {\"mirror\": \"all\", \"nticks\": 20, \"showgrid\": true, \"showline\": true, \"title\": \"\\u5468\", \"zeroline\": true}, \"yaxis\": {\"mirror\": \"all\", \"nticks\": 20, \"showgrid\": true, \"showline\": true, \"title\": \"\\u5ef6\\u671f\\u5546\\u4e1a\\u9879\\u76ee\\u6570&\\u5ef6\\u671f\\u4e2a\\u6027\\u5316\\u9879\\u76ee\\u6570\", \"zeroline\": true}}, {\"showLink\": true, \"linkText\": \"Export to plot.ly\"})});</script>"
      ]
     },
     "metadata": {},
     "output_type": "display_data"
    },
    {
     "data": {
      "application/vnd.plotly.v1+json": {
       "data": [
        {
         "name": "延期商业项目数",
         "type": "bar",
         "uid": "e5ce84e4-ca97-11e8-8add-d89ef3991fb3",
         "x": [
          "8",
          "9"
         ],
         "y": [
          0,
          2
         ]
        },
        {
         "name": "延期个性化项目数",
         "type": "bar",
         "uid": "e5ce84e5-ca97-11e8-918a-d89ef3991fb3",
         "x": [
          "8",
          "9"
         ],
         "y": [
          0,
          0
         ]
        }
       ],
       "layout": {
        "title": "延期商业项目数&延期个性化项目数月趋势图",
        "xaxis": {
         "mirror": "all",
         "nticks": 20,
         "showgrid": true,
         "showline": true,
         "title": "月",
         "zeroline": true
        },
        "yaxis": {
         "mirror": "all",
         "nticks": 20,
         "showgrid": true,
         "showline": true,
         "title": "延期商业项目数&延期个性化项目数",
         "zeroline": true
        }
       }
      },
      "text/html": [
       "<div id=\"51625f99-b2a0-4291-addb-a8d5709a230e\" style=\"height: 525px; width: 100%;\" class=\"plotly-graph-div\"></div><script type=\"text/javascript\">require([\"plotly\"], function(Plotly) { window.PLOTLYENV=window.PLOTLYENV || {};window.PLOTLYENV.BASE_URL=\"https://plot.ly\";Plotly.newPlot(\"51625f99-b2a0-4291-addb-a8d5709a230e\", [{\"name\": \"\\u5ef6\\u671f\\u5546\\u4e1a\\u9879\\u76ee\\u6570\", \"x\": [\"8\", \"9\"], \"y\": [0.0, 2.0], \"type\": \"bar\", \"uid\": \"e5ce84e4-ca97-11e8-8add-d89ef3991fb3\"}, {\"name\": \"\\u5ef6\\u671f\\u4e2a\\u6027\\u5316\\u9879\\u76ee\\u6570\", \"x\": [\"8\", \"9\"], \"y\": [0.0, 0.0], \"type\": \"bar\", \"uid\": \"e5ce84e5-ca97-11e8-918a-d89ef3991fb3\"}], {\"title\": \"\\u5ef6\\u671f\\u5546\\u4e1a\\u9879\\u76ee\\u6570&\\u5ef6\\u671f\\u4e2a\\u6027\\u5316\\u9879\\u76ee\\u6570\\u6708\\u8d8b\\u52bf\\u56fe\", \"xaxis\": {\"mirror\": \"all\", \"nticks\": 20, \"showgrid\": true, \"showline\": true, \"title\": \"\\u6708\", \"zeroline\": true}, \"yaxis\": {\"mirror\": \"all\", \"nticks\": 20, \"showgrid\": true, \"showline\": true, \"title\": \"\\u5ef6\\u671f\\u5546\\u4e1a\\u9879\\u76ee\\u6570&\\u5ef6\\u671f\\u4e2a\\u6027\\u5316\\u9879\\u76ee\\u6570\", \"zeroline\": true}}, {\"showLink\": true, \"linkText\": \"Export to plot.ly\"})});</script>"
      ],
      "text/vnd.plotly.v1+html": [
       "<div id=\"51625f99-b2a0-4291-addb-a8d5709a230e\" style=\"height: 525px; width: 100%;\" class=\"plotly-graph-div\"></div><script type=\"text/javascript\">require([\"plotly\"], function(Plotly) { window.PLOTLYENV=window.PLOTLYENV || {};window.PLOTLYENV.BASE_URL=\"https://plot.ly\";Plotly.newPlot(\"51625f99-b2a0-4291-addb-a8d5709a230e\", [{\"name\": \"\\u5ef6\\u671f\\u5546\\u4e1a\\u9879\\u76ee\\u6570\", \"x\": [\"8\", \"9\"], \"y\": [0.0, 2.0], \"type\": \"bar\", \"uid\": \"e5ce84e4-ca97-11e8-8add-d89ef3991fb3\"}, {\"name\": \"\\u5ef6\\u671f\\u4e2a\\u6027\\u5316\\u9879\\u76ee\\u6570\", \"x\": [\"8\", \"9\"], \"y\": [0.0, 0.0], \"type\": \"bar\", \"uid\": \"e5ce84e5-ca97-11e8-918a-d89ef3991fb3\"}], {\"title\": \"\\u5ef6\\u671f\\u5546\\u4e1a\\u9879\\u76ee\\u6570&\\u5ef6\\u671f\\u4e2a\\u6027\\u5316\\u9879\\u76ee\\u6570\\u6708\\u8d8b\\u52bf\\u56fe\", \"xaxis\": {\"mirror\": \"all\", \"nticks\": 20, \"showgrid\": true, \"showline\": true, \"title\": \"\\u6708\", \"zeroline\": true}, \"yaxis\": {\"mirror\": \"all\", \"nticks\": 20, \"showgrid\": true, \"showline\": true, \"title\": \"\\u5ef6\\u671f\\u5546\\u4e1a\\u9879\\u76ee\\u6570&\\u5ef6\\u671f\\u4e2a\\u6027\\u5316\\u9879\\u76ee\\u6570\", \"zeroline\": true}}, {\"showLink\": true, \"linkText\": \"Export to plot.ly\"})});</script>"
      ]
     },
     "metadata": {},
     "output_type": "display_data"
    }
   ],
   "source": [
    "data_dict = {'延期商业项目数':['延期商业项目数'], '延期个性化项目数':['延期个性化项目数']}\n",
    "myModule.plot( all_dict, data_dict, '人员' ,  'bar' , all='all')"
   ]
  },
  {
   "cell_type": "markdown",
   "metadata": {},
   "source": [
    "### 反馈延期数"
   ]
  },
  {
   "cell_type": "code",
   "execution_count": 31,
   "metadata": {
    "collapsed": false,
    "scrolled": false
   },
   "outputs": [
    {
     "data": {
      "application/vnd.plotly.v1+json": {
       "data": [
        {
         "name": "24h内未完成数据反馈项目数",
         "type": "bar",
         "uid": "e62568f4-ca97-11e8-add7-d89ef3991fb3",
         "x": [
          "8-1",
          "8-2",
          "8-3",
          "8-4",
          "9-1",
          "9-2",
          "9-3",
          "9-4"
         ],
         "y": [
          0,
          0,
          0,
          0,
          0,
          0,
          0,
          0
         ]
        },
        {
         "name": "反馈延期个性化数",
         "type": "bar",
         "uid": "e62568f5-ca97-11e8-a860-d89ef3991fb3",
         "x": [
          "8-1",
          "8-2",
          "8-3",
          "8-4",
          "9-1",
          "9-2",
          "9-3",
          "9-4"
         ],
         "y": [
          0,
          0,
          0,
          0,
          0,
          0,
          0,
          0
         ]
        }
       ],
       "layout": {
        "title": "24h内未完成数据反馈项目数&反馈延期个性化数周趋势图",
        "xaxis": {
         "mirror": "all",
         "nticks": 20,
         "showgrid": true,
         "showline": true,
         "title": "周",
         "zeroline": true
        },
        "yaxis": {
         "mirror": "all",
         "nticks": 20,
         "showgrid": true,
         "showline": true,
         "title": "24h内未完成数据反馈项目数&反馈延期个性化数",
         "zeroline": true
        }
       }
      },
      "text/html": [
       "<div id=\"d787c644-c4d9-4b20-b534-f25844d244c5\" style=\"height: 525px; width: 100%;\" class=\"plotly-graph-div\"></div><script type=\"text/javascript\">require([\"plotly\"], function(Plotly) { window.PLOTLYENV=window.PLOTLYENV || {};window.PLOTLYENV.BASE_URL=\"https://plot.ly\";Plotly.newPlot(\"d787c644-c4d9-4b20-b534-f25844d244c5\", [{\"name\": \"24h\\u5185\\u672a\\u5b8c\\u6210\\u6570\\u636e\\u53cd\\u9988\\u9879\\u76ee\\u6570\", \"x\": [\"8-1\", \"8-2\", \"8-3\", \"8-4\", \"9-1\", \"9-2\", \"9-3\", \"9-4\"], \"y\": [0.0, 0.0, 0.0, 0.0, 0.0, 0.0, 0.0, 0.0], \"type\": \"bar\", \"uid\": \"e62568f4-ca97-11e8-add7-d89ef3991fb3\"}, {\"name\": \"\\u53cd\\u9988\\u5ef6\\u671f\\u4e2a\\u6027\\u5316\\u6570\", \"x\": [\"8-1\", \"8-2\", \"8-3\", \"8-4\", \"9-1\", \"9-2\", \"9-3\", \"9-4\"], \"y\": [0.0, 0.0, 0.0, 0.0, 0.0, 0.0, 0.0, 0.0], \"type\": \"bar\", \"uid\": \"e62568f5-ca97-11e8-a860-d89ef3991fb3\"}], {\"title\": \"24h\\u5185\\u672a\\u5b8c\\u6210\\u6570\\u636e\\u53cd\\u9988\\u9879\\u76ee\\u6570&\\u53cd\\u9988\\u5ef6\\u671f\\u4e2a\\u6027\\u5316\\u6570\\u5468\\u8d8b\\u52bf\\u56fe\", \"xaxis\": {\"mirror\": \"all\", \"nticks\": 20, \"showgrid\": true, \"showline\": true, \"title\": \"\\u5468\", \"zeroline\": true}, \"yaxis\": {\"mirror\": \"all\", \"nticks\": 20, \"showgrid\": true, \"showline\": true, \"title\": \"24h\\u5185\\u672a\\u5b8c\\u6210\\u6570\\u636e\\u53cd\\u9988\\u9879\\u76ee\\u6570&\\u53cd\\u9988\\u5ef6\\u671f\\u4e2a\\u6027\\u5316\\u6570\", \"zeroline\": true}}, {\"showLink\": true, \"linkText\": \"Export to plot.ly\"})});</script>"
      ],
      "text/vnd.plotly.v1+html": [
       "<div id=\"d787c644-c4d9-4b20-b534-f25844d244c5\" style=\"height: 525px; width: 100%;\" class=\"plotly-graph-div\"></div><script type=\"text/javascript\">require([\"plotly\"], function(Plotly) { window.PLOTLYENV=window.PLOTLYENV || {};window.PLOTLYENV.BASE_URL=\"https://plot.ly\";Plotly.newPlot(\"d787c644-c4d9-4b20-b534-f25844d244c5\", [{\"name\": \"24h\\u5185\\u672a\\u5b8c\\u6210\\u6570\\u636e\\u53cd\\u9988\\u9879\\u76ee\\u6570\", \"x\": [\"8-1\", \"8-2\", \"8-3\", \"8-4\", \"9-1\", \"9-2\", \"9-3\", \"9-4\"], \"y\": [0.0, 0.0, 0.0, 0.0, 0.0, 0.0, 0.0, 0.0], \"type\": \"bar\", \"uid\": \"e62568f4-ca97-11e8-add7-d89ef3991fb3\"}, {\"name\": \"\\u53cd\\u9988\\u5ef6\\u671f\\u4e2a\\u6027\\u5316\\u6570\", \"x\": [\"8-1\", \"8-2\", \"8-3\", \"8-4\", \"9-1\", \"9-2\", \"9-3\", \"9-4\"], \"y\": [0.0, 0.0, 0.0, 0.0, 0.0, 0.0, 0.0, 0.0], \"type\": \"bar\", \"uid\": \"e62568f5-ca97-11e8-a860-d89ef3991fb3\"}], {\"title\": \"24h\\u5185\\u672a\\u5b8c\\u6210\\u6570\\u636e\\u53cd\\u9988\\u9879\\u76ee\\u6570&\\u53cd\\u9988\\u5ef6\\u671f\\u4e2a\\u6027\\u5316\\u6570\\u5468\\u8d8b\\u52bf\\u56fe\", \"xaxis\": {\"mirror\": \"all\", \"nticks\": 20, \"showgrid\": true, \"showline\": true, \"title\": \"\\u5468\", \"zeroline\": true}, \"yaxis\": {\"mirror\": \"all\", \"nticks\": 20, \"showgrid\": true, \"showline\": true, \"title\": \"24h\\u5185\\u672a\\u5b8c\\u6210\\u6570\\u636e\\u53cd\\u9988\\u9879\\u76ee\\u6570&\\u53cd\\u9988\\u5ef6\\u671f\\u4e2a\\u6027\\u5316\\u6570\", \"zeroline\": true}}, {\"showLink\": true, \"linkText\": \"Export to plot.ly\"})});</script>"
      ]
     },
     "metadata": {},
     "output_type": "display_data"
    },
    {
     "data": {
      "application/vnd.plotly.v1+json": {
       "data": [
        {
         "name": "24h内未完成数据反馈项目数",
         "type": "bar",
         "uid": "e62e63dc-ca97-11e8-9de3-d89ef3991fb3",
         "x": [
          "8",
          "9"
         ],
         "y": [
          0,
          0
         ]
        },
        {
         "name": "反馈延期个性化数",
         "type": "bar",
         "uid": "e62e8ad4-ca97-11e8-a543-d89ef3991fb3",
         "x": [
          "8",
          "9"
         ],
         "y": [
          0,
          0
         ]
        }
       ],
       "layout": {
        "title": "24h内未完成数据反馈项目数&反馈延期个性化数月趋势图",
        "xaxis": {
         "mirror": "all",
         "nticks": 20,
         "showgrid": true,
         "showline": true,
         "title": "月",
         "zeroline": true
        },
        "yaxis": {
         "mirror": "all",
         "nticks": 20,
         "showgrid": true,
         "showline": true,
         "title": "24h内未完成数据反馈项目数&反馈延期个性化数",
         "zeroline": true
        }
       }
      },
      "text/html": [
       "<div id=\"733ced2a-1e9a-47e5-add3-d69788fbb43a\" style=\"height: 525px; width: 100%;\" class=\"plotly-graph-div\"></div><script type=\"text/javascript\">require([\"plotly\"], function(Plotly) { window.PLOTLYENV=window.PLOTLYENV || {};window.PLOTLYENV.BASE_URL=\"https://plot.ly\";Plotly.newPlot(\"733ced2a-1e9a-47e5-add3-d69788fbb43a\", [{\"name\": \"24h\\u5185\\u672a\\u5b8c\\u6210\\u6570\\u636e\\u53cd\\u9988\\u9879\\u76ee\\u6570\", \"x\": [\"8\", \"9\"], \"y\": [0.0, 0.0], \"type\": \"bar\", \"uid\": \"e62e63dc-ca97-11e8-9de3-d89ef3991fb3\"}, {\"name\": \"\\u53cd\\u9988\\u5ef6\\u671f\\u4e2a\\u6027\\u5316\\u6570\", \"x\": [\"8\", \"9\"], \"y\": [0.0, 0.0], \"type\": \"bar\", \"uid\": \"e62e8ad4-ca97-11e8-a543-d89ef3991fb3\"}], {\"title\": \"24h\\u5185\\u672a\\u5b8c\\u6210\\u6570\\u636e\\u53cd\\u9988\\u9879\\u76ee\\u6570&\\u53cd\\u9988\\u5ef6\\u671f\\u4e2a\\u6027\\u5316\\u6570\\u6708\\u8d8b\\u52bf\\u56fe\", \"xaxis\": {\"mirror\": \"all\", \"nticks\": 20, \"showgrid\": true, \"showline\": true, \"title\": \"\\u6708\", \"zeroline\": true}, \"yaxis\": {\"mirror\": \"all\", \"nticks\": 20, \"showgrid\": true, \"showline\": true, \"title\": \"24h\\u5185\\u672a\\u5b8c\\u6210\\u6570\\u636e\\u53cd\\u9988\\u9879\\u76ee\\u6570&\\u53cd\\u9988\\u5ef6\\u671f\\u4e2a\\u6027\\u5316\\u6570\", \"zeroline\": true}}, {\"showLink\": true, \"linkText\": \"Export to plot.ly\"})});</script>"
      ],
      "text/vnd.plotly.v1+html": [
       "<div id=\"733ced2a-1e9a-47e5-add3-d69788fbb43a\" style=\"height: 525px; width: 100%;\" class=\"plotly-graph-div\"></div><script type=\"text/javascript\">require([\"plotly\"], function(Plotly) { window.PLOTLYENV=window.PLOTLYENV || {};window.PLOTLYENV.BASE_URL=\"https://plot.ly\";Plotly.newPlot(\"733ced2a-1e9a-47e5-add3-d69788fbb43a\", [{\"name\": \"24h\\u5185\\u672a\\u5b8c\\u6210\\u6570\\u636e\\u53cd\\u9988\\u9879\\u76ee\\u6570\", \"x\": [\"8\", \"9\"], \"y\": [0.0, 0.0], \"type\": \"bar\", \"uid\": \"e62e63dc-ca97-11e8-9de3-d89ef3991fb3\"}, {\"name\": \"\\u53cd\\u9988\\u5ef6\\u671f\\u4e2a\\u6027\\u5316\\u6570\", \"x\": [\"8\", \"9\"], \"y\": [0.0, 0.0], \"type\": \"bar\", \"uid\": \"e62e8ad4-ca97-11e8-a543-d89ef3991fb3\"}], {\"title\": \"24h\\u5185\\u672a\\u5b8c\\u6210\\u6570\\u636e\\u53cd\\u9988\\u9879\\u76ee\\u6570&\\u53cd\\u9988\\u5ef6\\u671f\\u4e2a\\u6027\\u5316\\u6570\\u6708\\u8d8b\\u52bf\\u56fe\", \"xaxis\": {\"mirror\": \"all\", \"nticks\": 20, \"showgrid\": true, \"showline\": true, \"title\": \"\\u6708\", \"zeroline\": true}, \"yaxis\": {\"mirror\": \"all\", \"nticks\": 20, \"showgrid\": true, \"showline\": true, \"title\": \"24h\\u5185\\u672a\\u5b8c\\u6210\\u6570\\u636e\\u53cd\\u9988\\u9879\\u76ee\\u6570&\\u53cd\\u9988\\u5ef6\\u671f\\u4e2a\\u6027\\u5316\\u6570\", \"zeroline\": true}}, {\"showLink\": true, \"linkText\": \"Export to plot.ly\"})});</script>"
      ]
     },
     "metadata": {},
     "output_type": "display_data"
    }
   ],
   "source": [
    "data_dict = {'24h内未完成数据反馈项目数':['24h内未完成数据反馈项目数'], '反馈延期个性化数':['反馈延期个性化数']}\n",
    "myModule.plot( all_dict, data_dict, '人员' ,  'bar' , all='all')"
   ]
  },
  {
   "cell_type": "markdown",
   "metadata": {},
   "source": [
    "### 延期率"
   ]
  },
  {
   "cell_type": "code",
   "execution_count": 32,
   "metadata": {
    "collapsed": false,
    "scrolled": false
   },
   "outputs": [
    {
     "data": {
      "application/vnd.plotly.v1+json": {
       "data": [
        {
         "name": "商业项目延期率",
         "type": "scatter",
         "uid": "e685e488-ca97-11e8-bede-d89ef3991fb3",
         "x": [
          "8-1",
          "8-2",
          "8-3",
          "8-4",
          "9-1",
          "9-2",
          "9-3",
          "9-4"
         ],
         "y": [
          0,
          0,
          0,
          0,
          0,
          0,
          0,
          0
         ]
        },
        {
         "name": "个性化项目延期率",
         "type": "scatter",
         "uid": "e685e489-ca97-11e8-87f3-d89ef3991fb3",
         "x": [
          "8-1",
          "8-2",
          "8-3",
          "8-4",
          "9-1",
          "9-2",
          "9-3",
          "9-4"
         ],
         "y": [
          0,
          0,
          0,
          0,
          0,
          0,
          0,
          0
         ]
        },
        {
         "name": "项目总延期率",
         "type": "scatter",
         "uid": "e685e48a-ca97-11e8-bccf-d89ef3991fb3",
         "x": [
          "8-1",
          "8-2",
          "8-3",
          "8-4",
          "9-1",
          "9-2",
          "9-3",
          "9-4"
         ],
         "y": [
          0,
          0,
          0,
          0,
          0,
          0,
          0,
          0
         ]
        }
       ],
       "layout": {
        "title": "商业项目延期率&个性化项目延期率&项目总延期率周趋势图",
        "xaxis": {
         "mirror": "all",
         "nticks": 20,
         "showgrid": true,
         "showline": true,
         "title": "周",
         "zeroline": true
        },
        "yaxis": {
         "mirror": "all",
         "nticks": 20,
         "showgrid": true,
         "showline": true,
         "title": "商业项目延期率&个性化项目延期率&项目总延期率",
         "zeroline": true
        }
       }
      },
      "text/html": [
       "<div id=\"731a3920-e824-4455-a6a5-b2fb907d63af\" style=\"height: 525px; width: 100%;\" class=\"plotly-graph-div\"></div><script type=\"text/javascript\">require([\"plotly\"], function(Plotly) { window.PLOTLYENV=window.PLOTLYENV || {};window.PLOTLYENV.BASE_URL=\"https://plot.ly\";Plotly.newPlot(\"731a3920-e824-4455-a6a5-b2fb907d63af\", [{\"name\": \"\\u5546\\u4e1a\\u9879\\u76ee\\u5ef6\\u671f\\u7387\", \"x\": [\"8-1\", \"8-2\", \"8-3\", \"8-4\", \"9-1\", \"9-2\", \"9-3\", \"9-4\"], \"y\": [0.0, 0.0, 0.0, 0.0, 0.0, 0.0, 0.0, 0.0], \"type\": \"scatter\", \"uid\": \"e685e488-ca97-11e8-bede-d89ef3991fb3\"}, {\"name\": \"\\u4e2a\\u6027\\u5316\\u9879\\u76ee\\u5ef6\\u671f\\u7387\", \"x\": [\"8-1\", \"8-2\", \"8-3\", \"8-4\", \"9-1\", \"9-2\", \"9-3\", \"9-4\"], \"y\": [0.0, 0.0, 0.0, 0.0, 0.0, 0.0, 0.0, 0.0], \"type\": \"scatter\", \"uid\": \"e685e489-ca97-11e8-87f3-d89ef3991fb3\"}, {\"name\": \"\\u9879\\u76ee\\u603b\\u5ef6\\u671f\\u7387\", \"x\": [\"8-1\", \"8-2\", \"8-3\", \"8-4\", \"9-1\", \"9-2\", \"9-3\", \"9-4\"], \"y\": [0.0, 0.0, 0.0, 0.0, 0.0, 0.0, 0.0, 0.0], \"type\": \"scatter\", \"uid\": \"e685e48a-ca97-11e8-bccf-d89ef3991fb3\"}], {\"title\": \"\\u5546\\u4e1a\\u9879\\u76ee\\u5ef6\\u671f\\u7387&\\u4e2a\\u6027\\u5316\\u9879\\u76ee\\u5ef6\\u671f\\u7387&\\u9879\\u76ee\\u603b\\u5ef6\\u671f\\u7387\\u5468\\u8d8b\\u52bf\\u56fe\", \"xaxis\": {\"mirror\": \"all\", \"nticks\": 20, \"showgrid\": true, \"showline\": true, \"title\": \"\\u5468\", \"zeroline\": true}, \"yaxis\": {\"mirror\": \"all\", \"nticks\": 20, \"showgrid\": true, \"showline\": true, \"title\": \"\\u5546\\u4e1a\\u9879\\u76ee\\u5ef6\\u671f\\u7387&\\u4e2a\\u6027\\u5316\\u9879\\u76ee\\u5ef6\\u671f\\u7387&\\u9879\\u76ee\\u603b\\u5ef6\\u671f\\u7387\", \"zeroline\": true}}, {\"showLink\": true, \"linkText\": \"Export to plot.ly\"})});</script>"
      ],
      "text/vnd.plotly.v1+html": [
       "<div id=\"731a3920-e824-4455-a6a5-b2fb907d63af\" style=\"height: 525px; width: 100%;\" class=\"plotly-graph-div\"></div><script type=\"text/javascript\">require([\"plotly\"], function(Plotly) { window.PLOTLYENV=window.PLOTLYENV || {};window.PLOTLYENV.BASE_URL=\"https://plot.ly\";Plotly.newPlot(\"731a3920-e824-4455-a6a5-b2fb907d63af\", [{\"name\": \"\\u5546\\u4e1a\\u9879\\u76ee\\u5ef6\\u671f\\u7387\", \"x\": [\"8-1\", \"8-2\", \"8-3\", \"8-4\", \"9-1\", \"9-2\", \"9-3\", \"9-4\"], \"y\": [0.0, 0.0, 0.0, 0.0, 0.0, 0.0, 0.0, 0.0], \"type\": \"scatter\", \"uid\": \"e685e488-ca97-11e8-bede-d89ef3991fb3\"}, {\"name\": \"\\u4e2a\\u6027\\u5316\\u9879\\u76ee\\u5ef6\\u671f\\u7387\", \"x\": [\"8-1\", \"8-2\", \"8-3\", \"8-4\", \"9-1\", \"9-2\", \"9-3\", \"9-4\"], \"y\": [0.0, 0.0, 0.0, 0.0, 0.0, 0.0, 0.0, 0.0], \"type\": \"scatter\", \"uid\": \"e685e489-ca97-11e8-87f3-d89ef3991fb3\"}, {\"name\": \"\\u9879\\u76ee\\u603b\\u5ef6\\u671f\\u7387\", \"x\": [\"8-1\", \"8-2\", \"8-3\", \"8-4\", \"9-1\", \"9-2\", \"9-3\", \"9-4\"], \"y\": [0.0, 0.0, 0.0, 0.0, 0.0, 0.0, 0.0, 0.0], \"type\": \"scatter\", \"uid\": \"e685e48a-ca97-11e8-bccf-d89ef3991fb3\"}], {\"title\": \"\\u5546\\u4e1a\\u9879\\u76ee\\u5ef6\\u671f\\u7387&\\u4e2a\\u6027\\u5316\\u9879\\u76ee\\u5ef6\\u671f\\u7387&\\u9879\\u76ee\\u603b\\u5ef6\\u671f\\u7387\\u5468\\u8d8b\\u52bf\\u56fe\", \"xaxis\": {\"mirror\": \"all\", \"nticks\": 20, \"showgrid\": true, \"showline\": true, \"title\": \"\\u5468\", \"zeroline\": true}, \"yaxis\": {\"mirror\": \"all\", \"nticks\": 20, \"showgrid\": true, \"showline\": true, \"title\": \"\\u5546\\u4e1a\\u9879\\u76ee\\u5ef6\\u671f\\u7387&\\u4e2a\\u6027\\u5316\\u9879\\u76ee\\u5ef6\\u671f\\u7387&\\u9879\\u76ee\\u603b\\u5ef6\\u671f\\u7387\", \"zeroline\": true}}, {\"showLink\": true, \"linkText\": \"Export to plot.ly\"})});</script>"
      ]
     },
     "metadata": {},
     "output_type": "display_data"
    },
    {
     "data": {
      "application/vnd.plotly.v1+json": {
       "data": [
        {
         "name": "商业项目延期率",
         "type": "scatter",
         "uid": "e69064a8-ca97-11e8-adbd-d89ef3991fb3",
         "x": [
          "8",
          "9"
         ],
         "y": [
          0,
          0
         ]
        },
        {
         "name": "个性化项目延期率",
         "type": "scatter",
         "uid": "e69064a9-ca97-11e8-81f8-d89ef3991fb3",
         "x": [
          "8",
          "9"
         ],
         "y": [
          0,
          0
         ]
        },
        {
         "name": "项目总延期率",
         "type": "scatter",
         "uid": "e69064aa-ca97-11e8-a9f2-d89ef3991fb3",
         "x": [
          "8",
          "9"
         ],
         "y": [
          0,
          0
         ]
        }
       ],
       "layout": {
        "title": "商业项目延期率&个性化项目延期率&项目总延期率月趋势图",
        "xaxis": {
         "mirror": "all",
         "nticks": 20,
         "showgrid": true,
         "showline": true,
         "title": "月",
         "zeroline": true
        },
        "yaxis": {
         "mirror": "all",
         "nticks": 20,
         "showgrid": true,
         "showline": true,
         "title": "商业项目延期率&个性化项目延期率&项目总延期率",
         "zeroline": true
        }
       }
      },
      "text/html": [
       "<div id=\"2fdeb709-b8c3-4b45-b76d-0b9a08b7d582\" style=\"height: 525px; width: 100%;\" class=\"plotly-graph-div\"></div><script type=\"text/javascript\">require([\"plotly\"], function(Plotly) { window.PLOTLYENV=window.PLOTLYENV || {};window.PLOTLYENV.BASE_URL=\"https://plot.ly\";Plotly.newPlot(\"2fdeb709-b8c3-4b45-b76d-0b9a08b7d582\", [{\"name\": \"\\u5546\\u4e1a\\u9879\\u76ee\\u5ef6\\u671f\\u7387\", \"x\": [\"8\", \"9\"], \"y\": [0.0, 0.0], \"type\": \"scatter\", \"uid\": \"e69064a8-ca97-11e8-adbd-d89ef3991fb3\"}, {\"name\": \"\\u4e2a\\u6027\\u5316\\u9879\\u76ee\\u5ef6\\u671f\\u7387\", \"x\": [\"8\", \"9\"], \"y\": [0.0, 0.0], \"type\": \"scatter\", \"uid\": \"e69064a9-ca97-11e8-81f8-d89ef3991fb3\"}, {\"name\": \"\\u9879\\u76ee\\u603b\\u5ef6\\u671f\\u7387\", \"x\": [\"8\", \"9\"], \"y\": [0.0, 0.0], \"type\": \"scatter\", \"uid\": \"e69064aa-ca97-11e8-a9f2-d89ef3991fb3\"}], {\"title\": \"\\u5546\\u4e1a\\u9879\\u76ee\\u5ef6\\u671f\\u7387&\\u4e2a\\u6027\\u5316\\u9879\\u76ee\\u5ef6\\u671f\\u7387&\\u9879\\u76ee\\u603b\\u5ef6\\u671f\\u7387\\u6708\\u8d8b\\u52bf\\u56fe\", \"xaxis\": {\"mirror\": \"all\", \"nticks\": 20, \"showgrid\": true, \"showline\": true, \"title\": \"\\u6708\", \"zeroline\": true}, \"yaxis\": {\"mirror\": \"all\", \"nticks\": 20, \"showgrid\": true, \"showline\": true, \"title\": \"\\u5546\\u4e1a\\u9879\\u76ee\\u5ef6\\u671f\\u7387&\\u4e2a\\u6027\\u5316\\u9879\\u76ee\\u5ef6\\u671f\\u7387&\\u9879\\u76ee\\u603b\\u5ef6\\u671f\\u7387\", \"zeroline\": true}}, {\"showLink\": true, \"linkText\": \"Export to plot.ly\"})});</script>"
      ],
      "text/vnd.plotly.v1+html": [
       "<div id=\"2fdeb709-b8c3-4b45-b76d-0b9a08b7d582\" style=\"height: 525px; width: 100%;\" class=\"plotly-graph-div\"></div><script type=\"text/javascript\">require([\"plotly\"], function(Plotly) { window.PLOTLYENV=window.PLOTLYENV || {};window.PLOTLYENV.BASE_URL=\"https://plot.ly\";Plotly.newPlot(\"2fdeb709-b8c3-4b45-b76d-0b9a08b7d582\", [{\"name\": \"\\u5546\\u4e1a\\u9879\\u76ee\\u5ef6\\u671f\\u7387\", \"x\": [\"8\", \"9\"], \"y\": [0.0, 0.0], \"type\": \"scatter\", \"uid\": \"e69064a8-ca97-11e8-adbd-d89ef3991fb3\"}, {\"name\": \"\\u4e2a\\u6027\\u5316\\u9879\\u76ee\\u5ef6\\u671f\\u7387\", \"x\": [\"8\", \"9\"], \"y\": [0.0, 0.0], \"type\": \"scatter\", \"uid\": \"e69064a9-ca97-11e8-81f8-d89ef3991fb3\"}, {\"name\": \"\\u9879\\u76ee\\u603b\\u5ef6\\u671f\\u7387\", \"x\": [\"8\", \"9\"], \"y\": [0.0, 0.0], \"type\": \"scatter\", \"uid\": \"e69064aa-ca97-11e8-a9f2-d89ef3991fb3\"}], {\"title\": \"\\u5546\\u4e1a\\u9879\\u76ee\\u5ef6\\u671f\\u7387&\\u4e2a\\u6027\\u5316\\u9879\\u76ee\\u5ef6\\u671f\\u7387&\\u9879\\u76ee\\u603b\\u5ef6\\u671f\\u7387\\u6708\\u8d8b\\u52bf\\u56fe\", \"xaxis\": {\"mirror\": \"all\", \"nticks\": 20, \"showgrid\": true, \"showline\": true, \"title\": \"\\u6708\", \"zeroline\": true}, \"yaxis\": {\"mirror\": \"all\", \"nticks\": 20, \"showgrid\": true, \"showline\": true, \"title\": \"\\u5546\\u4e1a\\u9879\\u76ee\\u5ef6\\u671f\\u7387&\\u4e2a\\u6027\\u5316\\u9879\\u76ee\\u5ef6\\u671f\\u7387&\\u9879\\u76ee\\u603b\\u5ef6\\u671f\\u7387\", \"zeroline\": true}}, {\"showLink\": true, \"linkText\": \"Export to plot.ly\"})});</script>"
      ]
     },
     "metadata": {},
     "output_type": "display_data"
    }
   ],
   "source": [
    "data_dict = {'商业项目延期率':['商业项目延期率'],'个性化项目延期率':['个性化项目延期率'],'项目总延期率':['项目总延期率']}\n",
    "myModule.plot( all_dict, data_dict, '人员' ,  'line' , all='all')"
   ]
  },
  {
   "cell_type": "markdown",
   "metadata": {},
   "source": [
    "### 反馈延期率"
   ]
  },
  {
   "cell_type": "code",
   "execution_count": 33,
   "metadata": {
    "collapsed": false,
    "scrolled": false
   },
   "outputs": [
    {
     "data": {
      "application/vnd.plotly.v1+json": {
       "data": [
        {
         "name": "数据反馈延期率",
         "type": "scatter",
         "uid": "e6dd8c8a-ca97-11e8-8ff3-d89ef3991fb3",
         "x": [
          "8-1",
          "8-2",
          "8-3",
          "8-4",
          "9-1",
          "9-2",
          "9-3",
          "9-4"
         ],
         "y": [
          0,
          0,
          0,
          0,
          0,
          0,
          0,
          0
         ]
        },
        {
         "name": "个性化反馈延期率",
         "type": "scatter",
         "uid": "e6dd8c8b-ca97-11e8-aa7e-d89ef3991fb3",
         "x": [
          "8-1",
          "8-2",
          "8-3",
          "8-4",
          "9-1",
          "9-2",
          "9-3",
          "9-4"
         ],
         "y": [
          0,
          0,
          0,
          0,
          0,
          0,
          0,
          0
         ]
        }
       ],
       "layout": {
        "title": "数据反馈延期率&个性化反馈延期率周趋势图",
        "xaxis": {
         "mirror": "all",
         "nticks": 20,
         "showgrid": true,
         "showline": true,
         "title": "周",
         "zeroline": true
        },
        "yaxis": {
         "mirror": "all",
         "nticks": 20,
         "showgrid": true,
         "showline": true,
         "title": "数据反馈延期率&个性化反馈延期率",
         "zeroline": true
        }
       }
      },
      "text/html": [
       "<div id=\"1253e1ac-0780-46fa-b7b0-61ea1896c281\" style=\"height: 525px; width: 100%;\" class=\"plotly-graph-div\"></div><script type=\"text/javascript\">require([\"plotly\"], function(Plotly) { window.PLOTLYENV=window.PLOTLYENV || {};window.PLOTLYENV.BASE_URL=\"https://plot.ly\";Plotly.newPlot(\"1253e1ac-0780-46fa-b7b0-61ea1896c281\", [{\"name\": \"\\u6570\\u636e\\u53cd\\u9988\\u5ef6\\u671f\\u7387\", \"x\": [\"8-1\", \"8-2\", \"8-3\", \"8-4\", \"9-1\", \"9-2\", \"9-3\", \"9-4\"], \"y\": [0.0, 0.0, 0.0, 0.0, 0.0, 0.0, 0.0, 0.0], \"type\": \"scatter\", \"uid\": \"e6dd8c8a-ca97-11e8-8ff3-d89ef3991fb3\"}, {\"name\": \"\\u4e2a\\u6027\\u5316\\u53cd\\u9988\\u5ef6\\u671f\\u7387\", \"x\": [\"8-1\", \"8-2\", \"8-3\", \"8-4\", \"9-1\", \"9-2\", \"9-3\", \"9-4\"], \"y\": [0.0, 0.0, 0.0, 0.0, 0.0, 0.0, 0.0, 0.0], \"type\": \"scatter\", \"uid\": \"e6dd8c8b-ca97-11e8-aa7e-d89ef3991fb3\"}], {\"title\": \"\\u6570\\u636e\\u53cd\\u9988\\u5ef6\\u671f\\u7387&\\u4e2a\\u6027\\u5316\\u53cd\\u9988\\u5ef6\\u671f\\u7387\\u5468\\u8d8b\\u52bf\\u56fe\", \"xaxis\": {\"mirror\": \"all\", \"nticks\": 20, \"showgrid\": true, \"showline\": true, \"title\": \"\\u5468\", \"zeroline\": true}, \"yaxis\": {\"mirror\": \"all\", \"nticks\": 20, \"showgrid\": true, \"showline\": true, \"title\": \"\\u6570\\u636e\\u53cd\\u9988\\u5ef6\\u671f\\u7387&\\u4e2a\\u6027\\u5316\\u53cd\\u9988\\u5ef6\\u671f\\u7387\", \"zeroline\": true}}, {\"showLink\": true, \"linkText\": \"Export to plot.ly\"})});</script>"
      ],
      "text/vnd.plotly.v1+html": [
       "<div id=\"1253e1ac-0780-46fa-b7b0-61ea1896c281\" style=\"height: 525px; width: 100%;\" class=\"plotly-graph-div\"></div><script type=\"text/javascript\">require([\"plotly\"], function(Plotly) { window.PLOTLYENV=window.PLOTLYENV || {};window.PLOTLYENV.BASE_URL=\"https://plot.ly\";Plotly.newPlot(\"1253e1ac-0780-46fa-b7b0-61ea1896c281\", [{\"name\": \"\\u6570\\u636e\\u53cd\\u9988\\u5ef6\\u671f\\u7387\", \"x\": [\"8-1\", \"8-2\", \"8-3\", \"8-4\", \"9-1\", \"9-2\", \"9-3\", \"9-4\"], \"y\": [0.0, 0.0, 0.0, 0.0, 0.0, 0.0, 0.0, 0.0], \"type\": \"scatter\", \"uid\": \"e6dd8c8a-ca97-11e8-8ff3-d89ef3991fb3\"}, {\"name\": \"\\u4e2a\\u6027\\u5316\\u53cd\\u9988\\u5ef6\\u671f\\u7387\", \"x\": [\"8-1\", \"8-2\", \"8-3\", \"8-4\", \"9-1\", \"9-2\", \"9-3\", \"9-4\"], \"y\": [0.0, 0.0, 0.0, 0.0, 0.0, 0.0, 0.0, 0.0], \"type\": \"scatter\", \"uid\": \"e6dd8c8b-ca97-11e8-aa7e-d89ef3991fb3\"}], {\"title\": \"\\u6570\\u636e\\u53cd\\u9988\\u5ef6\\u671f\\u7387&\\u4e2a\\u6027\\u5316\\u53cd\\u9988\\u5ef6\\u671f\\u7387\\u5468\\u8d8b\\u52bf\\u56fe\", \"xaxis\": {\"mirror\": \"all\", \"nticks\": 20, \"showgrid\": true, \"showline\": true, \"title\": \"\\u5468\", \"zeroline\": true}, \"yaxis\": {\"mirror\": \"all\", \"nticks\": 20, \"showgrid\": true, \"showline\": true, \"title\": \"\\u6570\\u636e\\u53cd\\u9988\\u5ef6\\u671f\\u7387&\\u4e2a\\u6027\\u5316\\u53cd\\u9988\\u5ef6\\u671f\\u7387\", \"zeroline\": true}}, {\"showLink\": true, \"linkText\": \"Export to plot.ly\"})});</script>"
      ]
     },
     "metadata": {},
     "output_type": "display_data"
    },
    {
     "data": {
      "application/vnd.plotly.v1+json": {
       "data": [
        {
         "name": "数据反馈延期率",
         "type": "scatter",
         "uid": "e6e6ae1c-ca97-11e8-b1ee-d89ef3991fb3",
         "x": [
          "8",
          "9"
         ],
         "y": [
          0,
          0
         ]
        },
        {
         "name": "个性化反馈延期率",
         "type": "scatter",
         "uid": "e6e6ae1d-ca97-11e8-8871-d89ef3991fb3",
         "x": [
          "8",
          "9"
         ],
         "y": [
          0,
          0
         ]
        }
       ],
       "layout": {
        "title": "数据反馈延期率&个性化反馈延期率月趋势图",
        "xaxis": {
         "mirror": "all",
         "nticks": 20,
         "showgrid": true,
         "showline": true,
         "title": "月",
         "zeroline": true
        },
        "yaxis": {
         "mirror": "all",
         "nticks": 20,
         "showgrid": true,
         "showline": true,
         "title": "数据反馈延期率&个性化反馈延期率",
         "zeroline": true
        }
       }
      },
      "text/html": [
       "<div id=\"a3dc35f4-4ae2-4306-b97d-a920f10969e7\" style=\"height: 525px; width: 100%;\" class=\"plotly-graph-div\"></div><script type=\"text/javascript\">require([\"plotly\"], function(Plotly) { window.PLOTLYENV=window.PLOTLYENV || {};window.PLOTLYENV.BASE_URL=\"https://plot.ly\";Plotly.newPlot(\"a3dc35f4-4ae2-4306-b97d-a920f10969e7\", [{\"name\": \"\\u6570\\u636e\\u53cd\\u9988\\u5ef6\\u671f\\u7387\", \"x\": [\"8\", \"9\"], \"y\": [0.0, 0.0], \"type\": \"scatter\", \"uid\": \"e6e6ae1c-ca97-11e8-b1ee-d89ef3991fb3\"}, {\"name\": \"\\u4e2a\\u6027\\u5316\\u53cd\\u9988\\u5ef6\\u671f\\u7387\", \"x\": [\"8\", \"9\"], \"y\": [0.0, 0.0], \"type\": \"scatter\", \"uid\": \"e6e6ae1d-ca97-11e8-8871-d89ef3991fb3\"}], {\"title\": \"\\u6570\\u636e\\u53cd\\u9988\\u5ef6\\u671f\\u7387&\\u4e2a\\u6027\\u5316\\u53cd\\u9988\\u5ef6\\u671f\\u7387\\u6708\\u8d8b\\u52bf\\u56fe\", \"xaxis\": {\"mirror\": \"all\", \"nticks\": 20, \"showgrid\": true, \"showline\": true, \"title\": \"\\u6708\", \"zeroline\": true}, \"yaxis\": {\"mirror\": \"all\", \"nticks\": 20, \"showgrid\": true, \"showline\": true, \"title\": \"\\u6570\\u636e\\u53cd\\u9988\\u5ef6\\u671f\\u7387&\\u4e2a\\u6027\\u5316\\u53cd\\u9988\\u5ef6\\u671f\\u7387\", \"zeroline\": true}}, {\"showLink\": true, \"linkText\": \"Export to plot.ly\"})});</script>"
      ],
      "text/vnd.plotly.v1+html": [
       "<div id=\"a3dc35f4-4ae2-4306-b97d-a920f10969e7\" style=\"height: 525px; width: 100%;\" class=\"plotly-graph-div\"></div><script type=\"text/javascript\">require([\"plotly\"], function(Plotly) { window.PLOTLYENV=window.PLOTLYENV || {};window.PLOTLYENV.BASE_URL=\"https://plot.ly\";Plotly.newPlot(\"a3dc35f4-4ae2-4306-b97d-a920f10969e7\", [{\"name\": \"\\u6570\\u636e\\u53cd\\u9988\\u5ef6\\u671f\\u7387\", \"x\": [\"8\", \"9\"], \"y\": [0.0, 0.0], \"type\": \"scatter\", \"uid\": \"e6e6ae1c-ca97-11e8-b1ee-d89ef3991fb3\"}, {\"name\": \"\\u4e2a\\u6027\\u5316\\u53cd\\u9988\\u5ef6\\u671f\\u7387\", \"x\": [\"8\", \"9\"], \"y\": [0.0, 0.0], \"type\": \"scatter\", \"uid\": \"e6e6ae1d-ca97-11e8-8871-d89ef3991fb3\"}], {\"title\": \"\\u6570\\u636e\\u53cd\\u9988\\u5ef6\\u671f\\u7387&\\u4e2a\\u6027\\u5316\\u53cd\\u9988\\u5ef6\\u671f\\u7387\\u6708\\u8d8b\\u52bf\\u56fe\", \"xaxis\": {\"mirror\": \"all\", \"nticks\": 20, \"showgrid\": true, \"showline\": true, \"title\": \"\\u6708\", \"zeroline\": true}, \"yaxis\": {\"mirror\": \"all\", \"nticks\": 20, \"showgrid\": true, \"showline\": true, \"title\": \"\\u6570\\u636e\\u53cd\\u9988\\u5ef6\\u671f\\u7387&\\u4e2a\\u6027\\u5316\\u53cd\\u9988\\u5ef6\\u671f\\u7387\", \"zeroline\": true}}, {\"showLink\": true, \"linkText\": \"Export to plot.ly\"})});</script>"
      ]
     },
     "metadata": {},
     "output_type": "display_data"
    }
   ],
   "source": [
    "data_dict = {'数据反馈延期率':['数据反馈延期率'],'个性化反馈延期率':['个性化反馈延期率']}\n",
    "myModule.plot( all_dict, data_dict, '人员' ,  'line' , all='all')"
   ]
  },
  {
   "cell_type": "markdown",
   "metadata": {},
   "source": [
    "### 交付延期率"
   ]
  },
  {
   "cell_type": "code",
   "execution_count": 34,
   "metadata": {
    "collapsed": false
   },
   "outputs": [
    {
     "data": {
      "application/vnd.plotly.v1+json": {
       "data": [
        {
         "name": "交付延期率",
         "type": "scatter",
         "uid": "e73423e2-ca97-11e8-b226-d89ef3991fb3",
         "x": [
          "8-1",
          "8-2",
          "8-3",
          "8-4",
          "9-1",
          "9-2",
          "9-3",
          "9-4"
         ],
         "y": [
          0,
          0,
          0,
          0,
          0,
          0,
          0,
          0
         ]
        }
       ],
       "layout": {
        "title": "交付延期率周趋势图",
        "xaxis": {
         "mirror": "all",
         "nticks": 20,
         "showgrid": true,
         "showline": true,
         "title": "周",
         "zeroline": true
        },
        "yaxis": {
         "mirror": "all",
         "nticks": 20,
         "showgrid": true,
         "showline": true,
         "title": "交付延期率",
         "zeroline": true
        }
       }
      },
      "text/html": [
       "<div id=\"85649b92-ef07-43d1-b715-1753b112616c\" style=\"height: 525px; width: 100%;\" class=\"plotly-graph-div\"></div><script type=\"text/javascript\">require([\"plotly\"], function(Plotly) { window.PLOTLYENV=window.PLOTLYENV || {};window.PLOTLYENV.BASE_URL=\"https://plot.ly\";Plotly.newPlot(\"85649b92-ef07-43d1-b715-1753b112616c\", [{\"name\": \"\\u4ea4\\u4ed8\\u5ef6\\u671f\\u7387\", \"x\": [\"8-1\", \"8-2\", \"8-3\", \"8-4\", \"9-1\", \"9-2\", \"9-3\", \"9-4\"], \"y\": [0.0, 0.0, 0.0, 0.0, 0.0, 0.0, 0.0, 0.0], \"type\": \"scatter\", \"uid\": \"e73423e2-ca97-11e8-b226-d89ef3991fb3\"}], {\"title\": \"\\u4ea4\\u4ed8\\u5ef6\\u671f\\u7387\\u5468\\u8d8b\\u52bf\\u56fe\", \"xaxis\": {\"mirror\": \"all\", \"nticks\": 20, \"showgrid\": true, \"showline\": true, \"title\": \"\\u5468\", \"zeroline\": true}, \"yaxis\": {\"mirror\": \"all\", \"nticks\": 20, \"showgrid\": true, \"showline\": true, \"title\": \"\\u4ea4\\u4ed8\\u5ef6\\u671f\\u7387\", \"zeroline\": true}}, {\"showLink\": true, \"linkText\": \"Export to plot.ly\"})});</script>"
      ],
      "text/vnd.plotly.v1+html": [
       "<div id=\"85649b92-ef07-43d1-b715-1753b112616c\" style=\"height: 525px; width: 100%;\" class=\"plotly-graph-div\"></div><script type=\"text/javascript\">require([\"plotly\"], function(Plotly) { window.PLOTLYENV=window.PLOTLYENV || {};window.PLOTLYENV.BASE_URL=\"https://plot.ly\";Plotly.newPlot(\"85649b92-ef07-43d1-b715-1753b112616c\", [{\"name\": \"\\u4ea4\\u4ed8\\u5ef6\\u671f\\u7387\", \"x\": [\"8-1\", \"8-2\", \"8-3\", \"8-4\", \"9-1\", \"9-2\", \"9-3\", \"9-4\"], \"y\": [0.0, 0.0, 0.0, 0.0, 0.0, 0.0, 0.0, 0.0], \"type\": \"scatter\", \"uid\": \"e73423e2-ca97-11e8-b226-d89ef3991fb3\"}], {\"title\": \"\\u4ea4\\u4ed8\\u5ef6\\u671f\\u7387\\u5468\\u8d8b\\u52bf\\u56fe\", \"xaxis\": {\"mirror\": \"all\", \"nticks\": 20, \"showgrid\": true, \"showline\": true, \"title\": \"\\u5468\", \"zeroline\": true}, \"yaxis\": {\"mirror\": \"all\", \"nticks\": 20, \"showgrid\": true, \"showline\": true, \"title\": \"\\u4ea4\\u4ed8\\u5ef6\\u671f\\u7387\", \"zeroline\": true}}, {\"showLink\": true, \"linkText\": \"Export to plot.ly\"})});</script>"
      ]
     },
     "metadata": {},
     "output_type": "display_data"
    },
    {
     "data": {
      "application/vnd.plotly.v1+json": {
       "data": [
        {
         "name": "交付延期率",
         "type": "scatter",
         "uid": "e73c5be8-ca97-11e8-b413-d89ef3991fb3",
         "x": [
          "8",
          "9"
         ],
         "y": [
          0,
          0
         ]
        }
       ],
       "layout": {
        "title": "交付延期率月趋势图",
        "xaxis": {
         "mirror": "all",
         "nticks": 20,
         "showgrid": true,
         "showline": true,
         "title": "月",
         "zeroline": true
        },
        "yaxis": {
         "mirror": "all",
         "nticks": 20,
         "showgrid": true,
         "showline": true,
         "title": "交付延期率",
         "zeroline": true
        }
       }
      },
      "text/html": [
       "<div id=\"91d168e4-228f-474c-8d41-2ef45f57fc64\" style=\"height: 525px; width: 100%;\" class=\"plotly-graph-div\"></div><script type=\"text/javascript\">require([\"plotly\"], function(Plotly) { window.PLOTLYENV=window.PLOTLYENV || {};window.PLOTLYENV.BASE_URL=\"https://plot.ly\";Plotly.newPlot(\"91d168e4-228f-474c-8d41-2ef45f57fc64\", [{\"name\": \"\\u4ea4\\u4ed8\\u5ef6\\u671f\\u7387\", \"x\": [\"8\", \"9\"], \"y\": [0.0, 0.0], \"type\": \"scatter\", \"uid\": \"e73c5be8-ca97-11e8-b413-d89ef3991fb3\"}], {\"title\": \"\\u4ea4\\u4ed8\\u5ef6\\u671f\\u7387\\u6708\\u8d8b\\u52bf\\u56fe\", \"xaxis\": {\"mirror\": \"all\", \"nticks\": 20, \"showgrid\": true, \"showline\": true, \"title\": \"\\u6708\", \"zeroline\": true}, \"yaxis\": {\"mirror\": \"all\", \"nticks\": 20, \"showgrid\": true, \"showline\": true, \"title\": \"\\u4ea4\\u4ed8\\u5ef6\\u671f\\u7387\", \"zeroline\": true}}, {\"showLink\": true, \"linkText\": \"Export to plot.ly\"})});</script>"
      ],
      "text/vnd.plotly.v1+html": [
       "<div id=\"91d168e4-228f-474c-8d41-2ef45f57fc64\" style=\"height: 525px; width: 100%;\" class=\"plotly-graph-div\"></div><script type=\"text/javascript\">require([\"plotly\"], function(Plotly) { window.PLOTLYENV=window.PLOTLYENV || {};window.PLOTLYENV.BASE_URL=\"https://plot.ly\";Plotly.newPlot(\"91d168e4-228f-474c-8d41-2ef45f57fc64\", [{\"name\": \"\\u4ea4\\u4ed8\\u5ef6\\u671f\\u7387\", \"x\": [\"8\", \"9\"], \"y\": [0.0, 0.0], \"type\": \"scatter\", \"uid\": \"e73c5be8-ca97-11e8-b413-d89ef3991fb3\"}], {\"title\": \"\\u4ea4\\u4ed8\\u5ef6\\u671f\\u7387\\u6708\\u8d8b\\u52bf\\u56fe\", \"xaxis\": {\"mirror\": \"all\", \"nticks\": 20, \"showgrid\": true, \"showline\": true, \"title\": \"\\u6708\", \"zeroline\": true}, \"yaxis\": {\"mirror\": \"all\", \"nticks\": 20, \"showgrid\": true, \"showline\": true, \"title\": \"\\u4ea4\\u4ed8\\u5ef6\\u671f\\u7387\", \"zeroline\": true}}, {\"showLink\": true, \"linkText\": \"Export to plot.ly\"})});</script>"
      ]
     },
     "metadata": {},
     "output_type": "display_data"
    }
   ],
   "source": [
    "data_dict = {'交付延期率':['交付延期率']}\n",
    "myModule.plot( all_dict, data_dict, '人员' ,  'line' , all='all')"
   ]
  },
  {
   "cell_type": "markdown",
   "metadata": {
    "collapsed": true
   },
   "source": [
    "## 个人情况"
   ]
  },
  {
   "cell_type": "markdown",
   "metadata": {},
   "source": [
    "### 完成项目数"
   ]
  },
  {
   "cell_type": "code",
   "execution_count": 35,
   "metadata": {
    "collapsed": false
   },
   "outputs": [
    {
     "data": {
      "application/vnd.plotly.v1+json": {
       "data": [
        {
         "name": "沈恩惠_完成商业项目数",
         "type": "bar",
         "uid": "e7b02c10-ca97-11e8-9b7b-d89ef3991fb3",
         "x": [
          "8-1",
          "8-2",
          "8-3",
          "9-1",
          "9-2",
          "9-3",
          "9-4"
         ],
         "y": [
          0,
          0,
          1,
          1,
          0,
          2,
          3
         ]
        },
        {
         "name": "沈恩惠_完成个性化数",
         "type": "bar",
         "uid": "e7b02c11-ca97-11e8-ab23-d89ef3991fb3",
         "x": [
          "8-1",
          "8-2",
          "8-3",
          "9-1",
          "9-2",
          "9-3",
          "9-4"
         ],
         "y": [
          0,
          0,
          0,
          0,
          1,
          0,
          1
         ]
        },
        {
         "name": "林文文_完成商业项目数",
         "type": "bar",
         "uid": "e7b02c12-ca97-11e8-b8cc-d89ef3991fb3",
         "x": [
          "8-1",
          "8-2",
          "8-3",
          "9-1",
          "9-2",
          "9-3",
          "9-4"
         ],
         "y": [
          2,
          2,
          2,
          5,
          5,
          1,
          2
         ]
        },
        {
         "name": "林文文_完成个性化数",
         "type": "bar",
         "uid": "e7b02c13-ca97-11e8-9622-d89ef3991fb3",
         "x": [
          "8-1",
          "8-2",
          "8-3",
          "9-1",
          "9-2",
          "9-3",
          "9-4"
         ],
         "y": [
          2,
          0,
          0,
          1,
          1,
          1,
          1
         ]
        },
        {
         "name": "高剑_完成商业项目数",
         "type": "bar",
         "uid": "e7b02c14-ca97-11e8-ae6d-d89ef3991fb3",
         "x": [
          "8-1",
          "8-2",
          "8-3",
          "8-4",
          "9-1",
          "9-2",
          "9-3",
          "9-4"
         ],
         "y": [
          2,
          3,
          0,
          1,
          2,
          0,
          0,
          0
         ]
        },
        {
         "name": "高剑_完成个性化数",
         "type": "bar",
         "uid": "e7b02c15-ca97-11e8-b821-d89ef3991fb3",
         "x": [
          "8-1",
          "8-2",
          "8-3",
          "8-4",
          "9-1",
          "9-2",
          "9-3",
          "9-4"
         ],
         "y": [
          1,
          2,
          2,
          2,
          0,
          1,
          0,
          0
         ]
        },
        {
         "name": "车天栋_完成商业项目数",
         "type": "bar",
         "uid": "e7b02c16-ca97-11e8-b841-d89ef3991fb3",
         "x": [
          "8-1",
          "8-2",
          "8-3",
          "9-1",
          "9-2",
          "9-3",
          "9-4"
         ],
         "y": [
          0,
          0,
          1,
          0,
          1,
          3,
          1
         ]
        },
        {
         "name": "车天栋_完成个性化数",
         "type": "bar",
         "uid": "e7b02c17-ca97-11e8-a11a-d89ef3991fb3",
         "x": [
          "8-1",
          "8-2",
          "8-3",
          "9-1",
          "9-2",
          "9-3",
          "9-4"
         ],
         "y": [
          0,
          0,
          0,
          0,
          1,
          1,
          1
         ]
        },
        {
         "name": "王传文_完成商业项目数",
         "type": "bar",
         "uid": "e7b02c18-ca97-11e8-92f3-d89ef3991fb3",
         "x": [
          "8-1",
          "8-2",
          "8-3",
          "9-1",
          "9-2",
          "9-3",
          "9-4"
         ],
         "y": [
          0,
          0,
          0,
          1,
          0,
          1,
          0
         ]
        },
        {
         "name": "王传文_完成个性化数",
         "type": "bar",
         "uid": "e7b02c19-ca97-11e8-98bb-d89ef3991fb3",
         "x": [
          "8-1",
          "8-2",
          "8-3",
          "9-1",
          "9-2",
          "9-3",
          "9-4"
         ],
         "y": [
          0,
          0,
          0,
          0,
          1,
          0,
          1
         ]
        },
        {
         "name": "沈立群_完成商业项目数",
         "type": "bar",
         "uid": "e7b02c1a-ca97-11e8-8a94-d89ef3991fb3",
         "x": [
          "8-1",
          "8-2",
          "8-3",
          "9-1",
          "9-2",
          "9-3",
          "9-4"
         ],
         "y": [
          0,
          0,
          1,
          2,
          0,
          0,
          0
         ]
        },
        {
         "name": "沈立群_完成个性化数",
         "type": "bar",
         "uid": "e7b02c1b-ca97-11e8-a2ea-d89ef3991fb3",
         "x": [
          "8-1",
          "8-2",
          "8-3",
          "9-1",
          "9-2",
          "9-3",
          "9-4"
         ],
         "y": [
          0,
          0,
          0,
          0,
          1,
          0,
          1
         ]
        },
        {
         "name": "传文_完成商业项目数",
         "type": "bar",
         "uid": "e7b02c1c-ca97-11e8-bc84-d89ef3991fb3",
         "x": [
          "8-4"
         ],
         "y": [
          1
         ]
        },
        {
         "name": "传文_完成个性化数",
         "type": "bar",
         "uid": "e7b02c1d-ca97-11e8-b21e-d89ef3991fb3",
         "x": [
          "8-4"
         ],
         "y": [
          1
         ]
        },
        {
         "name": "天栋_完成商业项目数",
         "type": "bar",
         "uid": "e7b02c1e-ca97-11e8-bbad-d89ef3991fb3",
         "x": [
          "8-4"
         ],
         "y": [
          1
         ]
        },
        {
         "name": "天栋_完成个性化数",
         "type": "bar",
         "uid": "e7b02c1f-ca97-11e8-9500-d89ef3991fb3",
         "x": [
          "8-4"
         ],
         "y": [
          0
         ]
        },
        {
         "name": "文文_完成商业项目数",
         "type": "bar",
         "uid": "e7b02c20-ca97-11e8-8213-d89ef3991fb3",
         "x": [
          "8-4"
         ],
         "y": [
          2
         ]
        },
        {
         "name": "文文_完成个性化数",
         "type": "bar",
         "uid": "e7b02c21-ca97-11e8-be6d-d89ef3991fb3",
         "x": [
          "8-4"
         ],
         "y": [
          1
         ]
        },
        {
         "name": "立群_完成商业项目数",
         "type": "bar",
         "uid": "e7b02c22-ca97-11e8-a024-d89ef3991fb3",
         "x": [
          "8-4"
         ],
         "y": [
          0
         ]
        },
        {
         "name": "立群_完成个性化数",
         "type": "bar",
         "uid": "e7b02c23-ca97-11e8-904f-d89ef3991fb3",
         "x": [
          "8-4"
         ],
         "y": [
          1
         ]
        },
        {
         "name": "恩惠_完成商业项目数",
         "type": "bar",
         "uid": "e7b02c24-ca97-11e8-bcc8-d89ef3991fb3",
         "x": [
          "8-4"
         ],
         "y": [
          0
         ]
        },
        {
         "name": "恩惠_完成个性化数",
         "type": "bar",
         "uid": "e7b02c25-ca97-11e8-9b7a-d89ef3991fb3",
         "x": [
          "8-4"
         ],
         "y": [
          0
         ]
        }
       ],
       "layout": {
        "title": "完成商业项目数&完成个性化数周趋势图",
        "xaxis": {
         "mirror": "all",
         "nticks": 20,
         "showgrid": true,
         "showline": true,
         "title": "周",
         "zeroline": true
        },
        "yaxis": {
         "mirror": "all",
         "nticks": 20,
         "showgrid": true,
         "showline": true,
         "title": "完成商业项目数&完成个性化数",
         "zeroline": true
        }
       }
      },
      "text/html": [
       "<div id=\"3ec95cca-fbe9-4bcb-bb47-39c215e1f10d\" style=\"height: 525px; width: 100%;\" class=\"plotly-graph-div\"></div><script type=\"text/javascript\">require([\"plotly\"], function(Plotly) { window.PLOTLYENV=window.PLOTLYENV || {};window.PLOTLYENV.BASE_URL=\"https://plot.ly\";Plotly.newPlot(\"3ec95cca-fbe9-4bcb-bb47-39c215e1f10d\", [{\"name\": \"\\u6c88\\u6069\\u60e0_\\u5b8c\\u6210\\u5546\\u4e1a\\u9879\\u76ee\\u6570\", \"x\": [\"8-1\", \"8-2\", \"8-3\", \"9-1\", \"9-2\", \"9-3\", \"9-4\"], \"y\": [0.0, 0.0, 1.0, 1.0, 0.0, 2.0, 3.0], \"type\": \"bar\", \"uid\": \"e7b02c10-ca97-11e8-9b7b-d89ef3991fb3\"}, {\"name\": \"\\u6c88\\u6069\\u60e0_\\u5b8c\\u6210\\u4e2a\\u6027\\u5316\\u6570\", \"x\": [\"8-1\", \"8-2\", \"8-3\", \"9-1\", \"9-2\", \"9-3\", \"9-4\"], \"y\": [0.0, 0.0, 0.0, 0.0, 1.0, 0.0, 1.0], \"type\": \"bar\", \"uid\": \"e7b02c11-ca97-11e8-ab23-d89ef3991fb3\"}, {\"name\": \"\\u6797\\u6587\\u6587_\\u5b8c\\u6210\\u5546\\u4e1a\\u9879\\u76ee\\u6570\", \"x\": [\"8-1\", \"8-2\", \"8-3\", \"9-1\", \"9-2\", \"9-3\", \"9-4\"], \"y\": [2.0, 2.0, 2.0, 5.0, 5.0, 1.0, 2.0], \"type\": \"bar\", \"uid\": \"e7b02c12-ca97-11e8-b8cc-d89ef3991fb3\"}, {\"name\": \"\\u6797\\u6587\\u6587_\\u5b8c\\u6210\\u4e2a\\u6027\\u5316\\u6570\", \"x\": [\"8-1\", \"8-2\", \"8-3\", \"9-1\", \"9-2\", \"9-3\", \"9-4\"], \"y\": [2.0, 0.0, 0.0, 1.0, 1.0, 1.0, 1.0], \"type\": \"bar\", \"uid\": \"e7b02c13-ca97-11e8-9622-d89ef3991fb3\"}, {\"name\": \"\\u9ad8\\u5251_\\u5b8c\\u6210\\u5546\\u4e1a\\u9879\\u76ee\\u6570\", \"x\": [\"8-1\", \"8-2\", \"8-3\", \"8-4\", \"9-1\", \"9-2\", \"9-3\", \"9-4\"], \"y\": [2.0, 3.0, 0.0, 1.0, 2.0, 0.0, 0.0, 0.0], \"type\": \"bar\", \"uid\": \"e7b02c14-ca97-11e8-ae6d-d89ef3991fb3\"}, {\"name\": \"\\u9ad8\\u5251_\\u5b8c\\u6210\\u4e2a\\u6027\\u5316\\u6570\", \"x\": [\"8-1\", \"8-2\", \"8-3\", \"8-4\", \"9-1\", \"9-2\", \"9-3\", \"9-4\"], \"y\": [1.0, 2.0, 2.0, 2.0, 0.0, 1.0, 0.0, 0.0], \"type\": \"bar\", \"uid\": \"e7b02c15-ca97-11e8-b821-d89ef3991fb3\"}, {\"name\": \"\\u8f66\\u5929\\u680b_\\u5b8c\\u6210\\u5546\\u4e1a\\u9879\\u76ee\\u6570\", \"x\": [\"8-1\", \"8-2\", \"8-3\", \"9-1\", \"9-2\", \"9-3\", \"9-4\"], \"y\": [0.0, 0.0, 1.0, 0.0, 1.0, 3.0, 1.0], \"type\": \"bar\", \"uid\": \"e7b02c16-ca97-11e8-b841-d89ef3991fb3\"}, {\"name\": \"\\u8f66\\u5929\\u680b_\\u5b8c\\u6210\\u4e2a\\u6027\\u5316\\u6570\", \"x\": [\"8-1\", \"8-2\", \"8-3\", \"9-1\", \"9-2\", \"9-3\", \"9-4\"], \"y\": [0.0, 0.0, 0.0, 0.0, 1.0, 1.0, 1.0], \"type\": \"bar\", \"uid\": \"e7b02c17-ca97-11e8-a11a-d89ef3991fb3\"}, {\"name\": \"\\u738b\\u4f20\\u6587_\\u5b8c\\u6210\\u5546\\u4e1a\\u9879\\u76ee\\u6570\", \"x\": [\"8-1\", \"8-2\", \"8-3\", \"9-1\", \"9-2\", \"9-3\", \"9-4\"], \"y\": [0.0, 0.0, 0.0, 1.0, 0.0, 1.0, 0.0], \"type\": \"bar\", \"uid\": \"e7b02c18-ca97-11e8-92f3-d89ef3991fb3\"}, {\"name\": \"\\u738b\\u4f20\\u6587_\\u5b8c\\u6210\\u4e2a\\u6027\\u5316\\u6570\", \"x\": [\"8-1\", \"8-2\", \"8-3\", \"9-1\", \"9-2\", \"9-3\", \"9-4\"], \"y\": [0.0, 0.0, 0.0, 0.0, 1.0, 0.0, 1.0], \"type\": \"bar\", \"uid\": \"e7b02c19-ca97-11e8-98bb-d89ef3991fb3\"}, {\"name\": \"\\u6c88\\u7acb\\u7fa4_\\u5b8c\\u6210\\u5546\\u4e1a\\u9879\\u76ee\\u6570\", \"x\": [\"8-1\", \"8-2\", \"8-3\", \"9-1\", \"9-2\", \"9-3\", \"9-4\"], \"y\": [0.0, 0.0, 1.0, 2.0, 0.0, 0.0, 0.0], \"type\": \"bar\", \"uid\": \"e7b02c1a-ca97-11e8-8a94-d89ef3991fb3\"}, {\"name\": \"\\u6c88\\u7acb\\u7fa4_\\u5b8c\\u6210\\u4e2a\\u6027\\u5316\\u6570\", \"x\": [\"8-1\", \"8-2\", \"8-3\", \"9-1\", \"9-2\", \"9-3\", \"9-4\"], \"y\": [0.0, 0.0, 0.0, 0.0, 1.0, 0.0, 1.0], \"type\": \"bar\", \"uid\": \"e7b02c1b-ca97-11e8-a2ea-d89ef3991fb3\"}, {\"name\": \"\\u4f20\\u6587_\\u5b8c\\u6210\\u5546\\u4e1a\\u9879\\u76ee\\u6570\", \"x\": [\"8-4\"], \"y\": [1.0], \"type\": \"bar\", \"uid\": \"e7b02c1c-ca97-11e8-bc84-d89ef3991fb3\"}, {\"name\": \"\\u4f20\\u6587_\\u5b8c\\u6210\\u4e2a\\u6027\\u5316\\u6570\", \"x\": [\"8-4\"], \"y\": [1.0], \"type\": \"bar\", \"uid\": \"e7b02c1d-ca97-11e8-b21e-d89ef3991fb3\"}, {\"name\": \"\\u5929\\u680b_\\u5b8c\\u6210\\u5546\\u4e1a\\u9879\\u76ee\\u6570\", \"x\": [\"8-4\"], \"y\": [1.0], \"type\": \"bar\", \"uid\": \"e7b02c1e-ca97-11e8-bbad-d89ef3991fb3\"}, {\"name\": \"\\u5929\\u680b_\\u5b8c\\u6210\\u4e2a\\u6027\\u5316\\u6570\", \"x\": [\"8-4\"], \"y\": [0.0], \"type\": \"bar\", \"uid\": \"e7b02c1f-ca97-11e8-9500-d89ef3991fb3\"}, {\"name\": \"\\u6587\\u6587_\\u5b8c\\u6210\\u5546\\u4e1a\\u9879\\u76ee\\u6570\", \"x\": [\"8-4\"], \"y\": [2.0], \"type\": \"bar\", \"uid\": \"e7b02c20-ca97-11e8-8213-d89ef3991fb3\"}, {\"name\": \"\\u6587\\u6587_\\u5b8c\\u6210\\u4e2a\\u6027\\u5316\\u6570\", \"x\": [\"8-4\"], \"y\": [1.0], \"type\": \"bar\", \"uid\": \"e7b02c21-ca97-11e8-be6d-d89ef3991fb3\"}, {\"name\": \"\\u7acb\\u7fa4_\\u5b8c\\u6210\\u5546\\u4e1a\\u9879\\u76ee\\u6570\", \"x\": [\"8-4\"], \"y\": [0.0], \"type\": \"bar\", \"uid\": \"e7b02c22-ca97-11e8-a024-d89ef3991fb3\"}, {\"name\": \"\\u7acb\\u7fa4_\\u5b8c\\u6210\\u4e2a\\u6027\\u5316\\u6570\", \"x\": [\"8-4\"], \"y\": [1.0], \"type\": \"bar\", \"uid\": \"e7b02c23-ca97-11e8-904f-d89ef3991fb3\"}, {\"name\": \"\\u6069\\u60e0_\\u5b8c\\u6210\\u5546\\u4e1a\\u9879\\u76ee\\u6570\", \"x\": [\"8-4\"], \"y\": [0.0], \"type\": \"bar\", \"uid\": \"e7b02c24-ca97-11e8-bcc8-d89ef3991fb3\"}, {\"name\": \"\\u6069\\u60e0_\\u5b8c\\u6210\\u4e2a\\u6027\\u5316\\u6570\", \"x\": [\"8-4\"], \"y\": [0.0], \"type\": \"bar\", \"uid\": \"e7b02c25-ca97-11e8-9b7a-d89ef3991fb3\"}], {\"title\": \"\\u5b8c\\u6210\\u5546\\u4e1a\\u9879\\u76ee\\u6570&\\u5b8c\\u6210\\u4e2a\\u6027\\u5316\\u6570\\u5468\\u8d8b\\u52bf\\u56fe\", \"xaxis\": {\"mirror\": \"all\", \"nticks\": 20, \"showgrid\": true, \"showline\": true, \"title\": \"\\u5468\", \"zeroline\": true}, \"yaxis\": {\"mirror\": \"all\", \"nticks\": 20, \"showgrid\": true, \"showline\": true, \"title\": \"\\u5b8c\\u6210\\u5546\\u4e1a\\u9879\\u76ee\\u6570&\\u5b8c\\u6210\\u4e2a\\u6027\\u5316\\u6570\", \"zeroline\": true}}, {\"showLink\": true, \"linkText\": \"Export to plot.ly\"})});</script>"
      ],
      "text/vnd.plotly.v1+html": [
       "<div id=\"3ec95cca-fbe9-4bcb-bb47-39c215e1f10d\" style=\"height: 525px; width: 100%;\" class=\"plotly-graph-div\"></div><script type=\"text/javascript\">require([\"plotly\"], function(Plotly) { window.PLOTLYENV=window.PLOTLYENV || {};window.PLOTLYENV.BASE_URL=\"https://plot.ly\";Plotly.newPlot(\"3ec95cca-fbe9-4bcb-bb47-39c215e1f10d\", [{\"name\": \"\\u6c88\\u6069\\u60e0_\\u5b8c\\u6210\\u5546\\u4e1a\\u9879\\u76ee\\u6570\", \"x\": [\"8-1\", \"8-2\", \"8-3\", \"9-1\", \"9-2\", \"9-3\", \"9-4\"], \"y\": [0.0, 0.0, 1.0, 1.0, 0.0, 2.0, 3.0], \"type\": \"bar\", \"uid\": \"e7b02c10-ca97-11e8-9b7b-d89ef3991fb3\"}, {\"name\": \"\\u6c88\\u6069\\u60e0_\\u5b8c\\u6210\\u4e2a\\u6027\\u5316\\u6570\", \"x\": [\"8-1\", \"8-2\", \"8-3\", \"9-1\", \"9-2\", \"9-3\", \"9-4\"], \"y\": [0.0, 0.0, 0.0, 0.0, 1.0, 0.0, 1.0], \"type\": \"bar\", \"uid\": \"e7b02c11-ca97-11e8-ab23-d89ef3991fb3\"}, {\"name\": \"\\u6797\\u6587\\u6587_\\u5b8c\\u6210\\u5546\\u4e1a\\u9879\\u76ee\\u6570\", \"x\": [\"8-1\", \"8-2\", \"8-3\", \"9-1\", \"9-2\", \"9-3\", \"9-4\"], \"y\": [2.0, 2.0, 2.0, 5.0, 5.0, 1.0, 2.0], \"type\": \"bar\", \"uid\": \"e7b02c12-ca97-11e8-b8cc-d89ef3991fb3\"}, {\"name\": \"\\u6797\\u6587\\u6587_\\u5b8c\\u6210\\u4e2a\\u6027\\u5316\\u6570\", \"x\": [\"8-1\", \"8-2\", \"8-3\", \"9-1\", \"9-2\", \"9-3\", \"9-4\"], \"y\": [2.0, 0.0, 0.0, 1.0, 1.0, 1.0, 1.0], \"type\": \"bar\", \"uid\": \"e7b02c13-ca97-11e8-9622-d89ef3991fb3\"}, {\"name\": \"\\u9ad8\\u5251_\\u5b8c\\u6210\\u5546\\u4e1a\\u9879\\u76ee\\u6570\", \"x\": [\"8-1\", \"8-2\", \"8-3\", \"8-4\", \"9-1\", \"9-2\", \"9-3\", \"9-4\"], \"y\": [2.0, 3.0, 0.0, 1.0, 2.0, 0.0, 0.0, 0.0], \"type\": \"bar\", \"uid\": \"e7b02c14-ca97-11e8-ae6d-d89ef3991fb3\"}, {\"name\": \"\\u9ad8\\u5251_\\u5b8c\\u6210\\u4e2a\\u6027\\u5316\\u6570\", \"x\": [\"8-1\", \"8-2\", \"8-3\", \"8-4\", \"9-1\", \"9-2\", \"9-3\", \"9-4\"], \"y\": [1.0, 2.0, 2.0, 2.0, 0.0, 1.0, 0.0, 0.0], \"type\": \"bar\", \"uid\": \"e7b02c15-ca97-11e8-b821-d89ef3991fb3\"}, {\"name\": \"\\u8f66\\u5929\\u680b_\\u5b8c\\u6210\\u5546\\u4e1a\\u9879\\u76ee\\u6570\", \"x\": [\"8-1\", \"8-2\", \"8-3\", \"9-1\", \"9-2\", \"9-3\", \"9-4\"], \"y\": [0.0, 0.0, 1.0, 0.0, 1.0, 3.0, 1.0], \"type\": \"bar\", \"uid\": \"e7b02c16-ca97-11e8-b841-d89ef3991fb3\"}, {\"name\": \"\\u8f66\\u5929\\u680b_\\u5b8c\\u6210\\u4e2a\\u6027\\u5316\\u6570\", \"x\": [\"8-1\", \"8-2\", \"8-3\", \"9-1\", \"9-2\", \"9-3\", \"9-4\"], \"y\": [0.0, 0.0, 0.0, 0.0, 1.0, 1.0, 1.0], \"type\": \"bar\", \"uid\": \"e7b02c17-ca97-11e8-a11a-d89ef3991fb3\"}, {\"name\": \"\\u738b\\u4f20\\u6587_\\u5b8c\\u6210\\u5546\\u4e1a\\u9879\\u76ee\\u6570\", \"x\": [\"8-1\", \"8-2\", \"8-3\", \"9-1\", \"9-2\", \"9-3\", \"9-4\"], \"y\": [0.0, 0.0, 0.0, 1.0, 0.0, 1.0, 0.0], \"type\": \"bar\", \"uid\": \"e7b02c18-ca97-11e8-92f3-d89ef3991fb3\"}, {\"name\": \"\\u738b\\u4f20\\u6587_\\u5b8c\\u6210\\u4e2a\\u6027\\u5316\\u6570\", \"x\": [\"8-1\", \"8-2\", \"8-3\", \"9-1\", \"9-2\", \"9-3\", \"9-4\"], \"y\": [0.0, 0.0, 0.0, 0.0, 1.0, 0.0, 1.0], \"type\": \"bar\", \"uid\": \"e7b02c19-ca97-11e8-98bb-d89ef3991fb3\"}, {\"name\": \"\\u6c88\\u7acb\\u7fa4_\\u5b8c\\u6210\\u5546\\u4e1a\\u9879\\u76ee\\u6570\", \"x\": [\"8-1\", \"8-2\", \"8-3\", \"9-1\", \"9-2\", \"9-3\", \"9-4\"], \"y\": [0.0, 0.0, 1.0, 2.0, 0.0, 0.0, 0.0], \"type\": \"bar\", \"uid\": \"e7b02c1a-ca97-11e8-8a94-d89ef3991fb3\"}, {\"name\": \"\\u6c88\\u7acb\\u7fa4_\\u5b8c\\u6210\\u4e2a\\u6027\\u5316\\u6570\", \"x\": [\"8-1\", \"8-2\", \"8-3\", \"9-1\", \"9-2\", \"9-3\", \"9-4\"], \"y\": [0.0, 0.0, 0.0, 0.0, 1.0, 0.0, 1.0], \"type\": \"bar\", \"uid\": \"e7b02c1b-ca97-11e8-a2ea-d89ef3991fb3\"}, {\"name\": \"\\u4f20\\u6587_\\u5b8c\\u6210\\u5546\\u4e1a\\u9879\\u76ee\\u6570\", \"x\": [\"8-4\"], \"y\": [1.0], \"type\": \"bar\", \"uid\": \"e7b02c1c-ca97-11e8-bc84-d89ef3991fb3\"}, {\"name\": \"\\u4f20\\u6587_\\u5b8c\\u6210\\u4e2a\\u6027\\u5316\\u6570\", \"x\": [\"8-4\"], \"y\": [1.0], \"type\": \"bar\", \"uid\": \"e7b02c1d-ca97-11e8-b21e-d89ef3991fb3\"}, {\"name\": \"\\u5929\\u680b_\\u5b8c\\u6210\\u5546\\u4e1a\\u9879\\u76ee\\u6570\", \"x\": [\"8-4\"], \"y\": [1.0], \"type\": \"bar\", \"uid\": \"e7b02c1e-ca97-11e8-bbad-d89ef3991fb3\"}, {\"name\": \"\\u5929\\u680b_\\u5b8c\\u6210\\u4e2a\\u6027\\u5316\\u6570\", \"x\": [\"8-4\"], \"y\": [0.0], \"type\": \"bar\", \"uid\": \"e7b02c1f-ca97-11e8-9500-d89ef3991fb3\"}, {\"name\": \"\\u6587\\u6587_\\u5b8c\\u6210\\u5546\\u4e1a\\u9879\\u76ee\\u6570\", \"x\": [\"8-4\"], \"y\": [2.0], \"type\": \"bar\", \"uid\": \"e7b02c20-ca97-11e8-8213-d89ef3991fb3\"}, {\"name\": \"\\u6587\\u6587_\\u5b8c\\u6210\\u4e2a\\u6027\\u5316\\u6570\", \"x\": [\"8-4\"], \"y\": [1.0], \"type\": \"bar\", \"uid\": \"e7b02c21-ca97-11e8-be6d-d89ef3991fb3\"}, {\"name\": \"\\u7acb\\u7fa4_\\u5b8c\\u6210\\u5546\\u4e1a\\u9879\\u76ee\\u6570\", \"x\": [\"8-4\"], \"y\": [0.0], \"type\": \"bar\", \"uid\": \"e7b02c22-ca97-11e8-a024-d89ef3991fb3\"}, {\"name\": \"\\u7acb\\u7fa4_\\u5b8c\\u6210\\u4e2a\\u6027\\u5316\\u6570\", \"x\": [\"8-4\"], \"y\": [1.0], \"type\": \"bar\", \"uid\": \"e7b02c23-ca97-11e8-904f-d89ef3991fb3\"}, {\"name\": \"\\u6069\\u60e0_\\u5b8c\\u6210\\u5546\\u4e1a\\u9879\\u76ee\\u6570\", \"x\": [\"8-4\"], \"y\": [0.0], \"type\": \"bar\", \"uid\": \"e7b02c24-ca97-11e8-bcc8-d89ef3991fb3\"}, {\"name\": \"\\u6069\\u60e0_\\u5b8c\\u6210\\u4e2a\\u6027\\u5316\\u6570\", \"x\": [\"8-4\"], \"y\": [0.0], \"type\": \"bar\", \"uid\": \"e7b02c25-ca97-11e8-9b7a-d89ef3991fb3\"}], {\"title\": \"\\u5b8c\\u6210\\u5546\\u4e1a\\u9879\\u76ee\\u6570&\\u5b8c\\u6210\\u4e2a\\u6027\\u5316\\u6570\\u5468\\u8d8b\\u52bf\\u56fe\", \"xaxis\": {\"mirror\": \"all\", \"nticks\": 20, \"showgrid\": true, \"showline\": true, \"title\": \"\\u5468\", \"zeroline\": true}, \"yaxis\": {\"mirror\": \"all\", \"nticks\": 20, \"showgrid\": true, \"showline\": true, \"title\": \"\\u5b8c\\u6210\\u5546\\u4e1a\\u9879\\u76ee\\u6570&\\u5b8c\\u6210\\u4e2a\\u6027\\u5316\\u6570\", \"zeroline\": true}}, {\"showLink\": true, \"linkText\": \"Export to plot.ly\"})});</script>"
      ]
     },
     "metadata": {},
     "output_type": "display_data"
    },
    {
     "data": {
      "application/vnd.plotly.v1+json": {
       "data": [
        {
         "name": "传文_完成商业项目数",
         "type": "bar",
         "uid": "e7d5e8a2-ca97-11e8-a1c9-d89ef3991fb3",
         "x": [
          "8"
         ],
         "y": [
          null
         ]
        },
        {
         "name": "传文_完成个性化数",
         "type": "bar",
         "uid": "e7d5e8a3-ca97-11e8-a08a-d89ef3991fb3",
         "x": [
          "8"
         ],
         "y": [
          null
         ]
        },
        {
         "name": "天栋_完成商业项目数",
         "type": "bar",
         "uid": "e7d5e8a4-ca97-11e8-9210-d89ef3991fb3",
         "x": [
          "8"
         ],
         "y": [
          null
         ]
        },
        {
         "name": "天栋_完成个性化数",
         "type": "bar",
         "uid": "e7d5e8a5-ca97-11e8-873d-d89ef3991fb3",
         "x": [
          "8"
         ],
         "y": [
          null
         ]
        },
        {
         "name": "恩惠_完成商业项目数",
         "type": "bar",
         "uid": "e7d5e8a6-ca97-11e8-adef-d89ef3991fb3",
         "x": [
          "8"
         ],
         "y": [
          null
         ]
        },
        {
         "name": "恩惠_完成个性化数",
         "type": "bar",
         "uid": "e7d5e8a7-ca97-11e8-bc2b-d89ef3991fb3",
         "x": [
          "8"
         ],
         "y": [
          null
         ]
        },
        {
         "name": "文文_完成商业项目数",
         "type": "bar",
         "uid": "e7d5e8a8-ca97-11e8-bfa2-d89ef3991fb3",
         "x": [
          "8"
         ],
         "y": [
          null
         ]
        },
        {
         "name": "文文_完成个性化数",
         "type": "bar",
         "uid": "e7d5e8a9-ca97-11e8-a71f-d89ef3991fb3",
         "x": [
          "8"
         ],
         "y": [
          null
         ]
        },
        {
         "name": "林文文_完成商业项目数",
         "type": "bar",
         "uid": "e7d5e8aa-ca97-11e8-a8b0-d89ef3991fb3",
         "x": [
          "8",
          "9"
         ],
         "y": [
          null,
          13
         ]
        },
        {
         "name": "林文文_完成个性化数",
         "type": "bar",
         "uid": "e7d5e8ab-ca97-11e8-a3a2-d89ef3991fb3",
         "x": [
          "8",
          "9"
         ],
         "y": [
          null,
          4
         ]
        },
        {
         "name": "沈恩惠_完成商业项目数",
         "type": "bar",
         "uid": "e7d5e8ac-ca97-11e8-829d-d89ef3991fb3",
         "x": [
          "8",
          "9"
         ],
         "y": [
          null,
          6
         ]
        },
        {
         "name": "沈恩惠_完成个性化数",
         "type": "bar",
         "uid": "e7d5e8ad-ca97-11e8-9ab6-d89ef3991fb3",
         "x": [
          "8",
          "9"
         ],
         "y": [
          null,
          2
         ]
        },
        {
         "name": "沈立群_完成商业项目数",
         "type": "bar",
         "uid": "e7d5e8ae-ca97-11e8-936b-d89ef3991fb3",
         "x": [
          "8",
          "9"
         ],
         "y": [
          null,
          2
         ]
        },
        {
         "name": "沈立群_完成个性化数",
         "type": "bar",
         "uid": "e7d5e8af-ca97-11e8-b6c6-d89ef3991fb3",
         "x": [
          "8",
          "9"
         ],
         "y": [
          null,
          2
         ]
        },
        {
         "name": "王传文_完成商业项目数",
         "type": "bar",
         "uid": "e7d5e8b0-ca97-11e8-8691-d89ef3991fb3",
         "x": [
          "8",
          "9"
         ],
         "y": [
          null,
          2
         ]
        },
        {
         "name": "王传文_完成个性化数",
         "type": "bar",
         "uid": "e7d5e8b1-ca97-11e8-8e65-d89ef3991fb3",
         "x": [
          "8",
          "9"
         ],
         "y": [
          null,
          2
         ]
        },
        {
         "name": "立群_完成商业项目数",
         "type": "bar",
         "uid": "e7d5e8b2-ca97-11e8-9869-d89ef3991fb3",
         "x": [
          "8"
         ],
         "y": [
          null
         ]
        },
        {
         "name": "立群_完成个性化数",
         "type": "bar",
         "uid": "e7d5e8b3-ca97-11e8-a669-d89ef3991fb3",
         "x": [
          "8"
         ],
         "y": [
          null
         ]
        },
        {
         "name": "车天栋_完成商业项目数",
         "type": "bar",
         "uid": "e7d5e8b4-ca97-11e8-b8c0-d89ef3991fb3",
         "x": [
          "8",
          "9"
         ],
         "y": [
          null,
          5
         ]
        },
        {
         "name": "车天栋_完成个性化数",
         "type": "bar",
         "uid": "e7d5e8b5-ca97-11e8-b3d4-d89ef3991fb3",
         "x": [
          "8",
          "9"
         ],
         "y": [
          null,
          3
         ]
        },
        {
         "name": "高剑_完成商业项目数",
         "type": "bar",
         "uid": "e7d5e8b6-ca97-11e8-b64f-d89ef3991fb3",
         "x": [
          "8",
          "9"
         ],
         "y": [
          6,
          2
         ]
        },
        {
         "name": "高剑_完成个性化数",
         "type": "bar",
         "uid": "e7d5e8b7-ca97-11e8-b888-d89ef3991fb3",
         "x": [
          "8",
          "9"
         ],
         "y": [
          7,
          1
         ]
        }
       ],
       "layout": {
        "title": "完成商业项目数&完成个性化数月趋势图",
        "xaxis": {
         "mirror": "all",
         "nticks": 20,
         "showgrid": true,
         "showline": true,
         "title": "月",
         "zeroline": true
        },
        "yaxis": {
         "mirror": "all",
         "nticks": 20,
         "showgrid": true,
         "showline": true,
         "title": "完成商业项目数&完成个性化数",
         "zeroline": true
        }
       }
      },
      "text/html": [
       "<div id=\"ce015841-ca03-4888-8549-d03d2711758f\" style=\"height: 525px; width: 100%;\" class=\"plotly-graph-div\"></div><script type=\"text/javascript\">require([\"plotly\"], function(Plotly) { window.PLOTLYENV=window.PLOTLYENV || {};window.PLOTLYENV.BASE_URL=\"https://plot.ly\";Plotly.newPlot(\"ce015841-ca03-4888-8549-d03d2711758f\", [{\"name\": \"\\u4f20\\u6587_\\u5b8c\\u6210\\u5546\\u4e1a\\u9879\\u76ee\\u6570\", \"x\": [\"8\"], \"y\": [null], \"type\": \"bar\", \"uid\": \"e7d5e8a2-ca97-11e8-a1c9-d89ef3991fb3\"}, {\"name\": \"\\u4f20\\u6587_\\u5b8c\\u6210\\u4e2a\\u6027\\u5316\\u6570\", \"x\": [\"8\"], \"y\": [null], \"type\": \"bar\", \"uid\": \"e7d5e8a3-ca97-11e8-a08a-d89ef3991fb3\"}, {\"name\": \"\\u5929\\u680b_\\u5b8c\\u6210\\u5546\\u4e1a\\u9879\\u76ee\\u6570\", \"x\": [\"8\"], \"y\": [null], \"type\": \"bar\", \"uid\": \"e7d5e8a4-ca97-11e8-9210-d89ef3991fb3\"}, {\"name\": \"\\u5929\\u680b_\\u5b8c\\u6210\\u4e2a\\u6027\\u5316\\u6570\", \"x\": [\"8\"], \"y\": [null], \"type\": \"bar\", \"uid\": \"e7d5e8a5-ca97-11e8-873d-d89ef3991fb3\"}, {\"name\": \"\\u6069\\u60e0_\\u5b8c\\u6210\\u5546\\u4e1a\\u9879\\u76ee\\u6570\", \"x\": [\"8\"], \"y\": [null], \"type\": \"bar\", \"uid\": \"e7d5e8a6-ca97-11e8-adef-d89ef3991fb3\"}, {\"name\": \"\\u6069\\u60e0_\\u5b8c\\u6210\\u4e2a\\u6027\\u5316\\u6570\", \"x\": [\"8\"], \"y\": [null], \"type\": \"bar\", \"uid\": \"e7d5e8a7-ca97-11e8-bc2b-d89ef3991fb3\"}, {\"name\": \"\\u6587\\u6587_\\u5b8c\\u6210\\u5546\\u4e1a\\u9879\\u76ee\\u6570\", \"x\": [\"8\"], \"y\": [null], \"type\": \"bar\", \"uid\": \"e7d5e8a8-ca97-11e8-bfa2-d89ef3991fb3\"}, {\"name\": \"\\u6587\\u6587_\\u5b8c\\u6210\\u4e2a\\u6027\\u5316\\u6570\", \"x\": [\"8\"], \"y\": [null], \"type\": \"bar\", \"uid\": \"e7d5e8a9-ca97-11e8-a71f-d89ef3991fb3\"}, {\"name\": \"\\u6797\\u6587\\u6587_\\u5b8c\\u6210\\u5546\\u4e1a\\u9879\\u76ee\\u6570\", \"x\": [\"8\", \"9\"], \"y\": [null, 13.0], \"type\": \"bar\", \"uid\": \"e7d5e8aa-ca97-11e8-a8b0-d89ef3991fb3\"}, {\"name\": \"\\u6797\\u6587\\u6587_\\u5b8c\\u6210\\u4e2a\\u6027\\u5316\\u6570\", \"x\": [\"8\", \"9\"], \"y\": [null, 4.0], \"type\": \"bar\", \"uid\": \"e7d5e8ab-ca97-11e8-a3a2-d89ef3991fb3\"}, {\"name\": \"\\u6c88\\u6069\\u60e0_\\u5b8c\\u6210\\u5546\\u4e1a\\u9879\\u76ee\\u6570\", \"x\": [\"8\", \"9\"], \"y\": [null, 6.0], \"type\": \"bar\", \"uid\": \"e7d5e8ac-ca97-11e8-829d-d89ef3991fb3\"}, {\"name\": \"\\u6c88\\u6069\\u60e0_\\u5b8c\\u6210\\u4e2a\\u6027\\u5316\\u6570\", \"x\": [\"8\", \"9\"], \"y\": [null, 2.0], \"type\": \"bar\", \"uid\": \"e7d5e8ad-ca97-11e8-9ab6-d89ef3991fb3\"}, {\"name\": \"\\u6c88\\u7acb\\u7fa4_\\u5b8c\\u6210\\u5546\\u4e1a\\u9879\\u76ee\\u6570\", \"x\": [\"8\", \"9\"], \"y\": [null, 2.0], \"type\": \"bar\", \"uid\": \"e7d5e8ae-ca97-11e8-936b-d89ef3991fb3\"}, {\"name\": \"\\u6c88\\u7acb\\u7fa4_\\u5b8c\\u6210\\u4e2a\\u6027\\u5316\\u6570\", \"x\": [\"8\", \"9\"], \"y\": [null, 2.0], \"type\": \"bar\", \"uid\": \"e7d5e8af-ca97-11e8-b6c6-d89ef3991fb3\"}, {\"name\": \"\\u738b\\u4f20\\u6587_\\u5b8c\\u6210\\u5546\\u4e1a\\u9879\\u76ee\\u6570\", \"x\": [\"8\", \"9\"], \"y\": [null, 2.0], \"type\": \"bar\", \"uid\": \"e7d5e8b0-ca97-11e8-8691-d89ef3991fb3\"}, {\"name\": \"\\u738b\\u4f20\\u6587_\\u5b8c\\u6210\\u4e2a\\u6027\\u5316\\u6570\", \"x\": [\"8\", \"9\"], \"y\": [null, 2.0], \"type\": \"bar\", \"uid\": \"e7d5e8b1-ca97-11e8-8e65-d89ef3991fb3\"}, {\"name\": \"\\u7acb\\u7fa4_\\u5b8c\\u6210\\u5546\\u4e1a\\u9879\\u76ee\\u6570\", \"x\": [\"8\"], \"y\": [null], \"type\": \"bar\", \"uid\": \"e7d5e8b2-ca97-11e8-9869-d89ef3991fb3\"}, {\"name\": \"\\u7acb\\u7fa4_\\u5b8c\\u6210\\u4e2a\\u6027\\u5316\\u6570\", \"x\": [\"8\"], \"y\": [null], \"type\": \"bar\", \"uid\": \"e7d5e8b3-ca97-11e8-a669-d89ef3991fb3\"}, {\"name\": \"\\u8f66\\u5929\\u680b_\\u5b8c\\u6210\\u5546\\u4e1a\\u9879\\u76ee\\u6570\", \"x\": [\"8\", \"9\"], \"y\": [null, 5.0], \"type\": \"bar\", \"uid\": \"e7d5e8b4-ca97-11e8-b8c0-d89ef3991fb3\"}, {\"name\": \"\\u8f66\\u5929\\u680b_\\u5b8c\\u6210\\u4e2a\\u6027\\u5316\\u6570\", \"x\": [\"8\", \"9\"], \"y\": [null, 3.0], \"type\": \"bar\", \"uid\": \"e7d5e8b5-ca97-11e8-b3d4-d89ef3991fb3\"}, {\"name\": \"\\u9ad8\\u5251_\\u5b8c\\u6210\\u5546\\u4e1a\\u9879\\u76ee\\u6570\", \"x\": [\"8\", \"9\"], \"y\": [6.0, 2.0], \"type\": \"bar\", \"uid\": \"e7d5e8b6-ca97-11e8-b64f-d89ef3991fb3\"}, {\"name\": \"\\u9ad8\\u5251_\\u5b8c\\u6210\\u4e2a\\u6027\\u5316\\u6570\", \"x\": [\"8\", \"9\"], \"y\": [7.0, 1.0], \"type\": \"bar\", \"uid\": \"e7d5e8b7-ca97-11e8-b888-d89ef3991fb3\"}], {\"title\": \"\\u5b8c\\u6210\\u5546\\u4e1a\\u9879\\u76ee\\u6570&\\u5b8c\\u6210\\u4e2a\\u6027\\u5316\\u6570\\u6708\\u8d8b\\u52bf\\u56fe\", \"xaxis\": {\"mirror\": \"all\", \"nticks\": 20, \"showgrid\": true, \"showline\": true, \"title\": \"\\u6708\", \"zeroline\": true}, \"yaxis\": {\"mirror\": \"all\", \"nticks\": 20, \"showgrid\": true, \"showline\": true, \"title\": \"\\u5b8c\\u6210\\u5546\\u4e1a\\u9879\\u76ee\\u6570&\\u5b8c\\u6210\\u4e2a\\u6027\\u5316\\u6570\", \"zeroline\": true}}, {\"showLink\": true, \"linkText\": \"Export to plot.ly\"})});</script>"
      ],
      "text/vnd.plotly.v1+html": [
       "<div id=\"ce015841-ca03-4888-8549-d03d2711758f\" style=\"height: 525px; width: 100%;\" class=\"plotly-graph-div\"></div><script type=\"text/javascript\">require([\"plotly\"], function(Plotly) { window.PLOTLYENV=window.PLOTLYENV || {};window.PLOTLYENV.BASE_URL=\"https://plot.ly\";Plotly.newPlot(\"ce015841-ca03-4888-8549-d03d2711758f\", [{\"name\": \"\\u4f20\\u6587_\\u5b8c\\u6210\\u5546\\u4e1a\\u9879\\u76ee\\u6570\", \"x\": [\"8\"], \"y\": [null], \"type\": \"bar\", \"uid\": \"e7d5e8a2-ca97-11e8-a1c9-d89ef3991fb3\"}, {\"name\": \"\\u4f20\\u6587_\\u5b8c\\u6210\\u4e2a\\u6027\\u5316\\u6570\", \"x\": [\"8\"], \"y\": [null], \"type\": \"bar\", \"uid\": \"e7d5e8a3-ca97-11e8-a08a-d89ef3991fb3\"}, {\"name\": \"\\u5929\\u680b_\\u5b8c\\u6210\\u5546\\u4e1a\\u9879\\u76ee\\u6570\", \"x\": [\"8\"], \"y\": [null], \"type\": \"bar\", \"uid\": \"e7d5e8a4-ca97-11e8-9210-d89ef3991fb3\"}, {\"name\": \"\\u5929\\u680b_\\u5b8c\\u6210\\u4e2a\\u6027\\u5316\\u6570\", \"x\": [\"8\"], \"y\": [null], \"type\": \"bar\", \"uid\": \"e7d5e8a5-ca97-11e8-873d-d89ef3991fb3\"}, {\"name\": \"\\u6069\\u60e0_\\u5b8c\\u6210\\u5546\\u4e1a\\u9879\\u76ee\\u6570\", \"x\": [\"8\"], \"y\": [null], \"type\": \"bar\", \"uid\": \"e7d5e8a6-ca97-11e8-adef-d89ef3991fb3\"}, {\"name\": \"\\u6069\\u60e0_\\u5b8c\\u6210\\u4e2a\\u6027\\u5316\\u6570\", \"x\": [\"8\"], \"y\": [null], \"type\": \"bar\", \"uid\": \"e7d5e8a7-ca97-11e8-bc2b-d89ef3991fb3\"}, {\"name\": \"\\u6587\\u6587_\\u5b8c\\u6210\\u5546\\u4e1a\\u9879\\u76ee\\u6570\", \"x\": [\"8\"], \"y\": [null], \"type\": \"bar\", \"uid\": \"e7d5e8a8-ca97-11e8-bfa2-d89ef3991fb3\"}, {\"name\": \"\\u6587\\u6587_\\u5b8c\\u6210\\u4e2a\\u6027\\u5316\\u6570\", \"x\": [\"8\"], \"y\": [null], \"type\": \"bar\", \"uid\": \"e7d5e8a9-ca97-11e8-a71f-d89ef3991fb3\"}, {\"name\": \"\\u6797\\u6587\\u6587_\\u5b8c\\u6210\\u5546\\u4e1a\\u9879\\u76ee\\u6570\", \"x\": [\"8\", \"9\"], \"y\": [null, 13.0], \"type\": \"bar\", \"uid\": \"e7d5e8aa-ca97-11e8-a8b0-d89ef3991fb3\"}, {\"name\": \"\\u6797\\u6587\\u6587_\\u5b8c\\u6210\\u4e2a\\u6027\\u5316\\u6570\", \"x\": [\"8\", \"9\"], \"y\": [null, 4.0], \"type\": \"bar\", \"uid\": \"e7d5e8ab-ca97-11e8-a3a2-d89ef3991fb3\"}, {\"name\": \"\\u6c88\\u6069\\u60e0_\\u5b8c\\u6210\\u5546\\u4e1a\\u9879\\u76ee\\u6570\", \"x\": [\"8\", \"9\"], \"y\": [null, 6.0], \"type\": \"bar\", \"uid\": \"e7d5e8ac-ca97-11e8-829d-d89ef3991fb3\"}, {\"name\": \"\\u6c88\\u6069\\u60e0_\\u5b8c\\u6210\\u4e2a\\u6027\\u5316\\u6570\", \"x\": [\"8\", \"9\"], \"y\": [null, 2.0], \"type\": \"bar\", \"uid\": \"e7d5e8ad-ca97-11e8-9ab6-d89ef3991fb3\"}, {\"name\": \"\\u6c88\\u7acb\\u7fa4_\\u5b8c\\u6210\\u5546\\u4e1a\\u9879\\u76ee\\u6570\", \"x\": [\"8\", \"9\"], \"y\": [null, 2.0], \"type\": \"bar\", \"uid\": \"e7d5e8ae-ca97-11e8-936b-d89ef3991fb3\"}, {\"name\": \"\\u6c88\\u7acb\\u7fa4_\\u5b8c\\u6210\\u4e2a\\u6027\\u5316\\u6570\", \"x\": [\"8\", \"9\"], \"y\": [null, 2.0], \"type\": \"bar\", \"uid\": \"e7d5e8af-ca97-11e8-b6c6-d89ef3991fb3\"}, {\"name\": \"\\u738b\\u4f20\\u6587_\\u5b8c\\u6210\\u5546\\u4e1a\\u9879\\u76ee\\u6570\", \"x\": [\"8\", \"9\"], \"y\": [null, 2.0], \"type\": \"bar\", \"uid\": \"e7d5e8b0-ca97-11e8-8691-d89ef3991fb3\"}, {\"name\": \"\\u738b\\u4f20\\u6587_\\u5b8c\\u6210\\u4e2a\\u6027\\u5316\\u6570\", \"x\": [\"8\", \"9\"], \"y\": [null, 2.0], \"type\": \"bar\", \"uid\": \"e7d5e8b1-ca97-11e8-8e65-d89ef3991fb3\"}, {\"name\": \"\\u7acb\\u7fa4_\\u5b8c\\u6210\\u5546\\u4e1a\\u9879\\u76ee\\u6570\", \"x\": [\"8\"], \"y\": [null], \"type\": \"bar\", \"uid\": \"e7d5e8b2-ca97-11e8-9869-d89ef3991fb3\"}, {\"name\": \"\\u7acb\\u7fa4_\\u5b8c\\u6210\\u4e2a\\u6027\\u5316\\u6570\", \"x\": [\"8\"], \"y\": [null], \"type\": \"bar\", \"uid\": \"e7d5e8b3-ca97-11e8-a669-d89ef3991fb3\"}, {\"name\": \"\\u8f66\\u5929\\u680b_\\u5b8c\\u6210\\u5546\\u4e1a\\u9879\\u76ee\\u6570\", \"x\": [\"8\", \"9\"], \"y\": [null, 5.0], \"type\": \"bar\", \"uid\": \"e7d5e8b4-ca97-11e8-b8c0-d89ef3991fb3\"}, {\"name\": \"\\u8f66\\u5929\\u680b_\\u5b8c\\u6210\\u4e2a\\u6027\\u5316\\u6570\", \"x\": [\"8\", \"9\"], \"y\": [null, 3.0], \"type\": \"bar\", \"uid\": \"e7d5e8b5-ca97-11e8-b3d4-d89ef3991fb3\"}, {\"name\": \"\\u9ad8\\u5251_\\u5b8c\\u6210\\u5546\\u4e1a\\u9879\\u76ee\\u6570\", \"x\": [\"8\", \"9\"], \"y\": [6.0, 2.0], \"type\": \"bar\", \"uid\": \"e7d5e8b6-ca97-11e8-b64f-d89ef3991fb3\"}, {\"name\": \"\\u9ad8\\u5251_\\u5b8c\\u6210\\u4e2a\\u6027\\u5316\\u6570\", \"x\": [\"8\", \"9\"], \"y\": [7.0, 1.0], \"type\": \"bar\", \"uid\": \"e7d5e8b7-ca97-11e8-b888-d89ef3991fb3\"}], {\"title\": \"\\u5b8c\\u6210\\u5546\\u4e1a\\u9879\\u76ee\\u6570&\\u5b8c\\u6210\\u4e2a\\u6027\\u5316\\u6570\\u6708\\u8d8b\\u52bf\\u56fe\", \"xaxis\": {\"mirror\": \"all\", \"nticks\": 20, \"showgrid\": true, \"showline\": true, \"title\": \"\\u6708\", \"zeroline\": true}, \"yaxis\": {\"mirror\": \"all\", \"nticks\": 20, \"showgrid\": true, \"showline\": true, \"title\": \"\\u5b8c\\u6210\\u5546\\u4e1a\\u9879\\u76ee\\u6570&\\u5b8c\\u6210\\u4e2a\\u6027\\u5316\\u6570\", \"zeroline\": true}}, {\"showLink\": true, \"linkText\": \"Export to plot.ly\"})});</script>"
      ]
     },
     "metadata": {},
     "output_type": "display_data"
    }
   ],
   "source": [
    "data_dict = {'完成商业项目数':['完成商业项目数'], '完成个性化数':['完成个性化数']}\n",
    "myModule.plot( all_dict, data_dict, '人员' ,  'bar')"
   ]
  },
  {
   "cell_type": "markdown",
   "metadata": {},
   "source": [
    "### 延期项目数"
   ]
  },
  {
   "cell_type": "code",
   "execution_count": 36,
   "metadata": {
    "collapsed": false
   },
   "outputs": [
    {
     "data": {
      "application/vnd.plotly.v1+json": {
       "data": [
        {
         "name": "沈恩惠_延期商业项目数",
         "type": "bar",
         "uid": "e842b7e2-ca97-11e8-8f0e-d89ef3991fb3",
         "x": [
          "8-1",
          "8-2",
          "8-3",
          "9-1",
          "9-2",
          "9-3",
          "9-4"
         ],
         "y": [
          0,
          0,
          0,
          0,
          0,
          1,
          0
         ]
        },
        {
         "name": "沈恩惠_延期个性化项目数",
         "type": "bar",
         "uid": "e842b7e3-ca97-11e8-b603-d89ef3991fb3",
         "x": [
          "8-1",
          "8-2",
          "8-3",
          "9-1",
          "9-2",
          "9-3",
          "9-4"
         ],
         "y": [
          0,
          0,
          0,
          0,
          0,
          0,
          0
         ]
        },
        {
         "name": "林文文_延期商业项目数",
         "type": "bar",
         "uid": "e842b7e4-ca97-11e8-aa80-d89ef3991fb3",
         "x": [
          "8-1",
          "8-2",
          "8-3",
          "9-1",
          "9-2",
          "9-3",
          "9-4"
         ],
         "y": [
          0,
          0,
          0,
          0,
          0,
          1,
          0
         ]
        },
        {
         "name": "林文文_延期个性化项目数",
         "type": "bar",
         "uid": "e842b7e5-ca97-11e8-98ea-d89ef3991fb3",
         "x": [
          "8-1",
          "8-2",
          "8-3",
          "9-1",
          "9-2",
          "9-3",
          "9-4"
         ],
         "y": [
          0,
          0,
          0,
          0,
          0,
          0,
          0
         ]
        },
        {
         "name": "高剑_延期商业项目数",
         "type": "bar",
         "uid": "e842b7e6-ca97-11e8-94cb-d89ef3991fb3",
         "x": [
          "8-1",
          "8-2",
          "8-3",
          "8-4",
          "9-1",
          "9-2",
          "9-3",
          "9-4"
         ],
         "y": [
          0,
          0,
          0,
          0,
          0,
          0,
          0,
          0
         ]
        },
        {
         "name": "高剑_延期个性化项目数",
         "type": "bar",
         "uid": "e842b7e7-ca97-11e8-977c-d89ef3991fb3",
         "x": [
          "8-1",
          "8-2",
          "8-3",
          "8-4",
          "9-1",
          "9-2",
          "9-3",
          "9-4"
         ],
         "y": [
          0,
          0,
          0,
          0,
          0,
          0,
          0,
          0
         ]
        },
        {
         "name": "车天栋_延期商业项目数",
         "type": "bar",
         "uid": "e842b7e8-ca97-11e8-8b92-d89ef3991fb3",
         "x": [
          "8-1",
          "8-2",
          "8-3",
          "9-1",
          "9-2",
          "9-3",
          "9-4"
         ],
         "y": [
          0,
          0,
          0,
          0,
          0,
          0,
          0
         ]
        },
        {
         "name": "车天栋_延期个性化项目数",
         "type": "bar",
         "uid": "e842deda-ca97-11e8-99c9-d89ef3991fb3",
         "x": [
          "8-1",
          "8-2",
          "8-3",
          "9-1",
          "9-2",
          "9-3",
          "9-4"
         ],
         "y": [
          0,
          0,
          0,
          0,
          0,
          0,
          0
         ]
        },
        {
         "name": "王传文_延期商业项目数",
         "type": "bar",
         "uid": "e842dedb-ca97-11e8-bcfb-d89ef3991fb3",
         "x": [
          "8-1",
          "8-2",
          "8-3",
          "9-1",
          "9-2",
          "9-3",
          "9-4"
         ],
         "y": [
          0,
          0,
          0,
          0,
          0,
          0,
          0
         ]
        },
        {
         "name": "王传文_延期个性化项目数",
         "type": "bar",
         "uid": "e842dedc-ca97-11e8-bab2-d89ef3991fb3",
         "x": [
          "8-1",
          "8-2",
          "8-3",
          "9-1",
          "9-2",
          "9-3",
          "9-4"
         ],
         "y": [
          0,
          0,
          0,
          0,
          0,
          0,
          0
         ]
        },
        {
         "name": "沈立群_延期商业项目数",
         "type": "bar",
         "uid": "e842dedd-ca97-11e8-9f33-d89ef3991fb3",
         "x": [
          "8-1",
          "8-2",
          "8-3",
          "9-1",
          "9-2",
          "9-3",
          "9-4"
         ],
         "y": [
          0,
          0,
          0,
          0,
          0,
          0,
          0
         ]
        },
        {
         "name": "沈立群_延期个性化项目数",
         "type": "bar",
         "uid": "e842dede-ca97-11e8-b464-d89ef3991fb3",
         "x": [
          "8-1",
          "8-2",
          "8-3",
          "9-1",
          "9-2",
          "9-3",
          "9-4"
         ],
         "y": [
          0,
          0,
          0,
          0,
          0,
          0,
          0
         ]
        },
        {
         "name": "传文_延期商业项目数",
         "type": "bar",
         "uid": "e842dedf-ca97-11e8-9cb3-d89ef3991fb3",
         "x": [
          "8-4"
         ],
         "y": [
          0
         ]
        },
        {
         "name": "传文_延期个性化项目数",
         "type": "bar",
         "uid": "e842dee0-ca97-11e8-ba19-d89ef3991fb3",
         "x": [
          "8-4"
         ],
         "y": [
          0
         ]
        },
        {
         "name": "天栋_延期商业项目数",
         "type": "bar",
         "uid": "e842dee1-ca97-11e8-bdcc-d89ef3991fb3",
         "x": [
          "8-4"
         ],
         "y": [
          0
         ]
        },
        {
         "name": "天栋_延期个性化项目数",
         "type": "bar",
         "uid": "e842dee2-ca97-11e8-ad18-d89ef3991fb3",
         "x": [
          "8-4"
         ],
         "y": [
          0
         ]
        },
        {
         "name": "文文_延期商业项目数",
         "type": "bar",
         "uid": "e842dee3-ca97-11e8-9124-d89ef3991fb3",
         "x": [
          "8-4"
         ],
         "y": [
          0
         ]
        },
        {
         "name": "文文_延期个性化项目数",
         "type": "bar",
         "uid": "e842dee4-ca97-11e8-b2d5-d89ef3991fb3",
         "x": [
          "8-4"
         ],
         "y": [
          0
         ]
        },
        {
         "name": "立群_延期商业项目数",
         "type": "bar",
         "uid": "e842dee5-ca97-11e8-8dc6-d89ef3991fb3",
         "x": [
          "8-4"
         ],
         "y": [
          0
         ]
        },
        {
         "name": "立群_延期个性化项目数",
         "type": "bar",
         "uid": "e842dee6-ca97-11e8-9432-d89ef3991fb3",
         "x": [
          "8-4"
         ],
         "y": [
          0
         ]
        },
        {
         "name": "恩惠_延期商业项目数",
         "type": "bar",
         "uid": "e842dee7-ca97-11e8-ac62-d89ef3991fb3",
         "x": [
          "8-4"
         ],
         "y": [
          0
         ]
        },
        {
         "name": "恩惠_延期个性化项目数",
         "type": "bar",
         "uid": "e842dee8-ca97-11e8-9ded-d89ef3991fb3",
         "x": [
          "8-4"
         ],
         "y": [
          0
         ]
        }
       ],
       "layout": {
        "title": "延期商业项目数&延期个性化项目数周趋势图",
        "xaxis": {
         "mirror": "all",
         "nticks": 20,
         "showgrid": true,
         "showline": true,
         "title": "周",
         "zeroline": true
        },
        "yaxis": {
         "mirror": "all",
         "nticks": 20,
         "showgrid": true,
         "showline": true,
         "title": "延期商业项目数&延期个性化项目数",
         "zeroline": true
        }
       }
      },
      "text/html": [
       "<div id=\"ed6562f3-1725-4985-9f57-fcc964d90a68\" style=\"height: 525px; width: 100%;\" class=\"plotly-graph-div\"></div><script type=\"text/javascript\">require([\"plotly\"], function(Plotly) { window.PLOTLYENV=window.PLOTLYENV || {};window.PLOTLYENV.BASE_URL=\"https://plot.ly\";Plotly.newPlot(\"ed6562f3-1725-4985-9f57-fcc964d90a68\", [{\"name\": \"\\u6c88\\u6069\\u60e0_\\u5ef6\\u671f\\u5546\\u4e1a\\u9879\\u76ee\\u6570\", \"x\": [\"8-1\", \"8-2\", \"8-3\", \"9-1\", \"9-2\", \"9-3\", \"9-4\"], \"y\": [0.0, 0.0, 0.0, 0.0, 0.0, 1.0, 0.0], \"type\": \"bar\", \"uid\": \"e842b7e2-ca97-11e8-8f0e-d89ef3991fb3\"}, {\"name\": \"\\u6c88\\u6069\\u60e0_\\u5ef6\\u671f\\u4e2a\\u6027\\u5316\\u9879\\u76ee\\u6570\", \"x\": [\"8-1\", \"8-2\", \"8-3\", \"9-1\", \"9-2\", \"9-3\", \"9-4\"], \"y\": [0.0, 0.0, 0.0, 0.0, 0.0, 0.0, 0.0], \"type\": \"bar\", \"uid\": \"e842b7e3-ca97-11e8-b603-d89ef3991fb3\"}, {\"name\": \"\\u6797\\u6587\\u6587_\\u5ef6\\u671f\\u5546\\u4e1a\\u9879\\u76ee\\u6570\", \"x\": [\"8-1\", \"8-2\", \"8-3\", \"9-1\", \"9-2\", \"9-3\", \"9-4\"], \"y\": [0.0, 0.0, 0.0, 0.0, 0.0, 1.0, 0.0], \"type\": \"bar\", \"uid\": \"e842b7e4-ca97-11e8-aa80-d89ef3991fb3\"}, {\"name\": \"\\u6797\\u6587\\u6587_\\u5ef6\\u671f\\u4e2a\\u6027\\u5316\\u9879\\u76ee\\u6570\", \"x\": [\"8-1\", \"8-2\", \"8-3\", \"9-1\", \"9-2\", \"9-3\", \"9-4\"], \"y\": [0.0, 0.0, 0.0, 0.0, 0.0, 0.0, 0.0], \"type\": \"bar\", \"uid\": \"e842b7e5-ca97-11e8-98ea-d89ef3991fb3\"}, {\"name\": \"\\u9ad8\\u5251_\\u5ef6\\u671f\\u5546\\u4e1a\\u9879\\u76ee\\u6570\", \"x\": [\"8-1\", \"8-2\", \"8-3\", \"8-4\", \"9-1\", \"9-2\", \"9-3\", \"9-4\"], \"y\": [0.0, 0.0, 0.0, 0.0, 0.0, 0.0, 0.0, 0.0], \"type\": \"bar\", \"uid\": \"e842b7e6-ca97-11e8-94cb-d89ef3991fb3\"}, {\"name\": \"\\u9ad8\\u5251_\\u5ef6\\u671f\\u4e2a\\u6027\\u5316\\u9879\\u76ee\\u6570\", \"x\": [\"8-1\", \"8-2\", \"8-3\", \"8-4\", \"9-1\", \"9-2\", \"9-3\", \"9-4\"], \"y\": [0.0, 0.0, 0.0, 0.0, 0.0, 0.0, 0.0, 0.0], \"type\": \"bar\", \"uid\": \"e842b7e7-ca97-11e8-977c-d89ef3991fb3\"}, {\"name\": \"\\u8f66\\u5929\\u680b_\\u5ef6\\u671f\\u5546\\u4e1a\\u9879\\u76ee\\u6570\", \"x\": [\"8-1\", \"8-2\", \"8-3\", \"9-1\", \"9-2\", \"9-3\", \"9-4\"], \"y\": [0.0, 0.0, 0.0, 0.0, 0.0, 0.0, 0.0], \"type\": \"bar\", \"uid\": \"e842b7e8-ca97-11e8-8b92-d89ef3991fb3\"}, {\"name\": \"\\u8f66\\u5929\\u680b_\\u5ef6\\u671f\\u4e2a\\u6027\\u5316\\u9879\\u76ee\\u6570\", \"x\": [\"8-1\", \"8-2\", \"8-3\", \"9-1\", \"9-2\", \"9-3\", \"9-4\"], \"y\": [0.0, 0.0, 0.0, 0.0, 0.0, 0.0, 0.0], \"type\": \"bar\", \"uid\": \"e842deda-ca97-11e8-99c9-d89ef3991fb3\"}, {\"name\": \"\\u738b\\u4f20\\u6587_\\u5ef6\\u671f\\u5546\\u4e1a\\u9879\\u76ee\\u6570\", \"x\": [\"8-1\", \"8-2\", \"8-3\", \"9-1\", \"9-2\", \"9-3\", \"9-4\"], \"y\": [0.0, 0.0, 0.0, 0.0, 0.0, 0.0, 0.0], \"type\": \"bar\", \"uid\": \"e842dedb-ca97-11e8-bcfb-d89ef3991fb3\"}, {\"name\": \"\\u738b\\u4f20\\u6587_\\u5ef6\\u671f\\u4e2a\\u6027\\u5316\\u9879\\u76ee\\u6570\", \"x\": [\"8-1\", \"8-2\", \"8-3\", \"9-1\", \"9-2\", \"9-3\", \"9-4\"], \"y\": [0.0, 0.0, 0.0, 0.0, 0.0, 0.0, 0.0], \"type\": \"bar\", \"uid\": \"e842dedc-ca97-11e8-bab2-d89ef3991fb3\"}, {\"name\": \"\\u6c88\\u7acb\\u7fa4_\\u5ef6\\u671f\\u5546\\u4e1a\\u9879\\u76ee\\u6570\", \"x\": [\"8-1\", \"8-2\", \"8-3\", \"9-1\", \"9-2\", \"9-3\", \"9-4\"], \"y\": [0.0, 0.0, 0.0, 0.0, 0.0, 0.0, 0.0], \"type\": \"bar\", \"uid\": \"e842dedd-ca97-11e8-9f33-d89ef3991fb3\"}, {\"name\": \"\\u6c88\\u7acb\\u7fa4_\\u5ef6\\u671f\\u4e2a\\u6027\\u5316\\u9879\\u76ee\\u6570\", \"x\": [\"8-1\", \"8-2\", \"8-3\", \"9-1\", \"9-2\", \"9-3\", \"9-4\"], \"y\": [0.0, 0.0, 0.0, 0.0, 0.0, 0.0, 0.0], \"type\": \"bar\", \"uid\": \"e842dede-ca97-11e8-b464-d89ef3991fb3\"}, {\"name\": \"\\u4f20\\u6587_\\u5ef6\\u671f\\u5546\\u4e1a\\u9879\\u76ee\\u6570\", \"x\": [\"8-4\"], \"y\": [0.0], \"type\": \"bar\", \"uid\": \"e842dedf-ca97-11e8-9cb3-d89ef3991fb3\"}, {\"name\": \"\\u4f20\\u6587_\\u5ef6\\u671f\\u4e2a\\u6027\\u5316\\u9879\\u76ee\\u6570\", \"x\": [\"8-4\"], \"y\": [0.0], \"type\": \"bar\", \"uid\": \"e842dee0-ca97-11e8-ba19-d89ef3991fb3\"}, {\"name\": \"\\u5929\\u680b_\\u5ef6\\u671f\\u5546\\u4e1a\\u9879\\u76ee\\u6570\", \"x\": [\"8-4\"], \"y\": [0.0], \"type\": \"bar\", \"uid\": \"e842dee1-ca97-11e8-bdcc-d89ef3991fb3\"}, {\"name\": \"\\u5929\\u680b_\\u5ef6\\u671f\\u4e2a\\u6027\\u5316\\u9879\\u76ee\\u6570\", \"x\": [\"8-4\"], \"y\": [0.0], \"type\": \"bar\", \"uid\": \"e842dee2-ca97-11e8-ad18-d89ef3991fb3\"}, {\"name\": \"\\u6587\\u6587_\\u5ef6\\u671f\\u5546\\u4e1a\\u9879\\u76ee\\u6570\", \"x\": [\"8-4\"], \"y\": [0.0], \"type\": \"bar\", \"uid\": \"e842dee3-ca97-11e8-9124-d89ef3991fb3\"}, {\"name\": \"\\u6587\\u6587_\\u5ef6\\u671f\\u4e2a\\u6027\\u5316\\u9879\\u76ee\\u6570\", \"x\": [\"8-4\"], \"y\": [0.0], \"type\": \"bar\", \"uid\": \"e842dee4-ca97-11e8-b2d5-d89ef3991fb3\"}, {\"name\": \"\\u7acb\\u7fa4_\\u5ef6\\u671f\\u5546\\u4e1a\\u9879\\u76ee\\u6570\", \"x\": [\"8-4\"], \"y\": [0.0], \"type\": \"bar\", \"uid\": \"e842dee5-ca97-11e8-8dc6-d89ef3991fb3\"}, {\"name\": \"\\u7acb\\u7fa4_\\u5ef6\\u671f\\u4e2a\\u6027\\u5316\\u9879\\u76ee\\u6570\", \"x\": [\"8-4\"], \"y\": [0.0], \"type\": \"bar\", \"uid\": \"e842dee6-ca97-11e8-9432-d89ef3991fb3\"}, {\"name\": \"\\u6069\\u60e0_\\u5ef6\\u671f\\u5546\\u4e1a\\u9879\\u76ee\\u6570\", \"x\": [\"8-4\"], \"y\": [0.0], \"type\": \"bar\", \"uid\": \"e842dee7-ca97-11e8-ac62-d89ef3991fb3\"}, {\"name\": \"\\u6069\\u60e0_\\u5ef6\\u671f\\u4e2a\\u6027\\u5316\\u9879\\u76ee\\u6570\", \"x\": [\"8-4\"], \"y\": [0.0], \"type\": \"bar\", \"uid\": \"e842dee8-ca97-11e8-9ded-d89ef3991fb3\"}], {\"title\": \"\\u5ef6\\u671f\\u5546\\u4e1a\\u9879\\u76ee\\u6570&\\u5ef6\\u671f\\u4e2a\\u6027\\u5316\\u9879\\u76ee\\u6570\\u5468\\u8d8b\\u52bf\\u56fe\", \"xaxis\": {\"mirror\": \"all\", \"nticks\": 20, \"showgrid\": true, \"showline\": true, \"title\": \"\\u5468\", \"zeroline\": true}, \"yaxis\": {\"mirror\": \"all\", \"nticks\": 20, \"showgrid\": true, \"showline\": true, \"title\": \"\\u5ef6\\u671f\\u5546\\u4e1a\\u9879\\u76ee\\u6570&\\u5ef6\\u671f\\u4e2a\\u6027\\u5316\\u9879\\u76ee\\u6570\", \"zeroline\": true}}, {\"showLink\": true, \"linkText\": \"Export to plot.ly\"})});</script>"
      ],
      "text/vnd.plotly.v1+html": [
       "<div id=\"ed6562f3-1725-4985-9f57-fcc964d90a68\" style=\"height: 525px; width: 100%;\" class=\"plotly-graph-div\"></div><script type=\"text/javascript\">require([\"plotly\"], function(Plotly) { window.PLOTLYENV=window.PLOTLYENV || {};window.PLOTLYENV.BASE_URL=\"https://plot.ly\";Plotly.newPlot(\"ed6562f3-1725-4985-9f57-fcc964d90a68\", [{\"name\": \"\\u6c88\\u6069\\u60e0_\\u5ef6\\u671f\\u5546\\u4e1a\\u9879\\u76ee\\u6570\", \"x\": [\"8-1\", \"8-2\", \"8-3\", \"9-1\", \"9-2\", \"9-3\", \"9-4\"], \"y\": [0.0, 0.0, 0.0, 0.0, 0.0, 1.0, 0.0], \"type\": \"bar\", \"uid\": \"e842b7e2-ca97-11e8-8f0e-d89ef3991fb3\"}, {\"name\": \"\\u6c88\\u6069\\u60e0_\\u5ef6\\u671f\\u4e2a\\u6027\\u5316\\u9879\\u76ee\\u6570\", \"x\": [\"8-1\", \"8-2\", \"8-3\", \"9-1\", \"9-2\", \"9-3\", \"9-4\"], \"y\": [0.0, 0.0, 0.0, 0.0, 0.0, 0.0, 0.0], \"type\": \"bar\", \"uid\": \"e842b7e3-ca97-11e8-b603-d89ef3991fb3\"}, {\"name\": \"\\u6797\\u6587\\u6587_\\u5ef6\\u671f\\u5546\\u4e1a\\u9879\\u76ee\\u6570\", \"x\": [\"8-1\", \"8-2\", \"8-3\", \"9-1\", \"9-2\", \"9-3\", \"9-4\"], \"y\": [0.0, 0.0, 0.0, 0.0, 0.0, 1.0, 0.0], \"type\": \"bar\", \"uid\": \"e842b7e4-ca97-11e8-aa80-d89ef3991fb3\"}, {\"name\": \"\\u6797\\u6587\\u6587_\\u5ef6\\u671f\\u4e2a\\u6027\\u5316\\u9879\\u76ee\\u6570\", \"x\": [\"8-1\", \"8-2\", \"8-3\", \"9-1\", \"9-2\", \"9-3\", \"9-4\"], \"y\": [0.0, 0.0, 0.0, 0.0, 0.0, 0.0, 0.0], \"type\": \"bar\", \"uid\": \"e842b7e5-ca97-11e8-98ea-d89ef3991fb3\"}, {\"name\": \"\\u9ad8\\u5251_\\u5ef6\\u671f\\u5546\\u4e1a\\u9879\\u76ee\\u6570\", \"x\": [\"8-1\", \"8-2\", \"8-3\", \"8-4\", \"9-1\", \"9-2\", \"9-3\", \"9-4\"], \"y\": [0.0, 0.0, 0.0, 0.0, 0.0, 0.0, 0.0, 0.0], \"type\": \"bar\", \"uid\": \"e842b7e6-ca97-11e8-94cb-d89ef3991fb3\"}, {\"name\": \"\\u9ad8\\u5251_\\u5ef6\\u671f\\u4e2a\\u6027\\u5316\\u9879\\u76ee\\u6570\", \"x\": [\"8-1\", \"8-2\", \"8-3\", \"8-4\", \"9-1\", \"9-2\", \"9-3\", \"9-4\"], \"y\": [0.0, 0.0, 0.0, 0.0, 0.0, 0.0, 0.0, 0.0], \"type\": \"bar\", \"uid\": \"e842b7e7-ca97-11e8-977c-d89ef3991fb3\"}, {\"name\": \"\\u8f66\\u5929\\u680b_\\u5ef6\\u671f\\u5546\\u4e1a\\u9879\\u76ee\\u6570\", \"x\": [\"8-1\", \"8-2\", \"8-3\", \"9-1\", \"9-2\", \"9-3\", \"9-4\"], \"y\": [0.0, 0.0, 0.0, 0.0, 0.0, 0.0, 0.0], \"type\": \"bar\", \"uid\": \"e842b7e8-ca97-11e8-8b92-d89ef3991fb3\"}, {\"name\": \"\\u8f66\\u5929\\u680b_\\u5ef6\\u671f\\u4e2a\\u6027\\u5316\\u9879\\u76ee\\u6570\", \"x\": [\"8-1\", \"8-2\", \"8-3\", \"9-1\", \"9-2\", \"9-3\", \"9-4\"], \"y\": [0.0, 0.0, 0.0, 0.0, 0.0, 0.0, 0.0], \"type\": \"bar\", \"uid\": \"e842deda-ca97-11e8-99c9-d89ef3991fb3\"}, {\"name\": \"\\u738b\\u4f20\\u6587_\\u5ef6\\u671f\\u5546\\u4e1a\\u9879\\u76ee\\u6570\", \"x\": [\"8-1\", \"8-2\", \"8-3\", \"9-1\", \"9-2\", \"9-3\", \"9-4\"], \"y\": [0.0, 0.0, 0.0, 0.0, 0.0, 0.0, 0.0], \"type\": \"bar\", \"uid\": \"e842dedb-ca97-11e8-bcfb-d89ef3991fb3\"}, {\"name\": \"\\u738b\\u4f20\\u6587_\\u5ef6\\u671f\\u4e2a\\u6027\\u5316\\u9879\\u76ee\\u6570\", \"x\": [\"8-1\", \"8-2\", \"8-3\", \"9-1\", \"9-2\", \"9-3\", \"9-4\"], \"y\": [0.0, 0.0, 0.0, 0.0, 0.0, 0.0, 0.0], \"type\": \"bar\", \"uid\": \"e842dedc-ca97-11e8-bab2-d89ef3991fb3\"}, {\"name\": \"\\u6c88\\u7acb\\u7fa4_\\u5ef6\\u671f\\u5546\\u4e1a\\u9879\\u76ee\\u6570\", \"x\": [\"8-1\", \"8-2\", \"8-3\", \"9-1\", \"9-2\", \"9-3\", \"9-4\"], \"y\": [0.0, 0.0, 0.0, 0.0, 0.0, 0.0, 0.0], \"type\": \"bar\", \"uid\": \"e842dedd-ca97-11e8-9f33-d89ef3991fb3\"}, {\"name\": \"\\u6c88\\u7acb\\u7fa4_\\u5ef6\\u671f\\u4e2a\\u6027\\u5316\\u9879\\u76ee\\u6570\", \"x\": [\"8-1\", \"8-2\", \"8-3\", \"9-1\", \"9-2\", \"9-3\", \"9-4\"], \"y\": [0.0, 0.0, 0.0, 0.0, 0.0, 0.0, 0.0], \"type\": \"bar\", \"uid\": \"e842dede-ca97-11e8-b464-d89ef3991fb3\"}, {\"name\": \"\\u4f20\\u6587_\\u5ef6\\u671f\\u5546\\u4e1a\\u9879\\u76ee\\u6570\", \"x\": [\"8-4\"], \"y\": [0.0], \"type\": \"bar\", \"uid\": \"e842dedf-ca97-11e8-9cb3-d89ef3991fb3\"}, {\"name\": \"\\u4f20\\u6587_\\u5ef6\\u671f\\u4e2a\\u6027\\u5316\\u9879\\u76ee\\u6570\", \"x\": [\"8-4\"], \"y\": [0.0], \"type\": \"bar\", \"uid\": \"e842dee0-ca97-11e8-ba19-d89ef3991fb3\"}, {\"name\": \"\\u5929\\u680b_\\u5ef6\\u671f\\u5546\\u4e1a\\u9879\\u76ee\\u6570\", \"x\": [\"8-4\"], \"y\": [0.0], \"type\": \"bar\", \"uid\": \"e842dee1-ca97-11e8-bdcc-d89ef3991fb3\"}, {\"name\": \"\\u5929\\u680b_\\u5ef6\\u671f\\u4e2a\\u6027\\u5316\\u9879\\u76ee\\u6570\", \"x\": [\"8-4\"], \"y\": [0.0], \"type\": \"bar\", \"uid\": \"e842dee2-ca97-11e8-ad18-d89ef3991fb3\"}, {\"name\": \"\\u6587\\u6587_\\u5ef6\\u671f\\u5546\\u4e1a\\u9879\\u76ee\\u6570\", \"x\": [\"8-4\"], \"y\": [0.0], \"type\": \"bar\", \"uid\": \"e842dee3-ca97-11e8-9124-d89ef3991fb3\"}, {\"name\": \"\\u6587\\u6587_\\u5ef6\\u671f\\u4e2a\\u6027\\u5316\\u9879\\u76ee\\u6570\", \"x\": [\"8-4\"], \"y\": [0.0], \"type\": \"bar\", \"uid\": \"e842dee4-ca97-11e8-b2d5-d89ef3991fb3\"}, {\"name\": \"\\u7acb\\u7fa4_\\u5ef6\\u671f\\u5546\\u4e1a\\u9879\\u76ee\\u6570\", \"x\": [\"8-4\"], \"y\": [0.0], \"type\": \"bar\", \"uid\": \"e842dee5-ca97-11e8-8dc6-d89ef3991fb3\"}, {\"name\": \"\\u7acb\\u7fa4_\\u5ef6\\u671f\\u4e2a\\u6027\\u5316\\u9879\\u76ee\\u6570\", \"x\": [\"8-4\"], \"y\": [0.0], \"type\": \"bar\", \"uid\": \"e842dee6-ca97-11e8-9432-d89ef3991fb3\"}, {\"name\": \"\\u6069\\u60e0_\\u5ef6\\u671f\\u5546\\u4e1a\\u9879\\u76ee\\u6570\", \"x\": [\"8-4\"], \"y\": [0.0], \"type\": \"bar\", \"uid\": \"e842dee7-ca97-11e8-ac62-d89ef3991fb3\"}, {\"name\": \"\\u6069\\u60e0_\\u5ef6\\u671f\\u4e2a\\u6027\\u5316\\u9879\\u76ee\\u6570\", \"x\": [\"8-4\"], \"y\": [0.0], \"type\": \"bar\", \"uid\": \"e842dee8-ca97-11e8-9ded-d89ef3991fb3\"}], {\"title\": \"\\u5ef6\\u671f\\u5546\\u4e1a\\u9879\\u76ee\\u6570&\\u5ef6\\u671f\\u4e2a\\u6027\\u5316\\u9879\\u76ee\\u6570\\u5468\\u8d8b\\u52bf\\u56fe\", \"xaxis\": {\"mirror\": \"all\", \"nticks\": 20, \"showgrid\": true, \"showline\": true, \"title\": \"\\u5468\", \"zeroline\": true}, \"yaxis\": {\"mirror\": \"all\", \"nticks\": 20, \"showgrid\": true, \"showline\": true, \"title\": \"\\u5ef6\\u671f\\u5546\\u4e1a\\u9879\\u76ee\\u6570&\\u5ef6\\u671f\\u4e2a\\u6027\\u5316\\u9879\\u76ee\\u6570\", \"zeroline\": true}}, {\"showLink\": true, \"linkText\": \"Export to plot.ly\"})});</script>"
      ]
     },
     "metadata": {},
     "output_type": "display_data"
    },
    {
     "data": {
      "application/vnd.plotly.v1+json": {
       "data": [
        {
         "name": "传文_延期商业项目数",
         "type": "bar",
         "uid": "e870ad52-ca97-11e8-89ef-d89ef3991fb3",
         "x": [
          "8"
         ],
         "y": [
          null
         ]
        },
        {
         "name": "传文_延期个性化项目数",
         "type": "bar",
         "uid": "e870ad53-ca97-11e8-8bdd-d89ef3991fb3",
         "x": [
          "8"
         ],
         "y": [
          null
         ]
        },
        {
         "name": "天栋_延期商业项目数",
         "type": "bar",
         "uid": "e870ad54-ca97-11e8-8d81-d89ef3991fb3",
         "x": [
          "8"
         ],
         "y": [
          null
         ]
        },
        {
         "name": "天栋_延期个性化项目数",
         "type": "bar",
         "uid": "e870ad55-ca97-11e8-9971-d89ef3991fb3",
         "x": [
          "8"
         ],
         "y": [
          null
         ]
        },
        {
         "name": "恩惠_延期商业项目数",
         "type": "bar",
         "uid": "e870ad56-ca97-11e8-b6e8-d89ef3991fb3",
         "x": [
          "8"
         ],
         "y": [
          null
         ]
        },
        {
         "name": "恩惠_延期个性化项目数",
         "type": "bar",
         "uid": "e870ad57-ca97-11e8-a19e-d89ef3991fb3",
         "x": [
          "8"
         ],
         "y": [
          null
         ]
        },
        {
         "name": "文文_延期商业项目数",
         "type": "bar",
         "uid": "e870ad58-ca97-11e8-a046-d89ef3991fb3",
         "x": [
          "8"
         ],
         "y": [
          null
         ]
        },
        {
         "name": "文文_延期个性化项目数",
         "type": "bar",
         "uid": "e870ad59-ca97-11e8-bb93-d89ef3991fb3",
         "x": [
          "8"
         ],
         "y": [
          null
         ]
        },
        {
         "name": "林文文_延期商业项目数",
         "type": "bar",
         "uid": "e870ad5a-ca97-11e8-bcc4-d89ef3991fb3",
         "x": [
          "8",
          "9"
         ],
         "y": [
          null,
          1
         ]
        },
        {
         "name": "林文文_延期个性化项目数",
         "type": "bar",
         "uid": "e870ad5b-ca97-11e8-9eb4-d89ef3991fb3",
         "x": [
          "8",
          "9"
         ],
         "y": [
          null,
          0
         ]
        },
        {
         "name": "沈恩惠_延期商业项目数",
         "type": "bar",
         "uid": "e870ad5c-ca97-11e8-81b1-d89ef3991fb3",
         "x": [
          "8",
          "9"
         ],
         "y": [
          null,
          1
         ]
        },
        {
         "name": "沈恩惠_延期个性化项目数",
         "type": "bar",
         "uid": "e870ad5d-ca97-11e8-889e-d89ef3991fb3",
         "x": [
          "8",
          "9"
         ],
         "y": [
          null,
          0
         ]
        },
        {
         "name": "沈立群_延期商业项目数",
         "type": "bar",
         "uid": "e870ad5e-ca97-11e8-bc5a-d89ef3991fb3",
         "x": [
          "8",
          "9"
         ],
         "y": [
          null,
          0
         ]
        },
        {
         "name": "沈立群_延期个性化项目数",
         "type": "bar",
         "uid": "e870ad5f-ca97-11e8-b49f-d89ef3991fb3",
         "x": [
          "8",
          "9"
         ],
         "y": [
          null,
          0
         ]
        },
        {
         "name": "王传文_延期商业项目数",
         "type": "bar",
         "uid": "e870ad60-ca97-11e8-b169-d89ef3991fb3",
         "x": [
          "8",
          "9"
         ],
         "y": [
          null,
          0
         ]
        },
        {
         "name": "王传文_延期个性化项目数",
         "type": "bar",
         "uid": "e870ad61-ca97-11e8-bb68-d89ef3991fb3",
         "x": [
          "8",
          "9"
         ],
         "y": [
          null,
          0
         ]
        },
        {
         "name": "立群_延期商业项目数",
         "type": "bar",
         "uid": "e870ad62-ca97-11e8-ae98-d89ef3991fb3",
         "x": [
          "8"
         ],
         "y": [
          null
         ]
        },
        {
         "name": "立群_延期个性化项目数",
         "type": "bar",
         "uid": "e870ad63-ca97-11e8-99a7-d89ef3991fb3",
         "x": [
          "8"
         ],
         "y": [
          null
         ]
        },
        {
         "name": "车天栋_延期商业项目数",
         "type": "bar",
         "uid": "e870ad64-ca97-11e8-a89c-d89ef3991fb3",
         "x": [
          "8",
          "9"
         ],
         "y": [
          null,
          0
         ]
        },
        {
         "name": "车天栋_延期个性化项目数",
         "type": "bar",
         "uid": "e870ad65-ca97-11e8-ac4d-d89ef3991fb3",
         "x": [
          "8",
          "9"
         ],
         "y": [
          null,
          0
         ]
        },
        {
         "name": "高剑_延期商业项目数",
         "type": "bar",
         "uid": "e870ad66-ca97-11e8-ab25-d89ef3991fb3",
         "x": [
          "8",
          "9"
         ],
         "y": [
          0,
          0
         ]
        },
        {
         "name": "高剑_延期个性化项目数",
         "type": "bar",
         "uid": "e870ad67-ca97-11e8-9da6-d89ef3991fb3",
         "x": [
          "8",
          "9"
         ],
         "y": [
          0,
          0
         ]
        }
       ],
       "layout": {
        "title": "延期商业项目数&延期个性化项目数月趋势图",
        "xaxis": {
         "mirror": "all",
         "nticks": 20,
         "showgrid": true,
         "showline": true,
         "title": "月",
         "zeroline": true
        },
        "yaxis": {
         "mirror": "all",
         "nticks": 20,
         "showgrid": true,
         "showline": true,
         "title": "延期商业项目数&延期个性化项目数",
         "zeroline": true
        }
       }
      },
      "text/html": [
       "<div id=\"3f81c7c4-7f3b-476c-8065-a9a808eaf437\" style=\"height: 525px; width: 100%;\" class=\"plotly-graph-div\"></div><script type=\"text/javascript\">require([\"plotly\"], function(Plotly) { window.PLOTLYENV=window.PLOTLYENV || {};window.PLOTLYENV.BASE_URL=\"https://plot.ly\";Plotly.newPlot(\"3f81c7c4-7f3b-476c-8065-a9a808eaf437\", [{\"name\": \"\\u4f20\\u6587_\\u5ef6\\u671f\\u5546\\u4e1a\\u9879\\u76ee\\u6570\", \"x\": [\"8\"], \"y\": [null], \"type\": \"bar\", \"uid\": \"e870ad52-ca97-11e8-89ef-d89ef3991fb3\"}, {\"name\": \"\\u4f20\\u6587_\\u5ef6\\u671f\\u4e2a\\u6027\\u5316\\u9879\\u76ee\\u6570\", \"x\": [\"8\"], \"y\": [null], \"type\": \"bar\", \"uid\": \"e870ad53-ca97-11e8-8bdd-d89ef3991fb3\"}, {\"name\": \"\\u5929\\u680b_\\u5ef6\\u671f\\u5546\\u4e1a\\u9879\\u76ee\\u6570\", \"x\": [\"8\"], \"y\": [null], \"type\": \"bar\", \"uid\": \"e870ad54-ca97-11e8-8d81-d89ef3991fb3\"}, {\"name\": \"\\u5929\\u680b_\\u5ef6\\u671f\\u4e2a\\u6027\\u5316\\u9879\\u76ee\\u6570\", \"x\": [\"8\"], \"y\": [null], \"type\": \"bar\", \"uid\": \"e870ad55-ca97-11e8-9971-d89ef3991fb3\"}, {\"name\": \"\\u6069\\u60e0_\\u5ef6\\u671f\\u5546\\u4e1a\\u9879\\u76ee\\u6570\", \"x\": [\"8\"], \"y\": [null], \"type\": \"bar\", \"uid\": \"e870ad56-ca97-11e8-b6e8-d89ef3991fb3\"}, {\"name\": \"\\u6069\\u60e0_\\u5ef6\\u671f\\u4e2a\\u6027\\u5316\\u9879\\u76ee\\u6570\", \"x\": [\"8\"], \"y\": [null], \"type\": \"bar\", \"uid\": \"e870ad57-ca97-11e8-a19e-d89ef3991fb3\"}, {\"name\": \"\\u6587\\u6587_\\u5ef6\\u671f\\u5546\\u4e1a\\u9879\\u76ee\\u6570\", \"x\": [\"8\"], \"y\": [null], \"type\": \"bar\", \"uid\": \"e870ad58-ca97-11e8-a046-d89ef3991fb3\"}, {\"name\": \"\\u6587\\u6587_\\u5ef6\\u671f\\u4e2a\\u6027\\u5316\\u9879\\u76ee\\u6570\", \"x\": [\"8\"], \"y\": [null], \"type\": \"bar\", \"uid\": \"e870ad59-ca97-11e8-bb93-d89ef3991fb3\"}, {\"name\": \"\\u6797\\u6587\\u6587_\\u5ef6\\u671f\\u5546\\u4e1a\\u9879\\u76ee\\u6570\", \"x\": [\"8\", \"9\"], \"y\": [null, 1.0], \"type\": \"bar\", \"uid\": \"e870ad5a-ca97-11e8-bcc4-d89ef3991fb3\"}, {\"name\": \"\\u6797\\u6587\\u6587_\\u5ef6\\u671f\\u4e2a\\u6027\\u5316\\u9879\\u76ee\\u6570\", \"x\": [\"8\", \"9\"], \"y\": [null, 0.0], \"type\": \"bar\", \"uid\": \"e870ad5b-ca97-11e8-9eb4-d89ef3991fb3\"}, {\"name\": \"\\u6c88\\u6069\\u60e0_\\u5ef6\\u671f\\u5546\\u4e1a\\u9879\\u76ee\\u6570\", \"x\": [\"8\", \"9\"], \"y\": [null, 1.0], \"type\": \"bar\", \"uid\": \"e870ad5c-ca97-11e8-81b1-d89ef3991fb3\"}, {\"name\": \"\\u6c88\\u6069\\u60e0_\\u5ef6\\u671f\\u4e2a\\u6027\\u5316\\u9879\\u76ee\\u6570\", \"x\": [\"8\", \"9\"], \"y\": [null, 0.0], \"type\": \"bar\", \"uid\": \"e870ad5d-ca97-11e8-889e-d89ef3991fb3\"}, {\"name\": \"\\u6c88\\u7acb\\u7fa4_\\u5ef6\\u671f\\u5546\\u4e1a\\u9879\\u76ee\\u6570\", \"x\": [\"8\", \"9\"], \"y\": [null, 0.0], \"type\": \"bar\", \"uid\": \"e870ad5e-ca97-11e8-bc5a-d89ef3991fb3\"}, {\"name\": \"\\u6c88\\u7acb\\u7fa4_\\u5ef6\\u671f\\u4e2a\\u6027\\u5316\\u9879\\u76ee\\u6570\", \"x\": [\"8\", \"9\"], \"y\": [null, 0.0], \"type\": \"bar\", \"uid\": \"e870ad5f-ca97-11e8-b49f-d89ef3991fb3\"}, {\"name\": \"\\u738b\\u4f20\\u6587_\\u5ef6\\u671f\\u5546\\u4e1a\\u9879\\u76ee\\u6570\", \"x\": [\"8\", \"9\"], \"y\": [null, 0.0], \"type\": \"bar\", \"uid\": \"e870ad60-ca97-11e8-b169-d89ef3991fb3\"}, {\"name\": \"\\u738b\\u4f20\\u6587_\\u5ef6\\u671f\\u4e2a\\u6027\\u5316\\u9879\\u76ee\\u6570\", \"x\": [\"8\", \"9\"], \"y\": [null, 0.0], \"type\": \"bar\", \"uid\": \"e870ad61-ca97-11e8-bb68-d89ef3991fb3\"}, {\"name\": \"\\u7acb\\u7fa4_\\u5ef6\\u671f\\u5546\\u4e1a\\u9879\\u76ee\\u6570\", \"x\": [\"8\"], \"y\": [null], \"type\": \"bar\", \"uid\": \"e870ad62-ca97-11e8-ae98-d89ef3991fb3\"}, {\"name\": \"\\u7acb\\u7fa4_\\u5ef6\\u671f\\u4e2a\\u6027\\u5316\\u9879\\u76ee\\u6570\", \"x\": [\"8\"], \"y\": [null], \"type\": \"bar\", \"uid\": \"e870ad63-ca97-11e8-99a7-d89ef3991fb3\"}, {\"name\": \"\\u8f66\\u5929\\u680b_\\u5ef6\\u671f\\u5546\\u4e1a\\u9879\\u76ee\\u6570\", \"x\": [\"8\", \"9\"], \"y\": [null, 0.0], \"type\": \"bar\", \"uid\": \"e870ad64-ca97-11e8-a89c-d89ef3991fb3\"}, {\"name\": \"\\u8f66\\u5929\\u680b_\\u5ef6\\u671f\\u4e2a\\u6027\\u5316\\u9879\\u76ee\\u6570\", \"x\": [\"8\", \"9\"], \"y\": [null, 0.0], \"type\": \"bar\", \"uid\": \"e870ad65-ca97-11e8-ac4d-d89ef3991fb3\"}, {\"name\": \"\\u9ad8\\u5251_\\u5ef6\\u671f\\u5546\\u4e1a\\u9879\\u76ee\\u6570\", \"x\": [\"8\", \"9\"], \"y\": [0.0, 0.0], \"type\": \"bar\", \"uid\": \"e870ad66-ca97-11e8-ab25-d89ef3991fb3\"}, {\"name\": \"\\u9ad8\\u5251_\\u5ef6\\u671f\\u4e2a\\u6027\\u5316\\u9879\\u76ee\\u6570\", \"x\": [\"8\", \"9\"], \"y\": [0.0, 0.0], \"type\": \"bar\", \"uid\": \"e870ad67-ca97-11e8-9da6-d89ef3991fb3\"}], {\"title\": \"\\u5ef6\\u671f\\u5546\\u4e1a\\u9879\\u76ee\\u6570&\\u5ef6\\u671f\\u4e2a\\u6027\\u5316\\u9879\\u76ee\\u6570\\u6708\\u8d8b\\u52bf\\u56fe\", \"xaxis\": {\"mirror\": \"all\", \"nticks\": 20, \"showgrid\": true, \"showline\": true, \"title\": \"\\u6708\", \"zeroline\": true}, \"yaxis\": {\"mirror\": \"all\", \"nticks\": 20, \"showgrid\": true, \"showline\": true, \"title\": \"\\u5ef6\\u671f\\u5546\\u4e1a\\u9879\\u76ee\\u6570&\\u5ef6\\u671f\\u4e2a\\u6027\\u5316\\u9879\\u76ee\\u6570\", \"zeroline\": true}}, {\"showLink\": true, \"linkText\": \"Export to plot.ly\"})});</script>"
      ],
      "text/vnd.plotly.v1+html": [
       "<div id=\"3f81c7c4-7f3b-476c-8065-a9a808eaf437\" style=\"height: 525px; width: 100%;\" class=\"plotly-graph-div\"></div><script type=\"text/javascript\">require([\"plotly\"], function(Plotly) { window.PLOTLYENV=window.PLOTLYENV || {};window.PLOTLYENV.BASE_URL=\"https://plot.ly\";Plotly.newPlot(\"3f81c7c4-7f3b-476c-8065-a9a808eaf437\", [{\"name\": \"\\u4f20\\u6587_\\u5ef6\\u671f\\u5546\\u4e1a\\u9879\\u76ee\\u6570\", \"x\": [\"8\"], \"y\": [null], \"type\": \"bar\", \"uid\": \"e870ad52-ca97-11e8-89ef-d89ef3991fb3\"}, {\"name\": \"\\u4f20\\u6587_\\u5ef6\\u671f\\u4e2a\\u6027\\u5316\\u9879\\u76ee\\u6570\", \"x\": [\"8\"], \"y\": [null], \"type\": \"bar\", \"uid\": \"e870ad53-ca97-11e8-8bdd-d89ef3991fb3\"}, {\"name\": \"\\u5929\\u680b_\\u5ef6\\u671f\\u5546\\u4e1a\\u9879\\u76ee\\u6570\", \"x\": [\"8\"], \"y\": [null], \"type\": \"bar\", \"uid\": \"e870ad54-ca97-11e8-8d81-d89ef3991fb3\"}, {\"name\": \"\\u5929\\u680b_\\u5ef6\\u671f\\u4e2a\\u6027\\u5316\\u9879\\u76ee\\u6570\", \"x\": [\"8\"], \"y\": [null], \"type\": \"bar\", \"uid\": \"e870ad55-ca97-11e8-9971-d89ef3991fb3\"}, {\"name\": \"\\u6069\\u60e0_\\u5ef6\\u671f\\u5546\\u4e1a\\u9879\\u76ee\\u6570\", \"x\": [\"8\"], \"y\": [null], \"type\": \"bar\", \"uid\": \"e870ad56-ca97-11e8-b6e8-d89ef3991fb3\"}, {\"name\": \"\\u6069\\u60e0_\\u5ef6\\u671f\\u4e2a\\u6027\\u5316\\u9879\\u76ee\\u6570\", \"x\": [\"8\"], \"y\": [null], \"type\": \"bar\", \"uid\": \"e870ad57-ca97-11e8-a19e-d89ef3991fb3\"}, {\"name\": \"\\u6587\\u6587_\\u5ef6\\u671f\\u5546\\u4e1a\\u9879\\u76ee\\u6570\", \"x\": [\"8\"], \"y\": [null], \"type\": \"bar\", \"uid\": \"e870ad58-ca97-11e8-a046-d89ef3991fb3\"}, {\"name\": \"\\u6587\\u6587_\\u5ef6\\u671f\\u4e2a\\u6027\\u5316\\u9879\\u76ee\\u6570\", \"x\": [\"8\"], \"y\": [null], \"type\": \"bar\", \"uid\": \"e870ad59-ca97-11e8-bb93-d89ef3991fb3\"}, {\"name\": \"\\u6797\\u6587\\u6587_\\u5ef6\\u671f\\u5546\\u4e1a\\u9879\\u76ee\\u6570\", \"x\": [\"8\", \"9\"], \"y\": [null, 1.0], \"type\": \"bar\", \"uid\": \"e870ad5a-ca97-11e8-bcc4-d89ef3991fb3\"}, {\"name\": \"\\u6797\\u6587\\u6587_\\u5ef6\\u671f\\u4e2a\\u6027\\u5316\\u9879\\u76ee\\u6570\", \"x\": [\"8\", \"9\"], \"y\": [null, 0.0], \"type\": \"bar\", \"uid\": \"e870ad5b-ca97-11e8-9eb4-d89ef3991fb3\"}, {\"name\": \"\\u6c88\\u6069\\u60e0_\\u5ef6\\u671f\\u5546\\u4e1a\\u9879\\u76ee\\u6570\", \"x\": [\"8\", \"9\"], \"y\": [null, 1.0], \"type\": \"bar\", \"uid\": \"e870ad5c-ca97-11e8-81b1-d89ef3991fb3\"}, {\"name\": \"\\u6c88\\u6069\\u60e0_\\u5ef6\\u671f\\u4e2a\\u6027\\u5316\\u9879\\u76ee\\u6570\", \"x\": [\"8\", \"9\"], \"y\": [null, 0.0], \"type\": \"bar\", \"uid\": \"e870ad5d-ca97-11e8-889e-d89ef3991fb3\"}, {\"name\": \"\\u6c88\\u7acb\\u7fa4_\\u5ef6\\u671f\\u5546\\u4e1a\\u9879\\u76ee\\u6570\", \"x\": [\"8\", \"9\"], \"y\": [null, 0.0], \"type\": \"bar\", \"uid\": \"e870ad5e-ca97-11e8-bc5a-d89ef3991fb3\"}, {\"name\": \"\\u6c88\\u7acb\\u7fa4_\\u5ef6\\u671f\\u4e2a\\u6027\\u5316\\u9879\\u76ee\\u6570\", \"x\": [\"8\", \"9\"], \"y\": [null, 0.0], \"type\": \"bar\", \"uid\": \"e870ad5f-ca97-11e8-b49f-d89ef3991fb3\"}, {\"name\": \"\\u738b\\u4f20\\u6587_\\u5ef6\\u671f\\u5546\\u4e1a\\u9879\\u76ee\\u6570\", \"x\": [\"8\", \"9\"], \"y\": [null, 0.0], \"type\": \"bar\", \"uid\": \"e870ad60-ca97-11e8-b169-d89ef3991fb3\"}, {\"name\": \"\\u738b\\u4f20\\u6587_\\u5ef6\\u671f\\u4e2a\\u6027\\u5316\\u9879\\u76ee\\u6570\", \"x\": [\"8\", \"9\"], \"y\": [null, 0.0], \"type\": \"bar\", \"uid\": \"e870ad61-ca97-11e8-bb68-d89ef3991fb3\"}, {\"name\": \"\\u7acb\\u7fa4_\\u5ef6\\u671f\\u5546\\u4e1a\\u9879\\u76ee\\u6570\", \"x\": [\"8\"], \"y\": [null], \"type\": \"bar\", \"uid\": \"e870ad62-ca97-11e8-ae98-d89ef3991fb3\"}, {\"name\": \"\\u7acb\\u7fa4_\\u5ef6\\u671f\\u4e2a\\u6027\\u5316\\u9879\\u76ee\\u6570\", \"x\": [\"8\"], \"y\": [null], \"type\": \"bar\", \"uid\": \"e870ad63-ca97-11e8-99a7-d89ef3991fb3\"}, {\"name\": \"\\u8f66\\u5929\\u680b_\\u5ef6\\u671f\\u5546\\u4e1a\\u9879\\u76ee\\u6570\", \"x\": [\"8\", \"9\"], \"y\": [null, 0.0], \"type\": \"bar\", \"uid\": \"e870ad64-ca97-11e8-a89c-d89ef3991fb3\"}, {\"name\": \"\\u8f66\\u5929\\u680b_\\u5ef6\\u671f\\u4e2a\\u6027\\u5316\\u9879\\u76ee\\u6570\", \"x\": [\"8\", \"9\"], \"y\": [null, 0.0], \"type\": \"bar\", \"uid\": \"e870ad65-ca97-11e8-ac4d-d89ef3991fb3\"}, {\"name\": \"\\u9ad8\\u5251_\\u5ef6\\u671f\\u5546\\u4e1a\\u9879\\u76ee\\u6570\", \"x\": [\"8\", \"9\"], \"y\": [0.0, 0.0], \"type\": \"bar\", \"uid\": \"e870ad66-ca97-11e8-ab25-d89ef3991fb3\"}, {\"name\": \"\\u9ad8\\u5251_\\u5ef6\\u671f\\u4e2a\\u6027\\u5316\\u9879\\u76ee\\u6570\", \"x\": [\"8\", \"9\"], \"y\": [0.0, 0.0], \"type\": \"bar\", \"uid\": \"e870ad67-ca97-11e8-9da6-d89ef3991fb3\"}], {\"title\": \"\\u5ef6\\u671f\\u5546\\u4e1a\\u9879\\u76ee\\u6570&\\u5ef6\\u671f\\u4e2a\\u6027\\u5316\\u9879\\u76ee\\u6570\\u6708\\u8d8b\\u52bf\\u56fe\", \"xaxis\": {\"mirror\": \"all\", \"nticks\": 20, \"showgrid\": true, \"showline\": true, \"title\": \"\\u6708\", \"zeroline\": true}, \"yaxis\": {\"mirror\": \"all\", \"nticks\": 20, \"showgrid\": true, \"showline\": true, \"title\": \"\\u5ef6\\u671f\\u5546\\u4e1a\\u9879\\u76ee\\u6570&\\u5ef6\\u671f\\u4e2a\\u6027\\u5316\\u9879\\u76ee\\u6570\", \"zeroline\": true}}, {\"showLink\": true, \"linkText\": \"Export to plot.ly\"})});</script>"
      ]
     },
     "metadata": {},
     "output_type": "display_data"
    }
   ],
   "source": [
    "data_dict = {'延期商业项目数':['延期商业项目数'], '延期个性化项目数':['延期个性化项目数']}\n",
    "myModule.plot( all_dict, data_dict, '人员' ,  'bar')"
   ]
  },
  {
   "cell_type": "markdown",
   "metadata": {},
   "source": [
    "### 反馈延期数"
   ]
  },
  {
   "cell_type": "code",
   "execution_count": 37,
   "metadata": {
    "collapsed": false,
    "scrolled": false
   },
   "outputs": [
    {
     "data": {
      "application/vnd.plotly.v1+json": {
       "data": [
        {
         "name": "沈恩惠_24h内未完成数据反馈项目数",
         "type": "bar",
         "uid": "e8e42fd0-ca97-11e8-9ae5-d89ef3991fb3",
         "x": [
          "8-1",
          "8-2",
          "8-3",
          "9-1",
          "9-2",
          "9-3",
          "9-4"
         ],
         "y": [
          0,
          0,
          0,
          0,
          0,
          0,
          0
         ]
        },
        {
         "name": "沈恩惠_反馈延期个性化数",
         "type": "bar",
         "uid": "e8e42fd1-ca97-11e8-8ede-d89ef3991fb3",
         "x": [
          "8-1",
          "8-2",
          "8-3",
          "9-1",
          "9-2",
          "9-3",
          "9-4"
         ],
         "y": [
          0,
          0,
          0,
          0,
          0,
          0,
          0
         ]
        },
        {
         "name": "林文文_24h内未完成数据反馈项目数",
         "type": "bar",
         "uid": "e8e42fd2-ca97-11e8-9bc2-d89ef3991fb3",
         "x": [
          "8-1",
          "8-2",
          "8-3",
          "9-1",
          "9-2",
          "9-3",
          "9-4"
         ],
         "y": [
          0,
          0,
          0,
          0,
          0,
          0,
          0
         ]
        },
        {
         "name": "林文文_反馈延期个性化数",
         "type": "bar",
         "uid": "e8e42fd3-ca97-11e8-afa7-d89ef3991fb3",
         "x": [
          "8-1",
          "8-2",
          "8-3",
          "9-1",
          "9-2",
          "9-3",
          "9-4"
         ],
         "y": [
          0,
          0,
          0,
          0,
          0,
          0,
          0
         ]
        },
        {
         "name": "高剑_24h内未完成数据反馈项目数",
         "type": "bar",
         "uid": "e8e42fd4-ca97-11e8-ad02-d89ef3991fb3",
         "x": [
          "8-1",
          "8-2",
          "8-3",
          "8-4",
          "9-1",
          "9-2",
          "9-3",
          "9-4"
         ],
         "y": [
          0,
          0,
          0,
          0,
          0,
          0,
          0,
          0
         ]
        },
        {
         "name": "高剑_反馈延期个性化数",
         "type": "bar",
         "uid": "e8e42fd5-ca97-11e8-800f-d89ef3991fb3",
         "x": [
          "8-1",
          "8-2",
          "8-3",
          "8-4",
          "9-1",
          "9-2",
          "9-3",
          "9-4"
         ],
         "y": [
          0,
          0,
          0,
          0,
          0,
          0,
          0,
          0
         ]
        },
        {
         "name": "车天栋_24h内未完成数据反馈项目数",
         "type": "bar",
         "uid": "e8e42fd6-ca97-11e8-bd21-d89ef3991fb3",
         "x": [
          "8-1",
          "8-2",
          "8-3",
          "9-1",
          "9-2",
          "9-3",
          "9-4"
         ],
         "y": [
          0,
          0,
          0,
          0,
          0,
          0,
          0
         ]
        },
        {
         "name": "车天栋_反馈延期个性化数",
         "type": "bar",
         "uid": "e8e42fd7-ca97-11e8-8a9b-d89ef3991fb3",
         "x": [
          "8-1",
          "8-2",
          "8-3",
          "9-1",
          "9-2",
          "9-3",
          "9-4"
         ],
         "y": [
          0,
          0,
          0,
          0,
          0,
          0,
          0
         ]
        },
        {
         "name": "王传文_24h内未完成数据反馈项目数",
         "type": "bar",
         "uid": "e8e42fd8-ca97-11e8-96a1-d89ef3991fb3",
         "x": [
          "8-1",
          "8-2",
          "8-3",
          "9-1",
          "9-2",
          "9-3",
          "9-4"
         ],
         "y": [
          0,
          0,
          0,
          0,
          0,
          0,
          0
         ]
        },
        {
         "name": "王传文_反馈延期个性化数",
         "type": "bar",
         "uid": "e8e42fd9-ca97-11e8-a8eb-d89ef3991fb3",
         "x": [
          "8-1",
          "8-2",
          "8-3",
          "9-1",
          "9-2",
          "9-3",
          "9-4"
         ],
         "y": [
          0,
          0,
          0,
          0,
          0,
          0,
          0
         ]
        },
        {
         "name": "沈立群_24h内未完成数据反馈项目数",
         "type": "bar",
         "uid": "e8e42fda-ca97-11e8-ae14-d89ef3991fb3",
         "x": [
          "8-1",
          "8-2",
          "8-3",
          "9-1",
          "9-2",
          "9-3",
          "9-4"
         ],
         "y": [
          0,
          0,
          0,
          0,
          0,
          0,
          0
         ]
        },
        {
         "name": "沈立群_反馈延期个性化数",
         "type": "bar",
         "uid": "e8e42fdb-ca97-11e8-9e35-d89ef3991fb3",
         "x": [
          "8-1",
          "8-2",
          "8-3",
          "9-1",
          "9-2",
          "9-3",
          "9-4"
         ],
         "y": [
          0,
          0,
          0,
          0,
          0,
          0,
          0
         ]
        },
        {
         "name": "传文_24h内未完成数据反馈项目数",
         "type": "bar",
         "uid": "e8e42fdc-ca97-11e8-aba2-d89ef3991fb3",
         "x": [
          "8-4"
         ],
         "y": [
          0
         ]
        },
        {
         "name": "传文_反馈延期个性化数",
         "type": "bar",
         "uid": "e8e42fdd-ca97-11e8-96a6-d89ef3991fb3",
         "x": [
          "8-4"
         ],
         "y": [
          0
         ]
        },
        {
         "name": "天栋_24h内未完成数据反馈项目数",
         "type": "bar",
         "uid": "e8e42fde-ca97-11e8-8fdb-d89ef3991fb3",
         "x": [
          "8-4"
         ],
         "y": [
          0
         ]
        },
        {
         "name": "天栋_反馈延期个性化数",
         "type": "bar",
         "uid": "e8e42fdf-ca97-11e8-8830-d89ef3991fb3",
         "x": [
          "8-4"
         ],
         "y": [
          0
         ]
        },
        {
         "name": "文文_24h内未完成数据反馈项目数",
         "type": "bar",
         "uid": "e8e42fe0-ca97-11e8-b6ba-d89ef3991fb3",
         "x": [
          "8-4"
         ],
         "y": [
          0
         ]
        },
        {
         "name": "文文_反馈延期个性化数",
         "type": "bar",
         "uid": "e8e42fe1-ca97-11e8-adee-d89ef3991fb3",
         "x": [
          "8-4"
         ],
         "y": [
          0
         ]
        },
        {
         "name": "立群_24h内未完成数据反馈项目数",
         "type": "bar",
         "uid": "e8e42fe2-ca97-11e8-8540-d89ef3991fb3",
         "x": [
          "8-4"
         ],
         "y": [
          0
         ]
        },
        {
         "name": "立群_反馈延期个性化数",
         "type": "bar",
         "uid": "e8e42fe3-ca97-11e8-92d9-d89ef3991fb3",
         "x": [
          "8-4"
         ],
         "y": [
          0
         ]
        },
        {
         "name": "恩惠_24h内未完成数据反馈项目数",
         "type": "bar",
         "uid": "e8e42fe4-ca97-11e8-b59f-d89ef3991fb3",
         "x": [
          "8-4"
         ],
         "y": [
          0
         ]
        },
        {
         "name": "恩惠_反馈延期个性化数",
         "type": "bar",
         "uid": "e8e42fe5-ca97-11e8-aadd-d89ef3991fb3",
         "x": [
          "8-4"
         ],
         "y": [
          0
         ]
        }
       ],
       "layout": {
        "title": "24h内未完成数据反馈项目数&反馈延期个性化数周趋势图",
        "xaxis": {
         "mirror": "all",
         "nticks": 20,
         "showgrid": true,
         "showline": true,
         "title": "周",
         "zeroline": true
        },
        "yaxis": {
         "mirror": "all",
         "nticks": 20,
         "showgrid": true,
         "showline": true,
         "title": "24h内未完成数据反馈项目数&反馈延期个性化数",
         "zeroline": true
        }
       }
      },
      "text/html": [
       "<div id=\"bfd4663f-3517-4eb7-ac73-5ad569e2facf\" style=\"height: 525px; width: 100%;\" class=\"plotly-graph-div\"></div><script type=\"text/javascript\">require([\"plotly\"], function(Plotly) { window.PLOTLYENV=window.PLOTLYENV || {};window.PLOTLYENV.BASE_URL=\"https://plot.ly\";Plotly.newPlot(\"bfd4663f-3517-4eb7-ac73-5ad569e2facf\", [{\"name\": \"\\u6c88\\u6069\\u60e0_24h\\u5185\\u672a\\u5b8c\\u6210\\u6570\\u636e\\u53cd\\u9988\\u9879\\u76ee\\u6570\", \"x\": [\"8-1\", \"8-2\", \"8-3\", \"9-1\", \"9-2\", \"9-3\", \"9-4\"], \"y\": [0.0, 0.0, 0.0, 0.0, 0.0, 0.0, 0.0], \"type\": \"bar\", \"uid\": \"e8e42fd0-ca97-11e8-9ae5-d89ef3991fb3\"}, {\"name\": \"\\u6c88\\u6069\\u60e0_\\u53cd\\u9988\\u5ef6\\u671f\\u4e2a\\u6027\\u5316\\u6570\", \"x\": [\"8-1\", \"8-2\", \"8-3\", \"9-1\", \"9-2\", \"9-3\", \"9-4\"], \"y\": [0.0, 0.0, 0.0, 0.0, 0.0, 0.0, 0.0], \"type\": \"bar\", \"uid\": \"e8e42fd1-ca97-11e8-8ede-d89ef3991fb3\"}, {\"name\": \"\\u6797\\u6587\\u6587_24h\\u5185\\u672a\\u5b8c\\u6210\\u6570\\u636e\\u53cd\\u9988\\u9879\\u76ee\\u6570\", \"x\": [\"8-1\", \"8-2\", \"8-3\", \"9-1\", \"9-2\", \"9-3\", \"9-4\"], \"y\": [0.0, 0.0, 0.0, 0.0, 0.0, 0.0, 0.0], \"type\": \"bar\", \"uid\": \"e8e42fd2-ca97-11e8-9bc2-d89ef3991fb3\"}, {\"name\": \"\\u6797\\u6587\\u6587_\\u53cd\\u9988\\u5ef6\\u671f\\u4e2a\\u6027\\u5316\\u6570\", \"x\": [\"8-1\", \"8-2\", \"8-3\", \"9-1\", \"9-2\", \"9-3\", \"9-4\"], \"y\": [0.0, 0.0, 0.0, 0.0, 0.0, 0.0, 0.0], \"type\": \"bar\", \"uid\": \"e8e42fd3-ca97-11e8-afa7-d89ef3991fb3\"}, {\"name\": \"\\u9ad8\\u5251_24h\\u5185\\u672a\\u5b8c\\u6210\\u6570\\u636e\\u53cd\\u9988\\u9879\\u76ee\\u6570\", \"x\": [\"8-1\", \"8-2\", \"8-3\", \"8-4\", \"9-1\", \"9-2\", \"9-3\", \"9-4\"], \"y\": [0.0, 0.0, 0.0, 0.0, 0.0, 0.0, 0.0, 0.0], \"type\": \"bar\", \"uid\": \"e8e42fd4-ca97-11e8-ad02-d89ef3991fb3\"}, {\"name\": \"\\u9ad8\\u5251_\\u53cd\\u9988\\u5ef6\\u671f\\u4e2a\\u6027\\u5316\\u6570\", \"x\": [\"8-1\", \"8-2\", \"8-3\", \"8-4\", \"9-1\", \"9-2\", \"9-3\", \"9-4\"], \"y\": [0.0, 0.0, 0.0, 0.0, 0.0, 0.0, 0.0, 0.0], \"type\": \"bar\", \"uid\": \"e8e42fd5-ca97-11e8-800f-d89ef3991fb3\"}, {\"name\": \"\\u8f66\\u5929\\u680b_24h\\u5185\\u672a\\u5b8c\\u6210\\u6570\\u636e\\u53cd\\u9988\\u9879\\u76ee\\u6570\", \"x\": [\"8-1\", \"8-2\", \"8-3\", \"9-1\", \"9-2\", \"9-3\", \"9-4\"], \"y\": [0.0, 0.0, 0.0, 0.0, 0.0, 0.0, 0.0], \"type\": \"bar\", \"uid\": \"e8e42fd6-ca97-11e8-bd21-d89ef3991fb3\"}, {\"name\": \"\\u8f66\\u5929\\u680b_\\u53cd\\u9988\\u5ef6\\u671f\\u4e2a\\u6027\\u5316\\u6570\", \"x\": [\"8-1\", \"8-2\", \"8-3\", \"9-1\", \"9-2\", \"9-3\", \"9-4\"], \"y\": [0.0, 0.0, 0.0, 0.0, 0.0, 0.0, 0.0], \"type\": \"bar\", \"uid\": \"e8e42fd7-ca97-11e8-8a9b-d89ef3991fb3\"}, {\"name\": \"\\u738b\\u4f20\\u6587_24h\\u5185\\u672a\\u5b8c\\u6210\\u6570\\u636e\\u53cd\\u9988\\u9879\\u76ee\\u6570\", \"x\": [\"8-1\", \"8-2\", \"8-3\", \"9-1\", \"9-2\", \"9-3\", \"9-4\"], \"y\": [0.0, 0.0, 0.0, 0.0, 0.0, 0.0, 0.0], \"type\": \"bar\", \"uid\": \"e8e42fd8-ca97-11e8-96a1-d89ef3991fb3\"}, {\"name\": \"\\u738b\\u4f20\\u6587_\\u53cd\\u9988\\u5ef6\\u671f\\u4e2a\\u6027\\u5316\\u6570\", \"x\": [\"8-1\", \"8-2\", \"8-3\", \"9-1\", \"9-2\", \"9-3\", \"9-4\"], \"y\": [0.0, 0.0, 0.0, 0.0, 0.0, 0.0, 0.0], \"type\": \"bar\", \"uid\": \"e8e42fd9-ca97-11e8-a8eb-d89ef3991fb3\"}, {\"name\": \"\\u6c88\\u7acb\\u7fa4_24h\\u5185\\u672a\\u5b8c\\u6210\\u6570\\u636e\\u53cd\\u9988\\u9879\\u76ee\\u6570\", \"x\": [\"8-1\", \"8-2\", \"8-3\", \"9-1\", \"9-2\", \"9-3\", \"9-4\"], \"y\": [0.0, 0.0, 0.0, 0.0, 0.0, 0.0, 0.0], \"type\": \"bar\", \"uid\": \"e8e42fda-ca97-11e8-ae14-d89ef3991fb3\"}, {\"name\": \"\\u6c88\\u7acb\\u7fa4_\\u53cd\\u9988\\u5ef6\\u671f\\u4e2a\\u6027\\u5316\\u6570\", \"x\": [\"8-1\", \"8-2\", \"8-3\", \"9-1\", \"9-2\", \"9-3\", \"9-4\"], \"y\": [0.0, 0.0, 0.0, 0.0, 0.0, 0.0, 0.0], \"type\": \"bar\", \"uid\": \"e8e42fdb-ca97-11e8-9e35-d89ef3991fb3\"}, {\"name\": \"\\u4f20\\u6587_24h\\u5185\\u672a\\u5b8c\\u6210\\u6570\\u636e\\u53cd\\u9988\\u9879\\u76ee\\u6570\", \"x\": [\"8-4\"], \"y\": [0.0], \"type\": \"bar\", \"uid\": \"e8e42fdc-ca97-11e8-aba2-d89ef3991fb3\"}, {\"name\": \"\\u4f20\\u6587_\\u53cd\\u9988\\u5ef6\\u671f\\u4e2a\\u6027\\u5316\\u6570\", \"x\": [\"8-4\"], \"y\": [0.0], \"type\": \"bar\", \"uid\": \"e8e42fdd-ca97-11e8-96a6-d89ef3991fb3\"}, {\"name\": \"\\u5929\\u680b_24h\\u5185\\u672a\\u5b8c\\u6210\\u6570\\u636e\\u53cd\\u9988\\u9879\\u76ee\\u6570\", \"x\": [\"8-4\"], \"y\": [0.0], \"type\": \"bar\", \"uid\": \"e8e42fde-ca97-11e8-8fdb-d89ef3991fb3\"}, {\"name\": \"\\u5929\\u680b_\\u53cd\\u9988\\u5ef6\\u671f\\u4e2a\\u6027\\u5316\\u6570\", \"x\": [\"8-4\"], \"y\": [0.0], \"type\": \"bar\", \"uid\": \"e8e42fdf-ca97-11e8-8830-d89ef3991fb3\"}, {\"name\": \"\\u6587\\u6587_24h\\u5185\\u672a\\u5b8c\\u6210\\u6570\\u636e\\u53cd\\u9988\\u9879\\u76ee\\u6570\", \"x\": [\"8-4\"], \"y\": [0.0], \"type\": \"bar\", \"uid\": \"e8e42fe0-ca97-11e8-b6ba-d89ef3991fb3\"}, {\"name\": \"\\u6587\\u6587_\\u53cd\\u9988\\u5ef6\\u671f\\u4e2a\\u6027\\u5316\\u6570\", \"x\": [\"8-4\"], \"y\": [0.0], \"type\": \"bar\", \"uid\": \"e8e42fe1-ca97-11e8-adee-d89ef3991fb3\"}, {\"name\": \"\\u7acb\\u7fa4_24h\\u5185\\u672a\\u5b8c\\u6210\\u6570\\u636e\\u53cd\\u9988\\u9879\\u76ee\\u6570\", \"x\": [\"8-4\"], \"y\": [0.0], \"type\": \"bar\", \"uid\": \"e8e42fe2-ca97-11e8-8540-d89ef3991fb3\"}, {\"name\": \"\\u7acb\\u7fa4_\\u53cd\\u9988\\u5ef6\\u671f\\u4e2a\\u6027\\u5316\\u6570\", \"x\": [\"8-4\"], \"y\": [0.0], \"type\": \"bar\", \"uid\": \"e8e42fe3-ca97-11e8-92d9-d89ef3991fb3\"}, {\"name\": \"\\u6069\\u60e0_24h\\u5185\\u672a\\u5b8c\\u6210\\u6570\\u636e\\u53cd\\u9988\\u9879\\u76ee\\u6570\", \"x\": [\"8-4\"], \"y\": [0.0], \"type\": \"bar\", \"uid\": \"e8e42fe4-ca97-11e8-b59f-d89ef3991fb3\"}, {\"name\": \"\\u6069\\u60e0_\\u53cd\\u9988\\u5ef6\\u671f\\u4e2a\\u6027\\u5316\\u6570\", \"x\": [\"8-4\"], \"y\": [0.0], \"type\": \"bar\", \"uid\": \"e8e42fe5-ca97-11e8-aadd-d89ef3991fb3\"}], {\"title\": \"24h\\u5185\\u672a\\u5b8c\\u6210\\u6570\\u636e\\u53cd\\u9988\\u9879\\u76ee\\u6570&\\u53cd\\u9988\\u5ef6\\u671f\\u4e2a\\u6027\\u5316\\u6570\\u5468\\u8d8b\\u52bf\\u56fe\", \"xaxis\": {\"mirror\": \"all\", \"nticks\": 20, \"showgrid\": true, \"showline\": true, \"title\": \"\\u5468\", \"zeroline\": true}, \"yaxis\": {\"mirror\": \"all\", \"nticks\": 20, \"showgrid\": true, \"showline\": true, \"title\": \"24h\\u5185\\u672a\\u5b8c\\u6210\\u6570\\u636e\\u53cd\\u9988\\u9879\\u76ee\\u6570&\\u53cd\\u9988\\u5ef6\\u671f\\u4e2a\\u6027\\u5316\\u6570\", \"zeroline\": true}}, {\"showLink\": true, \"linkText\": \"Export to plot.ly\"})});</script>"
      ],
      "text/vnd.plotly.v1+html": [
       "<div id=\"bfd4663f-3517-4eb7-ac73-5ad569e2facf\" style=\"height: 525px; width: 100%;\" class=\"plotly-graph-div\"></div><script type=\"text/javascript\">require([\"plotly\"], function(Plotly) { window.PLOTLYENV=window.PLOTLYENV || {};window.PLOTLYENV.BASE_URL=\"https://plot.ly\";Plotly.newPlot(\"bfd4663f-3517-4eb7-ac73-5ad569e2facf\", [{\"name\": \"\\u6c88\\u6069\\u60e0_24h\\u5185\\u672a\\u5b8c\\u6210\\u6570\\u636e\\u53cd\\u9988\\u9879\\u76ee\\u6570\", \"x\": [\"8-1\", \"8-2\", \"8-3\", \"9-1\", \"9-2\", \"9-3\", \"9-4\"], \"y\": [0.0, 0.0, 0.0, 0.0, 0.0, 0.0, 0.0], \"type\": \"bar\", \"uid\": \"e8e42fd0-ca97-11e8-9ae5-d89ef3991fb3\"}, {\"name\": \"\\u6c88\\u6069\\u60e0_\\u53cd\\u9988\\u5ef6\\u671f\\u4e2a\\u6027\\u5316\\u6570\", \"x\": [\"8-1\", \"8-2\", \"8-3\", \"9-1\", \"9-2\", \"9-3\", \"9-4\"], \"y\": [0.0, 0.0, 0.0, 0.0, 0.0, 0.0, 0.0], \"type\": \"bar\", \"uid\": \"e8e42fd1-ca97-11e8-8ede-d89ef3991fb3\"}, {\"name\": \"\\u6797\\u6587\\u6587_24h\\u5185\\u672a\\u5b8c\\u6210\\u6570\\u636e\\u53cd\\u9988\\u9879\\u76ee\\u6570\", \"x\": [\"8-1\", \"8-2\", \"8-3\", \"9-1\", \"9-2\", \"9-3\", \"9-4\"], \"y\": [0.0, 0.0, 0.0, 0.0, 0.0, 0.0, 0.0], \"type\": \"bar\", \"uid\": \"e8e42fd2-ca97-11e8-9bc2-d89ef3991fb3\"}, {\"name\": \"\\u6797\\u6587\\u6587_\\u53cd\\u9988\\u5ef6\\u671f\\u4e2a\\u6027\\u5316\\u6570\", \"x\": [\"8-1\", \"8-2\", \"8-3\", \"9-1\", \"9-2\", \"9-3\", \"9-4\"], \"y\": [0.0, 0.0, 0.0, 0.0, 0.0, 0.0, 0.0], \"type\": \"bar\", \"uid\": \"e8e42fd3-ca97-11e8-afa7-d89ef3991fb3\"}, {\"name\": \"\\u9ad8\\u5251_24h\\u5185\\u672a\\u5b8c\\u6210\\u6570\\u636e\\u53cd\\u9988\\u9879\\u76ee\\u6570\", \"x\": [\"8-1\", \"8-2\", \"8-3\", \"8-4\", \"9-1\", \"9-2\", \"9-3\", \"9-4\"], \"y\": [0.0, 0.0, 0.0, 0.0, 0.0, 0.0, 0.0, 0.0], \"type\": \"bar\", \"uid\": \"e8e42fd4-ca97-11e8-ad02-d89ef3991fb3\"}, {\"name\": \"\\u9ad8\\u5251_\\u53cd\\u9988\\u5ef6\\u671f\\u4e2a\\u6027\\u5316\\u6570\", \"x\": [\"8-1\", \"8-2\", \"8-3\", \"8-4\", \"9-1\", \"9-2\", \"9-3\", \"9-4\"], \"y\": [0.0, 0.0, 0.0, 0.0, 0.0, 0.0, 0.0, 0.0], \"type\": \"bar\", \"uid\": \"e8e42fd5-ca97-11e8-800f-d89ef3991fb3\"}, {\"name\": \"\\u8f66\\u5929\\u680b_24h\\u5185\\u672a\\u5b8c\\u6210\\u6570\\u636e\\u53cd\\u9988\\u9879\\u76ee\\u6570\", \"x\": [\"8-1\", \"8-2\", \"8-3\", \"9-1\", \"9-2\", \"9-3\", \"9-4\"], \"y\": [0.0, 0.0, 0.0, 0.0, 0.0, 0.0, 0.0], \"type\": \"bar\", \"uid\": \"e8e42fd6-ca97-11e8-bd21-d89ef3991fb3\"}, {\"name\": \"\\u8f66\\u5929\\u680b_\\u53cd\\u9988\\u5ef6\\u671f\\u4e2a\\u6027\\u5316\\u6570\", \"x\": [\"8-1\", \"8-2\", \"8-3\", \"9-1\", \"9-2\", \"9-3\", \"9-4\"], \"y\": [0.0, 0.0, 0.0, 0.0, 0.0, 0.0, 0.0], \"type\": \"bar\", \"uid\": \"e8e42fd7-ca97-11e8-8a9b-d89ef3991fb3\"}, {\"name\": \"\\u738b\\u4f20\\u6587_24h\\u5185\\u672a\\u5b8c\\u6210\\u6570\\u636e\\u53cd\\u9988\\u9879\\u76ee\\u6570\", \"x\": [\"8-1\", \"8-2\", \"8-3\", \"9-1\", \"9-2\", \"9-3\", \"9-4\"], \"y\": [0.0, 0.0, 0.0, 0.0, 0.0, 0.0, 0.0], \"type\": \"bar\", \"uid\": \"e8e42fd8-ca97-11e8-96a1-d89ef3991fb3\"}, {\"name\": \"\\u738b\\u4f20\\u6587_\\u53cd\\u9988\\u5ef6\\u671f\\u4e2a\\u6027\\u5316\\u6570\", \"x\": [\"8-1\", \"8-2\", \"8-3\", \"9-1\", \"9-2\", \"9-3\", \"9-4\"], \"y\": [0.0, 0.0, 0.0, 0.0, 0.0, 0.0, 0.0], \"type\": \"bar\", \"uid\": \"e8e42fd9-ca97-11e8-a8eb-d89ef3991fb3\"}, {\"name\": \"\\u6c88\\u7acb\\u7fa4_24h\\u5185\\u672a\\u5b8c\\u6210\\u6570\\u636e\\u53cd\\u9988\\u9879\\u76ee\\u6570\", \"x\": [\"8-1\", \"8-2\", \"8-3\", \"9-1\", \"9-2\", \"9-3\", \"9-4\"], \"y\": [0.0, 0.0, 0.0, 0.0, 0.0, 0.0, 0.0], \"type\": \"bar\", \"uid\": \"e8e42fda-ca97-11e8-ae14-d89ef3991fb3\"}, {\"name\": \"\\u6c88\\u7acb\\u7fa4_\\u53cd\\u9988\\u5ef6\\u671f\\u4e2a\\u6027\\u5316\\u6570\", \"x\": [\"8-1\", \"8-2\", \"8-3\", \"9-1\", \"9-2\", \"9-3\", \"9-4\"], \"y\": [0.0, 0.0, 0.0, 0.0, 0.0, 0.0, 0.0], \"type\": \"bar\", \"uid\": \"e8e42fdb-ca97-11e8-9e35-d89ef3991fb3\"}, {\"name\": \"\\u4f20\\u6587_24h\\u5185\\u672a\\u5b8c\\u6210\\u6570\\u636e\\u53cd\\u9988\\u9879\\u76ee\\u6570\", \"x\": [\"8-4\"], \"y\": [0.0], \"type\": \"bar\", \"uid\": \"e8e42fdc-ca97-11e8-aba2-d89ef3991fb3\"}, {\"name\": \"\\u4f20\\u6587_\\u53cd\\u9988\\u5ef6\\u671f\\u4e2a\\u6027\\u5316\\u6570\", \"x\": [\"8-4\"], \"y\": [0.0], \"type\": \"bar\", \"uid\": \"e8e42fdd-ca97-11e8-96a6-d89ef3991fb3\"}, {\"name\": \"\\u5929\\u680b_24h\\u5185\\u672a\\u5b8c\\u6210\\u6570\\u636e\\u53cd\\u9988\\u9879\\u76ee\\u6570\", \"x\": [\"8-4\"], \"y\": [0.0], \"type\": \"bar\", \"uid\": \"e8e42fde-ca97-11e8-8fdb-d89ef3991fb3\"}, {\"name\": \"\\u5929\\u680b_\\u53cd\\u9988\\u5ef6\\u671f\\u4e2a\\u6027\\u5316\\u6570\", \"x\": [\"8-4\"], \"y\": [0.0], \"type\": \"bar\", \"uid\": \"e8e42fdf-ca97-11e8-8830-d89ef3991fb3\"}, {\"name\": \"\\u6587\\u6587_24h\\u5185\\u672a\\u5b8c\\u6210\\u6570\\u636e\\u53cd\\u9988\\u9879\\u76ee\\u6570\", \"x\": [\"8-4\"], \"y\": [0.0], \"type\": \"bar\", \"uid\": \"e8e42fe0-ca97-11e8-b6ba-d89ef3991fb3\"}, {\"name\": \"\\u6587\\u6587_\\u53cd\\u9988\\u5ef6\\u671f\\u4e2a\\u6027\\u5316\\u6570\", \"x\": [\"8-4\"], \"y\": [0.0], \"type\": \"bar\", \"uid\": \"e8e42fe1-ca97-11e8-adee-d89ef3991fb3\"}, {\"name\": \"\\u7acb\\u7fa4_24h\\u5185\\u672a\\u5b8c\\u6210\\u6570\\u636e\\u53cd\\u9988\\u9879\\u76ee\\u6570\", \"x\": [\"8-4\"], \"y\": [0.0], \"type\": \"bar\", \"uid\": \"e8e42fe2-ca97-11e8-8540-d89ef3991fb3\"}, {\"name\": \"\\u7acb\\u7fa4_\\u53cd\\u9988\\u5ef6\\u671f\\u4e2a\\u6027\\u5316\\u6570\", \"x\": [\"8-4\"], \"y\": [0.0], \"type\": \"bar\", \"uid\": \"e8e42fe3-ca97-11e8-92d9-d89ef3991fb3\"}, {\"name\": \"\\u6069\\u60e0_24h\\u5185\\u672a\\u5b8c\\u6210\\u6570\\u636e\\u53cd\\u9988\\u9879\\u76ee\\u6570\", \"x\": [\"8-4\"], \"y\": [0.0], \"type\": \"bar\", \"uid\": \"e8e42fe4-ca97-11e8-b59f-d89ef3991fb3\"}, {\"name\": \"\\u6069\\u60e0_\\u53cd\\u9988\\u5ef6\\u671f\\u4e2a\\u6027\\u5316\\u6570\", \"x\": [\"8-4\"], \"y\": [0.0], \"type\": \"bar\", \"uid\": \"e8e42fe5-ca97-11e8-aadd-d89ef3991fb3\"}], {\"title\": \"24h\\u5185\\u672a\\u5b8c\\u6210\\u6570\\u636e\\u53cd\\u9988\\u9879\\u76ee\\u6570&\\u53cd\\u9988\\u5ef6\\u671f\\u4e2a\\u6027\\u5316\\u6570\\u5468\\u8d8b\\u52bf\\u56fe\", \"xaxis\": {\"mirror\": \"all\", \"nticks\": 20, \"showgrid\": true, \"showline\": true, \"title\": \"\\u5468\", \"zeroline\": true}, \"yaxis\": {\"mirror\": \"all\", \"nticks\": 20, \"showgrid\": true, \"showline\": true, \"title\": \"24h\\u5185\\u672a\\u5b8c\\u6210\\u6570\\u636e\\u53cd\\u9988\\u9879\\u76ee\\u6570&\\u53cd\\u9988\\u5ef6\\u671f\\u4e2a\\u6027\\u5316\\u6570\", \"zeroline\": true}}, {\"showLink\": true, \"linkText\": \"Export to plot.ly\"})});</script>"
      ]
     },
     "metadata": {},
     "output_type": "display_data"
    },
    {
     "data": {
      "application/vnd.plotly.v1+json": {
       "data": [
        {
         "name": "传文_24h内未完成数据反馈项目数",
         "type": "bar",
         "uid": "e916b5fe-ca97-11e8-85b5-d89ef3991fb3",
         "x": [
          "8"
         ],
         "y": [
          null
         ]
        },
        {
         "name": "传文_反馈延期个性化数",
         "type": "bar",
         "uid": "e916b5ff-ca97-11e8-829d-d89ef3991fb3",
         "x": [
          "8"
         ],
         "y": [
          null
         ]
        },
        {
         "name": "天栋_24h内未完成数据反馈项目数",
         "type": "bar",
         "uid": "e916b600-ca97-11e8-87ab-d89ef3991fb3",
         "x": [
          "8"
         ],
         "y": [
          null
         ]
        },
        {
         "name": "天栋_反馈延期个性化数",
         "type": "bar",
         "uid": "e916dcfa-ca97-11e8-981a-d89ef3991fb3",
         "x": [
          "8"
         ],
         "y": [
          null
         ]
        },
        {
         "name": "恩惠_24h内未完成数据反馈项目数",
         "type": "bar",
         "uid": "e916dcfb-ca97-11e8-a952-d89ef3991fb3",
         "x": [
          "8"
         ],
         "y": [
          null
         ]
        },
        {
         "name": "恩惠_反馈延期个性化数",
         "type": "bar",
         "uid": "e916dcfc-ca97-11e8-9ba5-d89ef3991fb3",
         "x": [
          "8"
         ],
         "y": [
          null
         ]
        },
        {
         "name": "文文_24h内未完成数据反馈项目数",
         "type": "bar",
         "uid": "e916dcfd-ca97-11e8-b515-d89ef3991fb3",
         "x": [
          "8"
         ],
         "y": [
          null
         ]
        },
        {
         "name": "文文_反馈延期个性化数",
         "type": "bar",
         "uid": "e916dcfe-ca97-11e8-aff9-d89ef3991fb3",
         "x": [
          "8"
         ],
         "y": [
          null
         ]
        },
        {
         "name": "林文文_24h内未完成数据反馈项目数",
         "type": "bar",
         "uid": "e916dcff-ca97-11e8-abe3-d89ef3991fb3",
         "x": [
          "8",
          "9"
         ],
         "y": [
          null,
          0
         ]
        },
        {
         "name": "林文文_反馈延期个性化数",
         "type": "bar",
         "uid": "e916dd00-ca97-11e8-978b-d89ef3991fb3",
         "x": [
          "8",
          "9"
         ],
         "y": [
          null,
          0
         ]
        },
        {
         "name": "沈恩惠_24h内未完成数据反馈项目数",
         "type": "bar",
         "uid": "e916dd01-ca97-11e8-b220-d89ef3991fb3",
         "x": [
          "8",
          "9"
         ],
         "y": [
          null,
          0
         ]
        },
        {
         "name": "沈恩惠_反馈延期个性化数",
         "type": "bar",
         "uid": "e916dd02-ca97-11e8-8769-d89ef3991fb3",
         "x": [
          "8",
          "9"
         ],
         "y": [
          null,
          0
         ]
        },
        {
         "name": "沈立群_24h内未完成数据反馈项目数",
         "type": "bar",
         "uid": "e916dd03-ca97-11e8-8558-d89ef3991fb3",
         "x": [
          "8",
          "9"
         ],
         "y": [
          null,
          0
         ]
        },
        {
         "name": "沈立群_反馈延期个性化数",
         "type": "bar",
         "uid": "e916dd04-ca97-11e8-9d76-d89ef3991fb3",
         "x": [
          "8",
          "9"
         ],
         "y": [
          null,
          0
         ]
        },
        {
         "name": "王传文_24h内未完成数据反馈项目数",
         "type": "bar",
         "uid": "e916dd05-ca97-11e8-a61d-d89ef3991fb3",
         "x": [
          "8",
          "9"
         ],
         "y": [
          null,
          0
         ]
        },
        {
         "name": "王传文_反馈延期个性化数",
         "type": "bar",
         "uid": "e916dd06-ca97-11e8-9c26-d89ef3991fb3",
         "x": [
          "8",
          "9"
         ],
         "y": [
          null,
          0
         ]
        },
        {
         "name": "立群_24h内未完成数据反馈项目数",
         "type": "bar",
         "uid": "e916dd07-ca97-11e8-9c7a-d89ef3991fb3",
         "x": [
          "8"
         ],
         "y": [
          null
         ]
        },
        {
         "name": "立群_反馈延期个性化数",
         "type": "bar",
         "uid": "e916dd08-ca97-11e8-a7e5-d89ef3991fb3",
         "x": [
          "8"
         ],
         "y": [
          null
         ]
        },
        {
         "name": "车天栋_24h内未完成数据反馈项目数",
         "type": "bar",
         "uid": "e916dd09-ca97-11e8-a26d-d89ef3991fb3",
         "x": [
          "8",
          "9"
         ],
         "y": [
          null,
          0
         ]
        },
        {
         "name": "车天栋_反馈延期个性化数",
         "type": "bar",
         "uid": "e916dd0a-ca97-11e8-a213-d89ef3991fb3",
         "x": [
          "8",
          "9"
         ],
         "y": [
          null,
          0
         ]
        },
        {
         "name": "高剑_24h内未完成数据反馈项目数",
         "type": "bar",
         "uid": "e916dd0b-ca97-11e8-b393-d89ef3991fb3",
         "x": [
          "8",
          "9"
         ],
         "y": [
          0,
          0
         ]
        },
        {
         "name": "高剑_反馈延期个性化数",
         "type": "bar",
         "uid": "e916dd0c-ca97-11e8-b6ce-d89ef3991fb3",
         "x": [
          "8",
          "9"
         ],
         "y": [
          0,
          0
         ]
        }
       ],
       "layout": {
        "title": "24h内未完成数据反馈项目数&反馈延期个性化数月趋势图",
        "xaxis": {
         "mirror": "all",
         "nticks": 20,
         "showgrid": true,
         "showline": true,
         "title": "月",
         "zeroline": true
        },
        "yaxis": {
         "mirror": "all",
         "nticks": 20,
         "showgrid": true,
         "showline": true,
         "title": "24h内未完成数据反馈项目数&反馈延期个性化数",
         "zeroline": true
        }
       }
      },
      "text/html": [
       "<div id=\"43200c5e-dff9-470c-bae6-187ab6d9e85e\" style=\"height: 525px; width: 100%;\" class=\"plotly-graph-div\"></div><script type=\"text/javascript\">require([\"plotly\"], function(Plotly) { window.PLOTLYENV=window.PLOTLYENV || {};window.PLOTLYENV.BASE_URL=\"https://plot.ly\";Plotly.newPlot(\"43200c5e-dff9-470c-bae6-187ab6d9e85e\", [{\"name\": \"\\u4f20\\u6587_24h\\u5185\\u672a\\u5b8c\\u6210\\u6570\\u636e\\u53cd\\u9988\\u9879\\u76ee\\u6570\", \"x\": [\"8\"], \"y\": [null], \"type\": \"bar\", \"uid\": \"e916b5fe-ca97-11e8-85b5-d89ef3991fb3\"}, {\"name\": \"\\u4f20\\u6587_\\u53cd\\u9988\\u5ef6\\u671f\\u4e2a\\u6027\\u5316\\u6570\", \"x\": [\"8\"], \"y\": [null], \"type\": \"bar\", \"uid\": \"e916b5ff-ca97-11e8-829d-d89ef3991fb3\"}, {\"name\": \"\\u5929\\u680b_24h\\u5185\\u672a\\u5b8c\\u6210\\u6570\\u636e\\u53cd\\u9988\\u9879\\u76ee\\u6570\", \"x\": [\"8\"], \"y\": [null], \"type\": \"bar\", \"uid\": \"e916b600-ca97-11e8-87ab-d89ef3991fb3\"}, {\"name\": \"\\u5929\\u680b_\\u53cd\\u9988\\u5ef6\\u671f\\u4e2a\\u6027\\u5316\\u6570\", \"x\": [\"8\"], \"y\": [null], \"type\": \"bar\", \"uid\": \"e916dcfa-ca97-11e8-981a-d89ef3991fb3\"}, {\"name\": \"\\u6069\\u60e0_24h\\u5185\\u672a\\u5b8c\\u6210\\u6570\\u636e\\u53cd\\u9988\\u9879\\u76ee\\u6570\", \"x\": [\"8\"], \"y\": [null], \"type\": \"bar\", \"uid\": \"e916dcfb-ca97-11e8-a952-d89ef3991fb3\"}, {\"name\": \"\\u6069\\u60e0_\\u53cd\\u9988\\u5ef6\\u671f\\u4e2a\\u6027\\u5316\\u6570\", \"x\": [\"8\"], \"y\": [null], \"type\": \"bar\", \"uid\": \"e916dcfc-ca97-11e8-9ba5-d89ef3991fb3\"}, {\"name\": \"\\u6587\\u6587_24h\\u5185\\u672a\\u5b8c\\u6210\\u6570\\u636e\\u53cd\\u9988\\u9879\\u76ee\\u6570\", \"x\": [\"8\"], \"y\": [null], \"type\": \"bar\", \"uid\": \"e916dcfd-ca97-11e8-b515-d89ef3991fb3\"}, {\"name\": \"\\u6587\\u6587_\\u53cd\\u9988\\u5ef6\\u671f\\u4e2a\\u6027\\u5316\\u6570\", \"x\": [\"8\"], \"y\": [null], \"type\": \"bar\", \"uid\": \"e916dcfe-ca97-11e8-aff9-d89ef3991fb3\"}, {\"name\": \"\\u6797\\u6587\\u6587_24h\\u5185\\u672a\\u5b8c\\u6210\\u6570\\u636e\\u53cd\\u9988\\u9879\\u76ee\\u6570\", \"x\": [\"8\", \"9\"], \"y\": [null, 0.0], \"type\": \"bar\", \"uid\": \"e916dcff-ca97-11e8-abe3-d89ef3991fb3\"}, {\"name\": \"\\u6797\\u6587\\u6587_\\u53cd\\u9988\\u5ef6\\u671f\\u4e2a\\u6027\\u5316\\u6570\", \"x\": [\"8\", \"9\"], \"y\": [null, 0.0], \"type\": \"bar\", \"uid\": \"e916dd00-ca97-11e8-978b-d89ef3991fb3\"}, {\"name\": \"\\u6c88\\u6069\\u60e0_24h\\u5185\\u672a\\u5b8c\\u6210\\u6570\\u636e\\u53cd\\u9988\\u9879\\u76ee\\u6570\", \"x\": [\"8\", \"9\"], \"y\": [null, 0.0], \"type\": \"bar\", \"uid\": \"e916dd01-ca97-11e8-b220-d89ef3991fb3\"}, {\"name\": \"\\u6c88\\u6069\\u60e0_\\u53cd\\u9988\\u5ef6\\u671f\\u4e2a\\u6027\\u5316\\u6570\", \"x\": [\"8\", \"9\"], \"y\": [null, 0.0], \"type\": \"bar\", \"uid\": \"e916dd02-ca97-11e8-8769-d89ef3991fb3\"}, {\"name\": \"\\u6c88\\u7acb\\u7fa4_24h\\u5185\\u672a\\u5b8c\\u6210\\u6570\\u636e\\u53cd\\u9988\\u9879\\u76ee\\u6570\", \"x\": [\"8\", \"9\"], \"y\": [null, 0.0], \"type\": \"bar\", \"uid\": \"e916dd03-ca97-11e8-8558-d89ef3991fb3\"}, {\"name\": \"\\u6c88\\u7acb\\u7fa4_\\u53cd\\u9988\\u5ef6\\u671f\\u4e2a\\u6027\\u5316\\u6570\", \"x\": [\"8\", \"9\"], \"y\": [null, 0.0], \"type\": \"bar\", \"uid\": \"e916dd04-ca97-11e8-9d76-d89ef3991fb3\"}, {\"name\": \"\\u738b\\u4f20\\u6587_24h\\u5185\\u672a\\u5b8c\\u6210\\u6570\\u636e\\u53cd\\u9988\\u9879\\u76ee\\u6570\", \"x\": [\"8\", \"9\"], \"y\": [null, 0.0], \"type\": \"bar\", \"uid\": \"e916dd05-ca97-11e8-a61d-d89ef3991fb3\"}, {\"name\": \"\\u738b\\u4f20\\u6587_\\u53cd\\u9988\\u5ef6\\u671f\\u4e2a\\u6027\\u5316\\u6570\", \"x\": [\"8\", \"9\"], \"y\": [null, 0.0], \"type\": \"bar\", \"uid\": \"e916dd06-ca97-11e8-9c26-d89ef3991fb3\"}, {\"name\": \"\\u7acb\\u7fa4_24h\\u5185\\u672a\\u5b8c\\u6210\\u6570\\u636e\\u53cd\\u9988\\u9879\\u76ee\\u6570\", \"x\": [\"8\"], \"y\": [null], \"type\": \"bar\", \"uid\": \"e916dd07-ca97-11e8-9c7a-d89ef3991fb3\"}, {\"name\": \"\\u7acb\\u7fa4_\\u53cd\\u9988\\u5ef6\\u671f\\u4e2a\\u6027\\u5316\\u6570\", \"x\": [\"8\"], \"y\": [null], \"type\": \"bar\", \"uid\": \"e916dd08-ca97-11e8-a7e5-d89ef3991fb3\"}, {\"name\": \"\\u8f66\\u5929\\u680b_24h\\u5185\\u672a\\u5b8c\\u6210\\u6570\\u636e\\u53cd\\u9988\\u9879\\u76ee\\u6570\", \"x\": [\"8\", \"9\"], \"y\": [null, 0.0], \"type\": \"bar\", \"uid\": \"e916dd09-ca97-11e8-a26d-d89ef3991fb3\"}, {\"name\": \"\\u8f66\\u5929\\u680b_\\u53cd\\u9988\\u5ef6\\u671f\\u4e2a\\u6027\\u5316\\u6570\", \"x\": [\"8\", \"9\"], \"y\": [null, 0.0], \"type\": \"bar\", \"uid\": \"e916dd0a-ca97-11e8-a213-d89ef3991fb3\"}, {\"name\": \"\\u9ad8\\u5251_24h\\u5185\\u672a\\u5b8c\\u6210\\u6570\\u636e\\u53cd\\u9988\\u9879\\u76ee\\u6570\", \"x\": [\"8\", \"9\"], \"y\": [0.0, 0.0], \"type\": \"bar\", \"uid\": \"e916dd0b-ca97-11e8-b393-d89ef3991fb3\"}, {\"name\": \"\\u9ad8\\u5251_\\u53cd\\u9988\\u5ef6\\u671f\\u4e2a\\u6027\\u5316\\u6570\", \"x\": [\"8\", \"9\"], \"y\": [0.0, 0.0], \"type\": \"bar\", \"uid\": \"e916dd0c-ca97-11e8-b6ce-d89ef3991fb3\"}], {\"title\": \"24h\\u5185\\u672a\\u5b8c\\u6210\\u6570\\u636e\\u53cd\\u9988\\u9879\\u76ee\\u6570&\\u53cd\\u9988\\u5ef6\\u671f\\u4e2a\\u6027\\u5316\\u6570\\u6708\\u8d8b\\u52bf\\u56fe\", \"xaxis\": {\"mirror\": \"all\", \"nticks\": 20, \"showgrid\": true, \"showline\": true, \"title\": \"\\u6708\", \"zeroline\": true}, \"yaxis\": {\"mirror\": \"all\", \"nticks\": 20, \"showgrid\": true, \"showline\": true, \"title\": \"24h\\u5185\\u672a\\u5b8c\\u6210\\u6570\\u636e\\u53cd\\u9988\\u9879\\u76ee\\u6570&\\u53cd\\u9988\\u5ef6\\u671f\\u4e2a\\u6027\\u5316\\u6570\", \"zeroline\": true}}, {\"showLink\": true, \"linkText\": \"Export to plot.ly\"})});</script>"
      ],
      "text/vnd.plotly.v1+html": [
       "<div id=\"43200c5e-dff9-470c-bae6-187ab6d9e85e\" style=\"height: 525px; width: 100%;\" class=\"plotly-graph-div\"></div><script type=\"text/javascript\">require([\"plotly\"], function(Plotly) { window.PLOTLYENV=window.PLOTLYENV || {};window.PLOTLYENV.BASE_URL=\"https://plot.ly\";Plotly.newPlot(\"43200c5e-dff9-470c-bae6-187ab6d9e85e\", [{\"name\": \"\\u4f20\\u6587_24h\\u5185\\u672a\\u5b8c\\u6210\\u6570\\u636e\\u53cd\\u9988\\u9879\\u76ee\\u6570\", \"x\": [\"8\"], \"y\": [null], \"type\": \"bar\", \"uid\": \"e916b5fe-ca97-11e8-85b5-d89ef3991fb3\"}, {\"name\": \"\\u4f20\\u6587_\\u53cd\\u9988\\u5ef6\\u671f\\u4e2a\\u6027\\u5316\\u6570\", \"x\": [\"8\"], \"y\": [null], \"type\": \"bar\", \"uid\": \"e916b5ff-ca97-11e8-829d-d89ef3991fb3\"}, {\"name\": \"\\u5929\\u680b_24h\\u5185\\u672a\\u5b8c\\u6210\\u6570\\u636e\\u53cd\\u9988\\u9879\\u76ee\\u6570\", \"x\": [\"8\"], \"y\": [null], \"type\": \"bar\", \"uid\": \"e916b600-ca97-11e8-87ab-d89ef3991fb3\"}, {\"name\": \"\\u5929\\u680b_\\u53cd\\u9988\\u5ef6\\u671f\\u4e2a\\u6027\\u5316\\u6570\", \"x\": [\"8\"], \"y\": [null], \"type\": \"bar\", \"uid\": \"e916dcfa-ca97-11e8-981a-d89ef3991fb3\"}, {\"name\": \"\\u6069\\u60e0_24h\\u5185\\u672a\\u5b8c\\u6210\\u6570\\u636e\\u53cd\\u9988\\u9879\\u76ee\\u6570\", \"x\": [\"8\"], \"y\": [null], \"type\": \"bar\", \"uid\": \"e916dcfb-ca97-11e8-a952-d89ef3991fb3\"}, {\"name\": \"\\u6069\\u60e0_\\u53cd\\u9988\\u5ef6\\u671f\\u4e2a\\u6027\\u5316\\u6570\", \"x\": [\"8\"], \"y\": [null], \"type\": \"bar\", \"uid\": \"e916dcfc-ca97-11e8-9ba5-d89ef3991fb3\"}, {\"name\": \"\\u6587\\u6587_24h\\u5185\\u672a\\u5b8c\\u6210\\u6570\\u636e\\u53cd\\u9988\\u9879\\u76ee\\u6570\", \"x\": [\"8\"], \"y\": [null], \"type\": \"bar\", \"uid\": \"e916dcfd-ca97-11e8-b515-d89ef3991fb3\"}, {\"name\": \"\\u6587\\u6587_\\u53cd\\u9988\\u5ef6\\u671f\\u4e2a\\u6027\\u5316\\u6570\", \"x\": [\"8\"], \"y\": [null], \"type\": \"bar\", \"uid\": \"e916dcfe-ca97-11e8-aff9-d89ef3991fb3\"}, {\"name\": \"\\u6797\\u6587\\u6587_24h\\u5185\\u672a\\u5b8c\\u6210\\u6570\\u636e\\u53cd\\u9988\\u9879\\u76ee\\u6570\", \"x\": [\"8\", \"9\"], \"y\": [null, 0.0], \"type\": \"bar\", \"uid\": \"e916dcff-ca97-11e8-abe3-d89ef3991fb3\"}, {\"name\": \"\\u6797\\u6587\\u6587_\\u53cd\\u9988\\u5ef6\\u671f\\u4e2a\\u6027\\u5316\\u6570\", \"x\": [\"8\", \"9\"], \"y\": [null, 0.0], \"type\": \"bar\", \"uid\": \"e916dd00-ca97-11e8-978b-d89ef3991fb3\"}, {\"name\": \"\\u6c88\\u6069\\u60e0_24h\\u5185\\u672a\\u5b8c\\u6210\\u6570\\u636e\\u53cd\\u9988\\u9879\\u76ee\\u6570\", \"x\": [\"8\", \"9\"], \"y\": [null, 0.0], \"type\": \"bar\", \"uid\": \"e916dd01-ca97-11e8-b220-d89ef3991fb3\"}, {\"name\": \"\\u6c88\\u6069\\u60e0_\\u53cd\\u9988\\u5ef6\\u671f\\u4e2a\\u6027\\u5316\\u6570\", \"x\": [\"8\", \"9\"], \"y\": [null, 0.0], \"type\": \"bar\", \"uid\": \"e916dd02-ca97-11e8-8769-d89ef3991fb3\"}, {\"name\": \"\\u6c88\\u7acb\\u7fa4_24h\\u5185\\u672a\\u5b8c\\u6210\\u6570\\u636e\\u53cd\\u9988\\u9879\\u76ee\\u6570\", \"x\": [\"8\", \"9\"], \"y\": [null, 0.0], \"type\": \"bar\", \"uid\": \"e916dd03-ca97-11e8-8558-d89ef3991fb3\"}, {\"name\": \"\\u6c88\\u7acb\\u7fa4_\\u53cd\\u9988\\u5ef6\\u671f\\u4e2a\\u6027\\u5316\\u6570\", \"x\": [\"8\", \"9\"], \"y\": [null, 0.0], \"type\": \"bar\", \"uid\": \"e916dd04-ca97-11e8-9d76-d89ef3991fb3\"}, {\"name\": \"\\u738b\\u4f20\\u6587_24h\\u5185\\u672a\\u5b8c\\u6210\\u6570\\u636e\\u53cd\\u9988\\u9879\\u76ee\\u6570\", \"x\": [\"8\", \"9\"], \"y\": [null, 0.0], \"type\": \"bar\", \"uid\": \"e916dd05-ca97-11e8-a61d-d89ef3991fb3\"}, {\"name\": \"\\u738b\\u4f20\\u6587_\\u53cd\\u9988\\u5ef6\\u671f\\u4e2a\\u6027\\u5316\\u6570\", \"x\": [\"8\", \"9\"], \"y\": [null, 0.0], \"type\": \"bar\", \"uid\": \"e916dd06-ca97-11e8-9c26-d89ef3991fb3\"}, {\"name\": \"\\u7acb\\u7fa4_24h\\u5185\\u672a\\u5b8c\\u6210\\u6570\\u636e\\u53cd\\u9988\\u9879\\u76ee\\u6570\", \"x\": [\"8\"], \"y\": [null], \"type\": \"bar\", \"uid\": \"e916dd07-ca97-11e8-9c7a-d89ef3991fb3\"}, {\"name\": \"\\u7acb\\u7fa4_\\u53cd\\u9988\\u5ef6\\u671f\\u4e2a\\u6027\\u5316\\u6570\", \"x\": [\"8\"], \"y\": [null], \"type\": \"bar\", \"uid\": \"e916dd08-ca97-11e8-a7e5-d89ef3991fb3\"}, {\"name\": \"\\u8f66\\u5929\\u680b_24h\\u5185\\u672a\\u5b8c\\u6210\\u6570\\u636e\\u53cd\\u9988\\u9879\\u76ee\\u6570\", \"x\": [\"8\", \"9\"], \"y\": [null, 0.0], \"type\": \"bar\", \"uid\": \"e916dd09-ca97-11e8-a26d-d89ef3991fb3\"}, {\"name\": \"\\u8f66\\u5929\\u680b_\\u53cd\\u9988\\u5ef6\\u671f\\u4e2a\\u6027\\u5316\\u6570\", \"x\": [\"8\", \"9\"], \"y\": [null, 0.0], \"type\": \"bar\", \"uid\": \"e916dd0a-ca97-11e8-a213-d89ef3991fb3\"}, {\"name\": \"\\u9ad8\\u5251_24h\\u5185\\u672a\\u5b8c\\u6210\\u6570\\u636e\\u53cd\\u9988\\u9879\\u76ee\\u6570\", \"x\": [\"8\", \"9\"], \"y\": [0.0, 0.0], \"type\": \"bar\", \"uid\": \"e916dd0b-ca97-11e8-b393-d89ef3991fb3\"}, {\"name\": \"\\u9ad8\\u5251_\\u53cd\\u9988\\u5ef6\\u671f\\u4e2a\\u6027\\u5316\\u6570\", \"x\": [\"8\", \"9\"], \"y\": [0.0, 0.0], \"type\": \"bar\", \"uid\": \"e916dd0c-ca97-11e8-b6ce-d89ef3991fb3\"}], {\"title\": \"24h\\u5185\\u672a\\u5b8c\\u6210\\u6570\\u636e\\u53cd\\u9988\\u9879\\u76ee\\u6570&\\u53cd\\u9988\\u5ef6\\u671f\\u4e2a\\u6027\\u5316\\u6570\\u6708\\u8d8b\\u52bf\\u56fe\", \"xaxis\": {\"mirror\": \"all\", \"nticks\": 20, \"showgrid\": true, \"showline\": true, \"title\": \"\\u6708\", \"zeroline\": true}, \"yaxis\": {\"mirror\": \"all\", \"nticks\": 20, \"showgrid\": true, \"showline\": true, \"title\": \"24h\\u5185\\u672a\\u5b8c\\u6210\\u6570\\u636e\\u53cd\\u9988\\u9879\\u76ee\\u6570&\\u53cd\\u9988\\u5ef6\\u671f\\u4e2a\\u6027\\u5316\\u6570\", \"zeroline\": true}}, {\"showLink\": true, \"linkText\": \"Export to plot.ly\"})});</script>"
      ]
     },
     "metadata": {},
     "output_type": "display_data"
    }
   ],
   "source": [
    "data_dict = {'24h内未完成数据反馈项目数':['24h内未完成数据反馈项目数'], '反馈延期个性化数':['反馈延期个性化数']}\n",
    "myModule.plot( all_dict, data_dict, '人员' ,  'bar')"
   ]
  }
 ],
 "metadata": {
  "celltoolbar": "Edit Metadata",
  "hide_input": false,
  "kernelspec": {
   "display_name": "Python 3",
   "language": "python",
   "name": "python3"
  },
  "language_info": {
   "codemirror_mode": {
    "name": "ipython",
    "version": 3
   },
   "file_extension": ".py",
   "mimetype": "text/x-python",
   "name": "python",
   "nbconvert_exporter": "python",
   "pygments_lexer": "ipython3",
   "version": "3.6.0"
  },
  "toc": {
   "base_numbering": 1,
   "nav_menu": {},
   "number_sections": true,
   "sideBar": true,
   "skip_h1_title": false,
   "title_cell": "Table of Contents",
   "title_sidebar": "Contents",
   "toc_cell": false,
   "toc_position": {
    "height": "513.333px",
    "left": "419px",
    "top": "110.926px",
    "width": "506px"
   },
   "toc_section_display": true,
   "toc_window_display": true
  }
 },
 "nbformat": 4,
 "nbformat_minor": 2
}
