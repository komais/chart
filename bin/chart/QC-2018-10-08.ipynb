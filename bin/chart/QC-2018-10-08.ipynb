{
 "cells": [
  {
   "cell_type": "code",
   "execution_count": 60,
   "metadata": {
    "collapsed": false,
    "hide_input": false
   },
   "outputs": [
    {
     "name": "stdout",
     "output_type": "stream",
     "text": [
      "The autoreload extension is already loaded. To reload it, use:\n",
      "  %reload_ext autoreload\n"
     ]
    }
   ],
   "source": [
    "%load_ext autoreload\n",
    "%autoreload 2\n",
    "import sys\n",
    "sys.path.append('./')\n",
    "import myModule\n",
    "import pandas as pd "
   ]
  },
  {
   "cell_type": "code",
   "execution_count": 61,
   "metadata": {
    "collapsed": false
   },
   "outputs": [
    {
     "data": {
      "text/html": [
       "<script>requirejs.config({paths: { 'plotly': ['https://cdn.plot.ly/plotly-latest.min']},});if(!window.Plotly) {{require(['plotly'],function(plotly) {window.Plotly=plotly;});}}</script>"
      ],
      "text/vnd.plotly.v1+html": [
       "<script>requirejs.config({paths: { 'plotly': ['https://cdn.plot.ly/plotly-latest.min']},});if(!window.Plotly) {{require(['plotly'],function(plotly) {window.Plotly=plotly;});}}</script>"
      ]
     },
     "metadata": {},
     "output_type": "display_data"
    },
    {
     "data": {
      "text/plain": [
       "<module 'myModule' from '/home/jiankong/jupyter/chart/bin/chart/myModule.py'>"
      ]
     },
     "execution_count": 61,
     "metadata": {},
     "output_type": "execute_result"
    }
   ],
   "source": [
    "import imp\n",
    "imp.reload(myModule)"
   ]
  },
  {
   "cell_type": "code",
   "execution_count": 62,
   "metadata": {
    "collapsed": false
   },
   "outputs": [],
   "source": [
    "import os\n",
    "bindir = os.path.dirname(os.getcwd())\n",
    "pathway = bindir + '/../data/QC/'\n",
    "all_files , title = myModule.get_title(pathway , 0)##给路径\n",
    "all_df1 = myModule.read_xlsx(all_files, 0 ) ## read all files\n",
    "#data_dict = {'下机批次比':['下机批次数','下机项目数']}\n",
    "\n",
    "all_df2 = myModule.read_xlsx(all_files , 1 )\n"
   ]
  },
  {
   "cell_type": "code",
   "execution_count": 63,
   "metadata": {
    "collapsed": false
   },
   "outputs": [],
   "source": [
    "#myModule.upgrade_df(all_df1, [ ['下机批次比','下机批次数','下机项目数','/'] ])\n",
    "#all_df1[['下机批次比','下机批次数','下机项目数']]"
   ]
  },
  {
   "cell_type": "markdown",
   "metadata": {},
   "source": [
    "# QC分析组整体情况"
   ]
  },
  {
   "cell_type": "markdown",
   "metadata": {},
   "source": [
    "## 整体人员情况"
   ]
  },
  {
   "cell_type": "code",
   "execution_count": 64,
   "metadata": {
    "collapsed": false
   },
   "outputs": [
    {
     "data": {
      "application/vnd.plotly.v1+json": {
       "data": [
        {
         "name": "人员",
         "type": "bar",
         "uid": "ad1dfce6-d1e5-11e8-8ddb-a41f72875c19",
         "x": [
          "10-2",
          "8-1",
          "8-2",
          "8-3",
          "8-4",
          "8-5",
          "9-1",
          "9-2",
          "9-3",
          "9-4"
         ],
         "y": [
          3,
          4,
          4,
          4,
          4,
          4,
          4,
          4,
          4,
          4
         ]
        }
       ],
       "layout": {
        "title": "人员周趋势图",
        "xaxis": {
         "mirror": "all",
         "nticks": 20,
         "showgrid": true,
         "showline": true,
         "title": "周",
         "type": "category",
         "zeroline": true
        },
        "yaxis": {
         "mirror": "all",
         "nticks": 20,
         "showgrid": true,
         "showline": true,
         "title": "人员",
         "zeroline": true
        }
       }
      },
      "text/html": [
       "<div id=\"1750d6d7-a6df-4429-b7f5-6f1d07cad293\" style=\"height: 525px; width: 100%;\" class=\"plotly-graph-div\"></div><script type=\"text/javascript\">require([\"plotly\"], function(Plotly) { window.PLOTLYENV=window.PLOTLYENV || {};window.PLOTLYENV.BASE_URL=\"https://plot.ly\";Plotly.newPlot(\"1750d6d7-a6df-4429-b7f5-6f1d07cad293\", [{\"name\": \"\\u4eba\\u5458\", \"x\": [\"10-2\", \"8-1\", \"8-2\", \"8-3\", \"8-4\", \"8-5\", \"9-1\", \"9-2\", \"9-3\", \"9-4\"], \"y\": [3, 4, 4, 4, 4, 4, 4, 4, 4, 4], \"type\": \"bar\", \"uid\": \"ad1dfce6-d1e5-11e8-8ddb-a41f72875c19\"}], {\"title\": \"\\u4eba\\u5458\\u5468\\u8d8b\\u52bf\\u56fe\", \"xaxis\": {\"mirror\": \"all\", \"nticks\": 20, \"showgrid\": true, \"showline\": true, \"title\": \"\\u5468\", \"type\": \"category\", \"zeroline\": true}, \"yaxis\": {\"mirror\": \"all\", \"nticks\": 20, \"showgrid\": true, \"showline\": true, \"title\": \"\\u4eba\\u5458\", \"zeroline\": true}}, {\"showLink\": true, \"linkText\": \"Export to plot.ly\"})});</script>"
      ],
      "text/vnd.plotly.v1+html": [
       "<div id=\"1750d6d7-a6df-4429-b7f5-6f1d07cad293\" style=\"height: 525px; width: 100%;\" class=\"plotly-graph-div\"></div><script type=\"text/javascript\">require([\"plotly\"], function(Plotly) { window.PLOTLYENV=window.PLOTLYENV || {};window.PLOTLYENV.BASE_URL=\"https://plot.ly\";Plotly.newPlot(\"1750d6d7-a6df-4429-b7f5-6f1d07cad293\", [{\"name\": \"\\u4eba\\u5458\", \"x\": [\"10-2\", \"8-1\", \"8-2\", \"8-3\", \"8-4\", \"8-5\", \"9-1\", \"9-2\", \"9-3\", \"9-4\"], \"y\": [3, 4, 4, 4, 4, 4, 4, 4, 4, 4], \"type\": \"bar\", \"uid\": \"ad1dfce6-d1e5-11e8-8ddb-a41f72875c19\"}], {\"title\": \"\\u4eba\\u5458\\u5468\\u8d8b\\u52bf\\u56fe\", \"xaxis\": {\"mirror\": \"all\", \"nticks\": 20, \"showgrid\": true, \"showline\": true, \"title\": \"\\u5468\", \"type\": \"category\", \"zeroline\": true}, \"yaxis\": {\"mirror\": \"all\", \"nticks\": 20, \"showgrid\": true, \"showline\": true, \"title\": \"\\u4eba\\u5458\", \"zeroline\": true}}, {\"showLink\": true, \"linkText\": \"Export to plot.ly\"})});</script>"
      ]
     },
     "metadata": {},
     "output_type": "display_data"
    },
    {
     "data": {
      "application/vnd.plotly.v1+json": {
       "data": [
        {
         "name": "人员",
         "type": "bar",
         "uid": "ad1dfce7-d1e5-11e8-8ddb-a41f72875c19",
         "x": [
          8,
          9,
          10
         ],
         "y": [
          4,
          4,
          3
         ]
        }
       ],
       "layout": {
        "title": "人员月趋势图",
        "xaxis": {
         "mirror": "all",
         "nticks": 20,
         "showgrid": true,
         "showline": true,
         "title": "月",
         "type": "category",
         "zeroline": true
        },
        "yaxis": {
         "mirror": "all",
         "nticks": 20,
         "showgrid": true,
         "showline": true,
         "title": "人员",
         "zeroline": true
        }
       }
      },
      "text/html": [
       "<div id=\"404f2e75-bdf7-4894-beb6-953eca517523\" style=\"height: 525px; width: 100%;\" class=\"plotly-graph-div\"></div><script type=\"text/javascript\">require([\"plotly\"], function(Plotly) { window.PLOTLYENV=window.PLOTLYENV || {};window.PLOTLYENV.BASE_URL=\"https://plot.ly\";Plotly.newPlot(\"404f2e75-bdf7-4894-beb6-953eca517523\", [{\"name\": \"\\u4eba\\u5458\", \"x\": [8, 9, 10], \"y\": [4, 4, 3], \"type\": \"bar\", \"uid\": \"ad1dfce7-d1e5-11e8-8ddb-a41f72875c19\"}], {\"title\": \"\\u4eba\\u5458\\u6708\\u8d8b\\u52bf\\u56fe\", \"xaxis\": {\"mirror\": \"all\", \"nticks\": 20, \"showgrid\": true, \"showline\": true, \"title\": \"\\u6708\", \"type\": \"category\", \"zeroline\": true}, \"yaxis\": {\"mirror\": \"all\", \"nticks\": 20, \"showgrid\": true, \"showline\": true, \"title\": \"\\u4eba\\u5458\", \"zeroline\": true}}, {\"showLink\": true, \"linkText\": \"Export to plot.ly\"})});</script>"
      ],
      "text/vnd.plotly.v1+html": [
       "<div id=\"404f2e75-bdf7-4894-beb6-953eca517523\" style=\"height: 525px; width: 100%;\" class=\"plotly-graph-div\"></div><script type=\"text/javascript\">require([\"plotly\"], function(Plotly) { window.PLOTLYENV=window.PLOTLYENV || {};window.PLOTLYENV.BASE_URL=\"https://plot.ly\";Plotly.newPlot(\"404f2e75-bdf7-4894-beb6-953eca517523\", [{\"name\": \"\\u4eba\\u5458\", \"x\": [8, 9, 10], \"y\": [4, 4, 3], \"type\": \"bar\", \"uid\": \"ad1dfce7-d1e5-11e8-8ddb-a41f72875c19\"}], {\"title\": \"\\u4eba\\u5458\\u6708\\u8d8b\\u52bf\\u56fe\", \"xaxis\": {\"mirror\": \"all\", \"nticks\": 20, \"showgrid\": true, \"showline\": true, \"title\": \"\\u6708\", \"type\": \"category\", \"zeroline\": true}, \"yaxis\": {\"mirror\": \"all\", \"nticks\": 20, \"showgrid\": true, \"showline\": true, \"title\": \"\\u4eba\\u5458\", \"zeroline\": true}}, {\"showLink\": true, \"linkText\": \"Export to plot.ly\"})});</script>"
      ]
     },
     "metadata": {},
     "output_type": "display_data"
    }
   ],
   "source": [
    "ss = myModule.format(all_df1 ,\"日期（格式“月-周次”）\" ,['人员'])\n",
    "tt = myModule.myPlot(ss.groupby('count'))\n",
    "tt.plot('bar')\n",
    "\n",
    "ss = myModule.format(all_df1 ,\"month\" ,['人员'] )\n",
    "ss.get_average_by('日期（格式“月-周次”）')\n",
    "tt = myModule.myPlot(ss.groupby(\"count\") )# ,\"日期（格式“月-周次”）\" ,['人员'])\n",
    "tt.plot('bar',tag='月')"
   ]
  },
  {
   "cell_type": "markdown",
   "metadata": {
    "hide_input": true
   },
   "source": [
    "## 过滤项目整体情况"
   ]
  },
  {
   "cell_type": "markdown",
   "metadata": {},
   "source": [
    "### 产能"
   ]
  },
  {
   "cell_type": "markdown",
   "metadata": {},
   "source": [
    "\n",
    "#### 下机批次数和下机项目数\n"
   ]
  },
  {
   "cell_type": "code",
   "execution_count": 65,
   "metadata": {
    "collapsed": false
   },
   "outputs": [
    {
     "data": {
      "application/vnd.plotly.v1+json": {
       "data": [
        {
         "name": "下机项目数",
         "type": "scatter",
         "uid": "ad1dfce8-d1e5-11e8-8ddb-a41f72875c19",
         "x": [
          "10-2",
          "8-1",
          "8-2",
          "8-3",
          "8-4",
          "8-5",
          "9-1",
          "9-2",
          "9-3",
          "9-4"
         ],
         "y": [
          66,
          94,
          146,
          135,
          136,
          85,
          174,
          103,
          122,
          153
         ]
        },
        {
         "name": "下机批次数",
         "type": "scatter",
         "uid": "ad1dfce9-d1e5-11e8-8ddb-a41f72875c19",
         "x": [
          "10-2",
          "8-1",
          "8-2",
          "8-3",
          "8-4",
          "8-5",
          "9-1",
          "9-2",
          "9-3",
          "9-4"
         ],
         "y": [
          70,
          118,
          181,
          165,
          161,
          100,
          199,
          124,
          136,
          176
         ]
        }
       ],
       "layout": {
        "title": "下机项目数&下机批次数周趋势图",
        "xaxis": {
         "mirror": "all",
         "nticks": 20,
         "showgrid": true,
         "showline": true,
         "title": "周",
         "type": "category",
         "zeroline": true
        },
        "yaxis": {
         "mirror": "all",
         "nticks": 20,
         "showgrid": true,
         "showline": true,
         "title": "下机项目数&下机批次数",
         "zeroline": true
        }
       }
      },
      "text/html": [
       "<div id=\"48438970-54f3-4a82-889a-2f3e5734e9b9\" style=\"height: 525px; width: 100%;\" class=\"plotly-graph-div\"></div><script type=\"text/javascript\">require([\"plotly\"], function(Plotly) { window.PLOTLYENV=window.PLOTLYENV || {};window.PLOTLYENV.BASE_URL=\"https://plot.ly\";Plotly.newPlot(\"48438970-54f3-4a82-889a-2f3e5734e9b9\", [{\"name\": \"\\u4e0b\\u673a\\u9879\\u76ee\\u6570\", \"x\": [\"10-2\", \"8-1\", \"8-2\", \"8-3\", \"8-4\", \"8-5\", \"9-1\", \"9-2\", \"9-3\", \"9-4\"], \"y\": [66, 94, 146, 135, 136, 85, 174, 103, 122, 153], \"type\": \"scatter\", \"uid\": \"ad1dfce8-d1e5-11e8-8ddb-a41f72875c19\"}, {\"name\": \"\\u4e0b\\u673a\\u6279\\u6b21\\u6570\", \"x\": [\"10-2\", \"8-1\", \"8-2\", \"8-3\", \"8-4\", \"8-5\", \"9-1\", \"9-2\", \"9-3\", \"9-4\"], \"y\": [70, 118, 181, 165, 161, 100, 199, 124, 136, 176], \"type\": \"scatter\", \"uid\": \"ad1dfce9-d1e5-11e8-8ddb-a41f72875c19\"}], {\"title\": \"\\u4e0b\\u673a\\u9879\\u76ee\\u6570&\\u4e0b\\u673a\\u6279\\u6b21\\u6570\\u5468\\u8d8b\\u52bf\\u56fe\", \"xaxis\": {\"mirror\": \"all\", \"nticks\": 20, \"showgrid\": true, \"showline\": true, \"title\": \"\\u5468\", \"type\": \"category\", \"zeroline\": true}, \"yaxis\": {\"mirror\": \"all\", \"nticks\": 20, \"showgrid\": true, \"showline\": true, \"title\": \"\\u4e0b\\u673a\\u9879\\u76ee\\u6570&\\u4e0b\\u673a\\u6279\\u6b21\\u6570\", \"zeroline\": true}}, {\"showLink\": true, \"linkText\": \"Export to plot.ly\"})});</script>"
      ],
      "text/vnd.plotly.v1+html": [
       "<div id=\"48438970-54f3-4a82-889a-2f3e5734e9b9\" style=\"height: 525px; width: 100%;\" class=\"plotly-graph-div\"></div><script type=\"text/javascript\">require([\"plotly\"], function(Plotly) { window.PLOTLYENV=window.PLOTLYENV || {};window.PLOTLYENV.BASE_URL=\"https://plot.ly\";Plotly.newPlot(\"48438970-54f3-4a82-889a-2f3e5734e9b9\", [{\"name\": \"\\u4e0b\\u673a\\u9879\\u76ee\\u6570\", \"x\": [\"10-2\", \"8-1\", \"8-2\", \"8-3\", \"8-4\", \"8-5\", \"9-1\", \"9-2\", \"9-3\", \"9-4\"], \"y\": [66, 94, 146, 135, 136, 85, 174, 103, 122, 153], \"type\": \"scatter\", \"uid\": \"ad1dfce8-d1e5-11e8-8ddb-a41f72875c19\"}, {\"name\": \"\\u4e0b\\u673a\\u6279\\u6b21\\u6570\", \"x\": [\"10-2\", \"8-1\", \"8-2\", \"8-3\", \"8-4\", \"8-5\", \"9-1\", \"9-2\", \"9-3\", \"9-4\"], \"y\": [70, 118, 181, 165, 161, 100, 199, 124, 136, 176], \"type\": \"scatter\", \"uid\": \"ad1dfce9-d1e5-11e8-8ddb-a41f72875c19\"}], {\"title\": \"\\u4e0b\\u673a\\u9879\\u76ee\\u6570&\\u4e0b\\u673a\\u6279\\u6b21\\u6570\\u5468\\u8d8b\\u52bf\\u56fe\", \"xaxis\": {\"mirror\": \"all\", \"nticks\": 20, \"showgrid\": true, \"showline\": true, \"title\": \"\\u5468\", \"type\": \"category\", \"zeroline\": true}, \"yaxis\": {\"mirror\": \"all\", \"nticks\": 20, \"showgrid\": true, \"showline\": true, \"title\": \"\\u4e0b\\u673a\\u9879\\u76ee\\u6570&\\u4e0b\\u673a\\u6279\\u6b21\\u6570\", \"zeroline\": true}}, {\"showLink\": true, \"linkText\": \"Export to plot.ly\"})});</script>"
      ]
     },
     "metadata": {},
     "output_type": "display_data"
    },
    {
     "data": {
      "application/vnd.plotly.v1+json": {
       "data": [
        {
         "name": "下机项目数",
         "type": "scatter",
         "uid": "ad1dfcea-d1e5-11e8-8ddb-a41f72875c19",
         "x": [
          8,
          9,
          10
         ],
         "y": [
          596,
          552,
          66
         ]
        },
        {
         "name": "下机批次数",
         "type": "scatter",
         "uid": "ad1dfceb-d1e5-11e8-8ddb-a41f72875c19",
         "x": [
          8,
          9,
          10
         ],
         "y": [
          725,
          635,
          70
         ]
        }
       ],
       "layout": {
        "title": "下机项目数&下机批次数月趋势图",
        "xaxis": {
         "mirror": "all",
         "nticks": 20,
         "showgrid": true,
         "showline": true,
         "title": "月",
         "type": "category",
         "zeroline": true
        },
        "yaxis": {
         "mirror": "all",
         "nticks": 20,
         "showgrid": true,
         "showline": true,
         "title": "下机项目数&下机批次数",
         "zeroline": true
        }
       }
      },
      "text/html": [
       "<div id=\"2ce2498a-c531-4c9c-bf12-903361bf7070\" style=\"height: 525px; width: 100%;\" class=\"plotly-graph-div\"></div><script type=\"text/javascript\">require([\"plotly\"], function(Plotly) { window.PLOTLYENV=window.PLOTLYENV || {};window.PLOTLYENV.BASE_URL=\"https://plot.ly\";Plotly.newPlot(\"2ce2498a-c531-4c9c-bf12-903361bf7070\", [{\"name\": \"\\u4e0b\\u673a\\u9879\\u76ee\\u6570\", \"x\": [8, 9, 10], \"y\": [596, 552, 66], \"type\": \"scatter\", \"uid\": \"ad1dfcea-d1e5-11e8-8ddb-a41f72875c19\"}, {\"name\": \"\\u4e0b\\u673a\\u6279\\u6b21\\u6570\", \"x\": [8, 9, 10], \"y\": [725, 635, 70], \"type\": \"scatter\", \"uid\": \"ad1dfceb-d1e5-11e8-8ddb-a41f72875c19\"}], {\"title\": \"\\u4e0b\\u673a\\u9879\\u76ee\\u6570&\\u4e0b\\u673a\\u6279\\u6b21\\u6570\\u6708\\u8d8b\\u52bf\\u56fe\", \"xaxis\": {\"mirror\": \"all\", \"nticks\": 20, \"showgrid\": true, \"showline\": true, \"title\": \"\\u6708\", \"type\": \"category\", \"zeroline\": true}, \"yaxis\": {\"mirror\": \"all\", \"nticks\": 20, \"showgrid\": true, \"showline\": true, \"title\": \"\\u4e0b\\u673a\\u9879\\u76ee\\u6570&\\u4e0b\\u673a\\u6279\\u6b21\\u6570\", \"zeroline\": true}}, {\"showLink\": true, \"linkText\": \"Export to plot.ly\"})});</script>"
      ],
      "text/vnd.plotly.v1+html": [
       "<div id=\"2ce2498a-c531-4c9c-bf12-903361bf7070\" style=\"height: 525px; width: 100%;\" class=\"plotly-graph-div\"></div><script type=\"text/javascript\">require([\"plotly\"], function(Plotly) { window.PLOTLYENV=window.PLOTLYENV || {};window.PLOTLYENV.BASE_URL=\"https://plot.ly\";Plotly.newPlot(\"2ce2498a-c531-4c9c-bf12-903361bf7070\", [{\"name\": \"\\u4e0b\\u673a\\u9879\\u76ee\\u6570\", \"x\": [8, 9, 10], \"y\": [596, 552, 66], \"type\": \"scatter\", \"uid\": \"ad1dfcea-d1e5-11e8-8ddb-a41f72875c19\"}, {\"name\": \"\\u4e0b\\u673a\\u6279\\u6b21\\u6570\", \"x\": [8, 9, 10], \"y\": [725, 635, 70], \"type\": \"scatter\", \"uid\": \"ad1dfceb-d1e5-11e8-8ddb-a41f72875c19\"}], {\"title\": \"\\u4e0b\\u673a\\u9879\\u76ee\\u6570&\\u4e0b\\u673a\\u6279\\u6b21\\u6570\\u6708\\u8d8b\\u52bf\\u56fe\", \"xaxis\": {\"mirror\": \"all\", \"nticks\": 20, \"showgrid\": true, \"showline\": true, \"title\": \"\\u6708\", \"type\": \"category\", \"zeroline\": true}, \"yaxis\": {\"mirror\": \"all\", \"nticks\": 20, \"showgrid\": true, \"showline\": true, \"title\": \"\\u4e0b\\u673a\\u9879\\u76ee\\u6570&\\u4e0b\\u673a\\u6279\\u6b21\\u6570\", \"zeroline\": true}}, {\"showLink\": true, \"linkText\": \"Export to plot.ly\"})});</script>"
      ]
     },
     "metadata": {},
     "output_type": "display_data"
    }
   ],
   "source": [
    "ss = myModule.format(all_df1 ,\"日期（格式“月-周次”）\" ,['下机批次数','下机项目数'])\n",
    "myModule.myPlot(ss.groupby('sum')).plot('line')\n",
    "ss = myModule.format(all_df1 ,\"month\" ,['下机批次数','下机项目数'])\n",
    "myModule.myPlot(ss.groupby('sum')).plot('line',\"月\")"
   ]
  },
  {
   "cell_type": "markdown",
   "metadata": {},
   "source": [
    "#### 下机批次比"
   ]
  },
  {
   "cell_type": "code",
   "execution_count": 66,
   "metadata": {
    "collapsed": false
   },
   "outputs": [
    {
     "data": {
      "application/vnd.plotly.v1+json": {
       "data": [
        {
         "name": "下机批次比",
         "type": "scatter",
         "uid": "ad1dfcec-d1e5-11e8-8ddb-a41f72875c19",
         "x": [
          "10-2",
          "8-1",
          "8-2",
          "8-3",
          "8-4",
          "8-5",
          "9-1",
          "9-2",
          "9-3",
          "9-4"
         ],
         "y": [
          1.0606060606060606,
          1.2553191489361701,
          1.2397260273972603,
          1.2222222222222223,
          1.1838235294117647,
          1.1764705882352942,
          1.1436781609195403,
          1.203883495145631,
          1.1147540983606556,
          1.1503267973856208
         ]
        }
       ],
       "layout": {
        "title": "下机批次比周趋势图",
        "xaxis": {
         "mirror": "all",
         "nticks": 20,
         "showgrid": true,
         "showline": true,
         "title": "周",
         "type": "category",
         "zeroline": true
        },
        "yaxis": {
         "mirror": "all",
         "nticks": 20,
         "showgrid": true,
         "showline": true,
         "title": "下机批次比",
         "zeroline": true
        }
       }
      },
      "text/html": [
       "<div id=\"db9c3b9b-4807-44fb-854c-d7a8e069baf2\" style=\"height: 525px; width: 100%;\" class=\"plotly-graph-div\"></div><script type=\"text/javascript\">require([\"plotly\"], function(Plotly) { window.PLOTLYENV=window.PLOTLYENV || {};window.PLOTLYENV.BASE_URL=\"https://plot.ly\";Plotly.newPlot(\"db9c3b9b-4807-44fb-854c-d7a8e069baf2\", [{\"name\": \"\\u4e0b\\u673a\\u6279\\u6b21\\u6bd4\", \"x\": [\"10-2\", \"8-1\", \"8-2\", \"8-3\", \"8-4\", \"8-5\", \"9-1\", \"9-2\", \"9-3\", \"9-4\"], \"y\": [1.0606060606060606, 1.2553191489361701, 1.2397260273972603, 1.2222222222222223, 1.1838235294117647, 1.1764705882352942, 1.1436781609195403, 1.203883495145631, 1.1147540983606556, 1.1503267973856208], \"type\": \"scatter\", \"uid\": \"ad1dfcec-d1e5-11e8-8ddb-a41f72875c19\"}], {\"title\": \"\\u4e0b\\u673a\\u6279\\u6b21\\u6bd4\\u5468\\u8d8b\\u52bf\\u56fe\", \"xaxis\": {\"mirror\": \"all\", \"nticks\": 20, \"showgrid\": true, \"showline\": true, \"title\": \"\\u5468\", \"type\": \"category\", \"zeroline\": true}, \"yaxis\": {\"mirror\": \"all\", \"nticks\": 20, \"showgrid\": true, \"showline\": true, \"title\": \"\\u4e0b\\u673a\\u6279\\u6b21\\u6bd4\", \"zeroline\": true}}, {\"showLink\": true, \"linkText\": \"Export to plot.ly\"})});</script>"
      ],
      "text/vnd.plotly.v1+html": [
       "<div id=\"db9c3b9b-4807-44fb-854c-d7a8e069baf2\" style=\"height: 525px; width: 100%;\" class=\"plotly-graph-div\"></div><script type=\"text/javascript\">require([\"plotly\"], function(Plotly) { window.PLOTLYENV=window.PLOTLYENV || {};window.PLOTLYENV.BASE_URL=\"https://plot.ly\";Plotly.newPlot(\"db9c3b9b-4807-44fb-854c-d7a8e069baf2\", [{\"name\": \"\\u4e0b\\u673a\\u6279\\u6b21\\u6bd4\", \"x\": [\"10-2\", \"8-1\", \"8-2\", \"8-3\", \"8-4\", \"8-5\", \"9-1\", \"9-2\", \"9-3\", \"9-4\"], \"y\": [1.0606060606060606, 1.2553191489361701, 1.2397260273972603, 1.2222222222222223, 1.1838235294117647, 1.1764705882352942, 1.1436781609195403, 1.203883495145631, 1.1147540983606556, 1.1503267973856208], \"type\": \"scatter\", \"uid\": \"ad1dfcec-d1e5-11e8-8ddb-a41f72875c19\"}], {\"title\": \"\\u4e0b\\u673a\\u6279\\u6b21\\u6bd4\\u5468\\u8d8b\\u52bf\\u56fe\", \"xaxis\": {\"mirror\": \"all\", \"nticks\": 20, \"showgrid\": true, \"showline\": true, \"title\": \"\\u5468\", \"type\": \"category\", \"zeroline\": true}, \"yaxis\": {\"mirror\": \"all\", \"nticks\": 20, \"showgrid\": true, \"showline\": true, \"title\": \"\\u4e0b\\u673a\\u6279\\u6b21\\u6bd4\", \"zeroline\": true}}, {\"showLink\": true, \"linkText\": \"Export to plot.ly\"})});</script>"
      ]
     },
     "metadata": {},
     "output_type": "display_data"
    },
    {
     "data": {
      "application/vnd.plotly.v1+json": {
       "data": [
        {
         "name": "下机批次比",
         "type": "scatter",
         "uid": "ad1dfced-d1e5-11e8-8ddb-a41f72875c19",
         "x": [
          8,
          9,
          10
         ],
         "y": [
          1.2164429530201342,
          1.1503623188405796,
          1.0606060606060606
         ]
        }
       ],
       "layout": {
        "title": "下机批次比周趋势图",
        "xaxis": {
         "mirror": "all",
         "nticks": 20,
         "showgrid": true,
         "showline": true,
         "title": "周",
         "type": "category",
         "zeroline": true
        },
        "yaxis": {
         "mirror": "all",
         "nticks": 20,
         "showgrid": true,
         "showline": true,
         "title": "下机批次比",
         "zeroline": true
        }
       }
      },
      "text/html": [
       "<div id=\"e58b7f3c-7e82-4470-b555-fe57959407e1\" style=\"height: 525px; width: 100%;\" class=\"plotly-graph-div\"></div><script type=\"text/javascript\">require([\"plotly\"], function(Plotly) { window.PLOTLYENV=window.PLOTLYENV || {};window.PLOTLYENV.BASE_URL=\"https://plot.ly\";Plotly.newPlot(\"e58b7f3c-7e82-4470-b555-fe57959407e1\", [{\"name\": \"\\u4e0b\\u673a\\u6279\\u6b21\\u6bd4\", \"x\": [8, 9, 10], \"y\": [1.2164429530201342, 1.1503623188405796, 1.0606060606060606], \"type\": \"scatter\", \"uid\": \"ad1dfced-d1e5-11e8-8ddb-a41f72875c19\"}], {\"title\": \"\\u4e0b\\u673a\\u6279\\u6b21\\u6bd4\\u5468\\u8d8b\\u52bf\\u56fe\", \"xaxis\": {\"mirror\": \"all\", \"nticks\": 20, \"showgrid\": true, \"showline\": true, \"title\": \"\\u5468\", \"type\": \"category\", \"zeroline\": true}, \"yaxis\": {\"mirror\": \"all\", \"nticks\": 20, \"showgrid\": true, \"showline\": true, \"title\": \"\\u4e0b\\u673a\\u6279\\u6b21\\u6bd4\", \"zeroline\": true}}, {\"showLink\": true, \"linkText\": \"Export to plot.ly\"})});</script>"
      ],
      "text/vnd.plotly.v1+html": [
       "<div id=\"e58b7f3c-7e82-4470-b555-fe57959407e1\" style=\"height: 525px; width: 100%;\" class=\"plotly-graph-div\"></div><script type=\"text/javascript\">require([\"plotly\"], function(Plotly) { window.PLOTLYENV=window.PLOTLYENV || {};window.PLOTLYENV.BASE_URL=\"https://plot.ly\";Plotly.newPlot(\"e58b7f3c-7e82-4470-b555-fe57959407e1\", [{\"name\": \"\\u4e0b\\u673a\\u6279\\u6b21\\u6bd4\", \"x\": [8, 9, 10], \"y\": [1.2164429530201342, 1.1503623188405796, 1.0606060606060606], \"type\": \"scatter\", \"uid\": \"ad1dfced-d1e5-11e8-8ddb-a41f72875c19\"}], {\"title\": \"\\u4e0b\\u673a\\u6279\\u6b21\\u6bd4\\u5468\\u8d8b\\u52bf\\u56fe\", \"xaxis\": {\"mirror\": \"all\", \"nticks\": 20, \"showgrid\": true, \"showline\": true, \"title\": \"\\u5468\", \"type\": \"category\", \"zeroline\": true}, \"yaxis\": {\"mirror\": \"all\", \"nticks\": 20, \"showgrid\": true, \"showline\": true, \"title\": \"\\u4e0b\\u673a\\u6279\\u6b21\\u6bd4\", \"zeroline\": true}}, {\"showLink\": true, \"linkText\": \"Export to plot.ly\"})});</script>"
      ]
     },
     "metadata": {},
     "output_type": "display_data"
    }
   ],
   "source": [
    "ss = myModule.format(all_df1 ,\"日期（格式“月-周次”）\" ,['下机批次数','下机项目数'])\n",
    "tt = ss.get_total_ratio([['下机批次比' ,'下机批次数' , '下机项目数','/']] )\n",
    "myModule.myPlot(tt).plot('line')\n",
    "\n",
    "ss = myModule.format(all_df1 ,\"month\" ,['下机批次数','下机项目数'])\n",
    "tt = ss.get_total_ratio([['下机批次比' ,'下机批次数' , '下机项目数','/']] )\n",
    "myModule.myPlot(tt).plot('line')\n"
   ]
  },
  {
   "cell_type": "markdown",
   "metadata": {
    "hide_input": true
   },
   "source": [
    "### 效率"
   ]
  },
  {
   "cell_type": "markdown",
   "metadata": {},
   "source": [
    "#### 反馈及时率和数据交付及时率"
   ]
  },
  {
   "cell_type": "code",
   "execution_count": 67,
   "metadata": {
    "collapsed": false
   },
   "outputs": [
    {
     "data": {
      "application/vnd.plotly.v1+json": {
       "data": [
        {
         "name": "数据及时交付率",
         "type": "scatter",
         "uid": "ad1dfcee-d1e5-11e8-8ddb-a41f72875c19",
         "x": [
          "10-2",
          "8-1",
          "8-2",
          "8-3",
          "8-4",
          "8-5",
          "9-1",
          "9-2",
          "9-3",
          "9-4"
         ],
         "y": [
          1,
          1,
          1,
          1,
          1,
          1,
          1,
          1,
          1,
          1
         ]
        },
        {
         "name": "反馈及时率",
         "type": "scatter",
         "uid": "ad1dfcef-d1e5-11e8-8ddb-a41f72875c19",
         "x": [
          "10-2",
          "8-1",
          "8-2",
          "8-3",
          "8-4",
          "8-5",
          "9-1",
          "9-2",
          "9-3",
          "9-4"
         ],
         "y": [
          1,
          0.9661016949152542,
          0.9668508287292817,
          0.9878787878787879,
          0.968944099378882,
          0.93,
          0.9849246231155779,
          0.9274193548387096,
          1,
          0.9943181818181818
         ]
        }
       ],
       "layout": {
        "title": "数据及时交付率&反馈及时率周趋势图",
        "xaxis": {
         "mirror": "all",
         "nticks": 20,
         "showgrid": true,
         "showline": true,
         "title": "周",
         "type": "category",
         "zeroline": true
        },
        "yaxis": {
         "mirror": "all",
         "nticks": 20,
         "showgrid": true,
         "showline": true,
         "title": "数据及时交付率&反馈及时率",
         "zeroline": true
        }
       }
      },
      "text/html": [
       "<div id=\"ed4425e0-f250-4bd2-a722-7e98370ad85a\" style=\"height: 525px; width: 100%;\" class=\"plotly-graph-div\"></div><script type=\"text/javascript\">require([\"plotly\"], function(Plotly) { window.PLOTLYENV=window.PLOTLYENV || {};window.PLOTLYENV.BASE_URL=\"https://plot.ly\";Plotly.newPlot(\"ed4425e0-f250-4bd2-a722-7e98370ad85a\", [{\"name\": \"\\u6570\\u636e\\u53ca\\u65f6\\u4ea4\\u4ed8\\u7387\", \"x\": [\"10-2\", \"8-1\", \"8-2\", \"8-3\", \"8-4\", \"8-5\", \"9-1\", \"9-2\", \"9-3\", \"9-4\"], \"y\": [1.0, 1.0, 1.0, 1.0, 1.0, 1.0, 1.0, 1.0, 1.0, 1.0], \"type\": \"scatter\", \"uid\": \"ad1dfcee-d1e5-11e8-8ddb-a41f72875c19\"}, {\"name\": \"\\u53cd\\u9988\\u53ca\\u65f6\\u7387\", \"x\": [\"10-2\", \"8-1\", \"8-2\", \"8-3\", \"8-4\", \"8-5\", \"9-1\", \"9-2\", \"9-3\", \"9-4\"], \"y\": [1.0, 0.9661016949152542, 0.9668508287292817, 0.9878787878787879, 0.968944099378882, 0.93, 0.9849246231155779, 0.9274193548387096, 1.0, 0.9943181818181818], \"type\": \"scatter\", \"uid\": \"ad1dfcef-d1e5-11e8-8ddb-a41f72875c19\"}], {\"title\": \"\\u6570\\u636e\\u53ca\\u65f6\\u4ea4\\u4ed8\\u7387&\\u53cd\\u9988\\u53ca\\u65f6\\u7387\\u5468\\u8d8b\\u52bf\\u56fe\", \"xaxis\": {\"mirror\": \"all\", \"nticks\": 20, \"showgrid\": true, \"showline\": true, \"title\": \"\\u5468\", \"type\": \"category\", \"zeroline\": true}, \"yaxis\": {\"mirror\": \"all\", \"nticks\": 20, \"showgrid\": true, \"showline\": true, \"title\": \"\\u6570\\u636e\\u53ca\\u65f6\\u4ea4\\u4ed8\\u7387&\\u53cd\\u9988\\u53ca\\u65f6\\u7387\", \"zeroline\": true}}, {\"showLink\": true, \"linkText\": \"Export to plot.ly\"})});</script>"
      ],
      "text/vnd.plotly.v1+html": [
       "<div id=\"ed4425e0-f250-4bd2-a722-7e98370ad85a\" style=\"height: 525px; width: 100%;\" class=\"plotly-graph-div\"></div><script type=\"text/javascript\">require([\"plotly\"], function(Plotly) { window.PLOTLYENV=window.PLOTLYENV || {};window.PLOTLYENV.BASE_URL=\"https://plot.ly\";Plotly.newPlot(\"ed4425e0-f250-4bd2-a722-7e98370ad85a\", [{\"name\": \"\\u6570\\u636e\\u53ca\\u65f6\\u4ea4\\u4ed8\\u7387\", \"x\": [\"10-2\", \"8-1\", \"8-2\", \"8-3\", \"8-4\", \"8-5\", \"9-1\", \"9-2\", \"9-3\", \"9-4\"], \"y\": [1.0, 1.0, 1.0, 1.0, 1.0, 1.0, 1.0, 1.0, 1.0, 1.0], \"type\": \"scatter\", \"uid\": \"ad1dfcee-d1e5-11e8-8ddb-a41f72875c19\"}, {\"name\": \"\\u53cd\\u9988\\u53ca\\u65f6\\u7387\", \"x\": [\"10-2\", \"8-1\", \"8-2\", \"8-3\", \"8-4\", \"8-5\", \"9-1\", \"9-2\", \"9-3\", \"9-4\"], \"y\": [1.0, 0.9661016949152542, 0.9668508287292817, 0.9878787878787879, 0.968944099378882, 0.93, 0.9849246231155779, 0.9274193548387096, 1.0, 0.9943181818181818], \"type\": \"scatter\", \"uid\": \"ad1dfcef-d1e5-11e8-8ddb-a41f72875c19\"}], {\"title\": \"\\u6570\\u636e\\u53ca\\u65f6\\u4ea4\\u4ed8\\u7387&\\u53cd\\u9988\\u53ca\\u65f6\\u7387\\u5468\\u8d8b\\u52bf\\u56fe\", \"xaxis\": {\"mirror\": \"all\", \"nticks\": 20, \"showgrid\": true, \"showline\": true, \"title\": \"\\u5468\", \"type\": \"category\", \"zeroline\": true}, \"yaxis\": {\"mirror\": \"all\", \"nticks\": 20, \"showgrid\": true, \"showline\": true, \"title\": \"\\u6570\\u636e\\u53ca\\u65f6\\u4ea4\\u4ed8\\u7387&\\u53cd\\u9988\\u53ca\\u65f6\\u7387\", \"zeroline\": true}}, {\"showLink\": true, \"linkText\": \"Export to plot.ly\"})});</script>"
      ]
     },
     "metadata": {},
     "output_type": "display_data"
    },
    {
     "data": {
      "application/vnd.plotly.v1+json": {
       "data": [
        {
         "name": "数据及时交付率",
         "type": "scatter",
         "uid": "ad1dfcf0-d1e5-11e8-8ddb-a41f72875c19",
         "x": [
          8,
          9,
          10
         ],
         "y": [
          1,
          1,
          1
         ]
        },
        {
         "name": "反馈及时率",
         "type": "scatter",
         "uid": "ad1dfcf1-d1e5-11e8-8ddb-a41f72875c19",
         "x": [
          8,
          9,
          10
         ],
         "y": [
          0.9668965517241379,
          0.9795275590551181,
          1
         ]
        }
       ],
       "layout": {
        "title": "数据及时交付率&反馈及时率周趋势图",
        "xaxis": {
         "mirror": "all",
         "nticks": 20,
         "showgrid": true,
         "showline": true,
         "title": "周",
         "type": "category",
         "zeroline": true
        },
        "yaxis": {
         "mirror": "all",
         "nticks": 20,
         "showgrid": true,
         "showline": true,
         "title": "数据及时交付率&反馈及时率",
         "zeroline": true
        }
       }
      },
      "text/html": [
       "<div id=\"e87b0662-ddb6-494f-98f2-3c5937cccdef\" style=\"height: 525px; width: 100%;\" class=\"plotly-graph-div\"></div><script type=\"text/javascript\">require([\"plotly\"], function(Plotly) { window.PLOTLYENV=window.PLOTLYENV || {};window.PLOTLYENV.BASE_URL=\"https://plot.ly\";Plotly.newPlot(\"e87b0662-ddb6-494f-98f2-3c5937cccdef\", [{\"name\": \"\\u6570\\u636e\\u53ca\\u65f6\\u4ea4\\u4ed8\\u7387\", \"x\": [8, 9, 10], \"y\": [1.0, 1.0, 1.0], \"type\": \"scatter\", \"uid\": \"ad1dfcf0-d1e5-11e8-8ddb-a41f72875c19\"}, {\"name\": \"\\u53cd\\u9988\\u53ca\\u65f6\\u7387\", \"x\": [8, 9, 10], \"y\": [0.9668965517241379, 0.9795275590551181, 1.0], \"type\": \"scatter\", \"uid\": \"ad1dfcf1-d1e5-11e8-8ddb-a41f72875c19\"}], {\"title\": \"\\u6570\\u636e\\u53ca\\u65f6\\u4ea4\\u4ed8\\u7387&\\u53cd\\u9988\\u53ca\\u65f6\\u7387\\u5468\\u8d8b\\u52bf\\u56fe\", \"xaxis\": {\"mirror\": \"all\", \"nticks\": 20, \"showgrid\": true, \"showline\": true, \"title\": \"\\u5468\", \"type\": \"category\", \"zeroline\": true}, \"yaxis\": {\"mirror\": \"all\", \"nticks\": 20, \"showgrid\": true, \"showline\": true, \"title\": \"\\u6570\\u636e\\u53ca\\u65f6\\u4ea4\\u4ed8\\u7387&\\u53cd\\u9988\\u53ca\\u65f6\\u7387\", \"zeroline\": true}}, {\"showLink\": true, \"linkText\": \"Export to plot.ly\"})});</script>"
      ],
      "text/vnd.plotly.v1+html": [
       "<div id=\"e87b0662-ddb6-494f-98f2-3c5937cccdef\" style=\"height: 525px; width: 100%;\" class=\"plotly-graph-div\"></div><script type=\"text/javascript\">require([\"plotly\"], function(Plotly) { window.PLOTLYENV=window.PLOTLYENV || {};window.PLOTLYENV.BASE_URL=\"https://plot.ly\";Plotly.newPlot(\"e87b0662-ddb6-494f-98f2-3c5937cccdef\", [{\"name\": \"\\u6570\\u636e\\u53ca\\u65f6\\u4ea4\\u4ed8\\u7387\", \"x\": [8, 9, 10], \"y\": [1.0, 1.0, 1.0], \"type\": \"scatter\", \"uid\": \"ad1dfcf0-d1e5-11e8-8ddb-a41f72875c19\"}, {\"name\": \"\\u53cd\\u9988\\u53ca\\u65f6\\u7387\", \"x\": [8, 9, 10], \"y\": [0.9668965517241379, 0.9795275590551181, 1.0], \"type\": \"scatter\", \"uid\": \"ad1dfcf1-d1e5-11e8-8ddb-a41f72875c19\"}], {\"title\": \"\\u6570\\u636e\\u53ca\\u65f6\\u4ea4\\u4ed8\\u7387&\\u53cd\\u9988\\u53ca\\u65f6\\u7387\\u5468\\u8d8b\\u52bf\\u56fe\", \"xaxis\": {\"mirror\": \"all\", \"nticks\": 20, \"showgrid\": true, \"showline\": true, \"title\": \"\\u5468\", \"type\": \"category\", \"zeroline\": true}, \"yaxis\": {\"mirror\": \"all\", \"nticks\": 20, \"showgrid\": true, \"showline\": true, \"title\": \"\\u6570\\u636e\\u53ca\\u65f6\\u4ea4\\u4ed8\\u7387&\\u53cd\\u9988\\u53ca\\u65f6\\u7387\", \"zeroline\": true}}, {\"showLink\": true, \"linkText\": \"Export to plot.ly\"})});</script>"
      ]
     },
     "metadata": {},
     "output_type": "display_data"
    }
   ],
   "source": [
    "ss = myModule.format(all_df1 ,\"日期（格式“月-周次”）\" ,['及时反馈数','下机批次数','数据及时交付数','数据交付总数'])\n",
    "tt = ss.get_total_ratio([['反馈及时率' ,'及时反馈数' , '下机批次数','/'], \n",
    "                    ['数据及时交付率','数据及时交付数','数据交付总数','/']])\n",
    "myModule.myPlot(tt).plot('line')\n",
    "\n",
    "ss = myModule.format(all_df1 ,\"month\" ,['及时反馈数','下机批次数','数据及时交付数','数据交付总数'])\n",
    "tt = ss.get_total_ratio([['反馈及时率' ,'及时反馈数' , '下机批次数','/'], \n",
    "                    ['数据及时交付率','数据及时交付数','数据交付总数','/']])\n",
    "myModule.myPlot(tt).plot('line')\n"
   ]
  },
  {
   "cell_type": "markdown",
   "metadata": {},
   "source": [
    "#### 24h拆分过滤率和48h拆分过滤率"
   ]
  },
  {
   "cell_type": "code",
   "execution_count": 68,
   "metadata": {
    "collapsed": false
   },
   "outputs": [
    {
     "data": {
      "application/vnd.plotly.v1+json": {
       "data": [
        {
         "name": "24h拆分过滤率",
         "type": "scatter",
         "uid": "ad1dfcf2-d1e5-11e8-8ddb-a41f72875c19",
         "x": [
          "10-2",
          "8-1",
          "8-2",
          "8-3",
          "8-4",
          "8-5",
          "9-1",
          "9-2",
          "9-3",
          "9-4"
         ],
         "y": [
          0.45714285714285713,
          0.6271186440677966,
          0.5359116022099447,
          0.6787878787878788,
          0.9192546583850931,
          0.71,
          0.7286432160804021,
          0.782258064516129,
          0.7426470588235294,
          0.7556818181818182
         ]
        },
        {
         "name": "48h拆分过滤率",
         "type": "scatter",
         "uid": "ad1dfcf3-d1e5-11e8-8ddb-a41f72875c19",
         "x": [
          "10-2",
          "8-1",
          "8-2",
          "8-3",
          "8-4",
          "8-5",
          "9-1",
          "9-2",
          "9-3",
          "9-4"
         ],
         "y": [
          0.6285714285714286,
          0.923728813559322,
          0.8121546961325967,
          0.9757575757575757,
          0.9751552795031055,
          0.79,
          0.8492462311557789,
          0.9516129032258065,
          0.7941176470588235,
          0.8181818181818182
         ]
        }
       ],
       "layout": {
        "title": "24h拆分过滤率&48h拆分过滤率周趋势图",
        "xaxis": {
         "mirror": "all",
         "nticks": 20,
         "showgrid": true,
         "showline": true,
         "title": "周",
         "type": "category",
         "zeroline": true
        },
        "yaxis": {
         "mirror": "all",
         "nticks": 20,
         "showgrid": true,
         "showline": true,
         "title": "24h拆分过滤率&48h拆分过滤率",
         "zeroline": true
        }
       }
      },
      "text/html": [
       "<div id=\"b609e8fa-760f-40b1-b4bc-54060d498a76\" style=\"height: 525px; width: 100%;\" class=\"plotly-graph-div\"></div><script type=\"text/javascript\">require([\"plotly\"], function(Plotly) { window.PLOTLYENV=window.PLOTLYENV || {};window.PLOTLYENV.BASE_URL=\"https://plot.ly\";Plotly.newPlot(\"b609e8fa-760f-40b1-b4bc-54060d498a76\", [{\"name\": \"24h\\u62c6\\u5206\\u8fc7\\u6ee4\\u7387\", \"x\": [\"10-2\", \"8-1\", \"8-2\", \"8-3\", \"8-4\", \"8-5\", \"9-1\", \"9-2\", \"9-3\", \"9-4\"], \"y\": [0.45714285714285713, 0.6271186440677966, 0.5359116022099447, 0.6787878787878788, 0.9192546583850931, 0.71, 0.7286432160804021, 0.782258064516129, 0.7426470588235294, 0.7556818181818182], \"type\": \"scatter\", \"uid\": \"ad1dfcf2-d1e5-11e8-8ddb-a41f72875c19\"}, {\"name\": \"48h\\u62c6\\u5206\\u8fc7\\u6ee4\\u7387\", \"x\": [\"10-2\", \"8-1\", \"8-2\", \"8-3\", \"8-4\", \"8-5\", \"9-1\", \"9-2\", \"9-3\", \"9-4\"], \"y\": [0.6285714285714286, 0.923728813559322, 0.8121546961325967, 0.9757575757575757, 0.9751552795031055, 0.79, 0.8492462311557789, 0.9516129032258065, 0.7941176470588235, 0.8181818181818182], \"type\": \"scatter\", \"uid\": \"ad1dfcf3-d1e5-11e8-8ddb-a41f72875c19\"}], {\"title\": \"24h\\u62c6\\u5206\\u8fc7\\u6ee4\\u7387&48h\\u62c6\\u5206\\u8fc7\\u6ee4\\u7387\\u5468\\u8d8b\\u52bf\\u56fe\", \"xaxis\": {\"mirror\": \"all\", \"nticks\": 20, \"showgrid\": true, \"showline\": true, \"title\": \"\\u5468\", \"type\": \"category\", \"zeroline\": true}, \"yaxis\": {\"mirror\": \"all\", \"nticks\": 20, \"showgrid\": true, \"showline\": true, \"title\": \"24h\\u62c6\\u5206\\u8fc7\\u6ee4\\u7387&48h\\u62c6\\u5206\\u8fc7\\u6ee4\\u7387\", \"zeroline\": true}}, {\"showLink\": true, \"linkText\": \"Export to plot.ly\"})});</script>"
      ],
      "text/vnd.plotly.v1+html": [
       "<div id=\"b609e8fa-760f-40b1-b4bc-54060d498a76\" style=\"height: 525px; width: 100%;\" class=\"plotly-graph-div\"></div><script type=\"text/javascript\">require([\"plotly\"], function(Plotly) { window.PLOTLYENV=window.PLOTLYENV || {};window.PLOTLYENV.BASE_URL=\"https://plot.ly\";Plotly.newPlot(\"b609e8fa-760f-40b1-b4bc-54060d498a76\", [{\"name\": \"24h\\u62c6\\u5206\\u8fc7\\u6ee4\\u7387\", \"x\": [\"10-2\", \"8-1\", \"8-2\", \"8-3\", \"8-4\", \"8-5\", \"9-1\", \"9-2\", \"9-3\", \"9-4\"], \"y\": [0.45714285714285713, 0.6271186440677966, 0.5359116022099447, 0.6787878787878788, 0.9192546583850931, 0.71, 0.7286432160804021, 0.782258064516129, 0.7426470588235294, 0.7556818181818182], \"type\": \"scatter\", \"uid\": \"ad1dfcf2-d1e5-11e8-8ddb-a41f72875c19\"}, {\"name\": \"48h\\u62c6\\u5206\\u8fc7\\u6ee4\\u7387\", \"x\": [\"10-2\", \"8-1\", \"8-2\", \"8-3\", \"8-4\", \"8-5\", \"9-1\", \"9-2\", \"9-3\", \"9-4\"], \"y\": [0.6285714285714286, 0.923728813559322, 0.8121546961325967, 0.9757575757575757, 0.9751552795031055, 0.79, 0.8492462311557789, 0.9516129032258065, 0.7941176470588235, 0.8181818181818182], \"type\": \"scatter\", \"uid\": \"ad1dfcf3-d1e5-11e8-8ddb-a41f72875c19\"}], {\"title\": \"24h\\u62c6\\u5206\\u8fc7\\u6ee4\\u7387&48h\\u62c6\\u5206\\u8fc7\\u6ee4\\u7387\\u5468\\u8d8b\\u52bf\\u56fe\", \"xaxis\": {\"mirror\": \"all\", \"nticks\": 20, \"showgrid\": true, \"showline\": true, \"title\": \"\\u5468\", \"type\": \"category\", \"zeroline\": true}, \"yaxis\": {\"mirror\": \"all\", \"nticks\": 20, \"showgrid\": true, \"showline\": true, \"title\": \"24h\\u62c6\\u5206\\u8fc7\\u6ee4\\u7387&48h\\u62c6\\u5206\\u8fc7\\u6ee4\\u7387\", \"zeroline\": true}}, {\"showLink\": true, \"linkText\": \"Export to plot.ly\"})});</script>"
      ]
     },
     "metadata": {},
     "output_type": "display_data"
    },
    {
     "data": {
      "application/vnd.plotly.v1+json": {
       "data": [
        {
         "name": "24h拆分过滤率",
         "type": "scatter",
         "uid": "ad1dfcf4-d1e5-11e8-8ddb-a41f72875c19",
         "x": [
          8,
          9,
          10
         ],
         "y": [
          0.6924137931034483,
          0.7496062992125985,
          0.45714285714285713
         ]
        },
        {
         "name": "48h拆分过滤率",
         "type": "scatter",
         "uid": "ad1dfcf5-d1e5-11e8-8ddb-a41f72875c19",
         "x": [
          8,
          9,
          10
         ],
         "y": [
          0.9006896551724138,
          0.8488188976377953,
          0.6285714285714286
         ]
        }
       ],
       "layout": {
        "title": "24h拆分过滤率&48h拆分过滤率周趋势图",
        "xaxis": {
         "mirror": "all",
         "nticks": 20,
         "showgrid": true,
         "showline": true,
         "title": "周",
         "type": "category",
         "zeroline": true
        },
        "yaxis": {
         "mirror": "all",
         "nticks": 20,
         "showgrid": true,
         "showline": true,
         "title": "24h拆分过滤率&48h拆分过滤率",
         "zeroline": true
        }
       }
      },
      "text/html": [
       "<div id=\"f1e65360-8fcb-43f2-8a49-6fd265ec1aff\" style=\"height: 525px; width: 100%;\" class=\"plotly-graph-div\"></div><script type=\"text/javascript\">require([\"plotly\"], function(Plotly) { window.PLOTLYENV=window.PLOTLYENV || {};window.PLOTLYENV.BASE_URL=\"https://plot.ly\";Plotly.newPlot(\"f1e65360-8fcb-43f2-8a49-6fd265ec1aff\", [{\"name\": \"24h\\u62c6\\u5206\\u8fc7\\u6ee4\\u7387\", \"x\": [8, 9, 10], \"y\": [0.6924137931034483, 0.7496062992125985, 0.45714285714285713], \"type\": \"scatter\", \"uid\": \"ad1dfcf4-d1e5-11e8-8ddb-a41f72875c19\"}, {\"name\": \"48h\\u62c6\\u5206\\u8fc7\\u6ee4\\u7387\", \"x\": [8, 9, 10], \"y\": [0.9006896551724138, 0.8488188976377953, 0.6285714285714286], \"type\": \"scatter\", \"uid\": \"ad1dfcf5-d1e5-11e8-8ddb-a41f72875c19\"}], {\"title\": \"24h\\u62c6\\u5206\\u8fc7\\u6ee4\\u7387&48h\\u62c6\\u5206\\u8fc7\\u6ee4\\u7387\\u5468\\u8d8b\\u52bf\\u56fe\", \"xaxis\": {\"mirror\": \"all\", \"nticks\": 20, \"showgrid\": true, \"showline\": true, \"title\": \"\\u5468\", \"type\": \"category\", \"zeroline\": true}, \"yaxis\": {\"mirror\": \"all\", \"nticks\": 20, \"showgrid\": true, \"showline\": true, \"title\": \"24h\\u62c6\\u5206\\u8fc7\\u6ee4\\u7387&48h\\u62c6\\u5206\\u8fc7\\u6ee4\\u7387\", \"zeroline\": true}}, {\"showLink\": true, \"linkText\": \"Export to plot.ly\"})});</script>"
      ],
      "text/vnd.plotly.v1+html": [
       "<div id=\"f1e65360-8fcb-43f2-8a49-6fd265ec1aff\" style=\"height: 525px; width: 100%;\" class=\"plotly-graph-div\"></div><script type=\"text/javascript\">require([\"plotly\"], function(Plotly) { window.PLOTLYENV=window.PLOTLYENV || {};window.PLOTLYENV.BASE_URL=\"https://plot.ly\";Plotly.newPlot(\"f1e65360-8fcb-43f2-8a49-6fd265ec1aff\", [{\"name\": \"24h\\u62c6\\u5206\\u8fc7\\u6ee4\\u7387\", \"x\": [8, 9, 10], \"y\": [0.6924137931034483, 0.7496062992125985, 0.45714285714285713], \"type\": \"scatter\", \"uid\": \"ad1dfcf4-d1e5-11e8-8ddb-a41f72875c19\"}, {\"name\": \"48h\\u62c6\\u5206\\u8fc7\\u6ee4\\u7387\", \"x\": [8, 9, 10], \"y\": [0.9006896551724138, 0.8488188976377953, 0.6285714285714286], \"type\": \"scatter\", \"uid\": \"ad1dfcf5-d1e5-11e8-8ddb-a41f72875c19\"}], {\"title\": \"24h\\u62c6\\u5206\\u8fc7\\u6ee4\\u7387&48h\\u62c6\\u5206\\u8fc7\\u6ee4\\u7387\\u5468\\u8d8b\\u52bf\\u56fe\", \"xaxis\": {\"mirror\": \"all\", \"nticks\": 20, \"showgrid\": true, \"showline\": true, \"title\": \"\\u5468\", \"type\": \"category\", \"zeroline\": true}, \"yaxis\": {\"mirror\": \"all\", \"nticks\": 20, \"showgrid\": true, \"showline\": true, \"title\": \"24h\\u62c6\\u5206\\u8fc7\\u6ee4\\u7387&48h\\u62c6\\u5206\\u8fc7\\u6ee4\\u7387\", \"zeroline\": true}}, {\"showLink\": true, \"linkText\": \"Export to plot.ly\"})});</script>"
      ]
     },
     "metadata": {},
     "output_type": "display_data"
    }
   ],
   "source": [
    "ss = myModule.format(all_df1 ,\"日期（格式“月-周次”）\" ,['24h完成批次数', '下机批次数','48h完成批次数'])\n",
    "tt = ss.get_total_ratio([['24h拆分过滤率' ,'24h完成批次数', '下机批次数','/'], \n",
    "                    ['48h拆分过滤率','48h完成批次数', '下机批次数','/']])\n",
    "myModule.myPlot(tt).plot('line')\n",
    "\n",
    "ss = myModule.format(all_df1 ,\"month\" ,['24h完成批次数', '下机批次数','48h完成批次数'])\n",
    "tt = ss.get_total_ratio([['24h拆分过滤率' ,'24h完成批次数', '下机批次数','/'], \n",
    "                    ['48h拆分过滤率','48h完成批次数', '下机批次数','/']])\n",
    "myModule.myPlot(tt).plot('line')"
   ]
  },
  {
   "cell_type": "markdown",
   "metadata": {},
   "source": [
    "#### 平均反馈时长"
   ]
  },
  {
   "cell_type": "code",
   "execution_count": 69,
   "metadata": {
    "collapsed": false
   },
   "outputs": [
    {
     "data": {
      "application/vnd.plotly.v1+json": {
       "data": [
        {
         "name": "平均反馈时长",
         "type": "scatter",
         "uid": "ad1dfcf6-d1e5-11e8-8ddb-a41f72875c19",
         "x": [
          "10-2",
          "8-1",
          "8-2",
          "8-3",
          "8-4",
          "8-5",
          "9-1",
          "9-2",
          "9-3",
          "9-4"
         ],
         "y": [
          2.7965714285714283,
          6.4072881355932205,
          4.446298342541437,
          5.337454545454546,
          4.985962732919255,
          6.498000000000001,
          9.664371859296482,
          7.4699193548387095,
          3.604632352941177,
          3.2088068181818183
         ]
        }
       ],
       "layout": {
        "title": "平均反馈时长周趋势图",
        "xaxis": {
         "mirror": "all",
         "nticks": 20,
         "showgrid": true,
         "showline": true,
         "title": "周",
         "type": "category",
         "zeroline": true
        },
        "yaxis": {
         "mirror": "all",
         "nticks": 20,
         "showgrid": true,
         "showline": true,
         "title": "平均反馈时长",
         "zeroline": true
        }
       }
      },
      "text/html": [
       "<div id=\"0a25e8ac-cd43-44e9-bbb1-2b8bb5a8463f\" style=\"height: 525px; width: 100%;\" class=\"plotly-graph-div\"></div><script type=\"text/javascript\">require([\"plotly\"], function(Plotly) { window.PLOTLYENV=window.PLOTLYENV || {};window.PLOTLYENV.BASE_URL=\"https://plot.ly\";Plotly.newPlot(\"0a25e8ac-cd43-44e9-bbb1-2b8bb5a8463f\", [{\"name\": \"\\u5e73\\u5747\\u53cd\\u9988\\u65f6\\u957f\", \"x\": [\"10-2\", \"8-1\", \"8-2\", \"8-3\", \"8-4\", \"8-5\", \"9-1\", \"9-2\", \"9-3\", \"9-4\"], \"y\": [2.7965714285714283, 6.4072881355932205, 4.446298342541437, 5.337454545454546, 4.985962732919255, 6.498000000000001, 9.664371859296482, 7.4699193548387095, 3.604632352941177, 3.2088068181818183], \"type\": \"scatter\", \"uid\": \"ad1dfcf6-d1e5-11e8-8ddb-a41f72875c19\"}], {\"title\": \"\\u5e73\\u5747\\u53cd\\u9988\\u65f6\\u957f\\u5468\\u8d8b\\u52bf\\u56fe\", \"xaxis\": {\"mirror\": \"all\", \"nticks\": 20, \"showgrid\": true, \"showline\": true, \"title\": \"\\u5468\", \"type\": \"category\", \"zeroline\": true}, \"yaxis\": {\"mirror\": \"all\", \"nticks\": 20, \"showgrid\": true, \"showline\": true, \"title\": \"\\u5e73\\u5747\\u53cd\\u9988\\u65f6\\u957f\", \"zeroline\": true}}, {\"showLink\": true, \"linkText\": \"Export to plot.ly\"})});</script>"
      ],
      "text/vnd.plotly.v1+html": [
       "<div id=\"0a25e8ac-cd43-44e9-bbb1-2b8bb5a8463f\" style=\"height: 525px; width: 100%;\" class=\"plotly-graph-div\"></div><script type=\"text/javascript\">require([\"plotly\"], function(Plotly) { window.PLOTLYENV=window.PLOTLYENV || {};window.PLOTLYENV.BASE_URL=\"https://plot.ly\";Plotly.newPlot(\"0a25e8ac-cd43-44e9-bbb1-2b8bb5a8463f\", [{\"name\": \"\\u5e73\\u5747\\u53cd\\u9988\\u65f6\\u957f\", \"x\": [\"10-2\", \"8-1\", \"8-2\", \"8-3\", \"8-4\", \"8-5\", \"9-1\", \"9-2\", \"9-3\", \"9-4\"], \"y\": [2.7965714285714283, 6.4072881355932205, 4.446298342541437, 5.337454545454546, 4.985962732919255, 6.498000000000001, 9.664371859296482, 7.4699193548387095, 3.604632352941177, 3.2088068181818183], \"type\": \"scatter\", \"uid\": \"ad1dfcf6-d1e5-11e8-8ddb-a41f72875c19\"}], {\"title\": \"\\u5e73\\u5747\\u53cd\\u9988\\u65f6\\u957f\\u5468\\u8d8b\\u52bf\\u56fe\", \"xaxis\": {\"mirror\": \"all\", \"nticks\": 20, \"showgrid\": true, \"showline\": true, \"title\": \"\\u5468\", \"type\": \"category\", \"zeroline\": true}, \"yaxis\": {\"mirror\": \"all\", \"nticks\": 20, \"showgrid\": true, \"showline\": true, \"title\": \"\\u5e73\\u5747\\u53cd\\u9988\\u65f6\\u957f\", \"zeroline\": true}}, {\"showLink\": true, \"linkText\": \"Export to plot.ly\"})});</script>"
      ]
     },
     "metadata": {},
     "output_type": "display_data"
    },
    {
     "data": {
      "application/vnd.plotly.v1+json": {
       "data": [
        {
         "name": "平均反馈时长",
         "type": "scatter",
         "uid": "ad1dfcf7-d1e5-11e8-8ddb-a41f72875c19",
         "x": [
          8,
          9,
          10
         ],
         "y": [
          5.371117241379311,
          6.148755905511811,
          2.7965714285714283
         ]
        }
       ],
       "layout": {
        "title": "平均反馈时长周趋势图",
        "xaxis": {
         "mirror": "all",
         "nticks": 20,
         "showgrid": true,
         "showline": true,
         "title": "周",
         "type": "category",
         "zeroline": true
        },
        "yaxis": {
         "mirror": "all",
         "nticks": 20,
         "showgrid": true,
         "showline": true,
         "title": "平均反馈时长",
         "zeroline": true
        }
       }
      },
      "text/html": [
       "<div id=\"f16f14a0-b78e-4c97-98b1-f6786f62d47b\" style=\"height: 525px; width: 100%;\" class=\"plotly-graph-div\"></div><script type=\"text/javascript\">require([\"plotly\"], function(Plotly) { window.PLOTLYENV=window.PLOTLYENV || {};window.PLOTLYENV.BASE_URL=\"https://plot.ly\";Plotly.newPlot(\"f16f14a0-b78e-4c97-98b1-f6786f62d47b\", [{\"name\": \"\\u5e73\\u5747\\u53cd\\u9988\\u65f6\\u957f\", \"x\": [8, 9, 10], \"y\": [5.371117241379311, 6.148755905511811, 2.7965714285714283], \"type\": \"scatter\", \"uid\": \"ad1dfcf7-d1e5-11e8-8ddb-a41f72875c19\"}], {\"title\": \"\\u5e73\\u5747\\u53cd\\u9988\\u65f6\\u957f\\u5468\\u8d8b\\u52bf\\u56fe\", \"xaxis\": {\"mirror\": \"all\", \"nticks\": 20, \"showgrid\": true, \"showline\": true, \"title\": \"\\u5468\", \"type\": \"category\", \"zeroline\": true}, \"yaxis\": {\"mirror\": \"all\", \"nticks\": 20, \"showgrid\": true, \"showline\": true, \"title\": \"\\u5e73\\u5747\\u53cd\\u9988\\u65f6\\u957f\", \"zeroline\": true}}, {\"showLink\": true, \"linkText\": \"Export to plot.ly\"})});</script>"
      ],
      "text/vnd.plotly.v1+html": [
       "<div id=\"f16f14a0-b78e-4c97-98b1-f6786f62d47b\" style=\"height: 525px; width: 100%;\" class=\"plotly-graph-div\"></div><script type=\"text/javascript\">require([\"plotly\"], function(Plotly) { window.PLOTLYENV=window.PLOTLYENV || {};window.PLOTLYENV.BASE_URL=\"https://plot.ly\";Plotly.newPlot(\"f16f14a0-b78e-4c97-98b1-f6786f62d47b\", [{\"name\": \"\\u5e73\\u5747\\u53cd\\u9988\\u65f6\\u957f\", \"x\": [8, 9, 10], \"y\": [5.371117241379311, 6.148755905511811, 2.7965714285714283], \"type\": \"scatter\", \"uid\": \"ad1dfcf7-d1e5-11e8-8ddb-a41f72875c19\"}], {\"title\": \"\\u5e73\\u5747\\u53cd\\u9988\\u65f6\\u957f\\u5468\\u8d8b\\u52bf\\u56fe\", \"xaxis\": {\"mirror\": \"all\", \"nticks\": 20, \"showgrid\": true, \"showline\": true, \"title\": \"\\u5468\", \"type\": \"category\", \"zeroline\": true}, \"yaxis\": {\"mirror\": \"all\", \"nticks\": 20, \"showgrid\": true, \"showline\": true, \"title\": \"\\u5e73\\u5747\\u53cd\\u9988\\u65f6\\u957f\", \"zeroline\": true}}, {\"showLink\": true, \"linkText\": \"Export to plot.ly\"})});</script>"
      ]
     },
     "metadata": {},
     "output_type": "display_data"
    }
   ],
   "source": [
    "ss = myModule.format(all_df1 ,\"日期（格式“月-周次”）\" ,['反馈总时长','下机批次数'])\n",
    "tt = ss.get_total_ratio([['平均反馈时长','反馈总时长','下机批次数','/']] )\n",
    "myModule.myPlot(tt).plot('line')\n",
    "\n",
    "ss = myModule.format(all_df1 ,\"month\" ,['反馈总时长','下机批次数'])\n",
    "tt = ss.get_total_ratio([['平均反馈时长','反馈总时长','下机批次数','/']] )\n",
    "myModule.myPlot(tt).plot('line')\n"
   ]
  },
  {
   "cell_type": "markdown",
   "metadata": {},
   "source": [
    "### 异常"
   ]
  },
  {
   "cell_type": "markdown",
   "metadata": {},
   "source": [
    "#### 个性化拆分"
   ]
  },
  {
   "cell_type": "code",
   "execution_count": 70,
   "metadata": {
    "collapsed": false
   },
   "outputs": [
    {
     "data": {
      "application/vnd.plotly.v1+json": {
       "data": [
        {
         "name": "个性化数",
         "type": "scatter",
         "uid": "ad1dfcf8-d1e5-11e8-8ddb-a41f72875c19",
         "x": [
          "10-2",
          "8-1",
          "8-2",
          "8-3",
          "8-4",
          "8-5",
          "9-1",
          "9-2",
          "9-3",
          "9-4"
         ],
         "y": [
          2,
          0,
          0,
          0,
          0,
          0,
          0,
          0,
          1,
          3
         ]
        }
       ],
       "layout": {
        "title": "个性化数周趋势图",
        "xaxis": {
         "mirror": "all",
         "nticks": 20,
         "showgrid": true,
         "showline": true,
         "title": "周",
         "type": "category",
         "zeroline": true
        },
        "yaxis": {
         "mirror": "all",
         "nticks": 20,
         "showgrid": true,
         "showline": true,
         "title": "个性化数",
         "zeroline": true
        }
       }
      },
      "text/html": [
       "<div id=\"be3468e0-0b7e-42f6-8875-776865e7855e\" style=\"height: 525px; width: 100%;\" class=\"plotly-graph-div\"></div><script type=\"text/javascript\">require([\"plotly\"], function(Plotly) { window.PLOTLYENV=window.PLOTLYENV || {};window.PLOTLYENV.BASE_URL=\"https://plot.ly\";Plotly.newPlot(\"be3468e0-0b7e-42f6-8875-776865e7855e\", [{\"name\": \"\\u4e2a\\u6027\\u5316\\u6570\", \"x\": [\"10-2\", \"8-1\", \"8-2\", \"8-3\", \"8-4\", \"8-5\", \"9-1\", \"9-2\", \"9-3\", \"9-4\"], \"y\": [2, 0, 0, 0, 0, 0, 0, 0, 1, 3], \"type\": \"scatter\", \"uid\": \"ad1dfcf8-d1e5-11e8-8ddb-a41f72875c19\"}], {\"title\": \"\\u4e2a\\u6027\\u5316\\u6570\\u5468\\u8d8b\\u52bf\\u56fe\", \"xaxis\": {\"mirror\": \"all\", \"nticks\": 20, \"showgrid\": true, \"showline\": true, \"title\": \"\\u5468\", \"type\": \"category\", \"zeroline\": true}, \"yaxis\": {\"mirror\": \"all\", \"nticks\": 20, \"showgrid\": true, \"showline\": true, \"title\": \"\\u4e2a\\u6027\\u5316\\u6570\", \"zeroline\": true}}, {\"showLink\": true, \"linkText\": \"Export to plot.ly\"})});</script>"
      ],
      "text/vnd.plotly.v1+html": [
       "<div id=\"be3468e0-0b7e-42f6-8875-776865e7855e\" style=\"height: 525px; width: 100%;\" class=\"plotly-graph-div\"></div><script type=\"text/javascript\">require([\"plotly\"], function(Plotly) { window.PLOTLYENV=window.PLOTLYENV || {};window.PLOTLYENV.BASE_URL=\"https://plot.ly\";Plotly.newPlot(\"be3468e0-0b7e-42f6-8875-776865e7855e\", [{\"name\": \"\\u4e2a\\u6027\\u5316\\u6570\", \"x\": [\"10-2\", \"8-1\", \"8-2\", \"8-3\", \"8-4\", \"8-5\", \"9-1\", \"9-2\", \"9-3\", \"9-4\"], \"y\": [2, 0, 0, 0, 0, 0, 0, 0, 1, 3], \"type\": \"scatter\", \"uid\": \"ad1dfcf8-d1e5-11e8-8ddb-a41f72875c19\"}], {\"title\": \"\\u4e2a\\u6027\\u5316\\u6570\\u5468\\u8d8b\\u52bf\\u56fe\", \"xaxis\": {\"mirror\": \"all\", \"nticks\": 20, \"showgrid\": true, \"showline\": true, \"title\": \"\\u5468\", \"type\": \"category\", \"zeroline\": true}, \"yaxis\": {\"mirror\": \"all\", \"nticks\": 20, \"showgrid\": true, \"showline\": true, \"title\": \"\\u4e2a\\u6027\\u5316\\u6570\", \"zeroline\": true}}, {\"showLink\": true, \"linkText\": \"Export to plot.ly\"})});</script>"
      ]
     },
     "metadata": {},
     "output_type": "display_data"
    },
    {
     "data": {
      "application/vnd.plotly.v1+json": {
       "data": [
        {
         "name": "个性化数",
         "type": "scatter",
         "uid": "ad1dfcf9-d1e5-11e8-8ddb-a41f72875c19",
         "x": [
          8,
          9,
          10
         ],
         "y": [
          0,
          4,
          2
         ]
        }
       ],
       "layout": {
        "title": "个性化数月趋势图",
        "xaxis": {
         "mirror": "all",
         "nticks": 20,
         "showgrid": true,
         "showline": true,
         "title": "月",
         "type": "category",
         "zeroline": true
        },
        "yaxis": {
         "mirror": "all",
         "nticks": 20,
         "showgrid": true,
         "showline": true,
         "title": "个性化数",
         "zeroline": true
        }
       }
      },
      "text/html": [
       "<div id=\"9448739b-17c5-4afc-9e8c-b85947eabf11\" style=\"height: 525px; width: 100%;\" class=\"plotly-graph-div\"></div><script type=\"text/javascript\">require([\"plotly\"], function(Plotly) { window.PLOTLYENV=window.PLOTLYENV || {};window.PLOTLYENV.BASE_URL=\"https://plot.ly\";Plotly.newPlot(\"9448739b-17c5-4afc-9e8c-b85947eabf11\", [{\"name\": \"\\u4e2a\\u6027\\u5316\\u6570\", \"x\": [8, 9, 10], \"y\": [0, 4, 2], \"type\": \"scatter\", \"uid\": \"ad1dfcf9-d1e5-11e8-8ddb-a41f72875c19\"}], {\"title\": \"\\u4e2a\\u6027\\u5316\\u6570\\u6708\\u8d8b\\u52bf\\u56fe\", \"xaxis\": {\"mirror\": \"all\", \"nticks\": 20, \"showgrid\": true, \"showline\": true, \"title\": \"\\u6708\", \"type\": \"category\", \"zeroline\": true}, \"yaxis\": {\"mirror\": \"all\", \"nticks\": 20, \"showgrid\": true, \"showline\": true, \"title\": \"\\u4e2a\\u6027\\u5316\\u6570\", \"zeroline\": true}}, {\"showLink\": true, \"linkText\": \"Export to plot.ly\"})});</script>"
      ],
      "text/vnd.plotly.v1+html": [
       "<div id=\"9448739b-17c5-4afc-9e8c-b85947eabf11\" style=\"height: 525px; width: 100%;\" class=\"plotly-graph-div\"></div><script type=\"text/javascript\">require([\"plotly\"], function(Plotly) { window.PLOTLYENV=window.PLOTLYENV || {};window.PLOTLYENV.BASE_URL=\"https://plot.ly\";Plotly.newPlot(\"9448739b-17c5-4afc-9e8c-b85947eabf11\", [{\"name\": \"\\u4e2a\\u6027\\u5316\\u6570\", \"x\": [8, 9, 10], \"y\": [0, 4, 2], \"type\": \"scatter\", \"uid\": \"ad1dfcf9-d1e5-11e8-8ddb-a41f72875c19\"}], {\"title\": \"\\u4e2a\\u6027\\u5316\\u6570\\u6708\\u8d8b\\u52bf\\u56fe\", \"xaxis\": {\"mirror\": \"all\", \"nticks\": 20, \"showgrid\": true, \"showline\": true, \"title\": \"\\u6708\", \"type\": \"category\", \"zeroline\": true}, \"yaxis\": {\"mirror\": \"all\", \"nticks\": 20, \"showgrid\": true, \"showline\": true, \"title\": \"\\u4e2a\\u6027\\u5316\\u6570\", \"zeroline\": true}}, {\"showLink\": true, \"linkText\": \"Export to plot.ly\"})});</script>"
      ]
     },
     "metadata": {},
     "output_type": "display_data"
    }
   ],
   "source": [
    "ss = myModule.format(all_df1 ,\"日期（格式“月-周次”）\" ,['个性化数'])\n",
    "myModule.myPlot(ss.groupby('sum')).plot('line')\n",
    "\n",
    "ss = myModule.format(all_df1 ,\"month\" ,['个性化数'])\n",
    "myModule.myPlot(ss.groupby('sum')).plot('line','月')"
   ]
  },
  {
   "cell_type": "markdown",
   "metadata": {},
   "source": [
    "#### lims异常数和下单错误数"
   ]
  },
  {
   "cell_type": "code",
   "execution_count": 71,
   "metadata": {
    "collapsed": false
   },
   "outputs": [
    {
     "data": {
      "application/vnd.plotly.v1+json": {
       "data": [
        {
         "name": "下单错误数",
         "type": "scatter",
         "uid": "ad1dfcfa-d1e5-11e8-8ddb-a41f72875c19",
         "x": [
          "10-2",
          "8-1",
          "8-2",
          "8-3",
          "8-4",
          "8-5",
          "9-1",
          "9-2",
          "9-3",
          "9-4"
         ],
         "y": [
          0,
          1,
          0,
          6,
          1,
          1,
          1,
          1,
          0,
          0
         ]
        },
        {
         "name": "lims异常数",
         "type": "scatter",
         "uid": "ad1dfcfb-d1e5-11e8-8ddb-a41f72875c19",
         "x": [
          "10-2",
          "8-1",
          "8-2",
          "8-3",
          "8-4",
          "8-5",
          "9-1",
          "9-2",
          "9-3",
          "9-4"
         ],
         "y": [
          1,
          2,
          2,
          2,
          1,
          2,
          1,
          0,
          0,
          1
         ]
        }
       ],
       "layout": {
        "title": "下单错误数&lims异常数周趋势图",
        "xaxis": {
         "mirror": "all",
         "nticks": 20,
         "showgrid": true,
         "showline": true,
         "title": "周",
         "type": "category",
         "zeroline": true
        },
        "yaxis": {
         "mirror": "all",
         "nticks": 20,
         "showgrid": true,
         "showline": true,
         "title": "下单错误数&lims异常数",
         "zeroline": true
        }
       }
      },
      "text/html": [
       "<div id=\"13d993b0-4f3e-402e-940c-fd236cdd79b1\" style=\"height: 525px; width: 100%;\" class=\"plotly-graph-div\"></div><script type=\"text/javascript\">require([\"plotly\"], function(Plotly) { window.PLOTLYENV=window.PLOTLYENV || {};window.PLOTLYENV.BASE_URL=\"https://plot.ly\";Plotly.newPlot(\"13d993b0-4f3e-402e-940c-fd236cdd79b1\", [{\"name\": \"\\u4e0b\\u5355\\u9519\\u8bef\\u6570\", \"x\": [\"10-2\", \"8-1\", \"8-2\", \"8-3\", \"8-4\", \"8-5\", \"9-1\", \"9-2\", \"9-3\", \"9-4\"], \"y\": [0, 1, 0, 6, 1, 1, 1, 1, 0, 0], \"type\": \"scatter\", \"uid\": \"ad1dfcfa-d1e5-11e8-8ddb-a41f72875c19\"}, {\"name\": \"lims\\u5f02\\u5e38\\u6570\", \"x\": [\"10-2\", \"8-1\", \"8-2\", \"8-3\", \"8-4\", \"8-5\", \"9-1\", \"9-2\", \"9-3\", \"9-4\"], \"y\": [1, 2, 2, 2, 1, 2, 1, 0, 0, 1], \"type\": \"scatter\", \"uid\": \"ad1dfcfb-d1e5-11e8-8ddb-a41f72875c19\"}], {\"title\": \"\\u4e0b\\u5355\\u9519\\u8bef\\u6570&lims\\u5f02\\u5e38\\u6570\\u5468\\u8d8b\\u52bf\\u56fe\", \"xaxis\": {\"mirror\": \"all\", \"nticks\": 20, \"showgrid\": true, \"showline\": true, \"title\": \"\\u5468\", \"type\": \"category\", \"zeroline\": true}, \"yaxis\": {\"mirror\": \"all\", \"nticks\": 20, \"showgrid\": true, \"showline\": true, \"title\": \"\\u4e0b\\u5355\\u9519\\u8bef\\u6570&lims\\u5f02\\u5e38\\u6570\", \"zeroline\": true}}, {\"showLink\": true, \"linkText\": \"Export to plot.ly\"})});</script>"
      ],
      "text/vnd.plotly.v1+html": [
       "<div id=\"13d993b0-4f3e-402e-940c-fd236cdd79b1\" style=\"height: 525px; width: 100%;\" class=\"plotly-graph-div\"></div><script type=\"text/javascript\">require([\"plotly\"], function(Plotly) { window.PLOTLYENV=window.PLOTLYENV || {};window.PLOTLYENV.BASE_URL=\"https://plot.ly\";Plotly.newPlot(\"13d993b0-4f3e-402e-940c-fd236cdd79b1\", [{\"name\": \"\\u4e0b\\u5355\\u9519\\u8bef\\u6570\", \"x\": [\"10-2\", \"8-1\", \"8-2\", \"8-3\", \"8-4\", \"8-5\", \"9-1\", \"9-2\", \"9-3\", \"9-4\"], \"y\": [0, 1, 0, 6, 1, 1, 1, 1, 0, 0], \"type\": \"scatter\", \"uid\": \"ad1dfcfa-d1e5-11e8-8ddb-a41f72875c19\"}, {\"name\": \"lims\\u5f02\\u5e38\\u6570\", \"x\": [\"10-2\", \"8-1\", \"8-2\", \"8-3\", \"8-4\", \"8-5\", \"9-1\", \"9-2\", \"9-3\", \"9-4\"], \"y\": [1, 2, 2, 2, 1, 2, 1, 0, 0, 1], \"type\": \"scatter\", \"uid\": \"ad1dfcfb-d1e5-11e8-8ddb-a41f72875c19\"}], {\"title\": \"\\u4e0b\\u5355\\u9519\\u8bef\\u6570&lims\\u5f02\\u5e38\\u6570\\u5468\\u8d8b\\u52bf\\u56fe\", \"xaxis\": {\"mirror\": \"all\", \"nticks\": 20, \"showgrid\": true, \"showline\": true, \"title\": \"\\u5468\", \"type\": \"category\", \"zeroline\": true}, \"yaxis\": {\"mirror\": \"all\", \"nticks\": 20, \"showgrid\": true, \"showline\": true, \"title\": \"\\u4e0b\\u5355\\u9519\\u8bef\\u6570&lims\\u5f02\\u5e38\\u6570\", \"zeroline\": true}}, {\"showLink\": true, \"linkText\": \"Export to plot.ly\"})});</script>"
      ]
     },
     "metadata": {},
     "output_type": "display_data"
    },
    {
     "data": {
      "application/vnd.plotly.v1+json": {
       "data": [
        {
         "name": "下单错误数",
         "type": "scatter",
         "uid": "adee8366-d1e5-11e8-8ddb-a41f72875c19",
         "x": [
          8,
          9,
          10
         ],
         "y": [
          9,
          2,
          0
         ]
        },
        {
         "name": "lims异常数",
         "type": "scatter",
         "uid": "adee8367-d1e5-11e8-8ddb-a41f72875c19",
         "x": [
          8,
          9,
          10
         ],
         "y": [
          9,
          2,
          1
         ]
        }
       ],
       "layout": {
        "title": "下单错误数&lims异常数月趋势图",
        "xaxis": {
         "mirror": "all",
         "nticks": 20,
         "showgrid": true,
         "showline": true,
         "title": "月",
         "type": "category",
         "zeroline": true
        },
        "yaxis": {
         "mirror": "all",
         "nticks": 20,
         "showgrid": true,
         "showline": true,
         "title": "下单错误数&lims异常数",
         "zeroline": true
        }
       }
      },
      "text/html": [
       "<div id=\"4a251762-dd88-43af-8f19-ea033f04ba34\" style=\"height: 525px; width: 100%;\" class=\"plotly-graph-div\"></div><script type=\"text/javascript\">require([\"plotly\"], function(Plotly) { window.PLOTLYENV=window.PLOTLYENV || {};window.PLOTLYENV.BASE_URL=\"https://plot.ly\";Plotly.newPlot(\"4a251762-dd88-43af-8f19-ea033f04ba34\", [{\"name\": \"\\u4e0b\\u5355\\u9519\\u8bef\\u6570\", \"x\": [8, 9, 10], \"y\": [9, 2, 0], \"type\": \"scatter\", \"uid\": \"adee8366-d1e5-11e8-8ddb-a41f72875c19\"}, {\"name\": \"lims\\u5f02\\u5e38\\u6570\", \"x\": [8, 9, 10], \"y\": [9, 2, 1], \"type\": \"scatter\", \"uid\": \"adee8367-d1e5-11e8-8ddb-a41f72875c19\"}], {\"title\": \"\\u4e0b\\u5355\\u9519\\u8bef\\u6570&lims\\u5f02\\u5e38\\u6570\\u6708\\u8d8b\\u52bf\\u56fe\", \"xaxis\": {\"mirror\": \"all\", \"nticks\": 20, \"showgrid\": true, \"showline\": true, \"title\": \"\\u6708\", \"type\": \"category\", \"zeroline\": true}, \"yaxis\": {\"mirror\": \"all\", \"nticks\": 20, \"showgrid\": true, \"showline\": true, \"title\": \"\\u4e0b\\u5355\\u9519\\u8bef\\u6570&lims\\u5f02\\u5e38\\u6570\", \"zeroline\": true}}, {\"showLink\": true, \"linkText\": \"Export to plot.ly\"})});</script>"
      ],
      "text/vnd.plotly.v1+html": [
       "<div id=\"4a251762-dd88-43af-8f19-ea033f04ba34\" style=\"height: 525px; width: 100%;\" class=\"plotly-graph-div\"></div><script type=\"text/javascript\">require([\"plotly\"], function(Plotly) { window.PLOTLYENV=window.PLOTLYENV || {};window.PLOTLYENV.BASE_URL=\"https://plot.ly\";Plotly.newPlot(\"4a251762-dd88-43af-8f19-ea033f04ba34\", [{\"name\": \"\\u4e0b\\u5355\\u9519\\u8bef\\u6570\", \"x\": [8, 9, 10], \"y\": [9, 2, 0], \"type\": \"scatter\", \"uid\": \"adee8366-d1e5-11e8-8ddb-a41f72875c19\"}, {\"name\": \"lims\\u5f02\\u5e38\\u6570\", \"x\": [8, 9, 10], \"y\": [9, 2, 1], \"type\": \"scatter\", \"uid\": \"adee8367-d1e5-11e8-8ddb-a41f72875c19\"}], {\"title\": \"\\u4e0b\\u5355\\u9519\\u8bef\\u6570&lims\\u5f02\\u5e38\\u6570\\u6708\\u8d8b\\u52bf\\u56fe\", \"xaxis\": {\"mirror\": \"all\", \"nticks\": 20, \"showgrid\": true, \"showline\": true, \"title\": \"\\u6708\", \"type\": \"category\", \"zeroline\": true}, \"yaxis\": {\"mirror\": \"all\", \"nticks\": 20, \"showgrid\": true, \"showline\": true, \"title\": \"\\u4e0b\\u5355\\u9519\\u8bef\\u6570&lims\\u5f02\\u5e38\\u6570\", \"zeroline\": true}}, {\"showLink\": true, \"linkText\": \"Export to plot.ly\"})});</script>"
      ]
     },
     "metadata": {},
     "output_type": "display_data"
    }
   ],
   "source": [
    "ss = myModule.format(all_df1 ,\"日期（格式“月-周次”）\" ,['lims异常数' , '下单错误数'])\n",
    "myModule.myPlot(ss.groupby('sum')).plot('line')\n",
    "\n",
    "ss = myModule.format(all_df1 ,\"month\" ,['lims异常数' , '下单错误数'])\n",
    "myModule.myPlot(ss.groupby('sum')).plot('line','月')"
   ]
  },
  {
   "cell_type": "markdown",
   "metadata": {},
   "source": [
    "#### 过滤流程异常数"
   ]
  },
  {
   "cell_type": "code",
   "execution_count": 72,
   "metadata": {
    "collapsed": false
   },
   "outputs": [
    {
     "data": {
      "application/vnd.plotly.v1+json": {
       "data": [
        {
         "name": "过滤流程异常数",
         "type": "scatter",
         "uid": "adee8368-d1e5-11e8-8ddb-a41f72875c19",
         "x": [
          "10-2",
          "8-1",
          "8-2",
          "8-3",
          "8-4",
          "8-5",
          "9-1",
          "9-2",
          "9-3",
          "9-4"
         ],
         "y": [
          0,
          0,
          1,
          0,
          0,
          2,
          1,
          0,
          0,
          0
         ]
        }
       ],
       "layout": {
        "title": "过滤流程异常数周趋势图",
        "xaxis": {
         "mirror": "all",
         "nticks": 20,
         "showgrid": true,
         "showline": true,
         "title": "周",
         "type": "category",
         "zeroline": true
        },
        "yaxis": {
         "mirror": "all",
         "nticks": 20,
         "showgrid": true,
         "showline": true,
         "title": "过滤流程异常数",
         "zeroline": true
        }
       }
      },
      "text/html": [
       "<div id=\"e874b9b6-004e-490b-aa0a-69a608864ca6\" style=\"height: 525px; width: 100%;\" class=\"plotly-graph-div\"></div><script type=\"text/javascript\">require([\"plotly\"], function(Plotly) { window.PLOTLYENV=window.PLOTLYENV || {};window.PLOTLYENV.BASE_URL=\"https://plot.ly\";Plotly.newPlot(\"e874b9b6-004e-490b-aa0a-69a608864ca6\", [{\"name\": \"\\u8fc7\\u6ee4\\u6d41\\u7a0b\\u5f02\\u5e38\\u6570\", \"x\": [\"10-2\", \"8-1\", \"8-2\", \"8-3\", \"8-4\", \"8-5\", \"9-1\", \"9-2\", \"9-3\", \"9-4\"], \"y\": [0, 0, 1, 0, 0, 2, 1, 0, 0, 0], \"type\": \"scatter\", \"uid\": \"adee8368-d1e5-11e8-8ddb-a41f72875c19\"}], {\"title\": \"\\u8fc7\\u6ee4\\u6d41\\u7a0b\\u5f02\\u5e38\\u6570\\u5468\\u8d8b\\u52bf\\u56fe\", \"xaxis\": {\"mirror\": \"all\", \"nticks\": 20, \"showgrid\": true, \"showline\": true, \"title\": \"\\u5468\", \"type\": \"category\", \"zeroline\": true}, \"yaxis\": {\"mirror\": \"all\", \"nticks\": 20, \"showgrid\": true, \"showline\": true, \"title\": \"\\u8fc7\\u6ee4\\u6d41\\u7a0b\\u5f02\\u5e38\\u6570\", \"zeroline\": true}}, {\"showLink\": true, \"linkText\": \"Export to plot.ly\"})});</script>"
      ],
      "text/vnd.plotly.v1+html": [
       "<div id=\"e874b9b6-004e-490b-aa0a-69a608864ca6\" style=\"height: 525px; width: 100%;\" class=\"plotly-graph-div\"></div><script type=\"text/javascript\">require([\"plotly\"], function(Plotly) { window.PLOTLYENV=window.PLOTLYENV || {};window.PLOTLYENV.BASE_URL=\"https://plot.ly\";Plotly.newPlot(\"e874b9b6-004e-490b-aa0a-69a608864ca6\", [{\"name\": \"\\u8fc7\\u6ee4\\u6d41\\u7a0b\\u5f02\\u5e38\\u6570\", \"x\": [\"10-2\", \"8-1\", \"8-2\", \"8-3\", \"8-4\", \"8-5\", \"9-1\", \"9-2\", \"9-3\", \"9-4\"], \"y\": [0, 0, 1, 0, 0, 2, 1, 0, 0, 0], \"type\": \"scatter\", \"uid\": \"adee8368-d1e5-11e8-8ddb-a41f72875c19\"}], {\"title\": \"\\u8fc7\\u6ee4\\u6d41\\u7a0b\\u5f02\\u5e38\\u6570\\u5468\\u8d8b\\u52bf\\u56fe\", \"xaxis\": {\"mirror\": \"all\", \"nticks\": 20, \"showgrid\": true, \"showline\": true, \"title\": \"\\u5468\", \"type\": \"category\", \"zeroline\": true}, \"yaxis\": {\"mirror\": \"all\", \"nticks\": 20, \"showgrid\": true, \"showline\": true, \"title\": \"\\u8fc7\\u6ee4\\u6d41\\u7a0b\\u5f02\\u5e38\\u6570\", \"zeroline\": true}}, {\"showLink\": true, \"linkText\": \"Export to plot.ly\"})});</script>"
      ]
     },
     "metadata": {},
     "output_type": "display_data"
    },
    {
     "data": {
      "application/vnd.plotly.v1+json": {
       "data": [
        {
         "name": "过滤流程异常数",
         "type": "scatter",
         "uid": "adee8369-d1e5-11e8-8ddb-a41f72875c19",
         "x": [
          8,
          9,
          10
         ],
         "y": [
          3,
          1,
          0
         ]
        }
       ],
       "layout": {
        "title": "过滤流程异常数月趋势图",
        "xaxis": {
         "mirror": "all",
         "nticks": 20,
         "showgrid": true,
         "showline": true,
         "title": "月",
         "type": "category",
         "zeroline": true
        },
        "yaxis": {
         "mirror": "all",
         "nticks": 20,
         "showgrid": true,
         "showline": true,
         "title": "过滤流程异常数",
         "zeroline": true
        }
       }
      },
      "text/html": [
       "<div id=\"c6968dd9-6361-47a1-9299-5863a0137891\" style=\"height: 525px; width: 100%;\" class=\"plotly-graph-div\"></div><script type=\"text/javascript\">require([\"plotly\"], function(Plotly) { window.PLOTLYENV=window.PLOTLYENV || {};window.PLOTLYENV.BASE_URL=\"https://plot.ly\";Plotly.newPlot(\"c6968dd9-6361-47a1-9299-5863a0137891\", [{\"name\": \"\\u8fc7\\u6ee4\\u6d41\\u7a0b\\u5f02\\u5e38\\u6570\", \"x\": [8, 9, 10], \"y\": [3, 1, 0], \"type\": \"scatter\", \"uid\": \"adee8369-d1e5-11e8-8ddb-a41f72875c19\"}], {\"title\": \"\\u8fc7\\u6ee4\\u6d41\\u7a0b\\u5f02\\u5e38\\u6570\\u6708\\u8d8b\\u52bf\\u56fe\", \"xaxis\": {\"mirror\": \"all\", \"nticks\": 20, \"showgrid\": true, \"showline\": true, \"title\": \"\\u6708\", \"type\": \"category\", \"zeroline\": true}, \"yaxis\": {\"mirror\": \"all\", \"nticks\": 20, \"showgrid\": true, \"showline\": true, \"title\": \"\\u8fc7\\u6ee4\\u6d41\\u7a0b\\u5f02\\u5e38\\u6570\", \"zeroline\": true}}, {\"showLink\": true, \"linkText\": \"Export to plot.ly\"})});</script>"
      ],
      "text/vnd.plotly.v1+html": [
       "<div id=\"c6968dd9-6361-47a1-9299-5863a0137891\" style=\"height: 525px; width: 100%;\" class=\"plotly-graph-div\"></div><script type=\"text/javascript\">require([\"plotly\"], function(Plotly) { window.PLOTLYENV=window.PLOTLYENV || {};window.PLOTLYENV.BASE_URL=\"https://plot.ly\";Plotly.newPlot(\"c6968dd9-6361-47a1-9299-5863a0137891\", [{\"name\": \"\\u8fc7\\u6ee4\\u6d41\\u7a0b\\u5f02\\u5e38\\u6570\", \"x\": [8, 9, 10], \"y\": [3, 1, 0], \"type\": \"scatter\", \"uid\": \"adee8369-d1e5-11e8-8ddb-a41f72875c19\"}], {\"title\": \"\\u8fc7\\u6ee4\\u6d41\\u7a0b\\u5f02\\u5e38\\u6570\\u6708\\u8d8b\\u52bf\\u56fe\", \"xaxis\": {\"mirror\": \"all\", \"nticks\": 20, \"showgrid\": true, \"showline\": true, \"title\": \"\\u6708\", \"type\": \"category\", \"zeroline\": true}, \"yaxis\": {\"mirror\": \"all\", \"nticks\": 20, \"showgrid\": true, \"showline\": true, \"title\": \"\\u8fc7\\u6ee4\\u6d41\\u7a0b\\u5f02\\u5e38\\u6570\", \"zeroline\": true}}, {\"showLink\": true, \"linkText\": \"Export to plot.ly\"})});</script>"
      ]
     },
     "metadata": {},
     "output_type": "display_data"
    }
   ],
   "source": [
    "ss = myModule.format(all_df1 ,\"日期（格式“月-周次”）\" ,['过滤流程异常数'])\n",
    "myModule.myPlot(ss.groupby('sum')).plot('line')\n",
    "\n",
    "ss = myModule.format(all_df1 ,\"month\" ,['过滤流程异常数'])\n",
    "myModule.myPlot(ss.groupby('sum')).plot('line','月')"
   ]
  },
  {
   "cell_type": "markdown",
   "metadata": {},
   "source": [
    "## 芯片拆分整体情况"
   ]
  },
  {
   "cell_type": "markdown",
   "metadata": {},
   "source": [
    "### 产能"
   ]
  },
  {
   "cell_type": "markdown",
   "metadata": {},
   "source": [
    "#### 芯片总数和不通过芯片数"
   ]
  },
  {
   "cell_type": "code",
   "execution_count": 73,
   "metadata": {
    "collapsed": false
   },
   "outputs": [
    {
     "data": {
      "application/vnd.plotly.v1+json": {
       "data": [
        {
         "name": "不通过芯片数",
         "type": "scatter",
         "uid": "adee836a-d1e5-11e8-8ddb-a41f72875c19",
         "x": [
          "10-2",
          "8-1",
          "8-2",
          "8-3",
          "8-4",
          "8-5",
          "9-1",
          "9-2",
          "9-3",
          "9-4"
         ],
         "y": [
          16,
          13,
          22,
          20,
          14,
          14,
          15,
          8,
          20,
          18
         ]
        },
        {
         "name": "芯片总数",
         "type": "scatter",
         "uid": "adee836b-d1e5-11e8-8ddb-a41f72875c19",
         "x": [
          "10-2",
          "8-1",
          "8-2",
          "8-3",
          "8-4",
          "8-5",
          "9-1",
          "9-2",
          "9-3",
          "9-4"
         ],
         "y": [
          29,
          27,
          37,
          29,
          33,
          22,
          29,
          26,
          29,
          25
         ]
        }
       ],
       "layout": {
        "title": "不通过芯片数&芯片总数周趋势图",
        "xaxis": {
         "mirror": "all",
         "nticks": 20,
         "showgrid": true,
         "showline": true,
         "title": "周",
         "type": "category",
         "zeroline": true
        },
        "yaxis": {
         "mirror": "all",
         "nticks": 20,
         "showgrid": true,
         "showline": true,
         "title": "不通过芯片数&芯片总数",
         "zeroline": true
        }
       }
      },
      "text/html": [
       "<div id=\"f8a694a7-79df-441b-a88d-ecf6243adfa5\" style=\"height: 525px; width: 100%;\" class=\"plotly-graph-div\"></div><script type=\"text/javascript\">require([\"plotly\"], function(Plotly) { window.PLOTLYENV=window.PLOTLYENV || {};window.PLOTLYENV.BASE_URL=\"https://plot.ly\";Plotly.newPlot(\"f8a694a7-79df-441b-a88d-ecf6243adfa5\", [{\"name\": \"\\u4e0d\\u901a\\u8fc7\\u82af\\u7247\\u6570\", \"x\": [\"10-2\", \"8-1\", \"8-2\", \"8-3\", \"8-4\", \"8-5\", \"9-1\", \"9-2\", \"9-3\", \"9-4\"], \"y\": [16, 13, 22, 20, 14, 14, 15, 8, 20, 18], \"type\": \"scatter\", \"uid\": \"adee836a-d1e5-11e8-8ddb-a41f72875c19\"}, {\"name\": \"\\u82af\\u7247\\u603b\\u6570\", \"x\": [\"10-2\", \"8-1\", \"8-2\", \"8-3\", \"8-4\", \"8-5\", \"9-1\", \"9-2\", \"9-3\", \"9-4\"], \"y\": [29, 27, 37, 29, 33, 22, 29, 26, 29, 25], \"type\": \"scatter\", \"uid\": \"adee836b-d1e5-11e8-8ddb-a41f72875c19\"}], {\"title\": \"\\u4e0d\\u901a\\u8fc7\\u82af\\u7247\\u6570&\\u82af\\u7247\\u603b\\u6570\\u5468\\u8d8b\\u52bf\\u56fe\", \"xaxis\": {\"mirror\": \"all\", \"nticks\": 20, \"showgrid\": true, \"showline\": true, \"title\": \"\\u5468\", \"type\": \"category\", \"zeroline\": true}, \"yaxis\": {\"mirror\": \"all\", \"nticks\": 20, \"showgrid\": true, \"showline\": true, \"title\": \"\\u4e0d\\u901a\\u8fc7\\u82af\\u7247\\u6570&\\u82af\\u7247\\u603b\\u6570\", \"zeroline\": true}}, {\"showLink\": true, \"linkText\": \"Export to plot.ly\"})});</script>"
      ],
      "text/vnd.plotly.v1+html": [
       "<div id=\"f8a694a7-79df-441b-a88d-ecf6243adfa5\" style=\"height: 525px; width: 100%;\" class=\"plotly-graph-div\"></div><script type=\"text/javascript\">require([\"plotly\"], function(Plotly) { window.PLOTLYENV=window.PLOTLYENV || {};window.PLOTLYENV.BASE_URL=\"https://plot.ly\";Plotly.newPlot(\"f8a694a7-79df-441b-a88d-ecf6243adfa5\", [{\"name\": \"\\u4e0d\\u901a\\u8fc7\\u82af\\u7247\\u6570\", \"x\": [\"10-2\", \"8-1\", \"8-2\", \"8-3\", \"8-4\", \"8-5\", \"9-1\", \"9-2\", \"9-3\", \"9-4\"], \"y\": [16, 13, 22, 20, 14, 14, 15, 8, 20, 18], \"type\": \"scatter\", \"uid\": \"adee836a-d1e5-11e8-8ddb-a41f72875c19\"}, {\"name\": \"\\u82af\\u7247\\u603b\\u6570\", \"x\": [\"10-2\", \"8-1\", \"8-2\", \"8-3\", \"8-4\", \"8-5\", \"9-1\", \"9-2\", \"9-3\", \"9-4\"], \"y\": [29, 27, 37, 29, 33, 22, 29, 26, 29, 25], \"type\": \"scatter\", \"uid\": \"adee836b-d1e5-11e8-8ddb-a41f72875c19\"}], {\"title\": \"\\u4e0d\\u901a\\u8fc7\\u82af\\u7247\\u6570&\\u82af\\u7247\\u603b\\u6570\\u5468\\u8d8b\\u52bf\\u56fe\", \"xaxis\": {\"mirror\": \"all\", \"nticks\": 20, \"showgrid\": true, \"showline\": true, \"title\": \"\\u5468\", \"type\": \"category\", \"zeroline\": true}, \"yaxis\": {\"mirror\": \"all\", \"nticks\": 20, \"showgrid\": true, \"showline\": true, \"title\": \"\\u4e0d\\u901a\\u8fc7\\u82af\\u7247\\u6570&\\u82af\\u7247\\u603b\\u6570\", \"zeroline\": true}}, {\"showLink\": true, \"linkText\": \"Export to plot.ly\"})});</script>"
      ]
     },
     "metadata": {},
     "output_type": "display_data"
    },
    {
     "data": {
      "application/vnd.plotly.v1+json": {
       "data": [
        {
         "name": "不通过芯片数",
         "type": "scatter",
         "uid": "adee836c-d1e5-11e8-8ddb-a41f72875c19",
         "x": [
          8,
          9,
          10
         ],
         "y": [
          83,
          61,
          16
         ]
        },
        {
         "name": "芯片总数",
         "type": "scatter",
         "uid": "adee836d-d1e5-11e8-8ddb-a41f72875c19",
         "x": [
          8,
          9,
          10
         ],
         "y": [
          148,
          109,
          29
         ]
        }
       ],
       "layout": {
        "title": "不通过芯片数&芯片总数月趋势图",
        "xaxis": {
         "mirror": "all",
         "nticks": 20,
         "showgrid": true,
         "showline": true,
         "title": "月",
         "type": "category",
         "zeroline": true
        },
        "yaxis": {
         "mirror": "all",
         "nticks": 20,
         "showgrid": true,
         "showline": true,
         "title": "不通过芯片数&芯片总数",
         "zeroline": true
        }
       }
      },
      "text/html": [
       "<div id=\"1ef63484-e301-4ba9-abd4-3bb62f23136e\" style=\"height: 525px; width: 100%;\" class=\"plotly-graph-div\"></div><script type=\"text/javascript\">require([\"plotly\"], function(Plotly) { window.PLOTLYENV=window.PLOTLYENV || {};window.PLOTLYENV.BASE_URL=\"https://plot.ly\";Plotly.newPlot(\"1ef63484-e301-4ba9-abd4-3bb62f23136e\", [{\"name\": \"\\u4e0d\\u901a\\u8fc7\\u82af\\u7247\\u6570\", \"x\": [8, 9, 10], \"y\": [83, 61, 16], \"type\": \"scatter\", \"uid\": \"adee836c-d1e5-11e8-8ddb-a41f72875c19\"}, {\"name\": \"\\u82af\\u7247\\u603b\\u6570\", \"x\": [8, 9, 10], \"y\": [148, 109, 29], \"type\": \"scatter\", \"uid\": \"adee836d-d1e5-11e8-8ddb-a41f72875c19\"}], {\"title\": \"\\u4e0d\\u901a\\u8fc7\\u82af\\u7247\\u6570&\\u82af\\u7247\\u603b\\u6570\\u6708\\u8d8b\\u52bf\\u56fe\", \"xaxis\": {\"mirror\": \"all\", \"nticks\": 20, \"showgrid\": true, \"showline\": true, \"title\": \"\\u6708\", \"type\": \"category\", \"zeroline\": true}, \"yaxis\": {\"mirror\": \"all\", \"nticks\": 20, \"showgrid\": true, \"showline\": true, \"title\": \"\\u4e0d\\u901a\\u8fc7\\u82af\\u7247\\u6570&\\u82af\\u7247\\u603b\\u6570\", \"zeroline\": true}}, {\"showLink\": true, \"linkText\": \"Export to plot.ly\"})});</script>"
      ],
      "text/vnd.plotly.v1+html": [
       "<div id=\"1ef63484-e301-4ba9-abd4-3bb62f23136e\" style=\"height: 525px; width: 100%;\" class=\"plotly-graph-div\"></div><script type=\"text/javascript\">require([\"plotly\"], function(Plotly) { window.PLOTLYENV=window.PLOTLYENV || {};window.PLOTLYENV.BASE_URL=\"https://plot.ly\";Plotly.newPlot(\"1ef63484-e301-4ba9-abd4-3bb62f23136e\", [{\"name\": \"\\u4e0d\\u901a\\u8fc7\\u82af\\u7247\\u6570\", \"x\": [8, 9, 10], \"y\": [83, 61, 16], \"type\": \"scatter\", \"uid\": \"adee836c-d1e5-11e8-8ddb-a41f72875c19\"}, {\"name\": \"\\u82af\\u7247\\u603b\\u6570\", \"x\": [8, 9, 10], \"y\": [148, 109, 29], \"type\": \"scatter\", \"uid\": \"adee836d-d1e5-11e8-8ddb-a41f72875c19\"}], {\"title\": \"\\u4e0d\\u901a\\u8fc7\\u82af\\u7247\\u6570&\\u82af\\u7247\\u603b\\u6570\\u6708\\u8d8b\\u52bf\\u56fe\", \"xaxis\": {\"mirror\": \"all\", \"nticks\": 20, \"showgrid\": true, \"showline\": true, \"title\": \"\\u6708\", \"type\": \"category\", \"zeroline\": true}, \"yaxis\": {\"mirror\": \"all\", \"nticks\": 20, \"showgrid\": true, \"showline\": true, \"title\": \"\\u4e0d\\u901a\\u8fc7\\u82af\\u7247\\u6570&\\u82af\\u7247\\u603b\\u6570\", \"zeroline\": true}}, {\"showLink\": true, \"linkText\": \"Export to plot.ly\"})});</script>"
      ]
     },
     "metadata": {},
     "output_type": "display_data"
    }
   ],
   "source": [
    "ss = myModule.format(all_df2 ,\"日期（格式“月-周次”）\" ,['芯片总数' ,'不通过芯片数' ])\n",
    "myModule.myPlot(ss.groupby('sum')).plot('line')\n",
    "\n",
    "ss = myModule.format(all_df2 ,\"month\" ,['芯片总数' ,'不通过芯片数'])\n",
    "myModule.myPlot(ss.groupby('sum')).plot('line','月')"
   ]
  },
  {
   "cell_type": "markdown",
   "metadata": {},
   "source": [
    "### 效率"
   ]
  },
  {
   "cell_type": "markdown",
   "metadata": {},
   "source": [
    "#### 不合格率"
   ]
  },
  {
   "cell_type": "code",
   "execution_count": 74,
   "metadata": {
    "collapsed": false
   },
   "outputs": [
    {
     "data": {
      "application/vnd.plotly.v1+json": {
       "data": [
        {
         "name": "不合格率",
         "type": "scatter",
         "uid": "adee836e-d1e5-11e8-8ddb-a41f72875c19",
         "x": [
          "10-2",
          "8-1",
          "8-2",
          "8-3",
          "8-4",
          "8-5",
          "9-1",
          "9-2",
          "9-3",
          "9-4"
         ],
         "y": [
          0.5517241379310345,
          0.48148148148148145,
          0.5945945945945946,
          0.6896551724137931,
          0.42424242424242425,
          0.6363636363636364,
          0.5172413793103449,
          0.3076923076923077,
          0.6896551724137931,
          0.72
         ]
        }
       ],
       "layout": {
        "title": "不合格率周趋势图",
        "xaxis": {
         "mirror": "all",
         "nticks": 20,
         "showgrid": true,
         "showline": true,
         "title": "周",
         "type": "category",
         "zeroline": true
        },
        "yaxis": {
         "mirror": "all",
         "nticks": 20,
         "showgrid": true,
         "showline": true,
         "title": "不合格率",
         "zeroline": true
        }
       }
      },
      "text/html": [
       "<div id=\"d6a58d81-e653-4b37-b96a-d813ebf8689f\" style=\"height: 525px; width: 100%;\" class=\"plotly-graph-div\"></div><script type=\"text/javascript\">require([\"plotly\"], function(Plotly) { window.PLOTLYENV=window.PLOTLYENV || {};window.PLOTLYENV.BASE_URL=\"https://plot.ly\";Plotly.newPlot(\"d6a58d81-e653-4b37-b96a-d813ebf8689f\", [{\"name\": \"\\u4e0d\\u5408\\u683c\\u7387\", \"x\": [\"10-2\", \"8-1\", \"8-2\", \"8-3\", \"8-4\", \"8-5\", \"9-1\", \"9-2\", \"9-3\", \"9-4\"], \"y\": [0.5517241379310345, 0.48148148148148145, 0.5945945945945946, 0.6896551724137931, 0.42424242424242425, 0.6363636363636364, 0.5172413793103449, 0.3076923076923077, 0.6896551724137931, 0.72], \"type\": \"scatter\", \"uid\": \"adee836e-d1e5-11e8-8ddb-a41f72875c19\"}], {\"title\": \"\\u4e0d\\u5408\\u683c\\u7387\\u5468\\u8d8b\\u52bf\\u56fe\", \"xaxis\": {\"mirror\": \"all\", \"nticks\": 20, \"showgrid\": true, \"showline\": true, \"title\": \"\\u5468\", \"type\": \"category\", \"zeroline\": true}, \"yaxis\": {\"mirror\": \"all\", \"nticks\": 20, \"showgrid\": true, \"showline\": true, \"title\": \"\\u4e0d\\u5408\\u683c\\u7387\", \"zeroline\": true}}, {\"showLink\": true, \"linkText\": \"Export to plot.ly\"})});</script>"
      ],
      "text/vnd.plotly.v1+html": [
       "<div id=\"d6a58d81-e653-4b37-b96a-d813ebf8689f\" style=\"height: 525px; width: 100%;\" class=\"plotly-graph-div\"></div><script type=\"text/javascript\">require([\"plotly\"], function(Plotly) { window.PLOTLYENV=window.PLOTLYENV || {};window.PLOTLYENV.BASE_URL=\"https://plot.ly\";Plotly.newPlot(\"d6a58d81-e653-4b37-b96a-d813ebf8689f\", [{\"name\": \"\\u4e0d\\u5408\\u683c\\u7387\", \"x\": [\"10-2\", \"8-1\", \"8-2\", \"8-3\", \"8-4\", \"8-5\", \"9-1\", \"9-2\", \"9-3\", \"9-4\"], \"y\": [0.5517241379310345, 0.48148148148148145, 0.5945945945945946, 0.6896551724137931, 0.42424242424242425, 0.6363636363636364, 0.5172413793103449, 0.3076923076923077, 0.6896551724137931, 0.72], \"type\": \"scatter\", \"uid\": \"adee836e-d1e5-11e8-8ddb-a41f72875c19\"}], {\"title\": \"\\u4e0d\\u5408\\u683c\\u7387\\u5468\\u8d8b\\u52bf\\u56fe\", \"xaxis\": {\"mirror\": \"all\", \"nticks\": 20, \"showgrid\": true, \"showline\": true, \"title\": \"\\u5468\", \"type\": \"category\", \"zeroline\": true}, \"yaxis\": {\"mirror\": \"all\", \"nticks\": 20, \"showgrid\": true, \"showline\": true, \"title\": \"\\u4e0d\\u5408\\u683c\\u7387\", \"zeroline\": true}}, {\"showLink\": true, \"linkText\": \"Export to plot.ly\"})});</script>"
      ]
     },
     "metadata": {},
     "output_type": "display_data"
    },
    {
     "data": {
      "application/vnd.plotly.v1+json": {
       "data": [
        {
         "name": "不合格率",
         "type": "bar",
         "uid": "adee836f-d1e5-11e8-8ddb-a41f72875c19",
         "x": [
          8,
          9,
          10
         ],
         "y": [
          0.5608108108108109,
          0.5596330275229358,
          0.5517241379310345
         ]
        }
       ],
       "layout": {
        "title": "不合格率月趋势图",
        "xaxis": {
         "mirror": "all",
         "nticks": 20,
         "showgrid": true,
         "showline": true,
         "title": "月",
         "type": "category",
         "zeroline": true
        },
        "yaxis": {
         "mirror": "all",
         "nticks": 20,
         "showgrid": true,
         "showline": true,
         "title": "不合格率",
         "zeroline": true
        }
       }
      },
      "text/html": [
       "<div id=\"da416ce7-28bd-48e9-a288-a485c20991f1\" style=\"height: 525px; width: 100%;\" class=\"plotly-graph-div\"></div><script type=\"text/javascript\">require([\"plotly\"], function(Plotly) { window.PLOTLYENV=window.PLOTLYENV || {};window.PLOTLYENV.BASE_URL=\"https://plot.ly\";Plotly.newPlot(\"da416ce7-28bd-48e9-a288-a485c20991f1\", [{\"name\": \"\\u4e0d\\u5408\\u683c\\u7387\", \"x\": [8, 9, 10], \"y\": [0.5608108108108109, 0.5596330275229358, 0.5517241379310345], \"type\": \"bar\", \"uid\": \"adee836f-d1e5-11e8-8ddb-a41f72875c19\"}], {\"title\": \"\\u4e0d\\u5408\\u683c\\u7387\\u6708\\u8d8b\\u52bf\\u56fe\", \"xaxis\": {\"mirror\": \"all\", \"nticks\": 20, \"showgrid\": true, \"showline\": true, \"title\": \"\\u6708\", \"type\": \"category\", \"zeroline\": true}, \"yaxis\": {\"mirror\": \"all\", \"nticks\": 20, \"showgrid\": true, \"showline\": true, \"title\": \"\\u4e0d\\u5408\\u683c\\u7387\", \"zeroline\": true}}, {\"showLink\": true, \"linkText\": \"Export to plot.ly\"})});</script>"
      ],
      "text/vnd.plotly.v1+html": [
       "<div id=\"da416ce7-28bd-48e9-a288-a485c20991f1\" style=\"height: 525px; width: 100%;\" class=\"plotly-graph-div\"></div><script type=\"text/javascript\">require([\"plotly\"], function(Plotly) { window.PLOTLYENV=window.PLOTLYENV || {};window.PLOTLYENV.BASE_URL=\"https://plot.ly\";Plotly.newPlot(\"da416ce7-28bd-48e9-a288-a485c20991f1\", [{\"name\": \"\\u4e0d\\u5408\\u683c\\u7387\", \"x\": [8, 9, 10], \"y\": [0.5608108108108109, 0.5596330275229358, 0.5517241379310345], \"type\": \"bar\", \"uid\": \"adee836f-d1e5-11e8-8ddb-a41f72875c19\"}], {\"title\": \"\\u4e0d\\u5408\\u683c\\u7387\\u6708\\u8d8b\\u52bf\\u56fe\", \"xaxis\": {\"mirror\": \"all\", \"nticks\": 20, \"showgrid\": true, \"showline\": true, \"title\": \"\\u6708\", \"type\": \"category\", \"zeroline\": true}, \"yaxis\": {\"mirror\": \"all\", \"nticks\": 20, \"showgrid\": true, \"showline\": true, \"title\": \"\\u4e0d\\u5408\\u683c\\u7387\", \"zeroline\": true}}, {\"showLink\": true, \"linkText\": \"Export to plot.ly\"})});</script>"
      ]
     },
     "metadata": {},
     "output_type": "display_data"
    }
   ],
   "source": [
    "ss = myModule.format(all_df2 ,\"日期（格式“月-周次”）\" ,['不通过芯片数', '芯片总数'])\n",
    "tt = ss.get_total_ratio([['不合格率','不通过芯片数','芯片总数','/']])\n",
    "myModule.myPlot(tt).plot('line')\n",
    "\n",
    "ss = myModule.format(all_df2 ,\"month\" ,['不通过芯片数', '芯片总数'])\n",
    "tt = ss.get_total_ratio([['不合格率','不通过芯片数','芯片总数','/']])\n",
    "myModule.myPlot(tt).plot('bar','月')"
   ]
  },
  {
   "cell_type": "markdown",
   "metadata": {},
   "source": [
    "#### 通过率情况"
   ]
  },
  {
   "cell_type": "code",
   "execution_count": 75,
   "metadata": {
    "collapsed": false
   },
   "outputs": [
    {
     "data": {
      "application/vnd.plotly.v1+json": {
       "data": [
        {
         "name": "48h通过率",
         "type": "scatter",
         "uid": "adee8370-d1e5-11e8-8ddb-a41f72875c19",
         "x": [
          "10-2",
          "8-1",
          "8-2",
          "8-3",
          "8-4",
          "8-5",
          "9-1",
          "9-2",
          "9-3",
          "9-4"
         ],
         "y": [
          0.9655172413793104,
          0.8518518518518519,
          0.7567567567567568,
          0.896551724137931,
          0.9393939393939394,
          0.8636363636363636,
          0.7931034482758621,
          0.8461538461538461,
          0.6896551724137931,
          0.76
         ]
        },
        {
         "name": "24h通过率",
         "type": "scatter",
         "uid": "adee8371-d1e5-11e8-8ddb-a41f72875c19",
         "x": [
          "10-2",
          "8-1",
          "8-2",
          "8-3",
          "8-4",
          "8-5",
          "9-1",
          "9-2",
          "9-3",
          "9-4"
         ],
         "y": [
          0.6896551724137931,
          0.6296296296296297,
          0.5135135135135135,
          0.7586206896551724,
          0.8484848484848485,
          0.7272727272727273,
          0.5862068965517241,
          0.6923076923076923,
          0.6551724137931034,
          0.72
         ]
        },
        {
         "name": "8h通过率",
         "type": "scatter",
         "uid": "adee8372-d1e5-11e8-8ddb-a41f72875c19",
         "x": [
          "10-2",
          "8-1",
          "8-2",
          "8-3",
          "8-4",
          "8-5",
          "9-1",
          "9-2",
          "9-3",
          "9-4"
         ],
         "y": [
          0.4482758620689655,
          0.3333333333333333,
          0.40540540540540543,
          0.5517241379310345,
          0.6060606060606061,
          0.5,
          0.6206896551724138,
          0.6538461538461539,
          0.4827586206896552,
          0.36
         ]
        }
       ],
       "layout": {
        "title": "48h通过率&24h通过率&8h通过率周趋势图",
        "xaxis": {
         "mirror": "all",
         "nticks": 20,
         "showgrid": true,
         "showline": true,
         "title": "周",
         "type": "category",
         "zeroline": true
        },
        "yaxis": {
         "mirror": "all",
         "nticks": 20,
         "showgrid": true,
         "showline": true,
         "title": "48h通过率&24h通过率&8h通过率",
         "zeroline": true
        }
       }
      },
      "text/html": [
       "<div id=\"bcf9e634-c917-404c-b7bd-e57c1b4b3611\" style=\"height: 525px; width: 100%;\" class=\"plotly-graph-div\"></div><script type=\"text/javascript\">require([\"plotly\"], function(Plotly) { window.PLOTLYENV=window.PLOTLYENV || {};window.PLOTLYENV.BASE_URL=\"https://plot.ly\";Plotly.newPlot(\"bcf9e634-c917-404c-b7bd-e57c1b4b3611\", [{\"name\": \"48h\\u901a\\u8fc7\\u7387\", \"x\": [\"10-2\", \"8-1\", \"8-2\", \"8-3\", \"8-4\", \"8-5\", \"9-1\", \"9-2\", \"9-3\", \"9-4\"], \"y\": [0.9655172413793104, 0.8518518518518519, 0.7567567567567568, 0.896551724137931, 0.9393939393939394, 0.8636363636363636, 0.7931034482758621, 0.8461538461538461, 0.6896551724137931, 0.76], \"type\": \"scatter\", \"uid\": \"adee8370-d1e5-11e8-8ddb-a41f72875c19\"}, {\"name\": \"24h\\u901a\\u8fc7\\u7387\", \"x\": [\"10-2\", \"8-1\", \"8-2\", \"8-3\", \"8-4\", \"8-5\", \"9-1\", \"9-2\", \"9-3\", \"9-4\"], \"y\": [0.6896551724137931, 0.6296296296296297, 0.5135135135135135, 0.7586206896551724, 0.8484848484848485, 0.7272727272727273, 0.5862068965517241, 0.6923076923076923, 0.6551724137931034, 0.72], \"type\": \"scatter\", \"uid\": \"adee8371-d1e5-11e8-8ddb-a41f72875c19\"}, {\"name\": \"8h\\u901a\\u8fc7\\u7387\", \"x\": [\"10-2\", \"8-1\", \"8-2\", \"8-3\", \"8-4\", \"8-5\", \"9-1\", \"9-2\", \"9-3\", \"9-4\"], \"y\": [0.4482758620689655, 0.3333333333333333, 0.40540540540540543, 0.5517241379310345, 0.6060606060606061, 0.5, 0.6206896551724138, 0.6538461538461539, 0.4827586206896552, 0.36], \"type\": \"scatter\", \"uid\": \"adee8372-d1e5-11e8-8ddb-a41f72875c19\"}], {\"title\": \"48h\\u901a\\u8fc7\\u7387&24h\\u901a\\u8fc7\\u7387&8h\\u901a\\u8fc7\\u7387\\u5468\\u8d8b\\u52bf\\u56fe\", \"xaxis\": {\"mirror\": \"all\", \"nticks\": 20, \"showgrid\": true, \"showline\": true, \"title\": \"\\u5468\", \"type\": \"category\", \"zeroline\": true}, \"yaxis\": {\"mirror\": \"all\", \"nticks\": 20, \"showgrid\": true, \"showline\": true, \"title\": \"48h\\u901a\\u8fc7\\u7387&24h\\u901a\\u8fc7\\u7387&8h\\u901a\\u8fc7\\u7387\", \"zeroline\": true}}, {\"showLink\": true, \"linkText\": \"Export to plot.ly\"})});</script>"
      ],
      "text/vnd.plotly.v1+html": [
       "<div id=\"bcf9e634-c917-404c-b7bd-e57c1b4b3611\" style=\"height: 525px; width: 100%;\" class=\"plotly-graph-div\"></div><script type=\"text/javascript\">require([\"plotly\"], function(Plotly) { window.PLOTLYENV=window.PLOTLYENV || {};window.PLOTLYENV.BASE_URL=\"https://plot.ly\";Plotly.newPlot(\"bcf9e634-c917-404c-b7bd-e57c1b4b3611\", [{\"name\": \"48h\\u901a\\u8fc7\\u7387\", \"x\": [\"10-2\", \"8-1\", \"8-2\", \"8-3\", \"8-4\", \"8-5\", \"9-1\", \"9-2\", \"9-3\", \"9-4\"], \"y\": [0.9655172413793104, 0.8518518518518519, 0.7567567567567568, 0.896551724137931, 0.9393939393939394, 0.8636363636363636, 0.7931034482758621, 0.8461538461538461, 0.6896551724137931, 0.76], \"type\": \"scatter\", \"uid\": \"adee8370-d1e5-11e8-8ddb-a41f72875c19\"}, {\"name\": \"24h\\u901a\\u8fc7\\u7387\", \"x\": [\"10-2\", \"8-1\", \"8-2\", \"8-3\", \"8-4\", \"8-5\", \"9-1\", \"9-2\", \"9-3\", \"9-4\"], \"y\": [0.6896551724137931, 0.6296296296296297, 0.5135135135135135, 0.7586206896551724, 0.8484848484848485, 0.7272727272727273, 0.5862068965517241, 0.6923076923076923, 0.6551724137931034, 0.72], \"type\": \"scatter\", \"uid\": \"adee8371-d1e5-11e8-8ddb-a41f72875c19\"}, {\"name\": \"8h\\u901a\\u8fc7\\u7387\", \"x\": [\"10-2\", \"8-1\", \"8-2\", \"8-3\", \"8-4\", \"8-5\", \"9-1\", \"9-2\", \"9-3\", \"9-4\"], \"y\": [0.4482758620689655, 0.3333333333333333, 0.40540540540540543, 0.5517241379310345, 0.6060606060606061, 0.5, 0.6206896551724138, 0.6538461538461539, 0.4827586206896552, 0.36], \"type\": \"scatter\", \"uid\": \"adee8372-d1e5-11e8-8ddb-a41f72875c19\"}], {\"title\": \"48h\\u901a\\u8fc7\\u7387&24h\\u901a\\u8fc7\\u7387&8h\\u901a\\u8fc7\\u7387\\u5468\\u8d8b\\u52bf\\u56fe\", \"xaxis\": {\"mirror\": \"all\", \"nticks\": 20, \"showgrid\": true, \"showline\": true, \"title\": \"\\u5468\", \"type\": \"category\", \"zeroline\": true}, \"yaxis\": {\"mirror\": \"all\", \"nticks\": 20, \"showgrid\": true, \"showline\": true, \"title\": \"48h\\u901a\\u8fc7\\u7387&24h\\u901a\\u8fc7\\u7387&8h\\u901a\\u8fc7\\u7387\", \"zeroline\": true}}, {\"showLink\": true, \"linkText\": \"Export to plot.ly\"})});</script>"
      ]
     },
     "metadata": {},
     "output_type": "display_data"
    },
    {
     "data": {
      "application/vnd.plotly.v1+json": {
       "data": [
        {
         "name": "48h通过率",
         "type": "scatter",
         "uid": "adee8373-d1e5-11e8-8ddb-a41f72875c19",
         "x": [
          8,
          9,
          10
         ],
         "y": [
          0.8581081081081081,
          0.7706422018348624,
          0.9655172413793104
         ]
        },
        {
         "name": "24h通过率",
         "type": "scatter",
         "uid": "adee8374-d1e5-11e8-8ddb-a41f72875c19",
         "x": [
          8,
          9,
          10
         ],
         "y": [
          0.6891891891891891,
          0.6605504587155964,
          0.6896551724137931
         ]
        },
        {
         "name": "8h通过率",
         "type": "scatter",
         "uid": "adee8375-d1e5-11e8-8ddb-a41f72875c19",
         "x": [
          8,
          9,
          10
         ],
         "y": [
          0.4797297297297297,
          0.5321100917431193,
          0.4482758620689655
         ]
        }
       ],
       "layout": {
        "title": "48h通过率&24h通过率&8h通过率月趋势图",
        "xaxis": {
         "mirror": "all",
         "nticks": 20,
         "showgrid": true,
         "showline": true,
         "title": "月",
         "type": "category",
         "zeroline": true
        },
        "yaxis": {
         "mirror": "all",
         "nticks": 20,
         "showgrid": true,
         "showline": true,
         "title": "48h通过率&24h通过率&8h通过率",
         "zeroline": true
        }
       }
      },
      "text/html": [
       "<div id=\"9e42c8b7-e151-4c02-afcc-16f8e3f02ed9\" style=\"height: 525px; width: 100%;\" class=\"plotly-graph-div\"></div><script type=\"text/javascript\">require([\"plotly\"], function(Plotly) { window.PLOTLYENV=window.PLOTLYENV || {};window.PLOTLYENV.BASE_URL=\"https://plot.ly\";Plotly.newPlot(\"9e42c8b7-e151-4c02-afcc-16f8e3f02ed9\", [{\"name\": \"48h\\u901a\\u8fc7\\u7387\", \"x\": [8, 9, 10], \"y\": [0.8581081081081081, 0.7706422018348624, 0.9655172413793104], \"type\": \"scatter\", \"uid\": \"adee8373-d1e5-11e8-8ddb-a41f72875c19\"}, {\"name\": \"24h\\u901a\\u8fc7\\u7387\", \"x\": [8, 9, 10], \"y\": [0.6891891891891891, 0.6605504587155964, 0.6896551724137931], \"type\": \"scatter\", \"uid\": \"adee8374-d1e5-11e8-8ddb-a41f72875c19\"}, {\"name\": \"8h\\u901a\\u8fc7\\u7387\", \"x\": [8, 9, 10], \"y\": [0.4797297297297297, 0.5321100917431193, 0.4482758620689655], \"type\": \"scatter\", \"uid\": \"adee8375-d1e5-11e8-8ddb-a41f72875c19\"}], {\"title\": \"48h\\u901a\\u8fc7\\u7387&24h\\u901a\\u8fc7\\u7387&8h\\u901a\\u8fc7\\u7387\\u6708\\u8d8b\\u52bf\\u56fe\", \"xaxis\": {\"mirror\": \"all\", \"nticks\": 20, \"showgrid\": true, \"showline\": true, \"title\": \"\\u6708\", \"type\": \"category\", \"zeroline\": true}, \"yaxis\": {\"mirror\": \"all\", \"nticks\": 20, \"showgrid\": true, \"showline\": true, \"title\": \"48h\\u901a\\u8fc7\\u7387&24h\\u901a\\u8fc7\\u7387&8h\\u901a\\u8fc7\\u7387\", \"zeroline\": true}}, {\"showLink\": true, \"linkText\": \"Export to plot.ly\"})});</script>"
      ],
      "text/vnd.plotly.v1+html": [
       "<div id=\"9e42c8b7-e151-4c02-afcc-16f8e3f02ed9\" style=\"height: 525px; width: 100%;\" class=\"plotly-graph-div\"></div><script type=\"text/javascript\">require([\"plotly\"], function(Plotly) { window.PLOTLYENV=window.PLOTLYENV || {};window.PLOTLYENV.BASE_URL=\"https://plot.ly\";Plotly.newPlot(\"9e42c8b7-e151-4c02-afcc-16f8e3f02ed9\", [{\"name\": \"48h\\u901a\\u8fc7\\u7387\", \"x\": [8, 9, 10], \"y\": [0.8581081081081081, 0.7706422018348624, 0.9655172413793104], \"type\": \"scatter\", \"uid\": \"adee8373-d1e5-11e8-8ddb-a41f72875c19\"}, {\"name\": \"24h\\u901a\\u8fc7\\u7387\", \"x\": [8, 9, 10], \"y\": [0.6891891891891891, 0.6605504587155964, 0.6896551724137931], \"type\": \"scatter\", \"uid\": \"adee8374-d1e5-11e8-8ddb-a41f72875c19\"}, {\"name\": \"8h\\u901a\\u8fc7\\u7387\", \"x\": [8, 9, 10], \"y\": [0.4797297297297297, 0.5321100917431193, 0.4482758620689655], \"type\": \"scatter\", \"uid\": \"adee8375-d1e5-11e8-8ddb-a41f72875c19\"}], {\"title\": \"48h\\u901a\\u8fc7\\u7387&24h\\u901a\\u8fc7\\u7387&8h\\u901a\\u8fc7\\u7387\\u6708\\u8d8b\\u52bf\\u56fe\", \"xaxis\": {\"mirror\": \"all\", \"nticks\": 20, \"showgrid\": true, \"showline\": true, \"title\": \"\\u6708\", \"type\": \"category\", \"zeroline\": true}, \"yaxis\": {\"mirror\": \"all\", \"nticks\": 20, \"showgrid\": true, \"showline\": true, \"title\": \"48h\\u901a\\u8fc7\\u7387&24h\\u901a\\u8fc7\\u7387&8h\\u901a\\u8fc7\\u7387\", \"zeroline\": true}}, {\"showLink\": true, \"linkText\": \"Export to plot.ly\"})});</script>"
      ]
     },
     "metadata": {},
     "output_type": "display_data"
    }
   ],
   "source": [
    "ss = myModule.format(all_df2 ,\"日期（格式“月-周次”）\" ,['8h通过芯片数', '芯片总数','24h通过芯片数','48h通过芯片数'])\n",
    "tt = ss.get_total_ratio([['8h通过率','8h通过芯片数','芯片总数','/'],\n",
    "                         ['24h通过率','24h通过芯片数','芯片总数','/'],\n",
    "                        ['48h通过率','48h通过芯片数','芯片总数','/'],])\n",
    "myModule.myPlot(tt).plot('line')\n",
    "\n",
    "ss = myModule.format(all_df2 ,\"month\" ,['8h通过芯片数', '芯片总数','24h通过芯片数','48h通过芯片数'])\n",
    "tt = ss.get_total_ratio([['8h通过率','8h通过芯片数','芯片总数','/'],\n",
    "                         ['24h通过率','24h通过芯片数','芯片总数','/'],\n",
    "                        ['48h通过率','48h通过芯片数','芯片总数','/'],])\n",
    "myModule.myPlot(tt).plot('line','月')"
   ]
  },
  {
   "cell_type": "markdown",
   "metadata": {},
   "source": [
    "#### 平均通过时长，一次通过平均时长，非一次通过平均时长，通过时长Q80"
   ]
  },
  {
   "cell_type": "code",
   "execution_count": 76,
   "metadata": {
    "collapsed": false
   },
   "outputs": [
    {
     "data": {
      "application/vnd.plotly.v1+json": {
       "data": [
        {
         "name": "通过时长Q80",
         "type": "scatter",
         "uid": "adee8376-d1e5-11e8-8ddb-a41f72875c19",
         "x": [
          "10-2",
          "8-1",
          "8-2",
          "8-3",
          "8-4",
          "8-5",
          "9-1",
          "9-2",
          "9-3",
          "9-4"
         ],
         "y": [
          25.83,
          35.07,
          59.13,
          33.87,
          27.27,
          29.73,
          24.2,
          31.5,
          64.5,
          50.73
         ]
        },
        {
         "name": "非一次通过平均时长",
         "type": "scatter",
         "uid": "adee8377-d1e5-11e8-8ddb-a41f72875c19",
         "x": [
          "10-2",
          "8-1",
          "8-2",
          "8-3",
          "8-4",
          "8-5",
          "9-1",
          "9-2",
          "9-3",
          "9-4"
         ],
         "y": [
          26.49,
          30.81,
          50.36,
          22.7,
          20.81,
          35.65,
          24.46,
          37.75,
          53.68,
          34.52
         ]
        },
        {
         "name": "平均通过时长",
         "type": "scatter",
         "uid": "adee8378-d1e5-11e8-8ddb-a41f72875c19",
         "x": [
          "10-2",
          "8-1",
          "8-2",
          "8-3",
          "8-4",
          "8-5",
          "9-1",
          "9-2",
          "9-3",
          "9-4"
         ],
         "y": [
          16.62,
          21.03,
          32.65,
          16.84,
          10.54,
          23.82,
          15.1,
          22.28,
          38.57,
          26.16
         ]
        },
        {
         "name": "一次通过平均时长",
         "type": "scatter",
         "uid": "adee8379-d1e5-11e8-8ddb-a41f72875c19",
         "x": [
          "10-2",
          "8-1",
          "8-2",
          "8-3",
          "8-4",
          "8-5",
          "9-1",
          "9-2",
          "9-3",
          "9-4"
         ],
         "y": [
          4.25,
          11.95,
          6.68,
          3.81,
          5.41,
          3.11,
          2.07,
          6.43,
          4.81,
          4.68
         ]
        }
       ],
       "layout": {
        "title": "通过时长Q80&非一次通过平均时长&平均通过时长&一次通过平均时长周趋势图",
        "xaxis": {
         "mirror": "all",
         "nticks": 20,
         "showgrid": true,
         "showline": true,
         "title": "周",
         "type": "category",
         "zeroline": true
        },
        "yaxis": {
         "mirror": "all",
         "nticks": 20,
         "showgrid": true,
         "showline": true,
         "title": "通过时长Q80&非一次通过平均时长&平均通过时长&一次通过平均时长",
         "zeroline": true
        }
       }
      },
      "text/html": [
       "<div id=\"3d87a5ab-b033-424a-9c5f-ad57a4ed4931\" style=\"height: 525px; width: 100%;\" class=\"plotly-graph-div\"></div><script type=\"text/javascript\">require([\"plotly\"], function(Plotly) { window.PLOTLYENV=window.PLOTLYENV || {};window.PLOTLYENV.BASE_URL=\"https://plot.ly\";Plotly.newPlot(\"3d87a5ab-b033-424a-9c5f-ad57a4ed4931\", [{\"name\": \"\\u901a\\u8fc7\\u65f6\\u957fQ80\", \"x\": [\"10-2\", \"8-1\", \"8-2\", \"8-3\", \"8-4\", \"8-5\", \"9-1\", \"9-2\", \"9-3\", \"9-4\"], \"y\": [25.83, 35.07, 59.13, 33.87, 27.27, 29.73, 24.2, 31.5, 64.5, 50.73], \"type\": \"scatter\", \"uid\": \"adee8376-d1e5-11e8-8ddb-a41f72875c19\"}, {\"name\": \"\\u975e\\u4e00\\u6b21\\u901a\\u8fc7\\u5e73\\u5747\\u65f6\\u957f\", \"x\": [\"10-2\", \"8-1\", \"8-2\", \"8-3\", \"8-4\", \"8-5\", \"9-1\", \"9-2\", \"9-3\", \"9-4\"], \"y\": [26.49, 30.81, 50.36, 22.7, 20.81, 35.65, 24.46, 37.75, 53.68, 34.52], \"type\": \"scatter\", \"uid\": \"adee8377-d1e5-11e8-8ddb-a41f72875c19\"}, {\"name\": \"\\u5e73\\u5747\\u901a\\u8fc7\\u65f6\\u957f\", \"x\": [\"10-2\", \"8-1\", \"8-2\", \"8-3\", \"8-4\", \"8-5\", \"9-1\", \"9-2\", \"9-3\", \"9-4\"], \"y\": [16.62, 21.03, 32.65, 16.84, 10.54, 23.82, 15.1, 22.28, 38.57, 26.16], \"type\": \"scatter\", \"uid\": \"adee8378-d1e5-11e8-8ddb-a41f72875c19\"}, {\"name\": \"\\u4e00\\u6b21\\u901a\\u8fc7\\u5e73\\u5747\\u65f6\\u957f\", \"x\": [\"10-2\", \"8-1\", \"8-2\", \"8-3\", \"8-4\", \"8-5\", \"9-1\", \"9-2\", \"9-3\", \"9-4\"], \"y\": [4.25, 11.95, 6.68, 3.81, 5.41, 3.11, 2.07, 6.43, 4.81, 4.68], \"type\": \"scatter\", \"uid\": \"adee8379-d1e5-11e8-8ddb-a41f72875c19\"}], {\"title\": \"\\u901a\\u8fc7\\u65f6\\u957fQ80&\\u975e\\u4e00\\u6b21\\u901a\\u8fc7\\u5e73\\u5747\\u65f6\\u957f&\\u5e73\\u5747\\u901a\\u8fc7\\u65f6\\u957f&\\u4e00\\u6b21\\u901a\\u8fc7\\u5e73\\u5747\\u65f6\\u957f\\u5468\\u8d8b\\u52bf\\u56fe\", \"xaxis\": {\"mirror\": \"all\", \"nticks\": 20, \"showgrid\": true, \"showline\": true, \"title\": \"\\u5468\", \"type\": \"category\", \"zeroline\": true}, \"yaxis\": {\"mirror\": \"all\", \"nticks\": 20, \"showgrid\": true, \"showline\": true, \"title\": \"\\u901a\\u8fc7\\u65f6\\u957fQ80&\\u975e\\u4e00\\u6b21\\u901a\\u8fc7\\u5e73\\u5747\\u65f6\\u957f&\\u5e73\\u5747\\u901a\\u8fc7\\u65f6\\u957f&\\u4e00\\u6b21\\u901a\\u8fc7\\u5e73\\u5747\\u65f6\\u957f\", \"zeroline\": true}}, {\"showLink\": true, \"linkText\": \"Export to plot.ly\"})});</script>"
      ],
      "text/vnd.plotly.v1+html": [
       "<div id=\"3d87a5ab-b033-424a-9c5f-ad57a4ed4931\" style=\"height: 525px; width: 100%;\" class=\"plotly-graph-div\"></div><script type=\"text/javascript\">require([\"plotly\"], function(Plotly) { window.PLOTLYENV=window.PLOTLYENV || {};window.PLOTLYENV.BASE_URL=\"https://plot.ly\";Plotly.newPlot(\"3d87a5ab-b033-424a-9c5f-ad57a4ed4931\", [{\"name\": \"\\u901a\\u8fc7\\u65f6\\u957fQ80\", \"x\": [\"10-2\", \"8-1\", \"8-2\", \"8-3\", \"8-4\", \"8-5\", \"9-1\", \"9-2\", \"9-3\", \"9-4\"], \"y\": [25.83, 35.07, 59.13, 33.87, 27.27, 29.73, 24.2, 31.5, 64.5, 50.73], \"type\": \"scatter\", \"uid\": \"adee8376-d1e5-11e8-8ddb-a41f72875c19\"}, {\"name\": \"\\u975e\\u4e00\\u6b21\\u901a\\u8fc7\\u5e73\\u5747\\u65f6\\u957f\", \"x\": [\"10-2\", \"8-1\", \"8-2\", \"8-3\", \"8-4\", \"8-5\", \"9-1\", \"9-2\", \"9-3\", \"9-4\"], \"y\": [26.49, 30.81, 50.36, 22.7, 20.81, 35.65, 24.46, 37.75, 53.68, 34.52], \"type\": \"scatter\", \"uid\": \"adee8377-d1e5-11e8-8ddb-a41f72875c19\"}, {\"name\": \"\\u5e73\\u5747\\u901a\\u8fc7\\u65f6\\u957f\", \"x\": [\"10-2\", \"8-1\", \"8-2\", \"8-3\", \"8-4\", \"8-5\", \"9-1\", \"9-2\", \"9-3\", \"9-4\"], \"y\": [16.62, 21.03, 32.65, 16.84, 10.54, 23.82, 15.1, 22.28, 38.57, 26.16], \"type\": \"scatter\", \"uid\": \"adee8378-d1e5-11e8-8ddb-a41f72875c19\"}, {\"name\": \"\\u4e00\\u6b21\\u901a\\u8fc7\\u5e73\\u5747\\u65f6\\u957f\", \"x\": [\"10-2\", \"8-1\", \"8-2\", \"8-3\", \"8-4\", \"8-5\", \"9-1\", \"9-2\", \"9-3\", \"9-4\"], \"y\": [4.25, 11.95, 6.68, 3.81, 5.41, 3.11, 2.07, 6.43, 4.81, 4.68], \"type\": \"scatter\", \"uid\": \"adee8379-d1e5-11e8-8ddb-a41f72875c19\"}], {\"title\": \"\\u901a\\u8fc7\\u65f6\\u957fQ80&\\u975e\\u4e00\\u6b21\\u901a\\u8fc7\\u5e73\\u5747\\u65f6\\u957f&\\u5e73\\u5747\\u901a\\u8fc7\\u65f6\\u957f&\\u4e00\\u6b21\\u901a\\u8fc7\\u5e73\\u5747\\u65f6\\u957f\\u5468\\u8d8b\\u52bf\\u56fe\", \"xaxis\": {\"mirror\": \"all\", \"nticks\": 20, \"showgrid\": true, \"showline\": true, \"title\": \"\\u5468\", \"type\": \"category\", \"zeroline\": true}, \"yaxis\": {\"mirror\": \"all\", \"nticks\": 20, \"showgrid\": true, \"showline\": true, \"title\": \"\\u901a\\u8fc7\\u65f6\\u957fQ80&\\u975e\\u4e00\\u6b21\\u901a\\u8fc7\\u5e73\\u5747\\u65f6\\u957f&\\u5e73\\u5747\\u901a\\u8fc7\\u65f6\\u957f&\\u4e00\\u6b21\\u901a\\u8fc7\\u5e73\\u5747\\u65f6\\u957f\", \"zeroline\": true}}, {\"showLink\": true, \"linkText\": \"Export to plot.ly\"})});</script>"
      ]
     },
     "metadata": {},
     "output_type": "display_data"
    },
    {
     "data": {
      "application/vnd.plotly.v1+json": {
       "data": [
        {
         "name": "通过时长Q80",
         "type": "scatter",
         "uid": "adee837a-d1e5-11e8-8ddb-a41f72875c19",
         "x": [
          8,
          9,
          10
         ],
         "y": [
          37.013999999999996,
          42.7325,
          25.83
         ]
        },
        {
         "name": "非一次通过平均时长",
         "type": "scatter",
         "uid": "adee837b-d1e5-11e8-8ddb-a41f72875c19",
         "x": [
          8,
          9,
          10
         ],
         "y": [
          32.065999999999995,
          37.6025,
          26.49
         ]
        },
        {
         "name": "平均通过时长",
         "type": "scatter",
         "uid": "adee837c-d1e5-11e8-8ddb-a41f72875c19",
         "x": [
          8,
          9,
          10
         ],
         "y": [
          20.976,
          25.5275,
          16.62
         ]
        },
        {
         "name": "一次通过平均时长",
         "type": "scatter",
         "uid": "adee837d-d1e5-11e8-8ddb-a41f72875c19",
         "x": [
          8,
          9,
          10
         ],
         "y": [
          6.192,
          4.4975,
          4.25
         ]
        }
       ],
       "layout": {
        "title": "通过时长Q80&非一次通过平均时长&平均通过时长&一次通过平均时长月趋势图",
        "xaxis": {
         "mirror": "all",
         "nticks": 20,
         "showgrid": true,
         "showline": true,
         "title": "月",
         "type": "category",
         "zeroline": true
        },
        "yaxis": {
         "mirror": "all",
         "nticks": 20,
         "showgrid": true,
         "showline": true,
         "title": "通过时长Q80&非一次通过平均时长&平均通过时长&一次通过平均时长",
         "zeroline": true
        }
       }
      },
      "text/html": [
       "<div id=\"a2825799-cfb6-4ce3-9042-34627e272f5c\" style=\"height: 525px; width: 100%;\" class=\"plotly-graph-div\"></div><script type=\"text/javascript\">require([\"plotly\"], function(Plotly) { window.PLOTLYENV=window.PLOTLYENV || {};window.PLOTLYENV.BASE_URL=\"https://plot.ly\";Plotly.newPlot(\"a2825799-cfb6-4ce3-9042-34627e272f5c\", [{\"name\": \"\\u901a\\u8fc7\\u65f6\\u957fQ80\", \"x\": [8, 9, 10], \"y\": [37.013999999999996, 42.7325, 25.83], \"type\": \"scatter\", \"uid\": \"adee837a-d1e5-11e8-8ddb-a41f72875c19\"}, {\"name\": \"\\u975e\\u4e00\\u6b21\\u901a\\u8fc7\\u5e73\\u5747\\u65f6\\u957f\", \"x\": [8, 9, 10], \"y\": [32.065999999999995, 37.6025, 26.49], \"type\": \"scatter\", \"uid\": \"adee837b-d1e5-11e8-8ddb-a41f72875c19\"}, {\"name\": \"\\u5e73\\u5747\\u901a\\u8fc7\\u65f6\\u957f\", \"x\": [8, 9, 10], \"y\": [20.976, 25.5275, 16.62], \"type\": \"scatter\", \"uid\": \"adee837c-d1e5-11e8-8ddb-a41f72875c19\"}, {\"name\": \"\\u4e00\\u6b21\\u901a\\u8fc7\\u5e73\\u5747\\u65f6\\u957f\", \"x\": [8, 9, 10], \"y\": [6.192, 4.4975, 4.25], \"type\": \"scatter\", \"uid\": \"adee837d-d1e5-11e8-8ddb-a41f72875c19\"}], {\"title\": \"\\u901a\\u8fc7\\u65f6\\u957fQ80&\\u975e\\u4e00\\u6b21\\u901a\\u8fc7\\u5e73\\u5747\\u65f6\\u957f&\\u5e73\\u5747\\u901a\\u8fc7\\u65f6\\u957f&\\u4e00\\u6b21\\u901a\\u8fc7\\u5e73\\u5747\\u65f6\\u957f\\u6708\\u8d8b\\u52bf\\u56fe\", \"xaxis\": {\"mirror\": \"all\", \"nticks\": 20, \"showgrid\": true, \"showline\": true, \"title\": \"\\u6708\", \"type\": \"category\", \"zeroline\": true}, \"yaxis\": {\"mirror\": \"all\", \"nticks\": 20, \"showgrid\": true, \"showline\": true, \"title\": \"\\u901a\\u8fc7\\u65f6\\u957fQ80&\\u975e\\u4e00\\u6b21\\u901a\\u8fc7\\u5e73\\u5747\\u65f6\\u957f&\\u5e73\\u5747\\u901a\\u8fc7\\u65f6\\u957f&\\u4e00\\u6b21\\u901a\\u8fc7\\u5e73\\u5747\\u65f6\\u957f\", \"zeroline\": true}}, {\"showLink\": true, \"linkText\": \"Export to plot.ly\"})});</script>"
      ],
      "text/vnd.plotly.v1+html": [
       "<div id=\"a2825799-cfb6-4ce3-9042-34627e272f5c\" style=\"height: 525px; width: 100%;\" class=\"plotly-graph-div\"></div><script type=\"text/javascript\">require([\"plotly\"], function(Plotly) { window.PLOTLYENV=window.PLOTLYENV || {};window.PLOTLYENV.BASE_URL=\"https://plot.ly\";Plotly.newPlot(\"a2825799-cfb6-4ce3-9042-34627e272f5c\", [{\"name\": \"\\u901a\\u8fc7\\u65f6\\u957fQ80\", \"x\": [8, 9, 10], \"y\": [37.013999999999996, 42.7325, 25.83], \"type\": \"scatter\", \"uid\": \"adee837a-d1e5-11e8-8ddb-a41f72875c19\"}, {\"name\": \"\\u975e\\u4e00\\u6b21\\u901a\\u8fc7\\u5e73\\u5747\\u65f6\\u957f\", \"x\": [8, 9, 10], \"y\": [32.065999999999995, 37.6025, 26.49], \"type\": \"scatter\", \"uid\": \"adee837b-d1e5-11e8-8ddb-a41f72875c19\"}, {\"name\": \"\\u5e73\\u5747\\u901a\\u8fc7\\u65f6\\u957f\", \"x\": [8, 9, 10], \"y\": [20.976, 25.5275, 16.62], \"type\": \"scatter\", \"uid\": \"adee837c-d1e5-11e8-8ddb-a41f72875c19\"}, {\"name\": \"\\u4e00\\u6b21\\u901a\\u8fc7\\u5e73\\u5747\\u65f6\\u957f\", \"x\": [8, 9, 10], \"y\": [6.192, 4.4975, 4.25], \"type\": \"scatter\", \"uid\": \"adee837d-d1e5-11e8-8ddb-a41f72875c19\"}], {\"title\": \"\\u901a\\u8fc7\\u65f6\\u957fQ80&\\u975e\\u4e00\\u6b21\\u901a\\u8fc7\\u5e73\\u5747\\u65f6\\u957f&\\u5e73\\u5747\\u901a\\u8fc7\\u65f6\\u957f&\\u4e00\\u6b21\\u901a\\u8fc7\\u5e73\\u5747\\u65f6\\u957f\\u6708\\u8d8b\\u52bf\\u56fe\", \"xaxis\": {\"mirror\": \"all\", \"nticks\": 20, \"showgrid\": true, \"showline\": true, \"title\": \"\\u6708\", \"type\": \"category\", \"zeroline\": true}, \"yaxis\": {\"mirror\": \"all\", \"nticks\": 20, \"showgrid\": true, \"showline\": true, \"title\": \"\\u901a\\u8fc7\\u65f6\\u957fQ80&\\u975e\\u4e00\\u6b21\\u901a\\u8fc7\\u5e73\\u5747\\u65f6\\u957f&\\u5e73\\u5747\\u901a\\u8fc7\\u65f6\\u957f&\\u4e00\\u6b21\\u901a\\u8fc7\\u5e73\\u5747\\u65f6\\u957f\", \"zeroline\": true}}, {\"showLink\": true, \"linkText\": \"Export to plot.ly\"})});</script>"
      ]
     },
     "metadata": {},
     "output_type": "display_data"
    }
   ],
   "source": [
    "ss = myModule.format(all_df2 ,\"日期（格式“月-周次”）\" ,['平均通过时长', '一次通过平均时长','非一次通过平均时长','通过时长Q80' ])\n",
    "myModule.myPlot(ss.groupby('sum')).plot('line')\n",
    "\n",
    "ss = myModule.format(all_df2 ,\"month\" ,['平均通过时长', '一次通过平均时长','非一次通过平均时长','通过时长Q80' ])\n",
    "myModule.myPlot(ss.groupby('mean')).plot('line','月')"
   ]
  },
  {
   "cell_type": "markdown",
   "metadata": {},
   "source": [
    "#### 一次通过平均时长，xten一次通过时长，NovaS4一次通过时长"
   ]
  },
  {
   "cell_type": "code",
   "execution_count": 77,
   "metadata": {
    "collapsed": false
   },
   "outputs": [
    {
     "data": {
      "application/vnd.plotly.v1+json": {
       "data": [
        {
         "name": "NovaS4一次通过时长",
         "type": "scatter",
         "uid": "adee837e-d1e5-11e8-8ddb-a41f72875c19",
         "x": [
          "10-2",
          "8-1",
          "8-2",
          "8-3",
          "8-4",
          "8-5",
          "9-1",
          "9-2",
          "9-3",
          "9-4"
         ],
         "y": [
          0,
          13.29,
          4.73,
          10.54,
          10.54,
          0,
          14.88,
          9.9,
          0,
          0
         ]
        },
        {
         "name": "xten一次通过时长",
         "type": "scatter",
         "uid": "adee837f-d1e5-11e8-8ddb-a41f72875c19",
         "x": [
          "10-2",
          "8-1",
          "8-2",
          "8-3",
          "8-4",
          "8-5",
          "9-1",
          "9-2",
          "9-3",
          "9-4"
         ],
         "y": [
          4.25,
          5.74,
          6.69,
          3.34,
          3.78,
          2.97,
          3.58,
          4.77,
          3.37,
          4.08
         ]
        },
        {
         "name": "一次通过平均时长",
         "type": "scatter",
         "uid": "adee8380-d1e5-11e8-8ddb-a41f72875c19",
         "x": [
          "10-2",
          "8-1",
          "8-2",
          "8-3",
          "8-4",
          "8-5",
          "9-1",
          "9-2",
          "9-3",
          "9-4"
         ],
         "y": [
          4.25,
          11.95,
          6.68,
          3.81,
          5.41,
          3.11,
          2.07,
          6.43,
          4.81,
          4.68
         ]
        }
       ],
       "layout": {
        "title": "NovaS4一次通过时长&xten一次通过时长&一次通过平均时长周趋势图",
        "xaxis": {
         "mirror": "all",
         "nticks": 20,
         "showgrid": true,
         "showline": true,
         "title": "周",
         "type": "category",
         "zeroline": true
        },
        "yaxis": {
         "mirror": "all",
         "nticks": 20,
         "showgrid": true,
         "showline": true,
         "title": "NovaS4一次通过时长&xten一次通过时长&一次通过平均时长",
         "zeroline": true
        }
       }
      },
      "text/html": [
       "<div id=\"24b8769b-4661-422b-b31f-85eb71244872\" style=\"height: 525px; width: 100%;\" class=\"plotly-graph-div\"></div><script type=\"text/javascript\">require([\"plotly\"], function(Plotly) { window.PLOTLYENV=window.PLOTLYENV || {};window.PLOTLYENV.BASE_URL=\"https://plot.ly\";Plotly.newPlot(\"24b8769b-4661-422b-b31f-85eb71244872\", [{\"name\": \"NovaS4\\u4e00\\u6b21\\u901a\\u8fc7\\u65f6\\u957f\", \"x\": [\"10-2\", \"8-1\", \"8-2\", \"8-3\", \"8-4\", \"8-5\", \"9-1\", \"9-2\", \"9-3\", \"9-4\"], \"y\": [0.0, 13.29, 4.73, 10.54, 10.54, 0.0, 14.88, 9.9, 0.0, 0.0], \"type\": \"scatter\", \"uid\": \"adee837e-d1e5-11e8-8ddb-a41f72875c19\"}, {\"name\": \"xten\\u4e00\\u6b21\\u901a\\u8fc7\\u65f6\\u957f\", \"x\": [\"10-2\", \"8-1\", \"8-2\", \"8-3\", \"8-4\", \"8-5\", \"9-1\", \"9-2\", \"9-3\", \"9-4\"], \"y\": [4.25, 5.74, 6.69, 3.34, 3.78, 2.97, 3.58, 4.77, 3.37, 4.08], \"type\": \"scatter\", \"uid\": \"adee837f-d1e5-11e8-8ddb-a41f72875c19\"}, {\"name\": \"\\u4e00\\u6b21\\u901a\\u8fc7\\u5e73\\u5747\\u65f6\\u957f\", \"x\": [\"10-2\", \"8-1\", \"8-2\", \"8-3\", \"8-4\", \"8-5\", \"9-1\", \"9-2\", \"9-3\", \"9-4\"], \"y\": [4.25, 11.95, 6.68, 3.81, 5.41, 3.11, 2.07, 6.43, 4.81, 4.68], \"type\": \"scatter\", \"uid\": \"adee8380-d1e5-11e8-8ddb-a41f72875c19\"}], {\"title\": \"NovaS4\\u4e00\\u6b21\\u901a\\u8fc7\\u65f6\\u957f&xten\\u4e00\\u6b21\\u901a\\u8fc7\\u65f6\\u957f&\\u4e00\\u6b21\\u901a\\u8fc7\\u5e73\\u5747\\u65f6\\u957f\\u5468\\u8d8b\\u52bf\\u56fe\", \"xaxis\": {\"mirror\": \"all\", \"nticks\": 20, \"showgrid\": true, \"showline\": true, \"title\": \"\\u5468\", \"type\": \"category\", \"zeroline\": true}, \"yaxis\": {\"mirror\": \"all\", \"nticks\": 20, \"showgrid\": true, \"showline\": true, \"title\": \"NovaS4\\u4e00\\u6b21\\u901a\\u8fc7\\u65f6\\u957f&xten\\u4e00\\u6b21\\u901a\\u8fc7\\u65f6\\u957f&\\u4e00\\u6b21\\u901a\\u8fc7\\u5e73\\u5747\\u65f6\\u957f\", \"zeroline\": true}}, {\"showLink\": true, \"linkText\": \"Export to plot.ly\"})});</script>"
      ],
      "text/vnd.plotly.v1+html": [
       "<div id=\"24b8769b-4661-422b-b31f-85eb71244872\" style=\"height: 525px; width: 100%;\" class=\"plotly-graph-div\"></div><script type=\"text/javascript\">require([\"plotly\"], function(Plotly) { window.PLOTLYENV=window.PLOTLYENV || {};window.PLOTLYENV.BASE_URL=\"https://plot.ly\";Plotly.newPlot(\"24b8769b-4661-422b-b31f-85eb71244872\", [{\"name\": \"NovaS4\\u4e00\\u6b21\\u901a\\u8fc7\\u65f6\\u957f\", \"x\": [\"10-2\", \"8-1\", \"8-2\", \"8-3\", \"8-4\", \"8-5\", \"9-1\", \"9-2\", \"9-3\", \"9-4\"], \"y\": [0.0, 13.29, 4.73, 10.54, 10.54, 0.0, 14.88, 9.9, 0.0, 0.0], \"type\": \"scatter\", \"uid\": \"adee837e-d1e5-11e8-8ddb-a41f72875c19\"}, {\"name\": \"xten\\u4e00\\u6b21\\u901a\\u8fc7\\u65f6\\u957f\", \"x\": [\"10-2\", \"8-1\", \"8-2\", \"8-3\", \"8-4\", \"8-5\", \"9-1\", \"9-2\", \"9-3\", \"9-4\"], \"y\": [4.25, 5.74, 6.69, 3.34, 3.78, 2.97, 3.58, 4.77, 3.37, 4.08], \"type\": \"scatter\", \"uid\": \"adee837f-d1e5-11e8-8ddb-a41f72875c19\"}, {\"name\": \"\\u4e00\\u6b21\\u901a\\u8fc7\\u5e73\\u5747\\u65f6\\u957f\", \"x\": [\"10-2\", \"8-1\", \"8-2\", \"8-3\", \"8-4\", \"8-5\", \"9-1\", \"9-2\", \"9-3\", \"9-4\"], \"y\": [4.25, 11.95, 6.68, 3.81, 5.41, 3.11, 2.07, 6.43, 4.81, 4.68], \"type\": \"scatter\", \"uid\": \"adee8380-d1e5-11e8-8ddb-a41f72875c19\"}], {\"title\": \"NovaS4\\u4e00\\u6b21\\u901a\\u8fc7\\u65f6\\u957f&xten\\u4e00\\u6b21\\u901a\\u8fc7\\u65f6\\u957f&\\u4e00\\u6b21\\u901a\\u8fc7\\u5e73\\u5747\\u65f6\\u957f\\u5468\\u8d8b\\u52bf\\u56fe\", \"xaxis\": {\"mirror\": \"all\", \"nticks\": 20, \"showgrid\": true, \"showline\": true, \"title\": \"\\u5468\", \"type\": \"category\", \"zeroline\": true}, \"yaxis\": {\"mirror\": \"all\", \"nticks\": 20, \"showgrid\": true, \"showline\": true, \"title\": \"NovaS4\\u4e00\\u6b21\\u901a\\u8fc7\\u65f6\\u957f&xten\\u4e00\\u6b21\\u901a\\u8fc7\\u65f6\\u957f&\\u4e00\\u6b21\\u901a\\u8fc7\\u5e73\\u5747\\u65f6\\u957f\", \"zeroline\": true}}, {\"showLink\": true, \"linkText\": \"Export to plot.ly\"})});</script>"
      ]
     },
     "metadata": {},
     "output_type": "display_data"
    },
    {
     "data": {
      "application/vnd.plotly.v1+json": {
       "data": [
        {
         "name": "NovaS4一次通过时长",
         "type": "scatter",
         "uid": "adee8381-d1e5-11e8-8ddb-a41f72875c19",
         "x": [
          8,
          9,
          10
         ],
         "y": [
          7.8199999999999985,
          6.195,
          0
         ]
        },
        {
         "name": "xten一次通过时长",
         "type": "scatter",
         "uid": "adee8382-d1e5-11e8-8ddb-a41f72875c19",
         "x": [
          8,
          9,
          10
         ],
         "y": [
          4.504,
          3.95,
          4.25
         ]
        },
        {
         "name": "一次通过平均时长",
         "type": "scatter",
         "uid": "adee8383-d1e5-11e8-8ddb-a41f72875c19",
         "x": [
          8,
          9,
          10
         ],
         "y": [
          6.192,
          4.4975,
          4.25
         ]
        }
       ],
       "layout": {
        "title": "NovaS4一次通过时长&xten一次通过时长&一次通过平均时长月趋势图",
        "xaxis": {
         "mirror": "all",
         "nticks": 20,
         "showgrid": true,
         "showline": true,
         "title": "月",
         "type": "category",
         "zeroline": true
        },
        "yaxis": {
         "mirror": "all",
         "nticks": 20,
         "showgrid": true,
         "showline": true,
         "title": "NovaS4一次通过时长&xten一次通过时长&一次通过平均时长",
         "zeroline": true
        }
       }
      },
      "text/html": [
       "<div id=\"e0152bfe-f552-4dbb-b5fb-ed4521775497\" style=\"height: 525px; width: 100%;\" class=\"plotly-graph-div\"></div><script type=\"text/javascript\">require([\"plotly\"], function(Plotly) { window.PLOTLYENV=window.PLOTLYENV || {};window.PLOTLYENV.BASE_URL=\"https://plot.ly\";Plotly.newPlot(\"e0152bfe-f552-4dbb-b5fb-ed4521775497\", [{\"name\": \"NovaS4\\u4e00\\u6b21\\u901a\\u8fc7\\u65f6\\u957f\", \"x\": [8, 9, 10], \"y\": [7.8199999999999985, 6.195, 0.0], \"type\": \"scatter\", \"uid\": \"adee8381-d1e5-11e8-8ddb-a41f72875c19\"}, {\"name\": \"xten\\u4e00\\u6b21\\u901a\\u8fc7\\u65f6\\u957f\", \"x\": [8, 9, 10], \"y\": [4.504, 3.95, 4.25], \"type\": \"scatter\", \"uid\": \"adee8382-d1e5-11e8-8ddb-a41f72875c19\"}, {\"name\": \"\\u4e00\\u6b21\\u901a\\u8fc7\\u5e73\\u5747\\u65f6\\u957f\", \"x\": [8, 9, 10], \"y\": [6.192, 4.4975, 4.25], \"type\": \"scatter\", \"uid\": \"adee8383-d1e5-11e8-8ddb-a41f72875c19\"}], {\"title\": \"NovaS4\\u4e00\\u6b21\\u901a\\u8fc7\\u65f6\\u957f&xten\\u4e00\\u6b21\\u901a\\u8fc7\\u65f6\\u957f&\\u4e00\\u6b21\\u901a\\u8fc7\\u5e73\\u5747\\u65f6\\u957f\\u6708\\u8d8b\\u52bf\\u56fe\", \"xaxis\": {\"mirror\": \"all\", \"nticks\": 20, \"showgrid\": true, \"showline\": true, \"title\": \"\\u6708\", \"type\": \"category\", \"zeroline\": true}, \"yaxis\": {\"mirror\": \"all\", \"nticks\": 20, \"showgrid\": true, \"showline\": true, \"title\": \"NovaS4\\u4e00\\u6b21\\u901a\\u8fc7\\u65f6\\u957f&xten\\u4e00\\u6b21\\u901a\\u8fc7\\u65f6\\u957f&\\u4e00\\u6b21\\u901a\\u8fc7\\u5e73\\u5747\\u65f6\\u957f\", \"zeroline\": true}}, {\"showLink\": true, \"linkText\": \"Export to plot.ly\"})});</script>"
      ],
      "text/vnd.plotly.v1+html": [
       "<div id=\"e0152bfe-f552-4dbb-b5fb-ed4521775497\" style=\"height: 525px; width: 100%;\" class=\"plotly-graph-div\"></div><script type=\"text/javascript\">require([\"plotly\"], function(Plotly) { window.PLOTLYENV=window.PLOTLYENV || {};window.PLOTLYENV.BASE_URL=\"https://plot.ly\";Plotly.newPlot(\"e0152bfe-f552-4dbb-b5fb-ed4521775497\", [{\"name\": \"NovaS4\\u4e00\\u6b21\\u901a\\u8fc7\\u65f6\\u957f\", \"x\": [8, 9, 10], \"y\": [7.8199999999999985, 6.195, 0.0], \"type\": \"scatter\", \"uid\": \"adee8381-d1e5-11e8-8ddb-a41f72875c19\"}, {\"name\": \"xten\\u4e00\\u6b21\\u901a\\u8fc7\\u65f6\\u957f\", \"x\": [8, 9, 10], \"y\": [4.504, 3.95, 4.25], \"type\": \"scatter\", \"uid\": \"adee8382-d1e5-11e8-8ddb-a41f72875c19\"}, {\"name\": \"\\u4e00\\u6b21\\u901a\\u8fc7\\u5e73\\u5747\\u65f6\\u957f\", \"x\": [8, 9, 10], \"y\": [6.192, 4.4975, 4.25], \"type\": \"scatter\", \"uid\": \"adee8383-d1e5-11e8-8ddb-a41f72875c19\"}], {\"title\": \"NovaS4\\u4e00\\u6b21\\u901a\\u8fc7\\u65f6\\u957f&xten\\u4e00\\u6b21\\u901a\\u8fc7\\u65f6\\u957f&\\u4e00\\u6b21\\u901a\\u8fc7\\u5e73\\u5747\\u65f6\\u957f\\u6708\\u8d8b\\u52bf\\u56fe\", \"xaxis\": {\"mirror\": \"all\", \"nticks\": 20, \"showgrid\": true, \"showline\": true, \"title\": \"\\u6708\", \"type\": \"category\", \"zeroline\": true}, \"yaxis\": {\"mirror\": \"all\", \"nticks\": 20, \"showgrid\": true, \"showline\": true, \"title\": \"NovaS4\\u4e00\\u6b21\\u901a\\u8fc7\\u65f6\\u957f&xten\\u4e00\\u6b21\\u901a\\u8fc7\\u65f6\\u957f&\\u4e00\\u6b21\\u901a\\u8fc7\\u5e73\\u5747\\u65f6\\u957f\", \"zeroline\": true}}, {\"showLink\": true, \"linkText\": \"Export to plot.ly\"})});</script>"
      ]
     },
     "metadata": {},
     "output_type": "display_data"
    }
   ],
   "source": [
    "ss = myModule.format(all_df2 ,\"日期（格式“月-周次”）\" ,[ '一次通过平均时长','xten一次通过时长','NovaS4一次通过时长' ])\n",
    "myModule.myPlot(ss.groupby('sum')).plot('line')\n",
    "\n",
    "ss = myModule.format(all_df2 ,\"month\" ,[ '一次通过平均时长','xten一次通过时长','NovaS4一次通过时长' ])\n",
    "myModule.myPlot(ss.groupby('mean')).plot('line','月')"
   ]
  },
  {
   "cell_type": "markdown",
   "metadata": {},
   "source": [
    "### 异常"
   ]
  },
  {
   "cell_type": "markdown",
   "metadata": {},
   "source": [
    "####  测序异常，外来index错误，自建库index错误，lims系统错误，个性化拆分数"
   ]
  },
  {
   "cell_type": "code",
   "execution_count": 78,
   "metadata": {
    "collapsed": false
   },
   "outputs": [
    {
     "data": {
      "application/vnd.plotly.v1+json": {
       "data": [
        {
         "name": "测序异常",
         "type": "scatter",
         "uid": "adee8384-d1e5-11e8-8ddb-a41f72875c19",
         "x": [
          "10-2",
          "8-1",
          "8-2",
          "8-3",
          "8-4",
          "8-5",
          "9-1",
          "9-2",
          "9-3",
          "9-4"
         ],
         "y": [
          10,
          10,
          17,
          19,
          12,
          11,
          10,
          6,
          10,
          13
         ]
        },
        {
         "name": "个性化拆分数",
         "type": "scatter",
         "uid": "adee8385-d1e5-11e8-8ddb-a41f72875c19",
         "x": [
          "10-2",
          "8-1",
          "8-2",
          "8-3",
          "8-4",
          "8-5",
          "9-1",
          "9-2",
          "9-3",
          "9-4"
         ],
         "y": [
          4,
          3,
          1,
          0,
          2,
          3,
          1,
          0,
          1,
          2
         ]
        },
        {
         "name": "外来Index错误",
         "type": "scatter",
         "uid": "adee8386-d1e5-11e8-8ddb-a41f72875c19",
         "x": [
          "10-2",
          "8-1",
          "8-2",
          "8-3",
          "8-4",
          "8-5",
          "9-1",
          "9-2",
          "9-3",
          "9-4"
         ],
         "y": [
          8,
          2,
          8,
          4,
          4,
          2,
          8,
          3,
          11,
          12
         ]
        },
        {
         "name": "自建库Index错误",
         "type": "scatter",
         "uid": "adee8387-d1e5-11e8-8ddb-a41f72875c19",
         "x": [
          "10-2",
          "8-1",
          "8-2",
          "8-3",
          "8-4",
          "8-5",
          "9-1",
          "9-2",
          "9-3",
          "9-4"
         ],
         "y": [
          1,
          0,
          2,
          0,
          2,
          2,
          1,
          0,
          0,
          0
         ]
        },
        {
         "name": "lims系统错误",
         "type": "scatter",
         "uid": "adee8388-d1e5-11e8-8ddb-a41f72875c19",
         "x": [
          "10-2",
          "8-1",
          "8-2",
          "8-3",
          "8-4",
          "8-5",
          "9-1",
          "9-2",
          "9-3",
          "9-4"
         ],
         "y": [
          0,
          2,
          3,
          0,
          0,
          1,
          0,
          0,
          3,
          0
         ]
        }
       ],
       "layout": {
        "title": "测序异常&个性化拆分数&外来Index错误&自建库Index错误&lims系统错误周趋势图",
        "xaxis": {
         "mirror": "all",
         "nticks": 20,
         "showgrid": true,
         "showline": true,
         "title": "周",
         "type": "category",
         "zeroline": true
        },
        "yaxis": {
         "mirror": "all",
         "nticks": 20,
         "showgrid": true,
         "showline": true,
         "title": "测序异常&个性化拆分数&外来Index错误&自建库Index错误&lims系统错误",
         "zeroline": true
        }
       }
      },
      "text/html": [
       "<div id=\"f14ffb66-3bc2-4a1a-bad0-ef3f37450441\" style=\"height: 525px; width: 100%;\" class=\"plotly-graph-div\"></div><script type=\"text/javascript\">require([\"plotly\"], function(Plotly) { window.PLOTLYENV=window.PLOTLYENV || {};window.PLOTLYENV.BASE_URL=\"https://plot.ly\";Plotly.newPlot(\"f14ffb66-3bc2-4a1a-bad0-ef3f37450441\", [{\"name\": \"\\u6d4b\\u5e8f\\u5f02\\u5e38\", \"x\": [\"10-2\", \"8-1\", \"8-2\", \"8-3\", \"8-4\", \"8-5\", \"9-1\", \"9-2\", \"9-3\", \"9-4\"], \"y\": [10, 10, 17, 19, 12, 11, 10, 6, 10, 13], \"type\": \"scatter\", \"uid\": \"adee8384-d1e5-11e8-8ddb-a41f72875c19\"}, {\"name\": \"\\u4e2a\\u6027\\u5316\\u62c6\\u5206\\u6570\", \"x\": [\"10-2\", \"8-1\", \"8-2\", \"8-3\", \"8-4\", \"8-5\", \"9-1\", \"9-2\", \"9-3\", \"9-4\"], \"y\": [4, 3, 1, 0, 2, 3, 1, 0, 1, 2], \"type\": \"scatter\", \"uid\": \"adee8385-d1e5-11e8-8ddb-a41f72875c19\"}, {\"name\": \"\\u5916\\u6765Index\\u9519\\u8bef\", \"x\": [\"10-2\", \"8-1\", \"8-2\", \"8-3\", \"8-4\", \"8-5\", \"9-1\", \"9-2\", \"9-3\", \"9-4\"], \"y\": [8, 2, 8, 4, 4, 2, 8, 3, 11, 12], \"type\": \"scatter\", \"uid\": \"adee8386-d1e5-11e8-8ddb-a41f72875c19\"}, {\"name\": \"\\u81ea\\u5efa\\u5e93Index\\u9519\\u8bef\", \"x\": [\"10-2\", \"8-1\", \"8-2\", \"8-3\", \"8-4\", \"8-5\", \"9-1\", \"9-2\", \"9-3\", \"9-4\"], \"y\": [1, 0, 2, 0, 2, 2, 1, 0, 0, 0], \"type\": \"scatter\", \"uid\": \"adee8387-d1e5-11e8-8ddb-a41f72875c19\"}, {\"name\": \"lims\\u7cfb\\u7edf\\u9519\\u8bef\", \"x\": [\"10-2\", \"8-1\", \"8-2\", \"8-3\", \"8-4\", \"8-5\", \"9-1\", \"9-2\", \"9-3\", \"9-4\"], \"y\": [0, 2, 3, 0, 0, 1, 0, 0, 3, 0], \"type\": \"scatter\", \"uid\": \"adee8388-d1e5-11e8-8ddb-a41f72875c19\"}], {\"title\": \"\\u6d4b\\u5e8f\\u5f02\\u5e38&\\u4e2a\\u6027\\u5316\\u62c6\\u5206\\u6570&\\u5916\\u6765Index\\u9519\\u8bef&\\u81ea\\u5efa\\u5e93Index\\u9519\\u8bef&lims\\u7cfb\\u7edf\\u9519\\u8bef\\u5468\\u8d8b\\u52bf\\u56fe\", \"xaxis\": {\"mirror\": \"all\", \"nticks\": 20, \"showgrid\": true, \"showline\": true, \"title\": \"\\u5468\", \"type\": \"category\", \"zeroline\": true}, \"yaxis\": {\"mirror\": \"all\", \"nticks\": 20, \"showgrid\": true, \"showline\": true, \"title\": \"\\u6d4b\\u5e8f\\u5f02\\u5e38&\\u4e2a\\u6027\\u5316\\u62c6\\u5206\\u6570&\\u5916\\u6765Index\\u9519\\u8bef&\\u81ea\\u5efa\\u5e93Index\\u9519\\u8bef&lims\\u7cfb\\u7edf\\u9519\\u8bef\", \"zeroline\": true}}, {\"showLink\": true, \"linkText\": \"Export to plot.ly\"})});</script>"
      ],
      "text/vnd.plotly.v1+html": [
       "<div id=\"f14ffb66-3bc2-4a1a-bad0-ef3f37450441\" style=\"height: 525px; width: 100%;\" class=\"plotly-graph-div\"></div><script type=\"text/javascript\">require([\"plotly\"], function(Plotly) { window.PLOTLYENV=window.PLOTLYENV || {};window.PLOTLYENV.BASE_URL=\"https://plot.ly\";Plotly.newPlot(\"f14ffb66-3bc2-4a1a-bad0-ef3f37450441\", [{\"name\": \"\\u6d4b\\u5e8f\\u5f02\\u5e38\", \"x\": [\"10-2\", \"8-1\", \"8-2\", \"8-3\", \"8-4\", \"8-5\", \"9-1\", \"9-2\", \"9-3\", \"9-4\"], \"y\": [10, 10, 17, 19, 12, 11, 10, 6, 10, 13], \"type\": \"scatter\", \"uid\": \"adee8384-d1e5-11e8-8ddb-a41f72875c19\"}, {\"name\": \"\\u4e2a\\u6027\\u5316\\u62c6\\u5206\\u6570\", \"x\": [\"10-2\", \"8-1\", \"8-2\", \"8-3\", \"8-4\", \"8-5\", \"9-1\", \"9-2\", \"9-3\", \"9-4\"], \"y\": [4, 3, 1, 0, 2, 3, 1, 0, 1, 2], \"type\": \"scatter\", \"uid\": \"adee8385-d1e5-11e8-8ddb-a41f72875c19\"}, {\"name\": \"\\u5916\\u6765Index\\u9519\\u8bef\", \"x\": [\"10-2\", \"8-1\", \"8-2\", \"8-3\", \"8-4\", \"8-5\", \"9-1\", \"9-2\", \"9-3\", \"9-4\"], \"y\": [8, 2, 8, 4, 4, 2, 8, 3, 11, 12], \"type\": \"scatter\", \"uid\": \"adee8386-d1e5-11e8-8ddb-a41f72875c19\"}, {\"name\": \"\\u81ea\\u5efa\\u5e93Index\\u9519\\u8bef\", \"x\": [\"10-2\", \"8-1\", \"8-2\", \"8-3\", \"8-4\", \"8-5\", \"9-1\", \"9-2\", \"9-3\", \"9-4\"], \"y\": [1, 0, 2, 0, 2, 2, 1, 0, 0, 0], \"type\": \"scatter\", \"uid\": \"adee8387-d1e5-11e8-8ddb-a41f72875c19\"}, {\"name\": \"lims\\u7cfb\\u7edf\\u9519\\u8bef\", \"x\": [\"10-2\", \"8-1\", \"8-2\", \"8-3\", \"8-4\", \"8-5\", \"9-1\", \"9-2\", \"9-3\", \"9-4\"], \"y\": [0, 2, 3, 0, 0, 1, 0, 0, 3, 0], \"type\": \"scatter\", \"uid\": \"adee8388-d1e5-11e8-8ddb-a41f72875c19\"}], {\"title\": \"\\u6d4b\\u5e8f\\u5f02\\u5e38&\\u4e2a\\u6027\\u5316\\u62c6\\u5206\\u6570&\\u5916\\u6765Index\\u9519\\u8bef&\\u81ea\\u5efa\\u5e93Index\\u9519\\u8bef&lims\\u7cfb\\u7edf\\u9519\\u8bef\\u5468\\u8d8b\\u52bf\\u56fe\", \"xaxis\": {\"mirror\": \"all\", \"nticks\": 20, \"showgrid\": true, \"showline\": true, \"title\": \"\\u5468\", \"type\": \"category\", \"zeroline\": true}, \"yaxis\": {\"mirror\": \"all\", \"nticks\": 20, \"showgrid\": true, \"showline\": true, \"title\": \"\\u6d4b\\u5e8f\\u5f02\\u5e38&\\u4e2a\\u6027\\u5316\\u62c6\\u5206\\u6570&\\u5916\\u6765Index\\u9519\\u8bef&\\u81ea\\u5efa\\u5e93Index\\u9519\\u8bef&lims\\u7cfb\\u7edf\\u9519\\u8bef\", \"zeroline\": true}}, {\"showLink\": true, \"linkText\": \"Export to plot.ly\"})});</script>"
      ]
     },
     "metadata": {},
     "output_type": "display_data"
    },
    {
     "data": {
      "application/vnd.plotly.v1+json": {
       "data": [
        {
         "name": "测序异常",
         "type": "scatter",
         "uid": "adee8389-d1e5-11e8-8ddb-a41f72875c19",
         "x": [
          8,
          9,
          10
         ],
         "y": [
          13.8,
          9.75,
          10
         ]
        },
        {
         "name": "个性化拆分数",
         "type": "scatter",
         "uid": "adee838a-d1e5-11e8-8ddb-a41f72875c19",
         "x": [
          8,
          9,
          10
         ],
         "y": [
          1.8,
          1,
          4
         ]
        },
        {
         "name": "外来Index错误",
         "type": "scatter",
         "uid": "adee838b-d1e5-11e8-8ddb-a41f72875c19",
         "x": [
          8,
          9,
          10
         ],
         "y": [
          4,
          8.5,
          8
         ]
        },
        {
         "name": "自建库Index错误",
         "type": "scatter",
         "uid": "adee838c-d1e5-11e8-8ddb-a41f72875c19",
         "x": [
          8,
          9,
          10
         ],
         "y": [
          1.2,
          0.25,
          1
         ]
        },
        {
         "name": "lims系统错误",
         "type": "scatter",
         "uid": "adee838d-d1e5-11e8-8ddb-a41f72875c19",
         "x": [
          8,
          9,
          10
         ],
         "y": [
          1.2,
          0.75,
          0
         ]
        }
       ],
       "layout": {
        "title": "测序异常&个性化拆分数&外来Index错误&自建库Index错误&lims系统错误月趋势图",
        "xaxis": {
         "mirror": "all",
         "nticks": 20,
         "showgrid": true,
         "showline": true,
         "title": "月",
         "type": "category",
         "zeroline": true
        },
        "yaxis": {
         "mirror": "all",
         "nticks": 20,
         "showgrid": true,
         "showline": true,
         "title": "测序异常&个性化拆分数&外来Index错误&自建库Index错误&lims系统错误",
         "zeroline": true
        }
       }
      },
      "text/html": [
       "<div id=\"bf07c604-4491-4a49-9677-1f4991948c30\" style=\"height: 525px; width: 100%;\" class=\"plotly-graph-div\"></div><script type=\"text/javascript\">require([\"plotly\"], function(Plotly) { window.PLOTLYENV=window.PLOTLYENV || {};window.PLOTLYENV.BASE_URL=\"https://plot.ly\";Plotly.newPlot(\"bf07c604-4491-4a49-9677-1f4991948c30\", [{\"name\": \"\\u6d4b\\u5e8f\\u5f02\\u5e38\", \"x\": [8, 9, 10], \"y\": [13.8, 9.75, 10.0], \"type\": \"scatter\", \"uid\": \"adee8389-d1e5-11e8-8ddb-a41f72875c19\"}, {\"name\": \"\\u4e2a\\u6027\\u5316\\u62c6\\u5206\\u6570\", \"x\": [8, 9, 10], \"y\": [1.8, 1.0, 4.0], \"type\": \"scatter\", \"uid\": \"adee838a-d1e5-11e8-8ddb-a41f72875c19\"}, {\"name\": \"\\u5916\\u6765Index\\u9519\\u8bef\", \"x\": [8, 9, 10], \"y\": [4.0, 8.5, 8.0], \"type\": \"scatter\", \"uid\": \"adee838b-d1e5-11e8-8ddb-a41f72875c19\"}, {\"name\": \"\\u81ea\\u5efa\\u5e93Index\\u9519\\u8bef\", \"x\": [8, 9, 10], \"y\": [1.2, 0.25, 1.0], \"type\": \"scatter\", \"uid\": \"adee838c-d1e5-11e8-8ddb-a41f72875c19\"}, {\"name\": \"lims\\u7cfb\\u7edf\\u9519\\u8bef\", \"x\": [8, 9, 10], \"y\": [1.2, 0.75, 0.0], \"type\": \"scatter\", \"uid\": \"adee838d-d1e5-11e8-8ddb-a41f72875c19\"}], {\"title\": \"\\u6d4b\\u5e8f\\u5f02\\u5e38&\\u4e2a\\u6027\\u5316\\u62c6\\u5206\\u6570&\\u5916\\u6765Index\\u9519\\u8bef&\\u81ea\\u5efa\\u5e93Index\\u9519\\u8bef&lims\\u7cfb\\u7edf\\u9519\\u8bef\\u6708\\u8d8b\\u52bf\\u56fe\", \"xaxis\": {\"mirror\": \"all\", \"nticks\": 20, \"showgrid\": true, \"showline\": true, \"title\": \"\\u6708\", \"type\": \"category\", \"zeroline\": true}, \"yaxis\": {\"mirror\": \"all\", \"nticks\": 20, \"showgrid\": true, \"showline\": true, \"title\": \"\\u6d4b\\u5e8f\\u5f02\\u5e38&\\u4e2a\\u6027\\u5316\\u62c6\\u5206\\u6570&\\u5916\\u6765Index\\u9519\\u8bef&\\u81ea\\u5efa\\u5e93Index\\u9519\\u8bef&lims\\u7cfb\\u7edf\\u9519\\u8bef\", \"zeroline\": true}}, {\"showLink\": true, \"linkText\": \"Export to plot.ly\"})});</script>"
      ],
      "text/vnd.plotly.v1+html": [
       "<div id=\"bf07c604-4491-4a49-9677-1f4991948c30\" style=\"height: 525px; width: 100%;\" class=\"plotly-graph-div\"></div><script type=\"text/javascript\">require([\"plotly\"], function(Plotly) { window.PLOTLYENV=window.PLOTLYENV || {};window.PLOTLYENV.BASE_URL=\"https://plot.ly\";Plotly.newPlot(\"bf07c604-4491-4a49-9677-1f4991948c30\", [{\"name\": \"\\u6d4b\\u5e8f\\u5f02\\u5e38\", \"x\": [8, 9, 10], \"y\": [13.8, 9.75, 10.0], \"type\": \"scatter\", \"uid\": \"adee8389-d1e5-11e8-8ddb-a41f72875c19\"}, {\"name\": \"\\u4e2a\\u6027\\u5316\\u62c6\\u5206\\u6570\", \"x\": [8, 9, 10], \"y\": [1.8, 1.0, 4.0], \"type\": \"scatter\", \"uid\": \"adee838a-d1e5-11e8-8ddb-a41f72875c19\"}, {\"name\": \"\\u5916\\u6765Index\\u9519\\u8bef\", \"x\": [8, 9, 10], \"y\": [4.0, 8.5, 8.0], \"type\": \"scatter\", \"uid\": \"adee838b-d1e5-11e8-8ddb-a41f72875c19\"}, {\"name\": \"\\u81ea\\u5efa\\u5e93Index\\u9519\\u8bef\", \"x\": [8, 9, 10], \"y\": [1.2, 0.25, 1.0], \"type\": \"scatter\", \"uid\": \"adee838c-d1e5-11e8-8ddb-a41f72875c19\"}, {\"name\": \"lims\\u7cfb\\u7edf\\u9519\\u8bef\", \"x\": [8, 9, 10], \"y\": [1.2, 0.75, 0.0], \"type\": \"scatter\", \"uid\": \"adee838d-d1e5-11e8-8ddb-a41f72875c19\"}], {\"title\": \"\\u6d4b\\u5e8f\\u5f02\\u5e38&\\u4e2a\\u6027\\u5316\\u62c6\\u5206\\u6570&\\u5916\\u6765Index\\u9519\\u8bef&\\u81ea\\u5efa\\u5e93Index\\u9519\\u8bef&lims\\u7cfb\\u7edf\\u9519\\u8bef\\u6708\\u8d8b\\u52bf\\u56fe\", \"xaxis\": {\"mirror\": \"all\", \"nticks\": 20, \"showgrid\": true, \"showline\": true, \"title\": \"\\u6708\", \"type\": \"category\", \"zeroline\": true}, \"yaxis\": {\"mirror\": \"all\", \"nticks\": 20, \"showgrid\": true, \"showline\": true, \"title\": \"\\u6d4b\\u5e8f\\u5f02\\u5e38&\\u4e2a\\u6027\\u5316\\u62c6\\u5206\\u6570&\\u5916\\u6765Index\\u9519\\u8bef&\\u81ea\\u5efa\\u5e93Index\\u9519\\u8bef&lims\\u7cfb\\u7edf\\u9519\\u8bef\", \"zeroline\": true}}, {\"showLink\": true, \"linkText\": \"Export to plot.ly\"})});</script>"
      ]
     },
     "metadata": {},
     "output_type": "display_data"
    }
   ],
   "source": [
    "in_list = ['测序异常', '外来Index错误' , '自建库Index错误' ,'lims系统错误', '个性化拆分数' ]\n",
    "ss = myModule.format(all_df2 ,\"日期（格式“月-周次”）\" ,in_list)\n",
    "myModule.myPlot(ss.groupby('sum')).plot('line')\n",
    "\n",
    "ss = myModule.format(all_df2 ,\"month\" ,in_list)\n",
    "myModule.myPlot(ss.groupby('mean')).plot('line','月')"
   ]
  },
  {
   "cell_type": "markdown",
   "metadata": {},
   "source": [
    "#### 拆分流程异常数，延期处理"
   ]
  },
  {
   "cell_type": "code",
   "execution_count": 79,
   "metadata": {
    "collapsed": false
   },
   "outputs": [
    {
     "data": {
      "application/vnd.plotly.v1+json": {
       "data": [
        {
         "name": "拆分流程异常数",
         "type": "scatter",
         "uid": "adee838e-d1e5-11e8-8ddb-a41f72875c19",
         "x": [
          "10-2",
          "8-1",
          "8-2",
          "8-3",
          "8-4",
          "8-5",
          "9-1",
          "9-2",
          "9-3",
          "9-4"
         ],
         "y": [
          0,
          2,
          0,
          1,
          0,
          4,
          2,
          0,
          0,
          0
         ]
        },
        {
         "name": "处理延期",
         "type": "scatter",
         "uid": "adee838f-d1e5-11e8-8ddb-a41f72875c19",
         "x": [
          "10-2",
          "8-1",
          "8-2",
          "8-3",
          "8-4",
          "8-5",
          "9-1",
          "9-2",
          "9-3",
          "9-4"
         ],
         "y": [
          2,
          0,
          0,
          0,
          0,
          0,
          0,
          0,
          0,
          1
         ]
        }
       ],
       "layout": {
        "title": "拆分流程异常数&处理延期周趋势图",
        "xaxis": {
         "mirror": "all",
         "nticks": 20,
         "showgrid": true,
         "showline": true,
         "title": "周",
         "type": "category",
         "zeroline": true
        },
        "yaxis": {
         "mirror": "all",
         "nticks": 20,
         "showgrid": true,
         "showline": true,
         "title": "拆分流程异常数&处理延期",
         "zeroline": true
        }
       }
      },
      "text/html": [
       "<div id=\"3a1c173d-633d-4b35-af77-011988386fa5\" style=\"height: 525px; width: 100%;\" class=\"plotly-graph-div\"></div><script type=\"text/javascript\">require([\"plotly\"], function(Plotly) { window.PLOTLYENV=window.PLOTLYENV || {};window.PLOTLYENV.BASE_URL=\"https://plot.ly\";Plotly.newPlot(\"3a1c173d-633d-4b35-af77-011988386fa5\", [{\"name\": \"\\u62c6\\u5206\\u6d41\\u7a0b\\u5f02\\u5e38\\u6570\", \"x\": [\"10-2\", \"8-1\", \"8-2\", \"8-3\", \"8-4\", \"8-5\", \"9-1\", \"9-2\", \"9-3\", \"9-4\"], \"y\": [0, 2, 0, 1, 0, 4, 2, 0, 0, 0], \"type\": \"scatter\", \"uid\": \"adee838e-d1e5-11e8-8ddb-a41f72875c19\"}, {\"name\": \"\\u5904\\u7406\\u5ef6\\u671f\", \"x\": [\"10-2\", \"8-1\", \"8-2\", \"8-3\", \"8-4\", \"8-5\", \"9-1\", \"9-2\", \"9-3\", \"9-4\"], \"y\": [2, 0, 0, 0, 0, 0, 0, 0, 0, 1], \"type\": \"scatter\", \"uid\": \"adee838f-d1e5-11e8-8ddb-a41f72875c19\"}], {\"title\": \"\\u62c6\\u5206\\u6d41\\u7a0b\\u5f02\\u5e38\\u6570&\\u5904\\u7406\\u5ef6\\u671f\\u5468\\u8d8b\\u52bf\\u56fe\", \"xaxis\": {\"mirror\": \"all\", \"nticks\": 20, \"showgrid\": true, \"showline\": true, \"title\": \"\\u5468\", \"type\": \"category\", \"zeroline\": true}, \"yaxis\": {\"mirror\": \"all\", \"nticks\": 20, \"showgrid\": true, \"showline\": true, \"title\": \"\\u62c6\\u5206\\u6d41\\u7a0b\\u5f02\\u5e38\\u6570&\\u5904\\u7406\\u5ef6\\u671f\", \"zeroline\": true}}, {\"showLink\": true, \"linkText\": \"Export to plot.ly\"})});</script>"
      ],
      "text/vnd.plotly.v1+html": [
       "<div id=\"3a1c173d-633d-4b35-af77-011988386fa5\" style=\"height: 525px; width: 100%;\" class=\"plotly-graph-div\"></div><script type=\"text/javascript\">require([\"plotly\"], function(Plotly) { window.PLOTLYENV=window.PLOTLYENV || {};window.PLOTLYENV.BASE_URL=\"https://plot.ly\";Plotly.newPlot(\"3a1c173d-633d-4b35-af77-011988386fa5\", [{\"name\": \"\\u62c6\\u5206\\u6d41\\u7a0b\\u5f02\\u5e38\\u6570\", \"x\": [\"10-2\", \"8-1\", \"8-2\", \"8-3\", \"8-4\", \"8-5\", \"9-1\", \"9-2\", \"9-3\", \"9-4\"], \"y\": [0, 2, 0, 1, 0, 4, 2, 0, 0, 0], \"type\": \"scatter\", \"uid\": \"adee838e-d1e5-11e8-8ddb-a41f72875c19\"}, {\"name\": \"\\u5904\\u7406\\u5ef6\\u671f\", \"x\": [\"10-2\", \"8-1\", \"8-2\", \"8-3\", \"8-4\", \"8-5\", \"9-1\", \"9-2\", \"9-3\", \"9-4\"], \"y\": [2, 0, 0, 0, 0, 0, 0, 0, 0, 1], \"type\": \"scatter\", \"uid\": \"adee838f-d1e5-11e8-8ddb-a41f72875c19\"}], {\"title\": \"\\u62c6\\u5206\\u6d41\\u7a0b\\u5f02\\u5e38\\u6570&\\u5904\\u7406\\u5ef6\\u671f\\u5468\\u8d8b\\u52bf\\u56fe\", \"xaxis\": {\"mirror\": \"all\", \"nticks\": 20, \"showgrid\": true, \"showline\": true, \"title\": \"\\u5468\", \"type\": \"category\", \"zeroline\": true}, \"yaxis\": {\"mirror\": \"all\", \"nticks\": 20, \"showgrid\": true, \"showline\": true, \"title\": \"\\u62c6\\u5206\\u6d41\\u7a0b\\u5f02\\u5e38\\u6570&\\u5904\\u7406\\u5ef6\\u671f\", \"zeroline\": true}}, {\"showLink\": true, \"linkText\": \"Export to plot.ly\"})});</script>"
      ]
     },
     "metadata": {},
     "output_type": "display_data"
    },
    {
     "data": {
      "application/vnd.plotly.v1+json": {
       "data": [
        {
         "name": "拆分流程异常数",
         "type": "scatter",
         "uid": "adee8390-d1e5-11e8-8ddb-a41f72875c19",
         "x": [
          8,
          9,
          10
         ],
         "y": [
          1.4,
          0.5,
          0
         ]
        },
        {
         "name": "处理延期",
         "type": "scatter",
         "uid": "adee8391-d1e5-11e8-8ddb-a41f72875c19",
         "x": [
          8,
          9,
          10
         ],
         "y": [
          0,
          0.25,
          2
         ]
        }
       ],
       "layout": {
        "title": "拆分流程异常数&处理延期月趋势图",
        "xaxis": {
         "mirror": "all",
         "nticks": 20,
         "showgrid": true,
         "showline": true,
         "title": "月",
         "type": "category",
         "zeroline": true
        },
        "yaxis": {
         "mirror": "all",
         "nticks": 20,
         "showgrid": true,
         "showline": true,
         "title": "拆分流程异常数&处理延期",
         "zeroline": true
        }
       }
      },
      "text/html": [
       "<div id=\"b4e784f3-b238-4461-a3ee-0aa303884ec0\" style=\"height: 525px; width: 100%;\" class=\"plotly-graph-div\"></div><script type=\"text/javascript\">require([\"plotly\"], function(Plotly) { window.PLOTLYENV=window.PLOTLYENV || {};window.PLOTLYENV.BASE_URL=\"https://plot.ly\";Plotly.newPlot(\"b4e784f3-b238-4461-a3ee-0aa303884ec0\", [{\"name\": \"\\u62c6\\u5206\\u6d41\\u7a0b\\u5f02\\u5e38\\u6570\", \"x\": [8, 9, 10], \"y\": [1.4, 0.5, 0.0], \"type\": \"scatter\", \"uid\": \"adee8390-d1e5-11e8-8ddb-a41f72875c19\"}, {\"name\": \"\\u5904\\u7406\\u5ef6\\u671f\", \"x\": [8, 9, 10], \"y\": [0.0, 0.25, 2.0], \"type\": \"scatter\", \"uid\": \"adee8391-d1e5-11e8-8ddb-a41f72875c19\"}], {\"title\": \"\\u62c6\\u5206\\u6d41\\u7a0b\\u5f02\\u5e38\\u6570&\\u5904\\u7406\\u5ef6\\u671f\\u6708\\u8d8b\\u52bf\\u56fe\", \"xaxis\": {\"mirror\": \"all\", \"nticks\": 20, \"showgrid\": true, \"showline\": true, \"title\": \"\\u6708\", \"type\": \"category\", \"zeroline\": true}, \"yaxis\": {\"mirror\": \"all\", \"nticks\": 20, \"showgrid\": true, \"showline\": true, \"title\": \"\\u62c6\\u5206\\u6d41\\u7a0b\\u5f02\\u5e38\\u6570&\\u5904\\u7406\\u5ef6\\u671f\", \"zeroline\": true}}, {\"showLink\": true, \"linkText\": \"Export to plot.ly\"})});</script>"
      ],
      "text/vnd.plotly.v1+html": [
       "<div id=\"b4e784f3-b238-4461-a3ee-0aa303884ec0\" style=\"height: 525px; width: 100%;\" class=\"plotly-graph-div\"></div><script type=\"text/javascript\">require([\"plotly\"], function(Plotly) { window.PLOTLYENV=window.PLOTLYENV || {};window.PLOTLYENV.BASE_URL=\"https://plot.ly\";Plotly.newPlot(\"b4e784f3-b238-4461-a3ee-0aa303884ec0\", [{\"name\": \"\\u62c6\\u5206\\u6d41\\u7a0b\\u5f02\\u5e38\\u6570\", \"x\": [8, 9, 10], \"y\": [1.4, 0.5, 0.0], \"type\": \"scatter\", \"uid\": \"adee8390-d1e5-11e8-8ddb-a41f72875c19\"}, {\"name\": \"\\u5904\\u7406\\u5ef6\\u671f\", \"x\": [8, 9, 10], \"y\": [0.0, 0.25, 2.0], \"type\": \"scatter\", \"uid\": \"adee8391-d1e5-11e8-8ddb-a41f72875c19\"}], {\"title\": \"\\u62c6\\u5206\\u6d41\\u7a0b\\u5f02\\u5e38\\u6570&\\u5904\\u7406\\u5ef6\\u671f\\u6708\\u8d8b\\u52bf\\u56fe\", \"xaxis\": {\"mirror\": \"all\", \"nticks\": 20, \"showgrid\": true, \"showline\": true, \"title\": \"\\u6708\", \"type\": \"category\", \"zeroline\": true}, \"yaxis\": {\"mirror\": \"all\", \"nticks\": 20, \"showgrid\": true, \"showline\": true, \"title\": \"\\u62c6\\u5206\\u6d41\\u7a0b\\u5f02\\u5e38\\u6570&\\u5904\\u7406\\u5ef6\\u671f\", \"zeroline\": true}}, {\"showLink\": true, \"linkText\": \"Export to plot.ly\"})});</script>"
      ]
     },
     "metadata": {},
     "output_type": "display_data"
    }
   ],
   "source": [
    "in_list = ['拆分流程异常数','处理延期' ]\n",
    "ss = myModule.format(all_df2 ,\"日期（格式“月-周次”）\" ,in_list)\n",
    "myModule.myPlot(ss.groupby('sum')).plot('line')\n",
    "\n",
    "ss = myModule.format(all_df2 ,\"month\" ,in_list)\n",
    "myModule.myPlot(ss.groupby('mean')).plot('line','月')"
   ]
  },
  {
   "cell_type": "code",
   "execution_count": 80,
   "metadata": {
    "collapsed": true
   },
   "outputs": [],
   "source": [
    "all_files , title = myModule.get_title(pathway , 0 ) ##给路径\n",
    "all_dict = myModule.read_xlsx(all_files, 0 ) ## read all files"
   ]
  },
  {
   "cell_type": "markdown",
   "metadata": {},
   "source": [
    "# 过滤项目个人情况"
   ]
  },
  {
   "cell_type": "markdown",
   "metadata": {},
   "source": [
    "## 产能"
   ]
  },
  {
   "cell_type": "markdown",
   "metadata": {},
   "source": [
    "### 下机批次"
   ]
  },
  {
   "cell_type": "code",
   "execution_count": 81,
   "metadata": {
    "collapsed": false
   },
   "outputs": [
    {
     "data": {
      "application/vnd.plotly.v1+json": {
       "data": [
        {
         "line": {
          "dash": "solid"
         },
         "name": "下机项目数(冷雪)",
         "type": "scatter",
         "uid": "adee8392-d1e5-11e8-8ddb-a41f72875c19",
         "x": [
          "10-2",
          "8-1",
          "8-2",
          "8-3",
          "8-4",
          "8-5",
          "9-1",
          "9-2",
          "9-3",
          "9-4"
         ],
         "y": [
          65,
          31,
          49,
          51,
          26,
          2,
          54,
          63,
          103,
          138
         ]
        },
        {
         "line": {
          "dash": "dot"
         },
         "name": "下机项目数(卢楠)",
         "type": "scatter",
         "uid": "adee8393-d1e5-11e8-8ddb-a41f72875c19",
         "x": [
          "10-2",
          "8-1",
          "8-2",
          "8-3",
          "8-4",
          "8-5",
          "9-1",
          "9-2",
          "9-3",
          "9-4"
         ],
         "y": [
          null,
          26,
          34,
          21,
          13,
          2,
          1,
          2,
          0,
          0
         ]
        },
        {
         "line": {
          "dash": "dash"
         },
         "name": "下机项目数(屈昂)",
         "type": "scatter",
         "uid": "adee8394-d1e5-11e8-8ddb-a41f72875c19",
         "x": [
          "10-2",
          "8-1",
          "8-2",
          "8-3",
          "8-4",
          "8-5",
          "9-1",
          "9-2",
          "9-3",
          "9-4"
         ],
         "y": [
          1,
          36,
          62,
          62,
          96,
          76,
          117,
          38,
          19,
          15
         ]
        },
        {
         "line": {
          "dash": "longdash"
         },
         "name": "下机项目数(张悦)",
         "type": "scatter",
         "uid": "adee8395-d1e5-11e8-8ddb-a41f72875c19",
         "x": [
          "10-2",
          "8-1",
          "8-2",
          "8-3",
          "8-4",
          "8-5",
          "9-1",
          "9-2",
          "9-3",
          "9-4"
         ],
         "y": [
          0,
          1,
          1,
          1,
          1,
          5,
          2,
          0,
          0,
          0
         ]
        },
        {
         "line": {
          "dash": "solid"
         },
         "name": "下机批次数(冷雪)",
         "type": "scatter",
         "uid": "adee8396-d1e5-11e8-8ddb-a41f72875c19",
         "x": [
          "10-2",
          "8-1",
          "8-2",
          "8-3",
          "8-4",
          "8-5",
          "9-1",
          "9-2",
          "9-3",
          "9-4"
         ],
         "y": [
          69,
          38,
          58,
          66,
          28,
          5,
          58,
          76,
          115,
          159
         ]
        },
        {
         "line": {
          "dash": "dot"
         },
         "name": "下机批次数(卢楠)",
         "type": "scatter",
         "uid": "adee8397-d1e5-11e8-8ddb-a41f72875c19",
         "x": [
          "10-2",
          "8-1",
          "8-2",
          "8-3",
          "8-4",
          "8-5",
          "9-1",
          "9-2",
          "9-3",
          "9-4"
         ],
         "y": [
          null,
          36,
          47,
          23,
          13,
          3,
          2,
          3,
          0,
          0
         ]
        },
        {
         "line": {
          "dash": "dash"
         },
         "name": "下机批次数(屈昂)",
         "type": "scatter",
         "uid": "adee8398-d1e5-11e8-8ddb-a41f72875c19",
         "x": [
          "10-2",
          "8-1",
          "8-2",
          "8-3",
          "8-4",
          "8-5",
          "9-1",
          "9-2",
          "9-3",
          "9-4"
         ],
         "y": [
          1,
          42,
          74,
          75,
          119,
          85,
          135,
          45,
          21,
          17
         ]
        },
        {
         "line": {
          "dash": "longdash"
         },
         "name": "下机批次数(张悦)",
         "type": "scatter",
         "uid": "adee8399-d1e5-11e8-8ddb-a41f72875c19",
         "x": [
          "10-2",
          "8-1",
          "8-2",
          "8-3",
          "8-4",
          "8-5",
          "9-1",
          "9-2",
          "9-3",
          "9-4"
         ],
         "y": [
          0,
          2,
          2,
          1,
          1,
          7,
          4,
          0,
          0,
          0
         ]
        }
       ],
       "layout": {
        "title": "下机项目数&下机批次数周趋势图",
        "xaxis": {
         "mirror": "all",
         "nticks": 20,
         "showgrid": true,
         "showline": true,
         "title": "周",
         "type": "category",
         "zeroline": true
        },
        "yaxis": {
         "mirror": "all",
         "nticks": 20,
         "showgrid": true,
         "showline": true,
         "title": "下机项目数&下机批次数",
         "zeroline": true
        }
       }
      },
      "text/html": [
       "<div id=\"8cc75e7f-5ed7-4a72-ac20-cd0941417941\" style=\"height: 525px; width: 100%;\" class=\"plotly-graph-div\"></div><script type=\"text/javascript\">require([\"plotly\"], function(Plotly) { window.PLOTLYENV=window.PLOTLYENV || {};window.PLOTLYENV.BASE_URL=\"https://plot.ly\";Plotly.newPlot(\"8cc75e7f-5ed7-4a72-ac20-cd0941417941\", [{\"line\": {\"dash\": \"solid\"}, \"name\": \"\\u4e0b\\u673a\\u9879\\u76ee\\u6570(\\u51b7\\u96ea)\", \"x\": [\"10-2\", \"8-1\", \"8-2\", \"8-3\", \"8-4\", \"8-5\", \"9-1\", \"9-2\", \"9-3\", \"9-4\"], \"y\": [65.0, 31.0, 49.0, 51.0, 26.0, 2.0, 54.0, 63.0, 103.0, 138.0], \"type\": \"scatter\", \"uid\": \"adee8392-d1e5-11e8-8ddb-a41f72875c19\"}, {\"line\": {\"dash\": \"dot\"}, \"name\": \"\\u4e0b\\u673a\\u9879\\u76ee\\u6570(\\u5362\\u6960)\", \"x\": [\"10-2\", \"8-1\", \"8-2\", \"8-3\", \"8-4\", \"8-5\", \"9-1\", \"9-2\", \"9-3\", \"9-4\"], \"y\": [null, 26.0, 34.0, 21.0, 13.0, 2.0, 1.0, 2.0, 0.0, 0.0], \"type\": \"scatter\", \"uid\": \"adee8393-d1e5-11e8-8ddb-a41f72875c19\"}, {\"line\": {\"dash\": \"dash\"}, \"name\": \"\\u4e0b\\u673a\\u9879\\u76ee\\u6570(\\u5c48\\u6602)\", \"x\": [\"10-2\", \"8-1\", \"8-2\", \"8-3\", \"8-4\", \"8-5\", \"9-1\", \"9-2\", \"9-3\", \"9-4\"], \"y\": [1.0, 36.0, 62.0, 62.0, 96.0, 76.0, 117.0, 38.0, 19.0, 15.0], \"type\": \"scatter\", \"uid\": \"adee8394-d1e5-11e8-8ddb-a41f72875c19\"}, {\"line\": {\"dash\": \"longdash\"}, \"name\": \"\\u4e0b\\u673a\\u9879\\u76ee\\u6570(\\u5f20\\u60a6)\", \"x\": [\"10-2\", \"8-1\", \"8-2\", \"8-3\", \"8-4\", \"8-5\", \"9-1\", \"9-2\", \"9-3\", \"9-4\"], \"y\": [0.0, 1.0, 1.0, 1.0, 1.0, 5.0, 2.0, 0.0, 0.0, 0.0], \"type\": \"scatter\", \"uid\": \"adee8395-d1e5-11e8-8ddb-a41f72875c19\"}, {\"line\": {\"dash\": \"solid\"}, \"name\": \"\\u4e0b\\u673a\\u6279\\u6b21\\u6570(\\u51b7\\u96ea)\", \"x\": [\"10-2\", \"8-1\", \"8-2\", \"8-3\", \"8-4\", \"8-5\", \"9-1\", \"9-2\", \"9-3\", \"9-4\"], \"y\": [69.0, 38.0, 58.0, 66.0, 28.0, 5.0, 58.0, 76.0, 115.0, 159.0], \"type\": \"scatter\", \"uid\": \"adee8396-d1e5-11e8-8ddb-a41f72875c19\"}, {\"line\": {\"dash\": \"dot\"}, \"name\": \"\\u4e0b\\u673a\\u6279\\u6b21\\u6570(\\u5362\\u6960)\", \"x\": [\"10-2\", \"8-1\", \"8-2\", \"8-3\", \"8-4\", \"8-5\", \"9-1\", \"9-2\", \"9-3\", \"9-4\"], \"y\": [null, 36.0, 47.0, 23.0, 13.0, 3.0, 2.0, 3.0, 0.0, 0.0], \"type\": \"scatter\", \"uid\": \"adee8397-d1e5-11e8-8ddb-a41f72875c19\"}, {\"line\": {\"dash\": \"dash\"}, \"name\": \"\\u4e0b\\u673a\\u6279\\u6b21\\u6570(\\u5c48\\u6602)\", \"x\": [\"10-2\", \"8-1\", \"8-2\", \"8-3\", \"8-4\", \"8-5\", \"9-1\", \"9-2\", \"9-3\", \"9-4\"], \"y\": [1.0, 42.0, 74.0, 75.0, 119.0, 85.0, 135.0, 45.0, 21.0, 17.0], \"type\": \"scatter\", \"uid\": \"adee8398-d1e5-11e8-8ddb-a41f72875c19\"}, {\"line\": {\"dash\": \"longdash\"}, \"name\": \"\\u4e0b\\u673a\\u6279\\u6b21\\u6570(\\u5f20\\u60a6)\", \"x\": [\"10-2\", \"8-1\", \"8-2\", \"8-3\", \"8-4\", \"8-5\", \"9-1\", \"9-2\", \"9-3\", \"9-4\"], \"y\": [0.0, 2.0, 2.0, 1.0, 1.0, 7.0, 4.0, 0.0, 0.0, 0.0], \"type\": \"scatter\", \"uid\": \"adee8399-d1e5-11e8-8ddb-a41f72875c19\"}], {\"title\": \"\\u4e0b\\u673a\\u9879\\u76ee\\u6570&\\u4e0b\\u673a\\u6279\\u6b21\\u6570\\u5468\\u8d8b\\u52bf\\u56fe\", \"xaxis\": {\"mirror\": \"all\", \"nticks\": 20, \"showgrid\": true, \"showline\": true, \"title\": \"\\u5468\", \"type\": \"category\", \"zeroline\": true}, \"yaxis\": {\"mirror\": \"all\", \"nticks\": 20, \"showgrid\": true, \"showline\": true, \"title\": \"\\u4e0b\\u673a\\u9879\\u76ee\\u6570&\\u4e0b\\u673a\\u6279\\u6b21\\u6570\", \"zeroline\": true}}, {\"showLink\": true, \"linkText\": \"Export to plot.ly\"})});</script>"
      ],
      "text/vnd.plotly.v1+html": [
       "<div id=\"8cc75e7f-5ed7-4a72-ac20-cd0941417941\" style=\"height: 525px; width: 100%;\" class=\"plotly-graph-div\"></div><script type=\"text/javascript\">require([\"plotly\"], function(Plotly) { window.PLOTLYENV=window.PLOTLYENV || {};window.PLOTLYENV.BASE_URL=\"https://plot.ly\";Plotly.newPlot(\"8cc75e7f-5ed7-4a72-ac20-cd0941417941\", [{\"line\": {\"dash\": \"solid\"}, \"name\": \"\\u4e0b\\u673a\\u9879\\u76ee\\u6570(\\u51b7\\u96ea)\", \"x\": [\"10-2\", \"8-1\", \"8-2\", \"8-3\", \"8-4\", \"8-5\", \"9-1\", \"9-2\", \"9-3\", \"9-4\"], \"y\": [65.0, 31.0, 49.0, 51.0, 26.0, 2.0, 54.0, 63.0, 103.0, 138.0], \"type\": \"scatter\", \"uid\": \"adee8392-d1e5-11e8-8ddb-a41f72875c19\"}, {\"line\": {\"dash\": \"dot\"}, \"name\": \"\\u4e0b\\u673a\\u9879\\u76ee\\u6570(\\u5362\\u6960)\", \"x\": [\"10-2\", \"8-1\", \"8-2\", \"8-3\", \"8-4\", \"8-5\", \"9-1\", \"9-2\", \"9-3\", \"9-4\"], \"y\": [null, 26.0, 34.0, 21.0, 13.0, 2.0, 1.0, 2.0, 0.0, 0.0], \"type\": \"scatter\", \"uid\": \"adee8393-d1e5-11e8-8ddb-a41f72875c19\"}, {\"line\": {\"dash\": \"dash\"}, \"name\": \"\\u4e0b\\u673a\\u9879\\u76ee\\u6570(\\u5c48\\u6602)\", \"x\": [\"10-2\", \"8-1\", \"8-2\", \"8-3\", \"8-4\", \"8-5\", \"9-1\", \"9-2\", \"9-3\", \"9-4\"], \"y\": [1.0, 36.0, 62.0, 62.0, 96.0, 76.0, 117.0, 38.0, 19.0, 15.0], \"type\": \"scatter\", \"uid\": \"adee8394-d1e5-11e8-8ddb-a41f72875c19\"}, {\"line\": {\"dash\": \"longdash\"}, \"name\": \"\\u4e0b\\u673a\\u9879\\u76ee\\u6570(\\u5f20\\u60a6)\", \"x\": [\"10-2\", \"8-1\", \"8-2\", \"8-3\", \"8-4\", \"8-5\", \"9-1\", \"9-2\", \"9-3\", \"9-4\"], \"y\": [0.0, 1.0, 1.0, 1.0, 1.0, 5.0, 2.0, 0.0, 0.0, 0.0], \"type\": \"scatter\", \"uid\": \"adee8395-d1e5-11e8-8ddb-a41f72875c19\"}, {\"line\": {\"dash\": \"solid\"}, \"name\": \"\\u4e0b\\u673a\\u6279\\u6b21\\u6570(\\u51b7\\u96ea)\", \"x\": [\"10-2\", \"8-1\", \"8-2\", \"8-3\", \"8-4\", \"8-5\", \"9-1\", \"9-2\", \"9-3\", \"9-4\"], \"y\": [69.0, 38.0, 58.0, 66.0, 28.0, 5.0, 58.0, 76.0, 115.0, 159.0], \"type\": \"scatter\", \"uid\": \"adee8396-d1e5-11e8-8ddb-a41f72875c19\"}, {\"line\": {\"dash\": \"dot\"}, \"name\": \"\\u4e0b\\u673a\\u6279\\u6b21\\u6570(\\u5362\\u6960)\", \"x\": [\"10-2\", \"8-1\", \"8-2\", \"8-3\", \"8-4\", \"8-5\", \"9-1\", \"9-2\", \"9-3\", \"9-4\"], \"y\": [null, 36.0, 47.0, 23.0, 13.0, 3.0, 2.0, 3.0, 0.0, 0.0], \"type\": \"scatter\", \"uid\": \"adee8397-d1e5-11e8-8ddb-a41f72875c19\"}, {\"line\": {\"dash\": \"dash\"}, \"name\": \"\\u4e0b\\u673a\\u6279\\u6b21\\u6570(\\u5c48\\u6602)\", \"x\": [\"10-2\", \"8-1\", \"8-2\", \"8-3\", \"8-4\", \"8-5\", \"9-1\", \"9-2\", \"9-3\", \"9-4\"], \"y\": [1.0, 42.0, 74.0, 75.0, 119.0, 85.0, 135.0, 45.0, 21.0, 17.0], \"type\": \"scatter\", \"uid\": \"adee8398-d1e5-11e8-8ddb-a41f72875c19\"}, {\"line\": {\"dash\": \"longdash\"}, \"name\": \"\\u4e0b\\u673a\\u6279\\u6b21\\u6570(\\u5f20\\u60a6)\", \"x\": [\"10-2\", \"8-1\", \"8-2\", \"8-3\", \"8-4\", \"8-5\", \"9-1\", \"9-2\", \"9-3\", \"9-4\"], \"y\": [0.0, 2.0, 2.0, 1.0, 1.0, 7.0, 4.0, 0.0, 0.0, 0.0], \"type\": \"scatter\", \"uid\": \"adee8399-d1e5-11e8-8ddb-a41f72875c19\"}], {\"title\": \"\\u4e0b\\u673a\\u9879\\u76ee\\u6570&\\u4e0b\\u673a\\u6279\\u6b21\\u6570\\u5468\\u8d8b\\u52bf\\u56fe\", \"xaxis\": {\"mirror\": \"all\", \"nticks\": 20, \"showgrid\": true, \"showline\": true, \"title\": \"\\u5468\", \"type\": \"category\", \"zeroline\": true}, \"yaxis\": {\"mirror\": \"all\", \"nticks\": 20, \"showgrid\": true, \"showline\": true, \"title\": \"\\u4e0b\\u673a\\u9879\\u76ee\\u6570&\\u4e0b\\u673a\\u6279\\u6b21\\u6570\", \"zeroline\": true}}, {\"showLink\": true, \"linkText\": \"Export to plot.ly\"})});</script>"
      ]
     },
     "metadata": {},
     "output_type": "display_data"
    },
    {
     "data": {
      "application/vnd.plotly.v1+json": {
       "data": [
        {
         "line": {
          "dash": "solid"
         },
         "name": "下机项目数(冷雪)",
         "type": "scatter",
         "uid": "af182e36-d1e5-11e8-8ddb-a41f72875c19",
         "x": [
          8,
          9,
          10
         ],
         "y": [
          159,
          358,
          65
         ]
        },
        {
         "line": {
          "dash": "dot"
         },
         "name": "下机项目数(卢楠)",
         "type": "scatter",
         "uid": "af182e37-d1e5-11e8-8ddb-a41f72875c19",
         "x": [
          8,
          9,
          10
         ],
         "y": [
          96,
          3,
          null
         ]
        },
        {
         "line": {
          "dash": "dash"
         },
         "name": "下机项目数(屈昂)",
         "type": "scatter",
         "uid": "af182e38-d1e5-11e8-8ddb-a41f72875c19",
         "x": [
          8,
          9,
          10
         ],
         "y": [
          332,
          189,
          1
         ]
        },
        {
         "line": {
          "dash": "longdash"
         },
         "name": "下机项目数(张悦)",
         "type": "scatter",
         "uid": "af182e39-d1e5-11e8-8ddb-a41f72875c19",
         "x": [
          8,
          9,
          10
         ],
         "y": [
          9,
          2,
          0
         ]
        },
        {
         "line": {
          "dash": "solid"
         },
         "name": "下机批次数(冷雪)",
         "type": "scatter",
         "uid": "af182e3a-d1e5-11e8-8ddb-a41f72875c19",
         "x": [
          8,
          9,
          10
         ],
         "y": [
          195,
          408,
          69
         ]
        },
        {
         "line": {
          "dash": "dot"
         },
         "name": "下机批次数(卢楠)",
         "type": "scatter",
         "uid": "af182e3b-d1e5-11e8-8ddb-a41f72875c19",
         "x": [
          8,
          9,
          10
         ],
         "y": [
          122,
          5,
          null
         ]
        },
        {
         "line": {
          "dash": "dash"
         },
         "name": "下机批次数(屈昂)",
         "type": "scatter",
         "uid": "af182e3c-d1e5-11e8-8ddb-a41f72875c19",
         "x": [
          8,
          9,
          10
         ],
         "y": [
          395,
          218,
          1
         ]
        },
        {
         "line": {
          "dash": "longdash"
         },
         "name": "下机批次数(张悦)",
         "type": "scatter",
         "uid": "af182e3d-d1e5-11e8-8ddb-a41f72875c19",
         "x": [
          8,
          9,
          10
         ],
         "y": [
          13,
          4,
          0
         ]
        }
       ],
       "layout": {
        "title": "下机项目数&下机批次数月趋势图",
        "xaxis": {
         "mirror": "all",
         "nticks": 20,
         "showgrid": true,
         "showline": true,
         "title": "月",
         "type": "category",
         "zeroline": true
        },
        "yaxis": {
         "mirror": "all",
         "nticks": 20,
         "showgrid": true,
         "showline": true,
         "title": "下机项目数&下机批次数",
         "zeroline": true
        }
       }
      },
      "text/html": [
       "<div id=\"9aa729d6-be3f-4323-9cab-e8e9064a1b37\" style=\"height: 525px; width: 100%;\" class=\"plotly-graph-div\"></div><script type=\"text/javascript\">require([\"plotly\"], function(Plotly) { window.PLOTLYENV=window.PLOTLYENV || {};window.PLOTLYENV.BASE_URL=\"https://plot.ly\";Plotly.newPlot(\"9aa729d6-be3f-4323-9cab-e8e9064a1b37\", [{\"line\": {\"dash\": \"solid\"}, \"name\": \"\\u4e0b\\u673a\\u9879\\u76ee\\u6570(\\u51b7\\u96ea)\", \"x\": [8, 9, 10], \"y\": [159.0, 358.0, 65.0], \"type\": \"scatter\", \"uid\": \"af182e36-d1e5-11e8-8ddb-a41f72875c19\"}, {\"line\": {\"dash\": \"dot\"}, \"name\": \"\\u4e0b\\u673a\\u9879\\u76ee\\u6570(\\u5362\\u6960)\", \"x\": [8, 9, 10], \"y\": [96.0, 3.0, null], \"type\": \"scatter\", \"uid\": \"af182e37-d1e5-11e8-8ddb-a41f72875c19\"}, {\"line\": {\"dash\": \"dash\"}, \"name\": \"\\u4e0b\\u673a\\u9879\\u76ee\\u6570(\\u5c48\\u6602)\", \"x\": [8, 9, 10], \"y\": [332.0, 189.0, 1.0], \"type\": \"scatter\", \"uid\": \"af182e38-d1e5-11e8-8ddb-a41f72875c19\"}, {\"line\": {\"dash\": \"longdash\"}, \"name\": \"\\u4e0b\\u673a\\u9879\\u76ee\\u6570(\\u5f20\\u60a6)\", \"x\": [8, 9, 10], \"y\": [9.0, 2.0, 0.0], \"type\": \"scatter\", \"uid\": \"af182e39-d1e5-11e8-8ddb-a41f72875c19\"}, {\"line\": {\"dash\": \"solid\"}, \"name\": \"\\u4e0b\\u673a\\u6279\\u6b21\\u6570(\\u51b7\\u96ea)\", \"x\": [8, 9, 10], \"y\": [195.0, 408.0, 69.0], \"type\": \"scatter\", \"uid\": \"af182e3a-d1e5-11e8-8ddb-a41f72875c19\"}, {\"line\": {\"dash\": \"dot\"}, \"name\": \"\\u4e0b\\u673a\\u6279\\u6b21\\u6570(\\u5362\\u6960)\", \"x\": [8, 9, 10], \"y\": [122.0, 5.0, null], \"type\": \"scatter\", \"uid\": \"af182e3b-d1e5-11e8-8ddb-a41f72875c19\"}, {\"line\": {\"dash\": \"dash\"}, \"name\": \"\\u4e0b\\u673a\\u6279\\u6b21\\u6570(\\u5c48\\u6602)\", \"x\": [8, 9, 10], \"y\": [395.0, 218.0, 1.0], \"type\": \"scatter\", \"uid\": \"af182e3c-d1e5-11e8-8ddb-a41f72875c19\"}, {\"line\": {\"dash\": \"longdash\"}, \"name\": \"\\u4e0b\\u673a\\u6279\\u6b21\\u6570(\\u5f20\\u60a6)\", \"x\": [8, 9, 10], \"y\": [13.0, 4.0, 0.0], \"type\": \"scatter\", \"uid\": \"af182e3d-d1e5-11e8-8ddb-a41f72875c19\"}], {\"title\": \"\\u4e0b\\u673a\\u9879\\u76ee\\u6570&\\u4e0b\\u673a\\u6279\\u6b21\\u6570\\u6708\\u8d8b\\u52bf\\u56fe\", \"xaxis\": {\"mirror\": \"all\", \"nticks\": 20, \"showgrid\": true, \"showline\": true, \"title\": \"\\u6708\", \"type\": \"category\", \"zeroline\": true}, \"yaxis\": {\"mirror\": \"all\", \"nticks\": 20, \"showgrid\": true, \"showline\": true, \"title\": \"\\u4e0b\\u673a\\u9879\\u76ee\\u6570&\\u4e0b\\u673a\\u6279\\u6b21\\u6570\", \"zeroline\": true}}, {\"showLink\": true, \"linkText\": \"Export to plot.ly\"})});</script>"
      ],
      "text/vnd.plotly.v1+html": [
       "<div id=\"9aa729d6-be3f-4323-9cab-e8e9064a1b37\" style=\"height: 525px; width: 100%;\" class=\"plotly-graph-div\"></div><script type=\"text/javascript\">require([\"plotly\"], function(Plotly) { window.PLOTLYENV=window.PLOTLYENV || {};window.PLOTLYENV.BASE_URL=\"https://plot.ly\";Plotly.newPlot(\"9aa729d6-be3f-4323-9cab-e8e9064a1b37\", [{\"line\": {\"dash\": \"solid\"}, \"name\": \"\\u4e0b\\u673a\\u9879\\u76ee\\u6570(\\u51b7\\u96ea)\", \"x\": [8, 9, 10], \"y\": [159.0, 358.0, 65.0], \"type\": \"scatter\", \"uid\": \"af182e36-d1e5-11e8-8ddb-a41f72875c19\"}, {\"line\": {\"dash\": \"dot\"}, \"name\": \"\\u4e0b\\u673a\\u9879\\u76ee\\u6570(\\u5362\\u6960)\", \"x\": [8, 9, 10], \"y\": [96.0, 3.0, null], \"type\": \"scatter\", \"uid\": \"af182e37-d1e5-11e8-8ddb-a41f72875c19\"}, {\"line\": {\"dash\": \"dash\"}, \"name\": \"\\u4e0b\\u673a\\u9879\\u76ee\\u6570(\\u5c48\\u6602)\", \"x\": [8, 9, 10], \"y\": [332.0, 189.0, 1.0], \"type\": \"scatter\", \"uid\": \"af182e38-d1e5-11e8-8ddb-a41f72875c19\"}, {\"line\": {\"dash\": \"longdash\"}, \"name\": \"\\u4e0b\\u673a\\u9879\\u76ee\\u6570(\\u5f20\\u60a6)\", \"x\": [8, 9, 10], \"y\": [9.0, 2.0, 0.0], \"type\": \"scatter\", \"uid\": \"af182e39-d1e5-11e8-8ddb-a41f72875c19\"}, {\"line\": {\"dash\": \"solid\"}, \"name\": \"\\u4e0b\\u673a\\u6279\\u6b21\\u6570(\\u51b7\\u96ea)\", \"x\": [8, 9, 10], \"y\": [195.0, 408.0, 69.0], \"type\": \"scatter\", \"uid\": \"af182e3a-d1e5-11e8-8ddb-a41f72875c19\"}, {\"line\": {\"dash\": \"dot\"}, \"name\": \"\\u4e0b\\u673a\\u6279\\u6b21\\u6570(\\u5362\\u6960)\", \"x\": [8, 9, 10], \"y\": [122.0, 5.0, null], \"type\": \"scatter\", \"uid\": \"af182e3b-d1e5-11e8-8ddb-a41f72875c19\"}, {\"line\": {\"dash\": \"dash\"}, \"name\": \"\\u4e0b\\u673a\\u6279\\u6b21\\u6570(\\u5c48\\u6602)\", \"x\": [8, 9, 10], \"y\": [395.0, 218.0, 1.0], \"type\": \"scatter\", \"uid\": \"af182e3c-d1e5-11e8-8ddb-a41f72875c19\"}, {\"line\": {\"dash\": \"longdash\"}, \"name\": \"\\u4e0b\\u673a\\u6279\\u6b21\\u6570(\\u5f20\\u60a6)\", \"x\": [8, 9, 10], \"y\": [13.0, 4.0, 0.0], \"type\": \"scatter\", \"uid\": \"af182e3d-d1e5-11e8-8ddb-a41f72875c19\"}], {\"title\": \"\\u4e0b\\u673a\\u9879\\u76ee\\u6570&\\u4e0b\\u673a\\u6279\\u6b21\\u6570\\u6708\\u8d8b\\u52bf\\u56fe\", \"xaxis\": {\"mirror\": \"all\", \"nticks\": 20, \"showgrid\": true, \"showline\": true, \"title\": \"\\u6708\", \"type\": \"category\", \"zeroline\": true}, \"yaxis\": {\"mirror\": \"all\", \"nticks\": 20, \"showgrid\": true, \"showline\": true, \"title\": \"\\u4e0b\\u673a\\u9879\\u76ee\\u6570&\\u4e0b\\u673a\\u6279\\u6b21\\u6570\", \"zeroline\": true}}, {\"showLink\": true, \"linkText\": \"Export to plot.ly\"})});</script>"
      ]
     },
     "metadata": {},
     "output_type": "display_data"
    }
   ],
   "source": [
    "in_list = ['下机批次数' ,'下机项目数' ]\n",
    "ss = myModule.format(all_df1 ,\"日期（格式“月-周次”）\" ,in_list)\n",
    "ss.add_group('人员')\n",
    "myModule.myPlot(ss.groupby('sum')).plot('line')\n",
    "ss = myModule.format(all_df1 ,\"month\" ,in_list)\n",
    "ss.add_group('人员')\n",
    "myModule.myPlot(ss.groupby('sum')).plot('line','月')"
   ]
  },
  {
   "cell_type": "markdown",
   "metadata": {},
   "source": [
    "## 效率"
   ]
  },
  {
   "cell_type": "markdown",
   "metadata": {},
   "source": [
    "### 反馈及时率和数据及时交付率"
   ]
  },
  {
   "cell_type": "code",
   "execution_count": 82,
   "metadata": {
    "collapsed": false
   },
   "outputs": [
    {
     "data": {
      "application/vnd.plotly.v1+json": {
       "data": [
        {
         "line": {
          "dash": "solid"
         },
         "name": "数据及时交付率(冷雪)",
         "type": "scatter",
         "uid": "af182e3e-d1e5-11e8-8ddb-a41f72875c19",
         "x": [
          "10-2",
          "8-1",
          "8-2",
          "8-3",
          "8-4",
          "8-5",
          "9-1",
          "9-2",
          "9-3",
          "9-4"
         ],
         "y": [
          1,
          1,
          1,
          1,
          1,
          1,
          1,
          1,
          1,
          1
         ]
        },
        {
         "line": {
          "dash": "dot"
         },
         "name": "数据及时交付率(卢楠)",
         "type": "scatter",
         "uid": "af182e3f-d1e5-11e8-8ddb-a41f72875c19",
         "x": [
          "10-2",
          "8-1",
          "8-2",
          "8-3",
          "8-4",
          "8-5",
          "9-1",
          "9-2",
          "9-3",
          "9-4"
         ],
         "y": [
          null,
          1,
          1,
          1,
          1,
          1,
          1,
          1,
          null,
          1
         ]
        },
        {
         "line": {
          "dash": "dash"
         },
         "name": "数据及时交付率(屈昂)",
         "type": "scatter",
         "uid": "af182e40-d1e5-11e8-8ddb-a41f72875c19",
         "x": [
          "10-2",
          "8-1",
          "8-2",
          "8-3",
          "8-4",
          "8-5",
          "9-1",
          "9-2",
          "9-3",
          "9-4"
         ],
         "y": [
          1,
          1,
          1,
          1,
          1,
          1,
          1,
          1,
          1,
          1
         ]
        },
        {
         "line": {
          "dash": "longdash"
         },
         "name": "数据及时交付率(张悦)",
         "type": "scatter",
         "uid": "af182e41-d1e5-11e8-8ddb-a41f72875c19",
         "x": [
          "10-2",
          "8-1",
          "8-2",
          "8-3",
          "8-4",
          "8-5",
          "9-1",
          "9-2",
          "9-3",
          "9-4"
         ],
         "y": [
          1,
          1,
          1,
          1,
          1,
          1,
          1,
          null,
          null,
          1
         ]
        },
        {
         "line": {
          "dash": "solid"
         },
         "name": "反馈及时率(冷雪)",
         "type": "scatter",
         "uid": "af182e42-d1e5-11e8-8ddb-a41f72875c19",
         "x": [
          "10-2",
          "8-1",
          "8-2",
          "8-3",
          "8-4",
          "8-5",
          "9-1",
          "9-2",
          "9-3",
          "9-4"
         ],
         "y": [
          1,
          0.9210526315789473,
          0.9655172413793104,
          1,
          1,
          1,
          0.9827586206896551,
          0.8947368421052632,
          1,
          0.9937106918238994
         ]
        },
        {
         "line": {
          "dash": "dot"
         },
         "name": "反馈及时率(卢楠)",
         "type": "scatter",
         "uid": "af182e43-d1e5-11e8-8ddb-a41f72875c19",
         "x": [
          "10-2",
          "8-1",
          "8-2",
          "8-3",
          "8-4",
          "8-5",
          "9-1",
          "9-2",
          "9-3",
          "9-4"
         ],
         "y": [
          null,
          1,
          0.9574468085106383,
          0.9565217391304348,
          1,
          1,
          1,
          1,
          null,
          null
         ]
        },
        {
         "line": {
          "dash": "dash"
         },
         "name": "反馈及时率(屈昂)",
         "type": "scatter",
         "uid": "af182e44-d1e5-11e8-8ddb-a41f72875c19",
         "x": [
          "10-2",
          "8-1",
          "8-2",
          "8-3",
          "8-4",
          "8-5",
          "9-1",
          "9-2",
          "9-3",
          "9-4"
         ],
         "y": [
          1,
          0.9761904761904762,
          0.972972972972973,
          0.9866666666666667,
          0.957983193277311,
          0.9176470588235294,
          0.9851851851851852,
          0.9777777777777777,
          1,
          1
         ]
        },
        {
         "line": {
          "dash": "longdash"
         },
         "name": "反馈及时率(张悦)",
         "type": "scatter",
         "uid": "af182e45-d1e5-11e8-8ddb-a41f72875c19",
         "x": [
          "10-2",
          "8-1",
          "8-2",
          "8-3",
          "8-4",
          "8-5",
          "9-1",
          "9-2",
          "9-3",
          "9-4"
         ],
         "y": [
          null,
          1,
          1,
          1,
          1,
          1,
          1,
          null,
          null,
          null
         ]
        }
       ],
       "layout": {
        "title": "数据及时交付率&反馈及时率周趋势图",
        "xaxis": {
         "mirror": "all",
         "nticks": 20,
         "showgrid": true,
         "showline": true,
         "title": "周",
         "type": "category",
         "zeroline": true
        },
        "yaxis": {
         "mirror": "all",
         "nticks": 20,
         "showgrid": true,
         "showline": true,
         "title": "数据及时交付率&反馈及时率",
         "zeroline": true
        }
       }
      },
      "text/html": [
       "<div id=\"be86864d-dd3e-4472-9f84-bf2651aab6ad\" style=\"height: 525px; width: 100%;\" class=\"plotly-graph-div\"></div><script type=\"text/javascript\">require([\"plotly\"], function(Plotly) { window.PLOTLYENV=window.PLOTLYENV || {};window.PLOTLYENV.BASE_URL=\"https://plot.ly\";Plotly.newPlot(\"be86864d-dd3e-4472-9f84-bf2651aab6ad\", [{\"line\": {\"dash\": \"solid\"}, \"name\": \"\\u6570\\u636e\\u53ca\\u65f6\\u4ea4\\u4ed8\\u7387(\\u51b7\\u96ea)\", \"x\": [\"10-2\", \"8-1\", \"8-2\", \"8-3\", \"8-4\", \"8-5\", \"9-1\", \"9-2\", \"9-3\", \"9-4\"], \"y\": [1.0, 1.0, 1.0, 1.0, 1.0, 1.0, 1.0, 1.0, 1.0, 1.0], \"type\": \"scatter\", \"uid\": \"af182e3e-d1e5-11e8-8ddb-a41f72875c19\"}, {\"line\": {\"dash\": \"dot\"}, \"name\": \"\\u6570\\u636e\\u53ca\\u65f6\\u4ea4\\u4ed8\\u7387(\\u5362\\u6960)\", \"x\": [\"10-2\", \"8-1\", \"8-2\", \"8-3\", \"8-4\", \"8-5\", \"9-1\", \"9-2\", \"9-3\", \"9-4\"], \"y\": [null, 1.0, 1.0, 1.0, 1.0, 1.0, 1.0, 1.0, null, 1.0], \"type\": \"scatter\", \"uid\": \"af182e3f-d1e5-11e8-8ddb-a41f72875c19\"}, {\"line\": {\"dash\": \"dash\"}, \"name\": \"\\u6570\\u636e\\u53ca\\u65f6\\u4ea4\\u4ed8\\u7387(\\u5c48\\u6602)\", \"x\": [\"10-2\", \"8-1\", \"8-2\", \"8-3\", \"8-4\", \"8-5\", \"9-1\", \"9-2\", \"9-3\", \"9-4\"], \"y\": [1.0, 1.0, 1.0, 1.0, 1.0, 1.0, 1.0, 1.0, 1.0, 1.0], \"type\": \"scatter\", \"uid\": \"af182e40-d1e5-11e8-8ddb-a41f72875c19\"}, {\"line\": {\"dash\": \"longdash\"}, \"name\": \"\\u6570\\u636e\\u53ca\\u65f6\\u4ea4\\u4ed8\\u7387(\\u5f20\\u60a6)\", \"x\": [\"10-2\", \"8-1\", \"8-2\", \"8-3\", \"8-4\", \"8-5\", \"9-1\", \"9-2\", \"9-3\", \"9-4\"], \"y\": [1.0, 1.0, 1.0, 1.0, 1.0, 1.0, 1.0, null, null, 1.0], \"type\": \"scatter\", \"uid\": \"af182e41-d1e5-11e8-8ddb-a41f72875c19\"}, {\"line\": {\"dash\": \"solid\"}, \"name\": \"\\u53cd\\u9988\\u53ca\\u65f6\\u7387(\\u51b7\\u96ea)\", \"x\": [\"10-2\", \"8-1\", \"8-2\", \"8-3\", \"8-4\", \"8-5\", \"9-1\", \"9-2\", \"9-3\", \"9-4\"], \"y\": [1.0, 0.9210526315789473, 0.9655172413793104, 1.0, 1.0, 1.0, 0.9827586206896551, 0.8947368421052632, 1.0, 0.9937106918238994], \"type\": \"scatter\", \"uid\": \"af182e42-d1e5-11e8-8ddb-a41f72875c19\"}, {\"line\": {\"dash\": \"dot\"}, \"name\": \"\\u53cd\\u9988\\u53ca\\u65f6\\u7387(\\u5362\\u6960)\", \"x\": [\"10-2\", \"8-1\", \"8-2\", \"8-3\", \"8-4\", \"8-5\", \"9-1\", \"9-2\", \"9-3\", \"9-4\"], \"y\": [null, 1.0, 0.9574468085106383, 0.9565217391304348, 1.0, 1.0, 1.0, 1.0, null, null], \"type\": \"scatter\", \"uid\": \"af182e43-d1e5-11e8-8ddb-a41f72875c19\"}, {\"line\": {\"dash\": \"dash\"}, \"name\": \"\\u53cd\\u9988\\u53ca\\u65f6\\u7387(\\u5c48\\u6602)\", \"x\": [\"10-2\", \"8-1\", \"8-2\", \"8-3\", \"8-4\", \"8-5\", \"9-1\", \"9-2\", \"9-3\", \"9-4\"], \"y\": [1.0, 0.9761904761904762, 0.972972972972973, 0.9866666666666667, 0.957983193277311, 0.9176470588235294, 0.9851851851851852, 0.9777777777777777, 1.0, 1.0], \"type\": \"scatter\", \"uid\": \"af182e44-d1e5-11e8-8ddb-a41f72875c19\"}, {\"line\": {\"dash\": \"longdash\"}, \"name\": \"\\u53cd\\u9988\\u53ca\\u65f6\\u7387(\\u5f20\\u60a6)\", \"x\": [\"10-2\", \"8-1\", \"8-2\", \"8-3\", \"8-4\", \"8-5\", \"9-1\", \"9-2\", \"9-3\", \"9-4\"], \"y\": [null, 1.0, 1.0, 1.0, 1.0, 1.0, 1.0, null, null, null], \"type\": \"scatter\", \"uid\": \"af182e45-d1e5-11e8-8ddb-a41f72875c19\"}], {\"title\": \"\\u6570\\u636e\\u53ca\\u65f6\\u4ea4\\u4ed8\\u7387&\\u53cd\\u9988\\u53ca\\u65f6\\u7387\\u5468\\u8d8b\\u52bf\\u56fe\", \"xaxis\": {\"mirror\": \"all\", \"nticks\": 20, \"showgrid\": true, \"showline\": true, \"title\": \"\\u5468\", \"type\": \"category\", \"zeroline\": true}, \"yaxis\": {\"mirror\": \"all\", \"nticks\": 20, \"showgrid\": true, \"showline\": true, \"title\": \"\\u6570\\u636e\\u53ca\\u65f6\\u4ea4\\u4ed8\\u7387&\\u53cd\\u9988\\u53ca\\u65f6\\u7387\", \"zeroline\": true}}, {\"showLink\": true, \"linkText\": \"Export to plot.ly\"})});</script>"
      ],
      "text/vnd.plotly.v1+html": [
       "<div id=\"be86864d-dd3e-4472-9f84-bf2651aab6ad\" style=\"height: 525px; width: 100%;\" class=\"plotly-graph-div\"></div><script type=\"text/javascript\">require([\"plotly\"], function(Plotly) { window.PLOTLYENV=window.PLOTLYENV || {};window.PLOTLYENV.BASE_URL=\"https://plot.ly\";Plotly.newPlot(\"be86864d-dd3e-4472-9f84-bf2651aab6ad\", [{\"line\": {\"dash\": \"solid\"}, \"name\": \"\\u6570\\u636e\\u53ca\\u65f6\\u4ea4\\u4ed8\\u7387(\\u51b7\\u96ea)\", \"x\": [\"10-2\", \"8-1\", \"8-2\", \"8-3\", \"8-4\", \"8-5\", \"9-1\", \"9-2\", \"9-3\", \"9-4\"], \"y\": [1.0, 1.0, 1.0, 1.0, 1.0, 1.0, 1.0, 1.0, 1.0, 1.0], \"type\": \"scatter\", \"uid\": \"af182e3e-d1e5-11e8-8ddb-a41f72875c19\"}, {\"line\": {\"dash\": \"dot\"}, \"name\": \"\\u6570\\u636e\\u53ca\\u65f6\\u4ea4\\u4ed8\\u7387(\\u5362\\u6960)\", \"x\": [\"10-2\", \"8-1\", \"8-2\", \"8-3\", \"8-4\", \"8-5\", \"9-1\", \"9-2\", \"9-3\", \"9-4\"], \"y\": [null, 1.0, 1.0, 1.0, 1.0, 1.0, 1.0, 1.0, null, 1.0], \"type\": \"scatter\", \"uid\": \"af182e3f-d1e5-11e8-8ddb-a41f72875c19\"}, {\"line\": {\"dash\": \"dash\"}, \"name\": \"\\u6570\\u636e\\u53ca\\u65f6\\u4ea4\\u4ed8\\u7387(\\u5c48\\u6602)\", \"x\": [\"10-2\", \"8-1\", \"8-2\", \"8-3\", \"8-4\", \"8-5\", \"9-1\", \"9-2\", \"9-3\", \"9-4\"], \"y\": [1.0, 1.0, 1.0, 1.0, 1.0, 1.0, 1.0, 1.0, 1.0, 1.0], \"type\": \"scatter\", \"uid\": \"af182e40-d1e5-11e8-8ddb-a41f72875c19\"}, {\"line\": {\"dash\": \"longdash\"}, \"name\": \"\\u6570\\u636e\\u53ca\\u65f6\\u4ea4\\u4ed8\\u7387(\\u5f20\\u60a6)\", \"x\": [\"10-2\", \"8-1\", \"8-2\", \"8-3\", \"8-4\", \"8-5\", \"9-1\", \"9-2\", \"9-3\", \"9-4\"], \"y\": [1.0, 1.0, 1.0, 1.0, 1.0, 1.0, 1.0, null, null, 1.0], \"type\": \"scatter\", \"uid\": \"af182e41-d1e5-11e8-8ddb-a41f72875c19\"}, {\"line\": {\"dash\": \"solid\"}, \"name\": \"\\u53cd\\u9988\\u53ca\\u65f6\\u7387(\\u51b7\\u96ea)\", \"x\": [\"10-2\", \"8-1\", \"8-2\", \"8-3\", \"8-4\", \"8-5\", \"9-1\", \"9-2\", \"9-3\", \"9-4\"], \"y\": [1.0, 0.9210526315789473, 0.9655172413793104, 1.0, 1.0, 1.0, 0.9827586206896551, 0.8947368421052632, 1.0, 0.9937106918238994], \"type\": \"scatter\", \"uid\": \"af182e42-d1e5-11e8-8ddb-a41f72875c19\"}, {\"line\": {\"dash\": \"dot\"}, \"name\": \"\\u53cd\\u9988\\u53ca\\u65f6\\u7387(\\u5362\\u6960)\", \"x\": [\"10-2\", \"8-1\", \"8-2\", \"8-3\", \"8-4\", \"8-5\", \"9-1\", \"9-2\", \"9-3\", \"9-4\"], \"y\": [null, 1.0, 0.9574468085106383, 0.9565217391304348, 1.0, 1.0, 1.0, 1.0, null, null], \"type\": \"scatter\", \"uid\": \"af182e43-d1e5-11e8-8ddb-a41f72875c19\"}, {\"line\": {\"dash\": \"dash\"}, \"name\": \"\\u53cd\\u9988\\u53ca\\u65f6\\u7387(\\u5c48\\u6602)\", \"x\": [\"10-2\", \"8-1\", \"8-2\", \"8-3\", \"8-4\", \"8-5\", \"9-1\", \"9-2\", \"9-3\", \"9-4\"], \"y\": [1.0, 0.9761904761904762, 0.972972972972973, 0.9866666666666667, 0.957983193277311, 0.9176470588235294, 0.9851851851851852, 0.9777777777777777, 1.0, 1.0], \"type\": \"scatter\", \"uid\": \"af182e44-d1e5-11e8-8ddb-a41f72875c19\"}, {\"line\": {\"dash\": \"longdash\"}, \"name\": \"\\u53cd\\u9988\\u53ca\\u65f6\\u7387(\\u5f20\\u60a6)\", \"x\": [\"10-2\", \"8-1\", \"8-2\", \"8-3\", \"8-4\", \"8-5\", \"9-1\", \"9-2\", \"9-3\", \"9-4\"], \"y\": [null, 1.0, 1.0, 1.0, 1.0, 1.0, 1.0, null, null, null], \"type\": \"scatter\", \"uid\": \"af182e45-d1e5-11e8-8ddb-a41f72875c19\"}], {\"title\": \"\\u6570\\u636e\\u53ca\\u65f6\\u4ea4\\u4ed8\\u7387&\\u53cd\\u9988\\u53ca\\u65f6\\u7387\\u5468\\u8d8b\\u52bf\\u56fe\", \"xaxis\": {\"mirror\": \"all\", \"nticks\": 20, \"showgrid\": true, \"showline\": true, \"title\": \"\\u5468\", \"type\": \"category\", \"zeroline\": true}, \"yaxis\": {\"mirror\": \"all\", \"nticks\": 20, \"showgrid\": true, \"showline\": true, \"title\": \"\\u6570\\u636e\\u53ca\\u65f6\\u4ea4\\u4ed8\\u7387&\\u53cd\\u9988\\u53ca\\u65f6\\u7387\", \"zeroline\": true}}, {\"showLink\": true, \"linkText\": \"Export to plot.ly\"})});</script>"
      ]
     },
     "metadata": {},
     "output_type": "display_data"
    },
    {
     "data": {
      "application/vnd.plotly.v1+json": {
       "data": [
        {
         "line": {
          "dash": "solid"
         },
         "name": "数据及时交付率(冷雪)",
         "type": "scatter",
         "uid": "af182e46-d1e5-11e8-8ddb-a41f72875c19",
         "x": [
          8,
          9,
          10
         ],
         "y": [
          1,
          1,
          1
         ]
        },
        {
         "line": {
          "dash": "dot"
         },
         "name": "数据及时交付率(卢楠)",
         "type": "scatter",
         "uid": "af182e47-d1e5-11e8-8ddb-a41f72875c19",
         "x": [
          8,
          9,
          10
         ],
         "y": [
          1,
          1,
          null
         ]
        },
        {
         "line": {
          "dash": "dash"
         },
         "name": "数据及时交付率(屈昂)",
         "type": "scatter",
         "uid": "af182e48-d1e5-11e8-8ddb-a41f72875c19",
         "x": [
          8,
          9,
          10
         ],
         "y": [
          1,
          1,
          1
         ]
        },
        {
         "line": {
          "dash": "longdash"
         },
         "name": "数据及时交付率(张悦)",
         "type": "scatter",
         "uid": "af182e49-d1e5-11e8-8ddb-a41f72875c19",
         "x": [
          8,
          9,
          10
         ],
         "y": [
          1,
          1,
          1
         ]
        },
        {
         "line": {
          "dash": "solid"
         },
         "name": "反馈及时率(冷雪)",
         "type": "scatter",
         "uid": "af182e4a-d1e5-11e8-8ddb-a41f72875c19",
         "x": [
          8,
          9,
          10
         ],
         "y": [
          0.9743589743589743,
          0.9754901960784313,
          1
         ]
        },
        {
         "line": {
          "dash": "dot"
         },
         "name": "反馈及时率(卢楠)",
         "type": "scatter",
         "uid": "af182e4b-d1e5-11e8-8ddb-a41f72875c19",
         "x": [
          8,
          9,
          10
         ],
         "y": [
          0.9754098360655737,
          1,
          null
         ]
        },
        {
         "line": {
          "dash": "dash"
         },
         "name": "反馈及时率(屈昂)",
         "type": "scatter",
         "uid": "af182e4c-d1e5-11e8-8ddb-a41f72875c19",
         "x": [
          8,
          9,
          10
         ],
         "y": [
          0.959493670886076,
          0.9862385321100917,
          1
         ]
        },
        {
         "line": {
          "dash": "longdash"
         },
         "name": "反馈及时率(张悦)",
         "type": "scatter",
         "uid": "af182e4d-d1e5-11e8-8ddb-a41f72875c19",
         "x": [
          8,
          9,
          10
         ],
         "y": [
          1,
          1,
          null
         ]
        }
       ],
       "layout": {
        "title": "数据及时交付率&反馈及时率月趋势图",
        "xaxis": {
         "mirror": "all",
         "nticks": 20,
         "showgrid": true,
         "showline": true,
         "title": "月",
         "type": "category",
         "zeroline": true
        },
        "yaxis": {
         "mirror": "all",
         "nticks": 20,
         "showgrid": true,
         "showline": true,
         "title": "数据及时交付率&反馈及时率",
         "zeroline": true
        }
       }
      },
      "text/html": [
       "<div id=\"56cdebb1-a922-403f-a5f3-90f14717d46b\" style=\"height: 525px; width: 100%;\" class=\"plotly-graph-div\"></div><script type=\"text/javascript\">require([\"plotly\"], function(Plotly) { window.PLOTLYENV=window.PLOTLYENV || {};window.PLOTLYENV.BASE_URL=\"https://plot.ly\";Plotly.newPlot(\"56cdebb1-a922-403f-a5f3-90f14717d46b\", [{\"line\": {\"dash\": \"solid\"}, \"name\": \"\\u6570\\u636e\\u53ca\\u65f6\\u4ea4\\u4ed8\\u7387(\\u51b7\\u96ea)\", \"x\": [8, 9, 10], \"y\": [1.0, 1.0, 1.0], \"type\": \"scatter\", \"uid\": \"af182e46-d1e5-11e8-8ddb-a41f72875c19\"}, {\"line\": {\"dash\": \"dot\"}, \"name\": \"\\u6570\\u636e\\u53ca\\u65f6\\u4ea4\\u4ed8\\u7387(\\u5362\\u6960)\", \"x\": [8, 9, 10], \"y\": [1.0, 1.0, null], \"type\": \"scatter\", \"uid\": \"af182e47-d1e5-11e8-8ddb-a41f72875c19\"}, {\"line\": {\"dash\": \"dash\"}, \"name\": \"\\u6570\\u636e\\u53ca\\u65f6\\u4ea4\\u4ed8\\u7387(\\u5c48\\u6602)\", \"x\": [8, 9, 10], \"y\": [1.0, 1.0, 1.0], \"type\": \"scatter\", \"uid\": \"af182e48-d1e5-11e8-8ddb-a41f72875c19\"}, {\"line\": {\"dash\": \"longdash\"}, \"name\": \"\\u6570\\u636e\\u53ca\\u65f6\\u4ea4\\u4ed8\\u7387(\\u5f20\\u60a6)\", \"x\": [8, 9, 10], \"y\": [1.0, 1.0, 1.0], \"type\": \"scatter\", \"uid\": \"af182e49-d1e5-11e8-8ddb-a41f72875c19\"}, {\"line\": {\"dash\": \"solid\"}, \"name\": \"\\u53cd\\u9988\\u53ca\\u65f6\\u7387(\\u51b7\\u96ea)\", \"x\": [8, 9, 10], \"y\": [0.9743589743589743, 0.9754901960784313, 1.0], \"type\": \"scatter\", \"uid\": \"af182e4a-d1e5-11e8-8ddb-a41f72875c19\"}, {\"line\": {\"dash\": \"dot\"}, \"name\": \"\\u53cd\\u9988\\u53ca\\u65f6\\u7387(\\u5362\\u6960)\", \"x\": [8, 9, 10], \"y\": [0.9754098360655737, 1.0, null], \"type\": \"scatter\", \"uid\": \"af182e4b-d1e5-11e8-8ddb-a41f72875c19\"}, {\"line\": {\"dash\": \"dash\"}, \"name\": \"\\u53cd\\u9988\\u53ca\\u65f6\\u7387(\\u5c48\\u6602)\", \"x\": [8, 9, 10], \"y\": [0.959493670886076, 0.9862385321100917, 1.0], \"type\": \"scatter\", \"uid\": \"af182e4c-d1e5-11e8-8ddb-a41f72875c19\"}, {\"line\": {\"dash\": \"longdash\"}, \"name\": \"\\u53cd\\u9988\\u53ca\\u65f6\\u7387(\\u5f20\\u60a6)\", \"x\": [8, 9, 10], \"y\": [1.0, 1.0, null], \"type\": \"scatter\", \"uid\": \"af182e4d-d1e5-11e8-8ddb-a41f72875c19\"}], {\"title\": \"\\u6570\\u636e\\u53ca\\u65f6\\u4ea4\\u4ed8\\u7387&\\u53cd\\u9988\\u53ca\\u65f6\\u7387\\u6708\\u8d8b\\u52bf\\u56fe\", \"xaxis\": {\"mirror\": \"all\", \"nticks\": 20, \"showgrid\": true, \"showline\": true, \"title\": \"\\u6708\", \"type\": \"category\", \"zeroline\": true}, \"yaxis\": {\"mirror\": \"all\", \"nticks\": 20, \"showgrid\": true, \"showline\": true, \"title\": \"\\u6570\\u636e\\u53ca\\u65f6\\u4ea4\\u4ed8\\u7387&\\u53cd\\u9988\\u53ca\\u65f6\\u7387\", \"zeroline\": true}}, {\"showLink\": true, \"linkText\": \"Export to plot.ly\"})});</script>"
      ],
      "text/vnd.plotly.v1+html": [
       "<div id=\"56cdebb1-a922-403f-a5f3-90f14717d46b\" style=\"height: 525px; width: 100%;\" class=\"plotly-graph-div\"></div><script type=\"text/javascript\">require([\"plotly\"], function(Plotly) { window.PLOTLYENV=window.PLOTLYENV || {};window.PLOTLYENV.BASE_URL=\"https://plot.ly\";Plotly.newPlot(\"56cdebb1-a922-403f-a5f3-90f14717d46b\", [{\"line\": {\"dash\": \"solid\"}, \"name\": \"\\u6570\\u636e\\u53ca\\u65f6\\u4ea4\\u4ed8\\u7387(\\u51b7\\u96ea)\", \"x\": [8, 9, 10], \"y\": [1.0, 1.0, 1.0], \"type\": \"scatter\", \"uid\": \"af182e46-d1e5-11e8-8ddb-a41f72875c19\"}, {\"line\": {\"dash\": \"dot\"}, \"name\": \"\\u6570\\u636e\\u53ca\\u65f6\\u4ea4\\u4ed8\\u7387(\\u5362\\u6960)\", \"x\": [8, 9, 10], \"y\": [1.0, 1.0, null], \"type\": \"scatter\", \"uid\": \"af182e47-d1e5-11e8-8ddb-a41f72875c19\"}, {\"line\": {\"dash\": \"dash\"}, \"name\": \"\\u6570\\u636e\\u53ca\\u65f6\\u4ea4\\u4ed8\\u7387(\\u5c48\\u6602)\", \"x\": [8, 9, 10], \"y\": [1.0, 1.0, 1.0], \"type\": \"scatter\", \"uid\": \"af182e48-d1e5-11e8-8ddb-a41f72875c19\"}, {\"line\": {\"dash\": \"longdash\"}, \"name\": \"\\u6570\\u636e\\u53ca\\u65f6\\u4ea4\\u4ed8\\u7387(\\u5f20\\u60a6)\", \"x\": [8, 9, 10], \"y\": [1.0, 1.0, 1.0], \"type\": \"scatter\", \"uid\": \"af182e49-d1e5-11e8-8ddb-a41f72875c19\"}, {\"line\": {\"dash\": \"solid\"}, \"name\": \"\\u53cd\\u9988\\u53ca\\u65f6\\u7387(\\u51b7\\u96ea)\", \"x\": [8, 9, 10], \"y\": [0.9743589743589743, 0.9754901960784313, 1.0], \"type\": \"scatter\", \"uid\": \"af182e4a-d1e5-11e8-8ddb-a41f72875c19\"}, {\"line\": {\"dash\": \"dot\"}, \"name\": \"\\u53cd\\u9988\\u53ca\\u65f6\\u7387(\\u5362\\u6960)\", \"x\": [8, 9, 10], \"y\": [0.9754098360655737, 1.0, null], \"type\": \"scatter\", \"uid\": \"af182e4b-d1e5-11e8-8ddb-a41f72875c19\"}, {\"line\": {\"dash\": \"dash\"}, \"name\": \"\\u53cd\\u9988\\u53ca\\u65f6\\u7387(\\u5c48\\u6602)\", \"x\": [8, 9, 10], \"y\": [0.959493670886076, 0.9862385321100917, 1.0], \"type\": \"scatter\", \"uid\": \"af182e4c-d1e5-11e8-8ddb-a41f72875c19\"}, {\"line\": {\"dash\": \"longdash\"}, \"name\": \"\\u53cd\\u9988\\u53ca\\u65f6\\u7387(\\u5f20\\u60a6)\", \"x\": [8, 9, 10], \"y\": [1.0, 1.0, null], \"type\": \"scatter\", \"uid\": \"af182e4d-d1e5-11e8-8ddb-a41f72875c19\"}], {\"title\": \"\\u6570\\u636e\\u53ca\\u65f6\\u4ea4\\u4ed8\\u7387&\\u53cd\\u9988\\u53ca\\u65f6\\u7387\\u6708\\u8d8b\\u52bf\\u56fe\", \"xaxis\": {\"mirror\": \"all\", \"nticks\": 20, \"showgrid\": true, \"showline\": true, \"title\": \"\\u6708\", \"type\": \"category\", \"zeroline\": true}, \"yaxis\": {\"mirror\": \"all\", \"nticks\": 20, \"showgrid\": true, \"showline\": true, \"title\": \"\\u6570\\u636e\\u53ca\\u65f6\\u4ea4\\u4ed8\\u7387&\\u53cd\\u9988\\u53ca\\u65f6\\u7387\", \"zeroline\": true}}, {\"showLink\": true, \"linkText\": \"Export to plot.ly\"})});</script>"
      ]
     },
     "metadata": {},
     "output_type": "display_data"
    }
   ],
   "source": [
    "ss = myModule.format(all_df1 ,\"日期（格式“月-周次”）\" ,['及时反馈数','下机批次数','数据及时交付数','数据交付总数'])\n",
    "ss.add_group('人员')\n",
    "tt = ss.get_total_ratio([['反馈及时率','及时反馈数','下机批次数','/'],\n",
    "                       ['数据及时交付率','数据及时交付数','数据交付总数','/']])\n",
    "myModule.myPlot(tt).plot('line')\n",
    "\n",
    "ss = myModule.format(all_df1 ,\"month\" ,['及时反馈数','下机批次数','数据及时交付数','数据交付总数'])\n",
    "ss.add_group('人员')\n",
    "tt = ss.get_total_ratio([['反馈及时率','及时反馈数','下机批次数','/'],\n",
    "                       ['数据及时交付率','数据及时交付数','数据交付总数','/']])\n",
    "myModule.myPlot(tt).plot('line','月')"
   ]
  },
  {
   "cell_type": "markdown",
   "metadata": {},
   "source": [
    "### 平均反馈时长和反馈时长Q80"
   ]
  },
  {
   "cell_type": "code",
   "execution_count": 83,
   "metadata": {
    "collapsed": false
   },
   "outputs": [
    {
     "data": {
      "application/vnd.plotly.v1+json": {
       "data": [
        {
         "line": {
          "dash": "solid"
         },
         "name": "平均反馈时长(冷雪)",
         "type": "scatter",
         "uid": "af182e4e-d1e5-11e8-8ddb-a41f72875c19",
         "x": [
          "10-2",
          "8-1",
          "8-2",
          "8-3",
          "8-4",
          "8-5",
          "9-1",
          "9-2",
          "9-3",
          "9-4"
         ],
         "y": [
          2.78,
          7.090000000000001,
          3.9827586206896552,
          4.95,
          3.38,
          3.69,
          9.81,
          7.658947368421053,
          3.6,
          3.2600000000000002
         ]
        },
        {
         "line": {
          "dash": "dot"
         },
         "name": "平均反馈时长(卢楠)",
         "type": "scatter",
         "uid": "af182e4f-d1e5-11e8-8ddb-a41f72875c19",
         "x": [
          "10-2",
          "8-1",
          "8-2",
          "8-3",
          "8-4",
          "8-5",
          "9-1",
          "9-2",
          "9-3",
          "9-4"
         ],
         "y": [
          null,
          5.77,
          5,
          8.6,
          5.199999999999999,
          1.7300000000000002,
          7.2,
          14.409999999999998,
          null,
          null
         ]
        },
        {
         "line": {
          "dash": "dash"
         },
         "name": "平均反馈时长(屈昂)",
         "type": "scatter",
         "uid": "af182e50-d1e5-11e8-8ddb-a41f72875c19",
         "x": [
          "10-2",
          "8-1",
          "8-2",
          "8-3",
          "8-4",
          "8-5",
          "9-1",
          "9-2",
          "9-3",
          "9-4"
         ],
         "y": [
          3.94,
          5.95,
          4.49,
          4.5,
          5.37,
          7.139294117647059,
          9.77,
          6.688,
          3.6300000000000003,
          2.73
         ]
        },
        {
         "line": {
          "dash": "longdash"
         },
         "name": "平均反馈时长(张悦)",
         "type": "scatter",
         "uid": "af182e51-d1e5-11e8-8ddb-a41f72875c19",
         "x": [
          "10-2",
          "8-1",
          "8-2",
          "8-3",
          "8-4",
          "8-5",
          "9-1",
          "9-2",
          "9-3",
          "9-4"
         ],
         "y": [
          null,
          14.51,
          3.26,
          18.68,
          1.47,
          2.7600000000000002,
          5.22,
          null,
          null,
          null
         ]
        },
        {
         "line": {
          "dash": "solid"
         },
         "name": "反馈时长Q80(冷雪)",
         "type": "scatter",
         "uid": "af182e52-d1e5-11e8-8ddb-a41f72875c19",
         "x": [
          "10-2",
          "8-1",
          "8-2",
          "8-3",
          "8-4",
          "8-5",
          "9-1",
          "9-2",
          "9-3",
          "9-4"
         ],
         "y": [
          4,
          7.59,
          4.66,
          5.63,
          3.23,
          6.49,
          13.99,
          10.5,
          3.83,
          3.99
         ]
        },
        {
         "line": {
          "dash": "dot"
         },
         "name": "反馈时长Q80(卢楠)",
         "type": "scatter",
         "uid": "af182e53-d1e5-11e8-8ddb-a41f72875c19",
         "x": [
          "10-2",
          "8-1",
          "8-2",
          "8-3",
          "8-4",
          "8-5",
          "9-1",
          "9-2",
          "9-3",
          "9-4"
         ],
         "y": [
          null,
          7.58,
          4.61,
          18.53,
          5.89,
          1.85,
          2.18,
          15.12,
          0,
          0
         ]
        },
        {
         "line": {
          "dash": "dash"
         },
         "name": "反馈时长Q80(屈昂)",
         "type": "scatter",
         "uid": "af182e54-d1e5-11e8-8ddb-a41f72875c19",
         "x": [
          "10-2",
          "8-1",
          "8-2",
          "8-3",
          "8-4",
          "8-5",
          "9-1",
          "9-2",
          "9-3",
          "9-4"
         ],
         "y": [
          3.94,
          5.79,
          5.35,
          5.31,
          5.19,
          11.12,
          16,
          9.89,
          3.92,
          2.71
         ]
        },
        {
         "line": {
          "dash": "longdash"
         },
         "name": "反馈时长Q80(张悦)",
         "type": "scatter",
         "uid": "af182e55-d1e5-11e8-8ddb-a41f72875c19",
         "x": [
          "10-2",
          "8-1",
          "8-2",
          "8-3",
          "8-4",
          "8-5",
          "9-1",
          "9-2",
          "9-3",
          "9-4"
         ],
         "y": [
          0,
          5.54,
          2.28,
          18.68,
          1.47,
          2.11,
          3.31,
          0,
          0,
          0
         ]
        }
       ],
       "layout": {
        "title": "平均反馈时长&反馈时长Q80周趋势图",
        "xaxis": {
         "mirror": "all",
         "nticks": 20,
         "showgrid": true,
         "showline": true,
         "title": "周",
         "type": "category",
         "zeroline": true
        },
        "yaxis": {
         "mirror": "all",
         "nticks": 20,
         "showgrid": true,
         "showline": true,
         "title": "平均反馈时长&反馈时长Q80",
         "zeroline": true
        }
       }
      },
      "text/html": [
       "<div id=\"2d7b6419-94e7-4055-8168-6babcbb4580d\" style=\"height: 525px; width: 100%;\" class=\"plotly-graph-div\"></div><script type=\"text/javascript\">require([\"plotly\"], function(Plotly) { window.PLOTLYENV=window.PLOTLYENV || {};window.PLOTLYENV.BASE_URL=\"https://plot.ly\";Plotly.newPlot(\"2d7b6419-94e7-4055-8168-6babcbb4580d\", [{\"line\": {\"dash\": \"solid\"}, \"name\": \"\\u5e73\\u5747\\u53cd\\u9988\\u65f6\\u957f(\\u51b7\\u96ea)\", \"x\": [\"10-2\", \"8-1\", \"8-2\", \"8-3\", \"8-4\", \"8-5\", \"9-1\", \"9-2\", \"9-3\", \"9-4\"], \"y\": [2.78, 7.090000000000001, 3.9827586206896552, 4.95, 3.38, 3.69, 9.81, 7.658947368421053, 3.6, 3.2600000000000002], \"type\": \"scatter\", \"uid\": \"af182e4e-d1e5-11e8-8ddb-a41f72875c19\"}, {\"line\": {\"dash\": \"dot\"}, \"name\": \"\\u5e73\\u5747\\u53cd\\u9988\\u65f6\\u957f(\\u5362\\u6960)\", \"x\": [\"10-2\", \"8-1\", \"8-2\", \"8-3\", \"8-4\", \"8-5\", \"9-1\", \"9-2\", \"9-3\", \"9-4\"], \"y\": [null, 5.77, 5.0, 8.6, 5.199999999999999, 1.7300000000000002, 7.2, 14.409999999999998, null, null], \"type\": \"scatter\", \"uid\": \"af182e4f-d1e5-11e8-8ddb-a41f72875c19\"}, {\"line\": {\"dash\": \"dash\"}, \"name\": \"\\u5e73\\u5747\\u53cd\\u9988\\u65f6\\u957f(\\u5c48\\u6602)\", \"x\": [\"10-2\", \"8-1\", \"8-2\", \"8-3\", \"8-4\", \"8-5\", \"9-1\", \"9-2\", \"9-3\", \"9-4\"], \"y\": [3.94, 5.95, 4.49, 4.5, 5.37, 7.139294117647059, 9.77, 6.688, 3.6300000000000003, 2.73], \"type\": \"scatter\", \"uid\": \"af182e50-d1e5-11e8-8ddb-a41f72875c19\"}, {\"line\": {\"dash\": \"longdash\"}, \"name\": \"\\u5e73\\u5747\\u53cd\\u9988\\u65f6\\u957f(\\u5f20\\u60a6)\", \"x\": [\"10-2\", \"8-1\", \"8-2\", \"8-3\", \"8-4\", \"8-5\", \"9-1\", \"9-2\", \"9-3\", \"9-4\"], \"y\": [null, 14.51, 3.26, 18.68, 1.47, 2.7600000000000002, 5.22, null, null, null], \"type\": \"scatter\", \"uid\": \"af182e51-d1e5-11e8-8ddb-a41f72875c19\"}, {\"line\": {\"dash\": \"solid\"}, \"name\": \"\\u53cd\\u9988\\u65f6\\u957fQ80(\\u51b7\\u96ea)\", \"x\": [\"10-2\", \"8-1\", \"8-2\", \"8-3\", \"8-4\", \"8-5\", \"9-1\", \"9-2\", \"9-3\", \"9-4\"], \"y\": [4.0, 7.59, 4.66, 5.63, 3.23, 6.49, 13.99, 10.5, 3.83, 3.99], \"type\": \"scatter\", \"uid\": \"af182e52-d1e5-11e8-8ddb-a41f72875c19\"}, {\"line\": {\"dash\": \"dot\"}, \"name\": \"\\u53cd\\u9988\\u65f6\\u957fQ80(\\u5362\\u6960)\", \"x\": [\"10-2\", \"8-1\", \"8-2\", \"8-3\", \"8-4\", \"8-5\", \"9-1\", \"9-2\", \"9-3\", \"9-4\"], \"y\": [null, 7.58, 4.61, 18.53, 5.89, 1.85, 2.18, 15.12, 0.0, 0.0], \"type\": \"scatter\", \"uid\": \"af182e53-d1e5-11e8-8ddb-a41f72875c19\"}, {\"line\": {\"dash\": \"dash\"}, \"name\": \"\\u53cd\\u9988\\u65f6\\u957fQ80(\\u5c48\\u6602)\", \"x\": [\"10-2\", \"8-1\", \"8-2\", \"8-3\", \"8-4\", \"8-5\", \"9-1\", \"9-2\", \"9-3\", \"9-4\"], \"y\": [3.94, 5.79, 5.35, 5.31, 5.19, 11.12, 16.0, 9.89, 3.92, 2.71], \"type\": \"scatter\", \"uid\": \"af182e54-d1e5-11e8-8ddb-a41f72875c19\"}, {\"line\": {\"dash\": \"longdash\"}, \"name\": \"\\u53cd\\u9988\\u65f6\\u957fQ80(\\u5f20\\u60a6)\", \"x\": [\"10-2\", \"8-1\", \"8-2\", \"8-3\", \"8-4\", \"8-5\", \"9-1\", \"9-2\", \"9-3\", \"9-4\"], \"y\": [0.0, 5.54, 2.28, 18.68, 1.47, 2.11, 3.31, 0.0, 0.0, 0.0], \"type\": \"scatter\", \"uid\": \"af182e55-d1e5-11e8-8ddb-a41f72875c19\"}], {\"title\": \"\\u5e73\\u5747\\u53cd\\u9988\\u65f6\\u957f&\\u53cd\\u9988\\u65f6\\u957fQ80\\u5468\\u8d8b\\u52bf\\u56fe\", \"xaxis\": {\"mirror\": \"all\", \"nticks\": 20, \"showgrid\": true, \"showline\": true, \"title\": \"\\u5468\", \"type\": \"category\", \"zeroline\": true}, \"yaxis\": {\"mirror\": \"all\", \"nticks\": 20, \"showgrid\": true, \"showline\": true, \"title\": \"\\u5e73\\u5747\\u53cd\\u9988\\u65f6\\u957f&\\u53cd\\u9988\\u65f6\\u957fQ80\", \"zeroline\": true}}, {\"showLink\": true, \"linkText\": \"Export to plot.ly\"})});</script>"
      ],
      "text/vnd.plotly.v1+html": [
       "<div id=\"2d7b6419-94e7-4055-8168-6babcbb4580d\" style=\"height: 525px; width: 100%;\" class=\"plotly-graph-div\"></div><script type=\"text/javascript\">require([\"plotly\"], function(Plotly) { window.PLOTLYENV=window.PLOTLYENV || {};window.PLOTLYENV.BASE_URL=\"https://plot.ly\";Plotly.newPlot(\"2d7b6419-94e7-4055-8168-6babcbb4580d\", [{\"line\": {\"dash\": \"solid\"}, \"name\": \"\\u5e73\\u5747\\u53cd\\u9988\\u65f6\\u957f(\\u51b7\\u96ea)\", \"x\": [\"10-2\", \"8-1\", \"8-2\", \"8-3\", \"8-4\", \"8-5\", \"9-1\", \"9-2\", \"9-3\", \"9-4\"], \"y\": [2.78, 7.090000000000001, 3.9827586206896552, 4.95, 3.38, 3.69, 9.81, 7.658947368421053, 3.6, 3.2600000000000002], \"type\": \"scatter\", \"uid\": \"af182e4e-d1e5-11e8-8ddb-a41f72875c19\"}, {\"line\": {\"dash\": \"dot\"}, \"name\": \"\\u5e73\\u5747\\u53cd\\u9988\\u65f6\\u957f(\\u5362\\u6960)\", \"x\": [\"10-2\", \"8-1\", \"8-2\", \"8-3\", \"8-4\", \"8-5\", \"9-1\", \"9-2\", \"9-3\", \"9-4\"], \"y\": [null, 5.77, 5.0, 8.6, 5.199999999999999, 1.7300000000000002, 7.2, 14.409999999999998, null, null], \"type\": \"scatter\", \"uid\": \"af182e4f-d1e5-11e8-8ddb-a41f72875c19\"}, {\"line\": {\"dash\": \"dash\"}, \"name\": \"\\u5e73\\u5747\\u53cd\\u9988\\u65f6\\u957f(\\u5c48\\u6602)\", \"x\": [\"10-2\", \"8-1\", \"8-2\", \"8-3\", \"8-4\", \"8-5\", \"9-1\", \"9-2\", \"9-3\", \"9-4\"], \"y\": [3.94, 5.95, 4.49, 4.5, 5.37, 7.139294117647059, 9.77, 6.688, 3.6300000000000003, 2.73], \"type\": \"scatter\", \"uid\": \"af182e50-d1e5-11e8-8ddb-a41f72875c19\"}, {\"line\": {\"dash\": \"longdash\"}, \"name\": \"\\u5e73\\u5747\\u53cd\\u9988\\u65f6\\u957f(\\u5f20\\u60a6)\", \"x\": [\"10-2\", \"8-1\", \"8-2\", \"8-3\", \"8-4\", \"8-5\", \"9-1\", \"9-2\", \"9-3\", \"9-4\"], \"y\": [null, 14.51, 3.26, 18.68, 1.47, 2.7600000000000002, 5.22, null, null, null], \"type\": \"scatter\", \"uid\": \"af182e51-d1e5-11e8-8ddb-a41f72875c19\"}, {\"line\": {\"dash\": \"solid\"}, \"name\": \"\\u53cd\\u9988\\u65f6\\u957fQ80(\\u51b7\\u96ea)\", \"x\": [\"10-2\", \"8-1\", \"8-2\", \"8-3\", \"8-4\", \"8-5\", \"9-1\", \"9-2\", \"9-3\", \"9-4\"], \"y\": [4.0, 7.59, 4.66, 5.63, 3.23, 6.49, 13.99, 10.5, 3.83, 3.99], \"type\": \"scatter\", \"uid\": \"af182e52-d1e5-11e8-8ddb-a41f72875c19\"}, {\"line\": {\"dash\": \"dot\"}, \"name\": \"\\u53cd\\u9988\\u65f6\\u957fQ80(\\u5362\\u6960)\", \"x\": [\"10-2\", \"8-1\", \"8-2\", \"8-3\", \"8-4\", \"8-5\", \"9-1\", \"9-2\", \"9-3\", \"9-4\"], \"y\": [null, 7.58, 4.61, 18.53, 5.89, 1.85, 2.18, 15.12, 0.0, 0.0], \"type\": \"scatter\", \"uid\": \"af182e53-d1e5-11e8-8ddb-a41f72875c19\"}, {\"line\": {\"dash\": \"dash\"}, \"name\": \"\\u53cd\\u9988\\u65f6\\u957fQ80(\\u5c48\\u6602)\", \"x\": [\"10-2\", \"8-1\", \"8-2\", \"8-3\", \"8-4\", \"8-5\", \"9-1\", \"9-2\", \"9-3\", \"9-4\"], \"y\": [3.94, 5.79, 5.35, 5.31, 5.19, 11.12, 16.0, 9.89, 3.92, 2.71], \"type\": \"scatter\", \"uid\": \"af182e54-d1e5-11e8-8ddb-a41f72875c19\"}, {\"line\": {\"dash\": \"longdash\"}, \"name\": \"\\u53cd\\u9988\\u65f6\\u957fQ80(\\u5f20\\u60a6)\", \"x\": [\"10-2\", \"8-1\", \"8-2\", \"8-3\", \"8-4\", \"8-5\", \"9-1\", \"9-2\", \"9-3\", \"9-4\"], \"y\": [0.0, 5.54, 2.28, 18.68, 1.47, 2.11, 3.31, 0.0, 0.0, 0.0], \"type\": \"scatter\", \"uid\": \"af182e55-d1e5-11e8-8ddb-a41f72875c19\"}], {\"title\": \"\\u5e73\\u5747\\u53cd\\u9988\\u65f6\\u957f&\\u53cd\\u9988\\u65f6\\u957fQ80\\u5468\\u8d8b\\u52bf\\u56fe\", \"xaxis\": {\"mirror\": \"all\", \"nticks\": 20, \"showgrid\": true, \"showline\": true, \"title\": \"\\u5468\", \"type\": \"category\", \"zeroline\": true}, \"yaxis\": {\"mirror\": \"all\", \"nticks\": 20, \"showgrid\": true, \"showline\": true, \"title\": \"\\u5e73\\u5747\\u53cd\\u9988\\u65f6\\u957f&\\u53cd\\u9988\\u65f6\\u957fQ80\", \"zeroline\": true}}, {\"showLink\": true, \"linkText\": \"Export to plot.ly\"})});</script>"
      ]
     },
     "metadata": {},
     "output_type": "display_data"
    },
    {
     "data": {
      "application/vnd.plotly.v1+json": {
       "data": [
        {
         "line": {
          "dash": "solid"
         },
         "name": "平均反馈时长(冷雪)",
         "type": "scatter",
         "uid": "af182e56-d1e5-11e8-8ddb-a41f72875c19",
         "x": [
          8,
          9,
          10
         ],
         "y": [
          4.821589743589744,
          5.106372549019608,
          2.78
         ]
        },
        {
         "line": {
          "dash": "dot"
         },
         "name": "平均反馈时长(卢楠)",
         "type": "scatter",
         "uid": "af182e57-d1e5-11e8-8ddb-a41f72875c19",
         "x": [
          8,
          9,
          10
         ],
         "y": [
          5.846803278688524,
          11.526,
          null
         ]
        },
        {
         "line": {
          "dash": "dash"
         },
         "name": "平均反馈时长(屈昂)",
         "type": "scatter",
         "uid": "af182e58-d1e5-11e8-8ddb-a41f72875c19",
         "x": [
          8,
          9,
          10
         ],
         "y": [
          5.482354430379746,
          7.993348623853212,
          3.94
         ]
        },
        {
         "line": {
          "dash": "longdash"
         },
         "name": "平均反馈时长(张悦)",
         "type": "scatter",
         "uid": "af182e59-d1e5-11e8-8ddb-a41f72875c19",
         "x": [
          8,
          9,
          10
         ],
         "y": [
          5.7700000000000005,
          5.22,
          null
         ]
        },
        {
         "line": {
          "dash": "solid"
         },
         "name": "反馈时长Q80(冷雪)",
         "type": "scatter",
         "uid": "af182e5a-d1e5-11e8-8ddb-a41f72875c19",
         "x": [
          8,
          9,
          10
         ],
         "y": [
          27.599999999999998,
          32.31,
          4
         ]
        },
        {
         "line": {
          "dash": "dot"
         },
         "name": "反馈时长Q80(卢楠)",
         "type": "scatter",
         "uid": "af182e5b-d1e5-11e8-8ddb-a41f72875c19",
         "x": [
          8,
          9,
          10
         ],
         "y": [
          38.46,
          17.3,
          null
         ]
        },
        {
         "line": {
          "dash": "dash"
         },
         "name": "反馈时长Q80(屈昂)",
         "type": "scatter",
         "uid": "af182e5c-d1e5-11e8-8ddb-a41f72875c19",
         "x": [
          8,
          9,
          10
         ],
         "y": [
          32.76,
          32.52,
          3.94
         ]
        },
        {
         "line": {
          "dash": "longdash"
         },
         "name": "反馈时长Q80(张悦)",
         "type": "scatter",
         "uid": "af182e5d-d1e5-11e8-8ddb-a41f72875c19",
         "x": [
          8,
          9,
          10
         ],
         "y": [
          30.08,
          3.31,
          0
         ]
        }
       ],
       "layout": {
        "title": "平均反馈时长&反馈时长Q80月趋势图",
        "xaxis": {
         "mirror": "all",
         "nticks": 20,
         "showgrid": true,
         "showline": true,
         "title": "月",
         "type": "category",
         "zeroline": true
        },
        "yaxis": {
         "mirror": "all",
         "nticks": 20,
         "showgrid": true,
         "showline": true,
         "title": "平均反馈时长&反馈时长Q80",
         "zeroline": true
        }
       }
      },
      "text/html": [
       "<div id=\"f3bf9547-a14c-486b-ae2f-b9cdc4f00f7b\" style=\"height: 525px; width: 100%;\" class=\"plotly-graph-div\"></div><script type=\"text/javascript\">require([\"plotly\"], function(Plotly) { window.PLOTLYENV=window.PLOTLYENV || {};window.PLOTLYENV.BASE_URL=\"https://plot.ly\";Plotly.newPlot(\"f3bf9547-a14c-486b-ae2f-b9cdc4f00f7b\", [{\"line\": {\"dash\": \"solid\"}, \"name\": \"\\u5e73\\u5747\\u53cd\\u9988\\u65f6\\u957f(\\u51b7\\u96ea)\", \"x\": [8, 9, 10], \"y\": [4.821589743589744, 5.106372549019608, 2.78], \"type\": \"scatter\", \"uid\": \"af182e56-d1e5-11e8-8ddb-a41f72875c19\"}, {\"line\": {\"dash\": \"dot\"}, \"name\": \"\\u5e73\\u5747\\u53cd\\u9988\\u65f6\\u957f(\\u5362\\u6960)\", \"x\": [8, 9, 10], \"y\": [5.846803278688524, 11.526, null], \"type\": \"scatter\", \"uid\": \"af182e57-d1e5-11e8-8ddb-a41f72875c19\"}, {\"line\": {\"dash\": \"dash\"}, \"name\": \"\\u5e73\\u5747\\u53cd\\u9988\\u65f6\\u957f(\\u5c48\\u6602)\", \"x\": [8, 9, 10], \"y\": [5.482354430379746, 7.993348623853212, 3.94], \"type\": \"scatter\", \"uid\": \"af182e58-d1e5-11e8-8ddb-a41f72875c19\"}, {\"line\": {\"dash\": \"longdash\"}, \"name\": \"\\u5e73\\u5747\\u53cd\\u9988\\u65f6\\u957f(\\u5f20\\u60a6)\", \"x\": [8, 9, 10], \"y\": [5.7700000000000005, 5.22, null], \"type\": \"scatter\", \"uid\": \"af182e59-d1e5-11e8-8ddb-a41f72875c19\"}, {\"line\": {\"dash\": \"solid\"}, \"name\": \"\\u53cd\\u9988\\u65f6\\u957fQ80(\\u51b7\\u96ea)\", \"x\": [8, 9, 10], \"y\": [27.599999999999998, 32.31, 4.0], \"type\": \"scatter\", \"uid\": \"af182e5a-d1e5-11e8-8ddb-a41f72875c19\"}, {\"line\": {\"dash\": \"dot\"}, \"name\": \"\\u53cd\\u9988\\u65f6\\u957fQ80(\\u5362\\u6960)\", \"x\": [8, 9, 10], \"y\": [38.46, 17.3, null], \"type\": \"scatter\", \"uid\": \"af182e5b-d1e5-11e8-8ddb-a41f72875c19\"}, {\"line\": {\"dash\": \"dash\"}, \"name\": \"\\u53cd\\u9988\\u65f6\\u957fQ80(\\u5c48\\u6602)\", \"x\": [8, 9, 10], \"y\": [32.76, 32.52, 3.94], \"type\": \"scatter\", \"uid\": \"af182e5c-d1e5-11e8-8ddb-a41f72875c19\"}, {\"line\": {\"dash\": \"longdash\"}, \"name\": \"\\u53cd\\u9988\\u65f6\\u957fQ80(\\u5f20\\u60a6)\", \"x\": [8, 9, 10], \"y\": [30.08, 3.31, 0.0], \"type\": \"scatter\", \"uid\": \"af182e5d-d1e5-11e8-8ddb-a41f72875c19\"}], {\"title\": \"\\u5e73\\u5747\\u53cd\\u9988\\u65f6\\u957f&\\u53cd\\u9988\\u65f6\\u957fQ80\\u6708\\u8d8b\\u52bf\\u56fe\", \"xaxis\": {\"mirror\": \"all\", \"nticks\": 20, \"showgrid\": true, \"showline\": true, \"title\": \"\\u6708\", \"type\": \"category\", \"zeroline\": true}, \"yaxis\": {\"mirror\": \"all\", \"nticks\": 20, \"showgrid\": true, \"showline\": true, \"title\": \"\\u5e73\\u5747\\u53cd\\u9988\\u65f6\\u957f&\\u53cd\\u9988\\u65f6\\u957fQ80\", \"zeroline\": true}}, {\"showLink\": true, \"linkText\": \"Export to plot.ly\"})});</script>"
      ],
      "text/vnd.plotly.v1+html": [
       "<div id=\"f3bf9547-a14c-486b-ae2f-b9cdc4f00f7b\" style=\"height: 525px; width: 100%;\" class=\"plotly-graph-div\"></div><script type=\"text/javascript\">require([\"plotly\"], function(Plotly) { window.PLOTLYENV=window.PLOTLYENV || {};window.PLOTLYENV.BASE_URL=\"https://plot.ly\";Plotly.newPlot(\"f3bf9547-a14c-486b-ae2f-b9cdc4f00f7b\", [{\"line\": {\"dash\": \"solid\"}, \"name\": \"\\u5e73\\u5747\\u53cd\\u9988\\u65f6\\u957f(\\u51b7\\u96ea)\", \"x\": [8, 9, 10], \"y\": [4.821589743589744, 5.106372549019608, 2.78], \"type\": \"scatter\", \"uid\": \"af182e56-d1e5-11e8-8ddb-a41f72875c19\"}, {\"line\": {\"dash\": \"dot\"}, \"name\": \"\\u5e73\\u5747\\u53cd\\u9988\\u65f6\\u957f(\\u5362\\u6960)\", \"x\": [8, 9, 10], \"y\": [5.846803278688524, 11.526, null], \"type\": \"scatter\", \"uid\": \"af182e57-d1e5-11e8-8ddb-a41f72875c19\"}, {\"line\": {\"dash\": \"dash\"}, \"name\": \"\\u5e73\\u5747\\u53cd\\u9988\\u65f6\\u957f(\\u5c48\\u6602)\", \"x\": [8, 9, 10], \"y\": [5.482354430379746, 7.993348623853212, 3.94], \"type\": \"scatter\", \"uid\": \"af182e58-d1e5-11e8-8ddb-a41f72875c19\"}, {\"line\": {\"dash\": \"longdash\"}, \"name\": \"\\u5e73\\u5747\\u53cd\\u9988\\u65f6\\u957f(\\u5f20\\u60a6)\", \"x\": [8, 9, 10], \"y\": [5.7700000000000005, 5.22, null], \"type\": \"scatter\", \"uid\": \"af182e59-d1e5-11e8-8ddb-a41f72875c19\"}, {\"line\": {\"dash\": \"solid\"}, \"name\": \"\\u53cd\\u9988\\u65f6\\u957fQ80(\\u51b7\\u96ea)\", \"x\": [8, 9, 10], \"y\": [27.599999999999998, 32.31, 4.0], \"type\": \"scatter\", \"uid\": \"af182e5a-d1e5-11e8-8ddb-a41f72875c19\"}, {\"line\": {\"dash\": \"dot\"}, \"name\": \"\\u53cd\\u9988\\u65f6\\u957fQ80(\\u5362\\u6960)\", \"x\": [8, 9, 10], \"y\": [38.46, 17.3, null], \"type\": \"scatter\", \"uid\": \"af182e5b-d1e5-11e8-8ddb-a41f72875c19\"}, {\"line\": {\"dash\": \"dash\"}, \"name\": \"\\u53cd\\u9988\\u65f6\\u957fQ80(\\u5c48\\u6602)\", \"x\": [8, 9, 10], \"y\": [32.76, 32.52, 3.94], \"type\": \"scatter\", \"uid\": \"af182e5c-d1e5-11e8-8ddb-a41f72875c19\"}, {\"line\": {\"dash\": \"longdash\"}, \"name\": \"\\u53cd\\u9988\\u65f6\\u957fQ80(\\u5f20\\u60a6)\", \"x\": [8, 9, 10], \"y\": [30.08, 3.31, 0.0], \"type\": \"scatter\", \"uid\": \"af182e5d-d1e5-11e8-8ddb-a41f72875c19\"}], {\"title\": \"\\u5e73\\u5747\\u53cd\\u9988\\u65f6\\u957f&\\u53cd\\u9988\\u65f6\\u957fQ80\\u6708\\u8d8b\\u52bf\\u56fe\", \"xaxis\": {\"mirror\": \"all\", \"nticks\": 20, \"showgrid\": true, \"showline\": true, \"title\": \"\\u6708\", \"type\": \"category\", \"zeroline\": true}, \"yaxis\": {\"mirror\": \"all\", \"nticks\": 20, \"showgrid\": true, \"showline\": true, \"title\": \"\\u5e73\\u5747\\u53cd\\u9988\\u65f6\\u957f&\\u53cd\\u9988\\u65f6\\u957fQ80\", \"zeroline\": true}}, {\"showLink\": true, \"linkText\": \"Export to plot.ly\"})});</script>"
      ]
     },
     "metadata": {},
     "output_type": "display_data"
    }
   ],
   "source": [
    "ss = myModule.format(all_df1 ,\"日期（格式“月-周次”）\" ,['反馈总时长','下机批次数','反馈时长Q80'])\n",
    "ss.add_group('人员')\n",
    "tt = ss.get_total_ratio([['平均反馈时长','反馈总时长','下机批次数','/']] , ['反馈时长Q80'])\n",
    "myModule.myPlot(tt).plot('line')\n",
    "\n",
    "ss = myModule.format(all_df1 ,\"month\" ,['反馈总时长','下机批次数','反馈时长Q80'])\n",
    "ss.add_group('人员')\n",
    "tt = ss.get_total_ratio([['平均反馈时长','反馈总时长','下机批次数','/']] , ['反馈时长Q80'])\n",
    "myModule.myPlot(tt).plot('line','月')"
   ]
  },
  {
   "cell_type": "code",
   "execution_count": null,
   "metadata": {
    "collapsed": true
   },
   "outputs": [],
   "source": []
  }
 ],
 "metadata": {
  "celltoolbar": "Raw Cell Format",
  "hide_input": false,
  "kernelspec": {
   "display_name": "Python 3",
   "language": "python",
   "name": "python3"
  },
  "language_info": {
   "codemirror_mode": {
    "name": "ipython",
    "version": 3
   },
   "file_extension": ".py",
   "mimetype": "text/x-python",
   "name": "python",
   "nbconvert_exporter": "python",
   "pygments_lexer": "ipython3",
   "version": "3.6.0"
  },
  "toc": {
   "base_numbering": 1,
   "nav_menu": {},
   "number_sections": true,
   "sideBar": true,
   "skip_h1_title": false,
   "title_cell": "Table of Contents",
   "title_sidebar": "Contents",
   "toc_cell": false,
   "toc_position": {
    "height": "513.333px",
    "left": "419px",
    "top": "110.926px",
    "width": "225.023px"
   },
   "toc_section_display": true,
   "toc_window_display": true
  }
 },
 "nbformat": 4,
 "nbformat_minor": 2
}
