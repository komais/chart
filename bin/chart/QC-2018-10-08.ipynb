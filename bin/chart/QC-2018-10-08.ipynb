{
 "cells": [
  {
   "cell_type": "code",
   "execution_count": 1,
   "metadata": {
    "collapsed": false,
    "hide_input": false
   },
   "outputs": [
    {
     "data": {
      "text/html": [
       "<script>requirejs.config({paths: { 'plotly': ['https://cdn.plot.ly/plotly-latest.min']},});if(!window.Plotly) {{require(['plotly'],function(plotly) {window.Plotly=plotly;});}}</script>"
      ],
      "text/vnd.plotly.v1+html": [
       "<script>requirejs.config({paths: { 'plotly': ['https://cdn.plot.ly/plotly-latest.min']},});if(!window.Plotly) {{require(['plotly'],function(plotly) {window.Plotly=plotly;});}}</script>"
      ]
     },
     "metadata": {},
     "output_type": "display_data"
    }
   ],
   "source": [
    "%load_ext autoreload\n",
    "%autoreload 2\n",
    "import sys\n",
    "sys.path.append('./')\n",
    "import myModule\n",
    "import pandas as pd "
   ]
  },
  {
   "cell_type": "code",
   "execution_count": 2,
   "metadata": {
    "collapsed": false
   },
   "outputs": [
    {
     "data": {
      "text/html": [
       "<script>requirejs.config({paths: { 'plotly': ['https://cdn.plot.ly/plotly-latest.min']},});if(!window.Plotly) {{require(['plotly'],function(plotly) {window.Plotly=plotly;});}}</script>"
      ],
      "text/vnd.plotly.v1+html": [
       "<script>requirejs.config({paths: { 'plotly': ['https://cdn.plot.ly/plotly-latest.min']},});if(!window.Plotly) {{require(['plotly'],function(plotly) {window.Plotly=plotly;});}}</script>"
      ]
     },
     "metadata": {},
     "output_type": "display_data"
    },
    {
     "data": {
      "text/plain": [
       "<module 'myModule' from '/home/jiankong/jupyter/chart/bin/chart/myModule.py'>"
      ]
     },
     "execution_count": 2,
     "metadata": {},
     "output_type": "execute_result"
    }
   ],
   "source": [
    "import imp\n",
    "imp.reload(myModule)"
   ]
  },
  {
   "cell_type": "code",
   "execution_count": 3,
   "metadata": {
    "collapsed": false
   },
   "outputs": [],
   "source": [
    "import os\n",
    "bindir = os.path.dirname(os.getcwd())\n",
    "pathway = bindir + '/../data/QC/'\n",
    "all_files , title = myModule.get_title(pathway , 0)##给路径\n",
    "all_df1 = myModule.read_xlsx(all_files, 0 ) ## read all files\n",
    "#data_dict = {'下机批次比':['下机批次数','下机项目数']}\n",
    "\n",
    "all_df2 = myModule.read_xlsx(all_files , 1 )\n"
   ]
  },
  {
   "cell_type": "code",
   "execution_count": 4,
   "metadata": {
    "collapsed": false
   },
   "outputs": [],
   "source": [
    "#myModule.upgrade_df(all_df1, [ ['下机批次比','下机批次数','下机项目数','/'] ])\n",
    "#all_df1[['下机批次比','下机批次数','下机项目数']]"
   ]
  },
  {
   "cell_type": "markdown",
   "metadata": {},
   "source": [
    "# QC分析组整体情况"
   ]
  },
  {
   "cell_type": "markdown",
   "metadata": {},
   "source": [
    "## 整体人员情况"
   ]
  },
  {
   "cell_type": "code",
   "execution_count": 5,
   "metadata": {
    "collapsed": false
   },
   "outputs": [
    {
     "data": {
      "application/vnd.plotly.v1+json": {
       "data": [
        {
         "name": "人员",
         "type": "bar",
         "uid": "c5fda1d6-d5cc-11e8-8ddb-a41f72875c19",
         "x": [
          "10-2",
          "10-3",
          "8-1",
          "8-2",
          "8-3",
          "8-4",
          "8-5",
          "9-1",
          "9-2",
          "9-3",
          "9-4"
         ],
         "y": [
          3,
          3,
          4,
          4,
          4,
          4,
          4,
          4,
          4,
          4,
          4
         ]
        }
       ],
       "layout": {
        "title": "人员周趋势图",
        "xaxis": {
         "mirror": "all",
         "nticks": 20,
         "showgrid": true,
         "showline": true,
         "title": "周",
         "type": "category",
         "zeroline": true
        },
        "yaxis": {
         "mirror": "all",
         "nticks": 20,
         "showgrid": true,
         "showline": true,
         "title": "人员",
         "zeroline": true
        }
       }
      },
      "text/html": [
       "<div id=\"50e54ce8-d1cf-47d1-af5c-eaeaab3f5835\" style=\"height: 525px; width: 100%;\" class=\"plotly-graph-div\"></div><script type=\"text/javascript\">require([\"plotly\"], function(Plotly) { window.PLOTLYENV=window.PLOTLYENV || {};window.PLOTLYENV.BASE_URL=\"https://plot.ly\";Plotly.newPlot(\"50e54ce8-d1cf-47d1-af5c-eaeaab3f5835\", [{\"name\": \"\\u4eba\\u5458\", \"x\": [\"10-2\", \"10-3\", \"8-1\", \"8-2\", \"8-3\", \"8-4\", \"8-5\", \"9-1\", \"9-2\", \"9-3\", \"9-4\"], \"y\": [3, 3, 4, 4, 4, 4, 4, 4, 4, 4, 4], \"type\": \"bar\", \"uid\": \"c5fda1d6-d5cc-11e8-8ddb-a41f72875c19\"}], {\"title\": \"\\u4eba\\u5458\\u5468\\u8d8b\\u52bf\\u56fe\", \"xaxis\": {\"mirror\": \"all\", \"nticks\": 20, \"showgrid\": true, \"showline\": true, \"title\": \"\\u5468\", \"type\": \"category\", \"zeroline\": true}, \"yaxis\": {\"mirror\": \"all\", \"nticks\": 20, \"showgrid\": true, \"showline\": true, \"title\": \"\\u4eba\\u5458\", \"zeroline\": true}}, {\"showLink\": true, \"linkText\": \"Export to plot.ly\"})});</script>"
      ],
      "text/vnd.plotly.v1+html": [
       "<div id=\"50e54ce8-d1cf-47d1-af5c-eaeaab3f5835\" style=\"height: 525px; width: 100%;\" class=\"plotly-graph-div\"></div><script type=\"text/javascript\">require([\"plotly\"], function(Plotly) { window.PLOTLYENV=window.PLOTLYENV || {};window.PLOTLYENV.BASE_URL=\"https://plot.ly\";Plotly.newPlot(\"50e54ce8-d1cf-47d1-af5c-eaeaab3f5835\", [{\"name\": \"\\u4eba\\u5458\", \"x\": [\"10-2\", \"10-3\", \"8-1\", \"8-2\", \"8-3\", \"8-4\", \"8-5\", \"9-1\", \"9-2\", \"9-3\", \"9-4\"], \"y\": [3, 3, 4, 4, 4, 4, 4, 4, 4, 4, 4], \"type\": \"bar\", \"uid\": \"c5fda1d6-d5cc-11e8-8ddb-a41f72875c19\"}], {\"title\": \"\\u4eba\\u5458\\u5468\\u8d8b\\u52bf\\u56fe\", \"xaxis\": {\"mirror\": \"all\", \"nticks\": 20, \"showgrid\": true, \"showline\": true, \"title\": \"\\u5468\", \"type\": \"category\", \"zeroline\": true}, \"yaxis\": {\"mirror\": \"all\", \"nticks\": 20, \"showgrid\": true, \"showline\": true, \"title\": \"\\u4eba\\u5458\", \"zeroline\": true}}, {\"showLink\": true, \"linkText\": \"Export to plot.ly\"})});</script>"
      ]
     },
     "metadata": {},
     "output_type": "display_data"
    },
    {
     "data": {
      "application/vnd.plotly.v1+json": {
       "data": [
        {
         "name": "人员",
         "type": "bar",
         "uid": "c5fda1d7-d5cc-11e8-8ddb-a41f72875c19",
         "x": [
          8,
          9,
          10
         ],
         "y": [
          4,
          4,
          3
         ]
        }
       ],
       "layout": {
        "title": "人员月趋势图",
        "xaxis": {
         "mirror": "all",
         "nticks": 20,
         "showgrid": true,
         "showline": true,
         "title": "月",
         "type": "category",
         "zeroline": true
        },
        "yaxis": {
         "mirror": "all",
         "nticks": 20,
         "showgrid": true,
         "showline": true,
         "title": "人员",
         "zeroline": true
        }
       }
      },
      "text/html": [
       "<div id=\"0eb9e669-c3a6-4315-9bce-b32e08533298\" style=\"height: 525px; width: 100%;\" class=\"plotly-graph-div\"></div><script type=\"text/javascript\">require([\"plotly\"], function(Plotly) { window.PLOTLYENV=window.PLOTLYENV || {};window.PLOTLYENV.BASE_URL=\"https://plot.ly\";Plotly.newPlot(\"0eb9e669-c3a6-4315-9bce-b32e08533298\", [{\"name\": \"\\u4eba\\u5458\", \"x\": [8, 9, 10], \"y\": [4, 4, 3], \"type\": \"bar\", \"uid\": \"c5fda1d7-d5cc-11e8-8ddb-a41f72875c19\"}], {\"title\": \"\\u4eba\\u5458\\u6708\\u8d8b\\u52bf\\u56fe\", \"xaxis\": {\"mirror\": \"all\", \"nticks\": 20, \"showgrid\": true, \"showline\": true, \"title\": \"\\u6708\", \"type\": \"category\", \"zeroline\": true}, \"yaxis\": {\"mirror\": \"all\", \"nticks\": 20, \"showgrid\": true, \"showline\": true, \"title\": \"\\u4eba\\u5458\", \"zeroline\": true}}, {\"showLink\": true, \"linkText\": \"Export to plot.ly\"})});</script>"
      ],
      "text/vnd.plotly.v1+html": [
       "<div id=\"0eb9e669-c3a6-4315-9bce-b32e08533298\" style=\"height: 525px; width: 100%;\" class=\"plotly-graph-div\"></div><script type=\"text/javascript\">require([\"plotly\"], function(Plotly) { window.PLOTLYENV=window.PLOTLYENV || {};window.PLOTLYENV.BASE_URL=\"https://plot.ly\";Plotly.newPlot(\"0eb9e669-c3a6-4315-9bce-b32e08533298\", [{\"name\": \"\\u4eba\\u5458\", \"x\": [8, 9, 10], \"y\": [4, 4, 3], \"type\": \"bar\", \"uid\": \"c5fda1d7-d5cc-11e8-8ddb-a41f72875c19\"}], {\"title\": \"\\u4eba\\u5458\\u6708\\u8d8b\\u52bf\\u56fe\", \"xaxis\": {\"mirror\": \"all\", \"nticks\": 20, \"showgrid\": true, \"showline\": true, \"title\": \"\\u6708\", \"type\": \"category\", \"zeroline\": true}, \"yaxis\": {\"mirror\": \"all\", \"nticks\": 20, \"showgrid\": true, \"showline\": true, \"title\": \"\\u4eba\\u5458\", \"zeroline\": true}}, {\"showLink\": true, \"linkText\": \"Export to plot.ly\"})});</script>"
      ]
     },
     "metadata": {},
     "output_type": "display_data"
    }
   ],
   "source": [
    "ss = myModule.format(all_df1 ,\"日期（格式“月-周次”）\" ,['人员'])\n",
    "tt = myModule.myPlot(ss.groupby('count'))\n",
    "tt.plot('bar')\n",
    "\n",
    "ss = myModule.format(all_df1 ,\"month\" ,['人员'] )\n",
    "ss.get_average_by('日期（格式“月-周次”）')\n",
    "tt = myModule.myPlot(ss.groupby(\"count\") )# ,\"日期（格式“月-周次”）\" ,['人员'])\n",
    "tt.plot('bar',tag='月')"
   ]
  },
  {
   "cell_type": "markdown",
   "metadata": {
    "hide_input": true
   },
   "source": [
    "## 过滤项目整体情况"
   ]
  },
  {
   "cell_type": "markdown",
   "metadata": {},
   "source": [
    "### 产能"
   ]
  },
  {
   "cell_type": "markdown",
   "metadata": {},
   "source": [
    "\n",
    "#### 下机批次数和下机项目数\n"
   ]
  },
  {
   "cell_type": "code",
   "execution_count": 6,
   "metadata": {
    "collapsed": false
   },
   "outputs": [
    {
     "data": {
      "application/vnd.plotly.v1+json": {
       "data": [
        {
         "name": "下机项目数",
         "type": "scatter",
         "uid": "c5fda1d8-d5cc-11e8-8ddb-a41f72875c19",
         "x": [
          "10-2",
          "10-3",
          "8-1",
          "8-2",
          "8-3",
          "8-4",
          "8-5",
          "9-1",
          "9-2",
          "9-3",
          "9-4"
         ],
         "y": [
          66,
          110,
          94,
          146,
          135,
          136,
          85,
          174,
          103,
          122,
          153
         ]
        },
        {
         "name": "下机批次数",
         "type": "scatter",
         "uid": "c5fda1d9-d5cc-11e8-8ddb-a41f72875c19",
         "x": [
          "10-2",
          "10-3",
          "8-1",
          "8-2",
          "8-3",
          "8-4",
          "8-5",
          "9-1",
          "9-2",
          "9-3",
          "9-4"
         ],
         "y": [
          70,
          132,
          118,
          181,
          165,
          161,
          100,
          199,
          124,
          136,
          176
         ]
        }
       ],
       "layout": {
        "title": "下机项目数&下机批次数周趋势图",
        "xaxis": {
         "mirror": "all",
         "nticks": 20,
         "showgrid": true,
         "showline": true,
         "title": "周",
         "type": "category",
         "zeroline": true
        },
        "yaxis": {
         "mirror": "all",
         "nticks": 20,
         "showgrid": true,
         "showline": true,
         "title": "下机项目数&下机批次数",
         "zeroline": true
        }
       }
      },
      "text/html": [
       "<div id=\"80e2b480-2833-4622-ae43-afb0ce168b3b\" style=\"height: 525px; width: 100%;\" class=\"plotly-graph-div\"></div><script type=\"text/javascript\">require([\"plotly\"], function(Plotly) { window.PLOTLYENV=window.PLOTLYENV || {};window.PLOTLYENV.BASE_URL=\"https://plot.ly\";Plotly.newPlot(\"80e2b480-2833-4622-ae43-afb0ce168b3b\", [{\"name\": \"\\u4e0b\\u673a\\u9879\\u76ee\\u6570\", \"x\": [\"10-2\", \"10-3\", \"8-1\", \"8-2\", \"8-3\", \"8-4\", \"8-5\", \"9-1\", \"9-2\", \"9-3\", \"9-4\"], \"y\": [66, 110, 94, 146, 135, 136, 85, 174, 103, 122, 153], \"type\": \"scatter\", \"uid\": \"c5fda1d8-d5cc-11e8-8ddb-a41f72875c19\"}, {\"name\": \"\\u4e0b\\u673a\\u6279\\u6b21\\u6570\", \"x\": [\"10-2\", \"10-3\", \"8-1\", \"8-2\", \"8-3\", \"8-4\", \"8-5\", \"9-1\", \"9-2\", \"9-3\", \"9-4\"], \"y\": [70, 132, 118, 181, 165, 161, 100, 199, 124, 136, 176], \"type\": \"scatter\", \"uid\": \"c5fda1d9-d5cc-11e8-8ddb-a41f72875c19\"}], {\"title\": \"\\u4e0b\\u673a\\u9879\\u76ee\\u6570&\\u4e0b\\u673a\\u6279\\u6b21\\u6570\\u5468\\u8d8b\\u52bf\\u56fe\", \"xaxis\": {\"mirror\": \"all\", \"nticks\": 20, \"showgrid\": true, \"showline\": true, \"title\": \"\\u5468\", \"type\": \"category\", \"zeroline\": true}, \"yaxis\": {\"mirror\": \"all\", \"nticks\": 20, \"showgrid\": true, \"showline\": true, \"title\": \"\\u4e0b\\u673a\\u9879\\u76ee\\u6570&\\u4e0b\\u673a\\u6279\\u6b21\\u6570\", \"zeroline\": true}}, {\"showLink\": true, \"linkText\": \"Export to plot.ly\"})});</script>"
      ],
      "text/vnd.plotly.v1+html": [
       "<div id=\"80e2b480-2833-4622-ae43-afb0ce168b3b\" style=\"height: 525px; width: 100%;\" class=\"plotly-graph-div\"></div><script type=\"text/javascript\">require([\"plotly\"], function(Plotly) { window.PLOTLYENV=window.PLOTLYENV || {};window.PLOTLYENV.BASE_URL=\"https://plot.ly\";Plotly.newPlot(\"80e2b480-2833-4622-ae43-afb0ce168b3b\", [{\"name\": \"\\u4e0b\\u673a\\u9879\\u76ee\\u6570\", \"x\": [\"10-2\", \"10-3\", \"8-1\", \"8-2\", \"8-3\", \"8-4\", \"8-5\", \"9-1\", \"9-2\", \"9-3\", \"9-4\"], \"y\": [66, 110, 94, 146, 135, 136, 85, 174, 103, 122, 153], \"type\": \"scatter\", \"uid\": \"c5fda1d8-d5cc-11e8-8ddb-a41f72875c19\"}, {\"name\": \"\\u4e0b\\u673a\\u6279\\u6b21\\u6570\", \"x\": [\"10-2\", \"10-3\", \"8-1\", \"8-2\", \"8-3\", \"8-4\", \"8-5\", \"9-1\", \"9-2\", \"9-3\", \"9-4\"], \"y\": [70, 132, 118, 181, 165, 161, 100, 199, 124, 136, 176], \"type\": \"scatter\", \"uid\": \"c5fda1d9-d5cc-11e8-8ddb-a41f72875c19\"}], {\"title\": \"\\u4e0b\\u673a\\u9879\\u76ee\\u6570&\\u4e0b\\u673a\\u6279\\u6b21\\u6570\\u5468\\u8d8b\\u52bf\\u56fe\", \"xaxis\": {\"mirror\": \"all\", \"nticks\": 20, \"showgrid\": true, \"showline\": true, \"title\": \"\\u5468\", \"type\": \"category\", \"zeroline\": true}, \"yaxis\": {\"mirror\": \"all\", \"nticks\": 20, \"showgrid\": true, \"showline\": true, \"title\": \"\\u4e0b\\u673a\\u9879\\u76ee\\u6570&\\u4e0b\\u673a\\u6279\\u6b21\\u6570\", \"zeroline\": true}}, {\"showLink\": true, \"linkText\": \"Export to plot.ly\"})});</script>"
      ]
     },
     "metadata": {},
     "output_type": "display_data"
    },
    {
     "data": {
      "application/vnd.plotly.v1+json": {
       "data": [
        {
         "name": "下机项目数",
         "type": "scatter",
         "uid": "c5fda1da-d5cc-11e8-8ddb-a41f72875c19",
         "x": [
          8,
          9,
          10
         ],
         "y": [
          596,
          552,
          176
         ]
        },
        {
         "name": "下机批次数",
         "type": "scatter",
         "uid": "c5fda1db-d5cc-11e8-8ddb-a41f72875c19",
         "x": [
          8,
          9,
          10
         ],
         "y": [
          725,
          635,
          202
         ]
        }
       ],
       "layout": {
        "title": "下机项目数&下机批次数月趋势图",
        "xaxis": {
         "mirror": "all",
         "nticks": 20,
         "showgrid": true,
         "showline": true,
         "title": "月",
         "type": "category",
         "zeroline": true
        },
        "yaxis": {
         "mirror": "all",
         "nticks": 20,
         "showgrid": true,
         "showline": true,
         "title": "下机项目数&下机批次数",
         "zeroline": true
        }
       }
      },
      "text/html": [
       "<div id=\"2bb51ff8-9bdd-47a3-9a75-7c3be867ad32\" style=\"height: 525px; width: 100%;\" class=\"plotly-graph-div\"></div><script type=\"text/javascript\">require([\"plotly\"], function(Plotly) { window.PLOTLYENV=window.PLOTLYENV || {};window.PLOTLYENV.BASE_URL=\"https://plot.ly\";Plotly.newPlot(\"2bb51ff8-9bdd-47a3-9a75-7c3be867ad32\", [{\"name\": \"\\u4e0b\\u673a\\u9879\\u76ee\\u6570\", \"x\": [8, 9, 10], \"y\": [596, 552, 176], \"type\": \"scatter\", \"uid\": \"c5fda1da-d5cc-11e8-8ddb-a41f72875c19\"}, {\"name\": \"\\u4e0b\\u673a\\u6279\\u6b21\\u6570\", \"x\": [8, 9, 10], \"y\": [725, 635, 202], \"type\": \"scatter\", \"uid\": \"c5fda1db-d5cc-11e8-8ddb-a41f72875c19\"}], {\"title\": \"\\u4e0b\\u673a\\u9879\\u76ee\\u6570&\\u4e0b\\u673a\\u6279\\u6b21\\u6570\\u6708\\u8d8b\\u52bf\\u56fe\", \"xaxis\": {\"mirror\": \"all\", \"nticks\": 20, \"showgrid\": true, \"showline\": true, \"title\": \"\\u6708\", \"type\": \"category\", \"zeroline\": true}, \"yaxis\": {\"mirror\": \"all\", \"nticks\": 20, \"showgrid\": true, \"showline\": true, \"title\": \"\\u4e0b\\u673a\\u9879\\u76ee\\u6570&\\u4e0b\\u673a\\u6279\\u6b21\\u6570\", \"zeroline\": true}}, {\"showLink\": true, \"linkText\": \"Export to plot.ly\"})});</script>"
      ],
      "text/vnd.plotly.v1+html": [
       "<div id=\"2bb51ff8-9bdd-47a3-9a75-7c3be867ad32\" style=\"height: 525px; width: 100%;\" class=\"plotly-graph-div\"></div><script type=\"text/javascript\">require([\"plotly\"], function(Plotly) { window.PLOTLYENV=window.PLOTLYENV || {};window.PLOTLYENV.BASE_URL=\"https://plot.ly\";Plotly.newPlot(\"2bb51ff8-9bdd-47a3-9a75-7c3be867ad32\", [{\"name\": \"\\u4e0b\\u673a\\u9879\\u76ee\\u6570\", \"x\": [8, 9, 10], \"y\": [596, 552, 176], \"type\": \"scatter\", \"uid\": \"c5fda1da-d5cc-11e8-8ddb-a41f72875c19\"}, {\"name\": \"\\u4e0b\\u673a\\u6279\\u6b21\\u6570\", \"x\": [8, 9, 10], \"y\": [725, 635, 202], \"type\": \"scatter\", \"uid\": \"c5fda1db-d5cc-11e8-8ddb-a41f72875c19\"}], {\"title\": \"\\u4e0b\\u673a\\u9879\\u76ee\\u6570&\\u4e0b\\u673a\\u6279\\u6b21\\u6570\\u6708\\u8d8b\\u52bf\\u56fe\", \"xaxis\": {\"mirror\": \"all\", \"nticks\": 20, \"showgrid\": true, \"showline\": true, \"title\": \"\\u6708\", \"type\": \"category\", \"zeroline\": true}, \"yaxis\": {\"mirror\": \"all\", \"nticks\": 20, \"showgrid\": true, \"showline\": true, \"title\": \"\\u4e0b\\u673a\\u9879\\u76ee\\u6570&\\u4e0b\\u673a\\u6279\\u6b21\\u6570\", \"zeroline\": true}}, {\"showLink\": true, \"linkText\": \"Export to plot.ly\"})});</script>"
      ]
     },
     "metadata": {},
     "output_type": "display_data"
    }
   ],
   "source": [
    "ss = myModule.format(all_df1 ,\"日期（格式“月-周次”）\" ,['下机批次数','下机项目数'])\n",
    "myModule.myPlot(ss.groupby('sum')).plot('line')\n",
    "ss = myModule.format(all_df1 ,\"month\" ,['下机批次数','下机项目数'])\n",
    "myModule.myPlot(ss.groupby('sum')).plot('line',\"月\")"
   ]
  },
  {
   "cell_type": "markdown",
   "metadata": {},
   "source": [
    "#### 下机批次比"
   ]
  },
  {
   "cell_type": "code",
   "execution_count": 7,
   "metadata": {
    "collapsed": false
   },
   "outputs": [
    {
     "data": {
      "application/vnd.plotly.v1+json": {
       "data": [
        {
         "name": "下机批次比",
         "type": "scatter",
         "uid": "c5fda1dc-d5cc-11e8-8ddb-a41f72875c19",
         "x": [
          "10-2",
          "10-3",
          "8-1",
          "8-2",
          "8-3",
          "8-4",
          "8-5",
          "9-1",
          "9-2",
          "9-3",
          "9-4"
         ],
         "y": [
          1.0606060606060606,
          1.2,
          1.2553191489361701,
          1.2397260273972603,
          1.2222222222222223,
          1.1838235294117647,
          1.1764705882352942,
          1.1436781609195403,
          1.203883495145631,
          1.1147540983606556,
          1.1503267973856208
         ]
        }
       ],
       "layout": {
        "title": "下机批次比周趋势图",
        "xaxis": {
         "mirror": "all",
         "nticks": 20,
         "showgrid": true,
         "showline": true,
         "title": "周",
         "type": "category",
         "zeroline": true
        },
        "yaxis": {
         "mirror": "all",
         "nticks": 20,
         "showgrid": true,
         "showline": true,
         "title": "下机批次比",
         "zeroline": true
        }
       }
      },
      "text/html": [
       "<div id=\"01136a24-733e-49f9-ae7f-b3df766f71e2\" style=\"height: 525px; width: 100%;\" class=\"plotly-graph-div\"></div><script type=\"text/javascript\">require([\"plotly\"], function(Plotly) { window.PLOTLYENV=window.PLOTLYENV || {};window.PLOTLYENV.BASE_URL=\"https://plot.ly\";Plotly.newPlot(\"01136a24-733e-49f9-ae7f-b3df766f71e2\", [{\"name\": \"\\u4e0b\\u673a\\u6279\\u6b21\\u6bd4\", \"x\": [\"10-2\", \"10-3\", \"8-1\", \"8-2\", \"8-3\", \"8-4\", \"8-5\", \"9-1\", \"9-2\", \"9-3\", \"9-4\"], \"y\": [1.0606060606060606, 1.2, 1.2553191489361701, 1.2397260273972603, 1.2222222222222223, 1.1838235294117647, 1.1764705882352942, 1.1436781609195403, 1.203883495145631, 1.1147540983606556, 1.1503267973856208], \"type\": \"scatter\", \"uid\": \"c5fda1dc-d5cc-11e8-8ddb-a41f72875c19\"}], {\"title\": \"\\u4e0b\\u673a\\u6279\\u6b21\\u6bd4\\u5468\\u8d8b\\u52bf\\u56fe\", \"xaxis\": {\"mirror\": \"all\", \"nticks\": 20, \"showgrid\": true, \"showline\": true, \"title\": \"\\u5468\", \"type\": \"category\", \"zeroline\": true}, \"yaxis\": {\"mirror\": \"all\", \"nticks\": 20, \"showgrid\": true, \"showline\": true, \"title\": \"\\u4e0b\\u673a\\u6279\\u6b21\\u6bd4\", \"zeroline\": true}}, {\"showLink\": true, \"linkText\": \"Export to plot.ly\"})});</script>"
      ],
      "text/vnd.plotly.v1+html": [
       "<div id=\"01136a24-733e-49f9-ae7f-b3df766f71e2\" style=\"height: 525px; width: 100%;\" class=\"plotly-graph-div\"></div><script type=\"text/javascript\">require([\"plotly\"], function(Plotly) { window.PLOTLYENV=window.PLOTLYENV || {};window.PLOTLYENV.BASE_URL=\"https://plot.ly\";Plotly.newPlot(\"01136a24-733e-49f9-ae7f-b3df766f71e2\", [{\"name\": \"\\u4e0b\\u673a\\u6279\\u6b21\\u6bd4\", \"x\": [\"10-2\", \"10-3\", \"8-1\", \"8-2\", \"8-3\", \"8-4\", \"8-5\", \"9-1\", \"9-2\", \"9-3\", \"9-4\"], \"y\": [1.0606060606060606, 1.2, 1.2553191489361701, 1.2397260273972603, 1.2222222222222223, 1.1838235294117647, 1.1764705882352942, 1.1436781609195403, 1.203883495145631, 1.1147540983606556, 1.1503267973856208], \"type\": \"scatter\", \"uid\": \"c5fda1dc-d5cc-11e8-8ddb-a41f72875c19\"}], {\"title\": \"\\u4e0b\\u673a\\u6279\\u6b21\\u6bd4\\u5468\\u8d8b\\u52bf\\u56fe\", \"xaxis\": {\"mirror\": \"all\", \"nticks\": 20, \"showgrid\": true, \"showline\": true, \"title\": \"\\u5468\", \"type\": \"category\", \"zeroline\": true}, \"yaxis\": {\"mirror\": \"all\", \"nticks\": 20, \"showgrid\": true, \"showline\": true, \"title\": \"\\u4e0b\\u673a\\u6279\\u6b21\\u6bd4\", \"zeroline\": true}}, {\"showLink\": true, \"linkText\": \"Export to plot.ly\"})});</script>"
      ]
     },
     "metadata": {},
     "output_type": "display_data"
    },
    {
     "data": {
      "application/vnd.plotly.v1+json": {
       "data": [
        {
         "name": "下机批次比",
         "type": "scatter",
         "uid": "c5fda1dd-d5cc-11e8-8ddb-a41f72875c19",
         "x": [
          8,
          9,
          10
         ],
         "y": [
          1.2164429530201342,
          1.1503623188405796,
          1.1477272727272727
         ]
        }
       ],
       "layout": {
        "title": "下机批次比周趋势图",
        "xaxis": {
         "mirror": "all",
         "nticks": 20,
         "showgrid": true,
         "showline": true,
         "title": "周",
         "type": "category",
         "zeroline": true
        },
        "yaxis": {
         "mirror": "all",
         "nticks": 20,
         "showgrid": true,
         "showline": true,
         "title": "下机批次比",
         "zeroline": true
        }
       }
      },
      "text/html": [
       "<div id=\"72805d08-ca1b-4c51-b271-181f4ce08b37\" style=\"height: 525px; width: 100%;\" class=\"plotly-graph-div\"></div><script type=\"text/javascript\">require([\"plotly\"], function(Plotly) { window.PLOTLYENV=window.PLOTLYENV || {};window.PLOTLYENV.BASE_URL=\"https://plot.ly\";Plotly.newPlot(\"72805d08-ca1b-4c51-b271-181f4ce08b37\", [{\"name\": \"\\u4e0b\\u673a\\u6279\\u6b21\\u6bd4\", \"x\": [8, 9, 10], \"y\": [1.2164429530201342, 1.1503623188405796, 1.1477272727272727], \"type\": \"scatter\", \"uid\": \"c5fda1dd-d5cc-11e8-8ddb-a41f72875c19\"}], {\"title\": \"\\u4e0b\\u673a\\u6279\\u6b21\\u6bd4\\u5468\\u8d8b\\u52bf\\u56fe\", \"xaxis\": {\"mirror\": \"all\", \"nticks\": 20, \"showgrid\": true, \"showline\": true, \"title\": \"\\u5468\", \"type\": \"category\", \"zeroline\": true}, \"yaxis\": {\"mirror\": \"all\", \"nticks\": 20, \"showgrid\": true, \"showline\": true, \"title\": \"\\u4e0b\\u673a\\u6279\\u6b21\\u6bd4\", \"zeroline\": true}}, {\"showLink\": true, \"linkText\": \"Export to plot.ly\"})});</script>"
      ],
      "text/vnd.plotly.v1+html": [
       "<div id=\"72805d08-ca1b-4c51-b271-181f4ce08b37\" style=\"height: 525px; width: 100%;\" class=\"plotly-graph-div\"></div><script type=\"text/javascript\">require([\"plotly\"], function(Plotly) { window.PLOTLYENV=window.PLOTLYENV || {};window.PLOTLYENV.BASE_URL=\"https://plot.ly\";Plotly.newPlot(\"72805d08-ca1b-4c51-b271-181f4ce08b37\", [{\"name\": \"\\u4e0b\\u673a\\u6279\\u6b21\\u6bd4\", \"x\": [8, 9, 10], \"y\": [1.2164429530201342, 1.1503623188405796, 1.1477272727272727], \"type\": \"scatter\", \"uid\": \"c5fda1dd-d5cc-11e8-8ddb-a41f72875c19\"}], {\"title\": \"\\u4e0b\\u673a\\u6279\\u6b21\\u6bd4\\u5468\\u8d8b\\u52bf\\u56fe\", \"xaxis\": {\"mirror\": \"all\", \"nticks\": 20, \"showgrid\": true, \"showline\": true, \"title\": \"\\u5468\", \"type\": \"category\", \"zeroline\": true}, \"yaxis\": {\"mirror\": \"all\", \"nticks\": 20, \"showgrid\": true, \"showline\": true, \"title\": \"\\u4e0b\\u673a\\u6279\\u6b21\\u6bd4\", \"zeroline\": true}}, {\"showLink\": true, \"linkText\": \"Export to plot.ly\"})});</script>"
      ]
     },
     "metadata": {},
     "output_type": "display_data"
    }
   ],
   "source": [
    "ss = myModule.format(all_df1 ,\"日期（格式“月-周次”）\" ,['下机批次数','下机项目数'])\n",
    "tt = ss.get_total_ratio([['下机批次比' ,'下机批次数' , '下机项目数','/']] )\n",
    "myModule.myPlot(tt).plot('line')\n",
    "\n",
    "ss = myModule.format(all_df1 ,\"month\" ,['下机批次数','下机项目数'])\n",
    "tt = ss.get_total_ratio([['下机批次比' ,'下机批次数' , '下机项目数','/']] )\n",
    "myModule.myPlot(tt).plot('line')\n"
   ]
  },
  {
   "cell_type": "markdown",
   "metadata": {
    "hide_input": true
   },
   "source": [
    "### 效率"
   ]
  },
  {
   "cell_type": "markdown",
   "metadata": {},
   "source": [
    "#### 反馈及时率和数据交付及时率"
   ]
  },
  {
   "cell_type": "code",
   "execution_count": 8,
   "metadata": {
    "collapsed": false
   },
   "outputs": [
    {
     "data": {
      "application/vnd.plotly.v1+json": {
       "data": [
        {
         "name": "数据及时交付率",
         "type": "scatter",
         "uid": "c5fda1de-d5cc-11e8-8ddb-a41f72875c19",
         "x": [
          "10-2",
          "10-3",
          "8-1",
          "8-2",
          "8-3",
          "8-4",
          "8-5",
          "9-1",
          "9-2",
          "9-3",
          "9-4"
         ],
         "y": [
          1,
          1,
          1,
          1,
          1,
          1,
          1,
          1,
          1,
          1,
          1
         ]
        },
        {
         "name": "反馈及时率",
         "type": "scatter",
         "uid": "c5fda1df-d5cc-11e8-8ddb-a41f72875c19",
         "x": [
          "10-2",
          "10-3",
          "8-1",
          "8-2",
          "8-3",
          "8-4",
          "8-5",
          "9-1",
          "9-2",
          "9-3",
          "9-4"
         ],
         "y": [
          1,
          0.9772727272727273,
          0.9661016949152542,
          0.9668508287292817,
          0.9878787878787879,
          0.968944099378882,
          0.93,
          0.9849246231155779,
          0.9274193548387096,
          1,
          0.9943181818181818
         ]
        }
       ],
       "layout": {
        "title": "数据及时交付率&反馈及时率周趋势图",
        "xaxis": {
         "mirror": "all",
         "nticks": 20,
         "showgrid": true,
         "showline": true,
         "title": "周",
         "type": "category",
         "zeroline": true
        },
        "yaxis": {
         "mirror": "all",
         "nticks": 20,
         "showgrid": true,
         "showline": true,
         "title": "数据及时交付率&反馈及时率",
         "zeroline": true
        }
       }
      },
      "text/html": [
       "<div id=\"7f5665cf-24ac-4cb8-8d1a-0c78ef89e87c\" style=\"height: 525px; width: 100%;\" class=\"plotly-graph-div\"></div><script type=\"text/javascript\">require([\"plotly\"], function(Plotly) { window.PLOTLYENV=window.PLOTLYENV || {};window.PLOTLYENV.BASE_URL=\"https://plot.ly\";Plotly.newPlot(\"7f5665cf-24ac-4cb8-8d1a-0c78ef89e87c\", [{\"name\": \"\\u6570\\u636e\\u53ca\\u65f6\\u4ea4\\u4ed8\\u7387\", \"x\": [\"10-2\", \"10-3\", \"8-1\", \"8-2\", \"8-3\", \"8-4\", \"8-5\", \"9-1\", \"9-2\", \"9-3\", \"9-4\"], \"y\": [1.0, 1.0, 1.0, 1.0, 1.0, 1.0, 1.0, 1.0, 1.0, 1.0, 1.0], \"type\": \"scatter\", \"uid\": \"c5fda1de-d5cc-11e8-8ddb-a41f72875c19\"}, {\"name\": \"\\u53cd\\u9988\\u53ca\\u65f6\\u7387\", \"x\": [\"10-2\", \"10-3\", \"8-1\", \"8-2\", \"8-3\", \"8-4\", \"8-5\", \"9-1\", \"9-2\", \"9-3\", \"9-4\"], \"y\": [1.0, 0.9772727272727273, 0.9661016949152542, 0.9668508287292817, 0.9878787878787879, 0.968944099378882, 0.93, 0.9849246231155779, 0.9274193548387096, 1.0, 0.9943181818181818], \"type\": \"scatter\", \"uid\": \"c5fda1df-d5cc-11e8-8ddb-a41f72875c19\"}], {\"title\": \"\\u6570\\u636e\\u53ca\\u65f6\\u4ea4\\u4ed8\\u7387&\\u53cd\\u9988\\u53ca\\u65f6\\u7387\\u5468\\u8d8b\\u52bf\\u56fe\", \"xaxis\": {\"mirror\": \"all\", \"nticks\": 20, \"showgrid\": true, \"showline\": true, \"title\": \"\\u5468\", \"type\": \"category\", \"zeroline\": true}, \"yaxis\": {\"mirror\": \"all\", \"nticks\": 20, \"showgrid\": true, \"showline\": true, \"title\": \"\\u6570\\u636e\\u53ca\\u65f6\\u4ea4\\u4ed8\\u7387&\\u53cd\\u9988\\u53ca\\u65f6\\u7387\", \"zeroline\": true}}, {\"showLink\": true, \"linkText\": \"Export to plot.ly\"})});</script>"
      ],
      "text/vnd.plotly.v1+html": [
       "<div id=\"7f5665cf-24ac-4cb8-8d1a-0c78ef89e87c\" style=\"height: 525px; width: 100%;\" class=\"plotly-graph-div\"></div><script type=\"text/javascript\">require([\"plotly\"], function(Plotly) { window.PLOTLYENV=window.PLOTLYENV || {};window.PLOTLYENV.BASE_URL=\"https://plot.ly\";Plotly.newPlot(\"7f5665cf-24ac-4cb8-8d1a-0c78ef89e87c\", [{\"name\": \"\\u6570\\u636e\\u53ca\\u65f6\\u4ea4\\u4ed8\\u7387\", \"x\": [\"10-2\", \"10-3\", \"8-1\", \"8-2\", \"8-3\", \"8-4\", \"8-5\", \"9-1\", \"9-2\", \"9-3\", \"9-4\"], \"y\": [1.0, 1.0, 1.0, 1.0, 1.0, 1.0, 1.0, 1.0, 1.0, 1.0, 1.0], \"type\": \"scatter\", \"uid\": \"c5fda1de-d5cc-11e8-8ddb-a41f72875c19\"}, {\"name\": \"\\u53cd\\u9988\\u53ca\\u65f6\\u7387\", \"x\": [\"10-2\", \"10-3\", \"8-1\", \"8-2\", \"8-3\", \"8-4\", \"8-5\", \"9-1\", \"9-2\", \"9-3\", \"9-4\"], \"y\": [1.0, 0.9772727272727273, 0.9661016949152542, 0.9668508287292817, 0.9878787878787879, 0.968944099378882, 0.93, 0.9849246231155779, 0.9274193548387096, 1.0, 0.9943181818181818], \"type\": \"scatter\", \"uid\": \"c5fda1df-d5cc-11e8-8ddb-a41f72875c19\"}], {\"title\": \"\\u6570\\u636e\\u53ca\\u65f6\\u4ea4\\u4ed8\\u7387&\\u53cd\\u9988\\u53ca\\u65f6\\u7387\\u5468\\u8d8b\\u52bf\\u56fe\", \"xaxis\": {\"mirror\": \"all\", \"nticks\": 20, \"showgrid\": true, \"showline\": true, \"title\": \"\\u5468\", \"type\": \"category\", \"zeroline\": true}, \"yaxis\": {\"mirror\": \"all\", \"nticks\": 20, \"showgrid\": true, \"showline\": true, \"title\": \"\\u6570\\u636e\\u53ca\\u65f6\\u4ea4\\u4ed8\\u7387&\\u53cd\\u9988\\u53ca\\u65f6\\u7387\", \"zeroline\": true}}, {\"showLink\": true, \"linkText\": \"Export to plot.ly\"})});</script>"
      ]
     },
     "metadata": {},
     "output_type": "display_data"
    },
    {
     "data": {
      "application/vnd.plotly.v1+json": {
       "data": [
        {
         "name": "数据及时交付率",
         "type": "scatter",
         "uid": "c5fda1e0-d5cc-11e8-8ddb-a41f72875c19",
         "x": [
          8,
          9,
          10
         ],
         "y": [
          1,
          1,
          1
         ]
        },
        {
         "name": "反馈及时率",
         "type": "scatter",
         "uid": "c5fda1e1-d5cc-11e8-8ddb-a41f72875c19",
         "x": [
          8,
          9,
          10
         ],
         "y": [
          0.9668965517241379,
          0.9795275590551181,
          0.9851485148514851
         ]
        }
       ],
       "layout": {
        "title": "数据及时交付率&反馈及时率周趋势图",
        "xaxis": {
         "mirror": "all",
         "nticks": 20,
         "showgrid": true,
         "showline": true,
         "title": "周",
         "type": "category",
         "zeroline": true
        },
        "yaxis": {
         "mirror": "all",
         "nticks": 20,
         "showgrid": true,
         "showline": true,
         "title": "数据及时交付率&反馈及时率",
         "zeroline": true
        }
       }
      },
      "text/html": [
       "<div id=\"31c865ad-7562-4b75-a8a5-470a4c2431bc\" style=\"height: 525px; width: 100%;\" class=\"plotly-graph-div\"></div><script type=\"text/javascript\">require([\"plotly\"], function(Plotly) { window.PLOTLYENV=window.PLOTLYENV || {};window.PLOTLYENV.BASE_URL=\"https://plot.ly\";Plotly.newPlot(\"31c865ad-7562-4b75-a8a5-470a4c2431bc\", [{\"name\": \"\\u6570\\u636e\\u53ca\\u65f6\\u4ea4\\u4ed8\\u7387\", \"x\": [8, 9, 10], \"y\": [1.0, 1.0, 1.0], \"type\": \"scatter\", \"uid\": \"c5fda1e0-d5cc-11e8-8ddb-a41f72875c19\"}, {\"name\": \"\\u53cd\\u9988\\u53ca\\u65f6\\u7387\", \"x\": [8, 9, 10], \"y\": [0.9668965517241379, 0.9795275590551181, 0.9851485148514851], \"type\": \"scatter\", \"uid\": \"c5fda1e1-d5cc-11e8-8ddb-a41f72875c19\"}], {\"title\": \"\\u6570\\u636e\\u53ca\\u65f6\\u4ea4\\u4ed8\\u7387&\\u53cd\\u9988\\u53ca\\u65f6\\u7387\\u5468\\u8d8b\\u52bf\\u56fe\", \"xaxis\": {\"mirror\": \"all\", \"nticks\": 20, \"showgrid\": true, \"showline\": true, \"title\": \"\\u5468\", \"type\": \"category\", \"zeroline\": true}, \"yaxis\": {\"mirror\": \"all\", \"nticks\": 20, \"showgrid\": true, \"showline\": true, \"title\": \"\\u6570\\u636e\\u53ca\\u65f6\\u4ea4\\u4ed8\\u7387&\\u53cd\\u9988\\u53ca\\u65f6\\u7387\", \"zeroline\": true}}, {\"showLink\": true, \"linkText\": \"Export to plot.ly\"})});</script>"
      ],
      "text/vnd.plotly.v1+html": [
       "<div id=\"31c865ad-7562-4b75-a8a5-470a4c2431bc\" style=\"height: 525px; width: 100%;\" class=\"plotly-graph-div\"></div><script type=\"text/javascript\">require([\"plotly\"], function(Plotly) { window.PLOTLYENV=window.PLOTLYENV || {};window.PLOTLYENV.BASE_URL=\"https://plot.ly\";Plotly.newPlot(\"31c865ad-7562-4b75-a8a5-470a4c2431bc\", [{\"name\": \"\\u6570\\u636e\\u53ca\\u65f6\\u4ea4\\u4ed8\\u7387\", \"x\": [8, 9, 10], \"y\": [1.0, 1.0, 1.0], \"type\": \"scatter\", \"uid\": \"c5fda1e0-d5cc-11e8-8ddb-a41f72875c19\"}, {\"name\": \"\\u53cd\\u9988\\u53ca\\u65f6\\u7387\", \"x\": [8, 9, 10], \"y\": [0.9668965517241379, 0.9795275590551181, 0.9851485148514851], \"type\": \"scatter\", \"uid\": \"c5fda1e1-d5cc-11e8-8ddb-a41f72875c19\"}], {\"title\": \"\\u6570\\u636e\\u53ca\\u65f6\\u4ea4\\u4ed8\\u7387&\\u53cd\\u9988\\u53ca\\u65f6\\u7387\\u5468\\u8d8b\\u52bf\\u56fe\", \"xaxis\": {\"mirror\": \"all\", \"nticks\": 20, \"showgrid\": true, \"showline\": true, \"title\": \"\\u5468\", \"type\": \"category\", \"zeroline\": true}, \"yaxis\": {\"mirror\": \"all\", \"nticks\": 20, \"showgrid\": true, \"showline\": true, \"title\": \"\\u6570\\u636e\\u53ca\\u65f6\\u4ea4\\u4ed8\\u7387&\\u53cd\\u9988\\u53ca\\u65f6\\u7387\", \"zeroline\": true}}, {\"showLink\": true, \"linkText\": \"Export to plot.ly\"})});</script>"
      ]
     },
     "metadata": {},
     "output_type": "display_data"
    }
   ],
   "source": [
    "ss = myModule.format(all_df1 ,\"日期（格式“月-周次”）\" ,['及时反馈数','下机批次数','数据及时交付数','数据交付总数'])\n",
    "tt = ss.get_total_ratio([['反馈及时率' ,'及时反馈数' , '下机批次数','/'], \n",
    "                    ['数据及时交付率','数据及时交付数','数据交付总数','/']])\n",
    "myModule.myPlot(tt).plot('line')\n",
    "\n",
    "ss = myModule.format(all_df1 ,\"month\" ,['及时反馈数','下机批次数','数据及时交付数','数据交付总数'])\n",
    "tt = ss.get_total_ratio([['反馈及时率' ,'及时反馈数' , '下机批次数','/'], \n",
    "                    ['数据及时交付率','数据及时交付数','数据交付总数','/']])\n",
    "myModule.myPlot(tt).plot('line')\n"
   ]
  },
  {
   "cell_type": "markdown",
   "metadata": {},
   "source": [
    "#### 24h拆分过滤率和48h拆分过滤率"
   ]
  },
  {
   "cell_type": "code",
   "execution_count": 9,
   "metadata": {
    "collapsed": false
   },
   "outputs": [
    {
     "data": {
      "application/vnd.plotly.v1+json": {
       "data": [
        {
         "name": "48h拆分过滤率",
         "type": "scatter",
         "uid": "c5fda1e2-d5cc-11e8-8ddb-a41f72875c19",
         "x": [
          "10-2",
          "10-3",
          "8-1",
          "8-2",
          "8-3",
          "8-4",
          "8-5",
          "9-1",
          "9-2",
          "9-3",
          "9-4"
         ],
         "y": [
          0.6285714285714286,
          0.9545454545454546,
          0.923728813559322,
          0.8121546961325967,
          0.9757575757575757,
          0.9751552795031055,
          0.79,
          0.8492462311557789,
          0.9516129032258065,
          0.7941176470588235,
          0.8181818181818182
         ]
        },
        {
         "name": "24h拆分过滤率",
         "type": "scatter",
         "uid": "c5fda1e3-d5cc-11e8-8ddb-a41f72875c19",
         "x": [
          "10-2",
          "10-3",
          "8-1",
          "8-2",
          "8-3",
          "8-4",
          "8-5",
          "9-1",
          "9-2",
          "9-3",
          "9-4"
         ],
         "y": [
          0.45714285714285713,
          0.8333333333333334,
          0.6271186440677966,
          0.5359116022099447,
          0.6787878787878788,
          0.9192546583850931,
          0.71,
          0.7286432160804021,
          0.782258064516129,
          0.7426470588235294,
          0.7556818181818182
         ]
        }
       ],
       "layout": {
        "title": "48h拆分过滤率&24h拆分过滤率周趋势图",
        "xaxis": {
         "mirror": "all",
         "nticks": 20,
         "showgrid": true,
         "showline": true,
         "title": "周",
         "type": "category",
         "zeroline": true
        },
        "yaxis": {
         "mirror": "all",
         "nticks": 20,
         "showgrid": true,
         "showline": true,
         "title": "48h拆分过滤率&24h拆分过滤率",
         "zeroline": true
        }
       }
      },
      "text/html": [
       "<div id=\"536e5299-73bb-4f65-81a5-eeed0685d1aa\" style=\"height: 525px; width: 100%;\" class=\"plotly-graph-div\"></div><script type=\"text/javascript\">require([\"plotly\"], function(Plotly) { window.PLOTLYENV=window.PLOTLYENV || {};window.PLOTLYENV.BASE_URL=\"https://plot.ly\";Plotly.newPlot(\"536e5299-73bb-4f65-81a5-eeed0685d1aa\", [{\"name\": \"48h\\u62c6\\u5206\\u8fc7\\u6ee4\\u7387\", \"x\": [\"10-2\", \"10-3\", \"8-1\", \"8-2\", \"8-3\", \"8-4\", \"8-5\", \"9-1\", \"9-2\", \"9-3\", \"9-4\"], \"y\": [0.6285714285714286, 0.9545454545454546, 0.923728813559322, 0.8121546961325967, 0.9757575757575757, 0.9751552795031055, 0.79, 0.8492462311557789, 0.9516129032258065, 0.7941176470588235, 0.8181818181818182], \"type\": \"scatter\", \"uid\": \"c5fda1e2-d5cc-11e8-8ddb-a41f72875c19\"}, {\"name\": \"24h\\u62c6\\u5206\\u8fc7\\u6ee4\\u7387\", \"x\": [\"10-2\", \"10-3\", \"8-1\", \"8-2\", \"8-3\", \"8-4\", \"8-5\", \"9-1\", \"9-2\", \"9-3\", \"9-4\"], \"y\": [0.45714285714285713, 0.8333333333333334, 0.6271186440677966, 0.5359116022099447, 0.6787878787878788, 0.9192546583850931, 0.71, 0.7286432160804021, 0.782258064516129, 0.7426470588235294, 0.7556818181818182], \"type\": \"scatter\", \"uid\": \"c5fda1e3-d5cc-11e8-8ddb-a41f72875c19\"}], {\"title\": \"48h\\u62c6\\u5206\\u8fc7\\u6ee4\\u7387&24h\\u62c6\\u5206\\u8fc7\\u6ee4\\u7387\\u5468\\u8d8b\\u52bf\\u56fe\", \"xaxis\": {\"mirror\": \"all\", \"nticks\": 20, \"showgrid\": true, \"showline\": true, \"title\": \"\\u5468\", \"type\": \"category\", \"zeroline\": true}, \"yaxis\": {\"mirror\": \"all\", \"nticks\": 20, \"showgrid\": true, \"showline\": true, \"title\": \"48h\\u62c6\\u5206\\u8fc7\\u6ee4\\u7387&24h\\u62c6\\u5206\\u8fc7\\u6ee4\\u7387\", \"zeroline\": true}}, {\"showLink\": true, \"linkText\": \"Export to plot.ly\"})});</script>"
      ],
      "text/vnd.plotly.v1+html": [
       "<div id=\"536e5299-73bb-4f65-81a5-eeed0685d1aa\" style=\"height: 525px; width: 100%;\" class=\"plotly-graph-div\"></div><script type=\"text/javascript\">require([\"plotly\"], function(Plotly) { window.PLOTLYENV=window.PLOTLYENV || {};window.PLOTLYENV.BASE_URL=\"https://plot.ly\";Plotly.newPlot(\"536e5299-73bb-4f65-81a5-eeed0685d1aa\", [{\"name\": \"48h\\u62c6\\u5206\\u8fc7\\u6ee4\\u7387\", \"x\": [\"10-2\", \"10-3\", \"8-1\", \"8-2\", \"8-3\", \"8-4\", \"8-5\", \"9-1\", \"9-2\", \"9-3\", \"9-4\"], \"y\": [0.6285714285714286, 0.9545454545454546, 0.923728813559322, 0.8121546961325967, 0.9757575757575757, 0.9751552795031055, 0.79, 0.8492462311557789, 0.9516129032258065, 0.7941176470588235, 0.8181818181818182], \"type\": \"scatter\", \"uid\": \"c5fda1e2-d5cc-11e8-8ddb-a41f72875c19\"}, {\"name\": \"24h\\u62c6\\u5206\\u8fc7\\u6ee4\\u7387\", \"x\": [\"10-2\", \"10-3\", \"8-1\", \"8-2\", \"8-3\", \"8-4\", \"8-5\", \"9-1\", \"9-2\", \"9-3\", \"9-4\"], \"y\": [0.45714285714285713, 0.8333333333333334, 0.6271186440677966, 0.5359116022099447, 0.6787878787878788, 0.9192546583850931, 0.71, 0.7286432160804021, 0.782258064516129, 0.7426470588235294, 0.7556818181818182], \"type\": \"scatter\", \"uid\": \"c5fda1e3-d5cc-11e8-8ddb-a41f72875c19\"}], {\"title\": \"48h\\u62c6\\u5206\\u8fc7\\u6ee4\\u7387&24h\\u62c6\\u5206\\u8fc7\\u6ee4\\u7387\\u5468\\u8d8b\\u52bf\\u56fe\", \"xaxis\": {\"mirror\": \"all\", \"nticks\": 20, \"showgrid\": true, \"showline\": true, \"title\": \"\\u5468\", \"type\": \"category\", \"zeroline\": true}, \"yaxis\": {\"mirror\": \"all\", \"nticks\": 20, \"showgrid\": true, \"showline\": true, \"title\": \"48h\\u62c6\\u5206\\u8fc7\\u6ee4\\u7387&24h\\u62c6\\u5206\\u8fc7\\u6ee4\\u7387\", \"zeroline\": true}}, {\"showLink\": true, \"linkText\": \"Export to plot.ly\"})});</script>"
      ]
     },
     "metadata": {},
     "output_type": "display_data"
    },
    {
     "data": {
      "application/vnd.plotly.v1+json": {
       "data": [
        {
         "name": "48h拆分过滤率",
         "type": "scatter",
         "uid": "c5fda1e4-d5cc-11e8-8ddb-a41f72875c19",
         "x": [
          8,
          9,
          10
         ],
         "y": [
          0.9006896551724138,
          0.8488188976377953,
          0.8415841584158416
         ]
        },
        {
         "name": "24h拆分过滤率",
         "type": "scatter",
         "uid": "c5fda1e5-d5cc-11e8-8ddb-a41f72875c19",
         "x": [
          8,
          9,
          10
         ],
         "y": [
          0.6924137931034483,
          0.7496062992125985,
          0.7029702970297029
         ]
        }
       ],
       "layout": {
        "title": "48h拆分过滤率&24h拆分过滤率周趋势图",
        "xaxis": {
         "mirror": "all",
         "nticks": 20,
         "showgrid": true,
         "showline": true,
         "title": "周",
         "type": "category",
         "zeroline": true
        },
        "yaxis": {
         "mirror": "all",
         "nticks": 20,
         "showgrid": true,
         "showline": true,
         "title": "48h拆分过滤率&24h拆分过滤率",
         "zeroline": true
        }
       }
      },
      "text/html": [
       "<div id=\"18a09d74-bab7-41d3-adae-bd54d61f88ac\" style=\"height: 525px; width: 100%;\" class=\"plotly-graph-div\"></div><script type=\"text/javascript\">require([\"plotly\"], function(Plotly) { window.PLOTLYENV=window.PLOTLYENV || {};window.PLOTLYENV.BASE_URL=\"https://plot.ly\";Plotly.newPlot(\"18a09d74-bab7-41d3-adae-bd54d61f88ac\", [{\"name\": \"48h\\u62c6\\u5206\\u8fc7\\u6ee4\\u7387\", \"x\": [8, 9, 10], \"y\": [0.9006896551724138, 0.8488188976377953, 0.8415841584158416], \"type\": \"scatter\", \"uid\": \"c5fda1e4-d5cc-11e8-8ddb-a41f72875c19\"}, {\"name\": \"24h\\u62c6\\u5206\\u8fc7\\u6ee4\\u7387\", \"x\": [8, 9, 10], \"y\": [0.6924137931034483, 0.7496062992125985, 0.7029702970297029], \"type\": \"scatter\", \"uid\": \"c5fda1e5-d5cc-11e8-8ddb-a41f72875c19\"}], {\"title\": \"48h\\u62c6\\u5206\\u8fc7\\u6ee4\\u7387&24h\\u62c6\\u5206\\u8fc7\\u6ee4\\u7387\\u5468\\u8d8b\\u52bf\\u56fe\", \"xaxis\": {\"mirror\": \"all\", \"nticks\": 20, \"showgrid\": true, \"showline\": true, \"title\": \"\\u5468\", \"type\": \"category\", \"zeroline\": true}, \"yaxis\": {\"mirror\": \"all\", \"nticks\": 20, \"showgrid\": true, \"showline\": true, \"title\": \"48h\\u62c6\\u5206\\u8fc7\\u6ee4\\u7387&24h\\u62c6\\u5206\\u8fc7\\u6ee4\\u7387\", \"zeroline\": true}}, {\"showLink\": true, \"linkText\": \"Export to plot.ly\"})});</script>"
      ],
      "text/vnd.plotly.v1+html": [
       "<div id=\"18a09d74-bab7-41d3-adae-bd54d61f88ac\" style=\"height: 525px; width: 100%;\" class=\"plotly-graph-div\"></div><script type=\"text/javascript\">require([\"plotly\"], function(Plotly) { window.PLOTLYENV=window.PLOTLYENV || {};window.PLOTLYENV.BASE_URL=\"https://plot.ly\";Plotly.newPlot(\"18a09d74-bab7-41d3-adae-bd54d61f88ac\", [{\"name\": \"48h\\u62c6\\u5206\\u8fc7\\u6ee4\\u7387\", \"x\": [8, 9, 10], \"y\": [0.9006896551724138, 0.8488188976377953, 0.8415841584158416], \"type\": \"scatter\", \"uid\": \"c5fda1e4-d5cc-11e8-8ddb-a41f72875c19\"}, {\"name\": \"24h\\u62c6\\u5206\\u8fc7\\u6ee4\\u7387\", \"x\": [8, 9, 10], \"y\": [0.6924137931034483, 0.7496062992125985, 0.7029702970297029], \"type\": \"scatter\", \"uid\": \"c5fda1e5-d5cc-11e8-8ddb-a41f72875c19\"}], {\"title\": \"48h\\u62c6\\u5206\\u8fc7\\u6ee4\\u7387&24h\\u62c6\\u5206\\u8fc7\\u6ee4\\u7387\\u5468\\u8d8b\\u52bf\\u56fe\", \"xaxis\": {\"mirror\": \"all\", \"nticks\": 20, \"showgrid\": true, \"showline\": true, \"title\": \"\\u5468\", \"type\": \"category\", \"zeroline\": true}, \"yaxis\": {\"mirror\": \"all\", \"nticks\": 20, \"showgrid\": true, \"showline\": true, \"title\": \"48h\\u62c6\\u5206\\u8fc7\\u6ee4\\u7387&24h\\u62c6\\u5206\\u8fc7\\u6ee4\\u7387\", \"zeroline\": true}}, {\"showLink\": true, \"linkText\": \"Export to plot.ly\"})});</script>"
      ]
     },
     "metadata": {},
     "output_type": "display_data"
    }
   ],
   "source": [
    "ss = myModule.format(all_df1 ,\"日期（格式“月-周次”）\" ,['24h完成批次数', '下机批次数','48h完成批次数'])\n",
    "tt = ss.get_total_ratio([['24h拆分过滤率' ,'24h完成批次数', '下机批次数','/'], \n",
    "                    ['48h拆分过滤率','48h完成批次数', '下机批次数','/']])\n",
    "myModule.myPlot(tt).plot('line')\n",
    "\n",
    "ss = myModule.format(all_df1 ,\"month\" ,['24h完成批次数', '下机批次数','48h完成批次数'])\n",
    "tt = ss.get_total_ratio([['24h拆分过滤率' ,'24h完成批次数', '下机批次数','/'], \n",
    "                    ['48h拆分过滤率','48h完成批次数', '下机批次数','/']])\n",
    "myModule.myPlot(tt).plot('line')"
   ]
  },
  {
   "cell_type": "markdown",
   "metadata": {},
   "source": [
    "#### 平均反馈时长"
   ]
  },
  {
   "cell_type": "code",
   "execution_count": 10,
   "metadata": {
    "collapsed": false
   },
   "outputs": [
    {
     "data": {
      "application/vnd.plotly.v1+json": {
       "data": [
        {
         "name": "平均反馈时长",
         "type": "scatter",
         "uid": "c5fda1e6-d5cc-11e8-8ddb-a41f72875c19",
         "x": [
          "10-2",
          "10-3",
          "8-1",
          "8-2",
          "8-3",
          "8-4",
          "8-5",
          "9-1",
          "9-2",
          "9-3",
          "9-4"
         ],
         "y": [
          2.7965714285714283,
          4.1249242424242425,
          6.4072881355932205,
          4.446298342541437,
          5.337454545454546,
          4.985962732919255,
          6.498000000000001,
          9.664371859296482,
          7.4699193548387095,
          3.604632352941177,
          3.2088068181818183
         ]
        }
       ],
       "layout": {
        "title": "平均反馈时长周趋势图",
        "xaxis": {
         "mirror": "all",
         "nticks": 20,
         "showgrid": true,
         "showline": true,
         "title": "周",
         "type": "category",
         "zeroline": true
        },
        "yaxis": {
         "mirror": "all",
         "nticks": 20,
         "showgrid": true,
         "showline": true,
         "title": "平均反馈时长",
         "zeroline": true
        }
       }
      },
      "text/html": [
       "<div id=\"95c15a4a-93f3-46aa-a1eb-f2372efc0332\" style=\"height: 525px; width: 100%;\" class=\"plotly-graph-div\"></div><script type=\"text/javascript\">require([\"plotly\"], function(Plotly) { window.PLOTLYENV=window.PLOTLYENV || {};window.PLOTLYENV.BASE_URL=\"https://plot.ly\";Plotly.newPlot(\"95c15a4a-93f3-46aa-a1eb-f2372efc0332\", [{\"name\": \"\\u5e73\\u5747\\u53cd\\u9988\\u65f6\\u957f\", \"x\": [\"10-2\", \"10-3\", \"8-1\", \"8-2\", \"8-3\", \"8-4\", \"8-5\", \"9-1\", \"9-2\", \"9-3\", \"9-4\"], \"y\": [2.7965714285714283, 4.1249242424242425, 6.4072881355932205, 4.446298342541437, 5.337454545454546, 4.985962732919255, 6.498000000000001, 9.664371859296482, 7.4699193548387095, 3.604632352941177, 3.2088068181818183], \"type\": \"scatter\", \"uid\": \"c5fda1e6-d5cc-11e8-8ddb-a41f72875c19\"}], {\"title\": \"\\u5e73\\u5747\\u53cd\\u9988\\u65f6\\u957f\\u5468\\u8d8b\\u52bf\\u56fe\", \"xaxis\": {\"mirror\": \"all\", \"nticks\": 20, \"showgrid\": true, \"showline\": true, \"title\": \"\\u5468\", \"type\": \"category\", \"zeroline\": true}, \"yaxis\": {\"mirror\": \"all\", \"nticks\": 20, \"showgrid\": true, \"showline\": true, \"title\": \"\\u5e73\\u5747\\u53cd\\u9988\\u65f6\\u957f\", \"zeroline\": true}}, {\"showLink\": true, \"linkText\": \"Export to plot.ly\"})});</script>"
      ],
      "text/vnd.plotly.v1+html": [
       "<div id=\"95c15a4a-93f3-46aa-a1eb-f2372efc0332\" style=\"height: 525px; width: 100%;\" class=\"plotly-graph-div\"></div><script type=\"text/javascript\">require([\"plotly\"], function(Plotly) { window.PLOTLYENV=window.PLOTLYENV || {};window.PLOTLYENV.BASE_URL=\"https://plot.ly\";Plotly.newPlot(\"95c15a4a-93f3-46aa-a1eb-f2372efc0332\", [{\"name\": \"\\u5e73\\u5747\\u53cd\\u9988\\u65f6\\u957f\", \"x\": [\"10-2\", \"10-3\", \"8-1\", \"8-2\", \"8-3\", \"8-4\", \"8-5\", \"9-1\", \"9-2\", \"9-3\", \"9-4\"], \"y\": [2.7965714285714283, 4.1249242424242425, 6.4072881355932205, 4.446298342541437, 5.337454545454546, 4.985962732919255, 6.498000000000001, 9.664371859296482, 7.4699193548387095, 3.604632352941177, 3.2088068181818183], \"type\": \"scatter\", \"uid\": \"c5fda1e6-d5cc-11e8-8ddb-a41f72875c19\"}], {\"title\": \"\\u5e73\\u5747\\u53cd\\u9988\\u65f6\\u957f\\u5468\\u8d8b\\u52bf\\u56fe\", \"xaxis\": {\"mirror\": \"all\", \"nticks\": 20, \"showgrid\": true, \"showline\": true, \"title\": \"\\u5468\", \"type\": \"category\", \"zeroline\": true}, \"yaxis\": {\"mirror\": \"all\", \"nticks\": 20, \"showgrid\": true, \"showline\": true, \"title\": \"\\u5e73\\u5747\\u53cd\\u9988\\u65f6\\u957f\", \"zeroline\": true}}, {\"showLink\": true, \"linkText\": \"Export to plot.ly\"})});</script>"
      ]
     },
     "metadata": {},
     "output_type": "display_data"
    },
    {
     "data": {
      "application/vnd.plotly.v1+json": {
       "data": [
        {
         "name": "平均反馈时长",
         "type": "scatter",
         "uid": "c5fda1e7-d5cc-11e8-8ddb-a41f72875c19",
         "x": [
          8,
          9,
          10
         ],
         "y": [
          5.371117241379311,
          6.148755905511811,
          3.6646039603960396
         ]
        }
       ],
       "layout": {
        "title": "平均反馈时长周趋势图",
        "xaxis": {
         "mirror": "all",
         "nticks": 20,
         "showgrid": true,
         "showline": true,
         "title": "周",
         "type": "category",
         "zeroline": true
        },
        "yaxis": {
         "mirror": "all",
         "nticks": 20,
         "showgrid": true,
         "showline": true,
         "title": "平均反馈时长",
         "zeroline": true
        }
       }
      },
      "text/html": [
       "<div id=\"f731b9b4-5f2b-4d1b-bcb4-4c6b0f33da55\" style=\"height: 525px; width: 100%;\" class=\"plotly-graph-div\"></div><script type=\"text/javascript\">require([\"plotly\"], function(Plotly) { window.PLOTLYENV=window.PLOTLYENV || {};window.PLOTLYENV.BASE_URL=\"https://plot.ly\";Plotly.newPlot(\"f731b9b4-5f2b-4d1b-bcb4-4c6b0f33da55\", [{\"name\": \"\\u5e73\\u5747\\u53cd\\u9988\\u65f6\\u957f\", \"x\": [8, 9, 10], \"y\": [5.371117241379311, 6.148755905511811, 3.6646039603960396], \"type\": \"scatter\", \"uid\": \"c5fda1e7-d5cc-11e8-8ddb-a41f72875c19\"}], {\"title\": \"\\u5e73\\u5747\\u53cd\\u9988\\u65f6\\u957f\\u5468\\u8d8b\\u52bf\\u56fe\", \"xaxis\": {\"mirror\": \"all\", \"nticks\": 20, \"showgrid\": true, \"showline\": true, \"title\": \"\\u5468\", \"type\": \"category\", \"zeroline\": true}, \"yaxis\": {\"mirror\": \"all\", \"nticks\": 20, \"showgrid\": true, \"showline\": true, \"title\": \"\\u5e73\\u5747\\u53cd\\u9988\\u65f6\\u957f\", \"zeroline\": true}}, {\"showLink\": true, \"linkText\": \"Export to plot.ly\"})});</script>"
      ],
      "text/vnd.plotly.v1+html": [
       "<div id=\"f731b9b4-5f2b-4d1b-bcb4-4c6b0f33da55\" style=\"height: 525px; width: 100%;\" class=\"plotly-graph-div\"></div><script type=\"text/javascript\">require([\"plotly\"], function(Plotly) { window.PLOTLYENV=window.PLOTLYENV || {};window.PLOTLYENV.BASE_URL=\"https://plot.ly\";Plotly.newPlot(\"f731b9b4-5f2b-4d1b-bcb4-4c6b0f33da55\", [{\"name\": \"\\u5e73\\u5747\\u53cd\\u9988\\u65f6\\u957f\", \"x\": [8, 9, 10], \"y\": [5.371117241379311, 6.148755905511811, 3.6646039603960396], \"type\": \"scatter\", \"uid\": \"c5fda1e7-d5cc-11e8-8ddb-a41f72875c19\"}], {\"title\": \"\\u5e73\\u5747\\u53cd\\u9988\\u65f6\\u957f\\u5468\\u8d8b\\u52bf\\u56fe\", \"xaxis\": {\"mirror\": \"all\", \"nticks\": 20, \"showgrid\": true, \"showline\": true, \"title\": \"\\u5468\", \"type\": \"category\", \"zeroline\": true}, \"yaxis\": {\"mirror\": \"all\", \"nticks\": 20, \"showgrid\": true, \"showline\": true, \"title\": \"\\u5e73\\u5747\\u53cd\\u9988\\u65f6\\u957f\", \"zeroline\": true}}, {\"showLink\": true, \"linkText\": \"Export to plot.ly\"})});</script>"
      ]
     },
     "metadata": {},
     "output_type": "display_data"
    }
   ],
   "source": [
    "ss = myModule.format(all_df1 ,\"日期（格式“月-周次”）\" ,['反馈总时长','下机批次数'])\n",
    "tt = ss.get_total_ratio([['平均反馈时长','反馈总时长','下机批次数','/']] )\n",
    "myModule.myPlot(tt).plot('line')\n",
    "\n",
    "ss = myModule.format(all_df1 ,\"month\" ,['反馈总时长','下机批次数'])\n",
    "tt = ss.get_total_ratio([['平均反馈时长','反馈总时长','下机批次数','/']] )\n",
    "myModule.myPlot(tt).plot('line')\n"
   ]
  },
  {
   "cell_type": "markdown",
   "metadata": {},
   "source": [
    "### 异常"
   ]
  },
  {
   "cell_type": "markdown",
   "metadata": {},
   "source": [
    "#### 个性化拆分"
   ]
  },
  {
   "cell_type": "code",
   "execution_count": 11,
   "metadata": {
    "collapsed": false
   },
   "outputs": [
    {
     "data": {
      "application/vnd.plotly.v1+json": {
       "data": [
        {
         "name": "个性化数",
         "type": "scatter",
         "uid": "c5fda1e8-d5cc-11e8-8ddb-a41f72875c19",
         "x": [
          "10-2",
          "10-3",
          "8-1",
          "8-2",
          "8-3",
          "8-4",
          "8-5",
          "9-1",
          "9-2",
          "9-3",
          "9-4"
         ],
         "y": [
          2,
          1,
          0,
          0,
          0,
          0,
          0,
          0,
          0,
          1,
          3
         ]
        }
       ],
       "layout": {
        "title": "个性化数周趋势图",
        "xaxis": {
         "mirror": "all",
         "nticks": 20,
         "showgrid": true,
         "showline": true,
         "title": "周",
         "type": "category",
         "zeroline": true
        },
        "yaxis": {
         "mirror": "all",
         "nticks": 20,
         "showgrid": true,
         "showline": true,
         "title": "个性化数",
         "zeroline": true
        }
       }
      },
      "text/html": [
       "<div id=\"f1cbcf82-241a-439f-9117-d76ae5bfa689\" style=\"height: 525px; width: 100%;\" class=\"plotly-graph-div\"></div><script type=\"text/javascript\">require([\"plotly\"], function(Plotly) { window.PLOTLYENV=window.PLOTLYENV || {};window.PLOTLYENV.BASE_URL=\"https://plot.ly\";Plotly.newPlot(\"f1cbcf82-241a-439f-9117-d76ae5bfa689\", [{\"name\": \"\\u4e2a\\u6027\\u5316\\u6570\", \"x\": [\"10-2\", \"10-3\", \"8-1\", \"8-2\", \"8-3\", \"8-4\", \"8-5\", \"9-1\", \"9-2\", \"9-3\", \"9-4\"], \"y\": [2, 1, 0, 0, 0, 0, 0, 0, 0, 1, 3], \"type\": \"scatter\", \"uid\": \"c5fda1e8-d5cc-11e8-8ddb-a41f72875c19\"}], {\"title\": \"\\u4e2a\\u6027\\u5316\\u6570\\u5468\\u8d8b\\u52bf\\u56fe\", \"xaxis\": {\"mirror\": \"all\", \"nticks\": 20, \"showgrid\": true, \"showline\": true, \"title\": \"\\u5468\", \"type\": \"category\", \"zeroline\": true}, \"yaxis\": {\"mirror\": \"all\", \"nticks\": 20, \"showgrid\": true, \"showline\": true, \"title\": \"\\u4e2a\\u6027\\u5316\\u6570\", \"zeroline\": true}}, {\"showLink\": true, \"linkText\": \"Export to plot.ly\"})});</script>"
      ],
      "text/vnd.plotly.v1+html": [
       "<div id=\"f1cbcf82-241a-439f-9117-d76ae5bfa689\" style=\"height: 525px; width: 100%;\" class=\"plotly-graph-div\"></div><script type=\"text/javascript\">require([\"plotly\"], function(Plotly) { window.PLOTLYENV=window.PLOTLYENV || {};window.PLOTLYENV.BASE_URL=\"https://plot.ly\";Plotly.newPlot(\"f1cbcf82-241a-439f-9117-d76ae5bfa689\", [{\"name\": \"\\u4e2a\\u6027\\u5316\\u6570\", \"x\": [\"10-2\", \"10-3\", \"8-1\", \"8-2\", \"8-3\", \"8-4\", \"8-5\", \"9-1\", \"9-2\", \"9-3\", \"9-4\"], \"y\": [2, 1, 0, 0, 0, 0, 0, 0, 0, 1, 3], \"type\": \"scatter\", \"uid\": \"c5fda1e8-d5cc-11e8-8ddb-a41f72875c19\"}], {\"title\": \"\\u4e2a\\u6027\\u5316\\u6570\\u5468\\u8d8b\\u52bf\\u56fe\", \"xaxis\": {\"mirror\": \"all\", \"nticks\": 20, \"showgrid\": true, \"showline\": true, \"title\": \"\\u5468\", \"type\": \"category\", \"zeroline\": true}, \"yaxis\": {\"mirror\": \"all\", \"nticks\": 20, \"showgrid\": true, \"showline\": true, \"title\": \"\\u4e2a\\u6027\\u5316\\u6570\", \"zeroline\": true}}, {\"showLink\": true, \"linkText\": \"Export to plot.ly\"})});</script>"
      ]
     },
     "metadata": {},
     "output_type": "display_data"
    },
    {
     "data": {
      "application/vnd.plotly.v1+json": {
       "data": [
        {
         "name": "个性化数",
         "type": "scatter",
         "uid": "c5fda1e9-d5cc-11e8-8ddb-a41f72875c19",
         "x": [
          8,
          9,
          10
         ],
         "y": [
          0,
          4,
          3
         ]
        }
       ],
       "layout": {
        "title": "个性化数月趋势图",
        "xaxis": {
         "mirror": "all",
         "nticks": 20,
         "showgrid": true,
         "showline": true,
         "title": "月",
         "type": "category",
         "zeroline": true
        },
        "yaxis": {
         "mirror": "all",
         "nticks": 20,
         "showgrid": true,
         "showline": true,
         "title": "个性化数",
         "zeroline": true
        }
       }
      },
      "text/html": [
       "<div id=\"e29e34ed-2564-4698-9c23-7369effb4e00\" style=\"height: 525px; width: 100%;\" class=\"plotly-graph-div\"></div><script type=\"text/javascript\">require([\"plotly\"], function(Plotly) { window.PLOTLYENV=window.PLOTLYENV || {};window.PLOTLYENV.BASE_URL=\"https://plot.ly\";Plotly.newPlot(\"e29e34ed-2564-4698-9c23-7369effb4e00\", [{\"name\": \"\\u4e2a\\u6027\\u5316\\u6570\", \"x\": [8, 9, 10], \"y\": [0, 4, 3], \"type\": \"scatter\", \"uid\": \"c5fda1e9-d5cc-11e8-8ddb-a41f72875c19\"}], {\"title\": \"\\u4e2a\\u6027\\u5316\\u6570\\u6708\\u8d8b\\u52bf\\u56fe\", \"xaxis\": {\"mirror\": \"all\", \"nticks\": 20, \"showgrid\": true, \"showline\": true, \"title\": \"\\u6708\", \"type\": \"category\", \"zeroline\": true}, \"yaxis\": {\"mirror\": \"all\", \"nticks\": 20, \"showgrid\": true, \"showline\": true, \"title\": \"\\u4e2a\\u6027\\u5316\\u6570\", \"zeroline\": true}}, {\"showLink\": true, \"linkText\": \"Export to plot.ly\"})});</script>"
      ],
      "text/vnd.plotly.v1+html": [
       "<div id=\"e29e34ed-2564-4698-9c23-7369effb4e00\" style=\"height: 525px; width: 100%;\" class=\"plotly-graph-div\"></div><script type=\"text/javascript\">require([\"plotly\"], function(Plotly) { window.PLOTLYENV=window.PLOTLYENV || {};window.PLOTLYENV.BASE_URL=\"https://plot.ly\";Plotly.newPlot(\"e29e34ed-2564-4698-9c23-7369effb4e00\", [{\"name\": \"\\u4e2a\\u6027\\u5316\\u6570\", \"x\": [8, 9, 10], \"y\": [0, 4, 3], \"type\": \"scatter\", \"uid\": \"c5fda1e9-d5cc-11e8-8ddb-a41f72875c19\"}], {\"title\": \"\\u4e2a\\u6027\\u5316\\u6570\\u6708\\u8d8b\\u52bf\\u56fe\", \"xaxis\": {\"mirror\": \"all\", \"nticks\": 20, \"showgrid\": true, \"showline\": true, \"title\": \"\\u6708\", \"type\": \"category\", \"zeroline\": true}, \"yaxis\": {\"mirror\": \"all\", \"nticks\": 20, \"showgrid\": true, \"showline\": true, \"title\": \"\\u4e2a\\u6027\\u5316\\u6570\", \"zeroline\": true}}, {\"showLink\": true, \"linkText\": \"Export to plot.ly\"})});</script>"
      ]
     },
     "metadata": {},
     "output_type": "display_data"
    }
   ],
   "source": [
    "ss = myModule.format(all_df1 ,\"日期（格式“月-周次”）\" ,['个性化数'])\n",
    "myModule.myPlot(ss.groupby('sum')).plot('line')\n",
    "\n",
    "ss = myModule.format(all_df1 ,\"month\" ,['个性化数'])\n",
    "myModule.myPlot(ss.groupby('sum')).plot('line','月')"
   ]
  },
  {
   "cell_type": "markdown",
   "metadata": {},
   "source": [
    "#### lims异常数和下单错误数"
   ]
  },
  {
   "cell_type": "code",
   "execution_count": 12,
   "metadata": {
    "collapsed": false
   },
   "outputs": [
    {
     "data": {
      "application/vnd.plotly.v1+json": {
       "data": [
        {
         "name": "lims异常数",
         "type": "scatter",
         "uid": "c5fda1ea-d5cc-11e8-8ddb-a41f72875c19",
         "x": [
          "10-2",
          "10-3",
          "8-1",
          "8-2",
          "8-3",
          "8-4",
          "8-5",
          "9-1",
          "9-2",
          "9-3",
          "9-4"
         ],
         "y": [
          1,
          1,
          2,
          2,
          2,
          1,
          2,
          1,
          0,
          0,
          1
         ]
        },
        {
         "name": "下单错误数",
         "type": "scatter",
         "uid": "c5fda1eb-d5cc-11e8-8ddb-a41f72875c19",
         "x": [
          "10-2",
          "10-3",
          "8-1",
          "8-2",
          "8-3",
          "8-4",
          "8-5",
          "9-1",
          "9-2",
          "9-3",
          "9-4"
         ],
         "y": [
          0,
          0,
          1,
          0,
          6,
          1,
          1,
          1,
          1,
          0,
          0
         ]
        }
       ],
       "layout": {
        "title": "lims异常数&下单错误数周趋势图",
        "xaxis": {
         "mirror": "all",
         "nticks": 20,
         "showgrid": true,
         "showline": true,
         "title": "周",
         "type": "category",
         "zeroline": true
        },
        "yaxis": {
         "mirror": "all",
         "nticks": 20,
         "showgrid": true,
         "showline": true,
         "title": "lims异常数&下单错误数",
         "zeroline": true
        }
       }
      },
      "text/html": [
       "<div id=\"8899fc85-4f2e-4b0a-b301-ef946c126f50\" style=\"height: 525px; width: 100%;\" class=\"plotly-graph-div\"></div><script type=\"text/javascript\">require([\"plotly\"], function(Plotly) { window.PLOTLYENV=window.PLOTLYENV || {};window.PLOTLYENV.BASE_URL=\"https://plot.ly\";Plotly.newPlot(\"8899fc85-4f2e-4b0a-b301-ef946c126f50\", [{\"name\": \"lims\\u5f02\\u5e38\\u6570\", \"x\": [\"10-2\", \"10-3\", \"8-1\", \"8-2\", \"8-3\", \"8-4\", \"8-5\", \"9-1\", \"9-2\", \"9-3\", \"9-4\"], \"y\": [1, 1, 2, 2, 2, 1, 2, 1, 0, 0, 1], \"type\": \"scatter\", \"uid\": \"c5fda1ea-d5cc-11e8-8ddb-a41f72875c19\"}, {\"name\": \"\\u4e0b\\u5355\\u9519\\u8bef\\u6570\", \"x\": [\"10-2\", \"10-3\", \"8-1\", \"8-2\", \"8-3\", \"8-4\", \"8-5\", \"9-1\", \"9-2\", \"9-3\", \"9-4\"], \"y\": [0, 0, 1, 0, 6, 1, 1, 1, 1, 0, 0], \"type\": \"scatter\", \"uid\": \"c5fda1eb-d5cc-11e8-8ddb-a41f72875c19\"}], {\"title\": \"lims\\u5f02\\u5e38\\u6570&\\u4e0b\\u5355\\u9519\\u8bef\\u6570\\u5468\\u8d8b\\u52bf\\u56fe\", \"xaxis\": {\"mirror\": \"all\", \"nticks\": 20, \"showgrid\": true, \"showline\": true, \"title\": \"\\u5468\", \"type\": \"category\", \"zeroline\": true}, \"yaxis\": {\"mirror\": \"all\", \"nticks\": 20, \"showgrid\": true, \"showline\": true, \"title\": \"lims\\u5f02\\u5e38\\u6570&\\u4e0b\\u5355\\u9519\\u8bef\\u6570\", \"zeroline\": true}}, {\"showLink\": true, \"linkText\": \"Export to plot.ly\"})});</script>"
      ],
      "text/vnd.plotly.v1+html": [
       "<div id=\"8899fc85-4f2e-4b0a-b301-ef946c126f50\" style=\"height: 525px; width: 100%;\" class=\"plotly-graph-div\"></div><script type=\"text/javascript\">require([\"plotly\"], function(Plotly) { window.PLOTLYENV=window.PLOTLYENV || {};window.PLOTLYENV.BASE_URL=\"https://plot.ly\";Plotly.newPlot(\"8899fc85-4f2e-4b0a-b301-ef946c126f50\", [{\"name\": \"lims\\u5f02\\u5e38\\u6570\", \"x\": [\"10-2\", \"10-3\", \"8-1\", \"8-2\", \"8-3\", \"8-4\", \"8-5\", \"9-1\", \"9-2\", \"9-3\", \"9-4\"], \"y\": [1, 1, 2, 2, 2, 1, 2, 1, 0, 0, 1], \"type\": \"scatter\", \"uid\": \"c5fda1ea-d5cc-11e8-8ddb-a41f72875c19\"}, {\"name\": \"\\u4e0b\\u5355\\u9519\\u8bef\\u6570\", \"x\": [\"10-2\", \"10-3\", \"8-1\", \"8-2\", \"8-3\", \"8-4\", \"8-5\", \"9-1\", \"9-2\", \"9-3\", \"9-4\"], \"y\": [0, 0, 1, 0, 6, 1, 1, 1, 1, 0, 0], \"type\": \"scatter\", \"uid\": \"c5fda1eb-d5cc-11e8-8ddb-a41f72875c19\"}], {\"title\": \"lims\\u5f02\\u5e38\\u6570&\\u4e0b\\u5355\\u9519\\u8bef\\u6570\\u5468\\u8d8b\\u52bf\\u56fe\", \"xaxis\": {\"mirror\": \"all\", \"nticks\": 20, \"showgrid\": true, \"showline\": true, \"title\": \"\\u5468\", \"type\": \"category\", \"zeroline\": true}, \"yaxis\": {\"mirror\": \"all\", \"nticks\": 20, \"showgrid\": true, \"showline\": true, \"title\": \"lims\\u5f02\\u5e38\\u6570&\\u4e0b\\u5355\\u9519\\u8bef\\u6570\", \"zeroline\": true}}, {\"showLink\": true, \"linkText\": \"Export to plot.ly\"})});</script>"
      ]
     },
     "metadata": {},
     "output_type": "display_data"
    },
    {
     "data": {
      "application/vnd.plotly.v1+json": {
       "data": [
        {
         "name": "lims异常数",
         "type": "scatter",
         "uid": "c5fda1ec-d5cc-11e8-8ddb-a41f72875c19",
         "x": [
          8,
          9,
          10
         ],
         "y": [
          9,
          2,
          2
         ]
        },
        {
         "name": "下单错误数",
         "type": "scatter",
         "uid": "c5fda1ed-d5cc-11e8-8ddb-a41f72875c19",
         "x": [
          8,
          9,
          10
         ],
         "y": [
          9,
          2,
          0
         ]
        }
       ],
       "layout": {
        "title": "lims异常数&下单错误数月趋势图",
        "xaxis": {
         "mirror": "all",
         "nticks": 20,
         "showgrid": true,
         "showline": true,
         "title": "月",
         "type": "category",
         "zeroline": true
        },
        "yaxis": {
         "mirror": "all",
         "nticks": 20,
         "showgrid": true,
         "showline": true,
         "title": "lims异常数&下单错误数",
         "zeroline": true
        }
       }
      },
      "text/html": [
       "<div id=\"dc2644dc-ef9c-48cc-8ca8-f84324834b9b\" style=\"height: 525px; width: 100%;\" class=\"plotly-graph-div\"></div><script type=\"text/javascript\">require([\"plotly\"], function(Plotly) { window.PLOTLYENV=window.PLOTLYENV || {};window.PLOTLYENV.BASE_URL=\"https://plot.ly\";Plotly.newPlot(\"dc2644dc-ef9c-48cc-8ca8-f84324834b9b\", [{\"name\": \"lims\\u5f02\\u5e38\\u6570\", \"x\": [8, 9, 10], \"y\": [9, 2, 2], \"type\": \"scatter\", \"uid\": \"c5fda1ec-d5cc-11e8-8ddb-a41f72875c19\"}, {\"name\": \"\\u4e0b\\u5355\\u9519\\u8bef\\u6570\", \"x\": [8, 9, 10], \"y\": [9, 2, 0], \"type\": \"scatter\", \"uid\": \"c5fda1ed-d5cc-11e8-8ddb-a41f72875c19\"}], {\"title\": \"lims\\u5f02\\u5e38\\u6570&\\u4e0b\\u5355\\u9519\\u8bef\\u6570\\u6708\\u8d8b\\u52bf\\u56fe\", \"xaxis\": {\"mirror\": \"all\", \"nticks\": 20, \"showgrid\": true, \"showline\": true, \"title\": \"\\u6708\", \"type\": \"category\", \"zeroline\": true}, \"yaxis\": {\"mirror\": \"all\", \"nticks\": 20, \"showgrid\": true, \"showline\": true, \"title\": \"lims\\u5f02\\u5e38\\u6570&\\u4e0b\\u5355\\u9519\\u8bef\\u6570\", \"zeroline\": true}}, {\"showLink\": true, \"linkText\": \"Export to plot.ly\"})});</script>"
      ],
      "text/vnd.plotly.v1+html": [
       "<div id=\"dc2644dc-ef9c-48cc-8ca8-f84324834b9b\" style=\"height: 525px; width: 100%;\" class=\"plotly-graph-div\"></div><script type=\"text/javascript\">require([\"plotly\"], function(Plotly) { window.PLOTLYENV=window.PLOTLYENV || {};window.PLOTLYENV.BASE_URL=\"https://plot.ly\";Plotly.newPlot(\"dc2644dc-ef9c-48cc-8ca8-f84324834b9b\", [{\"name\": \"lims\\u5f02\\u5e38\\u6570\", \"x\": [8, 9, 10], \"y\": [9, 2, 2], \"type\": \"scatter\", \"uid\": \"c5fda1ec-d5cc-11e8-8ddb-a41f72875c19\"}, {\"name\": \"\\u4e0b\\u5355\\u9519\\u8bef\\u6570\", \"x\": [8, 9, 10], \"y\": [9, 2, 0], \"type\": \"scatter\", \"uid\": \"c5fda1ed-d5cc-11e8-8ddb-a41f72875c19\"}], {\"title\": \"lims\\u5f02\\u5e38\\u6570&\\u4e0b\\u5355\\u9519\\u8bef\\u6570\\u6708\\u8d8b\\u52bf\\u56fe\", \"xaxis\": {\"mirror\": \"all\", \"nticks\": 20, \"showgrid\": true, \"showline\": true, \"title\": \"\\u6708\", \"type\": \"category\", \"zeroline\": true}, \"yaxis\": {\"mirror\": \"all\", \"nticks\": 20, \"showgrid\": true, \"showline\": true, \"title\": \"lims\\u5f02\\u5e38\\u6570&\\u4e0b\\u5355\\u9519\\u8bef\\u6570\", \"zeroline\": true}}, {\"showLink\": true, \"linkText\": \"Export to plot.ly\"})});</script>"
      ]
     },
     "metadata": {},
     "output_type": "display_data"
    }
   ],
   "source": [
    "ss = myModule.format(all_df1 ,\"日期（格式“月-周次”）\" ,['lims异常数' , '下单错误数'])\n",
    "myModule.myPlot(ss.groupby('sum')).plot('line')\n",
    "\n",
    "ss = myModule.format(all_df1 ,\"month\" ,['lims异常数' , '下单错误数'])\n",
    "myModule.myPlot(ss.groupby('sum')).plot('line','月')"
   ]
  },
  {
   "cell_type": "markdown",
   "metadata": {},
   "source": [
    "#### 过滤流程异常数"
   ]
  },
  {
   "cell_type": "code",
   "execution_count": 13,
   "metadata": {
    "collapsed": false
   },
   "outputs": [
    {
     "data": {
      "application/vnd.plotly.v1+json": {
       "data": [
        {
         "name": "过滤流程异常数",
         "type": "scatter",
         "uid": "c6d7a020-d5cc-11e8-8ddb-a41f72875c19",
         "x": [
          "10-2",
          "10-3",
          "8-1",
          "8-2",
          "8-3",
          "8-4",
          "8-5",
          "9-1",
          "9-2",
          "9-3",
          "9-4"
         ],
         "y": [
          0,
          0,
          0,
          1,
          0,
          0,
          2,
          1,
          0,
          0,
          0
         ]
        }
       ],
       "layout": {
        "title": "过滤流程异常数周趋势图",
        "xaxis": {
         "mirror": "all",
         "nticks": 20,
         "showgrid": true,
         "showline": true,
         "title": "周",
         "type": "category",
         "zeroline": true
        },
        "yaxis": {
         "mirror": "all",
         "nticks": 20,
         "showgrid": true,
         "showline": true,
         "title": "过滤流程异常数",
         "zeroline": true
        }
       }
      },
      "text/html": [
       "<div id=\"41568255-8f8d-44a8-9176-a8957c1a3222\" style=\"height: 525px; width: 100%;\" class=\"plotly-graph-div\"></div><script type=\"text/javascript\">require([\"plotly\"], function(Plotly) { window.PLOTLYENV=window.PLOTLYENV || {};window.PLOTLYENV.BASE_URL=\"https://plot.ly\";Plotly.newPlot(\"41568255-8f8d-44a8-9176-a8957c1a3222\", [{\"name\": \"\\u8fc7\\u6ee4\\u6d41\\u7a0b\\u5f02\\u5e38\\u6570\", \"x\": [\"10-2\", \"10-3\", \"8-1\", \"8-2\", \"8-3\", \"8-4\", \"8-5\", \"9-1\", \"9-2\", \"9-3\", \"9-4\"], \"y\": [0, 0, 0, 1, 0, 0, 2, 1, 0, 0, 0], \"type\": \"scatter\", \"uid\": \"c6d7a020-d5cc-11e8-8ddb-a41f72875c19\"}], {\"title\": \"\\u8fc7\\u6ee4\\u6d41\\u7a0b\\u5f02\\u5e38\\u6570\\u5468\\u8d8b\\u52bf\\u56fe\", \"xaxis\": {\"mirror\": \"all\", \"nticks\": 20, \"showgrid\": true, \"showline\": true, \"title\": \"\\u5468\", \"type\": \"category\", \"zeroline\": true}, \"yaxis\": {\"mirror\": \"all\", \"nticks\": 20, \"showgrid\": true, \"showline\": true, \"title\": \"\\u8fc7\\u6ee4\\u6d41\\u7a0b\\u5f02\\u5e38\\u6570\", \"zeroline\": true}}, {\"showLink\": true, \"linkText\": \"Export to plot.ly\"})});</script>"
      ],
      "text/vnd.plotly.v1+html": [
       "<div id=\"41568255-8f8d-44a8-9176-a8957c1a3222\" style=\"height: 525px; width: 100%;\" class=\"plotly-graph-div\"></div><script type=\"text/javascript\">require([\"plotly\"], function(Plotly) { window.PLOTLYENV=window.PLOTLYENV || {};window.PLOTLYENV.BASE_URL=\"https://plot.ly\";Plotly.newPlot(\"41568255-8f8d-44a8-9176-a8957c1a3222\", [{\"name\": \"\\u8fc7\\u6ee4\\u6d41\\u7a0b\\u5f02\\u5e38\\u6570\", \"x\": [\"10-2\", \"10-3\", \"8-1\", \"8-2\", \"8-3\", \"8-4\", \"8-5\", \"9-1\", \"9-2\", \"9-3\", \"9-4\"], \"y\": [0, 0, 0, 1, 0, 0, 2, 1, 0, 0, 0], \"type\": \"scatter\", \"uid\": \"c6d7a020-d5cc-11e8-8ddb-a41f72875c19\"}], {\"title\": \"\\u8fc7\\u6ee4\\u6d41\\u7a0b\\u5f02\\u5e38\\u6570\\u5468\\u8d8b\\u52bf\\u56fe\", \"xaxis\": {\"mirror\": \"all\", \"nticks\": 20, \"showgrid\": true, \"showline\": true, \"title\": \"\\u5468\", \"type\": \"category\", \"zeroline\": true}, \"yaxis\": {\"mirror\": \"all\", \"nticks\": 20, \"showgrid\": true, \"showline\": true, \"title\": \"\\u8fc7\\u6ee4\\u6d41\\u7a0b\\u5f02\\u5e38\\u6570\", \"zeroline\": true}}, {\"showLink\": true, \"linkText\": \"Export to plot.ly\"})});</script>"
      ]
     },
     "metadata": {},
     "output_type": "display_data"
    },
    {
     "data": {
      "application/vnd.plotly.v1+json": {
       "data": [
        {
         "name": "过滤流程异常数",
         "type": "scatter",
         "uid": "c6d7a021-d5cc-11e8-8ddb-a41f72875c19",
         "x": [
          8,
          9,
          10
         ],
         "y": [
          3,
          1,
          0
         ]
        }
       ],
       "layout": {
        "title": "过滤流程异常数月趋势图",
        "xaxis": {
         "mirror": "all",
         "nticks": 20,
         "showgrid": true,
         "showline": true,
         "title": "月",
         "type": "category",
         "zeroline": true
        },
        "yaxis": {
         "mirror": "all",
         "nticks": 20,
         "showgrid": true,
         "showline": true,
         "title": "过滤流程异常数",
         "zeroline": true
        }
       }
      },
      "text/html": [
       "<div id=\"cf583bbb-f88b-4339-a28d-c30a31c73d9c\" style=\"height: 525px; width: 100%;\" class=\"plotly-graph-div\"></div><script type=\"text/javascript\">require([\"plotly\"], function(Plotly) { window.PLOTLYENV=window.PLOTLYENV || {};window.PLOTLYENV.BASE_URL=\"https://plot.ly\";Plotly.newPlot(\"cf583bbb-f88b-4339-a28d-c30a31c73d9c\", [{\"name\": \"\\u8fc7\\u6ee4\\u6d41\\u7a0b\\u5f02\\u5e38\\u6570\", \"x\": [8, 9, 10], \"y\": [3, 1, 0], \"type\": \"scatter\", \"uid\": \"c6d7a021-d5cc-11e8-8ddb-a41f72875c19\"}], {\"title\": \"\\u8fc7\\u6ee4\\u6d41\\u7a0b\\u5f02\\u5e38\\u6570\\u6708\\u8d8b\\u52bf\\u56fe\", \"xaxis\": {\"mirror\": \"all\", \"nticks\": 20, \"showgrid\": true, \"showline\": true, \"title\": \"\\u6708\", \"type\": \"category\", \"zeroline\": true}, \"yaxis\": {\"mirror\": \"all\", \"nticks\": 20, \"showgrid\": true, \"showline\": true, \"title\": \"\\u8fc7\\u6ee4\\u6d41\\u7a0b\\u5f02\\u5e38\\u6570\", \"zeroline\": true}}, {\"showLink\": true, \"linkText\": \"Export to plot.ly\"})});</script>"
      ],
      "text/vnd.plotly.v1+html": [
       "<div id=\"cf583bbb-f88b-4339-a28d-c30a31c73d9c\" style=\"height: 525px; width: 100%;\" class=\"plotly-graph-div\"></div><script type=\"text/javascript\">require([\"plotly\"], function(Plotly) { window.PLOTLYENV=window.PLOTLYENV || {};window.PLOTLYENV.BASE_URL=\"https://plot.ly\";Plotly.newPlot(\"cf583bbb-f88b-4339-a28d-c30a31c73d9c\", [{\"name\": \"\\u8fc7\\u6ee4\\u6d41\\u7a0b\\u5f02\\u5e38\\u6570\", \"x\": [8, 9, 10], \"y\": [3, 1, 0], \"type\": \"scatter\", \"uid\": \"c6d7a021-d5cc-11e8-8ddb-a41f72875c19\"}], {\"title\": \"\\u8fc7\\u6ee4\\u6d41\\u7a0b\\u5f02\\u5e38\\u6570\\u6708\\u8d8b\\u52bf\\u56fe\", \"xaxis\": {\"mirror\": \"all\", \"nticks\": 20, \"showgrid\": true, \"showline\": true, \"title\": \"\\u6708\", \"type\": \"category\", \"zeroline\": true}, \"yaxis\": {\"mirror\": \"all\", \"nticks\": 20, \"showgrid\": true, \"showline\": true, \"title\": \"\\u8fc7\\u6ee4\\u6d41\\u7a0b\\u5f02\\u5e38\\u6570\", \"zeroline\": true}}, {\"showLink\": true, \"linkText\": \"Export to plot.ly\"})});</script>"
      ]
     },
     "metadata": {},
     "output_type": "display_data"
    }
   ],
   "source": [
    "ss = myModule.format(all_df1 ,\"日期（格式“月-周次”）\" ,['过滤流程异常数'])\n",
    "myModule.myPlot(ss.groupby('sum')).plot('line')\n",
    "\n",
    "ss = myModule.format(all_df1 ,\"month\" ,['过滤流程异常数'])\n",
    "myModule.myPlot(ss.groupby('sum')).plot('line','月')"
   ]
  },
  {
   "cell_type": "markdown",
   "metadata": {},
   "source": [
    "## 芯片拆分整体情况"
   ]
  },
  {
   "cell_type": "markdown",
   "metadata": {},
   "source": [
    "### 产能"
   ]
  },
  {
   "cell_type": "markdown",
   "metadata": {},
   "source": [
    "#### 芯片总数和不通过芯片数"
   ]
  },
  {
   "cell_type": "code",
   "execution_count": 14,
   "metadata": {
    "collapsed": false
   },
   "outputs": [
    {
     "data": {
      "application/vnd.plotly.v1+json": {
       "data": [
        {
         "name": "不通过芯片数",
         "type": "scatter",
         "uid": "c6d7a022-d5cc-11e8-8ddb-a41f72875c19",
         "x": [
          "10-2",
          "8-1",
          "8-2",
          "8-3",
          "8-4",
          "8-5",
          "9-1",
          "9-2",
          "9-3",
          "9-4"
         ],
         "y": [
          31,
          13,
          22,
          20,
          14,
          14,
          15,
          8,
          20,
          18
         ]
        },
        {
         "name": "芯片总数",
         "type": "scatter",
         "uid": "c6d7a023-d5cc-11e8-8ddb-a41f72875c19",
         "x": [
          "10-2",
          "8-1",
          "8-2",
          "8-3",
          "8-4",
          "8-5",
          "9-1",
          "9-2",
          "9-3",
          "9-4"
         ],
         "y": [
          59,
          27,
          37,
          29,
          33,
          22,
          29,
          26,
          29,
          25
         ]
        }
       ],
       "layout": {
        "title": "不通过芯片数&芯片总数周趋势图",
        "xaxis": {
         "mirror": "all",
         "nticks": 20,
         "showgrid": true,
         "showline": true,
         "title": "周",
         "type": "category",
         "zeroline": true
        },
        "yaxis": {
         "mirror": "all",
         "nticks": 20,
         "showgrid": true,
         "showline": true,
         "title": "不通过芯片数&芯片总数",
         "zeroline": true
        }
       }
      },
      "text/html": [
       "<div id=\"be7cb8fc-e651-4b2f-b609-ff9f63f06757\" style=\"height: 525px; width: 100%;\" class=\"plotly-graph-div\"></div><script type=\"text/javascript\">require([\"plotly\"], function(Plotly) { window.PLOTLYENV=window.PLOTLYENV || {};window.PLOTLYENV.BASE_URL=\"https://plot.ly\";Plotly.newPlot(\"be7cb8fc-e651-4b2f-b609-ff9f63f06757\", [{\"name\": \"\\u4e0d\\u901a\\u8fc7\\u82af\\u7247\\u6570\", \"x\": [\"10-2\", \"8-1\", \"8-2\", \"8-3\", \"8-4\", \"8-5\", \"9-1\", \"9-2\", \"9-3\", \"9-4\"], \"y\": [31, 13, 22, 20, 14, 14, 15, 8, 20, 18], \"type\": \"scatter\", \"uid\": \"c6d7a022-d5cc-11e8-8ddb-a41f72875c19\"}, {\"name\": \"\\u82af\\u7247\\u603b\\u6570\", \"x\": [\"10-2\", \"8-1\", \"8-2\", \"8-3\", \"8-4\", \"8-5\", \"9-1\", \"9-2\", \"9-3\", \"9-4\"], \"y\": [59, 27, 37, 29, 33, 22, 29, 26, 29, 25], \"type\": \"scatter\", \"uid\": \"c6d7a023-d5cc-11e8-8ddb-a41f72875c19\"}], {\"title\": \"\\u4e0d\\u901a\\u8fc7\\u82af\\u7247\\u6570&\\u82af\\u7247\\u603b\\u6570\\u5468\\u8d8b\\u52bf\\u56fe\", \"xaxis\": {\"mirror\": \"all\", \"nticks\": 20, \"showgrid\": true, \"showline\": true, \"title\": \"\\u5468\", \"type\": \"category\", \"zeroline\": true}, \"yaxis\": {\"mirror\": \"all\", \"nticks\": 20, \"showgrid\": true, \"showline\": true, \"title\": \"\\u4e0d\\u901a\\u8fc7\\u82af\\u7247\\u6570&\\u82af\\u7247\\u603b\\u6570\", \"zeroline\": true}}, {\"showLink\": true, \"linkText\": \"Export to plot.ly\"})});</script>"
      ],
      "text/vnd.plotly.v1+html": [
       "<div id=\"be7cb8fc-e651-4b2f-b609-ff9f63f06757\" style=\"height: 525px; width: 100%;\" class=\"plotly-graph-div\"></div><script type=\"text/javascript\">require([\"plotly\"], function(Plotly) { window.PLOTLYENV=window.PLOTLYENV || {};window.PLOTLYENV.BASE_URL=\"https://plot.ly\";Plotly.newPlot(\"be7cb8fc-e651-4b2f-b609-ff9f63f06757\", [{\"name\": \"\\u4e0d\\u901a\\u8fc7\\u82af\\u7247\\u6570\", \"x\": [\"10-2\", \"8-1\", \"8-2\", \"8-3\", \"8-4\", \"8-5\", \"9-1\", \"9-2\", \"9-3\", \"9-4\"], \"y\": [31, 13, 22, 20, 14, 14, 15, 8, 20, 18], \"type\": \"scatter\", \"uid\": \"c6d7a022-d5cc-11e8-8ddb-a41f72875c19\"}, {\"name\": \"\\u82af\\u7247\\u603b\\u6570\", \"x\": [\"10-2\", \"8-1\", \"8-2\", \"8-3\", \"8-4\", \"8-5\", \"9-1\", \"9-2\", \"9-3\", \"9-4\"], \"y\": [59, 27, 37, 29, 33, 22, 29, 26, 29, 25], \"type\": \"scatter\", \"uid\": \"c6d7a023-d5cc-11e8-8ddb-a41f72875c19\"}], {\"title\": \"\\u4e0d\\u901a\\u8fc7\\u82af\\u7247\\u6570&\\u82af\\u7247\\u603b\\u6570\\u5468\\u8d8b\\u52bf\\u56fe\", \"xaxis\": {\"mirror\": \"all\", \"nticks\": 20, \"showgrid\": true, \"showline\": true, \"title\": \"\\u5468\", \"type\": \"category\", \"zeroline\": true}, \"yaxis\": {\"mirror\": \"all\", \"nticks\": 20, \"showgrid\": true, \"showline\": true, \"title\": \"\\u4e0d\\u901a\\u8fc7\\u82af\\u7247\\u6570&\\u82af\\u7247\\u603b\\u6570\", \"zeroline\": true}}, {\"showLink\": true, \"linkText\": \"Export to plot.ly\"})});</script>"
      ]
     },
     "metadata": {},
     "output_type": "display_data"
    },
    {
     "data": {
      "application/vnd.plotly.v1+json": {
       "data": [
        {
         "name": "不通过芯片数",
         "type": "scatter",
         "uid": "c6d7a024-d5cc-11e8-8ddb-a41f72875c19",
         "x": [
          8,
          9,
          10
         ],
         "y": [
          83,
          61,
          31
         ]
        },
        {
         "name": "芯片总数",
         "type": "scatter",
         "uid": "c6d7a025-d5cc-11e8-8ddb-a41f72875c19",
         "x": [
          8,
          9,
          10
         ],
         "y": [
          148,
          109,
          59
         ]
        }
       ],
       "layout": {
        "title": "不通过芯片数&芯片总数月趋势图",
        "xaxis": {
         "mirror": "all",
         "nticks": 20,
         "showgrid": true,
         "showline": true,
         "title": "月",
         "type": "category",
         "zeroline": true
        },
        "yaxis": {
         "mirror": "all",
         "nticks": 20,
         "showgrid": true,
         "showline": true,
         "title": "不通过芯片数&芯片总数",
         "zeroline": true
        }
       }
      },
      "text/html": [
       "<div id=\"ad4fcf63-87c3-4ec5-8f75-75c07be1ea46\" style=\"height: 525px; width: 100%;\" class=\"plotly-graph-div\"></div><script type=\"text/javascript\">require([\"plotly\"], function(Plotly) { window.PLOTLYENV=window.PLOTLYENV || {};window.PLOTLYENV.BASE_URL=\"https://plot.ly\";Plotly.newPlot(\"ad4fcf63-87c3-4ec5-8f75-75c07be1ea46\", [{\"name\": \"\\u4e0d\\u901a\\u8fc7\\u82af\\u7247\\u6570\", \"x\": [8, 9, 10], \"y\": [83, 61, 31], \"type\": \"scatter\", \"uid\": \"c6d7a024-d5cc-11e8-8ddb-a41f72875c19\"}, {\"name\": \"\\u82af\\u7247\\u603b\\u6570\", \"x\": [8, 9, 10], \"y\": [148, 109, 59], \"type\": \"scatter\", \"uid\": \"c6d7a025-d5cc-11e8-8ddb-a41f72875c19\"}], {\"title\": \"\\u4e0d\\u901a\\u8fc7\\u82af\\u7247\\u6570&\\u82af\\u7247\\u603b\\u6570\\u6708\\u8d8b\\u52bf\\u56fe\", \"xaxis\": {\"mirror\": \"all\", \"nticks\": 20, \"showgrid\": true, \"showline\": true, \"title\": \"\\u6708\", \"type\": \"category\", \"zeroline\": true}, \"yaxis\": {\"mirror\": \"all\", \"nticks\": 20, \"showgrid\": true, \"showline\": true, \"title\": \"\\u4e0d\\u901a\\u8fc7\\u82af\\u7247\\u6570&\\u82af\\u7247\\u603b\\u6570\", \"zeroline\": true}}, {\"showLink\": true, \"linkText\": \"Export to plot.ly\"})});</script>"
      ],
      "text/vnd.plotly.v1+html": [
       "<div id=\"ad4fcf63-87c3-4ec5-8f75-75c07be1ea46\" style=\"height: 525px; width: 100%;\" class=\"plotly-graph-div\"></div><script type=\"text/javascript\">require([\"plotly\"], function(Plotly) { window.PLOTLYENV=window.PLOTLYENV || {};window.PLOTLYENV.BASE_URL=\"https://plot.ly\";Plotly.newPlot(\"ad4fcf63-87c3-4ec5-8f75-75c07be1ea46\", [{\"name\": \"\\u4e0d\\u901a\\u8fc7\\u82af\\u7247\\u6570\", \"x\": [8, 9, 10], \"y\": [83, 61, 31], \"type\": \"scatter\", \"uid\": \"c6d7a024-d5cc-11e8-8ddb-a41f72875c19\"}, {\"name\": \"\\u82af\\u7247\\u603b\\u6570\", \"x\": [8, 9, 10], \"y\": [148, 109, 59], \"type\": \"scatter\", \"uid\": \"c6d7a025-d5cc-11e8-8ddb-a41f72875c19\"}], {\"title\": \"\\u4e0d\\u901a\\u8fc7\\u82af\\u7247\\u6570&\\u82af\\u7247\\u603b\\u6570\\u6708\\u8d8b\\u52bf\\u56fe\", \"xaxis\": {\"mirror\": \"all\", \"nticks\": 20, \"showgrid\": true, \"showline\": true, \"title\": \"\\u6708\", \"type\": \"category\", \"zeroline\": true}, \"yaxis\": {\"mirror\": \"all\", \"nticks\": 20, \"showgrid\": true, \"showline\": true, \"title\": \"\\u4e0d\\u901a\\u8fc7\\u82af\\u7247\\u6570&\\u82af\\u7247\\u603b\\u6570\", \"zeroline\": true}}, {\"showLink\": true, \"linkText\": \"Export to plot.ly\"})});</script>"
      ]
     },
     "metadata": {},
     "output_type": "display_data"
    }
   ],
   "source": [
    "ss = myModule.format(all_df2 ,\"日期（格式“月-周次”）\" ,['芯片总数' ,'不通过芯片数' ])\n",
    "myModule.myPlot(ss.groupby('sum')).plot('line')\n",
    "\n",
    "ss = myModule.format(all_df2 ,\"month\" ,['芯片总数' ,'不通过芯片数'])\n",
    "myModule.myPlot(ss.groupby('sum')).plot('line','月')"
   ]
  },
  {
   "cell_type": "markdown",
   "metadata": {},
   "source": [
    "### 效率"
   ]
  },
  {
   "cell_type": "markdown",
   "metadata": {},
   "source": [
    "#### 不合格率"
   ]
  },
  {
   "cell_type": "code",
   "execution_count": 15,
   "metadata": {
    "collapsed": false
   },
   "outputs": [
    {
     "data": {
      "application/vnd.plotly.v1+json": {
       "data": [
        {
         "name": "不合格率",
         "type": "scatter",
         "uid": "c6d7a026-d5cc-11e8-8ddb-a41f72875c19",
         "x": [
          "10-2",
          "8-1",
          "8-2",
          "8-3",
          "8-4",
          "8-5",
          "9-1",
          "9-2",
          "9-3",
          "9-4"
         ],
         "y": [
          0.5254237288135594,
          0.48148148148148145,
          0.5945945945945946,
          0.6896551724137931,
          0.42424242424242425,
          0.6363636363636364,
          0.5172413793103449,
          0.3076923076923077,
          0.6896551724137931,
          0.72
         ]
        }
       ],
       "layout": {
        "title": "不合格率周趋势图",
        "xaxis": {
         "mirror": "all",
         "nticks": 20,
         "showgrid": true,
         "showline": true,
         "title": "周",
         "type": "category",
         "zeroline": true
        },
        "yaxis": {
         "mirror": "all",
         "nticks": 20,
         "showgrid": true,
         "showline": true,
         "title": "不合格率",
         "zeroline": true
        }
       }
      },
      "text/html": [
       "<div id=\"4f2195cd-3dcc-4947-bf5c-6c6fe36e1f32\" style=\"height: 525px; width: 100%;\" class=\"plotly-graph-div\"></div><script type=\"text/javascript\">require([\"plotly\"], function(Plotly) { window.PLOTLYENV=window.PLOTLYENV || {};window.PLOTLYENV.BASE_URL=\"https://plot.ly\";Plotly.newPlot(\"4f2195cd-3dcc-4947-bf5c-6c6fe36e1f32\", [{\"name\": \"\\u4e0d\\u5408\\u683c\\u7387\", \"x\": [\"10-2\", \"8-1\", \"8-2\", \"8-3\", \"8-4\", \"8-5\", \"9-1\", \"9-2\", \"9-3\", \"9-4\"], \"y\": [0.5254237288135594, 0.48148148148148145, 0.5945945945945946, 0.6896551724137931, 0.42424242424242425, 0.6363636363636364, 0.5172413793103449, 0.3076923076923077, 0.6896551724137931, 0.72], \"type\": \"scatter\", \"uid\": \"c6d7a026-d5cc-11e8-8ddb-a41f72875c19\"}], {\"title\": \"\\u4e0d\\u5408\\u683c\\u7387\\u5468\\u8d8b\\u52bf\\u56fe\", \"xaxis\": {\"mirror\": \"all\", \"nticks\": 20, \"showgrid\": true, \"showline\": true, \"title\": \"\\u5468\", \"type\": \"category\", \"zeroline\": true}, \"yaxis\": {\"mirror\": \"all\", \"nticks\": 20, \"showgrid\": true, \"showline\": true, \"title\": \"\\u4e0d\\u5408\\u683c\\u7387\", \"zeroline\": true}}, {\"showLink\": true, \"linkText\": \"Export to plot.ly\"})});</script>"
      ],
      "text/vnd.plotly.v1+html": [
       "<div id=\"4f2195cd-3dcc-4947-bf5c-6c6fe36e1f32\" style=\"height: 525px; width: 100%;\" class=\"plotly-graph-div\"></div><script type=\"text/javascript\">require([\"plotly\"], function(Plotly) { window.PLOTLYENV=window.PLOTLYENV || {};window.PLOTLYENV.BASE_URL=\"https://plot.ly\";Plotly.newPlot(\"4f2195cd-3dcc-4947-bf5c-6c6fe36e1f32\", [{\"name\": \"\\u4e0d\\u5408\\u683c\\u7387\", \"x\": [\"10-2\", \"8-1\", \"8-2\", \"8-3\", \"8-4\", \"8-5\", \"9-1\", \"9-2\", \"9-3\", \"9-4\"], \"y\": [0.5254237288135594, 0.48148148148148145, 0.5945945945945946, 0.6896551724137931, 0.42424242424242425, 0.6363636363636364, 0.5172413793103449, 0.3076923076923077, 0.6896551724137931, 0.72], \"type\": \"scatter\", \"uid\": \"c6d7a026-d5cc-11e8-8ddb-a41f72875c19\"}], {\"title\": \"\\u4e0d\\u5408\\u683c\\u7387\\u5468\\u8d8b\\u52bf\\u56fe\", \"xaxis\": {\"mirror\": \"all\", \"nticks\": 20, \"showgrid\": true, \"showline\": true, \"title\": \"\\u5468\", \"type\": \"category\", \"zeroline\": true}, \"yaxis\": {\"mirror\": \"all\", \"nticks\": 20, \"showgrid\": true, \"showline\": true, \"title\": \"\\u4e0d\\u5408\\u683c\\u7387\", \"zeroline\": true}}, {\"showLink\": true, \"linkText\": \"Export to plot.ly\"})});</script>"
      ]
     },
     "metadata": {},
     "output_type": "display_data"
    },
    {
     "data": {
      "application/vnd.plotly.v1+json": {
       "data": [
        {
         "name": "不合格率",
         "type": "bar",
         "uid": "c6d7a027-d5cc-11e8-8ddb-a41f72875c19",
         "x": [
          8,
          9,
          10
         ],
         "y": [
          0.5608108108108109,
          0.5596330275229358,
          0.5254237288135594
         ]
        }
       ],
       "layout": {
        "title": "不合格率月趋势图",
        "xaxis": {
         "mirror": "all",
         "nticks": 20,
         "showgrid": true,
         "showline": true,
         "title": "月",
         "type": "category",
         "zeroline": true
        },
        "yaxis": {
         "mirror": "all",
         "nticks": 20,
         "showgrid": true,
         "showline": true,
         "title": "不合格率",
         "zeroline": true
        }
       }
      },
      "text/html": [
       "<div id=\"a0bcc97b-1c3d-4a78-9a66-532a9cb175fa\" style=\"height: 525px; width: 100%;\" class=\"plotly-graph-div\"></div><script type=\"text/javascript\">require([\"plotly\"], function(Plotly) { window.PLOTLYENV=window.PLOTLYENV || {};window.PLOTLYENV.BASE_URL=\"https://plot.ly\";Plotly.newPlot(\"a0bcc97b-1c3d-4a78-9a66-532a9cb175fa\", [{\"name\": \"\\u4e0d\\u5408\\u683c\\u7387\", \"x\": [8, 9, 10], \"y\": [0.5608108108108109, 0.5596330275229358, 0.5254237288135594], \"type\": \"bar\", \"uid\": \"c6d7a027-d5cc-11e8-8ddb-a41f72875c19\"}], {\"title\": \"\\u4e0d\\u5408\\u683c\\u7387\\u6708\\u8d8b\\u52bf\\u56fe\", \"xaxis\": {\"mirror\": \"all\", \"nticks\": 20, \"showgrid\": true, \"showline\": true, \"title\": \"\\u6708\", \"type\": \"category\", \"zeroline\": true}, \"yaxis\": {\"mirror\": \"all\", \"nticks\": 20, \"showgrid\": true, \"showline\": true, \"title\": \"\\u4e0d\\u5408\\u683c\\u7387\", \"zeroline\": true}}, {\"showLink\": true, \"linkText\": \"Export to plot.ly\"})});</script>"
      ],
      "text/vnd.plotly.v1+html": [
       "<div id=\"a0bcc97b-1c3d-4a78-9a66-532a9cb175fa\" style=\"height: 525px; width: 100%;\" class=\"plotly-graph-div\"></div><script type=\"text/javascript\">require([\"plotly\"], function(Plotly) { window.PLOTLYENV=window.PLOTLYENV || {};window.PLOTLYENV.BASE_URL=\"https://plot.ly\";Plotly.newPlot(\"a0bcc97b-1c3d-4a78-9a66-532a9cb175fa\", [{\"name\": \"\\u4e0d\\u5408\\u683c\\u7387\", \"x\": [8, 9, 10], \"y\": [0.5608108108108109, 0.5596330275229358, 0.5254237288135594], \"type\": \"bar\", \"uid\": \"c6d7a027-d5cc-11e8-8ddb-a41f72875c19\"}], {\"title\": \"\\u4e0d\\u5408\\u683c\\u7387\\u6708\\u8d8b\\u52bf\\u56fe\", \"xaxis\": {\"mirror\": \"all\", \"nticks\": 20, \"showgrid\": true, \"showline\": true, \"title\": \"\\u6708\", \"type\": \"category\", \"zeroline\": true}, \"yaxis\": {\"mirror\": \"all\", \"nticks\": 20, \"showgrid\": true, \"showline\": true, \"title\": \"\\u4e0d\\u5408\\u683c\\u7387\", \"zeroline\": true}}, {\"showLink\": true, \"linkText\": \"Export to plot.ly\"})});</script>"
      ]
     },
     "metadata": {},
     "output_type": "display_data"
    }
   ],
   "source": [
    "ss = myModule.format(all_df2 ,\"日期（格式“月-周次”）\" ,['不通过芯片数', '芯片总数'])\n",
    "tt = ss.get_total_ratio([['不合格率','不通过芯片数','芯片总数','/']])\n",
    "myModule.myPlot(tt).plot('line')\n",
    "\n",
    "ss = myModule.format(all_df2 ,\"month\" ,['不通过芯片数', '芯片总数'])\n",
    "tt = ss.get_total_ratio([['不合格率','不通过芯片数','芯片总数','/']])\n",
    "myModule.myPlot(tt).plot('bar','月')"
   ]
  },
  {
   "cell_type": "markdown",
   "metadata": {},
   "source": [
    "#### 通过率情况"
   ]
  },
  {
   "cell_type": "code",
   "execution_count": 16,
   "metadata": {
    "collapsed": false
   },
   "outputs": [
    {
     "data": {
      "application/vnd.plotly.v1+json": {
       "data": [
        {
         "name": "8h通过率",
         "type": "scatter",
         "uid": "c6d7a028-d5cc-11e8-8ddb-a41f72875c19",
         "x": [
          "10-2",
          "8-1",
          "8-2",
          "8-3",
          "8-4",
          "8-5",
          "9-1",
          "9-2",
          "9-3",
          "9-4"
         ],
         "y": [
          0.5084745762711864,
          0.3333333333333333,
          0.40540540540540543,
          0.5517241379310345,
          0.6060606060606061,
          0.5,
          0.6206896551724138,
          0.6538461538461539,
          0.4827586206896552,
          0.36
         ]
        },
        {
         "name": "48h通过率",
         "type": "scatter",
         "uid": "c6d7a029-d5cc-11e8-8ddb-a41f72875c19",
         "x": [
          "10-2",
          "8-1",
          "8-2",
          "8-3",
          "8-4",
          "8-5",
          "9-1",
          "9-2",
          "9-3",
          "9-4"
         ],
         "y": [
          0.9661016949152542,
          0.8518518518518519,
          0.7567567567567568,
          0.896551724137931,
          0.9393939393939394,
          0.8636363636363636,
          0.7931034482758621,
          0.8461538461538461,
          0.6896551724137931,
          0.76
         ]
        },
        {
         "name": "24h通过率",
         "type": "scatter",
         "uid": "c6d7a02a-d5cc-11e8-8ddb-a41f72875c19",
         "x": [
          "10-2",
          "8-1",
          "8-2",
          "8-3",
          "8-4",
          "8-5",
          "9-1",
          "9-2",
          "9-3",
          "9-4"
         ],
         "y": [
          0.7627118644067796,
          0.6296296296296297,
          0.5135135135135135,
          0.7586206896551724,
          0.8484848484848485,
          0.7272727272727273,
          0.5862068965517241,
          0.6923076923076923,
          0.6551724137931034,
          0.72
         ]
        }
       ],
       "layout": {
        "title": "8h通过率&48h通过率&24h通过率周趋势图",
        "xaxis": {
         "mirror": "all",
         "nticks": 20,
         "showgrid": true,
         "showline": true,
         "title": "周",
         "type": "category",
         "zeroline": true
        },
        "yaxis": {
         "mirror": "all",
         "nticks": 20,
         "showgrid": true,
         "showline": true,
         "title": "8h通过率&48h通过率&24h通过率",
         "zeroline": true
        }
       }
      },
      "text/html": [
       "<div id=\"4b870e3e-a99c-498c-8b10-bafb98d750e8\" style=\"height: 525px; width: 100%;\" class=\"plotly-graph-div\"></div><script type=\"text/javascript\">require([\"plotly\"], function(Plotly) { window.PLOTLYENV=window.PLOTLYENV || {};window.PLOTLYENV.BASE_URL=\"https://plot.ly\";Plotly.newPlot(\"4b870e3e-a99c-498c-8b10-bafb98d750e8\", [{\"name\": \"8h\\u901a\\u8fc7\\u7387\", \"x\": [\"10-2\", \"8-1\", \"8-2\", \"8-3\", \"8-4\", \"8-5\", \"9-1\", \"9-2\", \"9-3\", \"9-4\"], \"y\": [0.5084745762711864, 0.3333333333333333, 0.40540540540540543, 0.5517241379310345, 0.6060606060606061, 0.5, 0.6206896551724138, 0.6538461538461539, 0.4827586206896552, 0.36], \"type\": \"scatter\", \"uid\": \"c6d7a028-d5cc-11e8-8ddb-a41f72875c19\"}, {\"name\": \"48h\\u901a\\u8fc7\\u7387\", \"x\": [\"10-2\", \"8-1\", \"8-2\", \"8-3\", \"8-4\", \"8-5\", \"9-1\", \"9-2\", \"9-3\", \"9-4\"], \"y\": [0.9661016949152542, 0.8518518518518519, 0.7567567567567568, 0.896551724137931, 0.9393939393939394, 0.8636363636363636, 0.7931034482758621, 0.8461538461538461, 0.6896551724137931, 0.76], \"type\": \"scatter\", \"uid\": \"c6d7a029-d5cc-11e8-8ddb-a41f72875c19\"}, {\"name\": \"24h\\u901a\\u8fc7\\u7387\", \"x\": [\"10-2\", \"8-1\", \"8-2\", \"8-3\", \"8-4\", \"8-5\", \"9-1\", \"9-2\", \"9-3\", \"9-4\"], \"y\": [0.7627118644067796, 0.6296296296296297, 0.5135135135135135, 0.7586206896551724, 0.8484848484848485, 0.7272727272727273, 0.5862068965517241, 0.6923076923076923, 0.6551724137931034, 0.72], \"type\": \"scatter\", \"uid\": \"c6d7a02a-d5cc-11e8-8ddb-a41f72875c19\"}], {\"title\": \"8h\\u901a\\u8fc7\\u7387&48h\\u901a\\u8fc7\\u7387&24h\\u901a\\u8fc7\\u7387\\u5468\\u8d8b\\u52bf\\u56fe\", \"xaxis\": {\"mirror\": \"all\", \"nticks\": 20, \"showgrid\": true, \"showline\": true, \"title\": \"\\u5468\", \"type\": \"category\", \"zeroline\": true}, \"yaxis\": {\"mirror\": \"all\", \"nticks\": 20, \"showgrid\": true, \"showline\": true, \"title\": \"8h\\u901a\\u8fc7\\u7387&48h\\u901a\\u8fc7\\u7387&24h\\u901a\\u8fc7\\u7387\", \"zeroline\": true}}, {\"showLink\": true, \"linkText\": \"Export to plot.ly\"})});</script>"
      ],
      "text/vnd.plotly.v1+html": [
       "<div id=\"4b870e3e-a99c-498c-8b10-bafb98d750e8\" style=\"height: 525px; width: 100%;\" class=\"plotly-graph-div\"></div><script type=\"text/javascript\">require([\"plotly\"], function(Plotly) { window.PLOTLYENV=window.PLOTLYENV || {};window.PLOTLYENV.BASE_URL=\"https://plot.ly\";Plotly.newPlot(\"4b870e3e-a99c-498c-8b10-bafb98d750e8\", [{\"name\": \"8h\\u901a\\u8fc7\\u7387\", \"x\": [\"10-2\", \"8-1\", \"8-2\", \"8-3\", \"8-4\", \"8-5\", \"9-1\", \"9-2\", \"9-3\", \"9-4\"], \"y\": [0.5084745762711864, 0.3333333333333333, 0.40540540540540543, 0.5517241379310345, 0.6060606060606061, 0.5, 0.6206896551724138, 0.6538461538461539, 0.4827586206896552, 0.36], \"type\": \"scatter\", \"uid\": \"c6d7a028-d5cc-11e8-8ddb-a41f72875c19\"}, {\"name\": \"48h\\u901a\\u8fc7\\u7387\", \"x\": [\"10-2\", \"8-1\", \"8-2\", \"8-3\", \"8-4\", \"8-5\", \"9-1\", \"9-2\", \"9-3\", \"9-4\"], \"y\": [0.9661016949152542, 0.8518518518518519, 0.7567567567567568, 0.896551724137931, 0.9393939393939394, 0.8636363636363636, 0.7931034482758621, 0.8461538461538461, 0.6896551724137931, 0.76], \"type\": \"scatter\", \"uid\": \"c6d7a029-d5cc-11e8-8ddb-a41f72875c19\"}, {\"name\": \"24h\\u901a\\u8fc7\\u7387\", \"x\": [\"10-2\", \"8-1\", \"8-2\", \"8-3\", \"8-4\", \"8-5\", \"9-1\", \"9-2\", \"9-3\", \"9-4\"], \"y\": [0.7627118644067796, 0.6296296296296297, 0.5135135135135135, 0.7586206896551724, 0.8484848484848485, 0.7272727272727273, 0.5862068965517241, 0.6923076923076923, 0.6551724137931034, 0.72], \"type\": \"scatter\", \"uid\": \"c6d7a02a-d5cc-11e8-8ddb-a41f72875c19\"}], {\"title\": \"8h\\u901a\\u8fc7\\u7387&48h\\u901a\\u8fc7\\u7387&24h\\u901a\\u8fc7\\u7387\\u5468\\u8d8b\\u52bf\\u56fe\", \"xaxis\": {\"mirror\": \"all\", \"nticks\": 20, \"showgrid\": true, \"showline\": true, \"title\": \"\\u5468\", \"type\": \"category\", \"zeroline\": true}, \"yaxis\": {\"mirror\": \"all\", \"nticks\": 20, \"showgrid\": true, \"showline\": true, \"title\": \"8h\\u901a\\u8fc7\\u7387&48h\\u901a\\u8fc7\\u7387&24h\\u901a\\u8fc7\\u7387\", \"zeroline\": true}}, {\"showLink\": true, \"linkText\": \"Export to plot.ly\"})});</script>"
      ]
     },
     "metadata": {},
     "output_type": "display_data"
    },
    {
     "data": {
      "application/vnd.plotly.v1+json": {
       "data": [
        {
         "name": "8h通过率",
         "type": "scatter",
         "uid": "c6d7a02b-d5cc-11e8-8ddb-a41f72875c19",
         "x": [
          8,
          9,
          10
         ],
         "y": [
          0.4797297297297297,
          0.5321100917431193,
          0.5084745762711864
         ]
        },
        {
         "name": "48h通过率",
         "type": "scatter",
         "uid": "c6d7a02c-d5cc-11e8-8ddb-a41f72875c19",
         "x": [
          8,
          9,
          10
         ],
         "y": [
          0.8581081081081081,
          0.7706422018348624,
          0.9661016949152542
         ]
        },
        {
         "name": "24h通过率",
         "type": "scatter",
         "uid": "c6d7a02d-d5cc-11e8-8ddb-a41f72875c19",
         "x": [
          8,
          9,
          10
         ],
         "y": [
          0.6891891891891891,
          0.6605504587155964,
          0.7627118644067796
         ]
        }
       ],
       "layout": {
        "title": "8h通过率&48h通过率&24h通过率月趋势图",
        "xaxis": {
         "mirror": "all",
         "nticks": 20,
         "showgrid": true,
         "showline": true,
         "title": "月",
         "type": "category",
         "zeroline": true
        },
        "yaxis": {
         "mirror": "all",
         "nticks": 20,
         "showgrid": true,
         "showline": true,
         "title": "8h通过率&48h通过率&24h通过率",
         "zeroline": true
        }
       }
      },
      "text/html": [
       "<div id=\"9f3069de-594d-45ee-bf1a-fdf10de9bb09\" style=\"height: 525px; width: 100%;\" class=\"plotly-graph-div\"></div><script type=\"text/javascript\">require([\"plotly\"], function(Plotly) { window.PLOTLYENV=window.PLOTLYENV || {};window.PLOTLYENV.BASE_URL=\"https://plot.ly\";Plotly.newPlot(\"9f3069de-594d-45ee-bf1a-fdf10de9bb09\", [{\"name\": \"8h\\u901a\\u8fc7\\u7387\", \"x\": [8, 9, 10], \"y\": [0.4797297297297297, 0.5321100917431193, 0.5084745762711864], \"type\": \"scatter\", \"uid\": \"c6d7a02b-d5cc-11e8-8ddb-a41f72875c19\"}, {\"name\": \"48h\\u901a\\u8fc7\\u7387\", \"x\": [8, 9, 10], \"y\": [0.8581081081081081, 0.7706422018348624, 0.9661016949152542], \"type\": \"scatter\", \"uid\": \"c6d7a02c-d5cc-11e8-8ddb-a41f72875c19\"}, {\"name\": \"24h\\u901a\\u8fc7\\u7387\", \"x\": [8, 9, 10], \"y\": [0.6891891891891891, 0.6605504587155964, 0.7627118644067796], \"type\": \"scatter\", \"uid\": \"c6d7a02d-d5cc-11e8-8ddb-a41f72875c19\"}], {\"title\": \"8h\\u901a\\u8fc7\\u7387&48h\\u901a\\u8fc7\\u7387&24h\\u901a\\u8fc7\\u7387\\u6708\\u8d8b\\u52bf\\u56fe\", \"xaxis\": {\"mirror\": \"all\", \"nticks\": 20, \"showgrid\": true, \"showline\": true, \"title\": \"\\u6708\", \"type\": \"category\", \"zeroline\": true}, \"yaxis\": {\"mirror\": \"all\", \"nticks\": 20, \"showgrid\": true, \"showline\": true, \"title\": \"8h\\u901a\\u8fc7\\u7387&48h\\u901a\\u8fc7\\u7387&24h\\u901a\\u8fc7\\u7387\", \"zeroline\": true}}, {\"showLink\": true, \"linkText\": \"Export to plot.ly\"})});</script>"
      ],
      "text/vnd.plotly.v1+html": [
       "<div id=\"9f3069de-594d-45ee-bf1a-fdf10de9bb09\" style=\"height: 525px; width: 100%;\" class=\"plotly-graph-div\"></div><script type=\"text/javascript\">require([\"plotly\"], function(Plotly) { window.PLOTLYENV=window.PLOTLYENV || {};window.PLOTLYENV.BASE_URL=\"https://plot.ly\";Plotly.newPlot(\"9f3069de-594d-45ee-bf1a-fdf10de9bb09\", [{\"name\": \"8h\\u901a\\u8fc7\\u7387\", \"x\": [8, 9, 10], \"y\": [0.4797297297297297, 0.5321100917431193, 0.5084745762711864], \"type\": \"scatter\", \"uid\": \"c6d7a02b-d5cc-11e8-8ddb-a41f72875c19\"}, {\"name\": \"48h\\u901a\\u8fc7\\u7387\", \"x\": [8, 9, 10], \"y\": [0.8581081081081081, 0.7706422018348624, 0.9661016949152542], \"type\": \"scatter\", \"uid\": \"c6d7a02c-d5cc-11e8-8ddb-a41f72875c19\"}, {\"name\": \"24h\\u901a\\u8fc7\\u7387\", \"x\": [8, 9, 10], \"y\": [0.6891891891891891, 0.6605504587155964, 0.7627118644067796], \"type\": \"scatter\", \"uid\": \"c6d7a02d-d5cc-11e8-8ddb-a41f72875c19\"}], {\"title\": \"8h\\u901a\\u8fc7\\u7387&48h\\u901a\\u8fc7\\u7387&24h\\u901a\\u8fc7\\u7387\\u6708\\u8d8b\\u52bf\\u56fe\", \"xaxis\": {\"mirror\": \"all\", \"nticks\": 20, \"showgrid\": true, \"showline\": true, \"title\": \"\\u6708\", \"type\": \"category\", \"zeroline\": true}, \"yaxis\": {\"mirror\": \"all\", \"nticks\": 20, \"showgrid\": true, \"showline\": true, \"title\": \"8h\\u901a\\u8fc7\\u7387&48h\\u901a\\u8fc7\\u7387&24h\\u901a\\u8fc7\\u7387\", \"zeroline\": true}}, {\"showLink\": true, \"linkText\": \"Export to plot.ly\"})});</script>"
      ]
     },
     "metadata": {},
     "output_type": "display_data"
    }
   ],
   "source": [
    "ss = myModule.format(all_df2 ,\"日期（格式“月-周次”）\" ,['8h通过芯片数', '芯片总数','24h通过芯片数','48h通过芯片数'])\n",
    "tt = ss.get_total_ratio([['8h通过率','8h通过芯片数','芯片总数','/'],\n",
    "                         ['24h通过率','24h通过芯片数','芯片总数','/'],\n",
    "                        ['48h通过率','48h通过芯片数','芯片总数','/'],])\n",
    "myModule.myPlot(tt).plot('line')\n",
    "\n",
    "ss = myModule.format(all_df2 ,\"month\" ,['8h通过芯片数', '芯片总数','24h通过芯片数','48h通过芯片数'])\n",
    "tt = ss.get_total_ratio([['8h通过率','8h通过芯片数','芯片总数','/'],\n",
    "                         ['24h通过率','24h通过芯片数','芯片总数','/'],\n",
    "                        ['48h通过率','48h通过芯片数','芯片总数','/'],])\n",
    "myModule.myPlot(tt).plot('line','月')"
   ]
  },
  {
   "cell_type": "markdown",
   "metadata": {},
   "source": [
    "#### 平均通过时长，一次通过平均时长，非一次通过平均时长，通过时长Q80"
   ]
  },
  {
   "cell_type": "code",
   "execution_count": 17,
   "metadata": {
    "collapsed": false
   },
   "outputs": [
    {
     "data": {
      "application/vnd.plotly.v1+json": {
       "data": [
        {
         "name": "非一次通过平均时长",
         "type": "scatter",
         "uid": "c6d7a02e-d5cc-11e8-8ddb-a41f72875c19",
         "x": [
          "10-2",
          "8-1",
          "8-2",
          "8-3",
          "8-4",
          "8-5",
          "9-1",
          "9-2",
          "9-3",
          "9-4"
         ],
         "y": [
          49.51,
          30.81,
          50.36,
          22.7,
          20.81,
          35.65,
          24.46,
          37.75,
          53.68,
          34.52
         ]
        },
        {
         "name": "一次通过平均时长",
         "type": "scatter",
         "uid": "c6d7a02f-d5cc-11e8-8ddb-a41f72875c19",
         "x": [
          "10-2",
          "8-1",
          "8-2",
          "8-3",
          "8-4",
          "8-5",
          "9-1",
          "9-2",
          "9-3",
          "9-4"
         ],
         "y": [
          7.96,
          11.95,
          6.68,
          3.81,
          5.41,
          3.11,
          2.07,
          6.43,
          4.81,
          4.68
         ]
        },
        {
         "name": "通过时长Q80",
         "type": "scatter",
         "uid": "c6d7a030-d5cc-11e8-8ddb-a41f72875c19",
         "x": [
          "10-2",
          "8-1",
          "8-2",
          "8-3",
          "8-4",
          "8-5",
          "9-1",
          "9-2",
          "9-3",
          "9-4"
         ],
         "y": [
          48.3,
          35.07,
          59.13,
          33.87,
          27.27,
          29.73,
          24.2,
          31.5,
          64.5,
          50.73
         ]
        },
        {
         "name": "平均通过时长",
         "type": "scatter",
         "uid": "c6d7a031-d5cc-11e8-8ddb-a41f72875c19",
         "x": [
          "10-2",
          "8-1",
          "8-2",
          "8-3",
          "8-4",
          "8-5",
          "9-1",
          "9-2",
          "9-3",
          "9-4"
         ],
         "y": [
          30.01,
          21.03,
          32.65,
          16.84,
          10.54,
          23.82,
          15.1,
          22.28,
          38.57,
          26.16
         ]
        }
       ],
       "layout": {
        "title": "非一次通过平均时长&一次通过平均时长&通过时长Q80&平均通过时长周趋势图",
        "xaxis": {
         "mirror": "all",
         "nticks": 20,
         "showgrid": true,
         "showline": true,
         "title": "周",
         "type": "category",
         "zeroline": true
        },
        "yaxis": {
         "mirror": "all",
         "nticks": 20,
         "showgrid": true,
         "showline": true,
         "title": "非一次通过平均时长&一次通过平均时长&通过时长Q80&平均通过时长",
         "zeroline": true
        }
       }
      },
      "text/html": [
       "<div id=\"78468850-765f-4bac-970b-47ab1c03794d\" style=\"height: 525px; width: 100%;\" class=\"plotly-graph-div\"></div><script type=\"text/javascript\">require([\"plotly\"], function(Plotly) { window.PLOTLYENV=window.PLOTLYENV || {};window.PLOTLYENV.BASE_URL=\"https://plot.ly\";Plotly.newPlot(\"78468850-765f-4bac-970b-47ab1c03794d\", [{\"name\": \"\\u975e\\u4e00\\u6b21\\u901a\\u8fc7\\u5e73\\u5747\\u65f6\\u957f\", \"x\": [\"10-2\", \"8-1\", \"8-2\", \"8-3\", \"8-4\", \"8-5\", \"9-1\", \"9-2\", \"9-3\", \"9-4\"], \"y\": [49.51, 30.81, 50.36, 22.7, 20.81, 35.65, 24.46, 37.75, 53.68, 34.52], \"type\": \"scatter\", \"uid\": \"c6d7a02e-d5cc-11e8-8ddb-a41f72875c19\"}, {\"name\": \"\\u4e00\\u6b21\\u901a\\u8fc7\\u5e73\\u5747\\u65f6\\u957f\", \"x\": [\"10-2\", \"8-1\", \"8-2\", \"8-3\", \"8-4\", \"8-5\", \"9-1\", \"9-2\", \"9-3\", \"9-4\"], \"y\": [7.96, 11.95, 6.68, 3.81, 5.41, 3.11, 2.07, 6.43, 4.81, 4.68], \"type\": \"scatter\", \"uid\": \"c6d7a02f-d5cc-11e8-8ddb-a41f72875c19\"}, {\"name\": \"\\u901a\\u8fc7\\u65f6\\u957fQ80\", \"x\": [\"10-2\", \"8-1\", \"8-2\", \"8-3\", \"8-4\", \"8-5\", \"9-1\", \"9-2\", \"9-3\", \"9-4\"], \"y\": [48.3, 35.07, 59.13, 33.87, 27.27, 29.73, 24.2, 31.5, 64.5, 50.73], \"type\": \"scatter\", \"uid\": \"c6d7a030-d5cc-11e8-8ddb-a41f72875c19\"}, {\"name\": \"\\u5e73\\u5747\\u901a\\u8fc7\\u65f6\\u957f\", \"x\": [\"10-2\", \"8-1\", \"8-2\", \"8-3\", \"8-4\", \"8-5\", \"9-1\", \"9-2\", \"9-3\", \"9-4\"], \"y\": [30.01, 21.03, 32.65, 16.84, 10.54, 23.82, 15.1, 22.28, 38.57, 26.16], \"type\": \"scatter\", \"uid\": \"c6d7a031-d5cc-11e8-8ddb-a41f72875c19\"}], {\"title\": \"\\u975e\\u4e00\\u6b21\\u901a\\u8fc7\\u5e73\\u5747\\u65f6\\u957f&\\u4e00\\u6b21\\u901a\\u8fc7\\u5e73\\u5747\\u65f6\\u957f&\\u901a\\u8fc7\\u65f6\\u957fQ80&\\u5e73\\u5747\\u901a\\u8fc7\\u65f6\\u957f\\u5468\\u8d8b\\u52bf\\u56fe\", \"xaxis\": {\"mirror\": \"all\", \"nticks\": 20, \"showgrid\": true, \"showline\": true, \"title\": \"\\u5468\", \"type\": \"category\", \"zeroline\": true}, \"yaxis\": {\"mirror\": \"all\", \"nticks\": 20, \"showgrid\": true, \"showline\": true, \"title\": \"\\u975e\\u4e00\\u6b21\\u901a\\u8fc7\\u5e73\\u5747\\u65f6\\u957f&\\u4e00\\u6b21\\u901a\\u8fc7\\u5e73\\u5747\\u65f6\\u957f&\\u901a\\u8fc7\\u65f6\\u957fQ80&\\u5e73\\u5747\\u901a\\u8fc7\\u65f6\\u957f\", \"zeroline\": true}}, {\"showLink\": true, \"linkText\": \"Export to plot.ly\"})});</script>"
      ],
      "text/vnd.plotly.v1+html": [
       "<div id=\"78468850-765f-4bac-970b-47ab1c03794d\" style=\"height: 525px; width: 100%;\" class=\"plotly-graph-div\"></div><script type=\"text/javascript\">require([\"plotly\"], function(Plotly) { window.PLOTLYENV=window.PLOTLYENV || {};window.PLOTLYENV.BASE_URL=\"https://plot.ly\";Plotly.newPlot(\"78468850-765f-4bac-970b-47ab1c03794d\", [{\"name\": \"\\u975e\\u4e00\\u6b21\\u901a\\u8fc7\\u5e73\\u5747\\u65f6\\u957f\", \"x\": [\"10-2\", \"8-1\", \"8-2\", \"8-3\", \"8-4\", \"8-5\", \"9-1\", \"9-2\", \"9-3\", \"9-4\"], \"y\": [49.51, 30.81, 50.36, 22.7, 20.81, 35.65, 24.46, 37.75, 53.68, 34.52], \"type\": \"scatter\", \"uid\": \"c6d7a02e-d5cc-11e8-8ddb-a41f72875c19\"}, {\"name\": \"\\u4e00\\u6b21\\u901a\\u8fc7\\u5e73\\u5747\\u65f6\\u957f\", \"x\": [\"10-2\", \"8-1\", \"8-2\", \"8-3\", \"8-4\", \"8-5\", \"9-1\", \"9-2\", \"9-3\", \"9-4\"], \"y\": [7.96, 11.95, 6.68, 3.81, 5.41, 3.11, 2.07, 6.43, 4.81, 4.68], \"type\": \"scatter\", \"uid\": \"c6d7a02f-d5cc-11e8-8ddb-a41f72875c19\"}, {\"name\": \"\\u901a\\u8fc7\\u65f6\\u957fQ80\", \"x\": [\"10-2\", \"8-1\", \"8-2\", \"8-3\", \"8-4\", \"8-5\", \"9-1\", \"9-2\", \"9-3\", \"9-4\"], \"y\": [48.3, 35.07, 59.13, 33.87, 27.27, 29.73, 24.2, 31.5, 64.5, 50.73], \"type\": \"scatter\", \"uid\": \"c6d7a030-d5cc-11e8-8ddb-a41f72875c19\"}, {\"name\": \"\\u5e73\\u5747\\u901a\\u8fc7\\u65f6\\u957f\", \"x\": [\"10-2\", \"8-1\", \"8-2\", \"8-3\", \"8-4\", \"8-5\", \"9-1\", \"9-2\", \"9-3\", \"9-4\"], \"y\": [30.01, 21.03, 32.65, 16.84, 10.54, 23.82, 15.1, 22.28, 38.57, 26.16], \"type\": \"scatter\", \"uid\": \"c6d7a031-d5cc-11e8-8ddb-a41f72875c19\"}], {\"title\": \"\\u975e\\u4e00\\u6b21\\u901a\\u8fc7\\u5e73\\u5747\\u65f6\\u957f&\\u4e00\\u6b21\\u901a\\u8fc7\\u5e73\\u5747\\u65f6\\u957f&\\u901a\\u8fc7\\u65f6\\u957fQ80&\\u5e73\\u5747\\u901a\\u8fc7\\u65f6\\u957f\\u5468\\u8d8b\\u52bf\\u56fe\", \"xaxis\": {\"mirror\": \"all\", \"nticks\": 20, \"showgrid\": true, \"showline\": true, \"title\": \"\\u5468\", \"type\": \"category\", \"zeroline\": true}, \"yaxis\": {\"mirror\": \"all\", \"nticks\": 20, \"showgrid\": true, \"showline\": true, \"title\": \"\\u975e\\u4e00\\u6b21\\u901a\\u8fc7\\u5e73\\u5747\\u65f6\\u957f&\\u4e00\\u6b21\\u901a\\u8fc7\\u5e73\\u5747\\u65f6\\u957f&\\u901a\\u8fc7\\u65f6\\u957fQ80&\\u5e73\\u5747\\u901a\\u8fc7\\u65f6\\u957f\", \"zeroline\": true}}, {\"showLink\": true, \"linkText\": \"Export to plot.ly\"})});</script>"
      ]
     },
     "metadata": {},
     "output_type": "display_data"
    },
    {
     "data": {
      "application/vnd.plotly.v1+json": {
       "data": [
        {
         "name": "非一次通过平均时长",
         "type": "scatter",
         "uid": "c6d7a032-d5cc-11e8-8ddb-a41f72875c19",
         "x": [
          8,
          9,
          10
         ],
         "y": [
          32.065999999999995,
          37.6025,
          24.755
         ]
        },
        {
         "name": "一次通过平均时长",
         "type": "scatter",
         "uid": "c6d7a033-d5cc-11e8-8ddb-a41f72875c19",
         "x": [
          8,
          9,
          10
         ],
         "y": [
          6.192,
          4.4975,
          3.98
         ]
        },
        {
         "name": "通过时长Q80",
         "type": "scatter",
         "uid": "c6d7a034-d5cc-11e8-8ddb-a41f72875c19",
         "x": [
          8,
          9,
          10
         ],
         "y": [
          37.013999999999996,
          42.7325,
          24.15
         ]
        },
        {
         "name": "平均通过时长",
         "type": "scatter",
         "uid": "c6d7a035-d5cc-11e8-8ddb-a41f72875c19",
         "x": [
          8,
          9,
          10
         ],
         "y": [
          20.976,
          25.5275,
          15.005
         ]
        }
       ],
       "layout": {
        "title": "非一次通过平均时长&一次通过平均时长&通过时长Q80&平均通过时长月趋势图",
        "xaxis": {
         "mirror": "all",
         "nticks": 20,
         "showgrid": true,
         "showline": true,
         "title": "月",
         "type": "category",
         "zeroline": true
        },
        "yaxis": {
         "mirror": "all",
         "nticks": 20,
         "showgrid": true,
         "showline": true,
         "title": "非一次通过平均时长&一次通过平均时长&通过时长Q80&平均通过时长",
         "zeroline": true
        }
       }
      },
      "text/html": [
       "<div id=\"f0ea6041-e76d-49df-be0c-3c1dc0560094\" style=\"height: 525px; width: 100%;\" class=\"plotly-graph-div\"></div><script type=\"text/javascript\">require([\"plotly\"], function(Plotly) { window.PLOTLYENV=window.PLOTLYENV || {};window.PLOTLYENV.BASE_URL=\"https://plot.ly\";Plotly.newPlot(\"f0ea6041-e76d-49df-be0c-3c1dc0560094\", [{\"name\": \"\\u975e\\u4e00\\u6b21\\u901a\\u8fc7\\u5e73\\u5747\\u65f6\\u957f\", \"x\": [8, 9, 10], \"y\": [32.065999999999995, 37.6025, 24.755], \"type\": \"scatter\", \"uid\": \"c6d7a032-d5cc-11e8-8ddb-a41f72875c19\"}, {\"name\": \"\\u4e00\\u6b21\\u901a\\u8fc7\\u5e73\\u5747\\u65f6\\u957f\", \"x\": [8, 9, 10], \"y\": [6.192, 4.4975, 3.98], \"type\": \"scatter\", \"uid\": \"c6d7a033-d5cc-11e8-8ddb-a41f72875c19\"}, {\"name\": \"\\u901a\\u8fc7\\u65f6\\u957fQ80\", \"x\": [8, 9, 10], \"y\": [37.013999999999996, 42.7325, 24.15], \"type\": \"scatter\", \"uid\": \"c6d7a034-d5cc-11e8-8ddb-a41f72875c19\"}, {\"name\": \"\\u5e73\\u5747\\u901a\\u8fc7\\u65f6\\u957f\", \"x\": [8, 9, 10], \"y\": [20.976, 25.5275, 15.005], \"type\": \"scatter\", \"uid\": \"c6d7a035-d5cc-11e8-8ddb-a41f72875c19\"}], {\"title\": \"\\u975e\\u4e00\\u6b21\\u901a\\u8fc7\\u5e73\\u5747\\u65f6\\u957f&\\u4e00\\u6b21\\u901a\\u8fc7\\u5e73\\u5747\\u65f6\\u957f&\\u901a\\u8fc7\\u65f6\\u957fQ80&\\u5e73\\u5747\\u901a\\u8fc7\\u65f6\\u957f\\u6708\\u8d8b\\u52bf\\u56fe\", \"xaxis\": {\"mirror\": \"all\", \"nticks\": 20, \"showgrid\": true, \"showline\": true, \"title\": \"\\u6708\", \"type\": \"category\", \"zeroline\": true}, \"yaxis\": {\"mirror\": \"all\", \"nticks\": 20, \"showgrid\": true, \"showline\": true, \"title\": \"\\u975e\\u4e00\\u6b21\\u901a\\u8fc7\\u5e73\\u5747\\u65f6\\u957f&\\u4e00\\u6b21\\u901a\\u8fc7\\u5e73\\u5747\\u65f6\\u957f&\\u901a\\u8fc7\\u65f6\\u957fQ80&\\u5e73\\u5747\\u901a\\u8fc7\\u65f6\\u957f\", \"zeroline\": true}}, {\"showLink\": true, \"linkText\": \"Export to plot.ly\"})});</script>"
      ],
      "text/vnd.plotly.v1+html": [
       "<div id=\"f0ea6041-e76d-49df-be0c-3c1dc0560094\" style=\"height: 525px; width: 100%;\" class=\"plotly-graph-div\"></div><script type=\"text/javascript\">require([\"plotly\"], function(Plotly) { window.PLOTLYENV=window.PLOTLYENV || {};window.PLOTLYENV.BASE_URL=\"https://plot.ly\";Plotly.newPlot(\"f0ea6041-e76d-49df-be0c-3c1dc0560094\", [{\"name\": \"\\u975e\\u4e00\\u6b21\\u901a\\u8fc7\\u5e73\\u5747\\u65f6\\u957f\", \"x\": [8, 9, 10], \"y\": [32.065999999999995, 37.6025, 24.755], \"type\": \"scatter\", \"uid\": \"c6d7a032-d5cc-11e8-8ddb-a41f72875c19\"}, {\"name\": \"\\u4e00\\u6b21\\u901a\\u8fc7\\u5e73\\u5747\\u65f6\\u957f\", \"x\": [8, 9, 10], \"y\": [6.192, 4.4975, 3.98], \"type\": \"scatter\", \"uid\": \"c6d7a033-d5cc-11e8-8ddb-a41f72875c19\"}, {\"name\": \"\\u901a\\u8fc7\\u65f6\\u957fQ80\", \"x\": [8, 9, 10], \"y\": [37.013999999999996, 42.7325, 24.15], \"type\": \"scatter\", \"uid\": \"c6d7a034-d5cc-11e8-8ddb-a41f72875c19\"}, {\"name\": \"\\u5e73\\u5747\\u901a\\u8fc7\\u65f6\\u957f\", \"x\": [8, 9, 10], \"y\": [20.976, 25.5275, 15.005], \"type\": \"scatter\", \"uid\": \"c6d7a035-d5cc-11e8-8ddb-a41f72875c19\"}], {\"title\": \"\\u975e\\u4e00\\u6b21\\u901a\\u8fc7\\u5e73\\u5747\\u65f6\\u957f&\\u4e00\\u6b21\\u901a\\u8fc7\\u5e73\\u5747\\u65f6\\u957f&\\u901a\\u8fc7\\u65f6\\u957fQ80&\\u5e73\\u5747\\u901a\\u8fc7\\u65f6\\u957f\\u6708\\u8d8b\\u52bf\\u56fe\", \"xaxis\": {\"mirror\": \"all\", \"nticks\": 20, \"showgrid\": true, \"showline\": true, \"title\": \"\\u6708\", \"type\": \"category\", \"zeroline\": true}, \"yaxis\": {\"mirror\": \"all\", \"nticks\": 20, \"showgrid\": true, \"showline\": true, \"title\": \"\\u975e\\u4e00\\u6b21\\u901a\\u8fc7\\u5e73\\u5747\\u65f6\\u957f&\\u4e00\\u6b21\\u901a\\u8fc7\\u5e73\\u5747\\u65f6\\u957f&\\u901a\\u8fc7\\u65f6\\u957fQ80&\\u5e73\\u5747\\u901a\\u8fc7\\u65f6\\u957f\", \"zeroline\": true}}, {\"showLink\": true, \"linkText\": \"Export to plot.ly\"})});</script>"
      ]
     },
     "metadata": {},
     "output_type": "display_data"
    }
   ],
   "source": [
    "ss = myModule.format(all_df2 ,\"日期（格式“月-周次”）\" ,['平均通过时长', '一次通过平均时长','非一次通过平均时长','通过时长Q80' ])\n",
    "myModule.myPlot(ss.groupby('sum')).plot('line')\n",
    "\n",
    "ss = myModule.format(all_df2 ,\"month\" ,['平均通过时长', '一次通过平均时长','非一次通过平均时长','通过时长Q80' ])\n",
    "myModule.myPlot(ss.groupby('mean')).plot('line','月')"
   ]
  },
  {
   "cell_type": "markdown",
   "metadata": {},
   "source": [
    "#### 一次通过平均时长，xten一次通过时长，NovaS4一次通过时长"
   ]
  },
  {
   "cell_type": "code",
   "execution_count": 18,
   "metadata": {
    "collapsed": false
   },
   "outputs": [
    {
     "data": {
      "application/vnd.plotly.v1+json": {
       "data": [
        {
         "name": "xten一次通过时长",
         "type": "scatter",
         "uid": "c6d7a036-d5cc-11e8-8ddb-a41f72875c19",
         "x": [
          "10-2",
          "8-1",
          "8-2",
          "8-3",
          "8-4",
          "8-5",
          "9-1",
          "9-2",
          "9-3",
          "9-4"
         ],
         "y": [
          7.67,
          5.74,
          6.69,
          3.34,
          3.78,
          2.97,
          3.58,
          4.77,
          3.37,
          4.08
         ]
        },
        {
         "name": "NovaS4一次通过时长",
         "type": "scatter",
         "uid": "c6d7a037-d5cc-11e8-8ddb-a41f72875c19",
         "x": [
          "10-2",
          "8-1",
          "8-2",
          "8-3",
          "8-4",
          "8-5",
          "9-1",
          "9-2",
          "9-3",
          "9-4"
         ],
         "y": [
          0,
          13.29,
          4.73,
          10.54,
          10.54,
          0,
          14.88,
          9.9,
          0,
          0
         ]
        },
        {
         "name": "一次通过平均时长",
         "type": "scatter",
         "uid": "c6d7a038-d5cc-11e8-8ddb-a41f72875c19",
         "x": [
          "10-2",
          "8-1",
          "8-2",
          "8-3",
          "8-4",
          "8-5",
          "9-1",
          "9-2",
          "9-3",
          "9-4"
         ],
         "y": [
          7.96,
          11.95,
          6.68,
          3.81,
          5.41,
          3.11,
          2.07,
          6.43,
          4.81,
          4.68
         ]
        }
       ],
       "layout": {
        "title": "xten一次通过时长&NovaS4一次通过时长&一次通过平均时长周趋势图",
        "xaxis": {
         "mirror": "all",
         "nticks": 20,
         "showgrid": true,
         "showline": true,
         "title": "周",
         "type": "category",
         "zeroline": true
        },
        "yaxis": {
         "mirror": "all",
         "nticks": 20,
         "showgrid": true,
         "showline": true,
         "title": "xten一次通过时长&NovaS4一次通过时长&一次通过平均时长",
         "zeroline": true
        }
       }
      },
      "text/html": [
       "<div id=\"d2457001-96c9-4447-ad34-9633dac3e73a\" style=\"height: 525px; width: 100%;\" class=\"plotly-graph-div\"></div><script type=\"text/javascript\">require([\"plotly\"], function(Plotly) { window.PLOTLYENV=window.PLOTLYENV || {};window.PLOTLYENV.BASE_URL=\"https://plot.ly\";Plotly.newPlot(\"d2457001-96c9-4447-ad34-9633dac3e73a\", [{\"name\": \"xten\\u4e00\\u6b21\\u901a\\u8fc7\\u65f6\\u957f\", \"x\": [\"10-2\", \"8-1\", \"8-2\", \"8-3\", \"8-4\", \"8-5\", \"9-1\", \"9-2\", \"9-3\", \"9-4\"], \"y\": [7.67, 5.74, 6.69, 3.34, 3.78, 2.97, 3.58, 4.77, 3.37, 4.08], \"type\": \"scatter\", \"uid\": \"c6d7a036-d5cc-11e8-8ddb-a41f72875c19\"}, {\"name\": \"NovaS4\\u4e00\\u6b21\\u901a\\u8fc7\\u65f6\\u957f\", \"x\": [\"10-2\", \"8-1\", \"8-2\", \"8-3\", \"8-4\", \"8-5\", \"9-1\", \"9-2\", \"9-3\", \"9-4\"], \"y\": [0.0, 13.29, 4.73, 10.54, 10.54, 0.0, 14.88, 9.9, 0.0, 0.0], \"type\": \"scatter\", \"uid\": \"c6d7a037-d5cc-11e8-8ddb-a41f72875c19\"}, {\"name\": \"\\u4e00\\u6b21\\u901a\\u8fc7\\u5e73\\u5747\\u65f6\\u957f\", \"x\": [\"10-2\", \"8-1\", \"8-2\", \"8-3\", \"8-4\", \"8-5\", \"9-1\", \"9-2\", \"9-3\", \"9-4\"], \"y\": [7.96, 11.95, 6.68, 3.81, 5.41, 3.11, 2.07, 6.43, 4.81, 4.68], \"type\": \"scatter\", \"uid\": \"c6d7a038-d5cc-11e8-8ddb-a41f72875c19\"}], {\"title\": \"xten\\u4e00\\u6b21\\u901a\\u8fc7\\u65f6\\u957f&NovaS4\\u4e00\\u6b21\\u901a\\u8fc7\\u65f6\\u957f&\\u4e00\\u6b21\\u901a\\u8fc7\\u5e73\\u5747\\u65f6\\u957f\\u5468\\u8d8b\\u52bf\\u56fe\", \"xaxis\": {\"mirror\": \"all\", \"nticks\": 20, \"showgrid\": true, \"showline\": true, \"title\": \"\\u5468\", \"type\": \"category\", \"zeroline\": true}, \"yaxis\": {\"mirror\": \"all\", \"nticks\": 20, \"showgrid\": true, \"showline\": true, \"title\": \"xten\\u4e00\\u6b21\\u901a\\u8fc7\\u65f6\\u957f&NovaS4\\u4e00\\u6b21\\u901a\\u8fc7\\u65f6\\u957f&\\u4e00\\u6b21\\u901a\\u8fc7\\u5e73\\u5747\\u65f6\\u957f\", \"zeroline\": true}}, {\"showLink\": true, \"linkText\": \"Export to plot.ly\"})});</script>"
      ],
      "text/vnd.plotly.v1+html": [
       "<div id=\"d2457001-96c9-4447-ad34-9633dac3e73a\" style=\"height: 525px; width: 100%;\" class=\"plotly-graph-div\"></div><script type=\"text/javascript\">require([\"plotly\"], function(Plotly) { window.PLOTLYENV=window.PLOTLYENV || {};window.PLOTLYENV.BASE_URL=\"https://plot.ly\";Plotly.newPlot(\"d2457001-96c9-4447-ad34-9633dac3e73a\", [{\"name\": \"xten\\u4e00\\u6b21\\u901a\\u8fc7\\u65f6\\u957f\", \"x\": [\"10-2\", \"8-1\", \"8-2\", \"8-3\", \"8-4\", \"8-5\", \"9-1\", \"9-2\", \"9-3\", \"9-4\"], \"y\": [7.67, 5.74, 6.69, 3.34, 3.78, 2.97, 3.58, 4.77, 3.37, 4.08], \"type\": \"scatter\", \"uid\": \"c6d7a036-d5cc-11e8-8ddb-a41f72875c19\"}, {\"name\": \"NovaS4\\u4e00\\u6b21\\u901a\\u8fc7\\u65f6\\u957f\", \"x\": [\"10-2\", \"8-1\", \"8-2\", \"8-3\", \"8-4\", \"8-5\", \"9-1\", \"9-2\", \"9-3\", \"9-4\"], \"y\": [0.0, 13.29, 4.73, 10.54, 10.54, 0.0, 14.88, 9.9, 0.0, 0.0], \"type\": \"scatter\", \"uid\": \"c6d7a037-d5cc-11e8-8ddb-a41f72875c19\"}, {\"name\": \"\\u4e00\\u6b21\\u901a\\u8fc7\\u5e73\\u5747\\u65f6\\u957f\", \"x\": [\"10-2\", \"8-1\", \"8-2\", \"8-3\", \"8-4\", \"8-5\", \"9-1\", \"9-2\", \"9-3\", \"9-4\"], \"y\": [7.96, 11.95, 6.68, 3.81, 5.41, 3.11, 2.07, 6.43, 4.81, 4.68], \"type\": \"scatter\", \"uid\": \"c6d7a038-d5cc-11e8-8ddb-a41f72875c19\"}], {\"title\": \"xten\\u4e00\\u6b21\\u901a\\u8fc7\\u65f6\\u957f&NovaS4\\u4e00\\u6b21\\u901a\\u8fc7\\u65f6\\u957f&\\u4e00\\u6b21\\u901a\\u8fc7\\u5e73\\u5747\\u65f6\\u957f\\u5468\\u8d8b\\u52bf\\u56fe\", \"xaxis\": {\"mirror\": \"all\", \"nticks\": 20, \"showgrid\": true, \"showline\": true, \"title\": \"\\u5468\", \"type\": \"category\", \"zeroline\": true}, \"yaxis\": {\"mirror\": \"all\", \"nticks\": 20, \"showgrid\": true, \"showline\": true, \"title\": \"xten\\u4e00\\u6b21\\u901a\\u8fc7\\u65f6\\u957f&NovaS4\\u4e00\\u6b21\\u901a\\u8fc7\\u65f6\\u957f&\\u4e00\\u6b21\\u901a\\u8fc7\\u5e73\\u5747\\u65f6\\u957f\", \"zeroline\": true}}, {\"showLink\": true, \"linkText\": \"Export to plot.ly\"})});</script>"
      ]
     },
     "metadata": {},
     "output_type": "display_data"
    },
    {
     "data": {
      "application/vnd.plotly.v1+json": {
       "data": [
        {
         "name": "xten一次通过时长",
         "type": "scatter",
         "uid": "c6d7a039-d5cc-11e8-8ddb-a41f72875c19",
         "x": [
          8,
          9,
          10
         ],
         "y": [
          4.504,
          3.95,
          3.835
         ]
        },
        {
         "name": "NovaS4一次通过时长",
         "type": "scatter",
         "uid": "c6d7a03a-d5cc-11e8-8ddb-a41f72875c19",
         "x": [
          8,
          9,
          10
         ],
         "y": [
          7.8199999999999985,
          6.195,
          0
         ]
        },
        {
         "name": "一次通过平均时长",
         "type": "scatter",
         "uid": "c6d7a03b-d5cc-11e8-8ddb-a41f72875c19",
         "x": [
          8,
          9,
          10
         ],
         "y": [
          6.192,
          4.4975,
          3.98
         ]
        }
       ],
       "layout": {
        "title": "xten一次通过时长&NovaS4一次通过时长&一次通过平均时长月趋势图",
        "xaxis": {
         "mirror": "all",
         "nticks": 20,
         "showgrid": true,
         "showline": true,
         "title": "月",
         "type": "category",
         "zeroline": true
        },
        "yaxis": {
         "mirror": "all",
         "nticks": 20,
         "showgrid": true,
         "showline": true,
         "title": "xten一次通过时长&NovaS4一次通过时长&一次通过平均时长",
         "zeroline": true
        }
       }
      },
      "text/html": [
       "<div id=\"7a3b4f64-55f4-4e75-9c94-09473fd59263\" style=\"height: 525px; width: 100%;\" class=\"plotly-graph-div\"></div><script type=\"text/javascript\">require([\"plotly\"], function(Plotly) { window.PLOTLYENV=window.PLOTLYENV || {};window.PLOTLYENV.BASE_URL=\"https://plot.ly\";Plotly.newPlot(\"7a3b4f64-55f4-4e75-9c94-09473fd59263\", [{\"name\": \"xten\\u4e00\\u6b21\\u901a\\u8fc7\\u65f6\\u957f\", \"x\": [8, 9, 10], \"y\": [4.504, 3.95, 3.835], \"type\": \"scatter\", \"uid\": \"c6d7a039-d5cc-11e8-8ddb-a41f72875c19\"}, {\"name\": \"NovaS4\\u4e00\\u6b21\\u901a\\u8fc7\\u65f6\\u957f\", \"x\": [8, 9, 10], \"y\": [7.8199999999999985, 6.195, 0.0], \"type\": \"scatter\", \"uid\": \"c6d7a03a-d5cc-11e8-8ddb-a41f72875c19\"}, {\"name\": \"\\u4e00\\u6b21\\u901a\\u8fc7\\u5e73\\u5747\\u65f6\\u957f\", \"x\": [8, 9, 10], \"y\": [6.192, 4.4975, 3.98], \"type\": \"scatter\", \"uid\": \"c6d7a03b-d5cc-11e8-8ddb-a41f72875c19\"}], {\"title\": \"xten\\u4e00\\u6b21\\u901a\\u8fc7\\u65f6\\u957f&NovaS4\\u4e00\\u6b21\\u901a\\u8fc7\\u65f6\\u957f&\\u4e00\\u6b21\\u901a\\u8fc7\\u5e73\\u5747\\u65f6\\u957f\\u6708\\u8d8b\\u52bf\\u56fe\", \"xaxis\": {\"mirror\": \"all\", \"nticks\": 20, \"showgrid\": true, \"showline\": true, \"title\": \"\\u6708\", \"type\": \"category\", \"zeroline\": true}, \"yaxis\": {\"mirror\": \"all\", \"nticks\": 20, \"showgrid\": true, \"showline\": true, \"title\": \"xten\\u4e00\\u6b21\\u901a\\u8fc7\\u65f6\\u957f&NovaS4\\u4e00\\u6b21\\u901a\\u8fc7\\u65f6\\u957f&\\u4e00\\u6b21\\u901a\\u8fc7\\u5e73\\u5747\\u65f6\\u957f\", \"zeroline\": true}}, {\"showLink\": true, \"linkText\": \"Export to plot.ly\"})});</script>"
      ],
      "text/vnd.plotly.v1+html": [
       "<div id=\"7a3b4f64-55f4-4e75-9c94-09473fd59263\" style=\"height: 525px; width: 100%;\" class=\"plotly-graph-div\"></div><script type=\"text/javascript\">require([\"plotly\"], function(Plotly) { window.PLOTLYENV=window.PLOTLYENV || {};window.PLOTLYENV.BASE_URL=\"https://plot.ly\";Plotly.newPlot(\"7a3b4f64-55f4-4e75-9c94-09473fd59263\", [{\"name\": \"xten\\u4e00\\u6b21\\u901a\\u8fc7\\u65f6\\u957f\", \"x\": [8, 9, 10], \"y\": [4.504, 3.95, 3.835], \"type\": \"scatter\", \"uid\": \"c6d7a039-d5cc-11e8-8ddb-a41f72875c19\"}, {\"name\": \"NovaS4\\u4e00\\u6b21\\u901a\\u8fc7\\u65f6\\u957f\", \"x\": [8, 9, 10], \"y\": [7.8199999999999985, 6.195, 0.0], \"type\": \"scatter\", \"uid\": \"c6d7a03a-d5cc-11e8-8ddb-a41f72875c19\"}, {\"name\": \"\\u4e00\\u6b21\\u901a\\u8fc7\\u5e73\\u5747\\u65f6\\u957f\", \"x\": [8, 9, 10], \"y\": [6.192, 4.4975, 3.98], \"type\": \"scatter\", \"uid\": \"c6d7a03b-d5cc-11e8-8ddb-a41f72875c19\"}], {\"title\": \"xten\\u4e00\\u6b21\\u901a\\u8fc7\\u65f6\\u957f&NovaS4\\u4e00\\u6b21\\u901a\\u8fc7\\u65f6\\u957f&\\u4e00\\u6b21\\u901a\\u8fc7\\u5e73\\u5747\\u65f6\\u957f\\u6708\\u8d8b\\u52bf\\u56fe\", \"xaxis\": {\"mirror\": \"all\", \"nticks\": 20, \"showgrid\": true, \"showline\": true, \"title\": \"\\u6708\", \"type\": \"category\", \"zeroline\": true}, \"yaxis\": {\"mirror\": \"all\", \"nticks\": 20, \"showgrid\": true, \"showline\": true, \"title\": \"xten\\u4e00\\u6b21\\u901a\\u8fc7\\u65f6\\u957f&NovaS4\\u4e00\\u6b21\\u901a\\u8fc7\\u65f6\\u957f&\\u4e00\\u6b21\\u901a\\u8fc7\\u5e73\\u5747\\u65f6\\u957f\", \"zeroline\": true}}, {\"showLink\": true, \"linkText\": \"Export to plot.ly\"})});</script>"
      ]
     },
     "metadata": {},
     "output_type": "display_data"
    }
   ],
   "source": [
    "ss = myModule.format(all_df2 ,\"日期（格式“月-周次”）\" ,[ '一次通过平均时长','xten一次通过时长','NovaS4一次通过时长' ])\n",
    "myModule.myPlot(ss.groupby('sum')).plot('line')\n",
    "\n",
    "ss = myModule.format(all_df2 ,\"month\" ,[ '一次通过平均时长','xten一次通过时长','NovaS4一次通过时长' ])\n",
    "myModule.myPlot(ss.groupby('mean')).plot('line','月')"
   ]
  },
  {
   "cell_type": "markdown",
   "metadata": {},
   "source": [
    "### 异常"
   ]
  },
  {
   "cell_type": "markdown",
   "metadata": {},
   "source": [
    "####  测序异常，外来index错误，自建库index错误，lims系统错误，个性化拆分数"
   ]
  },
  {
   "cell_type": "code",
   "execution_count": 19,
   "metadata": {
    "collapsed": false
   },
   "outputs": [
    {
     "data": {
      "application/vnd.plotly.v1+json": {
       "data": [
        {
         "name": "lims系统错误",
         "type": "scatter",
         "uid": "c6d7a03c-d5cc-11e8-8ddb-a41f72875c19",
         "x": [
          "10-2",
          "8-1",
          "8-2",
          "8-3",
          "8-4",
          "8-5",
          "9-1",
          "9-2",
          "9-3",
          "9-4"
         ],
         "y": [
          0,
          2,
          3,
          0,
          0,
          1,
          0,
          0,
          3,
          0
         ]
        },
        {
         "name": "外来Index错误",
         "type": "scatter",
         "uid": "c6d7a03d-d5cc-11e8-8ddb-a41f72875c19",
         "x": [
          "10-2",
          "8-1",
          "8-2",
          "8-3",
          "8-4",
          "8-5",
          "9-1",
          "9-2",
          "9-3",
          "9-4"
         ],
         "y": [
          13,
          2,
          8,
          4,
          4,
          2,
          8,
          3,
          11,
          12
         ]
        },
        {
         "name": "个性化拆分数",
         "type": "scatter",
         "uid": "c6d7a03e-d5cc-11e8-8ddb-a41f72875c19",
         "x": [
          "10-2",
          "8-1",
          "8-2",
          "8-3",
          "8-4",
          "8-5",
          "9-1",
          "9-2",
          "9-3",
          "9-4"
         ],
         "y": [
          6,
          3,
          1,
          0,
          2,
          3,
          1,
          0,
          1,
          2
         ]
        },
        {
         "name": "自建库Index错误",
         "type": "scatter",
         "uid": "c6d7a03f-d5cc-11e8-8ddb-a41f72875c19",
         "x": [
          "10-2",
          "8-1",
          "8-2",
          "8-3",
          "8-4",
          "8-5",
          "9-1",
          "9-2",
          "9-3",
          "9-4"
         ],
         "y": [
          3,
          0,
          2,
          0,
          2,
          2,
          1,
          0,
          0,
          0
         ]
        },
        {
         "name": "测序异常",
         "type": "scatter",
         "uid": "c6d7a040-d5cc-11e8-8ddb-a41f72875c19",
         "x": [
          "10-2",
          "8-1",
          "8-2",
          "8-3",
          "8-4",
          "8-5",
          "9-1",
          "9-2",
          "9-3",
          "9-4"
         ],
         "y": [
          21,
          10,
          17,
          19,
          12,
          11,
          10,
          6,
          10,
          13
         ]
        }
       ],
       "layout": {
        "title": "lims系统错误&外来Index错误&个性化拆分数&自建库Index错误&测序异常周趋势图",
        "xaxis": {
         "mirror": "all",
         "nticks": 20,
         "showgrid": true,
         "showline": true,
         "title": "周",
         "type": "category",
         "zeroline": true
        },
        "yaxis": {
         "mirror": "all",
         "nticks": 20,
         "showgrid": true,
         "showline": true,
         "title": "lims系统错误&外来Index错误&个性化拆分数&自建库Index错误&测序异常",
         "zeroline": true
        }
       }
      },
      "text/html": [
       "<div id=\"c931c5b4-dadd-4dc1-8470-2bb4d7a31fe5\" style=\"height: 525px; width: 100%;\" class=\"plotly-graph-div\"></div><script type=\"text/javascript\">require([\"plotly\"], function(Plotly) { window.PLOTLYENV=window.PLOTLYENV || {};window.PLOTLYENV.BASE_URL=\"https://plot.ly\";Plotly.newPlot(\"c931c5b4-dadd-4dc1-8470-2bb4d7a31fe5\", [{\"name\": \"lims\\u7cfb\\u7edf\\u9519\\u8bef\", \"x\": [\"10-2\", \"8-1\", \"8-2\", \"8-3\", \"8-4\", \"8-5\", \"9-1\", \"9-2\", \"9-3\", \"9-4\"], \"y\": [0, 2, 3, 0, 0, 1, 0, 0, 3, 0], \"type\": \"scatter\", \"uid\": \"c6d7a03c-d5cc-11e8-8ddb-a41f72875c19\"}, {\"name\": \"\\u5916\\u6765Index\\u9519\\u8bef\", \"x\": [\"10-2\", \"8-1\", \"8-2\", \"8-3\", \"8-4\", \"8-5\", \"9-1\", \"9-2\", \"9-3\", \"9-4\"], \"y\": [13, 2, 8, 4, 4, 2, 8, 3, 11, 12], \"type\": \"scatter\", \"uid\": \"c6d7a03d-d5cc-11e8-8ddb-a41f72875c19\"}, {\"name\": \"\\u4e2a\\u6027\\u5316\\u62c6\\u5206\\u6570\", \"x\": [\"10-2\", \"8-1\", \"8-2\", \"8-3\", \"8-4\", \"8-5\", \"9-1\", \"9-2\", \"9-3\", \"9-4\"], \"y\": [6, 3, 1, 0, 2, 3, 1, 0, 1, 2], \"type\": \"scatter\", \"uid\": \"c6d7a03e-d5cc-11e8-8ddb-a41f72875c19\"}, {\"name\": \"\\u81ea\\u5efa\\u5e93Index\\u9519\\u8bef\", \"x\": [\"10-2\", \"8-1\", \"8-2\", \"8-3\", \"8-4\", \"8-5\", \"9-1\", \"9-2\", \"9-3\", \"9-4\"], \"y\": [3, 0, 2, 0, 2, 2, 1, 0, 0, 0], \"type\": \"scatter\", \"uid\": \"c6d7a03f-d5cc-11e8-8ddb-a41f72875c19\"}, {\"name\": \"\\u6d4b\\u5e8f\\u5f02\\u5e38\", \"x\": [\"10-2\", \"8-1\", \"8-2\", \"8-3\", \"8-4\", \"8-5\", \"9-1\", \"9-2\", \"9-3\", \"9-4\"], \"y\": [21, 10, 17, 19, 12, 11, 10, 6, 10, 13], \"type\": \"scatter\", \"uid\": \"c6d7a040-d5cc-11e8-8ddb-a41f72875c19\"}], {\"title\": \"lims\\u7cfb\\u7edf\\u9519\\u8bef&\\u5916\\u6765Index\\u9519\\u8bef&\\u4e2a\\u6027\\u5316\\u62c6\\u5206\\u6570&\\u81ea\\u5efa\\u5e93Index\\u9519\\u8bef&\\u6d4b\\u5e8f\\u5f02\\u5e38\\u5468\\u8d8b\\u52bf\\u56fe\", \"xaxis\": {\"mirror\": \"all\", \"nticks\": 20, \"showgrid\": true, \"showline\": true, \"title\": \"\\u5468\", \"type\": \"category\", \"zeroline\": true}, \"yaxis\": {\"mirror\": \"all\", \"nticks\": 20, \"showgrid\": true, \"showline\": true, \"title\": \"lims\\u7cfb\\u7edf\\u9519\\u8bef&\\u5916\\u6765Index\\u9519\\u8bef&\\u4e2a\\u6027\\u5316\\u62c6\\u5206\\u6570&\\u81ea\\u5efa\\u5e93Index\\u9519\\u8bef&\\u6d4b\\u5e8f\\u5f02\\u5e38\", \"zeroline\": true}}, {\"showLink\": true, \"linkText\": \"Export to plot.ly\"})});</script>"
      ],
      "text/vnd.plotly.v1+html": [
       "<div id=\"c931c5b4-dadd-4dc1-8470-2bb4d7a31fe5\" style=\"height: 525px; width: 100%;\" class=\"plotly-graph-div\"></div><script type=\"text/javascript\">require([\"plotly\"], function(Plotly) { window.PLOTLYENV=window.PLOTLYENV || {};window.PLOTLYENV.BASE_URL=\"https://plot.ly\";Plotly.newPlot(\"c931c5b4-dadd-4dc1-8470-2bb4d7a31fe5\", [{\"name\": \"lims\\u7cfb\\u7edf\\u9519\\u8bef\", \"x\": [\"10-2\", \"8-1\", \"8-2\", \"8-3\", \"8-4\", \"8-5\", \"9-1\", \"9-2\", \"9-3\", \"9-4\"], \"y\": [0, 2, 3, 0, 0, 1, 0, 0, 3, 0], \"type\": \"scatter\", \"uid\": \"c6d7a03c-d5cc-11e8-8ddb-a41f72875c19\"}, {\"name\": \"\\u5916\\u6765Index\\u9519\\u8bef\", \"x\": [\"10-2\", \"8-1\", \"8-2\", \"8-3\", \"8-4\", \"8-5\", \"9-1\", \"9-2\", \"9-3\", \"9-4\"], \"y\": [13, 2, 8, 4, 4, 2, 8, 3, 11, 12], \"type\": \"scatter\", \"uid\": \"c6d7a03d-d5cc-11e8-8ddb-a41f72875c19\"}, {\"name\": \"\\u4e2a\\u6027\\u5316\\u62c6\\u5206\\u6570\", \"x\": [\"10-2\", \"8-1\", \"8-2\", \"8-3\", \"8-4\", \"8-5\", \"9-1\", \"9-2\", \"9-3\", \"9-4\"], \"y\": [6, 3, 1, 0, 2, 3, 1, 0, 1, 2], \"type\": \"scatter\", \"uid\": \"c6d7a03e-d5cc-11e8-8ddb-a41f72875c19\"}, {\"name\": \"\\u81ea\\u5efa\\u5e93Index\\u9519\\u8bef\", \"x\": [\"10-2\", \"8-1\", \"8-2\", \"8-3\", \"8-4\", \"8-5\", \"9-1\", \"9-2\", \"9-3\", \"9-4\"], \"y\": [3, 0, 2, 0, 2, 2, 1, 0, 0, 0], \"type\": \"scatter\", \"uid\": \"c6d7a03f-d5cc-11e8-8ddb-a41f72875c19\"}, {\"name\": \"\\u6d4b\\u5e8f\\u5f02\\u5e38\", \"x\": [\"10-2\", \"8-1\", \"8-2\", \"8-3\", \"8-4\", \"8-5\", \"9-1\", \"9-2\", \"9-3\", \"9-4\"], \"y\": [21, 10, 17, 19, 12, 11, 10, 6, 10, 13], \"type\": \"scatter\", \"uid\": \"c6d7a040-d5cc-11e8-8ddb-a41f72875c19\"}], {\"title\": \"lims\\u7cfb\\u7edf\\u9519\\u8bef&\\u5916\\u6765Index\\u9519\\u8bef&\\u4e2a\\u6027\\u5316\\u62c6\\u5206\\u6570&\\u81ea\\u5efa\\u5e93Index\\u9519\\u8bef&\\u6d4b\\u5e8f\\u5f02\\u5e38\\u5468\\u8d8b\\u52bf\\u56fe\", \"xaxis\": {\"mirror\": \"all\", \"nticks\": 20, \"showgrid\": true, \"showline\": true, \"title\": \"\\u5468\", \"type\": \"category\", \"zeroline\": true}, \"yaxis\": {\"mirror\": \"all\", \"nticks\": 20, \"showgrid\": true, \"showline\": true, \"title\": \"lims\\u7cfb\\u7edf\\u9519\\u8bef&\\u5916\\u6765Index\\u9519\\u8bef&\\u4e2a\\u6027\\u5316\\u62c6\\u5206\\u6570&\\u81ea\\u5efa\\u5e93Index\\u9519\\u8bef&\\u6d4b\\u5e8f\\u5f02\\u5e38\", \"zeroline\": true}}, {\"showLink\": true, \"linkText\": \"Export to plot.ly\"})});</script>"
      ]
     },
     "metadata": {},
     "output_type": "display_data"
    },
    {
     "data": {
      "application/vnd.plotly.v1+json": {
       "data": [
        {
         "name": "lims系统错误",
         "type": "scatter",
         "uid": "c6d7a041-d5cc-11e8-8ddb-a41f72875c19",
         "x": [
          8,
          9,
          10
         ],
         "y": [
          1.2,
          0.75,
          0
         ]
        },
        {
         "name": "外来Index错误",
         "type": "scatter",
         "uid": "c6d7a042-d5cc-11e8-8ddb-a41f72875c19",
         "x": [
          8,
          9,
          10
         ],
         "y": [
          4,
          8.5,
          6.5
         ]
        },
        {
         "name": "个性化拆分数",
         "type": "scatter",
         "uid": "c6d7a043-d5cc-11e8-8ddb-a41f72875c19",
         "x": [
          8,
          9,
          10
         ],
         "y": [
          1.8,
          1,
          3
         ]
        },
        {
         "name": "自建库Index错误",
         "type": "scatter",
         "uid": "c6d7a044-d5cc-11e8-8ddb-a41f72875c19",
         "x": [
          8,
          9,
          10
         ],
         "y": [
          1.2,
          0.25,
          1.5
         ]
        },
        {
         "name": "测序异常",
         "type": "scatter",
         "uid": "c6d7a045-d5cc-11e8-8ddb-a41f72875c19",
         "x": [
          8,
          9,
          10
         ],
         "y": [
          13.8,
          9.75,
          10.5
         ]
        }
       ],
       "layout": {
        "title": "lims系统错误&外来Index错误&个性化拆分数&自建库Index错误&测序异常月趋势图",
        "xaxis": {
         "mirror": "all",
         "nticks": 20,
         "showgrid": true,
         "showline": true,
         "title": "月",
         "type": "category",
         "zeroline": true
        },
        "yaxis": {
         "mirror": "all",
         "nticks": 20,
         "showgrid": true,
         "showline": true,
         "title": "lims系统错误&外来Index错误&个性化拆分数&自建库Index错误&测序异常",
         "zeroline": true
        }
       }
      },
      "text/html": [
       "<div id=\"e621f84c-7502-4a37-be9d-9ebfff6ac29a\" style=\"height: 525px; width: 100%;\" class=\"plotly-graph-div\"></div><script type=\"text/javascript\">require([\"plotly\"], function(Plotly) { window.PLOTLYENV=window.PLOTLYENV || {};window.PLOTLYENV.BASE_URL=\"https://plot.ly\";Plotly.newPlot(\"e621f84c-7502-4a37-be9d-9ebfff6ac29a\", [{\"name\": \"lims\\u7cfb\\u7edf\\u9519\\u8bef\", \"x\": [8, 9, 10], \"y\": [1.2, 0.75, 0.0], \"type\": \"scatter\", \"uid\": \"c6d7a041-d5cc-11e8-8ddb-a41f72875c19\"}, {\"name\": \"\\u5916\\u6765Index\\u9519\\u8bef\", \"x\": [8, 9, 10], \"y\": [4.0, 8.5, 6.5], \"type\": \"scatter\", \"uid\": \"c6d7a042-d5cc-11e8-8ddb-a41f72875c19\"}, {\"name\": \"\\u4e2a\\u6027\\u5316\\u62c6\\u5206\\u6570\", \"x\": [8, 9, 10], \"y\": [1.8, 1.0, 3.0], \"type\": \"scatter\", \"uid\": \"c6d7a043-d5cc-11e8-8ddb-a41f72875c19\"}, {\"name\": \"\\u81ea\\u5efa\\u5e93Index\\u9519\\u8bef\", \"x\": [8, 9, 10], \"y\": [1.2, 0.25, 1.5], \"type\": \"scatter\", \"uid\": \"c6d7a044-d5cc-11e8-8ddb-a41f72875c19\"}, {\"name\": \"\\u6d4b\\u5e8f\\u5f02\\u5e38\", \"x\": [8, 9, 10], \"y\": [13.8, 9.75, 10.5], \"type\": \"scatter\", \"uid\": \"c6d7a045-d5cc-11e8-8ddb-a41f72875c19\"}], {\"title\": \"lims\\u7cfb\\u7edf\\u9519\\u8bef&\\u5916\\u6765Index\\u9519\\u8bef&\\u4e2a\\u6027\\u5316\\u62c6\\u5206\\u6570&\\u81ea\\u5efa\\u5e93Index\\u9519\\u8bef&\\u6d4b\\u5e8f\\u5f02\\u5e38\\u6708\\u8d8b\\u52bf\\u56fe\", \"xaxis\": {\"mirror\": \"all\", \"nticks\": 20, \"showgrid\": true, \"showline\": true, \"title\": \"\\u6708\", \"type\": \"category\", \"zeroline\": true}, \"yaxis\": {\"mirror\": \"all\", \"nticks\": 20, \"showgrid\": true, \"showline\": true, \"title\": \"lims\\u7cfb\\u7edf\\u9519\\u8bef&\\u5916\\u6765Index\\u9519\\u8bef&\\u4e2a\\u6027\\u5316\\u62c6\\u5206\\u6570&\\u81ea\\u5efa\\u5e93Index\\u9519\\u8bef&\\u6d4b\\u5e8f\\u5f02\\u5e38\", \"zeroline\": true}}, {\"showLink\": true, \"linkText\": \"Export to plot.ly\"})});</script>"
      ],
      "text/vnd.plotly.v1+html": [
       "<div id=\"e621f84c-7502-4a37-be9d-9ebfff6ac29a\" style=\"height: 525px; width: 100%;\" class=\"plotly-graph-div\"></div><script type=\"text/javascript\">require([\"plotly\"], function(Plotly) { window.PLOTLYENV=window.PLOTLYENV || {};window.PLOTLYENV.BASE_URL=\"https://plot.ly\";Plotly.newPlot(\"e621f84c-7502-4a37-be9d-9ebfff6ac29a\", [{\"name\": \"lims\\u7cfb\\u7edf\\u9519\\u8bef\", \"x\": [8, 9, 10], \"y\": [1.2, 0.75, 0.0], \"type\": \"scatter\", \"uid\": \"c6d7a041-d5cc-11e8-8ddb-a41f72875c19\"}, {\"name\": \"\\u5916\\u6765Index\\u9519\\u8bef\", \"x\": [8, 9, 10], \"y\": [4.0, 8.5, 6.5], \"type\": \"scatter\", \"uid\": \"c6d7a042-d5cc-11e8-8ddb-a41f72875c19\"}, {\"name\": \"\\u4e2a\\u6027\\u5316\\u62c6\\u5206\\u6570\", \"x\": [8, 9, 10], \"y\": [1.8, 1.0, 3.0], \"type\": \"scatter\", \"uid\": \"c6d7a043-d5cc-11e8-8ddb-a41f72875c19\"}, {\"name\": \"\\u81ea\\u5efa\\u5e93Index\\u9519\\u8bef\", \"x\": [8, 9, 10], \"y\": [1.2, 0.25, 1.5], \"type\": \"scatter\", \"uid\": \"c6d7a044-d5cc-11e8-8ddb-a41f72875c19\"}, {\"name\": \"\\u6d4b\\u5e8f\\u5f02\\u5e38\", \"x\": [8, 9, 10], \"y\": [13.8, 9.75, 10.5], \"type\": \"scatter\", \"uid\": \"c6d7a045-d5cc-11e8-8ddb-a41f72875c19\"}], {\"title\": \"lims\\u7cfb\\u7edf\\u9519\\u8bef&\\u5916\\u6765Index\\u9519\\u8bef&\\u4e2a\\u6027\\u5316\\u62c6\\u5206\\u6570&\\u81ea\\u5efa\\u5e93Index\\u9519\\u8bef&\\u6d4b\\u5e8f\\u5f02\\u5e38\\u6708\\u8d8b\\u52bf\\u56fe\", \"xaxis\": {\"mirror\": \"all\", \"nticks\": 20, \"showgrid\": true, \"showline\": true, \"title\": \"\\u6708\", \"type\": \"category\", \"zeroline\": true}, \"yaxis\": {\"mirror\": \"all\", \"nticks\": 20, \"showgrid\": true, \"showline\": true, \"title\": \"lims\\u7cfb\\u7edf\\u9519\\u8bef&\\u5916\\u6765Index\\u9519\\u8bef&\\u4e2a\\u6027\\u5316\\u62c6\\u5206\\u6570&\\u81ea\\u5efa\\u5e93Index\\u9519\\u8bef&\\u6d4b\\u5e8f\\u5f02\\u5e38\", \"zeroline\": true}}, {\"showLink\": true, \"linkText\": \"Export to plot.ly\"})});</script>"
      ]
     },
     "metadata": {},
     "output_type": "display_data"
    }
   ],
   "source": [
    "in_list = ['测序异常', '外来Index错误' , '自建库Index错误' ,'lims系统错误', '个性化拆分数' ]\n",
    "ss = myModule.format(all_df2 ,\"日期（格式“月-周次”）\" ,in_list)\n",
    "myModule.myPlot(ss.groupby('sum')).plot('line')\n",
    "\n",
    "ss = myModule.format(all_df2 ,\"month\" ,in_list)\n",
    "myModule.myPlot(ss.groupby('mean')).plot('line','月')"
   ]
  },
  {
   "cell_type": "markdown",
   "metadata": {},
   "source": [
    "#### 拆分流程异常数，延期处理"
   ]
  },
  {
   "cell_type": "code",
   "execution_count": 20,
   "metadata": {
    "collapsed": false
   },
   "outputs": [
    {
     "data": {
      "application/vnd.plotly.v1+json": {
       "data": [
        {
         "name": "拆分流程异常数",
         "type": "scatter",
         "uid": "c6d7a046-d5cc-11e8-8ddb-a41f72875c19",
         "x": [
          "10-2",
          "8-1",
          "8-2",
          "8-3",
          "8-4",
          "8-5",
          "9-1",
          "9-2",
          "9-3",
          "9-4"
         ],
         "y": [
          0,
          2,
          0,
          1,
          0,
          4,
          2,
          0,
          0,
          0
         ]
        },
        {
         "name": "处理延期",
         "type": "scatter",
         "uid": "c6d7a047-d5cc-11e8-8ddb-a41f72875c19",
         "x": [
          "10-2",
          "8-1",
          "8-2",
          "8-3",
          "8-4",
          "8-5",
          "9-1",
          "9-2",
          "9-3",
          "9-4"
         ],
         "y": [
          2,
          0,
          0,
          0,
          0,
          0,
          0,
          0,
          0,
          1
         ]
        }
       ],
       "layout": {
        "title": "拆分流程异常数&处理延期周趋势图",
        "xaxis": {
         "mirror": "all",
         "nticks": 20,
         "showgrid": true,
         "showline": true,
         "title": "周",
         "type": "category",
         "zeroline": true
        },
        "yaxis": {
         "mirror": "all",
         "nticks": 20,
         "showgrid": true,
         "showline": true,
         "title": "拆分流程异常数&处理延期",
         "zeroline": true
        }
       }
      },
      "text/html": [
       "<div id=\"c8cf1138-638d-48cd-89b4-b846c8c2ebfc\" style=\"height: 525px; width: 100%;\" class=\"plotly-graph-div\"></div><script type=\"text/javascript\">require([\"plotly\"], function(Plotly) { window.PLOTLYENV=window.PLOTLYENV || {};window.PLOTLYENV.BASE_URL=\"https://plot.ly\";Plotly.newPlot(\"c8cf1138-638d-48cd-89b4-b846c8c2ebfc\", [{\"name\": \"\\u62c6\\u5206\\u6d41\\u7a0b\\u5f02\\u5e38\\u6570\", \"x\": [\"10-2\", \"8-1\", \"8-2\", \"8-3\", \"8-4\", \"8-5\", \"9-1\", \"9-2\", \"9-3\", \"9-4\"], \"y\": [0, 2, 0, 1, 0, 4, 2, 0, 0, 0], \"type\": \"scatter\", \"uid\": \"c6d7a046-d5cc-11e8-8ddb-a41f72875c19\"}, {\"name\": \"\\u5904\\u7406\\u5ef6\\u671f\", \"x\": [\"10-2\", \"8-1\", \"8-2\", \"8-3\", \"8-4\", \"8-5\", \"9-1\", \"9-2\", \"9-3\", \"9-4\"], \"y\": [2, 0, 0, 0, 0, 0, 0, 0, 0, 1], \"type\": \"scatter\", \"uid\": \"c6d7a047-d5cc-11e8-8ddb-a41f72875c19\"}], {\"title\": \"\\u62c6\\u5206\\u6d41\\u7a0b\\u5f02\\u5e38\\u6570&\\u5904\\u7406\\u5ef6\\u671f\\u5468\\u8d8b\\u52bf\\u56fe\", \"xaxis\": {\"mirror\": \"all\", \"nticks\": 20, \"showgrid\": true, \"showline\": true, \"title\": \"\\u5468\", \"type\": \"category\", \"zeroline\": true}, \"yaxis\": {\"mirror\": \"all\", \"nticks\": 20, \"showgrid\": true, \"showline\": true, \"title\": \"\\u62c6\\u5206\\u6d41\\u7a0b\\u5f02\\u5e38\\u6570&\\u5904\\u7406\\u5ef6\\u671f\", \"zeroline\": true}}, {\"showLink\": true, \"linkText\": \"Export to plot.ly\"})});</script>"
      ],
      "text/vnd.plotly.v1+html": [
       "<div id=\"c8cf1138-638d-48cd-89b4-b846c8c2ebfc\" style=\"height: 525px; width: 100%;\" class=\"plotly-graph-div\"></div><script type=\"text/javascript\">require([\"plotly\"], function(Plotly) { window.PLOTLYENV=window.PLOTLYENV || {};window.PLOTLYENV.BASE_URL=\"https://plot.ly\";Plotly.newPlot(\"c8cf1138-638d-48cd-89b4-b846c8c2ebfc\", [{\"name\": \"\\u62c6\\u5206\\u6d41\\u7a0b\\u5f02\\u5e38\\u6570\", \"x\": [\"10-2\", \"8-1\", \"8-2\", \"8-3\", \"8-4\", \"8-5\", \"9-1\", \"9-2\", \"9-3\", \"9-4\"], \"y\": [0, 2, 0, 1, 0, 4, 2, 0, 0, 0], \"type\": \"scatter\", \"uid\": \"c6d7a046-d5cc-11e8-8ddb-a41f72875c19\"}, {\"name\": \"\\u5904\\u7406\\u5ef6\\u671f\", \"x\": [\"10-2\", \"8-1\", \"8-2\", \"8-3\", \"8-4\", \"8-5\", \"9-1\", \"9-2\", \"9-3\", \"9-4\"], \"y\": [2, 0, 0, 0, 0, 0, 0, 0, 0, 1], \"type\": \"scatter\", \"uid\": \"c6d7a047-d5cc-11e8-8ddb-a41f72875c19\"}], {\"title\": \"\\u62c6\\u5206\\u6d41\\u7a0b\\u5f02\\u5e38\\u6570&\\u5904\\u7406\\u5ef6\\u671f\\u5468\\u8d8b\\u52bf\\u56fe\", \"xaxis\": {\"mirror\": \"all\", \"nticks\": 20, \"showgrid\": true, \"showline\": true, \"title\": \"\\u5468\", \"type\": \"category\", \"zeroline\": true}, \"yaxis\": {\"mirror\": \"all\", \"nticks\": 20, \"showgrid\": true, \"showline\": true, \"title\": \"\\u62c6\\u5206\\u6d41\\u7a0b\\u5f02\\u5e38\\u6570&\\u5904\\u7406\\u5ef6\\u671f\", \"zeroline\": true}}, {\"showLink\": true, \"linkText\": \"Export to plot.ly\"})});</script>"
      ]
     },
     "metadata": {},
     "output_type": "display_data"
    },
    {
     "data": {
      "application/vnd.plotly.v1+json": {
       "data": [
        {
         "name": "拆分流程异常数",
         "type": "scatter",
         "uid": "c6d7a048-d5cc-11e8-8ddb-a41f72875c19",
         "x": [
          8,
          9,
          10
         ],
         "y": [
          1.4,
          0.5,
          0
         ]
        },
        {
         "name": "处理延期",
         "type": "scatter",
         "uid": "c6d7a049-d5cc-11e8-8ddb-a41f72875c19",
         "x": [
          8,
          9,
          10
         ],
         "y": [
          0,
          0.25,
          1
         ]
        }
       ],
       "layout": {
        "title": "拆分流程异常数&处理延期月趋势图",
        "xaxis": {
         "mirror": "all",
         "nticks": 20,
         "showgrid": true,
         "showline": true,
         "title": "月",
         "type": "category",
         "zeroline": true
        },
        "yaxis": {
         "mirror": "all",
         "nticks": 20,
         "showgrid": true,
         "showline": true,
         "title": "拆分流程异常数&处理延期",
         "zeroline": true
        }
       }
      },
      "text/html": [
       "<div id=\"dd0ef54b-3aee-4f94-9e91-ef1444eadaa5\" style=\"height: 525px; width: 100%;\" class=\"plotly-graph-div\"></div><script type=\"text/javascript\">require([\"plotly\"], function(Plotly) { window.PLOTLYENV=window.PLOTLYENV || {};window.PLOTLYENV.BASE_URL=\"https://plot.ly\";Plotly.newPlot(\"dd0ef54b-3aee-4f94-9e91-ef1444eadaa5\", [{\"name\": \"\\u62c6\\u5206\\u6d41\\u7a0b\\u5f02\\u5e38\\u6570\", \"x\": [8, 9, 10], \"y\": [1.4, 0.5, 0.0], \"type\": \"scatter\", \"uid\": \"c6d7a048-d5cc-11e8-8ddb-a41f72875c19\"}, {\"name\": \"\\u5904\\u7406\\u5ef6\\u671f\", \"x\": [8, 9, 10], \"y\": [0.0, 0.25, 1.0], \"type\": \"scatter\", \"uid\": \"c6d7a049-d5cc-11e8-8ddb-a41f72875c19\"}], {\"title\": \"\\u62c6\\u5206\\u6d41\\u7a0b\\u5f02\\u5e38\\u6570&\\u5904\\u7406\\u5ef6\\u671f\\u6708\\u8d8b\\u52bf\\u56fe\", \"xaxis\": {\"mirror\": \"all\", \"nticks\": 20, \"showgrid\": true, \"showline\": true, \"title\": \"\\u6708\", \"type\": \"category\", \"zeroline\": true}, \"yaxis\": {\"mirror\": \"all\", \"nticks\": 20, \"showgrid\": true, \"showline\": true, \"title\": \"\\u62c6\\u5206\\u6d41\\u7a0b\\u5f02\\u5e38\\u6570&\\u5904\\u7406\\u5ef6\\u671f\", \"zeroline\": true}}, {\"showLink\": true, \"linkText\": \"Export to plot.ly\"})});</script>"
      ],
      "text/vnd.plotly.v1+html": [
       "<div id=\"dd0ef54b-3aee-4f94-9e91-ef1444eadaa5\" style=\"height: 525px; width: 100%;\" class=\"plotly-graph-div\"></div><script type=\"text/javascript\">require([\"plotly\"], function(Plotly) { window.PLOTLYENV=window.PLOTLYENV || {};window.PLOTLYENV.BASE_URL=\"https://plot.ly\";Plotly.newPlot(\"dd0ef54b-3aee-4f94-9e91-ef1444eadaa5\", [{\"name\": \"\\u62c6\\u5206\\u6d41\\u7a0b\\u5f02\\u5e38\\u6570\", \"x\": [8, 9, 10], \"y\": [1.4, 0.5, 0.0], \"type\": \"scatter\", \"uid\": \"c6d7a048-d5cc-11e8-8ddb-a41f72875c19\"}, {\"name\": \"\\u5904\\u7406\\u5ef6\\u671f\", \"x\": [8, 9, 10], \"y\": [0.0, 0.25, 1.0], \"type\": \"scatter\", \"uid\": \"c6d7a049-d5cc-11e8-8ddb-a41f72875c19\"}], {\"title\": \"\\u62c6\\u5206\\u6d41\\u7a0b\\u5f02\\u5e38\\u6570&\\u5904\\u7406\\u5ef6\\u671f\\u6708\\u8d8b\\u52bf\\u56fe\", \"xaxis\": {\"mirror\": \"all\", \"nticks\": 20, \"showgrid\": true, \"showline\": true, \"title\": \"\\u6708\", \"type\": \"category\", \"zeroline\": true}, \"yaxis\": {\"mirror\": \"all\", \"nticks\": 20, \"showgrid\": true, \"showline\": true, \"title\": \"\\u62c6\\u5206\\u6d41\\u7a0b\\u5f02\\u5e38\\u6570&\\u5904\\u7406\\u5ef6\\u671f\", \"zeroline\": true}}, {\"showLink\": true, \"linkText\": \"Export to plot.ly\"})});</script>"
      ]
     },
     "metadata": {},
     "output_type": "display_data"
    }
   ],
   "source": [
    "in_list = ['拆分流程异常数','处理延期' ]\n",
    "ss = myModule.format(all_df2 ,\"日期（格式“月-周次”）\" ,in_list)\n",
    "myModule.myPlot(ss.groupby('sum')).plot('line')\n",
    "\n",
    "ss = myModule.format(all_df2 ,\"month\" ,in_list)\n",
    "myModule.myPlot(ss.groupby('mean')).plot('line','月')"
   ]
  },
  {
   "cell_type": "code",
   "execution_count": 21,
   "metadata": {
    "collapsed": true
   },
   "outputs": [],
   "source": [
    "all_files , title = myModule.get_title(pathway , 0 ) ##给路径\n",
    "all_dict = myModule.read_xlsx(all_files, 0 ) ## read all files"
   ]
  },
  {
   "cell_type": "markdown",
   "metadata": {},
   "source": [
    "# 过滤项目个人情况"
   ]
  },
  {
   "cell_type": "markdown",
   "metadata": {},
   "source": [
    "## 产能"
   ]
  },
  {
   "cell_type": "markdown",
   "metadata": {},
   "source": [
    "### 下机批次"
   ]
  },
  {
   "cell_type": "code",
   "execution_count": 22,
   "metadata": {
    "collapsed": false
   },
   "outputs": [
    {
     "data": {
      "application/vnd.plotly.v1+json": {
       "data": [
        {
         "line": {
          "dash": "solid"
         },
         "name": "下机项目数(张悦)",
         "type": "scatter",
         "uid": "c6d7a04a-d5cc-11e8-8ddb-a41f72875c19",
         "x": [
          "10-2",
          "10-3",
          "8-1",
          "8-2",
          "8-3",
          "8-4",
          "8-5",
          "9-1",
          "9-2",
          "9-3",
          "9-4"
         ],
         "y": [
          0,
          0,
          1,
          1,
          1,
          1,
          5,
          2,
          0,
          0,
          0
         ]
        },
        {
         "line": {
          "dash": "dot"
         },
         "name": "下机项目数(屈昂)",
         "type": "scatter",
         "uid": "c6d7a04b-d5cc-11e8-8ddb-a41f72875c19",
         "x": [
          "10-2",
          "10-3",
          "8-1",
          "8-2",
          "8-3",
          "8-4",
          "8-5",
          "9-1",
          "9-2",
          "9-3",
          "9-4"
         ],
         "y": [
          1,
          3,
          36,
          62,
          62,
          96,
          76,
          117,
          38,
          19,
          15
         ]
        },
        {
         "line": {
          "dash": "dash"
         },
         "name": "下机项目数(冷雪)",
         "type": "scatter",
         "uid": "c6d7a04c-d5cc-11e8-8ddb-a41f72875c19",
         "x": [
          "10-2",
          "10-3",
          "8-1",
          "8-2",
          "8-3",
          "8-4",
          "8-5",
          "9-1",
          "9-2",
          "9-3",
          "9-4"
         ],
         "y": [
          65,
          107,
          31,
          49,
          51,
          26,
          2,
          54,
          63,
          103,
          138
         ]
        },
        {
         "line": {
          "dash": "longdash"
         },
         "name": "下机项目数(卢楠)",
         "type": "scatter",
         "uid": "c6d7a04d-d5cc-11e8-8ddb-a41f72875c19",
         "x": [
          "10-2",
          "10-3",
          "8-1",
          "8-2",
          "8-3",
          "8-4",
          "8-5",
          "9-1",
          "9-2",
          "9-3",
          "9-4"
         ],
         "y": [
          null,
          null,
          26,
          34,
          21,
          13,
          2,
          1,
          2,
          0,
          0
         ]
        },
        {
         "line": {
          "dash": "solid"
         },
         "name": "下机批次数(张悦)",
         "type": "scatter",
         "uid": "c6d7a04e-d5cc-11e8-8ddb-a41f72875c19",
         "x": [
          "10-2",
          "10-3",
          "8-1",
          "8-2",
          "8-3",
          "8-4",
          "8-5",
          "9-1",
          "9-2",
          "9-3",
          "9-4"
         ],
         "y": [
          0,
          0,
          2,
          2,
          1,
          1,
          7,
          4,
          0,
          0,
          0
         ]
        },
        {
         "line": {
          "dash": "dot"
         },
         "name": "下机批次数(屈昂)",
         "type": "scatter",
         "uid": "c6d7a04f-d5cc-11e8-8ddb-a41f72875c19",
         "x": [
          "10-2",
          "10-3",
          "8-1",
          "8-2",
          "8-3",
          "8-4",
          "8-5",
          "9-1",
          "9-2",
          "9-3",
          "9-4"
         ],
         "y": [
          1,
          3,
          42,
          74,
          75,
          119,
          85,
          135,
          45,
          21,
          17
         ]
        },
        {
         "line": {
          "dash": "dash"
         },
         "name": "下机批次数(冷雪)",
         "type": "scatter",
         "uid": "c6d7a050-d5cc-11e8-8ddb-a41f72875c19",
         "x": [
          "10-2",
          "10-3",
          "8-1",
          "8-2",
          "8-3",
          "8-4",
          "8-5",
          "9-1",
          "9-2",
          "9-3",
          "9-4"
         ],
         "y": [
          69,
          129,
          38,
          58,
          66,
          28,
          5,
          58,
          76,
          115,
          159
         ]
        },
        {
         "line": {
          "dash": "longdash"
         },
         "name": "下机批次数(卢楠)",
         "type": "scatter",
         "uid": "c6d7a051-d5cc-11e8-8ddb-a41f72875c19",
         "x": [
          "10-2",
          "10-3",
          "8-1",
          "8-2",
          "8-3",
          "8-4",
          "8-5",
          "9-1",
          "9-2",
          "9-3",
          "9-4"
         ],
         "y": [
          null,
          null,
          36,
          47,
          23,
          13,
          3,
          2,
          3,
          0,
          0
         ]
        }
       ],
       "layout": {
        "title": "下机项目数&下机批次数周趋势图",
        "xaxis": {
         "mirror": "all",
         "nticks": 20,
         "showgrid": true,
         "showline": true,
         "title": "周",
         "type": "category",
         "zeroline": true
        },
        "yaxis": {
         "mirror": "all",
         "nticks": 20,
         "showgrid": true,
         "showline": true,
         "title": "下机项目数&下机批次数",
         "zeroline": true
        }
       }
      },
      "text/html": [
       "<div id=\"608b5b8a-d04e-4c57-a9be-b039db376f62\" style=\"height: 525px; width: 100%;\" class=\"plotly-graph-div\"></div><script type=\"text/javascript\">require([\"plotly\"], function(Plotly) { window.PLOTLYENV=window.PLOTLYENV || {};window.PLOTLYENV.BASE_URL=\"https://plot.ly\";Plotly.newPlot(\"608b5b8a-d04e-4c57-a9be-b039db376f62\", [{\"line\": {\"dash\": \"solid\"}, \"name\": \"\\u4e0b\\u673a\\u9879\\u76ee\\u6570(\\u5f20\\u60a6)\", \"x\": [\"10-2\", \"10-3\", \"8-1\", \"8-2\", \"8-3\", \"8-4\", \"8-5\", \"9-1\", \"9-2\", \"9-3\", \"9-4\"], \"y\": [0.0, 0.0, 1.0, 1.0, 1.0, 1.0, 5.0, 2.0, 0.0, 0.0, 0.0], \"type\": \"scatter\", \"uid\": \"c6d7a04a-d5cc-11e8-8ddb-a41f72875c19\"}, {\"line\": {\"dash\": \"dot\"}, \"name\": \"\\u4e0b\\u673a\\u9879\\u76ee\\u6570(\\u5c48\\u6602)\", \"x\": [\"10-2\", \"10-3\", \"8-1\", \"8-2\", \"8-3\", \"8-4\", \"8-5\", \"9-1\", \"9-2\", \"9-3\", \"9-4\"], \"y\": [1.0, 3.0, 36.0, 62.0, 62.0, 96.0, 76.0, 117.0, 38.0, 19.0, 15.0], \"type\": \"scatter\", \"uid\": \"c6d7a04b-d5cc-11e8-8ddb-a41f72875c19\"}, {\"line\": {\"dash\": \"dash\"}, \"name\": \"\\u4e0b\\u673a\\u9879\\u76ee\\u6570(\\u51b7\\u96ea)\", \"x\": [\"10-2\", \"10-3\", \"8-1\", \"8-2\", \"8-3\", \"8-4\", \"8-5\", \"9-1\", \"9-2\", \"9-3\", \"9-4\"], \"y\": [65.0, 107.0, 31.0, 49.0, 51.0, 26.0, 2.0, 54.0, 63.0, 103.0, 138.0], \"type\": \"scatter\", \"uid\": \"c6d7a04c-d5cc-11e8-8ddb-a41f72875c19\"}, {\"line\": {\"dash\": \"longdash\"}, \"name\": \"\\u4e0b\\u673a\\u9879\\u76ee\\u6570(\\u5362\\u6960)\", \"x\": [\"10-2\", \"10-3\", \"8-1\", \"8-2\", \"8-3\", \"8-4\", \"8-5\", \"9-1\", \"9-2\", \"9-3\", \"9-4\"], \"y\": [null, null, 26.0, 34.0, 21.0, 13.0, 2.0, 1.0, 2.0, 0.0, 0.0], \"type\": \"scatter\", \"uid\": \"c6d7a04d-d5cc-11e8-8ddb-a41f72875c19\"}, {\"line\": {\"dash\": \"solid\"}, \"name\": \"\\u4e0b\\u673a\\u6279\\u6b21\\u6570(\\u5f20\\u60a6)\", \"x\": [\"10-2\", \"10-3\", \"8-1\", \"8-2\", \"8-3\", \"8-4\", \"8-5\", \"9-1\", \"9-2\", \"9-3\", \"9-4\"], \"y\": [0.0, 0.0, 2.0, 2.0, 1.0, 1.0, 7.0, 4.0, 0.0, 0.0, 0.0], \"type\": \"scatter\", \"uid\": \"c6d7a04e-d5cc-11e8-8ddb-a41f72875c19\"}, {\"line\": {\"dash\": \"dot\"}, \"name\": \"\\u4e0b\\u673a\\u6279\\u6b21\\u6570(\\u5c48\\u6602)\", \"x\": [\"10-2\", \"10-3\", \"8-1\", \"8-2\", \"8-3\", \"8-4\", \"8-5\", \"9-1\", \"9-2\", \"9-3\", \"9-4\"], \"y\": [1.0, 3.0, 42.0, 74.0, 75.0, 119.0, 85.0, 135.0, 45.0, 21.0, 17.0], \"type\": \"scatter\", \"uid\": \"c6d7a04f-d5cc-11e8-8ddb-a41f72875c19\"}, {\"line\": {\"dash\": \"dash\"}, \"name\": \"\\u4e0b\\u673a\\u6279\\u6b21\\u6570(\\u51b7\\u96ea)\", \"x\": [\"10-2\", \"10-3\", \"8-1\", \"8-2\", \"8-3\", \"8-4\", \"8-5\", \"9-1\", \"9-2\", \"9-3\", \"9-4\"], \"y\": [69.0, 129.0, 38.0, 58.0, 66.0, 28.0, 5.0, 58.0, 76.0, 115.0, 159.0], \"type\": \"scatter\", \"uid\": \"c6d7a050-d5cc-11e8-8ddb-a41f72875c19\"}, {\"line\": {\"dash\": \"longdash\"}, \"name\": \"\\u4e0b\\u673a\\u6279\\u6b21\\u6570(\\u5362\\u6960)\", \"x\": [\"10-2\", \"10-3\", \"8-1\", \"8-2\", \"8-3\", \"8-4\", \"8-5\", \"9-1\", \"9-2\", \"9-3\", \"9-4\"], \"y\": [null, null, 36.0, 47.0, 23.0, 13.0, 3.0, 2.0, 3.0, 0.0, 0.0], \"type\": \"scatter\", \"uid\": \"c6d7a051-d5cc-11e8-8ddb-a41f72875c19\"}], {\"title\": \"\\u4e0b\\u673a\\u9879\\u76ee\\u6570&\\u4e0b\\u673a\\u6279\\u6b21\\u6570\\u5468\\u8d8b\\u52bf\\u56fe\", \"xaxis\": {\"mirror\": \"all\", \"nticks\": 20, \"showgrid\": true, \"showline\": true, \"title\": \"\\u5468\", \"type\": \"category\", \"zeroline\": true}, \"yaxis\": {\"mirror\": \"all\", \"nticks\": 20, \"showgrid\": true, \"showline\": true, \"title\": \"\\u4e0b\\u673a\\u9879\\u76ee\\u6570&\\u4e0b\\u673a\\u6279\\u6b21\\u6570\", \"zeroline\": true}}, {\"showLink\": true, \"linkText\": \"Export to plot.ly\"})});</script>"
      ],
      "text/vnd.plotly.v1+html": [
       "<div id=\"608b5b8a-d04e-4c57-a9be-b039db376f62\" style=\"height: 525px; width: 100%;\" class=\"plotly-graph-div\"></div><script type=\"text/javascript\">require([\"plotly\"], function(Plotly) { window.PLOTLYENV=window.PLOTLYENV || {};window.PLOTLYENV.BASE_URL=\"https://plot.ly\";Plotly.newPlot(\"608b5b8a-d04e-4c57-a9be-b039db376f62\", [{\"line\": {\"dash\": \"solid\"}, \"name\": \"\\u4e0b\\u673a\\u9879\\u76ee\\u6570(\\u5f20\\u60a6)\", \"x\": [\"10-2\", \"10-3\", \"8-1\", \"8-2\", \"8-3\", \"8-4\", \"8-5\", \"9-1\", \"9-2\", \"9-3\", \"9-4\"], \"y\": [0.0, 0.0, 1.0, 1.0, 1.0, 1.0, 5.0, 2.0, 0.0, 0.0, 0.0], \"type\": \"scatter\", \"uid\": \"c6d7a04a-d5cc-11e8-8ddb-a41f72875c19\"}, {\"line\": {\"dash\": \"dot\"}, \"name\": \"\\u4e0b\\u673a\\u9879\\u76ee\\u6570(\\u5c48\\u6602)\", \"x\": [\"10-2\", \"10-3\", \"8-1\", \"8-2\", \"8-3\", \"8-4\", \"8-5\", \"9-1\", \"9-2\", \"9-3\", \"9-4\"], \"y\": [1.0, 3.0, 36.0, 62.0, 62.0, 96.0, 76.0, 117.0, 38.0, 19.0, 15.0], \"type\": \"scatter\", \"uid\": \"c6d7a04b-d5cc-11e8-8ddb-a41f72875c19\"}, {\"line\": {\"dash\": \"dash\"}, \"name\": \"\\u4e0b\\u673a\\u9879\\u76ee\\u6570(\\u51b7\\u96ea)\", \"x\": [\"10-2\", \"10-3\", \"8-1\", \"8-2\", \"8-3\", \"8-4\", \"8-5\", \"9-1\", \"9-2\", \"9-3\", \"9-4\"], \"y\": [65.0, 107.0, 31.0, 49.0, 51.0, 26.0, 2.0, 54.0, 63.0, 103.0, 138.0], \"type\": \"scatter\", \"uid\": \"c6d7a04c-d5cc-11e8-8ddb-a41f72875c19\"}, {\"line\": {\"dash\": \"longdash\"}, \"name\": \"\\u4e0b\\u673a\\u9879\\u76ee\\u6570(\\u5362\\u6960)\", \"x\": [\"10-2\", \"10-3\", \"8-1\", \"8-2\", \"8-3\", \"8-4\", \"8-5\", \"9-1\", \"9-2\", \"9-3\", \"9-4\"], \"y\": [null, null, 26.0, 34.0, 21.0, 13.0, 2.0, 1.0, 2.0, 0.0, 0.0], \"type\": \"scatter\", \"uid\": \"c6d7a04d-d5cc-11e8-8ddb-a41f72875c19\"}, {\"line\": {\"dash\": \"solid\"}, \"name\": \"\\u4e0b\\u673a\\u6279\\u6b21\\u6570(\\u5f20\\u60a6)\", \"x\": [\"10-2\", \"10-3\", \"8-1\", \"8-2\", \"8-3\", \"8-4\", \"8-5\", \"9-1\", \"9-2\", \"9-3\", \"9-4\"], \"y\": [0.0, 0.0, 2.0, 2.0, 1.0, 1.0, 7.0, 4.0, 0.0, 0.0, 0.0], \"type\": \"scatter\", \"uid\": \"c6d7a04e-d5cc-11e8-8ddb-a41f72875c19\"}, {\"line\": {\"dash\": \"dot\"}, \"name\": \"\\u4e0b\\u673a\\u6279\\u6b21\\u6570(\\u5c48\\u6602)\", \"x\": [\"10-2\", \"10-3\", \"8-1\", \"8-2\", \"8-3\", \"8-4\", \"8-5\", \"9-1\", \"9-2\", \"9-3\", \"9-4\"], \"y\": [1.0, 3.0, 42.0, 74.0, 75.0, 119.0, 85.0, 135.0, 45.0, 21.0, 17.0], \"type\": \"scatter\", \"uid\": \"c6d7a04f-d5cc-11e8-8ddb-a41f72875c19\"}, {\"line\": {\"dash\": \"dash\"}, \"name\": \"\\u4e0b\\u673a\\u6279\\u6b21\\u6570(\\u51b7\\u96ea)\", \"x\": [\"10-2\", \"10-3\", \"8-1\", \"8-2\", \"8-3\", \"8-4\", \"8-5\", \"9-1\", \"9-2\", \"9-3\", \"9-4\"], \"y\": [69.0, 129.0, 38.0, 58.0, 66.0, 28.0, 5.0, 58.0, 76.0, 115.0, 159.0], \"type\": \"scatter\", \"uid\": \"c6d7a050-d5cc-11e8-8ddb-a41f72875c19\"}, {\"line\": {\"dash\": \"longdash\"}, \"name\": \"\\u4e0b\\u673a\\u6279\\u6b21\\u6570(\\u5362\\u6960)\", \"x\": [\"10-2\", \"10-3\", \"8-1\", \"8-2\", \"8-3\", \"8-4\", \"8-5\", \"9-1\", \"9-2\", \"9-3\", \"9-4\"], \"y\": [null, null, 36.0, 47.0, 23.0, 13.0, 3.0, 2.0, 3.0, 0.0, 0.0], \"type\": \"scatter\", \"uid\": \"c6d7a051-d5cc-11e8-8ddb-a41f72875c19\"}], {\"title\": \"\\u4e0b\\u673a\\u9879\\u76ee\\u6570&\\u4e0b\\u673a\\u6279\\u6b21\\u6570\\u5468\\u8d8b\\u52bf\\u56fe\", \"xaxis\": {\"mirror\": \"all\", \"nticks\": 20, \"showgrid\": true, \"showline\": true, \"title\": \"\\u5468\", \"type\": \"category\", \"zeroline\": true}, \"yaxis\": {\"mirror\": \"all\", \"nticks\": 20, \"showgrid\": true, \"showline\": true, \"title\": \"\\u4e0b\\u673a\\u9879\\u76ee\\u6570&\\u4e0b\\u673a\\u6279\\u6b21\\u6570\", \"zeroline\": true}}, {\"showLink\": true, \"linkText\": \"Export to plot.ly\"})});</script>"
      ]
     },
     "metadata": {},
     "output_type": "display_data"
    },
    {
     "data": {
      "application/vnd.plotly.v1+json": {
       "data": [
        {
         "line": {
          "dash": "solid"
         },
         "name": "下机项目数(张悦)",
         "type": "scatter",
         "uid": "c6d7a052-d5cc-11e8-8ddb-a41f72875c19",
         "x": [
          8,
          9,
          10
         ],
         "y": [
          9,
          2,
          0
         ]
        },
        {
         "line": {
          "dash": "dot"
         },
         "name": "下机项目数(屈昂)",
         "type": "scatter",
         "uid": "c6d7a053-d5cc-11e8-8ddb-a41f72875c19",
         "x": [
          8,
          9,
          10
         ],
         "y": [
          332,
          189,
          4
         ]
        },
        {
         "line": {
          "dash": "dash"
         },
         "name": "下机项目数(冷雪)",
         "type": "scatter",
         "uid": "c6d7a054-d5cc-11e8-8ddb-a41f72875c19",
         "x": [
          8,
          9,
          10
         ],
         "y": [
          159,
          358,
          172
         ]
        },
        {
         "line": {
          "dash": "longdash"
         },
         "name": "下机项目数(卢楠)",
         "type": "scatter",
         "uid": "c6d7a055-d5cc-11e8-8ddb-a41f72875c19",
         "x": [
          8,
          9,
          10
         ],
         "y": [
          96,
          3,
          null
         ]
        },
        {
         "line": {
          "dash": "solid"
         },
         "name": "下机批次数(张悦)",
         "type": "scatter",
         "uid": "c6d7a056-d5cc-11e8-8ddb-a41f72875c19",
         "x": [
          8,
          9,
          10
         ],
         "y": [
          13,
          4,
          0
         ]
        },
        {
         "line": {
          "dash": "dot"
         },
         "name": "下机批次数(屈昂)",
         "type": "scatter",
         "uid": "c6d7a057-d5cc-11e8-8ddb-a41f72875c19",
         "x": [
          8,
          9,
          10
         ],
         "y": [
          395,
          218,
          4
         ]
        },
        {
         "line": {
          "dash": "dash"
         },
         "name": "下机批次数(冷雪)",
         "type": "scatter",
         "uid": "c6d7a058-d5cc-11e8-8ddb-a41f72875c19",
         "x": [
          8,
          9,
          10
         ],
         "y": [
          195,
          408,
          198
         ]
        },
        {
         "line": {
          "dash": "longdash"
         },
         "name": "下机批次数(卢楠)",
         "type": "scatter",
         "uid": "c6d7a059-d5cc-11e8-8ddb-a41f72875c19",
         "x": [
          8,
          9,
          10
         ],
         "y": [
          122,
          5,
          null
         ]
        }
       ],
       "layout": {
        "title": "下机项目数&下机批次数月趋势图",
        "xaxis": {
         "mirror": "all",
         "nticks": 20,
         "showgrid": true,
         "showline": true,
         "title": "月",
         "type": "category",
         "zeroline": true
        },
        "yaxis": {
         "mirror": "all",
         "nticks": 20,
         "showgrid": true,
         "showline": true,
         "title": "下机项目数&下机批次数",
         "zeroline": true
        }
       }
      },
      "text/html": [
       "<div id=\"c578dd55-fcff-430e-bbe4-643874570177\" style=\"height: 525px; width: 100%;\" class=\"plotly-graph-div\"></div><script type=\"text/javascript\">require([\"plotly\"], function(Plotly) { window.PLOTLYENV=window.PLOTLYENV || {};window.PLOTLYENV.BASE_URL=\"https://plot.ly\";Plotly.newPlot(\"c578dd55-fcff-430e-bbe4-643874570177\", [{\"line\": {\"dash\": \"solid\"}, \"name\": \"\\u4e0b\\u673a\\u9879\\u76ee\\u6570(\\u5f20\\u60a6)\", \"x\": [8, 9, 10], \"y\": [9.0, 2.0, 0.0], \"type\": \"scatter\", \"uid\": \"c6d7a052-d5cc-11e8-8ddb-a41f72875c19\"}, {\"line\": {\"dash\": \"dot\"}, \"name\": \"\\u4e0b\\u673a\\u9879\\u76ee\\u6570(\\u5c48\\u6602)\", \"x\": [8, 9, 10], \"y\": [332.0, 189.0, 4.0], \"type\": \"scatter\", \"uid\": \"c6d7a053-d5cc-11e8-8ddb-a41f72875c19\"}, {\"line\": {\"dash\": \"dash\"}, \"name\": \"\\u4e0b\\u673a\\u9879\\u76ee\\u6570(\\u51b7\\u96ea)\", \"x\": [8, 9, 10], \"y\": [159.0, 358.0, 172.0], \"type\": \"scatter\", \"uid\": \"c6d7a054-d5cc-11e8-8ddb-a41f72875c19\"}, {\"line\": {\"dash\": \"longdash\"}, \"name\": \"\\u4e0b\\u673a\\u9879\\u76ee\\u6570(\\u5362\\u6960)\", \"x\": [8, 9, 10], \"y\": [96.0, 3.0, null], \"type\": \"scatter\", \"uid\": \"c6d7a055-d5cc-11e8-8ddb-a41f72875c19\"}, {\"line\": {\"dash\": \"solid\"}, \"name\": \"\\u4e0b\\u673a\\u6279\\u6b21\\u6570(\\u5f20\\u60a6)\", \"x\": [8, 9, 10], \"y\": [13.0, 4.0, 0.0], \"type\": \"scatter\", \"uid\": \"c6d7a056-d5cc-11e8-8ddb-a41f72875c19\"}, {\"line\": {\"dash\": \"dot\"}, \"name\": \"\\u4e0b\\u673a\\u6279\\u6b21\\u6570(\\u5c48\\u6602)\", \"x\": [8, 9, 10], \"y\": [395.0, 218.0, 4.0], \"type\": \"scatter\", \"uid\": \"c6d7a057-d5cc-11e8-8ddb-a41f72875c19\"}, {\"line\": {\"dash\": \"dash\"}, \"name\": \"\\u4e0b\\u673a\\u6279\\u6b21\\u6570(\\u51b7\\u96ea)\", \"x\": [8, 9, 10], \"y\": [195.0, 408.0, 198.0], \"type\": \"scatter\", \"uid\": \"c6d7a058-d5cc-11e8-8ddb-a41f72875c19\"}, {\"line\": {\"dash\": \"longdash\"}, \"name\": \"\\u4e0b\\u673a\\u6279\\u6b21\\u6570(\\u5362\\u6960)\", \"x\": [8, 9, 10], \"y\": [122.0, 5.0, null], \"type\": \"scatter\", \"uid\": \"c6d7a059-d5cc-11e8-8ddb-a41f72875c19\"}], {\"title\": \"\\u4e0b\\u673a\\u9879\\u76ee\\u6570&\\u4e0b\\u673a\\u6279\\u6b21\\u6570\\u6708\\u8d8b\\u52bf\\u56fe\", \"xaxis\": {\"mirror\": \"all\", \"nticks\": 20, \"showgrid\": true, \"showline\": true, \"title\": \"\\u6708\", \"type\": \"category\", \"zeroline\": true}, \"yaxis\": {\"mirror\": \"all\", \"nticks\": 20, \"showgrid\": true, \"showline\": true, \"title\": \"\\u4e0b\\u673a\\u9879\\u76ee\\u6570&\\u4e0b\\u673a\\u6279\\u6b21\\u6570\", \"zeroline\": true}}, {\"showLink\": true, \"linkText\": \"Export to plot.ly\"})});</script>"
      ],
      "text/vnd.plotly.v1+html": [
       "<div id=\"c578dd55-fcff-430e-bbe4-643874570177\" style=\"height: 525px; width: 100%;\" class=\"plotly-graph-div\"></div><script type=\"text/javascript\">require([\"plotly\"], function(Plotly) { window.PLOTLYENV=window.PLOTLYENV || {};window.PLOTLYENV.BASE_URL=\"https://plot.ly\";Plotly.newPlot(\"c578dd55-fcff-430e-bbe4-643874570177\", [{\"line\": {\"dash\": \"solid\"}, \"name\": \"\\u4e0b\\u673a\\u9879\\u76ee\\u6570(\\u5f20\\u60a6)\", \"x\": [8, 9, 10], \"y\": [9.0, 2.0, 0.0], \"type\": \"scatter\", \"uid\": \"c6d7a052-d5cc-11e8-8ddb-a41f72875c19\"}, {\"line\": {\"dash\": \"dot\"}, \"name\": \"\\u4e0b\\u673a\\u9879\\u76ee\\u6570(\\u5c48\\u6602)\", \"x\": [8, 9, 10], \"y\": [332.0, 189.0, 4.0], \"type\": \"scatter\", \"uid\": \"c6d7a053-d5cc-11e8-8ddb-a41f72875c19\"}, {\"line\": {\"dash\": \"dash\"}, \"name\": \"\\u4e0b\\u673a\\u9879\\u76ee\\u6570(\\u51b7\\u96ea)\", \"x\": [8, 9, 10], \"y\": [159.0, 358.0, 172.0], \"type\": \"scatter\", \"uid\": \"c6d7a054-d5cc-11e8-8ddb-a41f72875c19\"}, {\"line\": {\"dash\": \"longdash\"}, \"name\": \"\\u4e0b\\u673a\\u9879\\u76ee\\u6570(\\u5362\\u6960)\", \"x\": [8, 9, 10], \"y\": [96.0, 3.0, null], \"type\": \"scatter\", \"uid\": \"c6d7a055-d5cc-11e8-8ddb-a41f72875c19\"}, {\"line\": {\"dash\": \"solid\"}, \"name\": \"\\u4e0b\\u673a\\u6279\\u6b21\\u6570(\\u5f20\\u60a6)\", \"x\": [8, 9, 10], \"y\": [13.0, 4.0, 0.0], \"type\": \"scatter\", \"uid\": \"c6d7a056-d5cc-11e8-8ddb-a41f72875c19\"}, {\"line\": {\"dash\": \"dot\"}, \"name\": \"\\u4e0b\\u673a\\u6279\\u6b21\\u6570(\\u5c48\\u6602)\", \"x\": [8, 9, 10], \"y\": [395.0, 218.0, 4.0], \"type\": \"scatter\", \"uid\": \"c6d7a057-d5cc-11e8-8ddb-a41f72875c19\"}, {\"line\": {\"dash\": \"dash\"}, \"name\": \"\\u4e0b\\u673a\\u6279\\u6b21\\u6570(\\u51b7\\u96ea)\", \"x\": [8, 9, 10], \"y\": [195.0, 408.0, 198.0], \"type\": \"scatter\", \"uid\": \"c6d7a058-d5cc-11e8-8ddb-a41f72875c19\"}, {\"line\": {\"dash\": \"longdash\"}, \"name\": \"\\u4e0b\\u673a\\u6279\\u6b21\\u6570(\\u5362\\u6960)\", \"x\": [8, 9, 10], \"y\": [122.0, 5.0, null], \"type\": \"scatter\", \"uid\": \"c6d7a059-d5cc-11e8-8ddb-a41f72875c19\"}], {\"title\": \"\\u4e0b\\u673a\\u9879\\u76ee\\u6570&\\u4e0b\\u673a\\u6279\\u6b21\\u6570\\u6708\\u8d8b\\u52bf\\u56fe\", \"xaxis\": {\"mirror\": \"all\", \"nticks\": 20, \"showgrid\": true, \"showline\": true, \"title\": \"\\u6708\", \"type\": \"category\", \"zeroline\": true}, \"yaxis\": {\"mirror\": \"all\", \"nticks\": 20, \"showgrid\": true, \"showline\": true, \"title\": \"\\u4e0b\\u673a\\u9879\\u76ee\\u6570&\\u4e0b\\u673a\\u6279\\u6b21\\u6570\", \"zeroline\": true}}, {\"showLink\": true, \"linkText\": \"Export to plot.ly\"})});</script>"
      ]
     },
     "metadata": {},
     "output_type": "display_data"
    }
   ],
   "source": [
    "in_list = ['下机批次数' ,'下机项目数' ]\n",
    "ss = myModule.format(all_df1 ,\"日期（格式“月-周次”）\" ,in_list)\n",
    "ss.add_group('人员')\n",
    "myModule.myPlot(ss.groupby('sum')).plot('line')\n",
    "ss = myModule.format(all_df1 ,\"month\" ,in_list)\n",
    "ss.add_group('人员')\n",
    "myModule.myPlot(ss.groupby('sum')).plot('line','月')"
   ]
  },
  {
   "cell_type": "markdown",
   "metadata": {},
   "source": [
    "## 效率"
   ]
  },
  {
   "cell_type": "markdown",
   "metadata": {},
   "source": [
    "### 反馈及时率和数据及时交付率"
   ]
  },
  {
   "cell_type": "code",
   "execution_count": 23,
   "metadata": {
    "collapsed": false
   },
   "outputs": [
    {
     "data": {
      "application/vnd.plotly.v1+json": {
       "data": [
        {
         "line": {
          "dash": "solid"
         },
         "name": "数据及时交付率(张悦)",
         "type": "scatter",
         "uid": "c802d320-d5cc-11e8-8ddb-a41f72875c19",
         "x": [
          "10-2",
          "10-3",
          "8-1",
          "8-2",
          "8-3",
          "8-4",
          "8-5",
          "9-1",
          "9-2",
          "9-3",
          "9-4"
         ],
         "y": [
          1,
          1,
          1,
          1,
          1,
          1,
          1,
          1,
          null,
          null,
          1
         ]
        },
        {
         "line": {
          "dash": "dot"
         },
         "name": "数据及时交付率(屈昂)",
         "type": "scatter",
         "uid": "c802d321-d5cc-11e8-8ddb-a41f72875c19",
         "x": [
          "10-2",
          "10-3",
          "8-1",
          "8-2",
          "8-3",
          "8-4",
          "8-5",
          "9-1",
          "9-2",
          "9-3",
          "9-4"
         ],
         "y": [
          1,
          1,
          1,
          1,
          1,
          1,
          1,
          1,
          1,
          1,
          1
         ]
        },
        {
         "line": {
          "dash": "dash"
         },
         "name": "数据及时交付率(冷雪)",
         "type": "scatter",
         "uid": "c802d322-d5cc-11e8-8ddb-a41f72875c19",
         "x": [
          "10-2",
          "10-3",
          "8-1",
          "8-2",
          "8-3",
          "8-4",
          "8-5",
          "9-1",
          "9-2",
          "9-3",
          "9-4"
         ],
         "y": [
          1,
          1,
          1,
          1,
          1,
          1,
          1,
          1,
          1,
          1,
          1
         ]
        },
        {
         "line": {
          "dash": "longdash"
         },
         "name": "数据及时交付率(卢楠)",
         "type": "scatter",
         "uid": "c802d323-d5cc-11e8-8ddb-a41f72875c19",
         "x": [
          "10-2",
          "10-3",
          "8-1",
          "8-2",
          "8-3",
          "8-4",
          "8-5",
          "9-1",
          "9-2",
          "9-3",
          "9-4"
         ],
         "y": [
          null,
          null,
          1,
          1,
          1,
          1,
          1,
          1,
          1,
          null,
          1
         ]
        },
        {
         "line": {
          "dash": "solid"
         },
         "name": "反馈及时率(张悦)",
         "type": "scatter",
         "uid": "c802d324-d5cc-11e8-8ddb-a41f72875c19",
         "x": [
          "10-2",
          "10-3",
          "8-1",
          "8-2",
          "8-3",
          "8-4",
          "8-5",
          "9-1",
          "9-2",
          "9-3",
          "9-4"
         ],
         "y": [
          null,
          null,
          1,
          1,
          1,
          1,
          1,
          1,
          null,
          null,
          null
         ]
        },
        {
         "line": {
          "dash": "dot"
         },
         "name": "反馈及时率(屈昂)",
         "type": "scatter",
         "uid": "c802d325-d5cc-11e8-8ddb-a41f72875c19",
         "x": [
          "10-2",
          "10-3",
          "8-1",
          "8-2",
          "8-3",
          "8-4",
          "8-5",
          "9-1",
          "9-2",
          "9-3",
          "9-4"
         ],
         "y": [
          1,
          1,
          0.9761904761904762,
          0.972972972972973,
          0.9866666666666667,
          0.957983193277311,
          0.9176470588235294,
          0.9851851851851852,
          0.9777777777777777,
          1,
          1
         ]
        },
        {
         "line": {
          "dash": "dash"
         },
         "name": "反馈及时率(冷雪)",
         "type": "scatter",
         "uid": "c802d326-d5cc-11e8-8ddb-a41f72875c19",
         "x": [
          "10-2",
          "10-3",
          "8-1",
          "8-2",
          "8-3",
          "8-4",
          "8-5",
          "9-1",
          "9-2",
          "9-3",
          "9-4"
         ],
         "y": [
          1,
          0.9767441860465116,
          0.9210526315789473,
          0.9655172413793104,
          1,
          1,
          1,
          0.9827586206896551,
          0.8947368421052632,
          1,
          0.9937106918238994
         ]
        },
        {
         "line": {
          "dash": "longdash"
         },
         "name": "反馈及时率(卢楠)",
         "type": "scatter",
         "uid": "c802d327-d5cc-11e8-8ddb-a41f72875c19",
         "x": [
          "10-2",
          "10-3",
          "8-1",
          "8-2",
          "8-3",
          "8-4",
          "8-5",
          "9-1",
          "9-2",
          "9-3",
          "9-4"
         ],
         "y": [
          null,
          null,
          1,
          0.9574468085106383,
          0.9565217391304348,
          1,
          1,
          1,
          1,
          null,
          null
         ]
        }
       ],
       "layout": {
        "title": "数据及时交付率&反馈及时率周趋势图",
        "xaxis": {
         "mirror": "all",
         "nticks": 20,
         "showgrid": true,
         "showline": true,
         "title": "周",
         "type": "category",
         "zeroline": true
        },
        "yaxis": {
         "mirror": "all",
         "nticks": 20,
         "showgrid": true,
         "showline": true,
         "title": "数据及时交付率&反馈及时率",
         "zeroline": true
        }
       }
      },
      "text/html": [
       "<div id=\"394eaf95-ffd5-4356-bee7-3326151fd7de\" style=\"height: 525px; width: 100%;\" class=\"plotly-graph-div\"></div><script type=\"text/javascript\">require([\"plotly\"], function(Plotly) { window.PLOTLYENV=window.PLOTLYENV || {};window.PLOTLYENV.BASE_URL=\"https://plot.ly\";Plotly.newPlot(\"394eaf95-ffd5-4356-bee7-3326151fd7de\", [{\"line\": {\"dash\": \"solid\"}, \"name\": \"\\u6570\\u636e\\u53ca\\u65f6\\u4ea4\\u4ed8\\u7387(\\u5f20\\u60a6)\", \"x\": [\"10-2\", \"10-3\", \"8-1\", \"8-2\", \"8-3\", \"8-4\", \"8-5\", \"9-1\", \"9-2\", \"9-3\", \"9-4\"], \"y\": [1.0, 1.0, 1.0, 1.0, 1.0, 1.0, 1.0, 1.0, null, null, 1.0], \"type\": \"scatter\", \"uid\": \"c802d320-d5cc-11e8-8ddb-a41f72875c19\"}, {\"line\": {\"dash\": \"dot\"}, \"name\": \"\\u6570\\u636e\\u53ca\\u65f6\\u4ea4\\u4ed8\\u7387(\\u5c48\\u6602)\", \"x\": [\"10-2\", \"10-3\", \"8-1\", \"8-2\", \"8-3\", \"8-4\", \"8-5\", \"9-1\", \"9-2\", \"9-3\", \"9-4\"], \"y\": [1.0, 1.0, 1.0, 1.0, 1.0, 1.0, 1.0, 1.0, 1.0, 1.0, 1.0], \"type\": \"scatter\", \"uid\": \"c802d321-d5cc-11e8-8ddb-a41f72875c19\"}, {\"line\": {\"dash\": \"dash\"}, \"name\": \"\\u6570\\u636e\\u53ca\\u65f6\\u4ea4\\u4ed8\\u7387(\\u51b7\\u96ea)\", \"x\": [\"10-2\", \"10-3\", \"8-1\", \"8-2\", \"8-3\", \"8-4\", \"8-5\", \"9-1\", \"9-2\", \"9-3\", \"9-4\"], \"y\": [1.0, 1.0, 1.0, 1.0, 1.0, 1.0, 1.0, 1.0, 1.0, 1.0, 1.0], \"type\": \"scatter\", \"uid\": \"c802d322-d5cc-11e8-8ddb-a41f72875c19\"}, {\"line\": {\"dash\": \"longdash\"}, \"name\": \"\\u6570\\u636e\\u53ca\\u65f6\\u4ea4\\u4ed8\\u7387(\\u5362\\u6960)\", \"x\": [\"10-2\", \"10-3\", \"8-1\", \"8-2\", \"8-3\", \"8-4\", \"8-5\", \"9-1\", \"9-2\", \"9-3\", \"9-4\"], \"y\": [null, null, 1.0, 1.0, 1.0, 1.0, 1.0, 1.0, 1.0, null, 1.0], \"type\": \"scatter\", \"uid\": \"c802d323-d5cc-11e8-8ddb-a41f72875c19\"}, {\"line\": {\"dash\": \"solid\"}, \"name\": \"\\u53cd\\u9988\\u53ca\\u65f6\\u7387(\\u5f20\\u60a6)\", \"x\": [\"10-2\", \"10-3\", \"8-1\", \"8-2\", \"8-3\", \"8-4\", \"8-5\", \"9-1\", \"9-2\", \"9-3\", \"9-4\"], \"y\": [null, null, 1.0, 1.0, 1.0, 1.0, 1.0, 1.0, null, null, null], \"type\": \"scatter\", \"uid\": \"c802d324-d5cc-11e8-8ddb-a41f72875c19\"}, {\"line\": {\"dash\": \"dot\"}, \"name\": \"\\u53cd\\u9988\\u53ca\\u65f6\\u7387(\\u5c48\\u6602)\", \"x\": [\"10-2\", \"10-3\", \"8-1\", \"8-2\", \"8-3\", \"8-4\", \"8-5\", \"9-1\", \"9-2\", \"9-3\", \"9-4\"], \"y\": [1.0, 1.0, 0.9761904761904762, 0.972972972972973, 0.9866666666666667, 0.957983193277311, 0.9176470588235294, 0.9851851851851852, 0.9777777777777777, 1.0, 1.0], \"type\": \"scatter\", \"uid\": \"c802d325-d5cc-11e8-8ddb-a41f72875c19\"}, {\"line\": {\"dash\": \"dash\"}, \"name\": \"\\u53cd\\u9988\\u53ca\\u65f6\\u7387(\\u51b7\\u96ea)\", \"x\": [\"10-2\", \"10-3\", \"8-1\", \"8-2\", \"8-3\", \"8-4\", \"8-5\", \"9-1\", \"9-2\", \"9-3\", \"9-4\"], \"y\": [1.0, 0.9767441860465116, 0.9210526315789473, 0.9655172413793104, 1.0, 1.0, 1.0, 0.9827586206896551, 0.8947368421052632, 1.0, 0.9937106918238994], \"type\": \"scatter\", \"uid\": \"c802d326-d5cc-11e8-8ddb-a41f72875c19\"}, {\"line\": {\"dash\": \"longdash\"}, \"name\": \"\\u53cd\\u9988\\u53ca\\u65f6\\u7387(\\u5362\\u6960)\", \"x\": [\"10-2\", \"10-3\", \"8-1\", \"8-2\", \"8-3\", \"8-4\", \"8-5\", \"9-1\", \"9-2\", \"9-3\", \"9-4\"], \"y\": [null, null, 1.0, 0.9574468085106383, 0.9565217391304348, 1.0, 1.0, 1.0, 1.0, null, null], \"type\": \"scatter\", \"uid\": \"c802d327-d5cc-11e8-8ddb-a41f72875c19\"}], {\"title\": \"\\u6570\\u636e\\u53ca\\u65f6\\u4ea4\\u4ed8\\u7387&\\u53cd\\u9988\\u53ca\\u65f6\\u7387\\u5468\\u8d8b\\u52bf\\u56fe\", \"xaxis\": {\"mirror\": \"all\", \"nticks\": 20, \"showgrid\": true, \"showline\": true, \"title\": \"\\u5468\", \"type\": \"category\", \"zeroline\": true}, \"yaxis\": {\"mirror\": \"all\", \"nticks\": 20, \"showgrid\": true, \"showline\": true, \"title\": \"\\u6570\\u636e\\u53ca\\u65f6\\u4ea4\\u4ed8\\u7387&\\u53cd\\u9988\\u53ca\\u65f6\\u7387\", \"zeroline\": true}}, {\"showLink\": true, \"linkText\": \"Export to plot.ly\"})});</script>"
      ],
      "text/vnd.plotly.v1+html": [
       "<div id=\"394eaf95-ffd5-4356-bee7-3326151fd7de\" style=\"height: 525px; width: 100%;\" class=\"plotly-graph-div\"></div><script type=\"text/javascript\">require([\"plotly\"], function(Plotly) { window.PLOTLYENV=window.PLOTLYENV || {};window.PLOTLYENV.BASE_URL=\"https://plot.ly\";Plotly.newPlot(\"394eaf95-ffd5-4356-bee7-3326151fd7de\", [{\"line\": {\"dash\": \"solid\"}, \"name\": \"\\u6570\\u636e\\u53ca\\u65f6\\u4ea4\\u4ed8\\u7387(\\u5f20\\u60a6)\", \"x\": [\"10-2\", \"10-3\", \"8-1\", \"8-2\", \"8-3\", \"8-4\", \"8-5\", \"9-1\", \"9-2\", \"9-3\", \"9-4\"], \"y\": [1.0, 1.0, 1.0, 1.0, 1.0, 1.0, 1.0, 1.0, null, null, 1.0], \"type\": \"scatter\", \"uid\": \"c802d320-d5cc-11e8-8ddb-a41f72875c19\"}, {\"line\": {\"dash\": \"dot\"}, \"name\": \"\\u6570\\u636e\\u53ca\\u65f6\\u4ea4\\u4ed8\\u7387(\\u5c48\\u6602)\", \"x\": [\"10-2\", \"10-3\", \"8-1\", \"8-2\", \"8-3\", \"8-4\", \"8-5\", \"9-1\", \"9-2\", \"9-3\", \"9-4\"], \"y\": [1.0, 1.0, 1.0, 1.0, 1.0, 1.0, 1.0, 1.0, 1.0, 1.0, 1.0], \"type\": \"scatter\", \"uid\": \"c802d321-d5cc-11e8-8ddb-a41f72875c19\"}, {\"line\": {\"dash\": \"dash\"}, \"name\": \"\\u6570\\u636e\\u53ca\\u65f6\\u4ea4\\u4ed8\\u7387(\\u51b7\\u96ea)\", \"x\": [\"10-2\", \"10-3\", \"8-1\", \"8-2\", \"8-3\", \"8-4\", \"8-5\", \"9-1\", \"9-2\", \"9-3\", \"9-4\"], \"y\": [1.0, 1.0, 1.0, 1.0, 1.0, 1.0, 1.0, 1.0, 1.0, 1.0, 1.0], \"type\": \"scatter\", \"uid\": \"c802d322-d5cc-11e8-8ddb-a41f72875c19\"}, {\"line\": {\"dash\": \"longdash\"}, \"name\": \"\\u6570\\u636e\\u53ca\\u65f6\\u4ea4\\u4ed8\\u7387(\\u5362\\u6960)\", \"x\": [\"10-2\", \"10-3\", \"8-1\", \"8-2\", \"8-3\", \"8-4\", \"8-5\", \"9-1\", \"9-2\", \"9-3\", \"9-4\"], \"y\": [null, null, 1.0, 1.0, 1.0, 1.0, 1.0, 1.0, 1.0, null, 1.0], \"type\": \"scatter\", \"uid\": \"c802d323-d5cc-11e8-8ddb-a41f72875c19\"}, {\"line\": {\"dash\": \"solid\"}, \"name\": \"\\u53cd\\u9988\\u53ca\\u65f6\\u7387(\\u5f20\\u60a6)\", \"x\": [\"10-2\", \"10-3\", \"8-1\", \"8-2\", \"8-3\", \"8-4\", \"8-5\", \"9-1\", \"9-2\", \"9-3\", \"9-4\"], \"y\": [null, null, 1.0, 1.0, 1.0, 1.0, 1.0, 1.0, null, null, null], \"type\": \"scatter\", \"uid\": \"c802d324-d5cc-11e8-8ddb-a41f72875c19\"}, {\"line\": {\"dash\": \"dot\"}, \"name\": \"\\u53cd\\u9988\\u53ca\\u65f6\\u7387(\\u5c48\\u6602)\", \"x\": [\"10-2\", \"10-3\", \"8-1\", \"8-2\", \"8-3\", \"8-4\", \"8-5\", \"9-1\", \"9-2\", \"9-3\", \"9-4\"], \"y\": [1.0, 1.0, 0.9761904761904762, 0.972972972972973, 0.9866666666666667, 0.957983193277311, 0.9176470588235294, 0.9851851851851852, 0.9777777777777777, 1.0, 1.0], \"type\": \"scatter\", \"uid\": \"c802d325-d5cc-11e8-8ddb-a41f72875c19\"}, {\"line\": {\"dash\": \"dash\"}, \"name\": \"\\u53cd\\u9988\\u53ca\\u65f6\\u7387(\\u51b7\\u96ea)\", \"x\": [\"10-2\", \"10-3\", \"8-1\", \"8-2\", \"8-3\", \"8-4\", \"8-5\", \"9-1\", \"9-2\", \"9-3\", \"9-4\"], \"y\": [1.0, 0.9767441860465116, 0.9210526315789473, 0.9655172413793104, 1.0, 1.0, 1.0, 0.9827586206896551, 0.8947368421052632, 1.0, 0.9937106918238994], \"type\": \"scatter\", \"uid\": \"c802d326-d5cc-11e8-8ddb-a41f72875c19\"}, {\"line\": {\"dash\": \"longdash\"}, \"name\": \"\\u53cd\\u9988\\u53ca\\u65f6\\u7387(\\u5362\\u6960)\", \"x\": [\"10-2\", \"10-3\", \"8-1\", \"8-2\", \"8-3\", \"8-4\", \"8-5\", \"9-1\", \"9-2\", \"9-3\", \"9-4\"], \"y\": [null, null, 1.0, 0.9574468085106383, 0.9565217391304348, 1.0, 1.0, 1.0, 1.0, null, null], \"type\": \"scatter\", \"uid\": \"c802d327-d5cc-11e8-8ddb-a41f72875c19\"}], {\"title\": \"\\u6570\\u636e\\u53ca\\u65f6\\u4ea4\\u4ed8\\u7387&\\u53cd\\u9988\\u53ca\\u65f6\\u7387\\u5468\\u8d8b\\u52bf\\u56fe\", \"xaxis\": {\"mirror\": \"all\", \"nticks\": 20, \"showgrid\": true, \"showline\": true, \"title\": \"\\u5468\", \"type\": \"category\", \"zeroline\": true}, \"yaxis\": {\"mirror\": \"all\", \"nticks\": 20, \"showgrid\": true, \"showline\": true, \"title\": \"\\u6570\\u636e\\u53ca\\u65f6\\u4ea4\\u4ed8\\u7387&\\u53cd\\u9988\\u53ca\\u65f6\\u7387\", \"zeroline\": true}}, {\"showLink\": true, \"linkText\": \"Export to plot.ly\"})});</script>"
      ]
     },
     "metadata": {},
     "output_type": "display_data"
    },
    {
     "data": {
      "application/vnd.plotly.v1+json": {
       "data": [
        {
         "line": {
          "dash": "solid"
         },
         "name": "数据及时交付率(张悦)",
         "type": "scatter",
         "uid": "c802d328-d5cc-11e8-8ddb-a41f72875c19",
         "x": [
          8,
          9,
          10
         ],
         "y": [
          1,
          1,
          1
         ]
        },
        {
         "line": {
          "dash": "dot"
         },
         "name": "数据及时交付率(屈昂)",
         "type": "scatter",
         "uid": "c802d329-d5cc-11e8-8ddb-a41f72875c19",
         "x": [
          8,
          9,
          10
         ],
         "y": [
          1,
          1,
          1
         ]
        },
        {
         "line": {
          "dash": "dash"
         },
         "name": "数据及时交付率(冷雪)",
         "type": "scatter",
         "uid": "c802d32a-d5cc-11e8-8ddb-a41f72875c19",
         "x": [
          8,
          9,
          10
         ],
         "y": [
          1,
          1,
          1
         ]
        },
        {
         "line": {
          "dash": "longdash"
         },
         "name": "数据及时交付率(卢楠)",
         "type": "scatter",
         "uid": "c802d32b-d5cc-11e8-8ddb-a41f72875c19",
         "x": [
          8,
          9,
          10
         ],
         "y": [
          1,
          1,
          null
         ]
        },
        {
         "line": {
          "dash": "solid"
         },
         "name": "反馈及时率(张悦)",
         "type": "scatter",
         "uid": "c802d32c-d5cc-11e8-8ddb-a41f72875c19",
         "x": [
          8,
          9,
          10
         ],
         "y": [
          1,
          1,
          null
         ]
        },
        {
         "line": {
          "dash": "dot"
         },
         "name": "反馈及时率(屈昂)",
         "type": "scatter",
         "uid": "c802d32d-d5cc-11e8-8ddb-a41f72875c19",
         "x": [
          8,
          9,
          10
         ],
         "y": [
          0.959493670886076,
          0.9862385321100917,
          1
         ]
        },
        {
         "line": {
          "dash": "dash"
         },
         "name": "反馈及时率(冷雪)",
         "type": "scatter",
         "uid": "c802d32e-d5cc-11e8-8ddb-a41f72875c19",
         "x": [
          8,
          9,
          10
         ],
         "y": [
          0.9743589743589743,
          0.9754901960784313,
          0.9848484848484849
         ]
        },
        {
         "line": {
          "dash": "longdash"
         },
         "name": "反馈及时率(卢楠)",
         "type": "scatter",
         "uid": "c802d32f-d5cc-11e8-8ddb-a41f72875c19",
         "x": [
          8,
          9,
          10
         ],
         "y": [
          0.9754098360655737,
          1,
          null
         ]
        }
       ],
       "layout": {
        "title": "数据及时交付率&反馈及时率月趋势图",
        "xaxis": {
         "mirror": "all",
         "nticks": 20,
         "showgrid": true,
         "showline": true,
         "title": "月",
         "type": "category",
         "zeroline": true
        },
        "yaxis": {
         "mirror": "all",
         "nticks": 20,
         "showgrid": true,
         "showline": true,
         "title": "数据及时交付率&反馈及时率",
         "zeroline": true
        }
       }
      },
      "text/html": [
       "<div id=\"39ecd8c2-0d6b-481b-9814-8671077cf967\" style=\"height: 525px; width: 100%;\" class=\"plotly-graph-div\"></div><script type=\"text/javascript\">require([\"plotly\"], function(Plotly) { window.PLOTLYENV=window.PLOTLYENV || {};window.PLOTLYENV.BASE_URL=\"https://plot.ly\";Plotly.newPlot(\"39ecd8c2-0d6b-481b-9814-8671077cf967\", [{\"line\": {\"dash\": \"solid\"}, \"name\": \"\\u6570\\u636e\\u53ca\\u65f6\\u4ea4\\u4ed8\\u7387(\\u5f20\\u60a6)\", \"x\": [8, 9, 10], \"y\": [1.0, 1.0, 1.0], \"type\": \"scatter\", \"uid\": \"c802d328-d5cc-11e8-8ddb-a41f72875c19\"}, {\"line\": {\"dash\": \"dot\"}, \"name\": \"\\u6570\\u636e\\u53ca\\u65f6\\u4ea4\\u4ed8\\u7387(\\u5c48\\u6602)\", \"x\": [8, 9, 10], \"y\": [1.0, 1.0, 1.0], \"type\": \"scatter\", \"uid\": \"c802d329-d5cc-11e8-8ddb-a41f72875c19\"}, {\"line\": {\"dash\": \"dash\"}, \"name\": \"\\u6570\\u636e\\u53ca\\u65f6\\u4ea4\\u4ed8\\u7387(\\u51b7\\u96ea)\", \"x\": [8, 9, 10], \"y\": [1.0, 1.0, 1.0], \"type\": \"scatter\", \"uid\": \"c802d32a-d5cc-11e8-8ddb-a41f72875c19\"}, {\"line\": {\"dash\": \"longdash\"}, \"name\": \"\\u6570\\u636e\\u53ca\\u65f6\\u4ea4\\u4ed8\\u7387(\\u5362\\u6960)\", \"x\": [8, 9, 10], \"y\": [1.0, 1.0, null], \"type\": \"scatter\", \"uid\": \"c802d32b-d5cc-11e8-8ddb-a41f72875c19\"}, {\"line\": {\"dash\": \"solid\"}, \"name\": \"\\u53cd\\u9988\\u53ca\\u65f6\\u7387(\\u5f20\\u60a6)\", \"x\": [8, 9, 10], \"y\": [1.0, 1.0, null], \"type\": \"scatter\", \"uid\": \"c802d32c-d5cc-11e8-8ddb-a41f72875c19\"}, {\"line\": {\"dash\": \"dot\"}, \"name\": \"\\u53cd\\u9988\\u53ca\\u65f6\\u7387(\\u5c48\\u6602)\", \"x\": [8, 9, 10], \"y\": [0.959493670886076, 0.9862385321100917, 1.0], \"type\": \"scatter\", \"uid\": \"c802d32d-d5cc-11e8-8ddb-a41f72875c19\"}, {\"line\": {\"dash\": \"dash\"}, \"name\": \"\\u53cd\\u9988\\u53ca\\u65f6\\u7387(\\u51b7\\u96ea)\", \"x\": [8, 9, 10], \"y\": [0.9743589743589743, 0.9754901960784313, 0.9848484848484849], \"type\": \"scatter\", \"uid\": \"c802d32e-d5cc-11e8-8ddb-a41f72875c19\"}, {\"line\": {\"dash\": \"longdash\"}, \"name\": \"\\u53cd\\u9988\\u53ca\\u65f6\\u7387(\\u5362\\u6960)\", \"x\": [8, 9, 10], \"y\": [0.9754098360655737, 1.0, null], \"type\": \"scatter\", \"uid\": \"c802d32f-d5cc-11e8-8ddb-a41f72875c19\"}], {\"title\": \"\\u6570\\u636e\\u53ca\\u65f6\\u4ea4\\u4ed8\\u7387&\\u53cd\\u9988\\u53ca\\u65f6\\u7387\\u6708\\u8d8b\\u52bf\\u56fe\", \"xaxis\": {\"mirror\": \"all\", \"nticks\": 20, \"showgrid\": true, \"showline\": true, \"title\": \"\\u6708\", \"type\": \"category\", \"zeroline\": true}, \"yaxis\": {\"mirror\": \"all\", \"nticks\": 20, \"showgrid\": true, \"showline\": true, \"title\": \"\\u6570\\u636e\\u53ca\\u65f6\\u4ea4\\u4ed8\\u7387&\\u53cd\\u9988\\u53ca\\u65f6\\u7387\", \"zeroline\": true}}, {\"showLink\": true, \"linkText\": \"Export to plot.ly\"})});</script>"
      ],
      "text/vnd.plotly.v1+html": [
       "<div id=\"39ecd8c2-0d6b-481b-9814-8671077cf967\" style=\"height: 525px; width: 100%;\" class=\"plotly-graph-div\"></div><script type=\"text/javascript\">require([\"plotly\"], function(Plotly) { window.PLOTLYENV=window.PLOTLYENV || {};window.PLOTLYENV.BASE_URL=\"https://plot.ly\";Plotly.newPlot(\"39ecd8c2-0d6b-481b-9814-8671077cf967\", [{\"line\": {\"dash\": \"solid\"}, \"name\": \"\\u6570\\u636e\\u53ca\\u65f6\\u4ea4\\u4ed8\\u7387(\\u5f20\\u60a6)\", \"x\": [8, 9, 10], \"y\": [1.0, 1.0, 1.0], \"type\": \"scatter\", \"uid\": \"c802d328-d5cc-11e8-8ddb-a41f72875c19\"}, {\"line\": {\"dash\": \"dot\"}, \"name\": \"\\u6570\\u636e\\u53ca\\u65f6\\u4ea4\\u4ed8\\u7387(\\u5c48\\u6602)\", \"x\": [8, 9, 10], \"y\": [1.0, 1.0, 1.0], \"type\": \"scatter\", \"uid\": \"c802d329-d5cc-11e8-8ddb-a41f72875c19\"}, {\"line\": {\"dash\": \"dash\"}, \"name\": \"\\u6570\\u636e\\u53ca\\u65f6\\u4ea4\\u4ed8\\u7387(\\u51b7\\u96ea)\", \"x\": [8, 9, 10], \"y\": [1.0, 1.0, 1.0], \"type\": \"scatter\", \"uid\": \"c802d32a-d5cc-11e8-8ddb-a41f72875c19\"}, {\"line\": {\"dash\": \"longdash\"}, \"name\": \"\\u6570\\u636e\\u53ca\\u65f6\\u4ea4\\u4ed8\\u7387(\\u5362\\u6960)\", \"x\": [8, 9, 10], \"y\": [1.0, 1.0, null], \"type\": \"scatter\", \"uid\": \"c802d32b-d5cc-11e8-8ddb-a41f72875c19\"}, {\"line\": {\"dash\": \"solid\"}, \"name\": \"\\u53cd\\u9988\\u53ca\\u65f6\\u7387(\\u5f20\\u60a6)\", \"x\": [8, 9, 10], \"y\": [1.0, 1.0, null], \"type\": \"scatter\", \"uid\": \"c802d32c-d5cc-11e8-8ddb-a41f72875c19\"}, {\"line\": {\"dash\": \"dot\"}, \"name\": \"\\u53cd\\u9988\\u53ca\\u65f6\\u7387(\\u5c48\\u6602)\", \"x\": [8, 9, 10], \"y\": [0.959493670886076, 0.9862385321100917, 1.0], \"type\": \"scatter\", \"uid\": \"c802d32d-d5cc-11e8-8ddb-a41f72875c19\"}, {\"line\": {\"dash\": \"dash\"}, \"name\": \"\\u53cd\\u9988\\u53ca\\u65f6\\u7387(\\u51b7\\u96ea)\", \"x\": [8, 9, 10], \"y\": [0.9743589743589743, 0.9754901960784313, 0.9848484848484849], \"type\": \"scatter\", \"uid\": \"c802d32e-d5cc-11e8-8ddb-a41f72875c19\"}, {\"line\": {\"dash\": \"longdash\"}, \"name\": \"\\u53cd\\u9988\\u53ca\\u65f6\\u7387(\\u5362\\u6960)\", \"x\": [8, 9, 10], \"y\": [0.9754098360655737, 1.0, null], \"type\": \"scatter\", \"uid\": \"c802d32f-d5cc-11e8-8ddb-a41f72875c19\"}], {\"title\": \"\\u6570\\u636e\\u53ca\\u65f6\\u4ea4\\u4ed8\\u7387&\\u53cd\\u9988\\u53ca\\u65f6\\u7387\\u6708\\u8d8b\\u52bf\\u56fe\", \"xaxis\": {\"mirror\": \"all\", \"nticks\": 20, \"showgrid\": true, \"showline\": true, \"title\": \"\\u6708\", \"type\": \"category\", \"zeroline\": true}, \"yaxis\": {\"mirror\": \"all\", \"nticks\": 20, \"showgrid\": true, \"showline\": true, \"title\": \"\\u6570\\u636e\\u53ca\\u65f6\\u4ea4\\u4ed8\\u7387&\\u53cd\\u9988\\u53ca\\u65f6\\u7387\", \"zeroline\": true}}, {\"showLink\": true, \"linkText\": \"Export to plot.ly\"})});</script>"
      ]
     },
     "metadata": {},
     "output_type": "display_data"
    }
   ],
   "source": [
    "ss = myModule.format(all_df1 ,\"日期（格式“月-周次”）\" ,['及时反馈数','下机批次数','数据及时交付数','数据交付总数'])\n",
    "ss.add_group('人员')\n",
    "tt = ss.get_total_ratio([['反馈及时率','及时反馈数','下机批次数','/'],\n",
    "                       ['数据及时交付率','数据及时交付数','数据交付总数','/']])\n",
    "myModule.myPlot(tt).plot('line')\n",
    "\n",
    "ss = myModule.format(all_df1 ,\"month\" ,['及时反馈数','下机批次数','数据及时交付数','数据交付总数'])\n",
    "ss.add_group('人员')\n",
    "tt = ss.get_total_ratio([['反馈及时率','及时反馈数','下机批次数','/'],\n",
    "                       ['数据及时交付率','数据及时交付数','数据交付总数','/']])\n",
    "myModule.myPlot(tt).plot('line','月')"
   ]
  },
  {
   "cell_type": "markdown",
   "metadata": {},
   "source": [
    "### 平均反馈时长和反馈时长Q80"
   ]
  },
  {
   "cell_type": "code",
   "execution_count": 24,
   "metadata": {
    "collapsed": false
   },
   "outputs": [
    {
     "data": {
      "application/vnd.plotly.v1+json": {
       "data": [
        {
         "line": {
          "dash": "solid"
         },
         "name": "平均反馈时长(张悦)",
         "type": "scatter",
         "uid": "c802d330-d5cc-11e8-8ddb-a41f72875c19",
         "x": [
          "10-2",
          "10-3",
          "8-1",
          "8-2",
          "8-3",
          "8-4",
          "8-5",
          "9-1",
          "9-2",
          "9-3",
          "9-4"
         ],
         "y": [
          null,
          null,
          14.51,
          3.26,
          18.68,
          1.47,
          2.7600000000000002,
          5.22,
          null,
          null,
          null
         ]
        },
        {
         "line": {
          "dash": "dot"
         },
         "name": "平均反馈时长(屈昂)",
         "type": "scatter",
         "uid": "c802d331-d5cc-11e8-8ddb-a41f72875c19",
         "x": [
          "10-2",
          "10-3",
          "8-1",
          "8-2",
          "8-3",
          "8-4",
          "8-5",
          "9-1",
          "9-2",
          "9-3",
          "9-4"
         ],
         "y": [
          3.94,
          8.766666666666667,
          5.95,
          4.49,
          4.5,
          5.37,
          7.139294117647059,
          9.77,
          6.688,
          3.6300000000000003,
          2.73
         ]
        },
        {
         "line": {
          "dash": "dash"
         },
         "name": "平均反馈时长(冷雪)",
         "type": "scatter",
         "uid": "c802d332-d5cc-11e8-8ddb-a41f72875c19",
         "x": [
          "10-2",
          "10-3",
          "8-1",
          "8-2",
          "8-3",
          "8-4",
          "8-5",
          "9-1",
          "9-2",
          "9-3",
          "9-4"
         ],
         "y": [
          2.78,
          4.016976744186047,
          7.090000000000001,
          3.9827586206896552,
          4.95,
          3.38,
          3.69,
          9.81,
          7.658947368421053,
          3.6,
          3.2600000000000002
         ]
        },
        {
         "line": {
          "dash": "longdash"
         },
         "name": "平均反馈时长(卢楠)",
         "type": "scatter",
         "uid": "c802d333-d5cc-11e8-8ddb-a41f72875c19",
         "x": [
          "10-2",
          "10-3",
          "8-1",
          "8-2",
          "8-3",
          "8-4",
          "8-5",
          "9-1",
          "9-2",
          "9-3",
          "9-4"
         ],
         "y": [
          null,
          null,
          5.77,
          5,
          8.6,
          5.199999999999999,
          1.7300000000000002,
          7.2,
          14.409999999999998,
          null,
          null
         ]
        },
        {
         "line": {
          "dash": "solid"
         },
         "name": "反馈时长Q80(张悦)",
         "type": "scatter",
         "uid": "c802d334-d5cc-11e8-8ddb-a41f72875c19",
         "x": [
          "10-2",
          "10-3",
          "8-1",
          "8-2",
          "8-3",
          "8-4",
          "8-5",
          "9-1",
          "9-2",
          "9-3",
          "9-4"
         ],
         "y": [
          0,
          0,
          5.54,
          2.28,
          18.68,
          1.47,
          2.11,
          3.31,
          0,
          0,
          0
         ]
        },
        {
         "line": {
          "dash": "dot"
         },
         "name": "反馈时长Q80(屈昂)",
         "type": "scatter",
         "uid": "c802d335-d5cc-11e8-8ddb-a41f72875c19",
         "x": [
          "10-2",
          "10-3",
          "8-1",
          "8-2",
          "8-3",
          "8-4",
          "8-5",
          "9-1",
          "9-2",
          "9-3",
          "9-4"
         ],
         "y": [
          3.94,
          10.47,
          5.79,
          5.35,
          5.31,
          5.19,
          11.12,
          16,
          9.89,
          3.92,
          2.71
         ]
        },
        {
         "line": {
          "dash": "dash"
         },
         "name": "反馈时长Q80(冷雪)",
         "type": "scatter",
         "uid": "c802d336-d5cc-11e8-8ddb-a41f72875c19",
         "x": [
          "10-2",
          "10-3",
          "8-1",
          "8-2",
          "8-3",
          "8-4",
          "8-5",
          "9-1",
          "9-2",
          "9-3",
          "9-4"
         ],
         "y": [
          4,
          4.79,
          7.59,
          4.66,
          5.63,
          3.23,
          6.49,
          13.99,
          10.5,
          3.83,
          3.99
         ]
        },
        {
         "line": {
          "dash": "longdash"
         },
         "name": "反馈时长Q80(卢楠)",
         "type": "scatter",
         "uid": "c802d337-d5cc-11e8-8ddb-a41f72875c19",
         "x": [
          "10-2",
          "10-3",
          "8-1",
          "8-2",
          "8-3",
          "8-4",
          "8-5",
          "9-1",
          "9-2",
          "9-3",
          "9-4"
         ],
         "y": [
          null,
          null,
          7.58,
          4.61,
          18.53,
          5.89,
          1.85,
          2.18,
          15.12,
          0,
          0
         ]
        }
       ],
       "layout": {
        "title": "平均反馈时长&反馈时长Q80周趋势图",
        "xaxis": {
         "mirror": "all",
         "nticks": 20,
         "showgrid": true,
         "showline": true,
         "title": "周",
         "type": "category",
         "zeroline": true
        },
        "yaxis": {
         "mirror": "all",
         "nticks": 20,
         "showgrid": true,
         "showline": true,
         "title": "平均反馈时长&反馈时长Q80",
         "zeroline": true
        }
       }
      },
      "text/html": [
       "<div id=\"d50d021d-503b-45d4-a1fb-9f4d4bdc3181\" style=\"height: 525px; width: 100%;\" class=\"plotly-graph-div\"></div><script type=\"text/javascript\">require([\"plotly\"], function(Plotly) { window.PLOTLYENV=window.PLOTLYENV || {};window.PLOTLYENV.BASE_URL=\"https://plot.ly\";Plotly.newPlot(\"d50d021d-503b-45d4-a1fb-9f4d4bdc3181\", [{\"line\": {\"dash\": \"solid\"}, \"name\": \"\\u5e73\\u5747\\u53cd\\u9988\\u65f6\\u957f(\\u5f20\\u60a6)\", \"x\": [\"10-2\", \"10-3\", \"8-1\", \"8-2\", \"8-3\", \"8-4\", \"8-5\", \"9-1\", \"9-2\", \"9-3\", \"9-4\"], \"y\": [null, null, 14.51, 3.26, 18.68, 1.47, 2.7600000000000002, 5.22, null, null, null], \"type\": \"scatter\", \"uid\": \"c802d330-d5cc-11e8-8ddb-a41f72875c19\"}, {\"line\": {\"dash\": \"dot\"}, \"name\": \"\\u5e73\\u5747\\u53cd\\u9988\\u65f6\\u957f(\\u5c48\\u6602)\", \"x\": [\"10-2\", \"10-3\", \"8-1\", \"8-2\", \"8-3\", \"8-4\", \"8-5\", \"9-1\", \"9-2\", \"9-3\", \"9-4\"], \"y\": [3.94, 8.766666666666667, 5.95, 4.49, 4.5, 5.37, 7.139294117647059, 9.77, 6.688, 3.6300000000000003, 2.73], \"type\": \"scatter\", \"uid\": \"c802d331-d5cc-11e8-8ddb-a41f72875c19\"}, {\"line\": {\"dash\": \"dash\"}, \"name\": \"\\u5e73\\u5747\\u53cd\\u9988\\u65f6\\u957f(\\u51b7\\u96ea)\", \"x\": [\"10-2\", \"10-3\", \"8-1\", \"8-2\", \"8-3\", \"8-4\", \"8-5\", \"9-1\", \"9-2\", \"9-3\", \"9-4\"], \"y\": [2.78, 4.016976744186047, 7.090000000000001, 3.9827586206896552, 4.95, 3.38, 3.69, 9.81, 7.658947368421053, 3.6, 3.2600000000000002], \"type\": \"scatter\", \"uid\": \"c802d332-d5cc-11e8-8ddb-a41f72875c19\"}, {\"line\": {\"dash\": \"longdash\"}, \"name\": \"\\u5e73\\u5747\\u53cd\\u9988\\u65f6\\u957f(\\u5362\\u6960)\", \"x\": [\"10-2\", \"10-3\", \"8-1\", \"8-2\", \"8-3\", \"8-4\", \"8-5\", \"9-1\", \"9-2\", \"9-3\", \"9-4\"], \"y\": [null, null, 5.77, 5.0, 8.6, 5.199999999999999, 1.7300000000000002, 7.2, 14.409999999999998, null, null], \"type\": \"scatter\", \"uid\": \"c802d333-d5cc-11e8-8ddb-a41f72875c19\"}, {\"line\": {\"dash\": \"solid\"}, \"name\": \"\\u53cd\\u9988\\u65f6\\u957fQ80(\\u5f20\\u60a6)\", \"x\": [\"10-2\", \"10-3\", \"8-1\", \"8-2\", \"8-3\", \"8-4\", \"8-5\", \"9-1\", \"9-2\", \"9-3\", \"9-4\"], \"y\": [0.0, 0.0, 5.54, 2.28, 18.68, 1.47, 2.11, 3.31, 0.0, 0.0, 0.0], \"type\": \"scatter\", \"uid\": \"c802d334-d5cc-11e8-8ddb-a41f72875c19\"}, {\"line\": {\"dash\": \"dot\"}, \"name\": \"\\u53cd\\u9988\\u65f6\\u957fQ80(\\u5c48\\u6602)\", \"x\": [\"10-2\", \"10-3\", \"8-1\", \"8-2\", \"8-3\", \"8-4\", \"8-5\", \"9-1\", \"9-2\", \"9-3\", \"9-4\"], \"y\": [3.94, 10.47, 5.79, 5.35, 5.31, 5.19, 11.12, 16.0, 9.89, 3.92, 2.71], \"type\": \"scatter\", \"uid\": \"c802d335-d5cc-11e8-8ddb-a41f72875c19\"}, {\"line\": {\"dash\": \"dash\"}, \"name\": \"\\u53cd\\u9988\\u65f6\\u957fQ80(\\u51b7\\u96ea)\", \"x\": [\"10-2\", \"10-3\", \"8-1\", \"8-2\", \"8-3\", \"8-4\", \"8-5\", \"9-1\", \"9-2\", \"9-3\", \"9-4\"], \"y\": [4.0, 4.79, 7.59, 4.66, 5.63, 3.23, 6.49, 13.99, 10.5, 3.83, 3.99], \"type\": \"scatter\", \"uid\": \"c802d336-d5cc-11e8-8ddb-a41f72875c19\"}, {\"line\": {\"dash\": \"longdash\"}, \"name\": \"\\u53cd\\u9988\\u65f6\\u957fQ80(\\u5362\\u6960)\", \"x\": [\"10-2\", \"10-3\", \"8-1\", \"8-2\", \"8-3\", \"8-4\", \"8-5\", \"9-1\", \"9-2\", \"9-3\", \"9-4\"], \"y\": [null, null, 7.58, 4.61, 18.53, 5.89, 1.85, 2.18, 15.12, 0.0, 0.0], \"type\": \"scatter\", \"uid\": \"c802d337-d5cc-11e8-8ddb-a41f72875c19\"}], {\"title\": \"\\u5e73\\u5747\\u53cd\\u9988\\u65f6\\u957f&\\u53cd\\u9988\\u65f6\\u957fQ80\\u5468\\u8d8b\\u52bf\\u56fe\", \"xaxis\": {\"mirror\": \"all\", \"nticks\": 20, \"showgrid\": true, \"showline\": true, \"title\": \"\\u5468\", \"type\": \"category\", \"zeroline\": true}, \"yaxis\": {\"mirror\": \"all\", \"nticks\": 20, \"showgrid\": true, \"showline\": true, \"title\": \"\\u5e73\\u5747\\u53cd\\u9988\\u65f6\\u957f&\\u53cd\\u9988\\u65f6\\u957fQ80\", \"zeroline\": true}}, {\"showLink\": true, \"linkText\": \"Export to plot.ly\"})});</script>"
      ],
      "text/vnd.plotly.v1+html": [
       "<div id=\"d50d021d-503b-45d4-a1fb-9f4d4bdc3181\" style=\"height: 525px; width: 100%;\" class=\"plotly-graph-div\"></div><script type=\"text/javascript\">require([\"plotly\"], function(Plotly) { window.PLOTLYENV=window.PLOTLYENV || {};window.PLOTLYENV.BASE_URL=\"https://plot.ly\";Plotly.newPlot(\"d50d021d-503b-45d4-a1fb-9f4d4bdc3181\", [{\"line\": {\"dash\": \"solid\"}, \"name\": \"\\u5e73\\u5747\\u53cd\\u9988\\u65f6\\u957f(\\u5f20\\u60a6)\", \"x\": [\"10-2\", \"10-3\", \"8-1\", \"8-2\", \"8-3\", \"8-4\", \"8-5\", \"9-1\", \"9-2\", \"9-3\", \"9-4\"], \"y\": [null, null, 14.51, 3.26, 18.68, 1.47, 2.7600000000000002, 5.22, null, null, null], \"type\": \"scatter\", \"uid\": \"c802d330-d5cc-11e8-8ddb-a41f72875c19\"}, {\"line\": {\"dash\": \"dot\"}, \"name\": \"\\u5e73\\u5747\\u53cd\\u9988\\u65f6\\u957f(\\u5c48\\u6602)\", \"x\": [\"10-2\", \"10-3\", \"8-1\", \"8-2\", \"8-3\", \"8-4\", \"8-5\", \"9-1\", \"9-2\", \"9-3\", \"9-4\"], \"y\": [3.94, 8.766666666666667, 5.95, 4.49, 4.5, 5.37, 7.139294117647059, 9.77, 6.688, 3.6300000000000003, 2.73], \"type\": \"scatter\", \"uid\": \"c802d331-d5cc-11e8-8ddb-a41f72875c19\"}, {\"line\": {\"dash\": \"dash\"}, \"name\": \"\\u5e73\\u5747\\u53cd\\u9988\\u65f6\\u957f(\\u51b7\\u96ea)\", \"x\": [\"10-2\", \"10-3\", \"8-1\", \"8-2\", \"8-3\", \"8-4\", \"8-5\", \"9-1\", \"9-2\", \"9-3\", \"9-4\"], \"y\": [2.78, 4.016976744186047, 7.090000000000001, 3.9827586206896552, 4.95, 3.38, 3.69, 9.81, 7.658947368421053, 3.6, 3.2600000000000002], \"type\": \"scatter\", \"uid\": \"c802d332-d5cc-11e8-8ddb-a41f72875c19\"}, {\"line\": {\"dash\": \"longdash\"}, \"name\": \"\\u5e73\\u5747\\u53cd\\u9988\\u65f6\\u957f(\\u5362\\u6960)\", \"x\": [\"10-2\", \"10-3\", \"8-1\", \"8-2\", \"8-3\", \"8-4\", \"8-5\", \"9-1\", \"9-2\", \"9-3\", \"9-4\"], \"y\": [null, null, 5.77, 5.0, 8.6, 5.199999999999999, 1.7300000000000002, 7.2, 14.409999999999998, null, null], \"type\": \"scatter\", \"uid\": \"c802d333-d5cc-11e8-8ddb-a41f72875c19\"}, {\"line\": {\"dash\": \"solid\"}, \"name\": \"\\u53cd\\u9988\\u65f6\\u957fQ80(\\u5f20\\u60a6)\", \"x\": [\"10-2\", \"10-3\", \"8-1\", \"8-2\", \"8-3\", \"8-4\", \"8-5\", \"9-1\", \"9-2\", \"9-3\", \"9-4\"], \"y\": [0.0, 0.0, 5.54, 2.28, 18.68, 1.47, 2.11, 3.31, 0.0, 0.0, 0.0], \"type\": \"scatter\", \"uid\": \"c802d334-d5cc-11e8-8ddb-a41f72875c19\"}, {\"line\": {\"dash\": \"dot\"}, \"name\": \"\\u53cd\\u9988\\u65f6\\u957fQ80(\\u5c48\\u6602)\", \"x\": [\"10-2\", \"10-3\", \"8-1\", \"8-2\", \"8-3\", \"8-4\", \"8-5\", \"9-1\", \"9-2\", \"9-3\", \"9-4\"], \"y\": [3.94, 10.47, 5.79, 5.35, 5.31, 5.19, 11.12, 16.0, 9.89, 3.92, 2.71], \"type\": \"scatter\", \"uid\": \"c802d335-d5cc-11e8-8ddb-a41f72875c19\"}, {\"line\": {\"dash\": \"dash\"}, \"name\": \"\\u53cd\\u9988\\u65f6\\u957fQ80(\\u51b7\\u96ea)\", \"x\": [\"10-2\", \"10-3\", \"8-1\", \"8-2\", \"8-3\", \"8-4\", \"8-5\", \"9-1\", \"9-2\", \"9-3\", \"9-4\"], \"y\": [4.0, 4.79, 7.59, 4.66, 5.63, 3.23, 6.49, 13.99, 10.5, 3.83, 3.99], \"type\": \"scatter\", \"uid\": \"c802d336-d5cc-11e8-8ddb-a41f72875c19\"}, {\"line\": {\"dash\": \"longdash\"}, \"name\": \"\\u53cd\\u9988\\u65f6\\u957fQ80(\\u5362\\u6960)\", \"x\": [\"10-2\", \"10-3\", \"8-1\", \"8-2\", \"8-3\", \"8-4\", \"8-5\", \"9-1\", \"9-2\", \"9-3\", \"9-4\"], \"y\": [null, null, 7.58, 4.61, 18.53, 5.89, 1.85, 2.18, 15.12, 0.0, 0.0], \"type\": \"scatter\", \"uid\": \"c802d337-d5cc-11e8-8ddb-a41f72875c19\"}], {\"title\": \"\\u5e73\\u5747\\u53cd\\u9988\\u65f6\\u957f&\\u53cd\\u9988\\u65f6\\u957fQ80\\u5468\\u8d8b\\u52bf\\u56fe\", \"xaxis\": {\"mirror\": \"all\", \"nticks\": 20, \"showgrid\": true, \"showline\": true, \"title\": \"\\u5468\", \"type\": \"category\", \"zeroline\": true}, \"yaxis\": {\"mirror\": \"all\", \"nticks\": 20, \"showgrid\": true, \"showline\": true, \"title\": \"\\u5e73\\u5747\\u53cd\\u9988\\u65f6\\u957f&\\u53cd\\u9988\\u65f6\\u957fQ80\", \"zeroline\": true}}, {\"showLink\": true, \"linkText\": \"Export to plot.ly\"})});</script>"
      ]
     },
     "metadata": {},
     "output_type": "display_data"
    },
    {
     "data": {
      "application/vnd.plotly.v1+json": {
       "data": [
        {
         "line": {
          "dash": "solid"
         },
         "name": "平均反馈时长(张悦)",
         "type": "scatter",
         "uid": "c802d338-d5cc-11e8-8ddb-a41f72875c19",
         "x": [
          8,
          9,
          10
         ],
         "y": [
          5.7700000000000005,
          5.22,
          null
         ]
        },
        {
         "line": {
          "dash": "dot"
         },
         "name": "平均反馈时长(屈昂)",
         "type": "scatter",
         "uid": "c802d339-d5cc-11e8-8ddb-a41f72875c19",
         "x": [
          8,
          9,
          10
         ],
         "y": [
          5.482354430379746,
          7.993348623853212,
          7.5600000000000005
         ]
        },
        {
         "line": {
          "dash": "dash"
         },
         "name": "平均反馈时长(冷雪)",
         "type": "scatter",
         "uid": "c802d33a-d5cc-11e8-8ddb-a41f72875c19",
         "x": [
          8,
          9,
          10
         ],
         "y": [
          4.821589743589744,
          5.106372549019608,
          3.585909090909091
         ]
        },
        {
         "line": {
          "dash": "longdash"
         },
         "name": "平均反馈时长(卢楠)",
         "type": "scatter",
         "uid": "c802d33b-d5cc-11e8-8ddb-a41f72875c19",
         "x": [
          8,
          9,
          10
         ],
         "y": [
          5.846803278688524,
          11.526,
          null
         ]
        },
        {
         "line": {
          "dash": "solid"
         },
         "name": "反馈时长Q80(张悦)",
         "type": "scatter",
         "uid": "c802d33c-d5cc-11e8-8ddb-a41f72875c19",
         "x": [
          8,
          9,
          10
         ],
         "y": [
          30.08,
          3.31,
          0
         ]
        },
        {
         "line": {
          "dash": "dot"
         },
         "name": "反馈时长Q80(屈昂)",
         "type": "scatter",
         "uid": "c802d33d-d5cc-11e8-8ddb-a41f72875c19",
         "x": [
          8,
          9,
          10
         ],
         "y": [
          32.76,
          32.52,
          14.41
         ]
        },
        {
         "line": {
          "dash": "dash"
         },
         "name": "反馈时长Q80(冷雪)",
         "type": "scatter",
         "uid": "c802d33e-d5cc-11e8-8ddb-a41f72875c19",
         "x": [
          8,
          9,
          10
         ],
         "y": [
          27.599999999999998,
          32.31,
          8.79
         ]
        },
        {
         "line": {
          "dash": "longdash"
         },
         "name": "反馈时长Q80(卢楠)",
         "type": "scatter",
         "uid": "c802d33f-d5cc-11e8-8ddb-a41f72875c19",
         "x": [
          8,
          9,
          10
         ],
         "y": [
          38.46,
          17.3,
          null
         ]
        }
       ],
       "layout": {
        "title": "平均反馈时长&反馈时长Q80月趋势图",
        "xaxis": {
         "mirror": "all",
         "nticks": 20,
         "showgrid": true,
         "showline": true,
         "title": "月",
         "type": "category",
         "zeroline": true
        },
        "yaxis": {
         "mirror": "all",
         "nticks": 20,
         "showgrid": true,
         "showline": true,
         "title": "平均反馈时长&反馈时长Q80",
         "zeroline": true
        }
       }
      },
      "text/html": [
       "<div id=\"1216a30a-461a-4f21-8753-497d23724571\" style=\"height: 525px; width: 100%;\" class=\"plotly-graph-div\"></div><script type=\"text/javascript\">require([\"plotly\"], function(Plotly) { window.PLOTLYENV=window.PLOTLYENV || {};window.PLOTLYENV.BASE_URL=\"https://plot.ly\";Plotly.newPlot(\"1216a30a-461a-4f21-8753-497d23724571\", [{\"line\": {\"dash\": \"solid\"}, \"name\": \"\\u5e73\\u5747\\u53cd\\u9988\\u65f6\\u957f(\\u5f20\\u60a6)\", \"x\": [8, 9, 10], \"y\": [5.7700000000000005, 5.22, null], \"type\": \"scatter\", \"uid\": \"c802d338-d5cc-11e8-8ddb-a41f72875c19\"}, {\"line\": {\"dash\": \"dot\"}, \"name\": \"\\u5e73\\u5747\\u53cd\\u9988\\u65f6\\u957f(\\u5c48\\u6602)\", \"x\": [8, 9, 10], \"y\": [5.482354430379746, 7.993348623853212, 7.5600000000000005], \"type\": \"scatter\", \"uid\": \"c802d339-d5cc-11e8-8ddb-a41f72875c19\"}, {\"line\": {\"dash\": \"dash\"}, \"name\": \"\\u5e73\\u5747\\u53cd\\u9988\\u65f6\\u957f(\\u51b7\\u96ea)\", \"x\": [8, 9, 10], \"y\": [4.821589743589744, 5.106372549019608, 3.585909090909091], \"type\": \"scatter\", \"uid\": \"c802d33a-d5cc-11e8-8ddb-a41f72875c19\"}, {\"line\": {\"dash\": \"longdash\"}, \"name\": \"\\u5e73\\u5747\\u53cd\\u9988\\u65f6\\u957f(\\u5362\\u6960)\", \"x\": [8, 9, 10], \"y\": [5.846803278688524, 11.526, null], \"type\": \"scatter\", \"uid\": \"c802d33b-d5cc-11e8-8ddb-a41f72875c19\"}, {\"line\": {\"dash\": \"solid\"}, \"name\": \"\\u53cd\\u9988\\u65f6\\u957fQ80(\\u5f20\\u60a6)\", \"x\": [8, 9, 10], \"y\": [30.08, 3.31, 0.0], \"type\": \"scatter\", \"uid\": \"c802d33c-d5cc-11e8-8ddb-a41f72875c19\"}, {\"line\": {\"dash\": \"dot\"}, \"name\": \"\\u53cd\\u9988\\u65f6\\u957fQ80(\\u5c48\\u6602)\", \"x\": [8, 9, 10], \"y\": [32.76, 32.52, 14.41], \"type\": \"scatter\", \"uid\": \"c802d33d-d5cc-11e8-8ddb-a41f72875c19\"}, {\"line\": {\"dash\": \"dash\"}, \"name\": \"\\u53cd\\u9988\\u65f6\\u957fQ80(\\u51b7\\u96ea)\", \"x\": [8, 9, 10], \"y\": [27.599999999999998, 32.31, 8.79], \"type\": \"scatter\", \"uid\": \"c802d33e-d5cc-11e8-8ddb-a41f72875c19\"}, {\"line\": {\"dash\": \"longdash\"}, \"name\": \"\\u53cd\\u9988\\u65f6\\u957fQ80(\\u5362\\u6960)\", \"x\": [8, 9, 10], \"y\": [38.46, 17.3, null], \"type\": \"scatter\", \"uid\": \"c802d33f-d5cc-11e8-8ddb-a41f72875c19\"}], {\"title\": \"\\u5e73\\u5747\\u53cd\\u9988\\u65f6\\u957f&\\u53cd\\u9988\\u65f6\\u957fQ80\\u6708\\u8d8b\\u52bf\\u56fe\", \"xaxis\": {\"mirror\": \"all\", \"nticks\": 20, \"showgrid\": true, \"showline\": true, \"title\": \"\\u6708\", \"type\": \"category\", \"zeroline\": true}, \"yaxis\": {\"mirror\": \"all\", \"nticks\": 20, \"showgrid\": true, \"showline\": true, \"title\": \"\\u5e73\\u5747\\u53cd\\u9988\\u65f6\\u957f&\\u53cd\\u9988\\u65f6\\u957fQ80\", \"zeroline\": true}}, {\"showLink\": true, \"linkText\": \"Export to plot.ly\"})});</script>"
      ],
      "text/vnd.plotly.v1+html": [
       "<div id=\"1216a30a-461a-4f21-8753-497d23724571\" style=\"height: 525px; width: 100%;\" class=\"plotly-graph-div\"></div><script type=\"text/javascript\">require([\"plotly\"], function(Plotly) { window.PLOTLYENV=window.PLOTLYENV || {};window.PLOTLYENV.BASE_URL=\"https://plot.ly\";Plotly.newPlot(\"1216a30a-461a-4f21-8753-497d23724571\", [{\"line\": {\"dash\": \"solid\"}, \"name\": \"\\u5e73\\u5747\\u53cd\\u9988\\u65f6\\u957f(\\u5f20\\u60a6)\", \"x\": [8, 9, 10], \"y\": [5.7700000000000005, 5.22, null], \"type\": \"scatter\", \"uid\": \"c802d338-d5cc-11e8-8ddb-a41f72875c19\"}, {\"line\": {\"dash\": \"dot\"}, \"name\": \"\\u5e73\\u5747\\u53cd\\u9988\\u65f6\\u957f(\\u5c48\\u6602)\", \"x\": [8, 9, 10], \"y\": [5.482354430379746, 7.993348623853212, 7.5600000000000005], \"type\": \"scatter\", \"uid\": \"c802d339-d5cc-11e8-8ddb-a41f72875c19\"}, {\"line\": {\"dash\": \"dash\"}, \"name\": \"\\u5e73\\u5747\\u53cd\\u9988\\u65f6\\u957f(\\u51b7\\u96ea)\", \"x\": [8, 9, 10], \"y\": [4.821589743589744, 5.106372549019608, 3.585909090909091], \"type\": \"scatter\", \"uid\": \"c802d33a-d5cc-11e8-8ddb-a41f72875c19\"}, {\"line\": {\"dash\": \"longdash\"}, \"name\": \"\\u5e73\\u5747\\u53cd\\u9988\\u65f6\\u957f(\\u5362\\u6960)\", \"x\": [8, 9, 10], \"y\": [5.846803278688524, 11.526, null], \"type\": \"scatter\", \"uid\": \"c802d33b-d5cc-11e8-8ddb-a41f72875c19\"}, {\"line\": {\"dash\": \"solid\"}, \"name\": \"\\u53cd\\u9988\\u65f6\\u957fQ80(\\u5f20\\u60a6)\", \"x\": [8, 9, 10], \"y\": [30.08, 3.31, 0.0], \"type\": \"scatter\", \"uid\": \"c802d33c-d5cc-11e8-8ddb-a41f72875c19\"}, {\"line\": {\"dash\": \"dot\"}, \"name\": \"\\u53cd\\u9988\\u65f6\\u957fQ80(\\u5c48\\u6602)\", \"x\": [8, 9, 10], \"y\": [32.76, 32.52, 14.41], \"type\": \"scatter\", \"uid\": \"c802d33d-d5cc-11e8-8ddb-a41f72875c19\"}, {\"line\": {\"dash\": \"dash\"}, \"name\": \"\\u53cd\\u9988\\u65f6\\u957fQ80(\\u51b7\\u96ea)\", \"x\": [8, 9, 10], \"y\": [27.599999999999998, 32.31, 8.79], \"type\": \"scatter\", \"uid\": \"c802d33e-d5cc-11e8-8ddb-a41f72875c19\"}, {\"line\": {\"dash\": \"longdash\"}, \"name\": \"\\u53cd\\u9988\\u65f6\\u957fQ80(\\u5362\\u6960)\", \"x\": [8, 9, 10], \"y\": [38.46, 17.3, null], \"type\": \"scatter\", \"uid\": \"c802d33f-d5cc-11e8-8ddb-a41f72875c19\"}], {\"title\": \"\\u5e73\\u5747\\u53cd\\u9988\\u65f6\\u957f&\\u53cd\\u9988\\u65f6\\u957fQ80\\u6708\\u8d8b\\u52bf\\u56fe\", \"xaxis\": {\"mirror\": \"all\", \"nticks\": 20, \"showgrid\": true, \"showline\": true, \"title\": \"\\u6708\", \"type\": \"category\", \"zeroline\": true}, \"yaxis\": {\"mirror\": \"all\", \"nticks\": 20, \"showgrid\": true, \"showline\": true, \"title\": \"\\u5e73\\u5747\\u53cd\\u9988\\u65f6\\u957f&\\u53cd\\u9988\\u65f6\\u957fQ80\", \"zeroline\": true}}, {\"showLink\": true, \"linkText\": \"Export to plot.ly\"})});</script>"
      ]
     },
     "metadata": {},
     "output_type": "display_data"
    }
   ],
   "source": [
    "ss = myModule.format(all_df1 ,\"日期（格式“月-周次”）\" ,['反馈总时长','下机批次数','反馈时长Q80'])\n",
    "ss.add_group('人员')\n",
    "tt = ss.get_total_ratio([['平均反馈时长','反馈总时长','下机批次数','/']] , ['反馈时长Q80'])\n",
    "myModule.myPlot(tt).plot('line')\n",
    "\n",
    "ss = myModule.format(all_df1 ,\"month\" ,['反馈总时长','下机批次数','反馈时长Q80'])\n",
    "ss.add_group('人员')\n",
    "tt = ss.get_total_ratio([['平均反馈时长','反馈总时长','下机批次数','/']] , ['反馈时长Q80'])\n",
    "myModule.myPlot(tt).plot('line','月')"
   ]
  },
  {
   "cell_type": "code",
   "execution_count": null,
   "metadata": {
    "collapsed": true
   },
   "outputs": [],
   "source": []
  }
 ],
 "metadata": {
  "celltoolbar": "Raw Cell Format",
  "hide_input": false,
  "kernelspec": {
   "display_name": "Python 3",
   "language": "python",
   "name": "python3"
  },
  "language_info": {
   "codemirror_mode": {
    "name": "ipython",
    "version": 3
   },
   "file_extension": ".py",
   "mimetype": "text/x-python",
   "name": "python",
   "nbconvert_exporter": "python",
   "pygments_lexer": "ipython3",
   "version": "3.6.0"
  },
  "toc": {
   "base_numbering": 1,
   "nav_menu": {},
   "number_sections": true,
   "sideBar": true,
   "skip_h1_title": false,
   "title_cell": "Table of Contents",
   "title_sidebar": "Contents",
   "toc_cell": false,
   "toc_position": {
    "height": "513.333px",
    "left": "419px",
    "top": "110.926px",
    "width": "225.023px"
   },
   "toc_section_display": true,
   "toc_window_display": true
  }
 },
 "nbformat": 4,
 "nbformat_minor": 2
}
