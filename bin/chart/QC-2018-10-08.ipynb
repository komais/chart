{
 "cells": [
  {
   "cell_type": "code",
   "execution_count": 117,
   "metadata": {
    "collapsed": false,
    "hide_input": false
   },
   "outputs": [
    {
     "name": "stdout",
     "output_type": "stream",
     "text": [
      "The autoreload extension is already loaded. To reload it, use:\n",
      "  %reload_ext autoreload\n"
     ]
    }
   ],
   "source": [
    "%load_ext autoreload\n",
    "%autoreload 2\n",
    "import sys\n",
    "sys.path.append('./')\n",
    "import myModule\n",
    "import pandas as pd "
   ]
  },
  {
   "cell_type": "code",
   "execution_count": 118,
   "metadata": {
    "collapsed": false
   },
   "outputs": [
    {
     "data": {
      "text/html": [
       "<script>requirejs.config({paths: { 'plotly': ['https://cdn.plot.ly/plotly-latest.min']},});if(!window.Plotly) {{require(['plotly'],function(plotly) {window.Plotly=plotly;});}}</script>"
      ],
      "text/vnd.plotly.v1+html": [
       "<script>requirejs.config({paths: { 'plotly': ['https://cdn.plot.ly/plotly-latest.min']},});if(!window.Plotly) {{require(['plotly'],function(plotly) {window.Plotly=plotly;});}}</script>"
      ]
     },
     "metadata": {},
     "output_type": "display_data"
    },
    {
     "data": {
      "text/plain": [
       "<module 'myModule' from '/home/jiankong/jupyter/chart/bin/chart/myModule.py'>"
      ]
     },
     "execution_count": 118,
     "metadata": {},
     "output_type": "execute_result"
    }
   ],
   "source": [
    "import imp\n",
    "imp.reload(myModule)"
   ]
  },
  {
   "cell_type": "code",
   "execution_count": 119,
   "metadata": {
    "collapsed": false
   },
   "outputs": [],
   "source": [
    "import os\n",
    "bindir = os.path.dirname(os.getcwd())\n",
    "pathway = bindir + '/../data/QC/'\n",
    "all_files , title = myModule.get_title(pathway , 0)##给路径\n",
    "all_df1 = myModule.read_xlsx(all_files, 0 ) ## read all files\n",
    "#data_dict = {'下机批次比':['下机批次数','下机项目数']}\n",
    "\n",
    "all_df2 = myModule.read_xlsx(all_files , 1 )\n"
   ]
  },
  {
   "cell_type": "code",
   "execution_count": 120,
   "metadata": {
    "collapsed": false
   },
   "outputs": [],
   "source": [
    "#myModule.upgrade_df(all_df1, [ ['下机批次比','下机批次数','下机项目数','/'] ])\n",
    "#all_df1[['下机批次比','下机批次数','下机项目数']]"
   ]
  },
  {
   "cell_type": "markdown",
   "metadata": {},
   "source": [
    "# QC分析组整体情况"
   ]
  },
  {
   "cell_type": "markdown",
   "metadata": {},
   "source": [
    "## 整体人员情况"
   ]
  },
  {
   "cell_type": "code",
   "execution_count": 121,
   "metadata": {
    "collapsed": false
   },
   "outputs": [
    {
     "data": {
      "application/vnd.plotly.v1+json": {
       "data": [
        {
         "name": "人员",
         "type": "bar",
         "uid": "d3ebcefc-e702-11e8-8ddb-a41f72875c19",
         "x": [
          "8-1",
          "8-2",
          "8-3",
          "8-4",
          "8-5",
          "9-1",
          "9-2",
          "9-3",
          "9-4",
          "10-2",
          "10-3",
          "10-4",
          "10-5",
          "11-1"
         ],
         "y": [
          4,
          4,
          4,
          4,
          4,
          4,
          3,
          2,
          2,
          2,
          2,
          2,
          8,
          8
         ]
        }
       ],
       "layout": {
        "title": "人员周趋势图",
        "xaxis": {
         "mirror": "all",
         "nticks": 20,
         "showgrid": true,
         "showline": true,
         "title": "周",
         "type": "category",
         "zeroline": true
        },
        "yaxis": {
         "mirror": "all",
         "nticks": 20,
         "showgrid": true,
         "showline": true,
         "title": "人员",
         "zeroline": true
        }
       }
      },
      "text/html": [
       "<div id=\"3234c6ff-52cd-4369-90ba-f12d099eddf4\" style=\"height: 525px; width: 100%;\" class=\"plotly-graph-div\"></div><script type=\"text/javascript\">require([\"plotly\"], function(Plotly) { window.PLOTLYENV=window.PLOTLYENV || {};window.PLOTLYENV.BASE_URL=\"https://plot.ly\";Plotly.newPlot(\"3234c6ff-52cd-4369-90ba-f12d099eddf4\", [{\"name\": \"\\u4eba\\u5458\", \"x\": [\"8-1\", \"8-2\", \"8-3\", \"8-4\", \"8-5\", \"9-1\", \"9-2\", \"9-3\", \"9-4\", \"10-2\", \"10-3\", \"10-4\", \"10-5\", \"11-1\"], \"y\": [4, 4, 4, 4, 4, 4, 3, 2, 2, 2, 2, 2, 8, 8], \"type\": \"bar\", \"uid\": \"d3ebcefc-e702-11e8-8ddb-a41f72875c19\"}], {\"title\": \"\\u4eba\\u5458\\u5468\\u8d8b\\u52bf\\u56fe\", \"xaxis\": {\"mirror\": \"all\", \"nticks\": 20, \"showgrid\": true, \"showline\": true, \"title\": \"\\u5468\", \"type\": \"category\", \"zeroline\": true}, \"yaxis\": {\"mirror\": \"all\", \"nticks\": 20, \"showgrid\": true, \"showline\": true, \"title\": \"\\u4eba\\u5458\", \"zeroline\": true}}, {\"showLink\": true, \"linkText\": \"Export to plot.ly\"})});</script>"
      ],
      "text/vnd.plotly.v1+html": [
       "<div id=\"3234c6ff-52cd-4369-90ba-f12d099eddf4\" style=\"height: 525px; width: 100%;\" class=\"plotly-graph-div\"></div><script type=\"text/javascript\">require([\"plotly\"], function(Plotly) { window.PLOTLYENV=window.PLOTLYENV || {};window.PLOTLYENV.BASE_URL=\"https://plot.ly\";Plotly.newPlot(\"3234c6ff-52cd-4369-90ba-f12d099eddf4\", [{\"name\": \"\\u4eba\\u5458\", \"x\": [\"8-1\", \"8-2\", \"8-3\", \"8-4\", \"8-5\", \"9-1\", \"9-2\", \"9-3\", \"9-4\", \"10-2\", \"10-3\", \"10-4\", \"10-5\", \"11-1\"], \"y\": [4, 4, 4, 4, 4, 4, 3, 2, 2, 2, 2, 2, 8, 8], \"type\": \"bar\", \"uid\": \"d3ebcefc-e702-11e8-8ddb-a41f72875c19\"}], {\"title\": \"\\u4eba\\u5458\\u5468\\u8d8b\\u52bf\\u56fe\", \"xaxis\": {\"mirror\": \"all\", \"nticks\": 20, \"showgrid\": true, \"showline\": true, \"title\": \"\\u5468\", \"type\": \"category\", \"zeroline\": true}, \"yaxis\": {\"mirror\": \"all\", \"nticks\": 20, \"showgrid\": true, \"showline\": true, \"title\": \"\\u4eba\\u5458\", \"zeroline\": true}}, {\"showLink\": true, \"linkText\": \"Export to plot.ly\"})});</script>"
      ]
     },
     "metadata": {},
     "output_type": "display_data"
    },
    {
     "data": {
      "application/vnd.plotly.v1+json": {
       "data": [
        {
         "name": "人员",
         "type": "bar",
         "uid": "d3ebcefd-e702-11e8-8ddb-a41f72875c19",
         "x": [
          8,
          9,
          10,
          11
         ],
         "y": [
          4,
          2.75,
          3.5,
          8
         ]
        }
       ],
       "layout": {
        "title": "人员月趋势图",
        "xaxis": {
         "mirror": "all",
         "nticks": 20,
         "showgrid": true,
         "showline": true,
         "title": "月",
         "type": "category",
         "zeroline": true
        },
        "yaxis": {
         "mirror": "all",
         "nticks": 20,
         "showgrid": true,
         "showline": true,
         "title": "人员",
         "zeroline": true
        }
       }
      },
      "text/html": [
       "<div id=\"8cf08823-0640-4ab5-8e8e-229517bba8a2\" style=\"height: 525px; width: 100%;\" class=\"plotly-graph-div\"></div><script type=\"text/javascript\">require([\"plotly\"], function(Plotly) { window.PLOTLYENV=window.PLOTLYENV || {};window.PLOTLYENV.BASE_URL=\"https://plot.ly\";Plotly.newPlot(\"8cf08823-0640-4ab5-8e8e-229517bba8a2\", [{\"name\": \"\\u4eba\\u5458\", \"x\": [8, 9, 10, 11], \"y\": [4.0, 2.75, 3.5, 8.0], \"type\": \"bar\", \"uid\": \"d3ebcefd-e702-11e8-8ddb-a41f72875c19\"}], {\"title\": \"\\u4eba\\u5458\\u6708\\u8d8b\\u52bf\\u56fe\", \"xaxis\": {\"mirror\": \"all\", \"nticks\": 20, \"showgrid\": true, \"showline\": true, \"title\": \"\\u6708\", \"type\": \"category\", \"zeroline\": true}, \"yaxis\": {\"mirror\": \"all\", \"nticks\": 20, \"showgrid\": true, \"showline\": true, \"title\": \"\\u4eba\\u5458\", \"zeroline\": true}}, {\"showLink\": true, \"linkText\": \"Export to plot.ly\"})});</script>"
      ],
      "text/vnd.plotly.v1+html": [
       "<div id=\"8cf08823-0640-4ab5-8e8e-229517bba8a2\" style=\"height: 525px; width: 100%;\" class=\"plotly-graph-div\"></div><script type=\"text/javascript\">require([\"plotly\"], function(Plotly) { window.PLOTLYENV=window.PLOTLYENV || {};window.PLOTLYENV.BASE_URL=\"https://plot.ly\";Plotly.newPlot(\"8cf08823-0640-4ab5-8e8e-229517bba8a2\", [{\"name\": \"\\u4eba\\u5458\", \"x\": [8, 9, 10, 11], \"y\": [4.0, 2.75, 3.5, 8.0], \"type\": \"bar\", \"uid\": \"d3ebcefd-e702-11e8-8ddb-a41f72875c19\"}], {\"title\": \"\\u4eba\\u5458\\u6708\\u8d8b\\u52bf\\u56fe\", \"xaxis\": {\"mirror\": \"all\", \"nticks\": 20, \"showgrid\": true, \"showline\": true, \"title\": \"\\u6708\", \"type\": \"category\", \"zeroline\": true}, \"yaxis\": {\"mirror\": \"all\", \"nticks\": 20, \"showgrid\": true, \"showline\": true, \"title\": \"\\u4eba\\u5458\", \"zeroline\": true}}, {\"showLink\": true, \"linkText\": \"Export to plot.ly\"})});</script>"
      ]
     },
     "metadata": {},
     "output_type": "display_data"
    },
    {
     "data": {
      "application/vnd.plotly.v1+json": {
       "data": [
        {
         "name": "人员(北京组)",
         "type": "bar",
         "uid": "d3ebcefe-e702-11e8-8ddb-a41f72875c19",
         "x": [
          "8-1",
          "8-2",
          "8-3",
          "8-4",
          "8-5",
          "9-1",
          "9-2",
          "9-3",
          "9-4",
          "10-2",
          "10-3",
          "10-4",
          "10-5",
          "11-1"
         ],
         "y": [
          4,
          4,
          4,
          4,
          4,
          4,
          3,
          2,
          2,
          2,
          2,
          2,
          2,
          2
         ]
        },
        {
         "name": "人员(义乌组)",
         "type": "bar",
         "uid": "d3ebceff-e702-11e8-8ddb-a41f72875c19",
         "x": [
          "8-1",
          "8-2",
          "8-3",
          "8-4",
          "8-5",
          "9-1",
          "9-2",
          "9-3",
          "9-4",
          "10-2",
          "10-3",
          "10-4",
          "10-5",
          "11-1"
         ],
         "y": [
          null,
          null,
          null,
          null,
          null,
          null,
          null,
          null,
          null,
          null,
          null,
          null,
          6,
          6
         ]
        }
       ],
       "layout": {
        "barmode": "stack",
        "title": "人员周趋势图",
        "xaxis": {
         "mirror": "all",
         "nticks": 20,
         "showgrid": true,
         "showline": true,
         "title": "周",
         "type": "category",
         "zeroline": true
        },
        "yaxis": {
         "mirror": "all",
         "nticks": 20,
         "showgrid": true,
         "showline": true,
         "title": "人员",
         "zeroline": true
        }
       }
      },
      "text/html": [
       "<div id=\"63790bcb-6492-4082-899d-42e932534c08\" style=\"height: 525px; width: 100%;\" class=\"plotly-graph-div\"></div><script type=\"text/javascript\">require([\"plotly\"], function(Plotly) { window.PLOTLYENV=window.PLOTLYENV || {};window.PLOTLYENV.BASE_URL=\"https://plot.ly\";Plotly.newPlot(\"63790bcb-6492-4082-899d-42e932534c08\", [{\"name\": \"\\u4eba\\u5458(\\u5317\\u4eac\\u7ec4)\", \"x\": [\"8-1\", \"8-2\", \"8-3\", \"8-4\", \"8-5\", \"9-1\", \"9-2\", \"9-3\", \"9-4\", \"10-2\", \"10-3\", \"10-4\", \"10-5\", \"11-1\"], \"y\": [4.0, 4.0, 4.0, 4.0, 4.0, 4.0, 3.0, 2.0, 2.0, 2.0, 2.0, 2.0, 2.0, 2.0], \"type\": \"bar\", \"uid\": \"d3ebcefe-e702-11e8-8ddb-a41f72875c19\"}, {\"name\": \"\\u4eba\\u5458(\\u4e49\\u4e4c\\u7ec4)\", \"x\": [\"8-1\", \"8-2\", \"8-3\", \"8-4\", \"8-5\", \"9-1\", \"9-2\", \"9-3\", \"9-4\", \"10-2\", \"10-3\", \"10-4\", \"10-5\", \"11-1\"], \"y\": [null, null, null, null, null, null, null, null, null, null, null, null, 6.0, 6.0], \"type\": \"bar\", \"uid\": \"d3ebceff-e702-11e8-8ddb-a41f72875c19\"}], {\"barmode\": \"stack\", \"title\": \"\\u4eba\\u5458\\u5468\\u8d8b\\u52bf\\u56fe\", \"xaxis\": {\"mirror\": \"all\", \"nticks\": 20, \"showgrid\": true, \"showline\": true, \"title\": \"\\u5468\", \"type\": \"category\", \"zeroline\": true}, \"yaxis\": {\"mirror\": \"all\", \"nticks\": 20, \"showgrid\": true, \"showline\": true, \"title\": \"\\u4eba\\u5458\", \"zeroline\": true}}, {\"showLink\": true, \"linkText\": \"Export to plot.ly\"})});</script>"
      ],
      "text/vnd.plotly.v1+html": [
       "<div id=\"63790bcb-6492-4082-899d-42e932534c08\" style=\"height: 525px; width: 100%;\" class=\"plotly-graph-div\"></div><script type=\"text/javascript\">require([\"plotly\"], function(Plotly) { window.PLOTLYENV=window.PLOTLYENV || {};window.PLOTLYENV.BASE_URL=\"https://plot.ly\";Plotly.newPlot(\"63790bcb-6492-4082-899d-42e932534c08\", [{\"name\": \"\\u4eba\\u5458(\\u5317\\u4eac\\u7ec4)\", \"x\": [\"8-1\", \"8-2\", \"8-3\", \"8-4\", \"8-5\", \"9-1\", \"9-2\", \"9-3\", \"9-4\", \"10-2\", \"10-3\", \"10-4\", \"10-5\", \"11-1\"], \"y\": [4.0, 4.0, 4.0, 4.0, 4.0, 4.0, 3.0, 2.0, 2.0, 2.0, 2.0, 2.0, 2.0, 2.0], \"type\": \"bar\", \"uid\": \"d3ebcefe-e702-11e8-8ddb-a41f72875c19\"}, {\"name\": \"\\u4eba\\u5458(\\u4e49\\u4e4c\\u7ec4)\", \"x\": [\"8-1\", \"8-2\", \"8-3\", \"8-4\", \"8-5\", \"9-1\", \"9-2\", \"9-3\", \"9-4\", \"10-2\", \"10-3\", \"10-4\", \"10-5\", \"11-1\"], \"y\": [null, null, null, null, null, null, null, null, null, null, null, null, 6.0, 6.0], \"type\": \"bar\", \"uid\": \"d3ebceff-e702-11e8-8ddb-a41f72875c19\"}], {\"barmode\": \"stack\", \"title\": \"\\u4eba\\u5458\\u5468\\u8d8b\\u52bf\\u56fe\", \"xaxis\": {\"mirror\": \"all\", \"nticks\": 20, \"showgrid\": true, \"showline\": true, \"title\": \"\\u5468\", \"type\": \"category\", \"zeroline\": true}, \"yaxis\": {\"mirror\": \"all\", \"nticks\": 20, \"showgrid\": true, \"showline\": true, \"title\": \"\\u4eba\\u5458\", \"zeroline\": true}}, {\"showLink\": true, \"linkText\": \"Export to plot.ly\"})});</script>"
      ]
     },
     "metadata": {},
     "output_type": "display_data"
    }
   ],
   "source": [
    "ss = myModule.format(all_df1 ,\"日期（格式“月-周次”）\" ,['人员'])\n",
    "tt = myModule.myPlot(myModule.sort_by_index(ss.groupby('count')))\n",
    "tt.plot('bar')\n",
    "\n",
    "ss = myModule.format(all_df1 ,\"month\" ,['人员'] )\n",
    "ss.get_average_by('日期（格式“月-周次”）')\n",
    "tt = myModule.myPlot(ss.groupby(\"count\"))# ,\"日期（格式“月-周次”）\" ,['人员'])\n",
    "tt.plot('bar',tag='月')\n",
    "\n",
    "ss = myModule.format(all_df1 ,\"日期（格式“月-周次”）\" ,['人员'])\n",
    "ss.add_group('组别')\n",
    "myModule.myPlot(myModule.sort_by_index(ss.groupby('count'))).plot('stack_bar')"
   ]
  },
  {
   "cell_type": "markdown",
   "metadata": {
    "hide_input": true
   },
   "source": [
    "## 过滤项目整体情况"
   ]
  },
  {
   "cell_type": "markdown",
   "metadata": {},
   "source": [
    "### 产能"
   ]
  },
  {
   "cell_type": "markdown",
   "metadata": {},
   "source": [
    "\n",
    "#### 下机批次数和下机项目数\n"
   ]
  },
  {
   "cell_type": "code",
   "execution_count": 122,
   "metadata": {
    "collapsed": false
   },
   "outputs": [
    {
     "data": {
      "application/vnd.plotly.v1+json": {
       "data": [
        {
         "name": "下机项目数",
         "type": "scatter",
         "uid": "d3ebcf00-e702-11e8-8ddb-a41f72875c19",
         "x": [
          "8-1",
          "8-2",
          "8-3",
          "8-4",
          "8-5",
          "9-1",
          "9-2",
          "9-3",
          "9-4",
          "10-2",
          "10-3",
          "10-4",
          "10-5",
          "11-1"
         ],
         "y": [
          94,
          146,
          135,
          136,
          85,
          174,
          103,
          122,
          153,
          66,
          110,
          124,
          136,
          133
         ]
        },
        {
         "name": "下机批次数",
         "type": "scatter",
         "uid": "d3ebcf01-e702-11e8-8ddb-a41f72875c19",
         "x": [
          "8-1",
          "8-2",
          "8-3",
          "8-4",
          "8-5",
          "9-1",
          "9-2",
          "9-3",
          "9-4",
          "10-2",
          "10-3",
          "10-4",
          "10-5",
          "11-1"
         ],
         "y": [
          118,
          181,
          165,
          161,
          100,
          199,
          124,
          136,
          176,
          70,
          132,
          137,
          159,
          156
         ]
        }
       ],
       "layout": {
        "title": "下机项目数&下机批次数周趋势图",
        "xaxis": {
         "mirror": "all",
         "nticks": 20,
         "showgrid": true,
         "showline": true,
         "title": "周",
         "type": "category",
         "zeroline": true
        },
        "yaxis": {
         "mirror": "all",
         "nticks": 20,
         "showgrid": true,
         "showline": true,
         "title": "下机项目数&下机批次数",
         "zeroline": true
        }
       }
      },
      "text/html": [
       "<div id=\"87405d4e-091c-4c64-9ae8-83b91e2a387c\" style=\"height: 525px; width: 100%;\" class=\"plotly-graph-div\"></div><script type=\"text/javascript\">require([\"plotly\"], function(Plotly) { window.PLOTLYENV=window.PLOTLYENV || {};window.PLOTLYENV.BASE_URL=\"https://plot.ly\";Plotly.newPlot(\"87405d4e-091c-4c64-9ae8-83b91e2a387c\", [{\"name\": \"\\u4e0b\\u673a\\u9879\\u76ee\\u6570\", \"x\": [\"8-1\", \"8-2\", \"8-3\", \"8-4\", \"8-5\", \"9-1\", \"9-2\", \"9-3\", \"9-4\", \"10-2\", \"10-3\", \"10-4\", \"10-5\", \"11-1\"], \"y\": [94, 146, 135, 136, 85, 174, 103, 122, 153, 66, 110, 124, 136, 133], \"type\": \"scatter\", \"uid\": \"d3ebcf00-e702-11e8-8ddb-a41f72875c19\"}, {\"name\": \"\\u4e0b\\u673a\\u6279\\u6b21\\u6570\", \"x\": [\"8-1\", \"8-2\", \"8-3\", \"8-4\", \"8-5\", \"9-1\", \"9-2\", \"9-3\", \"9-4\", \"10-2\", \"10-3\", \"10-4\", \"10-5\", \"11-1\"], \"y\": [118, 181, 165, 161, 100, 199, 124, 136, 176, 70, 132, 137, 159, 156], \"type\": \"scatter\", \"uid\": \"d3ebcf01-e702-11e8-8ddb-a41f72875c19\"}], {\"title\": \"\\u4e0b\\u673a\\u9879\\u76ee\\u6570&\\u4e0b\\u673a\\u6279\\u6b21\\u6570\\u5468\\u8d8b\\u52bf\\u56fe\", \"xaxis\": {\"mirror\": \"all\", \"nticks\": 20, \"showgrid\": true, \"showline\": true, \"title\": \"\\u5468\", \"type\": \"category\", \"zeroline\": true}, \"yaxis\": {\"mirror\": \"all\", \"nticks\": 20, \"showgrid\": true, \"showline\": true, \"title\": \"\\u4e0b\\u673a\\u9879\\u76ee\\u6570&\\u4e0b\\u673a\\u6279\\u6b21\\u6570\", \"zeroline\": true}}, {\"showLink\": true, \"linkText\": \"Export to plot.ly\"})});</script>"
      ],
      "text/vnd.plotly.v1+html": [
       "<div id=\"87405d4e-091c-4c64-9ae8-83b91e2a387c\" style=\"height: 525px; width: 100%;\" class=\"plotly-graph-div\"></div><script type=\"text/javascript\">require([\"plotly\"], function(Plotly) { window.PLOTLYENV=window.PLOTLYENV || {};window.PLOTLYENV.BASE_URL=\"https://plot.ly\";Plotly.newPlot(\"87405d4e-091c-4c64-9ae8-83b91e2a387c\", [{\"name\": \"\\u4e0b\\u673a\\u9879\\u76ee\\u6570\", \"x\": [\"8-1\", \"8-2\", \"8-3\", \"8-4\", \"8-5\", \"9-1\", \"9-2\", \"9-3\", \"9-4\", \"10-2\", \"10-3\", \"10-4\", \"10-5\", \"11-1\"], \"y\": [94, 146, 135, 136, 85, 174, 103, 122, 153, 66, 110, 124, 136, 133], \"type\": \"scatter\", \"uid\": \"d3ebcf00-e702-11e8-8ddb-a41f72875c19\"}, {\"name\": \"\\u4e0b\\u673a\\u6279\\u6b21\\u6570\", \"x\": [\"8-1\", \"8-2\", \"8-3\", \"8-4\", \"8-5\", \"9-1\", \"9-2\", \"9-3\", \"9-4\", \"10-2\", \"10-3\", \"10-4\", \"10-5\", \"11-1\"], \"y\": [118, 181, 165, 161, 100, 199, 124, 136, 176, 70, 132, 137, 159, 156], \"type\": \"scatter\", \"uid\": \"d3ebcf01-e702-11e8-8ddb-a41f72875c19\"}], {\"title\": \"\\u4e0b\\u673a\\u9879\\u76ee\\u6570&\\u4e0b\\u673a\\u6279\\u6b21\\u6570\\u5468\\u8d8b\\u52bf\\u56fe\", \"xaxis\": {\"mirror\": \"all\", \"nticks\": 20, \"showgrid\": true, \"showline\": true, \"title\": \"\\u5468\", \"type\": \"category\", \"zeroline\": true}, \"yaxis\": {\"mirror\": \"all\", \"nticks\": 20, \"showgrid\": true, \"showline\": true, \"title\": \"\\u4e0b\\u673a\\u9879\\u76ee\\u6570&\\u4e0b\\u673a\\u6279\\u6b21\\u6570\", \"zeroline\": true}}, {\"showLink\": true, \"linkText\": \"Export to plot.ly\"})});</script>"
      ]
     },
     "metadata": {},
     "output_type": "display_data"
    },
    {
     "data": {
      "application/vnd.plotly.v1+json": {
       "data": [
        {
         "line": {
          "dash": "solid"
         },
         "name": "下机项目数(北京组)",
         "type": "scatter",
         "uid": "d3ebcf02-e702-11e8-8ddb-a41f72875c19",
         "x": [
          "8-1",
          "8-2",
          "8-3",
          "8-4",
          "8-5",
          "9-1",
          "9-2",
          "9-3",
          "9-4",
          "10-2",
          "10-3",
          "10-4",
          "10-5",
          "11-1"
         ],
         "y": [
          94,
          146,
          135,
          136,
          85,
          174,
          103,
          122,
          153,
          66,
          110,
          124,
          110,
          107
         ]
        },
        {
         "line": {
          "dash": "dot"
         },
         "name": "下机项目数(义乌组)",
         "type": "scatter",
         "uid": "d3ebcf03-e702-11e8-8ddb-a41f72875c19",
         "x": [
          "8-1",
          "8-2",
          "8-3",
          "8-4",
          "8-5",
          "9-1",
          "9-2",
          "9-3",
          "9-4",
          "10-2",
          "10-3",
          "10-4",
          "10-5",
          "11-1"
         ],
         "y": [
          null,
          null,
          null,
          null,
          null,
          null,
          null,
          null,
          null,
          null,
          null,
          null,
          26,
          26
         ]
        },
        {
         "line": {
          "dash": "solid"
         },
         "name": "下机批次数(北京组)",
         "type": "scatter",
         "uid": "d3ebcf04-e702-11e8-8ddb-a41f72875c19",
         "x": [
          "8-1",
          "8-2",
          "8-3",
          "8-4",
          "8-5",
          "9-1",
          "9-2",
          "9-3",
          "9-4",
          "10-2",
          "10-3",
          "10-4",
          "10-5",
          "11-1"
         ],
         "y": [
          118,
          181,
          165,
          161,
          100,
          199,
          124,
          136,
          176,
          70,
          132,
          137,
          133,
          130
         ]
        },
        {
         "line": {
          "dash": "dot"
         },
         "name": "下机批次数(义乌组)",
         "type": "scatter",
         "uid": "d3ebcf05-e702-11e8-8ddb-a41f72875c19",
         "x": [
          "8-1",
          "8-2",
          "8-3",
          "8-4",
          "8-5",
          "9-1",
          "9-2",
          "9-3",
          "9-4",
          "10-2",
          "10-3",
          "10-4",
          "10-5",
          "11-1"
         ],
         "y": [
          null,
          null,
          null,
          null,
          null,
          null,
          null,
          null,
          null,
          null,
          null,
          null,
          26,
          26
         ]
        }
       ],
       "layout": {
        "title": "下机项目数&下机批次数周趋势图",
        "xaxis": {
         "mirror": "all",
         "nticks": 20,
         "showgrid": true,
         "showline": true,
         "title": "周",
         "type": "category",
         "zeroline": true
        },
        "yaxis": {
         "mirror": "all",
         "nticks": 20,
         "showgrid": true,
         "showline": true,
         "title": "下机项目数&下机批次数",
         "zeroline": true
        }
       }
      },
      "text/html": [
       "<div id=\"ca8eec44-85c5-45ef-812a-c795ed716836\" style=\"height: 525px; width: 100%;\" class=\"plotly-graph-div\"></div><script type=\"text/javascript\">require([\"plotly\"], function(Plotly) { window.PLOTLYENV=window.PLOTLYENV || {};window.PLOTLYENV.BASE_URL=\"https://plot.ly\";Plotly.newPlot(\"ca8eec44-85c5-45ef-812a-c795ed716836\", [{\"line\": {\"dash\": \"solid\"}, \"name\": \"\\u4e0b\\u673a\\u9879\\u76ee\\u6570(\\u5317\\u4eac\\u7ec4)\", \"x\": [\"8-1\", \"8-2\", \"8-3\", \"8-4\", \"8-5\", \"9-1\", \"9-2\", \"9-3\", \"9-4\", \"10-2\", \"10-3\", \"10-4\", \"10-5\", \"11-1\"], \"y\": [94.0, 146.0, 135.0, 136.0, 85.0, 174.0, 103.0, 122.0, 153.0, 66.0, 110.0, 124.0, 110.0, 107.0], \"type\": \"scatter\", \"uid\": \"d3ebcf02-e702-11e8-8ddb-a41f72875c19\"}, {\"line\": {\"dash\": \"dot\"}, \"name\": \"\\u4e0b\\u673a\\u9879\\u76ee\\u6570(\\u4e49\\u4e4c\\u7ec4)\", \"x\": [\"8-1\", \"8-2\", \"8-3\", \"8-4\", \"8-5\", \"9-1\", \"9-2\", \"9-3\", \"9-4\", \"10-2\", \"10-3\", \"10-4\", \"10-5\", \"11-1\"], \"y\": [null, null, null, null, null, null, null, null, null, null, null, null, 26.0, 26.0], \"type\": \"scatter\", \"uid\": \"d3ebcf03-e702-11e8-8ddb-a41f72875c19\"}, {\"line\": {\"dash\": \"solid\"}, \"name\": \"\\u4e0b\\u673a\\u6279\\u6b21\\u6570(\\u5317\\u4eac\\u7ec4)\", \"x\": [\"8-1\", \"8-2\", \"8-3\", \"8-4\", \"8-5\", \"9-1\", \"9-2\", \"9-3\", \"9-4\", \"10-2\", \"10-3\", \"10-4\", \"10-5\", \"11-1\"], \"y\": [118.0, 181.0, 165.0, 161.0, 100.0, 199.0, 124.0, 136.0, 176.0, 70.0, 132.0, 137.0, 133.0, 130.0], \"type\": \"scatter\", \"uid\": \"d3ebcf04-e702-11e8-8ddb-a41f72875c19\"}, {\"line\": {\"dash\": \"dot\"}, \"name\": \"\\u4e0b\\u673a\\u6279\\u6b21\\u6570(\\u4e49\\u4e4c\\u7ec4)\", \"x\": [\"8-1\", \"8-2\", \"8-3\", \"8-4\", \"8-5\", \"9-1\", \"9-2\", \"9-3\", \"9-4\", \"10-2\", \"10-3\", \"10-4\", \"10-5\", \"11-1\"], \"y\": [null, null, null, null, null, null, null, null, null, null, null, null, 26.0, 26.0], \"type\": \"scatter\", \"uid\": \"d3ebcf05-e702-11e8-8ddb-a41f72875c19\"}], {\"title\": \"\\u4e0b\\u673a\\u9879\\u76ee\\u6570&\\u4e0b\\u673a\\u6279\\u6b21\\u6570\\u5468\\u8d8b\\u52bf\\u56fe\", \"xaxis\": {\"mirror\": \"all\", \"nticks\": 20, \"showgrid\": true, \"showline\": true, \"title\": \"\\u5468\", \"type\": \"category\", \"zeroline\": true}, \"yaxis\": {\"mirror\": \"all\", \"nticks\": 20, \"showgrid\": true, \"showline\": true, \"title\": \"\\u4e0b\\u673a\\u9879\\u76ee\\u6570&\\u4e0b\\u673a\\u6279\\u6b21\\u6570\", \"zeroline\": true}}, {\"showLink\": true, \"linkText\": \"Export to plot.ly\"})});</script>"
      ],
      "text/vnd.plotly.v1+html": [
       "<div id=\"ca8eec44-85c5-45ef-812a-c795ed716836\" style=\"height: 525px; width: 100%;\" class=\"plotly-graph-div\"></div><script type=\"text/javascript\">require([\"plotly\"], function(Plotly) { window.PLOTLYENV=window.PLOTLYENV || {};window.PLOTLYENV.BASE_URL=\"https://plot.ly\";Plotly.newPlot(\"ca8eec44-85c5-45ef-812a-c795ed716836\", [{\"line\": {\"dash\": \"solid\"}, \"name\": \"\\u4e0b\\u673a\\u9879\\u76ee\\u6570(\\u5317\\u4eac\\u7ec4)\", \"x\": [\"8-1\", \"8-2\", \"8-3\", \"8-4\", \"8-5\", \"9-1\", \"9-2\", \"9-3\", \"9-4\", \"10-2\", \"10-3\", \"10-4\", \"10-5\", \"11-1\"], \"y\": [94.0, 146.0, 135.0, 136.0, 85.0, 174.0, 103.0, 122.0, 153.0, 66.0, 110.0, 124.0, 110.0, 107.0], \"type\": \"scatter\", \"uid\": \"d3ebcf02-e702-11e8-8ddb-a41f72875c19\"}, {\"line\": {\"dash\": \"dot\"}, \"name\": \"\\u4e0b\\u673a\\u9879\\u76ee\\u6570(\\u4e49\\u4e4c\\u7ec4)\", \"x\": [\"8-1\", \"8-2\", \"8-3\", \"8-4\", \"8-5\", \"9-1\", \"9-2\", \"9-3\", \"9-4\", \"10-2\", \"10-3\", \"10-4\", \"10-5\", \"11-1\"], \"y\": [null, null, null, null, null, null, null, null, null, null, null, null, 26.0, 26.0], \"type\": \"scatter\", \"uid\": \"d3ebcf03-e702-11e8-8ddb-a41f72875c19\"}, {\"line\": {\"dash\": \"solid\"}, \"name\": \"\\u4e0b\\u673a\\u6279\\u6b21\\u6570(\\u5317\\u4eac\\u7ec4)\", \"x\": [\"8-1\", \"8-2\", \"8-3\", \"8-4\", \"8-5\", \"9-1\", \"9-2\", \"9-3\", \"9-4\", \"10-2\", \"10-3\", \"10-4\", \"10-5\", \"11-1\"], \"y\": [118.0, 181.0, 165.0, 161.0, 100.0, 199.0, 124.0, 136.0, 176.0, 70.0, 132.0, 137.0, 133.0, 130.0], \"type\": \"scatter\", \"uid\": \"d3ebcf04-e702-11e8-8ddb-a41f72875c19\"}, {\"line\": {\"dash\": \"dot\"}, \"name\": \"\\u4e0b\\u673a\\u6279\\u6b21\\u6570(\\u4e49\\u4e4c\\u7ec4)\", \"x\": [\"8-1\", \"8-2\", \"8-3\", \"8-4\", \"8-5\", \"9-1\", \"9-2\", \"9-3\", \"9-4\", \"10-2\", \"10-3\", \"10-4\", \"10-5\", \"11-1\"], \"y\": [null, null, null, null, null, null, null, null, null, null, null, null, 26.0, 26.0], \"type\": \"scatter\", \"uid\": \"d3ebcf05-e702-11e8-8ddb-a41f72875c19\"}], {\"title\": \"\\u4e0b\\u673a\\u9879\\u76ee\\u6570&\\u4e0b\\u673a\\u6279\\u6b21\\u6570\\u5468\\u8d8b\\u52bf\\u56fe\", \"xaxis\": {\"mirror\": \"all\", \"nticks\": 20, \"showgrid\": true, \"showline\": true, \"title\": \"\\u5468\", \"type\": \"category\", \"zeroline\": true}, \"yaxis\": {\"mirror\": \"all\", \"nticks\": 20, \"showgrid\": true, \"showline\": true, \"title\": \"\\u4e0b\\u673a\\u9879\\u76ee\\u6570&\\u4e0b\\u673a\\u6279\\u6b21\\u6570\", \"zeroline\": true}}, {\"showLink\": true, \"linkText\": \"Export to plot.ly\"})});</script>"
      ]
     },
     "metadata": {},
     "output_type": "display_data"
    }
   ],
   "source": [
    "ss = myModule.format(all_df1 ,\"日期（格式“月-周次”）\" ,['下机批次数','下机项目数'])\n",
    "myModule.myPlot(myModule.sort_by_index(ss.groupby('sum'))).plot('line')\n",
    "\n",
    "ss = myModule.format(all_df1 ,\"日期（格式“月-周次”）\" ,['下机批次数','下机项目数'])\n",
    "ss.add_group('组别')\n",
    "myModule.myPlot(myModule.sort_by_index(ss.groupby('sum'))).plot('line')"
   ]
  },
  {
   "cell_type": "code",
   "execution_count": 123,
   "metadata": {
    "collapsed": false
   },
   "outputs": [
    {
     "data": {
      "application/vnd.plotly.v1+json": {
       "data": [
        {
         "name": "下机项目数",
         "type": "scatter",
         "uid": "d3ebcf06-e702-11e8-8ddb-a41f72875c19",
         "x": [
          8,
          9,
          10,
          11
         ],
         "y": [
          596,
          552,
          436,
          133
         ]
        },
        {
         "name": "下机批次数",
         "type": "scatter",
         "uid": "d3ebcf07-e702-11e8-8ddb-a41f72875c19",
         "x": [
          8,
          9,
          10,
          11
         ],
         "y": [
          725,
          635,
          498,
          156
         ]
        }
       ],
       "layout": {
        "title": "下机项目数&下机批次数月趋势图",
        "xaxis": {
         "mirror": "all",
         "nticks": 20,
         "showgrid": true,
         "showline": true,
         "title": "月",
         "type": "category",
         "zeroline": true
        },
        "yaxis": {
         "mirror": "all",
         "nticks": 20,
         "showgrid": true,
         "showline": true,
         "title": "下机项目数&下机批次数",
         "zeroline": true
        }
       }
      },
      "text/html": [
       "<div id=\"ba536215-2bbb-45c5-bd14-a3013a330bcb\" style=\"height: 525px; width: 100%;\" class=\"plotly-graph-div\"></div><script type=\"text/javascript\">require([\"plotly\"], function(Plotly) { window.PLOTLYENV=window.PLOTLYENV || {};window.PLOTLYENV.BASE_URL=\"https://plot.ly\";Plotly.newPlot(\"ba536215-2bbb-45c5-bd14-a3013a330bcb\", [{\"name\": \"\\u4e0b\\u673a\\u9879\\u76ee\\u6570\", \"x\": [8, 9, 10, 11], \"y\": [596, 552, 436, 133], \"type\": \"scatter\", \"uid\": \"d3ebcf06-e702-11e8-8ddb-a41f72875c19\"}, {\"name\": \"\\u4e0b\\u673a\\u6279\\u6b21\\u6570\", \"x\": [8, 9, 10, 11], \"y\": [725, 635, 498, 156], \"type\": \"scatter\", \"uid\": \"d3ebcf07-e702-11e8-8ddb-a41f72875c19\"}], {\"title\": \"\\u4e0b\\u673a\\u9879\\u76ee\\u6570&\\u4e0b\\u673a\\u6279\\u6b21\\u6570\\u6708\\u8d8b\\u52bf\\u56fe\", \"xaxis\": {\"mirror\": \"all\", \"nticks\": 20, \"showgrid\": true, \"showline\": true, \"title\": \"\\u6708\", \"type\": \"category\", \"zeroline\": true}, \"yaxis\": {\"mirror\": \"all\", \"nticks\": 20, \"showgrid\": true, \"showline\": true, \"title\": \"\\u4e0b\\u673a\\u9879\\u76ee\\u6570&\\u4e0b\\u673a\\u6279\\u6b21\\u6570\", \"zeroline\": true}}, {\"showLink\": true, \"linkText\": \"Export to plot.ly\"})});</script>"
      ],
      "text/vnd.plotly.v1+html": [
       "<div id=\"ba536215-2bbb-45c5-bd14-a3013a330bcb\" style=\"height: 525px; width: 100%;\" class=\"plotly-graph-div\"></div><script type=\"text/javascript\">require([\"plotly\"], function(Plotly) { window.PLOTLYENV=window.PLOTLYENV || {};window.PLOTLYENV.BASE_URL=\"https://plot.ly\";Plotly.newPlot(\"ba536215-2bbb-45c5-bd14-a3013a330bcb\", [{\"name\": \"\\u4e0b\\u673a\\u9879\\u76ee\\u6570\", \"x\": [8, 9, 10, 11], \"y\": [596, 552, 436, 133], \"type\": \"scatter\", \"uid\": \"d3ebcf06-e702-11e8-8ddb-a41f72875c19\"}, {\"name\": \"\\u4e0b\\u673a\\u6279\\u6b21\\u6570\", \"x\": [8, 9, 10, 11], \"y\": [725, 635, 498, 156], \"type\": \"scatter\", \"uid\": \"d3ebcf07-e702-11e8-8ddb-a41f72875c19\"}], {\"title\": \"\\u4e0b\\u673a\\u9879\\u76ee\\u6570&\\u4e0b\\u673a\\u6279\\u6b21\\u6570\\u6708\\u8d8b\\u52bf\\u56fe\", \"xaxis\": {\"mirror\": \"all\", \"nticks\": 20, \"showgrid\": true, \"showline\": true, \"title\": \"\\u6708\", \"type\": \"category\", \"zeroline\": true}, \"yaxis\": {\"mirror\": \"all\", \"nticks\": 20, \"showgrid\": true, \"showline\": true, \"title\": \"\\u4e0b\\u673a\\u9879\\u76ee\\u6570&\\u4e0b\\u673a\\u6279\\u6b21\\u6570\", \"zeroline\": true}}, {\"showLink\": true, \"linkText\": \"Export to plot.ly\"})});</script>"
      ]
     },
     "metadata": {},
     "output_type": "display_data"
    },
    {
     "data": {
      "application/vnd.plotly.v1+json": {
       "data": [
        {
         "line": {
          "dash": "solid"
         },
         "name": "下机项目数(北京组)",
         "type": "scatter",
         "uid": "d3ebcf08-e702-11e8-8ddb-a41f72875c19",
         "x": [
          8,
          9,
          10,
          11
         ],
         "y": [
          596,
          552,
          410,
          107
         ]
        },
        {
         "line": {
          "dash": "dot"
         },
         "name": "下机项目数(义乌组)",
         "type": "scatter",
         "uid": "d3ebcf09-e702-11e8-8ddb-a41f72875c19",
         "x": [
          8,
          9,
          10,
          11
         ],
         "y": [
          null,
          null,
          26,
          26
         ]
        },
        {
         "line": {
          "dash": "solid"
         },
         "name": "下机批次数(北京组)",
         "type": "scatter",
         "uid": "d3ebcf0a-e702-11e8-8ddb-a41f72875c19",
         "x": [
          8,
          9,
          10,
          11
         ],
         "y": [
          725,
          635,
          472,
          130
         ]
        },
        {
         "line": {
          "dash": "dot"
         },
         "name": "下机批次数(义乌组)",
         "type": "scatter",
         "uid": "d3ebcf0b-e702-11e8-8ddb-a41f72875c19",
         "x": [
          8,
          9,
          10,
          11
         ],
         "y": [
          null,
          null,
          26,
          26
         ]
        }
       ],
       "layout": {
        "title": "下机项目数&下机批次数月趋势图",
        "xaxis": {
         "mirror": "all",
         "nticks": 20,
         "showgrid": true,
         "showline": true,
         "title": "月",
         "type": "category",
         "zeroline": true
        },
        "yaxis": {
         "mirror": "all",
         "nticks": 20,
         "showgrid": true,
         "showline": true,
         "title": "下机项目数&下机批次数",
         "zeroline": true
        }
       }
      },
      "text/html": [
       "<div id=\"c8124bb9-7544-4120-ad85-c507e2e95c02\" style=\"height: 525px; width: 100%;\" class=\"plotly-graph-div\"></div><script type=\"text/javascript\">require([\"plotly\"], function(Plotly) { window.PLOTLYENV=window.PLOTLYENV || {};window.PLOTLYENV.BASE_URL=\"https://plot.ly\";Plotly.newPlot(\"c8124bb9-7544-4120-ad85-c507e2e95c02\", [{\"line\": {\"dash\": \"solid\"}, \"name\": \"\\u4e0b\\u673a\\u9879\\u76ee\\u6570(\\u5317\\u4eac\\u7ec4)\", \"x\": [8, 9, 10, 11], \"y\": [596.0, 552.0, 410.0, 107.0], \"type\": \"scatter\", \"uid\": \"d3ebcf08-e702-11e8-8ddb-a41f72875c19\"}, {\"line\": {\"dash\": \"dot\"}, \"name\": \"\\u4e0b\\u673a\\u9879\\u76ee\\u6570(\\u4e49\\u4e4c\\u7ec4)\", \"x\": [8, 9, 10, 11], \"y\": [null, null, 26.0, 26.0], \"type\": \"scatter\", \"uid\": \"d3ebcf09-e702-11e8-8ddb-a41f72875c19\"}, {\"line\": {\"dash\": \"solid\"}, \"name\": \"\\u4e0b\\u673a\\u6279\\u6b21\\u6570(\\u5317\\u4eac\\u7ec4)\", \"x\": [8, 9, 10, 11], \"y\": [725.0, 635.0, 472.0, 130.0], \"type\": \"scatter\", \"uid\": \"d3ebcf0a-e702-11e8-8ddb-a41f72875c19\"}, {\"line\": {\"dash\": \"dot\"}, \"name\": \"\\u4e0b\\u673a\\u6279\\u6b21\\u6570(\\u4e49\\u4e4c\\u7ec4)\", \"x\": [8, 9, 10, 11], \"y\": [null, null, 26.0, 26.0], \"type\": \"scatter\", \"uid\": \"d3ebcf0b-e702-11e8-8ddb-a41f72875c19\"}], {\"title\": \"\\u4e0b\\u673a\\u9879\\u76ee\\u6570&\\u4e0b\\u673a\\u6279\\u6b21\\u6570\\u6708\\u8d8b\\u52bf\\u56fe\", \"xaxis\": {\"mirror\": \"all\", \"nticks\": 20, \"showgrid\": true, \"showline\": true, \"title\": \"\\u6708\", \"type\": \"category\", \"zeroline\": true}, \"yaxis\": {\"mirror\": \"all\", \"nticks\": 20, \"showgrid\": true, \"showline\": true, \"title\": \"\\u4e0b\\u673a\\u9879\\u76ee\\u6570&\\u4e0b\\u673a\\u6279\\u6b21\\u6570\", \"zeroline\": true}}, {\"showLink\": true, \"linkText\": \"Export to plot.ly\"})});</script>"
      ],
      "text/vnd.plotly.v1+html": [
       "<div id=\"c8124bb9-7544-4120-ad85-c507e2e95c02\" style=\"height: 525px; width: 100%;\" class=\"plotly-graph-div\"></div><script type=\"text/javascript\">require([\"plotly\"], function(Plotly) { window.PLOTLYENV=window.PLOTLYENV || {};window.PLOTLYENV.BASE_URL=\"https://plot.ly\";Plotly.newPlot(\"c8124bb9-7544-4120-ad85-c507e2e95c02\", [{\"line\": {\"dash\": \"solid\"}, \"name\": \"\\u4e0b\\u673a\\u9879\\u76ee\\u6570(\\u5317\\u4eac\\u7ec4)\", \"x\": [8, 9, 10, 11], \"y\": [596.0, 552.0, 410.0, 107.0], \"type\": \"scatter\", \"uid\": \"d3ebcf08-e702-11e8-8ddb-a41f72875c19\"}, {\"line\": {\"dash\": \"dot\"}, \"name\": \"\\u4e0b\\u673a\\u9879\\u76ee\\u6570(\\u4e49\\u4e4c\\u7ec4)\", \"x\": [8, 9, 10, 11], \"y\": [null, null, 26.0, 26.0], \"type\": \"scatter\", \"uid\": \"d3ebcf09-e702-11e8-8ddb-a41f72875c19\"}, {\"line\": {\"dash\": \"solid\"}, \"name\": \"\\u4e0b\\u673a\\u6279\\u6b21\\u6570(\\u5317\\u4eac\\u7ec4)\", \"x\": [8, 9, 10, 11], \"y\": [725.0, 635.0, 472.0, 130.0], \"type\": \"scatter\", \"uid\": \"d3ebcf0a-e702-11e8-8ddb-a41f72875c19\"}, {\"line\": {\"dash\": \"dot\"}, \"name\": \"\\u4e0b\\u673a\\u6279\\u6b21\\u6570(\\u4e49\\u4e4c\\u7ec4)\", \"x\": [8, 9, 10, 11], \"y\": [null, null, 26.0, 26.0], \"type\": \"scatter\", \"uid\": \"d3ebcf0b-e702-11e8-8ddb-a41f72875c19\"}], {\"title\": \"\\u4e0b\\u673a\\u9879\\u76ee\\u6570&\\u4e0b\\u673a\\u6279\\u6b21\\u6570\\u6708\\u8d8b\\u52bf\\u56fe\", \"xaxis\": {\"mirror\": \"all\", \"nticks\": 20, \"showgrid\": true, \"showline\": true, \"title\": \"\\u6708\", \"type\": \"category\", \"zeroline\": true}, \"yaxis\": {\"mirror\": \"all\", \"nticks\": 20, \"showgrid\": true, \"showline\": true, \"title\": \"\\u4e0b\\u673a\\u9879\\u76ee\\u6570&\\u4e0b\\u673a\\u6279\\u6b21\\u6570\", \"zeroline\": true}}, {\"showLink\": true, \"linkText\": \"Export to plot.ly\"})});</script>"
      ]
     },
     "metadata": {},
     "output_type": "display_data"
    }
   ],
   "source": [
    "\n",
    "ss = myModule.format(all_df1 ,\"month\" ,['下机批次数','下机项目数'])\n",
    "myModule.myPlot(ss.groupby('sum')).plot('line',\"月\")\n",
    "\n",
    "\n",
    "ss = myModule.format(all_df1 ,\"month\" ,['下机批次数','下机项目数'])\n",
    "ss.add_group(\"组别\")\n",
    "myModule.myPlot(ss.groupby('sum')).plot('line',\"月\")"
   ]
  },
  {
   "cell_type": "markdown",
   "metadata": {},
   "source": [
    "#### 下机批次比"
   ]
  },
  {
   "cell_type": "code",
   "execution_count": 124,
   "metadata": {
    "collapsed": false,
    "scrolled": false
   },
   "outputs": [
    {
     "data": {
      "application/vnd.plotly.v1+json": {
       "data": [
        {
         "name": "下机批次比",
         "type": "scatter",
         "uid": "d3ebcf0c-e702-11e8-8ddb-a41f72875c19",
         "x": [
          "8-1",
          "8-2",
          "8-3",
          "8-4",
          "8-5",
          "9-1",
          "9-2",
          "9-3",
          "9-4",
          "10-2",
          "10-3",
          "10-4",
          "10-5",
          "11-1"
         ],
         "y": [
          1.2553191489361701,
          1.2397260273972603,
          1.2222222222222223,
          1.1838235294117647,
          1.1764705882352942,
          1.1436781609195403,
          1.203883495145631,
          1.1147540983606556,
          1.1503267973856208,
          1.0606060606060606,
          1.2,
          1.1048387096774193,
          1.1691176470588236,
          1.1729323308270676
         ]
        }
       ],
       "layout": {
        "title": "下机批次比周趋势图",
        "xaxis": {
         "mirror": "all",
         "nticks": 20,
         "showgrid": true,
         "showline": true,
         "title": "周",
         "type": "category",
         "zeroline": true
        },
        "yaxis": {
         "mirror": "all",
         "nticks": 20,
         "showgrid": true,
         "showline": true,
         "title": "下机批次比",
         "zeroline": true
        }
       }
      },
      "text/html": [
       "<div id=\"77d76a82-0edd-4f92-8a9d-acaf5cad2d23\" style=\"height: 525px; width: 100%;\" class=\"plotly-graph-div\"></div><script type=\"text/javascript\">require([\"plotly\"], function(Plotly) { window.PLOTLYENV=window.PLOTLYENV || {};window.PLOTLYENV.BASE_URL=\"https://plot.ly\";Plotly.newPlot(\"77d76a82-0edd-4f92-8a9d-acaf5cad2d23\", [{\"name\": \"\\u4e0b\\u673a\\u6279\\u6b21\\u6bd4\", \"x\": [\"8-1\", \"8-2\", \"8-3\", \"8-4\", \"8-5\", \"9-1\", \"9-2\", \"9-3\", \"9-4\", \"10-2\", \"10-3\", \"10-4\", \"10-5\", \"11-1\"], \"y\": [1.2553191489361701, 1.2397260273972603, 1.2222222222222223, 1.1838235294117647, 1.1764705882352942, 1.1436781609195403, 1.203883495145631, 1.1147540983606556, 1.1503267973856208, 1.0606060606060606, 1.2, 1.1048387096774193, 1.1691176470588236, 1.1729323308270676], \"type\": \"scatter\", \"uid\": \"d3ebcf0c-e702-11e8-8ddb-a41f72875c19\"}], {\"title\": \"\\u4e0b\\u673a\\u6279\\u6b21\\u6bd4\\u5468\\u8d8b\\u52bf\\u56fe\", \"xaxis\": {\"mirror\": \"all\", \"nticks\": 20, \"showgrid\": true, \"showline\": true, \"title\": \"\\u5468\", \"type\": \"category\", \"zeroline\": true}, \"yaxis\": {\"mirror\": \"all\", \"nticks\": 20, \"showgrid\": true, \"showline\": true, \"title\": \"\\u4e0b\\u673a\\u6279\\u6b21\\u6bd4\", \"zeroline\": true}}, {\"showLink\": true, \"linkText\": \"Export to plot.ly\"})});</script>"
      ],
      "text/vnd.plotly.v1+html": [
       "<div id=\"77d76a82-0edd-4f92-8a9d-acaf5cad2d23\" style=\"height: 525px; width: 100%;\" class=\"plotly-graph-div\"></div><script type=\"text/javascript\">require([\"plotly\"], function(Plotly) { window.PLOTLYENV=window.PLOTLYENV || {};window.PLOTLYENV.BASE_URL=\"https://plot.ly\";Plotly.newPlot(\"77d76a82-0edd-4f92-8a9d-acaf5cad2d23\", [{\"name\": \"\\u4e0b\\u673a\\u6279\\u6b21\\u6bd4\", \"x\": [\"8-1\", \"8-2\", \"8-3\", \"8-4\", \"8-5\", \"9-1\", \"9-2\", \"9-3\", \"9-4\", \"10-2\", \"10-3\", \"10-4\", \"10-5\", \"11-1\"], \"y\": [1.2553191489361701, 1.2397260273972603, 1.2222222222222223, 1.1838235294117647, 1.1764705882352942, 1.1436781609195403, 1.203883495145631, 1.1147540983606556, 1.1503267973856208, 1.0606060606060606, 1.2, 1.1048387096774193, 1.1691176470588236, 1.1729323308270676], \"type\": \"scatter\", \"uid\": \"d3ebcf0c-e702-11e8-8ddb-a41f72875c19\"}], {\"title\": \"\\u4e0b\\u673a\\u6279\\u6b21\\u6bd4\\u5468\\u8d8b\\u52bf\\u56fe\", \"xaxis\": {\"mirror\": \"all\", \"nticks\": 20, \"showgrid\": true, \"showline\": true, \"title\": \"\\u5468\", \"type\": \"category\", \"zeroline\": true}, \"yaxis\": {\"mirror\": \"all\", \"nticks\": 20, \"showgrid\": true, \"showline\": true, \"title\": \"\\u4e0b\\u673a\\u6279\\u6b21\\u6bd4\", \"zeroline\": true}}, {\"showLink\": true, \"linkText\": \"Export to plot.ly\"})});</script>"
      ]
     },
     "metadata": {},
     "output_type": "display_data"
    },
    {
     "data": {
      "application/vnd.plotly.v1+json": {
       "data": [
        {
         "line": {
          "dash": "solid"
         },
         "name": "下机批次比(北京组)",
         "type": "scatter",
         "uid": "d3ebcf0d-e702-11e8-8ddb-a41f72875c19",
         "x": [
          "8-1",
          "8-2",
          "8-3",
          "8-4",
          "8-5",
          "9-1",
          "9-2",
          "9-3",
          "9-4",
          "10-2",
          "10-3",
          "10-4",
          "10-5",
          "11-1"
         ],
         "y": [
          1.2553191489361701,
          1.2397260273972603,
          1.2222222222222223,
          1.1838235294117647,
          1.1764705882352942,
          1.1436781609195403,
          1.203883495145631,
          1.1147540983606556,
          1.1503267973856208,
          1.0606060606060606,
          1.2,
          1.1048387096774193,
          1.209090909090909,
          1.2149532710280373
         ]
        },
        {
         "line": {
          "dash": "dot"
         },
         "name": "下机批次比(义乌组)",
         "type": "scatter",
         "uid": "d3ebcf0e-e702-11e8-8ddb-a41f72875c19",
         "x": [
          "8-1",
          "8-2",
          "8-3",
          "8-4",
          "8-5",
          "9-1",
          "9-2",
          "9-3",
          "9-4",
          "10-2",
          "10-3",
          "10-4",
          "10-5",
          "11-1"
         ],
         "y": [
          null,
          null,
          null,
          null,
          null,
          null,
          null,
          null,
          null,
          null,
          null,
          null,
          1,
          1
         ]
        }
       ],
       "layout": {
        "title": "下机批次比周趋势图",
        "xaxis": {
         "mirror": "all",
         "nticks": 20,
         "showgrid": true,
         "showline": true,
         "title": "周",
         "type": "category",
         "zeroline": true
        },
        "yaxis": {
         "mirror": "all",
         "nticks": 20,
         "showgrid": true,
         "showline": true,
         "title": "下机批次比",
         "zeroline": true
        }
       }
      },
      "text/html": [
       "<div id=\"4ddb3d02-c867-431d-bb15-c4105dd892c4\" style=\"height: 525px; width: 100%;\" class=\"plotly-graph-div\"></div><script type=\"text/javascript\">require([\"plotly\"], function(Plotly) { window.PLOTLYENV=window.PLOTLYENV || {};window.PLOTLYENV.BASE_URL=\"https://plot.ly\";Plotly.newPlot(\"4ddb3d02-c867-431d-bb15-c4105dd892c4\", [{\"line\": {\"dash\": \"solid\"}, \"name\": \"\\u4e0b\\u673a\\u6279\\u6b21\\u6bd4(\\u5317\\u4eac\\u7ec4)\", \"x\": [\"8-1\", \"8-2\", \"8-3\", \"8-4\", \"8-5\", \"9-1\", \"9-2\", \"9-3\", \"9-4\", \"10-2\", \"10-3\", \"10-4\", \"10-5\", \"11-1\"], \"y\": [1.2553191489361701, 1.2397260273972603, 1.2222222222222223, 1.1838235294117647, 1.1764705882352942, 1.1436781609195403, 1.203883495145631, 1.1147540983606556, 1.1503267973856208, 1.0606060606060606, 1.2, 1.1048387096774193, 1.209090909090909, 1.2149532710280373], \"type\": \"scatter\", \"uid\": \"d3ebcf0d-e702-11e8-8ddb-a41f72875c19\"}, {\"line\": {\"dash\": \"dot\"}, \"name\": \"\\u4e0b\\u673a\\u6279\\u6b21\\u6bd4(\\u4e49\\u4e4c\\u7ec4)\", \"x\": [\"8-1\", \"8-2\", \"8-3\", \"8-4\", \"8-5\", \"9-1\", \"9-2\", \"9-3\", \"9-4\", \"10-2\", \"10-3\", \"10-4\", \"10-5\", \"11-1\"], \"y\": [null, null, null, null, null, null, null, null, null, null, null, null, 1.0, 1.0], \"type\": \"scatter\", \"uid\": \"d3ebcf0e-e702-11e8-8ddb-a41f72875c19\"}], {\"title\": \"\\u4e0b\\u673a\\u6279\\u6b21\\u6bd4\\u5468\\u8d8b\\u52bf\\u56fe\", \"xaxis\": {\"mirror\": \"all\", \"nticks\": 20, \"showgrid\": true, \"showline\": true, \"title\": \"\\u5468\", \"type\": \"category\", \"zeroline\": true}, \"yaxis\": {\"mirror\": \"all\", \"nticks\": 20, \"showgrid\": true, \"showline\": true, \"title\": \"\\u4e0b\\u673a\\u6279\\u6b21\\u6bd4\", \"zeroline\": true}}, {\"showLink\": true, \"linkText\": \"Export to plot.ly\"})});</script>"
      ],
      "text/vnd.plotly.v1+html": [
       "<div id=\"4ddb3d02-c867-431d-bb15-c4105dd892c4\" style=\"height: 525px; width: 100%;\" class=\"plotly-graph-div\"></div><script type=\"text/javascript\">require([\"plotly\"], function(Plotly) { window.PLOTLYENV=window.PLOTLYENV || {};window.PLOTLYENV.BASE_URL=\"https://plot.ly\";Plotly.newPlot(\"4ddb3d02-c867-431d-bb15-c4105dd892c4\", [{\"line\": {\"dash\": \"solid\"}, \"name\": \"\\u4e0b\\u673a\\u6279\\u6b21\\u6bd4(\\u5317\\u4eac\\u7ec4)\", \"x\": [\"8-1\", \"8-2\", \"8-3\", \"8-4\", \"8-5\", \"9-1\", \"9-2\", \"9-3\", \"9-4\", \"10-2\", \"10-3\", \"10-4\", \"10-5\", \"11-1\"], \"y\": [1.2553191489361701, 1.2397260273972603, 1.2222222222222223, 1.1838235294117647, 1.1764705882352942, 1.1436781609195403, 1.203883495145631, 1.1147540983606556, 1.1503267973856208, 1.0606060606060606, 1.2, 1.1048387096774193, 1.209090909090909, 1.2149532710280373], \"type\": \"scatter\", \"uid\": \"d3ebcf0d-e702-11e8-8ddb-a41f72875c19\"}, {\"line\": {\"dash\": \"dot\"}, \"name\": \"\\u4e0b\\u673a\\u6279\\u6b21\\u6bd4(\\u4e49\\u4e4c\\u7ec4)\", \"x\": [\"8-1\", \"8-2\", \"8-3\", \"8-4\", \"8-5\", \"9-1\", \"9-2\", \"9-3\", \"9-4\", \"10-2\", \"10-3\", \"10-4\", \"10-5\", \"11-1\"], \"y\": [null, null, null, null, null, null, null, null, null, null, null, null, 1.0, 1.0], \"type\": \"scatter\", \"uid\": \"d3ebcf0e-e702-11e8-8ddb-a41f72875c19\"}], {\"title\": \"\\u4e0b\\u673a\\u6279\\u6b21\\u6bd4\\u5468\\u8d8b\\u52bf\\u56fe\", \"xaxis\": {\"mirror\": \"all\", \"nticks\": 20, \"showgrid\": true, \"showline\": true, \"title\": \"\\u5468\", \"type\": \"category\", \"zeroline\": true}, \"yaxis\": {\"mirror\": \"all\", \"nticks\": 20, \"showgrid\": true, \"showline\": true, \"title\": \"\\u4e0b\\u673a\\u6279\\u6b21\\u6bd4\", \"zeroline\": true}}, {\"showLink\": true, \"linkText\": \"Export to plot.ly\"})});</script>"
      ]
     },
     "metadata": {},
     "output_type": "display_data"
    }
   ],
   "source": [
    "ss = myModule.format(all_df1 ,\"日期（格式“月-周次”）\" ,['下机批次数','下机项目数'])\n",
    "tt = ss.get_total_ratio([['下机批次比' ,'下机批次数' , '下机项目数','/']] )\n",
    "myModule.myPlot(myModule.sort_by_index(tt)).plot('line')\n",
    "\n",
    "ss = myModule.format(all_df1 ,\"日期（格式“月-周次”）\" ,['下机批次数','下机项目数'])\n",
    "ss.add_group(\"组别\")\n",
    "tt = ss.get_total_ratio([['下机批次比' ,'下机批次数' , '下机项目数','/']] )\n",
    "myModule.myPlot(myModule.sort_by_index(tt)).plot('line')\n"
   ]
  },
  {
   "cell_type": "code",
   "execution_count": 125,
   "metadata": {
    "collapsed": false
   },
   "outputs": [
    {
     "data": {
      "application/vnd.plotly.v1+json": {
       "data": [
        {
         "name": "下机批次比",
         "type": "scatter",
         "uid": "d3ebcf0f-e702-11e8-8ddb-a41f72875c19",
         "x": [
          8,
          9,
          10,
          11
         ],
         "y": [
          1.2164429530201342,
          1.1503623188405796,
          1.1422018348623852,
          1.1729323308270676
         ]
        }
       ],
       "layout": {
        "title": "下机批次比月趋势图",
        "xaxis": {
         "mirror": "all",
         "nticks": 20,
         "showgrid": true,
         "showline": true,
         "title": "月",
         "type": "category",
         "zeroline": true
        },
        "yaxis": {
         "mirror": "all",
         "nticks": 20,
         "showgrid": true,
         "showline": true,
         "title": "下机批次比",
         "zeroline": true
        }
       }
      },
      "text/html": [
       "<div id=\"38cfc9db-353b-481b-b55c-4e4dbf2655b5\" style=\"height: 525px; width: 100%;\" class=\"plotly-graph-div\"></div><script type=\"text/javascript\">require([\"plotly\"], function(Plotly) { window.PLOTLYENV=window.PLOTLYENV || {};window.PLOTLYENV.BASE_URL=\"https://plot.ly\";Plotly.newPlot(\"38cfc9db-353b-481b-b55c-4e4dbf2655b5\", [{\"name\": \"\\u4e0b\\u673a\\u6279\\u6b21\\u6bd4\", \"x\": [8, 9, 10, 11], \"y\": [1.2164429530201342, 1.1503623188405796, 1.1422018348623852, 1.1729323308270676], \"type\": \"scatter\", \"uid\": \"d3ebcf0f-e702-11e8-8ddb-a41f72875c19\"}], {\"title\": \"\\u4e0b\\u673a\\u6279\\u6b21\\u6bd4\\u6708\\u8d8b\\u52bf\\u56fe\", \"xaxis\": {\"mirror\": \"all\", \"nticks\": 20, \"showgrid\": true, \"showline\": true, \"title\": \"\\u6708\", \"type\": \"category\", \"zeroline\": true}, \"yaxis\": {\"mirror\": \"all\", \"nticks\": 20, \"showgrid\": true, \"showline\": true, \"title\": \"\\u4e0b\\u673a\\u6279\\u6b21\\u6bd4\", \"zeroline\": true}}, {\"showLink\": true, \"linkText\": \"Export to plot.ly\"})});</script>"
      ],
      "text/vnd.plotly.v1+html": [
       "<div id=\"38cfc9db-353b-481b-b55c-4e4dbf2655b5\" style=\"height: 525px; width: 100%;\" class=\"plotly-graph-div\"></div><script type=\"text/javascript\">require([\"plotly\"], function(Plotly) { window.PLOTLYENV=window.PLOTLYENV || {};window.PLOTLYENV.BASE_URL=\"https://plot.ly\";Plotly.newPlot(\"38cfc9db-353b-481b-b55c-4e4dbf2655b5\", [{\"name\": \"\\u4e0b\\u673a\\u6279\\u6b21\\u6bd4\", \"x\": [8, 9, 10, 11], \"y\": [1.2164429530201342, 1.1503623188405796, 1.1422018348623852, 1.1729323308270676], \"type\": \"scatter\", \"uid\": \"d3ebcf0f-e702-11e8-8ddb-a41f72875c19\"}], {\"title\": \"\\u4e0b\\u673a\\u6279\\u6b21\\u6bd4\\u6708\\u8d8b\\u52bf\\u56fe\", \"xaxis\": {\"mirror\": \"all\", \"nticks\": 20, \"showgrid\": true, \"showline\": true, \"title\": \"\\u6708\", \"type\": \"category\", \"zeroline\": true}, \"yaxis\": {\"mirror\": \"all\", \"nticks\": 20, \"showgrid\": true, \"showline\": true, \"title\": \"\\u4e0b\\u673a\\u6279\\u6b21\\u6bd4\", \"zeroline\": true}}, {\"showLink\": true, \"linkText\": \"Export to plot.ly\"})});</script>"
      ]
     },
     "metadata": {},
     "output_type": "display_data"
    },
    {
     "data": {
      "application/vnd.plotly.v1+json": {
       "data": [
        {
         "line": {
          "dash": "solid"
         },
         "name": "下机批次比(北京组)",
         "type": "scatter",
         "uid": "d3ebcf10-e702-11e8-8ddb-a41f72875c19",
         "x": [
          8,
          9,
          10,
          11
         ],
         "y": [
          1.2164429530201342,
          1.1503623188405796,
          1.1512195121951219,
          1.2149532710280373
         ]
        },
        {
         "line": {
          "dash": "dot"
         },
         "name": "下机批次比(义乌组)",
         "type": "scatter",
         "uid": "d3ebcf11-e702-11e8-8ddb-a41f72875c19",
         "x": [
          8,
          9,
          10,
          11
         ],
         "y": [
          null,
          null,
          1,
          1
         ]
        }
       ],
       "layout": {
        "title": "下机批次比月趋势图",
        "xaxis": {
         "mirror": "all",
         "nticks": 20,
         "showgrid": true,
         "showline": true,
         "title": "月",
         "type": "category",
         "zeroline": true
        },
        "yaxis": {
         "mirror": "all",
         "nticks": 20,
         "showgrid": true,
         "showline": true,
         "title": "下机批次比",
         "zeroline": true
        }
       }
      },
      "text/html": [
       "<div id=\"5343dd2a-06d0-4fe6-89b9-e19dae2ffb62\" style=\"height: 525px; width: 100%;\" class=\"plotly-graph-div\"></div><script type=\"text/javascript\">require([\"plotly\"], function(Plotly) { window.PLOTLYENV=window.PLOTLYENV || {};window.PLOTLYENV.BASE_URL=\"https://plot.ly\";Plotly.newPlot(\"5343dd2a-06d0-4fe6-89b9-e19dae2ffb62\", [{\"line\": {\"dash\": \"solid\"}, \"name\": \"\\u4e0b\\u673a\\u6279\\u6b21\\u6bd4(\\u5317\\u4eac\\u7ec4)\", \"x\": [8, 9, 10, 11], \"y\": [1.2164429530201342, 1.1503623188405796, 1.1512195121951219, 1.2149532710280373], \"type\": \"scatter\", \"uid\": \"d3ebcf10-e702-11e8-8ddb-a41f72875c19\"}, {\"line\": {\"dash\": \"dot\"}, \"name\": \"\\u4e0b\\u673a\\u6279\\u6b21\\u6bd4(\\u4e49\\u4e4c\\u7ec4)\", \"x\": [8, 9, 10, 11], \"y\": [null, null, 1.0, 1.0], \"type\": \"scatter\", \"uid\": \"d3ebcf11-e702-11e8-8ddb-a41f72875c19\"}], {\"title\": \"\\u4e0b\\u673a\\u6279\\u6b21\\u6bd4\\u6708\\u8d8b\\u52bf\\u56fe\", \"xaxis\": {\"mirror\": \"all\", \"nticks\": 20, \"showgrid\": true, \"showline\": true, \"title\": \"\\u6708\", \"type\": \"category\", \"zeroline\": true}, \"yaxis\": {\"mirror\": \"all\", \"nticks\": 20, \"showgrid\": true, \"showline\": true, \"title\": \"\\u4e0b\\u673a\\u6279\\u6b21\\u6bd4\", \"zeroline\": true}}, {\"showLink\": true, \"linkText\": \"Export to plot.ly\"})});</script>"
      ],
      "text/vnd.plotly.v1+html": [
       "<div id=\"5343dd2a-06d0-4fe6-89b9-e19dae2ffb62\" style=\"height: 525px; width: 100%;\" class=\"plotly-graph-div\"></div><script type=\"text/javascript\">require([\"plotly\"], function(Plotly) { window.PLOTLYENV=window.PLOTLYENV || {};window.PLOTLYENV.BASE_URL=\"https://plot.ly\";Plotly.newPlot(\"5343dd2a-06d0-4fe6-89b9-e19dae2ffb62\", [{\"line\": {\"dash\": \"solid\"}, \"name\": \"\\u4e0b\\u673a\\u6279\\u6b21\\u6bd4(\\u5317\\u4eac\\u7ec4)\", \"x\": [8, 9, 10, 11], \"y\": [1.2164429530201342, 1.1503623188405796, 1.1512195121951219, 1.2149532710280373], \"type\": \"scatter\", \"uid\": \"d3ebcf10-e702-11e8-8ddb-a41f72875c19\"}, {\"line\": {\"dash\": \"dot\"}, \"name\": \"\\u4e0b\\u673a\\u6279\\u6b21\\u6bd4(\\u4e49\\u4e4c\\u7ec4)\", \"x\": [8, 9, 10, 11], \"y\": [null, null, 1.0, 1.0], \"type\": \"scatter\", \"uid\": \"d3ebcf11-e702-11e8-8ddb-a41f72875c19\"}], {\"title\": \"\\u4e0b\\u673a\\u6279\\u6b21\\u6bd4\\u6708\\u8d8b\\u52bf\\u56fe\", \"xaxis\": {\"mirror\": \"all\", \"nticks\": 20, \"showgrid\": true, \"showline\": true, \"title\": \"\\u6708\", \"type\": \"category\", \"zeroline\": true}, \"yaxis\": {\"mirror\": \"all\", \"nticks\": 20, \"showgrid\": true, \"showline\": true, \"title\": \"\\u4e0b\\u673a\\u6279\\u6b21\\u6bd4\", \"zeroline\": true}}, {\"showLink\": true, \"linkText\": \"Export to plot.ly\"})});</script>"
      ]
     },
     "metadata": {},
     "output_type": "display_data"
    }
   ],
   "source": [
    "ss = myModule.format(all_df1 ,\"month\" ,['下机批次数','下机项目数'])\n",
    "tt = ss.get_total_ratio([['下机批次比' ,'下机批次数' , '下机项目数','/']] )\n",
    "myModule.myPlot(tt).plot('line',\"月\")\n",
    "\n",
    "ss = myModule.format(all_df1 ,\"month\" ,['下机批次数','下机项目数'])\n",
    "ss.add_group(\"组别\")\n",
    "tt = ss.get_total_ratio([['下机批次比' ,'下机批次数' , '下机项目数','/']] )\n",
    "myModule.myPlot(tt).plot('line',\"月\")"
   ]
  },
  {
   "cell_type": "markdown",
   "metadata": {
    "hide_input": true
   },
   "source": [
    "### 效率"
   ]
  },
  {
   "cell_type": "markdown",
   "metadata": {
    "collapsed": true
   },
   "source": [
    "#### 反馈及时率和数据交付及时率"
   ]
  },
  {
   "cell_type": "code",
   "execution_count": 126,
   "metadata": {
    "collapsed": false,
    "scrolled": false
   },
   "outputs": [
    {
     "data": {
      "application/vnd.plotly.v1+json": {
       "data": [
        {
         "name": "数据及时交付率",
         "type": "scatter",
         "uid": "d3ebcf12-e702-11e8-8ddb-a41f72875c19",
         "x": [
          "8-1",
          "8-2",
          "8-3",
          "8-4",
          "8-5",
          "9-1",
          "9-2",
          "9-3",
          "9-4",
          "10-2",
          "10-3",
          "10-4",
          "10-5",
          "11-1"
         ],
         "y": [
          1,
          1,
          1,
          1,
          1,
          1,
          1,
          1,
          1,
          1,
          1,
          1,
          0.993006993006993,
          1
         ]
        },
        {
         "name": "反馈及时率",
         "type": "scatter",
         "uid": "d3ebcf13-e702-11e8-8ddb-a41f72875c19",
         "x": [
          "8-1",
          "8-2",
          "8-3",
          "8-4",
          "8-5",
          "9-1",
          "9-2",
          "9-3",
          "9-4",
          "10-2",
          "10-3",
          "10-4",
          "10-5",
          "11-1"
         ],
         "y": [
          0.9661016949152542,
          0.9668508287292817,
          0.9878787878787879,
          0.968944099378882,
          0.93,
          0.9849246231155779,
          0.9274193548387096,
          1,
          0.9943181818181818,
          1,
          0.9772727272727273,
          0.948905109489051,
          1,
          0.9743589743589743
         ]
        }
       ],
       "layout": {
        "title": "数据及时交付率&反馈及时率周趋势图",
        "xaxis": {
         "mirror": "all",
         "nticks": 20,
         "showgrid": true,
         "showline": true,
         "title": "周",
         "type": "category",
         "zeroline": true
        },
        "yaxis": {
         "mirror": "all",
         "nticks": 20,
         "showgrid": true,
         "showline": true,
         "title": "数据及时交付率&反馈及时率",
         "zeroline": true
        }
       }
      },
      "text/html": [
       "<div id=\"33a13c80-5b83-44b7-9cbe-bf3236e04388\" style=\"height: 525px; width: 100%;\" class=\"plotly-graph-div\"></div><script type=\"text/javascript\">require([\"plotly\"], function(Plotly) { window.PLOTLYENV=window.PLOTLYENV || {};window.PLOTLYENV.BASE_URL=\"https://plot.ly\";Plotly.newPlot(\"33a13c80-5b83-44b7-9cbe-bf3236e04388\", [{\"name\": \"\\u6570\\u636e\\u53ca\\u65f6\\u4ea4\\u4ed8\\u7387\", \"x\": [\"8-1\", \"8-2\", \"8-3\", \"8-4\", \"8-5\", \"9-1\", \"9-2\", \"9-3\", \"9-4\", \"10-2\", \"10-3\", \"10-4\", \"10-5\", \"11-1\"], \"y\": [1.0, 1.0, 1.0, 1.0, 1.0, 1.0, 1.0, 1.0, 1.0, 1.0, 1.0, 1.0, 0.993006993006993, 1.0], \"type\": \"scatter\", \"uid\": \"d3ebcf12-e702-11e8-8ddb-a41f72875c19\"}, {\"name\": \"\\u53cd\\u9988\\u53ca\\u65f6\\u7387\", \"x\": [\"8-1\", \"8-2\", \"8-3\", \"8-4\", \"8-5\", \"9-1\", \"9-2\", \"9-3\", \"9-4\", \"10-2\", \"10-3\", \"10-4\", \"10-5\", \"11-1\"], \"y\": [0.9661016949152542, 0.9668508287292817, 0.9878787878787879, 0.968944099378882, 0.93, 0.9849246231155779, 0.9274193548387096, 1.0, 0.9943181818181818, 1.0, 0.9772727272727273, 0.948905109489051, 1.0, 0.9743589743589743], \"type\": \"scatter\", \"uid\": \"d3ebcf13-e702-11e8-8ddb-a41f72875c19\"}], {\"title\": \"\\u6570\\u636e\\u53ca\\u65f6\\u4ea4\\u4ed8\\u7387&\\u53cd\\u9988\\u53ca\\u65f6\\u7387\\u5468\\u8d8b\\u52bf\\u56fe\", \"xaxis\": {\"mirror\": \"all\", \"nticks\": 20, \"showgrid\": true, \"showline\": true, \"title\": \"\\u5468\", \"type\": \"category\", \"zeroline\": true}, \"yaxis\": {\"mirror\": \"all\", \"nticks\": 20, \"showgrid\": true, \"showline\": true, \"title\": \"\\u6570\\u636e\\u53ca\\u65f6\\u4ea4\\u4ed8\\u7387&\\u53cd\\u9988\\u53ca\\u65f6\\u7387\", \"zeroline\": true}}, {\"showLink\": true, \"linkText\": \"Export to plot.ly\"})});</script>"
      ],
      "text/vnd.plotly.v1+html": [
       "<div id=\"33a13c80-5b83-44b7-9cbe-bf3236e04388\" style=\"height: 525px; width: 100%;\" class=\"plotly-graph-div\"></div><script type=\"text/javascript\">require([\"plotly\"], function(Plotly) { window.PLOTLYENV=window.PLOTLYENV || {};window.PLOTLYENV.BASE_URL=\"https://plot.ly\";Plotly.newPlot(\"33a13c80-5b83-44b7-9cbe-bf3236e04388\", [{\"name\": \"\\u6570\\u636e\\u53ca\\u65f6\\u4ea4\\u4ed8\\u7387\", \"x\": [\"8-1\", \"8-2\", \"8-3\", \"8-4\", \"8-5\", \"9-1\", \"9-2\", \"9-3\", \"9-4\", \"10-2\", \"10-3\", \"10-4\", \"10-5\", \"11-1\"], \"y\": [1.0, 1.0, 1.0, 1.0, 1.0, 1.0, 1.0, 1.0, 1.0, 1.0, 1.0, 1.0, 0.993006993006993, 1.0], \"type\": \"scatter\", \"uid\": \"d3ebcf12-e702-11e8-8ddb-a41f72875c19\"}, {\"name\": \"\\u53cd\\u9988\\u53ca\\u65f6\\u7387\", \"x\": [\"8-1\", \"8-2\", \"8-3\", \"8-4\", \"8-5\", \"9-1\", \"9-2\", \"9-3\", \"9-4\", \"10-2\", \"10-3\", \"10-4\", \"10-5\", \"11-1\"], \"y\": [0.9661016949152542, 0.9668508287292817, 0.9878787878787879, 0.968944099378882, 0.93, 0.9849246231155779, 0.9274193548387096, 1.0, 0.9943181818181818, 1.0, 0.9772727272727273, 0.948905109489051, 1.0, 0.9743589743589743], \"type\": \"scatter\", \"uid\": \"d3ebcf13-e702-11e8-8ddb-a41f72875c19\"}], {\"title\": \"\\u6570\\u636e\\u53ca\\u65f6\\u4ea4\\u4ed8\\u7387&\\u53cd\\u9988\\u53ca\\u65f6\\u7387\\u5468\\u8d8b\\u52bf\\u56fe\", \"xaxis\": {\"mirror\": \"all\", \"nticks\": 20, \"showgrid\": true, \"showline\": true, \"title\": \"\\u5468\", \"type\": \"category\", \"zeroline\": true}, \"yaxis\": {\"mirror\": \"all\", \"nticks\": 20, \"showgrid\": true, \"showline\": true, \"title\": \"\\u6570\\u636e\\u53ca\\u65f6\\u4ea4\\u4ed8\\u7387&\\u53cd\\u9988\\u53ca\\u65f6\\u7387\", \"zeroline\": true}}, {\"showLink\": true, \"linkText\": \"Export to plot.ly\"})});</script>"
      ]
     },
     "metadata": {},
     "output_type": "display_data"
    },
    {
     "data": {
      "application/vnd.plotly.v1+json": {
       "data": [
        {
         "line": {
          "dash": "solid"
         },
         "name": "数据及时交付率(北京组)",
         "type": "scatter",
         "uid": "d3ebcf14-e702-11e8-8ddb-a41f72875c19",
         "x": [
          "8-1",
          "8-2",
          "8-3",
          "8-4",
          "8-5",
          "9-1",
          "9-2",
          "9-3",
          "9-4",
          "10-2",
          "10-3",
          "10-4",
          "10-5",
          "11-1"
         ],
         "y": [
          1,
          1,
          1,
          1,
          1,
          1,
          1,
          1,
          1,
          1,
          1,
          1,
          1,
          1
         ]
        },
        {
         "line": {
          "dash": "dot"
         },
         "name": "数据及时交付率(义乌组)",
         "type": "scatter",
         "uid": "d3ebcf15-e702-11e8-8ddb-a41f72875c19",
         "x": [
          "8-1",
          "8-2",
          "8-3",
          "8-4",
          "8-5",
          "9-1",
          "9-2",
          "9-3",
          "9-4",
          "10-2",
          "10-3",
          "10-4",
          "10-5",
          "11-1"
         ],
         "y": [
          null,
          null,
          null,
          null,
          null,
          null,
          null,
          null,
          null,
          null,
          null,
          null,
          0.9545454545454546,
          1
         ]
        },
        {
         "line": {
          "dash": "solid"
         },
         "name": "反馈及时率(北京组)",
         "type": "scatter",
         "uid": "d3ebcf16-e702-11e8-8ddb-a41f72875c19",
         "x": [
          "8-1",
          "8-2",
          "8-3",
          "8-4",
          "8-5",
          "9-1",
          "9-2",
          "9-3",
          "9-4",
          "10-2",
          "10-3",
          "10-4",
          "10-5",
          "11-1"
         ],
         "y": [
          0.9661016949152542,
          0.9668508287292817,
          0.9878787878787879,
          0.968944099378882,
          0.93,
          0.9849246231155779,
          0.9274193548387096,
          1,
          0.9943181818181818,
          1,
          0.9772727272727273,
          0.948905109489051,
          1,
          0.9692307692307692
         ]
        },
        {
         "line": {
          "dash": "dot"
         },
         "name": "反馈及时率(义乌组)",
         "type": "scatter",
         "uid": "d3ebcf17-e702-11e8-8ddb-a41f72875c19",
         "x": [
          "8-1",
          "8-2",
          "8-3",
          "8-4",
          "8-5",
          "9-1",
          "9-2",
          "9-3",
          "9-4",
          "10-2",
          "10-3",
          "10-4",
          "10-5",
          "11-1"
         ],
         "y": [
          null,
          null,
          null,
          null,
          null,
          null,
          null,
          null,
          null,
          null,
          null,
          null,
          1,
          1
         ]
        }
       ],
       "layout": {
        "title": "数据及时交付率&反馈及时率周趋势图",
        "xaxis": {
         "mirror": "all",
         "nticks": 20,
         "showgrid": true,
         "showline": true,
         "title": "周",
         "type": "category",
         "zeroline": true
        },
        "yaxis": {
         "mirror": "all",
         "nticks": 20,
         "showgrid": true,
         "showline": true,
         "title": "数据及时交付率&反馈及时率",
         "zeroline": true
        }
       }
      },
      "text/html": [
       "<div id=\"a2a993ce-7e24-4d86-869b-2d184304b79d\" style=\"height: 525px; width: 100%;\" class=\"plotly-graph-div\"></div><script type=\"text/javascript\">require([\"plotly\"], function(Plotly) { window.PLOTLYENV=window.PLOTLYENV || {};window.PLOTLYENV.BASE_URL=\"https://plot.ly\";Plotly.newPlot(\"a2a993ce-7e24-4d86-869b-2d184304b79d\", [{\"line\": {\"dash\": \"solid\"}, \"name\": \"\\u6570\\u636e\\u53ca\\u65f6\\u4ea4\\u4ed8\\u7387(\\u5317\\u4eac\\u7ec4)\", \"x\": [\"8-1\", \"8-2\", \"8-3\", \"8-4\", \"8-5\", \"9-1\", \"9-2\", \"9-3\", \"9-4\", \"10-2\", \"10-3\", \"10-4\", \"10-5\", \"11-1\"], \"y\": [1.0, 1.0, 1.0, 1.0, 1.0, 1.0, 1.0, 1.0, 1.0, 1.0, 1.0, 1.0, 1.0, 1.0], \"type\": \"scatter\", \"uid\": \"d3ebcf14-e702-11e8-8ddb-a41f72875c19\"}, {\"line\": {\"dash\": \"dot\"}, \"name\": \"\\u6570\\u636e\\u53ca\\u65f6\\u4ea4\\u4ed8\\u7387(\\u4e49\\u4e4c\\u7ec4)\", \"x\": [\"8-1\", \"8-2\", \"8-3\", \"8-4\", \"8-5\", \"9-1\", \"9-2\", \"9-3\", \"9-4\", \"10-2\", \"10-3\", \"10-4\", \"10-5\", \"11-1\"], \"y\": [null, null, null, null, null, null, null, null, null, null, null, null, 0.9545454545454546, 1.0], \"type\": \"scatter\", \"uid\": \"d3ebcf15-e702-11e8-8ddb-a41f72875c19\"}, {\"line\": {\"dash\": \"solid\"}, \"name\": \"\\u53cd\\u9988\\u53ca\\u65f6\\u7387(\\u5317\\u4eac\\u7ec4)\", \"x\": [\"8-1\", \"8-2\", \"8-3\", \"8-4\", \"8-5\", \"9-1\", \"9-2\", \"9-3\", \"9-4\", \"10-2\", \"10-3\", \"10-4\", \"10-5\", \"11-1\"], \"y\": [0.9661016949152542, 0.9668508287292817, 0.9878787878787879, 0.968944099378882, 0.93, 0.9849246231155779, 0.9274193548387096, 1.0, 0.9943181818181818, 1.0, 0.9772727272727273, 0.948905109489051, 1.0, 0.9692307692307692], \"type\": \"scatter\", \"uid\": \"d3ebcf16-e702-11e8-8ddb-a41f72875c19\"}, {\"line\": {\"dash\": \"dot\"}, \"name\": \"\\u53cd\\u9988\\u53ca\\u65f6\\u7387(\\u4e49\\u4e4c\\u7ec4)\", \"x\": [\"8-1\", \"8-2\", \"8-3\", \"8-4\", \"8-5\", \"9-1\", \"9-2\", \"9-3\", \"9-4\", \"10-2\", \"10-3\", \"10-4\", \"10-5\", \"11-1\"], \"y\": [null, null, null, null, null, null, null, null, null, null, null, null, 1.0, 1.0], \"type\": \"scatter\", \"uid\": \"d3ebcf17-e702-11e8-8ddb-a41f72875c19\"}], {\"title\": \"\\u6570\\u636e\\u53ca\\u65f6\\u4ea4\\u4ed8\\u7387&\\u53cd\\u9988\\u53ca\\u65f6\\u7387\\u5468\\u8d8b\\u52bf\\u56fe\", \"xaxis\": {\"mirror\": \"all\", \"nticks\": 20, \"showgrid\": true, \"showline\": true, \"title\": \"\\u5468\", \"type\": \"category\", \"zeroline\": true}, \"yaxis\": {\"mirror\": \"all\", \"nticks\": 20, \"showgrid\": true, \"showline\": true, \"title\": \"\\u6570\\u636e\\u53ca\\u65f6\\u4ea4\\u4ed8\\u7387&\\u53cd\\u9988\\u53ca\\u65f6\\u7387\", \"zeroline\": true}}, {\"showLink\": true, \"linkText\": \"Export to plot.ly\"})});</script>"
      ],
      "text/vnd.plotly.v1+html": [
       "<div id=\"a2a993ce-7e24-4d86-869b-2d184304b79d\" style=\"height: 525px; width: 100%;\" class=\"plotly-graph-div\"></div><script type=\"text/javascript\">require([\"plotly\"], function(Plotly) { window.PLOTLYENV=window.PLOTLYENV || {};window.PLOTLYENV.BASE_URL=\"https://plot.ly\";Plotly.newPlot(\"a2a993ce-7e24-4d86-869b-2d184304b79d\", [{\"line\": {\"dash\": \"solid\"}, \"name\": \"\\u6570\\u636e\\u53ca\\u65f6\\u4ea4\\u4ed8\\u7387(\\u5317\\u4eac\\u7ec4)\", \"x\": [\"8-1\", \"8-2\", \"8-3\", \"8-4\", \"8-5\", \"9-1\", \"9-2\", \"9-3\", \"9-4\", \"10-2\", \"10-3\", \"10-4\", \"10-5\", \"11-1\"], \"y\": [1.0, 1.0, 1.0, 1.0, 1.0, 1.0, 1.0, 1.0, 1.0, 1.0, 1.0, 1.0, 1.0, 1.0], \"type\": \"scatter\", \"uid\": \"d3ebcf14-e702-11e8-8ddb-a41f72875c19\"}, {\"line\": {\"dash\": \"dot\"}, \"name\": \"\\u6570\\u636e\\u53ca\\u65f6\\u4ea4\\u4ed8\\u7387(\\u4e49\\u4e4c\\u7ec4)\", \"x\": [\"8-1\", \"8-2\", \"8-3\", \"8-4\", \"8-5\", \"9-1\", \"9-2\", \"9-3\", \"9-4\", \"10-2\", \"10-3\", \"10-4\", \"10-5\", \"11-1\"], \"y\": [null, null, null, null, null, null, null, null, null, null, null, null, 0.9545454545454546, 1.0], \"type\": \"scatter\", \"uid\": \"d3ebcf15-e702-11e8-8ddb-a41f72875c19\"}, {\"line\": {\"dash\": \"solid\"}, \"name\": \"\\u53cd\\u9988\\u53ca\\u65f6\\u7387(\\u5317\\u4eac\\u7ec4)\", \"x\": [\"8-1\", \"8-2\", \"8-3\", \"8-4\", \"8-5\", \"9-1\", \"9-2\", \"9-3\", \"9-4\", \"10-2\", \"10-3\", \"10-4\", \"10-5\", \"11-1\"], \"y\": [0.9661016949152542, 0.9668508287292817, 0.9878787878787879, 0.968944099378882, 0.93, 0.9849246231155779, 0.9274193548387096, 1.0, 0.9943181818181818, 1.0, 0.9772727272727273, 0.948905109489051, 1.0, 0.9692307692307692], \"type\": \"scatter\", \"uid\": \"d3ebcf16-e702-11e8-8ddb-a41f72875c19\"}, {\"line\": {\"dash\": \"dot\"}, \"name\": \"\\u53cd\\u9988\\u53ca\\u65f6\\u7387(\\u4e49\\u4e4c\\u7ec4)\", \"x\": [\"8-1\", \"8-2\", \"8-3\", \"8-4\", \"8-5\", \"9-1\", \"9-2\", \"9-3\", \"9-4\", \"10-2\", \"10-3\", \"10-4\", \"10-5\", \"11-1\"], \"y\": [null, null, null, null, null, null, null, null, null, null, null, null, 1.0, 1.0], \"type\": \"scatter\", \"uid\": \"d3ebcf17-e702-11e8-8ddb-a41f72875c19\"}], {\"title\": \"\\u6570\\u636e\\u53ca\\u65f6\\u4ea4\\u4ed8\\u7387&\\u53cd\\u9988\\u53ca\\u65f6\\u7387\\u5468\\u8d8b\\u52bf\\u56fe\", \"xaxis\": {\"mirror\": \"all\", \"nticks\": 20, \"showgrid\": true, \"showline\": true, \"title\": \"\\u5468\", \"type\": \"category\", \"zeroline\": true}, \"yaxis\": {\"mirror\": \"all\", \"nticks\": 20, \"showgrid\": true, \"showline\": true, \"title\": \"\\u6570\\u636e\\u53ca\\u65f6\\u4ea4\\u4ed8\\u7387&\\u53cd\\u9988\\u53ca\\u65f6\\u7387\", \"zeroline\": true}}, {\"showLink\": true, \"linkText\": \"Export to plot.ly\"})});</script>"
      ]
     },
     "metadata": {},
     "output_type": "display_data"
    }
   ],
   "source": [
    "ss = myModule.format(all_df1 ,\"日期（格式“月-周次”）\" ,['及时反馈数','下机批次数','数据及时交付数','数据交付总数'])\n",
    "tt = ss.get_total_ratio([['反馈及时率' ,'及时反馈数' , '下机批次数','/'], \n",
    "                    ['数据及时交付率','数据及时交付数','数据交付总数','/']])\n",
    "myModule.myPlot(myModule.sort_by_index(tt)).plot('line')\n",
    "\n",
    "ss = myModule.format(all_df1 ,\"日期（格式“月-周次”）\" ,['及时反馈数','下机批次数','数据及时交付数','数据交付总数'])\n",
    "ss.add_group(\"组别\")\n",
    "tt = ss.get_total_ratio([['反馈及时率' ,'及时反馈数' , '下机批次数','/'], \n",
    "                    ['数据及时交付率','数据及时交付数','数据交付总数','/']])\n",
    "myModule.myPlot(myModule.sort_by_index(tt)).plot('line')"
   ]
  },
  {
   "cell_type": "code",
   "execution_count": 127,
   "metadata": {
    "collapsed": false
   },
   "outputs": [
    {
     "data": {
      "application/vnd.plotly.v1+json": {
       "data": [
        {
         "name": "数据及时交付率",
         "type": "scatter",
         "uid": "d3ebcf18-e702-11e8-8ddb-a41f72875c19",
         "x": [
          8,
          9,
          10,
          11
         ],
         "y": [
          1,
          1,
          0.9979423868312757,
          1
         ]
        },
        {
         "name": "反馈及时率",
         "type": "scatter",
         "uid": "d3ebcf19-e702-11e8-8ddb-a41f72875c19",
         "x": [
          8,
          9,
          10,
          11
         ],
         "y": [
          0.9668965517241379,
          0.9795275590551181,
          0.9799196787148594,
          0.9743589743589743
         ]
        }
       ],
       "layout": {
        "title": "数据及时交付率&反馈及时率月趋势图",
        "xaxis": {
         "mirror": "all",
         "nticks": 20,
         "showgrid": true,
         "showline": true,
         "title": "月",
         "type": "category",
         "zeroline": true
        },
        "yaxis": {
         "mirror": "all",
         "nticks": 20,
         "showgrid": true,
         "showline": true,
         "title": "数据及时交付率&反馈及时率",
         "zeroline": true
        }
       }
      },
      "text/html": [
       "<div id=\"db551ae1-41cb-491a-8485-e8fb38169dd1\" style=\"height: 525px; width: 100%;\" class=\"plotly-graph-div\"></div><script type=\"text/javascript\">require([\"plotly\"], function(Plotly) { window.PLOTLYENV=window.PLOTLYENV || {};window.PLOTLYENV.BASE_URL=\"https://plot.ly\";Plotly.newPlot(\"db551ae1-41cb-491a-8485-e8fb38169dd1\", [{\"name\": \"\\u6570\\u636e\\u53ca\\u65f6\\u4ea4\\u4ed8\\u7387\", \"x\": [8, 9, 10, 11], \"y\": [1.0, 1.0, 0.9979423868312757, 1.0], \"type\": \"scatter\", \"uid\": \"d3ebcf18-e702-11e8-8ddb-a41f72875c19\"}, {\"name\": \"\\u53cd\\u9988\\u53ca\\u65f6\\u7387\", \"x\": [8, 9, 10, 11], \"y\": [0.9668965517241379, 0.9795275590551181, 0.9799196787148594, 0.9743589743589743], \"type\": \"scatter\", \"uid\": \"d3ebcf19-e702-11e8-8ddb-a41f72875c19\"}], {\"title\": \"\\u6570\\u636e\\u53ca\\u65f6\\u4ea4\\u4ed8\\u7387&\\u53cd\\u9988\\u53ca\\u65f6\\u7387\\u6708\\u8d8b\\u52bf\\u56fe\", \"xaxis\": {\"mirror\": \"all\", \"nticks\": 20, \"showgrid\": true, \"showline\": true, \"title\": \"\\u6708\", \"type\": \"category\", \"zeroline\": true}, \"yaxis\": {\"mirror\": \"all\", \"nticks\": 20, \"showgrid\": true, \"showline\": true, \"title\": \"\\u6570\\u636e\\u53ca\\u65f6\\u4ea4\\u4ed8\\u7387&\\u53cd\\u9988\\u53ca\\u65f6\\u7387\", \"zeroline\": true}}, {\"showLink\": true, \"linkText\": \"Export to plot.ly\"})});</script>"
      ],
      "text/vnd.plotly.v1+html": [
       "<div id=\"db551ae1-41cb-491a-8485-e8fb38169dd1\" style=\"height: 525px; width: 100%;\" class=\"plotly-graph-div\"></div><script type=\"text/javascript\">require([\"plotly\"], function(Plotly) { window.PLOTLYENV=window.PLOTLYENV || {};window.PLOTLYENV.BASE_URL=\"https://plot.ly\";Plotly.newPlot(\"db551ae1-41cb-491a-8485-e8fb38169dd1\", [{\"name\": \"\\u6570\\u636e\\u53ca\\u65f6\\u4ea4\\u4ed8\\u7387\", \"x\": [8, 9, 10, 11], \"y\": [1.0, 1.0, 0.9979423868312757, 1.0], \"type\": \"scatter\", \"uid\": \"d3ebcf18-e702-11e8-8ddb-a41f72875c19\"}, {\"name\": \"\\u53cd\\u9988\\u53ca\\u65f6\\u7387\", \"x\": [8, 9, 10, 11], \"y\": [0.9668965517241379, 0.9795275590551181, 0.9799196787148594, 0.9743589743589743], \"type\": \"scatter\", \"uid\": \"d3ebcf19-e702-11e8-8ddb-a41f72875c19\"}], {\"title\": \"\\u6570\\u636e\\u53ca\\u65f6\\u4ea4\\u4ed8\\u7387&\\u53cd\\u9988\\u53ca\\u65f6\\u7387\\u6708\\u8d8b\\u52bf\\u56fe\", \"xaxis\": {\"mirror\": \"all\", \"nticks\": 20, \"showgrid\": true, \"showline\": true, \"title\": \"\\u6708\", \"type\": \"category\", \"zeroline\": true}, \"yaxis\": {\"mirror\": \"all\", \"nticks\": 20, \"showgrid\": true, \"showline\": true, \"title\": \"\\u6570\\u636e\\u53ca\\u65f6\\u4ea4\\u4ed8\\u7387&\\u53cd\\u9988\\u53ca\\u65f6\\u7387\", \"zeroline\": true}}, {\"showLink\": true, \"linkText\": \"Export to plot.ly\"})});</script>"
      ]
     },
     "metadata": {},
     "output_type": "display_data"
    },
    {
     "data": {
      "application/vnd.plotly.v1+json": {
       "data": [
        {
         "line": {
          "dash": "solid"
         },
         "name": "数据及时交付率(北京组)",
         "type": "scatter",
         "uid": "d3ebcf1a-e702-11e8-8ddb-a41f72875c19",
         "x": [
          8,
          9,
          10,
          11
         ],
         "y": [
          1,
          1,
          1,
          1
         ]
        },
        {
         "line": {
          "dash": "dot"
         },
         "name": "数据及时交付率(义乌组)",
         "type": "scatter",
         "uid": "d3ebcf1b-e702-11e8-8ddb-a41f72875c19",
         "x": [
          8,
          9,
          10,
          11
         ],
         "y": [
          null,
          null,
          0.9545454545454546,
          1
         ]
        },
        {
         "line": {
          "dash": "solid"
         },
         "name": "反馈及时率(北京组)",
         "type": "scatter",
         "uid": "d3ebcf1c-e702-11e8-8ddb-a41f72875c19",
         "x": [
          8,
          9,
          10,
          11
         ],
         "y": [
          0.9668965517241379,
          0.9795275590551181,
          0.9788135593220338,
          0.9692307692307692
         ]
        },
        {
         "line": {
          "dash": "dot"
         },
         "name": "反馈及时率(义乌组)",
         "type": "scatter",
         "uid": "d3ebcf1d-e702-11e8-8ddb-a41f72875c19",
         "x": [
          8,
          9,
          10,
          11
         ],
         "y": [
          null,
          null,
          1,
          1
         ]
        }
       ],
       "layout": {
        "title": "数据及时交付率&反馈及时率月趋势图",
        "xaxis": {
         "mirror": "all",
         "nticks": 20,
         "showgrid": true,
         "showline": true,
         "title": "月",
         "type": "category",
         "zeroline": true
        },
        "yaxis": {
         "mirror": "all",
         "nticks": 20,
         "showgrid": true,
         "showline": true,
         "title": "数据及时交付率&反馈及时率",
         "zeroline": true
        }
       }
      },
      "text/html": [
       "<div id=\"603d1305-26ee-4762-98e9-1a7c7d59ae5f\" style=\"height: 525px; width: 100%;\" class=\"plotly-graph-div\"></div><script type=\"text/javascript\">require([\"plotly\"], function(Plotly) { window.PLOTLYENV=window.PLOTLYENV || {};window.PLOTLYENV.BASE_URL=\"https://plot.ly\";Plotly.newPlot(\"603d1305-26ee-4762-98e9-1a7c7d59ae5f\", [{\"line\": {\"dash\": \"solid\"}, \"name\": \"\\u6570\\u636e\\u53ca\\u65f6\\u4ea4\\u4ed8\\u7387(\\u5317\\u4eac\\u7ec4)\", \"x\": [8, 9, 10, 11], \"y\": [1.0, 1.0, 1.0, 1.0], \"type\": \"scatter\", \"uid\": \"d3ebcf1a-e702-11e8-8ddb-a41f72875c19\"}, {\"line\": {\"dash\": \"dot\"}, \"name\": \"\\u6570\\u636e\\u53ca\\u65f6\\u4ea4\\u4ed8\\u7387(\\u4e49\\u4e4c\\u7ec4)\", \"x\": [8, 9, 10, 11], \"y\": [null, null, 0.9545454545454546, 1.0], \"type\": \"scatter\", \"uid\": \"d3ebcf1b-e702-11e8-8ddb-a41f72875c19\"}, {\"line\": {\"dash\": \"solid\"}, \"name\": \"\\u53cd\\u9988\\u53ca\\u65f6\\u7387(\\u5317\\u4eac\\u7ec4)\", \"x\": [8, 9, 10, 11], \"y\": [0.9668965517241379, 0.9795275590551181, 0.9788135593220338, 0.9692307692307692], \"type\": \"scatter\", \"uid\": \"d3ebcf1c-e702-11e8-8ddb-a41f72875c19\"}, {\"line\": {\"dash\": \"dot\"}, \"name\": \"\\u53cd\\u9988\\u53ca\\u65f6\\u7387(\\u4e49\\u4e4c\\u7ec4)\", \"x\": [8, 9, 10, 11], \"y\": [null, null, 1.0, 1.0], \"type\": \"scatter\", \"uid\": \"d3ebcf1d-e702-11e8-8ddb-a41f72875c19\"}], {\"title\": \"\\u6570\\u636e\\u53ca\\u65f6\\u4ea4\\u4ed8\\u7387&\\u53cd\\u9988\\u53ca\\u65f6\\u7387\\u6708\\u8d8b\\u52bf\\u56fe\", \"xaxis\": {\"mirror\": \"all\", \"nticks\": 20, \"showgrid\": true, \"showline\": true, \"title\": \"\\u6708\", \"type\": \"category\", \"zeroline\": true}, \"yaxis\": {\"mirror\": \"all\", \"nticks\": 20, \"showgrid\": true, \"showline\": true, \"title\": \"\\u6570\\u636e\\u53ca\\u65f6\\u4ea4\\u4ed8\\u7387&\\u53cd\\u9988\\u53ca\\u65f6\\u7387\", \"zeroline\": true}}, {\"showLink\": true, \"linkText\": \"Export to plot.ly\"})});</script>"
      ],
      "text/vnd.plotly.v1+html": [
       "<div id=\"603d1305-26ee-4762-98e9-1a7c7d59ae5f\" style=\"height: 525px; width: 100%;\" class=\"plotly-graph-div\"></div><script type=\"text/javascript\">require([\"plotly\"], function(Plotly) { window.PLOTLYENV=window.PLOTLYENV || {};window.PLOTLYENV.BASE_URL=\"https://plot.ly\";Plotly.newPlot(\"603d1305-26ee-4762-98e9-1a7c7d59ae5f\", [{\"line\": {\"dash\": \"solid\"}, \"name\": \"\\u6570\\u636e\\u53ca\\u65f6\\u4ea4\\u4ed8\\u7387(\\u5317\\u4eac\\u7ec4)\", \"x\": [8, 9, 10, 11], \"y\": [1.0, 1.0, 1.0, 1.0], \"type\": \"scatter\", \"uid\": \"d3ebcf1a-e702-11e8-8ddb-a41f72875c19\"}, {\"line\": {\"dash\": \"dot\"}, \"name\": \"\\u6570\\u636e\\u53ca\\u65f6\\u4ea4\\u4ed8\\u7387(\\u4e49\\u4e4c\\u7ec4)\", \"x\": [8, 9, 10, 11], \"y\": [null, null, 0.9545454545454546, 1.0], \"type\": \"scatter\", \"uid\": \"d3ebcf1b-e702-11e8-8ddb-a41f72875c19\"}, {\"line\": {\"dash\": \"solid\"}, \"name\": \"\\u53cd\\u9988\\u53ca\\u65f6\\u7387(\\u5317\\u4eac\\u7ec4)\", \"x\": [8, 9, 10, 11], \"y\": [0.9668965517241379, 0.9795275590551181, 0.9788135593220338, 0.9692307692307692], \"type\": \"scatter\", \"uid\": \"d3ebcf1c-e702-11e8-8ddb-a41f72875c19\"}, {\"line\": {\"dash\": \"dot\"}, \"name\": \"\\u53cd\\u9988\\u53ca\\u65f6\\u7387(\\u4e49\\u4e4c\\u7ec4)\", \"x\": [8, 9, 10, 11], \"y\": [null, null, 1.0, 1.0], \"type\": \"scatter\", \"uid\": \"d3ebcf1d-e702-11e8-8ddb-a41f72875c19\"}], {\"title\": \"\\u6570\\u636e\\u53ca\\u65f6\\u4ea4\\u4ed8\\u7387&\\u53cd\\u9988\\u53ca\\u65f6\\u7387\\u6708\\u8d8b\\u52bf\\u56fe\", \"xaxis\": {\"mirror\": \"all\", \"nticks\": 20, \"showgrid\": true, \"showline\": true, \"title\": \"\\u6708\", \"type\": \"category\", \"zeroline\": true}, \"yaxis\": {\"mirror\": \"all\", \"nticks\": 20, \"showgrid\": true, \"showline\": true, \"title\": \"\\u6570\\u636e\\u53ca\\u65f6\\u4ea4\\u4ed8\\u7387&\\u53cd\\u9988\\u53ca\\u65f6\\u7387\", \"zeroline\": true}}, {\"showLink\": true, \"linkText\": \"Export to plot.ly\"})});</script>"
      ]
     },
     "metadata": {},
     "output_type": "display_data"
    }
   ],
   "source": [
    "ss = myModule.format(all_df1 ,\"month\" ,['及时反馈数','下机批次数','数据及时交付数','数据交付总数'])\n",
    "tt = ss.get_total_ratio([['反馈及时率' ,'及时反馈数' , '下机批次数','/'], \n",
    "                    ['数据及时交付率','数据及时交付数','数据交付总数','/']])\n",
    "myModule.myPlot(tt).plot('line',\"月\")\n",
    "\n",
    "ss = myModule.format(all_df1 ,\"month\" ,['及时反馈数','下机批次数','数据及时交付数','数据交付总数'])\n",
    "ss.add_group('组别')\n",
    "tt = ss.get_total_ratio([['反馈及时率' ,'及时反馈数' , '下机批次数','/'], \n",
    "                    ['数据及时交付率','数据及时交付数','数据交付总数','/']])\n",
    "myModule.myPlot(tt).plot('line',\"月\")"
   ]
  },
  {
   "cell_type": "markdown",
   "metadata": {},
   "source": [
    "#### 24h拆分过滤率和48h拆分过滤率"
   ]
  },
  {
   "cell_type": "code",
   "execution_count": 128,
   "metadata": {
    "collapsed": false
   },
   "outputs": [],
   "source": [
    "#ss = myModule.format(all_df1 ,\"日期（格式“月-周次”）\" ,['24h完成批次数', '下机批次数','48h完成批次数'])\n",
    "#tt = ss.get_total_ratio([['24h拆分过滤率' ,'24h完成批次数', '下机批次数','/'], \n",
    "                    #['48h拆分过滤率','48h完成批次数', '下机批次数','/']])\n",
    "#myModule.myPlot(myModule.sort_by_index(tt)).plot('line')\n",
    "\n",
    "#ss = myModule.format(all_df1 ,\"month\" ,['24h完成批次数', '下机批次数','48h完成批次数'])\n",
    "#tt = ss.get_total_ratio([['24h拆分过滤率' ,'24h完成批次数', '下机批次数','/'], \n",
    "                   # ['48h拆分过滤率','48h完成批次数', '下机批次数','/']])\n",
    "#myModule.myPlot(tt).plot('line',\"月\")"
   ]
  },
  {
   "cell_type": "markdown",
   "metadata": {},
   "source": [
    "#### 平均反馈时长"
   ]
  },
  {
   "cell_type": "code",
   "execution_count": 129,
   "metadata": {
    "collapsed": false
   },
   "outputs": [
    {
     "data": {
      "application/vnd.plotly.v1+json": {
       "data": [
        {
         "name": "平均反馈时长",
         "type": "scatter",
         "uid": "d4ca1a4a-e702-11e8-8ddb-a41f72875c19",
         "x": [
          "8-1",
          "8-2",
          "8-3",
          "8-4",
          "8-5",
          "9-1",
          "9-2",
          "9-3",
          "9-4",
          "10-2",
          "10-3",
          "10-4",
          "10-5",
          "11-1"
         ],
         "y": [
          6.4072881355932205,
          4.446298342541437,
          5.337454545454546,
          4.985962732919255,
          6.498000000000001,
          9.664371859296482,
          7.4699193548387095,
          3.604632352941177,
          3.2088068181818183,
          2.7965714285714283,
          4.1249242424242425,
          4.655182481751825,
          3.173207547169812,
          5.4305128205128215
         ]
        }
       ],
       "layout": {
        "title": "平均反馈时长周趋势图",
        "xaxis": {
         "mirror": "all",
         "nticks": 20,
         "showgrid": true,
         "showline": true,
         "title": "周",
         "type": "category",
         "zeroline": true
        },
        "yaxis": {
         "mirror": "all",
         "nticks": 20,
         "showgrid": true,
         "showline": true,
         "title": "平均反馈时长",
         "zeroline": true
        }
       }
      },
      "text/html": [
       "<div id=\"83b2422a-7460-401b-8da8-f42a1a33b0d8\" style=\"height: 525px; width: 100%;\" class=\"plotly-graph-div\"></div><script type=\"text/javascript\">require([\"plotly\"], function(Plotly) { window.PLOTLYENV=window.PLOTLYENV || {};window.PLOTLYENV.BASE_URL=\"https://plot.ly\";Plotly.newPlot(\"83b2422a-7460-401b-8da8-f42a1a33b0d8\", [{\"name\": \"\\u5e73\\u5747\\u53cd\\u9988\\u65f6\\u957f\", \"x\": [\"8-1\", \"8-2\", \"8-3\", \"8-4\", \"8-5\", \"9-1\", \"9-2\", \"9-3\", \"9-4\", \"10-2\", \"10-3\", \"10-4\", \"10-5\", \"11-1\"], \"y\": [6.4072881355932205, 4.446298342541437, 5.337454545454546, 4.985962732919255, 6.498000000000001, 9.664371859296482, 7.4699193548387095, 3.604632352941177, 3.2088068181818183, 2.7965714285714283, 4.1249242424242425, 4.655182481751825, 3.173207547169812, 5.4305128205128215], \"type\": \"scatter\", \"uid\": \"d4ca1a4a-e702-11e8-8ddb-a41f72875c19\"}], {\"title\": \"\\u5e73\\u5747\\u53cd\\u9988\\u65f6\\u957f\\u5468\\u8d8b\\u52bf\\u56fe\", \"xaxis\": {\"mirror\": \"all\", \"nticks\": 20, \"showgrid\": true, \"showline\": true, \"title\": \"\\u5468\", \"type\": \"category\", \"zeroline\": true}, \"yaxis\": {\"mirror\": \"all\", \"nticks\": 20, \"showgrid\": true, \"showline\": true, \"title\": \"\\u5e73\\u5747\\u53cd\\u9988\\u65f6\\u957f\", \"zeroline\": true}}, {\"showLink\": true, \"linkText\": \"Export to plot.ly\"})});</script>"
      ],
      "text/vnd.plotly.v1+html": [
       "<div id=\"83b2422a-7460-401b-8da8-f42a1a33b0d8\" style=\"height: 525px; width: 100%;\" class=\"plotly-graph-div\"></div><script type=\"text/javascript\">require([\"plotly\"], function(Plotly) { window.PLOTLYENV=window.PLOTLYENV || {};window.PLOTLYENV.BASE_URL=\"https://plot.ly\";Plotly.newPlot(\"83b2422a-7460-401b-8da8-f42a1a33b0d8\", [{\"name\": \"\\u5e73\\u5747\\u53cd\\u9988\\u65f6\\u957f\", \"x\": [\"8-1\", \"8-2\", \"8-3\", \"8-4\", \"8-5\", \"9-1\", \"9-2\", \"9-3\", \"9-4\", \"10-2\", \"10-3\", \"10-4\", \"10-5\", \"11-1\"], \"y\": [6.4072881355932205, 4.446298342541437, 5.337454545454546, 4.985962732919255, 6.498000000000001, 9.664371859296482, 7.4699193548387095, 3.604632352941177, 3.2088068181818183, 2.7965714285714283, 4.1249242424242425, 4.655182481751825, 3.173207547169812, 5.4305128205128215], \"type\": \"scatter\", \"uid\": \"d4ca1a4a-e702-11e8-8ddb-a41f72875c19\"}], {\"title\": \"\\u5e73\\u5747\\u53cd\\u9988\\u65f6\\u957f\\u5468\\u8d8b\\u52bf\\u56fe\", \"xaxis\": {\"mirror\": \"all\", \"nticks\": 20, \"showgrid\": true, \"showline\": true, \"title\": \"\\u5468\", \"type\": \"category\", \"zeroline\": true}, \"yaxis\": {\"mirror\": \"all\", \"nticks\": 20, \"showgrid\": true, \"showline\": true, \"title\": \"\\u5e73\\u5747\\u53cd\\u9988\\u65f6\\u957f\", \"zeroline\": true}}, {\"showLink\": true, \"linkText\": \"Export to plot.ly\"})});</script>"
      ]
     },
     "metadata": {},
     "output_type": "display_data"
    },
    {
     "data": {
      "application/vnd.plotly.v1+json": {
       "data": [
        {
         "line": {
          "dash": "solid"
         },
         "name": "平均反馈时长(北京组)",
         "type": "scatter",
         "uid": "d4ca1a4b-e702-11e8-8ddb-a41f72875c19",
         "x": [
          "8-1",
          "8-2",
          "8-3",
          "8-4",
          "8-5",
          "9-1",
          "9-2",
          "9-3",
          "9-4",
          "10-2",
          "10-3",
          "10-4",
          "10-5",
          "11-1"
         ],
         "y": [
          6.4072881355932205,
          4.446298342541437,
          5.337454545454546,
          4.985962732919255,
          6.498000000000001,
          9.664371859296482,
          7.4699193548387095,
          3.604632352941177,
          3.2088068181818183,
          2.7965714285714283,
          4.1249242424242425,
          4.655182481751825,
          3.4737593984962407,
          5.115461538461538
         ]
        },
        {
         "line": {
          "dash": "dot"
         },
         "name": "平均反馈时长(义乌组)",
         "type": "scatter",
         "uid": "d4ca1a4c-e702-11e8-8ddb-a41f72875c19",
         "x": [
          "8-1",
          "8-2",
          "8-3",
          "8-4",
          "8-5",
          "9-1",
          "9-2",
          "9-3",
          "9-4",
          "10-2",
          "10-3",
          "10-4",
          "10-5",
          "11-1"
         ],
         "y": [
          null,
          null,
          null,
          null,
          null,
          null,
          null,
          null,
          null,
          null,
          null,
          null,
          1.6357692307692309,
          7.00576923076923
         ]
        }
       ],
       "layout": {
        "title": "平均反馈时长周趋势图",
        "xaxis": {
         "mirror": "all",
         "nticks": 20,
         "showgrid": true,
         "showline": true,
         "title": "周",
         "type": "category",
         "zeroline": true
        },
        "yaxis": {
         "mirror": "all",
         "nticks": 20,
         "showgrid": true,
         "showline": true,
         "title": "平均反馈时长",
         "zeroline": true
        }
       }
      },
      "text/html": [
       "<div id=\"262605d3-93c5-4435-9dd5-42ce2a140534\" style=\"height: 525px; width: 100%;\" class=\"plotly-graph-div\"></div><script type=\"text/javascript\">require([\"plotly\"], function(Plotly) { window.PLOTLYENV=window.PLOTLYENV || {};window.PLOTLYENV.BASE_URL=\"https://plot.ly\";Plotly.newPlot(\"262605d3-93c5-4435-9dd5-42ce2a140534\", [{\"line\": {\"dash\": \"solid\"}, \"name\": \"\\u5e73\\u5747\\u53cd\\u9988\\u65f6\\u957f(\\u5317\\u4eac\\u7ec4)\", \"x\": [\"8-1\", \"8-2\", \"8-3\", \"8-4\", \"8-5\", \"9-1\", \"9-2\", \"9-3\", \"9-4\", \"10-2\", \"10-3\", \"10-4\", \"10-5\", \"11-1\"], \"y\": [6.4072881355932205, 4.446298342541437, 5.337454545454546, 4.985962732919255, 6.498000000000001, 9.664371859296482, 7.4699193548387095, 3.604632352941177, 3.2088068181818183, 2.7965714285714283, 4.1249242424242425, 4.655182481751825, 3.4737593984962407, 5.115461538461538], \"type\": \"scatter\", \"uid\": \"d4ca1a4b-e702-11e8-8ddb-a41f72875c19\"}, {\"line\": {\"dash\": \"dot\"}, \"name\": \"\\u5e73\\u5747\\u53cd\\u9988\\u65f6\\u957f(\\u4e49\\u4e4c\\u7ec4)\", \"x\": [\"8-1\", \"8-2\", \"8-3\", \"8-4\", \"8-5\", \"9-1\", \"9-2\", \"9-3\", \"9-4\", \"10-2\", \"10-3\", \"10-4\", \"10-5\", \"11-1\"], \"y\": [null, null, null, null, null, null, null, null, null, null, null, null, 1.6357692307692309, 7.00576923076923], \"type\": \"scatter\", \"uid\": \"d4ca1a4c-e702-11e8-8ddb-a41f72875c19\"}], {\"title\": \"\\u5e73\\u5747\\u53cd\\u9988\\u65f6\\u957f\\u5468\\u8d8b\\u52bf\\u56fe\", \"xaxis\": {\"mirror\": \"all\", \"nticks\": 20, \"showgrid\": true, \"showline\": true, \"title\": \"\\u5468\", \"type\": \"category\", \"zeroline\": true}, \"yaxis\": {\"mirror\": \"all\", \"nticks\": 20, \"showgrid\": true, \"showline\": true, \"title\": \"\\u5e73\\u5747\\u53cd\\u9988\\u65f6\\u957f\", \"zeroline\": true}}, {\"showLink\": true, \"linkText\": \"Export to plot.ly\"})});</script>"
      ],
      "text/vnd.plotly.v1+html": [
       "<div id=\"262605d3-93c5-4435-9dd5-42ce2a140534\" style=\"height: 525px; width: 100%;\" class=\"plotly-graph-div\"></div><script type=\"text/javascript\">require([\"plotly\"], function(Plotly) { window.PLOTLYENV=window.PLOTLYENV || {};window.PLOTLYENV.BASE_URL=\"https://plot.ly\";Plotly.newPlot(\"262605d3-93c5-4435-9dd5-42ce2a140534\", [{\"line\": {\"dash\": \"solid\"}, \"name\": \"\\u5e73\\u5747\\u53cd\\u9988\\u65f6\\u957f(\\u5317\\u4eac\\u7ec4)\", \"x\": [\"8-1\", \"8-2\", \"8-3\", \"8-4\", \"8-5\", \"9-1\", \"9-2\", \"9-3\", \"9-4\", \"10-2\", \"10-3\", \"10-4\", \"10-5\", \"11-1\"], \"y\": [6.4072881355932205, 4.446298342541437, 5.337454545454546, 4.985962732919255, 6.498000000000001, 9.664371859296482, 7.4699193548387095, 3.604632352941177, 3.2088068181818183, 2.7965714285714283, 4.1249242424242425, 4.655182481751825, 3.4737593984962407, 5.115461538461538], \"type\": \"scatter\", \"uid\": \"d4ca1a4b-e702-11e8-8ddb-a41f72875c19\"}, {\"line\": {\"dash\": \"dot\"}, \"name\": \"\\u5e73\\u5747\\u53cd\\u9988\\u65f6\\u957f(\\u4e49\\u4e4c\\u7ec4)\", \"x\": [\"8-1\", \"8-2\", \"8-3\", \"8-4\", \"8-5\", \"9-1\", \"9-2\", \"9-3\", \"9-4\", \"10-2\", \"10-3\", \"10-4\", \"10-5\", \"11-1\"], \"y\": [null, null, null, null, null, null, null, null, null, null, null, null, 1.6357692307692309, 7.00576923076923], \"type\": \"scatter\", \"uid\": \"d4ca1a4c-e702-11e8-8ddb-a41f72875c19\"}], {\"title\": \"\\u5e73\\u5747\\u53cd\\u9988\\u65f6\\u957f\\u5468\\u8d8b\\u52bf\\u56fe\", \"xaxis\": {\"mirror\": \"all\", \"nticks\": 20, \"showgrid\": true, \"showline\": true, \"title\": \"\\u5468\", \"type\": \"category\", \"zeroline\": true}, \"yaxis\": {\"mirror\": \"all\", \"nticks\": 20, \"showgrid\": true, \"showline\": true, \"title\": \"\\u5e73\\u5747\\u53cd\\u9988\\u65f6\\u957f\", \"zeroline\": true}}, {\"showLink\": true, \"linkText\": \"Export to plot.ly\"})});</script>"
      ]
     },
     "metadata": {},
     "output_type": "display_data"
    }
   ],
   "source": [
    "ss = myModule.format(all_df1 ,\"日期（格式“月-周次”）\" ,['反馈总时长','下机批次数'])\n",
    "tt = ss.get_total_ratio([['平均反馈时长','反馈总时长','下机批次数','/']] )\n",
    "myModule.myPlot(myModule.sort_by_index(tt)).plot('line')\n",
    "\n",
    "ss = myModule.format(all_df1 ,\"日期（格式“月-周次”）\" ,['反馈总时长','下机批次数'])\n",
    "ss.add_group('组别')\n",
    "tt = ss.get_total_ratio([['平均反馈时长','反馈总时长','下机批次数','/']] )\n",
    "myModule.myPlot(myModule.sort_by_index(tt)).plot('line')"
   ]
  },
  {
   "cell_type": "code",
   "execution_count": 130,
   "metadata": {
    "collapsed": false
   },
   "outputs": [
    {
     "data": {
      "application/vnd.plotly.v1+json": {
       "data": [
        {
         "name": "平均反馈时长",
         "type": "scatter",
         "uid": "d4ca1a4d-e702-11e8-8ddb-a41f72875c19",
         "x": [
          8,
          9,
          10,
          11
         ],
         "y": [
          5.371117241379311,
          6.148755905511811,
          3.780220883534137,
          5.4305128205128215
         ]
        }
       ],
       "layout": {
        "title": "平均反馈时长月趋势图",
        "xaxis": {
         "mirror": "all",
         "nticks": 20,
         "showgrid": true,
         "showline": true,
         "title": "月",
         "type": "category",
         "zeroline": true
        },
        "yaxis": {
         "mirror": "all",
         "nticks": 20,
         "showgrid": true,
         "showline": true,
         "title": "平均反馈时长",
         "zeroline": true
        }
       }
      },
      "text/html": [
       "<div id=\"3db49d6c-be92-43cd-ad53-067481dd7a64\" style=\"height: 525px; width: 100%;\" class=\"plotly-graph-div\"></div><script type=\"text/javascript\">require([\"plotly\"], function(Plotly) { window.PLOTLYENV=window.PLOTLYENV || {};window.PLOTLYENV.BASE_URL=\"https://plot.ly\";Plotly.newPlot(\"3db49d6c-be92-43cd-ad53-067481dd7a64\", [{\"name\": \"\\u5e73\\u5747\\u53cd\\u9988\\u65f6\\u957f\", \"x\": [8, 9, 10, 11], \"y\": [5.371117241379311, 6.148755905511811, 3.780220883534137, 5.4305128205128215], \"type\": \"scatter\", \"uid\": \"d4ca1a4d-e702-11e8-8ddb-a41f72875c19\"}], {\"title\": \"\\u5e73\\u5747\\u53cd\\u9988\\u65f6\\u957f\\u6708\\u8d8b\\u52bf\\u56fe\", \"xaxis\": {\"mirror\": \"all\", \"nticks\": 20, \"showgrid\": true, \"showline\": true, \"title\": \"\\u6708\", \"type\": \"category\", \"zeroline\": true}, \"yaxis\": {\"mirror\": \"all\", \"nticks\": 20, \"showgrid\": true, \"showline\": true, \"title\": \"\\u5e73\\u5747\\u53cd\\u9988\\u65f6\\u957f\", \"zeroline\": true}}, {\"showLink\": true, \"linkText\": \"Export to plot.ly\"})});</script>"
      ],
      "text/vnd.plotly.v1+html": [
       "<div id=\"3db49d6c-be92-43cd-ad53-067481dd7a64\" style=\"height: 525px; width: 100%;\" class=\"plotly-graph-div\"></div><script type=\"text/javascript\">require([\"plotly\"], function(Plotly) { window.PLOTLYENV=window.PLOTLYENV || {};window.PLOTLYENV.BASE_URL=\"https://plot.ly\";Plotly.newPlot(\"3db49d6c-be92-43cd-ad53-067481dd7a64\", [{\"name\": \"\\u5e73\\u5747\\u53cd\\u9988\\u65f6\\u957f\", \"x\": [8, 9, 10, 11], \"y\": [5.371117241379311, 6.148755905511811, 3.780220883534137, 5.4305128205128215], \"type\": \"scatter\", \"uid\": \"d4ca1a4d-e702-11e8-8ddb-a41f72875c19\"}], {\"title\": \"\\u5e73\\u5747\\u53cd\\u9988\\u65f6\\u957f\\u6708\\u8d8b\\u52bf\\u56fe\", \"xaxis\": {\"mirror\": \"all\", \"nticks\": 20, \"showgrid\": true, \"showline\": true, \"title\": \"\\u6708\", \"type\": \"category\", \"zeroline\": true}, \"yaxis\": {\"mirror\": \"all\", \"nticks\": 20, \"showgrid\": true, \"showline\": true, \"title\": \"\\u5e73\\u5747\\u53cd\\u9988\\u65f6\\u957f\", \"zeroline\": true}}, {\"showLink\": true, \"linkText\": \"Export to plot.ly\"})});</script>"
      ]
     },
     "metadata": {},
     "output_type": "display_data"
    },
    {
     "data": {
      "application/vnd.plotly.v1+json": {
       "data": [
        {
         "line": {
          "dash": "solid"
         },
         "name": "平均反馈时长(北京组)",
         "type": "scatter",
         "uid": "d4ca1a4e-e702-11e8-8ddb-a41f72875c19",
         "x": [
          8,
          9,
          10,
          11
         ],
         "y": [
          5.371117241379311,
          6.148755905511811,
          3.8983474576271187,
          5.115461538461538
         ]
        },
        {
         "line": {
          "dash": "dot"
         },
         "name": "平均反馈时长(义乌组)",
         "type": "scatter",
         "uid": "d4ca1a4f-e702-11e8-8ddb-a41f72875c19",
         "x": [
          8,
          9,
          10,
          11
         ],
         "y": [
          null,
          null,
          1.6357692307692309,
          7.00576923076923
         ]
        }
       ],
       "layout": {
        "title": "平均反馈时长周趋势图",
        "xaxis": {
         "mirror": "all",
         "nticks": 20,
         "showgrid": true,
         "showline": true,
         "title": "周",
         "type": "category",
         "zeroline": true
        },
        "yaxis": {
         "mirror": "all",
         "nticks": 20,
         "showgrid": true,
         "showline": true,
         "title": "平均反馈时长",
         "zeroline": true
        }
       }
      },
      "text/html": [
       "<div id=\"dcf8eb9d-a128-4a76-b2e0-2aaf66938cae\" style=\"height: 525px; width: 100%;\" class=\"plotly-graph-div\"></div><script type=\"text/javascript\">require([\"plotly\"], function(Plotly) { window.PLOTLYENV=window.PLOTLYENV || {};window.PLOTLYENV.BASE_URL=\"https://plot.ly\";Plotly.newPlot(\"dcf8eb9d-a128-4a76-b2e0-2aaf66938cae\", [{\"line\": {\"dash\": \"solid\"}, \"name\": \"\\u5e73\\u5747\\u53cd\\u9988\\u65f6\\u957f(\\u5317\\u4eac\\u7ec4)\", \"x\": [8, 9, 10, 11], \"y\": [5.371117241379311, 6.148755905511811, 3.8983474576271187, 5.115461538461538], \"type\": \"scatter\", \"uid\": \"d4ca1a4e-e702-11e8-8ddb-a41f72875c19\"}, {\"line\": {\"dash\": \"dot\"}, \"name\": \"\\u5e73\\u5747\\u53cd\\u9988\\u65f6\\u957f(\\u4e49\\u4e4c\\u7ec4)\", \"x\": [8, 9, 10, 11], \"y\": [null, null, 1.6357692307692309, 7.00576923076923], \"type\": \"scatter\", \"uid\": \"d4ca1a4f-e702-11e8-8ddb-a41f72875c19\"}], {\"title\": \"\\u5e73\\u5747\\u53cd\\u9988\\u65f6\\u957f\\u5468\\u8d8b\\u52bf\\u56fe\", \"xaxis\": {\"mirror\": \"all\", \"nticks\": 20, \"showgrid\": true, \"showline\": true, \"title\": \"\\u5468\", \"type\": \"category\", \"zeroline\": true}, \"yaxis\": {\"mirror\": \"all\", \"nticks\": 20, \"showgrid\": true, \"showline\": true, \"title\": \"\\u5e73\\u5747\\u53cd\\u9988\\u65f6\\u957f\", \"zeroline\": true}}, {\"showLink\": true, \"linkText\": \"Export to plot.ly\"})});</script>"
      ],
      "text/vnd.plotly.v1+html": [
       "<div id=\"dcf8eb9d-a128-4a76-b2e0-2aaf66938cae\" style=\"height: 525px; width: 100%;\" class=\"plotly-graph-div\"></div><script type=\"text/javascript\">require([\"plotly\"], function(Plotly) { window.PLOTLYENV=window.PLOTLYENV || {};window.PLOTLYENV.BASE_URL=\"https://plot.ly\";Plotly.newPlot(\"dcf8eb9d-a128-4a76-b2e0-2aaf66938cae\", [{\"line\": {\"dash\": \"solid\"}, \"name\": \"\\u5e73\\u5747\\u53cd\\u9988\\u65f6\\u957f(\\u5317\\u4eac\\u7ec4)\", \"x\": [8, 9, 10, 11], \"y\": [5.371117241379311, 6.148755905511811, 3.8983474576271187, 5.115461538461538], \"type\": \"scatter\", \"uid\": \"d4ca1a4e-e702-11e8-8ddb-a41f72875c19\"}, {\"line\": {\"dash\": \"dot\"}, \"name\": \"\\u5e73\\u5747\\u53cd\\u9988\\u65f6\\u957f(\\u4e49\\u4e4c\\u7ec4)\", \"x\": [8, 9, 10, 11], \"y\": [null, null, 1.6357692307692309, 7.00576923076923], \"type\": \"scatter\", \"uid\": \"d4ca1a4f-e702-11e8-8ddb-a41f72875c19\"}], {\"title\": \"\\u5e73\\u5747\\u53cd\\u9988\\u65f6\\u957f\\u5468\\u8d8b\\u52bf\\u56fe\", \"xaxis\": {\"mirror\": \"all\", \"nticks\": 20, \"showgrid\": true, \"showline\": true, \"title\": \"\\u5468\", \"type\": \"category\", \"zeroline\": true}, \"yaxis\": {\"mirror\": \"all\", \"nticks\": 20, \"showgrid\": true, \"showline\": true, \"title\": \"\\u5e73\\u5747\\u53cd\\u9988\\u65f6\\u957f\", \"zeroline\": true}}, {\"showLink\": true, \"linkText\": \"Export to plot.ly\"})});</script>"
      ]
     },
     "metadata": {},
     "output_type": "display_data"
    }
   ],
   "source": [
    "ss = myModule.format(all_df1 ,\"month\" ,['反馈总时长','下机批次数'])\n",
    "tt = ss.get_total_ratio([['平均反馈时长','反馈总时长','下机批次数','/']] )\n",
    "myModule.myPlot(tt).plot('line',\"月\")\n",
    "\n",
    "\n",
    "ss = myModule.format(all_df1 ,\"month\" ,['反馈总时长','下机批次数'])\n",
    "ss.add_group('组别')\n",
    "tt = ss.get_total_ratio([['平均反馈时长','反馈总时长','下机批次数','/']] )\n",
    "myModule.myPlot(tt).plot('line')"
   ]
  },
  {
   "cell_type": "markdown",
   "metadata": {},
   "source": [
    "### 异常"
   ]
  },
  {
   "cell_type": "markdown",
   "metadata": {},
   "source": [
    "#### 个性化拆分"
   ]
  },
  {
   "cell_type": "code",
   "execution_count": 131,
   "metadata": {
    "collapsed": false
   },
   "outputs": [
    {
     "data": {
      "application/vnd.plotly.v1+json": {
       "data": [
        {
         "name": "个性化数",
         "type": "scatter",
         "uid": "d4ca1a50-e702-11e8-8ddb-a41f72875c19",
         "x": [
          "8-1",
          "8-2",
          "8-3",
          "8-4",
          "8-5",
          "9-1",
          "9-2",
          "9-3",
          "9-4",
          "10-2",
          "10-3",
          "10-4",
          "10-5",
          "11-1"
         ],
         "y": [
          0,
          0,
          0,
          0,
          0,
          0,
          0,
          1,
          3,
          2,
          1,
          2,
          6,
          6
         ]
        }
       ],
       "layout": {
        "title": "个性化数周趋势图",
        "xaxis": {
         "mirror": "all",
         "nticks": 20,
         "showgrid": true,
         "showline": true,
         "title": "周",
         "type": "category",
         "zeroline": true
        },
        "yaxis": {
         "mirror": "all",
         "nticks": 20,
         "showgrid": true,
         "showline": true,
         "title": "个性化数",
         "zeroline": true
        }
       }
      },
      "text/html": [
       "<div id=\"3824d313-aa30-4f80-9b43-d791bd93f78e\" style=\"height: 525px; width: 100%;\" class=\"plotly-graph-div\"></div><script type=\"text/javascript\">require([\"plotly\"], function(Plotly) { window.PLOTLYENV=window.PLOTLYENV || {};window.PLOTLYENV.BASE_URL=\"https://plot.ly\";Plotly.newPlot(\"3824d313-aa30-4f80-9b43-d791bd93f78e\", [{\"name\": \"\\u4e2a\\u6027\\u5316\\u6570\", \"x\": [\"8-1\", \"8-2\", \"8-3\", \"8-4\", \"8-5\", \"9-1\", \"9-2\", \"9-3\", \"9-4\", \"10-2\", \"10-3\", \"10-4\", \"10-5\", \"11-1\"], \"y\": [0, 0, 0, 0, 0, 0, 0, 1, 3, 2, 1, 2, 6, 6], \"type\": \"scatter\", \"uid\": \"d4ca1a50-e702-11e8-8ddb-a41f72875c19\"}], {\"title\": \"\\u4e2a\\u6027\\u5316\\u6570\\u5468\\u8d8b\\u52bf\\u56fe\", \"xaxis\": {\"mirror\": \"all\", \"nticks\": 20, \"showgrid\": true, \"showline\": true, \"title\": \"\\u5468\", \"type\": \"category\", \"zeroline\": true}, \"yaxis\": {\"mirror\": \"all\", \"nticks\": 20, \"showgrid\": true, \"showline\": true, \"title\": \"\\u4e2a\\u6027\\u5316\\u6570\", \"zeroline\": true}}, {\"showLink\": true, \"linkText\": \"Export to plot.ly\"})});</script>"
      ],
      "text/vnd.plotly.v1+html": [
       "<div id=\"3824d313-aa30-4f80-9b43-d791bd93f78e\" style=\"height: 525px; width: 100%;\" class=\"plotly-graph-div\"></div><script type=\"text/javascript\">require([\"plotly\"], function(Plotly) { window.PLOTLYENV=window.PLOTLYENV || {};window.PLOTLYENV.BASE_URL=\"https://plot.ly\";Plotly.newPlot(\"3824d313-aa30-4f80-9b43-d791bd93f78e\", [{\"name\": \"\\u4e2a\\u6027\\u5316\\u6570\", \"x\": [\"8-1\", \"8-2\", \"8-3\", \"8-4\", \"8-5\", \"9-1\", \"9-2\", \"9-3\", \"9-4\", \"10-2\", \"10-3\", \"10-4\", \"10-5\", \"11-1\"], \"y\": [0, 0, 0, 0, 0, 0, 0, 1, 3, 2, 1, 2, 6, 6], \"type\": \"scatter\", \"uid\": \"d4ca1a50-e702-11e8-8ddb-a41f72875c19\"}], {\"title\": \"\\u4e2a\\u6027\\u5316\\u6570\\u5468\\u8d8b\\u52bf\\u56fe\", \"xaxis\": {\"mirror\": \"all\", \"nticks\": 20, \"showgrid\": true, \"showline\": true, \"title\": \"\\u5468\", \"type\": \"category\", \"zeroline\": true}, \"yaxis\": {\"mirror\": \"all\", \"nticks\": 20, \"showgrid\": true, \"showline\": true, \"title\": \"\\u4e2a\\u6027\\u5316\\u6570\", \"zeroline\": true}}, {\"showLink\": true, \"linkText\": \"Export to plot.ly\"})});</script>"
      ]
     },
     "metadata": {},
     "output_type": "display_data"
    },
    {
     "data": {
      "application/vnd.plotly.v1+json": {
       "data": [
        {
         "name": "个性化数",
         "type": "scatter",
         "uid": "d4ca1a51-e702-11e8-8ddb-a41f72875c19",
         "x": [
          8,
          9,
          10,
          11
         ],
         "y": [
          0,
          4,
          11,
          6
         ]
        }
       ],
       "layout": {
        "title": "个性化数月趋势图",
        "xaxis": {
         "mirror": "all",
         "nticks": 20,
         "showgrid": true,
         "showline": true,
         "title": "月",
         "type": "category",
         "zeroline": true
        },
        "yaxis": {
         "mirror": "all",
         "nticks": 20,
         "showgrid": true,
         "showline": true,
         "title": "个性化数",
         "zeroline": true
        }
       }
      },
      "text/html": [
       "<div id=\"707bea13-4f5f-406d-a46c-a95f915f52bf\" style=\"height: 525px; width: 100%;\" class=\"plotly-graph-div\"></div><script type=\"text/javascript\">require([\"plotly\"], function(Plotly) { window.PLOTLYENV=window.PLOTLYENV || {};window.PLOTLYENV.BASE_URL=\"https://plot.ly\";Plotly.newPlot(\"707bea13-4f5f-406d-a46c-a95f915f52bf\", [{\"name\": \"\\u4e2a\\u6027\\u5316\\u6570\", \"x\": [8, 9, 10, 11], \"y\": [0, 4, 11, 6], \"type\": \"scatter\", \"uid\": \"d4ca1a51-e702-11e8-8ddb-a41f72875c19\"}], {\"title\": \"\\u4e2a\\u6027\\u5316\\u6570\\u6708\\u8d8b\\u52bf\\u56fe\", \"xaxis\": {\"mirror\": \"all\", \"nticks\": 20, \"showgrid\": true, \"showline\": true, \"title\": \"\\u6708\", \"type\": \"category\", \"zeroline\": true}, \"yaxis\": {\"mirror\": \"all\", \"nticks\": 20, \"showgrid\": true, \"showline\": true, \"title\": \"\\u4e2a\\u6027\\u5316\\u6570\", \"zeroline\": true}}, {\"showLink\": true, \"linkText\": \"Export to plot.ly\"})});</script>"
      ],
      "text/vnd.plotly.v1+html": [
       "<div id=\"707bea13-4f5f-406d-a46c-a95f915f52bf\" style=\"height: 525px; width: 100%;\" class=\"plotly-graph-div\"></div><script type=\"text/javascript\">require([\"plotly\"], function(Plotly) { window.PLOTLYENV=window.PLOTLYENV || {};window.PLOTLYENV.BASE_URL=\"https://plot.ly\";Plotly.newPlot(\"707bea13-4f5f-406d-a46c-a95f915f52bf\", [{\"name\": \"\\u4e2a\\u6027\\u5316\\u6570\", \"x\": [8, 9, 10, 11], \"y\": [0, 4, 11, 6], \"type\": \"scatter\", \"uid\": \"d4ca1a51-e702-11e8-8ddb-a41f72875c19\"}], {\"title\": \"\\u4e2a\\u6027\\u5316\\u6570\\u6708\\u8d8b\\u52bf\\u56fe\", \"xaxis\": {\"mirror\": \"all\", \"nticks\": 20, \"showgrid\": true, \"showline\": true, \"title\": \"\\u6708\", \"type\": \"category\", \"zeroline\": true}, \"yaxis\": {\"mirror\": \"all\", \"nticks\": 20, \"showgrid\": true, \"showline\": true, \"title\": \"\\u4e2a\\u6027\\u5316\\u6570\", \"zeroline\": true}}, {\"showLink\": true, \"linkText\": \"Export to plot.ly\"})});</script>"
      ]
     },
     "metadata": {},
     "output_type": "display_data"
    }
   ],
   "source": [
    "ss = myModule.format(all_df1 ,\"日期（格式“月-周次”）\" ,['个性化数'])\n",
    "myModule.myPlot(myModule.sort_by_index(ss.groupby('sum'))).plot('line')\n",
    "\n",
    "ss = myModule.format(all_df1 ,\"month\" ,['个性化数'])\n",
    "myModule.myPlot(ss.groupby('sum')).plot('line','月')"
   ]
  },
  {
   "cell_type": "markdown",
   "metadata": {},
   "source": [
    "#### lims异常数和下单错误数"
   ]
  },
  {
   "cell_type": "code",
   "execution_count": 132,
   "metadata": {
    "collapsed": false
   },
   "outputs": [
    {
     "data": {
      "application/vnd.plotly.v1+json": {
       "data": [
        {
         "name": "lims异常数",
         "type": "scatter",
         "uid": "d4ca1a52-e702-11e8-8ddb-a41f72875c19",
         "x": [
          "8-1",
          "8-2",
          "8-3",
          "8-4",
          "8-5",
          "9-1",
          "9-2",
          "9-3",
          "9-4",
          "10-2",
          "10-3",
          "10-4",
          "10-5",
          "11-1"
         ],
         "y": [
          2,
          2,
          2,
          1,
          2,
          1,
          0,
          0,
          1,
          1,
          1,
          2,
          0,
          0
         ]
        },
        {
         "name": "下单错误数",
         "type": "scatter",
         "uid": "d4ca1a53-e702-11e8-8ddb-a41f72875c19",
         "x": [
          "8-1",
          "8-2",
          "8-3",
          "8-4",
          "8-5",
          "9-1",
          "9-2",
          "9-3",
          "9-4",
          "10-2",
          "10-3",
          "10-4",
          "10-5",
          "11-1"
         ],
         "y": [
          1,
          0,
          6,
          1,
          1,
          1,
          1,
          0,
          0,
          0,
          0,
          2,
          0,
          0
         ]
        }
       ],
       "layout": {
        "title": "lims异常数&下单错误数周趋势图",
        "xaxis": {
         "mirror": "all",
         "nticks": 20,
         "showgrid": true,
         "showline": true,
         "title": "周",
         "type": "category",
         "zeroline": true
        },
        "yaxis": {
         "mirror": "all",
         "nticks": 20,
         "showgrid": true,
         "showline": true,
         "title": "lims异常数&下单错误数",
         "zeroline": true
        }
       }
      },
      "text/html": [
       "<div id=\"7acd24ff-c0e4-4620-b0b1-3a9d58b992fd\" style=\"height: 525px; width: 100%;\" class=\"plotly-graph-div\"></div><script type=\"text/javascript\">require([\"plotly\"], function(Plotly) { window.PLOTLYENV=window.PLOTLYENV || {};window.PLOTLYENV.BASE_URL=\"https://plot.ly\";Plotly.newPlot(\"7acd24ff-c0e4-4620-b0b1-3a9d58b992fd\", [{\"name\": \"lims\\u5f02\\u5e38\\u6570\", \"x\": [\"8-1\", \"8-2\", \"8-3\", \"8-4\", \"8-5\", \"9-1\", \"9-2\", \"9-3\", \"9-4\", \"10-2\", \"10-3\", \"10-4\", \"10-5\", \"11-1\"], \"y\": [2, 2, 2, 1, 2, 1, 0, 0, 1, 1, 1, 2, 0, 0], \"type\": \"scatter\", \"uid\": \"d4ca1a52-e702-11e8-8ddb-a41f72875c19\"}, {\"name\": \"\\u4e0b\\u5355\\u9519\\u8bef\\u6570\", \"x\": [\"8-1\", \"8-2\", \"8-3\", \"8-4\", \"8-5\", \"9-1\", \"9-2\", \"9-3\", \"9-4\", \"10-2\", \"10-3\", \"10-4\", \"10-5\", \"11-1\"], \"y\": [1, 0, 6, 1, 1, 1, 1, 0, 0, 0, 0, 2, 0, 0], \"type\": \"scatter\", \"uid\": \"d4ca1a53-e702-11e8-8ddb-a41f72875c19\"}], {\"title\": \"lims\\u5f02\\u5e38\\u6570&\\u4e0b\\u5355\\u9519\\u8bef\\u6570\\u5468\\u8d8b\\u52bf\\u56fe\", \"xaxis\": {\"mirror\": \"all\", \"nticks\": 20, \"showgrid\": true, \"showline\": true, \"title\": \"\\u5468\", \"type\": \"category\", \"zeroline\": true}, \"yaxis\": {\"mirror\": \"all\", \"nticks\": 20, \"showgrid\": true, \"showline\": true, \"title\": \"lims\\u5f02\\u5e38\\u6570&\\u4e0b\\u5355\\u9519\\u8bef\\u6570\", \"zeroline\": true}}, {\"showLink\": true, \"linkText\": \"Export to plot.ly\"})});</script>"
      ],
      "text/vnd.plotly.v1+html": [
       "<div id=\"7acd24ff-c0e4-4620-b0b1-3a9d58b992fd\" style=\"height: 525px; width: 100%;\" class=\"plotly-graph-div\"></div><script type=\"text/javascript\">require([\"plotly\"], function(Plotly) { window.PLOTLYENV=window.PLOTLYENV || {};window.PLOTLYENV.BASE_URL=\"https://plot.ly\";Plotly.newPlot(\"7acd24ff-c0e4-4620-b0b1-3a9d58b992fd\", [{\"name\": \"lims\\u5f02\\u5e38\\u6570\", \"x\": [\"8-1\", \"8-2\", \"8-3\", \"8-4\", \"8-5\", \"9-1\", \"9-2\", \"9-3\", \"9-4\", \"10-2\", \"10-3\", \"10-4\", \"10-5\", \"11-1\"], \"y\": [2, 2, 2, 1, 2, 1, 0, 0, 1, 1, 1, 2, 0, 0], \"type\": \"scatter\", \"uid\": \"d4ca1a52-e702-11e8-8ddb-a41f72875c19\"}, {\"name\": \"\\u4e0b\\u5355\\u9519\\u8bef\\u6570\", \"x\": [\"8-1\", \"8-2\", \"8-3\", \"8-4\", \"8-5\", \"9-1\", \"9-2\", \"9-3\", \"9-4\", \"10-2\", \"10-3\", \"10-4\", \"10-5\", \"11-1\"], \"y\": [1, 0, 6, 1, 1, 1, 1, 0, 0, 0, 0, 2, 0, 0], \"type\": \"scatter\", \"uid\": \"d4ca1a53-e702-11e8-8ddb-a41f72875c19\"}], {\"title\": \"lims\\u5f02\\u5e38\\u6570&\\u4e0b\\u5355\\u9519\\u8bef\\u6570\\u5468\\u8d8b\\u52bf\\u56fe\", \"xaxis\": {\"mirror\": \"all\", \"nticks\": 20, \"showgrid\": true, \"showline\": true, \"title\": \"\\u5468\", \"type\": \"category\", \"zeroline\": true}, \"yaxis\": {\"mirror\": \"all\", \"nticks\": 20, \"showgrid\": true, \"showline\": true, \"title\": \"lims\\u5f02\\u5e38\\u6570&\\u4e0b\\u5355\\u9519\\u8bef\\u6570\", \"zeroline\": true}}, {\"showLink\": true, \"linkText\": \"Export to plot.ly\"})});</script>"
      ]
     },
     "metadata": {},
     "output_type": "display_data"
    },
    {
     "data": {
      "application/vnd.plotly.v1+json": {
       "data": [
        {
         "name": "lims异常数",
         "type": "scatter",
         "uid": "d4ca1a54-e702-11e8-8ddb-a41f72875c19",
         "x": [
          8,
          9,
          10,
          11
         ],
         "y": [
          9,
          2,
          4,
          0
         ]
        },
        {
         "name": "下单错误数",
         "type": "scatter",
         "uid": "d4ca1a55-e702-11e8-8ddb-a41f72875c19",
         "x": [
          8,
          9,
          10,
          11
         ],
         "y": [
          9,
          2,
          2,
          0
         ]
        }
       ],
       "layout": {
        "title": "lims异常数&下单错误数月趋势图",
        "xaxis": {
         "mirror": "all",
         "nticks": 20,
         "showgrid": true,
         "showline": true,
         "title": "月",
         "type": "category",
         "zeroline": true
        },
        "yaxis": {
         "mirror": "all",
         "nticks": 20,
         "showgrid": true,
         "showline": true,
         "title": "lims异常数&下单错误数",
         "zeroline": true
        }
       }
      },
      "text/html": [
       "<div id=\"58586344-b028-4d1a-9697-92b2df620634\" style=\"height: 525px; width: 100%;\" class=\"plotly-graph-div\"></div><script type=\"text/javascript\">require([\"plotly\"], function(Plotly) { window.PLOTLYENV=window.PLOTLYENV || {};window.PLOTLYENV.BASE_URL=\"https://plot.ly\";Plotly.newPlot(\"58586344-b028-4d1a-9697-92b2df620634\", [{\"name\": \"lims\\u5f02\\u5e38\\u6570\", \"x\": [8, 9, 10, 11], \"y\": [9, 2, 4, 0], \"type\": \"scatter\", \"uid\": \"d4ca1a54-e702-11e8-8ddb-a41f72875c19\"}, {\"name\": \"\\u4e0b\\u5355\\u9519\\u8bef\\u6570\", \"x\": [8, 9, 10, 11], \"y\": [9, 2, 2, 0], \"type\": \"scatter\", \"uid\": \"d4ca1a55-e702-11e8-8ddb-a41f72875c19\"}], {\"title\": \"lims\\u5f02\\u5e38\\u6570&\\u4e0b\\u5355\\u9519\\u8bef\\u6570\\u6708\\u8d8b\\u52bf\\u56fe\", \"xaxis\": {\"mirror\": \"all\", \"nticks\": 20, \"showgrid\": true, \"showline\": true, \"title\": \"\\u6708\", \"type\": \"category\", \"zeroline\": true}, \"yaxis\": {\"mirror\": \"all\", \"nticks\": 20, \"showgrid\": true, \"showline\": true, \"title\": \"lims\\u5f02\\u5e38\\u6570&\\u4e0b\\u5355\\u9519\\u8bef\\u6570\", \"zeroline\": true}}, {\"showLink\": true, \"linkText\": \"Export to plot.ly\"})});</script>"
      ],
      "text/vnd.plotly.v1+html": [
       "<div id=\"58586344-b028-4d1a-9697-92b2df620634\" style=\"height: 525px; width: 100%;\" class=\"plotly-graph-div\"></div><script type=\"text/javascript\">require([\"plotly\"], function(Plotly) { window.PLOTLYENV=window.PLOTLYENV || {};window.PLOTLYENV.BASE_URL=\"https://plot.ly\";Plotly.newPlot(\"58586344-b028-4d1a-9697-92b2df620634\", [{\"name\": \"lims\\u5f02\\u5e38\\u6570\", \"x\": [8, 9, 10, 11], \"y\": [9, 2, 4, 0], \"type\": \"scatter\", \"uid\": \"d4ca1a54-e702-11e8-8ddb-a41f72875c19\"}, {\"name\": \"\\u4e0b\\u5355\\u9519\\u8bef\\u6570\", \"x\": [8, 9, 10, 11], \"y\": [9, 2, 2, 0], \"type\": \"scatter\", \"uid\": \"d4ca1a55-e702-11e8-8ddb-a41f72875c19\"}], {\"title\": \"lims\\u5f02\\u5e38\\u6570&\\u4e0b\\u5355\\u9519\\u8bef\\u6570\\u6708\\u8d8b\\u52bf\\u56fe\", \"xaxis\": {\"mirror\": \"all\", \"nticks\": 20, \"showgrid\": true, \"showline\": true, \"title\": \"\\u6708\", \"type\": \"category\", \"zeroline\": true}, \"yaxis\": {\"mirror\": \"all\", \"nticks\": 20, \"showgrid\": true, \"showline\": true, \"title\": \"lims\\u5f02\\u5e38\\u6570&\\u4e0b\\u5355\\u9519\\u8bef\\u6570\", \"zeroline\": true}}, {\"showLink\": true, \"linkText\": \"Export to plot.ly\"})});</script>"
      ]
     },
     "metadata": {},
     "output_type": "display_data"
    },
    {
     "data": {
      "application/vnd.plotly.v1+json": {
       "data": [
        {
         "line": {
          "dash": "solid"
         },
         "name": "lims异常数(北京组)",
         "type": "scatter",
         "uid": "d4ca1a56-e702-11e8-8ddb-a41f72875c19",
         "x": [
          8,
          9,
          10,
          11
         ],
         "y": [
          9,
          2,
          4,
          0
         ]
        },
        {
         "line": {
          "dash": "dot"
         },
         "name": "lims异常数(义乌组)",
         "type": "scatter",
         "uid": "d4ca1a57-e702-11e8-8ddb-a41f72875c19",
         "x": [
          8,
          9,
          10,
          11
         ],
         "y": [
          null,
          null,
          0,
          0
         ]
        },
        {
         "line": {
          "dash": "solid"
         },
         "name": "下单错误数(北京组)",
         "type": "scatter",
         "uid": "d4ca1a58-e702-11e8-8ddb-a41f72875c19",
         "x": [
          8,
          9,
          10,
          11
         ],
         "y": [
          9,
          2,
          2,
          0
         ]
        },
        {
         "line": {
          "dash": "dot"
         },
         "name": "下单错误数(义乌组)",
         "type": "scatter",
         "uid": "d4ca1a59-e702-11e8-8ddb-a41f72875c19",
         "x": [
          8,
          9,
          10,
          11
         ],
         "y": [
          null,
          null,
          0,
          0
         ]
        }
       ],
       "layout": {
        "title": "lims异常数&下单错误数月趋势图",
        "xaxis": {
         "mirror": "all",
         "nticks": 20,
         "showgrid": true,
         "showline": true,
         "title": "月",
         "type": "category",
         "zeroline": true
        },
        "yaxis": {
         "mirror": "all",
         "nticks": 20,
         "showgrid": true,
         "showline": true,
         "title": "lims异常数&下单错误数",
         "zeroline": true
        }
       }
      },
      "text/html": [
       "<div id=\"058a909c-2338-4989-a690-8b243e7fcaf8\" style=\"height: 525px; width: 100%;\" class=\"plotly-graph-div\"></div><script type=\"text/javascript\">require([\"plotly\"], function(Plotly) { window.PLOTLYENV=window.PLOTLYENV || {};window.PLOTLYENV.BASE_URL=\"https://plot.ly\";Plotly.newPlot(\"058a909c-2338-4989-a690-8b243e7fcaf8\", [{\"line\": {\"dash\": \"solid\"}, \"name\": \"lims\\u5f02\\u5e38\\u6570(\\u5317\\u4eac\\u7ec4)\", \"x\": [8, 9, 10, 11], \"y\": [9.0, 2.0, 4.0, 0.0], \"type\": \"scatter\", \"uid\": \"d4ca1a56-e702-11e8-8ddb-a41f72875c19\"}, {\"line\": {\"dash\": \"dot\"}, \"name\": \"lims\\u5f02\\u5e38\\u6570(\\u4e49\\u4e4c\\u7ec4)\", \"x\": [8, 9, 10, 11], \"y\": [null, null, 0.0, 0.0], \"type\": \"scatter\", \"uid\": \"d4ca1a57-e702-11e8-8ddb-a41f72875c19\"}, {\"line\": {\"dash\": \"solid\"}, \"name\": \"\\u4e0b\\u5355\\u9519\\u8bef\\u6570(\\u5317\\u4eac\\u7ec4)\", \"x\": [8, 9, 10, 11], \"y\": [9.0, 2.0, 2.0, 0.0], \"type\": \"scatter\", \"uid\": \"d4ca1a58-e702-11e8-8ddb-a41f72875c19\"}, {\"line\": {\"dash\": \"dot\"}, \"name\": \"\\u4e0b\\u5355\\u9519\\u8bef\\u6570(\\u4e49\\u4e4c\\u7ec4)\", \"x\": [8, 9, 10, 11], \"y\": [null, null, 0.0, 0.0], \"type\": \"scatter\", \"uid\": \"d4ca1a59-e702-11e8-8ddb-a41f72875c19\"}], {\"title\": \"lims\\u5f02\\u5e38\\u6570&\\u4e0b\\u5355\\u9519\\u8bef\\u6570\\u6708\\u8d8b\\u52bf\\u56fe\", \"xaxis\": {\"mirror\": \"all\", \"nticks\": 20, \"showgrid\": true, \"showline\": true, \"title\": \"\\u6708\", \"type\": \"category\", \"zeroline\": true}, \"yaxis\": {\"mirror\": \"all\", \"nticks\": 20, \"showgrid\": true, \"showline\": true, \"title\": \"lims\\u5f02\\u5e38\\u6570&\\u4e0b\\u5355\\u9519\\u8bef\\u6570\", \"zeroline\": true}}, {\"showLink\": true, \"linkText\": \"Export to plot.ly\"})});</script>"
      ],
      "text/vnd.plotly.v1+html": [
       "<div id=\"058a909c-2338-4989-a690-8b243e7fcaf8\" style=\"height: 525px; width: 100%;\" class=\"plotly-graph-div\"></div><script type=\"text/javascript\">require([\"plotly\"], function(Plotly) { window.PLOTLYENV=window.PLOTLYENV || {};window.PLOTLYENV.BASE_URL=\"https://plot.ly\";Plotly.newPlot(\"058a909c-2338-4989-a690-8b243e7fcaf8\", [{\"line\": {\"dash\": \"solid\"}, \"name\": \"lims\\u5f02\\u5e38\\u6570(\\u5317\\u4eac\\u7ec4)\", \"x\": [8, 9, 10, 11], \"y\": [9.0, 2.0, 4.0, 0.0], \"type\": \"scatter\", \"uid\": \"d4ca1a56-e702-11e8-8ddb-a41f72875c19\"}, {\"line\": {\"dash\": \"dot\"}, \"name\": \"lims\\u5f02\\u5e38\\u6570(\\u4e49\\u4e4c\\u7ec4)\", \"x\": [8, 9, 10, 11], \"y\": [null, null, 0.0, 0.0], \"type\": \"scatter\", \"uid\": \"d4ca1a57-e702-11e8-8ddb-a41f72875c19\"}, {\"line\": {\"dash\": \"solid\"}, \"name\": \"\\u4e0b\\u5355\\u9519\\u8bef\\u6570(\\u5317\\u4eac\\u7ec4)\", \"x\": [8, 9, 10, 11], \"y\": [9.0, 2.0, 2.0, 0.0], \"type\": \"scatter\", \"uid\": \"d4ca1a58-e702-11e8-8ddb-a41f72875c19\"}, {\"line\": {\"dash\": \"dot\"}, \"name\": \"\\u4e0b\\u5355\\u9519\\u8bef\\u6570(\\u4e49\\u4e4c\\u7ec4)\", \"x\": [8, 9, 10, 11], \"y\": [null, null, 0.0, 0.0], \"type\": \"scatter\", \"uid\": \"d4ca1a59-e702-11e8-8ddb-a41f72875c19\"}], {\"title\": \"lims\\u5f02\\u5e38\\u6570&\\u4e0b\\u5355\\u9519\\u8bef\\u6570\\u6708\\u8d8b\\u52bf\\u56fe\", \"xaxis\": {\"mirror\": \"all\", \"nticks\": 20, \"showgrid\": true, \"showline\": true, \"title\": \"\\u6708\", \"type\": \"category\", \"zeroline\": true}, \"yaxis\": {\"mirror\": \"all\", \"nticks\": 20, \"showgrid\": true, \"showline\": true, \"title\": \"lims\\u5f02\\u5e38\\u6570&\\u4e0b\\u5355\\u9519\\u8bef\\u6570\", \"zeroline\": true}}, {\"showLink\": true, \"linkText\": \"Export to plot.ly\"})});</script>"
      ]
     },
     "metadata": {},
     "output_type": "display_data"
    }
   ],
   "source": [
    "ss = myModule.format(all_df1 ,\"日期（格式“月-周次”）\" ,['lims异常数' , '下单错误数'])\n",
    "myModule.myPlot(myModule.sort_by_index(ss.groupby('sum'))).plot('line')\n",
    "\n",
    "ss = myModule.format(all_df1 ,\"month\" ,['lims异常数' , '下单错误数'])\n",
    "myModule.myPlot(ss.groupby('sum')).plot('line','月')\n",
    "\n",
    "ss = myModule.format(all_df1 ,\"month\" ,['lims异常数' , '下单错误数'])\n",
    "ss.add_group('组别')\n",
    "myModule.myPlot(ss.groupby('sum')).plot('line','月')"
   ]
  },
  {
   "cell_type": "markdown",
   "metadata": {},
   "source": [
    "#### 过滤流程异常数"
   ]
  },
  {
   "cell_type": "code",
   "execution_count": 133,
   "metadata": {
    "collapsed": false
   },
   "outputs": [
    {
     "data": {
      "application/vnd.plotly.v1+json": {
       "data": [
        {
         "name": "过滤流程异常数",
         "type": "scatter",
         "uid": "d4ca1a5a-e702-11e8-8ddb-a41f72875c19",
         "x": [
          "8-1",
          "8-2",
          "8-3",
          "8-4",
          "8-5",
          "9-1",
          "9-2",
          "9-3",
          "9-4",
          "10-2",
          "10-3",
          "10-4",
          "10-5",
          "11-1"
         ],
         "y": [
          0,
          1,
          0,
          0,
          2,
          1,
          0,
          0,
          0,
          0,
          0,
          0,
          0,
          0
         ]
        }
       ],
       "layout": {
        "title": "过滤流程异常数周趋势图",
        "xaxis": {
         "mirror": "all",
         "nticks": 20,
         "showgrid": true,
         "showline": true,
         "title": "周",
         "type": "category",
         "zeroline": true
        },
        "yaxis": {
         "mirror": "all",
         "nticks": 20,
         "showgrid": true,
         "showline": true,
         "title": "过滤流程异常数",
         "zeroline": true
        }
       }
      },
      "text/html": [
       "<div id=\"1d01bb3c-d431-4b45-8e68-6928a1f1bff7\" style=\"height: 525px; width: 100%;\" class=\"plotly-graph-div\"></div><script type=\"text/javascript\">require([\"plotly\"], function(Plotly) { window.PLOTLYENV=window.PLOTLYENV || {};window.PLOTLYENV.BASE_URL=\"https://plot.ly\";Plotly.newPlot(\"1d01bb3c-d431-4b45-8e68-6928a1f1bff7\", [{\"name\": \"\\u8fc7\\u6ee4\\u6d41\\u7a0b\\u5f02\\u5e38\\u6570\", \"x\": [\"8-1\", \"8-2\", \"8-3\", \"8-4\", \"8-5\", \"9-1\", \"9-2\", \"9-3\", \"9-4\", \"10-2\", \"10-3\", \"10-4\", \"10-5\", \"11-1\"], \"y\": [0, 1, 0, 0, 2, 1, 0, 0, 0, 0, 0, 0, 0, 0], \"type\": \"scatter\", \"uid\": \"d4ca1a5a-e702-11e8-8ddb-a41f72875c19\"}], {\"title\": \"\\u8fc7\\u6ee4\\u6d41\\u7a0b\\u5f02\\u5e38\\u6570\\u5468\\u8d8b\\u52bf\\u56fe\", \"xaxis\": {\"mirror\": \"all\", \"nticks\": 20, \"showgrid\": true, \"showline\": true, \"title\": \"\\u5468\", \"type\": \"category\", \"zeroline\": true}, \"yaxis\": {\"mirror\": \"all\", \"nticks\": 20, \"showgrid\": true, \"showline\": true, \"title\": \"\\u8fc7\\u6ee4\\u6d41\\u7a0b\\u5f02\\u5e38\\u6570\", \"zeroline\": true}}, {\"showLink\": true, \"linkText\": \"Export to plot.ly\"})});</script>"
      ],
      "text/vnd.plotly.v1+html": [
       "<div id=\"1d01bb3c-d431-4b45-8e68-6928a1f1bff7\" style=\"height: 525px; width: 100%;\" class=\"plotly-graph-div\"></div><script type=\"text/javascript\">require([\"plotly\"], function(Plotly) { window.PLOTLYENV=window.PLOTLYENV || {};window.PLOTLYENV.BASE_URL=\"https://plot.ly\";Plotly.newPlot(\"1d01bb3c-d431-4b45-8e68-6928a1f1bff7\", [{\"name\": \"\\u8fc7\\u6ee4\\u6d41\\u7a0b\\u5f02\\u5e38\\u6570\", \"x\": [\"8-1\", \"8-2\", \"8-3\", \"8-4\", \"8-5\", \"9-1\", \"9-2\", \"9-3\", \"9-4\", \"10-2\", \"10-3\", \"10-4\", \"10-5\", \"11-1\"], \"y\": [0, 1, 0, 0, 2, 1, 0, 0, 0, 0, 0, 0, 0, 0], \"type\": \"scatter\", \"uid\": \"d4ca1a5a-e702-11e8-8ddb-a41f72875c19\"}], {\"title\": \"\\u8fc7\\u6ee4\\u6d41\\u7a0b\\u5f02\\u5e38\\u6570\\u5468\\u8d8b\\u52bf\\u56fe\", \"xaxis\": {\"mirror\": \"all\", \"nticks\": 20, \"showgrid\": true, \"showline\": true, \"title\": \"\\u5468\", \"type\": \"category\", \"zeroline\": true}, \"yaxis\": {\"mirror\": \"all\", \"nticks\": 20, \"showgrid\": true, \"showline\": true, \"title\": \"\\u8fc7\\u6ee4\\u6d41\\u7a0b\\u5f02\\u5e38\\u6570\", \"zeroline\": true}}, {\"showLink\": true, \"linkText\": \"Export to plot.ly\"})});</script>"
      ]
     },
     "metadata": {},
     "output_type": "display_data"
    },
    {
     "data": {
      "application/vnd.plotly.v1+json": {
       "data": [
        {
         "name": "过滤流程异常数",
         "type": "scatter",
         "uid": "d4ca1a5b-e702-11e8-8ddb-a41f72875c19",
         "x": [
          8,
          9,
          10,
          11
         ],
         "y": [
          3,
          1,
          0,
          0
         ]
        }
       ],
       "layout": {
        "title": "过滤流程异常数月趋势图",
        "xaxis": {
         "mirror": "all",
         "nticks": 20,
         "showgrid": true,
         "showline": true,
         "title": "月",
         "type": "category",
         "zeroline": true
        },
        "yaxis": {
         "mirror": "all",
         "nticks": 20,
         "showgrid": true,
         "showline": true,
         "title": "过滤流程异常数",
         "zeroline": true
        }
       }
      },
      "text/html": [
       "<div id=\"00becc2f-9946-4888-829c-87afe0ef219b\" style=\"height: 525px; width: 100%;\" class=\"plotly-graph-div\"></div><script type=\"text/javascript\">require([\"plotly\"], function(Plotly) { window.PLOTLYENV=window.PLOTLYENV || {};window.PLOTLYENV.BASE_URL=\"https://plot.ly\";Plotly.newPlot(\"00becc2f-9946-4888-829c-87afe0ef219b\", [{\"name\": \"\\u8fc7\\u6ee4\\u6d41\\u7a0b\\u5f02\\u5e38\\u6570\", \"x\": [8, 9, 10, 11], \"y\": [3, 1, 0, 0], \"type\": \"scatter\", \"uid\": \"d4ca1a5b-e702-11e8-8ddb-a41f72875c19\"}], {\"title\": \"\\u8fc7\\u6ee4\\u6d41\\u7a0b\\u5f02\\u5e38\\u6570\\u6708\\u8d8b\\u52bf\\u56fe\", \"xaxis\": {\"mirror\": \"all\", \"nticks\": 20, \"showgrid\": true, \"showline\": true, \"title\": \"\\u6708\", \"type\": \"category\", \"zeroline\": true}, \"yaxis\": {\"mirror\": \"all\", \"nticks\": 20, \"showgrid\": true, \"showline\": true, \"title\": \"\\u8fc7\\u6ee4\\u6d41\\u7a0b\\u5f02\\u5e38\\u6570\", \"zeroline\": true}}, {\"showLink\": true, \"linkText\": \"Export to plot.ly\"})});</script>"
      ],
      "text/vnd.plotly.v1+html": [
       "<div id=\"00becc2f-9946-4888-829c-87afe0ef219b\" style=\"height: 525px; width: 100%;\" class=\"plotly-graph-div\"></div><script type=\"text/javascript\">require([\"plotly\"], function(Plotly) { window.PLOTLYENV=window.PLOTLYENV || {};window.PLOTLYENV.BASE_URL=\"https://plot.ly\";Plotly.newPlot(\"00becc2f-9946-4888-829c-87afe0ef219b\", [{\"name\": \"\\u8fc7\\u6ee4\\u6d41\\u7a0b\\u5f02\\u5e38\\u6570\", \"x\": [8, 9, 10, 11], \"y\": [3, 1, 0, 0], \"type\": \"scatter\", \"uid\": \"d4ca1a5b-e702-11e8-8ddb-a41f72875c19\"}], {\"title\": \"\\u8fc7\\u6ee4\\u6d41\\u7a0b\\u5f02\\u5e38\\u6570\\u6708\\u8d8b\\u52bf\\u56fe\", \"xaxis\": {\"mirror\": \"all\", \"nticks\": 20, \"showgrid\": true, \"showline\": true, \"title\": \"\\u6708\", \"type\": \"category\", \"zeroline\": true}, \"yaxis\": {\"mirror\": \"all\", \"nticks\": 20, \"showgrid\": true, \"showline\": true, \"title\": \"\\u8fc7\\u6ee4\\u6d41\\u7a0b\\u5f02\\u5e38\\u6570\", \"zeroline\": true}}, {\"showLink\": true, \"linkText\": \"Export to plot.ly\"})});</script>"
      ]
     },
     "metadata": {},
     "output_type": "display_data"
    }
   ],
   "source": [
    "ss = myModule.format(all_df1 ,\"日期（格式“月-周次”）\" ,['过滤流程异常数'])\n",
    "myModule.myPlot(myModule.sort_by_index(ss.groupby('sum'))).plot('line')\n",
    "\n",
    "ss = myModule.format(all_df1 ,\"month\" ,['过滤流程异常数'])\n",
    "myModule.myPlot(ss.groupby('sum')).plot('line','月')"
   ]
  },
  {
   "cell_type": "markdown",
   "metadata": {},
   "source": [
    "## 芯片拆分整体情况"
   ]
  },
  {
   "cell_type": "markdown",
   "metadata": {},
   "source": [
    "### 产能"
   ]
  },
  {
   "cell_type": "markdown",
   "metadata": {},
   "source": [
    "#### 芯片总数和不通过芯片数"
   ]
  },
  {
   "cell_type": "code",
   "execution_count": 134,
   "metadata": {
    "collapsed": false,
    "scrolled": false
   },
   "outputs": [
    {
     "data": {
      "application/vnd.plotly.v1+json": {
       "data": [
        {
         "name": "芯片总数",
         "type": "scatter",
         "uid": "d4ca1a5c-e702-11e8-8ddb-a41f72875c19",
         "x": [
          "8-1",
          "8-2",
          "8-3",
          "8-4",
          "8-5",
          "9-1",
          "9-2",
          "9-3",
          "9-4",
          "10-2",
          "10-3",
          "10-4",
          "10-5",
          "11-1"
         ],
         "y": [
          27,
          37,
          29,
          33,
          22,
          29,
          26,
          29,
          25,
          29,
          30,
          26,
          35,
          24
         ]
        },
        {
         "name": "nova不通过芯片数",
         "type": "scatter",
         "uid": "d4ca1a5d-e702-11e8-8ddb-a41f72875c19",
         "x": [
          "8-1",
          "8-2",
          "8-3",
          "8-4",
          "8-5",
          "9-1",
          "9-2",
          "9-3",
          "9-4",
          "10-2",
          "10-3",
          "10-4",
          "10-5",
          "11-1"
         ],
         "y": [
          0,
          0,
          0,
          0,
          0,
          0,
          0,
          0,
          0,
          0,
          0,
          0,
          0,
          2
         ]
        },
        {
         "name": "xten芯片总数",
         "type": "scatter",
         "uid": "d4ca1a5e-e702-11e8-8ddb-a41f72875c19",
         "x": [
          "8-1",
          "8-2",
          "8-3",
          "8-4",
          "8-5",
          "9-1",
          "9-2",
          "9-3",
          "9-4",
          "10-2",
          "10-3",
          "10-4",
          "10-5",
          "11-1"
         ],
         "y": [
          0,
          0,
          0,
          0,
          0,
          0,
          0,
          0,
          0,
          0,
          0,
          0,
          0,
          19
         ]
        },
        {
         "name": "不通过芯片数",
         "type": "scatter",
         "uid": "d4ca1a5f-e702-11e8-8ddb-a41f72875c19",
         "x": [
          "8-1",
          "8-2",
          "8-3",
          "8-4",
          "8-5",
          "9-1",
          "9-2",
          "9-3",
          "9-4",
          "10-2",
          "10-3",
          "10-4",
          "10-5",
          "11-1"
         ],
         "y": [
          13,
          22,
          20,
          14,
          14,
          15,
          8,
          20,
          18,
          16,
          15,
          16,
          21,
          10
         ]
        },
        {
         "name": "nova芯片总数",
         "type": "scatter",
         "uid": "d4ca1a60-e702-11e8-8ddb-a41f72875c19",
         "x": [
          "8-1",
          "8-2",
          "8-3",
          "8-4",
          "8-5",
          "9-1",
          "9-2",
          "9-3",
          "9-4",
          "10-2",
          "10-3",
          "10-4",
          "10-5",
          "11-1"
         ],
         "y": [
          0,
          0,
          0,
          0,
          0,
          0,
          0,
          0,
          0,
          0,
          0,
          0,
          0,
          2
         ]
        },
        {
         "name": "xten不通过芯片数",
         "type": "scatter",
         "uid": "d4ca1a61-e702-11e8-8ddb-a41f72875c19",
         "x": [
          "8-1",
          "8-2",
          "8-3",
          "8-4",
          "8-5",
          "9-1",
          "9-2",
          "9-3",
          "9-4",
          "10-2",
          "10-3",
          "10-4",
          "10-5",
          "11-1"
         ],
         "y": [
          0,
          0,
          0,
          0,
          0,
          0,
          0,
          0,
          0,
          0,
          0,
          0,
          0,
          8
         ]
        }
       ],
       "layout": {
        "title": "芯片总数&nova不通过芯片数&xten芯片总数&不通过芯片数&nova芯片总数&xten不通过芯片数周趋势图",
        "xaxis": {
         "mirror": "all",
         "nticks": 20,
         "showgrid": true,
         "showline": true,
         "title": "周",
         "type": "category",
         "zeroline": true
        },
        "yaxis": {
         "mirror": "all",
         "nticks": 20,
         "showgrid": true,
         "showline": true,
         "title": "芯片总数&nova不通过芯片数&xten芯片总数&不通过芯片数&nova芯片总数&xten不通过芯片数",
         "zeroline": true
        }
       }
      },
      "text/html": [
       "<div id=\"fb290db9-e4e7-4d65-9606-7bff35415d84\" style=\"height: 525px; width: 100%;\" class=\"plotly-graph-div\"></div><script type=\"text/javascript\">require([\"plotly\"], function(Plotly) { window.PLOTLYENV=window.PLOTLYENV || {};window.PLOTLYENV.BASE_URL=\"https://plot.ly\";Plotly.newPlot(\"fb290db9-e4e7-4d65-9606-7bff35415d84\", [{\"name\": \"\\u82af\\u7247\\u603b\\u6570\", \"x\": [\"8-1\", \"8-2\", \"8-3\", \"8-4\", \"8-5\", \"9-1\", \"9-2\", \"9-3\", \"9-4\", \"10-2\", \"10-3\", \"10-4\", \"10-5\", \"11-1\"], \"y\": [27, 37, 29, 33, 22, 29, 26, 29, 25, 29, 30, 26, 35, 24], \"type\": \"scatter\", \"uid\": \"d4ca1a5c-e702-11e8-8ddb-a41f72875c19\"}, {\"name\": \"nova\\u4e0d\\u901a\\u8fc7\\u82af\\u7247\\u6570\", \"x\": [\"8-1\", \"8-2\", \"8-3\", \"8-4\", \"8-5\", \"9-1\", \"9-2\", \"9-3\", \"9-4\", \"10-2\", \"10-3\", \"10-4\", \"10-5\", \"11-1\"], \"y\": [0.0, 0.0, 0.0, 0.0, 0.0, 0.0, 0.0, 0.0, 0.0, 0.0, 0.0, 0.0, 0.0, 2.0], \"type\": \"scatter\", \"uid\": \"d4ca1a5d-e702-11e8-8ddb-a41f72875c19\"}, {\"name\": \"xten\\u82af\\u7247\\u603b\\u6570\", \"x\": [\"8-1\", \"8-2\", \"8-3\", \"8-4\", \"8-5\", \"9-1\", \"9-2\", \"9-3\", \"9-4\", \"10-2\", \"10-3\", \"10-4\", \"10-5\", \"11-1\"], \"y\": [0.0, 0.0, 0.0, 0.0, 0.0, 0.0, 0.0, 0.0, 0.0, 0.0, 0.0, 0.0, 0.0, 19.0], \"type\": \"scatter\", \"uid\": \"d4ca1a5e-e702-11e8-8ddb-a41f72875c19\"}, {\"name\": \"\\u4e0d\\u901a\\u8fc7\\u82af\\u7247\\u6570\", \"x\": [\"8-1\", \"8-2\", \"8-3\", \"8-4\", \"8-5\", \"9-1\", \"9-2\", \"9-3\", \"9-4\", \"10-2\", \"10-3\", \"10-4\", \"10-5\", \"11-1\"], \"y\": [13, 22, 20, 14, 14, 15, 8, 20, 18, 16, 15, 16, 21, 10], \"type\": \"scatter\", \"uid\": \"d4ca1a5f-e702-11e8-8ddb-a41f72875c19\"}, {\"name\": \"nova\\u82af\\u7247\\u603b\\u6570\", \"x\": [\"8-1\", \"8-2\", \"8-3\", \"8-4\", \"8-5\", \"9-1\", \"9-2\", \"9-3\", \"9-4\", \"10-2\", \"10-3\", \"10-4\", \"10-5\", \"11-1\"], \"y\": [0.0, 0.0, 0.0, 0.0, 0.0, 0.0, 0.0, 0.0, 0.0, 0.0, 0.0, 0.0, 0.0, 2.0], \"type\": \"scatter\", \"uid\": \"d4ca1a60-e702-11e8-8ddb-a41f72875c19\"}, {\"name\": \"xten\\u4e0d\\u901a\\u8fc7\\u82af\\u7247\\u6570\", \"x\": [\"8-1\", \"8-2\", \"8-3\", \"8-4\", \"8-5\", \"9-1\", \"9-2\", \"9-3\", \"9-4\", \"10-2\", \"10-3\", \"10-4\", \"10-5\", \"11-1\"], \"y\": [0.0, 0.0, 0.0, 0.0, 0.0, 0.0, 0.0, 0.0, 0.0, 0.0, 0.0, 0.0, 0.0, 8.0], \"type\": \"scatter\", \"uid\": \"d4ca1a61-e702-11e8-8ddb-a41f72875c19\"}], {\"title\": \"\\u82af\\u7247\\u603b\\u6570&nova\\u4e0d\\u901a\\u8fc7\\u82af\\u7247\\u6570&xten\\u82af\\u7247\\u603b\\u6570&\\u4e0d\\u901a\\u8fc7\\u82af\\u7247\\u6570&nova\\u82af\\u7247\\u603b\\u6570&xten\\u4e0d\\u901a\\u8fc7\\u82af\\u7247\\u6570\\u5468\\u8d8b\\u52bf\\u56fe\", \"xaxis\": {\"mirror\": \"all\", \"nticks\": 20, \"showgrid\": true, \"showline\": true, \"title\": \"\\u5468\", \"type\": \"category\", \"zeroline\": true}, \"yaxis\": {\"mirror\": \"all\", \"nticks\": 20, \"showgrid\": true, \"showline\": true, \"title\": \"\\u82af\\u7247\\u603b\\u6570&nova\\u4e0d\\u901a\\u8fc7\\u82af\\u7247\\u6570&xten\\u82af\\u7247\\u603b\\u6570&\\u4e0d\\u901a\\u8fc7\\u82af\\u7247\\u6570&nova\\u82af\\u7247\\u603b\\u6570&xten\\u4e0d\\u901a\\u8fc7\\u82af\\u7247\\u6570\", \"zeroline\": true}}, {\"showLink\": true, \"linkText\": \"Export to plot.ly\"})});</script>"
      ],
      "text/vnd.plotly.v1+html": [
       "<div id=\"fb290db9-e4e7-4d65-9606-7bff35415d84\" style=\"height: 525px; width: 100%;\" class=\"plotly-graph-div\"></div><script type=\"text/javascript\">require([\"plotly\"], function(Plotly) { window.PLOTLYENV=window.PLOTLYENV || {};window.PLOTLYENV.BASE_URL=\"https://plot.ly\";Plotly.newPlot(\"fb290db9-e4e7-4d65-9606-7bff35415d84\", [{\"name\": \"\\u82af\\u7247\\u603b\\u6570\", \"x\": [\"8-1\", \"8-2\", \"8-3\", \"8-4\", \"8-5\", \"9-1\", \"9-2\", \"9-3\", \"9-4\", \"10-2\", \"10-3\", \"10-4\", \"10-5\", \"11-1\"], \"y\": [27, 37, 29, 33, 22, 29, 26, 29, 25, 29, 30, 26, 35, 24], \"type\": \"scatter\", \"uid\": \"d4ca1a5c-e702-11e8-8ddb-a41f72875c19\"}, {\"name\": \"nova\\u4e0d\\u901a\\u8fc7\\u82af\\u7247\\u6570\", \"x\": [\"8-1\", \"8-2\", \"8-3\", \"8-4\", \"8-5\", \"9-1\", \"9-2\", \"9-3\", \"9-4\", \"10-2\", \"10-3\", \"10-4\", \"10-5\", \"11-1\"], \"y\": [0.0, 0.0, 0.0, 0.0, 0.0, 0.0, 0.0, 0.0, 0.0, 0.0, 0.0, 0.0, 0.0, 2.0], \"type\": \"scatter\", \"uid\": \"d4ca1a5d-e702-11e8-8ddb-a41f72875c19\"}, {\"name\": \"xten\\u82af\\u7247\\u603b\\u6570\", \"x\": [\"8-1\", \"8-2\", \"8-3\", \"8-4\", \"8-5\", \"9-1\", \"9-2\", \"9-3\", \"9-4\", \"10-2\", \"10-3\", \"10-4\", \"10-5\", \"11-1\"], \"y\": [0.0, 0.0, 0.0, 0.0, 0.0, 0.0, 0.0, 0.0, 0.0, 0.0, 0.0, 0.0, 0.0, 19.0], \"type\": \"scatter\", \"uid\": \"d4ca1a5e-e702-11e8-8ddb-a41f72875c19\"}, {\"name\": \"\\u4e0d\\u901a\\u8fc7\\u82af\\u7247\\u6570\", \"x\": [\"8-1\", \"8-2\", \"8-3\", \"8-4\", \"8-5\", \"9-1\", \"9-2\", \"9-3\", \"9-4\", \"10-2\", \"10-3\", \"10-4\", \"10-5\", \"11-1\"], \"y\": [13, 22, 20, 14, 14, 15, 8, 20, 18, 16, 15, 16, 21, 10], \"type\": \"scatter\", \"uid\": \"d4ca1a5f-e702-11e8-8ddb-a41f72875c19\"}, {\"name\": \"nova\\u82af\\u7247\\u603b\\u6570\", \"x\": [\"8-1\", \"8-2\", \"8-3\", \"8-4\", \"8-5\", \"9-1\", \"9-2\", \"9-3\", \"9-4\", \"10-2\", \"10-3\", \"10-4\", \"10-5\", \"11-1\"], \"y\": [0.0, 0.0, 0.0, 0.0, 0.0, 0.0, 0.0, 0.0, 0.0, 0.0, 0.0, 0.0, 0.0, 2.0], \"type\": \"scatter\", \"uid\": \"d4ca1a60-e702-11e8-8ddb-a41f72875c19\"}, {\"name\": \"xten\\u4e0d\\u901a\\u8fc7\\u82af\\u7247\\u6570\", \"x\": [\"8-1\", \"8-2\", \"8-3\", \"8-4\", \"8-5\", \"9-1\", \"9-2\", \"9-3\", \"9-4\", \"10-2\", \"10-3\", \"10-4\", \"10-5\", \"11-1\"], \"y\": [0.0, 0.0, 0.0, 0.0, 0.0, 0.0, 0.0, 0.0, 0.0, 0.0, 0.0, 0.0, 0.0, 8.0], \"type\": \"scatter\", \"uid\": \"d4ca1a61-e702-11e8-8ddb-a41f72875c19\"}], {\"title\": \"\\u82af\\u7247\\u603b\\u6570&nova\\u4e0d\\u901a\\u8fc7\\u82af\\u7247\\u6570&xten\\u82af\\u7247\\u603b\\u6570&\\u4e0d\\u901a\\u8fc7\\u82af\\u7247\\u6570&nova\\u82af\\u7247\\u603b\\u6570&xten\\u4e0d\\u901a\\u8fc7\\u82af\\u7247\\u6570\\u5468\\u8d8b\\u52bf\\u56fe\", \"xaxis\": {\"mirror\": \"all\", \"nticks\": 20, \"showgrid\": true, \"showline\": true, \"title\": \"\\u5468\", \"type\": \"category\", \"zeroline\": true}, \"yaxis\": {\"mirror\": \"all\", \"nticks\": 20, \"showgrid\": true, \"showline\": true, \"title\": \"\\u82af\\u7247\\u603b\\u6570&nova\\u4e0d\\u901a\\u8fc7\\u82af\\u7247\\u6570&xten\\u82af\\u7247\\u603b\\u6570&\\u4e0d\\u901a\\u8fc7\\u82af\\u7247\\u6570&nova\\u82af\\u7247\\u603b\\u6570&xten\\u4e0d\\u901a\\u8fc7\\u82af\\u7247\\u6570\", \"zeroline\": true}}, {\"showLink\": true, \"linkText\": \"Export to plot.ly\"})});</script>"
      ]
     },
     "metadata": {},
     "output_type": "display_data"
    },
    {
     "data": {
      "application/vnd.plotly.v1+json": {
       "data": [
        {
         "line": {
          "dash": "solid"
         },
         "name": "芯片总数(北京组)",
         "type": "scatter",
         "uid": "d4ca1a62-e702-11e8-8ddb-a41f72875c19",
         "x": [
          "8-1",
          "8-2",
          "8-3",
          "8-4",
          "8-5",
          "9-1",
          "9-2",
          "9-3",
          "9-4",
          "10-2",
          "10-3",
          "10-4",
          "10-5",
          "11-1"
         ],
         "y": [
          27,
          37,
          29,
          33,
          22,
          29,
          26,
          29,
          25,
          29,
          30,
          26,
          34,
          22
         ]
        },
        {
         "line": {
          "dash": "dot"
         },
         "name": "芯片总数(义乌组)",
         "type": "scatter",
         "uid": "d4ca1a63-e702-11e8-8ddb-a41f72875c19",
         "x": [
          "8-1",
          "8-2",
          "8-3",
          "8-4",
          "8-5",
          "9-1",
          "9-2",
          "9-3",
          "9-4",
          "10-2",
          "10-3",
          "10-4",
          "10-5",
          "11-1"
         ],
         "y": [
          null,
          null,
          null,
          null,
          null,
          null,
          null,
          null,
          null,
          null,
          null,
          null,
          1,
          2
         ]
        },
        {
         "line": {
          "dash": "solid"
         },
         "name": "nova不通过芯片数(北京组)",
         "type": "scatter",
         "uid": "d4ca1a64-e702-11e8-8ddb-a41f72875c19",
         "x": [
          "8-1",
          "8-2",
          "8-3",
          "8-4",
          "8-5",
          "9-1",
          "9-2",
          "9-3",
          "9-4",
          "10-2",
          "10-3",
          "10-4",
          "10-5",
          "11-1"
         ],
         "y": [
          0,
          0,
          0,
          0,
          0,
          0,
          0,
          0,
          0,
          0,
          0,
          0,
          0,
          1
         ]
        },
        {
         "line": {
          "dash": "dot"
         },
         "name": "nova不通过芯片数(义乌组)",
         "type": "scatter",
         "uid": "d4ca1a65-e702-11e8-8ddb-a41f72875c19",
         "x": [
          "8-1",
          "8-2",
          "8-3",
          "8-4",
          "8-5",
          "9-1",
          "9-2",
          "9-3",
          "9-4",
          "10-2",
          "10-3",
          "10-4",
          "10-5",
          "11-1"
         ],
         "y": [
          null,
          null,
          null,
          null,
          null,
          null,
          null,
          null,
          null,
          null,
          null,
          null,
          0,
          1
         ]
        },
        {
         "line": {
          "dash": "solid"
         },
         "name": "xten芯片总数(北京组)",
         "type": "scatter",
         "uid": "d4ca1a66-e702-11e8-8ddb-a41f72875c19",
         "x": [
          "8-1",
          "8-2",
          "8-3",
          "8-4",
          "8-5",
          "9-1",
          "9-2",
          "9-3",
          "9-4",
          "10-2",
          "10-3",
          "10-4",
          "10-5",
          "11-1"
         ],
         "y": [
          0,
          0,
          0,
          0,
          0,
          0,
          0,
          0,
          0,
          0,
          0,
          0,
          0,
          19
         ]
        },
        {
         "line": {
          "dash": "dot"
         },
         "name": "xten芯片总数(义乌组)",
         "type": "scatter",
         "uid": "d4ca1a67-e702-11e8-8ddb-a41f72875c19",
         "x": [
          "8-1",
          "8-2",
          "8-3",
          "8-4",
          "8-5",
          "9-1",
          "9-2",
          "9-3",
          "9-4",
          "10-2",
          "10-3",
          "10-4",
          "10-5",
          "11-1"
         ],
         "y": [
          null,
          null,
          null,
          null,
          null,
          null,
          null,
          null,
          null,
          null,
          null,
          null,
          0,
          0
         ]
        },
        {
         "line": {
          "dash": "solid"
         },
         "name": "不通过芯片数(北京组)",
         "type": "scatter",
         "uid": "d4ca1a68-e702-11e8-8ddb-a41f72875c19",
         "x": [
          "8-1",
          "8-2",
          "8-3",
          "8-4",
          "8-5",
          "9-1",
          "9-2",
          "9-3",
          "9-4",
          "10-2",
          "10-3",
          "10-4",
          "10-5",
          "11-1"
         ],
         "y": [
          13,
          22,
          20,
          14,
          14,
          15,
          8,
          20,
          18,
          16,
          15,
          16,
          20,
          9
         ]
        },
        {
         "line": {
          "dash": "dot"
         },
         "name": "不通过芯片数(义乌组)",
         "type": "scatter",
         "uid": "d4ca1a69-e702-11e8-8ddb-a41f72875c19",
         "x": [
          "8-1",
          "8-2",
          "8-3",
          "8-4",
          "8-5",
          "9-1",
          "9-2",
          "9-3",
          "9-4",
          "10-2",
          "10-3",
          "10-4",
          "10-5",
          "11-1"
         ],
         "y": [
          null,
          null,
          null,
          null,
          null,
          null,
          null,
          null,
          null,
          null,
          null,
          null,
          1,
          1
         ]
        },
        {
         "line": {
          "dash": "solid"
         },
         "name": "nova芯片总数(北京组)",
         "type": "scatter",
         "uid": "d4ca1a6a-e702-11e8-8ddb-a41f72875c19",
         "x": [
          "8-1",
          "8-2",
          "8-3",
          "8-4",
          "8-5",
          "9-1",
          "9-2",
          "9-3",
          "9-4",
          "10-2",
          "10-3",
          "10-4",
          "10-5",
          "11-1"
         ],
         "y": [
          0,
          0,
          0,
          0,
          0,
          0,
          0,
          0,
          0,
          0,
          0,
          0,
          0,
          1
         ]
        },
        {
         "line": {
          "dash": "dot"
         },
         "name": "nova芯片总数(义乌组)",
         "type": "scatter",
         "uid": "d4ca1a6b-e702-11e8-8ddb-a41f72875c19",
         "x": [
          "8-1",
          "8-2",
          "8-3",
          "8-4",
          "8-5",
          "9-1",
          "9-2",
          "9-3",
          "9-4",
          "10-2",
          "10-3",
          "10-4",
          "10-5",
          "11-1"
         ],
         "y": [
          null,
          null,
          null,
          null,
          null,
          null,
          null,
          null,
          null,
          null,
          null,
          null,
          0,
          1
         ]
        },
        {
         "line": {
          "dash": "solid"
         },
         "name": "xten不通过芯片数(北京组)",
         "type": "scatter",
         "uid": "d4ca1a6c-e702-11e8-8ddb-a41f72875c19",
         "x": [
          "8-1",
          "8-2",
          "8-3",
          "8-4",
          "8-5",
          "9-1",
          "9-2",
          "9-3",
          "9-4",
          "10-2",
          "10-3",
          "10-4",
          "10-5",
          "11-1"
         ],
         "y": [
          0,
          0,
          0,
          0,
          0,
          0,
          0,
          0,
          0,
          0,
          0,
          0,
          0,
          8
         ]
        },
        {
         "line": {
          "dash": "dot"
         },
         "name": "xten不通过芯片数(义乌组)",
         "type": "scatter",
         "uid": "d4ca1a6d-e702-11e8-8ddb-a41f72875c19",
         "x": [
          "8-1",
          "8-2",
          "8-3",
          "8-4",
          "8-5",
          "9-1",
          "9-2",
          "9-3",
          "9-4",
          "10-2",
          "10-3",
          "10-4",
          "10-5",
          "11-1"
         ],
         "y": [
          null,
          null,
          null,
          null,
          null,
          null,
          null,
          null,
          null,
          null,
          null,
          null,
          0,
          0
         ]
        }
       ],
       "layout": {
        "title": "芯片总数&nova不通过芯片数&xten芯片总数&不通过芯片数&nova芯片总数&xten不通过芯片数周趋势图",
        "xaxis": {
         "mirror": "all",
         "nticks": 20,
         "showgrid": true,
         "showline": true,
         "title": "周",
         "type": "category",
         "zeroline": true
        },
        "yaxis": {
         "mirror": "all",
         "nticks": 20,
         "showgrid": true,
         "showline": true,
         "title": "芯片总数&nova不通过芯片数&xten芯片总数&不通过芯片数&nova芯片总数&xten不通过芯片数",
         "zeroline": true
        }
       }
      },
      "text/html": [
       "<div id=\"0c0c7ab1-1d55-4026-ab9b-c0e0f2110f04\" style=\"height: 525px; width: 100%;\" class=\"plotly-graph-div\"></div><script type=\"text/javascript\">require([\"plotly\"], function(Plotly) { window.PLOTLYENV=window.PLOTLYENV || {};window.PLOTLYENV.BASE_URL=\"https://plot.ly\";Plotly.newPlot(\"0c0c7ab1-1d55-4026-ab9b-c0e0f2110f04\", [{\"line\": {\"dash\": \"solid\"}, \"name\": \"\\u82af\\u7247\\u603b\\u6570(\\u5317\\u4eac\\u7ec4)\", \"x\": [\"8-1\", \"8-2\", \"8-3\", \"8-4\", \"8-5\", \"9-1\", \"9-2\", \"9-3\", \"9-4\", \"10-2\", \"10-3\", \"10-4\", \"10-5\", \"11-1\"], \"y\": [27.0, 37.0, 29.0, 33.0, 22.0, 29.0, 26.0, 29.0, 25.0, 29.0, 30.0, 26.0, 34.0, 22.0], \"type\": \"scatter\", \"uid\": \"d4ca1a62-e702-11e8-8ddb-a41f72875c19\"}, {\"line\": {\"dash\": \"dot\"}, \"name\": \"\\u82af\\u7247\\u603b\\u6570(\\u4e49\\u4e4c\\u7ec4)\", \"x\": [\"8-1\", \"8-2\", \"8-3\", \"8-4\", \"8-5\", \"9-1\", \"9-2\", \"9-3\", \"9-4\", \"10-2\", \"10-3\", \"10-4\", \"10-5\", \"11-1\"], \"y\": [null, null, null, null, null, null, null, null, null, null, null, null, 1.0, 2.0], \"type\": \"scatter\", \"uid\": \"d4ca1a63-e702-11e8-8ddb-a41f72875c19\"}, {\"line\": {\"dash\": \"solid\"}, \"name\": \"nova\\u4e0d\\u901a\\u8fc7\\u82af\\u7247\\u6570(\\u5317\\u4eac\\u7ec4)\", \"x\": [\"8-1\", \"8-2\", \"8-3\", \"8-4\", \"8-5\", \"9-1\", \"9-2\", \"9-3\", \"9-4\", \"10-2\", \"10-3\", \"10-4\", \"10-5\", \"11-1\"], \"y\": [0.0, 0.0, 0.0, 0.0, 0.0, 0.0, 0.0, 0.0, 0.0, 0.0, 0.0, 0.0, 0.0, 1.0], \"type\": \"scatter\", \"uid\": \"d4ca1a64-e702-11e8-8ddb-a41f72875c19\"}, {\"line\": {\"dash\": \"dot\"}, \"name\": \"nova\\u4e0d\\u901a\\u8fc7\\u82af\\u7247\\u6570(\\u4e49\\u4e4c\\u7ec4)\", \"x\": [\"8-1\", \"8-2\", \"8-3\", \"8-4\", \"8-5\", \"9-1\", \"9-2\", \"9-3\", \"9-4\", \"10-2\", \"10-3\", \"10-4\", \"10-5\", \"11-1\"], \"y\": [null, null, null, null, null, null, null, null, null, null, null, null, 0.0, 1.0], \"type\": \"scatter\", \"uid\": \"d4ca1a65-e702-11e8-8ddb-a41f72875c19\"}, {\"line\": {\"dash\": \"solid\"}, \"name\": \"xten\\u82af\\u7247\\u603b\\u6570(\\u5317\\u4eac\\u7ec4)\", \"x\": [\"8-1\", \"8-2\", \"8-3\", \"8-4\", \"8-5\", \"9-1\", \"9-2\", \"9-3\", \"9-4\", \"10-2\", \"10-3\", \"10-4\", \"10-5\", \"11-1\"], \"y\": [0.0, 0.0, 0.0, 0.0, 0.0, 0.0, 0.0, 0.0, 0.0, 0.0, 0.0, 0.0, 0.0, 19.0], \"type\": \"scatter\", \"uid\": \"d4ca1a66-e702-11e8-8ddb-a41f72875c19\"}, {\"line\": {\"dash\": \"dot\"}, \"name\": \"xten\\u82af\\u7247\\u603b\\u6570(\\u4e49\\u4e4c\\u7ec4)\", \"x\": [\"8-1\", \"8-2\", \"8-3\", \"8-4\", \"8-5\", \"9-1\", \"9-2\", \"9-3\", \"9-4\", \"10-2\", \"10-3\", \"10-4\", \"10-5\", \"11-1\"], \"y\": [null, null, null, null, null, null, null, null, null, null, null, null, 0.0, 0.0], \"type\": \"scatter\", \"uid\": \"d4ca1a67-e702-11e8-8ddb-a41f72875c19\"}, {\"line\": {\"dash\": \"solid\"}, \"name\": \"\\u4e0d\\u901a\\u8fc7\\u82af\\u7247\\u6570(\\u5317\\u4eac\\u7ec4)\", \"x\": [\"8-1\", \"8-2\", \"8-3\", \"8-4\", \"8-5\", \"9-1\", \"9-2\", \"9-3\", \"9-4\", \"10-2\", \"10-3\", \"10-4\", \"10-5\", \"11-1\"], \"y\": [13.0, 22.0, 20.0, 14.0, 14.0, 15.0, 8.0, 20.0, 18.0, 16.0, 15.0, 16.0, 20.0, 9.0], \"type\": \"scatter\", \"uid\": \"d4ca1a68-e702-11e8-8ddb-a41f72875c19\"}, {\"line\": {\"dash\": \"dot\"}, \"name\": \"\\u4e0d\\u901a\\u8fc7\\u82af\\u7247\\u6570(\\u4e49\\u4e4c\\u7ec4)\", \"x\": [\"8-1\", \"8-2\", \"8-3\", \"8-4\", \"8-5\", \"9-1\", \"9-2\", \"9-3\", \"9-4\", \"10-2\", \"10-3\", \"10-4\", \"10-5\", \"11-1\"], \"y\": [null, null, null, null, null, null, null, null, null, null, null, null, 1.0, 1.0], \"type\": \"scatter\", \"uid\": \"d4ca1a69-e702-11e8-8ddb-a41f72875c19\"}, {\"line\": {\"dash\": \"solid\"}, \"name\": \"nova\\u82af\\u7247\\u603b\\u6570(\\u5317\\u4eac\\u7ec4)\", \"x\": [\"8-1\", \"8-2\", \"8-3\", \"8-4\", \"8-5\", \"9-1\", \"9-2\", \"9-3\", \"9-4\", \"10-2\", \"10-3\", \"10-4\", \"10-5\", \"11-1\"], \"y\": [0.0, 0.0, 0.0, 0.0, 0.0, 0.0, 0.0, 0.0, 0.0, 0.0, 0.0, 0.0, 0.0, 1.0], \"type\": \"scatter\", \"uid\": \"d4ca1a6a-e702-11e8-8ddb-a41f72875c19\"}, {\"line\": {\"dash\": \"dot\"}, \"name\": \"nova\\u82af\\u7247\\u603b\\u6570(\\u4e49\\u4e4c\\u7ec4)\", \"x\": [\"8-1\", \"8-2\", \"8-3\", \"8-4\", \"8-5\", \"9-1\", \"9-2\", \"9-3\", \"9-4\", \"10-2\", \"10-3\", \"10-4\", \"10-5\", \"11-1\"], \"y\": [null, null, null, null, null, null, null, null, null, null, null, null, 0.0, 1.0], \"type\": \"scatter\", \"uid\": \"d4ca1a6b-e702-11e8-8ddb-a41f72875c19\"}, {\"line\": {\"dash\": \"solid\"}, \"name\": \"xten\\u4e0d\\u901a\\u8fc7\\u82af\\u7247\\u6570(\\u5317\\u4eac\\u7ec4)\", \"x\": [\"8-1\", \"8-2\", \"8-3\", \"8-4\", \"8-5\", \"9-1\", \"9-2\", \"9-3\", \"9-4\", \"10-2\", \"10-3\", \"10-4\", \"10-5\", \"11-1\"], \"y\": [0.0, 0.0, 0.0, 0.0, 0.0, 0.0, 0.0, 0.0, 0.0, 0.0, 0.0, 0.0, 0.0, 8.0], \"type\": \"scatter\", \"uid\": \"d4ca1a6c-e702-11e8-8ddb-a41f72875c19\"}, {\"line\": {\"dash\": \"dot\"}, \"name\": \"xten\\u4e0d\\u901a\\u8fc7\\u82af\\u7247\\u6570(\\u4e49\\u4e4c\\u7ec4)\", \"x\": [\"8-1\", \"8-2\", \"8-3\", \"8-4\", \"8-5\", \"9-1\", \"9-2\", \"9-3\", \"9-4\", \"10-2\", \"10-3\", \"10-4\", \"10-5\", \"11-1\"], \"y\": [null, null, null, null, null, null, null, null, null, null, null, null, 0.0, 0.0], \"type\": \"scatter\", \"uid\": \"d4ca1a6d-e702-11e8-8ddb-a41f72875c19\"}], {\"title\": \"\\u82af\\u7247\\u603b\\u6570&nova\\u4e0d\\u901a\\u8fc7\\u82af\\u7247\\u6570&xten\\u82af\\u7247\\u603b\\u6570&\\u4e0d\\u901a\\u8fc7\\u82af\\u7247\\u6570&nova\\u82af\\u7247\\u603b\\u6570&xten\\u4e0d\\u901a\\u8fc7\\u82af\\u7247\\u6570\\u5468\\u8d8b\\u52bf\\u56fe\", \"xaxis\": {\"mirror\": \"all\", \"nticks\": 20, \"showgrid\": true, \"showline\": true, \"title\": \"\\u5468\", \"type\": \"category\", \"zeroline\": true}, \"yaxis\": {\"mirror\": \"all\", \"nticks\": 20, \"showgrid\": true, \"showline\": true, \"title\": \"\\u82af\\u7247\\u603b\\u6570&nova\\u4e0d\\u901a\\u8fc7\\u82af\\u7247\\u6570&xten\\u82af\\u7247\\u603b\\u6570&\\u4e0d\\u901a\\u8fc7\\u82af\\u7247\\u6570&nova\\u82af\\u7247\\u603b\\u6570&xten\\u4e0d\\u901a\\u8fc7\\u82af\\u7247\\u6570\", \"zeroline\": true}}, {\"showLink\": true, \"linkText\": \"Export to plot.ly\"})});</script>"
      ],
      "text/vnd.plotly.v1+html": [
       "<div id=\"0c0c7ab1-1d55-4026-ab9b-c0e0f2110f04\" style=\"height: 525px; width: 100%;\" class=\"plotly-graph-div\"></div><script type=\"text/javascript\">require([\"plotly\"], function(Plotly) { window.PLOTLYENV=window.PLOTLYENV || {};window.PLOTLYENV.BASE_URL=\"https://plot.ly\";Plotly.newPlot(\"0c0c7ab1-1d55-4026-ab9b-c0e0f2110f04\", [{\"line\": {\"dash\": \"solid\"}, \"name\": \"\\u82af\\u7247\\u603b\\u6570(\\u5317\\u4eac\\u7ec4)\", \"x\": [\"8-1\", \"8-2\", \"8-3\", \"8-4\", \"8-5\", \"9-1\", \"9-2\", \"9-3\", \"9-4\", \"10-2\", \"10-3\", \"10-4\", \"10-5\", \"11-1\"], \"y\": [27.0, 37.0, 29.0, 33.0, 22.0, 29.0, 26.0, 29.0, 25.0, 29.0, 30.0, 26.0, 34.0, 22.0], \"type\": \"scatter\", \"uid\": \"d4ca1a62-e702-11e8-8ddb-a41f72875c19\"}, {\"line\": {\"dash\": \"dot\"}, \"name\": \"\\u82af\\u7247\\u603b\\u6570(\\u4e49\\u4e4c\\u7ec4)\", \"x\": [\"8-1\", \"8-2\", \"8-3\", \"8-4\", \"8-5\", \"9-1\", \"9-2\", \"9-3\", \"9-4\", \"10-2\", \"10-3\", \"10-4\", \"10-5\", \"11-1\"], \"y\": [null, null, null, null, null, null, null, null, null, null, null, null, 1.0, 2.0], \"type\": \"scatter\", \"uid\": \"d4ca1a63-e702-11e8-8ddb-a41f72875c19\"}, {\"line\": {\"dash\": \"solid\"}, \"name\": \"nova\\u4e0d\\u901a\\u8fc7\\u82af\\u7247\\u6570(\\u5317\\u4eac\\u7ec4)\", \"x\": [\"8-1\", \"8-2\", \"8-3\", \"8-4\", \"8-5\", \"9-1\", \"9-2\", \"9-3\", \"9-4\", \"10-2\", \"10-3\", \"10-4\", \"10-5\", \"11-1\"], \"y\": [0.0, 0.0, 0.0, 0.0, 0.0, 0.0, 0.0, 0.0, 0.0, 0.0, 0.0, 0.0, 0.0, 1.0], \"type\": \"scatter\", \"uid\": \"d4ca1a64-e702-11e8-8ddb-a41f72875c19\"}, {\"line\": {\"dash\": \"dot\"}, \"name\": \"nova\\u4e0d\\u901a\\u8fc7\\u82af\\u7247\\u6570(\\u4e49\\u4e4c\\u7ec4)\", \"x\": [\"8-1\", \"8-2\", \"8-3\", \"8-4\", \"8-5\", \"9-1\", \"9-2\", \"9-3\", \"9-4\", \"10-2\", \"10-3\", \"10-4\", \"10-5\", \"11-1\"], \"y\": [null, null, null, null, null, null, null, null, null, null, null, null, 0.0, 1.0], \"type\": \"scatter\", \"uid\": \"d4ca1a65-e702-11e8-8ddb-a41f72875c19\"}, {\"line\": {\"dash\": \"solid\"}, \"name\": \"xten\\u82af\\u7247\\u603b\\u6570(\\u5317\\u4eac\\u7ec4)\", \"x\": [\"8-1\", \"8-2\", \"8-3\", \"8-4\", \"8-5\", \"9-1\", \"9-2\", \"9-3\", \"9-4\", \"10-2\", \"10-3\", \"10-4\", \"10-5\", \"11-1\"], \"y\": [0.0, 0.0, 0.0, 0.0, 0.0, 0.0, 0.0, 0.0, 0.0, 0.0, 0.0, 0.0, 0.0, 19.0], \"type\": \"scatter\", \"uid\": \"d4ca1a66-e702-11e8-8ddb-a41f72875c19\"}, {\"line\": {\"dash\": \"dot\"}, \"name\": \"xten\\u82af\\u7247\\u603b\\u6570(\\u4e49\\u4e4c\\u7ec4)\", \"x\": [\"8-1\", \"8-2\", \"8-3\", \"8-4\", \"8-5\", \"9-1\", \"9-2\", \"9-3\", \"9-4\", \"10-2\", \"10-3\", \"10-4\", \"10-5\", \"11-1\"], \"y\": [null, null, null, null, null, null, null, null, null, null, null, null, 0.0, 0.0], \"type\": \"scatter\", \"uid\": \"d4ca1a67-e702-11e8-8ddb-a41f72875c19\"}, {\"line\": {\"dash\": \"solid\"}, \"name\": \"\\u4e0d\\u901a\\u8fc7\\u82af\\u7247\\u6570(\\u5317\\u4eac\\u7ec4)\", \"x\": [\"8-1\", \"8-2\", \"8-3\", \"8-4\", \"8-5\", \"9-1\", \"9-2\", \"9-3\", \"9-4\", \"10-2\", \"10-3\", \"10-4\", \"10-5\", \"11-1\"], \"y\": [13.0, 22.0, 20.0, 14.0, 14.0, 15.0, 8.0, 20.0, 18.0, 16.0, 15.0, 16.0, 20.0, 9.0], \"type\": \"scatter\", \"uid\": \"d4ca1a68-e702-11e8-8ddb-a41f72875c19\"}, {\"line\": {\"dash\": \"dot\"}, \"name\": \"\\u4e0d\\u901a\\u8fc7\\u82af\\u7247\\u6570(\\u4e49\\u4e4c\\u7ec4)\", \"x\": [\"8-1\", \"8-2\", \"8-3\", \"8-4\", \"8-5\", \"9-1\", \"9-2\", \"9-3\", \"9-4\", \"10-2\", \"10-3\", \"10-4\", \"10-5\", \"11-1\"], \"y\": [null, null, null, null, null, null, null, null, null, null, null, null, 1.0, 1.0], \"type\": \"scatter\", \"uid\": \"d4ca1a69-e702-11e8-8ddb-a41f72875c19\"}, {\"line\": {\"dash\": \"solid\"}, \"name\": \"nova\\u82af\\u7247\\u603b\\u6570(\\u5317\\u4eac\\u7ec4)\", \"x\": [\"8-1\", \"8-2\", \"8-3\", \"8-4\", \"8-5\", \"9-1\", \"9-2\", \"9-3\", \"9-4\", \"10-2\", \"10-3\", \"10-4\", \"10-5\", \"11-1\"], \"y\": [0.0, 0.0, 0.0, 0.0, 0.0, 0.0, 0.0, 0.0, 0.0, 0.0, 0.0, 0.0, 0.0, 1.0], \"type\": \"scatter\", \"uid\": \"d4ca1a6a-e702-11e8-8ddb-a41f72875c19\"}, {\"line\": {\"dash\": \"dot\"}, \"name\": \"nova\\u82af\\u7247\\u603b\\u6570(\\u4e49\\u4e4c\\u7ec4)\", \"x\": [\"8-1\", \"8-2\", \"8-3\", \"8-4\", \"8-5\", \"9-1\", \"9-2\", \"9-3\", \"9-4\", \"10-2\", \"10-3\", \"10-4\", \"10-5\", \"11-1\"], \"y\": [null, null, null, null, null, null, null, null, null, null, null, null, 0.0, 1.0], \"type\": \"scatter\", \"uid\": \"d4ca1a6b-e702-11e8-8ddb-a41f72875c19\"}, {\"line\": {\"dash\": \"solid\"}, \"name\": \"xten\\u4e0d\\u901a\\u8fc7\\u82af\\u7247\\u6570(\\u5317\\u4eac\\u7ec4)\", \"x\": [\"8-1\", \"8-2\", \"8-3\", \"8-4\", \"8-5\", \"9-1\", \"9-2\", \"9-3\", \"9-4\", \"10-2\", \"10-3\", \"10-4\", \"10-5\", \"11-1\"], \"y\": [0.0, 0.0, 0.0, 0.0, 0.0, 0.0, 0.0, 0.0, 0.0, 0.0, 0.0, 0.0, 0.0, 8.0], \"type\": \"scatter\", \"uid\": \"d4ca1a6c-e702-11e8-8ddb-a41f72875c19\"}, {\"line\": {\"dash\": \"dot\"}, \"name\": \"xten\\u4e0d\\u901a\\u8fc7\\u82af\\u7247\\u6570(\\u4e49\\u4e4c\\u7ec4)\", \"x\": [\"8-1\", \"8-2\", \"8-3\", \"8-4\", \"8-5\", \"9-1\", \"9-2\", \"9-3\", \"9-4\", \"10-2\", \"10-3\", \"10-4\", \"10-5\", \"11-1\"], \"y\": [null, null, null, null, null, null, null, null, null, null, null, null, 0.0, 0.0], \"type\": \"scatter\", \"uid\": \"d4ca1a6d-e702-11e8-8ddb-a41f72875c19\"}], {\"title\": \"\\u82af\\u7247\\u603b\\u6570&nova\\u4e0d\\u901a\\u8fc7\\u82af\\u7247\\u6570&xten\\u82af\\u7247\\u603b\\u6570&\\u4e0d\\u901a\\u8fc7\\u82af\\u7247\\u6570&nova\\u82af\\u7247\\u603b\\u6570&xten\\u4e0d\\u901a\\u8fc7\\u82af\\u7247\\u6570\\u5468\\u8d8b\\u52bf\\u56fe\", \"xaxis\": {\"mirror\": \"all\", \"nticks\": 20, \"showgrid\": true, \"showline\": true, \"title\": \"\\u5468\", \"type\": \"category\", \"zeroline\": true}, \"yaxis\": {\"mirror\": \"all\", \"nticks\": 20, \"showgrid\": true, \"showline\": true, \"title\": \"\\u82af\\u7247\\u603b\\u6570&nova\\u4e0d\\u901a\\u8fc7\\u82af\\u7247\\u6570&xten\\u82af\\u7247\\u603b\\u6570&\\u4e0d\\u901a\\u8fc7\\u82af\\u7247\\u6570&nova\\u82af\\u7247\\u603b\\u6570&xten\\u4e0d\\u901a\\u8fc7\\u82af\\u7247\\u6570\", \"zeroline\": true}}, {\"showLink\": true, \"linkText\": \"Export to plot.ly\"})});</script>"
      ]
     },
     "metadata": {},
     "output_type": "display_data"
    }
   ],
   "source": [
    "plot_head_list=[\"芯片总数\" ,'不通过芯片数',\"xten芯片总数\" ,\"xten不通过芯片数\",\"nova芯片总数\",\"nova不通过芯片数\"]\n",
    "ss = myModule.format(all_df2 ,\"日期（格式“月-周次”）\" ,plot_head_list)\n",
    "myModule.myPlot(myModule.sort_by_index(ss.groupby('sum'))).plot('line')\n",
    "\n",
    "ss = myModule.format(all_df2 ,\"日期（格式“月-周次”）\" ,plot_head_list)\n",
    "ss.add_group(\"组别\")\n",
    "myModule.myPlot(myModule.sort_by_index(ss.groupby('sum'))).plot('line')"
   ]
  },
  {
   "cell_type": "code",
   "execution_count": 135,
   "metadata": {
    "collapsed": false
   },
   "outputs": [
    {
     "data": {
      "application/vnd.plotly.v1+json": {
       "data": [
        {
         "name": "芯片总数",
         "type": "scatter",
         "uid": "d4ca1a6e-e702-11e8-8ddb-a41f72875c19",
         "x": [
          8,
          9,
          10,
          11
         ],
         "y": [
          148,
          109,
          120,
          24
         ]
        },
        {
         "name": "不通过芯片数",
         "type": "scatter",
         "uid": "d4ca1a6f-e702-11e8-8ddb-a41f72875c19",
         "x": [
          8,
          9,
          10,
          11
         ],
         "y": [
          83,
          61,
          68,
          10
         ]
        }
       ],
       "layout": {
        "title": "芯片总数&不通过芯片数月趋势图",
        "xaxis": {
         "mirror": "all",
         "nticks": 20,
         "showgrid": true,
         "showline": true,
         "title": "月",
         "type": "category",
         "zeroline": true
        },
        "yaxis": {
         "mirror": "all",
         "nticks": 20,
         "showgrid": true,
         "showline": true,
         "title": "芯片总数&不通过芯片数",
         "zeroline": true
        }
       }
      },
      "text/html": [
       "<div id=\"d5384722-74e4-421a-bc2a-a021b9c37872\" style=\"height: 525px; width: 100%;\" class=\"plotly-graph-div\"></div><script type=\"text/javascript\">require([\"plotly\"], function(Plotly) { window.PLOTLYENV=window.PLOTLYENV || {};window.PLOTLYENV.BASE_URL=\"https://plot.ly\";Plotly.newPlot(\"d5384722-74e4-421a-bc2a-a021b9c37872\", [{\"name\": \"\\u82af\\u7247\\u603b\\u6570\", \"x\": [8, 9, 10, 11], \"y\": [148, 109, 120, 24], \"type\": \"scatter\", \"uid\": \"d4ca1a6e-e702-11e8-8ddb-a41f72875c19\"}, {\"name\": \"\\u4e0d\\u901a\\u8fc7\\u82af\\u7247\\u6570\", \"x\": [8, 9, 10, 11], \"y\": [83, 61, 68, 10], \"type\": \"scatter\", \"uid\": \"d4ca1a6f-e702-11e8-8ddb-a41f72875c19\"}], {\"title\": \"\\u82af\\u7247\\u603b\\u6570&\\u4e0d\\u901a\\u8fc7\\u82af\\u7247\\u6570\\u6708\\u8d8b\\u52bf\\u56fe\", \"xaxis\": {\"mirror\": \"all\", \"nticks\": 20, \"showgrid\": true, \"showline\": true, \"title\": \"\\u6708\", \"type\": \"category\", \"zeroline\": true}, \"yaxis\": {\"mirror\": \"all\", \"nticks\": 20, \"showgrid\": true, \"showline\": true, \"title\": \"\\u82af\\u7247\\u603b\\u6570&\\u4e0d\\u901a\\u8fc7\\u82af\\u7247\\u6570\", \"zeroline\": true}}, {\"showLink\": true, \"linkText\": \"Export to plot.ly\"})});</script>"
      ],
      "text/vnd.plotly.v1+html": [
       "<div id=\"d5384722-74e4-421a-bc2a-a021b9c37872\" style=\"height: 525px; width: 100%;\" class=\"plotly-graph-div\"></div><script type=\"text/javascript\">require([\"plotly\"], function(Plotly) { window.PLOTLYENV=window.PLOTLYENV || {};window.PLOTLYENV.BASE_URL=\"https://plot.ly\";Plotly.newPlot(\"d5384722-74e4-421a-bc2a-a021b9c37872\", [{\"name\": \"\\u82af\\u7247\\u603b\\u6570\", \"x\": [8, 9, 10, 11], \"y\": [148, 109, 120, 24], \"type\": \"scatter\", \"uid\": \"d4ca1a6e-e702-11e8-8ddb-a41f72875c19\"}, {\"name\": \"\\u4e0d\\u901a\\u8fc7\\u82af\\u7247\\u6570\", \"x\": [8, 9, 10, 11], \"y\": [83, 61, 68, 10], \"type\": \"scatter\", \"uid\": \"d4ca1a6f-e702-11e8-8ddb-a41f72875c19\"}], {\"title\": \"\\u82af\\u7247\\u603b\\u6570&\\u4e0d\\u901a\\u8fc7\\u82af\\u7247\\u6570\\u6708\\u8d8b\\u52bf\\u56fe\", \"xaxis\": {\"mirror\": \"all\", \"nticks\": 20, \"showgrid\": true, \"showline\": true, \"title\": \"\\u6708\", \"type\": \"category\", \"zeroline\": true}, \"yaxis\": {\"mirror\": \"all\", \"nticks\": 20, \"showgrid\": true, \"showline\": true, \"title\": \"\\u82af\\u7247\\u603b\\u6570&\\u4e0d\\u901a\\u8fc7\\u82af\\u7247\\u6570\", \"zeroline\": true}}, {\"showLink\": true, \"linkText\": \"Export to plot.ly\"})});</script>"
      ]
     },
     "metadata": {},
     "output_type": "display_data"
    },
    {
     "data": {
      "application/vnd.plotly.v1+json": {
       "data": [
        {
         "line": {
          "dash": "solid"
         },
         "name": "芯片总数(北京组)",
         "type": "scatter",
         "uid": "d4ca1a70-e702-11e8-8ddb-a41f72875c19",
         "x": [
          8,
          9,
          10,
          11
         ],
         "y": [
          148,
          109,
          119,
          22
         ]
        },
        {
         "line": {
          "dash": "dot"
         },
         "name": "芯片总数(义乌组)",
         "type": "scatter",
         "uid": "d4ca1a71-e702-11e8-8ddb-a41f72875c19",
         "x": [
          8,
          9,
          10,
          11
         ],
         "y": [
          null,
          null,
          1,
          2
         ]
        },
        {
         "line": {
          "dash": "solid"
         },
         "name": "不通过芯片数(北京组)",
         "type": "scatter",
         "uid": "d4ca1a72-e702-11e8-8ddb-a41f72875c19",
         "x": [
          8,
          9,
          10,
          11
         ],
         "y": [
          83,
          61,
          67,
          9
         ]
        },
        {
         "line": {
          "dash": "dot"
         },
         "name": "不通过芯片数(义乌组)",
         "type": "scatter",
         "uid": "d4ca1a73-e702-11e8-8ddb-a41f72875c19",
         "x": [
          8,
          9,
          10,
          11
         ],
         "y": [
          null,
          null,
          1,
          1
         ]
        }
       ],
       "layout": {
        "title": "芯片总数&不通过芯片数月趋势图",
        "xaxis": {
         "mirror": "all",
         "nticks": 20,
         "showgrid": true,
         "showline": true,
         "title": "月",
         "type": "category",
         "zeroline": true
        },
        "yaxis": {
         "mirror": "all",
         "nticks": 20,
         "showgrid": true,
         "showline": true,
         "title": "芯片总数&不通过芯片数",
         "zeroline": true
        }
       }
      },
      "text/html": [
       "<div id=\"30ccc72f-85a4-4a19-80ca-daee70be8781\" style=\"height: 525px; width: 100%;\" class=\"plotly-graph-div\"></div><script type=\"text/javascript\">require([\"plotly\"], function(Plotly) { window.PLOTLYENV=window.PLOTLYENV || {};window.PLOTLYENV.BASE_URL=\"https://plot.ly\";Plotly.newPlot(\"30ccc72f-85a4-4a19-80ca-daee70be8781\", [{\"line\": {\"dash\": \"solid\"}, \"name\": \"\\u82af\\u7247\\u603b\\u6570(\\u5317\\u4eac\\u7ec4)\", \"x\": [8, 9, 10, 11], \"y\": [148.0, 109.0, 119.0, 22.0], \"type\": \"scatter\", \"uid\": \"d4ca1a70-e702-11e8-8ddb-a41f72875c19\"}, {\"line\": {\"dash\": \"dot\"}, \"name\": \"\\u82af\\u7247\\u603b\\u6570(\\u4e49\\u4e4c\\u7ec4)\", \"x\": [8, 9, 10, 11], \"y\": [null, null, 1.0, 2.0], \"type\": \"scatter\", \"uid\": \"d4ca1a71-e702-11e8-8ddb-a41f72875c19\"}, {\"line\": {\"dash\": \"solid\"}, \"name\": \"\\u4e0d\\u901a\\u8fc7\\u82af\\u7247\\u6570(\\u5317\\u4eac\\u7ec4)\", \"x\": [8, 9, 10, 11], \"y\": [83.0, 61.0, 67.0, 9.0], \"type\": \"scatter\", \"uid\": \"d4ca1a72-e702-11e8-8ddb-a41f72875c19\"}, {\"line\": {\"dash\": \"dot\"}, \"name\": \"\\u4e0d\\u901a\\u8fc7\\u82af\\u7247\\u6570(\\u4e49\\u4e4c\\u7ec4)\", \"x\": [8, 9, 10, 11], \"y\": [null, null, 1.0, 1.0], \"type\": \"scatter\", \"uid\": \"d4ca1a73-e702-11e8-8ddb-a41f72875c19\"}], {\"title\": \"\\u82af\\u7247\\u603b\\u6570&\\u4e0d\\u901a\\u8fc7\\u82af\\u7247\\u6570\\u6708\\u8d8b\\u52bf\\u56fe\", \"xaxis\": {\"mirror\": \"all\", \"nticks\": 20, \"showgrid\": true, \"showline\": true, \"title\": \"\\u6708\", \"type\": \"category\", \"zeroline\": true}, \"yaxis\": {\"mirror\": \"all\", \"nticks\": 20, \"showgrid\": true, \"showline\": true, \"title\": \"\\u82af\\u7247\\u603b\\u6570&\\u4e0d\\u901a\\u8fc7\\u82af\\u7247\\u6570\", \"zeroline\": true}}, {\"showLink\": true, \"linkText\": \"Export to plot.ly\"})});</script>"
      ],
      "text/vnd.plotly.v1+html": [
       "<div id=\"30ccc72f-85a4-4a19-80ca-daee70be8781\" style=\"height: 525px; width: 100%;\" class=\"plotly-graph-div\"></div><script type=\"text/javascript\">require([\"plotly\"], function(Plotly) { window.PLOTLYENV=window.PLOTLYENV || {};window.PLOTLYENV.BASE_URL=\"https://plot.ly\";Plotly.newPlot(\"30ccc72f-85a4-4a19-80ca-daee70be8781\", [{\"line\": {\"dash\": \"solid\"}, \"name\": \"\\u82af\\u7247\\u603b\\u6570(\\u5317\\u4eac\\u7ec4)\", \"x\": [8, 9, 10, 11], \"y\": [148.0, 109.0, 119.0, 22.0], \"type\": \"scatter\", \"uid\": \"d4ca1a70-e702-11e8-8ddb-a41f72875c19\"}, {\"line\": {\"dash\": \"dot\"}, \"name\": \"\\u82af\\u7247\\u603b\\u6570(\\u4e49\\u4e4c\\u7ec4)\", \"x\": [8, 9, 10, 11], \"y\": [null, null, 1.0, 2.0], \"type\": \"scatter\", \"uid\": \"d4ca1a71-e702-11e8-8ddb-a41f72875c19\"}, {\"line\": {\"dash\": \"solid\"}, \"name\": \"\\u4e0d\\u901a\\u8fc7\\u82af\\u7247\\u6570(\\u5317\\u4eac\\u7ec4)\", \"x\": [8, 9, 10, 11], \"y\": [83.0, 61.0, 67.0, 9.0], \"type\": \"scatter\", \"uid\": \"d4ca1a72-e702-11e8-8ddb-a41f72875c19\"}, {\"line\": {\"dash\": \"dot\"}, \"name\": \"\\u4e0d\\u901a\\u8fc7\\u82af\\u7247\\u6570(\\u4e49\\u4e4c\\u7ec4)\", \"x\": [8, 9, 10, 11], \"y\": [null, null, 1.0, 1.0], \"type\": \"scatter\", \"uid\": \"d4ca1a73-e702-11e8-8ddb-a41f72875c19\"}], {\"title\": \"\\u82af\\u7247\\u603b\\u6570&\\u4e0d\\u901a\\u8fc7\\u82af\\u7247\\u6570\\u6708\\u8d8b\\u52bf\\u56fe\", \"xaxis\": {\"mirror\": \"all\", \"nticks\": 20, \"showgrid\": true, \"showline\": true, \"title\": \"\\u6708\", \"type\": \"category\", \"zeroline\": true}, \"yaxis\": {\"mirror\": \"all\", \"nticks\": 20, \"showgrid\": true, \"showline\": true, \"title\": \"\\u82af\\u7247\\u603b\\u6570&\\u4e0d\\u901a\\u8fc7\\u82af\\u7247\\u6570\", \"zeroline\": true}}, {\"showLink\": true, \"linkText\": \"Export to plot.ly\"})});</script>"
      ]
     },
     "metadata": {},
     "output_type": "display_data"
    }
   ],
   "source": [
    "ss = myModule.format(all_df2 ,\"month\" ,['芯片总数' ,'不通过芯片数'])\n",
    "myModule.myPlot(ss.groupby('sum')).plot('line','月')\n",
    "\n",
    "ss = myModule.format(all_df2 ,\"month\" ,['芯片总数' ,'不通过芯片数'])\n",
    "ss.add_group(\"组别\")\n",
    "myModule.myPlot(ss.groupby('sum')).plot('line','月')\n"
   ]
  },
  {
   "cell_type": "markdown",
   "metadata": {},
   "source": [
    "### 效率"
   ]
  },
  {
   "cell_type": "markdown",
   "metadata": {},
   "source": [
    "#### 不合格率"
   ]
  },
  {
   "cell_type": "code",
   "execution_count": 136,
   "metadata": {
    "collapsed": false
   },
   "outputs": [
    {
     "data": {
      "application/vnd.plotly.v1+json": {
       "data": [
        {
         "name": "不合格率",
         "type": "scatter",
         "uid": "d4ca1a74-e702-11e8-8ddb-a41f72875c19",
         "x": [
          "8-1",
          "8-2",
          "8-3",
          "8-4",
          "8-5",
          "9-1",
          "9-2",
          "9-3",
          "9-4",
          "10-2",
          "10-3",
          "10-4",
          "10-5",
          "11-1"
         ],
         "y": [
          0.48148148148148145,
          0.5945945945945946,
          0.6896551724137931,
          0.42424242424242425,
          0.6363636363636364,
          0.5172413793103449,
          0.3076923076923077,
          0.6896551724137931,
          0.72,
          0.5517241379310345,
          0.5,
          0.6153846153846154,
          0.6,
          0.4166666666666667
         ]
        }
       ],
       "layout": {
        "title": "不合格率周趋势图",
        "xaxis": {
         "mirror": "all",
         "nticks": 20,
         "showgrid": true,
         "showline": true,
         "title": "周",
         "type": "category",
         "zeroline": true
        },
        "yaxis": {
         "mirror": "all",
         "nticks": 20,
         "showgrid": true,
         "showline": true,
         "title": "不合格率",
         "zeroline": true
        }
       }
      },
      "text/html": [
       "<div id=\"106a1c84-878a-4810-bedf-7ed8c6882e22\" style=\"height: 525px; width: 100%;\" class=\"plotly-graph-div\"></div><script type=\"text/javascript\">require([\"plotly\"], function(Plotly) { window.PLOTLYENV=window.PLOTLYENV || {};window.PLOTLYENV.BASE_URL=\"https://plot.ly\";Plotly.newPlot(\"106a1c84-878a-4810-bedf-7ed8c6882e22\", [{\"name\": \"\\u4e0d\\u5408\\u683c\\u7387\", \"x\": [\"8-1\", \"8-2\", \"8-3\", \"8-4\", \"8-5\", \"9-1\", \"9-2\", \"9-3\", \"9-4\", \"10-2\", \"10-3\", \"10-4\", \"10-5\", \"11-1\"], \"y\": [0.48148148148148145, 0.5945945945945946, 0.6896551724137931, 0.42424242424242425, 0.6363636363636364, 0.5172413793103449, 0.3076923076923077, 0.6896551724137931, 0.72, 0.5517241379310345, 0.5, 0.6153846153846154, 0.6, 0.4166666666666667], \"type\": \"scatter\", \"uid\": \"d4ca1a74-e702-11e8-8ddb-a41f72875c19\"}], {\"title\": \"\\u4e0d\\u5408\\u683c\\u7387\\u5468\\u8d8b\\u52bf\\u56fe\", \"xaxis\": {\"mirror\": \"all\", \"nticks\": 20, \"showgrid\": true, \"showline\": true, \"title\": \"\\u5468\", \"type\": \"category\", \"zeroline\": true}, \"yaxis\": {\"mirror\": \"all\", \"nticks\": 20, \"showgrid\": true, \"showline\": true, \"title\": \"\\u4e0d\\u5408\\u683c\\u7387\", \"zeroline\": true}}, {\"showLink\": true, \"linkText\": \"Export to plot.ly\"})});</script>"
      ],
      "text/vnd.plotly.v1+html": [
       "<div id=\"106a1c84-878a-4810-bedf-7ed8c6882e22\" style=\"height: 525px; width: 100%;\" class=\"plotly-graph-div\"></div><script type=\"text/javascript\">require([\"plotly\"], function(Plotly) { window.PLOTLYENV=window.PLOTLYENV || {};window.PLOTLYENV.BASE_URL=\"https://plot.ly\";Plotly.newPlot(\"106a1c84-878a-4810-bedf-7ed8c6882e22\", [{\"name\": \"\\u4e0d\\u5408\\u683c\\u7387\", \"x\": [\"8-1\", \"8-2\", \"8-3\", \"8-4\", \"8-5\", \"9-1\", \"9-2\", \"9-3\", \"9-4\", \"10-2\", \"10-3\", \"10-4\", \"10-5\", \"11-1\"], \"y\": [0.48148148148148145, 0.5945945945945946, 0.6896551724137931, 0.42424242424242425, 0.6363636363636364, 0.5172413793103449, 0.3076923076923077, 0.6896551724137931, 0.72, 0.5517241379310345, 0.5, 0.6153846153846154, 0.6, 0.4166666666666667], \"type\": \"scatter\", \"uid\": \"d4ca1a74-e702-11e8-8ddb-a41f72875c19\"}], {\"title\": \"\\u4e0d\\u5408\\u683c\\u7387\\u5468\\u8d8b\\u52bf\\u56fe\", \"xaxis\": {\"mirror\": \"all\", \"nticks\": 20, \"showgrid\": true, \"showline\": true, \"title\": \"\\u5468\", \"type\": \"category\", \"zeroline\": true}, \"yaxis\": {\"mirror\": \"all\", \"nticks\": 20, \"showgrid\": true, \"showline\": true, \"title\": \"\\u4e0d\\u5408\\u683c\\u7387\", \"zeroline\": true}}, {\"showLink\": true, \"linkText\": \"Export to plot.ly\"})});</script>"
      ]
     },
     "metadata": {},
     "output_type": "display_data"
    },
    {
     "data": {
      "application/vnd.plotly.v1+json": {
       "data": [
        {
         "line": {
          "dash": "solid"
         },
         "name": "不合格率(北京组)",
         "type": "scatter",
         "uid": "d4ca1a75-e702-11e8-8ddb-a41f72875c19",
         "x": [
          "8-1",
          "8-2",
          "8-3",
          "8-4",
          "8-5",
          "9-1",
          "9-2",
          "9-3",
          "9-4",
          "10-2",
          "10-3",
          "10-4",
          "10-5",
          "11-1"
         ],
         "y": [
          0.48148148148148145,
          0.5945945945945946,
          0.6896551724137931,
          0.42424242424242425,
          0.6363636363636364,
          0.5172413793103449,
          0.3076923076923077,
          0.6896551724137931,
          0.72,
          0.5517241379310345,
          0.5,
          0.6153846153846154,
          0.5882352941176471,
          0.4090909090909091
         ]
        },
        {
         "line": {
          "dash": "dot"
         },
         "name": "不合格率(义乌组)",
         "type": "scatter",
         "uid": "d4ca1a76-e702-11e8-8ddb-a41f72875c19",
         "x": [
          "8-1",
          "8-2",
          "8-3",
          "8-4",
          "8-5",
          "9-1",
          "9-2",
          "9-3",
          "9-4",
          "10-2",
          "10-3",
          "10-4",
          "10-5",
          "11-1"
         ],
         "y": [
          null,
          null,
          null,
          null,
          null,
          null,
          null,
          null,
          null,
          null,
          null,
          null,
          1,
          0.5
         ]
        }
       ],
       "layout": {
        "title": "不合格率周趋势图",
        "xaxis": {
         "mirror": "all",
         "nticks": 20,
         "showgrid": true,
         "showline": true,
         "title": "周",
         "type": "category",
         "zeroline": true
        },
        "yaxis": {
         "mirror": "all",
         "nticks": 20,
         "showgrid": true,
         "showline": true,
         "title": "不合格率",
         "zeroline": true
        }
       }
      },
      "text/html": [
       "<div id=\"501c10f1-7909-4fd9-8a1c-f88f59fc29c9\" style=\"height: 525px; width: 100%;\" class=\"plotly-graph-div\"></div><script type=\"text/javascript\">require([\"plotly\"], function(Plotly) { window.PLOTLYENV=window.PLOTLYENV || {};window.PLOTLYENV.BASE_URL=\"https://plot.ly\";Plotly.newPlot(\"501c10f1-7909-4fd9-8a1c-f88f59fc29c9\", [{\"line\": {\"dash\": \"solid\"}, \"name\": \"\\u4e0d\\u5408\\u683c\\u7387(\\u5317\\u4eac\\u7ec4)\", \"x\": [\"8-1\", \"8-2\", \"8-3\", \"8-4\", \"8-5\", \"9-1\", \"9-2\", \"9-3\", \"9-4\", \"10-2\", \"10-3\", \"10-4\", \"10-5\", \"11-1\"], \"y\": [0.48148148148148145, 0.5945945945945946, 0.6896551724137931, 0.42424242424242425, 0.6363636363636364, 0.5172413793103449, 0.3076923076923077, 0.6896551724137931, 0.72, 0.5517241379310345, 0.5, 0.6153846153846154, 0.5882352941176471, 0.4090909090909091], \"type\": \"scatter\", \"uid\": \"d4ca1a75-e702-11e8-8ddb-a41f72875c19\"}, {\"line\": {\"dash\": \"dot\"}, \"name\": \"\\u4e0d\\u5408\\u683c\\u7387(\\u4e49\\u4e4c\\u7ec4)\", \"x\": [\"8-1\", \"8-2\", \"8-3\", \"8-4\", \"8-5\", \"9-1\", \"9-2\", \"9-3\", \"9-4\", \"10-2\", \"10-3\", \"10-4\", \"10-5\", \"11-1\"], \"y\": [null, null, null, null, null, null, null, null, null, null, null, null, 1.0, 0.5], \"type\": \"scatter\", \"uid\": \"d4ca1a76-e702-11e8-8ddb-a41f72875c19\"}], {\"title\": \"\\u4e0d\\u5408\\u683c\\u7387\\u5468\\u8d8b\\u52bf\\u56fe\", \"xaxis\": {\"mirror\": \"all\", \"nticks\": 20, \"showgrid\": true, \"showline\": true, \"title\": \"\\u5468\", \"type\": \"category\", \"zeroline\": true}, \"yaxis\": {\"mirror\": \"all\", \"nticks\": 20, \"showgrid\": true, \"showline\": true, \"title\": \"\\u4e0d\\u5408\\u683c\\u7387\", \"zeroline\": true}}, {\"showLink\": true, \"linkText\": \"Export to plot.ly\"})});</script>"
      ],
      "text/vnd.plotly.v1+html": [
       "<div id=\"501c10f1-7909-4fd9-8a1c-f88f59fc29c9\" style=\"height: 525px; width: 100%;\" class=\"plotly-graph-div\"></div><script type=\"text/javascript\">require([\"plotly\"], function(Plotly) { window.PLOTLYENV=window.PLOTLYENV || {};window.PLOTLYENV.BASE_URL=\"https://plot.ly\";Plotly.newPlot(\"501c10f1-7909-4fd9-8a1c-f88f59fc29c9\", [{\"line\": {\"dash\": \"solid\"}, \"name\": \"\\u4e0d\\u5408\\u683c\\u7387(\\u5317\\u4eac\\u7ec4)\", \"x\": [\"8-1\", \"8-2\", \"8-3\", \"8-4\", \"8-5\", \"9-1\", \"9-2\", \"9-3\", \"9-4\", \"10-2\", \"10-3\", \"10-4\", \"10-5\", \"11-1\"], \"y\": [0.48148148148148145, 0.5945945945945946, 0.6896551724137931, 0.42424242424242425, 0.6363636363636364, 0.5172413793103449, 0.3076923076923077, 0.6896551724137931, 0.72, 0.5517241379310345, 0.5, 0.6153846153846154, 0.5882352941176471, 0.4090909090909091], \"type\": \"scatter\", \"uid\": \"d4ca1a75-e702-11e8-8ddb-a41f72875c19\"}, {\"line\": {\"dash\": \"dot\"}, \"name\": \"\\u4e0d\\u5408\\u683c\\u7387(\\u4e49\\u4e4c\\u7ec4)\", \"x\": [\"8-1\", \"8-2\", \"8-3\", \"8-4\", \"8-5\", \"9-1\", \"9-2\", \"9-3\", \"9-4\", \"10-2\", \"10-3\", \"10-4\", \"10-5\", \"11-1\"], \"y\": [null, null, null, null, null, null, null, null, null, null, null, null, 1.0, 0.5], \"type\": \"scatter\", \"uid\": \"d4ca1a76-e702-11e8-8ddb-a41f72875c19\"}], {\"title\": \"\\u4e0d\\u5408\\u683c\\u7387\\u5468\\u8d8b\\u52bf\\u56fe\", \"xaxis\": {\"mirror\": \"all\", \"nticks\": 20, \"showgrid\": true, \"showline\": true, \"title\": \"\\u5468\", \"type\": \"category\", \"zeroline\": true}, \"yaxis\": {\"mirror\": \"all\", \"nticks\": 20, \"showgrid\": true, \"showline\": true, \"title\": \"\\u4e0d\\u5408\\u683c\\u7387\", \"zeroline\": true}}, {\"showLink\": true, \"linkText\": \"Export to plot.ly\"})});</script>"
      ]
     },
     "metadata": {},
     "output_type": "display_data"
    }
   ],
   "source": [
    "ss = myModule.format(all_df2 ,\"日期（格式“月-周次”）\" ,['不通过芯片数', '芯片总数'])\n",
    "tt = ss.get_total_ratio([['不合格率','不通过芯片数','芯片总数','/']])\n",
    "myModule.myPlot(myModule.sort_by_index(tt)).plot('line')\n",
    "\n",
    "ss = myModule.format(all_df2 ,\"日期（格式“月-周次”）\" ,['不通过芯片数', '芯片总数'])\n",
    "ss.add_group(\"组别\")\n",
    "tt = ss.get_total_ratio([['不合格率','不通过芯片数','芯片总数','/']])\n",
    "myModule.myPlot(myModule.sort_by_index(tt)).plot('line')"
   ]
  },
  {
   "cell_type": "code",
   "execution_count": 137,
   "metadata": {
    "collapsed": false
   },
   "outputs": [
    {
     "data": {
      "application/vnd.plotly.v1+json": {
       "data": [
        {
         "name": "不合格率",
         "type": "scatter",
         "uid": "d4ca1a77-e702-11e8-8ddb-a41f72875c19",
         "x": [
          8,
          9,
          10,
          11
         ],
         "y": [
          0.5608108108108109,
          0.5596330275229358,
          0.5666666666666667,
          0.4166666666666667
         ]
        }
       ],
       "layout": {
        "title": "不合格率月趋势图",
        "xaxis": {
         "mirror": "all",
         "nticks": 20,
         "showgrid": true,
         "showline": true,
         "title": "月",
         "type": "category",
         "zeroline": true
        },
        "yaxis": {
         "mirror": "all",
         "nticks": 20,
         "showgrid": true,
         "showline": true,
         "title": "不合格率",
         "zeroline": true
        }
       }
      },
      "text/html": [
       "<div id=\"10f1b9ba-5683-45a5-877d-94f105cf3518\" style=\"height: 525px; width: 100%;\" class=\"plotly-graph-div\"></div><script type=\"text/javascript\">require([\"plotly\"], function(Plotly) { window.PLOTLYENV=window.PLOTLYENV || {};window.PLOTLYENV.BASE_URL=\"https://plot.ly\";Plotly.newPlot(\"10f1b9ba-5683-45a5-877d-94f105cf3518\", [{\"name\": \"\\u4e0d\\u5408\\u683c\\u7387\", \"x\": [8, 9, 10, 11], \"y\": [0.5608108108108109, 0.5596330275229358, 0.5666666666666667, 0.4166666666666667], \"type\": \"scatter\", \"uid\": \"d4ca1a77-e702-11e8-8ddb-a41f72875c19\"}], {\"title\": \"\\u4e0d\\u5408\\u683c\\u7387\\u6708\\u8d8b\\u52bf\\u56fe\", \"xaxis\": {\"mirror\": \"all\", \"nticks\": 20, \"showgrid\": true, \"showline\": true, \"title\": \"\\u6708\", \"type\": \"category\", \"zeroline\": true}, \"yaxis\": {\"mirror\": \"all\", \"nticks\": 20, \"showgrid\": true, \"showline\": true, \"title\": \"\\u4e0d\\u5408\\u683c\\u7387\", \"zeroline\": true}}, {\"showLink\": true, \"linkText\": \"Export to plot.ly\"})});</script>"
      ],
      "text/vnd.plotly.v1+html": [
       "<div id=\"10f1b9ba-5683-45a5-877d-94f105cf3518\" style=\"height: 525px; width: 100%;\" class=\"plotly-graph-div\"></div><script type=\"text/javascript\">require([\"plotly\"], function(Plotly) { window.PLOTLYENV=window.PLOTLYENV || {};window.PLOTLYENV.BASE_URL=\"https://plot.ly\";Plotly.newPlot(\"10f1b9ba-5683-45a5-877d-94f105cf3518\", [{\"name\": \"\\u4e0d\\u5408\\u683c\\u7387\", \"x\": [8, 9, 10, 11], \"y\": [0.5608108108108109, 0.5596330275229358, 0.5666666666666667, 0.4166666666666667], \"type\": \"scatter\", \"uid\": \"d4ca1a77-e702-11e8-8ddb-a41f72875c19\"}], {\"title\": \"\\u4e0d\\u5408\\u683c\\u7387\\u6708\\u8d8b\\u52bf\\u56fe\", \"xaxis\": {\"mirror\": \"all\", \"nticks\": 20, \"showgrid\": true, \"showline\": true, \"title\": \"\\u6708\", \"type\": \"category\", \"zeroline\": true}, \"yaxis\": {\"mirror\": \"all\", \"nticks\": 20, \"showgrid\": true, \"showline\": true, \"title\": \"\\u4e0d\\u5408\\u683c\\u7387\", \"zeroline\": true}}, {\"showLink\": true, \"linkText\": \"Export to plot.ly\"})});</script>"
      ]
     },
     "metadata": {},
     "output_type": "display_data"
    },
    {
     "data": {
      "application/vnd.plotly.v1+json": {
       "data": [
        {
         "line": {
          "dash": "solid"
         },
         "name": "不合格率(北京组)",
         "type": "scatter",
         "uid": "d4ca1a78-e702-11e8-8ddb-a41f72875c19",
         "x": [
          8,
          9,
          10,
          11
         ],
         "y": [
          0.5608108108108109,
          0.5596330275229358,
          0.5630252100840336,
          0.4090909090909091
         ]
        },
        {
         "line": {
          "dash": "dot"
         },
         "name": "不合格率(义乌组)",
         "type": "scatter",
         "uid": "d4ca1a79-e702-11e8-8ddb-a41f72875c19",
         "x": [
          8,
          9,
          10,
          11
         ],
         "y": [
          null,
          null,
          1,
          0.5
         ]
        }
       ],
       "layout": {
        "title": "不合格率月趋势图",
        "xaxis": {
         "mirror": "all",
         "nticks": 20,
         "showgrid": true,
         "showline": true,
         "title": "月",
         "type": "category",
         "zeroline": true
        },
        "yaxis": {
         "mirror": "all",
         "nticks": 20,
         "showgrid": true,
         "showline": true,
         "title": "不合格率",
         "zeroline": true
        }
       }
      },
      "text/html": [
       "<div id=\"2c1b7e80-1ec9-4716-97fd-858233a694c7\" style=\"height: 525px; width: 100%;\" class=\"plotly-graph-div\"></div><script type=\"text/javascript\">require([\"plotly\"], function(Plotly) { window.PLOTLYENV=window.PLOTLYENV || {};window.PLOTLYENV.BASE_URL=\"https://plot.ly\";Plotly.newPlot(\"2c1b7e80-1ec9-4716-97fd-858233a694c7\", [{\"line\": {\"dash\": \"solid\"}, \"name\": \"\\u4e0d\\u5408\\u683c\\u7387(\\u5317\\u4eac\\u7ec4)\", \"x\": [8, 9, 10, 11], \"y\": [0.5608108108108109, 0.5596330275229358, 0.5630252100840336, 0.4090909090909091], \"type\": \"scatter\", \"uid\": \"d4ca1a78-e702-11e8-8ddb-a41f72875c19\"}, {\"line\": {\"dash\": \"dot\"}, \"name\": \"\\u4e0d\\u5408\\u683c\\u7387(\\u4e49\\u4e4c\\u7ec4)\", \"x\": [8, 9, 10, 11], \"y\": [null, null, 1.0, 0.5], \"type\": \"scatter\", \"uid\": \"d4ca1a79-e702-11e8-8ddb-a41f72875c19\"}], {\"title\": \"\\u4e0d\\u5408\\u683c\\u7387\\u6708\\u8d8b\\u52bf\\u56fe\", \"xaxis\": {\"mirror\": \"all\", \"nticks\": 20, \"showgrid\": true, \"showline\": true, \"title\": \"\\u6708\", \"type\": \"category\", \"zeroline\": true}, \"yaxis\": {\"mirror\": \"all\", \"nticks\": 20, \"showgrid\": true, \"showline\": true, \"title\": \"\\u4e0d\\u5408\\u683c\\u7387\", \"zeroline\": true}}, {\"showLink\": true, \"linkText\": \"Export to plot.ly\"})});</script>"
      ],
      "text/vnd.plotly.v1+html": [
       "<div id=\"2c1b7e80-1ec9-4716-97fd-858233a694c7\" style=\"height: 525px; width: 100%;\" class=\"plotly-graph-div\"></div><script type=\"text/javascript\">require([\"plotly\"], function(Plotly) { window.PLOTLYENV=window.PLOTLYENV || {};window.PLOTLYENV.BASE_URL=\"https://plot.ly\";Plotly.newPlot(\"2c1b7e80-1ec9-4716-97fd-858233a694c7\", [{\"line\": {\"dash\": \"solid\"}, \"name\": \"\\u4e0d\\u5408\\u683c\\u7387(\\u5317\\u4eac\\u7ec4)\", \"x\": [8, 9, 10, 11], \"y\": [0.5608108108108109, 0.5596330275229358, 0.5630252100840336, 0.4090909090909091], \"type\": \"scatter\", \"uid\": \"d4ca1a78-e702-11e8-8ddb-a41f72875c19\"}, {\"line\": {\"dash\": \"dot\"}, \"name\": \"\\u4e0d\\u5408\\u683c\\u7387(\\u4e49\\u4e4c\\u7ec4)\", \"x\": [8, 9, 10, 11], \"y\": [null, null, 1.0, 0.5], \"type\": \"scatter\", \"uid\": \"d4ca1a79-e702-11e8-8ddb-a41f72875c19\"}], {\"title\": \"\\u4e0d\\u5408\\u683c\\u7387\\u6708\\u8d8b\\u52bf\\u56fe\", \"xaxis\": {\"mirror\": \"all\", \"nticks\": 20, \"showgrid\": true, \"showline\": true, \"title\": \"\\u6708\", \"type\": \"category\", \"zeroline\": true}, \"yaxis\": {\"mirror\": \"all\", \"nticks\": 20, \"showgrid\": true, \"showline\": true, \"title\": \"\\u4e0d\\u5408\\u683c\\u7387\", \"zeroline\": true}}, {\"showLink\": true, \"linkText\": \"Export to plot.ly\"})});</script>"
      ]
     },
     "metadata": {},
     "output_type": "display_data"
    }
   ],
   "source": [
    "ss = myModule.format(all_df2 ,\"month\" ,['不通过芯片数', '芯片总数'])\n",
    "tt = ss.get_total_ratio([['不合格率','不通过芯片数','芯片总数','/']])\n",
    "myModule.myPlot(tt).plot('line','月')\n",
    "\n",
    "ss = myModule.format(all_df2 ,\"month\" ,['不通过芯片数', '芯片总数'])\n",
    "ss.add_group(\"组别\")\n",
    "tt = ss.get_total_ratio([['不合格率','不通过芯片数','芯片总数','/']])\n",
    "myModule.myPlot(tt).plot('line','月')"
   ]
  },
  {
   "cell_type": "markdown",
   "metadata": {},
   "source": [
    "#### 通过率情况"
   ]
  },
  {
   "cell_type": "code",
   "execution_count": 138,
   "metadata": {
    "collapsed": false
   },
   "outputs": [
    {
     "data": {
      "application/vnd.plotly.v1+json": {
       "data": [
        {
         "name": "8h通过率",
         "type": "scatter",
         "uid": "d4ca1a7a-e702-11e8-8ddb-a41f72875c19",
         "x": [
          "8-1",
          "8-2",
          "8-3",
          "8-4",
          "8-5",
          "9-1",
          "9-2",
          "9-3",
          "9-4",
          "10-2",
          "10-3",
          "10-4",
          "10-5",
          "11-1"
         ],
         "y": [
          0.3333333333333333,
          0.40540540540540543,
          0.5517241379310345,
          0.6060606060606061,
          0.5,
          0.6206896551724138,
          0.6538461538461539,
          0.4827586206896552,
          0.36,
          0.4482758620689655,
          0.5666666666666667,
          0.5384615384615384,
          0.3142857142857143,
          0.5
         ]
        },
        {
         "name": "24h通过率",
         "type": "scatter",
         "uid": "d4ca1a7b-e702-11e8-8ddb-a41f72875c19",
         "x": [
          "8-1",
          "8-2",
          "8-3",
          "8-4",
          "8-5",
          "9-1",
          "9-2",
          "9-3",
          "9-4",
          "10-2",
          "10-3",
          "10-4",
          "10-5",
          "11-1"
         ],
         "y": [
          0.6296296296296297,
          0.5135135135135135,
          0.7586206896551724,
          0.8484848484848485,
          0.7272727272727273,
          0.7931034482758621,
          0.6923076923076923,
          0.6551724137931034,
          0.72,
          0.6896551724137931,
          0.8333333333333334,
          0.6538461538461539,
          0.4857142857142857,
          0.6666666666666666
         ]
        },
        {
         "name": "48h通过率",
         "type": "scatter",
         "uid": "d4ca1a7c-e702-11e8-8ddb-a41f72875c19",
         "x": [
          "8-1",
          "8-2",
          "8-3",
          "8-4",
          "8-5",
          "9-1",
          "9-2",
          "9-3",
          "9-4",
          "10-2",
          "10-3",
          "10-4",
          "10-5",
          "11-1"
         ],
         "y": [
          0.8518518518518519,
          0.7567567567567568,
          0.896551724137931,
          0.9393939393939394,
          0.8636363636363636,
          0.896551724137931,
          0.8461538461538461,
          0.6896551724137931,
          0.76,
          0.9655172413793104,
          0.9666666666666667,
          0.8076923076923077,
          0.6857142857142857,
          0.8333333333333334
         ]
        }
       ],
       "layout": {
        "title": "8h通过率&24h通过率&48h通过率周趋势图",
        "xaxis": {
         "mirror": "all",
         "nticks": 20,
         "showgrid": true,
         "showline": true,
         "title": "周",
         "type": "category",
         "zeroline": true
        },
        "yaxis": {
         "mirror": "all",
         "nticks": 20,
         "showgrid": true,
         "showline": true,
         "title": "8h通过率&24h通过率&48h通过率",
         "zeroline": true
        }
       }
      },
      "text/html": [
       "<div id=\"e964389b-1ff0-4731-8ab0-0abb8277672c\" style=\"height: 525px; width: 100%;\" class=\"plotly-graph-div\"></div><script type=\"text/javascript\">require([\"plotly\"], function(Plotly) { window.PLOTLYENV=window.PLOTLYENV || {};window.PLOTLYENV.BASE_URL=\"https://plot.ly\";Plotly.newPlot(\"e964389b-1ff0-4731-8ab0-0abb8277672c\", [{\"name\": \"8h\\u901a\\u8fc7\\u7387\", \"x\": [\"8-1\", \"8-2\", \"8-3\", \"8-4\", \"8-5\", \"9-1\", \"9-2\", \"9-3\", \"9-4\", \"10-2\", \"10-3\", \"10-4\", \"10-5\", \"11-1\"], \"y\": [0.3333333333333333, 0.40540540540540543, 0.5517241379310345, 0.6060606060606061, 0.5, 0.6206896551724138, 0.6538461538461539, 0.4827586206896552, 0.36, 0.4482758620689655, 0.5666666666666667, 0.5384615384615384, 0.3142857142857143, 0.5], \"type\": \"scatter\", \"uid\": \"d4ca1a7a-e702-11e8-8ddb-a41f72875c19\"}, {\"name\": \"24h\\u901a\\u8fc7\\u7387\", \"x\": [\"8-1\", \"8-2\", \"8-3\", \"8-4\", \"8-5\", \"9-1\", \"9-2\", \"9-3\", \"9-4\", \"10-2\", \"10-3\", \"10-4\", \"10-5\", \"11-1\"], \"y\": [0.6296296296296297, 0.5135135135135135, 0.7586206896551724, 0.8484848484848485, 0.7272727272727273, 0.7931034482758621, 0.6923076923076923, 0.6551724137931034, 0.72, 0.6896551724137931, 0.8333333333333334, 0.6538461538461539, 0.4857142857142857, 0.6666666666666666], \"type\": \"scatter\", \"uid\": \"d4ca1a7b-e702-11e8-8ddb-a41f72875c19\"}, {\"name\": \"48h\\u901a\\u8fc7\\u7387\", \"x\": [\"8-1\", \"8-2\", \"8-3\", \"8-4\", \"8-5\", \"9-1\", \"9-2\", \"9-3\", \"9-4\", \"10-2\", \"10-3\", \"10-4\", \"10-5\", \"11-1\"], \"y\": [0.8518518518518519, 0.7567567567567568, 0.896551724137931, 0.9393939393939394, 0.8636363636363636, 0.896551724137931, 0.8461538461538461, 0.6896551724137931, 0.76, 0.9655172413793104, 0.9666666666666667, 0.8076923076923077, 0.6857142857142857, 0.8333333333333334], \"type\": \"scatter\", \"uid\": \"d4ca1a7c-e702-11e8-8ddb-a41f72875c19\"}], {\"title\": \"8h\\u901a\\u8fc7\\u7387&24h\\u901a\\u8fc7\\u7387&48h\\u901a\\u8fc7\\u7387\\u5468\\u8d8b\\u52bf\\u56fe\", \"xaxis\": {\"mirror\": \"all\", \"nticks\": 20, \"showgrid\": true, \"showline\": true, \"title\": \"\\u5468\", \"type\": \"category\", \"zeroline\": true}, \"yaxis\": {\"mirror\": \"all\", \"nticks\": 20, \"showgrid\": true, \"showline\": true, \"title\": \"8h\\u901a\\u8fc7\\u7387&24h\\u901a\\u8fc7\\u7387&48h\\u901a\\u8fc7\\u7387\", \"zeroline\": true}}, {\"showLink\": true, \"linkText\": \"Export to plot.ly\"})});</script>"
      ],
      "text/vnd.plotly.v1+html": [
       "<div id=\"e964389b-1ff0-4731-8ab0-0abb8277672c\" style=\"height: 525px; width: 100%;\" class=\"plotly-graph-div\"></div><script type=\"text/javascript\">require([\"plotly\"], function(Plotly) { window.PLOTLYENV=window.PLOTLYENV || {};window.PLOTLYENV.BASE_URL=\"https://plot.ly\";Plotly.newPlot(\"e964389b-1ff0-4731-8ab0-0abb8277672c\", [{\"name\": \"8h\\u901a\\u8fc7\\u7387\", \"x\": [\"8-1\", \"8-2\", \"8-3\", \"8-4\", \"8-5\", \"9-1\", \"9-2\", \"9-3\", \"9-4\", \"10-2\", \"10-3\", \"10-4\", \"10-5\", \"11-1\"], \"y\": [0.3333333333333333, 0.40540540540540543, 0.5517241379310345, 0.6060606060606061, 0.5, 0.6206896551724138, 0.6538461538461539, 0.4827586206896552, 0.36, 0.4482758620689655, 0.5666666666666667, 0.5384615384615384, 0.3142857142857143, 0.5], \"type\": \"scatter\", \"uid\": \"d4ca1a7a-e702-11e8-8ddb-a41f72875c19\"}, {\"name\": \"24h\\u901a\\u8fc7\\u7387\", \"x\": [\"8-1\", \"8-2\", \"8-3\", \"8-4\", \"8-5\", \"9-1\", \"9-2\", \"9-3\", \"9-4\", \"10-2\", \"10-3\", \"10-4\", \"10-5\", \"11-1\"], \"y\": [0.6296296296296297, 0.5135135135135135, 0.7586206896551724, 0.8484848484848485, 0.7272727272727273, 0.7931034482758621, 0.6923076923076923, 0.6551724137931034, 0.72, 0.6896551724137931, 0.8333333333333334, 0.6538461538461539, 0.4857142857142857, 0.6666666666666666], \"type\": \"scatter\", \"uid\": \"d4ca1a7b-e702-11e8-8ddb-a41f72875c19\"}, {\"name\": \"48h\\u901a\\u8fc7\\u7387\", \"x\": [\"8-1\", \"8-2\", \"8-3\", \"8-4\", \"8-5\", \"9-1\", \"9-2\", \"9-3\", \"9-4\", \"10-2\", \"10-3\", \"10-4\", \"10-5\", \"11-1\"], \"y\": [0.8518518518518519, 0.7567567567567568, 0.896551724137931, 0.9393939393939394, 0.8636363636363636, 0.896551724137931, 0.8461538461538461, 0.6896551724137931, 0.76, 0.9655172413793104, 0.9666666666666667, 0.8076923076923077, 0.6857142857142857, 0.8333333333333334], \"type\": \"scatter\", \"uid\": \"d4ca1a7c-e702-11e8-8ddb-a41f72875c19\"}], {\"title\": \"8h\\u901a\\u8fc7\\u7387&24h\\u901a\\u8fc7\\u7387&48h\\u901a\\u8fc7\\u7387\\u5468\\u8d8b\\u52bf\\u56fe\", \"xaxis\": {\"mirror\": \"all\", \"nticks\": 20, \"showgrid\": true, \"showline\": true, \"title\": \"\\u5468\", \"type\": \"category\", \"zeroline\": true}, \"yaxis\": {\"mirror\": \"all\", \"nticks\": 20, \"showgrid\": true, \"showline\": true, \"title\": \"8h\\u901a\\u8fc7\\u7387&24h\\u901a\\u8fc7\\u7387&48h\\u901a\\u8fc7\\u7387\", \"zeroline\": true}}, {\"showLink\": true, \"linkText\": \"Export to plot.ly\"})});</script>"
      ]
     },
     "metadata": {},
     "output_type": "display_data"
    },
    {
     "data": {
      "application/vnd.plotly.v1+json": {
       "data": [
        {
         "name": "8h通过率",
         "type": "scatter",
         "uid": "d4ca1a7d-e702-11e8-8ddb-a41f72875c19",
         "x": [
          8,
          9,
          10,
          11
         ],
         "y": [
          0.4797297297297297,
          0.5321100917431193,
          0.4583333333333333,
          0.5
         ]
        },
        {
         "name": "24h通过率",
         "type": "scatter",
         "uid": "d4ca1a7e-e702-11e8-8ddb-a41f72875c19",
         "x": [
          8,
          9,
          10,
          11
         ],
         "y": [
          0.6891891891891891,
          0.7155963302752294,
          0.6583333333333333,
          0.6666666666666666
         ]
        },
        {
         "name": "48h通过率",
         "type": "scatter",
         "uid": "d4ca1a7f-e702-11e8-8ddb-a41f72875c19",
         "x": [
          8,
          9,
          10,
          11
         ],
         "y": [
          0.8581081081081081,
          0.7981651376146789,
          0.85,
          0.8333333333333334
         ]
        }
       ],
       "layout": {
        "title": "8h通过率&24h通过率&48h通过率月趋势图",
        "xaxis": {
         "mirror": "all",
         "nticks": 20,
         "showgrid": true,
         "showline": true,
         "title": "月",
         "type": "category",
         "zeroline": true
        },
        "yaxis": {
         "mirror": "all",
         "nticks": 20,
         "showgrid": true,
         "showline": true,
         "title": "8h通过率&24h通过率&48h通过率",
         "zeroline": true
        }
       }
      },
      "text/html": [
       "<div id=\"8a674a18-04fd-44ef-a728-8ef10f30856a\" style=\"height: 525px; width: 100%;\" class=\"plotly-graph-div\"></div><script type=\"text/javascript\">require([\"plotly\"], function(Plotly) { window.PLOTLYENV=window.PLOTLYENV || {};window.PLOTLYENV.BASE_URL=\"https://plot.ly\";Plotly.newPlot(\"8a674a18-04fd-44ef-a728-8ef10f30856a\", [{\"name\": \"8h\\u901a\\u8fc7\\u7387\", \"x\": [8, 9, 10, 11], \"y\": [0.4797297297297297, 0.5321100917431193, 0.4583333333333333, 0.5], \"type\": \"scatter\", \"uid\": \"d4ca1a7d-e702-11e8-8ddb-a41f72875c19\"}, {\"name\": \"24h\\u901a\\u8fc7\\u7387\", \"x\": [8, 9, 10, 11], \"y\": [0.6891891891891891, 0.7155963302752294, 0.6583333333333333, 0.6666666666666666], \"type\": \"scatter\", \"uid\": \"d4ca1a7e-e702-11e8-8ddb-a41f72875c19\"}, {\"name\": \"48h\\u901a\\u8fc7\\u7387\", \"x\": [8, 9, 10, 11], \"y\": [0.8581081081081081, 0.7981651376146789, 0.85, 0.8333333333333334], \"type\": \"scatter\", \"uid\": \"d4ca1a7f-e702-11e8-8ddb-a41f72875c19\"}], {\"title\": \"8h\\u901a\\u8fc7\\u7387&24h\\u901a\\u8fc7\\u7387&48h\\u901a\\u8fc7\\u7387\\u6708\\u8d8b\\u52bf\\u56fe\", \"xaxis\": {\"mirror\": \"all\", \"nticks\": 20, \"showgrid\": true, \"showline\": true, \"title\": \"\\u6708\", \"type\": \"category\", \"zeroline\": true}, \"yaxis\": {\"mirror\": \"all\", \"nticks\": 20, \"showgrid\": true, \"showline\": true, \"title\": \"8h\\u901a\\u8fc7\\u7387&24h\\u901a\\u8fc7\\u7387&48h\\u901a\\u8fc7\\u7387\", \"zeroline\": true}}, {\"showLink\": true, \"linkText\": \"Export to plot.ly\"})});</script>"
      ],
      "text/vnd.plotly.v1+html": [
       "<div id=\"8a674a18-04fd-44ef-a728-8ef10f30856a\" style=\"height: 525px; width: 100%;\" class=\"plotly-graph-div\"></div><script type=\"text/javascript\">require([\"plotly\"], function(Plotly) { window.PLOTLYENV=window.PLOTLYENV || {};window.PLOTLYENV.BASE_URL=\"https://plot.ly\";Plotly.newPlot(\"8a674a18-04fd-44ef-a728-8ef10f30856a\", [{\"name\": \"8h\\u901a\\u8fc7\\u7387\", \"x\": [8, 9, 10, 11], \"y\": [0.4797297297297297, 0.5321100917431193, 0.4583333333333333, 0.5], \"type\": \"scatter\", \"uid\": \"d4ca1a7d-e702-11e8-8ddb-a41f72875c19\"}, {\"name\": \"24h\\u901a\\u8fc7\\u7387\", \"x\": [8, 9, 10, 11], \"y\": [0.6891891891891891, 0.7155963302752294, 0.6583333333333333, 0.6666666666666666], \"type\": \"scatter\", \"uid\": \"d4ca1a7e-e702-11e8-8ddb-a41f72875c19\"}, {\"name\": \"48h\\u901a\\u8fc7\\u7387\", \"x\": [8, 9, 10, 11], \"y\": [0.8581081081081081, 0.7981651376146789, 0.85, 0.8333333333333334], \"type\": \"scatter\", \"uid\": \"d4ca1a7f-e702-11e8-8ddb-a41f72875c19\"}], {\"title\": \"8h\\u901a\\u8fc7\\u7387&24h\\u901a\\u8fc7\\u7387&48h\\u901a\\u8fc7\\u7387\\u6708\\u8d8b\\u52bf\\u56fe\", \"xaxis\": {\"mirror\": \"all\", \"nticks\": 20, \"showgrid\": true, \"showline\": true, \"title\": \"\\u6708\", \"type\": \"category\", \"zeroline\": true}, \"yaxis\": {\"mirror\": \"all\", \"nticks\": 20, \"showgrid\": true, \"showline\": true, \"title\": \"8h\\u901a\\u8fc7\\u7387&24h\\u901a\\u8fc7\\u7387&48h\\u901a\\u8fc7\\u7387\", \"zeroline\": true}}, {\"showLink\": true, \"linkText\": \"Export to plot.ly\"})});</script>"
      ]
     },
     "metadata": {},
     "output_type": "display_data"
    }
   ],
   "source": [
    "ss = myModule.format(all_df2 ,\"日期（格式“月-周次”）\" ,['8h通过芯片数', '芯片总数','24h通过芯片数','48h通过芯片数'])\n",
    "tt = ss.get_total_ratio([['8h通过率','8h通过芯片数','芯片总数','/'],\n",
    "                         ['24h通过率','24h通过芯片数','芯片总数','/'],\n",
    "                        ['48h通过率','48h通过芯片数','芯片总数','/'],])\n",
    "myModule.myPlot(myModule.sort_by_index(tt)).plot('line')\n",
    "\n",
    "ss = myModule.format(all_df2 ,\"month\" ,['8h通过芯片数', '芯片总数','24h通过芯片数','48h通过芯片数'])\n",
    "tt = ss.get_total_ratio([['8h通过率','8h通过芯片数','芯片总数','/'],\n",
    "                         ['24h通过率','24h通过芯片数','芯片总数','/'],\n",
    "                        ['48h通过率','48h通过芯片数','芯片总数','/'],])\n",
    "myModule.myPlot(tt).plot('line','月')"
   ]
  },
  {
   "cell_type": "markdown",
   "metadata": {},
   "source": [
    "#### 平均通过时长，一次通过平均时长，非一次通过平均时长，通过时长Q80"
   ]
  },
  {
   "cell_type": "code",
   "execution_count": 139,
   "metadata": {
    "collapsed": false,
    "scrolled": false
   },
   "outputs": [
    {
     "data": {
      "application/vnd.plotly.v1+json": {
       "data": [
        {
         "name": "通过时长Q80",
         "type": "scatter",
         "uid": "d5f0d86e-e702-11e8-8ddb-a41f72875c19",
         "x": [
          "8-1",
          "8-2",
          "8-3",
          "8-4",
          "8-5",
          "9-1",
          "9-2",
          "9-3",
          "9-4",
          "10-2",
          "10-3",
          "10-4",
          "10-5",
          "11-1"
         ],
         "y": [
          35.07,
          59.13,
          33.87,
          27.27,
          29.73,
          24.2,
          31.5,
          64.5,
          50.73,
          25.83,
          22.47,
          31.62,
          86.58500000000001,
          55.245
         ]
        },
        {
         "name": "平均通过时长",
         "type": "scatter",
         "uid": "d5f0d86f-e702-11e8-8ddb-a41f72875c19",
         "x": [
          "8-1",
          "8-2",
          "8-3",
          "8-4",
          "8-5",
          "9-1",
          "9-2",
          "9-3",
          "9-4",
          "10-2",
          "10-3",
          "10-4",
          "10-5",
          "11-1"
         ],
         "y": [
          21.03,
          32.65,
          16.84,
          10.54,
          23.82,
          15.1,
          22.28,
          38.57,
          26.16,
          16.62,
          13.39,
          19.8,
          67.05,
          32.475
         ]
        },
        {
         "name": "非一次通过平均时长",
         "type": "scatter",
         "uid": "d5f0d870-e702-11e8-8ddb-a41f72875c19",
         "x": [
          "8-1",
          "8-2",
          "8-3",
          "8-4",
          "8-5",
          "9-1",
          "9-2",
          "9-3",
          "9-4",
          "10-2",
          "10-3",
          "10-4",
          "10-5",
          "11-1"
         ],
         "y": [
          30.81,
          50.36,
          22.7,
          20.81,
          35.65,
          24.46,
          37.75,
          53.68,
          34.52,
          26.49,
          23.02,
          29.53,
          78.585,
          64.485
         ]
        },
        {
         "name": "一次通过平均时长",
         "type": "scatter",
         "uid": "d5f0d871-e702-11e8-8ddb-a41f72875c19",
         "x": [
          "8-1",
          "8-2",
          "8-3",
          "8-4",
          "8-5",
          "9-1",
          "9-2",
          "9-3",
          "9-4",
          "10-2",
          "10-3",
          "10-4",
          "10-5",
          "11-1"
         ],
         "y": [
          11.95,
          6.68,
          3.81,
          5.41,
          3.11,
          5.07,
          6.43,
          4.81,
          4.68,
          4.25,
          3.71,
          4.23,
          1.675,
          4.625
         ]
        }
       ],
       "layout": {
        "title": "通过时长Q80&平均通过时长&非一次通过平均时长&一次通过平均时长周趋势图",
        "xaxis": {
         "mirror": "all",
         "nticks": 20,
         "showgrid": true,
         "showline": true,
         "title": "周",
         "type": "category",
         "zeroline": true
        },
        "yaxis": {
         "mirror": "all",
         "nticks": 20,
         "showgrid": true,
         "showline": true,
         "title": "通过时长Q80&平均通过时长&非一次通过平均时长&一次通过平均时长",
         "zeroline": true
        }
       }
      },
      "text/html": [
       "<div id=\"3513beeb-5b41-4eb4-8d36-32f2f265b4fd\" style=\"height: 525px; width: 100%;\" class=\"plotly-graph-div\"></div><script type=\"text/javascript\">require([\"plotly\"], function(Plotly) { window.PLOTLYENV=window.PLOTLYENV || {};window.PLOTLYENV.BASE_URL=\"https://plot.ly\";Plotly.newPlot(\"3513beeb-5b41-4eb4-8d36-32f2f265b4fd\", [{\"name\": \"\\u901a\\u8fc7\\u65f6\\u957fQ80\", \"x\": [\"8-1\", \"8-2\", \"8-3\", \"8-4\", \"8-5\", \"9-1\", \"9-2\", \"9-3\", \"9-4\", \"10-2\", \"10-3\", \"10-4\", \"10-5\", \"11-1\"], \"y\": [35.07, 59.13, 33.87, 27.27, 29.73, 24.2, 31.5, 64.5, 50.73, 25.83, 22.47, 31.62, 86.58500000000001, 55.245], \"type\": \"scatter\", \"uid\": \"d5f0d86e-e702-11e8-8ddb-a41f72875c19\"}, {\"name\": \"\\u5e73\\u5747\\u901a\\u8fc7\\u65f6\\u957f\", \"x\": [\"8-1\", \"8-2\", \"8-3\", \"8-4\", \"8-5\", \"9-1\", \"9-2\", \"9-3\", \"9-4\", \"10-2\", \"10-3\", \"10-4\", \"10-5\", \"11-1\"], \"y\": [21.03, 32.65, 16.84, 10.54, 23.82, 15.1, 22.28, 38.57, 26.16, 16.62, 13.39, 19.8, 67.05, 32.475], \"type\": \"scatter\", \"uid\": \"d5f0d86f-e702-11e8-8ddb-a41f72875c19\"}, {\"name\": \"\\u975e\\u4e00\\u6b21\\u901a\\u8fc7\\u5e73\\u5747\\u65f6\\u957f\", \"x\": [\"8-1\", \"8-2\", \"8-3\", \"8-4\", \"8-5\", \"9-1\", \"9-2\", \"9-3\", \"9-4\", \"10-2\", \"10-3\", \"10-4\", \"10-5\", \"11-1\"], \"y\": [30.81, 50.36, 22.7, 20.81, 35.65, 24.46, 37.75, 53.68, 34.52, 26.49, 23.02, 29.53, 78.585, 64.485], \"type\": \"scatter\", \"uid\": \"d5f0d870-e702-11e8-8ddb-a41f72875c19\"}, {\"name\": \"\\u4e00\\u6b21\\u901a\\u8fc7\\u5e73\\u5747\\u65f6\\u957f\", \"x\": [\"8-1\", \"8-2\", \"8-3\", \"8-4\", \"8-5\", \"9-1\", \"9-2\", \"9-3\", \"9-4\", \"10-2\", \"10-3\", \"10-4\", \"10-5\", \"11-1\"], \"y\": [11.95, 6.68, 3.81, 5.41, 3.11, 5.07, 6.43, 4.81, 4.68, 4.25, 3.71, 4.23, 1.675, 4.625], \"type\": \"scatter\", \"uid\": \"d5f0d871-e702-11e8-8ddb-a41f72875c19\"}], {\"title\": \"\\u901a\\u8fc7\\u65f6\\u957fQ80&\\u5e73\\u5747\\u901a\\u8fc7\\u65f6\\u957f&\\u975e\\u4e00\\u6b21\\u901a\\u8fc7\\u5e73\\u5747\\u65f6\\u957f&\\u4e00\\u6b21\\u901a\\u8fc7\\u5e73\\u5747\\u65f6\\u957f\\u5468\\u8d8b\\u52bf\\u56fe\", \"xaxis\": {\"mirror\": \"all\", \"nticks\": 20, \"showgrid\": true, \"showline\": true, \"title\": \"\\u5468\", \"type\": \"category\", \"zeroline\": true}, \"yaxis\": {\"mirror\": \"all\", \"nticks\": 20, \"showgrid\": true, \"showline\": true, \"title\": \"\\u901a\\u8fc7\\u65f6\\u957fQ80&\\u5e73\\u5747\\u901a\\u8fc7\\u65f6\\u957f&\\u975e\\u4e00\\u6b21\\u901a\\u8fc7\\u5e73\\u5747\\u65f6\\u957f&\\u4e00\\u6b21\\u901a\\u8fc7\\u5e73\\u5747\\u65f6\\u957f\", \"zeroline\": true}}, {\"showLink\": true, \"linkText\": \"Export to plot.ly\"})});</script>"
      ],
      "text/vnd.plotly.v1+html": [
       "<div id=\"3513beeb-5b41-4eb4-8d36-32f2f265b4fd\" style=\"height: 525px; width: 100%;\" class=\"plotly-graph-div\"></div><script type=\"text/javascript\">require([\"plotly\"], function(Plotly) { window.PLOTLYENV=window.PLOTLYENV || {};window.PLOTLYENV.BASE_URL=\"https://plot.ly\";Plotly.newPlot(\"3513beeb-5b41-4eb4-8d36-32f2f265b4fd\", [{\"name\": \"\\u901a\\u8fc7\\u65f6\\u957fQ80\", \"x\": [\"8-1\", \"8-2\", \"8-3\", \"8-4\", \"8-5\", \"9-1\", \"9-2\", \"9-3\", \"9-4\", \"10-2\", \"10-3\", \"10-4\", \"10-5\", \"11-1\"], \"y\": [35.07, 59.13, 33.87, 27.27, 29.73, 24.2, 31.5, 64.5, 50.73, 25.83, 22.47, 31.62, 86.58500000000001, 55.245], \"type\": \"scatter\", \"uid\": \"d5f0d86e-e702-11e8-8ddb-a41f72875c19\"}, {\"name\": \"\\u5e73\\u5747\\u901a\\u8fc7\\u65f6\\u957f\", \"x\": [\"8-1\", \"8-2\", \"8-3\", \"8-4\", \"8-5\", \"9-1\", \"9-2\", \"9-3\", \"9-4\", \"10-2\", \"10-3\", \"10-4\", \"10-5\", \"11-1\"], \"y\": [21.03, 32.65, 16.84, 10.54, 23.82, 15.1, 22.28, 38.57, 26.16, 16.62, 13.39, 19.8, 67.05, 32.475], \"type\": \"scatter\", \"uid\": \"d5f0d86f-e702-11e8-8ddb-a41f72875c19\"}, {\"name\": \"\\u975e\\u4e00\\u6b21\\u901a\\u8fc7\\u5e73\\u5747\\u65f6\\u957f\", \"x\": [\"8-1\", \"8-2\", \"8-3\", \"8-4\", \"8-5\", \"9-1\", \"9-2\", \"9-3\", \"9-4\", \"10-2\", \"10-3\", \"10-4\", \"10-5\", \"11-1\"], \"y\": [30.81, 50.36, 22.7, 20.81, 35.65, 24.46, 37.75, 53.68, 34.52, 26.49, 23.02, 29.53, 78.585, 64.485], \"type\": \"scatter\", \"uid\": \"d5f0d870-e702-11e8-8ddb-a41f72875c19\"}, {\"name\": \"\\u4e00\\u6b21\\u901a\\u8fc7\\u5e73\\u5747\\u65f6\\u957f\", \"x\": [\"8-1\", \"8-2\", \"8-3\", \"8-4\", \"8-5\", \"9-1\", \"9-2\", \"9-3\", \"9-4\", \"10-2\", \"10-3\", \"10-4\", \"10-5\", \"11-1\"], \"y\": [11.95, 6.68, 3.81, 5.41, 3.11, 5.07, 6.43, 4.81, 4.68, 4.25, 3.71, 4.23, 1.675, 4.625], \"type\": \"scatter\", \"uid\": \"d5f0d871-e702-11e8-8ddb-a41f72875c19\"}], {\"title\": \"\\u901a\\u8fc7\\u65f6\\u957fQ80&\\u5e73\\u5747\\u901a\\u8fc7\\u65f6\\u957f&\\u975e\\u4e00\\u6b21\\u901a\\u8fc7\\u5e73\\u5747\\u65f6\\u957f&\\u4e00\\u6b21\\u901a\\u8fc7\\u5e73\\u5747\\u65f6\\u957f\\u5468\\u8d8b\\u52bf\\u56fe\", \"xaxis\": {\"mirror\": \"all\", \"nticks\": 20, \"showgrid\": true, \"showline\": true, \"title\": \"\\u5468\", \"type\": \"category\", \"zeroline\": true}, \"yaxis\": {\"mirror\": \"all\", \"nticks\": 20, \"showgrid\": true, \"showline\": true, \"title\": \"\\u901a\\u8fc7\\u65f6\\u957fQ80&\\u5e73\\u5747\\u901a\\u8fc7\\u65f6\\u957f&\\u975e\\u4e00\\u6b21\\u901a\\u8fc7\\u5e73\\u5747\\u65f6\\u957f&\\u4e00\\u6b21\\u901a\\u8fc7\\u5e73\\u5747\\u65f6\\u957f\", \"zeroline\": true}}, {\"showLink\": true, \"linkText\": \"Export to plot.ly\"})});</script>"
      ]
     },
     "metadata": {},
     "output_type": "display_data"
    },
    {
     "data": {
      "application/vnd.plotly.v1+json": {
       "data": [
        {
         "line": {
          "dash": "solid"
         },
         "name": "通过时长Q80(北京组)",
         "type": "scatter",
         "uid": "d5f0d872-e702-11e8-8ddb-a41f72875c19",
         "x": [
          "8-1",
          "8-2",
          "8-3",
          "8-4",
          "8-5",
          "9-1",
          "9-2",
          "9-3",
          "9-4",
          "10-2",
          "10-3",
          "10-4",
          "10-5",
          "11-1"
         ],
         "y": [
          35.07,
          59.13,
          33.87,
          27.27,
          29.73,
          24.2,
          31.5,
          64.5,
          50.73,
          25.83,
          22.47,
          31.62,
          77.87,
          32.67
         ]
        },
        {
         "line": {
          "dash": "dot"
         },
         "name": "通过时长Q80(义乌组)",
         "type": "scatter",
         "uid": "d5f0d873-e702-11e8-8ddb-a41f72875c19",
         "x": [
          "8-1",
          "8-2",
          "8-3",
          "8-4",
          "8-5",
          "9-1",
          "9-2",
          "9-3",
          "9-4",
          "10-2",
          "10-3",
          "10-4",
          "10-5",
          "11-1"
         ],
         "y": [
          null,
          null,
          null,
          null,
          null,
          null,
          null,
          null,
          null,
          null,
          null,
          null,
          95.3,
          77.82
         ]
        },
        {
         "line": {
          "dash": "solid"
         },
         "name": "平均通过时长(北京组)",
         "type": "scatter",
         "uid": "d5f0d874-e702-11e8-8ddb-a41f72875c19",
         "x": [
          "8-1",
          "8-2",
          "8-3",
          "8-4",
          "8-5",
          "9-1",
          "9-2",
          "9-3",
          "9-4",
          "10-2",
          "10-3",
          "10-4",
          "10-5",
          "11-1"
         ],
         "y": [
          21.03,
          32.65,
          16.84,
          10.54,
          23.82,
          15.1,
          22.28,
          38.57,
          26.16,
          16.62,
          13.39,
          19.8,
          38.8,
          23.73
         ]
        },
        {
         "line": {
          "dash": "dot"
         },
         "name": "平均通过时长(义乌组)",
         "type": "scatter",
         "uid": "d5f0d875-e702-11e8-8ddb-a41f72875c19",
         "x": [
          "8-1",
          "8-2",
          "8-3",
          "8-4",
          "8-5",
          "9-1",
          "9-2",
          "9-3",
          "9-4",
          "10-2",
          "10-3",
          "10-4",
          "10-5",
          "11-1"
         ],
         "y": [
          null,
          null,
          null,
          null,
          null,
          null,
          null,
          null,
          null,
          null,
          null,
          null,
          95.3,
          41.22
         ]
        },
        {
         "line": {
          "dash": "solid"
         },
         "name": "非一次通过平均时长(北京组)",
         "type": "scatter",
         "uid": "d5f0d876-e702-11e8-8ddb-a41f72875c19",
         "x": [
          "8-1",
          "8-2",
          "8-3",
          "8-4",
          "8-5",
          "9-1",
          "9-2",
          "9-3",
          "9-4",
          "10-2",
          "10-3",
          "10-4",
          "10-5",
          "11-1"
         ],
         "y": [
          30.81,
          50.36,
          22.7,
          20.81,
          35.65,
          24.46,
          37.75,
          53.68,
          34.52,
          26.49,
          23.02,
          29.53,
          61.87,
          51.15
         ]
        },
        {
         "line": {
          "dash": "dot"
         },
         "name": "非一次通过平均时长(义乌组)",
         "type": "scatter",
         "uid": "d5f0d877-e702-11e8-8ddb-a41f72875c19",
         "x": [
          "8-1",
          "8-2",
          "8-3",
          "8-4",
          "8-5",
          "9-1",
          "9-2",
          "9-3",
          "9-4",
          "10-2",
          "10-3",
          "10-4",
          "10-5",
          "11-1"
         ],
         "y": [
          null,
          null,
          null,
          null,
          null,
          null,
          null,
          null,
          null,
          null,
          null,
          null,
          95.3,
          77.82
         ]
        },
        {
         "line": {
          "dash": "solid"
         },
         "name": "一次通过平均时长(北京组)",
         "type": "scatter",
         "uid": "d5f0d878-e702-11e8-8ddb-a41f72875c19",
         "x": [
          "8-1",
          "8-2",
          "8-3",
          "8-4",
          "8-5",
          "9-1",
          "9-2",
          "9-3",
          "9-4",
          "10-2",
          "10-3",
          "10-4",
          "10-5",
          "11-1"
         ],
         "y": [
          11.95,
          6.68,
          3.81,
          5.41,
          3.11,
          5.07,
          6.43,
          4.81,
          4.68,
          4.25,
          3.71,
          4.23,
          3.35,
          4.75
         ]
        },
        {
         "line": {
          "dash": "dot"
         },
         "name": "一次通过平均时长(义乌组)",
         "type": "scatter",
         "uid": "d5f0d879-e702-11e8-8ddb-a41f72875c19",
         "x": [
          "8-1",
          "8-2",
          "8-3",
          "8-4",
          "8-5",
          "9-1",
          "9-2",
          "9-3",
          "9-4",
          "10-2",
          "10-3",
          "10-4",
          "10-5",
          "11-1"
         ],
         "y": [
          null,
          null,
          null,
          null,
          null,
          null,
          null,
          null,
          null,
          null,
          null,
          null,
          0,
          4.5
         ]
        }
       ],
       "layout": {
        "title": "通过时长Q80&平均通过时长&非一次通过平均时长&一次通过平均时长周趋势图",
        "xaxis": {
         "mirror": "all",
         "nticks": 20,
         "showgrid": true,
         "showline": true,
         "title": "周",
         "type": "category",
         "zeroline": true
        },
        "yaxis": {
         "mirror": "all",
         "nticks": 20,
         "showgrid": true,
         "showline": true,
         "title": "通过时长Q80&平均通过时长&非一次通过平均时长&一次通过平均时长",
         "zeroline": true
        }
       }
      },
      "text/html": [
       "<div id=\"d892bebb-eb10-4b2a-b8cd-4d717b965a70\" style=\"height: 525px; width: 100%;\" class=\"plotly-graph-div\"></div><script type=\"text/javascript\">require([\"plotly\"], function(Plotly) { window.PLOTLYENV=window.PLOTLYENV || {};window.PLOTLYENV.BASE_URL=\"https://plot.ly\";Plotly.newPlot(\"d892bebb-eb10-4b2a-b8cd-4d717b965a70\", [{\"line\": {\"dash\": \"solid\"}, \"name\": \"\\u901a\\u8fc7\\u65f6\\u957fQ80(\\u5317\\u4eac\\u7ec4)\", \"x\": [\"8-1\", \"8-2\", \"8-3\", \"8-4\", \"8-5\", \"9-1\", \"9-2\", \"9-3\", \"9-4\", \"10-2\", \"10-3\", \"10-4\", \"10-5\", \"11-1\"], \"y\": [35.07, 59.13, 33.87, 27.27, 29.73, 24.2, 31.5, 64.5, 50.73, 25.83, 22.47, 31.62, 77.87, 32.67], \"type\": \"scatter\", \"uid\": \"d5f0d872-e702-11e8-8ddb-a41f72875c19\"}, {\"line\": {\"dash\": \"dot\"}, \"name\": \"\\u901a\\u8fc7\\u65f6\\u957fQ80(\\u4e49\\u4e4c\\u7ec4)\", \"x\": [\"8-1\", \"8-2\", \"8-3\", \"8-4\", \"8-5\", \"9-1\", \"9-2\", \"9-3\", \"9-4\", \"10-2\", \"10-3\", \"10-4\", \"10-5\", \"11-1\"], \"y\": [null, null, null, null, null, null, null, null, null, null, null, null, 95.3, 77.82], \"type\": \"scatter\", \"uid\": \"d5f0d873-e702-11e8-8ddb-a41f72875c19\"}, {\"line\": {\"dash\": \"solid\"}, \"name\": \"\\u5e73\\u5747\\u901a\\u8fc7\\u65f6\\u957f(\\u5317\\u4eac\\u7ec4)\", \"x\": [\"8-1\", \"8-2\", \"8-3\", \"8-4\", \"8-5\", \"9-1\", \"9-2\", \"9-3\", \"9-4\", \"10-2\", \"10-3\", \"10-4\", \"10-5\", \"11-1\"], \"y\": [21.03, 32.65, 16.84, 10.54, 23.82, 15.1, 22.28, 38.57, 26.16, 16.62, 13.39, 19.8, 38.8, 23.73], \"type\": \"scatter\", \"uid\": \"d5f0d874-e702-11e8-8ddb-a41f72875c19\"}, {\"line\": {\"dash\": \"dot\"}, \"name\": \"\\u5e73\\u5747\\u901a\\u8fc7\\u65f6\\u957f(\\u4e49\\u4e4c\\u7ec4)\", \"x\": [\"8-1\", \"8-2\", \"8-3\", \"8-4\", \"8-5\", \"9-1\", \"9-2\", \"9-3\", \"9-4\", \"10-2\", \"10-3\", \"10-4\", \"10-5\", \"11-1\"], \"y\": [null, null, null, null, null, null, null, null, null, null, null, null, 95.3, 41.22], \"type\": \"scatter\", \"uid\": \"d5f0d875-e702-11e8-8ddb-a41f72875c19\"}, {\"line\": {\"dash\": \"solid\"}, \"name\": \"\\u975e\\u4e00\\u6b21\\u901a\\u8fc7\\u5e73\\u5747\\u65f6\\u957f(\\u5317\\u4eac\\u7ec4)\", \"x\": [\"8-1\", \"8-2\", \"8-3\", \"8-4\", \"8-5\", \"9-1\", \"9-2\", \"9-3\", \"9-4\", \"10-2\", \"10-3\", \"10-4\", \"10-5\", \"11-1\"], \"y\": [30.81, 50.36, 22.7, 20.81, 35.65, 24.46, 37.75, 53.68, 34.52, 26.49, 23.02, 29.53, 61.87, 51.15], \"type\": \"scatter\", \"uid\": \"d5f0d876-e702-11e8-8ddb-a41f72875c19\"}, {\"line\": {\"dash\": \"dot\"}, \"name\": \"\\u975e\\u4e00\\u6b21\\u901a\\u8fc7\\u5e73\\u5747\\u65f6\\u957f(\\u4e49\\u4e4c\\u7ec4)\", \"x\": [\"8-1\", \"8-2\", \"8-3\", \"8-4\", \"8-5\", \"9-1\", \"9-2\", \"9-3\", \"9-4\", \"10-2\", \"10-3\", \"10-4\", \"10-5\", \"11-1\"], \"y\": [null, null, null, null, null, null, null, null, null, null, null, null, 95.3, 77.82], \"type\": \"scatter\", \"uid\": \"d5f0d877-e702-11e8-8ddb-a41f72875c19\"}, {\"line\": {\"dash\": \"solid\"}, \"name\": \"\\u4e00\\u6b21\\u901a\\u8fc7\\u5e73\\u5747\\u65f6\\u957f(\\u5317\\u4eac\\u7ec4)\", \"x\": [\"8-1\", \"8-2\", \"8-3\", \"8-4\", \"8-5\", \"9-1\", \"9-2\", \"9-3\", \"9-4\", \"10-2\", \"10-3\", \"10-4\", \"10-5\", \"11-1\"], \"y\": [11.95, 6.68, 3.81, 5.41, 3.11, 5.07, 6.43, 4.81, 4.68, 4.25, 3.71, 4.23, 3.35, 4.75], \"type\": \"scatter\", \"uid\": \"d5f0d878-e702-11e8-8ddb-a41f72875c19\"}, {\"line\": {\"dash\": \"dot\"}, \"name\": \"\\u4e00\\u6b21\\u901a\\u8fc7\\u5e73\\u5747\\u65f6\\u957f(\\u4e49\\u4e4c\\u7ec4)\", \"x\": [\"8-1\", \"8-2\", \"8-3\", \"8-4\", \"8-5\", \"9-1\", \"9-2\", \"9-3\", \"9-4\", \"10-2\", \"10-3\", \"10-4\", \"10-5\", \"11-1\"], \"y\": [null, null, null, null, null, null, null, null, null, null, null, null, 0.0, 4.5], \"type\": \"scatter\", \"uid\": \"d5f0d879-e702-11e8-8ddb-a41f72875c19\"}], {\"title\": \"\\u901a\\u8fc7\\u65f6\\u957fQ80&\\u5e73\\u5747\\u901a\\u8fc7\\u65f6\\u957f&\\u975e\\u4e00\\u6b21\\u901a\\u8fc7\\u5e73\\u5747\\u65f6\\u957f&\\u4e00\\u6b21\\u901a\\u8fc7\\u5e73\\u5747\\u65f6\\u957f\\u5468\\u8d8b\\u52bf\\u56fe\", \"xaxis\": {\"mirror\": \"all\", \"nticks\": 20, \"showgrid\": true, \"showline\": true, \"title\": \"\\u5468\", \"type\": \"category\", \"zeroline\": true}, \"yaxis\": {\"mirror\": \"all\", \"nticks\": 20, \"showgrid\": true, \"showline\": true, \"title\": \"\\u901a\\u8fc7\\u65f6\\u957fQ80&\\u5e73\\u5747\\u901a\\u8fc7\\u65f6\\u957f&\\u975e\\u4e00\\u6b21\\u901a\\u8fc7\\u5e73\\u5747\\u65f6\\u957f&\\u4e00\\u6b21\\u901a\\u8fc7\\u5e73\\u5747\\u65f6\\u957f\", \"zeroline\": true}}, {\"showLink\": true, \"linkText\": \"Export to plot.ly\"})});</script>"
      ],
      "text/vnd.plotly.v1+html": [
       "<div id=\"d892bebb-eb10-4b2a-b8cd-4d717b965a70\" style=\"height: 525px; width: 100%;\" class=\"plotly-graph-div\"></div><script type=\"text/javascript\">require([\"plotly\"], function(Plotly) { window.PLOTLYENV=window.PLOTLYENV || {};window.PLOTLYENV.BASE_URL=\"https://plot.ly\";Plotly.newPlot(\"d892bebb-eb10-4b2a-b8cd-4d717b965a70\", [{\"line\": {\"dash\": \"solid\"}, \"name\": \"\\u901a\\u8fc7\\u65f6\\u957fQ80(\\u5317\\u4eac\\u7ec4)\", \"x\": [\"8-1\", \"8-2\", \"8-3\", \"8-4\", \"8-5\", \"9-1\", \"9-2\", \"9-3\", \"9-4\", \"10-2\", \"10-3\", \"10-4\", \"10-5\", \"11-1\"], \"y\": [35.07, 59.13, 33.87, 27.27, 29.73, 24.2, 31.5, 64.5, 50.73, 25.83, 22.47, 31.62, 77.87, 32.67], \"type\": \"scatter\", \"uid\": \"d5f0d872-e702-11e8-8ddb-a41f72875c19\"}, {\"line\": {\"dash\": \"dot\"}, \"name\": \"\\u901a\\u8fc7\\u65f6\\u957fQ80(\\u4e49\\u4e4c\\u7ec4)\", \"x\": [\"8-1\", \"8-2\", \"8-3\", \"8-4\", \"8-5\", \"9-1\", \"9-2\", \"9-3\", \"9-4\", \"10-2\", \"10-3\", \"10-4\", \"10-5\", \"11-1\"], \"y\": [null, null, null, null, null, null, null, null, null, null, null, null, 95.3, 77.82], \"type\": \"scatter\", \"uid\": \"d5f0d873-e702-11e8-8ddb-a41f72875c19\"}, {\"line\": {\"dash\": \"solid\"}, \"name\": \"\\u5e73\\u5747\\u901a\\u8fc7\\u65f6\\u957f(\\u5317\\u4eac\\u7ec4)\", \"x\": [\"8-1\", \"8-2\", \"8-3\", \"8-4\", \"8-5\", \"9-1\", \"9-2\", \"9-3\", \"9-4\", \"10-2\", \"10-3\", \"10-4\", \"10-5\", \"11-1\"], \"y\": [21.03, 32.65, 16.84, 10.54, 23.82, 15.1, 22.28, 38.57, 26.16, 16.62, 13.39, 19.8, 38.8, 23.73], \"type\": \"scatter\", \"uid\": \"d5f0d874-e702-11e8-8ddb-a41f72875c19\"}, {\"line\": {\"dash\": \"dot\"}, \"name\": \"\\u5e73\\u5747\\u901a\\u8fc7\\u65f6\\u957f(\\u4e49\\u4e4c\\u7ec4)\", \"x\": [\"8-1\", \"8-2\", \"8-3\", \"8-4\", \"8-5\", \"9-1\", \"9-2\", \"9-3\", \"9-4\", \"10-2\", \"10-3\", \"10-4\", \"10-5\", \"11-1\"], \"y\": [null, null, null, null, null, null, null, null, null, null, null, null, 95.3, 41.22], \"type\": \"scatter\", \"uid\": \"d5f0d875-e702-11e8-8ddb-a41f72875c19\"}, {\"line\": {\"dash\": \"solid\"}, \"name\": \"\\u975e\\u4e00\\u6b21\\u901a\\u8fc7\\u5e73\\u5747\\u65f6\\u957f(\\u5317\\u4eac\\u7ec4)\", \"x\": [\"8-1\", \"8-2\", \"8-3\", \"8-4\", \"8-5\", \"9-1\", \"9-2\", \"9-3\", \"9-4\", \"10-2\", \"10-3\", \"10-4\", \"10-5\", \"11-1\"], \"y\": [30.81, 50.36, 22.7, 20.81, 35.65, 24.46, 37.75, 53.68, 34.52, 26.49, 23.02, 29.53, 61.87, 51.15], \"type\": \"scatter\", \"uid\": \"d5f0d876-e702-11e8-8ddb-a41f72875c19\"}, {\"line\": {\"dash\": \"dot\"}, \"name\": \"\\u975e\\u4e00\\u6b21\\u901a\\u8fc7\\u5e73\\u5747\\u65f6\\u957f(\\u4e49\\u4e4c\\u7ec4)\", \"x\": [\"8-1\", \"8-2\", \"8-3\", \"8-4\", \"8-5\", \"9-1\", \"9-2\", \"9-3\", \"9-4\", \"10-2\", \"10-3\", \"10-4\", \"10-5\", \"11-1\"], \"y\": [null, null, null, null, null, null, null, null, null, null, null, null, 95.3, 77.82], \"type\": \"scatter\", \"uid\": \"d5f0d877-e702-11e8-8ddb-a41f72875c19\"}, {\"line\": {\"dash\": \"solid\"}, \"name\": \"\\u4e00\\u6b21\\u901a\\u8fc7\\u5e73\\u5747\\u65f6\\u957f(\\u5317\\u4eac\\u7ec4)\", \"x\": [\"8-1\", \"8-2\", \"8-3\", \"8-4\", \"8-5\", \"9-1\", \"9-2\", \"9-3\", \"9-4\", \"10-2\", \"10-3\", \"10-4\", \"10-5\", \"11-1\"], \"y\": [11.95, 6.68, 3.81, 5.41, 3.11, 5.07, 6.43, 4.81, 4.68, 4.25, 3.71, 4.23, 3.35, 4.75], \"type\": \"scatter\", \"uid\": \"d5f0d878-e702-11e8-8ddb-a41f72875c19\"}, {\"line\": {\"dash\": \"dot\"}, \"name\": \"\\u4e00\\u6b21\\u901a\\u8fc7\\u5e73\\u5747\\u65f6\\u957f(\\u4e49\\u4e4c\\u7ec4)\", \"x\": [\"8-1\", \"8-2\", \"8-3\", \"8-4\", \"8-5\", \"9-1\", \"9-2\", \"9-3\", \"9-4\", \"10-2\", \"10-3\", \"10-4\", \"10-5\", \"11-1\"], \"y\": [null, null, null, null, null, null, null, null, null, null, null, null, 0.0, 4.5], \"type\": \"scatter\", \"uid\": \"d5f0d879-e702-11e8-8ddb-a41f72875c19\"}], {\"title\": \"\\u901a\\u8fc7\\u65f6\\u957fQ80&\\u5e73\\u5747\\u901a\\u8fc7\\u65f6\\u957f&\\u975e\\u4e00\\u6b21\\u901a\\u8fc7\\u5e73\\u5747\\u65f6\\u957f&\\u4e00\\u6b21\\u901a\\u8fc7\\u5e73\\u5747\\u65f6\\u957f\\u5468\\u8d8b\\u52bf\\u56fe\", \"xaxis\": {\"mirror\": \"all\", \"nticks\": 20, \"showgrid\": true, \"showline\": true, \"title\": \"\\u5468\", \"type\": \"category\", \"zeroline\": true}, \"yaxis\": {\"mirror\": \"all\", \"nticks\": 20, \"showgrid\": true, \"showline\": true, \"title\": \"\\u901a\\u8fc7\\u65f6\\u957fQ80&\\u5e73\\u5747\\u901a\\u8fc7\\u65f6\\u957f&\\u975e\\u4e00\\u6b21\\u901a\\u8fc7\\u5e73\\u5747\\u65f6\\u957f&\\u4e00\\u6b21\\u901a\\u8fc7\\u5e73\\u5747\\u65f6\\u957f\", \"zeroline\": true}}, {\"showLink\": true, \"linkText\": \"Export to plot.ly\"})});</script>"
      ]
     },
     "metadata": {},
     "output_type": "display_data"
    }
   ],
   "source": [
    "ss = myModule.format(all_df2 ,\"日期（格式“月-周次”）\" ,['平均通过时长', '一次通过平均时长','非一次通过平均时长','通过时长Q80' ])\n",
    "myModule.myPlot(myModule.sort_by_index(ss.groupby('mean'))).plot('line')\n",
    "\n",
    "ss = myModule.format(all_df2 ,\"日期（格式“月-周次”）\" ,['平均通过时长', '一次通过平均时长','非一次通过平均时长','通过时长Q80' ])\n",
    "ss.add_group(\"组别\")\n",
    "myModule.myPlot(myModule.sort_by_index(ss.groupby('sum'))).plot('line')"
   ]
  },
  {
   "cell_type": "code",
   "execution_count": 140,
   "metadata": {
    "collapsed": false
   },
   "outputs": [
    {
     "data": {
      "application/vnd.plotly.v1+json": {
       "data": [
        {
         "name": "通过时长Q80",
         "type": "scatter",
         "uid": "d5f0d87a-e702-11e8-8ddb-a41f72875c19",
         "x": [
          8,
          9,
          10,
          11
         ],
         "y": [
          37.013999999999996,
          42.7325,
          50.618,
          55.245
         ]
        },
        {
         "name": "平均通过时长",
         "type": "scatter",
         "uid": "d5f0d87b-e702-11e8-8ddb-a41f72875c19",
         "x": [
          8,
          9,
          10,
          11
         ],
         "y": [
          20.976,
          25.5275,
          36.782000000000004,
          32.475
         ]
        },
        {
         "name": "非一次通过平均时长",
         "type": "scatter",
         "uid": "d5f0d87c-e702-11e8-8ddb-a41f72875c19",
         "x": [
          8,
          9,
          10,
          11
         ],
         "y": [
          32.065999999999995,
          37.6025,
          47.242000000000004,
          64.485
         ]
        },
        {
         "name": "一次通过平均时长",
         "type": "scatter",
         "uid": "d5f0d87d-e702-11e8-8ddb-a41f72875c19",
         "x": [
          8,
          9,
          10,
          11
         ],
         "y": [
          6.192,
          5.2475,
          3.1079999999999997,
          4.625
         ]
        }
       ],
       "layout": {
        "title": "通过时长Q80&平均通过时长&非一次通过平均时长&一次通过平均时长月趋势图",
        "xaxis": {
         "mirror": "all",
         "nticks": 20,
         "showgrid": true,
         "showline": true,
         "title": "月",
         "type": "category",
         "zeroline": true
        },
        "yaxis": {
         "mirror": "all",
         "nticks": 20,
         "showgrid": true,
         "showline": true,
         "title": "通过时长Q80&平均通过时长&非一次通过平均时长&一次通过平均时长",
         "zeroline": true
        }
       }
      },
      "text/html": [
       "<div id=\"5ff01b9a-d50b-4cef-aeae-44f18acaeec3\" style=\"height: 525px; width: 100%;\" class=\"plotly-graph-div\"></div><script type=\"text/javascript\">require([\"plotly\"], function(Plotly) { window.PLOTLYENV=window.PLOTLYENV || {};window.PLOTLYENV.BASE_URL=\"https://plot.ly\";Plotly.newPlot(\"5ff01b9a-d50b-4cef-aeae-44f18acaeec3\", [{\"name\": \"\\u901a\\u8fc7\\u65f6\\u957fQ80\", \"x\": [8, 9, 10, 11], \"y\": [37.013999999999996, 42.7325, 50.618, 55.245], \"type\": \"scatter\", \"uid\": \"d5f0d87a-e702-11e8-8ddb-a41f72875c19\"}, {\"name\": \"\\u5e73\\u5747\\u901a\\u8fc7\\u65f6\\u957f\", \"x\": [8, 9, 10, 11], \"y\": [20.976, 25.5275, 36.782000000000004, 32.475], \"type\": \"scatter\", \"uid\": \"d5f0d87b-e702-11e8-8ddb-a41f72875c19\"}, {\"name\": \"\\u975e\\u4e00\\u6b21\\u901a\\u8fc7\\u5e73\\u5747\\u65f6\\u957f\", \"x\": [8, 9, 10, 11], \"y\": [32.065999999999995, 37.6025, 47.242000000000004, 64.485], \"type\": \"scatter\", \"uid\": \"d5f0d87c-e702-11e8-8ddb-a41f72875c19\"}, {\"name\": \"\\u4e00\\u6b21\\u901a\\u8fc7\\u5e73\\u5747\\u65f6\\u957f\", \"x\": [8, 9, 10, 11], \"y\": [6.192, 5.2475, 3.1079999999999997, 4.625], \"type\": \"scatter\", \"uid\": \"d5f0d87d-e702-11e8-8ddb-a41f72875c19\"}], {\"title\": \"\\u901a\\u8fc7\\u65f6\\u957fQ80&\\u5e73\\u5747\\u901a\\u8fc7\\u65f6\\u957f&\\u975e\\u4e00\\u6b21\\u901a\\u8fc7\\u5e73\\u5747\\u65f6\\u957f&\\u4e00\\u6b21\\u901a\\u8fc7\\u5e73\\u5747\\u65f6\\u957f\\u6708\\u8d8b\\u52bf\\u56fe\", \"xaxis\": {\"mirror\": \"all\", \"nticks\": 20, \"showgrid\": true, \"showline\": true, \"title\": \"\\u6708\", \"type\": \"category\", \"zeroline\": true}, \"yaxis\": {\"mirror\": \"all\", \"nticks\": 20, \"showgrid\": true, \"showline\": true, \"title\": \"\\u901a\\u8fc7\\u65f6\\u957fQ80&\\u5e73\\u5747\\u901a\\u8fc7\\u65f6\\u957f&\\u975e\\u4e00\\u6b21\\u901a\\u8fc7\\u5e73\\u5747\\u65f6\\u957f&\\u4e00\\u6b21\\u901a\\u8fc7\\u5e73\\u5747\\u65f6\\u957f\", \"zeroline\": true}}, {\"showLink\": true, \"linkText\": \"Export to plot.ly\"})});</script>"
      ],
      "text/vnd.plotly.v1+html": [
       "<div id=\"5ff01b9a-d50b-4cef-aeae-44f18acaeec3\" style=\"height: 525px; width: 100%;\" class=\"plotly-graph-div\"></div><script type=\"text/javascript\">require([\"plotly\"], function(Plotly) { window.PLOTLYENV=window.PLOTLYENV || {};window.PLOTLYENV.BASE_URL=\"https://plot.ly\";Plotly.newPlot(\"5ff01b9a-d50b-4cef-aeae-44f18acaeec3\", [{\"name\": \"\\u901a\\u8fc7\\u65f6\\u957fQ80\", \"x\": [8, 9, 10, 11], \"y\": [37.013999999999996, 42.7325, 50.618, 55.245], \"type\": \"scatter\", \"uid\": \"d5f0d87a-e702-11e8-8ddb-a41f72875c19\"}, {\"name\": \"\\u5e73\\u5747\\u901a\\u8fc7\\u65f6\\u957f\", \"x\": [8, 9, 10, 11], \"y\": [20.976, 25.5275, 36.782000000000004, 32.475], \"type\": \"scatter\", \"uid\": \"d5f0d87b-e702-11e8-8ddb-a41f72875c19\"}, {\"name\": \"\\u975e\\u4e00\\u6b21\\u901a\\u8fc7\\u5e73\\u5747\\u65f6\\u957f\", \"x\": [8, 9, 10, 11], \"y\": [32.065999999999995, 37.6025, 47.242000000000004, 64.485], \"type\": \"scatter\", \"uid\": \"d5f0d87c-e702-11e8-8ddb-a41f72875c19\"}, {\"name\": \"\\u4e00\\u6b21\\u901a\\u8fc7\\u5e73\\u5747\\u65f6\\u957f\", \"x\": [8, 9, 10, 11], \"y\": [6.192, 5.2475, 3.1079999999999997, 4.625], \"type\": \"scatter\", \"uid\": \"d5f0d87d-e702-11e8-8ddb-a41f72875c19\"}], {\"title\": \"\\u901a\\u8fc7\\u65f6\\u957fQ80&\\u5e73\\u5747\\u901a\\u8fc7\\u65f6\\u957f&\\u975e\\u4e00\\u6b21\\u901a\\u8fc7\\u5e73\\u5747\\u65f6\\u957f&\\u4e00\\u6b21\\u901a\\u8fc7\\u5e73\\u5747\\u65f6\\u957f\\u6708\\u8d8b\\u52bf\\u56fe\", \"xaxis\": {\"mirror\": \"all\", \"nticks\": 20, \"showgrid\": true, \"showline\": true, \"title\": \"\\u6708\", \"type\": \"category\", \"zeroline\": true}, \"yaxis\": {\"mirror\": \"all\", \"nticks\": 20, \"showgrid\": true, \"showline\": true, \"title\": \"\\u901a\\u8fc7\\u65f6\\u957fQ80&\\u5e73\\u5747\\u901a\\u8fc7\\u65f6\\u957f&\\u975e\\u4e00\\u6b21\\u901a\\u8fc7\\u5e73\\u5747\\u65f6\\u957f&\\u4e00\\u6b21\\u901a\\u8fc7\\u5e73\\u5747\\u65f6\\u957f\", \"zeroline\": true}}, {\"showLink\": true, \"linkText\": \"Export to plot.ly\"})});</script>"
      ]
     },
     "metadata": {},
     "output_type": "display_data"
    },
    {
     "data": {
      "application/vnd.plotly.v1+json": {
       "data": [
        {
         "line": {
          "dash": "solid"
         },
         "name": "通过时长Q80(北京组)",
         "type": "scatter",
         "uid": "d5f0d87e-e702-11e8-8ddb-a41f72875c19",
         "x": [
          8,
          9,
          10,
          11
         ],
         "y": [
          37.013999999999996,
          42.7325,
          39.4475,
          32.67
         ]
        },
        {
         "line": {
          "dash": "dot"
         },
         "name": "通过时长Q80(义乌组)",
         "type": "scatter",
         "uid": "d5f0d87f-e702-11e8-8ddb-a41f72875c19",
         "x": [
          8,
          9,
          10,
          11
         ],
         "y": [
          null,
          null,
          95.3,
          77.82
         ]
        },
        {
         "line": {
          "dash": "solid"
         },
         "name": "平均通过时长(北京组)",
         "type": "scatter",
         "uid": "d5f0d880-e702-11e8-8ddb-a41f72875c19",
         "x": [
          8,
          9,
          10,
          11
         ],
         "y": [
          20.976,
          25.5275,
          22.1525,
          23.73
         ]
        },
        {
         "line": {
          "dash": "dot"
         },
         "name": "平均通过时长(义乌组)",
         "type": "scatter",
         "uid": "d5f0d881-e702-11e8-8ddb-a41f72875c19",
         "x": [
          8,
          9,
          10,
          11
         ],
         "y": [
          null,
          null,
          95.3,
          41.22
         ]
        },
        {
         "line": {
          "dash": "solid"
         },
         "name": "非一次通过平均时长(北京组)",
         "type": "scatter",
         "uid": "d5f0d882-e702-11e8-8ddb-a41f72875c19",
         "x": [
          8,
          9,
          10,
          11
         ],
         "y": [
          32.065999999999995,
          37.6025,
          35.2275,
          51.15
         ]
        },
        {
         "line": {
          "dash": "dot"
         },
         "name": "非一次通过平均时长(义乌组)",
         "type": "scatter",
         "uid": "d5f0d883-e702-11e8-8ddb-a41f72875c19",
         "x": [
          8,
          9,
          10,
          11
         ],
         "y": [
          null,
          null,
          95.3,
          77.82
         ]
        },
        {
         "line": {
          "dash": "solid"
         },
         "name": "一次通过平均时长(北京组)",
         "type": "scatter",
         "uid": "d5f0d884-e702-11e8-8ddb-a41f72875c19",
         "x": [
          8,
          9,
          10,
          11
         ],
         "y": [
          6.192,
          5.2475,
          3.885,
          4.75
         ]
        },
        {
         "line": {
          "dash": "dot"
         },
         "name": "一次通过平均时长(义乌组)",
         "type": "scatter",
         "uid": "d5f0d885-e702-11e8-8ddb-a41f72875c19",
         "x": [
          8,
          9,
          10,
          11
         ],
         "y": [
          null,
          null,
          0,
          4.5
         ]
        }
       ],
       "layout": {
        "title": "通过时长Q80&平均通过时长&非一次通过平均时长&一次通过平均时长月趋势图",
        "xaxis": {
         "mirror": "all",
         "nticks": 20,
         "showgrid": true,
         "showline": true,
         "title": "月",
         "type": "category",
         "zeroline": true
        },
        "yaxis": {
         "mirror": "all",
         "nticks": 20,
         "showgrid": true,
         "showline": true,
         "title": "通过时长Q80&平均通过时长&非一次通过平均时长&一次通过平均时长",
         "zeroline": true
        }
       }
      },
      "text/html": [
       "<div id=\"e77d7ebe-cae0-42b5-bdbb-97e3f30e8ee0\" style=\"height: 525px; width: 100%;\" class=\"plotly-graph-div\"></div><script type=\"text/javascript\">require([\"plotly\"], function(Plotly) { window.PLOTLYENV=window.PLOTLYENV || {};window.PLOTLYENV.BASE_URL=\"https://plot.ly\";Plotly.newPlot(\"e77d7ebe-cae0-42b5-bdbb-97e3f30e8ee0\", [{\"line\": {\"dash\": \"solid\"}, \"name\": \"\\u901a\\u8fc7\\u65f6\\u957fQ80(\\u5317\\u4eac\\u7ec4)\", \"x\": [8, 9, 10, 11], \"y\": [37.013999999999996, 42.7325, 39.4475, 32.67], \"type\": \"scatter\", \"uid\": \"d5f0d87e-e702-11e8-8ddb-a41f72875c19\"}, {\"line\": {\"dash\": \"dot\"}, \"name\": \"\\u901a\\u8fc7\\u65f6\\u957fQ80(\\u4e49\\u4e4c\\u7ec4)\", \"x\": [8, 9, 10, 11], \"y\": [null, null, 95.3, 77.82], \"type\": \"scatter\", \"uid\": \"d5f0d87f-e702-11e8-8ddb-a41f72875c19\"}, {\"line\": {\"dash\": \"solid\"}, \"name\": \"\\u5e73\\u5747\\u901a\\u8fc7\\u65f6\\u957f(\\u5317\\u4eac\\u7ec4)\", \"x\": [8, 9, 10, 11], \"y\": [20.976, 25.5275, 22.1525, 23.73], \"type\": \"scatter\", \"uid\": \"d5f0d880-e702-11e8-8ddb-a41f72875c19\"}, {\"line\": {\"dash\": \"dot\"}, \"name\": \"\\u5e73\\u5747\\u901a\\u8fc7\\u65f6\\u957f(\\u4e49\\u4e4c\\u7ec4)\", \"x\": [8, 9, 10, 11], \"y\": [null, null, 95.3, 41.22], \"type\": \"scatter\", \"uid\": \"d5f0d881-e702-11e8-8ddb-a41f72875c19\"}, {\"line\": {\"dash\": \"solid\"}, \"name\": \"\\u975e\\u4e00\\u6b21\\u901a\\u8fc7\\u5e73\\u5747\\u65f6\\u957f(\\u5317\\u4eac\\u7ec4)\", \"x\": [8, 9, 10, 11], \"y\": [32.065999999999995, 37.6025, 35.2275, 51.15], \"type\": \"scatter\", \"uid\": \"d5f0d882-e702-11e8-8ddb-a41f72875c19\"}, {\"line\": {\"dash\": \"dot\"}, \"name\": \"\\u975e\\u4e00\\u6b21\\u901a\\u8fc7\\u5e73\\u5747\\u65f6\\u957f(\\u4e49\\u4e4c\\u7ec4)\", \"x\": [8, 9, 10, 11], \"y\": [null, null, 95.3, 77.82], \"type\": \"scatter\", \"uid\": \"d5f0d883-e702-11e8-8ddb-a41f72875c19\"}, {\"line\": {\"dash\": \"solid\"}, \"name\": \"\\u4e00\\u6b21\\u901a\\u8fc7\\u5e73\\u5747\\u65f6\\u957f(\\u5317\\u4eac\\u7ec4)\", \"x\": [8, 9, 10, 11], \"y\": [6.192, 5.2475, 3.885, 4.75], \"type\": \"scatter\", \"uid\": \"d5f0d884-e702-11e8-8ddb-a41f72875c19\"}, {\"line\": {\"dash\": \"dot\"}, \"name\": \"\\u4e00\\u6b21\\u901a\\u8fc7\\u5e73\\u5747\\u65f6\\u957f(\\u4e49\\u4e4c\\u7ec4)\", \"x\": [8, 9, 10, 11], \"y\": [null, null, 0.0, 4.5], \"type\": \"scatter\", \"uid\": \"d5f0d885-e702-11e8-8ddb-a41f72875c19\"}], {\"title\": \"\\u901a\\u8fc7\\u65f6\\u957fQ80&\\u5e73\\u5747\\u901a\\u8fc7\\u65f6\\u957f&\\u975e\\u4e00\\u6b21\\u901a\\u8fc7\\u5e73\\u5747\\u65f6\\u957f&\\u4e00\\u6b21\\u901a\\u8fc7\\u5e73\\u5747\\u65f6\\u957f\\u6708\\u8d8b\\u52bf\\u56fe\", \"xaxis\": {\"mirror\": \"all\", \"nticks\": 20, \"showgrid\": true, \"showline\": true, \"title\": \"\\u6708\", \"type\": \"category\", \"zeroline\": true}, \"yaxis\": {\"mirror\": \"all\", \"nticks\": 20, \"showgrid\": true, \"showline\": true, \"title\": \"\\u901a\\u8fc7\\u65f6\\u957fQ80&\\u5e73\\u5747\\u901a\\u8fc7\\u65f6\\u957f&\\u975e\\u4e00\\u6b21\\u901a\\u8fc7\\u5e73\\u5747\\u65f6\\u957f&\\u4e00\\u6b21\\u901a\\u8fc7\\u5e73\\u5747\\u65f6\\u957f\", \"zeroline\": true}}, {\"showLink\": true, \"linkText\": \"Export to plot.ly\"})});</script>"
      ],
      "text/vnd.plotly.v1+html": [
       "<div id=\"e77d7ebe-cae0-42b5-bdbb-97e3f30e8ee0\" style=\"height: 525px; width: 100%;\" class=\"plotly-graph-div\"></div><script type=\"text/javascript\">require([\"plotly\"], function(Plotly) { window.PLOTLYENV=window.PLOTLYENV || {};window.PLOTLYENV.BASE_URL=\"https://plot.ly\";Plotly.newPlot(\"e77d7ebe-cae0-42b5-bdbb-97e3f30e8ee0\", [{\"line\": {\"dash\": \"solid\"}, \"name\": \"\\u901a\\u8fc7\\u65f6\\u957fQ80(\\u5317\\u4eac\\u7ec4)\", \"x\": [8, 9, 10, 11], \"y\": [37.013999999999996, 42.7325, 39.4475, 32.67], \"type\": \"scatter\", \"uid\": \"d5f0d87e-e702-11e8-8ddb-a41f72875c19\"}, {\"line\": {\"dash\": \"dot\"}, \"name\": \"\\u901a\\u8fc7\\u65f6\\u957fQ80(\\u4e49\\u4e4c\\u7ec4)\", \"x\": [8, 9, 10, 11], \"y\": [null, null, 95.3, 77.82], \"type\": \"scatter\", \"uid\": \"d5f0d87f-e702-11e8-8ddb-a41f72875c19\"}, {\"line\": {\"dash\": \"solid\"}, \"name\": \"\\u5e73\\u5747\\u901a\\u8fc7\\u65f6\\u957f(\\u5317\\u4eac\\u7ec4)\", \"x\": [8, 9, 10, 11], \"y\": [20.976, 25.5275, 22.1525, 23.73], \"type\": \"scatter\", \"uid\": \"d5f0d880-e702-11e8-8ddb-a41f72875c19\"}, {\"line\": {\"dash\": \"dot\"}, \"name\": \"\\u5e73\\u5747\\u901a\\u8fc7\\u65f6\\u957f(\\u4e49\\u4e4c\\u7ec4)\", \"x\": [8, 9, 10, 11], \"y\": [null, null, 95.3, 41.22], \"type\": \"scatter\", \"uid\": \"d5f0d881-e702-11e8-8ddb-a41f72875c19\"}, {\"line\": {\"dash\": \"solid\"}, \"name\": \"\\u975e\\u4e00\\u6b21\\u901a\\u8fc7\\u5e73\\u5747\\u65f6\\u957f(\\u5317\\u4eac\\u7ec4)\", \"x\": [8, 9, 10, 11], \"y\": [32.065999999999995, 37.6025, 35.2275, 51.15], \"type\": \"scatter\", \"uid\": \"d5f0d882-e702-11e8-8ddb-a41f72875c19\"}, {\"line\": {\"dash\": \"dot\"}, \"name\": \"\\u975e\\u4e00\\u6b21\\u901a\\u8fc7\\u5e73\\u5747\\u65f6\\u957f(\\u4e49\\u4e4c\\u7ec4)\", \"x\": [8, 9, 10, 11], \"y\": [null, null, 95.3, 77.82], \"type\": \"scatter\", \"uid\": \"d5f0d883-e702-11e8-8ddb-a41f72875c19\"}, {\"line\": {\"dash\": \"solid\"}, \"name\": \"\\u4e00\\u6b21\\u901a\\u8fc7\\u5e73\\u5747\\u65f6\\u957f(\\u5317\\u4eac\\u7ec4)\", \"x\": [8, 9, 10, 11], \"y\": [6.192, 5.2475, 3.885, 4.75], \"type\": \"scatter\", \"uid\": \"d5f0d884-e702-11e8-8ddb-a41f72875c19\"}, {\"line\": {\"dash\": \"dot\"}, \"name\": \"\\u4e00\\u6b21\\u901a\\u8fc7\\u5e73\\u5747\\u65f6\\u957f(\\u4e49\\u4e4c\\u7ec4)\", \"x\": [8, 9, 10, 11], \"y\": [null, null, 0.0, 4.5], \"type\": \"scatter\", \"uid\": \"d5f0d885-e702-11e8-8ddb-a41f72875c19\"}], {\"title\": \"\\u901a\\u8fc7\\u65f6\\u957fQ80&\\u5e73\\u5747\\u901a\\u8fc7\\u65f6\\u957f&\\u975e\\u4e00\\u6b21\\u901a\\u8fc7\\u5e73\\u5747\\u65f6\\u957f&\\u4e00\\u6b21\\u901a\\u8fc7\\u5e73\\u5747\\u65f6\\u957f\\u6708\\u8d8b\\u52bf\\u56fe\", \"xaxis\": {\"mirror\": \"all\", \"nticks\": 20, \"showgrid\": true, \"showline\": true, \"title\": \"\\u6708\", \"type\": \"category\", \"zeroline\": true}, \"yaxis\": {\"mirror\": \"all\", \"nticks\": 20, \"showgrid\": true, \"showline\": true, \"title\": \"\\u901a\\u8fc7\\u65f6\\u957fQ80&\\u5e73\\u5747\\u901a\\u8fc7\\u65f6\\u957f&\\u975e\\u4e00\\u6b21\\u901a\\u8fc7\\u5e73\\u5747\\u65f6\\u957f&\\u4e00\\u6b21\\u901a\\u8fc7\\u5e73\\u5747\\u65f6\\u957f\", \"zeroline\": true}}, {\"showLink\": true, \"linkText\": \"Export to plot.ly\"})});</script>"
      ]
     },
     "metadata": {},
     "output_type": "display_data"
    }
   ],
   "source": [
    "ss = myModule.format(all_df2 ,\"month\" ,['平均通过时长', '一次通过平均时长','非一次通过平均时长','通过时长Q80' ])\n",
    "myModule.myPlot(ss.groupby('mean')).plot('line','月')\n",
    "\n",
    "ss = myModule.format(all_df2 ,\"month\" ,['平均通过时长', '一次通过平均时长','非一次通过平均时长','通过时长Q80' ])\n",
    "ss.add_group(\"组别\")\n",
    "myModule.myPlot(ss.groupby('mean')).plot('line','月')"
   ]
  },
  {
   "cell_type": "markdown",
   "metadata": {},
   "source": [
    "### 重点关注！：一次通过平均时长，xten一次通过时长，NovaS4一次通过时长"
   ]
  },
  {
   "cell_type": "code",
   "execution_count": 141,
   "metadata": {
    "collapsed": false
   },
   "outputs": [
    {
     "data": {
      "application/vnd.plotly.v1+json": {
       "data": [
        {
         "name": "一次通过平均时长",
         "type": "scatter",
         "uid": "d5f0d886-e702-11e8-8ddb-a41f72875c19",
         "x": [
          "8-1",
          "8-2",
          "8-3",
          "8-4",
          "8-5",
          "9-1",
          "9-2",
          "9-3",
          "9-4",
          "10-2",
          "10-3",
          "10-4",
          "10-5",
          "11-1"
         ],
         "y": [
          11.95,
          6.68,
          3.81,
          5.41,
          3.11,
          5.07,
          6.43,
          4.81,
          4.68,
          4.25,
          3.71,
          4.23,
          3.35,
          9.25
         ]
        },
        {
         "name": "xten一次通过时长",
         "type": "scatter",
         "uid": "d5f0d887-e702-11e8-8ddb-a41f72875c19",
         "x": [
          "8-1",
          "8-2",
          "8-3",
          "8-4",
          "8-5",
          "9-1",
          "9-2",
          "9-3",
          "9-4",
          "10-2",
          "10-3",
          "10-4",
          "10-5",
          "11-1"
         ],
         "y": [
          5.74,
          6.69,
          3.34,
          3.78,
          2.97,
          3.58,
          4.77,
          3.37,
          4.08,
          4.25,
          3.42,
          3.35,
          4.4,
          3.09
         ]
        },
        {
         "name": "NovaS4一次通过时长",
         "type": "scatter",
         "uid": "d5f0d888-e702-11e8-8ddb-a41f72875c19",
         "x": [
          "8-1",
          "8-2",
          "8-3",
          "8-4",
          "8-5",
          "9-1",
          "9-2",
          "9-3",
          "9-4",
          "10-2",
          "10-3",
          "10-4",
          "10-5",
          "11-1"
         ],
         "y": [
          13.29,
          4.73,
          10.54,
          10.54,
          0,
          14.88,
          9.9,
          0,
          0,
          4.66,
          5.87,
          8.25,
          7.3,
          10.07
         ]
        }
       ],
       "layout": {
        "title": "一次通过平均时长&xten一次通过时长&NovaS4一次通过时长周趋势图",
        "xaxis": {
         "mirror": "all",
         "nticks": 20,
         "showgrid": true,
         "showline": true,
         "title": "周",
         "type": "category",
         "zeroline": true
        },
        "yaxis": {
         "mirror": "all",
         "nticks": 20,
         "showgrid": true,
         "showline": true,
         "title": "一次通过平均时长&xten一次通过时长&NovaS4一次通过时长",
         "zeroline": true
        }
       }
      },
      "text/html": [
       "<div id=\"acb4342a-91f3-42bc-93cd-719a2fc59d1b\" style=\"height: 525px; width: 100%;\" class=\"plotly-graph-div\"></div><script type=\"text/javascript\">require([\"plotly\"], function(Plotly) { window.PLOTLYENV=window.PLOTLYENV || {};window.PLOTLYENV.BASE_URL=\"https://plot.ly\";Plotly.newPlot(\"acb4342a-91f3-42bc-93cd-719a2fc59d1b\", [{\"name\": \"\\u4e00\\u6b21\\u901a\\u8fc7\\u5e73\\u5747\\u65f6\\u957f\", \"x\": [\"8-1\", \"8-2\", \"8-3\", \"8-4\", \"8-5\", \"9-1\", \"9-2\", \"9-3\", \"9-4\", \"10-2\", \"10-3\", \"10-4\", \"10-5\", \"11-1\"], \"y\": [11.95, 6.68, 3.81, 5.41, 3.11, 5.07, 6.43, 4.81, 4.68, 4.25, 3.71, 4.23, 3.35, 9.25], \"type\": \"scatter\", \"uid\": \"d5f0d886-e702-11e8-8ddb-a41f72875c19\"}, {\"name\": \"xten\\u4e00\\u6b21\\u901a\\u8fc7\\u65f6\\u957f\", \"x\": [\"8-1\", \"8-2\", \"8-3\", \"8-4\", \"8-5\", \"9-1\", \"9-2\", \"9-3\", \"9-4\", \"10-2\", \"10-3\", \"10-4\", \"10-5\", \"11-1\"], \"y\": [5.74, 6.69, 3.34, 3.78, 2.97, 3.58, 4.77, 3.37, 4.08, 4.25, 3.42, 3.35, 4.4, 3.09], \"type\": \"scatter\", \"uid\": \"d5f0d887-e702-11e8-8ddb-a41f72875c19\"}, {\"name\": \"NovaS4\\u4e00\\u6b21\\u901a\\u8fc7\\u65f6\\u957f\", \"x\": [\"8-1\", \"8-2\", \"8-3\", \"8-4\", \"8-5\", \"9-1\", \"9-2\", \"9-3\", \"9-4\", \"10-2\", \"10-3\", \"10-4\", \"10-5\", \"11-1\"], \"y\": [13.29, 4.73, 10.54, 10.54, 0.0, 14.88, 9.9, 0.0, 0.0, 4.66, 5.87, 8.25, 7.3, 10.07], \"type\": \"scatter\", \"uid\": \"d5f0d888-e702-11e8-8ddb-a41f72875c19\"}], {\"title\": \"\\u4e00\\u6b21\\u901a\\u8fc7\\u5e73\\u5747\\u65f6\\u957f&xten\\u4e00\\u6b21\\u901a\\u8fc7\\u65f6\\u957f&NovaS4\\u4e00\\u6b21\\u901a\\u8fc7\\u65f6\\u957f\\u5468\\u8d8b\\u52bf\\u56fe\", \"xaxis\": {\"mirror\": \"all\", \"nticks\": 20, \"showgrid\": true, \"showline\": true, \"title\": \"\\u5468\", \"type\": \"category\", \"zeroline\": true}, \"yaxis\": {\"mirror\": \"all\", \"nticks\": 20, \"showgrid\": true, \"showline\": true, \"title\": \"\\u4e00\\u6b21\\u901a\\u8fc7\\u5e73\\u5747\\u65f6\\u957f&xten\\u4e00\\u6b21\\u901a\\u8fc7\\u65f6\\u957f&NovaS4\\u4e00\\u6b21\\u901a\\u8fc7\\u65f6\\u957f\", \"zeroline\": true}}, {\"showLink\": true, \"linkText\": \"Export to plot.ly\"})});</script>"
      ],
      "text/vnd.plotly.v1+html": [
       "<div id=\"acb4342a-91f3-42bc-93cd-719a2fc59d1b\" style=\"height: 525px; width: 100%;\" class=\"plotly-graph-div\"></div><script type=\"text/javascript\">require([\"plotly\"], function(Plotly) { window.PLOTLYENV=window.PLOTLYENV || {};window.PLOTLYENV.BASE_URL=\"https://plot.ly\";Plotly.newPlot(\"acb4342a-91f3-42bc-93cd-719a2fc59d1b\", [{\"name\": \"\\u4e00\\u6b21\\u901a\\u8fc7\\u5e73\\u5747\\u65f6\\u957f\", \"x\": [\"8-1\", \"8-2\", \"8-3\", \"8-4\", \"8-5\", \"9-1\", \"9-2\", \"9-3\", \"9-4\", \"10-2\", \"10-3\", \"10-4\", \"10-5\", \"11-1\"], \"y\": [11.95, 6.68, 3.81, 5.41, 3.11, 5.07, 6.43, 4.81, 4.68, 4.25, 3.71, 4.23, 3.35, 9.25], \"type\": \"scatter\", \"uid\": \"d5f0d886-e702-11e8-8ddb-a41f72875c19\"}, {\"name\": \"xten\\u4e00\\u6b21\\u901a\\u8fc7\\u65f6\\u957f\", \"x\": [\"8-1\", \"8-2\", \"8-3\", \"8-4\", \"8-5\", \"9-1\", \"9-2\", \"9-3\", \"9-4\", \"10-2\", \"10-3\", \"10-4\", \"10-5\", \"11-1\"], \"y\": [5.74, 6.69, 3.34, 3.78, 2.97, 3.58, 4.77, 3.37, 4.08, 4.25, 3.42, 3.35, 4.4, 3.09], \"type\": \"scatter\", \"uid\": \"d5f0d887-e702-11e8-8ddb-a41f72875c19\"}, {\"name\": \"NovaS4\\u4e00\\u6b21\\u901a\\u8fc7\\u65f6\\u957f\", \"x\": [\"8-1\", \"8-2\", \"8-3\", \"8-4\", \"8-5\", \"9-1\", \"9-2\", \"9-3\", \"9-4\", \"10-2\", \"10-3\", \"10-4\", \"10-5\", \"11-1\"], \"y\": [13.29, 4.73, 10.54, 10.54, 0.0, 14.88, 9.9, 0.0, 0.0, 4.66, 5.87, 8.25, 7.3, 10.07], \"type\": \"scatter\", \"uid\": \"d5f0d888-e702-11e8-8ddb-a41f72875c19\"}], {\"title\": \"\\u4e00\\u6b21\\u901a\\u8fc7\\u5e73\\u5747\\u65f6\\u957f&xten\\u4e00\\u6b21\\u901a\\u8fc7\\u65f6\\u957f&NovaS4\\u4e00\\u6b21\\u901a\\u8fc7\\u65f6\\u957f\\u5468\\u8d8b\\u52bf\\u56fe\", \"xaxis\": {\"mirror\": \"all\", \"nticks\": 20, \"showgrid\": true, \"showline\": true, \"title\": \"\\u5468\", \"type\": \"category\", \"zeroline\": true}, \"yaxis\": {\"mirror\": \"all\", \"nticks\": 20, \"showgrid\": true, \"showline\": true, \"title\": \"\\u4e00\\u6b21\\u901a\\u8fc7\\u5e73\\u5747\\u65f6\\u957f&xten\\u4e00\\u6b21\\u901a\\u8fc7\\u65f6\\u957f&NovaS4\\u4e00\\u6b21\\u901a\\u8fc7\\u65f6\\u957f\", \"zeroline\": true}}, {\"showLink\": true, \"linkText\": \"Export to plot.ly\"})});</script>"
      ]
     },
     "metadata": {},
     "output_type": "display_data"
    },
    {
     "data": {
      "application/vnd.plotly.v1+json": {
       "data": [
        {
         "line": {
          "dash": "solid"
         },
         "name": "一次通过平均时长(北京组)",
         "type": "scatter",
         "uid": "d5f0d889-e702-11e8-8ddb-a41f72875c19",
         "x": [
          "8-1",
          "8-2",
          "8-3",
          "8-4",
          "8-5",
          "9-1",
          "9-2",
          "9-3",
          "9-4",
          "10-2",
          "10-3",
          "10-4",
          "10-5",
          "11-1"
         ],
         "y": [
          11.95,
          6.68,
          3.81,
          5.41,
          3.11,
          5.07,
          6.43,
          4.81,
          4.68,
          4.25,
          3.71,
          4.23,
          3.35,
          4.75
         ]
        },
        {
         "line": {
          "dash": "dot"
         },
         "name": "一次通过平均时长(义乌组)",
         "type": "scatter",
         "uid": "d5f0d88a-e702-11e8-8ddb-a41f72875c19",
         "x": [
          "8-1",
          "8-2",
          "8-3",
          "8-4",
          "8-5",
          "9-1",
          "9-2",
          "9-3",
          "9-4",
          "10-2",
          "10-3",
          "10-4",
          "10-5",
          "11-1"
         ],
         "y": [
          null,
          null,
          null,
          null,
          null,
          null,
          null,
          null,
          null,
          null,
          null,
          null,
          0,
          4.5
         ]
        },
        {
         "line": {
          "dash": "solid"
         },
         "name": "xten一次通过时长(北京组)",
         "type": "scatter",
         "uid": "d5f0d88b-e702-11e8-8ddb-a41f72875c19",
         "x": [
          "8-1",
          "8-2",
          "8-3",
          "8-4",
          "8-5",
          "9-1",
          "9-2",
          "9-3",
          "9-4",
          "10-2",
          "10-3",
          "10-4",
          "10-5",
          "11-1"
         ],
         "y": [
          5.74,
          6.69,
          3.34,
          3.78,
          2.97,
          3.58,
          4.77,
          3.37,
          4.08,
          4.25,
          3.42,
          3.35,
          4.4,
          3.09
         ]
        },
        {
         "line": {
          "dash": "dot"
         },
         "name": "xten一次通过时长(义乌组)",
         "type": "scatter",
         "uid": "d5f0d88c-e702-11e8-8ddb-a41f72875c19",
         "x": [
          "8-1",
          "8-2",
          "8-3",
          "8-4",
          "8-5",
          "9-1",
          "9-2",
          "9-3",
          "9-4",
          "10-2",
          "10-3",
          "10-4",
          "10-5",
          "11-1"
         ],
         "y": [
          null,
          null,
          null,
          null,
          null,
          null,
          null,
          null,
          null,
          null,
          null,
          null,
          0,
          0
         ]
        },
        {
         "line": {
          "dash": "solid"
         },
         "name": "NovaS4一次通过时长(北京组)",
         "type": "scatter",
         "uid": "d5f0d88d-e702-11e8-8ddb-a41f72875c19",
         "x": [
          "8-1",
          "8-2",
          "8-3",
          "8-4",
          "8-5",
          "9-1",
          "9-2",
          "9-3",
          "9-4",
          "10-2",
          "10-3",
          "10-4",
          "10-5",
          "11-1"
         ],
         "y": [
          13.29,
          4.73,
          10.54,
          10.54,
          0,
          14.88,
          9.9,
          0,
          0,
          4.66,
          5.87,
          8.25,
          7.3,
          5.45
         ]
        },
        {
         "line": {
          "dash": "dot"
         },
         "name": "NovaS4一次通过时长(义乌组)",
         "type": "scatter",
         "uid": "d5f0d88e-e702-11e8-8ddb-a41f72875c19",
         "x": [
          "8-1",
          "8-2",
          "8-3",
          "8-4",
          "8-5",
          "9-1",
          "9-2",
          "9-3",
          "9-4",
          "10-2",
          "10-3",
          "10-4",
          "10-5",
          "11-1"
         ],
         "y": [
          null,
          null,
          null,
          null,
          null,
          null,
          null,
          null,
          null,
          null,
          null,
          null,
          0,
          4.62
         ]
        }
       ],
       "layout": {
        "title": "一次通过平均时长&xten一次通过时长&NovaS4一次通过时长周趋势图",
        "xaxis": {
         "mirror": "all",
         "nticks": 20,
         "showgrid": true,
         "showline": true,
         "title": "周",
         "type": "category",
         "zeroline": true
        },
        "yaxis": {
         "mirror": "all",
         "nticks": 20,
         "showgrid": true,
         "showline": true,
         "title": "一次通过平均时长&xten一次通过时长&NovaS4一次通过时长",
         "zeroline": true
        }
       }
      },
      "text/html": [
       "<div id=\"81aebe61-9826-425b-8ada-0ea304b0e73e\" style=\"height: 525px; width: 100%;\" class=\"plotly-graph-div\"></div><script type=\"text/javascript\">require([\"plotly\"], function(Plotly) { window.PLOTLYENV=window.PLOTLYENV || {};window.PLOTLYENV.BASE_URL=\"https://plot.ly\";Plotly.newPlot(\"81aebe61-9826-425b-8ada-0ea304b0e73e\", [{\"line\": {\"dash\": \"solid\"}, \"name\": \"\\u4e00\\u6b21\\u901a\\u8fc7\\u5e73\\u5747\\u65f6\\u957f(\\u5317\\u4eac\\u7ec4)\", \"x\": [\"8-1\", \"8-2\", \"8-3\", \"8-4\", \"8-5\", \"9-1\", \"9-2\", \"9-3\", \"9-4\", \"10-2\", \"10-3\", \"10-4\", \"10-5\", \"11-1\"], \"y\": [11.95, 6.68, 3.81, 5.41, 3.11, 5.07, 6.43, 4.81, 4.68, 4.25, 3.71, 4.23, 3.35, 4.75], \"type\": \"scatter\", \"uid\": \"d5f0d889-e702-11e8-8ddb-a41f72875c19\"}, {\"line\": {\"dash\": \"dot\"}, \"name\": \"\\u4e00\\u6b21\\u901a\\u8fc7\\u5e73\\u5747\\u65f6\\u957f(\\u4e49\\u4e4c\\u7ec4)\", \"x\": [\"8-1\", \"8-2\", \"8-3\", \"8-4\", \"8-5\", \"9-1\", \"9-2\", \"9-3\", \"9-4\", \"10-2\", \"10-3\", \"10-4\", \"10-5\", \"11-1\"], \"y\": [null, null, null, null, null, null, null, null, null, null, null, null, 0.0, 4.5], \"type\": \"scatter\", \"uid\": \"d5f0d88a-e702-11e8-8ddb-a41f72875c19\"}, {\"line\": {\"dash\": \"solid\"}, \"name\": \"xten\\u4e00\\u6b21\\u901a\\u8fc7\\u65f6\\u957f(\\u5317\\u4eac\\u7ec4)\", \"x\": [\"8-1\", \"8-2\", \"8-3\", \"8-4\", \"8-5\", \"9-1\", \"9-2\", \"9-3\", \"9-4\", \"10-2\", \"10-3\", \"10-4\", \"10-5\", \"11-1\"], \"y\": [5.74, 6.69, 3.34, 3.78, 2.97, 3.58, 4.77, 3.37, 4.08, 4.25, 3.42, 3.35, 4.4, 3.09], \"type\": \"scatter\", \"uid\": \"d5f0d88b-e702-11e8-8ddb-a41f72875c19\"}, {\"line\": {\"dash\": \"dot\"}, \"name\": \"xten\\u4e00\\u6b21\\u901a\\u8fc7\\u65f6\\u957f(\\u4e49\\u4e4c\\u7ec4)\", \"x\": [\"8-1\", \"8-2\", \"8-3\", \"8-4\", \"8-5\", \"9-1\", \"9-2\", \"9-3\", \"9-4\", \"10-2\", \"10-3\", \"10-4\", \"10-5\", \"11-1\"], \"y\": [null, null, null, null, null, null, null, null, null, null, null, null, 0.0, 0.0], \"type\": \"scatter\", \"uid\": \"d5f0d88c-e702-11e8-8ddb-a41f72875c19\"}, {\"line\": {\"dash\": \"solid\"}, \"name\": \"NovaS4\\u4e00\\u6b21\\u901a\\u8fc7\\u65f6\\u957f(\\u5317\\u4eac\\u7ec4)\", \"x\": [\"8-1\", \"8-2\", \"8-3\", \"8-4\", \"8-5\", \"9-1\", \"9-2\", \"9-3\", \"9-4\", \"10-2\", \"10-3\", \"10-4\", \"10-5\", \"11-1\"], \"y\": [13.29, 4.73, 10.54, 10.54, 0.0, 14.88, 9.9, 0.0, 0.0, 4.66, 5.87, 8.25, 7.3, 5.45], \"type\": \"scatter\", \"uid\": \"d5f0d88d-e702-11e8-8ddb-a41f72875c19\"}, {\"line\": {\"dash\": \"dot\"}, \"name\": \"NovaS4\\u4e00\\u6b21\\u901a\\u8fc7\\u65f6\\u957f(\\u4e49\\u4e4c\\u7ec4)\", \"x\": [\"8-1\", \"8-2\", \"8-3\", \"8-4\", \"8-5\", \"9-1\", \"9-2\", \"9-3\", \"9-4\", \"10-2\", \"10-3\", \"10-4\", \"10-5\", \"11-1\"], \"y\": [null, null, null, null, null, null, null, null, null, null, null, null, 0.0, 4.62], \"type\": \"scatter\", \"uid\": \"d5f0d88e-e702-11e8-8ddb-a41f72875c19\"}], {\"title\": \"\\u4e00\\u6b21\\u901a\\u8fc7\\u5e73\\u5747\\u65f6\\u957f&xten\\u4e00\\u6b21\\u901a\\u8fc7\\u65f6\\u957f&NovaS4\\u4e00\\u6b21\\u901a\\u8fc7\\u65f6\\u957f\\u5468\\u8d8b\\u52bf\\u56fe\", \"xaxis\": {\"mirror\": \"all\", \"nticks\": 20, \"showgrid\": true, \"showline\": true, \"title\": \"\\u5468\", \"type\": \"category\", \"zeroline\": true}, \"yaxis\": {\"mirror\": \"all\", \"nticks\": 20, \"showgrid\": true, \"showline\": true, \"title\": \"\\u4e00\\u6b21\\u901a\\u8fc7\\u5e73\\u5747\\u65f6\\u957f&xten\\u4e00\\u6b21\\u901a\\u8fc7\\u65f6\\u957f&NovaS4\\u4e00\\u6b21\\u901a\\u8fc7\\u65f6\\u957f\", \"zeroline\": true}}, {\"showLink\": true, \"linkText\": \"Export to plot.ly\"})});</script>"
      ],
      "text/vnd.plotly.v1+html": [
       "<div id=\"81aebe61-9826-425b-8ada-0ea304b0e73e\" style=\"height: 525px; width: 100%;\" class=\"plotly-graph-div\"></div><script type=\"text/javascript\">require([\"plotly\"], function(Plotly) { window.PLOTLYENV=window.PLOTLYENV || {};window.PLOTLYENV.BASE_URL=\"https://plot.ly\";Plotly.newPlot(\"81aebe61-9826-425b-8ada-0ea304b0e73e\", [{\"line\": {\"dash\": \"solid\"}, \"name\": \"\\u4e00\\u6b21\\u901a\\u8fc7\\u5e73\\u5747\\u65f6\\u957f(\\u5317\\u4eac\\u7ec4)\", \"x\": [\"8-1\", \"8-2\", \"8-3\", \"8-4\", \"8-5\", \"9-1\", \"9-2\", \"9-3\", \"9-4\", \"10-2\", \"10-3\", \"10-4\", \"10-5\", \"11-1\"], \"y\": [11.95, 6.68, 3.81, 5.41, 3.11, 5.07, 6.43, 4.81, 4.68, 4.25, 3.71, 4.23, 3.35, 4.75], \"type\": \"scatter\", \"uid\": \"d5f0d889-e702-11e8-8ddb-a41f72875c19\"}, {\"line\": {\"dash\": \"dot\"}, \"name\": \"\\u4e00\\u6b21\\u901a\\u8fc7\\u5e73\\u5747\\u65f6\\u957f(\\u4e49\\u4e4c\\u7ec4)\", \"x\": [\"8-1\", \"8-2\", \"8-3\", \"8-4\", \"8-5\", \"9-1\", \"9-2\", \"9-3\", \"9-4\", \"10-2\", \"10-3\", \"10-4\", \"10-5\", \"11-1\"], \"y\": [null, null, null, null, null, null, null, null, null, null, null, null, 0.0, 4.5], \"type\": \"scatter\", \"uid\": \"d5f0d88a-e702-11e8-8ddb-a41f72875c19\"}, {\"line\": {\"dash\": \"solid\"}, \"name\": \"xten\\u4e00\\u6b21\\u901a\\u8fc7\\u65f6\\u957f(\\u5317\\u4eac\\u7ec4)\", \"x\": [\"8-1\", \"8-2\", \"8-3\", \"8-4\", \"8-5\", \"9-1\", \"9-2\", \"9-3\", \"9-4\", \"10-2\", \"10-3\", \"10-4\", \"10-5\", \"11-1\"], \"y\": [5.74, 6.69, 3.34, 3.78, 2.97, 3.58, 4.77, 3.37, 4.08, 4.25, 3.42, 3.35, 4.4, 3.09], \"type\": \"scatter\", \"uid\": \"d5f0d88b-e702-11e8-8ddb-a41f72875c19\"}, {\"line\": {\"dash\": \"dot\"}, \"name\": \"xten\\u4e00\\u6b21\\u901a\\u8fc7\\u65f6\\u957f(\\u4e49\\u4e4c\\u7ec4)\", \"x\": [\"8-1\", \"8-2\", \"8-3\", \"8-4\", \"8-5\", \"9-1\", \"9-2\", \"9-3\", \"9-4\", \"10-2\", \"10-3\", \"10-4\", \"10-5\", \"11-1\"], \"y\": [null, null, null, null, null, null, null, null, null, null, null, null, 0.0, 0.0], \"type\": \"scatter\", \"uid\": \"d5f0d88c-e702-11e8-8ddb-a41f72875c19\"}, {\"line\": {\"dash\": \"solid\"}, \"name\": \"NovaS4\\u4e00\\u6b21\\u901a\\u8fc7\\u65f6\\u957f(\\u5317\\u4eac\\u7ec4)\", \"x\": [\"8-1\", \"8-2\", \"8-3\", \"8-4\", \"8-5\", \"9-1\", \"9-2\", \"9-3\", \"9-4\", \"10-2\", \"10-3\", \"10-4\", \"10-5\", \"11-1\"], \"y\": [13.29, 4.73, 10.54, 10.54, 0.0, 14.88, 9.9, 0.0, 0.0, 4.66, 5.87, 8.25, 7.3, 5.45], \"type\": \"scatter\", \"uid\": \"d5f0d88d-e702-11e8-8ddb-a41f72875c19\"}, {\"line\": {\"dash\": \"dot\"}, \"name\": \"NovaS4\\u4e00\\u6b21\\u901a\\u8fc7\\u65f6\\u957f(\\u4e49\\u4e4c\\u7ec4)\", \"x\": [\"8-1\", \"8-2\", \"8-3\", \"8-4\", \"8-5\", \"9-1\", \"9-2\", \"9-3\", \"9-4\", \"10-2\", \"10-3\", \"10-4\", \"10-5\", \"11-1\"], \"y\": [null, null, null, null, null, null, null, null, null, null, null, null, 0.0, 4.62], \"type\": \"scatter\", \"uid\": \"d5f0d88e-e702-11e8-8ddb-a41f72875c19\"}], {\"title\": \"\\u4e00\\u6b21\\u901a\\u8fc7\\u5e73\\u5747\\u65f6\\u957f&xten\\u4e00\\u6b21\\u901a\\u8fc7\\u65f6\\u957f&NovaS4\\u4e00\\u6b21\\u901a\\u8fc7\\u65f6\\u957f\\u5468\\u8d8b\\u52bf\\u56fe\", \"xaxis\": {\"mirror\": \"all\", \"nticks\": 20, \"showgrid\": true, \"showline\": true, \"title\": \"\\u5468\", \"type\": \"category\", \"zeroline\": true}, \"yaxis\": {\"mirror\": \"all\", \"nticks\": 20, \"showgrid\": true, \"showline\": true, \"title\": \"\\u4e00\\u6b21\\u901a\\u8fc7\\u5e73\\u5747\\u65f6\\u957f&xten\\u4e00\\u6b21\\u901a\\u8fc7\\u65f6\\u957f&NovaS4\\u4e00\\u6b21\\u901a\\u8fc7\\u65f6\\u957f\", \"zeroline\": true}}, {\"showLink\": true, \"linkText\": \"Export to plot.ly\"})});</script>"
      ]
     },
     "metadata": {},
     "output_type": "display_data"
    }
   ],
   "source": [
    "ss = myModule.format(all_df2 ,\"日期（格式“月-周次”）\" ,[ '一次通过平均时长','xten一次通过时长','NovaS4一次通过时长' ])\n",
    "myModule.myPlot(myModule.sort_by_index(ss.groupby('sum'))).plot('line')\n",
    "\n",
    "ss = myModule.format(all_df2 ,\"日期（格式“月-周次”）\" ,[ '一次通过平均时长','xten一次通过时长','NovaS4一次通过时长' ])\n",
    "ss.add_group(\"组别\")\n",
    "myModule.myPlot(myModule.sort_by_index(ss.groupby('sum'))).plot('line')"
   ]
  },
  {
   "cell_type": "code",
   "execution_count": 142,
   "metadata": {
    "collapsed": false
   },
   "outputs": [
    {
     "data": {
      "application/vnd.plotly.v1+json": {
       "data": [
        {
         "name": "一次通过平均时长",
         "type": "scatter",
         "uid": "d5f0d88f-e702-11e8-8ddb-a41f72875c19",
         "x": [
          8,
          9,
          10,
          11
         ],
         "y": [
          6.192,
          5.2475,
          3.1079999999999997,
          4.625
         ]
        },
        {
         "name": "xten一次通过时长",
         "type": "scatter",
         "uid": "d5f0d890-e702-11e8-8ddb-a41f72875c19",
         "x": [
          8,
          9,
          10,
          11
         ],
         "y": [
          4.504,
          3.95,
          3.084,
          1.545
         ]
        },
        {
         "name": "NovaS4一次通过时长",
         "type": "scatter",
         "uid": "d5f0d891-e702-11e8-8ddb-a41f72875c19",
         "x": [
          8,
          9,
          10,
          11
         ],
         "y": [
          7.8199999999999985,
          6.195,
          5.216,
          5.035
         ]
        }
       ],
       "layout": {
        "title": "一次通过平均时长&xten一次通过时长&NovaS4一次通过时长月趋势图",
        "xaxis": {
         "mirror": "all",
         "nticks": 20,
         "showgrid": true,
         "showline": true,
         "title": "月",
         "type": "category",
         "zeroline": true
        },
        "yaxis": {
         "mirror": "all",
         "nticks": 20,
         "showgrid": true,
         "showline": true,
         "title": "一次通过平均时长&xten一次通过时长&NovaS4一次通过时长",
         "zeroline": true
        }
       }
      },
      "text/html": [
       "<div id=\"dfb4d1f9-2e49-4d83-8b18-017cfb1c7b89\" style=\"height: 525px; width: 100%;\" class=\"plotly-graph-div\"></div><script type=\"text/javascript\">require([\"plotly\"], function(Plotly) { window.PLOTLYENV=window.PLOTLYENV || {};window.PLOTLYENV.BASE_URL=\"https://plot.ly\";Plotly.newPlot(\"dfb4d1f9-2e49-4d83-8b18-017cfb1c7b89\", [{\"name\": \"\\u4e00\\u6b21\\u901a\\u8fc7\\u5e73\\u5747\\u65f6\\u957f\", \"x\": [8, 9, 10, 11], \"y\": [6.192, 5.2475, 3.1079999999999997, 4.625], \"type\": \"scatter\", \"uid\": \"d5f0d88f-e702-11e8-8ddb-a41f72875c19\"}, {\"name\": \"xten\\u4e00\\u6b21\\u901a\\u8fc7\\u65f6\\u957f\", \"x\": [8, 9, 10, 11], \"y\": [4.504, 3.95, 3.084, 1.545], \"type\": \"scatter\", \"uid\": \"d5f0d890-e702-11e8-8ddb-a41f72875c19\"}, {\"name\": \"NovaS4\\u4e00\\u6b21\\u901a\\u8fc7\\u65f6\\u957f\", \"x\": [8, 9, 10, 11], \"y\": [7.8199999999999985, 6.195, 5.216, 5.035], \"type\": \"scatter\", \"uid\": \"d5f0d891-e702-11e8-8ddb-a41f72875c19\"}], {\"title\": \"\\u4e00\\u6b21\\u901a\\u8fc7\\u5e73\\u5747\\u65f6\\u957f&xten\\u4e00\\u6b21\\u901a\\u8fc7\\u65f6\\u957f&NovaS4\\u4e00\\u6b21\\u901a\\u8fc7\\u65f6\\u957f\\u6708\\u8d8b\\u52bf\\u56fe\", \"xaxis\": {\"mirror\": \"all\", \"nticks\": 20, \"showgrid\": true, \"showline\": true, \"title\": \"\\u6708\", \"type\": \"category\", \"zeroline\": true}, \"yaxis\": {\"mirror\": \"all\", \"nticks\": 20, \"showgrid\": true, \"showline\": true, \"title\": \"\\u4e00\\u6b21\\u901a\\u8fc7\\u5e73\\u5747\\u65f6\\u957f&xten\\u4e00\\u6b21\\u901a\\u8fc7\\u65f6\\u957f&NovaS4\\u4e00\\u6b21\\u901a\\u8fc7\\u65f6\\u957f\", \"zeroline\": true}}, {\"showLink\": true, \"linkText\": \"Export to plot.ly\"})});</script>"
      ],
      "text/vnd.plotly.v1+html": [
       "<div id=\"dfb4d1f9-2e49-4d83-8b18-017cfb1c7b89\" style=\"height: 525px; width: 100%;\" class=\"plotly-graph-div\"></div><script type=\"text/javascript\">require([\"plotly\"], function(Plotly) { window.PLOTLYENV=window.PLOTLYENV || {};window.PLOTLYENV.BASE_URL=\"https://plot.ly\";Plotly.newPlot(\"dfb4d1f9-2e49-4d83-8b18-017cfb1c7b89\", [{\"name\": \"\\u4e00\\u6b21\\u901a\\u8fc7\\u5e73\\u5747\\u65f6\\u957f\", \"x\": [8, 9, 10, 11], \"y\": [6.192, 5.2475, 3.1079999999999997, 4.625], \"type\": \"scatter\", \"uid\": \"d5f0d88f-e702-11e8-8ddb-a41f72875c19\"}, {\"name\": \"xten\\u4e00\\u6b21\\u901a\\u8fc7\\u65f6\\u957f\", \"x\": [8, 9, 10, 11], \"y\": [4.504, 3.95, 3.084, 1.545], \"type\": \"scatter\", \"uid\": \"d5f0d890-e702-11e8-8ddb-a41f72875c19\"}, {\"name\": \"NovaS4\\u4e00\\u6b21\\u901a\\u8fc7\\u65f6\\u957f\", \"x\": [8, 9, 10, 11], \"y\": [7.8199999999999985, 6.195, 5.216, 5.035], \"type\": \"scatter\", \"uid\": \"d5f0d891-e702-11e8-8ddb-a41f72875c19\"}], {\"title\": \"\\u4e00\\u6b21\\u901a\\u8fc7\\u5e73\\u5747\\u65f6\\u957f&xten\\u4e00\\u6b21\\u901a\\u8fc7\\u65f6\\u957f&NovaS4\\u4e00\\u6b21\\u901a\\u8fc7\\u65f6\\u957f\\u6708\\u8d8b\\u52bf\\u56fe\", \"xaxis\": {\"mirror\": \"all\", \"nticks\": 20, \"showgrid\": true, \"showline\": true, \"title\": \"\\u6708\", \"type\": \"category\", \"zeroline\": true}, \"yaxis\": {\"mirror\": \"all\", \"nticks\": 20, \"showgrid\": true, \"showline\": true, \"title\": \"\\u4e00\\u6b21\\u901a\\u8fc7\\u5e73\\u5747\\u65f6\\u957f&xten\\u4e00\\u6b21\\u901a\\u8fc7\\u65f6\\u957f&NovaS4\\u4e00\\u6b21\\u901a\\u8fc7\\u65f6\\u957f\", \"zeroline\": true}}, {\"showLink\": true, \"linkText\": \"Export to plot.ly\"})});</script>"
      ]
     },
     "metadata": {},
     "output_type": "display_data"
    },
    {
     "data": {
      "application/vnd.plotly.v1+json": {
       "data": [
        {
         "line": {
          "dash": "solid"
         },
         "name": "一次通过平均时长(北京组)",
         "type": "scatter",
         "uid": "d5f0d892-e702-11e8-8ddb-a41f72875c19",
         "x": [
          8,
          9,
          10,
          11
         ],
         "y": [
          6.192,
          5.2475,
          3.885,
          4.75
         ]
        },
        {
         "line": {
          "dash": "dot"
         },
         "name": "一次通过平均时长(义乌组)",
         "type": "scatter",
         "uid": "d5f0d893-e702-11e8-8ddb-a41f72875c19",
         "x": [
          8,
          9,
          10,
          11
         ],
         "y": [
          null,
          null,
          0,
          4.5
         ]
        },
        {
         "line": {
          "dash": "solid"
         },
         "name": "xten一次通过时长(北京组)",
         "type": "scatter",
         "uid": "d5f0d894-e702-11e8-8ddb-a41f72875c19",
         "x": [
          8,
          9,
          10,
          11
         ],
         "y": [
          4.504,
          3.95,
          3.855,
          3.09
         ]
        },
        {
         "line": {
          "dash": "dot"
         },
         "name": "xten一次通过时长(义乌组)",
         "type": "scatter",
         "uid": "d5f0d895-e702-11e8-8ddb-a41f72875c19",
         "x": [
          8,
          9,
          10,
          11
         ],
         "y": [
          null,
          null,
          0,
          0
         ]
        },
        {
         "line": {
          "dash": "solid"
         },
         "name": "NovaS4一次通过时长(北京组)",
         "type": "scatter",
         "uid": "d5f0d896-e702-11e8-8ddb-a41f72875c19",
         "x": [
          8,
          9,
          10,
          11
         ],
         "y": [
          7.8199999999999985,
          6.195,
          6.5200000000000005,
          5.45
         ]
        },
        {
         "line": {
          "dash": "dot"
         },
         "name": "NovaS4一次通过时长(义乌组)",
         "type": "scatter",
         "uid": "d5f0d897-e702-11e8-8ddb-a41f72875c19",
         "x": [
          8,
          9,
          10,
          11
         ],
         "y": [
          null,
          null,
          0,
          4.62
         ]
        }
       ],
       "layout": {
        "title": "一次通过平均时长&xten一次通过时长&NovaS4一次通过时长月趋势图",
        "xaxis": {
         "mirror": "all",
         "nticks": 20,
         "showgrid": true,
         "showline": true,
         "title": "月",
         "type": "category",
         "zeroline": true
        },
        "yaxis": {
         "mirror": "all",
         "nticks": 20,
         "showgrid": true,
         "showline": true,
         "title": "一次通过平均时长&xten一次通过时长&NovaS4一次通过时长",
         "zeroline": true
        }
       }
      },
      "text/html": [
       "<div id=\"8bc79668-2d41-4ac8-8af2-12230620f0af\" style=\"height: 525px; width: 100%;\" class=\"plotly-graph-div\"></div><script type=\"text/javascript\">require([\"plotly\"], function(Plotly) { window.PLOTLYENV=window.PLOTLYENV || {};window.PLOTLYENV.BASE_URL=\"https://plot.ly\";Plotly.newPlot(\"8bc79668-2d41-4ac8-8af2-12230620f0af\", [{\"line\": {\"dash\": \"solid\"}, \"name\": \"\\u4e00\\u6b21\\u901a\\u8fc7\\u5e73\\u5747\\u65f6\\u957f(\\u5317\\u4eac\\u7ec4)\", \"x\": [8, 9, 10, 11], \"y\": [6.192, 5.2475, 3.885, 4.75], \"type\": \"scatter\", \"uid\": \"d5f0d892-e702-11e8-8ddb-a41f72875c19\"}, {\"line\": {\"dash\": \"dot\"}, \"name\": \"\\u4e00\\u6b21\\u901a\\u8fc7\\u5e73\\u5747\\u65f6\\u957f(\\u4e49\\u4e4c\\u7ec4)\", \"x\": [8, 9, 10, 11], \"y\": [null, null, 0.0, 4.5], \"type\": \"scatter\", \"uid\": \"d5f0d893-e702-11e8-8ddb-a41f72875c19\"}, {\"line\": {\"dash\": \"solid\"}, \"name\": \"xten\\u4e00\\u6b21\\u901a\\u8fc7\\u65f6\\u957f(\\u5317\\u4eac\\u7ec4)\", \"x\": [8, 9, 10, 11], \"y\": [4.504, 3.95, 3.855, 3.09], \"type\": \"scatter\", \"uid\": \"d5f0d894-e702-11e8-8ddb-a41f72875c19\"}, {\"line\": {\"dash\": \"dot\"}, \"name\": \"xten\\u4e00\\u6b21\\u901a\\u8fc7\\u65f6\\u957f(\\u4e49\\u4e4c\\u7ec4)\", \"x\": [8, 9, 10, 11], \"y\": [null, null, 0.0, 0.0], \"type\": \"scatter\", \"uid\": \"d5f0d895-e702-11e8-8ddb-a41f72875c19\"}, {\"line\": {\"dash\": \"solid\"}, \"name\": \"NovaS4\\u4e00\\u6b21\\u901a\\u8fc7\\u65f6\\u957f(\\u5317\\u4eac\\u7ec4)\", \"x\": [8, 9, 10, 11], \"y\": [7.8199999999999985, 6.195, 6.5200000000000005, 5.45], \"type\": \"scatter\", \"uid\": \"d5f0d896-e702-11e8-8ddb-a41f72875c19\"}, {\"line\": {\"dash\": \"dot\"}, \"name\": \"NovaS4\\u4e00\\u6b21\\u901a\\u8fc7\\u65f6\\u957f(\\u4e49\\u4e4c\\u7ec4)\", \"x\": [8, 9, 10, 11], \"y\": [null, null, 0.0, 4.62], \"type\": \"scatter\", \"uid\": \"d5f0d897-e702-11e8-8ddb-a41f72875c19\"}], {\"title\": \"\\u4e00\\u6b21\\u901a\\u8fc7\\u5e73\\u5747\\u65f6\\u957f&xten\\u4e00\\u6b21\\u901a\\u8fc7\\u65f6\\u957f&NovaS4\\u4e00\\u6b21\\u901a\\u8fc7\\u65f6\\u957f\\u6708\\u8d8b\\u52bf\\u56fe\", \"xaxis\": {\"mirror\": \"all\", \"nticks\": 20, \"showgrid\": true, \"showline\": true, \"title\": \"\\u6708\", \"type\": \"category\", \"zeroline\": true}, \"yaxis\": {\"mirror\": \"all\", \"nticks\": 20, \"showgrid\": true, \"showline\": true, \"title\": \"\\u4e00\\u6b21\\u901a\\u8fc7\\u5e73\\u5747\\u65f6\\u957f&xten\\u4e00\\u6b21\\u901a\\u8fc7\\u65f6\\u957f&NovaS4\\u4e00\\u6b21\\u901a\\u8fc7\\u65f6\\u957f\", \"zeroline\": true}}, {\"showLink\": true, \"linkText\": \"Export to plot.ly\"})});</script>"
      ],
      "text/vnd.plotly.v1+html": [
       "<div id=\"8bc79668-2d41-4ac8-8af2-12230620f0af\" style=\"height: 525px; width: 100%;\" class=\"plotly-graph-div\"></div><script type=\"text/javascript\">require([\"plotly\"], function(Plotly) { window.PLOTLYENV=window.PLOTLYENV || {};window.PLOTLYENV.BASE_URL=\"https://plot.ly\";Plotly.newPlot(\"8bc79668-2d41-4ac8-8af2-12230620f0af\", [{\"line\": {\"dash\": \"solid\"}, \"name\": \"\\u4e00\\u6b21\\u901a\\u8fc7\\u5e73\\u5747\\u65f6\\u957f(\\u5317\\u4eac\\u7ec4)\", \"x\": [8, 9, 10, 11], \"y\": [6.192, 5.2475, 3.885, 4.75], \"type\": \"scatter\", \"uid\": \"d5f0d892-e702-11e8-8ddb-a41f72875c19\"}, {\"line\": {\"dash\": \"dot\"}, \"name\": \"\\u4e00\\u6b21\\u901a\\u8fc7\\u5e73\\u5747\\u65f6\\u957f(\\u4e49\\u4e4c\\u7ec4)\", \"x\": [8, 9, 10, 11], \"y\": [null, null, 0.0, 4.5], \"type\": \"scatter\", \"uid\": \"d5f0d893-e702-11e8-8ddb-a41f72875c19\"}, {\"line\": {\"dash\": \"solid\"}, \"name\": \"xten\\u4e00\\u6b21\\u901a\\u8fc7\\u65f6\\u957f(\\u5317\\u4eac\\u7ec4)\", \"x\": [8, 9, 10, 11], \"y\": [4.504, 3.95, 3.855, 3.09], \"type\": \"scatter\", \"uid\": \"d5f0d894-e702-11e8-8ddb-a41f72875c19\"}, {\"line\": {\"dash\": \"dot\"}, \"name\": \"xten\\u4e00\\u6b21\\u901a\\u8fc7\\u65f6\\u957f(\\u4e49\\u4e4c\\u7ec4)\", \"x\": [8, 9, 10, 11], \"y\": [null, null, 0.0, 0.0], \"type\": \"scatter\", \"uid\": \"d5f0d895-e702-11e8-8ddb-a41f72875c19\"}, {\"line\": {\"dash\": \"solid\"}, \"name\": \"NovaS4\\u4e00\\u6b21\\u901a\\u8fc7\\u65f6\\u957f(\\u5317\\u4eac\\u7ec4)\", \"x\": [8, 9, 10, 11], \"y\": [7.8199999999999985, 6.195, 6.5200000000000005, 5.45], \"type\": \"scatter\", \"uid\": \"d5f0d896-e702-11e8-8ddb-a41f72875c19\"}, {\"line\": {\"dash\": \"dot\"}, \"name\": \"NovaS4\\u4e00\\u6b21\\u901a\\u8fc7\\u65f6\\u957f(\\u4e49\\u4e4c\\u7ec4)\", \"x\": [8, 9, 10, 11], \"y\": [null, null, 0.0, 4.62], \"type\": \"scatter\", \"uid\": \"d5f0d897-e702-11e8-8ddb-a41f72875c19\"}], {\"title\": \"\\u4e00\\u6b21\\u901a\\u8fc7\\u5e73\\u5747\\u65f6\\u957f&xten\\u4e00\\u6b21\\u901a\\u8fc7\\u65f6\\u957f&NovaS4\\u4e00\\u6b21\\u901a\\u8fc7\\u65f6\\u957f\\u6708\\u8d8b\\u52bf\\u56fe\", \"xaxis\": {\"mirror\": \"all\", \"nticks\": 20, \"showgrid\": true, \"showline\": true, \"title\": \"\\u6708\", \"type\": \"category\", \"zeroline\": true}, \"yaxis\": {\"mirror\": \"all\", \"nticks\": 20, \"showgrid\": true, \"showline\": true, \"title\": \"\\u4e00\\u6b21\\u901a\\u8fc7\\u5e73\\u5747\\u65f6\\u957f&xten\\u4e00\\u6b21\\u901a\\u8fc7\\u65f6\\u957f&NovaS4\\u4e00\\u6b21\\u901a\\u8fc7\\u65f6\\u957f\", \"zeroline\": true}}, {\"showLink\": true, \"linkText\": \"Export to plot.ly\"})});</script>"
      ]
     },
     "metadata": {},
     "output_type": "display_data"
    }
   ],
   "source": [
    "ss = myModule.format(all_df2 ,\"month\" ,[ '一次通过平均时长','xten一次通过时长','NovaS4一次通过时长' ])\n",
    "myModule.myPlot(ss.groupby('mean')).plot('line','月')\n",
    "\n",
    "ss = myModule.format(all_df2 ,\"month\" ,[ '一次通过平均时长','xten一次通过时长','NovaS4一次通过时长' ])\n",
    "ss.add_group(\"组别\")\n",
    "myModule.myPlot(ss.groupby('mean')).plot('line','月')"
   ]
  },
  {
   "cell_type": "markdown",
   "metadata": {},
   "source": [
    "### 异常"
   ]
  },
  {
   "cell_type": "markdown",
   "metadata": {},
   "source": [
    "####  测序异常，外来index错误，自建库index错误，lims系统错误，个性化拆分数"
   ]
  },
  {
   "cell_type": "code",
   "execution_count": 143,
   "metadata": {
    "collapsed": false
   },
   "outputs": [
    {
     "data": {
      "application/vnd.plotly.v1+json": {
       "data": [
        {
         "name": "测序异常",
         "type": "scatter",
         "uid": "d5f0d898-e702-11e8-8ddb-a41f72875c19",
         "x": [
          "8-1",
          "8-2",
          "8-3",
          "8-4",
          "8-5",
          "9-1",
          "9-2",
          "9-3",
          "9-4",
          "10-2",
          "10-3",
          "10-4",
          "10-5",
          "11-1"
         ],
         "y": [
          10,
          17,
          19,
          12,
          11,
          10,
          6,
          10,
          13,
          10,
          11,
          12,
          11,
          5
         ]
        },
        {
         "name": "个性化拆分数",
         "type": "scatter",
         "uid": "d5f0d899-e702-11e8-8ddb-a41f72875c19",
         "x": [
          "8-1",
          "8-2",
          "8-3",
          "8-4",
          "8-5",
          "9-1",
          "9-2",
          "9-3",
          "9-4",
          "10-2",
          "10-3",
          "10-4",
          "10-5",
          "11-1"
         ],
         "y": [
          3,
          1,
          0,
          2,
          3,
          1,
          0,
          1,
          2,
          4,
          2,
          2,
          0,
          2
         ]
        },
        {
         "name": "自建库Index错误",
         "type": "scatter",
         "uid": "d5f0d89a-e702-11e8-8ddb-a41f72875c19",
         "x": [
          "8-1",
          "8-2",
          "8-3",
          "8-4",
          "8-5",
          "9-1",
          "9-2",
          "9-3",
          "9-4",
          "10-2",
          "10-3",
          "10-4",
          "10-5",
          "11-1"
         ],
         "y": [
          0,
          2,
          0,
          2,
          2,
          1,
          0,
          0,
          0,
          1,
          2,
          0,
          0,
          0
         ]
        },
        {
         "name": "lims系统错误",
         "type": "scatter",
         "uid": "d5f0d89b-e702-11e8-8ddb-a41f72875c19",
         "x": [
          "8-1",
          "8-2",
          "8-3",
          "8-4",
          "8-5",
          "9-1",
          "9-2",
          "9-3",
          "9-4",
          "10-2",
          "10-3",
          "10-4",
          "10-5",
          "11-1"
         ],
         "y": [
          2,
          3,
          0,
          0,
          1,
          0,
          0,
          3,
          0,
          0,
          0,
          2,
          4,
          0
         ]
        },
        {
         "name": "外来Index错误",
         "type": "scatter",
         "uid": "d5f0d89c-e702-11e8-8ddb-a41f72875c19",
         "x": [
          "8-1",
          "8-2",
          "8-3",
          "8-4",
          "8-5",
          "9-1",
          "9-2",
          "9-3",
          "9-4",
          "10-2",
          "10-3",
          "10-4",
          "10-5",
          "11-1"
         ],
         "y": [
          2,
          8,
          4,
          4,
          2,
          8,
          3,
          11,
          12,
          8,
          5,
          9,
          14,
          8
         ]
        }
       ],
       "layout": {
        "title": "测序异常&个性化拆分数&自建库Index错误&lims系统错误&外来Index错误周趋势图",
        "xaxis": {
         "mirror": "all",
         "nticks": 20,
         "showgrid": true,
         "showline": true,
         "title": "周",
         "type": "category",
         "zeroline": true
        },
        "yaxis": {
         "mirror": "all",
         "nticks": 20,
         "showgrid": true,
         "showline": true,
         "title": "测序异常&个性化拆分数&自建库Index错误&lims系统错误&外来Index错误",
         "zeroline": true
        }
       }
      },
      "text/html": [
       "<div id=\"28622785-8cd3-47a4-b80a-c16f9bed28ca\" style=\"height: 525px; width: 100%;\" class=\"plotly-graph-div\"></div><script type=\"text/javascript\">require([\"plotly\"], function(Plotly) { window.PLOTLYENV=window.PLOTLYENV || {};window.PLOTLYENV.BASE_URL=\"https://plot.ly\";Plotly.newPlot(\"28622785-8cd3-47a4-b80a-c16f9bed28ca\", [{\"name\": \"\\u6d4b\\u5e8f\\u5f02\\u5e38\", \"x\": [\"8-1\", \"8-2\", \"8-3\", \"8-4\", \"8-5\", \"9-1\", \"9-2\", \"9-3\", \"9-4\", \"10-2\", \"10-3\", \"10-4\", \"10-5\", \"11-1\"], \"y\": [10, 17, 19, 12, 11, 10, 6, 10, 13, 10, 11, 12, 11, 5], \"type\": \"scatter\", \"uid\": \"d5f0d898-e702-11e8-8ddb-a41f72875c19\"}, {\"name\": \"\\u4e2a\\u6027\\u5316\\u62c6\\u5206\\u6570\", \"x\": [\"8-1\", \"8-2\", \"8-3\", \"8-4\", \"8-5\", \"9-1\", \"9-2\", \"9-3\", \"9-4\", \"10-2\", \"10-3\", \"10-4\", \"10-5\", \"11-1\"], \"y\": [3, 1, 0, 2, 3, 1, 0, 1, 2, 4, 2, 2, 0, 2], \"type\": \"scatter\", \"uid\": \"d5f0d899-e702-11e8-8ddb-a41f72875c19\"}, {\"name\": \"\\u81ea\\u5efa\\u5e93Index\\u9519\\u8bef\", \"x\": [\"8-1\", \"8-2\", \"8-3\", \"8-4\", \"8-5\", \"9-1\", \"9-2\", \"9-3\", \"9-4\", \"10-2\", \"10-3\", \"10-4\", \"10-5\", \"11-1\"], \"y\": [0, 2, 0, 2, 2, 1, 0, 0, 0, 1, 2, 0, 0, 0], \"type\": \"scatter\", \"uid\": \"d5f0d89a-e702-11e8-8ddb-a41f72875c19\"}, {\"name\": \"lims\\u7cfb\\u7edf\\u9519\\u8bef\", \"x\": [\"8-1\", \"8-2\", \"8-3\", \"8-4\", \"8-5\", \"9-1\", \"9-2\", \"9-3\", \"9-4\", \"10-2\", \"10-3\", \"10-4\", \"10-5\", \"11-1\"], \"y\": [2, 3, 0, 0, 1, 0, 0, 3, 0, 0, 0, 2, 4, 0], \"type\": \"scatter\", \"uid\": \"d5f0d89b-e702-11e8-8ddb-a41f72875c19\"}, {\"name\": \"\\u5916\\u6765Index\\u9519\\u8bef\", \"x\": [\"8-1\", \"8-2\", \"8-3\", \"8-4\", \"8-5\", \"9-1\", \"9-2\", \"9-3\", \"9-4\", \"10-2\", \"10-3\", \"10-4\", \"10-5\", \"11-1\"], \"y\": [2, 8, 4, 4, 2, 8, 3, 11, 12, 8, 5, 9, 14, 8], \"type\": \"scatter\", \"uid\": \"d5f0d89c-e702-11e8-8ddb-a41f72875c19\"}], {\"title\": \"\\u6d4b\\u5e8f\\u5f02\\u5e38&\\u4e2a\\u6027\\u5316\\u62c6\\u5206\\u6570&\\u81ea\\u5efa\\u5e93Index\\u9519\\u8bef&lims\\u7cfb\\u7edf\\u9519\\u8bef&\\u5916\\u6765Index\\u9519\\u8bef\\u5468\\u8d8b\\u52bf\\u56fe\", \"xaxis\": {\"mirror\": \"all\", \"nticks\": 20, \"showgrid\": true, \"showline\": true, \"title\": \"\\u5468\", \"type\": \"category\", \"zeroline\": true}, \"yaxis\": {\"mirror\": \"all\", \"nticks\": 20, \"showgrid\": true, \"showline\": true, \"title\": \"\\u6d4b\\u5e8f\\u5f02\\u5e38&\\u4e2a\\u6027\\u5316\\u62c6\\u5206\\u6570&\\u81ea\\u5efa\\u5e93Index\\u9519\\u8bef&lims\\u7cfb\\u7edf\\u9519\\u8bef&\\u5916\\u6765Index\\u9519\\u8bef\", \"zeroline\": true}}, {\"showLink\": true, \"linkText\": \"Export to plot.ly\"})});</script>"
      ],
      "text/vnd.plotly.v1+html": [
       "<div id=\"28622785-8cd3-47a4-b80a-c16f9bed28ca\" style=\"height: 525px; width: 100%;\" class=\"plotly-graph-div\"></div><script type=\"text/javascript\">require([\"plotly\"], function(Plotly) { window.PLOTLYENV=window.PLOTLYENV || {};window.PLOTLYENV.BASE_URL=\"https://plot.ly\";Plotly.newPlot(\"28622785-8cd3-47a4-b80a-c16f9bed28ca\", [{\"name\": \"\\u6d4b\\u5e8f\\u5f02\\u5e38\", \"x\": [\"8-1\", \"8-2\", \"8-3\", \"8-4\", \"8-5\", \"9-1\", \"9-2\", \"9-3\", \"9-4\", \"10-2\", \"10-3\", \"10-4\", \"10-5\", \"11-1\"], \"y\": [10, 17, 19, 12, 11, 10, 6, 10, 13, 10, 11, 12, 11, 5], \"type\": \"scatter\", \"uid\": \"d5f0d898-e702-11e8-8ddb-a41f72875c19\"}, {\"name\": \"\\u4e2a\\u6027\\u5316\\u62c6\\u5206\\u6570\", \"x\": [\"8-1\", \"8-2\", \"8-3\", \"8-4\", \"8-5\", \"9-1\", \"9-2\", \"9-3\", \"9-4\", \"10-2\", \"10-3\", \"10-4\", \"10-5\", \"11-1\"], \"y\": [3, 1, 0, 2, 3, 1, 0, 1, 2, 4, 2, 2, 0, 2], \"type\": \"scatter\", \"uid\": \"d5f0d899-e702-11e8-8ddb-a41f72875c19\"}, {\"name\": \"\\u81ea\\u5efa\\u5e93Index\\u9519\\u8bef\", \"x\": [\"8-1\", \"8-2\", \"8-3\", \"8-4\", \"8-5\", \"9-1\", \"9-2\", \"9-3\", \"9-4\", \"10-2\", \"10-3\", \"10-4\", \"10-5\", \"11-1\"], \"y\": [0, 2, 0, 2, 2, 1, 0, 0, 0, 1, 2, 0, 0, 0], \"type\": \"scatter\", \"uid\": \"d5f0d89a-e702-11e8-8ddb-a41f72875c19\"}, {\"name\": \"lims\\u7cfb\\u7edf\\u9519\\u8bef\", \"x\": [\"8-1\", \"8-2\", \"8-3\", \"8-4\", \"8-5\", \"9-1\", \"9-2\", \"9-3\", \"9-4\", \"10-2\", \"10-3\", \"10-4\", \"10-5\", \"11-1\"], \"y\": [2, 3, 0, 0, 1, 0, 0, 3, 0, 0, 0, 2, 4, 0], \"type\": \"scatter\", \"uid\": \"d5f0d89b-e702-11e8-8ddb-a41f72875c19\"}, {\"name\": \"\\u5916\\u6765Index\\u9519\\u8bef\", \"x\": [\"8-1\", \"8-2\", \"8-3\", \"8-4\", \"8-5\", \"9-1\", \"9-2\", \"9-3\", \"9-4\", \"10-2\", \"10-3\", \"10-4\", \"10-5\", \"11-1\"], \"y\": [2, 8, 4, 4, 2, 8, 3, 11, 12, 8, 5, 9, 14, 8], \"type\": \"scatter\", \"uid\": \"d5f0d89c-e702-11e8-8ddb-a41f72875c19\"}], {\"title\": \"\\u6d4b\\u5e8f\\u5f02\\u5e38&\\u4e2a\\u6027\\u5316\\u62c6\\u5206\\u6570&\\u81ea\\u5efa\\u5e93Index\\u9519\\u8bef&lims\\u7cfb\\u7edf\\u9519\\u8bef&\\u5916\\u6765Index\\u9519\\u8bef\\u5468\\u8d8b\\u52bf\\u56fe\", \"xaxis\": {\"mirror\": \"all\", \"nticks\": 20, \"showgrid\": true, \"showline\": true, \"title\": \"\\u5468\", \"type\": \"category\", \"zeroline\": true}, \"yaxis\": {\"mirror\": \"all\", \"nticks\": 20, \"showgrid\": true, \"showline\": true, \"title\": \"\\u6d4b\\u5e8f\\u5f02\\u5e38&\\u4e2a\\u6027\\u5316\\u62c6\\u5206\\u6570&\\u81ea\\u5efa\\u5e93Index\\u9519\\u8bef&lims\\u7cfb\\u7edf\\u9519\\u8bef&\\u5916\\u6765Index\\u9519\\u8bef\", \"zeroline\": true}}, {\"showLink\": true, \"linkText\": \"Export to plot.ly\"})});</script>"
      ]
     },
     "metadata": {},
     "output_type": "display_data"
    },
    {
     "data": {
      "application/vnd.plotly.v1+json": {
       "data": [
        {
         "name": "测序异常",
         "type": "scatter",
         "uid": "d5f0d89d-e702-11e8-8ddb-a41f72875c19",
         "x": [
          8,
          9,
          10,
          11
         ],
         "y": [
          69,
          39,
          44,
          5
         ]
        },
        {
         "name": "个性化拆分数",
         "type": "scatter",
         "uid": "d5f0d89e-e702-11e8-8ddb-a41f72875c19",
         "x": [
          8,
          9,
          10,
          11
         ],
         "y": [
          9,
          4,
          8,
          2
         ]
        },
        {
         "name": "自建库Index错误",
         "type": "scatter",
         "uid": "d5f0d89f-e702-11e8-8ddb-a41f72875c19",
         "x": [
          8,
          9,
          10,
          11
         ],
         "y": [
          6,
          1,
          3,
          0
         ]
        },
        {
         "name": "lims系统错误",
         "type": "scatter",
         "uid": "d5f0d8a0-e702-11e8-8ddb-a41f72875c19",
         "x": [
          8,
          9,
          10,
          11
         ],
         "y": [
          6,
          3,
          6,
          0
         ]
        },
        {
         "name": "外来Index错误",
         "type": "scatter",
         "uid": "d5f0d8a1-e702-11e8-8ddb-a41f72875c19",
         "x": [
          8,
          9,
          10,
          11
         ],
         "y": [
          20,
          34,
          36,
          8
         ]
        }
       ],
       "layout": {
        "title": "测序异常&个性化拆分数&自建库Index错误&lims系统错误&外来Index错误月趋势图",
        "xaxis": {
         "mirror": "all",
         "nticks": 20,
         "showgrid": true,
         "showline": true,
         "title": "月",
         "type": "category",
         "zeroline": true
        },
        "yaxis": {
         "mirror": "all",
         "nticks": 20,
         "showgrid": true,
         "showline": true,
         "title": "测序异常&个性化拆分数&自建库Index错误&lims系统错误&外来Index错误",
         "zeroline": true
        }
       }
      },
      "text/html": [
       "<div id=\"acc57ecc-6f16-46a0-ac61-00c6edc308c5\" style=\"height: 525px; width: 100%;\" class=\"plotly-graph-div\"></div><script type=\"text/javascript\">require([\"plotly\"], function(Plotly) { window.PLOTLYENV=window.PLOTLYENV || {};window.PLOTLYENV.BASE_URL=\"https://plot.ly\";Plotly.newPlot(\"acc57ecc-6f16-46a0-ac61-00c6edc308c5\", [{\"name\": \"\\u6d4b\\u5e8f\\u5f02\\u5e38\", \"x\": [8, 9, 10, 11], \"y\": [69, 39, 44, 5], \"type\": \"scatter\", \"uid\": \"d5f0d89d-e702-11e8-8ddb-a41f72875c19\"}, {\"name\": \"\\u4e2a\\u6027\\u5316\\u62c6\\u5206\\u6570\", \"x\": [8, 9, 10, 11], \"y\": [9, 4, 8, 2], \"type\": \"scatter\", \"uid\": \"d5f0d89e-e702-11e8-8ddb-a41f72875c19\"}, {\"name\": \"\\u81ea\\u5efa\\u5e93Index\\u9519\\u8bef\", \"x\": [8, 9, 10, 11], \"y\": [6, 1, 3, 0], \"type\": \"scatter\", \"uid\": \"d5f0d89f-e702-11e8-8ddb-a41f72875c19\"}, {\"name\": \"lims\\u7cfb\\u7edf\\u9519\\u8bef\", \"x\": [8, 9, 10, 11], \"y\": [6, 3, 6, 0], \"type\": \"scatter\", \"uid\": \"d5f0d8a0-e702-11e8-8ddb-a41f72875c19\"}, {\"name\": \"\\u5916\\u6765Index\\u9519\\u8bef\", \"x\": [8, 9, 10, 11], \"y\": [20, 34, 36, 8], \"type\": \"scatter\", \"uid\": \"d5f0d8a1-e702-11e8-8ddb-a41f72875c19\"}], {\"title\": \"\\u6d4b\\u5e8f\\u5f02\\u5e38&\\u4e2a\\u6027\\u5316\\u62c6\\u5206\\u6570&\\u81ea\\u5efa\\u5e93Index\\u9519\\u8bef&lims\\u7cfb\\u7edf\\u9519\\u8bef&\\u5916\\u6765Index\\u9519\\u8bef\\u6708\\u8d8b\\u52bf\\u56fe\", \"xaxis\": {\"mirror\": \"all\", \"nticks\": 20, \"showgrid\": true, \"showline\": true, \"title\": \"\\u6708\", \"type\": \"category\", \"zeroline\": true}, \"yaxis\": {\"mirror\": \"all\", \"nticks\": 20, \"showgrid\": true, \"showline\": true, \"title\": \"\\u6d4b\\u5e8f\\u5f02\\u5e38&\\u4e2a\\u6027\\u5316\\u62c6\\u5206\\u6570&\\u81ea\\u5efa\\u5e93Index\\u9519\\u8bef&lims\\u7cfb\\u7edf\\u9519\\u8bef&\\u5916\\u6765Index\\u9519\\u8bef\", \"zeroline\": true}}, {\"showLink\": true, \"linkText\": \"Export to plot.ly\"})});</script>"
      ],
      "text/vnd.plotly.v1+html": [
       "<div id=\"acc57ecc-6f16-46a0-ac61-00c6edc308c5\" style=\"height: 525px; width: 100%;\" class=\"plotly-graph-div\"></div><script type=\"text/javascript\">require([\"plotly\"], function(Plotly) { window.PLOTLYENV=window.PLOTLYENV || {};window.PLOTLYENV.BASE_URL=\"https://plot.ly\";Plotly.newPlot(\"acc57ecc-6f16-46a0-ac61-00c6edc308c5\", [{\"name\": \"\\u6d4b\\u5e8f\\u5f02\\u5e38\", \"x\": [8, 9, 10, 11], \"y\": [69, 39, 44, 5], \"type\": \"scatter\", \"uid\": \"d5f0d89d-e702-11e8-8ddb-a41f72875c19\"}, {\"name\": \"\\u4e2a\\u6027\\u5316\\u62c6\\u5206\\u6570\", \"x\": [8, 9, 10, 11], \"y\": [9, 4, 8, 2], \"type\": \"scatter\", \"uid\": \"d5f0d89e-e702-11e8-8ddb-a41f72875c19\"}, {\"name\": \"\\u81ea\\u5efa\\u5e93Index\\u9519\\u8bef\", \"x\": [8, 9, 10, 11], \"y\": [6, 1, 3, 0], \"type\": \"scatter\", \"uid\": \"d5f0d89f-e702-11e8-8ddb-a41f72875c19\"}, {\"name\": \"lims\\u7cfb\\u7edf\\u9519\\u8bef\", \"x\": [8, 9, 10, 11], \"y\": [6, 3, 6, 0], \"type\": \"scatter\", \"uid\": \"d5f0d8a0-e702-11e8-8ddb-a41f72875c19\"}, {\"name\": \"\\u5916\\u6765Index\\u9519\\u8bef\", \"x\": [8, 9, 10, 11], \"y\": [20, 34, 36, 8], \"type\": \"scatter\", \"uid\": \"d5f0d8a1-e702-11e8-8ddb-a41f72875c19\"}], {\"title\": \"\\u6d4b\\u5e8f\\u5f02\\u5e38&\\u4e2a\\u6027\\u5316\\u62c6\\u5206\\u6570&\\u81ea\\u5efa\\u5e93Index\\u9519\\u8bef&lims\\u7cfb\\u7edf\\u9519\\u8bef&\\u5916\\u6765Index\\u9519\\u8bef\\u6708\\u8d8b\\u52bf\\u56fe\", \"xaxis\": {\"mirror\": \"all\", \"nticks\": 20, \"showgrid\": true, \"showline\": true, \"title\": \"\\u6708\", \"type\": \"category\", \"zeroline\": true}, \"yaxis\": {\"mirror\": \"all\", \"nticks\": 20, \"showgrid\": true, \"showline\": true, \"title\": \"\\u6d4b\\u5e8f\\u5f02\\u5e38&\\u4e2a\\u6027\\u5316\\u62c6\\u5206\\u6570&\\u81ea\\u5efa\\u5e93Index\\u9519\\u8bef&lims\\u7cfb\\u7edf\\u9519\\u8bef&\\u5916\\u6765Index\\u9519\\u8bef\", \"zeroline\": true}}, {\"showLink\": true, \"linkText\": \"Export to plot.ly\"})});</script>"
      ]
     },
     "metadata": {},
     "output_type": "display_data"
    }
   ],
   "source": [
    "in_list = ['测序异常', '外来Index错误' , '自建库Index错误' ,'lims系统错误', '个性化拆分数' ]\n",
    "ss = myModule.format(all_df2 ,\"日期（格式“月-周次”）\" ,in_list)\n",
    "myModule.myPlot(myModule.sort_by_index(ss.groupby('sum'))).plot('line')\n",
    "\n",
    "ss = myModule.format(all_df2 ,\"month\" ,in_list)\n",
    "myModule.myPlot(ss.groupby('sum')).plot('line','月')"
   ]
  },
  {
   "cell_type": "markdown",
   "metadata": {},
   "source": [
    "#### 拆分流程异常数，延期处理"
   ]
  },
  {
   "cell_type": "code",
   "execution_count": 144,
   "metadata": {
    "collapsed": false
   },
   "outputs": [
    {
     "data": {
      "application/vnd.plotly.v1+json": {
       "data": [
        {
         "name": "拆分流程异常数",
         "type": "scatter",
         "uid": "d5f0d8a2-e702-11e8-8ddb-a41f72875c19",
         "x": [
          "8-1",
          "8-2",
          "8-3",
          "8-4",
          "8-5",
          "9-1",
          "9-2",
          "9-3",
          "9-4",
          "10-2",
          "10-3",
          "10-4",
          "10-5",
          "11-1"
         ],
         "y": [
          2,
          0,
          1,
          0,
          4,
          2,
          0,
          0,
          0,
          0,
          0,
          0,
          0,
          0
         ]
        },
        {
         "name": "处理延期",
         "type": "scatter",
         "uid": "d5f0d8a3-e702-11e8-8ddb-a41f72875c19",
         "x": [
          "8-1",
          "8-2",
          "8-3",
          "8-4",
          "8-5",
          "9-1",
          "9-2",
          "9-3",
          "9-4",
          "10-2",
          "10-3",
          "10-4",
          "10-5",
          "11-1"
         ],
         "y": [
          0,
          0,
          0,
          0,
          0,
          0,
          0,
          0,
          1,
          2,
          0,
          0,
          1,
          0
         ]
        }
       ],
       "layout": {
        "title": "拆分流程异常数&处理延期周趋势图",
        "xaxis": {
         "mirror": "all",
         "nticks": 20,
         "showgrid": true,
         "showline": true,
         "title": "周",
         "type": "category",
         "zeroline": true
        },
        "yaxis": {
         "mirror": "all",
         "nticks": 20,
         "showgrid": true,
         "showline": true,
         "title": "拆分流程异常数&处理延期",
         "zeroline": true
        }
       }
      },
      "text/html": [
       "<div id=\"6b3ff342-4274-41f4-af0a-0a2f1be4f2e8\" style=\"height: 525px; width: 100%;\" class=\"plotly-graph-div\"></div><script type=\"text/javascript\">require([\"plotly\"], function(Plotly) { window.PLOTLYENV=window.PLOTLYENV || {};window.PLOTLYENV.BASE_URL=\"https://plot.ly\";Plotly.newPlot(\"6b3ff342-4274-41f4-af0a-0a2f1be4f2e8\", [{\"name\": \"\\u62c6\\u5206\\u6d41\\u7a0b\\u5f02\\u5e38\\u6570\", \"x\": [\"8-1\", \"8-2\", \"8-3\", \"8-4\", \"8-5\", \"9-1\", \"9-2\", \"9-3\", \"9-4\", \"10-2\", \"10-3\", \"10-4\", \"10-5\", \"11-1\"], \"y\": [2, 0, 1, 0, 4, 2, 0, 0, 0, 0, 0, 0, 0, 0], \"type\": \"scatter\", \"uid\": \"d5f0d8a2-e702-11e8-8ddb-a41f72875c19\"}, {\"name\": \"\\u5904\\u7406\\u5ef6\\u671f\", \"x\": [\"8-1\", \"8-2\", \"8-3\", \"8-4\", \"8-5\", \"9-1\", \"9-2\", \"9-3\", \"9-4\", \"10-2\", \"10-3\", \"10-4\", \"10-5\", \"11-1\"], \"y\": [0, 0, 0, 0, 0, 0, 0, 0, 1, 2, 0, 0, 1, 0], \"type\": \"scatter\", \"uid\": \"d5f0d8a3-e702-11e8-8ddb-a41f72875c19\"}], {\"title\": \"\\u62c6\\u5206\\u6d41\\u7a0b\\u5f02\\u5e38\\u6570&\\u5904\\u7406\\u5ef6\\u671f\\u5468\\u8d8b\\u52bf\\u56fe\", \"xaxis\": {\"mirror\": \"all\", \"nticks\": 20, \"showgrid\": true, \"showline\": true, \"title\": \"\\u5468\", \"type\": \"category\", \"zeroline\": true}, \"yaxis\": {\"mirror\": \"all\", \"nticks\": 20, \"showgrid\": true, \"showline\": true, \"title\": \"\\u62c6\\u5206\\u6d41\\u7a0b\\u5f02\\u5e38\\u6570&\\u5904\\u7406\\u5ef6\\u671f\", \"zeroline\": true}}, {\"showLink\": true, \"linkText\": \"Export to plot.ly\"})});</script>"
      ],
      "text/vnd.plotly.v1+html": [
       "<div id=\"6b3ff342-4274-41f4-af0a-0a2f1be4f2e8\" style=\"height: 525px; width: 100%;\" class=\"plotly-graph-div\"></div><script type=\"text/javascript\">require([\"plotly\"], function(Plotly) { window.PLOTLYENV=window.PLOTLYENV || {};window.PLOTLYENV.BASE_URL=\"https://plot.ly\";Plotly.newPlot(\"6b3ff342-4274-41f4-af0a-0a2f1be4f2e8\", [{\"name\": \"\\u62c6\\u5206\\u6d41\\u7a0b\\u5f02\\u5e38\\u6570\", \"x\": [\"8-1\", \"8-2\", \"8-3\", \"8-4\", \"8-5\", \"9-1\", \"9-2\", \"9-3\", \"9-4\", \"10-2\", \"10-3\", \"10-4\", \"10-5\", \"11-1\"], \"y\": [2, 0, 1, 0, 4, 2, 0, 0, 0, 0, 0, 0, 0, 0], \"type\": \"scatter\", \"uid\": \"d5f0d8a2-e702-11e8-8ddb-a41f72875c19\"}, {\"name\": \"\\u5904\\u7406\\u5ef6\\u671f\", \"x\": [\"8-1\", \"8-2\", \"8-3\", \"8-4\", \"8-5\", \"9-1\", \"9-2\", \"9-3\", \"9-4\", \"10-2\", \"10-3\", \"10-4\", \"10-5\", \"11-1\"], \"y\": [0, 0, 0, 0, 0, 0, 0, 0, 1, 2, 0, 0, 1, 0], \"type\": \"scatter\", \"uid\": \"d5f0d8a3-e702-11e8-8ddb-a41f72875c19\"}], {\"title\": \"\\u62c6\\u5206\\u6d41\\u7a0b\\u5f02\\u5e38\\u6570&\\u5904\\u7406\\u5ef6\\u671f\\u5468\\u8d8b\\u52bf\\u56fe\", \"xaxis\": {\"mirror\": \"all\", \"nticks\": 20, \"showgrid\": true, \"showline\": true, \"title\": \"\\u5468\", \"type\": \"category\", \"zeroline\": true}, \"yaxis\": {\"mirror\": \"all\", \"nticks\": 20, \"showgrid\": true, \"showline\": true, \"title\": \"\\u62c6\\u5206\\u6d41\\u7a0b\\u5f02\\u5e38\\u6570&\\u5904\\u7406\\u5ef6\\u671f\", \"zeroline\": true}}, {\"showLink\": true, \"linkText\": \"Export to plot.ly\"})});</script>"
      ]
     },
     "metadata": {},
     "output_type": "display_data"
    },
    {
     "data": {
      "application/vnd.plotly.v1+json": {
       "data": [
        {
         "name": "拆分流程异常数",
         "type": "scatter",
         "uid": "d5f0d8a4-e702-11e8-8ddb-a41f72875c19",
         "x": [
          8,
          9,
          10,
          11
         ],
         "y": [
          1.4,
          0.5,
          0,
          0
         ]
        },
        {
         "name": "处理延期",
         "type": "scatter",
         "uid": "d5f0d8a5-e702-11e8-8ddb-a41f72875c19",
         "x": [
          8,
          9,
          10,
          11
         ],
         "y": [
          0,
          0.25,
          0.6,
          0
         ]
        }
       ],
       "layout": {
        "title": "拆分流程异常数&处理延期月趋势图",
        "xaxis": {
         "mirror": "all",
         "nticks": 20,
         "showgrid": true,
         "showline": true,
         "title": "月",
         "type": "category",
         "zeroline": true
        },
        "yaxis": {
         "mirror": "all",
         "nticks": 20,
         "showgrid": true,
         "showline": true,
         "title": "拆分流程异常数&处理延期",
         "zeroline": true
        }
       }
      },
      "text/html": [
       "<div id=\"a1ecb44f-40fb-4383-96d4-17fc5995bbab\" style=\"height: 525px; width: 100%;\" class=\"plotly-graph-div\"></div><script type=\"text/javascript\">require([\"plotly\"], function(Plotly) { window.PLOTLYENV=window.PLOTLYENV || {};window.PLOTLYENV.BASE_URL=\"https://plot.ly\";Plotly.newPlot(\"a1ecb44f-40fb-4383-96d4-17fc5995bbab\", [{\"name\": \"\\u62c6\\u5206\\u6d41\\u7a0b\\u5f02\\u5e38\\u6570\", \"x\": [8, 9, 10, 11], \"y\": [1.4, 0.5, 0.0, 0.0], \"type\": \"scatter\", \"uid\": \"d5f0d8a4-e702-11e8-8ddb-a41f72875c19\"}, {\"name\": \"\\u5904\\u7406\\u5ef6\\u671f\", \"x\": [8, 9, 10, 11], \"y\": [0.0, 0.25, 0.6, 0.0], \"type\": \"scatter\", \"uid\": \"d5f0d8a5-e702-11e8-8ddb-a41f72875c19\"}], {\"title\": \"\\u62c6\\u5206\\u6d41\\u7a0b\\u5f02\\u5e38\\u6570&\\u5904\\u7406\\u5ef6\\u671f\\u6708\\u8d8b\\u52bf\\u56fe\", \"xaxis\": {\"mirror\": \"all\", \"nticks\": 20, \"showgrid\": true, \"showline\": true, \"title\": \"\\u6708\", \"type\": \"category\", \"zeroline\": true}, \"yaxis\": {\"mirror\": \"all\", \"nticks\": 20, \"showgrid\": true, \"showline\": true, \"title\": \"\\u62c6\\u5206\\u6d41\\u7a0b\\u5f02\\u5e38\\u6570&\\u5904\\u7406\\u5ef6\\u671f\", \"zeroline\": true}}, {\"showLink\": true, \"linkText\": \"Export to plot.ly\"})});</script>"
      ],
      "text/vnd.plotly.v1+html": [
       "<div id=\"a1ecb44f-40fb-4383-96d4-17fc5995bbab\" style=\"height: 525px; width: 100%;\" class=\"plotly-graph-div\"></div><script type=\"text/javascript\">require([\"plotly\"], function(Plotly) { window.PLOTLYENV=window.PLOTLYENV || {};window.PLOTLYENV.BASE_URL=\"https://plot.ly\";Plotly.newPlot(\"a1ecb44f-40fb-4383-96d4-17fc5995bbab\", [{\"name\": \"\\u62c6\\u5206\\u6d41\\u7a0b\\u5f02\\u5e38\\u6570\", \"x\": [8, 9, 10, 11], \"y\": [1.4, 0.5, 0.0, 0.0], \"type\": \"scatter\", \"uid\": \"d5f0d8a4-e702-11e8-8ddb-a41f72875c19\"}, {\"name\": \"\\u5904\\u7406\\u5ef6\\u671f\", \"x\": [8, 9, 10, 11], \"y\": [0.0, 0.25, 0.6, 0.0], \"type\": \"scatter\", \"uid\": \"d5f0d8a5-e702-11e8-8ddb-a41f72875c19\"}], {\"title\": \"\\u62c6\\u5206\\u6d41\\u7a0b\\u5f02\\u5e38\\u6570&\\u5904\\u7406\\u5ef6\\u671f\\u6708\\u8d8b\\u52bf\\u56fe\", \"xaxis\": {\"mirror\": \"all\", \"nticks\": 20, \"showgrid\": true, \"showline\": true, \"title\": \"\\u6708\", \"type\": \"category\", \"zeroline\": true}, \"yaxis\": {\"mirror\": \"all\", \"nticks\": 20, \"showgrid\": true, \"showline\": true, \"title\": \"\\u62c6\\u5206\\u6d41\\u7a0b\\u5f02\\u5e38\\u6570&\\u5904\\u7406\\u5ef6\\u671f\", \"zeroline\": true}}, {\"showLink\": true, \"linkText\": \"Export to plot.ly\"})});</script>"
      ]
     },
     "metadata": {},
     "output_type": "display_data"
    }
   ],
   "source": [
    "in_list = ['拆分流程异常数','处理延期' ]\n",
    "ss = myModule.format(all_df2 ,\"日期（格式“月-周次”）\" ,in_list)\n",
    "myModule.myPlot(myModule.sort_by_index(ss.groupby('sum'))).plot('line')\n",
    "\n",
    "ss = myModule.format(all_df2 ,\"month\" ,in_list)\n",
    "myModule.myPlot(ss.groupby('mean')).plot('line','月')"
   ]
  },
  {
   "cell_type": "code",
   "execution_count": 145,
   "metadata": {
    "collapsed": true
   },
   "outputs": [],
   "source": [
    "all_files , title = myModule.get_title(pathway , 0 ) ##给路径\n",
    "all_dict = myModule.read_xlsx(all_files, 0 ) ## read all files"
   ]
  },
  {
   "cell_type": "markdown",
   "metadata": {},
   "source": [
    "# 过滤项目个人情况"
   ]
  },
  {
   "cell_type": "markdown",
   "metadata": {},
   "source": [
    "## 产能"
   ]
  },
  {
   "cell_type": "markdown",
   "metadata": {},
   "source": [
    "### 下机批次"
   ]
  },
  {
   "cell_type": "code",
   "execution_count": 146,
   "metadata": {
    "collapsed": false
   },
   "outputs": [
    {
     "data": {
      "application/vnd.plotly.v1+json": {
       "data": [
        {
         "line": {
          "dash": "solid"
         },
         "name": "下机项目数(屈昂)",
         "type": "scatter",
         "uid": "d5f0d8a6-e702-11e8-8ddb-a41f72875c19",
         "x": [
          "8-1",
          "8-2",
          "8-3",
          "8-4",
          "8-5",
          "9-1",
          "9-2",
          "9-3",
          "9-4",
          "10-2",
          "10-3",
          "10-4",
          "10-5",
          "11-1"
         ],
         "y": [
          36,
          62,
          62,
          96,
          76,
          117,
          38,
          19,
          15,
          1,
          3,
          0,
          1,
          2
         ]
        },
        {
         "line": {
          "dash": "dot"
         },
         "name": "下机项目数(高剑)",
         "type": "scatter",
         "uid": "d5f0d8a7-e702-11e8-8ddb-a41f72875c19",
         "x": [
          "8-1",
          "8-2",
          "8-3",
          "8-4",
          "8-5",
          "9-1",
          "9-2",
          "9-3",
          "9-4",
          "10-2",
          "10-3",
          "10-4",
          "10-5",
          "11-1"
         ],
         "y": [
          null,
          null,
          null,
          null,
          null,
          null,
          null,
          null,
          null,
          null,
          null,
          null,
          4,
          4
         ]
        },
        {
         "line": {
          "dash": "dash"
         },
         "name": "下机项目数(沈恩惠)",
         "type": "scatter",
         "uid": "d5f0d8a8-e702-11e8-8ddb-a41f72875c19",
         "x": [
          "8-1",
          "8-2",
          "8-3",
          "8-4",
          "8-5",
          "9-1",
          "9-2",
          "9-3",
          "9-4",
          "10-2",
          "10-3",
          "10-4",
          "10-5",
          "11-1"
         ],
         "y": [
          null,
          null,
          null,
          null,
          null,
          null,
          null,
          null,
          null,
          null,
          null,
          null,
          5,
          5
         ]
        },
        {
         "line": {
          "dash": "longdash"
         },
         "name": "下机项目数(车天栋)",
         "type": "scatter",
         "uid": "d5f0d8a9-e702-11e8-8ddb-a41f72875c19",
         "x": [
          "8-1",
          "8-2",
          "8-3",
          "8-4",
          "8-5",
          "9-1",
          "9-2",
          "9-3",
          "9-4",
          "10-2",
          "10-3",
          "10-4",
          "10-5",
          "11-1"
         ],
         "y": [
          null,
          null,
          null,
          null,
          null,
          null,
          null,
          null,
          null,
          null,
          null,
          null,
          2,
          2
         ]
        },
        {
         "line": {
          "dash": "dashdot"
         },
         "name": "下机项目数(冷雪)",
         "type": "scatter",
         "uid": "d5f0d8aa-e702-11e8-8ddb-a41f72875c19",
         "x": [
          "8-1",
          "8-2",
          "8-3",
          "8-4",
          "8-5",
          "9-1",
          "9-2",
          "9-3",
          "9-4",
          "10-2",
          "10-3",
          "10-4",
          "10-5",
          "11-1"
         ],
         "y": [
          31,
          49,
          51,
          26,
          2,
          54,
          63,
          103,
          138,
          65,
          107,
          124,
          109,
          105
         ]
        },
        {
         "line": {
          "dash": "longdashdot"
         },
         "name": "下机项目数(沈立群)",
         "type": "scatter",
         "uid": "d5f0d8ab-e702-11e8-8ddb-a41f72875c19",
         "x": [
          "8-1",
          "8-2",
          "8-3",
          "8-4",
          "8-5",
          "9-1",
          "9-2",
          "9-3",
          "9-4",
          "10-2",
          "10-3",
          "10-4",
          "10-5",
          "11-1"
         ],
         "y": [
          null,
          null,
          null,
          null,
          null,
          null,
          null,
          null,
          null,
          null,
          null,
          null,
          4,
          4
         ]
        },
        {
         "line": {
          "dash": "solid"
         },
         "name": "下机项目数(卢楠)",
         "type": "scatter",
         "uid": "d5f0d8ac-e702-11e8-8ddb-a41f72875c19",
         "x": [
          "8-1",
          "8-2",
          "8-3",
          "8-4",
          "8-5",
          "9-1",
          "9-2",
          "9-3",
          "9-4",
          "10-2",
          "10-3",
          "10-4",
          "10-5",
          "11-1"
         ],
         "y": [
          26,
          34,
          21,
          13,
          2,
          1,
          2,
          null,
          null,
          null,
          null,
          null,
          null,
          null
         ]
        },
        {
         "line": {
          "dash": "dot"
         },
         "name": "下机项目数(林文文)",
         "type": "scatter",
         "uid": "d5f0d8ad-e702-11e8-8ddb-a41f72875c19",
         "x": [
          "8-1",
          "8-2",
          "8-3",
          "8-4",
          "8-5",
          "9-1",
          "9-2",
          "9-3",
          "9-4",
          "10-2",
          "10-3",
          "10-4",
          "10-5",
          "11-1"
         ],
         "y": [
          null,
          null,
          null,
          null,
          null,
          null,
          null,
          null,
          null,
          null,
          null,
          null,
          6,
          6
         ]
        },
        {
         "line": {
          "dash": "dash"
         },
         "name": "下机项目数(张悦)",
         "type": "scatter",
         "uid": "d5f0d8ae-e702-11e8-8ddb-a41f72875c19",
         "x": [
          "8-1",
          "8-2",
          "8-3",
          "8-4",
          "8-5",
          "9-1",
          "9-2",
          "9-3",
          "9-4",
          "10-2",
          "10-3",
          "10-4",
          "10-5",
          "11-1"
         ],
         "y": [
          1,
          1,
          1,
          1,
          5,
          2,
          null,
          null,
          null,
          null,
          null,
          null,
          null,
          null
         ]
        },
        {
         "line": {
          "dash": "longdash"
         },
         "name": "下机项目数(王传文)",
         "type": "scatter",
         "uid": "d5f0d8af-e702-11e8-8ddb-a41f72875c19",
         "x": [
          "8-1",
          "8-2",
          "8-3",
          "8-4",
          "8-5",
          "9-1",
          "9-2",
          "9-3",
          "9-4",
          "10-2",
          "10-3",
          "10-4",
          "10-5",
          "11-1"
         ],
         "y": [
          null,
          null,
          null,
          null,
          null,
          null,
          null,
          null,
          null,
          null,
          null,
          null,
          5,
          5
         ]
        },
        {
         "line": {
          "dash": "solid"
         },
         "name": "下机批次数(屈昂)",
         "type": "scatter",
         "uid": "d5f0d8b0-e702-11e8-8ddb-a41f72875c19",
         "x": [
          "8-1",
          "8-2",
          "8-3",
          "8-4",
          "8-5",
          "9-1",
          "9-2",
          "9-3",
          "9-4",
          "10-2",
          "10-3",
          "10-4",
          "10-5",
          "11-1"
         ],
         "y": [
          42,
          74,
          75,
          119,
          85,
          135,
          45,
          21,
          17,
          1,
          3,
          0,
          1,
          2
         ]
        },
        {
         "line": {
          "dash": "dot"
         },
         "name": "下机批次数(高剑)",
         "type": "scatter",
         "uid": "d5f0d8b1-e702-11e8-8ddb-a41f72875c19",
         "x": [
          "8-1",
          "8-2",
          "8-3",
          "8-4",
          "8-5",
          "9-1",
          "9-2",
          "9-3",
          "9-4",
          "10-2",
          "10-3",
          "10-4",
          "10-5",
          "11-1"
         ],
         "y": [
          null,
          null,
          null,
          null,
          null,
          null,
          null,
          null,
          null,
          null,
          null,
          null,
          4,
          4
         ]
        },
        {
         "line": {
          "dash": "dash"
         },
         "name": "下机批次数(沈恩惠)",
         "type": "scatter",
         "uid": "d5f0d8b2-e702-11e8-8ddb-a41f72875c19",
         "x": [
          "8-1",
          "8-2",
          "8-3",
          "8-4",
          "8-5",
          "9-1",
          "9-2",
          "9-3",
          "9-4",
          "10-2",
          "10-3",
          "10-4",
          "10-5",
          "11-1"
         ],
         "y": [
          null,
          null,
          null,
          null,
          null,
          null,
          null,
          null,
          null,
          null,
          null,
          null,
          5,
          5
         ]
        },
        {
         "line": {
          "dash": "longdash"
         },
         "name": "下机批次数(车天栋)",
         "type": "scatter",
         "uid": "d5f0d8b3-e702-11e8-8ddb-a41f72875c19",
         "x": [
          "8-1",
          "8-2",
          "8-3",
          "8-4",
          "8-5",
          "9-1",
          "9-2",
          "9-3",
          "9-4",
          "10-2",
          "10-3",
          "10-4",
          "10-5",
          "11-1"
         ],
         "y": [
          null,
          null,
          null,
          null,
          null,
          null,
          null,
          null,
          null,
          null,
          null,
          null,
          2,
          2
         ]
        },
        {
         "line": {
          "dash": "dashdot"
         },
         "name": "下机批次数(冷雪)",
         "type": "scatter",
         "uid": "d5f0d8b4-e702-11e8-8ddb-a41f72875c19",
         "x": [
          "8-1",
          "8-2",
          "8-3",
          "8-4",
          "8-5",
          "9-1",
          "9-2",
          "9-3",
          "9-4",
          "10-2",
          "10-3",
          "10-4",
          "10-5",
          "11-1"
         ],
         "y": [
          38,
          58,
          66,
          28,
          5,
          58,
          76,
          115,
          159,
          69,
          129,
          137,
          132,
          128
         ]
        },
        {
         "line": {
          "dash": "longdashdot"
         },
         "name": "下机批次数(沈立群)",
         "type": "scatter",
         "uid": "d5f0d8b5-e702-11e8-8ddb-a41f72875c19",
         "x": [
          "8-1",
          "8-2",
          "8-3",
          "8-4",
          "8-5",
          "9-1",
          "9-2",
          "9-3",
          "9-4",
          "10-2",
          "10-3",
          "10-4",
          "10-5",
          "11-1"
         ],
         "y": [
          null,
          null,
          null,
          null,
          null,
          null,
          null,
          null,
          null,
          null,
          null,
          null,
          4,
          4
         ]
        },
        {
         "line": {
          "dash": "solid"
         },
         "name": "下机批次数(卢楠)",
         "type": "scatter",
         "uid": "d5f0d8b6-e702-11e8-8ddb-a41f72875c19",
         "x": [
          "8-1",
          "8-2",
          "8-3",
          "8-4",
          "8-5",
          "9-1",
          "9-2",
          "9-3",
          "9-4",
          "10-2",
          "10-3",
          "10-4",
          "10-5",
          "11-1"
         ],
         "y": [
          36,
          47,
          23,
          13,
          3,
          2,
          3,
          null,
          null,
          null,
          null,
          null,
          null,
          null
         ]
        },
        {
         "line": {
          "dash": "dot"
         },
         "name": "下机批次数(林文文)",
         "type": "scatter",
         "uid": "d5f0d8b7-e702-11e8-8ddb-a41f72875c19",
         "x": [
          "8-1",
          "8-2",
          "8-3",
          "8-4",
          "8-5",
          "9-1",
          "9-2",
          "9-3",
          "9-4",
          "10-2",
          "10-3",
          "10-4",
          "10-5",
          "11-1"
         ],
         "y": [
          null,
          null,
          null,
          null,
          null,
          null,
          null,
          null,
          null,
          null,
          null,
          null,
          6,
          6
         ]
        },
        {
         "line": {
          "dash": "dash"
         },
         "name": "下机批次数(张悦)",
         "type": "scatter",
         "uid": "d5f0d8b8-e702-11e8-8ddb-a41f72875c19",
         "x": [
          "8-1",
          "8-2",
          "8-3",
          "8-4",
          "8-5",
          "9-1",
          "9-2",
          "9-3",
          "9-4",
          "10-2",
          "10-3",
          "10-4",
          "10-5",
          "11-1"
         ],
         "y": [
          2,
          2,
          1,
          1,
          7,
          4,
          null,
          null,
          null,
          null,
          null,
          null,
          null,
          null
         ]
        },
        {
         "line": {
          "dash": "longdash"
         },
         "name": "下机批次数(王传文)",
         "type": "scatter",
         "uid": "d5f0d8b9-e702-11e8-8ddb-a41f72875c19",
         "x": [
          "8-1",
          "8-2",
          "8-3",
          "8-4",
          "8-5",
          "9-1",
          "9-2",
          "9-3",
          "9-4",
          "10-2",
          "10-3",
          "10-4",
          "10-5",
          "11-1"
         ],
         "y": [
          null,
          null,
          null,
          null,
          null,
          null,
          null,
          null,
          null,
          null,
          null,
          null,
          5,
          5
         ]
        }
       ],
       "layout": {
        "title": "下机项目数&下机批次数周趋势图",
        "xaxis": {
         "mirror": "all",
         "nticks": 20,
         "showgrid": true,
         "showline": true,
         "title": "周",
         "type": "category",
         "zeroline": true
        },
        "yaxis": {
         "mirror": "all",
         "nticks": 20,
         "showgrid": true,
         "showline": true,
         "title": "下机项目数&下机批次数",
         "zeroline": true
        }
       }
      },
      "text/html": [
       "<div id=\"909bd761-c3c2-4499-b78f-58713abe9c35\" style=\"height: 525px; width: 100%;\" class=\"plotly-graph-div\"></div><script type=\"text/javascript\">require([\"plotly\"], function(Plotly) { window.PLOTLYENV=window.PLOTLYENV || {};window.PLOTLYENV.BASE_URL=\"https://plot.ly\";Plotly.newPlot(\"909bd761-c3c2-4499-b78f-58713abe9c35\", [{\"line\": {\"dash\": \"solid\"}, \"name\": \"\\u4e0b\\u673a\\u9879\\u76ee\\u6570(\\u5c48\\u6602)\", \"x\": [\"8-1\", \"8-2\", \"8-3\", \"8-4\", \"8-5\", \"9-1\", \"9-2\", \"9-3\", \"9-4\", \"10-2\", \"10-3\", \"10-4\", \"10-5\", \"11-1\"], \"y\": [36.0, 62.0, 62.0, 96.0, 76.0, 117.0, 38.0, 19.0, 15.0, 1.0, 3.0, 0.0, 1.0, 2.0], \"type\": \"scatter\", \"uid\": \"d5f0d8a6-e702-11e8-8ddb-a41f72875c19\"}, {\"line\": {\"dash\": \"dot\"}, \"name\": \"\\u4e0b\\u673a\\u9879\\u76ee\\u6570(\\u9ad8\\u5251)\", \"x\": [\"8-1\", \"8-2\", \"8-3\", \"8-4\", \"8-5\", \"9-1\", \"9-2\", \"9-3\", \"9-4\", \"10-2\", \"10-3\", \"10-4\", \"10-5\", \"11-1\"], \"y\": [null, null, null, null, null, null, null, null, null, null, null, null, 4.0, 4.0], \"type\": \"scatter\", \"uid\": \"d5f0d8a7-e702-11e8-8ddb-a41f72875c19\"}, {\"line\": {\"dash\": \"dash\"}, \"name\": \"\\u4e0b\\u673a\\u9879\\u76ee\\u6570(\\u6c88\\u6069\\u60e0)\", \"x\": [\"8-1\", \"8-2\", \"8-3\", \"8-4\", \"8-5\", \"9-1\", \"9-2\", \"9-3\", \"9-4\", \"10-2\", \"10-3\", \"10-4\", \"10-5\", \"11-1\"], \"y\": [null, null, null, null, null, null, null, null, null, null, null, null, 5.0, 5.0], \"type\": \"scatter\", \"uid\": \"d5f0d8a8-e702-11e8-8ddb-a41f72875c19\"}, {\"line\": {\"dash\": \"longdash\"}, \"name\": \"\\u4e0b\\u673a\\u9879\\u76ee\\u6570(\\u8f66\\u5929\\u680b)\", \"x\": [\"8-1\", \"8-2\", \"8-3\", \"8-4\", \"8-5\", \"9-1\", \"9-2\", \"9-3\", \"9-4\", \"10-2\", \"10-3\", \"10-4\", \"10-5\", \"11-1\"], \"y\": [null, null, null, null, null, null, null, null, null, null, null, null, 2.0, 2.0], \"type\": \"scatter\", \"uid\": \"d5f0d8a9-e702-11e8-8ddb-a41f72875c19\"}, {\"line\": {\"dash\": \"dashdot\"}, \"name\": \"\\u4e0b\\u673a\\u9879\\u76ee\\u6570(\\u51b7\\u96ea)\", \"x\": [\"8-1\", \"8-2\", \"8-3\", \"8-4\", \"8-5\", \"9-1\", \"9-2\", \"9-3\", \"9-4\", \"10-2\", \"10-3\", \"10-4\", \"10-5\", \"11-1\"], \"y\": [31.0, 49.0, 51.0, 26.0, 2.0, 54.0, 63.0, 103.0, 138.0, 65.0, 107.0, 124.0, 109.0, 105.0], \"type\": \"scatter\", \"uid\": \"d5f0d8aa-e702-11e8-8ddb-a41f72875c19\"}, {\"line\": {\"dash\": \"longdashdot\"}, \"name\": \"\\u4e0b\\u673a\\u9879\\u76ee\\u6570(\\u6c88\\u7acb\\u7fa4)\", \"x\": [\"8-1\", \"8-2\", \"8-3\", \"8-4\", \"8-5\", \"9-1\", \"9-2\", \"9-3\", \"9-4\", \"10-2\", \"10-3\", \"10-4\", \"10-5\", \"11-1\"], \"y\": [null, null, null, null, null, null, null, null, null, null, null, null, 4.0, 4.0], \"type\": \"scatter\", \"uid\": \"d5f0d8ab-e702-11e8-8ddb-a41f72875c19\"}, {\"line\": {\"dash\": \"solid\"}, \"name\": \"\\u4e0b\\u673a\\u9879\\u76ee\\u6570(\\u5362\\u6960)\", \"x\": [\"8-1\", \"8-2\", \"8-3\", \"8-4\", \"8-5\", \"9-1\", \"9-2\", \"9-3\", \"9-4\", \"10-2\", \"10-3\", \"10-4\", \"10-5\", \"11-1\"], \"y\": [26.0, 34.0, 21.0, 13.0, 2.0, 1.0, 2.0, null, null, null, null, null, null, null], \"type\": \"scatter\", \"uid\": \"d5f0d8ac-e702-11e8-8ddb-a41f72875c19\"}, {\"line\": {\"dash\": \"dot\"}, \"name\": \"\\u4e0b\\u673a\\u9879\\u76ee\\u6570(\\u6797\\u6587\\u6587)\", \"x\": [\"8-1\", \"8-2\", \"8-3\", \"8-4\", \"8-5\", \"9-1\", \"9-2\", \"9-3\", \"9-4\", \"10-2\", \"10-3\", \"10-4\", \"10-5\", \"11-1\"], \"y\": [null, null, null, null, null, null, null, null, null, null, null, null, 6.0, 6.0], \"type\": \"scatter\", \"uid\": \"d5f0d8ad-e702-11e8-8ddb-a41f72875c19\"}, {\"line\": {\"dash\": \"dash\"}, \"name\": \"\\u4e0b\\u673a\\u9879\\u76ee\\u6570(\\u5f20\\u60a6)\", \"x\": [\"8-1\", \"8-2\", \"8-3\", \"8-4\", \"8-5\", \"9-1\", \"9-2\", \"9-3\", \"9-4\", \"10-2\", \"10-3\", \"10-4\", \"10-5\", \"11-1\"], \"y\": [1.0, 1.0, 1.0, 1.0, 5.0, 2.0, null, null, null, null, null, null, null, null], \"type\": \"scatter\", \"uid\": \"d5f0d8ae-e702-11e8-8ddb-a41f72875c19\"}, {\"line\": {\"dash\": \"longdash\"}, \"name\": \"\\u4e0b\\u673a\\u9879\\u76ee\\u6570(\\u738b\\u4f20\\u6587)\", \"x\": [\"8-1\", \"8-2\", \"8-3\", \"8-4\", \"8-5\", \"9-1\", \"9-2\", \"9-3\", \"9-4\", \"10-2\", \"10-3\", \"10-4\", \"10-5\", \"11-1\"], \"y\": [null, null, null, null, null, null, null, null, null, null, null, null, 5.0, 5.0], \"type\": \"scatter\", \"uid\": \"d5f0d8af-e702-11e8-8ddb-a41f72875c19\"}, {\"line\": {\"dash\": \"solid\"}, \"name\": \"\\u4e0b\\u673a\\u6279\\u6b21\\u6570(\\u5c48\\u6602)\", \"x\": [\"8-1\", \"8-2\", \"8-3\", \"8-4\", \"8-5\", \"9-1\", \"9-2\", \"9-3\", \"9-4\", \"10-2\", \"10-3\", \"10-4\", \"10-5\", \"11-1\"], \"y\": [42.0, 74.0, 75.0, 119.0, 85.0, 135.0, 45.0, 21.0, 17.0, 1.0, 3.0, 0.0, 1.0, 2.0], \"type\": \"scatter\", \"uid\": \"d5f0d8b0-e702-11e8-8ddb-a41f72875c19\"}, {\"line\": {\"dash\": \"dot\"}, \"name\": \"\\u4e0b\\u673a\\u6279\\u6b21\\u6570(\\u9ad8\\u5251)\", \"x\": [\"8-1\", \"8-2\", \"8-3\", \"8-4\", \"8-5\", \"9-1\", \"9-2\", \"9-3\", \"9-4\", \"10-2\", \"10-3\", \"10-4\", \"10-5\", \"11-1\"], \"y\": [null, null, null, null, null, null, null, null, null, null, null, null, 4.0, 4.0], \"type\": \"scatter\", \"uid\": \"d5f0d8b1-e702-11e8-8ddb-a41f72875c19\"}, {\"line\": {\"dash\": \"dash\"}, \"name\": \"\\u4e0b\\u673a\\u6279\\u6b21\\u6570(\\u6c88\\u6069\\u60e0)\", \"x\": [\"8-1\", \"8-2\", \"8-3\", \"8-4\", \"8-5\", \"9-1\", \"9-2\", \"9-3\", \"9-4\", \"10-2\", \"10-3\", \"10-4\", \"10-5\", \"11-1\"], \"y\": [null, null, null, null, null, null, null, null, null, null, null, null, 5.0, 5.0], \"type\": \"scatter\", \"uid\": \"d5f0d8b2-e702-11e8-8ddb-a41f72875c19\"}, {\"line\": {\"dash\": \"longdash\"}, \"name\": \"\\u4e0b\\u673a\\u6279\\u6b21\\u6570(\\u8f66\\u5929\\u680b)\", \"x\": [\"8-1\", \"8-2\", \"8-3\", \"8-4\", \"8-5\", \"9-1\", \"9-2\", \"9-3\", \"9-4\", \"10-2\", \"10-3\", \"10-4\", \"10-5\", \"11-1\"], \"y\": [null, null, null, null, null, null, null, null, null, null, null, null, 2.0, 2.0], \"type\": \"scatter\", \"uid\": \"d5f0d8b3-e702-11e8-8ddb-a41f72875c19\"}, {\"line\": {\"dash\": \"dashdot\"}, \"name\": \"\\u4e0b\\u673a\\u6279\\u6b21\\u6570(\\u51b7\\u96ea)\", \"x\": [\"8-1\", \"8-2\", \"8-3\", \"8-4\", \"8-5\", \"9-1\", \"9-2\", \"9-3\", \"9-4\", \"10-2\", \"10-3\", \"10-4\", \"10-5\", \"11-1\"], \"y\": [38.0, 58.0, 66.0, 28.0, 5.0, 58.0, 76.0, 115.0, 159.0, 69.0, 129.0, 137.0, 132.0, 128.0], \"type\": \"scatter\", \"uid\": \"d5f0d8b4-e702-11e8-8ddb-a41f72875c19\"}, {\"line\": {\"dash\": \"longdashdot\"}, \"name\": \"\\u4e0b\\u673a\\u6279\\u6b21\\u6570(\\u6c88\\u7acb\\u7fa4)\", \"x\": [\"8-1\", \"8-2\", \"8-3\", \"8-4\", \"8-5\", \"9-1\", \"9-2\", \"9-3\", \"9-4\", \"10-2\", \"10-3\", \"10-4\", \"10-5\", \"11-1\"], \"y\": [null, null, null, null, null, null, null, null, null, null, null, null, 4.0, 4.0], \"type\": \"scatter\", \"uid\": \"d5f0d8b5-e702-11e8-8ddb-a41f72875c19\"}, {\"line\": {\"dash\": \"solid\"}, \"name\": \"\\u4e0b\\u673a\\u6279\\u6b21\\u6570(\\u5362\\u6960)\", \"x\": [\"8-1\", \"8-2\", \"8-3\", \"8-4\", \"8-5\", \"9-1\", \"9-2\", \"9-3\", \"9-4\", \"10-2\", \"10-3\", \"10-4\", \"10-5\", \"11-1\"], \"y\": [36.0, 47.0, 23.0, 13.0, 3.0, 2.0, 3.0, null, null, null, null, null, null, null], \"type\": \"scatter\", \"uid\": \"d5f0d8b6-e702-11e8-8ddb-a41f72875c19\"}, {\"line\": {\"dash\": \"dot\"}, \"name\": \"\\u4e0b\\u673a\\u6279\\u6b21\\u6570(\\u6797\\u6587\\u6587)\", \"x\": [\"8-1\", \"8-2\", \"8-3\", \"8-4\", \"8-5\", \"9-1\", \"9-2\", \"9-3\", \"9-4\", \"10-2\", \"10-3\", \"10-4\", \"10-5\", \"11-1\"], \"y\": [null, null, null, null, null, null, null, null, null, null, null, null, 6.0, 6.0], \"type\": \"scatter\", \"uid\": \"d5f0d8b7-e702-11e8-8ddb-a41f72875c19\"}, {\"line\": {\"dash\": \"dash\"}, \"name\": \"\\u4e0b\\u673a\\u6279\\u6b21\\u6570(\\u5f20\\u60a6)\", \"x\": [\"8-1\", \"8-2\", \"8-3\", \"8-4\", \"8-5\", \"9-1\", \"9-2\", \"9-3\", \"9-4\", \"10-2\", \"10-3\", \"10-4\", \"10-5\", \"11-1\"], \"y\": [2.0, 2.0, 1.0, 1.0, 7.0, 4.0, null, null, null, null, null, null, null, null], \"type\": \"scatter\", \"uid\": \"d5f0d8b8-e702-11e8-8ddb-a41f72875c19\"}, {\"line\": {\"dash\": \"longdash\"}, \"name\": \"\\u4e0b\\u673a\\u6279\\u6b21\\u6570(\\u738b\\u4f20\\u6587)\", \"x\": [\"8-1\", \"8-2\", \"8-3\", \"8-4\", \"8-5\", \"9-1\", \"9-2\", \"9-3\", \"9-4\", \"10-2\", \"10-3\", \"10-4\", \"10-5\", \"11-1\"], \"y\": [null, null, null, null, null, null, null, null, null, null, null, null, 5.0, 5.0], \"type\": \"scatter\", \"uid\": \"d5f0d8b9-e702-11e8-8ddb-a41f72875c19\"}], {\"title\": \"\\u4e0b\\u673a\\u9879\\u76ee\\u6570&\\u4e0b\\u673a\\u6279\\u6b21\\u6570\\u5468\\u8d8b\\u52bf\\u56fe\", \"xaxis\": {\"mirror\": \"all\", \"nticks\": 20, \"showgrid\": true, \"showline\": true, \"title\": \"\\u5468\", \"type\": \"category\", \"zeroline\": true}, \"yaxis\": {\"mirror\": \"all\", \"nticks\": 20, \"showgrid\": true, \"showline\": true, \"title\": \"\\u4e0b\\u673a\\u9879\\u76ee\\u6570&\\u4e0b\\u673a\\u6279\\u6b21\\u6570\", \"zeroline\": true}}, {\"showLink\": true, \"linkText\": \"Export to plot.ly\"})});</script>"
      ],
      "text/vnd.plotly.v1+html": [
       "<div id=\"909bd761-c3c2-4499-b78f-58713abe9c35\" style=\"height: 525px; width: 100%;\" class=\"plotly-graph-div\"></div><script type=\"text/javascript\">require([\"plotly\"], function(Plotly) { window.PLOTLYENV=window.PLOTLYENV || {};window.PLOTLYENV.BASE_URL=\"https://plot.ly\";Plotly.newPlot(\"909bd761-c3c2-4499-b78f-58713abe9c35\", [{\"line\": {\"dash\": \"solid\"}, \"name\": \"\\u4e0b\\u673a\\u9879\\u76ee\\u6570(\\u5c48\\u6602)\", \"x\": [\"8-1\", \"8-2\", \"8-3\", \"8-4\", \"8-5\", \"9-1\", \"9-2\", \"9-3\", \"9-4\", \"10-2\", \"10-3\", \"10-4\", \"10-5\", \"11-1\"], \"y\": [36.0, 62.0, 62.0, 96.0, 76.0, 117.0, 38.0, 19.0, 15.0, 1.0, 3.0, 0.0, 1.0, 2.0], \"type\": \"scatter\", \"uid\": \"d5f0d8a6-e702-11e8-8ddb-a41f72875c19\"}, {\"line\": {\"dash\": \"dot\"}, \"name\": \"\\u4e0b\\u673a\\u9879\\u76ee\\u6570(\\u9ad8\\u5251)\", \"x\": [\"8-1\", \"8-2\", \"8-3\", \"8-4\", \"8-5\", \"9-1\", \"9-2\", \"9-3\", \"9-4\", \"10-2\", \"10-3\", \"10-4\", \"10-5\", \"11-1\"], \"y\": [null, null, null, null, null, null, null, null, null, null, null, null, 4.0, 4.0], \"type\": \"scatter\", \"uid\": \"d5f0d8a7-e702-11e8-8ddb-a41f72875c19\"}, {\"line\": {\"dash\": \"dash\"}, \"name\": \"\\u4e0b\\u673a\\u9879\\u76ee\\u6570(\\u6c88\\u6069\\u60e0)\", \"x\": [\"8-1\", \"8-2\", \"8-3\", \"8-4\", \"8-5\", \"9-1\", \"9-2\", \"9-3\", \"9-4\", \"10-2\", \"10-3\", \"10-4\", \"10-5\", \"11-1\"], \"y\": [null, null, null, null, null, null, null, null, null, null, null, null, 5.0, 5.0], \"type\": \"scatter\", \"uid\": \"d5f0d8a8-e702-11e8-8ddb-a41f72875c19\"}, {\"line\": {\"dash\": \"longdash\"}, \"name\": \"\\u4e0b\\u673a\\u9879\\u76ee\\u6570(\\u8f66\\u5929\\u680b)\", \"x\": [\"8-1\", \"8-2\", \"8-3\", \"8-4\", \"8-5\", \"9-1\", \"9-2\", \"9-3\", \"9-4\", \"10-2\", \"10-3\", \"10-4\", \"10-5\", \"11-1\"], \"y\": [null, null, null, null, null, null, null, null, null, null, null, null, 2.0, 2.0], \"type\": \"scatter\", \"uid\": \"d5f0d8a9-e702-11e8-8ddb-a41f72875c19\"}, {\"line\": {\"dash\": \"dashdot\"}, \"name\": \"\\u4e0b\\u673a\\u9879\\u76ee\\u6570(\\u51b7\\u96ea)\", \"x\": [\"8-1\", \"8-2\", \"8-3\", \"8-4\", \"8-5\", \"9-1\", \"9-2\", \"9-3\", \"9-4\", \"10-2\", \"10-3\", \"10-4\", \"10-5\", \"11-1\"], \"y\": [31.0, 49.0, 51.0, 26.0, 2.0, 54.0, 63.0, 103.0, 138.0, 65.0, 107.0, 124.0, 109.0, 105.0], \"type\": \"scatter\", \"uid\": \"d5f0d8aa-e702-11e8-8ddb-a41f72875c19\"}, {\"line\": {\"dash\": \"longdashdot\"}, \"name\": \"\\u4e0b\\u673a\\u9879\\u76ee\\u6570(\\u6c88\\u7acb\\u7fa4)\", \"x\": [\"8-1\", \"8-2\", \"8-3\", \"8-4\", \"8-5\", \"9-1\", \"9-2\", \"9-3\", \"9-4\", \"10-2\", \"10-3\", \"10-4\", \"10-5\", \"11-1\"], \"y\": [null, null, null, null, null, null, null, null, null, null, null, null, 4.0, 4.0], \"type\": \"scatter\", \"uid\": \"d5f0d8ab-e702-11e8-8ddb-a41f72875c19\"}, {\"line\": {\"dash\": \"solid\"}, \"name\": \"\\u4e0b\\u673a\\u9879\\u76ee\\u6570(\\u5362\\u6960)\", \"x\": [\"8-1\", \"8-2\", \"8-3\", \"8-4\", \"8-5\", \"9-1\", \"9-2\", \"9-3\", \"9-4\", \"10-2\", \"10-3\", \"10-4\", \"10-5\", \"11-1\"], \"y\": [26.0, 34.0, 21.0, 13.0, 2.0, 1.0, 2.0, null, null, null, null, null, null, null], \"type\": \"scatter\", \"uid\": \"d5f0d8ac-e702-11e8-8ddb-a41f72875c19\"}, {\"line\": {\"dash\": \"dot\"}, \"name\": \"\\u4e0b\\u673a\\u9879\\u76ee\\u6570(\\u6797\\u6587\\u6587)\", \"x\": [\"8-1\", \"8-2\", \"8-3\", \"8-4\", \"8-5\", \"9-1\", \"9-2\", \"9-3\", \"9-4\", \"10-2\", \"10-3\", \"10-4\", \"10-5\", \"11-1\"], \"y\": [null, null, null, null, null, null, null, null, null, null, null, null, 6.0, 6.0], \"type\": \"scatter\", \"uid\": \"d5f0d8ad-e702-11e8-8ddb-a41f72875c19\"}, {\"line\": {\"dash\": \"dash\"}, \"name\": \"\\u4e0b\\u673a\\u9879\\u76ee\\u6570(\\u5f20\\u60a6)\", \"x\": [\"8-1\", \"8-2\", \"8-3\", \"8-4\", \"8-5\", \"9-1\", \"9-2\", \"9-3\", \"9-4\", \"10-2\", \"10-3\", \"10-4\", \"10-5\", \"11-1\"], \"y\": [1.0, 1.0, 1.0, 1.0, 5.0, 2.0, null, null, null, null, null, null, null, null], \"type\": \"scatter\", \"uid\": \"d5f0d8ae-e702-11e8-8ddb-a41f72875c19\"}, {\"line\": {\"dash\": \"longdash\"}, \"name\": \"\\u4e0b\\u673a\\u9879\\u76ee\\u6570(\\u738b\\u4f20\\u6587)\", \"x\": [\"8-1\", \"8-2\", \"8-3\", \"8-4\", \"8-5\", \"9-1\", \"9-2\", \"9-3\", \"9-4\", \"10-2\", \"10-3\", \"10-4\", \"10-5\", \"11-1\"], \"y\": [null, null, null, null, null, null, null, null, null, null, null, null, 5.0, 5.0], \"type\": \"scatter\", \"uid\": \"d5f0d8af-e702-11e8-8ddb-a41f72875c19\"}, {\"line\": {\"dash\": \"solid\"}, \"name\": \"\\u4e0b\\u673a\\u6279\\u6b21\\u6570(\\u5c48\\u6602)\", \"x\": [\"8-1\", \"8-2\", \"8-3\", \"8-4\", \"8-5\", \"9-1\", \"9-2\", \"9-3\", \"9-4\", \"10-2\", \"10-3\", \"10-4\", \"10-5\", \"11-1\"], \"y\": [42.0, 74.0, 75.0, 119.0, 85.0, 135.0, 45.0, 21.0, 17.0, 1.0, 3.0, 0.0, 1.0, 2.0], \"type\": \"scatter\", \"uid\": \"d5f0d8b0-e702-11e8-8ddb-a41f72875c19\"}, {\"line\": {\"dash\": \"dot\"}, \"name\": \"\\u4e0b\\u673a\\u6279\\u6b21\\u6570(\\u9ad8\\u5251)\", \"x\": [\"8-1\", \"8-2\", \"8-3\", \"8-4\", \"8-5\", \"9-1\", \"9-2\", \"9-3\", \"9-4\", \"10-2\", \"10-3\", \"10-4\", \"10-5\", \"11-1\"], \"y\": [null, null, null, null, null, null, null, null, null, null, null, null, 4.0, 4.0], \"type\": \"scatter\", \"uid\": \"d5f0d8b1-e702-11e8-8ddb-a41f72875c19\"}, {\"line\": {\"dash\": \"dash\"}, \"name\": \"\\u4e0b\\u673a\\u6279\\u6b21\\u6570(\\u6c88\\u6069\\u60e0)\", \"x\": [\"8-1\", \"8-2\", \"8-3\", \"8-4\", \"8-5\", \"9-1\", \"9-2\", \"9-3\", \"9-4\", \"10-2\", \"10-3\", \"10-4\", \"10-5\", \"11-1\"], \"y\": [null, null, null, null, null, null, null, null, null, null, null, null, 5.0, 5.0], \"type\": \"scatter\", \"uid\": \"d5f0d8b2-e702-11e8-8ddb-a41f72875c19\"}, {\"line\": {\"dash\": \"longdash\"}, \"name\": \"\\u4e0b\\u673a\\u6279\\u6b21\\u6570(\\u8f66\\u5929\\u680b)\", \"x\": [\"8-1\", \"8-2\", \"8-3\", \"8-4\", \"8-5\", \"9-1\", \"9-2\", \"9-3\", \"9-4\", \"10-2\", \"10-3\", \"10-4\", \"10-5\", \"11-1\"], \"y\": [null, null, null, null, null, null, null, null, null, null, null, null, 2.0, 2.0], \"type\": \"scatter\", \"uid\": \"d5f0d8b3-e702-11e8-8ddb-a41f72875c19\"}, {\"line\": {\"dash\": \"dashdot\"}, \"name\": \"\\u4e0b\\u673a\\u6279\\u6b21\\u6570(\\u51b7\\u96ea)\", \"x\": [\"8-1\", \"8-2\", \"8-3\", \"8-4\", \"8-5\", \"9-1\", \"9-2\", \"9-3\", \"9-4\", \"10-2\", \"10-3\", \"10-4\", \"10-5\", \"11-1\"], \"y\": [38.0, 58.0, 66.0, 28.0, 5.0, 58.0, 76.0, 115.0, 159.0, 69.0, 129.0, 137.0, 132.0, 128.0], \"type\": \"scatter\", \"uid\": \"d5f0d8b4-e702-11e8-8ddb-a41f72875c19\"}, {\"line\": {\"dash\": \"longdashdot\"}, \"name\": \"\\u4e0b\\u673a\\u6279\\u6b21\\u6570(\\u6c88\\u7acb\\u7fa4)\", \"x\": [\"8-1\", \"8-2\", \"8-3\", \"8-4\", \"8-5\", \"9-1\", \"9-2\", \"9-3\", \"9-4\", \"10-2\", \"10-3\", \"10-4\", \"10-5\", \"11-1\"], \"y\": [null, null, null, null, null, null, null, null, null, null, null, null, 4.0, 4.0], \"type\": \"scatter\", \"uid\": \"d5f0d8b5-e702-11e8-8ddb-a41f72875c19\"}, {\"line\": {\"dash\": \"solid\"}, \"name\": \"\\u4e0b\\u673a\\u6279\\u6b21\\u6570(\\u5362\\u6960)\", \"x\": [\"8-1\", \"8-2\", \"8-3\", \"8-4\", \"8-5\", \"9-1\", \"9-2\", \"9-3\", \"9-4\", \"10-2\", \"10-3\", \"10-4\", \"10-5\", \"11-1\"], \"y\": [36.0, 47.0, 23.0, 13.0, 3.0, 2.0, 3.0, null, null, null, null, null, null, null], \"type\": \"scatter\", \"uid\": \"d5f0d8b6-e702-11e8-8ddb-a41f72875c19\"}, {\"line\": {\"dash\": \"dot\"}, \"name\": \"\\u4e0b\\u673a\\u6279\\u6b21\\u6570(\\u6797\\u6587\\u6587)\", \"x\": [\"8-1\", \"8-2\", \"8-3\", \"8-4\", \"8-5\", \"9-1\", \"9-2\", \"9-3\", \"9-4\", \"10-2\", \"10-3\", \"10-4\", \"10-5\", \"11-1\"], \"y\": [null, null, null, null, null, null, null, null, null, null, null, null, 6.0, 6.0], \"type\": \"scatter\", \"uid\": \"d5f0d8b7-e702-11e8-8ddb-a41f72875c19\"}, {\"line\": {\"dash\": \"dash\"}, \"name\": \"\\u4e0b\\u673a\\u6279\\u6b21\\u6570(\\u5f20\\u60a6)\", \"x\": [\"8-1\", \"8-2\", \"8-3\", \"8-4\", \"8-5\", \"9-1\", \"9-2\", \"9-3\", \"9-4\", \"10-2\", \"10-3\", \"10-4\", \"10-5\", \"11-1\"], \"y\": [2.0, 2.0, 1.0, 1.0, 7.0, 4.0, null, null, null, null, null, null, null, null], \"type\": \"scatter\", \"uid\": \"d5f0d8b8-e702-11e8-8ddb-a41f72875c19\"}, {\"line\": {\"dash\": \"longdash\"}, \"name\": \"\\u4e0b\\u673a\\u6279\\u6b21\\u6570(\\u738b\\u4f20\\u6587)\", \"x\": [\"8-1\", \"8-2\", \"8-3\", \"8-4\", \"8-5\", \"9-1\", \"9-2\", \"9-3\", \"9-4\", \"10-2\", \"10-3\", \"10-4\", \"10-5\", \"11-1\"], \"y\": [null, null, null, null, null, null, null, null, null, null, null, null, 5.0, 5.0], \"type\": \"scatter\", \"uid\": \"d5f0d8b9-e702-11e8-8ddb-a41f72875c19\"}], {\"title\": \"\\u4e0b\\u673a\\u9879\\u76ee\\u6570&\\u4e0b\\u673a\\u6279\\u6b21\\u6570\\u5468\\u8d8b\\u52bf\\u56fe\", \"xaxis\": {\"mirror\": \"all\", \"nticks\": 20, \"showgrid\": true, \"showline\": true, \"title\": \"\\u5468\", \"type\": \"category\", \"zeroline\": true}, \"yaxis\": {\"mirror\": \"all\", \"nticks\": 20, \"showgrid\": true, \"showline\": true, \"title\": \"\\u4e0b\\u673a\\u9879\\u76ee\\u6570&\\u4e0b\\u673a\\u6279\\u6b21\\u6570\", \"zeroline\": true}}, {\"showLink\": true, \"linkText\": \"Export to plot.ly\"})});</script>"
      ]
     },
     "metadata": {},
     "output_type": "display_data"
    },
    {
     "data": {
      "application/vnd.plotly.v1+json": {
       "data": [
        {
         "line": {
          "dash": "solid"
         },
         "name": "下机项目数(屈昂)",
         "type": "scatter",
         "uid": "d5f0d8ba-e702-11e8-8ddb-a41f72875c19",
         "x": [
          8,
          9,
          10,
          11
         ],
         "y": [
          332,
          189,
          5,
          2
         ]
        },
        {
         "line": {
          "dash": "dot"
         },
         "name": "下机项目数(高剑)",
         "type": "scatter",
         "uid": "d5f0d8bb-e702-11e8-8ddb-a41f72875c19",
         "x": [
          8,
          9,
          10,
          11
         ],
         "y": [
          null,
          null,
          4,
          4
         ]
        },
        {
         "line": {
          "dash": "dash"
         },
         "name": "下机项目数(沈恩惠)",
         "type": "scatter",
         "uid": "d5f0d8bc-e702-11e8-8ddb-a41f72875c19",
         "x": [
          8,
          9,
          10,
          11
         ],
         "y": [
          null,
          null,
          5,
          5
         ]
        },
        {
         "line": {
          "dash": "longdash"
         },
         "name": "下机项目数(车天栋)",
         "type": "scatter",
         "uid": "d5f0d8bd-e702-11e8-8ddb-a41f72875c19",
         "x": [
          8,
          9,
          10,
          11
         ],
         "y": [
          null,
          null,
          2,
          2
         ]
        },
        {
         "line": {
          "dash": "dashdot"
         },
         "name": "下机项目数(冷雪)",
         "type": "scatter",
         "uid": "d5f0d8be-e702-11e8-8ddb-a41f72875c19",
         "x": [
          8,
          9,
          10,
          11
         ],
         "y": [
          159,
          358,
          405,
          105
         ]
        },
        {
         "line": {
          "dash": "longdashdot"
         },
         "name": "下机项目数(沈立群)",
         "type": "scatter",
         "uid": "d5f0d8bf-e702-11e8-8ddb-a41f72875c19",
         "x": [
          8,
          9,
          10,
          11
         ],
         "y": [
          null,
          null,
          4,
          4
         ]
        },
        {
         "line": {
          "dash": "solid"
         },
         "name": "下机项目数(卢楠)",
         "type": "scatter",
         "uid": "d5f0d8c0-e702-11e8-8ddb-a41f72875c19",
         "x": [
          8,
          9,
          10,
          11
         ],
         "y": [
          96,
          3,
          null,
          null
         ]
        },
        {
         "line": {
          "dash": "dot"
         },
         "name": "下机项目数(林文文)",
         "type": "scatter",
         "uid": "d5f0d8c1-e702-11e8-8ddb-a41f72875c19",
         "x": [
          8,
          9,
          10,
          11
         ],
         "y": [
          null,
          null,
          6,
          6
         ]
        },
        {
         "line": {
          "dash": "dash"
         },
         "name": "下机项目数(张悦)",
         "type": "scatter",
         "uid": "d5f0d8c2-e702-11e8-8ddb-a41f72875c19",
         "x": [
          8,
          9,
          10,
          11
         ],
         "y": [
          9,
          2,
          null,
          null
         ]
        },
        {
         "line": {
          "dash": "longdash"
         },
         "name": "下机项目数(王传文)",
         "type": "scatter",
         "uid": "d5f0d8c3-e702-11e8-8ddb-a41f72875c19",
         "x": [
          8,
          9,
          10,
          11
         ],
         "y": [
          null,
          null,
          5,
          5
         ]
        },
        {
         "line": {
          "dash": "solid"
         },
         "name": "下机批次数(屈昂)",
         "type": "scatter",
         "uid": "d5f0d8c4-e702-11e8-8ddb-a41f72875c19",
         "x": [
          8,
          9,
          10,
          11
         ],
         "y": [
          395,
          218,
          5,
          2
         ]
        },
        {
         "line": {
          "dash": "dot"
         },
         "name": "下机批次数(高剑)",
         "type": "scatter",
         "uid": "d5f0d8c5-e702-11e8-8ddb-a41f72875c19",
         "x": [
          8,
          9,
          10,
          11
         ],
         "y": [
          null,
          null,
          4,
          4
         ]
        },
        {
         "line": {
          "dash": "dash"
         },
         "name": "下机批次数(沈恩惠)",
         "type": "scatter",
         "uid": "d5f0d8c6-e702-11e8-8ddb-a41f72875c19",
         "x": [
          8,
          9,
          10,
          11
         ],
         "y": [
          null,
          null,
          5,
          5
         ]
        },
        {
         "line": {
          "dash": "longdash"
         },
         "name": "下机批次数(车天栋)",
         "type": "scatter",
         "uid": "d5f0d8c7-e702-11e8-8ddb-a41f72875c19",
         "x": [
          8,
          9,
          10,
          11
         ],
         "y": [
          null,
          null,
          2,
          2
         ]
        },
        {
         "line": {
          "dash": "dashdot"
         },
         "name": "下机批次数(冷雪)",
         "type": "scatter",
         "uid": "d5f0d8c8-e702-11e8-8ddb-a41f72875c19",
         "x": [
          8,
          9,
          10,
          11
         ],
         "y": [
          195,
          408,
          467,
          128
         ]
        },
        {
         "line": {
          "dash": "longdashdot"
         },
         "name": "下机批次数(沈立群)",
         "type": "scatter",
         "uid": "d5f0d8c9-e702-11e8-8ddb-a41f72875c19",
         "x": [
          8,
          9,
          10,
          11
         ],
         "y": [
          null,
          null,
          4,
          4
         ]
        },
        {
         "line": {
          "dash": "solid"
         },
         "name": "下机批次数(卢楠)",
         "type": "scatter",
         "uid": "d5f0d8ca-e702-11e8-8ddb-a41f72875c19",
         "x": [
          8,
          9,
          10,
          11
         ],
         "y": [
          122,
          5,
          null,
          null
         ]
        },
        {
         "line": {
          "dash": "dot"
         },
         "name": "下机批次数(林文文)",
         "type": "scatter",
         "uid": "d5f0d8cb-e702-11e8-8ddb-a41f72875c19",
         "x": [
          8,
          9,
          10,
          11
         ],
         "y": [
          null,
          null,
          6,
          6
         ]
        },
        {
         "line": {
          "dash": "dash"
         },
         "name": "下机批次数(张悦)",
         "type": "scatter",
         "uid": "d5f0d8cc-e702-11e8-8ddb-a41f72875c19",
         "x": [
          8,
          9,
          10,
          11
         ],
         "y": [
          13,
          4,
          null,
          null
         ]
        },
        {
         "line": {
          "dash": "longdash"
         },
         "name": "下机批次数(王传文)",
         "type": "scatter",
         "uid": "d5f0d8cd-e702-11e8-8ddb-a41f72875c19",
         "x": [
          8,
          9,
          10,
          11
         ],
         "y": [
          null,
          null,
          5,
          5
         ]
        }
       ],
       "layout": {
        "title": "下机项目数&下机批次数月趋势图",
        "xaxis": {
         "mirror": "all",
         "nticks": 20,
         "showgrid": true,
         "showline": true,
         "title": "月",
         "type": "category",
         "zeroline": true
        },
        "yaxis": {
         "mirror": "all",
         "nticks": 20,
         "showgrid": true,
         "showline": true,
         "title": "下机项目数&下机批次数",
         "zeroline": true
        }
       }
      },
      "text/html": [
       "<div id=\"845eb511-4392-433c-873f-65b1a39d3b36\" style=\"height: 525px; width: 100%;\" class=\"plotly-graph-div\"></div><script type=\"text/javascript\">require([\"plotly\"], function(Plotly) { window.PLOTLYENV=window.PLOTLYENV || {};window.PLOTLYENV.BASE_URL=\"https://plot.ly\";Plotly.newPlot(\"845eb511-4392-433c-873f-65b1a39d3b36\", [{\"line\": {\"dash\": \"solid\"}, \"name\": \"\\u4e0b\\u673a\\u9879\\u76ee\\u6570(\\u5c48\\u6602)\", \"x\": [8, 9, 10, 11], \"y\": [332.0, 189.0, 5.0, 2.0], \"type\": \"scatter\", \"uid\": \"d5f0d8ba-e702-11e8-8ddb-a41f72875c19\"}, {\"line\": {\"dash\": \"dot\"}, \"name\": \"\\u4e0b\\u673a\\u9879\\u76ee\\u6570(\\u9ad8\\u5251)\", \"x\": [8, 9, 10, 11], \"y\": [null, null, 4.0, 4.0], \"type\": \"scatter\", \"uid\": \"d5f0d8bb-e702-11e8-8ddb-a41f72875c19\"}, {\"line\": {\"dash\": \"dash\"}, \"name\": \"\\u4e0b\\u673a\\u9879\\u76ee\\u6570(\\u6c88\\u6069\\u60e0)\", \"x\": [8, 9, 10, 11], \"y\": [null, null, 5.0, 5.0], \"type\": \"scatter\", \"uid\": \"d5f0d8bc-e702-11e8-8ddb-a41f72875c19\"}, {\"line\": {\"dash\": \"longdash\"}, \"name\": \"\\u4e0b\\u673a\\u9879\\u76ee\\u6570(\\u8f66\\u5929\\u680b)\", \"x\": [8, 9, 10, 11], \"y\": [null, null, 2.0, 2.0], \"type\": \"scatter\", \"uid\": \"d5f0d8bd-e702-11e8-8ddb-a41f72875c19\"}, {\"line\": {\"dash\": \"dashdot\"}, \"name\": \"\\u4e0b\\u673a\\u9879\\u76ee\\u6570(\\u51b7\\u96ea)\", \"x\": [8, 9, 10, 11], \"y\": [159.0, 358.0, 405.0, 105.0], \"type\": \"scatter\", \"uid\": \"d5f0d8be-e702-11e8-8ddb-a41f72875c19\"}, {\"line\": {\"dash\": \"longdashdot\"}, \"name\": \"\\u4e0b\\u673a\\u9879\\u76ee\\u6570(\\u6c88\\u7acb\\u7fa4)\", \"x\": [8, 9, 10, 11], \"y\": [null, null, 4.0, 4.0], \"type\": \"scatter\", \"uid\": \"d5f0d8bf-e702-11e8-8ddb-a41f72875c19\"}, {\"line\": {\"dash\": \"solid\"}, \"name\": \"\\u4e0b\\u673a\\u9879\\u76ee\\u6570(\\u5362\\u6960)\", \"x\": [8, 9, 10, 11], \"y\": [96.0, 3.0, null, null], \"type\": \"scatter\", \"uid\": \"d5f0d8c0-e702-11e8-8ddb-a41f72875c19\"}, {\"line\": {\"dash\": \"dot\"}, \"name\": \"\\u4e0b\\u673a\\u9879\\u76ee\\u6570(\\u6797\\u6587\\u6587)\", \"x\": [8, 9, 10, 11], \"y\": [null, null, 6.0, 6.0], \"type\": \"scatter\", \"uid\": \"d5f0d8c1-e702-11e8-8ddb-a41f72875c19\"}, {\"line\": {\"dash\": \"dash\"}, \"name\": \"\\u4e0b\\u673a\\u9879\\u76ee\\u6570(\\u5f20\\u60a6)\", \"x\": [8, 9, 10, 11], \"y\": [9.0, 2.0, null, null], \"type\": \"scatter\", \"uid\": \"d5f0d8c2-e702-11e8-8ddb-a41f72875c19\"}, {\"line\": {\"dash\": \"longdash\"}, \"name\": \"\\u4e0b\\u673a\\u9879\\u76ee\\u6570(\\u738b\\u4f20\\u6587)\", \"x\": [8, 9, 10, 11], \"y\": [null, null, 5.0, 5.0], \"type\": \"scatter\", \"uid\": \"d5f0d8c3-e702-11e8-8ddb-a41f72875c19\"}, {\"line\": {\"dash\": \"solid\"}, \"name\": \"\\u4e0b\\u673a\\u6279\\u6b21\\u6570(\\u5c48\\u6602)\", \"x\": [8, 9, 10, 11], \"y\": [395.0, 218.0, 5.0, 2.0], \"type\": \"scatter\", \"uid\": \"d5f0d8c4-e702-11e8-8ddb-a41f72875c19\"}, {\"line\": {\"dash\": \"dot\"}, \"name\": \"\\u4e0b\\u673a\\u6279\\u6b21\\u6570(\\u9ad8\\u5251)\", \"x\": [8, 9, 10, 11], \"y\": [null, null, 4.0, 4.0], \"type\": \"scatter\", \"uid\": \"d5f0d8c5-e702-11e8-8ddb-a41f72875c19\"}, {\"line\": {\"dash\": \"dash\"}, \"name\": \"\\u4e0b\\u673a\\u6279\\u6b21\\u6570(\\u6c88\\u6069\\u60e0)\", \"x\": [8, 9, 10, 11], \"y\": [null, null, 5.0, 5.0], \"type\": \"scatter\", \"uid\": \"d5f0d8c6-e702-11e8-8ddb-a41f72875c19\"}, {\"line\": {\"dash\": \"longdash\"}, \"name\": \"\\u4e0b\\u673a\\u6279\\u6b21\\u6570(\\u8f66\\u5929\\u680b)\", \"x\": [8, 9, 10, 11], \"y\": [null, null, 2.0, 2.0], \"type\": \"scatter\", \"uid\": \"d5f0d8c7-e702-11e8-8ddb-a41f72875c19\"}, {\"line\": {\"dash\": \"dashdot\"}, \"name\": \"\\u4e0b\\u673a\\u6279\\u6b21\\u6570(\\u51b7\\u96ea)\", \"x\": [8, 9, 10, 11], \"y\": [195.0, 408.0, 467.0, 128.0], \"type\": \"scatter\", \"uid\": \"d5f0d8c8-e702-11e8-8ddb-a41f72875c19\"}, {\"line\": {\"dash\": \"longdashdot\"}, \"name\": \"\\u4e0b\\u673a\\u6279\\u6b21\\u6570(\\u6c88\\u7acb\\u7fa4)\", \"x\": [8, 9, 10, 11], \"y\": [null, null, 4.0, 4.0], \"type\": \"scatter\", \"uid\": \"d5f0d8c9-e702-11e8-8ddb-a41f72875c19\"}, {\"line\": {\"dash\": \"solid\"}, \"name\": \"\\u4e0b\\u673a\\u6279\\u6b21\\u6570(\\u5362\\u6960)\", \"x\": [8, 9, 10, 11], \"y\": [122.0, 5.0, null, null], \"type\": \"scatter\", \"uid\": \"d5f0d8ca-e702-11e8-8ddb-a41f72875c19\"}, {\"line\": {\"dash\": \"dot\"}, \"name\": \"\\u4e0b\\u673a\\u6279\\u6b21\\u6570(\\u6797\\u6587\\u6587)\", \"x\": [8, 9, 10, 11], \"y\": [null, null, 6.0, 6.0], \"type\": \"scatter\", \"uid\": \"d5f0d8cb-e702-11e8-8ddb-a41f72875c19\"}, {\"line\": {\"dash\": \"dash\"}, \"name\": \"\\u4e0b\\u673a\\u6279\\u6b21\\u6570(\\u5f20\\u60a6)\", \"x\": [8, 9, 10, 11], \"y\": [13.0, 4.0, null, null], \"type\": \"scatter\", \"uid\": \"d5f0d8cc-e702-11e8-8ddb-a41f72875c19\"}, {\"line\": {\"dash\": \"longdash\"}, \"name\": \"\\u4e0b\\u673a\\u6279\\u6b21\\u6570(\\u738b\\u4f20\\u6587)\", \"x\": [8, 9, 10, 11], \"y\": [null, null, 5.0, 5.0], \"type\": \"scatter\", \"uid\": \"d5f0d8cd-e702-11e8-8ddb-a41f72875c19\"}], {\"title\": \"\\u4e0b\\u673a\\u9879\\u76ee\\u6570&\\u4e0b\\u673a\\u6279\\u6b21\\u6570\\u6708\\u8d8b\\u52bf\\u56fe\", \"xaxis\": {\"mirror\": \"all\", \"nticks\": 20, \"showgrid\": true, \"showline\": true, \"title\": \"\\u6708\", \"type\": \"category\", \"zeroline\": true}, \"yaxis\": {\"mirror\": \"all\", \"nticks\": 20, \"showgrid\": true, \"showline\": true, \"title\": \"\\u4e0b\\u673a\\u9879\\u76ee\\u6570&\\u4e0b\\u673a\\u6279\\u6b21\\u6570\", \"zeroline\": true}}, {\"showLink\": true, \"linkText\": \"Export to plot.ly\"})});</script>"
      ],
      "text/vnd.plotly.v1+html": [
       "<div id=\"845eb511-4392-433c-873f-65b1a39d3b36\" style=\"height: 525px; width: 100%;\" class=\"plotly-graph-div\"></div><script type=\"text/javascript\">require([\"plotly\"], function(Plotly) { window.PLOTLYENV=window.PLOTLYENV || {};window.PLOTLYENV.BASE_URL=\"https://plot.ly\";Plotly.newPlot(\"845eb511-4392-433c-873f-65b1a39d3b36\", [{\"line\": {\"dash\": \"solid\"}, \"name\": \"\\u4e0b\\u673a\\u9879\\u76ee\\u6570(\\u5c48\\u6602)\", \"x\": [8, 9, 10, 11], \"y\": [332.0, 189.0, 5.0, 2.0], \"type\": \"scatter\", \"uid\": \"d5f0d8ba-e702-11e8-8ddb-a41f72875c19\"}, {\"line\": {\"dash\": \"dot\"}, \"name\": \"\\u4e0b\\u673a\\u9879\\u76ee\\u6570(\\u9ad8\\u5251)\", \"x\": [8, 9, 10, 11], \"y\": [null, null, 4.0, 4.0], \"type\": \"scatter\", \"uid\": \"d5f0d8bb-e702-11e8-8ddb-a41f72875c19\"}, {\"line\": {\"dash\": \"dash\"}, \"name\": \"\\u4e0b\\u673a\\u9879\\u76ee\\u6570(\\u6c88\\u6069\\u60e0)\", \"x\": [8, 9, 10, 11], \"y\": [null, null, 5.0, 5.0], \"type\": \"scatter\", \"uid\": \"d5f0d8bc-e702-11e8-8ddb-a41f72875c19\"}, {\"line\": {\"dash\": \"longdash\"}, \"name\": \"\\u4e0b\\u673a\\u9879\\u76ee\\u6570(\\u8f66\\u5929\\u680b)\", \"x\": [8, 9, 10, 11], \"y\": [null, null, 2.0, 2.0], \"type\": \"scatter\", \"uid\": \"d5f0d8bd-e702-11e8-8ddb-a41f72875c19\"}, {\"line\": {\"dash\": \"dashdot\"}, \"name\": \"\\u4e0b\\u673a\\u9879\\u76ee\\u6570(\\u51b7\\u96ea)\", \"x\": [8, 9, 10, 11], \"y\": [159.0, 358.0, 405.0, 105.0], \"type\": \"scatter\", \"uid\": \"d5f0d8be-e702-11e8-8ddb-a41f72875c19\"}, {\"line\": {\"dash\": \"longdashdot\"}, \"name\": \"\\u4e0b\\u673a\\u9879\\u76ee\\u6570(\\u6c88\\u7acb\\u7fa4)\", \"x\": [8, 9, 10, 11], \"y\": [null, null, 4.0, 4.0], \"type\": \"scatter\", \"uid\": \"d5f0d8bf-e702-11e8-8ddb-a41f72875c19\"}, {\"line\": {\"dash\": \"solid\"}, \"name\": \"\\u4e0b\\u673a\\u9879\\u76ee\\u6570(\\u5362\\u6960)\", \"x\": [8, 9, 10, 11], \"y\": [96.0, 3.0, null, null], \"type\": \"scatter\", \"uid\": \"d5f0d8c0-e702-11e8-8ddb-a41f72875c19\"}, {\"line\": {\"dash\": \"dot\"}, \"name\": \"\\u4e0b\\u673a\\u9879\\u76ee\\u6570(\\u6797\\u6587\\u6587)\", \"x\": [8, 9, 10, 11], \"y\": [null, null, 6.0, 6.0], \"type\": \"scatter\", \"uid\": \"d5f0d8c1-e702-11e8-8ddb-a41f72875c19\"}, {\"line\": {\"dash\": \"dash\"}, \"name\": \"\\u4e0b\\u673a\\u9879\\u76ee\\u6570(\\u5f20\\u60a6)\", \"x\": [8, 9, 10, 11], \"y\": [9.0, 2.0, null, null], \"type\": \"scatter\", \"uid\": \"d5f0d8c2-e702-11e8-8ddb-a41f72875c19\"}, {\"line\": {\"dash\": \"longdash\"}, \"name\": \"\\u4e0b\\u673a\\u9879\\u76ee\\u6570(\\u738b\\u4f20\\u6587)\", \"x\": [8, 9, 10, 11], \"y\": [null, null, 5.0, 5.0], \"type\": \"scatter\", \"uid\": \"d5f0d8c3-e702-11e8-8ddb-a41f72875c19\"}, {\"line\": {\"dash\": \"solid\"}, \"name\": \"\\u4e0b\\u673a\\u6279\\u6b21\\u6570(\\u5c48\\u6602)\", \"x\": [8, 9, 10, 11], \"y\": [395.0, 218.0, 5.0, 2.0], \"type\": \"scatter\", \"uid\": \"d5f0d8c4-e702-11e8-8ddb-a41f72875c19\"}, {\"line\": {\"dash\": \"dot\"}, \"name\": \"\\u4e0b\\u673a\\u6279\\u6b21\\u6570(\\u9ad8\\u5251)\", \"x\": [8, 9, 10, 11], \"y\": [null, null, 4.0, 4.0], \"type\": \"scatter\", \"uid\": \"d5f0d8c5-e702-11e8-8ddb-a41f72875c19\"}, {\"line\": {\"dash\": \"dash\"}, \"name\": \"\\u4e0b\\u673a\\u6279\\u6b21\\u6570(\\u6c88\\u6069\\u60e0)\", \"x\": [8, 9, 10, 11], \"y\": [null, null, 5.0, 5.0], \"type\": \"scatter\", \"uid\": \"d5f0d8c6-e702-11e8-8ddb-a41f72875c19\"}, {\"line\": {\"dash\": \"longdash\"}, \"name\": \"\\u4e0b\\u673a\\u6279\\u6b21\\u6570(\\u8f66\\u5929\\u680b)\", \"x\": [8, 9, 10, 11], \"y\": [null, null, 2.0, 2.0], \"type\": \"scatter\", \"uid\": \"d5f0d8c7-e702-11e8-8ddb-a41f72875c19\"}, {\"line\": {\"dash\": \"dashdot\"}, \"name\": \"\\u4e0b\\u673a\\u6279\\u6b21\\u6570(\\u51b7\\u96ea)\", \"x\": [8, 9, 10, 11], \"y\": [195.0, 408.0, 467.0, 128.0], \"type\": \"scatter\", \"uid\": \"d5f0d8c8-e702-11e8-8ddb-a41f72875c19\"}, {\"line\": {\"dash\": \"longdashdot\"}, \"name\": \"\\u4e0b\\u673a\\u6279\\u6b21\\u6570(\\u6c88\\u7acb\\u7fa4)\", \"x\": [8, 9, 10, 11], \"y\": [null, null, 4.0, 4.0], \"type\": \"scatter\", \"uid\": \"d5f0d8c9-e702-11e8-8ddb-a41f72875c19\"}, {\"line\": {\"dash\": \"solid\"}, \"name\": \"\\u4e0b\\u673a\\u6279\\u6b21\\u6570(\\u5362\\u6960)\", \"x\": [8, 9, 10, 11], \"y\": [122.0, 5.0, null, null], \"type\": \"scatter\", \"uid\": \"d5f0d8ca-e702-11e8-8ddb-a41f72875c19\"}, {\"line\": {\"dash\": \"dot\"}, \"name\": \"\\u4e0b\\u673a\\u6279\\u6b21\\u6570(\\u6797\\u6587\\u6587)\", \"x\": [8, 9, 10, 11], \"y\": [null, null, 6.0, 6.0], \"type\": \"scatter\", \"uid\": \"d5f0d8cb-e702-11e8-8ddb-a41f72875c19\"}, {\"line\": {\"dash\": \"dash\"}, \"name\": \"\\u4e0b\\u673a\\u6279\\u6b21\\u6570(\\u5f20\\u60a6)\", \"x\": [8, 9, 10, 11], \"y\": [13.0, 4.0, null, null], \"type\": \"scatter\", \"uid\": \"d5f0d8cc-e702-11e8-8ddb-a41f72875c19\"}, {\"line\": {\"dash\": \"longdash\"}, \"name\": \"\\u4e0b\\u673a\\u6279\\u6b21\\u6570(\\u738b\\u4f20\\u6587)\", \"x\": [8, 9, 10, 11], \"y\": [null, null, 5.0, 5.0], \"type\": \"scatter\", \"uid\": \"d5f0d8cd-e702-11e8-8ddb-a41f72875c19\"}], {\"title\": \"\\u4e0b\\u673a\\u9879\\u76ee\\u6570&\\u4e0b\\u673a\\u6279\\u6b21\\u6570\\u6708\\u8d8b\\u52bf\\u56fe\", \"xaxis\": {\"mirror\": \"all\", \"nticks\": 20, \"showgrid\": true, \"showline\": true, \"title\": \"\\u6708\", \"type\": \"category\", \"zeroline\": true}, \"yaxis\": {\"mirror\": \"all\", \"nticks\": 20, \"showgrid\": true, \"showline\": true, \"title\": \"\\u4e0b\\u673a\\u9879\\u76ee\\u6570&\\u4e0b\\u673a\\u6279\\u6b21\\u6570\", \"zeroline\": true}}, {\"showLink\": true, \"linkText\": \"Export to plot.ly\"})});</script>"
      ]
     },
     "metadata": {},
     "output_type": "display_data"
    }
   ],
   "source": [
    "in_list = ['下机批次数' ,'下机项目数' ]\n",
    "ss = myModule.format(all_df1 ,\"日期（格式“月-周次”）\" ,in_list)\n",
    "ss.add_group('人员')\n",
    "myModule.myPlot(myModule.sort_by_index(ss.groupby('sum'))).plot('line')\n",
    "\n",
    "ss = myModule.format(all_df1 ,\"month\" ,in_list)\n",
    "ss.add_group('人员')\n",
    "myModule.myPlot(ss.groupby('sum')).plot('line','月')"
   ]
  },
  {
   "cell_type": "markdown",
   "metadata": {},
   "source": [
    "## 效率"
   ]
  },
  {
   "cell_type": "markdown",
   "metadata": {},
   "source": [
    "### 反馈及时率和数据及时交付率"
   ]
  },
  {
   "cell_type": "code",
   "execution_count": 147,
   "metadata": {
    "collapsed": false
   },
   "outputs": [
    {
     "data": {
      "application/vnd.plotly.v1+json": {
       "data": [
        {
         "line": {
          "dash": "solid"
         },
         "name": "数据及时交付率(屈昂)",
         "type": "scatter",
         "uid": "d74fae24-e702-11e8-8ddb-a41f72875c19",
         "x": [
          "8-1",
          "8-2",
          "8-3",
          "8-4",
          "8-5",
          "9-1",
          "9-2",
          "9-3",
          "9-4",
          "10-2",
          "10-3",
          "10-4",
          "10-5",
          "11-1"
         ],
         "y": [
          1,
          1,
          1,
          1,
          1,
          1,
          1,
          1,
          1,
          1,
          1,
          1,
          1,
          1
         ]
        },
        {
         "line": {
          "dash": "dot"
         },
         "name": "数据及时交付率(高剑)",
         "type": "scatter",
         "uid": "d74fae25-e702-11e8-8ddb-a41f72875c19",
         "x": [
          "8-1",
          "8-2",
          "8-3",
          "8-4",
          "8-5",
          "9-1",
          "9-2",
          "9-3",
          "9-4",
          "10-2",
          "10-3",
          "10-4",
          "10-5",
          "11-1"
         ],
         "y": [
          null,
          null,
          null,
          null,
          null,
          null,
          null,
          null,
          null,
          null,
          null,
          null,
          null,
          1
         ]
        },
        {
         "line": {
          "dash": "dash"
         },
         "name": "数据及时交付率(沈恩惠)",
         "type": "scatter",
         "uid": "d74fae26-e702-11e8-8ddb-a41f72875c19",
         "x": [
          "8-1",
          "8-2",
          "8-3",
          "8-4",
          "8-5",
          "9-1",
          "9-2",
          "9-3",
          "9-4",
          "10-2",
          "10-3",
          "10-4",
          "10-5",
          "11-1"
         ],
         "y": [
          null,
          null,
          null,
          null,
          null,
          null,
          null,
          null,
          null,
          null,
          null,
          null,
          1,
          1
         ]
        },
        {
         "line": {
          "dash": "longdash"
         },
         "name": "数据及时交付率(车天栋)",
         "type": "scatter",
         "uid": "d74fae27-e702-11e8-8ddb-a41f72875c19",
         "x": [
          "8-1",
          "8-2",
          "8-3",
          "8-4",
          "8-5",
          "9-1",
          "9-2",
          "9-3",
          "9-4",
          "10-2",
          "10-3",
          "10-4",
          "10-5",
          "11-1"
         ],
         "y": [
          null,
          null,
          null,
          null,
          null,
          null,
          null,
          null,
          null,
          null,
          null,
          null,
          1,
          1
         ]
        },
        {
         "line": {
          "dash": "dashdot"
         },
         "name": "数据及时交付率(冷雪)",
         "type": "scatter",
         "uid": "d74fae28-e702-11e8-8ddb-a41f72875c19",
         "x": [
          "8-1",
          "8-2",
          "8-3",
          "8-4",
          "8-5",
          "9-1",
          "9-2",
          "9-3",
          "9-4",
          "10-2",
          "10-3",
          "10-4",
          "10-5",
          "11-1"
         ],
         "y": [
          1,
          1,
          1,
          1,
          1,
          1,
          1,
          1,
          1,
          1,
          1,
          1,
          1,
          1
         ]
        },
        {
         "line": {
          "dash": "longdashdot"
         },
         "name": "数据及时交付率(沈立群)",
         "type": "scatter",
         "uid": "d74fae29-e702-11e8-8ddb-a41f72875c19",
         "x": [
          "8-1",
          "8-2",
          "8-3",
          "8-4",
          "8-5",
          "9-1",
          "9-2",
          "9-3",
          "9-4",
          "10-2",
          "10-3",
          "10-4",
          "10-5",
          "11-1"
         ],
         "y": [
          null,
          null,
          null,
          null,
          null,
          null,
          null,
          null,
          null,
          null,
          null,
          null,
          1,
          1
         ]
        },
        {
         "line": {
          "dash": "solid"
         },
         "name": "数据及时交付率(卢楠)",
         "type": "scatter",
         "uid": "d74fae2a-e702-11e8-8ddb-a41f72875c19",
         "x": [
          "8-1",
          "8-2",
          "8-3",
          "8-4",
          "8-5",
          "9-1",
          "9-2",
          "9-3",
          "9-4",
          "10-2",
          "10-3",
          "10-4",
          "10-5",
          "11-1"
         ],
         "y": [
          1,
          1,
          1,
          1,
          1,
          1,
          1,
          null,
          null,
          null,
          null,
          null,
          null,
          null
         ]
        },
        {
         "line": {
          "dash": "dot"
         },
         "name": "数据及时交付率(林文文)",
         "type": "scatter",
         "uid": "d74fae2b-e702-11e8-8ddb-a41f72875c19",
         "x": [
          "8-1",
          "8-2",
          "8-3",
          "8-4",
          "8-5",
          "9-1",
          "9-2",
          "9-3",
          "9-4",
          "10-2",
          "10-3",
          "10-4",
          "10-5",
          "11-1"
         ],
         "y": [
          null,
          null,
          null,
          null,
          null,
          null,
          null,
          null,
          null,
          null,
          null,
          null,
          1,
          1
         ]
        },
        {
         "line": {
          "dash": "dash"
         },
         "name": "数据及时交付率(张悦)",
         "type": "scatter",
         "uid": "d74fae2c-e702-11e8-8ddb-a41f72875c19",
         "x": [
          "8-1",
          "8-2",
          "8-3",
          "8-4",
          "8-5",
          "9-1",
          "9-2",
          "9-3",
          "9-4",
          "10-2",
          "10-3",
          "10-4",
          "10-5",
          "11-1"
         ],
         "y": [
          1,
          1,
          1,
          1,
          1,
          1,
          null,
          null,
          null,
          null,
          null,
          null,
          null,
          null
         ]
        },
        {
         "line": {
          "dash": "longdash"
         },
         "name": "数据及时交付率(王传文)",
         "type": "scatter",
         "uid": "d74fae2d-e702-11e8-8ddb-a41f72875c19",
         "x": [
          "8-1",
          "8-2",
          "8-3",
          "8-4",
          "8-5",
          "9-1",
          "9-2",
          "9-3",
          "9-4",
          "10-2",
          "10-3",
          "10-4",
          "10-5",
          "11-1"
         ],
         "y": [
          null,
          null,
          null,
          null,
          null,
          null,
          null,
          null,
          null,
          null,
          null,
          null,
          0.8571428571428571,
          1
         ]
        },
        {
         "line": {
          "dash": "solid"
         },
         "name": "反馈及时率(屈昂)",
         "type": "scatter",
         "uid": "d74fae2e-e702-11e8-8ddb-a41f72875c19",
         "x": [
          "8-1",
          "8-2",
          "8-3",
          "8-4",
          "8-5",
          "9-1",
          "9-2",
          "9-3",
          "9-4",
          "10-2",
          "10-3",
          "10-4",
          "10-5",
          "11-1"
         ],
         "y": [
          0.9761904761904762,
          0.972972972972973,
          0.9866666666666667,
          0.957983193277311,
          0.9176470588235294,
          0.9851851851851852,
          0.9777777777777777,
          1,
          1,
          1,
          1,
          null,
          1,
          1
         ]
        },
        {
         "line": {
          "dash": "dot"
         },
         "name": "反馈及时率(高剑)",
         "type": "scatter",
         "uid": "d74fae2f-e702-11e8-8ddb-a41f72875c19",
         "x": [
          "8-1",
          "8-2",
          "8-3",
          "8-4",
          "8-5",
          "9-1",
          "9-2",
          "9-3",
          "9-4",
          "10-2",
          "10-3",
          "10-4",
          "10-5",
          "11-1"
         ],
         "y": [
          null,
          null,
          null,
          null,
          null,
          null,
          null,
          null,
          null,
          null,
          null,
          null,
          1,
          1
         ]
        },
        {
         "line": {
          "dash": "dash"
         },
         "name": "反馈及时率(沈恩惠)",
         "type": "scatter",
         "uid": "d74fae30-e702-11e8-8ddb-a41f72875c19",
         "x": [
          "8-1",
          "8-2",
          "8-3",
          "8-4",
          "8-5",
          "9-1",
          "9-2",
          "9-3",
          "9-4",
          "10-2",
          "10-3",
          "10-4",
          "10-5",
          "11-1"
         ],
         "y": [
          null,
          null,
          null,
          null,
          null,
          null,
          null,
          null,
          null,
          null,
          null,
          null,
          1,
          1
         ]
        },
        {
         "line": {
          "dash": "longdash"
         },
         "name": "反馈及时率(车天栋)",
         "type": "scatter",
         "uid": "d74fae31-e702-11e8-8ddb-a41f72875c19",
         "x": [
          "8-1",
          "8-2",
          "8-3",
          "8-4",
          "8-5",
          "9-1",
          "9-2",
          "9-3",
          "9-4",
          "10-2",
          "10-3",
          "10-4",
          "10-5",
          "11-1"
         ],
         "y": [
          null,
          null,
          null,
          null,
          null,
          null,
          null,
          null,
          null,
          null,
          null,
          null,
          1,
          1
         ]
        },
        {
         "line": {
          "dash": "dashdot"
         },
         "name": "反馈及时率(冷雪)",
         "type": "scatter",
         "uid": "d74fae32-e702-11e8-8ddb-a41f72875c19",
         "x": [
          "8-1",
          "8-2",
          "8-3",
          "8-4",
          "8-5",
          "9-1",
          "9-2",
          "9-3",
          "9-4",
          "10-2",
          "10-3",
          "10-4",
          "10-5",
          "11-1"
         ],
         "y": [
          0.9210526315789473,
          0.9655172413793104,
          1,
          1,
          1,
          0.9827586206896551,
          0.8947368421052632,
          1,
          0.9937106918238994,
          1,
          0.9767441860465116,
          0.948905109489051,
          1,
          0.96875
         ]
        },
        {
         "line": {
          "dash": "longdashdot"
         },
         "name": "反馈及时率(沈立群)",
         "type": "scatter",
         "uid": "d74fae33-e702-11e8-8ddb-a41f72875c19",
         "x": [
          "8-1",
          "8-2",
          "8-3",
          "8-4",
          "8-5",
          "9-1",
          "9-2",
          "9-3",
          "9-4",
          "10-2",
          "10-3",
          "10-4",
          "10-5",
          "11-1"
         ],
         "y": [
          null,
          null,
          null,
          null,
          null,
          null,
          null,
          null,
          null,
          null,
          null,
          null,
          1,
          1
         ]
        },
        {
         "line": {
          "dash": "solid"
         },
         "name": "反馈及时率(卢楠)",
         "type": "scatter",
         "uid": "d74fae34-e702-11e8-8ddb-a41f72875c19",
         "x": [
          "8-1",
          "8-2",
          "8-3",
          "8-4",
          "8-5",
          "9-1",
          "9-2",
          "9-3",
          "9-4",
          "10-2",
          "10-3",
          "10-4",
          "10-5",
          "11-1"
         ],
         "y": [
          1,
          0.9574468085106383,
          0.9565217391304348,
          1,
          1,
          1,
          1,
          null,
          null,
          null,
          null,
          null,
          null,
          null
         ]
        },
        {
         "line": {
          "dash": "dot"
         },
         "name": "反馈及时率(林文文)",
         "type": "scatter",
         "uid": "d74fae35-e702-11e8-8ddb-a41f72875c19",
         "x": [
          "8-1",
          "8-2",
          "8-3",
          "8-4",
          "8-5",
          "9-1",
          "9-2",
          "9-3",
          "9-4",
          "10-2",
          "10-3",
          "10-4",
          "10-5",
          "11-1"
         ],
         "y": [
          null,
          null,
          null,
          null,
          null,
          null,
          null,
          null,
          null,
          null,
          null,
          null,
          1,
          1
         ]
        },
        {
         "line": {
          "dash": "dash"
         },
         "name": "反馈及时率(张悦)",
         "type": "scatter",
         "uid": "d74fae36-e702-11e8-8ddb-a41f72875c19",
         "x": [
          "8-1",
          "8-2",
          "8-3",
          "8-4",
          "8-5",
          "9-1",
          "9-2",
          "9-3",
          "9-4",
          "10-2",
          "10-3",
          "10-4",
          "10-5",
          "11-1"
         ],
         "y": [
          1,
          1,
          1,
          1,
          1,
          1,
          null,
          null,
          null,
          null,
          null,
          null,
          null,
          null
         ]
        },
        {
         "line": {
          "dash": "longdash"
         },
         "name": "反馈及时率(王传文)",
         "type": "scatter",
         "uid": "d74fae37-e702-11e8-8ddb-a41f72875c19",
         "x": [
          "8-1",
          "8-2",
          "8-3",
          "8-4",
          "8-5",
          "9-1",
          "9-2",
          "9-3",
          "9-4",
          "10-2",
          "10-3",
          "10-4",
          "10-5",
          "11-1"
         ],
         "y": [
          null,
          null,
          null,
          null,
          null,
          null,
          null,
          null,
          null,
          null,
          null,
          null,
          1,
          1
         ]
        }
       ],
       "layout": {
        "title": "数据及时交付率&反馈及时率周趋势图",
        "xaxis": {
         "mirror": "all",
         "nticks": 20,
         "showgrid": true,
         "showline": true,
         "title": "周",
         "type": "category",
         "zeroline": true
        },
        "yaxis": {
         "mirror": "all",
         "nticks": 20,
         "showgrid": true,
         "showline": true,
         "title": "数据及时交付率&反馈及时率",
         "zeroline": true
        }
       }
      },
      "text/html": [
       "<div id=\"d8757dd7-7e7c-4614-825c-f4796f3846e7\" style=\"height: 525px; width: 100%;\" class=\"plotly-graph-div\"></div><script type=\"text/javascript\">require([\"plotly\"], function(Plotly) { window.PLOTLYENV=window.PLOTLYENV || {};window.PLOTLYENV.BASE_URL=\"https://plot.ly\";Plotly.newPlot(\"d8757dd7-7e7c-4614-825c-f4796f3846e7\", [{\"line\": {\"dash\": \"solid\"}, \"name\": \"\\u6570\\u636e\\u53ca\\u65f6\\u4ea4\\u4ed8\\u7387(\\u5c48\\u6602)\", \"x\": [\"8-1\", \"8-2\", \"8-3\", \"8-4\", \"8-5\", \"9-1\", \"9-2\", \"9-3\", \"9-4\", \"10-2\", \"10-3\", \"10-4\", \"10-5\", \"11-1\"], \"y\": [1.0, 1.0, 1.0, 1.0, 1.0, 1.0, 1.0, 1.0, 1.0, 1.0, 1.0, 1.0, 1.0, 1.0], \"type\": \"scatter\", \"uid\": \"d74fae24-e702-11e8-8ddb-a41f72875c19\"}, {\"line\": {\"dash\": \"dot\"}, \"name\": \"\\u6570\\u636e\\u53ca\\u65f6\\u4ea4\\u4ed8\\u7387(\\u9ad8\\u5251)\", \"x\": [\"8-1\", \"8-2\", \"8-3\", \"8-4\", \"8-5\", \"9-1\", \"9-2\", \"9-3\", \"9-4\", \"10-2\", \"10-3\", \"10-4\", \"10-5\", \"11-1\"], \"y\": [null, null, null, null, null, null, null, null, null, null, null, null, null, 1.0], \"type\": \"scatter\", \"uid\": \"d74fae25-e702-11e8-8ddb-a41f72875c19\"}, {\"line\": {\"dash\": \"dash\"}, \"name\": \"\\u6570\\u636e\\u53ca\\u65f6\\u4ea4\\u4ed8\\u7387(\\u6c88\\u6069\\u60e0)\", \"x\": [\"8-1\", \"8-2\", \"8-3\", \"8-4\", \"8-5\", \"9-1\", \"9-2\", \"9-3\", \"9-4\", \"10-2\", \"10-3\", \"10-4\", \"10-5\", \"11-1\"], \"y\": [null, null, null, null, null, null, null, null, null, null, null, null, 1.0, 1.0], \"type\": \"scatter\", \"uid\": \"d74fae26-e702-11e8-8ddb-a41f72875c19\"}, {\"line\": {\"dash\": \"longdash\"}, \"name\": \"\\u6570\\u636e\\u53ca\\u65f6\\u4ea4\\u4ed8\\u7387(\\u8f66\\u5929\\u680b)\", \"x\": [\"8-1\", \"8-2\", \"8-3\", \"8-4\", \"8-5\", \"9-1\", \"9-2\", \"9-3\", \"9-4\", \"10-2\", \"10-3\", \"10-4\", \"10-5\", \"11-1\"], \"y\": [null, null, null, null, null, null, null, null, null, null, null, null, 1.0, 1.0], \"type\": \"scatter\", \"uid\": \"d74fae27-e702-11e8-8ddb-a41f72875c19\"}, {\"line\": {\"dash\": \"dashdot\"}, \"name\": \"\\u6570\\u636e\\u53ca\\u65f6\\u4ea4\\u4ed8\\u7387(\\u51b7\\u96ea)\", \"x\": [\"8-1\", \"8-2\", \"8-3\", \"8-4\", \"8-5\", \"9-1\", \"9-2\", \"9-3\", \"9-4\", \"10-2\", \"10-3\", \"10-4\", \"10-5\", \"11-1\"], \"y\": [1.0, 1.0, 1.0, 1.0, 1.0, 1.0, 1.0, 1.0, 1.0, 1.0, 1.0, 1.0, 1.0, 1.0], \"type\": \"scatter\", \"uid\": \"d74fae28-e702-11e8-8ddb-a41f72875c19\"}, {\"line\": {\"dash\": \"longdashdot\"}, \"name\": \"\\u6570\\u636e\\u53ca\\u65f6\\u4ea4\\u4ed8\\u7387(\\u6c88\\u7acb\\u7fa4)\", \"x\": [\"8-1\", \"8-2\", \"8-3\", \"8-4\", \"8-5\", \"9-1\", \"9-2\", \"9-3\", \"9-4\", \"10-2\", \"10-3\", \"10-4\", \"10-5\", \"11-1\"], \"y\": [null, null, null, null, null, null, null, null, null, null, null, null, 1.0, 1.0], \"type\": \"scatter\", \"uid\": \"d74fae29-e702-11e8-8ddb-a41f72875c19\"}, {\"line\": {\"dash\": \"solid\"}, \"name\": \"\\u6570\\u636e\\u53ca\\u65f6\\u4ea4\\u4ed8\\u7387(\\u5362\\u6960)\", \"x\": [\"8-1\", \"8-2\", \"8-3\", \"8-4\", \"8-5\", \"9-1\", \"9-2\", \"9-3\", \"9-4\", \"10-2\", \"10-3\", \"10-4\", \"10-5\", \"11-1\"], \"y\": [1.0, 1.0, 1.0, 1.0, 1.0, 1.0, 1.0, null, null, null, null, null, null, null], \"type\": \"scatter\", \"uid\": \"d74fae2a-e702-11e8-8ddb-a41f72875c19\"}, {\"line\": {\"dash\": \"dot\"}, \"name\": \"\\u6570\\u636e\\u53ca\\u65f6\\u4ea4\\u4ed8\\u7387(\\u6797\\u6587\\u6587)\", \"x\": [\"8-1\", \"8-2\", \"8-3\", \"8-4\", \"8-5\", \"9-1\", \"9-2\", \"9-3\", \"9-4\", \"10-2\", \"10-3\", \"10-4\", \"10-5\", \"11-1\"], \"y\": [null, null, null, null, null, null, null, null, null, null, null, null, 1.0, 1.0], \"type\": \"scatter\", \"uid\": \"d74fae2b-e702-11e8-8ddb-a41f72875c19\"}, {\"line\": {\"dash\": \"dash\"}, \"name\": \"\\u6570\\u636e\\u53ca\\u65f6\\u4ea4\\u4ed8\\u7387(\\u5f20\\u60a6)\", \"x\": [\"8-1\", \"8-2\", \"8-3\", \"8-4\", \"8-5\", \"9-1\", \"9-2\", \"9-3\", \"9-4\", \"10-2\", \"10-3\", \"10-4\", \"10-5\", \"11-1\"], \"y\": [1.0, 1.0, 1.0, 1.0, 1.0, 1.0, null, null, null, null, null, null, null, null], \"type\": \"scatter\", \"uid\": \"d74fae2c-e702-11e8-8ddb-a41f72875c19\"}, {\"line\": {\"dash\": \"longdash\"}, \"name\": \"\\u6570\\u636e\\u53ca\\u65f6\\u4ea4\\u4ed8\\u7387(\\u738b\\u4f20\\u6587)\", \"x\": [\"8-1\", \"8-2\", \"8-3\", \"8-4\", \"8-5\", \"9-1\", \"9-2\", \"9-3\", \"9-4\", \"10-2\", \"10-3\", \"10-4\", \"10-5\", \"11-1\"], \"y\": [null, null, null, null, null, null, null, null, null, null, null, null, 0.8571428571428571, 1.0], \"type\": \"scatter\", \"uid\": \"d74fae2d-e702-11e8-8ddb-a41f72875c19\"}, {\"line\": {\"dash\": \"solid\"}, \"name\": \"\\u53cd\\u9988\\u53ca\\u65f6\\u7387(\\u5c48\\u6602)\", \"x\": [\"8-1\", \"8-2\", \"8-3\", \"8-4\", \"8-5\", \"9-1\", \"9-2\", \"9-3\", \"9-4\", \"10-2\", \"10-3\", \"10-4\", \"10-5\", \"11-1\"], \"y\": [0.9761904761904762, 0.972972972972973, 0.9866666666666667, 0.957983193277311, 0.9176470588235294, 0.9851851851851852, 0.9777777777777777, 1.0, 1.0, 1.0, 1.0, null, 1.0, 1.0], \"type\": \"scatter\", \"uid\": \"d74fae2e-e702-11e8-8ddb-a41f72875c19\"}, {\"line\": {\"dash\": \"dot\"}, \"name\": \"\\u53cd\\u9988\\u53ca\\u65f6\\u7387(\\u9ad8\\u5251)\", \"x\": [\"8-1\", \"8-2\", \"8-3\", \"8-4\", \"8-5\", \"9-1\", \"9-2\", \"9-3\", \"9-4\", \"10-2\", \"10-3\", \"10-4\", \"10-5\", \"11-1\"], \"y\": [null, null, null, null, null, null, null, null, null, null, null, null, 1.0, 1.0], \"type\": \"scatter\", \"uid\": \"d74fae2f-e702-11e8-8ddb-a41f72875c19\"}, {\"line\": {\"dash\": \"dash\"}, \"name\": \"\\u53cd\\u9988\\u53ca\\u65f6\\u7387(\\u6c88\\u6069\\u60e0)\", \"x\": [\"8-1\", \"8-2\", \"8-3\", \"8-4\", \"8-5\", \"9-1\", \"9-2\", \"9-3\", \"9-4\", \"10-2\", \"10-3\", \"10-4\", \"10-5\", \"11-1\"], \"y\": [null, null, null, null, null, null, null, null, null, null, null, null, 1.0, 1.0], \"type\": \"scatter\", \"uid\": \"d74fae30-e702-11e8-8ddb-a41f72875c19\"}, {\"line\": {\"dash\": \"longdash\"}, \"name\": \"\\u53cd\\u9988\\u53ca\\u65f6\\u7387(\\u8f66\\u5929\\u680b)\", \"x\": [\"8-1\", \"8-2\", \"8-3\", \"8-4\", \"8-5\", \"9-1\", \"9-2\", \"9-3\", \"9-4\", \"10-2\", \"10-3\", \"10-4\", \"10-5\", \"11-1\"], \"y\": [null, null, null, null, null, null, null, null, null, null, null, null, 1.0, 1.0], \"type\": \"scatter\", \"uid\": \"d74fae31-e702-11e8-8ddb-a41f72875c19\"}, {\"line\": {\"dash\": \"dashdot\"}, \"name\": \"\\u53cd\\u9988\\u53ca\\u65f6\\u7387(\\u51b7\\u96ea)\", \"x\": [\"8-1\", \"8-2\", \"8-3\", \"8-4\", \"8-5\", \"9-1\", \"9-2\", \"9-3\", \"9-4\", \"10-2\", \"10-3\", \"10-4\", \"10-5\", \"11-1\"], \"y\": [0.9210526315789473, 0.9655172413793104, 1.0, 1.0, 1.0, 0.9827586206896551, 0.8947368421052632, 1.0, 0.9937106918238994, 1.0, 0.9767441860465116, 0.948905109489051, 1.0, 0.96875], \"type\": \"scatter\", \"uid\": \"d74fae32-e702-11e8-8ddb-a41f72875c19\"}, {\"line\": {\"dash\": \"longdashdot\"}, \"name\": \"\\u53cd\\u9988\\u53ca\\u65f6\\u7387(\\u6c88\\u7acb\\u7fa4)\", \"x\": [\"8-1\", \"8-2\", \"8-3\", \"8-4\", \"8-5\", \"9-1\", \"9-2\", \"9-3\", \"9-4\", \"10-2\", \"10-3\", \"10-4\", \"10-5\", \"11-1\"], \"y\": [null, null, null, null, null, null, null, null, null, null, null, null, 1.0, 1.0], \"type\": \"scatter\", \"uid\": \"d74fae33-e702-11e8-8ddb-a41f72875c19\"}, {\"line\": {\"dash\": \"solid\"}, \"name\": \"\\u53cd\\u9988\\u53ca\\u65f6\\u7387(\\u5362\\u6960)\", \"x\": [\"8-1\", \"8-2\", \"8-3\", \"8-4\", \"8-5\", \"9-1\", \"9-2\", \"9-3\", \"9-4\", \"10-2\", \"10-3\", \"10-4\", \"10-5\", \"11-1\"], \"y\": [1.0, 0.9574468085106383, 0.9565217391304348, 1.0, 1.0, 1.0, 1.0, null, null, null, null, null, null, null], \"type\": \"scatter\", \"uid\": \"d74fae34-e702-11e8-8ddb-a41f72875c19\"}, {\"line\": {\"dash\": \"dot\"}, \"name\": \"\\u53cd\\u9988\\u53ca\\u65f6\\u7387(\\u6797\\u6587\\u6587)\", \"x\": [\"8-1\", \"8-2\", \"8-3\", \"8-4\", \"8-5\", \"9-1\", \"9-2\", \"9-3\", \"9-4\", \"10-2\", \"10-3\", \"10-4\", \"10-5\", \"11-1\"], \"y\": [null, null, null, null, null, null, null, null, null, null, null, null, 1.0, 1.0], \"type\": \"scatter\", \"uid\": \"d74fae35-e702-11e8-8ddb-a41f72875c19\"}, {\"line\": {\"dash\": \"dash\"}, \"name\": \"\\u53cd\\u9988\\u53ca\\u65f6\\u7387(\\u5f20\\u60a6)\", \"x\": [\"8-1\", \"8-2\", \"8-3\", \"8-4\", \"8-5\", \"9-1\", \"9-2\", \"9-3\", \"9-4\", \"10-2\", \"10-3\", \"10-4\", \"10-5\", \"11-1\"], \"y\": [1.0, 1.0, 1.0, 1.0, 1.0, 1.0, null, null, null, null, null, null, null, null], \"type\": \"scatter\", \"uid\": \"d74fae36-e702-11e8-8ddb-a41f72875c19\"}, {\"line\": {\"dash\": \"longdash\"}, \"name\": \"\\u53cd\\u9988\\u53ca\\u65f6\\u7387(\\u738b\\u4f20\\u6587)\", \"x\": [\"8-1\", \"8-2\", \"8-3\", \"8-4\", \"8-5\", \"9-1\", \"9-2\", \"9-3\", \"9-4\", \"10-2\", \"10-3\", \"10-4\", \"10-5\", \"11-1\"], \"y\": [null, null, null, null, null, null, null, null, null, null, null, null, 1.0, 1.0], \"type\": \"scatter\", \"uid\": \"d74fae37-e702-11e8-8ddb-a41f72875c19\"}], {\"title\": \"\\u6570\\u636e\\u53ca\\u65f6\\u4ea4\\u4ed8\\u7387&\\u53cd\\u9988\\u53ca\\u65f6\\u7387\\u5468\\u8d8b\\u52bf\\u56fe\", \"xaxis\": {\"mirror\": \"all\", \"nticks\": 20, \"showgrid\": true, \"showline\": true, \"title\": \"\\u5468\", \"type\": \"category\", \"zeroline\": true}, \"yaxis\": {\"mirror\": \"all\", \"nticks\": 20, \"showgrid\": true, \"showline\": true, \"title\": \"\\u6570\\u636e\\u53ca\\u65f6\\u4ea4\\u4ed8\\u7387&\\u53cd\\u9988\\u53ca\\u65f6\\u7387\", \"zeroline\": true}}, {\"showLink\": true, \"linkText\": \"Export to plot.ly\"})});</script>"
      ],
      "text/vnd.plotly.v1+html": [
       "<div id=\"d8757dd7-7e7c-4614-825c-f4796f3846e7\" style=\"height: 525px; width: 100%;\" class=\"plotly-graph-div\"></div><script type=\"text/javascript\">require([\"plotly\"], function(Plotly) { window.PLOTLYENV=window.PLOTLYENV || {};window.PLOTLYENV.BASE_URL=\"https://plot.ly\";Plotly.newPlot(\"d8757dd7-7e7c-4614-825c-f4796f3846e7\", [{\"line\": {\"dash\": \"solid\"}, \"name\": \"\\u6570\\u636e\\u53ca\\u65f6\\u4ea4\\u4ed8\\u7387(\\u5c48\\u6602)\", \"x\": [\"8-1\", \"8-2\", \"8-3\", \"8-4\", \"8-5\", \"9-1\", \"9-2\", \"9-3\", \"9-4\", \"10-2\", \"10-3\", \"10-4\", \"10-5\", \"11-1\"], \"y\": [1.0, 1.0, 1.0, 1.0, 1.0, 1.0, 1.0, 1.0, 1.0, 1.0, 1.0, 1.0, 1.0, 1.0], \"type\": \"scatter\", \"uid\": \"d74fae24-e702-11e8-8ddb-a41f72875c19\"}, {\"line\": {\"dash\": \"dot\"}, \"name\": \"\\u6570\\u636e\\u53ca\\u65f6\\u4ea4\\u4ed8\\u7387(\\u9ad8\\u5251)\", \"x\": [\"8-1\", \"8-2\", \"8-3\", \"8-4\", \"8-5\", \"9-1\", \"9-2\", \"9-3\", \"9-4\", \"10-2\", \"10-3\", \"10-4\", \"10-5\", \"11-1\"], \"y\": [null, null, null, null, null, null, null, null, null, null, null, null, null, 1.0], \"type\": \"scatter\", \"uid\": \"d74fae25-e702-11e8-8ddb-a41f72875c19\"}, {\"line\": {\"dash\": \"dash\"}, \"name\": \"\\u6570\\u636e\\u53ca\\u65f6\\u4ea4\\u4ed8\\u7387(\\u6c88\\u6069\\u60e0)\", \"x\": [\"8-1\", \"8-2\", \"8-3\", \"8-4\", \"8-5\", \"9-1\", \"9-2\", \"9-3\", \"9-4\", \"10-2\", \"10-3\", \"10-4\", \"10-5\", \"11-1\"], \"y\": [null, null, null, null, null, null, null, null, null, null, null, null, 1.0, 1.0], \"type\": \"scatter\", \"uid\": \"d74fae26-e702-11e8-8ddb-a41f72875c19\"}, {\"line\": {\"dash\": \"longdash\"}, \"name\": \"\\u6570\\u636e\\u53ca\\u65f6\\u4ea4\\u4ed8\\u7387(\\u8f66\\u5929\\u680b)\", \"x\": [\"8-1\", \"8-2\", \"8-3\", \"8-4\", \"8-5\", \"9-1\", \"9-2\", \"9-3\", \"9-4\", \"10-2\", \"10-3\", \"10-4\", \"10-5\", \"11-1\"], \"y\": [null, null, null, null, null, null, null, null, null, null, null, null, 1.0, 1.0], \"type\": \"scatter\", \"uid\": \"d74fae27-e702-11e8-8ddb-a41f72875c19\"}, {\"line\": {\"dash\": \"dashdot\"}, \"name\": \"\\u6570\\u636e\\u53ca\\u65f6\\u4ea4\\u4ed8\\u7387(\\u51b7\\u96ea)\", \"x\": [\"8-1\", \"8-2\", \"8-3\", \"8-4\", \"8-5\", \"9-1\", \"9-2\", \"9-3\", \"9-4\", \"10-2\", \"10-3\", \"10-4\", \"10-5\", \"11-1\"], \"y\": [1.0, 1.0, 1.0, 1.0, 1.0, 1.0, 1.0, 1.0, 1.0, 1.0, 1.0, 1.0, 1.0, 1.0], \"type\": \"scatter\", \"uid\": \"d74fae28-e702-11e8-8ddb-a41f72875c19\"}, {\"line\": {\"dash\": \"longdashdot\"}, \"name\": \"\\u6570\\u636e\\u53ca\\u65f6\\u4ea4\\u4ed8\\u7387(\\u6c88\\u7acb\\u7fa4)\", \"x\": [\"8-1\", \"8-2\", \"8-3\", \"8-4\", \"8-5\", \"9-1\", \"9-2\", \"9-3\", \"9-4\", \"10-2\", \"10-3\", \"10-4\", \"10-5\", \"11-1\"], \"y\": [null, null, null, null, null, null, null, null, null, null, null, null, 1.0, 1.0], \"type\": \"scatter\", \"uid\": \"d74fae29-e702-11e8-8ddb-a41f72875c19\"}, {\"line\": {\"dash\": \"solid\"}, \"name\": \"\\u6570\\u636e\\u53ca\\u65f6\\u4ea4\\u4ed8\\u7387(\\u5362\\u6960)\", \"x\": [\"8-1\", \"8-2\", \"8-3\", \"8-4\", \"8-5\", \"9-1\", \"9-2\", \"9-3\", \"9-4\", \"10-2\", \"10-3\", \"10-4\", \"10-5\", \"11-1\"], \"y\": [1.0, 1.0, 1.0, 1.0, 1.0, 1.0, 1.0, null, null, null, null, null, null, null], \"type\": \"scatter\", \"uid\": \"d74fae2a-e702-11e8-8ddb-a41f72875c19\"}, {\"line\": {\"dash\": \"dot\"}, \"name\": \"\\u6570\\u636e\\u53ca\\u65f6\\u4ea4\\u4ed8\\u7387(\\u6797\\u6587\\u6587)\", \"x\": [\"8-1\", \"8-2\", \"8-3\", \"8-4\", \"8-5\", \"9-1\", \"9-2\", \"9-3\", \"9-4\", \"10-2\", \"10-3\", \"10-4\", \"10-5\", \"11-1\"], \"y\": [null, null, null, null, null, null, null, null, null, null, null, null, 1.0, 1.0], \"type\": \"scatter\", \"uid\": \"d74fae2b-e702-11e8-8ddb-a41f72875c19\"}, {\"line\": {\"dash\": \"dash\"}, \"name\": \"\\u6570\\u636e\\u53ca\\u65f6\\u4ea4\\u4ed8\\u7387(\\u5f20\\u60a6)\", \"x\": [\"8-1\", \"8-2\", \"8-3\", \"8-4\", \"8-5\", \"9-1\", \"9-2\", \"9-3\", \"9-4\", \"10-2\", \"10-3\", \"10-4\", \"10-5\", \"11-1\"], \"y\": [1.0, 1.0, 1.0, 1.0, 1.0, 1.0, null, null, null, null, null, null, null, null], \"type\": \"scatter\", \"uid\": \"d74fae2c-e702-11e8-8ddb-a41f72875c19\"}, {\"line\": {\"dash\": \"longdash\"}, \"name\": \"\\u6570\\u636e\\u53ca\\u65f6\\u4ea4\\u4ed8\\u7387(\\u738b\\u4f20\\u6587)\", \"x\": [\"8-1\", \"8-2\", \"8-3\", \"8-4\", \"8-5\", \"9-1\", \"9-2\", \"9-3\", \"9-4\", \"10-2\", \"10-3\", \"10-4\", \"10-5\", \"11-1\"], \"y\": [null, null, null, null, null, null, null, null, null, null, null, null, 0.8571428571428571, 1.0], \"type\": \"scatter\", \"uid\": \"d74fae2d-e702-11e8-8ddb-a41f72875c19\"}, {\"line\": {\"dash\": \"solid\"}, \"name\": \"\\u53cd\\u9988\\u53ca\\u65f6\\u7387(\\u5c48\\u6602)\", \"x\": [\"8-1\", \"8-2\", \"8-3\", \"8-4\", \"8-5\", \"9-1\", \"9-2\", \"9-3\", \"9-4\", \"10-2\", \"10-3\", \"10-4\", \"10-5\", \"11-1\"], \"y\": [0.9761904761904762, 0.972972972972973, 0.9866666666666667, 0.957983193277311, 0.9176470588235294, 0.9851851851851852, 0.9777777777777777, 1.0, 1.0, 1.0, 1.0, null, 1.0, 1.0], \"type\": \"scatter\", \"uid\": \"d74fae2e-e702-11e8-8ddb-a41f72875c19\"}, {\"line\": {\"dash\": \"dot\"}, \"name\": \"\\u53cd\\u9988\\u53ca\\u65f6\\u7387(\\u9ad8\\u5251)\", \"x\": [\"8-1\", \"8-2\", \"8-3\", \"8-4\", \"8-5\", \"9-1\", \"9-2\", \"9-3\", \"9-4\", \"10-2\", \"10-3\", \"10-4\", \"10-5\", \"11-1\"], \"y\": [null, null, null, null, null, null, null, null, null, null, null, null, 1.0, 1.0], \"type\": \"scatter\", \"uid\": \"d74fae2f-e702-11e8-8ddb-a41f72875c19\"}, {\"line\": {\"dash\": \"dash\"}, \"name\": \"\\u53cd\\u9988\\u53ca\\u65f6\\u7387(\\u6c88\\u6069\\u60e0)\", \"x\": [\"8-1\", \"8-2\", \"8-3\", \"8-4\", \"8-5\", \"9-1\", \"9-2\", \"9-3\", \"9-4\", \"10-2\", \"10-3\", \"10-4\", \"10-5\", \"11-1\"], \"y\": [null, null, null, null, null, null, null, null, null, null, null, null, 1.0, 1.0], \"type\": \"scatter\", \"uid\": \"d74fae30-e702-11e8-8ddb-a41f72875c19\"}, {\"line\": {\"dash\": \"longdash\"}, \"name\": \"\\u53cd\\u9988\\u53ca\\u65f6\\u7387(\\u8f66\\u5929\\u680b)\", \"x\": [\"8-1\", \"8-2\", \"8-3\", \"8-4\", \"8-5\", \"9-1\", \"9-2\", \"9-3\", \"9-4\", \"10-2\", \"10-3\", \"10-4\", \"10-5\", \"11-1\"], \"y\": [null, null, null, null, null, null, null, null, null, null, null, null, 1.0, 1.0], \"type\": \"scatter\", \"uid\": \"d74fae31-e702-11e8-8ddb-a41f72875c19\"}, {\"line\": {\"dash\": \"dashdot\"}, \"name\": \"\\u53cd\\u9988\\u53ca\\u65f6\\u7387(\\u51b7\\u96ea)\", \"x\": [\"8-1\", \"8-2\", \"8-3\", \"8-4\", \"8-5\", \"9-1\", \"9-2\", \"9-3\", \"9-4\", \"10-2\", \"10-3\", \"10-4\", \"10-5\", \"11-1\"], \"y\": [0.9210526315789473, 0.9655172413793104, 1.0, 1.0, 1.0, 0.9827586206896551, 0.8947368421052632, 1.0, 0.9937106918238994, 1.0, 0.9767441860465116, 0.948905109489051, 1.0, 0.96875], \"type\": \"scatter\", \"uid\": \"d74fae32-e702-11e8-8ddb-a41f72875c19\"}, {\"line\": {\"dash\": \"longdashdot\"}, \"name\": \"\\u53cd\\u9988\\u53ca\\u65f6\\u7387(\\u6c88\\u7acb\\u7fa4)\", \"x\": [\"8-1\", \"8-2\", \"8-3\", \"8-4\", \"8-5\", \"9-1\", \"9-2\", \"9-3\", \"9-4\", \"10-2\", \"10-3\", \"10-4\", \"10-5\", \"11-1\"], \"y\": [null, null, null, null, null, null, null, null, null, null, null, null, 1.0, 1.0], \"type\": \"scatter\", \"uid\": \"d74fae33-e702-11e8-8ddb-a41f72875c19\"}, {\"line\": {\"dash\": \"solid\"}, \"name\": \"\\u53cd\\u9988\\u53ca\\u65f6\\u7387(\\u5362\\u6960)\", \"x\": [\"8-1\", \"8-2\", \"8-3\", \"8-4\", \"8-5\", \"9-1\", \"9-2\", \"9-3\", \"9-4\", \"10-2\", \"10-3\", \"10-4\", \"10-5\", \"11-1\"], \"y\": [1.0, 0.9574468085106383, 0.9565217391304348, 1.0, 1.0, 1.0, 1.0, null, null, null, null, null, null, null], \"type\": \"scatter\", \"uid\": \"d74fae34-e702-11e8-8ddb-a41f72875c19\"}, {\"line\": {\"dash\": \"dot\"}, \"name\": \"\\u53cd\\u9988\\u53ca\\u65f6\\u7387(\\u6797\\u6587\\u6587)\", \"x\": [\"8-1\", \"8-2\", \"8-3\", \"8-4\", \"8-5\", \"9-1\", \"9-2\", \"9-3\", \"9-4\", \"10-2\", \"10-3\", \"10-4\", \"10-5\", \"11-1\"], \"y\": [null, null, null, null, null, null, null, null, null, null, null, null, 1.0, 1.0], \"type\": \"scatter\", \"uid\": \"d74fae35-e702-11e8-8ddb-a41f72875c19\"}, {\"line\": {\"dash\": \"dash\"}, \"name\": \"\\u53cd\\u9988\\u53ca\\u65f6\\u7387(\\u5f20\\u60a6)\", \"x\": [\"8-1\", \"8-2\", \"8-3\", \"8-4\", \"8-5\", \"9-1\", \"9-2\", \"9-3\", \"9-4\", \"10-2\", \"10-3\", \"10-4\", \"10-5\", \"11-1\"], \"y\": [1.0, 1.0, 1.0, 1.0, 1.0, 1.0, null, null, null, null, null, null, null, null], \"type\": \"scatter\", \"uid\": \"d74fae36-e702-11e8-8ddb-a41f72875c19\"}, {\"line\": {\"dash\": \"longdash\"}, \"name\": \"\\u53cd\\u9988\\u53ca\\u65f6\\u7387(\\u738b\\u4f20\\u6587)\", \"x\": [\"8-1\", \"8-2\", \"8-3\", \"8-4\", \"8-5\", \"9-1\", \"9-2\", \"9-3\", \"9-4\", \"10-2\", \"10-3\", \"10-4\", \"10-5\", \"11-1\"], \"y\": [null, null, null, null, null, null, null, null, null, null, null, null, 1.0, 1.0], \"type\": \"scatter\", \"uid\": \"d74fae37-e702-11e8-8ddb-a41f72875c19\"}], {\"title\": \"\\u6570\\u636e\\u53ca\\u65f6\\u4ea4\\u4ed8\\u7387&\\u53cd\\u9988\\u53ca\\u65f6\\u7387\\u5468\\u8d8b\\u52bf\\u56fe\", \"xaxis\": {\"mirror\": \"all\", \"nticks\": 20, \"showgrid\": true, \"showline\": true, \"title\": \"\\u5468\", \"type\": \"category\", \"zeroline\": true}, \"yaxis\": {\"mirror\": \"all\", \"nticks\": 20, \"showgrid\": true, \"showline\": true, \"title\": \"\\u6570\\u636e\\u53ca\\u65f6\\u4ea4\\u4ed8\\u7387&\\u53cd\\u9988\\u53ca\\u65f6\\u7387\", \"zeroline\": true}}, {\"showLink\": true, \"linkText\": \"Export to plot.ly\"})});</script>"
      ]
     },
     "metadata": {},
     "output_type": "display_data"
    },
    {
     "data": {
      "application/vnd.plotly.v1+json": {
       "data": [
        {
         "line": {
          "dash": "solid"
         },
         "name": "数据及时交付率(屈昂)",
         "type": "scatter",
         "uid": "d74fae38-e702-11e8-8ddb-a41f72875c19",
         "x": [
          8,
          9,
          10,
          11
         ],
         "y": [
          1,
          1,
          1,
          1
         ]
        },
        {
         "line": {
          "dash": "dot"
         },
         "name": "数据及时交付率(高剑)",
         "type": "scatter",
         "uid": "d74fae39-e702-11e8-8ddb-a41f72875c19",
         "x": [
          8,
          9,
          10,
          11
         ],
         "y": [
          null,
          null,
          null,
          1
         ]
        },
        {
         "line": {
          "dash": "dash"
         },
         "name": "数据及时交付率(沈恩惠)",
         "type": "scatter",
         "uid": "d74fae3a-e702-11e8-8ddb-a41f72875c19",
         "x": [
          8,
          9,
          10,
          11
         ],
         "y": [
          null,
          null,
          1,
          1
         ]
        },
        {
         "line": {
          "dash": "longdash"
         },
         "name": "数据及时交付率(车天栋)",
         "type": "scatter",
         "uid": "d74fae3b-e702-11e8-8ddb-a41f72875c19",
         "x": [
          8,
          9,
          10,
          11
         ],
         "y": [
          null,
          null,
          1,
          1
         ]
        },
        {
         "line": {
          "dash": "dashdot"
         },
         "name": "数据及时交付率(冷雪)",
         "type": "scatter",
         "uid": "d74fae3c-e702-11e8-8ddb-a41f72875c19",
         "x": [
          8,
          9,
          10,
          11
         ],
         "y": [
          1,
          1,
          1,
          1
         ]
        },
        {
         "line": {
          "dash": "longdashdot"
         },
         "name": "数据及时交付率(沈立群)",
         "type": "scatter",
         "uid": "d74fae3d-e702-11e8-8ddb-a41f72875c19",
         "x": [
          8,
          9,
          10,
          11
         ],
         "y": [
          null,
          null,
          1,
          1
         ]
        },
        {
         "line": {
          "dash": "solid"
         },
         "name": "数据及时交付率(卢楠)",
         "type": "scatter",
         "uid": "d74fae3e-e702-11e8-8ddb-a41f72875c19",
         "x": [
          8,
          9,
          10,
          11
         ],
         "y": [
          1,
          1,
          null,
          null
         ]
        },
        {
         "line": {
          "dash": "dot"
         },
         "name": "数据及时交付率(林文文)",
         "type": "scatter",
         "uid": "d74fae3f-e702-11e8-8ddb-a41f72875c19",
         "x": [
          8,
          9,
          10,
          11
         ],
         "y": [
          null,
          null,
          1,
          1
         ]
        },
        {
         "line": {
          "dash": "dash"
         },
         "name": "数据及时交付率(张悦)",
         "type": "scatter",
         "uid": "d74fae40-e702-11e8-8ddb-a41f72875c19",
         "x": [
          8,
          9,
          10,
          11
         ],
         "y": [
          1,
          1,
          null,
          null
         ]
        },
        {
         "line": {
          "dash": "longdash"
         },
         "name": "数据及时交付率(王传文)",
         "type": "scatter",
         "uid": "d74fae41-e702-11e8-8ddb-a41f72875c19",
         "x": [
          8,
          9,
          10,
          11
         ],
         "y": [
          null,
          null,
          0.8571428571428571,
          1
         ]
        },
        {
         "line": {
          "dash": "solid"
         },
         "name": "反馈及时率(屈昂)",
         "type": "scatter",
         "uid": "d74fae42-e702-11e8-8ddb-a41f72875c19",
         "x": [
          8,
          9,
          10,
          11
         ],
         "y": [
          0.959493670886076,
          0.9862385321100917,
          1,
          1
         ]
        },
        {
         "line": {
          "dash": "dot"
         },
         "name": "反馈及时率(高剑)",
         "type": "scatter",
         "uid": "d74fae43-e702-11e8-8ddb-a41f72875c19",
         "x": [
          8,
          9,
          10,
          11
         ],
         "y": [
          null,
          null,
          1,
          1
         ]
        },
        {
         "line": {
          "dash": "dash"
         },
         "name": "反馈及时率(沈恩惠)",
         "type": "scatter",
         "uid": "d74fae44-e702-11e8-8ddb-a41f72875c19",
         "x": [
          8,
          9,
          10,
          11
         ],
         "y": [
          null,
          null,
          1,
          1
         ]
        },
        {
         "line": {
          "dash": "longdash"
         },
         "name": "反馈及时率(车天栋)",
         "type": "scatter",
         "uid": "d74fae45-e702-11e8-8ddb-a41f72875c19",
         "x": [
          8,
          9,
          10,
          11
         ],
         "y": [
          null,
          null,
          1,
          1
         ]
        },
        {
         "line": {
          "dash": "dashdot"
         },
         "name": "反馈及时率(冷雪)",
         "type": "scatter",
         "uid": "d74fae46-e702-11e8-8ddb-a41f72875c19",
         "x": [
          8,
          9,
          10,
          11
         ],
         "y": [
          0.9743589743589743,
          0.9754901960784313,
          0.9785867237687366,
          0.96875
         ]
        },
        {
         "line": {
          "dash": "longdashdot"
         },
         "name": "反馈及时率(沈立群)",
         "type": "scatter",
         "uid": "d74fae47-e702-11e8-8ddb-a41f72875c19",
         "x": [
          8,
          9,
          10,
          11
         ],
         "y": [
          null,
          null,
          1,
          1
         ]
        },
        {
         "line": {
          "dash": "solid"
         },
         "name": "反馈及时率(卢楠)",
         "type": "scatter",
         "uid": "d74fae48-e702-11e8-8ddb-a41f72875c19",
         "x": [
          8,
          9,
          10,
          11
         ],
         "y": [
          0.9754098360655737,
          1,
          null,
          null
         ]
        },
        {
         "line": {
          "dash": "dot"
         },
         "name": "反馈及时率(林文文)",
         "type": "scatter",
         "uid": "d74fae49-e702-11e8-8ddb-a41f72875c19",
         "x": [
          8,
          9,
          10,
          11
         ],
         "y": [
          null,
          null,
          1,
          1
         ]
        },
        {
         "line": {
          "dash": "dash"
         },
         "name": "反馈及时率(张悦)",
         "type": "scatter",
         "uid": "d74fae4a-e702-11e8-8ddb-a41f72875c19",
         "x": [
          8,
          9,
          10,
          11
         ],
         "y": [
          1,
          1,
          null,
          null
         ]
        },
        {
         "line": {
          "dash": "longdash"
         },
         "name": "反馈及时率(王传文)",
         "type": "scatter",
         "uid": "d74fae4b-e702-11e8-8ddb-a41f72875c19",
         "x": [
          8,
          9,
          10,
          11
         ],
         "y": [
          null,
          null,
          1,
          1
         ]
        }
       ],
       "layout": {
        "title": "数据及时交付率&反馈及时率月趋势图",
        "xaxis": {
         "mirror": "all",
         "nticks": 20,
         "showgrid": true,
         "showline": true,
         "title": "月",
         "type": "category",
         "zeroline": true
        },
        "yaxis": {
         "mirror": "all",
         "nticks": 20,
         "showgrid": true,
         "showline": true,
         "title": "数据及时交付率&反馈及时率",
         "zeroline": true
        }
       }
      },
      "text/html": [
       "<div id=\"b2b3043d-e145-43ea-8305-60b1bab81ab9\" style=\"height: 525px; width: 100%;\" class=\"plotly-graph-div\"></div><script type=\"text/javascript\">require([\"plotly\"], function(Plotly) { window.PLOTLYENV=window.PLOTLYENV || {};window.PLOTLYENV.BASE_URL=\"https://plot.ly\";Plotly.newPlot(\"b2b3043d-e145-43ea-8305-60b1bab81ab9\", [{\"line\": {\"dash\": \"solid\"}, \"name\": \"\\u6570\\u636e\\u53ca\\u65f6\\u4ea4\\u4ed8\\u7387(\\u5c48\\u6602)\", \"x\": [8, 9, 10, 11], \"y\": [1.0, 1.0, 1.0, 1.0], \"type\": \"scatter\", \"uid\": \"d74fae38-e702-11e8-8ddb-a41f72875c19\"}, {\"line\": {\"dash\": \"dot\"}, \"name\": \"\\u6570\\u636e\\u53ca\\u65f6\\u4ea4\\u4ed8\\u7387(\\u9ad8\\u5251)\", \"x\": [8, 9, 10, 11], \"y\": [null, null, null, 1.0], \"type\": \"scatter\", \"uid\": \"d74fae39-e702-11e8-8ddb-a41f72875c19\"}, {\"line\": {\"dash\": \"dash\"}, \"name\": \"\\u6570\\u636e\\u53ca\\u65f6\\u4ea4\\u4ed8\\u7387(\\u6c88\\u6069\\u60e0)\", \"x\": [8, 9, 10, 11], \"y\": [null, null, 1.0, 1.0], \"type\": \"scatter\", \"uid\": \"d74fae3a-e702-11e8-8ddb-a41f72875c19\"}, {\"line\": {\"dash\": \"longdash\"}, \"name\": \"\\u6570\\u636e\\u53ca\\u65f6\\u4ea4\\u4ed8\\u7387(\\u8f66\\u5929\\u680b)\", \"x\": [8, 9, 10, 11], \"y\": [null, null, 1.0, 1.0], \"type\": \"scatter\", \"uid\": \"d74fae3b-e702-11e8-8ddb-a41f72875c19\"}, {\"line\": {\"dash\": \"dashdot\"}, \"name\": \"\\u6570\\u636e\\u53ca\\u65f6\\u4ea4\\u4ed8\\u7387(\\u51b7\\u96ea)\", \"x\": [8, 9, 10, 11], \"y\": [1.0, 1.0, 1.0, 1.0], \"type\": \"scatter\", \"uid\": \"d74fae3c-e702-11e8-8ddb-a41f72875c19\"}, {\"line\": {\"dash\": \"longdashdot\"}, \"name\": \"\\u6570\\u636e\\u53ca\\u65f6\\u4ea4\\u4ed8\\u7387(\\u6c88\\u7acb\\u7fa4)\", \"x\": [8, 9, 10, 11], \"y\": [null, null, 1.0, 1.0], \"type\": \"scatter\", \"uid\": \"d74fae3d-e702-11e8-8ddb-a41f72875c19\"}, {\"line\": {\"dash\": \"solid\"}, \"name\": \"\\u6570\\u636e\\u53ca\\u65f6\\u4ea4\\u4ed8\\u7387(\\u5362\\u6960)\", \"x\": [8, 9, 10, 11], \"y\": [1.0, 1.0, null, null], \"type\": \"scatter\", \"uid\": \"d74fae3e-e702-11e8-8ddb-a41f72875c19\"}, {\"line\": {\"dash\": \"dot\"}, \"name\": \"\\u6570\\u636e\\u53ca\\u65f6\\u4ea4\\u4ed8\\u7387(\\u6797\\u6587\\u6587)\", \"x\": [8, 9, 10, 11], \"y\": [null, null, 1.0, 1.0], \"type\": \"scatter\", \"uid\": \"d74fae3f-e702-11e8-8ddb-a41f72875c19\"}, {\"line\": {\"dash\": \"dash\"}, \"name\": \"\\u6570\\u636e\\u53ca\\u65f6\\u4ea4\\u4ed8\\u7387(\\u5f20\\u60a6)\", \"x\": [8, 9, 10, 11], \"y\": [1.0, 1.0, null, null], \"type\": \"scatter\", \"uid\": \"d74fae40-e702-11e8-8ddb-a41f72875c19\"}, {\"line\": {\"dash\": \"longdash\"}, \"name\": \"\\u6570\\u636e\\u53ca\\u65f6\\u4ea4\\u4ed8\\u7387(\\u738b\\u4f20\\u6587)\", \"x\": [8, 9, 10, 11], \"y\": [null, null, 0.8571428571428571, 1.0], \"type\": \"scatter\", \"uid\": \"d74fae41-e702-11e8-8ddb-a41f72875c19\"}, {\"line\": {\"dash\": \"solid\"}, \"name\": \"\\u53cd\\u9988\\u53ca\\u65f6\\u7387(\\u5c48\\u6602)\", \"x\": [8, 9, 10, 11], \"y\": [0.959493670886076, 0.9862385321100917, 1.0, 1.0], \"type\": \"scatter\", \"uid\": \"d74fae42-e702-11e8-8ddb-a41f72875c19\"}, {\"line\": {\"dash\": \"dot\"}, \"name\": \"\\u53cd\\u9988\\u53ca\\u65f6\\u7387(\\u9ad8\\u5251)\", \"x\": [8, 9, 10, 11], \"y\": [null, null, 1.0, 1.0], \"type\": \"scatter\", \"uid\": \"d74fae43-e702-11e8-8ddb-a41f72875c19\"}, {\"line\": {\"dash\": \"dash\"}, \"name\": \"\\u53cd\\u9988\\u53ca\\u65f6\\u7387(\\u6c88\\u6069\\u60e0)\", \"x\": [8, 9, 10, 11], \"y\": [null, null, 1.0, 1.0], \"type\": \"scatter\", \"uid\": \"d74fae44-e702-11e8-8ddb-a41f72875c19\"}, {\"line\": {\"dash\": \"longdash\"}, \"name\": \"\\u53cd\\u9988\\u53ca\\u65f6\\u7387(\\u8f66\\u5929\\u680b)\", \"x\": [8, 9, 10, 11], \"y\": [null, null, 1.0, 1.0], \"type\": \"scatter\", \"uid\": \"d74fae45-e702-11e8-8ddb-a41f72875c19\"}, {\"line\": {\"dash\": \"dashdot\"}, \"name\": \"\\u53cd\\u9988\\u53ca\\u65f6\\u7387(\\u51b7\\u96ea)\", \"x\": [8, 9, 10, 11], \"y\": [0.9743589743589743, 0.9754901960784313, 0.9785867237687366, 0.96875], \"type\": \"scatter\", \"uid\": \"d74fae46-e702-11e8-8ddb-a41f72875c19\"}, {\"line\": {\"dash\": \"longdashdot\"}, \"name\": \"\\u53cd\\u9988\\u53ca\\u65f6\\u7387(\\u6c88\\u7acb\\u7fa4)\", \"x\": [8, 9, 10, 11], \"y\": [null, null, 1.0, 1.0], \"type\": \"scatter\", \"uid\": \"d74fae47-e702-11e8-8ddb-a41f72875c19\"}, {\"line\": {\"dash\": \"solid\"}, \"name\": \"\\u53cd\\u9988\\u53ca\\u65f6\\u7387(\\u5362\\u6960)\", \"x\": [8, 9, 10, 11], \"y\": [0.9754098360655737, 1.0, null, null], \"type\": \"scatter\", \"uid\": \"d74fae48-e702-11e8-8ddb-a41f72875c19\"}, {\"line\": {\"dash\": \"dot\"}, \"name\": \"\\u53cd\\u9988\\u53ca\\u65f6\\u7387(\\u6797\\u6587\\u6587)\", \"x\": [8, 9, 10, 11], \"y\": [null, null, 1.0, 1.0], \"type\": \"scatter\", \"uid\": \"d74fae49-e702-11e8-8ddb-a41f72875c19\"}, {\"line\": {\"dash\": \"dash\"}, \"name\": \"\\u53cd\\u9988\\u53ca\\u65f6\\u7387(\\u5f20\\u60a6)\", \"x\": [8, 9, 10, 11], \"y\": [1.0, 1.0, null, null], \"type\": \"scatter\", \"uid\": \"d74fae4a-e702-11e8-8ddb-a41f72875c19\"}, {\"line\": {\"dash\": \"longdash\"}, \"name\": \"\\u53cd\\u9988\\u53ca\\u65f6\\u7387(\\u738b\\u4f20\\u6587)\", \"x\": [8, 9, 10, 11], \"y\": [null, null, 1.0, 1.0], \"type\": \"scatter\", \"uid\": \"d74fae4b-e702-11e8-8ddb-a41f72875c19\"}], {\"title\": \"\\u6570\\u636e\\u53ca\\u65f6\\u4ea4\\u4ed8\\u7387&\\u53cd\\u9988\\u53ca\\u65f6\\u7387\\u6708\\u8d8b\\u52bf\\u56fe\", \"xaxis\": {\"mirror\": \"all\", \"nticks\": 20, \"showgrid\": true, \"showline\": true, \"title\": \"\\u6708\", \"type\": \"category\", \"zeroline\": true}, \"yaxis\": {\"mirror\": \"all\", \"nticks\": 20, \"showgrid\": true, \"showline\": true, \"title\": \"\\u6570\\u636e\\u53ca\\u65f6\\u4ea4\\u4ed8\\u7387&\\u53cd\\u9988\\u53ca\\u65f6\\u7387\", \"zeroline\": true}}, {\"showLink\": true, \"linkText\": \"Export to plot.ly\"})});</script>"
      ],
      "text/vnd.plotly.v1+html": [
       "<div id=\"b2b3043d-e145-43ea-8305-60b1bab81ab9\" style=\"height: 525px; width: 100%;\" class=\"plotly-graph-div\"></div><script type=\"text/javascript\">require([\"plotly\"], function(Plotly) { window.PLOTLYENV=window.PLOTLYENV || {};window.PLOTLYENV.BASE_URL=\"https://plot.ly\";Plotly.newPlot(\"b2b3043d-e145-43ea-8305-60b1bab81ab9\", [{\"line\": {\"dash\": \"solid\"}, \"name\": \"\\u6570\\u636e\\u53ca\\u65f6\\u4ea4\\u4ed8\\u7387(\\u5c48\\u6602)\", \"x\": [8, 9, 10, 11], \"y\": [1.0, 1.0, 1.0, 1.0], \"type\": \"scatter\", \"uid\": \"d74fae38-e702-11e8-8ddb-a41f72875c19\"}, {\"line\": {\"dash\": \"dot\"}, \"name\": \"\\u6570\\u636e\\u53ca\\u65f6\\u4ea4\\u4ed8\\u7387(\\u9ad8\\u5251)\", \"x\": [8, 9, 10, 11], \"y\": [null, null, null, 1.0], \"type\": \"scatter\", \"uid\": \"d74fae39-e702-11e8-8ddb-a41f72875c19\"}, {\"line\": {\"dash\": \"dash\"}, \"name\": \"\\u6570\\u636e\\u53ca\\u65f6\\u4ea4\\u4ed8\\u7387(\\u6c88\\u6069\\u60e0)\", \"x\": [8, 9, 10, 11], \"y\": [null, null, 1.0, 1.0], \"type\": \"scatter\", \"uid\": \"d74fae3a-e702-11e8-8ddb-a41f72875c19\"}, {\"line\": {\"dash\": \"longdash\"}, \"name\": \"\\u6570\\u636e\\u53ca\\u65f6\\u4ea4\\u4ed8\\u7387(\\u8f66\\u5929\\u680b)\", \"x\": [8, 9, 10, 11], \"y\": [null, null, 1.0, 1.0], \"type\": \"scatter\", \"uid\": \"d74fae3b-e702-11e8-8ddb-a41f72875c19\"}, {\"line\": {\"dash\": \"dashdot\"}, \"name\": \"\\u6570\\u636e\\u53ca\\u65f6\\u4ea4\\u4ed8\\u7387(\\u51b7\\u96ea)\", \"x\": [8, 9, 10, 11], \"y\": [1.0, 1.0, 1.0, 1.0], \"type\": \"scatter\", \"uid\": \"d74fae3c-e702-11e8-8ddb-a41f72875c19\"}, {\"line\": {\"dash\": \"longdashdot\"}, \"name\": \"\\u6570\\u636e\\u53ca\\u65f6\\u4ea4\\u4ed8\\u7387(\\u6c88\\u7acb\\u7fa4)\", \"x\": [8, 9, 10, 11], \"y\": [null, null, 1.0, 1.0], \"type\": \"scatter\", \"uid\": \"d74fae3d-e702-11e8-8ddb-a41f72875c19\"}, {\"line\": {\"dash\": \"solid\"}, \"name\": \"\\u6570\\u636e\\u53ca\\u65f6\\u4ea4\\u4ed8\\u7387(\\u5362\\u6960)\", \"x\": [8, 9, 10, 11], \"y\": [1.0, 1.0, null, null], \"type\": \"scatter\", \"uid\": \"d74fae3e-e702-11e8-8ddb-a41f72875c19\"}, {\"line\": {\"dash\": \"dot\"}, \"name\": \"\\u6570\\u636e\\u53ca\\u65f6\\u4ea4\\u4ed8\\u7387(\\u6797\\u6587\\u6587)\", \"x\": [8, 9, 10, 11], \"y\": [null, null, 1.0, 1.0], \"type\": \"scatter\", \"uid\": \"d74fae3f-e702-11e8-8ddb-a41f72875c19\"}, {\"line\": {\"dash\": \"dash\"}, \"name\": \"\\u6570\\u636e\\u53ca\\u65f6\\u4ea4\\u4ed8\\u7387(\\u5f20\\u60a6)\", \"x\": [8, 9, 10, 11], \"y\": [1.0, 1.0, null, null], \"type\": \"scatter\", \"uid\": \"d74fae40-e702-11e8-8ddb-a41f72875c19\"}, {\"line\": {\"dash\": \"longdash\"}, \"name\": \"\\u6570\\u636e\\u53ca\\u65f6\\u4ea4\\u4ed8\\u7387(\\u738b\\u4f20\\u6587)\", \"x\": [8, 9, 10, 11], \"y\": [null, null, 0.8571428571428571, 1.0], \"type\": \"scatter\", \"uid\": \"d74fae41-e702-11e8-8ddb-a41f72875c19\"}, {\"line\": {\"dash\": \"solid\"}, \"name\": \"\\u53cd\\u9988\\u53ca\\u65f6\\u7387(\\u5c48\\u6602)\", \"x\": [8, 9, 10, 11], \"y\": [0.959493670886076, 0.9862385321100917, 1.0, 1.0], \"type\": \"scatter\", \"uid\": \"d74fae42-e702-11e8-8ddb-a41f72875c19\"}, {\"line\": {\"dash\": \"dot\"}, \"name\": \"\\u53cd\\u9988\\u53ca\\u65f6\\u7387(\\u9ad8\\u5251)\", \"x\": [8, 9, 10, 11], \"y\": [null, null, 1.0, 1.0], \"type\": \"scatter\", \"uid\": \"d74fae43-e702-11e8-8ddb-a41f72875c19\"}, {\"line\": {\"dash\": \"dash\"}, \"name\": \"\\u53cd\\u9988\\u53ca\\u65f6\\u7387(\\u6c88\\u6069\\u60e0)\", \"x\": [8, 9, 10, 11], \"y\": [null, null, 1.0, 1.0], \"type\": \"scatter\", \"uid\": \"d74fae44-e702-11e8-8ddb-a41f72875c19\"}, {\"line\": {\"dash\": \"longdash\"}, \"name\": \"\\u53cd\\u9988\\u53ca\\u65f6\\u7387(\\u8f66\\u5929\\u680b)\", \"x\": [8, 9, 10, 11], \"y\": [null, null, 1.0, 1.0], \"type\": \"scatter\", \"uid\": \"d74fae45-e702-11e8-8ddb-a41f72875c19\"}, {\"line\": {\"dash\": \"dashdot\"}, \"name\": \"\\u53cd\\u9988\\u53ca\\u65f6\\u7387(\\u51b7\\u96ea)\", \"x\": [8, 9, 10, 11], \"y\": [0.9743589743589743, 0.9754901960784313, 0.9785867237687366, 0.96875], \"type\": \"scatter\", \"uid\": \"d74fae46-e702-11e8-8ddb-a41f72875c19\"}, {\"line\": {\"dash\": \"longdashdot\"}, \"name\": \"\\u53cd\\u9988\\u53ca\\u65f6\\u7387(\\u6c88\\u7acb\\u7fa4)\", \"x\": [8, 9, 10, 11], \"y\": [null, null, 1.0, 1.0], \"type\": \"scatter\", \"uid\": \"d74fae47-e702-11e8-8ddb-a41f72875c19\"}, {\"line\": {\"dash\": \"solid\"}, \"name\": \"\\u53cd\\u9988\\u53ca\\u65f6\\u7387(\\u5362\\u6960)\", \"x\": [8, 9, 10, 11], \"y\": [0.9754098360655737, 1.0, null, null], \"type\": \"scatter\", \"uid\": \"d74fae48-e702-11e8-8ddb-a41f72875c19\"}, {\"line\": {\"dash\": \"dot\"}, \"name\": \"\\u53cd\\u9988\\u53ca\\u65f6\\u7387(\\u6797\\u6587\\u6587)\", \"x\": [8, 9, 10, 11], \"y\": [null, null, 1.0, 1.0], \"type\": \"scatter\", \"uid\": \"d74fae49-e702-11e8-8ddb-a41f72875c19\"}, {\"line\": {\"dash\": \"dash\"}, \"name\": \"\\u53cd\\u9988\\u53ca\\u65f6\\u7387(\\u5f20\\u60a6)\", \"x\": [8, 9, 10, 11], \"y\": [1.0, 1.0, null, null], \"type\": \"scatter\", \"uid\": \"d74fae4a-e702-11e8-8ddb-a41f72875c19\"}, {\"line\": {\"dash\": \"longdash\"}, \"name\": \"\\u53cd\\u9988\\u53ca\\u65f6\\u7387(\\u738b\\u4f20\\u6587)\", \"x\": [8, 9, 10, 11], \"y\": [null, null, 1.0, 1.0], \"type\": \"scatter\", \"uid\": \"d74fae4b-e702-11e8-8ddb-a41f72875c19\"}], {\"title\": \"\\u6570\\u636e\\u53ca\\u65f6\\u4ea4\\u4ed8\\u7387&\\u53cd\\u9988\\u53ca\\u65f6\\u7387\\u6708\\u8d8b\\u52bf\\u56fe\", \"xaxis\": {\"mirror\": \"all\", \"nticks\": 20, \"showgrid\": true, \"showline\": true, \"title\": \"\\u6708\", \"type\": \"category\", \"zeroline\": true}, \"yaxis\": {\"mirror\": \"all\", \"nticks\": 20, \"showgrid\": true, \"showline\": true, \"title\": \"\\u6570\\u636e\\u53ca\\u65f6\\u4ea4\\u4ed8\\u7387&\\u53cd\\u9988\\u53ca\\u65f6\\u7387\", \"zeroline\": true}}, {\"showLink\": true, \"linkText\": \"Export to plot.ly\"})});</script>"
      ]
     },
     "metadata": {},
     "output_type": "display_data"
    }
   ],
   "source": [
    "ss = myModule.format(all_df1 ,\"日期（格式“月-周次”）\" ,['及时反馈数','下机批次数','数据及时交付数','数据交付总数'])\n",
    "ss.add_group('人员')\n",
    "tt = ss.get_total_ratio([['反馈及时率','及时反馈数','下机批次数','/'],\n",
    "                       ['数据及时交付率','数据及时交付数','数据交付总数','/']])\n",
    "myModule.myPlot(myModule.sort_by_index(tt)).plot('line')\n",
    "\n",
    "ss = myModule.format(all_df1 ,\"month\" ,['及时反馈数','下机批次数','数据及时交付数','数据交付总数'])\n",
    "ss.add_group('人员')\n",
    "tt = ss.get_total_ratio([['反馈及时率','及时反馈数','下机批次数','/'],\n",
    "                       ['数据及时交付率','数据及时交付数','数据交付总数','/']])\n",
    "myModule.myPlot(tt).plot('line','月')"
   ]
  },
  {
   "cell_type": "markdown",
   "metadata": {},
   "source": [
    "### 平均反馈时长和反馈时长Q80"
   ]
  },
  {
   "cell_type": "code",
   "execution_count": 148,
   "metadata": {
    "collapsed": false
   },
   "outputs": [
    {
     "data": {
      "application/vnd.plotly.v1+json": {
       "data": [
        {
         "line": {
          "dash": "solid"
         },
         "name": "反馈时长Q80(屈昂)",
         "type": "scatter",
         "uid": "d74fae4c-e702-11e8-8ddb-a41f72875c19",
         "x": [
          "8-1",
          "8-2",
          "8-3",
          "8-4",
          "8-5",
          "9-1",
          "9-2",
          "9-3",
          "9-4",
          "10-2",
          "10-3",
          "10-4",
          "10-5",
          "11-1"
         ],
         "y": [
          5.79,
          5.35,
          5.31,
          5.19,
          11.12,
          16,
          9.89,
          3.92,
          2.71,
          3.94,
          10.47,
          0,
          15.68,
          6.92
         ]
        },
        {
         "line": {
          "dash": "dot"
         },
         "name": "反馈时长Q80(高剑)",
         "type": "scatter",
         "uid": "d74fae4d-e702-11e8-8ddb-a41f72875c19",
         "x": [
          "8-1",
          "8-2",
          "8-3",
          "8-4",
          "8-5",
          "9-1",
          "9-2",
          "9-3",
          "9-4",
          "10-2",
          "10-3",
          "10-4",
          "10-5",
          "11-1"
         ],
         "y": [
          null,
          null,
          null,
          null,
          null,
          null,
          null,
          null,
          null,
          null,
          null,
          null,
          4.66,
          4.66
         ]
        },
        {
         "line": {
          "dash": "dash"
         },
         "name": "反馈时长Q80(沈恩惠)",
         "type": "scatter",
         "uid": "d74fae4e-e702-11e8-8ddb-a41f72875c19",
         "x": [
          "8-1",
          "8-2",
          "8-3",
          "8-4",
          "8-5",
          "9-1",
          "9-2",
          "9-3",
          "9-4",
          "10-2",
          "10-3",
          "10-4",
          "10-5",
          "11-1"
         ],
         "y": [
          null,
          null,
          null,
          null,
          null,
          null,
          null,
          null,
          null,
          null,
          null,
          null,
          16.53,
          16.53
         ]
        },
        {
         "line": {
          "dash": "longdash"
         },
         "name": "反馈时长Q80(车天栋)",
         "type": "scatter",
         "uid": "d74fae4f-e702-11e8-8ddb-a41f72875c19",
         "x": [
          "8-1",
          "8-2",
          "8-3",
          "8-4",
          "8-5",
          "9-1",
          "9-2",
          "9-3",
          "9-4",
          "10-2",
          "10-3",
          "10-4",
          "10-5",
          "11-1"
         ],
         "y": [
          null,
          null,
          null,
          null,
          null,
          null,
          null,
          null,
          null,
          null,
          null,
          null,
          8.32,
          8.32
         ]
        },
        {
         "line": {
          "dash": "dashdot"
         },
         "name": "反馈时长Q80(冷雪)",
         "type": "scatter",
         "uid": "d74fae50-e702-11e8-8ddb-a41f72875c19",
         "x": [
          "8-1",
          "8-2",
          "8-3",
          "8-4",
          "8-5",
          "9-1",
          "9-2",
          "9-3",
          "9-4",
          "10-2",
          "10-3",
          "10-4",
          "10-5",
          "11-1"
         ],
         "y": [
          7.59,
          4.66,
          5.63,
          3.23,
          6.49,
          13.99,
          10.5,
          3.83,
          3.99,
          4,
          4.79,
          6.28,
          5.13,
          6.52
         ]
        },
        {
         "line": {
          "dash": "longdashdot"
         },
         "name": "反馈时长Q80(沈立群)",
         "type": "scatter",
         "uid": "d74fae51-e702-11e8-8ddb-a41f72875c19",
         "x": [
          "8-1",
          "8-2",
          "8-3",
          "8-4",
          "8-5",
          "9-1",
          "9-2",
          "9-3",
          "9-4",
          "10-2",
          "10-3",
          "10-4",
          "10-5",
          "11-1"
         ],
         "y": [
          null,
          null,
          null,
          null,
          null,
          null,
          null,
          null,
          null,
          null,
          null,
          null,
          9.69,
          9.69
         ]
        },
        {
         "line": {
          "dash": "solid"
         },
         "name": "反馈时长Q80(卢楠)",
         "type": "scatter",
         "uid": "d74fae52-e702-11e8-8ddb-a41f72875c19",
         "x": [
          "8-1",
          "8-2",
          "8-3",
          "8-4",
          "8-5",
          "9-1",
          "9-2",
          "9-3",
          "9-4",
          "10-2",
          "10-3",
          "10-4",
          "10-5",
          "11-1"
         ],
         "y": [
          7.58,
          4.61,
          18.53,
          5.89,
          1.85,
          2.18,
          15.12,
          null,
          null,
          null,
          null,
          null,
          null,
          null
         ]
        },
        {
         "line": {
          "dash": "dot"
         },
         "name": "反馈时长Q80(林文文)",
         "type": "scatter",
         "uid": "d74fae53-e702-11e8-8ddb-a41f72875c19",
         "x": [
          "8-1",
          "8-2",
          "8-3",
          "8-4",
          "8-5",
          "9-1",
          "9-2",
          "9-3",
          "9-4",
          "10-2",
          "10-3",
          "10-4",
          "10-5",
          "11-1"
         ],
         "y": [
          null,
          null,
          null,
          null,
          null,
          null,
          null,
          null,
          null,
          null,
          null,
          null,
          7.02,
          7.02
         ]
        },
        {
         "line": {
          "dash": "dash"
         },
         "name": "反馈时长Q80(张悦)",
         "type": "scatter",
         "uid": "d74fae54-e702-11e8-8ddb-a41f72875c19",
         "x": [
          "8-1",
          "8-2",
          "8-3",
          "8-4",
          "8-5",
          "9-1",
          "9-2",
          "9-3",
          "9-4",
          "10-2",
          "10-3",
          "10-4",
          "10-5",
          "11-1"
         ],
         "y": [
          5.54,
          2.28,
          18.68,
          1.47,
          2.11,
          3.31,
          null,
          null,
          null,
          null,
          null,
          null,
          null,
          null
         ]
        },
        {
         "line": {
          "dash": "longdash"
         },
         "name": "反馈时长Q80(王传文)",
         "type": "scatter",
         "uid": "d74fae55-e702-11e8-8ddb-a41f72875c19",
         "x": [
          "8-1",
          "8-2",
          "8-3",
          "8-4",
          "8-5",
          "9-1",
          "9-2",
          "9-3",
          "9-4",
          "10-2",
          "10-3",
          "10-4",
          "10-5",
          "11-1"
         ],
         "y": [
          null,
          null,
          null,
          null,
          null,
          null,
          null,
          null,
          null,
          null,
          null,
          null,
          14.27,
          14.27
         ]
        },
        {
         "line": {
          "dash": "solid"
         },
         "name": "平均反馈时长(屈昂)",
         "type": "scatter",
         "uid": "d74fae56-e702-11e8-8ddb-a41f72875c19",
         "x": [
          "8-1",
          "8-2",
          "8-3",
          "8-4",
          "8-5",
          "9-1",
          "9-2",
          "9-3",
          "9-4",
          "10-2",
          "10-3",
          "10-4",
          "10-5",
          "11-1"
         ],
         "y": [
          5.95,
          4.49,
          4.5,
          5.37,
          7.139294117647059,
          9.77,
          6.688,
          3.6300000000000003,
          2.73,
          3.94,
          8.766666666666667,
          null,
          15.68,
          13.455
         ]
        },
        {
         "line": {
          "dash": "dot"
         },
         "name": "平均反馈时长(高剑)",
         "type": "scatter",
         "uid": "d74fae57-e702-11e8-8ddb-a41f72875c19",
         "x": [
          "8-1",
          "8-2",
          "8-3",
          "8-4",
          "8-5",
          "9-1",
          "9-2",
          "9-3",
          "9-4",
          "10-2",
          "10-3",
          "10-4",
          "10-5",
          "11-1"
         ],
         "y": [
          null,
          null,
          null,
          null,
          null,
          null,
          null,
          null,
          null,
          null,
          null,
          null,
          0.895,
          3.58
         ]
        },
        {
         "line": {
          "dash": "dash"
         },
         "name": "平均反馈时长(沈恩惠)",
         "type": "scatter",
         "uid": "d74fae58-e702-11e8-8ddb-a41f72875c19",
         "x": [
          "8-1",
          "8-2",
          "8-3",
          "8-4",
          "8-5",
          "9-1",
          "9-2",
          "9-3",
          "9-4",
          "10-2",
          "10-3",
          "10-4",
          "10-5",
          "11-1"
         ],
         "y": [
          null,
          null,
          null,
          null,
          null,
          null,
          null,
          null,
          null,
          null,
          null,
          null,
          2.194,
          10.97
         ]
        },
        {
         "line": {
          "dash": "longdash"
         },
         "name": "平均反馈时长(车天栋)",
         "type": "scatter",
         "uid": "d74fae59-e702-11e8-8ddb-a41f72875c19",
         "x": [
          "8-1",
          "8-2",
          "8-3",
          "8-4",
          "8-5",
          "9-1",
          "9-2",
          "9-3",
          "9-4",
          "10-2",
          "10-3",
          "10-4",
          "10-5",
          "11-1"
         ],
         "y": [
          null,
          null,
          null,
          null,
          null,
          null,
          null,
          null,
          null,
          null,
          null,
          null,
          4.08,
          8.16
         ]
        },
        {
         "line": {
          "dash": "dashdot"
         },
         "name": "平均反馈时长(冷雪)",
         "type": "scatter",
         "uid": "d74fae5a-e702-11e8-8ddb-a41f72875c19",
         "x": [
          "8-1",
          "8-2",
          "8-3",
          "8-4",
          "8-5",
          "9-1",
          "9-2",
          "9-3",
          "9-4",
          "10-2",
          "10-3",
          "10-4",
          "10-5",
          "11-1"
         ],
         "y": [
          7.090000000000001,
          3.9827586206896552,
          4.95,
          3.38,
          3.69,
          9.81,
          7.658947368421053,
          3.6,
          3.2600000000000002,
          2.78,
          4.016976744186047,
          4.655182481751825,
          3.381287878787879,
          4.98515625
         ]
        },
        {
         "line": {
          "dash": "longdashdot"
         },
         "name": "平均反馈时长(沈立群)",
         "type": "scatter",
         "uid": "d74fae5b-e702-11e8-8ddb-a41f72875c19",
         "x": [
          "8-1",
          "8-2",
          "8-3",
          "8-4",
          "8-5",
          "9-1",
          "9-2",
          "9-3",
          "9-4",
          "10-2",
          "10-3",
          "10-4",
          "10-5",
          "11-1"
         ],
         "y": [
          null,
          null,
          null,
          null,
          null,
          null,
          null,
          null,
          null,
          null,
          null,
          null,
          1.7275,
          6.91
         ]
        },
        {
         "line": {
          "dash": "solid"
         },
         "name": "平均反馈时长(卢楠)",
         "type": "scatter",
         "uid": "d74fae5c-e702-11e8-8ddb-a41f72875c19",
         "x": [
          "8-1",
          "8-2",
          "8-3",
          "8-4",
          "8-5",
          "9-1",
          "9-2",
          "9-3",
          "9-4",
          "10-2",
          "10-3",
          "10-4",
          "10-5",
          "11-1"
         ],
         "y": [
          5.77,
          5,
          8.6,
          5.199999999999999,
          1.7300000000000002,
          7.2,
          14.409999999999998,
          null,
          null,
          null,
          null,
          null,
          null,
          null
         ]
        },
        {
         "line": {
          "dash": "dot"
         },
         "name": "平均反馈时长(林文文)",
         "type": "scatter",
         "uid": "d74fae5d-e702-11e8-8ddb-a41f72875c19",
         "x": [
          "8-1",
          "8-2",
          "8-3",
          "8-4",
          "8-5",
          "9-1",
          "9-2",
          "9-3",
          "9-4",
          "10-2",
          "10-3",
          "10-4",
          "10-5",
          "11-1"
         ],
         "y": [
          null,
          null,
          null,
          null,
          null,
          null,
          null,
          null,
          null,
          null,
          null,
          null,
          0.745,
          4.47
         ]
        },
        {
         "line": {
          "dash": "dash"
         },
         "name": "平均反馈时长(张悦)",
         "type": "scatter",
         "uid": "d74fae5e-e702-11e8-8ddb-a41f72875c19",
         "x": [
          "8-1",
          "8-2",
          "8-3",
          "8-4",
          "8-5",
          "9-1",
          "9-2",
          "9-3",
          "9-4",
          "10-2",
          "10-3",
          "10-4",
          "10-5",
          "11-1"
         ],
         "y": [
          14.51,
          3.26,
          18.68,
          1.47,
          2.7600000000000002,
          5.22,
          null,
          null,
          null,
          null,
          null,
          null,
          null,
          null
         ]
        },
        {
         "line": {
          "dash": "longdash"
         },
         "name": "平均反馈时长(王传文)",
         "type": "scatter",
         "uid": "d74fae5f-e702-11e8-8ddb-a41f72875c19",
         "x": [
          "8-1",
          "8-2",
          "8-3",
          "8-4",
          "8-5",
          "9-1",
          "9-2",
          "9-3",
          "9-4",
          "10-2",
          "10-3",
          "10-4",
          "10-5",
          "11-1"
         ],
         "y": [
          null,
          null,
          null,
          null,
          null,
          null,
          null,
          null,
          null,
          null,
          null,
          null,
          1.688,
          8.44
         ]
        }
       ],
       "layout": {
        "title": "反馈时长Q80&平均反馈时长周趋势图",
        "xaxis": {
         "mirror": "all",
         "nticks": 20,
         "showgrid": true,
         "showline": true,
         "title": "周",
         "type": "category",
         "zeroline": true
        },
        "yaxis": {
         "mirror": "all",
         "nticks": 20,
         "showgrid": true,
         "showline": true,
         "title": "反馈时长Q80&平均反馈时长",
         "zeroline": true
        }
       }
      },
      "text/html": [
       "<div id=\"a3d8a169-e408-4459-a043-6ae0b3ff2330\" style=\"height: 525px; width: 100%;\" class=\"plotly-graph-div\"></div><script type=\"text/javascript\">require([\"plotly\"], function(Plotly) { window.PLOTLYENV=window.PLOTLYENV || {};window.PLOTLYENV.BASE_URL=\"https://plot.ly\";Plotly.newPlot(\"a3d8a169-e408-4459-a043-6ae0b3ff2330\", [{\"line\": {\"dash\": \"solid\"}, \"name\": \"\\u53cd\\u9988\\u65f6\\u957fQ80(\\u5c48\\u6602)\", \"x\": [\"8-1\", \"8-2\", \"8-3\", \"8-4\", \"8-5\", \"9-1\", \"9-2\", \"9-3\", \"9-4\", \"10-2\", \"10-3\", \"10-4\", \"10-5\", \"11-1\"], \"y\": [5.79, 5.35, 5.31, 5.19, 11.12, 16.0, 9.89, 3.92, 2.71, 3.94, 10.47, 0.0, 15.68, 6.92], \"type\": \"scatter\", \"uid\": \"d74fae4c-e702-11e8-8ddb-a41f72875c19\"}, {\"line\": {\"dash\": \"dot\"}, \"name\": \"\\u53cd\\u9988\\u65f6\\u957fQ80(\\u9ad8\\u5251)\", \"x\": [\"8-1\", \"8-2\", \"8-3\", \"8-4\", \"8-5\", \"9-1\", \"9-2\", \"9-3\", \"9-4\", \"10-2\", \"10-3\", \"10-4\", \"10-5\", \"11-1\"], \"y\": [null, null, null, null, null, null, null, null, null, null, null, null, 4.66, 4.66], \"type\": \"scatter\", \"uid\": \"d74fae4d-e702-11e8-8ddb-a41f72875c19\"}, {\"line\": {\"dash\": \"dash\"}, \"name\": \"\\u53cd\\u9988\\u65f6\\u957fQ80(\\u6c88\\u6069\\u60e0)\", \"x\": [\"8-1\", \"8-2\", \"8-3\", \"8-4\", \"8-5\", \"9-1\", \"9-2\", \"9-3\", \"9-4\", \"10-2\", \"10-3\", \"10-4\", \"10-5\", \"11-1\"], \"y\": [null, null, null, null, null, null, null, null, null, null, null, null, 16.53, 16.53], \"type\": \"scatter\", \"uid\": \"d74fae4e-e702-11e8-8ddb-a41f72875c19\"}, {\"line\": {\"dash\": \"longdash\"}, \"name\": \"\\u53cd\\u9988\\u65f6\\u957fQ80(\\u8f66\\u5929\\u680b)\", \"x\": [\"8-1\", \"8-2\", \"8-3\", \"8-4\", \"8-5\", \"9-1\", \"9-2\", \"9-3\", \"9-4\", \"10-2\", \"10-3\", \"10-4\", \"10-5\", \"11-1\"], \"y\": [null, null, null, null, null, null, null, null, null, null, null, null, 8.32, 8.32], \"type\": \"scatter\", \"uid\": \"d74fae4f-e702-11e8-8ddb-a41f72875c19\"}, {\"line\": {\"dash\": \"dashdot\"}, \"name\": \"\\u53cd\\u9988\\u65f6\\u957fQ80(\\u51b7\\u96ea)\", \"x\": [\"8-1\", \"8-2\", \"8-3\", \"8-4\", \"8-5\", \"9-1\", \"9-2\", \"9-3\", \"9-4\", \"10-2\", \"10-3\", \"10-4\", \"10-5\", \"11-1\"], \"y\": [7.59, 4.66, 5.63, 3.23, 6.49, 13.99, 10.5, 3.83, 3.99, 4.0, 4.79, 6.28, 5.13, 6.52], \"type\": \"scatter\", \"uid\": \"d74fae50-e702-11e8-8ddb-a41f72875c19\"}, {\"line\": {\"dash\": \"longdashdot\"}, \"name\": \"\\u53cd\\u9988\\u65f6\\u957fQ80(\\u6c88\\u7acb\\u7fa4)\", \"x\": [\"8-1\", \"8-2\", \"8-3\", \"8-4\", \"8-5\", \"9-1\", \"9-2\", \"9-3\", \"9-4\", \"10-2\", \"10-3\", \"10-4\", \"10-5\", \"11-1\"], \"y\": [null, null, null, null, null, null, null, null, null, null, null, null, 9.69, 9.69], \"type\": \"scatter\", \"uid\": \"d74fae51-e702-11e8-8ddb-a41f72875c19\"}, {\"line\": {\"dash\": \"solid\"}, \"name\": \"\\u53cd\\u9988\\u65f6\\u957fQ80(\\u5362\\u6960)\", \"x\": [\"8-1\", \"8-2\", \"8-3\", \"8-4\", \"8-5\", \"9-1\", \"9-2\", \"9-3\", \"9-4\", \"10-2\", \"10-3\", \"10-4\", \"10-5\", \"11-1\"], \"y\": [7.58, 4.61, 18.53, 5.89, 1.85, 2.18, 15.12, null, null, null, null, null, null, null], \"type\": \"scatter\", \"uid\": \"d74fae52-e702-11e8-8ddb-a41f72875c19\"}, {\"line\": {\"dash\": \"dot\"}, \"name\": \"\\u53cd\\u9988\\u65f6\\u957fQ80(\\u6797\\u6587\\u6587)\", \"x\": [\"8-1\", \"8-2\", \"8-3\", \"8-4\", \"8-5\", \"9-1\", \"9-2\", \"9-3\", \"9-4\", \"10-2\", \"10-3\", \"10-4\", \"10-5\", \"11-1\"], \"y\": [null, null, null, null, null, null, null, null, null, null, null, null, 7.02, 7.02], \"type\": \"scatter\", \"uid\": \"d74fae53-e702-11e8-8ddb-a41f72875c19\"}, {\"line\": {\"dash\": \"dash\"}, \"name\": \"\\u53cd\\u9988\\u65f6\\u957fQ80(\\u5f20\\u60a6)\", \"x\": [\"8-1\", \"8-2\", \"8-3\", \"8-4\", \"8-5\", \"9-1\", \"9-2\", \"9-3\", \"9-4\", \"10-2\", \"10-3\", \"10-4\", \"10-5\", \"11-1\"], \"y\": [5.54, 2.28, 18.68, 1.47, 2.11, 3.31, null, null, null, null, null, null, null, null], \"type\": \"scatter\", \"uid\": \"d74fae54-e702-11e8-8ddb-a41f72875c19\"}, {\"line\": {\"dash\": \"longdash\"}, \"name\": \"\\u53cd\\u9988\\u65f6\\u957fQ80(\\u738b\\u4f20\\u6587)\", \"x\": [\"8-1\", \"8-2\", \"8-3\", \"8-4\", \"8-5\", \"9-1\", \"9-2\", \"9-3\", \"9-4\", \"10-2\", \"10-3\", \"10-4\", \"10-5\", \"11-1\"], \"y\": [null, null, null, null, null, null, null, null, null, null, null, null, 14.27, 14.27], \"type\": \"scatter\", \"uid\": \"d74fae55-e702-11e8-8ddb-a41f72875c19\"}, {\"line\": {\"dash\": \"solid\"}, \"name\": \"\\u5e73\\u5747\\u53cd\\u9988\\u65f6\\u957f(\\u5c48\\u6602)\", \"x\": [\"8-1\", \"8-2\", \"8-3\", \"8-4\", \"8-5\", \"9-1\", \"9-2\", \"9-3\", \"9-4\", \"10-2\", \"10-3\", \"10-4\", \"10-5\", \"11-1\"], \"y\": [5.95, 4.49, 4.5, 5.37, 7.139294117647059, 9.77, 6.688, 3.6300000000000003, 2.73, 3.94, 8.766666666666667, null, 15.68, 13.455], \"type\": \"scatter\", \"uid\": \"d74fae56-e702-11e8-8ddb-a41f72875c19\"}, {\"line\": {\"dash\": \"dot\"}, \"name\": \"\\u5e73\\u5747\\u53cd\\u9988\\u65f6\\u957f(\\u9ad8\\u5251)\", \"x\": [\"8-1\", \"8-2\", \"8-3\", \"8-4\", \"8-5\", \"9-1\", \"9-2\", \"9-3\", \"9-4\", \"10-2\", \"10-3\", \"10-4\", \"10-5\", \"11-1\"], \"y\": [null, null, null, null, null, null, null, null, null, null, null, null, 0.895, 3.58], \"type\": \"scatter\", \"uid\": \"d74fae57-e702-11e8-8ddb-a41f72875c19\"}, {\"line\": {\"dash\": \"dash\"}, \"name\": \"\\u5e73\\u5747\\u53cd\\u9988\\u65f6\\u957f(\\u6c88\\u6069\\u60e0)\", \"x\": [\"8-1\", \"8-2\", \"8-3\", \"8-4\", \"8-5\", \"9-1\", \"9-2\", \"9-3\", \"9-4\", \"10-2\", \"10-3\", \"10-4\", \"10-5\", \"11-1\"], \"y\": [null, null, null, null, null, null, null, null, null, null, null, null, 2.194, 10.97], \"type\": \"scatter\", \"uid\": \"d74fae58-e702-11e8-8ddb-a41f72875c19\"}, {\"line\": {\"dash\": \"longdash\"}, \"name\": \"\\u5e73\\u5747\\u53cd\\u9988\\u65f6\\u957f(\\u8f66\\u5929\\u680b)\", \"x\": [\"8-1\", \"8-2\", \"8-3\", \"8-4\", \"8-5\", \"9-1\", \"9-2\", \"9-3\", \"9-4\", \"10-2\", \"10-3\", \"10-4\", \"10-5\", \"11-1\"], \"y\": [null, null, null, null, null, null, null, null, null, null, null, null, 4.08, 8.16], \"type\": \"scatter\", \"uid\": \"d74fae59-e702-11e8-8ddb-a41f72875c19\"}, {\"line\": {\"dash\": \"dashdot\"}, \"name\": \"\\u5e73\\u5747\\u53cd\\u9988\\u65f6\\u957f(\\u51b7\\u96ea)\", \"x\": [\"8-1\", \"8-2\", \"8-3\", \"8-4\", \"8-5\", \"9-1\", \"9-2\", \"9-3\", \"9-4\", \"10-2\", \"10-3\", \"10-4\", \"10-5\", \"11-1\"], \"y\": [7.090000000000001, 3.9827586206896552, 4.95, 3.38, 3.69, 9.81, 7.658947368421053, 3.6, 3.2600000000000002, 2.78, 4.016976744186047, 4.655182481751825, 3.381287878787879, 4.98515625], \"type\": \"scatter\", \"uid\": \"d74fae5a-e702-11e8-8ddb-a41f72875c19\"}, {\"line\": {\"dash\": \"longdashdot\"}, \"name\": \"\\u5e73\\u5747\\u53cd\\u9988\\u65f6\\u957f(\\u6c88\\u7acb\\u7fa4)\", \"x\": [\"8-1\", \"8-2\", \"8-3\", \"8-4\", \"8-5\", \"9-1\", \"9-2\", \"9-3\", \"9-4\", \"10-2\", \"10-3\", \"10-4\", \"10-5\", \"11-1\"], \"y\": [null, null, null, null, null, null, null, null, null, null, null, null, 1.7275, 6.91], \"type\": \"scatter\", \"uid\": \"d74fae5b-e702-11e8-8ddb-a41f72875c19\"}, {\"line\": {\"dash\": \"solid\"}, \"name\": \"\\u5e73\\u5747\\u53cd\\u9988\\u65f6\\u957f(\\u5362\\u6960)\", \"x\": [\"8-1\", \"8-2\", \"8-3\", \"8-4\", \"8-5\", \"9-1\", \"9-2\", \"9-3\", \"9-4\", \"10-2\", \"10-3\", \"10-4\", \"10-5\", \"11-1\"], \"y\": [5.77, 5.0, 8.6, 5.199999999999999, 1.7300000000000002, 7.2, 14.409999999999998, null, null, null, null, null, null, null], \"type\": \"scatter\", \"uid\": \"d74fae5c-e702-11e8-8ddb-a41f72875c19\"}, {\"line\": {\"dash\": \"dot\"}, \"name\": \"\\u5e73\\u5747\\u53cd\\u9988\\u65f6\\u957f(\\u6797\\u6587\\u6587)\", \"x\": [\"8-1\", \"8-2\", \"8-3\", \"8-4\", \"8-5\", \"9-1\", \"9-2\", \"9-3\", \"9-4\", \"10-2\", \"10-3\", \"10-4\", \"10-5\", \"11-1\"], \"y\": [null, null, null, null, null, null, null, null, null, null, null, null, 0.745, 4.47], \"type\": \"scatter\", \"uid\": \"d74fae5d-e702-11e8-8ddb-a41f72875c19\"}, {\"line\": {\"dash\": \"dash\"}, \"name\": \"\\u5e73\\u5747\\u53cd\\u9988\\u65f6\\u957f(\\u5f20\\u60a6)\", \"x\": [\"8-1\", \"8-2\", \"8-3\", \"8-4\", \"8-5\", \"9-1\", \"9-2\", \"9-3\", \"9-4\", \"10-2\", \"10-3\", \"10-4\", \"10-5\", \"11-1\"], \"y\": [14.51, 3.26, 18.68, 1.47, 2.7600000000000002, 5.22, null, null, null, null, null, null, null, null], \"type\": \"scatter\", \"uid\": \"d74fae5e-e702-11e8-8ddb-a41f72875c19\"}, {\"line\": {\"dash\": \"longdash\"}, \"name\": \"\\u5e73\\u5747\\u53cd\\u9988\\u65f6\\u957f(\\u738b\\u4f20\\u6587)\", \"x\": [\"8-1\", \"8-2\", \"8-3\", \"8-4\", \"8-5\", \"9-1\", \"9-2\", \"9-3\", \"9-4\", \"10-2\", \"10-3\", \"10-4\", \"10-5\", \"11-1\"], \"y\": [null, null, null, null, null, null, null, null, null, null, null, null, 1.688, 8.44], \"type\": \"scatter\", \"uid\": \"d74fae5f-e702-11e8-8ddb-a41f72875c19\"}], {\"title\": \"\\u53cd\\u9988\\u65f6\\u957fQ80&\\u5e73\\u5747\\u53cd\\u9988\\u65f6\\u957f\\u5468\\u8d8b\\u52bf\\u56fe\", \"xaxis\": {\"mirror\": \"all\", \"nticks\": 20, \"showgrid\": true, \"showline\": true, \"title\": \"\\u5468\", \"type\": \"category\", \"zeroline\": true}, \"yaxis\": {\"mirror\": \"all\", \"nticks\": 20, \"showgrid\": true, \"showline\": true, \"title\": \"\\u53cd\\u9988\\u65f6\\u957fQ80&\\u5e73\\u5747\\u53cd\\u9988\\u65f6\\u957f\", \"zeroline\": true}}, {\"showLink\": true, \"linkText\": \"Export to plot.ly\"})});</script>"
      ],
      "text/vnd.plotly.v1+html": [
       "<div id=\"a3d8a169-e408-4459-a043-6ae0b3ff2330\" style=\"height: 525px; width: 100%;\" class=\"plotly-graph-div\"></div><script type=\"text/javascript\">require([\"plotly\"], function(Plotly) { window.PLOTLYENV=window.PLOTLYENV || {};window.PLOTLYENV.BASE_URL=\"https://plot.ly\";Plotly.newPlot(\"a3d8a169-e408-4459-a043-6ae0b3ff2330\", [{\"line\": {\"dash\": \"solid\"}, \"name\": \"\\u53cd\\u9988\\u65f6\\u957fQ80(\\u5c48\\u6602)\", \"x\": [\"8-1\", \"8-2\", \"8-3\", \"8-4\", \"8-5\", \"9-1\", \"9-2\", \"9-3\", \"9-4\", \"10-2\", \"10-3\", \"10-4\", \"10-5\", \"11-1\"], \"y\": [5.79, 5.35, 5.31, 5.19, 11.12, 16.0, 9.89, 3.92, 2.71, 3.94, 10.47, 0.0, 15.68, 6.92], \"type\": \"scatter\", \"uid\": \"d74fae4c-e702-11e8-8ddb-a41f72875c19\"}, {\"line\": {\"dash\": \"dot\"}, \"name\": \"\\u53cd\\u9988\\u65f6\\u957fQ80(\\u9ad8\\u5251)\", \"x\": [\"8-1\", \"8-2\", \"8-3\", \"8-4\", \"8-5\", \"9-1\", \"9-2\", \"9-3\", \"9-4\", \"10-2\", \"10-3\", \"10-4\", \"10-5\", \"11-1\"], \"y\": [null, null, null, null, null, null, null, null, null, null, null, null, 4.66, 4.66], \"type\": \"scatter\", \"uid\": \"d74fae4d-e702-11e8-8ddb-a41f72875c19\"}, {\"line\": {\"dash\": \"dash\"}, \"name\": \"\\u53cd\\u9988\\u65f6\\u957fQ80(\\u6c88\\u6069\\u60e0)\", \"x\": [\"8-1\", \"8-2\", \"8-3\", \"8-4\", \"8-5\", \"9-1\", \"9-2\", \"9-3\", \"9-4\", \"10-2\", \"10-3\", \"10-4\", \"10-5\", \"11-1\"], \"y\": [null, null, null, null, null, null, null, null, null, null, null, null, 16.53, 16.53], \"type\": \"scatter\", \"uid\": \"d74fae4e-e702-11e8-8ddb-a41f72875c19\"}, {\"line\": {\"dash\": \"longdash\"}, \"name\": \"\\u53cd\\u9988\\u65f6\\u957fQ80(\\u8f66\\u5929\\u680b)\", \"x\": [\"8-1\", \"8-2\", \"8-3\", \"8-4\", \"8-5\", \"9-1\", \"9-2\", \"9-3\", \"9-4\", \"10-2\", \"10-3\", \"10-4\", \"10-5\", \"11-1\"], \"y\": [null, null, null, null, null, null, null, null, null, null, null, null, 8.32, 8.32], \"type\": \"scatter\", \"uid\": \"d74fae4f-e702-11e8-8ddb-a41f72875c19\"}, {\"line\": {\"dash\": \"dashdot\"}, \"name\": \"\\u53cd\\u9988\\u65f6\\u957fQ80(\\u51b7\\u96ea)\", \"x\": [\"8-1\", \"8-2\", \"8-3\", \"8-4\", \"8-5\", \"9-1\", \"9-2\", \"9-3\", \"9-4\", \"10-2\", \"10-3\", \"10-4\", \"10-5\", \"11-1\"], \"y\": [7.59, 4.66, 5.63, 3.23, 6.49, 13.99, 10.5, 3.83, 3.99, 4.0, 4.79, 6.28, 5.13, 6.52], \"type\": \"scatter\", \"uid\": \"d74fae50-e702-11e8-8ddb-a41f72875c19\"}, {\"line\": {\"dash\": \"longdashdot\"}, \"name\": \"\\u53cd\\u9988\\u65f6\\u957fQ80(\\u6c88\\u7acb\\u7fa4)\", \"x\": [\"8-1\", \"8-2\", \"8-3\", \"8-4\", \"8-5\", \"9-1\", \"9-2\", \"9-3\", \"9-4\", \"10-2\", \"10-3\", \"10-4\", \"10-5\", \"11-1\"], \"y\": [null, null, null, null, null, null, null, null, null, null, null, null, 9.69, 9.69], \"type\": \"scatter\", \"uid\": \"d74fae51-e702-11e8-8ddb-a41f72875c19\"}, {\"line\": {\"dash\": \"solid\"}, \"name\": \"\\u53cd\\u9988\\u65f6\\u957fQ80(\\u5362\\u6960)\", \"x\": [\"8-1\", \"8-2\", \"8-3\", \"8-4\", \"8-5\", \"9-1\", \"9-2\", \"9-3\", \"9-4\", \"10-2\", \"10-3\", \"10-4\", \"10-5\", \"11-1\"], \"y\": [7.58, 4.61, 18.53, 5.89, 1.85, 2.18, 15.12, null, null, null, null, null, null, null], \"type\": \"scatter\", \"uid\": \"d74fae52-e702-11e8-8ddb-a41f72875c19\"}, {\"line\": {\"dash\": \"dot\"}, \"name\": \"\\u53cd\\u9988\\u65f6\\u957fQ80(\\u6797\\u6587\\u6587)\", \"x\": [\"8-1\", \"8-2\", \"8-3\", \"8-4\", \"8-5\", \"9-1\", \"9-2\", \"9-3\", \"9-4\", \"10-2\", \"10-3\", \"10-4\", \"10-5\", \"11-1\"], \"y\": [null, null, null, null, null, null, null, null, null, null, null, null, 7.02, 7.02], \"type\": \"scatter\", \"uid\": \"d74fae53-e702-11e8-8ddb-a41f72875c19\"}, {\"line\": {\"dash\": \"dash\"}, \"name\": \"\\u53cd\\u9988\\u65f6\\u957fQ80(\\u5f20\\u60a6)\", \"x\": [\"8-1\", \"8-2\", \"8-3\", \"8-4\", \"8-5\", \"9-1\", \"9-2\", \"9-3\", \"9-4\", \"10-2\", \"10-3\", \"10-4\", \"10-5\", \"11-1\"], \"y\": [5.54, 2.28, 18.68, 1.47, 2.11, 3.31, null, null, null, null, null, null, null, null], \"type\": \"scatter\", \"uid\": \"d74fae54-e702-11e8-8ddb-a41f72875c19\"}, {\"line\": {\"dash\": \"longdash\"}, \"name\": \"\\u53cd\\u9988\\u65f6\\u957fQ80(\\u738b\\u4f20\\u6587)\", \"x\": [\"8-1\", \"8-2\", \"8-3\", \"8-4\", \"8-5\", \"9-1\", \"9-2\", \"9-3\", \"9-4\", \"10-2\", \"10-3\", \"10-4\", \"10-5\", \"11-1\"], \"y\": [null, null, null, null, null, null, null, null, null, null, null, null, 14.27, 14.27], \"type\": \"scatter\", \"uid\": \"d74fae55-e702-11e8-8ddb-a41f72875c19\"}, {\"line\": {\"dash\": \"solid\"}, \"name\": \"\\u5e73\\u5747\\u53cd\\u9988\\u65f6\\u957f(\\u5c48\\u6602)\", \"x\": [\"8-1\", \"8-2\", \"8-3\", \"8-4\", \"8-5\", \"9-1\", \"9-2\", \"9-3\", \"9-4\", \"10-2\", \"10-3\", \"10-4\", \"10-5\", \"11-1\"], \"y\": [5.95, 4.49, 4.5, 5.37, 7.139294117647059, 9.77, 6.688, 3.6300000000000003, 2.73, 3.94, 8.766666666666667, null, 15.68, 13.455], \"type\": \"scatter\", \"uid\": \"d74fae56-e702-11e8-8ddb-a41f72875c19\"}, {\"line\": {\"dash\": \"dot\"}, \"name\": \"\\u5e73\\u5747\\u53cd\\u9988\\u65f6\\u957f(\\u9ad8\\u5251)\", \"x\": [\"8-1\", \"8-2\", \"8-3\", \"8-4\", \"8-5\", \"9-1\", \"9-2\", \"9-3\", \"9-4\", \"10-2\", \"10-3\", \"10-4\", \"10-5\", \"11-1\"], \"y\": [null, null, null, null, null, null, null, null, null, null, null, null, 0.895, 3.58], \"type\": \"scatter\", \"uid\": \"d74fae57-e702-11e8-8ddb-a41f72875c19\"}, {\"line\": {\"dash\": \"dash\"}, \"name\": \"\\u5e73\\u5747\\u53cd\\u9988\\u65f6\\u957f(\\u6c88\\u6069\\u60e0)\", \"x\": [\"8-1\", \"8-2\", \"8-3\", \"8-4\", \"8-5\", \"9-1\", \"9-2\", \"9-3\", \"9-4\", \"10-2\", \"10-3\", \"10-4\", \"10-5\", \"11-1\"], \"y\": [null, null, null, null, null, null, null, null, null, null, null, null, 2.194, 10.97], \"type\": \"scatter\", \"uid\": \"d74fae58-e702-11e8-8ddb-a41f72875c19\"}, {\"line\": {\"dash\": \"longdash\"}, \"name\": \"\\u5e73\\u5747\\u53cd\\u9988\\u65f6\\u957f(\\u8f66\\u5929\\u680b)\", \"x\": [\"8-1\", \"8-2\", \"8-3\", \"8-4\", \"8-5\", \"9-1\", \"9-2\", \"9-3\", \"9-4\", \"10-2\", \"10-3\", \"10-4\", \"10-5\", \"11-1\"], \"y\": [null, null, null, null, null, null, null, null, null, null, null, null, 4.08, 8.16], \"type\": \"scatter\", \"uid\": \"d74fae59-e702-11e8-8ddb-a41f72875c19\"}, {\"line\": {\"dash\": \"dashdot\"}, \"name\": \"\\u5e73\\u5747\\u53cd\\u9988\\u65f6\\u957f(\\u51b7\\u96ea)\", \"x\": [\"8-1\", \"8-2\", \"8-3\", \"8-4\", \"8-5\", \"9-1\", \"9-2\", \"9-3\", \"9-4\", \"10-2\", \"10-3\", \"10-4\", \"10-5\", \"11-1\"], \"y\": [7.090000000000001, 3.9827586206896552, 4.95, 3.38, 3.69, 9.81, 7.658947368421053, 3.6, 3.2600000000000002, 2.78, 4.016976744186047, 4.655182481751825, 3.381287878787879, 4.98515625], \"type\": \"scatter\", \"uid\": \"d74fae5a-e702-11e8-8ddb-a41f72875c19\"}, {\"line\": {\"dash\": \"longdashdot\"}, \"name\": \"\\u5e73\\u5747\\u53cd\\u9988\\u65f6\\u957f(\\u6c88\\u7acb\\u7fa4)\", \"x\": [\"8-1\", \"8-2\", \"8-3\", \"8-4\", \"8-5\", \"9-1\", \"9-2\", \"9-3\", \"9-4\", \"10-2\", \"10-3\", \"10-4\", \"10-5\", \"11-1\"], \"y\": [null, null, null, null, null, null, null, null, null, null, null, null, 1.7275, 6.91], \"type\": \"scatter\", \"uid\": \"d74fae5b-e702-11e8-8ddb-a41f72875c19\"}, {\"line\": {\"dash\": \"solid\"}, \"name\": \"\\u5e73\\u5747\\u53cd\\u9988\\u65f6\\u957f(\\u5362\\u6960)\", \"x\": [\"8-1\", \"8-2\", \"8-3\", \"8-4\", \"8-5\", \"9-1\", \"9-2\", \"9-3\", \"9-4\", \"10-2\", \"10-3\", \"10-4\", \"10-5\", \"11-1\"], \"y\": [5.77, 5.0, 8.6, 5.199999999999999, 1.7300000000000002, 7.2, 14.409999999999998, null, null, null, null, null, null, null], \"type\": \"scatter\", \"uid\": \"d74fae5c-e702-11e8-8ddb-a41f72875c19\"}, {\"line\": {\"dash\": \"dot\"}, \"name\": \"\\u5e73\\u5747\\u53cd\\u9988\\u65f6\\u957f(\\u6797\\u6587\\u6587)\", \"x\": [\"8-1\", \"8-2\", \"8-3\", \"8-4\", \"8-5\", \"9-1\", \"9-2\", \"9-3\", \"9-4\", \"10-2\", \"10-3\", \"10-4\", \"10-5\", \"11-1\"], \"y\": [null, null, null, null, null, null, null, null, null, null, null, null, 0.745, 4.47], \"type\": \"scatter\", \"uid\": \"d74fae5d-e702-11e8-8ddb-a41f72875c19\"}, {\"line\": {\"dash\": \"dash\"}, \"name\": \"\\u5e73\\u5747\\u53cd\\u9988\\u65f6\\u957f(\\u5f20\\u60a6)\", \"x\": [\"8-1\", \"8-2\", \"8-3\", \"8-4\", \"8-5\", \"9-1\", \"9-2\", \"9-3\", \"9-4\", \"10-2\", \"10-3\", \"10-4\", \"10-5\", \"11-1\"], \"y\": [14.51, 3.26, 18.68, 1.47, 2.7600000000000002, 5.22, null, null, null, null, null, null, null, null], \"type\": \"scatter\", \"uid\": \"d74fae5e-e702-11e8-8ddb-a41f72875c19\"}, {\"line\": {\"dash\": \"longdash\"}, \"name\": \"\\u5e73\\u5747\\u53cd\\u9988\\u65f6\\u957f(\\u738b\\u4f20\\u6587)\", \"x\": [\"8-1\", \"8-2\", \"8-3\", \"8-4\", \"8-5\", \"9-1\", \"9-2\", \"9-3\", \"9-4\", \"10-2\", \"10-3\", \"10-4\", \"10-5\", \"11-1\"], \"y\": [null, null, null, null, null, null, null, null, null, null, null, null, 1.688, 8.44], \"type\": \"scatter\", \"uid\": \"d74fae5f-e702-11e8-8ddb-a41f72875c19\"}], {\"title\": \"\\u53cd\\u9988\\u65f6\\u957fQ80&\\u5e73\\u5747\\u53cd\\u9988\\u65f6\\u957f\\u5468\\u8d8b\\u52bf\\u56fe\", \"xaxis\": {\"mirror\": \"all\", \"nticks\": 20, \"showgrid\": true, \"showline\": true, \"title\": \"\\u5468\", \"type\": \"category\", \"zeroline\": true}, \"yaxis\": {\"mirror\": \"all\", \"nticks\": 20, \"showgrid\": true, \"showline\": true, \"title\": \"\\u53cd\\u9988\\u65f6\\u957fQ80&\\u5e73\\u5747\\u53cd\\u9988\\u65f6\\u957f\", \"zeroline\": true}}, {\"showLink\": true, \"linkText\": \"Export to plot.ly\"})});</script>"
      ]
     },
     "metadata": {},
     "output_type": "display_data"
    },
    {
     "data": {
      "application/vnd.plotly.v1+json": {
       "data": [
        {
         "line": {
          "dash": "solid"
         },
         "name": "反馈时长Q80(屈昂)",
         "type": "scatter",
         "uid": "d74fae60-e702-11e8-8ddb-a41f72875c19",
         "x": [
          8,
          9,
          10,
          11
         ],
         "y": [
          32.76,
          32.52,
          30.090000000000003,
          6.92
         ]
        },
        {
         "line": {
          "dash": "dot"
         },
         "name": "反馈时长Q80(高剑)",
         "type": "scatter",
         "uid": "d74fae61-e702-11e8-8ddb-a41f72875c19",
         "x": [
          8,
          9,
          10,
          11
         ],
         "y": [
          null,
          null,
          4.66,
          4.66
         ]
        },
        {
         "line": {
          "dash": "dash"
         },
         "name": "反馈时长Q80(沈恩惠)",
         "type": "scatter",
         "uid": "d74fae62-e702-11e8-8ddb-a41f72875c19",
         "x": [
          8,
          9,
          10,
          11
         ],
         "y": [
          null,
          null,
          16.53,
          16.53
         ]
        },
        {
         "line": {
          "dash": "longdash"
         },
         "name": "反馈时长Q80(车天栋)",
         "type": "scatter",
         "uid": "d74fae63-e702-11e8-8ddb-a41f72875c19",
         "x": [
          8,
          9,
          10,
          11
         ],
         "y": [
          null,
          null,
          8.32,
          8.32
         ]
        },
        {
         "line": {
          "dash": "dashdot"
         },
         "name": "反馈时长Q80(冷雪)",
         "type": "scatter",
         "uid": "d74fae64-e702-11e8-8ddb-a41f72875c19",
         "x": [
          8,
          9,
          10,
          11
         ],
         "y": [
          27.599999999999998,
          32.31,
          20.2,
          6.52
         ]
        },
        {
         "line": {
          "dash": "longdashdot"
         },
         "name": "反馈时长Q80(沈立群)",
         "type": "scatter",
         "uid": "d74fae65-e702-11e8-8ddb-a41f72875c19",
         "x": [
          8,
          9,
          10,
          11
         ],
         "y": [
          null,
          null,
          9.69,
          9.69
         ]
        },
        {
         "line": {
          "dash": "solid"
         },
         "name": "反馈时长Q80(卢楠)",
         "type": "scatter",
         "uid": "d74fae66-e702-11e8-8ddb-a41f72875c19",
         "x": [
          8,
          9,
          10,
          11
         ],
         "y": [
          38.46,
          17.3,
          null,
          null
         ]
        },
        {
         "line": {
          "dash": "dot"
         },
         "name": "反馈时长Q80(林文文)",
         "type": "scatter",
         "uid": "d74fae67-e702-11e8-8ddb-a41f72875c19",
         "x": [
          8,
          9,
          10,
          11
         ],
         "y": [
          null,
          null,
          7.02,
          7.02
         ]
        },
        {
         "line": {
          "dash": "dash"
         },
         "name": "反馈时长Q80(张悦)",
         "type": "scatter",
         "uid": "d74fae68-e702-11e8-8ddb-a41f72875c19",
         "x": [
          8,
          9,
          10,
          11
         ],
         "y": [
          30.08,
          3.31,
          null,
          null
         ]
        },
        {
         "line": {
          "dash": "longdash"
         },
         "name": "反馈时长Q80(王传文)",
         "type": "scatter",
         "uid": "d74fae69-e702-11e8-8ddb-a41f72875c19",
         "x": [
          8,
          9,
          10,
          11
         ],
         "y": [
          null,
          null,
          14.27,
          14.27
         ]
        },
        {
         "line": {
          "dash": "solid"
         },
         "name": "平均反馈时长(屈昂)",
         "type": "scatter",
         "uid": "d74fae6a-e702-11e8-8ddb-a41f72875c19",
         "x": [
          8,
          9,
          10,
          11
         ],
         "y": [
          5.482354430379746,
          7.993348623853212,
          9.184000000000001,
          13.455
         ]
        },
        {
         "line": {
          "dash": "dot"
         },
         "name": "平均反馈时长(高剑)",
         "type": "scatter",
         "uid": "d74fae6b-e702-11e8-8ddb-a41f72875c19",
         "x": [
          8,
          9,
          10,
          11
         ],
         "y": [
          null,
          null,
          0.895,
          3.58
         ]
        },
        {
         "line": {
          "dash": "dash"
         },
         "name": "平均反馈时长(沈恩惠)",
         "type": "scatter",
         "uid": "d74fae6c-e702-11e8-8ddb-a41f72875c19",
         "x": [
          8,
          9,
          10,
          11
         ],
         "y": [
          null,
          null,
          2.194,
          10.97
         ]
        },
        {
         "line": {
          "dash": "longdash"
         },
         "name": "平均反馈时长(车天栋)",
         "type": "scatter",
         "uid": "d74fae6d-e702-11e8-8ddb-a41f72875c19",
         "x": [
          8,
          9,
          10,
          11
         ],
         "y": [
          null,
          null,
          4.08,
          8.16
         ]
        },
        {
         "line": {
          "dash": "dashdot"
         },
         "name": "平均反馈时长(冷雪)",
         "type": "scatter",
         "uid": "d74fae6e-e702-11e8-8ddb-a41f72875c19",
         "x": [
          8,
          9,
          10,
          11
         ],
         "y": [
          4.821589743589744,
          5.106372549019608,
          3.8417558886509635,
          4.98515625
         ]
        },
        {
         "line": {
          "dash": "longdashdot"
         },
         "name": "平均反馈时长(沈立群)",
         "type": "scatter",
         "uid": "d74fae6f-e702-11e8-8ddb-a41f72875c19",
         "x": [
          8,
          9,
          10,
          11
         ],
         "y": [
          null,
          null,
          1.7275,
          6.91
         ]
        },
        {
         "line": {
          "dash": "solid"
         },
         "name": "平均反馈时长(卢楠)",
         "type": "scatter",
         "uid": "d74fae70-e702-11e8-8ddb-a41f72875c19",
         "x": [
          8,
          9,
          10,
          11
         ],
         "y": [
          5.846803278688524,
          11.526,
          null,
          null
         ]
        },
        {
         "line": {
          "dash": "dot"
         },
         "name": "平均反馈时长(林文文)",
         "type": "scatter",
         "uid": "d74fae71-e702-11e8-8ddb-a41f72875c19",
         "x": [
          8,
          9,
          10,
          11
         ],
         "y": [
          null,
          null,
          0.745,
          4.47
         ]
        },
        {
         "line": {
          "dash": "dash"
         },
         "name": "平均反馈时长(张悦)",
         "type": "scatter",
         "uid": "d74fae72-e702-11e8-8ddb-a41f72875c19",
         "x": [
          8,
          9,
          10,
          11
         ],
         "y": [
          5.7700000000000005,
          5.22,
          null,
          null
         ]
        },
        {
         "line": {
          "dash": "longdash"
         },
         "name": "平均反馈时长(王传文)",
         "type": "scatter",
         "uid": "d74fae73-e702-11e8-8ddb-a41f72875c19",
         "x": [
          8,
          9,
          10,
          11
         ],
         "y": [
          null,
          null,
          1.688,
          8.44
         ]
        }
       ],
       "layout": {
        "title": "反馈时长Q80&平均反馈时长月趋势图",
        "xaxis": {
         "mirror": "all",
         "nticks": 20,
         "showgrid": true,
         "showline": true,
         "title": "月",
         "type": "category",
         "zeroline": true
        },
        "yaxis": {
         "mirror": "all",
         "nticks": 20,
         "showgrid": true,
         "showline": true,
         "title": "反馈时长Q80&平均反馈时长",
         "zeroline": true
        }
       }
      },
      "text/html": [
       "<div id=\"021fd44e-64fe-46f5-ba53-1b30dbaa2c9b\" style=\"height: 525px; width: 100%;\" class=\"plotly-graph-div\"></div><script type=\"text/javascript\">require([\"plotly\"], function(Plotly) { window.PLOTLYENV=window.PLOTLYENV || {};window.PLOTLYENV.BASE_URL=\"https://plot.ly\";Plotly.newPlot(\"021fd44e-64fe-46f5-ba53-1b30dbaa2c9b\", [{\"line\": {\"dash\": \"solid\"}, \"name\": \"\\u53cd\\u9988\\u65f6\\u957fQ80(\\u5c48\\u6602)\", \"x\": [8, 9, 10, 11], \"y\": [32.76, 32.52, 30.090000000000003, 6.92], \"type\": \"scatter\", \"uid\": \"d74fae60-e702-11e8-8ddb-a41f72875c19\"}, {\"line\": {\"dash\": \"dot\"}, \"name\": \"\\u53cd\\u9988\\u65f6\\u957fQ80(\\u9ad8\\u5251)\", \"x\": [8, 9, 10, 11], \"y\": [null, null, 4.66, 4.66], \"type\": \"scatter\", \"uid\": \"d74fae61-e702-11e8-8ddb-a41f72875c19\"}, {\"line\": {\"dash\": \"dash\"}, \"name\": \"\\u53cd\\u9988\\u65f6\\u957fQ80(\\u6c88\\u6069\\u60e0)\", \"x\": [8, 9, 10, 11], \"y\": [null, null, 16.53, 16.53], \"type\": \"scatter\", \"uid\": \"d74fae62-e702-11e8-8ddb-a41f72875c19\"}, {\"line\": {\"dash\": \"longdash\"}, \"name\": \"\\u53cd\\u9988\\u65f6\\u957fQ80(\\u8f66\\u5929\\u680b)\", \"x\": [8, 9, 10, 11], \"y\": [null, null, 8.32, 8.32], \"type\": \"scatter\", \"uid\": \"d74fae63-e702-11e8-8ddb-a41f72875c19\"}, {\"line\": {\"dash\": \"dashdot\"}, \"name\": \"\\u53cd\\u9988\\u65f6\\u957fQ80(\\u51b7\\u96ea)\", \"x\": [8, 9, 10, 11], \"y\": [27.599999999999998, 32.31, 20.2, 6.52], \"type\": \"scatter\", \"uid\": \"d74fae64-e702-11e8-8ddb-a41f72875c19\"}, {\"line\": {\"dash\": \"longdashdot\"}, \"name\": \"\\u53cd\\u9988\\u65f6\\u957fQ80(\\u6c88\\u7acb\\u7fa4)\", \"x\": [8, 9, 10, 11], \"y\": [null, null, 9.69, 9.69], \"type\": \"scatter\", \"uid\": \"d74fae65-e702-11e8-8ddb-a41f72875c19\"}, {\"line\": {\"dash\": \"solid\"}, \"name\": \"\\u53cd\\u9988\\u65f6\\u957fQ80(\\u5362\\u6960)\", \"x\": [8, 9, 10, 11], \"y\": [38.46, 17.3, null, null], \"type\": \"scatter\", \"uid\": \"d74fae66-e702-11e8-8ddb-a41f72875c19\"}, {\"line\": {\"dash\": \"dot\"}, \"name\": \"\\u53cd\\u9988\\u65f6\\u957fQ80(\\u6797\\u6587\\u6587)\", \"x\": [8, 9, 10, 11], \"y\": [null, null, 7.02, 7.02], \"type\": \"scatter\", \"uid\": \"d74fae67-e702-11e8-8ddb-a41f72875c19\"}, {\"line\": {\"dash\": \"dash\"}, \"name\": \"\\u53cd\\u9988\\u65f6\\u957fQ80(\\u5f20\\u60a6)\", \"x\": [8, 9, 10, 11], \"y\": [30.08, 3.31, null, null], \"type\": \"scatter\", \"uid\": \"d74fae68-e702-11e8-8ddb-a41f72875c19\"}, {\"line\": {\"dash\": \"longdash\"}, \"name\": \"\\u53cd\\u9988\\u65f6\\u957fQ80(\\u738b\\u4f20\\u6587)\", \"x\": [8, 9, 10, 11], \"y\": [null, null, 14.27, 14.27], \"type\": \"scatter\", \"uid\": \"d74fae69-e702-11e8-8ddb-a41f72875c19\"}, {\"line\": {\"dash\": \"solid\"}, \"name\": \"\\u5e73\\u5747\\u53cd\\u9988\\u65f6\\u957f(\\u5c48\\u6602)\", \"x\": [8, 9, 10, 11], \"y\": [5.482354430379746, 7.993348623853212, 9.184000000000001, 13.455], \"type\": \"scatter\", \"uid\": \"d74fae6a-e702-11e8-8ddb-a41f72875c19\"}, {\"line\": {\"dash\": \"dot\"}, \"name\": \"\\u5e73\\u5747\\u53cd\\u9988\\u65f6\\u957f(\\u9ad8\\u5251)\", \"x\": [8, 9, 10, 11], \"y\": [null, null, 0.895, 3.58], \"type\": \"scatter\", \"uid\": \"d74fae6b-e702-11e8-8ddb-a41f72875c19\"}, {\"line\": {\"dash\": \"dash\"}, \"name\": \"\\u5e73\\u5747\\u53cd\\u9988\\u65f6\\u957f(\\u6c88\\u6069\\u60e0)\", \"x\": [8, 9, 10, 11], \"y\": [null, null, 2.194, 10.97], \"type\": \"scatter\", \"uid\": \"d74fae6c-e702-11e8-8ddb-a41f72875c19\"}, {\"line\": {\"dash\": \"longdash\"}, \"name\": \"\\u5e73\\u5747\\u53cd\\u9988\\u65f6\\u957f(\\u8f66\\u5929\\u680b)\", \"x\": [8, 9, 10, 11], \"y\": [null, null, 4.08, 8.16], \"type\": \"scatter\", \"uid\": \"d74fae6d-e702-11e8-8ddb-a41f72875c19\"}, {\"line\": {\"dash\": \"dashdot\"}, \"name\": \"\\u5e73\\u5747\\u53cd\\u9988\\u65f6\\u957f(\\u51b7\\u96ea)\", \"x\": [8, 9, 10, 11], \"y\": [4.821589743589744, 5.106372549019608, 3.8417558886509635, 4.98515625], \"type\": \"scatter\", \"uid\": \"d74fae6e-e702-11e8-8ddb-a41f72875c19\"}, {\"line\": {\"dash\": \"longdashdot\"}, \"name\": \"\\u5e73\\u5747\\u53cd\\u9988\\u65f6\\u957f(\\u6c88\\u7acb\\u7fa4)\", \"x\": [8, 9, 10, 11], \"y\": [null, null, 1.7275, 6.91], \"type\": \"scatter\", \"uid\": \"d74fae6f-e702-11e8-8ddb-a41f72875c19\"}, {\"line\": {\"dash\": \"solid\"}, \"name\": \"\\u5e73\\u5747\\u53cd\\u9988\\u65f6\\u957f(\\u5362\\u6960)\", \"x\": [8, 9, 10, 11], \"y\": [5.846803278688524, 11.526, null, null], \"type\": \"scatter\", \"uid\": \"d74fae70-e702-11e8-8ddb-a41f72875c19\"}, {\"line\": {\"dash\": \"dot\"}, \"name\": \"\\u5e73\\u5747\\u53cd\\u9988\\u65f6\\u957f(\\u6797\\u6587\\u6587)\", \"x\": [8, 9, 10, 11], \"y\": [null, null, 0.745, 4.47], \"type\": \"scatter\", \"uid\": \"d74fae71-e702-11e8-8ddb-a41f72875c19\"}, {\"line\": {\"dash\": \"dash\"}, \"name\": \"\\u5e73\\u5747\\u53cd\\u9988\\u65f6\\u957f(\\u5f20\\u60a6)\", \"x\": [8, 9, 10, 11], \"y\": [5.7700000000000005, 5.22, null, null], \"type\": \"scatter\", \"uid\": \"d74fae72-e702-11e8-8ddb-a41f72875c19\"}, {\"line\": {\"dash\": \"longdash\"}, \"name\": \"\\u5e73\\u5747\\u53cd\\u9988\\u65f6\\u957f(\\u738b\\u4f20\\u6587)\", \"x\": [8, 9, 10, 11], \"y\": [null, null, 1.688, 8.44], \"type\": \"scatter\", \"uid\": \"d74fae73-e702-11e8-8ddb-a41f72875c19\"}], {\"title\": \"\\u53cd\\u9988\\u65f6\\u957fQ80&\\u5e73\\u5747\\u53cd\\u9988\\u65f6\\u957f\\u6708\\u8d8b\\u52bf\\u56fe\", \"xaxis\": {\"mirror\": \"all\", \"nticks\": 20, \"showgrid\": true, \"showline\": true, \"title\": \"\\u6708\", \"type\": \"category\", \"zeroline\": true}, \"yaxis\": {\"mirror\": \"all\", \"nticks\": 20, \"showgrid\": true, \"showline\": true, \"title\": \"\\u53cd\\u9988\\u65f6\\u957fQ80&\\u5e73\\u5747\\u53cd\\u9988\\u65f6\\u957f\", \"zeroline\": true}}, {\"showLink\": true, \"linkText\": \"Export to plot.ly\"})});</script>"
      ],
      "text/vnd.plotly.v1+html": [
       "<div id=\"021fd44e-64fe-46f5-ba53-1b30dbaa2c9b\" style=\"height: 525px; width: 100%;\" class=\"plotly-graph-div\"></div><script type=\"text/javascript\">require([\"plotly\"], function(Plotly) { window.PLOTLYENV=window.PLOTLYENV || {};window.PLOTLYENV.BASE_URL=\"https://plot.ly\";Plotly.newPlot(\"021fd44e-64fe-46f5-ba53-1b30dbaa2c9b\", [{\"line\": {\"dash\": \"solid\"}, \"name\": \"\\u53cd\\u9988\\u65f6\\u957fQ80(\\u5c48\\u6602)\", \"x\": [8, 9, 10, 11], \"y\": [32.76, 32.52, 30.090000000000003, 6.92], \"type\": \"scatter\", \"uid\": \"d74fae60-e702-11e8-8ddb-a41f72875c19\"}, {\"line\": {\"dash\": \"dot\"}, \"name\": \"\\u53cd\\u9988\\u65f6\\u957fQ80(\\u9ad8\\u5251)\", \"x\": [8, 9, 10, 11], \"y\": [null, null, 4.66, 4.66], \"type\": \"scatter\", \"uid\": \"d74fae61-e702-11e8-8ddb-a41f72875c19\"}, {\"line\": {\"dash\": \"dash\"}, \"name\": \"\\u53cd\\u9988\\u65f6\\u957fQ80(\\u6c88\\u6069\\u60e0)\", \"x\": [8, 9, 10, 11], \"y\": [null, null, 16.53, 16.53], \"type\": \"scatter\", \"uid\": \"d74fae62-e702-11e8-8ddb-a41f72875c19\"}, {\"line\": {\"dash\": \"longdash\"}, \"name\": \"\\u53cd\\u9988\\u65f6\\u957fQ80(\\u8f66\\u5929\\u680b)\", \"x\": [8, 9, 10, 11], \"y\": [null, null, 8.32, 8.32], \"type\": \"scatter\", \"uid\": \"d74fae63-e702-11e8-8ddb-a41f72875c19\"}, {\"line\": {\"dash\": \"dashdot\"}, \"name\": \"\\u53cd\\u9988\\u65f6\\u957fQ80(\\u51b7\\u96ea)\", \"x\": [8, 9, 10, 11], \"y\": [27.599999999999998, 32.31, 20.2, 6.52], \"type\": \"scatter\", \"uid\": \"d74fae64-e702-11e8-8ddb-a41f72875c19\"}, {\"line\": {\"dash\": \"longdashdot\"}, \"name\": \"\\u53cd\\u9988\\u65f6\\u957fQ80(\\u6c88\\u7acb\\u7fa4)\", \"x\": [8, 9, 10, 11], \"y\": [null, null, 9.69, 9.69], \"type\": \"scatter\", \"uid\": \"d74fae65-e702-11e8-8ddb-a41f72875c19\"}, {\"line\": {\"dash\": \"solid\"}, \"name\": \"\\u53cd\\u9988\\u65f6\\u957fQ80(\\u5362\\u6960)\", \"x\": [8, 9, 10, 11], \"y\": [38.46, 17.3, null, null], \"type\": \"scatter\", \"uid\": \"d74fae66-e702-11e8-8ddb-a41f72875c19\"}, {\"line\": {\"dash\": \"dot\"}, \"name\": \"\\u53cd\\u9988\\u65f6\\u957fQ80(\\u6797\\u6587\\u6587)\", \"x\": [8, 9, 10, 11], \"y\": [null, null, 7.02, 7.02], \"type\": \"scatter\", \"uid\": \"d74fae67-e702-11e8-8ddb-a41f72875c19\"}, {\"line\": {\"dash\": \"dash\"}, \"name\": \"\\u53cd\\u9988\\u65f6\\u957fQ80(\\u5f20\\u60a6)\", \"x\": [8, 9, 10, 11], \"y\": [30.08, 3.31, null, null], \"type\": \"scatter\", \"uid\": \"d74fae68-e702-11e8-8ddb-a41f72875c19\"}, {\"line\": {\"dash\": \"longdash\"}, \"name\": \"\\u53cd\\u9988\\u65f6\\u957fQ80(\\u738b\\u4f20\\u6587)\", \"x\": [8, 9, 10, 11], \"y\": [null, null, 14.27, 14.27], \"type\": \"scatter\", \"uid\": \"d74fae69-e702-11e8-8ddb-a41f72875c19\"}, {\"line\": {\"dash\": \"solid\"}, \"name\": \"\\u5e73\\u5747\\u53cd\\u9988\\u65f6\\u957f(\\u5c48\\u6602)\", \"x\": [8, 9, 10, 11], \"y\": [5.482354430379746, 7.993348623853212, 9.184000000000001, 13.455], \"type\": \"scatter\", \"uid\": \"d74fae6a-e702-11e8-8ddb-a41f72875c19\"}, {\"line\": {\"dash\": \"dot\"}, \"name\": \"\\u5e73\\u5747\\u53cd\\u9988\\u65f6\\u957f(\\u9ad8\\u5251)\", \"x\": [8, 9, 10, 11], \"y\": [null, null, 0.895, 3.58], \"type\": \"scatter\", \"uid\": \"d74fae6b-e702-11e8-8ddb-a41f72875c19\"}, {\"line\": {\"dash\": \"dash\"}, \"name\": \"\\u5e73\\u5747\\u53cd\\u9988\\u65f6\\u957f(\\u6c88\\u6069\\u60e0)\", \"x\": [8, 9, 10, 11], \"y\": [null, null, 2.194, 10.97], \"type\": \"scatter\", \"uid\": \"d74fae6c-e702-11e8-8ddb-a41f72875c19\"}, {\"line\": {\"dash\": \"longdash\"}, \"name\": \"\\u5e73\\u5747\\u53cd\\u9988\\u65f6\\u957f(\\u8f66\\u5929\\u680b)\", \"x\": [8, 9, 10, 11], \"y\": [null, null, 4.08, 8.16], \"type\": \"scatter\", \"uid\": \"d74fae6d-e702-11e8-8ddb-a41f72875c19\"}, {\"line\": {\"dash\": \"dashdot\"}, \"name\": \"\\u5e73\\u5747\\u53cd\\u9988\\u65f6\\u957f(\\u51b7\\u96ea)\", \"x\": [8, 9, 10, 11], \"y\": [4.821589743589744, 5.106372549019608, 3.8417558886509635, 4.98515625], \"type\": \"scatter\", \"uid\": \"d74fae6e-e702-11e8-8ddb-a41f72875c19\"}, {\"line\": {\"dash\": \"longdashdot\"}, \"name\": \"\\u5e73\\u5747\\u53cd\\u9988\\u65f6\\u957f(\\u6c88\\u7acb\\u7fa4)\", \"x\": [8, 9, 10, 11], \"y\": [null, null, 1.7275, 6.91], \"type\": \"scatter\", \"uid\": \"d74fae6f-e702-11e8-8ddb-a41f72875c19\"}, {\"line\": {\"dash\": \"solid\"}, \"name\": \"\\u5e73\\u5747\\u53cd\\u9988\\u65f6\\u957f(\\u5362\\u6960)\", \"x\": [8, 9, 10, 11], \"y\": [5.846803278688524, 11.526, null, null], \"type\": \"scatter\", \"uid\": \"d74fae70-e702-11e8-8ddb-a41f72875c19\"}, {\"line\": {\"dash\": \"dot\"}, \"name\": \"\\u5e73\\u5747\\u53cd\\u9988\\u65f6\\u957f(\\u6797\\u6587\\u6587)\", \"x\": [8, 9, 10, 11], \"y\": [null, null, 0.745, 4.47], \"type\": \"scatter\", \"uid\": \"d74fae71-e702-11e8-8ddb-a41f72875c19\"}, {\"line\": {\"dash\": \"dash\"}, \"name\": \"\\u5e73\\u5747\\u53cd\\u9988\\u65f6\\u957f(\\u5f20\\u60a6)\", \"x\": [8, 9, 10, 11], \"y\": [5.7700000000000005, 5.22, null, null], \"type\": \"scatter\", \"uid\": \"d74fae72-e702-11e8-8ddb-a41f72875c19\"}, {\"line\": {\"dash\": \"longdash\"}, \"name\": \"\\u5e73\\u5747\\u53cd\\u9988\\u65f6\\u957f(\\u738b\\u4f20\\u6587)\", \"x\": [8, 9, 10, 11], \"y\": [null, null, 1.688, 8.44], \"type\": \"scatter\", \"uid\": \"d74fae73-e702-11e8-8ddb-a41f72875c19\"}], {\"title\": \"\\u53cd\\u9988\\u65f6\\u957fQ80&\\u5e73\\u5747\\u53cd\\u9988\\u65f6\\u957f\\u6708\\u8d8b\\u52bf\\u56fe\", \"xaxis\": {\"mirror\": \"all\", \"nticks\": 20, \"showgrid\": true, \"showline\": true, \"title\": \"\\u6708\", \"type\": \"category\", \"zeroline\": true}, \"yaxis\": {\"mirror\": \"all\", \"nticks\": 20, \"showgrid\": true, \"showline\": true, \"title\": \"\\u53cd\\u9988\\u65f6\\u957fQ80&\\u5e73\\u5747\\u53cd\\u9988\\u65f6\\u957f\", \"zeroline\": true}}, {\"showLink\": true, \"linkText\": \"Export to plot.ly\"})});</script>"
      ]
     },
     "metadata": {},
     "output_type": "display_data"
    }
   ],
   "source": [
    "ss = myModule.format(all_df1 ,\"日期（格式“月-周次”）\" ,['反馈总时长','下机批次数','反馈时长Q80'])\n",
    "ss.add_group('人员')\n",
    "tt = ss.get_total_ratio([['平均反馈时长','反馈总时长','下机批次数','/']] , ['反馈时长Q80'])\n",
    "myModule.myPlot(myModule.sort_by_index(tt)).plot('line')\n",
    "\n",
    "ss = myModule.format(all_df1 ,\"month\" ,['反馈总时长','下机批次数','反馈时长Q80'])\n",
    "ss.add_group('人员')\n",
    "tt = ss.get_total_ratio([['平均反馈时长','反馈总时长','下机批次数','/']] , ['反馈时长Q80'])\n",
    "myModule.myPlot(tt).plot('line','月')"
   ]
  },
  {
   "cell_type": "code",
   "execution_count": null,
   "metadata": {
    "collapsed": true
   },
   "outputs": [],
   "source": []
  }
 ],
 "metadata": {
  "celltoolbar": "Raw Cell Format",
  "hide_input": true,
  "kernelspec": {
   "display_name": "Python 3",
   "language": "python",
   "name": "python3"
  },
  "language_info": {
   "codemirror_mode": {
    "name": "ipython",
    "version": 3
   },
   "file_extension": ".py",
   "mimetype": "text/x-python",
   "name": "python",
   "nbconvert_exporter": "python",
   "pygments_lexer": "ipython3",
   "version": "3.6.0"
  },
  "toc": {
   "base_numbering": 1,
   "nav_menu": {},
   "number_sections": true,
   "sideBar": true,
   "skip_h1_title": false,
   "title_cell": "Table of Contents",
   "title_sidebar": "Contents",
   "toc_cell": false,
   "toc_position": {
    "height": "513.333px",
    "left": "419px",
    "top": "110.926px",
    "width": "225px"
   },
   "toc_section_display": true,
   "toc_window_display": true
  }
 },
 "nbformat": 4,
 "nbformat_minor": 2
}
