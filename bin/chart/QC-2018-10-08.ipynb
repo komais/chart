{
 "cells": [
  {
   "cell_type": "code",
   "execution_count": 1,
   "metadata": {
    "collapsed": false,
    "hide_input": false
   },
   "outputs": [
    {
     "data": {
      "text/html": [
       "<script>requirejs.config({paths: { 'plotly': ['https://cdn.plot.ly/plotly-latest.min']},});if(!window.Plotly) {{require(['plotly'],function(plotly) {window.Plotly=plotly;});}}</script>"
      ],
      "text/vnd.plotly.v1+html": [
       "<script>requirejs.config({paths: { 'plotly': ['https://cdn.plot.ly/plotly-latest.min']},});if(!window.Plotly) {{require(['plotly'],function(plotly) {window.Plotly=plotly;});}}</script>"
      ]
     },
     "metadata": {},
     "output_type": "display_data"
    }
   ],
   "source": [
    "%load_ext autoreload\n",
    "%autoreload 2\n",
    "import sys\n",
    "sys.path.append('./')\n",
    "import myModule\n",
    "import pandas as pd "
   ]
  },
  {
   "cell_type": "code",
   "execution_count": 2,
   "metadata": {
    "collapsed": false
   },
   "outputs": [
    {
     "data": {
      "text/html": [
       "<script>requirejs.config({paths: { 'plotly': ['https://cdn.plot.ly/plotly-latest.min']},});if(!window.Plotly) {{require(['plotly'],function(plotly) {window.Plotly=plotly;});}}</script>"
      ],
      "text/vnd.plotly.v1+html": [
       "<script>requirejs.config({paths: { 'plotly': ['https://cdn.plot.ly/plotly-latest.min']},});if(!window.Plotly) {{require(['plotly'],function(plotly) {window.Plotly=plotly;});}}</script>"
      ]
     },
     "metadata": {},
     "output_type": "display_data"
    },
    {
     "data": {
      "text/plain": [
       "<module 'myModule' from '/home/jiankong/jupyter/chart/bin/chart/myModule.py'>"
      ]
     },
     "execution_count": 2,
     "metadata": {},
     "output_type": "execute_result"
    }
   ],
   "source": [
    "import imp\n",
    "imp.reload(myModule)"
   ]
  },
  {
   "cell_type": "code",
   "execution_count": 3,
   "metadata": {
    "collapsed": false
   },
   "outputs": [],
   "source": [
    "import os\n",
    "bindir = os.path.dirname(os.getcwd())\n",
    "pathway = bindir + '/../data/QC/'\n",
    "all_files , title = myModule.get_title(pathway , 0)##给路径\n",
    "all_df1 = myModule.read_xlsx(all_files, 0 ) ## read all files\n",
    "#data_dict = {'下机批次比':['下机批次数','下机项目数']}\n",
    "\n",
    "all_df2 = myModule.read_xlsx(all_files , 1 )\n"
   ]
  },
  {
   "cell_type": "code",
   "execution_count": 4,
   "metadata": {
    "collapsed": false
   },
   "outputs": [],
   "source": [
    "#myModule.upgrade_df(all_df1, [ ['下机批次比','下机批次数','下机项目数','/'] ])\n",
    "#all_df1[['下机批次比','下机批次数','下机项目数']]"
   ]
  },
  {
   "cell_type": "markdown",
   "metadata": {},
   "source": [
    "# QC分析组整体情况"
   ]
  },
  {
   "cell_type": "markdown",
   "metadata": {},
   "source": [
    "## 整体人员情况"
   ]
  },
  {
   "cell_type": "code",
   "execution_count": 5,
   "metadata": {
    "collapsed": false
   },
   "outputs": [
    {
     "data": {
      "application/vnd.plotly.v1+json": {
       "data": [
        {
         "name": "人员",
         "type": "bar",
         "uid": "87064302-d69e-11e8-8ddb-a41f72875c19",
         "x": [
          "10-2",
          "10-3",
          "8-1",
          "8-2",
          "8-3",
          "8-4",
          "8-5",
          "9-1",
          "9-2",
          "9-3",
          "9-4"
         ],
         "y": [
          3,
          3,
          4,
          4,
          4,
          4,
          4,
          4,
          4,
          4,
          4
         ]
        }
       ],
       "layout": {
        "title": "人员周趋势图",
        "xaxis": {
         "mirror": "all",
         "nticks": 20,
         "showgrid": true,
         "showline": true,
         "title": "周",
         "type": "category",
         "zeroline": true
        },
        "yaxis": {
         "mirror": "all",
         "nticks": 20,
         "showgrid": true,
         "showline": true,
         "title": "人员",
         "zeroline": true
        }
       }
      },
      "text/html": [
       "<div id=\"aba68fb2-fdc0-43c0-96ec-159bd0b0a792\" style=\"height: 525px; width: 100%;\" class=\"plotly-graph-div\"></div><script type=\"text/javascript\">require([\"plotly\"], function(Plotly) { window.PLOTLYENV=window.PLOTLYENV || {};window.PLOTLYENV.BASE_URL=\"https://plot.ly\";Plotly.newPlot(\"aba68fb2-fdc0-43c0-96ec-159bd0b0a792\", [{\"name\": \"\\u4eba\\u5458\", \"x\": [\"10-2\", \"10-3\", \"8-1\", \"8-2\", \"8-3\", \"8-4\", \"8-5\", \"9-1\", \"9-2\", \"9-3\", \"9-4\"], \"y\": [3, 3, 4, 4, 4, 4, 4, 4, 4, 4, 4], \"type\": \"bar\", \"uid\": \"87064302-d69e-11e8-8ddb-a41f72875c19\"}], {\"title\": \"\\u4eba\\u5458\\u5468\\u8d8b\\u52bf\\u56fe\", \"xaxis\": {\"mirror\": \"all\", \"nticks\": 20, \"showgrid\": true, \"showline\": true, \"title\": \"\\u5468\", \"type\": \"category\", \"zeroline\": true}, \"yaxis\": {\"mirror\": \"all\", \"nticks\": 20, \"showgrid\": true, \"showline\": true, \"title\": \"\\u4eba\\u5458\", \"zeroline\": true}}, {\"showLink\": true, \"linkText\": \"Export to plot.ly\"})});</script>"
      ],
      "text/vnd.plotly.v1+html": [
       "<div id=\"aba68fb2-fdc0-43c0-96ec-159bd0b0a792\" style=\"height: 525px; width: 100%;\" class=\"plotly-graph-div\"></div><script type=\"text/javascript\">require([\"plotly\"], function(Plotly) { window.PLOTLYENV=window.PLOTLYENV || {};window.PLOTLYENV.BASE_URL=\"https://plot.ly\";Plotly.newPlot(\"aba68fb2-fdc0-43c0-96ec-159bd0b0a792\", [{\"name\": \"\\u4eba\\u5458\", \"x\": [\"10-2\", \"10-3\", \"8-1\", \"8-2\", \"8-3\", \"8-4\", \"8-5\", \"9-1\", \"9-2\", \"9-3\", \"9-4\"], \"y\": [3, 3, 4, 4, 4, 4, 4, 4, 4, 4, 4], \"type\": \"bar\", \"uid\": \"87064302-d69e-11e8-8ddb-a41f72875c19\"}], {\"title\": \"\\u4eba\\u5458\\u5468\\u8d8b\\u52bf\\u56fe\", \"xaxis\": {\"mirror\": \"all\", \"nticks\": 20, \"showgrid\": true, \"showline\": true, \"title\": \"\\u5468\", \"type\": \"category\", \"zeroline\": true}, \"yaxis\": {\"mirror\": \"all\", \"nticks\": 20, \"showgrid\": true, \"showline\": true, \"title\": \"\\u4eba\\u5458\", \"zeroline\": true}}, {\"showLink\": true, \"linkText\": \"Export to plot.ly\"})});</script>"
      ]
     },
     "metadata": {},
     "output_type": "display_data"
    },
    {
     "data": {
      "application/vnd.plotly.v1+json": {
       "data": [
        {
         "name": "人员",
         "type": "bar",
         "uid": "87064303-d69e-11e8-8ddb-a41f72875c19",
         "x": [
          8,
          9,
          10
         ],
         "y": [
          4,
          4,
          3
         ]
        }
       ],
       "layout": {
        "title": "人员月趋势图",
        "xaxis": {
         "mirror": "all",
         "nticks": 20,
         "showgrid": true,
         "showline": true,
         "title": "月",
         "type": "category",
         "zeroline": true
        },
        "yaxis": {
         "mirror": "all",
         "nticks": 20,
         "showgrid": true,
         "showline": true,
         "title": "人员",
         "zeroline": true
        }
       }
      },
      "text/html": [
       "<div id=\"69d980e2-4125-4dff-af98-3fff86507140\" style=\"height: 525px; width: 100%;\" class=\"plotly-graph-div\"></div><script type=\"text/javascript\">require([\"plotly\"], function(Plotly) { window.PLOTLYENV=window.PLOTLYENV || {};window.PLOTLYENV.BASE_URL=\"https://plot.ly\";Plotly.newPlot(\"69d980e2-4125-4dff-af98-3fff86507140\", [{\"name\": \"\\u4eba\\u5458\", \"x\": [8, 9, 10], \"y\": [4, 4, 3], \"type\": \"bar\", \"uid\": \"87064303-d69e-11e8-8ddb-a41f72875c19\"}], {\"title\": \"\\u4eba\\u5458\\u6708\\u8d8b\\u52bf\\u56fe\", \"xaxis\": {\"mirror\": \"all\", \"nticks\": 20, \"showgrid\": true, \"showline\": true, \"title\": \"\\u6708\", \"type\": \"category\", \"zeroline\": true}, \"yaxis\": {\"mirror\": \"all\", \"nticks\": 20, \"showgrid\": true, \"showline\": true, \"title\": \"\\u4eba\\u5458\", \"zeroline\": true}}, {\"showLink\": true, \"linkText\": \"Export to plot.ly\"})});</script>"
      ],
      "text/vnd.plotly.v1+html": [
       "<div id=\"69d980e2-4125-4dff-af98-3fff86507140\" style=\"height: 525px; width: 100%;\" class=\"plotly-graph-div\"></div><script type=\"text/javascript\">require([\"plotly\"], function(Plotly) { window.PLOTLYENV=window.PLOTLYENV || {};window.PLOTLYENV.BASE_URL=\"https://plot.ly\";Plotly.newPlot(\"69d980e2-4125-4dff-af98-3fff86507140\", [{\"name\": \"\\u4eba\\u5458\", \"x\": [8, 9, 10], \"y\": [4, 4, 3], \"type\": \"bar\", \"uid\": \"87064303-d69e-11e8-8ddb-a41f72875c19\"}], {\"title\": \"\\u4eba\\u5458\\u6708\\u8d8b\\u52bf\\u56fe\", \"xaxis\": {\"mirror\": \"all\", \"nticks\": 20, \"showgrid\": true, \"showline\": true, \"title\": \"\\u6708\", \"type\": \"category\", \"zeroline\": true}, \"yaxis\": {\"mirror\": \"all\", \"nticks\": 20, \"showgrid\": true, \"showline\": true, \"title\": \"\\u4eba\\u5458\", \"zeroline\": true}}, {\"showLink\": true, \"linkText\": \"Export to plot.ly\"})});</script>"
      ]
     },
     "metadata": {},
     "output_type": "display_data"
    }
   ],
   "source": [
    "ss = myModule.format(all_df1 ,\"日期（格式“月-周次”）\" ,['人员'])\n",
    "tt = myModule.myPlot(ss.groupby('count'))\n",
    "tt.plot('bar')\n",
    "\n",
    "ss = myModule.format(all_df1 ,\"month\" ,['人员'] )\n",
    "ss.get_average_by('日期（格式“月-周次”）')\n",
    "tt = myModule.myPlot(ss.groupby(\"count\") )# ,\"日期（格式“月-周次”）\" ,['人员'])\n",
    "tt.plot('bar',tag='月')"
   ]
  },
  {
   "cell_type": "markdown",
   "metadata": {
    "hide_input": true
   },
   "source": [
    "## 过滤项目整体情况"
   ]
  },
  {
   "cell_type": "markdown",
   "metadata": {},
   "source": [
    "### 产能"
   ]
  },
  {
   "cell_type": "markdown",
   "metadata": {},
   "source": [
    "\n",
    "#### 下机批次数和下机项目数\n"
   ]
  },
  {
   "cell_type": "code",
   "execution_count": 6,
   "metadata": {
    "collapsed": false
   },
   "outputs": [
    {
     "data": {
      "application/vnd.plotly.v1+json": {
       "data": [
        {
         "name": "下机批次数",
         "type": "scatter",
         "uid": "87064304-d69e-11e8-8ddb-a41f72875c19",
         "x": [
          "10-2",
          "10-3",
          "8-1",
          "8-2",
          "8-3",
          "8-4",
          "8-5",
          "9-1",
          "9-2",
          "9-3",
          "9-4"
         ],
         "y": [
          70,
          132,
          118,
          181,
          165,
          161,
          100,
          199,
          124,
          136,
          176
         ]
        },
        {
         "name": "下机项目数",
         "type": "scatter",
         "uid": "87064305-d69e-11e8-8ddb-a41f72875c19",
         "x": [
          "10-2",
          "10-3",
          "8-1",
          "8-2",
          "8-3",
          "8-4",
          "8-5",
          "9-1",
          "9-2",
          "9-3",
          "9-4"
         ],
         "y": [
          66,
          110,
          94,
          146,
          135,
          136,
          85,
          174,
          103,
          122,
          153
         ]
        }
       ],
       "layout": {
        "title": "下机批次数&下机项目数周趋势图",
        "xaxis": {
         "mirror": "all",
         "nticks": 20,
         "showgrid": true,
         "showline": true,
         "title": "周",
         "type": "category",
         "zeroline": true
        },
        "yaxis": {
         "mirror": "all",
         "nticks": 20,
         "showgrid": true,
         "showline": true,
         "title": "下机批次数&下机项目数",
         "zeroline": true
        }
       }
      },
      "text/html": [
       "<div id=\"4984a6f8-0880-4f68-940e-a956b9105ce6\" style=\"height: 525px; width: 100%;\" class=\"plotly-graph-div\"></div><script type=\"text/javascript\">require([\"plotly\"], function(Plotly) { window.PLOTLYENV=window.PLOTLYENV || {};window.PLOTLYENV.BASE_URL=\"https://plot.ly\";Plotly.newPlot(\"4984a6f8-0880-4f68-940e-a956b9105ce6\", [{\"name\": \"\\u4e0b\\u673a\\u6279\\u6b21\\u6570\", \"x\": [\"10-2\", \"10-3\", \"8-1\", \"8-2\", \"8-3\", \"8-4\", \"8-5\", \"9-1\", \"9-2\", \"9-3\", \"9-4\"], \"y\": [70, 132, 118, 181, 165, 161, 100, 199, 124, 136, 176], \"type\": \"scatter\", \"uid\": \"87064304-d69e-11e8-8ddb-a41f72875c19\"}, {\"name\": \"\\u4e0b\\u673a\\u9879\\u76ee\\u6570\", \"x\": [\"10-2\", \"10-3\", \"8-1\", \"8-2\", \"8-3\", \"8-4\", \"8-5\", \"9-1\", \"9-2\", \"9-3\", \"9-4\"], \"y\": [66, 110, 94, 146, 135, 136, 85, 174, 103, 122, 153], \"type\": \"scatter\", \"uid\": \"87064305-d69e-11e8-8ddb-a41f72875c19\"}], {\"title\": \"\\u4e0b\\u673a\\u6279\\u6b21\\u6570&\\u4e0b\\u673a\\u9879\\u76ee\\u6570\\u5468\\u8d8b\\u52bf\\u56fe\", \"xaxis\": {\"mirror\": \"all\", \"nticks\": 20, \"showgrid\": true, \"showline\": true, \"title\": \"\\u5468\", \"type\": \"category\", \"zeroline\": true}, \"yaxis\": {\"mirror\": \"all\", \"nticks\": 20, \"showgrid\": true, \"showline\": true, \"title\": \"\\u4e0b\\u673a\\u6279\\u6b21\\u6570&\\u4e0b\\u673a\\u9879\\u76ee\\u6570\", \"zeroline\": true}}, {\"showLink\": true, \"linkText\": \"Export to plot.ly\"})});</script>"
      ],
      "text/vnd.plotly.v1+html": [
       "<div id=\"4984a6f8-0880-4f68-940e-a956b9105ce6\" style=\"height: 525px; width: 100%;\" class=\"plotly-graph-div\"></div><script type=\"text/javascript\">require([\"plotly\"], function(Plotly) { window.PLOTLYENV=window.PLOTLYENV || {};window.PLOTLYENV.BASE_URL=\"https://plot.ly\";Plotly.newPlot(\"4984a6f8-0880-4f68-940e-a956b9105ce6\", [{\"name\": \"\\u4e0b\\u673a\\u6279\\u6b21\\u6570\", \"x\": [\"10-2\", \"10-3\", \"8-1\", \"8-2\", \"8-3\", \"8-4\", \"8-5\", \"9-1\", \"9-2\", \"9-3\", \"9-4\"], \"y\": [70, 132, 118, 181, 165, 161, 100, 199, 124, 136, 176], \"type\": \"scatter\", \"uid\": \"87064304-d69e-11e8-8ddb-a41f72875c19\"}, {\"name\": \"\\u4e0b\\u673a\\u9879\\u76ee\\u6570\", \"x\": [\"10-2\", \"10-3\", \"8-1\", \"8-2\", \"8-3\", \"8-4\", \"8-5\", \"9-1\", \"9-2\", \"9-3\", \"9-4\"], \"y\": [66, 110, 94, 146, 135, 136, 85, 174, 103, 122, 153], \"type\": \"scatter\", \"uid\": \"87064305-d69e-11e8-8ddb-a41f72875c19\"}], {\"title\": \"\\u4e0b\\u673a\\u6279\\u6b21\\u6570&\\u4e0b\\u673a\\u9879\\u76ee\\u6570\\u5468\\u8d8b\\u52bf\\u56fe\", \"xaxis\": {\"mirror\": \"all\", \"nticks\": 20, \"showgrid\": true, \"showline\": true, \"title\": \"\\u5468\", \"type\": \"category\", \"zeroline\": true}, \"yaxis\": {\"mirror\": \"all\", \"nticks\": 20, \"showgrid\": true, \"showline\": true, \"title\": \"\\u4e0b\\u673a\\u6279\\u6b21\\u6570&\\u4e0b\\u673a\\u9879\\u76ee\\u6570\", \"zeroline\": true}}, {\"showLink\": true, \"linkText\": \"Export to plot.ly\"})});</script>"
      ]
     },
     "metadata": {},
     "output_type": "display_data"
    },
    {
     "data": {
      "application/vnd.plotly.v1+json": {
       "data": [
        {
         "name": "下机批次数",
         "type": "scatter",
         "uid": "87064306-d69e-11e8-8ddb-a41f72875c19",
         "x": [
          8,
          9,
          10
         ],
         "y": [
          725,
          635,
          202
         ]
        },
        {
         "name": "下机项目数",
         "type": "scatter",
         "uid": "87064307-d69e-11e8-8ddb-a41f72875c19",
         "x": [
          8,
          9,
          10
         ],
         "y": [
          596,
          552,
          176
         ]
        }
       ],
       "layout": {
        "title": "下机批次数&下机项目数月趋势图",
        "xaxis": {
         "mirror": "all",
         "nticks": 20,
         "showgrid": true,
         "showline": true,
         "title": "月",
         "type": "category",
         "zeroline": true
        },
        "yaxis": {
         "mirror": "all",
         "nticks": 20,
         "showgrid": true,
         "showline": true,
         "title": "下机批次数&下机项目数",
         "zeroline": true
        }
       }
      },
      "text/html": [
       "<div id=\"fbecec3a-f5c1-41ed-8202-f7efd0c55dc4\" style=\"height: 525px; width: 100%;\" class=\"plotly-graph-div\"></div><script type=\"text/javascript\">require([\"plotly\"], function(Plotly) { window.PLOTLYENV=window.PLOTLYENV || {};window.PLOTLYENV.BASE_URL=\"https://plot.ly\";Plotly.newPlot(\"fbecec3a-f5c1-41ed-8202-f7efd0c55dc4\", [{\"name\": \"\\u4e0b\\u673a\\u6279\\u6b21\\u6570\", \"x\": [8, 9, 10], \"y\": [725, 635, 202], \"type\": \"scatter\", \"uid\": \"87064306-d69e-11e8-8ddb-a41f72875c19\"}, {\"name\": \"\\u4e0b\\u673a\\u9879\\u76ee\\u6570\", \"x\": [8, 9, 10], \"y\": [596, 552, 176], \"type\": \"scatter\", \"uid\": \"87064307-d69e-11e8-8ddb-a41f72875c19\"}], {\"title\": \"\\u4e0b\\u673a\\u6279\\u6b21\\u6570&\\u4e0b\\u673a\\u9879\\u76ee\\u6570\\u6708\\u8d8b\\u52bf\\u56fe\", \"xaxis\": {\"mirror\": \"all\", \"nticks\": 20, \"showgrid\": true, \"showline\": true, \"title\": \"\\u6708\", \"type\": \"category\", \"zeroline\": true}, \"yaxis\": {\"mirror\": \"all\", \"nticks\": 20, \"showgrid\": true, \"showline\": true, \"title\": \"\\u4e0b\\u673a\\u6279\\u6b21\\u6570&\\u4e0b\\u673a\\u9879\\u76ee\\u6570\", \"zeroline\": true}}, {\"showLink\": true, \"linkText\": \"Export to plot.ly\"})});</script>"
      ],
      "text/vnd.plotly.v1+html": [
       "<div id=\"fbecec3a-f5c1-41ed-8202-f7efd0c55dc4\" style=\"height: 525px; width: 100%;\" class=\"plotly-graph-div\"></div><script type=\"text/javascript\">require([\"plotly\"], function(Plotly) { window.PLOTLYENV=window.PLOTLYENV || {};window.PLOTLYENV.BASE_URL=\"https://plot.ly\";Plotly.newPlot(\"fbecec3a-f5c1-41ed-8202-f7efd0c55dc4\", [{\"name\": \"\\u4e0b\\u673a\\u6279\\u6b21\\u6570\", \"x\": [8, 9, 10], \"y\": [725, 635, 202], \"type\": \"scatter\", \"uid\": \"87064306-d69e-11e8-8ddb-a41f72875c19\"}, {\"name\": \"\\u4e0b\\u673a\\u9879\\u76ee\\u6570\", \"x\": [8, 9, 10], \"y\": [596, 552, 176], \"type\": \"scatter\", \"uid\": \"87064307-d69e-11e8-8ddb-a41f72875c19\"}], {\"title\": \"\\u4e0b\\u673a\\u6279\\u6b21\\u6570&\\u4e0b\\u673a\\u9879\\u76ee\\u6570\\u6708\\u8d8b\\u52bf\\u56fe\", \"xaxis\": {\"mirror\": \"all\", \"nticks\": 20, \"showgrid\": true, \"showline\": true, \"title\": \"\\u6708\", \"type\": \"category\", \"zeroline\": true}, \"yaxis\": {\"mirror\": \"all\", \"nticks\": 20, \"showgrid\": true, \"showline\": true, \"title\": \"\\u4e0b\\u673a\\u6279\\u6b21\\u6570&\\u4e0b\\u673a\\u9879\\u76ee\\u6570\", \"zeroline\": true}}, {\"showLink\": true, \"linkText\": \"Export to plot.ly\"})});</script>"
      ]
     },
     "metadata": {},
     "output_type": "display_data"
    }
   ],
   "source": [
    "ss = myModule.format(all_df1 ,\"日期（格式“月-周次”）\" ,['下机批次数','下机项目数'])\n",
    "myModule.myPlot(ss.groupby('sum')).plot('line')\n",
    "ss = myModule.format(all_df1 ,\"month\" ,['下机批次数','下机项目数'])\n",
    "myModule.myPlot(ss.groupby('sum')).plot('line',\"月\")"
   ]
  },
  {
   "cell_type": "markdown",
   "metadata": {},
   "source": [
    "#### 下机批次比"
   ]
  },
  {
   "cell_type": "code",
   "execution_count": 7,
   "metadata": {
    "collapsed": false
   },
   "outputs": [
    {
     "data": {
      "application/vnd.plotly.v1+json": {
       "data": [
        {
         "name": "下机批次比",
         "type": "scatter",
         "uid": "87064308-d69e-11e8-8ddb-a41f72875c19",
         "x": [
          "10-2",
          "10-3",
          "8-1",
          "8-2",
          "8-3",
          "8-4",
          "8-5",
          "9-1",
          "9-2",
          "9-3",
          "9-4"
         ],
         "y": [
          1.0606060606060606,
          1.2,
          1.2553191489361701,
          1.2397260273972603,
          1.2222222222222223,
          1.1838235294117647,
          1.1764705882352942,
          1.1436781609195403,
          1.203883495145631,
          1.1147540983606556,
          1.1503267973856208
         ]
        }
       ],
       "layout": {
        "title": "下机批次比周趋势图",
        "xaxis": {
         "mirror": "all",
         "nticks": 20,
         "showgrid": true,
         "showline": true,
         "title": "周",
         "type": "category",
         "zeroline": true
        },
        "yaxis": {
         "mirror": "all",
         "nticks": 20,
         "showgrid": true,
         "showline": true,
         "title": "下机批次比",
         "zeroline": true
        }
       }
      },
      "text/html": [
       "<div id=\"30900a36-3c8d-487f-900f-253f4c89d511\" style=\"height: 525px; width: 100%;\" class=\"plotly-graph-div\"></div><script type=\"text/javascript\">require([\"plotly\"], function(Plotly) { window.PLOTLYENV=window.PLOTLYENV || {};window.PLOTLYENV.BASE_URL=\"https://plot.ly\";Plotly.newPlot(\"30900a36-3c8d-487f-900f-253f4c89d511\", [{\"name\": \"\\u4e0b\\u673a\\u6279\\u6b21\\u6bd4\", \"x\": [\"10-2\", \"10-3\", \"8-1\", \"8-2\", \"8-3\", \"8-4\", \"8-5\", \"9-1\", \"9-2\", \"9-3\", \"9-4\"], \"y\": [1.0606060606060606, 1.2, 1.2553191489361701, 1.2397260273972603, 1.2222222222222223, 1.1838235294117647, 1.1764705882352942, 1.1436781609195403, 1.203883495145631, 1.1147540983606556, 1.1503267973856208], \"type\": \"scatter\", \"uid\": \"87064308-d69e-11e8-8ddb-a41f72875c19\"}], {\"title\": \"\\u4e0b\\u673a\\u6279\\u6b21\\u6bd4\\u5468\\u8d8b\\u52bf\\u56fe\", \"xaxis\": {\"mirror\": \"all\", \"nticks\": 20, \"showgrid\": true, \"showline\": true, \"title\": \"\\u5468\", \"type\": \"category\", \"zeroline\": true}, \"yaxis\": {\"mirror\": \"all\", \"nticks\": 20, \"showgrid\": true, \"showline\": true, \"title\": \"\\u4e0b\\u673a\\u6279\\u6b21\\u6bd4\", \"zeroline\": true}}, {\"showLink\": true, \"linkText\": \"Export to plot.ly\"})});</script>"
      ],
      "text/vnd.plotly.v1+html": [
       "<div id=\"30900a36-3c8d-487f-900f-253f4c89d511\" style=\"height: 525px; width: 100%;\" class=\"plotly-graph-div\"></div><script type=\"text/javascript\">require([\"plotly\"], function(Plotly) { window.PLOTLYENV=window.PLOTLYENV || {};window.PLOTLYENV.BASE_URL=\"https://plot.ly\";Plotly.newPlot(\"30900a36-3c8d-487f-900f-253f4c89d511\", [{\"name\": \"\\u4e0b\\u673a\\u6279\\u6b21\\u6bd4\", \"x\": [\"10-2\", \"10-3\", \"8-1\", \"8-2\", \"8-3\", \"8-4\", \"8-5\", \"9-1\", \"9-2\", \"9-3\", \"9-4\"], \"y\": [1.0606060606060606, 1.2, 1.2553191489361701, 1.2397260273972603, 1.2222222222222223, 1.1838235294117647, 1.1764705882352942, 1.1436781609195403, 1.203883495145631, 1.1147540983606556, 1.1503267973856208], \"type\": \"scatter\", \"uid\": \"87064308-d69e-11e8-8ddb-a41f72875c19\"}], {\"title\": \"\\u4e0b\\u673a\\u6279\\u6b21\\u6bd4\\u5468\\u8d8b\\u52bf\\u56fe\", \"xaxis\": {\"mirror\": \"all\", \"nticks\": 20, \"showgrid\": true, \"showline\": true, \"title\": \"\\u5468\", \"type\": \"category\", \"zeroline\": true}, \"yaxis\": {\"mirror\": \"all\", \"nticks\": 20, \"showgrid\": true, \"showline\": true, \"title\": \"\\u4e0b\\u673a\\u6279\\u6b21\\u6bd4\", \"zeroline\": true}}, {\"showLink\": true, \"linkText\": \"Export to plot.ly\"})});</script>"
      ]
     },
     "metadata": {},
     "output_type": "display_data"
    },
    {
     "data": {
      "application/vnd.plotly.v1+json": {
       "data": [
        {
         "name": "下机批次比",
         "type": "scatter",
         "uid": "87064309-d69e-11e8-8ddb-a41f72875c19",
         "x": [
          8,
          9,
          10
         ],
         "y": [
          1.2164429530201342,
          1.1503623188405796,
          1.1477272727272727
         ]
        }
       ],
       "layout": {
        "title": "下机批次比周趋势图",
        "xaxis": {
         "mirror": "all",
         "nticks": 20,
         "showgrid": true,
         "showline": true,
         "title": "周",
         "type": "category",
         "zeroline": true
        },
        "yaxis": {
         "mirror": "all",
         "nticks": 20,
         "showgrid": true,
         "showline": true,
         "title": "下机批次比",
         "zeroline": true
        }
       }
      },
      "text/html": [
       "<div id=\"68c3dcb2-2610-4f04-96f2-3d944a4c1d74\" style=\"height: 525px; width: 100%;\" class=\"plotly-graph-div\"></div><script type=\"text/javascript\">require([\"plotly\"], function(Plotly) { window.PLOTLYENV=window.PLOTLYENV || {};window.PLOTLYENV.BASE_URL=\"https://plot.ly\";Plotly.newPlot(\"68c3dcb2-2610-4f04-96f2-3d944a4c1d74\", [{\"name\": \"\\u4e0b\\u673a\\u6279\\u6b21\\u6bd4\", \"x\": [8, 9, 10], \"y\": [1.2164429530201342, 1.1503623188405796, 1.1477272727272727], \"type\": \"scatter\", \"uid\": \"87064309-d69e-11e8-8ddb-a41f72875c19\"}], {\"title\": \"\\u4e0b\\u673a\\u6279\\u6b21\\u6bd4\\u5468\\u8d8b\\u52bf\\u56fe\", \"xaxis\": {\"mirror\": \"all\", \"nticks\": 20, \"showgrid\": true, \"showline\": true, \"title\": \"\\u5468\", \"type\": \"category\", \"zeroline\": true}, \"yaxis\": {\"mirror\": \"all\", \"nticks\": 20, \"showgrid\": true, \"showline\": true, \"title\": \"\\u4e0b\\u673a\\u6279\\u6b21\\u6bd4\", \"zeroline\": true}}, {\"showLink\": true, \"linkText\": \"Export to plot.ly\"})});</script>"
      ],
      "text/vnd.plotly.v1+html": [
       "<div id=\"68c3dcb2-2610-4f04-96f2-3d944a4c1d74\" style=\"height: 525px; width: 100%;\" class=\"plotly-graph-div\"></div><script type=\"text/javascript\">require([\"plotly\"], function(Plotly) { window.PLOTLYENV=window.PLOTLYENV || {};window.PLOTLYENV.BASE_URL=\"https://plot.ly\";Plotly.newPlot(\"68c3dcb2-2610-4f04-96f2-3d944a4c1d74\", [{\"name\": \"\\u4e0b\\u673a\\u6279\\u6b21\\u6bd4\", \"x\": [8, 9, 10], \"y\": [1.2164429530201342, 1.1503623188405796, 1.1477272727272727], \"type\": \"scatter\", \"uid\": \"87064309-d69e-11e8-8ddb-a41f72875c19\"}], {\"title\": \"\\u4e0b\\u673a\\u6279\\u6b21\\u6bd4\\u5468\\u8d8b\\u52bf\\u56fe\", \"xaxis\": {\"mirror\": \"all\", \"nticks\": 20, \"showgrid\": true, \"showline\": true, \"title\": \"\\u5468\", \"type\": \"category\", \"zeroline\": true}, \"yaxis\": {\"mirror\": \"all\", \"nticks\": 20, \"showgrid\": true, \"showline\": true, \"title\": \"\\u4e0b\\u673a\\u6279\\u6b21\\u6bd4\", \"zeroline\": true}}, {\"showLink\": true, \"linkText\": \"Export to plot.ly\"})});</script>"
      ]
     },
     "metadata": {},
     "output_type": "display_data"
    }
   ],
   "source": [
    "ss = myModule.format(all_df1 ,\"日期（格式“月-周次”）\" ,['下机批次数','下机项目数'])\n",
    "tt = ss.get_total_ratio([['下机批次比' ,'下机批次数' , '下机项目数','/']] )\n",
    "myModule.myPlot(tt).plot('line')\n",
    "\n",
    "ss = myModule.format(all_df1 ,\"month\" ,['下机批次数','下机项目数'])\n",
    "tt = ss.get_total_ratio([['下机批次比' ,'下机批次数' , '下机项目数','/']] )\n",
    "myModule.myPlot(tt).plot('line')\n"
   ]
  },
  {
   "cell_type": "markdown",
   "metadata": {
    "hide_input": true
   },
   "source": [
    "### 效率"
   ]
  },
  {
   "cell_type": "markdown",
   "metadata": {},
   "source": [
    "#### 反馈及时率和数据交付及时率"
   ]
  },
  {
   "cell_type": "code",
   "execution_count": 8,
   "metadata": {
    "collapsed": false
   },
   "outputs": [
    {
     "data": {
      "application/vnd.plotly.v1+json": {
       "data": [
        {
         "name": "数据及时交付率",
         "type": "scatter",
         "uid": "8706430a-d69e-11e8-8ddb-a41f72875c19",
         "x": [
          "10-2",
          "10-3",
          "8-1",
          "8-2",
          "8-3",
          "8-4",
          "8-5",
          "9-1",
          "9-2",
          "9-3",
          "9-4"
         ],
         "y": [
          1,
          1,
          1,
          1,
          1,
          1,
          1,
          1,
          1,
          1,
          1
         ]
        },
        {
         "name": "反馈及时率",
         "type": "scatter",
         "uid": "8706430b-d69e-11e8-8ddb-a41f72875c19",
         "x": [
          "10-2",
          "10-3",
          "8-1",
          "8-2",
          "8-3",
          "8-4",
          "8-5",
          "9-1",
          "9-2",
          "9-3",
          "9-4"
         ],
         "y": [
          1,
          0.9772727272727273,
          0.9661016949152542,
          0.9668508287292817,
          0.9878787878787879,
          0.968944099378882,
          0.93,
          0.9849246231155779,
          0.9274193548387096,
          1,
          0.9943181818181818
         ]
        }
       ],
       "layout": {
        "title": "数据及时交付率&反馈及时率周趋势图",
        "xaxis": {
         "mirror": "all",
         "nticks": 20,
         "showgrid": true,
         "showline": true,
         "title": "周",
         "type": "category",
         "zeroline": true
        },
        "yaxis": {
         "mirror": "all",
         "nticks": 20,
         "showgrid": true,
         "showline": true,
         "title": "数据及时交付率&反馈及时率",
         "zeroline": true
        }
       }
      },
      "text/html": [
       "<div id=\"4ee66f41-6b29-4476-831f-d46aae8ff0ee\" style=\"height: 525px; width: 100%;\" class=\"plotly-graph-div\"></div><script type=\"text/javascript\">require([\"plotly\"], function(Plotly) { window.PLOTLYENV=window.PLOTLYENV || {};window.PLOTLYENV.BASE_URL=\"https://plot.ly\";Plotly.newPlot(\"4ee66f41-6b29-4476-831f-d46aae8ff0ee\", [{\"name\": \"\\u6570\\u636e\\u53ca\\u65f6\\u4ea4\\u4ed8\\u7387\", \"x\": [\"10-2\", \"10-3\", \"8-1\", \"8-2\", \"8-3\", \"8-4\", \"8-5\", \"9-1\", \"9-2\", \"9-3\", \"9-4\"], \"y\": [1.0, 1.0, 1.0, 1.0, 1.0, 1.0, 1.0, 1.0, 1.0, 1.0, 1.0], \"type\": \"scatter\", \"uid\": \"8706430a-d69e-11e8-8ddb-a41f72875c19\"}, {\"name\": \"\\u53cd\\u9988\\u53ca\\u65f6\\u7387\", \"x\": [\"10-2\", \"10-3\", \"8-1\", \"8-2\", \"8-3\", \"8-4\", \"8-5\", \"9-1\", \"9-2\", \"9-3\", \"9-4\"], \"y\": [1.0, 0.9772727272727273, 0.9661016949152542, 0.9668508287292817, 0.9878787878787879, 0.968944099378882, 0.93, 0.9849246231155779, 0.9274193548387096, 1.0, 0.9943181818181818], \"type\": \"scatter\", \"uid\": \"8706430b-d69e-11e8-8ddb-a41f72875c19\"}], {\"title\": \"\\u6570\\u636e\\u53ca\\u65f6\\u4ea4\\u4ed8\\u7387&\\u53cd\\u9988\\u53ca\\u65f6\\u7387\\u5468\\u8d8b\\u52bf\\u56fe\", \"xaxis\": {\"mirror\": \"all\", \"nticks\": 20, \"showgrid\": true, \"showline\": true, \"title\": \"\\u5468\", \"type\": \"category\", \"zeroline\": true}, \"yaxis\": {\"mirror\": \"all\", \"nticks\": 20, \"showgrid\": true, \"showline\": true, \"title\": \"\\u6570\\u636e\\u53ca\\u65f6\\u4ea4\\u4ed8\\u7387&\\u53cd\\u9988\\u53ca\\u65f6\\u7387\", \"zeroline\": true}}, {\"showLink\": true, \"linkText\": \"Export to plot.ly\"})});</script>"
      ],
      "text/vnd.plotly.v1+html": [
       "<div id=\"4ee66f41-6b29-4476-831f-d46aae8ff0ee\" style=\"height: 525px; width: 100%;\" class=\"plotly-graph-div\"></div><script type=\"text/javascript\">require([\"plotly\"], function(Plotly) { window.PLOTLYENV=window.PLOTLYENV || {};window.PLOTLYENV.BASE_URL=\"https://plot.ly\";Plotly.newPlot(\"4ee66f41-6b29-4476-831f-d46aae8ff0ee\", [{\"name\": \"\\u6570\\u636e\\u53ca\\u65f6\\u4ea4\\u4ed8\\u7387\", \"x\": [\"10-2\", \"10-3\", \"8-1\", \"8-2\", \"8-3\", \"8-4\", \"8-5\", \"9-1\", \"9-2\", \"9-3\", \"9-4\"], \"y\": [1.0, 1.0, 1.0, 1.0, 1.0, 1.0, 1.0, 1.0, 1.0, 1.0, 1.0], \"type\": \"scatter\", \"uid\": \"8706430a-d69e-11e8-8ddb-a41f72875c19\"}, {\"name\": \"\\u53cd\\u9988\\u53ca\\u65f6\\u7387\", \"x\": [\"10-2\", \"10-3\", \"8-1\", \"8-2\", \"8-3\", \"8-4\", \"8-5\", \"9-1\", \"9-2\", \"9-3\", \"9-4\"], \"y\": [1.0, 0.9772727272727273, 0.9661016949152542, 0.9668508287292817, 0.9878787878787879, 0.968944099378882, 0.93, 0.9849246231155779, 0.9274193548387096, 1.0, 0.9943181818181818], \"type\": \"scatter\", \"uid\": \"8706430b-d69e-11e8-8ddb-a41f72875c19\"}], {\"title\": \"\\u6570\\u636e\\u53ca\\u65f6\\u4ea4\\u4ed8\\u7387&\\u53cd\\u9988\\u53ca\\u65f6\\u7387\\u5468\\u8d8b\\u52bf\\u56fe\", \"xaxis\": {\"mirror\": \"all\", \"nticks\": 20, \"showgrid\": true, \"showline\": true, \"title\": \"\\u5468\", \"type\": \"category\", \"zeroline\": true}, \"yaxis\": {\"mirror\": \"all\", \"nticks\": 20, \"showgrid\": true, \"showline\": true, \"title\": \"\\u6570\\u636e\\u53ca\\u65f6\\u4ea4\\u4ed8\\u7387&\\u53cd\\u9988\\u53ca\\u65f6\\u7387\", \"zeroline\": true}}, {\"showLink\": true, \"linkText\": \"Export to plot.ly\"})});</script>"
      ]
     },
     "metadata": {},
     "output_type": "display_data"
    },
    {
     "data": {
      "application/vnd.plotly.v1+json": {
       "data": [
        {
         "name": "数据及时交付率",
         "type": "scatter",
         "uid": "8706430c-d69e-11e8-8ddb-a41f72875c19",
         "x": [
          8,
          9,
          10
         ],
         "y": [
          1,
          1,
          1
         ]
        },
        {
         "name": "反馈及时率",
         "type": "scatter",
         "uid": "8706430d-d69e-11e8-8ddb-a41f72875c19",
         "x": [
          8,
          9,
          10
         ],
         "y": [
          0.9668965517241379,
          0.9795275590551181,
          0.9851485148514851
         ]
        }
       ],
       "layout": {
        "title": "数据及时交付率&反馈及时率周趋势图",
        "xaxis": {
         "mirror": "all",
         "nticks": 20,
         "showgrid": true,
         "showline": true,
         "title": "周",
         "type": "category",
         "zeroline": true
        },
        "yaxis": {
         "mirror": "all",
         "nticks": 20,
         "showgrid": true,
         "showline": true,
         "title": "数据及时交付率&反馈及时率",
         "zeroline": true
        }
       }
      },
      "text/html": [
       "<div id=\"4f02afab-2fd4-47bc-9ea5-cf2bbe3db2f4\" style=\"height: 525px; width: 100%;\" class=\"plotly-graph-div\"></div><script type=\"text/javascript\">require([\"plotly\"], function(Plotly) { window.PLOTLYENV=window.PLOTLYENV || {};window.PLOTLYENV.BASE_URL=\"https://plot.ly\";Plotly.newPlot(\"4f02afab-2fd4-47bc-9ea5-cf2bbe3db2f4\", [{\"name\": \"\\u6570\\u636e\\u53ca\\u65f6\\u4ea4\\u4ed8\\u7387\", \"x\": [8, 9, 10], \"y\": [1.0, 1.0, 1.0], \"type\": \"scatter\", \"uid\": \"8706430c-d69e-11e8-8ddb-a41f72875c19\"}, {\"name\": \"\\u53cd\\u9988\\u53ca\\u65f6\\u7387\", \"x\": [8, 9, 10], \"y\": [0.9668965517241379, 0.9795275590551181, 0.9851485148514851], \"type\": \"scatter\", \"uid\": \"8706430d-d69e-11e8-8ddb-a41f72875c19\"}], {\"title\": \"\\u6570\\u636e\\u53ca\\u65f6\\u4ea4\\u4ed8\\u7387&\\u53cd\\u9988\\u53ca\\u65f6\\u7387\\u5468\\u8d8b\\u52bf\\u56fe\", \"xaxis\": {\"mirror\": \"all\", \"nticks\": 20, \"showgrid\": true, \"showline\": true, \"title\": \"\\u5468\", \"type\": \"category\", \"zeroline\": true}, \"yaxis\": {\"mirror\": \"all\", \"nticks\": 20, \"showgrid\": true, \"showline\": true, \"title\": \"\\u6570\\u636e\\u53ca\\u65f6\\u4ea4\\u4ed8\\u7387&\\u53cd\\u9988\\u53ca\\u65f6\\u7387\", \"zeroline\": true}}, {\"showLink\": true, \"linkText\": \"Export to plot.ly\"})});</script>"
      ],
      "text/vnd.plotly.v1+html": [
       "<div id=\"4f02afab-2fd4-47bc-9ea5-cf2bbe3db2f4\" style=\"height: 525px; width: 100%;\" class=\"plotly-graph-div\"></div><script type=\"text/javascript\">require([\"plotly\"], function(Plotly) { window.PLOTLYENV=window.PLOTLYENV || {};window.PLOTLYENV.BASE_URL=\"https://plot.ly\";Plotly.newPlot(\"4f02afab-2fd4-47bc-9ea5-cf2bbe3db2f4\", [{\"name\": \"\\u6570\\u636e\\u53ca\\u65f6\\u4ea4\\u4ed8\\u7387\", \"x\": [8, 9, 10], \"y\": [1.0, 1.0, 1.0], \"type\": \"scatter\", \"uid\": \"8706430c-d69e-11e8-8ddb-a41f72875c19\"}, {\"name\": \"\\u53cd\\u9988\\u53ca\\u65f6\\u7387\", \"x\": [8, 9, 10], \"y\": [0.9668965517241379, 0.9795275590551181, 0.9851485148514851], \"type\": \"scatter\", \"uid\": \"8706430d-d69e-11e8-8ddb-a41f72875c19\"}], {\"title\": \"\\u6570\\u636e\\u53ca\\u65f6\\u4ea4\\u4ed8\\u7387&\\u53cd\\u9988\\u53ca\\u65f6\\u7387\\u5468\\u8d8b\\u52bf\\u56fe\", \"xaxis\": {\"mirror\": \"all\", \"nticks\": 20, \"showgrid\": true, \"showline\": true, \"title\": \"\\u5468\", \"type\": \"category\", \"zeroline\": true}, \"yaxis\": {\"mirror\": \"all\", \"nticks\": 20, \"showgrid\": true, \"showline\": true, \"title\": \"\\u6570\\u636e\\u53ca\\u65f6\\u4ea4\\u4ed8\\u7387&\\u53cd\\u9988\\u53ca\\u65f6\\u7387\", \"zeroline\": true}}, {\"showLink\": true, \"linkText\": \"Export to plot.ly\"})});</script>"
      ]
     },
     "metadata": {},
     "output_type": "display_data"
    }
   ],
   "source": [
    "ss = myModule.format(all_df1 ,\"日期（格式“月-周次”）\" ,['及时反馈数','下机批次数','数据及时交付数','数据交付总数'])\n",
    "tt = ss.get_total_ratio([['反馈及时率' ,'及时反馈数' , '下机批次数','/'], \n",
    "                    ['数据及时交付率','数据及时交付数','数据交付总数','/']])\n",
    "myModule.myPlot(tt).plot('line')\n",
    "\n",
    "ss = myModule.format(all_df1 ,\"month\" ,['及时反馈数','下机批次数','数据及时交付数','数据交付总数'])\n",
    "tt = ss.get_total_ratio([['反馈及时率' ,'及时反馈数' , '下机批次数','/'], \n",
    "                    ['数据及时交付率','数据及时交付数','数据交付总数','/']])\n",
    "myModule.myPlot(tt).plot('line')\n"
   ]
  },
  {
   "cell_type": "markdown",
   "metadata": {},
   "source": [
    "#### 24h拆分过滤率和48h拆分过滤率"
   ]
  },
  {
   "cell_type": "code",
   "execution_count": 9,
   "metadata": {
    "collapsed": false
   },
   "outputs": [
    {
     "data": {
      "application/vnd.plotly.v1+json": {
       "data": [
        {
         "name": "24h拆分过滤率",
         "type": "scatter",
         "uid": "8706430e-d69e-11e8-8ddb-a41f72875c19",
         "x": [
          "10-2",
          "10-3",
          "8-1",
          "8-2",
          "8-3",
          "8-4",
          "8-5",
          "9-1",
          "9-2",
          "9-3",
          "9-4"
         ],
         "y": [
          0.45714285714285713,
          0.8333333333333334,
          0.6271186440677966,
          0.5359116022099447,
          0.6787878787878788,
          0.9192546583850931,
          0.71,
          0.7286432160804021,
          0.782258064516129,
          0.7426470588235294,
          0.7556818181818182
         ]
        },
        {
         "name": "48h拆分过滤率",
         "type": "scatter",
         "uid": "8706430f-d69e-11e8-8ddb-a41f72875c19",
         "x": [
          "10-2",
          "10-3",
          "8-1",
          "8-2",
          "8-3",
          "8-4",
          "8-5",
          "9-1",
          "9-2",
          "9-3",
          "9-4"
         ],
         "y": [
          0.6285714285714286,
          0.9545454545454546,
          0.923728813559322,
          0.8121546961325967,
          0.9757575757575757,
          0.9751552795031055,
          0.79,
          0.8492462311557789,
          0.9516129032258065,
          0.7941176470588235,
          0.8181818181818182
         ]
        }
       ],
       "layout": {
        "title": "24h拆分过滤率&48h拆分过滤率周趋势图",
        "xaxis": {
         "mirror": "all",
         "nticks": 20,
         "showgrid": true,
         "showline": true,
         "title": "周",
         "type": "category",
         "zeroline": true
        },
        "yaxis": {
         "mirror": "all",
         "nticks": 20,
         "showgrid": true,
         "showline": true,
         "title": "24h拆分过滤率&48h拆分过滤率",
         "zeroline": true
        }
       }
      },
      "text/html": [
       "<div id=\"ea43728d-66f4-41cb-8325-6ed0578c875a\" style=\"height: 525px; width: 100%;\" class=\"plotly-graph-div\"></div><script type=\"text/javascript\">require([\"plotly\"], function(Plotly) { window.PLOTLYENV=window.PLOTLYENV || {};window.PLOTLYENV.BASE_URL=\"https://plot.ly\";Plotly.newPlot(\"ea43728d-66f4-41cb-8325-6ed0578c875a\", [{\"name\": \"24h\\u62c6\\u5206\\u8fc7\\u6ee4\\u7387\", \"x\": [\"10-2\", \"10-3\", \"8-1\", \"8-2\", \"8-3\", \"8-4\", \"8-5\", \"9-1\", \"9-2\", \"9-3\", \"9-4\"], \"y\": [0.45714285714285713, 0.8333333333333334, 0.6271186440677966, 0.5359116022099447, 0.6787878787878788, 0.9192546583850931, 0.71, 0.7286432160804021, 0.782258064516129, 0.7426470588235294, 0.7556818181818182], \"type\": \"scatter\", \"uid\": \"8706430e-d69e-11e8-8ddb-a41f72875c19\"}, {\"name\": \"48h\\u62c6\\u5206\\u8fc7\\u6ee4\\u7387\", \"x\": [\"10-2\", \"10-3\", \"8-1\", \"8-2\", \"8-3\", \"8-4\", \"8-5\", \"9-1\", \"9-2\", \"9-3\", \"9-4\"], \"y\": [0.6285714285714286, 0.9545454545454546, 0.923728813559322, 0.8121546961325967, 0.9757575757575757, 0.9751552795031055, 0.79, 0.8492462311557789, 0.9516129032258065, 0.7941176470588235, 0.8181818181818182], \"type\": \"scatter\", \"uid\": \"8706430f-d69e-11e8-8ddb-a41f72875c19\"}], {\"title\": \"24h\\u62c6\\u5206\\u8fc7\\u6ee4\\u7387&48h\\u62c6\\u5206\\u8fc7\\u6ee4\\u7387\\u5468\\u8d8b\\u52bf\\u56fe\", \"xaxis\": {\"mirror\": \"all\", \"nticks\": 20, \"showgrid\": true, \"showline\": true, \"title\": \"\\u5468\", \"type\": \"category\", \"zeroline\": true}, \"yaxis\": {\"mirror\": \"all\", \"nticks\": 20, \"showgrid\": true, \"showline\": true, \"title\": \"24h\\u62c6\\u5206\\u8fc7\\u6ee4\\u7387&48h\\u62c6\\u5206\\u8fc7\\u6ee4\\u7387\", \"zeroline\": true}}, {\"showLink\": true, \"linkText\": \"Export to plot.ly\"})});</script>"
      ],
      "text/vnd.plotly.v1+html": [
       "<div id=\"ea43728d-66f4-41cb-8325-6ed0578c875a\" style=\"height: 525px; width: 100%;\" class=\"plotly-graph-div\"></div><script type=\"text/javascript\">require([\"plotly\"], function(Plotly) { window.PLOTLYENV=window.PLOTLYENV || {};window.PLOTLYENV.BASE_URL=\"https://plot.ly\";Plotly.newPlot(\"ea43728d-66f4-41cb-8325-6ed0578c875a\", [{\"name\": \"24h\\u62c6\\u5206\\u8fc7\\u6ee4\\u7387\", \"x\": [\"10-2\", \"10-3\", \"8-1\", \"8-2\", \"8-3\", \"8-4\", \"8-5\", \"9-1\", \"9-2\", \"9-3\", \"9-4\"], \"y\": [0.45714285714285713, 0.8333333333333334, 0.6271186440677966, 0.5359116022099447, 0.6787878787878788, 0.9192546583850931, 0.71, 0.7286432160804021, 0.782258064516129, 0.7426470588235294, 0.7556818181818182], \"type\": \"scatter\", \"uid\": \"8706430e-d69e-11e8-8ddb-a41f72875c19\"}, {\"name\": \"48h\\u62c6\\u5206\\u8fc7\\u6ee4\\u7387\", \"x\": [\"10-2\", \"10-3\", \"8-1\", \"8-2\", \"8-3\", \"8-4\", \"8-5\", \"9-1\", \"9-2\", \"9-3\", \"9-4\"], \"y\": [0.6285714285714286, 0.9545454545454546, 0.923728813559322, 0.8121546961325967, 0.9757575757575757, 0.9751552795031055, 0.79, 0.8492462311557789, 0.9516129032258065, 0.7941176470588235, 0.8181818181818182], \"type\": \"scatter\", \"uid\": \"8706430f-d69e-11e8-8ddb-a41f72875c19\"}], {\"title\": \"24h\\u62c6\\u5206\\u8fc7\\u6ee4\\u7387&48h\\u62c6\\u5206\\u8fc7\\u6ee4\\u7387\\u5468\\u8d8b\\u52bf\\u56fe\", \"xaxis\": {\"mirror\": \"all\", \"nticks\": 20, \"showgrid\": true, \"showline\": true, \"title\": \"\\u5468\", \"type\": \"category\", \"zeroline\": true}, \"yaxis\": {\"mirror\": \"all\", \"nticks\": 20, \"showgrid\": true, \"showline\": true, \"title\": \"24h\\u62c6\\u5206\\u8fc7\\u6ee4\\u7387&48h\\u62c6\\u5206\\u8fc7\\u6ee4\\u7387\", \"zeroline\": true}}, {\"showLink\": true, \"linkText\": \"Export to plot.ly\"})});</script>"
      ]
     },
     "metadata": {},
     "output_type": "display_data"
    },
    {
     "data": {
      "application/vnd.plotly.v1+json": {
       "data": [
        {
         "name": "24h拆分过滤率",
         "type": "scatter",
         "uid": "87064310-d69e-11e8-8ddb-a41f72875c19",
         "x": [
          8,
          9,
          10
         ],
         "y": [
          0.6924137931034483,
          0.7496062992125985,
          0.7029702970297029
         ]
        },
        {
         "name": "48h拆分过滤率",
         "type": "scatter",
         "uid": "87064311-d69e-11e8-8ddb-a41f72875c19",
         "x": [
          8,
          9,
          10
         ],
         "y": [
          0.9006896551724138,
          0.8488188976377953,
          0.8415841584158416
         ]
        }
       ],
       "layout": {
        "title": "24h拆分过滤率&48h拆分过滤率周趋势图",
        "xaxis": {
         "mirror": "all",
         "nticks": 20,
         "showgrid": true,
         "showline": true,
         "title": "周",
         "type": "category",
         "zeroline": true
        },
        "yaxis": {
         "mirror": "all",
         "nticks": 20,
         "showgrid": true,
         "showline": true,
         "title": "24h拆分过滤率&48h拆分过滤率",
         "zeroline": true
        }
       }
      },
      "text/html": [
       "<div id=\"aaf6f22d-7c51-4c03-af68-c87a74c1531f\" style=\"height: 525px; width: 100%;\" class=\"plotly-graph-div\"></div><script type=\"text/javascript\">require([\"plotly\"], function(Plotly) { window.PLOTLYENV=window.PLOTLYENV || {};window.PLOTLYENV.BASE_URL=\"https://plot.ly\";Plotly.newPlot(\"aaf6f22d-7c51-4c03-af68-c87a74c1531f\", [{\"name\": \"24h\\u62c6\\u5206\\u8fc7\\u6ee4\\u7387\", \"x\": [8, 9, 10], \"y\": [0.6924137931034483, 0.7496062992125985, 0.7029702970297029], \"type\": \"scatter\", \"uid\": \"87064310-d69e-11e8-8ddb-a41f72875c19\"}, {\"name\": \"48h\\u62c6\\u5206\\u8fc7\\u6ee4\\u7387\", \"x\": [8, 9, 10], \"y\": [0.9006896551724138, 0.8488188976377953, 0.8415841584158416], \"type\": \"scatter\", \"uid\": \"87064311-d69e-11e8-8ddb-a41f72875c19\"}], {\"title\": \"24h\\u62c6\\u5206\\u8fc7\\u6ee4\\u7387&48h\\u62c6\\u5206\\u8fc7\\u6ee4\\u7387\\u5468\\u8d8b\\u52bf\\u56fe\", \"xaxis\": {\"mirror\": \"all\", \"nticks\": 20, \"showgrid\": true, \"showline\": true, \"title\": \"\\u5468\", \"type\": \"category\", \"zeroline\": true}, \"yaxis\": {\"mirror\": \"all\", \"nticks\": 20, \"showgrid\": true, \"showline\": true, \"title\": \"24h\\u62c6\\u5206\\u8fc7\\u6ee4\\u7387&48h\\u62c6\\u5206\\u8fc7\\u6ee4\\u7387\", \"zeroline\": true}}, {\"showLink\": true, \"linkText\": \"Export to plot.ly\"})});</script>"
      ],
      "text/vnd.plotly.v1+html": [
       "<div id=\"aaf6f22d-7c51-4c03-af68-c87a74c1531f\" style=\"height: 525px; width: 100%;\" class=\"plotly-graph-div\"></div><script type=\"text/javascript\">require([\"plotly\"], function(Plotly) { window.PLOTLYENV=window.PLOTLYENV || {};window.PLOTLYENV.BASE_URL=\"https://plot.ly\";Plotly.newPlot(\"aaf6f22d-7c51-4c03-af68-c87a74c1531f\", [{\"name\": \"24h\\u62c6\\u5206\\u8fc7\\u6ee4\\u7387\", \"x\": [8, 9, 10], \"y\": [0.6924137931034483, 0.7496062992125985, 0.7029702970297029], \"type\": \"scatter\", \"uid\": \"87064310-d69e-11e8-8ddb-a41f72875c19\"}, {\"name\": \"48h\\u62c6\\u5206\\u8fc7\\u6ee4\\u7387\", \"x\": [8, 9, 10], \"y\": [0.9006896551724138, 0.8488188976377953, 0.8415841584158416], \"type\": \"scatter\", \"uid\": \"87064311-d69e-11e8-8ddb-a41f72875c19\"}], {\"title\": \"24h\\u62c6\\u5206\\u8fc7\\u6ee4\\u7387&48h\\u62c6\\u5206\\u8fc7\\u6ee4\\u7387\\u5468\\u8d8b\\u52bf\\u56fe\", \"xaxis\": {\"mirror\": \"all\", \"nticks\": 20, \"showgrid\": true, \"showline\": true, \"title\": \"\\u5468\", \"type\": \"category\", \"zeroline\": true}, \"yaxis\": {\"mirror\": \"all\", \"nticks\": 20, \"showgrid\": true, \"showline\": true, \"title\": \"24h\\u62c6\\u5206\\u8fc7\\u6ee4\\u7387&48h\\u62c6\\u5206\\u8fc7\\u6ee4\\u7387\", \"zeroline\": true}}, {\"showLink\": true, \"linkText\": \"Export to plot.ly\"})});</script>"
      ]
     },
     "metadata": {},
     "output_type": "display_data"
    }
   ],
   "source": [
    "ss = myModule.format(all_df1 ,\"日期（格式“月-周次”）\" ,['24h完成批次数', '下机批次数','48h完成批次数'])\n",
    "tt = ss.get_total_ratio([['24h拆分过滤率' ,'24h完成批次数', '下机批次数','/'], \n",
    "                    ['48h拆分过滤率','48h完成批次数', '下机批次数','/']])\n",
    "myModule.myPlot(tt).plot('line')\n",
    "\n",
    "ss = myModule.format(all_df1 ,\"month\" ,['24h完成批次数', '下机批次数','48h完成批次数'])\n",
    "tt = ss.get_total_ratio([['24h拆分过滤率' ,'24h完成批次数', '下机批次数','/'], \n",
    "                    ['48h拆分过滤率','48h完成批次数', '下机批次数','/']])\n",
    "myModule.myPlot(tt).plot('line')"
   ]
  },
  {
   "cell_type": "markdown",
   "metadata": {},
   "source": [
    "#### 平均反馈时长"
   ]
  },
  {
   "cell_type": "code",
   "execution_count": 10,
   "metadata": {
    "collapsed": false
   },
   "outputs": [
    {
     "data": {
      "application/vnd.plotly.v1+json": {
       "data": [
        {
         "name": "平均反馈时长",
         "type": "scatter",
         "uid": "87064312-d69e-11e8-8ddb-a41f72875c19",
         "x": [
          "10-2",
          "10-3",
          "8-1",
          "8-2",
          "8-3",
          "8-4",
          "8-5",
          "9-1",
          "9-2",
          "9-3",
          "9-4"
         ],
         "y": [
          2.7965714285714283,
          4.1249242424242425,
          6.4072881355932205,
          4.446298342541437,
          5.337454545454546,
          4.985962732919255,
          6.498000000000001,
          9.664371859296482,
          7.4699193548387095,
          3.604632352941177,
          3.2088068181818183
         ]
        }
       ],
       "layout": {
        "title": "平均反馈时长周趋势图",
        "xaxis": {
         "mirror": "all",
         "nticks": 20,
         "showgrid": true,
         "showline": true,
         "title": "周",
         "type": "category",
         "zeroline": true
        },
        "yaxis": {
         "mirror": "all",
         "nticks": 20,
         "showgrid": true,
         "showline": true,
         "title": "平均反馈时长",
         "zeroline": true
        }
       }
      },
      "text/html": [
       "<div id=\"91129646-5131-432a-ad42-f70b5441a987\" style=\"height: 525px; width: 100%;\" class=\"plotly-graph-div\"></div><script type=\"text/javascript\">require([\"plotly\"], function(Plotly) { window.PLOTLYENV=window.PLOTLYENV || {};window.PLOTLYENV.BASE_URL=\"https://plot.ly\";Plotly.newPlot(\"91129646-5131-432a-ad42-f70b5441a987\", [{\"name\": \"\\u5e73\\u5747\\u53cd\\u9988\\u65f6\\u957f\", \"x\": [\"10-2\", \"10-3\", \"8-1\", \"8-2\", \"8-3\", \"8-4\", \"8-5\", \"9-1\", \"9-2\", \"9-3\", \"9-4\"], \"y\": [2.7965714285714283, 4.1249242424242425, 6.4072881355932205, 4.446298342541437, 5.337454545454546, 4.985962732919255, 6.498000000000001, 9.664371859296482, 7.4699193548387095, 3.604632352941177, 3.2088068181818183], \"type\": \"scatter\", \"uid\": \"87064312-d69e-11e8-8ddb-a41f72875c19\"}], {\"title\": \"\\u5e73\\u5747\\u53cd\\u9988\\u65f6\\u957f\\u5468\\u8d8b\\u52bf\\u56fe\", \"xaxis\": {\"mirror\": \"all\", \"nticks\": 20, \"showgrid\": true, \"showline\": true, \"title\": \"\\u5468\", \"type\": \"category\", \"zeroline\": true}, \"yaxis\": {\"mirror\": \"all\", \"nticks\": 20, \"showgrid\": true, \"showline\": true, \"title\": \"\\u5e73\\u5747\\u53cd\\u9988\\u65f6\\u957f\", \"zeroline\": true}}, {\"showLink\": true, \"linkText\": \"Export to plot.ly\"})});</script>"
      ],
      "text/vnd.plotly.v1+html": [
       "<div id=\"91129646-5131-432a-ad42-f70b5441a987\" style=\"height: 525px; width: 100%;\" class=\"plotly-graph-div\"></div><script type=\"text/javascript\">require([\"plotly\"], function(Plotly) { window.PLOTLYENV=window.PLOTLYENV || {};window.PLOTLYENV.BASE_URL=\"https://plot.ly\";Plotly.newPlot(\"91129646-5131-432a-ad42-f70b5441a987\", [{\"name\": \"\\u5e73\\u5747\\u53cd\\u9988\\u65f6\\u957f\", \"x\": [\"10-2\", \"10-3\", \"8-1\", \"8-2\", \"8-3\", \"8-4\", \"8-5\", \"9-1\", \"9-2\", \"9-3\", \"9-4\"], \"y\": [2.7965714285714283, 4.1249242424242425, 6.4072881355932205, 4.446298342541437, 5.337454545454546, 4.985962732919255, 6.498000000000001, 9.664371859296482, 7.4699193548387095, 3.604632352941177, 3.2088068181818183], \"type\": \"scatter\", \"uid\": \"87064312-d69e-11e8-8ddb-a41f72875c19\"}], {\"title\": \"\\u5e73\\u5747\\u53cd\\u9988\\u65f6\\u957f\\u5468\\u8d8b\\u52bf\\u56fe\", \"xaxis\": {\"mirror\": \"all\", \"nticks\": 20, \"showgrid\": true, \"showline\": true, \"title\": \"\\u5468\", \"type\": \"category\", \"zeroline\": true}, \"yaxis\": {\"mirror\": \"all\", \"nticks\": 20, \"showgrid\": true, \"showline\": true, \"title\": \"\\u5e73\\u5747\\u53cd\\u9988\\u65f6\\u957f\", \"zeroline\": true}}, {\"showLink\": true, \"linkText\": \"Export to plot.ly\"})});</script>"
      ]
     },
     "metadata": {},
     "output_type": "display_data"
    },
    {
     "data": {
      "application/vnd.plotly.v1+json": {
       "data": [
        {
         "name": "平均反馈时长",
         "type": "scatter",
         "uid": "87064313-d69e-11e8-8ddb-a41f72875c19",
         "x": [
          8,
          9,
          10
         ],
         "y": [
          5.371117241379311,
          6.148755905511811,
          3.6646039603960396
         ]
        }
       ],
       "layout": {
        "title": "平均反馈时长周趋势图",
        "xaxis": {
         "mirror": "all",
         "nticks": 20,
         "showgrid": true,
         "showline": true,
         "title": "周",
         "type": "category",
         "zeroline": true
        },
        "yaxis": {
         "mirror": "all",
         "nticks": 20,
         "showgrid": true,
         "showline": true,
         "title": "平均反馈时长",
         "zeroline": true
        }
       }
      },
      "text/html": [
       "<div id=\"b64bf2de-4af2-4692-abee-cd6abadd2043\" style=\"height: 525px; width: 100%;\" class=\"plotly-graph-div\"></div><script type=\"text/javascript\">require([\"plotly\"], function(Plotly) { window.PLOTLYENV=window.PLOTLYENV || {};window.PLOTLYENV.BASE_URL=\"https://plot.ly\";Plotly.newPlot(\"b64bf2de-4af2-4692-abee-cd6abadd2043\", [{\"name\": \"\\u5e73\\u5747\\u53cd\\u9988\\u65f6\\u957f\", \"x\": [8, 9, 10], \"y\": [5.371117241379311, 6.148755905511811, 3.6646039603960396], \"type\": \"scatter\", \"uid\": \"87064313-d69e-11e8-8ddb-a41f72875c19\"}], {\"title\": \"\\u5e73\\u5747\\u53cd\\u9988\\u65f6\\u957f\\u5468\\u8d8b\\u52bf\\u56fe\", \"xaxis\": {\"mirror\": \"all\", \"nticks\": 20, \"showgrid\": true, \"showline\": true, \"title\": \"\\u5468\", \"type\": \"category\", \"zeroline\": true}, \"yaxis\": {\"mirror\": \"all\", \"nticks\": 20, \"showgrid\": true, \"showline\": true, \"title\": \"\\u5e73\\u5747\\u53cd\\u9988\\u65f6\\u957f\", \"zeroline\": true}}, {\"showLink\": true, \"linkText\": \"Export to plot.ly\"})});</script>"
      ],
      "text/vnd.plotly.v1+html": [
       "<div id=\"b64bf2de-4af2-4692-abee-cd6abadd2043\" style=\"height: 525px; width: 100%;\" class=\"plotly-graph-div\"></div><script type=\"text/javascript\">require([\"plotly\"], function(Plotly) { window.PLOTLYENV=window.PLOTLYENV || {};window.PLOTLYENV.BASE_URL=\"https://plot.ly\";Plotly.newPlot(\"b64bf2de-4af2-4692-abee-cd6abadd2043\", [{\"name\": \"\\u5e73\\u5747\\u53cd\\u9988\\u65f6\\u957f\", \"x\": [8, 9, 10], \"y\": [5.371117241379311, 6.148755905511811, 3.6646039603960396], \"type\": \"scatter\", \"uid\": \"87064313-d69e-11e8-8ddb-a41f72875c19\"}], {\"title\": \"\\u5e73\\u5747\\u53cd\\u9988\\u65f6\\u957f\\u5468\\u8d8b\\u52bf\\u56fe\", \"xaxis\": {\"mirror\": \"all\", \"nticks\": 20, \"showgrid\": true, \"showline\": true, \"title\": \"\\u5468\", \"type\": \"category\", \"zeroline\": true}, \"yaxis\": {\"mirror\": \"all\", \"nticks\": 20, \"showgrid\": true, \"showline\": true, \"title\": \"\\u5e73\\u5747\\u53cd\\u9988\\u65f6\\u957f\", \"zeroline\": true}}, {\"showLink\": true, \"linkText\": \"Export to plot.ly\"})});</script>"
      ]
     },
     "metadata": {},
     "output_type": "display_data"
    }
   ],
   "source": [
    "ss = myModule.format(all_df1 ,\"日期（格式“月-周次”）\" ,['反馈总时长','下机批次数'])\n",
    "tt = ss.get_total_ratio([['平均反馈时长','反馈总时长','下机批次数','/']] )\n",
    "myModule.myPlot(tt).plot('line')\n",
    "\n",
    "ss = myModule.format(all_df1 ,\"month\" ,['反馈总时长','下机批次数'])\n",
    "tt = ss.get_total_ratio([['平均反馈时长','反馈总时长','下机批次数','/']] )\n",
    "myModule.myPlot(tt).plot('line')\n"
   ]
  },
  {
   "cell_type": "markdown",
   "metadata": {},
   "source": [
    "### 异常"
   ]
  },
  {
   "cell_type": "markdown",
   "metadata": {},
   "source": [
    "#### 个性化拆分"
   ]
  },
  {
   "cell_type": "code",
   "execution_count": 11,
   "metadata": {
    "collapsed": false
   },
   "outputs": [
    {
     "data": {
      "application/vnd.plotly.v1+json": {
       "data": [
        {
         "name": "个性化数",
         "type": "scatter",
         "uid": "87064314-d69e-11e8-8ddb-a41f72875c19",
         "x": [
          "10-2",
          "10-3",
          "8-1",
          "8-2",
          "8-3",
          "8-4",
          "8-5",
          "9-1",
          "9-2",
          "9-3",
          "9-4"
         ],
         "y": [
          2,
          1,
          0,
          0,
          0,
          0,
          0,
          0,
          0,
          1,
          3
         ]
        }
       ],
       "layout": {
        "title": "个性化数周趋势图",
        "xaxis": {
         "mirror": "all",
         "nticks": 20,
         "showgrid": true,
         "showline": true,
         "title": "周",
         "type": "category",
         "zeroline": true
        },
        "yaxis": {
         "mirror": "all",
         "nticks": 20,
         "showgrid": true,
         "showline": true,
         "title": "个性化数",
         "zeroline": true
        }
       }
      },
      "text/html": [
       "<div id=\"fc09f000-ebce-4d75-8a45-d0be2ab7eead\" style=\"height: 525px; width: 100%;\" class=\"plotly-graph-div\"></div><script type=\"text/javascript\">require([\"plotly\"], function(Plotly) { window.PLOTLYENV=window.PLOTLYENV || {};window.PLOTLYENV.BASE_URL=\"https://plot.ly\";Plotly.newPlot(\"fc09f000-ebce-4d75-8a45-d0be2ab7eead\", [{\"name\": \"\\u4e2a\\u6027\\u5316\\u6570\", \"x\": [\"10-2\", \"10-3\", \"8-1\", \"8-2\", \"8-3\", \"8-4\", \"8-5\", \"9-1\", \"9-2\", \"9-3\", \"9-4\"], \"y\": [2, 1, 0, 0, 0, 0, 0, 0, 0, 1, 3], \"type\": \"scatter\", \"uid\": \"87064314-d69e-11e8-8ddb-a41f72875c19\"}], {\"title\": \"\\u4e2a\\u6027\\u5316\\u6570\\u5468\\u8d8b\\u52bf\\u56fe\", \"xaxis\": {\"mirror\": \"all\", \"nticks\": 20, \"showgrid\": true, \"showline\": true, \"title\": \"\\u5468\", \"type\": \"category\", \"zeroline\": true}, \"yaxis\": {\"mirror\": \"all\", \"nticks\": 20, \"showgrid\": true, \"showline\": true, \"title\": \"\\u4e2a\\u6027\\u5316\\u6570\", \"zeroline\": true}}, {\"showLink\": true, \"linkText\": \"Export to plot.ly\"})});</script>"
      ],
      "text/vnd.plotly.v1+html": [
       "<div id=\"fc09f000-ebce-4d75-8a45-d0be2ab7eead\" style=\"height: 525px; width: 100%;\" class=\"plotly-graph-div\"></div><script type=\"text/javascript\">require([\"plotly\"], function(Plotly) { window.PLOTLYENV=window.PLOTLYENV || {};window.PLOTLYENV.BASE_URL=\"https://plot.ly\";Plotly.newPlot(\"fc09f000-ebce-4d75-8a45-d0be2ab7eead\", [{\"name\": \"\\u4e2a\\u6027\\u5316\\u6570\", \"x\": [\"10-2\", \"10-3\", \"8-1\", \"8-2\", \"8-3\", \"8-4\", \"8-5\", \"9-1\", \"9-2\", \"9-3\", \"9-4\"], \"y\": [2, 1, 0, 0, 0, 0, 0, 0, 0, 1, 3], \"type\": \"scatter\", \"uid\": \"87064314-d69e-11e8-8ddb-a41f72875c19\"}], {\"title\": \"\\u4e2a\\u6027\\u5316\\u6570\\u5468\\u8d8b\\u52bf\\u56fe\", \"xaxis\": {\"mirror\": \"all\", \"nticks\": 20, \"showgrid\": true, \"showline\": true, \"title\": \"\\u5468\", \"type\": \"category\", \"zeroline\": true}, \"yaxis\": {\"mirror\": \"all\", \"nticks\": 20, \"showgrid\": true, \"showline\": true, \"title\": \"\\u4e2a\\u6027\\u5316\\u6570\", \"zeroline\": true}}, {\"showLink\": true, \"linkText\": \"Export to plot.ly\"})});</script>"
      ]
     },
     "metadata": {},
     "output_type": "display_data"
    },
    {
     "data": {
      "application/vnd.plotly.v1+json": {
       "data": [
        {
         "name": "个性化数",
         "type": "scatter",
         "uid": "87064315-d69e-11e8-8ddb-a41f72875c19",
         "x": [
          8,
          9,
          10
         ],
         "y": [
          0,
          4,
          3
         ]
        }
       ],
       "layout": {
        "title": "个性化数月趋势图",
        "xaxis": {
         "mirror": "all",
         "nticks": 20,
         "showgrid": true,
         "showline": true,
         "title": "月",
         "type": "category",
         "zeroline": true
        },
        "yaxis": {
         "mirror": "all",
         "nticks": 20,
         "showgrid": true,
         "showline": true,
         "title": "个性化数",
         "zeroline": true
        }
       }
      },
      "text/html": [
       "<div id=\"d69fecf6-6ef8-4210-8dfb-dd2d22145f10\" style=\"height: 525px; width: 100%;\" class=\"plotly-graph-div\"></div><script type=\"text/javascript\">require([\"plotly\"], function(Plotly) { window.PLOTLYENV=window.PLOTLYENV || {};window.PLOTLYENV.BASE_URL=\"https://plot.ly\";Plotly.newPlot(\"d69fecf6-6ef8-4210-8dfb-dd2d22145f10\", [{\"name\": \"\\u4e2a\\u6027\\u5316\\u6570\", \"x\": [8, 9, 10], \"y\": [0, 4, 3], \"type\": \"scatter\", \"uid\": \"87064315-d69e-11e8-8ddb-a41f72875c19\"}], {\"title\": \"\\u4e2a\\u6027\\u5316\\u6570\\u6708\\u8d8b\\u52bf\\u56fe\", \"xaxis\": {\"mirror\": \"all\", \"nticks\": 20, \"showgrid\": true, \"showline\": true, \"title\": \"\\u6708\", \"type\": \"category\", \"zeroline\": true}, \"yaxis\": {\"mirror\": \"all\", \"nticks\": 20, \"showgrid\": true, \"showline\": true, \"title\": \"\\u4e2a\\u6027\\u5316\\u6570\", \"zeroline\": true}}, {\"showLink\": true, \"linkText\": \"Export to plot.ly\"})});</script>"
      ],
      "text/vnd.plotly.v1+html": [
       "<div id=\"d69fecf6-6ef8-4210-8dfb-dd2d22145f10\" style=\"height: 525px; width: 100%;\" class=\"plotly-graph-div\"></div><script type=\"text/javascript\">require([\"plotly\"], function(Plotly) { window.PLOTLYENV=window.PLOTLYENV || {};window.PLOTLYENV.BASE_URL=\"https://plot.ly\";Plotly.newPlot(\"d69fecf6-6ef8-4210-8dfb-dd2d22145f10\", [{\"name\": \"\\u4e2a\\u6027\\u5316\\u6570\", \"x\": [8, 9, 10], \"y\": [0, 4, 3], \"type\": \"scatter\", \"uid\": \"87064315-d69e-11e8-8ddb-a41f72875c19\"}], {\"title\": \"\\u4e2a\\u6027\\u5316\\u6570\\u6708\\u8d8b\\u52bf\\u56fe\", \"xaxis\": {\"mirror\": \"all\", \"nticks\": 20, \"showgrid\": true, \"showline\": true, \"title\": \"\\u6708\", \"type\": \"category\", \"zeroline\": true}, \"yaxis\": {\"mirror\": \"all\", \"nticks\": 20, \"showgrid\": true, \"showline\": true, \"title\": \"\\u4e2a\\u6027\\u5316\\u6570\", \"zeroline\": true}}, {\"showLink\": true, \"linkText\": \"Export to plot.ly\"})});</script>"
      ]
     },
     "metadata": {},
     "output_type": "display_data"
    }
   ],
   "source": [
    "ss = myModule.format(all_df1 ,\"日期（格式“月-周次”）\" ,['个性化数'])\n",
    "myModule.myPlot(ss.groupby('sum')).plot('line')\n",
    "\n",
    "ss = myModule.format(all_df1 ,\"month\" ,['个性化数'])\n",
    "myModule.myPlot(ss.groupby('sum')).plot('line','月')"
   ]
  },
  {
   "cell_type": "markdown",
   "metadata": {},
   "source": [
    "#### lims异常数和下单错误数"
   ]
  },
  {
   "cell_type": "code",
   "execution_count": 12,
   "metadata": {
    "collapsed": false
   },
   "outputs": [
    {
     "data": {
      "application/vnd.plotly.v1+json": {
       "data": [
        {
         "name": "lims异常数",
         "type": "scatter",
         "uid": "87064316-d69e-11e8-8ddb-a41f72875c19",
         "x": [
          "10-2",
          "10-3",
          "8-1",
          "8-2",
          "8-3",
          "8-4",
          "8-5",
          "9-1",
          "9-2",
          "9-3",
          "9-4"
         ],
         "y": [
          1,
          1,
          2,
          2,
          2,
          1,
          2,
          1,
          0,
          0,
          1
         ]
        },
        {
         "name": "下单错误数",
         "type": "scatter",
         "uid": "87064317-d69e-11e8-8ddb-a41f72875c19",
         "x": [
          "10-2",
          "10-3",
          "8-1",
          "8-2",
          "8-3",
          "8-4",
          "8-5",
          "9-1",
          "9-2",
          "9-3",
          "9-4"
         ],
         "y": [
          0,
          0,
          1,
          0,
          6,
          1,
          1,
          1,
          1,
          0,
          0
         ]
        }
       ],
       "layout": {
        "title": "lims异常数&下单错误数周趋势图",
        "xaxis": {
         "mirror": "all",
         "nticks": 20,
         "showgrid": true,
         "showline": true,
         "title": "周",
         "type": "category",
         "zeroline": true
        },
        "yaxis": {
         "mirror": "all",
         "nticks": 20,
         "showgrid": true,
         "showline": true,
         "title": "lims异常数&下单错误数",
         "zeroline": true
        }
       }
      },
      "text/html": [
       "<div id=\"fa6e4ce0-73f3-4094-b78c-57b5eff2685e\" style=\"height: 525px; width: 100%;\" class=\"plotly-graph-div\"></div><script type=\"text/javascript\">require([\"plotly\"], function(Plotly) { window.PLOTLYENV=window.PLOTLYENV || {};window.PLOTLYENV.BASE_URL=\"https://plot.ly\";Plotly.newPlot(\"fa6e4ce0-73f3-4094-b78c-57b5eff2685e\", [{\"name\": \"lims\\u5f02\\u5e38\\u6570\", \"x\": [\"10-2\", \"10-3\", \"8-1\", \"8-2\", \"8-3\", \"8-4\", \"8-5\", \"9-1\", \"9-2\", \"9-3\", \"9-4\"], \"y\": [1, 1, 2, 2, 2, 1, 2, 1, 0, 0, 1], \"type\": \"scatter\", \"uid\": \"87064316-d69e-11e8-8ddb-a41f72875c19\"}, {\"name\": \"\\u4e0b\\u5355\\u9519\\u8bef\\u6570\", \"x\": [\"10-2\", \"10-3\", \"8-1\", \"8-2\", \"8-3\", \"8-4\", \"8-5\", \"9-1\", \"9-2\", \"9-3\", \"9-4\"], \"y\": [0, 0, 1, 0, 6, 1, 1, 1, 1, 0, 0], \"type\": \"scatter\", \"uid\": \"87064317-d69e-11e8-8ddb-a41f72875c19\"}], {\"title\": \"lims\\u5f02\\u5e38\\u6570&\\u4e0b\\u5355\\u9519\\u8bef\\u6570\\u5468\\u8d8b\\u52bf\\u56fe\", \"xaxis\": {\"mirror\": \"all\", \"nticks\": 20, \"showgrid\": true, \"showline\": true, \"title\": \"\\u5468\", \"type\": \"category\", \"zeroline\": true}, \"yaxis\": {\"mirror\": \"all\", \"nticks\": 20, \"showgrid\": true, \"showline\": true, \"title\": \"lims\\u5f02\\u5e38\\u6570&\\u4e0b\\u5355\\u9519\\u8bef\\u6570\", \"zeroline\": true}}, {\"showLink\": true, \"linkText\": \"Export to plot.ly\"})});</script>"
      ],
      "text/vnd.plotly.v1+html": [
       "<div id=\"fa6e4ce0-73f3-4094-b78c-57b5eff2685e\" style=\"height: 525px; width: 100%;\" class=\"plotly-graph-div\"></div><script type=\"text/javascript\">require([\"plotly\"], function(Plotly) { window.PLOTLYENV=window.PLOTLYENV || {};window.PLOTLYENV.BASE_URL=\"https://plot.ly\";Plotly.newPlot(\"fa6e4ce0-73f3-4094-b78c-57b5eff2685e\", [{\"name\": \"lims\\u5f02\\u5e38\\u6570\", \"x\": [\"10-2\", \"10-3\", \"8-1\", \"8-2\", \"8-3\", \"8-4\", \"8-5\", \"9-1\", \"9-2\", \"9-3\", \"9-4\"], \"y\": [1, 1, 2, 2, 2, 1, 2, 1, 0, 0, 1], \"type\": \"scatter\", \"uid\": \"87064316-d69e-11e8-8ddb-a41f72875c19\"}, {\"name\": \"\\u4e0b\\u5355\\u9519\\u8bef\\u6570\", \"x\": [\"10-2\", \"10-3\", \"8-1\", \"8-2\", \"8-3\", \"8-4\", \"8-5\", \"9-1\", \"9-2\", \"9-3\", \"9-4\"], \"y\": [0, 0, 1, 0, 6, 1, 1, 1, 1, 0, 0], \"type\": \"scatter\", \"uid\": \"87064317-d69e-11e8-8ddb-a41f72875c19\"}], {\"title\": \"lims\\u5f02\\u5e38\\u6570&\\u4e0b\\u5355\\u9519\\u8bef\\u6570\\u5468\\u8d8b\\u52bf\\u56fe\", \"xaxis\": {\"mirror\": \"all\", \"nticks\": 20, \"showgrid\": true, \"showline\": true, \"title\": \"\\u5468\", \"type\": \"category\", \"zeroline\": true}, \"yaxis\": {\"mirror\": \"all\", \"nticks\": 20, \"showgrid\": true, \"showline\": true, \"title\": \"lims\\u5f02\\u5e38\\u6570&\\u4e0b\\u5355\\u9519\\u8bef\\u6570\", \"zeroline\": true}}, {\"showLink\": true, \"linkText\": \"Export to plot.ly\"})});</script>"
      ]
     },
     "metadata": {},
     "output_type": "display_data"
    },
    {
     "data": {
      "application/vnd.plotly.v1+json": {
       "data": [
        {
         "name": "lims异常数",
         "type": "scatter",
         "uid": "87064318-d69e-11e8-8ddb-a41f72875c19",
         "x": [
          8,
          9,
          10
         ],
         "y": [
          9,
          2,
          2
         ]
        },
        {
         "name": "下单错误数",
         "type": "scatter",
         "uid": "87064319-d69e-11e8-8ddb-a41f72875c19",
         "x": [
          8,
          9,
          10
         ],
         "y": [
          9,
          2,
          0
         ]
        }
       ],
       "layout": {
        "title": "lims异常数&下单错误数月趋势图",
        "xaxis": {
         "mirror": "all",
         "nticks": 20,
         "showgrid": true,
         "showline": true,
         "title": "月",
         "type": "category",
         "zeroline": true
        },
        "yaxis": {
         "mirror": "all",
         "nticks": 20,
         "showgrid": true,
         "showline": true,
         "title": "lims异常数&下单错误数",
         "zeroline": true
        }
       }
      },
      "text/html": [
       "<div id=\"9e80e19b-0996-46df-b6ad-d64b8ec03832\" style=\"height: 525px; width: 100%;\" class=\"plotly-graph-div\"></div><script type=\"text/javascript\">require([\"plotly\"], function(Plotly) { window.PLOTLYENV=window.PLOTLYENV || {};window.PLOTLYENV.BASE_URL=\"https://plot.ly\";Plotly.newPlot(\"9e80e19b-0996-46df-b6ad-d64b8ec03832\", [{\"name\": \"lims\\u5f02\\u5e38\\u6570\", \"x\": [8, 9, 10], \"y\": [9, 2, 2], \"type\": \"scatter\", \"uid\": \"87064318-d69e-11e8-8ddb-a41f72875c19\"}, {\"name\": \"\\u4e0b\\u5355\\u9519\\u8bef\\u6570\", \"x\": [8, 9, 10], \"y\": [9, 2, 0], \"type\": \"scatter\", \"uid\": \"87064319-d69e-11e8-8ddb-a41f72875c19\"}], {\"title\": \"lims\\u5f02\\u5e38\\u6570&\\u4e0b\\u5355\\u9519\\u8bef\\u6570\\u6708\\u8d8b\\u52bf\\u56fe\", \"xaxis\": {\"mirror\": \"all\", \"nticks\": 20, \"showgrid\": true, \"showline\": true, \"title\": \"\\u6708\", \"type\": \"category\", \"zeroline\": true}, \"yaxis\": {\"mirror\": \"all\", \"nticks\": 20, \"showgrid\": true, \"showline\": true, \"title\": \"lims\\u5f02\\u5e38\\u6570&\\u4e0b\\u5355\\u9519\\u8bef\\u6570\", \"zeroline\": true}}, {\"showLink\": true, \"linkText\": \"Export to plot.ly\"})});</script>"
      ],
      "text/vnd.plotly.v1+html": [
       "<div id=\"9e80e19b-0996-46df-b6ad-d64b8ec03832\" style=\"height: 525px; width: 100%;\" class=\"plotly-graph-div\"></div><script type=\"text/javascript\">require([\"plotly\"], function(Plotly) { window.PLOTLYENV=window.PLOTLYENV || {};window.PLOTLYENV.BASE_URL=\"https://plot.ly\";Plotly.newPlot(\"9e80e19b-0996-46df-b6ad-d64b8ec03832\", [{\"name\": \"lims\\u5f02\\u5e38\\u6570\", \"x\": [8, 9, 10], \"y\": [9, 2, 2], \"type\": \"scatter\", \"uid\": \"87064318-d69e-11e8-8ddb-a41f72875c19\"}, {\"name\": \"\\u4e0b\\u5355\\u9519\\u8bef\\u6570\", \"x\": [8, 9, 10], \"y\": [9, 2, 0], \"type\": \"scatter\", \"uid\": \"87064319-d69e-11e8-8ddb-a41f72875c19\"}], {\"title\": \"lims\\u5f02\\u5e38\\u6570&\\u4e0b\\u5355\\u9519\\u8bef\\u6570\\u6708\\u8d8b\\u52bf\\u56fe\", \"xaxis\": {\"mirror\": \"all\", \"nticks\": 20, \"showgrid\": true, \"showline\": true, \"title\": \"\\u6708\", \"type\": \"category\", \"zeroline\": true}, \"yaxis\": {\"mirror\": \"all\", \"nticks\": 20, \"showgrid\": true, \"showline\": true, \"title\": \"lims\\u5f02\\u5e38\\u6570&\\u4e0b\\u5355\\u9519\\u8bef\\u6570\", \"zeroline\": true}}, {\"showLink\": true, \"linkText\": \"Export to plot.ly\"})});</script>"
      ]
     },
     "metadata": {},
     "output_type": "display_data"
    }
   ],
   "source": [
    "ss = myModule.format(all_df1 ,\"日期（格式“月-周次”）\" ,['lims异常数' , '下单错误数'])\n",
    "myModule.myPlot(ss.groupby('sum')).plot('line')\n",
    "\n",
    "ss = myModule.format(all_df1 ,\"month\" ,['lims异常数' , '下单错误数'])\n",
    "myModule.myPlot(ss.groupby('sum')).plot('line','月')"
   ]
  },
  {
   "cell_type": "markdown",
   "metadata": {},
   "source": [
    "#### 过滤流程异常数"
   ]
  },
  {
   "cell_type": "code",
   "execution_count": 13,
   "metadata": {
    "collapsed": false
   },
   "outputs": [
    {
     "data": {
      "application/vnd.plotly.v1+json": {
       "data": [
        {
         "name": "过滤流程异常数",
         "type": "scatter",
         "uid": "8706431a-d69e-11e8-8ddb-a41f72875c19",
         "x": [
          "10-2",
          "10-3",
          "8-1",
          "8-2",
          "8-3",
          "8-4",
          "8-5",
          "9-1",
          "9-2",
          "9-3",
          "9-4"
         ],
         "y": [
          0,
          0,
          0,
          1,
          0,
          0,
          2,
          1,
          0,
          0,
          0
         ]
        }
       ],
       "layout": {
        "title": "过滤流程异常数周趋势图",
        "xaxis": {
         "mirror": "all",
         "nticks": 20,
         "showgrid": true,
         "showline": true,
         "title": "周",
         "type": "category",
         "zeroline": true
        },
        "yaxis": {
         "mirror": "all",
         "nticks": 20,
         "showgrid": true,
         "showline": true,
         "title": "过滤流程异常数",
         "zeroline": true
        }
       }
      },
      "text/html": [
       "<div id=\"4d4f044d-c9b5-41ac-a000-93e112df9b8a\" style=\"height: 525px; width: 100%;\" class=\"plotly-graph-div\"></div><script type=\"text/javascript\">require([\"plotly\"], function(Plotly) { window.PLOTLYENV=window.PLOTLYENV || {};window.PLOTLYENV.BASE_URL=\"https://plot.ly\";Plotly.newPlot(\"4d4f044d-c9b5-41ac-a000-93e112df9b8a\", [{\"name\": \"\\u8fc7\\u6ee4\\u6d41\\u7a0b\\u5f02\\u5e38\\u6570\", \"x\": [\"10-2\", \"10-3\", \"8-1\", \"8-2\", \"8-3\", \"8-4\", \"8-5\", \"9-1\", \"9-2\", \"9-3\", \"9-4\"], \"y\": [0, 0, 0, 1, 0, 0, 2, 1, 0, 0, 0], \"type\": \"scatter\", \"uid\": \"8706431a-d69e-11e8-8ddb-a41f72875c19\"}], {\"title\": \"\\u8fc7\\u6ee4\\u6d41\\u7a0b\\u5f02\\u5e38\\u6570\\u5468\\u8d8b\\u52bf\\u56fe\", \"xaxis\": {\"mirror\": \"all\", \"nticks\": 20, \"showgrid\": true, \"showline\": true, \"title\": \"\\u5468\", \"type\": \"category\", \"zeroline\": true}, \"yaxis\": {\"mirror\": \"all\", \"nticks\": 20, \"showgrid\": true, \"showline\": true, \"title\": \"\\u8fc7\\u6ee4\\u6d41\\u7a0b\\u5f02\\u5e38\\u6570\", \"zeroline\": true}}, {\"showLink\": true, \"linkText\": \"Export to plot.ly\"})});</script>"
      ],
      "text/vnd.plotly.v1+html": [
       "<div id=\"4d4f044d-c9b5-41ac-a000-93e112df9b8a\" style=\"height: 525px; width: 100%;\" class=\"plotly-graph-div\"></div><script type=\"text/javascript\">require([\"plotly\"], function(Plotly) { window.PLOTLYENV=window.PLOTLYENV || {};window.PLOTLYENV.BASE_URL=\"https://plot.ly\";Plotly.newPlot(\"4d4f044d-c9b5-41ac-a000-93e112df9b8a\", [{\"name\": \"\\u8fc7\\u6ee4\\u6d41\\u7a0b\\u5f02\\u5e38\\u6570\", \"x\": [\"10-2\", \"10-3\", \"8-1\", \"8-2\", \"8-3\", \"8-4\", \"8-5\", \"9-1\", \"9-2\", \"9-3\", \"9-4\"], \"y\": [0, 0, 0, 1, 0, 0, 2, 1, 0, 0, 0], \"type\": \"scatter\", \"uid\": \"8706431a-d69e-11e8-8ddb-a41f72875c19\"}], {\"title\": \"\\u8fc7\\u6ee4\\u6d41\\u7a0b\\u5f02\\u5e38\\u6570\\u5468\\u8d8b\\u52bf\\u56fe\", \"xaxis\": {\"mirror\": \"all\", \"nticks\": 20, \"showgrid\": true, \"showline\": true, \"title\": \"\\u5468\", \"type\": \"category\", \"zeroline\": true}, \"yaxis\": {\"mirror\": \"all\", \"nticks\": 20, \"showgrid\": true, \"showline\": true, \"title\": \"\\u8fc7\\u6ee4\\u6d41\\u7a0b\\u5f02\\u5e38\\u6570\", \"zeroline\": true}}, {\"showLink\": true, \"linkText\": \"Export to plot.ly\"})});</script>"
      ]
     },
     "metadata": {},
     "output_type": "display_data"
    },
    {
     "data": {
      "application/vnd.plotly.v1+json": {
       "data": [
        {
         "name": "过滤流程异常数",
         "type": "scatter",
         "uid": "8706431b-d69e-11e8-8ddb-a41f72875c19",
         "x": [
          8,
          9,
          10
         ],
         "y": [
          3,
          1,
          0
         ]
        }
       ],
       "layout": {
        "title": "过滤流程异常数月趋势图",
        "xaxis": {
         "mirror": "all",
         "nticks": 20,
         "showgrid": true,
         "showline": true,
         "title": "月",
         "type": "category",
         "zeroline": true
        },
        "yaxis": {
         "mirror": "all",
         "nticks": 20,
         "showgrid": true,
         "showline": true,
         "title": "过滤流程异常数",
         "zeroline": true
        }
       }
      },
      "text/html": [
       "<div id=\"9db4f63c-4c4e-4a6f-88f1-f8c10effb532\" style=\"height: 525px; width: 100%;\" class=\"plotly-graph-div\"></div><script type=\"text/javascript\">require([\"plotly\"], function(Plotly) { window.PLOTLYENV=window.PLOTLYENV || {};window.PLOTLYENV.BASE_URL=\"https://plot.ly\";Plotly.newPlot(\"9db4f63c-4c4e-4a6f-88f1-f8c10effb532\", [{\"name\": \"\\u8fc7\\u6ee4\\u6d41\\u7a0b\\u5f02\\u5e38\\u6570\", \"x\": [8, 9, 10], \"y\": [3, 1, 0], \"type\": \"scatter\", \"uid\": \"8706431b-d69e-11e8-8ddb-a41f72875c19\"}], {\"title\": \"\\u8fc7\\u6ee4\\u6d41\\u7a0b\\u5f02\\u5e38\\u6570\\u6708\\u8d8b\\u52bf\\u56fe\", \"xaxis\": {\"mirror\": \"all\", \"nticks\": 20, \"showgrid\": true, \"showline\": true, \"title\": \"\\u6708\", \"type\": \"category\", \"zeroline\": true}, \"yaxis\": {\"mirror\": \"all\", \"nticks\": 20, \"showgrid\": true, \"showline\": true, \"title\": \"\\u8fc7\\u6ee4\\u6d41\\u7a0b\\u5f02\\u5e38\\u6570\", \"zeroline\": true}}, {\"showLink\": true, \"linkText\": \"Export to plot.ly\"})});</script>"
      ],
      "text/vnd.plotly.v1+html": [
       "<div id=\"9db4f63c-4c4e-4a6f-88f1-f8c10effb532\" style=\"height: 525px; width: 100%;\" class=\"plotly-graph-div\"></div><script type=\"text/javascript\">require([\"plotly\"], function(Plotly) { window.PLOTLYENV=window.PLOTLYENV || {};window.PLOTLYENV.BASE_URL=\"https://plot.ly\";Plotly.newPlot(\"9db4f63c-4c4e-4a6f-88f1-f8c10effb532\", [{\"name\": \"\\u8fc7\\u6ee4\\u6d41\\u7a0b\\u5f02\\u5e38\\u6570\", \"x\": [8, 9, 10], \"y\": [3, 1, 0], \"type\": \"scatter\", \"uid\": \"8706431b-d69e-11e8-8ddb-a41f72875c19\"}], {\"title\": \"\\u8fc7\\u6ee4\\u6d41\\u7a0b\\u5f02\\u5e38\\u6570\\u6708\\u8d8b\\u52bf\\u56fe\", \"xaxis\": {\"mirror\": \"all\", \"nticks\": 20, \"showgrid\": true, \"showline\": true, \"title\": \"\\u6708\", \"type\": \"category\", \"zeroline\": true}, \"yaxis\": {\"mirror\": \"all\", \"nticks\": 20, \"showgrid\": true, \"showline\": true, \"title\": \"\\u8fc7\\u6ee4\\u6d41\\u7a0b\\u5f02\\u5e38\\u6570\", \"zeroline\": true}}, {\"showLink\": true, \"linkText\": \"Export to plot.ly\"})});</script>"
      ]
     },
     "metadata": {},
     "output_type": "display_data"
    }
   ],
   "source": [
    "ss = myModule.format(all_df1 ,\"日期（格式“月-周次”）\" ,['过滤流程异常数'])\n",
    "myModule.myPlot(ss.groupby('sum')).plot('line')\n",
    "\n",
    "ss = myModule.format(all_df1 ,\"month\" ,['过滤流程异常数'])\n",
    "myModule.myPlot(ss.groupby('sum')).plot('line','月')"
   ]
  },
  {
   "cell_type": "markdown",
   "metadata": {},
   "source": [
    "## 芯片拆分整体情况"
   ]
  },
  {
   "cell_type": "markdown",
   "metadata": {},
   "source": [
    "### 产能"
   ]
  },
  {
   "cell_type": "markdown",
   "metadata": {},
   "source": [
    "#### 芯片总数和不通过芯片数"
   ]
  },
  {
   "cell_type": "code",
   "execution_count": 14,
   "metadata": {
    "collapsed": false
   },
   "outputs": [
    {
     "data": {
      "application/vnd.plotly.v1+json": {
       "data": [
        {
         "name": "不通过芯片数",
         "type": "scatter",
         "uid": "8706431c-d69e-11e8-8ddb-a41f72875c19",
         "x": [
          "10-2",
          "10-3",
          "8-1",
          "8-2",
          "8-3",
          "8-4",
          "8-5",
          "9-1",
          "9-2",
          "9-3",
          "9-4"
         ],
         "y": [
          16,
          15,
          13,
          22,
          20,
          14,
          14,
          15,
          8,
          20,
          18
         ]
        },
        {
         "name": "芯片总数",
         "type": "scatter",
         "uid": "8706431d-d69e-11e8-8ddb-a41f72875c19",
         "x": [
          "10-2",
          "10-3",
          "8-1",
          "8-2",
          "8-3",
          "8-4",
          "8-5",
          "9-1",
          "9-2",
          "9-3",
          "9-4"
         ],
         "y": [
          29,
          30,
          27,
          37,
          29,
          33,
          22,
          29,
          26,
          29,
          25
         ]
        }
       ],
       "layout": {
        "title": "不通过芯片数&芯片总数周趋势图",
        "xaxis": {
         "mirror": "all",
         "nticks": 20,
         "showgrid": true,
         "showline": true,
         "title": "周",
         "type": "category",
         "zeroline": true
        },
        "yaxis": {
         "mirror": "all",
         "nticks": 20,
         "showgrid": true,
         "showline": true,
         "title": "不通过芯片数&芯片总数",
         "zeroline": true
        }
       }
      },
      "text/html": [
       "<div id=\"2172c4a0-d89e-4526-8413-964d5891e284\" style=\"height: 525px; width: 100%;\" class=\"plotly-graph-div\"></div><script type=\"text/javascript\">require([\"plotly\"], function(Plotly) { window.PLOTLYENV=window.PLOTLYENV || {};window.PLOTLYENV.BASE_URL=\"https://plot.ly\";Plotly.newPlot(\"2172c4a0-d89e-4526-8413-964d5891e284\", [{\"name\": \"\\u4e0d\\u901a\\u8fc7\\u82af\\u7247\\u6570\", \"x\": [\"10-2\", \"10-3\", \"8-1\", \"8-2\", \"8-3\", \"8-4\", \"8-5\", \"9-1\", \"9-2\", \"9-3\", \"9-4\"], \"y\": [16, 15, 13, 22, 20, 14, 14, 15, 8, 20, 18], \"type\": \"scatter\", \"uid\": \"8706431c-d69e-11e8-8ddb-a41f72875c19\"}, {\"name\": \"\\u82af\\u7247\\u603b\\u6570\", \"x\": [\"10-2\", \"10-3\", \"8-1\", \"8-2\", \"8-3\", \"8-4\", \"8-5\", \"9-1\", \"9-2\", \"9-3\", \"9-4\"], \"y\": [29, 30, 27, 37, 29, 33, 22, 29, 26, 29, 25], \"type\": \"scatter\", \"uid\": \"8706431d-d69e-11e8-8ddb-a41f72875c19\"}], {\"title\": \"\\u4e0d\\u901a\\u8fc7\\u82af\\u7247\\u6570&\\u82af\\u7247\\u603b\\u6570\\u5468\\u8d8b\\u52bf\\u56fe\", \"xaxis\": {\"mirror\": \"all\", \"nticks\": 20, \"showgrid\": true, \"showline\": true, \"title\": \"\\u5468\", \"type\": \"category\", \"zeroline\": true}, \"yaxis\": {\"mirror\": \"all\", \"nticks\": 20, \"showgrid\": true, \"showline\": true, \"title\": \"\\u4e0d\\u901a\\u8fc7\\u82af\\u7247\\u6570&\\u82af\\u7247\\u603b\\u6570\", \"zeroline\": true}}, {\"showLink\": true, \"linkText\": \"Export to plot.ly\"})});</script>"
      ],
      "text/vnd.plotly.v1+html": [
       "<div id=\"2172c4a0-d89e-4526-8413-964d5891e284\" style=\"height: 525px; width: 100%;\" class=\"plotly-graph-div\"></div><script type=\"text/javascript\">require([\"plotly\"], function(Plotly) { window.PLOTLYENV=window.PLOTLYENV || {};window.PLOTLYENV.BASE_URL=\"https://plot.ly\";Plotly.newPlot(\"2172c4a0-d89e-4526-8413-964d5891e284\", [{\"name\": \"\\u4e0d\\u901a\\u8fc7\\u82af\\u7247\\u6570\", \"x\": [\"10-2\", \"10-3\", \"8-1\", \"8-2\", \"8-3\", \"8-4\", \"8-5\", \"9-1\", \"9-2\", \"9-3\", \"9-4\"], \"y\": [16, 15, 13, 22, 20, 14, 14, 15, 8, 20, 18], \"type\": \"scatter\", \"uid\": \"8706431c-d69e-11e8-8ddb-a41f72875c19\"}, {\"name\": \"\\u82af\\u7247\\u603b\\u6570\", \"x\": [\"10-2\", \"10-3\", \"8-1\", \"8-2\", \"8-3\", \"8-4\", \"8-5\", \"9-1\", \"9-2\", \"9-3\", \"9-4\"], \"y\": [29, 30, 27, 37, 29, 33, 22, 29, 26, 29, 25], \"type\": \"scatter\", \"uid\": \"8706431d-d69e-11e8-8ddb-a41f72875c19\"}], {\"title\": \"\\u4e0d\\u901a\\u8fc7\\u82af\\u7247\\u6570&\\u82af\\u7247\\u603b\\u6570\\u5468\\u8d8b\\u52bf\\u56fe\", \"xaxis\": {\"mirror\": \"all\", \"nticks\": 20, \"showgrid\": true, \"showline\": true, \"title\": \"\\u5468\", \"type\": \"category\", \"zeroline\": true}, \"yaxis\": {\"mirror\": \"all\", \"nticks\": 20, \"showgrid\": true, \"showline\": true, \"title\": \"\\u4e0d\\u901a\\u8fc7\\u82af\\u7247\\u6570&\\u82af\\u7247\\u603b\\u6570\", \"zeroline\": true}}, {\"showLink\": true, \"linkText\": \"Export to plot.ly\"})});</script>"
      ]
     },
     "metadata": {},
     "output_type": "display_data"
    },
    {
     "data": {
      "application/vnd.plotly.v1+json": {
       "data": [
        {
         "name": "不通过芯片数",
         "type": "scatter",
         "uid": "8706431e-d69e-11e8-8ddb-a41f72875c19",
         "x": [
          8,
          9,
          10
         ],
         "y": [
          83,
          61,
          31
         ]
        },
        {
         "name": "芯片总数",
         "type": "scatter",
         "uid": "8706431f-d69e-11e8-8ddb-a41f72875c19",
         "x": [
          8,
          9,
          10
         ],
         "y": [
          148,
          109,
          59
         ]
        }
       ],
       "layout": {
        "title": "不通过芯片数&芯片总数月趋势图",
        "xaxis": {
         "mirror": "all",
         "nticks": 20,
         "showgrid": true,
         "showline": true,
         "title": "月",
         "type": "category",
         "zeroline": true
        },
        "yaxis": {
         "mirror": "all",
         "nticks": 20,
         "showgrid": true,
         "showline": true,
         "title": "不通过芯片数&芯片总数",
         "zeroline": true
        }
       }
      },
      "text/html": [
       "<div id=\"846f2cd1-3e2c-4d68-b297-7f04a1b79ff3\" style=\"height: 525px; width: 100%;\" class=\"plotly-graph-div\"></div><script type=\"text/javascript\">require([\"plotly\"], function(Plotly) { window.PLOTLYENV=window.PLOTLYENV || {};window.PLOTLYENV.BASE_URL=\"https://plot.ly\";Plotly.newPlot(\"846f2cd1-3e2c-4d68-b297-7f04a1b79ff3\", [{\"name\": \"\\u4e0d\\u901a\\u8fc7\\u82af\\u7247\\u6570\", \"x\": [8, 9, 10], \"y\": [83, 61, 31], \"type\": \"scatter\", \"uid\": \"8706431e-d69e-11e8-8ddb-a41f72875c19\"}, {\"name\": \"\\u82af\\u7247\\u603b\\u6570\", \"x\": [8, 9, 10], \"y\": [148, 109, 59], \"type\": \"scatter\", \"uid\": \"8706431f-d69e-11e8-8ddb-a41f72875c19\"}], {\"title\": \"\\u4e0d\\u901a\\u8fc7\\u82af\\u7247\\u6570&\\u82af\\u7247\\u603b\\u6570\\u6708\\u8d8b\\u52bf\\u56fe\", \"xaxis\": {\"mirror\": \"all\", \"nticks\": 20, \"showgrid\": true, \"showline\": true, \"title\": \"\\u6708\", \"type\": \"category\", \"zeroline\": true}, \"yaxis\": {\"mirror\": \"all\", \"nticks\": 20, \"showgrid\": true, \"showline\": true, \"title\": \"\\u4e0d\\u901a\\u8fc7\\u82af\\u7247\\u6570&\\u82af\\u7247\\u603b\\u6570\", \"zeroline\": true}}, {\"showLink\": true, \"linkText\": \"Export to plot.ly\"})});</script>"
      ],
      "text/vnd.plotly.v1+html": [
       "<div id=\"846f2cd1-3e2c-4d68-b297-7f04a1b79ff3\" style=\"height: 525px; width: 100%;\" class=\"plotly-graph-div\"></div><script type=\"text/javascript\">require([\"plotly\"], function(Plotly) { window.PLOTLYENV=window.PLOTLYENV || {};window.PLOTLYENV.BASE_URL=\"https://plot.ly\";Plotly.newPlot(\"846f2cd1-3e2c-4d68-b297-7f04a1b79ff3\", [{\"name\": \"\\u4e0d\\u901a\\u8fc7\\u82af\\u7247\\u6570\", \"x\": [8, 9, 10], \"y\": [83, 61, 31], \"type\": \"scatter\", \"uid\": \"8706431e-d69e-11e8-8ddb-a41f72875c19\"}, {\"name\": \"\\u82af\\u7247\\u603b\\u6570\", \"x\": [8, 9, 10], \"y\": [148, 109, 59], \"type\": \"scatter\", \"uid\": \"8706431f-d69e-11e8-8ddb-a41f72875c19\"}], {\"title\": \"\\u4e0d\\u901a\\u8fc7\\u82af\\u7247\\u6570&\\u82af\\u7247\\u603b\\u6570\\u6708\\u8d8b\\u52bf\\u56fe\", \"xaxis\": {\"mirror\": \"all\", \"nticks\": 20, \"showgrid\": true, \"showline\": true, \"title\": \"\\u6708\", \"type\": \"category\", \"zeroline\": true}, \"yaxis\": {\"mirror\": \"all\", \"nticks\": 20, \"showgrid\": true, \"showline\": true, \"title\": \"\\u4e0d\\u901a\\u8fc7\\u82af\\u7247\\u6570&\\u82af\\u7247\\u603b\\u6570\", \"zeroline\": true}}, {\"showLink\": true, \"linkText\": \"Export to plot.ly\"})});</script>"
      ]
     },
     "metadata": {},
     "output_type": "display_data"
    }
   ],
   "source": [
    "ss = myModule.format(all_df2 ,\"日期（格式“月-周次”）\" ,['芯片总数' ,'不通过芯片数' ])\n",
    "myModule.myPlot(ss.groupby('sum')).plot('line')\n",
    "\n",
    "ss = myModule.format(all_df2 ,\"month\" ,['芯片总数' ,'不通过芯片数'])\n",
    "myModule.myPlot(ss.groupby('sum')).plot('line','月')"
   ]
  },
  {
   "cell_type": "markdown",
   "metadata": {},
   "source": [
    "### 效率"
   ]
  },
  {
   "cell_type": "markdown",
   "metadata": {},
   "source": [
    "#### 不合格率"
   ]
  },
  {
   "cell_type": "code",
   "execution_count": 15,
   "metadata": {
    "collapsed": false
   },
   "outputs": [
    {
     "data": {
      "application/vnd.plotly.v1+json": {
       "data": [
        {
         "name": "不合格率",
         "type": "scatter",
         "uid": "8811f57a-d69e-11e8-8ddb-a41f72875c19",
         "x": [
          "10-2",
          "10-3",
          "8-1",
          "8-2",
          "8-3",
          "8-4",
          "8-5",
          "9-1",
          "9-2",
          "9-3",
          "9-4"
         ],
         "y": [
          0.5517241379310345,
          0.5,
          0.48148148148148145,
          0.5945945945945946,
          0.6896551724137931,
          0.42424242424242425,
          0.6363636363636364,
          0.5172413793103449,
          0.3076923076923077,
          0.6896551724137931,
          0.72
         ]
        }
       ],
       "layout": {
        "title": "不合格率周趋势图",
        "xaxis": {
         "mirror": "all",
         "nticks": 20,
         "showgrid": true,
         "showline": true,
         "title": "周",
         "type": "category",
         "zeroline": true
        },
        "yaxis": {
         "mirror": "all",
         "nticks": 20,
         "showgrid": true,
         "showline": true,
         "title": "不合格率",
         "zeroline": true
        }
       }
      },
      "text/html": [
       "<div id=\"de5f5f37-1a31-4d14-8fb3-b4391d7fe13d\" style=\"height: 525px; width: 100%;\" class=\"plotly-graph-div\"></div><script type=\"text/javascript\">require([\"plotly\"], function(Plotly) { window.PLOTLYENV=window.PLOTLYENV || {};window.PLOTLYENV.BASE_URL=\"https://plot.ly\";Plotly.newPlot(\"de5f5f37-1a31-4d14-8fb3-b4391d7fe13d\", [{\"name\": \"\\u4e0d\\u5408\\u683c\\u7387\", \"x\": [\"10-2\", \"10-3\", \"8-1\", \"8-2\", \"8-3\", \"8-4\", \"8-5\", \"9-1\", \"9-2\", \"9-3\", \"9-4\"], \"y\": [0.5517241379310345, 0.5, 0.48148148148148145, 0.5945945945945946, 0.6896551724137931, 0.42424242424242425, 0.6363636363636364, 0.5172413793103449, 0.3076923076923077, 0.6896551724137931, 0.72], \"type\": \"scatter\", \"uid\": \"8811f57a-d69e-11e8-8ddb-a41f72875c19\"}], {\"title\": \"\\u4e0d\\u5408\\u683c\\u7387\\u5468\\u8d8b\\u52bf\\u56fe\", \"xaxis\": {\"mirror\": \"all\", \"nticks\": 20, \"showgrid\": true, \"showline\": true, \"title\": \"\\u5468\", \"type\": \"category\", \"zeroline\": true}, \"yaxis\": {\"mirror\": \"all\", \"nticks\": 20, \"showgrid\": true, \"showline\": true, \"title\": \"\\u4e0d\\u5408\\u683c\\u7387\", \"zeroline\": true}}, {\"showLink\": true, \"linkText\": \"Export to plot.ly\"})});</script>"
      ],
      "text/vnd.plotly.v1+html": [
       "<div id=\"de5f5f37-1a31-4d14-8fb3-b4391d7fe13d\" style=\"height: 525px; width: 100%;\" class=\"plotly-graph-div\"></div><script type=\"text/javascript\">require([\"plotly\"], function(Plotly) { window.PLOTLYENV=window.PLOTLYENV || {};window.PLOTLYENV.BASE_URL=\"https://plot.ly\";Plotly.newPlot(\"de5f5f37-1a31-4d14-8fb3-b4391d7fe13d\", [{\"name\": \"\\u4e0d\\u5408\\u683c\\u7387\", \"x\": [\"10-2\", \"10-3\", \"8-1\", \"8-2\", \"8-3\", \"8-4\", \"8-5\", \"9-1\", \"9-2\", \"9-3\", \"9-4\"], \"y\": [0.5517241379310345, 0.5, 0.48148148148148145, 0.5945945945945946, 0.6896551724137931, 0.42424242424242425, 0.6363636363636364, 0.5172413793103449, 0.3076923076923077, 0.6896551724137931, 0.72], \"type\": \"scatter\", \"uid\": \"8811f57a-d69e-11e8-8ddb-a41f72875c19\"}], {\"title\": \"\\u4e0d\\u5408\\u683c\\u7387\\u5468\\u8d8b\\u52bf\\u56fe\", \"xaxis\": {\"mirror\": \"all\", \"nticks\": 20, \"showgrid\": true, \"showline\": true, \"title\": \"\\u5468\", \"type\": \"category\", \"zeroline\": true}, \"yaxis\": {\"mirror\": \"all\", \"nticks\": 20, \"showgrid\": true, \"showline\": true, \"title\": \"\\u4e0d\\u5408\\u683c\\u7387\", \"zeroline\": true}}, {\"showLink\": true, \"linkText\": \"Export to plot.ly\"})});</script>"
      ]
     },
     "metadata": {},
     "output_type": "display_data"
    },
    {
     "data": {
      "application/vnd.plotly.v1+json": {
       "data": [
        {
         "name": "不合格率",
         "type": "bar",
         "uid": "8811f57b-d69e-11e8-8ddb-a41f72875c19",
         "x": [
          8,
          9,
          10
         ],
         "y": [
          0.5608108108108109,
          0.5596330275229358,
          0.5254237288135594
         ]
        }
       ],
       "layout": {
        "title": "不合格率月趋势图",
        "xaxis": {
         "mirror": "all",
         "nticks": 20,
         "showgrid": true,
         "showline": true,
         "title": "月",
         "type": "category",
         "zeroline": true
        },
        "yaxis": {
         "mirror": "all",
         "nticks": 20,
         "showgrid": true,
         "showline": true,
         "title": "不合格率",
         "zeroline": true
        }
       }
      },
      "text/html": [
       "<div id=\"09d9afeb-c2cc-4c92-b2f4-2b7282fe2776\" style=\"height: 525px; width: 100%;\" class=\"plotly-graph-div\"></div><script type=\"text/javascript\">require([\"plotly\"], function(Plotly) { window.PLOTLYENV=window.PLOTLYENV || {};window.PLOTLYENV.BASE_URL=\"https://plot.ly\";Plotly.newPlot(\"09d9afeb-c2cc-4c92-b2f4-2b7282fe2776\", [{\"name\": \"\\u4e0d\\u5408\\u683c\\u7387\", \"x\": [8, 9, 10], \"y\": [0.5608108108108109, 0.5596330275229358, 0.5254237288135594], \"type\": \"bar\", \"uid\": \"8811f57b-d69e-11e8-8ddb-a41f72875c19\"}], {\"title\": \"\\u4e0d\\u5408\\u683c\\u7387\\u6708\\u8d8b\\u52bf\\u56fe\", \"xaxis\": {\"mirror\": \"all\", \"nticks\": 20, \"showgrid\": true, \"showline\": true, \"title\": \"\\u6708\", \"type\": \"category\", \"zeroline\": true}, \"yaxis\": {\"mirror\": \"all\", \"nticks\": 20, \"showgrid\": true, \"showline\": true, \"title\": \"\\u4e0d\\u5408\\u683c\\u7387\", \"zeroline\": true}}, {\"showLink\": true, \"linkText\": \"Export to plot.ly\"})});</script>"
      ],
      "text/vnd.plotly.v1+html": [
       "<div id=\"09d9afeb-c2cc-4c92-b2f4-2b7282fe2776\" style=\"height: 525px; width: 100%;\" class=\"plotly-graph-div\"></div><script type=\"text/javascript\">require([\"plotly\"], function(Plotly) { window.PLOTLYENV=window.PLOTLYENV || {};window.PLOTLYENV.BASE_URL=\"https://plot.ly\";Plotly.newPlot(\"09d9afeb-c2cc-4c92-b2f4-2b7282fe2776\", [{\"name\": \"\\u4e0d\\u5408\\u683c\\u7387\", \"x\": [8, 9, 10], \"y\": [0.5608108108108109, 0.5596330275229358, 0.5254237288135594], \"type\": \"bar\", \"uid\": \"8811f57b-d69e-11e8-8ddb-a41f72875c19\"}], {\"title\": \"\\u4e0d\\u5408\\u683c\\u7387\\u6708\\u8d8b\\u52bf\\u56fe\", \"xaxis\": {\"mirror\": \"all\", \"nticks\": 20, \"showgrid\": true, \"showline\": true, \"title\": \"\\u6708\", \"type\": \"category\", \"zeroline\": true}, \"yaxis\": {\"mirror\": \"all\", \"nticks\": 20, \"showgrid\": true, \"showline\": true, \"title\": \"\\u4e0d\\u5408\\u683c\\u7387\", \"zeroline\": true}}, {\"showLink\": true, \"linkText\": \"Export to plot.ly\"})});</script>"
      ]
     },
     "metadata": {},
     "output_type": "display_data"
    }
   ],
   "source": [
    "ss = myModule.format(all_df2 ,\"日期（格式“月-周次”）\" ,['不通过芯片数', '芯片总数'])\n",
    "tt = ss.get_total_ratio([['不合格率','不通过芯片数','芯片总数','/']])\n",
    "myModule.myPlot(tt).plot('line')\n",
    "\n",
    "ss = myModule.format(all_df2 ,\"month\" ,['不通过芯片数', '芯片总数'])\n",
    "tt = ss.get_total_ratio([['不合格率','不通过芯片数','芯片总数','/']])\n",
    "myModule.myPlot(tt).plot('bar','月')"
   ]
  },
  {
   "cell_type": "markdown",
   "metadata": {},
   "source": [
    "#### 通过率情况"
   ]
  },
  {
   "cell_type": "code",
   "execution_count": 16,
   "metadata": {
    "collapsed": false
   },
   "outputs": [
    {
     "data": {
      "application/vnd.plotly.v1+json": {
       "data": [
        {
         "name": "24h通过率",
         "type": "scatter",
         "uid": "8811f57c-d69e-11e8-8ddb-a41f72875c19",
         "x": [
          "10-2",
          "10-3",
          "8-1",
          "8-2",
          "8-3",
          "8-4",
          "8-5",
          "9-1",
          "9-2",
          "9-3",
          "9-4"
         ],
         "y": [
          0.6896551724137931,
          0.8333333333333334,
          0.6296296296296297,
          0.5135135135135135,
          0.7586206896551724,
          0.8484848484848485,
          0.7272727272727273,
          0.5862068965517241,
          0.6923076923076923,
          0.6551724137931034,
          0.72
         ]
        },
        {
         "name": "8h通过率",
         "type": "scatter",
         "uid": "8811f57d-d69e-11e8-8ddb-a41f72875c19",
         "x": [
          "10-2",
          "10-3",
          "8-1",
          "8-2",
          "8-3",
          "8-4",
          "8-5",
          "9-1",
          "9-2",
          "9-3",
          "9-4"
         ],
         "y": [
          0.4482758620689655,
          0.5666666666666667,
          0.3333333333333333,
          0.40540540540540543,
          0.5517241379310345,
          0.6060606060606061,
          0.5,
          0.6206896551724138,
          0.6538461538461539,
          0.4827586206896552,
          0.36
         ]
        },
        {
         "name": "48h通过率",
         "type": "scatter",
         "uid": "8811f57e-d69e-11e8-8ddb-a41f72875c19",
         "x": [
          "10-2",
          "10-3",
          "8-1",
          "8-2",
          "8-3",
          "8-4",
          "8-5",
          "9-1",
          "9-2",
          "9-3",
          "9-4"
         ],
         "y": [
          0.9655172413793104,
          0.9666666666666667,
          0.8518518518518519,
          0.7567567567567568,
          0.896551724137931,
          0.9393939393939394,
          0.8636363636363636,
          0.7931034482758621,
          0.8461538461538461,
          0.6896551724137931,
          0.76
         ]
        }
       ],
       "layout": {
        "title": "24h通过率&8h通过率&48h通过率周趋势图",
        "xaxis": {
         "mirror": "all",
         "nticks": 20,
         "showgrid": true,
         "showline": true,
         "title": "周",
         "type": "category",
         "zeroline": true
        },
        "yaxis": {
         "mirror": "all",
         "nticks": 20,
         "showgrid": true,
         "showline": true,
         "title": "24h通过率&8h通过率&48h通过率",
         "zeroline": true
        }
       }
      },
      "text/html": [
       "<div id=\"84d5ce77-41e9-47ba-b644-8cdbf5c7dd66\" style=\"height: 525px; width: 100%;\" class=\"plotly-graph-div\"></div><script type=\"text/javascript\">require([\"plotly\"], function(Plotly) { window.PLOTLYENV=window.PLOTLYENV || {};window.PLOTLYENV.BASE_URL=\"https://plot.ly\";Plotly.newPlot(\"84d5ce77-41e9-47ba-b644-8cdbf5c7dd66\", [{\"name\": \"24h\\u901a\\u8fc7\\u7387\", \"x\": [\"10-2\", \"10-3\", \"8-1\", \"8-2\", \"8-3\", \"8-4\", \"8-5\", \"9-1\", \"9-2\", \"9-3\", \"9-4\"], \"y\": [0.6896551724137931, 0.8333333333333334, 0.6296296296296297, 0.5135135135135135, 0.7586206896551724, 0.8484848484848485, 0.7272727272727273, 0.5862068965517241, 0.6923076923076923, 0.6551724137931034, 0.72], \"type\": \"scatter\", \"uid\": \"8811f57c-d69e-11e8-8ddb-a41f72875c19\"}, {\"name\": \"8h\\u901a\\u8fc7\\u7387\", \"x\": [\"10-2\", \"10-3\", \"8-1\", \"8-2\", \"8-3\", \"8-4\", \"8-5\", \"9-1\", \"9-2\", \"9-3\", \"9-4\"], \"y\": [0.4482758620689655, 0.5666666666666667, 0.3333333333333333, 0.40540540540540543, 0.5517241379310345, 0.6060606060606061, 0.5, 0.6206896551724138, 0.6538461538461539, 0.4827586206896552, 0.36], \"type\": \"scatter\", \"uid\": \"8811f57d-d69e-11e8-8ddb-a41f72875c19\"}, {\"name\": \"48h\\u901a\\u8fc7\\u7387\", \"x\": [\"10-2\", \"10-3\", \"8-1\", \"8-2\", \"8-3\", \"8-4\", \"8-5\", \"9-1\", \"9-2\", \"9-3\", \"9-4\"], \"y\": [0.9655172413793104, 0.9666666666666667, 0.8518518518518519, 0.7567567567567568, 0.896551724137931, 0.9393939393939394, 0.8636363636363636, 0.7931034482758621, 0.8461538461538461, 0.6896551724137931, 0.76], \"type\": \"scatter\", \"uid\": \"8811f57e-d69e-11e8-8ddb-a41f72875c19\"}], {\"title\": \"24h\\u901a\\u8fc7\\u7387&8h\\u901a\\u8fc7\\u7387&48h\\u901a\\u8fc7\\u7387\\u5468\\u8d8b\\u52bf\\u56fe\", \"xaxis\": {\"mirror\": \"all\", \"nticks\": 20, \"showgrid\": true, \"showline\": true, \"title\": \"\\u5468\", \"type\": \"category\", \"zeroline\": true}, \"yaxis\": {\"mirror\": \"all\", \"nticks\": 20, \"showgrid\": true, \"showline\": true, \"title\": \"24h\\u901a\\u8fc7\\u7387&8h\\u901a\\u8fc7\\u7387&48h\\u901a\\u8fc7\\u7387\", \"zeroline\": true}}, {\"showLink\": true, \"linkText\": \"Export to plot.ly\"})});</script>"
      ],
      "text/vnd.plotly.v1+html": [
       "<div id=\"84d5ce77-41e9-47ba-b644-8cdbf5c7dd66\" style=\"height: 525px; width: 100%;\" class=\"plotly-graph-div\"></div><script type=\"text/javascript\">require([\"plotly\"], function(Plotly) { window.PLOTLYENV=window.PLOTLYENV || {};window.PLOTLYENV.BASE_URL=\"https://plot.ly\";Plotly.newPlot(\"84d5ce77-41e9-47ba-b644-8cdbf5c7dd66\", [{\"name\": \"24h\\u901a\\u8fc7\\u7387\", \"x\": [\"10-2\", \"10-3\", \"8-1\", \"8-2\", \"8-3\", \"8-4\", \"8-5\", \"9-1\", \"9-2\", \"9-3\", \"9-4\"], \"y\": [0.6896551724137931, 0.8333333333333334, 0.6296296296296297, 0.5135135135135135, 0.7586206896551724, 0.8484848484848485, 0.7272727272727273, 0.5862068965517241, 0.6923076923076923, 0.6551724137931034, 0.72], \"type\": \"scatter\", \"uid\": \"8811f57c-d69e-11e8-8ddb-a41f72875c19\"}, {\"name\": \"8h\\u901a\\u8fc7\\u7387\", \"x\": [\"10-2\", \"10-3\", \"8-1\", \"8-2\", \"8-3\", \"8-4\", \"8-5\", \"9-1\", \"9-2\", \"9-3\", \"9-4\"], \"y\": [0.4482758620689655, 0.5666666666666667, 0.3333333333333333, 0.40540540540540543, 0.5517241379310345, 0.6060606060606061, 0.5, 0.6206896551724138, 0.6538461538461539, 0.4827586206896552, 0.36], \"type\": \"scatter\", \"uid\": \"8811f57d-d69e-11e8-8ddb-a41f72875c19\"}, {\"name\": \"48h\\u901a\\u8fc7\\u7387\", \"x\": [\"10-2\", \"10-3\", \"8-1\", \"8-2\", \"8-3\", \"8-4\", \"8-5\", \"9-1\", \"9-2\", \"9-3\", \"9-4\"], \"y\": [0.9655172413793104, 0.9666666666666667, 0.8518518518518519, 0.7567567567567568, 0.896551724137931, 0.9393939393939394, 0.8636363636363636, 0.7931034482758621, 0.8461538461538461, 0.6896551724137931, 0.76], \"type\": \"scatter\", \"uid\": \"8811f57e-d69e-11e8-8ddb-a41f72875c19\"}], {\"title\": \"24h\\u901a\\u8fc7\\u7387&8h\\u901a\\u8fc7\\u7387&48h\\u901a\\u8fc7\\u7387\\u5468\\u8d8b\\u52bf\\u56fe\", \"xaxis\": {\"mirror\": \"all\", \"nticks\": 20, \"showgrid\": true, \"showline\": true, \"title\": \"\\u5468\", \"type\": \"category\", \"zeroline\": true}, \"yaxis\": {\"mirror\": \"all\", \"nticks\": 20, \"showgrid\": true, \"showline\": true, \"title\": \"24h\\u901a\\u8fc7\\u7387&8h\\u901a\\u8fc7\\u7387&48h\\u901a\\u8fc7\\u7387\", \"zeroline\": true}}, {\"showLink\": true, \"linkText\": \"Export to plot.ly\"})});</script>"
      ]
     },
     "metadata": {},
     "output_type": "display_data"
    },
    {
     "data": {
      "application/vnd.plotly.v1+json": {
       "data": [
        {
         "name": "24h通过率",
         "type": "scatter",
         "uid": "8811f57f-d69e-11e8-8ddb-a41f72875c19",
         "x": [
          8,
          9,
          10
         ],
         "y": [
          0.6891891891891891,
          0.6605504587155964,
          0.7627118644067796
         ]
        },
        {
         "name": "8h通过率",
         "type": "scatter",
         "uid": "8811f580-d69e-11e8-8ddb-a41f72875c19",
         "x": [
          8,
          9,
          10
         ],
         "y": [
          0.4797297297297297,
          0.5321100917431193,
          0.5084745762711864
         ]
        },
        {
         "name": "48h通过率",
         "type": "scatter",
         "uid": "8811f581-d69e-11e8-8ddb-a41f72875c19",
         "x": [
          8,
          9,
          10
         ],
         "y": [
          0.8581081081081081,
          0.7706422018348624,
          0.9661016949152542
         ]
        }
       ],
       "layout": {
        "title": "24h通过率&8h通过率&48h通过率月趋势图",
        "xaxis": {
         "mirror": "all",
         "nticks": 20,
         "showgrid": true,
         "showline": true,
         "title": "月",
         "type": "category",
         "zeroline": true
        },
        "yaxis": {
         "mirror": "all",
         "nticks": 20,
         "showgrid": true,
         "showline": true,
         "title": "24h通过率&8h通过率&48h通过率",
         "zeroline": true
        }
       }
      },
      "text/html": [
       "<div id=\"68f6b067-907f-446d-8fcb-d48486e25380\" style=\"height: 525px; width: 100%;\" class=\"plotly-graph-div\"></div><script type=\"text/javascript\">require([\"plotly\"], function(Plotly) { window.PLOTLYENV=window.PLOTLYENV || {};window.PLOTLYENV.BASE_URL=\"https://plot.ly\";Plotly.newPlot(\"68f6b067-907f-446d-8fcb-d48486e25380\", [{\"name\": \"24h\\u901a\\u8fc7\\u7387\", \"x\": [8, 9, 10], \"y\": [0.6891891891891891, 0.6605504587155964, 0.7627118644067796], \"type\": \"scatter\", \"uid\": \"8811f57f-d69e-11e8-8ddb-a41f72875c19\"}, {\"name\": \"8h\\u901a\\u8fc7\\u7387\", \"x\": [8, 9, 10], \"y\": [0.4797297297297297, 0.5321100917431193, 0.5084745762711864], \"type\": \"scatter\", \"uid\": \"8811f580-d69e-11e8-8ddb-a41f72875c19\"}, {\"name\": \"48h\\u901a\\u8fc7\\u7387\", \"x\": [8, 9, 10], \"y\": [0.8581081081081081, 0.7706422018348624, 0.9661016949152542], \"type\": \"scatter\", \"uid\": \"8811f581-d69e-11e8-8ddb-a41f72875c19\"}], {\"title\": \"24h\\u901a\\u8fc7\\u7387&8h\\u901a\\u8fc7\\u7387&48h\\u901a\\u8fc7\\u7387\\u6708\\u8d8b\\u52bf\\u56fe\", \"xaxis\": {\"mirror\": \"all\", \"nticks\": 20, \"showgrid\": true, \"showline\": true, \"title\": \"\\u6708\", \"type\": \"category\", \"zeroline\": true}, \"yaxis\": {\"mirror\": \"all\", \"nticks\": 20, \"showgrid\": true, \"showline\": true, \"title\": \"24h\\u901a\\u8fc7\\u7387&8h\\u901a\\u8fc7\\u7387&48h\\u901a\\u8fc7\\u7387\", \"zeroline\": true}}, {\"showLink\": true, \"linkText\": \"Export to plot.ly\"})});</script>"
      ],
      "text/vnd.plotly.v1+html": [
       "<div id=\"68f6b067-907f-446d-8fcb-d48486e25380\" style=\"height: 525px; width: 100%;\" class=\"plotly-graph-div\"></div><script type=\"text/javascript\">require([\"plotly\"], function(Plotly) { window.PLOTLYENV=window.PLOTLYENV || {};window.PLOTLYENV.BASE_URL=\"https://plot.ly\";Plotly.newPlot(\"68f6b067-907f-446d-8fcb-d48486e25380\", [{\"name\": \"24h\\u901a\\u8fc7\\u7387\", \"x\": [8, 9, 10], \"y\": [0.6891891891891891, 0.6605504587155964, 0.7627118644067796], \"type\": \"scatter\", \"uid\": \"8811f57f-d69e-11e8-8ddb-a41f72875c19\"}, {\"name\": \"8h\\u901a\\u8fc7\\u7387\", \"x\": [8, 9, 10], \"y\": [0.4797297297297297, 0.5321100917431193, 0.5084745762711864], \"type\": \"scatter\", \"uid\": \"8811f580-d69e-11e8-8ddb-a41f72875c19\"}, {\"name\": \"48h\\u901a\\u8fc7\\u7387\", \"x\": [8, 9, 10], \"y\": [0.8581081081081081, 0.7706422018348624, 0.9661016949152542], \"type\": \"scatter\", \"uid\": \"8811f581-d69e-11e8-8ddb-a41f72875c19\"}], {\"title\": \"24h\\u901a\\u8fc7\\u7387&8h\\u901a\\u8fc7\\u7387&48h\\u901a\\u8fc7\\u7387\\u6708\\u8d8b\\u52bf\\u56fe\", \"xaxis\": {\"mirror\": \"all\", \"nticks\": 20, \"showgrid\": true, \"showline\": true, \"title\": \"\\u6708\", \"type\": \"category\", \"zeroline\": true}, \"yaxis\": {\"mirror\": \"all\", \"nticks\": 20, \"showgrid\": true, \"showline\": true, \"title\": \"24h\\u901a\\u8fc7\\u7387&8h\\u901a\\u8fc7\\u7387&48h\\u901a\\u8fc7\\u7387\", \"zeroline\": true}}, {\"showLink\": true, \"linkText\": \"Export to plot.ly\"})});</script>"
      ]
     },
     "metadata": {},
     "output_type": "display_data"
    }
   ],
   "source": [
    "ss = myModule.format(all_df2 ,\"日期（格式“月-周次”）\" ,['8h通过芯片数', '芯片总数','24h通过芯片数','48h通过芯片数'])\n",
    "tt = ss.get_total_ratio([['8h通过率','8h通过芯片数','芯片总数','/'],\n",
    "                         ['24h通过率','24h通过芯片数','芯片总数','/'],\n",
    "                        ['48h通过率','48h通过芯片数','芯片总数','/'],])\n",
    "myModule.myPlot(tt).plot('line')\n",
    "\n",
    "ss = myModule.format(all_df2 ,\"month\" ,['8h通过芯片数', '芯片总数','24h通过芯片数','48h通过芯片数'])\n",
    "tt = ss.get_total_ratio([['8h通过率','8h通过芯片数','芯片总数','/'],\n",
    "                         ['24h通过率','24h通过芯片数','芯片总数','/'],\n",
    "                        ['48h通过率','48h通过芯片数','芯片总数','/'],])\n",
    "myModule.myPlot(tt).plot('line','月')"
   ]
  },
  {
   "cell_type": "markdown",
   "metadata": {},
   "source": [
    "#### 平均通过时长，一次通过平均时长，非一次通过平均时长，通过时长Q80"
   ]
  },
  {
   "cell_type": "code",
   "execution_count": 17,
   "metadata": {
    "collapsed": false
   },
   "outputs": [
    {
     "data": {
      "application/vnd.plotly.v1+json": {
       "data": [
        {
         "name": "非一次通过平均时长",
         "type": "scatter",
         "uid": "8811f582-d69e-11e8-8ddb-a41f72875c19",
         "x": [
          "10-2",
          "10-3",
          "8-1",
          "8-2",
          "8-3",
          "8-4",
          "8-5",
          "9-1",
          "9-2",
          "9-3",
          "9-4"
         ],
         "y": [
          26.49,
          23.02,
          30.81,
          50.36,
          22.7,
          20.81,
          35.65,
          24.46,
          37.75,
          53.68,
          34.52
         ]
        },
        {
         "name": "通过时长Q80",
         "type": "scatter",
         "uid": "8811f583-d69e-11e8-8ddb-a41f72875c19",
         "x": [
          "10-2",
          "10-3",
          "8-1",
          "8-2",
          "8-3",
          "8-4",
          "8-5",
          "9-1",
          "9-2",
          "9-3",
          "9-4"
         ],
         "y": [
          25.83,
          22.47,
          35.07,
          59.13,
          33.87,
          27.27,
          29.73,
          24.2,
          31.5,
          64.5,
          50.73
         ]
        },
        {
         "name": "一次通过平均时长",
         "type": "scatter",
         "uid": "8811f584-d69e-11e8-8ddb-a41f72875c19",
         "x": [
          "10-2",
          "10-3",
          "8-1",
          "8-2",
          "8-3",
          "8-4",
          "8-5",
          "9-1",
          "9-2",
          "9-3",
          "9-4"
         ],
         "y": [
          4.25,
          3.71,
          11.95,
          6.68,
          3.81,
          5.41,
          3.11,
          2.07,
          6.43,
          4.81,
          4.68
         ]
        },
        {
         "name": "平均通过时长",
         "type": "scatter",
         "uid": "8811f585-d69e-11e8-8ddb-a41f72875c19",
         "x": [
          "10-2",
          "10-3",
          "8-1",
          "8-2",
          "8-3",
          "8-4",
          "8-5",
          "9-1",
          "9-2",
          "9-3",
          "9-4"
         ],
         "y": [
          16.62,
          13.39,
          21.03,
          32.65,
          16.84,
          10.54,
          23.82,
          15.1,
          22.28,
          38.57,
          26.16
         ]
        }
       ],
       "layout": {
        "title": "非一次通过平均时长&通过时长Q80&一次通过平均时长&平均通过时长周趋势图",
        "xaxis": {
         "mirror": "all",
         "nticks": 20,
         "showgrid": true,
         "showline": true,
         "title": "周",
         "type": "category",
         "zeroline": true
        },
        "yaxis": {
         "mirror": "all",
         "nticks": 20,
         "showgrid": true,
         "showline": true,
         "title": "非一次通过平均时长&通过时长Q80&一次通过平均时长&平均通过时长",
         "zeroline": true
        }
       }
      },
      "text/html": [
       "<div id=\"e0c324fb-c361-4e7a-9f83-32b6cc07098a\" style=\"height: 525px; width: 100%;\" class=\"plotly-graph-div\"></div><script type=\"text/javascript\">require([\"plotly\"], function(Plotly) { window.PLOTLYENV=window.PLOTLYENV || {};window.PLOTLYENV.BASE_URL=\"https://plot.ly\";Plotly.newPlot(\"e0c324fb-c361-4e7a-9f83-32b6cc07098a\", [{\"name\": \"\\u975e\\u4e00\\u6b21\\u901a\\u8fc7\\u5e73\\u5747\\u65f6\\u957f\", \"x\": [\"10-2\", \"10-3\", \"8-1\", \"8-2\", \"8-3\", \"8-4\", \"8-5\", \"9-1\", \"9-2\", \"9-3\", \"9-4\"], \"y\": [26.49, 23.02, 30.81, 50.36, 22.7, 20.81, 35.65, 24.46, 37.75, 53.68, 34.52], \"type\": \"scatter\", \"uid\": \"8811f582-d69e-11e8-8ddb-a41f72875c19\"}, {\"name\": \"\\u901a\\u8fc7\\u65f6\\u957fQ80\", \"x\": [\"10-2\", \"10-3\", \"8-1\", \"8-2\", \"8-3\", \"8-4\", \"8-5\", \"9-1\", \"9-2\", \"9-3\", \"9-4\"], \"y\": [25.83, 22.47, 35.07, 59.13, 33.87, 27.27, 29.73, 24.2, 31.5, 64.5, 50.73], \"type\": \"scatter\", \"uid\": \"8811f583-d69e-11e8-8ddb-a41f72875c19\"}, {\"name\": \"\\u4e00\\u6b21\\u901a\\u8fc7\\u5e73\\u5747\\u65f6\\u957f\", \"x\": [\"10-2\", \"10-3\", \"8-1\", \"8-2\", \"8-3\", \"8-4\", \"8-5\", \"9-1\", \"9-2\", \"9-3\", \"9-4\"], \"y\": [4.25, 3.71, 11.95, 6.68, 3.81, 5.41, 3.11, 2.07, 6.43, 4.81, 4.68], \"type\": \"scatter\", \"uid\": \"8811f584-d69e-11e8-8ddb-a41f72875c19\"}, {\"name\": \"\\u5e73\\u5747\\u901a\\u8fc7\\u65f6\\u957f\", \"x\": [\"10-2\", \"10-3\", \"8-1\", \"8-2\", \"8-3\", \"8-4\", \"8-5\", \"9-1\", \"9-2\", \"9-3\", \"9-4\"], \"y\": [16.62, 13.39, 21.03, 32.65, 16.84, 10.54, 23.82, 15.1, 22.28, 38.57, 26.16], \"type\": \"scatter\", \"uid\": \"8811f585-d69e-11e8-8ddb-a41f72875c19\"}], {\"title\": \"\\u975e\\u4e00\\u6b21\\u901a\\u8fc7\\u5e73\\u5747\\u65f6\\u957f&\\u901a\\u8fc7\\u65f6\\u957fQ80&\\u4e00\\u6b21\\u901a\\u8fc7\\u5e73\\u5747\\u65f6\\u957f&\\u5e73\\u5747\\u901a\\u8fc7\\u65f6\\u957f\\u5468\\u8d8b\\u52bf\\u56fe\", \"xaxis\": {\"mirror\": \"all\", \"nticks\": 20, \"showgrid\": true, \"showline\": true, \"title\": \"\\u5468\", \"type\": \"category\", \"zeroline\": true}, \"yaxis\": {\"mirror\": \"all\", \"nticks\": 20, \"showgrid\": true, \"showline\": true, \"title\": \"\\u975e\\u4e00\\u6b21\\u901a\\u8fc7\\u5e73\\u5747\\u65f6\\u957f&\\u901a\\u8fc7\\u65f6\\u957fQ80&\\u4e00\\u6b21\\u901a\\u8fc7\\u5e73\\u5747\\u65f6\\u957f&\\u5e73\\u5747\\u901a\\u8fc7\\u65f6\\u957f\", \"zeroline\": true}}, {\"showLink\": true, \"linkText\": \"Export to plot.ly\"})});</script>"
      ],
      "text/vnd.plotly.v1+html": [
       "<div id=\"e0c324fb-c361-4e7a-9f83-32b6cc07098a\" style=\"height: 525px; width: 100%;\" class=\"plotly-graph-div\"></div><script type=\"text/javascript\">require([\"plotly\"], function(Plotly) { window.PLOTLYENV=window.PLOTLYENV || {};window.PLOTLYENV.BASE_URL=\"https://plot.ly\";Plotly.newPlot(\"e0c324fb-c361-4e7a-9f83-32b6cc07098a\", [{\"name\": \"\\u975e\\u4e00\\u6b21\\u901a\\u8fc7\\u5e73\\u5747\\u65f6\\u957f\", \"x\": [\"10-2\", \"10-3\", \"8-1\", \"8-2\", \"8-3\", \"8-4\", \"8-5\", \"9-1\", \"9-2\", \"9-3\", \"9-4\"], \"y\": [26.49, 23.02, 30.81, 50.36, 22.7, 20.81, 35.65, 24.46, 37.75, 53.68, 34.52], \"type\": \"scatter\", \"uid\": \"8811f582-d69e-11e8-8ddb-a41f72875c19\"}, {\"name\": \"\\u901a\\u8fc7\\u65f6\\u957fQ80\", \"x\": [\"10-2\", \"10-3\", \"8-1\", \"8-2\", \"8-3\", \"8-4\", \"8-5\", \"9-1\", \"9-2\", \"9-3\", \"9-4\"], \"y\": [25.83, 22.47, 35.07, 59.13, 33.87, 27.27, 29.73, 24.2, 31.5, 64.5, 50.73], \"type\": \"scatter\", \"uid\": \"8811f583-d69e-11e8-8ddb-a41f72875c19\"}, {\"name\": \"\\u4e00\\u6b21\\u901a\\u8fc7\\u5e73\\u5747\\u65f6\\u957f\", \"x\": [\"10-2\", \"10-3\", \"8-1\", \"8-2\", \"8-3\", \"8-4\", \"8-5\", \"9-1\", \"9-2\", \"9-3\", \"9-4\"], \"y\": [4.25, 3.71, 11.95, 6.68, 3.81, 5.41, 3.11, 2.07, 6.43, 4.81, 4.68], \"type\": \"scatter\", \"uid\": \"8811f584-d69e-11e8-8ddb-a41f72875c19\"}, {\"name\": \"\\u5e73\\u5747\\u901a\\u8fc7\\u65f6\\u957f\", \"x\": [\"10-2\", \"10-3\", \"8-1\", \"8-2\", \"8-3\", \"8-4\", \"8-5\", \"9-1\", \"9-2\", \"9-3\", \"9-4\"], \"y\": [16.62, 13.39, 21.03, 32.65, 16.84, 10.54, 23.82, 15.1, 22.28, 38.57, 26.16], \"type\": \"scatter\", \"uid\": \"8811f585-d69e-11e8-8ddb-a41f72875c19\"}], {\"title\": \"\\u975e\\u4e00\\u6b21\\u901a\\u8fc7\\u5e73\\u5747\\u65f6\\u957f&\\u901a\\u8fc7\\u65f6\\u957fQ80&\\u4e00\\u6b21\\u901a\\u8fc7\\u5e73\\u5747\\u65f6\\u957f&\\u5e73\\u5747\\u901a\\u8fc7\\u65f6\\u957f\\u5468\\u8d8b\\u52bf\\u56fe\", \"xaxis\": {\"mirror\": \"all\", \"nticks\": 20, \"showgrid\": true, \"showline\": true, \"title\": \"\\u5468\", \"type\": \"category\", \"zeroline\": true}, \"yaxis\": {\"mirror\": \"all\", \"nticks\": 20, \"showgrid\": true, \"showline\": true, \"title\": \"\\u975e\\u4e00\\u6b21\\u901a\\u8fc7\\u5e73\\u5747\\u65f6\\u957f&\\u901a\\u8fc7\\u65f6\\u957fQ80&\\u4e00\\u6b21\\u901a\\u8fc7\\u5e73\\u5747\\u65f6\\u957f&\\u5e73\\u5747\\u901a\\u8fc7\\u65f6\\u957f\", \"zeroline\": true}}, {\"showLink\": true, \"linkText\": \"Export to plot.ly\"})});</script>"
      ]
     },
     "metadata": {},
     "output_type": "display_data"
    },
    {
     "data": {
      "application/vnd.plotly.v1+json": {
       "data": [
        {
         "name": "非一次通过平均时长",
         "type": "scatter",
         "uid": "8811f586-d69e-11e8-8ddb-a41f72875c19",
         "x": [
          8,
          9,
          10
         ],
         "y": [
          32.065999999999995,
          37.6025,
          24.755
         ]
        },
        {
         "name": "通过时长Q80",
         "type": "scatter",
         "uid": "8811f587-d69e-11e8-8ddb-a41f72875c19",
         "x": [
          8,
          9,
          10
         ],
         "y": [
          37.013999999999996,
          42.7325,
          24.15
         ]
        },
        {
         "name": "一次通过平均时长",
         "type": "scatter",
         "uid": "8811f588-d69e-11e8-8ddb-a41f72875c19",
         "x": [
          8,
          9,
          10
         ],
         "y": [
          6.192,
          4.4975,
          3.98
         ]
        },
        {
         "name": "平均通过时长",
         "type": "scatter",
         "uid": "8811f589-d69e-11e8-8ddb-a41f72875c19",
         "x": [
          8,
          9,
          10
         ],
         "y": [
          20.976,
          25.5275,
          15.005
         ]
        }
       ],
       "layout": {
        "title": "非一次通过平均时长&通过时长Q80&一次通过平均时长&平均通过时长月趋势图",
        "xaxis": {
         "mirror": "all",
         "nticks": 20,
         "showgrid": true,
         "showline": true,
         "title": "月",
         "type": "category",
         "zeroline": true
        },
        "yaxis": {
         "mirror": "all",
         "nticks": 20,
         "showgrid": true,
         "showline": true,
         "title": "非一次通过平均时长&通过时长Q80&一次通过平均时长&平均通过时长",
         "zeroline": true
        }
       }
      },
      "text/html": [
       "<div id=\"4be6c289-83a4-450f-b6e4-9f4eac077429\" style=\"height: 525px; width: 100%;\" class=\"plotly-graph-div\"></div><script type=\"text/javascript\">require([\"plotly\"], function(Plotly) { window.PLOTLYENV=window.PLOTLYENV || {};window.PLOTLYENV.BASE_URL=\"https://plot.ly\";Plotly.newPlot(\"4be6c289-83a4-450f-b6e4-9f4eac077429\", [{\"name\": \"\\u975e\\u4e00\\u6b21\\u901a\\u8fc7\\u5e73\\u5747\\u65f6\\u957f\", \"x\": [8, 9, 10], \"y\": [32.065999999999995, 37.6025, 24.755], \"type\": \"scatter\", \"uid\": \"8811f586-d69e-11e8-8ddb-a41f72875c19\"}, {\"name\": \"\\u901a\\u8fc7\\u65f6\\u957fQ80\", \"x\": [8, 9, 10], \"y\": [37.013999999999996, 42.7325, 24.15], \"type\": \"scatter\", \"uid\": \"8811f587-d69e-11e8-8ddb-a41f72875c19\"}, {\"name\": \"\\u4e00\\u6b21\\u901a\\u8fc7\\u5e73\\u5747\\u65f6\\u957f\", \"x\": [8, 9, 10], \"y\": [6.192, 4.4975, 3.98], \"type\": \"scatter\", \"uid\": \"8811f588-d69e-11e8-8ddb-a41f72875c19\"}, {\"name\": \"\\u5e73\\u5747\\u901a\\u8fc7\\u65f6\\u957f\", \"x\": [8, 9, 10], \"y\": [20.976, 25.5275, 15.005], \"type\": \"scatter\", \"uid\": \"8811f589-d69e-11e8-8ddb-a41f72875c19\"}], {\"title\": \"\\u975e\\u4e00\\u6b21\\u901a\\u8fc7\\u5e73\\u5747\\u65f6\\u957f&\\u901a\\u8fc7\\u65f6\\u957fQ80&\\u4e00\\u6b21\\u901a\\u8fc7\\u5e73\\u5747\\u65f6\\u957f&\\u5e73\\u5747\\u901a\\u8fc7\\u65f6\\u957f\\u6708\\u8d8b\\u52bf\\u56fe\", \"xaxis\": {\"mirror\": \"all\", \"nticks\": 20, \"showgrid\": true, \"showline\": true, \"title\": \"\\u6708\", \"type\": \"category\", \"zeroline\": true}, \"yaxis\": {\"mirror\": \"all\", \"nticks\": 20, \"showgrid\": true, \"showline\": true, \"title\": \"\\u975e\\u4e00\\u6b21\\u901a\\u8fc7\\u5e73\\u5747\\u65f6\\u957f&\\u901a\\u8fc7\\u65f6\\u957fQ80&\\u4e00\\u6b21\\u901a\\u8fc7\\u5e73\\u5747\\u65f6\\u957f&\\u5e73\\u5747\\u901a\\u8fc7\\u65f6\\u957f\", \"zeroline\": true}}, {\"showLink\": true, \"linkText\": \"Export to plot.ly\"})});</script>"
      ],
      "text/vnd.plotly.v1+html": [
       "<div id=\"4be6c289-83a4-450f-b6e4-9f4eac077429\" style=\"height: 525px; width: 100%;\" class=\"plotly-graph-div\"></div><script type=\"text/javascript\">require([\"plotly\"], function(Plotly) { window.PLOTLYENV=window.PLOTLYENV || {};window.PLOTLYENV.BASE_URL=\"https://plot.ly\";Plotly.newPlot(\"4be6c289-83a4-450f-b6e4-9f4eac077429\", [{\"name\": \"\\u975e\\u4e00\\u6b21\\u901a\\u8fc7\\u5e73\\u5747\\u65f6\\u957f\", \"x\": [8, 9, 10], \"y\": [32.065999999999995, 37.6025, 24.755], \"type\": \"scatter\", \"uid\": \"8811f586-d69e-11e8-8ddb-a41f72875c19\"}, {\"name\": \"\\u901a\\u8fc7\\u65f6\\u957fQ80\", \"x\": [8, 9, 10], \"y\": [37.013999999999996, 42.7325, 24.15], \"type\": \"scatter\", \"uid\": \"8811f587-d69e-11e8-8ddb-a41f72875c19\"}, {\"name\": \"\\u4e00\\u6b21\\u901a\\u8fc7\\u5e73\\u5747\\u65f6\\u957f\", \"x\": [8, 9, 10], \"y\": [6.192, 4.4975, 3.98], \"type\": \"scatter\", \"uid\": \"8811f588-d69e-11e8-8ddb-a41f72875c19\"}, {\"name\": \"\\u5e73\\u5747\\u901a\\u8fc7\\u65f6\\u957f\", \"x\": [8, 9, 10], \"y\": [20.976, 25.5275, 15.005], \"type\": \"scatter\", \"uid\": \"8811f589-d69e-11e8-8ddb-a41f72875c19\"}], {\"title\": \"\\u975e\\u4e00\\u6b21\\u901a\\u8fc7\\u5e73\\u5747\\u65f6\\u957f&\\u901a\\u8fc7\\u65f6\\u957fQ80&\\u4e00\\u6b21\\u901a\\u8fc7\\u5e73\\u5747\\u65f6\\u957f&\\u5e73\\u5747\\u901a\\u8fc7\\u65f6\\u957f\\u6708\\u8d8b\\u52bf\\u56fe\", \"xaxis\": {\"mirror\": \"all\", \"nticks\": 20, \"showgrid\": true, \"showline\": true, \"title\": \"\\u6708\", \"type\": \"category\", \"zeroline\": true}, \"yaxis\": {\"mirror\": \"all\", \"nticks\": 20, \"showgrid\": true, \"showline\": true, \"title\": \"\\u975e\\u4e00\\u6b21\\u901a\\u8fc7\\u5e73\\u5747\\u65f6\\u957f&\\u901a\\u8fc7\\u65f6\\u957fQ80&\\u4e00\\u6b21\\u901a\\u8fc7\\u5e73\\u5747\\u65f6\\u957f&\\u5e73\\u5747\\u901a\\u8fc7\\u65f6\\u957f\", \"zeroline\": true}}, {\"showLink\": true, \"linkText\": \"Export to plot.ly\"})});</script>"
      ]
     },
     "metadata": {},
     "output_type": "display_data"
    }
   ],
   "source": [
    "ss = myModule.format(all_df2 ,\"日期（格式“月-周次”）\" ,['平均通过时长', '一次通过平均时长','非一次通过平均时长','通过时长Q80' ])\n",
    "myModule.myPlot(ss.groupby('sum')).plot('line')\n",
    "\n",
    "ss = myModule.format(all_df2 ,\"month\" ,['平均通过时长', '一次通过平均时长','非一次通过平均时长','通过时长Q80' ])\n",
    "myModule.myPlot(ss.groupby('mean')).plot('line','月')"
   ]
  },
  {
   "cell_type": "markdown",
   "metadata": {},
   "source": [
    "#### 一次通过平均时长，xten一次通过时长，NovaS4一次通过时长"
   ]
  },
  {
   "cell_type": "code",
   "execution_count": 18,
   "metadata": {
    "collapsed": false
   },
   "outputs": [
    {
     "data": {
      "application/vnd.plotly.v1+json": {
       "data": [
        {
         "name": "NovaS4一次通过时长",
         "type": "scatter",
         "uid": "8811f58a-d69e-11e8-8ddb-a41f72875c19",
         "x": [
          "10-2",
          "10-3",
          "8-1",
          "8-2",
          "8-3",
          "8-4",
          "8-5",
          "9-1",
          "9-2",
          "9-3",
          "9-4"
         ],
         "y": [
          0,
          0,
          13.29,
          4.73,
          10.54,
          10.54,
          0,
          14.88,
          9.9,
          0,
          0
         ]
        },
        {
         "name": "xten一次通过时长",
         "type": "scatter",
         "uid": "8811f58b-d69e-11e8-8ddb-a41f72875c19",
         "x": [
          "10-2",
          "10-3",
          "8-1",
          "8-2",
          "8-3",
          "8-4",
          "8-5",
          "9-1",
          "9-2",
          "9-3",
          "9-4"
         ],
         "y": [
          4.25,
          3.42,
          5.74,
          6.69,
          3.34,
          3.78,
          2.97,
          3.58,
          4.77,
          3.37,
          4.08
         ]
        },
        {
         "name": "一次通过平均时长",
         "type": "scatter",
         "uid": "8811f58c-d69e-11e8-8ddb-a41f72875c19",
         "x": [
          "10-2",
          "10-3",
          "8-1",
          "8-2",
          "8-3",
          "8-4",
          "8-5",
          "9-1",
          "9-2",
          "9-3",
          "9-4"
         ],
         "y": [
          4.25,
          3.71,
          11.95,
          6.68,
          3.81,
          5.41,
          3.11,
          2.07,
          6.43,
          4.81,
          4.68
         ]
        }
       ],
       "layout": {
        "title": "NovaS4一次通过时长&xten一次通过时长&一次通过平均时长周趋势图",
        "xaxis": {
         "mirror": "all",
         "nticks": 20,
         "showgrid": true,
         "showline": true,
         "title": "周",
         "type": "category",
         "zeroline": true
        },
        "yaxis": {
         "mirror": "all",
         "nticks": 20,
         "showgrid": true,
         "showline": true,
         "title": "NovaS4一次通过时长&xten一次通过时长&一次通过平均时长",
         "zeroline": true
        }
       }
      },
      "text/html": [
       "<div id=\"4dd5b9f6-0453-4845-8101-66a6a2fb69a8\" style=\"height: 525px; width: 100%;\" class=\"plotly-graph-div\"></div><script type=\"text/javascript\">require([\"plotly\"], function(Plotly) { window.PLOTLYENV=window.PLOTLYENV || {};window.PLOTLYENV.BASE_URL=\"https://plot.ly\";Plotly.newPlot(\"4dd5b9f6-0453-4845-8101-66a6a2fb69a8\", [{\"name\": \"NovaS4\\u4e00\\u6b21\\u901a\\u8fc7\\u65f6\\u957f\", \"x\": [\"10-2\", \"10-3\", \"8-1\", \"8-2\", \"8-3\", \"8-4\", \"8-5\", \"9-1\", \"9-2\", \"9-3\", \"9-4\"], \"y\": [0.0, 0.0, 13.29, 4.73, 10.54, 10.54, 0.0, 14.88, 9.9, 0.0, 0.0], \"type\": \"scatter\", \"uid\": \"8811f58a-d69e-11e8-8ddb-a41f72875c19\"}, {\"name\": \"xten\\u4e00\\u6b21\\u901a\\u8fc7\\u65f6\\u957f\", \"x\": [\"10-2\", \"10-3\", \"8-1\", \"8-2\", \"8-3\", \"8-4\", \"8-5\", \"9-1\", \"9-2\", \"9-3\", \"9-4\"], \"y\": [4.25, 3.42, 5.74, 6.69, 3.34, 3.78, 2.97, 3.58, 4.77, 3.37, 4.08], \"type\": \"scatter\", \"uid\": \"8811f58b-d69e-11e8-8ddb-a41f72875c19\"}, {\"name\": \"\\u4e00\\u6b21\\u901a\\u8fc7\\u5e73\\u5747\\u65f6\\u957f\", \"x\": [\"10-2\", \"10-3\", \"8-1\", \"8-2\", \"8-3\", \"8-4\", \"8-5\", \"9-1\", \"9-2\", \"9-3\", \"9-4\"], \"y\": [4.25, 3.71, 11.95, 6.68, 3.81, 5.41, 3.11, 2.07, 6.43, 4.81, 4.68], \"type\": \"scatter\", \"uid\": \"8811f58c-d69e-11e8-8ddb-a41f72875c19\"}], {\"title\": \"NovaS4\\u4e00\\u6b21\\u901a\\u8fc7\\u65f6\\u957f&xten\\u4e00\\u6b21\\u901a\\u8fc7\\u65f6\\u957f&\\u4e00\\u6b21\\u901a\\u8fc7\\u5e73\\u5747\\u65f6\\u957f\\u5468\\u8d8b\\u52bf\\u56fe\", \"xaxis\": {\"mirror\": \"all\", \"nticks\": 20, \"showgrid\": true, \"showline\": true, \"title\": \"\\u5468\", \"type\": \"category\", \"zeroline\": true}, \"yaxis\": {\"mirror\": \"all\", \"nticks\": 20, \"showgrid\": true, \"showline\": true, \"title\": \"NovaS4\\u4e00\\u6b21\\u901a\\u8fc7\\u65f6\\u957f&xten\\u4e00\\u6b21\\u901a\\u8fc7\\u65f6\\u957f&\\u4e00\\u6b21\\u901a\\u8fc7\\u5e73\\u5747\\u65f6\\u957f\", \"zeroline\": true}}, {\"showLink\": true, \"linkText\": \"Export to plot.ly\"})});</script>"
      ],
      "text/vnd.plotly.v1+html": [
       "<div id=\"4dd5b9f6-0453-4845-8101-66a6a2fb69a8\" style=\"height: 525px; width: 100%;\" class=\"plotly-graph-div\"></div><script type=\"text/javascript\">require([\"plotly\"], function(Plotly) { window.PLOTLYENV=window.PLOTLYENV || {};window.PLOTLYENV.BASE_URL=\"https://plot.ly\";Plotly.newPlot(\"4dd5b9f6-0453-4845-8101-66a6a2fb69a8\", [{\"name\": \"NovaS4\\u4e00\\u6b21\\u901a\\u8fc7\\u65f6\\u957f\", \"x\": [\"10-2\", \"10-3\", \"8-1\", \"8-2\", \"8-3\", \"8-4\", \"8-5\", \"9-1\", \"9-2\", \"9-3\", \"9-4\"], \"y\": [0.0, 0.0, 13.29, 4.73, 10.54, 10.54, 0.0, 14.88, 9.9, 0.0, 0.0], \"type\": \"scatter\", \"uid\": \"8811f58a-d69e-11e8-8ddb-a41f72875c19\"}, {\"name\": \"xten\\u4e00\\u6b21\\u901a\\u8fc7\\u65f6\\u957f\", \"x\": [\"10-2\", \"10-3\", \"8-1\", \"8-2\", \"8-3\", \"8-4\", \"8-5\", \"9-1\", \"9-2\", \"9-3\", \"9-4\"], \"y\": [4.25, 3.42, 5.74, 6.69, 3.34, 3.78, 2.97, 3.58, 4.77, 3.37, 4.08], \"type\": \"scatter\", \"uid\": \"8811f58b-d69e-11e8-8ddb-a41f72875c19\"}, {\"name\": \"\\u4e00\\u6b21\\u901a\\u8fc7\\u5e73\\u5747\\u65f6\\u957f\", \"x\": [\"10-2\", \"10-3\", \"8-1\", \"8-2\", \"8-3\", \"8-4\", \"8-5\", \"9-1\", \"9-2\", \"9-3\", \"9-4\"], \"y\": [4.25, 3.71, 11.95, 6.68, 3.81, 5.41, 3.11, 2.07, 6.43, 4.81, 4.68], \"type\": \"scatter\", \"uid\": \"8811f58c-d69e-11e8-8ddb-a41f72875c19\"}], {\"title\": \"NovaS4\\u4e00\\u6b21\\u901a\\u8fc7\\u65f6\\u957f&xten\\u4e00\\u6b21\\u901a\\u8fc7\\u65f6\\u957f&\\u4e00\\u6b21\\u901a\\u8fc7\\u5e73\\u5747\\u65f6\\u957f\\u5468\\u8d8b\\u52bf\\u56fe\", \"xaxis\": {\"mirror\": \"all\", \"nticks\": 20, \"showgrid\": true, \"showline\": true, \"title\": \"\\u5468\", \"type\": \"category\", \"zeroline\": true}, \"yaxis\": {\"mirror\": \"all\", \"nticks\": 20, \"showgrid\": true, \"showline\": true, \"title\": \"NovaS4\\u4e00\\u6b21\\u901a\\u8fc7\\u65f6\\u957f&xten\\u4e00\\u6b21\\u901a\\u8fc7\\u65f6\\u957f&\\u4e00\\u6b21\\u901a\\u8fc7\\u5e73\\u5747\\u65f6\\u957f\", \"zeroline\": true}}, {\"showLink\": true, \"linkText\": \"Export to plot.ly\"})});</script>"
      ]
     },
     "metadata": {},
     "output_type": "display_data"
    },
    {
     "data": {
      "application/vnd.plotly.v1+json": {
       "data": [
        {
         "name": "NovaS4一次通过时长",
         "type": "scatter",
         "uid": "8811f58d-d69e-11e8-8ddb-a41f72875c19",
         "x": [
          8,
          9,
          10
         ],
         "y": [
          7.8199999999999985,
          6.195,
          0
         ]
        },
        {
         "name": "xten一次通过时长",
         "type": "scatter",
         "uid": "8811f58e-d69e-11e8-8ddb-a41f72875c19",
         "x": [
          8,
          9,
          10
         ],
         "y": [
          4.504,
          3.95,
          3.835
         ]
        },
        {
         "name": "一次通过平均时长",
         "type": "scatter",
         "uid": "8811f58f-d69e-11e8-8ddb-a41f72875c19",
         "x": [
          8,
          9,
          10
         ],
         "y": [
          6.192,
          4.4975,
          3.98
         ]
        }
       ],
       "layout": {
        "title": "NovaS4一次通过时长&xten一次通过时长&一次通过平均时长月趋势图",
        "xaxis": {
         "mirror": "all",
         "nticks": 20,
         "showgrid": true,
         "showline": true,
         "title": "月",
         "type": "category",
         "zeroline": true
        },
        "yaxis": {
         "mirror": "all",
         "nticks": 20,
         "showgrid": true,
         "showline": true,
         "title": "NovaS4一次通过时长&xten一次通过时长&一次通过平均时长",
         "zeroline": true
        }
       }
      },
      "text/html": [
       "<div id=\"c6d293d6-fc97-4954-9402-eb919890f6a7\" style=\"height: 525px; width: 100%;\" class=\"plotly-graph-div\"></div><script type=\"text/javascript\">require([\"plotly\"], function(Plotly) { window.PLOTLYENV=window.PLOTLYENV || {};window.PLOTLYENV.BASE_URL=\"https://plot.ly\";Plotly.newPlot(\"c6d293d6-fc97-4954-9402-eb919890f6a7\", [{\"name\": \"NovaS4\\u4e00\\u6b21\\u901a\\u8fc7\\u65f6\\u957f\", \"x\": [8, 9, 10], \"y\": [7.8199999999999985, 6.195, 0.0], \"type\": \"scatter\", \"uid\": \"8811f58d-d69e-11e8-8ddb-a41f72875c19\"}, {\"name\": \"xten\\u4e00\\u6b21\\u901a\\u8fc7\\u65f6\\u957f\", \"x\": [8, 9, 10], \"y\": [4.504, 3.95, 3.835], \"type\": \"scatter\", \"uid\": \"8811f58e-d69e-11e8-8ddb-a41f72875c19\"}, {\"name\": \"\\u4e00\\u6b21\\u901a\\u8fc7\\u5e73\\u5747\\u65f6\\u957f\", \"x\": [8, 9, 10], \"y\": [6.192, 4.4975, 3.98], \"type\": \"scatter\", \"uid\": \"8811f58f-d69e-11e8-8ddb-a41f72875c19\"}], {\"title\": \"NovaS4\\u4e00\\u6b21\\u901a\\u8fc7\\u65f6\\u957f&xten\\u4e00\\u6b21\\u901a\\u8fc7\\u65f6\\u957f&\\u4e00\\u6b21\\u901a\\u8fc7\\u5e73\\u5747\\u65f6\\u957f\\u6708\\u8d8b\\u52bf\\u56fe\", \"xaxis\": {\"mirror\": \"all\", \"nticks\": 20, \"showgrid\": true, \"showline\": true, \"title\": \"\\u6708\", \"type\": \"category\", \"zeroline\": true}, \"yaxis\": {\"mirror\": \"all\", \"nticks\": 20, \"showgrid\": true, \"showline\": true, \"title\": \"NovaS4\\u4e00\\u6b21\\u901a\\u8fc7\\u65f6\\u957f&xten\\u4e00\\u6b21\\u901a\\u8fc7\\u65f6\\u957f&\\u4e00\\u6b21\\u901a\\u8fc7\\u5e73\\u5747\\u65f6\\u957f\", \"zeroline\": true}}, {\"showLink\": true, \"linkText\": \"Export to plot.ly\"})});</script>"
      ],
      "text/vnd.plotly.v1+html": [
       "<div id=\"c6d293d6-fc97-4954-9402-eb919890f6a7\" style=\"height: 525px; width: 100%;\" class=\"plotly-graph-div\"></div><script type=\"text/javascript\">require([\"plotly\"], function(Plotly) { window.PLOTLYENV=window.PLOTLYENV || {};window.PLOTLYENV.BASE_URL=\"https://plot.ly\";Plotly.newPlot(\"c6d293d6-fc97-4954-9402-eb919890f6a7\", [{\"name\": \"NovaS4\\u4e00\\u6b21\\u901a\\u8fc7\\u65f6\\u957f\", \"x\": [8, 9, 10], \"y\": [7.8199999999999985, 6.195, 0.0], \"type\": \"scatter\", \"uid\": \"8811f58d-d69e-11e8-8ddb-a41f72875c19\"}, {\"name\": \"xten\\u4e00\\u6b21\\u901a\\u8fc7\\u65f6\\u957f\", \"x\": [8, 9, 10], \"y\": [4.504, 3.95, 3.835], \"type\": \"scatter\", \"uid\": \"8811f58e-d69e-11e8-8ddb-a41f72875c19\"}, {\"name\": \"\\u4e00\\u6b21\\u901a\\u8fc7\\u5e73\\u5747\\u65f6\\u957f\", \"x\": [8, 9, 10], \"y\": [6.192, 4.4975, 3.98], \"type\": \"scatter\", \"uid\": \"8811f58f-d69e-11e8-8ddb-a41f72875c19\"}], {\"title\": \"NovaS4\\u4e00\\u6b21\\u901a\\u8fc7\\u65f6\\u957f&xten\\u4e00\\u6b21\\u901a\\u8fc7\\u65f6\\u957f&\\u4e00\\u6b21\\u901a\\u8fc7\\u5e73\\u5747\\u65f6\\u957f\\u6708\\u8d8b\\u52bf\\u56fe\", \"xaxis\": {\"mirror\": \"all\", \"nticks\": 20, \"showgrid\": true, \"showline\": true, \"title\": \"\\u6708\", \"type\": \"category\", \"zeroline\": true}, \"yaxis\": {\"mirror\": \"all\", \"nticks\": 20, \"showgrid\": true, \"showline\": true, \"title\": \"NovaS4\\u4e00\\u6b21\\u901a\\u8fc7\\u65f6\\u957f&xten\\u4e00\\u6b21\\u901a\\u8fc7\\u65f6\\u957f&\\u4e00\\u6b21\\u901a\\u8fc7\\u5e73\\u5747\\u65f6\\u957f\", \"zeroline\": true}}, {\"showLink\": true, \"linkText\": \"Export to plot.ly\"})});</script>"
      ]
     },
     "metadata": {},
     "output_type": "display_data"
    }
   ],
   "source": [
    "ss = myModule.format(all_df2 ,\"日期（格式“月-周次”）\" ,[ '一次通过平均时长','xten一次通过时长','NovaS4一次通过时长' ])\n",
    "myModule.myPlot(ss.groupby('sum')).plot('line')\n",
    "\n",
    "ss = myModule.format(all_df2 ,\"month\" ,[ '一次通过平均时长','xten一次通过时长','NovaS4一次通过时长' ])\n",
    "myModule.myPlot(ss.groupby('mean')).plot('line','月')"
   ]
  },
  {
   "cell_type": "markdown",
   "metadata": {},
   "source": [
    "### 异常"
   ]
  },
  {
   "cell_type": "markdown",
   "metadata": {},
   "source": [
    "####  测序异常，外来index错误，自建库index错误，lims系统错误，个性化拆分数"
   ]
  },
  {
   "cell_type": "code",
   "execution_count": 19,
   "metadata": {
    "collapsed": false
   },
   "outputs": [
    {
     "data": {
      "application/vnd.plotly.v1+json": {
       "data": [
        {
         "name": "外来Index错误",
         "type": "scatter",
         "uid": "8811f590-d69e-11e8-8ddb-a41f72875c19",
         "x": [
          "10-2",
          "10-3",
          "8-1",
          "8-2",
          "8-3",
          "8-4",
          "8-5",
          "9-1",
          "9-2",
          "9-3",
          "9-4"
         ],
         "y": [
          8,
          5,
          2,
          8,
          4,
          4,
          2,
          8,
          3,
          11,
          12
         ]
        },
        {
         "name": "lims系统错误",
         "type": "scatter",
         "uid": "8811f591-d69e-11e8-8ddb-a41f72875c19",
         "x": [
          "10-2",
          "10-3",
          "8-1",
          "8-2",
          "8-3",
          "8-4",
          "8-5",
          "9-1",
          "9-2",
          "9-3",
          "9-4"
         ],
         "y": [
          0,
          0,
          2,
          3,
          0,
          0,
          1,
          0,
          0,
          3,
          0
         ]
        },
        {
         "name": "个性化拆分数",
         "type": "scatter",
         "uid": "8811f592-d69e-11e8-8ddb-a41f72875c19",
         "x": [
          "10-2",
          "10-3",
          "8-1",
          "8-2",
          "8-3",
          "8-4",
          "8-5",
          "9-1",
          "9-2",
          "9-3",
          "9-4"
         ],
         "y": [
          4,
          2,
          3,
          1,
          0,
          2,
          3,
          1,
          0,
          1,
          2
         ]
        },
        {
         "name": "测序异常",
         "type": "scatter",
         "uid": "8811f593-d69e-11e8-8ddb-a41f72875c19",
         "x": [
          "10-2",
          "10-3",
          "8-1",
          "8-2",
          "8-3",
          "8-4",
          "8-5",
          "9-1",
          "9-2",
          "9-3",
          "9-4"
         ],
         "y": [
          10,
          11,
          10,
          17,
          19,
          12,
          11,
          10,
          6,
          10,
          13
         ]
        },
        {
         "name": "自建库Index错误",
         "type": "scatter",
         "uid": "8811f594-d69e-11e8-8ddb-a41f72875c19",
         "x": [
          "10-2",
          "10-3",
          "8-1",
          "8-2",
          "8-3",
          "8-4",
          "8-5",
          "9-1",
          "9-2",
          "9-3",
          "9-4"
         ],
         "y": [
          1,
          2,
          0,
          2,
          0,
          2,
          2,
          1,
          0,
          0,
          0
         ]
        }
       ],
       "layout": {
        "title": "外来Index错误&lims系统错误&个性化拆分数&测序异常&自建库Index错误周趋势图",
        "xaxis": {
         "mirror": "all",
         "nticks": 20,
         "showgrid": true,
         "showline": true,
         "title": "周",
         "type": "category",
         "zeroline": true
        },
        "yaxis": {
         "mirror": "all",
         "nticks": 20,
         "showgrid": true,
         "showline": true,
         "title": "外来Index错误&lims系统错误&个性化拆分数&测序异常&自建库Index错误",
         "zeroline": true
        }
       }
      },
      "text/html": [
       "<div id=\"c7db88df-7de1-462c-af71-8f4a4fb39848\" style=\"height: 525px; width: 100%;\" class=\"plotly-graph-div\"></div><script type=\"text/javascript\">require([\"plotly\"], function(Plotly) { window.PLOTLYENV=window.PLOTLYENV || {};window.PLOTLYENV.BASE_URL=\"https://plot.ly\";Plotly.newPlot(\"c7db88df-7de1-462c-af71-8f4a4fb39848\", [{\"name\": \"\\u5916\\u6765Index\\u9519\\u8bef\", \"x\": [\"10-2\", \"10-3\", \"8-1\", \"8-2\", \"8-3\", \"8-4\", \"8-5\", \"9-1\", \"9-2\", \"9-3\", \"9-4\"], \"y\": [8, 5, 2, 8, 4, 4, 2, 8, 3, 11, 12], \"type\": \"scatter\", \"uid\": \"8811f590-d69e-11e8-8ddb-a41f72875c19\"}, {\"name\": \"lims\\u7cfb\\u7edf\\u9519\\u8bef\", \"x\": [\"10-2\", \"10-3\", \"8-1\", \"8-2\", \"8-3\", \"8-4\", \"8-5\", \"9-1\", \"9-2\", \"9-3\", \"9-4\"], \"y\": [0, 0, 2, 3, 0, 0, 1, 0, 0, 3, 0], \"type\": \"scatter\", \"uid\": \"8811f591-d69e-11e8-8ddb-a41f72875c19\"}, {\"name\": \"\\u4e2a\\u6027\\u5316\\u62c6\\u5206\\u6570\", \"x\": [\"10-2\", \"10-3\", \"8-1\", \"8-2\", \"8-3\", \"8-4\", \"8-5\", \"9-1\", \"9-2\", \"9-3\", \"9-4\"], \"y\": [4, 2, 3, 1, 0, 2, 3, 1, 0, 1, 2], \"type\": \"scatter\", \"uid\": \"8811f592-d69e-11e8-8ddb-a41f72875c19\"}, {\"name\": \"\\u6d4b\\u5e8f\\u5f02\\u5e38\", \"x\": [\"10-2\", \"10-3\", \"8-1\", \"8-2\", \"8-3\", \"8-4\", \"8-5\", \"9-1\", \"9-2\", \"9-3\", \"9-4\"], \"y\": [10, 11, 10, 17, 19, 12, 11, 10, 6, 10, 13], \"type\": \"scatter\", \"uid\": \"8811f593-d69e-11e8-8ddb-a41f72875c19\"}, {\"name\": \"\\u81ea\\u5efa\\u5e93Index\\u9519\\u8bef\", \"x\": [\"10-2\", \"10-3\", \"8-1\", \"8-2\", \"8-3\", \"8-4\", \"8-5\", \"9-1\", \"9-2\", \"9-3\", \"9-4\"], \"y\": [1, 2, 0, 2, 0, 2, 2, 1, 0, 0, 0], \"type\": \"scatter\", \"uid\": \"8811f594-d69e-11e8-8ddb-a41f72875c19\"}], {\"title\": \"\\u5916\\u6765Index\\u9519\\u8bef&lims\\u7cfb\\u7edf\\u9519\\u8bef&\\u4e2a\\u6027\\u5316\\u62c6\\u5206\\u6570&\\u6d4b\\u5e8f\\u5f02\\u5e38&\\u81ea\\u5efa\\u5e93Index\\u9519\\u8bef\\u5468\\u8d8b\\u52bf\\u56fe\", \"xaxis\": {\"mirror\": \"all\", \"nticks\": 20, \"showgrid\": true, \"showline\": true, \"title\": \"\\u5468\", \"type\": \"category\", \"zeroline\": true}, \"yaxis\": {\"mirror\": \"all\", \"nticks\": 20, \"showgrid\": true, \"showline\": true, \"title\": \"\\u5916\\u6765Index\\u9519\\u8bef&lims\\u7cfb\\u7edf\\u9519\\u8bef&\\u4e2a\\u6027\\u5316\\u62c6\\u5206\\u6570&\\u6d4b\\u5e8f\\u5f02\\u5e38&\\u81ea\\u5efa\\u5e93Index\\u9519\\u8bef\", \"zeroline\": true}}, {\"showLink\": true, \"linkText\": \"Export to plot.ly\"})});</script>"
      ],
      "text/vnd.plotly.v1+html": [
       "<div id=\"c7db88df-7de1-462c-af71-8f4a4fb39848\" style=\"height: 525px; width: 100%;\" class=\"plotly-graph-div\"></div><script type=\"text/javascript\">require([\"plotly\"], function(Plotly) { window.PLOTLYENV=window.PLOTLYENV || {};window.PLOTLYENV.BASE_URL=\"https://plot.ly\";Plotly.newPlot(\"c7db88df-7de1-462c-af71-8f4a4fb39848\", [{\"name\": \"\\u5916\\u6765Index\\u9519\\u8bef\", \"x\": [\"10-2\", \"10-3\", \"8-1\", \"8-2\", \"8-3\", \"8-4\", \"8-5\", \"9-1\", \"9-2\", \"9-3\", \"9-4\"], \"y\": [8, 5, 2, 8, 4, 4, 2, 8, 3, 11, 12], \"type\": \"scatter\", \"uid\": \"8811f590-d69e-11e8-8ddb-a41f72875c19\"}, {\"name\": \"lims\\u7cfb\\u7edf\\u9519\\u8bef\", \"x\": [\"10-2\", \"10-3\", \"8-1\", \"8-2\", \"8-3\", \"8-4\", \"8-5\", \"9-1\", \"9-2\", \"9-3\", \"9-4\"], \"y\": [0, 0, 2, 3, 0, 0, 1, 0, 0, 3, 0], \"type\": \"scatter\", \"uid\": \"8811f591-d69e-11e8-8ddb-a41f72875c19\"}, {\"name\": \"\\u4e2a\\u6027\\u5316\\u62c6\\u5206\\u6570\", \"x\": [\"10-2\", \"10-3\", \"8-1\", \"8-2\", \"8-3\", \"8-4\", \"8-5\", \"9-1\", \"9-2\", \"9-3\", \"9-4\"], \"y\": [4, 2, 3, 1, 0, 2, 3, 1, 0, 1, 2], \"type\": \"scatter\", \"uid\": \"8811f592-d69e-11e8-8ddb-a41f72875c19\"}, {\"name\": \"\\u6d4b\\u5e8f\\u5f02\\u5e38\", \"x\": [\"10-2\", \"10-3\", \"8-1\", \"8-2\", \"8-3\", \"8-4\", \"8-5\", \"9-1\", \"9-2\", \"9-3\", \"9-4\"], \"y\": [10, 11, 10, 17, 19, 12, 11, 10, 6, 10, 13], \"type\": \"scatter\", \"uid\": \"8811f593-d69e-11e8-8ddb-a41f72875c19\"}, {\"name\": \"\\u81ea\\u5efa\\u5e93Index\\u9519\\u8bef\", \"x\": [\"10-2\", \"10-3\", \"8-1\", \"8-2\", \"8-3\", \"8-4\", \"8-5\", \"9-1\", \"9-2\", \"9-3\", \"9-4\"], \"y\": [1, 2, 0, 2, 0, 2, 2, 1, 0, 0, 0], \"type\": \"scatter\", \"uid\": \"8811f594-d69e-11e8-8ddb-a41f72875c19\"}], {\"title\": \"\\u5916\\u6765Index\\u9519\\u8bef&lims\\u7cfb\\u7edf\\u9519\\u8bef&\\u4e2a\\u6027\\u5316\\u62c6\\u5206\\u6570&\\u6d4b\\u5e8f\\u5f02\\u5e38&\\u81ea\\u5efa\\u5e93Index\\u9519\\u8bef\\u5468\\u8d8b\\u52bf\\u56fe\", \"xaxis\": {\"mirror\": \"all\", \"nticks\": 20, \"showgrid\": true, \"showline\": true, \"title\": \"\\u5468\", \"type\": \"category\", \"zeroline\": true}, \"yaxis\": {\"mirror\": \"all\", \"nticks\": 20, \"showgrid\": true, \"showline\": true, \"title\": \"\\u5916\\u6765Index\\u9519\\u8bef&lims\\u7cfb\\u7edf\\u9519\\u8bef&\\u4e2a\\u6027\\u5316\\u62c6\\u5206\\u6570&\\u6d4b\\u5e8f\\u5f02\\u5e38&\\u81ea\\u5efa\\u5e93Index\\u9519\\u8bef\", \"zeroline\": true}}, {\"showLink\": true, \"linkText\": \"Export to plot.ly\"})});</script>"
      ]
     },
     "metadata": {},
     "output_type": "display_data"
    },
    {
     "data": {
      "application/vnd.plotly.v1+json": {
       "data": [
        {
         "name": "外来Index错误",
         "type": "scatter",
         "uid": "8811f595-d69e-11e8-8ddb-a41f72875c19",
         "x": [
          8,
          9,
          10
         ],
         "y": [
          4,
          8.5,
          6.5
         ]
        },
        {
         "name": "lims系统错误",
         "type": "scatter",
         "uid": "8811f596-d69e-11e8-8ddb-a41f72875c19",
         "x": [
          8,
          9,
          10
         ],
         "y": [
          1.2,
          0.75,
          0
         ]
        },
        {
         "name": "个性化拆分数",
         "type": "scatter",
         "uid": "8811f597-d69e-11e8-8ddb-a41f72875c19",
         "x": [
          8,
          9,
          10
         ],
         "y": [
          1.8,
          1,
          3
         ]
        },
        {
         "name": "测序异常",
         "type": "scatter",
         "uid": "8811f598-d69e-11e8-8ddb-a41f72875c19",
         "x": [
          8,
          9,
          10
         ],
         "y": [
          13.8,
          9.75,
          10.5
         ]
        },
        {
         "name": "自建库Index错误",
         "type": "scatter",
         "uid": "8811f599-d69e-11e8-8ddb-a41f72875c19",
         "x": [
          8,
          9,
          10
         ],
         "y": [
          1.2,
          0.25,
          1.5
         ]
        }
       ],
       "layout": {
        "title": "外来Index错误&lims系统错误&个性化拆分数&测序异常&自建库Index错误月趋势图",
        "xaxis": {
         "mirror": "all",
         "nticks": 20,
         "showgrid": true,
         "showline": true,
         "title": "月",
         "type": "category",
         "zeroline": true
        },
        "yaxis": {
         "mirror": "all",
         "nticks": 20,
         "showgrid": true,
         "showline": true,
         "title": "外来Index错误&lims系统错误&个性化拆分数&测序异常&自建库Index错误",
         "zeroline": true
        }
       }
      },
      "text/html": [
       "<div id=\"c9a3c0f0-2989-43ee-9d7e-70ff44a34c1c\" style=\"height: 525px; width: 100%;\" class=\"plotly-graph-div\"></div><script type=\"text/javascript\">require([\"plotly\"], function(Plotly) { window.PLOTLYENV=window.PLOTLYENV || {};window.PLOTLYENV.BASE_URL=\"https://plot.ly\";Plotly.newPlot(\"c9a3c0f0-2989-43ee-9d7e-70ff44a34c1c\", [{\"name\": \"\\u5916\\u6765Index\\u9519\\u8bef\", \"x\": [8, 9, 10], \"y\": [4.0, 8.5, 6.5], \"type\": \"scatter\", \"uid\": \"8811f595-d69e-11e8-8ddb-a41f72875c19\"}, {\"name\": \"lims\\u7cfb\\u7edf\\u9519\\u8bef\", \"x\": [8, 9, 10], \"y\": [1.2, 0.75, 0.0], \"type\": \"scatter\", \"uid\": \"8811f596-d69e-11e8-8ddb-a41f72875c19\"}, {\"name\": \"\\u4e2a\\u6027\\u5316\\u62c6\\u5206\\u6570\", \"x\": [8, 9, 10], \"y\": [1.8, 1.0, 3.0], \"type\": \"scatter\", \"uid\": \"8811f597-d69e-11e8-8ddb-a41f72875c19\"}, {\"name\": \"\\u6d4b\\u5e8f\\u5f02\\u5e38\", \"x\": [8, 9, 10], \"y\": [13.8, 9.75, 10.5], \"type\": \"scatter\", \"uid\": \"8811f598-d69e-11e8-8ddb-a41f72875c19\"}, {\"name\": \"\\u81ea\\u5efa\\u5e93Index\\u9519\\u8bef\", \"x\": [8, 9, 10], \"y\": [1.2, 0.25, 1.5], \"type\": \"scatter\", \"uid\": \"8811f599-d69e-11e8-8ddb-a41f72875c19\"}], {\"title\": \"\\u5916\\u6765Index\\u9519\\u8bef&lims\\u7cfb\\u7edf\\u9519\\u8bef&\\u4e2a\\u6027\\u5316\\u62c6\\u5206\\u6570&\\u6d4b\\u5e8f\\u5f02\\u5e38&\\u81ea\\u5efa\\u5e93Index\\u9519\\u8bef\\u6708\\u8d8b\\u52bf\\u56fe\", \"xaxis\": {\"mirror\": \"all\", \"nticks\": 20, \"showgrid\": true, \"showline\": true, \"title\": \"\\u6708\", \"type\": \"category\", \"zeroline\": true}, \"yaxis\": {\"mirror\": \"all\", \"nticks\": 20, \"showgrid\": true, \"showline\": true, \"title\": \"\\u5916\\u6765Index\\u9519\\u8bef&lims\\u7cfb\\u7edf\\u9519\\u8bef&\\u4e2a\\u6027\\u5316\\u62c6\\u5206\\u6570&\\u6d4b\\u5e8f\\u5f02\\u5e38&\\u81ea\\u5efa\\u5e93Index\\u9519\\u8bef\", \"zeroline\": true}}, {\"showLink\": true, \"linkText\": \"Export to plot.ly\"})});</script>"
      ],
      "text/vnd.plotly.v1+html": [
       "<div id=\"c9a3c0f0-2989-43ee-9d7e-70ff44a34c1c\" style=\"height: 525px; width: 100%;\" class=\"plotly-graph-div\"></div><script type=\"text/javascript\">require([\"plotly\"], function(Plotly) { window.PLOTLYENV=window.PLOTLYENV || {};window.PLOTLYENV.BASE_URL=\"https://plot.ly\";Plotly.newPlot(\"c9a3c0f0-2989-43ee-9d7e-70ff44a34c1c\", [{\"name\": \"\\u5916\\u6765Index\\u9519\\u8bef\", \"x\": [8, 9, 10], \"y\": [4.0, 8.5, 6.5], \"type\": \"scatter\", \"uid\": \"8811f595-d69e-11e8-8ddb-a41f72875c19\"}, {\"name\": \"lims\\u7cfb\\u7edf\\u9519\\u8bef\", \"x\": [8, 9, 10], \"y\": [1.2, 0.75, 0.0], \"type\": \"scatter\", \"uid\": \"8811f596-d69e-11e8-8ddb-a41f72875c19\"}, {\"name\": \"\\u4e2a\\u6027\\u5316\\u62c6\\u5206\\u6570\", \"x\": [8, 9, 10], \"y\": [1.8, 1.0, 3.0], \"type\": \"scatter\", \"uid\": \"8811f597-d69e-11e8-8ddb-a41f72875c19\"}, {\"name\": \"\\u6d4b\\u5e8f\\u5f02\\u5e38\", \"x\": [8, 9, 10], \"y\": [13.8, 9.75, 10.5], \"type\": \"scatter\", \"uid\": \"8811f598-d69e-11e8-8ddb-a41f72875c19\"}, {\"name\": \"\\u81ea\\u5efa\\u5e93Index\\u9519\\u8bef\", \"x\": [8, 9, 10], \"y\": [1.2, 0.25, 1.5], \"type\": \"scatter\", \"uid\": \"8811f599-d69e-11e8-8ddb-a41f72875c19\"}], {\"title\": \"\\u5916\\u6765Index\\u9519\\u8bef&lims\\u7cfb\\u7edf\\u9519\\u8bef&\\u4e2a\\u6027\\u5316\\u62c6\\u5206\\u6570&\\u6d4b\\u5e8f\\u5f02\\u5e38&\\u81ea\\u5efa\\u5e93Index\\u9519\\u8bef\\u6708\\u8d8b\\u52bf\\u56fe\", \"xaxis\": {\"mirror\": \"all\", \"nticks\": 20, \"showgrid\": true, \"showline\": true, \"title\": \"\\u6708\", \"type\": \"category\", \"zeroline\": true}, \"yaxis\": {\"mirror\": \"all\", \"nticks\": 20, \"showgrid\": true, \"showline\": true, \"title\": \"\\u5916\\u6765Index\\u9519\\u8bef&lims\\u7cfb\\u7edf\\u9519\\u8bef&\\u4e2a\\u6027\\u5316\\u62c6\\u5206\\u6570&\\u6d4b\\u5e8f\\u5f02\\u5e38&\\u81ea\\u5efa\\u5e93Index\\u9519\\u8bef\", \"zeroline\": true}}, {\"showLink\": true, \"linkText\": \"Export to plot.ly\"})});</script>"
      ]
     },
     "metadata": {},
     "output_type": "display_data"
    }
   ],
   "source": [
    "in_list = ['测序异常', '外来Index错误' , '自建库Index错误' ,'lims系统错误', '个性化拆分数' ]\n",
    "ss = myModule.format(all_df2 ,\"日期（格式“月-周次”）\" ,in_list)\n",
    "myModule.myPlot(ss.groupby('sum')).plot('line')\n",
    "\n",
    "ss = myModule.format(all_df2 ,\"month\" ,in_list)\n",
    "myModule.myPlot(ss.groupby('mean')).plot('line','月')"
   ]
  },
  {
   "cell_type": "markdown",
   "metadata": {},
   "source": [
    "#### 拆分流程异常数，延期处理"
   ]
  },
  {
   "cell_type": "code",
   "execution_count": 20,
   "metadata": {
    "collapsed": false
   },
   "outputs": [
    {
     "data": {
      "application/vnd.plotly.v1+json": {
       "data": [
        {
         "name": "拆分流程异常数",
         "type": "scatter",
         "uid": "8811f59a-d69e-11e8-8ddb-a41f72875c19",
         "x": [
          "10-2",
          "10-3",
          "8-1",
          "8-2",
          "8-3",
          "8-4",
          "8-5",
          "9-1",
          "9-2",
          "9-3",
          "9-4"
         ],
         "y": [
          0,
          0,
          2,
          0,
          1,
          0,
          4,
          2,
          0,
          0,
          0
         ]
        },
        {
         "name": "处理延期",
         "type": "scatter",
         "uid": "8811f59b-d69e-11e8-8ddb-a41f72875c19",
         "x": [
          "10-2",
          "10-3",
          "8-1",
          "8-2",
          "8-3",
          "8-4",
          "8-5",
          "9-1",
          "9-2",
          "9-3",
          "9-4"
         ],
         "y": [
          2,
          0,
          0,
          0,
          0,
          0,
          0,
          0,
          0,
          0,
          1
         ]
        }
       ],
       "layout": {
        "title": "拆分流程异常数&处理延期周趋势图",
        "xaxis": {
         "mirror": "all",
         "nticks": 20,
         "showgrid": true,
         "showline": true,
         "title": "周",
         "type": "category",
         "zeroline": true
        },
        "yaxis": {
         "mirror": "all",
         "nticks": 20,
         "showgrid": true,
         "showline": true,
         "title": "拆分流程异常数&处理延期",
         "zeroline": true
        }
       }
      },
      "text/html": [
       "<div id=\"8c697301-da8e-4232-9381-03600cb01183\" style=\"height: 525px; width: 100%;\" class=\"plotly-graph-div\"></div><script type=\"text/javascript\">require([\"plotly\"], function(Plotly) { window.PLOTLYENV=window.PLOTLYENV || {};window.PLOTLYENV.BASE_URL=\"https://plot.ly\";Plotly.newPlot(\"8c697301-da8e-4232-9381-03600cb01183\", [{\"name\": \"\\u62c6\\u5206\\u6d41\\u7a0b\\u5f02\\u5e38\\u6570\", \"x\": [\"10-2\", \"10-3\", \"8-1\", \"8-2\", \"8-3\", \"8-4\", \"8-5\", \"9-1\", \"9-2\", \"9-3\", \"9-4\"], \"y\": [0, 0, 2, 0, 1, 0, 4, 2, 0, 0, 0], \"type\": \"scatter\", \"uid\": \"8811f59a-d69e-11e8-8ddb-a41f72875c19\"}, {\"name\": \"\\u5904\\u7406\\u5ef6\\u671f\", \"x\": [\"10-2\", \"10-3\", \"8-1\", \"8-2\", \"8-3\", \"8-4\", \"8-5\", \"9-1\", \"9-2\", \"9-3\", \"9-4\"], \"y\": [2, 0, 0, 0, 0, 0, 0, 0, 0, 0, 1], \"type\": \"scatter\", \"uid\": \"8811f59b-d69e-11e8-8ddb-a41f72875c19\"}], {\"title\": \"\\u62c6\\u5206\\u6d41\\u7a0b\\u5f02\\u5e38\\u6570&\\u5904\\u7406\\u5ef6\\u671f\\u5468\\u8d8b\\u52bf\\u56fe\", \"xaxis\": {\"mirror\": \"all\", \"nticks\": 20, \"showgrid\": true, \"showline\": true, \"title\": \"\\u5468\", \"type\": \"category\", \"zeroline\": true}, \"yaxis\": {\"mirror\": \"all\", \"nticks\": 20, \"showgrid\": true, \"showline\": true, \"title\": \"\\u62c6\\u5206\\u6d41\\u7a0b\\u5f02\\u5e38\\u6570&\\u5904\\u7406\\u5ef6\\u671f\", \"zeroline\": true}}, {\"showLink\": true, \"linkText\": \"Export to plot.ly\"})});</script>"
      ],
      "text/vnd.plotly.v1+html": [
       "<div id=\"8c697301-da8e-4232-9381-03600cb01183\" style=\"height: 525px; width: 100%;\" class=\"plotly-graph-div\"></div><script type=\"text/javascript\">require([\"plotly\"], function(Plotly) { window.PLOTLYENV=window.PLOTLYENV || {};window.PLOTLYENV.BASE_URL=\"https://plot.ly\";Plotly.newPlot(\"8c697301-da8e-4232-9381-03600cb01183\", [{\"name\": \"\\u62c6\\u5206\\u6d41\\u7a0b\\u5f02\\u5e38\\u6570\", \"x\": [\"10-2\", \"10-3\", \"8-1\", \"8-2\", \"8-3\", \"8-4\", \"8-5\", \"9-1\", \"9-2\", \"9-3\", \"9-4\"], \"y\": [0, 0, 2, 0, 1, 0, 4, 2, 0, 0, 0], \"type\": \"scatter\", \"uid\": \"8811f59a-d69e-11e8-8ddb-a41f72875c19\"}, {\"name\": \"\\u5904\\u7406\\u5ef6\\u671f\", \"x\": [\"10-2\", \"10-3\", \"8-1\", \"8-2\", \"8-3\", \"8-4\", \"8-5\", \"9-1\", \"9-2\", \"9-3\", \"9-4\"], \"y\": [2, 0, 0, 0, 0, 0, 0, 0, 0, 0, 1], \"type\": \"scatter\", \"uid\": \"8811f59b-d69e-11e8-8ddb-a41f72875c19\"}], {\"title\": \"\\u62c6\\u5206\\u6d41\\u7a0b\\u5f02\\u5e38\\u6570&\\u5904\\u7406\\u5ef6\\u671f\\u5468\\u8d8b\\u52bf\\u56fe\", \"xaxis\": {\"mirror\": \"all\", \"nticks\": 20, \"showgrid\": true, \"showline\": true, \"title\": \"\\u5468\", \"type\": \"category\", \"zeroline\": true}, \"yaxis\": {\"mirror\": \"all\", \"nticks\": 20, \"showgrid\": true, \"showline\": true, \"title\": \"\\u62c6\\u5206\\u6d41\\u7a0b\\u5f02\\u5e38\\u6570&\\u5904\\u7406\\u5ef6\\u671f\", \"zeroline\": true}}, {\"showLink\": true, \"linkText\": \"Export to plot.ly\"})});</script>"
      ]
     },
     "metadata": {},
     "output_type": "display_data"
    },
    {
     "data": {
      "application/vnd.plotly.v1+json": {
       "data": [
        {
         "name": "拆分流程异常数",
         "type": "scatter",
         "uid": "8811f59c-d69e-11e8-8ddb-a41f72875c19",
         "x": [
          8,
          9,
          10
         ],
         "y": [
          1.4,
          0.5,
          0
         ]
        },
        {
         "name": "处理延期",
         "type": "scatter",
         "uid": "8811f59d-d69e-11e8-8ddb-a41f72875c19",
         "x": [
          8,
          9,
          10
         ],
         "y": [
          0,
          0.25,
          1
         ]
        }
       ],
       "layout": {
        "title": "拆分流程异常数&处理延期月趋势图",
        "xaxis": {
         "mirror": "all",
         "nticks": 20,
         "showgrid": true,
         "showline": true,
         "title": "月",
         "type": "category",
         "zeroline": true
        },
        "yaxis": {
         "mirror": "all",
         "nticks": 20,
         "showgrid": true,
         "showline": true,
         "title": "拆分流程异常数&处理延期",
         "zeroline": true
        }
       }
      },
      "text/html": [
       "<div id=\"2d0458fe-209a-4e2b-abb2-f478f3c90ecf\" style=\"height: 525px; width: 100%;\" class=\"plotly-graph-div\"></div><script type=\"text/javascript\">require([\"plotly\"], function(Plotly) { window.PLOTLYENV=window.PLOTLYENV || {};window.PLOTLYENV.BASE_URL=\"https://plot.ly\";Plotly.newPlot(\"2d0458fe-209a-4e2b-abb2-f478f3c90ecf\", [{\"name\": \"\\u62c6\\u5206\\u6d41\\u7a0b\\u5f02\\u5e38\\u6570\", \"x\": [8, 9, 10], \"y\": [1.4, 0.5, 0.0], \"type\": \"scatter\", \"uid\": \"8811f59c-d69e-11e8-8ddb-a41f72875c19\"}, {\"name\": \"\\u5904\\u7406\\u5ef6\\u671f\", \"x\": [8, 9, 10], \"y\": [0.0, 0.25, 1.0], \"type\": \"scatter\", \"uid\": \"8811f59d-d69e-11e8-8ddb-a41f72875c19\"}], {\"title\": \"\\u62c6\\u5206\\u6d41\\u7a0b\\u5f02\\u5e38\\u6570&\\u5904\\u7406\\u5ef6\\u671f\\u6708\\u8d8b\\u52bf\\u56fe\", \"xaxis\": {\"mirror\": \"all\", \"nticks\": 20, \"showgrid\": true, \"showline\": true, \"title\": \"\\u6708\", \"type\": \"category\", \"zeroline\": true}, \"yaxis\": {\"mirror\": \"all\", \"nticks\": 20, \"showgrid\": true, \"showline\": true, \"title\": \"\\u62c6\\u5206\\u6d41\\u7a0b\\u5f02\\u5e38\\u6570&\\u5904\\u7406\\u5ef6\\u671f\", \"zeroline\": true}}, {\"showLink\": true, \"linkText\": \"Export to plot.ly\"})});</script>"
      ],
      "text/vnd.plotly.v1+html": [
       "<div id=\"2d0458fe-209a-4e2b-abb2-f478f3c90ecf\" style=\"height: 525px; width: 100%;\" class=\"plotly-graph-div\"></div><script type=\"text/javascript\">require([\"plotly\"], function(Plotly) { window.PLOTLYENV=window.PLOTLYENV || {};window.PLOTLYENV.BASE_URL=\"https://plot.ly\";Plotly.newPlot(\"2d0458fe-209a-4e2b-abb2-f478f3c90ecf\", [{\"name\": \"\\u62c6\\u5206\\u6d41\\u7a0b\\u5f02\\u5e38\\u6570\", \"x\": [8, 9, 10], \"y\": [1.4, 0.5, 0.0], \"type\": \"scatter\", \"uid\": \"8811f59c-d69e-11e8-8ddb-a41f72875c19\"}, {\"name\": \"\\u5904\\u7406\\u5ef6\\u671f\", \"x\": [8, 9, 10], \"y\": [0.0, 0.25, 1.0], \"type\": \"scatter\", \"uid\": \"8811f59d-d69e-11e8-8ddb-a41f72875c19\"}], {\"title\": \"\\u62c6\\u5206\\u6d41\\u7a0b\\u5f02\\u5e38\\u6570&\\u5904\\u7406\\u5ef6\\u671f\\u6708\\u8d8b\\u52bf\\u56fe\", \"xaxis\": {\"mirror\": \"all\", \"nticks\": 20, \"showgrid\": true, \"showline\": true, \"title\": \"\\u6708\", \"type\": \"category\", \"zeroline\": true}, \"yaxis\": {\"mirror\": \"all\", \"nticks\": 20, \"showgrid\": true, \"showline\": true, \"title\": \"\\u62c6\\u5206\\u6d41\\u7a0b\\u5f02\\u5e38\\u6570&\\u5904\\u7406\\u5ef6\\u671f\", \"zeroline\": true}}, {\"showLink\": true, \"linkText\": \"Export to plot.ly\"})});</script>"
      ]
     },
     "metadata": {},
     "output_type": "display_data"
    }
   ],
   "source": [
    "in_list = ['拆分流程异常数','处理延期' ]\n",
    "ss = myModule.format(all_df2 ,\"日期（格式“月-周次”）\" ,in_list)\n",
    "myModule.myPlot(ss.groupby('sum')).plot('line')\n",
    "\n",
    "ss = myModule.format(all_df2 ,\"month\" ,in_list)\n",
    "myModule.myPlot(ss.groupby('mean')).plot('line','月')"
   ]
  },
  {
   "cell_type": "code",
   "execution_count": 21,
   "metadata": {
    "collapsed": true
   },
   "outputs": [],
   "source": [
    "all_files , title = myModule.get_title(pathway , 0 ) ##给路径\n",
    "all_dict = myModule.read_xlsx(all_files, 0 ) ## read all files"
   ]
  },
  {
   "cell_type": "markdown",
   "metadata": {},
   "source": [
    "# 过滤项目个人情况"
   ]
  },
  {
   "cell_type": "markdown",
   "metadata": {},
   "source": [
    "## 产能"
   ]
  },
  {
   "cell_type": "markdown",
   "metadata": {},
   "source": [
    "### 下机批次"
   ]
  },
  {
   "cell_type": "code",
   "execution_count": 22,
   "metadata": {
    "collapsed": false
   },
   "outputs": [
    {
     "data": {
      "application/vnd.plotly.v1+json": {
       "data": [
        {
         "line": {
          "dash": "solid"
         },
         "name": "下机批次数(冷雪)",
         "type": "scatter",
         "uid": "8811f59e-d69e-11e8-8ddb-a41f72875c19",
         "x": [
          "10-2",
          "10-3",
          "8-1",
          "8-2",
          "8-3",
          "8-4",
          "8-5",
          "9-1",
          "9-2",
          "9-3",
          "9-4"
         ],
         "y": [
          69,
          129,
          38,
          58,
          66,
          28,
          5,
          58,
          76,
          115,
          159
         ]
        },
        {
         "line": {
          "dash": "dot"
         },
         "name": "下机批次数(屈昂)",
         "type": "scatter",
         "uid": "8811f59f-d69e-11e8-8ddb-a41f72875c19",
         "x": [
          "10-2",
          "10-3",
          "8-1",
          "8-2",
          "8-3",
          "8-4",
          "8-5",
          "9-1",
          "9-2",
          "9-3",
          "9-4"
         ],
         "y": [
          1,
          3,
          42,
          74,
          75,
          119,
          85,
          135,
          45,
          21,
          17
         ]
        },
        {
         "line": {
          "dash": "dash"
         },
         "name": "下机批次数(张悦)",
         "type": "scatter",
         "uid": "8811f5a0-d69e-11e8-8ddb-a41f72875c19",
         "x": [
          "10-2",
          "10-3",
          "8-1",
          "8-2",
          "8-3",
          "8-4",
          "8-5",
          "9-1",
          "9-2",
          "9-3",
          "9-4"
         ],
         "y": [
          0,
          0,
          2,
          2,
          1,
          1,
          7,
          4,
          0,
          0,
          0
         ]
        },
        {
         "line": {
          "dash": "longdash"
         },
         "name": "下机批次数(卢楠)",
         "type": "scatter",
         "uid": "8811f5a1-d69e-11e8-8ddb-a41f72875c19",
         "x": [
          "10-2",
          "10-3",
          "8-1",
          "8-2",
          "8-3",
          "8-4",
          "8-5",
          "9-1",
          "9-2",
          "9-3",
          "9-4"
         ],
         "y": [
          null,
          null,
          36,
          47,
          23,
          13,
          3,
          2,
          3,
          0,
          0
         ]
        },
        {
         "line": {
          "dash": "solid"
         },
         "name": "下机项目数(冷雪)",
         "type": "scatter",
         "uid": "8811f5a2-d69e-11e8-8ddb-a41f72875c19",
         "x": [
          "10-2",
          "10-3",
          "8-1",
          "8-2",
          "8-3",
          "8-4",
          "8-5",
          "9-1",
          "9-2",
          "9-3",
          "9-4"
         ],
         "y": [
          65,
          107,
          31,
          49,
          51,
          26,
          2,
          54,
          63,
          103,
          138
         ]
        },
        {
         "line": {
          "dash": "dot"
         },
         "name": "下机项目数(屈昂)",
         "type": "scatter",
         "uid": "8811f5a3-d69e-11e8-8ddb-a41f72875c19",
         "x": [
          "10-2",
          "10-3",
          "8-1",
          "8-2",
          "8-3",
          "8-4",
          "8-5",
          "9-1",
          "9-2",
          "9-3",
          "9-4"
         ],
         "y": [
          1,
          3,
          36,
          62,
          62,
          96,
          76,
          117,
          38,
          19,
          15
         ]
        },
        {
         "line": {
          "dash": "dash"
         },
         "name": "下机项目数(张悦)",
         "type": "scatter",
         "uid": "8811f5a4-d69e-11e8-8ddb-a41f72875c19",
         "x": [
          "10-2",
          "10-3",
          "8-1",
          "8-2",
          "8-3",
          "8-4",
          "8-5",
          "9-1",
          "9-2",
          "9-3",
          "9-4"
         ],
         "y": [
          0,
          0,
          1,
          1,
          1,
          1,
          5,
          2,
          0,
          0,
          0
         ]
        },
        {
         "line": {
          "dash": "longdash"
         },
         "name": "下机项目数(卢楠)",
         "type": "scatter",
         "uid": "8811f5a5-d69e-11e8-8ddb-a41f72875c19",
         "x": [
          "10-2",
          "10-3",
          "8-1",
          "8-2",
          "8-3",
          "8-4",
          "8-5",
          "9-1",
          "9-2",
          "9-3",
          "9-4"
         ],
         "y": [
          null,
          null,
          26,
          34,
          21,
          13,
          2,
          1,
          2,
          0,
          0
         ]
        }
       ],
       "layout": {
        "title": "下机批次数&下机项目数周趋势图",
        "xaxis": {
         "mirror": "all",
         "nticks": 20,
         "showgrid": true,
         "showline": true,
         "title": "周",
         "type": "category",
         "zeroline": true
        },
        "yaxis": {
         "mirror": "all",
         "nticks": 20,
         "showgrid": true,
         "showline": true,
         "title": "下机批次数&下机项目数",
         "zeroline": true
        }
       }
      },
      "text/html": [
       "<div id=\"83e5e458-be96-45c2-894d-c1aaee00b967\" style=\"height: 525px; width: 100%;\" class=\"plotly-graph-div\"></div><script type=\"text/javascript\">require([\"plotly\"], function(Plotly) { window.PLOTLYENV=window.PLOTLYENV || {};window.PLOTLYENV.BASE_URL=\"https://plot.ly\";Plotly.newPlot(\"83e5e458-be96-45c2-894d-c1aaee00b967\", [{\"line\": {\"dash\": \"solid\"}, \"name\": \"\\u4e0b\\u673a\\u6279\\u6b21\\u6570(\\u51b7\\u96ea)\", \"x\": [\"10-2\", \"10-3\", \"8-1\", \"8-2\", \"8-3\", \"8-4\", \"8-5\", \"9-1\", \"9-2\", \"9-3\", \"9-4\"], \"y\": [69.0, 129.0, 38.0, 58.0, 66.0, 28.0, 5.0, 58.0, 76.0, 115.0, 159.0], \"type\": \"scatter\", \"uid\": \"8811f59e-d69e-11e8-8ddb-a41f72875c19\"}, {\"line\": {\"dash\": \"dot\"}, \"name\": \"\\u4e0b\\u673a\\u6279\\u6b21\\u6570(\\u5c48\\u6602)\", \"x\": [\"10-2\", \"10-3\", \"8-1\", \"8-2\", \"8-3\", \"8-4\", \"8-5\", \"9-1\", \"9-2\", \"9-3\", \"9-4\"], \"y\": [1.0, 3.0, 42.0, 74.0, 75.0, 119.0, 85.0, 135.0, 45.0, 21.0, 17.0], \"type\": \"scatter\", \"uid\": \"8811f59f-d69e-11e8-8ddb-a41f72875c19\"}, {\"line\": {\"dash\": \"dash\"}, \"name\": \"\\u4e0b\\u673a\\u6279\\u6b21\\u6570(\\u5f20\\u60a6)\", \"x\": [\"10-2\", \"10-3\", \"8-1\", \"8-2\", \"8-3\", \"8-4\", \"8-5\", \"9-1\", \"9-2\", \"9-3\", \"9-4\"], \"y\": [0.0, 0.0, 2.0, 2.0, 1.0, 1.0, 7.0, 4.0, 0.0, 0.0, 0.0], \"type\": \"scatter\", \"uid\": \"8811f5a0-d69e-11e8-8ddb-a41f72875c19\"}, {\"line\": {\"dash\": \"longdash\"}, \"name\": \"\\u4e0b\\u673a\\u6279\\u6b21\\u6570(\\u5362\\u6960)\", \"x\": [\"10-2\", \"10-3\", \"8-1\", \"8-2\", \"8-3\", \"8-4\", \"8-5\", \"9-1\", \"9-2\", \"9-3\", \"9-4\"], \"y\": [null, null, 36.0, 47.0, 23.0, 13.0, 3.0, 2.0, 3.0, 0.0, 0.0], \"type\": \"scatter\", \"uid\": \"8811f5a1-d69e-11e8-8ddb-a41f72875c19\"}, {\"line\": {\"dash\": \"solid\"}, \"name\": \"\\u4e0b\\u673a\\u9879\\u76ee\\u6570(\\u51b7\\u96ea)\", \"x\": [\"10-2\", \"10-3\", \"8-1\", \"8-2\", \"8-3\", \"8-4\", \"8-5\", \"9-1\", \"9-2\", \"9-3\", \"9-4\"], \"y\": [65.0, 107.0, 31.0, 49.0, 51.0, 26.0, 2.0, 54.0, 63.0, 103.0, 138.0], \"type\": \"scatter\", \"uid\": \"8811f5a2-d69e-11e8-8ddb-a41f72875c19\"}, {\"line\": {\"dash\": \"dot\"}, \"name\": \"\\u4e0b\\u673a\\u9879\\u76ee\\u6570(\\u5c48\\u6602)\", \"x\": [\"10-2\", \"10-3\", \"8-1\", \"8-2\", \"8-3\", \"8-4\", \"8-5\", \"9-1\", \"9-2\", \"9-3\", \"9-4\"], \"y\": [1.0, 3.0, 36.0, 62.0, 62.0, 96.0, 76.0, 117.0, 38.0, 19.0, 15.0], \"type\": \"scatter\", \"uid\": \"8811f5a3-d69e-11e8-8ddb-a41f72875c19\"}, {\"line\": {\"dash\": \"dash\"}, \"name\": \"\\u4e0b\\u673a\\u9879\\u76ee\\u6570(\\u5f20\\u60a6)\", \"x\": [\"10-2\", \"10-3\", \"8-1\", \"8-2\", \"8-3\", \"8-4\", \"8-5\", \"9-1\", \"9-2\", \"9-3\", \"9-4\"], \"y\": [0.0, 0.0, 1.0, 1.0, 1.0, 1.0, 5.0, 2.0, 0.0, 0.0, 0.0], \"type\": \"scatter\", \"uid\": \"8811f5a4-d69e-11e8-8ddb-a41f72875c19\"}, {\"line\": {\"dash\": \"longdash\"}, \"name\": \"\\u4e0b\\u673a\\u9879\\u76ee\\u6570(\\u5362\\u6960)\", \"x\": [\"10-2\", \"10-3\", \"8-1\", \"8-2\", \"8-3\", \"8-4\", \"8-5\", \"9-1\", \"9-2\", \"9-3\", \"9-4\"], \"y\": [null, null, 26.0, 34.0, 21.0, 13.0, 2.0, 1.0, 2.0, 0.0, 0.0], \"type\": \"scatter\", \"uid\": \"8811f5a5-d69e-11e8-8ddb-a41f72875c19\"}], {\"title\": \"\\u4e0b\\u673a\\u6279\\u6b21\\u6570&\\u4e0b\\u673a\\u9879\\u76ee\\u6570\\u5468\\u8d8b\\u52bf\\u56fe\", \"xaxis\": {\"mirror\": \"all\", \"nticks\": 20, \"showgrid\": true, \"showline\": true, \"title\": \"\\u5468\", \"type\": \"category\", \"zeroline\": true}, \"yaxis\": {\"mirror\": \"all\", \"nticks\": 20, \"showgrid\": true, \"showline\": true, \"title\": \"\\u4e0b\\u673a\\u6279\\u6b21\\u6570&\\u4e0b\\u673a\\u9879\\u76ee\\u6570\", \"zeroline\": true}}, {\"showLink\": true, \"linkText\": \"Export to plot.ly\"})});</script>"
      ],
      "text/vnd.plotly.v1+html": [
       "<div id=\"83e5e458-be96-45c2-894d-c1aaee00b967\" style=\"height: 525px; width: 100%;\" class=\"plotly-graph-div\"></div><script type=\"text/javascript\">require([\"plotly\"], function(Plotly) { window.PLOTLYENV=window.PLOTLYENV || {};window.PLOTLYENV.BASE_URL=\"https://plot.ly\";Plotly.newPlot(\"83e5e458-be96-45c2-894d-c1aaee00b967\", [{\"line\": {\"dash\": \"solid\"}, \"name\": \"\\u4e0b\\u673a\\u6279\\u6b21\\u6570(\\u51b7\\u96ea)\", \"x\": [\"10-2\", \"10-3\", \"8-1\", \"8-2\", \"8-3\", \"8-4\", \"8-5\", \"9-1\", \"9-2\", \"9-3\", \"9-4\"], \"y\": [69.0, 129.0, 38.0, 58.0, 66.0, 28.0, 5.0, 58.0, 76.0, 115.0, 159.0], \"type\": \"scatter\", \"uid\": \"8811f59e-d69e-11e8-8ddb-a41f72875c19\"}, {\"line\": {\"dash\": \"dot\"}, \"name\": \"\\u4e0b\\u673a\\u6279\\u6b21\\u6570(\\u5c48\\u6602)\", \"x\": [\"10-2\", \"10-3\", \"8-1\", \"8-2\", \"8-3\", \"8-4\", \"8-5\", \"9-1\", \"9-2\", \"9-3\", \"9-4\"], \"y\": [1.0, 3.0, 42.0, 74.0, 75.0, 119.0, 85.0, 135.0, 45.0, 21.0, 17.0], \"type\": \"scatter\", \"uid\": \"8811f59f-d69e-11e8-8ddb-a41f72875c19\"}, {\"line\": {\"dash\": \"dash\"}, \"name\": \"\\u4e0b\\u673a\\u6279\\u6b21\\u6570(\\u5f20\\u60a6)\", \"x\": [\"10-2\", \"10-3\", \"8-1\", \"8-2\", \"8-3\", \"8-4\", \"8-5\", \"9-1\", \"9-2\", \"9-3\", \"9-4\"], \"y\": [0.0, 0.0, 2.0, 2.0, 1.0, 1.0, 7.0, 4.0, 0.0, 0.0, 0.0], \"type\": \"scatter\", \"uid\": \"8811f5a0-d69e-11e8-8ddb-a41f72875c19\"}, {\"line\": {\"dash\": \"longdash\"}, \"name\": \"\\u4e0b\\u673a\\u6279\\u6b21\\u6570(\\u5362\\u6960)\", \"x\": [\"10-2\", \"10-3\", \"8-1\", \"8-2\", \"8-3\", \"8-4\", \"8-5\", \"9-1\", \"9-2\", \"9-3\", \"9-4\"], \"y\": [null, null, 36.0, 47.0, 23.0, 13.0, 3.0, 2.0, 3.0, 0.0, 0.0], \"type\": \"scatter\", \"uid\": \"8811f5a1-d69e-11e8-8ddb-a41f72875c19\"}, {\"line\": {\"dash\": \"solid\"}, \"name\": \"\\u4e0b\\u673a\\u9879\\u76ee\\u6570(\\u51b7\\u96ea)\", \"x\": [\"10-2\", \"10-3\", \"8-1\", \"8-2\", \"8-3\", \"8-4\", \"8-5\", \"9-1\", \"9-2\", \"9-3\", \"9-4\"], \"y\": [65.0, 107.0, 31.0, 49.0, 51.0, 26.0, 2.0, 54.0, 63.0, 103.0, 138.0], \"type\": \"scatter\", \"uid\": \"8811f5a2-d69e-11e8-8ddb-a41f72875c19\"}, {\"line\": {\"dash\": \"dot\"}, \"name\": \"\\u4e0b\\u673a\\u9879\\u76ee\\u6570(\\u5c48\\u6602)\", \"x\": [\"10-2\", \"10-3\", \"8-1\", \"8-2\", \"8-3\", \"8-4\", \"8-5\", \"9-1\", \"9-2\", \"9-3\", \"9-4\"], \"y\": [1.0, 3.0, 36.0, 62.0, 62.0, 96.0, 76.0, 117.0, 38.0, 19.0, 15.0], \"type\": \"scatter\", \"uid\": \"8811f5a3-d69e-11e8-8ddb-a41f72875c19\"}, {\"line\": {\"dash\": \"dash\"}, \"name\": \"\\u4e0b\\u673a\\u9879\\u76ee\\u6570(\\u5f20\\u60a6)\", \"x\": [\"10-2\", \"10-3\", \"8-1\", \"8-2\", \"8-3\", \"8-4\", \"8-5\", \"9-1\", \"9-2\", \"9-3\", \"9-4\"], \"y\": [0.0, 0.0, 1.0, 1.0, 1.0, 1.0, 5.0, 2.0, 0.0, 0.0, 0.0], \"type\": \"scatter\", \"uid\": \"8811f5a4-d69e-11e8-8ddb-a41f72875c19\"}, {\"line\": {\"dash\": \"longdash\"}, \"name\": \"\\u4e0b\\u673a\\u9879\\u76ee\\u6570(\\u5362\\u6960)\", \"x\": [\"10-2\", \"10-3\", \"8-1\", \"8-2\", \"8-3\", \"8-4\", \"8-5\", \"9-1\", \"9-2\", \"9-3\", \"9-4\"], \"y\": [null, null, 26.0, 34.0, 21.0, 13.0, 2.0, 1.0, 2.0, 0.0, 0.0], \"type\": \"scatter\", \"uid\": \"8811f5a5-d69e-11e8-8ddb-a41f72875c19\"}], {\"title\": \"\\u4e0b\\u673a\\u6279\\u6b21\\u6570&\\u4e0b\\u673a\\u9879\\u76ee\\u6570\\u5468\\u8d8b\\u52bf\\u56fe\", \"xaxis\": {\"mirror\": \"all\", \"nticks\": 20, \"showgrid\": true, \"showline\": true, \"title\": \"\\u5468\", \"type\": \"category\", \"zeroline\": true}, \"yaxis\": {\"mirror\": \"all\", \"nticks\": 20, \"showgrid\": true, \"showline\": true, \"title\": \"\\u4e0b\\u673a\\u6279\\u6b21\\u6570&\\u4e0b\\u673a\\u9879\\u76ee\\u6570\", \"zeroline\": true}}, {\"showLink\": true, \"linkText\": \"Export to plot.ly\"})});</script>"
      ]
     },
     "metadata": {},
     "output_type": "display_data"
    },
    {
     "data": {
      "application/vnd.plotly.v1+json": {
       "data": [
        {
         "line": {
          "dash": "solid"
         },
         "name": "下机批次数(冷雪)",
         "type": "scatter",
         "uid": "8811f5a6-d69e-11e8-8ddb-a41f72875c19",
         "x": [
          8,
          9,
          10
         ],
         "y": [
          195,
          408,
          198
         ]
        },
        {
         "line": {
          "dash": "dot"
         },
         "name": "下机批次数(屈昂)",
         "type": "scatter",
         "uid": "8811f5a7-d69e-11e8-8ddb-a41f72875c19",
         "x": [
          8,
          9,
          10
         ],
         "y": [
          395,
          218,
          4
         ]
        },
        {
         "line": {
          "dash": "dash"
         },
         "name": "下机批次数(张悦)",
         "type": "scatter",
         "uid": "8811f5a8-d69e-11e8-8ddb-a41f72875c19",
         "x": [
          8,
          9,
          10
         ],
         "y": [
          13,
          4,
          0
         ]
        },
        {
         "line": {
          "dash": "longdash"
         },
         "name": "下机批次数(卢楠)",
         "type": "scatter",
         "uid": "8811f5a9-d69e-11e8-8ddb-a41f72875c19",
         "x": [
          8,
          9,
          10
         ],
         "y": [
          122,
          5,
          null
         ]
        },
        {
         "line": {
          "dash": "solid"
         },
         "name": "下机项目数(冷雪)",
         "type": "scatter",
         "uid": "8811f5aa-d69e-11e8-8ddb-a41f72875c19",
         "x": [
          8,
          9,
          10
         ],
         "y": [
          159,
          358,
          172
         ]
        },
        {
         "line": {
          "dash": "dot"
         },
         "name": "下机项目数(屈昂)",
         "type": "scatter",
         "uid": "8811f5ab-d69e-11e8-8ddb-a41f72875c19",
         "x": [
          8,
          9,
          10
         ],
         "y": [
          332,
          189,
          4
         ]
        },
        {
         "line": {
          "dash": "dash"
         },
         "name": "下机项目数(张悦)",
         "type": "scatter",
         "uid": "8811f5ac-d69e-11e8-8ddb-a41f72875c19",
         "x": [
          8,
          9,
          10
         ],
         "y": [
          9,
          2,
          0
         ]
        },
        {
         "line": {
          "dash": "longdash"
         },
         "name": "下机项目数(卢楠)",
         "type": "scatter",
         "uid": "8811f5ad-d69e-11e8-8ddb-a41f72875c19",
         "x": [
          8,
          9,
          10
         ],
         "y": [
          96,
          3,
          null
         ]
        }
       ],
       "layout": {
        "title": "下机批次数&下机项目数月趋势图",
        "xaxis": {
         "mirror": "all",
         "nticks": 20,
         "showgrid": true,
         "showline": true,
         "title": "月",
         "type": "category",
         "zeroline": true
        },
        "yaxis": {
         "mirror": "all",
         "nticks": 20,
         "showgrid": true,
         "showline": true,
         "title": "下机批次数&下机项目数",
         "zeroline": true
        }
       }
      },
      "text/html": [
       "<div id=\"00bcf0fe-6691-40d5-bf58-9a6808afd1d1\" style=\"height: 525px; width: 100%;\" class=\"plotly-graph-div\"></div><script type=\"text/javascript\">require([\"plotly\"], function(Plotly) { window.PLOTLYENV=window.PLOTLYENV || {};window.PLOTLYENV.BASE_URL=\"https://plot.ly\";Plotly.newPlot(\"00bcf0fe-6691-40d5-bf58-9a6808afd1d1\", [{\"line\": {\"dash\": \"solid\"}, \"name\": \"\\u4e0b\\u673a\\u6279\\u6b21\\u6570(\\u51b7\\u96ea)\", \"x\": [8, 9, 10], \"y\": [195.0, 408.0, 198.0], \"type\": \"scatter\", \"uid\": \"8811f5a6-d69e-11e8-8ddb-a41f72875c19\"}, {\"line\": {\"dash\": \"dot\"}, \"name\": \"\\u4e0b\\u673a\\u6279\\u6b21\\u6570(\\u5c48\\u6602)\", \"x\": [8, 9, 10], \"y\": [395.0, 218.0, 4.0], \"type\": \"scatter\", \"uid\": \"8811f5a7-d69e-11e8-8ddb-a41f72875c19\"}, {\"line\": {\"dash\": \"dash\"}, \"name\": \"\\u4e0b\\u673a\\u6279\\u6b21\\u6570(\\u5f20\\u60a6)\", \"x\": [8, 9, 10], \"y\": [13.0, 4.0, 0.0], \"type\": \"scatter\", \"uid\": \"8811f5a8-d69e-11e8-8ddb-a41f72875c19\"}, {\"line\": {\"dash\": \"longdash\"}, \"name\": \"\\u4e0b\\u673a\\u6279\\u6b21\\u6570(\\u5362\\u6960)\", \"x\": [8, 9, 10], \"y\": [122.0, 5.0, null], \"type\": \"scatter\", \"uid\": \"8811f5a9-d69e-11e8-8ddb-a41f72875c19\"}, {\"line\": {\"dash\": \"solid\"}, \"name\": \"\\u4e0b\\u673a\\u9879\\u76ee\\u6570(\\u51b7\\u96ea)\", \"x\": [8, 9, 10], \"y\": [159.0, 358.0, 172.0], \"type\": \"scatter\", \"uid\": \"8811f5aa-d69e-11e8-8ddb-a41f72875c19\"}, {\"line\": {\"dash\": \"dot\"}, \"name\": \"\\u4e0b\\u673a\\u9879\\u76ee\\u6570(\\u5c48\\u6602)\", \"x\": [8, 9, 10], \"y\": [332.0, 189.0, 4.0], \"type\": \"scatter\", \"uid\": \"8811f5ab-d69e-11e8-8ddb-a41f72875c19\"}, {\"line\": {\"dash\": \"dash\"}, \"name\": \"\\u4e0b\\u673a\\u9879\\u76ee\\u6570(\\u5f20\\u60a6)\", \"x\": [8, 9, 10], \"y\": [9.0, 2.0, 0.0], \"type\": \"scatter\", \"uid\": \"8811f5ac-d69e-11e8-8ddb-a41f72875c19\"}, {\"line\": {\"dash\": \"longdash\"}, \"name\": \"\\u4e0b\\u673a\\u9879\\u76ee\\u6570(\\u5362\\u6960)\", \"x\": [8, 9, 10], \"y\": [96.0, 3.0, null], \"type\": \"scatter\", \"uid\": \"8811f5ad-d69e-11e8-8ddb-a41f72875c19\"}], {\"title\": \"\\u4e0b\\u673a\\u6279\\u6b21\\u6570&\\u4e0b\\u673a\\u9879\\u76ee\\u6570\\u6708\\u8d8b\\u52bf\\u56fe\", \"xaxis\": {\"mirror\": \"all\", \"nticks\": 20, \"showgrid\": true, \"showline\": true, \"title\": \"\\u6708\", \"type\": \"category\", \"zeroline\": true}, \"yaxis\": {\"mirror\": \"all\", \"nticks\": 20, \"showgrid\": true, \"showline\": true, \"title\": \"\\u4e0b\\u673a\\u6279\\u6b21\\u6570&\\u4e0b\\u673a\\u9879\\u76ee\\u6570\", \"zeroline\": true}}, {\"showLink\": true, \"linkText\": \"Export to plot.ly\"})});</script>"
      ],
      "text/vnd.plotly.v1+html": [
       "<div id=\"00bcf0fe-6691-40d5-bf58-9a6808afd1d1\" style=\"height: 525px; width: 100%;\" class=\"plotly-graph-div\"></div><script type=\"text/javascript\">require([\"plotly\"], function(Plotly) { window.PLOTLYENV=window.PLOTLYENV || {};window.PLOTLYENV.BASE_URL=\"https://plot.ly\";Plotly.newPlot(\"00bcf0fe-6691-40d5-bf58-9a6808afd1d1\", [{\"line\": {\"dash\": \"solid\"}, \"name\": \"\\u4e0b\\u673a\\u6279\\u6b21\\u6570(\\u51b7\\u96ea)\", \"x\": [8, 9, 10], \"y\": [195.0, 408.0, 198.0], \"type\": \"scatter\", \"uid\": \"8811f5a6-d69e-11e8-8ddb-a41f72875c19\"}, {\"line\": {\"dash\": \"dot\"}, \"name\": \"\\u4e0b\\u673a\\u6279\\u6b21\\u6570(\\u5c48\\u6602)\", \"x\": [8, 9, 10], \"y\": [395.0, 218.0, 4.0], \"type\": \"scatter\", \"uid\": \"8811f5a7-d69e-11e8-8ddb-a41f72875c19\"}, {\"line\": {\"dash\": \"dash\"}, \"name\": \"\\u4e0b\\u673a\\u6279\\u6b21\\u6570(\\u5f20\\u60a6)\", \"x\": [8, 9, 10], \"y\": [13.0, 4.0, 0.0], \"type\": \"scatter\", \"uid\": \"8811f5a8-d69e-11e8-8ddb-a41f72875c19\"}, {\"line\": {\"dash\": \"longdash\"}, \"name\": \"\\u4e0b\\u673a\\u6279\\u6b21\\u6570(\\u5362\\u6960)\", \"x\": [8, 9, 10], \"y\": [122.0, 5.0, null], \"type\": \"scatter\", \"uid\": \"8811f5a9-d69e-11e8-8ddb-a41f72875c19\"}, {\"line\": {\"dash\": \"solid\"}, \"name\": \"\\u4e0b\\u673a\\u9879\\u76ee\\u6570(\\u51b7\\u96ea)\", \"x\": [8, 9, 10], \"y\": [159.0, 358.0, 172.0], \"type\": \"scatter\", \"uid\": \"8811f5aa-d69e-11e8-8ddb-a41f72875c19\"}, {\"line\": {\"dash\": \"dot\"}, \"name\": \"\\u4e0b\\u673a\\u9879\\u76ee\\u6570(\\u5c48\\u6602)\", \"x\": [8, 9, 10], \"y\": [332.0, 189.0, 4.0], \"type\": \"scatter\", \"uid\": \"8811f5ab-d69e-11e8-8ddb-a41f72875c19\"}, {\"line\": {\"dash\": \"dash\"}, \"name\": \"\\u4e0b\\u673a\\u9879\\u76ee\\u6570(\\u5f20\\u60a6)\", \"x\": [8, 9, 10], \"y\": [9.0, 2.0, 0.0], \"type\": \"scatter\", \"uid\": \"8811f5ac-d69e-11e8-8ddb-a41f72875c19\"}, {\"line\": {\"dash\": \"longdash\"}, \"name\": \"\\u4e0b\\u673a\\u9879\\u76ee\\u6570(\\u5362\\u6960)\", \"x\": [8, 9, 10], \"y\": [96.0, 3.0, null], \"type\": \"scatter\", \"uid\": \"8811f5ad-d69e-11e8-8ddb-a41f72875c19\"}], {\"title\": \"\\u4e0b\\u673a\\u6279\\u6b21\\u6570&\\u4e0b\\u673a\\u9879\\u76ee\\u6570\\u6708\\u8d8b\\u52bf\\u56fe\", \"xaxis\": {\"mirror\": \"all\", \"nticks\": 20, \"showgrid\": true, \"showline\": true, \"title\": \"\\u6708\", \"type\": \"category\", \"zeroline\": true}, \"yaxis\": {\"mirror\": \"all\", \"nticks\": 20, \"showgrid\": true, \"showline\": true, \"title\": \"\\u4e0b\\u673a\\u6279\\u6b21\\u6570&\\u4e0b\\u673a\\u9879\\u76ee\\u6570\", \"zeroline\": true}}, {\"showLink\": true, \"linkText\": \"Export to plot.ly\"})});</script>"
      ]
     },
     "metadata": {},
     "output_type": "display_data"
    }
   ],
   "source": [
    "in_list = ['下机批次数' ,'下机项目数' ]\n",
    "ss = myModule.format(all_df1 ,\"日期（格式“月-周次”）\" ,in_list)\n",
    "ss.add_group('人员')\n",
    "myModule.myPlot(ss.groupby('sum')).plot('line')\n",
    "ss = myModule.format(all_df1 ,\"month\" ,in_list)\n",
    "ss.add_group('人员')\n",
    "myModule.myPlot(ss.groupby('sum')).plot('line','月')"
   ]
  },
  {
   "cell_type": "markdown",
   "metadata": {},
   "source": [
    "## 效率"
   ]
  },
  {
   "cell_type": "markdown",
   "metadata": {},
   "source": [
    "### 反馈及时率和数据及时交付率"
   ]
  },
  {
   "cell_type": "code",
   "execution_count": 23,
   "metadata": {
    "collapsed": false
   },
   "outputs": [
    {
     "data": {
      "application/vnd.plotly.v1+json": {
       "data": [
        {
         "line": {
          "dash": "solid"
         },
         "name": "数据及时交付率(冷雪)",
         "type": "scatter",
         "uid": "8811f5ae-d69e-11e8-8ddb-a41f72875c19",
         "x": [
          "10-2",
          "10-3",
          "8-1",
          "8-2",
          "8-3",
          "8-4",
          "8-5",
          "9-1",
          "9-2",
          "9-3",
          "9-4"
         ],
         "y": [
          1,
          1,
          1,
          1,
          1,
          1,
          1,
          1,
          1,
          1,
          1
         ]
        },
        {
         "line": {
          "dash": "dot"
         },
         "name": "数据及时交付率(屈昂)",
         "type": "scatter",
         "uid": "8811f5af-d69e-11e8-8ddb-a41f72875c19",
         "x": [
          "10-2",
          "10-3",
          "8-1",
          "8-2",
          "8-3",
          "8-4",
          "8-5",
          "9-1",
          "9-2",
          "9-3",
          "9-4"
         ],
         "y": [
          1,
          1,
          1,
          1,
          1,
          1,
          1,
          1,
          1,
          1,
          1
         ]
        },
        {
         "line": {
          "dash": "dash"
         },
         "name": "数据及时交付率(张悦)",
         "type": "scatter",
         "uid": "8811f5b0-d69e-11e8-8ddb-a41f72875c19",
         "x": [
          "10-2",
          "10-3",
          "8-1",
          "8-2",
          "8-3",
          "8-4",
          "8-5",
          "9-1",
          "9-2",
          "9-3",
          "9-4"
         ],
         "y": [
          1,
          1,
          1,
          1,
          1,
          1,
          1,
          1,
          null,
          null,
          1
         ]
        },
        {
         "line": {
          "dash": "longdash"
         },
         "name": "数据及时交付率(卢楠)",
         "type": "scatter",
         "uid": "8811f5b1-d69e-11e8-8ddb-a41f72875c19",
         "x": [
          "10-2",
          "10-3",
          "8-1",
          "8-2",
          "8-3",
          "8-4",
          "8-5",
          "9-1",
          "9-2",
          "9-3",
          "9-4"
         ],
         "y": [
          null,
          null,
          1,
          1,
          1,
          1,
          1,
          1,
          1,
          null,
          1
         ]
        },
        {
         "line": {
          "dash": "solid"
         },
         "name": "反馈及时率(冷雪)",
         "type": "scatter",
         "uid": "8811f5b2-d69e-11e8-8ddb-a41f72875c19",
         "x": [
          "10-2",
          "10-3",
          "8-1",
          "8-2",
          "8-3",
          "8-4",
          "8-5",
          "9-1",
          "9-2",
          "9-3",
          "9-4"
         ],
         "y": [
          1,
          0.9767441860465116,
          0.9210526315789473,
          0.9655172413793104,
          1,
          1,
          1,
          0.9827586206896551,
          0.8947368421052632,
          1,
          0.9937106918238994
         ]
        },
        {
         "line": {
          "dash": "dot"
         },
         "name": "反馈及时率(屈昂)",
         "type": "scatter",
         "uid": "8811f5b3-d69e-11e8-8ddb-a41f72875c19",
         "x": [
          "10-2",
          "10-3",
          "8-1",
          "8-2",
          "8-3",
          "8-4",
          "8-5",
          "9-1",
          "9-2",
          "9-3",
          "9-4"
         ],
         "y": [
          1,
          1,
          0.9761904761904762,
          0.972972972972973,
          0.9866666666666667,
          0.957983193277311,
          0.9176470588235294,
          0.9851851851851852,
          0.9777777777777777,
          1,
          1
         ]
        },
        {
         "line": {
          "dash": "dash"
         },
         "name": "反馈及时率(张悦)",
         "type": "scatter",
         "uid": "8811f5b4-d69e-11e8-8ddb-a41f72875c19",
         "x": [
          "10-2",
          "10-3",
          "8-1",
          "8-2",
          "8-3",
          "8-4",
          "8-5",
          "9-1",
          "9-2",
          "9-3",
          "9-4"
         ],
         "y": [
          null,
          null,
          1,
          1,
          1,
          1,
          1,
          1,
          null,
          null,
          null
         ]
        },
        {
         "line": {
          "dash": "longdash"
         },
         "name": "反馈及时率(卢楠)",
         "type": "scatter",
         "uid": "8811f5b5-d69e-11e8-8ddb-a41f72875c19",
         "x": [
          "10-2",
          "10-3",
          "8-1",
          "8-2",
          "8-3",
          "8-4",
          "8-5",
          "9-1",
          "9-2",
          "9-3",
          "9-4"
         ],
         "y": [
          null,
          null,
          1,
          0.9574468085106383,
          0.9565217391304348,
          1,
          1,
          1,
          1,
          null,
          null
         ]
        }
       ],
       "layout": {
        "title": "数据及时交付率&反馈及时率周趋势图",
        "xaxis": {
         "mirror": "all",
         "nticks": 20,
         "showgrid": true,
         "showline": true,
         "title": "周",
         "type": "category",
         "zeroline": true
        },
        "yaxis": {
         "mirror": "all",
         "nticks": 20,
         "showgrid": true,
         "showline": true,
         "title": "数据及时交付率&反馈及时率",
         "zeroline": true
        }
       }
      },
      "text/html": [
       "<div id=\"ea87d992-edb7-4a10-9c87-7c94ad47b077\" style=\"height: 525px; width: 100%;\" class=\"plotly-graph-div\"></div><script type=\"text/javascript\">require([\"plotly\"], function(Plotly) { window.PLOTLYENV=window.PLOTLYENV || {};window.PLOTLYENV.BASE_URL=\"https://plot.ly\";Plotly.newPlot(\"ea87d992-edb7-4a10-9c87-7c94ad47b077\", [{\"line\": {\"dash\": \"solid\"}, \"name\": \"\\u6570\\u636e\\u53ca\\u65f6\\u4ea4\\u4ed8\\u7387(\\u51b7\\u96ea)\", \"x\": [\"10-2\", \"10-3\", \"8-1\", \"8-2\", \"8-3\", \"8-4\", \"8-5\", \"9-1\", \"9-2\", \"9-3\", \"9-4\"], \"y\": [1.0, 1.0, 1.0, 1.0, 1.0, 1.0, 1.0, 1.0, 1.0, 1.0, 1.0], \"type\": \"scatter\", \"uid\": \"8811f5ae-d69e-11e8-8ddb-a41f72875c19\"}, {\"line\": {\"dash\": \"dot\"}, \"name\": \"\\u6570\\u636e\\u53ca\\u65f6\\u4ea4\\u4ed8\\u7387(\\u5c48\\u6602)\", \"x\": [\"10-2\", \"10-3\", \"8-1\", \"8-2\", \"8-3\", \"8-4\", \"8-5\", \"9-1\", \"9-2\", \"9-3\", \"9-4\"], \"y\": [1.0, 1.0, 1.0, 1.0, 1.0, 1.0, 1.0, 1.0, 1.0, 1.0, 1.0], \"type\": \"scatter\", \"uid\": \"8811f5af-d69e-11e8-8ddb-a41f72875c19\"}, {\"line\": {\"dash\": \"dash\"}, \"name\": \"\\u6570\\u636e\\u53ca\\u65f6\\u4ea4\\u4ed8\\u7387(\\u5f20\\u60a6)\", \"x\": [\"10-2\", \"10-3\", \"8-1\", \"8-2\", \"8-3\", \"8-4\", \"8-5\", \"9-1\", \"9-2\", \"9-3\", \"9-4\"], \"y\": [1.0, 1.0, 1.0, 1.0, 1.0, 1.0, 1.0, 1.0, null, null, 1.0], \"type\": \"scatter\", \"uid\": \"8811f5b0-d69e-11e8-8ddb-a41f72875c19\"}, {\"line\": {\"dash\": \"longdash\"}, \"name\": \"\\u6570\\u636e\\u53ca\\u65f6\\u4ea4\\u4ed8\\u7387(\\u5362\\u6960)\", \"x\": [\"10-2\", \"10-3\", \"8-1\", \"8-2\", \"8-3\", \"8-4\", \"8-5\", \"9-1\", \"9-2\", \"9-3\", \"9-4\"], \"y\": [null, null, 1.0, 1.0, 1.0, 1.0, 1.0, 1.0, 1.0, null, 1.0], \"type\": \"scatter\", \"uid\": \"8811f5b1-d69e-11e8-8ddb-a41f72875c19\"}, {\"line\": {\"dash\": \"solid\"}, \"name\": \"\\u53cd\\u9988\\u53ca\\u65f6\\u7387(\\u51b7\\u96ea)\", \"x\": [\"10-2\", \"10-3\", \"8-1\", \"8-2\", \"8-3\", \"8-4\", \"8-5\", \"9-1\", \"9-2\", \"9-3\", \"9-4\"], \"y\": [1.0, 0.9767441860465116, 0.9210526315789473, 0.9655172413793104, 1.0, 1.0, 1.0, 0.9827586206896551, 0.8947368421052632, 1.0, 0.9937106918238994], \"type\": \"scatter\", \"uid\": \"8811f5b2-d69e-11e8-8ddb-a41f72875c19\"}, {\"line\": {\"dash\": \"dot\"}, \"name\": \"\\u53cd\\u9988\\u53ca\\u65f6\\u7387(\\u5c48\\u6602)\", \"x\": [\"10-2\", \"10-3\", \"8-1\", \"8-2\", \"8-3\", \"8-4\", \"8-5\", \"9-1\", \"9-2\", \"9-3\", \"9-4\"], \"y\": [1.0, 1.0, 0.9761904761904762, 0.972972972972973, 0.9866666666666667, 0.957983193277311, 0.9176470588235294, 0.9851851851851852, 0.9777777777777777, 1.0, 1.0], \"type\": \"scatter\", \"uid\": \"8811f5b3-d69e-11e8-8ddb-a41f72875c19\"}, {\"line\": {\"dash\": \"dash\"}, \"name\": \"\\u53cd\\u9988\\u53ca\\u65f6\\u7387(\\u5f20\\u60a6)\", \"x\": [\"10-2\", \"10-3\", \"8-1\", \"8-2\", \"8-3\", \"8-4\", \"8-5\", \"9-1\", \"9-2\", \"9-3\", \"9-4\"], \"y\": [null, null, 1.0, 1.0, 1.0, 1.0, 1.0, 1.0, null, null, null], \"type\": \"scatter\", \"uid\": \"8811f5b4-d69e-11e8-8ddb-a41f72875c19\"}, {\"line\": {\"dash\": \"longdash\"}, \"name\": \"\\u53cd\\u9988\\u53ca\\u65f6\\u7387(\\u5362\\u6960)\", \"x\": [\"10-2\", \"10-3\", \"8-1\", \"8-2\", \"8-3\", \"8-4\", \"8-5\", \"9-1\", \"9-2\", \"9-3\", \"9-4\"], \"y\": [null, null, 1.0, 0.9574468085106383, 0.9565217391304348, 1.0, 1.0, 1.0, 1.0, null, null], \"type\": \"scatter\", \"uid\": \"8811f5b5-d69e-11e8-8ddb-a41f72875c19\"}], {\"title\": \"\\u6570\\u636e\\u53ca\\u65f6\\u4ea4\\u4ed8\\u7387&\\u53cd\\u9988\\u53ca\\u65f6\\u7387\\u5468\\u8d8b\\u52bf\\u56fe\", \"xaxis\": {\"mirror\": \"all\", \"nticks\": 20, \"showgrid\": true, \"showline\": true, \"title\": \"\\u5468\", \"type\": \"category\", \"zeroline\": true}, \"yaxis\": {\"mirror\": \"all\", \"nticks\": 20, \"showgrid\": true, \"showline\": true, \"title\": \"\\u6570\\u636e\\u53ca\\u65f6\\u4ea4\\u4ed8\\u7387&\\u53cd\\u9988\\u53ca\\u65f6\\u7387\", \"zeroline\": true}}, {\"showLink\": true, \"linkText\": \"Export to plot.ly\"})});</script>"
      ],
      "text/vnd.plotly.v1+html": [
       "<div id=\"ea87d992-edb7-4a10-9c87-7c94ad47b077\" style=\"height: 525px; width: 100%;\" class=\"plotly-graph-div\"></div><script type=\"text/javascript\">require([\"plotly\"], function(Plotly) { window.PLOTLYENV=window.PLOTLYENV || {};window.PLOTLYENV.BASE_URL=\"https://plot.ly\";Plotly.newPlot(\"ea87d992-edb7-4a10-9c87-7c94ad47b077\", [{\"line\": {\"dash\": \"solid\"}, \"name\": \"\\u6570\\u636e\\u53ca\\u65f6\\u4ea4\\u4ed8\\u7387(\\u51b7\\u96ea)\", \"x\": [\"10-2\", \"10-3\", \"8-1\", \"8-2\", \"8-3\", \"8-4\", \"8-5\", \"9-1\", \"9-2\", \"9-3\", \"9-4\"], \"y\": [1.0, 1.0, 1.0, 1.0, 1.0, 1.0, 1.0, 1.0, 1.0, 1.0, 1.0], \"type\": \"scatter\", \"uid\": \"8811f5ae-d69e-11e8-8ddb-a41f72875c19\"}, {\"line\": {\"dash\": \"dot\"}, \"name\": \"\\u6570\\u636e\\u53ca\\u65f6\\u4ea4\\u4ed8\\u7387(\\u5c48\\u6602)\", \"x\": [\"10-2\", \"10-3\", \"8-1\", \"8-2\", \"8-3\", \"8-4\", \"8-5\", \"9-1\", \"9-2\", \"9-3\", \"9-4\"], \"y\": [1.0, 1.0, 1.0, 1.0, 1.0, 1.0, 1.0, 1.0, 1.0, 1.0, 1.0], \"type\": \"scatter\", \"uid\": \"8811f5af-d69e-11e8-8ddb-a41f72875c19\"}, {\"line\": {\"dash\": \"dash\"}, \"name\": \"\\u6570\\u636e\\u53ca\\u65f6\\u4ea4\\u4ed8\\u7387(\\u5f20\\u60a6)\", \"x\": [\"10-2\", \"10-3\", \"8-1\", \"8-2\", \"8-3\", \"8-4\", \"8-5\", \"9-1\", \"9-2\", \"9-3\", \"9-4\"], \"y\": [1.0, 1.0, 1.0, 1.0, 1.0, 1.0, 1.0, 1.0, null, null, 1.0], \"type\": \"scatter\", \"uid\": \"8811f5b0-d69e-11e8-8ddb-a41f72875c19\"}, {\"line\": {\"dash\": \"longdash\"}, \"name\": \"\\u6570\\u636e\\u53ca\\u65f6\\u4ea4\\u4ed8\\u7387(\\u5362\\u6960)\", \"x\": [\"10-2\", \"10-3\", \"8-1\", \"8-2\", \"8-3\", \"8-4\", \"8-5\", \"9-1\", \"9-2\", \"9-3\", \"9-4\"], \"y\": [null, null, 1.0, 1.0, 1.0, 1.0, 1.0, 1.0, 1.0, null, 1.0], \"type\": \"scatter\", \"uid\": \"8811f5b1-d69e-11e8-8ddb-a41f72875c19\"}, {\"line\": {\"dash\": \"solid\"}, \"name\": \"\\u53cd\\u9988\\u53ca\\u65f6\\u7387(\\u51b7\\u96ea)\", \"x\": [\"10-2\", \"10-3\", \"8-1\", \"8-2\", \"8-3\", \"8-4\", \"8-5\", \"9-1\", \"9-2\", \"9-3\", \"9-4\"], \"y\": [1.0, 0.9767441860465116, 0.9210526315789473, 0.9655172413793104, 1.0, 1.0, 1.0, 0.9827586206896551, 0.8947368421052632, 1.0, 0.9937106918238994], \"type\": \"scatter\", \"uid\": \"8811f5b2-d69e-11e8-8ddb-a41f72875c19\"}, {\"line\": {\"dash\": \"dot\"}, \"name\": \"\\u53cd\\u9988\\u53ca\\u65f6\\u7387(\\u5c48\\u6602)\", \"x\": [\"10-2\", \"10-3\", \"8-1\", \"8-2\", \"8-3\", \"8-4\", \"8-5\", \"9-1\", \"9-2\", \"9-3\", \"9-4\"], \"y\": [1.0, 1.0, 0.9761904761904762, 0.972972972972973, 0.9866666666666667, 0.957983193277311, 0.9176470588235294, 0.9851851851851852, 0.9777777777777777, 1.0, 1.0], \"type\": \"scatter\", \"uid\": \"8811f5b3-d69e-11e8-8ddb-a41f72875c19\"}, {\"line\": {\"dash\": \"dash\"}, \"name\": \"\\u53cd\\u9988\\u53ca\\u65f6\\u7387(\\u5f20\\u60a6)\", \"x\": [\"10-2\", \"10-3\", \"8-1\", \"8-2\", \"8-3\", \"8-4\", \"8-5\", \"9-1\", \"9-2\", \"9-3\", \"9-4\"], \"y\": [null, null, 1.0, 1.0, 1.0, 1.0, 1.0, 1.0, null, null, null], \"type\": \"scatter\", \"uid\": \"8811f5b4-d69e-11e8-8ddb-a41f72875c19\"}, {\"line\": {\"dash\": \"longdash\"}, \"name\": \"\\u53cd\\u9988\\u53ca\\u65f6\\u7387(\\u5362\\u6960)\", \"x\": [\"10-2\", \"10-3\", \"8-1\", \"8-2\", \"8-3\", \"8-4\", \"8-5\", \"9-1\", \"9-2\", \"9-3\", \"9-4\"], \"y\": [null, null, 1.0, 0.9574468085106383, 0.9565217391304348, 1.0, 1.0, 1.0, 1.0, null, null], \"type\": \"scatter\", \"uid\": \"8811f5b5-d69e-11e8-8ddb-a41f72875c19\"}], {\"title\": \"\\u6570\\u636e\\u53ca\\u65f6\\u4ea4\\u4ed8\\u7387&\\u53cd\\u9988\\u53ca\\u65f6\\u7387\\u5468\\u8d8b\\u52bf\\u56fe\", \"xaxis\": {\"mirror\": \"all\", \"nticks\": 20, \"showgrid\": true, \"showline\": true, \"title\": \"\\u5468\", \"type\": \"category\", \"zeroline\": true}, \"yaxis\": {\"mirror\": \"all\", \"nticks\": 20, \"showgrid\": true, \"showline\": true, \"title\": \"\\u6570\\u636e\\u53ca\\u65f6\\u4ea4\\u4ed8\\u7387&\\u53cd\\u9988\\u53ca\\u65f6\\u7387\", \"zeroline\": true}}, {\"showLink\": true, \"linkText\": \"Export to plot.ly\"})});</script>"
      ]
     },
     "metadata": {},
     "output_type": "display_data"
    },
    {
     "data": {
      "application/vnd.plotly.v1+json": {
       "data": [
        {
         "line": {
          "dash": "solid"
         },
         "name": "数据及时交付率(冷雪)",
         "type": "scatter",
         "uid": "8811f5b6-d69e-11e8-8ddb-a41f72875c19",
         "x": [
          8,
          9,
          10
         ],
         "y": [
          1,
          1,
          1
         ]
        },
        {
         "line": {
          "dash": "dot"
         },
         "name": "数据及时交付率(屈昂)",
         "type": "scatter",
         "uid": "8811f5b7-d69e-11e8-8ddb-a41f72875c19",
         "x": [
          8,
          9,
          10
         ],
         "y": [
          1,
          1,
          1
         ]
        },
        {
         "line": {
          "dash": "dash"
         },
         "name": "数据及时交付率(张悦)",
         "type": "scatter",
         "uid": "8811f5b8-d69e-11e8-8ddb-a41f72875c19",
         "x": [
          8,
          9,
          10
         ],
         "y": [
          1,
          1,
          1
         ]
        },
        {
         "line": {
          "dash": "longdash"
         },
         "name": "数据及时交付率(卢楠)",
         "type": "scatter",
         "uid": "8811f5b9-d69e-11e8-8ddb-a41f72875c19",
         "x": [
          8,
          9,
          10
         ],
         "y": [
          1,
          1,
          null
         ]
        },
        {
         "line": {
          "dash": "solid"
         },
         "name": "反馈及时率(冷雪)",
         "type": "scatter",
         "uid": "8811f5ba-d69e-11e8-8ddb-a41f72875c19",
         "x": [
          8,
          9,
          10
         ],
         "y": [
          0.9743589743589743,
          0.9754901960784313,
          0.9848484848484849
         ]
        },
        {
         "line": {
          "dash": "dot"
         },
         "name": "反馈及时率(屈昂)",
         "type": "scatter",
         "uid": "8811f5bb-d69e-11e8-8ddb-a41f72875c19",
         "x": [
          8,
          9,
          10
         ],
         "y": [
          0.959493670886076,
          0.9862385321100917,
          1
         ]
        },
        {
         "line": {
          "dash": "dash"
         },
         "name": "反馈及时率(张悦)",
         "type": "scatter",
         "uid": "8811f5bc-d69e-11e8-8ddb-a41f72875c19",
         "x": [
          8,
          9,
          10
         ],
         "y": [
          1,
          1,
          null
         ]
        },
        {
         "line": {
          "dash": "longdash"
         },
         "name": "反馈及时率(卢楠)",
         "type": "scatter",
         "uid": "8811f5bd-d69e-11e8-8ddb-a41f72875c19",
         "x": [
          8,
          9,
          10
         ],
         "y": [
          0.9754098360655737,
          1,
          null
         ]
        }
       ],
       "layout": {
        "title": "数据及时交付率&反馈及时率月趋势图",
        "xaxis": {
         "mirror": "all",
         "nticks": 20,
         "showgrid": true,
         "showline": true,
         "title": "月",
         "type": "category",
         "zeroline": true
        },
        "yaxis": {
         "mirror": "all",
         "nticks": 20,
         "showgrid": true,
         "showline": true,
         "title": "数据及时交付率&反馈及时率",
         "zeroline": true
        }
       }
      },
      "text/html": [
       "<div id=\"af4c0611-52cf-4e59-8f9a-8972c831c5e7\" style=\"height: 525px; width: 100%;\" class=\"plotly-graph-div\"></div><script type=\"text/javascript\">require([\"plotly\"], function(Plotly) { window.PLOTLYENV=window.PLOTLYENV || {};window.PLOTLYENV.BASE_URL=\"https://plot.ly\";Plotly.newPlot(\"af4c0611-52cf-4e59-8f9a-8972c831c5e7\", [{\"line\": {\"dash\": \"solid\"}, \"name\": \"\\u6570\\u636e\\u53ca\\u65f6\\u4ea4\\u4ed8\\u7387(\\u51b7\\u96ea)\", \"x\": [8, 9, 10], \"y\": [1.0, 1.0, 1.0], \"type\": \"scatter\", \"uid\": \"8811f5b6-d69e-11e8-8ddb-a41f72875c19\"}, {\"line\": {\"dash\": \"dot\"}, \"name\": \"\\u6570\\u636e\\u53ca\\u65f6\\u4ea4\\u4ed8\\u7387(\\u5c48\\u6602)\", \"x\": [8, 9, 10], \"y\": [1.0, 1.0, 1.0], \"type\": \"scatter\", \"uid\": \"8811f5b7-d69e-11e8-8ddb-a41f72875c19\"}, {\"line\": {\"dash\": \"dash\"}, \"name\": \"\\u6570\\u636e\\u53ca\\u65f6\\u4ea4\\u4ed8\\u7387(\\u5f20\\u60a6)\", \"x\": [8, 9, 10], \"y\": [1.0, 1.0, 1.0], \"type\": \"scatter\", \"uid\": \"8811f5b8-d69e-11e8-8ddb-a41f72875c19\"}, {\"line\": {\"dash\": \"longdash\"}, \"name\": \"\\u6570\\u636e\\u53ca\\u65f6\\u4ea4\\u4ed8\\u7387(\\u5362\\u6960)\", \"x\": [8, 9, 10], \"y\": [1.0, 1.0, null], \"type\": \"scatter\", \"uid\": \"8811f5b9-d69e-11e8-8ddb-a41f72875c19\"}, {\"line\": {\"dash\": \"solid\"}, \"name\": \"\\u53cd\\u9988\\u53ca\\u65f6\\u7387(\\u51b7\\u96ea)\", \"x\": [8, 9, 10], \"y\": [0.9743589743589743, 0.9754901960784313, 0.9848484848484849], \"type\": \"scatter\", \"uid\": \"8811f5ba-d69e-11e8-8ddb-a41f72875c19\"}, {\"line\": {\"dash\": \"dot\"}, \"name\": \"\\u53cd\\u9988\\u53ca\\u65f6\\u7387(\\u5c48\\u6602)\", \"x\": [8, 9, 10], \"y\": [0.959493670886076, 0.9862385321100917, 1.0], \"type\": \"scatter\", \"uid\": \"8811f5bb-d69e-11e8-8ddb-a41f72875c19\"}, {\"line\": {\"dash\": \"dash\"}, \"name\": \"\\u53cd\\u9988\\u53ca\\u65f6\\u7387(\\u5f20\\u60a6)\", \"x\": [8, 9, 10], \"y\": [1.0, 1.0, null], \"type\": \"scatter\", \"uid\": \"8811f5bc-d69e-11e8-8ddb-a41f72875c19\"}, {\"line\": {\"dash\": \"longdash\"}, \"name\": \"\\u53cd\\u9988\\u53ca\\u65f6\\u7387(\\u5362\\u6960)\", \"x\": [8, 9, 10], \"y\": [0.9754098360655737, 1.0, null], \"type\": \"scatter\", \"uid\": \"8811f5bd-d69e-11e8-8ddb-a41f72875c19\"}], {\"title\": \"\\u6570\\u636e\\u53ca\\u65f6\\u4ea4\\u4ed8\\u7387&\\u53cd\\u9988\\u53ca\\u65f6\\u7387\\u6708\\u8d8b\\u52bf\\u56fe\", \"xaxis\": {\"mirror\": \"all\", \"nticks\": 20, \"showgrid\": true, \"showline\": true, \"title\": \"\\u6708\", \"type\": \"category\", \"zeroline\": true}, \"yaxis\": {\"mirror\": \"all\", \"nticks\": 20, \"showgrid\": true, \"showline\": true, \"title\": \"\\u6570\\u636e\\u53ca\\u65f6\\u4ea4\\u4ed8\\u7387&\\u53cd\\u9988\\u53ca\\u65f6\\u7387\", \"zeroline\": true}}, {\"showLink\": true, \"linkText\": \"Export to plot.ly\"})});</script>"
      ],
      "text/vnd.plotly.v1+html": [
       "<div id=\"af4c0611-52cf-4e59-8f9a-8972c831c5e7\" style=\"height: 525px; width: 100%;\" class=\"plotly-graph-div\"></div><script type=\"text/javascript\">require([\"plotly\"], function(Plotly) { window.PLOTLYENV=window.PLOTLYENV || {};window.PLOTLYENV.BASE_URL=\"https://plot.ly\";Plotly.newPlot(\"af4c0611-52cf-4e59-8f9a-8972c831c5e7\", [{\"line\": {\"dash\": \"solid\"}, \"name\": \"\\u6570\\u636e\\u53ca\\u65f6\\u4ea4\\u4ed8\\u7387(\\u51b7\\u96ea)\", \"x\": [8, 9, 10], \"y\": [1.0, 1.0, 1.0], \"type\": \"scatter\", \"uid\": \"8811f5b6-d69e-11e8-8ddb-a41f72875c19\"}, {\"line\": {\"dash\": \"dot\"}, \"name\": \"\\u6570\\u636e\\u53ca\\u65f6\\u4ea4\\u4ed8\\u7387(\\u5c48\\u6602)\", \"x\": [8, 9, 10], \"y\": [1.0, 1.0, 1.0], \"type\": \"scatter\", \"uid\": \"8811f5b7-d69e-11e8-8ddb-a41f72875c19\"}, {\"line\": {\"dash\": \"dash\"}, \"name\": \"\\u6570\\u636e\\u53ca\\u65f6\\u4ea4\\u4ed8\\u7387(\\u5f20\\u60a6)\", \"x\": [8, 9, 10], \"y\": [1.0, 1.0, 1.0], \"type\": \"scatter\", \"uid\": \"8811f5b8-d69e-11e8-8ddb-a41f72875c19\"}, {\"line\": {\"dash\": \"longdash\"}, \"name\": \"\\u6570\\u636e\\u53ca\\u65f6\\u4ea4\\u4ed8\\u7387(\\u5362\\u6960)\", \"x\": [8, 9, 10], \"y\": [1.0, 1.0, null], \"type\": \"scatter\", \"uid\": \"8811f5b9-d69e-11e8-8ddb-a41f72875c19\"}, {\"line\": {\"dash\": \"solid\"}, \"name\": \"\\u53cd\\u9988\\u53ca\\u65f6\\u7387(\\u51b7\\u96ea)\", \"x\": [8, 9, 10], \"y\": [0.9743589743589743, 0.9754901960784313, 0.9848484848484849], \"type\": \"scatter\", \"uid\": \"8811f5ba-d69e-11e8-8ddb-a41f72875c19\"}, {\"line\": {\"dash\": \"dot\"}, \"name\": \"\\u53cd\\u9988\\u53ca\\u65f6\\u7387(\\u5c48\\u6602)\", \"x\": [8, 9, 10], \"y\": [0.959493670886076, 0.9862385321100917, 1.0], \"type\": \"scatter\", \"uid\": \"8811f5bb-d69e-11e8-8ddb-a41f72875c19\"}, {\"line\": {\"dash\": \"dash\"}, \"name\": \"\\u53cd\\u9988\\u53ca\\u65f6\\u7387(\\u5f20\\u60a6)\", \"x\": [8, 9, 10], \"y\": [1.0, 1.0, null], \"type\": \"scatter\", \"uid\": \"8811f5bc-d69e-11e8-8ddb-a41f72875c19\"}, {\"line\": {\"dash\": \"longdash\"}, \"name\": \"\\u53cd\\u9988\\u53ca\\u65f6\\u7387(\\u5362\\u6960)\", \"x\": [8, 9, 10], \"y\": [0.9754098360655737, 1.0, null], \"type\": \"scatter\", \"uid\": \"8811f5bd-d69e-11e8-8ddb-a41f72875c19\"}], {\"title\": \"\\u6570\\u636e\\u53ca\\u65f6\\u4ea4\\u4ed8\\u7387&\\u53cd\\u9988\\u53ca\\u65f6\\u7387\\u6708\\u8d8b\\u52bf\\u56fe\", \"xaxis\": {\"mirror\": \"all\", \"nticks\": 20, \"showgrid\": true, \"showline\": true, \"title\": \"\\u6708\", \"type\": \"category\", \"zeroline\": true}, \"yaxis\": {\"mirror\": \"all\", \"nticks\": 20, \"showgrid\": true, \"showline\": true, \"title\": \"\\u6570\\u636e\\u53ca\\u65f6\\u4ea4\\u4ed8\\u7387&\\u53cd\\u9988\\u53ca\\u65f6\\u7387\", \"zeroline\": true}}, {\"showLink\": true, \"linkText\": \"Export to plot.ly\"})});</script>"
      ]
     },
     "metadata": {},
     "output_type": "display_data"
    }
   ],
   "source": [
    "ss = myModule.format(all_df1 ,\"日期（格式“月-周次”）\" ,['及时反馈数','下机批次数','数据及时交付数','数据交付总数'])\n",
    "ss.add_group('人员')\n",
    "tt = ss.get_total_ratio([['反馈及时率','及时反馈数','下机批次数','/'],\n",
    "                       ['数据及时交付率','数据及时交付数','数据交付总数','/']])\n",
    "myModule.myPlot(tt).plot('line')\n",
    "\n",
    "ss = myModule.format(all_df1 ,\"month\" ,['及时反馈数','下机批次数','数据及时交付数','数据交付总数'])\n",
    "ss.add_group('人员')\n",
    "tt = ss.get_total_ratio([['反馈及时率','及时反馈数','下机批次数','/'],\n",
    "                       ['数据及时交付率','数据及时交付数','数据交付总数','/']])\n",
    "myModule.myPlot(tt).plot('line','月')"
   ]
  },
  {
   "cell_type": "markdown",
   "metadata": {},
   "source": [
    "### 平均反馈时长和反馈时长Q80"
   ]
  },
  {
   "cell_type": "code",
   "execution_count": 24,
   "metadata": {
    "collapsed": false
   },
   "outputs": [
    {
     "data": {
      "application/vnd.plotly.v1+json": {
       "data": [
        {
         "line": {
          "dash": "solid"
         },
         "name": "反馈时长Q80(冷雪)",
         "type": "scatter",
         "uid": "893982b0-d69e-11e8-8ddb-a41f72875c19",
         "x": [
          "10-2",
          "10-3",
          "8-1",
          "8-2",
          "8-3",
          "8-4",
          "8-5",
          "9-1",
          "9-2",
          "9-3",
          "9-4"
         ],
         "y": [
          4,
          4.79,
          7.59,
          4.66,
          5.63,
          3.23,
          6.49,
          13.99,
          10.5,
          3.83,
          3.99
         ]
        },
        {
         "line": {
          "dash": "dot"
         },
         "name": "反馈时长Q80(屈昂)",
         "type": "scatter",
         "uid": "893982b1-d69e-11e8-8ddb-a41f72875c19",
         "x": [
          "10-2",
          "10-3",
          "8-1",
          "8-2",
          "8-3",
          "8-4",
          "8-5",
          "9-1",
          "9-2",
          "9-3",
          "9-4"
         ],
         "y": [
          3.94,
          10.47,
          5.79,
          5.35,
          5.31,
          5.19,
          11.12,
          16,
          9.89,
          3.92,
          2.71
         ]
        },
        {
         "line": {
          "dash": "dash"
         },
         "name": "反馈时长Q80(张悦)",
         "type": "scatter",
         "uid": "893982b2-d69e-11e8-8ddb-a41f72875c19",
         "x": [
          "10-2",
          "10-3",
          "8-1",
          "8-2",
          "8-3",
          "8-4",
          "8-5",
          "9-1",
          "9-2",
          "9-3",
          "9-4"
         ],
         "y": [
          0,
          0,
          5.54,
          2.28,
          18.68,
          1.47,
          2.11,
          3.31,
          0,
          0,
          0
         ]
        },
        {
         "line": {
          "dash": "longdash"
         },
         "name": "反馈时长Q80(卢楠)",
         "type": "scatter",
         "uid": "893982b3-d69e-11e8-8ddb-a41f72875c19",
         "x": [
          "10-2",
          "10-3",
          "8-1",
          "8-2",
          "8-3",
          "8-4",
          "8-5",
          "9-1",
          "9-2",
          "9-3",
          "9-4"
         ],
         "y": [
          null,
          null,
          7.58,
          4.61,
          18.53,
          5.89,
          1.85,
          2.18,
          15.12,
          0,
          0
         ]
        },
        {
         "line": {
          "dash": "solid"
         },
         "name": "平均反馈时长(冷雪)",
         "type": "scatter",
         "uid": "893982b4-d69e-11e8-8ddb-a41f72875c19",
         "x": [
          "10-2",
          "10-3",
          "8-1",
          "8-2",
          "8-3",
          "8-4",
          "8-5",
          "9-1",
          "9-2",
          "9-3",
          "9-4"
         ],
         "y": [
          2.78,
          4.016976744186047,
          7.090000000000001,
          3.9827586206896552,
          4.95,
          3.38,
          3.69,
          9.81,
          7.658947368421053,
          3.6,
          3.2600000000000002
         ]
        },
        {
         "line": {
          "dash": "dot"
         },
         "name": "平均反馈时长(屈昂)",
         "type": "scatter",
         "uid": "893982b5-d69e-11e8-8ddb-a41f72875c19",
         "x": [
          "10-2",
          "10-3",
          "8-1",
          "8-2",
          "8-3",
          "8-4",
          "8-5",
          "9-1",
          "9-2",
          "9-3",
          "9-4"
         ],
         "y": [
          3.94,
          8.766666666666667,
          5.95,
          4.49,
          4.5,
          5.37,
          7.139294117647059,
          9.77,
          6.688,
          3.6300000000000003,
          2.73
         ]
        },
        {
         "line": {
          "dash": "dash"
         },
         "name": "平均反馈时长(张悦)",
         "type": "scatter",
         "uid": "893982b6-d69e-11e8-8ddb-a41f72875c19",
         "x": [
          "10-2",
          "10-3",
          "8-1",
          "8-2",
          "8-3",
          "8-4",
          "8-5",
          "9-1",
          "9-2",
          "9-3",
          "9-4"
         ],
         "y": [
          null,
          null,
          14.51,
          3.26,
          18.68,
          1.47,
          2.7600000000000002,
          5.22,
          null,
          null,
          null
         ]
        },
        {
         "line": {
          "dash": "longdash"
         },
         "name": "平均反馈时长(卢楠)",
         "type": "scatter",
         "uid": "893982b7-d69e-11e8-8ddb-a41f72875c19",
         "x": [
          "10-2",
          "10-3",
          "8-1",
          "8-2",
          "8-3",
          "8-4",
          "8-5",
          "9-1",
          "9-2",
          "9-3",
          "9-4"
         ],
         "y": [
          null,
          null,
          5.77,
          5,
          8.6,
          5.199999999999999,
          1.7300000000000002,
          7.2,
          14.409999999999998,
          null,
          null
         ]
        }
       ],
       "layout": {
        "title": "反馈时长Q80&平均反馈时长周趋势图",
        "xaxis": {
         "mirror": "all",
         "nticks": 20,
         "showgrid": true,
         "showline": true,
         "title": "周",
         "type": "category",
         "zeroline": true
        },
        "yaxis": {
         "mirror": "all",
         "nticks": 20,
         "showgrid": true,
         "showline": true,
         "title": "反馈时长Q80&平均反馈时长",
         "zeroline": true
        }
       }
      },
      "text/html": [
       "<div id=\"73de2a32-c08d-4fa0-bcd8-315cfb163391\" style=\"height: 525px; width: 100%;\" class=\"plotly-graph-div\"></div><script type=\"text/javascript\">require([\"plotly\"], function(Plotly) { window.PLOTLYENV=window.PLOTLYENV || {};window.PLOTLYENV.BASE_URL=\"https://plot.ly\";Plotly.newPlot(\"73de2a32-c08d-4fa0-bcd8-315cfb163391\", [{\"line\": {\"dash\": \"solid\"}, \"name\": \"\\u53cd\\u9988\\u65f6\\u957fQ80(\\u51b7\\u96ea)\", \"x\": [\"10-2\", \"10-3\", \"8-1\", \"8-2\", \"8-3\", \"8-4\", \"8-5\", \"9-1\", \"9-2\", \"9-3\", \"9-4\"], \"y\": [4.0, 4.79, 7.59, 4.66, 5.63, 3.23, 6.49, 13.99, 10.5, 3.83, 3.99], \"type\": \"scatter\", \"uid\": \"893982b0-d69e-11e8-8ddb-a41f72875c19\"}, {\"line\": {\"dash\": \"dot\"}, \"name\": \"\\u53cd\\u9988\\u65f6\\u957fQ80(\\u5c48\\u6602)\", \"x\": [\"10-2\", \"10-3\", \"8-1\", \"8-2\", \"8-3\", \"8-4\", \"8-5\", \"9-1\", \"9-2\", \"9-3\", \"9-4\"], \"y\": [3.94, 10.47, 5.79, 5.35, 5.31, 5.19, 11.12, 16.0, 9.89, 3.92, 2.71], \"type\": \"scatter\", \"uid\": \"893982b1-d69e-11e8-8ddb-a41f72875c19\"}, {\"line\": {\"dash\": \"dash\"}, \"name\": \"\\u53cd\\u9988\\u65f6\\u957fQ80(\\u5f20\\u60a6)\", \"x\": [\"10-2\", \"10-3\", \"8-1\", \"8-2\", \"8-3\", \"8-4\", \"8-5\", \"9-1\", \"9-2\", \"9-3\", \"9-4\"], \"y\": [0.0, 0.0, 5.54, 2.28, 18.68, 1.47, 2.11, 3.31, 0.0, 0.0, 0.0], \"type\": \"scatter\", \"uid\": \"893982b2-d69e-11e8-8ddb-a41f72875c19\"}, {\"line\": {\"dash\": \"longdash\"}, \"name\": \"\\u53cd\\u9988\\u65f6\\u957fQ80(\\u5362\\u6960)\", \"x\": [\"10-2\", \"10-3\", \"8-1\", \"8-2\", \"8-3\", \"8-4\", \"8-5\", \"9-1\", \"9-2\", \"9-3\", \"9-4\"], \"y\": [null, null, 7.58, 4.61, 18.53, 5.89, 1.85, 2.18, 15.12, 0.0, 0.0], \"type\": \"scatter\", \"uid\": \"893982b3-d69e-11e8-8ddb-a41f72875c19\"}, {\"line\": {\"dash\": \"solid\"}, \"name\": \"\\u5e73\\u5747\\u53cd\\u9988\\u65f6\\u957f(\\u51b7\\u96ea)\", \"x\": [\"10-2\", \"10-3\", \"8-1\", \"8-2\", \"8-3\", \"8-4\", \"8-5\", \"9-1\", \"9-2\", \"9-3\", \"9-4\"], \"y\": [2.78, 4.016976744186047, 7.090000000000001, 3.9827586206896552, 4.95, 3.38, 3.69, 9.81, 7.658947368421053, 3.6, 3.2600000000000002], \"type\": \"scatter\", \"uid\": \"893982b4-d69e-11e8-8ddb-a41f72875c19\"}, {\"line\": {\"dash\": \"dot\"}, \"name\": \"\\u5e73\\u5747\\u53cd\\u9988\\u65f6\\u957f(\\u5c48\\u6602)\", \"x\": [\"10-2\", \"10-3\", \"8-1\", \"8-2\", \"8-3\", \"8-4\", \"8-5\", \"9-1\", \"9-2\", \"9-3\", \"9-4\"], \"y\": [3.94, 8.766666666666667, 5.95, 4.49, 4.5, 5.37, 7.139294117647059, 9.77, 6.688, 3.6300000000000003, 2.73], \"type\": \"scatter\", \"uid\": \"893982b5-d69e-11e8-8ddb-a41f72875c19\"}, {\"line\": {\"dash\": \"dash\"}, \"name\": \"\\u5e73\\u5747\\u53cd\\u9988\\u65f6\\u957f(\\u5f20\\u60a6)\", \"x\": [\"10-2\", \"10-3\", \"8-1\", \"8-2\", \"8-3\", \"8-4\", \"8-5\", \"9-1\", \"9-2\", \"9-3\", \"9-4\"], \"y\": [null, null, 14.51, 3.26, 18.68, 1.47, 2.7600000000000002, 5.22, null, null, null], \"type\": \"scatter\", \"uid\": \"893982b6-d69e-11e8-8ddb-a41f72875c19\"}, {\"line\": {\"dash\": \"longdash\"}, \"name\": \"\\u5e73\\u5747\\u53cd\\u9988\\u65f6\\u957f(\\u5362\\u6960)\", \"x\": [\"10-2\", \"10-3\", \"8-1\", \"8-2\", \"8-3\", \"8-4\", \"8-5\", \"9-1\", \"9-2\", \"9-3\", \"9-4\"], \"y\": [null, null, 5.77, 5.0, 8.6, 5.199999999999999, 1.7300000000000002, 7.2, 14.409999999999998, null, null], \"type\": \"scatter\", \"uid\": \"893982b7-d69e-11e8-8ddb-a41f72875c19\"}], {\"title\": \"\\u53cd\\u9988\\u65f6\\u957fQ80&\\u5e73\\u5747\\u53cd\\u9988\\u65f6\\u957f\\u5468\\u8d8b\\u52bf\\u56fe\", \"xaxis\": {\"mirror\": \"all\", \"nticks\": 20, \"showgrid\": true, \"showline\": true, \"title\": \"\\u5468\", \"type\": \"category\", \"zeroline\": true}, \"yaxis\": {\"mirror\": \"all\", \"nticks\": 20, \"showgrid\": true, \"showline\": true, \"title\": \"\\u53cd\\u9988\\u65f6\\u957fQ80&\\u5e73\\u5747\\u53cd\\u9988\\u65f6\\u957f\", \"zeroline\": true}}, {\"showLink\": true, \"linkText\": \"Export to plot.ly\"})});</script>"
      ],
      "text/vnd.plotly.v1+html": [
       "<div id=\"73de2a32-c08d-4fa0-bcd8-315cfb163391\" style=\"height: 525px; width: 100%;\" class=\"plotly-graph-div\"></div><script type=\"text/javascript\">require([\"plotly\"], function(Plotly) { window.PLOTLYENV=window.PLOTLYENV || {};window.PLOTLYENV.BASE_URL=\"https://plot.ly\";Plotly.newPlot(\"73de2a32-c08d-4fa0-bcd8-315cfb163391\", [{\"line\": {\"dash\": \"solid\"}, \"name\": \"\\u53cd\\u9988\\u65f6\\u957fQ80(\\u51b7\\u96ea)\", \"x\": [\"10-2\", \"10-3\", \"8-1\", \"8-2\", \"8-3\", \"8-4\", \"8-5\", \"9-1\", \"9-2\", \"9-3\", \"9-4\"], \"y\": [4.0, 4.79, 7.59, 4.66, 5.63, 3.23, 6.49, 13.99, 10.5, 3.83, 3.99], \"type\": \"scatter\", \"uid\": \"893982b0-d69e-11e8-8ddb-a41f72875c19\"}, {\"line\": {\"dash\": \"dot\"}, \"name\": \"\\u53cd\\u9988\\u65f6\\u957fQ80(\\u5c48\\u6602)\", \"x\": [\"10-2\", \"10-3\", \"8-1\", \"8-2\", \"8-3\", \"8-4\", \"8-5\", \"9-1\", \"9-2\", \"9-3\", \"9-4\"], \"y\": [3.94, 10.47, 5.79, 5.35, 5.31, 5.19, 11.12, 16.0, 9.89, 3.92, 2.71], \"type\": \"scatter\", \"uid\": \"893982b1-d69e-11e8-8ddb-a41f72875c19\"}, {\"line\": {\"dash\": \"dash\"}, \"name\": \"\\u53cd\\u9988\\u65f6\\u957fQ80(\\u5f20\\u60a6)\", \"x\": [\"10-2\", \"10-3\", \"8-1\", \"8-2\", \"8-3\", \"8-4\", \"8-5\", \"9-1\", \"9-2\", \"9-3\", \"9-4\"], \"y\": [0.0, 0.0, 5.54, 2.28, 18.68, 1.47, 2.11, 3.31, 0.0, 0.0, 0.0], \"type\": \"scatter\", \"uid\": \"893982b2-d69e-11e8-8ddb-a41f72875c19\"}, {\"line\": {\"dash\": \"longdash\"}, \"name\": \"\\u53cd\\u9988\\u65f6\\u957fQ80(\\u5362\\u6960)\", \"x\": [\"10-2\", \"10-3\", \"8-1\", \"8-2\", \"8-3\", \"8-4\", \"8-5\", \"9-1\", \"9-2\", \"9-3\", \"9-4\"], \"y\": [null, null, 7.58, 4.61, 18.53, 5.89, 1.85, 2.18, 15.12, 0.0, 0.0], \"type\": \"scatter\", \"uid\": \"893982b3-d69e-11e8-8ddb-a41f72875c19\"}, {\"line\": {\"dash\": \"solid\"}, \"name\": \"\\u5e73\\u5747\\u53cd\\u9988\\u65f6\\u957f(\\u51b7\\u96ea)\", \"x\": [\"10-2\", \"10-3\", \"8-1\", \"8-2\", \"8-3\", \"8-4\", \"8-5\", \"9-1\", \"9-2\", \"9-3\", \"9-4\"], \"y\": [2.78, 4.016976744186047, 7.090000000000001, 3.9827586206896552, 4.95, 3.38, 3.69, 9.81, 7.658947368421053, 3.6, 3.2600000000000002], \"type\": \"scatter\", \"uid\": \"893982b4-d69e-11e8-8ddb-a41f72875c19\"}, {\"line\": {\"dash\": \"dot\"}, \"name\": \"\\u5e73\\u5747\\u53cd\\u9988\\u65f6\\u957f(\\u5c48\\u6602)\", \"x\": [\"10-2\", \"10-3\", \"8-1\", \"8-2\", \"8-3\", \"8-4\", \"8-5\", \"9-1\", \"9-2\", \"9-3\", \"9-4\"], \"y\": [3.94, 8.766666666666667, 5.95, 4.49, 4.5, 5.37, 7.139294117647059, 9.77, 6.688, 3.6300000000000003, 2.73], \"type\": \"scatter\", \"uid\": \"893982b5-d69e-11e8-8ddb-a41f72875c19\"}, {\"line\": {\"dash\": \"dash\"}, \"name\": \"\\u5e73\\u5747\\u53cd\\u9988\\u65f6\\u957f(\\u5f20\\u60a6)\", \"x\": [\"10-2\", \"10-3\", \"8-1\", \"8-2\", \"8-3\", \"8-4\", \"8-5\", \"9-1\", \"9-2\", \"9-3\", \"9-4\"], \"y\": [null, null, 14.51, 3.26, 18.68, 1.47, 2.7600000000000002, 5.22, null, null, null], \"type\": \"scatter\", \"uid\": \"893982b6-d69e-11e8-8ddb-a41f72875c19\"}, {\"line\": {\"dash\": \"longdash\"}, \"name\": \"\\u5e73\\u5747\\u53cd\\u9988\\u65f6\\u957f(\\u5362\\u6960)\", \"x\": [\"10-2\", \"10-3\", \"8-1\", \"8-2\", \"8-3\", \"8-4\", \"8-5\", \"9-1\", \"9-2\", \"9-3\", \"9-4\"], \"y\": [null, null, 5.77, 5.0, 8.6, 5.199999999999999, 1.7300000000000002, 7.2, 14.409999999999998, null, null], \"type\": \"scatter\", \"uid\": \"893982b7-d69e-11e8-8ddb-a41f72875c19\"}], {\"title\": \"\\u53cd\\u9988\\u65f6\\u957fQ80&\\u5e73\\u5747\\u53cd\\u9988\\u65f6\\u957f\\u5468\\u8d8b\\u52bf\\u56fe\", \"xaxis\": {\"mirror\": \"all\", \"nticks\": 20, \"showgrid\": true, \"showline\": true, \"title\": \"\\u5468\", \"type\": \"category\", \"zeroline\": true}, \"yaxis\": {\"mirror\": \"all\", \"nticks\": 20, \"showgrid\": true, \"showline\": true, \"title\": \"\\u53cd\\u9988\\u65f6\\u957fQ80&\\u5e73\\u5747\\u53cd\\u9988\\u65f6\\u957f\", \"zeroline\": true}}, {\"showLink\": true, \"linkText\": \"Export to plot.ly\"})});</script>"
      ]
     },
     "metadata": {},
     "output_type": "display_data"
    },
    {
     "data": {
      "application/vnd.plotly.v1+json": {
       "data": [
        {
         "line": {
          "dash": "solid"
         },
         "name": "反馈时长Q80(冷雪)",
         "type": "scatter",
         "uid": "893982b8-d69e-11e8-8ddb-a41f72875c19",
         "x": [
          8,
          9,
          10
         ],
         "y": [
          27.599999999999998,
          32.31,
          8.79
         ]
        },
        {
         "line": {
          "dash": "dot"
         },
         "name": "反馈时长Q80(屈昂)",
         "type": "scatter",
         "uid": "893982b9-d69e-11e8-8ddb-a41f72875c19",
         "x": [
          8,
          9,
          10
         ],
         "y": [
          32.76,
          32.52,
          14.41
         ]
        },
        {
         "line": {
          "dash": "dash"
         },
         "name": "反馈时长Q80(张悦)",
         "type": "scatter",
         "uid": "893982ba-d69e-11e8-8ddb-a41f72875c19",
         "x": [
          8,
          9,
          10
         ],
         "y": [
          30.08,
          3.31,
          0
         ]
        },
        {
         "line": {
          "dash": "longdash"
         },
         "name": "反馈时长Q80(卢楠)",
         "type": "scatter",
         "uid": "893982bb-d69e-11e8-8ddb-a41f72875c19",
         "x": [
          8,
          9,
          10
         ],
         "y": [
          38.46,
          17.3,
          null
         ]
        },
        {
         "line": {
          "dash": "solid"
         },
         "name": "平均反馈时长(冷雪)",
         "type": "scatter",
         "uid": "893982bc-d69e-11e8-8ddb-a41f72875c19",
         "x": [
          8,
          9,
          10
         ],
         "y": [
          4.821589743589744,
          5.106372549019608,
          3.585909090909091
         ]
        },
        {
         "line": {
          "dash": "dot"
         },
         "name": "平均反馈时长(屈昂)",
         "type": "scatter",
         "uid": "893982bd-d69e-11e8-8ddb-a41f72875c19",
         "x": [
          8,
          9,
          10
         ],
         "y": [
          5.482354430379746,
          7.993348623853212,
          7.5600000000000005
         ]
        },
        {
         "line": {
          "dash": "dash"
         },
         "name": "平均反馈时长(张悦)",
         "type": "scatter",
         "uid": "893982be-d69e-11e8-8ddb-a41f72875c19",
         "x": [
          8,
          9,
          10
         ],
         "y": [
          5.7700000000000005,
          5.22,
          null
         ]
        },
        {
         "line": {
          "dash": "longdash"
         },
         "name": "平均反馈时长(卢楠)",
         "type": "scatter",
         "uid": "893982bf-d69e-11e8-8ddb-a41f72875c19",
         "x": [
          8,
          9,
          10
         ],
         "y": [
          5.846803278688524,
          11.526,
          null
         ]
        }
       ],
       "layout": {
        "title": "反馈时长Q80&平均反馈时长月趋势图",
        "xaxis": {
         "mirror": "all",
         "nticks": 20,
         "showgrid": true,
         "showline": true,
         "title": "月",
         "type": "category",
         "zeroline": true
        },
        "yaxis": {
         "mirror": "all",
         "nticks": 20,
         "showgrid": true,
         "showline": true,
         "title": "反馈时长Q80&平均反馈时长",
         "zeroline": true
        }
       }
      },
      "text/html": [
       "<div id=\"1040013b-25c5-43d6-89cb-49749141bd9d\" style=\"height: 525px; width: 100%;\" class=\"plotly-graph-div\"></div><script type=\"text/javascript\">require([\"plotly\"], function(Plotly) { window.PLOTLYENV=window.PLOTLYENV || {};window.PLOTLYENV.BASE_URL=\"https://plot.ly\";Plotly.newPlot(\"1040013b-25c5-43d6-89cb-49749141bd9d\", [{\"line\": {\"dash\": \"solid\"}, \"name\": \"\\u53cd\\u9988\\u65f6\\u957fQ80(\\u51b7\\u96ea)\", \"x\": [8, 9, 10], \"y\": [27.599999999999998, 32.31, 8.79], \"type\": \"scatter\", \"uid\": \"893982b8-d69e-11e8-8ddb-a41f72875c19\"}, {\"line\": {\"dash\": \"dot\"}, \"name\": \"\\u53cd\\u9988\\u65f6\\u957fQ80(\\u5c48\\u6602)\", \"x\": [8, 9, 10], \"y\": [32.76, 32.52, 14.41], \"type\": \"scatter\", \"uid\": \"893982b9-d69e-11e8-8ddb-a41f72875c19\"}, {\"line\": {\"dash\": \"dash\"}, \"name\": \"\\u53cd\\u9988\\u65f6\\u957fQ80(\\u5f20\\u60a6)\", \"x\": [8, 9, 10], \"y\": [30.08, 3.31, 0.0], \"type\": \"scatter\", \"uid\": \"893982ba-d69e-11e8-8ddb-a41f72875c19\"}, {\"line\": {\"dash\": \"longdash\"}, \"name\": \"\\u53cd\\u9988\\u65f6\\u957fQ80(\\u5362\\u6960)\", \"x\": [8, 9, 10], \"y\": [38.46, 17.3, null], \"type\": \"scatter\", \"uid\": \"893982bb-d69e-11e8-8ddb-a41f72875c19\"}, {\"line\": {\"dash\": \"solid\"}, \"name\": \"\\u5e73\\u5747\\u53cd\\u9988\\u65f6\\u957f(\\u51b7\\u96ea)\", \"x\": [8, 9, 10], \"y\": [4.821589743589744, 5.106372549019608, 3.585909090909091], \"type\": \"scatter\", \"uid\": \"893982bc-d69e-11e8-8ddb-a41f72875c19\"}, {\"line\": {\"dash\": \"dot\"}, \"name\": \"\\u5e73\\u5747\\u53cd\\u9988\\u65f6\\u957f(\\u5c48\\u6602)\", \"x\": [8, 9, 10], \"y\": [5.482354430379746, 7.993348623853212, 7.5600000000000005], \"type\": \"scatter\", \"uid\": \"893982bd-d69e-11e8-8ddb-a41f72875c19\"}, {\"line\": {\"dash\": \"dash\"}, \"name\": \"\\u5e73\\u5747\\u53cd\\u9988\\u65f6\\u957f(\\u5f20\\u60a6)\", \"x\": [8, 9, 10], \"y\": [5.7700000000000005, 5.22, null], \"type\": \"scatter\", \"uid\": \"893982be-d69e-11e8-8ddb-a41f72875c19\"}, {\"line\": {\"dash\": \"longdash\"}, \"name\": \"\\u5e73\\u5747\\u53cd\\u9988\\u65f6\\u957f(\\u5362\\u6960)\", \"x\": [8, 9, 10], \"y\": [5.846803278688524, 11.526, null], \"type\": \"scatter\", \"uid\": \"893982bf-d69e-11e8-8ddb-a41f72875c19\"}], {\"title\": \"\\u53cd\\u9988\\u65f6\\u957fQ80&\\u5e73\\u5747\\u53cd\\u9988\\u65f6\\u957f\\u6708\\u8d8b\\u52bf\\u56fe\", \"xaxis\": {\"mirror\": \"all\", \"nticks\": 20, \"showgrid\": true, \"showline\": true, \"title\": \"\\u6708\", \"type\": \"category\", \"zeroline\": true}, \"yaxis\": {\"mirror\": \"all\", \"nticks\": 20, \"showgrid\": true, \"showline\": true, \"title\": \"\\u53cd\\u9988\\u65f6\\u957fQ80&\\u5e73\\u5747\\u53cd\\u9988\\u65f6\\u957f\", \"zeroline\": true}}, {\"showLink\": true, \"linkText\": \"Export to plot.ly\"})});</script>"
      ],
      "text/vnd.plotly.v1+html": [
       "<div id=\"1040013b-25c5-43d6-89cb-49749141bd9d\" style=\"height: 525px; width: 100%;\" class=\"plotly-graph-div\"></div><script type=\"text/javascript\">require([\"plotly\"], function(Plotly) { window.PLOTLYENV=window.PLOTLYENV || {};window.PLOTLYENV.BASE_URL=\"https://plot.ly\";Plotly.newPlot(\"1040013b-25c5-43d6-89cb-49749141bd9d\", [{\"line\": {\"dash\": \"solid\"}, \"name\": \"\\u53cd\\u9988\\u65f6\\u957fQ80(\\u51b7\\u96ea)\", \"x\": [8, 9, 10], \"y\": [27.599999999999998, 32.31, 8.79], \"type\": \"scatter\", \"uid\": \"893982b8-d69e-11e8-8ddb-a41f72875c19\"}, {\"line\": {\"dash\": \"dot\"}, \"name\": \"\\u53cd\\u9988\\u65f6\\u957fQ80(\\u5c48\\u6602)\", \"x\": [8, 9, 10], \"y\": [32.76, 32.52, 14.41], \"type\": \"scatter\", \"uid\": \"893982b9-d69e-11e8-8ddb-a41f72875c19\"}, {\"line\": {\"dash\": \"dash\"}, \"name\": \"\\u53cd\\u9988\\u65f6\\u957fQ80(\\u5f20\\u60a6)\", \"x\": [8, 9, 10], \"y\": [30.08, 3.31, 0.0], \"type\": \"scatter\", \"uid\": \"893982ba-d69e-11e8-8ddb-a41f72875c19\"}, {\"line\": {\"dash\": \"longdash\"}, \"name\": \"\\u53cd\\u9988\\u65f6\\u957fQ80(\\u5362\\u6960)\", \"x\": [8, 9, 10], \"y\": [38.46, 17.3, null], \"type\": \"scatter\", \"uid\": \"893982bb-d69e-11e8-8ddb-a41f72875c19\"}, {\"line\": {\"dash\": \"solid\"}, \"name\": \"\\u5e73\\u5747\\u53cd\\u9988\\u65f6\\u957f(\\u51b7\\u96ea)\", \"x\": [8, 9, 10], \"y\": [4.821589743589744, 5.106372549019608, 3.585909090909091], \"type\": \"scatter\", \"uid\": \"893982bc-d69e-11e8-8ddb-a41f72875c19\"}, {\"line\": {\"dash\": \"dot\"}, \"name\": \"\\u5e73\\u5747\\u53cd\\u9988\\u65f6\\u957f(\\u5c48\\u6602)\", \"x\": [8, 9, 10], \"y\": [5.482354430379746, 7.993348623853212, 7.5600000000000005], \"type\": \"scatter\", \"uid\": \"893982bd-d69e-11e8-8ddb-a41f72875c19\"}, {\"line\": {\"dash\": \"dash\"}, \"name\": \"\\u5e73\\u5747\\u53cd\\u9988\\u65f6\\u957f(\\u5f20\\u60a6)\", \"x\": [8, 9, 10], \"y\": [5.7700000000000005, 5.22, null], \"type\": \"scatter\", \"uid\": \"893982be-d69e-11e8-8ddb-a41f72875c19\"}, {\"line\": {\"dash\": \"longdash\"}, \"name\": \"\\u5e73\\u5747\\u53cd\\u9988\\u65f6\\u957f(\\u5362\\u6960)\", \"x\": [8, 9, 10], \"y\": [5.846803278688524, 11.526, null], \"type\": \"scatter\", \"uid\": \"893982bf-d69e-11e8-8ddb-a41f72875c19\"}], {\"title\": \"\\u53cd\\u9988\\u65f6\\u957fQ80&\\u5e73\\u5747\\u53cd\\u9988\\u65f6\\u957f\\u6708\\u8d8b\\u52bf\\u56fe\", \"xaxis\": {\"mirror\": \"all\", \"nticks\": 20, \"showgrid\": true, \"showline\": true, \"title\": \"\\u6708\", \"type\": \"category\", \"zeroline\": true}, \"yaxis\": {\"mirror\": \"all\", \"nticks\": 20, \"showgrid\": true, \"showline\": true, \"title\": \"\\u53cd\\u9988\\u65f6\\u957fQ80&\\u5e73\\u5747\\u53cd\\u9988\\u65f6\\u957f\", \"zeroline\": true}}, {\"showLink\": true, \"linkText\": \"Export to plot.ly\"})});</script>"
      ]
     },
     "metadata": {},
     "output_type": "display_data"
    }
   ],
   "source": [
    "ss = myModule.format(all_df1 ,\"日期（格式“月-周次”）\" ,['反馈总时长','下机批次数','反馈时长Q80'])\n",
    "ss.add_group('人员')\n",
    "tt = ss.get_total_ratio([['平均反馈时长','反馈总时长','下机批次数','/']] , ['反馈时长Q80'])\n",
    "myModule.myPlot(tt).plot('line')\n",
    "\n",
    "ss = myModule.format(all_df1 ,\"month\" ,['反馈总时长','下机批次数','反馈时长Q80'])\n",
    "ss.add_group('人员')\n",
    "tt = ss.get_total_ratio([['平均反馈时长','反馈总时长','下机批次数','/']] , ['反馈时长Q80'])\n",
    "myModule.myPlot(tt).plot('line','月')"
   ]
  },
  {
   "cell_type": "code",
   "execution_count": null,
   "metadata": {
    "collapsed": true
   },
   "outputs": [],
   "source": []
  }
 ],
 "metadata": {
  "celltoolbar": "Raw Cell Format",
  "hide_input": false,
  "kernelspec": {
   "display_name": "Python 3",
   "language": "python",
   "name": "python3"
  },
  "language_info": {
   "codemirror_mode": {
    "name": "ipython",
    "version": 3
   },
   "file_extension": ".py",
   "mimetype": "text/x-python",
   "name": "python",
   "nbconvert_exporter": "python",
   "pygments_lexer": "ipython3",
   "version": "3.6.0"
  },
  "toc": {
   "base_numbering": 1,
   "nav_menu": {},
   "number_sections": true,
   "sideBar": true,
   "skip_h1_title": false,
   "title_cell": "Table of Contents",
   "title_sidebar": "Contents",
   "toc_cell": false,
   "toc_position": {
    "height": "513.333px",
    "left": "419px",
    "top": "110.926px",
    "width": "225px"
   },
   "toc_section_display": true,
   "toc_window_display": true
  }
 },
 "nbformat": 4,
 "nbformat_minor": 2
}
