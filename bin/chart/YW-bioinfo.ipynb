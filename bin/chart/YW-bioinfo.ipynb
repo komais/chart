{
 "cells": [
  {
   "cell_type": "code",
   "execution_count": 7,
   "metadata": {},
   "outputs": [
    {
     "name": "stdout",
     "output_type": "stream",
     "text": [
      "The autoreload extension is already loaded. To reload it, use:\n",
      "  %reload_ext autoreload\n"
     ]
    }
   ],
   "source": [
    "%load_ext autoreload\n",
    "%autoreload 2"
   ]
  },
  {
   "cell_type": "code",
   "execution_count": 8,
   "metadata": {
    "hide_input": false,
    "scrolled": true
   },
   "outputs": [],
   "source": [
    "import sys\n",
    "sys.path.append('./')\n",
    "import myModule\n",
    "import pandas as pd "
   ]
  },
  {
   "cell_type": "code",
   "execution_count": 9,
   "metadata": {},
   "outputs": [
    {
     "data": {
      "text/html": [
       "<script>requirejs.config({paths: { 'plotly': ['https://cdn.plot.ly/plotly-latest.min']},});if(!window.Plotly) {{require(['plotly'],function(plotly) {window.Plotly=plotly;});}}</script>"
      ],
      "text/vnd.plotly.v1+html": [
       "<script>requirejs.config({paths: { 'plotly': ['https://cdn.plot.ly/plotly-latest.min']},});if(!window.Plotly) {{require(['plotly'],function(plotly) {window.Plotly=plotly;});}}</script>"
      ]
     },
     "metadata": {},
     "output_type": "display_data"
    },
    {
     "data": {
      "text/plain": [
       "<module 'myModule' from '/mnt/e/jupyter/bin/chart/myModule.py'>"
      ]
     },
     "execution_count": 9,
     "metadata": {},
     "output_type": "execute_result"
    }
   ],
   "source": [
    "import imp\n",
    "imp.reload(myModule)"
   ]
  },
  {
   "cell_type": "code",
   "execution_count": 10,
   "metadata": {},
   "outputs": [],
   "source": [
    "pathway = \"/mnt/e/jupyter/data/YW/\""
   ]
  },
  {
   "cell_type": "markdown",
   "metadata": {},
   "source": [
    "# 芯片质控情况\n",
    "* 对二代芯片质控情况进行汇总分析"
   ]
  },
  {
   "cell_type": "code",
   "execution_count": 11,
   "metadata": {
    "scrolled": false
   },
   "outputs": [],
   "source": [
    "all_files , title = myModule.get_title(pathway,1 )##给路径\n",
    "all_dict = myModule.read_xlsx(all_files, 1 ) ## read all files"
   ]
  },
  {
   "cell_type": "markdown",
   "metadata": {},
   "source": [
    "## 产能"
   ]
  },
  {
   "cell_type": "markdown",
   "metadata": {},
   "source": [
    "### 芯片总数和不通过芯片数"
   ]
  },
  {
   "cell_type": "code",
   "execution_count": 12,
   "metadata": {
    "scrolled": false
   },
   "outputs": [
    {
     "data": {
      "application/vnd.plotly.v1+json": {
       "data": [
        {
         "name": "芯片总数",
         "type": "scatter",
         "uid": "1a5b83b6-c22b-11e8-8e00-a81e84e6c740",
         "x": [
          "8-1",
          "8-2",
          "8-3",
          "8-4",
          "8-5",
          "9-1",
          "9-2"
         ],
         "y": [
          0,
          0,
          0,
          0,
          3,
          2,
          2
         ]
        },
        {
         "name": "不通过芯片数",
         "type": "scatter",
         "uid": "1a5b91d0-c22b-11e8-8e00-a81e84e6c740",
         "x": [
          "8-1",
          "8-2",
          "8-3",
          "8-4",
          "8-5",
          "9-1",
          "9-2"
         ],
         "y": [
          0,
          0,
          0,
          0,
          0,
          0,
          0
         ]
        }
       ],
       "layout": {
        "title": "芯片总数&不通过芯片数周趋势图",
        "xaxis": {
         "mirror": "all",
         "nticks": 20,
         "showgrid": true,
         "showline": true,
         "title": "周",
         "zeroline": true
        },
        "yaxis": {
         "mirror": "all",
         "nticks": 20,
         "showgrid": true,
         "showline": true,
         "title": "芯片总数&不通过芯片数",
         "zeroline": true
        }
       }
      },
      "text/html": [
       "<div id=\"0af30e8b-9adf-476d-88d1-d6b703f7da08\" style=\"height: 525px; width: 100%;\" class=\"plotly-graph-div\"></div><script type=\"text/javascript\">require([\"plotly\"], function(Plotly) { window.PLOTLYENV=window.PLOTLYENV || {};window.PLOTLYENV.BASE_URL=\"https://plot.ly\";\n",
       "        Plotly.plot(\n",
       "            '0af30e8b-9adf-476d-88d1-d6b703f7da08',\n",
       "            [{\"name\": \"\\u82af\\u7247\\u603b\\u6570\", \"x\": [\"8-1\", \"8-2\", \"8-3\", \"8-4\", \"8-5\", \"9-1\", \"9-2\"], \"y\": [0.0, 0.0, 0.0, 0.0, 3.0, 2.0, 2.0], \"type\": \"scatter\", \"uid\": \"1a5b83b6-c22b-11e8-8e00-a81e84e6c740\"}, {\"name\": \"\\u4e0d\\u901a\\u8fc7\\u82af\\u7247\\u6570\", \"x\": [\"8-1\", \"8-2\", \"8-3\", \"8-4\", \"8-5\", \"9-1\", \"9-2\"], \"y\": [0.0, 0.0, 0.0, 0.0, 0.0, 0.0, 0.0], \"type\": \"scatter\", \"uid\": \"1a5b91d0-c22b-11e8-8e00-a81e84e6c740\"}],\n",
       "            {\"title\": \"\\u82af\\u7247\\u603b\\u6570&\\u4e0d\\u901a\\u8fc7\\u82af\\u7247\\u6570\\u5468\\u8d8b\\u52bf\\u56fe\", \"xaxis\": {\"mirror\": \"all\", \"nticks\": 20, \"showgrid\": true, \"showline\": true, \"title\": \"\\u5468\", \"zeroline\": true}, \"yaxis\": {\"mirror\": \"all\", \"nticks\": 20, \"showgrid\": true, \"showline\": true, \"title\": \"\\u82af\\u7247\\u603b\\u6570&\\u4e0d\\u901a\\u8fc7\\u82af\\u7247\\u6570\", \"zeroline\": true}},\n",
       "            {\"showLink\": true, \"linkText\": \"Export to plot.ly\"}\n",
       "        ).then(function () {return Plotly.addFrames('0af30e8b-9adf-476d-88d1-d6b703f7da08',{});}).then(function(){Plotly.animate('0af30e8b-9adf-476d-88d1-d6b703f7da08');})\n",
       "        });</script>"
      ],
      "text/vnd.plotly.v1+html": [
       "<div id=\"0af30e8b-9adf-476d-88d1-d6b703f7da08\" style=\"height: 525px; width: 100%;\" class=\"plotly-graph-div\"></div><script type=\"text/javascript\">require([\"plotly\"], function(Plotly) { window.PLOTLYENV=window.PLOTLYENV || {};window.PLOTLYENV.BASE_URL=\"https://plot.ly\";\n",
       "        Plotly.plot(\n",
       "            '0af30e8b-9adf-476d-88d1-d6b703f7da08',\n",
       "            [{\"name\": \"\\u82af\\u7247\\u603b\\u6570\", \"x\": [\"8-1\", \"8-2\", \"8-3\", \"8-4\", \"8-5\", \"9-1\", \"9-2\"], \"y\": [0.0, 0.0, 0.0, 0.0, 3.0, 2.0, 2.0], \"type\": \"scatter\", \"uid\": \"1a5b83b6-c22b-11e8-8e00-a81e84e6c740\"}, {\"name\": \"\\u4e0d\\u901a\\u8fc7\\u82af\\u7247\\u6570\", \"x\": [\"8-1\", \"8-2\", \"8-3\", \"8-4\", \"8-5\", \"9-1\", \"9-2\"], \"y\": [0.0, 0.0, 0.0, 0.0, 0.0, 0.0, 0.0], \"type\": \"scatter\", \"uid\": \"1a5b91d0-c22b-11e8-8e00-a81e84e6c740\"}],\n",
       "            {\"title\": \"\\u82af\\u7247\\u603b\\u6570&\\u4e0d\\u901a\\u8fc7\\u82af\\u7247\\u6570\\u5468\\u8d8b\\u52bf\\u56fe\", \"xaxis\": {\"mirror\": \"all\", \"nticks\": 20, \"showgrid\": true, \"showline\": true, \"title\": \"\\u5468\", \"zeroline\": true}, \"yaxis\": {\"mirror\": \"all\", \"nticks\": 20, \"showgrid\": true, \"showline\": true, \"title\": \"\\u82af\\u7247\\u603b\\u6570&\\u4e0d\\u901a\\u8fc7\\u82af\\u7247\\u6570\", \"zeroline\": true}},\n",
       "            {\"showLink\": true, \"linkText\": \"Export to plot.ly\"}\n",
       "        ).then(function () {return Plotly.addFrames('0af30e8b-9adf-476d-88d1-d6b703f7da08',{});}).then(function(){Plotly.animate('0af30e8b-9adf-476d-88d1-d6b703f7da08');})\n",
       "        });</script>"
      ]
     },
     "metadata": {},
     "output_type": "display_data"
    },
    {
     "data": {
      "application/vnd.plotly.v1+json": {
       "data": [
        {
         "name": "芯片总数",
         "type": "scatter",
         "uid": "1a6b91e8-c22b-11e8-8e00-a81e84e6c740",
         "x": [
          "8",
          "9"
         ],
         "y": [
          3,
          4
         ]
        },
        {
         "name": "不通过芯片数",
         "type": "scatter",
         "uid": "1a6b97f6-c22b-11e8-8e00-a81e84e6c740",
         "x": [
          "8",
          "9"
         ],
         "y": [
          0,
          0
         ]
        }
       ],
       "layout": {
        "title": "芯片总数&不通过芯片数月趋势图",
        "xaxis": {
         "mirror": "all",
         "nticks": 20,
         "showgrid": true,
         "showline": true,
         "title": "月",
         "zeroline": true
        },
        "yaxis": {
         "mirror": "all",
         "nticks": 20,
         "showgrid": true,
         "showline": true,
         "title": "芯片总数&不通过芯片数",
         "zeroline": true
        }
       }
      },
      "text/html": [
       "<div id=\"858fe5f8-035e-4832-983d-91a905d20630\" style=\"height: 525px; width: 100%;\" class=\"plotly-graph-div\"></div><script type=\"text/javascript\">require([\"plotly\"], function(Plotly) { window.PLOTLYENV=window.PLOTLYENV || {};window.PLOTLYENV.BASE_URL=\"https://plot.ly\";\n",
       "        Plotly.plot(\n",
       "            '858fe5f8-035e-4832-983d-91a905d20630',\n",
       "            [{\"name\": \"\\u82af\\u7247\\u603b\\u6570\", \"x\": [\"8\", \"9\"], \"y\": [3.0, 4.0], \"type\": \"scatter\", \"uid\": \"1a6b91e8-c22b-11e8-8e00-a81e84e6c740\"}, {\"name\": \"\\u4e0d\\u901a\\u8fc7\\u82af\\u7247\\u6570\", \"x\": [\"8\", \"9\"], \"y\": [0.0, 0.0], \"type\": \"scatter\", \"uid\": \"1a6b97f6-c22b-11e8-8e00-a81e84e6c740\"}],\n",
       "            {\"title\": \"\\u82af\\u7247\\u603b\\u6570&\\u4e0d\\u901a\\u8fc7\\u82af\\u7247\\u6570\\u6708\\u8d8b\\u52bf\\u56fe\", \"xaxis\": {\"mirror\": \"all\", \"nticks\": 20, \"showgrid\": true, \"showline\": true, \"title\": \"\\u6708\", \"zeroline\": true}, \"yaxis\": {\"mirror\": \"all\", \"nticks\": 20, \"showgrid\": true, \"showline\": true, \"title\": \"\\u82af\\u7247\\u603b\\u6570&\\u4e0d\\u901a\\u8fc7\\u82af\\u7247\\u6570\", \"zeroline\": true}},\n",
       "            {\"showLink\": true, \"linkText\": \"Export to plot.ly\"}\n",
       "        ).then(function () {return Plotly.addFrames('858fe5f8-035e-4832-983d-91a905d20630',{});}).then(function(){Plotly.animate('858fe5f8-035e-4832-983d-91a905d20630');})\n",
       "        });</script>"
      ],
      "text/vnd.plotly.v1+html": [
       "<div id=\"858fe5f8-035e-4832-983d-91a905d20630\" style=\"height: 525px; width: 100%;\" class=\"plotly-graph-div\"></div><script type=\"text/javascript\">require([\"plotly\"], function(Plotly) { window.PLOTLYENV=window.PLOTLYENV || {};window.PLOTLYENV.BASE_URL=\"https://plot.ly\";\n",
       "        Plotly.plot(\n",
       "            '858fe5f8-035e-4832-983d-91a905d20630',\n",
       "            [{\"name\": \"\\u82af\\u7247\\u603b\\u6570\", \"x\": [\"8\", \"9\"], \"y\": [3.0, 4.0], \"type\": \"scatter\", \"uid\": \"1a6b91e8-c22b-11e8-8e00-a81e84e6c740\"}, {\"name\": \"\\u4e0d\\u901a\\u8fc7\\u82af\\u7247\\u6570\", \"x\": [\"8\", \"9\"], \"y\": [0.0, 0.0], \"type\": \"scatter\", \"uid\": \"1a6b97f6-c22b-11e8-8e00-a81e84e6c740\"}],\n",
       "            {\"title\": \"\\u82af\\u7247\\u603b\\u6570&\\u4e0d\\u901a\\u8fc7\\u82af\\u7247\\u6570\\u6708\\u8d8b\\u52bf\\u56fe\", \"xaxis\": {\"mirror\": \"all\", \"nticks\": 20, \"showgrid\": true, \"showline\": true, \"title\": \"\\u6708\", \"zeroline\": true}, \"yaxis\": {\"mirror\": \"all\", \"nticks\": 20, \"showgrid\": true, \"showline\": true, \"title\": \"\\u82af\\u7247\\u603b\\u6570&\\u4e0d\\u901a\\u8fc7\\u82af\\u7247\\u6570\", \"zeroline\": true}},\n",
       "            {\"showLink\": true, \"linkText\": \"Export to plot.ly\"}\n",
       "        ).then(function () {return Plotly.addFrames('858fe5f8-035e-4832-983d-91a905d20630',{});}).then(function(){Plotly.animate('858fe5f8-035e-4832-983d-91a905d20630');})\n",
       "        });</script>"
      ]
     },
     "metadata": {},
     "output_type": "display_data"
    }
   ],
   "source": [
    "data_dict = {'芯片总数':['芯片总数'], '不通过芯片数':['不通过芯片数']}\n",
    "myModule.plot( all_dict, data_dict, '人员', 'line', all='all')"
   ]
  },
  {
   "cell_type": "markdown",
   "metadata": {},
   "source": [
    "## 效率"
   ]
  },
  {
   "cell_type": "markdown",
   "metadata": {},
   "source": [
    "### 不合格率"
   ]
  },
  {
   "cell_type": "code",
   "execution_count": 13,
   "metadata": {
    "scrolled": false
   },
   "outputs": [
    {
     "data": {
      "application/vnd.plotly.v1+json": {
       "data": [
        {
         "name": "不合格率",
         "type": "scatter",
         "uid": "1a91a0a4-c22b-11e8-8e00-a81e84e6c740",
         "x": [
          "8-1",
          "8-2",
          "8-3",
          "8-4",
          "8-5",
          "9-1",
          "9-2"
         ],
         "y": [
          null,
          null,
          null,
          null,
          0,
          0,
          0
         ]
        }
       ],
       "layout": {
        "title": "不合格率周趋势图",
        "xaxis": {
         "mirror": "all",
         "nticks": 20,
         "showgrid": true,
         "showline": true,
         "title": "周",
         "zeroline": true
        },
        "yaxis": {
         "mirror": "all",
         "nticks": 20,
         "showgrid": true,
         "showline": true,
         "title": "不合格率",
         "zeroline": true
        }
       }
      },
      "text/html": [
       "<div id=\"24533c4b-1c4c-4201-98c5-ac54f5ccad71\" style=\"height: 525px; width: 100%;\" class=\"plotly-graph-div\"></div><script type=\"text/javascript\">require([\"plotly\"], function(Plotly) { window.PLOTLYENV=window.PLOTLYENV || {};window.PLOTLYENV.BASE_URL=\"https://plot.ly\";\n",
       "        Plotly.plot(\n",
       "            '24533c4b-1c4c-4201-98c5-ac54f5ccad71',\n",
       "            [{\"name\": \"\\u4e0d\\u5408\\u683c\\u7387\", \"x\": [\"8-1\", \"8-2\", \"8-3\", \"8-4\", \"8-5\", \"9-1\", \"9-2\"], \"y\": [null, null, null, null, 0.0, 0.0, 0.0], \"type\": \"scatter\", \"uid\": \"1a91a0a4-c22b-11e8-8e00-a81e84e6c740\"}],\n",
       "            {\"title\": \"\\u4e0d\\u5408\\u683c\\u7387\\u5468\\u8d8b\\u52bf\\u56fe\", \"xaxis\": {\"mirror\": \"all\", \"nticks\": 20, \"showgrid\": true, \"showline\": true, \"title\": \"\\u5468\", \"zeroline\": true}, \"yaxis\": {\"mirror\": \"all\", \"nticks\": 20, \"showgrid\": true, \"showline\": true, \"title\": \"\\u4e0d\\u5408\\u683c\\u7387\", \"zeroline\": true}},\n",
       "            {\"showLink\": true, \"linkText\": \"Export to plot.ly\"}\n",
       "        ).then(function () {return Plotly.addFrames('24533c4b-1c4c-4201-98c5-ac54f5ccad71',{});}).then(function(){Plotly.animate('24533c4b-1c4c-4201-98c5-ac54f5ccad71');})\n",
       "        });</script>"
      ],
      "text/vnd.plotly.v1+html": [
       "<div id=\"24533c4b-1c4c-4201-98c5-ac54f5ccad71\" style=\"height: 525px; width: 100%;\" class=\"plotly-graph-div\"></div><script type=\"text/javascript\">require([\"plotly\"], function(Plotly) { window.PLOTLYENV=window.PLOTLYENV || {};window.PLOTLYENV.BASE_URL=\"https://plot.ly\";\n",
       "        Plotly.plot(\n",
       "            '24533c4b-1c4c-4201-98c5-ac54f5ccad71',\n",
       "            [{\"name\": \"\\u4e0d\\u5408\\u683c\\u7387\", \"x\": [\"8-1\", \"8-2\", \"8-3\", \"8-4\", \"8-5\", \"9-1\", \"9-2\"], \"y\": [null, null, null, null, 0.0, 0.0, 0.0], \"type\": \"scatter\", \"uid\": \"1a91a0a4-c22b-11e8-8e00-a81e84e6c740\"}],\n",
       "            {\"title\": \"\\u4e0d\\u5408\\u683c\\u7387\\u5468\\u8d8b\\u52bf\\u56fe\", \"xaxis\": {\"mirror\": \"all\", \"nticks\": 20, \"showgrid\": true, \"showline\": true, \"title\": \"\\u5468\", \"zeroline\": true}, \"yaxis\": {\"mirror\": \"all\", \"nticks\": 20, \"showgrid\": true, \"showline\": true, \"title\": \"\\u4e0d\\u5408\\u683c\\u7387\", \"zeroline\": true}},\n",
       "            {\"showLink\": true, \"linkText\": \"Export to plot.ly\"}\n",
       "        ).then(function () {return Plotly.addFrames('24533c4b-1c4c-4201-98c5-ac54f5ccad71',{});}).then(function(){Plotly.animate('24533c4b-1c4c-4201-98c5-ac54f5ccad71');})\n",
       "        });</script>"
      ]
     },
     "metadata": {},
     "output_type": "display_data"
    },
    {
     "data": {
      "application/vnd.plotly.v1+json": {
       "data": [
        {
         "name": "不合格率",
         "type": "scatter",
         "uid": "1a9da660-c22b-11e8-8e00-a81e84e6c740",
         "x": [
          "8",
          "9"
         ],
         "y": [
          0,
          0
         ]
        }
       ],
       "layout": {
        "title": "不合格率月趋势图",
        "xaxis": {
         "mirror": "all",
         "nticks": 20,
         "showgrid": true,
         "showline": true,
         "title": "月",
         "zeroline": true
        },
        "yaxis": {
         "mirror": "all",
         "nticks": 20,
         "showgrid": true,
         "showline": true,
         "title": "不合格率",
         "zeroline": true
        }
       }
      },
      "text/html": [
       "<div id=\"e0528261-7483-4031-be7d-f682407261c5\" style=\"height: 525px; width: 100%;\" class=\"plotly-graph-div\"></div><script type=\"text/javascript\">require([\"plotly\"], function(Plotly) { window.PLOTLYENV=window.PLOTLYENV || {};window.PLOTLYENV.BASE_URL=\"https://plot.ly\";\n",
       "        Plotly.plot(\n",
       "            'e0528261-7483-4031-be7d-f682407261c5',\n",
       "            [{\"name\": \"\\u4e0d\\u5408\\u683c\\u7387\", \"x\": [\"8\", \"9\"], \"y\": [0.0, 0.0], \"type\": \"scatter\", \"uid\": \"1a9da660-c22b-11e8-8e00-a81e84e6c740\"}],\n",
       "            {\"title\": \"\\u4e0d\\u5408\\u683c\\u7387\\u6708\\u8d8b\\u52bf\\u56fe\", \"xaxis\": {\"mirror\": \"all\", \"nticks\": 20, \"showgrid\": true, \"showline\": true, \"title\": \"\\u6708\", \"zeroline\": true}, \"yaxis\": {\"mirror\": \"all\", \"nticks\": 20, \"showgrid\": true, \"showline\": true, \"title\": \"\\u4e0d\\u5408\\u683c\\u7387\", \"zeroline\": true}},\n",
       "            {\"showLink\": true, \"linkText\": \"Export to plot.ly\"}\n",
       "        ).then(function () {return Plotly.addFrames('e0528261-7483-4031-be7d-f682407261c5',{});}).then(function(){Plotly.animate('e0528261-7483-4031-be7d-f682407261c5');})\n",
       "        });</script>"
      ],
      "text/vnd.plotly.v1+html": [
       "<div id=\"e0528261-7483-4031-be7d-f682407261c5\" style=\"height: 525px; width: 100%;\" class=\"plotly-graph-div\"></div><script type=\"text/javascript\">require([\"plotly\"], function(Plotly) { window.PLOTLYENV=window.PLOTLYENV || {};window.PLOTLYENV.BASE_URL=\"https://plot.ly\";\n",
       "        Plotly.plot(\n",
       "            'e0528261-7483-4031-be7d-f682407261c5',\n",
       "            [{\"name\": \"\\u4e0d\\u5408\\u683c\\u7387\", \"x\": [\"8\", \"9\"], \"y\": [0.0, 0.0], \"type\": \"scatter\", \"uid\": \"1a9da660-c22b-11e8-8e00-a81e84e6c740\"}],\n",
       "            {\"title\": \"\\u4e0d\\u5408\\u683c\\u7387\\u6708\\u8d8b\\u52bf\\u56fe\", \"xaxis\": {\"mirror\": \"all\", \"nticks\": 20, \"showgrid\": true, \"showline\": true, \"title\": \"\\u6708\", \"zeroline\": true}, \"yaxis\": {\"mirror\": \"all\", \"nticks\": 20, \"showgrid\": true, \"showline\": true, \"title\": \"\\u4e0d\\u5408\\u683c\\u7387\", \"zeroline\": true}},\n",
       "            {\"showLink\": true, \"linkText\": \"Export to plot.ly\"}\n",
       "        ).then(function () {return Plotly.addFrames('e0528261-7483-4031-be7d-f682407261c5',{});}).then(function(){Plotly.animate('e0528261-7483-4031-be7d-f682407261c5');})\n",
       "        });</script>"
      ]
     },
     "metadata": {},
     "output_type": "display_data"
    }
   ],
   "source": [
    "data_dict = {'不合格率':['不通过芯片数', '芯片总数']}\n",
    "myModule.plot( all_dict, data_dict, '人员' ,  'line' , all='all')"
   ]
  },
  {
   "cell_type": "markdown",
   "metadata": {},
   "source": [
    "### 通过率情况"
   ]
  },
  {
   "cell_type": "code",
   "execution_count": 14,
   "metadata": {},
   "outputs": [
    {
     "data": {
      "application/vnd.plotly.v1+json": {
       "data": [
        {
         "name": "8h通过率",
         "type": "scatter",
         "uid": "1ac88498-c22b-11e8-8e00-a81e84e6c740",
         "x": [
          "8-1",
          "8-2",
          "8-3",
          "8-4",
          "8-5",
          "9-1",
          "9-2"
         ],
         "y": [
          null,
          null,
          null,
          null,
          0,
          0,
          0
         ]
        },
        {
         "name": "24h通过率",
         "type": "scatter",
         "uid": "1ac88826-c22b-11e8-8e00-a81e84e6c740",
         "x": [
          "8-1",
          "8-2",
          "8-3",
          "8-4",
          "8-5",
          "9-1",
          "9-2"
         ],
         "y": [
          null,
          null,
          null,
          null,
          0,
          0,
          0
         ]
        },
        {
         "name": "48h通过率",
         "type": "scatter",
         "uid": "1ac88ab0-c22b-11e8-8e00-a81e84e6c740",
         "x": [
          "8-1",
          "8-2",
          "8-3",
          "8-4",
          "8-5",
          "9-1",
          "9-2"
         ],
         "y": [
          null,
          null,
          null,
          null,
          0,
          0,
          0
         ]
        }
       ],
       "layout": {
        "title": "8h通过率&24h通过率&48h通过率周趋势图",
        "xaxis": {
         "mirror": "all",
         "nticks": 20,
         "showgrid": true,
         "showline": true,
         "title": "周",
         "zeroline": true
        },
        "yaxis": {
         "mirror": "all",
         "nticks": 20,
         "showgrid": true,
         "showline": true,
         "title": "8h通过率&24h通过率&48h通过率",
         "zeroline": true
        }
       }
      },
      "text/html": [
       "<div id=\"286dd389-90d8-4570-9157-b94b61a7de40\" style=\"height: 525px; width: 100%;\" class=\"plotly-graph-div\"></div><script type=\"text/javascript\">require([\"plotly\"], function(Plotly) { window.PLOTLYENV=window.PLOTLYENV || {};window.PLOTLYENV.BASE_URL=\"https://plot.ly\";\n",
       "        Plotly.plot(\n",
       "            '286dd389-90d8-4570-9157-b94b61a7de40',\n",
       "            [{\"name\": \"8h\\u901a\\u8fc7\\u7387\", \"x\": [\"8-1\", \"8-2\", \"8-3\", \"8-4\", \"8-5\", \"9-1\", \"9-2\"], \"y\": [null, null, null, null, 0.0, 0.0, 0.0], \"type\": \"scatter\", \"uid\": \"1ac88498-c22b-11e8-8e00-a81e84e6c740\"}, {\"name\": \"24h\\u901a\\u8fc7\\u7387\", \"x\": [\"8-1\", \"8-2\", \"8-3\", \"8-4\", \"8-5\", \"9-1\", \"9-2\"], \"y\": [null, null, null, null, 0.0, 0.0, 0.0], \"type\": \"scatter\", \"uid\": \"1ac88826-c22b-11e8-8e00-a81e84e6c740\"}, {\"name\": \"48h\\u901a\\u8fc7\\u7387\", \"x\": [\"8-1\", \"8-2\", \"8-3\", \"8-4\", \"8-5\", \"9-1\", \"9-2\"], \"y\": [null, null, null, null, 0.0, 0.0, 0.0], \"type\": \"scatter\", \"uid\": \"1ac88ab0-c22b-11e8-8e00-a81e84e6c740\"}],\n",
       "            {\"title\": \"8h\\u901a\\u8fc7\\u7387&24h\\u901a\\u8fc7\\u7387&48h\\u901a\\u8fc7\\u7387\\u5468\\u8d8b\\u52bf\\u56fe\", \"xaxis\": {\"mirror\": \"all\", \"nticks\": 20, \"showgrid\": true, \"showline\": true, \"title\": \"\\u5468\", \"zeroline\": true}, \"yaxis\": {\"mirror\": \"all\", \"nticks\": 20, \"showgrid\": true, \"showline\": true, \"title\": \"8h\\u901a\\u8fc7\\u7387&24h\\u901a\\u8fc7\\u7387&48h\\u901a\\u8fc7\\u7387\", \"zeroline\": true}},\n",
       "            {\"showLink\": true, \"linkText\": \"Export to plot.ly\"}\n",
       "        ).then(function () {return Plotly.addFrames('286dd389-90d8-4570-9157-b94b61a7de40',{});}).then(function(){Plotly.animate('286dd389-90d8-4570-9157-b94b61a7de40');})\n",
       "        });</script>"
      ],
      "text/vnd.plotly.v1+html": [
       "<div id=\"286dd389-90d8-4570-9157-b94b61a7de40\" style=\"height: 525px; width: 100%;\" class=\"plotly-graph-div\"></div><script type=\"text/javascript\">require([\"plotly\"], function(Plotly) { window.PLOTLYENV=window.PLOTLYENV || {};window.PLOTLYENV.BASE_URL=\"https://plot.ly\";\n",
       "        Plotly.plot(\n",
       "            '286dd389-90d8-4570-9157-b94b61a7de40',\n",
       "            [{\"name\": \"8h\\u901a\\u8fc7\\u7387\", \"x\": [\"8-1\", \"8-2\", \"8-3\", \"8-4\", \"8-5\", \"9-1\", \"9-2\"], \"y\": [null, null, null, null, 0.0, 0.0, 0.0], \"type\": \"scatter\", \"uid\": \"1ac88498-c22b-11e8-8e00-a81e84e6c740\"}, {\"name\": \"24h\\u901a\\u8fc7\\u7387\", \"x\": [\"8-1\", \"8-2\", \"8-3\", \"8-4\", \"8-5\", \"9-1\", \"9-2\"], \"y\": [null, null, null, null, 0.0, 0.0, 0.0], \"type\": \"scatter\", \"uid\": \"1ac88826-c22b-11e8-8e00-a81e84e6c740\"}, {\"name\": \"48h\\u901a\\u8fc7\\u7387\", \"x\": [\"8-1\", \"8-2\", \"8-3\", \"8-4\", \"8-5\", \"9-1\", \"9-2\"], \"y\": [null, null, null, null, 0.0, 0.0, 0.0], \"type\": \"scatter\", \"uid\": \"1ac88ab0-c22b-11e8-8e00-a81e84e6c740\"}],\n",
       "            {\"title\": \"8h\\u901a\\u8fc7\\u7387&24h\\u901a\\u8fc7\\u7387&48h\\u901a\\u8fc7\\u7387\\u5468\\u8d8b\\u52bf\\u56fe\", \"xaxis\": {\"mirror\": \"all\", \"nticks\": 20, \"showgrid\": true, \"showline\": true, \"title\": \"\\u5468\", \"zeroline\": true}, \"yaxis\": {\"mirror\": \"all\", \"nticks\": 20, \"showgrid\": true, \"showline\": true, \"title\": \"8h\\u901a\\u8fc7\\u7387&24h\\u901a\\u8fc7\\u7387&48h\\u901a\\u8fc7\\u7387\", \"zeroline\": true}},\n",
       "            {\"showLink\": true, \"linkText\": \"Export to plot.ly\"}\n",
       "        ).then(function () {return Plotly.addFrames('286dd389-90d8-4570-9157-b94b61a7de40',{});}).then(function(){Plotly.animate('286dd389-90d8-4570-9157-b94b61a7de40');})\n",
       "        });</script>"
      ]
     },
     "metadata": {},
     "output_type": "display_data"
    },
    {
     "data": {
      "application/vnd.plotly.v1+json": {
       "data": [
        {
         "name": "8h通过率",
         "type": "scatter",
         "uid": "1ae36da8-c22b-11e8-8e00-a81e84e6c740",
         "x": [
          "8",
          "9"
         ],
         "y": [
          0,
          0
         ]
        },
        {
         "name": "24h通过率",
         "type": "scatter",
         "uid": "1ae372c6-c22b-11e8-8e00-a81e84e6c740",
         "x": [
          "8",
          "9"
         ],
         "y": [
          0,
          0
         ]
        },
        {
         "name": "48h通过率",
         "type": "scatter",
         "uid": "1ae37672-c22b-11e8-8e00-a81e84e6c740",
         "x": [
          "8",
          "9"
         ],
         "y": [
          0,
          0
         ]
        }
       ],
       "layout": {
        "title": "8h通过率&24h通过率&48h通过率月趋势图",
        "xaxis": {
         "mirror": "all",
         "nticks": 20,
         "showgrid": true,
         "showline": true,
         "title": "月",
         "zeroline": true
        },
        "yaxis": {
         "mirror": "all",
         "nticks": 20,
         "showgrid": true,
         "showline": true,
         "title": "8h通过率&24h通过率&48h通过率",
         "zeroline": true
        }
       }
      },
      "text/html": [
       "<div id=\"7dc28277-ca3b-4ead-8b23-da788704e7c3\" style=\"height: 525px; width: 100%;\" class=\"plotly-graph-div\"></div><script type=\"text/javascript\">require([\"plotly\"], function(Plotly) { window.PLOTLYENV=window.PLOTLYENV || {};window.PLOTLYENV.BASE_URL=\"https://plot.ly\";\n",
       "        Plotly.plot(\n",
       "            '7dc28277-ca3b-4ead-8b23-da788704e7c3',\n",
       "            [{\"name\": \"8h\\u901a\\u8fc7\\u7387\", \"x\": [\"8\", \"9\"], \"y\": [0.0, 0.0], \"type\": \"scatter\", \"uid\": \"1ae36da8-c22b-11e8-8e00-a81e84e6c740\"}, {\"name\": \"24h\\u901a\\u8fc7\\u7387\", \"x\": [\"8\", \"9\"], \"y\": [0.0, 0.0], \"type\": \"scatter\", \"uid\": \"1ae372c6-c22b-11e8-8e00-a81e84e6c740\"}, {\"name\": \"48h\\u901a\\u8fc7\\u7387\", \"x\": [\"8\", \"9\"], \"y\": [0.0, 0.0], \"type\": \"scatter\", \"uid\": \"1ae37672-c22b-11e8-8e00-a81e84e6c740\"}],\n",
       "            {\"title\": \"8h\\u901a\\u8fc7\\u7387&24h\\u901a\\u8fc7\\u7387&48h\\u901a\\u8fc7\\u7387\\u6708\\u8d8b\\u52bf\\u56fe\", \"xaxis\": {\"mirror\": \"all\", \"nticks\": 20, \"showgrid\": true, \"showline\": true, \"title\": \"\\u6708\", \"zeroline\": true}, \"yaxis\": {\"mirror\": \"all\", \"nticks\": 20, \"showgrid\": true, \"showline\": true, \"title\": \"8h\\u901a\\u8fc7\\u7387&24h\\u901a\\u8fc7\\u7387&48h\\u901a\\u8fc7\\u7387\", \"zeroline\": true}},\n",
       "            {\"showLink\": true, \"linkText\": \"Export to plot.ly\"}\n",
       "        ).then(function () {return Plotly.addFrames('7dc28277-ca3b-4ead-8b23-da788704e7c3',{});}).then(function(){Plotly.animate('7dc28277-ca3b-4ead-8b23-da788704e7c3');})\n",
       "        });</script>"
      ],
      "text/vnd.plotly.v1+html": [
       "<div id=\"7dc28277-ca3b-4ead-8b23-da788704e7c3\" style=\"height: 525px; width: 100%;\" class=\"plotly-graph-div\"></div><script type=\"text/javascript\">require([\"plotly\"], function(Plotly) { window.PLOTLYENV=window.PLOTLYENV || {};window.PLOTLYENV.BASE_URL=\"https://plot.ly\";\n",
       "        Plotly.plot(\n",
       "            '7dc28277-ca3b-4ead-8b23-da788704e7c3',\n",
       "            [{\"name\": \"8h\\u901a\\u8fc7\\u7387\", \"x\": [\"8\", \"9\"], \"y\": [0.0, 0.0], \"type\": \"scatter\", \"uid\": \"1ae36da8-c22b-11e8-8e00-a81e84e6c740\"}, {\"name\": \"24h\\u901a\\u8fc7\\u7387\", \"x\": [\"8\", \"9\"], \"y\": [0.0, 0.0], \"type\": \"scatter\", \"uid\": \"1ae372c6-c22b-11e8-8e00-a81e84e6c740\"}, {\"name\": \"48h\\u901a\\u8fc7\\u7387\", \"x\": [\"8\", \"9\"], \"y\": [0.0, 0.0], \"type\": \"scatter\", \"uid\": \"1ae37672-c22b-11e8-8e00-a81e84e6c740\"}],\n",
       "            {\"title\": \"8h\\u901a\\u8fc7\\u7387&24h\\u901a\\u8fc7\\u7387&48h\\u901a\\u8fc7\\u7387\\u6708\\u8d8b\\u52bf\\u56fe\", \"xaxis\": {\"mirror\": \"all\", \"nticks\": 20, \"showgrid\": true, \"showline\": true, \"title\": \"\\u6708\", \"zeroline\": true}, \"yaxis\": {\"mirror\": \"all\", \"nticks\": 20, \"showgrid\": true, \"showline\": true, \"title\": \"8h\\u901a\\u8fc7\\u7387&24h\\u901a\\u8fc7\\u7387&48h\\u901a\\u8fc7\\u7387\", \"zeroline\": true}},\n",
       "            {\"showLink\": true, \"linkText\": \"Export to plot.ly\"}\n",
       "        ).then(function () {return Plotly.addFrames('7dc28277-ca3b-4ead-8b23-da788704e7c3',{});}).then(function(){Plotly.animate('7dc28277-ca3b-4ead-8b23-da788704e7c3');})\n",
       "        });</script>"
      ]
     },
     "metadata": {},
     "output_type": "display_data"
    }
   ],
   "source": [
    "#data_dict = {'8h通过率':['8h通过芯片数', '芯片总数'], '24h通过率':['24h通过芯片数', '芯片总数'], \n",
    "             #'48h通过率':['48h通过芯片数', '芯片总数'], '24h通过率标线':['24h通过率标线'], '48h通过率标线':['48h通过率标线']}\n",
    "data_dict = {'8h通过率':['8h通过芯片数', '芯片总数'], '24h通过率':['24h通过芯片数', '芯片总数'], '48h通过率':['48h通过芯片数', '芯片总数']}\n",
    "myModule.plot( all_dict, data_dict, '人员' ,  'line' ,  all='all')"
   ]
  },
  {
   "cell_type": "markdown",
   "metadata": {},
   "source": [
    "### 平均通过时长\n",
    "* 平均通过时长，一次通过平均时长，非一次通过平均时长，通过时长Q80"
   ]
  },
  {
   "cell_type": "code",
   "execution_count": 15,
   "metadata": {},
   "outputs": [
    {
     "data": {
      "application/vnd.plotly.v1+json": {
       "data": [
        {
         "name": "平均通过时长",
         "type": "scatter",
         "uid": "1b115844-c22b-11e8-8e00-a81e84e6c740",
         "x": [
          "8-1",
          "8-2",
          "8-3",
          "8-4",
          "8-5",
          "9-1",
          "9-2"
         ],
         "y": [
          0,
          0,
          0,
          0,
          76.3,
          36,
          0
         ]
        },
        {
         "name": "NovaS4一次通过时长",
         "type": "scatter",
         "uid": "1b115dd0-c22b-11e8-8e00-a81e84e6c740",
         "x": [
          "8-1",
          "8-2",
          "8-3",
          "8-4",
          "8-5",
          "9-1",
          "9-2"
         ],
         "y": [
          0,
          0,
          0,
          0,
          0,
          0,
          0
         ]
        },
        {
         "name": "非一次通过平均时长",
         "type": "scatter",
         "uid": "1b1161f4-c22b-11e8-8e00-a81e84e6c740",
         "x": [
          "8-1",
          "8-2",
          "8-3",
          "8-4",
          "8-5",
          "9-1",
          "9-2"
         ],
         "y": [
          0,
          0,
          0,
          0,
          76.3,
          36,
          0
         ]
        },
        {
         "name": "通过时长Q80",
         "type": "scatter",
         "uid": "1b1165b4-c22b-11e8-8e00-a81e84e6c740",
         "x": [
          "8-1",
          "8-2",
          "8-3",
          "8-4",
          "8-5",
          "9-1",
          "9-2"
         ],
         "y": [
          0,
          0,
          0,
          0,
          0,
          32,
          0
         ]
        }
       ],
       "layout": {
        "title": "平均通过时长&NovaS4一次通过时长&非一次通过平均时长&通过时长Q80周趋势图",
        "xaxis": {
         "mirror": "all",
         "nticks": 20,
         "showgrid": true,
         "showline": true,
         "title": "周",
         "zeroline": true
        },
        "yaxis": {
         "mirror": "all",
         "nticks": 20,
         "showgrid": true,
         "showline": true,
         "title": "平均通过时长&NovaS4一次通过时长&非一次通过平均时长&通过时长Q80",
         "zeroline": true
        }
       }
      },
      "text/html": [
       "<div id=\"d7fe97ed-bae1-4edc-97ff-af2f0c0d41a9\" style=\"height: 525px; width: 100%;\" class=\"plotly-graph-div\"></div><script type=\"text/javascript\">require([\"plotly\"], function(Plotly) { window.PLOTLYENV=window.PLOTLYENV || {};window.PLOTLYENV.BASE_URL=\"https://plot.ly\";\n",
       "        Plotly.plot(\n",
       "            'd7fe97ed-bae1-4edc-97ff-af2f0c0d41a9',\n",
       "            [{\"name\": \"\\u5e73\\u5747\\u901a\\u8fc7\\u65f6\\u957f\", \"x\": [\"8-1\", \"8-2\", \"8-3\", \"8-4\", \"8-5\", \"9-1\", \"9-2\"], \"y\": [0.0, 0.0, 0.0, 0.0, 76.3, 36.0, 0.0], \"type\": \"scatter\", \"uid\": \"1b115844-c22b-11e8-8e00-a81e84e6c740\"}, {\"name\": \"NovaS4\\u4e00\\u6b21\\u901a\\u8fc7\\u65f6\\u957f\", \"x\": [\"8-1\", \"8-2\", \"8-3\", \"8-4\", \"8-5\", \"9-1\", \"9-2\"], \"y\": [0.0, 0.0, 0.0, 0.0, 0.0, 0.0, 0.0], \"type\": \"scatter\", \"uid\": \"1b115dd0-c22b-11e8-8e00-a81e84e6c740\"}, {\"name\": \"\\u975e\\u4e00\\u6b21\\u901a\\u8fc7\\u5e73\\u5747\\u65f6\\u957f\", \"x\": [\"8-1\", \"8-2\", \"8-3\", \"8-4\", \"8-5\", \"9-1\", \"9-2\"], \"y\": [0.0, 0.0, 0.0, 0.0, 76.3, 36.0, 0.0], \"type\": \"scatter\", \"uid\": \"1b1161f4-c22b-11e8-8e00-a81e84e6c740\"}, {\"name\": \"\\u901a\\u8fc7\\u65f6\\u957fQ80\", \"x\": [\"8-1\", \"8-2\", \"8-3\", \"8-4\", \"8-5\", \"9-1\", \"9-2\"], \"y\": [0.0, 0.0, 0.0, 0.0, 0.0, 32.0, 0.0], \"type\": \"scatter\", \"uid\": \"1b1165b4-c22b-11e8-8e00-a81e84e6c740\"}],\n",
       "            {\"title\": \"\\u5e73\\u5747\\u901a\\u8fc7\\u65f6\\u957f&NovaS4\\u4e00\\u6b21\\u901a\\u8fc7\\u65f6\\u957f&\\u975e\\u4e00\\u6b21\\u901a\\u8fc7\\u5e73\\u5747\\u65f6\\u957f&\\u901a\\u8fc7\\u65f6\\u957fQ80\\u5468\\u8d8b\\u52bf\\u56fe\", \"xaxis\": {\"mirror\": \"all\", \"nticks\": 20, \"showgrid\": true, \"showline\": true, \"title\": \"\\u5468\", \"zeroline\": true}, \"yaxis\": {\"mirror\": \"all\", \"nticks\": 20, \"showgrid\": true, \"showline\": true, \"title\": \"\\u5e73\\u5747\\u901a\\u8fc7\\u65f6\\u957f&NovaS4\\u4e00\\u6b21\\u901a\\u8fc7\\u65f6\\u957f&\\u975e\\u4e00\\u6b21\\u901a\\u8fc7\\u5e73\\u5747\\u65f6\\u957f&\\u901a\\u8fc7\\u65f6\\u957fQ80\", \"zeroline\": true}},\n",
       "            {\"showLink\": true, \"linkText\": \"Export to plot.ly\"}\n",
       "        ).then(function () {return Plotly.addFrames('d7fe97ed-bae1-4edc-97ff-af2f0c0d41a9',{});}).then(function(){Plotly.animate('d7fe97ed-bae1-4edc-97ff-af2f0c0d41a9');})\n",
       "        });</script>"
      ],
      "text/vnd.plotly.v1+html": [
       "<div id=\"d7fe97ed-bae1-4edc-97ff-af2f0c0d41a9\" style=\"height: 525px; width: 100%;\" class=\"plotly-graph-div\"></div><script type=\"text/javascript\">require([\"plotly\"], function(Plotly) { window.PLOTLYENV=window.PLOTLYENV || {};window.PLOTLYENV.BASE_URL=\"https://plot.ly\";\n",
       "        Plotly.plot(\n",
       "            'd7fe97ed-bae1-4edc-97ff-af2f0c0d41a9',\n",
       "            [{\"name\": \"\\u5e73\\u5747\\u901a\\u8fc7\\u65f6\\u957f\", \"x\": [\"8-1\", \"8-2\", \"8-3\", \"8-4\", \"8-5\", \"9-1\", \"9-2\"], \"y\": [0.0, 0.0, 0.0, 0.0, 76.3, 36.0, 0.0], \"type\": \"scatter\", \"uid\": \"1b115844-c22b-11e8-8e00-a81e84e6c740\"}, {\"name\": \"NovaS4\\u4e00\\u6b21\\u901a\\u8fc7\\u65f6\\u957f\", \"x\": [\"8-1\", \"8-2\", \"8-3\", \"8-4\", \"8-5\", \"9-1\", \"9-2\"], \"y\": [0.0, 0.0, 0.0, 0.0, 0.0, 0.0, 0.0], \"type\": \"scatter\", \"uid\": \"1b115dd0-c22b-11e8-8e00-a81e84e6c740\"}, {\"name\": \"\\u975e\\u4e00\\u6b21\\u901a\\u8fc7\\u5e73\\u5747\\u65f6\\u957f\", \"x\": [\"8-1\", \"8-2\", \"8-3\", \"8-4\", \"8-5\", \"9-1\", \"9-2\"], \"y\": [0.0, 0.0, 0.0, 0.0, 76.3, 36.0, 0.0], \"type\": \"scatter\", \"uid\": \"1b1161f4-c22b-11e8-8e00-a81e84e6c740\"}, {\"name\": \"\\u901a\\u8fc7\\u65f6\\u957fQ80\", \"x\": [\"8-1\", \"8-2\", \"8-3\", \"8-4\", \"8-5\", \"9-1\", \"9-2\"], \"y\": [0.0, 0.0, 0.0, 0.0, 0.0, 32.0, 0.0], \"type\": \"scatter\", \"uid\": \"1b1165b4-c22b-11e8-8e00-a81e84e6c740\"}],\n",
       "            {\"title\": \"\\u5e73\\u5747\\u901a\\u8fc7\\u65f6\\u957f&NovaS4\\u4e00\\u6b21\\u901a\\u8fc7\\u65f6\\u957f&\\u975e\\u4e00\\u6b21\\u901a\\u8fc7\\u5e73\\u5747\\u65f6\\u957f&\\u901a\\u8fc7\\u65f6\\u957fQ80\\u5468\\u8d8b\\u52bf\\u56fe\", \"xaxis\": {\"mirror\": \"all\", \"nticks\": 20, \"showgrid\": true, \"showline\": true, \"title\": \"\\u5468\", \"zeroline\": true}, \"yaxis\": {\"mirror\": \"all\", \"nticks\": 20, \"showgrid\": true, \"showline\": true, \"title\": \"\\u5e73\\u5747\\u901a\\u8fc7\\u65f6\\u957f&NovaS4\\u4e00\\u6b21\\u901a\\u8fc7\\u65f6\\u957f&\\u975e\\u4e00\\u6b21\\u901a\\u8fc7\\u5e73\\u5747\\u65f6\\u957f&\\u901a\\u8fc7\\u65f6\\u957fQ80\", \"zeroline\": true}},\n",
       "            {\"showLink\": true, \"linkText\": \"Export to plot.ly\"}\n",
       "        ).then(function () {return Plotly.addFrames('d7fe97ed-bae1-4edc-97ff-af2f0c0d41a9',{});}).then(function(){Plotly.animate('d7fe97ed-bae1-4edc-97ff-af2f0c0d41a9');})\n",
       "        });</script>"
      ]
     },
     "metadata": {},
     "output_type": "display_data"
    },
    {
     "data": {
      "application/vnd.plotly.v1+json": {
       "data": [
        {
         "name": "平均通过时长",
         "type": "scatter",
         "uid": "1b258ba2-c22b-11e8-8e00-a81e84e6c740",
         "x": [
          "8",
          "9"
         ],
         "y": [
          76.3,
          36
         ]
        },
        {
         "name": "NovaS4一次通过时长",
         "type": "scatter",
         "uid": "1b25a074-c22b-11e8-8e00-a81e84e6c740",
         "x": [
          "8",
          "9"
         ],
         "y": [
          0,
          0
         ]
        },
        {
         "name": "非一次通过平均时长",
         "type": "scatter",
         "uid": "1b25b17c-c22b-11e8-8e00-a81e84e6c740",
         "x": [
          "8",
          "9"
         ],
         "y": [
          76.3,
          36
         ]
        },
        {
         "name": "通过时长Q80",
         "type": "scatter",
         "uid": "1b25b640-c22b-11e8-8e00-a81e84e6c740",
         "x": [
          "8",
          "9"
         ],
         "y": [
          0,
          32
         ]
        }
       ],
       "layout": {
        "title": "平均通过时长&NovaS4一次通过时长&非一次通过平均时长&通过时长Q80月趋势图",
        "xaxis": {
         "mirror": "all",
         "nticks": 20,
         "showgrid": true,
         "showline": true,
         "title": "月",
         "zeroline": true
        },
        "yaxis": {
         "mirror": "all",
         "nticks": 20,
         "showgrid": true,
         "showline": true,
         "title": "平均通过时长&NovaS4一次通过时长&非一次通过平均时长&通过时长Q80",
         "zeroline": true
        }
       }
      },
      "text/html": [
       "<div id=\"441499ef-4881-4b25-bd17-f9b030f3846e\" style=\"height: 525px; width: 100%;\" class=\"plotly-graph-div\"></div><script type=\"text/javascript\">require([\"plotly\"], function(Plotly) { window.PLOTLYENV=window.PLOTLYENV || {};window.PLOTLYENV.BASE_URL=\"https://plot.ly\";\n",
       "        Plotly.plot(\n",
       "            '441499ef-4881-4b25-bd17-f9b030f3846e',\n",
       "            [{\"name\": \"\\u5e73\\u5747\\u901a\\u8fc7\\u65f6\\u957f\", \"x\": [\"8\", \"9\"], \"y\": [76.3, 36.0], \"type\": \"scatter\", \"uid\": \"1b258ba2-c22b-11e8-8e00-a81e84e6c740\"}, {\"name\": \"NovaS4\\u4e00\\u6b21\\u901a\\u8fc7\\u65f6\\u957f\", \"x\": [\"8\", \"9\"], \"y\": [0.0, 0.0], \"type\": \"scatter\", \"uid\": \"1b25a074-c22b-11e8-8e00-a81e84e6c740\"}, {\"name\": \"\\u975e\\u4e00\\u6b21\\u901a\\u8fc7\\u5e73\\u5747\\u65f6\\u957f\", \"x\": [\"8\", \"9\"], \"y\": [76.3, 36.0], \"type\": \"scatter\", \"uid\": \"1b25b17c-c22b-11e8-8e00-a81e84e6c740\"}, {\"name\": \"\\u901a\\u8fc7\\u65f6\\u957fQ80\", \"x\": [\"8\", \"9\"], \"y\": [0.0, 32.0], \"type\": \"scatter\", \"uid\": \"1b25b640-c22b-11e8-8e00-a81e84e6c740\"}],\n",
       "            {\"title\": \"\\u5e73\\u5747\\u901a\\u8fc7\\u65f6\\u957f&NovaS4\\u4e00\\u6b21\\u901a\\u8fc7\\u65f6\\u957f&\\u975e\\u4e00\\u6b21\\u901a\\u8fc7\\u5e73\\u5747\\u65f6\\u957f&\\u901a\\u8fc7\\u65f6\\u957fQ80\\u6708\\u8d8b\\u52bf\\u56fe\", \"xaxis\": {\"mirror\": \"all\", \"nticks\": 20, \"showgrid\": true, \"showline\": true, \"title\": \"\\u6708\", \"zeroline\": true}, \"yaxis\": {\"mirror\": \"all\", \"nticks\": 20, \"showgrid\": true, \"showline\": true, \"title\": \"\\u5e73\\u5747\\u901a\\u8fc7\\u65f6\\u957f&NovaS4\\u4e00\\u6b21\\u901a\\u8fc7\\u65f6\\u957f&\\u975e\\u4e00\\u6b21\\u901a\\u8fc7\\u5e73\\u5747\\u65f6\\u957f&\\u901a\\u8fc7\\u65f6\\u957fQ80\", \"zeroline\": true}},\n",
       "            {\"showLink\": true, \"linkText\": \"Export to plot.ly\"}\n",
       "        ).then(function () {return Plotly.addFrames('441499ef-4881-4b25-bd17-f9b030f3846e',{});}).then(function(){Plotly.animate('441499ef-4881-4b25-bd17-f9b030f3846e');})\n",
       "        });</script>"
      ],
      "text/vnd.plotly.v1+html": [
       "<div id=\"441499ef-4881-4b25-bd17-f9b030f3846e\" style=\"height: 525px; width: 100%;\" class=\"plotly-graph-div\"></div><script type=\"text/javascript\">require([\"plotly\"], function(Plotly) { window.PLOTLYENV=window.PLOTLYENV || {};window.PLOTLYENV.BASE_URL=\"https://plot.ly\";\n",
       "        Plotly.plot(\n",
       "            '441499ef-4881-4b25-bd17-f9b030f3846e',\n",
       "            [{\"name\": \"\\u5e73\\u5747\\u901a\\u8fc7\\u65f6\\u957f\", \"x\": [\"8\", \"9\"], \"y\": [76.3, 36.0], \"type\": \"scatter\", \"uid\": \"1b258ba2-c22b-11e8-8e00-a81e84e6c740\"}, {\"name\": \"NovaS4\\u4e00\\u6b21\\u901a\\u8fc7\\u65f6\\u957f\", \"x\": [\"8\", \"9\"], \"y\": [0.0, 0.0], \"type\": \"scatter\", \"uid\": \"1b25a074-c22b-11e8-8e00-a81e84e6c740\"}, {\"name\": \"\\u975e\\u4e00\\u6b21\\u901a\\u8fc7\\u5e73\\u5747\\u65f6\\u957f\", \"x\": [\"8\", \"9\"], \"y\": [76.3, 36.0], \"type\": \"scatter\", \"uid\": \"1b25b17c-c22b-11e8-8e00-a81e84e6c740\"}, {\"name\": \"\\u901a\\u8fc7\\u65f6\\u957fQ80\", \"x\": [\"8\", \"9\"], \"y\": [0.0, 32.0], \"type\": \"scatter\", \"uid\": \"1b25b640-c22b-11e8-8e00-a81e84e6c740\"}],\n",
       "            {\"title\": \"\\u5e73\\u5747\\u901a\\u8fc7\\u65f6\\u957f&NovaS4\\u4e00\\u6b21\\u901a\\u8fc7\\u65f6\\u957f&\\u975e\\u4e00\\u6b21\\u901a\\u8fc7\\u5e73\\u5747\\u65f6\\u957f&\\u901a\\u8fc7\\u65f6\\u957fQ80\\u6708\\u8d8b\\u52bf\\u56fe\", \"xaxis\": {\"mirror\": \"all\", \"nticks\": 20, \"showgrid\": true, \"showline\": true, \"title\": \"\\u6708\", \"zeroline\": true}, \"yaxis\": {\"mirror\": \"all\", \"nticks\": 20, \"showgrid\": true, \"showline\": true, \"title\": \"\\u5e73\\u5747\\u901a\\u8fc7\\u65f6\\u957f&NovaS4\\u4e00\\u6b21\\u901a\\u8fc7\\u65f6\\u957f&\\u975e\\u4e00\\u6b21\\u901a\\u8fc7\\u5e73\\u5747\\u65f6\\u957f&\\u901a\\u8fc7\\u65f6\\u957fQ80\", \"zeroline\": true}},\n",
       "            {\"showLink\": true, \"linkText\": \"Export to plot.ly\"}\n",
       "        ).then(function () {return Plotly.addFrames('441499ef-4881-4b25-bd17-f9b030f3846e',{});}).then(function(){Plotly.animate('441499ef-4881-4b25-bd17-f9b030f3846e');})\n",
       "        });</script>"
      ]
     },
     "metadata": {},
     "output_type": "display_data"
    }
   ],
   "source": [
    "data_dict = {'平均通过时长':['平均通过时长'], 'NovaS4一次通过时长':['NovaS4一次通过时长'], \n",
    "             '非一次通过平均时长':['非一次通过平均时长'],'通过时长Q80':['通过时长Q80']}\n",
    "myModule.plot( all_dict, data_dict, '人员' ,  'line' , all='all')"
   ]
  },
  {
   "cell_type": "markdown",
   "metadata": {},
   "source": [
    "## 异常"
   ]
  },
  {
   "cell_type": "markdown",
   "metadata": {},
   "source": [
    "### 个性化拆分数"
   ]
  },
  {
   "cell_type": "code",
   "execution_count": 16,
   "metadata": {},
   "outputs": [
    {
     "data": {
      "application/vnd.plotly.v1+json": {
       "data": [
        {
         "name": "个性化拆分数",
         "type": "scatter",
         "uid": "1b4eb284-c22b-11e8-8e00-a81e84e6c740",
         "x": [
          "8-1",
          "8-2",
          "8-3",
          "8-4",
          "8-5",
          "9-1",
          "9-2"
         ],
         "y": [
          0,
          0,
          0,
          0,
          0,
          1,
          1
         ]
        }
       ],
       "layout": {
        "title": "个性化拆分数周趋势图",
        "xaxis": {
         "mirror": "all",
         "nticks": 20,
         "showgrid": true,
         "showline": true,
         "title": "周",
         "zeroline": true
        },
        "yaxis": {
         "mirror": "all",
         "nticks": 20,
         "showgrid": true,
         "showline": true,
         "title": "个性化拆分数",
         "zeroline": true
        }
       }
      },
      "text/html": [
       "<div id=\"feb035ad-7022-4b0b-be21-21a1a814c733\" style=\"height: 525px; width: 100%;\" class=\"plotly-graph-div\"></div><script type=\"text/javascript\">require([\"plotly\"], function(Plotly) { window.PLOTLYENV=window.PLOTLYENV || {};window.PLOTLYENV.BASE_URL=\"https://plot.ly\";\n",
       "        Plotly.plot(\n",
       "            'feb035ad-7022-4b0b-be21-21a1a814c733',\n",
       "            [{\"name\": \"\\u4e2a\\u6027\\u5316\\u62c6\\u5206\\u6570\", \"x\": [\"8-1\", \"8-2\", \"8-3\", \"8-4\", \"8-5\", \"9-1\", \"9-2\"], \"y\": [0.0, 0.0, 0.0, 0.0, 0.0, 1.0, 1.0], \"type\": \"scatter\", \"uid\": \"1b4eb284-c22b-11e8-8e00-a81e84e6c740\"}],\n",
       "            {\"title\": \"\\u4e2a\\u6027\\u5316\\u62c6\\u5206\\u6570\\u5468\\u8d8b\\u52bf\\u56fe\", \"xaxis\": {\"mirror\": \"all\", \"nticks\": 20, \"showgrid\": true, \"showline\": true, \"title\": \"\\u5468\", \"zeroline\": true}, \"yaxis\": {\"mirror\": \"all\", \"nticks\": 20, \"showgrid\": true, \"showline\": true, \"title\": \"\\u4e2a\\u6027\\u5316\\u62c6\\u5206\\u6570\", \"zeroline\": true}},\n",
       "            {\"showLink\": true, \"linkText\": \"Export to plot.ly\"}\n",
       "        ).then(function () {return Plotly.addFrames('feb035ad-7022-4b0b-be21-21a1a814c733',{});}).then(function(){Plotly.animate('feb035ad-7022-4b0b-be21-21a1a814c733');})\n",
       "        });</script>"
      ],
      "text/vnd.plotly.v1+html": [
       "<div id=\"feb035ad-7022-4b0b-be21-21a1a814c733\" style=\"height: 525px; width: 100%;\" class=\"plotly-graph-div\"></div><script type=\"text/javascript\">require([\"plotly\"], function(Plotly) { window.PLOTLYENV=window.PLOTLYENV || {};window.PLOTLYENV.BASE_URL=\"https://plot.ly\";\n",
       "        Plotly.plot(\n",
       "            'feb035ad-7022-4b0b-be21-21a1a814c733',\n",
       "            [{\"name\": \"\\u4e2a\\u6027\\u5316\\u62c6\\u5206\\u6570\", \"x\": [\"8-1\", \"8-2\", \"8-3\", \"8-4\", \"8-5\", \"9-1\", \"9-2\"], \"y\": [0.0, 0.0, 0.0, 0.0, 0.0, 1.0, 1.0], \"type\": \"scatter\", \"uid\": \"1b4eb284-c22b-11e8-8e00-a81e84e6c740\"}],\n",
       "            {\"title\": \"\\u4e2a\\u6027\\u5316\\u62c6\\u5206\\u6570\\u5468\\u8d8b\\u52bf\\u56fe\", \"xaxis\": {\"mirror\": \"all\", \"nticks\": 20, \"showgrid\": true, \"showline\": true, \"title\": \"\\u5468\", \"zeroline\": true}, \"yaxis\": {\"mirror\": \"all\", \"nticks\": 20, \"showgrid\": true, \"showline\": true, \"title\": \"\\u4e2a\\u6027\\u5316\\u62c6\\u5206\\u6570\", \"zeroline\": true}},\n",
       "            {\"showLink\": true, \"linkText\": \"Export to plot.ly\"}\n",
       "        ).then(function () {return Plotly.addFrames('feb035ad-7022-4b0b-be21-21a1a814c733',{});}).then(function(){Plotly.animate('feb035ad-7022-4b0b-be21-21a1a814c733');})\n",
       "        });</script>"
      ]
     },
     "metadata": {},
     "output_type": "display_data"
    },
    {
     "data": {
      "application/vnd.plotly.v1+json": {
       "data": [
        {
         "name": "个性化拆分数",
         "type": "scatter",
         "uid": "1b5d5974-c22b-11e8-8e00-a81e84e6c740",
         "x": [
          "8",
          "9"
         ],
         "y": [
          0,
          2
         ]
        }
       ],
       "layout": {
        "title": "个性化拆分数月趋势图",
        "xaxis": {
         "mirror": "all",
         "nticks": 20,
         "showgrid": true,
         "showline": true,
         "title": "月",
         "zeroline": true
        },
        "yaxis": {
         "mirror": "all",
         "nticks": 20,
         "showgrid": true,
         "showline": true,
         "title": "个性化拆分数",
         "zeroline": true
        }
       }
      },
      "text/html": [
       "<div id=\"e5c3bd2c-8875-4801-9968-a554200a6e56\" style=\"height: 525px; width: 100%;\" class=\"plotly-graph-div\"></div><script type=\"text/javascript\">require([\"plotly\"], function(Plotly) { window.PLOTLYENV=window.PLOTLYENV || {};window.PLOTLYENV.BASE_URL=\"https://plot.ly\";\n",
       "        Plotly.plot(\n",
       "            'e5c3bd2c-8875-4801-9968-a554200a6e56',\n",
       "            [{\"name\": \"\\u4e2a\\u6027\\u5316\\u62c6\\u5206\\u6570\", \"x\": [\"8\", \"9\"], \"y\": [0.0, 2.0], \"type\": \"scatter\", \"uid\": \"1b5d5974-c22b-11e8-8e00-a81e84e6c740\"}],\n",
       "            {\"title\": \"\\u4e2a\\u6027\\u5316\\u62c6\\u5206\\u6570\\u6708\\u8d8b\\u52bf\\u56fe\", \"xaxis\": {\"mirror\": \"all\", \"nticks\": 20, \"showgrid\": true, \"showline\": true, \"title\": \"\\u6708\", \"zeroline\": true}, \"yaxis\": {\"mirror\": \"all\", \"nticks\": 20, \"showgrid\": true, \"showline\": true, \"title\": \"\\u4e2a\\u6027\\u5316\\u62c6\\u5206\\u6570\", \"zeroline\": true}},\n",
       "            {\"showLink\": true, \"linkText\": \"Export to plot.ly\"}\n",
       "        ).then(function () {return Plotly.addFrames('e5c3bd2c-8875-4801-9968-a554200a6e56',{});}).then(function(){Plotly.animate('e5c3bd2c-8875-4801-9968-a554200a6e56');})\n",
       "        });</script>"
      ],
      "text/vnd.plotly.v1+html": [
       "<div id=\"e5c3bd2c-8875-4801-9968-a554200a6e56\" style=\"height: 525px; width: 100%;\" class=\"plotly-graph-div\"></div><script type=\"text/javascript\">require([\"plotly\"], function(Plotly) { window.PLOTLYENV=window.PLOTLYENV || {};window.PLOTLYENV.BASE_URL=\"https://plot.ly\";\n",
       "        Plotly.plot(\n",
       "            'e5c3bd2c-8875-4801-9968-a554200a6e56',\n",
       "            [{\"name\": \"\\u4e2a\\u6027\\u5316\\u62c6\\u5206\\u6570\", \"x\": [\"8\", \"9\"], \"y\": [0.0, 2.0], \"type\": \"scatter\", \"uid\": \"1b5d5974-c22b-11e8-8e00-a81e84e6c740\"}],\n",
       "            {\"title\": \"\\u4e2a\\u6027\\u5316\\u62c6\\u5206\\u6570\\u6708\\u8d8b\\u52bf\\u56fe\", \"xaxis\": {\"mirror\": \"all\", \"nticks\": 20, \"showgrid\": true, \"showline\": true, \"title\": \"\\u6708\", \"zeroline\": true}, \"yaxis\": {\"mirror\": \"all\", \"nticks\": 20, \"showgrid\": true, \"showline\": true, \"title\": \"\\u4e2a\\u6027\\u5316\\u62c6\\u5206\\u6570\", \"zeroline\": true}},\n",
       "            {\"showLink\": true, \"linkText\": \"Export to plot.ly\"}\n",
       "        ).then(function () {return Plotly.addFrames('e5c3bd2c-8875-4801-9968-a554200a6e56',{});}).then(function(){Plotly.animate('e5c3bd2c-8875-4801-9968-a554200a6e56');})\n",
       "        });</script>"
      ]
     },
     "metadata": {},
     "output_type": "display_data"
    }
   ],
   "source": [
    "data_dict = {'个性化拆分数':['个性化拆分数']}\n",
    "myModule.plot( all_dict, data_dict, '人员' ,  'line' , all='all')"
   ]
  },
  {
   "cell_type": "markdown",
   "metadata": {},
   "source": [
    "### 流程异常\n",
    "* 拆分流程异常数，延期处理"
   ]
  },
  {
   "cell_type": "code",
   "execution_count": 17,
   "metadata": {},
   "outputs": [
    {
     "data": {
      "application/vnd.plotly.v1+json": {
       "data": [
        {
         "name": "拆分流程异常数",
         "type": "scatter",
         "uid": "1b8b479e-c22b-11e8-8e00-a81e84e6c740",
         "x": [
          "8-1",
          "8-2",
          "8-3",
          "8-4",
          "8-5",
          "9-1",
          "9-2"
         ],
         "y": [
          0,
          0,
          0,
          0,
          0,
          2,
          2
         ]
        },
        {
         "name": "处理延期",
         "type": "scatter",
         "uid": "1b8b4ba4-c22b-11e8-8e00-a81e84e6c740",
         "x": [
          "8-1",
          "8-2",
          "8-3",
          "8-4",
          "8-5",
          "9-1",
          "9-2"
         ],
         "y": [
          0,
          0,
          0,
          0,
          0,
          2,
          2
         ]
        }
       ],
       "layout": {
        "title": "拆分流程异常数&处理延期周趋势图",
        "xaxis": {
         "mirror": "all",
         "nticks": 20,
         "showgrid": true,
         "showline": true,
         "title": "周",
         "zeroline": true
        },
        "yaxis": {
         "mirror": "all",
         "nticks": 20,
         "showgrid": true,
         "showline": true,
         "title": "拆分流程异常数&处理延期",
         "zeroline": true
        }
       }
      },
      "text/html": [
       "<div id=\"49d09c2a-d0b4-4328-a69a-723dbe8d3730\" style=\"height: 525px; width: 100%;\" class=\"plotly-graph-div\"></div><script type=\"text/javascript\">require([\"plotly\"], function(Plotly) { window.PLOTLYENV=window.PLOTLYENV || {};window.PLOTLYENV.BASE_URL=\"https://plot.ly\";\n",
       "        Plotly.plot(\n",
       "            '49d09c2a-d0b4-4328-a69a-723dbe8d3730',\n",
       "            [{\"name\": \"\\u62c6\\u5206\\u6d41\\u7a0b\\u5f02\\u5e38\\u6570\", \"x\": [\"8-1\", \"8-2\", \"8-3\", \"8-4\", \"8-5\", \"9-1\", \"9-2\"], \"y\": [0.0, 0.0, 0.0, 0.0, 0.0, 2.0, 2.0], \"type\": \"scatter\", \"uid\": \"1b8b479e-c22b-11e8-8e00-a81e84e6c740\"}, {\"name\": \"\\u5904\\u7406\\u5ef6\\u671f\", \"x\": [\"8-1\", \"8-2\", \"8-3\", \"8-4\", \"8-5\", \"9-1\", \"9-2\"], \"y\": [0.0, 0.0, 0.0, 0.0, 0.0, 2.0, 2.0], \"type\": \"scatter\", \"uid\": \"1b8b4ba4-c22b-11e8-8e00-a81e84e6c740\"}],\n",
       "            {\"title\": \"\\u62c6\\u5206\\u6d41\\u7a0b\\u5f02\\u5e38\\u6570&\\u5904\\u7406\\u5ef6\\u671f\\u5468\\u8d8b\\u52bf\\u56fe\", \"xaxis\": {\"mirror\": \"all\", \"nticks\": 20, \"showgrid\": true, \"showline\": true, \"title\": \"\\u5468\", \"zeroline\": true}, \"yaxis\": {\"mirror\": \"all\", \"nticks\": 20, \"showgrid\": true, \"showline\": true, \"title\": \"\\u62c6\\u5206\\u6d41\\u7a0b\\u5f02\\u5e38\\u6570&\\u5904\\u7406\\u5ef6\\u671f\", \"zeroline\": true}},\n",
       "            {\"showLink\": true, \"linkText\": \"Export to plot.ly\"}\n",
       "        ).then(function () {return Plotly.addFrames('49d09c2a-d0b4-4328-a69a-723dbe8d3730',{});}).then(function(){Plotly.animate('49d09c2a-d0b4-4328-a69a-723dbe8d3730');})\n",
       "        });</script>"
      ],
      "text/vnd.plotly.v1+html": [
       "<div id=\"49d09c2a-d0b4-4328-a69a-723dbe8d3730\" style=\"height: 525px; width: 100%;\" class=\"plotly-graph-div\"></div><script type=\"text/javascript\">require([\"plotly\"], function(Plotly) { window.PLOTLYENV=window.PLOTLYENV || {};window.PLOTLYENV.BASE_URL=\"https://plot.ly\";\n",
       "        Plotly.plot(\n",
       "            '49d09c2a-d0b4-4328-a69a-723dbe8d3730',\n",
       "            [{\"name\": \"\\u62c6\\u5206\\u6d41\\u7a0b\\u5f02\\u5e38\\u6570\", \"x\": [\"8-1\", \"8-2\", \"8-3\", \"8-4\", \"8-5\", \"9-1\", \"9-2\"], \"y\": [0.0, 0.0, 0.0, 0.0, 0.0, 2.0, 2.0], \"type\": \"scatter\", \"uid\": \"1b8b479e-c22b-11e8-8e00-a81e84e6c740\"}, {\"name\": \"\\u5904\\u7406\\u5ef6\\u671f\", \"x\": [\"8-1\", \"8-2\", \"8-3\", \"8-4\", \"8-5\", \"9-1\", \"9-2\"], \"y\": [0.0, 0.0, 0.0, 0.0, 0.0, 2.0, 2.0], \"type\": \"scatter\", \"uid\": \"1b8b4ba4-c22b-11e8-8e00-a81e84e6c740\"}],\n",
       "            {\"title\": \"\\u62c6\\u5206\\u6d41\\u7a0b\\u5f02\\u5e38\\u6570&\\u5904\\u7406\\u5ef6\\u671f\\u5468\\u8d8b\\u52bf\\u56fe\", \"xaxis\": {\"mirror\": \"all\", \"nticks\": 20, \"showgrid\": true, \"showline\": true, \"title\": \"\\u5468\", \"zeroline\": true}, \"yaxis\": {\"mirror\": \"all\", \"nticks\": 20, \"showgrid\": true, \"showline\": true, \"title\": \"\\u62c6\\u5206\\u6d41\\u7a0b\\u5f02\\u5e38\\u6570&\\u5904\\u7406\\u5ef6\\u671f\", \"zeroline\": true}},\n",
       "            {\"showLink\": true, \"linkText\": \"Export to plot.ly\"}\n",
       "        ).then(function () {return Plotly.addFrames('49d09c2a-d0b4-4328-a69a-723dbe8d3730',{});}).then(function(){Plotly.animate('49d09c2a-d0b4-4328-a69a-723dbe8d3730');})\n",
       "        });</script>"
      ]
     },
     "metadata": {},
     "output_type": "display_data"
    },
    {
     "data": {
      "application/vnd.plotly.v1+json": {
       "data": [
        {
         "name": "拆分流程异常数",
         "type": "scatter",
         "uid": "1b985736-c22b-11e8-8e00-a81e84e6c740",
         "x": [
          "8",
          "9"
         ],
         "y": [
          0,
          4
         ]
        },
        {
         "name": "处理延期",
         "type": "scatter",
         "uid": "1b985bdc-c22b-11e8-8e00-a81e84e6c740",
         "x": [
          "8",
          "9"
         ],
         "y": [
          0,
          4
         ]
        }
       ],
       "layout": {
        "title": "拆分流程异常数&处理延期月趋势图",
        "xaxis": {
         "mirror": "all",
         "nticks": 20,
         "showgrid": true,
         "showline": true,
         "title": "月",
         "zeroline": true
        },
        "yaxis": {
         "mirror": "all",
         "nticks": 20,
         "showgrid": true,
         "showline": true,
         "title": "拆分流程异常数&处理延期",
         "zeroline": true
        }
       }
      },
      "text/html": [
       "<div id=\"d236cb07-212a-40f2-aa75-a48acf8f7969\" style=\"height: 525px; width: 100%;\" class=\"plotly-graph-div\"></div><script type=\"text/javascript\">require([\"plotly\"], function(Plotly) { window.PLOTLYENV=window.PLOTLYENV || {};window.PLOTLYENV.BASE_URL=\"https://plot.ly\";\n",
       "        Plotly.plot(\n",
       "            'd236cb07-212a-40f2-aa75-a48acf8f7969',\n",
       "            [{\"name\": \"\\u62c6\\u5206\\u6d41\\u7a0b\\u5f02\\u5e38\\u6570\", \"x\": [\"8\", \"9\"], \"y\": [0.0, 4.0], \"type\": \"scatter\", \"uid\": \"1b985736-c22b-11e8-8e00-a81e84e6c740\"}, {\"name\": \"\\u5904\\u7406\\u5ef6\\u671f\", \"x\": [\"8\", \"9\"], \"y\": [0.0, 4.0], \"type\": \"scatter\", \"uid\": \"1b985bdc-c22b-11e8-8e00-a81e84e6c740\"}],\n",
       "            {\"title\": \"\\u62c6\\u5206\\u6d41\\u7a0b\\u5f02\\u5e38\\u6570&\\u5904\\u7406\\u5ef6\\u671f\\u6708\\u8d8b\\u52bf\\u56fe\", \"xaxis\": {\"mirror\": \"all\", \"nticks\": 20, \"showgrid\": true, \"showline\": true, \"title\": \"\\u6708\", \"zeroline\": true}, \"yaxis\": {\"mirror\": \"all\", \"nticks\": 20, \"showgrid\": true, \"showline\": true, \"title\": \"\\u62c6\\u5206\\u6d41\\u7a0b\\u5f02\\u5e38\\u6570&\\u5904\\u7406\\u5ef6\\u671f\", \"zeroline\": true}},\n",
       "            {\"showLink\": true, \"linkText\": \"Export to plot.ly\"}\n",
       "        ).then(function () {return Plotly.addFrames('d236cb07-212a-40f2-aa75-a48acf8f7969',{});}).then(function(){Plotly.animate('d236cb07-212a-40f2-aa75-a48acf8f7969');})\n",
       "        });</script>"
      ],
      "text/vnd.plotly.v1+html": [
       "<div id=\"d236cb07-212a-40f2-aa75-a48acf8f7969\" style=\"height: 525px; width: 100%;\" class=\"plotly-graph-div\"></div><script type=\"text/javascript\">require([\"plotly\"], function(Plotly) { window.PLOTLYENV=window.PLOTLYENV || {};window.PLOTLYENV.BASE_URL=\"https://plot.ly\";\n",
       "        Plotly.plot(\n",
       "            'd236cb07-212a-40f2-aa75-a48acf8f7969',\n",
       "            [{\"name\": \"\\u62c6\\u5206\\u6d41\\u7a0b\\u5f02\\u5e38\\u6570\", \"x\": [\"8\", \"9\"], \"y\": [0.0, 4.0], \"type\": \"scatter\", \"uid\": \"1b985736-c22b-11e8-8e00-a81e84e6c740\"}, {\"name\": \"\\u5904\\u7406\\u5ef6\\u671f\", \"x\": [\"8\", \"9\"], \"y\": [0.0, 4.0], \"type\": \"scatter\", \"uid\": \"1b985bdc-c22b-11e8-8e00-a81e84e6c740\"}],\n",
       "            {\"title\": \"\\u62c6\\u5206\\u6d41\\u7a0b\\u5f02\\u5e38\\u6570&\\u5904\\u7406\\u5ef6\\u671f\\u6708\\u8d8b\\u52bf\\u56fe\", \"xaxis\": {\"mirror\": \"all\", \"nticks\": 20, \"showgrid\": true, \"showline\": true, \"title\": \"\\u6708\", \"zeroline\": true}, \"yaxis\": {\"mirror\": \"all\", \"nticks\": 20, \"showgrid\": true, \"showline\": true, \"title\": \"\\u62c6\\u5206\\u6d41\\u7a0b\\u5f02\\u5e38\\u6570&\\u5904\\u7406\\u5ef6\\u671f\", \"zeroline\": true}},\n",
       "            {\"showLink\": true, \"linkText\": \"Export to plot.ly\"}\n",
       "        ).then(function () {return Plotly.addFrames('d236cb07-212a-40f2-aa75-a48acf8f7969',{});}).then(function(){Plotly.animate('d236cb07-212a-40f2-aa75-a48acf8f7969');})\n",
       "        });</script>"
      ]
     },
     "metadata": {},
     "output_type": "display_data"
    }
   ],
   "source": [
    "data_dict = {'拆分流程异常数':['拆分流程异常数'], '处理延期':['处理延期']}\n",
    "myModule.plot( all_dict, data_dict, '人员' ,  'line' , all='all')"
   ]
  },
  {
   "cell_type": "markdown",
   "metadata": {},
   "source": [
    "### 非流程异常\n",
    "* 测序异常，外来index错误，自建库index错误，lims系统错误"
   ]
  },
  {
   "cell_type": "code",
   "execution_count": 18,
   "metadata": {},
   "outputs": [
    {
     "data": {
      "application/vnd.plotly.v1+json": {
       "data": [
        {
         "name": "测序异常",
         "type": "scatter",
         "uid": "1bc72520-c22b-11e8-8e00-a81e84e6c740",
         "x": [
          "8-1",
          "8-2",
          "8-3",
          "8-4",
          "8-5",
          "9-1",
          "9-2"
         ],
         "y": [
          0,
          0,
          0,
          0,
          0,
          0,
          0
         ]
        },
        {
         "name": "外来Index错误",
         "type": "scatter",
         "uid": "1bc72854-c22b-11e8-8e00-a81e84e6c740",
         "x": [
          "8-1",
          "8-2",
          "8-3",
          "8-4",
          "8-5",
          "9-1",
          "9-2"
         ],
         "y": [
          0,
          0,
          0,
          0,
          0,
          0,
          0
         ]
        },
        {
         "name": "自建库Index错误",
         "type": "scatter",
         "uid": "1bc72b1a-c22b-11e8-8e00-a81e84e6c740",
         "x": [
          "8-1",
          "8-2",
          "8-3",
          "8-4",
          "8-5",
          "9-1",
          "9-2"
         ],
         "y": [
          0,
          0,
          0,
          0,
          0,
          0,
          0
         ]
        },
        {
         "name": "lims系统错误",
         "type": "scatter",
         "uid": "1bc72d54-c22b-11e8-8e00-a81e84e6c740",
         "x": [
          "8-1",
          "8-2",
          "8-3",
          "8-4",
          "8-5",
          "9-1",
          "9-2"
         ],
         "y": [
          0,
          0,
          0,
          0,
          0,
          0,
          0
         ]
        }
       ],
       "layout": {
        "title": "测序异常&外来Index错误&自建库Index错误&lims系统错误周趋势图",
        "xaxis": {
         "mirror": "all",
         "nticks": 20,
         "showgrid": true,
         "showline": true,
         "title": "周",
         "zeroline": true
        },
        "yaxis": {
         "mirror": "all",
         "nticks": 20,
         "showgrid": true,
         "showline": true,
         "title": "测序异常&外来Index错误&自建库Index错误&lims系统错误",
         "zeroline": true
        }
       }
      },
      "text/html": [
       "<div id=\"0b918ed0-c738-474e-af2d-3265777d6b10\" style=\"height: 525px; width: 100%;\" class=\"plotly-graph-div\"></div><script type=\"text/javascript\">require([\"plotly\"], function(Plotly) { window.PLOTLYENV=window.PLOTLYENV || {};window.PLOTLYENV.BASE_URL=\"https://plot.ly\";\n",
       "        Plotly.plot(\n",
       "            '0b918ed0-c738-474e-af2d-3265777d6b10',\n",
       "            [{\"name\": \"\\u6d4b\\u5e8f\\u5f02\\u5e38\", \"x\": [\"8-1\", \"8-2\", \"8-3\", \"8-4\", \"8-5\", \"9-1\", \"9-2\"], \"y\": [0.0, 0.0, 0.0, 0.0, 0.0, 0.0, 0.0], \"type\": \"scatter\", \"uid\": \"1bc72520-c22b-11e8-8e00-a81e84e6c740\"}, {\"name\": \"\\u5916\\u6765Index\\u9519\\u8bef\", \"x\": [\"8-1\", \"8-2\", \"8-3\", \"8-4\", \"8-5\", \"9-1\", \"9-2\"], \"y\": [0.0, 0.0, 0.0, 0.0, 0.0, 0.0, 0.0], \"type\": \"scatter\", \"uid\": \"1bc72854-c22b-11e8-8e00-a81e84e6c740\"}, {\"name\": \"\\u81ea\\u5efa\\u5e93Index\\u9519\\u8bef\", \"x\": [\"8-1\", \"8-2\", \"8-3\", \"8-4\", \"8-5\", \"9-1\", \"9-2\"], \"y\": [0.0, 0.0, 0.0, 0.0, 0.0, 0.0, 0.0], \"type\": \"scatter\", \"uid\": \"1bc72b1a-c22b-11e8-8e00-a81e84e6c740\"}, {\"name\": \"lims\\u7cfb\\u7edf\\u9519\\u8bef\", \"x\": [\"8-1\", \"8-2\", \"8-3\", \"8-4\", \"8-5\", \"9-1\", \"9-2\"], \"y\": [0.0, 0.0, 0.0, 0.0, 0.0, 0.0, 0.0], \"type\": \"scatter\", \"uid\": \"1bc72d54-c22b-11e8-8e00-a81e84e6c740\"}],\n",
       "            {\"title\": \"\\u6d4b\\u5e8f\\u5f02\\u5e38&\\u5916\\u6765Index\\u9519\\u8bef&\\u81ea\\u5efa\\u5e93Index\\u9519\\u8bef&lims\\u7cfb\\u7edf\\u9519\\u8bef\\u5468\\u8d8b\\u52bf\\u56fe\", \"xaxis\": {\"mirror\": \"all\", \"nticks\": 20, \"showgrid\": true, \"showline\": true, \"title\": \"\\u5468\", \"zeroline\": true}, \"yaxis\": {\"mirror\": \"all\", \"nticks\": 20, \"showgrid\": true, \"showline\": true, \"title\": \"\\u6d4b\\u5e8f\\u5f02\\u5e38&\\u5916\\u6765Index\\u9519\\u8bef&\\u81ea\\u5efa\\u5e93Index\\u9519\\u8bef&lims\\u7cfb\\u7edf\\u9519\\u8bef\", \"zeroline\": true}},\n",
       "            {\"showLink\": true, \"linkText\": \"Export to plot.ly\"}\n",
       "        ).then(function () {return Plotly.addFrames('0b918ed0-c738-474e-af2d-3265777d6b10',{});}).then(function(){Plotly.animate('0b918ed0-c738-474e-af2d-3265777d6b10');})\n",
       "        });</script>"
      ],
      "text/vnd.plotly.v1+html": [
       "<div id=\"0b918ed0-c738-474e-af2d-3265777d6b10\" style=\"height: 525px; width: 100%;\" class=\"plotly-graph-div\"></div><script type=\"text/javascript\">require([\"plotly\"], function(Plotly) { window.PLOTLYENV=window.PLOTLYENV || {};window.PLOTLYENV.BASE_URL=\"https://plot.ly\";\n",
       "        Plotly.plot(\n",
       "            '0b918ed0-c738-474e-af2d-3265777d6b10',\n",
       "            [{\"name\": \"\\u6d4b\\u5e8f\\u5f02\\u5e38\", \"x\": [\"8-1\", \"8-2\", \"8-3\", \"8-4\", \"8-5\", \"9-1\", \"9-2\"], \"y\": [0.0, 0.0, 0.0, 0.0, 0.0, 0.0, 0.0], \"type\": \"scatter\", \"uid\": \"1bc72520-c22b-11e8-8e00-a81e84e6c740\"}, {\"name\": \"\\u5916\\u6765Index\\u9519\\u8bef\", \"x\": [\"8-1\", \"8-2\", \"8-3\", \"8-4\", \"8-5\", \"9-1\", \"9-2\"], \"y\": [0.0, 0.0, 0.0, 0.0, 0.0, 0.0, 0.0], \"type\": \"scatter\", \"uid\": \"1bc72854-c22b-11e8-8e00-a81e84e6c740\"}, {\"name\": \"\\u81ea\\u5efa\\u5e93Index\\u9519\\u8bef\", \"x\": [\"8-1\", \"8-2\", \"8-3\", \"8-4\", \"8-5\", \"9-1\", \"9-2\"], \"y\": [0.0, 0.0, 0.0, 0.0, 0.0, 0.0, 0.0], \"type\": \"scatter\", \"uid\": \"1bc72b1a-c22b-11e8-8e00-a81e84e6c740\"}, {\"name\": \"lims\\u7cfb\\u7edf\\u9519\\u8bef\", \"x\": [\"8-1\", \"8-2\", \"8-3\", \"8-4\", \"8-5\", \"9-1\", \"9-2\"], \"y\": [0.0, 0.0, 0.0, 0.0, 0.0, 0.0, 0.0], \"type\": \"scatter\", \"uid\": \"1bc72d54-c22b-11e8-8e00-a81e84e6c740\"}],\n",
       "            {\"title\": \"\\u6d4b\\u5e8f\\u5f02\\u5e38&\\u5916\\u6765Index\\u9519\\u8bef&\\u81ea\\u5efa\\u5e93Index\\u9519\\u8bef&lims\\u7cfb\\u7edf\\u9519\\u8bef\\u5468\\u8d8b\\u52bf\\u56fe\", \"xaxis\": {\"mirror\": \"all\", \"nticks\": 20, \"showgrid\": true, \"showline\": true, \"title\": \"\\u5468\", \"zeroline\": true}, \"yaxis\": {\"mirror\": \"all\", \"nticks\": 20, \"showgrid\": true, \"showline\": true, \"title\": \"\\u6d4b\\u5e8f\\u5f02\\u5e38&\\u5916\\u6765Index\\u9519\\u8bef&\\u81ea\\u5efa\\u5e93Index\\u9519\\u8bef&lims\\u7cfb\\u7edf\\u9519\\u8bef\", \"zeroline\": true}},\n",
       "            {\"showLink\": true, \"linkText\": \"Export to plot.ly\"}\n",
       "        ).then(function () {return Plotly.addFrames('0b918ed0-c738-474e-af2d-3265777d6b10',{});}).then(function(){Plotly.animate('0b918ed0-c738-474e-af2d-3265777d6b10');})\n",
       "        });</script>"
      ]
     },
     "metadata": {},
     "output_type": "display_data"
    },
    {
     "data": {
      "application/vnd.plotly.v1+json": {
       "data": [
        {
         "name": "测序异常",
         "type": "scatter",
         "uid": "1bd70bde-c22b-11e8-8e00-a81e84e6c740",
         "x": [
          "8",
          "9"
         ],
         "y": [
          0,
          0
         ]
        },
        {
         "name": "外来Index错误",
         "type": "scatter",
         "uid": "1bd70fbc-c22b-11e8-8e00-a81e84e6c740",
         "x": [
          "8",
          "9"
         ],
         "y": [
          0,
          0
         ]
        },
        {
         "name": "自建库Index错误",
         "type": "scatter",
         "uid": "1bd71232-c22b-11e8-8e00-a81e84e6c740",
         "x": [
          "8",
          "9"
         ],
         "y": [
          0,
          0
         ]
        },
        {
         "name": "lims系统错误",
         "type": "scatter",
         "uid": "1bd7144e-c22b-11e8-8e00-a81e84e6c740",
         "x": [
          "8",
          "9"
         ],
         "y": [
          0,
          0
         ]
        }
       ],
       "layout": {
        "title": "测序异常&外来Index错误&自建库Index错误&lims系统错误月趋势图",
        "xaxis": {
         "mirror": "all",
         "nticks": 20,
         "showgrid": true,
         "showline": true,
         "title": "月",
         "zeroline": true
        },
        "yaxis": {
         "mirror": "all",
         "nticks": 20,
         "showgrid": true,
         "showline": true,
         "title": "测序异常&外来Index错误&自建库Index错误&lims系统错误",
         "zeroline": true
        }
       }
      },
      "text/html": [
       "<div id=\"54a7c8a2-164a-427c-a6d4-8b212d0ad69f\" style=\"height: 525px; width: 100%;\" class=\"plotly-graph-div\"></div><script type=\"text/javascript\">require([\"plotly\"], function(Plotly) { window.PLOTLYENV=window.PLOTLYENV || {};window.PLOTLYENV.BASE_URL=\"https://plot.ly\";\n",
       "        Plotly.plot(\n",
       "            '54a7c8a2-164a-427c-a6d4-8b212d0ad69f',\n",
       "            [{\"name\": \"\\u6d4b\\u5e8f\\u5f02\\u5e38\", \"x\": [\"8\", \"9\"], \"y\": [0.0, 0.0], \"type\": \"scatter\", \"uid\": \"1bd70bde-c22b-11e8-8e00-a81e84e6c740\"}, {\"name\": \"\\u5916\\u6765Index\\u9519\\u8bef\", \"x\": [\"8\", \"9\"], \"y\": [0.0, 0.0], \"type\": \"scatter\", \"uid\": \"1bd70fbc-c22b-11e8-8e00-a81e84e6c740\"}, {\"name\": \"\\u81ea\\u5efa\\u5e93Index\\u9519\\u8bef\", \"x\": [\"8\", \"9\"], \"y\": [0.0, 0.0], \"type\": \"scatter\", \"uid\": \"1bd71232-c22b-11e8-8e00-a81e84e6c740\"}, {\"name\": \"lims\\u7cfb\\u7edf\\u9519\\u8bef\", \"x\": [\"8\", \"9\"], \"y\": [0.0, 0.0], \"type\": \"scatter\", \"uid\": \"1bd7144e-c22b-11e8-8e00-a81e84e6c740\"}],\n",
       "            {\"title\": \"\\u6d4b\\u5e8f\\u5f02\\u5e38&\\u5916\\u6765Index\\u9519\\u8bef&\\u81ea\\u5efa\\u5e93Index\\u9519\\u8bef&lims\\u7cfb\\u7edf\\u9519\\u8bef\\u6708\\u8d8b\\u52bf\\u56fe\", \"xaxis\": {\"mirror\": \"all\", \"nticks\": 20, \"showgrid\": true, \"showline\": true, \"title\": \"\\u6708\", \"zeroline\": true}, \"yaxis\": {\"mirror\": \"all\", \"nticks\": 20, \"showgrid\": true, \"showline\": true, \"title\": \"\\u6d4b\\u5e8f\\u5f02\\u5e38&\\u5916\\u6765Index\\u9519\\u8bef&\\u81ea\\u5efa\\u5e93Index\\u9519\\u8bef&lims\\u7cfb\\u7edf\\u9519\\u8bef\", \"zeroline\": true}},\n",
       "            {\"showLink\": true, \"linkText\": \"Export to plot.ly\"}\n",
       "        ).then(function () {return Plotly.addFrames('54a7c8a2-164a-427c-a6d4-8b212d0ad69f',{});}).then(function(){Plotly.animate('54a7c8a2-164a-427c-a6d4-8b212d0ad69f');})\n",
       "        });</script>"
      ],
      "text/vnd.plotly.v1+html": [
       "<div id=\"54a7c8a2-164a-427c-a6d4-8b212d0ad69f\" style=\"height: 525px; width: 100%;\" class=\"plotly-graph-div\"></div><script type=\"text/javascript\">require([\"plotly\"], function(Plotly) { window.PLOTLYENV=window.PLOTLYENV || {};window.PLOTLYENV.BASE_URL=\"https://plot.ly\";\n",
       "        Plotly.plot(\n",
       "            '54a7c8a2-164a-427c-a6d4-8b212d0ad69f',\n",
       "            [{\"name\": \"\\u6d4b\\u5e8f\\u5f02\\u5e38\", \"x\": [\"8\", \"9\"], \"y\": [0.0, 0.0], \"type\": \"scatter\", \"uid\": \"1bd70bde-c22b-11e8-8e00-a81e84e6c740\"}, {\"name\": \"\\u5916\\u6765Index\\u9519\\u8bef\", \"x\": [\"8\", \"9\"], \"y\": [0.0, 0.0], \"type\": \"scatter\", \"uid\": \"1bd70fbc-c22b-11e8-8e00-a81e84e6c740\"}, {\"name\": \"\\u81ea\\u5efa\\u5e93Index\\u9519\\u8bef\", \"x\": [\"8\", \"9\"], \"y\": [0.0, 0.0], \"type\": \"scatter\", \"uid\": \"1bd71232-c22b-11e8-8e00-a81e84e6c740\"}, {\"name\": \"lims\\u7cfb\\u7edf\\u9519\\u8bef\", \"x\": [\"8\", \"9\"], \"y\": [0.0, 0.0], \"type\": \"scatter\", \"uid\": \"1bd7144e-c22b-11e8-8e00-a81e84e6c740\"}],\n",
       "            {\"title\": \"\\u6d4b\\u5e8f\\u5f02\\u5e38&\\u5916\\u6765Index\\u9519\\u8bef&\\u81ea\\u5efa\\u5e93Index\\u9519\\u8bef&lims\\u7cfb\\u7edf\\u9519\\u8bef\\u6708\\u8d8b\\u52bf\\u56fe\", \"xaxis\": {\"mirror\": \"all\", \"nticks\": 20, \"showgrid\": true, \"showline\": true, \"title\": \"\\u6708\", \"zeroline\": true}, \"yaxis\": {\"mirror\": \"all\", \"nticks\": 20, \"showgrid\": true, \"showline\": true, \"title\": \"\\u6d4b\\u5e8f\\u5f02\\u5e38&\\u5916\\u6765Index\\u9519\\u8bef&\\u81ea\\u5efa\\u5e93Index\\u9519\\u8bef&lims\\u7cfb\\u7edf\\u9519\\u8bef\", \"zeroline\": true}},\n",
       "            {\"showLink\": true, \"linkText\": \"Export to plot.ly\"}\n",
       "        ).then(function () {return Plotly.addFrames('54a7c8a2-164a-427c-a6d4-8b212d0ad69f',{});}).then(function(){Plotly.animate('54a7c8a2-164a-427c-a6d4-8b212d0ad69f');})\n",
       "        });</script>"
      ]
     },
     "metadata": {},
     "output_type": "display_data"
    }
   ],
   "source": [
    "data_dict = {'测序异常':['测序异常'], '外来Index错误':['外来Index错误'], '自建库Index错误':['自建库Index错误'], \n",
    "             'lims系统错误':['lims系统错误']}\n",
    "myModule.plot( all_dict, data_dict, '人员' ,  'line' , all='all')"
   ]
  },
  {
   "cell_type": "markdown",
   "metadata": {},
   "source": [
    "# 过滤项目情况"
   ]
  },
  {
   "cell_type": "code",
   "execution_count": 19,
   "metadata": {},
   "outputs": [],
   "source": [
    "all_files , title = myModule.get_title(pathway, 0 )##给路径\n",
    "all_dict = myModule.read_xlsx(all_files, 0 ) ## read all files"
   ]
  },
  {
   "cell_type": "markdown",
   "metadata": {},
   "source": [
    "## 整体情况"
   ]
  },
  {
   "cell_type": "markdown",
   "metadata": {},
   "source": [
    "### 产能"
   ]
  },
  {
   "cell_type": "markdown",
   "metadata": {},
   "source": [
    "#### 下机批次数和下机项目数"
   ]
  },
  {
   "cell_type": "code",
   "execution_count": 20,
   "metadata": {},
   "outputs": [
    {
     "data": {
      "application/vnd.plotly.v1+json": {
       "data": [
        {
         "name": "下机批次数",
         "type": "scatter",
         "uid": "1c43d75a-c22b-11e8-8e00-a81e84e6c740",
         "x": [
          "8-1",
          "8-2",
          "8-3",
          "8-4",
          "8-5",
          "9-1",
          "9-2"
         ],
         "y": [
          6,
          0,
          5,
          24,
          23,
          7,
          12
         ]
        },
        {
         "name": "下机项目数",
         "type": "scatter",
         "uid": "1c43dcb4-c22b-11e8-8e00-a81e84e6c740",
         "x": [
          "8-1",
          "8-2",
          "8-3",
          "8-4",
          "8-5",
          "9-1",
          "9-2"
         ],
         "y": [
          6,
          0,
          5,
          20,
          21,
          6,
          12
         ]
        }
       ],
       "layout": {
        "title": "下机批次数&下机项目数周趋势图",
        "xaxis": {
         "mirror": "all",
         "nticks": 20,
         "showgrid": true,
         "showline": true,
         "title": "周",
         "zeroline": true
        },
        "yaxis": {
         "mirror": "all",
         "nticks": 20,
         "showgrid": true,
         "showline": true,
         "title": "下机批次数&下机项目数",
         "zeroline": true
        }
       }
      },
      "text/html": [
       "<div id=\"865fd866-8eea-4b21-834c-af8f7a72bec2\" style=\"height: 525px; width: 100%;\" class=\"plotly-graph-div\"></div><script type=\"text/javascript\">require([\"plotly\"], function(Plotly) { window.PLOTLYENV=window.PLOTLYENV || {};window.PLOTLYENV.BASE_URL=\"https://plot.ly\";\n",
       "        Plotly.plot(\n",
       "            '865fd866-8eea-4b21-834c-af8f7a72bec2',\n",
       "            [{\"name\": \"\\u4e0b\\u673a\\u6279\\u6b21\\u6570\", \"x\": [\"8-1\", \"8-2\", \"8-3\", \"8-4\", \"8-5\", \"9-1\", \"9-2\"], \"y\": [6.0, 0.0, 5.0, 24.0, 23.0, 7.0, 12.0], \"type\": \"scatter\", \"uid\": \"1c43d75a-c22b-11e8-8e00-a81e84e6c740\"}, {\"name\": \"\\u4e0b\\u673a\\u9879\\u76ee\\u6570\", \"x\": [\"8-1\", \"8-2\", \"8-3\", \"8-4\", \"8-5\", \"9-1\", \"9-2\"], \"y\": [6.0, 0.0, 5.0, 20.0, 21.0, 6.0, 12.0], \"type\": \"scatter\", \"uid\": \"1c43dcb4-c22b-11e8-8e00-a81e84e6c740\"}],\n",
       "            {\"title\": \"\\u4e0b\\u673a\\u6279\\u6b21\\u6570&\\u4e0b\\u673a\\u9879\\u76ee\\u6570\\u5468\\u8d8b\\u52bf\\u56fe\", \"xaxis\": {\"mirror\": \"all\", \"nticks\": 20, \"showgrid\": true, \"showline\": true, \"title\": \"\\u5468\", \"zeroline\": true}, \"yaxis\": {\"mirror\": \"all\", \"nticks\": 20, \"showgrid\": true, \"showline\": true, \"title\": \"\\u4e0b\\u673a\\u6279\\u6b21\\u6570&\\u4e0b\\u673a\\u9879\\u76ee\\u6570\", \"zeroline\": true}},\n",
       "            {\"showLink\": true, \"linkText\": \"Export to plot.ly\"}\n",
       "        ).then(function () {return Plotly.addFrames('865fd866-8eea-4b21-834c-af8f7a72bec2',{});}).then(function(){Plotly.animate('865fd866-8eea-4b21-834c-af8f7a72bec2');})\n",
       "        });</script>"
      ],
      "text/vnd.plotly.v1+html": [
       "<div id=\"865fd866-8eea-4b21-834c-af8f7a72bec2\" style=\"height: 525px; width: 100%;\" class=\"plotly-graph-div\"></div><script type=\"text/javascript\">require([\"plotly\"], function(Plotly) { window.PLOTLYENV=window.PLOTLYENV || {};window.PLOTLYENV.BASE_URL=\"https://plot.ly\";\n",
       "        Plotly.plot(\n",
       "            '865fd866-8eea-4b21-834c-af8f7a72bec2',\n",
       "            [{\"name\": \"\\u4e0b\\u673a\\u6279\\u6b21\\u6570\", \"x\": [\"8-1\", \"8-2\", \"8-3\", \"8-4\", \"8-5\", \"9-1\", \"9-2\"], \"y\": [6.0, 0.0, 5.0, 24.0, 23.0, 7.0, 12.0], \"type\": \"scatter\", \"uid\": \"1c43d75a-c22b-11e8-8e00-a81e84e6c740\"}, {\"name\": \"\\u4e0b\\u673a\\u9879\\u76ee\\u6570\", \"x\": [\"8-1\", \"8-2\", \"8-3\", \"8-4\", \"8-5\", \"9-1\", \"9-2\"], \"y\": [6.0, 0.0, 5.0, 20.0, 21.0, 6.0, 12.0], \"type\": \"scatter\", \"uid\": \"1c43dcb4-c22b-11e8-8e00-a81e84e6c740\"}],\n",
       "            {\"title\": \"\\u4e0b\\u673a\\u6279\\u6b21\\u6570&\\u4e0b\\u673a\\u9879\\u76ee\\u6570\\u5468\\u8d8b\\u52bf\\u56fe\", \"xaxis\": {\"mirror\": \"all\", \"nticks\": 20, \"showgrid\": true, \"showline\": true, \"title\": \"\\u5468\", \"zeroline\": true}, \"yaxis\": {\"mirror\": \"all\", \"nticks\": 20, \"showgrid\": true, \"showline\": true, \"title\": \"\\u4e0b\\u673a\\u6279\\u6b21\\u6570&\\u4e0b\\u673a\\u9879\\u76ee\\u6570\", \"zeroline\": true}},\n",
       "            {\"showLink\": true, \"linkText\": \"Export to plot.ly\"}\n",
       "        ).then(function () {return Plotly.addFrames('865fd866-8eea-4b21-834c-af8f7a72bec2',{});}).then(function(){Plotly.animate('865fd866-8eea-4b21-834c-af8f7a72bec2');})\n",
       "        });</script>"
      ]
     },
     "metadata": {},
     "output_type": "display_data"
    },
    {
     "data": {
      "application/vnd.plotly.v1+json": {
       "data": [
        {
         "name": "下机批次数",
         "type": "scatter",
         "uid": "1c518468-c22b-11e8-8e00-a81e84e6c740",
         "x": [
          "8",
          "9"
         ],
         "y": [
          58,
          19
         ]
        },
        {
         "name": "下机项目数",
         "type": "scatter",
         "uid": "1c518918-c22b-11e8-8e00-a81e84e6c740",
         "x": [
          "8",
          "9"
         ],
         "y": [
          52,
          18
         ]
        }
       ],
       "layout": {
        "title": "下机批次数&下机项目数月趋势图",
        "xaxis": {
         "mirror": "all",
         "nticks": 20,
         "showgrid": true,
         "showline": true,
         "title": "月",
         "zeroline": true
        },
        "yaxis": {
         "mirror": "all",
         "nticks": 20,
         "showgrid": true,
         "showline": true,
         "title": "下机批次数&下机项目数",
         "zeroline": true
        }
       }
      },
      "text/html": [
       "<div id=\"aa2eae93-d9e2-4285-afdc-c29f6fff42fd\" style=\"height: 525px; width: 100%;\" class=\"plotly-graph-div\"></div><script type=\"text/javascript\">require([\"plotly\"], function(Plotly) { window.PLOTLYENV=window.PLOTLYENV || {};window.PLOTLYENV.BASE_URL=\"https://plot.ly\";\n",
       "        Plotly.plot(\n",
       "            'aa2eae93-d9e2-4285-afdc-c29f6fff42fd',\n",
       "            [{\"name\": \"\\u4e0b\\u673a\\u6279\\u6b21\\u6570\", \"x\": [\"8\", \"9\"], \"y\": [58.0, 19.0], \"type\": \"scatter\", \"uid\": \"1c518468-c22b-11e8-8e00-a81e84e6c740\"}, {\"name\": \"\\u4e0b\\u673a\\u9879\\u76ee\\u6570\", \"x\": [\"8\", \"9\"], \"y\": [52.0, 18.0], \"type\": \"scatter\", \"uid\": \"1c518918-c22b-11e8-8e00-a81e84e6c740\"}],\n",
       "            {\"title\": \"\\u4e0b\\u673a\\u6279\\u6b21\\u6570&\\u4e0b\\u673a\\u9879\\u76ee\\u6570\\u6708\\u8d8b\\u52bf\\u56fe\", \"xaxis\": {\"mirror\": \"all\", \"nticks\": 20, \"showgrid\": true, \"showline\": true, \"title\": \"\\u6708\", \"zeroline\": true}, \"yaxis\": {\"mirror\": \"all\", \"nticks\": 20, \"showgrid\": true, \"showline\": true, \"title\": \"\\u4e0b\\u673a\\u6279\\u6b21\\u6570&\\u4e0b\\u673a\\u9879\\u76ee\\u6570\", \"zeroline\": true}},\n",
       "            {\"showLink\": true, \"linkText\": \"Export to plot.ly\"}\n",
       "        ).then(function () {return Plotly.addFrames('aa2eae93-d9e2-4285-afdc-c29f6fff42fd',{});}).then(function(){Plotly.animate('aa2eae93-d9e2-4285-afdc-c29f6fff42fd');})\n",
       "        });</script>"
      ],
      "text/vnd.plotly.v1+html": [
       "<div id=\"aa2eae93-d9e2-4285-afdc-c29f6fff42fd\" style=\"height: 525px; width: 100%;\" class=\"plotly-graph-div\"></div><script type=\"text/javascript\">require([\"plotly\"], function(Plotly) { window.PLOTLYENV=window.PLOTLYENV || {};window.PLOTLYENV.BASE_URL=\"https://plot.ly\";\n",
       "        Plotly.plot(\n",
       "            'aa2eae93-d9e2-4285-afdc-c29f6fff42fd',\n",
       "            [{\"name\": \"\\u4e0b\\u673a\\u6279\\u6b21\\u6570\", \"x\": [\"8\", \"9\"], \"y\": [58.0, 19.0], \"type\": \"scatter\", \"uid\": \"1c518468-c22b-11e8-8e00-a81e84e6c740\"}, {\"name\": \"\\u4e0b\\u673a\\u9879\\u76ee\\u6570\", \"x\": [\"8\", \"9\"], \"y\": [52.0, 18.0], \"type\": \"scatter\", \"uid\": \"1c518918-c22b-11e8-8e00-a81e84e6c740\"}],\n",
       "            {\"title\": \"\\u4e0b\\u673a\\u6279\\u6b21\\u6570&\\u4e0b\\u673a\\u9879\\u76ee\\u6570\\u6708\\u8d8b\\u52bf\\u56fe\", \"xaxis\": {\"mirror\": \"all\", \"nticks\": 20, \"showgrid\": true, \"showline\": true, \"title\": \"\\u6708\", \"zeroline\": true}, \"yaxis\": {\"mirror\": \"all\", \"nticks\": 20, \"showgrid\": true, \"showline\": true, \"title\": \"\\u4e0b\\u673a\\u6279\\u6b21\\u6570&\\u4e0b\\u673a\\u9879\\u76ee\\u6570\", \"zeroline\": true}},\n",
       "            {\"showLink\": true, \"linkText\": \"Export to plot.ly\"}\n",
       "        ).then(function () {return Plotly.addFrames('aa2eae93-d9e2-4285-afdc-c29f6fff42fd',{});}).then(function(){Plotly.animate('aa2eae93-d9e2-4285-afdc-c29f6fff42fd');})\n",
       "        });</script>"
      ]
     },
     "metadata": {},
     "output_type": "display_data"
    }
   ],
   "source": [
    "data_dict = {'下机批次数':['下机批次数'],'下机项目数':['下机项目数']}\n",
    "myModule.plot( all_dict, data_dict, '人员' ,  'line', all='all' )"
   ]
  },
  {
   "cell_type": "markdown",
   "metadata": {},
   "source": [
    "#### 下机批次比"
   ]
  },
  {
   "cell_type": "code",
   "execution_count": 21,
   "metadata": {},
   "outputs": [
    {
     "data": {
      "application/vnd.plotly.v1+json": {
       "data": [
        {
         "name": "下机批次比",
         "type": "scatter",
         "uid": "1c8f1648-c22b-11e8-8e00-a81e84e6c740",
         "x": [
          "8-1",
          "8-2",
          "8-3",
          "8-4",
          "8-5",
          "9-1",
          "9-2"
         ],
         "y": [
          1,
          null,
          1,
          1.2,
          1.0952380952380953,
          1.1666666666666667,
          1
         ]
        }
       ],
       "layout": {
        "title": "下机批次比周趋势图",
        "xaxis": {
         "mirror": "all",
         "nticks": 20,
         "showgrid": true,
         "showline": true,
         "title": "周",
         "zeroline": true
        },
        "yaxis": {
         "mirror": "all",
         "nticks": 20,
         "showgrid": true,
         "showline": true,
         "title": "下机批次比",
         "zeroline": true
        }
       }
      },
      "text/html": [
       "<div id=\"3fdb6e86-d8ee-472d-985f-c7bf0fa7a81c\" style=\"height: 525px; width: 100%;\" class=\"plotly-graph-div\"></div><script type=\"text/javascript\">require([\"plotly\"], function(Plotly) { window.PLOTLYENV=window.PLOTLYENV || {};window.PLOTLYENV.BASE_URL=\"https://plot.ly\";\n",
       "        Plotly.plot(\n",
       "            '3fdb6e86-d8ee-472d-985f-c7bf0fa7a81c',\n",
       "            [{\"name\": \"\\u4e0b\\u673a\\u6279\\u6b21\\u6bd4\", \"x\": [\"8-1\", \"8-2\", \"8-3\", \"8-4\", \"8-5\", \"9-1\", \"9-2\"], \"y\": [1.0, null, 1.0, 1.2, 1.0952380952380953, 1.1666666666666667, 1.0], \"type\": \"scatter\", \"uid\": \"1c8f1648-c22b-11e8-8e00-a81e84e6c740\"}],\n",
       "            {\"title\": \"\\u4e0b\\u673a\\u6279\\u6b21\\u6bd4\\u5468\\u8d8b\\u52bf\\u56fe\", \"xaxis\": {\"mirror\": \"all\", \"nticks\": 20, \"showgrid\": true, \"showline\": true, \"title\": \"\\u5468\", \"zeroline\": true}, \"yaxis\": {\"mirror\": \"all\", \"nticks\": 20, \"showgrid\": true, \"showline\": true, \"title\": \"\\u4e0b\\u673a\\u6279\\u6b21\\u6bd4\", \"zeroline\": true}},\n",
       "            {\"showLink\": true, \"linkText\": \"Export to plot.ly\"}\n",
       "        ).then(function () {return Plotly.addFrames('3fdb6e86-d8ee-472d-985f-c7bf0fa7a81c',{});}).then(function(){Plotly.animate('3fdb6e86-d8ee-472d-985f-c7bf0fa7a81c');})\n",
       "        });</script>"
      ],
      "text/vnd.plotly.v1+html": [
       "<div id=\"3fdb6e86-d8ee-472d-985f-c7bf0fa7a81c\" style=\"height: 525px; width: 100%;\" class=\"plotly-graph-div\"></div><script type=\"text/javascript\">require([\"plotly\"], function(Plotly) { window.PLOTLYENV=window.PLOTLYENV || {};window.PLOTLYENV.BASE_URL=\"https://plot.ly\";\n",
       "        Plotly.plot(\n",
       "            '3fdb6e86-d8ee-472d-985f-c7bf0fa7a81c',\n",
       "            [{\"name\": \"\\u4e0b\\u673a\\u6279\\u6b21\\u6bd4\", \"x\": [\"8-1\", \"8-2\", \"8-3\", \"8-4\", \"8-5\", \"9-1\", \"9-2\"], \"y\": [1.0, null, 1.0, 1.2, 1.0952380952380953, 1.1666666666666667, 1.0], \"type\": \"scatter\", \"uid\": \"1c8f1648-c22b-11e8-8e00-a81e84e6c740\"}],\n",
       "            {\"title\": \"\\u4e0b\\u673a\\u6279\\u6b21\\u6bd4\\u5468\\u8d8b\\u52bf\\u56fe\", \"xaxis\": {\"mirror\": \"all\", \"nticks\": 20, \"showgrid\": true, \"showline\": true, \"title\": \"\\u5468\", \"zeroline\": true}, \"yaxis\": {\"mirror\": \"all\", \"nticks\": 20, \"showgrid\": true, \"showline\": true, \"title\": \"\\u4e0b\\u673a\\u6279\\u6b21\\u6bd4\", \"zeroline\": true}},\n",
       "            {\"showLink\": true, \"linkText\": \"Export to plot.ly\"}\n",
       "        ).then(function () {return Plotly.addFrames('3fdb6e86-d8ee-472d-985f-c7bf0fa7a81c',{});}).then(function(){Plotly.animate('3fdb6e86-d8ee-472d-985f-c7bf0fa7a81c');})\n",
       "        });</script>"
      ]
     },
     "metadata": {},
     "output_type": "display_data"
    },
    {
     "data": {
      "application/vnd.plotly.v1+json": {
       "data": [
        {
         "name": "下机批次比",
         "type": "scatter",
         "uid": "1c9b0fde-c22b-11e8-8e00-a81e84e6c740",
         "x": [
          "8",
          "9"
         ],
         "y": [
          1.1153846153846154,
          1.0555555555555556
         ]
        }
       ],
       "layout": {
        "title": "下机批次比月趋势图",
        "xaxis": {
         "mirror": "all",
         "nticks": 20,
         "showgrid": true,
         "showline": true,
         "title": "月",
         "zeroline": true
        },
        "yaxis": {
         "mirror": "all",
         "nticks": 20,
         "showgrid": true,
         "showline": true,
         "title": "下机批次比",
         "zeroline": true
        }
       }
      },
      "text/html": [
       "<div id=\"24304925-7821-428f-81a8-ef4036fadf56\" style=\"height: 525px; width: 100%;\" class=\"plotly-graph-div\"></div><script type=\"text/javascript\">require([\"plotly\"], function(Plotly) { window.PLOTLYENV=window.PLOTLYENV || {};window.PLOTLYENV.BASE_URL=\"https://plot.ly\";\n",
       "        Plotly.plot(\n",
       "            '24304925-7821-428f-81a8-ef4036fadf56',\n",
       "            [{\"name\": \"\\u4e0b\\u673a\\u6279\\u6b21\\u6bd4\", \"x\": [\"8\", \"9\"], \"y\": [1.1153846153846154, 1.0555555555555556], \"type\": \"scatter\", \"uid\": \"1c9b0fde-c22b-11e8-8e00-a81e84e6c740\"}],\n",
       "            {\"title\": \"\\u4e0b\\u673a\\u6279\\u6b21\\u6bd4\\u6708\\u8d8b\\u52bf\\u56fe\", \"xaxis\": {\"mirror\": \"all\", \"nticks\": 20, \"showgrid\": true, \"showline\": true, \"title\": \"\\u6708\", \"zeroline\": true}, \"yaxis\": {\"mirror\": \"all\", \"nticks\": 20, \"showgrid\": true, \"showline\": true, \"title\": \"\\u4e0b\\u673a\\u6279\\u6b21\\u6bd4\", \"zeroline\": true}},\n",
       "            {\"showLink\": true, \"linkText\": \"Export to plot.ly\"}\n",
       "        ).then(function () {return Plotly.addFrames('24304925-7821-428f-81a8-ef4036fadf56',{});}).then(function(){Plotly.animate('24304925-7821-428f-81a8-ef4036fadf56');})\n",
       "        });</script>"
      ],
      "text/vnd.plotly.v1+html": [
       "<div id=\"24304925-7821-428f-81a8-ef4036fadf56\" style=\"height: 525px; width: 100%;\" class=\"plotly-graph-div\"></div><script type=\"text/javascript\">require([\"plotly\"], function(Plotly) { window.PLOTLYENV=window.PLOTLYENV || {};window.PLOTLYENV.BASE_URL=\"https://plot.ly\";\n",
       "        Plotly.plot(\n",
       "            '24304925-7821-428f-81a8-ef4036fadf56',\n",
       "            [{\"name\": \"\\u4e0b\\u673a\\u6279\\u6b21\\u6bd4\", \"x\": [\"8\", \"9\"], \"y\": [1.1153846153846154, 1.0555555555555556], \"type\": \"scatter\", \"uid\": \"1c9b0fde-c22b-11e8-8e00-a81e84e6c740\"}],\n",
       "            {\"title\": \"\\u4e0b\\u673a\\u6279\\u6b21\\u6bd4\\u6708\\u8d8b\\u52bf\\u56fe\", \"xaxis\": {\"mirror\": \"all\", \"nticks\": 20, \"showgrid\": true, \"showline\": true, \"title\": \"\\u6708\", \"zeroline\": true}, \"yaxis\": {\"mirror\": \"all\", \"nticks\": 20, \"showgrid\": true, \"showline\": true, \"title\": \"\\u4e0b\\u673a\\u6279\\u6b21\\u6bd4\", \"zeroline\": true}},\n",
       "            {\"showLink\": true, \"linkText\": \"Export to plot.ly\"}\n",
       "        ).then(function () {return Plotly.addFrames('24304925-7821-428f-81a8-ef4036fadf56',{});}).then(function(){Plotly.animate('24304925-7821-428f-81a8-ef4036fadf56');})\n",
       "        });</script>"
      ]
     },
     "metadata": {},
     "output_type": "display_data"
    }
   ],
   "source": [
    "data_dict = {'下机批次比':['下机批次数','下机项目数']}\n",
    "myModule.plot( all_dict, data_dict, '人员' ,  'line' , all='all')"
   ]
  },
  {
   "cell_type": "markdown",
   "metadata": {},
   "source": [
    "### 效率"
   ]
  },
  {
   "cell_type": "markdown",
   "metadata": {},
   "source": [
    "####  反馈及时率和数据交付及时率"
   ]
  },
  {
   "cell_type": "code",
   "execution_count": 22,
   "metadata": {},
   "outputs": [
    {
     "data": {
      "application/vnd.plotly.v1+json": {
       "data": [
        {
         "name": "反馈及时率",
         "type": "scatter",
         "uid": "1cd9f6e0-c22b-11e8-8e00-a81e84e6c740",
         "x": [
          "8-1",
          "8-2",
          "8-3",
          "8-4",
          "8-5",
          "9-1",
          "9-2"
         ],
         "y": [
          1,
          null,
          0.6,
          1,
          0.8695652173913043,
          1,
          1
         ]
        },
        {
         "name": "数据及时交付率",
         "type": "scatter",
         "uid": "1cd9fc26-c22b-11e8-8e00-a81e84e6c740",
         "x": [
          "8-1",
          "8-2",
          "8-3",
          "8-4",
          "8-5",
          "9-1",
          "9-2"
         ],
         "y": [
          1,
          null,
          1,
          null,
          1,
          1,
          null
         ]
        }
       ],
       "layout": {
        "title": "反馈及时率&数据及时交付率周趋势图",
        "xaxis": {
         "mirror": "all",
         "nticks": 20,
         "showgrid": true,
         "showline": true,
         "title": "周",
         "zeroline": true
        },
        "yaxis": {
         "mirror": "all",
         "nticks": 20,
         "showgrid": true,
         "showline": true,
         "title": "反馈及时率&数据及时交付率",
         "zeroline": true
        }
       }
      },
      "text/html": [
       "<div id=\"b6acf26b-485e-4d25-a58e-b1c8557c85fa\" style=\"height: 525px; width: 100%;\" class=\"plotly-graph-div\"></div><script type=\"text/javascript\">require([\"plotly\"], function(Plotly) { window.PLOTLYENV=window.PLOTLYENV || {};window.PLOTLYENV.BASE_URL=\"https://plot.ly\";\n",
       "        Plotly.plot(\n",
       "            'b6acf26b-485e-4d25-a58e-b1c8557c85fa',\n",
       "            [{\"name\": \"\\u53cd\\u9988\\u53ca\\u65f6\\u7387\", \"x\": [\"8-1\", \"8-2\", \"8-3\", \"8-4\", \"8-5\", \"9-1\", \"9-2\"], \"y\": [1.0, null, 0.6, 1.0, 0.8695652173913043, 1.0, 1.0], \"type\": \"scatter\", \"uid\": \"1cd9f6e0-c22b-11e8-8e00-a81e84e6c740\"}, {\"name\": \"\\u6570\\u636e\\u53ca\\u65f6\\u4ea4\\u4ed8\\u7387\", \"x\": [\"8-1\", \"8-2\", \"8-3\", \"8-4\", \"8-5\", \"9-1\", \"9-2\"], \"y\": [1.0, null, 1.0, null, 1.0, 1.0, null], \"type\": \"scatter\", \"uid\": \"1cd9fc26-c22b-11e8-8e00-a81e84e6c740\"}],\n",
       "            {\"title\": \"\\u53cd\\u9988\\u53ca\\u65f6\\u7387&\\u6570\\u636e\\u53ca\\u65f6\\u4ea4\\u4ed8\\u7387\\u5468\\u8d8b\\u52bf\\u56fe\", \"xaxis\": {\"mirror\": \"all\", \"nticks\": 20, \"showgrid\": true, \"showline\": true, \"title\": \"\\u5468\", \"zeroline\": true}, \"yaxis\": {\"mirror\": \"all\", \"nticks\": 20, \"showgrid\": true, \"showline\": true, \"title\": \"\\u53cd\\u9988\\u53ca\\u65f6\\u7387&\\u6570\\u636e\\u53ca\\u65f6\\u4ea4\\u4ed8\\u7387\", \"zeroline\": true}},\n",
       "            {\"showLink\": true, \"linkText\": \"Export to plot.ly\"}\n",
       "        ).then(function () {return Plotly.addFrames('b6acf26b-485e-4d25-a58e-b1c8557c85fa',{});}).then(function(){Plotly.animate('b6acf26b-485e-4d25-a58e-b1c8557c85fa');})\n",
       "        });</script>"
      ],
      "text/vnd.plotly.v1+html": [
       "<div id=\"b6acf26b-485e-4d25-a58e-b1c8557c85fa\" style=\"height: 525px; width: 100%;\" class=\"plotly-graph-div\"></div><script type=\"text/javascript\">require([\"plotly\"], function(Plotly) { window.PLOTLYENV=window.PLOTLYENV || {};window.PLOTLYENV.BASE_URL=\"https://plot.ly\";\n",
       "        Plotly.plot(\n",
       "            'b6acf26b-485e-4d25-a58e-b1c8557c85fa',\n",
       "            [{\"name\": \"\\u53cd\\u9988\\u53ca\\u65f6\\u7387\", \"x\": [\"8-1\", \"8-2\", \"8-3\", \"8-4\", \"8-5\", \"9-1\", \"9-2\"], \"y\": [1.0, null, 0.6, 1.0, 0.8695652173913043, 1.0, 1.0], \"type\": \"scatter\", \"uid\": \"1cd9f6e0-c22b-11e8-8e00-a81e84e6c740\"}, {\"name\": \"\\u6570\\u636e\\u53ca\\u65f6\\u4ea4\\u4ed8\\u7387\", \"x\": [\"8-1\", \"8-2\", \"8-3\", \"8-4\", \"8-5\", \"9-1\", \"9-2\"], \"y\": [1.0, null, 1.0, null, 1.0, 1.0, null], \"type\": \"scatter\", \"uid\": \"1cd9fc26-c22b-11e8-8e00-a81e84e6c740\"}],\n",
       "            {\"title\": \"\\u53cd\\u9988\\u53ca\\u65f6\\u7387&\\u6570\\u636e\\u53ca\\u65f6\\u4ea4\\u4ed8\\u7387\\u5468\\u8d8b\\u52bf\\u56fe\", \"xaxis\": {\"mirror\": \"all\", \"nticks\": 20, \"showgrid\": true, \"showline\": true, \"title\": \"\\u5468\", \"zeroline\": true}, \"yaxis\": {\"mirror\": \"all\", \"nticks\": 20, \"showgrid\": true, \"showline\": true, \"title\": \"\\u53cd\\u9988\\u53ca\\u65f6\\u7387&\\u6570\\u636e\\u53ca\\u65f6\\u4ea4\\u4ed8\\u7387\", \"zeroline\": true}},\n",
       "            {\"showLink\": true, \"linkText\": \"Export to plot.ly\"}\n",
       "        ).then(function () {return Plotly.addFrames('b6acf26b-485e-4d25-a58e-b1c8557c85fa',{});}).then(function(){Plotly.animate('b6acf26b-485e-4d25-a58e-b1c8557c85fa');})\n",
       "        });</script>"
      ]
     },
     "metadata": {},
     "output_type": "display_data"
    },
    {
     "data": {
      "application/vnd.plotly.v1+json": {
       "data": [
        {
         "name": "反馈及时率",
         "type": "scatter",
         "uid": "1ce9eb40-c22b-11e8-8e00-a81e84e6c740",
         "x": [
          "8",
          "9"
         ],
         "y": [
          0.9137931034482759,
          1
         ]
        },
        {
         "name": "数据及时交付率",
         "type": "scatter",
         "uid": "1ce9f0cc-c22b-11e8-8e00-a81e84e6c740",
         "x": [
          "8",
          "9"
         ],
         "y": [
          1,
          1
         ]
        }
       ],
       "layout": {
        "title": "反馈及时率&数据及时交付率月趋势图",
        "xaxis": {
         "mirror": "all",
         "nticks": 20,
         "showgrid": true,
         "showline": true,
         "title": "月",
         "zeroline": true
        },
        "yaxis": {
         "mirror": "all",
         "nticks": 20,
         "showgrid": true,
         "showline": true,
         "title": "反馈及时率&数据及时交付率",
         "zeroline": true
        }
       }
      },
      "text/html": [
       "<div id=\"86436e2b-87d8-4d5f-bbda-0ed7f3a79bb7\" style=\"height: 525px; width: 100%;\" class=\"plotly-graph-div\"></div><script type=\"text/javascript\">require([\"plotly\"], function(Plotly) { window.PLOTLYENV=window.PLOTLYENV || {};window.PLOTLYENV.BASE_URL=\"https://plot.ly\";\n",
       "        Plotly.plot(\n",
       "            '86436e2b-87d8-4d5f-bbda-0ed7f3a79bb7',\n",
       "            [{\"name\": \"\\u53cd\\u9988\\u53ca\\u65f6\\u7387\", \"x\": [\"8\", \"9\"], \"y\": [0.9137931034482759, 1.0], \"type\": \"scatter\", \"uid\": \"1ce9eb40-c22b-11e8-8e00-a81e84e6c740\"}, {\"name\": \"\\u6570\\u636e\\u53ca\\u65f6\\u4ea4\\u4ed8\\u7387\", \"x\": [\"8\", \"9\"], \"y\": [1.0, 1.0], \"type\": \"scatter\", \"uid\": \"1ce9f0cc-c22b-11e8-8e00-a81e84e6c740\"}],\n",
       "            {\"title\": \"\\u53cd\\u9988\\u53ca\\u65f6\\u7387&\\u6570\\u636e\\u53ca\\u65f6\\u4ea4\\u4ed8\\u7387\\u6708\\u8d8b\\u52bf\\u56fe\", \"xaxis\": {\"mirror\": \"all\", \"nticks\": 20, \"showgrid\": true, \"showline\": true, \"title\": \"\\u6708\", \"zeroline\": true}, \"yaxis\": {\"mirror\": \"all\", \"nticks\": 20, \"showgrid\": true, \"showline\": true, \"title\": \"\\u53cd\\u9988\\u53ca\\u65f6\\u7387&\\u6570\\u636e\\u53ca\\u65f6\\u4ea4\\u4ed8\\u7387\", \"zeroline\": true}},\n",
       "            {\"showLink\": true, \"linkText\": \"Export to plot.ly\"}\n",
       "        ).then(function () {return Plotly.addFrames('86436e2b-87d8-4d5f-bbda-0ed7f3a79bb7',{});}).then(function(){Plotly.animate('86436e2b-87d8-4d5f-bbda-0ed7f3a79bb7');})\n",
       "        });</script>"
      ],
      "text/vnd.plotly.v1+html": [
       "<div id=\"86436e2b-87d8-4d5f-bbda-0ed7f3a79bb7\" style=\"height: 525px; width: 100%;\" class=\"plotly-graph-div\"></div><script type=\"text/javascript\">require([\"plotly\"], function(Plotly) { window.PLOTLYENV=window.PLOTLYENV || {};window.PLOTLYENV.BASE_URL=\"https://plot.ly\";\n",
       "        Plotly.plot(\n",
       "            '86436e2b-87d8-4d5f-bbda-0ed7f3a79bb7',\n",
       "            [{\"name\": \"\\u53cd\\u9988\\u53ca\\u65f6\\u7387\", \"x\": [\"8\", \"9\"], \"y\": [0.9137931034482759, 1.0], \"type\": \"scatter\", \"uid\": \"1ce9eb40-c22b-11e8-8e00-a81e84e6c740\"}, {\"name\": \"\\u6570\\u636e\\u53ca\\u65f6\\u4ea4\\u4ed8\\u7387\", \"x\": [\"8\", \"9\"], \"y\": [1.0, 1.0], \"type\": \"scatter\", \"uid\": \"1ce9f0cc-c22b-11e8-8e00-a81e84e6c740\"}],\n",
       "            {\"title\": \"\\u53cd\\u9988\\u53ca\\u65f6\\u7387&\\u6570\\u636e\\u53ca\\u65f6\\u4ea4\\u4ed8\\u7387\\u6708\\u8d8b\\u52bf\\u56fe\", \"xaxis\": {\"mirror\": \"all\", \"nticks\": 20, \"showgrid\": true, \"showline\": true, \"title\": \"\\u6708\", \"zeroline\": true}, \"yaxis\": {\"mirror\": \"all\", \"nticks\": 20, \"showgrid\": true, \"showline\": true, \"title\": \"\\u53cd\\u9988\\u53ca\\u65f6\\u7387&\\u6570\\u636e\\u53ca\\u65f6\\u4ea4\\u4ed8\\u7387\", \"zeroline\": true}},\n",
       "            {\"showLink\": true, \"linkText\": \"Export to plot.ly\"}\n",
       "        ).then(function () {return Plotly.addFrames('86436e2b-87d8-4d5f-bbda-0ed7f3a79bb7',{});}).then(function(){Plotly.animate('86436e2b-87d8-4d5f-bbda-0ed7f3a79bb7');})\n",
       "        });</script>"
      ]
     },
     "metadata": {},
     "output_type": "display_data"
    }
   ],
   "source": [
    "data_dict = {'反馈及时率':['及时反馈数','下机批次数'], '数据及时交付率':['数据及时交付数','数据交付总数']}\n",
    "myModule.plot( all_dict, data_dict, '人员' ,  'line' , all='all')"
   ]
  },
  {
   "cell_type": "markdown",
   "metadata": {},
   "source": [
    "#### 24h拆分过滤率和48h拆分过滤率"
   ]
  },
  {
   "cell_type": "code",
   "execution_count": 23,
   "metadata": {},
   "outputs": [
    {
     "data": {
      "application/vnd.plotly.v1+json": {
       "data": [
        {
         "name": "24h拆分过滤率",
         "type": "scatter",
         "uid": "1d337990-c22b-11e8-8e00-a81e84e6c740",
         "x": [
          "8-1",
          "8-2",
          "8-3",
          "8-4",
          "8-5",
          "9-1",
          "9-2"
         ],
         "y": [
          1,
          null,
          0.8,
          0,
          0.43478260869565216,
          0.5714285714285714,
          0
         ]
        },
        {
         "name": "48h拆分过滤率",
         "type": "scatter",
         "uid": "1d337ed6-c22b-11e8-8e00-a81e84e6c740",
         "x": [
          "8-1",
          "8-2",
          "8-3",
          "8-4",
          "8-5",
          "9-1",
          "9-2"
         ],
         "y": [
          1,
          null,
          0.8,
          0,
          0.782608695652174,
          1,
          0
         ]
        }
       ],
       "layout": {
        "title": "24h拆分过滤率&48h拆分过滤率周趋势图",
        "xaxis": {
         "mirror": "all",
         "nticks": 20,
         "showgrid": true,
         "showline": true,
         "title": "周",
         "zeroline": true
        },
        "yaxis": {
         "mirror": "all",
         "nticks": 20,
         "showgrid": true,
         "showline": true,
         "title": "24h拆分过滤率&48h拆分过滤率",
         "zeroline": true
        }
       }
      },
      "text/html": [
       "<div id=\"39cb95a9-bf7b-4b28-8c05-5260def22525\" style=\"height: 525px; width: 100%;\" class=\"plotly-graph-div\"></div><script type=\"text/javascript\">require([\"plotly\"], function(Plotly) { window.PLOTLYENV=window.PLOTLYENV || {};window.PLOTLYENV.BASE_URL=\"https://plot.ly\";\n",
       "        Plotly.plot(\n",
       "            '39cb95a9-bf7b-4b28-8c05-5260def22525',\n",
       "            [{\"name\": \"24h\\u62c6\\u5206\\u8fc7\\u6ee4\\u7387\", \"x\": [\"8-1\", \"8-2\", \"8-3\", \"8-4\", \"8-5\", \"9-1\", \"9-2\"], \"y\": [1.0, null, 0.8, 0.0, 0.43478260869565216, 0.5714285714285714, 0.0], \"type\": \"scatter\", \"uid\": \"1d337990-c22b-11e8-8e00-a81e84e6c740\"}, {\"name\": \"48h\\u62c6\\u5206\\u8fc7\\u6ee4\\u7387\", \"x\": [\"8-1\", \"8-2\", \"8-3\", \"8-4\", \"8-5\", \"9-1\", \"9-2\"], \"y\": [1.0, null, 0.8, 0.0, 0.782608695652174, 1.0, 0.0], \"type\": \"scatter\", \"uid\": \"1d337ed6-c22b-11e8-8e00-a81e84e6c740\"}],\n",
       "            {\"title\": \"24h\\u62c6\\u5206\\u8fc7\\u6ee4\\u7387&48h\\u62c6\\u5206\\u8fc7\\u6ee4\\u7387\\u5468\\u8d8b\\u52bf\\u56fe\", \"xaxis\": {\"mirror\": \"all\", \"nticks\": 20, \"showgrid\": true, \"showline\": true, \"title\": \"\\u5468\", \"zeroline\": true}, \"yaxis\": {\"mirror\": \"all\", \"nticks\": 20, \"showgrid\": true, \"showline\": true, \"title\": \"24h\\u62c6\\u5206\\u8fc7\\u6ee4\\u7387&48h\\u62c6\\u5206\\u8fc7\\u6ee4\\u7387\", \"zeroline\": true}},\n",
       "            {\"showLink\": true, \"linkText\": \"Export to plot.ly\"}\n",
       "        ).then(function () {return Plotly.addFrames('39cb95a9-bf7b-4b28-8c05-5260def22525',{});}).then(function(){Plotly.animate('39cb95a9-bf7b-4b28-8c05-5260def22525');})\n",
       "        });</script>"
      ],
      "text/vnd.plotly.v1+html": [
       "<div id=\"39cb95a9-bf7b-4b28-8c05-5260def22525\" style=\"height: 525px; width: 100%;\" class=\"plotly-graph-div\"></div><script type=\"text/javascript\">require([\"plotly\"], function(Plotly) { window.PLOTLYENV=window.PLOTLYENV || {};window.PLOTLYENV.BASE_URL=\"https://plot.ly\";\n",
       "        Plotly.plot(\n",
       "            '39cb95a9-bf7b-4b28-8c05-5260def22525',\n",
       "            [{\"name\": \"24h\\u62c6\\u5206\\u8fc7\\u6ee4\\u7387\", \"x\": [\"8-1\", \"8-2\", \"8-3\", \"8-4\", \"8-5\", \"9-1\", \"9-2\"], \"y\": [1.0, null, 0.8, 0.0, 0.43478260869565216, 0.5714285714285714, 0.0], \"type\": \"scatter\", \"uid\": \"1d337990-c22b-11e8-8e00-a81e84e6c740\"}, {\"name\": \"48h\\u62c6\\u5206\\u8fc7\\u6ee4\\u7387\", \"x\": [\"8-1\", \"8-2\", \"8-3\", \"8-4\", \"8-5\", \"9-1\", \"9-2\"], \"y\": [1.0, null, 0.8, 0.0, 0.782608695652174, 1.0, 0.0], \"type\": \"scatter\", \"uid\": \"1d337ed6-c22b-11e8-8e00-a81e84e6c740\"}],\n",
       "            {\"title\": \"24h\\u62c6\\u5206\\u8fc7\\u6ee4\\u7387&48h\\u62c6\\u5206\\u8fc7\\u6ee4\\u7387\\u5468\\u8d8b\\u52bf\\u56fe\", \"xaxis\": {\"mirror\": \"all\", \"nticks\": 20, \"showgrid\": true, \"showline\": true, \"title\": \"\\u5468\", \"zeroline\": true}, \"yaxis\": {\"mirror\": \"all\", \"nticks\": 20, \"showgrid\": true, \"showline\": true, \"title\": \"24h\\u62c6\\u5206\\u8fc7\\u6ee4\\u7387&48h\\u62c6\\u5206\\u8fc7\\u6ee4\\u7387\", \"zeroline\": true}},\n",
       "            {\"showLink\": true, \"linkText\": \"Export to plot.ly\"}\n",
       "        ).then(function () {return Plotly.addFrames('39cb95a9-bf7b-4b28-8c05-5260def22525',{});}).then(function(){Plotly.animate('39cb95a9-bf7b-4b28-8c05-5260def22525');})\n",
       "        });</script>"
      ]
     },
     "metadata": {},
     "output_type": "display_data"
    },
    {
     "data": {
      "application/vnd.plotly.v1+json": {
       "data": [
        {
         "name": "24h拆分过滤率",
         "type": "scatter",
         "uid": "1d40f282-c22b-11e8-8e00-a81e84e6c740",
         "x": [
          "8",
          "9"
         ],
         "y": [
          0.3448275862068966,
          0.21052631578947367
         ]
        },
        {
         "name": "48h拆分过滤率",
         "type": "scatter",
         "uid": "1d40f674-c22b-11e8-8e00-a81e84e6c740",
         "x": [
          "8",
          "9"
         ],
         "y": [
          0.4827586206896552,
          0.3684210526315789
         ]
        }
       ],
       "layout": {
        "title": "24h拆分过滤率&48h拆分过滤率月趋势图",
        "xaxis": {
         "mirror": "all",
         "nticks": 20,
         "showgrid": true,
         "showline": true,
         "title": "月",
         "zeroline": true
        },
        "yaxis": {
         "mirror": "all",
         "nticks": 20,
         "showgrid": true,
         "showline": true,
         "title": "24h拆分过滤率&48h拆分过滤率",
         "zeroline": true
        }
       }
      },
      "text/html": [
       "<div id=\"97154635-5882-4851-993e-16db7084eae9\" style=\"height: 525px; width: 100%;\" class=\"plotly-graph-div\"></div><script type=\"text/javascript\">require([\"plotly\"], function(Plotly) { window.PLOTLYENV=window.PLOTLYENV || {};window.PLOTLYENV.BASE_URL=\"https://plot.ly\";\n",
       "        Plotly.plot(\n",
       "            '97154635-5882-4851-993e-16db7084eae9',\n",
       "            [{\"name\": \"24h\\u62c6\\u5206\\u8fc7\\u6ee4\\u7387\", \"x\": [\"8\", \"9\"], \"y\": [0.3448275862068966, 0.21052631578947367], \"type\": \"scatter\", \"uid\": \"1d40f282-c22b-11e8-8e00-a81e84e6c740\"}, {\"name\": \"48h\\u62c6\\u5206\\u8fc7\\u6ee4\\u7387\", \"x\": [\"8\", \"9\"], \"y\": [0.4827586206896552, 0.3684210526315789], \"type\": \"scatter\", \"uid\": \"1d40f674-c22b-11e8-8e00-a81e84e6c740\"}],\n",
       "            {\"title\": \"24h\\u62c6\\u5206\\u8fc7\\u6ee4\\u7387&48h\\u62c6\\u5206\\u8fc7\\u6ee4\\u7387\\u6708\\u8d8b\\u52bf\\u56fe\", \"xaxis\": {\"mirror\": \"all\", \"nticks\": 20, \"showgrid\": true, \"showline\": true, \"title\": \"\\u6708\", \"zeroline\": true}, \"yaxis\": {\"mirror\": \"all\", \"nticks\": 20, \"showgrid\": true, \"showline\": true, \"title\": \"24h\\u62c6\\u5206\\u8fc7\\u6ee4\\u7387&48h\\u62c6\\u5206\\u8fc7\\u6ee4\\u7387\", \"zeroline\": true}},\n",
       "            {\"showLink\": true, \"linkText\": \"Export to plot.ly\"}\n",
       "        ).then(function () {return Plotly.addFrames('97154635-5882-4851-993e-16db7084eae9',{});}).then(function(){Plotly.animate('97154635-5882-4851-993e-16db7084eae9');})\n",
       "        });</script>"
      ],
      "text/vnd.plotly.v1+html": [
       "<div id=\"97154635-5882-4851-993e-16db7084eae9\" style=\"height: 525px; width: 100%;\" class=\"plotly-graph-div\"></div><script type=\"text/javascript\">require([\"plotly\"], function(Plotly) { window.PLOTLYENV=window.PLOTLYENV || {};window.PLOTLYENV.BASE_URL=\"https://plot.ly\";\n",
       "        Plotly.plot(\n",
       "            '97154635-5882-4851-993e-16db7084eae9',\n",
       "            [{\"name\": \"24h\\u62c6\\u5206\\u8fc7\\u6ee4\\u7387\", \"x\": [\"8\", \"9\"], \"y\": [0.3448275862068966, 0.21052631578947367], \"type\": \"scatter\", \"uid\": \"1d40f282-c22b-11e8-8e00-a81e84e6c740\"}, {\"name\": \"48h\\u62c6\\u5206\\u8fc7\\u6ee4\\u7387\", \"x\": [\"8\", \"9\"], \"y\": [0.4827586206896552, 0.3684210526315789], \"type\": \"scatter\", \"uid\": \"1d40f674-c22b-11e8-8e00-a81e84e6c740\"}],\n",
       "            {\"title\": \"24h\\u62c6\\u5206\\u8fc7\\u6ee4\\u7387&48h\\u62c6\\u5206\\u8fc7\\u6ee4\\u7387\\u6708\\u8d8b\\u52bf\\u56fe\", \"xaxis\": {\"mirror\": \"all\", \"nticks\": 20, \"showgrid\": true, \"showline\": true, \"title\": \"\\u6708\", \"zeroline\": true}, \"yaxis\": {\"mirror\": \"all\", \"nticks\": 20, \"showgrid\": true, \"showline\": true, \"title\": \"24h\\u62c6\\u5206\\u8fc7\\u6ee4\\u7387&48h\\u62c6\\u5206\\u8fc7\\u6ee4\\u7387\", \"zeroline\": true}},\n",
       "            {\"showLink\": true, \"linkText\": \"Export to plot.ly\"}\n",
       "        ).then(function () {return Plotly.addFrames('97154635-5882-4851-993e-16db7084eae9',{});}).then(function(){Plotly.animate('97154635-5882-4851-993e-16db7084eae9');})\n",
       "        });</script>"
      ]
     },
     "metadata": {},
     "output_type": "display_data"
    }
   ],
   "source": [
    "data_dict = {'24h拆分过滤率':['24h完成批次数', '下机批次数'], '48h拆分过滤率':['48h完成批次数', '下机批次数']}\n",
    "myModule.plot( all_dict, data_dict, '人员' ,  'line' , all='all')"
   ]
  },
  {
   "cell_type": "markdown",
   "metadata": {},
   "source": [
    "#### 平均反馈时长"
   ]
  },
  {
   "cell_type": "code",
   "execution_count": 24,
   "metadata": {},
   "outputs": [
    {
     "data": {
      "application/vnd.plotly.v1+json": {
       "data": [
        {
         "name": "平均反馈时长",
         "type": "scatter",
         "uid": "1d7d9e80-c22b-11e8-8e00-a81e84e6c740",
         "x": [
          "8-1",
          "8-2",
          "8-3",
          "8-4",
          "8-5",
          "9-1",
          "9-2"
         ],
         "y": [
          6,
          0,
          49.220000000000006,
          18.07,
          54.23,
          22.200000000000003,
          11.26
         ]
        }
       ],
       "layout": {
        "title": "平均反馈时长周趋势图",
        "xaxis": {
         "mirror": "all",
         "nticks": 20,
         "showgrid": true,
         "showline": true,
         "title": "周",
         "zeroline": true
        },
        "yaxis": {
         "mirror": "all",
         "nticks": 20,
         "showgrid": true,
         "showline": true,
         "title": "平均反馈时长",
         "zeroline": true
        }
       }
      },
      "text/html": [
       "<div id=\"024b760a-68b7-4222-b1d1-69a866b1c2df\" style=\"height: 525px; width: 100%;\" class=\"plotly-graph-div\"></div><script type=\"text/javascript\">require([\"plotly\"], function(Plotly) { window.PLOTLYENV=window.PLOTLYENV || {};window.PLOTLYENV.BASE_URL=\"https://plot.ly\";\n",
       "        Plotly.plot(\n",
       "            '024b760a-68b7-4222-b1d1-69a866b1c2df',\n",
       "            [{\"name\": \"\\u5e73\\u5747\\u53cd\\u9988\\u65f6\\u957f\", \"x\": [\"8-1\", \"8-2\", \"8-3\", \"8-4\", \"8-5\", \"9-1\", \"9-2\"], \"y\": [6.0, 0.0, 49.220000000000006, 18.07, 54.23, 22.200000000000003, 11.26], \"type\": \"scatter\", \"uid\": \"1d7d9e80-c22b-11e8-8e00-a81e84e6c740\"}],\n",
       "            {\"title\": \"\\u5e73\\u5747\\u53cd\\u9988\\u65f6\\u957f\\u5468\\u8d8b\\u52bf\\u56fe\", \"xaxis\": {\"mirror\": \"all\", \"nticks\": 20, \"showgrid\": true, \"showline\": true, \"title\": \"\\u5468\", \"zeroline\": true}, \"yaxis\": {\"mirror\": \"all\", \"nticks\": 20, \"showgrid\": true, \"showline\": true, \"title\": \"\\u5e73\\u5747\\u53cd\\u9988\\u65f6\\u957f\", \"zeroline\": true}},\n",
       "            {\"showLink\": true, \"linkText\": \"Export to plot.ly\"}\n",
       "        ).then(function () {return Plotly.addFrames('024b760a-68b7-4222-b1d1-69a866b1c2df',{});}).then(function(){Plotly.animate('024b760a-68b7-4222-b1d1-69a866b1c2df');})\n",
       "        });</script>"
      ],
      "text/vnd.plotly.v1+html": [
       "<div id=\"024b760a-68b7-4222-b1d1-69a866b1c2df\" style=\"height: 525px; width: 100%;\" class=\"plotly-graph-div\"></div><script type=\"text/javascript\">require([\"plotly\"], function(Plotly) { window.PLOTLYENV=window.PLOTLYENV || {};window.PLOTLYENV.BASE_URL=\"https://plot.ly\";\n",
       "        Plotly.plot(\n",
       "            '024b760a-68b7-4222-b1d1-69a866b1c2df',\n",
       "            [{\"name\": \"\\u5e73\\u5747\\u53cd\\u9988\\u65f6\\u957f\", \"x\": [\"8-1\", \"8-2\", \"8-3\", \"8-4\", \"8-5\", \"9-1\", \"9-2\"], \"y\": [6.0, 0.0, 49.220000000000006, 18.07, 54.23, 22.200000000000003, 11.26], \"type\": \"scatter\", \"uid\": \"1d7d9e80-c22b-11e8-8e00-a81e84e6c740\"}],\n",
       "            {\"title\": \"\\u5e73\\u5747\\u53cd\\u9988\\u65f6\\u957f\\u5468\\u8d8b\\u52bf\\u56fe\", \"xaxis\": {\"mirror\": \"all\", \"nticks\": 20, \"showgrid\": true, \"showline\": true, \"title\": \"\\u5468\", \"zeroline\": true}, \"yaxis\": {\"mirror\": \"all\", \"nticks\": 20, \"showgrid\": true, \"showline\": true, \"title\": \"\\u5e73\\u5747\\u53cd\\u9988\\u65f6\\u957f\", \"zeroline\": true}},\n",
       "            {\"showLink\": true, \"linkText\": \"Export to plot.ly\"}\n",
       "        ).then(function () {return Plotly.addFrames('024b760a-68b7-4222-b1d1-69a866b1c2df',{});}).then(function(){Plotly.animate('024b760a-68b7-4222-b1d1-69a866b1c2df');})\n",
       "        });</script>"
      ]
     },
     "metadata": {},
     "output_type": "display_data"
    },
    {
     "data": {
      "application/vnd.plotly.v1+json": {
       "data": [
        {
         "name": "平均反馈时长",
         "type": "scatter",
         "uid": "1d87095c-c22b-11e8-8e00-a81e84e6c740",
         "x": [
          "8",
          "9"
         ],
         "y": [
          127.52000000000001,
          33.46
         ]
        }
       ],
       "layout": {
        "title": "平均反馈时长月趋势图",
        "xaxis": {
         "mirror": "all",
         "nticks": 20,
         "showgrid": true,
         "showline": true,
         "title": "月",
         "zeroline": true
        },
        "yaxis": {
         "mirror": "all",
         "nticks": 20,
         "showgrid": true,
         "showline": true,
         "title": "平均反馈时长",
         "zeroline": true
        }
       }
      },
      "text/html": [
       "<div id=\"685996e4-bef5-4a57-b035-eaae00efd162\" style=\"height: 525px; width: 100%;\" class=\"plotly-graph-div\"></div><script type=\"text/javascript\">require([\"plotly\"], function(Plotly) { window.PLOTLYENV=window.PLOTLYENV || {};window.PLOTLYENV.BASE_URL=\"https://plot.ly\";\n",
       "        Plotly.plot(\n",
       "            '685996e4-bef5-4a57-b035-eaae00efd162',\n",
       "            [{\"name\": \"\\u5e73\\u5747\\u53cd\\u9988\\u65f6\\u957f\", \"x\": [\"8\", \"9\"], \"y\": [127.52000000000001, 33.46], \"type\": \"scatter\", \"uid\": \"1d87095c-c22b-11e8-8e00-a81e84e6c740\"}],\n",
       "            {\"title\": \"\\u5e73\\u5747\\u53cd\\u9988\\u65f6\\u957f\\u6708\\u8d8b\\u52bf\\u56fe\", \"xaxis\": {\"mirror\": \"all\", \"nticks\": 20, \"showgrid\": true, \"showline\": true, \"title\": \"\\u6708\", \"zeroline\": true}, \"yaxis\": {\"mirror\": \"all\", \"nticks\": 20, \"showgrid\": true, \"showline\": true, \"title\": \"\\u5e73\\u5747\\u53cd\\u9988\\u65f6\\u957f\", \"zeroline\": true}},\n",
       "            {\"showLink\": true, \"linkText\": \"Export to plot.ly\"}\n",
       "        ).then(function () {return Plotly.addFrames('685996e4-bef5-4a57-b035-eaae00efd162',{});}).then(function(){Plotly.animate('685996e4-bef5-4a57-b035-eaae00efd162');})\n",
       "        });</script>"
      ],
      "text/vnd.plotly.v1+html": [
       "<div id=\"685996e4-bef5-4a57-b035-eaae00efd162\" style=\"height: 525px; width: 100%;\" class=\"plotly-graph-div\"></div><script type=\"text/javascript\">require([\"plotly\"], function(Plotly) { window.PLOTLYENV=window.PLOTLYENV || {};window.PLOTLYENV.BASE_URL=\"https://plot.ly\";\n",
       "        Plotly.plot(\n",
       "            '685996e4-bef5-4a57-b035-eaae00efd162',\n",
       "            [{\"name\": \"\\u5e73\\u5747\\u53cd\\u9988\\u65f6\\u957f\", \"x\": [\"8\", \"9\"], \"y\": [127.52000000000001, 33.46], \"type\": \"scatter\", \"uid\": \"1d87095c-c22b-11e8-8e00-a81e84e6c740\"}],\n",
       "            {\"title\": \"\\u5e73\\u5747\\u53cd\\u9988\\u65f6\\u957f\\u6708\\u8d8b\\u52bf\\u56fe\", \"xaxis\": {\"mirror\": \"all\", \"nticks\": 20, \"showgrid\": true, \"showline\": true, \"title\": \"\\u6708\", \"zeroline\": true}, \"yaxis\": {\"mirror\": \"all\", \"nticks\": 20, \"showgrid\": true, \"showline\": true, \"title\": \"\\u5e73\\u5747\\u53cd\\u9988\\u65f6\\u957f\", \"zeroline\": true}},\n",
       "            {\"showLink\": true, \"linkText\": \"Export to plot.ly\"}\n",
       "        ).then(function () {return Plotly.addFrames('685996e4-bef5-4a57-b035-eaae00efd162',{});}).then(function(){Plotly.animate('685996e4-bef5-4a57-b035-eaae00efd162');})\n",
       "        });</script>"
      ]
     },
     "metadata": {},
     "output_type": "display_data"
    }
   ],
   "source": [
    "data_dict = {'平均反馈时长':['平均反馈时长']}\n",
    "myModule.plot( all_dict, data_dict, '人员' ,  'line' , all='all')"
   ]
  },
  {
   "cell_type": "markdown",
   "metadata": {},
   "source": [
    "### 异常"
   ]
  },
  {
   "cell_type": "markdown",
   "metadata": {},
   "source": [
    "#### 个性化过滤"
   ]
  },
  {
   "cell_type": "code",
   "execution_count": 25,
   "metadata": {},
   "outputs": [
    {
     "data": {
      "application/vnd.plotly.v1+json": {
       "data": [
        {
         "name": "个性化数",
         "type": "bar",
         "uid": "1f1a6098-c22b-11e8-8e00-a81e84e6c740",
         "x": [
          "8-1",
          "8-2",
          "8-3",
          "8-4",
          "8-5",
          "9-1",
          "9-2"
         ],
         "y": [
          6,
          0,
          0,
          0,
          1,
          2,
          0
         ]
        }
       ],
       "layout": {
        "title": "个性化数周趋势图",
        "xaxis": {
         "mirror": "all",
         "nticks": 20,
         "showgrid": true,
         "showline": true,
         "title": "周",
         "zeroline": true
        },
        "yaxis": {
         "mirror": "all",
         "nticks": 20,
         "showgrid": true,
         "showline": true,
         "title": "个性化数",
         "zeroline": true
        }
       }
      },
      "text/html": [
       "<div id=\"bf4e4b9a-1aec-4674-8341-8ade684f71b3\" style=\"height: 525px; width: 100%;\" class=\"plotly-graph-div\"></div><script type=\"text/javascript\">require([\"plotly\"], function(Plotly) { window.PLOTLYENV=window.PLOTLYENV || {};window.PLOTLYENV.BASE_URL=\"https://plot.ly\";\n",
       "        Plotly.plot(\n",
       "            'bf4e4b9a-1aec-4674-8341-8ade684f71b3',\n",
       "            [{\"name\": \"\\u4e2a\\u6027\\u5316\\u6570\", \"x\": [\"8-1\", \"8-2\", \"8-3\", \"8-4\", \"8-5\", \"9-1\", \"9-2\"], \"y\": [6.0, 0.0, 0.0, 0.0, 1.0, 2.0, 0.0], \"type\": \"bar\", \"uid\": \"1f1a6098-c22b-11e8-8e00-a81e84e6c740\"}],\n",
       "            {\"title\": \"\\u4e2a\\u6027\\u5316\\u6570\\u5468\\u8d8b\\u52bf\\u56fe\", \"xaxis\": {\"mirror\": \"all\", \"nticks\": 20, \"showgrid\": true, \"showline\": true, \"title\": \"\\u5468\", \"zeroline\": true}, \"yaxis\": {\"mirror\": \"all\", \"nticks\": 20, \"showgrid\": true, \"showline\": true, \"title\": \"\\u4e2a\\u6027\\u5316\\u6570\", \"zeroline\": true}},\n",
       "            {\"showLink\": true, \"linkText\": \"Export to plot.ly\"}\n",
       "        ).then(function () {return Plotly.addFrames('bf4e4b9a-1aec-4674-8341-8ade684f71b3',{});}).then(function(){Plotly.animate('bf4e4b9a-1aec-4674-8341-8ade684f71b3');})\n",
       "        });</script>"
      ],
      "text/vnd.plotly.v1+html": [
       "<div id=\"bf4e4b9a-1aec-4674-8341-8ade684f71b3\" style=\"height: 525px; width: 100%;\" class=\"plotly-graph-div\"></div><script type=\"text/javascript\">require([\"plotly\"], function(Plotly) { window.PLOTLYENV=window.PLOTLYENV || {};window.PLOTLYENV.BASE_URL=\"https://plot.ly\";\n",
       "        Plotly.plot(\n",
       "            'bf4e4b9a-1aec-4674-8341-8ade684f71b3',\n",
       "            [{\"name\": \"\\u4e2a\\u6027\\u5316\\u6570\", \"x\": [\"8-1\", \"8-2\", \"8-3\", \"8-4\", \"8-5\", \"9-1\", \"9-2\"], \"y\": [6.0, 0.0, 0.0, 0.0, 1.0, 2.0, 0.0], \"type\": \"bar\", \"uid\": \"1f1a6098-c22b-11e8-8e00-a81e84e6c740\"}],\n",
       "            {\"title\": \"\\u4e2a\\u6027\\u5316\\u6570\\u5468\\u8d8b\\u52bf\\u56fe\", \"xaxis\": {\"mirror\": \"all\", \"nticks\": 20, \"showgrid\": true, \"showline\": true, \"title\": \"\\u5468\", \"zeroline\": true}, \"yaxis\": {\"mirror\": \"all\", \"nticks\": 20, \"showgrid\": true, \"showline\": true, \"title\": \"\\u4e2a\\u6027\\u5316\\u6570\", \"zeroline\": true}},\n",
       "            {\"showLink\": true, \"linkText\": \"Export to plot.ly\"}\n",
       "        ).then(function () {return Plotly.addFrames('bf4e4b9a-1aec-4674-8341-8ade684f71b3',{});}).then(function(){Plotly.animate('bf4e4b9a-1aec-4674-8341-8ade684f71b3');})\n",
       "        });</script>"
      ]
     },
     "metadata": {},
     "output_type": "display_data"
    },
    {
     "data": {
      "application/vnd.plotly.v1+json": {
       "data": [
        {
         "name": "个性化数",
         "type": "bar",
         "uid": "1f2e6700-c22b-11e8-8e00-a81e84e6c740",
         "x": [
          "8",
          "9"
         ],
         "y": [
          7,
          2
         ]
        }
       ],
       "layout": {
        "title": "个性化数月趋势图",
        "xaxis": {
         "mirror": "all",
         "nticks": 20,
         "showgrid": true,
         "showline": true,
         "title": "月",
         "zeroline": true
        },
        "yaxis": {
         "mirror": "all",
         "nticks": 20,
         "showgrid": true,
         "showline": true,
         "title": "个性化数",
         "zeroline": true
        }
       }
      },
      "text/html": [
       "<div id=\"d91b1962-d874-45d7-b70d-39f5db8174de\" style=\"height: 525px; width: 100%;\" class=\"plotly-graph-div\"></div><script type=\"text/javascript\">require([\"plotly\"], function(Plotly) { window.PLOTLYENV=window.PLOTLYENV || {};window.PLOTLYENV.BASE_URL=\"https://plot.ly\";\n",
       "        Plotly.plot(\n",
       "            'd91b1962-d874-45d7-b70d-39f5db8174de',\n",
       "            [{\"name\": \"\\u4e2a\\u6027\\u5316\\u6570\", \"x\": [\"8\", \"9\"], \"y\": [7.0, 2.0], \"type\": \"bar\", \"uid\": \"1f2e6700-c22b-11e8-8e00-a81e84e6c740\"}],\n",
       "            {\"title\": \"\\u4e2a\\u6027\\u5316\\u6570\\u6708\\u8d8b\\u52bf\\u56fe\", \"xaxis\": {\"mirror\": \"all\", \"nticks\": 20, \"showgrid\": true, \"showline\": true, \"title\": \"\\u6708\", \"zeroline\": true}, \"yaxis\": {\"mirror\": \"all\", \"nticks\": 20, \"showgrid\": true, \"showline\": true, \"title\": \"\\u4e2a\\u6027\\u5316\\u6570\", \"zeroline\": true}},\n",
       "            {\"showLink\": true, \"linkText\": \"Export to plot.ly\"}\n",
       "        ).then(function () {return Plotly.addFrames('d91b1962-d874-45d7-b70d-39f5db8174de',{});}).then(function(){Plotly.animate('d91b1962-d874-45d7-b70d-39f5db8174de');})\n",
       "        });</script>"
      ],
      "text/vnd.plotly.v1+html": [
       "<div id=\"d91b1962-d874-45d7-b70d-39f5db8174de\" style=\"height: 525px; width: 100%;\" class=\"plotly-graph-div\"></div><script type=\"text/javascript\">require([\"plotly\"], function(Plotly) { window.PLOTLYENV=window.PLOTLYENV || {};window.PLOTLYENV.BASE_URL=\"https://plot.ly\";\n",
       "        Plotly.plot(\n",
       "            'd91b1962-d874-45d7-b70d-39f5db8174de',\n",
       "            [{\"name\": \"\\u4e2a\\u6027\\u5316\\u6570\", \"x\": [\"8\", \"9\"], \"y\": [7.0, 2.0], \"type\": \"bar\", \"uid\": \"1f2e6700-c22b-11e8-8e00-a81e84e6c740\"}],\n",
       "            {\"title\": \"\\u4e2a\\u6027\\u5316\\u6570\\u6708\\u8d8b\\u52bf\\u56fe\", \"xaxis\": {\"mirror\": \"all\", \"nticks\": 20, \"showgrid\": true, \"showline\": true, \"title\": \"\\u6708\", \"zeroline\": true}, \"yaxis\": {\"mirror\": \"all\", \"nticks\": 20, \"showgrid\": true, \"showline\": true, \"title\": \"\\u4e2a\\u6027\\u5316\\u6570\", \"zeroline\": true}},\n",
       "            {\"showLink\": true, \"linkText\": \"Export to plot.ly\"}\n",
       "        ).then(function () {return Plotly.addFrames('d91b1962-d874-45d7-b70d-39f5db8174de',{});}).then(function(){Plotly.animate('d91b1962-d874-45d7-b70d-39f5db8174de');})\n",
       "        });</script>"
      ]
     },
     "metadata": {},
     "output_type": "display_data"
    }
   ],
   "source": [
    "data_dict = {'个性化数':['个性化数']}\n",
    "myModule.plot( all_dict, data_dict, '人员' ,  'bar' , all='all')"
   ]
  },
  {
   "cell_type": "markdown",
   "metadata": {},
   "source": [
    "#### lims异常数和下单错误数"
   ]
  },
  {
   "cell_type": "code",
   "execution_count": 26,
   "metadata": {},
   "outputs": [
    {
     "data": {
      "application/vnd.plotly.v1+json": {
       "data": [
        {
         "name": "lims异常数",
         "type": "scatter",
         "uid": "1f74b07a-c22b-11e8-8e00-a81e84e6c740",
         "x": [
          "8-1",
          "8-2",
          "8-3",
          "8-4",
          "8-5",
          "9-1",
          "9-2"
         ],
         "y": [
          6,
          0,
          0,
          0,
          0,
          0,
          0
         ]
        },
        {
         "name": "下单错误数",
         "type": "scatter",
         "uid": "1f74b732-c22b-11e8-8e00-a81e84e6c740",
         "x": [
          "8-1",
          "8-2",
          "8-3",
          "8-4",
          "8-5",
          "9-1",
          "9-2"
         ],
         "y": [
          6,
          0,
          0,
          0,
          0,
          0,
          0
         ]
        }
       ],
       "layout": {
        "title": "lims异常数&下单错误数周趋势图",
        "xaxis": {
         "mirror": "all",
         "nticks": 20,
         "showgrid": true,
         "showline": true,
         "title": "周",
         "zeroline": true
        },
        "yaxis": {
         "mirror": "all",
         "nticks": 20,
         "showgrid": true,
         "showline": true,
         "title": "lims异常数&下单错误数",
         "zeroline": true
        }
       }
      },
      "text/html": [
       "<div id=\"82bfd453-9bbf-49b6-aafc-4f820f508c06\" style=\"height: 525px; width: 100%;\" class=\"plotly-graph-div\"></div><script type=\"text/javascript\">require([\"plotly\"], function(Plotly) { window.PLOTLYENV=window.PLOTLYENV || {};window.PLOTLYENV.BASE_URL=\"https://plot.ly\";\n",
       "        Plotly.plot(\n",
       "            '82bfd453-9bbf-49b6-aafc-4f820f508c06',\n",
       "            [{\"name\": \"lims\\u5f02\\u5e38\\u6570\", \"x\": [\"8-1\", \"8-2\", \"8-3\", \"8-4\", \"8-5\", \"9-1\", \"9-2\"], \"y\": [6.0, 0.0, 0.0, 0.0, 0.0, 0.0, 0.0], \"type\": \"scatter\", \"uid\": \"1f74b07a-c22b-11e8-8e00-a81e84e6c740\"}, {\"name\": \"\\u4e0b\\u5355\\u9519\\u8bef\\u6570\", \"x\": [\"8-1\", \"8-2\", \"8-3\", \"8-4\", \"8-5\", \"9-1\", \"9-2\"], \"y\": [6.0, 0.0, 0.0, 0.0, 0.0, 0.0, 0.0], \"type\": \"scatter\", \"uid\": \"1f74b732-c22b-11e8-8e00-a81e84e6c740\"}],\n",
       "            {\"title\": \"lims\\u5f02\\u5e38\\u6570&\\u4e0b\\u5355\\u9519\\u8bef\\u6570\\u5468\\u8d8b\\u52bf\\u56fe\", \"xaxis\": {\"mirror\": \"all\", \"nticks\": 20, \"showgrid\": true, \"showline\": true, \"title\": \"\\u5468\", \"zeroline\": true}, \"yaxis\": {\"mirror\": \"all\", \"nticks\": 20, \"showgrid\": true, \"showline\": true, \"title\": \"lims\\u5f02\\u5e38\\u6570&\\u4e0b\\u5355\\u9519\\u8bef\\u6570\", \"zeroline\": true}},\n",
       "            {\"showLink\": true, \"linkText\": \"Export to plot.ly\"}\n",
       "        ).then(function () {return Plotly.addFrames('82bfd453-9bbf-49b6-aafc-4f820f508c06',{});}).then(function(){Plotly.animate('82bfd453-9bbf-49b6-aafc-4f820f508c06');})\n",
       "        });</script>"
      ],
      "text/vnd.plotly.v1+html": [
       "<div id=\"82bfd453-9bbf-49b6-aafc-4f820f508c06\" style=\"height: 525px; width: 100%;\" class=\"plotly-graph-div\"></div><script type=\"text/javascript\">require([\"plotly\"], function(Plotly) { window.PLOTLYENV=window.PLOTLYENV || {};window.PLOTLYENV.BASE_URL=\"https://plot.ly\";\n",
       "        Plotly.plot(\n",
       "            '82bfd453-9bbf-49b6-aafc-4f820f508c06',\n",
       "            [{\"name\": \"lims\\u5f02\\u5e38\\u6570\", \"x\": [\"8-1\", \"8-2\", \"8-3\", \"8-4\", \"8-5\", \"9-1\", \"9-2\"], \"y\": [6.0, 0.0, 0.0, 0.0, 0.0, 0.0, 0.0], \"type\": \"scatter\", \"uid\": \"1f74b07a-c22b-11e8-8e00-a81e84e6c740\"}, {\"name\": \"\\u4e0b\\u5355\\u9519\\u8bef\\u6570\", \"x\": [\"8-1\", \"8-2\", \"8-3\", \"8-4\", \"8-5\", \"9-1\", \"9-2\"], \"y\": [6.0, 0.0, 0.0, 0.0, 0.0, 0.0, 0.0], \"type\": \"scatter\", \"uid\": \"1f74b732-c22b-11e8-8e00-a81e84e6c740\"}],\n",
       "            {\"title\": \"lims\\u5f02\\u5e38\\u6570&\\u4e0b\\u5355\\u9519\\u8bef\\u6570\\u5468\\u8d8b\\u52bf\\u56fe\", \"xaxis\": {\"mirror\": \"all\", \"nticks\": 20, \"showgrid\": true, \"showline\": true, \"title\": \"\\u5468\", \"zeroline\": true}, \"yaxis\": {\"mirror\": \"all\", \"nticks\": 20, \"showgrid\": true, \"showline\": true, \"title\": \"lims\\u5f02\\u5e38\\u6570&\\u4e0b\\u5355\\u9519\\u8bef\\u6570\", \"zeroline\": true}},\n",
       "            {\"showLink\": true, \"linkText\": \"Export to plot.ly\"}\n",
       "        ).then(function () {return Plotly.addFrames('82bfd453-9bbf-49b6-aafc-4f820f508c06',{});}).then(function(){Plotly.animate('82bfd453-9bbf-49b6-aafc-4f820f508c06');})\n",
       "        });</script>"
      ]
     },
     "metadata": {},
     "output_type": "display_data"
    },
    {
     "data": {
      "application/vnd.plotly.v1+json": {
       "data": [
        {
         "name": "lims异常数",
         "type": "scatter",
         "uid": "1f827aac-c22b-11e8-8e00-a81e84e6c740",
         "x": [
          "8",
          "9"
         ],
         "y": [
          6,
          0
         ]
        },
        {
         "name": "下单错误数",
         "type": "scatter",
         "uid": "1f82877c-c22b-11e8-8e00-a81e84e6c740",
         "x": [
          "8",
          "9"
         ],
         "y": [
          6,
          0
         ]
        }
       ],
       "layout": {
        "title": "lims异常数&下单错误数月趋势图",
        "xaxis": {
         "mirror": "all",
         "nticks": 20,
         "showgrid": true,
         "showline": true,
         "title": "月",
         "zeroline": true
        },
        "yaxis": {
         "mirror": "all",
         "nticks": 20,
         "showgrid": true,
         "showline": true,
         "title": "lims异常数&下单错误数",
         "zeroline": true
        }
       }
      },
      "text/html": [
       "<div id=\"ece8f7fc-1e9f-40ba-8a91-4c4f40aaba36\" style=\"height: 525px; width: 100%;\" class=\"plotly-graph-div\"></div><script type=\"text/javascript\">require([\"plotly\"], function(Plotly) { window.PLOTLYENV=window.PLOTLYENV || {};window.PLOTLYENV.BASE_URL=\"https://plot.ly\";\n",
       "        Plotly.plot(\n",
       "            'ece8f7fc-1e9f-40ba-8a91-4c4f40aaba36',\n",
       "            [{\"name\": \"lims\\u5f02\\u5e38\\u6570\", \"x\": [\"8\", \"9\"], \"y\": [6.0, 0.0], \"type\": \"scatter\", \"uid\": \"1f827aac-c22b-11e8-8e00-a81e84e6c740\"}, {\"name\": \"\\u4e0b\\u5355\\u9519\\u8bef\\u6570\", \"x\": [\"8\", \"9\"], \"y\": [6.0, 0.0], \"type\": \"scatter\", \"uid\": \"1f82877c-c22b-11e8-8e00-a81e84e6c740\"}],\n",
       "            {\"title\": \"lims\\u5f02\\u5e38\\u6570&\\u4e0b\\u5355\\u9519\\u8bef\\u6570\\u6708\\u8d8b\\u52bf\\u56fe\", \"xaxis\": {\"mirror\": \"all\", \"nticks\": 20, \"showgrid\": true, \"showline\": true, \"title\": \"\\u6708\", \"zeroline\": true}, \"yaxis\": {\"mirror\": \"all\", \"nticks\": 20, \"showgrid\": true, \"showline\": true, \"title\": \"lims\\u5f02\\u5e38\\u6570&\\u4e0b\\u5355\\u9519\\u8bef\\u6570\", \"zeroline\": true}},\n",
       "            {\"showLink\": true, \"linkText\": \"Export to plot.ly\"}\n",
       "        ).then(function () {return Plotly.addFrames('ece8f7fc-1e9f-40ba-8a91-4c4f40aaba36',{});}).then(function(){Plotly.animate('ece8f7fc-1e9f-40ba-8a91-4c4f40aaba36');})\n",
       "        });</script>"
      ],
      "text/vnd.plotly.v1+html": [
       "<div id=\"ece8f7fc-1e9f-40ba-8a91-4c4f40aaba36\" style=\"height: 525px; width: 100%;\" class=\"plotly-graph-div\"></div><script type=\"text/javascript\">require([\"plotly\"], function(Plotly) { window.PLOTLYENV=window.PLOTLYENV || {};window.PLOTLYENV.BASE_URL=\"https://plot.ly\";\n",
       "        Plotly.plot(\n",
       "            'ece8f7fc-1e9f-40ba-8a91-4c4f40aaba36',\n",
       "            [{\"name\": \"lims\\u5f02\\u5e38\\u6570\", \"x\": [\"8\", \"9\"], \"y\": [6.0, 0.0], \"type\": \"scatter\", \"uid\": \"1f827aac-c22b-11e8-8e00-a81e84e6c740\"}, {\"name\": \"\\u4e0b\\u5355\\u9519\\u8bef\\u6570\", \"x\": [\"8\", \"9\"], \"y\": [6.0, 0.0], \"type\": \"scatter\", \"uid\": \"1f82877c-c22b-11e8-8e00-a81e84e6c740\"}],\n",
       "            {\"title\": \"lims\\u5f02\\u5e38\\u6570&\\u4e0b\\u5355\\u9519\\u8bef\\u6570\\u6708\\u8d8b\\u52bf\\u56fe\", \"xaxis\": {\"mirror\": \"all\", \"nticks\": 20, \"showgrid\": true, \"showline\": true, \"title\": \"\\u6708\", \"zeroline\": true}, \"yaxis\": {\"mirror\": \"all\", \"nticks\": 20, \"showgrid\": true, \"showline\": true, \"title\": \"lims\\u5f02\\u5e38\\u6570&\\u4e0b\\u5355\\u9519\\u8bef\\u6570\", \"zeroline\": true}},\n",
       "            {\"showLink\": true, \"linkText\": \"Export to plot.ly\"}\n",
       "        ).then(function () {return Plotly.addFrames('ece8f7fc-1e9f-40ba-8a91-4c4f40aaba36',{});}).then(function(){Plotly.animate('ece8f7fc-1e9f-40ba-8a91-4c4f40aaba36');})\n",
       "        });</script>"
      ]
     },
     "metadata": {},
     "output_type": "display_data"
    }
   ],
   "source": [
    "data_dict = {'lims异常数':['lims异常数'], '下单错误数':['下单错误数']}\n",
    "myModule.plot( all_dict, data_dict, '人员' ,  'line' , all='all')"
   ]
  },
  {
   "cell_type": "markdown",
   "metadata": {},
   "source": [
    "#### 过滤流程异常数"
   ]
  },
  {
   "cell_type": "code",
   "execution_count": 27,
   "metadata": {},
   "outputs": [
    {
     "data": {
      "application/vnd.plotly.v1+json": {
       "data": [
        {
         "name": "过滤流程异常数",
         "type": "scatter",
         "uid": "1fb5dafa-c22b-11e8-8e00-a81e84e6c740",
         "x": [
          "8-1",
          "8-2",
          "8-3",
          "8-4",
          "8-5",
          "9-1",
          "9-2"
         ],
         "y": [
          6,
          0,
          0,
          0,
          0,
          0,
          0
         ]
        }
       ],
       "layout": {
        "title": "过滤流程异常数周趋势图",
        "xaxis": {
         "mirror": "all",
         "nticks": 20,
         "showgrid": true,
         "showline": true,
         "title": "周",
         "zeroline": true
        },
        "yaxis": {
         "mirror": "all",
         "nticks": 20,
         "showgrid": true,
         "showline": true,
         "title": "过滤流程异常数",
         "zeroline": true
        }
       }
      },
      "text/html": [
       "<div id=\"8b6bbcee-9186-49f0-9111-dfeb8066a8c8\" style=\"height: 525px; width: 100%;\" class=\"plotly-graph-div\"></div><script type=\"text/javascript\">require([\"plotly\"], function(Plotly) { window.PLOTLYENV=window.PLOTLYENV || {};window.PLOTLYENV.BASE_URL=\"https://plot.ly\";\n",
       "        Plotly.plot(\n",
       "            '8b6bbcee-9186-49f0-9111-dfeb8066a8c8',\n",
       "            [{\"name\": \"\\u8fc7\\u6ee4\\u6d41\\u7a0b\\u5f02\\u5e38\\u6570\", \"x\": [\"8-1\", \"8-2\", \"8-3\", \"8-4\", \"8-5\", \"9-1\", \"9-2\"], \"y\": [6.0, 0.0, 0.0, 0.0, 0.0, 0.0, 0.0], \"type\": \"scatter\", \"uid\": \"1fb5dafa-c22b-11e8-8e00-a81e84e6c740\"}],\n",
       "            {\"title\": \"\\u8fc7\\u6ee4\\u6d41\\u7a0b\\u5f02\\u5e38\\u6570\\u5468\\u8d8b\\u52bf\\u56fe\", \"xaxis\": {\"mirror\": \"all\", \"nticks\": 20, \"showgrid\": true, \"showline\": true, \"title\": \"\\u5468\", \"zeroline\": true}, \"yaxis\": {\"mirror\": \"all\", \"nticks\": 20, \"showgrid\": true, \"showline\": true, \"title\": \"\\u8fc7\\u6ee4\\u6d41\\u7a0b\\u5f02\\u5e38\\u6570\", \"zeroline\": true}},\n",
       "            {\"showLink\": true, \"linkText\": \"Export to plot.ly\"}\n",
       "        ).then(function () {return Plotly.addFrames('8b6bbcee-9186-49f0-9111-dfeb8066a8c8',{});}).then(function(){Plotly.animate('8b6bbcee-9186-49f0-9111-dfeb8066a8c8');})\n",
       "        });</script>"
      ],
      "text/vnd.plotly.v1+html": [
       "<div id=\"8b6bbcee-9186-49f0-9111-dfeb8066a8c8\" style=\"height: 525px; width: 100%;\" class=\"plotly-graph-div\"></div><script type=\"text/javascript\">require([\"plotly\"], function(Plotly) { window.PLOTLYENV=window.PLOTLYENV || {};window.PLOTLYENV.BASE_URL=\"https://plot.ly\";\n",
       "        Plotly.plot(\n",
       "            '8b6bbcee-9186-49f0-9111-dfeb8066a8c8',\n",
       "            [{\"name\": \"\\u8fc7\\u6ee4\\u6d41\\u7a0b\\u5f02\\u5e38\\u6570\", \"x\": [\"8-1\", \"8-2\", \"8-3\", \"8-4\", \"8-5\", \"9-1\", \"9-2\"], \"y\": [6.0, 0.0, 0.0, 0.0, 0.0, 0.0, 0.0], \"type\": \"scatter\", \"uid\": \"1fb5dafa-c22b-11e8-8e00-a81e84e6c740\"}],\n",
       "            {\"title\": \"\\u8fc7\\u6ee4\\u6d41\\u7a0b\\u5f02\\u5e38\\u6570\\u5468\\u8d8b\\u52bf\\u56fe\", \"xaxis\": {\"mirror\": \"all\", \"nticks\": 20, \"showgrid\": true, \"showline\": true, \"title\": \"\\u5468\", \"zeroline\": true}, \"yaxis\": {\"mirror\": \"all\", \"nticks\": 20, \"showgrid\": true, \"showline\": true, \"title\": \"\\u8fc7\\u6ee4\\u6d41\\u7a0b\\u5f02\\u5e38\\u6570\", \"zeroline\": true}},\n",
       "            {\"showLink\": true, \"linkText\": \"Export to plot.ly\"}\n",
       "        ).then(function () {return Plotly.addFrames('8b6bbcee-9186-49f0-9111-dfeb8066a8c8',{});}).then(function(){Plotly.animate('8b6bbcee-9186-49f0-9111-dfeb8066a8c8');})\n",
       "        });</script>"
      ]
     },
     "metadata": {},
     "output_type": "display_data"
    },
    {
     "data": {
      "application/vnd.plotly.v1+json": {
       "data": [
        {
         "name": "过滤流程异常数",
         "type": "scatter",
         "uid": "1fc04a1c-c22b-11e8-8e00-a81e84e6c740",
         "x": [
          "8",
          "9"
         ],
         "y": [
          6,
          0
         ]
        }
       ],
       "layout": {
        "title": "过滤流程异常数月趋势图",
        "xaxis": {
         "mirror": "all",
         "nticks": 20,
         "showgrid": true,
         "showline": true,
         "title": "月",
         "zeroline": true
        },
        "yaxis": {
         "mirror": "all",
         "nticks": 20,
         "showgrid": true,
         "showline": true,
         "title": "过滤流程异常数",
         "zeroline": true
        }
       }
      },
      "text/html": [
       "<div id=\"a9dc9562-df2c-4d91-82c9-2aa4d3bc22fa\" style=\"height: 525px; width: 100%;\" class=\"plotly-graph-div\"></div><script type=\"text/javascript\">require([\"plotly\"], function(Plotly) { window.PLOTLYENV=window.PLOTLYENV || {};window.PLOTLYENV.BASE_URL=\"https://plot.ly\";\n",
       "        Plotly.plot(\n",
       "            'a9dc9562-df2c-4d91-82c9-2aa4d3bc22fa',\n",
       "            [{\"name\": \"\\u8fc7\\u6ee4\\u6d41\\u7a0b\\u5f02\\u5e38\\u6570\", \"x\": [\"8\", \"9\"], \"y\": [6.0, 0.0], \"type\": \"scatter\", \"uid\": \"1fc04a1c-c22b-11e8-8e00-a81e84e6c740\"}],\n",
       "            {\"title\": \"\\u8fc7\\u6ee4\\u6d41\\u7a0b\\u5f02\\u5e38\\u6570\\u6708\\u8d8b\\u52bf\\u56fe\", \"xaxis\": {\"mirror\": \"all\", \"nticks\": 20, \"showgrid\": true, \"showline\": true, \"title\": \"\\u6708\", \"zeroline\": true}, \"yaxis\": {\"mirror\": \"all\", \"nticks\": 20, \"showgrid\": true, \"showline\": true, \"title\": \"\\u8fc7\\u6ee4\\u6d41\\u7a0b\\u5f02\\u5e38\\u6570\", \"zeroline\": true}},\n",
       "            {\"showLink\": true, \"linkText\": \"Export to plot.ly\"}\n",
       "        ).then(function () {return Plotly.addFrames('a9dc9562-df2c-4d91-82c9-2aa4d3bc22fa',{});}).then(function(){Plotly.animate('a9dc9562-df2c-4d91-82c9-2aa4d3bc22fa');})\n",
       "        });</script>"
      ],
      "text/vnd.plotly.v1+html": [
       "<div id=\"a9dc9562-df2c-4d91-82c9-2aa4d3bc22fa\" style=\"height: 525px; width: 100%;\" class=\"plotly-graph-div\"></div><script type=\"text/javascript\">require([\"plotly\"], function(Plotly) { window.PLOTLYENV=window.PLOTLYENV || {};window.PLOTLYENV.BASE_URL=\"https://plot.ly\";\n",
       "        Plotly.plot(\n",
       "            'a9dc9562-df2c-4d91-82c9-2aa4d3bc22fa',\n",
       "            [{\"name\": \"\\u8fc7\\u6ee4\\u6d41\\u7a0b\\u5f02\\u5e38\\u6570\", \"x\": [\"8\", \"9\"], \"y\": [6.0, 0.0], \"type\": \"scatter\", \"uid\": \"1fc04a1c-c22b-11e8-8e00-a81e84e6c740\"}],\n",
       "            {\"title\": \"\\u8fc7\\u6ee4\\u6d41\\u7a0b\\u5f02\\u5e38\\u6570\\u6708\\u8d8b\\u52bf\\u56fe\", \"xaxis\": {\"mirror\": \"all\", \"nticks\": 20, \"showgrid\": true, \"showline\": true, \"title\": \"\\u6708\", \"zeroline\": true}, \"yaxis\": {\"mirror\": \"all\", \"nticks\": 20, \"showgrid\": true, \"showline\": true, \"title\": \"\\u8fc7\\u6ee4\\u6d41\\u7a0b\\u5f02\\u5e38\\u6570\", \"zeroline\": true}},\n",
       "            {\"showLink\": true, \"linkText\": \"Export to plot.ly\"}\n",
       "        ).then(function () {return Plotly.addFrames('a9dc9562-df2c-4d91-82c9-2aa4d3bc22fa',{});}).then(function(){Plotly.animate('a9dc9562-df2c-4d91-82c9-2aa4d3bc22fa');})\n",
       "        });</script>"
      ]
     },
     "metadata": {},
     "output_type": "display_data"
    }
   ],
   "source": [
    "data_dict = {'过滤流程异常数':['过滤流程异常数']}\n",
    "myModule.plot( all_dict, data_dict, '人员' ,  'line' , all='all')"
   ]
  },
  {
   "cell_type": "markdown",
   "metadata": {},
   "source": [
    "## 个人情况"
   ]
  },
  {
   "cell_type": "markdown",
   "metadata": {},
   "source": [
    "### 产能"
   ]
  },
  {
   "cell_type": "markdown",
   "metadata": {},
   "source": [
    "#### 下机批次"
   ]
  },
  {
   "cell_type": "code",
   "execution_count": 28,
   "metadata": {},
   "outputs": [
    {
     "data": {
      "application/vnd.plotly.v1+json": {
       "data": [
        {
         "name": "车天栋_下机批次数",
         "type": "scatter",
         "uid": "201cb2c0-c22b-11e8-8e00-a81e84e6c740",
         "x": [
          "8-1",
          "8-2",
          "8-3",
          "8-4",
          "8-5",
          "9-1",
          "9-2"
         ],
         "y": [
          1,
          0,
          0,
          2,
          3,
          0,
          3
         ]
        },
        {
         "name": "车天栋_下机项目数",
         "type": "scatter",
         "uid": "201cb806-c22b-11e8-8e00-a81e84e6c740",
         "x": [
          "8-1",
          "8-2",
          "8-3",
          "8-4",
          "8-5",
          "9-1",
          "9-2"
         ],
         "y": [
          1,
          0,
          0,
          2,
          3,
          0,
          3
         ]
        },
        {
         "name": "沈立群_下机批次数",
         "type": "scatter",
         "uid": "201cbc34-c22b-11e8-8e00-a81e84e6c740",
         "x": [
          "8-1",
          "8-2",
          "8-3",
          "8-4",
          "8-5",
          "9-1",
          "9-2"
         ],
         "y": [
          1,
          0,
          1,
          5,
          8,
          3,
          2
         ]
        },
        {
         "name": "沈立群_下机项目数",
         "type": "scatter",
         "uid": "201cbffe-c22b-11e8-8e00-a81e84e6c740",
         "x": [
          "8-1",
          "8-2",
          "8-3",
          "8-4",
          "8-5",
          "9-1",
          "9-2"
         ],
         "y": [
          1,
          0,
          1,
          4,
          6,
          2,
          2
         ]
        },
        {
         "name": "王传文_下机批次数",
         "type": "scatter",
         "uid": "201cc3a0-c22b-11e8-8e00-a81e84e6c740",
         "x": [
          "8-1",
          "8-2",
          "8-3",
          "8-4",
          "8-5",
          "9-1",
          "9-2"
         ],
         "y": [
          1,
          0,
          1,
          3,
          2,
          2,
          3
         ]
        },
        {
         "name": "王传文_下机项目数",
         "type": "scatter",
         "uid": "201cc738-c22b-11e8-8e00-a81e84e6c740",
         "x": [
          "8-1",
          "8-2",
          "8-3",
          "8-4",
          "8-5",
          "9-1",
          "9-2"
         ],
         "y": [
          1,
          0,
          1,
          3,
          2,
          2,
          3
         ]
        },
        {
         "name": "林文文_下机批次数",
         "type": "scatter",
         "uid": "201ccabc-c22b-11e8-8e00-a81e84e6c740",
         "x": [
          "8-1",
          "8-2",
          "8-3",
          "8-4",
          "8-5",
          "9-1",
          "9-2"
         ],
         "y": [
          1,
          0,
          2,
          4,
          4,
          2,
          2
         ]
        },
        {
         "name": "林文文_下机项目数",
         "type": "scatter",
         "uid": "201cce4a-c22b-11e8-8e00-a81e84e6c740",
         "x": [
          "8-1",
          "8-2",
          "8-3",
          "8-4",
          "8-5",
          "9-1",
          "9-2"
         ],
         "y": [
          1,
          0,
          2,
          3,
          4,
          2,
          2
         ]
        },
        {
         "name": "高剑_下机批次数",
         "type": "scatter",
         "uid": "201cd1ce-c22b-11e8-8e00-a81e84e6c740",
         "x": [
          "8-1",
          "8-2",
          "8-3",
          "8-4",
          "8-5",
          "9-1",
          "9-2"
         ],
         "y": [
          1,
          0,
          1,
          7,
          1,
          0,
          0
         ]
        },
        {
         "name": "高剑_下机项目数",
         "type": "scatter",
         "uid": "201cd548-c22b-11e8-8e00-a81e84e6c740",
         "x": [
          "8-1",
          "8-2",
          "8-3",
          "8-4",
          "8-5",
          "9-1",
          "9-2"
         ],
         "y": [
          1,
          0,
          1,
          5,
          1,
          0,
          0
         ]
        },
        {
         "name": "沈恩惠_下机批次数",
         "type": "scatter",
         "uid": "201cd8cc-c22b-11e8-8e00-a81e84e6c740",
         "x": [
          "8-1",
          "8-2",
          "8-3",
          "8-4",
          "8-5",
          "9-1",
          "9-2"
         ],
         "y": [
          1,
          0,
          0,
          3,
          5,
          0,
          2
         ]
        },
        {
         "name": "沈恩惠_下机项目数",
         "type": "scatter",
         "uid": "201cdc50-c22b-11e8-8e00-a81e84e6c740",
         "x": [
          "8-1",
          "8-2",
          "8-3",
          "8-4",
          "8-5",
          "9-1",
          "9-2"
         ],
         "y": [
          1,
          0,
          0,
          3,
          5,
          0,
          2
         ]
        }
       ],
       "layout": {
        "title": "下机批次数&下机项目数周趋势图",
        "xaxis": {
         "mirror": "all",
         "nticks": 20,
         "showgrid": true,
         "showline": true,
         "title": "周",
         "zeroline": true
        },
        "yaxis": {
         "mirror": "all",
         "nticks": 20,
         "showgrid": true,
         "showline": true,
         "title": "下机批次数&下机项目数",
         "zeroline": true
        }
       }
      },
      "text/html": [
       "<div id=\"df7beeb9-dab0-4ccf-a479-aec66174756c\" style=\"height: 525px; width: 100%;\" class=\"plotly-graph-div\"></div><script type=\"text/javascript\">require([\"plotly\"], function(Plotly) { window.PLOTLYENV=window.PLOTLYENV || {};window.PLOTLYENV.BASE_URL=\"https://plot.ly\";\n",
       "        Plotly.plot(\n",
       "            'df7beeb9-dab0-4ccf-a479-aec66174756c',\n",
       "            [{\"name\": \"\\u8f66\\u5929\\u680b_\\u4e0b\\u673a\\u6279\\u6b21\\u6570\", \"x\": [\"8-1\", \"8-2\", \"8-3\", \"8-4\", \"8-5\", \"9-1\", \"9-2\"], \"y\": [1.0, 0.0, 0.0, 2.0, 3.0, 0.0, 3.0], \"type\": \"scatter\", \"uid\": \"201cb2c0-c22b-11e8-8e00-a81e84e6c740\"}, {\"name\": \"\\u8f66\\u5929\\u680b_\\u4e0b\\u673a\\u9879\\u76ee\\u6570\", \"x\": [\"8-1\", \"8-2\", \"8-3\", \"8-4\", \"8-5\", \"9-1\", \"9-2\"], \"y\": [1.0, 0.0, 0.0, 2.0, 3.0, 0.0, 3.0], \"type\": \"scatter\", \"uid\": \"201cb806-c22b-11e8-8e00-a81e84e6c740\"}, {\"name\": \"\\u6c88\\u7acb\\u7fa4_\\u4e0b\\u673a\\u6279\\u6b21\\u6570\", \"x\": [\"8-1\", \"8-2\", \"8-3\", \"8-4\", \"8-5\", \"9-1\", \"9-2\"], \"y\": [1.0, 0.0, 1.0, 5.0, 8.0, 3.0, 2.0], \"type\": \"scatter\", \"uid\": \"201cbc34-c22b-11e8-8e00-a81e84e6c740\"}, {\"name\": \"\\u6c88\\u7acb\\u7fa4_\\u4e0b\\u673a\\u9879\\u76ee\\u6570\", \"x\": [\"8-1\", \"8-2\", \"8-3\", \"8-4\", \"8-5\", \"9-1\", \"9-2\"], \"y\": [1.0, 0.0, 1.0, 4.0, 6.0, 2.0, 2.0], \"type\": \"scatter\", \"uid\": \"201cbffe-c22b-11e8-8e00-a81e84e6c740\"}, {\"name\": \"\\u738b\\u4f20\\u6587_\\u4e0b\\u673a\\u6279\\u6b21\\u6570\", \"x\": [\"8-1\", \"8-2\", \"8-3\", \"8-4\", \"8-5\", \"9-1\", \"9-2\"], \"y\": [1.0, 0.0, 1.0, 3.0, 2.0, 2.0, 3.0], \"type\": \"scatter\", \"uid\": \"201cc3a0-c22b-11e8-8e00-a81e84e6c740\"}, {\"name\": \"\\u738b\\u4f20\\u6587_\\u4e0b\\u673a\\u9879\\u76ee\\u6570\", \"x\": [\"8-1\", \"8-2\", \"8-3\", \"8-4\", \"8-5\", \"9-1\", \"9-2\"], \"y\": [1.0, 0.0, 1.0, 3.0, 2.0, 2.0, 3.0], \"type\": \"scatter\", \"uid\": \"201cc738-c22b-11e8-8e00-a81e84e6c740\"}, {\"name\": \"\\u6797\\u6587\\u6587_\\u4e0b\\u673a\\u6279\\u6b21\\u6570\", \"x\": [\"8-1\", \"8-2\", \"8-3\", \"8-4\", \"8-5\", \"9-1\", \"9-2\"], \"y\": [1.0, 0.0, 2.0, 4.0, 4.0, 2.0, 2.0], \"type\": \"scatter\", \"uid\": \"201ccabc-c22b-11e8-8e00-a81e84e6c740\"}, {\"name\": \"\\u6797\\u6587\\u6587_\\u4e0b\\u673a\\u9879\\u76ee\\u6570\", \"x\": [\"8-1\", \"8-2\", \"8-3\", \"8-4\", \"8-5\", \"9-1\", \"9-2\"], \"y\": [1.0, 0.0, 2.0, 3.0, 4.0, 2.0, 2.0], \"type\": \"scatter\", \"uid\": \"201cce4a-c22b-11e8-8e00-a81e84e6c740\"}, {\"name\": \"\\u9ad8\\u5251_\\u4e0b\\u673a\\u6279\\u6b21\\u6570\", \"x\": [\"8-1\", \"8-2\", \"8-3\", \"8-4\", \"8-5\", \"9-1\", \"9-2\"], \"y\": [1.0, 0.0, 1.0, 7.0, 1.0, 0.0, 0.0], \"type\": \"scatter\", \"uid\": \"201cd1ce-c22b-11e8-8e00-a81e84e6c740\"}, {\"name\": \"\\u9ad8\\u5251_\\u4e0b\\u673a\\u9879\\u76ee\\u6570\", \"x\": [\"8-1\", \"8-2\", \"8-3\", \"8-4\", \"8-5\", \"9-1\", \"9-2\"], \"y\": [1.0, 0.0, 1.0, 5.0, 1.0, 0.0, 0.0], \"type\": \"scatter\", \"uid\": \"201cd548-c22b-11e8-8e00-a81e84e6c740\"}, {\"name\": \"\\u6c88\\u6069\\u60e0_\\u4e0b\\u673a\\u6279\\u6b21\\u6570\", \"x\": [\"8-1\", \"8-2\", \"8-3\", \"8-4\", \"8-5\", \"9-1\", \"9-2\"], \"y\": [1.0, 0.0, 0.0, 3.0, 5.0, 0.0, 2.0], \"type\": \"scatter\", \"uid\": \"201cd8cc-c22b-11e8-8e00-a81e84e6c740\"}, {\"name\": \"\\u6c88\\u6069\\u60e0_\\u4e0b\\u673a\\u9879\\u76ee\\u6570\", \"x\": [\"8-1\", \"8-2\", \"8-3\", \"8-4\", \"8-5\", \"9-1\", \"9-2\"], \"y\": [1.0, 0.0, 0.0, 3.0, 5.0, 0.0, 2.0], \"type\": \"scatter\", \"uid\": \"201cdc50-c22b-11e8-8e00-a81e84e6c740\"}],\n",
       "            {\"title\": \"\\u4e0b\\u673a\\u6279\\u6b21\\u6570&\\u4e0b\\u673a\\u9879\\u76ee\\u6570\\u5468\\u8d8b\\u52bf\\u56fe\", \"xaxis\": {\"mirror\": \"all\", \"nticks\": 20, \"showgrid\": true, \"showline\": true, \"title\": \"\\u5468\", \"zeroline\": true}, \"yaxis\": {\"mirror\": \"all\", \"nticks\": 20, \"showgrid\": true, \"showline\": true, \"title\": \"\\u4e0b\\u673a\\u6279\\u6b21\\u6570&\\u4e0b\\u673a\\u9879\\u76ee\\u6570\", \"zeroline\": true}},\n",
       "            {\"showLink\": true, \"linkText\": \"Export to plot.ly\"}\n",
       "        ).then(function () {return Plotly.addFrames('df7beeb9-dab0-4ccf-a479-aec66174756c',{});}).then(function(){Plotly.animate('df7beeb9-dab0-4ccf-a479-aec66174756c');})\n",
       "        });</script>"
      ],
      "text/vnd.plotly.v1+html": [
       "<div id=\"df7beeb9-dab0-4ccf-a479-aec66174756c\" style=\"height: 525px; width: 100%;\" class=\"plotly-graph-div\"></div><script type=\"text/javascript\">require([\"plotly\"], function(Plotly) { window.PLOTLYENV=window.PLOTLYENV || {};window.PLOTLYENV.BASE_URL=\"https://plot.ly\";\n",
       "        Plotly.plot(\n",
       "            'df7beeb9-dab0-4ccf-a479-aec66174756c',\n",
       "            [{\"name\": \"\\u8f66\\u5929\\u680b_\\u4e0b\\u673a\\u6279\\u6b21\\u6570\", \"x\": [\"8-1\", \"8-2\", \"8-3\", \"8-4\", \"8-5\", \"9-1\", \"9-2\"], \"y\": [1.0, 0.0, 0.0, 2.0, 3.0, 0.0, 3.0], \"type\": \"scatter\", \"uid\": \"201cb2c0-c22b-11e8-8e00-a81e84e6c740\"}, {\"name\": \"\\u8f66\\u5929\\u680b_\\u4e0b\\u673a\\u9879\\u76ee\\u6570\", \"x\": [\"8-1\", \"8-2\", \"8-3\", \"8-4\", \"8-5\", \"9-1\", \"9-2\"], \"y\": [1.0, 0.0, 0.0, 2.0, 3.0, 0.0, 3.0], \"type\": \"scatter\", \"uid\": \"201cb806-c22b-11e8-8e00-a81e84e6c740\"}, {\"name\": \"\\u6c88\\u7acb\\u7fa4_\\u4e0b\\u673a\\u6279\\u6b21\\u6570\", \"x\": [\"8-1\", \"8-2\", \"8-3\", \"8-4\", \"8-5\", \"9-1\", \"9-2\"], \"y\": [1.0, 0.0, 1.0, 5.0, 8.0, 3.0, 2.0], \"type\": \"scatter\", \"uid\": \"201cbc34-c22b-11e8-8e00-a81e84e6c740\"}, {\"name\": \"\\u6c88\\u7acb\\u7fa4_\\u4e0b\\u673a\\u9879\\u76ee\\u6570\", \"x\": [\"8-1\", \"8-2\", \"8-3\", \"8-4\", \"8-5\", \"9-1\", \"9-2\"], \"y\": [1.0, 0.0, 1.0, 4.0, 6.0, 2.0, 2.0], \"type\": \"scatter\", \"uid\": \"201cbffe-c22b-11e8-8e00-a81e84e6c740\"}, {\"name\": \"\\u738b\\u4f20\\u6587_\\u4e0b\\u673a\\u6279\\u6b21\\u6570\", \"x\": [\"8-1\", \"8-2\", \"8-3\", \"8-4\", \"8-5\", \"9-1\", \"9-2\"], \"y\": [1.0, 0.0, 1.0, 3.0, 2.0, 2.0, 3.0], \"type\": \"scatter\", \"uid\": \"201cc3a0-c22b-11e8-8e00-a81e84e6c740\"}, {\"name\": \"\\u738b\\u4f20\\u6587_\\u4e0b\\u673a\\u9879\\u76ee\\u6570\", \"x\": [\"8-1\", \"8-2\", \"8-3\", \"8-4\", \"8-5\", \"9-1\", \"9-2\"], \"y\": [1.0, 0.0, 1.0, 3.0, 2.0, 2.0, 3.0], \"type\": \"scatter\", \"uid\": \"201cc738-c22b-11e8-8e00-a81e84e6c740\"}, {\"name\": \"\\u6797\\u6587\\u6587_\\u4e0b\\u673a\\u6279\\u6b21\\u6570\", \"x\": [\"8-1\", \"8-2\", \"8-3\", \"8-4\", \"8-5\", \"9-1\", \"9-2\"], \"y\": [1.0, 0.0, 2.0, 4.0, 4.0, 2.0, 2.0], \"type\": \"scatter\", \"uid\": \"201ccabc-c22b-11e8-8e00-a81e84e6c740\"}, {\"name\": \"\\u6797\\u6587\\u6587_\\u4e0b\\u673a\\u9879\\u76ee\\u6570\", \"x\": [\"8-1\", \"8-2\", \"8-3\", \"8-4\", \"8-5\", \"9-1\", \"9-2\"], \"y\": [1.0, 0.0, 2.0, 3.0, 4.0, 2.0, 2.0], \"type\": \"scatter\", \"uid\": \"201cce4a-c22b-11e8-8e00-a81e84e6c740\"}, {\"name\": \"\\u9ad8\\u5251_\\u4e0b\\u673a\\u6279\\u6b21\\u6570\", \"x\": [\"8-1\", \"8-2\", \"8-3\", \"8-4\", \"8-5\", \"9-1\", \"9-2\"], \"y\": [1.0, 0.0, 1.0, 7.0, 1.0, 0.0, 0.0], \"type\": \"scatter\", \"uid\": \"201cd1ce-c22b-11e8-8e00-a81e84e6c740\"}, {\"name\": \"\\u9ad8\\u5251_\\u4e0b\\u673a\\u9879\\u76ee\\u6570\", \"x\": [\"8-1\", \"8-2\", \"8-3\", \"8-4\", \"8-5\", \"9-1\", \"9-2\"], \"y\": [1.0, 0.0, 1.0, 5.0, 1.0, 0.0, 0.0], \"type\": \"scatter\", \"uid\": \"201cd548-c22b-11e8-8e00-a81e84e6c740\"}, {\"name\": \"\\u6c88\\u6069\\u60e0_\\u4e0b\\u673a\\u6279\\u6b21\\u6570\", \"x\": [\"8-1\", \"8-2\", \"8-3\", \"8-4\", \"8-5\", \"9-1\", \"9-2\"], \"y\": [1.0, 0.0, 0.0, 3.0, 5.0, 0.0, 2.0], \"type\": \"scatter\", \"uid\": \"201cd8cc-c22b-11e8-8e00-a81e84e6c740\"}, {\"name\": \"\\u6c88\\u6069\\u60e0_\\u4e0b\\u673a\\u9879\\u76ee\\u6570\", \"x\": [\"8-1\", \"8-2\", \"8-3\", \"8-4\", \"8-5\", \"9-1\", \"9-2\"], \"y\": [1.0, 0.0, 0.0, 3.0, 5.0, 0.0, 2.0], \"type\": \"scatter\", \"uid\": \"201cdc50-c22b-11e8-8e00-a81e84e6c740\"}],\n",
       "            {\"title\": \"\\u4e0b\\u673a\\u6279\\u6b21\\u6570&\\u4e0b\\u673a\\u9879\\u76ee\\u6570\\u5468\\u8d8b\\u52bf\\u56fe\", \"xaxis\": {\"mirror\": \"all\", \"nticks\": 20, \"showgrid\": true, \"showline\": true, \"title\": \"\\u5468\", \"zeroline\": true}, \"yaxis\": {\"mirror\": \"all\", \"nticks\": 20, \"showgrid\": true, \"showline\": true, \"title\": \"\\u4e0b\\u673a\\u6279\\u6b21\\u6570&\\u4e0b\\u673a\\u9879\\u76ee\\u6570\", \"zeroline\": true}},\n",
       "            {\"showLink\": true, \"linkText\": \"Export to plot.ly\"}\n",
       "        ).then(function () {return Plotly.addFrames('df7beeb9-dab0-4ccf-a479-aec66174756c',{});}).then(function(){Plotly.animate('df7beeb9-dab0-4ccf-a479-aec66174756c');})\n",
       "        });</script>"
      ]
     },
     "metadata": {},
     "output_type": "display_data"
    },
    {
     "data": {
      "application/vnd.plotly.v1+json": {
       "data": [
        {
         "name": "车天栋_下机批次数",
         "type": "scatter",
         "uid": "20422aaa-c22b-11e8-8e00-a81e84e6c740",
         "x": [
          "8",
          "9"
         ],
         "y": [
          6,
          3
         ]
        },
        {
         "name": "车天栋_下机项目数",
         "type": "scatter",
         "uid": "2042322a-c22b-11e8-8e00-a81e84e6c740",
         "x": [
          "8",
          "9"
         ],
         "y": [
          6,
          3
         ]
        },
        {
         "name": "沈立群_下机批次数",
         "type": "scatter",
         "uid": "204241ca-c22b-11e8-8e00-a81e84e6c740",
         "x": [
          "8",
          "9"
         ],
         "y": [
          15,
          5
         ]
        },
        {
         "name": "沈立群_下机项目数",
         "type": "scatter",
         "uid": "204245b2-c22b-11e8-8e00-a81e84e6c740",
         "x": [
          "8",
          "9"
         ],
         "y": [
          12,
          4
         ]
        },
        {
         "name": "王传文_下机批次数",
         "type": "scatter",
         "uid": "2042486e-c22b-11e8-8e00-a81e84e6c740",
         "x": [
          "8",
          "9"
         ],
         "y": [
          7,
          5
         ]
        },
        {
         "name": "王传文_下机项目数",
         "type": "scatter",
         "uid": "20424aee-c22b-11e8-8e00-a81e84e6c740",
         "x": [
          "8",
          "9"
         ],
         "y": [
          7,
          5
         ]
        },
        {
         "name": "林文文_下机批次数",
         "type": "scatter",
         "uid": "20424d50-c22b-11e8-8e00-a81e84e6c740",
         "x": [
          "8",
          "9"
         ],
         "y": [
          11,
          4
         ]
        },
        {
         "name": "林文文_下机项目数",
         "type": "scatter",
         "uid": "20424fa8-c22b-11e8-8e00-a81e84e6c740",
         "x": [
          "8",
          "9"
         ],
         "y": [
          10,
          4
         ]
        },
        {
         "name": "高剑_下机批次数",
         "type": "scatter",
         "uid": "204251f6-c22b-11e8-8e00-a81e84e6c740",
         "x": [
          "8",
          "9"
         ],
         "y": [
          10,
          0
         ]
        },
        {
         "name": "高剑_下机项目数",
         "type": "scatter",
         "uid": "20425444-c22b-11e8-8e00-a81e84e6c740",
         "x": [
          "8",
          "9"
         ],
         "y": [
          8,
          0
         ]
        },
        {
         "name": "沈恩惠_下机批次数",
         "type": "scatter",
         "uid": "20425692-c22b-11e8-8e00-a81e84e6c740",
         "x": [
          "8",
          "9"
         ],
         "y": [
          9,
          2
         ]
        },
        {
         "name": "沈恩惠_下机项目数",
         "type": "scatter",
         "uid": "204258d6-c22b-11e8-8e00-a81e84e6c740",
         "x": [
          "8",
          "9"
         ],
         "y": [
          9,
          2
         ]
        }
       ],
       "layout": {
        "title": "下机批次数&下机项目数月趋势图",
        "xaxis": {
         "mirror": "all",
         "nticks": 20,
         "showgrid": true,
         "showline": true,
         "title": "月",
         "zeroline": true
        },
        "yaxis": {
         "mirror": "all",
         "nticks": 20,
         "showgrid": true,
         "showline": true,
         "title": "下机批次数&下机项目数",
         "zeroline": true
        }
       }
      },
      "text/html": [
       "<div id=\"334e8562-215f-4b16-a4ab-67cbd76fa8ba\" style=\"height: 525px; width: 100%;\" class=\"plotly-graph-div\"></div><script type=\"text/javascript\">require([\"plotly\"], function(Plotly) { window.PLOTLYENV=window.PLOTLYENV || {};window.PLOTLYENV.BASE_URL=\"https://plot.ly\";\n",
       "        Plotly.plot(\n",
       "            '334e8562-215f-4b16-a4ab-67cbd76fa8ba',\n",
       "            [{\"name\": \"\\u8f66\\u5929\\u680b_\\u4e0b\\u673a\\u6279\\u6b21\\u6570\", \"x\": [\"8\", \"9\"], \"y\": [6.0, 3.0], \"type\": \"scatter\", \"uid\": \"20422aaa-c22b-11e8-8e00-a81e84e6c740\"}, {\"name\": \"\\u8f66\\u5929\\u680b_\\u4e0b\\u673a\\u9879\\u76ee\\u6570\", \"x\": [\"8\", \"9\"], \"y\": [6.0, 3.0], \"type\": \"scatter\", \"uid\": \"2042322a-c22b-11e8-8e00-a81e84e6c740\"}, {\"name\": \"\\u6c88\\u7acb\\u7fa4_\\u4e0b\\u673a\\u6279\\u6b21\\u6570\", \"x\": [\"8\", \"9\"], \"y\": [15.0, 5.0], \"type\": \"scatter\", \"uid\": \"204241ca-c22b-11e8-8e00-a81e84e6c740\"}, {\"name\": \"\\u6c88\\u7acb\\u7fa4_\\u4e0b\\u673a\\u9879\\u76ee\\u6570\", \"x\": [\"8\", \"9\"], \"y\": [12.0, 4.0], \"type\": \"scatter\", \"uid\": \"204245b2-c22b-11e8-8e00-a81e84e6c740\"}, {\"name\": \"\\u738b\\u4f20\\u6587_\\u4e0b\\u673a\\u6279\\u6b21\\u6570\", \"x\": [\"8\", \"9\"], \"y\": [7.0, 5.0], \"type\": \"scatter\", \"uid\": \"2042486e-c22b-11e8-8e00-a81e84e6c740\"}, {\"name\": \"\\u738b\\u4f20\\u6587_\\u4e0b\\u673a\\u9879\\u76ee\\u6570\", \"x\": [\"8\", \"9\"], \"y\": [7.0, 5.0], \"type\": \"scatter\", \"uid\": \"20424aee-c22b-11e8-8e00-a81e84e6c740\"}, {\"name\": \"\\u6797\\u6587\\u6587_\\u4e0b\\u673a\\u6279\\u6b21\\u6570\", \"x\": [\"8\", \"9\"], \"y\": [11.0, 4.0], \"type\": \"scatter\", \"uid\": \"20424d50-c22b-11e8-8e00-a81e84e6c740\"}, {\"name\": \"\\u6797\\u6587\\u6587_\\u4e0b\\u673a\\u9879\\u76ee\\u6570\", \"x\": [\"8\", \"9\"], \"y\": [10.0, 4.0], \"type\": \"scatter\", \"uid\": \"20424fa8-c22b-11e8-8e00-a81e84e6c740\"}, {\"name\": \"\\u9ad8\\u5251_\\u4e0b\\u673a\\u6279\\u6b21\\u6570\", \"x\": [\"8\", \"9\"], \"y\": [10.0, 0.0], \"type\": \"scatter\", \"uid\": \"204251f6-c22b-11e8-8e00-a81e84e6c740\"}, {\"name\": \"\\u9ad8\\u5251_\\u4e0b\\u673a\\u9879\\u76ee\\u6570\", \"x\": [\"8\", \"9\"], \"y\": [8.0, 0.0], \"type\": \"scatter\", \"uid\": \"20425444-c22b-11e8-8e00-a81e84e6c740\"}, {\"name\": \"\\u6c88\\u6069\\u60e0_\\u4e0b\\u673a\\u6279\\u6b21\\u6570\", \"x\": [\"8\", \"9\"], \"y\": [9.0, 2.0], \"type\": \"scatter\", \"uid\": \"20425692-c22b-11e8-8e00-a81e84e6c740\"}, {\"name\": \"\\u6c88\\u6069\\u60e0_\\u4e0b\\u673a\\u9879\\u76ee\\u6570\", \"x\": [\"8\", \"9\"], \"y\": [9.0, 2.0], \"type\": \"scatter\", \"uid\": \"204258d6-c22b-11e8-8e00-a81e84e6c740\"}],\n",
       "            {\"title\": \"\\u4e0b\\u673a\\u6279\\u6b21\\u6570&\\u4e0b\\u673a\\u9879\\u76ee\\u6570\\u6708\\u8d8b\\u52bf\\u56fe\", \"xaxis\": {\"mirror\": \"all\", \"nticks\": 20, \"showgrid\": true, \"showline\": true, \"title\": \"\\u6708\", \"zeroline\": true}, \"yaxis\": {\"mirror\": \"all\", \"nticks\": 20, \"showgrid\": true, \"showline\": true, \"title\": \"\\u4e0b\\u673a\\u6279\\u6b21\\u6570&\\u4e0b\\u673a\\u9879\\u76ee\\u6570\", \"zeroline\": true}},\n",
       "            {\"showLink\": true, \"linkText\": \"Export to plot.ly\"}\n",
       "        ).then(function () {return Plotly.addFrames('334e8562-215f-4b16-a4ab-67cbd76fa8ba',{});}).then(function(){Plotly.animate('334e8562-215f-4b16-a4ab-67cbd76fa8ba');})\n",
       "        });</script>"
      ],
      "text/vnd.plotly.v1+html": [
       "<div id=\"334e8562-215f-4b16-a4ab-67cbd76fa8ba\" style=\"height: 525px; width: 100%;\" class=\"plotly-graph-div\"></div><script type=\"text/javascript\">require([\"plotly\"], function(Plotly) { window.PLOTLYENV=window.PLOTLYENV || {};window.PLOTLYENV.BASE_URL=\"https://plot.ly\";\n",
       "        Plotly.plot(\n",
       "            '334e8562-215f-4b16-a4ab-67cbd76fa8ba',\n",
       "            [{\"name\": \"\\u8f66\\u5929\\u680b_\\u4e0b\\u673a\\u6279\\u6b21\\u6570\", \"x\": [\"8\", \"9\"], \"y\": [6.0, 3.0], \"type\": \"scatter\", \"uid\": \"20422aaa-c22b-11e8-8e00-a81e84e6c740\"}, {\"name\": \"\\u8f66\\u5929\\u680b_\\u4e0b\\u673a\\u9879\\u76ee\\u6570\", \"x\": [\"8\", \"9\"], \"y\": [6.0, 3.0], \"type\": \"scatter\", \"uid\": \"2042322a-c22b-11e8-8e00-a81e84e6c740\"}, {\"name\": \"\\u6c88\\u7acb\\u7fa4_\\u4e0b\\u673a\\u6279\\u6b21\\u6570\", \"x\": [\"8\", \"9\"], \"y\": [15.0, 5.0], \"type\": \"scatter\", \"uid\": \"204241ca-c22b-11e8-8e00-a81e84e6c740\"}, {\"name\": \"\\u6c88\\u7acb\\u7fa4_\\u4e0b\\u673a\\u9879\\u76ee\\u6570\", \"x\": [\"8\", \"9\"], \"y\": [12.0, 4.0], \"type\": \"scatter\", \"uid\": \"204245b2-c22b-11e8-8e00-a81e84e6c740\"}, {\"name\": \"\\u738b\\u4f20\\u6587_\\u4e0b\\u673a\\u6279\\u6b21\\u6570\", \"x\": [\"8\", \"9\"], \"y\": [7.0, 5.0], \"type\": \"scatter\", \"uid\": \"2042486e-c22b-11e8-8e00-a81e84e6c740\"}, {\"name\": \"\\u738b\\u4f20\\u6587_\\u4e0b\\u673a\\u9879\\u76ee\\u6570\", \"x\": [\"8\", \"9\"], \"y\": [7.0, 5.0], \"type\": \"scatter\", \"uid\": \"20424aee-c22b-11e8-8e00-a81e84e6c740\"}, {\"name\": \"\\u6797\\u6587\\u6587_\\u4e0b\\u673a\\u6279\\u6b21\\u6570\", \"x\": [\"8\", \"9\"], \"y\": [11.0, 4.0], \"type\": \"scatter\", \"uid\": \"20424d50-c22b-11e8-8e00-a81e84e6c740\"}, {\"name\": \"\\u6797\\u6587\\u6587_\\u4e0b\\u673a\\u9879\\u76ee\\u6570\", \"x\": [\"8\", \"9\"], \"y\": [10.0, 4.0], \"type\": \"scatter\", \"uid\": \"20424fa8-c22b-11e8-8e00-a81e84e6c740\"}, {\"name\": \"\\u9ad8\\u5251_\\u4e0b\\u673a\\u6279\\u6b21\\u6570\", \"x\": [\"8\", \"9\"], \"y\": [10.0, 0.0], \"type\": \"scatter\", \"uid\": \"204251f6-c22b-11e8-8e00-a81e84e6c740\"}, {\"name\": \"\\u9ad8\\u5251_\\u4e0b\\u673a\\u9879\\u76ee\\u6570\", \"x\": [\"8\", \"9\"], \"y\": [8.0, 0.0], \"type\": \"scatter\", \"uid\": \"20425444-c22b-11e8-8e00-a81e84e6c740\"}, {\"name\": \"\\u6c88\\u6069\\u60e0_\\u4e0b\\u673a\\u6279\\u6b21\\u6570\", \"x\": [\"8\", \"9\"], \"y\": [9.0, 2.0], \"type\": \"scatter\", \"uid\": \"20425692-c22b-11e8-8e00-a81e84e6c740\"}, {\"name\": \"\\u6c88\\u6069\\u60e0_\\u4e0b\\u673a\\u9879\\u76ee\\u6570\", \"x\": [\"8\", \"9\"], \"y\": [9.0, 2.0], \"type\": \"scatter\", \"uid\": \"204258d6-c22b-11e8-8e00-a81e84e6c740\"}],\n",
       "            {\"title\": \"\\u4e0b\\u673a\\u6279\\u6b21\\u6570&\\u4e0b\\u673a\\u9879\\u76ee\\u6570\\u6708\\u8d8b\\u52bf\\u56fe\", \"xaxis\": {\"mirror\": \"all\", \"nticks\": 20, \"showgrid\": true, \"showline\": true, \"title\": \"\\u6708\", \"zeroline\": true}, \"yaxis\": {\"mirror\": \"all\", \"nticks\": 20, \"showgrid\": true, \"showline\": true, \"title\": \"\\u4e0b\\u673a\\u6279\\u6b21\\u6570&\\u4e0b\\u673a\\u9879\\u76ee\\u6570\", \"zeroline\": true}},\n",
       "            {\"showLink\": true, \"linkText\": \"Export to plot.ly\"}\n",
       "        ).then(function () {return Plotly.addFrames('334e8562-215f-4b16-a4ab-67cbd76fa8ba',{});}).then(function(){Plotly.animate('334e8562-215f-4b16-a4ab-67cbd76fa8ba');})\n",
       "        });</script>"
      ]
     },
     "metadata": {},
     "output_type": "display_data"
    }
   ],
   "source": [
    "data_dict = {'下机批次数':['下机批次数'],'下机项目数':['下机项目数']}\n",
    "myModule.plot( all_dict, data_dict, '人员' ,  'line' )"
   ]
  },
  {
   "cell_type": "markdown",
   "metadata": {},
   "source": [
    "### 效率"
   ]
  },
  {
   "cell_type": "markdown",
   "metadata": {},
   "source": [
    "#### 反馈及时率和数据及时交付率"
   ]
  },
  {
   "cell_type": "code",
   "execution_count": 29,
   "metadata": {},
   "outputs": [
    {
     "data": {
      "application/vnd.plotly.v1+json": {
       "data": [
        {
         "name": "车天栋_反馈及时率",
         "type": "scatter",
         "uid": "20a212da-c22b-11e8-8e00-a81e84e6c740",
         "x": [
          "8-1",
          "8-2",
          "8-3",
          "8-4",
          "8-5",
          "9-1",
          "9-2"
         ],
         "y": [
          1,
          null,
          null,
          1,
          1,
          null,
          1
         ]
        },
        {
         "name": "车天栋_数据及时交付率",
         "type": "scatter",
         "uid": "20a2183e-c22b-11e8-8e00-a81e84e6c740",
         "x": [
          "8-1",
          "8-2",
          "8-3",
          "8-4",
          "8-5",
          "9-1",
          "9-2"
         ],
         "y": [
          1,
          null,
          null,
          null,
          1,
          null,
          null
         ]
        },
        {
         "name": "沈立群_反馈及时率",
         "type": "scatter",
         "uid": "20a21c4e-c22b-11e8-8e00-a81e84e6c740",
         "x": [
          "8-1",
          "8-2",
          "8-3",
          "8-4",
          "8-5",
          "9-1",
          "9-2"
         ],
         "y": [
          1,
          null,
          1,
          1,
          0.75,
          1,
          1
         ]
        },
        {
         "name": "沈立群_数据及时交付率",
         "type": "scatter",
         "uid": "20a22004-c22b-11e8-8e00-a81e84e6c740",
         "x": [
          "8-1",
          "8-2",
          "8-3",
          "8-4",
          "8-5",
          "9-1",
          "9-2"
         ],
         "y": [
          1,
          null,
          1,
          null,
          1,
          1,
          null
         ]
        },
        {
         "name": "王传文_反馈及时率",
         "type": "scatter",
         "uid": "20a2239c-c22b-11e8-8e00-a81e84e6c740",
         "x": [
          "8-1",
          "8-2",
          "8-3",
          "8-4",
          "8-5",
          "9-1",
          "9-2"
         ],
         "y": [
          1,
          null,
          1,
          1,
          1,
          1,
          1
         ]
        },
        {
         "name": "王传文_数据及时交付率",
         "type": "scatter",
         "uid": "20a2272a-c22b-11e8-8e00-a81e84e6c740",
         "x": [
          "8-1",
          "8-2",
          "8-3",
          "8-4",
          "8-5",
          "9-1",
          "9-2"
         ],
         "y": [
          1,
          null,
          1,
          null,
          null,
          1,
          null
         ]
        },
        {
         "name": "林文文_反馈及时率",
         "type": "scatter",
         "uid": "20a22ab8-c22b-11e8-8e00-a81e84e6c740",
         "x": [
          "8-1",
          "8-2",
          "8-3",
          "8-4",
          "8-5",
          "9-1",
          "9-2"
         ],
         "y": [
          1,
          null,
          0.5,
          1,
          1,
          1,
          1
         ]
        },
        {
         "name": "林文文_数据及时交付率",
         "type": "scatter",
         "uid": "20a22e3c-c22b-11e8-8e00-a81e84e6c740",
         "x": [
          "8-1",
          "8-2",
          "8-3",
          "8-4",
          "8-5",
          "9-1",
          "9-2"
         ],
         "y": [
          1,
          null,
          1,
          null,
          1,
          1,
          null
         ]
        },
        {
         "name": "高剑_反馈及时率",
         "type": "scatter",
         "uid": "20a231b6-c22b-11e8-8e00-a81e84e6c740",
         "x": [
          "8-1",
          "8-2",
          "8-3",
          "8-4",
          "8-5",
          "9-1",
          "9-2"
         ],
         "y": [
          1,
          null,
          0,
          1,
          1,
          null,
          null
         ]
        },
        {
         "name": "高剑_数据及时交付率",
         "type": "scatter",
         "uid": "20a23544-c22b-11e8-8e00-a81e84e6c740",
         "x": [
          "8-1",
          "8-2",
          "8-3",
          "8-4",
          "8-5",
          "9-1",
          "9-2"
         ],
         "y": [
          1,
          null,
          1,
          null,
          null,
          null,
          null
         ]
        },
        {
         "name": "沈恩惠_反馈及时率",
         "type": "scatter",
         "uid": "20a238c8-c22b-11e8-8e00-a81e84e6c740",
         "x": [
          "8-1",
          "8-2",
          "8-3",
          "8-4",
          "8-5",
          "9-1",
          "9-2"
         ],
         "y": [
          1,
          null,
          null,
          1,
          0.8,
          null,
          1
         ]
        },
        {
         "name": "沈恩惠_数据及时交付率",
         "type": "scatter",
         "uid": "20a23c4c-c22b-11e8-8e00-a81e84e6c740",
         "x": [
          "8-1",
          "8-2",
          "8-3",
          "8-4",
          "8-5",
          "9-1",
          "9-2"
         ],
         "y": [
          1,
          null,
          null,
          null,
          1,
          null,
          null
         ]
        }
       ],
       "layout": {
        "title": "反馈及时率&数据及时交付率周趋势图",
        "xaxis": {
         "mirror": "all",
         "nticks": 20,
         "showgrid": true,
         "showline": true,
         "title": "周",
         "zeroline": true
        },
        "yaxis": {
         "mirror": "all",
         "nticks": 20,
         "showgrid": true,
         "showline": true,
         "title": "反馈及时率&数据及时交付率",
         "zeroline": true
        }
       }
      },
      "text/html": [
       "<div id=\"967e8b9b-75f1-4530-af15-61635df13384\" style=\"height: 525px; width: 100%;\" class=\"plotly-graph-div\"></div><script type=\"text/javascript\">require([\"plotly\"], function(Plotly) { window.PLOTLYENV=window.PLOTLYENV || {};window.PLOTLYENV.BASE_URL=\"https://plot.ly\";\n",
       "        Plotly.plot(\n",
       "            '967e8b9b-75f1-4530-af15-61635df13384',\n",
       "            [{\"name\": \"\\u8f66\\u5929\\u680b_\\u53cd\\u9988\\u53ca\\u65f6\\u7387\", \"x\": [\"8-1\", \"8-2\", \"8-3\", \"8-4\", \"8-5\", \"9-1\", \"9-2\"], \"y\": [1.0, null, null, 1.0, 1.0, null, 1.0], \"type\": \"scatter\", \"uid\": \"20a212da-c22b-11e8-8e00-a81e84e6c740\"}, {\"name\": \"\\u8f66\\u5929\\u680b_\\u6570\\u636e\\u53ca\\u65f6\\u4ea4\\u4ed8\\u7387\", \"x\": [\"8-1\", \"8-2\", \"8-3\", \"8-4\", \"8-5\", \"9-1\", \"9-2\"], \"y\": [1.0, null, null, null, 1.0, null, null], \"type\": \"scatter\", \"uid\": \"20a2183e-c22b-11e8-8e00-a81e84e6c740\"}, {\"name\": \"\\u6c88\\u7acb\\u7fa4_\\u53cd\\u9988\\u53ca\\u65f6\\u7387\", \"x\": [\"8-1\", \"8-2\", \"8-3\", \"8-4\", \"8-5\", \"9-1\", \"9-2\"], \"y\": [1.0, null, 1.0, 1.0, 0.75, 1.0, 1.0], \"type\": \"scatter\", \"uid\": \"20a21c4e-c22b-11e8-8e00-a81e84e6c740\"}, {\"name\": \"\\u6c88\\u7acb\\u7fa4_\\u6570\\u636e\\u53ca\\u65f6\\u4ea4\\u4ed8\\u7387\", \"x\": [\"8-1\", \"8-2\", \"8-3\", \"8-4\", \"8-5\", \"9-1\", \"9-2\"], \"y\": [1.0, null, 1.0, null, 1.0, 1.0, null], \"type\": \"scatter\", \"uid\": \"20a22004-c22b-11e8-8e00-a81e84e6c740\"}, {\"name\": \"\\u738b\\u4f20\\u6587_\\u53cd\\u9988\\u53ca\\u65f6\\u7387\", \"x\": [\"8-1\", \"8-2\", \"8-3\", \"8-4\", \"8-5\", \"9-1\", \"9-2\"], \"y\": [1.0, null, 1.0, 1.0, 1.0, 1.0, 1.0], \"type\": \"scatter\", \"uid\": \"20a2239c-c22b-11e8-8e00-a81e84e6c740\"}, {\"name\": \"\\u738b\\u4f20\\u6587_\\u6570\\u636e\\u53ca\\u65f6\\u4ea4\\u4ed8\\u7387\", \"x\": [\"8-1\", \"8-2\", \"8-3\", \"8-4\", \"8-5\", \"9-1\", \"9-2\"], \"y\": [1.0, null, 1.0, null, null, 1.0, null], \"type\": \"scatter\", \"uid\": \"20a2272a-c22b-11e8-8e00-a81e84e6c740\"}, {\"name\": \"\\u6797\\u6587\\u6587_\\u53cd\\u9988\\u53ca\\u65f6\\u7387\", \"x\": [\"8-1\", \"8-2\", \"8-3\", \"8-4\", \"8-5\", \"9-1\", \"9-2\"], \"y\": [1.0, null, 0.5, 1.0, 1.0, 1.0, 1.0], \"type\": \"scatter\", \"uid\": \"20a22ab8-c22b-11e8-8e00-a81e84e6c740\"}, {\"name\": \"\\u6797\\u6587\\u6587_\\u6570\\u636e\\u53ca\\u65f6\\u4ea4\\u4ed8\\u7387\", \"x\": [\"8-1\", \"8-2\", \"8-3\", \"8-4\", \"8-5\", \"9-1\", \"9-2\"], \"y\": [1.0, null, 1.0, null, 1.0, 1.0, null], \"type\": \"scatter\", \"uid\": \"20a22e3c-c22b-11e8-8e00-a81e84e6c740\"}, {\"name\": \"\\u9ad8\\u5251_\\u53cd\\u9988\\u53ca\\u65f6\\u7387\", \"x\": [\"8-1\", \"8-2\", \"8-3\", \"8-4\", \"8-5\", \"9-1\", \"9-2\"], \"y\": [1.0, null, 0.0, 1.0, 1.0, null, null], \"type\": \"scatter\", \"uid\": \"20a231b6-c22b-11e8-8e00-a81e84e6c740\"}, {\"name\": \"\\u9ad8\\u5251_\\u6570\\u636e\\u53ca\\u65f6\\u4ea4\\u4ed8\\u7387\", \"x\": [\"8-1\", \"8-2\", \"8-3\", \"8-4\", \"8-5\", \"9-1\", \"9-2\"], \"y\": [1.0, null, 1.0, null, null, null, null], \"type\": \"scatter\", \"uid\": \"20a23544-c22b-11e8-8e00-a81e84e6c740\"}, {\"name\": \"\\u6c88\\u6069\\u60e0_\\u53cd\\u9988\\u53ca\\u65f6\\u7387\", \"x\": [\"8-1\", \"8-2\", \"8-3\", \"8-4\", \"8-5\", \"9-1\", \"9-2\"], \"y\": [1.0, null, null, 1.0, 0.8, null, 1.0], \"type\": \"scatter\", \"uid\": \"20a238c8-c22b-11e8-8e00-a81e84e6c740\"}, {\"name\": \"\\u6c88\\u6069\\u60e0_\\u6570\\u636e\\u53ca\\u65f6\\u4ea4\\u4ed8\\u7387\", \"x\": [\"8-1\", \"8-2\", \"8-3\", \"8-4\", \"8-5\", \"9-1\", \"9-2\"], \"y\": [1.0, null, null, null, 1.0, null, null], \"type\": \"scatter\", \"uid\": \"20a23c4c-c22b-11e8-8e00-a81e84e6c740\"}],\n",
       "            {\"title\": \"\\u53cd\\u9988\\u53ca\\u65f6\\u7387&\\u6570\\u636e\\u53ca\\u65f6\\u4ea4\\u4ed8\\u7387\\u5468\\u8d8b\\u52bf\\u56fe\", \"xaxis\": {\"mirror\": \"all\", \"nticks\": 20, \"showgrid\": true, \"showline\": true, \"title\": \"\\u5468\", \"zeroline\": true}, \"yaxis\": {\"mirror\": \"all\", \"nticks\": 20, \"showgrid\": true, \"showline\": true, \"title\": \"\\u53cd\\u9988\\u53ca\\u65f6\\u7387&\\u6570\\u636e\\u53ca\\u65f6\\u4ea4\\u4ed8\\u7387\", \"zeroline\": true}},\n",
       "            {\"showLink\": true, \"linkText\": \"Export to plot.ly\"}\n",
       "        ).then(function () {return Plotly.addFrames('967e8b9b-75f1-4530-af15-61635df13384',{});}).then(function(){Plotly.animate('967e8b9b-75f1-4530-af15-61635df13384');})\n",
       "        });</script>"
      ],
      "text/vnd.plotly.v1+html": [
       "<div id=\"967e8b9b-75f1-4530-af15-61635df13384\" style=\"height: 525px; width: 100%;\" class=\"plotly-graph-div\"></div><script type=\"text/javascript\">require([\"plotly\"], function(Plotly) { window.PLOTLYENV=window.PLOTLYENV || {};window.PLOTLYENV.BASE_URL=\"https://plot.ly\";\n",
       "        Plotly.plot(\n",
       "            '967e8b9b-75f1-4530-af15-61635df13384',\n",
       "            [{\"name\": \"\\u8f66\\u5929\\u680b_\\u53cd\\u9988\\u53ca\\u65f6\\u7387\", \"x\": [\"8-1\", \"8-2\", \"8-3\", \"8-4\", \"8-5\", \"9-1\", \"9-2\"], \"y\": [1.0, null, null, 1.0, 1.0, null, 1.0], \"type\": \"scatter\", \"uid\": \"20a212da-c22b-11e8-8e00-a81e84e6c740\"}, {\"name\": \"\\u8f66\\u5929\\u680b_\\u6570\\u636e\\u53ca\\u65f6\\u4ea4\\u4ed8\\u7387\", \"x\": [\"8-1\", \"8-2\", \"8-3\", \"8-4\", \"8-5\", \"9-1\", \"9-2\"], \"y\": [1.0, null, null, null, 1.0, null, null], \"type\": \"scatter\", \"uid\": \"20a2183e-c22b-11e8-8e00-a81e84e6c740\"}, {\"name\": \"\\u6c88\\u7acb\\u7fa4_\\u53cd\\u9988\\u53ca\\u65f6\\u7387\", \"x\": [\"8-1\", \"8-2\", \"8-3\", \"8-4\", \"8-5\", \"9-1\", \"9-2\"], \"y\": [1.0, null, 1.0, 1.0, 0.75, 1.0, 1.0], \"type\": \"scatter\", \"uid\": \"20a21c4e-c22b-11e8-8e00-a81e84e6c740\"}, {\"name\": \"\\u6c88\\u7acb\\u7fa4_\\u6570\\u636e\\u53ca\\u65f6\\u4ea4\\u4ed8\\u7387\", \"x\": [\"8-1\", \"8-2\", \"8-3\", \"8-4\", \"8-5\", \"9-1\", \"9-2\"], \"y\": [1.0, null, 1.0, null, 1.0, 1.0, null], \"type\": \"scatter\", \"uid\": \"20a22004-c22b-11e8-8e00-a81e84e6c740\"}, {\"name\": \"\\u738b\\u4f20\\u6587_\\u53cd\\u9988\\u53ca\\u65f6\\u7387\", \"x\": [\"8-1\", \"8-2\", \"8-3\", \"8-4\", \"8-5\", \"9-1\", \"9-2\"], \"y\": [1.0, null, 1.0, 1.0, 1.0, 1.0, 1.0], \"type\": \"scatter\", \"uid\": \"20a2239c-c22b-11e8-8e00-a81e84e6c740\"}, {\"name\": \"\\u738b\\u4f20\\u6587_\\u6570\\u636e\\u53ca\\u65f6\\u4ea4\\u4ed8\\u7387\", \"x\": [\"8-1\", \"8-2\", \"8-3\", \"8-4\", \"8-5\", \"9-1\", \"9-2\"], \"y\": [1.0, null, 1.0, null, null, 1.0, null], \"type\": \"scatter\", \"uid\": \"20a2272a-c22b-11e8-8e00-a81e84e6c740\"}, {\"name\": \"\\u6797\\u6587\\u6587_\\u53cd\\u9988\\u53ca\\u65f6\\u7387\", \"x\": [\"8-1\", \"8-2\", \"8-3\", \"8-4\", \"8-5\", \"9-1\", \"9-2\"], \"y\": [1.0, null, 0.5, 1.0, 1.0, 1.0, 1.0], \"type\": \"scatter\", \"uid\": \"20a22ab8-c22b-11e8-8e00-a81e84e6c740\"}, {\"name\": \"\\u6797\\u6587\\u6587_\\u6570\\u636e\\u53ca\\u65f6\\u4ea4\\u4ed8\\u7387\", \"x\": [\"8-1\", \"8-2\", \"8-3\", \"8-4\", \"8-5\", \"9-1\", \"9-2\"], \"y\": [1.0, null, 1.0, null, 1.0, 1.0, null], \"type\": \"scatter\", \"uid\": \"20a22e3c-c22b-11e8-8e00-a81e84e6c740\"}, {\"name\": \"\\u9ad8\\u5251_\\u53cd\\u9988\\u53ca\\u65f6\\u7387\", \"x\": [\"8-1\", \"8-2\", \"8-3\", \"8-4\", \"8-5\", \"9-1\", \"9-2\"], \"y\": [1.0, null, 0.0, 1.0, 1.0, null, null], \"type\": \"scatter\", \"uid\": \"20a231b6-c22b-11e8-8e00-a81e84e6c740\"}, {\"name\": \"\\u9ad8\\u5251_\\u6570\\u636e\\u53ca\\u65f6\\u4ea4\\u4ed8\\u7387\", \"x\": [\"8-1\", \"8-2\", \"8-3\", \"8-4\", \"8-5\", \"9-1\", \"9-2\"], \"y\": [1.0, null, 1.0, null, null, null, null], \"type\": \"scatter\", \"uid\": \"20a23544-c22b-11e8-8e00-a81e84e6c740\"}, {\"name\": \"\\u6c88\\u6069\\u60e0_\\u53cd\\u9988\\u53ca\\u65f6\\u7387\", \"x\": [\"8-1\", \"8-2\", \"8-3\", \"8-4\", \"8-5\", \"9-1\", \"9-2\"], \"y\": [1.0, null, null, 1.0, 0.8, null, 1.0], \"type\": \"scatter\", \"uid\": \"20a238c8-c22b-11e8-8e00-a81e84e6c740\"}, {\"name\": \"\\u6c88\\u6069\\u60e0_\\u6570\\u636e\\u53ca\\u65f6\\u4ea4\\u4ed8\\u7387\", \"x\": [\"8-1\", \"8-2\", \"8-3\", \"8-4\", \"8-5\", \"9-1\", \"9-2\"], \"y\": [1.0, null, null, null, 1.0, null, null], \"type\": \"scatter\", \"uid\": \"20a23c4c-c22b-11e8-8e00-a81e84e6c740\"}],\n",
       "            {\"title\": \"\\u53cd\\u9988\\u53ca\\u65f6\\u7387&\\u6570\\u636e\\u53ca\\u65f6\\u4ea4\\u4ed8\\u7387\\u5468\\u8d8b\\u52bf\\u56fe\", \"xaxis\": {\"mirror\": \"all\", \"nticks\": 20, \"showgrid\": true, \"showline\": true, \"title\": \"\\u5468\", \"zeroline\": true}, \"yaxis\": {\"mirror\": \"all\", \"nticks\": 20, \"showgrid\": true, \"showline\": true, \"title\": \"\\u53cd\\u9988\\u53ca\\u65f6\\u7387&\\u6570\\u636e\\u53ca\\u65f6\\u4ea4\\u4ed8\\u7387\", \"zeroline\": true}},\n",
       "            {\"showLink\": true, \"linkText\": \"Export to plot.ly\"}\n",
       "        ).then(function () {return Plotly.addFrames('967e8b9b-75f1-4530-af15-61635df13384',{});}).then(function(){Plotly.animate('967e8b9b-75f1-4530-af15-61635df13384');})\n",
       "        });</script>"
      ]
     },
     "metadata": {},
     "output_type": "display_data"
    },
    {
     "data": {
      "application/vnd.plotly.v1+json": {
       "data": [
        {
         "name": "车天栋_反馈及时率",
         "type": "scatter",
         "uid": "20c3c3a8-c22b-11e8-8e00-a81e84e6c740",
         "x": [
          "8",
          "9"
         ],
         "y": [
          1,
          1
         ]
        },
        {
         "name": "车天栋_数据及时交付率",
         "type": "scatter",
         "uid": "20c3c808-c22b-11e8-8e00-a81e84e6c740",
         "x": [
          "8",
          "9"
         ],
         "y": [
          1,
          null
         ]
        },
        {
         "name": "沈立群_反馈及时率",
         "type": "scatter",
         "uid": "20c3ca74-c22b-11e8-8e00-a81e84e6c740",
         "x": [
          "8",
          "9"
         ],
         "y": [
          0.8666666666666667,
          1
         ]
        },
        {
         "name": "沈立群_数据及时交付率",
         "type": "scatter",
         "uid": "20c3cc90-c22b-11e8-8e00-a81e84e6c740",
         "x": [
          "8",
          "9"
         ],
         "y": [
          1,
          1
         ]
        },
        {
         "name": "王传文_反馈及时率",
         "type": "scatter",
         "uid": "20c3cea2-c22b-11e8-8e00-a81e84e6c740",
         "x": [
          "8",
          "9"
         ],
         "y": [
          1,
          1
         ]
        },
        {
         "name": "王传文_数据及时交付率",
         "type": "scatter",
         "uid": "20c3d0aa-c22b-11e8-8e00-a81e84e6c740",
         "x": [
          "8",
          "9"
         ],
         "y": [
          1,
          1
         ]
        },
        {
         "name": "林文文_反馈及时率",
         "type": "scatter",
         "uid": "20c3d29e-c22b-11e8-8e00-a81e84e6c740",
         "x": [
          "8",
          "9"
         ],
         "y": [
          0.9090909090909091,
          1
         ]
        },
        {
         "name": "林文文_数据及时交付率",
         "type": "scatter",
         "uid": "20c3d492-c22b-11e8-8e00-a81e84e6c740",
         "x": [
          "8",
          "9"
         ],
         "y": [
          1,
          1
         ]
        },
        {
         "name": "高剑_反馈及时率",
         "type": "scatter",
         "uid": "20c3d686-c22b-11e8-8e00-a81e84e6c740",
         "x": [
          "8",
          "9"
         ],
         "y": [
          0.9,
          null
         ]
        },
        {
         "name": "高剑_数据及时交付率",
         "type": "scatter",
         "uid": "20c3d87a-c22b-11e8-8e00-a81e84e6c740",
         "x": [
          "8",
          "9"
         ],
         "y": [
          1,
          null
         ]
        },
        {
         "name": "沈恩惠_反馈及时率",
         "type": "scatter",
         "uid": "20c3da78-c22b-11e8-8e00-a81e84e6c740",
         "x": [
          "8",
          "9"
         ],
         "y": [
          0.8888888888888888,
          1
         ]
        },
        {
         "name": "沈恩惠_数据及时交付率",
         "type": "scatter",
         "uid": "20c3dc6c-c22b-11e8-8e00-a81e84e6c740",
         "x": [
          "8",
          "9"
         ],
         "y": [
          1,
          null
         ]
        }
       ],
       "layout": {
        "title": "反馈及时率&数据及时交付率月趋势图",
        "xaxis": {
         "mirror": "all",
         "nticks": 20,
         "showgrid": true,
         "showline": true,
         "title": "月",
         "zeroline": true
        },
        "yaxis": {
         "mirror": "all",
         "nticks": 20,
         "showgrid": true,
         "showline": true,
         "title": "反馈及时率&数据及时交付率",
         "zeroline": true
        }
       }
      },
      "text/html": [
       "<div id=\"dbb770f3-a847-4fc3-b001-421686c71c73\" style=\"height: 525px; width: 100%;\" class=\"plotly-graph-div\"></div><script type=\"text/javascript\">require([\"plotly\"], function(Plotly) { window.PLOTLYENV=window.PLOTLYENV || {};window.PLOTLYENV.BASE_URL=\"https://plot.ly\";\n",
       "        Plotly.plot(\n",
       "            'dbb770f3-a847-4fc3-b001-421686c71c73',\n",
       "            [{\"name\": \"\\u8f66\\u5929\\u680b_\\u53cd\\u9988\\u53ca\\u65f6\\u7387\", \"x\": [\"8\", \"9\"], \"y\": [1.0, 1.0], \"type\": \"scatter\", \"uid\": \"20c3c3a8-c22b-11e8-8e00-a81e84e6c740\"}, {\"name\": \"\\u8f66\\u5929\\u680b_\\u6570\\u636e\\u53ca\\u65f6\\u4ea4\\u4ed8\\u7387\", \"x\": [\"8\", \"9\"], \"y\": [1.0, null], \"type\": \"scatter\", \"uid\": \"20c3c808-c22b-11e8-8e00-a81e84e6c740\"}, {\"name\": \"\\u6c88\\u7acb\\u7fa4_\\u53cd\\u9988\\u53ca\\u65f6\\u7387\", \"x\": [\"8\", \"9\"], \"y\": [0.8666666666666667, 1.0], \"type\": \"scatter\", \"uid\": \"20c3ca74-c22b-11e8-8e00-a81e84e6c740\"}, {\"name\": \"\\u6c88\\u7acb\\u7fa4_\\u6570\\u636e\\u53ca\\u65f6\\u4ea4\\u4ed8\\u7387\", \"x\": [\"8\", \"9\"], \"y\": [1.0, 1.0], \"type\": \"scatter\", \"uid\": \"20c3cc90-c22b-11e8-8e00-a81e84e6c740\"}, {\"name\": \"\\u738b\\u4f20\\u6587_\\u53cd\\u9988\\u53ca\\u65f6\\u7387\", \"x\": [\"8\", \"9\"], \"y\": [1.0, 1.0], \"type\": \"scatter\", \"uid\": \"20c3cea2-c22b-11e8-8e00-a81e84e6c740\"}, {\"name\": \"\\u738b\\u4f20\\u6587_\\u6570\\u636e\\u53ca\\u65f6\\u4ea4\\u4ed8\\u7387\", \"x\": [\"8\", \"9\"], \"y\": [1.0, 1.0], \"type\": \"scatter\", \"uid\": \"20c3d0aa-c22b-11e8-8e00-a81e84e6c740\"}, {\"name\": \"\\u6797\\u6587\\u6587_\\u53cd\\u9988\\u53ca\\u65f6\\u7387\", \"x\": [\"8\", \"9\"], \"y\": [0.9090909090909091, 1.0], \"type\": \"scatter\", \"uid\": \"20c3d29e-c22b-11e8-8e00-a81e84e6c740\"}, {\"name\": \"\\u6797\\u6587\\u6587_\\u6570\\u636e\\u53ca\\u65f6\\u4ea4\\u4ed8\\u7387\", \"x\": [\"8\", \"9\"], \"y\": [1.0, 1.0], \"type\": \"scatter\", \"uid\": \"20c3d492-c22b-11e8-8e00-a81e84e6c740\"}, {\"name\": \"\\u9ad8\\u5251_\\u53cd\\u9988\\u53ca\\u65f6\\u7387\", \"x\": [\"8\", \"9\"], \"y\": [0.9, null], \"type\": \"scatter\", \"uid\": \"20c3d686-c22b-11e8-8e00-a81e84e6c740\"}, {\"name\": \"\\u9ad8\\u5251_\\u6570\\u636e\\u53ca\\u65f6\\u4ea4\\u4ed8\\u7387\", \"x\": [\"8\", \"9\"], \"y\": [1.0, null], \"type\": \"scatter\", \"uid\": \"20c3d87a-c22b-11e8-8e00-a81e84e6c740\"}, {\"name\": \"\\u6c88\\u6069\\u60e0_\\u53cd\\u9988\\u53ca\\u65f6\\u7387\", \"x\": [\"8\", \"9\"], \"y\": [0.8888888888888888, 1.0], \"type\": \"scatter\", \"uid\": \"20c3da78-c22b-11e8-8e00-a81e84e6c740\"}, {\"name\": \"\\u6c88\\u6069\\u60e0_\\u6570\\u636e\\u53ca\\u65f6\\u4ea4\\u4ed8\\u7387\", \"x\": [\"8\", \"9\"], \"y\": [1.0, null], \"type\": \"scatter\", \"uid\": \"20c3dc6c-c22b-11e8-8e00-a81e84e6c740\"}],\n",
       "            {\"title\": \"\\u53cd\\u9988\\u53ca\\u65f6\\u7387&\\u6570\\u636e\\u53ca\\u65f6\\u4ea4\\u4ed8\\u7387\\u6708\\u8d8b\\u52bf\\u56fe\", \"xaxis\": {\"mirror\": \"all\", \"nticks\": 20, \"showgrid\": true, \"showline\": true, \"title\": \"\\u6708\", \"zeroline\": true}, \"yaxis\": {\"mirror\": \"all\", \"nticks\": 20, \"showgrid\": true, \"showline\": true, \"title\": \"\\u53cd\\u9988\\u53ca\\u65f6\\u7387&\\u6570\\u636e\\u53ca\\u65f6\\u4ea4\\u4ed8\\u7387\", \"zeroline\": true}},\n",
       "            {\"showLink\": true, \"linkText\": \"Export to plot.ly\"}\n",
       "        ).then(function () {return Plotly.addFrames('dbb770f3-a847-4fc3-b001-421686c71c73',{});}).then(function(){Plotly.animate('dbb770f3-a847-4fc3-b001-421686c71c73');})\n",
       "        });</script>"
      ],
      "text/vnd.plotly.v1+html": [
       "<div id=\"dbb770f3-a847-4fc3-b001-421686c71c73\" style=\"height: 525px; width: 100%;\" class=\"plotly-graph-div\"></div><script type=\"text/javascript\">require([\"plotly\"], function(Plotly) { window.PLOTLYENV=window.PLOTLYENV || {};window.PLOTLYENV.BASE_URL=\"https://plot.ly\";\n",
       "        Plotly.plot(\n",
       "            'dbb770f3-a847-4fc3-b001-421686c71c73',\n",
       "            [{\"name\": \"\\u8f66\\u5929\\u680b_\\u53cd\\u9988\\u53ca\\u65f6\\u7387\", \"x\": [\"8\", \"9\"], \"y\": [1.0, 1.0], \"type\": \"scatter\", \"uid\": \"20c3c3a8-c22b-11e8-8e00-a81e84e6c740\"}, {\"name\": \"\\u8f66\\u5929\\u680b_\\u6570\\u636e\\u53ca\\u65f6\\u4ea4\\u4ed8\\u7387\", \"x\": [\"8\", \"9\"], \"y\": [1.0, null], \"type\": \"scatter\", \"uid\": \"20c3c808-c22b-11e8-8e00-a81e84e6c740\"}, {\"name\": \"\\u6c88\\u7acb\\u7fa4_\\u53cd\\u9988\\u53ca\\u65f6\\u7387\", \"x\": [\"8\", \"9\"], \"y\": [0.8666666666666667, 1.0], \"type\": \"scatter\", \"uid\": \"20c3ca74-c22b-11e8-8e00-a81e84e6c740\"}, {\"name\": \"\\u6c88\\u7acb\\u7fa4_\\u6570\\u636e\\u53ca\\u65f6\\u4ea4\\u4ed8\\u7387\", \"x\": [\"8\", \"9\"], \"y\": [1.0, 1.0], \"type\": \"scatter\", \"uid\": \"20c3cc90-c22b-11e8-8e00-a81e84e6c740\"}, {\"name\": \"\\u738b\\u4f20\\u6587_\\u53cd\\u9988\\u53ca\\u65f6\\u7387\", \"x\": [\"8\", \"9\"], \"y\": [1.0, 1.0], \"type\": \"scatter\", \"uid\": \"20c3cea2-c22b-11e8-8e00-a81e84e6c740\"}, {\"name\": \"\\u738b\\u4f20\\u6587_\\u6570\\u636e\\u53ca\\u65f6\\u4ea4\\u4ed8\\u7387\", \"x\": [\"8\", \"9\"], \"y\": [1.0, 1.0], \"type\": \"scatter\", \"uid\": \"20c3d0aa-c22b-11e8-8e00-a81e84e6c740\"}, {\"name\": \"\\u6797\\u6587\\u6587_\\u53cd\\u9988\\u53ca\\u65f6\\u7387\", \"x\": [\"8\", \"9\"], \"y\": [0.9090909090909091, 1.0], \"type\": \"scatter\", \"uid\": \"20c3d29e-c22b-11e8-8e00-a81e84e6c740\"}, {\"name\": \"\\u6797\\u6587\\u6587_\\u6570\\u636e\\u53ca\\u65f6\\u4ea4\\u4ed8\\u7387\", \"x\": [\"8\", \"9\"], \"y\": [1.0, 1.0], \"type\": \"scatter\", \"uid\": \"20c3d492-c22b-11e8-8e00-a81e84e6c740\"}, {\"name\": \"\\u9ad8\\u5251_\\u53cd\\u9988\\u53ca\\u65f6\\u7387\", \"x\": [\"8\", \"9\"], \"y\": [0.9, null], \"type\": \"scatter\", \"uid\": \"20c3d686-c22b-11e8-8e00-a81e84e6c740\"}, {\"name\": \"\\u9ad8\\u5251_\\u6570\\u636e\\u53ca\\u65f6\\u4ea4\\u4ed8\\u7387\", \"x\": [\"8\", \"9\"], \"y\": [1.0, null], \"type\": \"scatter\", \"uid\": \"20c3d87a-c22b-11e8-8e00-a81e84e6c740\"}, {\"name\": \"\\u6c88\\u6069\\u60e0_\\u53cd\\u9988\\u53ca\\u65f6\\u7387\", \"x\": [\"8\", \"9\"], \"y\": [0.8888888888888888, 1.0], \"type\": \"scatter\", \"uid\": \"20c3da78-c22b-11e8-8e00-a81e84e6c740\"}, {\"name\": \"\\u6c88\\u6069\\u60e0_\\u6570\\u636e\\u53ca\\u65f6\\u4ea4\\u4ed8\\u7387\", \"x\": [\"8\", \"9\"], \"y\": [1.0, null], \"type\": \"scatter\", \"uid\": \"20c3dc6c-c22b-11e8-8e00-a81e84e6c740\"}],\n",
       "            {\"title\": \"\\u53cd\\u9988\\u53ca\\u65f6\\u7387&\\u6570\\u636e\\u53ca\\u65f6\\u4ea4\\u4ed8\\u7387\\u6708\\u8d8b\\u52bf\\u56fe\", \"xaxis\": {\"mirror\": \"all\", \"nticks\": 20, \"showgrid\": true, \"showline\": true, \"title\": \"\\u6708\", \"zeroline\": true}, \"yaxis\": {\"mirror\": \"all\", \"nticks\": 20, \"showgrid\": true, \"showline\": true, \"title\": \"\\u53cd\\u9988\\u53ca\\u65f6\\u7387&\\u6570\\u636e\\u53ca\\u65f6\\u4ea4\\u4ed8\\u7387\", \"zeroline\": true}},\n",
       "            {\"showLink\": true, \"linkText\": \"Export to plot.ly\"}\n",
       "        ).then(function () {return Plotly.addFrames('dbb770f3-a847-4fc3-b001-421686c71c73',{});}).then(function(){Plotly.animate('dbb770f3-a847-4fc3-b001-421686c71c73');})\n",
       "        });</script>"
      ]
     },
     "metadata": {},
     "output_type": "display_data"
    }
   ],
   "source": [
    "data_dict = {'反馈及时率':['及时反馈数','下机批次数'], '数据及时交付率':['数据及时交付数','数据交付总数']}\n",
    "myModule.plot( all_dict, data_dict, '人员' ,  'line' )"
   ]
  },
  {
   "cell_type": "markdown",
   "metadata": {},
   "source": [
    "#### 24h拆分过滤率和28h拆分过滤率"
   ]
  },
  {
   "cell_type": "code",
   "execution_count": 30,
   "metadata": {},
   "outputs": [
    {
     "data": {
      "application/vnd.plotly.v1+json": {
       "data": [
        {
         "name": "车天栋_24h拆分过滤率",
         "type": "scatter",
         "uid": "212fb432-c22b-11e8-8e00-a81e84e6c740",
         "x": [
          "8-1",
          "8-2",
          "8-3",
          "8-4",
          "8-5",
          "9-1",
          "9-2"
         ],
         "y": [
          1,
          null,
          null,
          0,
          0.6666666666666666,
          null,
          0
         ]
        },
        {
         "name": "车天栋_48h拆分过滤率",
         "type": "scatter",
         "uid": "212fb996-c22b-11e8-8e00-a81e84e6c740",
         "x": [
          "8-1",
          "8-2",
          "8-3",
          "8-4",
          "8-5",
          "9-1",
          "9-2"
         ],
         "y": [
          1,
          null,
          null,
          0,
          1,
          null,
          0
         ]
        },
        {
         "name": "沈立群_24h拆分过滤率",
         "type": "scatter",
         "uid": "212fbdc4-c22b-11e8-8e00-a81e84e6c740",
         "x": [
          "8-1",
          "8-2",
          "8-3",
          "8-4",
          "8-5",
          "9-1",
          "9-2"
         ],
         "y": [
          1,
          null,
          1,
          0,
          0.5,
          0.6666666666666666,
          0
         ]
        },
        {
         "name": "沈立群_48h拆分过滤率",
         "type": "scatter",
         "uid": "212fc184-c22b-11e8-8e00-a81e84e6c740",
         "x": [
          "8-1",
          "8-2",
          "8-3",
          "8-4",
          "8-5",
          "9-1",
          "9-2"
         ],
         "y": [
          1,
          null,
          1,
          0,
          0.875,
          1,
          0
         ]
        },
        {
         "name": "王传文_24h拆分过滤率",
         "type": "scatter",
         "uid": "212fc526-c22b-11e8-8e00-a81e84e6c740",
         "x": [
          "8-1",
          "8-2",
          "8-3",
          "8-4",
          "8-5",
          "9-1",
          "9-2"
         ],
         "y": [
          1,
          null,
          1,
          0,
          0,
          0.5,
          0
         ]
        },
        {
         "name": "王传文_48h拆分过滤率",
         "type": "scatter",
         "uid": "212fc8b4-c22b-11e8-8e00-a81e84e6c740",
         "x": [
          "8-1",
          "8-2",
          "8-3",
          "8-4",
          "8-5",
          "9-1",
          "9-2"
         ],
         "y": [
          1,
          null,
          1,
          0,
          1,
          1,
          0
         ]
        },
        {
         "name": "林文文_24h拆分过滤率",
         "type": "scatter",
         "uid": "212fcc38-c22b-11e8-8e00-a81e84e6c740",
         "x": [
          "8-1",
          "8-2",
          "8-3",
          "8-4",
          "8-5",
          "9-1",
          "9-2"
         ],
         "y": [
          1,
          null,
          1,
          0,
          0.75,
          0.5,
          0
         ]
        },
        {
         "name": "林文文_48h拆分过滤率",
         "type": "scatter",
         "uid": "212fcfbc-c22b-11e8-8e00-a81e84e6c740",
         "x": [
          "8-1",
          "8-2",
          "8-3",
          "8-4",
          "8-5",
          "9-1",
          "9-2"
         ],
         "y": [
          1,
          null,
          1,
          0,
          0.75,
          1,
          0
         ]
        },
        {
         "name": "高剑_24h拆分过滤率",
         "type": "scatter",
         "uid": "212fd336-c22b-11e8-8e00-a81e84e6c740",
         "x": [
          "8-1",
          "8-2",
          "8-3",
          "8-4",
          "8-5",
          "9-1",
          "9-2"
         ],
         "y": [
          1,
          null,
          0,
          0,
          0,
          null,
          null
         ]
        },
        {
         "name": "高剑_48h拆分过滤率",
         "type": "scatter",
         "uid": "212fd6ba-c22b-11e8-8e00-a81e84e6c740",
         "x": [
          "8-1",
          "8-2",
          "8-3",
          "8-4",
          "8-5",
          "9-1",
          "9-2"
         ],
         "y": [
          1,
          null,
          0,
          0,
          0,
          null,
          null
         ]
        },
        {
         "name": "沈恩惠_24h拆分过滤率",
         "type": "scatter",
         "uid": "212fda34-c22b-11e8-8e00-a81e84e6c740",
         "x": [
          "8-1",
          "8-2",
          "8-3",
          "8-4",
          "8-5",
          "9-1",
          "9-2"
         ],
         "y": [
          1,
          null,
          null,
          0,
          0.2,
          null,
          0
         ]
        },
        {
         "name": "沈恩惠_48h拆分过滤率",
         "type": "scatter",
         "uid": "212fddb8-c22b-11e8-8e00-a81e84e6c740",
         "x": [
          "8-1",
          "8-2",
          "8-3",
          "8-4",
          "8-5",
          "9-1",
          "9-2"
         ],
         "y": [
          1,
          null,
          null,
          0,
          0.6,
          null,
          0
         ]
        }
       ],
       "layout": {
        "title": "24h拆分过滤率&48h拆分过滤率周趋势图",
        "xaxis": {
         "mirror": "all",
         "nticks": 20,
         "showgrid": true,
         "showline": true,
         "title": "周",
         "zeroline": true
        },
        "yaxis": {
         "mirror": "all",
         "nticks": 20,
         "showgrid": true,
         "showline": true,
         "title": "24h拆分过滤率&48h拆分过滤率",
         "zeroline": true
        }
       }
      },
      "text/html": [
       "<div id=\"d82680f3-4564-4e6c-85b2-7fa8290835e4\" style=\"height: 525px; width: 100%;\" class=\"plotly-graph-div\"></div><script type=\"text/javascript\">require([\"plotly\"], function(Plotly) { window.PLOTLYENV=window.PLOTLYENV || {};window.PLOTLYENV.BASE_URL=\"https://plot.ly\";\n",
       "        Plotly.plot(\n",
       "            'd82680f3-4564-4e6c-85b2-7fa8290835e4',\n",
       "            [{\"name\": \"\\u8f66\\u5929\\u680b_24h\\u62c6\\u5206\\u8fc7\\u6ee4\\u7387\", \"x\": [\"8-1\", \"8-2\", \"8-3\", \"8-4\", \"8-5\", \"9-1\", \"9-2\"], \"y\": [1.0, null, null, 0.0, 0.6666666666666666, null, 0.0], \"type\": \"scatter\", \"uid\": \"212fb432-c22b-11e8-8e00-a81e84e6c740\"}, {\"name\": \"\\u8f66\\u5929\\u680b_48h\\u62c6\\u5206\\u8fc7\\u6ee4\\u7387\", \"x\": [\"8-1\", \"8-2\", \"8-3\", \"8-4\", \"8-5\", \"9-1\", \"9-2\"], \"y\": [1.0, null, null, 0.0, 1.0, null, 0.0], \"type\": \"scatter\", \"uid\": \"212fb996-c22b-11e8-8e00-a81e84e6c740\"}, {\"name\": \"\\u6c88\\u7acb\\u7fa4_24h\\u62c6\\u5206\\u8fc7\\u6ee4\\u7387\", \"x\": [\"8-1\", \"8-2\", \"8-3\", \"8-4\", \"8-5\", \"9-1\", \"9-2\"], \"y\": [1.0, null, 1.0, 0.0, 0.5, 0.6666666666666666, 0.0], \"type\": \"scatter\", \"uid\": \"212fbdc4-c22b-11e8-8e00-a81e84e6c740\"}, {\"name\": \"\\u6c88\\u7acb\\u7fa4_48h\\u62c6\\u5206\\u8fc7\\u6ee4\\u7387\", \"x\": [\"8-1\", \"8-2\", \"8-3\", \"8-4\", \"8-5\", \"9-1\", \"9-2\"], \"y\": [1.0, null, 1.0, 0.0, 0.875, 1.0, 0.0], \"type\": \"scatter\", \"uid\": \"212fc184-c22b-11e8-8e00-a81e84e6c740\"}, {\"name\": \"\\u738b\\u4f20\\u6587_24h\\u62c6\\u5206\\u8fc7\\u6ee4\\u7387\", \"x\": [\"8-1\", \"8-2\", \"8-3\", \"8-4\", \"8-5\", \"9-1\", \"9-2\"], \"y\": [1.0, null, 1.0, 0.0, 0.0, 0.5, 0.0], \"type\": \"scatter\", \"uid\": \"212fc526-c22b-11e8-8e00-a81e84e6c740\"}, {\"name\": \"\\u738b\\u4f20\\u6587_48h\\u62c6\\u5206\\u8fc7\\u6ee4\\u7387\", \"x\": [\"8-1\", \"8-2\", \"8-3\", \"8-4\", \"8-5\", \"9-1\", \"9-2\"], \"y\": [1.0, null, 1.0, 0.0, 1.0, 1.0, 0.0], \"type\": \"scatter\", \"uid\": \"212fc8b4-c22b-11e8-8e00-a81e84e6c740\"}, {\"name\": \"\\u6797\\u6587\\u6587_24h\\u62c6\\u5206\\u8fc7\\u6ee4\\u7387\", \"x\": [\"8-1\", \"8-2\", \"8-3\", \"8-4\", \"8-5\", \"9-1\", \"9-2\"], \"y\": [1.0, null, 1.0, 0.0, 0.75, 0.5, 0.0], \"type\": \"scatter\", \"uid\": \"212fcc38-c22b-11e8-8e00-a81e84e6c740\"}, {\"name\": \"\\u6797\\u6587\\u6587_48h\\u62c6\\u5206\\u8fc7\\u6ee4\\u7387\", \"x\": [\"8-1\", \"8-2\", \"8-3\", \"8-4\", \"8-5\", \"9-1\", \"9-2\"], \"y\": [1.0, null, 1.0, 0.0, 0.75, 1.0, 0.0], \"type\": \"scatter\", \"uid\": \"212fcfbc-c22b-11e8-8e00-a81e84e6c740\"}, {\"name\": \"\\u9ad8\\u5251_24h\\u62c6\\u5206\\u8fc7\\u6ee4\\u7387\", \"x\": [\"8-1\", \"8-2\", \"8-3\", \"8-4\", \"8-5\", \"9-1\", \"9-2\"], \"y\": [1.0, null, 0.0, 0.0, 0.0, null, null], \"type\": \"scatter\", \"uid\": \"212fd336-c22b-11e8-8e00-a81e84e6c740\"}, {\"name\": \"\\u9ad8\\u5251_48h\\u62c6\\u5206\\u8fc7\\u6ee4\\u7387\", \"x\": [\"8-1\", \"8-2\", \"8-3\", \"8-4\", \"8-5\", \"9-1\", \"9-2\"], \"y\": [1.0, null, 0.0, 0.0, 0.0, null, null], \"type\": \"scatter\", \"uid\": \"212fd6ba-c22b-11e8-8e00-a81e84e6c740\"}, {\"name\": \"\\u6c88\\u6069\\u60e0_24h\\u62c6\\u5206\\u8fc7\\u6ee4\\u7387\", \"x\": [\"8-1\", \"8-2\", \"8-3\", \"8-4\", \"8-5\", \"9-1\", \"9-2\"], \"y\": [1.0, null, null, 0.0, 0.2, null, 0.0], \"type\": \"scatter\", \"uid\": \"212fda34-c22b-11e8-8e00-a81e84e6c740\"}, {\"name\": \"\\u6c88\\u6069\\u60e0_48h\\u62c6\\u5206\\u8fc7\\u6ee4\\u7387\", \"x\": [\"8-1\", \"8-2\", \"8-3\", \"8-4\", \"8-5\", \"9-1\", \"9-2\"], \"y\": [1.0, null, null, 0.0, 0.6, null, 0.0], \"type\": \"scatter\", \"uid\": \"212fddb8-c22b-11e8-8e00-a81e84e6c740\"}],\n",
       "            {\"title\": \"24h\\u62c6\\u5206\\u8fc7\\u6ee4\\u7387&48h\\u62c6\\u5206\\u8fc7\\u6ee4\\u7387\\u5468\\u8d8b\\u52bf\\u56fe\", \"xaxis\": {\"mirror\": \"all\", \"nticks\": 20, \"showgrid\": true, \"showline\": true, \"title\": \"\\u5468\", \"zeroline\": true}, \"yaxis\": {\"mirror\": \"all\", \"nticks\": 20, \"showgrid\": true, \"showline\": true, \"title\": \"24h\\u62c6\\u5206\\u8fc7\\u6ee4\\u7387&48h\\u62c6\\u5206\\u8fc7\\u6ee4\\u7387\", \"zeroline\": true}},\n",
       "            {\"showLink\": true, \"linkText\": \"Export to plot.ly\"}\n",
       "        ).then(function () {return Plotly.addFrames('d82680f3-4564-4e6c-85b2-7fa8290835e4',{});}).then(function(){Plotly.animate('d82680f3-4564-4e6c-85b2-7fa8290835e4');})\n",
       "        });</script>"
      ],
      "text/vnd.plotly.v1+html": [
       "<div id=\"d82680f3-4564-4e6c-85b2-7fa8290835e4\" style=\"height: 525px; width: 100%;\" class=\"plotly-graph-div\"></div><script type=\"text/javascript\">require([\"plotly\"], function(Plotly) { window.PLOTLYENV=window.PLOTLYENV || {};window.PLOTLYENV.BASE_URL=\"https://plot.ly\";\n",
       "        Plotly.plot(\n",
       "            'd82680f3-4564-4e6c-85b2-7fa8290835e4',\n",
       "            [{\"name\": \"\\u8f66\\u5929\\u680b_24h\\u62c6\\u5206\\u8fc7\\u6ee4\\u7387\", \"x\": [\"8-1\", \"8-2\", \"8-3\", \"8-4\", \"8-5\", \"9-1\", \"9-2\"], \"y\": [1.0, null, null, 0.0, 0.6666666666666666, null, 0.0], \"type\": \"scatter\", \"uid\": \"212fb432-c22b-11e8-8e00-a81e84e6c740\"}, {\"name\": \"\\u8f66\\u5929\\u680b_48h\\u62c6\\u5206\\u8fc7\\u6ee4\\u7387\", \"x\": [\"8-1\", \"8-2\", \"8-3\", \"8-4\", \"8-5\", \"9-1\", \"9-2\"], \"y\": [1.0, null, null, 0.0, 1.0, null, 0.0], \"type\": \"scatter\", \"uid\": \"212fb996-c22b-11e8-8e00-a81e84e6c740\"}, {\"name\": \"\\u6c88\\u7acb\\u7fa4_24h\\u62c6\\u5206\\u8fc7\\u6ee4\\u7387\", \"x\": [\"8-1\", \"8-2\", \"8-3\", \"8-4\", \"8-5\", \"9-1\", \"9-2\"], \"y\": [1.0, null, 1.0, 0.0, 0.5, 0.6666666666666666, 0.0], \"type\": \"scatter\", \"uid\": \"212fbdc4-c22b-11e8-8e00-a81e84e6c740\"}, {\"name\": \"\\u6c88\\u7acb\\u7fa4_48h\\u62c6\\u5206\\u8fc7\\u6ee4\\u7387\", \"x\": [\"8-1\", \"8-2\", \"8-3\", \"8-4\", \"8-5\", \"9-1\", \"9-2\"], \"y\": [1.0, null, 1.0, 0.0, 0.875, 1.0, 0.0], \"type\": \"scatter\", \"uid\": \"212fc184-c22b-11e8-8e00-a81e84e6c740\"}, {\"name\": \"\\u738b\\u4f20\\u6587_24h\\u62c6\\u5206\\u8fc7\\u6ee4\\u7387\", \"x\": [\"8-1\", \"8-2\", \"8-3\", \"8-4\", \"8-5\", \"9-1\", \"9-2\"], \"y\": [1.0, null, 1.0, 0.0, 0.0, 0.5, 0.0], \"type\": \"scatter\", \"uid\": \"212fc526-c22b-11e8-8e00-a81e84e6c740\"}, {\"name\": \"\\u738b\\u4f20\\u6587_48h\\u62c6\\u5206\\u8fc7\\u6ee4\\u7387\", \"x\": [\"8-1\", \"8-2\", \"8-3\", \"8-4\", \"8-5\", \"9-1\", \"9-2\"], \"y\": [1.0, null, 1.0, 0.0, 1.0, 1.0, 0.0], \"type\": \"scatter\", \"uid\": \"212fc8b4-c22b-11e8-8e00-a81e84e6c740\"}, {\"name\": \"\\u6797\\u6587\\u6587_24h\\u62c6\\u5206\\u8fc7\\u6ee4\\u7387\", \"x\": [\"8-1\", \"8-2\", \"8-3\", \"8-4\", \"8-5\", \"9-1\", \"9-2\"], \"y\": [1.0, null, 1.0, 0.0, 0.75, 0.5, 0.0], \"type\": \"scatter\", \"uid\": \"212fcc38-c22b-11e8-8e00-a81e84e6c740\"}, {\"name\": \"\\u6797\\u6587\\u6587_48h\\u62c6\\u5206\\u8fc7\\u6ee4\\u7387\", \"x\": [\"8-1\", \"8-2\", \"8-3\", \"8-4\", \"8-5\", \"9-1\", \"9-2\"], \"y\": [1.0, null, 1.0, 0.0, 0.75, 1.0, 0.0], \"type\": \"scatter\", \"uid\": \"212fcfbc-c22b-11e8-8e00-a81e84e6c740\"}, {\"name\": \"\\u9ad8\\u5251_24h\\u62c6\\u5206\\u8fc7\\u6ee4\\u7387\", \"x\": [\"8-1\", \"8-2\", \"8-3\", \"8-4\", \"8-5\", \"9-1\", \"9-2\"], \"y\": [1.0, null, 0.0, 0.0, 0.0, null, null], \"type\": \"scatter\", \"uid\": \"212fd336-c22b-11e8-8e00-a81e84e6c740\"}, {\"name\": \"\\u9ad8\\u5251_48h\\u62c6\\u5206\\u8fc7\\u6ee4\\u7387\", \"x\": [\"8-1\", \"8-2\", \"8-3\", \"8-4\", \"8-5\", \"9-1\", \"9-2\"], \"y\": [1.0, null, 0.0, 0.0, 0.0, null, null], \"type\": \"scatter\", \"uid\": \"212fd6ba-c22b-11e8-8e00-a81e84e6c740\"}, {\"name\": \"\\u6c88\\u6069\\u60e0_24h\\u62c6\\u5206\\u8fc7\\u6ee4\\u7387\", \"x\": [\"8-1\", \"8-2\", \"8-3\", \"8-4\", \"8-5\", \"9-1\", \"9-2\"], \"y\": [1.0, null, null, 0.0, 0.2, null, 0.0], \"type\": \"scatter\", \"uid\": \"212fda34-c22b-11e8-8e00-a81e84e6c740\"}, {\"name\": \"\\u6c88\\u6069\\u60e0_48h\\u62c6\\u5206\\u8fc7\\u6ee4\\u7387\", \"x\": [\"8-1\", \"8-2\", \"8-3\", \"8-4\", \"8-5\", \"9-1\", \"9-2\"], \"y\": [1.0, null, null, 0.0, 0.6, null, 0.0], \"type\": \"scatter\", \"uid\": \"212fddb8-c22b-11e8-8e00-a81e84e6c740\"}],\n",
       "            {\"title\": \"24h\\u62c6\\u5206\\u8fc7\\u6ee4\\u7387&48h\\u62c6\\u5206\\u8fc7\\u6ee4\\u7387\\u5468\\u8d8b\\u52bf\\u56fe\", \"xaxis\": {\"mirror\": \"all\", \"nticks\": 20, \"showgrid\": true, \"showline\": true, \"title\": \"\\u5468\", \"zeroline\": true}, \"yaxis\": {\"mirror\": \"all\", \"nticks\": 20, \"showgrid\": true, \"showline\": true, \"title\": \"24h\\u62c6\\u5206\\u8fc7\\u6ee4\\u7387&48h\\u62c6\\u5206\\u8fc7\\u6ee4\\u7387\", \"zeroline\": true}},\n",
       "            {\"showLink\": true, \"linkText\": \"Export to plot.ly\"}\n",
       "        ).then(function () {return Plotly.addFrames('d82680f3-4564-4e6c-85b2-7fa8290835e4',{});}).then(function(){Plotly.animate('d82680f3-4564-4e6c-85b2-7fa8290835e4');})\n",
       "        });</script>"
      ]
     },
     "metadata": {},
     "output_type": "display_data"
    },
    {
     "data": {
      "application/vnd.plotly.v1+json": {
       "data": [
        {
         "name": "车天栋_24h拆分过滤率",
         "type": "scatter",
         "uid": "21544ba8-c22b-11e8-8e00-a81e84e6c740",
         "x": [
          "8",
          "9"
         ],
         "y": [
          0.5,
          0
         ]
        },
        {
         "name": "车天栋_48h拆分过滤率",
         "type": "scatter",
         "uid": "215451ca-c22b-11e8-8e00-a81e84e6c740",
         "x": [
          "8",
          "9"
         ],
         "y": [
          0.6666666666666666,
          0
         ]
        },
        {
         "name": "沈立群_24h拆分过滤率",
         "type": "scatter",
         "uid": "21545670-c22b-11e8-8e00-a81e84e6c740",
         "x": [
          "8",
          "9"
         ],
         "y": [
          0.4,
          0.4
         ]
        },
        {
         "name": "沈立群_48h拆分过滤率",
         "type": "scatter",
         "uid": "21545aa8-c22b-11e8-8e00-a81e84e6c740",
         "x": [
          "8",
          "9"
         ],
         "y": [
          0.6,
          0.6
         ]
        },
        {
         "name": "王传文_24h拆分过滤率",
         "type": "scatter",
         "uid": "21545e68-c22b-11e8-8e00-a81e84e6c740",
         "x": [
          "8",
          "9"
         ],
         "y": [
          0.2857142857142857,
          0.2
         ]
        },
        {
         "name": "王传文_48h拆分过滤率",
         "type": "scatter",
         "uid": "215461ec-c22b-11e8-8e00-a81e84e6c740",
         "x": [
          "8",
          "9"
         ],
         "y": [
          0.5714285714285714,
          0.4
         ]
        },
        {
         "name": "林文文_24h拆分过滤率",
         "type": "scatter",
         "uid": "21546552-c22b-11e8-8e00-a81e84e6c740",
         "x": [
          "8",
          "9"
         ],
         "y": [
          0.5454545454545454,
          0.25
         ]
        },
        {
         "name": "林文文_48h拆分过滤率",
         "type": "scatter",
         "uid": "215468cc-c22b-11e8-8e00-a81e84e6c740",
         "x": [
          "8",
          "9"
         ],
         "y": [
          0.5454545454545454,
          0.5
         ]
        },
        {
         "name": "高剑_24h拆分过滤率",
         "type": "scatter",
         "uid": "21546c28-c22b-11e8-8e00-a81e84e6c740",
         "x": [
          "8",
          "9"
         ],
         "y": [
          0.1,
          null
         ]
        },
        {
         "name": "高剑_48h拆分过滤率",
         "type": "scatter",
         "uid": "21546f66-c22b-11e8-8e00-a81e84e6c740",
         "x": [
          "8",
          "9"
         ],
         "y": [
          0.1,
          null
         ]
        },
        {
         "name": "沈恩惠_24h拆分过滤率",
         "type": "scatter",
         "uid": "215472e0-c22b-11e8-8e00-a81e84e6c740",
         "x": [
          "8",
          "9"
         ],
         "y": [
          0.2222222222222222,
          0
         ]
        },
        {
         "name": "沈恩惠_48h拆分过滤率",
         "type": "scatter",
         "uid": "21547650-c22b-11e8-8e00-a81e84e6c740",
         "x": [
          "8",
          "9"
         ],
         "y": [
          0.4444444444444444,
          0
         ]
        }
       ],
       "layout": {
        "title": "24h拆分过滤率&48h拆分过滤率月趋势图",
        "xaxis": {
         "mirror": "all",
         "nticks": 20,
         "showgrid": true,
         "showline": true,
         "title": "月",
         "zeroline": true
        },
        "yaxis": {
         "mirror": "all",
         "nticks": 20,
         "showgrid": true,
         "showline": true,
         "title": "24h拆分过滤率&48h拆分过滤率",
         "zeroline": true
        }
       }
      },
      "text/html": [
       "<div id=\"8b7342eb-6845-4117-bfc6-55fda614466e\" style=\"height: 525px; width: 100%;\" class=\"plotly-graph-div\"></div><script type=\"text/javascript\">require([\"plotly\"], function(Plotly) { window.PLOTLYENV=window.PLOTLYENV || {};window.PLOTLYENV.BASE_URL=\"https://plot.ly\";\n",
       "        Plotly.plot(\n",
       "            '8b7342eb-6845-4117-bfc6-55fda614466e',\n",
       "            [{\"name\": \"\\u8f66\\u5929\\u680b_24h\\u62c6\\u5206\\u8fc7\\u6ee4\\u7387\", \"x\": [\"8\", \"9\"], \"y\": [0.5, 0.0], \"type\": \"scatter\", \"uid\": \"21544ba8-c22b-11e8-8e00-a81e84e6c740\"}, {\"name\": \"\\u8f66\\u5929\\u680b_48h\\u62c6\\u5206\\u8fc7\\u6ee4\\u7387\", \"x\": [\"8\", \"9\"], \"y\": [0.6666666666666666, 0.0], \"type\": \"scatter\", \"uid\": \"215451ca-c22b-11e8-8e00-a81e84e6c740\"}, {\"name\": \"\\u6c88\\u7acb\\u7fa4_24h\\u62c6\\u5206\\u8fc7\\u6ee4\\u7387\", \"x\": [\"8\", \"9\"], \"y\": [0.4, 0.4], \"type\": \"scatter\", \"uid\": \"21545670-c22b-11e8-8e00-a81e84e6c740\"}, {\"name\": \"\\u6c88\\u7acb\\u7fa4_48h\\u62c6\\u5206\\u8fc7\\u6ee4\\u7387\", \"x\": [\"8\", \"9\"], \"y\": [0.6, 0.6], \"type\": \"scatter\", \"uid\": \"21545aa8-c22b-11e8-8e00-a81e84e6c740\"}, {\"name\": \"\\u738b\\u4f20\\u6587_24h\\u62c6\\u5206\\u8fc7\\u6ee4\\u7387\", \"x\": [\"8\", \"9\"], \"y\": [0.2857142857142857, 0.2], \"type\": \"scatter\", \"uid\": \"21545e68-c22b-11e8-8e00-a81e84e6c740\"}, {\"name\": \"\\u738b\\u4f20\\u6587_48h\\u62c6\\u5206\\u8fc7\\u6ee4\\u7387\", \"x\": [\"8\", \"9\"], \"y\": [0.5714285714285714, 0.4], \"type\": \"scatter\", \"uid\": \"215461ec-c22b-11e8-8e00-a81e84e6c740\"}, {\"name\": \"\\u6797\\u6587\\u6587_24h\\u62c6\\u5206\\u8fc7\\u6ee4\\u7387\", \"x\": [\"8\", \"9\"], \"y\": [0.5454545454545454, 0.25], \"type\": \"scatter\", \"uid\": \"21546552-c22b-11e8-8e00-a81e84e6c740\"}, {\"name\": \"\\u6797\\u6587\\u6587_48h\\u62c6\\u5206\\u8fc7\\u6ee4\\u7387\", \"x\": [\"8\", \"9\"], \"y\": [0.5454545454545454, 0.5], \"type\": \"scatter\", \"uid\": \"215468cc-c22b-11e8-8e00-a81e84e6c740\"}, {\"name\": \"\\u9ad8\\u5251_24h\\u62c6\\u5206\\u8fc7\\u6ee4\\u7387\", \"x\": [\"8\", \"9\"], \"y\": [0.1, null], \"type\": \"scatter\", \"uid\": \"21546c28-c22b-11e8-8e00-a81e84e6c740\"}, {\"name\": \"\\u9ad8\\u5251_48h\\u62c6\\u5206\\u8fc7\\u6ee4\\u7387\", \"x\": [\"8\", \"9\"], \"y\": [0.1, null], \"type\": \"scatter\", \"uid\": \"21546f66-c22b-11e8-8e00-a81e84e6c740\"}, {\"name\": \"\\u6c88\\u6069\\u60e0_24h\\u62c6\\u5206\\u8fc7\\u6ee4\\u7387\", \"x\": [\"8\", \"9\"], \"y\": [0.2222222222222222, 0.0], \"type\": \"scatter\", \"uid\": \"215472e0-c22b-11e8-8e00-a81e84e6c740\"}, {\"name\": \"\\u6c88\\u6069\\u60e0_48h\\u62c6\\u5206\\u8fc7\\u6ee4\\u7387\", \"x\": [\"8\", \"9\"], \"y\": [0.4444444444444444, 0.0], \"type\": \"scatter\", \"uid\": \"21547650-c22b-11e8-8e00-a81e84e6c740\"}],\n",
       "            {\"title\": \"24h\\u62c6\\u5206\\u8fc7\\u6ee4\\u7387&48h\\u62c6\\u5206\\u8fc7\\u6ee4\\u7387\\u6708\\u8d8b\\u52bf\\u56fe\", \"xaxis\": {\"mirror\": \"all\", \"nticks\": 20, \"showgrid\": true, \"showline\": true, \"title\": \"\\u6708\", \"zeroline\": true}, \"yaxis\": {\"mirror\": \"all\", \"nticks\": 20, \"showgrid\": true, \"showline\": true, \"title\": \"24h\\u62c6\\u5206\\u8fc7\\u6ee4\\u7387&48h\\u62c6\\u5206\\u8fc7\\u6ee4\\u7387\", \"zeroline\": true}},\n",
       "            {\"showLink\": true, \"linkText\": \"Export to plot.ly\"}\n",
       "        ).then(function () {return Plotly.addFrames('8b7342eb-6845-4117-bfc6-55fda614466e',{});}).then(function(){Plotly.animate('8b7342eb-6845-4117-bfc6-55fda614466e');})\n",
       "        });</script>"
      ],
      "text/vnd.plotly.v1+html": [
       "<div id=\"8b7342eb-6845-4117-bfc6-55fda614466e\" style=\"height: 525px; width: 100%;\" class=\"plotly-graph-div\"></div><script type=\"text/javascript\">require([\"plotly\"], function(Plotly) { window.PLOTLYENV=window.PLOTLYENV || {};window.PLOTLYENV.BASE_URL=\"https://plot.ly\";\n",
       "        Plotly.plot(\n",
       "            '8b7342eb-6845-4117-bfc6-55fda614466e',\n",
       "            [{\"name\": \"\\u8f66\\u5929\\u680b_24h\\u62c6\\u5206\\u8fc7\\u6ee4\\u7387\", \"x\": [\"8\", \"9\"], \"y\": [0.5, 0.0], \"type\": \"scatter\", \"uid\": \"21544ba8-c22b-11e8-8e00-a81e84e6c740\"}, {\"name\": \"\\u8f66\\u5929\\u680b_48h\\u62c6\\u5206\\u8fc7\\u6ee4\\u7387\", \"x\": [\"8\", \"9\"], \"y\": [0.6666666666666666, 0.0], \"type\": \"scatter\", \"uid\": \"215451ca-c22b-11e8-8e00-a81e84e6c740\"}, {\"name\": \"\\u6c88\\u7acb\\u7fa4_24h\\u62c6\\u5206\\u8fc7\\u6ee4\\u7387\", \"x\": [\"8\", \"9\"], \"y\": [0.4, 0.4], \"type\": \"scatter\", \"uid\": \"21545670-c22b-11e8-8e00-a81e84e6c740\"}, {\"name\": \"\\u6c88\\u7acb\\u7fa4_48h\\u62c6\\u5206\\u8fc7\\u6ee4\\u7387\", \"x\": [\"8\", \"9\"], \"y\": [0.6, 0.6], \"type\": \"scatter\", \"uid\": \"21545aa8-c22b-11e8-8e00-a81e84e6c740\"}, {\"name\": \"\\u738b\\u4f20\\u6587_24h\\u62c6\\u5206\\u8fc7\\u6ee4\\u7387\", \"x\": [\"8\", \"9\"], \"y\": [0.2857142857142857, 0.2], \"type\": \"scatter\", \"uid\": \"21545e68-c22b-11e8-8e00-a81e84e6c740\"}, {\"name\": \"\\u738b\\u4f20\\u6587_48h\\u62c6\\u5206\\u8fc7\\u6ee4\\u7387\", \"x\": [\"8\", \"9\"], \"y\": [0.5714285714285714, 0.4], \"type\": \"scatter\", \"uid\": \"215461ec-c22b-11e8-8e00-a81e84e6c740\"}, {\"name\": \"\\u6797\\u6587\\u6587_24h\\u62c6\\u5206\\u8fc7\\u6ee4\\u7387\", \"x\": [\"8\", \"9\"], \"y\": [0.5454545454545454, 0.25], \"type\": \"scatter\", \"uid\": \"21546552-c22b-11e8-8e00-a81e84e6c740\"}, {\"name\": \"\\u6797\\u6587\\u6587_48h\\u62c6\\u5206\\u8fc7\\u6ee4\\u7387\", \"x\": [\"8\", \"9\"], \"y\": [0.5454545454545454, 0.5], \"type\": \"scatter\", \"uid\": \"215468cc-c22b-11e8-8e00-a81e84e6c740\"}, {\"name\": \"\\u9ad8\\u5251_24h\\u62c6\\u5206\\u8fc7\\u6ee4\\u7387\", \"x\": [\"8\", \"9\"], \"y\": [0.1, null], \"type\": \"scatter\", \"uid\": \"21546c28-c22b-11e8-8e00-a81e84e6c740\"}, {\"name\": \"\\u9ad8\\u5251_48h\\u62c6\\u5206\\u8fc7\\u6ee4\\u7387\", \"x\": [\"8\", \"9\"], \"y\": [0.1, null], \"type\": \"scatter\", \"uid\": \"21546f66-c22b-11e8-8e00-a81e84e6c740\"}, {\"name\": \"\\u6c88\\u6069\\u60e0_24h\\u62c6\\u5206\\u8fc7\\u6ee4\\u7387\", \"x\": [\"8\", \"9\"], \"y\": [0.2222222222222222, 0.0], \"type\": \"scatter\", \"uid\": \"215472e0-c22b-11e8-8e00-a81e84e6c740\"}, {\"name\": \"\\u6c88\\u6069\\u60e0_48h\\u62c6\\u5206\\u8fc7\\u6ee4\\u7387\", \"x\": [\"8\", \"9\"], \"y\": [0.4444444444444444, 0.0], \"type\": \"scatter\", \"uid\": \"21547650-c22b-11e8-8e00-a81e84e6c740\"}],\n",
       "            {\"title\": \"24h\\u62c6\\u5206\\u8fc7\\u6ee4\\u7387&48h\\u62c6\\u5206\\u8fc7\\u6ee4\\u7387\\u6708\\u8d8b\\u52bf\\u56fe\", \"xaxis\": {\"mirror\": \"all\", \"nticks\": 20, \"showgrid\": true, \"showline\": true, \"title\": \"\\u6708\", \"zeroline\": true}, \"yaxis\": {\"mirror\": \"all\", \"nticks\": 20, \"showgrid\": true, \"showline\": true, \"title\": \"24h\\u62c6\\u5206\\u8fc7\\u6ee4\\u7387&48h\\u62c6\\u5206\\u8fc7\\u6ee4\\u7387\", \"zeroline\": true}},\n",
       "            {\"showLink\": true, \"linkText\": \"Export to plot.ly\"}\n",
       "        ).then(function () {return Plotly.addFrames('8b7342eb-6845-4117-bfc6-55fda614466e',{});}).then(function(){Plotly.animate('8b7342eb-6845-4117-bfc6-55fda614466e');})\n",
       "        });</script>"
      ]
     },
     "metadata": {},
     "output_type": "display_data"
    }
   ],
   "source": [
    "data_dict = {'24h拆分过滤率':['24h完成批次数', '下机批次数'], '48h拆分过滤率':['48h完成批次数', '下机批次数']}\n",
    "myModule.plot( all_dict, data_dict, '人员' ,  'line' )"
   ]
  },
  {
   "cell_type": "markdown",
   "metadata": {},
   "source": [
    "#### 平均反馈时长和反馈时长Q80"
   ]
  },
  {
   "cell_type": "code",
   "execution_count": 31,
   "metadata": {},
   "outputs": [
    {
     "data": {
      "application/vnd.plotly.v1+json": {
       "data": [
        {
         "name": "车天栋_平均反馈时长",
         "type": "scatter",
         "uid": "21b8fc7e-c22b-11e8-8e00-a81e84e6c740",
         "x": [
          "8-1",
          "8-2",
          "8-3",
          "8-4",
          "8-5",
          "9-1",
          "9-2"
         ],
         "y": [
          1,
          0,
          0,
          1.75,
          11.02,
          0,
          3.66
         ]
        },
        {
         "name": "车天栋_反馈时长Q80",
         "type": "scatter",
         "uid": "21b901c4-c22b-11e8-8e00-a81e84e6c740",
         "x": [
          "8-1",
          "8-2",
          "8-3",
          "8-4",
          "8-5",
          "9-1",
          "9-2"
         ],
         "y": [
          1,
          0,
          0,
          1.56,
          11.36,
          0,
          2.14
         ]
        },
        {
         "name": "沈立群_平均反馈时长",
         "type": "scatter",
         "uid": "21b905d4-c22b-11e8-8e00-a81e84e6c740",
         "x": [
          "8-1",
          "8-2",
          "8-3",
          "8-4",
          "8-5",
          "9-1",
          "9-2"
         ],
         "y": [
          1,
          0,
          1.04,
          1.96,
          13,
          4.82,
          1.48
         ]
        },
        {
         "name": "沈立群_反馈时长Q80",
         "type": "scatter",
         "uid": "21b909b2-c22b-11e8-8e00-a81e84e6c740",
         "x": [
          "8-1",
          "8-2",
          "8-3",
          "8-4",
          "8-5",
          "9-1",
          "9-2"
         ],
         "y": [
          1,
          0,
          1.04,
          2.33,
          14.08,
          4.06,
          1.32
         ]
        },
        {
         "name": "王传文_平均反馈时长",
         "type": "scatter",
         "uid": "21b90d4a-c22b-11e8-8e00-a81e84e6c740",
         "x": [
          "8-1",
          "8-2",
          "8-3",
          "8-4",
          "8-5",
          "9-1",
          "9-2"
         ],
         "y": [
          1,
          0,
          3.04,
          4.31,
          12.68,
          8.47,
          1.85
         ]
        },
        {
         "name": "王传文_反馈时长Q80",
         "type": "scatter",
         "uid": "21b910d8-c22b-11e8-8e00-a81e84e6c740",
         "x": [
          "8-1",
          "8-2",
          "8-3",
          "8-4",
          "8-5",
          "9-1",
          "9-2"
         ],
         "y": [
          1,
          0,
          3.04,
          2.03,
          1.56,
          2.04,
          1.71
         ]
        },
        {
         "name": "林文文_平均反馈时长",
         "type": "scatter",
         "uid": "21b91452-c22b-11e8-8e00-a81e84e6c740",
         "x": [
          "8-1",
          "8-2",
          "8-3",
          "8-4",
          "8-5",
          "9-1",
          "9-2"
         ],
         "y": [
          1,
          0,
          1.8,
          2.24,
          3.29,
          8.91,
          2.75
         ]
        },
        {
         "name": "林文文_反馈时长Q80",
         "type": "scatter",
         "uid": "21b917cc-c22b-11e8-8e00-a81e84e6c740",
         "x": [
          "8-1",
          "8-2",
          "8-3",
          "8-4",
          "8-5",
          "9-1",
          "9-2"
         ],
         "y": [
          1,
          0,
          1.44,
          2.38,
          3.84,
          3.01,
          2.28
         ]
        },
        {
         "name": "高剑_平均反馈时长",
         "type": "scatter",
         "uid": "21b91b3c-c22b-11e8-8e00-a81e84e6c740",
         "x": [
          "8-1",
          "8-2",
          "8-3",
          "8-4",
          "8-5",
          "9-1",
          "9-2"
         ],
         "y": [
          1,
          0,
          43.34,
          3.21,
          6.55,
          0,
          0
         ]
        },
        {
         "name": "高剑_反馈时长Q80",
         "type": "scatter",
         "uid": "21b91ec0-c22b-11e8-8e00-a81e84e6c740",
         "x": [
          "8-1",
          "8-2",
          "8-3",
          "8-4",
          "8-5",
          "9-1",
          "9-2"
         ],
         "y": [
          1,
          0,
          43.34,
          3.15,
          6.55,
          0,
          0
         ]
        },
        {
         "name": "沈恩惠_平均反馈时长",
         "type": "scatter",
         "uid": "21b9223a-c22b-11e8-8e00-a81e84e6c740",
         "x": [
          "8-1",
          "8-2",
          "8-3",
          "8-4",
          "8-5",
          "9-1",
          "9-2"
         ],
         "y": [
          1,
          0,
          0,
          4.6,
          7.69,
          0,
          1.52
         ]
        },
        {
         "name": "沈恩惠_反馈时长Q80",
         "type": "scatter",
         "uid": "21b925aa-c22b-11e8-8e00-a81e84e6c740",
         "x": [
          "8-1",
          "8-2",
          "8-3",
          "8-4",
          "8-5",
          "9-1",
          "9-2"
         ],
         "y": [
          1,
          0,
          0,
          3.36,
          2.66,
          0,
          0.9
         ]
        }
       ],
       "layout": {
        "title": "平均反馈时长&反馈时长Q80周趋势图",
        "xaxis": {
         "mirror": "all",
         "nticks": 20,
         "showgrid": true,
         "showline": true,
         "title": "周",
         "zeroline": true
        },
        "yaxis": {
         "mirror": "all",
         "nticks": 20,
         "showgrid": true,
         "showline": true,
         "title": "平均反馈时长&反馈时长Q80",
         "zeroline": true
        }
       }
      },
      "text/html": [
       "<div id=\"2fe08a13-98fd-4a26-9a5f-2f96102c8141\" style=\"height: 525px; width: 100%;\" class=\"plotly-graph-div\"></div><script type=\"text/javascript\">require([\"plotly\"], function(Plotly) { window.PLOTLYENV=window.PLOTLYENV || {};window.PLOTLYENV.BASE_URL=\"https://plot.ly\";\n",
       "        Plotly.plot(\n",
       "            '2fe08a13-98fd-4a26-9a5f-2f96102c8141',\n",
       "            [{\"name\": \"\\u8f66\\u5929\\u680b_\\u5e73\\u5747\\u53cd\\u9988\\u65f6\\u957f\", \"x\": [\"8-1\", \"8-2\", \"8-3\", \"8-4\", \"8-5\", \"9-1\", \"9-2\"], \"y\": [1.0, 0.0, 0.0, 1.75, 11.02, 0.0, 3.66], \"type\": \"scatter\", \"uid\": \"21b8fc7e-c22b-11e8-8e00-a81e84e6c740\"}, {\"name\": \"\\u8f66\\u5929\\u680b_\\u53cd\\u9988\\u65f6\\u957fQ80\", \"x\": [\"8-1\", \"8-2\", \"8-3\", \"8-4\", \"8-5\", \"9-1\", \"9-2\"], \"y\": [1.0, 0.0, 0.0, 1.56, 11.36, 0.0, 2.14], \"type\": \"scatter\", \"uid\": \"21b901c4-c22b-11e8-8e00-a81e84e6c740\"}, {\"name\": \"\\u6c88\\u7acb\\u7fa4_\\u5e73\\u5747\\u53cd\\u9988\\u65f6\\u957f\", \"x\": [\"8-1\", \"8-2\", \"8-3\", \"8-4\", \"8-5\", \"9-1\", \"9-2\"], \"y\": [1.0, 0.0, 1.04, 1.96, 13.0, 4.82, 1.48], \"type\": \"scatter\", \"uid\": \"21b905d4-c22b-11e8-8e00-a81e84e6c740\"}, {\"name\": \"\\u6c88\\u7acb\\u7fa4_\\u53cd\\u9988\\u65f6\\u957fQ80\", \"x\": [\"8-1\", \"8-2\", \"8-3\", \"8-4\", \"8-5\", \"9-1\", \"9-2\"], \"y\": [1.0, 0.0, 1.04, 2.33, 14.08, 4.06, 1.32], \"type\": \"scatter\", \"uid\": \"21b909b2-c22b-11e8-8e00-a81e84e6c740\"}, {\"name\": \"\\u738b\\u4f20\\u6587_\\u5e73\\u5747\\u53cd\\u9988\\u65f6\\u957f\", \"x\": [\"8-1\", \"8-2\", \"8-3\", \"8-4\", \"8-5\", \"9-1\", \"9-2\"], \"y\": [1.0, 0.0, 3.04, 4.31, 12.68, 8.47, 1.85], \"type\": \"scatter\", \"uid\": \"21b90d4a-c22b-11e8-8e00-a81e84e6c740\"}, {\"name\": \"\\u738b\\u4f20\\u6587_\\u53cd\\u9988\\u65f6\\u957fQ80\", \"x\": [\"8-1\", \"8-2\", \"8-3\", \"8-4\", \"8-5\", \"9-1\", \"9-2\"], \"y\": [1.0, 0.0, 3.04, 2.03, 1.56, 2.04, 1.71], \"type\": \"scatter\", \"uid\": \"21b910d8-c22b-11e8-8e00-a81e84e6c740\"}, {\"name\": \"\\u6797\\u6587\\u6587_\\u5e73\\u5747\\u53cd\\u9988\\u65f6\\u957f\", \"x\": [\"8-1\", \"8-2\", \"8-3\", \"8-4\", \"8-5\", \"9-1\", \"9-2\"], \"y\": [1.0, 0.0, 1.8, 2.24, 3.29, 8.91, 2.75], \"type\": \"scatter\", \"uid\": \"21b91452-c22b-11e8-8e00-a81e84e6c740\"}, {\"name\": \"\\u6797\\u6587\\u6587_\\u53cd\\u9988\\u65f6\\u957fQ80\", \"x\": [\"8-1\", \"8-2\", \"8-3\", \"8-4\", \"8-5\", \"9-1\", \"9-2\"], \"y\": [1.0, 0.0, 1.44, 2.38, 3.84, 3.01, 2.28], \"type\": \"scatter\", \"uid\": \"21b917cc-c22b-11e8-8e00-a81e84e6c740\"}, {\"name\": \"\\u9ad8\\u5251_\\u5e73\\u5747\\u53cd\\u9988\\u65f6\\u957f\", \"x\": [\"8-1\", \"8-2\", \"8-3\", \"8-4\", \"8-5\", \"9-1\", \"9-2\"], \"y\": [1.0, 0.0, 43.34, 3.21, 6.55, 0.0, 0.0], \"type\": \"scatter\", \"uid\": \"21b91b3c-c22b-11e8-8e00-a81e84e6c740\"}, {\"name\": \"\\u9ad8\\u5251_\\u53cd\\u9988\\u65f6\\u957fQ80\", \"x\": [\"8-1\", \"8-2\", \"8-3\", \"8-4\", \"8-5\", \"9-1\", \"9-2\"], \"y\": [1.0, 0.0, 43.34, 3.15, 6.55, 0.0, 0.0], \"type\": \"scatter\", \"uid\": \"21b91ec0-c22b-11e8-8e00-a81e84e6c740\"}, {\"name\": \"\\u6c88\\u6069\\u60e0_\\u5e73\\u5747\\u53cd\\u9988\\u65f6\\u957f\", \"x\": [\"8-1\", \"8-2\", \"8-3\", \"8-4\", \"8-5\", \"9-1\", \"9-2\"], \"y\": [1.0, 0.0, 0.0, 4.6, 7.69, 0.0, 1.52], \"type\": \"scatter\", \"uid\": \"21b9223a-c22b-11e8-8e00-a81e84e6c740\"}, {\"name\": \"\\u6c88\\u6069\\u60e0_\\u53cd\\u9988\\u65f6\\u957fQ80\", \"x\": [\"8-1\", \"8-2\", \"8-3\", \"8-4\", \"8-5\", \"9-1\", \"9-2\"], \"y\": [1.0, 0.0, 0.0, 3.36, 2.66, 0.0, 0.9], \"type\": \"scatter\", \"uid\": \"21b925aa-c22b-11e8-8e00-a81e84e6c740\"}],\n",
       "            {\"title\": \"\\u5e73\\u5747\\u53cd\\u9988\\u65f6\\u957f&\\u53cd\\u9988\\u65f6\\u957fQ80\\u5468\\u8d8b\\u52bf\\u56fe\", \"xaxis\": {\"mirror\": \"all\", \"nticks\": 20, \"showgrid\": true, \"showline\": true, \"title\": \"\\u5468\", \"zeroline\": true}, \"yaxis\": {\"mirror\": \"all\", \"nticks\": 20, \"showgrid\": true, \"showline\": true, \"title\": \"\\u5e73\\u5747\\u53cd\\u9988\\u65f6\\u957f&\\u53cd\\u9988\\u65f6\\u957fQ80\", \"zeroline\": true}},\n",
       "            {\"showLink\": true, \"linkText\": \"Export to plot.ly\"}\n",
       "        ).then(function () {return Plotly.addFrames('2fe08a13-98fd-4a26-9a5f-2f96102c8141',{});}).then(function(){Plotly.animate('2fe08a13-98fd-4a26-9a5f-2f96102c8141');})\n",
       "        });</script>"
      ],
      "text/vnd.plotly.v1+html": [
       "<div id=\"2fe08a13-98fd-4a26-9a5f-2f96102c8141\" style=\"height: 525px; width: 100%;\" class=\"plotly-graph-div\"></div><script type=\"text/javascript\">require([\"plotly\"], function(Plotly) { window.PLOTLYENV=window.PLOTLYENV || {};window.PLOTLYENV.BASE_URL=\"https://plot.ly\";\n",
       "        Plotly.plot(\n",
       "            '2fe08a13-98fd-4a26-9a5f-2f96102c8141',\n",
       "            [{\"name\": \"\\u8f66\\u5929\\u680b_\\u5e73\\u5747\\u53cd\\u9988\\u65f6\\u957f\", \"x\": [\"8-1\", \"8-2\", \"8-3\", \"8-4\", \"8-5\", \"9-1\", \"9-2\"], \"y\": [1.0, 0.0, 0.0, 1.75, 11.02, 0.0, 3.66], \"type\": \"scatter\", \"uid\": \"21b8fc7e-c22b-11e8-8e00-a81e84e6c740\"}, {\"name\": \"\\u8f66\\u5929\\u680b_\\u53cd\\u9988\\u65f6\\u957fQ80\", \"x\": [\"8-1\", \"8-2\", \"8-3\", \"8-4\", \"8-5\", \"9-1\", \"9-2\"], \"y\": [1.0, 0.0, 0.0, 1.56, 11.36, 0.0, 2.14], \"type\": \"scatter\", \"uid\": \"21b901c4-c22b-11e8-8e00-a81e84e6c740\"}, {\"name\": \"\\u6c88\\u7acb\\u7fa4_\\u5e73\\u5747\\u53cd\\u9988\\u65f6\\u957f\", \"x\": [\"8-1\", \"8-2\", \"8-3\", \"8-4\", \"8-5\", \"9-1\", \"9-2\"], \"y\": [1.0, 0.0, 1.04, 1.96, 13.0, 4.82, 1.48], \"type\": \"scatter\", \"uid\": \"21b905d4-c22b-11e8-8e00-a81e84e6c740\"}, {\"name\": \"\\u6c88\\u7acb\\u7fa4_\\u53cd\\u9988\\u65f6\\u957fQ80\", \"x\": [\"8-1\", \"8-2\", \"8-3\", \"8-4\", \"8-5\", \"9-1\", \"9-2\"], \"y\": [1.0, 0.0, 1.04, 2.33, 14.08, 4.06, 1.32], \"type\": \"scatter\", \"uid\": \"21b909b2-c22b-11e8-8e00-a81e84e6c740\"}, {\"name\": \"\\u738b\\u4f20\\u6587_\\u5e73\\u5747\\u53cd\\u9988\\u65f6\\u957f\", \"x\": [\"8-1\", \"8-2\", \"8-3\", \"8-4\", \"8-5\", \"9-1\", \"9-2\"], \"y\": [1.0, 0.0, 3.04, 4.31, 12.68, 8.47, 1.85], \"type\": \"scatter\", \"uid\": \"21b90d4a-c22b-11e8-8e00-a81e84e6c740\"}, {\"name\": \"\\u738b\\u4f20\\u6587_\\u53cd\\u9988\\u65f6\\u957fQ80\", \"x\": [\"8-1\", \"8-2\", \"8-3\", \"8-4\", \"8-5\", \"9-1\", \"9-2\"], \"y\": [1.0, 0.0, 3.04, 2.03, 1.56, 2.04, 1.71], \"type\": \"scatter\", \"uid\": \"21b910d8-c22b-11e8-8e00-a81e84e6c740\"}, {\"name\": \"\\u6797\\u6587\\u6587_\\u5e73\\u5747\\u53cd\\u9988\\u65f6\\u957f\", \"x\": [\"8-1\", \"8-2\", \"8-3\", \"8-4\", \"8-5\", \"9-1\", \"9-2\"], \"y\": [1.0, 0.0, 1.8, 2.24, 3.29, 8.91, 2.75], \"type\": \"scatter\", \"uid\": \"21b91452-c22b-11e8-8e00-a81e84e6c740\"}, {\"name\": \"\\u6797\\u6587\\u6587_\\u53cd\\u9988\\u65f6\\u957fQ80\", \"x\": [\"8-1\", \"8-2\", \"8-3\", \"8-4\", \"8-5\", \"9-1\", \"9-2\"], \"y\": [1.0, 0.0, 1.44, 2.38, 3.84, 3.01, 2.28], \"type\": \"scatter\", \"uid\": \"21b917cc-c22b-11e8-8e00-a81e84e6c740\"}, {\"name\": \"\\u9ad8\\u5251_\\u5e73\\u5747\\u53cd\\u9988\\u65f6\\u957f\", \"x\": [\"8-1\", \"8-2\", \"8-3\", \"8-4\", \"8-5\", \"9-1\", \"9-2\"], \"y\": [1.0, 0.0, 43.34, 3.21, 6.55, 0.0, 0.0], \"type\": \"scatter\", \"uid\": \"21b91b3c-c22b-11e8-8e00-a81e84e6c740\"}, {\"name\": \"\\u9ad8\\u5251_\\u53cd\\u9988\\u65f6\\u957fQ80\", \"x\": [\"8-1\", \"8-2\", \"8-3\", \"8-4\", \"8-5\", \"9-1\", \"9-2\"], \"y\": [1.0, 0.0, 43.34, 3.15, 6.55, 0.0, 0.0], \"type\": \"scatter\", \"uid\": \"21b91ec0-c22b-11e8-8e00-a81e84e6c740\"}, {\"name\": \"\\u6c88\\u6069\\u60e0_\\u5e73\\u5747\\u53cd\\u9988\\u65f6\\u957f\", \"x\": [\"8-1\", \"8-2\", \"8-3\", \"8-4\", \"8-5\", \"9-1\", \"9-2\"], \"y\": [1.0, 0.0, 0.0, 4.6, 7.69, 0.0, 1.52], \"type\": \"scatter\", \"uid\": \"21b9223a-c22b-11e8-8e00-a81e84e6c740\"}, {\"name\": \"\\u6c88\\u6069\\u60e0_\\u53cd\\u9988\\u65f6\\u957fQ80\", \"x\": [\"8-1\", \"8-2\", \"8-3\", \"8-4\", \"8-5\", \"9-1\", \"9-2\"], \"y\": [1.0, 0.0, 0.0, 3.36, 2.66, 0.0, 0.9], \"type\": \"scatter\", \"uid\": \"21b925aa-c22b-11e8-8e00-a81e84e6c740\"}],\n",
       "            {\"title\": \"\\u5e73\\u5747\\u53cd\\u9988\\u65f6\\u957f&\\u53cd\\u9988\\u65f6\\u957fQ80\\u5468\\u8d8b\\u52bf\\u56fe\", \"xaxis\": {\"mirror\": \"all\", \"nticks\": 20, \"showgrid\": true, \"showline\": true, \"title\": \"\\u5468\", \"zeroline\": true}, \"yaxis\": {\"mirror\": \"all\", \"nticks\": 20, \"showgrid\": true, \"showline\": true, \"title\": \"\\u5e73\\u5747\\u53cd\\u9988\\u65f6\\u957f&\\u53cd\\u9988\\u65f6\\u957fQ80\", \"zeroline\": true}},\n",
       "            {\"showLink\": true, \"linkText\": \"Export to plot.ly\"}\n",
       "        ).then(function () {return Plotly.addFrames('2fe08a13-98fd-4a26-9a5f-2f96102c8141',{});}).then(function(){Plotly.animate('2fe08a13-98fd-4a26-9a5f-2f96102c8141');})\n",
       "        });</script>"
      ]
     },
     "metadata": {},
     "output_type": "display_data"
    },
    {
     "data": {
      "application/vnd.plotly.v1+json": {
       "data": [
        {
         "name": "车天栋_平均反馈时长",
         "type": "scatter",
         "uid": "21e37b84-c22b-11e8-8e00-a81e84e6c740",
         "x": [
          "8",
          "9"
         ],
         "y": [
          13.77,
          3.66
         ]
        },
        {
         "name": "车天栋_反馈时长Q80",
         "type": "scatter",
         "uid": "21e38142-c22b-11e8-8e00-a81e84e6c740",
         "x": [
          "8",
          "9"
         ],
         "y": [
          13.92,
          2.14
         ]
        },
        {
         "name": "沈立群_平均反馈时长",
         "type": "scatter",
         "uid": "21e38534-c22b-11e8-8e00-a81e84e6c740",
         "x": [
          "8",
          "9"
         ],
         "y": [
          17,
          6.300000000000001
         ]
        },
        {
         "name": "沈立群_反馈时长Q80",
         "type": "scatter",
         "uid": "21e388e0-c22b-11e8-8e00-a81e84e6c740",
         "x": [
          "8",
          "9"
         ],
         "y": [
          18.45,
          5.38
         ]
        },
        {
         "name": "王传文_平均反馈时长",
         "type": "scatter",
         "uid": "21e38c6e-c22b-11e8-8e00-a81e84e6c740",
         "x": [
          "8",
          "9"
         ],
         "y": [
          21.03,
          10.32
         ]
        },
        {
         "name": "王传文_反馈时长Q80",
         "type": "scatter",
         "uid": "21e38fde-c22b-11e8-8e00-a81e84e6c740",
         "x": [
          "8",
          "9"
         ],
         "y": [
          7.630000000000001,
          3.75
         ]
        },
        {
         "name": "林文文_平均反馈时长",
         "type": "scatter",
         "uid": "21e3933a-c22b-11e8-8e00-a81e84e6c740",
         "x": [
          "8",
          "9"
         ],
         "y": [
          8.33,
          11.66
         ]
        },
        {
         "name": "林文文_反馈时长Q80",
         "type": "scatter",
         "uid": "21e3963c-c22b-11e8-8e00-a81e84e6c740",
         "x": [
          "8",
          "9"
         ],
         "y": [
          8.66,
          5.289999999999999
         ]
        },
        {
         "name": "高剑_平均反馈时长",
         "type": "scatter",
         "uid": "21e3997a-c22b-11e8-8e00-a81e84e6c740",
         "x": [
          "8",
          "9"
         ],
         "y": [
          54.1,
          0
         ]
        },
        {
         "name": "高剑_反馈时长Q80",
         "type": "scatter",
         "uid": "21e39cae-c22b-11e8-8e00-a81e84e6c740",
         "x": [
          "8",
          "9"
         ],
         "y": [
          54.04,
          0
         ]
        },
        {
         "name": "沈恩惠_平均反馈时长",
         "type": "scatter",
         "uid": "21e3a032-c22b-11e8-8e00-a81e84e6c740",
         "x": [
          "8",
          "9"
         ],
         "y": [
          13.29,
          1.52
         ]
        },
        {
         "name": "沈恩惠_反馈时长Q80",
         "type": "scatter",
         "uid": "21e3a35c-c22b-11e8-8e00-a81e84e6c740",
         "x": [
          "8",
          "9"
         ],
         "y": [
          7.02,
          0.9
         ]
        }
       ],
       "layout": {
        "title": "平均反馈时长&反馈时长Q80月趋势图",
        "xaxis": {
         "mirror": "all",
         "nticks": 20,
         "showgrid": true,
         "showline": true,
         "title": "月",
         "zeroline": true
        },
        "yaxis": {
         "mirror": "all",
         "nticks": 20,
         "showgrid": true,
         "showline": true,
         "title": "平均反馈时长&反馈时长Q80",
         "zeroline": true
        }
       }
      },
      "text/html": [
       "<div id=\"fbf465a5-cc93-4fdb-9a93-a3f89e75b3c4\" style=\"height: 525px; width: 100%;\" class=\"plotly-graph-div\"></div><script type=\"text/javascript\">require([\"plotly\"], function(Plotly) { window.PLOTLYENV=window.PLOTLYENV || {};window.PLOTLYENV.BASE_URL=\"https://plot.ly\";\n",
       "        Plotly.plot(\n",
       "            'fbf465a5-cc93-4fdb-9a93-a3f89e75b3c4',\n",
       "            [{\"name\": \"\\u8f66\\u5929\\u680b_\\u5e73\\u5747\\u53cd\\u9988\\u65f6\\u957f\", \"x\": [\"8\", \"9\"], \"y\": [13.77, 3.66], \"type\": \"scatter\", \"uid\": \"21e37b84-c22b-11e8-8e00-a81e84e6c740\"}, {\"name\": \"\\u8f66\\u5929\\u680b_\\u53cd\\u9988\\u65f6\\u957fQ80\", \"x\": [\"8\", \"9\"], \"y\": [13.92, 2.14], \"type\": \"scatter\", \"uid\": \"21e38142-c22b-11e8-8e00-a81e84e6c740\"}, {\"name\": \"\\u6c88\\u7acb\\u7fa4_\\u5e73\\u5747\\u53cd\\u9988\\u65f6\\u957f\", \"x\": [\"8\", \"9\"], \"y\": [17.0, 6.300000000000001], \"type\": \"scatter\", \"uid\": \"21e38534-c22b-11e8-8e00-a81e84e6c740\"}, {\"name\": \"\\u6c88\\u7acb\\u7fa4_\\u53cd\\u9988\\u65f6\\u957fQ80\", \"x\": [\"8\", \"9\"], \"y\": [18.45, 5.38], \"type\": \"scatter\", \"uid\": \"21e388e0-c22b-11e8-8e00-a81e84e6c740\"}, {\"name\": \"\\u738b\\u4f20\\u6587_\\u5e73\\u5747\\u53cd\\u9988\\u65f6\\u957f\", \"x\": [\"8\", \"9\"], \"y\": [21.03, 10.32], \"type\": \"scatter\", \"uid\": \"21e38c6e-c22b-11e8-8e00-a81e84e6c740\"}, {\"name\": \"\\u738b\\u4f20\\u6587_\\u53cd\\u9988\\u65f6\\u957fQ80\", \"x\": [\"8\", \"9\"], \"y\": [7.630000000000001, 3.75], \"type\": \"scatter\", \"uid\": \"21e38fde-c22b-11e8-8e00-a81e84e6c740\"}, {\"name\": \"\\u6797\\u6587\\u6587_\\u5e73\\u5747\\u53cd\\u9988\\u65f6\\u957f\", \"x\": [\"8\", \"9\"], \"y\": [8.33, 11.66], \"type\": \"scatter\", \"uid\": \"21e3933a-c22b-11e8-8e00-a81e84e6c740\"}, {\"name\": \"\\u6797\\u6587\\u6587_\\u53cd\\u9988\\u65f6\\u957fQ80\", \"x\": [\"8\", \"9\"], \"y\": [8.66, 5.289999999999999], \"type\": \"scatter\", \"uid\": \"21e3963c-c22b-11e8-8e00-a81e84e6c740\"}, {\"name\": \"\\u9ad8\\u5251_\\u5e73\\u5747\\u53cd\\u9988\\u65f6\\u957f\", \"x\": [\"8\", \"9\"], \"y\": [54.1, 0.0], \"type\": \"scatter\", \"uid\": \"21e3997a-c22b-11e8-8e00-a81e84e6c740\"}, {\"name\": \"\\u9ad8\\u5251_\\u53cd\\u9988\\u65f6\\u957fQ80\", \"x\": [\"8\", \"9\"], \"y\": [54.04, 0.0], \"type\": \"scatter\", \"uid\": \"21e39cae-c22b-11e8-8e00-a81e84e6c740\"}, {\"name\": \"\\u6c88\\u6069\\u60e0_\\u5e73\\u5747\\u53cd\\u9988\\u65f6\\u957f\", \"x\": [\"8\", \"9\"], \"y\": [13.29, 1.52], \"type\": \"scatter\", \"uid\": \"21e3a032-c22b-11e8-8e00-a81e84e6c740\"}, {\"name\": \"\\u6c88\\u6069\\u60e0_\\u53cd\\u9988\\u65f6\\u957fQ80\", \"x\": [\"8\", \"9\"], \"y\": [7.02, 0.9], \"type\": \"scatter\", \"uid\": \"21e3a35c-c22b-11e8-8e00-a81e84e6c740\"}],\n",
       "            {\"title\": \"\\u5e73\\u5747\\u53cd\\u9988\\u65f6\\u957f&\\u53cd\\u9988\\u65f6\\u957fQ80\\u6708\\u8d8b\\u52bf\\u56fe\", \"xaxis\": {\"mirror\": \"all\", \"nticks\": 20, \"showgrid\": true, \"showline\": true, \"title\": \"\\u6708\", \"zeroline\": true}, \"yaxis\": {\"mirror\": \"all\", \"nticks\": 20, \"showgrid\": true, \"showline\": true, \"title\": \"\\u5e73\\u5747\\u53cd\\u9988\\u65f6\\u957f&\\u53cd\\u9988\\u65f6\\u957fQ80\", \"zeroline\": true}},\n",
       "            {\"showLink\": true, \"linkText\": \"Export to plot.ly\"}\n",
       "        ).then(function () {return Plotly.addFrames('fbf465a5-cc93-4fdb-9a93-a3f89e75b3c4',{});}).then(function(){Plotly.animate('fbf465a5-cc93-4fdb-9a93-a3f89e75b3c4');})\n",
       "        });</script>"
      ],
      "text/vnd.plotly.v1+html": [
       "<div id=\"fbf465a5-cc93-4fdb-9a93-a3f89e75b3c4\" style=\"height: 525px; width: 100%;\" class=\"plotly-graph-div\"></div><script type=\"text/javascript\">require([\"plotly\"], function(Plotly) { window.PLOTLYENV=window.PLOTLYENV || {};window.PLOTLYENV.BASE_URL=\"https://plot.ly\";\n",
       "        Plotly.plot(\n",
       "            'fbf465a5-cc93-4fdb-9a93-a3f89e75b3c4',\n",
       "            [{\"name\": \"\\u8f66\\u5929\\u680b_\\u5e73\\u5747\\u53cd\\u9988\\u65f6\\u957f\", \"x\": [\"8\", \"9\"], \"y\": [13.77, 3.66], \"type\": \"scatter\", \"uid\": \"21e37b84-c22b-11e8-8e00-a81e84e6c740\"}, {\"name\": \"\\u8f66\\u5929\\u680b_\\u53cd\\u9988\\u65f6\\u957fQ80\", \"x\": [\"8\", \"9\"], \"y\": [13.92, 2.14], \"type\": \"scatter\", \"uid\": \"21e38142-c22b-11e8-8e00-a81e84e6c740\"}, {\"name\": \"\\u6c88\\u7acb\\u7fa4_\\u5e73\\u5747\\u53cd\\u9988\\u65f6\\u957f\", \"x\": [\"8\", \"9\"], \"y\": [17.0, 6.300000000000001], \"type\": \"scatter\", \"uid\": \"21e38534-c22b-11e8-8e00-a81e84e6c740\"}, {\"name\": \"\\u6c88\\u7acb\\u7fa4_\\u53cd\\u9988\\u65f6\\u957fQ80\", \"x\": [\"8\", \"9\"], \"y\": [18.45, 5.38], \"type\": \"scatter\", \"uid\": \"21e388e0-c22b-11e8-8e00-a81e84e6c740\"}, {\"name\": \"\\u738b\\u4f20\\u6587_\\u5e73\\u5747\\u53cd\\u9988\\u65f6\\u957f\", \"x\": [\"8\", \"9\"], \"y\": [21.03, 10.32], \"type\": \"scatter\", \"uid\": \"21e38c6e-c22b-11e8-8e00-a81e84e6c740\"}, {\"name\": \"\\u738b\\u4f20\\u6587_\\u53cd\\u9988\\u65f6\\u957fQ80\", \"x\": [\"8\", \"9\"], \"y\": [7.630000000000001, 3.75], \"type\": \"scatter\", \"uid\": \"21e38fde-c22b-11e8-8e00-a81e84e6c740\"}, {\"name\": \"\\u6797\\u6587\\u6587_\\u5e73\\u5747\\u53cd\\u9988\\u65f6\\u957f\", \"x\": [\"8\", \"9\"], \"y\": [8.33, 11.66], \"type\": \"scatter\", \"uid\": \"21e3933a-c22b-11e8-8e00-a81e84e6c740\"}, {\"name\": \"\\u6797\\u6587\\u6587_\\u53cd\\u9988\\u65f6\\u957fQ80\", \"x\": [\"8\", \"9\"], \"y\": [8.66, 5.289999999999999], \"type\": \"scatter\", \"uid\": \"21e3963c-c22b-11e8-8e00-a81e84e6c740\"}, {\"name\": \"\\u9ad8\\u5251_\\u5e73\\u5747\\u53cd\\u9988\\u65f6\\u957f\", \"x\": [\"8\", \"9\"], \"y\": [54.1, 0.0], \"type\": \"scatter\", \"uid\": \"21e3997a-c22b-11e8-8e00-a81e84e6c740\"}, {\"name\": \"\\u9ad8\\u5251_\\u53cd\\u9988\\u65f6\\u957fQ80\", \"x\": [\"8\", \"9\"], \"y\": [54.04, 0.0], \"type\": \"scatter\", \"uid\": \"21e39cae-c22b-11e8-8e00-a81e84e6c740\"}, {\"name\": \"\\u6c88\\u6069\\u60e0_\\u5e73\\u5747\\u53cd\\u9988\\u65f6\\u957f\", \"x\": [\"8\", \"9\"], \"y\": [13.29, 1.52], \"type\": \"scatter\", \"uid\": \"21e3a032-c22b-11e8-8e00-a81e84e6c740\"}, {\"name\": \"\\u6c88\\u6069\\u60e0_\\u53cd\\u9988\\u65f6\\u957fQ80\", \"x\": [\"8\", \"9\"], \"y\": [7.02, 0.9], \"type\": \"scatter\", \"uid\": \"21e3a35c-c22b-11e8-8e00-a81e84e6c740\"}],\n",
       "            {\"title\": \"\\u5e73\\u5747\\u53cd\\u9988\\u65f6\\u957f&\\u53cd\\u9988\\u65f6\\u957fQ80\\u6708\\u8d8b\\u52bf\\u56fe\", \"xaxis\": {\"mirror\": \"all\", \"nticks\": 20, \"showgrid\": true, \"showline\": true, \"title\": \"\\u6708\", \"zeroline\": true}, \"yaxis\": {\"mirror\": \"all\", \"nticks\": 20, \"showgrid\": true, \"showline\": true, \"title\": \"\\u5e73\\u5747\\u53cd\\u9988\\u65f6\\u957f&\\u53cd\\u9988\\u65f6\\u957fQ80\", \"zeroline\": true}},\n",
       "            {\"showLink\": true, \"linkText\": \"Export to plot.ly\"}\n",
       "        ).then(function () {return Plotly.addFrames('fbf465a5-cc93-4fdb-9a93-a3f89e75b3c4',{});}).then(function(){Plotly.animate('fbf465a5-cc93-4fdb-9a93-a3f89e75b3c4');})\n",
       "        });</script>"
      ]
     },
     "metadata": {},
     "output_type": "display_data"
    }
   ],
   "source": [
    "data_dict = {'平均反馈时长':['平均反馈时长'], '反馈时长Q80':['反馈时长Q80']}\n",
    "myModule.plot( all_dict, data_dict, '人员' ,  'line' )"
   ]
  },
  {
   "cell_type": "markdown",
   "metadata": {},
   "source": [
    "### 异常"
   ]
  },
  {
   "cell_type": "markdown",
   "metadata": {},
   "source": [
    "#### 下机批次比"
   ]
  },
  {
   "cell_type": "code",
   "execution_count": 32,
   "metadata": {},
   "outputs": [
    {
     "data": {
      "application/vnd.plotly.v1+json": {
       "data": [
        {
         "name": "车天栋",
         "type": "scatter",
         "uid": "2232db8e-c22b-11e8-8e00-a81e84e6c740",
         "x": [
          "8-1",
          "8-2",
          "8-3",
          "8-4",
          "8-5",
          "9-1",
          "9-2"
         ],
         "y": [
          1,
          null,
          null,
          1,
          1,
          null,
          1
         ]
        },
        {
         "name": "沈立群",
         "type": "scatter",
         "uid": "2232e0f2-c22b-11e8-8e00-a81e84e6c740",
         "x": [
          "8-1",
          "8-2",
          "8-3",
          "8-4",
          "8-5",
          "9-1",
          "9-2"
         ],
         "y": [
          1,
          null,
          1,
          1.25,
          1.3333333333333333,
          1.5,
          1
         ]
        },
        {
         "name": "王传文",
         "type": "scatter",
         "uid": "2232e50c-c22b-11e8-8e00-a81e84e6c740",
         "x": [
          "8-1",
          "8-2",
          "8-3",
          "8-4",
          "8-5",
          "9-1",
          "9-2"
         ],
         "y": [
          1,
          null,
          1,
          1,
          1,
          1,
          1
         ]
        },
        {
         "name": "林文文",
         "type": "scatter",
         "uid": "2232e8c2-c22b-11e8-8e00-a81e84e6c740",
         "x": [
          "8-1",
          "8-2",
          "8-3",
          "8-4",
          "8-5",
          "9-1",
          "9-2"
         ],
         "y": [
          1,
          null,
          1,
          1.3333333333333333,
          1,
          1,
          1
         ]
        },
        {
         "name": "高剑",
         "type": "scatter",
         "uid": "2232ec5a-c22b-11e8-8e00-a81e84e6c740",
         "x": [
          "8-1",
          "8-2",
          "8-3",
          "8-4",
          "8-5",
          "9-1",
          "9-2"
         ],
         "y": [
          1,
          null,
          1,
          1.4,
          1,
          null,
          null
         ]
        },
        {
         "name": "沈恩惠",
         "type": "scatter",
         "uid": "2232efde-c22b-11e8-8e00-a81e84e6c740",
         "x": [
          "8-1",
          "8-2",
          "8-3",
          "8-4",
          "8-5",
          "9-1",
          "9-2"
         ],
         "y": [
          1,
          null,
          null,
          1,
          1,
          null,
          1
         ]
        }
       ],
       "layout": {
        "title": "下机批次比周趋势图",
        "xaxis": {
         "mirror": "all",
         "nticks": 20,
         "showgrid": true,
         "showline": true,
         "title": "周",
         "zeroline": true
        },
        "yaxis": {
         "mirror": "all",
         "nticks": 20,
         "showgrid": true,
         "showline": true,
         "title": "下机批次比",
         "zeroline": true
        }
       }
      },
      "text/html": [
       "<div id=\"9e6f7750-f6f0-43e6-ab22-46c46420c7bf\" style=\"height: 525px; width: 100%;\" class=\"plotly-graph-div\"></div><script type=\"text/javascript\">require([\"plotly\"], function(Plotly) { window.PLOTLYENV=window.PLOTLYENV || {};window.PLOTLYENV.BASE_URL=\"https://plot.ly\";\n",
       "        Plotly.plot(\n",
       "            '9e6f7750-f6f0-43e6-ab22-46c46420c7bf',\n",
       "            [{\"name\": \"\\u8f66\\u5929\\u680b\", \"x\": [\"8-1\", \"8-2\", \"8-3\", \"8-4\", \"8-5\", \"9-1\", \"9-2\"], \"y\": [1.0, null, null, 1.0, 1.0, null, 1.0], \"type\": \"scatter\", \"uid\": \"2232db8e-c22b-11e8-8e00-a81e84e6c740\"}, {\"name\": \"\\u6c88\\u7acb\\u7fa4\", \"x\": [\"8-1\", \"8-2\", \"8-3\", \"8-4\", \"8-5\", \"9-1\", \"9-2\"], \"y\": [1.0, null, 1.0, 1.25, 1.3333333333333333, 1.5, 1.0], \"type\": \"scatter\", \"uid\": \"2232e0f2-c22b-11e8-8e00-a81e84e6c740\"}, {\"name\": \"\\u738b\\u4f20\\u6587\", \"x\": [\"8-1\", \"8-2\", \"8-3\", \"8-4\", \"8-5\", \"9-1\", \"9-2\"], \"y\": [1.0, null, 1.0, 1.0, 1.0, 1.0, 1.0], \"type\": \"scatter\", \"uid\": \"2232e50c-c22b-11e8-8e00-a81e84e6c740\"}, {\"name\": \"\\u6797\\u6587\\u6587\", \"x\": [\"8-1\", \"8-2\", \"8-3\", \"8-4\", \"8-5\", \"9-1\", \"9-2\"], \"y\": [1.0, null, 1.0, 1.3333333333333333, 1.0, 1.0, 1.0], \"type\": \"scatter\", \"uid\": \"2232e8c2-c22b-11e8-8e00-a81e84e6c740\"}, {\"name\": \"\\u9ad8\\u5251\", \"x\": [\"8-1\", \"8-2\", \"8-3\", \"8-4\", \"8-5\", \"9-1\", \"9-2\"], \"y\": [1.0, null, 1.0, 1.4, 1.0, null, null], \"type\": \"scatter\", \"uid\": \"2232ec5a-c22b-11e8-8e00-a81e84e6c740\"}, {\"name\": \"\\u6c88\\u6069\\u60e0\", \"x\": [\"8-1\", \"8-2\", \"8-3\", \"8-4\", \"8-5\", \"9-1\", \"9-2\"], \"y\": [1.0, null, null, 1.0, 1.0, null, 1.0], \"type\": \"scatter\", \"uid\": \"2232efde-c22b-11e8-8e00-a81e84e6c740\"}],\n",
       "            {\"title\": \"\\u4e0b\\u673a\\u6279\\u6b21\\u6bd4\\u5468\\u8d8b\\u52bf\\u56fe\", \"xaxis\": {\"mirror\": \"all\", \"nticks\": 20, \"showgrid\": true, \"showline\": true, \"title\": \"\\u5468\", \"zeroline\": true}, \"yaxis\": {\"mirror\": \"all\", \"nticks\": 20, \"showgrid\": true, \"showline\": true, \"title\": \"\\u4e0b\\u673a\\u6279\\u6b21\\u6bd4\", \"zeroline\": true}},\n",
       "            {\"showLink\": true, \"linkText\": \"Export to plot.ly\"}\n",
       "        ).then(function () {return Plotly.addFrames('9e6f7750-f6f0-43e6-ab22-46c46420c7bf',{});}).then(function(){Plotly.animate('9e6f7750-f6f0-43e6-ab22-46c46420c7bf');})\n",
       "        });</script>"
      ],
      "text/vnd.plotly.v1+html": [
       "<div id=\"9e6f7750-f6f0-43e6-ab22-46c46420c7bf\" style=\"height: 525px; width: 100%;\" class=\"plotly-graph-div\"></div><script type=\"text/javascript\">require([\"plotly\"], function(Plotly) { window.PLOTLYENV=window.PLOTLYENV || {};window.PLOTLYENV.BASE_URL=\"https://plot.ly\";\n",
       "        Plotly.plot(\n",
       "            '9e6f7750-f6f0-43e6-ab22-46c46420c7bf',\n",
       "            [{\"name\": \"\\u8f66\\u5929\\u680b\", \"x\": [\"8-1\", \"8-2\", \"8-3\", \"8-4\", \"8-5\", \"9-1\", \"9-2\"], \"y\": [1.0, null, null, 1.0, 1.0, null, 1.0], \"type\": \"scatter\", \"uid\": \"2232db8e-c22b-11e8-8e00-a81e84e6c740\"}, {\"name\": \"\\u6c88\\u7acb\\u7fa4\", \"x\": [\"8-1\", \"8-2\", \"8-3\", \"8-4\", \"8-5\", \"9-1\", \"9-2\"], \"y\": [1.0, null, 1.0, 1.25, 1.3333333333333333, 1.5, 1.0], \"type\": \"scatter\", \"uid\": \"2232e0f2-c22b-11e8-8e00-a81e84e6c740\"}, {\"name\": \"\\u738b\\u4f20\\u6587\", \"x\": [\"8-1\", \"8-2\", \"8-3\", \"8-4\", \"8-5\", \"9-1\", \"9-2\"], \"y\": [1.0, null, 1.0, 1.0, 1.0, 1.0, 1.0], \"type\": \"scatter\", \"uid\": \"2232e50c-c22b-11e8-8e00-a81e84e6c740\"}, {\"name\": \"\\u6797\\u6587\\u6587\", \"x\": [\"8-1\", \"8-2\", \"8-3\", \"8-4\", \"8-5\", \"9-1\", \"9-2\"], \"y\": [1.0, null, 1.0, 1.3333333333333333, 1.0, 1.0, 1.0], \"type\": \"scatter\", \"uid\": \"2232e8c2-c22b-11e8-8e00-a81e84e6c740\"}, {\"name\": \"\\u9ad8\\u5251\", \"x\": [\"8-1\", \"8-2\", \"8-3\", \"8-4\", \"8-5\", \"9-1\", \"9-2\"], \"y\": [1.0, null, 1.0, 1.4, 1.0, null, null], \"type\": \"scatter\", \"uid\": \"2232ec5a-c22b-11e8-8e00-a81e84e6c740\"}, {\"name\": \"\\u6c88\\u6069\\u60e0\", \"x\": [\"8-1\", \"8-2\", \"8-3\", \"8-4\", \"8-5\", \"9-1\", \"9-2\"], \"y\": [1.0, null, null, 1.0, 1.0, null, 1.0], \"type\": \"scatter\", \"uid\": \"2232efde-c22b-11e8-8e00-a81e84e6c740\"}],\n",
       "            {\"title\": \"\\u4e0b\\u673a\\u6279\\u6b21\\u6bd4\\u5468\\u8d8b\\u52bf\\u56fe\", \"xaxis\": {\"mirror\": \"all\", \"nticks\": 20, \"showgrid\": true, \"showline\": true, \"title\": \"\\u5468\", \"zeroline\": true}, \"yaxis\": {\"mirror\": \"all\", \"nticks\": 20, \"showgrid\": true, \"showline\": true, \"title\": \"\\u4e0b\\u673a\\u6279\\u6b21\\u6bd4\", \"zeroline\": true}},\n",
       "            {\"showLink\": true, \"linkText\": \"Export to plot.ly\"}\n",
       "        ).then(function () {return Plotly.addFrames('9e6f7750-f6f0-43e6-ab22-46c46420c7bf',{});}).then(function(){Plotly.animate('9e6f7750-f6f0-43e6-ab22-46c46420c7bf');})\n",
       "        });</script>"
      ]
     },
     "metadata": {},
     "output_type": "display_data"
    },
    {
     "data": {
      "application/vnd.plotly.v1+json": {
       "data": [
        {
         "name": "车天栋",
         "type": "scatter",
         "uid": "224e3e74-c22b-11e8-8e00-a81e84e6c740",
         "x": [
          "8",
          "9"
         ],
         "y": [
          1,
          1
         ]
        },
        {
         "name": "沈立群",
         "type": "scatter",
         "uid": "224e4edc-c22b-11e8-8e00-a81e84e6c740",
         "x": [
          "8",
          "9"
         ],
         "y": [
          1.25,
          1.25
         ]
        },
        {
         "name": "王传文",
         "type": "scatter",
         "uid": "224e5742-c22b-11e8-8e00-a81e84e6c740",
         "x": [
          "8",
          "9"
         ],
         "y": [
          1,
          1
         ]
        },
        {
         "name": "林文文",
         "type": "scatter",
         "uid": "224e5b0c-c22b-11e8-8e00-a81e84e6c740",
         "x": [
          "8",
          "9"
         ],
         "y": [
          1.1,
          1
         ]
        },
        {
         "name": "高剑",
         "type": "scatter",
         "uid": "224e5e36-c22b-11e8-8e00-a81e84e6c740",
         "x": [
          "8",
          "9"
         ],
         "y": [
          1.25,
          null
         ]
        },
        {
         "name": "沈恩惠",
         "type": "scatter",
         "uid": "224e611a-c22b-11e8-8e00-a81e84e6c740",
         "x": [
          "8",
          "9"
         ],
         "y": [
          1,
          1
         ]
        }
       ],
       "layout": {
        "title": "下机批次比月趋势图",
        "xaxis": {
         "mirror": "all",
         "nticks": 20,
         "showgrid": true,
         "showline": true,
         "title": "月",
         "zeroline": true
        },
        "yaxis": {
         "mirror": "all",
         "nticks": 20,
         "showgrid": true,
         "showline": true,
         "title": "下机批次比",
         "zeroline": true
        }
       }
      },
      "text/html": [
       "<div id=\"dd005181-ee92-4fa3-9a73-d838b897c4c5\" style=\"height: 525px; width: 100%;\" class=\"plotly-graph-div\"></div><script type=\"text/javascript\">require([\"plotly\"], function(Plotly) { window.PLOTLYENV=window.PLOTLYENV || {};window.PLOTLYENV.BASE_URL=\"https://plot.ly\";\n",
       "        Plotly.plot(\n",
       "            'dd005181-ee92-4fa3-9a73-d838b897c4c5',\n",
       "            [{\"name\": \"\\u8f66\\u5929\\u680b\", \"x\": [\"8\", \"9\"], \"y\": [1.0, 1.0], \"type\": \"scatter\", \"uid\": \"224e3e74-c22b-11e8-8e00-a81e84e6c740\"}, {\"name\": \"\\u6c88\\u7acb\\u7fa4\", \"x\": [\"8\", \"9\"], \"y\": [1.25, 1.25], \"type\": \"scatter\", \"uid\": \"224e4edc-c22b-11e8-8e00-a81e84e6c740\"}, {\"name\": \"\\u738b\\u4f20\\u6587\", \"x\": [\"8\", \"9\"], \"y\": [1.0, 1.0], \"type\": \"scatter\", \"uid\": \"224e5742-c22b-11e8-8e00-a81e84e6c740\"}, {\"name\": \"\\u6797\\u6587\\u6587\", \"x\": [\"8\", \"9\"], \"y\": [1.1, 1.0], \"type\": \"scatter\", \"uid\": \"224e5b0c-c22b-11e8-8e00-a81e84e6c740\"}, {\"name\": \"\\u9ad8\\u5251\", \"x\": [\"8\", \"9\"], \"y\": [1.25, null], \"type\": \"scatter\", \"uid\": \"224e5e36-c22b-11e8-8e00-a81e84e6c740\"}, {\"name\": \"\\u6c88\\u6069\\u60e0\", \"x\": [\"8\", \"9\"], \"y\": [1.0, 1.0], \"type\": \"scatter\", \"uid\": \"224e611a-c22b-11e8-8e00-a81e84e6c740\"}],\n",
       "            {\"title\": \"\\u4e0b\\u673a\\u6279\\u6b21\\u6bd4\\u6708\\u8d8b\\u52bf\\u56fe\", \"xaxis\": {\"mirror\": \"all\", \"nticks\": 20, \"showgrid\": true, \"showline\": true, \"title\": \"\\u6708\", \"zeroline\": true}, \"yaxis\": {\"mirror\": \"all\", \"nticks\": 20, \"showgrid\": true, \"showline\": true, \"title\": \"\\u4e0b\\u673a\\u6279\\u6b21\\u6bd4\", \"zeroline\": true}},\n",
       "            {\"showLink\": true, \"linkText\": \"Export to plot.ly\"}\n",
       "        ).then(function () {return Plotly.addFrames('dd005181-ee92-4fa3-9a73-d838b897c4c5',{});}).then(function(){Plotly.animate('dd005181-ee92-4fa3-9a73-d838b897c4c5');})\n",
       "        });</script>"
      ],
      "text/vnd.plotly.v1+html": [
       "<div id=\"dd005181-ee92-4fa3-9a73-d838b897c4c5\" style=\"height: 525px; width: 100%;\" class=\"plotly-graph-div\"></div><script type=\"text/javascript\">require([\"plotly\"], function(Plotly) { window.PLOTLYENV=window.PLOTLYENV || {};window.PLOTLYENV.BASE_URL=\"https://plot.ly\";\n",
       "        Plotly.plot(\n",
       "            'dd005181-ee92-4fa3-9a73-d838b897c4c5',\n",
       "            [{\"name\": \"\\u8f66\\u5929\\u680b\", \"x\": [\"8\", \"9\"], \"y\": [1.0, 1.0], \"type\": \"scatter\", \"uid\": \"224e3e74-c22b-11e8-8e00-a81e84e6c740\"}, {\"name\": \"\\u6c88\\u7acb\\u7fa4\", \"x\": [\"8\", \"9\"], \"y\": [1.25, 1.25], \"type\": \"scatter\", \"uid\": \"224e4edc-c22b-11e8-8e00-a81e84e6c740\"}, {\"name\": \"\\u738b\\u4f20\\u6587\", \"x\": [\"8\", \"9\"], \"y\": [1.0, 1.0], \"type\": \"scatter\", \"uid\": \"224e5742-c22b-11e8-8e00-a81e84e6c740\"}, {\"name\": \"\\u6797\\u6587\\u6587\", \"x\": [\"8\", \"9\"], \"y\": [1.1, 1.0], \"type\": \"scatter\", \"uid\": \"224e5b0c-c22b-11e8-8e00-a81e84e6c740\"}, {\"name\": \"\\u9ad8\\u5251\", \"x\": [\"8\", \"9\"], \"y\": [1.25, null], \"type\": \"scatter\", \"uid\": \"224e5e36-c22b-11e8-8e00-a81e84e6c740\"}, {\"name\": \"\\u6c88\\u6069\\u60e0\", \"x\": [\"8\", \"9\"], \"y\": [1.0, 1.0], \"type\": \"scatter\", \"uid\": \"224e611a-c22b-11e8-8e00-a81e84e6c740\"}],\n",
       "            {\"title\": \"\\u4e0b\\u673a\\u6279\\u6b21\\u6bd4\\u6708\\u8d8b\\u52bf\\u56fe\", \"xaxis\": {\"mirror\": \"all\", \"nticks\": 20, \"showgrid\": true, \"showline\": true, \"title\": \"\\u6708\", \"zeroline\": true}, \"yaxis\": {\"mirror\": \"all\", \"nticks\": 20, \"showgrid\": true, \"showline\": true, \"title\": \"\\u4e0b\\u673a\\u6279\\u6b21\\u6bd4\", \"zeroline\": true}},\n",
       "            {\"showLink\": true, \"linkText\": \"Export to plot.ly\"}\n",
       "        ).then(function () {return Plotly.addFrames('dd005181-ee92-4fa3-9a73-d838b897c4c5',{});}).then(function(){Plotly.animate('dd005181-ee92-4fa3-9a73-d838b897c4c5');})\n",
       "        });</script>"
      ]
     },
     "metadata": {},
     "output_type": "display_data"
    }
   ],
   "source": [
    "data_dict = {'下机批次比':['下机批次数','下机项目数']}\n",
    "myModule.plot( all_dict, data_dict, '人员' ,  'line' )"
   ]
  },
  {
   "cell_type": "markdown",
   "metadata": {},
   "source": [
    "#### 个性化过滤"
   ]
  },
  {
   "cell_type": "code",
   "execution_count": 33,
   "metadata": {},
   "outputs": [
    {
     "data": {
      "application/vnd.plotly.v1+json": {
       "data": [
        {
         "name": "车天栋",
         "type": "scatter",
         "uid": "2293eb5e-c22b-11e8-8e00-a81e84e6c740",
         "x": [
          "8-1",
          "8-2",
          "8-3",
          "8-4",
          "8-5",
          "9-1",
          "9-2"
         ],
         "y": [
          1,
          0,
          0,
          0,
          0,
          1,
          0
         ]
        },
        {
         "name": "沈立群",
         "type": "scatter",
         "uid": "2293f090-c22b-11e8-8e00-a81e84e6c740",
         "x": [
          "8-1",
          "8-2",
          "8-3",
          "8-4",
          "8-5",
          "9-1",
          "9-2"
         ],
         "y": [
          1,
          0,
          0,
          0,
          0,
          0,
          0
         ]
        },
        {
         "name": "王传文",
         "type": "scatter",
         "uid": "2293f48c-c22b-11e8-8e00-a81e84e6c740",
         "x": [
          "8-1",
          "8-2",
          "8-3",
          "8-4",
          "8-5",
          "9-1",
          "9-2"
         ],
         "y": [
          1,
          0,
          0,
          0,
          0,
          0,
          0
         ]
        },
        {
         "name": "林文文",
         "type": "scatter",
         "uid": "22940b48-c22b-11e8-8e00-a81e84e6c740",
         "x": [
          "8-1",
          "8-2",
          "8-3",
          "8-4",
          "8-5",
          "9-1",
          "9-2"
         ],
         "y": [
          1,
          0,
          0,
          0,
          1,
          0,
          0
         ]
        },
        {
         "name": "高剑",
         "type": "scatter",
         "uid": "2294245c-c22b-11e8-8e00-a81e84e6c740",
         "x": [
          "8-1",
          "8-2",
          "8-3",
          "8-4",
          "8-5",
          "9-1",
          "9-2"
         ],
         "y": [
          1,
          0,
          0,
          0,
          0,
          0,
          0
         ]
        },
        {
         "name": "沈恩惠",
         "type": "scatter",
         "uid": "229433f2-c22b-11e8-8e00-a81e84e6c740",
         "x": [
          "8-1",
          "8-2",
          "8-3",
          "8-4",
          "8-5",
          "9-1",
          "9-2"
         ],
         "y": [
          1,
          0,
          0,
          0,
          0,
          1,
          0
         ]
        }
       ],
       "layout": {
        "title": "个性化数周趋势图",
        "xaxis": {
         "mirror": "all",
         "nticks": 20,
         "showgrid": true,
         "showline": true,
         "title": "周",
         "zeroline": true
        },
        "yaxis": {
         "mirror": "all",
         "nticks": 20,
         "showgrid": true,
         "showline": true,
         "title": "个性化数",
         "zeroline": true
        }
       }
      },
      "text/html": [
       "<div id=\"7ab7c9a2-0815-494e-8ef4-efffb8ce705f\" style=\"height: 525px; width: 100%;\" class=\"plotly-graph-div\"></div><script type=\"text/javascript\">require([\"plotly\"], function(Plotly) { window.PLOTLYENV=window.PLOTLYENV || {};window.PLOTLYENV.BASE_URL=\"https://plot.ly\";\n",
       "        Plotly.plot(\n",
       "            '7ab7c9a2-0815-494e-8ef4-efffb8ce705f',\n",
       "            [{\"name\": \"\\u8f66\\u5929\\u680b\", \"x\": [\"8-1\", \"8-2\", \"8-3\", \"8-4\", \"8-5\", \"9-1\", \"9-2\"], \"y\": [1.0, 0.0, 0.0, 0.0, 0.0, 1.0, 0.0], \"type\": \"scatter\", \"uid\": \"2293eb5e-c22b-11e8-8e00-a81e84e6c740\"}, {\"name\": \"\\u6c88\\u7acb\\u7fa4\", \"x\": [\"8-1\", \"8-2\", \"8-3\", \"8-4\", \"8-5\", \"9-1\", \"9-2\"], \"y\": [1.0, 0.0, 0.0, 0.0, 0.0, 0.0, 0.0], \"type\": \"scatter\", \"uid\": \"2293f090-c22b-11e8-8e00-a81e84e6c740\"}, {\"name\": \"\\u738b\\u4f20\\u6587\", \"x\": [\"8-1\", \"8-2\", \"8-3\", \"8-4\", \"8-5\", \"9-1\", \"9-2\"], \"y\": [1.0, 0.0, 0.0, 0.0, 0.0, 0.0, 0.0], \"type\": \"scatter\", \"uid\": \"2293f48c-c22b-11e8-8e00-a81e84e6c740\"}, {\"name\": \"\\u6797\\u6587\\u6587\", \"x\": [\"8-1\", \"8-2\", \"8-3\", \"8-4\", \"8-5\", \"9-1\", \"9-2\"], \"y\": [1.0, 0.0, 0.0, 0.0, 1.0, 0.0, 0.0], \"type\": \"scatter\", \"uid\": \"22940b48-c22b-11e8-8e00-a81e84e6c740\"}, {\"name\": \"\\u9ad8\\u5251\", \"x\": [\"8-1\", \"8-2\", \"8-3\", \"8-4\", \"8-5\", \"9-1\", \"9-2\"], \"y\": [1.0, 0.0, 0.0, 0.0, 0.0, 0.0, 0.0], \"type\": \"scatter\", \"uid\": \"2294245c-c22b-11e8-8e00-a81e84e6c740\"}, {\"name\": \"\\u6c88\\u6069\\u60e0\", \"x\": [\"8-1\", \"8-2\", \"8-3\", \"8-4\", \"8-5\", \"9-1\", \"9-2\"], \"y\": [1.0, 0.0, 0.0, 0.0, 0.0, 1.0, 0.0], \"type\": \"scatter\", \"uid\": \"229433f2-c22b-11e8-8e00-a81e84e6c740\"}],\n",
       "            {\"title\": \"\\u4e2a\\u6027\\u5316\\u6570\\u5468\\u8d8b\\u52bf\\u56fe\", \"xaxis\": {\"mirror\": \"all\", \"nticks\": 20, \"showgrid\": true, \"showline\": true, \"title\": \"\\u5468\", \"zeroline\": true}, \"yaxis\": {\"mirror\": \"all\", \"nticks\": 20, \"showgrid\": true, \"showline\": true, \"title\": \"\\u4e2a\\u6027\\u5316\\u6570\", \"zeroline\": true}},\n",
       "            {\"showLink\": true, \"linkText\": \"Export to plot.ly\"}\n",
       "        ).then(function () {return Plotly.addFrames('7ab7c9a2-0815-494e-8ef4-efffb8ce705f',{});}).then(function(){Plotly.animate('7ab7c9a2-0815-494e-8ef4-efffb8ce705f');})\n",
       "        });</script>"
      ],
      "text/vnd.plotly.v1+html": [
       "<div id=\"7ab7c9a2-0815-494e-8ef4-efffb8ce705f\" style=\"height: 525px; width: 100%;\" class=\"plotly-graph-div\"></div><script type=\"text/javascript\">require([\"plotly\"], function(Plotly) { window.PLOTLYENV=window.PLOTLYENV || {};window.PLOTLYENV.BASE_URL=\"https://plot.ly\";\n",
       "        Plotly.plot(\n",
       "            '7ab7c9a2-0815-494e-8ef4-efffb8ce705f',\n",
       "            [{\"name\": \"\\u8f66\\u5929\\u680b\", \"x\": [\"8-1\", \"8-2\", \"8-3\", \"8-4\", \"8-5\", \"9-1\", \"9-2\"], \"y\": [1.0, 0.0, 0.0, 0.0, 0.0, 1.0, 0.0], \"type\": \"scatter\", \"uid\": \"2293eb5e-c22b-11e8-8e00-a81e84e6c740\"}, {\"name\": \"\\u6c88\\u7acb\\u7fa4\", \"x\": [\"8-1\", \"8-2\", \"8-3\", \"8-4\", \"8-5\", \"9-1\", \"9-2\"], \"y\": [1.0, 0.0, 0.0, 0.0, 0.0, 0.0, 0.0], \"type\": \"scatter\", \"uid\": \"2293f090-c22b-11e8-8e00-a81e84e6c740\"}, {\"name\": \"\\u738b\\u4f20\\u6587\", \"x\": [\"8-1\", \"8-2\", \"8-3\", \"8-4\", \"8-5\", \"9-1\", \"9-2\"], \"y\": [1.0, 0.0, 0.0, 0.0, 0.0, 0.0, 0.0], \"type\": \"scatter\", \"uid\": \"2293f48c-c22b-11e8-8e00-a81e84e6c740\"}, {\"name\": \"\\u6797\\u6587\\u6587\", \"x\": [\"8-1\", \"8-2\", \"8-3\", \"8-4\", \"8-5\", \"9-1\", \"9-2\"], \"y\": [1.0, 0.0, 0.0, 0.0, 1.0, 0.0, 0.0], \"type\": \"scatter\", \"uid\": \"22940b48-c22b-11e8-8e00-a81e84e6c740\"}, {\"name\": \"\\u9ad8\\u5251\", \"x\": [\"8-1\", \"8-2\", \"8-3\", \"8-4\", \"8-5\", \"9-1\", \"9-2\"], \"y\": [1.0, 0.0, 0.0, 0.0, 0.0, 0.0, 0.0], \"type\": \"scatter\", \"uid\": \"2294245c-c22b-11e8-8e00-a81e84e6c740\"}, {\"name\": \"\\u6c88\\u6069\\u60e0\", \"x\": [\"8-1\", \"8-2\", \"8-3\", \"8-4\", \"8-5\", \"9-1\", \"9-2\"], \"y\": [1.0, 0.0, 0.0, 0.0, 0.0, 1.0, 0.0], \"type\": \"scatter\", \"uid\": \"229433f2-c22b-11e8-8e00-a81e84e6c740\"}],\n",
       "            {\"title\": \"\\u4e2a\\u6027\\u5316\\u6570\\u5468\\u8d8b\\u52bf\\u56fe\", \"xaxis\": {\"mirror\": \"all\", \"nticks\": 20, \"showgrid\": true, \"showline\": true, \"title\": \"\\u5468\", \"zeroline\": true}, \"yaxis\": {\"mirror\": \"all\", \"nticks\": 20, \"showgrid\": true, \"showline\": true, \"title\": \"\\u4e2a\\u6027\\u5316\\u6570\", \"zeroline\": true}},\n",
       "            {\"showLink\": true, \"linkText\": \"Export to plot.ly\"}\n",
       "        ).then(function () {return Plotly.addFrames('7ab7c9a2-0815-494e-8ef4-efffb8ce705f',{});}).then(function(){Plotly.animate('7ab7c9a2-0815-494e-8ef4-efffb8ce705f');})\n",
       "        });</script>"
      ]
     },
     "metadata": {},
     "output_type": "display_data"
    },
    {
     "data": {
      "application/vnd.plotly.v1+json": {
       "data": [
        {
         "name": "车天栋",
         "type": "scatter",
         "uid": "22b005b4-c22b-11e8-8e00-a81e84e6c740",
         "x": [
          "8",
          "9"
         ],
         "y": [
          1,
          1
         ]
        },
        {
         "name": "沈立群",
         "type": "scatter",
         "uid": "22b00b90-c22b-11e8-8e00-a81e84e6c740",
         "x": [
          "8",
          "9"
         ],
         "y": [
          1,
          0
         ]
        },
        {
         "name": "王传文",
         "type": "scatter",
         "uid": "22b00fe6-c22b-11e8-8e00-a81e84e6c740",
         "x": [
          "8",
          "9"
         ],
         "y": [
          1,
          0
         ]
        },
        {
         "name": "林文文",
         "type": "scatter",
         "uid": "22b013d8-c22b-11e8-8e00-a81e84e6c740",
         "x": [
          "8",
          "9"
         ],
         "y": [
          2,
          0
         ]
        },
        {
         "name": "高剑",
         "type": "scatter",
         "uid": "22b017ac-c22b-11e8-8e00-a81e84e6c740",
         "x": [
          "8",
          "9"
         ],
         "y": [
          1,
          0
         ]
        },
        {
         "name": "沈恩惠",
         "type": "scatter",
         "uid": "22b01b6c-c22b-11e8-8e00-a81e84e6c740",
         "x": [
          "8",
          "9"
         ],
         "y": [
          1,
          1
         ]
        }
       ],
       "layout": {
        "title": "个性化数月趋势图",
        "xaxis": {
         "mirror": "all",
         "nticks": 20,
         "showgrid": true,
         "showline": true,
         "title": "月",
         "zeroline": true
        },
        "yaxis": {
         "mirror": "all",
         "nticks": 20,
         "showgrid": true,
         "showline": true,
         "title": "个性化数",
         "zeroline": true
        }
       }
      },
      "text/html": [
       "<div id=\"fbc19cfb-5caa-40de-956b-fc1b40037fca\" style=\"height: 525px; width: 100%;\" class=\"plotly-graph-div\"></div><script type=\"text/javascript\">require([\"plotly\"], function(Plotly) { window.PLOTLYENV=window.PLOTLYENV || {};window.PLOTLYENV.BASE_URL=\"https://plot.ly\";\n",
       "        Plotly.plot(\n",
       "            'fbc19cfb-5caa-40de-956b-fc1b40037fca',\n",
       "            [{\"name\": \"\\u8f66\\u5929\\u680b\", \"x\": [\"8\", \"9\"], \"y\": [1.0, 1.0], \"type\": \"scatter\", \"uid\": \"22b005b4-c22b-11e8-8e00-a81e84e6c740\"}, {\"name\": \"\\u6c88\\u7acb\\u7fa4\", \"x\": [\"8\", \"9\"], \"y\": [1.0, 0.0], \"type\": \"scatter\", \"uid\": \"22b00b90-c22b-11e8-8e00-a81e84e6c740\"}, {\"name\": \"\\u738b\\u4f20\\u6587\", \"x\": [\"8\", \"9\"], \"y\": [1.0, 0.0], \"type\": \"scatter\", \"uid\": \"22b00fe6-c22b-11e8-8e00-a81e84e6c740\"}, {\"name\": \"\\u6797\\u6587\\u6587\", \"x\": [\"8\", \"9\"], \"y\": [2.0, 0.0], \"type\": \"scatter\", \"uid\": \"22b013d8-c22b-11e8-8e00-a81e84e6c740\"}, {\"name\": \"\\u9ad8\\u5251\", \"x\": [\"8\", \"9\"], \"y\": [1.0, 0.0], \"type\": \"scatter\", \"uid\": \"22b017ac-c22b-11e8-8e00-a81e84e6c740\"}, {\"name\": \"\\u6c88\\u6069\\u60e0\", \"x\": [\"8\", \"9\"], \"y\": [1.0, 1.0], \"type\": \"scatter\", \"uid\": \"22b01b6c-c22b-11e8-8e00-a81e84e6c740\"}],\n",
       "            {\"title\": \"\\u4e2a\\u6027\\u5316\\u6570\\u6708\\u8d8b\\u52bf\\u56fe\", \"xaxis\": {\"mirror\": \"all\", \"nticks\": 20, \"showgrid\": true, \"showline\": true, \"title\": \"\\u6708\", \"zeroline\": true}, \"yaxis\": {\"mirror\": \"all\", \"nticks\": 20, \"showgrid\": true, \"showline\": true, \"title\": \"\\u4e2a\\u6027\\u5316\\u6570\", \"zeroline\": true}},\n",
       "            {\"showLink\": true, \"linkText\": \"Export to plot.ly\"}\n",
       "        ).then(function () {return Plotly.addFrames('fbc19cfb-5caa-40de-956b-fc1b40037fca',{});}).then(function(){Plotly.animate('fbc19cfb-5caa-40de-956b-fc1b40037fca');})\n",
       "        });</script>"
      ],
      "text/vnd.plotly.v1+html": [
       "<div id=\"fbc19cfb-5caa-40de-956b-fc1b40037fca\" style=\"height: 525px; width: 100%;\" class=\"plotly-graph-div\"></div><script type=\"text/javascript\">require([\"plotly\"], function(Plotly) { window.PLOTLYENV=window.PLOTLYENV || {};window.PLOTLYENV.BASE_URL=\"https://plot.ly\";\n",
       "        Plotly.plot(\n",
       "            'fbc19cfb-5caa-40de-956b-fc1b40037fca',\n",
       "            [{\"name\": \"\\u8f66\\u5929\\u680b\", \"x\": [\"8\", \"9\"], \"y\": [1.0, 1.0], \"type\": \"scatter\", \"uid\": \"22b005b4-c22b-11e8-8e00-a81e84e6c740\"}, {\"name\": \"\\u6c88\\u7acb\\u7fa4\", \"x\": [\"8\", \"9\"], \"y\": [1.0, 0.0], \"type\": \"scatter\", \"uid\": \"22b00b90-c22b-11e8-8e00-a81e84e6c740\"}, {\"name\": \"\\u738b\\u4f20\\u6587\", \"x\": [\"8\", \"9\"], \"y\": [1.0, 0.0], \"type\": \"scatter\", \"uid\": \"22b00fe6-c22b-11e8-8e00-a81e84e6c740\"}, {\"name\": \"\\u6797\\u6587\\u6587\", \"x\": [\"8\", \"9\"], \"y\": [2.0, 0.0], \"type\": \"scatter\", \"uid\": \"22b013d8-c22b-11e8-8e00-a81e84e6c740\"}, {\"name\": \"\\u9ad8\\u5251\", \"x\": [\"8\", \"9\"], \"y\": [1.0, 0.0], \"type\": \"scatter\", \"uid\": \"22b017ac-c22b-11e8-8e00-a81e84e6c740\"}, {\"name\": \"\\u6c88\\u6069\\u60e0\", \"x\": [\"8\", \"9\"], \"y\": [1.0, 1.0], \"type\": \"scatter\", \"uid\": \"22b01b6c-c22b-11e8-8e00-a81e84e6c740\"}],\n",
       "            {\"title\": \"\\u4e2a\\u6027\\u5316\\u6570\\u6708\\u8d8b\\u52bf\\u56fe\", \"xaxis\": {\"mirror\": \"all\", \"nticks\": 20, \"showgrid\": true, \"showline\": true, \"title\": \"\\u6708\", \"zeroline\": true}, \"yaxis\": {\"mirror\": \"all\", \"nticks\": 20, \"showgrid\": true, \"showline\": true, \"title\": \"\\u4e2a\\u6027\\u5316\\u6570\", \"zeroline\": true}},\n",
       "            {\"showLink\": true, \"linkText\": \"Export to plot.ly\"}\n",
       "        ).then(function () {return Plotly.addFrames('fbc19cfb-5caa-40de-956b-fc1b40037fca',{});}).then(function(){Plotly.animate('fbc19cfb-5caa-40de-956b-fc1b40037fca');})\n",
       "        });</script>"
      ]
     },
     "metadata": {},
     "output_type": "display_data"
    }
   ],
   "source": [
    "data_dict = {'个性化数':['个性化数']}\n",
    "myModule.plot( all_dict, data_dict, '人员' ,  'line' )"
   ]
  },
  {
   "cell_type": "markdown",
   "metadata": {},
   "source": [
    "# 分析项目情况"
   ]
  },
  {
   "cell_type": "markdown",
   "metadata": {
    "collapsed": true
   },
   "source": [
    "## 整体情况"
   ]
  },
  {
   "cell_type": "markdown",
   "metadata": {},
   "source": [
    "### 完成商业项目数"
   ]
  },
  {
   "cell_type": "code",
   "execution_count": 34,
   "metadata": {
    "scrolled": false
   },
   "outputs": [],
   "source": [
    "all_files , title = myModule.get_title(pathway , 2 ) ##给路径\n",
    "all_dict = myModule.read_xlsx(all_files, 2 ) ## read all files"
   ]
  },
  {
   "cell_type": "code",
   "execution_count": 35,
   "metadata": {
    "scrolled": true
   },
   "outputs": [
    {
     "data": {
      "application/vnd.plotly.v1+json": {
       "data": [
        {
         "name": "完成商业项目数",
         "type": "bar",
         "uid": "2316f558-c22b-11e8-8e00-a81e84e6c740",
         "x": [
          "8-1",
          "8-2",
          "8-3",
          "8-4",
          "8-5",
          "9-1",
          "9-2"
         ],
         "y": [
          4,
          5,
          5,
          5,
          11,
          6,
          7
         ]
        },
        {
         "name": "完成个性化数",
         "type": "bar",
         "uid": "2316fd64-c22b-11e8-8e00-a81e84e6c740",
         "x": [
          "8-1",
          "8-2",
          "8-3",
          "8-4",
          "8-5",
          "9-1",
          "9-2"
         ],
         "y": [
          3,
          2,
          2,
          5,
          1,
          6,
          2
         ]
        }
       ],
       "layout": {
        "title": "完成商业项目数&完成个性化数周趋势图",
        "xaxis": {
         "mirror": "all",
         "nticks": 20,
         "showgrid": true,
         "showline": true,
         "title": "周",
         "zeroline": true
        },
        "yaxis": {
         "mirror": "all",
         "nticks": 20,
         "showgrid": true,
         "showline": true,
         "title": "完成商业项目数&完成个性化数",
         "zeroline": true
        }
       }
      },
      "text/html": [
       "<div id=\"0b51c002-b94c-49b4-b179-cbbd8fd1f6af\" style=\"height: 525px; width: 100%;\" class=\"plotly-graph-div\"></div><script type=\"text/javascript\">require([\"plotly\"], function(Plotly) { window.PLOTLYENV=window.PLOTLYENV || {};window.PLOTLYENV.BASE_URL=\"https://plot.ly\";\n",
       "        Plotly.plot(\n",
       "            '0b51c002-b94c-49b4-b179-cbbd8fd1f6af',\n",
       "            [{\"name\": \"\\u5b8c\\u6210\\u5546\\u4e1a\\u9879\\u76ee\\u6570\", \"x\": [\"8-1\", \"8-2\", \"8-3\", \"8-4\", \"8-5\", \"9-1\", \"9-2\"], \"y\": [4.0, 5.0, 5.0, 5.0, 11.0, 6.0, 7.0], \"type\": \"bar\", \"uid\": \"2316f558-c22b-11e8-8e00-a81e84e6c740\"}, {\"name\": \"\\u5b8c\\u6210\\u4e2a\\u6027\\u5316\\u6570\", \"x\": [\"8-1\", \"8-2\", \"8-3\", \"8-4\", \"8-5\", \"9-1\", \"9-2\"], \"y\": [3.0, 2.0, 2.0, 5.0, 1.0, 6.0, 2.0], \"type\": \"bar\", \"uid\": \"2316fd64-c22b-11e8-8e00-a81e84e6c740\"}],\n",
       "            {\"title\": \"\\u5b8c\\u6210\\u5546\\u4e1a\\u9879\\u76ee\\u6570&\\u5b8c\\u6210\\u4e2a\\u6027\\u5316\\u6570\\u5468\\u8d8b\\u52bf\\u56fe\", \"xaxis\": {\"mirror\": \"all\", \"nticks\": 20, \"showgrid\": true, \"showline\": true, \"title\": \"\\u5468\", \"zeroline\": true}, \"yaxis\": {\"mirror\": \"all\", \"nticks\": 20, \"showgrid\": true, \"showline\": true, \"title\": \"\\u5b8c\\u6210\\u5546\\u4e1a\\u9879\\u76ee\\u6570&\\u5b8c\\u6210\\u4e2a\\u6027\\u5316\\u6570\", \"zeroline\": true}},\n",
       "            {\"showLink\": true, \"linkText\": \"Export to plot.ly\"}\n",
       "        ).then(function () {return Plotly.addFrames('0b51c002-b94c-49b4-b179-cbbd8fd1f6af',{});}).then(function(){Plotly.animate('0b51c002-b94c-49b4-b179-cbbd8fd1f6af');})\n",
       "        });</script>"
      ],
      "text/vnd.plotly.v1+html": [
       "<div id=\"0b51c002-b94c-49b4-b179-cbbd8fd1f6af\" style=\"height: 525px; width: 100%;\" class=\"plotly-graph-div\"></div><script type=\"text/javascript\">require([\"plotly\"], function(Plotly) { window.PLOTLYENV=window.PLOTLYENV || {};window.PLOTLYENV.BASE_URL=\"https://plot.ly\";\n",
       "        Plotly.plot(\n",
       "            '0b51c002-b94c-49b4-b179-cbbd8fd1f6af',\n",
       "            [{\"name\": \"\\u5b8c\\u6210\\u5546\\u4e1a\\u9879\\u76ee\\u6570\", \"x\": [\"8-1\", \"8-2\", \"8-3\", \"8-4\", \"8-5\", \"9-1\", \"9-2\"], \"y\": [4.0, 5.0, 5.0, 5.0, 11.0, 6.0, 7.0], \"type\": \"bar\", \"uid\": \"2316f558-c22b-11e8-8e00-a81e84e6c740\"}, {\"name\": \"\\u5b8c\\u6210\\u4e2a\\u6027\\u5316\\u6570\", \"x\": [\"8-1\", \"8-2\", \"8-3\", \"8-4\", \"8-5\", \"9-1\", \"9-2\"], \"y\": [3.0, 2.0, 2.0, 5.0, 1.0, 6.0, 2.0], \"type\": \"bar\", \"uid\": \"2316fd64-c22b-11e8-8e00-a81e84e6c740\"}],\n",
       "            {\"title\": \"\\u5b8c\\u6210\\u5546\\u4e1a\\u9879\\u76ee\\u6570&\\u5b8c\\u6210\\u4e2a\\u6027\\u5316\\u6570\\u5468\\u8d8b\\u52bf\\u56fe\", \"xaxis\": {\"mirror\": \"all\", \"nticks\": 20, \"showgrid\": true, \"showline\": true, \"title\": \"\\u5468\", \"zeroline\": true}, \"yaxis\": {\"mirror\": \"all\", \"nticks\": 20, \"showgrid\": true, \"showline\": true, \"title\": \"\\u5b8c\\u6210\\u5546\\u4e1a\\u9879\\u76ee\\u6570&\\u5b8c\\u6210\\u4e2a\\u6027\\u5316\\u6570\", \"zeroline\": true}},\n",
       "            {\"showLink\": true, \"linkText\": \"Export to plot.ly\"}\n",
       "        ).then(function () {return Plotly.addFrames('0b51c002-b94c-49b4-b179-cbbd8fd1f6af',{});}).then(function(){Plotly.animate('0b51c002-b94c-49b4-b179-cbbd8fd1f6af');})\n",
       "        });</script>"
      ]
     },
     "metadata": {},
     "output_type": "display_data"
    },
    {
     "data": {
      "application/vnd.plotly.v1+json": {
       "data": [
        {
         "name": "完成商业项目数",
         "type": "bar",
         "uid": "2328a6cc-c22b-11e8-8e00-a81e84e6c740",
         "x": [
          "8",
          "9"
         ],
         "y": [
          30,
          13
         ]
        },
        {
         "name": "完成个性化数",
         "type": "bar",
         "uid": "2328aeb0-c22b-11e8-8e00-a81e84e6c740",
         "x": [
          "8",
          "9"
         ],
         "y": [
          13,
          8
         ]
        }
       ],
       "layout": {
        "title": "完成商业项目数&完成个性化数月趋势图",
        "xaxis": {
         "mirror": "all",
         "nticks": 20,
         "showgrid": true,
         "showline": true,
         "title": "月",
         "zeroline": true
        },
        "yaxis": {
         "mirror": "all",
         "nticks": 20,
         "showgrid": true,
         "showline": true,
         "title": "完成商业项目数&完成个性化数",
         "zeroline": true
        }
       }
      },
      "text/html": [
       "<div id=\"a30acda9-1b20-4d13-83ef-c14f87226c49\" style=\"height: 525px; width: 100%;\" class=\"plotly-graph-div\"></div><script type=\"text/javascript\">require([\"plotly\"], function(Plotly) { window.PLOTLYENV=window.PLOTLYENV || {};window.PLOTLYENV.BASE_URL=\"https://plot.ly\";\n",
       "        Plotly.plot(\n",
       "            'a30acda9-1b20-4d13-83ef-c14f87226c49',\n",
       "            [{\"name\": \"\\u5b8c\\u6210\\u5546\\u4e1a\\u9879\\u76ee\\u6570\", \"x\": [\"8\", \"9\"], \"y\": [30.0, 13.0], \"type\": \"bar\", \"uid\": \"2328a6cc-c22b-11e8-8e00-a81e84e6c740\"}, {\"name\": \"\\u5b8c\\u6210\\u4e2a\\u6027\\u5316\\u6570\", \"x\": [\"8\", \"9\"], \"y\": [13.0, 8.0], \"type\": \"bar\", \"uid\": \"2328aeb0-c22b-11e8-8e00-a81e84e6c740\"}],\n",
       "            {\"title\": \"\\u5b8c\\u6210\\u5546\\u4e1a\\u9879\\u76ee\\u6570&\\u5b8c\\u6210\\u4e2a\\u6027\\u5316\\u6570\\u6708\\u8d8b\\u52bf\\u56fe\", \"xaxis\": {\"mirror\": \"all\", \"nticks\": 20, \"showgrid\": true, \"showline\": true, \"title\": \"\\u6708\", \"zeroline\": true}, \"yaxis\": {\"mirror\": \"all\", \"nticks\": 20, \"showgrid\": true, \"showline\": true, \"title\": \"\\u5b8c\\u6210\\u5546\\u4e1a\\u9879\\u76ee\\u6570&\\u5b8c\\u6210\\u4e2a\\u6027\\u5316\\u6570\", \"zeroline\": true}},\n",
       "            {\"showLink\": true, \"linkText\": \"Export to plot.ly\"}\n",
       "        ).then(function () {return Plotly.addFrames('a30acda9-1b20-4d13-83ef-c14f87226c49',{});}).then(function(){Plotly.animate('a30acda9-1b20-4d13-83ef-c14f87226c49');})\n",
       "        });</script>"
      ],
      "text/vnd.plotly.v1+html": [
       "<div id=\"a30acda9-1b20-4d13-83ef-c14f87226c49\" style=\"height: 525px; width: 100%;\" class=\"plotly-graph-div\"></div><script type=\"text/javascript\">require([\"plotly\"], function(Plotly) { window.PLOTLYENV=window.PLOTLYENV || {};window.PLOTLYENV.BASE_URL=\"https://plot.ly\";\n",
       "        Plotly.plot(\n",
       "            'a30acda9-1b20-4d13-83ef-c14f87226c49',\n",
       "            [{\"name\": \"\\u5b8c\\u6210\\u5546\\u4e1a\\u9879\\u76ee\\u6570\", \"x\": [\"8\", \"9\"], \"y\": [30.0, 13.0], \"type\": \"bar\", \"uid\": \"2328a6cc-c22b-11e8-8e00-a81e84e6c740\"}, {\"name\": \"\\u5b8c\\u6210\\u4e2a\\u6027\\u5316\\u6570\", \"x\": [\"8\", \"9\"], \"y\": [13.0, 8.0], \"type\": \"bar\", \"uid\": \"2328aeb0-c22b-11e8-8e00-a81e84e6c740\"}],\n",
       "            {\"title\": \"\\u5b8c\\u6210\\u5546\\u4e1a\\u9879\\u76ee\\u6570&\\u5b8c\\u6210\\u4e2a\\u6027\\u5316\\u6570\\u6708\\u8d8b\\u52bf\\u56fe\", \"xaxis\": {\"mirror\": \"all\", \"nticks\": 20, \"showgrid\": true, \"showline\": true, \"title\": \"\\u6708\", \"zeroline\": true}, \"yaxis\": {\"mirror\": \"all\", \"nticks\": 20, \"showgrid\": true, \"showline\": true, \"title\": \"\\u5b8c\\u6210\\u5546\\u4e1a\\u9879\\u76ee\\u6570&\\u5b8c\\u6210\\u4e2a\\u6027\\u5316\\u6570\", \"zeroline\": true}},\n",
       "            {\"showLink\": true, \"linkText\": \"Export to plot.ly\"}\n",
       "        ).then(function () {return Plotly.addFrames('a30acda9-1b20-4d13-83ef-c14f87226c49',{});}).then(function(){Plotly.animate('a30acda9-1b20-4d13-83ef-c14f87226c49');})\n",
       "        });</script>"
      ]
     },
     "metadata": {},
     "output_type": "display_data"
    }
   ],
   "source": [
    "data_dict = {'完成商业项目数':['完成商业项目数'], '完成个性化数':['完成个性化数']}\n",
    "myModule.plot( all_dict, data_dict, '组别' ,  'bar' , all='all')"
   ]
  },
  {
   "cell_type": "markdown",
   "metadata": {},
   "source": [
    "### 延期项目数"
   ]
  },
  {
   "cell_type": "code",
   "execution_count": 36,
   "metadata": {
    "scrolled": true
   },
   "outputs": [
    {
     "data": {
      "application/vnd.plotly.v1+json": {
       "data": [
        {
         "name": "延期商业项目数",
         "type": "bar",
         "uid": "237e0554-c22b-11e8-8e00-a81e84e6c740",
         "x": [
          "8-1",
          "8-2",
          "8-3",
          "8-4",
          "8-5",
          "9-1",
          "9-2"
         ],
         "y": [
          0,
          0,
          0,
          0,
          0,
          0,
          2
         ]
        },
        {
         "name": "延期个性化项目数",
         "type": "bar",
         "uid": "237e0d2e-c22b-11e8-8e00-a81e84e6c740",
         "x": [
          "8-1",
          "8-2",
          "8-3",
          "8-4",
          "8-5",
          "9-1",
          "9-2"
         ],
         "y": [
          0,
          0,
          0,
          0,
          0,
          0,
          0
         ]
        }
       ],
       "layout": {
        "title": "延期商业项目数&延期个性化项目数周趋势图",
        "xaxis": {
         "mirror": "all",
         "nticks": 20,
         "showgrid": true,
         "showline": true,
         "title": "周",
         "zeroline": true
        },
        "yaxis": {
         "mirror": "all",
         "nticks": 20,
         "showgrid": true,
         "showline": true,
         "title": "延期商业项目数&延期个性化项目数",
         "zeroline": true
        }
       }
      },
      "text/html": [
       "<div id=\"fabd2570-6960-41ad-8c18-079a0bf1d4b6\" style=\"height: 525px; width: 100%;\" class=\"plotly-graph-div\"></div><script type=\"text/javascript\">require([\"plotly\"], function(Plotly) { window.PLOTLYENV=window.PLOTLYENV || {};window.PLOTLYENV.BASE_URL=\"https://plot.ly\";\n",
       "        Plotly.plot(\n",
       "            'fabd2570-6960-41ad-8c18-079a0bf1d4b6',\n",
       "            [{\"name\": \"\\u5ef6\\u671f\\u5546\\u4e1a\\u9879\\u76ee\\u6570\", \"x\": [\"8-1\", \"8-2\", \"8-3\", \"8-4\", \"8-5\", \"9-1\", \"9-2\"], \"y\": [0.0, 0.0, 0.0, 0.0, 0.0, 0.0, 2.0], \"type\": \"bar\", \"uid\": \"237e0554-c22b-11e8-8e00-a81e84e6c740\"}, {\"name\": \"\\u5ef6\\u671f\\u4e2a\\u6027\\u5316\\u9879\\u76ee\\u6570\", \"x\": [\"8-1\", \"8-2\", \"8-3\", \"8-4\", \"8-5\", \"9-1\", \"9-2\"], \"y\": [0.0, 0.0, 0.0, 0.0, 0.0, 0.0, 0.0], \"type\": \"bar\", \"uid\": \"237e0d2e-c22b-11e8-8e00-a81e84e6c740\"}],\n",
       "            {\"title\": \"\\u5ef6\\u671f\\u5546\\u4e1a\\u9879\\u76ee\\u6570&\\u5ef6\\u671f\\u4e2a\\u6027\\u5316\\u9879\\u76ee\\u6570\\u5468\\u8d8b\\u52bf\\u56fe\", \"xaxis\": {\"mirror\": \"all\", \"nticks\": 20, \"showgrid\": true, \"showline\": true, \"title\": \"\\u5468\", \"zeroline\": true}, \"yaxis\": {\"mirror\": \"all\", \"nticks\": 20, \"showgrid\": true, \"showline\": true, \"title\": \"\\u5ef6\\u671f\\u5546\\u4e1a\\u9879\\u76ee\\u6570&\\u5ef6\\u671f\\u4e2a\\u6027\\u5316\\u9879\\u76ee\\u6570\", \"zeroline\": true}},\n",
       "            {\"showLink\": true, \"linkText\": \"Export to plot.ly\"}\n",
       "        ).then(function () {return Plotly.addFrames('fabd2570-6960-41ad-8c18-079a0bf1d4b6',{});}).then(function(){Plotly.animate('fabd2570-6960-41ad-8c18-079a0bf1d4b6');})\n",
       "        });</script>"
      ],
      "text/vnd.plotly.v1+html": [
       "<div id=\"fabd2570-6960-41ad-8c18-079a0bf1d4b6\" style=\"height: 525px; width: 100%;\" class=\"plotly-graph-div\"></div><script type=\"text/javascript\">require([\"plotly\"], function(Plotly) { window.PLOTLYENV=window.PLOTLYENV || {};window.PLOTLYENV.BASE_URL=\"https://plot.ly\";\n",
       "        Plotly.plot(\n",
       "            'fabd2570-6960-41ad-8c18-079a0bf1d4b6',\n",
       "            [{\"name\": \"\\u5ef6\\u671f\\u5546\\u4e1a\\u9879\\u76ee\\u6570\", \"x\": [\"8-1\", \"8-2\", \"8-3\", \"8-4\", \"8-5\", \"9-1\", \"9-2\"], \"y\": [0.0, 0.0, 0.0, 0.0, 0.0, 0.0, 2.0], \"type\": \"bar\", \"uid\": \"237e0554-c22b-11e8-8e00-a81e84e6c740\"}, {\"name\": \"\\u5ef6\\u671f\\u4e2a\\u6027\\u5316\\u9879\\u76ee\\u6570\", \"x\": [\"8-1\", \"8-2\", \"8-3\", \"8-4\", \"8-5\", \"9-1\", \"9-2\"], \"y\": [0.0, 0.0, 0.0, 0.0, 0.0, 0.0, 0.0], \"type\": \"bar\", \"uid\": \"237e0d2e-c22b-11e8-8e00-a81e84e6c740\"}],\n",
       "            {\"title\": \"\\u5ef6\\u671f\\u5546\\u4e1a\\u9879\\u76ee\\u6570&\\u5ef6\\u671f\\u4e2a\\u6027\\u5316\\u9879\\u76ee\\u6570\\u5468\\u8d8b\\u52bf\\u56fe\", \"xaxis\": {\"mirror\": \"all\", \"nticks\": 20, \"showgrid\": true, \"showline\": true, \"title\": \"\\u5468\", \"zeroline\": true}, \"yaxis\": {\"mirror\": \"all\", \"nticks\": 20, \"showgrid\": true, \"showline\": true, \"title\": \"\\u5ef6\\u671f\\u5546\\u4e1a\\u9879\\u76ee\\u6570&\\u5ef6\\u671f\\u4e2a\\u6027\\u5316\\u9879\\u76ee\\u6570\", \"zeroline\": true}},\n",
       "            {\"showLink\": true, \"linkText\": \"Export to plot.ly\"}\n",
       "        ).then(function () {return Plotly.addFrames('fabd2570-6960-41ad-8c18-079a0bf1d4b6',{});}).then(function(){Plotly.animate('fabd2570-6960-41ad-8c18-079a0bf1d4b6');})\n",
       "        });</script>"
      ]
     },
     "metadata": {},
     "output_type": "display_data"
    },
    {
     "data": {
      "application/vnd.plotly.v1+json": {
       "data": [
        {
         "name": "延期商业项目数",
         "type": "bar",
         "uid": "2390400c-c22b-11e8-8e00-a81e84e6c740",
         "x": [
          "8",
          "9"
         ],
         "y": [
          0,
          2
         ]
        },
        {
         "name": "延期个性化项目数",
         "type": "bar",
         "uid": "23905150-c22b-11e8-8e00-a81e84e6c740",
         "x": [
          "8",
          "9"
         ],
         "y": [
          0,
          0
         ]
        }
       ],
       "layout": {
        "title": "延期商业项目数&延期个性化项目数月趋势图",
        "xaxis": {
         "mirror": "all",
         "nticks": 20,
         "showgrid": true,
         "showline": true,
         "title": "月",
         "zeroline": true
        },
        "yaxis": {
         "mirror": "all",
         "nticks": 20,
         "showgrid": true,
         "showline": true,
         "title": "延期商业项目数&延期个性化项目数",
         "zeroline": true
        }
       }
      },
      "text/html": [
       "<div id=\"70531430-2bbc-4ebc-bba1-869ee5645587\" style=\"height: 525px; width: 100%;\" class=\"plotly-graph-div\"></div><script type=\"text/javascript\">require([\"plotly\"], function(Plotly) { window.PLOTLYENV=window.PLOTLYENV || {};window.PLOTLYENV.BASE_URL=\"https://plot.ly\";\n",
       "        Plotly.plot(\n",
       "            '70531430-2bbc-4ebc-bba1-869ee5645587',\n",
       "            [{\"name\": \"\\u5ef6\\u671f\\u5546\\u4e1a\\u9879\\u76ee\\u6570\", \"x\": [\"8\", \"9\"], \"y\": [0.0, 2.0], \"type\": \"bar\", \"uid\": \"2390400c-c22b-11e8-8e00-a81e84e6c740\"}, {\"name\": \"\\u5ef6\\u671f\\u4e2a\\u6027\\u5316\\u9879\\u76ee\\u6570\", \"x\": [\"8\", \"9\"], \"y\": [0.0, 0.0], \"type\": \"bar\", \"uid\": \"23905150-c22b-11e8-8e00-a81e84e6c740\"}],\n",
       "            {\"title\": \"\\u5ef6\\u671f\\u5546\\u4e1a\\u9879\\u76ee\\u6570&\\u5ef6\\u671f\\u4e2a\\u6027\\u5316\\u9879\\u76ee\\u6570\\u6708\\u8d8b\\u52bf\\u56fe\", \"xaxis\": {\"mirror\": \"all\", \"nticks\": 20, \"showgrid\": true, \"showline\": true, \"title\": \"\\u6708\", \"zeroline\": true}, \"yaxis\": {\"mirror\": \"all\", \"nticks\": 20, \"showgrid\": true, \"showline\": true, \"title\": \"\\u5ef6\\u671f\\u5546\\u4e1a\\u9879\\u76ee\\u6570&\\u5ef6\\u671f\\u4e2a\\u6027\\u5316\\u9879\\u76ee\\u6570\", \"zeroline\": true}},\n",
       "            {\"showLink\": true, \"linkText\": \"Export to plot.ly\"}\n",
       "        ).then(function () {return Plotly.addFrames('70531430-2bbc-4ebc-bba1-869ee5645587',{});}).then(function(){Plotly.animate('70531430-2bbc-4ebc-bba1-869ee5645587');})\n",
       "        });</script>"
      ],
      "text/vnd.plotly.v1+html": [
       "<div id=\"70531430-2bbc-4ebc-bba1-869ee5645587\" style=\"height: 525px; width: 100%;\" class=\"plotly-graph-div\"></div><script type=\"text/javascript\">require([\"plotly\"], function(Plotly) { window.PLOTLYENV=window.PLOTLYENV || {};window.PLOTLYENV.BASE_URL=\"https://plot.ly\";\n",
       "        Plotly.plot(\n",
       "            '70531430-2bbc-4ebc-bba1-869ee5645587',\n",
       "            [{\"name\": \"\\u5ef6\\u671f\\u5546\\u4e1a\\u9879\\u76ee\\u6570\", \"x\": [\"8\", \"9\"], \"y\": [0.0, 2.0], \"type\": \"bar\", \"uid\": \"2390400c-c22b-11e8-8e00-a81e84e6c740\"}, {\"name\": \"\\u5ef6\\u671f\\u4e2a\\u6027\\u5316\\u9879\\u76ee\\u6570\", \"x\": [\"8\", \"9\"], \"y\": [0.0, 0.0], \"type\": \"bar\", \"uid\": \"23905150-c22b-11e8-8e00-a81e84e6c740\"}],\n",
       "            {\"title\": \"\\u5ef6\\u671f\\u5546\\u4e1a\\u9879\\u76ee\\u6570&\\u5ef6\\u671f\\u4e2a\\u6027\\u5316\\u9879\\u76ee\\u6570\\u6708\\u8d8b\\u52bf\\u56fe\", \"xaxis\": {\"mirror\": \"all\", \"nticks\": 20, \"showgrid\": true, \"showline\": true, \"title\": \"\\u6708\", \"zeroline\": true}, \"yaxis\": {\"mirror\": \"all\", \"nticks\": 20, \"showgrid\": true, \"showline\": true, \"title\": \"\\u5ef6\\u671f\\u5546\\u4e1a\\u9879\\u76ee\\u6570&\\u5ef6\\u671f\\u4e2a\\u6027\\u5316\\u9879\\u76ee\\u6570\", \"zeroline\": true}},\n",
       "            {\"showLink\": true, \"linkText\": \"Export to plot.ly\"}\n",
       "        ).then(function () {return Plotly.addFrames('70531430-2bbc-4ebc-bba1-869ee5645587',{});}).then(function(){Plotly.animate('70531430-2bbc-4ebc-bba1-869ee5645587');})\n",
       "        });</script>"
      ]
     },
     "metadata": {},
     "output_type": "display_data"
    }
   ],
   "source": [
    "data_dict = {'延期商业项目数':['延期商业项目数'], '延期个性化项目数':['延期个性化项目数']}\n",
    "myModule.plot( all_dict, data_dict, '人员' ,  'bar' , all='all')"
   ]
  },
  {
   "cell_type": "markdown",
   "metadata": {},
   "source": [
    "### 反馈延期数"
   ]
  },
  {
   "cell_type": "code",
   "execution_count": 37,
   "metadata": {
    "scrolled": true
   },
   "outputs": [
    {
     "data": {
      "application/vnd.plotly.v1+json": {
       "data": [
        {
         "name": "24h内未完成数据反馈项目数",
         "type": "bar",
         "uid": "23f245cc-c22b-11e8-8e00-a81e84e6c740",
         "x": [
          "8-1",
          "8-2",
          "8-3",
          "8-4",
          "8-5",
          "9-1",
          "9-2"
         ],
         "y": [
          0,
          0,
          0,
          0,
          0,
          0,
          0
         ]
        },
        {
         "name": "反馈延期个性化数",
         "type": "bar",
         "uid": "23f249d2-c22b-11e8-8e00-a81e84e6c740",
         "x": [
          "8-1",
          "8-2",
          "8-3",
          "8-4",
          "8-5",
          "9-1",
          "9-2"
         ],
         "y": [
          0,
          0,
          0,
          0,
          0,
          0,
          0
         ]
        }
       ],
       "layout": {
        "title": "24h内未完成数据反馈项目数&反馈延期个性化数周趋势图",
        "xaxis": {
         "mirror": "all",
         "nticks": 20,
         "showgrid": true,
         "showline": true,
         "title": "周",
         "zeroline": true
        },
        "yaxis": {
         "mirror": "all",
         "nticks": 20,
         "showgrid": true,
         "showline": true,
         "title": "24h内未完成数据反馈项目数&反馈延期个性化数",
         "zeroline": true
        }
       }
      },
      "text/html": [
       "<div id=\"512a5e7e-37e3-47eb-83a0-7a84fca7c946\" style=\"height: 525px; width: 100%;\" class=\"plotly-graph-div\"></div><script type=\"text/javascript\">require([\"plotly\"], function(Plotly) { window.PLOTLYENV=window.PLOTLYENV || {};window.PLOTLYENV.BASE_URL=\"https://plot.ly\";\n",
       "        Plotly.plot(\n",
       "            '512a5e7e-37e3-47eb-83a0-7a84fca7c946',\n",
       "            [{\"name\": \"24h\\u5185\\u672a\\u5b8c\\u6210\\u6570\\u636e\\u53cd\\u9988\\u9879\\u76ee\\u6570\", \"x\": [\"8-1\", \"8-2\", \"8-3\", \"8-4\", \"8-5\", \"9-1\", \"9-2\"], \"y\": [0.0, 0.0, 0.0, 0.0, 0.0, 0.0, 0.0], \"type\": \"bar\", \"uid\": \"23f245cc-c22b-11e8-8e00-a81e84e6c740\"}, {\"name\": \"\\u53cd\\u9988\\u5ef6\\u671f\\u4e2a\\u6027\\u5316\\u6570\", \"x\": [\"8-1\", \"8-2\", \"8-3\", \"8-4\", \"8-5\", \"9-1\", \"9-2\"], \"y\": [0.0, 0.0, 0.0, 0.0, 0.0, 0.0, 0.0], \"type\": \"bar\", \"uid\": \"23f249d2-c22b-11e8-8e00-a81e84e6c740\"}],\n",
       "            {\"title\": \"24h\\u5185\\u672a\\u5b8c\\u6210\\u6570\\u636e\\u53cd\\u9988\\u9879\\u76ee\\u6570&\\u53cd\\u9988\\u5ef6\\u671f\\u4e2a\\u6027\\u5316\\u6570\\u5468\\u8d8b\\u52bf\\u56fe\", \"xaxis\": {\"mirror\": \"all\", \"nticks\": 20, \"showgrid\": true, \"showline\": true, \"title\": \"\\u5468\", \"zeroline\": true}, \"yaxis\": {\"mirror\": \"all\", \"nticks\": 20, \"showgrid\": true, \"showline\": true, \"title\": \"24h\\u5185\\u672a\\u5b8c\\u6210\\u6570\\u636e\\u53cd\\u9988\\u9879\\u76ee\\u6570&\\u53cd\\u9988\\u5ef6\\u671f\\u4e2a\\u6027\\u5316\\u6570\", \"zeroline\": true}},\n",
       "            {\"showLink\": true, \"linkText\": \"Export to plot.ly\"}\n",
       "        ).then(function () {return Plotly.addFrames('512a5e7e-37e3-47eb-83a0-7a84fca7c946',{});}).then(function(){Plotly.animate('512a5e7e-37e3-47eb-83a0-7a84fca7c946');})\n",
       "        });</script>"
      ],
      "text/vnd.plotly.v1+html": [
       "<div id=\"512a5e7e-37e3-47eb-83a0-7a84fca7c946\" style=\"height: 525px; width: 100%;\" class=\"plotly-graph-div\"></div><script type=\"text/javascript\">require([\"plotly\"], function(Plotly) { window.PLOTLYENV=window.PLOTLYENV || {};window.PLOTLYENV.BASE_URL=\"https://plot.ly\";\n",
       "        Plotly.plot(\n",
       "            '512a5e7e-37e3-47eb-83a0-7a84fca7c946',\n",
       "            [{\"name\": \"24h\\u5185\\u672a\\u5b8c\\u6210\\u6570\\u636e\\u53cd\\u9988\\u9879\\u76ee\\u6570\", \"x\": [\"8-1\", \"8-2\", \"8-3\", \"8-4\", \"8-5\", \"9-1\", \"9-2\"], \"y\": [0.0, 0.0, 0.0, 0.0, 0.0, 0.0, 0.0], \"type\": \"bar\", \"uid\": \"23f245cc-c22b-11e8-8e00-a81e84e6c740\"}, {\"name\": \"\\u53cd\\u9988\\u5ef6\\u671f\\u4e2a\\u6027\\u5316\\u6570\", \"x\": [\"8-1\", \"8-2\", \"8-3\", \"8-4\", \"8-5\", \"9-1\", \"9-2\"], \"y\": [0.0, 0.0, 0.0, 0.0, 0.0, 0.0, 0.0], \"type\": \"bar\", \"uid\": \"23f249d2-c22b-11e8-8e00-a81e84e6c740\"}],\n",
       "            {\"title\": \"24h\\u5185\\u672a\\u5b8c\\u6210\\u6570\\u636e\\u53cd\\u9988\\u9879\\u76ee\\u6570&\\u53cd\\u9988\\u5ef6\\u671f\\u4e2a\\u6027\\u5316\\u6570\\u5468\\u8d8b\\u52bf\\u56fe\", \"xaxis\": {\"mirror\": \"all\", \"nticks\": 20, \"showgrid\": true, \"showline\": true, \"title\": \"\\u5468\", \"zeroline\": true}, \"yaxis\": {\"mirror\": \"all\", \"nticks\": 20, \"showgrid\": true, \"showline\": true, \"title\": \"24h\\u5185\\u672a\\u5b8c\\u6210\\u6570\\u636e\\u53cd\\u9988\\u9879\\u76ee\\u6570&\\u53cd\\u9988\\u5ef6\\u671f\\u4e2a\\u6027\\u5316\\u6570\", \"zeroline\": true}},\n",
       "            {\"showLink\": true, \"linkText\": \"Export to plot.ly\"}\n",
       "        ).then(function () {return Plotly.addFrames('512a5e7e-37e3-47eb-83a0-7a84fca7c946',{});}).then(function(){Plotly.animate('512a5e7e-37e3-47eb-83a0-7a84fca7c946');})\n",
       "        });</script>"
      ]
     },
     "metadata": {},
     "output_type": "display_data"
    },
    {
     "data": {
      "application/vnd.plotly.v1+json": {
       "data": [
        {
         "name": "24h内未完成数据反馈项目数",
         "type": "bar",
         "uid": "240365be-c22b-11e8-8e00-a81e84e6c740",
         "x": [
          "8",
          "9"
         ],
         "y": [
          0,
          0
         ]
        },
        {
         "name": "反馈延期个性化数",
         "type": "bar",
         "uid": "240372f2-c22b-11e8-8e00-a81e84e6c740",
         "x": [
          "8",
          "9"
         ],
         "y": [
          0,
          0
         ]
        }
       ],
       "layout": {
        "title": "24h内未完成数据反馈项目数&反馈延期个性化数月趋势图",
        "xaxis": {
         "mirror": "all",
         "nticks": 20,
         "showgrid": true,
         "showline": true,
         "title": "月",
         "zeroline": true
        },
        "yaxis": {
         "mirror": "all",
         "nticks": 20,
         "showgrid": true,
         "showline": true,
         "title": "24h内未完成数据反馈项目数&反馈延期个性化数",
         "zeroline": true
        }
       }
      },
      "text/html": [
       "<div id=\"da064dc4-0359-46fb-8a0c-425299e0cc57\" style=\"height: 525px; width: 100%;\" class=\"plotly-graph-div\"></div><script type=\"text/javascript\">require([\"plotly\"], function(Plotly) { window.PLOTLYENV=window.PLOTLYENV || {};window.PLOTLYENV.BASE_URL=\"https://plot.ly\";\n",
       "        Plotly.plot(\n",
       "            'da064dc4-0359-46fb-8a0c-425299e0cc57',\n",
       "            [{\"name\": \"24h\\u5185\\u672a\\u5b8c\\u6210\\u6570\\u636e\\u53cd\\u9988\\u9879\\u76ee\\u6570\", \"x\": [\"8\", \"9\"], \"y\": [0.0, 0.0], \"type\": \"bar\", \"uid\": \"240365be-c22b-11e8-8e00-a81e84e6c740\"}, {\"name\": \"\\u53cd\\u9988\\u5ef6\\u671f\\u4e2a\\u6027\\u5316\\u6570\", \"x\": [\"8\", \"9\"], \"y\": [0.0, 0.0], \"type\": \"bar\", \"uid\": \"240372f2-c22b-11e8-8e00-a81e84e6c740\"}],\n",
       "            {\"title\": \"24h\\u5185\\u672a\\u5b8c\\u6210\\u6570\\u636e\\u53cd\\u9988\\u9879\\u76ee\\u6570&\\u53cd\\u9988\\u5ef6\\u671f\\u4e2a\\u6027\\u5316\\u6570\\u6708\\u8d8b\\u52bf\\u56fe\", \"xaxis\": {\"mirror\": \"all\", \"nticks\": 20, \"showgrid\": true, \"showline\": true, \"title\": \"\\u6708\", \"zeroline\": true}, \"yaxis\": {\"mirror\": \"all\", \"nticks\": 20, \"showgrid\": true, \"showline\": true, \"title\": \"24h\\u5185\\u672a\\u5b8c\\u6210\\u6570\\u636e\\u53cd\\u9988\\u9879\\u76ee\\u6570&\\u53cd\\u9988\\u5ef6\\u671f\\u4e2a\\u6027\\u5316\\u6570\", \"zeroline\": true}},\n",
       "            {\"showLink\": true, \"linkText\": \"Export to plot.ly\"}\n",
       "        ).then(function () {return Plotly.addFrames('da064dc4-0359-46fb-8a0c-425299e0cc57',{});}).then(function(){Plotly.animate('da064dc4-0359-46fb-8a0c-425299e0cc57');})\n",
       "        });</script>"
      ],
      "text/vnd.plotly.v1+html": [
       "<div id=\"da064dc4-0359-46fb-8a0c-425299e0cc57\" style=\"height: 525px; width: 100%;\" class=\"plotly-graph-div\"></div><script type=\"text/javascript\">require([\"plotly\"], function(Plotly) { window.PLOTLYENV=window.PLOTLYENV || {};window.PLOTLYENV.BASE_URL=\"https://plot.ly\";\n",
       "        Plotly.plot(\n",
       "            'da064dc4-0359-46fb-8a0c-425299e0cc57',\n",
       "            [{\"name\": \"24h\\u5185\\u672a\\u5b8c\\u6210\\u6570\\u636e\\u53cd\\u9988\\u9879\\u76ee\\u6570\", \"x\": [\"8\", \"9\"], \"y\": [0.0, 0.0], \"type\": \"bar\", \"uid\": \"240365be-c22b-11e8-8e00-a81e84e6c740\"}, {\"name\": \"\\u53cd\\u9988\\u5ef6\\u671f\\u4e2a\\u6027\\u5316\\u6570\", \"x\": [\"8\", \"9\"], \"y\": [0.0, 0.0], \"type\": \"bar\", \"uid\": \"240372f2-c22b-11e8-8e00-a81e84e6c740\"}],\n",
       "            {\"title\": \"24h\\u5185\\u672a\\u5b8c\\u6210\\u6570\\u636e\\u53cd\\u9988\\u9879\\u76ee\\u6570&\\u53cd\\u9988\\u5ef6\\u671f\\u4e2a\\u6027\\u5316\\u6570\\u6708\\u8d8b\\u52bf\\u56fe\", \"xaxis\": {\"mirror\": \"all\", \"nticks\": 20, \"showgrid\": true, \"showline\": true, \"title\": \"\\u6708\", \"zeroline\": true}, \"yaxis\": {\"mirror\": \"all\", \"nticks\": 20, \"showgrid\": true, \"showline\": true, \"title\": \"24h\\u5185\\u672a\\u5b8c\\u6210\\u6570\\u636e\\u53cd\\u9988\\u9879\\u76ee\\u6570&\\u53cd\\u9988\\u5ef6\\u671f\\u4e2a\\u6027\\u5316\\u6570\", \"zeroline\": true}},\n",
       "            {\"showLink\": true, \"linkText\": \"Export to plot.ly\"}\n",
       "        ).then(function () {return Plotly.addFrames('da064dc4-0359-46fb-8a0c-425299e0cc57',{});}).then(function(){Plotly.animate('da064dc4-0359-46fb-8a0c-425299e0cc57');})\n",
       "        });</script>"
      ]
     },
     "metadata": {},
     "output_type": "display_data"
    }
   ],
   "source": [
    "data_dict = {'24h内未完成数据反馈项目数':['24h内未完成数据反馈项目数'], '反馈延期个性化数':['反馈延期个性化数']}\n",
    "myModule.plot( all_dict, data_dict, '人员' ,  'bar' , all='all')"
   ]
  },
  {
   "cell_type": "markdown",
   "metadata": {},
   "source": [
    "### 延期率"
   ]
  },
  {
   "cell_type": "code",
   "execution_count": 38,
   "metadata": {
    "scrolled": true
   },
   "outputs": [
    {
     "data": {
      "application/vnd.plotly.v1+json": {
       "data": [
        {
         "name": "商业项目延期率",
         "type": "scatter",
         "uid": "24602c36-c22b-11e8-8e00-a81e84e6c740",
         "x": [
          "8-1",
          "8-2",
          "8-3",
          "8-4",
          "8-5",
          "9-1",
          "9-2"
         ],
         "y": [
          0,
          0,
          0,
          0,
          0,
          0,
          0
         ]
        },
        {
         "name": "个性化项目延期率",
         "type": "scatter",
         "uid": "24602fe2-c22b-11e8-8e00-a81e84e6c740",
         "x": [
          "8-1",
          "8-2",
          "8-3",
          "8-4",
          "8-5",
          "9-1",
          "9-2"
         ],
         "y": [
          0,
          0,
          0,
          0,
          0,
          0,
          0
         ]
        },
        {
         "name": "项目总延期率",
         "type": "scatter",
         "uid": "246032a8-c22b-11e8-8e00-a81e84e6c740",
         "x": [
          "8-1",
          "8-2",
          "8-3",
          "8-4",
          "8-5",
          "9-1",
          "9-2"
         ],
         "y": [
          0,
          0,
          0,
          0,
          0,
          0,
          0
         ]
        }
       ],
       "layout": {
        "title": "商业项目延期率&个性化项目延期率&项目总延期率周趋势图",
        "xaxis": {
         "mirror": "all",
         "nticks": 20,
         "showgrid": true,
         "showline": true,
         "title": "周",
         "zeroline": true
        },
        "yaxis": {
         "mirror": "all",
         "nticks": 20,
         "showgrid": true,
         "showline": true,
         "title": "商业项目延期率&个性化项目延期率&项目总延期率",
         "zeroline": true
        }
       }
      },
      "text/html": [
       "<div id=\"006a39b9-2a24-419a-9adf-05c015ad5965\" style=\"height: 525px; width: 100%;\" class=\"plotly-graph-div\"></div><script type=\"text/javascript\">require([\"plotly\"], function(Plotly) { window.PLOTLYENV=window.PLOTLYENV || {};window.PLOTLYENV.BASE_URL=\"https://plot.ly\";\n",
       "        Plotly.plot(\n",
       "            '006a39b9-2a24-419a-9adf-05c015ad5965',\n",
       "            [{\"name\": \"\\u5546\\u4e1a\\u9879\\u76ee\\u5ef6\\u671f\\u7387\", \"x\": [\"8-1\", \"8-2\", \"8-3\", \"8-4\", \"8-5\", \"9-1\", \"9-2\"], \"y\": [0.0, 0.0, 0.0, 0.0, 0.0, 0.0, 0.0], \"type\": \"scatter\", \"uid\": \"24602c36-c22b-11e8-8e00-a81e84e6c740\"}, {\"name\": \"\\u4e2a\\u6027\\u5316\\u9879\\u76ee\\u5ef6\\u671f\\u7387\", \"x\": [\"8-1\", \"8-2\", \"8-3\", \"8-4\", \"8-5\", \"9-1\", \"9-2\"], \"y\": [0.0, 0.0, 0.0, 0.0, 0.0, 0.0, 0.0], \"type\": \"scatter\", \"uid\": \"24602fe2-c22b-11e8-8e00-a81e84e6c740\"}, {\"name\": \"\\u9879\\u76ee\\u603b\\u5ef6\\u671f\\u7387\", \"x\": [\"8-1\", \"8-2\", \"8-3\", \"8-4\", \"8-5\", \"9-1\", \"9-2\"], \"y\": [0.0, 0.0, 0.0, 0.0, 0.0, 0.0, 0.0], \"type\": \"scatter\", \"uid\": \"246032a8-c22b-11e8-8e00-a81e84e6c740\"}],\n",
       "            {\"title\": \"\\u5546\\u4e1a\\u9879\\u76ee\\u5ef6\\u671f\\u7387&\\u4e2a\\u6027\\u5316\\u9879\\u76ee\\u5ef6\\u671f\\u7387&\\u9879\\u76ee\\u603b\\u5ef6\\u671f\\u7387\\u5468\\u8d8b\\u52bf\\u56fe\", \"xaxis\": {\"mirror\": \"all\", \"nticks\": 20, \"showgrid\": true, \"showline\": true, \"title\": \"\\u5468\", \"zeroline\": true}, \"yaxis\": {\"mirror\": \"all\", \"nticks\": 20, \"showgrid\": true, \"showline\": true, \"title\": \"\\u5546\\u4e1a\\u9879\\u76ee\\u5ef6\\u671f\\u7387&\\u4e2a\\u6027\\u5316\\u9879\\u76ee\\u5ef6\\u671f\\u7387&\\u9879\\u76ee\\u603b\\u5ef6\\u671f\\u7387\", \"zeroline\": true}},\n",
       "            {\"showLink\": true, \"linkText\": \"Export to plot.ly\"}\n",
       "        ).then(function () {return Plotly.addFrames('006a39b9-2a24-419a-9adf-05c015ad5965',{});}).then(function(){Plotly.animate('006a39b9-2a24-419a-9adf-05c015ad5965');})\n",
       "        });</script>"
      ],
      "text/vnd.plotly.v1+html": [
       "<div id=\"006a39b9-2a24-419a-9adf-05c015ad5965\" style=\"height: 525px; width: 100%;\" class=\"plotly-graph-div\"></div><script type=\"text/javascript\">require([\"plotly\"], function(Plotly) { window.PLOTLYENV=window.PLOTLYENV || {};window.PLOTLYENV.BASE_URL=\"https://plot.ly\";\n",
       "        Plotly.plot(\n",
       "            '006a39b9-2a24-419a-9adf-05c015ad5965',\n",
       "            [{\"name\": \"\\u5546\\u4e1a\\u9879\\u76ee\\u5ef6\\u671f\\u7387\", \"x\": [\"8-1\", \"8-2\", \"8-3\", \"8-4\", \"8-5\", \"9-1\", \"9-2\"], \"y\": [0.0, 0.0, 0.0, 0.0, 0.0, 0.0, 0.0], \"type\": \"scatter\", \"uid\": \"24602c36-c22b-11e8-8e00-a81e84e6c740\"}, {\"name\": \"\\u4e2a\\u6027\\u5316\\u9879\\u76ee\\u5ef6\\u671f\\u7387\", \"x\": [\"8-1\", \"8-2\", \"8-3\", \"8-4\", \"8-5\", \"9-1\", \"9-2\"], \"y\": [0.0, 0.0, 0.0, 0.0, 0.0, 0.0, 0.0], \"type\": \"scatter\", \"uid\": \"24602fe2-c22b-11e8-8e00-a81e84e6c740\"}, {\"name\": \"\\u9879\\u76ee\\u603b\\u5ef6\\u671f\\u7387\", \"x\": [\"8-1\", \"8-2\", \"8-3\", \"8-4\", \"8-5\", \"9-1\", \"9-2\"], \"y\": [0.0, 0.0, 0.0, 0.0, 0.0, 0.0, 0.0], \"type\": \"scatter\", \"uid\": \"246032a8-c22b-11e8-8e00-a81e84e6c740\"}],\n",
       "            {\"title\": \"\\u5546\\u4e1a\\u9879\\u76ee\\u5ef6\\u671f\\u7387&\\u4e2a\\u6027\\u5316\\u9879\\u76ee\\u5ef6\\u671f\\u7387&\\u9879\\u76ee\\u603b\\u5ef6\\u671f\\u7387\\u5468\\u8d8b\\u52bf\\u56fe\", \"xaxis\": {\"mirror\": \"all\", \"nticks\": 20, \"showgrid\": true, \"showline\": true, \"title\": \"\\u5468\", \"zeroline\": true}, \"yaxis\": {\"mirror\": \"all\", \"nticks\": 20, \"showgrid\": true, \"showline\": true, \"title\": \"\\u5546\\u4e1a\\u9879\\u76ee\\u5ef6\\u671f\\u7387&\\u4e2a\\u6027\\u5316\\u9879\\u76ee\\u5ef6\\u671f\\u7387&\\u9879\\u76ee\\u603b\\u5ef6\\u671f\\u7387\", \"zeroline\": true}},\n",
       "            {\"showLink\": true, \"linkText\": \"Export to plot.ly\"}\n",
       "        ).then(function () {return Plotly.addFrames('006a39b9-2a24-419a-9adf-05c015ad5965',{});}).then(function(){Plotly.animate('006a39b9-2a24-419a-9adf-05c015ad5965');})\n",
       "        });</script>"
      ]
     },
     "metadata": {},
     "output_type": "display_data"
    },
    {
     "data": {
      "application/vnd.plotly.v1+json": {
       "data": [
        {
         "name": "商业项目延期率",
         "type": "scatter",
         "uid": "2475e440-c22b-11e8-8e00-a81e84e6c740",
         "x": [
          "8",
          "9"
         ],
         "y": [
          0,
          0
         ]
        },
        {
         "name": "个性化项目延期率",
         "type": "scatter",
         "uid": "2475eada-c22b-11e8-8e00-a81e84e6c740",
         "x": [
          "8",
          "9"
         ],
         "y": [
          0,
          0
         ]
        },
        {
         "name": "项目总延期率",
         "type": "scatter",
         "uid": "2475ef9e-c22b-11e8-8e00-a81e84e6c740",
         "x": [
          "8",
          "9"
         ],
         "y": [
          0,
          0
         ]
        }
       ],
       "layout": {
        "title": "商业项目延期率&个性化项目延期率&项目总延期率月趋势图",
        "xaxis": {
         "mirror": "all",
         "nticks": 20,
         "showgrid": true,
         "showline": true,
         "title": "月",
         "zeroline": true
        },
        "yaxis": {
         "mirror": "all",
         "nticks": 20,
         "showgrid": true,
         "showline": true,
         "title": "商业项目延期率&个性化项目延期率&项目总延期率",
         "zeroline": true
        }
       }
      },
      "text/html": [
       "<div id=\"e5a056c5-f48f-4f71-9a80-c0847c933f83\" style=\"height: 525px; width: 100%;\" class=\"plotly-graph-div\"></div><script type=\"text/javascript\">require([\"plotly\"], function(Plotly) { window.PLOTLYENV=window.PLOTLYENV || {};window.PLOTLYENV.BASE_URL=\"https://plot.ly\";\n",
       "        Plotly.plot(\n",
       "            'e5a056c5-f48f-4f71-9a80-c0847c933f83',\n",
       "            [{\"name\": \"\\u5546\\u4e1a\\u9879\\u76ee\\u5ef6\\u671f\\u7387\", \"x\": [\"8\", \"9\"], \"y\": [0.0, 0.0], \"type\": \"scatter\", \"uid\": \"2475e440-c22b-11e8-8e00-a81e84e6c740\"}, {\"name\": \"\\u4e2a\\u6027\\u5316\\u9879\\u76ee\\u5ef6\\u671f\\u7387\", \"x\": [\"8\", \"9\"], \"y\": [0.0, 0.0], \"type\": \"scatter\", \"uid\": \"2475eada-c22b-11e8-8e00-a81e84e6c740\"}, {\"name\": \"\\u9879\\u76ee\\u603b\\u5ef6\\u671f\\u7387\", \"x\": [\"8\", \"9\"], \"y\": [0.0, 0.0], \"type\": \"scatter\", \"uid\": \"2475ef9e-c22b-11e8-8e00-a81e84e6c740\"}],\n",
       "            {\"title\": \"\\u5546\\u4e1a\\u9879\\u76ee\\u5ef6\\u671f\\u7387&\\u4e2a\\u6027\\u5316\\u9879\\u76ee\\u5ef6\\u671f\\u7387&\\u9879\\u76ee\\u603b\\u5ef6\\u671f\\u7387\\u6708\\u8d8b\\u52bf\\u56fe\", \"xaxis\": {\"mirror\": \"all\", \"nticks\": 20, \"showgrid\": true, \"showline\": true, \"title\": \"\\u6708\", \"zeroline\": true}, \"yaxis\": {\"mirror\": \"all\", \"nticks\": 20, \"showgrid\": true, \"showline\": true, \"title\": \"\\u5546\\u4e1a\\u9879\\u76ee\\u5ef6\\u671f\\u7387&\\u4e2a\\u6027\\u5316\\u9879\\u76ee\\u5ef6\\u671f\\u7387&\\u9879\\u76ee\\u603b\\u5ef6\\u671f\\u7387\", \"zeroline\": true}},\n",
       "            {\"showLink\": true, \"linkText\": \"Export to plot.ly\"}\n",
       "        ).then(function () {return Plotly.addFrames('e5a056c5-f48f-4f71-9a80-c0847c933f83',{});}).then(function(){Plotly.animate('e5a056c5-f48f-4f71-9a80-c0847c933f83');})\n",
       "        });</script>"
      ],
      "text/vnd.plotly.v1+html": [
       "<div id=\"e5a056c5-f48f-4f71-9a80-c0847c933f83\" style=\"height: 525px; width: 100%;\" class=\"plotly-graph-div\"></div><script type=\"text/javascript\">require([\"plotly\"], function(Plotly) { window.PLOTLYENV=window.PLOTLYENV || {};window.PLOTLYENV.BASE_URL=\"https://plot.ly\";\n",
       "        Plotly.plot(\n",
       "            'e5a056c5-f48f-4f71-9a80-c0847c933f83',\n",
       "            [{\"name\": \"\\u5546\\u4e1a\\u9879\\u76ee\\u5ef6\\u671f\\u7387\", \"x\": [\"8\", \"9\"], \"y\": [0.0, 0.0], \"type\": \"scatter\", \"uid\": \"2475e440-c22b-11e8-8e00-a81e84e6c740\"}, {\"name\": \"\\u4e2a\\u6027\\u5316\\u9879\\u76ee\\u5ef6\\u671f\\u7387\", \"x\": [\"8\", \"9\"], \"y\": [0.0, 0.0], \"type\": \"scatter\", \"uid\": \"2475eada-c22b-11e8-8e00-a81e84e6c740\"}, {\"name\": \"\\u9879\\u76ee\\u603b\\u5ef6\\u671f\\u7387\", \"x\": [\"8\", \"9\"], \"y\": [0.0, 0.0], \"type\": \"scatter\", \"uid\": \"2475ef9e-c22b-11e8-8e00-a81e84e6c740\"}],\n",
       "            {\"title\": \"\\u5546\\u4e1a\\u9879\\u76ee\\u5ef6\\u671f\\u7387&\\u4e2a\\u6027\\u5316\\u9879\\u76ee\\u5ef6\\u671f\\u7387&\\u9879\\u76ee\\u603b\\u5ef6\\u671f\\u7387\\u6708\\u8d8b\\u52bf\\u56fe\", \"xaxis\": {\"mirror\": \"all\", \"nticks\": 20, \"showgrid\": true, \"showline\": true, \"title\": \"\\u6708\", \"zeroline\": true}, \"yaxis\": {\"mirror\": \"all\", \"nticks\": 20, \"showgrid\": true, \"showline\": true, \"title\": \"\\u5546\\u4e1a\\u9879\\u76ee\\u5ef6\\u671f\\u7387&\\u4e2a\\u6027\\u5316\\u9879\\u76ee\\u5ef6\\u671f\\u7387&\\u9879\\u76ee\\u603b\\u5ef6\\u671f\\u7387\", \"zeroline\": true}},\n",
       "            {\"showLink\": true, \"linkText\": \"Export to plot.ly\"}\n",
       "        ).then(function () {return Plotly.addFrames('e5a056c5-f48f-4f71-9a80-c0847c933f83',{});}).then(function(){Plotly.animate('e5a056c5-f48f-4f71-9a80-c0847c933f83');})\n",
       "        });</script>"
      ]
     },
     "metadata": {},
     "output_type": "display_data"
    }
   ],
   "source": [
    "data_dict = {'商业项目延期率':['商业项目延期率'],'个性化项目延期率':['个性化项目延期率'],'项目总延期率':['项目总延期率']}\n",
    "myModule.plot( all_dict, data_dict, '人员' ,  'line' , all='all')"
   ]
  },
  {
   "cell_type": "markdown",
   "metadata": {},
   "source": [
    "### 反馈延期率"
   ]
  },
  {
   "cell_type": "code",
   "execution_count": 39,
   "metadata": {
    "scrolled": true
   },
   "outputs": [
    {
     "data": {
      "application/vnd.plotly.v1+json": {
       "data": [
        {
         "name": "数据反馈延期率",
         "type": "scatter",
         "uid": "24c4f1f2-c22b-11e8-8e00-a81e84e6c740",
         "x": [
          "8-1",
          "8-2",
          "8-3",
          "8-4",
          "8-5",
          "9-1",
          "9-2"
         ],
         "y": [
          0,
          0,
          0,
          0,
          0,
          0,
          0
         ]
        },
        {
         "name": "个性化反馈延期率",
         "type": "scatter",
         "uid": "24c4f76a-c22b-11e8-8e00-a81e84e6c740",
         "x": [
          "8-1",
          "8-2",
          "8-3",
          "8-4",
          "8-5",
          "9-1",
          "9-2"
         ],
         "y": [
          0,
          0,
          0,
          0,
          0,
          0,
          0
         ]
        }
       ],
       "layout": {
        "title": "数据反馈延期率&个性化反馈延期率周趋势图",
        "xaxis": {
         "mirror": "all",
         "nticks": 20,
         "showgrid": true,
         "showline": true,
         "title": "周",
         "zeroline": true
        },
        "yaxis": {
         "mirror": "all",
         "nticks": 20,
         "showgrid": true,
         "showline": true,
         "title": "数据反馈延期率&个性化反馈延期率",
         "zeroline": true
        }
       }
      },
      "text/html": [
       "<div id=\"2ca9b927-783a-461e-992a-d311f65ed24f\" style=\"height: 525px; width: 100%;\" class=\"plotly-graph-div\"></div><script type=\"text/javascript\">require([\"plotly\"], function(Plotly) { window.PLOTLYENV=window.PLOTLYENV || {};window.PLOTLYENV.BASE_URL=\"https://plot.ly\";\n",
       "        Plotly.plot(\n",
       "            '2ca9b927-783a-461e-992a-d311f65ed24f',\n",
       "            [{\"name\": \"\\u6570\\u636e\\u53cd\\u9988\\u5ef6\\u671f\\u7387\", \"x\": [\"8-1\", \"8-2\", \"8-3\", \"8-4\", \"8-5\", \"9-1\", \"9-2\"], \"y\": [0.0, 0.0, 0.0, 0.0, 0.0, 0.0, 0.0], \"type\": \"scatter\", \"uid\": \"24c4f1f2-c22b-11e8-8e00-a81e84e6c740\"}, {\"name\": \"\\u4e2a\\u6027\\u5316\\u53cd\\u9988\\u5ef6\\u671f\\u7387\", \"x\": [\"8-1\", \"8-2\", \"8-3\", \"8-4\", \"8-5\", \"9-1\", \"9-2\"], \"y\": [0.0, 0.0, 0.0, 0.0, 0.0, 0.0, 0.0], \"type\": \"scatter\", \"uid\": \"24c4f76a-c22b-11e8-8e00-a81e84e6c740\"}],\n",
       "            {\"title\": \"\\u6570\\u636e\\u53cd\\u9988\\u5ef6\\u671f\\u7387&\\u4e2a\\u6027\\u5316\\u53cd\\u9988\\u5ef6\\u671f\\u7387\\u5468\\u8d8b\\u52bf\\u56fe\", \"xaxis\": {\"mirror\": \"all\", \"nticks\": 20, \"showgrid\": true, \"showline\": true, \"title\": \"\\u5468\", \"zeroline\": true}, \"yaxis\": {\"mirror\": \"all\", \"nticks\": 20, \"showgrid\": true, \"showline\": true, \"title\": \"\\u6570\\u636e\\u53cd\\u9988\\u5ef6\\u671f\\u7387&\\u4e2a\\u6027\\u5316\\u53cd\\u9988\\u5ef6\\u671f\\u7387\", \"zeroline\": true}},\n",
       "            {\"showLink\": true, \"linkText\": \"Export to plot.ly\"}\n",
       "        ).then(function () {return Plotly.addFrames('2ca9b927-783a-461e-992a-d311f65ed24f',{});}).then(function(){Plotly.animate('2ca9b927-783a-461e-992a-d311f65ed24f');})\n",
       "        });</script>"
      ],
      "text/vnd.plotly.v1+html": [
       "<div id=\"2ca9b927-783a-461e-992a-d311f65ed24f\" style=\"height: 525px; width: 100%;\" class=\"plotly-graph-div\"></div><script type=\"text/javascript\">require([\"plotly\"], function(Plotly) { window.PLOTLYENV=window.PLOTLYENV || {};window.PLOTLYENV.BASE_URL=\"https://plot.ly\";\n",
       "        Plotly.plot(\n",
       "            '2ca9b927-783a-461e-992a-d311f65ed24f',\n",
       "            [{\"name\": \"\\u6570\\u636e\\u53cd\\u9988\\u5ef6\\u671f\\u7387\", \"x\": [\"8-1\", \"8-2\", \"8-3\", \"8-4\", \"8-5\", \"9-1\", \"9-2\"], \"y\": [0.0, 0.0, 0.0, 0.0, 0.0, 0.0, 0.0], \"type\": \"scatter\", \"uid\": \"24c4f1f2-c22b-11e8-8e00-a81e84e6c740\"}, {\"name\": \"\\u4e2a\\u6027\\u5316\\u53cd\\u9988\\u5ef6\\u671f\\u7387\", \"x\": [\"8-1\", \"8-2\", \"8-3\", \"8-4\", \"8-5\", \"9-1\", \"9-2\"], \"y\": [0.0, 0.0, 0.0, 0.0, 0.0, 0.0, 0.0], \"type\": \"scatter\", \"uid\": \"24c4f76a-c22b-11e8-8e00-a81e84e6c740\"}],\n",
       "            {\"title\": \"\\u6570\\u636e\\u53cd\\u9988\\u5ef6\\u671f\\u7387&\\u4e2a\\u6027\\u5316\\u53cd\\u9988\\u5ef6\\u671f\\u7387\\u5468\\u8d8b\\u52bf\\u56fe\", \"xaxis\": {\"mirror\": \"all\", \"nticks\": 20, \"showgrid\": true, \"showline\": true, \"title\": \"\\u5468\", \"zeroline\": true}, \"yaxis\": {\"mirror\": \"all\", \"nticks\": 20, \"showgrid\": true, \"showline\": true, \"title\": \"\\u6570\\u636e\\u53cd\\u9988\\u5ef6\\u671f\\u7387&\\u4e2a\\u6027\\u5316\\u53cd\\u9988\\u5ef6\\u671f\\u7387\", \"zeroline\": true}},\n",
       "            {\"showLink\": true, \"linkText\": \"Export to plot.ly\"}\n",
       "        ).then(function () {return Plotly.addFrames('2ca9b927-783a-461e-992a-d311f65ed24f',{});}).then(function(){Plotly.animate('2ca9b927-783a-461e-992a-d311f65ed24f');})\n",
       "        });</script>"
      ]
     },
     "metadata": {},
     "output_type": "display_data"
    },
    {
     "data": {
      "application/vnd.plotly.v1+json": {
       "data": [
        {
         "name": "数据反馈延期率",
         "type": "scatter",
         "uid": "24d633cc-c22b-11e8-8e00-a81e84e6c740",
         "x": [
          "8",
          "9"
         ],
         "y": [
          0,
          0
         ]
        },
        {
         "name": "个性化反馈延期率",
         "type": "scatter",
         "uid": "24d642e0-c22b-11e8-8e00-a81e84e6c740",
         "x": [
          "8",
          "9"
         ],
         "y": [
          0,
          0
         ]
        }
       ],
       "layout": {
        "title": "数据反馈延期率&个性化反馈延期率月趋势图",
        "xaxis": {
         "mirror": "all",
         "nticks": 20,
         "showgrid": true,
         "showline": true,
         "title": "月",
         "zeroline": true
        },
        "yaxis": {
         "mirror": "all",
         "nticks": 20,
         "showgrid": true,
         "showline": true,
         "title": "数据反馈延期率&个性化反馈延期率",
         "zeroline": true
        }
       }
      },
      "text/html": [
       "<div id=\"1e5dd3c3-45c0-4eb6-a2d7-4b22b4077f32\" style=\"height: 525px; width: 100%;\" class=\"plotly-graph-div\"></div><script type=\"text/javascript\">require([\"plotly\"], function(Plotly) { window.PLOTLYENV=window.PLOTLYENV || {};window.PLOTLYENV.BASE_URL=\"https://plot.ly\";\n",
       "        Plotly.plot(\n",
       "            '1e5dd3c3-45c0-4eb6-a2d7-4b22b4077f32',\n",
       "            [{\"name\": \"\\u6570\\u636e\\u53cd\\u9988\\u5ef6\\u671f\\u7387\", \"x\": [\"8\", \"9\"], \"y\": [0.0, 0.0], \"type\": \"scatter\", \"uid\": \"24d633cc-c22b-11e8-8e00-a81e84e6c740\"}, {\"name\": \"\\u4e2a\\u6027\\u5316\\u53cd\\u9988\\u5ef6\\u671f\\u7387\", \"x\": [\"8\", \"9\"], \"y\": [0.0, 0.0], \"type\": \"scatter\", \"uid\": \"24d642e0-c22b-11e8-8e00-a81e84e6c740\"}],\n",
       "            {\"title\": \"\\u6570\\u636e\\u53cd\\u9988\\u5ef6\\u671f\\u7387&\\u4e2a\\u6027\\u5316\\u53cd\\u9988\\u5ef6\\u671f\\u7387\\u6708\\u8d8b\\u52bf\\u56fe\", \"xaxis\": {\"mirror\": \"all\", \"nticks\": 20, \"showgrid\": true, \"showline\": true, \"title\": \"\\u6708\", \"zeroline\": true}, \"yaxis\": {\"mirror\": \"all\", \"nticks\": 20, \"showgrid\": true, \"showline\": true, \"title\": \"\\u6570\\u636e\\u53cd\\u9988\\u5ef6\\u671f\\u7387&\\u4e2a\\u6027\\u5316\\u53cd\\u9988\\u5ef6\\u671f\\u7387\", \"zeroline\": true}},\n",
       "            {\"showLink\": true, \"linkText\": \"Export to plot.ly\"}\n",
       "        ).then(function () {return Plotly.addFrames('1e5dd3c3-45c0-4eb6-a2d7-4b22b4077f32',{});}).then(function(){Plotly.animate('1e5dd3c3-45c0-4eb6-a2d7-4b22b4077f32');})\n",
       "        });</script>"
      ],
      "text/vnd.plotly.v1+html": [
       "<div id=\"1e5dd3c3-45c0-4eb6-a2d7-4b22b4077f32\" style=\"height: 525px; width: 100%;\" class=\"plotly-graph-div\"></div><script type=\"text/javascript\">require([\"plotly\"], function(Plotly) { window.PLOTLYENV=window.PLOTLYENV || {};window.PLOTLYENV.BASE_URL=\"https://plot.ly\";\n",
       "        Plotly.plot(\n",
       "            '1e5dd3c3-45c0-4eb6-a2d7-4b22b4077f32',\n",
       "            [{\"name\": \"\\u6570\\u636e\\u53cd\\u9988\\u5ef6\\u671f\\u7387\", \"x\": [\"8\", \"9\"], \"y\": [0.0, 0.0], \"type\": \"scatter\", \"uid\": \"24d633cc-c22b-11e8-8e00-a81e84e6c740\"}, {\"name\": \"\\u4e2a\\u6027\\u5316\\u53cd\\u9988\\u5ef6\\u671f\\u7387\", \"x\": [\"8\", \"9\"], \"y\": [0.0, 0.0], \"type\": \"scatter\", \"uid\": \"24d642e0-c22b-11e8-8e00-a81e84e6c740\"}],\n",
       "            {\"title\": \"\\u6570\\u636e\\u53cd\\u9988\\u5ef6\\u671f\\u7387&\\u4e2a\\u6027\\u5316\\u53cd\\u9988\\u5ef6\\u671f\\u7387\\u6708\\u8d8b\\u52bf\\u56fe\", \"xaxis\": {\"mirror\": \"all\", \"nticks\": 20, \"showgrid\": true, \"showline\": true, \"title\": \"\\u6708\", \"zeroline\": true}, \"yaxis\": {\"mirror\": \"all\", \"nticks\": 20, \"showgrid\": true, \"showline\": true, \"title\": \"\\u6570\\u636e\\u53cd\\u9988\\u5ef6\\u671f\\u7387&\\u4e2a\\u6027\\u5316\\u53cd\\u9988\\u5ef6\\u671f\\u7387\", \"zeroline\": true}},\n",
       "            {\"showLink\": true, \"linkText\": \"Export to plot.ly\"}\n",
       "        ).then(function () {return Plotly.addFrames('1e5dd3c3-45c0-4eb6-a2d7-4b22b4077f32',{});}).then(function(){Plotly.animate('1e5dd3c3-45c0-4eb6-a2d7-4b22b4077f32');})\n",
       "        });</script>"
      ]
     },
     "metadata": {},
     "output_type": "display_data"
    }
   ],
   "source": [
    "data_dict = {'数据反馈延期率':['数据反馈延期率'],'个性化反馈延期率':['个性化反馈延期率']}\n",
    "myModule.plot( all_dict, data_dict, '人员' ,  'line' , all='all')"
   ]
  },
  {
   "cell_type": "markdown",
   "metadata": {},
   "source": [
    "### 交付延期率"
   ]
  },
  {
   "cell_type": "code",
   "execution_count": 40,
   "metadata": {},
   "outputs": [
    {
     "data": {
      "application/vnd.plotly.v1+json": {
       "data": [
        {
         "name": "交付延期率",
         "type": "scatter",
         "uid": "252a42dc-c22b-11e8-8e00-a81e84e6c740",
         "x": [
          "8-1",
          "8-2",
          "8-3",
          "8-4",
          "8-5",
          "9-1",
          "9-2"
         ],
         "y": [
          0,
          0,
          0,
          0,
          0,
          0,
          0
         ]
        }
       ],
       "layout": {
        "title": "交付延期率周趋势图",
        "xaxis": {
         "mirror": "all",
         "nticks": 20,
         "showgrid": true,
         "showline": true,
         "title": "周",
         "zeroline": true
        },
        "yaxis": {
         "mirror": "all",
         "nticks": 20,
         "showgrid": true,
         "showline": true,
         "title": "交付延期率",
         "zeroline": true
        }
       }
      },
      "text/html": [
       "<div id=\"5bbd381a-5686-4095-ab3e-0ab7664ea8a5\" style=\"height: 525px; width: 100%;\" class=\"plotly-graph-div\"></div><script type=\"text/javascript\">require([\"plotly\"], function(Plotly) { window.PLOTLYENV=window.PLOTLYENV || {};window.PLOTLYENV.BASE_URL=\"https://plot.ly\";\n",
       "        Plotly.plot(\n",
       "            '5bbd381a-5686-4095-ab3e-0ab7664ea8a5',\n",
       "            [{\"name\": \"\\u4ea4\\u4ed8\\u5ef6\\u671f\\u7387\", \"x\": [\"8-1\", \"8-2\", \"8-3\", \"8-4\", \"8-5\", \"9-1\", \"9-2\"], \"y\": [0.0, 0.0, 0.0, 0.0, 0.0, 0.0, 0.0], \"type\": \"scatter\", \"uid\": \"252a42dc-c22b-11e8-8e00-a81e84e6c740\"}],\n",
       "            {\"title\": \"\\u4ea4\\u4ed8\\u5ef6\\u671f\\u7387\\u5468\\u8d8b\\u52bf\\u56fe\", \"xaxis\": {\"mirror\": \"all\", \"nticks\": 20, \"showgrid\": true, \"showline\": true, \"title\": \"\\u5468\", \"zeroline\": true}, \"yaxis\": {\"mirror\": \"all\", \"nticks\": 20, \"showgrid\": true, \"showline\": true, \"title\": \"\\u4ea4\\u4ed8\\u5ef6\\u671f\\u7387\", \"zeroline\": true}},\n",
       "            {\"showLink\": true, \"linkText\": \"Export to plot.ly\"}\n",
       "        ).then(function () {return Plotly.addFrames('5bbd381a-5686-4095-ab3e-0ab7664ea8a5',{});}).then(function(){Plotly.animate('5bbd381a-5686-4095-ab3e-0ab7664ea8a5');})\n",
       "        });</script>"
      ],
      "text/vnd.plotly.v1+html": [
       "<div id=\"5bbd381a-5686-4095-ab3e-0ab7664ea8a5\" style=\"height: 525px; width: 100%;\" class=\"plotly-graph-div\"></div><script type=\"text/javascript\">require([\"plotly\"], function(Plotly) { window.PLOTLYENV=window.PLOTLYENV || {};window.PLOTLYENV.BASE_URL=\"https://plot.ly\";\n",
       "        Plotly.plot(\n",
       "            '5bbd381a-5686-4095-ab3e-0ab7664ea8a5',\n",
       "            [{\"name\": \"\\u4ea4\\u4ed8\\u5ef6\\u671f\\u7387\", \"x\": [\"8-1\", \"8-2\", \"8-3\", \"8-4\", \"8-5\", \"9-1\", \"9-2\"], \"y\": [0.0, 0.0, 0.0, 0.0, 0.0, 0.0, 0.0], \"type\": \"scatter\", \"uid\": \"252a42dc-c22b-11e8-8e00-a81e84e6c740\"}],\n",
       "            {\"title\": \"\\u4ea4\\u4ed8\\u5ef6\\u671f\\u7387\\u5468\\u8d8b\\u52bf\\u56fe\", \"xaxis\": {\"mirror\": \"all\", \"nticks\": 20, \"showgrid\": true, \"showline\": true, \"title\": \"\\u5468\", \"zeroline\": true}, \"yaxis\": {\"mirror\": \"all\", \"nticks\": 20, \"showgrid\": true, \"showline\": true, \"title\": \"\\u4ea4\\u4ed8\\u5ef6\\u671f\\u7387\", \"zeroline\": true}},\n",
       "            {\"showLink\": true, \"linkText\": \"Export to plot.ly\"}\n",
       "        ).then(function () {return Plotly.addFrames('5bbd381a-5686-4095-ab3e-0ab7664ea8a5',{});}).then(function(){Plotly.animate('5bbd381a-5686-4095-ab3e-0ab7664ea8a5');})\n",
       "        });</script>"
      ]
     },
     "metadata": {},
     "output_type": "display_data"
    },
    {
     "data": {
      "application/vnd.plotly.v1+json": {
       "data": [
        {
         "name": "交付延期率",
         "type": "scatter",
         "uid": "2537e54a-c22b-11e8-8e00-a81e84e6c740",
         "x": [
          "8",
          "9"
         ],
         "y": [
          0,
          0
         ]
        }
       ],
       "layout": {
        "title": "交付延期率月趋势图",
        "xaxis": {
         "mirror": "all",
         "nticks": 20,
         "showgrid": true,
         "showline": true,
         "title": "月",
         "zeroline": true
        },
        "yaxis": {
         "mirror": "all",
         "nticks": 20,
         "showgrid": true,
         "showline": true,
         "title": "交付延期率",
         "zeroline": true
        }
       }
      },
      "text/html": [
       "<div id=\"e043f488-d286-430b-88af-f299be5b4049\" style=\"height: 525px; width: 100%;\" class=\"plotly-graph-div\"></div><script type=\"text/javascript\">require([\"plotly\"], function(Plotly) { window.PLOTLYENV=window.PLOTLYENV || {};window.PLOTLYENV.BASE_URL=\"https://plot.ly\";\n",
       "        Plotly.plot(\n",
       "            'e043f488-d286-430b-88af-f299be5b4049',\n",
       "            [{\"name\": \"\\u4ea4\\u4ed8\\u5ef6\\u671f\\u7387\", \"x\": [\"8\", \"9\"], \"y\": [0.0, 0.0], \"type\": \"scatter\", \"uid\": \"2537e54a-c22b-11e8-8e00-a81e84e6c740\"}],\n",
       "            {\"title\": \"\\u4ea4\\u4ed8\\u5ef6\\u671f\\u7387\\u6708\\u8d8b\\u52bf\\u56fe\", \"xaxis\": {\"mirror\": \"all\", \"nticks\": 20, \"showgrid\": true, \"showline\": true, \"title\": \"\\u6708\", \"zeroline\": true}, \"yaxis\": {\"mirror\": \"all\", \"nticks\": 20, \"showgrid\": true, \"showline\": true, \"title\": \"\\u4ea4\\u4ed8\\u5ef6\\u671f\\u7387\", \"zeroline\": true}},\n",
       "            {\"showLink\": true, \"linkText\": \"Export to plot.ly\"}\n",
       "        ).then(function () {return Plotly.addFrames('e043f488-d286-430b-88af-f299be5b4049',{});}).then(function(){Plotly.animate('e043f488-d286-430b-88af-f299be5b4049');})\n",
       "        });</script>"
      ],
      "text/vnd.plotly.v1+html": [
       "<div id=\"e043f488-d286-430b-88af-f299be5b4049\" style=\"height: 525px; width: 100%;\" class=\"plotly-graph-div\"></div><script type=\"text/javascript\">require([\"plotly\"], function(Plotly) { window.PLOTLYENV=window.PLOTLYENV || {};window.PLOTLYENV.BASE_URL=\"https://plot.ly\";\n",
       "        Plotly.plot(\n",
       "            'e043f488-d286-430b-88af-f299be5b4049',\n",
       "            [{\"name\": \"\\u4ea4\\u4ed8\\u5ef6\\u671f\\u7387\", \"x\": [\"8\", \"9\"], \"y\": [0.0, 0.0], \"type\": \"scatter\", \"uid\": \"2537e54a-c22b-11e8-8e00-a81e84e6c740\"}],\n",
       "            {\"title\": \"\\u4ea4\\u4ed8\\u5ef6\\u671f\\u7387\\u6708\\u8d8b\\u52bf\\u56fe\", \"xaxis\": {\"mirror\": \"all\", \"nticks\": 20, \"showgrid\": true, \"showline\": true, \"title\": \"\\u6708\", \"zeroline\": true}, \"yaxis\": {\"mirror\": \"all\", \"nticks\": 20, \"showgrid\": true, \"showline\": true, \"title\": \"\\u4ea4\\u4ed8\\u5ef6\\u671f\\u7387\", \"zeroline\": true}},\n",
       "            {\"showLink\": true, \"linkText\": \"Export to plot.ly\"}\n",
       "        ).then(function () {return Plotly.addFrames('e043f488-d286-430b-88af-f299be5b4049',{});}).then(function(){Plotly.animate('e043f488-d286-430b-88af-f299be5b4049');})\n",
       "        });</script>"
      ]
     },
     "metadata": {},
     "output_type": "display_data"
    }
   ],
   "source": [
    "data_dict = {'交付延期率':['交付延期率']}\n",
    "myModule.plot( all_dict, data_dict, '人员' ,  'line' , all='all')"
   ]
  },
  {
   "cell_type": "markdown",
   "metadata": {
    "collapsed": true
   },
   "source": [
    "## 个人情况"
   ]
  },
  {
   "cell_type": "markdown",
   "metadata": {},
   "source": [
    "### 完成项目数"
   ]
  },
  {
   "cell_type": "code",
   "execution_count": 41,
   "metadata": {},
   "outputs": [
    {
     "data": {
      "application/vnd.plotly.v1+json": {
       "data": [
        {
         "name": "车天栋_完成商业项目数",
         "type": "bar",
         "uid": "25c3b5ca-c22b-11e8-8e00-a81e84e6c740",
         "x": [
          "8-1",
          "8-2",
          "8-3",
          "8-5",
          "9-1",
          "9-2"
         ],
         "y": [
          0,
          0,
          1,
          0,
          1,
          3
         ]
        },
        {
         "name": "车天栋_完成个性化数",
         "type": "bar",
         "uid": "25c3bb1a-c22b-11e8-8e00-a81e84e6c740",
         "x": [
          "8-1",
          "8-2",
          "8-3",
          "8-5",
          "9-1",
          "9-2"
         ],
         "y": [
          0,
          0,
          0,
          0,
          1,
          1
         ]
        },
        {
         "name": "沈立群_完成商业项目数",
         "type": "bar",
         "uid": "25c3bf34-c22b-11e8-8e00-a81e84e6c740",
         "x": [
          "8-1",
          "8-2",
          "8-3",
          "8-5",
          "9-1",
          "9-2"
         ],
         "y": [
          0,
          0,
          1,
          2,
          0,
          0
         ]
        },
        {
         "name": "沈立群_完成个性化数",
         "type": "bar",
         "uid": "25c3c2e0-c22b-11e8-8e00-a81e84e6c740",
         "x": [
          "8-1",
          "8-2",
          "8-3",
          "8-5",
          "9-1",
          "9-2"
         ],
         "y": [
          0,
          0,
          0,
          0,
          1,
          0
         ]
        },
        {
         "name": "王传文_完成商业项目数",
         "type": "bar",
         "uid": "25c3c664-c22b-11e8-8e00-a81e84e6c740",
         "x": [
          "8-1",
          "8-2",
          "8-3",
          "8-5",
          "9-1",
          "9-2"
         ],
         "y": [
          0,
          0,
          0,
          1,
          0,
          1
         ]
        },
        {
         "name": "王传文_完成个性化数",
         "type": "bar",
         "uid": "25c3c9e8-c22b-11e8-8e00-a81e84e6c740",
         "x": [
          "8-1",
          "8-2",
          "8-3",
          "8-5",
          "9-1",
          "9-2"
         ],
         "y": [
          0,
          0,
          0,
          0,
          1,
          0
         ]
        },
        {
         "name": "林文文_完成商业项目数",
         "type": "bar",
         "uid": "25c3cd62-c22b-11e8-8e00-a81e84e6c740",
         "x": [
          "8-1",
          "8-2",
          "8-3",
          "8-5",
          "9-1",
          "9-2"
         ],
         "y": [
          2,
          2,
          2,
          5,
          5,
          1
         ]
        },
        {
         "name": "林文文_完成个性化数",
         "type": "bar",
         "uid": "25c3d0d2-c22b-11e8-8e00-a81e84e6c740",
         "x": [
          "8-1",
          "8-2",
          "8-3",
          "8-5",
          "9-1",
          "9-2"
         ],
         "y": [
          2,
          0,
          0,
          1,
          1,
          1
         ]
        },
        {
         "name": "高剑_完成商业项目数",
         "type": "bar",
         "uid": "25c3d438-c22b-11e8-8e00-a81e84e6c740",
         "x": [
          "8-1",
          "8-2",
          "8-3",
          "8-4",
          "8-5",
          "9-1",
          "9-2"
         ],
         "y": [
          2,
          3,
          0,
          1,
          2,
          0,
          0
         ]
        },
        {
         "name": "高剑_完成个性化数",
         "type": "bar",
         "uid": "25c3d79e-c22b-11e8-8e00-a81e84e6c740",
         "x": [
          "8-1",
          "8-2",
          "8-3",
          "8-4",
          "8-5",
          "9-1",
          "9-2"
         ],
         "y": [
          1,
          2,
          2,
          2,
          0,
          1,
          0
         ]
        },
        {
         "name": "沈恩惠_完成商业项目数",
         "type": "bar",
         "uid": "25c3ddfc-c22b-11e8-8e00-a81e84e6c740",
         "x": [
          "8-1",
          "8-2",
          "8-3",
          "8-5",
          "9-1",
          "9-2"
         ],
         "y": [
          0,
          0,
          1,
          1,
          0,
          2
         ]
        },
        {
         "name": "沈恩惠_完成个性化数",
         "type": "bar",
         "uid": "25c3e1c6-c22b-11e8-8e00-a81e84e6c740",
         "x": [
          "8-1",
          "8-2",
          "8-3",
          "8-5",
          "9-1",
          "9-2"
         ],
         "y": [
          0,
          0,
          0,
          0,
          1,
          0
         ]
        },
        {
         "name": "立群_完成商业项目数",
         "type": "bar",
         "uid": "25c3e48c-c22b-11e8-8e00-a81e84e6c740",
         "x": [
          "8-4"
         ],
         "y": [
          0
         ]
        },
        {
         "name": "立群_完成个性化数",
         "type": "bar",
         "uid": "25c3e748-c22b-11e8-8e00-a81e84e6c740",
         "x": [
          "8-4"
         ],
         "y": [
          1
         ]
        },
        {
         "name": "文文_完成商业项目数",
         "type": "bar",
         "uid": "25c3ea04-c22b-11e8-8e00-a81e84e6c740",
         "x": [
          "8-4"
         ],
         "y": [
          2
         ]
        },
        {
         "name": "文文_完成个性化数",
         "type": "bar",
         "uid": "25c3ecc0-c22b-11e8-8e00-a81e84e6c740",
         "x": [
          "8-4"
         ],
         "y": [
          1
         ]
        },
        {
         "name": "天栋_完成商业项目数",
         "type": "bar",
         "uid": "25c3ef9a-c22b-11e8-8e00-a81e84e6c740",
         "x": [
          "8-4"
         ],
         "y": [
          1
         ]
        },
        {
         "name": "天栋_完成个性化数",
         "type": "bar",
         "uid": "25c3fce2-c22b-11e8-8e00-a81e84e6c740",
         "x": [
          "8-4"
         ],
         "y": [
          0
         ]
        },
        {
         "name": "传文_完成商业项目数",
         "type": "bar",
         "uid": "25c405de-c22b-11e8-8e00-a81e84e6c740",
         "x": [
          "8-4"
         ],
         "y": [
          1
         ]
        },
        {
         "name": "传文_完成个性化数",
         "type": "bar",
         "uid": "25c40c46-c22b-11e8-8e00-a81e84e6c740",
         "x": [
          "8-4"
         ],
         "y": [
          1
         ]
        },
        {
         "name": "恩惠_完成商业项目数",
         "type": "bar",
         "uid": "25c41042-c22b-11e8-8e00-a81e84e6c740",
         "x": [
          "8-4"
         ],
         "y": [
          0
         ]
        },
        {
         "name": "恩惠_完成个性化数",
         "type": "bar",
         "uid": "25c413ee-c22b-11e8-8e00-a81e84e6c740",
         "x": [
          "8-4"
         ],
         "y": [
          0
         ]
        }
       ],
       "layout": {
        "title": "完成商业项目数&完成个性化数周趋势图",
        "xaxis": {
         "mirror": "all",
         "nticks": 20,
         "showgrid": true,
         "showline": true,
         "title": "周",
         "zeroline": true
        },
        "yaxis": {
         "mirror": "all",
         "nticks": 20,
         "showgrid": true,
         "showline": true,
         "title": "完成商业项目数&完成个性化数",
         "zeroline": true
        }
       }
      },
      "text/html": [
       "<div id=\"410ae52b-9afc-4499-bb0c-955dfa965d58\" style=\"height: 525px; width: 100%;\" class=\"plotly-graph-div\"></div><script type=\"text/javascript\">require([\"plotly\"], function(Plotly) { window.PLOTLYENV=window.PLOTLYENV || {};window.PLOTLYENV.BASE_URL=\"https://plot.ly\";\n",
       "        Plotly.plot(\n",
       "            '410ae52b-9afc-4499-bb0c-955dfa965d58',\n",
       "            [{\"name\": \"\\u8f66\\u5929\\u680b_\\u5b8c\\u6210\\u5546\\u4e1a\\u9879\\u76ee\\u6570\", \"x\": [\"8-1\", \"8-2\", \"8-3\", \"8-5\", \"9-1\", \"9-2\"], \"y\": [0.0, 0.0, 1.0, 0.0, 1.0, 3.0], \"type\": \"bar\", \"uid\": \"25c3b5ca-c22b-11e8-8e00-a81e84e6c740\"}, {\"name\": \"\\u8f66\\u5929\\u680b_\\u5b8c\\u6210\\u4e2a\\u6027\\u5316\\u6570\", \"x\": [\"8-1\", \"8-2\", \"8-3\", \"8-5\", \"9-1\", \"9-2\"], \"y\": [0.0, 0.0, 0.0, 0.0, 1.0, 1.0], \"type\": \"bar\", \"uid\": \"25c3bb1a-c22b-11e8-8e00-a81e84e6c740\"}, {\"name\": \"\\u6c88\\u7acb\\u7fa4_\\u5b8c\\u6210\\u5546\\u4e1a\\u9879\\u76ee\\u6570\", \"x\": [\"8-1\", \"8-2\", \"8-3\", \"8-5\", \"9-1\", \"9-2\"], \"y\": [0.0, 0.0, 1.0, 2.0, 0.0, 0.0], \"type\": \"bar\", \"uid\": \"25c3bf34-c22b-11e8-8e00-a81e84e6c740\"}, {\"name\": \"\\u6c88\\u7acb\\u7fa4_\\u5b8c\\u6210\\u4e2a\\u6027\\u5316\\u6570\", \"x\": [\"8-1\", \"8-2\", \"8-3\", \"8-5\", \"9-1\", \"9-2\"], \"y\": [0.0, 0.0, 0.0, 0.0, 1.0, 0.0], \"type\": \"bar\", \"uid\": \"25c3c2e0-c22b-11e8-8e00-a81e84e6c740\"}, {\"name\": \"\\u738b\\u4f20\\u6587_\\u5b8c\\u6210\\u5546\\u4e1a\\u9879\\u76ee\\u6570\", \"x\": [\"8-1\", \"8-2\", \"8-3\", \"8-5\", \"9-1\", \"9-2\"], \"y\": [0.0, 0.0, 0.0, 1.0, 0.0, 1.0], \"type\": \"bar\", \"uid\": \"25c3c664-c22b-11e8-8e00-a81e84e6c740\"}, {\"name\": \"\\u738b\\u4f20\\u6587_\\u5b8c\\u6210\\u4e2a\\u6027\\u5316\\u6570\", \"x\": [\"8-1\", \"8-2\", \"8-3\", \"8-5\", \"9-1\", \"9-2\"], \"y\": [0.0, 0.0, 0.0, 0.0, 1.0, 0.0], \"type\": \"bar\", \"uid\": \"25c3c9e8-c22b-11e8-8e00-a81e84e6c740\"}, {\"name\": \"\\u6797\\u6587\\u6587_\\u5b8c\\u6210\\u5546\\u4e1a\\u9879\\u76ee\\u6570\", \"x\": [\"8-1\", \"8-2\", \"8-3\", \"8-5\", \"9-1\", \"9-2\"], \"y\": [2.0, 2.0, 2.0, 5.0, 5.0, 1.0], \"type\": \"bar\", \"uid\": \"25c3cd62-c22b-11e8-8e00-a81e84e6c740\"}, {\"name\": \"\\u6797\\u6587\\u6587_\\u5b8c\\u6210\\u4e2a\\u6027\\u5316\\u6570\", \"x\": [\"8-1\", \"8-2\", \"8-3\", \"8-5\", \"9-1\", \"9-2\"], \"y\": [2.0, 0.0, 0.0, 1.0, 1.0, 1.0], \"type\": \"bar\", \"uid\": \"25c3d0d2-c22b-11e8-8e00-a81e84e6c740\"}, {\"name\": \"\\u9ad8\\u5251_\\u5b8c\\u6210\\u5546\\u4e1a\\u9879\\u76ee\\u6570\", \"x\": [\"8-1\", \"8-2\", \"8-3\", \"8-4\", \"8-5\", \"9-1\", \"9-2\"], \"y\": [2.0, 3.0, 0.0, 1.0, 2.0, 0.0, 0.0], \"type\": \"bar\", \"uid\": \"25c3d438-c22b-11e8-8e00-a81e84e6c740\"}, {\"name\": \"\\u9ad8\\u5251_\\u5b8c\\u6210\\u4e2a\\u6027\\u5316\\u6570\", \"x\": [\"8-1\", \"8-2\", \"8-3\", \"8-4\", \"8-5\", \"9-1\", \"9-2\"], \"y\": [1.0, 2.0, 2.0, 2.0, 0.0, 1.0, 0.0], \"type\": \"bar\", \"uid\": \"25c3d79e-c22b-11e8-8e00-a81e84e6c740\"}, {\"name\": \"\\u6c88\\u6069\\u60e0_\\u5b8c\\u6210\\u5546\\u4e1a\\u9879\\u76ee\\u6570\", \"x\": [\"8-1\", \"8-2\", \"8-3\", \"8-5\", \"9-1\", \"9-2\"], \"y\": [0.0, 0.0, 1.0, 1.0, 0.0, 2.0], \"type\": \"bar\", \"uid\": \"25c3ddfc-c22b-11e8-8e00-a81e84e6c740\"}, {\"name\": \"\\u6c88\\u6069\\u60e0_\\u5b8c\\u6210\\u4e2a\\u6027\\u5316\\u6570\", \"x\": [\"8-1\", \"8-2\", \"8-3\", \"8-5\", \"9-1\", \"9-2\"], \"y\": [0.0, 0.0, 0.0, 0.0, 1.0, 0.0], \"type\": \"bar\", \"uid\": \"25c3e1c6-c22b-11e8-8e00-a81e84e6c740\"}, {\"name\": \"\\u7acb\\u7fa4_\\u5b8c\\u6210\\u5546\\u4e1a\\u9879\\u76ee\\u6570\", \"x\": [\"8-4\"], \"y\": [0.0], \"type\": \"bar\", \"uid\": \"25c3e48c-c22b-11e8-8e00-a81e84e6c740\"}, {\"name\": \"\\u7acb\\u7fa4_\\u5b8c\\u6210\\u4e2a\\u6027\\u5316\\u6570\", \"x\": [\"8-4\"], \"y\": [1.0], \"type\": \"bar\", \"uid\": \"25c3e748-c22b-11e8-8e00-a81e84e6c740\"}, {\"name\": \"\\u6587\\u6587_\\u5b8c\\u6210\\u5546\\u4e1a\\u9879\\u76ee\\u6570\", \"x\": [\"8-4\"], \"y\": [2.0], \"type\": \"bar\", \"uid\": \"25c3ea04-c22b-11e8-8e00-a81e84e6c740\"}, {\"name\": \"\\u6587\\u6587_\\u5b8c\\u6210\\u4e2a\\u6027\\u5316\\u6570\", \"x\": [\"8-4\"], \"y\": [1.0], \"type\": \"bar\", \"uid\": \"25c3ecc0-c22b-11e8-8e00-a81e84e6c740\"}, {\"name\": \"\\u5929\\u680b_\\u5b8c\\u6210\\u5546\\u4e1a\\u9879\\u76ee\\u6570\", \"x\": [\"8-4\"], \"y\": [1.0], \"type\": \"bar\", \"uid\": \"25c3ef9a-c22b-11e8-8e00-a81e84e6c740\"}, {\"name\": \"\\u5929\\u680b_\\u5b8c\\u6210\\u4e2a\\u6027\\u5316\\u6570\", \"x\": [\"8-4\"], \"y\": [0.0], \"type\": \"bar\", \"uid\": \"25c3fce2-c22b-11e8-8e00-a81e84e6c740\"}, {\"name\": \"\\u4f20\\u6587_\\u5b8c\\u6210\\u5546\\u4e1a\\u9879\\u76ee\\u6570\", \"x\": [\"8-4\"], \"y\": [1.0], \"type\": \"bar\", \"uid\": \"25c405de-c22b-11e8-8e00-a81e84e6c740\"}, {\"name\": \"\\u4f20\\u6587_\\u5b8c\\u6210\\u4e2a\\u6027\\u5316\\u6570\", \"x\": [\"8-4\"], \"y\": [1.0], \"type\": \"bar\", \"uid\": \"25c40c46-c22b-11e8-8e00-a81e84e6c740\"}, {\"name\": \"\\u6069\\u60e0_\\u5b8c\\u6210\\u5546\\u4e1a\\u9879\\u76ee\\u6570\", \"x\": [\"8-4\"], \"y\": [0.0], \"type\": \"bar\", \"uid\": \"25c41042-c22b-11e8-8e00-a81e84e6c740\"}, {\"name\": \"\\u6069\\u60e0_\\u5b8c\\u6210\\u4e2a\\u6027\\u5316\\u6570\", \"x\": [\"8-4\"], \"y\": [0.0], \"type\": \"bar\", \"uid\": \"25c413ee-c22b-11e8-8e00-a81e84e6c740\"}],\n",
       "            {\"title\": \"\\u5b8c\\u6210\\u5546\\u4e1a\\u9879\\u76ee\\u6570&\\u5b8c\\u6210\\u4e2a\\u6027\\u5316\\u6570\\u5468\\u8d8b\\u52bf\\u56fe\", \"xaxis\": {\"mirror\": \"all\", \"nticks\": 20, \"showgrid\": true, \"showline\": true, \"title\": \"\\u5468\", \"zeroline\": true}, \"yaxis\": {\"mirror\": \"all\", \"nticks\": 20, \"showgrid\": true, \"showline\": true, \"title\": \"\\u5b8c\\u6210\\u5546\\u4e1a\\u9879\\u76ee\\u6570&\\u5b8c\\u6210\\u4e2a\\u6027\\u5316\\u6570\", \"zeroline\": true}},\n",
       "            {\"showLink\": true, \"linkText\": \"Export to plot.ly\"}\n",
       "        ).then(function () {return Plotly.addFrames('410ae52b-9afc-4499-bb0c-955dfa965d58',{});}).then(function(){Plotly.animate('410ae52b-9afc-4499-bb0c-955dfa965d58');})\n",
       "        });</script>"
      ],
      "text/vnd.plotly.v1+html": [
       "<div id=\"410ae52b-9afc-4499-bb0c-955dfa965d58\" style=\"height: 525px; width: 100%;\" class=\"plotly-graph-div\"></div><script type=\"text/javascript\">require([\"plotly\"], function(Plotly) { window.PLOTLYENV=window.PLOTLYENV || {};window.PLOTLYENV.BASE_URL=\"https://plot.ly\";\n",
       "        Plotly.plot(\n",
       "            '410ae52b-9afc-4499-bb0c-955dfa965d58',\n",
       "            [{\"name\": \"\\u8f66\\u5929\\u680b_\\u5b8c\\u6210\\u5546\\u4e1a\\u9879\\u76ee\\u6570\", \"x\": [\"8-1\", \"8-2\", \"8-3\", \"8-5\", \"9-1\", \"9-2\"], \"y\": [0.0, 0.0, 1.0, 0.0, 1.0, 3.0], \"type\": \"bar\", \"uid\": \"25c3b5ca-c22b-11e8-8e00-a81e84e6c740\"}, {\"name\": \"\\u8f66\\u5929\\u680b_\\u5b8c\\u6210\\u4e2a\\u6027\\u5316\\u6570\", \"x\": [\"8-1\", \"8-2\", \"8-3\", \"8-5\", \"9-1\", \"9-2\"], \"y\": [0.0, 0.0, 0.0, 0.0, 1.0, 1.0], \"type\": \"bar\", \"uid\": \"25c3bb1a-c22b-11e8-8e00-a81e84e6c740\"}, {\"name\": \"\\u6c88\\u7acb\\u7fa4_\\u5b8c\\u6210\\u5546\\u4e1a\\u9879\\u76ee\\u6570\", \"x\": [\"8-1\", \"8-2\", \"8-3\", \"8-5\", \"9-1\", \"9-2\"], \"y\": [0.0, 0.0, 1.0, 2.0, 0.0, 0.0], \"type\": \"bar\", \"uid\": \"25c3bf34-c22b-11e8-8e00-a81e84e6c740\"}, {\"name\": \"\\u6c88\\u7acb\\u7fa4_\\u5b8c\\u6210\\u4e2a\\u6027\\u5316\\u6570\", \"x\": [\"8-1\", \"8-2\", \"8-3\", \"8-5\", \"9-1\", \"9-2\"], \"y\": [0.0, 0.0, 0.0, 0.0, 1.0, 0.0], \"type\": \"bar\", \"uid\": \"25c3c2e0-c22b-11e8-8e00-a81e84e6c740\"}, {\"name\": \"\\u738b\\u4f20\\u6587_\\u5b8c\\u6210\\u5546\\u4e1a\\u9879\\u76ee\\u6570\", \"x\": [\"8-1\", \"8-2\", \"8-3\", \"8-5\", \"9-1\", \"9-2\"], \"y\": [0.0, 0.0, 0.0, 1.0, 0.0, 1.0], \"type\": \"bar\", \"uid\": \"25c3c664-c22b-11e8-8e00-a81e84e6c740\"}, {\"name\": \"\\u738b\\u4f20\\u6587_\\u5b8c\\u6210\\u4e2a\\u6027\\u5316\\u6570\", \"x\": [\"8-1\", \"8-2\", \"8-3\", \"8-5\", \"9-1\", \"9-2\"], \"y\": [0.0, 0.0, 0.0, 0.0, 1.0, 0.0], \"type\": \"bar\", \"uid\": \"25c3c9e8-c22b-11e8-8e00-a81e84e6c740\"}, {\"name\": \"\\u6797\\u6587\\u6587_\\u5b8c\\u6210\\u5546\\u4e1a\\u9879\\u76ee\\u6570\", \"x\": [\"8-1\", \"8-2\", \"8-3\", \"8-5\", \"9-1\", \"9-2\"], \"y\": [2.0, 2.0, 2.0, 5.0, 5.0, 1.0], \"type\": \"bar\", \"uid\": \"25c3cd62-c22b-11e8-8e00-a81e84e6c740\"}, {\"name\": \"\\u6797\\u6587\\u6587_\\u5b8c\\u6210\\u4e2a\\u6027\\u5316\\u6570\", \"x\": [\"8-1\", \"8-2\", \"8-3\", \"8-5\", \"9-1\", \"9-2\"], \"y\": [2.0, 0.0, 0.0, 1.0, 1.0, 1.0], \"type\": \"bar\", \"uid\": \"25c3d0d2-c22b-11e8-8e00-a81e84e6c740\"}, {\"name\": \"\\u9ad8\\u5251_\\u5b8c\\u6210\\u5546\\u4e1a\\u9879\\u76ee\\u6570\", \"x\": [\"8-1\", \"8-2\", \"8-3\", \"8-4\", \"8-5\", \"9-1\", \"9-2\"], \"y\": [2.0, 3.0, 0.0, 1.0, 2.0, 0.0, 0.0], \"type\": \"bar\", \"uid\": \"25c3d438-c22b-11e8-8e00-a81e84e6c740\"}, {\"name\": \"\\u9ad8\\u5251_\\u5b8c\\u6210\\u4e2a\\u6027\\u5316\\u6570\", \"x\": [\"8-1\", \"8-2\", \"8-3\", \"8-4\", \"8-5\", \"9-1\", \"9-2\"], \"y\": [1.0, 2.0, 2.0, 2.0, 0.0, 1.0, 0.0], \"type\": \"bar\", \"uid\": \"25c3d79e-c22b-11e8-8e00-a81e84e6c740\"}, {\"name\": \"\\u6c88\\u6069\\u60e0_\\u5b8c\\u6210\\u5546\\u4e1a\\u9879\\u76ee\\u6570\", \"x\": [\"8-1\", \"8-2\", \"8-3\", \"8-5\", \"9-1\", \"9-2\"], \"y\": [0.0, 0.0, 1.0, 1.0, 0.0, 2.0], \"type\": \"bar\", \"uid\": \"25c3ddfc-c22b-11e8-8e00-a81e84e6c740\"}, {\"name\": \"\\u6c88\\u6069\\u60e0_\\u5b8c\\u6210\\u4e2a\\u6027\\u5316\\u6570\", \"x\": [\"8-1\", \"8-2\", \"8-3\", \"8-5\", \"9-1\", \"9-2\"], \"y\": [0.0, 0.0, 0.0, 0.0, 1.0, 0.0], \"type\": \"bar\", \"uid\": \"25c3e1c6-c22b-11e8-8e00-a81e84e6c740\"}, {\"name\": \"\\u7acb\\u7fa4_\\u5b8c\\u6210\\u5546\\u4e1a\\u9879\\u76ee\\u6570\", \"x\": [\"8-4\"], \"y\": [0.0], \"type\": \"bar\", \"uid\": \"25c3e48c-c22b-11e8-8e00-a81e84e6c740\"}, {\"name\": \"\\u7acb\\u7fa4_\\u5b8c\\u6210\\u4e2a\\u6027\\u5316\\u6570\", \"x\": [\"8-4\"], \"y\": [1.0], \"type\": \"bar\", \"uid\": \"25c3e748-c22b-11e8-8e00-a81e84e6c740\"}, {\"name\": \"\\u6587\\u6587_\\u5b8c\\u6210\\u5546\\u4e1a\\u9879\\u76ee\\u6570\", \"x\": [\"8-4\"], \"y\": [2.0], \"type\": \"bar\", \"uid\": \"25c3ea04-c22b-11e8-8e00-a81e84e6c740\"}, {\"name\": \"\\u6587\\u6587_\\u5b8c\\u6210\\u4e2a\\u6027\\u5316\\u6570\", \"x\": [\"8-4\"], \"y\": [1.0], \"type\": \"bar\", \"uid\": \"25c3ecc0-c22b-11e8-8e00-a81e84e6c740\"}, {\"name\": \"\\u5929\\u680b_\\u5b8c\\u6210\\u5546\\u4e1a\\u9879\\u76ee\\u6570\", \"x\": [\"8-4\"], \"y\": [1.0], \"type\": \"bar\", \"uid\": \"25c3ef9a-c22b-11e8-8e00-a81e84e6c740\"}, {\"name\": \"\\u5929\\u680b_\\u5b8c\\u6210\\u4e2a\\u6027\\u5316\\u6570\", \"x\": [\"8-4\"], \"y\": [0.0], \"type\": \"bar\", \"uid\": \"25c3fce2-c22b-11e8-8e00-a81e84e6c740\"}, {\"name\": \"\\u4f20\\u6587_\\u5b8c\\u6210\\u5546\\u4e1a\\u9879\\u76ee\\u6570\", \"x\": [\"8-4\"], \"y\": [1.0], \"type\": \"bar\", \"uid\": \"25c405de-c22b-11e8-8e00-a81e84e6c740\"}, {\"name\": \"\\u4f20\\u6587_\\u5b8c\\u6210\\u4e2a\\u6027\\u5316\\u6570\", \"x\": [\"8-4\"], \"y\": [1.0], \"type\": \"bar\", \"uid\": \"25c40c46-c22b-11e8-8e00-a81e84e6c740\"}, {\"name\": \"\\u6069\\u60e0_\\u5b8c\\u6210\\u5546\\u4e1a\\u9879\\u76ee\\u6570\", \"x\": [\"8-4\"], \"y\": [0.0], \"type\": \"bar\", \"uid\": \"25c41042-c22b-11e8-8e00-a81e84e6c740\"}, {\"name\": \"\\u6069\\u60e0_\\u5b8c\\u6210\\u4e2a\\u6027\\u5316\\u6570\", \"x\": [\"8-4\"], \"y\": [0.0], \"type\": \"bar\", \"uid\": \"25c413ee-c22b-11e8-8e00-a81e84e6c740\"}],\n",
       "            {\"title\": \"\\u5b8c\\u6210\\u5546\\u4e1a\\u9879\\u76ee\\u6570&\\u5b8c\\u6210\\u4e2a\\u6027\\u5316\\u6570\\u5468\\u8d8b\\u52bf\\u56fe\", \"xaxis\": {\"mirror\": \"all\", \"nticks\": 20, \"showgrid\": true, \"showline\": true, \"title\": \"\\u5468\", \"zeroline\": true}, \"yaxis\": {\"mirror\": \"all\", \"nticks\": 20, \"showgrid\": true, \"showline\": true, \"title\": \"\\u5b8c\\u6210\\u5546\\u4e1a\\u9879\\u76ee\\u6570&\\u5b8c\\u6210\\u4e2a\\u6027\\u5316\\u6570\", \"zeroline\": true}},\n",
       "            {\"showLink\": true, \"linkText\": \"Export to plot.ly\"}\n",
       "        ).then(function () {return Plotly.addFrames('410ae52b-9afc-4499-bb0c-955dfa965d58',{});}).then(function(){Plotly.animate('410ae52b-9afc-4499-bb0c-955dfa965d58');})\n",
       "        });</script>"
      ]
     },
     "metadata": {},
     "output_type": "display_data"
    },
    {
     "data": {
      "application/vnd.plotly.v1+json": {
       "data": [
        {
         "name": "传文_完成商业项目数",
         "type": "bar",
         "uid": "260c8674-c22b-11e8-8e00-a81e84e6c740",
         "x": [
          "8"
         ],
         "y": [
          null
         ]
        },
        {
         "name": "传文_完成个性化数",
         "type": "bar",
         "uid": "260c8db8-c22b-11e8-8e00-a81e84e6c740",
         "x": [
          "8"
         ],
         "y": [
          null
         ]
        },
        {
         "name": "天栋_完成商业项目数",
         "type": "bar",
         "uid": "260c9164-c22b-11e8-8e00-a81e84e6c740",
         "x": [
          "8"
         ],
         "y": [
          null
         ]
        },
        {
         "name": "天栋_完成个性化数",
         "type": "bar",
         "uid": "260c9470-c22b-11e8-8e00-a81e84e6c740",
         "x": [
          "8"
         ],
         "y": [
          null
         ]
        },
        {
         "name": "恩惠_完成商业项目数",
         "type": "bar",
         "uid": "260c9768-c22b-11e8-8e00-a81e84e6c740",
         "x": [
          "8"
         ],
         "y": [
          null
         ]
        },
        {
         "name": "恩惠_完成个性化数",
         "type": "bar",
         "uid": "260c9a4c-c22b-11e8-8e00-a81e84e6c740",
         "x": [
          "8"
         ],
         "y": [
          null
         ]
        },
        {
         "name": "文文_完成商业项目数",
         "type": "bar",
         "uid": "260c9d30-c22b-11e8-8e00-a81e84e6c740",
         "x": [
          "8"
         ],
         "y": [
          null
         ]
        },
        {
         "name": "文文_完成个性化数",
         "type": "bar",
         "uid": "260ca014-c22b-11e8-8e00-a81e84e6c740",
         "x": [
          "8"
         ],
         "y": [
          null
         ]
        },
        {
         "name": "林文文_完成商业项目数",
         "type": "bar",
         "uid": "260ca2ee-c22b-11e8-8e00-a81e84e6c740",
         "x": [
          "8",
          "9"
         ],
         "y": [
          null,
          6
         ]
        },
        {
         "name": "林文文_完成个性化数",
         "type": "bar",
         "uid": "260ca5f0-c22b-11e8-8e00-a81e84e6c740",
         "x": [
          "8",
          "9"
         ],
         "y": [
          null,
          2
         ]
        },
        {
         "name": "沈恩惠_完成商业项目数",
         "type": "bar",
         "uid": "260ca8ca-c22b-11e8-8e00-a81e84e6c740",
         "x": [
          "8",
          "9"
         ],
         "y": [
          null,
          2
         ]
        },
        {
         "name": "沈恩惠_完成个性化数",
         "type": "bar",
         "uid": "260cab9a-c22b-11e8-8e00-a81e84e6c740",
         "x": [
          "8",
          "9"
         ],
         "y": [
          null,
          1
         ]
        },
        {
         "name": "沈立群_完成商业项目数",
         "type": "bar",
         "uid": "260cae6a-c22b-11e8-8e00-a81e84e6c740",
         "x": [
          "8",
          "9"
         ],
         "y": [
          null,
          0
         ]
        },
        {
         "name": "沈立群_完成个性化数",
         "type": "bar",
         "uid": "260cb13a-c22b-11e8-8e00-a81e84e6c740",
         "x": [
          "8",
          "9"
         ],
         "y": [
          null,
          1
         ]
        },
        {
         "name": "王传文_完成商业项目数",
         "type": "bar",
         "uid": "260cb41e-c22b-11e8-8e00-a81e84e6c740",
         "x": [
          "8",
          "9"
         ],
         "y": [
          null,
          1
         ]
        },
        {
         "name": "王传文_完成个性化数",
         "type": "bar",
         "uid": "260cb6f8-c22b-11e8-8e00-a81e84e6c740",
         "x": [
          "8",
          "9"
         ],
         "y": [
          null,
          1
         ]
        },
        {
         "name": "立群_完成商业项目数",
         "type": "bar",
         "uid": "260cbb80-c22b-11e8-8e00-a81e84e6c740",
         "x": [
          "8"
         ],
         "y": [
          null
         ]
        },
        {
         "name": "立群_完成个性化数",
         "type": "bar",
         "uid": "260cc0a8-c22b-11e8-8e00-a81e84e6c740",
         "x": [
          "8"
         ],
         "y": [
          null
         ]
        },
        {
         "name": "车天栋_完成商业项目数",
         "type": "bar",
         "uid": "260cc418-c22b-11e8-8e00-a81e84e6c740",
         "x": [
          "8",
          "9"
         ],
         "y": [
          null,
          4
         ]
        },
        {
         "name": "车天栋_完成个性化数",
         "type": "bar",
         "uid": "260cc72e-c22b-11e8-8e00-a81e84e6c740",
         "x": [
          "8",
          "9"
         ],
         "y": [
          null,
          2
         ]
        },
        {
         "name": "高剑_完成商业项目数",
         "type": "bar",
         "uid": "260cc9ea-c22b-11e8-8e00-a81e84e6c740",
         "x": [
          "8",
          "9"
         ],
         "y": [
          8,
          0
         ]
        },
        {
         "name": "高剑_完成个性化数",
         "type": "bar",
         "uid": "260ccf1c-c22b-11e8-8e00-a81e84e6c740",
         "x": [
          "8",
          "9"
         ],
         "y": [
          7,
          1
         ]
        }
       ],
       "layout": {
        "title": "完成商业项目数&完成个性化数月趋势图",
        "xaxis": {
         "mirror": "all",
         "nticks": 20,
         "showgrid": true,
         "showline": true,
         "title": "月",
         "zeroline": true
        },
        "yaxis": {
         "mirror": "all",
         "nticks": 20,
         "showgrid": true,
         "showline": true,
         "title": "完成商业项目数&完成个性化数",
         "zeroline": true
        }
       }
      },
      "text/html": [
       "<div id=\"0bd25ff5-866a-4cc4-acbf-056b1edec3b5\" style=\"height: 525px; width: 100%;\" class=\"plotly-graph-div\"></div><script type=\"text/javascript\">require([\"plotly\"], function(Plotly) { window.PLOTLYENV=window.PLOTLYENV || {};window.PLOTLYENV.BASE_URL=\"https://plot.ly\";\n",
       "        Plotly.plot(\n",
       "            '0bd25ff5-866a-4cc4-acbf-056b1edec3b5',\n",
       "            [{\"name\": \"\\u4f20\\u6587_\\u5b8c\\u6210\\u5546\\u4e1a\\u9879\\u76ee\\u6570\", \"x\": [\"8\"], \"y\": [null], \"type\": \"bar\", \"uid\": \"260c8674-c22b-11e8-8e00-a81e84e6c740\"}, {\"name\": \"\\u4f20\\u6587_\\u5b8c\\u6210\\u4e2a\\u6027\\u5316\\u6570\", \"x\": [\"8\"], \"y\": [null], \"type\": \"bar\", \"uid\": \"260c8db8-c22b-11e8-8e00-a81e84e6c740\"}, {\"name\": \"\\u5929\\u680b_\\u5b8c\\u6210\\u5546\\u4e1a\\u9879\\u76ee\\u6570\", \"x\": [\"8\"], \"y\": [null], \"type\": \"bar\", \"uid\": \"260c9164-c22b-11e8-8e00-a81e84e6c740\"}, {\"name\": \"\\u5929\\u680b_\\u5b8c\\u6210\\u4e2a\\u6027\\u5316\\u6570\", \"x\": [\"8\"], \"y\": [null], \"type\": \"bar\", \"uid\": \"260c9470-c22b-11e8-8e00-a81e84e6c740\"}, {\"name\": \"\\u6069\\u60e0_\\u5b8c\\u6210\\u5546\\u4e1a\\u9879\\u76ee\\u6570\", \"x\": [\"8\"], \"y\": [null], \"type\": \"bar\", \"uid\": \"260c9768-c22b-11e8-8e00-a81e84e6c740\"}, {\"name\": \"\\u6069\\u60e0_\\u5b8c\\u6210\\u4e2a\\u6027\\u5316\\u6570\", \"x\": [\"8\"], \"y\": [null], \"type\": \"bar\", \"uid\": \"260c9a4c-c22b-11e8-8e00-a81e84e6c740\"}, {\"name\": \"\\u6587\\u6587_\\u5b8c\\u6210\\u5546\\u4e1a\\u9879\\u76ee\\u6570\", \"x\": [\"8\"], \"y\": [null], \"type\": \"bar\", \"uid\": \"260c9d30-c22b-11e8-8e00-a81e84e6c740\"}, {\"name\": \"\\u6587\\u6587_\\u5b8c\\u6210\\u4e2a\\u6027\\u5316\\u6570\", \"x\": [\"8\"], \"y\": [null], \"type\": \"bar\", \"uid\": \"260ca014-c22b-11e8-8e00-a81e84e6c740\"}, {\"name\": \"\\u6797\\u6587\\u6587_\\u5b8c\\u6210\\u5546\\u4e1a\\u9879\\u76ee\\u6570\", \"x\": [\"8\", \"9\"], \"y\": [null, 6.0], \"type\": \"bar\", \"uid\": \"260ca2ee-c22b-11e8-8e00-a81e84e6c740\"}, {\"name\": \"\\u6797\\u6587\\u6587_\\u5b8c\\u6210\\u4e2a\\u6027\\u5316\\u6570\", \"x\": [\"8\", \"9\"], \"y\": [null, 2.0], \"type\": \"bar\", \"uid\": \"260ca5f0-c22b-11e8-8e00-a81e84e6c740\"}, {\"name\": \"\\u6c88\\u6069\\u60e0_\\u5b8c\\u6210\\u5546\\u4e1a\\u9879\\u76ee\\u6570\", \"x\": [\"8\", \"9\"], \"y\": [null, 2.0], \"type\": \"bar\", \"uid\": \"260ca8ca-c22b-11e8-8e00-a81e84e6c740\"}, {\"name\": \"\\u6c88\\u6069\\u60e0_\\u5b8c\\u6210\\u4e2a\\u6027\\u5316\\u6570\", \"x\": [\"8\", \"9\"], \"y\": [null, 1.0], \"type\": \"bar\", \"uid\": \"260cab9a-c22b-11e8-8e00-a81e84e6c740\"}, {\"name\": \"\\u6c88\\u7acb\\u7fa4_\\u5b8c\\u6210\\u5546\\u4e1a\\u9879\\u76ee\\u6570\", \"x\": [\"8\", \"9\"], \"y\": [null, 0.0], \"type\": \"bar\", \"uid\": \"260cae6a-c22b-11e8-8e00-a81e84e6c740\"}, {\"name\": \"\\u6c88\\u7acb\\u7fa4_\\u5b8c\\u6210\\u4e2a\\u6027\\u5316\\u6570\", \"x\": [\"8\", \"9\"], \"y\": [null, 1.0], \"type\": \"bar\", \"uid\": \"260cb13a-c22b-11e8-8e00-a81e84e6c740\"}, {\"name\": \"\\u738b\\u4f20\\u6587_\\u5b8c\\u6210\\u5546\\u4e1a\\u9879\\u76ee\\u6570\", \"x\": [\"8\", \"9\"], \"y\": [null, 1.0], \"type\": \"bar\", \"uid\": \"260cb41e-c22b-11e8-8e00-a81e84e6c740\"}, {\"name\": \"\\u738b\\u4f20\\u6587_\\u5b8c\\u6210\\u4e2a\\u6027\\u5316\\u6570\", \"x\": [\"8\", \"9\"], \"y\": [null, 1.0], \"type\": \"bar\", \"uid\": \"260cb6f8-c22b-11e8-8e00-a81e84e6c740\"}, {\"name\": \"\\u7acb\\u7fa4_\\u5b8c\\u6210\\u5546\\u4e1a\\u9879\\u76ee\\u6570\", \"x\": [\"8\"], \"y\": [null], \"type\": \"bar\", \"uid\": \"260cbb80-c22b-11e8-8e00-a81e84e6c740\"}, {\"name\": \"\\u7acb\\u7fa4_\\u5b8c\\u6210\\u4e2a\\u6027\\u5316\\u6570\", \"x\": [\"8\"], \"y\": [null], \"type\": \"bar\", \"uid\": \"260cc0a8-c22b-11e8-8e00-a81e84e6c740\"}, {\"name\": \"\\u8f66\\u5929\\u680b_\\u5b8c\\u6210\\u5546\\u4e1a\\u9879\\u76ee\\u6570\", \"x\": [\"8\", \"9\"], \"y\": [null, 4.0], \"type\": \"bar\", \"uid\": \"260cc418-c22b-11e8-8e00-a81e84e6c740\"}, {\"name\": \"\\u8f66\\u5929\\u680b_\\u5b8c\\u6210\\u4e2a\\u6027\\u5316\\u6570\", \"x\": [\"8\", \"9\"], \"y\": [null, 2.0], \"type\": \"bar\", \"uid\": \"260cc72e-c22b-11e8-8e00-a81e84e6c740\"}, {\"name\": \"\\u9ad8\\u5251_\\u5b8c\\u6210\\u5546\\u4e1a\\u9879\\u76ee\\u6570\", \"x\": [\"8\", \"9\"], \"y\": [8.0, 0.0], \"type\": \"bar\", \"uid\": \"260cc9ea-c22b-11e8-8e00-a81e84e6c740\"}, {\"name\": \"\\u9ad8\\u5251_\\u5b8c\\u6210\\u4e2a\\u6027\\u5316\\u6570\", \"x\": [\"8\", \"9\"], \"y\": [7.0, 1.0], \"type\": \"bar\", \"uid\": \"260ccf1c-c22b-11e8-8e00-a81e84e6c740\"}],\n",
       "            {\"title\": \"\\u5b8c\\u6210\\u5546\\u4e1a\\u9879\\u76ee\\u6570&\\u5b8c\\u6210\\u4e2a\\u6027\\u5316\\u6570\\u6708\\u8d8b\\u52bf\\u56fe\", \"xaxis\": {\"mirror\": \"all\", \"nticks\": 20, \"showgrid\": true, \"showline\": true, \"title\": \"\\u6708\", \"zeroline\": true}, \"yaxis\": {\"mirror\": \"all\", \"nticks\": 20, \"showgrid\": true, \"showline\": true, \"title\": \"\\u5b8c\\u6210\\u5546\\u4e1a\\u9879\\u76ee\\u6570&\\u5b8c\\u6210\\u4e2a\\u6027\\u5316\\u6570\", \"zeroline\": true}},\n",
       "            {\"showLink\": true, \"linkText\": \"Export to plot.ly\"}\n",
       "        ).then(function () {return Plotly.addFrames('0bd25ff5-866a-4cc4-acbf-056b1edec3b5',{});}).then(function(){Plotly.animate('0bd25ff5-866a-4cc4-acbf-056b1edec3b5');})\n",
       "        });</script>"
      ],
      "text/vnd.plotly.v1+html": [
       "<div id=\"0bd25ff5-866a-4cc4-acbf-056b1edec3b5\" style=\"height: 525px; width: 100%;\" class=\"plotly-graph-div\"></div><script type=\"text/javascript\">require([\"plotly\"], function(Plotly) { window.PLOTLYENV=window.PLOTLYENV || {};window.PLOTLYENV.BASE_URL=\"https://plot.ly\";\n",
       "        Plotly.plot(\n",
       "            '0bd25ff5-866a-4cc4-acbf-056b1edec3b5',\n",
       "            [{\"name\": \"\\u4f20\\u6587_\\u5b8c\\u6210\\u5546\\u4e1a\\u9879\\u76ee\\u6570\", \"x\": [\"8\"], \"y\": [null], \"type\": \"bar\", \"uid\": \"260c8674-c22b-11e8-8e00-a81e84e6c740\"}, {\"name\": \"\\u4f20\\u6587_\\u5b8c\\u6210\\u4e2a\\u6027\\u5316\\u6570\", \"x\": [\"8\"], \"y\": [null], \"type\": \"bar\", \"uid\": \"260c8db8-c22b-11e8-8e00-a81e84e6c740\"}, {\"name\": \"\\u5929\\u680b_\\u5b8c\\u6210\\u5546\\u4e1a\\u9879\\u76ee\\u6570\", \"x\": [\"8\"], \"y\": [null], \"type\": \"bar\", \"uid\": \"260c9164-c22b-11e8-8e00-a81e84e6c740\"}, {\"name\": \"\\u5929\\u680b_\\u5b8c\\u6210\\u4e2a\\u6027\\u5316\\u6570\", \"x\": [\"8\"], \"y\": [null], \"type\": \"bar\", \"uid\": \"260c9470-c22b-11e8-8e00-a81e84e6c740\"}, {\"name\": \"\\u6069\\u60e0_\\u5b8c\\u6210\\u5546\\u4e1a\\u9879\\u76ee\\u6570\", \"x\": [\"8\"], \"y\": [null], \"type\": \"bar\", \"uid\": \"260c9768-c22b-11e8-8e00-a81e84e6c740\"}, {\"name\": \"\\u6069\\u60e0_\\u5b8c\\u6210\\u4e2a\\u6027\\u5316\\u6570\", \"x\": [\"8\"], \"y\": [null], \"type\": \"bar\", \"uid\": \"260c9a4c-c22b-11e8-8e00-a81e84e6c740\"}, {\"name\": \"\\u6587\\u6587_\\u5b8c\\u6210\\u5546\\u4e1a\\u9879\\u76ee\\u6570\", \"x\": [\"8\"], \"y\": [null], \"type\": \"bar\", \"uid\": \"260c9d30-c22b-11e8-8e00-a81e84e6c740\"}, {\"name\": \"\\u6587\\u6587_\\u5b8c\\u6210\\u4e2a\\u6027\\u5316\\u6570\", \"x\": [\"8\"], \"y\": [null], \"type\": \"bar\", \"uid\": \"260ca014-c22b-11e8-8e00-a81e84e6c740\"}, {\"name\": \"\\u6797\\u6587\\u6587_\\u5b8c\\u6210\\u5546\\u4e1a\\u9879\\u76ee\\u6570\", \"x\": [\"8\", \"9\"], \"y\": [null, 6.0], \"type\": \"bar\", \"uid\": \"260ca2ee-c22b-11e8-8e00-a81e84e6c740\"}, {\"name\": \"\\u6797\\u6587\\u6587_\\u5b8c\\u6210\\u4e2a\\u6027\\u5316\\u6570\", \"x\": [\"8\", \"9\"], \"y\": [null, 2.0], \"type\": \"bar\", \"uid\": \"260ca5f0-c22b-11e8-8e00-a81e84e6c740\"}, {\"name\": \"\\u6c88\\u6069\\u60e0_\\u5b8c\\u6210\\u5546\\u4e1a\\u9879\\u76ee\\u6570\", \"x\": [\"8\", \"9\"], \"y\": [null, 2.0], \"type\": \"bar\", \"uid\": \"260ca8ca-c22b-11e8-8e00-a81e84e6c740\"}, {\"name\": \"\\u6c88\\u6069\\u60e0_\\u5b8c\\u6210\\u4e2a\\u6027\\u5316\\u6570\", \"x\": [\"8\", \"9\"], \"y\": [null, 1.0], \"type\": \"bar\", \"uid\": \"260cab9a-c22b-11e8-8e00-a81e84e6c740\"}, {\"name\": \"\\u6c88\\u7acb\\u7fa4_\\u5b8c\\u6210\\u5546\\u4e1a\\u9879\\u76ee\\u6570\", \"x\": [\"8\", \"9\"], \"y\": [null, 0.0], \"type\": \"bar\", \"uid\": \"260cae6a-c22b-11e8-8e00-a81e84e6c740\"}, {\"name\": \"\\u6c88\\u7acb\\u7fa4_\\u5b8c\\u6210\\u4e2a\\u6027\\u5316\\u6570\", \"x\": [\"8\", \"9\"], \"y\": [null, 1.0], \"type\": \"bar\", \"uid\": \"260cb13a-c22b-11e8-8e00-a81e84e6c740\"}, {\"name\": \"\\u738b\\u4f20\\u6587_\\u5b8c\\u6210\\u5546\\u4e1a\\u9879\\u76ee\\u6570\", \"x\": [\"8\", \"9\"], \"y\": [null, 1.0], \"type\": \"bar\", \"uid\": \"260cb41e-c22b-11e8-8e00-a81e84e6c740\"}, {\"name\": \"\\u738b\\u4f20\\u6587_\\u5b8c\\u6210\\u4e2a\\u6027\\u5316\\u6570\", \"x\": [\"8\", \"9\"], \"y\": [null, 1.0], \"type\": \"bar\", \"uid\": \"260cb6f8-c22b-11e8-8e00-a81e84e6c740\"}, {\"name\": \"\\u7acb\\u7fa4_\\u5b8c\\u6210\\u5546\\u4e1a\\u9879\\u76ee\\u6570\", \"x\": [\"8\"], \"y\": [null], \"type\": \"bar\", \"uid\": \"260cbb80-c22b-11e8-8e00-a81e84e6c740\"}, {\"name\": \"\\u7acb\\u7fa4_\\u5b8c\\u6210\\u4e2a\\u6027\\u5316\\u6570\", \"x\": [\"8\"], \"y\": [null], \"type\": \"bar\", \"uid\": \"260cc0a8-c22b-11e8-8e00-a81e84e6c740\"}, {\"name\": \"\\u8f66\\u5929\\u680b_\\u5b8c\\u6210\\u5546\\u4e1a\\u9879\\u76ee\\u6570\", \"x\": [\"8\", \"9\"], \"y\": [null, 4.0], \"type\": \"bar\", \"uid\": \"260cc418-c22b-11e8-8e00-a81e84e6c740\"}, {\"name\": \"\\u8f66\\u5929\\u680b_\\u5b8c\\u6210\\u4e2a\\u6027\\u5316\\u6570\", \"x\": [\"8\", \"9\"], \"y\": [null, 2.0], \"type\": \"bar\", \"uid\": \"260cc72e-c22b-11e8-8e00-a81e84e6c740\"}, {\"name\": \"\\u9ad8\\u5251_\\u5b8c\\u6210\\u5546\\u4e1a\\u9879\\u76ee\\u6570\", \"x\": [\"8\", \"9\"], \"y\": [8.0, 0.0], \"type\": \"bar\", \"uid\": \"260cc9ea-c22b-11e8-8e00-a81e84e6c740\"}, {\"name\": \"\\u9ad8\\u5251_\\u5b8c\\u6210\\u4e2a\\u6027\\u5316\\u6570\", \"x\": [\"8\", \"9\"], \"y\": [7.0, 1.0], \"type\": \"bar\", \"uid\": \"260ccf1c-c22b-11e8-8e00-a81e84e6c740\"}],\n",
       "            {\"title\": \"\\u5b8c\\u6210\\u5546\\u4e1a\\u9879\\u76ee\\u6570&\\u5b8c\\u6210\\u4e2a\\u6027\\u5316\\u6570\\u6708\\u8d8b\\u52bf\\u56fe\", \"xaxis\": {\"mirror\": \"all\", \"nticks\": 20, \"showgrid\": true, \"showline\": true, \"title\": \"\\u6708\", \"zeroline\": true}, \"yaxis\": {\"mirror\": \"all\", \"nticks\": 20, \"showgrid\": true, \"showline\": true, \"title\": \"\\u5b8c\\u6210\\u5546\\u4e1a\\u9879\\u76ee\\u6570&\\u5b8c\\u6210\\u4e2a\\u6027\\u5316\\u6570\", \"zeroline\": true}},\n",
       "            {\"showLink\": true, \"linkText\": \"Export to plot.ly\"}\n",
       "        ).then(function () {return Plotly.addFrames('0bd25ff5-866a-4cc4-acbf-056b1edec3b5',{});}).then(function(){Plotly.animate('0bd25ff5-866a-4cc4-acbf-056b1edec3b5');})\n",
       "        });</script>"
      ]
     },
     "metadata": {},
     "output_type": "display_data"
    }
   ],
   "source": [
    "data_dict = {'完成商业项目数':['完成商业项目数'], '完成个性化数':['完成个性化数']}\n",
    "myModule.plot( all_dict, data_dict, '人员' ,  'bar')"
   ]
  },
  {
   "cell_type": "markdown",
   "metadata": {},
   "source": [
    "### 延期项目数"
   ]
  },
  {
   "cell_type": "code",
   "execution_count": 42,
   "metadata": {},
   "outputs": [
    {
     "data": {
      "application/vnd.plotly.v1+json": {
       "data": [
        {
         "name": "车天栋_延期商业项目数",
         "type": "bar",
         "uid": "268d1e38-c22b-11e8-8e00-a81e84e6c740",
         "x": [
          "8-1",
          "8-2",
          "8-3",
          "8-5",
          "9-1",
          "9-2"
         ],
         "y": [
          0,
          0,
          0,
          0,
          0,
          0
         ]
        },
        {
         "name": "车天栋_延期个性化项目数",
         "type": "bar",
         "uid": "268d23ba-c22b-11e8-8e00-a81e84e6c740",
         "x": [
          "8-1",
          "8-2",
          "8-3",
          "8-5",
          "9-1",
          "9-2"
         ],
         "y": [
          0,
          0,
          0,
          0,
          0,
          0
         ]
        },
        {
         "name": "沈立群_延期商业项目数",
         "type": "bar",
         "uid": "268d27f2-c22b-11e8-8e00-a81e84e6c740",
         "x": [
          "8-1",
          "8-2",
          "8-3",
          "8-5",
          "9-1",
          "9-2"
         ],
         "y": [
          0,
          0,
          0,
          0,
          0,
          0
         ]
        },
        {
         "name": "沈立群_延期个性化项目数",
         "type": "bar",
         "uid": "268d2bbc-c22b-11e8-8e00-a81e84e6c740",
         "x": [
          "8-1",
          "8-2",
          "8-3",
          "8-5",
          "9-1",
          "9-2"
         ],
         "y": [
          0,
          0,
          0,
          0,
          0,
          0
         ]
        },
        {
         "name": "王传文_延期商业项目数",
         "type": "bar",
         "uid": "268d2f5e-c22b-11e8-8e00-a81e84e6c740",
         "x": [
          "8-1",
          "8-2",
          "8-3",
          "8-5",
          "9-1",
          "9-2"
         ],
         "y": [
          0,
          0,
          0,
          0,
          0,
          0
         ]
        },
        {
         "name": "王传文_延期个性化项目数",
         "type": "bar",
         "uid": "268d32ec-c22b-11e8-8e00-a81e84e6c740",
         "x": [
          "8-1",
          "8-2",
          "8-3",
          "8-5",
          "9-1",
          "9-2"
         ],
         "y": [
          0,
          0,
          0,
          0,
          0,
          0
         ]
        },
        {
         "name": "林文文_延期商业项目数",
         "type": "bar",
         "uid": "268d3666-c22b-11e8-8e00-a81e84e6c740",
         "x": [
          "8-1",
          "8-2",
          "8-3",
          "8-5",
          "9-1",
          "9-2"
         ],
         "y": [
          0,
          0,
          0,
          0,
          0,
          1
         ]
        },
        {
         "name": "林文文_延期个性化项目数",
         "type": "bar",
         "uid": "268d39ea-c22b-11e8-8e00-a81e84e6c740",
         "x": [
          "8-1",
          "8-2",
          "8-3",
          "8-5",
          "9-1",
          "9-2"
         ],
         "y": [
          0,
          0,
          0,
          0,
          0,
          0
         ]
        },
        {
         "name": "高剑_延期商业项目数",
         "type": "bar",
         "uid": "268d3d64-c22b-11e8-8e00-a81e84e6c740",
         "x": [
          "8-1",
          "8-2",
          "8-3",
          "8-4",
          "8-5",
          "9-1",
          "9-2"
         ],
         "y": [
          0,
          0,
          0,
          0,
          0,
          0,
          0
         ]
        },
        {
         "name": "高剑_延期个性化项目数",
         "type": "bar",
         "uid": "268d40de-c22b-11e8-8e00-a81e84e6c740",
         "x": [
          "8-1",
          "8-2",
          "8-3",
          "8-4",
          "8-5",
          "9-1",
          "9-2"
         ],
         "y": [
          0,
          0,
          0,
          0,
          0,
          0,
          0
         ]
        },
        {
         "name": "沈恩惠_延期商业项目数",
         "type": "bar",
         "uid": "268d4458-c22b-11e8-8e00-a81e84e6c740",
         "x": [
          "8-1",
          "8-2",
          "8-3",
          "8-5",
          "9-1",
          "9-2"
         ],
         "y": [
          0,
          0,
          0,
          0,
          0,
          1
         ]
        },
        {
         "name": "沈恩惠_延期个性化项目数",
         "type": "bar",
         "uid": "268d47d2-c22b-11e8-8e00-a81e84e6c740",
         "x": [
          "8-1",
          "8-2",
          "8-3",
          "8-5",
          "9-1",
          "9-2"
         ],
         "y": [
          0,
          0,
          0,
          0,
          0,
          0
         ]
        },
        {
         "name": "立群_延期商业项目数",
         "type": "bar",
         "uid": "268d4b42-c22b-11e8-8e00-a81e84e6c740",
         "x": [
          "8-4"
         ],
         "y": [
          0
         ]
        },
        {
         "name": "立群_延期个性化项目数",
         "type": "bar",
         "uid": "268d4eda-c22b-11e8-8e00-a81e84e6c740",
         "x": [
          "8-4"
         ],
         "y": [
          0
         ]
        },
        {
         "name": "文文_延期商业项目数",
         "type": "bar",
         "uid": "268d54ca-c22b-11e8-8e00-a81e84e6c740",
         "x": [
          "8-4"
         ],
         "y": [
          0
         ]
        },
        {
         "name": "文文_延期个性化项目数",
         "type": "bar",
         "uid": "268d5c4a-c22b-11e8-8e00-a81e84e6c740",
         "x": [
          "8-4"
         ],
         "y": [
          0
         ]
        },
        {
         "name": "天栋_延期商业项目数",
         "type": "bar",
         "uid": "268d6212-c22b-11e8-8e00-a81e84e6c740",
         "x": [
          "8-4"
         ],
         "y": [
          0
         ]
        },
        {
         "name": "天栋_延期个性化项目数",
         "type": "bar",
         "uid": "268d65a0-c22b-11e8-8e00-a81e84e6c740",
         "x": [
          "8-4"
         ],
         "y": [
          0
         ]
        },
        {
         "name": "传文_延期商业项目数",
         "type": "bar",
         "uid": "268d68b6-c22b-11e8-8e00-a81e84e6c740",
         "x": [
          "8-4"
         ],
         "y": [
          0
         ]
        },
        {
         "name": "传文_延期个性化项目数",
         "type": "bar",
         "uid": "268d6b90-c22b-11e8-8e00-a81e84e6c740",
         "x": [
          "8-4"
         ],
         "y": [
          0
         ]
        },
        {
         "name": "恩惠_延期商业项目数",
         "type": "bar",
         "uid": "268d6f64-c22b-11e8-8e00-a81e84e6c740",
         "x": [
          "8-4"
         ],
         "y": [
          0
         ]
        },
        {
         "name": "恩惠_延期个性化项目数",
         "type": "bar",
         "uid": "268d723e-c22b-11e8-8e00-a81e84e6c740",
         "x": [
          "8-4"
         ],
         "y": [
          0
         ]
        }
       ],
       "layout": {
        "title": "延期商业项目数&延期个性化项目数周趋势图",
        "xaxis": {
         "mirror": "all",
         "nticks": 20,
         "showgrid": true,
         "showline": true,
         "title": "周",
         "zeroline": true
        },
        "yaxis": {
         "mirror": "all",
         "nticks": 20,
         "showgrid": true,
         "showline": true,
         "title": "延期商业项目数&延期个性化项目数",
         "zeroline": true
        }
       }
      },
      "text/html": [
       "<div id=\"f63de3d2-33db-4e75-ad01-241553b809d1\" style=\"height: 525px; width: 100%;\" class=\"plotly-graph-div\"></div><script type=\"text/javascript\">require([\"plotly\"], function(Plotly) { window.PLOTLYENV=window.PLOTLYENV || {};window.PLOTLYENV.BASE_URL=\"https://plot.ly\";\n",
       "        Plotly.plot(\n",
       "            'f63de3d2-33db-4e75-ad01-241553b809d1',\n",
       "            [{\"name\": \"\\u8f66\\u5929\\u680b_\\u5ef6\\u671f\\u5546\\u4e1a\\u9879\\u76ee\\u6570\", \"x\": [\"8-1\", \"8-2\", \"8-3\", \"8-5\", \"9-1\", \"9-2\"], \"y\": [0.0, 0.0, 0.0, 0.0, 0.0, 0.0], \"type\": \"bar\", \"uid\": \"268d1e38-c22b-11e8-8e00-a81e84e6c740\"}, {\"name\": \"\\u8f66\\u5929\\u680b_\\u5ef6\\u671f\\u4e2a\\u6027\\u5316\\u9879\\u76ee\\u6570\", \"x\": [\"8-1\", \"8-2\", \"8-3\", \"8-5\", \"9-1\", \"9-2\"], \"y\": [0.0, 0.0, 0.0, 0.0, 0.0, 0.0], \"type\": \"bar\", \"uid\": \"268d23ba-c22b-11e8-8e00-a81e84e6c740\"}, {\"name\": \"\\u6c88\\u7acb\\u7fa4_\\u5ef6\\u671f\\u5546\\u4e1a\\u9879\\u76ee\\u6570\", \"x\": [\"8-1\", \"8-2\", \"8-3\", \"8-5\", \"9-1\", \"9-2\"], \"y\": [0.0, 0.0, 0.0, 0.0, 0.0, 0.0], \"type\": \"bar\", \"uid\": \"268d27f2-c22b-11e8-8e00-a81e84e6c740\"}, {\"name\": \"\\u6c88\\u7acb\\u7fa4_\\u5ef6\\u671f\\u4e2a\\u6027\\u5316\\u9879\\u76ee\\u6570\", \"x\": [\"8-1\", \"8-2\", \"8-3\", \"8-5\", \"9-1\", \"9-2\"], \"y\": [0.0, 0.0, 0.0, 0.0, 0.0, 0.0], \"type\": \"bar\", \"uid\": \"268d2bbc-c22b-11e8-8e00-a81e84e6c740\"}, {\"name\": \"\\u738b\\u4f20\\u6587_\\u5ef6\\u671f\\u5546\\u4e1a\\u9879\\u76ee\\u6570\", \"x\": [\"8-1\", \"8-2\", \"8-3\", \"8-5\", \"9-1\", \"9-2\"], \"y\": [0.0, 0.0, 0.0, 0.0, 0.0, 0.0], \"type\": \"bar\", \"uid\": \"268d2f5e-c22b-11e8-8e00-a81e84e6c740\"}, {\"name\": \"\\u738b\\u4f20\\u6587_\\u5ef6\\u671f\\u4e2a\\u6027\\u5316\\u9879\\u76ee\\u6570\", \"x\": [\"8-1\", \"8-2\", \"8-3\", \"8-5\", \"9-1\", \"9-2\"], \"y\": [0.0, 0.0, 0.0, 0.0, 0.0, 0.0], \"type\": \"bar\", \"uid\": \"268d32ec-c22b-11e8-8e00-a81e84e6c740\"}, {\"name\": \"\\u6797\\u6587\\u6587_\\u5ef6\\u671f\\u5546\\u4e1a\\u9879\\u76ee\\u6570\", \"x\": [\"8-1\", \"8-2\", \"8-3\", \"8-5\", \"9-1\", \"9-2\"], \"y\": [0.0, 0.0, 0.0, 0.0, 0.0, 1.0], \"type\": \"bar\", \"uid\": \"268d3666-c22b-11e8-8e00-a81e84e6c740\"}, {\"name\": \"\\u6797\\u6587\\u6587_\\u5ef6\\u671f\\u4e2a\\u6027\\u5316\\u9879\\u76ee\\u6570\", \"x\": [\"8-1\", \"8-2\", \"8-3\", \"8-5\", \"9-1\", \"9-2\"], \"y\": [0.0, 0.0, 0.0, 0.0, 0.0, 0.0], \"type\": \"bar\", \"uid\": \"268d39ea-c22b-11e8-8e00-a81e84e6c740\"}, {\"name\": \"\\u9ad8\\u5251_\\u5ef6\\u671f\\u5546\\u4e1a\\u9879\\u76ee\\u6570\", \"x\": [\"8-1\", \"8-2\", \"8-3\", \"8-4\", \"8-5\", \"9-1\", \"9-2\"], \"y\": [0.0, 0.0, 0.0, 0.0, 0.0, 0.0, 0.0], \"type\": \"bar\", \"uid\": \"268d3d64-c22b-11e8-8e00-a81e84e6c740\"}, {\"name\": \"\\u9ad8\\u5251_\\u5ef6\\u671f\\u4e2a\\u6027\\u5316\\u9879\\u76ee\\u6570\", \"x\": [\"8-1\", \"8-2\", \"8-3\", \"8-4\", \"8-5\", \"9-1\", \"9-2\"], \"y\": [0.0, 0.0, 0.0, 0.0, 0.0, 0.0, 0.0], \"type\": \"bar\", \"uid\": \"268d40de-c22b-11e8-8e00-a81e84e6c740\"}, {\"name\": \"\\u6c88\\u6069\\u60e0_\\u5ef6\\u671f\\u5546\\u4e1a\\u9879\\u76ee\\u6570\", \"x\": [\"8-1\", \"8-2\", \"8-3\", \"8-5\", \"9-1\", \"9-2\"], \"y\": [0.0, 0.0, 0.0, 0.0, 0.0, 1.0], \"type\": \"bar\", \"uid\": \"268d4458-c22b-11e8-8e00-a81e84e6c740\"}, {\"name\": \"\\u6c88\\u6069\\u60e0_\\u5ef6\\u671f\\u4e2a\\u6027\\u5316\\u9879\\u76ee\\u6570\", \"x\": [\"8-1\", \"8-2\", \"8-3\", \"8-5\", \"9-1\", \"9-2\"], \"y\": [0.0, 0.0, 0.0, 0.0, 0.0, 0.0], \"type\": \"bar\", \"uid\": \"268d47d2-c22b-11e8-8e00-a81e84e6c740\"}, {\"name\": \"\\u7acb\\u7fa4_\\u5ef6\\u671f\\u5546\\u4e1a\\u9879\\u76ee\\u6570\", \"x\": [\"8-4\"], \"y\": [0.0], \"type\": \"bar\", \"uid\": \"268d4b42-c22b-11e8-8e00-a81e84e6c740\"}, {\"name\": \"\\u7acb\\u7fa4_\\u5ef6\\u671f\\u4e2a\\u6027\\u5316\\u9879\\u76ee\\u6570\", \"x\": [\"8-4\"], \"y\": [0.0], \"type\": \"bar\", \"uid\": \"268d4eda-c22b-11e8-8e00-a81e84e6c740\"}, {\"name\": \"\\u6587\\u6587_\\u5ef6\\u671f\\u5546\\u4e1a\\u9879\\u76ee\\u6570\", \"x\": [\"8-4\"], \"y\": [0.0], \"type\": \"bar\", \"uid\": \"268d54ca-c22b-11e8-8e00-a81e84e6c740\"}, {\"name\": \"\\u6587\\u6587_\\u5ef6\\u671f\\u4e2a\\u6027\\u5316\\u9879\\u76ee\\u6570\", \"x\": [\"8-4\"], \"y\": [0.0], \"type\": \"bar\", \"uid\": \"268d5c4a-c22b-11e8-8e00-a81e84e6c740\"}, {\"name\": \"\\u5929\\u680b_\\u5ef6\\u671f\\u5546\\u4e1a\\u9879\\u76ee\\u6570\", \"x\": [\"8-4\"], \"y\": [0.0], \"type\": \"bar\", \"uid\": \"268d6212-c22b-11e8-8e00-a81e84e6c740\"}, {\"name\": \"\\u5929\\u680b_\\u5ef6\\u671f\\u4e2a\\u6027\\u5316\\u9879\\u76ee\\u6570\", \"x\": [\"8-4\"], \"y\": [0.0], \"type\": \"bar\", \"uid\": \"268d65a0-c22b-11e8-8e00-a81e84e6c740\"}, {\"name\": \"\\u4f20\\u6587_\\u5ef6\\u671f\\u5546\\u4e1a\\u9879\\u76ee\\u6570\", \"x\": [\"8-4\"], \"y\": [0.0], \"type\": \"bar\", \"uid\": \"268d68b6-c22b-11e8-8e00-a81e84e6c740\"}, {\"name\": \"\\u4f20\\u6587_\\u5ef6\\u671f\\u4e2a\\u6027\\u5316\\u9879\\u76ee\\u6570\", \"x\": [\"8-4\"], \"y\": [0.0], \"type\": \"bar\", \"uid\": \"268d6b90-c22b-11e8-8e00-a81e84e6c740\"}, {\"name\": \"\\u6069\\u60e0_\\u5ef6\\u671f\\u5546\\u4e1a\\u9879\\u76ee\\u6570\", \"x\": [\"8-4\"], \"y\": [0.0], \"type\": \"bar\", \"uid\": \"268d6f64-c22b-11e8-8e00-a81e84e6c740\"}, {\"name\": \"\\u6069\\u60e0_\\u5ef6\\u671f\\u4e2a\\u6027\\u5316\\u9879\\u76ee\\u6570\", \"x\": [\"8-4\"], \"y\": [0.0], \"type\": \"bar\", \"uid\": \"268d723e-c22b-11e8-8e00-a81e84e6c740\"}],\n",
       "            {\"title\": \"\\u5ef6\\u671f\\u5546\\u4e1a\\u9879\\u76ee\\u6570&\\u5ef6\\u671f\\u4e2a\\u6027\\u5316\\u9879\\u76ee\\u6570\\u5468\\u8d8b\\u52bf\\u56fe\", \"xaxis\": {\"mirror\": \"all\", \"nticks\": 20, \"showgrid\": true, \"showline\": true, \"title\": \"\\u5468\", \"zeroline\": true}, \"yaxis\": {\"mirror\": \"all\", \"nticks\": 20, \"showgrid\": true, \"showline\": true, \"title\": \"\\u5ef6\\u671f\\u5546\\u4e1a\\u9879\\u76ee\\u6570&\\u5ef6\\u671f\\u4e2a\\u6027\\u5316\\u9879\\u76ee\\u6570\", \"zeroline\": true}},\n",
       "            {\"showLink\": true, \"linkText\": \"Export to plot.ly\"}\n",
       "        ).then(function () {return Plotly.addFrames('f63de3d2-33db-4e75-ad01-241553b809d1',{});}).then(function(){Plotly.animate('f63de3d2-33db-4e75-ad01-241553b809d1');})\n",
       "        });</script>"
      ],
      "text/vnd.plotly.v1+html": [
       "<div id=\"f63de3d2-33db-4e75-ad01-241553b809d1\" style=\"height: 525px; width: 100%;\" class=\"plotly-graph-div\"></div><script type=\"text/javascript\">require([\"plotly\"], function(Plotly) { window.PLOTLYENV=window.PLOTLYENV || {};window.PLOTLYENV.BASE_URL=\"https://plot.ly\";\n",
       "        Plotly.plot(\n",
       "            'f63de3d2-33db-4e75-ad01-241553b809d1',\n",
       "            [{\"name\": \"\\u8f66\\u5929\\u680b_\\u5ef6\\u671f\\u5546\\u4e1a\\u9879\\u76ee\\u6570\", \"x\": [\"8-1\", \"8-2\", \"8-3\", \"8-5\", \"9-1\", \"9-2\"], \"y\": [0.0, 0.0, 0.0, 0.0, 0.0, 0.0], \"type\": \"bar\", \"uid\": \"268d1e38-c22b-11e8-8e00-a81e84e6c740\"}, {\"name\": \"\\u8f66\\u5929\\u680b_\\u5ef6\\u671f\\u4e2a\\u6027\\u5316\\u9879\\u76ee\\u6570\", \"x\": [\"8-1\", \"8-2\", \"8-3\", \"8-5\", \"9-1\", \"9-2\"], \"y\": [0.0, 0.0, 0.0, 0.0, 0.0, 0.0], \"type\": \"bar\", \"uid\": \"268d23ba-c22b-11e8-8e00-a81e84e6c740\"}, {\"name\": \"\\u6c88\\u7acb\\u7fa4_\\u5ef6\\u671f\\u5546\\u4e1a\\u9879\\u76ee\\u6570\", \"x\": [\"8-1\", \"8-2\", \"8-3\", \"8-5\", \"9-1\", \"9-2\"], \"y\": [0.0, 0.0, 0.0, 0.0, 0.0, 0.0], \"type\": \"bar\", \"uid\": \"268d27f2-c22b-11e8-8e00-a81e84e6c740\"}, {\"name\": \"\\u6c88\\u7acb\\u7fa4_\\u5ef6\\u671f\\u4e2a\\u6027\\u5316\\u9879\\u76ee\\u6570\", \"x\": [\"8-1\", \"8-2\", \"8-3\", \"8-5\", \"9-1\", \"9-2\"], \"y\": [0.0, 0.0, 0.0, 0.0, 0.0, 0.0], \"type\": \"bar\", \"uid\": \"268d2bbc-c22b-11e8-8e00-a81e84e6c740\"}, {\"name\": \"\\u738b\\u4f20\\u6587_\\u5ef6\\u671f\\u5546\\u4e1a\\u9879\\u76ee\\u6570\", \"x\": [\"8-1\", \"8-2\", \"8-3\", \"8-5\", \"9-1\", \"9-2\"], \"y\": [0.0, 0.0, 0.0, 0.0, 0.0, 0.0], \"type\": \"bar\", \"uid\": \"268d2f5e-c22b-11e8-8e00-a81e84e6c740\"}, {\"name\": \"\\u738b\\u4f20\\u6587_\\u5ef6\\u671f\\u4e2a\\u6027\\u5316\\u9879\\u76ee\\u6570\", \"x\": [\"8-1\", \"8-2\", \"8-3\", \"8-5\", \"9-1\", \"9-2\"], \"y\": [0.0, 0.0, 0.0, 0.0, 0.0, 0.0], \"type\": \"bar\", \"uid\": \"268d32ec-c22b-11e8-8e00-a81e84e6c740\"}, {\"name\": \"\\u6797\\u6587\\u6587_\\u5ef6\\u671f\\u5546\\u4e1a\\u9879\\u76ee\\u6570\", \"x\": [\"8-1\", \"8-2\", \"8-3\", \"8-5\", \"9-1\", \"9-2\"], \"y\": [0.0, 0.0, 0.0, 0.0, 0.0, 1.0], \"type\": \"bar\", \"uid\": \"268d3666-c22b-11e8-8e00-a81e84e6c740\"}, {\"name\": \"\\u6797\\u6587\\u6587_\\u5ef6\\u671f\\u4e2a\\u6027\\u5316\\u9879\\u76ee\\u6570\", \"x\": [\"8-1\", \"8-2\", \"8-3\", \"8-5\", \"9-1\", \"9-2\"], \"y\": [0.0, 0.0, 0.0, 0.0, 0.0, 0.0], \"type\": \"bar\", \"uid\": \"268d39ea-c22b-11e8-8e00-a81e84e6c740\"}, {\"name\": \"\\u9ad8\\u5251_\\u5ef6\\u671f\\u5546\\u4e1a\\u9879\\u76ee\\u6570\", \"x\": [\"8-1\", \"8-2\", \"8-3\", \"8-4\", \"8-5\", \"9-1\", \"9-2\"], \"y\": [0.0, 0.0, 0.0, 0.0, 0.0, 0.0, 0.0], \"type\": \"bar\", \"uid\": \"268d3d64-c22b-11e8-8e00-a81e84e6c740\"}, {\"name\": \"\\u9ad8\\u5251_\\u5ef6\\u671f\\u4e2a\\u6027\\u5316\\u9879\\u76ee\\u6570\", \"x\": [\"8-1\", \"8-2\", \"8-3\", \"8-4\", \"8-5\", \"9-1\", \"9-2\"], \"y\": [0.0, 0.0, 0.0, 0.0, 0.0, 0.0, 0.0], \"type\": \"bar\", \"uid\": \"268d40de-c22b-11e8-8e00-a81e84e6c740\"}, {\"name\": \"\\u6c88\\u6069\\u60e0_\\u5ef6\\u671f\\u5546\\u4e1a\\u9879\\u76ee\\u6570\", \"x\": [\"8-1\", \"8-2\", \"8-3\", \"8-5\", \"9-1\", \"9-2\"], \"y\": [0.0, 0.0, 0.0, 0.0, 0.0, 1.0], \"type\": \"bar\", \"uid\": \"268d4458-c22b-11e8-8e00-a81e84e6c740\"}, {\"name\": \"\\u6c88\\u6069\\u60e0_\\u5ef6\\u671f\\u4e2a\\u6027\\u5316\\u9879\\u76ee\\u6570\", \"x\": [\"8-1\", \"8-2\", \"8-3\", \"8-5\", \"9-1\", \"9-2\"], \"y\": [0.0, 0.0, 0.0, 0.0, 0.0, 0.0], \"type\": \"bar\", \"uid\": \"268d47d2-c22b-11e8-8e00-a81e84e6c740\"}, {\"name\": \"\\u7acb\\u7fa4_\\u5ef6\\u671f\\u5546\\u4e1a\\u9879\\u76ee\\u6570\", \"x\": [\"8-4\"], \"y\": [0.0], \"type\": \"bar\", \"uid\": \"268d4b42-c22b-11e8-8e00-a81e84e6c740\"}, {\"name\": \"\\u7acb\\u7fa4_\\u5ef6\\u671f\\u4e2a\\u6027\\u5316\\u9879\\u76ee\\u6570\", \"x\": [\"8-4\"], \"y\": [0.0], \"type\": \"bar\", \"uid\": \"268d4eda-c22b-11e8-8e00-a81e84e6c740\"}, {\"name\": \"\\u6587\\u6587_\\u5ef6\\u671f\\u5546\\u4e1a\\u9879\\u76ee\\u6570\", \"x\": [\"8-4\"], \"y\": [0.0], \"type\": \"bar\", \"uid\": \"268d54ca-c22b-11e8-8e00-a81e84e6c740\"}, {\"name\": \"\\u6587\\u6587_\\u5ef6\\u671f\\u4e2a\\u6027\\u5316\\u9879\\u76ee\\u6570\", \"x\": [\"8-4\"], \"y\": [0.0], \"type\": \"bar\", \"uid\": \"268d5c4a-c22b-11e8-8e00-a81e84e6c740\"}, {\"name\": \"\\u5929\\u680b_\\u5ef6\\u671f\\u5546\\u4e1a\\u9879\\u76ee\\u6570\", \"x\": [\"8-4\"], \"y\": [0.0], \"type\": \"bar\", \"uid\": \"268d6212-c22b-11e8-8e00-a81e84e6c740\"}, {\"name\": \"\\u5929\\u680b_\\u5ef6\\u671f\\u4e2a\\u6027\\u5316\\u9879\\u76ee\\u6570\", \"x\": [\"8-4\"], \"y\": [0.0], \"type\": \"bar\", \"uid\": \"268d65a0-c22b-11e8-8e00-a81e84e6c740\"}, {\"name\": \"\\u4f20\\u6587_\\u5ef6\\u671f\\u5546\\u4e1a\\u9879\\u76ee\\u6570\", \"x\": [\"8-4\"], \"y\": [0.0], \"type\": \"bar\", \"uid\": \"268d68b6-c22b-11e8-8e00-a81e84e6c740\"}, {\"name\": \"\\u4f20\\u6587_\\u5ef6\\u671f\\u4e2a\\u6027\\u5316\\u9879\\u76ee\\u6570\", \"x\": [\"8-4\"], \"y\": [0.0], \"type\": \"bar\", \"uid\": \"268d6b90-c22b-11e8-8e00-a81e84e6c740\"}, {\"name\": \"\\u6069\\u60e0_\\u5ef6\\u671f\\u5546\\u4e1a\\u9879\\u76ee\\u6570\", \"x\": [\"8-4\"], \"y\": [0.0], \"type\": \"bar\", \"uid\": \"268d6f64-c22b-11e8-8e00-a81e84e6c740\"}, {\"name\": \"\\u6069\\u60e0_\\u5ef6\\u671f\\u4e2a\\u6027\\u5316\\u9879\\u76ee\\u6570\", \"x\": [\"8-4\"], \"y\": [0.0], \"type\": \"bar\", \"uid\": \"268d723e-c22b-11e8-8e00-a81e84e6c740\"}],\n",
       "            {\"title\": \"\\u5ef6\\u671f\\u5546\\u4e1a\\u9879\\u76ee\\u6570&\\u5ef6\\u671f\\u4e2a\\u6027\\u5316\\u9879\\u76ee\\u6570\\u5468\\u8d8b\\u52bf\\u56fe\", \"xaxis\": {\"mirror\": \"all\", \"nticks\": 20, \"showgrid\": true, \"showline\": true, \"title\": \"\\u5468\", \"zeroline\": true}, \"yaxis\": {\"mirror\": \"all\", \"nticks\": 20, \"showgrid\": true, \"showline\": true, \"title\": \"\\u5ef6\\u671f\\u5546\\u4e1a\\u9879\\u76ee\\u6570&\\u5ef6\\u671f\\u4e2a\\u6027\\u5316\\u9879\\u76ee\\u6570\", \"zeroline\": true}},\n",
       "            {\"showLink\": true, \"linkText\": \"Export to plot.ly\"}\n",
       "        ).then(function () {return Plotly.addFrames('f63de3d2-33db-4e75-ad01-241553b809d1',{});}).then(function(){Plotly.animate('f63de3d2-33db-4e75-ad01-241553b809d1');})\n",
       "        });</script>"
      ]
     },
     "metadata": {},
     "output_type": "display_data"
    },
    {
     "data": {
      "application/vnd.plotly.v1+json": {
       "data": [
        {
         "name": "传文_延期商业项目数",
         "type": "bar",
         "uid": "26e6ff66-c22b-11e8-8e00-a81e84e6c740",
         "x": [
          "8"
         ],
         "y": [
          null
         ]
        },
        {
         "name": "传文_延期个性化项目数",
         "type": "bar",
         "uid": "26e704f2-c22b-11e8-8e00-a81e84e6c740",
         "x": [
          "8"
         ],
         "y": [
          null
         ]
        },
        {
         "name": "天栋_延期商业项目数",
         "type": "bar",
         "uid": "26e7093e-c22b-11e8-8e00-a81e84e6c740",
         "x": [
          "8"
         ],
         "y": [
          null
         ]
        },
        {
         "name": "天栋_延期个性化项目数",
         "type": "bar",
         "uid": "26e70cfe-c22b-11e8-8e00-a81e84e6c740",
         "x": [
          "8"
         ],
         "y": [
          null
         ]
        },
        {
         "name": "恩惠_延期商业项目数",
         "type": "bar",
         "uid": "26e710a0-c22b-11e8-8e00-a81e84e6c740",
         "x": [
          "8"
         ],
         "y": [
          null
         ]
        },
        {
         "name": "恩惠_延期个性化项目数",
         "type": "bar",
         "uid": "26e71424-c22b-11e8-8e00-a81e84e6c740",
         "x": [
          "8"
         ],
         "y": [
          null
         ]
        },
        {
         "name": "文文_延期商业项目数",
         "type": "bar",
         "uid": "26e717a8-c22b-11e8-8e00-a81e84e6c740",
         "x": [
          "8"
         ],
         "y": [
          null
         ]
        },
        {
         "name": "文文_延期个性化项目数",
         "type": "bar",
         "uid": "26e71b22-c22b-11e8-8e00-a81e84e6c740",
         "x": [
          "8"
         ],
         "y": [
          null
         ]
        },
        {
         "name": "林文文_延期商业项目数",
         "type": "bar",
         "uid": "26e71e9c-c22b-11e8-8e00-a81e84e6c740",
         "x": [
          "8",
          "9"
         ],
         "y": [
          null,
          1
         ]
        },
        {
         "name": "林文文_延期个性化项目数",
         "type": "bar",
         "uid": "26e7220c-c22b-11e8-8e00-a81e84e6c740",
         "x": [
          "8",
          "9"
         ],
         "y": [
          null,
          0
         ]
        },
        {
         "name": "沈恩惠_延期商业项目数",
         "type": "bar",
         "uid": "26e72590-c22b-11e8-8e00-a81e84e6c740",
         "x": [
          "8",
          "9"
         ],
         "y": [
          null,
          1
         ]
        },
        {
         "name": "沈恩惠_延期个性化项目数",
         "type": "bar",
         "uid": "26e72c20-c22b-11e8-8e00-a81e84e6c740",
         "x": [
          "8",
          "9"
         ],
         "y": [
          null,
          0
         ]
        },
        {
         "name": "沈立群_延期商业项目数",
         "type": "bar",
         "uid": "26e73062-c22b-11e8-8e00-a81e84e6c740",
         "x": [
          "8",
          "9"
         ],
         "y": [
          null,
          0
         ]
        },
        {
         "name": "沈立群_延期个性化项目数",
         "type": "bar",
         "uid": "26e73512-c22b-11e8-8e00-a81e84e6c740",
         "x": [
          "8",
          "9"
         ],
         "y": [
          null,
          0
         ]
        },
        {
         "name": "王传文_延期商业项目数",
         "type": "bar",
         "uid": "26e739c2-c22b-11e8-8e00-a81e84e6c740",
         "x": [
          "8",
          "9"
         ],
         "y": [
          null,
          0
         ]
        },
        {
         "name": "王传文_延期个性化项目数",
         "type": "bar",
         "uid": "26e73e4a-c22b-11e8-8e00-a81e84e6c740",
         "x": [
          "8",
          "9"
         ],
         "y": [
          null,
          0
         ]
        },
        {
         "name": "立群_延期商业项目数",
         "type": "bar",
         "uid": "26e742d2-c22b-11e8-8e00-a81e84e6c740",
         "x": [
          "8"
         ],
         "y": [
          null
         ]
        },
        {
         "name": "立群_延期个性化项目数",
         "type": "bar",
         "uid": "26e74750-c22b-11e8-8e00-a81e84e6c740",
         "x": [
          "8"
         ],
         "y": [
          null
         ]
        },
        {
         "name": "车天栋_延期商业项目数",
         "type": "bar",
         "uid": "26e74bd8-c22b-11e8-8e00-a81e84e6c740",
         "x": [
          "8",
          "9"
         ],
         "y": [
          null,
          0
         ]
        },
        {
         "name": "车天栋_延期个性化项目数",
         "type": "bar",
         "uid": "26e75060-c22b-11e8-8e00-a81e84e6c740",
         "x": [
          "8",
          "9"
         ],
         "y": [
          null,
          0
         ]
        },
        {
         "name": "高剑_延期商业项目数",
         "type": "bar",
         "uid": "26e754e8-c22b-11e8-8e00-a81e84e6c740",
         "x": [
          "8",
          "9"
         ],
         "y": [
          0,
          0
         ]
        },
        {
         "name": "高剑_延期个性化项目数",
         "type": "bar",
         "uid": "26e75970-c22b-11e8-8e00-a81e84e6c740",
         "x": [
          "8",
          "9"
         ],
         "y": [
          0,
          0
         ]
        }
       ],
       "layout": {
        "title": "延期商业项目数&延期个性化项目数月趋势图",
        "xaxis": {
         "mirror": "all",
         "nticks": 20,
         "showgrid": true,
         "showline": true,
         "title": "月",
         "zeroline": true
        },
        "yaxis": {
         "mirror": "all",
         "nticks": 20,
         "showgrid": true,
         "showline": true,
         "title": "延期商业项目数&延期个性化项目数",
         "zeroline": true
        }
       }
      },
      "text/html": [
       "<div id=\"648ffa4c-2a2b-487c-8519-85d8c4a10583\" style=\"height: 525px; width: 100%;\" class=\"plotly-graph-div\"></div><script type=\"text/javascript\">require([\"plotly\"], function(Plotly) { window.PLOTLYENV=window.PLOTLYENV || {};window.PLOTLYENV.BASE_URL=\"https://plot.ly\";\n",
       "        Plotly.plot(\n",
       "            '648ffa4c-2a2b-487c-8519-85d8c4a10583',\n",
       "            [{\"name\": \"\\u4f20\\u6587_\\u5ef6\\u671f\\u5546\\u4e1a\\u9879\\u76ee\\u6570\", \"x\": [\"8\"], \"y\": [null], \"type\": \"bar\", \"uid\": \"26e6ff66-c22b-11e8-8e00-a81e84e6c740\"}, {\"name\": \"\\u4f20\\u6587_\\u5ef6\\u671f\\u4e2a\\u6027\\u5316\\u9879\\u76ee\\u6570\", \"x\": [\"8\"], \"y\": [null], \"type\": \"bar\", \"uid\": \"26e704f2-c22b-11e8-8e00-a81e84e6c740\"}, {\"name\": \"\\u5929\\u680b_\\u5ef6\\u671f\\u5546\\u4e1a\\u9879\\u76ee\\u6570\", \"x\": [\"8\"], \"y\": [null], \"type\": \"bar\", \"uid\": \"26e7093e-c22b-11e8-8e00-a81e84e6c740\"}, {\"name\": \"\\u5929\\u680b_\\u5ef6\\u671f\\u4e2a\\u6027\\u5316\\u9879\\u76ee\\u6570\", \"x\": [\"8\"], \"y\": [null], \"type\": \"bar\", \"uid\": \"26e70cfe-c22b-11e8-8e00-a81e84e6c740\"}, {\"name\": \"\\u6069\\u60e0_\\u5ef6\\u671f\\u5546\\u4e1a\\u9879\\u76ee\\u6570\", \"x\": [\"8\"], \"y\": [null], \"type\": \"bar\", \"uid\": \"26e710a0-c22b-11e8-8e00-a81e84e6c740\"}, {\"name\": \"\\u6069\\u60e0_\\u5ef6\\u671f\\u4e2a\\u6027\\u5316\\u9879\\u76ee\\u6570\", \"x\": [\"8\"], \"y\": [null], \"type\": \"bar\", \"uid\": \"26e71424-c22b-11e8-8e00-a81e84e6c740\"}, {\"name\": \"\\u6587\\u6587_\\u5ef6\\u671f\\u5546\\u4e1a\\u9879\\u76ee\\u6570\", \"x\": [\"8\"], \"y\": [null], \"type\": \"bar\", \"uid\": \"26e717a8-c22b-11e8-8e00-a81e84e6c740\"}, {\"name\": \"\\u6587\\u6587_\\u5ef6\\u671f\\u4e2a\\u6027\\u5316\\u9879\\u76ee\\u6570\", \"x\": [\"8\"], \"y\": [null], \"type\": \"bar\", \"uid\": \"26e71b22-c22b-11e8-8e00-a81e84e6c740\"}, {\"name\": \"\\u6797\\u6587\\u6587_\\u5ef6\\u671f\\u5546\\u4e1a\\u9879\\u76ee\\u6570\", \"x\": [\"8\", \"9\"], \"y\": [null, 1.0], \"type\": \"bar\", \"uid\": \"26e71e9c-c22b-11e8-8e00-a81e84e6c740\"}, {\"name\": \"\\u6797\\u6587\\u6587_\\u5ef6\\u671f\\u4e2a\\u6027\\u5316\\u9879\\u76ee\\u6570\", \"x\": [\"8\", \"9\"], \"y\": [null, 0.0], \"type\": \"bar\", \"uid\": \"26e7220c-c22b-11e8-8e00-a81e84e6c740\"}, {\"name\": \"\\u6c88\\u6069\\u60e0_\\u5ef6\\u671f\\u5546\\u4e1a\\u9879\\u76ee\\u6570\", \"x\": [\"8\", \"9\"], \"y\": [null, 1.0], \"type\": \"bar\", \"uid\": \"26e72590-c22b-11e8-8e00-a81e84e6c740\"}, {\"name\": \"\\u6c88\\u6069\\u60e0_\\u5ef6\\u671f\\u4e2a\\u6027\\u5316\\u9879\\u76ee\\u6570\", \"x\": [\"8\", \"9\"], \"y\": [null, 0.0], \"type\": \"bar\", \"uid\": \"26e72c20-c22b-11e8-8e00-a81e84e6c740\"}, {\"name\": \"\\u6c88\\u7acb\\u7fa4_\\u5ef6\\u671f\\u5546\\u4e1a\\u9879\\u76ee\\u6570\", \"x\": [\"8\", \"9\"], \"y\": [null, 0.0], \"type\": \"bar\", \"uid\": \"26e73062-c22b-11e8-8e00-a81e84e6c740\"}, {\"name\": \"\\u6c88\\u7acb\\u7fa4_\\u5ef6\\u671f\\u4e2a\\u6027\\u5316\\u9879\\u76ee\\u6570\", \"x\": [\"8\", \"9\"], \"y\": [null, 0.0], \"type\": \"bar\", \"uid\": \"26e73512-c22b-11e8-8e00-a81e84e6c740\"}, {\"name\": \"\\u738b\\u4f20\\u6587_\\u5ef6\\u671f\\u5546\\u4e1a\\u9879\\u76ee\\u6570\", \"x\": [\"8\", \"9\"], \"y\": [null, 0.0], \"type\": \"bar\", \"uid\": \"26e739c2-c22b-11e8-8e00-a81e84e6c740\"}, {\"name\": \"\\u738b\\u4f20\\u6587_\\u5ef6\\u671f\\u4e2a\\u6027\\u5316\\u9879\\u76ee\\u6570\", \"x\": [\"8\", \"9\"], \"y\": [null, 0.0], \"type\": \"bar\", \"uid\": \"26e73e4a-c22b-11e8-8e00-a81e84e6c740\"}, {\"name\": \"\\u7acb\\u7fa4_\\u5ef6\\u671f\\u5546\\u4e1a\\u9879\\u76ee\\u6570\", \"x\": [\"8\"], \"y\": [null], \"type\": \"bar\", \"uid\": \"26e742d2-c22b-11e8-8e00-a81e84e6c740\"}, {\"name\": \"\\u7acb\\u7fa4_\\u5ef6\\u671f\\u4e2a\\u6027\\u5316\\u9879\\u76ee\\u6570\", \"x\": [\"8\"], \"y\": [null], \"type\": \"bar\", \"uid\": \"26e74750-c22b-11e8-8e00-a81e84e6c740\"}, {\"name\": \"\\u8f66\\u5929\\u680b_\\u5ef6\\u671f\\u5546\\u4e1a\\u9879\\u76ee\\u6570\", \"x\": [\"8\", \"9\"], \"y\": [null, 0.0], \"type\": \"bar\", \"uid\": \"26e74bd8-c22b-11e8-8e00-a81e84e6c740\"}, {\"name\": \"\\u8f66\\u5929\\u680b_\\u5ef6\\u671f\\u4e2a\\u6027\\u5316\\u9879\\u76ee\\u6570\", \"x\": [\"8\", \"9\"], \"y\": [null, 0.0], \"type\": \"bar\", \"uid\": \"26e75060-c22b-11e8-8e00-a81e84e6c740\"}, {\"name\": \"\\u9ad8\\u5251_\\u5ef6\\u671f\\u5546\\u4e1a\\u9879\\u76ee\\u6570\", \"x\": [\"8\", \"9\"], \"y\": [0.0, 0.0], \"type\": \"bar\", \"uid\": \"26e754e8-c22b-11e8-8e00-a81e84e6c740\"}, {\"name\": \"\\u9ad8\\u5251_\\u5ef6\\u671f\\u4e2a\\u6027\\u5316\\u9879\\u76ee\\u6570\", \"x\": [\"8\", \"9\"], \"y\": [0.0, 0.0], \"type\": \"bar\", \"uid\": \"26e75970-c22b-11e8-8e00-a81e84e6c740\"}],\n",
       "            {\"title\": \"\\u5ef6\\u671f\\u5546\\u4e1a\\u9879\\u76ee\\u6570&\\u5ef6\\u671f\\u4e2a\\u6027\\u5316\\u9879\\u76ee\\u6570\\u6708\\u8d8b\\u52bf\\u56fe\", \"xaxis\": {\"mirror\": \"all\", \"nticks\": 20, \"showgrid\": true, \"showline\": true, \"title\": \"\\u6708\", \"zeroline\": true}, \"yaxis\": {\"mirror\": \"all\", \"nticks\": 20, \"showgrid\": true, \"showline\": true, \"title\": \"\\u5ef6\\u671f\\u5546\\u4e1a\\u9879\\u76ee\\u6570&\\u5ef6\\u671f\\u4e2a\\u6027\\u5316\\u9879\\u76ee\\u6570\", \"zeroline\": true}},\n",
       "            {\"showLink\": true, \"linkText\": \"Export to plot.ly\"}\n",
       "        ).then(function () {return Plotly.addFrames('648ffa4c-2a2b-487c-8519-85d8c4a10583',{});}).then(function(){Plotly.animate('648ffa4c-2a2b-487c-8519-85d8c4a10583');})\n",
       "        });</script>"
      ],
      "text/vnd.plotly.v1+html": [
       "<div id=\"648ffa4c-2a2b-487c-8519-85d8c4a10583\" style=\"height: 525px; width: 100%;\" class=\"plotly-graph-div\"></div><script type=\"text/javascript\">require([\"plotly\"], function(Plotly) { window.PLOTLYENV=window.PLOTLYENV || {};window.PLOTLYENV.BASE_URL=\"https://plot.ly\";\n",
       "        Plotly.plot(\n",
       "            '648ffa4c-2a2b-487c-8519-85d8c4a10583',\n",
       "            [{\"name\": \"\\u4f20\\u6587_\\u5ef6\\u671f\\u5546\\u4e1a\\u9879\\u76ee\\u6570\", \"x\": [\"8\"], \"y\": [null], \"type\": \"bar\", \"uid\": \"26e6ff66-c22b-11e8-8e00-a81e84e6c740\"}, {\"name\": \"\\u4f20\\u6587_\\u5ef6\\u671f\\u4e2a\\u6027\\u5316\\u9879\\u76ee\\u6570\", \"x\": [\"8\"], \"y\": [null], \"type\": \"bar\", \"uid\": \"26e704f2-c22b-11e8-8e00-a81e84e6c740\"}, {\"name\": \"\\u5929\\u680b_\\u5ef6\\u671f\\u5546\\u4e1a\\u9879\\u76ee\\u6570\", \"x\": [\"8\"], \"y\": [null], \"type\": \"bar\", \"uid\": \"26e7093e-c22b-11e8-8e00-a81e84e6c740\"}, {\"name\": \"\\u5929\\u680b_\\u5ef6\\u671f\\u4e2a\\u6027\\u5316\\u9879\\u76ee\\u6570\", \"x\": [\"8\"], \"y\": [null], \"type\": \"bar\", \"uid\": \"26e70cfe-c22b-11e8-8e00-a81e84e6c740\"}, {\"name\": \"\\u6069\\u60e0_\\u5ef6\\u671f\\u5546\\u4e1a\\u9879\\u76ee\\u6570\", \"x\": [\"8\"], \"y\": [null], \"type\": \"bar\", \"uid\": \"26e710a0-c22b-11e8-8e00-a81e84e6c740\"}, {\"name\": \"\\u6069\\u60e0_\\u5ef6\\u671f\\u4e2a\\u6027\\u5316\\u9879\\u76ee\\u6570\", \"x\": [\"8\"], \"y\": [null], \"type\": \"bar\", \"uid\": \"26e71424-c22b-11e8-8e00-a81e84e6c740\"}, {\"name\": \"\\u6587\\u6587_\\u5ef6\\u671f\\u5546\\u4e1a\\u9879\\u76ee\\u6570\", \"x\": [\"8\"], \"y\": [null], \"type\": \"bar\", \"uid\": \"26e717a8-c22b-11e8-8e00-a81e84e6c740\"}, {\"name\": \"\\u6587\\u6587_\\u5ef6\\u671f\\u4e2a\\u6027\\u5316\\u9879\\u76ee\\u6570\", \"x\": [\"8\"], \"y\": [null], \"type\": \"bar\", \"uid\": \"26e71b22-c22b-11e8-8e00-a81e84e6c740\"}, {\"name\": \"\\u6797\\u6587\\u6587_\\u5ef6\\u671f\\u5546\\u4e1a\\u9879\\u76ee\\u6570\", \"x\": [\"8\", \"9\"], \"y\": [null, 1.0], \"type\": \"bar\", \"uid\": \"26e71e9c-c22b-11e8-8e00-a81e84e6c740\"}, {\"name\": \"\\u6797\\u6587\\u6587_\\u5ef6\\u671f\\u4e2a\\u6027\\u5316\\u9879\\u76ee\\u6570\", \"x\": [\"8\", \"9\"], \"y\": [null, 0.0], \"type\": \"bar\", \"uid\": \"26e7220c-c22b-11e8-8e00-a81e84e6c740\"}, {\"name\": \"\\u6c88\\u6069\\u60e0_\\u5ef6\\u671f\\u5546\\u4e1a\\u9879\\u76ee\\u6570\", \"x\": [\"8\", \"9\"], \"y\": [null, 1.0], \"type\": \"bar\", \"uid\": \"26e72590-c22b-11e8-8e00-a81e84e6c740\"}, {\"name\": \"\\u6c88\\u6069\\u60e0_\\u5ef6\\u671f\\u4e2a\\u6027\\u5316\\u9879\\u76ee\\u6570\", \"x\": [\"8\", \"9\"], \"y\": [null, 0.0], \"type\": \"bar\", \"uid\": \"26e72c20-c22b-11e8-8e00-a81e84e6c740\"}, {\"name\": \"\\u6c88\\u7acb\\u7fa4_\\u5ef6\\u671f\\u5546\\u4e1a\\u9879\\u76ee\\u6570\", \"x\": [\"8\", \"9\"], \"y\": [null, 0.0], \"type\": \"bar\", \"uid\": \"26e73062-c22b-11e8-8e00-a81e84e6c740\"}, {\"name\": \"\\u6c88\\u7acb\\u7fa4_\\u5ef6\\u671f\\u4e2a\\u6027\\u5316\\u9879\\u76ee\\u6570\", \"x\": [\"8\", \"9\"], \"y\": [null, 0.0], \"type\": \"bar\", \"uid\": \"26e73512-c22b-11e8-8e00-a81e84e6c740\"}, {\"name\": \"\\u738b\\u4f20\\u6587_\\u5ef6\\u671f\\u5546\\u4e1a\\u9879\\u76ee\\u6570\", \"x\": [\"8\", \"9\"], \"y\": [null, 0.0], \"type\": \"bar\", \"uid\": \"26e739c2-c22b-11e8-8e00-a81e84e6c740\"}, {\"name\": \"\\u738b\\u4f20\\u6587_\\u5ef6\\u671f\\u4e2a\\u6027\\u5316\\u9879\\u76ee\\u6570\", \"x\": [\"8\", \"9\"], \"y\": [null, 0.0], \"type\": \"bar\", \"uid\": \"26e73e4a-c22b-11e8-8e00-a81e84e6c740\"}, {\"name\": \"\\u7acb\\u7fa4_\\u5ef6\\u671f\\u5546\\u4e1a\\u9879\\u76ee\\u6570\", \"x\": [\"8\"], \"y\": [null], \"type\": \"bar\", \"uid\": \"26e742d2-c22b-11e8-8e00-a81e84e6c740\"}, {\"name\": \"\\u7acb\\u7fa4_\\u5ef6\\u671f\\u4e2a\\u6027\\u5316\\u9879\\u76ee\\u6570\", \"x\": [\"8\"], \"y\": [null], \"type\": \"bar\", \"uid\": \"26e74750-c22b-11e8-8e00-a81e84e6c740\"}, {\"name\": \"\\u8f66\\u5929\\u680b_\\u5ef6\\u671f\\u5546\\u4e1a\\u9879\\u76ee\\u6570\", \"x\": [\"8\", \"9\"], \"y\": [null, 0.0], \"type\": \"bar\", \"uid\": \"26e74bd8-c22b-11e8-8e00-a81e84e6c740\"}, {\"name\": \"\\u8f66\\u5929\\u680b_\\u5ef6\\u671f\\u4e2a\\u6027\\u5316\\u9879\\u76ee\\u6570\", \"x\": [\"8\", \"9\"], \"y\": [null, 0.0], \"type\": \"bar\", \"uid\": \"26e75060-c22b-11e8-8e00-a81e84e6c740\"}, {\"name\": \"\\u9ad8\\u5251_\\u5ef6\\u671f\\u5546\\u4e1a\\u9879\\u76ee\\u6570\", \"x\": [\"8\", \"9\"], \"y\": [0.0, 0.0], \"type\": \"bar\", \"uid\": \"26e754e8-c22b-11e8-8e00-a81e84e6c740\"}, {\"name\": \"\\u9ad8\\u5251_\\u5ef6\\u671f\\u4e2a\\u6027\\u5316\\u9879\\u76ee\\u6570\", \"x\": [\"8\", \"9\"], \"y\": [0.0, 0.0], \"type\": \"bar\", \"uid\": \"26e75970-c22b-11e8-8e00-a81e84e6c740\"}],\n",
       "            {\"title\": \"\\u5ef6\\u671f\\u5546\\u4e1a\\u9879\\u76ee\\u6570&\\u5ef6\\u671f\\u4e2a\\u6027\\u5316\\u9879\\u76ee\\u6570\\u6708\\u8d8b\\u52bf\\u56fe\", \"xaxis\": {\"mirror\": \"all\", \"nticks\": 20, \"showgrid\": true, \"showline\": true, \"title\": \"\\u6708\", \"zeroline\": true}, \"yaxis\": {\"mirror\": \"all\", \"nticks\": 20, \"showgrid\": true, \"showline\": true, \"title\": \"\\u5ef6\\u671f\\u5546\\u4e1a\\u9879\\u76ee\\u6570&\\u5ef6\\u671f\\u4e2a\\u6027\\u5316\\u9879\\u76ee\\u6570\", \"zeroline\": true}},\n",
       "            {\"showLink\": true, \"linkText\": \"Export to plot.ly\"}\n",
       "        ).then(function () {return Plotly.addFrames('648ffa4c-2a2b-487c-8519-85d8c4a10583',{});}).then(function(){Plotly.animate('648ffa4c-2a2b-487c-8519-85d8c4a10583');})\n",
       "        });</script>"
      ]
     },
     "metadata": {},
     "output_type": "display_data"
    }
   ],
   "source": [
    "data_dict = {'延期商业项目数':['延期商业项目数'], '延期个性化项目数':['延期个性化项目数']}\n",
    "myModule.plot( all_dict, data_dict, '人员' ,  'bar')"
   ]
  },
  {
   "cell_type": "markdown",
   "metadata": {},
   "source": [
    "### 反馈延期数"
   ]
  },
  {
   "cell_type": "code",
   "execution_count": 43,
   "metadata": {
    "scrolled": false
   },
   "outputs": [
    {
     "data": {
      "application/vnd.plotly.v1+json": {
       "data": [
        {
         "name": "车天栋_24h内未完成数据反馈项目数",
         "type": "bar",
         "uid": "277f2f70-c22b-11e8-8e00-a81e84e6c740",
         "x": [
          "8-1",
          "8-2",
          "8-3",
          "8-5",
          "9-1",
          "9-2"
         ],
         "y": [
          0,
          0,
          0,
          0,
          0,
          0
         ]
        },
        {
         "name": "车天栋_反馈延期个性化数",
         "type": "bar",
         "uid": "277f34fc-c22b-11e8-8e00-a81e84e6c740",
         "x": [
          "8-1",
          "8-2",
          "8-3",
          "8-5",
          "9-1",
          "9-2"
         ],
         "y": [
          0,
          0,
          0,
          0,
          0,
          0
         ]
        },
        {
         "name": "沈立群_24h内未完成数据反馈项目数",
         "type": "bar",
         "uid": "277f390c-c22b-11e8-8e00-a81e84e6c740",
         "x": [
          "8-1",
          "8-2",
          "8-3",
          "8-5",
          "9-1",
          "9-2"
         ],
         "y": [
          0,
          0,
          0,
          0,
          0,
          0
         ]
        },
        {
         "name": "沈立群_反馈延期个性化数",
         "type": "bar",
         "uid": "277f3cc2-c22b-11e8-8e00-a81e84e6c740",
         "x": [
          "8-1",
          "8-2",
          "8-3",
          "8-5",
          "9-1",
          "9-2"
         ],
         "y": [
          0,
          0,
          0,
          0,
          0,
          0
         ]
        },
        {
         "name": "王传文_24h内未完成数据反馈项目数",
         "type": "bar",
         "uid": "277f4050-c22b-11e8-8e00-a81e84e6c740",
         "x": [
          "8-1",
          "8-2",
          "8-3",
          "8-5",
          "9-1",
          "9-2"
         ],
         "y": [
          0,
          0,
          0,
          0,
          0,
          0
         ]
        },
        {
         "name": "王传文_反馈延期个性化数",
         "type": "bar",
         "uid": "277f43d4-c22b-11e8-8e00-a81e84e6c740",
         "x": [
          "8-1",
          "8-2",
          "8-3",
          "8-5",
          "9-1",
          "9-2"
         ],
         "y": [
          0,
          0,
          0,
          0,
          0,
          0
         ]
        },
        {
         "name": "林文文_24h内未完成数据反馈项目数",
         "type": "bar",
         "uid": "277f474e-c22b-11e8-8e00-a81e84e6c740",
         "x": [
          "8-1",
          "8-2",
          "8-3",
          "8-5",
          "9-1",
          "9-2"
         ],
         "y": [
          0,
          0,
          0,
          0,
          0,
          0
         ]
        },
        {
         "name": "林文文_反馈延期个性化数",
         "type": "bar",
         "uid": "277f4abe-c22b-11e8-8e00-a81e84e6c740",
         "x": [
          "8-1",
          "8-2",
          "8-3",
          "8-5",
          "9-1",
          "9-2"
         ],
         "y": [
          0,
          0,
          0,
          0,
          0,
          0
         ]
        },
        {
         "name": "高剑_24h内未完成数据反馈项目数",
         "type": "bar",
         "uid": "277f4e24-c22b-11e8-8e00-a81e84e6c740",
         "x": [
          "8-1",
          "8-2",
          "8-3",
          "8-4",
          "8-5",
          "9-1",
          "9-2"
         ],
         "y": [
          0,
          0,
          0,
          0,
          0,
          0,
          0
         ]
        },
        {
         "name": "高剑_反馈延期个性化数",
         "type": "bar",
         "uid": "277f5194-c22b-11e8-8e00-a81e84e6c740",
         "x": [
          "8-1",
          "8-2",
          "8-3",
          "8-4",
          "8-5",
          "9-1",
          "9-2"
         ],
         "y": [
          0,
          0,
          0,
          0,
          0,
          0,
          0
         ]
        },
        {
         "name": "沈恩惠_24h内未完成数据反馈项目数",
         "type": "bar",
         "uid": "277f5504-c22b-11e8-8e00-a81e84e6c740",
         "x": [
          "8-1",
          "8-2",
          "8-3",
          "8-5",
          "9-1",
          "9-2"
         ],
         "y": [
          0,
          0,
          0,
          0,
          0,
          0
         ]
        },
        {
         "name": "沈恩惠_反馈延期个性化数",
         "type": "bar",
         "uid": "277f5874-c22b-11e8-8e00-a81e84e6c740",
         "x": [
          "8-1",
          "8-2",
          "8-3",
          "8-5",
          "9-1",
          "9-2"
         ],
         "y": [
          0,
          0,
          0,
          0,
          0,
          0
         ]
        },
        {
         "name": "立群_24h内未完成数据反馈项目数",
         "type": "bar",
         "uid": "277f5be4-c22b-11e8-8e00-a81e84e6c740",
         "x": [
          "8-4"
         ],
         "y": [
          0
         ]
        },
        {
         "name": "立群_反馈延期个性化数",
         "type": "bar",
         "uid": "277f5f4a-c22b-11e8-8e00-a81e84e6c740",
         "x": [
          "8-4"
         ],
         "y": [
          0
         ]
        },
        {
         "name": "文文_24h内未完成数据反馈项目数",
         "type": "bar",
         "uid": "277f62a6-c22b-11e8-8e00-a81e84e6c740",
         "x": [
          "8-4"
         ],
         "y": [
          0
         ]
        },
        {
         "name": "文文_反馈延期个性化数",
         "type": "bar",
         "uid": "277f660c-c22b-11e8-8e00-a81e84e6c740",
         "x": [
          "8-4"
         ],
         "y": [
          0
         ]
        },
        {
         "name": "天栋_24h内未完成数据反馈项目数",
         "type": "bar",
         "uid": "277f6968-c22b-11e8-8e00-a81e84e6c740",
         "x": [
          "8-4"
         ],
         "y": [
          0
         ]
        },
        {
         "name": "天栋_反馈延期个性化数",
         "type": "bar",
         "uid": "277f6cce-c22b-11e8-8e00-a81e84e6c740",
         "x": [
          "8-4"
         ],
         "y": [
          0
         ]
        },
        {
         "name": "传文_24h内未完成数据反馈项目数",
         "type": "bar",
         "uid": "277f703e-c22b-11e8-8e00-a81e84e6c740",
         "x": [
          "8-4"
         ],
         "y": [
          0
         ]
        },
        {
         "name": "传文_反馈延期个性化数",
         "type": "bar",
         "uid": "277f73ae-c22b-11e8-8e00-a81e84e6c740",
         "x": [
          "8-4"
         ],
         "y": [
          0
         ]
        },
        {
         "name": "恩惠_24h内未完成数据反馈项目数",
         "type": "bar",
         "uid": "277f770a-c22b-11e8-8e00-a81e84e6c740",
         "x": [
          "8-4"
         ],
         "y": [
          0
         ]
        },
        {
         "name": "恩惠_反馈延期个性化数",
         "type": "bar",
         "uid": "277f7a66-c22b-11e8-8e00-a81e84e6c740",
         "x": [
          "8-4"
         ],
         "y": [
          0
         ]
        }
       ],
       "layout": {
        "title": "24h内未完成数据反馈项目数&反馈延期个性化数周趋势图",
        "xaxis": {
         "mirror": "all",
         "nticks": 20,
         "showgrid": true,
         "showline": true,
         "title": "周",
         "zeroline": true
        },
        "yaxis": {
         "mirror": "all",
         "nticks": 20,
         "showgrid": true,
         "showline": true,
         "title": "24h内未完成数据反馈项目数&反馈延期个性化数",
         "zeroline": true
        }
       }
      },
      "text/html": [
       "<div id=\"19f7f6f4-a46b-477b-af73-c151f4d62c49\" style=\"height: 525px; width: 100%;\" class=\"plotly-graph-div\"></div><script type=\"text/javascript\">require([\"plotly\"], function(Plotly) { window.PLOTLYENV=window.PLOTLYENV || {};window.PLOTLYENV.BASE_URL=\"https://plot.ly\";\n",
       "        Plotly.plot(\n",
       "            '19f7f6f4-a46b-477b-af73-c151f4d62c49',\n",
       "            [{\"name\": \"\\u8f66\\u5929\\u680b_24h\\u5185\\u672a\\u5b8c\\u6210\\u6570\\u636e\\u53cd\\u9988\\u9879\\u76ee\\u6570\", \"x\": [\"8-1\", \"8-2\", \"8-3\", \"8-5\", \"9-1\", \"9-2\"], \"y\": [0.0, 0.0, 0.0, 0.0, 0.0, 0.0], \"type\": \"bar\", \"uid\": \"277f2f70-c22b-11e8-8e00-a81e84e6c740\"}, {\"name\": \"\\u8f66\\u5929\\u680b_\\u53cd\\u9988\\u5ef6\\u671f\\u4e2a\\u6027\\u5316\\u6570\", \"x\": [\"8-1\", \"8-2\", \"8-3\", \"8-5\", \"9-1\", \"9-2\"], \"y\": [0.0, 0.0, 0.0, 0.0, 0.0, 0.0], \"type\": \"bar\", \"uid\": \"277f34fc-c22b-11e8-8e00-a81e84e6c740\"}, {\"name\": \"\\u6c88\\u7acb\\u7fa4_24h\\u5185\\u672a\\u5b8c\\u6210\\u6570\\u636e\\u53cd\\u9988\\u9879\\u76ee\\u6570\", \"x\": [\"8-1\", \"8-2\", \"8-3\", \"8-5\", \"9-1\", \"9-2\"], \"y\": [0.0, 0.0, 0.0, 0.0, 0.0, 0.0], \"type\": \"bar\", \"uid\": \"277f390c-c22b-11e8-8e00-a81e84e6c740\"}, {\"name\": \"\\u6c88\\u7acb\\u7fa4_\\u53cd\\u9988\\u5ef6\\u671f\\u4e2a\\u6027\\u5316\\u6570\", \"x\": [\"8-1\", \"8-2\", \"8-3\", \"8-5\", \"9-1\", \"9-2\"], \"y\": [0.0, 0.0, 0.0, 0.0, 0.0, 0.0], \"type\": \"bar\", \"uid\": \"277f3cc2-c22b-11e8-8e00-a81e84e6c740\"}, {\"name\": \"\\u738b\\u4f20\\u6587_24h\\u5185\\u672a\\u5b8c\\u6210\\u6570\\u636e\\u53cd\\u9988\\u9879\\u76ee\\u6570\", \"x\": [\"8-1\", \"8-2\", \"8-3\", \"8-5\", \"9-1\", \"9-2\"], \"y\": [0.0, 0.0, 0.0, 0.0, 0.0, 0.0], \"type\": \"bar\", \"uid\": \"277f4050-c22b-11e8-8e00-a81e84e6c740\"}, {\"name\": \"\\u738b\\u4f20\\u6587_\\u53cd\\u9988\\u5ef6\\u671f\\u4e2a\\u6027\\u5316\\u6570\", \"x\": [\"8-1\", \"8-2\", \"8-3\", \"8-5\", \"9-1\", \"9-2\"], \"y\": [0.0, 0.0, 0.0, 0.0, 0.0, 0.0], \"type\": \"bar\", \"uid\": \"277f43d4-c22b-11e8-8e00-a81e84e6c740\"}, {\"name\": \"\\u6797\\u6587\\u6587_24h\\u5185\\u672a\\u5b8c\\u6210\\u6570\\u636e\\u53cd\\u9988\\u9879\\u76ee\\u6570\", \"x\": [\"8-1\", \"8-2\", \"8-3\", \"8-5\", \"9-1\", \"9-2\"], \"y\": [0.0, 0.0, 0.0, 0.0, 0.0, 0.0], \"type\": \"bar\", \"uid\": \"277f474e-c22b-11e8-8e00-a81e84e6c740\"}, {\"name\": \"\\u6797\\u6587\\u6587_\\u53cd\\u9988\\u5ef6\\u671f\\u4e2a\\u6027\\u5316\\u6570\", \"x\": [\"8-1\", \"8-2\", \"8-3\", \"8-5\", \"9-1\", \"9-2\"], \"y\": [0.0, 0.0, 0.0, 0.0, 0.0, 0.0], \"type\": \"bar\", \"uid\": \"277f4abe-c22b-11e8-8e00-a81e84e6c740\"}, {\"name\": \"\\u9ad8\\u5251_24h\\u5185\\u672a\\u5b8c\\u6210\\u6570\\u636e\\u53cd\\u9988\\u9879\\u76ee\\u6570\", \"x\": [\"8-1\", \"8-2\", \"8-3\", \"8-4\", \"8-5\", \"9-1\", \"9-2\"], \"y\": [0.0, 0.0, 0.0, 0.0, 0.0, 0.0, 0.0], \"type\": \"bar\", \"uid\": \"277f4e24-c22b-11e8-8e00-a81e84e6c740\"}, {\"name\": \"\\u9ad8\\u5251_\\u53cd\\u9988\\u5ef6\\u671f\\u4e2a\\u6027\\u5316\\u6570\", \"x\": [\"8-1\", \"8-2\", \"8-3\", \"8-4\", \"8-5\", \"9-1\", \"9-2\"], \"y\": [0.0, 0.0, 0.0, 0.0, 0.0, 0.0, 0.0], \"type\": \"bar\", \"uid\": \"277f5194-c22b-11e8-8e00-a81e84e6c740\"}, {\"name\": \"\\u6c88\\u6069\\u60e0_24h\\u5185\\u672a\\u5b8c\\u6210\\u6570\\u636e\\u53cd\\u9988\\u9879\\u76ee\\u6570\", \"x\": [\"8-1\", \"8-2\", \"8-3\", \"8-5\", \"9-1\", \"9-2\"], \"y\": [0.0, 0.0, 0.0, 0.0, 0.0, 0.0], \"type\": \"bar\", \"uid\": \"277f5504-c22b-11e8-8e00-a81e84e6c740\"}, {\"name\": \"\\u6c88\\u6069\\u60e0_\\u53cd\\u9988\\u5ef6\\u671f\\u4e2a\\u6027\\u5316\\u6570\", \"x\": [\"8-1\", \"8-2\", \"8-3\", \"8-5\", \"9-1\", \"9-2\"], \"y\": [0.0, 0.0, 0.0, 0.0, 0.0, 0.0], \"type\": \"bar\", \"uid\": \"277f5874-c22b-11e8-8e00-a81e84e6c740\"}, {\"name\": \"\\u7acb\\u7fa4_24h\\u5185\\u672a\\u5b8c\\u6210\\u6570\\u636e\\u53cd\\u9988\\u9879\\u76ee\\u6570\", \"x\": [\"8-4\"], \"y\": [0.0], \"type\": \"bar\", \"uid\": \"277f5be4-c22b-11e8-8e00-a81e84e6c740\"}, {\"name\": \"\\u7acb\\u7fa4_\\u53cd\\u9988\\u5ef6\\u671f\\u4e2a\\u6027\\u5316\\u6570\", \"x\": [\"8-4\"], \"y\": [0.0], \"type\": \"bar\", \"uid\": \"277f5f4a-c22b-11e8-8e00-a81e84e6c740\"}, {\"name\": \"\\u6587\\u6587_24h\\u5185\\u672a\\u5b8c\\u6210\\u6570\\u636e\\u53cd\\u9988\\u9879\\u76ee\\u6570\", \"x\": [\"8-4\"], \"y\": [0.0], \"type\": \"bar\", \"uid\": \"277f62a6-c22b-11e8-8e00-a81e84e6c740\"}, {\"name\": \"\\u6587\\u6587_\\u53cd\\u9988\\u5ef6\\u671f\\u4e2a\\u6027\\u5316\\u6570\", \"x\": [\"8-4\"], \"y\": [0.0], \"type\": \"bar\", \"uid\": \"277f660c-c22b-11e8-8e00-a81e84e6c740\"}, {\"name\": \"\\u5929\\u680b_24h\\u5185\\u672a\\u5b8c\\u6210\\u6570\\u636e\\u53cd\\u9988\\u9879\\u76ee\\u6570\", \"x\": [\"8-4\"], \"y\": [0.0], \"type\": \"bar\", \"uid\": \"277f6968-c22b-11e8-8e00-a81e84e6c740\"}, {\"name\": \"\\u5929\\u680b_\\u53cd\\u9988\\u5ef6\\u671f\\u4e2a\\u6027\\u5316\\u6570\", \"x\": [\"8-4\"], \"y\": [0.0], \"type\": \"bar\", \"uid\": \"277f6cce-c22b-11e8-8e00-a81e84e6c740\"}, {\"name\": \"\\u4f20\\u6587_24h\\u5185\\u672a\\u5b8c\\u6210\\u6570\\u636e\\u53cd\\u9988\\u9879\\u76ee\\u6570\", \"x\": [\"8-4\"], \"y\": [0.0], \"type\": \"bar\", \"uid\": \"277f703e-c22b-11e8-8e00-a81e84e6c740\"}, {\"name\": \"\\u4f20\\u6587_\\u53cd\\u9988\\u5ef6\\u671f\\u4e2a\\u6027\\u5316\\u6570\", \"x\": [\"8-4\"], \"y\": [0.0], \"type\": \"bar\", \"uid\": \"277f73ae-c22b-11e8-8e00-a81e84e6c740\"}, {\"name\": \"\\u6069\\u60e0_24h\\u5185\\u672a\\u5b8c\\u6210\\u6570\\u636e\\u53cd\\u9988\\u9879\\u76ee\\u6570\", \"x\": [\"8-4\"], \"y\": [0.0], \"type\": \"bar\", \"uid\": \"277f770a-c22b-11e8-8e00-a81e84e6c740\"}, {\"name\": \"\\u6069\\u60e0_\\u53cd\\u9988\\u5ef6\\u671f\\u4e2a\\u6027\\u5316\\u6570\", \"x\": [\"8-4\"], \"y\": [0.0], \"type\": \"bar\", \"uid\": \"277f7a66-c22b-11e8-8e00-a81e84e6c740\"}],\n",
       "            {\"title\": \"24h\\u5185\\u672a\\u5b8c\\u6210\\u6570\\u636e\\u53cd\\u9988\\u9879\\u76ee\\u6570&\\u53cd\\u9988\\u5ef6\\u671f\\u4e2a\\u6027\\u5316\\u6570\\u5468\\u8d8b\\u52bf\\u56fe\", \"xaxis\": {\"mirror\": \"all\", \"nticks\": 20, \"showgrid\": true, \"showline\": true, \"title\": \"\\u5468\", \"zeroline\": true}, \"yaxis\": {\"mirror\": \"all\", \"nticks\": 20, \"showgrid\": true, \"showline\": true, \"title\": \"24h\\u5185\\u672a\\u5b8c\\u6210\\u6570\\u636e\\u53cd\\u9988\\u9879\\u76ee\\u6570&\\u53cd\\u9988\\u5ef6\\u671f\\u4e2a\\u6027\\u5316\\u6570\", \"zeroline\": true}},\n",
       "            {\"showLink\": true, \"linkText\": \"Export to plot.ly\"}\n",
       "        ).then(function () {return Plotly.addFrames('19f7f6f4-a46b-477b-af73-c151f4d62c49',{});}).then(function(){Plotly.animate('19f7f6f4-a46b-477b-af73-c151f4d62c49');})\n",
       "        });</script>"
      ],
      "text/vnd.plotly.v1+html": [
       "<div id=\"19f7f6f4-a46b-477b-af73-c151f4d62c49\" style=\"height: 525px; width: 100%;\" class=\"plotly-graph-div\"></div><script type=\"text/javascript\">require([\"plotly\"], function(Plotly) { window.PLOTLYENV=window.PLOTLYENV || {};window.PLOTLYENV.BASE_URL=\"https://plot.ly\";\n",
       "        Plotly.plot(\n",
       "            '19f7f6f4-a46b-477b-af73-c151f4d62c49',\n",
       "            [{\"name\": \"\\u8f66\\u5929\\u680b_24h\\u5185\\u672a\\u5b8c\\u6210\\u6570\\u636e\\u53cd\\u9988\\u9879\\u76ee\\u6570\", \"x\": [\"8-1\", \"8-2\", \"8-3\", \"8-5\", \"9-1\", \"9-2\"], \"y\": [0.0, 0.0, 0.0, 0.0, 0.0, 0.0], \"type\": \"bar\", \"uid\": \"277f2f70-c22b-11e8-8e00-a81e84e6c740\"}, {\"name\": \"\\u8f66\\u5929\\u680b_\\u53cd\\u9988\\u5ef6\\u671f\\u4e2a\\u6027\\u5316\\u6570\", \"x\": [\"8-1\", \"8-2\", \"8-3\", \"8-5\", \"9-1\", \"9-2\"], \"y\": [0.0, 0.0, 0.0, 0.0, 0.0, 0.0], \"type\": \"bar\", \"uid\": \"277f34fc-c22b-11e8-8e00-a81e84e6c740\"}, {\"name\": \"\\u6c88\\u7acb\\u7fa4_24h\\u5185\\u672a\\u5b8c\\u6210\\u6570\\u636e\\u53cd\\u9988\\u9879\\u76ee\\u6570\", \"x\": [\"8-1\", \"8-2\", \"8-3\", \"8-5\", \"9-1\", \"9-2\"], \"y\": [0.0, 0.0, 0.0, 0.0, 0.0, 0.0], \"type\": \"bar\", \"uid\": \"277f390c-c22b-11e8-8e00-a81e84e6c740\"}, {\"name\": \"\\u6c88\\u7acb\\u7fa4_\\u53cd\\u9988\\u5ef6\\u671f\\u4e2a\\u6027\\u5316\\u6570\", \"x\": [\"8-1\", \"8-2\", \"8-3\", \"8-5\", \"9-1\", \"9-2\"], \"y\": [0.0, 0.0, 0.0, 0.0, 0.0, 0.0], \"type\": \"bar\", \"uid\": \"277f3cc2-c22b-11e8-8e00-a81e84e6c740\"}, {\"name\": \"\\u738b\\u4f20\\u6587_24h\\u5185\\u672a\\u5b8c\\u6210\\u6570\\u636e\\u53cd\\u9988\\u9879\\u76ee\\u6570\", \"x\": [\"8-1\", \"8-2\", \"8-3\", \"8-5\", \"9-1\", \"9-2\"], \"y\": [0.0, 0.0, 0.0, 0.0, 0.0, 0.0], \"type\": \"bar\", \"uid\": \"277f4050-c22b-11e8-8e00-a81e84e6c740\"}, {\"name\": \"\\u738b\\u4f20\\u6587_\\u53cd\\u9988\\u5ef6\\u671f\\u4e2a\\u6027\\u5316\\u6570\", \"x\": [\"8-1\", \"8-2\", \"8-3\", \"8-5\", \"9-1\", \"9-2\"], \"y\": [0.0, 0.0, 0.0, 0.0, 0.0, 0.0], \"type\": \"bar\", \"uid\": \"277f43d4-c22b-11e8-8e00-a81e84e6c740\"}, {\"name\": \"\\u6797\\u6587\\u6587_24h\\u5185\\u672a\\u5b8c\\u6210\\u6570\\u636e\\u53cd\\u9988\\u9879\\u76ee\\u6570\", \"x\": [\"8-1\", \"8-2\", \"8-3\", \"8-5\", \"9-1\", \"9-2\"], \"y\": [0.0, 0.0, 0.0, 0.0, 0.0, 0.0], \"type\": \"bar\", \"uid\": \"277f474e-c22b-11e8-8e00-a81e84e6c740\"}, {\"name\": \"\\u6797\\u6587\\u6587_\\u53cd\\u9988\\u5ef6\\u671f\\u4e2a\\u6027\\u5316\\u6570\", \"x\": [\"8-1\", \"8-2\", \"8-3\", \"8-5\", \"9-1\", \"9-2\"], \"y\": [0.0, 0.0, 0.0, 0.0, 0.0, 0.0], \"type\": \"bar\", \"uid\": \"277f4abe-c22b-11e8-8e00-a81e84e6c740\"}, {\"name\": \"\\u9ad8\\u5251_24h\\u5185\\u672a\\u5b8c\\u6210\\u6570\\u636e\\u53cd\\u9988\\u9879\\u76ee\\u6570\", \"x\": [\"8-1\", \"8-2\", \"8-3\", \"8-4\", \"8-5\", \"9-1\", \"9-2\"], \"y\": [0.0, 0.0, 0.0, 0.0, 0.0, 0.0, 0.0], \"type\": \"bar\", \"uid\": \"277f4e24-c22b-11e8-8e00-a81e84e6c740\"}, {\"name\": \"\\u9ad8\\u5251_\\u53cd\\u9988\\u5ef6\\u671f\\u4e2a\\u6027\\u5316\\u6570\", \"x\": [\"8-1\", \"8-2\", \"8-3\", \"8-4\", \"8-5\", \"9-1\", \"9-2\"], \"y\": [0.0, 0.0, 0.0, 0.0, 0.0, 0.0, 0.0], \"type\": \"bar\", \"uid\": \"277f5194-c22b-11e8-8e00-a81e84e6c740\"}, {\"name\": \"\\u6c88\\u6069\\u60e0_24h\\u5185\\u672a\\u5b8c\\u6210\\u6570\\u636e\\u53cd\\u9988\\u9879\\u76ee\\u6570\", \"x\": [\"8-1\", \"8-2\", \"8-3\", \"8-5\", \"9-1\", \"9-2\"], \"y\": [0.0, 0.0, 0.0, 0.0, 0.0, 0.0], \"type\": \"bar\", \"uid\": \"277f5504-c22b-11e8-8e00-a81e84e6c740\"}, {\"name\": \"\\u6c88\\u6069\\u60e0_\\u53cd\\u9988\\u5ef6\\u671f\\u4e2a\\u6027\\u5316\\u6570\", \"x\": [\"8-1\", \"8-2\", \"8-3\", \"8-5\", \"9-1\", \"9-2\"], \"y\": [0.0, 0.0, 0.0, 0.0, 0.0, 0.0], \"type\": \"bar\", \"uid\": \"277f5874-c22b-11e8-8e00-a81e84e6c740\"}, {\"name\": \"\\u7acb\\u7fa4_24h\\u5185\\u672a\\u5b8c\\u6210\\u6570\\u636e\\u53cd\\u9988\\u9879\\u76ee\\u6570\", \"x\": [\"8-4\"], \"y\": [0.0], \"type\": \"bar\", \"uid\": \"277f5be4-c22b-11e8-8e00-a81e84e6c740\"}, {\"name\": \"\\u7acb\\u7fa4_\\u53cd\\u9988\\u5ef6\\u671f\\u4e2a\\u6027\\u5316\\u6570\", \"x\": [\"8-4\"], \"y\": [0.0], \"type\": \"bar\", \"uid\": \"277f5f4a-c22b-11e8-8e00-a81e84e6c740\"}, {\"name\": \"\\u6587\\u6587_24h\\u5185\\u672a\\u5b8c\\u6210\\u6570\\u636e\\u53cd\\u9988\\u9879\\u76ee\\u6570\", \"x\": [\"8-4\"], \"y\": [0.0], \"type\": \"bar\", \"uid\": \"277f62a6-c22b-11e8-8e00-a81e84e6c740\"}, {\"name\": \"\\u6587\\u6587_\\u53cd\\u9988\\u5ef6\\u671f\\u4e2a\\u6027\\u5316\\u6570\", \"x\": [\"8-4\"], \"y\": [0.0], \"type\": \"bar\", \"uid\": \"277f660c-c22b-11e8-8e00-a81e84e6c740\"}, {\"name\": \"\\u5929\\u680b_24h\\u5185\\u672a\\u5b8c\\u6210\\u6570\\u636e\\u53cd\\u9988\\u9879\\u76ee\\u6570\", \"x\": [\"8-4\"], \"y\": [0.0], \"type\": \"bar\", \"uid\": \"277f6968-c22b-11e8-8e00-a81e84e6c740\"}, {\"name\": \"\\u5929\\u680b_\\u53cd\\u9988\\u5ef6\\u671f\\u4e2a\\u6027\\u5316\\u6570\", \"x\": [\"8-4\"], \"y\": [0.0], \"type\": \"bar\", \"uid\": \"277f6cce-c22b-11e8-8e00-a81e84e6c740\"}, {\"name\": \"\\u4f20\\u6587_24h\\u5185\\u672a\\u5b8c\\u6210\\u6570\\u636e\\u53cd\\u9988\\u9879\\u76ee\\u6570\", \"x\": [\"8-4\"], \"y\": [0.0], \"type\": \"bar\", \"uid\": \"277f703e-c22b-11e8-8e00-a81e84e6c740\"}, {\"name\": \"\\u4f20\\u6587_\\u53cd\\u9988\\u5ef6\\u671f\\u4e2a\\u6027\\u5316\\u6570\", \"x\": [\"8-4\"], \"y\": [0.0], \"type\": \"bar\", \"uid\": \"277f73ae-c22b-11e8-8e00-a81e84e6c740\"}, {\"name\": \"\\u6069\\u60e0_24h\\u5185\\u672a\\u5b8c\\u6210\\u6570\\u636e\\u53cd\\u9988\\u9879\\u76ee\\u6570\", \"x\": [\"8-4\"], \"y\": [0.0], \"type\": \"bar\", \"uid\": \"277f770a-c22b-11e8-8e00-a81e84e6c740\"}, {\"name\": \"\\u6069\\u60e0_\\u53cd\\u9988\\u5ef6\\u671f\\u4e2a\\u6027\\u5316\\u6570\", \"x\": [\"8-4\"], \"y\": [0.0], \"type\": \"bar\", \"uid\": \"277f7a66-c22b-11e8-8e00-a81e84e6c740\"}],\n",
       "            {\"title\": \"24h\\u5185\\u672a\\u5b8c\\u6210\\u6570\\u636e\\u53cd\\u9988\\u9879\\u76ee\\u6570&\\u53cd\\u9988\\u5ef6\\u671f\\u4e2a\\u6027\\u5316\\u6570\\u5468\\u8d8b\\u52bf\\u56fe\", \"xaxis\": {\"mirror\": \"all\", \"nticks\": 20, \"showgrid\": true, \"showline\": true, \"title\": \"\\u5468\", \"zeroline\": true}, \"yaxis\": {\"mirror\": \"all\", \"nticks\": 20, \"showgrid\": true, \"showline\": true, \"title\": \"24h\\u5185\\u672a\\u5b8c\\u6210\\u6570\\u636e\\u53cd\\u9988\\u9879\\u76ee\\u6570&\\u53cd\\u9988\\u5ef6\\u671f\\u4e2a\\u6027\\u5316\\u6570\", \"zeroline\": true}},\n",
       "            {\"showLink\": true, \"linkText\": \"Export to plot.ly\"}\n",
       "        ).then(function () {return Plotly.addFrames('19f7f6f4-a46b-477b-af73-c151f4d62c49',{});}).then(function(){Plotly.animate('19f7f6f4-a46b-477b-af73-c151f4d62c49');})\n",
       "        });</script>"
      ]
     },
     "metadata": {},
     "output_type": "display_data"
    },
    {
     "data": {
      "application/vnd.plotly.v1+json": {
       "data": [
        {
         "name": "传文_24h内未完成数据反馈项目数",
         "type": "bar",
         "uid": "27c3725c-c22b-11e8-8e00-a81e84e6c740",
         "x": [
          "8"
         ],
         "y": [
          null
         ]
        },
        {
         "name": "传文_反馈延期个性化数",
         "type": "bar",
         "uid": "27c377b6-c22b-11e8-8e00-a81e84e6c740",
         "x": [
          "8"
         ],
         "y": [
          null
         ]
        },
        {
         "name": "天栋_24h内未完成数据反馈项目数",
         "type": "bar",
         "uid": "27c37bda-c22b-11e8-8e00-a81e84e6c740",
         "x": [
          "8"
         ],
         "y": [
          null
         ]
        },
        {
         "name": "天栋_反馈延期个性化数",
         "type": "bar",
         "uid": "27c37f86-c22b-11e8-8e00-a81e84e6c740",
         "x": [
          "8"
         ],
         "y": [
          null
         ]
        },
        {
         "name": "恩惠_24h内未完成数据反馈项目数",
         "type": "bar",
         "uid": "27c38328-c22b-11e8-8e00-a81e84e6c740",
         "x": [
          "8"
         ],
         "y": [
          null
         ]
        },
        {
         "name": "恩惠_反馈延期个性化数",
         "type": "bar",
         "uid": "27c386ac-c22b-11e8-8e00-a81e84e6c740",
         "x": [
          "8"
         ],
         "y": [
          null
         ]
        },
        {
         "name": "文文_24h内未完成数据反馈项目数",
         "type": "bar",
         "uid": "27c38a30-c22b-11e8-8e00-a81e84e6c740",
         "x": [
          "8"
         ],
         "y": [
          null
         ]
        },
        {
         "name": "文文_反馈延期个性化数",
         "type": "bar",
         "uid": "27c38daa-c22b-11e8-8e00-a81e84e6c740",
         "x": [
          "8"
         ],
         "y": [
          null
         ]
        },
        {
         "name": "林文文_24h内未完成数据反馈项目数",
         "type": "bar",
         "uid": "27c39124-c22b-11e8-8e00-a81e84e6c740",
         "x": [
          "8",
          "9"
         ],
         "y": [
          null,
          0
         ]
        },
        {
         "name": "林文文_反馈延期个性化数",
         "type": "bar",
         "uid": "27c3949e-c22b-11e8-8e00-a81e84e6c740",
         "x": [
          "8",
          "9"
         ],
         "y": [
          null,
          0
         ]
        },
        {
         "name": "沈恩惠_24h内未完成数据反馈项目数",
         "type": "bar",
         "uid": "27c39818-c22b-11e8-8e00-a81e84e6c740",
         "x": [
          "8",
          "9"
         ],
         "y": [
          null,
          0
         ]
        },
        {
         "name": "沈恩惠_反馈延期个性化数",
         "type": "bar",
         "uid": "27c39b92-c22b-11e8-8e00-a81e84e6c740",
         "x": [
          "8",
          "9"
         ],
         "y": [
          null,
          0
         ]
        },
        {
         "name": "沈立群_24h内未完成数据反馈项目数",
         "type": "bar",
         "uid": "27c39f02-c22b-11e8-8e00-a81e84e6c740",
         "x": [
          "8",
          "9"
         ],
         "y": [
          null,
          0
         ]
        },
        {
         "name": "沈立群_反馈延期个性化数",
         "type": "bar",
         "uid": "27c3a272-c22b-11e8-8e00-a81e84e6c740",
         "x": [
          "8",
          "9"
         ],
         "y": [
          null,
          0
         ]
        },
        {
         "name": "王传文_24h内未完成数据反馈项目数",
         "type": "bar",
         "uid": "27c3a5ec-c22b-11e8-8e00-a81e84e6c740",
         "x": [
          "8",
          "9"
         ],
         "y": [
          null,
          0
         ]
        },
        {
         "name": "王传文_反馈延期个性化数",
         "type": "bar",
         "uid": "27c3a95c-c22b-11e8-8e00-a81e84e6c740",
         "x": [
          "8",
          "9"
         ],
         "y": [
          null,
          0
         ]
        },
        {
         "name": "立群_24h内未完成数据反馈项目数",
         "type": "bar",
         "uid": "27c3ace0-c22b-11e8-8e00-a81e84e6c740",
         "x": [
          "8"
         ],
         "y": [
          null
         ]
        },
        {
         "name": "立群_反馈延期个性化数",
         "type": "bar",
         "uid": "27c3b050-c22b-11e8-8e00-a81e84e6c740",
         "x": [
          "8"
         ],
         "y": [
          null
         ]
        },
        {
         "name": "车天栋_24h内未完成数据反馈项目数",
         "type": "bar",
         "uid": "27c3b3ca-c22b-11e8-8e00-a81e84e6c740",
         "x": [
          "8",
          "9"
         ],
         "y": [
          null,
          0
         ]
        },
        {
         "name": "车天栋_反馈延期个性化数",
         "type": "bar",
         "uid": "27c3b744-c22b-11e8-8e00-a81e84e6c740",
         "x": [
          "8",
          "9"
         ],
         "y": [
          null,
          0
         ]
        },
        {
         "name": "高剑_24h内未完成数据反馈项目数",
         "type": "bar",
         "uid": "27c3bab4-c22b-11e8-8e00-a81e84e6c740",
         "x": [
          "8",
          "9"
         ],
         "y": [
          0,
          0
         ]
        },
        {
         "name": "高剑_反馈延期个性化数",
         "type": "bar",
         "uid": "27c3be1a-c22b-11e8-8e00-a81e84e6c740",
         "x": [
          "8",
          "9"
         ],
         "y": [
          0,
          0
         ]
        }
       ],
       "layout": {
        "title": "24h内未完成数据反馈项目数&反馈延期个性化数月趋势图",
        "xaxis": {
         "mirror": "all",
         "nticks": 20,
         "showgrid": true,
         "showline": true,
         "title": "月",
         "zeroline": true
        },
        "yaxis": {
         "mirror": "all",
         "nticks": 20,
         "showgrid": true,
         "showline": true,
         "title": "24h内未完成数据反馈项目数&反馈延期个性化数",
         "zeroline": true
        }
       }
      },
      "text/html": [
       "<div id=\"c4d02723-c58f-4c18-a361-8b456935feb8\" style=\"height: 525px; width: 100%;\" class=\"plotly-graph-div\"></div><script type=\"text/javascript\">require([\"plotly\"], function(Plotly) { window.PLOTLYENV=window.PLOTLYENV || {};window.PLOTLYENV.BASE_URL=\"https://plot.ly\";\n",
       "        Plotly.plot(\n",
       "            'c4d02723-c58f-4c18-a361-8b456935feb8',\n",
       "            [{\"name\": \"\\u4f20\\u6587_24h\\u5185\\u672a\\u5b8c\\u6210\\u6570\\u636e\\u53cd\\u9988\\u9879\\u76ee\\u6570\", \"x\": [\"8\"], \"y\": [null], \"type\": \"bar\", \"uid\": \"27c3725c-c22b-11e8-8e00-a81e84e6c740\"}, {\"name\": \"\\u4f20\\u6587_\\u53cd\\u9988\\u5ef6\\u671f\\u4e2a\\u6027\\u5316\\u6570\", \"x\": [\"8\"], \"y\": [null], \"type\": \"bar\", \"uid\": \"27c377b6-c22b-11e8-8e00-a81e84e6c740\"}, {\"name\": \"\\u5929\\u680b_24h\\u5185\\u672a\\u5b8c\\u6210\\u6570\\u636e\\u53cd\\u9988\\u9879\\u76ee\\u6570\", \"x\": [\"8\"], \"y\": [null], \"type\": \"bar\", \"uid\": \"27c37bda-c22b-11e8-8e00-a81e84e6c740\"}, {\"name\": \"\\u5929\\u680b_\\u53cd\\u9988\\u5ef6\\u671f\\u4e2a\\u6027\\u5316\\u6570\", \"x\": [\"8\"], \"y\": [null], \"type\": \"bar\", \"uid\": \"27c37f86-c22b-11e8-8e00-a81e84e6c740\"}, {\"name\": \"\\u6069\\u60e0_24h\\u5185\\u672a\\u5b8c\\u6210\\u6570\\u636e\\u53cd\\u9988\\u9879\\u76ee\\u6570\", \"x\": [\"8\"], \"y\": [null], \"type\": \"bar\", \"uid\": \"27c38328-c22b-11e8-8e00-a81e84e6c740\"}, {\"name\": \"\\u6069\\u60e0_\\u53cd\\u9988\\u5ef6\\u671f\\u4e2a\\u6027\\u5316\\u6570\", \"x\": [\"8\"], \"y\": [null], \"type\": \"bar\", \"uid\": \"27c386ac-c22b-11e8-8e00-a81e84e6c740\"}, {\"name\": \"\\u6587\\u6587_24h\\u5185\\u672a\\u5b8c\\u6210\\u6570\\u636e\\u53cd\\u9988\\u9879\\u76ee\\u6570\", \"x\": [\"8\"], \"y\": [null], \"type\": \"bar\", \"uid\": \"27c38a30-c22b-11e8-8e00-a81e84e6c740\"}, {\"name\": \"\\u6587\\u6587_\\u53cd\\u9988\\u5ef6\\u671f\\u4e2a\\u6027\\u5316\\u6570\", \"x\": [\"8\"], \"y\": [null], \"type\": \"bar\", \"uid\": \"27c38daa-c22b-11e8-8e00-a81e84e6c740\"}, {\"name\": \"\\u6797\\u6587\\u6587_24h\\u5185\\u672a\\u5b8c\\u6210\\u6570\\u636e\\u53cd\\u9988\\u9879\\u76ee\\u6570\", \"x\": [\"8\", \"9\"], \"y\": [null, 0.0], \"type\": \"bar\", \"uid\": \"27c39124-c22b-11e8-8e00-a81e84e6c740\"}, {\"name\": \"\\u6797\\u6587\\u6587_\\u53cd\\u9988\\u5ef6\\u671f\\u4e2a\\u6027\\u5316\\u6570\", \"x\": [\"8\", \"9\"], \"y\": [null, 0.0], \"type\": \"bar\", \"uid\": \"27c3949e-c22b-11e8-8e00-a81e84e6c740\"}, {\"name\": \"\\u6c88\\u6069\\u60e0_24h\\u5185\\u672a\\u5b8c\\u6210\\u6570\\u636e\\u53cd\\u9988\\u9879\\u76ee\\u6570\", \"x\": [\"8\", \"9\"], \"y\": [null, 0.0], \"type\": \"bar\", \"uid\": \"27c39818-c22b-11e8-8e00-a81e84e6c740\"}, {\"name\": \"\\u6c88\\u6069\\u60e0_\\u53cd\\u9988\\u5ef6\\u671f\\u4e2a\\u6027\\u5316\\u6570\", \"x\": [\"8\", \"9\"], \"y\": [null, 0.0], \"type\": \"bar\", \"uid\": \"27c39b92-c22b-11e8-8e00-a81e84e6c740\"}, {\"name\": \"\\u6c88\\u7acb\\u7fa4_24h\\u5185\\u672a\\u5b8c\\u6210\\u6570\\u636e\\u53cd\\u9988\\u9879\\u76ee\\u6570\", \"x\": [\"8\", \"9\"], \"y\": [null, 0.0], \"type\": \"bar\", \"uid\": \"27c39f02-c22b-11e8-8e00-a81e84e6c740\"}, {\"name\": \"\\u6c88\\u7acb\\u7fa4_\\u53cd\\u9988\\u5ef6\\u671f\\u4e2a\\u6027\\u5316\\u6570\", \"x\": [\"8\", \"9\"], \"y\": [null, 0.0], \"type\": \"bar\", \"uid\": \"27c3a272-c22b-11e8-8e00-a81e84e6c740\"}, {\"name\": \"\\u738b\\u4f20\\u6587_24h\\u5185\\u672a\\u5b8c\\u6210\\u6570\\u636e\\u53cd\\u9988\\u9879\\u76ee\\u6570\", \"x\": [\"8\", \"9\"], \"y\": [null, 0.0], \"type\": \"bar\", \"uid\": \"27c3a5ec-c22b-11e8-8e00-a81e84e6c740\"}, {\"name\": \"\\u738b\\u4f20\\u6587_\\u53cd\\u9988\\u5ef6\\u671f\\u4e2a\\u6027\\u5316\\u6570\", \"x\": [\"8\", \"9\"], \"y\": [null, 0.0], \"type\": \"bar\", \"uid\": \"27c3a95c-c22b-11e8-8e00-a81e84e6c740\"}, {\"name\": \"\\u7acb\\u7fa4_24h\\u5185\\u672a\\u5b8c\\u6210\\u6570\\u636e\\u53cd\\u9988\\u9879\\u76ee\\u6570\", \"x\": [\"8\"], \"y\": [null], \"type\": \"bar\", \"uid\": \"27c3ace0-c22b-11e8-8e00-a81e84e6c740\"}, {\"name\": \"\\u7acb\\u7fa4_\\u53cd\\u9988\\u5ef6\\u671f\\u4e2a\\u6027\\u5316\\u6570\", \"x\": [\"8\"], \"y\": [null], \"type\": \"bar\", \"uid\": \"27c3b050-c22b-11e8-8e00-a81e84e6c740\"}, {\"name\": \"\\u8f66\\u5929\\u680b_24h\\u5185\\u672a\\u5b8c\\u6210\\u6570\\u636e\\u53cd\\u9988\\u9879\\u76ee\\u6570\", \"x\": [\"8\", \"9\"], \"y\": [null, 0.0], \"type\": \"bar\", \"uid\": \"27c3b3ca-c22b-11e8-8e00-a81e84e6c740\"}, {\"name\": \"\\u8f66\\u5929\\u680b_\\u53cd\\u9988\\u5ef6\\u671f\\u4e2a\\u6027\\u5316\\u6570\", \"x\": [\"8\", \"9\"], \"y\": [null, 0.0], \"type\": \"bar\", \"uid\": \"27c3b744-c22b-11e8-8e00-a81e84e6c740\"}, {\"name\": \"\\u9ad8\\u5251_24h\\u5185\\u672a\\u5b8c\\u6210\\u6570\\u636e\\u53cd\\u9988\\u9879\\u76ee\\u6570\", \"x\": [\"8\", \"9\"], \"y\": [0.0, 0.0], \"type\": \"bar\", \"uid\": \"27c3bab4-c22b-11e8-8e00-a81e84e6c740\"}, {\"name\": \"\\u9ad8\\u5251_\\u53cd\\u9988\\u5ef6\\u671f\\u4e2a\\u6027\\u5316\\u6570\", \"x\": [\"8\", \"9\"], \"y\": [0.0, 0.0], \"type\": \"bar\", \"uid\": \"27c3be1a-c22b-11e8-8e00-a81e84e6c740\"}],\n",
       "            {\"title\": \"24h\\u5185\\u672a\\u5b8c\\u6210\\u6570\\u636e\\u53cd\\u9988\\u9879\\u76ee\\u6570&\\u53cd\\u9988\\u5ef6\\u671f\\u4e2a\\u6027\\u5316\\u6570\\u6708\\u8d8b\\u52bf\\u56fe\", \"xaxis\": {\"mirror\": \"all\", \"nticks\": 20, \"showgrid\": true, \"showline\": true, \"title\": \"\\u6708\", \"zeroline\": true}, \"yaxis\": {\"mirror\": \"all\", \"nticks\": 20, \"showgrid\": true, \"showline\": true, \"title\": \"24h\\u5185\\u672a\\u5b8c\\u6210\\u6570\\u636e\\u53cd\\u9988\\u9879\\u76ee\\u6570&\\u53cd\\u9988\\u5ef6\\u671f\\u4e2a\\u6027\\u5316\\u6570\", \"zeroline\": true}},\n",
       "            {\"showLink\": true, \"linkText\": \"Export to plot.ly\"}\n",
       "        ).then(function () {return Plotly.addFrames('c4d02723-c58f-4c18-a361-8b456935feb8',{});}).then(function(){Plotly.animate('c4d02723-c58f-4c18-a361-8b456935feb8');})\n",
       "        });</script>"
      ],
      "text/vnd.plotly.v1+html": [
       "<div id=\"c4d02723-c58f-4c18-a361-8b456935feb8\" style=\"height: 525px; width: 100%;\" class=\"plotly-graph-div\"></div><script type=\"text/javascript\">require([\"plotly\"], function(Plotly) { window.PLOTLYENV=window.PLOTLYENV || {};window.PLOTLYENV.BASE_URL=\"https://plot.ly\";\n",
       "        Plotly.plot(\n",
       "            'c4d02723-c58f-4c18-a361-8b456935feb8',\n",
       "            [{\"name\": \"\\u4f20\\u6587_24h\\u5185\\u672a\\u5b8c\\u6210\\u6570\\u636e\\u53cd\\u9988\\u9879\\u76ee\\u6570\", \"x\": [\"8\"], \"y\": [null], \"type\": \"bar\", \"uid\": \"27c3725c-c22b-11e8-8e00-a81e84e6c740\"}, {\"name\": \"\\u4f20\\u6587_\\u53cd\\u9988\\u5ef6\\u671f\\u4e2a\\u6027\\u5316\\u6570\", \"x\": [\"8\"], \"y\": [null], \"type\": \"bar\", \"uid\": \"27c377b6-c22b-11e8-8e00-a81e84e6c740\"}, {\"name\": \"\\u5929\\u680b_24h\\u5185\\u672a\\u5b8c\\u6210\\u6570\\u636e\\u53cd\\u9988\\u9879\\u76ee\\u6570\", \"x\": [\"8\"], \"y\": [null], \"type\": \"bar\", \"uid\": \"27c37bda-c22b-11e8-8e00-a81e84e6c740\"}, {\"name\": \"\\u5929\\u680b_\\u53cd\\u9988\\u5ef6\\u671f\\u4e2a\\u6027\\u5316\\u6570\", \"x\": [\"8\"], \"y\": [null], \"type\": \"bar\", \"uid\": \"27c37f86-c22b-11e8-8e00-a81e84e6c740\"}, {\"name\": \"\\u6069\\u60e0_24h\\u5185\\u672a\\u5b8c\\u6210\\u6570\\u636e\\u53cd\\u9988\\u9879\\u76ee\\u6570\", \"x\": [\"8\"], \"y\": [null], \"type\": \"bar\", \"uid\": \"27c38328-c22b-11e8-8e00-a81e84e6c740\"}, {\"name\": \"\\u6069\\u60e0_\\u53cd\\u9988\\u5ef6\\u671f\\u4e2a\\u6027\\u5316\\u6570\", \"x\": [\"8\"], \"y\": [null], \"type\": \"bar\", \"uid\": \"27c386ac-c22b-11e8-8e00-a81e84e6c740\"}, {\"name\": \"\\u6587\\u6587_24h\\u5185\\u672a\\u5b8c\\u6210\\u6570\\u636e\\u53cd\\u9988\\u9879\\u76ee\\u6570\", \"x\": [\"8\"], \"y\": [null], \"type\": \"bar\", \"uid\": \"27c38a30-c22b-11e8-8e00-a81e84e6c740\"}, {\"name\": \"\\u6587\\u6587_\\u53cd\\u9988\\u5ef6\\u671f\\u4e2a\\u6027\\u5316\\u6570\", \"x\": [\"8\"], \"y\": [null], \"type\": \"bar\", \"uid\": \"27c38daa-c22b-11e8-8e00-a81e84e6c740\"}, {\"name\": \"\\u6797\\u6587\\u6587_24h\\u5185\\u672a\\u5b8c\\u6210\\u6570\\u636e\\u53cd\\u9988\\u9879\\u76ee\\u6570\", \"x\": [\"8\", \"9\"], \"y\": [null, 0.0], \"type\": \"bar\", \"uid\": \"27c39124-c22b-11e8-8e00-a81e84e6c740\"}, {\"name\": \"\\u6797\\u6587\\u6587_\\u53cd\\u9988\\u5ef6\\u671f\\u4e2a\\u6027\\u5316\\u6570\", \"x\": [\"8\", \"9\"], \"y\": [null, 0.0], \"type\": \"bar\", \"uid\": \"27c3949e-c22b-11e8-8e00-a81e84e6c740\"}, {\"name\": \"\\u6c88\\u6069\\u60e0_24h\\u5185\\u672a\\u5b8c\\u6210\\u6570\\u636e\\u53cd\\u9988\\u9879\\u76ee\\u6570\", \"x\": [\"8\", \"9\"], \"y\": [null, 0.0], \"type\": \"bar\", \"uid\": \"27c39818-c22b-11e8-8e00-a81e84e6c740\"}, {\"name\": \"\\u6c88\\u6069\\u60e0_\\u53cd\\u9988\\u5ef6\\u671f\\u4e2a\\u6027\\u5316\\u6570\", \"x\": [\"8\", \"9\"], \"y\": [null, 0.0], \"type\": \"bar\", \"uid\": \"27c39b92-c22b-11e8-8e00-a81e84e6c740\"}, {\"name\": \"\\u6c88\\u7acb\\u7fa4_24h\\u5185\\u672a\\u5b8c\\u6210\\u6570\\u636e\\u53cd\\u9988\\u9879\\u76ee\\u6570\", \"x\": [\"8\", \"9\"], \"y\": [null, 0.0], \"type\": \"bar\", \"uid\": \"27c39f02-c22b-11e8-8e00-a81e84e6c740\"}, {\"name\": \"\\u6c88\\u7acb\\u7fa4_\\u53cd\\u9988\\u5ef6\\u671f\\u4e2a\\u6027\\u5316\\u6570\", \"x\": [\"8\", \"9\"], \"y\": [null, 0.0], \"type\": \"bar\", \"uid\": \"27c3a272-c22b-11e8-8e00-a81e84e6c740\"}, {\"name\": \"\\u738b\\u4f20\\u6587_24h\\u5185\\u672a\\u5b8c\\u6210\\u6570\\u636e\\u53cd\\u9988\\u9879\\u76ee\\u6570\", \"x\": [\"8\", \"9\"], \"y\": [null, 0.0], \"type\": \"bar\", \"uid\": \"27c3a5ec-c22b-11e8-8e00-a81e84e6c740\"}, {\"name\": \"\\u738b\\u4f20\\u6587_\\u53cd\\u9988\\u5ef6\\u671f\\u4e2a\\u6027\\u5316\\u6570\", \"x\": [\"8\", \"9\"], \"y\": [null, 0.0], \"type\": \"bar\", \"uid\": \"27c3a95c-c22b-11e8-8e00-a81e84e6c740\"}, {\"name\": \"\\u7acb\\u7fa4_24h\\u5185\\u672a\\u5b8c\\u6210\\u6570\\u636e\\u53cd\\u9988\\u9879\\u76ee\\u6570\", \"x\": [\"8\"], \"y\": [null], \"type\": \"bar\", \"uid\": \"27c3ace0-c22b-11e8-8e00-a81e84e6c740\"}, {\"name\": \"\\u7acb\\u7fa4_\\u53cd\\u9988\\u5ef6\\u671f\\u4e2a\\u6027\\u5316\\u6570\", \"x\": [\"8\"], \"y\": [null], \"type\": \"bar\", \"uid\": \"27c3b050-c22b-11e8-8e00-a81e84e6c740\"}, {\"name\": \"\\u8f66\\u5929\\u680b_24h\\u5185\\u672a\\u5b8c\\u6210\\u6570\\u636e\\u53cd\\u9988\\u9879\\u76ee\\u6570\", \"x\": [\"8\", \"9\"], \"y\": [null, 0.0], \"type\": \"bar\", \"uid\": \"27c3b3ca-c22b-11e8-8e00-a81e84e6c740\"}, {\"name\": \"\\u8f66\\u5929\\u680b_\\u53cd\\u9988\\u5ef6\\u671f\\u4e2a\\u6027\\u5316\\u6570\", \"x\": [\"8\", \"9\"], \"y\": [null, 0.0], \"type\": \"bar\", \"uid\": \"27c3b744-c22b-11e8-8e00-a81e84e6c740\"}, {\"name\": \"\\u9ad8\\u5251_24h\\u5185\\u672a\\u5b8c\\u6210\\u6570\\u636e\\u53cd\\u9988\\u9879\\u76ee\\u6570\", \"x\": [\"8\", \"9\"], \"y\": [0.0, 0.0], \"type\": \"bar\", \"uid\": \"27c3bab4-c22b-11e8-8e00-a81e84e6c740\"}, {\"name\": \"\\u9ad8\\u5251_\\u53cd\\u9988\\u5ef6\\u671f\\u4e2a\\u6027\\u5316\\u6570\", \"x\": [\"8\", \"9\"], \"y\": [0.0, 0.0], \"type\": \"bar\", \"uid\": \"27c3be1a-c22b-11e8-8e00-a81e84e6c740\"}],\n",
       "            {\"title\": \"24h\\u5185\\u672a\\u5b8c\\u6210\\u6570\\u636e\\u53cd\\u9988\\u9879\\u76ee\\u6570&\\u53cd\\u9988\\u5ef6\\u671f\\u4e2a\\u6027\\u5316\\u6570\\u6708\\u8d8b\\u52bf\\u56fe\", \"xaxis\": {\"mirror\": \"all\", \"nticks\": 20, \"showgrid\": true, \"showline\": true, \"title\": \"\\u6708\", \"zeroline\": true}, \"yaxis\": {\"mirror\": \"all\", \"nticks\": 20, \"showgrid\": true, \"showline\": true, \"title\": \"24h\\u5185\\u672a\\u5b8c\\u6210\\u6570\\u636e\\u53cd\\u9988\\u9879\\u76ee\\u6570&\\u53cd\\u9988\\u5ef6\\u671f\\u4e2a\\u6027\\u5316\\u6570\", \"zeroline\": true}},\n",
       "            {\"showLink\": true, \"linkText\": \"Export to plot.ly\"}\n",
       "        ).then(function () {return Plotly.addFrames('c4d02723-c58f-4c18-a361-8b456935feb8',{});}).then(function(){Plotly.animate('c4d02723-c58f-4c18-a361-8b456935feb8');})\n",
       "        });</script>"
      ]
     },
     "metadata": {},
     "output_type": "display_data"
    }
   ],
   "source": [
    "data_dict = {'24h内未完成数据反馈项目数':['24h内未完成数据反馈项目数'], '反馈延期个性化数':['反馈延期个性化数']}\n",
    "myModule.plot( all_dict, data_dict, '人员' ,  'bar')"
   ]
  }
 ],
 "metadata": {
  "celltoolbar": "Edit Metadata",
  "hide_input": false,
  "kernelspec": {
   "display_name": "Python 3",
   "language": "python",
   "name": "python3"
  },
  "language_info": {
   "codemirror_mode": {
    "name": "ipython",
    "version": 3
   },
   "file_extension": ".py",
   "mimetype": "text/x-python",
   "name": "python",
   "nbconvert_exporter": "python",
   "pygments_lexer": "ipython3",
   "version": "3.6.6"
  },
  "toc": {
   "base_numbering": 1,
   "nav_menu": {},
   "number_sections": true,
   "sideBar": true,
   "skip_h1_title": false,
   "title_cell": "Table of Contents",
   "title_sidebar": "Contents",
   "toc_cell": false,
   "toc_position": {
    "height": "513.333px",
    "left": "419px",
    "top": "110.926px",
    "width": "279px"
   },
   "toc_section_display": true,
   "toc_window_display": true
  }
 },
 "nbformat": 4,
 "nbformat_minor": 2
}
