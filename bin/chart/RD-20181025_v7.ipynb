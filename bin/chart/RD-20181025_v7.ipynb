{
 "cells": [
  {
   "cell_type": "code",
   "execution_count": 14,
   "metadata": {
    "collapsed": false,
    "hide_input": false
   },
   "outputs": [
    {
     "name": "stdout",
     "output_type": "stream",
     "text": [
      "The autoreload extension is already loaded. To reload it, use:\n",
      "  %reload_ext autoreload\n"
     ]
    }
   ],
   "source": [
    "%load_ext autoreload\n",
    "%autoreload 2\n",
    "import sys\n",
    "sys.path.append('./')\n",
    "import myModule as myModule"
   ]
  },
  {
   "cell_type": "code",
   "execution_count": 15,
   "metadata": {
    "collapsed": false
   },
   "outputs": [
    {
     "data": {
      "text/html": [
       "<script>requirejs.config({paths: { 'plotly': ['https://cdn.plot.ly/plotly-latest.min']},});if(!window.Plotly) {{require(['plotly'],function(plotly) {window.Plotly=plotly;});}}</script>"
      ],
      "text/vnd.plotly.v1+html": [
       "<script>requirejs.config({paths: { 'plotly': ['https://cdn.plot.ly/plotly-latest.min']},});if(!window.Plotly) {{require(['plotly'],function(plotly) {window.Plotly=plotly;});}}</script>"
      ]
     },
     "metadata": {},
     "output_type": "display_data"
    },
    {
     "data": {
      "text/plain": [
       "<module 'myModule' from '/home/jiankong/jupyter/chart/bin/chart/myModule.py'>"
      ]
     },
     "execution_count": 15,
     "metadata": {},
     "output_type": "execute_result"
    }
   ],
   "source": [
    "import imp\n",
    "imp.reload(myModule)"
   ]
  },
  {
   "cell_type": "markdown",
   "metadata": {},
   "source": [
    "# 研发组人员情况"
   ]
  },
  {
   "cell_type": "code",
   "execution_count": 17,
   "metadata": {
    "collapsed": false,
    "scrolled": false
   },
   "outputs": [
    {
     "name": "stdout",
     "output_type": "stream",
     "text": [
      "['../../data/RD/仪表盘-研发组-10-5.xlsx', '../../data/RD/仪表盘-研发组-10-4.xlsx', '../../data/RD/仪表盘-研发组-10-2.xlsx', '../../data/RD/仪表盘-研发组-10-3.xlsx']\n"
     ]
    }
   ],
   "source": [
    "#路径末尾不能包含斜线\n",
    "pathway = \"../../data/RD/\"\n",
    "all_files , title = myModule.get_title(pathway , 0)##给路径\n",
    "all_files = [f for f in all_files if \"-9-\" not in f and \"-8-\" not in f]\n",
    "print(all_files)\n",
    "all_dict = myModule.read_xlsx(all_files, 0 ) ## 读取所有文件的sheet1\n",
    "#print(all_dict)"
   ]
  },
  {
   "cell_type": "markdown",
   "metadata": {
    "hide_input": true
   },
   "source": [
    "## 整体情况"
   ]
  },
  {
   "cell_type": "markdown",
   "metadata": {},
   "source": [
    "### 下单整体情况"
   ]
  },
  {
   "cell_type": "markdown",
   "metadata": {},
   "source": [
    "\n",
    "#### 总下单数和完成下单数\n"
   ]
  },
  {
   "cell_type": "code",
   "execution_count": 18,
   "metadata": {
    "collapsed": false
   },
   "outputs": [],
   "source": [
    "#all_dict"
   ]
  },
  {
   "cell_type": "markdown",
   "metadata": {
    "hide_input": true
   },
   "source": [
    "### 高质量报告整体情况"
   ]
  },
  {
   "cell_type": "markdown",
   "metadata": {},
   "source": [
    "#### 应交高质量报告数和提交高质量报告数"
   ]
  },
  {
   "cell_type": "code",
   "execution_count": 19,
   "metadata": {
    "collapsed": false
   },
   "outputs": [
    {
     "data": {
      "application/vnd.plotly.v1+json": {
       "data": [
        {
         "name": "应交高质量报告数",
         "type": "scatter",
         "uid": "fb0d12c4-e18b-11e8-8ddb-a41f72875c19",
         "x": [
          "10-2",
          "10-3",
          "10-4",
          "10-5"
         ],
         "y": [
          12,
          5,
          3,
          10
         ]
        },
        {
         "name": "提交高质量报告数",
         "type": "scatter",
         "uid": "fb0d12c5-e18b-11e8-8ddb-a41f72875c19",
         "x": [
          "10-2",
          "10-3",
          "10-4",
          "10-5"
         ],
         "y": [
          1,
          0,
          2,
          4
         ]
        }
       ],
       "layout": {
        "title": "应交高质量报告数&提交高质量报告数周趋势图",
        "xaxis": {
         "mirror": "all",
         "nticks": 20,
         "showgrid": true,
         "showline": true,
         "title": "周",
         "type": "category",
         "zeroline": true
        },
        "yaxis": {
         "mirror": "all",
         "nticks": 20,
         "showgrid": true,
         "showline": true,
         "title": "应交高质量报告数&提交高质量报告数",
         "zeroline": true
        }
       }
      },
      "text/html": [
       "<div id=\"dd2907e7-f4ff-4744-af3a-9eb301e7e053\" style=\"height: 525px; width: 100%;\" class=\"plotly-graph-div\"></div><script type=\"text/javascript\">require([\"plotly\"], function(Plotly) { window.PLOTLYENV=window.PLOTLYENV || {};window.PLOTLYENV.BASE_URL=\"https://plot.ly\";Plotly.newPlot(\"dd2907e7-f4ff-4744-af3a-9eb301e7e053\", [{\"name\": \"\\u5e94\\u4ea4\\u9ad8\\u8d28\\u91cf\\u62a5\\u544a\\u6570\", \"x\": [\"10-2\", \"10-3\", \"10-4\", \"10-5\"], \"y\": [12, 5, 3, 10], \"type\": \"scatter\", \"uid\": \"fb0d12c4-e18b-11e8-8ddb-a41f72875c19\"}, {\"name\": \"\\u63d0\\u4ea4\\u9ad8\\u8d28\\u91cf\\u62a5\\u544a\\u6570\", \"x\": [\"10-2\", \"10-3\", \"10-4\", \"10-5\"], \"y\": [1, 0, 2, 4], \"type\": \"scatter\", \"uid\": \"fb0d12c5-e18b-11e8-8ddb-a41f72875c19\"}], {\"title\": \"\\u5e94\\u4ea4\\u9ad8\\u8d28\\u91cf\\u62a5\\u544a\\u6570&\\u63d0\\u4ea4\\u9ad8\\u8d28\\u91cf\\u62a5\\u544a\\u6570\\u5468\\u8d8b\\u52bf\\u56fe\", \"xaxis\": {\"mirror\": \"all\", \"nticks\": 20, \"showgrid\": true, \"showline\": true, \"title\": \"\\u5468\", \"type\": \"category\", \"zeroline\": true}, \"yaxis\": {\"mirror\": \"all\", \"nticks\": 20, \"showgrid\": true, \"showline\": true, \"title\": \"\\u5e94\\u4ea4\\u9ad8\\u8d28\\u91cf\\u62a5\\u544a\\u6570&\\u63d0\\u4ea4\\u9ad8\\u8d28\\u91cf\\u62a5\\u544a\\u6570\", \"zeroline\": true}}, {\"showLink\": true, \"linkText\": \"Export to plot.ly\"})});</script>"
      ],
      "text/vnd.plotly.v1+html": [
       "<div id=\"dd2907e7-f4ff-4744-af3a-9eb301e7e053\" style=\"height: 525px; width: 100%;\" class=\"plotly-graph-div\"></div><script type=\"text/javascript\">require([\"plotly\"], function(Plotly) { window.PLOTLYENV=window.PLOTLYENV || {};window.PLOTLYENV.BASE_URL=\"https://plot.ly\";Plotly.newPlot(\"dd2907e7-f4ff-4744-af3a-9eb301e7e053\", [{\"name\": \"\\u5e94\\u4ea4\\u9ad8\\u8d28\\u91cf\\u62a5\\u544a\\u6570\", \"x\": [\"10-2\", \"10-3\", \"10-4\", \"10-5\"], \"y\": [12, 5, 3, 10], \"type\": \"scatter\", \"uid\": \"fb0d12c4-e18b-11e8-8ddb-a41f72875c19\"}, {\"name\": \"\\u63d0\\u4ea4\\u9ad8\\u8d28\\u91cf\\u62a5\\u544a\\u6570\", \"x\": [\"10-2\", \"10-3\", \"10-4\", \"10-5\"], \"y\": [1, 0, 2, 4], \"type\": \"scatter\", \"uid\": \"fb0d12c5-e18b-11e8-8ddb-a41f72875c19\"}], {\"title\": \"\\u5e94\\u4ea4\\u9ad8\\u8d28\\u91cf\\u62a5\\u544a\\u6570&\\u63d0\\u4ea4\\u9ad8\\u8d28\\u91cf\\u62a5\\u544a\\u6570\\u5468\\u8d8b\\u52bf\\u56fe\", \"xaxis\": {\"mirror\": \"all\", \"nticks\": 20, \"showgrid\": true, \"showline\": true, \"title\": \"\\u5468\", \"type\": \"category\", \"zeroline\": true}, \"yaxis\": {\"mirror\": \"all\", \"nticks\": 20, \"showgrid\": true, \"showline\": true, \"title\": \"\\u5e94\\u4ea4\\u9ad8\\u8d28\\u91cf\\u62a5\\u544a\\u6570&\\u63d0\\u4ea4\\u9ad8\\u8d28\\u91cf\\u62a5\\u544a\\u6570\", \"zeroline\": true}}, {\"showLink\": true, \"linkText\": \"Export to plot.ly\"})});</script>"
      ]
     },
     "metadata": {},
     "output_type": "display_data"
    }
   ],
   "source": [
    "ss=myModule.format(all_dict ,\"日期\" ,['应交高质量报告数','提交高质量报告数'])\n",
    "tt = myModule.myPlot(ss.groupby('sum'))\n",
    "tt.plot('line')"
   ]
  },
  {
   "cell_type": "markdown",
   "metadata": {
    "hide_input": true
   },
   "source": [
    "### 甘特图整体情况"
   ]
  },
  {
   "cell_type": "markdown",
   "metadata": {},
   "source": [
    "#### 延期项目数和暂停项目数"
   ]
  },
  {
   "cell_type": "code",
   "execution_count": 20,
   "metadata": {
    "collapsed": false
   },
   "outputs": [
    {
     "data": {
      "application/vnd.plotly.v1+json": {
       "data": [
        {
         "name": "延期项目数",
         "type": "scatter",
         "uid": "01839272-e18c-11e8-8ddb-a41f72875c19",
         "x": [
          "10-2",
          "10-3",
          "10-4",
          "10-5"
         ],
         "y": [
          2,
          5,
          13,
          15
         ]
        },
        {
         "name": "暂停项目数",
         "type": "scatter",
         "uid": "01839273-e18c-11e8-8ddb-a41f72875c19",
         "x": [
          "10-2",
          "10-3",
          "10-4",
          "10-5"
         ],
         "y": [
          0,
          0,
          0,
          7
         ]
        }
       ],
       "layout": {
        "title": "延期项目数&暂停项目数周趋势图",
        "xaxis": {
         "mirror": "all",
         "nticks": 20,
         "showgrid": true,
         "showline": true,
         "title": "周",
         "type": "category",
         "zeroline": true
        },
        "yaxis": {
         "mirror": "all",
         "nticks": 20,
         "showgrid": true,
         "showline": true,
         "title": "延期项目数&暂停项目数",
         "zeroline": true
        }
       }
      },
      "text/html": [
       "<div id=\"39531e40-b565-41d4-ab0c-dfa3f4808b4d\" style=\"height: 525px; width: 100%;\" class=\"plotly-graph-div\"></div><script type=\"text/javascript\">require([\"plotly\"], function(Plotly) { window.PLOTLYENV=window.PLOTLYENV || {};window.PLOTLYENV.BASE_URL=\"https://plot.ly\";Plotly.newPlot(\"39531e40-b565-41d4-ab0c-dfa3f4808b4d\", [{\"name\": \"\\u5ef6\\u671f\\u9879\\u76ee\\u6570\", \"x\": [\"10-2\", \"10-3\", \"10-4\", \"10-5\"], \"y\": [2, 5, 13, 15], \"type\": \"scatter\", \"uid\": \"01839272-e18c-11e8-8ddb-a41f72875c19\"}, {\"name\": \"\\u6682\\u505c\\u9879\\u76ee\\u6570\", \"x\": [\"10-2\", \"10-3\", \"10-4\", \"10-5\"], \"y\": [0, 0, 0, 7], \"type\": \"scatter\", \"uid\": \"01839273-e18c-11e8-8ddb-a41f72875c19\"}], {\"title\": \"\\u5ef6\\u671f\\u9879\\u76ee\\u6570&\\u6682\\u505c\\u9879\\u76ee\\u6570\\u5468\\u8d8b\\u52bf\\u56fe\", \"xaxis\": {\"mirror\": \"all\", \"nticks\": 20, \"showgrid\": true, \"showline\": true, \"title\": \"\\u5468\", \"type\": \"category\", \"zeroline\": true}, \"yaxis\": {\"mirror\": \"all\", \"nticks\": 20, \"showgrid\": true, \"showline\": true, \"title\": \"\\u5ef6\\u671f\\u9879\\u76ee\\u6570&\\u6682\\u505c\\u9879\\u76ee\\u6570\", \"zeroline\": true}}, {\"showLink\": true, \"linkText\": \"Export to plot.ly\"})});</script>"
      ],
      "text/vnd.plotly.v1+html": [
       "<div id=\"39531e40-b565-41d4-ab0c-dfa3f4808b4d\" style=\"height: 525px; width: 100%;\" class=\"plotly-graph-div\"></div><script type=\"text/javascript\">require([\"plotly\"], function(Plotly) { window.PLOTLYENV=window.PLOTLYENV || {};window.PLOTLYENV.BASE_URL=\"https://plot.ly\";Plotly.newPlot(\"39531e40-b565-41d4-ab0c-dfa3f4808b4d\", [{\"name\": \"\\u5ef6\\u671f\\u9879\\u76ee\\u6570\", \"x\": [\"10-2\", \"10-3\", \"10-4\", \"10-5\"], \"y\": [2, 5, 13, 15], \"type\": \"scatter\", \"uid\": \"01839272-e18c-11e8-8ddb-a41f72875c19\"}, {\"name\": \"\\u6682\\u505c\\u9879\\u76ee\\u6570\", \"x\": [\"10-2\", \"10-3\", \"10-4\", \"10-5\"], \"y\": [0, 0, 0, 7], \"type\": \"scatter\", \"uid\": \"01839273-e18c-11e8-8ddb-a41f72875c19\"}], {\"title\": \"\\u5ef6\\u671f\\u9879\\u76ee\\u6570&\\u6682\\u505c\\u9879\\u76ee\\u6570\\u5468\\u8d8b\\u52bf\\u56fe\", \"xaxis\": {\"mirror\": \"all\", \"nticks\": 20, \"showgrid\": true, \"showline\": true, \"title\": \"\\u5468\", \"type\": \"category\", \"zeroline\": true}, \"yaxis\": {\"mirror\": \"all\", \"nticks\": 20, \"showgrid\": true, \"showline\": true, \"title\": \"\\u5ef6\\u671f\\u9879\\u76ee\\u6570&\\u6682\\u505c\\u9879\\u76ee\\u6570\", \"zeroline\": true}}, {\"showLink\": true, \"linkText\": \"Export to plot.ly\"})});</script>"
      ]
     },
     "metadata": {},
     "output_type": "display_data"
    }
   ],
   "source": [
    "ss=myModule.format(all_dict ,\"日期\" ,[ '延期项目数', '暂停项目数'])\n",
    "tt = myModule.myPlot(ss.groupby('sum'))\n",
    "tt.plot('line')"
   ]
  },
  {
   "cell_type": "markdown",
   "metadata": {
    "hide_input": true
   },
   "source": [
    "### 个人成长指数整体情况"
   ]
  },
  {
   "cell_type": "markdown",
   "metadata": {},
   "source": [
    "#### 内部沟通、市场支持、出差和禅道bug"
   ]
  },
  {
   "cell_type": "code",
   "execution_count": 21,
   "metadata": {
    "collapsed": false
   },
   "outputs": [
    {
     "data": {
      "application/vnd.plotly.v1+json": {
       "data": [
        {
         "name": "内部沟通",
         "type": "scatter",
         "uid": "101702c4-e18c-11e8-8ddb-a41f72875c19",
         "x": [
          "10-2",
          "10-3",
          "10-4",
          "10-5"
         ],
         "y": [
          0,
          0,
          7,
          1
         ]
        },
        {
         "name": "禅道bug",
         "type": "scatter",
         "uid": "101702c5-e18c-11e8-8ddb-a41f72875c19",
         "x": [
          "10-2",
          "10-3",
          "10-4",
          "10-5"
         ],
         "y": [
          0,
          1,
          1,
          0
         ]
        },
        {
         "name": "市场支持",
         "type": "scatter",
         "uid": "101702c6-e18c-11e8-8ddb-a41f72875c19",
         "x": [
          "10-2",
          "10-3",
          "10-4",
          "10-5"
         ],
         "y": [
          0,
          5,
          0,
          0
         ]
        },
        {
         "name": "出差",
         "type": "scatter",
         "uid": "101702c7-e18c-11e8-8ddb-a41f72875c19",
         "x": [
          "10-2",
          "10-3",
          "10-4",
          "10-5"
         ],
         "y": [
          0,
          4,
          2,
          2
         ]
        }
       ],
       "layout": {
        "title": "内部沟通&禅道bug&市场支持&出差周趋势图",
        "xaxis": {
         "mirror": "all",
         "nticks": 20,
         "showgrid": true,
         "showline": true,
         "title": "周",
         "type": "category",
         "zeroline": true
        },
        "yaxis": {
         "mirror": "all",
         "nticks": 20,
         "showgrid": true,
         "showline": true,
         "title": "内部沟通&禅道bug&市场支持&出差",
         "zeroline": true
        }
       }
      },
      "text/html": [
       "<div id=\"8d9778bf-a74a-4a58-8603-76a1a8549224\" style=\"height: 525px; width: 100%;\" class=\"plotly-graph-div\"></div><script type=\"text/javascript\">require([\"plotly\"], function(Plotly) { window.PLOTLYENV=window.PLOTLYENV || {};window.PLOTLYENV.BASE_URL=\"https://plot.ly\";Plotly.newPlot(\"8d9778bf-a74a-4a58-8603-76a1a8549224\", [{\"name\": \"\\u5185\\u90e8\\u6c9f\\u901a\", \"x\": [\"10-2\", \"10-3\", \"10-4\", \"10-5\"], \"y\": [0.0, 0.0, 7.0, 1.0], \"type\": \"scatter\", \"uid\": \"101702c4-e18c-11e8-8ddb-a41f72875c19\"}, {\"name\": \"\\u7985\\u9053bug\", \"x\": [\"10-2\", \"10-3\", \"10-4\", \"10-5\"], \"y\": [0.0, 1.0, 1.0, 0.0], \"type\": \"scatter\", \"uid\": \"101702c5-e18c-11e8-8ddb-a41f72875c19\"}, {\"name\": \"\\u5e02\\u573a\\u652f\\u6301\", \"x\": [\"10-2\", \"10-3\", \"10-4\", \"10-5\"], \"y\": [0.0, 5.0, 0.0, 0.0], \"type\": \"scatter\", \"uid\": \"101702c6-e18c-11e8-8ddb-a41f72875c19\"}, {\"name\": \"\\u51fa\\u5dee\", \"x\": [\"10-2\", \"10-3\", \"10-4\", \"10-5\"], \"y\": [0.0, 4.0, 2.0, 2.0], \"type\": \"scatter\", \"uid\": \"101702c7-e18c-11e8-8ddb-a41f72875c19\"}], {\"title\": \"\\u5185\\u90e8\\u6c9f\\u901a&\\u7985\\u9053bug&\\u5e02\\u573a\\u652f\\u6301&\\u51fa\\u5dee\\u5468\\u8d8b\\u52bf\\u56fe\", \"xaxis\": {\"mirror\": \"all\", \"nticks\": 20, \"showgrid\": true, \"showline\": true, \"title\": \"\\u5468\", \"type\": \"category\", \"zeroline\": true}, \"yaxis\": {\"mirror\": \"all\", \"nticks\": 20, \"showgrid\": true, \"showline\": true, \"title\": \"\\u5185\\u90e8\\u6c9f\\u901a&\\u7985\\u9053bug&\\u5e02\\u573a\\u652f\\u6301&\\u51fa\\u5dee\", \"zeroline\": true}}, {\"showLink\": true, \"linkText\": \"Export to plot.ly\"})});</script>"
      ],
      "text/vnd.plotly.v1+html": [
       "<div id=\"8d9778bf-a74a-4a58-8603-76a1a8549224\" style=\"height: 525px; width: 100%;\" class=\"plotly-graph-div\"></div><script type=\"text/javascript\">require([\"plotly\"], function(Plotly) { window.PLOTLYENV=window.PLOTLYENV || {};window.PLOTLYENV.BASE_URL=\"https://plot.ly\";Plotly.newPlot(\"8d9778bf-a74a-4a58-8603-76a1a8549224\", [{\"name\": \"\\u5185\\u90e8\\u6c9f\\u901a\", \"x\": [\"10-2\", \"10-3\", \"10-4\", \"10-5\"], \"y\": [0.0, 0.0, 7.0, 1.0], \"type\": \"scatter\", \"uid\": \"101702c4-e18c-11e8-8ddb-a41f72875c19\"}, {\"name\": \"\\u7985\\u9053bug\", \"x\": [\"10-2\", \"10-3\", \"10-4\", \"10-5\"], \"y\": [0.0, 1.0, 1.0, 0.0], \"type\": \"scatter\", \"uid\": \"101702c5-e18c-11e8-8ddb-a41f72875c19\"}, {\"name\": \"\\u5e02\\u573a\\u652f\\u6301\", \"x\": [\"10-2\", \"10-3\", \"10-4\", \"10-5\"], \"y\": [0.0, 5.0, 0.0, 0.0], \"type\": \"scatter\", \"uid\": \"101702c6-e18c-11e8-8ddb-a41f72875c19\"}, {\"name\": \"\\u51fa\\u5dee\", \"x\": [\"10-2\", \"10-3\", \"10-4\", \"10-5\"], \"y\": [0.0, 4.0, 2.0, 2.0], \"type\": \"scatter\", \"uid\": \"101702c7-e18c-11e8-8ddb-a41f72875c19\"}], {\"title\": \"\\u5185\\u90e8\\u6c9f\\u901a&\\u7985\\u9053bug&\\u5e02\\u573a\\u652f\\u6301&\\u51fa\\u5dee\\u5468\\u8d8b\\u52bf\\u56fe\", \"xaxis\": {\"mirror\": \"all\", \"nticks\": 20, \"showgrid\": true, \"showline\": true, \"title\": \"\\u5468\", \"type\": \"category\", \"zeroline\": true}, \"yaxis\": {\"mirror\": \"all\", \"nticks\": 20, \"showgrid\": true, \"showline\": true, \"title\": \"\\u5185\\u90e8\\u6c9f\\u901a&\\u7985\\u9053bug&\\u5e02\\u573a\\u652f\\u6301&\\u51fa\\u5dee\", \"zeroline\": true}}, {\"showLink\": true, \"linkText\": \"Export to plot.ly\"})});</script>"
      ]
     },
     "metadata": {},
     "output_type": "display_data"
    }
   ],
   "source": [
    "ss=myModule.format(all_dict ,\"日期\" ,['内部沟通','市场支持', '出差', '禅道bug'])\n",
    "tt = myModule.myPlot(ss.groupby('sum'))\n",
    "tt.plot('line')"
   ]
  },
  {
   "cell_type": "markdown",
   "metadata": {
    "hide_input": true
   },
   "source": [
    "## 各组情况"
   ]
  },
  {
   "cell_type": "markdown",
   "metadata": {},
   "source": [
    "### 各组下单情况"
   ]
  },
  {
   "cell_type": "markdown",
   "metadata": {},
   "source": [
    "\n",
    "#### 各组总下单数和完成下单数\n"
   ]
  },
  {
   "cell_type": "code",
   "execution_count": 22,
   "metadata": {
    "collapsed": false
   },
   "outputs": [
    {
     "data": {
      "application/vnd.plotly.v1+json": {
       "data": [
        {
         "line": {
          "dash": "solid"
         },
         "name": "总下单数(转录调控组)",
         "type": "scatter",
         "uid": "14a8e262-e18c-11e8-8ddb-a41f72875c19",
         "x": [
          "10-2",
          "10-3",
          "10-4",
          "10-5"
         ],
         "y": [
          27,
          24,
          29,
          32
         ]
        },
        {
         "line": {
          "dash": "dot"
         },
         "name": "总下单数(义乌生信组)",
         "type": "scatter",
         "uid": "14a8e263-e18c-11e8-8ddb-a41f72875c19",
         "x": [
          "10-2",
          "10-3",
          "10-4",
          "10-5"
         ],
         "y": [
          null,
          null,
          4,
          7
         ]
        },
        {
         "line": {
          "dash": "dash"
         },
         "name": "总下单数(蛋白和医学组)",
         "type": "scatter",
         "uid": "14a8e264-e18c-11e8-8ddb-a41f72875c19",
         "x": [
          "10-2",
          "10-3",
          "10-4",
          "10-5"
         ],
         "y": [
          37,
          40,
          53,
          48
         ]
        },
        {
         "line": {
          "dash": "longdash"
         },
         "name": "总下单数(QC)",
         "type": "scatter",
         "uid": "14a8e265-e18c-11e8-8ddb-a41f72875c19",
         "x": [
          "10-2",
          "10-3",
          "10-4",
          "10-5"
         ],
         "y": [
          3,
          null,
          5,
          6
         ]
        },
        {
         "line": {
          "dash": "dashdot"
         },
         "name": "总下单数(分析组)",
         "type": "scatter",
         "uid": "14a8e266-e18c-11e8-8ddb-a41f72875c19",
         "x": [
          "10-2",
          "10-3",
          "10-4",
          "10-5"
         ],
         "y": [
          null,
          null,
          1,
          null
         ]
        },
        {
         "line": {
          "dash": "longdashdot"
         },
         "name": "总下单数(生物学DNA组)",
         "type": "scatter",
         "uid": "14a8e267-e18c-11e8-8ddb-a41f72875c19",
         "x": [
          "10-2",
          "10-3",
          "10-4",
          "10-5"
         ],
         "y": [
          43,
          42,
          35,
          40
         ]
        },
        {
         "line": {
          "dash": "solid"
         },
         "name": "完成下单数(转录调控组)",
         "type": "scatter",
         "uid": "14a8e268-e18c-11e8-8ddb-a41f72875c19",
         "x": [
          "10-2",
          "10-3",
          "10-4",
          "10-5"
         ],
         "y": [
          16,
          21,
          27,
          28
         ]
        },
        {
         "line": {
          "dash": "dot"
         },
         "name": "完成下单数(义乌生信组)",
         "type": "scatter",
         "uid": "14a8e269-e18c-11e8-8ddb-a41f72875c19",
         "x": [
          "10-2",
          "10-3",
          "10-4",
          "10-5"
         ],
         "y": [
          null,
          null,
          4,
          3
         ]
        },
        {
         "line": {
          "dash": "dash"
         },
         "name": "完成下单数(蛋白和医学组)",
         "type": "scatter",
         "uid": "14a8e26a-e18c-11e8-8ddb-a41f72875c19",
         "x": [
          "10-2",
          "10-3",
          "10-4",
          "10-5"
         ],
         "y": [
          37,
          35,
          50,
          37
         ]
        },
        {
         "line": {
          "dash": "longdash"
         },
         "name": "完成下单数(QC)",
         "type": "scatter",
         "uid": "14a8e26b-e18c-11e8-8ddb-a41f72875c19",
         "x": [
          "10-2",
          "10-3",
          "10-4",
          "10-5"
         ],
         "y": [
          3,
          null,
          4,
          5
         ]
        },
        {
         "line": {
          "dash": "dashdot"
         },
         "name": "完成下单数(分析组)",
         "type": "scatter",
         "uid": "14a8e26c-e18c-11e8-8ddb-a41f72875c19",
         "x": [
          "10-2",
          "10-3",
          "10-4",
          "10-5"
         ],
         "y": [
          null,
          null,
          0,
          null
         ]
        },
        {
         "line": {
          "dash": "longdashdot"
         },
         "name": "完成下单数(生物学DNA组)",
         "type": "scatter",
         "uid": "14a8e26d-e18c-11e8-8ddb-a41f72875c19",
         "x": [
          "10-2",
          "10-3",
          "10-4",
          "10-5"
         ],
         "y": [
          31,
          37,
          30,
          34
         ]
        }
       ],
       "layout": {
        "title": "总下单数&完成下单数周趋势图",
        "xaxis": {
         "mirror": "all",
         "nticks": 20,
         "showgrid": true,
         "showline": true,
         "title": "周",
         "type": "category",
         "zeroline": true
        },
        "yaxis": {
         "mirror": "all",
         "nticks": 20,
         "showgrid": true,
         "showline": true,
         "title": "总下单数&完成下单数",
         "zeroline": true
        }
       }
      },
      "text/html": [
       "<div id=\"497c02bb-d161-4bc7-9a6c-7959d94cef24\" style=\"height: 525px; width: 100%;\" class=\"plotly-graph-div\"></div><script type=\"text/javascript\">require([\"plotly\"], function(Plotly) { window.PLOTLYENV=window.PLOTLYENV || {};window.PLOTLYENV.BASE_URL=\"https://plot.ly\";Plotly.newPlot(\"497c02bb-d161-4bc7-9a6c-7959d94cef24\", [{\"line\": {\"dash\": \"solid\"}, \"name\": \"\\u603b\\u4e0b\\u5355\\u6570(\\u8f6c\\u5f55\\u8c03\\u63a7\\u7ec4)\", \"x\": [\"10-2\", \"10-3\", \"10-4\", \"10-5\"], \"y\": [27.0, 24.0, 29.0, 32.0], \"type\": \"scatter\", \"uid\": \"14a8e262-e18c-11e8-8ddb-a41f72875c19\"}, {\"line\": {\"dash\": \"dot\"}, \"name\": \"\\u603b\\u4e0b\\u5355\\u6570(\\u4e49\\u4e4c\\u751f\\u4fe1\\u7ec4)\", \"x\": [\"10-2\", \"10-3\", \"10-4\", \"10-5\"], \"y\": [null, null, 4.0, 7.0], \"type\": \"scatter\", \"uid\": \"14a8e263-e18c-11e8-8ddb-a41f72875c19\"}, {\"line\": {\"dash\": \"dash\"}, \"name\": \"\\u603b\\u4e0b\\u5355\\u6570(\\u86cb\\u767d\\u548c\\u533b\\u5b66\\u7ec4)\", \"x\": [\"10-2\", \"10-3\", \"10-4\", \"10-5\"], \"y\": [37.0, 40.0, 53.0, 48.0], \"type\": \"scatter\", \"uid\": \"14a8e264-e18c-11e8-8ddb-a41f72875c19\"}, {\"line\": {\"dash\": \"longdash\"}, \"name\": \"\\u603b\\u4e0b\\u5355\\u6570(QC)\", \"x\": [\"10-2\", \"10-3\", \"10-4\", \"10-5\"], \"y\": [3.0, null, 5.0, 6.0], \"type\": \"scatter\", \"uid\": \"14a8e265-e18c-11e8-8ddb-a41f72875c19\"}, {\"line\": {\"dash\": \"dashdot\"}, \"name\": \"\\u603b\\u4e0b\\u5355\\u6570(\\u5206\\u6790\\u7ec4)\", \"x\": [\"10-2\", \"10-3\", \"10-4\", \"10-5\"], \"y\": [null, null, 1.0, null], \"type\": \"scatter\", \"uid\": \"14a8e266-e18c-11e8-8ddb-a41f72875c19\"}, {\"line\": {\"dash\": \"longdashdot\"}, \"name\": \"\\u603b\\u4e0b\\u5355\\u6570(\\u751f\\u7269\\u5b66DNA\\u7ec4)\", \"x\": [\"10-2\", \"10-3\", \"10-4\", \"10-5\"], \"y\": [43.0, 42.0, 35.0, 40.0], \"type\": \"scatter\", \"uid\": \"14a8e267-e18c-11e8-8ddb-a41f72875c19\"}, {\"line\": {\"dash\": \"solid\"}, \"name\": \"\\u5b8c\\u6210\\u4e0b\\u5355\\u6570(\\u8f6c\\u5f55\\u8c03\\u63a7\\u7ec4)\", \"x\": [\"10-2\", \"10-3\", \"10-4\", \"10-5\"], \"y\": [16.0, 21.0, 27.0, 28.0], \"type\": \"scatter\", \"uid\": \"14a8e268-e18c-11e8-8ddb-a41f72875c19\"}, {\"line\": {\"dash\": \"dot\"}, \"name\": \"\\u5b8c\\u6210\\u4e0b\\u5355\\u6570(\\u4e49\\u4e4c\\u751f\\u4fe1\\u7ec4)\", \"x\": [\"10-2\", \"10-3\", \"10-4\", \"10-5\"], \"y\": [null, null, 4.0, 3.0], \"type\": \"scatter\", \"uid\": \"14a8e269-e18c-11e8-8ddb-a41f72875c19\"}, {\"line\": {\"dash\": \"dash\"}, \"name\": \"\\u5b8c\\u6210\\u4e0b\\u5355\\u6570(\\u86cb\\u767d\\u548c\\u533b\\u5b66\\u7ec4)\", \"x\": [\"10-2\", \"10-3\", \"10-4\", \"10-5\"], \"y\": [37.0, 35.0, 50.0, 37.0], \"type\": \"scatter\", \"uid\": \"14a8e26a-e18c-11e8-8ddb-a41f72875c19\"}, {\"line\": {\"dash\": \"longdash\"}, \"name\": \"\\u5b8c\\u6210\\u4e0b\\u5355\\u6570(QC)\", \"x\": [\"10-2\", \"10-3\", \"10-4\", \"10-5\"], \"y\": [3.0, null, 4.0, 5.0], \"type\": \"scatter\", \"uid\": \"14a8e26b-e18c-11e8-8ddb-a41f72875c19\"}, {\"line\": {\"dash\": \"dashdot\"}, \"name\": \"\\u5b8c\\u6210\\u4e0b\\u5355\\u6570(\\u5206\\u6790\\u7ec4)\", \"x\": [\"10-2\", \"10-3\", \"10-4\", \"10-5\"], \"y\": [null, null, 0.0, null], \"type\": \"scatter\", \"uid\": \"14a8e26c-e18c-11e8-8ddb-a41f72875c19\"}, {\"line\": {\"dash\": \"longdashdot\"}, \"name\": \"\\u5b8c\\u6210\\u4e0b\\u5355\\u6570(\\u751f\\u7269\\u5b66DNA\\u7ec4)\", \"x\": [\"10-2\", \"10-3\", \"10-4\", \"10-5\"], \"y\": [31.0, 37.0, 30.0, 34.0], \"type\": \"scatter\", \"uid\": \"14a8e26d-e18c-11e8-8ddb-a41f72875c19\"}], {\"title\": \"\\u603b\\u4e0b\\u5355\\u6570&\\u5b8c\\u6210\\u4e0b\\u5355\\u6570\\u5468\\u8d8b\\u52bf\\u56fe\", \"xaxis\": {\"mirror\": \"all\", \"nticks\": 20, \"showgrid\": true, \"showline\": true, \"title\": \"\\u5468\", \"type\": \"category\", \"zeroline\": true}, \"yaxis\": {\"mirror\": \"all\", \"nticks\": 20, \"showgrid\": true, \"showline\": true, \"title\": \"\\u603b\\u4e0b\\u5355\\u6570&\\u5b8c\\u6210\\u4e0b\\u5355\\u6570\", \"zeroline\": true}}, {\"showLink\": true, \"linkText\": \"Export to plot.ly\"})});</script>"
      ],
      "text/vnd.plotly.v1+html": [
       "<div id=\"497c02bb-d161-4bc7-9a6c-7959d94cef24\" style=\"height: 525px; width: 100%;\" class=\"plotly-graph-div\"></div><script type=\"text/javascript\">require([\"plotly\"], function(Plotly) { window.PLOTLYENV=window.PLOTLYENV || {};window.PLOTLYENV.BASE_URL=\"https://plot.ly\";Plotly.newPlot(\"497c02bb-d161-4bc7-9a6c-7959d94cef24\", [{\"line\": {\"dash\": \"solid\"}, \"name\": \"\\u603b\\u4e0b\\u5355\\u6570(\\u8f6c\\u5f55\\u8c03\\u63a7\\u7ec4)\", \"x\": [\"10-2\", \"10-3\", \"10-4\", \"10-5\"], \"y\": [27.0, 24.0, 29.0, 32.0], \"type\": \"scatter\", \"uid\": \"14a8e262-e18c-11e8-8ddb-a41f72875c19\"}, {\"line\": {\"dash\": \"dot\"}, \"name\": \"\\u603b\\u4e0b\\u5355\\u6570(\\u4e49\\u4e4c\\u751f\\u4fe1\\u7ec4)\", \"x\": [\"10-2\", \"10-3\", \"10-4\", \"10-5\"], \"y\": [null, null, 4.0, 7.0], \"type\": \"scatter\", \"uid\": \"14a8e263-e18c-11e8-8ddb-a41f72875c19\"}, {\"line\": {\"dash\": \"dash\"}, \"name\": \"\\u603b\\u4e0b\\u5355\\u6570(\\u86cb\\u767d\\u548c\\u533b\\u5b66\\u7ec4)\", \"x\": [\"10-2\", \"10-3\", \"10-4\", \"10-5\"], \"y\": [37.0, 40.0, 53.0, 48.0], \"type\": \"scatter\", \"uid\": \"14a8e264-e18c-11e8-8ddb-a41f72875c19\"}, {\"line\": {\"dash\": \"longdash\"}, \"name\": \"\\u603b\\u4e0b\\u5355\\u6570(QC)\", \"x\": [\"10-2\", \"10-3\", \"10-4\", \"10-5\"], \"y\": [3.0, null, 5.0, 6.0], \"type\": \"scatter\", \"uid\": \"14a8e265-e18c-11e8-8ddb-a41f72875c19\"}, {\"line\": {\"dash\": \"dashdot\"}, \"name\": \"\\u603b\\u4e0b\\u5355\\u6570(\\u5206\\u6790\\u7ec4)\", \"x\": [\"10-2\", \"10-3\", \"10-4\", \"10-5\"], \"y\": [null, null, 1.0, null], \"type\": \"scatter\", \"uid\": \"14a8e266-e18c-11e8-8ddb-a41f72875c19\"}, {\"line\": {\"dash\": \"longdashdot\"}, \"name\": \"\\u603b\\u4e0b\\u5355\\u6570(\\u751f\\u7269\\u5b66DNA\\u7ec4)\", \"x\": [\"10-2\", \"10-3\", \"10-4\", \"10-5\"], \"y\": [43.0, 42.0, 35.0, 40.0], \"type\": \"scatter\", \"uid\": \"14a8e267-e18c-11e8-8ddb-a41f72875c19\"}, {\"line\": {\"dash\": \"solid\"}, \"name\": \"\\u5b8c\\u6210\\u4e0b\\u5355\\u6570(\\u8f6c\\u5f55\\u8c03\\u63a7\\u7ec4)\", \"x\": [\"10-2\", \"10-3\", \"10-4\", \"10-5\"], \"y\": [16.0, 21.0, 27.0, 28.0], \"type\": \"scatter\", \"uid\": \"14a8e268-e18c-11e8-8ddb-a41f72875c19\"}, {\"line\": {\"dash\": \"dot\"}, \"name\": \"\\u5b8c\\u6210\\u4e0b\\u5355\\u6570(\\u4e49\\u4e4c\\u751f\\u4fe1\\u7ec4)\", \"x\": [\"10-2\", \"10-3\", \"10-4\", \"10-5\"], \"y\": [null, null, 4.0, 3.0], \"type\": \"scatter\", \"uid\": \"14a8e269-e18c-11e8-8ddb-a41f72875c19\"}, {\"line\": {\"dash\": \"dash\"}, \"name\": \"\\u5b8c\\u6210\\u4e0b\\u5355\\u6570(\\u86cb\\u767d\\u548c\\u533b\\u5b66\\u7ec4)\", \"x\": [\"10-2\", \"10-3\", \"10-4\", \"10-5\"], \"y\": [37.0, 35.0, 50.0, 37.0], \"type\": \"scatter\", \"uid\": \"14a8e26a-e18c-11e8-8ddb-a41f72875c19\"}, {\"line\": {\"dash\": \"longdash\"}, \"name\": \"\\u5b8c\\u6210\\u4e0b\\u5355\\u6570(QC)\", \"x\": [\"10-2\", \"10-3\", \"10-4\", \"10-5\"], \"y\": [3.0, null, 4.0, 5.0], \"type\": \"scatter\", \"uid\": \"14a8e26b-e18c-11e8-8ddb-a41f72875c19\"}, {\"line\": {\"dash\": \"dashdot\"}, \"name\": \"\\u5b8c\\u6210\\u4e0b\\u5355\\u6570(\\u5206\\u6790\\u7ec4)\", \"x\": [\"10-2\", \"10-3\", \"10-4\", \"10-5\"], \"y\": [null, null, 0.0, null], \"type\": \"scatter\", \"uid\": \"14a8e26c-e18c-11e8-8ddb-a41f72875c19\"}, {\"line\": {\"dash\": \"longdashdot\"}, \"name\": \"\\u5b8c\\u6210\\u4e0b\\u5355\\u6570(\\u751f\\u7269\\u5b66DNA\\u7ec4)\", \"x\": [\"10-2\", \"10-3\", \"10-4\", \"10-5\"], \"y\": [31.0, 37.0, 30.0, 34.0], \"type\": \"scatter\", \"uid\": \"14a8e26d-e18c-11e8-8ddb-a41f72875c19\"}], {\"title\": \"\\u603b\\u4e0b\\u5355\\u6570&\\u5b8c\\u6210\\u4e0b\\u5355\\u6570\\u5468\\u8d8b\\u52bf\\u56fe\", \"xaxis\": {\"mirror\": \"all\", \"nticks\": 20, \"showgrid\": true, \"showline\": true, \"title\": \"\\u5468\", \"type\": \"category\", \"zeroline\": true}, \"yaxis\": {\"mirror\": \"all\", \"nticks\": 20, \"showgrid\": true, \"showline\": true, \"title\": \"\\u603b\\u4e0b\\u5355\\u6570&\\u5b8c\\u6210\\u4e0b\\u5355\\u6570\", \"zeroline\": true}}, {\"showLink\": true, \"linkText\": \"Export to plot.ly\"})});</script>"
      ]
     },
     "metadata": {},
     "output_type": "display_data"
    }
   ],
   "source": [
    "ss=myModule.format(all_dict ,\"日期\" ,['总下单数', '完成下单数'])\n",
    "ss.add_group('组别')\n",
    "tt = myModule.myPlot(ss.groupby('sum'))\n",
    "tt.plot('line')"
   ]
  },
  {
   "cell_type": "markdown",
   "metadata": {
    "hide_input": true
   },
   "source": [
    "### 各组高质量报告"
   ]
  },
  {
   "cell_type": "markdown",
   "metadata": {},
   "source": [
    "#### 各组应交高质量报告数和提交高质量报告数"
   ]
  },
  {
   "cell_type": "code",
   "execution_count": 20,
   "metadata": {
    "collapsed": false
   },
   "outputs": [
    {
     "data": {
      "application/vnd.plotly.v1+json": {
       "data": [
        {
         "line": {
          "dash": "solid"
         },
         "name": "应交高质量报告数(转录调控组)",
         "type": "scatter",
         "uid": "bc8b4636-e18a-11e8-8ddb-a41f72875c19",
         "x": [
          "10-2",
          "10-3",
          "10-4"
         ],
         "y": [
          3,
          3,
          0
         ]
        },
        {
         "line": {
          "dash": "dot"
         },
         "name": "应交高质量报告数(生物学DNA组)",
         "type": "scatter",
         "uid": "bc8b4637-e18a-11e8-8ddb-a41f72875c19",
         "x": [
          "10-2",
          "10-3",
          "10-4"
         ],
         "y": [
          6,
          2,
          1
         ]
        },
        {
         "line": {
          "dash": "dash"
         },
         "name": "应交高质量报告数(义乌生信组)",
         "type": "scatter",
         "uid": "bc8b4638-e18a-11e8-8ddb-a41f72875c19",
         "x": [
          "10-2",
          "10-3",
          "10-4"
         ],
         "y": [
          null,
          null,
          2
         ]
        },
        {
         "line": {
          "dash": "longdash"
         },
         "name": "应交高质量报告数(分析组)",
         "type": "scatter",
         "uid": "bc8b4639-e18a-11e8-8ddb-a41f72875c19",
         "x": [
          "10-2",
          "10-3",
          "10-4"
         ],
         "y": [
          null,
          null,
          0
         ]
        },
        {
         "line": {
          "dash": "dashdot"
         },
         "name": "应交高质量报告数(蛋白和医学组)",
         "type": "scatter",
         "uid": "bc8b463a-e18a-11e8-8ddb-a41f72875c19",
         "x": [
          "10-2",
          "10-3",
          "10-4"
         ],
         "y": [
          3,
          0,
          0
         ]
        },
        {
         "line": {
          "dash": "longdashdot"
         },
         "name": "应交高质量报告数(QC)",
         "type": "scatter",
         "uid": "bc8b463b-e18a-11e8-8ddb-a41f72875c19",
         "x": [
          "10-2",
          "10-3",
          "10-4"
         ],
         "y": [
          0,
          null,
          0
         ]
        },
        {
         "line": {
          "dash": "solid"
         },
         "name": "提交高质量报告数(转录调控组)",
         "type": "scatter",
         "uid": "bc8b463c-e18a-11e8-8ddb-a41f72875c19",
         "x": [
          "10-2",
          "10-3",
          "10-4"
         ],
         "y": [
          0,
          0,
          0
         ]
        },
        {
         "line": {
          "dash": "dot"
         },
         "name": "提交高质量报告数(生物学DNA组)",
         "type": "scatter",
         "uid": "bc8b463d-e18a-11e8-8ddb-a41f72875c19",
         "x": [
          "10-2",
          "10-3",
          "10-4"
         ],
         "y": [
          0,
          0,
          1
         ]
        },
        {
         "line": {
          "dash": "dash"
         },
         "name": "提交高质量报告数(义乌生信组)",
         "type": "scatter",
         "uid": "bc8b463e-e18a-11e8-8ddb-a41f72875c19",
         "x": [
          "10-2",
          "10-3",
          "10-4"
         ],
         "y": [
          null,
          null,
          1
         ]
        },
        {
         "line": {
          "dash": "longdash"
         },
         "name": "提交高质量报告数(分析组)",
         "type": "scatter",
         "uid": "bc8b463f-e18a-11e8-8ddb-a41f72875c19",
         "x": [
          "10-2",
          "10-3",
          "10-4"
         ],
         "y": [
          null,
          null,
          0
         ]
        },
        {
         "line": {
          "dash": "dashdot"
         },
         "name": "提交高质量报告数(蛋白和医学组)",
         "type": "scatter",
         "uid": "bc8b4640-e18a-11e8-8ddb-a41f72875c19",
         "x": [
          "10-2",
          "10-3",
          "10-4"
         ],
         "y": [
          1,
          0,
          0
         ]
        },
        {
         "line": {
          "dash": "longdashdot"
         },
         "name": "提交高质量报告数(QC)",
         "type": "scatter",
         "uid": "bc8b4641-e18a-11e8-8ddb-a41f72875c19",
         "x": [
          "10-2",
          "10-3",
          "10-4"
         ],
         "y": [
          0,
          null,
          0
         ]
        }
       ],
       "layout": {
        "title": "应交高质量报告数&提交高质量报告数周趋势图",
        "xaxis": {
         "mirror": "all",
         "nticks": 20,
         "showgrid": true,
         "showline": true,
         "title": "周",
         "type": "category",
         "zeroline": true
        },
        "yaxis": {
         "mirror": "all",
         "nticks": 20,
         "showgrid": true,
         "showline": true,
         "title": "应交高质量报告数&提交高质量报告数",
         "zeroline": true
        }
       }
      },
      "text/html": [
       "<div id=\"264acc49-166e-40f6-a575-fe9f84652e98\" style=\"height: 525px; width: 100%;\" class=\"plotly-graph-div\"></div><script type=\"text/javascript\">require([\"plotly\"], function(Plotly) { window.PLOTLYENV=window.PLOTLYENV || {};window.PLOTLYENV.BASE_URL=\"https://plot.ly\";Plotly.newPlot(\"264acc49-166e-40f6-a575-fe9f84652e98\", [{\"line\": {\"dash\": \"solid\"}, \"name\": \"\\u5e94\\u4ea4\\u9ad8\\u8d28\\u91cf\\u62a5\\u544a\\u6570(\\u8f6c\\u5f55\\u8c03\\u63a7\\u7ec4)\", \"x\": [\"10-2\", \"10-3\", \"10-4\"], \"y\": [3.0, 3.0, 0.0], \"type\": \"scatter\", \"uid\": \"bc8b4636-e18a-11e8-8ddb-a41f72875c19\"}, {\"line\": {\"dash\": \"dot\"}, \"name\": \"\\u5e94\\u4ea4\\u9ad8\\u8d28\\u91cf\\u62a5\\u544a\\u6570(\\u751f\\u7269\\u5b66DNA\\u7ec4)\", \"x\": [\"10-2\", \"10-3\", \"10-4\"], \"y\": [6.0, 2.0, 1.0], \"type\": \"scatter\", \"uid\": \"bc8b4637-e18a-11e8-8ddb-a41f72875c19\"}, {\"line\": {\"dash\": \"dash\"}, \"name\": \"\\u5e94\\u4ea4\\u9ad8\\u8d28\\u91cf\\u62a5\\u544a\\u6570(\\u4e49\\u4e4c\\u751f\\u4fe1\\u7ec4)\", \"x\": [\"10-2\", \"10-3\", \"10-4\"], \"y\": [null, null, 2.0], \"type\": \"scatter\", \"uid\": \"bc8b4638-e18a-11e8-8ddb-a41f72875c19\"}, {\"line\": {\"dash\": \"longdash\"}, \"name\": \"\\u5e94\\u4ea4\\u9ad8\\u8d28\\u91cf\\u62a5\\u544a\\u6570(\\u5206\\u6790\\u7ec4)\", \"x\": [\"10-2\", \"10-3\", \"10-4\"], \"y\": [null, null, 0.0], \"type\": \"scatter\", \"uid\": \"bc8b4639-e18a-11e8-8ddb-a41f72875c19\"}, {\"line\": {\"dash\": \"dashdot\"}, \"name\": \"\\u5e94\\u4ea4\\u9ad8\\u8d28\\u91cf\\u62a5\\u544a\\u6570(\\u86cb\\u767d\\u548c\\u533b\\u5b66\\u7ec4)\", \"x\": [\"10-2\", \"10-3\", \"10-4\"], \"y\": [3.0, 0.0, 0.0], \"type\": \"scatter\", \"uid\": \"bc8b463a-e18a-11e8-8ddb-a41f72875c19\"}, {\"line\": {\"dash\": \"longdashdot\"}, \"name\": \"\\u5e94\\u4ea4\\u9ad8\\u8d28\\u91cf\\u62a5\\u544a\\u6570(QC)\", \"x\": [\"10-2\", \"10-3\", \"10-4\"], \"y\": [0.0, null, 0.0], \"type\": \"scatter\", \"uid\": \"bc8b463b-e18a-11e8-8ddb-a41f72875c19\"}, {\"line\": {\"dash\": \"solid\"}, \"name\": \"\\u63d0\\u4ea4\\u9ad8\\u8d28\\u91cf\\u62a5\\u544a\\u6570(\\u8f6c\\u5f55\\u8c03\\u63a7\\u7ec4)\", \"x\": [\"10-2\", \"10-3\", \"10-4\"], \"y\": [0.0, 0.0, 0.0], \"type\": \"scatter\", \"uid\": \"bc8b463c-e18a-11e8-8ddb-a41f72875c19\"}, {\"line\": {\"dash\": \"dot\"}, \"name\": \"\\u63d0\\u4ea4\\u9ad8\\u8d28\\u91cf\\u62a5\\u544a\\u6570(\\u751f\\u7269\\u5b66DNA\\u7ec4)\", \"x\": [\"10-2\", \"10-3\", \"10-4\"], \"y\": [0.0, 0.0, 1.0], \"type\": \"scatter\", \"uid\": \"bc8b463d-e18a-11e8-8ddb-a41f72875c19\"}, {\"line\": {\"dash\": \"dash\"}, \"name\": \"\\u63d0\\u4ea4\\u9ad8\\u8d28\\u91cf\\u62a5\\u544a\\u6570(\\u4e49\\u4e4c\\u751f\\u4fe1\\u7ec4)\", \"x\": [\"10-2\", \"10-3\", \"10-4\"], \"y\": [null, null, 1.0], \"type\": \"scatter\", \"uid\": \"bc8b463e-e18a-11e8-8ddb-a41f72875c19\"}, {\"line\": {\"dash\": \"longdash\"}, \"name\": \"\\u63d0\\u4ea4\\u9ad8\\u8d28\\u91cf\\u62a5\\u544a\\u6570(\\u5206\\u6790\\u7ec4)\", \"x\": [\"10-2\", \"10-3\", \"10-4\"], \"y\": [null, null, 0.0], \"type\": \"scatter\", \"uid\": \"bc8b463f-e18a-11e8-8ddb-a41f72875c19\"}, {\"line\": {\"dash\": \"dashdot\"}, \"name\": \"\\u63d0\\u4ea4\\u9ad8\\u8d28\\u91cf\\u62a5\\u544a\\u6570(\\u86cb\\u767d\\u548c\\u533b\\u5b66\\u7ec4)\", \"x\": [\"10-2\", \"10-3\", \"10-4\"], \"y\": [1.0, 0.0, 0.0], \"type\": \"scatter\", \"uid\": \"bc8b4640-e18a-11e8-8ddb-a41f72875c19\"}, {\"line\": {\"dash\": \"longdashdot\"}, \"name\": \"\\u63d0\\u4ea4\\u9ad8\\u8d28\\u91cf\\u62a5\\u544a\\u6570(QC)\", \"x\": [\"10-2\", \"10-3\", \"10-4\"], \"y\": [0.0, null, 0.0], \"type\": \"scatter\", \"uid\": \"bc8b4641-e18a-11e8-8ddb-a41f72875c19\"}], {\"title\": \"\\u5e94\\u4ea4\\u9ad8\\u8d28\\u91cf\\u62a5\\u544a\\u6570&\\u63d0\\u4ea4\\u9ad8\\u8d28\\u91cf\\u62a5\\u544a\\u6570\\u5468\\u8d8b\\u52bf\\u56fe\", \"xaxis\": {\"mirror\": \"all\", \"nticks\": 20, \"showgrid\": true, \"showline\": true, \"title\": \"\\u5468\", \"type\": \"category\", \"zeroline\": true}, \"yaxis\": {\"mirror\": \"all\", \"nticks\": 20, \"showgrid\": true, \"showline\": true, \"title\": \"\\u5e94\\u4ea4\\u9ad8\\u8d28\\u91cf\\u62a5\\u544a\\u6570&\\u63d0\\u4ea4\\u9ad8\\u8d28\\u91cf\\u62a5\\u544a\\u6570\", \"zeroline\": true}}, {\"showLink\": true, \"linkText\": \"Export to plot.ly\"})});</script>"
      ],
      "text/vnd.plotly.v1+html": [
       "<div id=\"264acc49-166e-40f6-a575-fe9f84652e98\" style=\"height: 525px; width: 100%;\" class=\"plotly-graph-div\"></div><script type=\"text/javascript\">require([\"plotly\"], function(Plotly) { window.PLOTLYENV=window.PLOTLYENV || {};window.PLOTLYENV.BASE_URL=\"https://plot.ly\";Plotly.newPlot(\"264acc49-166e-40f6-a575-fe9f84652e98\", [{\"line\": {\"dash\": \"solid\"}, \"name\": \"\\u5e94\\u4ea4\\u9ad8\\u8d28\\u91cf\\u62a5\\u544a\\u6570(\\u8f6c\\u5f55\\u8c03\\u63a7\\u7ec4)\", \"x\": [\"10-2\", \"10-3\", \"10-4\"], \"y\": [3.0, 3.0, 0.0], \"type\": \"scatter\", \"uid\": \"bc8b4636-e18a-11e8-8ddb-a41f72875c19\"}, {\"line\": {\"dash\": \"dot\"}, \"name\": \"\\u5e94\\u4ea4\\u9ad8\\u8d28\\u91cf\\u62a5\\u544a\\u6570(\\u751f\\u7269\\u5b66DNA\\u7ec4)\", \"x\": [\"10-2\", \"10-3\", \"10-4\"], \"y\": [6.0, 2.0, 1.0], \"type\": \"scatter\", \"uid\": \"bc8b4637-e18a-11e8-8ddb-a41f72875c19\"}, {\"line\": {\"dash\": \"dash\"}, \"name\": \"\\u5e94\\u4ea4\\u9ad8\\u8d28\\u91cf\\u62a5\\u544a\\u6570(\\u4e49\\u4e4c\\u751f\\u4fe1\\u7ec4)\", \"x\": [\"10-2\", \"10-3\", \"10-4\"], \"y\": [null, null, 2.0], \"type\": \"scatter\", \"uid\": \"bc8b4638-e18a-11e8-8ddb-a41f72875c19\"}, {\"line\": {\"dash\": \"longdash\"}, \"name\": \"\\u5e94\\u4ea4\\u9ad8\\u8d28\\u91cf\\u62a5\\u544a\\u6570(\\u5206\\u6790\\u7ec4)\", \"x\": [\"10-2\", \"10-3\", \"10-4\"], \"y\": [null, null, 0.0], \"type\": \"scatter\", \"uid\": \"bc8b4639-e18a-11e8-8ddb-a41f72875c19\"}, {\"line\": {\"dash\": \"dashdot\"}, \"name\": \"\\u5e94\\u4ea4\\u9ad8\\u8d28\\u91cf\\u62a5\\u544a\\u6570(\\u86cb\\u767d\\u548c\\u533b\\u5b66\\u7ec4)\", \"x\": [\"10-2\", \"10-3\", \"10-4\"], \"y\": [3.0, 0.0, 0.0], \"type\": \"scatter\", \"uid\": \"bc8b463a-e18a-11e8-8ddb-a41f72875c19\"}, {\"line\": {\"dash\": \"longdashdot\"}, \"name\": \"\\u5e94\\u4ea4\\u9ad8\\u8d28\\u91cf\\u62a5\\u544a\\u6570(QC)\", \"x\": [\"10-2\", \"10-3\", \"10-4\"], \"y\": [0.0, null, 0.0], \"type\": \"scatter\", \"uid\": \"bc8b463b-e18a-11e8-8ddb-a41f72875c19\"}, {\"line\": {\"dash\": \"solid\"}, \"name\": \"\\u63d0\\u4ea4\\u9ad8\\u8d28\\u91cf\\u62a5\\u544a\\u6570(\\u8f6c\\u5f55\\u8c03\\u63a7\\u7ec4)\", \"x\": [\"10-2\", \"10-3\", \"10-4\"], \"y\": [0.0, 0.0, 0.0], \"type\": \"scatter\", \"uid\": \"bc8b463c-e18a-11e8-8ddb-a41f72875c19\"}, {\"line\": {\"dash\": \"dot\"}, \"name\": \"\\u63d0\\u4ea4\\u9ad8\\u8d28\\u91cf\\u62a5\\u544a\\u6570(\\u751f\\u7269\\u5b66DNA\\u7ec4)\", \"x\": [\"10-2\", \"10-3\", \"10-4\"], \"y\": [0.0, 0.0, 1.0], \"type\": \"scatter\", \"uid\": \"bc8b463d-e18a-11e8-8ddb-a41f72875c19\"}, {\"line\": {\"dash\": \"dash\"}, \"name\": \"\\u63d0\\u4ea4\\u9ad8\\u8d28\\u91cf\\u62a5\\u544a\\u6570(\\u4e49\\u4e4c\\u751f\\u4fe1\\u7ec4)\", \"x\": [\"10-2\", \"10-3\", \"10-4\"], \"y\": [null, null, 1.0], \"type\": \"scatter\", \"uid\": \"bc8b463e-e18a-11e8-8ddb-a41f72875c19\"}, {\"line\": {\"dash\": \"longdash\"}, \"name\": \"\\u63d0\\u4ea4\\u9ad8\\u8d28\\u91cf\\u62a5\\u544a\\u6570(\\u5206\\u6790\\u7ec4)\", \"x\": [\"10-2\", \"10-3\", \"10-4\"], \"y\": [null, null, 0.0], \"type\": \"scatter\", \"uid\": \"bc8b463f-e18a-11e8-8ddb-a41f72875c19\"}, {\"line\": {\"dash\": \"dashdot\"}, \"name\": \"\\u63d0\\u4ea4\\u9ad8\\u8d28\\u91cf\\u62a5\\u544a\\u6570(\\u86cb\\u767d\\u548c\\u533b\\u5b66\\u7ec4)\", \"x\": [\"10-2\", \"10-3\", \"10-4\"], \"y\": [1.0, 0.0, 0.0], \"type\": \"scatter\", \"uid\": \"bc8b4640-e18a-11e8-8ddb-a41f72875c19\"}, {\"line\": {\"dash\": \"longdashdot\"}, \"name\": \"\\u63d0\\u4ea4\\u9ad8\\u8d28\\u91cf\\u62a5\\u544a\\u6570(QC)\", \"x\": [\"10-2\", \"10-3\", \"10-4\"], \"y\": [0.0, null, 0.0], \"type\": \"scatter\", \"uid\": \"bc8b4641-e18a-11e8-8ddb-a41f72875c19\"}], {\"title\": \"\\u5e94\\u4ea4\\u9ad8\\u8d28\\u91cf\\u62a5\\u544a\\u6570&\\u63d0\\u4ea4\\u9ad8\\u8d28\\u91cf\\u62a5\\u544a\\u6570\\u5468\\u8d8b\\u52bf\\u56fe\", \"xaxis\": {\"mirror\": \"all\", \"nticks\": 20, \"showgrid\": true, \"showline\": true, \"title\": \"\\u5468\", \"type\": \"category\", \"zeroline\": true}, \"yaxis\": {\"mirror\": \"all\", \"nticks\": 20, \"showgrid\": true, \"showline\": true, \"title\": \"\\u5e94\\u4ea4\\u9ad8\\u8d28\\u91cf\\u62a5\\u544a\\u6570&\\u63d0\\u4ea4\\u9ad8\\u8d28\\u91cf\\u62a5\\u544a\\u6570\", \"zeroline\": true}}, {\"showLink\": true, \"linkText\": \"Export to plot.ly\"})});</script>"
      ]
     },
     "metadata": {},
     "output_type": "display_data"
    }
   ],
   "source": [
    "ss=myModule.format(all_dict ,\"日期\" ,['应交高质量报告数', '提交高质量报告数'])\n",
    "ss.add_group('组别')\n",
    "tt = myModule.myPlot(ss.groupby('sum'))\n",
    "tt.plot('line')"
   ]
  },
  {
   "cell_type": "markdown",
   "metadata": {
    "hide_input": true
   },
   "source": [
    "### 各组甘特图情况"
   ]
  },
  {
   "cell_type": "markdown",
   "metadata": {},
   "source": [
    "#### 各组延期项目数和暂停项目数"
   ]
  },
  {
   "cell_type": "code",
   "execution_count": 21,
   "metadata": {
    "collapsed": false
   },
   "outputs": [
    {
     "data": {
      "application/vnd.plotly.v1+json": {
       "data": [
        {
         "line": {
          "dash": "solid"
         },
         "name": "暂停项目数(转录调控组)",
         "type": "scatter",
         "uid": "bc8b4642-e18a-11e8-8ddb-a41f72875c19",
         "x": [
          "10-2",
          "10-3",
          "10-4"
         ],
         "y": [
          0,
          0,
          0
         ]
        },
        {
         "line": {
          "dash": "dot"
         },
         "name": "暂停项目数(生物学DNA组)",
         "type": "scatter",
         "uid": "bc8b4643-e18a-11e8-8ddb-a41f72875c19",
         "x": [
          "10-2",
          "10-3",
          "10-4"
         ],
         "y": [
          0,
          0,
          0
         ]
        },
        {
         "line": {
          "dash": "dash"
         },
         "name": "暂停项目数(义乌生信组)",
         "type": "scatter",
         "uid": "bc8b4644-e18a-11e8-8ddb-a41f72875c19",
         "x": [
          "10-2",
          "10-3",
          "10-4"
         ],
         "y": [
          null,
          null,
          0
         ]
        },
        {
         "line": {
          "dash": "longdash"
         },
         "name": "暂停项目数(分析组)",
         "type": "scatter",
         "uid": "bc8b4645-e18a-11e8-8ddb-a41f72875c19",
         "x": [
          "10-2",
          "10-3",
          "10-4"
         ],
         "y": [
          null,
          null,
          0
         ]
        },
        {
         "line": {
          "dash": "dashdot"
         },
         "name": "暂停项目数(蛋白和医学组)",
         "type": "scatter",
         "uid": "bc8b4646-e18a-11e8-8ddb-a41f72875c19",
         "x": [
          "10-2",
          "10-3",
          "10-4"
         ],
         "y": [
          0,
          0,
          0
         ]
        },
        {
         "line": {
          "dash": "longdashdot"
         },
         "name": "暂停项目数(QC)",
         "type": "scatter",
         "uid": "bc8b4647-e18a-11e8-8ddb-a41f72875c19",
         "x": [
          "10-2",
          "10-3",
          "10-4"
         ],
         "y": [
          0,
          null,
          0
         ]
        },
        {
         "line": {
          "dash": "solid"
         },
         "name": "延期项目数(转录调控组)",
         "type": "scatter",
         "uid": "bc8b4648-e18a-11e8-8ddb-a41f72875c19",
         "x": [
          "10-2",
          "10-3",
          "10-4"
         ],
         "y": [
          0,
          0,
          0
         ]
        },
        {
         "line": {
          "dash": "dot"
         },
         "name": "延期项目数(生物学DNA组)",
         "type": "scatter",
         "uid": "bc8b4649-e18a-11e8-8ddb-a41f72875c19",
         "x": [
          "10-2",
          "10-3",
          "10-4"
         ],
         "y": [
          2,
          4,
          9
         ]
        },
        {
         "line": {
          "dash": "dash"
         },
         "name": "延期项目数(义乌生信组)",
         "type": "scatter",
         "uid": "bc8b464a-e18a-11e8-8ddb-a41f72875c19",
         "x": [
          "10-2",
          "10-3",
          "10-4"
         ],
         "y": [
          null,
          null,
          0
         ]
        },
        {
         "line": {
          "dash": "longdash"
         },
         "name": "延期项目数(分析组)",
         "type": "scatter",
         "uid": "bc8b464b-e18a-11e8-8ddb-a41f72875c19",
         "x": [
          "10-2",
          "10-3",
          "10-4"
         ],
         "y": [
          null,
          null,
          0
         ]
        },
        {
         "line": {
          "dash": "dashdot"
         },
         "name": "延期项目数(蛋白和医学组)",
         "type": "scatter",
         "uid": "bc8b464c-e18a-11e8-8ddb-a41f72875c19",
         "x": [
          "10-2",
          "10-3",
          "10-4"
         ],
         "y": [
          0,
          1,
          3
         ]
        },
        {
         "line": {
          "dash": "longdashdot"
         },
         "name": "延期项目数(QC)",
         "type": "scatter",
         "uid": "bc8b464d-e18a-11e8-8ddb-a41f72875c19",
         "x": [
          "10-2",
          "10-3",
          "10-4"
         ],
         "y": [
          0,
          null,
          1
         ]
        }
       ],
       "layout": {
        "title": "暂停项目数&延期项目数周趋势图",
        "xaxis": {
         "mirror": "all",
         "nticks": 20,
         "showgrid": true,
         "showline": true,
         "title": "周",
         "type": "category",
         "zeroline": true
        },
        "yaxis": {
         "mirror": "all",
         "nticks": 20,
         "showgrid": true,
         "showline": true,
         "title": "暂停项目数&延期项目数",
         "zeroline": true
        }
       }
      },
      "text/html": [
       "<div id=\"3e77b2ac-60a0-4b14-8bb9-5d68e1cd0e09\" style=\"height: 525px; width: 100%;\" class=\"plotly-graph-div\"></div><script type=\"text/javascript\">require([\"plotly\"], function(Plotly) { window.PLOTLYENV=window.PLOTLYENV || {};window.PLOTLYENV.BASE_URL=\"https://plot.ly\";Plotly.newPlot(\"3e77b2ac-60a0-4b14-8bb9-5d68e1cd0e09\", [{\"line\": {\"dash\": \"solid\"}, \"name\": \"\\u6682\\u505c\\u9879\\u76ee\\u6570(\\u8f6c\\u5f55\\u8c03\\u63a7\\u7ec4)\", \"x\": [\"10-2\", \"10-3\", \"10-4\"], \"y\": [0.0, 0.0, 0.0], \"type\": \"scatter\", \"uid\": \"bc8b4642-e18a-11e8-8ddb-a41f72875c19\"}, {\"line\": {\"dash\": \"dot\"}, \"name\": \"\\u6682\\u505c\\u9879\\u76ee\\u6570(\\u751f\\u7269\\u5b66DNA\\u7ec4)\", \"x\": [\"10-2\", \"10-3\", \"10-4\"], \"y\": [0.0, 0.0, 0.0], \"type\": \"scatter\", \"uid\": \"bc8b4643-e18a-11e8-8ddb-a41f72875c19\"}, {\"line\": {\"dash\": \"dash\"}, \"name\": \"\\u6682\\u505c\\u9879\\u76ee\\u6570(\\u4e49\\u4e4c\\u751f\\u4fe1\\u7ec4)\", \"x\": [\"10-2\", \"10-3\", \"10-4\"], \"y\": [null, null, 0.0], \"type\": \"scatter\", \"uid\": \"bc8b4644-e18a-11e8-8ddb-a41f72875c19\"}, {\"line\": {\"dash\": \"longdash\"}, \"name\": \"\\u6682\\u505c\\u9879\\u76ee\\u6570(\\u5206\\u6790\\u7ec4)\", \"x\": [\"10-2\", \"10-3\", \"10-4\"], \"y\": [null, null, 0.0], \"type\": \"scatter\", \"uid\": \"bc8b4645-e18a-11e8-8ddb-a41f72875c19\"}, {\"line\": {\"dash\": \"dashdot\"}, \"name\": \"\\u6682\\u505c\\u9879\\u76ee\\u6570(\\u86cb\\u767d\\u548c\\u533b\\u5b66\\u7ec4)\", \"x\": [\"10-2\", \"10-3\", \"10-4\"], \"y\": [0.0, 0.0, 0.0], \"type\": \"scatter\", \"uid\": \"bc8b4646-e18a-11e8-8ddb-a41f72875c19\"}, {\"line\": {\"dash\": \"longdashdot\"}, \"name\": \"\\u6682\\u505c\\u9879\\u76ee\\u6570(QC)\", \"x\": [\"10-2\", \"10-3\", \"10-4\"], \"y\": [0.0, null, 0.0], \"type\": \"scatter\", \"uid\": \"bc8b4647-e18a-11e8-8ddb-a41f72875c19\"}, {\"line\": {\"dash\": \"solid\"}, \"name\": \"\\u5ef6\\u671f\\u9879\\u76ee\\u6570(\\u8f6c\\u5f55\\u8c03\\u63a7\\u7ec4)\", \"x\": [\"10-2\", \"10-3\", \"10-4\"], \"y\": [0.0, 0.0, 0.0], \"type\": \"scatter\", \"uid\": \"bc8b4648-e18a-11e8-8ddb-a41f72875c19\"}, {\"line\": {\"dash\": \"dot\"}, \"name\": \"\\u5ef6\\u671f\\u9879\\u76ee\\u6570(\\u751f\\u7269\\u5b66DNA\\u7ec4)\", \"x\": [\"10-2\", \"10-3\", \"10-4\"], \"y\": [2.0, 4.0, 9.0], \"type\": \"scatter\", \"uid\": \"bc8b4649-e18a-11e8-8ddb-a41f72875c19\"}, {\"line\": {\"dash\": \"dash\"}, \"name\": \"\\u5ef6\\u671f\\u9879\\u76ee\\u6570(\\u4e49\\u4e4c\\u751f\\u4fe1\\u7ec4)\", \"x\": [\"10-2\", \"10-3\", \"10-4\"], \"y\": [null, null, 0.0], \"type\": \"scatter\", \"uid\": \"bc8b464a-e18a-11e8-8ddb-a41f72875c19\"}, {\"line\": {\"dash\": \"longdash\"}, \"name\": \"\\u5ef6\\u671f\\u9879\\u76ee\\u6570(\\u5206\\u6790\\u7ec4)\", \"x\": [\"10-2\", \"10-3\", \"10-4\"], \"y\": [null, null, 0.0], \"type\": \"scatter\", \"uid\": \"bc8b464b-e18a-11e8-8ddb-a41f72875c19\"}, {\"line\": {\"dash\": \"dashdot\"}, \"name\": \"\\u5ef6\\u671f\\u9879\\u76ee\\u6570(\\u86cb\\u767d\\u548c\\u533b\\u5b66\\u7ec4)\", \"x\": [\"10-2\", \"10-3\", \"10-4\"], \"y\": [0.0, 1.0, 3.0], \"type\": \"scatter\", \"uid\": \"bc8b464c-e18a-11e8-8ddb-a41f72875c19\"}, {\"line\": {\"dash\": \"longdashdot\"}, \"name\": \"\\u5ef6\\u671f\\u9879\\u76ee\\u6570(QC)\", \"x\": [\"10-2\", \"10-3\", \"10-4\"], \"y\": [0.0, null, 1.0], \"type\": \"scatter\", \"uid\": \"bc8b464d-e18a-11e8-8ddb-a41f72875c19\"}], {\"title\": \"\\u6682\\u505c\\u9879\\u76ee\\u6570&\\u5ef6\\u671f\\u9879\\u76ee\\u6570\\u5468\\u8d8b\\u52bf\\u56fe\", \"xaxis\": {\"mirror\": \"all\", \"nticks\": 20, \"showgrid\": true, \"showline\": true, \"title\": \"\\u5468\", \"type\": \"category\", \"zeroline\": true}, \"yaxis\": {\"mirror\": \"all\", \"nticks\": 20, \"showgrid\": true, \"showline\": true, \"title\": \"\\u6682\\u505c\\u9879\\u76ee\\u6570&\\u5ef6\\u671f\\u9879\\u76ee\\u6570\", \"zeroline\": true}}, {\"showLink\": true, \"linkText\": \"Export to plot.ly\"})});</script>"
      ],
      "text/vnd.plotly.v1+html": [
       "<div id=\"3e77b2ac-60a0-4b14-8bb9-5d68e1cd0e09\" style=\"height: 525px; width: 100%;\" class=\"plotly-graph-div\"></div><script type=\"text/javascript\">require([\"plotly\"], function(Plotly) { window.PLOTLYENV=window.PLOTLYENV || {};window.PLOTLYENV.BASE_URL=\"https://plot.ly\";Plotly.newPlot(\"3e77b2ac-60a0-4b14-8bb9-5d68e1cd0e09\", [{\"line\": {\"dash\": \"solid\"}, \"name\": \"\\u6682\\u505c\\u9879\\u76ee\\u6570(\\u8f6c\\u5f55\\u8c03\\u63a7\\u7ec4)\", \"x\": [\"10-2\", \"10-3\", \"10-4\"], \"y\": [0.0, 0.0, 0.0], \"type\": \"scatter\", \"uid\": \"bc8b4642-e18a-11e8-8ddb-a41f72875c19\"}, {\"line\": {\"dash\": \"dot\"}, \"name\": \"\\u6682\\u505c\\u9879\\u76ee\\u6570(\\u751f\\u7269\\u5b66DNA\\u7ec4)\", \"x\": [\"10-2\", \"10-3\", \"10-4\"], \"y\": [0.0, 0.0, 0.0], \"type\": \"scatter\", \"uid\": \"bc8b4643-e18a-11e8-8ddb-a41f72875c19\"}, {\"line\": {\"dash\": \"dash\"}, \"name\": \"\\u6682\\u505c\\u9879\\u76ee\\u6570(\\u4e49\\u4e4c\\u751f\\u4fe1\\u7ec4)\", \"x\": [\"10-2\", \"10-3\", \"10-4\"], \"y\": [null, null, 0.0], \"type\": \"scatter\", \"uid\": \"bc8b4644-e18a-11e8-8ddb-a41f72875c19\"}, {\"line\": {\"dash\": \"longdash\"}, \"name\": \"\\u6682\\u505c\\u9879\\u76ee\\u6570(\\u5206\\u6790\\u7ec4)\", \"x\": [\"10-2\", \"10-3\", \"10-4\"], \"y\": [null, null, 0.0], \"type\": \"scatter\", \"uid\": \"bc8b4645-e18a-11e8-8ddb-a41f72875c19\"}, {\"line\": {\"dash\": \"dashdot\"}, \"name\": \"\\u6682\\u505c\\u9879\\u76ee\\u6570(\\u86cb\\u767d\\u548c\\u533b\\u5b66\\u7ec4)\", \"x\": [\"10-2\", \"10-3\", \"10-4\"], \"y\": [0.0, 0.0, 0.0], \"type\": \"scatter\", \"uid\": \"bc8b4646-e18a-11e8-8ddb-a41f72875c19\"}, {\"line\": {\"dash\": \"longdashdot\"}, \"name\": \"\\u6682\\u505c\\u9879\\u76ee\\u6570(QC)\", \"x\": [\"10-2\", \"10-3\", \"10-4\"], \"y\": [0.0, null, 0.0], \"type\": \"scatter\", \"uid\": \"bc8b4647-e18a-11e8-8ddb-a41f72875c19\"}, {\"line\": {\"dash\": \"solid\"}, \"name\": \"\\u5ef6\\u671f\\u9879\\u76ee\\u6570(\\u8f6c\\u5f55\\u8c03\\u63a7\\u7ec4)\", \"x\": [\"10-2\", \"10-3\", \"10-4\"], \"y\": [0.0, 0.0, 0.0], \"type\": \"scatter\", \"uid\": \"bc8b4648-e18a-11e8-8ddb-a41f72875c19\"}, {\"line\": {\"dash\": \"dot\"}, \"name\": \"\\u5ef6\\u671f\\u9879\\u76ee\\u6570(\\u751f\\u7269\\u5b66DNA\\u7ec4)\", \"x\": [\"10-2\", \"10-3\", \"10-4\"], \"y\": [2.0, 4.0, 9.0], \"type\": \"scatter\", \"uid\": \"bc8b4649-e18a-11e8-8ddb-a41f72875c19\"}, {\"line\": {\"dash\": \"dash\"}, \"name\": \"\\u5ef6\\u671f\\u9879\\u76ee\\u6570(\\u4e49\\u4e4c\\u751f\\u4fe1\\u7ec4)\", \"x\": [\"10-2\", \"10-3\", \"10-4\"], \"y\": [null, null, 0.0], \"type\": \"scatter\", \"uid\": \"bc8b464a-e18a-11e8-8ddb-a41f72875c19\"}, {\"line\": {\"dash\": \"longdash\"}, \"name\": \"\\u5ef6\\u671f\\u9879\\u76ee\\u6570(\\u5206\\u6790\\u7ec4)\", \"x\": [\"10-2\", \"10-3\", \"10-4\"], \"y\": [null, null, 0.0], \"type\": \"scatter\", \"uid\": \"bc8b464b-e18a-11e8-8ddb-a41f72875c19\"}, {\"line\": {\"dash\": \"dashdot\"}, \"name\": \"\\u5ef6\\u671f\\u9879\\u76ee\\u6570(\\u86cb\\u767d\\u548c\\u533b\\u5b66\\u7ec4)\", \"x\": [\"10-2\", \"10-3\", \"10-4\"], \"y\": [0.0, 1.0, 3.0], \"type\": \"scatter\", \"uid\": \"bc8b464c-e18a-11e8-8ddb-a41f72875c19\"}, {\"line\": {\"dash\": \"longdashdot\"}, \"name\": \"\\u5ef6\\u671f\\u9879\\u76ee\\u6570(QC)\", \"x\": [\"10-2\", \"10-3\", \"10-4\"], \"y\": [0.0, null, 1.0], \"type\": \"scatter\", \"uid\": \"bc8b464d-e18a-11e8-8ddb-a41f72875c19\"}], {\"title\": \"\\u6682\\u505c\\u9879\\u76ee\\u6570&\\u5ef6\\u671f\\u9879\\u76ee\\u6570\\u5468\\u8d8b\\u52bf\\u56fe\", \"xaxis\": {\"mirror\": \"all\", \"nticks\": 20, \"showgrid\": true, \"showline\": true, \"title\": \"\\u5468\", \"type\": \"category\", \"zeroline\": true}, \"yaxis\": {\"mirror\": \"all\", \"nticks\": 20, \"showgrid\": true, \"showline\": true, \"title\": \"\\u6682\\u505c\\u9879\\u76ee\\u6570&\\u5ef6\\u671f\\u9879\\u76ee\\u6570\", \"zeroline\": true}}, {\"showLink\": true, \"linkText\": \"Export to plot.ly\"})});</script>"
      ]
     },
     "metadata": {},
     "output_type": "display_data"
    }
   ],
   "source": [
    "ss=myModule.format(all_dict ,\"日期\" ,['延期项目数', '暂停项目数'])\n",
    "ss.add_group('组别')\n",
    "tt = myModule.myPlot(ss.groupby('sum'))\n",
    "tt.plot('line')"
   ]
  },
  {
   "cell_type": "markdown",
   "metadata": {
    "hide_input": true
   },
   "source": [
    "### 各组成长指数"
   ]
  },
  {
   "cell_type": "markdown",
   "metadata": {},
   "source": [
    "#### 各组内部沟通、市场支持、出差和禅道bug"
   ]
  },
  {
   "cell_type": "code",
   "execution_count": 22,
   "metadata": {
    "collapsed": false
   },
   "outputs": [
    {
     "data": {
      "application/vnd.plotly.v1+json": {
       "data": [
        {
         "line": {
          "dash": "solid"
         },
         "name": "市场支持(转录调控组)",
         "type": "scatter",
         "uid": "bd51b88c-e18a-11e8-8ddb-a41f72875c19",
         "x": [
          "10-2",
          "10-3",
          "10-4"
         ],
         "y": [
          0,
          1,
          0
         ]
        },
        {
         "line": {
          "dash": "dot"
         },
         "name": "市场支持(生物学DNA组)",
         "type": "scatter",
         "uid": "bd51b88d-e18a-11e8-8ddb-a41f72875c19",
         "x": [
          "10-2",
          "10-3",
          "10-4"
         ],
         "y": [
          0,
          4,
          0
         ]
        },
        {
         "line": {
          "dash": "dash"
         },
         "name": "市场支持(义乌生信组)",
         "type": "scatter",
         "uid": "bd51b88e-e18a-11e8-8ddb-a41f72875c19",
         "x": [
          "10-2",
          "10-3",
          "10-4"
         ],
         "y": [
          null,
          null,
          0
         ]
        },
        {
         "line": {
          "dash": "longdash"
         },
         "name": "市场支持(分析组)",
         "type": "scatter",
         "uid": "bd51b88f-e18a-11e8-8ddb-a41f72875c19",
         "x": [
          "10-2",
          "10-3",
          "10-4"
         ],
         "y": [
          null,
          null,
          0
         ]
        },
        {
         "line": {
          "dash": "dashdot"
         },
         "name": "市场支持(蛋白和医学组)",
         "type": "scatter",
         "uid": "bd51b890-e18a-11e8-8ddb-a41f72875c19",
         "x": [
          "10-2",
          "10-3",
          "10-4"
         ],
         "y": [
          0,
          0,
          0
         ]
        },
        {
         "line": {
          "dash": "longdashdot"
         },
         "name": "市场支持(QC)",
         "type": "scatter",
         "uid": "bd51b891-e18a-11e8-8ddb-a41f72875c19",
         "x": [
          "10-2",
          "10-3",
          "10-4"
         ],
         "y": [
          0,
          null,
          0
         ]
        },
        {
         "line": {
          "dash": "solid"
         },
         "name": "内部沟通(转录调控组)",
         "type": "scatter",
         "uid": "bd51b892-e18a-11e8-8ddb-a41f72875c19",
         "x": [
          "10-2",
          "10-3",
          "10-4"
         ],
         "y": [
          0,
          0,
          4
         ]
        },
        {
         "line": {
          "dash": "dot"
         },
         "name": "内部沟通(生物学DNA组)",
         "type": "scatter",
         "uid": "bd51b893-e18a-11e8-8ddb-a41f72875c19",
         "x": [
          "10-2",
          "10-3",
          "10-4"
         ],
         "y": [
          0,
          0,
          0
         ]
        },
        {
         "line": {
          "dash": "dash"
         },
         "name": "内部沟通(义乌生信组)",
         "type": "scatter",
         "uid": "bd51b894-e18a-11e8-8ddb-a41f72875c19",
         "x": [
          "10-2",
          "10-3",
          "10-4"
         ],
         "y": [
          null,
          null,
          0
         ]
        },
        {
         "line": {
          "dash": "longdash"
         },
         "name": "内部沟通(分析组)",
         "type": "scatter",
         "uid": "bd51b895-e18a-11e8-8ddb-a41f72875c19",
         "x": [
          "10-2",
          "10-3",
          "10-4"
         ],
         "y": [
          null,
          null,
          0
         ]
        },
        {
         "line": {
          "dash": "dashdot"
         },
         "name": "内部沟通(蛋白和医学组)",
         "type": "scatter",
         "uid": "bd51b896-e18a-11e8-8ddb-a41f72875c19",
         "x": [
          "10-2",
          "10-3",
          "10-4"
         ],
         "y": [
          0,
          0,
          3
         ]
        },
        {
         "line": {
          "dash": "longdashdot"
         },
         "name": "内部沟通(QC)",
         "type": "scatter",
         "uid": "bd51b897-e18a-11e8-8ddb-a41f72875c19",
         "x": [
          "10-2",
          "10-3",
          "10-4"
         ],
         "y": [
          0,
          null,
          0
         ]
        },
        {
         "line": {
          "dash": "solid"
         },
         "name": "出差(转录调控组)",
         "type": "scatter",
         "uid": "bd51b898-e18a-11e8-8ddb-a41f72875c19",
         "x": [
          "10-2",
          "10-3",
          "10-4"
         ],
         "y": [
          0,
          1,
          0
         ]
        },
        {
         "line": {
          "dash": "dot"
         },
         "name": "出差(生物学DNA组)",
         "type": "scatter",
         "uid": "bd51b899-e18a-11e8-8ddb-a41f72875c19",
         "x": [
          "10-2",
          "10-3",
          "10-4"
         ],
         "y": [
          0,
          3,
          1
         ]
        },
        {
         "line": {
          "dash": "dash"
         },
         "name": "出差(义乌生信组)",
         "type": "scatter",
         "uid": "bd51b89a-e18a-11e8-8ddb-a41f72875c19",
         "x": [
          "10-2",
          "10-3",
          "10-4"
         ],
         "y": [
          null,
          null,
          0
         ]
        },
        {
         "line": {
          "dash": "longdash"
         },
         "name": "出差(分析组)",
         "type": "scatter",
         "uid": "bd51b89b-e18a-11e8-8ddb-a41f72875c19",
         "x": [
          "10-2",
          "10-3",
          "10-4"
         ],
         "y": [
          null,
          null,
          0
         ]
        },
        {
         "line": {
          "dash": "dashdot"
         },
         "name": "出差(蛋白和医学组)",
         "type": "scatter",
         "uid": "bd51b89c-e18a-11e8-8ddb-a41f72875c19",
         "x": [
          "10-2",
          "10-3",
          "10-4"
         ],
         "y": [
          0,
          0,
          1
         ]
        },
        {
         "line": {
          "dash": "longdashdot"
         },
         "name": "出差(QC)",
         "type": "scatter",
         "uid": "bd51b89d-e18a-11e8-8ddb-a41f72875c19",
         "x": [
          "10-2",
          "10-3",
          "10-4"
         ],
         "y": [
          0,
          null,
          0
         ]
        },
        {
         "line": {
          "dash": "solid"
         },
         "name": "禅道bug(转录调控组)",
         "type": "scatter",
         "uid": "bd51b89e-e18a-11e8-8ddb-a41f72875c19",
         "x": [
          "10-2",
          "10-3",
          "10-4"
         ],
         "y": [
          0,
          1,
          1
         ]
        },
        {
         "line": {
          "dash": "dot"
         },
         "name": "禅道bug(生物学DNA组)",
         "type": "scatter",
         "uid": "bd51b89f-e18a-11e8-8ddb-a41f72875c19",
         "x": [
          "10-2",
          "10-3",
          "10-4"
         ],
         "y": [
          0,
          0,
          0
         ]
        },
        {
         "line": {
          "dash": "dash"
         },
         "name": "禅道bug(义乌生信组)",
         "type": "scatter",
         "uid": "bd51b8a0-e18a-11e8-8ddb-a41f72875c19",
         "x": [
          "10-2",
          "10-3",
          "10-4"
         ],
         "y": [
          null,
          null,
          0
         ]
        },
        {
         "line": {
          "dash": "longdash"
         },
         "name": "禅道bug(分析组)",
         "type": "scatter",
         "uid": "bd51b8a1-e18a-11e8-8ddb-a41f72875c19",
         "x": [
          "10-2",
          "10-3",
          "10-4"
         ],
         "y": [
          null,
          null,
          0
         ]
        },
        {
         "line": {
          "dash": "dashdot"
         },
         "name": "禅道bug(蛋白和医学组)",
         "type": "scatter",
         "uid": "bd51b8a2-e18a-11e8-8ddb-a41f72875c19",
         "x": [
          "10-2",
          "10-3",
          "10-4"
         ],
         "y": [
          0,
          0,
          0
         ]
        },
        {
         "line": {
          "dash": "longdashdot"
         },
         "name": "禅道bug(QC)",
         "type": "scatter",
         "uid": "bd51b8a3-e18a-11e8-8ddb-a41f72875c19",
         "x": [
          "10-2",
          "10-3",
          "10-4"
         ],
         "y": [
          0,
          null,
          0
         ]
        }
       ],
       "layout": {
        "title": "市场支持&内部沟通&出差&禅道bug周趋势图",
        "xaxis": {
         "mirror": "all",
         "nticks": 20,
         "showgrid": true,
         "showline": true,
         "title": "周",
         "type": "category",
         "zeroline": true
        },
        "yaxis": {
         "mirror": "all",
         "nticks": 20,
         "showgrid": true,
         "showline": true,
         "title": "市场支持&内部沟通&出差&禅道bug",
         "zeroline": true
        }
       }
      },
      "text/html": [
       "<div id=\"8a29f0eb-9cb7-4dd7-8161-10b18ecd9321\" style=\"height: 525px; width: 100%;\" class=\"plotly-graph-div\"></div><script type=\"text/javascript\">require([\"plotly\"], function(Plotly) { window.PLOTLYENV=window.PLOTLYENV || {};window.PLOTLYENV.BASE_URL=\"https://plot.ly\";Plotly.newPlot(\"8a29f0eb-9cb7-4dd7-8161-10b18ecd9321\", [{\"line\": {\"dash\": \"solid\"}, \"name\": \"\\u5e02\\u573a\\u652f\\u6301(\\u8f6c\\u5f55\\u8c03\\u63a7\\u7ec4)\", \"x\": [\"10-2\", \"10-3\", \"10-4\"], \"y\": [0.0, 1.0, 0.0], \"type\": \"scatter\", \"uid\": \"bd51b88c-e18a-11e8-8ddb-a41f72875c19\"}, {\"line\": {\"dash\": \"dot\"}, \"name\": \"\\u5e02\\u573a\\u652f\\u6301(\\u751f\\u7269\\u5b66DNA\\u7ec4)\", \"x\": [\"10-2\", \"10-3\", \"10-4\"], \"y\": [0.0, 4.0, 0.0], \"type\": \"scatter\", \"uid\": \"bd51b88d-e18a-11e8-8ddb-a41f72875c19\"}, {\"line\": {\"dash\": \"dash\"}, \"name\": \"\\u5e02\\u573a\\u652f\\u6301(\\u4e49\\u4e4c\\u751f\\u4fe1\\u7ec4)\", \"x\": [\"10-2\", \"10-3\", \"10-4\"], \"y\": [null, null, 0.0], \"type\": \"scatter\", \"uid\": \"bd51b88e-e18a-11e8-8ddb-a41f72875c19\"}, {\"line\": {\"dash\": \"longdash\"}, \"name\": \"\\u5e02\\u573a\\u652f\\u6301(\\u5206\\u6790\\u7ec4)\", \"x\": [\"10-2\", \"10-3\", \"10-4\"], \"y\": [null, null, 0.0], \"type\": \"scatter\", \"uid\": \"bd51b88f-e18a-11e8-8ddb-a41f72875c19\"}, {\"line\": {\"dash\": \"dashdot\"}, \"name\": \"\\u5e02\\u573a\\u652f\\u6301(\\u86cb\\u767d\\u548c\\u533b\\u5b66\\u7ec4)\", \"x\": [\"10-2\", \"10-3\", \"10-4\"], \"y\": [0.0, 0.0, 0.0], \"type\": \"scatter\", \"uid\": \"bd51b890-e18a-11e8-8ddb-a41f72875c19\"}, {\"line\": {\"dash\": \"longdashdot\"}, \"name\": \"\\u5e02\\u573a\\u652f\\u6301(QC)\", \"x\": [\"10-2\", \"10-3\", \"10-4\"], \"y\": [0.0, null, 0.0], \"type\": \"scatter\", \"uid\": \"bd51b891-e18a-11e8-8ddb-a41f72875c19\"}, {\"line\": {\"dash\": \"solid\"}, \"name\": \"\\u5185\\u90e8\\u6c9f\\u901a(\\u8f6c\\u5f55\\u8c03\\u63a7\\u7ec4)\", \"x\": [\"10-2\", \"10-3\", \"10-4\"], \"y\": [0.0, 0.0, 4.0], \"type\": \"scatter\", \"uid\": \"bd51b892-e18a-11e8-8ddb-a41f72875c19\"}, {\"line\": {\"dash\": \"dot\"}, \"name\": \"\\u5185\\u90e8\\u6c9f\\u901a(\\u751f\\u7269\\u5b66DNA\\u7ec4)\", \"x\": [\"10-2\", \"10-3\", \"10-4\"], \"y\": [0.0, 0.0, 0.0], \"type\": \"scatter\", \"uid\": \"bd51b893-e18a-11e8-8ddb-a41f72875c19\"}, {\"line\": {\"dash\": \"dash\"}, \"name\": \"\\u5185\\u90e8\\u6c9f\\u901a(\\u4e49\\u4e4c\\u751f\\u4fe1\\u7ec4)\", \"x\": [\"10-2\", \"10-3\", \"10-4\"], \"y\": [null, null, 0.0], \"type\": \"scatter\", \"uid\": \"bd51b894-e18a-11e8-8ddb-a41f72875c19\"}, {\"line\": {\"dash\": \"longdash\"}, \"name\": \"\\u5185\\u90e8\\u6c9f\\u901a(\\u5206\\u6790\\u7ec4)\", \"x\": [\"10-2\", \"10-3\", \"10-4\"], \"y\": [null, null, 0.0], \"type\": \"scatter\", \"uid\": \"bd51b895-e18a-11e8-8ddb-a41f72875c19\"}, {\"line\": {\"dash\": \"dashdot\"}, \"name\": \"\\u5185\\u90e8\\u6c9f\\u901a(\\u86cb\\u767d\\u548c\\u533b\\u5b66\\u7ec4)\", \"x\": [\"10-2\", \"10-3\", \"10-4\"], \"y\": [0.0, 0.0, 3.0], \"type\": \"scatter\", \"uid\": \"bd51b896-e18a-11e8-8ddb-a41f72875c19\"}, {\"line\": {\"dash\": \"longdashdot\"}, \"name\": \"\\u5185\\u90e8\\u6c9f\\u901a(QC)\", \"x\": [\"10-2\", \"10-3\", \"10-4\"], \"y\": [0.0, null, 0.0], \"type\": \"scatter\", \"uid\": \"bd51b897-e18a-11e8-8ddb-a41f72875c19\"}, {\"line\": {\"dash\": \"solid\"}, \"name\": \"\\u51fa\\u5dee(\\u8f6c\\u5f55\\u8c03\\u63a7\\u7ec4)\", \"x\": [\"10-2\", \"10-3\", \"10-4\"], \"y\": [0.0, 1.0, 0.0], \"type\": \"scatter\", \"uid\": \"bd51b898-e18a-11e8-8ddb-a41f72875c19\"}, {\"line\": {\"dash\": \"dot\"}, \"name\": \"\\u51fa\\u5dee(\\u751f\\u7269\\u5b66DNA\\u7ec4)\", \"x\": [\"10-2\", \"10-3\", \"10-4\"], \"y\": [0.0, 3.0, 1.0], \"type\": \"scatter\", \"uid\": \"bd51b899-e18a-11e8-8ddb-a41f72875c19\"}, {\"line\": {\"dash\": \"dash\"}, \"name\": \"\\u51fa\\u5dee(\\u4e49\\u4e4c\\u751f\\u4fe1\\u7ec4)\", \"x\": [\"10-2\", \"10-3\", \"10-4\"], \"y\": [null, null, 0.0], \"type\": \"scatter\", \"uid\": \"bd51b89a-e18a-11e8-8ddb-a41f72875c19\"}, {\"line\": {\"dash\": \"longdash\"}, \"name\": \"\\u51fa\\u5dee(\\u5206\\u6790\\u7ec4)\", \"x\": [\"10-2\", \"10-3\", \"10-4\"], \"y\": [null, null, 0.0], \"type\": \"scatter\", \"uid\": \"bd51b89b-e18a-11e8-8ddb-a41f72875c19\"}, {\"line\": {\"dash\": \"dashdot\"}, \"name\": \"\\u51fa\\u5dee(\\u86cb\\u767d\\u548c\\u533b\\u5b66\\u7ec4)\", \"x\": [\"10-2\", \"10-3\", \"10-4\"], \"y\": [0.0, 0.0, 1.0], \"type\": \"scatter\", \"uid\": \"bd51b89c-e18a-11e8-8ddb-a41f72875c19\"}, {\"line\": {\"dash\": \"longdashdot\"}, \"name\": \"\\u51fa\\u5dee(QC)\", \"x\": [\"10-2\", \"10-3\", \"10-4\"], \"y\": [0.0, null, 0.0], \"type\": \"scatter\", \"uid\": \"bd51b89d-e18a-11e8-8ddb-a41f72875c19\"}, {\"line\": {\"dash\": \"solid\"}, \"name\": \"\\u7985\\u9053bug(\\u8f6c\\u5f55\\u8c03\\u63a7\\u7ec4)\", \"x\": [\"10-2\", \"10-3\", \"10-4\"], \"y\": [0.0, 1.0, 1.0], \"type\": \"scatter\", \"uid\": \"bd51b89e-e18a-11e8-8ddb-a41f72875c19\"}, {\"line\": {\"dash\": \"dot\"}, \"name\": \"\\u7985\\u9053bug(\\u751f\\u7269\\u5b66DNA\\u7ec4)\", \"x\": [\"10-2\", \"10-3\", \"10-4\"], \"y\": [0.0, 0.0, 0.0], \"type\": \"scatter\", \"uid\": \"bd51b89f-e18a-11e8-8ddb-a41f72875c19\"}, {\"line\": {\"dash\": \"dash\"}, \"name\": \"\\u7985\\u9053bug(\\u4e49\\u4e4c\\u751f\\u4fe1\\u7ec4)\", \"x\": [\"10-2\", \"10-3\", \"10-4\"], \"y\": [null, null, 0.0], \"type\": \"scatter\", \"uid\": \"bd51b8a0-e18a-11e8-8ddb-a41f72875c19\"}, {\"line\": {\"dash\": \"longdash\"}, \"name\": \"\\u7985\\u9053bug(\\u5206\\u6790\\u7ec4)\", \"x\": [\"10-2\", \"10-3\", \"10-4\"], \"y\": [null, null, 0.0], \"type\": \"scatter\", \"uid\": \"bd51b8a1-e18a-11e8-8ddb-a41f72875c19\"}, {\"line\": {\"dash\": \"dashdot\"}, \"name\": \"\\u7985\\u9053bug(\\u86cb\\u767d\\u548c\\u533b\\u5b66\\u7ec4)\", \"x\": [\"10-2\", \"10-3\", \"10-4\"], \"y\": [0.0, 0.0, 0.0], \"type\": \"scatter\", \"uid\": \"bd51b8a2-e18a-11e8-8ddb-a41f72875c19\"}, {\"line\": {\"dash\": \"longdashdot\"}, \"name\": \"\\u7985\\u9053bug(QC)\", \"x\": [\"10-2\", \"10-3\", \"10-4\"], \"y\": [0.0, null, 0.0], \"type\": \"scatter\", \"uid\": \"bd51b8a3-e18a-11e8-8ddb-a41f72875c19\"}], {\"title\": \"\\u5e02\\u573a\\u652f\\u6301&\\u5185\\u90e8\\u6c9f\\u901a&\\u51fa\\u5dee&\\u7985\\u9053bug\\u5468\\u8d8b\\u52bf\\u56fe\", \"xaxis\": {\"mirror\": \"all\", \"nticks\": 20, \"showgrid\": true, \"showline\": true, \"title\": \"\\u5468\", \"type\": \"category\", \"zeroline\": true}, \"yaxis\": {\"mirror\": \"all\", \"nticks\": 20, \"showgrid\": true, \"showline\": true, \"title\": \"\\u5e02\\u573a\\u652f\\u6301&\\u5185\\u90e8\\u6c9f\\u901a&\\u51fa\\u5dee&\\u7985\\u9053bug\", \"zeroline\": true}}, {\"showLink\": true, \"linkText\": \"Export to plot.ly\"})});</script>"
      ],
      "text/vnd.plotly.v1+html": [
       "<div id=\"8a29f0eb-9cb7-4dd7-8161-10b18ecd9321\" style=\"height: 525px; width: 100%;\" class=\"plotly-graph-div\"></div><script type=\"text/javascript\">require([\"plotly\"], function(Plotly) { window.PLOTLYENV=window.PLOTLYENV || {};window.PLOTLYENV.BASE_URL=\"https://plot.ly\";Plotly.newPlot(\"8a29f0eb-9cb7-4dd7-8161-10b18ecd9321\", [{\"line\": {\"dash\": \"solid\"}, \"name\": \"\\u5e02\\u573a\\u652f\\u6301(\\u8f6c\\u5f55\\u8c03\\u63a7\\u7ec4)\", \"x\": [\"10-2\", \"10-3\", \"10-4\"], \"y\": [0.0, 1.0, 0.0], \"type\": \"scatter\", \"uid\": \"bd51b88c-e18a-11e8-8ddb-a41f72875c19\"}, {\"line\": {\"dash\": \"dot\"}, \"name\": \"\\u5e02\\u573a\\u652f\\u6301(\\u751f\\u7269\\u5b66DNA\\u7ec4)\", \"x\": [\"10-2\", \"10-3\", \"10-4\"], \"y\": [0.0, 4.0, 0.0], \"type\": \"scatter\", \"uid\": \"bd51b88d-e18a-11e8-8ddb-a41f72875c19\"}, {\"line\": {\"dash\": \"dash\"}, \"name\": \"\\u5e02\\u573a\\u652f\\u6301(\\u4e49\\u4e4c\\u751f\\u4fe1\\u7ec4)\", \"x\": [\"10-2\", \"10-3\", \"10-4\"], \"y\": [null, null, 0.0], \"type\": \"scatter\", \"uid\": \"bd51b88e-e18a-11e8-8ddb-a41f72875c19\"}, {\"line\": {\"dash\": \"longdash\"}, \"name\": \"\\u5e02\\u573a\\u652f\\u6301(\\u5206\\u6790\\u7ec4)\", \"x\": [\"10-2\", \"10-3\", \"10-4\"], \"y\": [null, null, 0.0], \"type\": \"scatter\", \"uid\": \"bd51b88f-e18a-11e8-8ddb-a41f72875c19\"}, {\"line\": {\"dash\": \"dashdot\"}, \"name\": \"\\u5e02\\u573a\\u652f\\u6301(\\u86cb\\u767d\\u548c\\u533b\\u5b66\\u7ec4)\", \"x\": [\"10-2\", \"10-3\", \"10-4\"], \"y\": [0.0, 0.0, 0.0], \"type\": \"scatter\", \"uid\": \"bd51b890-e18a-11e8-8ddb-a41f72875c19\"}, {\"line\": {\"dash\": \"longdashdot\"}, \"name\": \"\\u5e02\\u573a\\u652f\\u6301(QC)\", \"x\": [\"10-2\", \"10-3\", \"10-4\"], \"y\": [0.0, null, 0.0], \"type\": \"scatter\", \"uid\": \"bd51b891-e18a-11e8-8ddb-a41f72875c19\"}, {\"line\": {\"dash\": \"solid\"}, \"name\": \"\\u5185\\u90e8\\u6c9f\\u901a(\\u8f6c\\u5f55\\u8c03\\u63a7\\u7ec4)\", \"x\": [\"10-2\", \"10-3\", \"10-4\"], \"y\": [0.0, 0.0, 4.0], \"type\": \"scatter\", \"uid\": \"bd51b892-e18a-11e8-8ddb-a41f72875c19\"}, {\"line\": {\"dash\": \"dot\"}, \"name\": \"\\u5185\\u90e8\\u6c9f\\u901a(\\u751f\\u7269\\u5b66DNA\\u7ec4)\", \"x\": [\"10-2\", \"10-3\", \"10-4\"], \"y\": [0.0, 0.0, 0.0], \"type\": \"scatter\", \"uid\": \"bd51b893-e18a-11e8-8ddb-a41f72875c19\"}, {\"line\": {\"dash\": \"dash\"}, \"name\": \"\\u5185\\u90e8\\u6c9f\\u901a(\\u4e49\\u4e4c\\u751f\\u4fe1\\u7ec4)\", \"x\": [\"10-2\", \"10-3\", \"10-4\"], \"y\": [null, null, 0.0], \"type\": \"scatter\", \"uid\": \"bd51b894-e18a-11e8-8ddb-a41f72875c19\"}, {\"line\": {\"dash\": \"longdash\"}, \"name\": \"\\u5185\\u90e8\\u6c9f\\u901a(\\u5206\\u6790\\u7ec4)\", \"x\": [\"10-2\", \"10-3\", \"10-4\"], \"y\": [null, null, 0.0], \"type\": \"scatter\", \"uid\": \"bd51b895-e18a-11e8-8ddb-a41f72875c19\"}, {\"line\": {\"dash\": \"dashdot\"}, \"name\": \"\\u5185\\u90e8\\u6c9f\\u901a(\\u86cb\\u767d\\u548c\\u533b\\u5b66\\u7ec4)\", \"x\": [\"10-2\", \"10-3\", \"10-4\"], \"y\": [0.0, 0.0, 3.0], \"type\": \"scatter\", \"uid\": \"bd51b896-e18a-11e8-8ddb-a41f72875c19\"}, {\"line\": {\"dash\": \"longdashdot\"}, \"name\": \"\\u5185\\u90e8\\u6c9f\\u901a(QC)\", \"x\": [\"10-2\", \"10-3\", \"10-4\"], \"y\": [0.0, null, 0.0], \"type\": \"scatter\", \"uid\": \"bd51b897-e18a-11e8-8ddb-a41f72875c19\"}, {\"line\": {\"dash\": \"solid\"}, \"name\": \"\\u51fa\\u5dee(\\u8f6c\\u5f55\\u8c03\\u63a7\\u7ec4)\", \"x\": [\"10-2\", \"10-3\", \"10-4\"], \"y\": [0.0, 1.0, 0.0], \"type\": \"scatter\", \"uid\": \"bd51b898-e18a-11e8-8ddb-a41f72875c19\"}, {\"line\": {\"dash\": \"dot\"}, \"name\": \"\\u51fa\\u5dee(\\u751f\\u7269\\u5b66DNA\\u7ec4)\", \"x\": [\"10-2\", \"10-3\", \"10-4\"], \"y\": [0.0, 3.0, 1.0], \"type\": \"scatter\", \"uid\": \"bd51b899-e18a-11e8-8ddb-a41f72875c19\"}, {\"line\": {\"dash\": \"dash\"}, \"name\": \"\\u51fa\\u5dee(\\u4e49\\u4e4c\\u751f\\u4fe1\\u7ec4)\", \"x\": [\"10-2\", \"10-3\", \"10-4\"], \"y\": [null, null, 0.0], \"type\": \"scatter\", \"uid\": \"bd51b89a-e18a-11e8-8ddb-a41f72875c19\"}, {\"line\": {\"dash\": \"longdash\"}, \"name\": \"\\u51fa\\u5dee(\\u5206\\u6790\\u7ec4)\", \"x\": [\"10-2\", \"10-3\", \"10-4\"], \"y\": [null, null, 0.0], \"type\": \"scatter\", \"uid\": \"bd51b89b-e18a-11e8-8ddb-a41f72875c19\"}, {\"line\": {\"dash\": \"dashdot\"}, \"name\": \"\\u51fa\\u5dee(\\u86cb\\u767d\\u548c\\u533b\\u5b66\\u7ec4)\", \"x\": [\"10-2\", \"10-3\", \"10-4\"], \"y\": [0.0, 0.0, 1.0], \"type\": \"scatter\", \"uid\": \"bd51b89c-e18a-11e8-8ddb-a41f72875c19\"}, {\"line\": {\"dash\": \"longdashdot\"}, \"name\": \"\\u51fa\\u5dee(QC)\", \"x\": [\"10-2\", \"10-3\", \"10-4\"], \"y\": [0.0, null, 0.0], \"type\": \"scatter\", \"uid\": \"bd51b89d-e18a-11e8-8ddb-a41f72875c19\"}, {\"line\": {\"dash\": \"solid\"}, \"name\": \"\\u7985\\u9053bug(\\u8f6c\\u5f55\\u8c03\\u63a7\\u7ec4)\", \"x\": [\"10-2\", \"10-3\", \"10-4\"], \"y\": [0.0, 1.0, 1.0], \"type\": \"scatter\", \"uid\": \"bd51b89e-e18a-11e8-8ddb-a41f72875c19\"}, {\"line\": {\"dash\": \"dot\"}, \"name\": \"\\u7985\\u9053bug(\\u751f\\u7269\\u5b66DNA\\u7ec4)\", \"x\": [\"10-2\", \"10-3\", \"10-4\"], \"y\": [0.0, 0.0, 0.0], \"type\": \"scatter\", \"uid\": \"bd51b89f-e18a-11e8-8ddb-a41f72875c19\"}, {\"line\": {\"dash\": \"dash\"}, \"name\": \"\\u7985\\u9053bug(\\u4e49\\u4e4c\\u751f\\u4fe1\\u7ec4)\", \"x\": [\"10-2\", \"10-3\", \"10-4\"], \"y\": [null, null, 0.0], \"type\": \"scatter\", \"uid\": \"bd51b8a0-e18a-11e8-8ddb-a41f72875c19\"}, {\"line\": {\"dash\": \"longdash\"}, \"name\": \"\\u7985\\u9053bug(\\u5206\\u6790\\u7ec4)\", \"x\": [\"10-2\", \"10-3\", \"10-4\"], \"y\": [null, null, 0.0], \"type\": \"scatter\", \"uid\": \"bd51b8a1-e18a-11e8-8ddb-a41f72875c19\"}, {\"line\": {\"dash\": \"dashdot\"}, \"name\": \"\\u7985\\u9053bug(\\u86cb\\u767d\\u548c\\u533b\\u5b66\\u7ec4)\", \"x\": [\"10-2\", \"10-3\", \"10-4\"], \"y\": [0.0, 0.0, 0.0], \"type\": \"scatter\", \"uid\": \"bd51b8a2-e18a-11e8-8ddb-a41f72875c19\"}, {\"line\": {\"dash\": \"longdashdot\"}, \"name\": \"\\u7985\\u9053bug(QC)\", \"x\": [\"10-2\", \"10-3\", \"10-4\"], \"y\": [0.0, null, 0.0], \"type\": \"scatter\", \"uid\": \"bd51b8a3-e18a-11e8-8ddb-a41f72875c19\"}], {\"title\": \"\\u5e02\\u573a\\u652f\\u6301&\\u5185\\u90e8\\u6c9f\\u901a&\\u51fa\\u5dee&\\u7985\\u9053bug\\u5468\\u8d8b\\u52bf\\u56fe\", \"xaxis\": {\"mirror\": \"all\", \"nticks\": 20, \"showgrid\": true, \"showline\": true, \"title\": \"\\u5468\", \"type\": \"category\", \"zeroline\": true}, \"yaxis\": {\"mirror\": \"all\", \"nticks\": 20, \"showgrid\": true, \"showline\": true, \"title\": \"\\u5e02\\u573a\\u652f\\u6301&\\u5185\\u90e8\\u6c9f\\u901a&\\u51fa\\u5dee&\\u7985\\u9053bug\", \"zeroline\": true}}, {\"showLink\": true, \"linkText\": \"Export to plot.ly\"})});</script>"
      ]
     },
     "metadata": {},
     "output_type": "display_data"
    }
   ],
   "source": [
    "ss=myModule.format(all_dict ,\"日期\" ,['内部沟通','市场支持', '出差', '禅道bug'])\n",
    "ss.add_group('组别')\n",
    "tt = myModule.myPlot(ss.groupby('sum'))\n",
    "tt.plot('line')"
   ]
  },
  {
   "cell_type": "markdown",
   "metadata": {
    "hide_input": true
   },
   "source": [
    "## 个人情况"
   ]
  },
  {
   "cell_type": "markdown",
   "metadata": {},
   "source": [
    "### 个人下单情况"
   ]
  },
  {
   "cell_type": "markdown",
   "metadata": {},
   "source": [
    "\n",
    "#### 个人总下单数和完成下单数\n"
   ]
  },
  {
   "cell_type": "code",
   "execution_count": 23,
   "metadata": {
    "collapsed": false
   },
   "outputs": [
    {
     "data": {
      "application/vnd.plotly.v1+json": {
       "data": [
        {
         "line": {
          "dash": "solid"
         },
         "name": "总下单数(林文文)",
         "type": "scatter",
         "uid": "bd51b8a4-e18a-11e8-8ddb-a41f72875c19",
         "x": [
          "10-2",
          "10-3",
          "10-4"
         ],
         "y": [
          null,
          null,
          1
         ]
        },
        {
         "line": {
          "dash": "dot"
         },
         "name": "总下单数(屈昂)",
         "type": "scatter",
         "uid": "bd51b8a5-e18a-11e8-8ddb-a41f72875c19",
         "x": [
          "10-2",
          "10-3",
          "10-4"
         ],
         "y": [
          1,
          null,
          1
         ]
        },
        {
         "line": {
          "dash": "dash"
         },
         "name": "总下单数(姚盟成)",
         "type": "scatter",
         "uid": "bd51b8a6-e18a-11e8-8ddb-a41f72875c19",
         "x": [
          "10-2",
          "10-3",
          "10-4"
         ],
         "y": [
          4,
          3,
          4
         ]
        },
        {
         "line": {
          "dash": "longdash"
         },
         "name": "总下单数(冷雪)",
         "type": "scatter",
         "uid": "bd51b8a7-e18a-11e8-8ddb-a41f72875c19",
         "x": [
          "10-2",
          "10-3",
          "10-4"
         ],
         "y": [
          2,
          null,
          1
         ]
        },
        {
         "line": {
          "dash": "dashdot"
         },
         "name": "总下单数(韩少怀)",
         "type": "scatter",
         "uid": "bd51b8a8-e18a-11e8-8ddb-a41f72875c19",
         "x": [
          "10-2",
          "10-3",
          "10-4"
         ],
         "y": [
          4,
          5,
          4
         ]
        },
        {
         "line": {
          "dash": "longdashdot"
         },
         "name": "总下单数(李庆原)",
         "type": "scatter",
         "uid": "bd51b8a9-e18a-11e8-8ddb-a41f72875c19",
         "x": [
          "10-2",
          "10-3",
          "10-4"
         ],
         "y": [
          6,
          5,
          4
         ]
        },
        {
         "line": {
          "dash": "solid"
         },
         "name": "总下单数(刘三阳)",
         "type": "scatter",
         "uid": "bd51b8aa-e18a-11e8-8ddb-a41f72875c19",
         "x": [
          "10-2",
          "10-3",
          "10-4"
         ],
         "y": [
          null,
          1,
          null
         ]
        },
        {
         "line": {
          "dash": "dot"
         },
         "name": "总下单数(沈恩惠)",
         "type": "scatter",
         "uid": "bd51b8ab-e18a-11e8-8ddb-a41f72875c19",
         "x": [
          "10-2",
          "10-3",
          "10-4"
         ],
         "y": [
          null,
          null,
          2
         ]
        },
        {
         "line": {
          "dash": "dash"
         },
         "name": "总下单数(昶吉阳)",
         "type": "scatter",
         "uid": "bd51b8ac-e18a-11e8-8ddb-a41f72875c19",
         "x": [
          "10-2",
          "10-3",
          "10-4"
         ],
         "y": [
          null,
          1,
          4
         ]
        },
        {
         "line": {
          "dash": "longdash"
         },
         "name": "总下单数(杨伟飞)",
         "type": "scatter",
         "uid": "bd51b8ad-e18a-11e8-8ddb-a41f72875c19",
         "x": [
          "10-2",
          "10-3",
          "10-4"
         ],
         "y": [
          4,
          4,
          5
         ]
        },
        {
         "line": {
          "dash": "dashdot"
         },
         "name": "总下单数(王红)",
         "type": "scatter",
         "uid": "bd51b8ae-e18a-11e8-8ddb-a41f72875c19",
         "x": [
          "10-2",
          "10-3",
          "10-4"
         ],
         "y": [
          null,
          null,
          1
         ]
        },
        {
         "line": {
          "dash": "longdashdot"
         },
         "name": "总下单数(于勇一)",
         "type": "scatter",
         "uid": "bd51b8af-e18a-11e8-8ddb-a41f72875c19",
         "x": [
          "10-2",
          "10-3",
          "10-4"
         ],
         "y": [
          7,
          5,
          4
         ]
        },
        {
         "line": {
          "dash": "solid"
         },
         "name": "总下单数(于慧)",
         "type": "scatter",
         "uid": "bd51b8b0-e18a-11e8-8ddb-a41f72875c19",
         "x": [
          "10-2",
          "10-3",
          "10-4"
         ],
         "y": [
          6,
          6,
          8
         ]
        },
        {
         "line": {
          "dash": "dot"
         },
         "name": "总下单数(谢德健)",
         "type": "scatter",
         "uid": "bd51b8b1-e18a-11e8-8ddb-a41f72875c19",
         "x": [
          "10-2",
          "10-3",
          "10-4"
         ],
         "y": [
          4,
          3,
          4
         ]
        },
        {
         "line": {
          "dash": "dash"
         },
         "name": "总下单数(范旭宁)",
         "type": "scatter",
         "uid": "bd51b8b2-e18a-11e8-8ddb-a41f72875c19",
         "x": [
          "10-2",
          "10-3",
          "10-4"
         ],
         "y": [
          5,
          3,
          4
         ]
        },
        {
         "line": {
          "dash": "longdash"
         },
         "name": "总下单数(占伟)",
         "type": "scatter",
         "uid": "bd51b8b3-e18a-11e8-8ddb-a41f72875c19",
         "x": [
          "10-2",
          "10-3",
          "10-4"
         ],
         "y": [
          9,
          9,
          6
         ]
        },
        {
         "line": {
          "dash": "dashdot"
         },
         "name": "总下单数(张悦)",
         "type": "scatter",
         "uid": "bd51b8b4-e18a-11e8-8ddb-a41f72875c19",
         "x": [
          "10-2",
          "10-3",
          "10-4"
         ],
         "y": [
          null,
          null,
          1
         ]
        },
        {
         "line": {
          "dash": "longdashdot"
         },
         "name": "总下单数(张守伟)",
         "type": "scatter",
         "uid": "bd51b8b5-e18a-11e8-8ddb-a41f72875c19",
         "x": [
          "10-2",
          "10-3",
          "10-4"
         ],
         "y": [
          3,
          3,
          4
         ]
        },
        {
         "line": {
          "dash": "solid"
         },
         "name": "总下单数(路慧萍)",
         "type": "scatter",
         "uid": "bd51b8b6-e18a-11e8-8ddb-a41f72875c19",
         "x": [
          "10-2",
          "10-3",
          "10-4"
         ],
         "y": [
          5,
          6,
          8
         ]
        },
        {
         "line": {
          "dash": "dot"
         },
         "name": "总下单数(冯敬岩)",
         "type": "scatter",
         "uid": "bd51b8b7-e18a-11e8-8ddb-a41f72875c19",
         "x": [
          "10-2",
          "10-3",
          "10-4"
         ],
         "y": [
          null,
          null,
          1
         ]
        },
        {
         "line": {
          "dash": "dash"
         },
         "name": "总下单数(马潇)",
         "type": "scatter",
         "uid": "bd51b8b8-e18a-11e8-8ddb-a41f72875c19",
         "x": [
          "10-2",
          "10-3",
          "10-4"
         ],
         "y": [
          9,
          8,
          7
         ]
        },
        {
         "line": {
          "dash": "longdash"
         },
         "name": "总下单数(孟昊)",
         "type": "scatter",
         "uid": "bd51b8b9-e18a-11e8-8ddb-a41f72875c19",
         "x": [
          "10-2",
          "10-3",
          "10-4"
         ],
         "y": [
          7,
          7,
          7
         ]
        },
        {
         "line": {
          "dash": "dashdot"
         },
         "name": "总下单数(涂成芳)",
         "type": "scatter",
         "uid": "bd51b8ba-e18a-11e8-8ddb-a41f72875c19",
         "x": [
          "10-2",
          "10-3",
          "10-4"
         ],
         "y": [
          null,
          null,
          1
         ]
        },
        {
         "line": {
          "dash": "longdashdot"
         },
         "name": "总下单数(赵玥)",
         "type": "scatter",
         "uid": "bd51b8bb-e18a-11e8-8ddb-a41f72875c19",
         "x": [
          "10-2",
          "10-3",
          "10-4"
         ],
         "y": [
          4,
          6,
          5
         ]
        },
        {
         "line": {
          "dash": "solid"
         },
         "name": "总下单数(封彦杰)",
         "type": "scatter",
         "uid": "bd51b8bc-e18a-11e8-8ddb-a41f72875c19",
         "x": [
          "10-2",
          "10-3",
          "10-4"
         ],
         "y": [
          7,
          6,
          6
         ]
        },
        {
         "line": {
          "dash": "dot"
         },
         "name": "总下单数(周杨)",
         "type": "scatter",
         "uid": "bd51b8bd-e18a-11e8-8ddb-a41f72875c19",
         "x": [
          "10-2",
          "10-3",
          "10-4"
         ],
         "y": [
          6,
          3,
          7
         ]
        },
        {
         "line": {
          "dash": "dash"
         },
         "name": "总下单数(刘江)",
         "type": "scatter",
         "uid": "bd51b8be-e18a-11e8-8ddb-a41f72875c19",
         "x": [
          "10-2",
          "10-3",
          "10-4"
         ],
         "y": [
          7,
          6,
          6
         ]
        },
        {
         "line": {
          "dash": "longdash"
         },
         "name": "总下单数(苏彦勋)",
         "type": "scatter",
         "uid": "bd51b8bf-e18a-11e8-8ddb-a41f72875c19",
         "x": [
          "10-2",
          "10-3",
          "10-4"
         ],
         "y": [
          null,
          7,
          7
         ]
        },
        {
         "line": {
          "dash": "dashdot"
         },
         "name": "总下单数(任雪)",
         "type": "scatter",
         "uid": "bd51b8c0-e18a-11e8-8ddb-a41f72875c19",
         "x": [
          "10-2",
          "10-3",
          "10-4"
         ],
         "y": [
          7,
          4,
          3
         ]
        },
        {
         "line": {
          "dash": "longdashdot"
         },
         "name": "总下单数(段利强)",
         "type": "scatter",
         "uid": "bd51b8c1-e18a-11e8-8ddb-a41f72875c19",
         "x": [
          "10-2",
          "10-3",
          "10-4"
         ],
         "y": [
          3,
          null,
          null
         ]
        },
        {
         "line": {
          "dash": "solid"
         },
         "name": "总下单数(陈鹏燕)",
         "type": "scatter",
         "uid": "bd51b8c2-e18a-11e8-8ddb-a41f72875c19",
         "x": [
          "10-2",
          "10-3",
          "10-4"
         ],
         "y": [
          null,
          5,
          4
         ]
        },
        {
         "line": {
          "dash": "dot"
         },
         "name": "总下单数(车天栋)",
         "type": "scatter",
         "uid": "bd51b8c3-e18a-11e8-8ddb-a41f72875c19",
         "x": [
          "10-2",
          "10-3",
          "10-4"
         ],
         "y": [
          null,
          null,
          1
         ]
        },
        {
         "line": {
          "dash": "dash"
         },
         "name": "总下单数(李华云)",
         "type": "scatter",
         "uid": "bd51b8c4-e18a-11e8-8ddb-a41f72875c19",
         "x": [
          "10-2",
          "10-3",
          "10-4"
         ],
         "y": [
          null,
          null,
          6
         ]
        },
        {
         "line": {
          "dash": "solid"
         },
         "name": "完成下单数(林文文)",
         "type": "scatter",
         "uid": "bd51b8c5-e18a-11e8-8ddb-a41f72875c19",
         "x": [
          "10-2",
          "10-3",
          "10-4"
         ],
         "y": [
          null,
          null,
          1
         ]
        },
        {
         "line": {
          "dash": "dot"
         },
         "name": "完成下单数(屈昂)",
         "type": "scatter",
         "uid": "bd51b8c6-e18a-11e8-8ddb-a41f72875c19",
         "x": [
          "10-2",
          "10-3",
          "10-4"
         ],
         "y": [
          1,
          null,
          1
         ]
        },
        {
         "line": {
          "dash": "dash"
         },
         "name": "完成下单数(姚盟成)",
         "type": "scatter",
         "uid": "bd51b8c7-e18a-11e8-8ddb-a41f72875c19",
         "x": [
          "10-2",
          "10-3",
          "10-4"
         ],
         "y": [
          0,
          2,
          4
         ]
        },
        {
         "line": {
          "dash": "longdash"
         },
         "name": "完成下单数(冷雪)",
         "type": "scatter",
         "uid": "bd51b8c8-e18a-11e8-8ddb-a41f72875c19",
         "x": [
          "10-2",
          "10-3",
          "10-4"
         ],
         "y": [
          2,
          null,
          1
         ]
        },
        {
         "line": {
          "dash": "dashdot"
         },
         "name": "完成下单数(韩少怀)",
         "type": "scatter",
         "uid": "bd51b8c9-e18a-11e8-8ddb-a41f72875c19",
         "x": [
          "10-2",
          "10-3",
          "10-4"
         ],
         "y": [
          4,
          5,
          4
         ]
        },
        {
         "line": {
          "dash": "longdashdot"
         },
         "name": "完成下单数(李庆原)",
         "type": "scatter",
         "uid": "bd51b8ca-e18a-11e8-8ddb-a41f72875c19",
         "x": [
          "10-2",
          "10-3",
          "10-4"
         ],
         "y": [
          6,
          4,
          4
         ]
        },
        {
         "line": {
          "dash": "solid"
         },
         "name": "完成下单数(刘三阳)",
         "type": "scatter",
         "uid": "bd51b8cb-e18a-11e8-8ddb-a41f72875c19",
         "x": [
          "10-2",
          "10-3",
          "10-4"
         ],
         "y": [
          null,
          0,
          null
         ]
        },
        {
         "line": {
          "dash": "dot"
         },
         "name": "完成下单数(沈恩惠)",
         "type": "scatter",
         "uid": "bd51b8cc-e18a-11e8-8ddb-a41f72875c19",
         "x": [
          "10-2",
          "10-3",
          "10-4"
         ],
         "y": [
          null,
          null,
          2
         ]
        },
        {
         "line": {
          "dash": "dash"
         },
         "name": "完成下单数(昶吉阳)",
         "type": "scatter",
         "uid": "bd51b8cd-e18a-11e8-8ddb-a41f72875c19",
         "x": [
          "10-2",
          "10-3",
          "10-4"
         ],
         "y": [
          null,
          0,
          4
         ]
        },
        {
         "line": {
          "dash": "longdash"
         },
         "name": "完成下单数(杨伟飞)",
         "type": "scatter",
         "uid": "bd51b8ce-e18a-11e8-8ddb-a41f72875c19",
         "x": [
          "10-2",
          "10-3",
          "10-4"
         ],
         "y": [
          1,
          4,
          3
         ]
        },
        {
         "line": {
          "dash": "dashdot"
         },
         "name": "完成下单数(王红)",
         "type": "scatter",
         "uid": "bd51b8cf-e18a-11e8-8ddb-a41f72875c19",
         "x": [
          "10-2",
          "10-3",
          "10-4"
         ],
         "y": [
          null,
          null,
          1
         ]
        },
        {
         "line": {
          "dash": "longdashdot"
         },
         "name": "完成下单数(于勇一)",
         "type": "scatter",
         "uid": "bd51b8d0-e18a-11e8-8ddb-a41f72875c19",
         "x": [
          "10-2",
          "10-3",
          "10-4"
         ],
         "y": [
          5,
          5,
          4
         ]
        },
        {
         "line": {
          "dash": "solid"
         },
         "name": "完成下单数(于慧)",
         "type": "scatter",
         "uid": "bd51b8d1-e18a-11e8-8ddb-a41f72875c19",
         "x": [
          "10-2",
          "10-3",
          "10-4"
         ],
         "y": [
          6,
          5,
          8
         ]
        },
        {
         "line": {
          "dash": "dot"
         },
         "name": "完成下单数(谢德健)",
         "type": "scatter",
         "uid": "bd51b8d2-e18a-11e8-8ddb-a41f72875c19",
         "x": [
          "10-2",
          "10-3",
          "10-4"
         ],
         "y": [
          3,
          2,
          4
         ]
        },
        {
         "line": {
          "dash": "dash"
         },
         "name": "完成下单数(范旭宁)",
         "type": "scatter",
         "uid": "bd51b8d3-e18a-11e8-8ddb-a41f72875c19",
         "x": [
          "10-2",
          "10-3",
          "10-4"
         ],
         "y": [
          2,
          3,
          4
         ]
        },
        {
         "line": {
          "dash": "longdash"
         },
         "name": "完成下单数(占伟)",
         "type": "scatter",
         "uid": "bd51b8d4-e18a-11e8-8ddb-a41f72875c19",
         "x": [
          "10-2",
          "10-3",
          "10-4"
         ],
         "y": [
          7,
          9,
          4
         ]
        },
        {
         "line": {
          "dash": "dashdot"
         },
         "name": "完成下单数(张悦)",
         "type": "scatter",
         "uid": "bd51b8d5-e18a-11e8-8ddb-a41f72875c19",
         "x": [
          "10-2",
          "10-3",
          "10-4"
         ],
         "y": [
          null,
          null,
          0
         ]
        },
        {
         "line": {
          "dash": "longdashdot"
         },
         "name": "完成下单数(张守伟)",
         "type": "scatter",
         "uid": "bd51b8d6-e18a-11e8-8ddb-a41f72875c19",
         "x": [
          "10-2",
          "10-3",
          "10-4"
         ],
         "y": [
          2,
          3,
          3
         ]
        },
        {
         "line": {
          "dash": "solid"
         },
         "name": "完成下单数(路慧萍)",
         "type": "scatter",
         "uid": "bd51b8d7-e18a-11e8-8ddb-a41f72875c19",
         "x": [
          "10-2",
          "10-3",
          "10-4"
         ],
         "y": [
          5,
          6,
          8
         ]
        },
        {
         "line": {
          "dash": "dot"
         },
         "name": "完成下单数(冯敬岩)",
         "type": "scatter",
         "uid": "bd51b8d8-e18a-11e8-8ddb-a41f72875c19",
         "x": [
          "10-2",
          "10-3",
          "10-4"
         ],
         "y": [
          null,
          null,
          0
         ]
        },
        {
         "line": {
          "dash": "dash"
         },
         "name": "完成下单数(马潇)",
         "type": "scatter",
         "uid": "bd51b8d9-e18a-11e8-8ddb-a41f72875c19",
         "x": [
          "10-2",
          "10-3",
          "10-4"
         ],
         "y": [
          8,
          6,
          7
         ]
        },
        {
         "line": {
          "dash": "longdash"
         },
         "name": "完成下单数(孟昊)",
         "type": "scatter",
         "uid": "bd51b8da-e18a-11e8-8ddb-a41f72875c19",
         "x": [
          "10-2",
          "10-3",
          "10-4"
         ],
         "y": [
          7,
          7,
          7
         ]
        },
        {
         "line": {
          "dash": "dashdot"
         },
         "name": "完成下单数(涂成芳)",
         "type": "scatter",
         "uid": "bd51b8db-e18a-11e8-8ddb-a41f72875c19",
         "x": [
          "10-2",
          "10-3",
          "10-4"
         ],
         "y": [
          null,
          null,
          1
         ]
        },
        {
         "line": {
          "dash": "longdashdot"
         },
         "name": "完成下单数(赵玥)",
         "type": "scatter",
         "uid": "bd51b8dc-e18a-11e8-8ddb-a41f72875c19",
         "x": [
          "10-2",
          "10-3",
          "10-4"
         ],
         "y": [
          4,
          6,
          4
         ]
        },
        {
         "line": {
          "dash": "solid"
         },
         "name": "完成下单数(封彦杰)",
         "type": "scatter",
         "uid": "bd51b8dd-e18a-11e8-8ddb-a41f72875c19",
         "x": [
          "10-2",
          "10-3",
          "10-4"
         ],
         "y": [
          7,
          6,
          5
         ]
        },
        {
         "line": {
          "dash": "dot"
         },
         "name": "完成下单数(周杨)",
         "type": "scatter",
         "uid": "bd51b8de-e18a-11e8-8ddb-a41f72875c19",
         "x": [
          "10-2",
          "10-3",
          "10-4"
         ],
         "y": [
          6,
          0,
          7
         ]
        },
        {
         "line": {
          "dash": "dash"
         },
         "name": "完成下单数(刘江)",
         "type": "scatter",
         "uid": "bd51b8df-e18a-11e8-8ddb-a41f72875c19",
         "x": [
          "10-2",
          "10-3",
          "10-4"
         ],
         "y": [
          4,
          6,
          6
         ]
        },
        {
         "line": {
          "dash": "longdash"
         },
         "name": "完成下单数(苏彦勋)",
         "type": "scatter",
         "uid": "bd51b8e0-e18a-11e8-8ddb-a41f72875c19",
         "x": [
          "10-2",
          "10-3",
          "10-4"
         ],
         "y": [
          null,
          7,
          7
         ]
        },
        {
         "line": {
          "dash": "dashdot"
         },
         "name": "完成下单数(任雪)",
         "type": "scatter",
         "uid": "bd51b8e1-e18a-11e8-8ddb-a41f72875c19",
         "x": [
          "10-2",
          "10-3",
          "10-4"
         ],
         "y": [
          6,
          3,
          2
         ]
        },
        {
         "line": {
          "dash": "longdashdot"
         },
         "name": "完成下单数(段利强)",
         "type": "scatter",
         "uid": "bd51b8e2-e18a-11e8-8ddb-a41f72875c19",
         "x": [
          "10-2",
          "10-3",
          "10-4"
         ],
         "y": [
          1,
          null,
          null
         ]
        },
        {
         "line": {
          "dash": "solid"
         },
         "name": "完成下单数(陈鹏燕)",
         "type": "scatter",
         "uid": "bd51b8e3-e18a-11e8-8ddb-a41f72875c19",
         "x": [
          "10-2",
          "10-3",
          "10-4"
         ],
         "y": [
          null,
          4,
          4
         ]
        },
        {
         "line": {
          "dash": "dot"
         },
         "name": "完成下单数(车天栋)",
         "type": "scatter",
         "uid": "bd51b8e4-e18a-11e8-8ddb-a41f72875c19",
         "x": [
          "10-2",
          "10-3",
          "10-4"
         ],
         "y": [
          null,
          null,
          1
         ]
        },
        {
         "line": {
          "dash": "dash"
         },
         "name": "完成下单数(李华云)",
         "type": "scatter",
         "uid": "bd51b8e5-e18a-11e8-8ddb-a41f72875c19",
         "x": [
          "10-2",
          "10-3",
          "10-4"
         ],
         "y": [
          null,
          null,
          4
         ]
        }
       ],
       "layout": {
        "title": "总下单数&完成下单数周趋势图",
        "xaxis": {
         "mirror": "all",
         "nticks": 20,
         "showgrid": true,
         "showline": true,
         "title": "周",
         "type": "category",
         "zeroline": true
        },
        "yaxis": {
         "mirror": "all",
         "nticks": 20,
         "showgrid": true,
         "showline": true,
         "title": "总下单数&完成下单数",
         "zeroline": true
        }
       }
      },
      "text/html": [
       "<div id=\"c24c8978-f193-4b5b-95cd-f749f6a95bce\" style=\"height: 525px; width: 100%;\" class=\"plotly-graph-div\"></div><script type=\"text/javascript\">require([\"plotly\"], function(Plotly) { window.PLOTLYENV=window.PLOTLYENV || {};window.PLOTLYENV.BASE_URL=\"https://plot.ly\";Plotly.newPlot(\"c24c8978-f193-4b5b-95cd-f749f6a95bce\", [{\"line\": {\"dash\": \"solid\"}, \"name\": \"\\u603b\\u4e0b\\u5355\\u6570(\\u6797\\u6587\\u6587)\", \"x\": [\"10-2\", \"10-3\", \"10-4\"], \"y\": [null, null, 1.0], \"type\": \"scatter\", \"uid\": \"bd51b8a4-e18a-11e8-8ddb-a41f72875c19\"}, {\"line\": {\"dash\": \"dot\"}, \"name\": \"\\u603b\\u4e0b\\u5355\\u6570(\\u5c48\\u6602)\", \"x\": [\"10-2\", \"10-3\", \"10-4\"], \"y\": [1.0, null, 1.0], \"type\": \"scatter\", \"uid\": \"bd51b8a5-e18a-11e8-8ddb-a41f72875c19\"}, {\"line\": {\"dash\": \"dash\"}, \"name\": \"\\u603b\\u4e0b\\u5355\\u6570(\\u59da\\u76df\\u6210)\", \"x\": [\"10-2\", \"10-3\", \"10-4\"], \"y\": [4.0, 3.0, 4.0], \"type\": \"scatter\", \"uid\": \"bd51b8a6-e18a-11e8-8ddb-a41f72875c19\"}, {\"line\": {\"dash\": \"longdash\"}, \"name\": \"\\u603b\\u4e0b\\u5355\\u6570(\\u51b7\\u96ea)\", \"x\": [\"10-2\", \"10-3\", \"10-4\"], \"y\": [2.0, null, 1.0], \"type\": \"scatter\", \"uid\": \"bd51b8a7-e18a-11e8-8ddb-a41f72875c19\"}, {\"line\": {\"dash\": \"dashdot\"}, \"name\": \"\\u603b\\u4e0b\\u5355\\u6570(\\u97e9\\u5c11\\u6000)\", \"x\": [\"10-2\", \"10-3\", \"10-4\"], \"y\": [4.0, 5.0, 4.0], \"type\": \"scatter\", \"uid\": \"bd51b8a8-e18a-11e8-8ddb-a41f72875c19\"}, {\"line\": {\"dash\": \"longdashdot\"}, \"name\": \"\\u603b\\u4e0b\\u5355\\u6570(\\u674e\\u5e86\\u539f)\", \"x\": [\"10-2\", \"10-3\", \"10-4\"], \"y\": [6.0, 5.0, 4.0], \"type\": \"scatter\", \"uid\": \"bd51b8a9-e18a-11e8-8ddb-a41f72875c19\"}, {\"line\": {\"dash\": \"solid\"}, \"name\": \"\\u603b\\u4e0b\\u5355\\u6570(\\u5218\\u4e09\\u9633)\", \"x\": [\"10-2\", \"10-3\", \"10-4\"], \"y\": [null, 1.0, null], \"type\": \"scatter\", \"uid\": \"bd51b8aa-e18a-11e8-8ddb-a41f72875c19\"}, {\"line\": {\"dash\": \"dot\"}, \"name\": \"\\u603b\\u4e0b\\u5355\\u6570(\\u6c88\\u6069\\u60e0)\", \"x\": [\"10-2\", \"10-3\", \"10-4\"], \"y\": [null, null, 2.0], \"type\": \"scatter\", \"uid\": \"bd51b8ab-e18a-11e8-8ddb-a41f72875c19\"}, {\"line\": {\"dash\": \"dash\"}, \"name\": \"\\u603b\\u4e0b\\u5355\\u6570(\\u6636\\u5409\\u9633)\", \"x\": [\"10-2\", \"10-3\", \"10-4\"], \"y\": [null, 1.0, 4.0], \"type\": \"scatter\", \"uid\": \"bd51b8ac-e18a-11e8-8ddb-a41f72875c19\"}, {\"line\": {\"dash\": \"longdash\"}, \"name\": \"\\u603b\\u4e0b\\u5355\\u6570(\\u6768\\u4f1f\\u98de)\", \"x\": [\"10-2\", \"10-3\", \"10-4\"], \"y\": [4.0, 4.0, 5.0], \"type\": \"scatter\", \"uid\": \"bd51b8ad-e18a-11e8-8ddb-a41f72875c19\"}, {\"line\": {\"dash\": \"dashdot\"}, \"name\": \"\\u603b\\u4e0b\\u5355\\u6570(\\u738b\\u7ea2)\", \"x\": [\"10-2\", \"10-3\", \"10-4\"], \"y\": [null, null, 1.0], \"type\": \"scatter\", \"uid\": \"bd51b8ae-e18a-11e8-8ddb-a41f72875c19\"}, {\"line\": {\"dash\": \"longdashdot\"}, \"name\": \"\\u603b\\u4e0b\\u5355\\u6570(\\u4e8e\\u52c7\\u4e00)\", \"x\": [\"10-2\", \"10-3\", \"10-4\"], \"y\": [7.0, 5.0, 4.0], \"type\": \"scatter\", \"uid\": \"bd51b8af-e18a-11e8-8ddb-a41f72875c19\"}, {\"line\": {\"dash\": \"solid\"}, \"name\": \"\\u603b\\u4e0b\\u5355\\u6570(\\u4e8e\\u6167)\", \"x\": [\"10-2\", \"10-3\", \"10-4\"], \"y\": [6.0, 6.0, 8.0], \"type\": \"scatter\", \"uid\": \"bd51b8b0-e18a-11e8-8ddb-a41f72875c19\"}, {\"line\": {\"dash\": \"dot\"}, \"name\": \"\\u603b\\u4e0b\\u5355\\u6570(\\u8c22\\u5fb7\\u5065)\", \"x\": [\"10-2\", \"10-3\", \"10-4\"], \"y\": [4.0, 3.0, 4.0], \"type\": \"scatter\", \"uid\": \"bd51b8b1-e18a-11e8-8ddb-a41f72875c19\"}, {\"line\": {\"dash\": \"dash\"}, \"name\": \"\\u603b\\u4e0b\\u5355\\u6570(\\u8303\\u65ed\\u5b81)\", \"x\": [\"10-2\", \"10-3\", \"10-4\"], \"y\": [5.0, 3.0, 4.0], \"type\": \"scatter\", \"uid\": \"bd51b8b2-e18a-11e8-8ddb-a41f72875c19\"}, {\"line\": {\"dash\": \"longdash\"}, \"name\": \"\\u603b\\u4e0b\\u5355\\u6570(\\u5360\\u4f1f)\", \"x\": [\"10-2\", \"10-3\", \"10-4\"], \"y\": [9.0, 9.0, 6.0], \"type\": \"scatter\", \"uid\": \"bd51b8b3-e18a-11e8-8ddb-a41f72875c19\"}, {\"line\": {\"dash\": \"dashdot\"}, \"name\": \"\\u603b\\u4e0b\\u5355\\u6570(\\u5f20\\u60a6)\", \"x\": [\"10-2\", \"10-3\", \"10-4\"], \"y\": [null, null, 1.0], \"type\": \"scatter\", \"uid\": \"bd51b8b4-e18a-11e8-8ddb-a41f72875c19\"}, {\"line\": {\"dash\": \"longdashdot\"}, \"name\": \"\\u603b\\u4e0b\\u5355\\u6570(\\u5f20\\u5b88\\u4f1f)\", \"x\": [\"10-2\", \"10-3\", \"10-4\"], \"y\": [3.0, 3.0, 4.0], \"type\": \"scatter\", \"uid\": \"bd51b8b5-e18a-11e8-8ddb-a41f72875c19\"}, {\"line\": {\"dash\": \"solid\"}, \"name\": \"\\u603b\\u4e0b\\u5355\\u6570(\\u8def\\u6167\\u840d)\", \"x\": [\"10-2\", \"10-3\", \"10-4\"], \"y\": [5.0, 6.0, 8.0], \"type\": \"scatter\", \"uid\": \"bd51b8b6-e18a-11e8-8ddb-a41f72875c19\"}, {\"line\": {\"dash\": \"dot\"}, \"name\": \"\\u603b\\u4e0b\\u5355\\u6570(\\u51af\\u656c\\u5ca9)\", \"x\": [\"10-2\", \"10-3\", \"10-4\"], \"y\": [null, null, 1.0], \"type\": \"scatter\", \"uid\": \"bd51b8b7-e18a-11e8-8ddb-a41f72875c19\"}, {\"line\": {\"dash\": \"dash\"}, \"name\": \"\\u603b\\u4e0b\\u5355\\u6570(\\u9a6c\\u6f47)\", \"x\": [\"10-2\", \"10-3\", \"10-4\"], \"y\": [9.0, 8.0, 7.0], \"type\": \"scatter\", \"uid\": \"bd51b8b8-e18a-11e8-8ddb-a41f72875c19\"}, {\"line\": {\"dash\": \"longdash\"}, \"name\": \"\\u603b\\u4e0b\\u5355\\u6570(\\u5b5f\\u660a)\", \"x\": [\"10-2\", \"10-3\", \"10-4\"], \"y\": [7.0, 7.0, 7.0], \"type\": \"scatter\", \"uid\": \"bd51b8b9-e18a-11e8-8ddb-a41f72875c19\"}, {\"line\": {\"dash\": \"dashdot\"}, \"name\": \"\\u603b\\u4e0b\\u5355\\u6570(\\u6d82\\u6210\\u82b3)\", \"x\": [\"10-2\", \"10-3\", \"10-4\"], \"y\": [null, null, 1.0], \"type\": \"scatter\", \"uid\": \"bd51b8ba-e18a-11e8-8ddb-a41f72875c19\"}, {\"line\": {\"dash\": \"longdashdot\"}, \"name\": \"\\u603b\\u4e0b\\u5355\\u6570(\\u8d75\\u73a5)\", \"x\": [\"10-2\", \"10-3\", \"10-4\"], \"y\": [4.0, 6.0, 5.0], \"type\": \"scatter\", \"uid\": \"bd51b8bb-e18a-11e8-8ddb-a41f72875c19\"}, {\"line\": {\"dash\": \"solid\"}, \"name\": \"\\u603b\\u4e0b\\u5355\\u6570(\\u5c01\\u5f66\\u6770)\", \"x\": [\"10-2\", \"10-3\", \"10-4\"], \"y\": [7.0, 6.0, 6.0], \"type\": \"scatter\", \"uid\": \"bd51b8bc-e18a-11e8-8ddb-a41f72875c19\"}, {\"line\": {\"dash\": \"dot\"}, \"name\": \"\\u603b\\u4e0b\\u5355\\u6570(\\u5468\\u6768)\", \"x\": [\"10-2\", \"10-3\", \"10-4\"], \"y\": [6.0, 3.0, 7.0], \"type\": \"scatter\", \"uid\": \"bd51b8bd-e18a-11e8-8ddb-a41f72875c19\"}, {\"line\": {\"dash\": \"dash\"}, \"name\": \"\\u603b\\u4e0b\\u5355\\u6570(\\u5218\\u6c5f)\", \"x\": [\"10-2\", \"10-3\", \"10-4\"], \"y\": [7.0, 6.0, 6.0], \"type\": \"scatter\", \"uid\": \"bd51b8be-e18a-11e8-8ddb-a41f72875c19\"}, {\"line\": {\"dash\": \"longdash\"}, \"name\": \"\\u603b\\u4e0b\\u5355\\u6570(\\u82cf\\u5f66\\u52cb)\", \"x\": [\"10-2\", \"10-3\", \"10-4\"], \"y\": [null, 7.0, 7.0], \"type\": \"scatter\", \"uid\": \"bd51b8bf-e18a-11e8-8ddb-a41f72875c19\"}, {\"line\": {\"dash\": \"dashdot\"}, \"name\": \"\\u603b\\u4e0b\\u5355\\u6570(\\u4efb\\u96ea)\", \"x\": [\"10-2\", \"10-3\", \"10-4\"], \"y\": [7.0, 4.0, 3.0], \"type\": \"scatter\", \"uid\": \"bd51b8c0-e18a-11e8-8ddb-a41f72875c19\"}, {\"line\": {\"dash\": \"longdashdot\"}, \"name\": \"\\u603b\\u4e0b\\u5355\\u6570(\\u6bb5\\u5229\\u5f3a)\", \"x\": [\"10-2\", \"10-3\", \"10-4\"], \"y\": [3.0, null, null], \"type\": \"scatter\", \"uid\": \"bd51b8c1-e18a-11e8-8ddb-a41f72875c19\"}, {\"line\": {\"dash\": \"solid\"}, \"name\": \"\\u603b\\u4e0b\\u5355\\u6570(\\u9648\\u9e4f\\u71d5)\", \"x\": [\"10-2\", \"10-3\", \"10-4\"], \"y\": [null, 5.0, 4.0], \"type\": \"scatter\", \"uid\": \"bd51b8c2-e18a-11e8-8ddb-a41f72875c19\"}, {\"line\": {\"dash\": \"dot\"}, \"name\": \"\\u603b\\u4e0b\\u5355\\u6570(\\u8f66\\u5929\\u680b)\", \"x\": [\"10-2\", \"10-3\", \"10-4\"], \"y\": [null, null, 1.0], \"type\": \"scatter\", \"uid\": \"bd51b8c3-e18a-11e8-8ddb-a41f72875c19\"}, {\"line\": {\"dash\": \"dash\"}, \"name\": \"\\u603b\\u4e0b\\u5355\\u6570(\\u674e\\u534e\\u4e91)\", \"x\": [\"10-2\", \"10-3\", \"10-4\"], \"y\": [null, null, 6.0], \"type\": \"scatter\", \"uid\": \"bd51b8c4-e18a-11e8-8ddb-a41f72875c19\"}, {\"line\": {\"dash\": \"solid\"}, \"name\": \"\\u5b8c\\u6210\\u4e0b\\u5355\\u6570(\\u6797\\u6587\\u6587)\", \"x\": [\"10-2\", \"10-3\", \"10-4\"], \"y\": [null, null, 1.0], \"type\": \"scatter\", \"uid\": \"bd51b8c5-e18a-11e8-8ddb-a41f72875c19\"}, {\"line\": {\"dash\": \"dot\"}, \"name\": \"\\u5b8c\\u6210\\u4e0b\\u5355\\u6570(\\u5c48\\u6602)\", \"x\": [\"10-2\", \"10-3\", \"10-4\"], \"y\": [1.0, null, 1.0], \"type\": \"scatter\", \"uid\": \"bd51b8c6-e18a-11e8-8ddb-a41f72875c19\"}, {\"line\": {\"dash\": \"dash\"}, \"name\": \"\\u5b8c\\u6210\\u4e0b\\u5355\\u6570(\\u59da\\u76df\\u6210)\", \"x\": [\"10-2\", \"10-3\", \"10-4\"], \"y\": [0.0, 2.0, 4.0], \"type\": \"scatter\", \"uid\": \"bd51b8c7-e18a-11e8-8ddb-a41f72875c19\"}, {\"line\": {\"dash\": \"longdash\"}, \"name\": \"\\u5b8c\\u6210\\u4e0b\\u5355\\u6570(\\u51b7\\u96ea)\", \"x\": [\"10-2\", \"10-3\", \"10-4\"], \"y\": [2.0, null, 1.0], \"type\": \"scatter\", \"uid\": \"bd51b8c8-e18a-11e8-8ddb-a41f72875c19\"}, {\"line\": {\"dash\": \"dashdot\"}, \"name\": \"\\u5b8c\\u6210\\u4e0b\\u5355\\u6570(\\u97e9\\u5c11\\u6000)\", \"x\": [\"10-2\", \"10-3\", \"10-4\"], \"y\": [4.0, 5.0, 4.0], \"type\": \"scatter\", \"uid\": \"bd51b8c9-e18a-11e8-8ddb-a41f72875c19\"}, {\"line\": {\"dash\": \"longdashdot\"}, \"name\": \"\\u5b8c\\u6210\\u4e0b\\u5355\\u6570(\\u674e\\u5e86\\u539f)\", \"x\": [\"10-2\", \"10-3\", \"10-4\"], \"y\": [6.0, 4.0, 4.0], \"type\": \"scatter\", \"uid\": \"bd51b8ca-e18a-11e8-8ddb-a41f72875c19\"}, {\"line\": {\"dash\": \"solid\"}, \"name\": \"\\u5b8c\\u6210\\u4e0b\\u5355\\u6570(\\u5218\\u4e09\\u9633)\", \"x\": [\"10-2\", \"10-3\", \"10-4\"], \"y\": [null, 0.0, null], \"type\": \"scatter\", \"uid\": \"bd51b8cb-e18a-11e8-8ddb-a41f72875c19\"}, {\"line\": {\"dash\": \"dot\"}, \"name\": \"\\u5b8c\\u6210\\u4e0b\\u5355\\u6570(\\u6c88\\u6069\\u60e0)\", \"x\": [\"10-2\", \"10-3\", \"10-4\"], \"y\": [null, null, 2.0], \"type\": \"scatter\", \"uid\": \"bd51b8cc-e18a-11e8-8ddb-a41f72875c19\"}, {\"line\": {\"dash\": \"dash\"}, \"name\": \"\\u5b8c\\u6210\\u4e0b\\u5355\\u6570(\\u6636\\u5409\\u9633)\", \"x\": [\"10-2\", \"10-3\", \"10-4\"], \"y\": [null, 0.0, 4.0], \"type\": \"scatter\", \"uid\": \"bd51b8cd-e18a-11e8-8ddb-a41f72875c19\"}, {\"line\": {\"dash\": \"longdash\"}, \"name\": \"\\u5b8c\\u6210\\u4e0b\\u5355\\u6570(\\u6768\\u4f1f\\u98de)\", \"x\": [\"10-2\", \"10-3\", \"10-4\"], \"y\": [1.0, 4.0, 3.0], \"type\": \"scatter\", \"uid\": \"bd51b8ce-e18a-11e8-8ddb-a41f72875c19\"}, {\"line\": {\"dash\": \"dashdot\"}, \"name\": \"\\u5b8c\\u6210\\u4e0b\\u5355\\u6570(\\u738b\\u7ea2)\", \"x\": [\"10-2\", \"10-3\", \"10-4\"], \"y\": [null, null, 1.0], \"type\": \"scatter\", \"uid\": \"bd51b8cf-e18a-11e8-8ddb-a41f72875c19\"}, {\"line\": {\"dash\": \"longdashdot\"}, \"name\": \"\\u5b8c\\u6210\\u4e0b\\u5355\\u6570(\\u4e8e\\u52c7\\u4e00)\", \"x\": [\"10-2\", \"10-3\", \"10-4\"], \"y\": [5.0, 5.0, 4.0], \"type\": \"scatter\", \"uid\": \"bd51b8d0-e18a-11e8-8ddb-a41f72875c19\"}, {\"line\": {\"dash\": \"solid\"}, \"name\": \"\\u5b8c\\u6210\\u4e0b\\u5355\\u6570(\\u4e8e\\u6167)\", \"x\": [\"10-2\", \"10-3\", \"10-4\"], \"y\": [6.0, 5.0, 8.0], \"type\": \"scatter\", \"uid\": \"bd51b8d1-e18a-11e8-8ddb-a41f72875c19\"}, {\"line\": {\"dash\": \"dot\"}, \"name\": \"\\u5b8c\\u6210\\u4e0b\\u5355\\u6570(\\u8c22\\u5fb7\\u5065)\", \"x\": [\"10-2\", \"10-3\", \"10-4\"], \"y\": [3.0, 2.0, 4.0], \"type\": \"scatter\", \"uid\": \"bd51b8d2-e18a-11e8-8ddb-a41f72875c19\"}, {\"line\": {\"dash\": \"dash\"}, \"name\": \"\\u5b8c\\u6210\\u4e0b\\u5355\\u6570(\\u8303\\u65ed\\u5b81)\", \"x\": [\"10-2\", \"10-3\", \"10-4\"], \"y\": [2.0, 3.0, 4.0], \"type\": \"scatter\", \"uid\": \"bd51b8d3-e18a-11e8-8ddb-a41f72875c19\"}, {\"line\": {\"dash\": \"longdash\"}, \"name\": \"\\u5b8c\\u6210\\u4e0b\\u5355\\u6570(\\u5360\\u4f1f)\", \"x\": [\"10-2\", \"10-3\", \"10-4\"], \"y\": [7.0, 9.0, 4.0], \"type\": \"scatter\", \"uid\": \"bd51b8d4-e18a-11e8-8ddb-a41f72875c19\"}, {\"line\": {\"dash\": \"dashdot\"}, \"name\": \"\\u5b8c\\u6210\\u4e0b\\u5355\\u6570(\\u5f20\\u60a6)\", \"x\": [\"10-2\", \"10-3\", \"10-4\"], \"y\": [null, null, 0.0], \"type\": \"scatter\", \"uid\": \"bd51b8d5-e18a-11e8-8ddb-a41f72875c19\"}, {\"line\": {\"dash\": \"longdashdot\"}, \"name\": \"\\u5b8c\\u6210\\u4e0b\\u5355\\u6570(\\u5f20\\u5b88\\u4f1f)\", \"x\": [\"10-2\", \"10-3\", \"10-4\"], \"y\": [2.0, 3.0, 3.0], \"type\": \"scatter\", \"uid\": \"bd51b8d6-e18a-11e8-8ddb-a41f72875c19\"}, {\"line\": {\"dash\": \"solid\"}, \"name\": \"\\u5b8c\\u6210\\u4e0b\\u5355\\u6570(\\u8def\\u6167\\u840d)\", \"x\": [\"10-2\", \"10-3\", \"10-4\"], \"y\": [5.0, 6.0, 8.0], \"type\": \"scatter\", \"uid\": \"bd51b8d7-e18a-11e8-8ddb-a41f72875c19\"}, {\"line\": {\"dash\": \"dot\"}, \"name\": \"\\u5b8c\\u6210\\u4e0b\\u5355\\u6570(\\u51af\\u656c\\u5ca9)\", \"x\": [\"10-2\", \"10-3\", \"10-4\"], \"y\": [null, null, 0.0], \"type\": \"scatter\", \"uid\": \"bd51b8d8-e18a-11e8-8ddb-a41f72875c19\"}, {\"line\": {\"dash\": \"dash\"}, \"name\": \"\\u5b8c\\u6210\\u4e0b\\u5355\\u6570(\\u9a6c\\u6f47)\", \"x\": [\"10-2\", \"10-3\", \"10-4\"], \"y\": [8.0, 6.0, 7.0], \"type\": \"scatter\", \"uid\": \"bd51b8d9-e18a-11e8-8ddb-a41f72875c19\"}, {\"line\": {\"dash\": \"longdash\"}, \"name\": \"\\u5b8c\\u6210\\u4e0b\\u5355\\u6570(\\u5b5f\\u660a)\", \"x\": [\"10-2\", \"10-3\", \"10-4\"], \"y\": [7.0, 7.0, 7.0], \"type\": \"scatter\", \"uid\": \"bd51b8da-e18a-11e8-8ddb-a41f72875c19\"}, {\"line\": {\"dash\": \"dashdot\"}, \"name\": \"\\u5b8c\\u6210\\u4e0b\\u5355\\u6570(\\u6d82\\u6210\\u82b3)\", \"x\": [\"10-2\", \"10-3\", \"10-4\"], \"y\": [null, null, 1.0], \"type\": \"scatter\", \"uid\": \"bd51b8db-e18a-11e8-8ddb-a41f72875c19\"}, {\"line\": {\"dash\": \"longdashdot\"}, \"name\": \"\\u5b8c\\u6210\\u4e0b\\u5355\\u6570(\\u8d75\\u73a5)\", \"x\": [\"10-2\", \"10-3\", \"10-4\"], \"y\": [4.0, 6.0, 4.0], \"type\": \"scatter\", \"uid\": \"bd51b8dc-e18a-11e8-8ddb-a41f72875c19\"}, {\"line\": {\"dash\": \"solid\"}, \"name\": \"\\u5b8c\\u6210\\u4e0b\\u5355\\u6570(\\u5c01\\u5f66\\u6770)\", \"x\": [\"10-2\", \"10-3\", \"10-4\"], \"y\": [7.0, 6.0, 5.0], \"type\": \"scatter\", \"uid\": \"bd51b8dd-e18a-11e8-8ddb-a41f72875c19\"}, {\"line\": {\"dash\": \"dot\"}, \"name\": \"\\u5b8c\\u6210\\u4e0b\\u5355\\u6570(\\u5468\\u6768)\", \"x\": [\"10-2\", \"10-3\", \"10-4\"], \"y\": [6.0, 0.0, 7.0], \"type\": \"scatter\", \"uid\": \"bd51b8de-e18a-11e8-8ddb-a41f72875c19\"}, {\"line\": {\"dash\": \"dash\"}, \"name\": \"\\u5b8c\\u6210\\u4e0b\\u5355\\u6570(\\u5218\\u6c5f)\", \"x\": [\"10-2\", \"10-3\", \"10-4\"], \"y\": [4.0, 6.0, 6.0], \"type\": \"scatter\", \"uid\": \"bd51b8df-e18a-11e8-8ddb-a41f72875c19\"}, {\"line\": {\"dash\": \"longdash\"}, \"name\": \"\\u5b8c\\u6210\\u4e0b\\u5355\\u6570(\\u82cf\\u5f66\\u52cb)\", \"x\": [\"10-2\", \"10-3\", \"10-4\"], \"y\": [null, 7.0, 7.0], \"type\": \"scatter\", \"uid\": \"bd51b8e0-e18a-11e8-8ddb-a41f72875c19\"}, {\"line\": {\"dash\": \"dashdot\"}, \"name\": \"\\u5b8c\\u6210\\u4e0b\\u5355\\u6570(\\u4efb\\u96ea)\", \"x\": [\"10-2\", \"10-3\", \"10-4\"], \"y\": [6.0, 3.0, 2.0], \"type\": \"scatter\", \"uid\": \"bd51b8e1-e18a-11e8-8ddb-a41f72875c19\"}, {\"line\": {\"dash\": \"longdashdot\"}, \"name\": \"\\u5b8c\\u6210\\u4e0b\\u5355\\u6570(\\u6bb5\\u5229\\u5f3a)\", \"x\": [\"10-2\", \"10-3\", \"10-4\"], \"y\": [1.0, null, null], \"type\": \"scatter\", \"uid\": \"bd51b8e2-e18a-11e8-8ddb-a41f72875c19\"}, {\"line\": {\"dash\": \"solid\"}, \"name\": \"\\u5b8c\\u6210\\u4e0b\\u5355\\u6570(\\u9648\\u9e4f\\u71d5)\", \"x\": [\"10-2\", \"10-3\", \"10-4\"], \"y\": [null, 4.0, 4.0], \"type\": \"scatter\", \"uid\": \"bd51b8e3-e18a-11e8-8ddb-a41f72875c19\"}, {\"line\": {\"dash\": \"dot\"}, \"name\": \"\\u5b8c\\u6210\\u4e0b\\u5355\\u6570(\\u8f66\\u5929\\u680b)\", \"x\": [\"10-2\", \"10-3\", \"10-4\"], \"y\": [null, null, 1.0], \"type\": \"scatter\", \"uid\": \"bd51b8e4-e18a-11e8-8ddb-a41f72875c19\"}, {\"line\": {\"dash\": \"dash\"}, \"name\": \"\\u5b8c\\u6210\\u4e0b\\u5355\\u6570(\\u674e\\u534e\\u4e91)\", \"x\": [\"10-2\", \"10-3\", \"10-4\"], \"y\": [null, null, 4.0], \"type\": \"scatter\", \"uid\": \"bd51b8e5-e18a-11e8-8ddb-a41f72875c19\"}], {\"title\": \"\\u603b\\u4e0b\\u5355\\u6570&\\u5b8c\\u6210\\u4e0b\\u5355\\u6570\\u5468\\u8d8b\\u52bf\\u56fe\", \"xaxis\": {\"mirror\": \"all\", \"nticks\": 20, \"showgrid\": true, \"showline\": true, \"title\": \"\\u5468\", \"type\": \"category\", \"zeroline\": true}, \"yaxis\": {\"mirror\": \"all\", \"nticks\": 20, \"showgrid\": true, \"showline\": true, \"title\": \"\\u603b\\u4e0b\\u5355\\u6570&\\u5b8c\\u6210\\u4e0b\\u5355\\u6570\", \"zeroline\": true}}, {\"showLink\": true, \"linkText\": \"Export to plot.ly\"})});</script>"
      ],
      "text/vnd.plotly.v1+html": [
       "<div id=\"c24c8978-f193-4b5b-95cd-f749f6a95bce\" style=\"height: 525px; width: 100%;\" class=\"plotly-graph-div\"></div><script type=\"text/javascript\">require([\"plotly\"], function(Plotly) { window.PLOTLYENV=window.PLOTLYENV || {};window.PLOTLYENV.BASE_URL=\"https://plot.ly\";Plotly.newPlot(\"c24c8978-f193-4b5b-95cd-f749f6a95bce\", [{\"line\": {\"dash\": \"solid\"}, \"name\": \"\\u603b\\u4e0b\\u5355\\u6570(\\u6797\\u6587\\u6587)\", \"x\": [\"10-2\", \"10-3\", \"10-4\"], \"y\": [null, null, 1.0], \"type\": \"scatter\", \"uid\": \"bd51b8a4-e18a-11e8-8ddb-a41f72875c19\"}, {\"line\": {\"dash\": \"dot\"}, \"name\": \"\\u603b\\u4e0b\\u5355\\u6570(\\u5c48\\u6602)\", \"x\": [\"10-2\", \"10-3\", \"10-4\"], \"y\": [1.0, null, 1.0], \"type\": \"scatter\", \"uid\": \"bd51b8a5-e18a-11e8-8ddb-a41f72875c19\"}, {\"line\": {\"dash\": \"dash\"}, \"name\": \"\\u603b\\u4e0b\\u5355\\u6570(\\u59da\\u76df\\u6210)\", \"x\": [\"10-2\", \"10-3\", \"10-4\"], \"y\": [4.0, 3.0, 4.0], \"type\": \"scatter\", \"uid\": \"bd51b8a6-e18a-11e8-8ddb-a41f72875c19\"}, {\"line\": {\"dash\": \"longdash\"}, \"name\": \"\\u603b\\u4e0b\\u5355\\u6570(\\u51b7\\u96ea)\", \"x\": [\"10-2\", \"10-3\", \"10-4\"], \"y\": [2.0, null, 1.0], \"type\": \"scatter\", \"uid\": \"bd51b8a7-e18a-11e8-8ddb-a41f72875c19\"}, {\"line\": {\"dash\": \"dashdot\"}, \"name\": \"\\u603b\\u4e0b\\u5355\\u6570(\\u97e9\\u5c11\\u6000)\", \"x\": [\"10-2\", \"10-3\", \"10-4\"], \"y\": [4.0, 5.0, 4.0], \"type\": \"scatter\", \"uid\": \"bd51b8a8-e18a-11e8-8ddb-a41f72875c19\"}, {\"line\": {\"dash\": \"longdashdot\"}, \"name\": \"\\u603b\\u4e0b\\u5355\\u6570(\\u674e\\u5e86\\u539f)\", \"x\": [\"10-2\", \"10-3\", \"10-4\"], \"y\": [6.0, 5.0, 4.0], \"type\": \"scatter\", \"uid\": \"bd51b8a9-e18a-11e8-8ddb-a41f72875c19\"}, {\"line\": {\"dash\": \"solid\"}, \"name\": \"\\u603b\\u4e0b\\u5355\\u6570(\\u5218\\u4e09\\u9633)\", \"x\": [\"10-2\", \"10-3\", \"10-4\"], \"y\": [null, 1.0, null], \"type\": \"scatter\", \"uid\": \"bd51b8aa-e18a-11e8-8ddb-a41f72875c19\"}, {\"line\": {\"dash\": \"dot\"}, \"name\": \"\\u603b\\u4e0b\\u5355\\u6570(\\u6c88\\u6069\\u60e0)\", \"x\": [\"10-2\", \"10-3\", \"10-4\"], \"y\": [null, null, 2.0], \"type\": \"scatter\", \"uid\": \"bd51b8ab-e18a-11e8-8ddb-a41f72875c19\"}, {\"line\": {\"dash\": \"dash\"}, \"name\": \"\\u603b\\u4e0b\\u5355\\u6570(\\u6636\\u5409\\u9633)\", \"x\": [\"10-2\", \"10-3\", \"10-4\"], \"y\": [null, 1.0, 4.0], \"type\": \"scatter\", \"uid\": \"bd51b8ac-e18a-11e8-8ddb-a41f72875c19\"}, {\"line\": {\"dash\": \"longdash\"}, \"name\": \"\\u603b\\u4e0b\\u5355\\u6570(\\u6768\\u4f1f\\u98de)\", \"x\": [\"10-2\", \"10-3\", \"10-4\"], \"y\": [4.0, 4.0, 5.0], \"type\": \"scatter\", \"uid\": \"bd51b8ad-e18a-11e8-8ddb-a41f72875c19\"}, {\"line\": {\"dash\": \"dashdot\"}, \"name\": \"\\u603b\\u4e0b\\u5355\\u6570(\\u738b\\u7ea2)\", \"x\": [\"10-2\", \"10-3\", \"10-4\"], \"y\": [null, null, 1.0], \"type\": \"scatter\", \"uid\": \"bd51b8ae-e18a-11e8-8ddb-a41f72875c19\"}, {\"line\": {\"dash\": \"longdashdot\"}, \"name\": \"\\u603b\\u4e0b\\u5355\\u6570(\\u4e8e\\u52c7\\u4e00)\", \"x\": [\"10-2\", \"10-3\", \"10-4\"], \"y\": [7.0, 5.0, 4.0], \"type\": \"scatter\", \"uid\": \"bd51b8af-e18a-11e8-8ddb-a41f72875c19\"}, {\"line\": {\"dash\": \"solid\"}, \"name\": \"\\u603b\\u4e0b\\u5355\\u6570(\\u4e8e\\u6167)\", \"x\": [\"10-2\", \"10-3\", \"10-4\"], \"y\": [6.0, 6.0, 8.0], \"type\": \"scatter\", \"uid\": \"bd51b8b0-e18a-11e8-8ddb-a41f72875c19\"}, {\"line\": {\"dash\": \"dot\"}, \"name\": \"\\u603b\\u4e0b\\u5355\\u6570(\\u8c22\\u5fb7\\u5065)\", \"x\": [\"10-2\", \"10-3\", \"10-4\"], \"y\": [4.0, 3.0, 4.0], \"type\": \"scatter\", \"uid\": \"bd51b8b1-e18a-11e8-8ddb-a41f72875c19\"}, {\"line\": {\"dash\": \"dash\"}, \"name\": \"\\u603b\\u4e0b\\u5355\\u6570(\\u8303\\u65ed\\u5b81)\", \"x\": [\"10-2\", \"10-3\", \"10-4\"], \"y\": [5.0, 3.0, 4.0], \"type\": \"scatter\", \"uid\": \"bd51b8b2-e18a-11e8-8ddb-a41f72875c19\"}, {\"line\": {\"dash\": \"longdash\"}, \"name\": \"\\u603b\\u4e0b\\u5355\\u6570(\\u5360\\u4f1f)\", \"x\": [\"10-2\", \"10-3\", \"10-4\"], \"y\": [9.0, 9.0, 6.0], \"type\": \"scatter\", \"uid\": \"bd51b8b3-e18a-11e8-8ddb-a41f72875c19\"}, {\"line\": {\"dash\": \"dashdot\"}, \"name\": \"\\u603b\\u4e0b\\u5355\\u6570(\\u5f20\\u60a6)\", \"x\": [\"10-2\", \"10-3\", \"10-4\"], \"y\": [null, null, 1.0], \"type\": \"scatter\", \"uid\": \"bd51b8b4-e18a-11e8-8ddb-a41f72875c19\"}, {\"line\": {\"dash\": \"longdashdot\"}, \"name\": \"\\u603b\\u4e0b\\u5355\\u6570(\\u5f20\\u5b88\\u4f1f)\", \"x\": [\"10-2\", \"10-3\", \"10-4\"], \"y\": [3.0, 3.0, 4.0], \"type\": \"scatter\", \"uid\": \"bd51b8b5-e18a-11e8-8ddb-a41f72875c19\"}, {\"line\": {\"dash\": \"solid\"}, \"name\": \"\\u603b\\u4e0b\\u5355\\u6570(\\u8def\\u6167\\u840d)\", \"x\": [\"10-2\", \"10-3\", \"10-4\"], \"y\": [5.0, 6.0, 8.0], \"type\": \"scatter\", \"uid\": \"bd51b8b6-e18a-11e8-8ddb-a41f72875c19\"}, {\"line\": {\"dash\": \"dot\"}, \"name\": \"\\u603b\\u4e0b\\u5355\\u6570(\\u51af\\u656c\\u5ca9)\", \"x\": [\"10-2\", \"10-3\", \"10-4\"], \"y\": [null, null, 1.0], \"type\": \"scatter\", \"uid\": \"bd51b8b7-e18a-11e8-8ddb-a41f72875c19\"}, {\"line\": {\"dash\": \"dash\"}, \"name\": \"\\u603b\\u4e0b\\u5355\\u6570(\\u9a6c\\u6f47)\", \"x\": [\"10-2\", \"10-3\", \"10-4\"], \"y\": [9.0, 8.0, 7.0], \"type\": \"scatter\", \"uid\": \"bd51b8b8-e18a-11e8-8ddb-a41f72875c19\"}, {\"line\": {\"dash\": \"longdash\"}, \"name\": \"\\u603b\\u4e0b\\u5355\\u6570(\\u5b5f\\u660a)\", \"x\": [\"10-2\", \"10-3\", \"10-4\"], \"y\": [7.0, 7.0, 7.0], \"type\": \"scatter\", \"uid\": \"bd51b8b9-e18a-11e8-8ddb-a41f72875c19\"}, {\"line\": {\"dash\": \"dashdot\"}, \"name\": \"\\u603b\\u4e0b\\u5355\\u6570(\\u6d82\\u6210\\u82b3)\", \"x\": [\"10-2\", \"10-3\", \"10-4\"], \"y\": [null, null, 1.0], \"type\": \"scatter\", \"uid\": \"bd51b8ba-e18a-11e8-8ddb-a41f72875c19\"}, {\"line\": {\"dash\": \"longdashdot\"}, \"name\": \"\\u603b\\u4e0b\\u5355\\u6570(\\u8d75\\u73a5)\", \"x\": [\"10-2\", \"10-3\", \"10-4\"], \"y\": [4.0, 6.0, 5.0], \"type\": \"scatter\", \"uid\": \"bd51b8bb-e18a-11e8-8ddb-a41f72875c19\"}, {\"line\": {\"dash\": \"solid\"}, \"name\": \"\\u603b\\u4e0b\\u5355\\u6570(\\u5c01\\u5f66\\u6770)\", \"x\": [\"10-2\", \"10-3\", \"10-4\"], \"y\": [7.0, 6.0, 6.0], \"type\": \"scatter\", \"uid\": \"bd51b8bc-e18a-11e8-8ddb-a41f72875c19\"}, {\"line\": {\"dash\": \"dot\"}, \"name\": \"\\u603b\\u4e0b\\u5355\\u6570(\\u5468\\u6768)\", \"x\": [\"10-2\", \"10-3\", \"10-4\"], \"y\": [6.0, 3.0, 7.0], \"type\": \"scatter\", \"uid\": \"bd51b8bd-e18a-11e8-8ddb-a41f72875c19\"}, {\"line\": {\"dash\": \"dash\"}, \"name\": \"\\u603b\\u4e0b\\u5355\\u6570(\\u5218\\u6c5f)\", \"x\": [\"10-2\", \"10-3\", \"10-4\"], \"y\": [7.0, 6.0, 6.0], \"type\": \"scatter\", \"uid\": \"bd51b8be-e18a-11e8-8ddb-a41f72875c19\"}, {\"line\": {\"dash\": \"longdash\"}, \"name\": \"\\u603b\\u4e0b\\u5355\\u6570(\\u82cf\\u5f66\\u52cb)\", \"x\": [\"10-2\", \"10-3\", \"10-4\"], \"y\": [null, 7.0, 7.0], \"type\": \"scatter\", \"uid\": \"bd51b8bf-e18a-11e8-8ddb-a41f72875c19\"}, {\"line\": {\"dash\": \"dashdot\"}, \"name\": \"\\u603b\\u4e0b\\u5355\\u6570(\\u4efb\\u96ea)\", \"x\": [\"10-2\", \"10-3\", \"10-4\"], \"y\": [7.0, 4.0, 3.0], \"type\": \"scatter\", \"uid\": \"bd51b8c0-e18a-11e8-8ddb-a41f72875c19\"}, {\"line\": {\"dash\": \"longdashdot\"}, \"name\": \"\\u603b\\u4e0b\\u5355\\u6570(\\u6bb5\\u5229\\u5f3a)\", \"x\": [\"10-2\", \"10-3\", \"10-4\"], \"y\": [3.0, null, null], \"type\": \"scatter\", \"uid\": \"bd51b8c1-e18a-11e8-8ddb-a41f72875c19\"}, {\"line\": {\"dash\": \"solid\"}, \"name\": \"\\u603b\\u4e0b\\u5355\\u6570(\\u9648\\u9e4f\\u71d5)\", \"x\": [\"10-2\", \"10-3\", \"10-4\"], \"y\": [null, 5.0, 4.0], \"type\": \"scatter\", \"uid\": \"bd51b8c2-e18a-11e8-8ddb-a41f72875c19\"}, {\"line\": {\"dash\": \"dot\"}, \"name\": \"\\u603b\\u4e0b\\u5355\\u6570(\\u8f66\\u5929\\u680b)\", \"x\": [\"10-2\", \"10-3\", \"10-4\"], \"y\": [null, null, 1.0], \"type\": \"scatter\", \"uid\": \"bd51b8c3-e18a-11e8-8ddb-a41f72875c19\"}, {\"line\": {\"dash\": \"dash\"}, \"name\": \"\\u603b\\u4e0b\\u5355\\u6570(\\u674e\\u534e\\u4e91)\", \"x\": [\"10-2\", \"10-3\", \"10-4\"], \"y\": [null, null, 6.0], \"type\": \"scatter\", \"uid\": \"bd51b8c4-e18a-11e8-8ddb-a41f72875c19\"}, {\"line\": {\"dash\": \"solid\"}, \"name\": \"\\u5b8c\\u6210\\u4e0b\\u5355\\u6570(\\u6797\\u6587\\u6587)\", \"x\": [\"10-2\", \"10-3\", \"10-4\"], \"y\": [null, null, 1.0], \"type\": \"scatter\", \"uid\": \"bd51b8c5-e18a-11e8-8ddb-a41f72875c19\"}, {\"line\": {\"dash\": \"dot\"}, \"name\": \"\\u5b8c\\u6210\\u4e0b\\u5355\\u6570(\\u5c48\\u6602)\", \"x\": [\"10-2\", \"10-3\", \"10-4\"], \"y\": [1.0, null, 1.0], \"type\": \"scatter\", \"uid\": \"bd51b8c6-e18a-11e8-8ddb-a41f72875c19\"}, {\"line\": {\"dash\": \"dash\"}, \"name\": \"\\u5b8c\\u6210\\u4e0b\\u5355\\u6570(\\u59da\\u76df\\u6210)\", \"x\": [\"10-2\", \"10-3\", \"10-4\"], \"y\": [0.0, 2.0, 4.0], \"type\": \"scatter\", \"uid\": \"bd51b8c7-e18a-11e8-8ddb-a41f72875c19\"}, {\"line\": {\"dash\": \"longdash\"}, \"name\": \"\\u5b8c\\u6210\\u4e0b\\u5355\\u6570(\\u51b7\\u96ea)\", \"x\": [\"10-2\", \"10-3\", \"10-4\"], \"y\": [2.0, null, 1.0], \"type\": \"scatter\", \"uid\": \"bd51b8c8-e18a-11e8-8ddb-a41f72875c19\"}, {\"line\": {\"dash\": \"dashdot\"}, \"name\": \"\\u5b8c\\u6210\\u4e0b\\u5355\\u6570(\\u97e9\\u5c11\\u6000)\", \"x\": [\"10-2\", \"10-3\", \"10-4\"], \"y\": [4.0, 5.0, 4.0], \"type\": \"scatter\", \"uid\": \"bd51b8c9-e18a-11e8-8ddb-a41f72875c19\"}, {\"line\": {\"dash\": \"longdashdot\"}, \"name\": \"\\u5b8c\\u6210\\u4e0b\\u5355\\u6570(\\u674e\\u5e86\\u539f)\", \"x\": [\"10-2\", \"10-3\", \"10-4\"], \"y\": [6.0, 4.0, 4.0], \"type\": \"scatter\", \"uid\": \"bd51b8ca-e18a-11e8-8ddb-a41f72875c19\"}, {\"line\": {\"dash\": \"solid\"}, \"name\": \"\\u5b8c\\u6210\\u4e0b\\u5355\\u6570(\\u5218\\u4e09\\u9633)\", \"x\": [\"10-2\", \"10-3\", \"10-4\"], \"y\": [null, 0.0, null], \"type\": \"scatter\", \"uid\": \"bd51b8cb-e18a-11e8-8ddb-a41f72875c19\"}, {\"line\": {\"dash\": \"dot\"}, \"name\": \"\\u5b8c\\u6210\\u4e0b\\u5355\\u6570(\\u6c88\\u6069\\u60e0)\", \"x\": [\"10-2\", \"10-3\", \"10-4\"], \"y\": [null, null, 2.0], \"type\": \"scatter\", \"uid\": \"bd51b8cc-e18a-11e8-8ddb-a41f72875c19\"}, {\"line\": {\"dash\": \"dash\"}, \"name\": \"\\u5b8c\\u6210\\u4e0b\\u5355\\u6570(\\u6636\\u5409\\u9633)\", \"x\": [\"10-2\", \"10-3\", \"10-4\"], \"y\": [null, 0.0, 4.0], \"type\": \"scatter\", \"uid\": \"bd51b8cd-e18a-11e8-8ddb-a41f72875c19\"}, {\"line\": {\"dash\": \"longdash\"}, \"name\": \"\\u5b8c\\u6210\\u4e0b\\u5355\\u6570(\\u6768\\u4f1f\\u98de)\", \"x\": [\"10-2\", \"10-3\", \"10-4\"], \"y\": [1.0, 4.0, 3.0], \"type\": \"scatter\", \"uid\": \"bd51b8ce-e18a-11e8-8ddb-a41f72875c19\"}, {\"line\": {\"dash\": \"dashdot\"}, \"name\": \"\\u5b8c\\u6210\\u4e0b\\u5355\\u6570(\\u738b\\u7ea2)\", \"x\": [\"10-2\", \"10-3\", \"10-4\"], \"y\": [null, null, 1.0], \"type\": \"scatter\", \"uid\": \"bd51b8cf-e18a-11e8-8ddb-a41f72875c19\"}, {\"line\": {\"dash\": \"longdashdot\"}, \"name\": \"\\u5b8c\\u6210\\u4e0b\\u5355\\u6570(\\u4e8e\\u52c7\\u4e00)\", \"x\": [\"10-2\", \"10-3\", \"10-4\"], \"y\": [5.0, 5.0, 4.0], \"type\": \"scatter\", \"uid\": \"bd51b8d0-e18a-11e8-8ddb-a41f72875c19\"}, {\"line\": {\"dash\": \"solid\"}, \"name\": \"\\u5b8c\\u6210\\u4e0b\\u5355\\u6570(\\u4e8e\\u6167)\", \"x\": [\"10-2\", \"10-3\", \"10-4\"], \"y\": [6.0, 5.0, 8.0], \"type\": \"scatter\", \"uid\": \"bd51b8d1-e18a-11e8-8ddb-a41f72875c19\"}, {\"line\": {\"dash\": \"dot\"}, \"name\": \"\\u5b8c\\u6210\\u4e0b\\u5355\\u6570(\\u8c22\\u5fb7\\u5065)\", \"x\": [\"10-2\", \"10-3\", \"10-4\"], \"y\": [3.0, 2.0, 4.0], \"type\": \"scatter\", \"uid\": \"bd51b8d2-e18a-11e8-8ddb-a41f72875c19\"}, {\"line\": {\"dash\": \"dash\"}, \"name\": \"\\u5b8c\\u6210\\u4e0b\\u5355\\u6570(\\u8303\\u65ed\\u5b81)\", \"x\": [\"10-2\", \"10-3\", \"10-4\"], \"y\": [2.0, 3.0, 4.0], \"type\": \"scatter\", \"uid\": \"bd51b8d3-e18a-11e8-8ddb-a41f72875c19\"}, {\"line\": {\"dash\": \"longdash\"}, \"name\": \"\\u5b8c\\u6210\\u4e0b\\u5355\\u6570(\\u5360\\u4f1f)\", \"x\": [\"10-2\", \"10-3\", \"10-4\"], \"y\": [7.0, 9.0, 4.0], \"type\": \"scatter\", \"uid\": \"bd51b8d4-e18a-11e8-8ddb-a41f72875c19\"}, {\"line\": {\"dash\": \"dashdot\"}, \"name\": \"\\u5b8c\\u6210\\u4e0b\\u5355\\u6570(\\u5f20\\u60a6)\", \"x\": [\"10-2\", \"10-3\", \"10-4\"], \"y\": [null, null, 0.0], \"type\": \"scatter\", \"uid\": \"bd51b8d5-e18a-11e8-8ddb-a41f72875c19\"}, {\"line\": {\"dash\": \"longdashdot\"}, \"name\": \"\\u5b8c\\u6210\\u4e0b\\u5355\\u6570(\\u5f20\\u5b88\\u4f1f)\", \"x\": [\"10-2\", \"10-3\", \"10-4\"], \"y\": [2.0, 3.0, 3.0], \"type\": \"scatter\", \"uid\": \"bd51b8d6-e18a-11e8-8ddb-a41f72875c19\"}, {\"line\": {\"dash\": \"solid\"}, \"name\": \"\\u5b8c\\u6210\\u4e0b\\u5355\\u6570(\\u8def\\u6167\\u840d)\", \"x\": [\"10-2\", \"10-3\", \"10-4\"], \"y\": [5.0, 6.0, 8.0], \"type\": \"scatter\", \"uid\": \"bd51b8d7-e18a-11e8-8ddb-a41f72875c19\"}, {\"line\": {\"dash\": \"dot\"}, \"name\": \"\\u5b8c\\u6210\\u4e0b\\u5355\\u6570(\\u51af\\u656c\\u5ca9)\", \"x\": [\"10-2\", \"10-3\", \"10-4\"], \"y\": [null, null, 0.0], \"type\": \"scatter\", \"uid\": \"bd51b8d8-e18a-11e8-8ddb-a41f72875c19\"}, {\"line\": {\"dash\": \"dash\"}, \"name\": \"\\u5b8c\\u6210\\u4e0b\\u5355\\u6570(\\u9a6c\\u6f47)\", \"x\": [\"10-2\", \"10-3\", \"10-4\"], \"y\": [8.0, 6.0, 7.0], \"type\": \"scatter\", \"uid\": \"bd51b8d9-e18a-11e8-8ddb-a41f72875c19\"}, {\"line\": {\"dash\": \"longdash\"}, \"name\": \"\\u5b8c\\u6210\\u4e0b\\u5355\\u6570(\\u5b5f\\u660a)\", \"x\": [\"10-2\", \"10-3\", \"10-4\"], \"y\": [7.0, 7.0, 7.0], \"type\": \"scatter\", \"uid\": \"bd51b8da-e18a-11e8-8ddb-a41f72875c19\"}, {\"line\": {\"dash\": \"dashdot\"}, \"name\": \"\\u5b8c\\u6210\\u4e0b\\u5355\\u6570(\\u6d82\\u6210\\u82b3)\", \"x\": [\"10-2\", \"10-3\", \"10-4\"], \"y\": [null, null, 1.0], \"type\": \"scatter\", \"uid\": \"bd51b8db-e18a-11e8-8ddb-a41f72875c19\"}, {\"line\": {\"dash\": \"longdashdot\"}, \"name\": \"\\u5b8c\\u6210\\u4e0b\\u5355\\u6570(\\u8d75\\u73a5)\", \"x\": [\"10-2\", \"10-3\", \"10-4\"], \"y\": [4.0, 6.0, 4.0], \"type\": \"scatter\", \"uid\": \"bd51b8dc-e18a-11e8-8ddb-a41f72875c19\"}, {\"line\": {\"dash\": \"solid\"}, \"name\": \"\\u5b8c\\u6210\\u4e0b\\u5355\\u6570(\\u5c01\\u5f66\\u6770)\", \"x\": [\"10-2\", \"10-3\", \"10-4\"], \"y\": [7.0, 6.0, 5.0], \"type\": \"scatter\", \"uid\": \"bd51b8dd-e18a-11e8-8ddb-a41f72875c19\"}, {\"line\": {\"dash\": \"dot\"}, \"name\": \"\\u5b8c\\u6210\\u4e0b\\u5355\\u6570(\\u5468\\u6768)\", \"x\": [\"10-2\", \"10-3\", \"10-4\"], \"y\": [6.0, 0.0, 7.0], \"type\": \"scatter\", \"uid\": \"bd51b8de-e18a-11e8-8ddb-a41f72875c19\"}, {\"line\": {\"dash\": \"dash\"}, \"name\": \"\\u5b8c\\u6210\\u4e0b\\u5355\\u6570(\\u5218\\u6c5f)\", \"x\": [\"10-2\", \"10-3\", \"10-4\"], \"y\": [4.0, 6.0, 6.0], \"type\": \"scatter\", \"uid\": \"bd51b8df-e18a-11e8-8ddb-a41f72875c19\"}, {\"line\": {\"dash\": \"longdash\"}, \"name\": \"\\u5b8c\\u6210\\u4e0b\\u5355\\u6570(\\u82cf\\u5f66\\u52cb)\", \"x\": [\"10-2\", \"10-3\", \"10-4\"], \"y\": [null, 7.0, 7.0], \"type\": \"scatter\", \"uid\": \"bd51b8e0-e18a-11e8-8ddb-a41f72875c19\"}, {\"line\": {\"dash\": \"dashdot\"}, \"name\": \"\\u5b8c\\u6210\\u4e0b\\u5355\\u6570(\\u4efb\\u96ea)\", \"x\": [\"10-2\", \"10-3\", \"10-4\"], \"y\": [6.0, 3.0, 2.0], \"type\": \"scatter\", \"uid\": \"bd51b8e1-e18a-11e8-8ddb-a41f72875c19\"}, {\"line\": {\"dash\": \"longdashdot\"}, \"name\": \"\\u5b8c\\u6210\\u4e0b\\u5355\\u6570(\\u6bb5\\u5229\\u5f3a)\", \"x\": [\"10-2\", \"10-3\", \"10-4\"], \"y\": [1.0, null, null], \"type\": \"scatter\", \"uid\": \"bd51b8e2-e18a-11e8-8ddb-a41f72875c19\"}, {\"line\": {\"dash\": \"solid\"}, \"name\": \"\\u5b8c\\u6210\\u4e0b\\u5355\\u6570(\\u9648\\u9e4f\\u71d5)\", \"x\": [\"10-2\", \"10-3\", \"10-4\"], \"y\": [null, 4.0, 4.0], \"type\": \"scatter\", \"uid\": \"bd51b8e3-e18a-11e8-8ddb-a41f72875c19\"}, {\"line\": {\"dash\": \"dot\"}, \"name\": \"\\u5b8c\\u6210\\u4e0b\\u5355\\u6570(\\u8f66\\u5929\\u680b)\", \"x\": [\"10-2\", \"10-3\", \"10-4\"], \"y\": [null, null, 1.0], \"type\": \"scatter\", \"uid\": \"bd51b8e4-e18a-11e8-8ddb-a41f72875c19\"}, {\"line\": {\"dash\": \"dash\"}, \"name\": \"\\u5b8c\\u6210\\u4e0b\\u5355\\u6570(\\u674e\\u534e\\u4e91)\", \"x\": [\"10-2\", \"10-3\", \"10-4\"], \"y\": [null, null, 4.0], \"type\": \"scatter\", \"uid\": \"bd51b8e5-e18a-11e8-8ddb-a41f72875c19\"}], {\"title\": \"\\u603b\\u4e0b\\u5355\\u6570&\\u5b8c\\u6210\\u4e0b\\u5355\\u6570\\u5468\\u8d8b\\u52bf\\u56fe\", \"xaxis\": {\"mirror\": \"all\", \"nticks\": 20, \"showgrid\": true, \"showline\": true, \"title\": \"\\u5468\", \"type\": \"category\", \"zeroline\": true}, \"yaxis\": {\"mirror\": \"all\", \"nticks\": 20, \"showgrid\": true, \"showline\": true, \"title\": \"\\u603b\\u4e0b\\u5355\\u6570&\\u5b8c\\u6210\\u4e0b\\u5355\\u6570\", \"zeroline\": true}}, {\"showLink\": true, \"linkText\": \"Export to plot.ly\"})});</script>"
      ]
     },
     "metadata": {},
     "output_type": "display_data"
    }
   ],
   "source": [
    "ss=myModule.format(all_dict ,\"日期\" ,['总下单数', '完成下单数'])\n",
    "ss.add_group('负责人')\n",
    "tt = myModule.myPlot(ss.groupby('sum'))\n",
    "tt.plot('line')"
   ]
  },
  {
   "cell_type": "markdown",
   "metadata": {},
   "source": [
    "### 个人高质量报告"
   ]
  },
  {
   "cell_type": "markdown",
   "metadata": {},
   "source": [
    "#### 个人应交高质量报告数和提交高质量报告数"
   ]
  },
  {
   "cell_type": "code",
   "execution_count": 24,
   "metadata": {
    "collapsed": false
   },
   "outputs": [
    {
     "data": {
      "application/vnd.plotly.v1+json": {
       "data": [
        {
         "line": {
          "dash": "solid"
         },
         "name": "应交高质量报告数(林文文)",
         "type": "scatter",
         "uid": "bd51b8e6-e18a-11e8-8ddb-a41f72875c19",
         "x": [
          "10-2",
          "10-3",
          "10-4"
         ],
         "y": [
          null,
          null,
          0
         ]
        },
        {
         "line": {
          "dash": "dot"
         },
         "name": "应交高质量报告数(屈昂)",
         "type": "scatter",
         "uid": "bd51b8e7-e18a-11e8-8ddb-a41f72875c19",
         "x": [
          "10-2",
          "10-3",
          "10-4"
         ],
         "y": [
          0,
          null,
          0
         ]
        },
        {
         "line": {
          "dash": "dash"
         },
         "name": "应交高质量报告数(姚盟成)",
         "type": "scatter",
         "uid": "bd51b8e8-e18a-11e8-8ddb-a41f72875c19",
         "x": [
          "10-2",
          "10-3",
          "10-4"
         ],
         "y": [
          1,
          0,
          0
         ]
        },
        {
         "line": {
          "dash": "longdash"
         },
         "name": "应交高质量报告数(冷雪)",
         "type": "scatter",
         "uid": "bd51b8e9-e18a-11e8-8ddb-a41f72875c19",
         "x": [
          "10-2",
          "10-3",
          "10-4"
         ],
         "y": [
          0,
          null,
          0
         ]
        },
        {
         "line": {
          "dash": "dashdot"
         },
         "name": "应交高质量报告数(韩少怀)",
         "type": "scatter",
         "uid": "bd51b8ea-e18a-11e8-8ddb-a41f72875c19",
         "x": [
          "10-2",
          "10-3",
          "10-4"
         ],
         "y": [
          0,
          0,
          0
         ]
        },
        {
         "line": {
          "dash": "longdashdot"
         },
         "name": "应交高质量报告数(李庆原)",
         "type": "scatter",
         "uid": "bd51b8eb-e18a-11e8-8ddb-a41f72875c19",
         "x": [
          "10-2",
          "10-3",
          "10-4"
         ],
         "y": [
          0,
          0,
          0
         ]
        },
        {
         "line": {
          "dash": "solid"
         },
         "name": "应交高质量报告数(刘三阳)",
         "type": "scatter",
         "uid": "bd51b8ec-e18a-11e8-8ddb-a41f72875c19",
         "x": [
          "10-2",
          "10-3",
          "10-4"
         ],
         "y": [
          null,
          1,
          null
         ]
        },
        {
         "line": {
          "dash": "dot"
         },
         "name": "应交高质量报告数(沈恩惠)",
         "type": "scatter",
         "uid": "bd51b8ed-e18a-11e8-8ddb-a41f72875c19",
         "x": [
          "10-2",
          "10-3",
          "10-4"
         ],
         "y": [
          null,
          null,
          1
         ]
        },
        {
         "line": {
          "dash": "dash"
         },
         "name": "应交高质量报告数(昶吉阳)",
         "type": "scatter",
         "uid": "bd51b8ee-e18a-11e8-8ddb-a41f72875c19",
         "x": [
          "10-2",
          "10-3",
          "10-4"
         ],
         "y": [
          null,
          0,
          0
         ]
        },
        {
         "line": {
          "dash": "longdash"
         },
         "name": "应交高质量报告数(杨伟飞)",
         "type": "scatter",
         "uid": "bd51b8ef-e18a-11e8-8ddb-a41f72875c19",
         "x": [
          "10-2",
          "10-3",
          "10-4"
         ],
         "y": [
          1,
          1,
          0
         ]
        },
        {
         "line": {
          "dash": "dashdot"
         },
         "name": "应交高质量报告数(王红)",
         "type": "scatter",
         "uid": "bd51b8f0-e18a-11e8-8ddb-a41f72875c19",
         "x": [
          "10-2",
          "10-3",
          "10-4"
         ],
         "y": [
          null,
          null,
          0
         ]
        },
        {
         "line": {
          "dash": "longdashdot"
         },
         "name": "应交高质量报告数(于勇一)",
         "type": "scatter",
         "uid": "bd51b8f1-e18a-11e8-8ddb-a41f72875c19",
         "x": [
          "10-2",
          "10-3",
          "10-4"
         ],
         "y": [
          1,
          0,
          0
         ]
        },
        {
         "line": {
          "dash": "solid"
         },
         "name": "应交高质量报告数(于慧)",
         "type": "scatter",
         "uid": "bd51b8f2-e18a-11e8-8ddb-a41f72875c19",
         "x": [
          "10-2",
          "10-3",
          "10-4"
         ],
         "y": [
          1,
          0,
          0
         ]
        },
        {
         "line": {
          "dash": "dot"
         },
         "name": "应交高质量报告数(谢德健)",
         "type": "scatter",
         "uid": "bd51b8f3-e18a-11e8-8ddb-a41f72875c19",
         "x": [
          "10-2",
          "10-3",
          "10-4"
         ],
         "y": [
          2,
          0,
          0
         ]
        },
        {
         "line": {
          "dash": "dash"
         },
         "name": "应交高质量报告数(范旭宁)",
         "type": "scatter",
         "uid": "bd51b8f4-e18a-11e8-8ddb-a41f72875c19",
         "x": [
          "10-2",
          "10-3",
          "10-4"
         ],
         "y": [
          0,
          1,
          0
         ]
        },
        {
         "line": {
          "dash": "longdash"
         },
         "name": "应交高质量报告数(占伟)",
         "type": "scatter",
         "uid": "bd51b8f5-e18a-11e8-8ddb-a41f72875c19",
         "x": [
          "10-2",
          "10-3",
          "10-4"
         ],
         "y": [
          0,
          0,
          0
         ]
        },
        {
         "line": {
          "dash": "dashdot"
         },
         "name": "应交高质量报告数(张悦)",
         "type": "scatter",
         "uid": "bd51b8f6-e18a-11e8-8ddb-a41f72875c19",
         "x": [
          "10-2",
          "10-3",
          "10-4"
         ],
         "y": [
          null,
          null,
          0
         ]
        },
        {
         "line": {
          "dash": "longdashdot"
         },
         "name": "应交高质量报告数(张守伟)",
         "type": "scatter",
         "uid": "bd51b8f7-e18a-11e8-8ddb-a41f72875c19",
         "x": [
          "10-2",
          "10-3",
          "10-4"
         ],
         "y": [
          0,
          0,
          0
         ]
        },
        {
         "line": {
          "dash": "solid"
         },
         "name": "应交高质量报告数(路慧萍)",
         "type": "scatter",
         "uid": "bd51b8f8-e18a-11e8-8ddb-a41f72875c19",
         "x": [
          "10-2",
          "10-3",
          "10-4"
         ],
         "y": [
          0,
          0,
          0
         ]
        },
        {
         "line": {
          "dash": "dot"
         },
         "name": "应交高质量报告数(冯敬岩)",
         "type": "scatter",
         "uid": "bd51b8f9-e18a-11e8-8ddb-a41f72875c19",
         "x": [
          "10-2",
          "10-3",
          "10-4"
         ],
         "y": [
          null,
          null,
          0
         ]
        },
        {
         "line": {
          "dash": "dash"
         },
         "name": "应交高质量报告数(马潇)",
         "type": "scatter",
         "uid": "bd51b8fa-e18a-11e8-8ddb-a41f72875c19",
         "x": [
          "10-2",
          "10-3",
          "10-4"
         ],
         "y": [
          0,
          0,
          0
         ]
        },
        {
         "line": {
          "dash": "longdash"
         },
         "name": "应交高质量报告数(孟昊)",
         "type": "scatter",
         "uid": "bd51b8fb-e18a-11e8-8ddb-a41f72875c19",
         "x": [
          "10-2",
          "10-3",
          "10-4"
         ],
         "y": [
          1,
          0,
          0
         ]
        },
        {
         "line": {
          "dash": "dashdot"
         },
         "name": "应交高质量报告数(涂成芳)",
         "type": "scatter",
         "uid": "bd51b8fc-e18a-11e8-8ddb-a41f72875c19",
         "x": [
          "10-2",
          "10-3",
          "10-4"
         ],
         "y": [
          null,
          null,
          0
         ]
        },
        {
         "line": {
          "dash": "longdashdot"
         },
         "name": "应交高质量报告数(赵玥)",
         "type": "scatter",
         "uid": "bd51b8fd-e18a-11e8-8ddb-a41f72875c19",
         "x": [
          "10-2",
          "10-3",
          "10-4"
         ],
         "y": [
          0,
          2,
          0
         ]
        },
        {
         "line": {
          "dash": "solid"
         },
         "name": "应交高质量报告数(封彦杰)",
         "type": "scatter",
         "uid": "bd51b8fe-e18a-11e8-8ddb-a41f72875c19",
         "x": [
          "10-2",
          "10-3",
          "10-4"
         ],
         "y": [
          0,
          0,
          0
         ]
        },
        {
         "line": {
          "dash": "dot"
         },
         "name": "应交高质量报告数(周杨)",
         "type": "scatter",
         "uid": "bd51b8ff-e18a-11e8-8ddb-a41f72875c19",
         "x": [
          "10-2",
          "10-3",
          "10-4"
         ],
         "y": [
          1,
          0,
          0
         ]
        },
        {
         "line": {
          "dash": "dash"
         },
         "name": "应交高质量报告数(刘江)",
         "type": "scatter",
         "uid": "bd51b900-e18a-11e8-8ddb-a41f72875c19",
         "x": [
          "10-2",
          "10-3",
          "10-4"
         ],
         "y": [
          2,
          0,
          0
         ]
        },
        {
         "line": {
          "dash": "longdash"
         },
         "name": "应交高质量报告数(苏彦勋)",
         "type": "scatter",
         "uid": "bd51b901-e18a-11e8-8ddb-a41f72875c19",
         "x": [
          "10-2",
          "10-3",
          "10-4"
         ],
         "y": [
          null,
          0,
          0
         ]
        },
        {
         "line": {
          "dash": "dashdot"
         },
         "name": "应交高质量报告数(任雪)",
         "type": "scatter",
         "uid": "bd51b902-e18a-11e8-8ddb-a41f72875c19",
         "x": [
          "10-2",
          "10-3",
          "10-4"
         ],
         "y": [
          2,
          0,
          1
         ]
        },
        {
         "line": {
          "dash": "longdashdot"
         },
         "name": "应交高质量报告数(段利强)",
         "type": "scatter",
         "uid": "bd51b903-e18a-11e8-8ddb-a41f72875c19",
         "x": [
          "10-2",
          "10-3",
          "10-4"
         ],
         "y": [
          0,
          null,
          null
         ]
        },
        {
         "line": {
          "dash": "solid"
         },
         "name": "应交高质量报告数(陈鹏燕)",
         "type": "scatter",
         "uid": "bd51b904-e18a-11e8-8ddb-a41f72875c19",
         "x": [
          "10-2",
          "10-3",
          "10-4"
         ],
         "y": [
          null,
          0,
          0
         ]
        },
        {
         "line": {
          "dash": "dot"
         },
         "name": "应交高质量报告数(车天栋)",
         "type": "scatter",
         "uid": "bd51b905-e18a-11e8-8ddb-a41f72875c19",
         "x": [
          "10-2",
          "10-3",
          "10-4"
         ],
         "y": [
          null,
          null,
          1
         ]
        },
        {
         "line": {
          "dash": "dash"
         },
         "name": "应交高质量报告数(李华云)",
         "type": "scatter",
         "uid": "bd51b906-e18a-11e8-8ddb-a41f72875c19",
         "x": [
          "10-2",
          "10-3",
          "10-4"
         ],
         "y": [
          null,
          null,
          0
         ]
        },
        {
         "line": {
          "dash": "solid"
         },
         "name": "提交高质量报告数(林文文)",
         "type": "scatter",
         "uid": "bd51b907-e18a-11e8-8ddb-a41f72875c19",
         "x": [
          "10-2",
          "10-3",
          "10-4"
         ],
         "y": [
          null,
          null,
          0
         ]
        },
        {
         "line": {
          "dash": "dot"
         },
         "name": "提交高质量报告数(屈昂)",
         "type": "scatter",
         "uid": "bd51b908-e18a-11e8-8ddb-a41f72875c19",
         "x": [
          "10-2",
          "10-3",
          "10-4"
         ],
         "y": [
          0,
          null,
          0
         ]
        },
        {
         "line": {
          "dash": "dash"
         },
         "name": "提交高质量报告数(姚盟成)",
         "type": "scatter",
         "uid": "bd51b909-e18a-11e8-8ddb-a41f72875c19",
         "x": [
          "10-2",
          "10-3",
          "10-4"
         ],
         "y": [
          0,
          0,
          0
         ]
        },
        {
         "line": {
          "dash": "longdash"
         },
         "name": "提交高质量报告数(冷雪)",
         "type": "scatter",
         "uid": "bd51b90a-e18a-11e8-8ddb-a41f72875c19",
         "x": [
          "10-2",
          "10-3",
          "10-4"
         ],
         "y": [
          0,
          null,
          0
         ]
        },
        {
         "line": {
          "dash": "dashdot"
         },
         "name": "提交高质量报告数(韩少怀)",
         "type": "scatter",
         "uid": "bd51b90b-e18a-11e8-8ddb-a41f72875c19",
         "x": [
          "10-2",
          "10-3",
          "10-4"
         ],
         "y": [
          0,
          0,
          0
         ]
        },
        {
         "line": {
          "dash": "longdashdot"
         },
         "name": "提交高质量报告数(李庆原)",
         "type": "scatter",
         "uid": "bd51b90c-e18a-11e8-8ddb-a41f72875c19",
         "x": [
          "10-2",
          "10-3",
          "10-4"
         ],
         "y": [
          0,
          0,
          0
         ]
        },
        {
         "line": {
          "dash": "solid"
         },
         "name": "提交高质量报告数(刘三阳)",
         "type": "scatter",
         "uid": "bd51b90d-e18a-11e8-8ddb-a41f72875c19",
         "x": [
          "10-2",
          "10-3",
          "10-4"
         ],
         "y": [
          null,
          0,
          null
         ]
        },
        {
         "line": {
          "dash": "dot"
         },
         "name": "提交高质量报告数(沈恩惠)",
         "type": "scatter",
         "uid": "bd51b90e-e18a-11e8-8ddb-a41f72875c19",
         "x": [
          "10-2",
          "10-3",
          "10-4"
         ],
         "y": [
          null,
          null,
          0
         ]
        },
        {
         "line": {
          "dash": "dash"
         },
         "name": "提交高质量报告数(昶吉阳)",
         "type": "scatter",
         "uid": "bd51b90f-e18a-11e8-8ddb-a41f72875c19",
         "x": [
          "10-2",
          "10-3",
          "10-4"
         ],
         "y": [
          null,
          0,
          0
         ]
        },
        {
         "line": {
          "dash": "longdash"
         },
         "name": "提交高质量报告数(杨伟飞)",
         "type": "scatter",
         "uid": "bd51b910-e18a-11e8-8ddb-a41f72875c19",
         "x": [
          "10-2",
          "10-3",
          "10-4"
         ],
         "y": [
          0,
          0,
          0
         ]
        },
        {
         "line": {
          "dash": "dashdot"
         },
         "name": "提交高质量报告数(王红)",
         "type": "scatter",
         "uid": "bd51b911-e18a-11e8-8ddb-a41f72875c19",
         "x": [
          "10-2",
          "10-3",
          "10-4"
         ],
         "y": [
          null,
          null,
          0
         ]
        },
        {
         "line": {
          "dash": "longdashdot"
         },
         "name": "提交高质量报告数(于勇一)",
         "type": "scatter",
         "uid": "bd51b912-e18a-11e8-8ddb-a41f72875c19",
         "x": [
          "10-2",
          "10-3",
          "10-4"
         ],
         "y": [
          0,
          0,
          0
         ]
        },
        {
         "line": {
          "dash": "solid"
         },
         "name": "提交高质量报告数(于慧)",
         "type": "scatter",
         "uid": "bd51b913-e18a-11e8-8ddb-a41f72875c19",
         "x": [
          "10-2",
          "10-3",
          "10-4"
         ],
         "y": [
          1,
          0,
          0
         ]
        },
        {
         "line": {
          "dash": "dot"
         },
         "name": "提交高质量报告数(谢德健)",
         "type": "scatter",
         "uid": "bd51b914-e18a-11e8-8ddb-a41f72875c19",
         "x": [
          "10-2",
          "10-3",
          "10-4"
         ],
         "y": [
          0,
          0,
          0
         ]
        },
        {
         "line": {
          "dash": "dash"
         },
         "name": "提交高质量报告数(范旭宁)",
         "type": "scatter",
         "uid": "bd51b915-e18a-11e8-8ddb-a41f72875c19",
         "x": [
          "10-2",
          "10-3",
          "10-4"
         ],
         "y": [
          0,
          0,
          0
         ]
        },
        {
         "line": {
          "dash": "longdash"
         },
         "name": "提交高质量报告数(占伟)",
         "type": "scatter",
         "uid": "bd51b916-e18a-11e8-8ddb-a41f72875c19",
         "x": [
          "10-2",
          "10-3",
          "10-4"
         ],
         "y": [
          0,
          0,
          0
         ]
        },
        {
         "line": {
          "dash": "dashdot"
         },
         "name": "提交高质量报告数(张悦)",
         "type": "scatter",
         "uid": "bd51b917-e18a-11e8-8ddb-a41f72875c19",
         "x": [
          "10-2",
          "10-3",
          "10-4"
         ],
         "y": [
          null,
          null,
          0
         ]
        },
        {
         "line": {
          "dash": "longdashdot"
         },
         "name": "提交高质量报告数(张守伟)",
         "type": "scatter",
         "uid": "bd51b918-e18a-11e8-8ddb-a41f72875c19",
         "x": [
          "10-2",
          "10-3",
          "10-4"
         ],
         "y": [
          0,
          0,
          0
         ]
        },
        {
         "line": {
          "dash": "solid"
         },
         "name": "提交高质量报告数(路慧萍)",
         "type": "scatter",
         "uid": "bd51b919-e18a-11e8-8ddb-a41f72875c19",
         "x": [
          "10-2",
          "10-3",
          "10-4"
         ],
         "y": [
          0,
          0,
          0
         ]
        },
        {
         "line": {
          "dash": "dot"
         },
         "name": "提交高质量报告数(冯敬岩)",
         "type": "scatter",
         "uid": "bd51b91a-e18a-11e8-8ddb-a41f72875c19",
         "x": [
          "10-2",
          "10-3",
          "10-4"
         ],
         "y": [
          null,
          null,
          0
         ]
        },
        {
         "line": {
          "dash": "dash"
         },
         "name": "提交高质量报告数(马潇)",
         "type": "scatter",
         "uid": "bd51b91b-e18a-11e8-8ddb-a41f72875c19",
         "x": [
          "10-2",
          "10-3",
          "10-4"
         ],
         "y": [
          0,
          0,
          0
         ]
        },
        {
         "line": {
          "dash": "longdash"
         },
         "name": "提交高质量报告数(孟昊)",
         "type": "scatter",
         "uid": "bd51b91c-e18a-11e8-8ddb-a41f72875c19",
         "x": [
          "10-2",
          "10-3",
          "10-4"
         ],
         "y": [
          0,
          0,
          0
         ]
        },
        {
         "line": {
          "dash": "dashdot"
         },
         "name": "提交高质量报告数(涂成芳)",
         "type": "scatter",
         "uid": "bd51b91d-e18a-11e8-8ddb-a41f72875c19",
         "x": [
          "10-2",
          "10-3",
          "10-4"
         ],
         "y": [
          null,
          null,
          0
         ]
        },
        {
         "line": {
          "dash": "longdashdot"
         },
         "name": "提交高质量报告数(赵玥)",
         "type": "scatter",
         "uid": "bd51b91e-e18a-11e8-8ddb-a41f72875c19",
         "x": [
          "10-2",
          "10-3",
          "10-4"
         ],
         "y": [
          0,
          0,
          0
         ]
        },
        {
         "line": {
          "dash": "solid"
         },
         "name": "提交高质量报告数(封彦杰)",
         "type": "scatter",
         "uid": "bd51b91f-e18a-11e8-8ddb-a41f72875c19",
         "x": [
          "10-2",
          "10-3",
          "10-4"
         ],
         "y": [
          0,
          0,
          0
         ]
        },
        {
         "line": {
          "dash": "dot"
         },
         "name": "提交高质量报告数(周杨)",
         "type": "scatter",
         "uid": "bd51b920-e18a-11e8-8ddb-a41f72875c19",
         "x": [
          "10-2",
          "10-3",
          "10-4"
         ],
         "y": [
          0,
          0,
          0
         ]
        },
        {
         "line": {
          "dash": "dash"
         },
         "name": "提交高质量报告数(刘江)",
         "type": "scatter",
         "uid": "bd51b921-e18a-11e8-8ddb-a41f72875c19",
         "x": [
          "10-2",
          "10-3",
          "10-4"
         ],
         "y": [
          0,
          0,
          0
         ]
        },
        {
         "line": {
          "dash": "longdash"
         },
         "name": "提交高质量报告数(苏彦勋)",
         "type": "scatter",
         "uid": "bd51b922-e18a-11e8-8ddb-a41f72875c19",
         "x": [
          "10-2",
          "10-3",
          "10-4"
         ],
         "y": [
          null,
          0,
          0
         ]
        },
        {
         "line": {
          "dash": "dashdot"
         },
         "name": "提交高质量报告数(任雪)",
         "type": "scatter",
         "uid": "bd51b923-e18a-11e8-8ddb-a41f72875c19",
         "x": [
          "10-2",
          "10-3",
          "10-4"
         ],
         "y": [
          0,
          0,
          1
         ]
        },
        {
         "line": {
          "dash": "longdashdot"
         },
         "name": "提交高质量报告数(段利强)",
         "type": "scatter",
         "uid": "bd51b924-e18a-11e8-8ddb-a41f72875c19",
         "x": [
          "10-2",
          "10-3",
          "10-4"
         ],
         "y": [
          0,
          null,
          null
         ]
        },
        {
         "line": {
          "dash": "solid"
         },
         "name": "提交高质量报告数(陈鹏燕)",
         "type": "scatter",
         "uid": "bd51b925-e18a-11e8-8ddb-a41f72875c19",
         "x": [
          "10-2",
          "10-3",
          "10-4"
         ],
         "y": [
          null,
          0,
          0
         ]
        },
        {
         "line": {
          "dash": "dot"
         },
         "name": "提交高质量报告数(车天栋)",
         "type": "scatter",
         "uid": "bd51b926-e18a-11e8-8ddb-a41f72875c19",
         "x": [
          "10-2",
          "10-3",
          "10-4"
         ],
         "y": [
          null,
          null,
          1
         ]
        },
        {
         "line": {
          "dash": "dash"
         },
         "name": "提交高质量报告数(李华云)",
         "type": "scatter",
         "uid": "bd51b927-e18a-11e8-8ddb-a41f72875c19",
         "x": [
          "10-2",
          "10-3",
          "10-4"
         ],
         "y": [
          null,
          null,
          0
         ]
        }
       ],
       "layout": {
        "title": "应交高质量报告数&提交高质量报告数周趋势图",
        "xaxis": {
         "mirror": "all",
         "nticks": 20,
         "showgrid": true,
         "showline": true,
         "title": "周",
         "type": "category",
         "zeroline": true
        },
        "yaxis": {
         "mirror": "all",
         "nticks": 20,
         "showgrid": true,
         "showline": true,
         "title": "应交高质量报告数&提交高质量报告数",
         "zeroline": true
        }
       }
      },
      "text/html": [
       "<div id=\"e1b3089c-21d1-47be-b430-980decb582f5\" style=\"height: 525px; width: 100%;\" class=\"plotly-graph-div\"></div><script type=\"text/javascript\">require([\"plotly\"], function(Plotly) { window.PLOTLYENV=window.PLOTLYENV || {};window.PLOTLYENV.BASE_URL=\"https://plot.ly\";Plotly.newPlot(\"e1b3089c-21d1-47be-b430-980decb582f5\", [{\"line\": {\"dash\": \"solid\"}, \"name\": \"\\u5e94\\u4ea4\\u9ad8\\u8d28\\u91cf\\u62a5\\u544a\\u6570(\\u6797\\u6587\\u6587)\", \"x\": [\"10-2\", \"10-3\", \"10-4\"], \"y\": [null, null, 0.0], \"type\": \"scatter\", \"uid\": \"bd51b8e6-e18a-11e8-8ddb-a41f72875c19\"}, {\"line\": {\"dash\": \"dot\"}, \"name\": \"\\u5e94\\u4ea4\\u9ad8\\u8d28\\u91cf\\u62a5\\u544a\\u6570(\\u5c48\\u6602)\", \"x\": [\"10-2\", \"10-3\", \"10-4\"], \"y\": [0.0, null, 0.0], \"type\": \"scatter\", \"uid\": \"bd51b8e7-e18a-11e8-8ddb-a41f72875c19\"}, {\"line\": {\"dash\": \"dash\"}, \"name\": \"\\u5e94\\u4ea4\\u9ad8\\u8d28\\u91cf\\u62a5\\u544a\\u6570(\\u59da\\u76df\\u6210)\", \"x\": [\"10-2\", \"10-3\", \"10-4\"], \"y\": [1.0, 0.0, 0.0], \"type\": \"scatter\", \"uid\": \"bd51b8e8-e18a-11e8-8ddb-a41f72875c19\"}, {\"line\": {\"dash\": \"longdash\"}, \"name\": \"\\u5e94\\u4ea4\\u9ad8\\u8d28\\u91cf\\u62a5\\u544a\\u6570(\\u51b7\\u96ea)\", \"x\": [\"10-2\", \"10-3\", \"10-4\"], \"y\": [0.0, null, 0.0], \"type\": \"scatter\", \"uid\": \"bd51b8e9-e18a-11e8-8ddb-a41f72875c19\"}, {\"line\": {\"dash\": \"dashdot\"}, \"name\": \"\\u5e94\\u4ea4\\u9ad8\\u8d28\\u91cf\\u62a5\\u544a\\u6570(\\u97e9\\u5c11\\u6000)\", \"x\": [\"10-2\", \"10-3\", \"10-4\"], \"y\": [0.0, 0.0, 0.0], \"type\": \"scatter\", \"uid\": \"bd51b8ea-e18a-11e8-8ddb-a41f72875c19\"}, {\"line\": {\"dash\": \"longdashdot\"}, \"name\": \"\\u5e94\\u4ea4\\u9ad8\\u8d28\\u91cf\\u62a5\\u544a\\u6570(\\u674e\\u5e86\\u539f)\", \"x\": [\"10-2\", \"10-3\", \"10-4\"], \"y\": [0.0, 0.0, 0.0], \"type\": \"scatter\", \"uid\": \"bd51b8eb-e18a-11e8-8ddb-a41f72875c19\"}, {\"line\": {\"dash\": \"solid\"}, \"name\": \"\\u5e94\\u4ea4\\u9ad8\\u8d28\\u91cf\\u62a5\\u544a\\u6570(\\u5218\\u4e09\\u9633)\", \"x\": [\"10-2\", \"10-3\", \"10-4\"], \"y\": [null, 1.0, null], \"type\": \"scatter\", \"uid\": \"bd51b8ec-e18a-11e8-8ddb-a41f72875c19\"}, {\"line\": {\"dash\": \"dot\"}, \"name\": \"\\u5e94\\u4ea4\\u9ad8\\u8d28\\u91cf\\u62a5\\u544a\\u6570(\\u6c88\\u6069\\u60e0)\", \"x\": [\"10-2\", \"10-3\", \"10-4\"], \"y\": [null, null, 1.0], \"type\": \"scatter\", \"uid\": \"bd51b8ed-e18a-11e8-8ddb-a41f72875c19\"}, {\"line\": {\"dash\": \"dash\"}, \"name\": \"\\u5e94\\u4ea4\\u9ad8\\u8d28\\u91cf\\u62a5\\u544a\\u6570(\\u6636\\u5409\\u9633)\", \"x\": [\"10-2\", \"10-3\", \"10-4\"], \"y\": [null, 0.0, 0.0], \"type\": \"scatter\", \"uid\": \"bd51b8ee-e18a-11e8-8ddb-a41f72875c19\"}, {\"line\": {\"dash\": \"longdash\"}, \"name\": \"\\u5e94\\u4ea4\\u9ad8\\u8d28\\u91cf\\u62a5\\u544a\\u6570(\\u6768\\u4f1f\\u98de)\", \"x\": [\"10-2\", \"10-3\", \"10-4\"], \"y\": [1.0, 1.0, 0.0], \"type\": \"scatter\", \"uid\": \"bd51b8ef-e18a-11e8-8ddb-a41f72875c19\"}, {\"line\": {\"dash\": \"dashdot\"}, \"name\": \"\\u5e94\\u4ea4\\u9ad8\\u8d28\\u91cf\\u62a5\\u544a\\u6570(\\u738b\\u7ea2)\", \"x\": [\"10-2\", \"10-3\", \"10-4\"], \"y\": [null, null, 0.0], \"type\": \"scatter\", \"uid\": \"bd51b8f0-e18a-11e8-8ddb-a41f72875c19\"}, {\"line\": {\"dash\": \"longdashdot\"}, \"name\": \"\\u5e94\\u4ea4\\u9ad8\\u8d28\\u91cf\\u62a5\\u544a\\u6570(\\u4e8e\\u52c7\\u4e00)\", \"x\": [\"10-2\", \"10-3\", \"10-4\"], \"y\": [1.0, 0.0, 0.0], \"type\": \"scatter\", \"uid\": \"bd51b8f1-e18a-11e8-8ddb-a41f72875c19\"}, {\"line\": {\"dash\": \"solid\"}, \"name\": \"\\u5e94\\u4ea4\\u9ad8\\u8d28\\u91cf\\u62a5\\u544a\\u6570(\\u4e8e\\u6167)\", \"x\": [\"10-2\", \"10-3\", \"10-4\"], \"y\": [1.0, 0.0, 0.0], \"type\": \"scatter\", \"uid\": \"bd51b8f2-e18a-11e8-8ddb-a41f72875c19\"}, {\"line\": {\"dash\": \"dot\"}, \"name\": \"\\u5e94\\u4ea4\\u9ad8\\u8d28\\u91cf\\u62a5\\u544a\\u6570(\\u8c22\\u5fb7\\u5065)\", \"x\": [\"10-2\", \"10-3\", \"10-4\"], \"y\": [2.0, 0.0, 0.0], \"type\": \"scatter\", \"uid\": \"bd51b8f3-e18a-11e8-8ddb-a41f72875c19\"}, {\"line\": {\"dash\": \"dash\"}, \"name\": \"\\u5e94\\u4ea4\\u9ad8\\u8d28\\u91cf\\u62a5\\u544a\\u6570(\\u8303\\u65ed\\u5b81)\", \"x\": [\"10-2\", \"10-3\", \"10-4\"], \"y\": [0.0, 1.0, 0.0], \"type\": \"scatter\", \"uid\": \"bd51b8f4-e18a-11e8-8ddb-a41f72875c19\"}, {\"line\": {\"dash\": \"longdash\"}, \"name\": \"\\u5e94\\u4ea4\\u9ad8\\u8d28\\u91cf\\u62a5\\u544a\\u6570(\\u5360\\u4f1f)\", \"x\": [\"10-2\", \"10-3\", \"10-4\"], \"y\": [0.0, 0.0, 0.0], \"type\": \"scatter\", \"uid\": \"bd51b8f5-e18a-11e8-8ddb-a41f72875c19\"}, {\"line\": {\"dash\": \"dashdot\"}, \"name\": \"\\u5e94\\u4ea4\\u9ad8\\u8d28\\u91cf\\u62a5\\u544a\\u6570(\\u5f20\\u60a6)\", \"x\": [\"10-2\", \"10-3\", \"10-4\"], \"y\": [null, null, 0.0], \"type\": \"scatter\", \"uid\": \"bd51b8f6-e18a-11e8-8ddb-a41f72875c19\"}, {\"line\": {\"dash\": \"longdashdot\"}, \"name\": \"\\u5e94\\u4ea4\\u9ad8\\u8d28\\u91cf\\u62a5\\u544a\\u6570(\\u5f20\\u5b88\\u4f1f)\", \"x\": [\"10-2\", \"10-3\", \"10-4\"], \"y\": [0.0, 0.0, 0.0], \"type\": \"scatter\", \"uid\": \"bd51b8f7-e18a-11e8-8ddb-a41f72875c19\"}, {\"line\": {\"dash\": \"solid\"}, \"name\": \"\\u5e94\\u4ea4\\u9ad8\\u8d28\\u91cf\\u62a5\\u544a\\u6570(\\u8def\\u6167\\u840d)\", \"x\": [\"10-2\", \"10-3\", \"10-4\"], \"y\": [0.0, 0.0, 0.0], \"type\": \"scatter\", \"uid\": \"bd51b8f8-e18a-11e8-8ddb-a41f72875c19\"}, {\"line\": {\"dash\": \"dot\"}, \"name\": \"\\u5e94\\u4ea4\\u9ad8\\u8d28\\u91cf\\u62a5\\u544a\\u6570(\\u51af\\u656c\\u5ca9)\", \"x\": [\"10-2\", \"10-3\", \"10-4\"], \"y\": [null, null, 0.0], \"type\": \"scatter\", \"uid\": \"bd51b8f9-e18a-11e8-8ddb-a41f72875c19\"}, {\"line\": {\"dash\": \"dash\"}, \"name\": \"\\u5e94\\u4ea4\\u9ad8\\u8d28\\u91cf\\u62a5\\u544a\\u6570(\\u9a6c\\u6f47)\", \"x\": [\"10-2\", \"10-3\", \"10-4\"], \"y\": [0.0, 0.0, 0.0], \"type\": \"scatter\", \"uid\": \"bd51b8fa-e18a-11e8-8ddb-a41f72875c19\"}, {\"line\": {\"dash\": \"longdash\"}, \"name\": \"\\u5e94\\u4ea4\\u9ad8\\u8d28\\u91cf\\u62a5\\u544a\\u6570(\\u5b5f\\u660a)\", \"x\": [\"10-2\", \"10-3\", \"10-4\"], \"y\": [1.0, 0.0, 0.0], \"type\": \"scatter\", \"uid\": \"bd51b8fb-e18a-11e8-8ddb-a41f72875c19\"}, {\"line\": {\"dash\": \"dashdot\"}, \"name\": \"\\u5e94\\u4ea4\\u9ad8\\u8d28\\u91cf\\u62a5\\u544a\\u6570(\\u6d82\\u6210\\u82b3)\", \"x\": [\"10-2\", \"10-3\", \"10-4\"], \"y\": [null, null, 0.0], \"type\": \"scatter\", \"uid\": \"bd51b8fc-e18a-11e8-8ddb-a41f72875c19\"}, {\"line\": {\"dash\": \"longdashdot\"}, \"name\": \"\\u5e94\\u4ea4\\u9ad8\\u8d28\\u91cf\\u62a5\\u544a\\u6570(\\u8d75\\u73a5)\", \"x\": [\"10-2\", \"10-3\", \"10-4\"], \"y\": [0.0, 2.0, 0.0], \"type\": \"scatter\", \"uid\": \"bd51b8fd-e18a-11e8-8ddb-a41f72875c19\"}, {\"line\": {\"dash\": \"solid\"}, \"name\": \"\\u5e94\\u4ea4\\u9ad8\\u8d28\\u91cf\\u62a5\\u544a\\u6570(\\u5c01\\u5f66\\u6770)\", \"x\": [\"10-2\", \"10-3\", \"10-4\"], \"y\": [0.0, 0.0, 0.0], \"type\": \"scatter\", \"uid\": \"bd51b8fe-e18a-11e8-8ddb-a41f72875c19\"}, {\"line\": {\"dash\": \"dot\"}, \"name\": \"\\u5e94\\u4ea4\\u9ad8\\u8d28\\u91cf\\u62a5\\u544a\\u6570(\\u5468\\u6768)\", \"x\": [\"10-2\", \"10-3\", \"10-4\"], \"y\": [1.0, 0.0, 0.0], \"type\": \"scatter\", \"uid\": \"bd51b8ff-e18a-11e8-8ddb-a41f72875c19\"}, {\"line\": {\"dash\": \"dash\"}, \"name\": \"\\u5e94\\u4ea4\\u9ad8\\u8d28\\u91cf\\u62a5\\u544a\\u6570(\\u5218\\u6c5f)\", \"x\": [\"10-2\", \"10-3\", \"10-4\"], \"y\": [2.0, 0.0, 0.0], \"type\": \"scatter\", \"uid\": \"bd51b900-e18a-11e8-8ddb-a41f72875c19\"}, {\"line\": {\"dash\": \"longdash\"}, \"name\": \"\\u5e94\\u4ea4\\u9ad8\\u8d28\\u91cf\\u62a5\\u544a\\u6570(\\u82cf\\u5f66\\u52cb)\", \"x\": [\"10-2\", \"10-3\", \"10-4\"], \"y\": [null, 0.0, 0.0], \"type\": \"scatter\", \"uid\": \"bd51b901-e18a-11e8-8ddb-a41f72875c19\"}, {\"line\": {\"dash\": \"dashdot\"}, \"name\": \"\\u5e94\\u4ea4\\u9ad8\\u8d28\\u91cf\\u62a5\\u544a\\u6570(\\u4efb\\u96ea)\", \"x\": [\"10-2\", \"10-3\", \"10-4\"], \"y\": [2.0, 0.0, 1.0], \"type\": \"scatter\", \"uid\": \"bd51b902-e18a-11e8-8ddb-a41f72875c19\"}, {\"line\": {\"dash\": \"longdashdot\"}, \"name\": \"\\u5e94\\u4ea4\\u9ad8\\u8d28\\u91cf\\u62a5\\u544a\\u6570(\\u6bb5\\u5229\\u5f3a)\", \"x\": [\"10-2\", \"10-3\", \"10-4\"], \"y\": [0.0, null, null], \"type\": \"scatter\", \"uid\": \"bd51b903-e18a-11e8-8ddb-a41f72875c19\"}, {\"line\": {\"dash\": \"solid\"}, \"name\": \"\\u5e94\\u4ea4\\u9ad8\\u8d28\\u91cf\\u62a5\\u544a\\u6570(\\u9648\\u9e4f\\u71d5)\", \"x\": [\"10-2\", \"10-3\", \"10-4\"], \"y\": [null, 0.0, 0.0], \"type\": \"scatter\", \"uid\": \"bd51b904-e18a-11e8-8ddb-a41f72875c19\"}, {\"line\": {\"dash\": \"dot\"}, \"name\": \"\\u5e94\\u4ea4\\u9ad8\\u8d28\\u91cf\\u62a5\\u544a\\u6570(\\u8f66\\u5929\\u680b)\", \"x\": [\"10-2\", \"10-3\", \"10-4\"], \"y\": [null, null, 1.0], \"type\": \"scatter\", \"uid\": \"bd51b905-e18a-11e8-8ddb-a41f72875c19\"}, {\"line\": {\"dash\": \"dash\"}, \"name\": \"\\u5e94\\u4ea4\\u9ad8\\u8d28\\u91cf\\u62a5\\u544a\\u6570(\\u674e\\u534e\\u4e91)\", \"x\": [\"10-2\", \"10-3\", \"10-4\"], \"y\": [null, null, 0.0], \"type\": \"scatter\", \"uid\": \"bd51b906-e18a-11e8-8ddb-a41f72875c19\"}, {\"line\": {\"dash\": \"solid\"}, \"name\": \"\\u63d0\\u4ea4\\u9ad8\\u8d28\\u91cf\\u62a5\\u544a\\u6570(\\u6797\\u6587\\u6587)\", \"x\": [\"10-2\", \"10-3\", \"10-4\"], \"y\": [null, null, 0.0], \"type\": \"scatter\", \"uid\": \"bd51b907-e18a-11e8-8ddb-a41f72875c19\"}, {\"line\": {\"dash\": \"dot\"}, \"name\": \"\\u63d0\\u4ea4\\u9ad8\\u8d28\\u91cf\\u62a5\\u544a\\u6570(\\u5c48\\u6602)\", \"x\": [\"10-2\", \"10-3\", \"10-4\"], \"y\": [0.0, null, 0.0], \"type\": \"scatter\", \"uid\": \"bd51b908-e18a-11e8-8ddb-a41f72875c19\"}, {\"line\": {\"dash\": \"dash\"}, \"name\": \"\\u63d0\\u4ea4\\u9ad8\\u8d28\\u91cf\\u62a5\\u544a\\u6570(\\u59da\\u76df\\u6210)\", \"x\": [\"10-2\", \"10-3\", \"10-4\"], \"y\": [0.0, 0.0, 0.0], \"type\": \"scatter\", \"uid\": \"bd51b909-e18a-11e8-8ddb-a41f72875c19\"}, {\"line\": {\"dash\": \"longdash\"}, \"name\": \"\\u63d0\\u4ea4\\u9ad8\\u8d28\\u91cf\\u62a5\\u544a\\u6570(\\u51b7\\u96ea)\", \"x\": [\"10-2\", \"10-3\", \"10-4\"], \"y\": [0.0, null, 0.0], \"type\": \"scatter\", \"uid\": \"bd51b90a-e18a-11e8-8ddb-a41f72875c19\"}, {\"line\": {\"dash\": \"dashdot\"}, \"name\": \"\\u63d0\\u4ea4\\u9ad8\\u8d28\\u91cf\\u62a5\\u544a\\u6570(\\u97e9\\u5c11\\u6000)\", \"x\": [\"10-2\", \"10-3\", \"10-4\"], \"y\": [0.0, 0.0, 0.0], \"type\": \"scatter\", \"uid\": \"bd51b90b-e18a-11e8-8ddb-a41f72875c19\"}, {\"line\": {\"dash\": \"longdashdot\"}, \"name\": \"\\u63d0\\u4ea4\\u9ad8\\u8d28\\u91cf\\u62a5\\u544a\\u6570(\\u674e\\u5e86\\u539f)\", \"x\": [\"10-2\", \"10-3\", \"10-4\"], \"y\": [0.0, 0.0, 0.0], \"type\": \"scatter\", \"uid\": \"bd51b90c-e18a-11e8-8ddb-a41f72875c19\"}, {\"line\": {\"dash\": \"solid\"}, \"name\": \"\\u63d0\\u4ea4\\u9ad8\\u8d28\\u91cf\\u62a5\\u544a\\u6570(\\u5218\\u4e09\\u9633)\", \"x\": [\"10-2\", \"10-3\", \"10-4\"], \"y\": [null, 0.0, null], \"type\": \"scatter\", \"uid\": \"bd51b90d-e18a-11e8-8ddb-a41f72875c19\"}, {\"line\": {\"dash\": \"dot\"}, \"name\": \"\\u63d0\\u4ea4\\u9ad8\\u8d28\\u91cf\\u62a5\\u544a\\u6570(\\u6c88\\u6069\\u60e0)\", \"x\": [\"10-2\", \"10-3\", \"10-4\"], \"y\": [null, null, 0.0], \"type\": \"scatter\", \"uid\": \"bd51b90e-e18a-11e8-8ddb-a41f72875c19\"}, {\"line\": {\"dash\": \"dash\"}, \"name\": \"\\u63d0\\u4ea4\\u9ad8\\u8d28\\u91cf\\u62a5\\u544a\\u6570(\\u6636\\u5409\\u9633)\", \"x\": [\"10-2\", \"10-3\", \"10-4\"], \"y\": [null, 0.0, 0.0], \"type\": \"scatter\", \"uid\": \"bd51b90f-e18a-11e8-8ddb-a41f72875c19\"}, {\"line\": {\"dash\": \"longdash\"}, \"name\": \"\\u63d0\\u4ea4\\u9ad8\\u8d28\\u91cf\\u62a5\\u544a\\u6570(\\u6768\\u4f1f\\u98de)\", \"x\": [\"10-2\", \"10-3\", \"10-4\"], \"y\": [0.0, 0.0, 0.0], \"type\": \"scatter\", \"uid\": \"bd51b910-e18a-11e8-8ddb-a41f72875c19\"}, {\"line\": {\"dash\": \"dashdot\"}, \"name\": \"\\u63d0\\u4ea4\\u9ad8\\u8d28\\u91cf\\u62a5\\u544a\\u6570(\\u738b\\u7ea2)\", \"x\": [\"10-2\", \"10-3\", \"10-4\"], \"y\": [null, null, 0.0], \"type\": \"scatter\", \"uid\": \"bd51b911-e18a-11e8-8ddb-a41f72875c19\"}, {\"line\": {\"dash\": \"longdashdot\"}, \"name\": \"\\u63d0\\u4ea4\\u9ad8\\u8d28\\u91cf\\u62a5\\u544a\\u6570(\\u4e8e\\u52c7\\u4e00)\", \"x\": [\"10-2\", \"10-3\", \"10-4\"], \"y\": [0.0, 0.0, 0.0], \"type\": \"scatter\", \"uid\": \"bd51b912-e18a-11e8-8ddb-a41f72875c19\"}, {\"line\": {\"dash\": \"solid\"}, \"name\": \"\\u63d0\\u4ea4\\u9ad8\\u8d28\\u91cf\\u62a5\\u544a\\u6570(\\u4e8e\\u6167)\", \"x\": [\"10-2\", \"10-3\", \"10-4\"], \"y\": [1.0, 0.0, 0.0], \"type\": \"scatter\", \"uid\": \"bd51b913-e18a-11e8-8ddb-a41f72875c19\"}, {\"line\": {\"dash\": \"dot\"}, \"name\": \"\\u63d0\\u4ea4\\u9ad8\\u8d28\\u91cf\\u62a5\\u544a\\u6570(\\u8c22\\u5fb7\\u5065)\", \"x\": [\"10-2\", \"10-3\", \"10-4\"], \"y\": [0.0, 0.0, 0.0], \"type\": \"scatter\", \"uid\": \"bd51b914-e18a-11e8-8ddb-a41f72875c19\"}, {\"line\": {\"dash\": \"dash\"}, \"name\": \"\\u63d0\\u4ea4\\u9ad8\\u8d28\\u91cf\\u62a5\\u544a\\u6570(\\u8303\\u65ed\\u5b81)\", \"x\": [\"10-2\", \"10-3\", \"10-4\"], \"y\": [0.0, 0.0, 0.0], \"type\": \"scatter\", \"uid\": \"bd51b915-e18a-11e8-8ddb-a41f72875c19\"}, {\"line\": {\"dash\": \"longdash\"}, \"name\": \"\\u63d0\\u4ea4\\u9ad8\\u8d28\\u91cf\\u62a5\\u544a\\u6570(\\u5360\\u4f1f)\", \"x\": [\"10-2\", \"10-3\", \"10-4\"], \"y\": [0.0, 0.0, 0.0], \"type\": \"scatter\", \"uid\": \"bd51b916-e18a-11e8-8ddb-a41f72875c19\"}, {\"line\": {\"dash\": \"dashdot\"}, \"name\": \"\\u63d0\\u4ea4\\u9ad8\\u8d28\\u91cf\\u62a5\\u544a\\u6570(\\u5f20\\u60a6)\", \"x\": [\"10-2\", \"10-3\", \"10-4\"], \"y\": [null, null, 0.0], \"type\": \"scatter\", \"uid\": \"bd51b917-e18a-11e8-8ddb-a41f72875c19\"}, {\"line\": {\"dash\": \"longdashdot\"}, \"name\": \"\\u63d0\\u4ea4\\u9ad8\\u8d28\\u91cf\\u62a5\\u544a\\u6570(\\u5f20\\u5b88\\u4f1f)\", \"x\": [\"10-2\", \"10-3\", \"10-4\"], \"y\": [0.0, 0.0, 0.0], \"type\": \"scatter\", \"uid\": \"bd51b918-e18a-11e8-8ddb-a41f72875c19\"}, {\"line\": {\"dash\": \"solid\"}, \"name\": \"\\u63d0\\u4ea4\\u9ad8\\u8d28\\u91cf\\u62a5\\u544a\\u6570(\\u8def\\u6167\\u840d)\", \"x\": [\"10-2\", \"10-3\", \"10-4\"], \"y\": [0.0, 0.0, 0.0], \"type\": \"scatter\", \"uid\": \"bd51b919-e18a-11e8-8ddb-a41f72875c19\"}, {\"line\": {\"dash\": \"dot\"}, \"name\": \"\\u63d0\\u4ea4\\u9ad8\\u8d28\\u91cf\\u62a5\\u544a\\u6570(\\u51af\\u656c\\u5ca9)\", \"x\": [\"10-2\", \"10-3\", \"10-4\"], \"y\": [null, null, 0.0], \"type\": \"scatter\", \"uid\": \"bd51b91a-e18a-11e8-8ddb-a41f72875c19\"}, {\"line\": {\"dash\": \"dash\"}, \"name\": \"\\u63d0\\u4ea4\\u9ad8\\u8d28\\u91cf\\u62a5\\u544a\\u6570(\\u9a6c\\u6f47)\", \"x\": [\"10-2\", \"10-3\", \"10-4\"], \"y\": [0.0, 0.0, 0.0], \"type\": \"scatter\", \"uid\": \"bd51b91b-e18a-11e8-8ddb-a41f72875c19\"}, {\"line\": {\"dash\": \"longdash\"}, \"name\": \"\\u63d0\\u4ea4\\u9ad8\\u8d28\\u91cf\\u62a5\\u544a\\u6570(\\u5b5f\\u660a)\", \"x\": [\"10-2\", \"10-3\", \"10-4\"], \"y\": [0.0, 0.0, 0.0], \"type\": \"scatter\", \"uid\": \"bd51b91c-e18a-11e8-8ddb-a41f72875c19\"}, {\"line\": {\"dash\": \"dashdot\"}, \"name\": \"\\u63d0\\u4ea4\\u9ad8\\u8d28\\u91cf\\u62a5\\u544a\\u6570(\\u6d82\\u6210\\u82b3)\", \"x\": [\"10-2\", \"10-3\", \"10-4\"], \"y\": [null, null, 0.0], \"type\": \"scatter\", \"uid\": \"bd51b91d-e18a-11e8-8ddb-a41f72875c19\"}, {\"line\": {\"dash\": \"longdashdot\"}, \"name\": \"\\u63d0\\u4ea4\\u9ad8\\u8d28\\u91cf\\u62a5\\u544a\\u6570(\\u8d75\\u73a5)\", \"x\": [\"10-2\", \"10-3\", \"10-4\"], \"y\": [0.0, 0.0, 0.0], \"type\": \"scatter\", \"uid\": \"bd51b91e-e18a-11e8-8ddb-a41f72875c19\"}, {\"line\": {\"dash\": \"solid\"}, \"name\": \"\\u63d0\\u4ea4\\u9ad8\\u8d28\\u91cf\\u62a5\\u544a\\u6570(\\u5c01\\u5f66\\u6770)\", \"x\": [\"10-2\", \"10-3\", \"10-4\"], \"y\": [0.0, 0.0, 0.0], \"type\": \"scatter\", \"uid\": \"bd51b91f-e18a-11e8-8ddb-a41f72875c19\"}, {\"line\": {\"dash\": \"dot\"}, \"name\": \"\\u63d0\\u4ea4\\u9ad8\\u8d28\\u91cf\\u62a5\\u544a\\u6570(\\u5468\\u6768)\", \"x\": [\"10-2\", \"10-3\", \"10-4\"], \"y\": [0.0, 0.0, 0.0], \"type\": \"scatter\", \"uid\": \"bd51b920-e18a-11e8-8ddb-a41f72875c19\"}, {\"line\": {\"dash\": \"dash\"}, \"name\": \"\\u63d0\\u4ea4\\u9ad8\\u8d28\\u91cf\\u62a5\\u544a\\u6570(\\u5218\\u6c5f)\", \"x\": [\"10-2\", \"10-3\", \"10-4\"], \"y\": [0.0, 0.0, 0.0], \"type\": \"scatter\", \"uid\": \"bd51b921-e18a-11e8-8ddb-a41f72875c19\"}, {\"line\": {\"dash\": \"longdash\"}, \"name\": \"\\u63d0\\u4ea4\\u9ad8\\u8d28\\u91cf\\u62a5\\u544a\\u6570(\\u82cf\\u5f66\\u52cb)\", \"x\": [\"10-2\", \"10-3\", \"10-4\"], \"y\": [null, 0.0, 0.0], \"type\": \"scatter\", \"uid\": \"bd51b922-e18a-11e8-8ddb-a41f72875c19\"}, {\"line\": {\"dash\": \"dashdot\"}, \"name\": \"\\u63d0\\u4ea4\\u9ad8\\u8d28\\u91cf\\u62a5\\u544a\\u6570(\\u4efb\\u96ea)\", \"x\": [\"10-2\", \"10-3\", \"10-4\"], \"y\": [0.0, 0.0, 1.0], \"type\": \"scatter\", \"uid\": \"bd51b923-e18a-11e8-8ddb-a41f72875c19\"}, {\"line\": {\"dash\": \"longdashdot\"}, \"name\": \"\\u63d0\\u4ea4\\u9ad8\\u8d28\\u91cf\\u62a5\\u544a\\u6570(\\u6bb5\\u5229\\u5f3a)\", \"x\": [\"10-2\", \"10-3\", \"10-4\"], \"y\": [0.0, null, null], \"type\": \"scatter\", \"uid\": \"bd51b924-e18a-11e8-8ddb-a41f72875c19\"}, {\"line\": {\"dash\": \"solid\"}, \"name\": \"\\u63d0\\u4ea4\\u9ad8\\u8d28\\u91cf\\u62a5\\u544a\\u6570(\\u9648\\u9e4f\\u71d5)\", \"x\": [\"10-2\", \"10-3\", \"10-4\"], \"y\": [null, 0.0, 0.0], \"type\": \"scatter\", \"uid\": \"bd51b925-e18a-11e8-8ddb-a41f72875c19\"}, {\"line\": {\"dash\": \"dot\"}, \"name\": \"\\u63d0\\u4ea4\\u9ad8\\u8d28\\u91cf\\u62a5\\u544a\\u6570(\\u8f66\\u5929\\u680b)\", \"x\": [\"10-2\", \"10-3\", \"10-4\"], \"y\": [null, null, 1.0], \"type\": \"scatter\", \"uid\": \"bd51b926-e18a-11e8-8ddb-a41f72875c19\"}, {\"line\": {\"dash\": \"dash\"}, \"name\": \"\\u63d0\\u4ea4\\u9ad8\\u8d28\\u91cf\\u62a5\\u544a\\u6570(\\u674e\\u534e\\u4e91)\", \"x\": [\"10-2\", \"10-3\", \"10-4\"], \"y\": [null, null, 0.0], \"type\": \"scatter\", \"uid\": \"bd51b927-e18a-11e8-8ddb-a41f72875c19\"}], {\"title\": \"\\u5e94\\u4ea4\\u9ad8\\u8d28\\u91cf\\u62a5\\u544a\\u6570&\\u63d0\\u4ea4\\u9ad8\\u8d28\\u91cf\\u62a5\\u544a\\u6570\\u5468\\u8d8b\\u52bf\\u56fe\", \"xaxis\": {\"mirror\": \"all\", \"nticks\": 20, \"showgrid\": true, \"showline\": true, \"title\": \"\\u5468\", \"type\": \"category\", \"zeroline\": true}, \"yaxis\": {\"mirror\": \"all\", \"nticks\": 20, \"showgrid\": true, \"showline\": true, \"title\": \"\\u5e94\\u4ea4\\u9ad8\\u8d28\\u91cf\\u62a5\\u544a\\u6570&\\u63d0\\u4ea4\\u9ad8\\u8d28\\u91cf\\u62a5\\u544a\\u6570\", \"zeroline\": true}}, {\"showLink\": true, \"linkText\": \"Export to plot.ly\"})});</script>"
      ],
      "text/vnd.plotly.v1+html": [
       "<div id=\"e1b3089c-21d1-47be-b430-980decb582f5\" style=\"height: 525px; width: 100%;\" class=\"plotly-graph-div\"></div><script type=\"text/javascript\">require([\"plotly\"], function(Plotly) { window.PLOTLYENV=window.PLOTLYENV || {};window.PLOTLYENV.BASE_URL=\"https://plot.ly\";Plotly.newPlot(\"e1b3089c-21d1-47be-b430-980decb582f5\", [{\"line\": {\"dash\": \"solid\"}, \"name\": \"\\u5e94\\u4ea4\\u9ad8\\u8d28\\u91cf\\u62a5\\u544a\\u6570(\\u6797\\u6587\\u6587)\", \"x\": [\"10-2\", \"10-3\", \"10-4\"], \"y\": [null, null, 0.0], \"type\": \"scatter\", \"uid\": \"bd51b8e6-e18a-11e8-8ddb-a41f72875c19\"}, {\"line\": {\"dash\": \"dot\"}, \"name\": \"\\u5e94\\u4ea4\\u9ad8\\u8d28\\u91cf\\u62a5\\u544a\\u6570(\\u5c48\\u6602)\", \"x\": [\"10-2\", \"10-3\", \"10-4\"], \"y\": [0.0, null, 0.0], \"type\": \"scatter\", \"uid\": \"bd51b8e7-e18a-11e8-8ddb-a41f72875c19\"}, {\"line\": {\"dash\": \"dash\"}, \"name\": \"\\u5e94\\u4ea4\\u9ad8\\u8d28\\u91cf\\u62a5\\u544a\\u6570(\\u59da\\u76df\\u6210)\", \"x\": [\"10-2\", \"10-3\", \"10-4\"], \"y\": [1.0, 0.0, 0.0], \"type\": \"scatter\", \"uid\": \"bd51b8e8-e18a-11e8-8ddb-a41f72875c19\"}, {\"line\": {\"dash\": \"longdash\"}, \"name\": \"\\u5e94\\u4ea4\\u9ad8\\u8d28\\u91cf\\u62a5\\u544a\\u6570(\\u51b7\\u96ea)\", \"x\": [\"10-2\", \"10-3\", \"10-4\"], \"y\": [0.0, null, 0.0], \"type\": \"scatter\", \"uid\": \"bd51b8e9-e18a-11e8-8ddb-a41f72875c19\"}, {\"line\": {\"dash\": \"dashdot\"}, \"name\": \"\\u5e94\\u4ea4\\u9ad8\\u8d28\\u91cf\\u62a5\\u544a\\u6570(\\u97e9\\u5c11\\u6000)\", \"x\": [\"10-2\", \"10-3\", \"10-4\"], \"y\": [0.0, 0.0, 0.0], \"type\": \"scatter\", \"uid\": \"bd51b8ea-e18a-11e8-8ddb-a41f72875c19\"}, {\"line\": {\"dash\": \"longdashdot\"}, \"name\": \"\\u5e94\\u4ea4\\u9ad8\\u8d28\\u91cf\\u62a5\\u544a\\u6570(\\u674e\\u5e86\\u539f)\", \"x\": [\"10-2\", \"10-3\", \"10-4\"], \"y\": [0.0, 0.0, 0.0], \"type\": \"scatter\", \"uid\": \"bd51b8eb-e18a-11e8-8ddb-a41f72875c19\"}, {\"line\": {\"dash\": \"solid\"}, \"name\": \"\\u5e94\\u4ea4\\u9ad8\\u8d28\\u91cf\\u62a5\\u544a\\u6570(\\u5218\\u4e09\\u9633)\", \"x\": [\"10-2\", \"10-3\", \"10-4\"], \"y\": [null, 1.0, null], \"type\": \"scatter\", \"uid\": \"bd51b8ec-e18a-11e8-8ddb-a41f72875c19\"}, {\"line\": {\"dash\": \"dot\"}, \"name\": \"\\u5e94\\u4ea4\\u9ad8\\u8d28\\u91cf\\u62a5\\u544a\\u6570(\\u6c88\\u6069\\u60e0)\", \"x\": [\"10-2\", \"10-3\", \"10-4\"], \"y\": [null, null, 1.0], \"type\": \"scatter\", \"uid\": \"bd51b8ed-e18a-11e8-8ddb-a41f72875c19\"}, {\"line\": {\"dash\": \"dash\"}, \"name\": \"\\u5e94\\u4ea4\\u9ad8\\u8d28\\u91cf\\u62a5\\u544a\\u6570(\\u6636\\u5409\\u9633)\", \"x\": [\"10-2\", \"10-3\", \"10-4\"], \"y\": [null, 0.0, 0.0], \"type\": \"scatter\", \"uid\": \"bd51b8ee-e18a-11e8-8ddb-a41f72875c19\"}, {\"line\": {\"dash\": \"longdash\"}, \"name\": \"\\u5e94\\u4ea4\\u9ad8\\u8d28\\u91cf\\u62a5\\u544a\\u6570(\\u6768\\u4f1f\\u98de)\", \"x\": [\"10-2\", \"10-3\", \"10-4\"], \"y\": [1.0, 1.0, 0.0], \"type\": \"scatter\", \"uid\": \"bd51b8ef-e18a-11e8-8ddb-a41f72875c19\"}, {\"line\": {\"dash\": \"dashdot\"}, \"name\": \"\\u5e94\\u4ea4\\u9ad8\\u8d28\\u91cf\\u62a5\\u544a\\u6570(\\u738b\\u7ea2)\", \"x\": [\"10-2\", \"10-3\", \"10-4\"], \"y\": [null, null, 0.0], \"type\": \"scatter\", \"uid\": \"bd51b8f0-e18a-11e8-8ddb-a41f72875c19\"}, {\"line\": {\"dash\": \"longdashdot\"}, \"name\": \"\\u5e94\\u4ea4\\u9ad8\\u8d28\\u91cf\\u62a5\\u544a\\u6570(\\u4e8e\\u52c7\\u4e00)\", \"x\": [\"10-2\", \"10-3\", \"10-4\"], \"y\": [1.0, 0.0, 0.0], \"type\": \"scatter\", \"uid\": \"bd51b8f1-e18a-11e8-8ddb-a41f72875c19\"}, {\"line\": {\"dash\": \"solid\"}, \"name\": \"\\u5e94\\u4ea4\\u9ad8\\u8d28\\u91cf\\u62a5\\u544a\\u6570(\\u4e8e\\u6167)\", \"x\": [\"10-2\", \"10-3\", \"10-4\"], \"y\": [1.0, 0.0, 0.0], \"type\": \"scatter\", \"uid\": \"bd51b8f2-e18a-11e8-8ddb-a41f72875c19\"}, {\"line\": {\"dash\": \"dot\"}, \"name\": \"\\u5e94\\u4ea4\\u9ad8\\u8d28\\u91cf\\u62a5\\u544a\\u6570(\\u8c22\\u5fb7\\u5065)\", \"x\": [\"10-2\", \"10-3\", \"10-4\"], \"y\": [2.0, 0.0, 0.0], \"type\": \"scatter\", \"uid\": \"bd51b8f3-e18a-11e8-8ddb-a41f72875c19\"}, {\"line\": {\"dash\": \"dash\"}, \"name\": \"\\u5e94\\u4ea4\\u9ad8\\u8d28\\u91cf\\u62a5\\u544a\\u6570(\\u8303\\u65ed\\u5b81)\", \"x\": [\"10-2\", \"10-3\", \"10-4\"], \"y\": [0.0, 1.0, 0.0], \"type\": \"scatter\", \"uid\": \"bd51b8f4-e18a-11e8-8ddb-a41f72875c19\"}, {\"line\": {\"dash\": \"longdash\"}, \"name\": \"\\u5e94\\u4ea4\\u9ad8\\u8d28\\u91cf\\u62a5\\u544a\\u6570(\\u5360\\u4f1f)\", \"x\": [\"10-2\", \"10-3\", \"10-4\"], \"y\": [0.0, 0.0, 0.0], \"type\": \"scatter\", \"uid\": \"bd51b8f5-e18a-11e8-8ddb-a41f72875c19\"}, {\"line\": {\"dash\": \"dashdot\"}, \"name\": \"\\u5e94\\u4ea4\\u9ad8\\u8d28\\u91cf\\u62a5\\u544a\\u6570(\\u5f20\\u60a6)\", \"x\": [\"10-2\", \"10-3\", \"10-4\"], \"y\": [null, null, 0.0], \"type\": \"scatter\", \"uid\": \"bd51b8f6-e18a-11e8-8ddb-a41f72875c19\"}, {\"line\": {\"dash\": \"longdashdot\"}, \"name\": \"\\u5e94\\u4ea4\\u9ad8\\u8d28\\u91cf\\u62a5\\u544a\\u6570(\\u5f20\\u5b88\\u4f1f)\", \"x\": [\"10-2\", \"10-3\", \"10-4\"], \"y\": [0.0, 0.0, 0.0], \"type\": \"scatter\", \"uid\": \"bd51b8f7-e18a-11e8-8ddb-a41f72875c19\"}, {\"line\": {\"dash\": \"solid\"}, \"name\": \"\\u5e94\\u4ea4\\u9ad8\\u8d28\\u91cf\\u62a5\\u544a\\u6570(\\u8def\\u6167\\u840d)\", \"x\": [\"10-2\", \"10-3\", \"10-4\"], \"y\": [0.0, 0.0, 0.0], \"type\": \"scatter\", \"uid\": \"bd51b8f8-e18a-11e8-8ddb-a41f72875c19\"}, {\"line\": {\"dash\": \"dot\"}, \"name\": \"\\u5e94\\u4ea4\\u9ad8\\u8d28\\u91cf\\u62a5\\u544a\\u6570(\\u51af\\u656c\\u5ca9)\", \"x\": [\"10-2\", \"10-3\", \"10-4\"], \"y\": [null, null, 0.0], \"type\": \"scatter\", \"uid\": \"bd51b8f9-e18a-11e8-8ddb-a41f72875c19\"}, {\"line\": {\"dash\": \"dash\"}, \"name\": \"\\u5e94\\u4ea4\\u9ad8\\u8d28\\u91cf\\u62a5\\u544a\\u6570(\\u9a6c\\u6f47)\", \"x\": [\"10-2\", \"10-3\", \"10-4\"], \"y\": [0.0, 0.0, 0.0], \"type\": \"scatter\", \"uid\": \"bd51b8fa-e18a-11e8-8ddb-a41f72875c19\"}, {\"line\": {\"dash\": \"longdash\"}, \"name\": \"\\u5e94\\u4ea4\\u9ad8\\u8d28\\u91cf\\u62a5\\u544a\\u6570(\\u5b5f\\u660a)\", \"x\": [\"10-2\", \"10-3\", \"10-4\"], \"y\": [1.0, 0.0, 0.0], \"type\": \"scatter\", \"uid\": \"bd51b8fb-e18a-11e8-8ddb-a41f72875c19\"}, {\"line\": {\"dash\": \"dashdot\"}, \"name\": \"\\u5e94\\u4ea4\\u9ad8\\u8d28\\u91cf\\u62a5\\u544a\\u6570(\\u6d82\\u6210\\u82b3)\", \"x\": [\"10-2\", \"10-3\", \"10-4\"], \"y\": [null, null, 0.0], \"type\": \"scatter\", \"uid\": \"bd51b8fc-e18a-11e8-8ddb-a41f72875c19\"}, {\"line\": {\"dash\": \"longdashdot\"}, \"name\": \"\\u5e94\\u4ea4\\u9ad8\\u8d28\\u91cf\\u62a5\\u544a\\u6570(\\u8d75\\u73a5)\", \"x\": [\"10-2\", \"10-3\", \"10-4\"], \"y\": [0.0, 2.0, 0.0], \"type\": \"scatter\", \"uid\": \"bd51b8fd-e18a-11e8-8ddb-a41f72875c19\"}, {\"line\": {\"dash\": \"solid\"}, \"name\": \"\\u5e94\\u4ea4\\u9ad8\\u8d28\\u91cf\\u62a5\\u544a\\u6570(\\u5c01\\u5f66\\u6770)\", \"x\": [\"10-2\", \"10-3\", \"10-4\"], \"y\": [0.0, 0.0, 0.0], \"type\": \"scatter\", \"uid\": \"bd51b8fe-e18a-11e8-8ddb-a41f72875c19\"}, {\"line\": {\"dash\": \"dot\"}, \"name\": \"\\u5e94\\u4ea4\\u9ad8\\u8d28\\u91cf\\u62a5\\u544a\\u6570(\\u5468\\u6768)\", \"x\": [\"10-2\", \"10-3\", \"10-4\"], \"y\": [1.0, 0.0, 0.0], \"type\": \"scatter\", \"uid\": \"bd51b8ff-e18a-11e8-8ddb-a41f72875c19\"}, {\"line\": {\"dash\": \"dash\"}, \"name\": \"\\u5e94\\u4ea4\\u9ad8\\u8d28\\u91cf\\u62a5\\u544a\\u6570(\\u5218\\u6c5f)\", \"x\": [\"10-2\", \"10-3\", \"10-4\"], \"y\": [2.0, 0.0, 0.0], \"type\": \"scatter\", \"uid\": \"bd51b900-e18a-11e8-8ddb-a41f72875c19\"}, {\"line\": {\"dash\": \"longdash\"}, \"name\": \"\\u5e94\\u4ea4\\u9ad8\\u8d28\\u91cf\\u62a5\\u544a\\u6570(\\u82cf\\u5f66\\u52cb)\", \"x\": [\"10-2\", \"10-3\", \"10-4\"], \"y\": [null, 0.0, 0.0], \"type\": \"scatter\", \"uid\": \"bd51b901-e18a-11e8-8ddb-a41f72875c19\"}, {\"line\": {\"dash\": \"dashdot\"}, \"name\": \"\\u5e94\\u4ea4\\u9ad8\\u8d28\\u91cf\\u62a5\\u544a\\u6570(\\u4efb\\u96ea)\", \"x\": [\"10-2\", \"10-3\", \"10-4\"], \"y\": [2.0, 0.0, 1.0], \"type\": \"scatter\", \"uid\": \"bd51b902-e18a-11e8-8ddb-a41f72875c19\"}, {\"line\": {\"dash\": \"longdashdot\"}, \"name\": \"\\u5e94\\u4ea4\\u9ad8\\u8d28\\u91cf\\u62a5\\u544a\\u6570(\\u6bb5\\u5229\\u5f3a)\", \"x\": [\"10-2\", \"10-3\", \"10-4\"], \"y\": [0.0, null, null], \"type\": \"scatter\", \"uid\": \"bd51b903-e18a-11e8-8ddb-a41f72875c19\"}, {\"line\": {\"dash\": \"solid\"}, \"name\": \"\\u5e94\\u4ea4\\u9ad8\\u8d28\\u91cf\\u62a5\\u544a\\u6570(\\u9648\\u9e4f\\u71d5)\", \"x\": [\"10-2\", \"10-3\", \"10-4\"], \"y\": [null, 0.0, 0.0], \"type\": \"scatter\", \"uid\": \"bd51b904-e18a-11e8-8ddb-a41f72875c19\"}, {\"line\": {\"dash\": \"dot\"}, \"name\": \"\\u5e94\\u4ea4\\u9ad8\\u8d28\\u91cf\\u62a5\\u544a\\u6570(\\u8f66\\u5929\\u680b)\", \"x\": [\"10-2\", \"10-3\", \"10-4\"], \"y\": [null, null, 1.0], \"type\": \"scatter\", \"uid\": \"bd51b905-e18a-11e8-8ddb-a41f72875c19\"}, {\"line\": {\"dash\": \"dash\"}, \"name\": \"\\u5e94\\u4ea4\\u9ad8\\u8d28\\u91cf\\u62a5\\u544a\\u6570(\\u674e\\u534e\\u4e91)\", \"x\": [\"10-2\", \"10-3\", \"10-4\"], \"y\": [null, null, 0.0], \"type\": \"scatter\", \"uid\": \"bd51b906-e18a-11e8-8ddb-a41f72875c19\"}, {\"line\": {\"dash\": \"solid\"}, \"name\": \"\\u63d0\\u4ea4\\u9ad8\\u8d28\\u91cf\\u62a5\\u544a\\u6570(\\u6797\\u6587\\u6587)\", \"x\": [\"10-2\", \"10-3\", \"10-4\"], \"y\": [null, null, 0.0], \"type\": \"scatter\", \"uid\": \"bd51b907-e18a-11e8-8ddb-a41f72875c19\"}, {\"line\": {\"dash\": \"dot\"}, \"name\": \"\\u63d0\\u4ea4\\u9ad8\\u8d28\\u91cf\\u62a5\\u544a\\u6570(\\u5c48\\u6602)\", \"x\": [\"10-2\", \"10-3\", \"10-4\"], \"y\": [0.0, null, 0.0], \"type\": \"scatter\", \"uid\": \"bd51b908-e18a-11e8-8ddb-a41f72875c19\"}, {\"line\": {\"dash\": \"dash\"}, \"name\": \"\\u63d0\\u4ea4\\u9ad8\\u8d28\\u91cf\\u62a5\\u544a\\u6570(\\u59da\\u76df\\u6210)\", \"x\": [\"10-2\", \"10-3\", \"10-4\"], \"y\": [0.0, 0.0, 0.0], \"type\": \"scatter\", \"uid\": \"bd51b909-e18a-11e8-8ddb-a41f72875c19\"}, {\"line\": {\"dash\": \"longdash\"}, \"name\": \"\\u63d0\\u4ea4\\u9ad8\\u8d28\\u91cf\\u62a5\\u544a\\u6570(\\u51b7\\u96ea)\", \"x\": [\"10-2\", \"10-3\", \"10-4\"], \"y\": [0.0, null, 0.0], \"type\": \"scatter\", \"uid\": \"bd51b90a-e18a-11e8-8ddb-a41f72875c19\"}, {\"line\": {\"dash\": \"dashdot\"}, \"name\": \"\\u63d0\\u4ea4\\u9ad8\\u8d28\\u91cf\\u62a5\\u544a\\u6570(\\u97e9\\u5c11\\u6000)\", \"x\": [\"10-2\", \"10-3\", \"10-4\"], \"y\": [0.0, 0.0, 0.0], \"type\": \"scatter\", \"uid\": \"bd51b90b-e18a-11e8-8ddb-a41f72875c19\"}, {\"line\": {\"dash\": \"longdashdot\"}, \"name\": \"\\u63d0\\u4ea4\\u9ad8\\u8d28\\u91cf\\u62a5\\u544a\\u6570(\\u674e\\u5e86\\u539f)\", \"x\": [\"10-2\", \"10-3\", \"10-4\"], \"y\": [0.0, 0.0, 0.0], \"type\": \"scatter\", \"uid\": \"bd51b90c-e18a-11e8-8ddb-a41f72875c19\"}, {\"line\": {\"dash\": \"solid\"}, \"name\": \"\\u63d0\\u4ea4\\u9ad8\\u8d28\\u91cf\\u62a5\\u544a\\u6570(\\u5218\\u4e09\\u9633)\", \"x\": [\"10-2\", \"10-3\", \"10-4\"], \"y\": [null, 0.0, null], \"type\": \"scatter\", \"uid\": \"bd51b90d-e18a-11e8-8ddb-a41f72875c19\"}, {\"line\": {\"dash\": \"dot\"}, \"name\": \"\\u63d0\\u4ea4\\u9ad8\\u8d28\\u91cf\\u62a5\\u544a\\u6570(\\u6c88\\u6069\\u60e0)\", \"x\": [\"10-2\", \"10-3\", \"10-4\"], \"y\": [null, null, 0.0], \"type\": \"scatter\", \"uid\": \"bd51b90e-e18a-11e8-8ddb-a41f72875c19\"}, {\"line\": {\"dash\": \"dash\"}, \"name\": \"\\u63d0\\u4ea4\\u9ad8\\u8d28\\u91cf\\u62a5\\u544a\\u6570(\\u6636\\u5409\\u9633)\", \"x\": [\"10-2\", \"10-3\", \"10-4\"], \"y\": [null, 0.0, 0.0], \"type\": \"scatter\", \"uid\": \"bd51b90f-e18a-11e8-8ddb-a41f72875c19\"}, {\"line\": {\"dash\": \"longdash\"}, \"name\": \"\\u63d0\\u4ea4\\u9ad8\\u8d28\\u91cf\\u62a5\\u544a\\u6570(\\u6768\\u4f1f\\u98de)\", \"x\": [\"10-2\", \"10-3\", \"10-4\"], \"y\": [0.0, 0.0, 0.0], \"type\": \"scatter\", \"uid\": \"bd51b910-e18a-11e8-8ddb-a41f72875c19\"}, {\"line\": {\"dash\": \"dashdot\"}, \"name\": \"\\u63d0\\u4ea4\\u9ad8\\u8d28\\u91cf\\u62a5\\u544a\\u6570(\\u738b\\u7ea2)\", \"x\": [\"10-2\", \"10-3\", \"10-4\"], \"y\": [null, null, 0.0], \"type\": \"scatter\", \"uid\": \"bd51b911-e18a-11e8-8ddb-a41f72875c19\"}, {\"line\": {\"dash\": \"longdashdot\"}, \"name\": \"\\u63d0\\u4ea4\\u9ad8\\u8d28\\u91cf\\u62a5\\u544a\\u6570(\\u4e8e\\u52c7\\u4e00)\", \"x\": [\"10-2\", \"10-3\", \"10-4\"], \"y\": [0.0, 0.0, 0.0], \"type\": \"scatter\", \"uid\": \"bd51b912-e18a-11e8-8ddb-a41f72875c19\"}, {\"line\": {\"dash\": \"solid\"}, \"name\": \"\\u63d0\\u4ea4\\u9ad8\\u8d28\\u91cf\\u62a5\\u544a\\u6570(\\u4e8e\\u6167)\", \"x\": [\"10-2\", \"10-3\", \"10-4\"], \"y\": [1.0, 0.0, 0.0], \"type\": \"scatter\", \"uid\": \"bd51b913-e18a-11e8-8ddb-a41f72875c19\"}, {\"line\": {\"dash\": \"dot\"}, \"name\": \"\\u63d0\\u4ea4\\u9ad8\\u8d28\\u91cf\\u62a5\\u544a\\u6570(\\u8c22\\u5fb7\\u5065)\", \"x\": [\"10-2\", \"10-3\", \"10-4\"], \"y\": [0.0, 0.0, 0.0], \"type\": \"scatter\", \"uid\": \"bd51b914-e18a-11e8-8ddb-a41f72875c19\"}, {\"line\": {\"dash\": \"dash\"}, \"name\": \"\\u63d0\\u4ea4\\u9ad8\\u8d28\\u91cf\\u62a5\\u544a\\u6570(\\u8303\\u65ed\\u5b81)\", \"x\": [\"10-2\", \"10-3\", \"10-4\"], \"y\": [0.0, 0.0, 0.0], \"type\": \"scatter\", \"uid\": \"bd51b915-e18a-11e8-8ddb-a41f72875c19\"}, {\"line\": {\"dash\": \"longdash\"}, \"name\": \"\\u63d0\\u4ea4\\u9ad8\\u8d28\\u91cf\\u62a5\\u544a\\u6570(\\u5360\\u4f1f)\", \"x\": [\"10-2\", \"10-3\", \"10-4\"], \"y\": [0.0, 0.0, 0.0], \"type\": \"scatter\", \"uid\": \"bd51b916-e18a-11e8-8ddb-a41f72875c19\"}, {\"line\": {\"dash\": \"dashdot\"}, \"name\": \"\\u63d0\\u4ea4\\u9ad8\\u8d28\\u91cf\\u62a5\\u544a\\u6570(\\u5f20\\u60a6)\", \"x\": [\"10-2\", \"10-3\", \"10-4\"], \"y\": [null, null, 0.0], \"type\": \"scatter\", \"uid\": \"bd51b917-e18a-11e8-8ddb-a41f72875c19\"}, {\"line\": {\"dash\": \"longdashdot\"}, \"name\": \"\\u63d0\\u4ea4\\u9ad8\\u8d28\\u91cf\\u62a5\\u544a\\u6570(\\u5f20\\u5b88\\u4f1f)\", \"x\": [\"10-2\", \"10-3\", \"10-4\"], \"y\": [0.0, 0.0, 0.0], \"type\": \"scatter\", \"uid\": \"bd51b918-e18a-11e8-8ddb-a41f72875c19\"}, {\"line\": {\"dash\": \"solid\"}, \"name\": \"\\u63d0\\u4ea4\\u9ad8\\u8d28\\u91cf\\u62a5\\u544a\\u6570(\\u8def\\u6167\\u840d)\", \"x\": [\"10-2\", \"10-3\", \"10-4\"], \"y\": [0.0, 0.0, 0.0], \"type\": \"scatter\", \"uid\": \"bd51b919-e18a-11e8-8ddb-a41f72875c19\"}, {\"line\": {\"dash\": \"dot\"}, \"name\": \"\\u63d0\\u4ea4\\u9ad8\\u8d28\\u91cf\\u62a5\\u544a\\u6570(\\u51af\\u656c\\u5ca9)\", \"x\": [\"10-2\", \"10-3\", \"10-4\"], \"y\": [null, null, 0.0], \"type\": \"scatter\", \"uid\": \"bd51b91a-e18a-11e8-8ddb-a41f72875c19\"}, {\"line\": {\"dash\": \"dash\"}, \"name\": \"\\u63d0\\u4ea4\\u9ad8\\u8d28\\u91cf\\u62a5\\u544a\\u6570(\\u9a6c\\u6f47)\", \"x\": [\"10-2\", \"10-3\", \"10-4\"], \"y\": [0.0, 0.0, 0.0], \"type\": \"scatter\", \"uid\": \"bd51b91b-e18a-11e8-8ddb-a41f72875c19\"}, {\"line\": {\"dash\": \"longdash\"}, \"name\": \"\\u63d0\\u4ea4\\u9ad8\\u8d28\\u91cf\\u62a5\\u544a\\u6570(\\u5b5f\\u660a)\", \"x\": [\"10-2\", \"10-3\", \"10-4\"], \"y\": [0.0, 0.0, 0.0], \"type\": \"scatter\", \"uid\": \"bd51b91c-e18a-11e8-8ddb-a41f72875c19\"}, {\"line\": {\"dash\": \"dashdot\"}, \"name\": \"\\u63d0\\u4ea4\\u9ad8\\u8d28\\u91cf\\u62a5\\u544a\\u6570(\\u6d82\\u6210\\u82b3)\", \"x\": [\"10-2\", \"10-3\", \"10-4\"], \"y\": [null, null, 0.0], \"type\": \"scatter\", \"uid\": \"bd51b91d-e18a-11e8-8ddb-a41f72875c19\"}, {\"line\": {\"dash\": \"longdashdot\"}, \"name\": \"\\u63d0\\u4ea4\\u9ad8\\u8d28\\u91cf\\u62a5\\u544a\\u6570(\\u8d75\\u73a5)\", \"x\": [\"10-2\", \"10-3\", \"10-4\"], \"y\": [0.0, 0.0, 0.0], \"type\": \"scatter\", \"uid\": \"bd51b91e-e18a-11e8-8ddb-a41f72875c19\"}, {\"line\": {\"dash\": \"solid\"}, \"name\": \"\\u63d0\\u4ea4\\u9ad8\\u8d28\\u91cf\\u62a5\\u544a\\u6570(\\u5c01\\u5f66\\u6770)\", \"x\": [\"10-2\", \"10-3\", \"10-4\"], \"y\": [0.0, 0.0, 0.0], \"type\": \"scatter\", \"uid\": \"bd51b91f-e18a-11e8-8ddb-a41f72875c19\"}, {\"line\": {\"dash\": \"dot\"}, \"name\": \"\\u63d0\\u4ea4\\u9ad8\\u8d28\\u91cf\\u62a5\\u544a\\u6570(\\u5468\\u6768)\", \"x\": [\"10-2\", \"10-3\", \"10-4\"], \"y\": [0.0, 0.0, 0.0], \"type\": \"scatter\", \"uid\": \"bd51b920-e18a-11e8-8ddb-a41f72875c19\"}, {\"line\": {\"dash\": \"dash\"}, \"name\": \"\\u63d0\\u4ea4\\u9ad8\\u8d28\\u91cf\\u62a5\\u544a\\u6570(\\u5218\\u6c5f)\", \"x\": [\"10-2\", \"10-3\", \"10-4\"], \"y\": [0.0, 0.0, 0.0], \"type\": \"scatter\", \"uid\": \"bd51b921-e18a-11e8-8ddb-a41f72875c19\"}, {\"line\": {\"dash\": \"longdash\"}, \"name\": \"\\u63d0\\u4ea4\\u9ad8\\u8d28\\u91cf\\u62a5\\u544a\\u6570(\\u82cf\\u5f66\\u52cb)\", \"x\": [\"10-2\", \"10-3\", \"10-4\"], \"y\": [null, 0.0, 0.0], \"type\": \"scatter\", \"uid\": \"bd51b922-e18a-11e8-8ddb-a41f72875c19\"}, {\"line\": {\"dash\": \"dashdot\"}, \"name\": \"\\u63d0\\u4ea4\\u9ad8\\u8d28\\u91cf\\u62a5\\u544a\\u6570(\\u4efb\\u96ea)\", \"x\": [\"10-2\", \"10-3\", \"10-4\"], \"y\": [0.0, 0.0, 1.0], \"type\": \"scatter\", \"uid\": \"bd51b923-e18a-11e8-8ddb-a41f72875c19\"}, {\"line\": {\"dash\": \"longdashdot\"}, \"name\": \"\\u63d0\\u4ea4\\u9ad8\\u8d28\\u91cf\\u62a5\\u544a\\u6570(\\u6bb5\\u5229\\u5f3a)\", \"x\": [\"10-2\", \"10-3\", \"10-4\"], \"y\": [0.0, null, null], \"type\": \"scatter\", \"uid\": \"bd51b924-e18a-11e8-8ddb-a41f72875c19\"}, {\"line\": {\"dash\": \"solid\"}, \"name\": \"\\u63d0\\u4ea4\\u9ad8\\u8d28\\u91cf\\u62a5\\u544a\\u6570(\\u9648\\u9e4f\\u71d5)\", \"x\": [\"10-2\", \"10-3\", \"10-4\"], \"y\": [null, 0.0, 0.0], \"type\": \"scatter\", \"uid\": \"bd51b925-e18a-11e8-8ddb-a41f72875c19\"}, {\"line\": {\"dash\": \"dot\"}, \"name\": \"\\u63d0\\u4ea4\\u9ad8\\u8d28\\u91cf\\u62a5\\u544a\\u6570(\\u8f66\\u5929\\u680b)\", \"x\": [\"10-2\", \"10-3\", \"10-4\"], \"y\": [null, null, 1.0], \"type\": \"scatter\", \"uid\": \"bd51b926-e18a-11e8-8ddb-a41f72875c19\"}, {\"line\": {\"dash\": \"dash\"}, \"name\": \"\\u63d0\\u4ea4\\u9ad8\\u8d28\\u91cf\\u62a5\\u544a\\u6570(\\u674e\\u534e\\u4e91)\", \"x\": [\"10-2\", \"10-3\", \"10-4\"], \"y\": [null, null, 0.0], \"type\": \"scatter\", \"uid\": \"bd51b927-e18a-11e8-8ddb-a41f72875c19\"}], {\"title\": \"\\u5e94\\u4ea4\\u9ad8\\u8d28\\u91cf\\u62a5\\u544a\\u6570&\\u63d0\\u4ea4\\u9ad8\\u8d28\\u91cf\\u62a5\\u544a\\u6570\\u5468\\u8d8b\\u52bf\\u56fe\", \"xaxis\": {\"mirror\": \"all\", \"nticks\": 20, \"showgrid\": true, \"showline\": true, \"title\": \"\\u5468\", \"type\": \"category\", \"zeroline\": true}, \"yaxis\": {\"mirror\": \"all\", \"nticks\": 20, \"showgrid\": true, \"showline\": true, \"title\": \"\\u5e94\\u4ea4\\u9ad8\\u8d28\\u91cf\\u62a5\\u544a\\u6570&\\u63d0\\u4ea4\\u9ad8\\u8d28\\u91cf\\u62a5\\u544a\\u6570\", \"zeroline\": true}}, {\"showLink\": true, \"linkText\": \"Export to plot.ly\"})});</script>"
      ]
     },
     "metadata": {},
     "output_type": "display_data"
    }
   ],
   "source": [
    "ss=myModule.format(all_dict ,\"日期\" ,['应交高质量报告数', '提交高质量报告数'])\n",
    "ss.add_group('负责人')\n",
    "tt = myModule.myPlot(ss.groupby('sum'))\n",
    "tt.plot('line')"
   ]
  },
  {
   "cell_type": "markdown",
   "metadata": {},
   "source": [
    "### 个人甘特图情况"
   ]
  },
  {
   "cell_type": "markdown",
   "metadata": {},
   "source": [
    "#### 个人延期项目数和暂停项目数"
   ]
  },
  {
   "cell_type": "code",
   "execution_count": 25,
   "metadata": {
    "collapsed": false
   },
   "outputs": [
    {
     "data": {
      "application/vnd.plotly.v1+json": {
       "data": [
        {
         "line": {
          "dash": "solid"
         },
         "name": "暂停项目数(林文文)",
         "type": "scatter",
         "uid": "be89fa70-e18a-11e8-8ddb-a41f72875c19",
         "x": [
          "10-2",
          "10-3",
          "10-4"
         ],
         "y": [
          null,
          null,
          0
         ]
        },
        {
         "line": {
          "dash": "dot"
         },
         "name": "暂停项目数(屈昂)",
         "type": "scatter",
         "uid": "be89fa71-e18a-11e8-8ddb-a41f72875c19",
         "x": [
          "10-2",
          "10-3",
          "10-4"
         ],
         "y": [
          0,
          null,
          0
         ]
        },
        {
         "line": {
          "dash": "dash"
         },
         "name": "暂停项目数(姚盟成)",
         "type": "scatter",
         "uid": "be89fa72-e18a-11e8-8ddb-a41f72875c19",
         "x": [
          "10-2",
          "10-3",
          "10-4"
         ],
         "y": [
          0,
          0,
          0
         ]
        },
        {
         "line": {
          "dash": "longdash"
         },
         "name": "暂停项目数(冷雪)",
         "type": "scatter",
         "uid": "be89fa73-e18a-11e8-8ddb-a41f72875c19",
         "x": [
          "10-2",
          "10-3",
          "10-4"
         ],
         "y": [
          0,
          null,
          0
         ]
        },
        {
         "line": {
          "dash": "dashdot"
         },
         "name": "暂停项目数(韩少怀)",
         "type": "scatter",
         "uid": "be89fa74-e18a-11e8-8ddb-a41f72875c19",
         "x": [
          "10-2",
          "10-3",
          "10-4"
         ],
         "y": [
          0,
          0,
          0
         ]
        },
        {
         "line": {
          "dash": "longdashdot"
         },
         "name": "暂停项目数(李庆原)",
         "type": "scatter",
         "uid": "be89fa75-e18a-11e8-8ddb-a41f72875c19",
         "x": [
          "10-2",
          "10-3",
          "10-4"
         ],
         "y": [
          0,
          0,
          0
         ]
        },
        {
         "line": {
          "dash": "solid"
         },
         "name": "暂停项目数(刘三阳)",
         "type": "scatter",
         "uid": "be89fa76-e18a-11e8-8ddb-a41f72875c19",
         "x": [
          "10-2",
          "10-3",
          "10-4"
         ],
         "y": [
          null,
          0,
          null
         ]
        },
        {
         "line": {
          "dash": "dot"
         },
         "name": "暂停项目数(沈恩惠)",
         "type": "scatter",
         "uid": "be89fa77-e18a-11e8-8ddb-a41f72875c19",
         "x": [
          "10-2",
          "10-3",
          "10-4"
         ],
         "y": [
          null,
          null,
          0
         ]
        },
        {
         "line": {
          "dash": "dash"
         },
         "name": "暂停项目数(昶吉阳)",
         "type": "scatter",
         "uid": "be89fa78-e18a-11e8-8ddb-a41f72875c19",
         "x": [
          "10-2",
          "10-3",
          "10-4"
         ],
         "y": [
          null,
          0,
          0
         ]
        },
        {
         "line": {
          "dash": "longdash"
         },
         "name": "暂停项目数(杨伟飞)",
         "type": "scatter",
         "uid": "be89fa79-e18a-11e8-8ddb-a41f72875c19",
         "x": [
          "10-2",
          "10-3",
          "10-4"
         ],
         "y": [
          0,
          0,
          0
         ]
        },
        {
         "line": {
          "dash": "dashdot"
         },
         "name": "暂停项目数(王红)",
         "type": "scatter",
         "uid": "be89fa7a-e18a-11e8-8ddb-a41f72875c19",
         "x": [
          "10-2",
          "10-3",
          "10-4"
         ],
         "y": [
          null,
          null,
          0
         ]
        },
        {
         "line": {
          "dash": "longdashdot"
         },
         "name": "暂停项目数(于勇一)",
         "type": "scatter",
         "uid": "be89fa7b-e18a-11e8-8ddb-a41f72875c19",
         "x": [
          "10-2",
          "10-3",
          "10-4"
         ],
         "y": [
          0,
          0,
          0
         ]
        },
        {
         "line": {
          "dash": "solid"
         },
         "name": "暂停项目数(于慧)",
         "type": "scatter",
         "uid": "be89fa7c-e18a-11e8-8ddb-a41f72875c19",
         "x": [
          "10-2",
          "10-3",
          "10-4"
         ],
         "y": [
          0,
          0,
          0
         ]
        },
        {
         "line": {
          "dash": "dot"
         },
         "name": "暂停项目数(谢德健)",
         "type": "scatter",
         "uid": "be89fa7d-e18a-11e8-8ddb-a41f72875c19",
         "x": [
          "10-2",
          "10-3",
          "10-4"
         ],
         "y": [
          0,
          0,
          0
         ]
        },
        {
         "line": {
          "dash": "dash"
         },
         "name": "暂停项目数(范旭宁)",
         "type": "scatter",
         "uid": "be89fa7e-e18a-11e8-8ddb-a41f72875c19",
         "x": [
          "10-2",
          "10-3",
          "10-4"
         ],
         "y": [
          0,
          0,
          0
         ]
        },
        {
         "line": {
          "dash": "longdash"
         },
         "name": "暂停项目数(占伟)",
         "type": "scatter",
         "uid": "be89fa7f-e18a-11e8-8ddb-a41f72875c19",
         "x": [
          "10-2",
          "10-3",
          "10-4"
         ],
         "y": [
          0,
          0,
          0
         ]
        },
        {
         "line": {
          "dash": "dashdot"
         },
         "name": "暂停项目数(张悦)",
         "type": "scatter",
         "uid": "be89fa80-e18a-11e8-8ddb-a41f72875c19",
         "x": [
          "10-2",
          "10-3",
          "10-4"
         ],
         "y": [
          null,
          null,
          0
         ]
        },
        {
         "line": {
          "dash": "longdashdot"
         },
         "name": "暂停项目数(张守伟)",
         "type": "scatter",
         "uid": "be89fa81-e18a-11e8-8ddb-a41f72875c19",
         "x": [
          "10-2",
          "10-3",
          "10-4"
         ],
         "y": [
          0,
          0,
          0
         ]
        },
        {
         "line": {
          "dash": "solid"
         },
         "name": "暂停项目数(路慧萍)",
         "type": "scatter",
         "uid": "be89fa82-e18a-11e8-8ddb-a41f72875c19",
         "x": [
          "10-2",
          "10-3",
          "10-4"
         ],
         "y": [
          0,
          0,
          0
         ]
        },
        {
         "line": {
          "dash": "dot"
         },
         "name": "暂停项目数(冯敬岩)",
         "type": "scatter",
         "uid": "be89fa83-e18a-11e8-8ddb-a41f72875c19",
         "x": [
          "10-2",
          "10-3",
          "10-4"
         ],
         "y": [
          null,
          null,
          0
         ]
        },
        {
         "line": {
          "dash": "dash"
         },
         "name": "暂停项目数(马潇)",
         "type": "scatter",
         "uid": "be89fa84-e18a-11e8-8ddb-a41f72875c19",
         "x": [
          "10-2",
          "10-3",
          "10-4"
         ],
         "y": [
          0,
          0,
          0
         ]
        },
        {
         "line": {
          "dash": "longdash"
         },
         "name": "暂停项目数(孟昊)",
         "type": "scatter",
         "uid": "be89fa85-e18a-11e8-8ddb-a41f72875c19",
         "x": [
          "10-2",
          "10-3",
          "10-4"
         ],
         "y": [
          0,
          0,
          0
         ]
        },
        {
         "line": {
          "dash": "dashdot"
         },
         "name": "暂停项目数(涂成芳)",
         "type": "scatter",
         "uid": "be89fa86-e18a-11e8-8ddb-a41f72875c19",
         "x": [
          "10-2",
          "10-3",
          "10-4"
         ],
         "y": [
          null,
          null,
          0
         ]
        },
        {
         "line": {
          "dash": "longdashdot"
         },
         "name": "暂停项目数(赵玥)",
         "type": "scatter",
         "uid": "be89fa87-e18a-11e8-8ddb-a41f72875c19",
         "x": [
          "10-2",
          "10-3",
          "10-4"
         ],
         "y": [
          0,
          0,
          0
         ]
        },
        {
         "line": {
          "dash": "solid"
         },
         "name": "暂停项目数(封彦杰)",
         "type": "scatter",
         "uid": "be89fa88-e18a-11e8-8ddb-a41f72875c19",
         "x": [
          "10-2",
          "10-3",
          "10-4"
         ],
         "y": [
          0,
          0,
          0
         ]
        },
        {
         "line": {
          "dash": "dot"
         },
         "name": "暂停项目数(周杨)",
         "type": "scatter",
         "uid": "be89fa89-e18a-11e8-8ddb-a41f72875c19",
         "x": [
          "10-2",
          "10-3",
          "10-4"
         ],
         "y": [
          0,
          0,
          0
         ]
        },
        {
         "line": {
          "dash": "dash"
         },
         "name": "暂停项目数(刘江)",
         "type": "scatter",
         "uid": "be89fa8a-e18a-11e8-8ddb-a41f72875c19",
         "x": [
          "10-2",
          "10-3",
          "10-4"
         ],
         "y": [
          0,
          0,
          0
         ]
        },
        {
         "line": {
          "dash": "longdash"
         },
         "name": "暂停项目数(苏彦勋)",
         "type": "scatter",
         "uid": "be89fa8b-e18a-11e8-8ddb-a41f72875c19",
         "x": [
          "10-2",
          "10-3",
          "10-4"
         ],
         "y": [
          null,
          0,
          0
         ]
        },
        {
         "line": {
          "dash": "dashdot"
         },
         "name": "暂停项目数(任雪)",
         "type": "scatter",
         "uid": "be89fa8c-e18a-11e8-8ddb-a41f72875c19",
         "x": [
          "10-2",
          "10-3",
          "10-4"
         ],
         "y": [
          0,
          0,
          0
         ]
        },
        {
         "line": {
          "dash": "longdashdot"
         },
         "name": "暂停项目数(段利强)",
         "type": "scatter",
         "uid": "be89fa8d-e18a-11e8-8ddb-a41f72875c19",
         "x": [
          "10-2",
          "10-3",
          "10-4"
         ],
         "y": [
          0,
          null,
          null
         ]
        },
        {
         "line": {
          "dash": "solid"
         },
         "name": "暂停项目数(陈鹏燕)",
         "type": "scatter",
         "uid": "be89fa8e-e18a-11e8-8ddb-a41f72875c19",
         "x": [
          "10-2",
          "10-3",
          "10-4"
         ],
         "y": [
          null,
          0,
          0
         ]
        },
        {
         "line": {
          "dash": "dot"
         },
         "name": "暂停项目数(车天栋)",
         "type": "scatter",
         "uid": "be89fa8f-e18a-11e8-8ddb-a41f72875c19",
         "x": [
          "10-2",
          "10-3",
          "10-4"
         ],
         "y": [
          null,
          null,
          0
         ]
        },
        {
         "line": {
          "dash": "dash"
         },
         "name": "暂停项目数(李华云)",
         "type": "scatter",
         "uid": "be89fa90-e18a-11e8-8ddb-a41f72875c19",
         "x": [
          "10-2",
          "10-3",
          "10-4"
         ],
         "y": [
          null,
          null,
          0
         ]
        },
        {
         "line": {
          "dash": "solid"
         },
         "name": "延期项目数(林文文)",
         "type": "scatter",
         "uid": "be89fa91-e18a-11e8-8ddb-a41f72875c19",
         "x": [
          "10-2",
          "10-3",
          "10-4"
         ],
         "y": [
          null,
          null,
          0
         ]
        },
        {
         "line": {
          "dash": "dot"
         },
         "name": "延期项目数(屈昂)",
         "type": "scatter",
         "uid": "be89fa92-e18a-11e8-8ddb-a41f72875c19",
         "x": [
          "10-2",
          "10-3",
          "10-4"
         ],
         "y": [
          0,
          null,
          0
         ]
        },
        {
         "line": {
          "dash": "dash"
         },
         "name": "延期项目数(姚盟成)",
         "type": "scatter",
         "uid": "be89fa93-e18a-11e8-8ddb-a41f72875c19",
         "x": [
          "10-2",
          "10-3",
          "10-4"
         ],
         "y": [
          0,
          0,
          0
         ]
        },
        {
         "line": {
          "dash": "longdash"
         },
         "name": "延期项目数(冷雪)",
         "type": "scatter",
         "uid": "be89fa94-e18a-11e8-8ddb-a41f72875c19",
         "x": [
          "10-2",
          "10-3",
          "10-4"
         ],
         "y": [
          0,
          null,
          0
         ]
        },
        {
         "line": {
          "dash": "dashdot"
         },
         "name": "延期项目数(韩少怀)",
         "type": "scatter",
         "uid": "be89fa95-e18a-11e8-8ddb-a41f72875c19",
         "x": [
          "10-2",
          "10-3",
          "10-4"
         ],
         "y": [
          0,
          0,
          0
         ]
        },
        {
         "line": {
          "dash": "longdashdot"
         },
         "name": "延期项目数(李庆原)",
         "type": "scatter",
         "uid": "be89fa96-e18a-11e8-8ddb-a41f72875c19",
         "x": [
          "10-2",
          "10-3",
          "10-4"
         ],
         "y": [
          0,
          1,
          0
         ]
        },
        {
         "line": {
          "dash": "solid"
         },
         "name": "延期项目数(刘三阳)",
         "type": "scatter",
         "uid": "be89fa97-e18a-11e8-8ddb-a41f72875c19",
         "x": [
          "10-2",
          "10-3",
          "10-4"
         ],
         "y": [
          null,
          0,
          null
         ]
        },
        {
         "line": {
          "dash": "dot"
         },
         "name": "延期项目数(沈恩惠)",
         "type": "scatter",
         "uid": "be89fa98-e18a-11e8-8ddb-a41f72875c19",
         "x": [
          "10-2",
          "10-3",
          "10-4"
         ],
         "y": [
          null,
          null,
          0
         ]
        },
        {
         "line": {
          "dash": "dash"
         },
         "name": "延期项目数(昶吉阳)",
         "type": "scatter",
         "uid": "be89fa99-e18a-11e8-8ddb-a41f72875c19",
         "x": [
          "10-2",
          "10-3",
          "10-4"
         ],
         "y": [
          null,
          0,
          0
         ]
        },
        {
         "line": {
          "dash": "longdash"
         },
         "name": "延期项目数(杨伟飞)",
         "type": "scatter",
         "uid": "be89fa9a-e18a-11e8-8ddb-a41f72875c19",
         "x": [
          "10-2",
          "10-3",
          "10-4"
         ],
         "y": [
          0,
          0,
          1
         ]
        },
        {
         "line": {
          "dash": "dashdot"
         },
         "name": "延期项目数(王红)",
         "type": "scatter",
         "uid": "be89fa9b-e18a-11e8-8ddb-a41f72875c19",
         "x": [
          "10-2",
          "10-3",
          "10-4"
         ],
         "y": [
          null,
          null,
          0
         ]
        },
        {
         "line": {
          "dash": "longdashdot"
         },
         "name": "延期项目数(于勇一)",
         "type": "scatter",
         "uid": "be89fa9c-e18a-11e8-8ddb-a41f72875c19",
         "x": [
          "10-2",
          "10-3",
          "10-4"
         ],
         "y": [
          0,
          0,
          0
         ]
        },
        {
         "line": {
          "dash": "solid"
         },
         "name": "延期项目数(于慧)",
         "type": "scatter",
         "uid": "be89fa9d-e18a-11e8-8ddb-a41f72875c19",
         "x": [
          "10-2",
          "10-3",
          "10-4"
         ],
         "y": [
          0,
          0,
          0
         ]
        },
        {
         "line": {
          "dash": "dot"
         },
         "name": "延期项目数(谢德健)",
         "type": "scatter",
         "uid": "be89fa9e-e18a-11e8-8ddb-a41f72875c19",
         "x": [
          "10-2",
          "10-3",
          "10-4"
         ],
         "y": [
          0,
          0,
          0
         ]
        },
        {
         "line": {
          "dash": "dash"
         },
         "name": "延期项目数(范旭宁)",
         "type": "scatter",
         "uid": "be89fa9f-e18a-11e8-8ddb-a41f72875c19",
         "x": [
          "10-2",
          "10-3",
          "10-4"
         ],
         "y": [
          0,
          0,
          0
         ]
        },
        {
         "line": {
          "dash": "longdash"
         },
         "name": "延期项目数(占伟)",
         "type": "scatter",
         "uid": "be89faa0-e18a-11e8-8ddb-a41f72875c19",
         "x": [
          "10-2",
          "10-3",
          "10-4"
         ],
         "y": [
          0,
          0,
          3
         ]
        },
        {
         "line": {
          "dash": "dashdot"
         },
         "name": "延期项目数(张悦)",
         "type": "scatter",
         "uid": "be89faa1-e18a-11e8-8ddb-a41f72875c19",
         "x": [
          "10-2",
          "10-3",
          "10-4"
         ],
         "y": [
          null,
          null,
          1
         ]
        },
        {
         "line": {
          "dash": "longdashdot"
         },
         "name": "延期项目数(张守伟)",
         "type": "scatter",
         "uid": "be89faa2-e18a-11e8-8ddb-a41f72875c19",
         "x": [
          "10-2",
          "10-3",
          "10-4"
         ],
         "y": [
          0,
          0,
          0
         ]
        },
        {
         "line": {
          "dash": "solid"
         },
         "name": "延期项目数(路慧萍)",
         "type": "scatter",
         "uid": "be89faa3-e18a-11e8-8ddb-a41f72875c19",
         "x": [
          "10-2",
          "10-3",
          "10-4"
         ],
         "y": [
          0,
          0,
          0
         ]
        },
        {
         "line": {
          "dash": "dot"
         },
         "name": "延期项目数(冯敬岩)",
         "type": "scatter",
         "uid": "be89faa4-e18a-11e8-8ddb-a41f72875c19",
         "x": [
          "10-2",
          "10-3",
          "10-4"
         ],
         "y": [
          null,
          null,
          0
         ]
        },
        {
         "line": {
          "dash": "dash"
         },
         "name": "延期项目数(马潇)",
         "type": "scatter",
         "uid": "be89faa5-e18a-11e8-8ddb-a41f72875c19",
         "x": [
          "10-2",
          "10-3",
          "10-4"
         ],
         "y": [
          0,
          0,
          0
         ]
        },
        {
         "line": {
          "dash": "longdash"
         },
         "name": "延期项目数(孟昊)",
         "type": "scatter",
         "uid": "be89faa6-e18a-11e8-8ddb-a41f72875c19",
         "x": [
          "10-2",
          "10-3",
          "10-4"
         ],
         "y": [
          0,
          0,
          0
         ]
        },
        {
         "line": {
          "dash": "dashdot"
         },
         "name": "延期项目数(涂成芳)",
         "type": "scatter",
         "uid": "be89faa7-e18a-11e8-8ddb-a41f72875c19",
         "x": [
          "10-2",
          "10-3",
          "10-4"
         ],
         "y": [
          null,
          null,
          0
         ]
        },
        {
         "line": {
          "dash": "longdashdot"
         },
         "name": "延期项目数(赵玥)",
         "type": "scatter",
         "uid": "be89faa8-e18a-11e8-8ddb-a41f72875c19",
         "x": [
          "10-2",
          "10-3",
          "10-4"
         ],
         "y": [
          0,
          0,
          0
         ]
        },
        {
         "line": {
          "dash": "solid"
         },
         "name": "延期项目数(封彦杰)",
         "type": "scatter",
         "uid": "be89faa9-e18a-11e8-8ddb-a41f72875c19",
         "x": [
          "10-2",
          "10-3",
          "10-4"
         ],
         "y": [
          0,
          0,
          1
         ]
        },
        {
         "line": {
          "dash": "dot"
         },
         "name": "延期项目数(周杨)",
         "type": "scatter",
         "uid": "be89faaa-e18a-11e8-8ddb-a41f72875c19",
         "x": [
          "10-2",
          "10-3",
          "10-4"
         ],
         "y": [
          0,
          0,
          0
         ]
        },
        {
         "line": {
          "dash": "dash"
         },
         "name": "延期项目数(刘江)",
         "type": "scatter",
         "uid": "be89faab-e18a-11e8-8ddb-a41f72875c19",
         "x": [
          "10-2",
          "10-3",
          "10-4"
         ],
         "y": [
          2,
          2,
          2
         ]
        },
        {
         "line": {
          "dash": "longdash"
         },
         "name": "延期项目数(苏彦勋)",
         "type": "scatter",
         "uid": "be89faac-e18a-11e8-8ddb-a41f72875c19",
         "x": [
          "10-2",
          "10-3",
          "10-4"
         ],
         "y": [
          null,
          0,
          0
         ]
        },
        {
         "line": {
          "dash": "dashdot"
         },
         "name": "延期项目数(任雪)",
         "type": "scatter",
         "uid": "be89faad-e18a-11e8-8ddb-a41f72875c19",
         "x": [
          "10-2",
          "10-3",
          "10-4"
         ],
         "y": [
          0,
          1,
          2
         ]
        },
        {
         "line": {
          "dash": "longdashdot"
         },
         "name": "延期项目数(段利强)",
         "type": "scatter",
         "uid": "be89faae-e18a-11e8-8ddb-a41f72875c19",
         "x": [
          "10-2",
          "10-3",
          "10-4"
         ],
         "y": [
          0,
          null,
          null
         ]
        },
        {
         "line": {
          "dash": "solid"
         },
         "name": "延期项目数(陈鹏燕)",
         "type": "scatter",
         "uid": "be89faaf-e18a-11e8-8ddb-a41f72875c19",
         "x": [
          "10-2",
          "10-3",
          "10-4"
         ],
         "y": [
          null,
          1,
          1
         ]
        },
        {
         "line": {
          "dash": "dot"
         },
         "name": "延期项目数(车天栋)",
         "type": "scatter",
         "uid": "be89fab0-e18a-11e8-8ddb-a41f72875c19",
         "x": [
          "10-2",
          "10-3",
          "10-4"
         ],
         "y": [
          null,
          null,
          0
         ]
        },
        {
         "line": {
          "dash": "dash"
         },
         "name": "延期项目数(李华云)",
         "type": "scatter",
         "uid": "be89fab1-e18a-11e8-8ddb-a41f72875c19",
         "x": [
          "10-2",
          "10-3",
          "10-4"
         ],
         "y": [
          null,
          null,
          2
         ]
        }
       ],
       "layout": {
        "title": "暂停项目数&延期项目数周趋势图",
        "xaxis": {
         "mirror": "all",
         "nticks": 20,
         "showgrid": true,
         "showline": true,
         "title": "周",
         "type": "category",
         "zeroline": true
        },
        "yaxis": {
         "mirror": "all",
         "nticks": 20,
         "showgrid": true,
         "showline": true,
         "title": "暂停项目数&延期项目数",
         "zeroline": true
        }
       }
      },
      "text/html": [
       "<div id=\"a27e2c8b-a0c5-4853-817a-c7dbee47a7b2\" style=\"height: 525px; width: 100%;\" class=\"plotly-graph-div\"></div><script type=\"text/javascript\">require([\"plotly\"], function(Plotly) { window.PLOTLYENV=window.PLOTLYENV || {};window.PLOTLYENV.BASE_URL=\"https://plot.ly\";Plotly.newPlot(\"a27e2c8b-a0c5-4853-817a-c7dbee47a7b2\", [{\"line\": {\"dash\": \"solid\"}, \"name\": \"\\u6682\\u505c\\u9879\\u76ee\\u6570(\\u6797\\u6587\\u6587)\", \"x\": [\"10-2\", \"10-3\", \"10-4\"], \"y\": [null, null, 0.0], \"type\": \"scatter\", \"uid\": \"be89fa70-e18a-11e8-8ddb-a41f72875c19\"}, {\"line\": {\"dash\": \"dot\"}, \"name\": \"\\u6682\\u505c\\u9879\\u76ee\\u6570(\\u5c48\\u6602)\", \"x\": [\"10-2\", \"10-3\", \"10-4\"], \"y\": [0.0, null, 0.0], \"type\": \"scatter\", \"uid\": \"be89fa71-e18a-11e8-8ddb-a41f72875c19\"}, {\"line\": {\"dash\": \"dash\"}, \"name\": \"\\u6682\\u505c\\u9879\\u76ee\\u6570(\\u59da\\u76df\\u6210)\", \"x\": [\"10-2\", \"10-3\", \"10-4\"], \"y\": [0.0, 0.0, 0.0], \"type\": \"scatter\", \"uid\": \"be89fa72-e18a-11e8-8ddb-a41f72875c19\"}, {\"line\": {\"dash\": \"longdash\"}, \"name\": \"\\u6682\\u505c\\u9879\\u76ee\\u6570(\\u51b7\\u96ea)\", \"x\": [\"10-2\", \"10-3\", \"10-4\"], \"y\": [0.0, null, 0.0], \"type\": \"scatter\", \"uid\": \"be89fa73-e18a-11e8-8ddb-a41f72875c19\"}, {\"line\": {\"dash\": \"dashdot\"}, \"name\": \"\\u6682\\u505c\\u9879\\u76ee\\u6570(\\u97e9\\u5c11\\u6000)\", \"x\": [\"10-2\", \"10-3\", \"10-4\"], \"y\": [0.0, 0.0, 0.0], \"type\": \"scatter\", \"uid\": \"be89fa74-e18a-11e8-8ddb-a41f72875c19\"}, {\"line\": {\"dash\": \"longdashdot\"}, \"name\": \"\\u6682\\u505c\\u9879\\u76ee\\u6570(\\u674e\\u5e86\\u539f)\", \"x\": [\"10-2\", \"10-3\", \"10-4\"], \"y\": [0.0, 0.0, 0.0], \"type\": \"scatter\", \"uid\": \"be89fa75-e18a-11e8-8ddb-a41f72875c19\"}, {\"line\": {\"dash\": \"solid\"}, \"name\": \"\\u6682\\u505c\\u9879\\u76ee\\u6570(\\u5218\\u4e09\\u9633)\", \"x\": [\"10-2\", \"10-3\", \"10-4\"], \"y\": [null, 0.0, null], \"type\": \"scatter\", \"uid\": \"be89fa76-e18a-11e8-8ddb-a41f72875c19\"}, {\"line\": {\"dash\": \"dot\"}, \"name\": \"\\u6682\\u505c\\u9879\\u76ee\\u6570(\\u6c88\\u6069\\u60e0)\", \"x\": [\"10-2\", \"10-3\", \"10-4\"], \"y\": [null, null, 0.0], \"type\": \"scatter\", \"uid\": \"be89fa77-e18a-11e8-8ddb-a41f72875c19\"}, {\"line\": {\"dash\": \"dash\"}, \"name\": \"\\u6682\\u505c\\u9879\\u76ee\\u6570(\\u6636\\u5409\\u9633)\", \"x\": [\"10-2\", \"10-3\", \"10-4\"], \"y\": [null, 0.0, 0.0], \"type\": \"scatter\", \"uid\": \"be89fa78-e18a-11e8-8ddb-a41f72875c19\"}, {\"line\": {\"dash\": \"longdash\"}, \"name\": \"\\u6682\\u505c\\u9879\\u76ee\\u6570(\\u6768\\u4f1f\\u98de)\", \"x\": [\"10-2\", \"10-3\", \"10-4\"], \"y\": [0.0, 0.0, 0.0], \"type\": \"scatter\", \"uid\": \"be89fa79-e18a-11e8-8ddb-a41f72875c19\"}, {\"line\": {\"dash\": \"dashdot\"}, \"name\": \"\\u6682\\u505c\\u9879\\u76ee\\u6570(\\u738b\\u7ea2)\", \"x\": [\"10-2\", \"10-3\", \"10-4\"], \"y\": [null, null, 0.0], \"type\": \"scatter\", \"uid\": \"be89fa7a-e18a-11e8-8ddb-a41f72875c19\"}, {\"line\": {\"dash\": \"longdashdot\"}, \"name\": \"\\u6682\\u505c\\u9879\\u76ee\\u6570(\\u4e8e\\u52c7\\u4e00)\", \"x\": [\"10-2\", \"10-3\", \"10-4\"], \"y\": [0.0, 0.0, 0.0], \"type\": \"scatter\", \"uid\": \"be89fa7b-e18a-11e8-8ddb-a41f72875c19\"}, {\"line\": {\"dash\": \"solid\"}, \"name\": \"\\u6682\\u505c\\u9879\\u76ee\\u6570(\\u4e8e\\u6167)\", \"x\": [\"10-2\", \"10-3\", \"10-4\"], \"y\": [0.0, 0.0, 0.0], \"type\": \"scatter\", \"uid\": \"be89fa7c-e18a-11e8-8ddb-a41f72875c19\"}, {\"line\": {\"dash\": \"dot\"}, \"name\": \"\\u6682\\u505c\\u9879\\u76ee\\u6570(\\u8c22\\u5fb7\\u5065)\", \"x\": [\"10-2\", \"10-3\", \"10-4\"], \"y\": [0.0, 0.0, 0.0], \"type\": \"scatter\", \"uid\": \"be89fa7d-e18a-11e8-8ddb-a41f72875c19\"}, {\"line\": {\"dash\": \"dash\"}, \"name\": \"\\u6682\\u505c\\u9879\\u76ee\\u6570(\\u8303\\u65ed\\u5b81)\", \"x\": [\"10-2\", \"10-3\", \"10-4\"], \"y\": [0.0, 0.0, 0.0], \"type\": \"scatter\", \"uid\": \"be89fa7e-e18a-11e8-8ddb-a41f72875c19\"}, {\"line\": {\"dash\": \"longdash\"}, \"name\": \"\\u6682\\u505c\\u9879\\u76ee\\u6570(\\u5360\\u4f1f)\", \"x\": [\"10-2\", \"10-3\", \"10-4\"], \"y\": [0.0, 0.0, 0.0], \"type\": \"scatter\", \"uid\": \"be89fa7f-e18a-11e8-8ddb-a41f72875c19\"}, {\"line\": {\"dash\": \"dashdot\"}, \"name\": \"\\u6682\\u505c\\u9879\\u76ee\\u6570(\\u5f20\\u60a6)\", \"x\": [\"10-2\", \"10-3\", \"10-4\"], \"y\": [null, null, 0.0], \"type\": \"scatter\", \"uid\": \"be89fa80-e18a-11e8-8ddb-a41f72875c19\"}, {\"line\": {\"dash\": \"longdashdot\"}, \"name\": \"\\u6682\\u505c\\u9879\\u76ee\\u6570(\\u5f20\\u5b88\\u4f1f)\", \"x\": [\"10-2\", \"10-3\", \"10-4\"], \"y\": [0.0, 0.0, 0.0], \"type\": \"scatter\", \"uid\": \"be89fa81-e18a-11e8-8ddb-a41f72875c19\"}, {\"line\": {\"dash\": \"solid\"}, \"name\": \"\\u6682\\u505c\\u9879\\u76ee\\u6570(\\u8def\\u6167\\u840d)\", \"x\": [\"10-2\", \"10-3\", \"10-4\"], \"y\": [0.0, 0.0, 0.0], \"type\": \"scatter\", \"uid\": \"be89fa82-e18a-11e8-8ddb-a41f72875c19\"}, {\"line\": {\"dash\": \"dot\"}, \"name\": \"\\u6682\\u505c\\u9879\\u76ee\\u6570(\\u51af\\u656c\\u5ca9)\", \"x\": [\"10-2\", \"10-3\", \"10-4\"], \"y\": [null, null, 0.0], \"type\": \"scatter\", \"uid\": \"be89fa83-e18a-11e8-8ddb-a41f72875c19\"}, {\"line\": {\"dash\": \"dash\"}, \"name\": \"\\u6682\\u505c\\u9879\\u76ee\\u6570(\\u9a6c\\u6f47)\", \"x\": [\"10-2\", \"10-3\", \"10-4\"], \"y\": [0.0, 0.0, 0.0], \"type\": \"scatter\", \"uid\": \"be89fa84-e18a-11e8-8ddb-a41f72875c19\"}, {\"line\": {\"dash\": \"longdash\"}, \"name\": \"\\u6682\\u505c\\u9879\\u76ee\\u6570(\\u5b5f\\u660a)\", \"x\": [\"10-2\", \"10-3\", \"10-4\"], \"y\": [0.0, 0.0, 0.0], \"type\": \"scatter\", \"uid\": \"be89fa85-e18a-11e8-8ddb-a41f72875c19\"}, {\"line\": {\"dash\": \"dashdot\"}, \"name\": \"\\u6682\\u505c\\u9879\\u76ee\\u6570(\\u6d82\\u6210\\u82b3)\", \"x\": [\"10-2\", \"10-3\", \"10-4\"], \"y\": [null, null, 0.0], \"type\": \"scatter\", \"uid\": \"be89fa86-e18a-11e8-8ddb-a41f72875c19\"}, {\"line\": {\"dash\": \"longdashdot\"}, \"name\": \"\\u6682\\u505c\\u9879\\u76ee\\u6570(\\u8d75\\u73a5)\", \"x\": [\"10-2\", \"10-3\", \"10-4\"], \"y\": [0.0, 0.0, 0.0], \"type\": \"scatter\", \"uid\": \"be89fa87-e18a-11e8-8ddb-a41f72875c19\"}, {\"line\": {\"dash\": \"solid\"}, \"name\": \"\\u6682\\u505c\\u9879\\u76ee\\u6570(\\u5c01\\u5f66\\u6770)\", \"x\": [\"10-2\", \"10-3\", \"10-4\"], \"y\": [0.0, 0.0, 0.0], \"type\": \"scatter\", \"uid\": \"be89fa88-e18a-11e8-8ddb-a41f72875c19\"}, {\"line\": {\"dash\": \"dot\"}, \"name\": \"\\u6682\\u505c\\u9879\\u76ee\\u6570(\\u5468\\u6768)\", \"x\": [\"10-2\", \"10-3\", \"10-4\"], \"y\": [0.0, 0.0, 0.0], \"type\": \"scatter\", \"uid\": \"be89fa89-e18a-11e8-8ddb-a41f72875c19\"}, {\"line\": {\"dash\": \"dash\"}, \"name\": \"\\u6682\\u505c\\u9879\\u76ee\\u6570(\\u5218\\u6c5f)\", \"x\": [\"10-2\", \"10-3\", \"10-4\"], \"y\": [0.0, 0.0, 0.0], \"type\": \"scatter\", \"uid\": \"be89fa8a-e18a-11e8-8ddb-a41f72875c19\"}, {\"line\": {\"dash\": \"longdash\"}, \"name\": \"\\u6682\\u505c\\u9879\\u76ee\\u6570(\\u82cf\\u5f66\\u52cb)\", \"x\": [\"10-2\", \"10-3\", \"10-4\"], \"y\": [null, 0.0, 0.0], \"type\": \"scatter\", \"uid\": \"be89fa8b-e18a-11e8-8ddb-a41f72875c19\"}, {\"line\": {\"dash\": \"dashdot\"}, \"name\": \"\\u6682\\u505c\\u9879\\u76ee\\u6570(\\u4efb\\u96ea)\", \"x\": [\"10-2\", \"10-3\", \"10-4\"], \"y\": [0.0, 0.0, 0.0], \"type\": \"scatter\", \"uid\": \"be89fa8c-e18a-11e8-8ddb-a41f72875c19\"}, {\"line\": {\"dash\": \"longdashdot\"}, \"name\": \"\\u6682\\u505c\\u9879\\u76ee\\u6570(\\u6bb5\\u5229\\u5f3a)\", \"x\": [\"10-2\", \"10-3\", \"10-4\"], \"y\": [0.0, null, null], \"type\": \"scatter\", \"uid\": \"be89fa8d-e18a-11e8-8ddb-a41f72875c19\"}, {\"line\": {\"dash\": \"solid\"}, \"name\": \"\\u6682\\u505c\\u9879\\u76ee\\u6570(\\u9648\\u9e4f\\u71d5)\", \"x\": [\"10-2\", \"10-3\", \"10-4\"], \"y\": [null, 0.0, 0.0], \"type\": \"scatter\", \"uid\": \"be89fa8e-e18a-11e8-8ddb-a41f72875c19\"}, {\"line\": {\"dash\": \"dot\"}, \"name\": \"\\u6682\\u505c\\u9879\\u76ee\\u6570(\\u8f66\\u5929\\u680b)\", \"x\": [\"10-2\", \"10-3\", \"10-4\"], \"y\": [null, null, 0.0], \"type\": \"scatter\", \"uid\": \"be89fa8f-e18a-11e8-8ddb-a41f72875c19\"}, {\"line\": {\"dash\": \"dash\"}, \"name\": \"\\u6682\\u505c\\u9879\\u76ee\\u6570(\\u674e\\u534e\\u4e91)\", \"x\": [\"10-2\", \"10-3\", \"10-4\"], \"y\": [null, null, 0.0], \"type\": \"scatter\", \"uid\": \"be89fa90-e18a-11e8-8ddb-a41f72875c19\"}, {\"line\": {\"dash\": \"solid\"}, \"name\": \"\\u5ef6\\u671f\\u9879\\u76ee\\u6570(\\u6797\\u6587\\u6587)\", \"x\": [\"10-2\", \"10-3\", \"10-4\"], \"y\": [null, null, 0.0], \"type\": \"scatter\", \"uid\": \"be89fa91-e18a-11e8-8ddb-a41f72875c19\"}, {\"line\": {\"dash\": \"dot\"}, \"name\": \"\\u5ef6\\u671f\\u9879\\u76ee\\u6570(\\u5c48\\u6602)\", \"x\": [\"10-2\", \"10-3\", \"10-4\"], \"y\": [0.0, null, 0.0], \"type\": \"scatter\", \"uid\": \"be89fa92-e18a-11e8-8ddb-a41f72875c19\"}, {\"line\": {\"dash\": \"dash\"}, \"name\": \"\\u5ef6\\u671f\\u9879\\u76ee\\u6570(\\u59da\\u76df\\u6210)\", \"x\": [\"10-2\", \"10-3\", \"10-4\"], \"y\": [0.0, 0.0, 0.0], \"type\": \"scatter\", \"uid\": \"be89fa93-e18a-11e8-8ddb-a41f72875c19\"}, {\"line\": {\"dash\": \"longdash\"}, \"name\": \"\\u5ef6\\u671f\\u9879\\u76ee\\u6570(\\u51b7\\u96ea)\", \"x\": [\"10-2\", \"10-3\", \"10-4\"], \"y\": [0.0, null, 0.0], \"type\": \"scatter\", \"uid\": \"be89fa94-e18a-11e8-8ddb-a41f72875c19\"}, {\"line\": {\"dash\": \"dashdot\"}, \"name\": \"\\u5ef6\\u671f\\u9879\\u76ee\\u6570(\\u97e9\\u5c11\\u6000)\", \"x\": [\"10-2\", \"10-3\", \"10-4\"], \"y\": [0.0, 0.0, 0.0], \"type\": \"scatter\", \"uid\": \"be89fa95-e18a-11e8-8ddb-a41f72875c19\"}, {\"line\": {\"dash\": \"longdashdot\"}, \"name\": \"\\u5ef6\\u671f\\u9879\\u76ee\\u6570(\\u674e\\u5e86\\u539f)\", \"x\": [\"10-2\", \"10-3\", \"10-4\"], \"y\": [0.0, 1.0, 0.0], \"type\": \"scatter\", \"uid\": \"be89fa96-e18a-11e8-8ddb-a41f72875c19\"}, {\"line\": {\"dash\": \"solid\"}, \"name\": \"\\u5ef6\\u671f\\u9879\\u76ee\\u6570(\\u5218\\u4e09\\u9633)\", \"x\": [\"10-2\", \"10-3\", \"10-4\"], \"y\": [null, 0.0, null], \"type\": \"scatter\", \"uid\": \"be89fa97-e18a-11e8-8ddb-a41f72875c19\"}, {\"line\": {\"dash\": \"dot\"}, \"name\": \"\\u5ef6\\u671f\\u9879\\u76ee\\u6570(\\u6c88\\u6069\\u60e0)\", \"x\": [\"10-2\", \"10-3\", \"10-4\"], \"y\": [null, null, 0.0], \"type\": \"scatter\", \"uid\": \"be89fa98-e18a-11e8-8ddb-a41f72875c19\"}, {\"line\": {\"dash\": \"dash\"}, \"name\": \"\\u5ef6\\u671f\\u9879\\u76ee\\u6570(\\u6636\\u5409\\u9633)\", \"x\": [\"10-2\", \"10-3\", \"10-4\"], \"y\": [null, 0.0, 0.0], \"type\": \"scatter\", \"uid\": \"be89fa99-e18a-11e8-8ddb-a41f72875c19\"}, {\"line\": {\"dash\": \"longdash\"}, \"name\": \"\\u5ef6\\u671f\\u9879\\u76ee\\u6570(\\u6768\\u4f1f\\u98de)\", \"x\": [\"10-2\", \"10-3\", \"10-4\"], \"y\": [0.0, 0.0, 1.0], \"type\": \"scatter\", \"uid\": \"be89fa9a-e18a-11e8-8ddb-a41f72875c19\"}, {\"line\": {\"dash\": \"dashdot\"}, \"name\": \"\\u5ef6\\u671f\\u9879\\u76ee\\u6570(\\u738b\\u7ea2)\", \"x\": [\"10-2\", \"10-3\", \"10-4\"], \"y\": [null, null, 0.0], \"type\": \"scatter\", \"uid\": \"be89fa9b-e18a-11e8-8ddb-a41f72875c19\"}, {\"line\": {\"dash\": \"longdashdot\"}, \"name\": \"\\u5ef6\\u671f\\u9879\\u76ee\\u6570(\\u4e8e\\u52c7\\u4e00)\", \"x\": [\"10-2\", \"10-3\", \"10-4\"], \"y\": [0.0, 0.0, 0.0], \"type\": \"scatter\", \"uid\": \"be89fa9c-e18a-11e8-8ddb-a41f72875c19\"}, {\"line\": {\"dash\": \"solid\"}, \"name\": \"\\u5ef6\\u671f\\u9879\\u76ee\\u6570(\\u4e8e\\u6167)\", \"x\": [\"10-2\", \"10-3\", \"10-4\"], \"y\": [0.0, 0.0, 0.0], \"type\": \"scatter\", \"uid\": \"be89fa9d-e18a-11e8-8ddb-a41f72875c19\"}, {\"line\": {\"dash\": \"dot\"}, \"name\": \"\\u5ef6\\u671f\\u9879\\u76ee\\u6570(\\u8c22\\u5fb7\\u5065)\", \"x\": [\"10-2\", \"10-3\", \"10-4\"], \"y\": [0.0, 0.0, 0.0], \"type\": \"scatter\", \"uid\": \"be89fa9e-e18a-11e8-8ddb-a41f72875c19\"}, {\"line\": {\"dash\": \"dash\"}, \"name\": \"\\u5ef6\\u671f\\u9879\\u76ee\\u6570(\\u8303\\u65ed\\u5b81)\", \"x\": [\"10-2\", \"10-3\", \"10-4\"], \"y\": [0.0, 0.0, 0.0], \"type\": \"scatter\", \"uid\": \"be89fa9f-e18a-11e8-8ddb-a41f72875c19\"}, {\"line\": {\"dash\": \"longdash\"}, \"name\": \"\\u5ef6\\u671f\\u9879\\u76ee\\u6570(\\u5360\\u4f1f)\", \"x\": [\"10-2\", \"10-3\", \"10-4\"], \"y\": [0.0, 0.0, 3.0], \"type\": \"scatter\", \"uid\": \"be89faa0-e18a-11e8-8ddb-a41f72875c19\"}, {\"line\": {\"dash\": \"dashdot\"}, \"name\": \"\\u5ef6\\u671f\\u9879\\u76ee\\u6570(\\u5f20\\u60a6)\", \"x\": [\"10-2\", \"10-3\", \"10-4\"], \"y\": [null, null, 1.0], \"type\": \"scatter\", \"uid\": \"be89faa1-e18a-11e8-8ddb-a41f72875c19\"}, {\"line\": {\"dash\": \"longdashdot\"}, \"name\": \"\\u5ef6\\u671f\\u9879\\u76ee\\u6570(\\u5f20\\u5b88\\u4f1f)\", \"x\": [\"10-2\", \"10-3\", \"10-4\"], \"y\": [0.0, 0.0, 0.0], \"type\": \"scatter\", \"uid\": \"be89faa2-e18a-11e8-8ddb-a41f72875c19\"}, {\"line\": {\"dash\": \"solid\"}, \"name\": \"\\u5ef6\\u671f\\u9879\\u76ee\\u6570(\\u8def\\u6167\\u840d)\", \"x\": [\"10-2\", \"10-3\", \"10-4\"], \"y\": [0.0, 0.0, 0.0], \"type\": \"scatter\", \"uid\": \"be89faa3-e18a-11e8-8ddb-a41f72875c19\"}, {\"line\": {\"dash\": \"dot\"}, \"name\": \"\\u5ef6\\u671f\\u9879\\u76ee\\u6570(\\u51af\\u656c\\u5ca9)\", \"x\": [\"10-2\", \"10-3\", \"10-4\"], \"y\": [null, null, 0.0], \"type\": \"scatter\", \"uid\": \"be89faa4-e18a-11e8-8ddb-a41f72875c19\"}, {\"line\": {\"dash\": \"dash\"}, \"name\": \"\\u5ef6\\u671f\\u9879\\u76ee\\u6570(\\u9a6c\\u6f47)\", \"x\": [\"10-2\", \"10-3\", \"10-4\"], \"y\": [0.0, 0.0, 0.0], \"type\": \"scatter\", \"uid\": \"be89faa5-e18a-11e8-8ddb-a41f72875c19\"}, {\"line\": {\"dash\": \"longdash\"}, \"name\": \"\\u5ef6\\u671f\\u9879\\u76ee\\u6570(\\u5b5f\\u660a)\", \"x\": [\"10-2\", \"10-3\", \"10-4\"], \"y\": [0.0, 0.0, 0.0], \"type\": \"scatter\", \"uid\": \"be89faa6-e18a-11e8-8ddb-a41f72875c19\"}, {\"line\": {\"dash\": \"dashdot\"}, \"name\": \"\\u5ef6\\u671f\\u9879\\u76ee\\u6570(\\u6d82\\u6210\\u82b3)\", \"x\": [\"10-2\", \"10-3\", \"10-4\"], \"y\": [null, null, 0.0], \"type\": \"scatter\", \"uid\": \"be89faa7-e18a-11e8-8ddb-a41f72875c19\"}, {\"line\": {\"dash\": \"longdashdot\"}, \"name\": \"\\u5ef6\\u671f\\u9879\\u76ee\\u6570(\\u8d75\\u73a5)\", \"x\": [\"10-2\", \"10-3\", \"10-4\"], \"y\": [0.0, 0.0, 0.0], \"type\": \"scatter\", \"uid\": \"be89faa8-e18a-11e8-8ddb-a41f72875c19\"}, {\"line\": {\"dash\": \"solid\"}, \"name\": \"\\u5ef6\\u671f\\u9879\\u76ee\\u6570(\\u5c01\\u5f66\\u6770)\", \"x\": [\"10-2\", \"10-3\", \"10-4\"], \"y\": [0.0, 0.0, 1.0], \"type\": \"scatter\", \"uid\": \"be89faa9-e18a-11e8-8ddb-a41f72875c19\"}, {\"line\": {\"dash\": \"dot\"}, \"name\": \"\\u5ef6\\u671f\\u9879\\u76ee\\u6570(\\u5468\\u6768)\", \"x\": [\"10-2\", \"10-3\", \"10-4\"], \"y\": [0.0, 0.0, 0.0], \"type\": \"scatter\", \"uid\": \"be89faaa-e18a-11e8-8ddb-a41f72875c19\"}, {\"line\": {\"dash\": \"dash\"}, \"name\": \"\\u5ef6\\u671f\\u9879\\u76ee\\u6570(\\u5218\\u6c5f)\", \"x\": [\"10-2\", \"10-3\", \"10-4\"], \"y\": [2.0, 2.0, 2.0], \"type\": \"scatter\", \"uid\": \"be89faab-e18a-11e8-8ddb-a41f72875c19\"}, {\"line\": {\"dash\": \"longdash\"}, \"name\": \"\\u5ef6\\u671f\\u9879\\u76ee\\u6570(\\u82cf\\u5f66\\u52cb)\", \"x\": [\"10-2\", \"10-3\", \"10-4\"], \"y\": [null, 0.0, 0.0], \"type\": \"scatter\", \"uid\": \"be89faac-e18a-11e8-8ddb-a41f72875c19\"}, {\"line\": {\"dash\": \"dashdot\"}, \"name\": \"\\u5ef6\\u671f\\u9879\\u76ee\\u6570(\\u4efb\\u96ea)\", \"x\": [\"10-2\", \"10-3\", \"10-4\"], \"y\": [0.0, 1.0, 2.0], \"type\": \"scatter\", \"uid\": \"be89faad-e18a-11e8-8ddb-a41f72875c19\"}, {\"line\": {\"dash\": \"longdashdot\"}, \"name\": \"\\u5ef6\\u671f\\u9879\\u76ee\\u6570(\\u6bb5\\u5229\\u5f3a)\", \"x\": [\"10-2\", \"10-3\", \"10-4\"], \"y\": [0.0, null, null], \"type\": \"scatter\", \"uid\": \"be89faae-e18a-11e8-8ddb-a41f72875c19\"}, {\"line\": {\"dash\": \"solid\"}, \"name\": \"\\u5ef6\\u671f\\u9879\\u76ee\\u6570(\\u9648\\u9e4f\\u71d5)\", \"x\": [\"10-2\", \"10-3\", \"10-4\"], \"y\": [null, 1.0, 1.0], \"type\": \"scatter\", \"uid\": \"be89faaf-e18a-11e8-8ddb-a41f72875c19\"}, {\"line\": {\"dash\": \"dot\"}, \"name\": \"\\u5ef6\\u671f\\u9879\\u76ee\\u6570(\\u8f66\\u5929\\u680b)\", \"x\": [\"10-2\", \"10-3\", \"10-4\"], \"y\": [null, null, 0.0], \"type\": \"scatter\", \"uid\": \"be89fab0-e18a-11e8-8ddb-a41f72875c19\"}, {\"line\": {\"dash\": \"dash\"}, \"name\": \"\\u5ef6\\u671f\\u9879\\u76ee\\u6570(\\u674e\\u534e\\u4e91)\", \"x\": [\"10-2\", \"10-3\", \"10-4\"], \"y\": [null, null, 2.0], \"type\": \"scatter\", \"uid\": \"be89fab1-e18a-11e8-8ddb-a41f72875c19\"}], {\"title\": \"\\u6682\\u505c\\u9879\\u76ee\\u6570&\\u5ef6\\u671f\\u9879\\u76ee\\u6570\\u5468\\u8d8b\\u52bf\\u56fe\", \"xaxis\": {\"mirror\": \"all\", \"nticks\": 20, \"showgrid\": true, \"showline\": true, \"title\": \"\\u5468\", \"type\": \"category\", \"zeroline\": true}, \"yaxis\": {\"mirror\": \"all\", \"nticks\": 20, \"showgrid\": true, \"showline\": true, \"title\": \"\\u6682\\u505c\\u9879\\u76ee\\u6570&\\u5ef6\\u671f\\u9879\\u76ee\\u6570\", \"zeroline\": true}}, {\"showLink\": true, \"linkText\": \"Export to plot.ly\"})});</script>"
      ],
      "text/vnd.plotly.v1+html": [
       "<div id=\"a27e2c8b-a0c5-4853-817a-c7dbee47a7b2\" style=\"height: 525px; width: 100%;\" class=\"plotly-graph-div\"></div><script type=\"text/javascript\">require([\"plotly\"], function(Plotly) { window.PLOTLYENV=window.PLOTLYENV || {};window.PLOTLYENV.BASE_URL=\"https://plot.ly\";Plotly.newPlot(\"a27e2c8b-a0c5-4853-817a-c7dbee47a7b2\", [{\"line\": {\"dash\": \"solid\"}, \"name\": \"\\u6682\\u505c\\u9879\\u76ee\\u6570(\\u6797\\u6587\\u6587)\", \"x\": [\"10-2\", \"10-3\", \"10-4\"], \"y\": [null, null, 0.0], \"type\": \"scatter\", \"uid\": \"be89fa70-e18a-11e8-8ddb-a41f72875c19\"}, {\"line\": {\"dash\": \"dot\"}, \"name\": \"\\u6682\\u505c\\u9879\\u76ee\\u6570(\\u5c48\\u6602)\", \"x\": [\"10-2\", \"10-3\", \"10-4\"], \"y\": [0.0, null, 0.0], \"type\": \"scatter\", \"uid\": \"be89fa71-e18a-11e8-8ddb-a41f72875c19\"}, {\"line\": {\"dash\": \"dash\"}, \"name\": \"\\u6682\\u505c\\u9879\\u76ee\\u6570(\\u59da\\u76df\\u6210)\", \"x\": [\"10-2\", \"10-3\", \"10-4\"], \"y\": [0.0, 0.0, 0.0], \"type\": \"scatter\", \"uid\": \"be89fa72-e18a-11e8-8ddb-a41f72875c19\"}, {\"line\": {\"dash\": \"longdash\"}, \"name\": \"\\u6682\\u505c\\u9879\\u76ee\\u6570(\\u51b7\\u96ea)\", \"x\": [\"10-2\", \"10-3\", \"10-4\"], \"y\": [0.0, null, 0.0], \"type\": \"scatter\", \"uid\": \"be89fa73-e18a-11e8-8ddb-a41f72875c19\"}, {\"line\": {\"dash\": \"dashdot\"}, \"name\": \"\\u6682\\u505c\\u9879\\u76ee\\u6570(\\u97e9\\u5c11\\u6000)\", \"x\": [\"10-2\", \"10-3\", \"10-4\"], \"y\": [0.0, 0.0, 0.0], \"type\": \"scatter\", \"uid\": \"be89fa74-e18a-11e8-8ddb-a41f72875c19\"}, {\"line\": {\"dash\": \"longdashdot\"}, \"name\": \"\\u6682\\u505c\\u9879\\u76ee\\u6570(\\u674e\\u5e86\\u539f)\", \"x\": [\"10-2\", \"10-3\", \"10-4\"], \"y\": [0.0, 0.0, 0.0], \"type\": \"scatter\", \"uid\": \"be89fa75-e18a-11e8-8ddb-a41f72875c19\"}, {\"line\": {\"dash\": \"solid\"}, \"name\": \"\\u6682\\u505c\\u9879\\u76ee\\u6570(\\u5218\\u4e09\\u9633)\", \"x\": [\"10-2\", \"10-3\", \"10-4\"], \"y\": [null, 0.0, null], \"type\": \"scatter\", \"uid\": \"be89fa76-e18a-11e8-8ddb-a41f72875c19\"}, {\"line\": {\"dash\": \"dot\"}, \"name\": \"\\u6682\\u505c\\u9879\\u76ee\\u6570(\\u6c88\\u6069\\u60e0)\", \"x\": [\"10-2\", \"10-3\", \"10-4\"], \"y\": [null, null, 0.0], \"type\": \"scatter\", \"uid\": \"be89fa77-e18a-11e8-8ddb-a41f72875c19\"}, {\"line\": {\"dash\": \"dash\"}, \"name\": \"\\u6682\\u505c\\u9879\\u76ee\\u6570(\\u6636\\u5409\\u9633)\", \"x\": [\"10-2\", \"10-3\", \"10-4\"], \"y\": [null, 0.0, 0.0], \"type\": \"scatter\", \"uid\": \"be89fa78-e18a-11e8-8ddb-a41f72875c19\"}, {\"line\": {\"dash\": \"longdash\"}, \"name\": \"\\u6682\\u505c\\u9879\\u76ee\\u6570(\\u6768\\u4f1f\\u98de)\", \"x\": [\"10-2\", \"10-3\", \"10-4\"], \"y\": [0.0, 0.0, 0.0], \"type\": \"scatter\", \"uid\": \"be89fa79-e18a-11e8-8ddb-a41f72875c19\"}, {\"line\": {\"dash\": \"dashdot\"}, \"name\": \"\\u6682\\u505c\\u9879\\u76ee\\u6570(\\u738b\\u7ea2)\", \"x\": [\"10-2\", \"10-3\", \"10-4\"], \"y\": [null, null, 0.0], \"type\": \"scatter\", \"uid\": \"be89fa7a-e18a-11e8-8ddb-a41f72875c19\"}, {\"line\": {\"dash\": \"longdashdot\"}, \"name\": \"\\u6682\\u505c\\u9879\\u76ee\\u6570(\\u4e8e\\u52c7\\u4e00)\", \"x\": [\"10-2\", \"10-3\", \"10-4\"], \"y\": [0.0, 0.0, 0.0], \"type\": \"scatter\", \"uid\": \"be89fa7b-e18a-11e8-8ddb-a41f72875c19\"}, {\"line\": {\"dash\": \"solid\"}, \"name\": \"\\u6682\\u505c\\u9879\\u76ee\\u6570(\\u4e8e\\u6167)\", \"x\": [\"10-2\", \"10-3\", \"10-4\"], \"y\": [0.0, 0.0, 0.0], \"type\": \"scatter\", \"uid\": \"be89fa7c-e18a-11e8-8ddb-a41f72875c19\"}, {\"line\": {\"dash\": \"dot\"}, \"name\": \"\\u6682\\u505c\\u9879\\u76ee\\u6570(\\u8c22\\u5fb7\\u5065)\", \"x\": [\"10-2\", \"10-3\", \"10-4\"], \"y\": [0.0, 0.0, 0.0], \"type\": \"scatter\", \"uid\": \"be89fa7d-e18a-11e8-8ddb-a41f72875c19\"}, {\"line\": {\"dash\": \"dash\"}, \"name\": \"\\u6682\\u505c\\u9879\\u76ee\\u6570(\\u8303\\u65ed\\u5b81)\", \"x\": [\"10-2\", \"10-3\", \"10-4\"], \"y\": [0.0, 0.0, 0.0], \"type\": \"scatter\", \"uid\": \"be89fa7e-e18a-11e8-8ddb-a41f72875c19\"}, {\"line\": {\"dash\": \"longdash\"}, \"name\": \"\\u6682\\u505c\\u9879\\u76ee\\u6570(\\u5360\\u4f1f)\", \"x\": [\"10-2\", \"10-3\", \"10-4\"], \"y\": [0.0, 0.0, 0.0], \"type\": \"scatter\", \"uid\": \"be89fa7f-e18a-11e8-8ddb-a41f72875c19\"}, {\"line\": {\"dash\": \"dashdot\"}, \"name\": \"\\u6682\\u505c\\u9879\\u76ee\\u6570(\\u5f20\\u60a6)\", \"x\": [\"10-2\", \"10-3\", \"10-4\"], \"y\": [null, null, 0.0], \"type\": \"scatter\", \"uid\": \"be89fa80-e18a-11e8-8ddb-a41f72875c19\"}, {\"line\": {\"dash\": \"longdashdot\"}, \"name\": \"\\u6682\\u505c\\u9879\\u76ee\\u6570(\\u5f20\\u5b88\\u4f1f)\", \"x\": [\"10-2\", \"10-3\", \"10-4\"], \"y\": [0.0, 0.0, 0.0], \"type\": \"scatter\", \"uid\": \"be89fa81-e18a-11e8-8ddb-a41f72875c19\"}, {\"line\": {\"dash\": \"solid\"}, \"name\": \"\\u6682\\u505c\\u9879\\u76ee\\u6570(\\u8def\\u6167\\u840d)\", \"x\": [\"10-2\", \"10-3\", \"10-4\"], \"y\": [0.0, 0.0, 0.0], \"type\": \"scatter\", \"uid\": \"be89fa82-e18a-11e8-8ddb-a41f72875c19\"}, {\"line\": {\"dash\": \"dot\"}, \"name\": \"\\u6682\\u505c\\u9879\\u76ee\\u6570(\\u51af\\u656c\\u5ca9)\", \"x\": [\"10-2\", \"10-3\", \"10-4\"], \"y\": [null, null, 0.0], \"type\": \"scatter\", \"uid\": \"be89fa83-e18a-11e8-8ddb-a41f72875c19\"}, {\"line\": {\"dash\": \"dash\"}, \"name\": \"\\u6682\\u505c\\u9879\\u76ee\\u6570(\\u9a6c\\u6f47)\", \"x\": [\"10-2\", \"10-3\", \"10-4\"], \"y\": [0.0, 0.0, 0.0], \"type\": \"scatter\", \"uid\": \"be89fa84-e18a-11e8-8ddb-a41f72875c19\"}, {\"line\": {\"dash\": \"longdash\"}, \"name\": \"\\u6682\\u505c\\u9879\\u76ee\\u6570(\\u5b5f\\u660a)\", \"x\": [\"10-2\", \"10-3\", \"10-4\"], \"y\": [0.0, 0.0, 0.0], \"type\": \"scatter\", \"uid\": \"be89fa85-e18a-11e8-8ddb-a41f72875c19\"}, {\"line\": {\"dash\": \"dashdot\"}, \"name\": \"\\u6682\\u505c\\u9879\\u76ee\\u6570(\\u6d82\\u6210\\u82b3)\", \"x\": [\"10-2\", \"10-3\", \"10-4\"], \"y\": [null, null, 0.0], \"type\": \"scatter\", \"uid\": \"be89fa86-e18a-11e8-8ddb-a41f72875c19\"}, {\"line\": {\"dash\": \"longdashdot\"}, \"name\": \"\\u6682\\u505c\\u9879\\u76ee\\u6570(\\u8d75\\u73a5)\", \"x\": [\"10-2\", \"10-3\", \"10-4\"], \"y\": [0.0, 0.0, 0.0], \"type\": \"scatter\", \"uid\": \"be89fa87-e18a-11e8-8ddb-a41f72875c19\"}, {\"line\": {\"dash\": \"solid\"}, \"name\": \"\\u6682\\u505c\\u9879\\u76ee\\u6570(\\u5c01\\u5f66\\u6770)\", \"x\": [\"10-2\", \"10-3\", \"10-4\"], \"y\": [0.0, 0.0, 0.0], \"type\": \"scatter\", \"uid\": \"be89fa88-e18a-11e8-8ddb-a41f72875c19\"}, {\"line\": {\"dash\": \"dot\"}, \"name\": \"\\u6682\\u505c\\u9879\\u76ee\\u6570(\\u5468\\u6768)\", \"x\": [\"10-2\", \"10-3\", \"10-4\"], \"y\": [0.0, 0.0, 0.0], \"type\": \"scatter\", \"uid\": \"be89fa89-e18a-11e8-8ddb-a41f72875c19\"}, {\"line\": {\"dash\": \"dash\"}, \"name\": \"\\u6682\\u505c\\u9879\\u76ee\\u6570(\\u5218\\u6c5f)\", \"x\": [\"10-2\", \"10-3\", \"10-4\"], \"y\": [0.0, 0.0, 0.0], \"type\": \"scatter\", \"uid\": \"be89fa8a-e18a-11e8-8ddb-a41f72875c19\"}, {\"line\": {\"dash\": \"longdash\"}, \"name\": \"\\u6682\\u505c\\u9879\\u76ee\\u6570(\\u82cf\\u5f66\\u52cb)\", \"x\": [\"10-2\", \"10-3\", \"10-4\"], \"y\": [null, 0.0, 0.0], \"type\": \"scatter\", \"uid\": \"be89fa8b-e18a-11e8-8ddb-a41f72875c19\"}, {\"line\": {\"dash\": \"dashdot\"}, \"name\": \"\\u6682\\u505c\\u9879\\u76ee\\u6570(\\u4efb\\u96ea)\", \"x\": [\"10-2\", \"10-3\", \"10-4\"], \"y\": [0.0, 0.0, 0.0], \"type\": \"scatter\", \"uid\": \"be89fa8c-e18a-11e8-8ddb-a41f72875c19\"}, {\"line\": {\"dash\": \"longdashdot\"}, \"name\": \"\\u6682\\u505c\\u9879\\u76ee\\u6570(\\u6bb5\\u5229\\u5f3a)\", \"x\": [\"10-2\", \"10-3\", \"10-4\"], \"y\": [0.0, null, null], \"type\": \"scatter\", \"uid\": \"be89fa8d-e18a-11e8-8ddb-a41f72875c19\"}, {\"line\": {\"dash\": \"solid\"}, \"name\": \"\\u6682\\u505c\\u9879\\u76ee\\u6570(\\u9648\\u9e4f\\u71d5)\", \"x\": [\"10-2\", \"10-3\", \"10-4\"], \"y\": [null, 0.0, 0.0], \"type\": \"scatter\", \"uid\": \"be89fa8e-e18a-11e8-8ddb-a41f72875c19\"}, {\"line\": {\"dash\": \"dot\"}, \"name\": \"\\u6682\\u505c\\u9879\\u76ee\\u6570(\\u8f66\\u5929\\u680b)\", \"x\": [\"10-2\", \"10-3\", \"10-4\"], \"y\": [null, null, 0.0], \"type\": \"scatter\", \"uid\": \"be89fa8f-e18a-11e8-8ddb-a41f72875c19\"}, {\"line\": {\"dash\": \"dash\"}, \"name\": \"\\u6682\\u505c\\u9879\\u76ee\\u6570(\\u674e\\u534e\\u4e91)\", \"x\": [\"10-2\", \"10-3\", \"10-4\"], \"y\": [null, null, 0.0], \"type\": \"scatter\", \"uid\": \"be89fa90-e18a-11e8-8ddb-a41f72875c19\"}, {\"line\": {\"dash\": \"solid\"}, \"name\": \"\\u5ef6\\u671f\\u9879\\u76ee\\u6570(\\u6797\\u6587\\u6587)\", \"x\": [\"10-2\", \"10-3\", \"10-4\"], \"y\": [null, null, 0.0], \"type\": \"scatter\", \"uid\": \"be89fa91-e18a-11e8-8ddb-a41f72875c19\"}, {\"line\": {\"dash\": \"dot\"}, \"name\": \"\\u5ef6\\u671f\\u9879\\u76ee\\u6570(\\u5c48\\u6602)\", \"x\": [\"10-2\", \"10-3\", \"10-4\"], \"y\": [0.0, null, 0.0], \"type\": \"scatter\", \"uid\": \"be89fa92-e18a-11e8-8ddb-a41f72875c19\"}, {\"line\": {\"dash\": \"dash\"}, \"name\": \"\\u5ef6\\u671f\\u9879\\u76ee\\u6570(\\u59da\\u76df\\u6210)\", \"x\": [\"10-2\", \"10-3\", \"10-4\"], \"y\": [0.0, 0.0, 0.0], \"type\": \"scatter\", \"uid\": \"be89fa93-e18a-11e8-8ddb-a41f72875c19\"}, {\"line\": {\"dash\": \"longdash\"}, \"name\": \"\\u5ef6\\u671f\\u9879\\u76ee\\u6570(\\u51b7\\u96ea)\", \"x\": [\"10-2\", \"10-3\", \"10-4\"], \"y\": [0.0, null, 0.0], \"type\": \"scatter\", \"uid\": \"be89fa94-e18a-11e8-8ddb-a41f72875c19\"}, {\"line\": {\"dash\": \"dashdot\"}, \"name\": \"\\u5ef6\\u671f\\u9879\\u76ee\\u6570(\\u97e9\\u5c11\\u6000)\", \"x\": [\"10-2\", \"10-3\", \"10-4\"], \"y\": [0.0, 0.0, 0.0], \"type\": \"scatter\", \"uid\": \"be89fa95-e18a-11e8-8ddb-a41f72875c19\"}, {\"line\": {\"dash\": \"longdashdot\"}, \"name\": \"\\u5ef6\\u671f\\u9879\\u76ee\\u6570(\\u674e\\u5e86\\u539f)\", \"x\": [\"10-2\", \"10-3\", \"10-4\"], \"y\": [0.0, 1.0, 0.0], \"type\": \"scatter\", \"uid\": \"be89fa96-e18a-11e8-8ddb-a41f72875c19\"}, {\"line\": {\"dash\": \"solid\"}, \"name\": \"\\u5ef6\\u671f\\u9879\\u76ee\\u6570(\\u5218\\u4e09\\u9633)\", \"x\": [\"10-2\", \"10-3\", \"10-4\"], \"y\": [null, 0.0, null], \"type\": \"scatter\", \"uid\": \"be89fa97-e18a-11e8-8ddb-a41f72875c19\"}, {\"line\": {\"dash\": \"dot\"}, \"name\": \"\\u5ef6\\u671f\\u9879\\u76ee\\u6570(\\u6c88\\u6069\\u60e0)\", \"x\": [\"10-2\", \"10-3\", \"10-4\"], \"y\": [null, null, 0.0], \"type\": \"scatter\", \"uid\": \"be89fa98-e18a-11e8-8ddb-a41f72875c19\"}, {\"line\": {\"dash\": \"dash\"}, \"name\": \"\\u5ef6\\u671f\\u9879\\u76ee\\u6570(\\u6636\\u5409\\u9633)\", \"x\": [\"10-2\", \"10-3\", \"10-4\"], \"y\": [null, 0.0, 0.0], \"type\": \"scatter\", \"uid\": \"be89fa99-e18a-11e8-8ddb-a41f72875c19\"}, {\"line\": {\"dash\": \"longdash\"}, \"name\": \"\\u5ef6\\u671f\\u9879\\u76ee\\u6570(\\u6768\\u4f1f\\u98de)\", \"x\": [\"10-2\", \"10-3\", \"10-4\"], \"y\": [0.0, 0.0, 1.0], \"type\": \"scatter\", \"uid\": \"be89fa9a-e18a-11e8-8ddb-a41f72875c19\"}, {\"line\": {\"dash\": \"dashdot\"}, \"name\": \"\\u5ef6\\u671f\\u9879\\u76ee\\u6570(\\u738b\\u7ea2)\", \"x\": [\"10-2\", \"10-3\", \"10-4\"], \"y\": [null, null, 0.0], \"type\": \"scatter\", \"uid\": \"be89fa9b-e18a-11e8-8ddb-a41f72875c19\"}, {\"line\": {\"dash\": \"longdashdot\"}, \"name\": \"\\u5ef6\\u671f\\u9879\\u76ee\\u6570(\\u4e8e\\u52c7\\u4e00)\", \"x\": [\"10-2\", \"10-3\", \"10-4\"], \"y\": [0.0, 0.0, 0.0], \"type\": \"scatter\", \"uid\": \"be89fa9c-e18a-11e8-8ddb-a41f72875c19\"}, {\"line\": {\"dash\": \"solid\"}, \"name\": \"\\u5ef6\\u671f\\u9879\\u76ee\\u6570(\\u4e8e\\u6167)\", \"x\": [\"10-2\", \"10-3\", \"10-4\"], \"y\": [0.0, 0.0, 0.0], \"type\": \"scatter\", \"uid\": \"be89fa9d-e18a-11e8-8ddb-a41f72875c19\"}, {\"line\": {\"dash\": \"dot\"}, \"name\": \"\\u5ef6\\u671f\\u9879\\u76ee\\u6570(\\u8c22\\u5fb7\\u5065)\", \"x\": [\"10-2\", \"10-3\", \"10-4\"], \"y\": [0.0, 0.0, 0.0], \"type\": \"scatter\", \"uid\": \"be89fa9e-e18a-11e8-8ddb-a41f72875c19\"}, {\"line\": {\"dash\": \"dash\"}, \"name\": \"\\u5ef6\\u671f\\u9879\\u76ee\\u6570(\\u8303\\u65ed\\u5b81)\", \"x\": [\"10-2\", \"10-3\", \"10-4\"], \"y\": [0.0, 0.0, 0.0], \"type\": \"scatter\", \"uid\": \"be89fa9f-e18a-11e8-8ddb-a41f72875c19\"}, {\"line\": {\"dash\": \"longdash\"}, \"name\": \"\\u5ef6\\u671f\\u9879\\u76ee\\u6570(\\u5360\\u4f1f)\", \"x\": [\"10-2\", \"10-3\", \"10-4\"], \"y\": [0.0, 0.0, 3.0], \"type\": \"scatter\", \"uid\": \"be89faa0-e18a-11e8-8ddb-a41f72875c19\"}, {\"line\": {\"dash\": \"dashdot\"}, \"name\": \"\\u5ef6\\u671f\\u9879\\u76ee\\u6570(\\u5f20\\u60a6)\", \"x\": [\"10-2\", \"10-3\", \"10-4\"], \"y\": [null, null, 1.0], \"type\": \"scatter\", \"uid\": \"be89faa1-e18a-11e8-8ddb-a41f72875c19\"}, {\"line\": {\"dash\": \"longdashdot\"}, \"name\": \"\\u5ef6\\u671f\\u9879\\u76ee\\u6570(\\u5f20\\u5b88\\u4f1f)\", \"x\": [\"10-2\", \"10-3\", \"10-4\"], \"y\": [0.0, 0.0, 0.0], \"type\": \"scatter\", \"uid\": \"be89faa2-e18a-11e8-8ddb-a41f72875c19\"}, {\"line\": {\"dash\": \"solid\"}, \"name\": \"\\u5ef6\\u671f\\u9879\\u76ee\\u6570(\\u8def\\u6167\\u840d)\", \"x\": [\"10-2\", \"10-3\", \"10-4\"], \"y\": [0.0, 0.0, 0.0], \"type\": \"scatter\", \"uid\": \"be89faa3-e18a-11e8-8ddb-a41f72875c19\"}, {\"line\": {\"dash\": \"dot\"}, \"name\": \"\\u5ef6\\u671f\\u9879\\u76ee\\u6570(\\u51af\\u656c\\u5ca9)\", \"x\": [\"10-2\", \"10-3\", \"10-4\"], \"y\": [null, null, 0.0], \"type\": \"scatter\", \"uid\": \"be89faa4-e18a-11e8-8ddb-a41f72875c19\"}, {\"line\": {\"dash\": \"dash\"}, \"name\": \"\\u5ef6\\u671f\\u9879\\u76ee\\u6570(\\u9a6c\\u6f47)\", \"x\": [\"10-2\", \"10-3\", \"10-4\"], \"y\": [0.0, 0.0, 0.0], \"type\": \"scatter\", \"uid\": \"be89faa5-e18a-11e8-8ddb-a41f72875c19\"}, {\"line\": {\"dash\": \"longdash\"}, \"name\": \"\\u5ef6\\u671f\\u9879\\u76ee\\u6570(\\u5b5f\\u660a)\", \"x\": [\"10-2\", \"10-3\", \"10-4\"], \"y\": [0.0, 0.0, 0.0], \"type\": \"scatter\", \"uid\": \"be89faa6-e18a-11e8-8ddb-a41f72875c19\"}, {\"line\": {\"dash\": \"dashdot\"}, \"name\": \"\\u5ef6\\u671f\\u9879\\u76ee\\u6570(\\u6d82\\u6210\\u82b3)\", \"x\": [\"10-2\", \"10-3\", \"10-4\"], \"y\": [null, null, 0.0], \"type\": \"scatter\", \"uid\": \"be89faa7-e18a-11e8-8ddb-a41f72875c19\"}, {\"line\": {\"dash\": \"longdashdot\"}, \"name\": \"\\u5ef6\\u671f\\u9879\\u76ee\\u6570(\\u8d75\\u73a5)\", \"x\": [\"10-2\", \"10-3\", \"10-4\"], \"y\": [0.0, 0.0, 0.0], \"type\": \"scatter\", \"uid\": \"be89faa8-e18a-11e8-8ddb-a41f72875c19\"}, {\"line\": {\"dash\": \"solid\"}, \"name\": \"\\u5ef6\\u671f\\u9879\\u76ee\\u6570(\\u5c01\\u5f66\\u6770)\", \"x\": [\"10-2\", \"10-3\", \"10-4\"], \"y\": [0.0, 0.0, 1.0], \"type\": \"scatter\", \"uid\": \"be89faa9-e18a-11e8-8ddb-a41f72875c19\"}, {\"line\": {\"dash\": \"dot\"}, \"name\": \"\\u5ef6\\u671f\\u9879\\u76ee\\u6570(\\u5468\\u6768)\", \"x\": [\"10-2\", \"10-3\", \"10-4\"], \"y\": [0.0, 0.0, 0.0], \"type\": \"scatter\", \"uid\": \"be89faaa-e18a-11e8-8ddb-a41f72875c19\"}, {\"line\": {\"dash\": \"dash\"}, \"name\": \"\\u5ef6\\u671f\\u9879\\u76ee\\u6570(\\u5218\\u6c5f)\", \"x\": [\"10-2\", \"10-3\", \"10-4\"], \"y\": [2.0, 2.0, 2.0], \"type\": \"scatter\", \"uid\": \"be89faab-e18a-11e8-8ddb-a41f72875c19\"}, {\"line\": {\"dash\": \"longdash\"}, \"name\": \"\\u5ef6\\u671f\\u9879\\u76ee\\u6570(\\u82cf\\u5f66\\u52cb)\", \"x\": [\"10-2\", \"10-3\", \"10-4\"], \"y\": [null, 0.0, 0.0], \"type\": \"scatter\", \"uid\": \"be89faac-e18a-11e8-8ddb-a41f72875c19\"}, {\"line\": {\"dash\": \"dashdot\"}, \"name\": \"\\u5ef6\\u671f\\u9879\\u76ee\\u6570(\\u4efb\\u96ea)\", \"x\": [\"10-2\", \"10-3\", \"10-4\"], \"y\": [0.0, 1.0, 2.0], \"type\": \"scatter\", \"uid\": \"be89faad-e18a-11e8-8ddb-a41f72875c19\"}, {\"line\": {\"dash\": \"longdashdot\"}, \"name\": \"\\u5ef6\\u671f\\u9879\\u76ee\\u6570(\\u6bb5\\u5229\\u5f3a)\", \"x\": [\"10-2\", \"10-3\", \"10-4\"], \"y\": [0.0, null, null], \"type\": \"scatter\", \"uid\": \"be89faae-e18a-11e8-8ddb-a41f72875c19\"}, {\"line\": {\"dash\": \"solid\"}, \"name\": \"\\u5ef6\\u671f\\u9879\\u76ee\\u6570(\\u9648\\u9e4f\\u71d5)\", \"x\": [\"10-2\", \"10-3\", \"10-4\"], \"y\": [null, 1.0, 1.0], \"type\": \"scatter\", \"uid\": \"be89faaf-e18a-11e8-8ddb-a41f72875c19\"}, {\"line\": {\"dash\": \"dot\"}, \"name\": \"\\u5ef6\\u671f\\u9879\\u76ee\\u6570(\\u8f66\\u5929\\u680b)\", \"x\": [\"10-2\", \"10-3\", \"10-4\"], \"y\": [null, null, 0.0], \"type\": \"scatter\", \"uid\": \"be89fab0-e18a-11e8-8ddb-a41f72875c19\"}, {\"line\": {\"dash\": \"dash\"}, \"name\": \"\\u5ef6\\u671f\\u9879\\u76ee\\u6570(\\u674e\\u534e\\u4e91)\", \"x\": [\"10-2\", \"10-3\", \"10-4\"], \"y\": [null, null, 2.0], \"type\": \"scatter\", \"uid\": \"be89fab1-e18a-11e8-8ddb-a41f72875c19\"}], {\"title\": \"\\u6682\\u505c\\u9879\\u76ee\\u6570&\\u5ef6\\u671f\\u9879\\u76ee\\u6570\\u5468\\u8d8b\\u52bf\\u56fe\", \"xaxis\": {\"mirror\": \"all\", \"nticks\": 20, \"showgrid\": true, \"showline\": true, \"title\": \"\\u5468\", \"type\": \"category\", \"zeroline\": true}, \"yaxis\": {\"mirror\": \"all\", \"nticks\": 20, \"showgrid\": true, \"showline\": true, \"title\": \"\\u6682\\u505c\\u9879\\u76ee\\u6570&\\u5ef6\\u671f\\u9879\\u76ee\\u6570\", \"zeroline\": true}}, {\"showLink\": true, \"linkText\": \"Export to plot.ly\"})});</script>"
      ]
     },
     "metadata": {},
     "output_type": "display_data"
    }
   ],
   "source": [
    "ss=myModule.format(all_dict ,\"日期\" ,['延期项目数', '暂停项目数'])\n",
    "ss.add_group('负责人')\n",
    "tt = myModule.myPlot(ss.groupby('sum'))\n",
    "tt.plot('line')"
   ]
  },
  {
   "cell_type": "markdown",
   "metadata": {
    "hide_input": true
   },
   "source": [
    "### 个人成长指数"
   ]
  },
  {
   "cell_type": "markdown",
   "metadata": {},
   "source": [
    "#### 个人内部沟通、市场支持、出差、禅道bug"
   ]
  },
  {
   "cell_type": "code",
   "execution_count": 26,
   "metadata": {
    "collapsed": false,
    "scrolled": true
   },
   "outputs": [
    {
     "data": {
      "application/vnd.plotly.v1+json": {
       "data": [
        {
         "line": {
          "dash": "solid"
         },
         "name": "市场支持(林文文)",
         "type": "scatter",
         "uid": "be89fab2-e18a-11e8-8ddb-a41f72875c19",
         "x": [
          "10-2",
          "10-3",
          "10-4"
         ],
         "y": [
          null,
          null,
          0
         ]
        },
        {
         "line": {
          "dash": "dot"
         },
         "name": "市场支持(屈昂)",
         "type": "scatter",
         "uid": "be89fab3-e18a-11e8-8ddb-a41f72875c19",
         "x": [
          "10-2",
          "10-3",
          "10-4"
         ],
         "y": [
          0,
          null,
          0
         ]
        },
        {
         "line": {
          "dash": "dash"
         },
         "name": "市场支持(姚盟成)",
         "type": "scatter",
         "uid": "be89fab4-e18a-11e8-8ddb-a41f72875c19",
         "x": [
          "10-2",
          "10-3",
          "10-4"
         ],
         "y": [
          0,
          1,
          0
         ]
        },
        {
         "line": {
          "dash": "longdash"
         },
         "name": "市场支持(冷雪)",
         "type": "scatter",
         "uid": "be89fab5-e18a-11e8-8ddb-a41f72875c19",
         "x": [
          "10-2",
          "10-3",
          "10-4"
         ],
         "y": [
          0,
          null,
          0
         ]
        },
        {
         "line": {
          "dash": "dashdot"
         },
         "name": "市场支持(韩少怀)",
         "type": "scatter",
         "uid": "be89fab6-e18a-11e8-8ddb-a41f72875c19",
         "x": [
          "10-2",
          "10-3",
          "10-4"
         ],
         "y": [
          0,
          0,
          0
         ]
        },
        {
         "line": {
          "dash": "longdashdot"
         },
         "name": "市场支持(李庆原)",
         "type": "scatter",
         "uid": "be89fab7-e18a-11e8-8ddb-a41f72875c19",
         "x": [
          "10-2",
          "10-3",
          "10-4"
         ],
         "y": [
          0,
          0,
          0
         ]
        },
        {
         "line": {
          "dash": "solid"
         },
         "name": "市场支持(刘三阳)",
         "type": "scatter",
         "uid": "be89fab8-e18a-11e8-8ddb-a41f72875c19",
         "x": [
          "10-2",
          "10-3",
          "10-4"
         ],
         "y": [
          null,
          0,
          null
         ]
        },
        {
         "line": {
          "dash": "dot"
         },
         "name": "市场支持(沈恩惠)",
         "type": "scatter",
         "uid": "be89fab9-e18a-11e8-8ddb-a41f72875c19",
         "x": [
          "10-2",
          "10-3",
          "10-4"
         ],
         "y": [
          null,
          null,
          0
         ]
        },
        {
         "line": {
          "dash": "dash"
         },
         "name": "市场支持(昶吉阳)",
         "type": "scatter",
         "uid": "be89faba-e18a-11e8-8ddb-a41f72875c19",
         "x": [
          "10-2",
          "10-3",
          "10-4"
         ],
         "y": [
          null,
          0,
          0
         ]
        },
        {
         "line": {
          "dash": "longdash"
         },
         "name": "市场支持(杨伟飞)",
         "type": "scatter",
         "uid": "be89fabb-e18a-11e8-8ddb-a41f72875c19",
         "x": [
          "10-2",
          "10-3",
          "10-4"
         ],
         "y": [
          0,
          1,
          0
         ]
        },
        {
         "line": {
          "dash": "dashdot"
         },
         "name": "市场支持(王红)",
         "type": "scatter",
         "uid": "be89fabc-e18a-11e8-8ddb-a41f72875c19",
         "x": [
          "10-2",
          "10-3",
          "10-4"
         ],
         "y": [
          null,
          null,
          0
         ]
        },
        {
         "line": {
          "dash": "longdashdot"
         },
         "name": "市场支持(于勇一)",
         "type": "scatter",
         "uid": "be89fabd-e18a-11e8-8ddb-a41f72875c19",
         "x": [
          "10-2",
          "10-3",
          "10-4"
         ],
         "y": [
          0,
          0,
          0
         ]
        },
        {
         "line": {
          "dash": "solid"
         },
         "name": "市场支持(于慧)",
         "type": "scatter",
         "uid": "be89fabe-e18a-11e8-8ddb-a41f72875c19",
         "x": [
          "10-2",
          "10-3",
          "10-4"
         ],
         "y": [
          0,
          0,
          0
         ]
        },
        {
         "line": {
          "dash": "dot"
         },
         "name": "市场支持(谢德健)",
         "type": "scatter",
         "uid": "be89fabf-e18a-11e8-8ddb-a41f72875c19",
         "x": [
          "10-2",
          "10-3",
          "10-4"
         ],
         "y": [
          0,
          0,
          0
         ]
        },
        {
         "line": {
          "dash": "dash"
         },
         "name": "市场支持(范旭宁)",
         "type": "scatter",
         "uid": "be89fac0-e18a-11e8-8ddb-a41f72875c19",
         "x": [
          "10-2",
          "10-3",
          "10-4"
         ],
         "y": [
          0,
          0,
          0
         ]
        },
        {
         "line": {
          "dash": "longdash"
         },
         "name": "市场支持(占伟)",
         "type": "scatter",
         "uid": "be89fac1-e18a-11e8-8ddb-a41f72875c19",
         "x": [
          "10-2",
          "10-3",
          "10-4"
         ],
         "y": [
          0,
          1,
          0
         ]
        },
        {
         "line": {
          "dash": "dashdot"
         },
         "name": "市场支持(张悦)",
         "type": "scatter",
         "uid": "be89fac2-e18a-11e8-8ddb-a41f72875c19",
         "x": [
          "10-2",
          "10-3",
          "10-4"
         ],
         "y": [
          null,
          null,
          0
         ]
        },
        {
         "line": {
          "dash": "longdashdot"
         },
         "name": "市场支持(张守伟)",
         "type": "scatter",
         "uid": "be89fac3-e18a-11e8-8ddb-a41f72875c19",
         "x": [
          "10-2",
          "10-3",
          "10-4"
         ],
         "y": [
          0,
          0,
          0
         ]
        },
        {
         "line": {
          "dash": "solid"
         },
         "name": "市场支持(路慧萍)",
         "type": "scatter",
         "uid": "be89fac4-e18a-11e8-8ddb-a41f72875c19",
         "x": [
          "10-2",
          "10-3",
          "10-4"
         ],
         "y": [
          0,
          0,
          0
         ]
        },
        {
         "line": {
          "dash": "dot"
         },
         "name": "市场支持(冯敬岩)",
         "type": "scatter",
         "uid": "be89fac5-e18a-11e8-8ddb-a41f72875c19",
         "x": [
          "10-2",
          "10-3",
          "10-4"
         ],
         "y": [
          null,
          null,
          0
         ]
        },
        {
         "line": {
          "dash": "dash"
         },
         "name": "市场支持(马潇)",
         "type": "scatter",
         "uid": "be89fac6-e18a-11e8-8ddb-a41f72875c19",
         "x": [
          "10-2",
          "10-3",
          "10-4"
         ],
         "y": [
          0,
          0,
          0
         ]
        },
        {
         "line": {
          "dash": "longdash"
         },
         "name": "市场支持(孟昊)",
         "type": "scatter",
         "uid": "be89fac7-e18a-11e8-8ddb-a41f72875c19",
         "x": [
          "10-2",
          "10-3",
          "10-4"
         ],
         "y": [
          0,
          0,
          0
         ]
        },
        {
         "line": {
          "dash": "dashdot"
         },
         "name": "市场支持(涂成芳)",
         "type": "scatter",
         "uid": "be89fac8-e18a-11e8-8ddb-a41f72875c19",
         "x": [
          "10-2",
          "10-3",
          "10-4"
         ],
         "y": [
          null,
          null,
          0
         ]
        },
        {
         "line": {
          "dash": "longdashdot"
         },
         "name": "市场支持(赵玥)",
         "type": "scatter",
         "uid": "be89fac9-e18a-11e8-8ddb-a41f72875c19",
         "x": [
          "10-2",
          "10-3",
          "10-4"
         ],
         "y": [
          0,
          0,
          0
         ]
        },
        {
         "line": {
          "dash": "solid"
         },
         "name": "市场支持(封彦杰)",
         "type": "scatter",
         "uid": "be89faca-e18a-11e8-8ddb-a41f72875c19",
         "x": [
          "10-2",
          "10-3",
          "10-4"
         ],
         "y": [
          0,
          0,
          0
         ]
        },
        {
         "line": {
          "dash": "dot"
         },
         "name": "市场支持(周杨)",
         "type": "scatter",
         "uid": "be89facb-e18a-11e8-8ddb-a41f72875c19",
         "x": [
          "10-2",
          "10-3",
          "10-4"
         ],
         "y": [
          0,
          0,
          0
         ]
        },
        {
         "line": {
          "dash": "dash"
         },
         "name": "市场支持(刘江)",
         "type": "scatter",
         "uid": "be89facc-e18a-11e8-8ddb-a41f72875c19",
         "x": [
          "10-2",
          "10-3",
          "10-4"
         ],
         "y": [
          0,
          1,
          0
         ]
        },
        {
         "line": {
          "dash": "longdash"
         },
         "name": "市场支持(苏彦勋)",
         "type": "scatter",
         "uid": "be89facd-e18a-11e8-8ddb-a41f72875c19",
         "x": [
          "10-2",
          "10-3",
          "10-4"
         ],
         "y": [
          null,
          0,
          0
         ]
        },
        {
         "line": {
          "dash": "dashdot"
         },
         "name": "市场支持(任雪)",
         "type": "scatter",
         "uid": "be89face-e18a-11e8-8ddb-a41f72875c19",
         "x": [
          "10-2",
          "10-3",
          "10-4"
         ],
         "y": [
          0,
          1,
          0
         ]
        },
        {
         "line": {
          "dash": "longdashdot"
         },
         "name": "市场支持(段利强)",
         "type": "scatter",
         "uid": "be89facf-e18a-11e8-8ddb-a41f72875c19",
         "x": [
          "10-2",
          "10-3",
          "10-4"
         ],
         "y": [
          0,
          null,
          null
         ]
        },
        {
         "line": {
          "dash": "solid"
         },
         "name": "市场支持(陈鹏燕)",
         "type": "scatter",
         "uid": "be89fad0-e18a-11e8-8ddb-a41f72875c19",
         "x": [
          "10-2",
          "10-3",
          "10-4"
         ],
         "y": [
          null,
          0,
          0
         ]
        },
        {
         "line": {
          "dash": "dot"
         },
         "name": "市场支持(车天栋)",
         "type": "scatter",
         "uid": "be89fad1-e18a-11e8-8ddb-a41f72875c19",
         "x": [
          "10-2",
          "10-3",
          "10-4"
         ],
         "y": [
          null,
          null,
          0
         ]
        },
        {
         "line": {
          "dash": "dash"
         },
         "name": "市场支持(李华云)",
         "type": "scatter",
         "uid": "be89fad2-e18a-11e8-8ddb-a41f72875c19",
         "x": [
          "10-2",
          "10-3",
          "10-4"
         ],
         "y": [
          null,
          null,
          0
         ]
        },
        {
         "line": {
          "dash": "solid"
         },
         "name": "内部沟通(林文文)",
         "type": "scatter",
         "uid": "be89fad3-e18a-11e8-8ddb-a41f72875c19",
         "x": [
          "10-2",
          "10-3",
          "10-4"
         ],
         "y": [
          null,
          null,
          0
         ]
        },
        {
         "line": {
          "dash": "dot"
         },
         "name": "内部沟通(屈昂)",
         "type": "scatter",
         "uid": "be89fad4-e18a-11e8-8ddb-a41f72875c19",
         "x": [
          "10-2",
          "10-3",
          "10-4"
         ],
         "y": [
          0,
          null,
          0
         ]
        },
        {
         "line": {
          "dash": "dash"
         },
         "name": "内部沟通(姚盟成)",
         "type": "scatter",
         "uid": "be89fad5-e18a-11e8-8ddb-a41f72875c19",
         "x": [
          "10-2",
          "10-3",
          "10-4"
         ],
         "y": [
          0,
          0,
          4
         ]
        },
        {
         "line": {
          "dash": "longdash"
         },
         "name": "内部沟通(冷雪)",
         "type": "scatter",
         "uid": "be89fad6-e18a-11e8-8ddb-a41f72875c19",
         "x": [
          "10-2",
          "10-3",
          "10-4"
         ],
         "y": [
          0,
          null,
          0
         ]
        },
        {
         "line": {
          "dash": "dashdot"
         },
         "name": "内部沟通(韩少怀)",
         "type": "scatter",
         "uid": "be89fad7-e18a-11e8-8ddb-a41f72875c19",
         "x": [
          "10-2",
          "10-3",
          "10-4"
         ],
         "y": [
          0,
          0,
          0
         ]
        },
        {
         "line": {
          "dash": "longdashdot"
         },
         "name": "内部沟通(李庆原)",
         "type": "scatter",
         "uid": "be89fad8-e18a-11e8-8ddb-a41f72875c19",
         "x": [
          "10-2",
          "10-3",
          "10-4"
         ],
         "y": [
          0,
          0,
          1
         ]
        },
        {
         "line": {
          "dash": "solid"
         },
         "name": "内部沟通(刘三阳)",
         "type": "scatter",
         "uid": "be89fad9-e18a-11e8-8ddb-a41f72875c19",
         "x": [
          "10-2",
          "10-3",
          "10-4"
         ],
         "y": [
          null,
          0,
          null
         ]
        },
        {
         "line": {
          "dash": "dot"
         },
         "name": "内部沟通(沈恩惠)",
         "type": "scatter",
         "uid": "be89fada-e18a-11e8-8ddb-a41f72875c19",
         "x": [
          "10-2",
          "10-3",
          "10-4"
         ],
         "y": [
          null,
          null,
          0
         ]
        },
        {
         "line": {
          "dash": "dash"
         },
         "name": "内部沟通(昶吉阳)",
         "type": "scatter",
         "uid": "be89fadb-e18a-11e8-8ddb-a41f72875c19",
         "x": [
          "10-2",
          "10-3",
          "10-4"
         ],
         "y": [
          null,
          0,
          0
         ]
        },
        {
         "line": {
          "dash": "longdash"
         },
         "name": "内部沟通(杨伟飞)",
         "type": "scatter",
         "uid": "be89fadc-e18a-11e8-8ddb-a41f72875c19",
         "x": [
          "10-2",
          "10-3",
          "10-4"
         ],
         "y": [
          0,
          0,
          0
         ]
        },
        {
         "line": {
          "dash": "dashdot"
         },
         "name": "内部沟通(王红)",
         "type": "scatter",
         "uid": "be89fadd-e18a-11e8-8ddb-a41f72875c19",
         "x": [
          "10-2",
          "10-3",
          "10-4"
         ],
         "y": [
          null,
          null,
          0
         ]
        },
        {
         "line": {
          "dash": "longdashdot"
         },
         "name": "内部沟通(于勇一)",
         "type": "scatter",
         "uid": "be89fade-e18a-11e8-8ddb-a41f72875c19",
         "x": [
          "10-2",
          "10-3",
          "10-4"
         ],
         "y": [
          0,
          0,
          0
         ]
        },
        {
         "line": {
          "dash": "solid"
         },
         "name": "内部沟通(于慧)",
         "type": "scatter",
         "uid": "be89fadf-e18a-11e8-8ddb-a41f72875c19",
         "x": [
          "10-2",
          "10-3",
          "10-4"
         ],
         "y": [
          0,
          0,
          0
         ]
        },
        {
         "line": {
          "dash": "dot"
         },
         "name": "内部沟通(谢德健)",
         "type": "scatter",
         "uid": "be89fae0-e18a-11e8-8ddb-a41f72875c19",
         "x": [
          "10-2",
          "10-3",
          "10-4"
         ],
         "y": [
          0,
          0,
          0
         ]
        },
        {
         "line": {
          "dash": "dash"
         },
         "name": "内部沟通(范旭宁)",
         "type": "scatter",
         "uid": "be89fae1-e18a-11e8-8ddb-a41f72875c19",
         "x": [
          "10-2",
          "10-3",
          "10-4"
         ],
         "y": [
          0,
          0,
          0
         ]
        },
        {
         "line": {
          "dash": "longdash"
         },
         "name": "内部沟通(占伟)",
         "type": "scatter",
         "uid": "be89fae2-e18a-11e8-8ddb-a41f72875c19",
         "x": [
          "10-2",
          "10-3",
          "10-4"
         ],
         "y": [
          0,
          0,
          0
         ]
        },
        {
         "line": {
          "dash": "dashdot"
         },
         "name": "内部沟通(张悦)",
         "type": "scatter",
         "uid": "be89fae3-e18a-11e8-8ddb-a41f72875c19",
         "x": [
          "10-2",
          "10-3",
          "10-4"
         ],
         "y": [
          null,
          null,
          0
         ]
        },
        {
         "line": {
          "dash": "longdashdot"
         },
         "name": "内部沟通(张守伟)",
         "type": "scatter",
         "uid": "be89fae4-e18a-11e8-8ddb-a41f72875c19",
         "x": [
          "10-2",
          "10-3",
          "10-4"
         ],
         "y": [
          0,
          0,
          0
         ]
        },
        {
         "line": {
          "dash": "solid"
         },
         "name": "内部沟通(路慧萍)",
         "type": "scatter",
         "uid": "be89fae5-e18a-11e8-8ddb-a41f72875c19",
         "x": [
          "10-2",
          "10-3",
          "10-4"
         ],
         "y": [
          0,
          0,
          0
         ]
        },
        {
         "line": {
          "dash": "dot"
         },
         "name": "内部沟通(冯敬岩)",
         "type": "scatter",
         "uid": "be89fae6-e18a-11e8-8ddb-a41f72875c19",
         "x": [
          "10-2",
          "10-3",
          "10-4"
         ],
         "y": [
          null,
          null,
          0
         ]
        },
        {
         "line": {
          "dash": "dash"
         },
         "name": "内部沟通(马潇)",
         "type": "scatter",
         "uid": "be89fae7-e18a-11e8-8ddb-a41f72875c19",
         "x": [
          "10-2",
          "10-3",
          "10-4"
         ],
         "y": [
          0,
          0,
          0
         ]
        },
        {
         "line": {
          "dash": "longdash"
         },
         "name": "内部沟通(孟昊)",
         "type": "scatter",
         "uid": "be89fae8-e18a-11e8-8ddb-a41f72875c19",
         "x": [
          "10-2",
          "10-3",
          "10-4"
         ],
         "y": [
          0,
          0,
          0
         ]
        },
        {
         "line": {
          "dash": "dashdot"
         },
         "name": "内部沟通(涂成芳)",
         "type": "scatter",
         "uid": "be89fae9-e18a-11e8-8ddb-a41f72875c19",
         "x": [
          "10-2",
          "10-3",
          "10-4"
         ],
         "y": [
          null,
          null,
          0
         ]
        },
        {
         "line": {
          "dash": "longdashdot"
         },
         "name": "内部沟通(赵玥)",
         "type": "scatter",
         "uid": "be89faea-e18a-11e8-8ddb-a41f72875c19",
         "x": [
          "10-2",
          "10-3",
          "10-4"
         ],
         "y": [
          0,
          0,
          0
         ]
        },
        {
         "line": {
          "dash": "solid"
         },
         "name": "内部沟通(封彦杰)",
         "type": "scatter",
         "uid": "be89faeb-e18a-11e8-8ddb-a41f72875c19",
         "x": [
          "10-2",
          "10-3",
          "10-4"
         ],
         "y": [
          0,
          0,
          0
         ]
        },
        {
         "line": {
          "dash": "dot"
         },
         "name": "内部沟通(周杨)",
         "type": "scatter",
         "uid": "be89faec-e18a-11e8-8ddb-a41f72875c19",
         "x": [
          "10-2",
          "10-3",
          "10-4"
         ],
         "y": [
          0,
          0,
          2
         ]
        },
        {
         "line": {
          "dash": "dash"
         },
         "name": "内部沟通(刘江)",
         "type": "scatter",
         "uid": "be89faed-e18a-11e8-8ddb-a41f72875c19",
         "x": [
          "10-2",
          "10-3",
          "10-4"
         ],
         "y": [
          0,
          0,
          0
         ]
        },
        {
         "line": {
          "dash": "longdash"
         },
         "name": "内部沟通(苏彦勋)",
         "type": "scatter",
         "uid": "be89faee-e18a-11e8-8ddb-a41f72875c19",
         "x": [
          "10-2",
          "10-3",
          "10-4"
         ],
         "y": [
          null,
          0,
          0
         ]
        },
        {
         "line": {
          "dash": "dashdot"
         },
         "name": "内部沟通(任雪)",
         "type": "scatter",
         "uid": "be89faef-e18a-11e8-8ddb-a41f72875c19",
         "x": [
          "10-2",
          "10-3",
          "10-4"
         ],
         "y": [
          0,
          0,
          0
         ]
        },
        {
         "line": {
          "dash": "longdashdot"
         },
         "name": "内部沟通(段利强)",
         "type": "scatter",
         "uid": "be89faf0-e18a-11e8-8ddb-a41f72875c19",
         "x": [
          "10-2",
          "10-3",
          "10-4"
         ],
         "y": [
          0,
          null,
          null
         ]
        },
        {
         "line": {
          "dash": "solid"
         },
         "name": "内部沟通(陈鹏燕)",
         "type": "scatter",
         "uid": "be89faf1-e18a-11e8-8ddb-a41f72875c19",
         "x": [
          "10-2",
          "10-3",
          "10-4"
         ],
         "y": [
          null,
          0,
          0
         ]
        },
        {
         "line": {
          "dash": "dot"
         },
         "name": "内部沟通(车天栋)",
         "type": "scatter",
         "uid": "be89faf2-e18a-11e8-8ddb-a41f72875c19",
         "x": [
          "10-2",
          "10-3",
          "10-4"
         ],
         "y": [
          null,
          null,
          0
         ]
        },
        {
         "line": {
          "dash": "dash"
         },
         "name": "内部沟通(李华云)",
         "type": "scatter",
         "uid": "be89faf3-e18a-11e8-8ddb-a41f72875c19",
         "x": [
          "10-2",
          "10-3",
          "10-4"
         ],
         "y": [
          null,
          null,
          0
         ]
        },
        {
         "line": {
          "dash": "solid"
         },
         "name": "出差(林文文)",
         "type": "scatter",
         "uid": "be89faf4-e18a-11e8-8ddb-a41f72875c19",
         "x": [
          "10-2",
          "10-3",
          "10-4"
         ],
         "y": [
          null,
          null,
          0
         ]
        },
        {
         "line": {
          "dash": "dot"
         },
         "name": "出差(屈昂)",
         "type": "scatter",
         "uid": "be89faf5-e18a-11e8-8ddb-a41f72875c19",
         "x": [
          "10-2",
          "10-3",
          "10-4"
         ],
         "y": [
          0,
          null,
          0
         ]
        },
        {
         "line": {
          "dash": "dash"
         },
         "name": "出差(姚盟成)",
         "type": "scatter",
         "uid": "be89faf6-e18a-11e8-8ddb-a41f72875c19",
         "x": [
          "10-2",
          "10-3",
          "10-4"
         ],
         "y": [
          0,
          1,
          0
         ]
        },
        {
         "line": {
          "dash": "longdash"
         },
         "name": "出差(冷雪)",
         "type": "scatter",
         "uid": "be89faf7-e18a-11e8-8ddb-a41f72875c19",
         "x": [
          "10-2",
          "10-3",
          "10-4"
         ],
         "y": [
          0,
          null,
          0
         ]
        },
        {
         "line": {
          "dash": "dashdot"
         },
         "name": "出差(韩少怀)",
         "type": "scatter",
         "uid": "be89faf8-e18a-11e8-8ddb-a41f72875c19",
         "x": [
          "10-2",
          "10-3",
          "10-4"
         ],
         "y": [
          0,
          0,
          0
         ]
        },
        {
         "line": {
          "dash": "longdashdot"
         },
         "name": "出差(李庆原)",
         "type": "scatter",
         "uid": "be89faf9-e18a-11e8-8ddb-a41f72875c19",
         "x": [
          "10-2",
          "10-3",
          "10-4"
         ],
         "y": [
          0,
          0,
          0
         ]
        },
        {
         "line": {
          "dash": "solid"
         },
         "name": "出差(刘三阳)",
         "type": "scatter",
         "uid": "be89fafa-e18a-11e8-8ddb-a41f72875c19",
         "x": [
          "10-2",
          "10-3",
          "10-4"
         ],
         "y": [
          null,
          0,
          null
         ]
        },
        {
         "line": {
          "dash": "dot"
         },
         "name": "出差(沈恩惠)",
         "type": "scatter",
         "uid": "be89fafb-e18a-11e8-8ddb-a41f72875c19",
         "x": [
          "10-2",
          "10-3",
          "10-4"
         ],
         "y": [
          null,
          null,
          0
         ]
        },
        {
         "line": {
          "dash": "dash"
         },
         "name": "出差(昶吉阳)",
         "type": "scatter",
         "uid": "be89fafc-e18a-11e8-8ddb-a41f72875c19",
         "x": [
          "10-2",
          "10-3",
          "10-4"
         ],
         "y": [
          null,
          0,
          0
         ]
        },
        {
         "line": {
          "dash": "longdash"
         },
         "name": "出差(杨伟飞)",
         "type": "scatter",
         "uid": "be89fafd-e18a-11e8-8ddb-a41f72875c19",
         "x": [
          "10-2",
          "10-3",
          "10-4"
         ],
         "y": [
          0,
          1,
          0
         ]
        },
        {
         "line": {
          "dash": "dashdot"
         },
         "name": "出差(王红)",
         "type": "scatter",
         "uid": "be89fafe-e18a-11e8-8ddb-a41f72875c19",
         "x": [
          "10-2",
          "10-3",
          "10-4"
         ],
         "y": [
          null,
          null,
          0
         ]
        },
        {
         "line": {
          "dash": "longdashdot"
         },
         "name": "出差(于勇一)",
         "type": "scatter",
         "uid": "be89faff-e18a-11e8-8ddb-a41f72875c19",
         "x": [
          "10-2",
          "10-3",
          "10-4"
         ],
         "y": [
          0,
          0,
          0
         ]
        },
        {
         "line": {
          "dash": "solid"
         },
         "name": "出差(于慧)",
         "type": "scatter",
         "uid": "be89fb00-e18a-11e8-8ddb-a41f72875c19",
         "x": [
          "10-2",
          "10-3",
          "10-4"
         ],
         "y": [
          0,
          0,
          0
         ]
        },
        {
         "line": {
          "dash": "dot"
         },
         "name": "出差(谢德健)",
         "type": "scatter",
         "uid": "be89fb01-e18a-11e8-8ddb-a41f72875c19",
         "x": [
          "10-2",
          "10-3",
          "10-4"
         ],
         "y": [
          0,
          0,
          0
         ]
        },
        {
         "line": {
          "dash": "dash"
         },
         "name": "出差(范旭宁)",
         "type": "scatter",
         "uid": "be89fb02-e18a-11e8-8ddb-a41f72875c19",
         "x": [
          "10-2",
          "10-3",
          "10-4"
         ],
         "y": [
          0,
          0,
          0
         ]
        },
        {
         "line": {
          "dash": "longdash"
         },
         "name": "出差(占伟)",
         "type": "scatter",
         "uid": "be89fb03-e18a-11e8-8ddb-a41f72875c19",
         "x": [
          "10-2",
          "10-3",
          "10-4"
         ],
         "y": [
          0,
          0,
          0
         ]
        },
        {
         "line": {
          "dash": "dashdot"
         },
         "name": "出差(张悦)",
         "type": "scatter",
         "uid": "be89fb04-e18a-11e8-8ddb-a41f72875c19",
         "x": [
          "10-2",
          "10-3",
          "10-4"
         ],
         "y": [
          null,
          null,
          0
         ]
        },
        {
         "line": {
          "dash": "longdashdot"
         },
         "name": "出差(张守伟)",
         "type": "scatter",
         "uid": "be89fb05-e18a-11e8-8ddb-a41f72875c19",
         "x": [
          "10-2",
          "10-3",
          "10-4"
         ],
         "y": [
          0,
          0,
          0
         ]
        },
        {
         "line": {
          "dash": "solid"
         },
         "name": "出差(路慧萍)",
         "type": "scatter",
         "uid": "be89fb06-e18a-11e8-8ddb-a41f72875c19",
         "x": [
          "10-2",
          "10-3",
          "10-4"
         ],
         "y": [
          0,
          0,
          0
         ]
        },
        {
         "line": {
          "dash": "dot"
         },
         "name": "出差(冯敬岩)",
         "type": "scatter",
         "uid": "be89fb07-e18a-11e8-8ddb-a41f72875c19",
         "x": [
          "10-2",
          "10-3",
          "10-4"
         ],
         "y": [
          null,
          null,
          0
         ]
        },
        {
         "line": {
          "dash": "dash"
         },
         "name": "出差(马潇)",
         "type": "scatter",
         "uid": "be89fb08-e18a-11e8-8ddb-a41f72875c19",
         "x": [
          "10-2",
          "10-3",
          "10-4"
         ],
         "y": [
          0,
          0,
          1
         ]
        },
        {
         "line": {
          "dash": "longdash"
         },
         "name": "出差(孟昊)",
         "type": "scatter",
         "uid": "be89fb09-e18a-11e8-8ddb-a41f72875c19",
         "x": [
          "10-2",
          "10-3",
          "10-4"
         ],
         "y": [
          0,
          0,
          0
         ]
        },
        {
         "line": {
          "dash": "dashdot"
         },
         "name": "出差(涂成芳)",
         "type": "scatter",
         "uid": "be89fb0a-e18a-11e8-8ddb-a41f72875c19",
         "x": [
          "10-2",
          "10-3",
          "10-4"
         ],
         "y": [
          null,
          null,
          0
         ]
        },
        {
         "line": {
          "dash": "longdashdot"
         },
         "name": "出差(赵玥)",
         "type": "scatter",
         "uid": "be89fb0b-e18a-11e8-8ddb-a41f72875c19",
         "x": [
          "10-2",
          "10-3",
          "10-4"
         ],
         "y": [
          0,
          0,
          0
         ]
        },
        {
         "line": {
          "dash": "solid"
         },
         "name": "出差(封彦杰)",
         "type": "scatter",
         "uid": "be89fb0c-e18a-11e8-8ddb-a41f72875c19",
         "x": [
          "10-2",
          "10-3",
          "10-4"
         ],
         "y": [
          0,
          0,
          0
         ]
        },
        {
         "line": {
          "dash": "dot"
         },
         "name": "出差(周杨)",
         "type": "scatter",
         "uid": "be89fb0d-e18a-11e8-8ddb-a41f72875c19",
         "x": [
          "10-2",
          "10-3",
          "10-4"
         ],
         "y": [
          0,
          0,
          0
         ]
        },
        {
         "line": {
          "dash": "dash"
         },
         "name": "出差(刘江)",
         "type": "scatter",
         "uid": "be89fb0e-e18a-11e8-8ddb-a41f72875c19",
         "x": [
          "10-2",
          "10-3",
          "10-4"
         ],
         "y": [
          0,
          1,
          0
         ]
        },
        {
         "line": {
          "dash": "longdash"
         },
         "name": "出差(苏彦勋)",
         "type": "scatter",
         "uid": "be89fb0f-e18a-11e8-8ddb-a41f72875c19",
         "x": [
          "10-2",
          "10-3",
          "10-4"
         ],
         "y": [
          null,
          0,
          1
         ]
        },
        {
         "line": {
          "dash": "dashdot"
         },
         "name": "出差(任雪)",
         "type": "scatter",
         "uid": "be89fb10-e18a-11e8-8ddb-a41f72875c19",
         "x": [
          "10-2",
          "10-3",
          "10-4"
         ],
         "y": [
          0,
          1,
          0
         ]
        },
        {
         "line": {
          "dash": "longdashdot"
         },
         "name": "出差(段利强)",
         "type": "scatter",
         "uid": "be89fb11-e18a-11e8-8ddb-a41f72875c19",
         "x": [
          "10-2",
          "10-3",
          "10-4"
         ],
         "y": [
          0,
          null,
          null
         ]
        },
        {
         "line": {
          "dash": "solid"
         },
         "name": "出差(陈鹏燕)",
         "type": "scatter",
         "uid": "be89fb12-e18a-11e8-8ddb-a41f72875c19",
         "x": [
          "10-2",
          "10-3",
          "10-4"
         ],
         "y": [
          null,
          0,
          0
         ]
        },
        {
         "line": {
          "dash": "dot"
         },
         "name": "出差(车天栋)",
         "type": "scatter",
         "uid": "be89fb13-e18a-11e8-8ddb-a41f72875c19",
         "x": [
          "10-2",
          "10-3",
          "10-4"
         ],
         "y": [
          null,
          null,
          0
         ]
        },
        {
         "line": {
          "dash": "dash"
         },
         "name": "出差(李华云)",
         "type": "scatter",
         "uid": "be89fb14-e18a-11e8-8ddb-a41f72875c19",
         "x": [
          "10-2",
          "10-3",
          "10-4"
         ],
         "y": [
          null,
          null,
          0
         ]
        },
        {
         "line": {
          "dash": "solid"
         },
         "name": "禅道bug(林文文)",
         "type": "scatter",
         "uid": "be89fb15-e18a-11e8-8ddb-a41f72875c19",
         "x": [
          "10-2",
          "10-3",
          "10-4"
         ],
         "y": [
          null,
          null,
          0
         ]
        },
        {
         "line": {
          "dash": "dot"
         },
         "name": "禅道bug(屈昂)",
         "type": "scatter",
         "uid": "be89fb16-e18a-11e8-8ddb-a41f72875c19",
         "x": [
          "10-2",
          "10-3",
          "10-4"
         ],
         "y": [
          0,
          null,
          0
         ]
        },
        {
         "line": {
          "dash": "dash"
         },
         "name": "禅道bug(姚盟成)",
         "type": "scatter",
         "uid": "be89fb17-e18a-11e8-8ddb-a41f72875c19",
         "x": [
          "10-2",
          "10-3",
          "10-4"
         ],
         "y": [
          0,
          1,
          1
         ]
        },
        {
         "line": {
          "dash": "longdash"
         },
         "name": "禅道bug(冷雪)",
         "type": "scatter",
         "uid": "be89fb18-e18a-11e8-8ddb-a41f72875c19",
         "x": [
          "10-2",
          "10-3",
          "10-4"
         ],
         "y": [
          0,
          null,
          0
         ]
        },
        {
         "line": {
          "dash": "dashdot"
         },
         "name": "禅道bug(韩少怀)",
         "type": "scatter",
         "uid": "be89fb19-e18a-11e8-8ddb-a41f72875c19",
         "x": [
          "10-2",
          "10-3",
          "10-4"
         ],
         "y": [
          0,
          0,
          0
         ]
        },
        {
         "line": {
          "dash": "longdashdot"
         },
         "name": "禅道bug(李庆原)",
         "type": "scatter",
         "uid": "be89fb1a-e18a-11e8-8ddb-a41f72875c19",
         "x": [
          "10-2",
          "10-3",
          "10-4"
         ],
         "y": [
          0,
          0,
          0
         ]
        },
        {
         "line": {
          "dash": "solid"
         },
         "name": "禅道bug(刘三阳)",
         "type": "scatter",
         "uid": "be89fb1b-e18a-11e8-8ddb-a41f72875c19",
         "x": [
          "10-2",
          "10-3",
          "10-4"
         ],
         "y": [
          null,
          0,
          null
         ]
        },
        {
         "line": {
          "dash": "dot"
         },
         "name": "禅道bug(沈恩惠)",
         "type": "scatter",
         "uid": "be89fb1c-e18a-11e8-8ddb-a41f72875c19",
         "x": [
          "10-2",
          "10-3",
          "10-4"
         ],
         "y": [
          null,
          null,
          0
         ]
        },
        {
         "line": {
          "dash": "dash"
         },
         "name": "禅道bug(昶吉阳)",
         "type": "scatter",
         "uid": "be89fb1d-e18a-11e8-8ddb-a41f72875c19",
         "x": [
          "10-2",
          "10-3",
          "10-4"
         ],
         "y": [
          null,
          0,
          0
         ]
        },
        {
         "line": {
          "dash": "longdash"
         },
         "name": "禅道bug(杨伟飞)",
         "type": "scatter",
         "uid": "be89fb1e-e18a-11e8-8ddb-a41f72875c19",
         "x": [
          "10-2",
          "10-3",
          "10-4"
         ],
         "y": [
          0,
          0,
          0
         ]
        },
        {
         "line": {
          "dash": "dashdot"
         },
         "name": "禅道bug(王红)",
         "type": "scatter",
         "uid": "be89fb1f-e18a-11e8-8ddb-a41f72875c19",
         "x": [
          "10-2",
          "10-3",
          "10-4"
         ],
         "y": [
          null,
          null,
          0
         ]
        },
        {
         "line": {
          "dash": "longdashdot"
         },
         "name": "禅道bug(于勇一)",
         "type": "scatter",
         "uid": "be89fb20-e18a-11e8-8ddb-a41f72875c19",
         "x": [
          "10-2",
          "10-3",
          "10-4"
         ],
         "y": [
          0,
          0,
          0
         ]
        },
        {
         "line": {
          "dash": "solid"
         },
         "name": "禅道bug(于慧)",
         "type": "scatter",
         "uid": "be89fb21-e18a-11e8-8ddb-a41f72875c19",
         "x": [
          "10-2",
          "10-3",
          "10-4"
         ],
         "y": [
          0,
          0,
          0
         ]
        },
        {
         "line": {
          "dash": "dot"
         },
         "name": "禅道bug(谢德健)",
         "type": "scatter",
         "uid": "be89fb22-e18a-11e8-8ddb-a41f72875c19",
         "x": [
          "10-2",
          "10-3",
          "10-4"
         ],
         "y": [
          0,
          0,
          0
         ]
        },
        {
         "line": {
          "dash": "dash"
         },
         "name": "禅道bug(范旭宁)",
         "type": "scatter",
         "uid": "be89fb23-e18a-11e8-8ddb-a41f72875c19",
         "x": [
          "10-2",
          "10-3",
          "10-4"
         ],
         "y": [
          0,
          0,
          0
         ]
        },
        {
         "line": {
          "dash": "longdash"
         },
         "name": "禅道bug(占伟)",
         "type": "scatter",
         "uid": "be89fb24-e18a-11e8-8ddb-a41f72875c19",
         "x": [
          "10-2",
          "10-3",
          "10-4"
         ],
         "y": [
          0,
          0,
          0
         ]
        },
        {
         "line": {
          "dash": "dashdot"
         },
         "name": "禅道bug(张悦)",
         "type": "scatter",
         "uid": "be89fb25-e18a-11e8-8ddb-a41f72875c19",
         "x": [
          "10-2",
          "10-3",
          "10-4"
         ],
         "y": [
          null,
          null,
          0
         ]
        },
        {
         "line": {
          "dash": "longdashdot"
         },
         "name": "禅道bug(张守伟)",
         "type": "scatter",
         "uid": "be89fb26-e18a-11e8-8ddb-a41f72875c19",
         "x": [
          "10-2",
          "10-3",
          "10-4"
         ],
         "y": [
          0,
          0,
          0
         ]
        },
        {
         "line": {
          "dash": "solid"
         },
         "name": "禅道bug(路慧萍)",
         "type": "scatter",
         "uid": "be89fb27-e18a-11e8-8ddb-a41f72875c19",
         "x": [
          "10-2",
          "10-3",
          "10-4"
         ],
         "y": [
          0,
          0,
          0
         ]
        },
        {
         "line": {
          "dash": "dot"
         },
         "name": "禅道bug(冯敬岩)",
         "type": "scatter",
         "uid": "be89fb28-e18a-11e8-8ddb-a41f72875c19",
         "x": [
          "10-2",
          "10-3",
          "10-4"
         ],
         "y": [
          null,
          null,
          0
         ]
        },
        {
         "line": {
          "dash": "dash"
         },
         "name": "禅道bug(马潇)",
         "type": "scatter",
         "uid": "be89fb29-e18a-11e8-8ddb-a41f72875c19",
         "x": [
          "10-2",
          "10-3",
          "10-4"
         ],
         "y": [
          0,
          0,
          0
         ]
        },
        {
         "line": {
          "dash": "longdash"
         },
         "name": "禅道bug(孟昊)",
         "type": "scatter",
         "uid": "be89fb2a-e18a-11e8-8ddb-a41f72875c19",
         "x": [
          "10-2",
          "10-3",
          "10-4"
         ],
         "y": [
          0,
          0,
          0
         ]
        },
        {
         "line": {
          "dash": "dashdot"
         },
         "name": "禅道bug(涂成芳)",
         "type": "scatter",
         "uid": "be89fb2b-e18a-11e8-8ddb-a41f72875c19",
         "x": [
          "10-2",
          "10-3",
          "10-4"
         ],
         "y": [
          null,
          null,
          0
         ]
        },
        {
         "line": {
          "dash": "longdashdot"
         },
         "name": "禅道bug(赵玥)",
         "type": "scatter",
         "uid": "be89fb2c-e18a-11e8-8ddb-a41f72875c19",
         "x": [
          "10-2",
          "10-3",
          "10-4"
         ],
         "y": [
          0,
          0,
          0
         ]
        },
        {
         "line": {
          "dash": "solid"
         },
         "name": "禅道bug(封彦杰)",
         "type": "scatter",
         "uid": "be89fb2d-e18a-11e8-8ddb-a41f72875c19",
         "x": [
          "10-2",
          "10-3",
          "10-4"
         ],
         "y": [
          0,
          0,
          0
         ]
        },
        {
         "line": {
          "dash": "dot"
         },
         "name": "禅道bug(周杨)",
         "type": "scatter",
         "uid": "be89fb2e-e18a-11e8-8ddb-a41f72875c19",
         "x": [
          "10-2",
          "10-3",
          "10-4"
         ],
         "y": [
          0,
          0,
          0
         ]
        },
        {
         "line": {
          "dash": "dash"
         },
         "name": "禅道bug(刘江)",
         "type": "scatter",
         "uid": "be89fb2f-e18a-11e8-8ddb-a41f72875c19",
         "x": [
          "10-2",
          "10-3",
          "10-4"
         ],
         "y": [
          0,
          0,
          0
         ]
        },
        {
         "line": {
          "dash": "longdash"
         },
         "name": "禅道bug(苏彦勋)",
         "type": "scatter",
         "uid": "be89fb30-e18a-11e8-8ddb-a41f72875c19",
         "x": [
          "10-2",
          "10-3",
          "10-4"
         ],
         "y": [
          null,
          0,
          0
         ]
        },
        {
         "line": {
          "dash": "dashdot"
         },
         "name": "禅道bug(任雪)",
         "type": "scatter",
         "uid": "be89fb31-e18a-11e8-8ddb-a41f72875c19",
         "x": [
          "10-2",
          "10-3",
          "10-4"
         ],
         "y": [
          0,
          0,
          0
         ]
        },
        {
         "line": {
          "dash": "longdashdot"
         },
         "name": "禅道bug(段利强)",
         "type": "scatter",
         "uid": "be89fb32-e18a-11e8-8ddb-a41f72875c19",
         "x": [
          "10-2",
          "10-3",
          "10-4"
         ],
         "y": [
          0,
          null,
          null
         ]
        },
        {
         "line": {
          "dash": "solid"
         },
         "name": "禅道bug(陈鹏燕)",
         "type": "scatter",
         "uid": "be89fb33-e18a-11e8-8ddb-a41f72875c19",
         "x": [
          "10-2",
          "10-3",
          "10-4"
         ],
         "y": [
          null,
          0,
          0
         ]
        },
        {
         "line": {
          "dash": "dot"
         },
         "name": "禅道bug(车天栋)",
         "type": "scatter",
         "uid": "be89fb34-e18a-11e8-8ddb-a41f72875c19",
         "x": [
          "10-2",
          "10-3",
          "10-4"
         ],
         "y": [
          null,
          null,
          0
         ]
        },
        {
         "line": {
          "dash": "dash"
         },
         "name": "禅道bug(李华云)",
         "type": "scatter",
         "uid": "be89fb35-e18a-11e8-8ddb-a41f72875c19",
         "x": [
          "10-2",
          "10-3",
          "10-4"
         ],
         "y": [
          null,
          null,
          0
         ]
        }
       ],
       "layout": {
        "title": "市场支持&内部沟通&出差&禅道bug周趋势图",
        "xaxis": {
         "mirror": "all",
         "nticks": 20,
         "showgrid": true,
         "showline": true,
         "title": "周",
         "type": "category",
         "zeroline": true
        },
        "yaxis": {
         "mirror": "all",
         "nticks": 20,
         "showgrid": true,
         "showline": true,
         "title": "市场支持&内部沟通&出差&禅道bug",
         "zeroline": true
        }
       }
      },
      "text/html": [
       "<div id=\"0bb2e303-c87c-47e2-a6c9-b5b356344fa3\" style=\"height: 525px; width: 100%;\" class=\"plotly-graph-div\"></div><script type=\"text/javascript\">require([\"plotly\"], function(Plotly) { window.PLOTLYENV=window.PLOTLYENV || {};window.PLOTLYENV.BASE_URL=\"https://plot.ly\";Plotly.newPlot(\"0bb2e303-c87c-47e2-a6c9-b5b356344fa3\", [{\"line\": {\"dash\": \"solid\"}, \"name\": \"\\u5e02\\u573a\\u652f\\u6301(\\u6797\\u6587\\u6587)\", \"x\": [\"10-2\", \"10-3\", \"10-4\"], \"y\": [null, null, 0.0], \"type\": \"scatter\", \"uid\": \"be89fab2-e18a-11e8-8ddb-a41f72875c19\"}, {\"line\": {\"dash\": \"dot\"}, \"name\": \"\\u5e02\\u573a\\u652f\\u6301(\\u5c48\\u6602)\", \"x\": [\"10-2\", \"10-3\", \"10-4\"], \"y\": [0.0, null, 0.0], \"type\": \"scatter\", \"uid\": \"be89fab3-e18a-11e8-8ddb-a41f72875c19\"}, {\"line\": {\"dash\": \"dash\"}, \"name\": \"\\u5e02\\u573a\\u652f\\u6301(\\u59da\\u76df\\u6210)\", \"x\": [\"10-2\", \"10-3\", \"10-4\"], \"y\": [0.0, 1.0, 0.0], \"type\": \"scatter\", \"uid\": \"be89fab4-e18a-11e8-8ddb-a41f72875c19\"}, {\"line\": {\"dash\": \"longdash\"}, \"name\": \"\\u5e02\\u573a\\u652f\\u6301(\\u51b7\\u96ea)\", \"x\": [\"10-2\", \"10-3\", \"10-4\"], \"y\": [0.0, null, 0.0], \"type\": \"scatter\", \"uid\": \"be89fab5-e18a-11e8-8ddb-a41f72875c19\"}, {\"line\": {\"dash\": \"dashdot\"}, \"name\": \"\\u5e02\\u573a\\u652f\\u6301(\\u97e9\\u5c11\\u6000)\", \"x\": [\"10-2\", \"10-3\", \"10-4\"], \"y\": [0.0, 0.0, 0.0], \"type\": \"scatter\", \"uid\": \"be89fab6-e18a-11e8-8ddb-a41f72875c19\"}, {\"line\": {\"dash\": \"longdashdot\"}, \"name\": \"\\u5e02\\u573a\\u652f\\u6301(\\u674e\\u5e86\\u539f)\", \"x\": [\"10-2\", \"10-3\", \"10-4\"], \"y\": [0.0, 0.0, 0.0], \"type\": \"scatter\", \"uid\": \"be89fab7-e18a-11e8-8ddb-a41f72875c19\"}, {\"line\": {\"dash\": \"solid\"}, \"name\": \"\\u5e02\\u573a\\u652f\\u6301(\\u5218\\u4e09\\u9633)\", \"x\": [\"10-2\", \"10-3\", \"10-4\"], \"y\": [null, 0.0, null], \"type\": \"scatter\", \"uid\": \"be89fab8-e18a-11e8-8ddb-a41f72875c19\"}, {\"line\": {\"dash\": \"dot\"}, \"name\": \"\\u5e02\\u573a\\u652f\\u6301(\\u6c88\\u6069\\u60e0)\", \"x\": [\"10-2\", \"10-3\", \"10-4\"], \"y\": [null, null, 0.0], \"type\": \"scatter\", \"uid\": \"be89fab9-e18a-11e8-8ddb-a41f72875c19\"}, {\"line\": {\"dash\": \"dash\"}, \"name\": \"\\u5e02\\u573a\\u652f\\u6301(\\u6636\\u5409\\u9633)\", \"x\": [\"10-2\", \"10-3\", \"10-4\"], \"y\": [null, 0.0, 0.0], \"type\": \"scatter\", \"uid\": \"be89faba-e18a-11e8-8ddb-a41f72875c19\"}, {\"line\": {\"dash\": \"longdash\"}, \"name\": \"\\u5e02\\u573a\\u652f\\u6301(\\u6768\\u4f1f\\u98de)\", \"x\": [\"10-2\", \"10-3\", \"10-4\"], \"y\": [0.0, 1.0, 0.0], \"type\": \"scatter\", \"uid\": \"be89fabb-e18a-11e8-8ddb-a41f72875c19\"}, {\"line\": {\"dash\": \"dashdot\"}, \"name\": \"\\u5e02\\u573a\\u652f\\u6301(\\u738b\\u7ea2)\", \"x\": [\"10-2\", \"10-3\", \"10-4\"], \"y\": [null, null, 0.0], \"type\": \"scatter\", \"uid\": \"be89fabc-e18a-11e8-8ddb-a41f72875c19\"}, {\"line\": {\"dash\": \"longdashdot\"}, \"name\": \"\\u5e02\\u573a\\u652f\\u6301(\\u4e8e\\u52c7\\u4e00)\", \"x\": [\"10-2\", \"10-3\", \"10-4\"], \"y\": [0.0, 0.0, 0.0], \"type\": \"scatter\", \"uid\": \"be89fabd-e18a-11e8-8ddb-a41f72875c19\"}, {\"line\": {\"dash\": \"solid\"}, \"name\": \"\\u5e02\\u573a\\u652f\\u6301(\\u4e8e\\u6167)\", \"x\": [\"10-2\", \"10-3\", \"10-4\"], \"y\": [0.0, 0.0, 0.0], \"type\": \"scatter\", \"uid\": \"be89fabe-e18a-11e8-8ddb-a41f72875c19\"}, {\"line\": {\"dash\": \"dot\"}, \"name\": \"\\u5e02\\u573a\\u652f\\u6301(\\u8c22\\u5fb7\\u5065)\", \"x\": [\"10-2\", \"10-3\", \"10-4\"], \"y\": [0.0, 0.0, 0.0], \"type\": \"scatter\", \"uid\": \"be89fabf-e18a-11e8-8ddb-a41f72875c19\"}, {\"line\": {\"dash\": \"dash\"}, \"name\": \"\\u5e02\\u573a\\u652f\\u6301(\\u8303\\u65ed\\u5b81)\", \"x\": [\"10-2\", \"10-3\", \"10-4\"], \"y\": [0.0, 0.0, 0.0], \"type\": \"scatter\", \"uid\": \"be89fac0-e18a-11e8-8ddb-a41f72875c19\"}, {\"line\": {\"dash\": \"longdash\"}, \"name\": \"\\u5e02\\u573a\\u652f\\u6301(\\u5360\\u4f1f)\", \"x\": [\"10-2\", \"10-3\", \"10-4\"], \"y\": [0.0, 1.0, 0.0], \"type\": \"scatter\", \"uid\": \"be89fac1-e18a-11e8-8ddb-a41f72875c19\"}, {\"line\": {\"dash\": \"dashdot\"}, \"name\": \"\\u5e02\\u573a\\u652f\\u6301(\\u5f20\\u60a6)\", \"x\": [\"10-2\", \"10-3\", \"10-4\"], \"y\": [null, null, 0.0], \"type\": \"scatter\", \"uid\": \"be89fac2-e18a-11e8-8ddb-a41f72875c19\"}, {\"line\": {\"dash\": \"longdashdot\"}, \"name\": \"\\u5e02\\u573a\\u652f\\u6301(\\u5f20\\u5b88\\u4f1f)\", \"x\": [\"10-2\", \"10-3\", \"10-4\"], \"y\": [0.0, 0.0, 0.0], \"type\": \"scatter\", \"uid\": \"be89fac3-e18a-11e8-8ddb-a41f72875c19\"}, {\"line\": {\"dash\": \"solid\"}, \"name\": \"\\u5e02\\u573a\\u652f\\u6301(\\u8def\\u6167\\u840d)\", \"x\": [\"10-2\", \"10-3\", \"10-4\"], \"y\": [0.0, 0.0, 0.0], \"type\": \"scatter\", \"uid\": \"be89fac4-e18a-11e8-8ddb-a41f72875c19\"}, {\"line\": {\"dash\": \"dot\"}, \"name\": \"\\u5e02\\u573a\\u652f\\u6301(\\u51af\\u656c\\u5ca9)\", \"x\": [\"10-2\", \"10-3\", \"10-4\"], \"y\": [null, null, 0.0], \"type\": \"scatter\", \"uid\": \"be89fac5-e18a-11e8-8ddb-a41f72875c19\"}, {\"line\": {\"dash\": \"dash\"}, \"name\": \"\\u5e02\\u573a\\u652f\\u6301(\\u9a6c\\u6f47)\", \"x\": [\"10-2\", \"10-3\", \"10-4\"], \"y\": [0.0, 0.0, 0.0], \"type\": \"scatter\", \"uid\": \"be89fac6-e18a-11e8-8ddb-a41f72875c19\"}, {\"line\": {\"dash\": \"longdash\"}, \"name\": \"\\u5e02\\u573a\\u652f\\u6301(\\u5b5f\\u660a)\", \"x\": [\"10-2\", \"10-3\", \"10-4\"], \"y\": [0.0, 0.0, 0.0], \"type\": \"scatter\", \"uid\": \"be89fac7-e18a-11e8-8ddb-a41f72875c19\"}, {\"line\": {\"dash\": \"dashdot\"}, \"name\": \"\\u5e02\\u573a\\u652f\\u6301(\\u6d82\\u6210\\u82b3)\", \"x\": [\"10-2\", \"10-3\", \"10-4\"], \"y\": [null, null, 0.0], \"type\": \"scatter\", \"uid\": \"be89fac8-e18a-11e8-8ddb-a41f72875c19\"}, {\"line\": {\"dash\": \"longdashdot\"}, \"name\": \"\\u5e02\\u573a\\u652f\\u6301(\\u8d75\\u73a5)\", \"x\": [\"10-2\", \"10-3\", \"10-4\"], \"y\": [0.0, 0.0, 0.0], \"type\": \"scatter\", \"uid\": \"be89fac9-e18a-11e8-8ddb-a41f72875c19\"}, {\"line\": {\"dash\": \"solid\"}, \"name\": \"\\u5e02\\u573a\\u652f\\u6301(\\u5c01\\u5f66\\u6770)\", \"x\": [\"10-2\", \"10-3\", \"10-4\"], \"y\": [0.0, 0.0, 0.0], \"type\": \"scatter\", \"uid\": \"be89faca-e18a-11e8-8ddb-a41f72875c19\"}, {\"line\": {\"dash\": \"dot\"}, \"name\": \"\\u5e02\\u573a\\u652f\\u6301(\\u5468\\u6768)\", \"x\": [\"10-2\", \"10-3\", \"10-4\"], \"y\": [0.0, 0.0, 0.0], \"type\": \"scatter\", \"uid\": \"be89facb-e18a-11e8-8ddb-a41f72875c19\"}, {\"line\": {\"dash\": \"dash\"}, \"name\": \"\\u5e02\\u573a\\u652f\\u6301(\\u5218\\u6c5f)\", \"x\": [\"10-2\", \"10-3\", \"10-4\"], \"y\": [0.0, 1.0, 0.0], \"type\": \"scatter\", \"uid\": \"be89facc-e18a-11e8-8ddb-a41f72875c19\"}, {\"line\": {\"dash\": \"longdash\"}, \"name\": \"\\u5e02\\u573a\\u652f\\u6301(\\u82cf\\u5f66\\u52cb)\", \"x\": [\"10-2\", \"10-3\", \"10-4\"], \"y\": [null, 0.0, 0.0], \"type\": \"scatter\", \"uid\": \"be89facd-e18a-11e8-8ddb-a41f72875c19\"}, {\"line\": {\"dash\": \"dashdot\"}, \"name\": \"\\u5e02\\u573a\\u652f\\u6301(\\u4efb\\u96ea)\", \"x\": [\"10-2\", \"10-3\", \"10-4\"], \"y\": [0.0, 1.0, 0.0], \"type\": \"scatter\", \"uid\": \"be89face-e18a-11e8-8ddb-a41f72875c19\"}, {\"line\": {\"dash\": \"longdashdot\"}, \"name\": \"\\u5e02\\u573a\\u652f\\u6301(\\u6bb5\\u5229\\u5f3a)\", \"x\": [\"10-2\", \"10-3\", \"10-4\"], \"y\": [0.0, null, null], \"type\": \"scatter\", \"uid\": \"be89facf-e18a-11e8-8ddb-a41f72875c19\"}, {\"line\": {\"dash\": \"solid\"}, \"name\": \"\\u5e02\\u573a\\u652f\\u6301(\\u9648\\u9e4f\\u71d5)\", \"x\": [\"10-2\", \"10-3\", \"10-4\"], \"y\": [null, 0.0, 0.0], \"type\": \"scatter\", \"uid\": \"be89fad0-e18a-11e8-8ddb-a41f72875c19\"}, {\"line\": {\"dash\": \"dot\"}, \"name\": \"\\u5e02\\u573a\\u652f\\u6301(\\u8f66\\u5929\\u680b)\", \"x\": [\"10-2\", \"10-3\", \"10-4\"], \"y\": [null, null, 0.0], \"type\": \"scatter\", \"uid\": \"be89fad1-e18a-11e8-8ddb-a41f72875c19\"}, {\"line\": {\"dash\": \"dash\"}, \"name\": \"\\u5e02\\u573a\\u652f\\u6301(\\u674e\\u534e\\u4e91)\", \"x\": [\"10-2\", \"10-3\", \"10-4\"], \"y\": [null, null, 0.0], \"type\": \"scatter\", \"uid\": \"be89fad2-e18a-11e8-8ddb-a41f72875c19\"}, {\"line\": {\"dash\": \"solid\"}, \"name\": \"\\u5185\\u90e8\\u6c9f\\u901a(\\u6797\\u6587\\u6587)\", \"x\": [\"10-2\", \"10-3\", \"10-4\"], \"y\": [null, null, 0.0], \"type\": \"scatter\", \"uid\": \"be89fad3-e18a-11e8-8ddb-a41f72875c19\"}, {\"line\": {\"dash\": \"dot\"}, \"name\": \"\\u5185\\u90e8\\u6c9f\\u901a(\\u5c48\\u6602)\", \"x\": [\"10-2\", \"10-3\", \"10-4\"], \"y\": [0.0, null, 0.0], \"type\": \"scatter\", \"uid\": \"be89fad4-e18a-11e8-8ddb-a41f72875c19\"}, {\"line\": {\"dash\": \"dash\"}, \"name\": \"\\u5185\\u90e8\\u6c9f\\u901a(\\u59da\\u76df\\u6210)\", \"x\": [\"10-2\", \"10-3\", \"10-4\"], \"y\": [0.0, 0.0, 4.0], \"type\": \"scatter\", \"uid\": \"be89fad5-e18a-11e8-8ddb-a41f72875c19\"}, {\"line\": {\"dash\": \"longdash\"}, \"name\": \"\\u5185\\u90e8\\u6c9f\\u901a(\\u51b7\\u96ea)\", \"x\": [\"10-2\", \"10-3\", \"10-4\"], \"y\": [0.0, null, 0.0], \"type\": \"scatter\", \"uid\": \"be89fad6-e18a-11e8-8ddb-a41f72875c19\"}, {\"line\": {\"dash\": \"dashdot\"}, \"name\": \"\\u5185\\u90e8\\u6c9f\\u901a(\\u97e9\\u5c11\\u6000)\", \"x\": [\"10-2\", \"10-3\", \"10-4\"], \"y\": [0.0, 0.0, 0.0], \"type\": \"scatter\", \"uid\": \"be89fad7-e18a-11e8-8ddb-a41f72875c19\"}, {\"line\": {\"dash\": \"longdashdot\"}, \"name\": \"\\u5185\\u90e8\\u6c9f\\u901a(\\u674e\\u5e86\\u539f)\", \"x\": [\"10-2\", \"10-3\", \"10-4\"], \"y\": [0.0, 0.0, 1.0], \"type\": \"scatter\", \"uid\": \"be89fad8-e18a-11e8-8ddb-a41f72875c19\"}, {\"line\": {\"dash\": \"solid\"}, \"name\": \"\\u5185\\u90e8\\u6c9f\\u901a(\\u5218\\u4e09\\u9633)\", \"x\": [\"10-2\", \"10-3\", \"10-4\"], \"y\": [null, 0.0, null], \"type\": \"scatter\", \"uid\": \"be89fad9-e18a-11e8-8ddb-a41f72875c19\"}, {\"line\": {\"dash\": \"dot\"}, \"name\": \"\\u5185\\u90e8\\u6c9f\\u901a(\\u6c88\\u6069\\u60e0)\", \"x\": [\"10-2\", \"10-3\", \"10-4\"], \"y\": [null, null, 0.0], \"type\": \"scatter\", \"uid\": \"be89fada-e18a-11e8-8ddb-a41f72875c19\"}, {\"line\": {\"dash\": \"dash\"}, \"name\": \"\\u5185\\u90e8\\u6c9f\\u901a(\\u6636\\u5409\\u9633)\", \"x\": [\"10-2\", \"10-3\", \"10-4\"], \"y\": [null, 0.0, 0.0], \"type\": \"scatter\", \"uid\": \"be89fadb-e18a-11e8-8ddb-a41f72875c19\"}, {\"line\": {\"dash\": \"longdash\"}, \"name\": \"\\u5185\\u90e8\\u6c9f\\u901a(\\u6768\\u4f1f\\u98de)\", \"x\": [\"10-2\", \"10-3\", \"10-4\"], \"y\": [0.0, 0.0, 0.0], \"type\": \"scatter\", \"uid\": \"be89fadc-e18a-11e8-8ddb-a41f72875c19\"}, {\"line\": {\"dash\": \"dashdot\"}, \"name\": \"\\u5185\\u90e8\\u6c9f\\u901a(\\u738b\\u7ea2)\", \"x\": [\"10-2\", \"10-3\", \"10-4\"], \"y\": [null, null, 0.0], \"type\": \"scatter\", \"uid\": \"be89fadd-e18a-11e8-8ddb-a41f72875c19\"}, {\"line\": {\"dash\": \"longdashdot\"}, \"name\": \"\\u5185\\u90e8\\u6c9f\\u901a(\\u4e8e\\u52c7\\u4e00)\", \"x\": [\"10-2\", \"10-3\", \"10-4\"], \"y\": [0.0, 0.0, 0.0], \"type\": \"scatter\", \"uid\": \"be89fade-e18a-11e8-8ddb-a41f72875c19\"}, {\"line\": {\"dash\": \"solid\"}, \"name\": \"\\u5185\\u90e8\\u6c9f\\u901a(\\u4e8e\\u6167)\", \"x\": [\"10-2\", \"10-3\", \"10-4\"], \"y\": [0.0, 0.0, 0.0], \"type\": \"scatter\", \"uid\": \"be89fadf-e18a-11e8-8ddb-a41f72875c19\"}, {\"line\": {\"dash\": \"dot\"}, \"name\": \"\\u5185\\u90e8\\u6c9f\\u901a(\\u8c22\\u5fb7\\u5065)\", \"x\": [\"10-2\", \"10-3\", \"10-4\"], \"y\": [0.0, 0.0, 0.0], \"type\": \"scatter\", \"uid\": \"be89fae0-e18a-11e8-8ddb-a41f72875c19\"}, {\"line\": {\"dash\": \"dash\"}, \"name\": \"\\u5185\\u90e8\\u6c9f\\u901a(\\u8303\\u65ed\\u5b81)\", \"x\": [\"10-2\", \"10-3\", \"10-4\"], \"y\": [0.0, 0.0, 0.0], \"type\": \"scatter\", \"uid\": \"be89fae1-e18a-11e8-8ddb-a41f72875c19\"}, {\"line\": {\"dash\": \"longdash\"}, \"name\": \"\\u5185\\u90e8\\u6c9f\\u901a(\\u5360\\u4f1f)\", \"x\": [\"10-2\", \"10-3\", \"10-4\"], \"y\": [0.0, 0.0, 0.0], \"type\": \"scatter\", \"uid\": \"be89fae2-e18a-11e8-8ddb-a41f72875c19\"}, {\"line\": {\"dash\": \"dashdot\"}, \"name\": \"\\u5185\\u90e8\\u6c9f\\u901a(\\u5f20\\u60a6)\", \"x\": [\"10-2\", \"10-3\", \"10-4\"], \"y\": [null, null, 0.0], \"type\": \"scatter\", \"uid\": \"be89fae3-e18a-11e8-8ddb-a41f72875c19\"}, {\"line\": {\"dash\": \"longdashdot\"}, \"name\": \"\\u5185\\u90e8\\u6c9f\\u901a(\\u5f20\\u5b88\\u4f1f)\", \"x\": [\"10-2\", \"10-3\", \"10-4\"], \"y\": [0.0, 0.0, 0.0], \"type\": \"scatter\", \"uid\": \"be89fae4-e18a-11e8-8ddb-a41f72875c19\"}, {\"line\": {\"dash\": \"solid\"}, \"name\": \"\\u5185\\u90e8\\u6c9f\\u901a(\\u8def\\u6167\\u840d)\", \"x\": [\"10-2\", \"10-3\", \"10-4\"], \"y\": [0.0, 0.0, 0.0], \"type\": \"scatter\", \"uid\": \"be89fae5-e18a-11e8-8ddb-a41f72875c19\"}, {\"line\": {\"dash\": \"dot\"}, \"name\": \"\\u5185\\u90e8\\u6c9f\\u901a(\\u51af\\u656c\\u5ca9)\", \"x\": [\"10-2\", \"10-3\", \"10-4\"], \"y\": [null, null, 0.0], \"type\": \"scatter\", \"uid\": \"be89fae6-e18a-11e8-8ddb-a41f72875c19\"}, {\"line\": {\"dash\": \"dash\"}, \"name\": \"\\u5185\\u90e8\\u6c9f\\u901a(\\u9a6c\\u6f47)\", \"x\": [\"10-2\", \"10-3\", \"10-4\"], \"y\": [0.0, 0.0, 0.0], \"type\": \"scatter\", \"uid\": \"be89fae7-e18a-11e8-8ddb-a41f72875c19\"}, {\"line\": {\"dash\": \"longdash\"}, \"name\": \"\\u5185\\u90e8\\u6c9f\\u901a(\\u5b5f\\u660a)\", \"x\": [\"10-2\", \"10-3\", \"10-4\"], \"y\": [0.0, 0.0, 0.0], \"type\": \"scatter\", \"uid\": \"be89fae8-e18a-11e8-8ddb-a41f72875c19\"}, {\"line\": {\"dash\": \"dashdot\"}, \"name\": \"\\u5185\\u90e8\\u6c9f\\u901a(\\u6d82\\u6210\\u82b3)\", \"x\": [\"10-2\", \"10-3\", \"10-4\"], \"y\": [null, null, 0.0], \"type\": \"scatter\", \"uid\": \"be89fae9-e18a-11e8-8ddb-a41f72875c19\"}, {\"line\": {\"dash\": \"longdashdot\"}, \"name\": \"\\u5185\\u90e8\\u6c9f\\u901a(\\u8d75\\u73a5)\", \"x\": [\"10-2\", \"10-3\", \"10-4\"], \"y\": [0.0, 0.0, 0.0], \"type\": \"scatter\", \"uid\": \"be89faea-e18a-11e8-8ddb-a41f72875c19\"}, {\"line\": {\"dash\": \"solid\"}, \"name\": \"\\u5185\\u90e8\\u6c9f\\u901a(\\u5c01\\u5f66\\u6770)\", \"x\": [\"10-2\", \"10-3\", \"10-4\"], \"y\": [0.0, 0.0, 0.0], \"type\": \"scatter\", \"uid\": \"be89faeb-e18a-11e8-8ddb-a41f72875c19\"}, {\"line\": {\"dash\": \"dot\"}, \"name\": \"\\u5185\\u90e8\\u6c9f\\u901a(\\u5468\\u6768)\", \"x\": [\"10-2\", \"10-3\", \"10-4\"], \"y\": [0.0, 0.0, 2.0], \"type\": \"scatter\", \"uid\": \"be89faec-e18a-11e8-8ddb-a41f72875c19\"}, {\"line\": {\"dash\": \"dash\"}, \"name\": \"\\u5185\\u90e8\\u6c9f\\u901a(\\u5218\\u6c5f)\", \"x\": [\"10-2\", \"10-3\", \"10-4\"], \"y\": [0.0, 0.0, 0.0], \"type\": \"scatter\", \"uid\": \"be89faed-e18a-11e8-8ddb-a41f72875c19\"}, {\"line\": {\"dash\": \"longdash\"}, \"name\": \"\\u5185\\u90e8\\u6c9f\\u901a(\\u82cf\\u5f66\\u52cb)\", \"x\": [\"10-2\", \"10-3\", \"10-4\"], \"y\": [null, 0.0, 0.0], \"type\": \"scatter\", \"uid\": \"be89faee-e18a-11e8-8ddb-a41f72875c19\"}, {\"line\": {\"dash\": \"dashdot\"}, \"name\": \"\\u5185\\u90e8\\u6c9f\\u901a(\\u4efb\\u96ea)\", \"x\": [\"10-2\", \"10-3\", \"10-4\"], \"y\": [0.0, 0.0, 0.0], \"type\": \"scatter\", \"uid\": \"be89faef-e18a-11e8-8ddb-a41f72875c19\"}, {\"line\": {\"dash\": \"longdashdot\"}, \"name\": \"\\u5185\\u90e8\\u6c9f\\u901a(\\u6bb5\\u5229\\u5f3a)\", \"x\": [\"10-2\", \"10-3\", \"10-4\"], \"y\": [0.0, null, null], \"type\": \"scatter\", \"uid\": \"be89faf0-e18a-11e8-8ddb-a41f72875c19\"}, {\"line\": {\"dash\": \"solid\"}, \"name\": \"\\u5185\\u90e8\\u6c9f\\u901a(\\u9648\\u9e4f\\u71d5)\", \"x\": [\"10-2\", \"10-3\", \"10-4\"], \"y\": [null, 0.0, 0.0], \"type\": \"scatter\", \"uid\": \"be89faf1-e18a-11e8-8ddb-a41f72875c19\"}, {\"line\": {\"dash\": \"dot\"}, \"name\": \"\\u5185\\u90e8\\u6c9f\\u901a(\\u8f66\\u5929\\u680b)\", \"x\": [\"10-2\", \"10-3\", \"10-4\"], \"y\": [null, null, 0.0], \"type\": \"scatter\", \"uid\": \"be89faf2-e18a-11e8-8ddb-a41f72875c19\"}, {\"line\": {\"dash\": \"dash\"}, \"name\": \"\\u5185\\u90e8\\u6c9f\\u901a(\\u674e\\u534e\\u4e91)\", \"x\": [\"10-2\", \"10-3\", \"10-4\"], \"y\": [null, null, 0.0], \"type\": \"scatter\", \"uid\": \"be89faf3-e18a-11e8-8ddb-a41f72875c19\"}, {\"line\": {\"dash\": \"solid\"}, \"name\": \"\\u51fa\\u5dee(\\u6797\\u6587\\u6587)\", \"x\": [\"10-2\", \"10-3\", \"10-4\"], \"y\": [null, null, 0.0], \"type\": \"scatter\", \"uid\": \"be89faf4-e18a-11e8-8ddb-a41f72875c19\"}, {\"line\": {\"dash\": \"dot\"}, \"name\": \"\\u51fa\\u5dee(\\u5c48\\u6602)\", \"x\": [\"10-2\", \"10-3\", \"10-4\"], \"y\": [0.0, null, 0.0], \"type\": \"scatter\", \"uid\": \"be89faf5-e18a-11e8-8ddb-a41f72875c19\"}, {\"line\": {\"dash\": \"dash\"}, \"name\": \"\\u51fa\\u5dee(\\u59da\\u76df\\u6210)\", \"x\": [\"10-2\", \"10-3\", \"10-4\"], \"y\": [0.0, 1.0, 0.0], \"type\": \"scatter\", \"uid\": \"be89faf6-e18a-11e8-8ddb-a41f72875c19\"}, {\"line\": {\"dash\": \"longdash\"}, \"name\": \"\\u51fa\\u5dee(\\u51b7\\u96ea)\", \"x\": [\"10-2\", \"10-3\", \"10-4\"], \"y\": [0.0, null, 0.0], \"type\": \"scatter\", \"uid\": \"be89faf7-e18a-11e8-8ddb-a41f72875c19\"}, {\"line\": {\"dash\": \"dashdot\"}, \"name\": \"\\u51fa\\u5dee(\\u97e9\\u5c11\\u6000)\", \"x\": [\"10-2\", \"10-3\", \"10-4\"], \"y\": [0.0, 0.0, 0.0], \"type\": \"scatter\", \"uid\": \"be89faf8-e18a-11e8-8ddb-a41f72875c19\"}, {\"line\": {\"dash\": \"longdashdot\"}, \"name\": \"\\u51fa\\u5dee(\\u674e\\u5e86\\u539f)\", \"x\": [\"10-2\", \"10-3\", \"10-4\"], \"y\": [0.0, 0.0, 0.0], \"type\": \"scatter\", \"uid\": \"be89faf9-e18a-11e8-8ddb-a41f72875c19\"}, {\"line\": {\"dash\": \"solid\"}, \"name\": \"\\u51fa\\u5dee(\\u5218\\u4e09\\u9633)\", \"x\": [\"10-2\", \"10-3\", \"10-4\"], \"y\": [null, 0.0, null], \"type\": \"scatter\", \"uid\": \"be89fafa-e18a-11e8-8ddb-a41f72875c19\"}, {\"line\": {\"dash\": \"dot\"}, \"name\": \"\\u51fa\\u5dee(\\u6c88\\u6069\\u60e0)\", \"x\": [\"10-2\", \"10-3\", \"10-4\"], \"y\": [null, null, 0.0], \"type\": \"scatter\", \"uid\": \"be89fafb-e18a-11e8-8ddb-a41f72875c19\"}, {\"line\": {\"dash\": \"dash\"}, \"name\": \"\\u51fa\\u5dee(\\u6636\\u5409\\u9633)\", \"x\": [\"10-2\", \"10-3\", \"10-4\"], \"y\": [null, 0.0, 0.0], \"type\": \"scatter\", \"uid\": \"be89fafc-e18a-11e8-8ddb-a41f72875c19\"}, {\"line\": {\"dash\": \"longdash\"}, \"name\": \"\\u51fa\\u5dee(\\u6768\\u4f1f\\u98de)\", \"x\": [\"10-2\", \"10-3\", \"10-4\"], \"y\": [0.0, 1.0, 0.0], \"type\": \"scatter\", \"uid\": \"be89fafd-e18a-11e8-8ddb-a41f72875c19\"}, {\"line\": {\"dash\": \"dashdot\"}, \"name\": \"\\u51fa\\u5dee(\\u738b\\u7ea2)\", \"x\": [\"10-2\", \"10-3\", \"10-4\"], \"y\": [null, null, 0.0], \"type\": \"scatter\", \"uid\": \"be89fafe-e18a-11e8-8ddb-a41f72875c19\"}, {\"line\": {\"dash\": \"longdashdot\"}, \"name\": \"\\u51fa\\u5dee(\\u4e8e\\u52c7\\u4e00)\", \"x\": [\"10-2\", \"10-3\", \"10-4\"], \"y\": [0.0, 0.0, 0.0], \"type\": \"scatter\", \"uid\": \"be89faff-e18a-11e8-8ddb-a41f72875c19\"}, {\"line\": {\"dash\": \"solid\"}, \"name\": \"\\u51fa\\u5dee(\\u4e8e\\u6167)\", \"x\": [\"10-2\", \"10-3\", \"10-4\"], \"y\": [0.0, 0.0, 0.0], \"type\": \"scatter\", \"uid\": \"be89fb00-e18a-11e8-8ddb-a41f72875c19\"}, {\"line\": {\"dash\": \"dot\"}, \"name\": \"\\u51fa\\u5dee(\\u8c22\\u5fb7\\u5065)\", \"x\": [\"10-2\", \"10-3\", \"10-4\"], \"y\": [0.0, 0.0, 0.0], \"type\": \"scatter\", \"uid\": \"be89fb01-e18a-11e8-8ddb-a41f72875c19\"}, {\"line\": {\"dash\": \"dash\"}, \"name\": \"\\u51fa\\u5dee(\\u8303\\u65ed\\u5b81)\", \"x\": [\"10-2\", \"10-3\", \"10-4\"], \"y\": [0.0, 0.0, 0.0], \"type\": \"scatter\", \"uid\": \"be89fb02-e18a-11e8-8ddb-a41f72875c19\"}, {\"line\": {\"dash\": \"longdash\"}, \"name\": \"\\u51fa\\u5dee(\\u5360\\u4f1f)\", \"x\": [\"10-2\", \"10-3\", \"10-4\"], \"y\": [0.0, 0.0, 0.0], \"type\": \"scatter\", \"uid\": \"be89fb03-e18a-11e8-8ddb-a41f72875c19\"}, {\"line\": {\"dash\": \"dashdot\"}, \"name\": \"\\u51fa\\u5dee(\\u5f20\\u60a6)\", \"x\": [\"10-2\", \"10-3\", \"10-4\"], \"y\": [null, null, 0.0], \"type\": \"scatter\", \"uid\": \"be89fb04-e18a-11e8-8ddb-a41f72875c19\"}, {\"line\": {\"dash\": \"longdashdot\"}, \"name\": \"\\u51fa\\u5dee(\\u5f20\\u5b88\\u4f1f)\", \"x\": [\"10-2\", \"10-3\", \"10-4\"], \"y\": [0.0, 0.0, 0.0], \"type\": \"scatter\", \"uid\": \"be89fb05-e18a-11e8-8ddb-a41f72875c19\"}, {\"line\": {\"dash\": \"solid\"}, \"name\": \"\\u51fa\\u5dee(\\u8def\\u6167\\u840d)\", \"x\": [\"10-2\", \"10-3\", \"10-4\"], \"y\": [0.0, 0.0, 0.0], \"type\": \"scatter\", \"uid\": \"be89fb06-e18a-11e8-8ddb-a41f72875c19\"}, {\"line\": {\"dash\": \"dot\"}, \"name\": \"\\u51fa\\u5dee(\\u51af\\u656c\\u5ca9)\", \"x\": [\"10-2\", \"10-3\", \"10-4\"], \"y\": [null, null, 0.0], \"type\": \"scatter\", \"uid\": \"be89fb07-e18a-11e8-8ddb-a41f72875c19\"}, {\"line\": {\"dash\": \"dash\"}, \"name\": \"\\u51fa\\u5dee(\\u9a6c\\u6f47)\", \"x\": [\"10-2\", \"10-3\", \"10-4\"], \"y\": [0.0, 0.0, 1.0], \"type\": \"scatter\", \"uid\": \"be89fb08-e18a-11e8-8ddb-a41f72875c19\"}, {\"line\": {\"dash\": \"longdash\"}, \"name\": \"\\u51fa\\u5dee(\\u5b5f\\u660a)\", \"x\": [\"10-2\", \"10-3\", \"10-4\"], \"y\": [0.0, 0.0, 0.0], \"type\": \"scatter\", \"uid\": \"be89fb09-e18a-11e8-8ddb-a41f72875c19\"}, {\"line\": {\"dash\": \"dashdot\"}, \"name\": \"\\u51fa\\u5dee(\\u6d82\\u6210\\u82b3)\", \"x\": [\"10-2\", \"10-3\", \"10-4\"], \"y\": [null, null, 0.0], \"type\": \"scatter\", \"uid\": \"be89fb0a-e18a-11e8-8ddb-a41f72875c19\"}, {\"line\": {\"dash\": \"longdashdot\"}, \"name\": \"\\u51fa\\u5dee(\\u8d75\\u73a5)\", \"x\": [\"10-2\", \"10-3\", \"10-4\"], \"y\": [0.0, 0.0, 0.0], \"type\": \"scatter\", \"uid\": \"be89fb0b-e18a-11e8-8ddb-a41f72875c19\"}, {\"line\": {\"dash\": \"solid\"}, \"name\": \"\\u51fa\\u5dee(\\u5c01\\u5f66\\u6770)\", \"x\": [\"10-2\", \"10-3\", \"10-4\"], \"y\": [0.0, 0.0, 0.0], \"type\": \"scatter\", \"uid\": \"be89fb0c-e18a-11e8-8ddb-a41f72875c19\"}, {\"line\": {\"dash\": \"dot\"}, \"name\": \"\\u51fa\\u5dee(\\u5468\\u6768)\", \"x\": [\"10-2\", \"10-3\", \"10-4\"], \"y\": [0.0, 0.0, 0.0], \"type\": \"scatter\", \"uid\": \"be89fb0d-e18a-11e8-8ddb-a41f72875c19\"}, {\"line\": {\"dash\": \"dash\"}, \"name\": \"\\u51fa\\u5dee(\\u5218\\u6c5f)\", \"x\": [\"10-2\", \"10-3\", \"10-4\"], \"y\": [0.0, 1.0, 0.0], \"type\": \"scatter\", \"uid\": \"be89fb0e-e18a-11e8-8ddb-a41f72875c19\"}, {\"line\": {\"dash\": \"longdash\"}, \"name\": \"\\u51fa\\u5dee(\\u82cf\\u5f66\\u52cb)\", \"x\": [\"10-2\", \"10-3\", \"10-4\"], \"y\": [null, 0.0, 1.0], \"type\": \"scatter\", \"uid\": \"be89fb0f-e18a-11e8-8ddb-a41f72875c19\"}, {\"line\": {\"dash\": \"dashdot\"}, \"name\": \"\\u51fa\\u5dee(\\u4efb\\u96ea)\", \"x\": [\"10-2\", \"10-3\", \"10-4\"], \"y\": [0.0, 1.0, 0.0], \"type\": \"scatter\", \"uid\": \"be89fb10-e18a-11e8-8ddb-a41f72875c19\"}, {\"line\": {\"dash\": \"longdashdot\"}, \"name\": \"\\u51fa\\u5dee(\\u6bb5\\u5229\\u5f3a)\", \"x\": [\"10-2\", \"10-3\", \"10-4\"], \"y\": [0.0, null, null], \"type\": \"scatter\", \"uid\": \"be89fb11-e18a-11e8-8ddb-a41f72875c19\"}, {\"line\": {\"dash\": \"solid\"}, \"name\": \"\\u51fa\\u5dee(\\u9648\\u9e4f\\u71d5)\", \"x\": [\"10-2\", \"10-3\", \"10-4\"], \"y\": [null, 0.0, 0.0], \"type\": \"scatter\", \"uid\": \"be89fb12-e18a-11e8-8ddb-a41f72875c19\"}, {\"line\": {\"dash\": \"dot\"}, \"name\": \"\\u51fa\\u5dee(\\u8f66\\u5929\\u680b)\", \"x\": [\"10-2\", \"10-3\", \"10-4\"], \"y\": [null, null, 0.0], \"type\": \"scatter\", \"uid\": \"be89fb13-e18a-11e8-8ddb-a41f72875c19\"}, {\"line\": {\"dash\": \"dash\"}, \"name\": \"\\u51fa\\u5dee(\\u674e\\u534e\\u4e91)\", \"x\": [\"10-2\", \"10-3\", \"10-4\"], \"y\": [null, null, 0.0], \"type\": \"scatter\", \"uid\": \"be89fb14-e18a-11e8-8ddb-a41f72875c19\"}, {\"line\": {\"dash\": \"solid\"}, \"name\": \"\\u7985\\u9053bug(\\u6797\\u6587\\u6587)\", \"x\": [\"10-2\", \"10-3\", \"10-4\"], \"y\": [null, null, 0.0], \"type\": \"scatter\", \"uid\": \"be89fb15-e18a-11e8-8ddb-a41f72875c19\"}, {\"line\": {\"dash\": \"dot\"}, \"name\": \"\\u7985\\u9053bug(\\u5c48\\u6602)\", \"x\": [\"10-2\", \"10-3\", \"10-4\"], \"y\": [0.0, null, 0.0], \"type\": \"scatter\", \"uid\": \"be89fb16-e18a-11e8-8ddb-a41f72875c19\"}, {\"line\": {\"dash\": \"dash\"}, \"name\": \"\\u7985\\u9053bug(\\u59da\\u76df\\u6210)\", \"x\": [\"10-2\", \"10-3\", \"10-4\"], \"y\": [0.0, 1.0, 1.0], \"type\": \"scatter\", \"uid\": \"be89fb17-e18a-11e8-8ddb-a41f72875c19\"}, {\"line\": {\"dash\": \"longdash\"}, \"name\": \"\\u7985\\u9053bug(\\u51b7\\u96ea)\", \"x\": [\"10-2\", \"10-3\", \"10-4\"], \"y\": [0.0, null, 0.0], \"type\": \"scatter\", \"uid\": \"be89fb18-e18a-11e8-8ddb-a41f72875c19\"}, {\"line\": {\"dash\": \"dashdot\"}, \"name\": \"\\u7985\\u9053bug(\\u97e9\\u5c11\\u6000)\", \"x\": [\"10-2\", \"10-3\", \"10-4\"], \"y\": [0.0, 0.0, 0.0], \"type\": \"scatter\", \"uid\": \"be89fb19-e18a-11e8-8ddb-a41f72875c19\"}, {\"line\": {\"dash\": \"longdashdot\"}, \"name\": \"\\u7985\\u9053bug(\\u674e\\u5e86\\u539f)\", \"x\": [\"10-2\", \"10-3\", \"10-4\"], \"y\": [0.0, 0.0, 0.0], \"type\": \"scatter\", \"uid\": \"be89fb1a-e18a-11e8-8ddb-a41f72875c19\"}, {\"line\": {\"dash\": \"solid\"}, \"name\": \"\\u7985\\u9053bug(\\u5218\\u4e09\\u9633)\", \"x\": [\"10-2\", \"10-3\", \"10-4\"], \"y\": [null, 0.0, null], \"type\": \"scatter\", \"uid\": \"be89fb1b-e18a-11e8-8ddb-a41f72875c19\"}, {\"line\": {\"dash\": \"dot\"}, \"name\": \"\\u7985\\u9053bug(\\u6c88\\u6069\\u60e0)\", \"x\": [\"10-2\", \"10-3\", \"10-4\"], \"y\": [null, null, 0.0], \"type\": \"scatter\", \"uid\": \"be89fb1c-e18a-11e8-8ddb-a41f72875c19\"}, {\"line\": {\"dash\": \"dash\"}, \"name\": \"\\u7985\\u9053bug(\\u6636\\u5409\\u9633)\", \"x\": [\"10-2\", \"10-3\", \"10-4\"], \"y\": [null, 0.0, 0.0], \"type\": \"scatter\", \"uid\": \"be89fb1d-e18a-11e8-8ddb-a41f72875c19\"}, {\"line\": {\"dash\": \"longdash\"}, \"name\": \"\\u7985\\u9053bug(\\u6768\\u4f1f\\u98de)\", \"x\": [\"10-2\", \"10-3\", \"10-4\"], \"y\": [0.0, 0.0, 0.0], \"type\": \"scatter\", \"uid\": \"be89fb1e-e18a-11e8-8ddb-a41f72875c19\"}, {\"line\": {\"dash\": \"dashdot\"}, \"name\": \"\\u7985\\u9053bug(\\u738b\\u7ea2)\", \"x\": [\"10-2\", \"10-3\", \"10-4\"], \"y\": [null, null, 0.0], \"type\": \"scatter\", \"uid\": \"be89fb1f-e18a-11e8-8ddb-a41f72875c19\"}, {\"line\": {\"dash\": \"longdashdot\"}, \"name\": \"\\u7985\\u9053bug(\\u4e8e\\u52c7\\u4e00)\", \"x\": [\"10-2\", \"10-3\", \"10-4\"], \"y\": [0.0, 0.0, 0.0], \"type\": \"scatter\", \"uid\": \"be89fb20-e18a-11e8-8ddb-a41f72875c19\"}, {\"line\": {\"dash\": \"solid\"}, \"name\": \"\\u7985\\u9053bug(\\u4e8e\\u6167)\", \"x\": [\"10-2\", \"10-3\", \"10-4\"], \"y\": [0.0, 0.0, 0.0], \"type\": \"scatter\", \"uid\": \"be89fb21-e18a-11e8-8ddb-a41f72875c19\"}, {\"line\": {\"dash\": \"dot\"}, \"name\": \"\\u7985\\u9053bug(\\u8c22\\u5fb7\\u5065)\", \"x\": [\"10-2\", \"10-3\", \"10-4\"], \"y\": [0.0, 0.0, 0.0], \"type\": \"scatter\", \"uid\": \"be89fb22-e18a-11e8-8ddb-a41f72875c19\"}, {\"line\": {\"dash\": \"dash\"}, \"name\": \"\\u7985\\u9053bug(\\u8303\\u65ed\\u5b81)\", \"x\": [\"10-2\", \"10-3\", \"10-4\"], \"y\": [0.0, 0.0, 0.0], \"type\": \"scatter\", \"uid\": \"be89fb23-e18a-11e8-8ddb-a41f72875c19\"}, {\"line\": {\"dash\": \"longdash\"}, \"name\": \"\\u7985\\u9053bug(\\u5360\\u4f1f)\", \"x\": [\"10-2\", \"10-3\", \"10-4\"], \"y\": [0.0, 0.0, 0.0], \"type\": \"scatter\", \"uid\": \"be89fb24-e18a-11e8-8ddb-a41f72875c19\"}, {\"line\": {\"dash\": \"dashdot\"}, \"name\": \"\\u7985\\u9053bug(\\u5f20\\u60a6)\", \"x\": [\"10-2\", \"10-3\", \"10-4\"], \"y\": [null, null, 0.0], \"type\": \"scatter\", \"uid\": \"be89fb25-e18a-11e8-8ddb-a41f72875c19\"}, {\"line\": {\"dash\": \"longdashdot\"}, \"name\": \"\\u7985\\u9053bug(\\u5f20\\u5b88\\u4f1f)\", \"x\": [\"10-2\", \"10-3\", \"10-4\"], \"y\": [0.0, 0.0, 0.0], \"type\": \"scatter\", \"uid\": \"be89fb26-e18a-11e8-8ddb-a41f72875c19\"}, {\"line\": {\"dash\": \"solid\"}, \"name\": \"\\u7985\\u9053bug(\\u8def\\u6167\\u840d)\", \"x\": [\"10-2\", \"10-3\", \"10-4\"], \"y\": [0.0, 0.0, 0.0], \"type\": \"scatter\", \"uid\": \"be89fb27-e18a-11e8-8ddb-a41f72875c19\"}, {\"line\": {\"dash\": \"dot\"}, \"name\": \"\\u7985\\u9053bug(\\u51af\\u656c\\u5ca9)\", \"x\": [\"10-2\", \"10-3\", \"10-4\"], \"y\": [null, null, 0.0], \"type\": \"scatter\", \"uid\": \"be89fb28-e18a-11e8-8ddb-a41f72875c19\"}, {\"line\": {\"dash\": \"dash\"}, \"name\": \"\\u7985\\u9053bug(\\u9a6c\\u6f47)\", \"x\": [\"10-2\", \"10-3\", \"10-4\"], \"y\": [0.0, 0.0, 0.0], \"type\": \"scatter\", \"uid\": \"be89fb29-e18a-11e8-8ddb-a41f72875c19\"}, {\"line\": {\"dash\": \"longdash\"}, \"name\": \"\\u7985\\u9053bug(\\u5b5f\\u660a)\", \"x\": [\"10-2\", \"10-3\", \"10-4\"], \"y\": [0.0, 0.0, 0.0], \"type\": \"scatter\", \"uid\": \"be89fb2a-e18a-11e8-8ddb-a41f72875c19\"}, {\"line\": {\"dash\": \"dashdot\"}, \"name\": \"\\u7985\\u9053bug(\\u6d82\\u6210\\u82b3)\", \"x\": [\"10-2\", \"10-3\", \"10-4\"], \"y\": [null, null, 0.0], \"type\": \"scatter\", \"uid\": \"be89fb2b-e18a-11e8-8ddb-a41f72875c19\"}, {\"line\": {\"dash\": \"longdashdot\"}, \"name\": \"\\u7985\\u9053bug(\\u8d75\\u73a5)\", \"x\": [\"10-2\", \"10-3\", \"10-4\"], \"y\": [0.0, 0.0, 0.0], \"type\": \"scatter\", \"uid\": \"be89fb2c-e18a-11e8-8ddb-a41f72875c19\"}, {\"line\": {\"dash\": \"solid\"}, \"name\": \"\\u7985\\u9053bug(\\u5c01\\u5f66\\u6770)\", \"x\": [\"10-2\", \"10-3\", \"10-4\"], \"y\": [0.0, 0.0, 0.0], \"type\": \"scatter\", \"uid\": \"be89fb2d-e18a-11e8-8ddb-a41f72875c19\"}, {\"line\": {\"dash\": \"dot\"}, \"name\": \"\\u7985\\u9053bug(\\u5468\\u6768)\", \"x\": [\"10-2\", \"10-3\", \"10-4\"], \"y\": [0.0, 0.0, 0.0], \"type\": \"scatter\", \"uid\": \"be89fb2e-e18a-11e8-8ddb-a41f72875c19\"}, {\"line\": {\"dash\": \"dash\"}, \"name\": \"\\u7985\\u9053bug(\\u5218\\u6c5f)\", \"x\": [\"10-2\", \"10-3\", \"10-4\"], \"y\": [0.0, 0.0, 0.0], \"type\": \"scatter\", \"uid\": \"be89fb2f-e18a-11e8-8ddb-a41f72875c19\"}, {\"line\": {\"dash\": \"longdash\"}, \"name\": \"\\u7985\\u9053bug(\\u82cf\\u5f66\\u52cb)\", \"x\": [\"10-2\", \"10-3\", \"10-4\"], \"y\": [null, 0.0, 0.0], \"type\": \"scatter\", \"uid\": \"be89fb30-e18a-11e8-8ddb-a41f72875c19\"}, {\"line\": {\"dash\": \"dashdot\"}, \"name\": \"\\u7985\\u9053bug(\\u4efb\\u96ea)\", \"x\": [\"10-2\", \"10-3\", \"10-4\"], \"y\": [0.0, 0.0, 0.0], \"type\": \"scatter\", \"uid\": \"be89fb31-e18a-11e8-8ddb-a41f72875c19\"}, {\"line\": {\"dash\": \"longdashdot\"}, \"name\": \"\\u7985\\u9053bug(\\u6bb5\\u5229\\u5f3a)\", \"x\": [\"10-2\", \"10-3\", \"10-4\"], \"y\": [0.0, null, null], \"type\": \"scatter\", \"uid\": \"be89fb32-e18a-11e8-8ddb-a41f72875c19\"}, {\"line\": {\"dash\": \"solid\"}, \"name\": \"\\u7985\\u9053bug(\\u9648\\u9e4f\\u71d5)\", \"x\": [\"10-2\", \"10-3\", \"10-4\"], \"y\": [null, 0.0, 0.0], \"type\": \"scatter\", \"uid\": \"be89fb33-e18a-11e8-8ddb-a41f72875c19\"}, {\"line\": {\"dash\": \"dot\"}, \"name\": \"\\u7985\\u9053bug(\\u8f66\\u5929\\u680b)\", \"x\": [\"10-2\", \"10-3\", \"10-4\"], \"y\": [null, null, 0.0], \"type\": \"scatter\", \"uid\": \"be89fb34-e18a-11e8-8ddb-a41f72875c19\"}, {\"line\": {\"dash\": \"dash\"}, \"name\": \"\\u7985\\u9053bug(\\u674e\\u534e\\u4e91)\", \"x\": [\"10-2\", \"10-3\", \"10-4\"], \"y\": [null, null, 0.0], \"type\": \"scatter\", \"uid\": \"be89fb35-e18a-11e8-8ddb-a41f72875c19\"}], {\"title\": \"\\u5e02\\u573a\\u652f\\u6301&\\u5185\\u90e8\\u6c9f\\u901a&\\u51fa\\u5dee&\\u7985\\u9053bug\\u5468\\u8d8b\\u52bf\\u56fe\", \"xaxis\": {\"mirror\": \"all\", \"nticks\": 20, \"showgrid\": true, \"showline\": true, \"title\": \"\\u5468\", \"type\": \"category\", \"zeroline\": true}, \"yaxis\": {\"mirror\": \"all\", \"nticks\": 20, \"showgrid\": true, \"showline\": true, \"title\": \"\\u5e02\\u573a\\u652f\\u6301&\\u5185\\u90e8\\u6c9f\\u901a&\\u51fa\\u5dee&\\u7985\\u9053bug\", \"zeroline\": true}}, {\"showLink\": true, \"linkText\": \"Export to plot.ly\"})});</script>"
      ],
      "text/vnd.plotly.v1+html": [
       "<div id=\"0bb2e303-c87c-47e2-a6c9-b5b356344fa3\" style=\"height: 525px; width: 100%;\" class=\"plotly-graph-div\"></div><script type=\"text/javascript\">require([\"plotly\"], function(Plotly) { window.PLOTLYENV=window.PLOTLYENV || {};window.PLOTLYENV.BASE_URL=\"https://plot.ly\";Plotly.newPlot(\"0bb2e303-c87c-47e2-a6c9-b5b356344fa3\", [{\"line\": {\"dash\": \"solid\"}, \"name\": \"\\u5e02\\u573a\\u652f\\u6301(\\u6797\\u6587\\u6587)\", \"x\": [\"10-2\", \"10-3\", \"10-4\"], \"y\": [null, null, 0.0], \"type\": \"scatter\", \"uid\": \"be89fab2-e18a-11e8-8ddb-a41f72875c19\"}, {\"line\": {\"dash\": \"dot\"}, \"name\": \"\\u5e02\\u573a\\u652f\\u6301(\\u5c48\\u6602)\", \"x\": [\"10-2\", \"10-3\", \"10-4\"], \"y\": [0.0, null, 0.0], \"type\": \"scatter\", \"uid\": \"be89fab3-e18a-11e8-8ddb-a41f72875c19\"}, {\"line\": {\"dash\": \"dash\"}, \"name\": \"\\u5e02\\u573a\\u652f\\u6301(\\u59da\\u76df\\u6210)\", \"x\": [\"10-2\", \"10-3\", \"10-4\"], \"y\": [0.0, 1.0, 0.0], \"type\": \"scatter\", \"uid\": \"be89fab4-e18a-11e8-8ddb-a41f72875c19\"}, {\"line\": {\"dash\": \"longdash\"}, \"name\": \"\\u5e02\\u573a\\u652f\\u6301(\\u51b7\\u96ea)\", \"x\": [\"10-2\", \"10-3\", \"10-4\"], \"y\": [0.0, null, 0.0], \"type\": \"scatter\", \"uid\": \"be89fab5-e18a-11e8-8ddb-a41f72875c19\"}, {\"line\": {\"dash\": \"dashdot\"}, \"name\": \"\\u5e02\\u573a\\u652f\\u6301(\\u97e9\\u5c11\\u6000)\", \"x\": [\"10-2\", \"10-3\", \"10-4\"], \"y\": [0.0, 0.0, 0.0], \"type\": \"scatter\", \"uid\": \"be89fab6-e18a-11e8-8ddb-a41f72875c19\"}, {\"line\": {\"dash\": \"longdashdot\"}, \"name\": \"\\u5e02\\u573a\\u652f\\u6301(\\u674e\\u5e86\\u539f)\", \"x\": [\"10-2\", \"10-3\", \"10-4\"], \"y\": [0.0, 0.0, 0.0], \"type\": \"scatter\", \"uid\": \"be89fab7-e18a-11e8-8ddb-a41f72875c19\"}, {\"line\": {\"dash\": \"solid\"}, \"name\": \"\\u5e02\\u573a\\u652f\\u6301(\\u5218\\u4e09\\u9633)\", \"x\": [\"10-2\", \"10-3\", \"10-4\"], \"y\": [null, 0.0, null], \"type\": \"scatter\", \"uid\": \"be89fab8-e18a-11e8-8ddb-a41f72875c19\"}, {\"line\": {\"dash\": \"dot\"}, \"name\": \"\\u5e02\\u573a\\u652f\\u6301(\\u6c88\\u6069\\u60e0)\", \"x\": [\"10-2\", \"10-3\", \"10-4\"], \"y\": [null, null, 0.0], \"type\": \"scatter\", \"uid\": \"be89fab9-e18a-11e8-8ddb-a41f72875c19\"}, {\"line\": {\"dash\": \"dash\"}, \"name\": \"\\u5e02\\u573a\\u652f\\u6301(\\u6636\\u5409\\u9633)\", \"x\": [\"10-2\", \"10-3\", \"10-4\"], \"y\": [null, 0.0, 0.0], \"type\": \"scatter\", \"uid\": \"be89faba-e18a-11e8-8ddb-a41f72875c19\"}, {\"line\": {\"dash\": \"longdash\"}, \"name\": \"\\u5e02\\u573a\\u652f\\u6301(\\u6768\\u4f1f\\u98de)\", \"x\": [\"10-2\", \"10-3\", \"10-4\"], \"y\": [0.0, 1.0, 0.0], \"type\": \"scatter\", \"uid\": \"be89fabb-e18a-11e8-8ddb-a41f72875c19\"}, {\"line\": {\"dash\": \"dashdot\"}, \"name\": \"\\u5e02\\u573a\\u652f\\u6301(\\u738b\\u7ea2)\", \"x\": [\"10-2\", \"10-3\", \"10-4\"], \"y\": [null, null, 0.0], \"type\": \"scatter\", \"uid\": \"be89fabc-e18a-11e8-8ddb-a41f72875c19\"}, {\"line\": {\"dash\": \"longdashdot\"}, \"name\": \"\\u5e02\\u573a\\u652f\\u6301(\\u4e8e\\u52c7\\u4e00)\", \"x\": [\"10-2\", \"10-3\", \"10-4\"], \"y\": [0.0, 0.0, 0.0], \"type\": \"scatter\", \"uid\": \"be89fabd-e18a-11e8-8ddb-a41f72875c19\"}, {\"line\": {\"dash\": \"solid\"}, \"name\": \"\\u5e02\\u573a\\u652f\\u6301(\\u4e8e\\u6167)\", \"x\": [\"10-2\", \"10-3\", \"10-4\"], \"y\": [0.0, 0.0, 0.0], \"type\": \"scatter\", \"uid\": \"be89fabe-e18a-11e8-8ddb-a41f72875c19\"}, {\"line\": {\"dash\": \"dot\"}, \"name\": \"\\u5e02\\u573a\\u652f\\u6301(\\u8c22\\u5fb7\\u5065)\", \"x\": [\"10-2\", \"10-3\", \"10-4\"], \"y\": [0.0, 0.0, 0.0], \"type\": \"scatter\", \"uid\": \"be89fabf-e18a-11e8-8ddb-a41f72875c19\"}, {\"line\": {\"dash\": \"dash\"}, \"name\": \"\\u5e02\\u573a\\u652f\\u6301(\\u8303\\u65ed\\u5b81)\", \"x\": [\"10-2\", \"10-3\", \"10-4\"], \"y\": [0.0, 0.0, 0.0], \"type\": \"scatter\", \"uid\": \"be89fac0-e18a-11e8-8ddb-a41f72875c19\"}, {\"line\": {\"dash\": \"longdash\"}, \"name\": \"\\u5e02\\u573a\\u652f\\u6301(\\u5360\\u4f1f)\", \"x\": [\"10-2\", \"10-3\", \"10-4\"], \"y\": [0.0, 1.0, 0.0], \"type\": \"scatter\", \"uid\": \"be89fac1-e18a-11e8-8ddb-a41f72875c19\"}, {\"line\": {\"dash\": \"dashdot\"}, \"name\": \"\\u5e02\\u573a\\u652f\\u6301(\\u5f20\\u60a6)\", \"x\": [\"10-2\", \"10-3\", \"10-4\"], \"y\": [null, null, 0.0], \"type\": \"scatter\", \"uid\": \"be89fac2-e18a-11e8-8ddb-a41f72875c19\"}, {\"line\": {\"dash\": \"longdashdot\"}, \"name\": \"\\u5e02\\u573a\\u652f\\u6301(\\u5f20\\u5b88\\u4f1f)\", \"x\": [\"10-2\", \"10-3\", \"10-4\"], \"y\": [0.0, 0.0, 0.0], \"type\": \"scatter\", \"uid\": \"be89fac3-e18a-11e8-8ddb-a41f72875c19\"}, {\"line\": {\"dash\": \"solid\"}, \"name\": \"\\u5e02\\u573a\\u652f\\u6301(\\u8def\\u6167\\u840d)\", \"x\": [\"10-2\", \"10-3\", \"10-4\"], \"y\": [0.0, 0.0, 0.0], \"type\": \"scatter\", \"uid\": \"be89fac4-e18a-11e8-8ddb-a41f72875c19\"}, {\"line\": {\"dash\": \"dot\"}, \"name\": \"\\u5e02\\u573a\\u652f\\u6301(\\u51af\\u656c\\u5ca9)\", \"x\": [\"10-2\", \"10-3\", \"10-4\"], \"y\": [null, null, 0.0], \"type\": \"scatter\", \"uid\": \"be89fac5-e18a-11e8-8ddb-a41f72875c19\"}, {\"line\": {\"dash\": \"dash\"}, \"name\": \"\\u5e02\\u573a\\u652f\\u6301(\\u9a6c\\u6f47)\", \"x\": [\"10-2\", \"10-3\", \"10-4\"], \"y\": [0.0, 0.0, 0.0], \"type\": \"scatter\", \"uid\": \"be89fac6-e18a-11e8-8ddb-a41f72875c19\"}, {\"line\": {\"dash\": \"longdash\"}, \"name\": \"\\u5e02\\u573a\\u652f\\u6301(\\u5b5f\\u660a)\", \"x\": [\"10-2\", \"10-3\", \"10-4\"], \"y\": [0.0, 0.0, 0.0], \"type\": \"scatter\", \"uid\": \"be89fac7-e18a-11e8-8ddb-a41f72875c19\"}, {\"line\": {\"dash\": \"dashdot\"}, \"name\": \"\\u5e02\\u573a\\u652f\\u6301(\\u6d82\\u6210\\u82b3)\", \"x\": [\"10-2\", \"10-3\", \"10-4\"], \"y\": [null, null, 0.0], \"type\": \"scatter\", \"uid\": \"be89fac8-e18a-11e8-8ddb-a41f72875c19\"}, {\"line\": {\"dash\": \"longdashdot\"}, \"name\": \"\\u5e02\\u573a\\u652f\\u6301(\\u8d75\\u73a5)\", \"x\": [\"10-2\", \"10-3\", \"10-4\"], \"y\": [0.0, 0.0, 0.0], \"type\": \"scatter\", \"uid\": \"be89fac9-e18a-11e8-8ddb-a41f72875c19\"}, {\"line\": {\"dash\": \"solid\"}, \"name\": \"\\u5e02\\u573a\\u652f\\u6301(\\u5c01\\u5f66\\u6770)\", \"x\": [\"10-2\", \"10-3\", \"10-4\"], \"y\": [0.0, 0.0, 0.0], \"type\": \"scatter\", \"uid\": \"be89faca-e18a-11e8-8ddb-a41f72875c19\"}, {\"line\": {\"dash\": \"dot\"}, \"name\": \"\\u5e02\\u573a\\u652f\\u6301(\\u5468\\u6768)\", \"x\": [\"10-2\", \"10-3\", \"10-4\"], \"y\": [0.0, 0.0, 0.0], \"type\": \"scatter\", \"uid\": \"be89facb-e18a-11e8-8ddb-a41f72875c19\"}, {\"line\": {\"dash\": \"dash\"}, \"name\": \"\\u5e02\\u573a\\u652f\\u6301(\\u5218\\u6c5f)\", \"x\": [\"10-2\", \"10-3\", \"10-4\"], \"y\": [0.0, 1.0, 0.0], \"type\": \"scatter\", \"uid\": \"be89facc-e18a-11e8-8ddb-a41f72875c19\"}, {\"line\": {\"dash\": \"longdash\"}, \"name\": \"\\u5e02\\u573a\\u652f\\u6301(\\u82cf\\u5f66\\u52cb)\", \"x\": [\"10-2\", \"10-3\", \"10-4\"], \"y\": [null, 0.0, 0.0], \"type\": \"scatter\", \"uid\": \"be89facd-e18a-11e8-8ddb-a41f72875c19\"}, {\"line\": {\"dash\": \"dashdot\"}, \"name\": \"\\u5e02\\u573a\\u652f\\u6301(\\u4efb\\u96ea)\", \"x\": [\"10-2\", \"10-3\", \"10-4\"], \"y\": [0.0, 1.0, 0.0], \"type\": \"scatter\", \"uid\": \"be89face-e18a-11e8-8ddb-a41f72875c19\"}, {\"line\": {\"dash\": \"longdashdot\"}, \"name\": \"\\u5e02\\u573a\\u652f\\u6301(\\u6bb5\\u5229\\u5f3a)\", \"x\": [\"10-2\", \"10-3\", \"10-4\"], \"y\": [0.0, null, null], \"type\": \"scatter\", \"uid\": \"be89facf-e18a-11e8-8ddb-a41f72875c19\"}, {\"line\": {\"dash\": \"solid\"}, \"name\": \"\\u5e02\\u573a\\u652f\\u6301(\\u9648\\u9e4f\\u71d5)\", \"x\": [\"10-2\", \"10-3\", \"10-4\"], \"y\": [null, 0.0, 0.0], \"type\": \"scatter\", \"uid\": \"be89fad0-e18a-11e8-8ddb-a41f72875c19\"}, {\"line\": {\"dash\": \"dot\"}, \"name\": \"\\u5e02\\u573a\\u652f\\u6301(\\u8f66\\u5929\\u680b)\", \"x\": [\"10-2\", \"10-3\", \"10-4\"], \"y\": [null, null, 0.0], \"type\": \"scatter\", \"uid\": \"be89fad1-e18a-11e8-8ddb-a41f72875c19\"}, {\"line\": {\"dash\": \"dash\"}, \"name\": \"\\u5e02\\u573a\\u652f\\u6301(\\u674e\\u534e\\u4e91)\", \"x\": [\"10-2\", \"10-3\", \"10-4\"], \"y\": [null, null, 0.0], \"type\": \"scatter\", \"uid\": \"be89fad2-e18a-11e8-8ddb-a41f72875c19\"}, {\"line\": {\"dash\": \"solid\"}, \"name\": \"\\u5185\\u90e8\\u6c9f\\u901a(\\u6797\\u6587\\u6587)\", \"x\": [\"10-2\", \"10-3\", \"10-4\"], \"y\": [null, null, 0.0], \"type\": \"scatter\", \"uid\": \"be89fad3-e18a-11e8-8ddb-a41f72875c19\"}, {\"line\": {\"dash\": \"dot\"}, \"name\": \"\\u5185\\u90e8\\u6c9f\\u901a(\\u5c48\\u6602)\", \"x\": [\"10-2\", \"10-3\", \"10-4\"], \"y\": [0.0, null, 0.0], \"type\": \"scatter\", \"uid\": \"be89fad4-e18a-11e8-8ddb-a41f72875c19\"}, {\"line\": {\"dash\": \"dash\"}, \"name\": \"\\u5185\\u90e8\\u6c9f\\u901a(\\u59da\\u76df\\u6210)\", \"x\": [\"10-2\", \"10-3\", \"10-4\"], \"y\": [0.0, 0.0, 4.0], \"type\": \"scatter\", \"uid\": \"be89fad5-e18a-11e8-8ddb-a41f72875c19\"}, {\"line\": {\"dash\": \"longdash\"}, \"name\": \"\\u5185\\u90e8\\u6c9f\\u901a(\\u51b7\\u96ea)\", \"x\": [\"10-2\", \"10-3\", \"10-4\"], \"y\": [0.0, null, 0.0], \"type\": \"scatter\", \"uid\": \"be89fad6-e18a-11e8-8ddb-a41f72875c19\"}, {\"line\": {\"dash\": \"dashdot\"}, \"name\": \"\\u5185\\u90e8\\u6c9f\\u901a(\\u97e9\\u5c11\\u6000)\", \"x\": [\"10-2\", \"10-3\", \"10-4\"], \"y\": [0.0, 0.0, 0.0], \"type\": \"scatter\", \"uid\": \"be89fad7-e18a-11e8-8ddb-a41f72875c19\"}, {\"line\": {\"dash\": \"longdashdot\"}, \"name\": \"\\u5185\\u90e8\\u6c9f\\u901a(\\u674e\\u5e86\\u539f)\", \"x\": [\"10-2\", \"10-3\", \"10-4\"], \"y\": [0.0, 0.0, 1.0], \"type\": \"scatter\", \"uid\": \"be89fad8-e18a-11e8-8ddb-a41f72875c19\"}, {\"line\": {\"dash\": \"solid\"}, \"name\": \"\\u5185\\u90e8\\u6c9f\\u901a(\\u5218\\u4e09\\u9633)\", \"x\": [\"10-2\", \"10-3\", \"10-4\"], \"y\": [null, 0.0, null], \"type\": \"scatter\", \"uid\": \"be89fad9-e18a-11e8-8ddb-a41f72875c19\"}, {\"line\": {\"dash\": \"dot\"}, \"name\": \"\\u5185\\u90e8\\u6c9f\\u901a(\\u6c88\\u6069\\u60e0)\", \"x\": [\"10-2\", \"10-3\", \"10-4\"], \"y\": [null, null, 0.0], \"type\": \"scatter\", \"uid\": \"be89fada-e18a-11e8-8ddb-a41f72875c19\"}, {\"line\": {\"dash\": \"dash\"}, \"name\": \"\\u5185\\u90e8\\u6c9f\\u901a(\\u6636\\u5409\\u9633)\", \"x\": [\"10-2\", \"10-3\", \"10-4\"], \"y\": [null, 0.0, 0.0], \"type\": \"scatter\", \"uid\": \"be89fadb-e18a-11e8-8ddb-a41f72875c19\"}, {\"line\": {\"dash\": \"longdash\"}, \"name\": \"\\u5185\\u90e8\\u6c9f\\u901a(\\u6768\\u4f1f\\u98de)\", \"x\": [\"10-2\", \"10-3\", \"10-4\"], \"y\": [0.0, 0.0, 0.0], \"type\": \"scatter\", \"uid\": \"be89fadc-e18a-11e8-8ddb-a41f72875c19\"}, {\"line\": {\"dash\": \"dashdot\"}, \"name\": \"\\u5185\\u90e8\\u6c9f\\u901a(\\u738b\\u7ea2)\", \"x\": [\"10-2\", \"10-3\", \"10-4\"], \"y\": [null, null, 0.0], \"type\": \"scatter\", \"uid\": \"be89fadd-e18a-11e8-8ddb-a41f72875c19\"}, {\"line\": {\"dash\": \"longdashdot\"}, \"name\": \"\\u5185\\u90e8\\u6c9f\\u901a(\\u4e8e\\u52c7\\u4e00)\", \"x\": [\"10-2\", \"10-3\", \"10-4\"], \"y\": [0.0, 0.0, 0.0], \"type\": \"scatter\", \"uid\": \"be89fade-e18a-11e8-8ddb-a41f72875c19\"}, {\"line\": {\"dash\": \"solid\"}, \"name\": \"\\u5185\\u90e8\\u6c9f\\u901a(\\u4e8e\\u6167)\", \"x\": [\"10-2\", \"10-3\", \"10-4\"], \"y\": [0.0, 0.0, 0.0], \"type\": \"scatter\", \"uid\": \"be89fadf-e18a-11e8-8ddb-a41f72875c19\"}, {\"line\": {\"dash\": \"dot\"}, \"name\": \"\\u5185\\u90e8\\u6c9f\\u901a(\\u8c22\\u5fb7\\u5065)\", \"x\": [\"10-2\", \"10-3\", \"10-4\"], \"y\": [0.0, 0.0, 0.0], \"type\": \"scatter\", \"uid\": \"be89fae0-e18a-11e8-8ddb-a41f72875c19\"}, {\"line\": {\"dash\": \"dash\"}, \"name\": \"\\u5185\\u90e8\\u6c9f\\u901a(\\u8303\\u65ed\\u5b81)\", \"x\": [\"10-2\", \"10-3\", \"10-4\"], \"y\": [0.0, 0.0, 0.0], \"type\": \"scatter\", \"uid\": \"be89fae1-e18a-11e8-8ddb-a41f72875c19\"}, {\"line\": {\"dash\": \"longdash\"}, \"name\": \"\\u5185\\u90e8\\u6c9f\\u901a(\\u5360\\u4f1f)\", \"x\": [\"10-2\", \"10-3\", \"10-4\"], \"y\": [0.0, 0.0, 0.0], \"type\": \"scatter\", \"uid\": \"be89fae2-e18a-11e8-8ddb-a41f72875c19\"}, {\"line\": {\"dash\": \"dashdot\"}, \"name\": \"\\u5185\\u90e8\\u6c9f\\u901a(\\u5f20\\u60a6)\", \"x\": [\"10-2\", \"10-3\", \"10-4\"], \"y\": [null, null, 0.0], \"type\": \"scatter\", \"uid\": \"be89fae3-e18a-11e8-8ddb-a41f72875c19\"}, {\"line\": {\"dash\": \"longdashdot\"}, \"name\": \"\\u5185\\u90e8\\u6c9f\\u901a(\\u5f20\\u5b88\\u4f1f)\", \"x\": [\"10-2\", \"10-3\", \"10-4\"], \"y\": [0.0, 0.0, 0.0], \"type\": \"scatter\", \"uid\": \"be89fae4-e18a-11e8-8ddb-a41f72875c19\"}, {\"line\": {\"dash\": \"solid\"}, \"name\": \"\\u5185\\u90e8\\u6c9f\\u901a(\\u8def\\u6167\\u840d)\", \"x\": [\"10-2\", \"10-3\", \"10-4\"], \"y\": [0.0, 0.0, 0.0], \"type\": \"scatter\", \"uid\": \"be89fae5-e18a-11e8-8ddb-a41f72875c19\"}, {\"line\": {\"dash\": \"dot\"}, \"name\": \"\\u5185\\u90e8\\u6c9f\\u901a(\\u51af\\u656c\\u5ca9)\", \"x\": [\"10-2\", \"10-3\", \"10-4\"], \"y\": [null, null, 0.0], \"type\": \"scatter\", \"uid\": \"be89fae6-e18a-11e8-8ddb-a41f72875c19\"}, {\"line\": {\"dash\": \"dash\"}, \"name\": \"\\u5185\\u90e8\\u6c9f\\u901a(\\u9a6c\\u6f47)\", \"x\": [\"10-2\", \"10-3\", \"10-4\"], \"y\": [0.0, 0.0, 0.0], \"type\": \"scatter\", \"uid\": \"be89fae7-e18a-11e8-8ddb-a41f72875c19\"}, {\"line\": {\"dash\": \"longdash\"}, \"name\": \"\\u5185\\u90e8\\u6c9f\\u901a(\\u5b5f\\u660a)\", \"x\": [\"10-2\", \"10-3\", \"10-4\"], \"y\": [0.0, 0.0, 0.0], \"type\": \"scatter\", \"uid\": \"be89fae8-e18a-11e8-8ddb-a41f72875c19\"}, {\"line\": {\"dash\": \"dashdot\"}, \"name\": \"\\u5185\\u90e8\\u6c9f\\u901a(\\u6d82\\u6210\\u82b3)\", \"x\": [\"10-2\", \"10-3\", \"10-4\"], \"y\": [null, null, 0.0], \"type\": \"scatter\", \"uid\": \"be89fae9-e18a-11e8-8ddb-a41f72875c19\"}, {\"line\": {\"dash\": \"longdashdot\"}, \"name\": \"\\u5185\\u90e8\\u6c9f\\u901a(\\u8d75\\u73a5)\", \"x\": [\"10-2\", \"10-3\", \"10-4\"], \"y\": [0.0, 0.0, 0.0], \"type\": \"scatter\", \"uid\": \"be89faea-e18a-11e8-8ddb-a41f72875c19\"}, {\"line\": {\"dash\": \"solid\"}, \"name\": \"\\u5185\\u90e8\\u6c9f\\u901a(\\u5c01\\u5f66\\u6770)\", \"x\": [\"10-2\", \"10-3\", \"10-4\"], \"y\": [0.0, 0.0, 0.0], \"type\": \"scatter\", \"uid\": \"be89faeb-e18a-11e8-8ddb-a41f72875c19\"}, {\"line\": {\"dash\": \"dot\"}, \"name\": \"\\u5185\\u90e8\\u6c9f\\u901a(\\u5468\\u6768)\", \"x\": [\"10-2\", \"10-3\", \"10-4\"], \"y\": [0.0, 0.0, 2.0], \"type\": \"scatter\", \"uid\": \"be89faec-e18a-11e8-8ddb-a41f72875c19\"}, {\"line\": {\"dash\": \"dash\"}, \"name\": \"\\u5185\\u90e8\\u6c9f\\u901a(\\u5218\\u6c5f)\", \"x\": [\"10-2\", \"10-3\", \"10-4\"], \"y\": [0.0, 0.0, 0.0], \"type\": \"scatter\", \"uid\": \"be89faed-e18a-11e8-8ddb-a41f72875c19\"}, {\"line\": {\"dash\": \"longdash\"}, \"name\": \"\\u5185\\u90e8\\u6c9f\\u901a(\\u82cf\\u5f66\\u52cb)\", \"x\": [\"10-2\", \"10-3\", \"10-4\"], \"y\": [null, 0.0, 0.0], \"type\": \"scatter\", \"uid\": \"be89faee-e18a-11e8-8ddb-a41f72875c19\"}, {\"line\": {\"dash\": \"dashdot\"}, \"name\": \"\\u5185\\u90e8\\u6c9f\\u901a(\\u4efb\\u96ea)\", \"x\": [\"10-2\", \"10-3\", \"10-4\"], \"y\": [0.0, 0.0, 0.0], \"type\": \"scatter\", \"uid\": \"be89faef-e18a-11e8-8ddb-a41f72875c19\"}, {\"line\": {\"dash\": \"longdashdot\"}, \"name\": \"\\u5185\\u90e8\\u6c9f\\u901a(\\u6bb5\\u5229\\u5f3a)\", \"x\": [\"10-2\", \"10-3\", \"10-4\"], \"y\": [0.0, null, null], \"type\": \"scatter\", \"uid\": \"be89faf0-e18a-11e8-8ddb-a41f72875c19\"}, {\"line\": {\"dash\": \"solid\"}, \"name\": \"\\u5185\\u90e8\\u6c9f\\u901a(\\u9648\\u9e4f\\u71d5)\", \"x\": [\"10-2\", \"10-3\", \"10-4\"], \"y\": [null, 0.0, 0.0], \"type\": \"scatter\", \"uid\": \"be89faf1-e18a-11e8-8ddb-a41f72875c19\"}, {\"line\": {\"dash\": \"dot\"}, \"name\": \"\\u5185\\u90e8\\u6c9f\\u901a(\\u8f66\\u5929\\u680b)\", \"x\": [\"10-2\", \"10-3\", \"10-4\"], \"y\": [null, null, 0.0], \"type\": \"scatter\", \"uid\": \"be89faf2-e18a-11e8-8ddb-a41f72875c19\"}, {\"line\": {\"dash\": \"dash\"}, \"name\": \"\\u5185\\u90e8\\u6c9f\\u901a(\\u674e\\u534e\\u4e91)\", \"x\": [\"10-2\", \"10-3\", \"10-4\"], \"y\": [null, null, 0.0], \"type\": \"scatter\", \"uid\": \"be89faf3-e18a-11e8-8ddb-a41f72875c19\"}, {\"line\": {\"dash\": \"solid\"}, \"name\": \"\\u51fa\\u5dee(\\u6797\\u6587\\u6587)\", \"x\": [\"10-2\", \"10-3\", \"10-4\"], \"y\": [null, null, 0.0], \"type\": \"scatter\", \"uid\": \"be89faf4-e18a-11e8-8ddb-a41f72875c19\"}, {\"line\": {\"dash\": \"dot\"}, \"name\": \"\\u51fa\\u5dee(\\u5c48\\u6602)\", \"x\": [\"10-2\", \"10-3\", \"10-4\"], \"y\": [0.0, null, 0.0], \"type\": \"scatter\", \"uid\": \"be89faf5-e18a-11e8-8ddb-a41f72875c19\"}, {\"line\": {\"dash\": \"dash\"}, \"name\": \"\\u51fa\\u5dee(\\u59da\\u76df\\u6210)\", \"x\": [\"10-2\", \"10-3\", \"10-4\"], \"y\": [0.0, 1.0, 0.0], \"type\": \"scatter\", \"uid\": \"be89faf6-e18a-11e8-8ddb-a41f72875c19\"}, {\"line\": {\"dash\": \"longdash\"}, \"name\": \"\\u51fa\\u5dee(\\u51b7\\u96ea)\", \"x\": [\"10-2\", \"10-3\", \"10-4\"], \"y\": [0.0, null, 0.0], \"type\": \"scatter\", \"uid\": \"be89faf7-e18a-11e8-8ddb-a41f72875c19\"}, {\"line\": {\"dash\": \"dashdot\"}, \"name\": \"\\u51fa\\u5dee(\\u97e9\\u5c11\\u6000)\", \"x\": [\"10-2\", \"10-3\", \"10-4\"], \"y\": [0.0, 0.0, 0.0], \"type\": \"scatter\", \"uid\": \"be89faf8-e18a-11e8-8ddb-a41f72875c19\"}, {\"line\": {\"dash\": \"longdashdot\"}, \"name\": \"\\u51fa\\u5dee(\\u674e\\u5e86\\u539f)\", \"x\": [\"10-2\", \"10-3\", \"10-4\"], \"y\": [0.0, 0.0, 0.0], \"type\": \"scatter\", \"uid\": \"be89faf9-e18a-11e8-8ddb-a41f72875c19\"}, {\"line\": {\"dash\": \"solid\"}, \"name\": \"\\u51fa\\u5dee(\\u5218\\u4e09\\u9633)\", \"x\": [\"10-2\", \"10-3\", \"10-4\"], \"y\": [null, 0.0, null], \"type\": \"scatter\", \"uid\": \"be89fafa-e18a-11e8-8ddb-a41f72875c19\"}, {\"line\": {\"dash\": \"dot\"}, \"name\": \"\\u51fa\\u5dee(\\u6c88\\u6069\\u60e0)\", \"x\": [\"10-2\", \"10-3\", \"10-4\"], \"y\": [null, null, 0.0], \"type\": \"scatter\", \"uid\": \"be89fafb-e18a-11e8-8ddb-a41f72875c19\"}, {\"line\": {\"dash\": \"dash\"}, \"name\": \"\\u51fa\\u5dee(\\u6636\\u5409\\u9633)\", \"x\": [\"10-2\", \"10-3\", \"10-4\"], \"y\": [null, 0.0, 0.0], \"type\": \"scatter\", \"uid\": \"be89fafc-e18a-11e8-8ddb-a41f72875c19\"}, {\"line\": {\"dash\": \"longdash\"}, \"name\": \"\\u51fa\\u5dee(\\u6768\\u4f1f\\u98de)\", \"x\": [\"10-2\", \"10-3\", \"10-4\"], \"y\": [0.0, 1.0, 0.0], \"type\": \"scatter\", \"uid\": \"be89fafd-e18a-11e8-8ddb-a41f72875c19\"}, {\"line\": {\"dash\": \"dashdot\"}, \"name\": \"\\u51fa\\u5dee(\\u738b\\u7ea2)\", \"x\": [\"10-2\", \"10-3\", \"10-4\"], \"y\": [null, null, 0.0], \"type\": \"scatter\", \"uid\": \"be89fafe-e18a-11e8-8ddb-a41f72875c19\"}, {\"line\": {\"dash\": \"longdashdot\"}, \"name\": \"\\u51fa\\u5dee(\\u4e8e\\u52c7\\u4e00)\", \"x\": [\"10-2\", \"10-3\", \"10-4\"], \"y\": [0.0, 0.0, 0.0], \"type\": \"scatter\", \"uid\": \"be89faff-e18a-11e8-8ddb-a41f72875c19\"}, {\"line\": {\"dash\": \"solid\"}, \"name\": \"\\u51fa\\u5dee(\\u4e8e\\u6167)\", \"x\": [\"10-2\", \"10-3\", \"10-4\"], \"y\": [0.0, 0.0, 0.0], \"type\": \"scatter\", \"uid\": \"be89fb00-e18a-11e8-8ddb-a41f72875c19\"}, {\"line\": {\"dash\": \"dot\"}, \"name\": \"\\u51fa\\u5dee(\\u8c22\\u5fb7\\u5065)\", \"x\": [\"10-2\", \"10-3\", \"10-4\"], \"y\": [0.0, 0.0, 0.0], \"type\": \"scatter\", \"uid\": \"be89fb01-e18a-11e8-8ddb-a41f72875c19\"}, {\"line\": {\"dash\": \"dash\"}, \"name\": \"\\u51fa\\u5dee(\\u8303\\u65ed\\u5b81)\", \"x\": [\"10-2\", \"10-3\", \"10-4\"], \"y\": [0.0, 0.0, 0.0], \"type\": \"scatter\", \"uid\": \"be89fb02-e18a-11e8-8ddb-a41f72875c19\"}, {\"line\": {\"dash\": \"longdash\"}, \"name\": \"\\u51fa\\u5dee(\\u5360\\u4f1f)\", \"x\": [\"10-2\", \"10-3\", \"10-4\"], \"y\": [0.0, 0.0, 0.0], \"type\": \"scatter\", \"uid\": \"be89fb03-e18a-11e8-8ddb-a41f72875c19\"}, {\"line\": {\"dash\": \"dashdot\"}, \"name\": \"\\u51fa\\u5dee(\\u5f20\\u60a6)\", \"x\": [\"10-2\", \"10-3\", \"10-4\"], \"y\": [null, null, 0.0], \"type\": \"scatter\", \"uid\": \"be89fb04-e18a-11e8-8ddb-a41f72875c19\"}, {\"line\": {\"dash\": \"longdashdot\"}, \"name\": \"\\u51fa\\u5dee(\\u5f20\\u5b88\\u4f1f)\", \"x\": [\"10-2\", \"10-3\", \"10-4\"], \"y\": [0.0, 0.0, 0.0], \"type\": \"scatter\", \"uid\": \"be89fb05-e18a-11e8-8ddb-a41f72875c19\"}, {\"line\": {\"dash\": \"solid\"}, \"name\": \"\\u51fa\\u5dee(\\u8def\\u6167\\u840d)\", \"x\": [\"10-2\", \"10-3\", \"10-4\"], \"y\": [0.0, 0.0, 0.0], \"type\": \"scatter\", \"uid\": \"be89fb06-e18a-11e8-8ddb-a41f72875c19\"}, {\"line\": {\"dash\": \"dot\"}, \"name\": \"\\u51fa\\u5dee(\\u51af\\u656c\\u5ca9)\", \"x\": [\"10-2\", \"10-3\", \"10-4\"], \"y\": [null, null, 0.0], \"type\": \"scatter\", \"uid\": \"be89fb07-e18a-11e8-8ddb-a41f72875c19\"}, {\"line\": {\"dash\": \"dash\"}, \"name\": \"\\u51fa\\u5dee(\\u9a6c\\u6f47)\", \"x\": [\"10-2\", \"10-3\", \"10-4\"], \"y\": [0.0, 0.0, 1.0], \"type\": \"scatter\", \"uid\": \"be89fb08-e18a-11e8-8ddb-a41f72875c19\"}, {\"line\": {\"dash\": \"longdash\"}, \"name\": \"\\u51fa\\u5dee(\\u5b5f\\u660a)\", \"x\": [\"10-2\", \"10-3\", \"10-4\"], \"y\": [0.0, 0.0, 0.0], \"type\": \"scatter\", \"uid\": \"be89fb09-e18a-11e8-8ddb-a41f72875c19\"}, {\"line\": {\"dash\": \"dashdot\"}, \"name\": \"\\u51fa\\u5dee(\\u6d82\\u6210\\u82b3)\", \"x\": [\"10-2\", \"10-3\", \"10-4\"], \"y\": [null, null, 0.0], \"type\": \"scatter\", \"uid\": \"be89fb0a-e18a-11e8-8ddb-a41f72875c19\"}, {\"line\": {\"dash\": \"longdashdot\"}, \"name\": \"\\u51fa\\u5dee(\\u8d75\\u73a5)\", \"x\": [\"10-2\", \"10-3\", \"10-4\"], \"y\": [0.0, 0.0, 0.0], \"type\": \"scatter\", \"uid\": \"be89fb0b-e18a-11e8-8ddb-a41f72875c19\"}, {\"line\": {\"dash\": \"solid\"}, \"name\": \"\\u51fa\\u5dee(\\u5c01\\u5f66\\u6770)\", \"x\": [\"10-2\", \"10-3\", \"10-4\"], \"y\": [0.0, 0.0, 0.0], \"type\": \"scatter\", \"uid\": \"be89fb0c-e18a-11e8-8ddb-a41f72875c19\"}, {\"line\": {\"dash\": \"dot\"}, \"name\": \"\\u51fa\\u5dee(\\u5468\\u6768)\", \"x\": [\"10-2\", \"10-3\", \"10-4\"], \"y\": [0.0, 0.0, 0.0], \"type\": \"scatter\", \"uid\": \"be89fb0d-e18a-11e8-8ddb-a41f72875c19\"}, {\"line\": {\"dash\": \"dash\"}, \"name\": \"\\u51fa\\u5dee(\\u5218\\u6c5f)\", \"x\": [\"10-2\", \"10-3\", \"10-4\"], \"y\": [0.0, 1.0, 0.0], \"type\": \"scatter\", \"uid\": \"be89fb0e-e18a-11e8-8ddb-a41f72875c19\"}, {\"line\": {\"dash\": \"longdash\"}, \"name\": \"\\u51fa\\u5dee(\\u82cf\\u5f66\\u52cb)\", \"x\": [\"10-2\", \"10-3\", \"10-4\"], \"y\": [null, 0.0, 1.0], \"type\": \"scatter\", \"uid\": \"be89fb0f-e18a-11e8-8ddb-a41f72875c19\"}, {\"line\": {\"dash\": \"dashdot\"}, \"name\": \"\\u51fa\\u5dee(\\u4efb\\u96ea)\", \"x\": [\"10-2\", \"10-3\", \"10-4\"], \"y\": [0.0, 1.0, 0.0], \"type\": \"scatter\", \"uid\": \"be89fb10-e18a-11e8-8ddb-a41f72875c19\"}, {\"line\": {\"dash\": \"longdashdot\"}, \"name\": \"\\u51fa\\u5dee(\\u6bb5\\u5229\\u5f3a)\", \"x\": [\"10-2\", \"10-3\", \"10-4\"], \"y\": [0.0, null, null], \"type\": \"scatter\", \"uid\": \"be89fb11-e18a-11e8-8ddb-a41f72875c19\"}, {\"line\": {\"dash\": \"solid\"}, \"name\": \"\\u51fa\\u5dee(\\u9648\\u9e4f\\u71d5)\", \"x\": [\"10-2\", \"10-3\", \"10-4\"], \"y\": [null, 0.0, 0.0], \"type\": \"scatter\", \"uid\": \"be89fb12-e18a-11e8-8ddb-a41f72875c19\"}, {\"line\": {\"dash\": \"dot\"}, \"name\": \"\\u51fa\\u5dee(\\u8f66\\u5929\\u680b)\", \"x\": [\"10-2\", \"10-3\", \"10-4\"], \"y\": [null, null, 0.0], \"type\": \"scatter\", \"uid\": \"be89fb13-e18a-11e8-8ddb-a41f72875c19\"}, {\"line\": {\"dash\": \"dash\"}, \"name\": \"\\u51fa\\u5dee(\\u674e\\u534e\\u4e91)\", \"x\": [\"10-2\", \"10-3\", \"10-4\"], \"y\": [null, null, 0.0], \"type\": \"scatter\", \"uid\": \"be89fb14-e18a-11e8-8ddb-a41f72875c19\"}, {\"line\": {\"dash\": \"solid\"}, \"name\": \"\\u7985\\u9053bug(\\u6797\\u6587\\u6587)\", \"x\": [\"10-2\", \"10-3\", \"10-4\"], \"y\": [null, null, 0.0], \"type\": \"scatter\", \"uid\": \"be89fb15-e18a-11e8-8ddb-a41f72875c19\"}, {\"line\": {\"dash\": \"dot\"}, \"name\": \"\\u7985\\u9053bug(\\u5c48\\u6602)\", \"x\": [\"10-2\", \"10-3\", \"10-4\"], \"y\": [0.0, null, 0.0], \"type\": \"scatter\", \"uid\": \"be89fb16-e18a-11e8-8ddb-a41f72875c19\"}, {\"line\": {\"dash\": \"dash\"}, \"name\": \"\\u7985\\u9053bug(\\u59da\\u76df\\u6210)\", \"x\": [\"10-2\", \"10-3\", \"10-4\"], \"y\": [0.0, 1.0, 1.0], \"type\": \"scatter\", \"uid\": \"be89fb17-e18a-11e8-8ddb-a41f72875c19\"}, {\"line\": {\"dash\": \"longdash\"}, \"name\": \"\\u7985\\u9053bug(\\u51b7\\u96ea)\", \"x\": [\"10-2\", \"10-3\", \"10-4\"], \"y\": [0.0, null, 0.0], \"type\": \"scatter\", \"uid\": \"be89fb18-e18a-11e8-8ddb-a41f72875c19\"}, {\"line\": {\"dash\": \"dashdot\"}, \"name\": \"\\u7985\\u9053bug(\\u97e9\\u5c11\\u6000)\", \"x\": [\"10-2\", \"10-3\", \"10-4\"], \"y\": [0.0, 0.0, 0.0], \"type\": \"scatter\", \"uid\": \"be89fb19-e18a-11e8-8ddb-a41f72875c19\"}, {\"line\": {\"dash\": \"longdashdot\"}, \"name\": \"\\u7985\\u9053bug(\\u674e\\u5e86\\u539f)\", \"x\": [\"10-2\", \"10-3\", \"10-4\"], \"y\": [0.0, 0.0, 0.0], \"type\": \"scatter\", \"uid\": \"be89fb1a-e18a-11e8-8ddb-a41f72875c19\"}, {\"line\": {\"dash\": \"solid\"}, \"name\": \"\\u7985\\u9053bug(\\u5218\\u4e09\\u9633)\", \"x\": [\"10-2\", \"10-3\", \"10-4\"], \"y\": [null, 0.0, null], \"type\": \"scatter\", \"uid\": \"be89fb1b-e18a-11e8-8ddb-a41f72875c19\"}, {\"line\": {\"dash\": \"dot\"}, \"name\": \"\\u7985\\u9053bug(\\u6c88\\u6069\\u60e0)\", \"x\": [\"10-2\", \"10-3\", \"10-4\"], \"y\": [null, null, 0.0], \"type\": \"scatter\", \"uid\": \"be89fb1c-e18a-11e8-8ddb-a41f72875c19\"}, {\"line\": {\"dash\": \"dash\"}, \"name\": \"\\u7985\\u9053bug(\\u6636\\u5409\\u9633)\", \"x\": [\"10-2\", \"10-3\", \"10-4\"], \"y\": [null, 0.0, 0.0], \"type\": \"scatter\", \"uid\": \"be89fb1d-e18a-11e8-8ddb-a41f72875c19\"}, {\"line\": {\"dash\": \"longdash\"}, \"name\": \"\\u7985\\u9053bug(\\u6768\\u4f1f\\u98de)\", \"x\": [\"10-2\", \"10-3\", \"10-4\"], \"y\": [0.0, 0.0, 0.0], \"type\": \"scatter\", \"uid\": \"be89fb1e-e18a-11e8-8ddb-a41f72875c19\"}, {\"line\": {\"dash\": \"dashdot\"}, \"name\": \"\\u7985\\u9053bug(\\u738b\\u7ea2)\", \"x\": [\"10-2\", \"10-3\", \"10-4\"], \"y\": [null, null, 0.0], \"type\": \"scatter\", \"uid\": \"be89fb1f-e18a-11e8-8ddb-a41f72875c19\"}, {\"line\": {\"dash\": \"longdashdot\"}, \"name\": \"\\u7985\\u9053bug(\\u4e8e\\u52c7\\u4e00)\", \"x\": [\"10-2\", \"10-3\", \"10-4\"], \"y\": [0.0, 0.0, 0.0], \"type\": \"scatter\", \"uid\": \"be89fb20-e18a-11e8-8ddb-a41f72875c19\"}, {\"line\": {\"dash\": \"solid\"}, \"name\": \"\\u7985\\u9053bug(\\u4e8e\\u6167)\", \"x\": [\"10-2\", \"10-3\", \"10-4\"], \"y\": [0.0, 0.0, 0.0], \"type\": \"scatter\", \"uid\": \"be89fb21-e18a-11e8-8ddb-a41f72875c19\"}, {\"line\": {\"dash\": \"dot\"}, \"name\": \"\\u7985\\u9053bug(\\u8c22\\u5fb7\\u5065)\", \"x\": [\"10-2\", \"10-3\", \"10-4\"], \"y\": [0.0, 0.0, 0.0], \"type\": \"scatter\", \"uid\": \"be89fb22-e18a-11e8-8ddb-a41f72875c19\"}, {\"line\": {\"dash\": \"dash\"}, \"name\": \"\\u7985\\u9053bug(\\u8303\\u65ed\\u5b81)\", \"x\": [\"10-2\", \"10-3\", \"10-4\"], \"y\": [0.0, 0.0, 0.0], \"type\": \"scatter\", \"uid\": \"be89fb23-e18a-11e8-8ddb-a41f72875c19\"}, {\"line\": {\"dash\": \"longdash\"}, \"name\": \"\\u7985\\u9053bug(\\u5360\\u4f1f)\", \"x\": [\"10-2\", \"10-3\", \"10-4\"], \"y\": [0.0, 0.0, 0.0], \"type\": \"scatter\", \"uid\": \"be89fb24-e18a-11e8-8ddb-a41f72875c19\"}, {\"line\": {\"dash\": \"dashdot\"}, \"name\": \"\\u7985\\u9053bug(\\u5f20\\u60a6)\", \"x\": [\"10-2\", \"10-3\", \"10-4\"], \"y\": [null, null, 0.0], \"type\": \"scatter\", \"uid\": \"be89fb25-e18a-11e8-8ddb-a41f72875c19\"}, {\"line\": {\"dash\": \"longdashdot\"}, \"name\": \"\\u7985\\u9053bug(\\u5f20\\u5b88\\u4f1f)\", \"x\": [\"10-2\", \"10-3\", \"10-4\"], \"y\": [0.0, 0.0, 0.0], \"type\": \"scatter\", \"uid\": \"be89fb26-e18a-11e8-8ddb-a41f72875c19\"}, {\"line\": {\"dash\": \"solid\"}, \"name\": \"\\u7985\\u9053bug(\\u8def\\u6167\\u840d)\", \"x\": [\"10-2\", \"10-3\", \"10-4\"], \"y\": [0.0, 0.0, 0.0], \"type\": \"scatter\", \"uid\": \"be89fb27-e18a-11e8-8ddb-a41f72875c19\"}, {\"line\": {\"dash\": \"dot\"}, \"name\": \"\\u7985\\u9053bug(\\u51af\\u656c\\u5ca9)\", \"x\": [\"10-2\", \"10-3\", \"10-4\"], \"y\": [null, null, 0.0], \"type\": \"scatter\", \"uid\": \"be89fb28-e18a-11e8-8ddb-a41f72875c19\"}, {\"line\": {\"dash\": \"dash\"}, \"name\": \"\\u7985\\u9053bug(\\u9a6c\\u6f47)\", \"x\": [\"10-2\", \"10-3\", \"10-4\"], \"y\": [0.0, 0.0, 0.0], \"type\": \"scatter\", \"uid\": \"be89fb29-e18a-11e8-8ddb-a41f72875c19\"}, {\"line\": {\"dash\": \"longdash\"}, \"name\": \"\\u7985\\u9053bug(\\u5b5f\\u660a)\", \"x\": [\"10-2\", \"10-3\", \"10-4\"], \"y\": [0.0, 0.0, 0.0], \"type\": \"scatter\", \"uid\": \"be89fb2a-e18a-11e8-8ddb-a41f72875c19\"}, {\"line\": {\"dash\": \"dashdot\"}, \"name\": \"\\u7985\\u9053bug(\\u6d82\\u6210\\u82b3)\", \"x\": [\"10-2\", \"10-3\", \"10-4\"], \"y\": [null, null, 0.0], \"type\": \"scatter\", \"uid\": \"be89fb2b-e18a-11e8-8ddb-a41f72875c19\"}, {\"line\": {\"dash\": \"longdashdot\"}, \"name\": \"\\u7985\\u9053bug(\\u8d75\\u73a5)\", \"x\": [\"10-2\", \"10-3\", \"10-4\"], \"y\": [0.0, 0.0, 0.0], \"type\": \"scatter\", \"uid\": \"be89fb2c-e18a-11e8-8ddb-a41f72875c19\"}, {\"line\": {\"dash\": \"solid\"}, \"name\": \"\\u7985\\u9053bug(\\u5c01\\u5f66\\u6770)\", \"x\": [\"10-2\", \"10-3\", \"10-4\"], \"y\": [0.0, 0.0, 0.0], \"type\": \"scatter\", \"uid\": \"be89fb2d-e18a-11e8-8ddb-a41f72875c19\"}, {\"line\": {\"dash\": \"dot\"}, \"name\": \"\\u7985\\u9053bug(\\u5468\\u6768)\", \"x\": [\"10-2\", \"10-3\", \"10-4\"], \"y\": [0.0, 0.0, 0.0], \"type\": \"scatter\", \"uid\": \"be89fb2e-e18a-11e8-8ddb-a41f72875c19\"}, {\"line\": {\"dash\": \"dash\"}, \"name\": \"\\u7985\\u9053bug(\\u5218\\u6c5f)\", \"x\": [\"10-2\", \"10-3\", \"10-4\"], \"y\": [0.0, 0.0, 0.0], \"type\": \"scatter\", \"uid\": \"be89fb2f-e18a-11e8-8ddb-a41f72875c19\"}, {\"line\": {\"dash\": \"longdash\"}, \"name\": \"\\u7985\\u9053bug(\\u82cf\\u5f66\\u52cb)\", \"x\": [\"10-2\", \"10-3\", \"10-4\"], \"y\": [null, 0.0, 0.0], \"type\": \"scatter\", \"uid\": \"be89fb30-e18a-11e8-8ddb-a41f72875c19\"}, {\"line\": {\"dash\": \"dashdot\"}, \"name\": \"\\u7985\\u9053bug(\\u4efb\\u96ea)\", \"x\": [\"10-2\", \"10-3\", \"10-4\"], \"y\": [0.0, 0.0, 0.0], \"type\": \"scatter\", \"uid\": \"be89fb31-e18a-11e8-8ddb-a41f72875c19\"}, {\"line\": {\"dash\": \"longdashdot\"}, \"name\": \"\\u7985\\u9053bug(\\u6bb5\\u5229\\u5f3a)\", \"x\": [\"10-2\", \"10-3\", \"10-4\"], \"y\": [0.0, null, null], \"type\": \"scatter\", \"uid\": \"be89fb32-e18a-11e8-8ddb-a41f72875c19\"}, {\"line\": {\"dash\": \"solid\"}, \"name\": \"\\u7985\\u9053bug(\\u9648\\u9e4f\\u71d5)\", \"x\": [\"10-2\", \"10-3\", \"10-4\"], \"y\": [null, 0.0, 0.0], \"type\": \"scatter\", \"uid\": \"be89fb33-e18a-11e8-8ddb-a41f72875c19\"}, {\"line\": {\"dash\": \"dot\"}, \"name\": \"\\u7985\\u9053bug(\\u8f66\\u5929\\u680b)\", \"x\": [\"10-2\", \"10-3\", \"10-4\"], \"y\": [null, null, 0.0], \"type\": \"scatter\", \"uid\": \"be89fb34-e18a-11e8-8ddb-a41f72875c19\"}, {\"line\": {\"dash\": \"dash\"}, \"name\": \"\\u7985\\u9053bug(\\u674e\\u534e\\u4e91)\", \"x\": [\"10-2\", \"10-3\", \"10-4\"], \"y\": [null, null, 0.0], \"type\": \"scatter\", \"uid\": \"be89fb35-e18a-11e8-8ddb-a41f72875c19\"}], {\"title\": \"\\u5e02\\u573a\\u652f\\u6301&\\u5185\\u90e8\\u6c9f\\u901a&\\u51fa\\u5dee&\\u7985\\u9053bug\\u5468\\u8d8b\\u52bf\\u56fe\", \"xaxis\": {\"mirror\": \"all\", \"nticks\": 20, \"showgrid\": true, \"showline\": true, \"title\": \"\\u5468\", \"type\": \"category\", \"zeroline\": true}, \"yaxis\": {\"mirror\": \"all\", \"nticks\": 20, \"showgrid\": true, \"showline\": true, \"title\": \"\\u5e02\\u573a\\u652f\\u6301&\\u5185\\u90e8\\u6c9f\\u901a&\\u51fa\\u5dee&\\u7985\\u9053bug\", \"zeroline\": true}}, {\"showLink\": true, \"linkText\": \"Export to plot.ly\"})});</script>"
      ]
     },
     "metadata": {},
     "output_type": "display_data"
    }
   ],
   "source": [
    "ss=myModule.format(all_dict ,\"日期\" ,['内部沟通','市场支持', '出差', '禅道bug'])\n",
    "ss.add_group('负责人')\n",
    "tt = myModule.myPlot(ss.groupby('sum'))\n",
    "tt.plot('line')"
   ]
  }
 ],
 "metadata": {
  "celltoolbar": "Raw Cell Format",
  "hide_input": false,
  "kernelspec": {
   "display_name": "Python 3",
   "language": "python",
   "name": "python3"
  },
  "language_info": {
   "codemirror_mode": {
    "name": "ipython",
    "version": 3
   },
   "file_extension": ".py",
   "mimetype": "text/x-python",
   "name": "python",
   "nbconvert_exporter": "python",
   "pygments_lexer": "ipython3",
   "version": "3.6.0"
  },
  "toc": {
   "base_numbering": 1,
   "nav_menu": {},
   "number_sections": true,
   "sideBar": true,
   "skip_h1_title": false,
   "title_cell": "Table of Contents",
   "title_sidebar": "Contents",
   "toc_cell": false,
   "toc_position": {
    "height": "513px",
    "left": "32px",
    "top": "107px",
    "width": "271px"
   },
   "toc_section_display": true,
   "toc_window_display": true
  }
 },
 "nbformat": 4,
 "nbformat_minor": 2
}
