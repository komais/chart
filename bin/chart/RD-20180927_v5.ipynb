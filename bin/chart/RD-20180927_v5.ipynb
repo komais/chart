{
 "cells": [
  {
   "cell_type": "code",
   "execution_count": 5,
   "metadata": {
    "hide_input": false
   },
   "outputs": [
    {
     "name": "stdout",
     "output_type": "stream",
     "text": [
      "The autoreload extension is already loaded. To reload it, use:\n",
      "  %reload_ext autoreload\n"
     ]
    }
   ],
   "source": [
    "%load_ext autoreload\n",
    "%autoreload 2\n",
    "import sys\n",
    "sys.path.append('./')\n",
    "import myModule"
   ]
  },
  {
   "cell_type": "code",
   "execution_count": 6,
   "metadata": {},
   "outputs": [
    {
     "data": {
      "text/html": [
       "<script>requirejs.config({paths: { 'plotly': ['https://cdn.plot.ly/plotly-latest.min']},});if(!window.Plotly) {{require(['plotly'],function(plotly) {window.Plotly=plotly;});}}</script>"
      ],
      "text/vnd.plotly.v1+html": [
       "<script>requirejs.config({paths: { 'plotly': ['https://cdn.plot.ly/plotly-latest.min']},});if(!window.Plotly) {{require(['plotly'],function(plotly) {window.Plotly=plotly;});}}</script>"
      ]
     },
     "metadata": {},
     "output_type": "display_data"
    },
    {
     "data": {
      "text/plain": [
       "<module 'myModule' from '/mnt/e/jupyter/bin/chart/myModule.py'>"
      ]
     },
     "execution_count": 6,
     "metadata": {},
     "output_type": "execute_result"
    }
   ],
   "source": [
    "import imp\n",
    "imp.reload(myModule)"
   ]
  },
  {
   "cell_type": "markdown",
   "metadata": {},
   "source": [
    "# 研发组人员情况"
   ]
  },
  {
   "cell_type": "code",
   "execution_count": 7,
   "metadata": {},
   "outputs": [
    {
     "name": "stdout",
     "output_type": "stream",
     "text": [
      "['/mnt/e/jupyter/data/RD/仪表盘-研发组-8-3.xlsx', '/mnt/e/jupyter/data/RD/仪表盘-研发组-8-4.xlsx', '/mnt/e/jupyter/data/RD/仪表盘-研发组-9-1.xlsx', '/mnt/e/jupyter/data/RD/仪表盘-研发组-9-2.xlsx', '/mnt/e/jupyter/data/RD/仪表盘-研发组-9-3.xlsx']\n"
     ]
    }
   ],
   "source": [
    "#路径末尾不能包含斜线\n",
    "pathway = r\"/mnt/e/jupyter/data/RD\"\n",
    "all_files , title = myModule.get_title(pathway , 0)##给路径\n",
    "print(all_files)\n",
    "all_dict = myModule.read_xlsx(all_files, 0 ) ## 读取所有文件的sheet1\n",
    "all_dict_1 = myModule.read_xlsx(all_files, 1 )  ## 读取所有文件的sheet2\n",
    "\n",
    "\n",
    "new_files=[]\n",
    "import xlrd  \n",
    "for file in all_files:\n",
    "    b = xlrd.open_workbook(file)\n",
    "    count = len(b.sheets()) #sheet数量\n",
    "    if count == 3:\n",
    "        new_files+=[file]\n",
    "all_dict_2 = myModule.read_xlsx(new_files, 2 )  ## 读取所有文件的sheet3"
   ]
  },
  {
   "cell_type": "markdown",
   "metadata": {
    "hide_input": true
   },
   "source": [
    "## 整体情况"
   ]
  },
  {
   "cell_type": "markdown",
   "metadata": {},
   "source": [
    "### 下单整体情况"
   ]
  },
  {
   "cell_type": "markdown",
   "metadata": {},
   "source": [
    "\n",
    "#### 总下单数和完成下单数\n"
   ]
  },
  {
   "cell_type": "code",
   "execution_count": 8,
   "metadata": {},
   "outputs": [
    {
     "data": {
      "application/vnd.plotly.v1+json": {
       "data": [
        {
         "name": "总下单数",
         "type": "scatter",
         "uid": "6d332688-c204-11e8-ad45-a81e84e6c740",
         "x": [
          "8-3",
          "8-4",
          "9-1",
          "9-2",
          "9-3"
         ],
         "y": [
          90,
          111,
          102,
          97,
          83
         ]
        },
        {
         "name": "完成下单数",
         "type": "scatter",
         "uid": "6d332980-c204-11e8-ad45-a81e84e6c740",
         "x": [
          "8-3",
          "8-4",
          "9-1",
          "9-2",
          "9-3"
         ],
         "y": [
          75,
          103,
          97,
          88,
          80
         ]
        }
       ],
       "layout": {
        "title": "总下单数&完成下单数周趋势图",
        "xaxis": {
         "mirror": "all",
         "nticks": 20,
         "showgrid": true,
         "showline": true,
         "title": "周",
         "zeroline": true
        },
        "yaxis": {
         "mirror": "all",
         "nticks": 20,
         "showgrid": true,
         "showline": true,
         "title": "总下单数&完成下单数",
         "zeroline": true
        }
       }
      },
      "text/html": [
       "<div id=\"457a96be-6c47-4b8c-83f3-08e66f2e2d80\" style=\"height: 525px; width: 100%;\" class=\"plotly-graph-div\"></div><script type=\"text/javascript\">require([\"plotly\"], function(Plotly) { window.PLOTLYENV=window.PLOTLYENV || {};window.PLOTLYENV.BASE_URL=\"https://plot.ly\";\n",
       "        Plotly.plot(\n",
       "            '457a96be-6c47-4b8c-83f3-08e66f2e2d80',\n",
       "            [{\"name\": \"\\u603b\\u4e0b\\u5355\\u6570\", \"x\": [\"8-3\", \"8-4\", \"9-1\", \"9-2\", \"9-3\"], \"y\": [90.0, 111.0, 102.0, 97.0, 83.0], \"type\": \"scatter\", \"uid\": \"6d332688-c204-11e8-ad45-a81e84e6c740\"}, {\"name\": \"\\u5b8c\\u6210\\u4e0b\\u5355\\u6570\", \"x\": [\"8-3\", \"8-4\", \"9-1\", \"9-2\", \"9-3\"], \"y\": [75.0, 103.0, 97.0, 88.0, 80.0], \"type\": \"scatter\", \"uid\": \"6d332980-c204-11e8-ad45-a81e84e6c740\"}],\n",
       "            {\"title\": \"\\u603b\\u4e0b\\u5355\\u6570&\\u5b8c\\u6210\\u4e0b\\u5355\\u6570\\u5468\\u8d8b\\u52bf\\u56fe\", \"xaxis\": {\"mirror\": \"all\", \"nticks\": 20, \"showgrid\": true, \"showline\": true, \"title\": \"\\u5468\", \"zeroline\": true}, \"yaxis\": {\"mirror\": \"all\", \"nticks\": 20, \"showgrid\": true, \"showline\": true, \"title\": \"\\u603b\\u4e0b\\u5355\\u6570&\\u5b8c\\u6210\\u4e0b\\u5355\\u6570\", \"zeroline\": true}},\n",
       "            {\"showLink\": true, \"linkText\": \"Export to plot.ly\"}\n",
       "        ).then(function () {return Plotly.addFrames('457a96be-6c47-4b8c-83f3-08e66f2e2d80',{});}).then(function(){Plotly.animate('457a96be-6c47-4b8c-83f3-08e66f2e2d80');})\n",
       "        });</script>"
      ],
      "text/vnd.plotly.v1+html": [
       "<div id=\"457a96be-6c47-4b8c-83f3-08e66f2e2d80\" style=\"height: 525px; width: 100%;\" class=\"plotly-graph-div\"></div><script type=\"text/javascript\">require([\"plotly\"], function(Plotly) { window.PLOTLYENV=window.PLOTLYENV || {};window.PLOTLYENV.BASE_URL=\"https://plot.ly\";\n",
       "        Plotly.plot(\n",
       "            '457a96be-6c47-4b8c-83f3-08e66f2e2d80',\n",
       "            [{\"name\": \"\\u603b\\u4e0b\\u5355\\u6570\", \"x\": [\"8-3\", \"8-4\", \"9-1\", \"9-2\", \"9-3\"], \"y\": [90.0, 111.0, 102.0, 97.0, 83.0], \"type\": \"scatter\", \"uid\": \"6d332688-c204-11e8-ad45-a81e84e6c740\"}, {\"name\": \"\\u5b8c\\u6210\\u4e0b\\u5355\\u6570\", \"x\": [\"8-3\", \"8-4\", \"9-1\", \"9-2\", \"9-3\"], \"y\": [75.0, 103.0, 97.0, 88.0, 80.0], \"type\": \"scatter\", \"uid\": \"6d332980-c204-11e8-ad45-a81e84e6c740\"}],\n",
       "            {\"title\": \"\\u603b\\u4e0b\\u5355\\u6570&\\u5b8c\\u6210\\u4e0b\\u5355\\u6570\\u5468\\u8d8b\\u52bf\\u56fe\", \"xaxis\": {\"mirror\": \"all\", \"nticks\": 20, \"showgrid\": true, \"showline\": true, \"title\": \"\\u5468\", \"zeroline\": true}, \"yaxis\": {\"mirror\": \"all\", \"nticks\": 20, \"showgrid\": true, \"showline\": true, \"title\": \"\\u603b\\u4e0b\\u5355\\u6570&\\u5b8c\\u6210\\u4e0b\\u5355\\u6570\", \"zeroline\": true}},\n",
       "            {\"showLink\": true, \"linkText\": \"Export to plot.ly\"}\n",
       "        ).then(function () {return Plotly.addFrames('457a96be-6c47-4b8c-83f3-08e66f2e2d80',{});}).then(function(){Plotly.animate('457a96be-6c47-4b8c-83f3-08e66f2e2d80');})\n",
       "        });</script>"
      ]
     },
     "metadata": {},
     "output_type": "display_data"
    },
    {
     "data": {
      "application/vnd.plotly.v1+json": {
       "data": [
        {
         "name": "总下单数",
         "type": "scatter",
         "uid": "6d40902a-c204-11e8-ad45-a81e84e6c740",
         "x": [
          "8",
          "9"
         ],
         "y": [
          201,
          282
         ]
        },
        {
         "name": "完成下单数",
         "type": "scatter",
         "uid": "6d4095ac-c204-11e8-ad45-a81e84e6c740",
         "x": [
          "8",
          "9"
         ],
         "y": [
          178,
          265
         ]
        }
       ],
       "layout": {
        "title": "总下单数&完成下单数月趋势图",
        "xaxis": {
         "mirror": "all",
         "nticks": 20,
         "showgrid": true,
         "showline": true,
         "title": "月",
         "zeroline": true
        },
        "yaxis": {
         "mirror": "all",
         "nticks": 20,
         "showgrid": true,
         "showline": true,
         "title": "总下单数&完成下单数",
         "zeroline": true
        }
       }
      },
      "text/html": [
       "<div id=\"281f664a-f8a3-4132-b2d9-69b34efa8188\" style=\"height: 525px; width: 100%;\" class=\"plotly-graph-div\"></div><script type=\"text/javascript\">require([\"plotly\"], function(Plotly) { window.PLOTLYENV=window.PLOTLYENV || {};window.PLOTLYENV.BASE_URL=\"https://plot.ly\";\n",
       "        Plotly.plot(\n",
       "            '281f664a-f8a3-4132-b2d9-69b34efa8188',\n",
       "            [{\"name\": \"\\u603b\\u4e0b\\u5355\\u6570\", \"x\": [\"8\", \"9\"], \"y\": [201.0, 282.0], \"type\": \"scatter\", \"uid\": \"6d40902a-c204-11e8-ad45-a81e84e6c740\"}, {\"name\": \"\\u5b8c\\u6210\\u4e0b\\u5355\\u6570\", \"x\": [\"8\", \"9\"], \"y\": [178.0, 265.0], \"type\": \"scatter\", \"uid\": \"6d4095ac-c204-11e8-ad45-a81e84e6c740\"}],\n",
       "            {\"title\": \"\\u603b\\u4e0b\\u5355\\u6570&\\u5b8c\\u6210\\u4e0b\\u5355\\u6570\\u6708\\u8d8b\\u52bf\\u56fe\", \"xaxis\": {\"mirror\": \"all\", \"nticks\": 20, \"showgrid\": true, \"showline\": true, \"title\": \"\\u6708\", \"zeroline\": true}, \"yaxis\": {\"mirror\": \"all\", \"nticks\": 20, \"showgrid\": true, \"showline\": true, \"title\": \"\\u603b\\u4e0b\\u5355\\u6570&\\u5b8c\\u6210\\u4e0b\\u5355\\u6570\", \"zeroline\": true}},\n",
       "            {\"showLink\": true, \"linkText\": \"Export to plot.ly\"}\n",
       "        ).then(function () {return Plotly.addFrames('281f664a-f8a3-4132-b2d9-69b34efa8188',{});}).then(function(){Plotly.animate('281f664a-f8a3-4132-b2d9-69b34efa8188');})\n",
       "        });</script>"
      ],
      "text/vnd.plotly.v1+html": [
       "<div id=\"281f664a-f8a3-4132-b2d9-69b34efa8188\" style=\"height: 525px; width: 100%;\" class=\"plotly-graph-div\"></div><script type=\"text/javascript\">require([\"plotly\"], function(Plotly) { window.PLOTLYENV=window.PLOTLYENV || {};window.PLOTLYENV.BASE_URL=\"https://plot.ly\";\n",
       "        Plotly.plot(\n",
       "            '281f664a-f8a3-4132-b2d9-69b34efa8188',\n",
       "            [{\"name\": \"\\u603b\\u4e0b\\u5355\\u6570\", \"x\": [\"8\", \"9\"], \"y\": [201.0, 282.0], \"type\": \"scatter\", \"uid\": \"6d40902a-c204-11e8-ad45-a81e84e6c740\"}, {\"name\": \"\\u5b8c\\u6210\\u4e0b\\u5355\\u6570\", \"x\": [\"8\", \"9\"], \"y\": [178.0, 265.0], \"type\": \"scatter\", \"uid\": \"6d4095ac-c204-11e8-ad45-a81e84e6c740\"}],\n",
       "            {\"title\": \"\\u603b\\u4e0b\\u5355\\u6570&\\u5b8c\\u6210\\u4e0b\\u5355\\u6570\\u6708\\u8d8b\\u52bf\\u56fe\", \"xaxis\": {\"mirror\": \"all\", \"nticks\": 20, \"showgrid\": true, \"showline\": true, \"title\": \"\\u6708\", \"zeroline\": true}, \"yaxis\": {\"mirror\": \"all\", \"nticks\": 20, \"showgrid\": true, \"showline\": true, \"title\": \"\\u603b\\u4e0b\\u5355\\u6570&\\u5b8c\\u6210\\u4e0b\\u5355\\u6570\", \"zeroline\": true}},\n",
       "            {\"showLink\": true, \"linkText\": \"Export to plot.ly\"}\n",
       "        ).then(function () {return Plotly.addFrames('281f664a-f8a3-4132-b2d9-69b34efa8188',{});}).then(function(){Plotly.animate('281f664a-f8a3-4132-b2d9-69b34efa8188');})\n",
       "        });</script>"
      ]
     },
     "metadata": {},
     "output_type": "display_data"
    }
   ],
   "source": [
    "data_dict = {'总下单数':['总下单数'],'完成下单数':['完成下单数']}\n",
    "myModule.plot( all_dict, data_dict, '负责人' ,  'line', all='all' )"
   ]
  },
  {
   "cell_type": "markdown",
   "metadata": {
    "hide_input": true
   },
   "source": [
    "### 高质量报告"
   ]
  },
  {
   "cell_type": "markdown",
   "metadata": {},
   "source": [
    "#### 应交高质量报告数和提交高质量报告数"
   ]
  },
  {
   "cell_type": "code",
   "execution_count": 9,
   "metadata": {},
   "outputs": [
    {
     "data": {
      "application/vnd.plotly.v1+json": {
       "data": [
        {
         "name": "应交高质量报告数",
         "type": "scatter",
         "uid": "6d9ed5cc-c204-11e8-ad45-a81e84e6c740",
         "x": [
          "8-3",
          "8-4",
          "9-1",
          "9-2",
          "9-3"
         ],
         "y": [
          9,
          7,
          17,
          8,
          4
         ]
        },
        {
         "name": "提交高质量报告数",
         "type": "scatter",
         "uid": "6d9edc48-c204-11e8-ad45-a81e84e6c740",
         "x": [
          "8-3",
          "8-4",
          "9-1",
          "9-2",
          "9-3"
         ],
         "y": [
          9,
          7,
          17,
          6,
          5
         ]
        }
       ],
       "layout": {
        "title": "应交高质量报告数&提交高质量报告数周趋势图",
        "xaxis": {
         "mirror": "all",
         "nticks": 20,
         "showgrid": true,
         "showline": true,
         "title": "周",
         "zeroline": true
        },
        "yaxis": {
         "mirror": "all",
         "nticks": 20,
         "showgrid": true,
         "showline": true,
         "title": "应交高质量报告数&提交高质量报告数",
         "zeroline": true
        }
       }
      },
      "text/html": [
       "<div id=\"efbf698f-7233-4e4a-9f08-01d0cfa7d6a2\" style=\"height: 525px; width: 100%;\" class=\"plotly-graph-div\"></div><script type=\"text/javascript\">require([\"plotly\"], function(Plotly) { window.PLOTLYENV=window.PLOTLYENV || {};window.PLOTLYENV.BASE_URL=\"https://plot.ly\";\n",
       "        Plotly.plot(\n",
       "            'efbf698f-7233-4e4a-9f08-01d0cfa7d6a2',\n",
       "            [{\"name\": \"\\u5e94\\u4ea4\\u9ad8\\u8d28\\u91cf\\u62a5\\u544a\\u6570\", \"x\": [\"8-3\", \"8-4\", \"9-1\", \"9-2\", \"9-3\"], \"y\": [9.0, 7.0, 17.0, 8.0, 4.0], \"type\": \"scatter\", \"uid\": \"6d9ed5cc-c204-11e8-ad45-a81e84e6c740\"}, {\"name\": \"\\u63d0\\u4ea4\\u9ad8\\u8d28\\u91cf\\u62a5\\u544a\\u6570\", \"x\": [\"8-3\", \"8-4\", \"9-1\", \"9-2\", \"9-3\"], \"y\": [9.0, 7.0, 17.0, 6.0, 5.0], \"type\": \"scatter\", \"uid\": \"6d9edc48-c204-11e8-ad45-a81e84e6c740\"}],\n",
       "            {\"title\": \"\\u5e94\\u4ea4\\u9ad8\\u8d28\\u91cf\\u62a5\\u544a\\u6570&\\u63d0\\u4ea4\\u9ad8\\u8d28\\u91cf\\u62a5\\u544a\\u6570\\u5468\\u8d8b\\u52bf\\u56fe\", \"xaxis\": {\"mirror\": \"all\", \"nticks\": 20, \"showgrid\": true, \"showline\": true, \"title\": \"\\u5468\", \"zeroline\": true}, \"yaxis\": {\"mirror\": \"all\", \"nticks\": 20, \"showgrid\": true, \"showline\": true, \"title\": \"\\u5e94\\u4ea4\\u9ad8\\u8d28\\u91cf\\u62a5\\u544a\\u6570&\\u63d0\\u4ea4\\u9ad8\\u8d28\\u91cf\\u62a5\\u544a\\u6570\", \"zeroline\": true}},\n",
       "            {\"showLink\": true, \"linkText\": \"Export to plot.ly\"}\n",
       "        ).then(function () {return Plotly.addFrames('efbf698f-7233-4e4a-9f08-01d0cfa7d6a2',{});}).then(function(){Plotly.animate('efbf698f-7233-4e4a-9f08-01d0cfa7d6a2');})\n",
       "        });</script>"
      ],
      "text/vnd.plotly.v1+html": [
       "<div id=\"efbf698f-7233-4e4a-9f08-01d0cfa7d6a2\" style=\"height: 525px; width: 100%;\" class=\"plotly-graph-div\"></div><script type=\"text/javascript\">require([\"plotly\"], function(Plotly) { window.PLOTLYENV=window.PLOTLYENV || {};window.PLOTLYENV.BASE_URL=\"https://plot.ly\";\n",
       "        Plotly.plot(\n",
       "            'efbf698f-7233-4e4a-9f08-01d0cfa7d6a2',\n",
       "            [{\"name\": \"\\u5e94\\u4ea4\\u9ad8\\u8d28\\u91cf\\u62a5\\u544a\\u6570\", \"x\": [\"8-3\", \"8-4\", \"9-1\", \"9-2\", \"9-3\"], \"y\": [9.0, 7.0, 17.0, 8.0, 4.0], \"type\": \"scatter\", \"uid\": \"6d9ed5cc-c204-11e8-ad45-a81e84e6c740\"}, {\"name\": \"\\u63d0\\u4ea4\\u9ad8\\u8d28\\u91cf\\u62a5\\u544a\\u6570\", \"x\": [\"8-3\", \"8-4\", \"9-1\", \"9-2\", \"9-3\"], \"y\": [9.0, 7.0, 17.0, 6.0, 5.0], \"type\": \"scatter\", \"uid\": \"6d9edc48-c204-11e8-ad45-a81e84e6c740\"}],\n",
       "            {\"title\": \"\\u5e94\\u4ea4\\u9ad8\\u8d28\\u91cf\\u62a5\\u544a\\u6570&\\u63d0\\u4ea4\\u9ad8\\u8d28\\u91cf\\u62a5\\u544a\\u6570\\u5468\\u8d8b\\u52bf\\u56fe\", \"xaxis\": {\"mirror\": \"all\", \"nticks\": 20, \"showgrid\": true, \"showline\": true, \"title\": \"\\u5468\", \"zeroline\": true}, \"yaxis\": {\"mirror\": \"all\", \"nticks\": 20, \"showgrid\": true, \"showline\": true, \"title\": \"\\u5e94\\u4ea4\\u9ad8\\u8d28\\u91cf\\u62a5\\u544a\\u6570&\\u63d0\\u4ea4\\u9ad8\\u8d28\\u91cf\\u62a5\\u544a\\u6570\", \"zeroline\": true}},\n",
       "            {\"showLink\": true, \"linkText\": \"Export to plot.ly\"}\n",
       "        ).then(function () {return Plotly.addFrames('efbf698f-7233-4e4a-9f08-01d0cfa7d6a2',{});}).then(function(){Plotly.animate('efbf698f-7233-4e4a-9f08-01d0cfa7d6a2');})\n",
       "        });</script>"
      ]
     },
     "metadata": {},
     "output_type": "display_data"
    },
    {
     "data": {
      "application/vnd.plotly.v1+json": {
       "data": [
        {
         "name": "应交高质量报告数",
         "type": "scatter",
         "uid": "6dac25c4-c204-11e8-ad45-a81e84e6c740",
         "x": [
          "8",
          "9"
         ],
         "y": [
          16,
          29
         ]
        },
        {
         "name": "提交高质量报告数",
         "type": "scatter",
         "uid": "6dac29d4-c204-11e8-ad45-a81e84e6c740",
         "x": [
          "8",
          "9"
         ],
         "y": [
          16,
          28
         ]
        }
       ],
       "layout": {
        "title": "应交高质量报告数&提交高质量报告数月趋势图",
        "xaxis": {
         "mirror": "all",
         "nticks": 20,
         "showgrid": true,
         "showline": true,
         "title": "月",
         "zeroline": true
        },
        "yaxis": {
         "mirror": "all",
         "nticks": 20,
         "showgrid": true,
         "showline": true,
         "title": "应交高质量报告数&提交高质量报告数",
         "zeroline": true
        }
       }
      },
      "text/html": [
       "<div id=\"f64c88d4-b741-4e3e-bb7b-2e8c5b7cdc69\" style=\"height: 525px; width: 100%;\" class=\"plotly-graph-div\"></div><script type=\"text/javascript\">require([\"plotly\"], function(Plotly) { window.PLOTLYENV=window.PLOTLYENV || {};window.PLOTLYENV.BASE_URL=\"https://plot.ly\";\n",
       "        Plotly.plot(\n",
       "            'f64c88d4-b741-4e3e-bb7b-2e8c5b7cdc69',\n",
       "            [{\"name\": \"\\u5e94\\u4ea4\\u9ad8\\u8d28\\u91cf\\u62a5\\u544a\\u6570\", \"x\": [\"8\", \"9\"], \"y\": [16.0, 29.0], \"type\": \"scatter\", \"uid\": \"6dac25c4-c204-11e8-ad45-a81e84e6c740\"}, {\"name\": \"\\u63d0\\u4ea4\\u9ad8\\u8d28\\u91cf\\u62a5\\u544a\\u6570\", \"x\": [\"8\", \"9\"], \"y\": [16.0, 28.0], \"type\": \"scatter\", \"uid\": \"6dac29d4-c204-11e8-ad45-a81e84e6c740\"}],\n",
       "            {\"title\": \"\\u5e94\\u4ea4\\u9ad8\\u8d28\\u91cf\\u62a5\\u544a\\u6570&\\u63d0\\u4ea4\\u9ad8\\u8d28\\u91cf\\u62a5\\u544a\\u6570\\u6708\\u8d8b\\u52bf\\u56fe\", \"xaxis\": {\"mirror\": \"all\", \"nticks\": 20, \"showgrid\": true, \"showline\": true, \"title\": \"\\u6708\", \"zeroline\": true}, \"yaxis\": {\"mirror\": \"all\", \"nticks\": 20, \"showgrid\": true, \"showline\": true, \"title\": \"\\u5e94\\u4ea4\\u9ad8\\u8d28\\u91cf\\u62a5\\u544a\\u6570&\\u63d0\\u4ea4\\u9ad8\\u8d28\\u91cf\\u62a5\\u544a\\u6570\", \"zeroline\": true}},\n",
       "            {\"showLink\": true, \"linkText\": \"Export to plot.ly\"}\n",
       "        ).then(function () {return Plotly.addFrames('f64c88d4-b741-4e3e-bb7b-2e8c5b7cdc69',{});}).then(function(){Plotly.animate('f64c88d4-b741-4e3e-bb7b-2e8c5b7cdc69');})\n",
       "        });</script>"
      ],
      "text/vnd.plotly.v1+html": [
       "<div id=\"f64c88d4-b741-4e3e-bb7b-2e8c5b7cdc69\" style=\"height: 525px; width: 100%;\" class=\"plotly-graph-div\"></div><script type=\"text/javascript\">require([\"plotly\"], function(Plotly) { window.PLOTLYENV=window.PLOTLYENV || {};window.PLOTLYENV.BASE_URL=\"https://plot.ly\";\n",
       "        Plotly.plot(\n",
       "            'f64c88d4-b741-4e3e-bb7b-2e8c5b7cdc69',\n",
       "            [{\"name\": \"\\u5e94\\u4ea4\\u9ad8\\u8d28\\u91cf\\u62a5\\u544a\\u6570\", \"x\": [\"8\", \"9\"], \"y\": [16.0, 29.0], \"type\": \"scatter\", \"uid\": \"6dac25c4-c204-11e8-ad45-a81e84e6c740\"}, {\"name\": \"\\u63d0\\u4ea4\\u9ad8\\u8d28\\u91cf\\u62a5\\u544a\\u6570\", \"x\": [\"8\", \"9\"], \"y\": [16.0, 28.0], \"type\": \"scatter\", \"uid\": \"6dac29d4-c204-11e8-ad45-a81e84e6c740\"}],\n",
       "            {\"title\": \"\\u5e94\\u4ea4\\u9ad8\\u8d28\\u91cf\\u62a5\\u544a\\u6570&\\u63d0\\u4ea4\\u9ad8\\u8d28\\u91cf\\u62a5\\u544a\\u6570\\u6708\\u8d8b\\u52bf\\u56fe\", \"xaxis\": {\"mirror\": \"all\", \"nticks\": 20, \"showgrid\": true, \"showline\": true, \"title\": \"\\u6708\", \"zeroline\": true}, \"yaxis\": {\"mirror\": \"all\", \"nticks\": 20, \"showgrid\": true, \"showline\": true, \"title\": \"\\u5e94\\u4ea4\\u9ad8\\u8d28\\u91cf\\u62a5\\u544a\\u6570&\\u63d0\\u4ea4\\u9ad8\\u8d28\\u91cf\\u62a5\\u544a\\u6570\", \"zeroline\": true}},\n",
       "            {\"showLink\": true, \"linkText\": \"Export to plot.ly\"}\n",
       "        ).then(function () {return Plotly.addFrames('f64c88d4-b741-4e3e-bb7b-2e8c5b7cdc69',{});}).then(function(){Plotly.animate('f64c88d4-b741-4e3e-bb7b-2e8c5b7cdc69');})\n",
       "        });</script>"
      ]
     },
     "metadata": {},
     "output_type": "display_data"
    }
   ],
   "source": [
    "data_dict = {'应交高质量报告数':['应交高质量报告数'], '提交高质量报告数':['提交高质量报告数']}\n",
    "myModule.plot( all_dict, data_dict, '负责人' ,  'line' , all='all')"
   ]
  },
  {
   "cell_type": "markdown",
   "metadata": {
    "hide_input": true
   },
   "source": [
    "### 甘特图情况"
   ]
  },
  {
   "cell_type": "markdown",
   "metadata": {},
   "source": [
    "#### 季度开发项目数、如期完成项目数、延期完成、开发中的项目数、延期项目数和暂停项目数"
   ]
  },
  {
   "cell_type": "code",
   "execution_count": 10,
   "metadata": {},
   "outputs": [
    {
     "data": {
      "application/vnd.plotly.v1+json": {
       "data": [
        {
         "name": "季度开发项目数",
         "type": "scatter",
         "uid": "6e25f674-c204-11e8-ad45-a81e84e6c740",
         "x": [
          "8-3",
          "8-4",
          "9-1",
          "9-2",
          "9-3"
         ],
         "y": [
          313,
          350,
          357,
          308,
          250
         ]
        },
        {
         "name": "如期完成项目数",
         "type": "scatter",
         "uid": "6e25f9c6-c204-11e8-ad45-a81e84e6c740",
         "x": [
          "8-3",
          "8-4",
          "9-1",
          "9-2",
          "9-3"
         ],
         "y": [
          197,
          216,
          228,
          219,
          176
         ]
        },
        {
         "name": "延期完成",
         "type": "scatter",
         "uid": "6e25fc14-c204-11e8-ad45-a81e84e6c740",
         "x": [
          "8-3",
          "8-4",
          "9-1",
          "9-2",
          "9-3"
         ],
         "y": [
          15,
          18,
          22,
          8,
          22
         ]
        },
        {
         "name": "开发中的项目数",
         "type": "scatter",
         "uid": "6e25fe30-c204-11e8-ad45-a81e84e6c740",
         "x": [
          "8-3",
          "8-4",
          "9-1",
          "9-2",
          "9-3"
         ],
         "y": [
          73,
          90,
          66,
          48,
          26
         ]
        },
        {
         "name": "延期项目数",
         "type": "scatter",
         "uid": "6e260038-c204-11e8-ad45-a81e84e6c740",
         "x": [
          "8-3",
          "8-4",
          "9-1",
          "9-2",
          "9-3"
         ],
         "y": [
          11,
          13,
          26,
          20,
          10
         ]
        },
        {
         "name": "暂停项目数",
         "type": "scatter",
         "uid": "6e26022c-c204-11e8-ad45-a81e84e6c740",
         "x": [
          "8-3",
          "8-4",
          "9-1",
          "9-2",
          "9-3"
         ],
         "y": [
          15,
          15,
          21,
          18,
          33
         ]
        }
       ],
       "layout": {
        "title": "季度开发项目数&如期完成项目数&延期完成&开发中的项目数&延期项目数&暂停项目数周趋势图",
        "xaxis": {
         "mirror": "all",
         "nticks": 20,
         "showgrid": true,
         "showline": true,
         "title": "周",
         "zeroline": true
        },
        "yaxis": {
         "mirror": "all",
         "nticks": 20,
         "showgrid": true,
         "showline": true,
         "title": "季度开发项目数&如期完成项目数&延期完成&开发中的项目数&延期项目数&暂停项目数",
         "zeroline": true
        }
       }
      },
      "text/html": [
       "<div id=\"540d530e-d818-4370-80d7-9ee4a091288e\" style=\"height: 525px; width: 100%;\" class=\"plotly-graph-div\"></div><script type=\"text/javascript\">require([\"plotly\"], function(Plotly) { window.PLOTLYENV=window.PLOTLYENV || {};window.PLOTLYENV.BASE_URL=\"https://plot.ly\";\n",
       "        Plotly.plot(\n",
       "            '540d530e-d818-4370-80d7-9ee4a091288e',\n",
       "            [{\"name\": \"\\u5b63\\u5ea6\\u5f00\\u53d1\\u9879\\u76ee\\u6570\", \"x\": [\"8-3\", \"8-4\", \"9-1\", \"9-2\", \"9-3\"], \"y\": [313.0, 350.0, 357.0, 308.0, 250.0], \"type\": \"scatter\", \"uid\": \"6e25f674-c204-11e8-ad45-a81e84e6c740\"}, {\"name\": \"\\u5982\\u671f\\u5b8c\\u6210\\u9879\\u76ee\\u6570\", \"x\": [\"8-3\", \"8-4\", \"9-1\", \"9-2\", \"9-3\"], \"y\": [197.0, 216.0, 228.0, 219.0, 176.0], \"type\": \"scatter\", \"uid\": \"6e25f9c6-c204-11e8-ad45-a81e84e6c740\"}, {\"name\": \"\\u5ef6\\u671f\\u5b8c\\u6210\", \"x\": [\"8-3\", \"8-4\", \"9-1\", \"9-2\", \"9-3\"], \"y\": [15.0, 18.0, 22.0, 8.0, 22.0], \"type\": \"scatter\", \"uid\": \"6e25fc14-c204-11e8-ad45-a81e84e6c740\"}, {\"name\": \"\\u5f00\\u53d1\\u4e2d\\u7684\\u9879\\u76ee\\u6570\", \"x\": [\"8-3\", \"8-4\", \"9-1\", \"9-2\", \"9-3\"], \"y\": [73.0, 90.0, 66.0, 48.0, 26.0], \"type\": \"scatter\", \"uid\": \"6e25fe30-c204-11e8-ad45-a81e84e6c740\"}, {\"name\": \"\\u5ef6\\u671f\\u9879\\u76ee\\u6570\", \"x\": [\"8-3\", \"8-4\", \"9-1\", \"9-2\", \"9-3\"], \"y\": [11.0, 13.0, 26.0, 20.0, 10.0], \"type\": \"scatter\", \"uid\": \"6e260038-c204-11e8-ad45-a81e84e6c740\"}, {\"name\": \"\\u6682\\u505c\\u9879\\u76ee\\u6570\", \"x\": [\"8-3\", \"8-4\", \"9-1\", \"9-2\", \"9-3\"], \"y\": [15.0, 15.0, 21.0, 18.0, 33.0], \"type\": \"scatter\", \"uid\": \"6e26022c-c204-11e8-ad45-a81e84e6c740\"}],\n",
       "            {\"title\": \"\\u5b63\\u5ea6\\u5f00\\u53d1\\u9879\\u76ee\\u6570&\\u5982\\u671f\\u5b8c\\u6210\\u9879\\u76ee\\u6570&\\u5ef6\\u671f\\u5b8c\\u6210&\\u5f00\\u53d1\\u4e2d\\u7684\\u9879\\u76ee\\u6570&\\u5ef6\\u671f\\u9879\\u76ee\\u6570&\\u6682\\u505c\\u9879\\u76ee\\u6570\\u5468\\u8d8b\\u52bf\\u56fe\", \"xaxis\": {\"mirror\": \"all\", \"nticks\": 20, \"showgrid\": true, \"showline\": true, \"title\": \"\\u5468\", \"zeroline\": true}, \"yaxis\": {\"mirror\": \"all\", \"nticks\": 20, \"showgrid\": true, \"showline\": true, \"title\": \"\\u5b63\\u5ea6\\u5f00\\u53d1\\u9879\\u76ee\\u6570&\\u5982\\u671f\\u5b8c\\u6210\\u9879\\u76ee\\u6570&\\u5ef6\\u671f\\u5b8c\\u6210&\\u5f00\\u53d1\\u4e2d\\u7684\\u9879\\u76ee\\u6570&\\u5ef6\\u671f\\u9879\\u76ee\\u6570&\\u6682\\u505c\\u9879\\u76ee\\u6570\", \"zeroline\": true}},\n",
       "            {\"showLink\": true, \"linkText\": \"Export to plot.ly\"}\n",
       "        ).then(function () {return Plotly.addFrames('540d530e-d818-4370-80d7-9ee4a091288e',{});}).then(function(){Plotly.animate('540d530e-d818-4370-80d7-9ee4a091288e');})\n",
       "        });</script>"
      ],
      "text/vnd.plotly.v1+html": [
       "<div id=\"540d530e-d818-4370-80d7-9ee4a091288e\" style=\"height: 525px; width: 100%;\" class=\"plotly-graph-div\"></div><script type=\"text/javascript\">require([\"plotly\"], function(Plotly) { window.PLOTLYENV=window.PLOTLYENV || {};window.PLOTLYENV.BASE_URL=\"https://plot.ly\";\n",
       "        Plotly.plot(\n",
       "            '540d530e-d818-4370-80d7-9ee4a091288e',\n",
       "            [{\"name\": \"\\u5b63\\u5ea6\\u5f00\\u53d1\\u9879\\u76ee\\u6570\", \"x\": [\"8-3\", \"8-4\", \"9-1\", \"9-2\", \"9-3\"], \"y\": [313.0, 350.0, 357.0, 308.0, 250.0], \"type\": \"scatter\", \"uid\": \"6e25f674-c204-11e8-ad45-a81e84e6c740\"}, {\"name\": \"\\u5982\\u671f\\u5b8c\\u6210\\u9879\\u76ee\\u6570\", \"x\": [\"8-3\", \"8-4\", \"9-1\", \"9-2\", \"9-3\"], \"y\": [197.0, 216.0, 228.0, 219.0, 176.0], \"type\": \"scatter\", \"uid\": \"6e25f9c6-c204-11e8-ad45-a81e84e6c740\"}, {\"name\": \"\\u5ef6\\u671f\\u5b8c\\u6210\", \"x\": [\"8-3\", \"8-4\", \"9-1\", \"9-2\", \"9-3\"], \"y\": [15.0, 18.0, 22.0, 8.0, 22.0], \"type\": \"scatter\", \"uid\": \"6e25fc14-c204-11e8-ad45-a81e84e6c740\"}, {\"name\": \"\\u5f00\\u53d1\\u4e2d\\u7684\\u9879\\u76ee\\u6570\", \"x\": [\"8-3\", \"8-4\", \"9-1\", \"9-2\", \"9-3\"], \"y\": [73.0, 90.0, 66.0, 48.0, 26.0], \"type\": \"scatter\", \"uid\": \"6e25fe30-c204-11e8-ad45-a81e84e6c740\"}, {\"name\": \"\\u5ef6\\u671f\\u9879\\u76ee\\u6570\", \"x\": [\"8-3\", \"8-4\", \"9-1\", \"9-2\", \"9-3\"], \"y\": [11.0, 13.0, 26.0, 20.0, 10.0], \"type\": \"scatter\", \"uid\": \"6e260038-c204-11e8-ad45-a81e84e6c740\"}, {\"name\": \"\\u6682\\u505c\\u9879\\u76ee\\u6570\", \"x\": [\"8-3\", \"8-4\", \"9-1\", \"9-2\", \"9-3\"], \"y\": [15.0, 15.0, 21.0, 18.0, 33.0], \"type\": \"scatter\", \"uid\": \"6e26022c-c204-11e8-ad45-a81e84e6c740\"}],\n",
       "            {\"title\": \"\\u5b63\\u5ea6\\u5f00\\u53d1\\u9879\\u76ee\\u6570&\\u5982\\u671f\\u5b8c\\u6210\\u9879\\u76ee\\u6570&\\u5ef6\\u671f\\u5b8c\\u6210&\\u5f00\\u53d1\\u4e2d\\u7684\\u9879\\u76ee\\u6570&\\u5ef6\\u671f\\u9879\\u76ee\\u6570&\\u6682\\u505c\\u9879\\u76ee\\u6570\\u5468\\u8d8b\\u52bf\\u56fe\", \"xaxis\": {\"mirror\": \"all\", \"nticks\": 20, \"showgrid\": true, \"showline\": true, \"title\": \"\\u5468\", \"zeroline\": true}, \"yaxis\": {\"mirror\": \"all\", \"nticks\": 20, \"showgrid\": true, \"showline\": true, \"title\": \"\\u5b63\\u5ea6\\u5f00\\u53d1\\u9879\\u76ee\\u6570&\\u5982\\u671f\\u5b8c\\u6210\\u9879\\u76ee\\u6570&\\u5ef6\\u671f\\u5b8c\\u6210&\\u5f00\\u53d1\\u4e2d\\u7684\\u9879\\u76ee\\u6570&\\u5ef6\\u671f\\u9879\\u76ee\\u6570&\\u6682\\u505c\\u9879\\u76ee\\u6570\", \"zeroline\": true}},\n",
       "            {\"showLink\": true, \"linkText\": \"Export to plot.ly\"}\n",
       "        ).then(function () {return Plotly.addFrames('540d530e-d818-4370-80d7-9ee4a091288e',{});}).then(function(){Plotly.animate('540d530e-d818-4370-80d7-9ee4a091288e');})\n",
       "        });</script>"
      ]
     },
     "metadata": {},
     "output_type": "display_data"
    },
    {
     "data": {
      "application/vnd.plotly.v1+json": {
       "data": [
        {
         "name": "季度开发项目数",
         "type": "scatter",
         "uid": "6e379cbc-c204-11e8-ad45-a81e84e6c740",
         "x": [
          "8",
          "9"
         ],
         "y": [
          663,
          915
         ]
        },
        {
         "name": "如期完成项目数",
         "type": "scatter",
         "uid": "6e37a068-c204-11e8-ad45-a81e84e6c740",
         "x": [
          "8",
          "9"
         ],
         "y": [
          413,
          623
         ]
        },
        {
         "name": "延期完成",
         "type": "scatter",
         "uid": "6e37a2ca-c204-11e8-ad45-a81e84e6c740",
         "x": [
          "8",
          "9"
         ],
         "y": [
          33,
          52
         ]
        },
        {
         "name": "开发中的项目数",
         "type": "scatter",
         "uid": "6e37a4dc-c204-11e8-ad45-a81e84e6c740",
         "x": [
          "8",
          "9"
         ],
         "y": [
          163,
          140
         ]
        },
        {
         "name": "延期项目数",
         "type": "scatter",
         "uid": "6e37a6e4-c204-11e8-ad45-a81e84e6c740",
         "x": [
          "8",
          "9"
         ],
         "y": [
          24,
          56
         ]
        },
        {
         "name": "暂停项目数",
         "type": "scatter",
         "uid": "6e37a8e2-c204-11e8-ad45-a81e84e6c740",
         "x": [
          "8",
          "9"
         ],
         "y": [
          30,
          72
         ]
        }
       ],
       "layout": {
        "title": "季度开发项目数&如期完成项目数&延期完成&开发中的项目数&延期项目数&暂停项目数月趋势图",
        "xaxis": {
         "mirror": "all",
         "nticks": 20,
         "showgrid": true,
         "showline": true,
         "title": "月",
         "zeroline": true
        },
        "yaxis": {
         "mirror": "all",
         "nticks": 20,
         "showgrid": true,
         "showline": true,
         "title": "季度开发项目数&如期完成项目数&延期完成&开发中的项目数&延期项目数&暂停项目数",
         "zeroline": true
        }
       }
      },
      "text/html": [
       "<div id=\"94b5ce6c-10ad-4b47-a085-3da8e0952b6b\" style=\"height: 525px; width: 100%;\" class=\"plotly-graph-div\"></div><script type=\"text/javascript\">require([\"plotly\"], function(Plotly) { window.PLOTLYENV=window.PLOTLYENV || {};window.PLOTLYENV.BASE_URL=\"https://plot.ly\";\n",
       "        Plotly.plot(\n",
       "            '94b5ce6c-10ad-4b47-a085-3da8e0952b6b',\n",
       "            [{\"name\": \"\\u5b63\\u5ea6\\u5f00\\u53d1\\u9879\\u76ee\\u6570\", \"x\": [\"8\", \"9\"], \"y\": [663.0, 915.0], \"type\": \"scatter\", \"uid\": \"6e379cbc-c204-11e8-ad45-a81e84e6c740\"}, {\"name\": \"\\u5982\\u671f\\u5b8c\\u6210\\u9879\\u76ee\\u6570\", \"x\": [\"8\", \"9\"], \"y\": [413.0, 623.0], \"type\": \"scatter\", \"uid\": \"6e37a068-c204-11e8-ad45-a81e84e6c740\"}, {\"name\": \"\\u5ef6\\u671f\\u5b8c\\u6210\", \"x\": [\"8\", \"9\"], \"y\": [33.0, 52.0], \"type\": \"scatter\", \"uid\": \"6e37a2ca-c204-11e8-ad45-a81e84e6c740\"}, {\"name\": \"\\u5f00\\u53d1\\u4e2d\\u7684\\u9879\\u76ee\\u6570\", \"x\": [\"8\", \"9\"], \"y\": [163.0, 140.0], \"type\": \"scatter\", \"uid\": \"6e37a4dc-c204-11e8-ad45-a81e84e6c740\"}, {\"name\": \"\\u5ef6\\u671f\\u9879\\u76ee\\u6570\", \"x\": [\"8\", \"9\"], \"y\": [24.0, 56.0], \"type\": \"scatter\", \"uid\": \"6e37a6e4-c204-11e8-ad45-a81e84e6c740\"}, {\"name\": \"\\u6682\\u505c\\u9879\\u76ee\\u6570\", \"x\": [\"8\", \"9\"], \"y\": [30.0, 72.0], \"type\": \"scatter\", \"uid\": \"6e37a8e2-c204-11e8-ad45-a81e84e6c740\"}],\n",
       "            {\"title\": \"\\u5b63\\u5ea6\\u5f00\\u53d1\\u9879\\u76ee\\u6570&\\u5982\\u671f\\u5b8c\\u6210\\u9879\\u76ee\\u6570&\\u5ef6\\u671f\\u5b8c\\u6210&\\u5f00\\u53d1\\u4e2d\\u7684\\u9879\\u76ee\\u6570&\\u5ef6\\u671f\\u9879\\u76ee\\u6570&\\u6682\\u505c\\u9879\\u76ee\\u6570\\u6708\\u8d8b\\u52bf\\u56fe\", \"xaxis\": {\"mirror\": \"all\", \"nticks\": 20, \"showgrid\": true, \"showline\": true, \"title\": \"\\u6708\", \"zeroline\": true}, \"yaxis\": {\"mirror\": \"all\", \"nticks\": 20, \"showgrid\": true, \"showline\": true, \"title\": \"\\u5b63\\u5ea6\\u5f00\\u53d1\\u9879\\u76ee\\u6570&\\u5982\\u671f\\u5b8c\\u6210\\u9879\\u76ee\\u6570&\\u5ef6\\u671f\\u5b8c\\u6210&\\u5f00\\u53d1\\u4e2d\\u7684\\u9879\\u76ee\\u6570&\\u5ef6\\u671f\\u9879\\u76ee\\u6570&\\u6682\\u505c\\u9879\\u76ee\\u6570\", \"zeroline\": true}},\n",
       "            {\"showLink\": true, \"linkText\": \"Export to plot.ly\"}\n",
       "        ).then(function () {return Plotly.addFrames('94b5ce6c-10ad-4b47-a085-3da8e0952b6b',{});}).then(function(){Plotly.animate('94b5ce6c-10ad-4b47-a085-3da8e0952b6b');})\n",
       "        });</script>"
      ],
      "text/vnd.plotly.v1+html": [
       "<div id=\"94b5ce6c-10ad-4b47-a085-3da8e0952b6b\" style=\"height: 525px; width: 100%;\" class=\"plotly-graph-div\"></div><script type=\"text/javascript\">require([\"plotly\"], function(Plotly) { window.PLOTLYENV=window.PLOTLYENV || {};window.PLOTLYENV.BASE_URL=\"https://plot.ly\";\n",
       "        Plotly.plot(\n",
       "            '94b5ce6c-10ad-4b47-a085-3da8e0952b6b',\n",
       "            [{\"name\": \"\\u5b63\\u5ea6\\u5f00\\u53d1\\u9879\\u76ee\\u6570\", \"x\": [\"8\", \"9\"], \"y\": [663.0, 915.0], \"type\": \"scatter\", \"uid\": \"6e379cbc-c204-11e8-ad45-a81e84e6c740\"}, {\"name\": \"\\u5982\\u671f\\u5b8c\\u6210\\u9879\\u76ee\\u6570\", \"x\": [\"8\", \"9\"], \"y\": [413.0, 623.0], \"type\": \"scatter\", \"uid\": \"6e37a068-c204-11e8-ad45-a81e84e6c740\"}, {\"name\": \"\\u5ef6\\u671f\\u5b8c\\u6210\", \"x\": [\"8\", \"9\"], \"y\": [33.0, 52.0], \"type\": \"scatter\", \"uid\": \"6e37a2ca-c204-11e8-ad45-a81e84e6c740\"}, {\"name\": \"\\u5f00\\u53d1\\u4e2d\\u7684\\u9879\\u76ee\\u6570\", \"x\": [\"8\", \"9\"], \"y\": [163.0, 140.0], \"type\": \"scatter\", \"uid\": \"6e37a4dc-c204-11e8-ad45-a81e84e6c740\"}, {\"name\": \"\\u5ef6\\u671f\\u9879\\u76ee\\u6570\", \"x\": [\"8\", \"9\"], \"y\": [24.0, 56.0], \"type\": \"scatter\", \"uid\": \"6e37a6e4-c204-11e8-ad45-a81e84e6c740\"}, {\"name\": \"\\u6682\\u505c\\u9879\\u76ee\\u6570\", \"x\": [\"8\", \"9\"], \"y\": [30.0, 72.0], \"type\": \"scatter\", \"uid\": \"6e37a8e2-c204-11e8-ad45-a81e84e6c740\"}],\n",
       "            {\"title\": \"\\u5b63\\u5ea6\\u5f00\\u53d1\\u9879\\u76ee\\u6570&\\u5982\\u671f\\u5b8c\\u6210\\u9879\\u76ee\\u6570&\\u5ef6\\u671f\\u5b8c\\u6210&\\u5f00\\u53d1\\u4e2d\\u7684\\u9879\\u76ee\\u6570&\\u5ef6\\u671f\\u9879\\u76ee\\u6570&\\u6682\\u505c\\u9879\\u76ee\\u6570\\u6708\\u8d8b\\u52bf\\u56fe\", \"xaxis\": {\"mirror\": \"all\", \"nticks\": 20, \"showgrid\": true, \"showline\": true, \"title\": \"\\u6708\", \"zeroline\": true}, \"yaxis\": {\"mirror\": \"all\", \"nticks\": 20, \"showgrid\": true, \"showline\": true, \"title\": \"\\u5b63\\u5ea6\\u5f00\\u53d1\\u9879\\u76ee\\u6570&\\u5982\\u671f\\u5b8c\\u6210\\u9879\\u76ee\\u6570&\\u5ef6\\u671f\\u5b8c\\u6210&\\u5f00\\u53d1\\u4e2d\\u7684\\u9879\\u76ee\\u6570&\\u5ef6\\u671f\\u9879\\u76ee\\u6570&\\u6682\\u505c\\u9879\\u76ee\\u6570\", \"zeroline\": true}},\n",
       "            {\"showLink\": true, \"linkText\": \"Export to plot.ly\"}\n",
       "        ).then(function () {return Plotly.addFrames('94b5ce6c-10ad-4b47-a085-3da8e0952b6b',{});}).then(function(){Plotly.animate('94b5ce6c-10ad-4b47-a085-3da8e0952b6b');})\n",
       "        });</script>"
      ]
     },
     "metadata": {},
     "output_type": "display_data"
    }
   ],
   "source": [
    "data_dict = {'季度开发项目数': ['季度开发项目数'], '如期完成项目数': ['如期完成项目数'], '延期完成': ['延期完成'],\\\n",
    "             '开发中的项目数': ['开发中的项目数'], '延期项目数': ['延期项目数'], '暂停项目数': ['暂停项目数']}\n",
    "myModule.plot( all_dict, data_dict, '负责人' ,  'line' , all='all')"
   ]
  },
  {
   "cell_type": "markdown",
   "metadata": {
    "hide_input": true
   },
   "source": [
    "### 个人成长指数"
   ]
  },
  {
   "cell_type": "markdown",
   "metadata": {},
   "source": [
    "#### 电话会议次数、软著撰写完成数、专利撰写完成数、外出技术支持数、客户来访接待数和文章数"
   ]
  },
  {
   "cell_type": "code",
   "execution_count": 11,
   "metadata": {},
   "outputs": [
    {
     "data": {
      "application/vnd.plotly.v1+json": {
       "data": [
        {
         "name": "电话会议次数",
         "type": "scatter",
         "uid": "6eacd964-c204-11e8-ad45-a81e84e6c740",
         "x": [
          "8-3",
          "8-4",
          "9-1",
          "9-2",
          "9-3"
         ],
         "y": [
          9,
          5,
          5,
          8,
          8
         ]
        },
        {
         "name": "外出技术支持数",
         "type": "scatter",
         "uid": "6eacdcac-c204-11e8-ad45-a81e84e6c740",
         "x": [
          "8-3",
          "8-4",
          "9-1",
          "9-2",
          "9-3"
         ],
         "y": [
          0,
          0,
          0,
          0,
          0
         ]
        },
        {
         "name": "客户来访接待数",
         "type": "scatter",
         "uid": "6eacdf36-c204-11e8-ad45-a81e84e6c740",
         "x": [
          "8-3",
          "8-4",
          "9-1",
          "9-2",
          "9-3"
         ],
         "y": [
          3,
          0,
          0,
          0,
          1
         ]
        }
       ],
       "layout": {
        "title": "电话会议次数&外出技术支持数&客户来访接待数周趋势图",
        "xaxis": {
         "mirror": "all",
         "nticks": 20,
         "showgrid": true,
         "showline": true,
         "title": "周",
         "zeroline": true
        },
        "yaxis": {
         "mirror": "all",
         "nticks": 20,
         "showgrid": true,
         "showline": true,
         "title": "电话会议次数&外出技术支持数&客户来访接待数",
         "zeroline": true
        }
       }
      },
      "text/html": [
       "<div id=\"22f94847-19b7-47b7-abdd-9d2ec3228cf4\" style=\"height: 525px; width: 100%;\" class=\"plotly-graph-div\"></div><script type=\"text/javascript\">require([\"plotly\"], function(Plotly) { window.PLOTLYENV=window.PLOTLYENV || {};window.PLOTLYENV.BASE_URL=\"https://plot.ly\";\n",
       "        Plotly.plot(\n",
       "            '22f94847-19b7-47b7-abdd-9d2ec3228cf4',\n",
       "            [{\"name\": \"\\u7535\\u8bdd\\u4f1a\\u8bae\\u6b21\\u6570\", \"x\": [\"8-3\", \"8-4\", \"9-1\", \"9-2\", \"9-3\"], \"y\": [9.0, 5.0, 5.0, 8.0, 8.0], \"type\": \"scatter\", \"uid\": \"6eacd964-c204-11e8-ad45-a81e84e6c740\"}, {\"name\": \"\\u5916\\u51fa\\u6280\\u672f\\u652f\\u6301\\u6570\", \"x\": [\"8-3\", \"8-4\", \"9-1\", \"9-2\", \"9-3\"], \"y\": [0.0, 0.0, 0.0, 0.0, 0.0], \"type\": \"scatter\", \"uid\": \"6eacdcac-c204-11e8-ad45-a81e84e6c740\"}, {\"name\": \"\\u5ba2\\u6237\\u6765\\u8bbf\\u63a5\\u5f85\\u6570\", \"x\": [\"8-3\", \"8-4\", \"9-1\", \"9-2\", \"9-3\"], \"y\": [3.0, 0.0, 0.0, 0.0, 1.0], \"type\": \"scatter\", \"uid\": \"6eacdf36-c204-11e8-ad45-a81e84e6c740\"}],\n",
       "            {\"title\": \"\\u7535\\u8bdd\\u4f1a\\u8bae\\u6b21\\u6570&\\u5916\\u51fa\\u6280\\u672f\\u652f\\u6301\\u6570&\\u5ba2\\u6237\\u6765\\u8bbf\\u63a5\\u5f85\\u6570\\u5468\\u8d8b\\u52bf\\u56fe\", \"xaxis\": {\"mirror\": \"all\", \"nticks\": 20, \"showgrid\": true, \"showline\": true, \"title\": \"\\u5468\", \"zeroline\": true}, \"yaxis\": {\"mirror\": \"all\", \"nticks\": 20, \"showgrid\": true, \"showline\": true, \"title\": \"\\u7535\\u8bdd\\u4f1a\\u8bae\\u6b21\\u6570&\\u5916\\u51fa\\u6280\\u672f\\u652f\\u6301\\u6570&\\u5ba2\\u6237\\u6765\\u8bbf\\u63a5\\u5f85\\u6570\", \"zeroline\": true}},\n",
       "            {\"showLink\": true, \"linkText\": \"Export to plot.ly\"}\n",
       "        ).then(function () {return Plotly.addFrames('22f94847-19b7-47b7-abdd-9d2ec3228cf4',{});}).then(function(){Plotly.animate('22f94847-19b7-47b7-abdd-9d2ec3228cf4');})\n",
       "        });</script>"
      ],
      "text/vnd.plotly.v1+html": [
       "<div id=\"22f94847-19b7-47b7-abdd-9d2ec3228cf4\" style=\"height: 525px; width: 100%;\" class=\"plotly-graph-div\"></div><script type=\"text/javascript\">require([\"plotly\"], function(Plotly) { window.PLOTLYENV=window.PLOTLYENV || {};window.PLOTLYENV.BASE_URL=\"https://plot.ly\";\n",
       "        Plotly.plot(\n",
       "            '22f94847-19b7-47b7-abdd-9d2ec3228cf4',\n",
       "            [{\"name\": \"\\u7535\\u8bdd\\u4f1a\\u8bae\\u6b21\\u6570\", \"x\": [\"8-3\", \"8-4\", \"9-1\", \"9-2\", \"9-3\"], \"y\": [9.0, 5.0, 5.0, 8.0, 8.0], \"type\": \"scatter\", \"uid\": \"6eacd964-c204-11e8-ad45-a81e84e6c740\"}, {\"name\": \"\\u5916\\u51fa\\u6280\\u672f\\u652f\\u6301\\u6570\", \"x\": [\"8-3\", \"8-4\", \"9-1\", \"9-2\", \"9-3\"], \"y\": [0.0, 0.0, 0.0, 0.0, 0.0], \"type\": \"scatter\", \"uid\": \"6eacdcac-c204-11e8-ad45-a81e84e6c740\"}, {\"name\": \"\\u5ba2\\u6237\\u6765\\u8bbf\\u63a5\\u5f85\\u6570\", \"x\": [\"8-3\", \"8-4\", \"9-1\", \"9-2\", \"9-3\"], \"y\": [3.0, 0.0, 0.0, 0.0, 1.0], \"type\": \"scatter\", \"uid\": \"6eacdf36-c204-11e8-ad45-a81e84e6c740\"}],\n",
       "            {\"title\": \"\\u7535\\u8bdd\\u4f1a\\u8bae\\u6b21\\u6570&\\u5916\\u51fa\\u6280\\u672f\\u652f\\u6301\\u6570&\\u5ba2\\u6237\\u6765\\u8bbf\\u63a5\\u5f85\\u6570\\u5468\\u8d8b\\u52bf\\u56fe\", \"xaxis\": {\"mirror\": \"all\", \"nticks\": 20, \"showgrid\": true, \"showline\": true, \"title\": \"\\u5468\", \"zeroline\": true}, \"yaxis\": {\"mirror\": \"all\", \"nticks\": 20, \"showgrid\": true, \"showline\": true, \"title\": \"\\u7535\\u8bdd\\u4f1a\\u8bae\\u6b21\\u6570&\\u5916\\u51fa\\u6280\\u672f\\u652f\\u6301\\u6570&\\u5ba2\\u6237\\u6765\\u8bbf\\u63a5\\u5f85\\u6570\", \"zeroline\": true}},\n",
       "            {\"showLink\": true, \"linkText\": \"Export to plot.ly\"}\n",
       "        ).then(function () {return Plotly.addFrames('22f94847-19b7-47b7-abdd-9d2ec3228cf4',{});}).then(function(){Plotly.animate('22f94847-19b7-47b7-abdd-9d2ec3228cf4');})\n",
       "        });</script>"
      ]
     },
     "metadata": {},
     "output_type": "display_data"
    },
    {
     "data": {
      "application/vnd.plotly.v1+json": {
       "data": [
        {
         "name": "电话会议次数",
         "type": "scatter",
         "uid": "6ebed998-c204-11e8-ad45-a81e84e6c740",
         "x": [
          "8",
          "9"
         ],
         "y": [
          14,
          21
         ]
        },
        {
         "name": "外出技术支持数",
         "type": "scatter",
         "uid": "6ebedfba-c204-11e8-ad45-a81e84e6c740",
         "x": [
          "8",
          "9"
         ],
         "y": [
          0,
          0
         ]
        },
        {
         "name": "客户来访接待数",
         "type": "scatter",
         "uid": "6ebee3e8-c204-11e8-ad45-a81e84e6c740",
         "x": [
          "8",
          "9"
         ],
         "y": [
          3,
          1
         ]
        }
       ],
       "layout": {
        "title": "电话会议次数&外出技术支持数&客户来访接待数月趋势图",
        "xaxis": {
         "mirror": "all",
         "nticks": 20,
         "showgrid": true,
         "showline": true,
         "title": "月",
         "zeroline": true
        },
        "yaxis": {
         "mirror": "all",
         "nticks": 20,
         "showgrid": true,
         "showline": true,
         "title": "电话会议次数&外出技术支持数&客户来访接待数",
         "zeroline": true
        }
       }
      },
      "text/html": [
       "<div id=\"d125ec0a-737b-4a77-9bad-3c5cb864f0ec\" style=\"height: 525px; width: 100%;\" class=\"plotly-graph-div\"></div><script type=\"text/javascript\">require([\"plotly\"], function(Plotly) { window.PLOTLYENV=window.PLOTLYENV || {};window.PLOTLYENV.BASE_URL=\"https://plot.ly\";\n",
       "        Plotly.plot(\n",
       "            'd125ec0a-737b-4a77-9bad-3c5cb864f0ec',\n",
       "            [{\"name\": \"\\u7535\\u8bdd\\u4f1a\\u8bae\\u6b21\\u6570\", \"x\": [\"8\", \"9\"], \"y\": [14.0, 21.0], \"type\": \"scatter\", \"uid\": \"6ebed998-c204-11e8-ad45-a81e84e6c740\"}, {\"name\": \"\\u5916\\u51fa\\u6280\\u672f\\u652f\\u6301\\u6570\", \"x\": [\"8\", \"9\"], \"y\": [0.0, 0.0], \"type\": \"scatter\", \"uid\": \"6ebedfba-c204-11e8-ad45-a81e84e6c740\"}, {\"name\": \"\\u5ba2\\u6237\\u6765\\u8bbf\\u63a5\\u5f85\\u6570\", \"x\": [\"8\", \"9\"], \"y\": [3.0, 1.0], \"type\": \"scatter\", \"uid\": \"6ebee3e8-c204-11e8-ad45-a81e84e6c740\"}],\n",
       "            {\"title\": \"\\u7535\\u8bdd\\u4f1a\\u8bae\\u6b21\\u6570&\\u5916\\u51fa\\u6280\\u672f\\u652f\\u6301\\u6570&\\u5ba2\\u6237\\u6765\\u8bbf\\u63a5\\u5f85\\u6570\\u6708\\u8d8b\\u52bf\\u56fe\", \"xaxis\": {\"mirror\": \"all\", \"nticks\": 20, \"showgrid\": true, \"showline\": true, \"title\": \"\\u6708\", \"zeroline\": true}, \"yaxis\": {\"mirror\": \"all\", \"nticks\": 20, \"showgrid\": true, \"showline\": true, \"title\": \"\\u7535\\u8bdd\\u4f1a\\u8bae\\u6b21\\u6570&\\u5916\\u51fa\\u6280\\u672f\\u652f\\u6301\\u6570&\\u5ba2\\u6237\\u6765\\u8bbf\\u63a5\\u5f85\\u6570\", \"zeroline\": true}},\n",
       "            {\"showLink\": true, \"linkText\": \"Export to plot.ly\"}\n",
       "        ).then(function () {return Plotly.addFrames('d125ec0a-737b-4a77-9bad-3c5cb864f0ec',{});}).then(function(){Plotly.animate('d125ec0a-737b-4a77-9bad-3c5cb864f0ec');})\n",
       "        });</script>"
      ],
      "text/vnd.plotly.v1+html": [
       "<div id=\"d125ec0a-737b-4a77-9bad-3c5cb864f0ec\" style=\"height: 525px; width: 100%;\" class=\"plotly-graph-div\"></div><script type=\"text/javascript\">require([\"plotly\"], function(Plotly) { window.PLOTLYENV=window.PLOTLYENV || {};window.PLOTLYENV.BASE_URL=\"https://plot.ly\";\n",
       "        Plotly.plot(\n",
       "            'd125ec0a-737b-4a77-9bad-3c5cb864f0ec',\n",
       "            [{\"name\": \"\\u7535\\u8bdd\\u4f1a\\u8bae\\u6b21\\u6570\", \"x\": [\"8\", \"9\"], \"y\": [14.0, 21.0], \"type\": \"scatter\", \"uid\": \"6ebed998-c204-11e8-ad45-a81e84e6c740\"}, {\"name\": \"\\u5916\\u51fa\\u6280\\u672f\\u652f\\u6301\\u6570\", \"x\": [\"8\", \"9\"], \"y\": [0.0, 0.0], \"type\": \"scatter\", \"uid\": \"6ebedfba-c204-11e8-ad45-a81e84e6c740\"}, {\"name\": \"\\u5ba2\\u6237\\u6765\\u8bbf\\u63a5\\u5f85\\u6570\", \"x\": [\"8\", \"9\"], \"y\": [3.0, 1.0], \"type\": \"scatter\", \"uid\": \"6ebee3e8-c204-11e8-ad45-a81e84e6c740\"}],\n",
       "            {\"title\": \"\\u7535\\u8bdd\\u4f1a\\u8bae\\u6b21\\u6570&\\u5916\\u51fa\\u6280\\u672f\\u652f\\u6301\\u6570&\\u5ba2\\u6237\\u6765\\u8bbf\\u63a5\\u5f85\\u6570\\u6708\\u8d8b\\u52bf\\u56fe\", \"xaxis\": {\"mirror\": \"all\", \"nticks\": 20, \"showgrid\": true, \"showline\": true, \"title\": \"\\u6708\", \"zeroline\": true}, \"yaxis\": {\"mirror\": \"all\", \"nticks\": 20, \"showgrid\": true, \"showline\": true, \"title\": \"\\u7535\\u8bdd\\u4f1a\\u8bae\\u6b21\\u6570&\\u5916\\u51fa\\u6280\\u672f\\u652f\\u6301\\u6570&\\u5ba2\\u6237\\u6765\\u8bbf\\u63a5\\u5f85\\u6570\", \"zeroline\": true}},\n",
       "            {\"showLink\": true, \"linkText\": \"Export to plot.ly\"}\n",
       "        ).then(function () {return Plotly.addFrames('d125ec0a-737b-4a77-9bad-3c5cb864f0ec',{});}).then(function(){Plotly.animate('d125ec0a-737b-4a77-9bad-3c5cb864f0ec');})\n",
       "        });</script>"
      ]
     },
     "metadata": {},
     "output_type": "display_data"
    }
   ],
   "source": [
    "data_dict = {'电话会议次数': ['电话会议次数'],  \\\n",
    "             '外出技术支持数': ['外出技术支持数'], '客户来访接待数': ['客户来访接待数']}\n",
    "myModule.plot( all_dict, data_dict, '负责人' ,  'line' , all='all')"
   ]
  },
  {
   "cell_type": "markdown",
   "metadata": {
    "hide_input": true
   },
   "source": [
    "## 各组情况"
   ]
  },
  {
   "cell_type": "markdown",
   "metadata": {},
   "source": [
    "### 下单整体情况"
   ]
  },
  {
   "cell_type": "markdown",
   "metadata": {},
   "source": [
    "\n",
    "#### 总下单数和完成下单数\n"
   ]
  },
  {
   "cell_type": "code",
   "execution_count": 12,
   "metadata": {},
   "outputs": [
    {
     "data": {
      "application/vnd.plotly.v1+json": {
       "data": [
        {
         "name": "生物学DNA组_总下单数",
         "type": "scatter",
         "uid": "6eece680-c204-11e8-ad45-a81e84e6c740",
         "x": [
          "8-3",
          "8-4",
          "9-1",
          "9-2",
          "9-3"
         ],
         "y": [
          28,
          35,
          37,
          36,
          20
         ]
        },
        {
         "name": "生物学DNA组_完成下单数",
         "type": "scatter",
         "uid": "6eece9aa-c204-11e8-ad45-a81e84e6c740",
         "x": [
          "8-3",
          "8-4",
          "9-1",
          "9-2",
          "9-3"
         ],
         "y": [
          19,
          31,
          40,
          31,
          19
         ]
        },
        {
         "name": "蛋白和医学组_总下单数",
         "type": "scatter",
         "uid": "6eecebe4-c204-11e8-ad45-a81e84e6c740",
         "x": [
          "8-3",
          "8-4",
          "9-1",
          "9-2",
          "9-3"
         ],
         "y": [
          35,
          48,
          37,
          33,
          54
         ]
        },
        {
         "name": "蛋白和医学组_完成下单数",
         "type": "scatter",
         "uid": "6eecedec-c204-11e8-ad45-a81e84e6c740",
         "x": [
          "8-3",
          "8-4",
          "9-1",
          "9-2",
          "9-3"
         ],
         "y": [
          33,
          47,
          34,
          30,
          52
         ]
        },
        {
         "name": "转录调控组_总下单数",
         "type": "scatter",
         "uid": "6eecefe0-c204-11e8-ad45-a81e84e6c740",
         "x": [
          "8-3",
          "8-4",
          "9-1",
          "9-2",
          "9-3"
         ],
         "y": [
          27,
          28,
          28,
          28,
          9
         ]
        },
        {
         "name": "转录调控组_完成下单数",
         "type": "scatter",
         "uid": "6eecf1c0-c204-11e8-ad45-a81e84e6c740",
         "x": [
          "8-3",
          "8-4",
          "9-1",
          "9-2",
          "9-3"
         ],
         "y": [
          23,
          25,
          23,
          27,
          9
         ]
        }
       ],
       "layout": {
        "title": "总下单数&完成下单数周趋势图",
        "xaxis": {
         "mirror": "all",
         "nticks": 20,
         "showgrid": true,
         "showline": true,
         "title": "周",
         "zeroline": true
        },
        "yaxis": {
         "mirror": "all",
         "nticks": 20,
         "showgrid": true,
         "showline": true,
         "title": "总下单数&完成下单数",
         "zeroline": true
        }
       }
      },
      "text/html": [
       "<div id=\"f72013d5-849f-4428-b669-bc14e584d493\" style=\"height: 525px; width: 100%;\" class=\"plotly-graph-div\"></div><script type=\"text/javascript\">require([\"plotly\"], function(Plotly) { window.PLOTLYENV=window.PLOTLYENV || {};window.PLOTLYENV.BASE_URL=\"https://plot.ly\";\n",
       "        Plotly.plot(\n",
       "            'f72013d5-849f-4428-b669-bc14e584d493',\n",
       "            [{\"name\": \"\\u751f\\u7269\\u5b66DNA\\u7ec4_\\u603b\\u4e0b\\u5355\\u6570\", \"x\": [\"8-3\", \"8-4\", \"9-1\", \"9-2\", \"9-3\"], \"y\": [28.0, 35.0, 37.0, 36.0, 20.0], \"type\": \"scatter\", \"uid\": \"6eece680-c204-11e8-ad45-a81e84e6c740\"}, {\"name\": \"\\u751f\\u7269\\u5b66DNA\\u7ec4_\\u5b8c\\u6210\\u4e0b\\u5355\\u6570\", \"x\": [\"8-3\", \"8-4\", \"9-1\", \"9-2\", \"9-3\"], \"y\": [19.0, 31.0, 40.0, 31.0, 19.0], \"type\": \"scatter\", \"uid\": \"6eece9aa-c204-11e8-ad45-a81e84e6c740\"}, {\"name\": \"\\u86cb\\u767d\\u548c\\u533b\\u5b66\\u7ec4_\\u603b\\u4e0b\\u5355\\u6570\", \"x\": [\"8-3\", \"8-4\", \"9-1\", \"9-2\", \"9-3\"], \"y\": [35.0, 48.0, 37.0, 33.0, 54.0], \"type\": \"scatter\", \"uid\": \"6eecebe4-c204-11e8-ad45-a81e84e6c740\"}, {\"name\": \"\\u86cb\\u767d\\u548c\\u533b\\u5b66\\u7ec4_\\u5b8c\\u6210\\u4e0b\\u5355\\u6570\", \"x\": [\"8-3\", \"8-4\", \"9-1\", \"9-2\", \"9-3\"], \"y\": [33.0, 47.0, 34.0, 30.0, 52.0], \"type\": \"scatter\", \"uid\": \"6eecedec-c204-11e8-ad45-a81e84e6c740\"}, {\"name\": \"\\u8f6c\\u5f55\\u8c03\\u63a7\\u7ec4_\\u603b\\u4e0b\\u5355\\u6570\", \"x\": [\"8-3\", \"8-4\", \"9-1\", \"9-2\", \"9-3\"], \"y\": [27.0, 28.0, 28.0, 28.0, 9.0], \"type\": \"scatter\", \"uid\": \"6eecefe0-c204-11e8-ad45-a81e84e6c740\"}, {\"name\": \"\\u8f6c\\u5f55\\u8c03\\u63a7\\u7ec4_\\u5b8c\\u6210\\u4e0b\\u5355\\u6570\", \"x\": [\"8-3\", \"8-4\", \"9-1\", \"9-2\", \"9-3\"], \"y\": [23.0, 25.0, 23.0, 27.0, 9.0], \"type\": \"scatter\", \"uid\": \"6eecf1c0-c204-11e8-ad45-a81e84e6c740\"}],\n",
       "            {\"title\": \"\\u603b\\u4e0b\\u5355\\u6570&\\u5b8c\\u6210\\u4e0b\\u5355\\u6570\\u5468\\u8d8b\\u52bf\\u56fe\", \"xaxis\": {\"mirror\": \"all\", \"nticks\": 20, \"showgrid\": true, \"showline\": true, \"title\": \"\\u5468\", \"zeroline\": true}, \"yaxis\": {\"mirror\": \"all\", \"nticks\": 20, \"showgrid\": true, \"showline\": true, \"title\": \"\\u603b\\u4e0b\\u5355\\u6570&\\u5b8c\\u6210\\u4e0b\\u5355\\u6570\", \"zeroline\": true}},\n",
       "            {\"showLink\": true, \"linkText\": \"Export to plot.ly\"}\n",
       "        ).then(function () {return Plotly.addFrames('f72013d5-849f-4428-b669-bc14e584d493',{});}).then(function(){Plotly.animate('f72013d5-849f-4428-b669-bc14e584d493');})\n",
       "        });</script>"
      ],
      "text/vnd.plotly.v1+html": [
       "<div id=\"f72013d5-849f-4428-b669-bc14e584d493\" style=\"height: 525px; width: 100%;\" class=\"plotly-graph-div\"></div><script type=\"text/javascript\">require([\"plotly\"], function(Plotly) { window.PLOTLYENV=window.PLOTLYENV || {};window.PLOTLYENV.BASE_URL=\"https://plot.ly\";\n",
       "        Plotly.plot(\n",
       "            'f72013d5-849f-4428-b669-bc14e584d493',\n",
       "            [{\"name\": \"\\u751f\\u7269\\u5b66DNA\\u7ec4_\\u603b\\u4e0b\\u5355\\u6570\", \"x\": [\"8-3\", \"8-4\", \"9-1\", \"9-2\", \"9-3\"], \"y\": [28.0, 35.0, 37.0, 36.0, 20.0], \"type\": \"scatter\", \"uid\": \"6eece680-c204-11e8-ad45-a81e84e6c740\"}, {\"name\": \"\\u751f\\u7269\\u5b66DNA\\u7ec4_\\u5b8c\\u6210\\u4e0b\\u5355\\u6570\", \"x\": [\"8-3\", \"8-4\", \"9-1\", \"9-2\", \"9-3\"], \"y\": [19.0, 31.0, 40.0, 31.0, 19.0], \"type\": \"scatter\", \"uid\": \"6eece9aa-c204-11e8-ad45-a81e84e6c740\"}, {\"name\": \"\\u86cb\\u767d\\u548c\\u533b\\u5b66\\u7ec4_\\u603b\\u4e0b\\u5355\\u6570\", \"x\": [\"8-3\", \"8-4\", \"9-1\", \"9-2\", \"9-3\"], \"y\": [35.0, 48.0, 37.0, 33.0, 54.0], \"type\": \"scatter\", \"uid\": \"6eecebe4-c204-11e8-ad45-a81e84e6c740\"}, {\"name\": \"\\u86cb\\u767d\\u548c\\u533b\\u5b66\\u7ec4_\\u5b8c\\u6210\\u4e0b\\u5355\\u6570\", \"x\": [\"8-3\", \"8-4\", \"9-1\", \"9-2\", \"9-3\"], \"y\": [33.0, 47.0, 34.0, 30.0, 52.0], \"type\": \"scatter\", \"uid\": \"6eecedec-c204-11e8-ad45-a81e84e6c740\"}, {\"name\": \"\\u8f6c\\u5f55\\u8c03\\u63a7\\u7ec4_\\u603b\\u4e0b\\u5355\\u6570\", \"x\": [\"8-3\", \"8-4\", \"9-1\", \"9-2\", \"9-3\"], \"y\": [27.0, 28.0, 28.0, 28.0, 9.0], \"type\": \"scatter\", \"uid\": \"6eecefe0-c204-11e8-ad45-a81e84e6c740\"}, {\"name\": \"\\u8f6c\\u5f55\\u8c03\\u63a7\\u7ec4_\\u5b8c\\u6210\\u4e0b\\u5355\\u6570\", \"x\": [\"8-3\", \"8-4\", \"9-1\", \"9-2\", \"9-3\"], \"y\": [23.0, 25.0, 23.0, 27.0, 9.0], \"type\": \"scatter\", \"uid\": \"6eecf1c0-c204-11e8-ad45-a81e84e6c740\"}],\n",
       "            {\"title\": \"\\u603b\\u4e0b\\u5355\\u6570&\\u5b8c\\u6210\\u4e0b\\u5355\\u6570\\u5468\\u8d8b\\u52bf\\u56fe\", \"xaxis\": {\"mirror\": \"all\", \"nticks\": 20, \"showgrid\": true, \"showline\": true, \"title\": \"\\u5468\", \"zeroline\": true}, \"yaxis\": {\"mirror\": \"all\", \"nticks\": 20, \"showgrid\": true, \"showline\": true, \"title\": \"\\u603b\\u4e0b\\u5355\\u6570&\\u5b8c\\u6210\\u4e0b\\u5355\\u6570\", \"zeroline\": true}},\n",
       "            {\"showLink\": true, \"linkText\": \"Export to plot.ly\"}\n",
       "        ).then(function () {return Plotly.addFrames('f72013d5-849f-4428-b669-bc14e584d493',{});}).then(function(){Plotly.animate('f72013d5-849f-4428-b669-bc14e584d493');})\n",
       "        });</script>"
      ]
     },
     "metadata": {},
     "output_type": "display_data"
    },
    {
     "data": {
      "application/vnd.plotly.v1+json": {
       "data": [
        {
         "name": "生物学DNA组_总下单数",
         "type": "scatter",
         "uid": "6f0a43b0-c204-11e8-ad45-a81e84e6c740",
         "x": [
          "8",
          "9"
         ],
         "y": [
          63,
          93
         ]
        },
        {
         "name": "生物学DNA组_完成下单数",
         "type": "scatter",
         "uid": "6f0a48a6-c204-11e8-ad45-a81e84e6c740",
         "x": [
          "8",
          "9"
         ],
         "y": [
          50,
          90
         ]
        },
        {
         "name": "蛋白和医学组_总下单数",
         "type": "scatter",
         "uid": "6f0a4b76-c204-11e8-ad45-a81e84e6c740",
         "x": [
          "8",
          "9"
         ],
         "y": [
          83,
          124
         ]
        },
        {
         "name": "蛋白和医学组_完成下单数",
         "type": "scatter",
         "uid": "6f0a4da6-c204-11e8-ad45-a81e84e6c740",
         "x": [
          "8",
          "9"
         ],
         "y": [
          80,
          116
         ]
        },
        {
         "name": "转录调控组_总下单数",
         "type": "scatter",
         "uid": "6f0a4fae-c204-11e8-ad45-a81e84e6c740",
         "x": [
          "8",
          "9"
         ],
         "y": [
          55,
          65
         ]
        },
        {
         "name": "转录调控组_完成下单数",
         "type": "scatter",
         "uid": "6f0a51a2-c204-11e8-ad45-a81e84e6c740",
         "x": [
          "8",
          "9"
         ],
         "y": [
          48,
          59
         ]
        }
       ],
       "layout": {
        "title": "总下单数&完成下单数月趋势图",
        "xaxis": {
         "mirror": "all",
         "nticks": 20,
         "showgrid": true,
         "showline": true,
         "title": "月",
         "zeroline": true
        },
        "yaxis": {
         "mirror": "all",
         "nticks": 20,
         "showgrid": true,
         "showline": true,
         "title": "总下单数&完成下单数",
         "zeroline": true
        }
       }
      },
      "text/html": [
       "<div id=\"fd6b9525-01a1-4fe3-84e2-d40c27ae9b7b\" style=\"height: 525px; width: 100%;\" class=\"plotly-graph-div\"></div><script type=\"text/javascript\">require([\"plotly\"], function(Plotly) { window.PLOTLYENV=window.PLOTLYENV || {};window.PLOTLYENV.BASE_URL=\"https://plot.ly\";\n",
       "        Plotly.plot(\n",
       "            'fd6b9525-01a1-4fe3-84e2-d40c27ae9b7b',\n",
       "            [{\"name\": \"\\u751f\\u7269\\u5b66DNA\\u7ec4_\\u603b\\u4e0b\\u5355\\u6570\", \"x\": [\"8\", \"9\"], \"y\": [63.0, 93.0], \"type\": \"scatter\", \"uid\": \"6f0a43b0-c204-11e8-ad45-a81e84e6c740\"}, {\"name\": \"\\u751f\\u7269\\u5b66DNA\\u7ec4_\\u5b8c\\u6210\\u4e0b\\u5355\\u6570\", \"x\": [\"8\", \"9\"], \"y\": [50.0, 90.0], \"type\": \"scatter\", \"uid\": \"6f0a48a6-c204-11e8-ad45-a81e84e6c740\"}, {\"name\": \"\\u86cb\\u767d\\u548c\\u533b\\u5b66\\u7ec4_\\u603b\\u4e0b\\u5355\\u6570\", \"x\": [\"8\", \"9\"], \"y\": [83.0, 124.0], \"type\": \"scatter\", \"uid\": \"6f0a4b76-c204-11e8-ad45-a81e84e6c740\"}, {\"name\": \"\\u86cb\\u767d\\u548c\\u533b\\u5b66\\u7ec4_\\u5b8c\\u6210\\u4e0b\\u5355\\u6570\", \"x\": [\"8\", \"9\"], \"y\": [80.0, 116.0], \"type\": \"scatter\", \"uid\": \"6f0a4da6-c204-11e8-ad45-a81e84e6c740\"}, {\"name\": \"\\u8f6c\\u5f55\\u8c03\\u63a7\\u7ec4_\\u603b\\u4e0b\\u5355\\u6570\", \"x\": [\"8\", \"9\"], \"y\": [55.0, 65.0], \"type\": \"scatter\", \"uid\": \"6f0a4fae-c204-11e8-ad45-a81e84e6c740\"}, {\"name\": \"\\u8f6c\\u5f55\\u8c03\\u63a7\\u7ec4_\\u5b8c\\u6210\\u4e0b\\u5355\\u6570\", \"x\": [\"8\", \"9\"], \"y\": [48.0, 59.0], \"type\": \"scatter\", \"uid\": \"6f0a51a2-c204-11e8-ad45-a81e84e6c740\"}],\n",
       "            {\"title\": \"\\u603b\\u4e0b\\u5355\\u6570&\\u5b8c\\u6210\\u4e0b\\u5355\\u6570\\u6708\\u8d8b\\u52bf\\u56fe\", \"xaxis\": {\"mirror\": \"all\", \"nticks\": 20, \"showgrid\": true, \"showline\": true, \"title\": \"\\u6708\", \"zeroline\": true}, \"yaxis\": {\"mirror\": \"all\", \"nticks\": 20, \"showgrid\": true, \"showline\": true, \"title\": \"\\u603b\\u4e0b\\u5355\\u6570&\\u5b8c\\u6210\\u4e0b\\u5355\\u6570\", \"zeroline\": true}},\n",
       "            {\"showLink\": true, \"linkText\": \"Export to plot.ly\"}\n",
       "        ).then(function () {return Plotly.addFrames('fd6b9525-01a1-4fe3-84e2-d40c27ae9b7b',{});}).then(function(){Plotly.animate('fd6b9525-01a1-4fe3-84e2-d40c27ae9b7b');})\n",
       "        });</script>"
      ],
      "text/vnd.plotly.v1+html": [
       "<div id=\"fd6b9525-01a1-4fe3-84e2-d40c27ae9b7b\" style=\"height: 525px; width: 100%;\" class=\"plotly-graph-div\"></div><script type=\"text/javascript\">require([\"plotly\"], function(Plotly) { window.PLOTLYENV=window.PLOTLYENV || {};window.PLOTLYENV.BASE_URL=\"https://plot.ly\";\n",
       "        Plotly.plot(\n",
       "            'fd6b9525-01a1-4fe3-84e2-d40c27ae9b7b',\n",
       "            [{\"name\": \"\\u751f\\u7269\\u5b66DNA\\u7ec4_\\u603b\\u4e0b\\u5355\\u6570\", \"x\": [\"8\", \"9\"], \"y\": [63.0, 93.0], \"type\": \"scatter\", \"uid\": \"6f0a43b0-c204-11e8-ad45-a81e84e6c740\"}, {\"name\": \"\\u751f\\u7269\\u5b66DNA\\u7ec4_\\u5b8c\\u6210\\u4e0b\\u5355\\u6570\", \"x\": [\"8\", \"9\"], \"y\": [50.0, 90.0], \"type\": \"scatter\", \"uid\": \"6f0a48a6-c204-11e8-ad45-a81e84e6c740\"}, {\"name\": \"\\u86cb\\u767d\\u548c\\u533b\\u5b66\\u7ec4_\\u603b\\u4e0b\\u5355\\u6570\", \"x\": [\"8\", \"9\"], \"y\": [83.0, 124.0], \"type\": \"scatter\", \"uid\": \"6f0a4b76-c204-11e8-ad45-a81e84e6c740\"}, {\"name\": \"\\u86cb\\u767d\\u548c\\u533b\\u5b66\\u7ec4_\\u5b8c\\u6210\\u4e0b\\u5355\\u6570\", \"x\": [\"8\", \"9\"], \"y\": [80.0, 116.0], \"type\": \"scatter\", \"uid\": \"6f0a4da6-c204-11e8-ad45-a81e84e6c740\"}, {\"name\": \"\\u8f6c\\u5f55\\u8c03\\u63a7\\u7ec4_\\u603b\\u4e0b\\u5355\\u6570\", \"x\": [\"8\", \"9\"], \"y\": [55.0, 65.0], \"type\": \"scatter\", \"uid\": \"6f0a4fae-c204-11e8-ad45-a81e84e6c740\"}, {\"name\": \"\\u8f6c\\u5f55\\u8c03\\u63a7\\u7ec4_\\u5b8c\\u6210\\u4e0b\\u5355\\u6570\", \"x\": [\"8\", \"9\"], \"y\": [48.0, 59.0], \"type\": \"scatter\", \"uid\": \"6f0a51a2-c204-11e8-ad45-a81e84e6c740\"}],\n",
       "            {\"title\": \"\\u603b\\u4e0b\\u5355\\u6570&\\u5b8c\\u6210\\u4e0b\\u5355\\u6570\\u6708\\u8d8b\\u52bf\\u56fe\", \"xaxis\": {\"mirror\": \"all\", \"nticks\": 20, \"showgrid\": true, \"showline\": true, \"title\": \"\\u6708\", \"zeroline\": true}, \"yaxis\": {\"mirror\": \"all\", \"nticks\": 20, \"showgrid\": true, \"showline\": true, \"title\": \"\\u603b\\u4e0b\\u5355\\u6570&\\u5b8c\\u6210\\u4e0b\\u5355\\u6570\", \"zeroline\": true}},\n",
       "            {\"showLink\": true, \"linkText\": \"Export to plot.ly\"}\n",
       "        ).then(function () {return Plotly.addFrames('fd6b9525-01a1-4fe3-84e2-d40c27ae9b7b',{});}).then(function(){Plotly.animate('fd6b9525-01a1-4fe3-84e2-d40c27ae9b7b');})\n",
       "        });</script>"
      ]
     },
     "metadata": {},
     "output_type": "display_data"
    }
   ],
   "source": [
    "data_dict = {'总下单数':['总下单数'],'完成下单数':['完成下单数']}\n",
    "myModule.plot( all_dict, data_dict, '组别' ,  'line', all='' )"
   ]
  },
  {
   "cell_type": "markdown",
   "metadata": {
    "hide_input": true
   },
   "source": [
    "### 高质量报告"
   ]
  },
  {
   "cell_type": "markdown",
   "metadata": {},
   "source": [
    "#### 应交高质量报告数和提交高质量报告数"
   ]
  },
  {
   "cell_type": "code",
   "execution_count": 13,
   "metadata": {},
   "outputs": [
    {
     "data": {
      "application/vnd.plotly.v1+json": {
       "data": [
        {
         "name": "生物学DNA组_应交高质量报告数",
         "type": "scatter",
         "uid": "6f3e306c-c204-11e8-ad45-a81e84e6c740",
         "x": [
          "8-3",
          "8-4",
          "9-1",
          "9-2",
          "9-3"
         ],
         "y": [
          1,
          2,
          11,
          1,
          0
         ]
        },
        {
         "name": "生物学DNA组_提交高质量报告数",
         "type": "scatter",
         "uid": "6f3e33a0-c204-11e8-ad45-a81e84e6c740",
         "x": [
          "8-3",
          "8-4",
          "9-1",
          "9-2",
          "9-3"
         ],
         "y": [
          1,
          2,
          11,
          1,
          1
         ]
        },
        {
         "name": "蛋白和医学组_应交高质量报告数",
         "type": "scatter",
         "uid": "6f3e35f8-c204-11e8-ad45-a81e84e6c740",
         "x": [
          "8-3",
          "8-4",
          "9-1",
          "9-2",
          "9-3"
         ],
         "y": [
          3,
          4,
          3,
          0,
          0
         ]
        },
        {
         "name": "蛋白和医学组_提交高质量报告数",
         "type": "scatter",
         "uid": "6f3e380a-c204-11e8-ad45-a81e84e6c740",
         "x": [
          "8-3",
          "8-4",
          "9-1",
          "9-2",
          "9-3"
         ],
         "y": [
          3,
          4,
          3,
          0,
          0
         ]
        },
        {
         "name": "转录调控组_应交高质量报告数",
         "type": "scatter",
         "uid": "6f3e3a26-c204-11e8-ad45-a81e84e6c740",
         "x": [
          "8-3",
          "8-4",
          "9-1",
          "9-2",
          "9-3"
         ],
         "y": [
          5,
          1,
          3,
          7,
          4
         ]
        },
        {
         "name": "转录调控组_提交高质量报告数",
         "type": "scatter",
         "uid": "6f3e3c24-c204-11e8-ad45-a81e84e6c740",
         "x": [
          "8-3",
          "8-4",
          "9-1",
          "9-2",
          "9-3"
         ],
         "y": [
          5,
          1,
          3,
          5,
          4
         ]
        }
       ],
       "layout": {
        "title": "应交高质量报告数&提交高质量报告数周趋势图",
        "xaxis": {
         "mirror": "all",
         "nticks": 20,
         "showgrid": true,
         "showline": true,
         "title": "周",
         "zeroline": true
        },
        "yaxis": {
         "mirror": "all",
         "nticks": 20,
         "showgrid": true,
         "showline": true,
         "title": "应交高质量报告数&提交高质量报告数",
         "zeroline": true
        }
       }
      },
      "text/html": [
       "<div id=\"58e0de7f-0fbb-4e0c-8372-ace5c9387cb8\" style=\"height: 525px; width: 100%;\" class=\"plotly-graph-div\"></div><script type=\"text/javascript\">require([\"plotly\"], function(Plotly) { window.PLOTLYENV=window.PLOTLYENV || {};window.PLOTLYENV.BASE_URL=\"https://plot.ly\";\n",
       "        Plotly.plot(\n",
       "            '58e0de7f-0fbb-4e0c-8372-ace5c9387cb8',\n",
       "            [{\"name\": \"\\u751f\\u7269\\u5b66DNA\\u7ec4_\\u5e94\\u4ea4\\u9ad8\\u8d28\\u91cf\\u62a5\\u544a\\u6570\", \"x\": [\"8-3\", \"8-4\", \"9-1\", \"9-2\", \"9-3\"], \"y\": [1.0, 2.0, 11.0, 1.0, 0.0], \"type\": \"scatter\", \"uid\": \"6f3e306c-c204-11e8-ad45-a81e84e6c740\"}, {\"name\": \"\\u751f\\u7269\\u5b66DNA\\u7ec4_\\u63d0\\u4ea4\\u9ad8\\u8d28\\u91cf\\u62a5\\u544a\\u6570\", \"x\": [\"8-3\", \"8-4\", \"9-1\", \"9-2\", \"9-3\"], \"y\": [1.0, 2.0, 11.0, 1.0, 1.0], \"type\": \"scatter\", \"uid\": \"6f3e33a0-c204-11e8-ad45-a81e84e6c740\"}, {\"name\": \"\\u86cb\\u767d\\u548c\\u533b\\u5b66\\u7ec4_\\u5e94\\u4ea4\\u9ad8\\u8d28\\u91cf\\u62a5\\u544a\\u6570\", \"x\": [\"8-3\", \"8-4\", \"9-1\", \"9-2\", \"9-3\"], \"y\": [3.0, 4.0, 3.0, 0.0, 0.0], \"type\": \"scatter\", \"uid\": \"6f3e35f8-c204-11e8-ad45-a81e84e6c740\"}, {\"name\": \"\\u86cb\\u767d\\u548c\\u533b\\u5b66\\u7ec4_\\u63d0\\u4ea4\\u9ad8\\u8d28\\u91cf\\u62a5\\u544a\\u6570\", \"x\": [\"8-3\", \"8-4\", \"9-1\", \"9-2\", \"9-3\"], \"y\": [3.0, 4.0, 3.0, 0.0, 0.0], \"type\": \"scatter\", \"uid\": \"6f3e380a-c204-11e8-ad45-a81e84e6c740\"}, {\"name\": \"\\u8f6c\\u5f55\\u8c03\\u63a7\\u7ec4_\\u5e94\\u4ea4\\u9ad8\\u8d28\\u91cf\\u62a5\\u544a\\u6570\", \"x\": [\"8-3\", \"8-4\", \"9-1\", \"9-2\", \"9-3\"], \"y\": [5.0, 1.0, 3.0, 7.0, 4.0], \"type\": \"scatter\", \"uid\": \"6f3e3a26-c204-11e8-ad45-a81e84e6c740\"}, {\"name\": \"\\u8f6c\\u5f55\\u8c03\\u63a7\\u7ec4_\\u63d0\\u4ea4\\u9ad8\\u8d28\\u91cf\\u62a5\\u544a\\u6570\", \"x\": [\"8-3\", \"8-4\", \"9-1\", \"9-2\", \"9-3\"], \"y\": [5.0, 1.0, 3.0, 5.0, 4.0], \"type\": \"scatter\", \"uid\": \"6f3e3c24-c204-11e8-ad45-a81e84e6c740\"}],\n",
       "            {\"title\": \"\\u5e94\\u4ea4\\u9ad8\\u8d28\\u91cf\\u62a5\\u544a\\u6570&\\u63d0\\u4ea4\\u9ad8\\u8d28\\u91cf\\u62a5\\u544a\\u6570\\u5468\\u8d8b\\u52bf\\u56fe\", \"xaxis\": {\"mirror\": \"all\", \"nticks\": 20, \"showgrid\": true, \"showline\": true, \"title\": \"\\u5468\", \"zeroline\": true}, \"yaxis\": {\"mirror\": \"all\", \"nticks\": 20, \"showgrid\": true, \"showline\": true, \"title\": \"\\u5e94\\u4ea4\\u9ad8\\u8d28\\u91cf\\u62a5\\u544a\\u6570&\\u63d0\\u4ea4\\u9ad8\\u8d28\\u91cf\\u62a5\\u544a\\u6570\", \"zeroline\": true}},\n",
       "            {\"showLink\": true, \"linkText\": \"Export to plot.ly\"}\n",
       "        ).then(function () {return Plotly.addFrames('58e0de7f-0fbb-4e0c-8372-ace5c9387cb8',{});}).then(function(){Plotly.animate('58e0de7f-0fbb-4e0c-8372-ace5c9387cb8');})\n",
       "        });</script>"
      ],
      "text/vnd.plotly.v1+html": [
       "<div id=\"58e0de7f-0fbb-4e0c-8372-ace5c9387cb8\" style=\"height: 525px; width: 100%;\" class=\"plotly-graph-div\"></div><script type=\"text/javascript\">require([\"plotly\"], function(Plotly) { window.PLOTLYENV=window.PLOTLYENV || {};window.PLOTLYENV.BASE_URL=\"https://plot.ly\";\n",
       "        Plotly.plot(\n",
       "            '58e0de7f-0fbb-4e0c-8372-ace5c9387cb8',\n",
       "            [{\"name\": \"\\u751f\\u7269\\u5b66DNA\\u7ec4_\\u5e94\\u4ea4\\u9ad8\\u8d28\\u91cf\\u62a5\\u544a\\u6570\", \"x\": [\"8-3\", \"8-4\", \"9-1\", \"9-2\", \"9-3\"], \"y\": [1.0, 2.0, 11.0, 1.0, 0.0], \"type\": \"scatter\", \"uid\": \"6f3e306c-c204-11e8-ad45-a81e84e6c740\"}, {\"name\": \"\\u751f\\u7269\\u5b66DNA\\u7ec4_\\u63d0\\u4ea4\\u9ad8\\u8d28\\u91cf\\u62a5\\u544a\\u6570\", \"x\": [\"8-3\", \"8-4\", \"9-1\", \"9-2\", \"9-3\"], \"y\": [1.0, 2.0, 11.0, 1.0, 1.0], \"type\": \"scatter\", \"uid\": \"6f3e33a0-c204-11e8-ad45-a81e84e6c740\"}, {\"name\": \"\\u86cb\\u767d\\u548c\\u533b\\u5b66\\u7ec4_\\u5e94\\u4ea4\\u9ad8\\u8d28\\u91cf\\u62a5\\u544a\\u6570\", \"x\": [\"8-3\", \"8-4\", \"9-1\", \"9-2\", \"9-3\"], \"y\": [3.0, 4.0, 3.0, 0.0, 0.0], \"type\": \"scatter\", \"uid\": \"6f3e35f8-c204-11e8-ad45-a81e84e6c740\"}, {\"name\": \"\\u86cb\\u767d\\u548c\\u533b\\u5b66\\u7ec4_\\u63d0\\u4ea4\\u9ad8\\u8d28\\u91cf\\u62a5\\u544a\\u6570\", \"x\": [\"8-3\", \"8-4\", \"9-1\", \"9-2\", \"9-3\"], \"y\": [3.0, 4.0, 3.0, 0.0, 0.0], \"type\": \"scatter\", \"uid\": \"6f3e380a-c204-11e8-ad45-a81e84e6c740\"}, {\"name\": \"\\u8f6c\\u5f55\\u8c03\\u63a7\\u7ec4_\\u5e94\\u4ea4\\u9ad8\\u8d28\\u91cf\\u62a5\\u544a\\u6570\", \"x\": [\"8-3\", \"8-4\", \"9-1\", \"9-2\", \"9-3\"], \"y\": [5.0, 1.0, 3.0, 7.0, 4.0], \"type\": \"scatter\", \"uid\": \"6f3e3a26-c204-11e8-ad45-a81e84e6c740\"}, {\"name\": \"\\u8f6c\\u5f55\\u8c03\\u63a7\\u7ec4_\\u63d0\\u4ea4\\u9ad8\\u8d28\\u91cf\\u62a5\\u544a\\u6570\", \"x\": [\"8-3\", \"8-4\", \"9-1\", \"9-2\", \"9-3\"], \"y\": [5.0, 1.0, 3.0, 5.0, 4.0], \"type\": \"scatter\", \"uid\": \"6f3e3c24-c204-11e8-ad45-a81e84e6c740\"}],\n",
       "            {\"title\": \"\\u5e94\\u4ea4\\u9ad8\\u8d28\\u91cf\\u62a5\\u544a\\u6570&\\u63d0\\u4ea4\\u9ad8\\u8d28\\u91cf\\u62a5\\u544a\\u6570\\u5468\\u8d8b\\u52bf\\u56fe\", \"xaxis\": {\"mirror\": \"all\", \"nticks\": 20, \"showgrid\": true, \"showline\": true, \"title\": \"\\u5468\", \"zeroline\": true}, \"yaxis\": {\"mirror\": \"all\", \"nticks\": 20, \"showgrid\": true, \"showline\": true, \"title\": \"\\u5e94\\u4ea4\\u9ad8\\u8d28\\u91cf\\u62a5\\u544a\\u6570&\\u63d0\\u4ea4\\u9ad8\\u8d28\\u91cf\\u62a5\\u544a\\u6570\", \"zeroline\": true}},\n",
       "            {\"showLink\": true, \"linkText\": \"Export to plot.ly\"}\n",
       "        ).then(function () {return Plotly.addFrames('58e0de7f-0fbb-4e0c-8372-ace5c9387cb8',{});}).then(function(){Plotly.animate('58e0de7f-0fbb-4e0c-8372-ace5c9387cb8');})\n",
       "        });</script>"
      ]
     },
     "metadata": {},
     "output_type": "display_data"
    },
    {
     "data": {
      "application/vnd.plotly.v1+json": {
       "data": [
        {
         "name": "生物学DNA组_应交高质量报告数",
         "type": "scatter",
         "uid": "6f527a86-c204-11e8-ad45-a81e84e6c740",
         "x": [
          "8",
          "9"
         ],
         "y": [
          3,
          12
         ]
        },
        {
         "name": "生物学DNA组_提交高质量报告数",
         "type": "scatter",
         "uid": "6f527f68-c204-11e8-ad45-a81e84e6c740",
         "x": [
          "8",
          "9"
         ],
         "y": [
          3,
          13
         ]
        },
        {
         "name": "蛋白和医学组_应交高质量报告数",
         "type": "scatter",
         "uid": "6f528300-c204-11e8-ad45-a81e84e6c740",
         "x": [
          "8",
          "9"
         ],
         "y": [
          7,
          3
         ]
        },
        {
         "name": "蛋白和医学组_提交高质量报告数",
         "type": "scatter",
         "uid": "6f528670-c204-11e8-ad45-a81e84e6c740",
         "x": [
          "8",
          "9"
         ],
         "y": [
          7,
          3
         ]
        },
        {
         "name": "转录调控组_应交高质量报告数",
         "type": "scatter",
         "uid": "6f52888c-c204-11e8-ad45-a81e84e6c740",
         "x": [
          "8",
          "9"
         ],
         "y": [
          6,
          14
         ]
        },
        {
         "name": "转录调控组_提交高质量报告数",
         "type": "scatter",
         "uid": "6f528a8a-c204-11e8-ad45-a81e84e6c740",
         "x": [
          "8",
          "9"
         ],
         "y": [
          6,
          12
         ]
        }
       ],
       "layout": {
        "title": "应交高质量报告数&提交高质量报告数月趋势图",
        "xaxis": {
         "mirror": "all",
         "nticks": 20,
         "showgrid": true,
         "showline": true,
         "title": "月",
         "zeroline": true
        },
        "yaxis": {
         "mirror": "all",
         "nticks": 20,
         "showgrid": true,
         "showline": true,
         "title": "应交高质量报告数&提交高质量报告数",
         "zeroline": true
        }
       }
      },
      "text/html": [
       "<div id=\"a577815b-b208-4637-aefd-f3c14d38cd8b\" style=\"height: 525px; width: 100%;\" class=\"plotly-graph-div\"></div><script type=\"text/javascript\">require([\"plotly\"], function(Plotly) { window.PLOTLYENV=window.PLOTLYENV || {};window.PLOTLYENV.BASE_URL=\"https://plot.ly\";\n",
       "        Plotly.plot(\n",
       "            'a577815b-b208-4637-aefd-f3c14d38cd8b',\n",
       "            [{\"name\": \"\\u751f\\u7269\\u5b66DNA\\u7ec4_\\u5e94\\u4ea4\\u9ad8\\u8d28\\u91cf\\u62a5\\u544a\\u6570\", \"x\": [\"8\", \"9\"], \"y\": [3.0, 12.0], \"type\": \"scatter\", \"uid\": \"6f527a86-c204-11e8-ad45-a81e84e6c740\"}, {\"name\": \"\\u751f\\u7269\\u5b66DNA\\u7ec4_\\u63d0\\u4ea4\\u9ad8\\u8d28\\u91cf\\u62a5\\u544a\\u6570\", \"x\": [\"8\", \"9\"], \"y\": [3.0, 13.0], \"type\": \"scatter\", \"uid\": \"6f527f68-c204-11e8-ad45-a81e84e6c740\"}, {\"name\": \"\\u86cb\\u767d\\u548c\\u533b\\u5b66\\u7ec4_\\u5e94\\u4ea4\\u9ad8\\u8d28\\u91cf\\u62a5\\u544a\\u6570\", \"x\": [\"8\", \"9\"], \"y\": [7.0, 3.0], \"type\": \"scatter\", \"uid\": \"6f528300-c204-11e8-ad45-a81e84e6c740\"}, {\"name\": \"\\u86cb\\u767d\\u548c\\u533b\\u5b66\\u7ec4_\\u63d0\\u4ea4\\u9ad8\\u8d28\\u91cf\\u62a5\\u544a\\u6570\", \"x\": [\"8\", \"9\"], \"y\": [7.0, 3.0], \"type\": \"scatter\", \"uid\": \"6f528670-c204-11e8-ad45-a81e84e6c740\"}, {\"name\": \"\\u8f6c\\u5f55\\u8c03\\u63a7\\u7ec4_\\u5e94\\u4ea4\\u9ad8\\u8d28\\u91cf\\u62a5\\u544a\\u6570\", \"x\": [\"8\", \"9\"], \"y\": [6.0, 14.0], \"type\": \"scatter\", \"uid\": \"6f52888c-c204-11e8-ad45-a81e84e6c740\"}, {\"name\": \"\\u8f6c\\u5f55\\u8c03\\u63a7\\u7ec4_\\u63d0\\u4ea4\\u9ad8\\u8d28\\u91cf\\u62a5\\u544a\\u6570\", \"x\": [\"8\", \"9\"], \"y\": [6.0, 12.0], \"type\": \"scatter\", \"uid\": \"6f528a8a-c204-11e8-ad45-a81e84e6c740\"}],\n",
       "            {\"title\": \"\\u5e94\\u4ea4\\u9ad8\\u8d28\\u91cf\\u62a5\\u544a\\u6570&\\u63d0\\u4ea4\\u9ad8\\u8d28\\u91cf\\u62a5\\u544a\\u6570\\u6708\\u8d8b\\u52bf\\u56fe\", \"xaxis\": {\"mirror\": \"all\", \"nticks\": 20, \"showgrid\": true, \"showline\": true, \"title\": \"\\u6708\", \"zeroline\": true}, \"yaxis\": {\"mirror\": \"all\", \"nticks\": 20, \"showgrid\": true, \"showline\": true, \"title\": \"\\u5e94\\u4ea4\\u9ad8\\u8d28\\u91cf\\u62a5\\u544a\\u6570&\\u63d0\\u4ea4\\u9ad8\\u8d28\\u91cf\\u62a5\\u544a\\u6570\", \"zeroline\": true}},\n",
       "            {\"showLink\": true, \"linkText\": \"Export to plot.ly\"}\n",
       "        ).then(function () {return Plotly.addFrames('a577815b-b208-4637-aefd-f3c14d38cd8b',{});}).then(function(){Plotly.animate('a577815b-b208-4637-aefd-f3c14d38cd8b');})\n",
       "        });</script>"
      ],
      "text/vnd.plotly.v1+html": [
       "<div id=\"a577815b-b208-4637-aefd-f3c14d38cd8b\" style=\"height: 525px; width: 100%;\" class=\"plotly-graph-div\"></div><script type=\"text/javascript\">require([\"plotly\"], function(Plotly) { window.PLOTLYENV=window.PLOTLYENV || {};window.PLOTLYENV.BASE_URL=\"https://plot.ly\";\n",
       "        Plotly.plot(\n",
       "            'a577815b-b208-4637-aefd-f3c14d38cd8b',\n",
       "            [{\"name\": \"\\u751f\\u7269\\u5b66DNA\\u7ec4_\\u5e94\\u4ea4\\u9ad8\\u8d28\\u91cf\\u62a5\\u544a\\u6570\", \"x\": [\"8\", \"9\"], \"y\": [3.0, 12.0], \"type\": \"scatter\", \"uid\": \"6f527a86-c204-11e8-ad45-a81e84e6c740\"}, {\"name\": \"\\u751f\\u7269\\u5b66DNA\\u7ec4_\\u63d0\\u4ea4\\u9ad8\\u8d28\\u91cf\\u62a5\\u544a\\u6570\", \"x\": [\"8\", \"9\"], \"y\": [3.0, 13.0], \"type\": \"scatter\", \"uid\": \"6f527f68-c204-11e8-ad45-a81e84e6c740\"}, {\"name\": \"\\u86cb\\u767d\\u548c\\u533b\\u5b66\\u7ec4_\\u5e94\\u4ea4\\u9ad8\\u8d28\\u91cf\\u62a5\\u544a\\u6570\", \"x\": [\"8\", \"9\"], \"y\": [7.0, 3.0], \"type\": \"scatter\", \"uid\": \"6f528300-c204-11e8-ad45-a81e84e6c740\"}, {\"name\": \"\\u86cb\\u767d\\u548c\\u533b\\u5b66\\u7ec4_\\u63d0\\u4ea4\\u9ad8\\u8d28\\u91cf\\u62a5\\u544a\\u6570\", \"x\": [\"8\", \"9\"], \"y\": [7.0, 3.0], \"type\": \"scatter\", \"uid\": \"6f528670-c204-11e8-ad45-a81e84e6c740\"}, {\"name\": \"\\u8f6c\\u5f55\\u8c03\\u63a7\\u7ec4_\\u5e94\\u4ea4\\u9ad8\\u8d28\\u91cf\\u62a5\\u544a\\u6570\", \"x\": [\"8\", \"9\"], \"y\": [6.0, 14.0], \"type\": \"scatter\", \"uid\": \"6f52888c-c204-11e8-ad45-a81e84e6c740\"}, {\"name\": \"\\u8f6c\\u5f55\\u8c03\\u63a7\\u7ec4_\\u63d0\\u4ea4\\u9ad8\\u8d28\\u91cf\\u62a5\\u544a\\u6570\", \"x\": [\"8\", \"9\"], \"y\": [6.0, 12.0], \"type\": \"scatter\", \"uid\": \"6f528a8a-c204-11e8-ad45-a81e84e6c740\"}],\n",
       "            {\"title\": \"\\u5e94\\u4ea4\\u9ad8\\u8d28\\u91cf\\u62a5\\u544a\\u6570&\\u63d0\\u4ea4\\u9ad8\\u8d28\\u91cf\\u62a5\\u544a\\u6570\\u6708\\u8d8b\\u52bf\\u56fe\", \"xaxis\": {\"mirror\": \"all\", \"nticks\": 20, \"showgrid\": true, \"showline\": true, \"title\": \"\\u6708\", \"zeroline\": true}, \"yaxis\": {\"mirror\": \"all\", \"nticks\": 20, \"showgrid\": true, \"showline\": true, \"title\": \"\\u5e94\\u4ea4\\u9ad8\\u8d28\\u91cf\\u62a5\\u544a\\u6570&\\u63d0\\u4ea4\\u9ad8\\u8d28\\u91cf\\u62a5\\u544a\\u6570\", \"zeroline\": true}},\n",
       "            {\"showLink\": true, \"linkText\": \"Export to plot.ly\"}\n",
       "        ).then(function () {return Plotly.addFrames('a577815b-b208-4637-aefd-f3c14d38cd8b',{});}).then(function(){Plotly.animate('a577815b-b208-4637-aefd-f3c14d38cd8b');})\n",
       "        });</script>"
      ]
     },
     "metadata": {},
     "output_type": "display_data"
    }
   ],
   "source": [
    "data_dict = {'应交高质量报告数':['应交高质量报告数'], '提交高质量报告数':['提交高质量报告数']}\n",
    "myModule.plot( all_dict, data_dict, '组别' ,  'line' , all='')"
   ]
  },
  {
   "cell_type": "markdown",
   "metadata": {
    "hide_input": true
   },
   "source": [
    "### 甘特图情况"
   ]
  },
  {
   "cell_type": "markdown",
   "metadata": {},
   "source": [
    "#### 季度开发项目数、如期完成项目数、延期完成、开发中的项目数、延期项目数和暂停项目数"
   ]
  },
  {
   "cell_type": "code",
   "execution_count": 14,
   "metadata": {},
   "outputs": [
    {
     "data": {
      "application/vnd.plotly.v1+json": {
       "data": [
        {
         "name": "生物学DNA组_季度开发项目数",
         "type": "scatter",
         "uid": "6f8b5c5c-c204-11e8-ad45-a81e84e6c740",
         "x": [
          "8-3",
          "8-4",
          "9-1",
          "9-2",
          "9-3"
         ],
         "y": [
          30,
          56,
          56,
          53,
          38
         ]
        },
        {
         "name": "生物学DNA组_如期完成项目数",
         "type": "scatter",
         "uid": "6f8b5f90-c204-11e8-ad45-a81e84e6c740",
         "x": [
          "8-3",
          "8-4",
          "9-1",
          "9-2",
          "9-3"
         ],
         "y": [
          14,
          20,
          22,
          22,
          12
         ]
        },
        {
         "name": "生物学DNA组_延期完成",
         "type": "scatter",
         "uid": "6f8b61ca-c204-11e8-ad45-a81e84e6c740",
         "x": [
          "8-3",
          "8-4",
          "9-1",
          "9-2",
          "9-3"
         ],
         "y": [
          3,
          5,
          6,
          4,
          9
         ]
        },
        {
         "name": "生物学DNA组_开发中的项目数",
         "type": "scatter",
         "uid": "6f8b63c8-c204-11e8-ad45-a81e84e6c740",
         "x": [
          "8-3",
          "8-4",
          "9-1",
          "9-2",
          "9-3"
         ],
         "y": [
          11,
          26,
          16,
          16,
          9
         ]
        },
        {
         "name": "生物学DNA组_延期项目数",
         "type": "scatter",
         "uid": "6f8b65b2-c204-11e8-ad45-a81e84e6c740",
         "x": [
          "8-3",
          "8-4",
          "9-1",
          "9-2",
          "9-3"
         ],
         "y": [
          4,
          6,
          10,
          10,
          4
         ]
        },
        {
         "name": "生物学DNA组_暂停项目数",
         "type": "scatter",
         "uid": "6f8b6792-c204-11e8-ad45-a81e84e6c740",
         "x": [
          "8-3",
          "8-4",
          "9-1",
          "9-2",
          "9-3"
         ],
         "y": [
          0,
          0,
          3,
          4,
          4
         ]
        },
        {
         "name": "蛋白和医学组_季度开发项目数",
         "type": "scatter",
         "uid": "6f8b6972-c204-11e8-ad45-a81e84e6c740",
         "x": [
          "8-3",
          "8-4",
          "9-1",
          "9-2",
          "9-3"
         ],
         "y": [
          207,
          207,
          207,
          185,
          197
         ]
        },
        {
         "name": "蛋白和医学组_如期完成项目数",
         "type": "scatter",
         "uid": "6f8b6b48-c204-11e8-ad45-a81e84e6c740",
         "x": [
          "8-3",
          "8-4",
          "9-1",
          "9-2",
          "9-3"
         ],
         "y": [
          123,
          125,
          129,
          135,
          155
         ]
        },
        {
         "name": "蛋白和医学组_延期完成",
         "type": "scatter",
         "uid": "6f8b6d28-c204-11e8-ad45-a81e84e6c740",
         "x": [
          "8-3",
          "8-4",
          "9-1",
          "9-2",
          "9-3"
         ],
         "y": [
          8,
          9,
          11,
          3,
          13
         ]
        },
        {
         "name": "蛋白和医学组_开发中的项目数",
         "type": "scatter",
         "uid": "6f8b6efe-c204-11e8-ad45-a81e84e6c740",
         "x": [
          "8-3",
          "8-4",
          "9-1",
          "9-2",
          "9-3"
         ],
         "y": [
          56,
          53,
          39,
          26,
          10
         ]
        },
        {
         "name": "蛋白和医学组_延期项目数",
         "type": "scatter",
         "uid": "6f8b70d4-c204-11e8-ad45-a81e84e6c740",
         "x": [
          "8-3",
          "8-4",
          "9-1",
          "9-2",
          "9-3"
         ],
         "y": [
          7,
          7,
          15,
          9,
          6
         ]
        },
        {
         "name": "蛋白和医学组_暂停项目数",
         "type": "scatter",
         "uid": "6f8b72aa-c204-11e8-ad45-a81e84e6c740",
         "x": [
          "8-3",
          "8-4",
          "9-1",
          "9-2",
          "9-3"
         ],
         "y": [
          13,
          13,
          13,
          13,
          17
         ]
        },
        {
         "name": "转录调控组_季度开发项目数",
         "type": "scatter",
         "uid": "6f8b7480-c204-11e8-ad45-a81e84e6c740",
         "x": [
          "8-3",
          "8-4",
          "9-1",
          "9-2",
          "9-3"
         ],
         "y": [
          76,
          87,
          94,
          70,
          15
         ]
        },
        {
         "name": "转录调控组_如期完成项目数",
         "type": "scatter",
         "uid": "6f8b7660-c204-11e8-ad45-a81e84e6c740",
         "x": [
          "8-3",
          "8-4",
          "9-1",
          "9-2",
          "9-3"
         ],
         "y": [
          60,
          71,
          77,
          62,
          9
         ]
        },
        {
         "name": "转录调控组_延期完成",
         "type": "scatter",
         "uid": "6f8b791c-c204-11e8-ad45-a81e84e6c740",
         "x": [
          "8-3",
          "8-4",
          "9-1",
          "9-2",
          "9-3"
         ],
         "y": [
          4,
          4,
          5,
          1,
          0
         ]
        },
        {
         "name": "转录调控组_开发中的项目数",
         "type": "scatter",
         "uid": "6f8b7b9c-c204-11e8-ad45-a81e84e6c740",
         "x": [
          "8-3",
          "8-4",
          "9-1",
          "9-2",
          "9-3"
         ],
         "y": [
          6,
          11,
          11,
          6,
          7
         ]
        },
        {
         "name": "转录调控组_延期项目数",
         "type": "scatter",
         "uid": "6f8b7d86-c204-11e8-ad45-a81e84e6c740",
         "x": [
          "8-3",
          "8-4",
          "9-1",
          "9-2",
          "9-3"
         ],
         "y": [
          0,
          0,
          1,
          1,
          0
         ]
        },
        {
         "name": "转录调控组_暂停项目数",
         "type": "scatter",
         "uid": "6f8b7f70-c204-11e8-ad45-a81e84e6c740",
         "x": [
          "8-3",
          "8-4",
          "9-1",
          "9-2",
          "9-3"
         ],
         "y": [
          2,
          2,
          5,
          1,
          12
         ]
        }
       ],
       "layout": {
        "title": "季度开发项目数&如期完成项目数&延期完成&开发中的项目数&延期项目数&暂停项目数周趋势图",
        "xaxis": {
         "mirror": "all",
         "nticks": 20,
         "showgrid": true,
         "showline": true,
         "title": "周",
         "zeroline": true
        },
        "yaxis": {
         "mirror": "all",
         "nticks": 20,
         "showgrid": true,
         "showline": true,
         "title": "季度开发项目数&如期完成项目数&延期完成&开发中的项目数&延期项目数&暂停项目数",
         "zeroline": true
        }
       }
      },
      "text/html": [
       "<div id=\"d9108773-3017-45fd-bcd2-d3eb3c4c44e9\" style=\"height: 525px; width: 100%;\" class=\"plotly-graph-div\"></div><script type=\"text/javascript\">require([\"plotly\"], function(Plotly) { window.PLOTLYENV=window.PLOTLYENV || {};window.PLOTLYENV.BASE_URL=\"https://plot.ly\";\n",
       "        Plotly.plot(\n",
       "            'd9108773-3017-45fd-bcd2-d3eb3c4c44e9',\n",
       "            [{\"name\": \"\\u751f\\u7269\\u5b66DNA\\u7ec4_\\u5b63\\u5ea6\\u5f00\\u53d1\\u9879\\u76ee\\u6570\", \"x\": [\"8-3\", \"8-4\", \"9-1\", \"9-2\", \"9-3\"], \"y\": [30.0, 56.0, 56.0, 53.0, 38.0], \"type\": \"scatter\", \"uid\": \"6f8b5c5c-c204-11e8-ad45-a81e84e6c740\"}, {\"name\": \"\\u751f\\u7269\\u5b66DNA\\u7ec4_\\u5982\\u671f\\u5b8c\\u6210\\u9879\\u76ee\\u6570\", \"x\": [\"8-3\", \"8-4\", \"9-1\", \"9-2\", \"9-3\"], \"y\": [14.0, 20.0, 22.0, 22.0, 12.0], \"type\": \"scatter\", \"uid\": \"6f8b5f90-c204-11e8-ad45-a81e84e6c740\"}, {\"name\": \"\\u751f\\u7269\\u5b66DNA\\u7ec4_\\u5ef6\\u671f\\u5b8c\\u6210\", \"x\": [\"8-3\", \"8-4\", \"9-1\", \"9-2\", \"9-3\"], \"y\": [3.0, 5.0, 6.0, 4.0, 9.0], \"type\": \"scatter\", \"uid\": \"6f8b61ca-c204-11e8-ad45-a81e84e6c740\"}, {\"name\": \"\\u751f\\u7269\\u5b66DNA\\u7ec4_\\u5f00\\u53d1\\u4e2d\\u7684\\u9879\\u76ee\\u6570\", \"x\": [\"8-3\", \"8-4\", \"9-1\", \"9-2\", \"9-3\"], \"y\": [11.0, 26.0, 16.0, 16.0, 9.0], \"type\": \"scatter\", \"uid\": \"6f8b63c8-c204-11e8-ad45-a81e84e6c740\"}, {\"name\": \"\\u751f\\u7269\\u5b66DNA\\u7ec4_\\u5ef6\\u671f\\u9879\\u76ee\\u6570\", \"x\": [\"8-3\", \"8-4\", \"9-1\", \"9-2\", \"9-3\"], \"y\": [4.0, 6.0, 10.0, 10.0, 4.0], \"type\": \"scatter\", \"uid\": \"6f8b65b2-c204-11e8-ad45-a81e84e6c740\"}, {\"name\": \"\\u751f\\u7269\\u5b66DNA\\u7ec4_\\u6682\\u505c\\u9879\\u76ee\\u6570\", \"x\": [\"8-3\", \"8-4\", \"9-1\", \"9-2\", \"9-3\"], \"y\": [0.0, 0.0, 3.0, 4.0, 4.0], \"type\": \"scatter\", \"uid\": \"6f8b6792-c204-11e8-ad45-a81e84e6c740\"}, {\"name\": \"\\u86cb\\u767d\\u548c\\u533b\\u5b66\\u7ec4_\\u5b63\\u5ea6\\u5f00\\u53d1\\u9879\\u76ee\\u6570\", \"x\": [\"8-3\", \"8-4\", \"9-1\", \"9-2\", \"9-3\"], \"y\": [207.0, 207.0, 207.0, 185.0, 197.0], \"type\": \"scatter\", \"uid\": \"6f8b6972-c204-11e8-ad45-a81e84e6c740\"}, {\"name\": \"\\u86cb\\u767d\\u548c\\u533b\\u5b66\\u7ec4_\\u5982\\u671f\\u5b8c\\u6210\\u9879\\u76ee\\u6570\", \"x\": [\"8-3\", \"8-4\", \"9-1\", \"9-2\", \"9-3\"], \"y\": [123.0, 125.0, 129.0, 135.0, 155.0], \"type\": \"scatter\", \"uid\": \"6f8b6b48-c204-11e8-ad45-a81e84e6c740\"}, {\"name\": \"\\u86cb\\u767d\\u548c\\u533b\\u5b66\\u7ec4_\\u5ef6\\u671f\\u5b8c\\u6210\", \"x\": [\"8-3\", \"8-4\", \"9-1\", \"9-2\", \"9-3\"], \"y\": [8.0, 9.0, 11.0, 3.0, 13.0], \"type\": \"scatter\", \"uid\": \"6f8b6d28-c204-11e8-ad45-a81e84e6c740\"}, {\"name\": \"\\u86cb\\u767d\\u548c\\u533b\\u5b66\\u7ec4_\\u5f00\\u53d1\\u4e2d\\u7684\\u9879\\u76ee\\u6570\", \"x\": [\"8-3\", \"8-4\", \"9-1\", \"9-2\", \"9-3\"], \"y\": [56.0, 53.0, 39.0, 26.0, 10.0], \"type\": \"scatter\", \"uid\": \"6f8b6efe-c204-11e8-ad45-a81e84e6c740\"}, {\"name\": \"\\u86cb\\u767d\\u548c\\u533b\\u5b66\\u7ec4_\\u5ef6\\u671f\\u9879\\u76ee\\u6570\", \"x\": [\"8-3\", \"8-4\", \"9-1\", \"9-2\", \"9-3\"], \"y\": [7.0, 7.0, 15.0, 9.0, 6.0], \"type\": \"scatter\", \"uid\": \"6f8b70d4-c204-11e8-ad45-a81e84e6c740\"}, {\"name\": \"\\u86cb\\u767d\\u548c\\u533b\\u5b66\\u7ec4_\\u6682\\u505c\\u9879\\u76ee\\u6570\", \"x\": [\"8-3\", \"8-4\", \"9-1\", \"9-2\", \"9-3\"], \"y\": [13.0, 13.0, 13.0, 13.0, 17.0], \"type\": \"scatter\", \"uid\": \"6f8b72aa-c204-11e8-ad45-a81e84e6c740\"}, {\"name\": \"\\u8f6c\\u5f55\\u8c03\\u63a7\\u7ec4_\\u5b63\\u5ea6\\u5f00\\u53d1\\u9879\\u76ee\\u6570\", \"x\": [\"8-3\", \"8-4\", \"9-1\", \"9-2\", \"9-3\"], \"y\": [76.0, 87.0, 94.0, 70.0, 15.0], \"type\": \"scatter\", \"uid\": \"6f8b7480-c204-11e8-ad45-a81e84e6c740\"}, {\"name\": \"\\u8f6c\\u5f55\\u8c03\\u63a7\\u7ec4_\\u5982\\u671f\\u5b8c\\u6210\\u9879\\u76ee\\u6570\", \"x\": [\"8-3\", \"8-4\", \"9-1\", \"9-2\", \"9-3\"], \"y\": [60.0, 71.0, 77.0, 62.0, 9.0], \"type\": \"scatter\", \"uid\": \"6f8b7660-c204-11e8-ad45-a81e84e6c740\"}, {\"name\": \"\\u8f6c\\u5f55\\u8c03\\u63a7\\u7ec4_\\u5ef6\\u671f\\u5b8c\\u6210\", \"x\": [\"8-3\", \"8-4\", \"9-1\", \"9-2\", \"9-3\"], \"y\": [4.0, 4.0, 5.0, 1.0, 0.0], \"type\": \"scatter\", \"uid\": \"6f8b791c-c204-11e8-ad45-a81e84e6c740\"}, {\"name\": \"\\u8f6c\\u5f55\\u8c03\\u63a7\\u7ec4_\\u5f00\\u53d1\\u4e2d\\u7684\\u9879\\u76ee\\u6570\", \"x\": [\"8-3\", \"8-4\", \"9-1\", \"9-2\", \"9-3\"], \"y\": [6.0, 11.0, 11.0, 6.0, 7.0], \"type\": \"scatter\", \"uid\": \"6f8b7b9c-c204-11e8-ad45-a81e84e6c740\"}, {\"name\": \"\\u8f6c\\u5f55\\u8c03\\u63a7\\u7ec4_\\u5ef6\\u671f\\u9879\\u76ee\\u6570\", \"x\": [\"8-3\", \"8-4\", \"9-1\", \"9-2\", \"9-3\"], \"y\": [0.0, 0.0, 1.0, 1.0, 0.0], \"type\": \"scatter\", \"uid\": \"6f8b7d86-c204-11e8-ad45-a81e84e6c740\"}, {\"name\": \"\\u8f6c\\u5f55\\u8c03\\u63a7\\u7ec4_\\u6682\\u505c\\u9879\\u76ee\\u6570\", \"x\": [\"8-3\", \"8-4\", \"9-1\", \"9-2\", \"9-3\"], \"y\": [2.0, 2.0, 5.0, 1.0, 12.0], \"type\": \"scatter\", \"uid\": \"6f8b7f70-c204-11e8-ad45-a81e84e6c740\"}],\n",
       "            {\"title\": \"\\u5b63\\u5ea6\\u5f00\\u53d1\\u9879\\u76ee\\u6570&\\u5982\\u671f\\u5b8c\\u6210\\u9879\\u76ee\\u6570&\\u5ef6\\u671f\\u5b8c\\u6210&\\u5f00\\u53d1\\u4e2d\\u7684\\u9879\\u76ee\\u6570&\\u5ef6\\u671f\\u9879\\u76ee\\u6570&\\u6682\\u505c\\u9879\\u76ee\\u6570\\u5468\\u8d8b\\u52bf\\u56fe\", \"xaxis\": {\"mirror\": \"all\", \"nticks\": 20, \"showgrid\": true, \"showline\": true, \"title\": \"\\u5468\", \"zeroline\": true}, \"yaxis\": {\"mirror\": \"all\", \"nticks\": 20, \"showgrid\": true, \"showline\": true, \"title\": \"\\u5b63\\u5ea6\\u5f00\\u53d1\\u9879\\u76ee\\u6570&\\u5982\\u671f\\u5b8c\\u6210\\u9879\\u76ee\\u6570&\\u5ef6\\u671f\\u5b8c\\u6210&\\u5f00\\u53d1\\u4e2d\\u7684\\u9879\\u76ee\\u6570&\\u5ef6\\u671f\\u9879\\u76ee\\u6570&\\u6682\\u505c\\u9879\\u76ee\\u6570\", \"zeroline\": true}},\n",
       "            {\"showLink\": true, \"linkText\": \"Export to plot.ly\"}\n",
       "        ).then(function () {return Plotly.addFrames('d9108773-3017-45fd-bcd2-d3eb3c4c44e9',{});}).then(function(){Plotly.animate('d9108773-3017-45fd-bcd2-d3eb3c4c44e9');})\n",
       "        });</script>"
      ],
      "text/vnd.plotly.v1+html": [
       "<div id=\"d9108773-3017-45fd-bcd2-d3eb3c4c44e9\" style=\"height: 525px; width: 100%;\" class=\"plotly-graph-div\"></div><script type=\"text/javascript\">require([\"plotly\"], function(Plotly) { window.PLOTLYENV=window.PLOTLYENV || {};window.PLOTLYENV.BASE_URL=\"https://plot.ly\";\n",
       "        Plotly.plot(\n",
       "            'd9108773-3017-45fd-bcd2-d3eb3c4c44e9',\n",
       "            [{\"name\": \"\\u751f\\u7269\\u5b66DNA\\u7ec4_\\u5b63\\u5ea6\\u5f00\\u53d1\\u9879\\u76ee\\u6570\", \"x\": [\"8-3\", \"8-4\", \"9-1\", \"9-2\", \"9-3\"], \"y\": [30.0, 56.0, 56.0, 53.0, 38.0], \"type\": \"scatter\", \"uid\": \"6f8b5c5c-c204-11e8-ad45-a81e84e6c740\"}, {\"name\": \"\\u751f\\u7269\\u5b66DNA\\u7ec4_\\u5982\\u671f\\u5b8c\\u6210\\u9879\\u76ee\\u6570\", \"x\": [\"8-3\", \"8-4\", \"9-1\", \"9-2\", \"9-3\"], \"y\": [14.0, 20.0, 22.0, 22.0, 12.0], \"type\": \"scatter\", \"uid\": \"6f8b5f90-c204-11e8-ad45-a81e84e6c740\"}, {\"name\": \"\\u751f\\u7269\\u5b66DNA\\u7ec4_\\u5ef6\\u671f\\u5b8c\\u6210\", \"x\": [\"8-3\", \"8-4\", \"9-1\", \"9-2\", \"9-3\"], \"y\": [3.0, 5.0, 6.0, 4.0, 9.0], \"type\": \"scatter\", \"uid\": \"6f8b61ca-c204-11e8-ad45-a81e84e6c740\"}, {\"name\": \"\\u751f\\u7269\\u5b66DNA\\u7ec4_\\u5f00\\u53d1\\u4e2d\\u7684\\u9879\\u76ee\\u6570\", \"x\": [\"8-3\", \"8-4\", \"9-1\", \"9-2\", \"9-3\"], \"y\": [11.0, 26.0, 16.0, 16.0, 9.0], \"type\": \"scatter\", \"uid\": \"6f8b63c8-c204-11e8-ad45-a81e84e6c740\"}, {\"name\": \"\\u751f\\u7269\\u5b66DNA\\u7ec4_\\u5ef6\\u671f\\u9879\\u76ee\\u6570\", \"x\": [\"8-3\", \"8-4\", \"9-1\", \"9-2\", \"9-3\"], \"y\": [4.0, 6.0, 10.0, 10.0, 4.0], \"type\": \"scatter\", \"uid\": \"6f8b65b2-c204-11e8-ad45-a81e84e6c740\"}, {\"name\": \"\\u751f\\u7269\\u5b66DNA\\u7ec4_\\u6682\\u505c\\u9879\\u76ee\\u6570\", \"x\": [\"8-3\", \"8-4\", \"9-1\", \"9-2\", \"9-3\"], \"y\": [0.0, 0.0, 3.0, 4.0, 4.0], \"type\": \"scatter\", \"uid\": \"6f8b6792-c204-11e8-ad45-a81e84e6c740\"}, {\"name\": \"\\u86cb\\u767d\\u548c\\u533b\\u5b66\\u7ec4_\\u5b63\\u5ea6\\u5f00\\u53d1\\u9879\\u76ee\\u6570\", \"x\": [\"8-3\", \"8-4\", \"9-1\", \"9-2\", \"9-3\"], \"y\": [207.0, 207.0, 207.0, 185.0, 197.0], \"type\": \"scatter\", \"uid\": \"6f8b6972-c204-11e8-ad45-a81e84e6c740\"}, {\"name\": \"\\u86cb\\u767d\\u548c\\u533b\\u5b66\\u7ec4_\\u5982\\u671f\\u5b8c\\u6210\\u9879\\u76ee\\u6570\", \"x\": [\"8-3\", \"8-4\", \"9-1\", \"9-2\", \"9-3\"], \"y\": [123.0, 125.0, 129.0, 135.0, 155.0], \"type\": \"scatter\", \"uid\": \"6f8b6b48-c204-11e8-ad45-a81e84e6c740\"}, {\"name\": \"\\u86cb\\u767d\\u548c\\u533b\\u5b66\\u7ec4_\\u5ef6\\u671f\\u5b8c\\u6210\", \"x\": [\"8-3\", \"8-4\", \"9-1\", \"9-2\", \"9-3\"], \"y\": [8.0, 9.0, 11.0, 3.0, 13.0], \"type\": \"scatter\", \"uid\": \"6f8b6d28-c204-11e8-ad45-a81e84e6c740\"}, {\"name\": \"\\u86cb\\u767d\\u548c\\u533b\\u5b66\\u7ec4_\\u5f00\\u53d1\\u4e2d\\u7684\\u9879\\u76ee\\u6570\", \"x\": [\"8-3\", \"8-4\", \"9-1\", \"9-2\", \"9-3\"], \"y\": [56.0, 53.0, 39.0, 26.0, 10.0], \"type\": \"scatter\", \"uid\": \"6f8b6efe-c204-11e8-ad45-a81e84e6c740\"}, {\"name\": \"\\u86cb\\u767d\\u548c\\u533b\\u5b66\\u7ec4_\\u5ef6\\u671f\\u9879\\u76ee\\u6570\", \"x\": [\"8-3\", \"8-4\", \"9-1\", \"9-2\", \"9-3\"], \"y\": [7.0, 7.0, 15.0, 9.0, 6.0], \"type\": \"scatter\", \"uid\": \"6f8b70d4-c204-11e8-ad45-a81e84e6c740\"}, {\"name\": \"\\u86cb\\u767d\\u548c\\u533b\\u5b66\\u7ec4_\\u6682\\u505c\\u9879\\u76ee\\u6570\", \"x\": [\"8-3\", \"8-4\", \"9-1\", \"9-2\", \"9-3\"], \"y\": [13.0, 13.0, 13.0, 13.0, 17.0], \"type\": \"scatter\", \"uid\": \"6f8b72aa-c204-11e8-ad45-a81e84e6c740\"}, {\"name\": \"\\u8f6c\\u5f55\\u8c03\\u63a7\\u7ec4_\\u5b63\\u5ea6\\u5f00\\u53d1\\u9879\\u76ee\\u6570\", \"x\": [\"8-3\", \"8-4\", \"9-1\", \"9-2\", \"9-3\"], \"y\": [76.0, 87.0, 94.0, 70.0, 15.0], \"type\": \"scatter\", \"uid\": \"6f8b7480-c204-11e8-ad45-a81e84e6c740\"}, {\"name\": \"\\u8f6c\\u5f55\\u8c03\\u63a7\\u7ec4_\\u5982\\u671f\\u5b8c\\u6210\\u9879\\u76ee\\u6570\", \"x\": [\"8-3\", \"8-4\", \"9-1\", \"9-2\", \"9-3\"], \"y\": [60.0, 71.0, 77.0, 62.0, 9.0], \"type\": \"scatter\", \"uid\": \"6f8b7660-c204-11e8-ad45-a81e84e6c740\"}, {\"name\": \"\\u8f6c\\u5f55\\u8c03\\u63a7\\u7ec4_\\u5ef6\\u671f\\u5b8c\\u6210\", \"x\": [\"8-3\", \"8-4\", \"9-1\", \"9-2\", \"9-3\"], \"y\": [4.0, 4.0, 5.0, 1.0, 0.0], \"type\": \"scatter\", \"uid\": \"6f8b791c-c204-11e8-ad45-a81e84e6c740\"}, {\"name\": \"\\u8f6c\\u5f55\\u8c03\\u63a7\\u7ec4_\\u5f00\\u53d1\\u4e2d\\u7684\\u9879\\u76ee\\u6570\", \"x\": [\"8-3\", \"8-4\", \"9-1\", \"9-2\", \"9-3\"], \"y\": [6.0, 11.0, 11.0, 6.0, 7.0], \"type\": \"scatter\", \"uid\": \"6f8b7b9c-c204-11e8-ad45-a81e84e6c740\"}, {\"name\": \"\\u8f6c\\u5f55\\u8c03\\u63a7\\u7ec4_\\u5ef6\\u671f\\u9879\\u76ee\\u6570\", \"x\": [\"8-3\", \"8-4\", \"9-1\", \"9-2\", \"9-3\"], \"y\": [0.0, 0.0, 1.0, 1.0, 0.0], \"type\": \"scatter\", \"uid\": \"6f8b7d86-c204-11e8-ad45-a81e84e6c740\"}, {\"name\": \"\\u8f6c\\u5f55\\u8c03\\u63a7\\u7ec4_\\u6682\\u505c\\u9879\\u76ee\\u6570\", \"x\": [\"8-3\", \"8-4\", \"9-1\", \"9-2\", \"9-3\"], \"y\": [2.0, 2.0, 5.0, 1.0, 12.0], \"type\": \"scatter\", \"uid\": \"6f8b7f70-c204-11e8-ad45-a81e84e6c740\"}],\n",
       "            {\"title\": \"\\u5b63\\u5ea6\\u5f00\\u53d1\\u9879\\u76ee\\u6570&\\u5982\\u671f\\u5b8c\\u6210\\u9879\\u76ee\\u6570&\\u5ef6\\u671f\\u5b8c\\u6210&\\u5f00\\u53d1\\u4e2d\\u7684\\u9879\\u76ee\\u6570&\\u5ef6\\u671f\\u9879\\u76ee\\u6570&\\u6682\\u505c\\u9879\\u76ee\\u6570\\u5468\\u8d8b\\u52bf\\u56fe\", \"xaxis\": {\"mirror\": \"all\", \"nticks\": 20, \"showgrid\": true, \"showline\": true, \"title\": \"\\u5468\", \"zeroline\": true}, \"yaxis\": {\"mirror\": \"all\", \"nticks\": 20, \"showgrid\": true, \"showline\": true, \"title\": \"\\u5b63\\u5ea6\\u5f00\\u53d1\\u9879\\u76ee\\u6570&\\u5982\\u671f\\u5b8c\\u6210\\u9879\\u76ee\\u6570&\\u5ef6\\u671f\\u5b8c\\u6210&\\u5f00\\u53d1\\u4e2d\\u7684\\u9879\\u76ee\\u6570&\\u5ef6\\u671f\\u9879\\u76ee\\u6570&\\u6682\\u505c\\u9879\\u76ee\\u6570\", \"zeroline\": true}},\n",
       "            {\"showLink\": true, \"linkText\": \"Export to plot.ly\"}\n",
       "        ).then(function () {return Plotly.addFrames('d9108773-3017-45fd-bcd2-d3eb3c4c44e9',{});}).then(function(){Plotly.animate('d9108773-3017-45fd-bcd2-d3eb3c4c44e9');})\n",
       "        });</script>"
      ]
     },
     "metadata": {},
     "output_type": "display_data"
    },
    {
     "data": {
      "application/vnd.plotly.v1+json": {
       "data": [
        {
         "name": "生物学DNA组_季度开发项目数",
         "type": "scatter",
         "uid": "6fc0214e-c204-11e8-ad45-a81e84e6c740",
         "x": [
          "8",
          "9"
         ],
         "y": [
          86,
          147
         ]
        },
        {
         "name": "生物学DNA组_如期完成项目数",
         "type": "scatter",
         "uid": "6fc0246e-c204-11e8-ad45-a81e84e6c740",
         "x": [
          "8",
          "9"
         ],
         "y": [
          34,
          56
         ]
        },
        {
         "name": "生物学DNA组_延期完成",
         "type": "scatter",
         "uid": "6fc0269e-c204-11e8-ad45-a81e84e6c740",
         "x": [
          "8",
          "9"
         ],
         "y": [
          8,
          19
         ]
        },
        {
         "name": "生物学DNA组_开发中的项目数",
         "type": "scatter",
         "uid": "6fc0289c-c204-11e8-ad45-a81e84e6c740",
         "x": [
          "8",
          "9"
         ],
         "y": [
          37,
          41
         ]
        },
        {
         "name": "生物学DNA组_延期项目数",
         "type": "scatter",
         "uid": "6fc02a90-c204-11e8-ad45-a81e84e6c740",
         "x": [
          "8",
          "9"
         ],
         "y": [
          10,
          24
         ]
        },
        {
         "name": "生物学DNA组_暂停项目数",
         "type": "scatter",
         "uid": "6fc02c70-c204-11e8-ad45-a81e84e6c740",
         "x": [
          "8",
          "9"
         ],
         "y": [
          0,
          11
         ]
        },
        {
         "name": "蛋白和医学组_季度开发项目数",
         "type": "scatter",
         "uid": "6fc02e50-c204-11e8-ad45-a81e84e6c740",
         "x": [
          "8",
          "9"
         ],
         "y": [
          414,
          589
         ]
        },
        {
         "name": "蛋白和医学组_如期完成项目数",
         "type": "scatter",
         "uid": "6fc030f8-c204-11e8-ad45-a81e84e6c740",
         "x": [
          "8",
          "9"
         ],
         "y": [
          248,
          419
         ]
        },
        {
         "name": "蛋白和医学组_延期完成",
         "type": "scatter",
         "uid": "6fc0335a-c204-11e8-ad45-a81e84e6c740",
         "x": [
          "8",
          "9"
         ],
         "y": [
          17,
          27
         ]
        },
        {
         "name": "蛋白和医学组_开发中的项目数",
         "type": "scatter",
         "uid": "6fc0353a-c204-11e8-ad45-a81e84e6c740",
         "x": [
          "8",
          "9"
         ],
         "y": [
          109,
          75
         ]
        },
        {
         "name": "蛋白和医学组_延期项目数",
         "type": "scatter",
         "uid": "6fc03710-c204-11e8-ad45-a81e84e6c740",
         "x": [
          "8",
          "9"
         ],
         "y": [
          14,
          30
         ]
        },
        {
         "name": "蛋白和医学组_暂停项目数",
         "type": "scatter",
         "uid": "6fc038f0-c204-11e8-ad45-a81e84e6c740",
         "x": [
          "8",
          "9"
         ],
         "y": [
          26,
          43
         ]
        },
        {
         "name": "转录调控组_季度开发项目数",
         "type": "scatter",
         "uid": "6fc03ad0-c204-11e8-ad45-a81e84e6c740",
         "x": [
          "8",
          "9"
         ],
         "y": [
          163,
          179
         ]
        },
        {
         "name": "转录调控组_如期完成项目数",
         "type": "scatter",
         "uid": "6fc03ca6-c204-11e8-ad45-a81e84e6c740",
         "x": [
          "8",
          "9"
         ],
         "y": [
          131,
          148
         ]
        },
        {
         "name": "转录调控组_延期完成",
         "type": "scatter",
         "uid": "6fc03e7c-c204-11e8-ad45-a81e84e6c740",
         "x": [
          "8",
          "9"
         ],
         "y": [
          8,
          6
         ]
        },
        {
         "name": "转录调控组_开发中的项目数",
         "type": "scatter",
         "uid": "6fc0405c-c204-11e8-ad45-a81e84e6c740",
         "x": [
          "8",
          "9"
         ],
         "y": [
          17,
          24
         ]
        },
        {
         "name": "转录调控组_延期项目数",
         "type": "scatter",
         "uid": "6fc04232-c204-11e8-ad45-a81e84e6c740",
         "x": [
          "8",
          "9"
         ],
         "y": [
          0,
          2
         ]
        },
        {
         "name": "转录调控组_暂停项目数",
         "type": "scatter",
         "uid": "6fc043fe-c204-11e8-ad45-a81e84e6c740",
         "x": [
          "8",
          "9"
         ],
         "y": [
          4,
          18
         ]
        }
       ],
       "layout": {
        "title": "季度开发项目数&如期完成项目数&延期完成&开发中的项目数&延期项目数&暂停项目数月趋势图",
        "xaxis": {
         "mirror": "all",
         "nticks": 20,
         "showgrid": true,
         "showline": true,
         "title": "月",
         "zeroline": true
        },
        "yaxis": {
         "mirror": "all",
         "nticks": 20,
         "showgrid": true,
         "showline": true,
         "title": "季度开发项目数&如期完成项目数&延期完成&开发中的项目数&延期项目数&暂停项目数",
         "zeroline": true
        }
       }
      },
      "text/html": [
       "<div id=\"837be605-4fe1-4d52-b3d1-aa121539ee53\" style=\"height: 525px; width: 100%;\" class=\"plotly-graph-div\"></div><script type=\"text/javascript\">require([\"plotly\"], function(Plotly) { window.PLOTLYENV=window.PLOTLYENV || {};window.PLOTLYENV.BASE_URL=\"https://plot.ly\";\n",
       "        Plotly.plot(\n",
       "            '837be605-4fe1-4d52-b3d1-aa121539ee53',\n",
       "            [{\"name\": \"\\u751f\\u7269\\u5b66DNA\\u7ec4_\\u5b63\\u5ea6\\u5f00\\u53d1\\u9879\\u76ee\\u6570\", \"x\": [\"8\", \"9\"], \"y\": [86.0, 147.0], \"type\": \"scatter\", \"uid\": \"6fc0214e-c204-11e8-ad45-a81e84e6c740\"}, {\"name\": \"\\u751f\\u7269\\u5b66DNA\\u7ec4_\\u5982\\u671f\\u5b8c\\u6210\\u9879\\u76ee\\u6570\", \"x\": [\"8\", \"9\"], \"y\": [34.0, 56.0], \"type\": \"scatter\", \"uid\": \"6fc0246e-c204-11e8-ad45-a81e84e6c740\"}, {\"name\": \"\\u751f\\u7269\\u5b66DNA\\u7ec4_\\u5ef6\\u671f\\u5b8c\\u6210\", \"x\": [\"8\", \"9\"], \"y\": [8.0, 19.0], \"type\": \"scatter\", \"uid\": \"6fc0269e-c204-11e8-ad45-a81e84e6c740\"}, {\"name\": \"\\u751f\\u7269\\u5b66DNA\\u7ec4_\\u5f00\\u53d1\\u4e2d\\u7684\\u9879\\u76ee\\u6570\", \"x\": [\"8\", \"9\"], \"y\": [37.0, 41.0], \"type\": \"scatter\", \"uid\": \"6fc0289c-c204-11e8-ad45-a81e84e6c740\"}, {\"name\": \"\\u751f\\u7269\\u5b66DNA\\u7ec4_\\u5ef6\\u671f\\u9879\\u76ee\\u6570\", \"x\": [\"8\", \"9\"], \"y\": [10.0, 24.0], \"type\": \"scatter\", \"uid\": \"6fc02a90-c204-11e8-ad45-a81e84e6c740\"}, {\"name\": \"\\u751f\\u7269\\u5b66DNA\\u7ec4_\\u6682\\u505c\\u9879\\u76ee\\u6570\", \"x\": [\"8\", \"9\"], \"y\": [0.0, 11.0], \"type\": \"scatter\", \"uid\": \"6fc02c70-c204-11e8-ad45-a81e84e6c740\"}, {\"name\": \"\\u86cb\\u767d\\u548c\\u533b\\u5b66\\u7ec4_\\u5b63\\u5ea6\\u5f00\\u53d1\\u9879\\u76ee\\u6570\", \"x\": [\"8\", \"9\"], \"y\": [414.0, 589.0], \"type\": \"scatter\", \"uid\": \"6fc02e50-c204-11e8-ad45-a81e84e6c740\"}, {\"name\": \"\\u86cb\\u767d\\u548c\\u533b\\u5b66\\u7ec4_\\u5982\\u671f\\u5b8c\\u6210\\u9879\\u76ee\\u6570\", \"x\": [\"8\", \"9\"], \"y\": [248.0, 419.0], \"type\": \"scatter\", \"uid\": \"6fc030f8-c204-11e8-ad45-a81e84e6c740\"}, {\"name\": \"\\u86cb\\u767d\\u548c\\u533b\\u5b66\\u7ec4_\\u5ef6\\u671f\\u5b8c\\u6210\", \"x\": [\"8\", \"9\"], \"y\": [17.0, 27.0], \"type\": \"scatter\", \"uid\": \"6fc0335a-c204-11e8-ad45-a81e84e6c740\"}, {\"name\": \"\\u86cb\\u767d\\u548c\\u533b\\u5b66\\u7ec4_\\u5f00\\u53d1\\u4e2d\\u7684\\u9879\\u76ee\\u6570\", \"x\": [\"8\", \"9\"], \"y\": [109.0, 75.0], \"type\": \"scatter\", \"uid\": \"6fc0353a-c204-11e8-ad45-a81e84e6c740\"}, {\"name\": \"\\u86cb\\u767d\\u548c\\u533b\\u5b66\\u7ec4_\\u5ef6\\u671f\\u9879\\u76ee\\u6570\", \"x\": [\"8\", \"9\"], \"y\": [14.0, 30.0], \"type\": \"scatter\", \"uid\": \"6fc03710-c204-11e8-ad45-a81e84e6c740\"}, {\"name\": \"\\u86cb\\u767d\\u548c\\u533b\\u5b66\\u7ec4_\\u6682\\u505c\\u9879\\u76ee\\u6570\", \"x\": [\"8\", \"9\"], \"y\": [26.0, 43.0], \"type\": \"scatter\", \"uid\": \"6fc038f0-c204-11e8-ad45-a81e84e6c740\"}, {\"name\": \"\\u8f6c\\u5f55\\u8c03\\u63a7\\u7ec4_\\u5b63\\u5ea6\\u5f00\\u53d1\\u9879\\u76ee\\u6570\", \"x\": [\"8\", \"9\"], \"y\": [163.0, 179.0], \"type\": \"scatter\", \"uid\": \"6fc03ad0-c204-11e8-ad45-a81e84e6c740\"}, {\"name\": \"\\u8f6c\\u5f55\\u8c03\\u63a7\\u7ec4_\\u5982\\u671f\\u5b8c\\u6210\\u9879\\u76ee\\u6570\", \"x\": [\"8\", \"9\"], \"y\": [131.0, 148.0], \"type\": \"scatter\", \"uid\": \"6fc03ca6-c204-11e8-ad45-a81e84e6c740\"}, {\"name\": \"\\u8f6c\\u5f55\\u8c03\\u63a7\\u7ec4_\\u5ef6\\u671f\\u5b8c\\u6210\", \"x\": [\"8\", \"9\"], \"y\": [8.0, 6.0], \"type\": \"scatter\", \"uid\": \"6fc03e7c-c204-11e8-ad45-a81e84e6c740\"}, {\"name\": \"\\u8f6c\\u5f55\\u8c03\\u63a7\\u7ec4_\\u5f00\\u53d1\\u4e2d\\u7684\\u9879\\u76ee\\u6570\", \"x\": [\"8\", \"9\"], \"y\": [17.0, 24.0], \"type\": \"scatter\", \"uid\": \"6fc0405c-c204-11e8-ad45-a81e84e6c740\"}, {\"name\": \"\\u8f6c\\u5f55\\u8c03\\u63a7\\u7ec4_\\u5ef6\\u671f\\u9879\\u76ee\\u6570\", \"x\": [\"8\", \"9\"], \"y\": [0.0, 2.0], \"type\": \"scatter\", \"uid\": \"6fc04232-c204-11e8-ad45-a81e84e6c740\"}, {\"name\": \"\\u8f6c\\u5f55\\u8c03\\u63a7\\u7ec4_\\u6682\\u505c\\u9879\\u76ee\\u6570\", \"x\": [\"8\", \"9\"], \"y\": [4.0, 18.0], \"type\": \"scatter\", \"uid\": \"6fc043fe-c204-11e8-ad45-a81e84e6c740\"}],\n",
       "            {\"title\": \"\\u5b63\\u5ea6\\u5f00\\u53d1\\u9879\\u76ee\\u6570&\\u5982\\u671f\\u5b8c\\u6210\\u9879\\u76ee\\u6570&\\u5ef6\\u671f\\u5b8c\\u6210&\\u5f00\\u53d1\\u4e2d\\u7684\\u9879\\u76ee\\u6570&\\u5ef6\\u671f\\u9879\\u76ee\\u6570&\\u6682\\u505c\\u9879\\u76ee\\u6570\\u6708\\u8d8b\\u52bf\\u56fe\", \"xaxis\": {\"mirror\": \"all\", \"nticks\": 20, \"showgrid\": true, \"showline\": true, \"title\": \"\\u6708\", \"zeroline\": true}, \"yaxis\": {\"mirror\": \"all\", \"nticks\": 20, \"showgrid\": true, \"showline\": true, \"title\": \"\\u5b63\\u5ea6\\u5f00\\u53d1\\u9879\\u76ee\\u6570&\\u5982\\u671f\\u5b8c\\u6210\\u9879\\u76ee\\u6570&\\u5ef6\\u671f\\u5b8c\\u6210&\\u5f00\\u53d1\\u4e2d\\u7684\\u9879\\u76ee\\u6570&\\u5ef6\\u671f\\u9879\\u76ee\\u6570&\\u6682\\u505c\\u9879\\u76ee\\u6570\", \"zeroline\": true}},\n",
       "            {\"showLink\": true, \"linkText\": \"Export to plot.ly\"}\n",
       "        ).then(function () {return Plotly.addFrames('837be605-4fe1-4d52-b3d1-aa121539ee53',{});}).then(function(){Plotly.animate('837be605-4fe1-4d52-b3d1-aa121539ee53');})\n",
       "        });</script>"
      ],
      "text/vnd.plotly.v1+html": [
       "<div id=\"837be605-4fe1-4d52-b3d1-aa121539ee53\" style=\"height: 525px; width: 100%;\" class=\"plotly-graph-div\"></div><script type=\"text/javascript\">require([\"plotly\"], function(Plotly) { window.PLOTLYENV=window.PLOTLYENV || {};window.PLOTLYENV.BASE_URL=\"https://plot.ly\";\n",
       "        Plotly.plot(\n",
       "            '837be605-4fe1-4d52-b3d1-aa121539ee53',\n",
       "            [{\"name\": \"\\u751f\\u7269\\u5b66DNA\\u7ec4_\\u5b63\\u5ea6\\u5f00\\u53d1\\u9879\\u76ee\\u6570\", \"x\": [\"8\", \"9\"], \"y\": [86.0, 147.0], \"type\": \"scatter\", \"uid\": \"6fc0214e-c204-11e8-ad45-a81e84e6c740\"}, {\"name\": \"\\u751f\\u7269\\u5b66DNA\\u7ec4_\\u5982\\u671f\\u5b8c\\u6210\\u9879\\u76ee\\u6570\", \"x\": [\"8\", \"9\"], \"y\": [34.0, 56.0], \"type\": \"scatter\", \"uid\": \"6fc0246e-c204-11e8-ad45-a81e84e6c740\"}, {\"name\": \"\\u751f\\u7269\\u5b66DNA\\u7ec4_\\u5ef6\\u671f\\u5b8c\\u6210\", \"x\": [\"8\", \"9\"], \"y\": [8.0, 19.0], \"type\": \"scatter\", \"uid\": \"6fc0269e-c204-11e8-ad45-a81e84e6c740\"}, {\"name\": \"\\u751f\\u7269\\u5b66DNA\\u7ec4_\\u5f00\\u53d1\\u4e2d\\u7684\\u9879\\u76ee\\u6570\", \"x\": [\"8\", \"9\"], \"y\": [37.0, 41.0], \"type\": \"scatter\", \"uid\": \"6fc0289c-c204-11e8-ad45-a81e84e6c740\"}, {\"name\": \"\\u751f\\u7269\\u5b66DNA\\u7ec4_\\u5ef6\\u671f\\u9879\\u76ee\\u6570\", \"x\": [\"8\", \"9\"], \"y\": [10.0, 24.0], \"type\": \"scatter\", \"uid\": \"6fc02a90-c204-11e8-ad45-a81e84e6c740\"}, {\"name\": \"\\u751f\\u7269\\u5b66DNA\\u7ec4_\\u6682\\u505c\\u9879\\u76ee\\u6570\", \"x\": [\"8\", \"9\"], \"y\": [0.0, 11.0], \"type\": \"scatter\", \"uid\": \"6fc02c70-c204-11e8-ad45-a81e84e6c740\"}, {\"name\": \"\\u86cb\\u767d\\u548c\\u533b\\u5b66\\u7ec4_\\u5b63\\u5ea6\\u5f00\\u53d1\\u9879\\u76ee\\u6570\", \"x\": [\"8\", \"9\"], \"y\": [414.0, 589.0], \"type\": \"scatter\", \"uid\": \"6fc02e50-c204-11e8-ad45-a81e84e6c740\"}, {\"name\": \"\\u86cb\\u767d\\u548c\\u533b\\u5b66\\u7ec4_\\u5982\\u671f\\u5b8c\\u6210\\u9879\\u76ee\\u6570\", \"x\": [\"8\", \"9\"], \"y\": [248.0, 419.0], \"type\": \"scatter\", \"uid\": \"6fc030f8-c204-11e8-ad45-a81e84e6c740\"}, {\"name\": \"\\u86cb\\u767d\\u548c\\u533b\\u5b66\\u7ec4_\\u5ef6\\u671f\\u5b8c\\u6210\", \"x\": [\"8\", \"9\"], \"y\": [17.0, 27.0], \"type\": \"scatter\", \"uid\": \"6fc0335a-c204-11e8-ad45-a81e84e6c740\"}, {\"name\": \"\\u86cb\\u767d\\u548c\\u533b\\u5b66\\u7ec4_\\u5f00\\u53d1\\u4e2d\\u7684\\u9879\\u76ee\\u6570\", \"x\": [\"8\", \"9\"], \"y\": [109.0, 75.0], \"type\": \"scatter\", \"uid\": \"6fc0353a-c204-11e8-ad45-a81e84e6c740\"}, {\"name\": \"\\u86cb\\u767d\\u548c\\u533b\\u5b66\\u7ec4_\\u5ef6\\u671f\\u9879\\u76ee\\u6570\", \"x\": [\"8\", \"9\"], \"y\": [14.0, 30.0], \"type\": \"scatter\", \"uid\": \"6fc03710-c204-11e8-ad45-a81e84e6c740\"}, {\"name\": \"\\u86cb\\u767d\\u548c\\u533b\\u5b66\\u7ec4_\\u6682\\u505c\\u9879\\u76ee\\u6570\", \"x\": [\"8\", \"9\"], \"y\": [26.0, 43.0], \"type\": \"scatter\", \"uid\": \"6fc038f0-c204-11e8-ad45-a81e84e6c740\"}, {\"name\": \"\\u8f6c\\u5f55\\u8c03\\u63a7\\u7ec4_\\u5b63\\u5ea6\\u5f00\\u53d1\\u9879\\u76ee\\u6570\", \"x\": [\"8\", \"9\"], \"y\": [163.0, 179.0], \"type\": \"scatter\", \"uid\": \"6fc03ad0-c204-11e8-ad45-a81e84e6c740\"}, {\"name\": \"\\u8f6c\\u5f55\\u8c03\\u63a7\\u7ec4_\\u5982\\u671f\\u5b8c\\u6210\\u9879\\u76ee\\u6570\", \"x\": [\"8\", \"9\"], \"y\": [131.0, 148.0], \"type\": \"scatter\", \"uid\": \"6fc03ca6-c204-11e8-ad45-a81e84e6c740\"}, {\"name\": \"\\u8f6c\\u5f55\\u8c03\\u63a7\\u7ec4_\\u5ef6\\u671f\\u5b8c\\u6210\", \"x\": [\"8\", \"9\"], \"y\": [8.0, 6.0], \"type\": \"scatter\", \"uid\": \"6fc03e7c-c204-11e8-ad45-a81e84e6c740\"}, {\"name\": \"\\u8f6c\\u5f55\\u8c03\\u63a7\\u7ec4_\\u5f00\\u53d1\\u4e2d\\u7684\\u9879\\u76ee\\u6570\", \"x\": [\"8\", \"9\"], \"y\": [17.0, 24.0], \"type\": \"scatter\", \"uid\": \"6fc0405c-c204-11e8-ad45-a81e84e6c740\"}, {\"name\": \"\\u8f6c\\u5f55\\u8c03\\u63a7\\u7ec4_\\u5ef6\\u671f\\u9879\\u76ee\\u6570\", \"x\": [\"8\", \"9\"], \"y\": [0.0, 2.0], \"type\": \"scatter\", \"uid\": \"6fc04232-c204-11e8-ad45-a81e84e6c740\"}, {\"name\": \"\\u8f6c\\u5f55\\u8c03\\u63a7\\u7ec4_\\u6682\\u505c\\u9879\\u76ee\\u6570\", \"x\": [\"8\", \"9\"], \"y\": [4.0, 18.0], \"type\": \"scatter\", \"uid\": \"6fc043fe-c204-11e8-ad45-a81e84e6c740\"}],\n",
       "            {\"title\": \"\\u5b63\\u5ea6\\u5f00\\u53d1\\u9879\\u76ee\\u6570&\\u5982\\u671f\\u5b8c\\u6210\\u9879\\u76ee\\u6570&\\u5ef6\\u671f\\u5b8c\\u6210&\\u5f00\\u53d1\\u4e2d\\u7684\\u9879\\u76ee\\u6570&\\u5ef6\\u671f\\u9879\\u76ee\\u6570&\\u6682\\u505c\\u9879\\u76ee\\u6570\\u6708\\u8d8b\\u52bf\\u56fe\", \"xaxis\": {\"mirror\": \"all\", \"nticks\": 20, \"showgrid\": true, \"showline\": true, \"title\": \"\\u6708\", \"zeroline\": true}, \"yaxis\": {\"mirror\": \"all\", \"nticks\": 20, \"showgrid\": true, \"showline\": true, \"title\": \"\\u5b63\\u5ea6\\u5f00\\u53d1\\u9879\\u76ee\\u6570&\\u5982\\u671f\\u5b8c\\u6210\\u9879\\u76ee\\u6570&\\u5ef6\\u671f\\u5b8c\\u6210&\\u5f00\\u53d1\\u4e2d\\u7684\\u9879\\u76ee\\u6570&\\u5ef6\\u671f\\u9879\\u76ee\\u6570&\\u6682\\u505c\\u9879\\u76ee\\u6570\", \"zeroline\": true}},\n",
       "            {\"showLink\": true, \"linkText\": \"Export to plot.ly\"}\n",
       "        ).then(function () {return Plotly.addFrames('837be605-4fe1-4d52-b3d1-aa121539ee53',{});}).then(function(){Plotly.animate('837be605-4fe1-4d52-b3d1-aa121539ee53');})\n",
       "        });</script>"
      ]
     },
     "metadata": {},
     "output_type": "display_data"
    }
   ],
   "source": [
    "data_dict = {'季度开发项目数': ['季度开发项目数'], '如期完成项目数': ['如期完成项目数'], '延期完成': ['延期完成'],\\\n",
    "             '开发中的项目数': ['开发中的项目数'], '延期项目数': ['延期项目数'], '暂停项目数': ['暂停项目数']}\n",
    "myModule.plot( all_dict, data_dict, '组别' ,  'line' , all='')"
   ]
  },
  {
   "cell_type": "markdown",
   "metadata": {
    "hide_input": true
   },
   "source": [
    "### 个人成长指数"
   ]
  },
  {
   "cell_type": "markdown",
   "metadata": {},
   "source": [
    "#### 电话会议次数、软著撰写完成数、专利撰写完成数、外出技术支持数、客户来访接待数和文章数"
   ]
  },
  {
   "cell_type": "code",
   "execution_count": 15,
   "metadata": {},
   "outputs": [
    {
     "data": {
      "application/vnd.plotly.v1+json": {
       "data": [
        {
         "name": "生物学DNA组_电话会议次数",
         "type": "scatter",
         "uid": "6ff56912-c204-11e8-ad45-a81e84e6c740",
         "x": [
          "8-3",
          "8-4",
          "9-1",
          "9-2",
          "9-3"
         ],
         "y": [
          1,
          3,
          4,
          3,
          3
         ]
        },
        {
         "name": "生物学DNA组_外出技术支持数",
         "type": "scatter",
         "uid": "6ff56c6e-c204-11e8-ad45-a81e84e6c740",
         "x": [
          "8-3",
          "8-4",
          "9-1",
          "9-2",
          "9-3"
         ],
         "y": [
          0,
          0,
          0,
          0,
          0
         ]
        },
        {
         "name": "生物学DNA组_客户来访接待数",
         "type": "scatter",
         "uid": "6ff56e9e-c204-11e8-ad45-a81e84e6c740",
         "x": [
          "8-3",
          "8-4",
          "9-1",
          "9-2",
          "9-3"
         ],
         "y": [
          1,
          0,
          0,
          0,
          1
         ]
        },
        {
         "name": "蛋白和医学组_电话会议次数",
         "type": "scatter",
         "uid": "6ff57204-c204-11e8-ad45-a81e84e6c740",
         "x": [
          "8-3",
          "8-4",
          "9-1",
          "9-2",
          "9-3"
         ],
         "y": [
          4,
          0,
          0,
          2,
          3
         ]
        },
        {
         "name": "蛋白和医学组_外出技术支持数",
         "type": "scatter",
         "uid": "6ff573f8-c204-11e8-ad45-a81e84e6c740",
         "x": [
          "8-3",
          "8-4",
          "9-1",
          "9-2",
          "9-3"
         ],
         "y": [
          0,
          0,
          0,
          0,
          0
         ]
        },
        {
         "name": "蛋白和医学组_客户来访接待数",
         "type": "scatter",
         "uid": "6ff575d8-c204-11e8-ad45-a81e84e6c740",
         "x": [
          "8-3",
          "8-4",
          "9-1",
          "9-2",
          "9-3"
         ],
         "y": [
          2,
          0,
          0,
          0,
          0
         ]
        },
        {
         "name": "转录调控组_电话会议次数",
         "type": "scatter",
         "uid": "6ff577b8-c204-11e8-ad45-a81e84e6c740",
         "x": [
          "8-3",
          "8-4",
          "9-1",
          "9-2",
          "9-3"
         ],
         "y": [
          4,
          2,
          1,
          3,
          2
         ]
        },
        {
         "name": "转录调控组_外出技术支持数",
         "type": "scatter",
         "uid": "6ff5798e-c204-11e8-ad45-a81e84e6c740",
         "x": [
          "8-3",
          "8-4",
          "9-1",
          "9-2",
          "9-3"
         ],
         "y": [
          0,
          0,
          0,
          0,
          0
         ]
        },
        {
         "name": "转录调控组_客户来访接待数",
         "type": "scatter",
         "uid": "6ff57b78-c204-11e8-ad45-a81e84e6c740",
         "x": [
          "8-3",
          "8-4",
          "9-1",
          "9-2",
          "9-3"
         ],
         "y": [
          0,
          0,
          0,
          0,
          0
         ]
        }
       ],
       "layout": {
        "title": "电话会议次数&外出技术支持数&客户来访接待数周趋势图",
        "xaxis": {
         "mirror": "all",
         "nticks": 20,
         "showgrid": true,
         "showline": true,
         "title": "周",
         "zeroline": true
        },
        "yaxis": {
         "mirror": "all",
         "nticks": 20,
         "showgrid": true,
         "showline": true,
         "title": "电话会议次数&外出技术支持数&客户来访接待数",
         "zeroline": true
        }
       }
      },
      "text/html": [
       "<div id=\"3abc18fc-989b-4a55-b75a-6e762b6204c3\" style=\"height: 525px; width: 100%;\" class=\"plotly-graph-div\"></div><script type=\"text/javascript\">require([\"plotly\"], function(Plotly) { window.PLOTLYENV=window.PLOTLYENV || {};window.PLOTLYENV.BASE_URL=\"https://plot.ly\";\n",
       "        Plotly.plot(\n",
       "            '3abc18fc-989b-4a55-b75a-6e762b6204c3',\n",
       "            [{\"name\": \"\\u751f\\u7269\\u5b66DNA\\u7ec4_\\u7535\\u8bdd\\u4f1a\\u8bae\\u6b21\\u6570\", \"x\": [\"8-3\", \"8-4\", \"9-1\", \"9-2\", \"9-3\"], \"y\": [1.0, 3.0, 4.0, 3.0, 3.0], \"type\": \"scatter\", \"uid\": \"6ff56912-c204-11e8-ad45-a81e84e6c740\"}, {\"name\": \"\\u751f\\u7269\\u5b66DNA\\u7ec4_\\u5916\\u51fa\\u6280\\u672f\\u652f\\u6301\\u6570\", \"x\": [\"8-3\", \"8-4\", \"9-1\", \"9-2\", \"9-3\"], \"y\": [0.0, 0.0, 0.0, 0.0, 0.0], \"type\": \"scatter\", \"uid\": \"6ff56c6e-c204-11e8-ad45-a81e84e6c740\"}, {\"name\": \"\\u751f\\u7269\\u5b66DNA\\u7ec4_\\u5ba2\\u6237\\u6765\\u8bbf\\u63a5\\u5f85\\u6570\", \"x\": [\"8-3\", \"8-4\", \"9-1\", \"9-2\", \"9-3\"], \"y\": [1.0, 0.0, 0.0, 0.0, 1.0], \"type\": \"scatter\", \"uid\": \"6ff56e9e-c204-11e8-ad45-a81e84e6c740\"}, {\"name\": \"\\u86cb\\u767d\\u548c\\u533b\\u5b66\\u7ec4_\\u7535\\u8bdd\\u4f1a\\u8bae\\u6b21\\u6570\", \"x\": [\"8-3\", \"8-4\", \"9-1\", \"9-2\", \"9-3\"], \"y\": [4.0, 0.0, 0.0, 2.0, 3.0], \"type\": \"scatter\", \"uid\": \"6ff57204-c204-11e8-ad45-a81e84e6c740\"}, {\"name\": \"\\u86cb\\u767d\\u548c\\u533b\\u5b66\\u7ec4_\\u5916\\u51fa\\u6280\\u672f\\u652f\\u6301\\u6570\", \"x\": [\"8-3\", \"8-4\", \"9-1\", \"9-2\", \"9-3\"], \"y\": [0.0, 0.0, 0.0, 0.0, 0.0], \"type\": \"scatter\", \"uid\": \"6ff573f8-c204-11e8-ad45-a81e84e6c740\"}, {\"name\": \"\\u86cb\\u767d\\u548c\\u533b\\u5b66\\u7ec4_\\u5ba2\\u6237\\u6765\\u8bbf\\u63a5\\u5f85\\u6570\", \"x\": [\"8-3\", \"8-4\", \"9-1\", \"9-2\", \"9-3\"], \"y\": [2.0, 0.0, 0.0, 0.0, 0.0], \"type\": \"scatter\", \"uid\": \"6ff575d8-c204-11e8-ad45-a81e84e6c740\"}, {\"name\": \"\\u8f6c\\u5f55\\u8c03\\u63a7\\u7ec4_\\u7535\\u8bdd\\u4f1a\\u8bae\\u6b21\\u6570\", \"x\": [\"8-3\", \"8-4\", \"9-1\", \"9-2\", \"9-3\"], \"y\": [4.0, 2.0, 1.0, 3.0, 2.0], \"type\": \"scatter\", \"uid\": \"6ff577b8-c204-11e8-ad45-a81e84e6c740\"}, {\"name\": \"\\u8f6c\\u5f55\\u8c03\\u63a7\\u7ec4_\\u5916\\u51fa\\u6280\\u672f\\u652f\\u6301\\u6570\", \"x\": [\"8-3\", \"8-4\", \"9-1\", \"9-2\", \"9-3\"], \"y\": [0.0, 0.0, 0.0, 0.0, 0.0], \"type\": \"scatter\", \"uid\": \"6ff5798e-c204-11e8-ad45-a81e84e6c740\"}, {\"name\": \"\\u8f6c\\u5f55\\u8c03\\u63a7\\u7ec4_\\u5ba2\\u6237\\u6765\\u8bbf\\u63a5\\u5f85\\u6570\", \"x\": [\"8-3\", \"8-4\", \"9-1\", \"9-2\", \"9-3\"], \"y\": [0.0, 0.0, 0.0, 0.0, 0.0], \"type\": \"scatter\", \"uid\": \"6ff57b78-c204-11e8-ad45-a81e84e6c740\"}],\n",
       "            {\"title\": \"\\u7535\\u8bdd\\u4f1a\\u8bae\\u6b21\\u6570&\\u5916\\u51fa\\u6280\\u672f\\u652f\\u6301\\u6570&\\u5ba2\\u6237\\u6765\\u8bbf\\u63a5\\u5f85\\u6570\\u5468\\u8d8b\\u52bf\\u56fe\", \"xaxis\": {\"mirror\": \"all\", \"nticks\": 20, \"showgrid\": true, \"showline\": true, \"title\": \"\\u5468\", \"zeroline\": true}, \"yaxis\": {\"mirror\": \"all\", \"nticks\": 20, \"showgrid\": true, \"showline\": true, \"title\": \"\\u7535\\u8bdd\\u4f1a\\u8bae\\u6b21\\u6570&\\u5916\\u51fa\\u6280\\u672f\\u652f\\u6301\\u6570&\\u5ba2\\u6237\\u6765\\u8bbf\\u63a5\\u5f85\\u6570\", \"zeroline\": true}},\n",
       "            {\"showLink\": true, \"linkText\": \"Export to plot.ly\"}\n",
       "        ).then(function () {return Plotly.addFrames('3abc18fc-989b-4a55-b75a-6e762b6204c3',{});}).then(function(){Plotly.animate('3abc18fc-989b-4a55-b75a-6e762b6204c3');})\n",
       "        });</script>"
      ],
      "text/vnd.plotly.v1+html": [
       "<div id=\"3abc18fc-989b-4a55-b75a-6e762b6204c3\" style=\"height: 525px; width: 100%;\" class=\"plotly-graph-div\"></div><script type=\"text/javascript\">require([\"plotly\"], function(Plotly) { window.PLOTLYENV=window.PLOTLYENV || {};window.PLOTLYENV.BASE_URL=\"https://plot.ly\";\n",
       "        Plotly.plot(\n",
       "            '3abc18fc-989b-4a55-b75a-6e762b6204c3',\n",
       "            [{\"name\": \"\\u751f\\u7269\\u5b66DNA\\u7ec4_\\u7535\\u8bdd\\u4f1a\\u8bae\\u6b21\\u6570\", \"x\": [\"8-3\", \"8-4\", \"9-1\", \"9-2\", \"9-3\"], \"y\": [1.0, 3.0, 4.0, 3.0, 3.0], \"type\": \"scatter\", \"uid\": \"6ff56912-c204-11e8-ad45-a81e84e6c740\"}, {\"name\": \"\\u751f\\u7269\\u5b66DNA\\u7ec4_\\u5916\\u51fa\\u6280\\u672f\\u652f\\u6301\\u6570\", \"x\": [\"8-3\", \"8-4\", \"9-1\", \"9-2\", \"9-3\"], \"y\": [0.0, 0.0, 0.0, 0.0, 0.0], \"type\": \"scatter\", \"uid\": \"6ff56c6e-c204-11e8-ad45-a81e84e6c740\"}, {\"name\": \"\\u751f\\u7269\\u5b66DNA\\u7ec4_\\u5ba2\\u6237\\u6765\\u8bbf\\u63a5\\u5f85\\u6570\", \"x\": [\"8-3\", \"8-4\", \"9-1\", \"9-2\", \"9-3\"], \"y\": [1.0, 0.0, 0.0, 0.0, 1.0], \"type\": \"scatter\", \"uid\": \"6ff56e9e-c204-11e8-ad45-a81e84e6c740\"}, {\"name\": \"\\u86cb\\u767d\\u548c\\u533b\\u5b66\\u7ec4_\\u7535\\u8bdd\\u4f1a\\u8bae\\u6b21\\u6570\", \"x\": [\"8-3\", \"8-4\", \"9-1\", \"9-2\", \"9-3\"], \"y\": [4.0, 0.0, 0.0, 2.0, 3.0], \"type\": \"scatter\", \"uid\": \"6ff57204-c204-11e8-ad45-a81e84e6c740\"}, {\"name\": \"\\u86cb\\u767d\\u548c\\u533b\\u5b66\\u7ec4_\\u5916\\u51fa\\u6280\\u672f\\u652f\\u6301\\u6570\", \"x\": [\"8-3\", \"8-4\", \"9-1\", \"9-2\", \"9-3\"], \"y\": [0.0, 0.0, 0.0, 0.0, 0.0], \"type\": \"scatter\", \"uid\": \"6ff573f8-c204-11e8-ad45-a81e84e6c740\"}, {\"name\": \"\\u86cb\\u767d\\u548c\\u533b\\u5b66\\u7ec4_\\u5ba2\\u6237\\u6765\\u8bbf\\u63a5\\u5f85\\u6570\", \"x\": [\"8-3\", \"8-4\", \"9-1\", \"9-2\", \"9-3\"], \"y\": [2.0, 0.0, 0.0, 0.0, 0.0], \"type\": \"scatter\", \"uid\": \"6ff575d8-c204-11e8-ad45-a81e84e6c740\"}, {\"name\": \"\\u8f6c\\u5f55\\u8c03\\u63a7\\u7ec4_\\u7535\\u8bdd\\u4f1a\\u8bae\\u6b21\\u6570\", \"x\": [\"8-3\", \"8-4\", \"9-1\", \"9-2\", \"9-3\"], \"y\": [4.0, 2.0, 1.0, 3.0, 2.0], \"type\": \"scatter\", \"uid\": \"6ff577b8-c204-11e8-ad45-a81e84e6c740\"}, {\"name\": \"\\u8f6c\\u5f55\\u8c03\\u63a7\\u7ec4_\\u5916\\u51fa\\u6280\\u672f\\u652f\\u6301\\u6570\", \"x\": [\"8-3\", \"8-4\", \"9-1\", \"9-2\", \"9-3\"], \"y\": [0.0, 0.0, 0.0, 0.0, 0.0], \"type\": \"scatter\", \"uid\": \"6ff5798e-c204-11e8-ad45-a81e84e6c740\"}, {\"name\": \"\\u8f6c\\u5f55\\u8c03\\u63a7\\u7ec4_\\u5ba2\\u6237\\u6765\\u8bbf\\u63a5\\u5f85\\u6570\", \"x\": [\"8-3\", \"8-4\", \"9-1\", \"9-2\", \"9-3\"], \"y\": [0.0, 0.0, 0.0, 0.0, 0.0], \"type\": \"scatter\", \"uid\": \"6ff57b78-c204-11e8-ad45-a81e84e6c740\"}],\n",
       "            {\"title\": \"\\u7535\\u8bdd\\u4f1a\\u8bae\\u6b21\\u6570&\\u5916\\u51fa\\u6280\\u672f\\u652f\\u6301\\u6570&\\u5ba2\\u6237\\u6765\\u8bbf\\u63a5\\u5f85\\u6570\\u5468\\u8d8b\\u52bf\\u56fe\", \"xaxis\": {\"mirror\": \"all\", \"nticks\": 20, \"showgrid\": true, \"showline\": true, \"title\": \"\\u5468\", \"zeroline\": true}, \"yaxis\": {\"mirror\": \"all\", \"nticks\": 20, \"showgrid\": true, \"showline\": true, \"title\": \"\\u7535\\u8bdd\\u4f1a\\u8bae\\u6b21\\u6570&\\u5916\\u51fa\\u6280\\u672f\\u652f\\u6301\\u6570&\\u5ba2\\u6237\\u6765\\u8bbf\\u63a5\\u5f85\\u6570\", \"zeroline\": true}},\n",
       "            {\"showLink\": true, \"linkText\": \"Export to plot.ly\"}\n",
       "        ).then(function () {return Plotly.addFrames('3abc18fc-989b-4a55-b75a-6e762b6204c3',{});}).then(function(){Plotly.animate('3abc18fc-989b-4a55-b75a-6e762b6204c3');})\n",
       "        });</script>"
      ]
     },
     "metadata": {},
     "output_type": "display_data"
    },
    {
     "data": {
      "application/vnd.plotly.v1+json": {
       "data": [
        {
         "name": "生物学DNA组_电话会议次数",
         "type": "scatter",
         "uid": "700c468c-c204-11e8-ad45-a81e84e6c740",
         "x": [
          "8",
          "9"
         ],
         "y": [
          4,
          10
         ]
        },
        {
         "name": "生物学DNA组_外出技术支持数",
         "type": "scatter",
         "uid": "700c4b50-c204-11e8-ad45-a81e84e6c740",
         "x": [
          "8",
          "9"
         ],
         "y": [
          0,
          0
         ]
        },
        {
         "name": "生物学DNA组_客户来访接待数",
         "type": "scatter",
         "uid": "700c4ef2-c204-11e8-ad45-a81e84e6c740",
         "x": [
          "8",
          "9"
         ],
         "y": [
          1,
          1
         ]
        },
        {
         "name": "蛋白和医学组_电话会议次数",
         "type": "scatter",
         "uid": "700c5262-c204-11e8-ad45-a81e84e6c740",
         "x": [
          "8",
          "9"
         ],
         "y": [
          4,
          5
         ]
        },
        {
         "name": "蛋白和医学组_外出技术支持数",
         "type": "scatter",
         "uid": "700c5582-c204-11e8-ad45-a81e84e6c740",
         "x": [
          "8",
          "9"
         ],
         "y": [
          0,
          0
         ]
        },
        {
         "name": "蛋白和医学组_客户来访接待数",
         "type": "scatter",
         "uid": "700c5898-c204-11e8-ad45-a81e84e6c740",
         "x": [
          "8",
          "9"
         ],
         "y": [
          2,
          0
         ]
        },
        {
         "name": "转录调控组_电话会议次数",
         "type": "scatter",
         "uid": "700c5bb8-c204-11e8-ad45-a81e84e6c740",
         "x": [
          "8",
          "9"
         ],
         "y": [
          6,
          6
         ]
        },
        {
         "name": "转录调控组_外出技术支持数",
         "type": "scatter",
         "uid": "700c5fb4-c204-11e8-ad45-a81e84e6c740",
         "x": [
          "8",
          "9"
         ],
         "y": [
          0,
          0
         ]
        },
        {
         "name": "转录调控组_客户来访接待数",
         "type": "scatter",
         "uid": "700c6374-c204-11e8-ad45-a81e84e6c740",
         "x": [
          "8",
          "9"
         ],
         "y": [
          0,
          0
         ]
        }
       ],
       "layout": {
        "title": "电话会议次数&外出技术支持数&客户来访接待数月趋势图",
        "xaxis": {
         "mirror": "all",
         "nticks": 20,
         "showgrid": true,
         "showline": true,
         "title": "月",
         "zeroline": true
        },
        "yaxis": {
         "mirror": "all",
         "nticks": 20,
         "showgrid": true,
         "showline": true,
         "title": "电话会议次数&外出技术支持数&客户来访接待数",
         "zeroline": true
        }
       }
      },
      "text/html": [
       "<div id=\"9fe46162-42f1-4061-a4bc-5f169b43b484\" style=\"height: 525px; width: 100%;\" class=\"plotly-graph-div\"></div><script type=\"text/javascript\">require([\"plotly\"], function(Plotly) { window.PLOTLYENV=window.PLOTLYENV || {};window.PLOTLYENV.BASE_URL=\"https://plot.ly\";\n",
       "        Plotly.plot(\n",
       "            '9fe46162-42f1-4061-a4bc-5f169b43b484',\n",
       "            [{\"name\": \"\\u751f\\u7269\\u5b66DNA\\u7ec4_\\u7535\\u8bdd\\u4f1a\\u8bae\\u6b21\\u6570\", \"x\": [\"8\", \"9\"], \"y\": [4.0, 10.0], \"type\": \"scatter\", \"uid\": \"700c468c-c204-11e8-ad45-a81e84e6c740\"}, {\"name\": \"\\u751f\\u7269\\u5b66DNA\\u7ec4_\\u5916\\u51fa\\u6280\\u672f\\u652f\\u6301\\u6570\", \"x\": [\"8\", \"9\"], \"y\": [0.0, 0.0], \"type\": \"scatter\", \"uid\": \"700c4b50-c204-11e8-ad45-a81e84e6c740\"}, {\"name\": \"\\u751f\\u7269\\u5b66DNA\\u7ec4_\\u5ba2\\u6237\\u6765\\u8bbf\\u63a5\\u5f85\\u6570\", \"x\": [\"8\", \"9\"], \"y\": [1.0, 1.0], \"type\": \"scatter\", \"uid\": \"700c4ef2-c204-11e8-ad45-a81e84e6c740\"}, {\"name\": \"\\u86cb\\u767d\\u548c\\u533b\\u5b66\\u7ec4_\\u7535\\u8bdd\\u4f1a\\u8bae\\u6b21\\u6570\", \"x\": [\"8\", \"9\"], \"y\": [4.0, 5.0], \"type\": \"scatter\", \"uid\": \"700c5262-c204-11e8-ad45-a81e84e6c740\"}, {\"name\": \"\\u86cb\\u767d\\u548c\\u533b\\u5b66\\u7ec4_\\u5916\\u51fa\\u6280\\u672f\\u652f\\u6301\\u6570\", \"x\": [\"8\", \"9\"], \"y\": [0.0, 0.0], \"type\": \"scatter\", \"uid\": \"700c5582-c204-11e8-ad45-a81e84e6c740\"}, {\"name\": \"\\u86cb\\u767d\\u548c\\u533b\\u5b66\\u7ec4_\\u5ba2\\u6237\\u6765\\u8bbf\\u63a5\\u5f85\\u6570\", \"x\": [\"8\", \"9\"], \"y\": [2.0, 0.0], \"type\": \"scatter\", \"uid\": \"700c5898-c204-11e8-ad45-a81e84e6c740\"}, {\"name\": \"\\u8f6c\\u5f55\\u8c03\\u63a7\\u7ec4_\\u7535\\u8bdd\\u4f1a\\u8bae\\u6b21\\u6570\", \"x\": [\"8\", \"9\"], \"y\": [6.0, 6.0], \"type\": \"scatter\", \"uid\": \"700c5bb8-c204-11e8-ad45-a81e84e6c740\"}, {\"name\": \"\\u8f6c\\u5f55\\u8c03\\u63a7\\u7ec4_\\u5916\\u51fa\\u6280\\u672f\\u652f\\u6301\\u6570\", \"x\": [\"8\", \"9\"], \"y\": [0.0, 0.0], \"type\": \"scatter\", \"uid\": \"700c5fb4-c204-11e8-ad45-a81e84e6c740\"}, {\"name\": \"\\u8f6c\\u5f55\\u8c03\\u63a7\\u7ec4_\\u5ba2\\u6237\\u6765\\u8bbf\\u63a5\\u5f85\\u6570\", \"x\": [\"8\", \"9\"], \"y\": [0.0, 0.0], \"type\": \"scatter\", \"uid\": \"700c6374-c204-11e8-ad45-a81e84e6c740\"}],\n",
       "            {\"title\": \"\\u7535\\u8bdd\\u4f1a\\u8bae\\u6b21\\u6570&\\u5916\\u51fa\\u6280\\u672f\\u652f\\u6301\\u6570&\\u5ba2\\u6237\\u6765\\u8bbf\\u63a5\\u5f85\\u6570\\u6708\\u8d8b\\u52bf\\u56fe\", \"xaxis\": {\"mirror\": \"all\", \"nticks\": 20, \"showgrid\": true, \"showline\": true, \"title\": \"\\u6708\", \"zeroline\": true}, \"yaxis\": {\"mirror\": \"all\", \"nticks\": 20, \"showgrid\": true, \"showline\": true, \"title\": \"\\u7535\\u8bdd\\u4f1a\\u8bae\\u6b21\\u6570&\\u5916\\u51fa\\u6280\\u672f\\u652f\\u6301\\u6570&\\u5ba2\\u6237\\u6765\\u8bbf\\u63a5\\u5f85\\u6570\", \"zeroline\": true}},\n",
       "            {\"showLink\": true, \"linkText\": \"Export to plot.ly\"}\n",
       "        ).then(function () {return Plotly.addFrames('9fe46162-42f1-4061-a4bc-5f169b43b484',{});}).then(function(){Plotly.animate('9fe46162-42f1-4061-a4bc-5f169b43b484');})\n",
       "        });</script>"
      ],
      "text/vnd.plotly.v1+html": [
       "<div id=\"9fe46162-42f1-4061-a4bc-5f169b43b484\" style=\"height: 525px; width: 100%;\" class=\"plotly-graph-div\"></div><script type=\"text/javascript\">require([\"plotly\"], function(Plotly) { window.PLOTLYENV=window.PLOTLYENV || {};window.PLOTLYENV.BASE_URL=\"https://plot.ly\";\n",
       "        Plotly.plot(\n",
       "            '9fe46162-42f1-4061-a4bc-5f169b43b484',\n",
       "            [{\"name\": \"\\u751f\\u7269\\u5b66DNA\\u7ec4_\\u7535\\u8bdd\\u4f1a\\u8bae\\u6b21\\u6570\", \"x\": [\"8\", \"9\"], \"y\": [4.0, 10.0], \"type\": \"scatter\", \"uid\": \"700c468c-c204-11e8-ad45-a81e84e6c740\"}, {\"name\": \"\\u751f\\u7269\\u5b66DNA\\u7ec4_\\u5916\\u51fa\\u6280\\u672f\\u652f\\u6301\\u6570\", \"x\": [\"8\", \"9\"], \"y\": [0.0, 0.0], \"type\": \"scatter\", \"uid\": \"700c4b50-c204-11e8-ad45-a81e84e6c740\"}, {\"name\": \"\\u751f\\u7269\\u5b66DNA\\u7ec4_\\u5ba2\\u6237\\u6765\\u8bbf\\u63a5\\u5f85\\u6570\", \"x\": [\"8\", \"9\"], \"y\": [1.0, 1.0], \"type\": \"scatter\", \"uid\": \"700c4ef2-c204-11e8-ad45-a81e84e6c740\"}, {\"name\": \"\\u86cb\\u767d\\u548c\\u533b\\u5b66\\u7ec4_\\u7535\\u8bdd\\u4f1a\\u8bae\\u6b21\\u6570\", \"x\": [\"8\", \"9\"], \"y\": [4.0, 5.0], \"type\": \"scatter\", \"uid\": \"700c5262-c204-11e8-ad45-a81e84e6c740\"}, {\"name\": \"\\u86cb\\u767d\\u548c\\u533b\\u5b66\\u7ec4_\\u5916\\u51fa\\u6280\\u672f\\u652f\\u6301\\u6570\", \"x\": [\"8\", \"9\"], \"y\": [0.0, 0.0], \"type\": \"scatter\", \"uid\": \"700c5582-c204-11e8-ad45-a81e84e6c740\"}, {\"name\": \"\\u86cb\\u767d\\u548c\\u533b\\u5b66\\u7ec4_\\u5ba2\\u6237\\u6765\\u8bbf\\u63a5\\u5f85\\u6570\", \"x\": [\"8\", \"9\"], \"y\": [2.0, 0.0], \"type\": \"scatter\", \"uid\": \"700c5898-c204-11e8-ad45-a81e84e6c740\"}, {\"name\": \"\\u8f6c\\u5f55\\u8c03\\u63a7\\u7ec4_\\u7535\\u8bdd\\u4f1a\\u8bae\\u6b21\\u6570\", \"x\": [\"8\", \"9\"], \"y\": [6.0, 6.0], \"type\": \"scatter\", \"uid\": \"700c5bb8-c204-11e8-ad45-a81e84e6c740\"}, {\"name\": \"\\u8f6c\\u5f55\\u8c03\\u63a7\\u7ec4_\\u5916\\u51fa\\u6280\\u672f\\u652f\\u6301\\u6570\", \"x\": [\"8\", \"9\"], \"y\": [0.0, 0.0], \"type\": \"scatter\", \"uid\": \"700c5fb4-c204-11e8-ad45-a81e84e6c740\"}, {\"name\": \"\\u8f6c\\u5f55\\u8c03\\u63a7\\u7ec4_\\u5ba2\\u6237\\u6765\\u8bbf\\u63a5\\u5f85\\u6570\", \"x\": [\"8\", \"9\"], \"y\": [0.0, 0.0], \"type\": \"scatter\", \"uid\": \"700c6374-c204-11e8-ad45-a81e84e6c740\"}],\n",
       "            {\"title\": \"\\u7535\\u8bdd\\u4f1a\\u8bae\\u6b21\\u6570&\\u5916\\u51fa\\u6280\\u672f\\u652f\\u6301\\u6570&\\u5ba2\\u6237\\u6765\\u8bbf\\u63a5\\u5f85\\u6570\\u6708\\u8d8b\\u52bf\\u56fe\", \"xaxis\": {\"mirror\": \"all\", \"nticks\": 20, \"showgrid\": true, \"showline\": true, \"title\": \"\\u6708\", \"zeroline\": true}, \"yaxis\": {\"mirror\": \"all\", \"nticks\": 20, \"showgrid\": true, \"showline\": true, \"title\": \"\\u7535\\u8bdd\\u4f1a\\u8bae\\u6b21\\u6570&\\u5916\\u51fa\\u6280\\u672f\\u652f\\u6301\\u6570&\\u5ba2\\u6237\\u6765\\u8bbf\\u63a5\\u5f85\\u6570\", \"zeroline\": true}},\n",
       "            {\"showLink\": true, \"linkText\": \"Export to plot.ly\"}\n",
       "        ).then(function () {return Plotly.addFrames('9fe46162-42f1-4061-a4bc-5f169b43b484',{});}).then(function(){Plotly.animate('9fe46162-42f1-4061-a4bc-5f169b43b484');})\n",
       "        });</script>"
      ]
     },
     "metadata": {},
     "output_type": "display_data"
    }
   ],
   "source": [
    "data_dict = {'电话会议次数': ['电话会议次数'], \\\n",
    "             '外出技术支持数': ['外出技术支持数'], '客户来访接待数': ['客户来访接待数']}\n",
    "myModule.plot( all_dict, data_dict, '组别' ,  'line' , all='')"
   ]
  },
  {
   "cell_type": "markdown",
   "metadata": {
    "hide_input": true
   },
   "source": [
    "## 个人情况"
   ]
  },
  {
   "cell_type": "markdown",
   "metadata": {},
   "source": [
    "### 下单情况"
   ]
  },
  {
   "cell_type": "markdown",
   "metadata": {},
   "source": [
    "\n",
    "#### 总下单数和完成下单数\n"
   ]
  },
  {
   "cell_type": "code",
   "execution_count": 16,
   "metadata": {},
   "outputs": [
    {
     "data": {
      "application/vnd.plotly.v1+json": {
       "data": [
        {
         "name": "姚盟成_总下单数",
         "type": "scatter",
         "uid": "70b82466-c204-11e8-ad45-a81e84e6c740",
         "x": [
          "8-3",
          "8-4",
          "9-1",
          "9-2",
          "9-3"
         ],
         "y": [
          4,
          4,
          4,
          5,
          4
         ]
        },
        {
         "name": "姚盟成_完成下单数",
         "type": "scatter",
         "uid": "70b827ae-c204-11e8-ad45-a81e84e6c740",
         "x": [
          "8-3",
          "8-4",
          "9-1",
          "9-2",
          "9-3"
         ],
         "y": [
          4,
          3,
          4,
          5,
          4
         ]
        },
        {
         "name": "刘慧玲_总下单数",
         "type": "scatter",
         "uid": "70b82a10-c204-11e8-ad45-a81e84e6c740",
         "x": [
          "8-3",
          "8-4",
          "9-1"
         ],
         "y": [
          4,
          4,
          5
         ]
        },
        {
         "name": "刘慧玲_完成下单数",
         "type": "scatter",
         "uid": "70b82c36-c204-11e8-ad45-a81e84e6c740",
         "x": [
          "8-3",
          "8-4",
          "9-1"
         ],
         "y": [
          3,
          3,
          4
         ]
        },
        {
         "name": "占伟_总下单数",
         "type": "scatter",
         "uid": "70b82e2a-c204-11e8-ad45-a81e84e6c740",
         "x": [
          "8-3",
          "8-4",
          "9-1",
          "9-2"
         ],
         "y": [
          4,
          6,
          7,
          8
         ]
        },
        {
         "name": "占伟_完成下单数",
         "type": "scatter",
         "uid": "70b83028-c204-11e8-ad45-a81e84e6c740",
         "x": [
          "8-3",
          "8-4",
          "9-1",
          "9-2"
         ],
         "y": [
          2,
          3,
          7,
          8
         ]
        },
        {
         "name": "王宁_总下单数",
         "type": "scatter",
         "uid": "70b83212-c204-11e8-ad45-a81e84e6c740",
         "x": [
          "8-3",
          "8-4",
          "9-1"
         ],
         "y": [
          6,
          6,
          6
         ]
        },
        {
         "name": "王宁_完成下单数",
         "type": "scatter",
         "uid": "70b83406-c204-11e8-ad45-a81e84e6c740",
         "x": [
          "8-3",
          "8-4",
          "9-1"
         ],
         "y": [
          6,
          6,
          7
         ]
        },
        {
         "name": "封彦杰_总下单数",
         "type": "scatter",
         "uid": "70b835f0-c204-11e8-ad45-a81e84e6c740",
         "x": [
          "8-3",
          "8-4",
          "9-1",
          "9-2",
          "9-3"
         ],
         "y": [
          9,
          6,
          5,
          4,
          8
         ]
        },
        {
         "name": "封彦杰_完成下单数",
         "type": "scatter",
         "uid": "70b837da-c204-11e8-ad45-a81e84e6c740",
         "x": [
          "8-3",
          "8-4",
          "9-1",
          "9-2",
          "9-3"
         ],
         "y": [
          9,
          6,
          5,
          3,
          8
         ]
        },
        {
         "name": "路慧萍_总下单数",
         "type": "scatter",
         "uid": "70b839c4-c204-11e8-ad45-a81e84e6c740",
         "x": [
          "8-3",
          "8-4",
          "9-1",
          "9-2",
          "9-3"
         ],
         "y": [
          5,
          8,
          7,
          5,
          7
         ]
        },
        {
         "name": "路慧萍_完成下单数",
         "type": "scatter",
         "uid": "70b83bae-c204-11e8-ad45-a81e84e6c740",
         "x": [
          "8-3",
          "8-4",
          "9-1",
          "9-2",
          "9-3"
         ],
         "y": [
          5,
          8,
          6,
          5,
          5
         ]
        },
        {
         "name": "宋迎楠_总下单数",
         "type": "scatter",
         "uid": "70b83d98-c204-11e8-ad45-a81e84e6c740",
         "x": [
          "8-3",
          "8-4",
          "9-1"
         ],
         "y": [
          4,
          3,
          4
         ]
        },
        {
         "name": "宋迎楠_完成下单数",
         "type": "scatter",
         "uid": "70b83f8c-c204-11e8-ad45-a81e84e6c740",
         "x": [
          "8-3",
          "8-4",
          "9-1"
         ],
         "y": [
          3,
          3,
          4
         ]
        },
        {
         "name": "杨伟飞_总下单数",
         "type": "scatter",
         "uid": "70b8416c-c204-11e8-ad45-a81e84e6c740",
         "x": [
          "8-3",
          "8-4",
          "9-1",
          "9-2",
          "9-3"
         ],
         "y": [
          3,
          6,
          4,
          6,
          7
         ]
        },
        {
         "name": "杨伟飞_完成下单数",
         "type": "scatter",
         "uid": "70b84356-c204-11e8-ad45-a81e84e6c740",
         "x": [
          "8-3",
          "8-4",
          "9-1",
          "9-2",
          "9-3"
         ],
         "y": [
          1,
          5,
          8,
          5,
          7
         ]
        },
        {
         "name": "马潇_总下单数",
         "type": "scatter",
         "uid": "70b84540-c204-11e8-ad45-a81e84e6c740",
         "x": [
          "8-3",
          "8-4",
          "9-1",
          "9-2"
         ],
         "y": [
          5,
          3,
          4,
          5
         ]
        },
        {
         "name": "马潇_完成下单数",
         "type": "scatter",
         "uid": "70b8489c-c204-11e8-ad45-a81e84e6c740",
         "x": [
          "8-3",
          "8-4",
          "9-1",
          "9-2"
         ],
         "y": [
          3,
          3,
          4,
          5
         ]
        },
        {
         "name": "李庆原_总下单数",
         "type": "scatter",
         "uid": "70b84b1c-c204-11e8-ad45-a81e84e6c740",
         "x": [
          "8-3",
          "8-4",
          "9-1",
          "9-2",
          "9-3"
         ],
         "y": [
          2,
          5,
          3,
          3,
          6
         ]
        },
        {
         "name": "李庆原_完成下单数",
         "type": "scatter",
         "uid": "70b84d06-c204-11e8-ad45-a81e84e6c740",
         "x": [
          "8-3",
          "8-4",
          "9-1",
          "9-2",
          "9-3"
         ],
         "y": [
          2,
          5,
          3,
          3,
          6
         ]
        },
        {
         "name": "韩少怀_总下单数",
         "type": "scatter",
         "uid": "70b84edc-c204-11e8-ad45-a81e84e6c740",
         "x": [
          "8-3",
          "8-4",
          "9-1",
          "9-2"
         ],
         "y": [
          3,
          4,
          4,
          5
         ]
        },
        {
         "name": "韩少怀_完成下单数",
         "type": "scatter",
         "uid": "70b850c6-c204-11e8-ad45-a81e84e6c740",
         "x": [
          "8-3",
          "8-4",
          "9-1",
          "9-2"
         ],
         "y": [
          3,
          4,
          4,
          5
         ]
        },
        {
         "name": "赵玥_总下单数",
         "type": "scatter",
         "uid": "70b8529c-c204-11e8-ad45-a81e84e6c740",
         "x": [
          "8-3",
          "8-4",
          "9-1",
          "9-2"
         ],
         "y": [
          6,
          4,
          6,
          4
         ]
        },
        {
         "name": "赵玥_完成下单数",
         "type": "scatter",
         "uid": "70b8547c-c204-11e8-ad45-a81e84e6c740",
         "x": [
          "8-3",
          "8-4",
          "9-1",
          "9-2"
         ],
         "y": [
          6,
          4,
          4,
          4
         ]
        },
        {
         "name": "苏彦勋_总下单数",
         "type": "scatter",
         "uid": "70b8565c-c204-11e8-ad45-a81e84e6c740",
         "x": [
          "8-3",
          "8-4",
          "9-1",
          "9-2",
          "9-3"
         ],
         "y": [
          4,
          6,
          5,
          6,
          9
         ]
        },
        {
         "name": "苏彦勋_完成下单数",
         "type": "scatter",
         "uid": "70b8583c-c204-11e8-ad45-a81e84e6c740",
         "x": [
          "8-3",
          "8-4",
          "9-1",
          "9-2",
          "9-3"
         ],
         "y": [
          4,
          6,
          5,
          5,
          9
         ]
        },
        {
         "name": "张守伟_总下单数",
         "type": "scatter",
         "uid": "70b85a1c-c204-11e8-ad45-a81e84e6c740",
         "x": [
          "8-3",
          "8-4",
          "9-1",
          "9-2"
         ],
         "y": [
          4,
          4,
          4,
          3
         ]
        },
        {
         "name": "张守伟_完成下单数",
         "type": "scatter",
         "uid": "70b85bfc-c204-11e8-ad45-a81e84e6c740",
         "x": [
          "8-3",
          "8-4",
          "9-1",
          "9-2"
         ],
         "y": [
          3,
          4,
          3,
          3
         ]
        },
        {
         "name": "周杨_总下单数",
         "type": "scatter",
         "uid": "70b85ddc-c204-11e8-ad45-a81e84e6c740",
         "x": [
          "8-3",
          "8-4",
          "9-1",
          "9-2",
          "9-3"
         ],
         "y": [
          2,
          6,
          4,
          4,
          7
         ]
        },
        {
         "name": "周杨_完成下单数",
         "type": "scatter",
         "uid": "70b85fc6-c204-11e8-ad45-a81e84e6c740",
         "x": [
          "8-3",
          "8-4",
          "9-1",
          "9-2",
          "9-3"
         ],
         "y": [
          2,
          5,
          4,
          4,
          7
         ]
        },
        {
         "name": "范旭宁_总下单数",
         "type": "scatter",
         "uid": "70b861a6-c204-11e8-ad45-a81e84e6c740",
         "x": [
          "8-3",
          "8-4",
          "9-1",
          "9-2"
         ],
         "y": [
          4,
          4,
          5,
          7
         ]
        },
        {
         "name": "范旭宁_完成下单数",
         "type": "scatter",
         "uid": "70b86386-c204-11e8-ad45-a81e84e6c740",
         "x": [
          "8-3",
          "8-4",
          "9-1",
          "9-2"
         ],
         "y": [
          3,
          3,
          4,
          7
         ]
        },
        {
         "name": "孟昊_总下单数",
         "type": "scatter",
         "uid": "70b86566-c204-11e8-ad45-a81e84e6c740",
         "x": [
          "8-3",
          "8-4",
          "9-1",
          "9-2",
          "9-3"
         ],
         "y": [
          4,
          4,
          2,
          3,
          5
         ]
        },
        {
         "name": "孟昊_完成下单数",
         "type": "scatter",
         "uid": "70b86746-c204-11e8-ad45-a81e84e6c740",
         "x": [
          "8-3",
          "8-4",
          "9-1",
          "9-2",
          "9-3"
         ],
         "y": [
          4,
          4,
          2,
          2,
          5
         ]
        },
        {
         "name": "于勇一_总下单数",
         "type": "scatter",
         "uid": "70b86926-c204-11e8-ad45-a81e84e6c740",
         "x": [
          "8-3",
          "8-4",
          "9-1",
          "9-2",
          "9-3"
         ],
         "y": [
          3,
          4,
          5,
          4,
          6
         ]
        },
        {
         "name": "于勇一_完成下单数",
         "type": "scatter",
         "uid": "70b86b06-c204-11e8-ad45-a81e84e6c740",
         "x": [
          "8-3",
          "8-4",
          "9-1",
          "9-2",
          "9-3"
         ],
         "y": [
          3,
          2,
          4,
          2,
          7
         ]
        },
        {
         "name": "于慧_总下单数",
         "type": "scatter",
         "uid": "70b86d22-c204-11e8-ad45-a81e84e6c740",
         "x": [
          "8-3",
          "8-4",
          "9-1",
          "9-2",
          "9-3"
         ],
         "y": [
          0,
          7,
          2,
          3,
          7
         ]
        },
        {
         "name": "于慧_完成下单数",
         "type": "scatter",
         "uid": "70b86fc0-c204-11e8-ad45-a81e84e6c740",
         "x": [
          "8-3",
          "8-4",
          "9-1",
          "9-2",
          "9-3"
         ],
         "y": [
          0,
          7,
          1,
          3,
          7
         ]
        },
        {
         "name": "刘江_总下单数",
         "type": "scatter",
         "uid": "70b87290-c204-11e8-ad45-a81e84e6c740",
         "x": [
          "8-3",
          "8-4",
          "9-1",
          "9-2",
          "9-3"
         ],
         "y": [
          7,
          8,
          7,
          8,
          5
         ]
        },
        {
         "name": "刘江_完成下单数",
         "type": "scatter",
         "uid": "70b87574-c204-11e8-ad45-a81e84e6c740",
         "x": [
          "8-3",
          "8-4",
          "9-1",
          "9-2",
          "9-3"
         ],
         "y": [
          4,
          10,
          7,
          7,
          5
         ]
        },
        {
         "name": "李华云_总下单数",
         "type": "scatter",
         "uid": "70b8788a-c204-11e8-ad45-a81e84e6c740",
         "x": [
          "8-3",
          "8-4",
          "9-1",
          "9-2",
          "9-3"
         ],
         "y": [
          5,
          3,
          5,
          5,
          5
         ]
        },
        {
         "name": "李华云_完成下单数",
         "type": "scatter",
         "uid": "70b87b8c-c204-11e8-ad45-a81e84e6c740",
         "x": [
          "8-3",
          "8-4",
          "9-1",
          "9-2",
          "9-3"
         ],
         "y": [
          4,
          3,
          4,
          5,
          5
         ]
        },
        {
         "name": "谢德健_总下单数",
         "type": "scatter",
         "uid": "70b87e98-c204-11e8-ad45-a81e84e6c740",
         "x": [
          "8-3",
          "8-4",
          "9-2",
          "9-3"
         ],
         "y": [
          2,
          4,
          4,
          5
         ]
        },
        {
         "name": "谢德健_完成下单数",
         "type": "scatter",
         "uid": "70b880e6-c204-11e8-ad45-a81e84e6c740",
         "x": [
          "8-3",
          "8-4",
          "9-2",
          "9-3"
         ],
         "y": [
          1,
          4,
          3,
          5
         ]
        },
        {
         "name": "任雪_总下单数",
         "type": "scatter",
         "uid": "70b88398-c204-11e8-ad45-a81e84e6c740",
         "x": [
          "8-4",
          "9-1",
          "9-2",
          "9-3"
         ],
         "y": [
          2,
          4,
          5,
          2
         ]
        },
        {
         "name": "任雪_完成下单数",
         "type": "scatter",
         "uid": "70b88730-c204-11e8-ad45-a81e84e6c740",
         "x": [
          "8-4",
          "9-1",
          "9-2",
          "9-3"
         ],
         "y": [
          2,
          3,
          4,
          0
         ]
        }
       ],
       "layout": {
        "title": "总下单数&完成下单数周趋势图",
        "xaxis": {
         "mirror": "all",
         "nticks": 20,
         "showgrid": true,
         "showline": true,
         "title": "周",
         "zeroline": true
        },
        "yaxis": {
         "mirror": "all",
         "nticks": 20,
         "showgrid": true,
         "showline": true,
         "title": "总下单数&完成下单数",
         "zeroline": true
        }
       }
      },
      "text/html": [
       "<div id=\"69ea5d97-7415-441d-a18c-5611067309d0\" style=\"height: 525px; width: 100%;\" class=\"plotly-graph-div\"></div><script type=\"text/javascript\">require([\"plotly\"], function(Plotly) { window.PLOTLYENV=window.PLOTLYENV || {};window.PLOTLYENV.BASE_URL=\"https://plot.ly\";\n",
       "        Plotly.plot(\n",
       "            '69ea5d97-7415-441d-a18c-5611067309d0',\n",
       "            [{\"name\": \"\\u59da\\u76df\\u6210_\\u603b\\u4e0b\\u5355\\u6570\", \"x\": [\"8-3\", \"8-4\", \"9-1\", \"9-2\", \"9-3\"], \"y\": [4.0, 4.0, 4.0, 5.0, 4.0], \"type\": \"scatter\", \"uid\": \"70b82466-c204-11e8-ad45-a81e84e6c740\"}, {\"name\": \"\\u59da\\u76df\\u6210_\\u5b8c\\u6210\\u4e0b\\u5355\\u6570\", \"x\": [\"8-3\", \"8-4\", \"9-1\", \"9-2\", \"9-3\"], \"y\": [4.0, 3.0, 4.0, 5.0, 4.0], \"type\": \"scatter\", \"uid\": \"70b827ae-c204-11e8-ad45-a81e84e6c740\"}, {\"name\": \"\\u5218\\u6167\\u73b2_\\u603b\\u4e0b\\u5355\\u6570\", \"x\": [\"8-3\", \"8-4\", \"9-1\"], \"y\": [4.0, 4.0, 5.0], \"type\": \"scatter\", \"uid\": \"70b82a10-c204-11e8-ad45-a81e84e6c740\"}, {\"name\": \"\\u5218\\u6167\\u73b2_\\u5b8c\\u6210\\u4e0b\\u5355\\u6570\", \"x\": [\"8-3\", \"8-4\", \"9-1\"], \"y\": [3.0, 3.0, 4.0], \"type\": \"scatter\", \"uid\": \"70b82c36-c204-11e8-ad45-a81e84e6c740\"}, {\"name\": \"\\u5360\\u4f1f_\\u603b\\u4e0b\\u5355\\u6570\", \"x\": [\"8-3\", \"8-4\", \"9-1\", \"9-2\"], \"y\": [4.0, 6.0, 7.0, 8.0], \"type\": \"scatter\", \"uid\": \"70b82e2a-c204-11e8-ad45-a81e84e6c740\"}, {\"name\": \"\\u5360\\u4f1f_\\u5b8c\\u6210\\u4e0b\\u5355\\u6570\", \"x\": [\"8-3\", \"8-4\", \"9-1\", \"9-2\"], \"y\": [2.0, 3.0, 7.0, 8.0], \"type\": \"scatter\", \"uid\": \"70b83028-c204-11e8-ad45-a81e84e6c740\"}, {\"name\": \"\\u738b\\u5b81_\\u603b\\u4e0b\\u5355\\u6570\", \"x\": [\"8-3\", \"8-4\", \"9-1\"], \"y\": [6.0, 6.0, 6.0], \"type\": \"scatter\", \"uid\": \"70b83212-c204-11e8-ad45-a81e84e6c740\"}, {\"name\": \"\\u738b\\u5b81_\\u5b8c\\u6210\\u4e0b\\u5355\\u6570\", \"x\": [\"8-3\", \"8-4\", \"9-1\"], \"y\": [6.0, 6.0, 7.0], \"type\": \"scatter\", \"uid\": \"70b83406-c204-11e8-ad45-a81e84e6c740\"}, {\"name\": \"\\u5c01\\u5f66\\u6770_\\u603b\\u4e0b\\u5355\\u6570\", \"x\": [\"8-3\", \"8-4\", \"9-1\", \"9-2\", \"9-3\"], \"y\": [9.0, 6.0, 5.0, 4.0, 8.0], \"type\": \"scatter\", \"uid\": \"70b835f0-c204-11e8-ad45-a81e84e6c740\"}, {\"name\": \"\\u5c01\\u5f66\\u6770_\\u5b8c\\u6210\\u4e0b\\u5355\\u6570\", \"x\": [\"8-3\", \"8-4\", \"9-1\", \"9-2\", \"9-3\"], \"y\": [9.0, 6.0, 5.0, 3.0, 8.0], \"type\": \"scatter\", \"uid\": \"70b837da-c204-11e8-ad45-a81e84e6c740\"}, {\"name\": \"\\u8def\\u6167\\u840d_\\u603b\\u4e0b\\u5355\\u6570\", \"x\": [\"8-3\", \"8-4\", \"9-1\", \"9-2\", \"9-3\"], \"y\": [5.0, 8.0, 7.0, 5.0, 7.0], \"type\": \"scatter\", \"uid\": \"70b839c4-c204-11e8-ad45-a81e84e6c740\"}, {\"name\": \"\\u8def\\u6167\\u840d_\\u5b8c\\u6210\\u4e0b\\u5355\\u6570\", \"x\": [\"8-3\", \"8-4\", \"9-1\", \"9-2\", \"9-3\"], \"y\": [5.0, 8.0, 6.0, 5.0, 5.0], \"type\": \"scatter\", \"uid\": \"70b83bae-c204-11e8-ad45-a81e84e6c740\"}, {\"name\": \"\\u5b8b\\u8fce\\u6960_\\u603b\\u4e0b\\u5355\\u6570\", \"x\": [\"8-3\", \"8-4\", \"9-1\"], \"y\": [4.0, 3.0, 4.0], \"type\": \"scatter\", \"uid\": \"70b83d98-c204-11e8-ad45-a81e84e6c740\"}, {\"name\": \"\\u5b8b\\u8fce\\u6960_\\u5b8c\\u6210\\u4e0b\\u5355\\u6570\", \"x\": [\"8-3\", \"8-4\", \"9-1\"], \"y\": [3.0, 3.0, 4.0], \"type\": \"scatter\", \"uid\": \"70b83f8c-c204-11e8-ad45-a81e84e6c740\"}, {\"name\": \"\\u6768\\u4f1f\\u98de_\\u603b\\u4e0b\\u5355\\u6570\", \"x\": [\"8-3\", \"8-4\", \"9-1\", \"9-2\", \"9-3\"], \"y\": [3.0, 6.0, 4.0, 6.0, 7.0], \"type\": \"scatter\", \"uid\": \"70b8416c-c204-11e8-ad45-a81e84e6c740\"}, {\"name\": \"\\u6768\\u4f1f\\u98de_\\u5b8c\\u6210\\u4e0b\\u5355\\u6570\", \"x\": [\"8-3\", \"8-4\", \"9-1\", \"9-2\", \"9-3\"], \"y\": [1.0, 5.0, 8.0, 5.0, 7.0], \"type\": \"scatter\", \"uid\": \"70b84356-c204-11e8-ad45-a81e84e6c740\"}, {\"name\": \"\\u9a6c\\u6f47_\\u603b\\u4e0b\\u5355\\u6570\", \"x\": [\"8-3\", \"8-4\", \"9-1\", \"9-2\"], \"y\": [5.0, 3.0, 4.0, 5.0], \"type\": \"scatter\", \"uid\": \"70b84540-c204-11e8-ad45-a81e84e6c740\"}, {\"name\": \"\\u9a6c\\u6f47_\\u5b8c\\u6210\\u4e0b\\u5355\\u6570\", \"x\": [\"8-3\", \"8-4\", \"9-1\", \"9-2\"], \"y\": [3.0, 3.0, 4.0, 5.0], \"type\": \"scatter\", \"uid\": \"70b8489c-c204-11e8-ad45-a81e84e6c740\"}, {\"name\": \"\\u674e\\u5e86\\u539f_\\u603b\\u4e0b\\u5355\\u6570\", \"x\": [\"8-3\", \"8-4\", \"9-1\", \"9-2\", \"9-3\"], \"y\": [2.0, 5.0, 3.0, 3.0, 6.0], \"type\": \"scatter\", \"uid\": \"70b84b1c-c204-11e8-ad45-a81e84e6c740\"}, {\"name\": \"\\u674e\\u5e86\\u539f_\\u5b8c\\u6210\\u4e0b\\u5355\\u6570\", \"x\": [\"8-3\", \"8-4\", \"9-1\", \"9-2\", \"9-3\"], \"y\": [2.0, 5.0, 3.0, 3.0, 6.0], \"type\": \"scatter\", \"uid\": \"70b84d06-c204-11e8-ad45-a81e84e6c740\"}, {\"name\": \"\\u97e9\\u5c11\\u6000_\\u603b\\u4e0b\\u5355\\u6570\", \"x\": [\"8-3\", \"8-4\", \"9-1\", \"9-2\"], \"y\": [3.0, 4.0, 4.0, 5.0], \"type\": \"scatter\", \"uid\": \"70b84edc-c204-11e8-ad45-a81e84e6c740\"}, {\"name\": \"\\u97e9\\u5c11\\u6000_\\u5b8c\\u6210\\u4e0b\\u5355\\u6570\", \"x\": [\"8-3\", \"8-4\", \"9-1\", \"9-2\"], \"y\": [3.0, 4.0, 4.0, 5.0], \"type\": \"scatter\", \"uid\": \"70b850c6-c204-11e8-ad45-a81e84e6c740\"}, {\"name\": \"\\u8d75\\u73a5_\\u603b\\u4e0b\\u5355\\u6570\", \"x\": [\"8-3\", \"8-4\", \"9-1\", \"9-2\"], \"y\": [6.0, 4.0, 6.0, 4.0], \"type\": \"scatter\", \"uid\": \"70b8529c-c204-11e8-ad45-a81e84e6c740\"}, {\"name\": \"\\u8d75\\u73a5_\\u5b8c\\u6210\\u4e0b\\u5355\\u6570\", \"x\": [\"8-3\", \"8-4\", \"9-1\", \"9-2\"], \"y\": [6.0, 4.0, 4.0, 4.0], \"type\": \"scatter\", \"uid\": \"70b8547c-c204-11e8-ad45-a81e84e6c740\"}, {\"name\": \"\\u82cf\\u5f66\\u52cb_\\u603b\\u4e0b\\u5355\\u6570\", \"x\": [\"8-3\", \"8-4\", \"9-1\", \"9-2\", \"9-3\"], \"y\": [4.0, 6.0, 5.0, 6.0, 9.0], \"type\": \"scatter\", \"uid\": \"70b8565c-c204-11e8-ad45-a81e84e6c740\"}, {\"name\": \"\\u82cf\\u5f66\\u52cb_\\u5b8c\\u6210\\u4e0b\\u5355\\u6570\", \"x\": [\"8-3\", \"8-4\", \"9-1\", \"9-2\", \"9-3\"], \"y\": [4.0, 6.0, 5.0, 5.0, 9.0], \"type\": \"scatter\", \"uid\": \"70b8583c-c204-11e8-ad45-a81e84e6c740\"}, {\"name\": \"\\u5f20\\u5b88\\u4f1f_\\u603b\\u4e0b\\u5355\\u6570\", \"x\": [\"8-3\", \"8-4\", \"9-1\", \"9-2\"], \"y\": [4.0, 4.0, 4.0, 3.0], \"type\": \"scatter\", \"uid\": \"70b85a1c-c204-11e8-ad45-a81e84e6c740\"}, {\"name\": \"\\u5f20\\u5b88\\u4f1f_\\u5b8c\\u6210\\u4e0b\\u5355\\u6570\", \"x\": [\"8-3\", \"8-4\", \"9-1\", \"9-2\"], \"y\": [3.0, 4.0, 3.0, 3.0], \"type\": \"scatter\", \"uid\": \"70b85bfc-c204-11e8-ad45-a81e84e6c740\"}, {\"name\": \"\\u5468\\u6768_\\u603b\\u4e0b\\u5355\\u6570\", \"x\": [\"8-3\", \"8-4\", \"9-1\", \"9-2\", \"9-3\"], \"y\": [2.0, 6.0, 4.0, 4.0, 7.0], \"type\": \"scatter\", \"uid\": \"70b85ddc-c204-11e8-ad45-a81e84e6c740\"}, {\"name\": \"\\u5468\\u6768_\\u5b8c\\u6210\\u4e0b\\u5355\\u6570\", \"x\": [\"8-3\", \"8-4\", \"9-1\", \"9-2\", \"9-3\"], \"y\": [2.0, 5.0, 4.0, 4.0, 7.0], \"type\": \"scatter\", \"uid\": \"70b85fc6-c204-11e8-ad45-a81e84e6c740\"}, {\"name\": \"\\u8303\\u65ed\\u5b81_\\u603b\\u4e0b\\u5355\\u6570\", \"x\": [\"8-3\", \"8-4\", \"9-1\", \"9-2\"], \"y\": [4.0, 4.0, 5.0, 7.0], \"type\": \"scatter\", \"uid\": \"70b861a6-c204-11e8-ad45-a81e84e6c740\"}, {\"name\": \"\\u8303\\u65ed\\u5b81_\\u5b8c\\u6210\\u4e0b\\u5355\\u6570\", \"x\": [\"8-3\", \"8-4\", \"9-1\", \"9-2\"], \"y\": [3.0, 3.0, 4.0, 7.0], \"type\": \"scatter\", \"uid\": \"70b86386-c204-11e8-ad45-a81e84e6c740\"}, {\"name\": \"\\u5b5f\\u660a_\\u603b\\u4e0b\\u5355\\u6570\", \"x\": [\"8-3\", \"8-4\", \"9-1\", \"9-2\", \"9-3\"], \"y\": [4.0, 4.0, 2.0, 3.0, 5.0], \"type\": \"scatter\", \"uid\": \"70b86566-c204-11e8-ad45-a81e84e6c740\"}, {\"name\": \"\\u5b5f\\u660a_\\u5b8c\\u6210\\u4e0b\\u5355\\u6570\", \"x\": [\"8-3\", \"8-4\", \"9-1\", \"9-2\", \"9-3\"], \"y\": [4.0, 4.0, 2.0, 2.0, 5.0], \"type\": \"scatter\", \"uid\": \"70b86746-c204-11e8-ad45-a81e84e6c740\"}, {\"name\": \"\\u4e8e\\u52c7\\u4e00_\\u603b\\u4e0b\\u5355\\u6570\", \"x\": [\"8-3\", \"8-4\", \"9-1\", \"9-2\", \"9-3\"], \"y\": [3.0, 4.0, 5.0, 4.0, 6.0], \"type\": \"scatter\", \"uid\": \"70b86926-c204-11e8-ad45-a81e84e6c740\"}, {\"name\": \"\\u4e8e\\u52c7\\u4e00_\\u5b8c\\u6210\\u4e0b\\u5355\\u6570\", \"x\": [\"8-3\", \"8-4\", \"9-1\", \"9-2\", \"9-3\"], \"y\": [3.0, 2.0, 4.0, 2.0, 7.0], \"type\": \"scatter\", \"uid\": \"70b86b06-c204-11e8-ad45-a81e84e6c740\"}, {\"name\": \"\\u4e8e\\u6167_\\u603b\\u4e0b\\u5355\\u6570\", \"x\": [\"8-3\", \"8-4\", \"9-1\", \"9-2\", \"9-3\"], \"y\": [0.0, 7.0, 2.0, 3.0, 7.0], \"type\": \"scatter\", \"uid\": \"70b86d22-c204-11e8-ad45-a81e84e6c740\"}, {\"name\": \"\\u4e8e\\u6167_\\u5b8c\\u6210\\u4e0b\\u5355\\u6570\", \"x\": [\"8-3\", \"8-4\", \"9-1\", \"9-2\", \"9-3\"], \"y\": [0.0, 7.0, 1.0, 3.0, 7.0], \"type\": \"scatter\", \"uid\": \"70b86fc0-c204-11e8-ad45-a81e84e6c740\"}, {\"name\": \"\\u5218\\u6c5f_\\u603b\\u4e0b\\u5355\\u6570\", \"x\": [\"8-3\", \"8-4\", \"9-1\", \"9-2\", \"9-3\"], \"y\": [7.0, 8.0, 7.0, 8.0, 5.0], \"type\": \"scatter\", \"uid\": \"70b87290-c204-11e8-ad45-a81e84e6c740\"}, {\"name\": \"\\u5218\\u6c5f_\\u5b8c\\u6210\\u4e0b\\u5355\\u6570\", \"x\": [\"8-3\", \"8-4\", \"9-1\", \"9-2\", \"9-3\"], \"y\": [4.0, 10.0, 7.0, 7.0, 5.0], \"type\": \"scatter\", \"uid\": \"70b87574-c204-11e8-ad45-a81e84e6c740\"}, {\"name\": \"\\u674e\\u534e\\u4e91_\\u603b\\u4e0b\\u5355\\u6570\", \"x\": [\"8-3\", \"8-4\", \"9-1\", \"9-2\", \"9-3\"], \"y\": [5.0, 3.0, 5.0, 5.0, 5.0], \"type\": \"scatter\", \"uid\": \"70b8788a-c204-11e8-ad45-a81e84e6c740\"}, {\"name\": \"\\u674e\\u534e\\u4e91_\\u5b8c\\u6210\\u4e0b\\u5355\\u6570\", \"x\": [\"8-3\", \"8-4\", \"9-1\", \"9-2\", \"9-3\"], \"y\": [4.0, 3.0, 4.0, 5.0, 5.0], \"type\": \"scatter\", \"uid\": \"70b87b8c-c204-11e8-ad45-a81e84e6c740\"}, {\"name\": \"\\u8c22\\u5fb7\\u5065_\\u603b\\u4e0b\\u5355\\u6570\", \"x\": [\"8-3\", \"8-4\", \"9-2\", \"9-3\"], \"y\": [2.0, 4.0, 4.0, 5.0], \"type\": \"scatter\", \"uid\": \"70b87e98-c204-11e8-ad45-a81e84e6c740\"}, {\"name\": \"\\u8c22\\u5fb7\\u5065_\\u5b8c\\u6210\\u4e0b\\u5355\\u6570\", \"x\": [\"8-3\", \"8-4\", \"9-2\", \"9-3\"], \"y\": [1.0, 4.0, 3.0, 5.0], \"type\": \"scatter\", \"uid\": \"70b880e6-c204-11e8-ad45-a81e84e6c740\"}, {\"name\": \"\\u4efb\\u96ea_\\u603b\\u4e0b\\u5355\\u6570\", \"x\": [\"8-4\", \"9-1\", \"9-2\", \"9-3\"], \"y\": [2.0, 4.0, 5.0, 2.0], \"type\": \"scatter\", \"uid\": \"70b88398-c204-11e8-ad45-a81e84e6c740\"}, {\"name\": \"\\u4efb\\u96ea_\\u5b8c\\u6210\\u4e0b\\u5355\\u6570\", \"x\": [\"8-4\", \"9-1\", \"9-2\", \"9-3\"], \"y\": [2.0, 3.0, 4.0, 0.0], \"type\": \"scatter\", \"uid\": \"70b88730-c204-11e8-ad45-a81e84e6c740\"}],\n",
       "            {\"title\": \"\\u603b\\u4e0b\\u5355\\u6570&\\u5b8c\\u6210\\u4e0b\\u5355\\u6570\\u5468\\u8d8b\\u52bf\\u56fe\", \"xaxis\": {\"mirror\": \"all\", \"nticks\": 20, \"showgrid\": true, \"showline\": true, \"title\": \"\\u5468\", \"zeroline\": true}, \"yaxis\": {\"mirror\": \"all\", \"nticks\": 20, \"showgrid\": true, \"showline\": true, \"title\": \"\\u603b\\u4e0b\\u5355\\u6570&\\u5b8c\\u6210\\u4e0b\\u5355\\u6570\", \"zeroline\": true}},\n",
       "            {\"showLink\": true, \"linkText\": \"Export to plot.ly\"}\n",
       "        ).then(function () {return Plotly.addFrames('69ea5d97-7415-441d-a18c-5611067309d0',{});}).then(function(){Plotly.animate('69ea5d97-7415-441d-a18c-5611067309d0');})\n",
       "        });</script>"
      ],
      "text/vnd.plotly.v1+html": [
       "<div id=\"69ea5d97-7415-441d-a18c-5611067309d0\" style=\"height: 525px; width: 100%;\" class=\"plotly-graph-div\"></div><script type=\"text/javascript\">require([\"plotly\"], function(Plotly) { window.PLOTLYENV=window.PLOTLYENV || {};window.PLOTLYENV.BASE_URL=\"https://plot.ly\";\n",
       "        Plotly.plot(\n",
       "            '69ea5d97-7415-441d-a18c-5611067309d0',\n",
       "            [{\"name\": \"\\u59da\\u76df\\u6210_\\u603b\\u4e0b\\u5355\\u6570\", \"x\": [\"8-3\", \"8-4\", \"9-1\", \"9-2\", \"9-3\"], \"y\": [4.0, 4.0, 4.0, 5.0, 4.0], \"type\": \"scatter\", \"uid\": \"70b82466-c204-11e8-ad45-a81e84e6c740\"}, {\"name\": \"\\u59da\\u76df\\u6210_\\u5b8c\\u6210\\u4e0b\\u5355\\u6570\", \"x\": [\"8-3\", \"8-4\", \"9-1\", \"9-2\", \"9-3\"], \"y\": [4.0, 3.0, 4.0, 5.0, 4.0], \"type\": \"scatter\", \"uid\": \"70b827ae-c204-11e8-ad45-a81e84e6c740\"}, {\"name\": \"\\u5218\\u6167\\u73b2_\\u603b\\u4e0b\\u5355\\u6570\", \"x\": [\"8-3\", \"8-4\", \"9-1\"], \"y\": [4.0, 4.0, 5.0], \"type\": \"scatter\", \"uid\": \"70b82a10-c204-11e8-ad45-a81e84e6c740\"}, {\"name\": \"\\u5218\\u6167\\u73b2_\\u5b8c\\u6210\\u4e0b\\u5355\\u6570\", \"x\": [\"8-3\", \"8-4\", \"9-1\"], \"y\": [3.0, 3.0, 4.0], \"type\": \"scatter\", \"uid\": \"70b82c36-c204-11e8-ad45-a81e84e6c740\"}, {\"name\": \"\\u5360\\u4f1f_\\u603b\\u4e0b\\u5355\\u6570\", \"x\": [\"8-3\", \"8-4\", \"9-1\", \"9-2\"], \"y\": [4.0, 6.0, 7.0, 8.0], \"type\": \"scatter\", \"uid\": \"70b82e2a-c204-11e8-ad45-a81e84e6c740\"}, {\"name\": \"\\u5360\\u4f1f_\\u5b8c\\u6210\\u4e0b\\u5355\\u6570\", \"x\": [\"8-3\", \"8-4\", \"9-1\", \"9-2\"], \"y\": [2.0, 3.0, 7.0, 8.0], \"type\": \"scatter\", \"uid\": \"70b83028-c204-11e8-ad45-a81e84e6c740\"}, {\"name\": \"\\u738b\\u5b81_\\u603b\\u4e0b\\u5355\\u6570\", \"x\": [\"8-3\", \"8-4\", \"9-1\"], \"y\": [6.0, 6.0, 6.0], \"type\": \"scatter\", \"uid\": \"70b83212-c204-11e8-ad45-a81e84e6c740\"}, {\"name\": \"\\u738b\\u5b81_\\u5b8c\\u6210\\u4e0b\\u5355\\u6570\", \"x\": [\"8-3\", \"8-4\", \"9-1\"], \"y\": [6.0, 6.0, 7.0], \"type\": \"scatter\", \"uid\": \"70b83406-c204-11e8-ad45-a81e84e6c740\"}, {\"name\": \"\\u5c01\\u5f66\\u6770_\\u603b\\u4e0b\\u5355\\u6570\", \"x\": [\"8-3\", \"8-4\", \"9-1\", \"9-2\", \"9-3\"], \"y\": [9.0, 6.0, 5.0, 4.0, 8.0], \"type\": \"scatter\", \"uid\": \"70b835f0-c204-11e8-ad45-a81e84e6c740\"}, {\"name\": \"\\u5c01\\u5f66\\u6770_\\u5b8c\\u6210\\u4e0b\\u5355\\u6570\", \"x\": [\"8-3\", \"8-4\", \"9-1\", \"9-2\", \"9-3\"], \"y\": [9.0, 6.0, 5.0, 3.0, 8.0], \"type\": \"scatter\", \"uid\": \"70b837da-c204-11e8-ad45-a81e84e6c740\"}, {\"name\": \"\\u8def\\u6167\\u840d_\\u603b\\u4e0b\\u5355\\u6570\", \"x\": [\"8-3\", \"8-4\", \"9-1\", \"9-2\", \"9-3\"], \"y\": [5.0, 8.0, 7.0, 5.0, 7.0], \"type\": \"scatter\", \"uid\": \"70b839c4-c204-11e8-ad45-a81e84e6c740\"}, {\"name\": \"\\u8def\\u6167\\u840d_\\u5b8c\\u6210\\u4e0b\\u5355\\u6570\", \"x\": [\"8-3\", \"8-4\", \"9-1\", \"9-2\", \"9-3\"], \"y\": [5.0, 8.0, 6.0, 5.0, 5.0], \"type\": \"scatter\", \"uid\": \"70b83bae-c204-11e8-ad45-a81e84e6c740\"}, {\"name\": \"\\u5b8b\\u8fce\\u6960_\\u603b\\u4e0b\\u5355\\u6570\", \"x\": [\"8-3\", \"8-4\", \"9-1\"], \"y\": [4.0, 3.0, 4.0], \"type\": \"scatter\", \"uid\": \"70b83d98-c204-11e8-ad45-a81e84e6c740\"}, {\"name\": \"\\u5b8b\\u8fce\\u6960_\\u5b8c\\u6210\\u4e0b\\u5355\\u6570\", \"x\": [\"8-3\", \"8-4\", \"9-1\"], \"y\": [3.0, 3.0, 4.0], \"type\": \"scatter\", \"uid\": \"70b83f8c-c204-11e8-ad45-a81e84e6c740\"}, {\"name\": \"\\u6768\\u4f1f\\u98de_\\u603b\\u4e0b\\u5355\\u6570\", \"x\": [\"8-3\", \"8-4\", \"9-1\", \"9-2\", \"9-3\"], \"y\": [3.0, 6.0, 4.0, 6.0, 7.0], \"type\": \"scatter\", \"uid\": \"70b8416c-c204-11e8-ad45-a81e84e6c740\"}, {\"name\": \"\\u6768\\u4f1f\\u98de_\\u5b8c\\u6210\\u4e0b\\u5355\\u6570\", \"x\": [\"8-3\", \"8-4\", \"9-1\", \"9-2\", \"9-3\"], \"y\": [1.0, 5.0, 8.0, 5.0, 7.0], \"type\": \"scatter\", \"uid\": \"70b84356-c204-11e8-ad45-a81e84e6c740\"}, {\"name\": \"\\u9a6c\\u6f47_\\u603b\\u4e0b\\u5355\\u6570\", \"x\": [\"8-3\", \"8-4\", \"9-1\", \"9-2\"], \"y\": [5.0, 3.0, 4.0, 5.0], \"type\": \"scatter\", \"uid\": \"70b84540-c204-11e8-ad45-a81e84e6c740\"}, {\"name\": \"\\u9a6c\\u6f47_\\u5b8c\\u6210\\u4e0b\\u5355\\u6570\", \"x\": [\"8-3\", \"8-4\", \"9-1\", \"9-2\"], \"y\": [3.0, 3.0, 4.0, 5.0], \"type\": \"scatter\", \"uid\": \"70b8489c-c204-11e8-ad45-a81e84e6c740\"}, {\"name\": \"\\u674e\\u5e86\\u539f_\\u603b\\u4e0b\\u5355\\u6570\", \"x\": [\"8-3\", \"8-4\", \"9-1\", \"9-2\", \"9-3\"], \"y\": [2.0, 5.0, 3.0, 3.0, 6.0], \"type\": \"scatter\", \"uid\": \"70b84b1c-c204-11e8-ad45-a81e84e6c740\"}, {\"name\": \"\\u674e\\u5e86\\u539f_\\u5b8c\\u6210\\u4e0b\\u5355\\u6570\", \"x\": [\"8-3\", \"8-4\", \"9-1\", \"9-2\", \"9-3\"], \"y\": [2.0, 5.0, 3.0, 3.0, 6.0], \"type\": \"scatter\", \"uid\": \"70b84d06-c204-11e8-ad45-a81e84e6c740\"}, {\"name\": \"\\u97e9\\u5c11\\u6000_\\u603b\\u4e0b\\u5355\\u6570\", \"x\": [\"8-3\", \"8-4\", \"9-1\", \"9-2\"], \"y\": [3.0, 4.0, 4.0, 5.0], \"type\": \"scatter\", \"uid\": \"70b84edc-c204-11e8-ad45-a81e84e6c740\"}, {\"name\": \"\\u97e9\\u5c11\\u6000_\\u5b8c\\u6210\\u4e0b\\u5355\\u6570\", \"x\": [\"8-3\", \"8-4\", \"9-1\", \"9-2\"], \"y\": [3.0, 4.0, 4.0, 5.0], \"type\": \"scatter\", \"uid\": \"70b850c6-c204-11e8-ad45-a81e84e6c740\"}, {\"name\": \"\\u8d75\\u73a5_\\u603b\\u4e0b\\u5355\\u6570\", \"x\": [\"8-3\", \"8-4\", \"9-1\", \"9-2\"], \"y\": [6.0, 4.0, 6.0, 4.0], \"type\": \"scatter\", \"uid\": \"70b8529c-c204-11e8-ad45-a81e84e6c740\"}, {\"name\": \"\\u8d75\\u73a5_\\u5b8c\\u6210\\u4e0b\\u5355\\u6570\", \"x\": [\"8-3\", \"8-4\", \"9-1\", \"9-2\"], \"y\": [6.0, 4.0, 4.0, 4.0], \"type\": \"scatter\", \"uid\": \"70b8547c-c204-11e8-ad45-a81e84e6c740\"}, {\"name\": \"\\u82cf\\u5f66\\u52cb_\\u603b\\u4e0b\\u5355\\u6570\", \"x\": [\"8-3\", \"8-4\", \"9-1\", \"9-2\", \"9-3\"], \"y\": [4.0, 6.0, 5.0, 6.0, 9.0], \"type\": \"scatter\", \"uid\": \"70b8565c-c204-11e8-ad45-a81e84e6c740\"}, {\"name\": \"\\u82cf\\u5f66\\u52cb_\\u5b8c\\u6210\\u4e0b\\u5355\\u6570\", \"x\": [\"8-3\", \"8-4\", \"9-1\", \"9-2\", \"9-3\"], \"y\": [4.0, 6.0, 5.0, 5.0, 9.0], \"type\": \"scatter\", \"uid\": \"70b8583c-c204-11e8-ad45-a81e84e6c740\"}, {\"name\": \"\\u5f20\\u5b88\\u4f1f_\\u603b\\u4e0b\\u5355\\u6570\", \"x\": [\"8-3\", \"8-4\", \"9-1\", \"9-2\"], \"y\": [4.0, 4.0, 4.0, 3.0], \"type\": \"scatter\", \"uid\": \"70b85a1c-c204-11e8-ad45-a81e84e6c740\"}, {\"name\": \"\\u5f20\\u5b88\\u4f1f_\\u5b8c\\u6210\\u4e0b\\u5355\\u6570\", \"x\": [\"8-3\", \"8-4\", \"9-1\", \"9-2\"], \"y\": [3.0, 4.0, 3.0, 3.0], \"type\": \"scatter\", \"uid\": \"70b85bfc-c204-11e8-ad45-a81e84e6c740\"}, {\"name\": \"\\u5468\\u6768_\\u603b\\u4e0b\\u5355\\u6570\", \"x\": [\"8-3\", \"8-4\", \"9-1\", \"9-2\", \"9-3\"], \"y\": [2.0, 6.0, 4.0, 4.0, 7.0], \"type\": \"scatter\", \"uid\": \"70b85ddc-c204-11e8-ad45-a81e84e6c740\"}, {\"name\": \"\\u5468\\u6768_\\u5b8c\\u6210\\u4e0b\\u5355\\u6570\", \"x\": [\"8-3\", \"8-4\", \"9-1\", \"9-2\", \"9-3\"], \"y\": [2.0, 5.0, 4.0, 4.0, 7.0], \"type\": \"scatter\", \"uid\": \"70b85fc6-c204-11e8-ad45-a81e84e6c740\"}, {\"name\": \"\\u8303\\u65ed\\u5b81_\\u603b\\u4e0b\\u5355\\u6570\", \"x\": [\"8-3\", \"8-4\", \"9-1\", \"9-2\"], \"y\": [4.0, 4.0, 5.0, 7.0], \"type\": \"scatter\", \"uid\": \"70b861a6-c204-11e8-ad45-a81e84e6c740\"}, {\"name\": \"\\u8303\\u65ed\\u5b81_\\u5b8c\\u6210\\u4e0b\\u5355\\u6570\", \"x\": [\"8-3\", \"8-4\", \"9-1\", \"9-2\"], \"y\": [3.0, 3.0, 4.0, 7.0], \"type\": \"scatter\", \"uid\": \"70b86386-c204-11e8-ad45-a81e84e6c740\"}, {\"name\": \"\\u5b5f\\u660a_\\u603b\\u4e0b\\u5355\\u6570\", \"x\": [\"8-3\", \"8-4\", \"9-1\", \"9-2\", \"9-3\"], \"y\": [4.0, 4.0, 2.0, 3.0, 5.0], \"type\": \"scatter\", \"uid\": \"70b86566-c204-11e8-ad45-a81e84e6c740\"}, {\"name\": \"\\u5b5f\\u660a_\\u5b8c\\u6210\\u4e0b\\u5355\\u6570\", \"x\": [\"8-3\", \"8-4\", \"9-1\", \"9-2\", \"9-3\"], \"y\": [4.0, 4.0, 2.0, 2.0, 5.0], \"type\": \"scatter\", \"uid\": \"70b86746-c204-11e8-ad45-a81e84e6c740\"}, {\"name\": \"\\u4e8e\\u52c7\\u4e00_\\u603b\\u4e0b\\u5355\\u6570\", \"x\": [\"8-3\", \"8-4\", \"9-1\", \"9-2\", \"9-3\"], \"y\": [3.0, 4.0, 5.0, 4.0, 6.0], \"type\": \"scatter\", \"uid\": \"70b86926-c204-11e8-ad45-a81e84e6c740\"}, {\"name\": \"\\u4e8e\\u52c7\\u4e00_\\u5b8c\\u6210\\u4e0b\\u5355\\u6570\", \"x\": [\"8-3\", \"8-4\", \"9-1\", \"9-2\", \"9-3\"], \"y\": [3.0, 2.0, 4.0, 2.0, 7.0], \"type\": \"scatter\", \"uid\": \"70b86b06-c204-11e8-ad45-a81e84e6c740\"}, {\"name\": \"\\u4e8e\\u6167_\\u603b\\u4e0b\\u5355\\u6570\", \"x\": [\"8-3\", \"8-4\", \"9-1\", \"9-2\", \"9-3\"], \"y\": [0.0, 7.0, 2.0, 3.0, 7.0], \"type\": \"scatter\", \"uid\": \"70b86d22-c204-11e8-ad45-a81e84e6c740\"}, {\"name\": \"\\u4e8e\\u6167_\\u5b8c\\u6210\\u4e0b\\u5355\\u6570\", \"x\": [\"8-3\", \"8-4\", \"9-1\", \"9-2\", \"9-3\"], \"y\": [0.0, 7.0, 1.0, 3.0, 7.0], \"type\": \"scatter\", \"uid\": \"70b86fc0-c204-11e8-ad45-a81e84e6c740\"}, {\"name\": \"\\u5218\\u6c5f_\\u603b\\u4e0b\\u5355\\u6570\", \"x\": [\"8-3\", \"8-4\", \"9-1\", \"9-2\", \"9-3\"], \"y\": [7.0, 8.0, 7.0, 8.0, 5.0], \"type\": \"scatter\", \"uid\": \"70b87290-c204-11e8-ad45-a81e84e6c740\"}, {\"name\": \"\\u5218\\u6c5f_\\u5b8c\\u6210\\u4e0b\\u5355\\u6570\", \"x\": [\"8-3\", \"8-4\", \"9-1\", \"9-2\", \"9-3\"], \"y\": [4.0, 10.0, 7.0, 7.0, 5.0], \"type\": \"scatter\", \"uid\": \"70b87574-c204-11e8-ad45-a81e84e6c740\"}, {\"name\": \"\\u674e\\u534e\\u4e91_\\u603b\\u4e0b\\u5355\\u6570\", \"x\": [\"8-3\", \"8-4\", \"9-1\", \"9-2\", \"9-3\"], \"y\": [5.0, 3.0, 5.0, 5.0, 5.0], \"type\": \"scatter\", \"uid\": \"70b8788a-c204-11e8-ad45-a81e84e6c740\"}, {\"name\": \"\\u674e\\u534e\\u4e91_\\u5b8c\\u6210\\u4e0b\\u5355\\u6570\", \"x\": [\"8-3\", \"8-4\", \"9-1\", \"9-2\", \"9-3\"], \"y\": [4.0, 3.0, 4.0, 5.0, 5.0], \"type\": \"scatter\", \"uid\": \"70b87b8c-c204-11e8-ad45-a81e84e6c740\"}, {\"name\": \"\\u8c22\\u5fb7\\u5065_\\u603b\\u4e0b\\u5355\\u6570\", \"x\": [\"8-3\", \"8-4\", \"9-2\", \"9-3\"], \"y\": [2.0, 4.0, 4.0, 5.0], \"type\": \"scatter\", \"uid\": \"70b87e98-c204-11e8-ad45-a81e84e6c740\"}, {\"name\": \"\\u8c22\\u5fb7\\u5065_\\u5b8c\\u6210\\u4e0b\\u5355\\u6570\", \"x\": [\"8-3\", \"8-4\", \"9-2\", \"9-3\"], \"y\": [1.0, 4.0, 3.0, 5.0], \"type\": \"scatter\", \"uid\": \"70b880e6-c204-11e8-ad45-a81e84e6c740\"}, {\"name\": \"\\u4efb\\u96ea_\\u603b\\u4e0b\\u5355\\u6570\", \"x\": [\"8-4\", \"9-1\", \"9-2\", \"9-3\"], \"y\": [2.0, 4.0, 5.0, 2.0], \"type\": \"scatter\", \"uid\": \"70b88398-c204-11e8-ad45-a81e84e6c740\"}, {\"name\": \"\\u4efb\\u96ea_\\u5b8c\\u6210\\u4e0b\\u5355\\u6570\", \"x\": [\"8-4\", \"9-1\", \"9-2\", \"9-3\"], \"y\": [2.0, 3.0, 4.0, 0.0], \"type\": \"scatter\", \"uid\": \"70b88730-c204-11e8-ad45-a81e84e6c740\"}],\n",
       "            {\"title\": \"\\u603b\\u4e0b\\u5355\\u6570&\\u5b8c\\u6210\\u4e0b\\u5355\\u6570\\u5468\\u8d8b\\u52bf\\u56fe\", \"xaxis\": {\"mirror\": \"all\", \"nticks\": 20, \"showgrid\": true, \"showline\": true, \"title\": \"\\u5468\", \"zeroline\": true}, \"yaxis\": {\"mirror\": \"all\", \"nticks\": 20, \"showgrid\": true, \"showline\": true, \"title\": \"\\u603b\\u4e0b\\u5355\\u6570&\\u5b8c\\u6210\\u4e0b\\u5355\\u6570\", \"zeroline\": true}},\n",
       "            {\"showLink\": true, \"linkText\": \"Export to plot.ly\"}\n",
       "        ).then(function () {return Plotly.addFrames('69ea5d97-7415-441d-a18c-5611067309d0',{});}).then(function(){Plotly.animate('69ea5d97-7415-441d-a18c-5611067309d0');})\n",
       "        });</script>"
      ]
     },
     "metadata": {},
     "output_type": "display_data"
    },
    {
     "data": {
      "application/vnd.plotly.v1+json": {
       "data": [
        {
         "name": "于勇一_总下单数",
         "type": "scatter",
         "uid": "71147edc-c204-11e8-ad45-a81e84e6c740",
         "x": [
          "8",
          "9"
         ],
         "y": [
          7,
          15
         ]
        },
        {
         "name": "于勇一_完成下单数",
         "type": "scatter",
         "uid": "7114830a-c204-11e8-ad45-a81e84e6c740",
         "x": [
          "8",
          "9"
         ],
         "y": [
          5,
          13
         ]
        },
        {
         "name": "于慧_总下单数",
         "type": "scatter",
         "uid": "7114858a-c204-11e8-ad45-a81e84e6c740",
         "x": [
          "8",
          "9"
         ],
         "y": [
          7,
          12
         ]
        },
        {
         "name": "于慧_完成下单数",
         "type": "scatter",
         "uid": "711487b0-c204-11e8-ad45-a81e84e6c740",
         "x": [
          "8",
          "9"
         ],
         "y": [
          7,
          11
         ]
        },
        {
         "name": "任雪_总下单数",
         "type": "scatter",
         "uid": "711489b8-c204-11e8-ad45-a81e84e6c740",
         "x": [
          "8",
          "9"
         ],
         "y": [
          null,
          11
         ]
        },
        {
         "name": "任雪_完成下单数",
         "type": "scatter",
         "uid": "71148bca-c204-11e8-ad45-a81e84e6c740",
         "x": [
          "8",
          "9"
         ],
         "y": [
          null,
          7
         ]
        },
        {
         "name": "刘慧玲_总下单数",
         "type": "scatter",
         "uid": "71148dd2-c204-11e8-ad45-a81e84e6c740",
         "x": [
          "8",
          "9"
         ],
         "y": [
          8,
          null
         ]
        },
        {
         "name": "刘慧玲_完成下单数",
         "type": "scatter",
         "uid": "71148fc6-c204-11e8-ad45-a81e84e6c740",
         "x": [
          "8",
          "9"
         ],
         "y": [
          6,
          null
         ]
        },
        {
         "name": "刘江_总下单数",
         "type": "scatter",
         "uid": "711491ce-c204-11e8-ad45-a81e84e6c740",
         "x": [
          "8",
          "9"
         ],
         "y": [
          15,
          20
         ]
        },
        {
         "name": "刘江_完成下单数",
         "type": "scatter",
         "uid": "711494c6-c204-11e8-ad45-a81e84e6c740",
         "x": [
          "8",
          "9"
         ],
         "y": [
          14,
          19
         ]
        },
        {
         "name": "占伟_总下单数",
         "type": "scatter",
         "uid": "711496ce-c204-11e8-ad45-a81e84e6c740",
         "x": [
          "8",
          "9"
         ],
         "y": [
          10,
          null
         ]
        },
        {
         "name": "占伟_完成下单数",
         "type": "scatter",
         "uid": "711498c2-c204-11e8-ad45-a81e84e6c740",
         "x": [
          "8",
          "9"
         ],
         "y": [
          5,
          null
         ]
        },
        {
         "name": "周杨_总下单数",
         "type": "scatter",
         "uid": "71149aca-c204-11e8-ad45-a81e84e6c740",
         "x": [
          "8",
          "9"
         ],
         "y": [
          8,
          15
         ]
        },
        {
         "name": "周杨_完成下单数",
         "type": "scatter",
         "uid": "71149f16-c204-11e8-ad45-a81e84e6c740",
         "x": [
          "8",
          "9"
         ],
         "y": [
          7,
          15
         ]
        },
        {
         "name": "姚盟成_总下单数",
         "type": "scatter",
         "uid": "7114a218-c204-11e8-ad45-a81e84e6c740",
         "x": [
          "8",
          "9"
         ],
         "y": [
          8,
          13
         ]
        },
        {
         "name": "姚盟成_完成下单数",
         "type": "scatter",
         "uid": "7114a420-c204-11e8-ad45-a81e84e6c740",
         "x": [
          "8",
          "9"
         ],
         "y": [
          7,
          13
         ]
        },
        {
         "name": "孟昊_总下单数",
         "type": "scatter",
         "uid": "7114a6dc-c204-11e8-ad45-a81e84e6c740",
         "x": [
          "8",
          "9"
         ],
         "y": [
          8,
          10
         ]
        },
        {
         "name": "孟昊_完成下单数",
         "type": "scatter",
         "uid": "7114a9ac-c204-11e8-ad45-a81e84e6c740",
         "x": [
          "8",
          "9"
         ],
         "y": [
          8,
          9
         ]
        },
        {
         "name": "宋迎楠_总下单数",
         "type": "scatter",
         "uid": "7114acb8-c204-11e8-ad45-a81e84e6c740",
         "x": [
          "8",
          "9"
         ],
         "y": [
          7,
          null
         ]
        },
        {
         "name": "宋迎楠_完成下单数",
         "type": "scatter",
         "uid": "7114afc4-c204-11e8-ad45-a81e84e6c740",
         "x": [
          "8",
          "9"
         ],
         "y": [
          6,
          null
         ]
        },
        {
         "name": "封彦杰_总下单数",
         "type": "scatter",
         "uid": "7114b316-c204-11e8-ad45-a81e84e6c740",
         "x": [
          "8",
          "9"
         ],
         "y": [
          15,
          17
         ]
        },
        {
         "name": "封彦杰_完成下单数",
         "type": "scatter",
         "uid": "7114b618-c204-11e8-ad45-a81e84e6c740",
         "x": [
          "8",
          "9"
         ],
         "y": [
          15,
          16
         ]
        },
        {
         "name": "张守伟_总下单数",
         "type": "scatter",
         "uid": "7114b924-c204-11e8-ad45-a81e84e6c740",
         "x": [
          "8",
          "9"
         ],
         "y": [
          8,
          null
         ]
        },
        {
         "name": "张守伟_完成下单数",
         "type": "scatter",
         "uid": "7114bc1c-c204-11e8-ad45-a81e84e6c740",
         "x": [
          "8",
          "9"
         ],
         "y": [
          7,
          null
         ]
        },
        {
         "name": "李华云_总下单数",
         "type": "scatter",
         "uid": "7114bf00-c204-11e8-ad45-a81e84e6c740",
         "x": [
          "8",
          "9"
         ],
         "y": [
          8,
          15
         ]
        },
        {
         "name": "李华云_完成下单数",
         "type": "scatter",
         "uid": "7114c234-c204-11e8-ad45-a81e84e6c740",
         "x": [
          "8",
          "9"
         ],
         "y": [
          7,
          14
         ]
        },
        {
         "name": "李庆原_总下单数",
         "type": "scatter",
         "uid": "7114c572-c204-11e8-ad45-a81e84e6c740",
         "x": [
          "8",
          "9"
         ],
         "y": [
          7,
          12
         ]
        },
        {
         "name": "李庆原_完成下单数",
         "type": "scatter",
         "uid": "7114c892-c204-11e8-ad45-a81e84e6c740",
         "x": [
          "8",
          "9"
         ],
         "y": [
          7,
          12
         ]
        },
        {
         "name": "杨伟飞_总下单数",
         "type": "scatter",
         "uid": "7114cba8-c204-11e8-ad45-a81e84e6c740",
         "x": [
          "8",
          "9"
         ],
         "y": [
          9,
          17
         ]
        },
        {
         "name": "杨伟飞_完成下单数",
         "type": "scatter",
         "uid": "7114ceaa-c204-11e8-ad45-a81e84e6c740",
         "x": [
          "8",
          "9"
         ],
         "y": [
          6,
          20
         ]
        },
        {
         "name": "王宁_总下单数",
         "type": "scatter",
         "uid": "7114d1c0-c204-11e8-ad45-a81e84e6c740",
         "x": [
          "8",
          "9"
         ],
         "y": [
          12,
          null
         ]
        },
        {
         "name": "王宁_完成下单数",
         "type": "scatter",
         "uid": "7114d4e0-c204-11e8-ad45-a81e84e6c740",
         "x": [
          "8",
          "9"
         ],
         "y": [
          12,
          null
         ]
        },
        {
         "name": "苏彦勋_总下单数",
         "type": "scatter",
         "uid": "7114d800-c204-11e8-ad45-a81e84e6c740",
         "x": [
          "8",
          "9"
         ],
         "y": [
          10,
          20
         ]
        },
        {
         "name": "苏彦勋_完成下单数",
         "type": "scatter",
         "uid": "7114daf8-c204-11e8-ad45-a81e84e6c740",
         "x": [
          "8",
          "9"
         ],
         "y": [
          10,
          19
         ]
        },
        {
         "name": "范旭宁_总下单数",
         "type": "scatter",
         "uid": "7114ddf0-c204-11e8-ad45-a81e84e6c740",
         "x": [
          "8",
          "9"
         ],
         "y": [
          8,
          null
         ]
        },
        {
         "name": "范旭宁_完成下单数",
         "type": "scatter",
         "uid": "7114e0fc-c204-11e8-ad45-a81e84e6c740",
         "x": [
          "8",
          "9"
         ],
         "y": [
          6,
          null
         ]
        },
        {
         "name": "谢德健_总下单数",
         "type": "scatter",
         "uid": "7114e408-c204-11e8-ad45-a81e84e6c740",
         "x": [
          "8",
          "9"
         ],
         "y": [
          6,
          null
         ]
        },
        {
         "name": "谢德健_完成下单数",
         "type": "scatter",
         "uid": "7114e6f6-c204-11e8-ad45-a81e84e6c740",
         "x": [
          "8",
          "9"
         ],
         "y": [
          5,
          null
         ]
        },
        {
         "name": "赵玥_总下单数",
         "type": "scatter",
         "uid": "7114ec3c-c204-11e8-ad45-a81e84e6c740",
         "x": [
          "8",
          "9"
         ],
         "y": [
          10,
          null
         ]
        },
        {
         "name": "赵玥_完成下单数",
         "type": "scatter",
         "uid": "7114eff2-c204-11e8-ad45-a81e84e6c740",
         "x": [
          "8",
          "9"
         ],
         "y": [
          10,
          null
         ]
        },
        {
         "name": "路慧萍_总下单数",
         "type": "scatter",
         "uid": "7114f2f4-c204-11e8-ad45-a81e84e6c740",
         "x": [
          "8",
          "9"
         ],
         "y": [
          13,
          19
         ]
        },
        {
         "name": "路慧萍_完成下单数",
         "type": "scatter",
         "uid": "7114f5f6-c204-11e8-ad45-a81e84e6c740",
         "x": [
          "8",
          "9"
         ],
         "y": [
          13,
          16
         ]
        },
        {
         "name": "韩少怀_总下单数",
         "type": "scatter",
         "uid": "7114f916-c204-11e8-ad45-a81e84e6c740",
         "x": [
          "8",
          "9"
         ],
         "y": [
          7,
          null
         ]
        },
        {
         "name": "韩少怀_完成下单数",
         "type": "scatter",
         "uid": "7114fc72-c204-11e8-ad45-a81e84e6c740",
         "x": [
          "8",
          "9"
         ],
         "y": [
          7,
          null
         ]
        },
        {
         "name": "马潇_总下单数",
         "type": "scatter",
         "uid": "7114feca-c204-11e8-ad45-a81e84e6c740",
         "x": [
          "8",
          "9"
         ],
         "y": [
          8,
          null
         ]
        },
        {
         "name": "马潇_完成下单数",
         "type": "scatter",
         "uid": "711500dc-c204-11e8-ad45-a81e84e6c740",
         "x": [
          "8",
          "9"
         ],
         "y": [
          6,
          null
         ]
        }
       ],
       "layout": {
        "title": "总下单数&完成下单数月趋势图",
        "xaxis": {
         "mirror": "all",
         "nticks": 20,
         "showgrid": true,
         "showline": true,
         "title": "月",
         "zeroline": true
        },
        "yaxis": {
         "mirror": "all",
         "nticks": 20,
         "showgrid": true,
         "showline": true,
         "title": "总下单数&完成下单数",
         "zeroline": true
        }
       }
      },
      "text/html": [
       "<div id=\"cdc23095-1023-434d-9718-85d7c67fc5ff\" style=\"height: 525px; width: 100%;\" class=\"plotly-graph-div\"></div><script type=\"text/javascript\">require([\"plotly\"], function(Plotly) { window.PLOTLYENV=window.PLOTLYENV || {};window.PLOTLYENV.BASE_URL=\"https://plot.ly\";\n",
       "        Plotly.plot(\n",
       "            'cdc23095-1023-434d-9718-85d7c67fc5ff',\n",
       "            [{\"name\": \"\\u4e8e\\u52c7\\u4e00_\\u603b\\u4e0b\\u5355\\u6570\", \"x\": [\"8\", \"9\"], \"y\": [7.0, 15.0], \"type\": \"scatter\", \"uid\": \"71147edc-c204-11e8-ad45-a81e84e6c740\"}, {\"name\": \"\\u4e8e\\u52c7\\u4e00_\\u5b8c\\u6210\\u4e0b\\u5355\\u6570\", \"x\": [\"8\", \"9\"], \"y\": [5.0, 13.0], \"type\": \"scatter\", \"uid\": \"7114830a-c204-11e8-ad45-a81e84e6c740\"}, {\"name\": \"\\u4e8e\\u6167_\\u603b\\u4e0b\\u5355\\u6570\", \"x\": [\"8\", \"9\"], \"y\": [7.0, 12.0], \"type\": \"scatter\", \"uid\": \"7114858a-c204-11e8-ad45-a81e84e6c740\"}, {\"name\": \"\\u4e8e\\u6167_\\u5b8c\\u6210\\u4e0b\\u5355\\u6570\", \"x\": [\"8\", \"9\"], \"y\": [7.0, 11.0], \"type\": \"scatter\", \"uid\": \"711487b0-c204-11e8-ad45-a81e84e6c740\"}, {\"name\": \"\\u4efb\\u96ea_\\u603b\\u4e0b\\u5355\\u6570\", \"x\": [\"8\", \"9\"], \"y\": [null, 11.0], \"type\": \"scatter\", \"uid\": \"711489b8-c204-11e8-ad45-a81e84e6c740\"}, {\"name\": \"\\u4efb\\u96ea_\\u5b8c\\u6210\\u4e0b\\u5355\\u6570\", \"x\": [\"8\", \"9\"], \"y\": [null, 7.0], \"type\": \"scatter\", \"uid\": \"71148bca-c204-11e8-ad45-a81e84e6c740\"}, {\"name\": \"\\u5218\\u6167\\u73b2_\\u603b\\u4e0b\\u5355\\u6570\", \"x\": [\"8\", \"9\"], \"y\": [8.0, null], \"type\": \"scatter\", \"uid\": \"71148dd2-c204-11e8-ad45-a81e84e6c740\"}, {\"name\": \"\\u5218\\u6167\\u73b2_\\u5b8c\\u6210\\u4e0b\\u5355\\u6570\", \"x\": [\"8\", \"9\"], \"y\": [6.0, null], \"type\": \"scatter\", \"uid\": \"71148fc6-c204-11e8-ad45-a81e84e6c740\"}, {\"name\": \"\\u5218\\u6c5f_\\u603b\\u4e0b\\u5355\\u6570\", \"x\": [\"8\", \"9\"], \"y\": [15.0, 20.0], \"type\": \"scatter\", \"uid\": \"711491ce-c204-11e8-ad45-a81e84e6c740\"}, {\"name\": \"\\u5218\\u6c5f_\\u5b8c\\u6210\\u4e0b\\u5355\\u6570\", \"x\": [\"8\", \"9\"], \"y\": [14.0, 19.0], \"type\": \"scatter\", \"uid\": \"711494c6-c204-11e8-ad45-a81e84e6c740\"}, {\"name\": \"\\u5360\\u4f1f_\\u603b\\u4e0b\\u5355\\u6570\", \"x\": [\"8\", \"9\"], \"y\": [10.0, null], \"type\": \"scatter\", \"uid\": \"711496ce-c204-11e8-ad45-a81e84e6c740\"}, {\"name\": \"\\u5360\\u4f1f_\\u5b8c\\u6210\\u4e0b\\u5355\\u6570\", \"x\": [\"8\", \"9\"], \"y\": [5.0, null], \"type\": \"scatter\", \"uid\": \"711498c2-c204-11e8-ad45-a81e84e6c740\"}, {\"name\": \"\\u5468\\u6768_\\u603b\\u4e0b\\u5355\\u6570\", \"x\": [\"8\", \"9\"], \"y\": [8.0, 15.0], \"type\": \"scatter\", \"uid\": \"71149aca-c204-11e8-ad45-a81e84e6c740\"}, {\"name\": \"\\u5468\\u6768_\\u5b8c\\u6210\\u4e0b\\u5355\\u6570\", \"x\": [\"8\", \"9\"], \"y\": [7.0, 15.0], \"type\": \"scatter\", \"uid\": \"71149f16-c204-11e8-ad45-a81e84e6c740\"}, {\"name\": \"\\u59da\\u76df\\u6210_\\u603b\\u4e0b\\u5355\\u6570\", \"x\": [\"8\", \"9\"], \"y\": [8.0, 13.0], \"type\": \"scatter\", \"uid\": \"7114a218-c204-11e8-ad45-a81e84e6c740\"}, {\"name\": \"\\u59da\\u76df\\u6210_\\u5b8c\\u6210\\u4e0b\\u5355\\u6570\", \"x\": [\"8\", \"9\"], \"y\": [7.0, 13.0], \"type\": \"scatter\", \"uid\": \"7114a420-c204-11e8-ad45-a81e84e6c740\"}, {\"name\": \"\\u5b5f\\u660a_\\u603b\\u4e0b\\u5355\\u6570\", \"x\": [\"8\", \"9\"], \"y\": [8.0, 10.0], \"type\": \"scatter\", \"uid\": \"7114a6dc-c204-11e8-ad45-a81e84e6c740\"}, {\"name\": \"\\u5b5f\\u660a_\\u5b8c\\u6210\\u4e0b\\u5355\\u6570\", \"x\": [\"8\", \"9\"], \"y\": [8.0, 9.0], \"type\": \"scatter\", \"uid\": \"7114a9ac-c204-11e8-ad45-a81e84e6c740\"}, {\"name\": \"\\u5b8b\\u8fce\\u6960_\\u603b\\u4e0b\\u5355\\u6570\", \"x\": [\"8\", \"9\"], \"y\": [7.0, null], \"type\": \"scatter\", \"uid\": \"7114acb8-c204-11e8-ad45-a81e84e6c740\"}, {\"name\": \"\\u5b8b\\u8fce\\u6960_\\u5b8c\\u6210\\u4e0b\\u5355\\u6570\", \"x\": [\"8\", \"9\"], \"y\": [6.0, null], \"type\": \"scatter\", \"uid\": \"7114afc4-c204-11e8-ad45-a81e84e6c740\"}, {\"name\": \"\\u5c01\\u5f66\\u6770_\\u603b\\u4e0b\\u5355\\u6570\", \"x\": [\"8\", \"9\"], \"y\": [15.0, 17.0], \"type\": \"scatter\", \"uid\": \"7114b316-c204-11e8-ad45-a81e84e6c740\"}, {\"name\": \"\\u5c01\\u5f66\\u6770_\\u5b8c\\u6210\\u4e0b\\u5355\\u6570\", \"x\": [\"8\", \"9\"], \"y\": [15.0, 16.0], \"type\": \"scatter\", \"uid\": \"7114b618-c204-11e8-ad45-a81e84e6c740\"}, {\"name\": \"\\u5f20\\u5b88\\u4f1f_\\u603b\\u4e0b\\u5355\\u6570\", \"x\": [\"8\", \"9\"], \"y\": [8.0, null], \"type\": \"scatter\", \"uid\": \"7114b924-c204-11e8-ad45-a81e84e6c740\"}, {\"name\": \"\\u5f20\\u5b88\\u4f1f_\\u5b8c\\u6210\\u4e0b\\u5355\\u6570\", \"x\": [\"8\", \"9\"], \"y\": [7.0, null], \"type\": \"scatter\", \"uid\": \"7114bc1c-c204-11e8-ad45-a81e84e6c740\"}, {\"name\": \"\\u674e\\u534e\\u4e91_\\u603b\\u4e0b\\u5355\\u6570\", \"x\": [\"8\", \"9\"], \"y\": [8.0, 15.0], \"type\": \"scatter\", \"uid\": \"7114bf00-c204-11e8-ad45-a81e84e6c740\"}, {\"name\": \"\\u674e\\u534e\\u4e91_\\u5b8c\\u6210\\u4e0b\\u5355\\u6570\", \"x\": [\"8\", \"9\"], \"y\": [7.0, 14.0], \"type\": \"scatter\", \"uid\": \"7114c234-c204-11e8-ad45-a81e84e6c740\"}, {\"name\": \"\\u674e\\u5e86\\u539f_\\u603b\\u4e0b\\u5355\\u6570\", \"x\": [\"8\", \"9\"], \"y\": [7.0, 12.0], \"type\": \"scatter\", \"uid\": \"7114c572-c204-11e8-ad45-a81e84e6c740\"}, {\"name\": \"\\u674e\\u5e86\\u539f_\\u5b8c\\u6210\\u4e0b\\u5355\\u6570\", \"x\": [\"8\", \"9\"], \"y\": [7.0, 12.0], \"type\": \"scatter\", \"uid\": \"7114c892-c204-11e8-ad45-a81e84e6c740\"}, {\"name\": \"\\u6768\\u4f1f\\u98de_\\u603b\\u4e0b\\u5355\\u6570\", \"x\": [\"8\", \"9\"], \"y\": [9.0, 17.0], \"type\": \"scatter\", \"uid\": \"7114cba8-c204-11e8-ad45-a81e84e6c740\"}, {\"name\": \"\\u6768\\u4f1f\\u98de_\\u5b8c\\u6210\\u4e0b\\u5355\\u6570\", \"x\": [\"8\", \"9\"], \"y\": [6.0, 20.0], \"type\": \"scatter\", \"uid\": \"7114ceaa-c204-11e8-ad45-a81e84e6c740\"}, {\"name\": \"\\u738b\\u5b81_\\u603b\\u4e0b\\u5355\\u6570\", \"x\": [\"8\", \"9\"], \"y\": [12.0, null], \"type\": \"scatter\", \"uid\": \"7114d1c0-c204-11e8-ad45-a81e84e6c740\"}, {\"name\": \"\\u738b\\u5b81_\\u5b8c\\u6210\\u4e0b\\u5355\\u6570\", \"x\": [\"8\", \"9\"], \"y\": [12.0, null], \"type\": \"scatter\", \"uid\": \"7114d4e0-c204-11e8-ad45-a81e84e6c740\"}, {\"name\": \"\\u82cf\\u5f66\\u52cb_\\u603b\\u4e0b\\u5355\\u6570\", \"x\": [\"8\", \"9\"], \"y\": [10.0, 20.0], \"type\": \"scatter\", \"uid\": \"7114d800-c204-11e8-ad45-a81e84e6c740\"}, {\"name\": \"\\u82cf\\u5f66\\u52cb_\\u5b8c\\u6210\\u4e0b\\u5355\\u6570\", \"x\": [\"8\", \"9\"], \"y\": [10.0, 19.0], \"type\": \"scatter\", \"uid\": \"7114daf8-c204-11e8-ad45-a81e84e6c740\"}, {\"name\": \"\\u8303\\u65ed\\u5b81_\\u603b\\u4e0b\\u5355\\u6570\", \"x\": [\"8\", \"9\"], \"y\": [8.0, null], \"type\": \"scatter\", \"uid\": \"7114ddf0-c204-11e8-ad45-a81e84e6c740\"}, {\"name\": \"\\u8303\\u65ed\\u5b81_\\u5b8c\\u6210\\u4e0b\\u5355\\u6570\", \"x\": [\"8\", \"9\"], \"y\": [6.0, null], \"type\": \"scatter\", \"uid\": \"7114e0fc-c204-11e8-ad45-a81e84e6c740\"}, {\"name\": \"\\u8c22\\u5fb7\\u5065_\\u603b\\u4e0b\\u5355\\u6570\", \"x\": [\"8\", \"9\"], \"y\": [6.0, null], \"type\": \"scatter\", \"uid\": \"7114e408-c204-11e8-ad45-a81e84e6c740\"}, {\"name\": \"\\u8c22\\u5fb7\\u5065_\\u5b8c\\u6210\\u4e0b\\u5355\\u6570\", \"x\": [\"8\", \"9\"], \"y\": [5.0, null], \"type\": \"scatter\", \"uid\": \"7114e6f6-c204-11e8-ad45-a81e84e6c740\"}, {\"name\": \"\\u8d75\\u73a5_\\u603b\\u4e0b\\u5355\\u6570\", \"x\": [\"8\", \"9\"], \"y\": [10.0, null], \"type\": \"scatter\", \"uid\": \"7114ec3c-c204-11e8-ad45-a81e84e6c740\"}, {\"name\": \"\\u8d75\\u73a5_\\u5b8c\\u6210\\u4e0b\\u5355\\u6570\", \"x\": [\"8\", \"9\"], \"y\": [10.0, null], \"type\": \"scatter\", \"uid\": \"7114eff2-c204-11e8-ad45-a81e84e6c740\"}, {\"name\": \"\\u8def\\u6167\\u840d_\\u603b\\u4e0b\\u5355\\u6570\", \"x\": [\"8\", \"9\"], \"y\": [13.0, 19.0], \"type\": \"scatter\", \"uid\": \"7114f2f4-c204-11e8-ad45-a81e84e6c740\"}, {\"name\": \"\\u8def\\u6167\\u840d_\\u5b8c\\u6210\\u4e0b\\u5355\\u6570\", \"x\": [\"8\", \"9\"], \"y\": [13.0, 16.0], \"type\": \"scatter\", \"uid\": \"7114f5f6-c204-11e8-ad45-a81e84e6c740\"}, {\"name\": \"\\u97e9\\u5c11\\u6000_\\u603b\\u4e0b\\u5355\\u6570\", \"x\": [\"8\", \"9\"], \"y\": [7.0, null], \"type\": \"scatter\", \"uid\": \"7114f916-c204-11e8-ad45-a81e84e6c740\"}, {\"name\": \"\\u97e9\\u5c11\\u6000_\\u5b8c\\u6210\\u4e0b\\u5355\\u6570\", \"x\": [\"8\", \"9\"], \"y\": [7.0, null], \"type\": \"scatter\", \"uid\": \"7114fc72-c204-11e8-ad45-a81e84e6c740\"}, {\"name\": \"\\u9a6c\\u6f47_\\u603b\\u4e0b\\u5355\\u6570\", \"x\": [\"8\", \"9\"], \"y\": [8.0, null], \"type\": \"scatter\", \"uid\": \"7114feca-c204-11e8-ad45-a81e84e6c740\"}, {\"name\": \"\\u9a6c\\u6f47_\\u5b8c\\u6210\\u4e0b\\u5355\\u6570\", \"x\": [\"8\", \"9\"], \"y\": [6.0, null], \"type\": \"scatter\", \"uid\": \"711500dc-c204-11e8-ad45-a81e84e6c740\"}],\n",
       "            {\"title\": \"\\u603b\\u4e0b\\u5355\\u6570&\\u5b8c\\u6210\\u4e0b\\u5355\\u6570\\u6708\\u8d8b\\u52bf\\u56fe\", \"xaxis\": {\"mirror\": \"all\", \"nticks\": 20, \"showgrid\": true, \"showline\": true, \"title\": \"\\u6708\", \"zeroline\": true}, \"yaxis\": {\"mirror\": \"all\", \"nticks\": 20, \"showgrid\": true, \"showline\": true, \"title\": \"\\u603b\\u4e0b\\u5355\\u6570&\\u5b8c\\u6210\\u4e0b\\u5355\\u6570\", \"zeroline\": true}},\n",
       "            {\"showLink\": true, \"linkText\": \"Export to plot.ly\"}\n",
       "        ).then(function () {return Plotly.addFrames('cdc23095-1023-434d-9718-85d7c67fc5ff',{});}).then(function(){Plotly.animate('cdc23095-1023-434d-9718-85d7c67fc5ff');})\n",
       "        });</script>"
      ],
      "text/vnd.plotly.v1+html": [
       "<div id=\"cdc23095-1023-434d-9718-85d7c67fc5ff\" style=\"height: 525px; width: 100%;\" class=\"plotly-graph-div\"></div><script type=\"text/javascript\">require([\"plotly\"], function(Plotly) { window.PLOTLYENV=window.PLOTLYENV || {};window.PLOTLYENV.BASE_URL=\"https://plot.ly\";\n",
       "        Plotly.plot(\n",
       "            'cdc23095-1023-434d-9718-85d7c67fc5ff',\n",
       "            [{\"name\": \"\\u4e8e\\u52c7\\u4e00_\\u603b\\u4e0b\\u5355\\u6570\", \"x\": [\"8\", \"9\"], \"y\": [7.0, 15.0], \"type\": \"scatter\", \"uid\": \"71147edc-c204-11e8-ad45-a81e84e6c740\"}, {\"name\": \"\\u4e8e\\u52c7\\u4e00_\\u5b8c\\u6210\\u4e0b\\u5355\\u6570\", \"x\": [\"8\", \"9\"], \"y\": [5.0, 13.0], \"type\": \"scatter\", \"uid\": \"7114830a-c204-11e8-ad45-a81e84e6c740\"}, {\"name\": \"\\u4e8e\\u6167_\\u603b\\u4e0b\\u5355\\u6570\", \"x\": [\"8\", \"9\"], \"y\": [7.0, 12.0], \"type\": \"scatter\", \"uid\": \"7114858a-c204-11e8-ad45-a81e84e6c740\"}, {\"name\": \"\\u4e8e\\u6167_\\u5b8c\\u6210\\u4e0b\\u5355\\u6570\", \"x\": [\"8\", \"9\"], \"y\": [7.0, 11.0], \"type\": \"scatter\", \"uid\": \"711487b0-c204-11e8-ad45-a81e84e6c740\"}, {\"name\": \"\\u4efb\\u96ea_\\u603b\\u4e0b\\u5355\\u6570\", \"x\": [\"8\", \"9\"], \"y\": [null, 11.0], \"type\": \"scatter\", \"uid\": \"711489b8-c204-11e8-ad45-a81e84e6c740\"}, {\"name\": \"\\u4efb\\u96ea_\\u5b8c\\u6210\\u4e0b\\u5355\\u6570\", \"x\": [\"8\", \"9\"], \"y\": [null, 7.0], \"type\": \"scatter\", \"uid\": \"71148bca-c204-11e8-ad45-a81e84e6c740\"}, {\"name\": \"\\u5218\\u6167\\u73b2_\\u603b\\u4e0b\\u5355\\u6570\", \"x\": [\"8\", \"9\"], \"y\": [8.0, null], \"type\": \"scatter\", \"uid\": \"71148dd2-c204-11e8-ad45-a81e84e6c740\"}, {\"name\": \"\\u5218\\u6167\\u73b2_\\u5b8c\\u6210\\u4e0b\\u5355\\u6570\", \"x\": [\"8\", \"9\"], \"y\": [6.0, null], \"type\": \"scatter\", \"uid\": \"71148fc6-c204-11e8-ad45-a81e84e6c740\"}, {\"name\": \"\\u5218\\u6c5f_\\u603b\\u4e0b\\u5355\\u6570\", \"x\": [\"8\", \"9\"], \"y\": [15.0, 20.0], \"type\": \"scatter\", \"uid\": \"711491ce-c204-11e8-ad45-a81e84e6c740\"}, {\"name\": \"\\u5218\\u6c5f_\\u5b8c\\u6210\\u4e0b\\u5355\\u6570\", \"x\": [\"8\", \"9\"], \"y\": [14.0, 19.0], \"type\": \"scatter\", \"uid\": \"711494c6-c204-11e8-ad45-a81e84e6c740\"}, {\"name\": \"\\u5360\\u4f1f_\\u603b\\u4e0b\\u5355\\u6570\", \"x\": [\"8\", \"9\"], \"y\": [10.0, null], \"type\": \"scatter\", \"uid\": \"711496ce-c204-11e8-ad45-a81e84e6c740\"}, {\"name\": \"\\u5360\\u4f1f_\\u5b8c\\u6210\\u4e0b\\u5355\\u6570\", \"x\": [\"8\", \"9\"], \"y\": [5.0, null], \"type\": \"scatter\", \"uid\": \"711498c2-c204-11e8-ad45-a81e84e6c740\"}, {\"name\": \"\\u5468\\u6768_\\u603b\\u4e0b\\u5355\\u6570\", \"x\": [\"8\", \"9\"], \"y\": [8.0, 15.0], \"type\": \"scatter\", \"uid\": \"71149aca-c204-11e8-ad45-a81e84e6c740\"}, {\"name\": \"\\u5468\\u6768_\\u5b8c\\u6210\\u4e0b\\u5355\\u6570\", \"x\": [\"8\", \"9\"], \"y\": [7.0, 15.0], \"type\": \"scatter\", \"uid\": \"71149f16-c204-11e8-ad45-a81e84e6c740\"}, {\"name\": \"\\u59da\\u76df\\u6210_\\u603b\\u4e0b\\u5355\\u6570\", \"x\": [\"8\", \"9\"], \"y\": [8.0, 13.0], \"type\": \"scatter\", \"uid\": \"7114a218-c204-11e8-ad45-a81e84e6c740\"}, {\"name\": \"\\u59da\\u76df\\u6210_\\u5b8c\\u6210\\u4e0b\\u5355\\u6570\", \"x\": [\"8\", \"9\"], \"y\": [7.0, 13.0], \"type\": \"scatter\", \"uid\": \"7114a420-c204-11e8-ad45-a81e84e6c740\"}, {\"name\": \"\\u5b5f\\u660a_\\u603b\\u4e0b\\u5355\\u6570\", \"x\": [\"8\", \"9\"], \"y\": [8.0, 10.0], \"type\": \"scatter\", \"uid\": \"7114a6dc-c204-11e8-ad45-a81e84e6c740\"}, {\"name\": \"\\u5b5f\\u660a_\\u5b8c\\u6210\\u4e0b\\u5355\\u6570\", \"x\": [\"8\", \"9\"], \"y\": [8.0, 9.0], \"type\": \"scatter\", \"uid\": \"7114a9ac-c204-11e8-ad45-a81e84e6c740\"}, {\"name\": \"\\u5b8b\\u8fce\\u6960_\\u603b\\u4e0b\\u5355\\u6570\", \"x\": [\"8\", \"9\"], \"y\": [7.0, null], \"type\": \"scatter\", \"uid\": \"7114acb8-c204-11e8-ad45-a81e84e6c740\"}, {\"name\": \"\\u5b8b\\u8fce\\u6960_\\u5b8c\\u6210\\u4e0b\\u5355\\u6570\", \"x\": [\"8\", \"9\"], \"y\": [6.0, null], \"type\": \"scatter\", \"uid\": \"7114afc4-c204-11e8-ad45-a81e84e6c740\"}, {\"name\": \"\\u5c01\\u5f66\\u6770_\\u603b\\u4e0b\\u5355\\u6570\", \"x\": [\"8\", \"9\"], \"y\": [15.0, 17.0], \"type\": \"scatter\", \"uid\": \"7114b316-c204-11e8-ad45-a81e84e6c740\"}, {\"name\": \"\\u5c01\\u5f66\\u6770_\\u5b8c\\u6210\\u4e0b\\u5355\\u6570\", \"x\": [\"8\", \"9\"], \"y\": [15.0, 16.0], \"type\": \"scatter\", \"uid\": \"7114b618-c204-11e8-ad45-a81e84e6c740\"}, {\"name\": \"\\u5f20\\u5b88\\u4f1f_\\u603b\\u4e0b\\u5355\\u6570\", \"x\": [\"8\", \"9\"], \"y\": [8.0, null], \"type\": \"scatter\", \"uid\": \"7114b924-c204-11e8-ad45-a81e84e6c740\"}, {\"name\": \"\\u5f20\\u5b88\\u4f1f_\\u5b8c\\u6210\\u4e0b\\u5355\\u6570\", \"x\": [\"8\", \"9\"], \"y\": [7.0, null], \"type\": \"scatter\", \"uid\": \"7114bc1c-c204-11e8-ad45-a81e84e6c740\"}, {\"name\": \"\\u674e\\u534e\\u4e91_\\u603b\\u4e0b\\u5355\\u6570\", \"x\": [\"8\", \"9\"], \"y\": [8.0, 15.0], \"type\": \"scatter\", \"uid\": \"7114bf00-c204-11e8-ad45-a81e84e6c740\"}, {\"name\": \"\\u674e\\u534e\\u4e91_\\u5b8c\\u6210\\u4e0b\\u5355\\u6570\", \"x\": [\"8\", \"9\"], \"y\": [7.0, 14.0], \"type\": \"scatter\", \"uid\": \"7114c234-c204-11e8-ad45-a81e84e6c740\"}, {\"name\": \"\\u674e\\u5e86\\u539f_\\u603b\\u4e0b\\u5355\\u6570\", \"x\": [\"8\", \"9\"], \"y\": [7.0, 12.0], \"type\": \"scatter\", \"uid\": \"7114c572-c204-11e8-ad45-a81e84e6c740\"}, {\"name\": \"\\u674e\\u5e86\\u539f_\\u5b8c\\u6210\\u4e0b\\u5355\\u6570\", \"x\": [\"8\", \"9\"], \"y\": [7.0, 12.0], \"type\": \"scatter\", \"uid\": \"7114c892-c204-11e8-ad45-a81e84e6c740\"}, {\"name\": \"\\u6768\\u4f1f\\u98de_\\u603b\\u4e0b\\u5355\\u6570\", \"x\": [\"8\", \"9\"], \"y\": [9.0, 17.0], \"type\": \"scatter\", \"uid\": \"7114cba8-c204-11e8-ad45-a81e84e6c740\"}, {\"name\": \"\\u6768\\u4f1f\\u98de_\\u5b8c\\u6210\\u4e0b\\u5355\\u6570\", \"x\": [\"8\", \"9\"], \"y\": [6.0, 20.0], \"type\": \"scatter\", \"uid\": \"7114ceaa-c204-11e8-ad45-a81e84e6c740\"}, {\"name\": \"\\u738b\\u5b81_\\u603b\\u4e0b\\u5355\\u6570\", \"x\": [\"8\", \"9\"], \"y\": [12.0, null], \"type\": \"scatter\", \"uid\": \"7114d1c0-c204-11e8-ad45-a81e84e6c740\"}, {\"name\": \"\\u738b\\u5b81_\\u5b8c\\u6210\\u4e0b\\u5355\\u6570\", \"x\": [\"8\", \"9\"], \"y\": [12.0, null], \"type\": \"scatter\", \"uid\": \"7114d4e0-c204-11e8-ad45-a81e84e6c740\"}, {\"name\": \"\\u82cf\\u5f66\\u52cb_\\u603b\\u4e0b\\u5355\\u6570\", \"x\": [\"8\", \"9\"], \"y\": [10.0, 20.0], \"type\": \"scatter\", \"uid\": \"7114d800-c204-11e8-ad45-a81e84e6c740\"}, {\"name\": \"\\u82cf\\u5f66\\u52cb_\\u5b8c\\u6210\\u4e0b\\u5355\\u6570\", \"x\": [\"8\", \"9\"], \"y\": [10.0, 19.0], \"type\": \"scatter\", \"uid\": \"7114daf8-c204-11e8-ad45-a81e84e6c740\"}, {\"name\": \"\\u8303\\u65ed\\u5b81_\\u603b\\u4e0b\\u5355\\u6570\", \"x\": [\"8\", \"9\"], \"y\": [8.0, null], \"type\": \"scatter\", \"uid\": \"7114ddf0-c204-11e8-ad45-a81e84e6c740\"}, {\"name\": \"\\u8303\\u65ed\\u5b81_\\u5b8c\\u6210\\u4e0b\\u5355\\u6570\", \"x\": [\"8\", \"9\"], \"y\": [6.0, null], \"type\": \"scatter\", \"uid\": \"7114e0fc-c204-11e8-ad45-a81e84e6c740\"}, {\"name\": \"\\u8c22\\u5fb7\\u5065_\\u603b\\u4e0b\\u5355\\u6570\", \"x\": [\"8\", \"9\"], \"y\": [6.0, null], \"type\": \"scatter\", \"uid\": \"7114e408-c204-11e8-ad45-a81e84e6c740\"}, {\"name\": \"\\u8c22\\u5fb7\\u5065_\\u5b8c\\u6210\\u4e0b\\u5355\\u6570\", \"x\": [\"8\", \"9\"], \"y\": [5.0, null], \"type\": \"scatter\", \"uid\": \"7114e6f6-c204-11e8-ad45-a81e84e6c740\"}, {\"name\": \"\\u8d75\\u73a5_\\u603b\\u4e0b\\u5355\\u6570\", \"x\": [\"8\", \"9\"], \"y\": [10.0, null], \"type\": \"scatter\", \"uid\": \"7114ec3c-c204-11e8-ad45-a81e84e6c740\"}, {\"name\": \"\\u8d75\\u73a5_\\u5b8c\\u6210\\u4e0b\\u5355\\u6570\", \"x\": [\"8\", \"9\"], \"y\": [10.0, null], \"type\": \"scatter\", \"uid\": \"7114eff2-c204-11e8-ad45-a81e84e6c740\"}, {\"name\": \"\\u8def\\u6167\\u840d_\\u603b\\u4e0b\\u5355\\u6570\", \"x\": [\"8\", \"9\"], \"y\": [13.0, 19.0], \"type\": \"scatter\", \"uid\": \"7114f2f4-c204-11e8-ad45-a81e84e6c740\"}, {\"name\": \"\\u8def\\u6167\\u840d_\\u5b8c\\u6210\\u4e0b\\u5355\\u6570\", \"x\": [\"8\", \"9\"], \"y\": [13.0, 16.0], \"type\": \"scatter\", \"uid\": \"7114f5f6-c204-11e8-ad45-a81e84e6c740\"}, {\"name\": \"\\u97e9\\u5c11\\u6000_\\u603b\\u4e0b\\u5355\\u6570\", \"x\": [\"8\", \"9\"], \"y\": [7.0, null], \"type\": \"scatter\", \"uid\": \"7114f916-c204-11e8-ad45-a81e84e6c740\"}, {\"name\": \"\\u97e9\\u5c11\\u6000_\\u5b8c\\u6210\\u4e0b\\u5355\\u6570\", \"x\": [\"8\", \"9\"], \"y\": [7.0, null], \"type\": \"scatter\", \"uid\": \"7114fc72-c204-11e8-ad45-a81e84e6c740\"}, {\"name\": \"\\u9a6c\\u6f47_\\u603b\\u4e0b\\u5355\\u6570\", \"x\": [\"8\", \"9\"], \"y\": [8.0, null], \"type\": \"scatter\", \"uid\": \"7114feca-c204-11e8-ad45-a81e84e6c740\"}, {\"name\": \"\\u9a6c\\u6f47_\\u5b8c\\u6210\\u4e0b\\u5355\\u6570\", \"x\": [\"8\", \"9\"], \"y\": [6.0, null], \"type\": \"scatter\", \"uid\": \"711500dc-c204-11e8-ad45-a81e84e6c740\"}],\n",
       "            {\"title\": \"\\u603b\\u4e0b\\u5355\\u6570&\\u5b8c\\u6210\\u4e0b\\u5355\\u6570\\u6708\\u8d8b\\u52bf\\u56fe\", \"xaxis\": {\"mirror\": \"all\", \"nticks\": 20, \"showgrid\": true, \"showline\": true, \"title\": \"\\u6708\", \"zeroline\": true}, \"yaxis\": {\"mirror\": \"all\", \"nticks\": 20, \"showgrid\": true, \"showline\": true, \"title\": \"\\u603b\\u4e0b\\u5355\\u6570&\\u5b8c\\u6210\\u4e0b\\u5355\\u6570\", \"zeroline\": true}},\n",
       "            {\"showLink\": true, \"linkText\": \"Export to plot.ly\"}\n",
       "        ).then(function () {return Plotly.addFrames('cdc23095-1023-434d-9718-85d7c67fc5ff',{});}).then(function(){Plotly.animate('cdc23095-1023-434d-9718-85d7c67fc5ff');})\n",
       "        });</script>"
      ]
     },
     "metadata": {},
     "output_type": "display_data"
    }
   ],
   "source": [
    "data_dict = {'总下单数':['总下单数'],'完成下单数':['完成下单数']}\n",
    "myModule.plot( all_dict, data_dict, '负责人' ,  'line', all='' )"
   ]
  },
  {
   "cell_type": "markdown",
   "metadata": {},
   "source": [
    "### 高质量报告"
   ]
  },
  {
   "cell_type": "markdown",
   "metadata": {},
   "source": [
    "#### 应交高质量报告数和提交高质量报告数"
   ]
  },
  {
   "cell_type": "code",
   "execution_count": 17,
   "metadata": {},
   "outputs": [
    {
     "data": {
      "application/vnd.plotly.v1+json": {
       "data": [
        {
         "name": "姚盟成_应交高质量报告数",
         "type": "scatter",
         "uid": "71e071d6-c204-11e8-ad45-a81e84e6c740",
         "x": [
          "8-3",
          "8-4",
          "9-1",
          "9-2",
          "9-3"
         ],
         "y": [
          2,
          0,
          0,
          1,
          0
         ]
        },
        {
         "name": "姚盟成_提交高质量报告数",
         "type": "scatter",
         "uid": "71e074ec-c204-11e8-ad45-a81e84e6c740",
         "x": [
          "8-3",
          "8-4",
          "9-1",
          "9-2",
          "9-3"
         ],
         "y": [
          2,
          0,
          0,
          1,
          0
         ]
        },
        {
         "name": "刘慧玲_应交高质量报告数",
         "type": "scatter",
         "uid": "71e0771c-c204-11e8-ad45-a81e84e6c740",
         "x": [
          "8-3",
          "8-4",
          "9-1"
         ],
         "y": [
          2,
          0,
          0
         ]
        },
        {
         "name": "刘慧玲_提交高质量报告数",
         "type": "scatter",
         "uid": "71e07924-c204-11e8-ad45-a81e84e6c740",
         "x": [
          "8-3",
          "8-4",
          "9-1"
         ],
         "y": [
          2,
          0,
          0
         ]
        },
        {
         "name": "占伟_应交高质量报告数",
         "type": "scatter",
         "uid": "71e07b0e-c204-11e8-ad45-a81e84e6c740",
         "x": [
          "8-3",
          "8-4",
          "9-1",
          "9-2"
         ],
         "y": [
          1,
          0,
          2,
          0
         ]
        },
        {
         "name": "占伟_提交高质量报告数",
         "type": "scatter",
         "uid": "71e07cee-c204-11e8-ad45-a81e84e6c740",
         "x": [
          "8-3",
          "8-4",
          "9-1",
          "9-2"
         ],
         "y": [
          1,
          0,
          2,
          0
         ]
        },
        {
         "name": "王宁_应交高质量报告数",
         "type": "scatter",
         "uid": "71e07fc8-c204-11e8-ad45-a81e84e6c740",
         "x": [
          "8-3",
          "8-4",
          "9-1"
         ],
         "y": [
          0,
          1,
          0
         ]
        },
        {
         "name": "王宁_提交高质量报告数",
         "type": "scatter",
         "uid": "71e082ac-c204-11e8-ad45-a81e84e6c740",
         "x": [
          "8-3",
          "8-4",
          "9-1"
         ],
         "y": [
          0,
          1,
          0
         ]
        },
        {
         "name": "封彦杰_应交高质量报告数",
         "type": "scatter",
         "uid": "71e084dc-c204-11e8-ad45-a81e84e6c740",
         "x": [
          "8-3",
          "8-4",
          "9-1",
          "9-2",
          "9-3"
         ],
         "y": [
          0,
          0,
          1,
          0,
          0
         ]
        },
        {
         "name": "封彦杰_提交高质量报告数",
         "type": "scatter",
         "uid": "71e086d0-c204-11e8-ad45-a81e84e6c740",
         "x": [
          "8-3",
          "8-4",
          "9-1",
          "9-2",
          "9-3"
         ],
         "y": [
          0,
          0,
          1,
          0,
          0
         ]
        },
        {
         "name": "路慧萍_应交高质量报告数",
         "type": "scatter",
         "uid": "71e08932-c204-11e8-ad45-a81e84e6c740",
         "x": [
          "8-3",
          "8-4",
          "9-1",
          "9-2",
          "9-3"
         ],
         "y": [
          1,
          0,
          0,
          0,
          0
         ]
        },
        {
         "name": "路慧萍_提交高质量报告数",
         "type": "scatter",
         "uid": "71e08b08-c204-11e8-ad45-a81e84e6c740",
         "x": [
          "8-3",
          "8-4",
          "9-1",
          "9-2",
          "9-3"
         ],
         "y": [
          1,
          0,
          0,
          0,
          0
         ]
        },
        {
         "name": "宋迎楠_应交高质量报告数",
         "type": "scatter",
         "uid": "71e08cd4-c204-11e8-ad45-a81e84e6c740",
         "x": [
          "8-3",
          "8-4",
          "9-1"
         ],
         "y": [
          2,
          0,
          0
         ]
        },
        {
         "name": "宋迎楠_提交高质量报告数",
         "type": "scatter",
         "uid": "71e08eaa-c204-11e8-ad45-a81e84e6c740",
         "x": [
          "8-3",
          "8-4",
          "9-1"
         ],
         "y": [
          2,
          0,
          0
         ]
        },
        {
         "name": "杨伟飞_应交高质量报告数",
         "type": "scatter",
         "uid": "71e09080-c204-11e8-ad45-a81e84e6c740",
         "x": [
          "8-3",
          "8-4",
          "9-1",
          "9-2",
          "9-3"
         ],
         "y": [
          0,
          0,
          2,
          1,
          0
         ]
        },
        {
         "name": "杨伟飞_提交高质量报告数",
         "type": "scatter",
         "uid": "71e09256-c204-11e8-ad45-a81e84e6c740",
         "x": [
          "8-3",
          "8-4",
          "9-1",
          "9-2",
          "9-3"
         ],
         "y": [
          0,
          0,
          2,
          1,
          0
         ]
        },
        {
         "name": "马潇_应交高质量报告数",
         "type": "scatter",
         "uid": "71e0942c-c204-11e8-ad45-a81e84e6c740",
         "x": [
          "8-3",
          "8-4",
          "9-1",
          "9-2"
         ],
         "y": [
          0,
          0,
          0,
          0
         ]
        },
        {
         "name": "马潇_提交高质量报告数",
         "type": "scatter",
         "uid": "71e09602-c204-11e8-ad45-a81e84e6c740",
         "x": [
          "8-3",
          "8-4",
          "9-1",
          "9-2"
         ],
         "y": [
          0,
          0,
          0,
          0
         ]
        },
        {
         "name": "李庆原_应交高质量报告数",
         "type": "scatter",
         "uid": "71e097d8-c204-11e8-ad45-a81e84e6c740",
         "x": [
          "8-3",
          "8-4",
          "9-1",
          "9-2",
          "9-3"
         ],
         "y": [
          0,
          0,
          1,
          0,
          0
         ]
        },
        {
         "name": "李庆原_提交高质量报告数",
         "type": "scatter",
         "uid": "71e099a4-c204-11e8-ad45-a81e84e6c740",
         "x": [
          "8-3",
          "8-4",
          "9-1",
          "9-2",
          "9-3"
         ],
         "y": [
          0,
          0,
          1,
          0,
          0
         ]
        },
        {
         "name": "韩少怀_应交高质量报告数",
         "type": "scatter",
         "uid": "71e09b7a-c204-11e8-ad45-a81e84e6c740",
         "x": [
          "8-3",
          "8-4",
          "9-1",
          "9-2"
         ],
         "y": [
          0,
          1,
          0,
          1
         ]
        },
        {
         "name": "韩少怀_提交高质量报告数",
         "type": "scatter",
         "uid": "71e09d50-c204-11e8-ad45-a81e84e6c740",
         "x": [
          "8-3",
          "8-4",
          "9-1",
          "9-2"
         ],
         "y": [
          0,
          1,
          0,
          1
         ]
        },
        {
         "name": "赵玥_应交高质量报告数",
         "type": "scatter",
         "uid": "71e09f1c-c204-11e8-ad45-a81e84e6c740",
         "x": [
          "8-3",
          "8-4",
          "9-1",
          "9-2"
         ],
         "y": [
          0,
          0,
          2,
          1
         ]
        },
        {
         "name": "赵玥_提交高质量报告数",
         "type": "scatter",
         "uid": "71e0a0e8-c204-11e8-ad45-a81e84e6c740",
         "x": [
          "8-3",
          "8-4",
          "9-1",
          "9-2"
         ],
         "y": [
          0,
          0,
          2,
          1
         ]
        },
        {
         "name": "苏彦勋_应交高质量报告数",
         "type": "scatter",
         "uid": "71e0a2be-c204-11e8-ad45-a81e84e6c740",
         "x": [
          "8-3",
          "8-4",
          "9-1",
          "9-2",
          "9-3"
         ],
         "y": [
          0,
          1,
          1,
          0,
          0
         ]
        },
        {
         "name": "苏彦勋_提交高质量报告数",
         "type": "scatter",
         "uid": "71e0a5de-c204-11e8-ad45-a81e84e6c740",
         "x": [
          "8-3",
          "8-4",
          "9-1",
          "9-2",
          "9-3"
         ],
         "y": [
          0,
          1,
          1,
          0,
          0
         ]
        },
        {
         "name": "张守伟_应交高质量报告数",
         "type": "scatter",
         "uid": "71e0a7d2-c204-11e8-ad45-a81e84e6c740",
         "x": [
          "8-3",
          "8-4",
          "9-1",
          "9-2"
         ],
         "y": [
          1,
          0,
          0,
          0
         ]
        },
        {
         "name": "张守伟_提交高质量报告数",
         "type": "scatter",
         "uid": "71e0aa5c-c204-11e8-ad45-a81e84e6c740",
         "x": [
          "8-3",
          "8-4",
          "9-1",
          "9-2"
         ],
         "y": [
          1,
          0,
          0,
          0
         ]
        },
        {
         "name": "周杨_应交高质量报告数",
         "type": "scatter",
         "uid": "71e0ac28-c204-11e8-ad45-a81e84e6c740",
         "x": [
          "8-3",
          "8-4",
          "9-1",
          "9-2",
          "9-3"
         ],
         "y": [
          0,
          2,
          0,
          0,
          0
         ]
        },
        {
         "name": "周杨_提交高质量报告数",
         "type": "scatter",
         "uid": "71e0adf4-c204-11e8-ad45-a81e84e6c740",
         "x": [
          "8-3",
          "8-4",
          "9-1",
          "9-2",
          "9-3"
         ],
         "y": [
          0,
          2,
          0,
          0,
          0
         ]
        },
        {
         "name": "范旭宁_应交高质量报告数",
         "type": "scatter",
         "uid": "71e0afca-c204-11e8-ad45-a81e84e6c740",
         "x": [
          "8-3",
          "8-4",
          "9-1",
          "9-2"
         ],
         "y": [
          0,
          0,
          1,
          2
         ]
        },
        {
         "name": "范旭宁_提交高质量报告数",
         "type": "scatter",
         "uid": "71e0b1a0-c204-11e8-ad45-a81e84e6c740",
         "x": [
          "8-3",
          "8-4",
          "9-1",
          "9-2"
         ],
         "y": [
          0,
          0,
          1,
          1
         ]
        },
        {
         "name": "孟昊_应交高质量报告数",
         "type": "scatter",
         "uid": "71e0b376-c204-11e8-ad45-a81e84e6c740",
         "x": [
          "8-3",
          "8-4",
          "9-1",
          "9-2",
          "9-3"
         ],
         "y": [
          0,
          0,
          0,
          0,
          0
         ]
        },
        {
         "name": "孟昊_提交高质量报告数",
         "type": "scatter",
         "uid": "71e0b542-c204-11e8-ad45-a81e84e6c740",
         "x": [
          "8-3",
          "8-4",
          "9-1",
          "9-2",
          "9-3"
         ],
         "y": [
          0,
          0,
          0,
          0,
          0
         ]
        },
        {
         "name": "于勇一_应交高质量报告数",
         "type": "scatter",
         "uid": "71e0b70e-c204-11e8-ad45-a81e84e6c740",
         "x": [
          "8-3",
          "8-4",
          "9-1",
          "9-2",
          "9-3"
         ],
         "y": [
          0,
          1,
          2,
          0,
          0
         ]
        },
        {
         "name": "于勇一_提交高质量报告数",
         "type": "scatter",
         "uid": "71e0b8e4-c204-11e8-ad45-a81e84e6c740",
         "x": [
          "8-3",
          "8-4",
          "9-1",
          "9-2",
          "9-3"
         ],
         "y": [
          0,
          1,
          2,
          0,
          0
         ]
        },
        {
         "name": "于慧_应交高质量报告数",
         "type": "scatter",
         "uid": "71e0bab0-c204-11e8-ad45-a81e84e6c740",
         "x": [
          "8-3",
          "8-4",
          "9-1",
          "9-2",
          "9-3"
         ],
         "y": [
          0,
          1,
          0,
          0,
          0
         ]
        },
        {
         "name": "于慧_提交高质量报告数",
         "type": "scatter",
         "uid": "71e0bc90-c204-11e8-ad45-a81e84e6c740",
         "x": [
          "8-3",
          "8-4",
          "9-1",
          "9-2",
          "9-3"
         ],
         "y": [
          0,
          1,
          0,
          0,
          0
         ]
        },
        {
         "name": "刘江_应交高质量报告数",
         "type": "scatter",
         "uid": "71e0be5c-c204-11e8-ad45-a81e84e6c740",
         "x": [
          "8-3",
          "8-4",
          "9-1",
          "9-2",
          "9-3"
         ],
         "y": [
          0,
          0,
          3,
          0,
          0
         ]
        },
        {
         "name": "刘江_提交高质量报告数",
         "type": "scatter",
         "uid": "71e0c032-c204-11e8-ad45-a81e84e6c740",
         "x": [
          "8-3",
          "8-4",
          "9-1",
          "9-2",
          "9-3"
         ],
         "y": [
          0,
          0,
          3,
          0,
          1
         ]
        },
        {
         "name": "李华云_应交高质量报告数",
         "type": "scatter",
         "uid": "71e0c1fe-c204-11e8-ad45-a81e84e6c740",
         "x": [
          "8-3",
          "8-4",
          "9-1",
          "9-2",
          "9-3"
         ],
         "y": [
          0,
          0,
          0,
          0,
          0
         ]
        },
        {
         "name": "李华云_提交高质量报告数",
         "type": "scatter",
         "uid": "71e0c3d4-c204-11e8-ad45-a81e84e6c740",
         "x": [
          "8-3",
          "8-4",
          "9-1",
          "9-2",
          "9-3"
         ],
         "y": [
          0,
          0,
          0,
          0,
          0
         ]
        },
        {
         "name": "谢德健_应交高质量报告数",
         "type": "scatter",
         "uid": "71e0c5aa-c204-11e8-ad45-a81e84e6c740",
         "x": [
          "8-3",
          "8-4",
          "9-2",
          "9-3"
         ],
         "y": [
          0,
          0,
          2,
          4
         ]
        },
        {
         "name": "谢德健_提交高质量报告数",
         "type": "scatter",
         "uid": "71e0c780-c204-11e8-ad45-a81e84e6c740",
         "x": [
          "8-3",
          "8-4",
          "9-2",
          "9-3"
         ],
         "y": [
          0,
          0,
          1,
          4
         ]
        },
        {
         "name": "任雪_应交高质量报告数",
         "type": "scatter",
         "uid": "71e0c956-c204-11e8-ad45-a81e84e6c740",
         "x": [
          "8-4",
          "9-1",
          "9-2",
          "9-3"
         ],
         "y": [
          0,
          2,
          0,
          0
         ]
        },
        {
         "name": "任雪_提交高质量报告数",
         "type": "scatter",
         "uid": "71e0cc1c-c204-11e8-ad45-a81e84e6c740",
         "x": [
          "8-4",
          "9-1",
          "9-2",
          "9-3"
         ],
         "y": [
          0,
          2,
          0,
          0
         ]
        }
       ],
       "layout": {
        "title": "应交高质量报告数&提交高质量报告数周趋势图",
        "xaxis": {
         "mirror": "all",
         "nticks": 20,
         "showgrid": true,
         "showline": true,
         "title": "周",
         "zeroline": true
        },
        "yaxis": {
         "mirror": "all",
         "nticks": 20,
         "showgrid": true,
         "showline": true,
         "title": "应交高质量报告数&提交高质量报告数",
         "zeroline": true
        }
       }
      },
      "text/html": [
       "<div id=\"2091d483-836b-468d-8a01-ca9efb9c67c3\" style=\"height: 525px; width: 100%;\" class=\"plotly-graph-div\"></div><script type=\"text/javascript\">require([\"plotly\"], function(Plotly) { window.PLOTLYENV=window.PLOTLYENV || {};window.PLOTLYENV.BASE_URL=\"https://plot.ly\";\n",
       "        Plotly.plot(\n",
       "            '2091d483-836b-468d-8a01-ca9efb9c67c3',\n",
       "            [{\"name\": \"\\u59da\\u76df\\u6210_\\u5e94\\u4ea4\\u9ad8\\u8d28\\u91cf\\u62a5\\u544a\\u6570\", \"x\": [\"8-3\", \"8-4\", \"9-1\", \"9-2\", \"9-3\"], \"y\": [2.0, 0.0, 0.0, 1.0, 0.0], \"type\": \"scatter\", \"uid\": \"71e071d6-c204-11e8-ad45-a81e84e6c740\"}, {\"name\": \"\\u59da\\u76df\\u6210_\\u63d0\\u4ea4\\u9ad8\\u8d28\\u91cf\\u62a5\\u544a\\u6570\", \"x\": [\"8-3\", \"8-4\", \"9-1\", \"9-2\", \"9-3\"], \"y\": [2.0, 0.0, 0.0, 1.0, 0.0], \"type\": \"scatter\", \"uid\": \"71e074ec-c204-11e8-ad45-a81e84e6c740\"}, {\"name\": \"\\u5218\\u6167\\u73b2_\\u5e94\\u4ea4\\u9ad8\\u8d28\\u91cf\\u62a5\\u544a\\u6570\", \"x\": [\"8-3\", \"8-4\", \"9-1\"], \"y\": [2.0, 0.0, 0.0], \"type\": \"scatter\", \"uid\": \"71e0771c-c204-11e8-ad45-a81e84e6c740\"}, {\"name\": \"\\u5218\\u6167\\u73b2_\\u63d0\\u4ea4\\u9ad8\\u8d28\\u91cf\\u62a5\\u544a\\u6570\", \"x\": [\"8-3\", \"8-4\", \"9-1\"], \"y\": [2.0, 0.0, 0.0], \"type\": \"scatter\", \"uid\": \"71e07924-c204-11e8-ad45-a81e84e6c740\"}, {\"name\": \"\\u5360\\u4f1f_\\u5e94\\u4ea4\\u9ad8\\u8d28\\u91cf\\u62a5\\u544a\\u6570\", \"x\": [\"8-3\", \"8-4\", \"9-1\", \"9-2\"], \"y\": [1.0, 0.0, 2.0, 0.0], \"type\": \"scatter\", \"uid\": \"71e07b0e-c204-11e8-ad45-a81e84e6c740\"}, {\"name\": \"\\u5360\\u4f1f_\\u63d0\\u4ea4\\u9ad8\\u8d28\\u91cf\\u62a5\\u544a\\u6570\", \"x\": [\"8-3\", \"8-4\", \"9-1\", \"9-2\"], \"y\": [1.0, 0.0, 2.0, 0.0], \"type\": \"scatter\", \"uid\": \"71e07cee-c204-11e8-ad45-a81e84e6c740\"}, {\"name\": \"\\u738b\\u5b81_\\u5e94\\u4ea4\\u9ad8\\u8d28\\u91cf\\u62a5\\u544a\\u6570\", \"x\": [\"8-3\", \"8-4\", \"9-1\"], \"y\": [0.0, 1.0, 0.0], \"type\": \"scatter\", \"uid\": \"71e07fc8-c204-11e8-ad45-a81e84e6c740\"}, {\"name\": \"\\u738b\\u5b81_\\u63d0\\u4ea4\\u9ad8\\u8d28\\u91cf\\u62a5\\u544a\\u6570\", \"x\": [\"8-3\", \"8-4\", \"9-1\"], \"y\": [0.0, 1.0, 0.0], \"type\": \"scatter\", \"uid\": \"71e082ac-c204-11e8-ad45-a81e84e6c740\"}, {\"name\": \"\\u5c01\\u5f66\\u6770_\\u5e94\\u4ea4\\u9ad8\\u8d28\\u91cf\\u62a5\\u544a\\u6570\", \"x\": [\"8-3\", \"8-4\", \"9-1\", \"9-2\", \"9-3\"], \"y\": [0.0, 0.0, 1.0, 0.0, 0.0], \"type\": \"scatter\", \"uid\": \"71e084dc-c204-11e8-ad45-a81e84e6c740\"}, {\"name\": \"\\u5c01\\u5f66\\u6770_\\u63d0\\u4ea4\\u9ad8\\u8d28\\u91cf\\u62a5\\u544a\\u6570\", \"x\": [\"8-3\", \"8-4\", \"9-1\", \"9-2\", \"9-3\"], \"y\": [0.0, 0.0, 1.0, 0.0, 0.0], \"type\": \"scatter\", \"uid\": \"71e086d0-c204-11e8-ad45-a81e84e6c740\"}, {\"name\": \"\\u8def\\u6167\\u840d_\\u5e94\\u4ea4\\u9ad8\\u8d28\\u91cf\\u62a5\\u544a\\u6570\", \"x\": [\"8-3\", \"8-4\", \"9-1\", \"9-2\", \"9-3\"], \"y\": [1.0, 0.0, 0.0, 0.0, 0.0], \"type\": \"scatter\", \"uid\": \"71e08932-c204-11e8-ad45-a81e84e6c740\"}, {\"name\": \"\\u8def\\u6167\\u840d_\\u63d0\\u4ea4\\u9ad8\\u8d28\\u91cf\\u62a5\\u544a\\u6570\", \"x\": [\"8-3\", \"8-4\", \"9-1\", \"9-2\", \"9-3\"], \"y\": [1.0, 0.0, 0.0, 0.0, 0.0], \"type\": \"scatter\", \"uid\": \"71e08b08-c204-11e8-ad45-a81e84e6c740\"}, {\"name\": \"\\u5b8b\\u8fce\\u6960_\\u5e94\\u4ea4\\u9ad8\\u8d28\\u91cf\\u62a5\\u544a\\u6570\", \"x\": [\"8-3\", \"8-4\", \"9-1\"], \"y\": [2.0, 0.0, 0.0], \"type\": \"scatter\", \"uid\": \"71e08cd4-c204-11e8-ad45-a81e84e6c740\"}, {\"name\": \"\\u5b8b\\u8fce\\u6960_\\u63d0\\u4ea4\\u9ad8\\u8d28\\u91cf\\u62a5\\u544a\\u6570\", \"x\": [\"8-3\", \"8-4\", \"9-1\"], \"y\": [2.0, 0.0, 0.0], \"type\": \"scatter\", \"uid\": \"71e08eaa-c204-11e8-ad45-a81e84e6c740\"}, {\"name\": \"\\u6768\\u4f1f\\u98de_\\u5e94\\u4ea4\\u9ad8\\u8d28\\u91cf\\u62a5\\u544a\\u6570\", \"x\": [\"8-3\", \"8-4\", \"9-1\", \"9-2\", \"9-3\"], \"y\": [0.0, 0.0, 2.0, 1.0, 0.0], \"type\": \"scatter\", \"uid\": \"71e09080-c204-11e8-ad45-a81e84e6c740\"}, {\"name\": \"\\u6768\\u4f1f\\u98de_\\u63d0\\u4ea4\\u9ad8\\u8d28\\u91cf\\u62a5\\u544a\\u6570\", \"x\": [\"8-3\", \"8-4\", \"9-1\", \"9-2\", \"9-3\"], \"y\": [0.0, 0.0, 2.0, 1.0, 0.0], \"type\": \"scatter\", \"uid\": \"71e09256-c204-11e8-ad45-a81e84e6c740\"}, {\"name\": \"\\u9a6c\\u6f47_\\u5e94\\u4ea4\\u9ad8\\u8d28\\u91cf\\u62a5\\u544a\\u6570\", \"x\": [\"8-3\", \"8-4\", \"9-1\", \"9-2\"], \"y\": [0.0, 0.0, 0.0, 0.0], \"type\": \"scatter\", \"uid\": \"71e0942c-c204-11e8-ad45-a81e84e6c740\"}, {\"name\": \"\\u9a6c\\u6f47_\\u63d0\\u4ea4\\u9ad8\\u8d28\\u91cf\\u62a5\\u544a\\u6570\", \"x\": [\"8-3\", \"8-4\", \"9-1\", \"9-2\"], \"y\": [0.0, 0.0, 0.0, 0.0], \"type\": \"scatter\", \"uid\": \"71e09602-c204-11e8-ad45-a81e84e6c740\"}, {\"name\": \"\\u674e\\u5e86\\u539f_\\u5e94\\u4ea4\\u9ad8\\u8d28\\u91cf\\u62a5\\u544a\\u6570\", \"x\": [\"8-3\", \"8-4\", \"9-1\", \"9-2\", \"9-3\"], \"y\": [0.0, 0.0, 1.0, 0.0, 0.0], \"type\": \"scatter\", \"uid\": \"71e097d8-c204-11e8-ad45-a81e84e6c740\"}, {\"name\": \"\\u674e\\u5e86\\u539f_\\u63d0\\u4ea4\\u9ad8\\u8d28\\u91cf\\u62a5\\u544a\\u6570\", \"x\": [\"8-3\", \"8-4\", \"9-1\", \"9-2\", \"9-3\"], \"y\": [0.0, 0.0, 1.0, 0.0, 0.0], \"type\": \"scatter\", \"uid\": \"71e099a4-c204-11e8-ad45-a81e84e6c740\"}, {\"name\": \"\\u97e9\\u5c11\\u6000_\\u5e94\\u4ea4\\u9ad8\\u8d28\\u91cf\\u62a5\\u544a\\u6570\", \"x\": [\"8-3\", \"8-4\", \"9-1\", \"9-2\"], \"y\": [0.0, 1.0, 0.0, 1.0], \"type\": \"scatter\", \"uid\": \"71e09b7a-c204-11e8-ad45-a81e84e6c740\"}, {\"name\": \"\\u97e9\\u5c11\\u6000_\\u63d0\\u4ea4\\u9ad8\\u8d28\\u91cf\\u62a5\\u544a\\u6570\", \"x\": [\"8-3\", \"8-4\", \"9-1\", \"9-2\"], \"y\": [0.0, 1.0, 0.0, 1.0], \"type\": \"scatter\", \"uid\": \"71e09d50-c204-11e8-ad45-a81e84e6c740\"}, {\"name\": \"\\u8d75\\u73a5_\\u5e94\\u4ea4\\u9ad8\\u8d28\\u91cf\\u62a5\\u544a\\u6570\", \"x\": [\"8-3\", \"8-4\", \"9-1\", \"9-2\"], \"y\": [0.0, 0.0, 2.0, 1.0], \"type\": \"scatter\", \"uid\": \"71e09f1c-c204-11e8-ad45-a81e84e6c740\"}, {\"name\": \"\\u8d75\\u73a5_\\u63d0\\u4ea4\\u9ad8\\u8d28\\u91cf\\u62a5\\u544a\\u6570\", \"x\": [\"8-3\", \"8-4\", \"9-1\", \"9-2\"], \"y\": [0.0, 0.0, 2.0, 1.0], \"type\": \"scatter\", \"uid\": \"71e0a0e8-c204-11e8-ad45-a81e84e6c740\"}, {\"name\": \"\\u82cf\\u5f66\\u52cb_\\u5e94\\u4ea4\\u9ad8\\u8d28\\u91cf\\u62a5\\u544a\\u6570\", \"x\": [\"8-3\", \"8-4\", \"9-1\", \"9-2\", \"9-3\"], \"y\": [0.0, 1.0, 1.0, 0.0, 0.0], \"type\": \"scatter\", \"uid\": \"71e0a2be-c204-11e8-ad45-a81e84e6c740\"}, {\"name\": \"\\u82cf\\u5f66\\u52cb_\\u63d0\\u4ea4\\u9ad8\\u8d28\\u91cf\\u62a5\\u544a\\u6570\", \"x\": [\"8-3\", \"8-4\", \"9-1\", \"9-2\", \"9-3\"], \"y\": [0.0, 1.0, 1.0, 0.0, 0.0], \"type\": \"scatter\", \"uid\": \"71e0a5de-c204-11e8-ad45-a81e84e6c740\"}, {\"name\": \"\\u5f20\\u5b88\\u4f1f_\\u5e94\\u4ea4\\u9ad8\\u8d28\\u91cf\\u62a5\\u544a\\u6570\", \"x\": [\"8-3\", \"8-4\", \"9-1\", \"9-2\"], \"y\": [1.0, 0.0, 0.0, 0.0], \"type\": \"scatter\", \"uid\": \"71e0a7d2-c204-11e8-ad45-a81e84e6c740\"}, {\"name\": \"\\u5f20\\u5b88\\u4f1f_\\u63d0\\u4ea4\\u9ad8\\u8d28\\u91cf\\u62a5\\u544a\\u6570\", \"x\": [\"8-3\", \"8-4\", \"9-1\", \"9-2\"], \"y\": [1.0, 0.0, 0.0, 0.0], \"type\": \"scatter\", \"uid\": \"71e0aa5c-c204-11e8-ad45-a81e84e6c740\"}, {\"name\": \"\\u5468\\u6768_\\u5e94\\u4ea4\\u9ad8\\u8d28\\u91cf\\u62a5\\u544a\\u6570\", \"x\": [\"8-3\", \"8-4\", \"9-1\", \"9-2\", \"9-3\"], \"y\": [0.0, 2.0, 0.0, 0.0, 0.0], \"type\": \"scatter\", \"uid\": \"71e0ac28-c204-11e8-ad45-a81e84e6c740\"}, {\"name\": \"\\u5468\\u6768_\\u63d0\\u4ea4\\u9ad8\\u8d28\\u91cf\\u62a5\\u544a\\u6570\", \"x\": [\"8-3\", \"8-4\", \"9-1\", \"9-2\", \"9-3\"], \"y\": [0.0, 2.0, 0.0, 0.0, 0.0], \"type\": \"scatter\", \"uid\": \"71e0adf4-c204-11e8-ad45-a81e84e6c740\"}, {\"name\": \"\\u8303\\u65ed\\u5b81_\\u5e94\\u4ea4\\u9ad8\\u8d28\\u91cf\\u62a5\\u544a\\u6570\", \"x\": [\"8-3\", \"8-4\", \"9-1\", \"9-2\"], \"y\": [0.0, 0.0, 1.0, 2.0], \"type\": \"scatter\", \"uid\": \"71e0afca-c204-11e8-ad45-a81e84e6c740\"}, {\"name\": \"\\u8303\\u65ed\\u5b81_\\u63d0\\u4ea4\\u9ad8\\u8d28\\u91cf\\u62a5\\u544a\\u6570\", \"x\": [\"8-3\", \"8-4\", \"9-1\", \"9-2\"], \"y\": [0.0, 0.0, 1.0, 1.0], \"type\": \"scatter\", \"uid\": \"71e0b1a0-c204-11e8-ad45-a81e84e6c740\"}, {\"name\": \"\\u5b5f\\u660a_\\u5e94\\u4ea4\\u9ad8\\u8d28\\u91cf\\u62a5\\u544a\\u6570\", \"x\": [\"8-3\", \"8-4\", \"9-1\", \"9-2\", \"9-3\"], \"y\": [0.0, 0.0, 0.0, 0.0, 0.0], \"type\": \"scatter\", \"uid\": \"71e0b376-c204-11e8-ad45-a81e84e6c740\"}, {\"name\": \"\\u5b5f\\u660a_\\u63d0\\u4ea4\\u9ad8\\u8d28\\u91cf\\u62a5\\u544a\\u6570\", \"x\": [\"8-3\", \"8-4\", \"9-1\", \"9-2\", \"9-3\"], \"y\": [0.0, 0.0, 0.0, 0.0, 0.0], \"type\": \"scatter\", \"uid\": \"71e0b542-c204-11e8-ad45-a81e84e6c740\"}, {\"name\": \"\\u4e8e\\u52c7\\u4e00_\\u5e94\\u4ea4\\u9ad8\\u8d28\\u91cf\\u62a5\\u544a\\u6570\", \"x\": [\"8-3\", \"8-4\", \"9-1\", \"9-2\", \"9-3\"], \"y\": [0.0, 1.0, 2.0, 0.0, 0.0], \"type\": \"scatter\", \"uid\": \"71e0b70e-c204-11e8-ad45-a81e84e6c740\"}, {\"name\": \"\\u4e8e\\u52c7\\u4e00_\\u63d0\\u4ea4\\u9ad8\\u8d28\\u91cf\\u62a5\\u544a\\u6570\", \"x\": [\"8-3\", \"8-4\", \"9-1\", \"9-2\", \"9-3\"], \"y\": [0.0, 1.0, 2.0, 0.0, 0.0], \"type\": \"scatter\", \"uid\": \"71e0b8e4-c204-11e8-ad45-a81e84e6c740\"}, {\"name\": \"\\u4e8e\\u6167_\\u5e94\\u4ea4\\u9ad8\\u8d28\\u91cf\\u62a5\\u544a\\u6570\", \"x\": [\"8-3\", \"8-4\", \"9-1\", \"9-2\", \"9-3\"], \"y\": [0.0, 1.0, 0.0, 0.0, 0.0], \"type\": \"scatter\", \"uid\": \"71e0bab0-c204-11e8-ad45-a81e84e6c740\"}, {\"name\": \"\\u4e8e\\u6167_\\u63d0\\u4ea4\\u9ad8\\u8d28\\u91cf\\u62a5\\u544a\\u6570\", \"x\": [\"8-3\", \"8-4\", \"9-1\", \"9-2\", \"9-3\"], \"y\": [0.0, 1.0, 0.0, 0.0, 0.0], \"type\": \"scatter\", \"uid\": \"71e0bc90-c204-11e8-ad45-a81e84e6c740\"}, {\"name\": \"\\u5218\\u6c5f_\\u5e94\\u4ea4\\u9ad8\\u8d28\\u91cf\\u62a5\\u544a\\u6570\", \"x\": [\"8-3\", \"8-4\", \"9-1\", \"9-2\", \"9-3\"], \"y\": [0.0, 0.0, 3.0, 0.0, 0.0], \"type\": \"scatter\", \"uid\": \"71e0be5c-c204-11e8-ad45-a81e84e6c740\"}, {\"name\": \"\\u5218\\u6c5f_\\u63d0\\u4ea4\\u9ad8\\u8d28\\u91cf\\u62a5\\u544a\\u6570\", \"x\": [\"8-3\", \"8-4\", \"9-1\", \"9-2\", \"9-3\"], \"y\": [0.0, 0.0, 3.0, 0.0, 1.0], \"type\": \"scatter\", \"uid\": \"71e0c032-c204-11e8-ad45-a81e84e6c740\"}, {\"name\": \"\\u674e\\u534e\\u4e91_\\u5e94\\u4ea4\\u9ad8\\u8d28\\u91cf\\u62a5\\u544a\\u6570\", \"x\": [\"8-3\", \"8-4\", \"9-1\", \"9-2\", \"9-3\"], \"y\": [0.0, 0.0, 0.0, 0.0, 0.0], \"type\": \"scatter\", \"uid\": \"71e0c1fe-c204-11e8-ad45-a81e84e6c740\"}, {\"name\": \"\\u674e\\u534e\\u4e91_\\u63d0\\u4ea4\\u9ad8\\u8d28\\u91cf\\u62a5\\u544a\\u6570\", \"x\": [\"8-3\", \"8-4\", \"9-1\", \"9-2\", \"9-3\"], \"y\": [0.0, 0.0, 0.0, 0.0, 0.0], \"type\": \"scatter\", \"uid\": \"71e0c3d4-c204-11e8-ad45-a81e84e6c740\"}, {\"name\": \"\\u8c22\\u5fb7\\u5065_\\u5e94\\u4ea4\\u9ad8\\u8d28\\u91cf\\u62a5\\u544a\\u6570\", \"x\": [\"8-3\", \"8-4\", \"9-2\", \"9-3\"], \"y\": [0.0, 0.0, 2.0, 4.0], \"type\": \"scatter\", \"uid\": \"71e0c5aa-c204-11e8-ad45-a81e84e6c740\"}, {\"name\": \"\\u8c22\\u5fb7\\u5065_\\u63d0\\u4ea4\\u9ad8\\u8d28\\u91cf\\u62a5\\u544a\\u6570\", \"x\": [\"8-3\", \"8-4\", \"9-2\", \"9-3\"], \"y\": [0.0, 0.0, 1.0, 4.0], \"type\": \"scatter\", \"uid\": \"71e0c780-c204-11e8-ad45-a81e84e6c740\"}, {\"name\": \"\\u4efb\\u96ea_\\u5e94\\u4ea4\\u9ad8\\u8d28\\u91cf\\u62a5\\u544a\\u6570\", \"x\": [\"8-4\", \"9-1\", \"9-2\", \"9-3\"], \"y\": [0.0, 2.0, 0.0, 0.0], \"type\": \"scatter\", \"uid\": \"71e0c956-c204-11e8-ad45-a81e84e6c740\"}, {\"name\": \"\\u4efb\\u96ea_\\u63d0\\u4ea4\\u9ad8\\u8d28\\u91cf\\u62a5\\u544a\\u6570\", \"x\": [\"8-4\", \"9-1\", \"9-2\", \"9-3\"], \"y\": [0.0, 2.0, 0.0, 0.0], \"type\": \"scatter\", \"uid\": \"71e0cc1c-c204-11e8-ad45-a81e84e6c740\"}],\n",
       "            {\"title\": \"\\u5e94\\u4ea4\\u9ad8\\u8d28\\u91cf\\u62a5\\u544a\\u6570&\\u63d0\\u4ea4\\u9ad8\\u8d28\\u91cf\\u62a5\\u544a\\u6570\\u5468\\u8d8b\\u52bf\\u56fe\", \"xaxis\": {\"mirror\": \"all\", \"nticks\": 20, \"showgrid\": true, \"showline\": true, \"title\": \"\\u5468\", \"zeroline\": true}, \"yaxis\": {\"mirror\": \"all\", \"nticks\": 20, \"showgrid\": true, \"showline\": true, \"title\": \"\\u5e94\\u4ea4\\u9ad8\\u8d28\\u91cf\\u62a5\\u544a\\u6570&\\u63d0\\u4ea4\\u9ad8\\u8d28\\u91cf\\u62a5\\u544a\\u6570\", \"zeroline\": true}},\n",
       "            {\"showLink\": true, \"linkText\": \"Export to plot.ly\"}\n",
       "        ).then(function () {return Plotly.addFrames('2091d483-836b-468d-8a01-ca9efb9c67c3',{});}).then(function(){Plotly.animate('2091d483-836b-468d-8a01-ca9efb9c67c3');})\n",
       "        });</script>"
      ],
      "text/vnd.plotly.v1+html": [
       "<div id=\"2091d483-836b-468d-8a01-ca9efb9c67c3\" style=\"height: 525px; width: 100%;\" class=\"plotly-graph-div\"></div><script type=\"text/javascript\">require([\"plotly\"], function(Plotly) { window.PLOTLYENV=window.PLOTLYENV || {};window.PLOTLYENV.BASE_URL=\"https://plot.ly\";\n",
       "        Plotly.plot(\n",
       "            '2091d483-836b-468d-8a01-ca9efb9c67c3',\n",
       "            [{\"name\": \"\\u59da\\u76df\\u6210_\\u5e94\\u4ea4\\u9ad8\\u8d28\\u91cf\\u62a5\\u544a\\u6570\", \"x\": [\"8-3\", \"8-4\", \"9-1\", \"9-2\", \"9-3\"], \"y\": [2.0, 0.0, 0.0, 1.0, 0.0], \"type\": \"scatter\", \"uid\": \"71e071d6-c204-11e8-ad45-a81e84e6c740\"}, {\"name\": \"\\u59da\\u76df\\u6210_\\u63d0\\u4ea4\\u9ad8\\u8d28\\u91cf\\u62a5\\u544a\\u6570\", \"x\": [\"8-3\", \"8-4\", \"9-1\", \"9-2\", \"9-3\"], \"y\": [2.0, 0.0, 0.0, 1.0, 0.0], \"type\": \"scatter\", \"uid\": \"71e074ec-c204-11e8-ad45-a81e84e6c740\"}, {\"name\": \"\\u5218\\u6167\\u73b2_\\u5e94\\u4ea4\\u9ad8\\u8d28\\u91cf\\u62a5\\u544a\\u6570\", \"x\": [\"8-3\", \"8-4\", \"9-1\"], \"y\": [2.0, 0.0, 0.0], \"type\": \"scatter\", \"uid\": \"71e0771c-c204-11e8-ad45-a81e84e6c740\"}, {\"name\": \"\\u5218\\u6167\\u73b2_\\u63d0\\u4ea4\\u9ad8\\u8d28\\u91cf\\u62a5\\u544a\\u6570\", \"x\": [\"8-3\", \"8-4\", \"9-1\"], \"y\": [2.0, 0.0, 0.0], \"type\": \"scatter\", \"uid\": \"71e07924-c204-11e8-ad45-a81e84e6c740\"}, {\"name\": \"\\u5360\\u4f1f_\\u5e94\\u4ea4\\u9ad8\\u8d28\\u91cf\\u62a5\\u544a\\u6570\", \"x\": [\"8-3\", \"8-4\", \"9-1\", \"9-2\"], \"y\": [1.0, 0.0, 2.0, 0.0], \"type\": \"scatter\", \"uid\": \"71e07b0e-c204-11e8-ad45-a81e84e6c740\"}, {\"name\": \"\\u5360\\u4f1f_\\u63d0\\u4ea4\\u9ad8\\u8d28\\u91cf\\u62a5\\u544a\\u6570\", \"x\": [\"8-3\", \"8-4\", \"9-1\", \"9-2\"], \"y\": [1.0, 0.0, 2.0, 0.0], \"type\": \"scatter\", \"uid\": \"71e07cee-c204-11e8-ad45-a81e84e6c740\"}, {\"name\": \"\\u738b\\u5b81_\\u5e94\\u4ea4\\u9ad8\\u8d28\\u91cf\\u62a5\\u544a\\u6570\", \"x\": [\"8-3\", \"8-4\", \"9-1\"], \"y\": [0.0, 1.0, 0.0], \"type\": \"scatter\", \"uid\": \"71e07fc8-c204-11e8-ad45-a81e84e6c740\"}, {\"name\": \"\\u738b\\u5b81_\\u63d0\\u4ea4\\u9ad8\\u8d28\\u91cf\\u62a5\\u544a\\u6570\", \"x\": [\"8-3\", \"8-4\", \"9-1\"], \"y\": [0.0, 1.0, 0.0], \"type\": \"scatter\", \"uid\": \"71e082ac-c204-11e8-ad45-a81e84e6c740\"}, {\"name\": \"\\u5c01\\u5f66\\u6770_\\u5e94\\u4ea4\\u9ad8\\u8d28\\u91cf\\u62a5\\u544a\\u6570\", \"x\": [\"8-3\", \"8-4\", \"9-1\", \"9-2\", \"9-3\"], \"y\": [0.0, 0.0, 1.0, 0.0, 0.0], \"type\": \"scatter\", \"uid\": \"71e084dc-c204-11e8-ad45-a81e84e6c740\"}, {\"name\": \"\\u5c01\\u5f66\\u6770_\\u63d0\\u4ea4\\u9ad8\\u8d28\\u91cf\\u62a5\\u544a\\u6570\", \"x\": [\"8-3\", \"8-4\", \"9-1\", \"9-2\", \"9-3\"], \"y\": [0.0, 0.0, 1.0, 0.0, 0.0], \"type\": \"scatter\", \"uid\": \"71e086d0-c204-11e8-ad45-a81e84e6c740\"}, {\"name\": \"\\u8def\\u6167\\u840d_\\u5e94\\u4ea4\\u9ad8\\u8d28\\u91cf\\u62a5\\u544a\\u6570\", \"x\": [\"8-3\", \"8-4\", \"9-1\", \"9-2\", \"9-3\"], \"y\": [1.0, 0.0, 0.0, 0.0, 0.0], \"type\": \"scatter\", \"uid\": \"71e08932-c204-11e8-ad45-a81e84e6c740\"}, {\"name\": \"\\u8def\\u6167\\u840d_\\u63d0\\u4ea4\\u9ad8\\u8d28\\u91cf\\u62a5\\u544a\\u6570\", \"x\": [\"8-3\", \"8-4\", \"9-1\", \"9-2\", \"9-3\"], \"y\": [1.0, 0.0, 0.0, 0.0, 0.0], \"type\": \"scatter\", \"uid\": \"71e08b08-c204-11e8-ad45-a81e84e6c740\"}, {\"name\": \"\\u5b8b\\u8fce\\u6960_\\u5e94\\u4ea4\\u9ad8\\u8d28\\u91cf\\u62a5\\u544a\\u6570\", \"x\": [\"8-3\", \"8-4\", \"9-1\"], \"y\": [2.0, 0.0, 0.0], \"type\": \"scatter\", \"uid\": \"71e08cd4-c204-11e8-ad45-a81e84e6c740\"}, {\"name\": \"\\u5b8b\\u8fce\\u6960_\\u63d0\\u4ea4\\u9ad8\\u8d28\\u91cf\\u62a5\\u544a\\u6570\", \"x\": [\"8-3\", \"8-4\", \"9-1\"], \"y\": [2.0, 0.0, 0.0], \"type\": \"scatter\", \"uid\": \"71e08eaa-c204-11e8-ad45-a81e84e6c740\"}, {\"name\": \"\\u6768\\u4f1f\\u98de_\\u5e94\\u4ea4\\u9ad8\\u8d28\\u91cf\\u62a5\\u544a\\u6570\", \"x\": [\"8-3\", \"8-4\", \"9-1\", \"9-2\", \"9-3\"], \"y\": [0.0, 0.0, 2.0, 1.0, 0.0], \"type\": \"scatter\", \"uid\": \"71e09080-c204-11e8-ad45-a81e84e6c740\"}, {\"name\": \"\\u6768\\u4f1f\\u98de_\\u63d0\\u4ea4\\u9ad8\\u8d28\\u91cf\\u62a5\\u544a\\u6570\", \"x\": [\"8-3\", \"8-4\", \"9-1\", \"9-2\", \"9-3\"], \"y\": [0.0, 0.0, 2.0, 1.0, 0.0], \"type\": \"scatter\", \"uid\": \"71e09256-c204-11e8-ad45-a81e84e6c740\"}, {\"name\": \"\\u9a6c\\u6f47_\\u5e94\\u4ea4\\u9ad8\\u8d28\\u91cf\\u62a5\\u544a\\u6570\", \"x\": [\"8-3\", \"8-4\", \"9-1\", \"9-2\"], \"y\": [0.0, 0.0, 0.0, 0.0], \"type\": \"scatter\", \"uid\": \"71e0942c-c204-11e8-ad45-a81e84e6c740\"}, {\"name\": \"\\u9a6c\\u6f47_\\u63d0\\u4ea4\\u9ad8\\u8d28\\u91cf\\u62a5\\u544a\\u6570\", \"x\": [\"8-3\", \"8-4\", \"9-1\", \"9-2\"], \"y\": [0.0, 0.0, 0.0, 0.0], \"type\": \"scatter\", \"uid\": \"71e09602-c204-11e8-ad45-a81e84e6c740\"}, {\"name\": \"\\u674e\\u5e86\\u539f_\\u5e94\\u4ea4\\u9ad8\\u8d28\\u91cf\\u62a5\\u544a\\u6570\", \"x\": [\"8-3\", \"8-4\", \"9-1\", \"9-2\", \"9-3\"], \"y\": [0.0, 0.0, 1.0, 0.0, 0.0], \"type\": \"scatter\", \"uid\": \"71e097d8-c204-11e8-ad45-a81e84e6c740\"}, {\"name\": \"\\u674e\\u5e86\\u539f_\\u63d0\\u4ea4\\u9ad8\\u8d28\\u91cf\\u62a5\\u544a\\u6570\", \"x\": [\"8-3\", \"8-4\", \"9-1\", \"9-2\", \"9-3\"], \"y\": [0.0, 0.0, 1.0, 0.0, 0.0], \"type\": \"scatter\", \"uid\": \"71e099a4-c204-11e8-ad45-a81e84e6c740\"}, {\"name\": \"\\u97e9\\u5c11\\u6000_\\u5e94\\u4ea4\\u9ad8\\u8d28\\u91cf\\u62a5\\u544a\\u6570\", \"x\": [\"8-3\", \"8-4\", \"9-1\", \"9-2\"], \"y\": [0.0, 1.0, 0.0, 1.0], \"type\": \"scatter\", \"uid\": \"71e09b7a-c204-11e8-ad45-a81e84e6c740\"}, {\"name\": \"\\u97e9\\u5c11\\u6000_\\u63d0\\u4ea4\\u9ad8\\u8d28\\u91cf\\u62a5\\u544a\\u6570\", \"x\": [\"8-3\", \"8-4\", \"9-1\", \"9-2\"], \"y\": [0.0, 1.0, 0.0, 1.0], \"type\": \"scatter\", \"uid\": \"71e09d50-c204-11e8-ad45-a81e84e6c740\"}, {\"name\": \"\\u8d75\\u73a5_\\u5e94\\u4ea4\\u9ad8\\u8d28\\u91cf\\u62a5\\u544a\\u6570\", \"x\": [\"8-3\", \"8-4\", \"9-1\", \"9-2\"], \"y\": [0.0, 0.0, 2.0, 1.0], \"type\": \"scatter\", \"uid\": \"71e09f1c-c204-11e8-ad45-a81e84e6c740\"}, {\"name\": \"\\u8d75\\u73a5_\\u63d0\\u4ea4\\u9ad8\\u8d28\\u91cf\\u62a5\\u544a\\u6570\", \"x\": [\"8-3\", \"8-4\", \"9-1\", \"9-2\"], \"y\": [0.0, 0.0, 2.0, 1.0], \"type\": \"scatter\", \"uid\": \"71e0a0e8-c204-11e8-ad45-a81e84e6c740\"}, {\"name\": \"\\u82cf\\u5f66\\u52cb_\\u5e94\\u4ea4\\u9ad8\\u8d28\\u91cf\\u62a5\\u544a\\u6570\", \"x\": [\"8-3\", \"8-4\", \"9-1\", \"9-2\", \"9-3\"], \"y\": [0.0, 1.0, 1.0, 0.0, 0.0], \"type\": \"scatter\", \"uid\": \"71e0a2be-c204-11e8-ad45-a81e84e6c740\"}, {\"name\": \"\\u82cf\\u5f66\\u52cb_\\u63d0\\u4ea4\\u9ad8\\u8d28\\u91cf\\u62a5\\u544a\\u6570\", \"x\": [\"8-3\", \"8-4\", \"9-1\", \"9-2\", \"9-3\"], \"y\": [0.0, 1.0, 1.0, 0.0, 0.0], \"type\": \"scatter\", \"uid\": \"71e0a5de-c204-11e8-ad45-a81e84e6c740\"}, {\"name\": \"\\u5f20\\u5b88\\u4f1f_\\u5e94\\u4ea4\\u9ad8\\u8d28\\u91cf\\u62a5\\u544a\\u6570\", \"x\": [\"8-3\", \"8-4\", \"9-1\", \"9-2\"], \"y\": [1.0, 0.0, 0.0, 0.0], \"type\": \"scatter\", \"uid\": \"71e0a7d2-c204-11e8-ad45-a81e84e6c740\"}, {\"name\": \"\\u5f20\\u5b88\\u4f1f_\\u63d0\\u4ea4\\u9ad8\\u8d28\\u91cf\\u62a5\\u544a\\u6570\", \"x\": [\"8-3\", \"8-4\", \"9-1\", \"9-2\"], \"y\": [1.0, 0.0, 0.0, 0.0], \"type\": \"scatter\", \"uid\": \"71e0aa5c-c204-11e8-ad45-a81e84e6c740\"}, {\"name\": \"\\u5468\\u6768_\\u5e94\\u4ea4\\u9ad8\\u8d28\\u91cf\\u62a5\\u544a\\u6570\", \"x\": [\"8-3\", \"8-4\", \"9-1\", \"9-2\", \"9-3\"], \"y\": [0.0, 2.0, 0.0, 0.0, 0.0], \"type\": \"scatter\", \"uid\": \"71e0ac28-c204-11e8-ad45-a81e84e6c740\"}, {\"name\": \"\\u5468\\u6768_\\u63d0\\u4ea4\\u9ad8\\u8d28\\u91cf\\u62a5\\u544a\\u6570\", \"x\": [\"8-3\", \"8-4\", \"9-1\", \"9-2\", \"9-3\"], \"y\": [0.0, 2.0, 0.0, 0.0, 0.0], \"type\": \"scatter\", \"uid\": \"71e0adf4-c204-11e8-ad45-a81e84e6c740\"}, {\"name\": \"\\u8303\\u65ed\\u5b81_\\u5e94\\u4ea4\\u9ad8\\u8d28\\u91cf\\u62a5\\u544a\\u6570\", \"x\": [\"8-3\", \"8-4\", \"9-1\", \"9-2\"], \"y\": [0.0, 0.0, 1.0, 2.0], \"type\": \"scatter\", \"uid\": \"71e0afca-c204-11e8-ad45-a81e84e6c740\"}, {\"name\": \"\\u8303\\u65ed\\u5b81_\\u63d0\\u4ea4\\u9ad8\\u8d28\\u91cf\\u62a5\\u544a\\u6570\", \"x\": [\"8-3\", \"8-4\", \"9-1\", \"9-2\"], \"y\": [0.0, 0.0, 1.0, 1.0], \"type\": \"scatter\", \"uid\": \"71e0b1a0-c204-11e8-ad45-a81e84e6c740\"}, {\"name\": \"\\u5b5f\\u660a_\\u5e94\\u4ea4\\u9ad8\\u8d28\\u91cf\\u62a5\\u544a\\u6570\", \"x\": [\"8-3\", \"8-4\", \"9-1\", \"9-2\", \"9-3\"], \"y\": [0.0, 0.0, 0.0, 0.0, 0.0], \"type\": \"scatter\", \"uid\": \"71e0b376-c204-11e8-ad45-a81e84e6c740\"}, {\"name\": \"\\u5b5f\\u660a_\\u63d0\\u4ea4\\u9ad8\\u8d28\\u91cf\\u62a5\\u544a\\u6570\", \"x\": [\"8-3\", \"8-4\", \"9-1\", \"9-2\", \"9-3\"], \"y\": [0.0, 0.0, 0.0, 0.0, 0.0], \"type\": \"scatter\", \"uid\": \"71e0b542-c204-11e8-ad45-a81e84e6c740\"}, {\"name\": \"\\u4e8e\\u52c7\\u4e00_\\u5e94\\u4ea4\\u9ad8\\u8d28\\u91cf\\u62a5\\u544a\\u6570\", \"x\": [\"8-3\", \"8-4\", \"9-1\", \"9-2\", \"9-3\"], \"y\": [0.0, 1.0, 2.0, 0.0, 0.0], \"type\": \"scatter\", \"uid\": \"71e0b70e-c204-11e8-ad45-a81e84e6c740\"}, {\"name\": \"\\u4e8e\\u52c7\\u4e00_\\u63d0\\u4ea4\\u9ad8\\u8d28\\u91cf\\u62a5\\u544a\\u6570\", \"x\": [\"8-3\", \"8-4\", \"9-1\", \"9-2\", \"9-3\"], \"y\": [0.0, 1.0, 2.0, 0.0, 0.0], \"type\": \"scatter\", \"uid\": \"71e0b8e4-c204-11e8-ad45-a81e84e6c740\"}, {\"name\": \"\\u4e8e\\u6167_\\u5e94\\u4ea4\\u9ad8\\u8d28\\u91cf\\u62a5\\u544a\\u6570\", \"x\": [\"8-3\", \"8-4\", \"9-1\", \"9-2\", \"9-3\"], \"y\": [0.0, 1.0, 0.0, 0.0, 0.0], \"type\": \"scatter\", \"uid\": \"71e0bab0-c204-11e8-ad45-a81e84e6c740\"}, {\"name\": \"\\u4e8e\\u6167_\\u63d0\\u4ea4\\u9ad8\\u8d28\\u91cf\\u62a5\\u544a\\u6570\", \"x\": [\"8-3\", \"8-4\", \"9-1\", \"9-2\", \"9-3\"], \"y\": [0.0, 1.0, 0.0, 0.0, 0.0], \"type\": \"scatter\", \"uid\": \"71e0bc90-c204-11e8-ad45-a81e84e6c740\"}, {\"name\": \"\\u5218\\u6c5f_\\u5e94\\u4ea4\\u9ad8\\u8d28\\u91cf\\u62a5\\u544a\\u6570\", \"x\": [\"8-3\", \"8-4\", \"9-1\", \"9-2\", \"9-3\"], \"y\": [0.0, 0.0, 3.0, 0.0, 0.0], \"type\": \"scatter\", \"uid\": \"71e0be5c-c204-11e8-ad45-a81e84e6c740\"}, {\"name\": \"\\u5218\\u6c5f_\\u63d0\\u4ea4\\u9ad8\\u8d28\\u91cf\\u62a5\\u544a\\u6570\", \"x\": [\"8-3\", \"8-4\", \"9-1\", \"9-2\", \"9-3\"], \"y\": [0.0, 0.0, 3.0, 0.0, 1.0], \"type\": \"scatter\", \"uid\": \"71e0c032-c204-11e8-ad45-a81e84e6c740\"}, {\"name\": \"\\u674e\\u534e\\u4e91_\\u5e94\\u4ea4\\u9ad8\\u8d28\\u91cf\\u62a5\\u544a\\u6570\", \"x\": [\"8-3\", \"8-4\", \"9-1\", \"9-2\", \"9-3\"], \"y\": [0.0, 0.0, 0.0, 0.0, 0.0], \"type\": \"scatter\", \"uid\": \"71e0c1fe-c204-11e8-ad45-a81e84e6c740\"}, {\"name\": \"\\u674e\\u534e\\u4e91_\\u63d0\\u4ea4\\u9ad8\\u8d28\\u91cf\\u62a5\\u544a\\u6570\", \"x\": [\"8-3\", \"8-4\", \"9-1\", \"9-2\", \"9-3\"], \"y\": [0.0, 0.0, 0.0, 0.0, 0.0], \"type\": \"scatter\", \"uid\": \"71e0c3d4-c204-11e8-ad45-a81e84e6c740\"}, {\"name\": \"\\u8c22\\u5fb7\\u5065_\\u5e94\\u4ea4\\u9ad8\\u8d28\\u91cf\\u62a5\\u544a\\u6570\", \"x\": [\"8-3\", \"8-4\", \"9-2\", \"9-3\"], \"y\": [0.0, 0.0, 2.0, 4.0], \"type\": \"scatter\", \"uid\": \"71e0c5aa-c204-11e8-ad45-a81e84e6c740\"}, {\"name\": \"\\u8c22\\u5fb7\\u5065_\\u63d0\\u4ea4\\u9ad8\\u8d28\\u91cf\\u62a5\\u544a\\u6570\", \"x\": [\"8-3\", \"8-4\", \"9-2\", \"9-3\"], \"y\": [0.0, 0.0, 1.0, 4.0], \"type\": \"scatter\", \"uid\": \"71e0c780-c204-11e8-ad45-a81e84e6c740\"}, {\"name\": \"\\u4efb\\u96ea_\\u5e94\\u4ea4\\u9ad8\\u8d28\\u91cf\\u62a5\\u544a\\u6570\", \"x\": [\"8-4\", \"9-1\", \"9-2\", \"9-3\"], \"y\": [0.0, 2.0, 0.0, 0.0], \"type\": \"scatter\", \"uid\": \"71e0c956-c204-11e8-ad45-a81e84e6c740\"}, {\"name\": \"\\u4efb\\u96ea_\\u63d0\\u4ea4\\u9ad8\\u8d28\\u91cf\\u62a5\\u544a\\u6570\", \"x\": [\"8-4\", \"9-1\", \"9-2\", \"9-3\"], \"y\": [0.0, 2.0, 0.0, 0.0], \"type\": \"scatter\", \"uid\": \"71e0cc1c-c204-11e8-ad45-a81e84e6c740\"}],\n",
       "            {\"title\": \"\\u5e94\\u4ea4\\u9ad8\\u8d28\\u91cf\\u62a5\\u544a\\u6570&\\u63d0\\u4ea4\\u9ad8\\u8d28\\u91cf\\u62a5\\u544a\\u6570\\u5468\\u8d8b\\u52bf\\u56fe\", \"xaxis\": {\"mirror\": \"all\", \"nticks\": 20, \"showgrid\": true, \"showline\": true, \"title\": \"\\u5468\", \"zeroline\": true}, \"yaxis\": {\"mirror\": \"all\", \"nticks\": 20, \"showgrid\": true, \"showline\": true, \"title\": \"\\u5e94\\u4ea4\\u9ad8\\u8d28\\u91cf\\u62a5\\u544a\\u6570&\\u63d0\\u4ea4\\u9ad8\\u8d28\\u91cf\\u62a5\\u544a\\u6570\", \"zeroline\": true}},\n",
       "            {\"showLink\": true, \"linkText\": \"Export to plot.ly\"}\n",
       "        ).then(function () {return Plotly.addFrames('2091d483-836b-468d-8a01-ca9efb9c67c3',{});}).then(function(){Plotly.animate('2091d483-836b-468d-8a01-ca9efb9c67c3');})\n",
       "        });</script>"
      ]
     },
     "metadata": {},
     "output_type": "display_data"
    },
    {
     "data": {
      "application/vnd.plotly.v1+json": {
       "data": [
        {
         "name": "于勇一_应交高质量报告数",
         "type": "scatter",
         "uid": "7250017c-c204-11e8-ad45-a81e84e6c740",
         "x": [
          "8",
          "9"
         ],
         "y": [
          1,
          2
         ]
        },
        {
         "name": "于勇一_提交高质量报告数",
         "type": "scatter",
         "uid": "7250053c-c204-11e8-ad45-a81e84e6c740",
         "x": [
          "8",
          "9"
         ],
         "y": [
          1,
          2
         ]
        },
        {
         "name": "于慧_应交高质量报告数",
         "type": "scatter",
         "uid": "7250078a-c204-11e8-ad45-a81e84e6c740",
         "x": [
          "8",
          "9"
         ],
         "y": [
          1,
          0
         ]
        },
        {
         "name": "于慧_提交高质量报告数",
         "type": "scatter",
         "uid": "7250099c-c204-11e8-ad45-a81e84e6c740",
         "x": [
          "8",
          "9"
         ],
         "y": [
          1,
          0
         ]
        },
        {
         "name": "任雪_应交高质量报告数",
         "type": "scatter",
         "uid": "72500bd6-c204-11e8-ad45-a81e84e6c740",
         "x": [
          "8",
          "9"
         ],
         "y": [
          null,
          2
         ]
        },
        {
         "name": "任雪_提交高质量报告数",
         "type": "scatter",
         "uid": "72500e10-c204-11e8-ad45-a81e84e6c740",
         "x": [
          "8",
          "9"
         ],
         "y": [
          null,
          2
         ]
        },
        {
         "name": "刘慧玲_应交高质量报告数",
         "type": "scatter",
         "uid": "72501004-c204-11e8-ad45-a81e84e6c740",
         "x": [
          "8",
          "9"
         ],
         "y": [
          2,
          null
         ]
        },
        {
         "name": "刘慧玲_提交高质量报告数",
         "type": "scatter",
         "uid": "725011ee-c204-11e8-ad45-a81e84e6c740",
         "x": [
          "8",
          "9"
         ],
         "y": [
          2,
          null
         ]
        },
        {
         "name": "刘江_应交高质量报告数",
         "type": "scatter",
         "uid": "725013e2-c204-11e8-ad45-a81e84e6c740",
         "x": [
          "8",
          "9"
         ],
         "y": [
          0,
          3
         ]
        },
        {
         "name": "刘江_提交高质量报告数",
         "type": "scatter",
         "uid": "72501608-c204-11e8-ad45-a81e84e6c740",
         "x": [
          "8",
          "9"
         ],
         "y": [
          0,
          4
         ]
        },
        {
         "name": "占伟_应交高质量报告数",
         "type": "scatter",
         "uid": "725017f2-c204-11e8-ad45-a81e84e6c740",
         "x": [
          "8",
          "9"
         ],
         "y": [
          1,
          null
         ]
        },
        {
         "name": "占伟_提交高质量报告数",
         "type": "scatter",
         "uid": "725019e6-c204-11e8-ad45-a81e84e6c740",
         "x": [
          "8",
          "9"
         ],
         "y": [
          1,
          null
         ]
        },
        {
         "name": "周杨_应交高质量报告数",
         "type": "scatter",
         "uid": "72501bda-c204-11e8-ad45-a81e84e6c740",
         "x": [
          "8",
          "9"
         ],
         "y": [
          2,
          0
         ]
        },
        {
         "name": "周杨_提交高质量报告数",
         "type": "scatter",
         "uid": "72501dc4-c204-11e8-ad45-a81e84e6c740",
         "x": [
          "8",
          "9"
         ],
         "y": [
          2,
          0
         ]
        },
        {
         "name": "姚盟成_应交高质量报告数",
         "type": "scatter",
         "uid": "72501fae-c204-11e8-ad45-a81e84e6c740",
         "x": [
          "8",
          "9"
         ],
         "y": [
          2,
          1
         ]
        },
        {
         "name": "姚盟成_提交高质量报告数",
         "type": "scatter",
         "uid": "725021a2-c204-11e8-ad45-a81e84e6c740",
         "x": [
          "8",
          "9"
         ],
         "y": [
          2,
          1
         ]
        },
        {
         "name": "孟昊_应交高质量报告数",
         "type": "scatter",
         "uid": "72502396-c204-11e8-ad45-a81e84e6c740",
         "x": [
          "8",
          "9"
         ],
         "y": [
          0,
          0
         ]
        },
        {
         "name": "孟昊_提交高质量报告数",
         "type": "scatter",
         "uid": "72502580-c204-11e8-ad45-a81e84e6c740",
         "x": [
          "8",
          "9"
         ],
         "y": [
          0,
          0
         ]
        },
        {
         "name": "宋迎楠_应交高质量报告数",
         "type": "scatter",
         "uid": "72502774-c204-11e8-ad45-a81e84e6c740",
         "x": [
          "8",
          "9"
         ],
         "y": [
          2,
          null
         ]
        },
        {
         "name": "宋迎楠_提交高质量报告数",
         "type": "scatter",
         "uid": "7250295e-c204-11e8-ad45-a81e84e6c740",
         "x": [
          "8",
          "9"
         ],
         "y": [
          2,
          null
         ]
        },
        {
         "name": "封彦杰_应交高质量报告数",
         "type": "scatter",
         "uid": "72502b48-c204-11e8-ad45-a81e84e6c740",
         "x": [
          "8",
          "9"
         ],
         "y": [
          0,
          1
         ]
        },
        {
         "name": "封彦杰_提交高质量报告数",
         "type": "scatter",
         "uid": "72502d28-c204-11e8-ad45-a81e84e6c740",
         "x": [
          "8",
          "9"
         ],
         "y": [
          0,
          1
         ]
        },
        {
         "name": "张守伟_应交高质量报告数",
         "type": "scatter",
         "uid": "72502f1c-c204-11e8-ad45-a81e84e6c740",
         "x": [
          "8",
          "9"
         ],
         "y": [
          1,
          null
         ]
        },
        {
         "name": "张守伟_提交高质量报告数",
         "type": "scatter",
         "uid": "72503106-c204-11e8-ad45-a81e84e6c740",
         "x": [
          "8",
          "9"
         ],
         "y": [
          1,
          null
         ]
        },
        {
         "name": "李华云_应交高质量报告数",
         "type": "scatter",
         "uid": "7250332c-c204-11e8-ad45-a81e84e6c740",
         "x": [
          "8",
          "9"
         ],
         "y": [
          0,
          0
         ]
        },
        {
         "name": "李华云_提交高质量报告数",
         "type": "scatter",
         "uid": "72503516-c204-11e8-ad45-a81e84e6c740",
         "x": [
          "8",
          "9"
         ],
         "y": [
          0,
          0
         ]
        },
        {
         "name": "李庆原_应交高质量报告数",
         "type": "scatter",
         "uid": "7250370a-c204-11e8-ad45-a81e84e6c740",
         "x": [
          "8",
          "9"
         ],
         "y": [
          0,
          1
         ]
        },
        {
         "name": "李庆原_提交高质量报告数",
         "type": "scatter",
         "uid": "725038f4-c204-11e8-ad45-a81e84e6c740",
         "x": [
          "8",
          "9"
         ],
         "y": [
          0,
          1
         ]
        },
        {
         "name": "杨伟飞_应交高质量报告数",
         "type": "scatter",
         "uid": "72503ae8-c204-11e8-ad45-a81e84e6c740",
         "x": [
          "8",
          "9"
         ],
         "y": [
          0,
          3
         ]
        },
        {
         "name": "杨伟飞_提交高质量报告数",
         "type": "scatter",
         "uid": "72503cd2-c204-11e8-ad45-a81e84e6c740",
         "x": [
          "8",
          "9"
         ],
         "y": [
          0,
          3
         ]
        },
        {
         "name": "王宁_应交高质量报告数",
         "type": "scatter",
         "uid": "72503ebc-c204-11e8-ad45-a81e84e6c740",
         "x": [
          "8",
          "9"
         ],
         "y": [
          1,
          null
         ]
        },
        {
         "name": "王宁_提交高质量报告数",
         "type": "scatter",
         "uid": "725040a6-c204-11e8-ad45-a81e84e6c740",
         "x": [
          "8",
          "9"
         ],
         "y": [
          1,
          null
         ]
        },
        {
         "name": "苏彦勋_应交高质量报告数",
         "type": "scatter",
         "uid": "72504290-c204-11e8-ad45-a81e84e6c740",
         "x": [
          "8",
          "9"
         ],
         "y": [
          1,
          1
         ]
        },
        {
         "name": "苏彦勋_提交高质量报告数",
         "type": "scatter",
         "uid": "72504470-c204-11e8-ad45-a81e84e6c740",
         "x": [
          "8",
          "9"
         ],
         "y": [
          1,
          1
         ]
        },
        {
         "name": "范旭宁_应交高质量报告数",
         "type": "scatter",
         "uid": "7250466e-c204-11e8-ad45-a81e84e6c740",
         "x": [
          "8",
          "9"
         ],
         "y": [
          0,
          null
         ]
        },
        {
         "name": "范旭宁_提交高质量报告数",
         "type": "scatter",
         "uid": "7250484e-c204-11e8-ad45-a81e84e6c740",
         "x": [
          "8",
          "9"
         ],
         "y": [
          0,
          null
         ]
        },
        {
         "name": "谢德健_应交高质量报告数",
         "type": "scatter",
         "uid": "72504a2e-c204-11e8-ad45-a81e84e6c740",
         "x": [
          "8",
          "9"
         ],
         "y": [
          0,
          null
         ]
        },
        {
         "name": "谢德健_提交高质量报告数",
         "type": "scatter",
         "uid": "72504c18-c204-11e8-ad45-a81e84e6c740",
         "x": [
          "8",
          "9"
         ],
         "y": [
          0,
          null
         ]
        },
        {
         "name": "赵玥_应交高质量报告数",
         "type": "scatter",
         "uid": "72504e2a-c204-11e8-ad45-a81e84e6c740",
         "x": [
          "8",
          "9"
         ],
         "y": [
          0,
          null
         ]
        },
        {
         "name": "赵玥_提交高质量报告数",
         "type": "scatter",
         "uid": "7250500a-c204-11e8-ad45-a81e84e6c740",
         "x": [
          "8",
          "9"
         ],
         "y": [
          0,
          null
         ]
        },
        {
         "name": "路慧萍_应交高质量报告数",
         "type": "scatter",
         "uid": "725051ea-c204-11e8-ad45-a81e84e6c740",
         "x": [
          "8",
          "9"
         ],
         "y": [
          1,
          0
         ]
        },
        {
         "name": "路慧萍_提交高质量报告数",
         "type": "scatter",
         "uid": "725053ca-c204-11e8-ad45-a81e84e6c740",
         "x": [
          "8",
          "9"
         ],
         "y": [
          1,
          0
         ]
        },
        {
         "name": "韩少怀_应交高质量报告数",
         "type": "scatter",
         "uid": "725055aa-c204-11e8-ad45-a81e84e6c740",
         "x": [
          "8",
          "9"
         ],
         "y": [
          1,
          null
         ]
        },
        {
         "name": "韩少怀_提交高质量报告数",
         "type": "scatter",
         "uid": "725057b2-c204-11e8-ad45-a81e84e6c740",
         "x": [
          "8",
          "9"
         ],
         "y": [
          1,
          null
         ]
        },
        {
         "name": "马潇_应交高质量报告数",
         "type": "scatter",
         "uid": "725059c4-c204-11e8-ad45-a81e84e6c740",
         "x": [
          "8",
          "9"
         ],
         "y": [
          0,
          null
         ]
        },
        {
         "name": "马潇_提交高质量报告数",
         "type": "scatter",
         "uid": "72505bae-c204-11e8-ad45-a81e84e6c740",
         "x": [
          "8",
          "9"
         ],
         "y": [
          0,
          null
         ]
        }
       ],
       "layout": {
        "title": "应交高质量报告数&提交高质量报告数月趋势图",
        "xaxis": {
         "mirror": "all",
         "nticks": 20,
         "showgrid": true,
         "showline": true,
         "title": "月",
         "zeroline": true
        },
        "yaxis": {
         "mirror": "all",
         "nticks": 20,
         "showgrid": true,
         "showline": true,
         "title": "应交高质量报告数&提交高质量报告数",
         "zeroline": true
        }
       }
      },
      "text/html": [
       "<div id=\"0a0e308e-71f7-43d0-b700-66a4d00486c0\" style=\"height: 525px; width: 100%;\" class=\"plotly-graph-div\"></div><script type=\"text/javascript\">require([\"plotly\"], function(Plotly) { window.PLOTLYENV=window.PLOTLYENV || {};window.PLOTLYENV.BASE_URL=\"https://plot.ly\";\n",
       "        Plotly.plot(\n",
       "            '0a0e308e-71f7-43d0-b700-66a4d00486c0',\n",
       "            [{\"name\": \"\\u4e8e\\u52c7\\u4e00_\\u5e94\\u4ea4\\u9ad8\\u8d28\\u91cf\\u62a5\\u544a\\u6570\", \"x\": [\"8\", \"9\"], \"y\": [1.0, 2.0], \"type\": \"scatter\", \"uid\": \"7250017c-c204-11e8-ad45-a81e84e6c740\"}, {\"name\": \"\\u4e8e\\u52c7\\u4e00_\\u63d0\\u4ea4\\u9ad8\\u8d28\\u91cf\\u62a5\\u544a\\u6570\", \"x\": [\"8\", \"9\"], \"y\": [1.0, 2.0], \"type\": \"scatter\", \"uid\": \"7250053c-c204-11e8-ad45-a81e84e6c740\"}, {\"name\": \"\\u4e8e\\u6167_\\u5e94\\u4ea4\\u9ad8\\u8d28\\u91cf\\u62a5\\u544a\\u6570\", \"x\": [\"8\", \"9\"], \"y\": [1.0, 0.0], \"type\": \"scatter\", \"uid\": \"7250078a-c204-11e8-ad45-a81e84e6c740\"}, {\"name\": \"\\u4e8e\\u6167_\\u63d0\\u4ea4\\u9ad8\\u8d28\\u91cf\\u62a5\\u544a\\u6570\", \"x\": [\"8\", \"9\"], \"y\": [1.0, 0.0], \"type\": \"scatter\", \"uid\": \"7250099c-c204-11e8-ad45-a81e84e6c740\"}, {\"name\": \"\\u4efb\\u96ea_\\u5e94\\u4ea4\\u9ad8\\u8d28\\u91cf\\u62a5\\u544a\\u6570\", \"x\": [\"8\", \"9\"], \"y\": [null, 2.0], \"type\": \"scatter\", \"uid\": \"72500bd6-c204-11e8-ad45-a81e84e6c740\"}, {\"name\": \"\\u4efb\\u96ea_\\u63d0\\u4ea4\\u9ad8\\u8d28\\u91cf\\u62a5\\u544a\\u6570\", \"x\": [\"8\", \"9\"], \"y\": [null, 2.0], \"type\": \"scatter\", \"uid\": \"72500e10-c204-11e8-ad45-a81e84e6c740\"}, {\"name\": \"\\u5218\\u6167\\u73b2_\\u5e94\\u4ea4\\u9ad8\\u8d28\\u91cf\\u62a5\\u544a\\u6570\", \"x\": [\"8\", \"9\"], \"y\": [2.0, null], \"type\": \"scatter\", \"uid\": \"72501004-c204-11e8-ad45-a81e84e6c740\"}, {\"name\": \"\\u5218\\u6167\\u73b2_\\u63d0\\u4ea4\\u9ad8\\u8d28\\u91cf\\u62a5\\u544a\\u6570\", \"x\": [\"8\", \"9\"], \"y\": [2.0, null], \"type\": \"scatter\", \"uid\": \"725011ee-c204-11e8-ad45-a81e84e6c740\"}, {\"name\": \"\\u5218\\u6c5f_\\u5e94\\u4ea4\\u9ad8\\u8d28\\u91cf\\u62a5\\u544a\\u6570\", \"x\": [\"8\", \"9\"], \"y\": [0.0, 3.0], \"type\": \"scatter\", \"uid\": \"725013e2-c204-11e8-ad45-a81e84e6c740\"}, {\"name\": \"\\u5218\\u6c5f_\\u63d0\\u4ea4\\u9ad8\\u8d28\\u91cf\\u62a5\\u544a\\u6570\", \"x\": [\"8\", \"9\"], \"y\": [0.0, 4.0], \"type\": \"scatter\", \"uid\": \"72501608-c204-11e8-ad45-a81e84e6c740\"}, {\"name\": \"\\u5360\\u4f1f_\\u5e94\\u4ea4\\u9ad8\\u8d28\\u91cf\\u62a5\\u544a\\u6570\", \"x\": [\"8\", \"9\"], \"y\": [1.0, null], \"type\": \"scatter\", \"uid\": \"725017f2-c204-11e8-ad45-a81e84e6c740\"}, {\"name\": \"\\u5360\\u4f1f_\\u63d0\\u4ea4\\u9ad8\\u8d28\\u91cf\\u62a5\\u544a\\u6570\", \"x\": [\"8\", \"9\"], \"y\": [1.0, null], \"type\": \"scatter\", \"uid\": \"725019e6-c204-11e8-ad45-a81e84e6c740\"}, {\"name\": \"\\u5468\\u6768_\\u5e94\\u4ea4\\u9ad8\\u8d28\\u91cf\\u62a5\\u544a\\u6570\", \"x\": [\"8\", \"9\"], \"y\": [2.0, 0.0], \"type\": \"scatter\", \"uid\": \"72501bda-c204-11e8-ad45-a81e84e6c740\"}, {\"name\": \"\\u5468\\u6768_\\u63d0\\u4ea4\\u9ad8\\u8d28\\u91cf\\u62a5\\u544a\\u6570\", \"x\": [\"8\", \"9\"], \"y\": [2.0, 0.0], \"type\": \"scatter\", \"uid\": \"72501dc4-c204-11e8-ad45-a81e84e6c740\"}, {\"name\": \"\\u59da\\u76df\\u6210_\\u5e94\\u4ea4\\u9ad8\\u8d28\\u91cf\\u62a5\\u544a\\u6570\", \"x\": [\"8\", \"9\"], \"y\": [2.0, 1.0], \"type\": \"scatter\", \"uid\": \"72501fae-c204-11e8-ad45-a81e84e6c740\"}, {\"name\": \"\\u59da\\u76df\\u6210_\\u63d0\\u4ea4\\u9ad8\\u8d28\\u91cf\\u62a5\\u544a\\u6570\", \"x\": [\"8\", \"9\"], \"y\": [2.0, 1.0], \"type\": \"scatter\", \"uid\": \"725021a2-c204-11e8-ad45-a81e84e6c740\"}, {\"name\": \"\\u5b5f\\u660a_\\u5e94\\u4ea4\\u9ad8\\u8d28\\u91cf\\u62a5\\u544a\\u6570\", \"x\": [\"8\", \"9\"], \"y\": [0.0, 0.0], \"type\": \"scatter\", \"uid\": \"72502396-c204-11e8-ad45-a81e84e6c740\"}, {\"name\": \"\\u5b5f\\u660a_\\u63d0\\u4ea4\\u9ad8\\u8d28\\u91cf\\u62a5\\u544a\\u6570\", \"x\": [\"8\", \"9\"], \"y\": [0.0, 0.0], \"type\": \"scatter\", \"uid\": \"72502580-c204-11e8-ad45-a81e84e6c740\"}, {\"name\": \"\\u5b8b\\u8fce\\u6960_\\u5e94\\u4ea4\\u9ad8\\u8d28\\u91cf\\u62a5\\u544a\\u6570\", \"x\": [\"8\", \"9\"], \"y\": [2.0, null], \"type\": \"scatter\", \"uid\": \"72502774-c204-11e8-ad45-a81e84e6c740\"}, {\"name\": \"\\u5b8b\\u8fce\\u6960_\\u63d0\\u4ea4\\u9ad8\\u8d28\\u91cf\\u62a5\\u544a\\u6570\", \"x\": [\"8\", \"9\"], \"y\": [2.0, null], \"type\": \"scatter\", \"uid\": \"7250295e-c204-11e8-ad45-a81e84e6c740\"}, {\"name\": \"\\u5c01\\u5f66\\u6770_\\u5e94\\u4ea4\\u9ad8\\u8d28\\u91cf\\u62a5\\u544a\\u6570\", \"x\": [\"8\", \"9\"], \"y\": [0.0, 1.0], \"type\": \"scatter\", \"uid\": \"72502b48-c204-11e8-ad45-a81e84e6c740\"}, {\"name\": \"\\u5c01\\u5f66\\u6770_\\u63d0\\u4ea4\\u9ad8\\u8d28\\u91cf\\u62a5\\u544a\\u6570\", \"x\": [\"8\", \"9\"], \"y\": [0.0, 1.0], \"type\": \"scatter\", \"uid\": \"72502d28-c204-11e8-ad45-a81e84e6c740\"}, {\"name\": \"\\u5f20\\u5b88\\u4f1f_\\u5e94\\u4ea4\\u9ad8\\u8d28\\u91cf\\u62a5\\u544a\\u6570\", \"x\": [\"8\", \"9\"], \"y\": [1.0, null], \"type\": \"scatter\", \"uid\": \"72502f1c-c204-11e8-ad45-a81e84e6c740\"}, {\"name\": \"\\u5f20\\u5b88\\u4f1f_\\u63d0\\u4ea4\\u9ad8\\u8d28\\u91cf\\u62a5\\u544a\\u6570\", \"x\": [\"8\", \"9\"], \"y\": [1.0, null], \"type\": \"scatter\", \"uid\": \"72503106-c204-11e8-ad45-a81e84e6c740\"}, {\"name\": \"\\u674e\\u534e\\u4e91_\\u5e94\\u4ea4\\u9ad8\\u8d28\\u91cf\\u62a5\\u544a\\u6570\", \"x\": [\"8\", \"9\"], \"y\": [0.0, 0.0], \"type\": \"scatter\", \"uid\": \"7250332c-c204-11e8-ad45-a81e84e6c740\"}, {\"name\": \"\\u674e\\u534e\\u4e91_\\u63d0\\u4ea4\\u9ad8\\u8d28\\u91cf\\u62a5\\u544a\\u6570\", \"x\": [\"8\", \"9\"], \"y\": [0.0, 0.0], \"type\": \"scatter\", \"uid\": \"72503516-c204-11e8-ad45-a81e84e6c740\"}, {\"name\": \"\\u674e\\u5e86\\u539f_\\u5e94\\u4ea4\\u9ad8\\u8d28\\u91cf\\u62a5\\u544a\\u6570\", \"x\": [\"8\", \"9\"], \"y\": [0.0, 1.0], \"type\": \"scatter\", \"uid\": \"7250370a-c204-11e8-ad45-a81e84e6c740\"}, {\"name\": \"\\u674e\\u5e86\\u539f_\\u63d0\\u4ea4\\u9ad8\\u8d28\\u91cf\\u62a5\\u544a\\u6570\", \"x\": [\"8\", \"9\"], \"y\": [0.0, 1.0], \"type\": \"scatter\", \"uid\": \"725038f4-c204-11e8-ad45-a81e84e6c740\"}, {\"name\": \"\\u6768\\u4f1f\\u98de_\\u5e94\\u4ea4\\u9ad8\\u8d28\\u91cf\\u62a5\\u544a\\u6570\", \"x\": [\"8\", \"9\"], \"y\": [0.0, 3.0], \"type\": \"scatter\", \"uid\": \"72503ae8-c204-11e8-ad45-a81e84e6c740\"}, {\"name\": \"\\u6768\\u4f1f\\u98de_\\u63d0\\u4ea4\\u9ad8\\u8d28\\u91cf\\u62a5\\u544a\\u6570\", \"x\": [\"8\", \"9\"], \"y\": [0.0, 3.0], \"type\": \"scatter\", \"uid\": \"72503cd2-c204-11e8-ad45-a81e84e6c740\"}, {\"name\": \"\\u738b\\u5b81_\\u5e94\\u4ea4\\u9ad8\\u8d28\\u91cf\\u62a5\\u544a\\u6570\", \"x\": [\"8\", \"9\"], \"y\": [1.0, null], \"type\": \"scatter\", \"uid\": \"72503ebc-c204-11e8-ad45-a81e84e6c740\"}, {\"name\": \"\\u738b\\u5b81_\\u63d0\\u4ea4\\u9ad8\\u8d28\\u91cf\\u62a5\\u544a\\u6570\", \"x\": [\"8\", \"9\"], \"y\": [1.0, null], \"type\": \"scatter\", \"uid\": \"725040a6-c204-11e8-ad45-a81e84e6c740\"}, {\"name\": \"\\u82cf\\u5f66\\u52cb_\\u5e94\\u4ea4\\u9ad8\\u8d28\\u91cf\\u62a5\\u544a\\u6570\", \"x\": [\"8\", \"9\"], \"y\": [1.0, 1.0], \"type\": \"scatter\", \"uid\": \"72504290-c204-11e8-ad45-a81e84e6c740\"}, {\"name\": \"\\u82cf\\u5f66\\u52cb_\\u63d0\\u4ea4\\u9ad8\\u8d28\\u91cf\\u62a5\\u544a\\u6570\", \"x\": [\"8\", \"9\"], \"y\": [1.0, 1.0], \"type\": \"scatter\", \"uid\": \"72504470-c204-11e8-ad45-a81e84e6c740\"}, {\"name\": \"\\u8303\\u65ed\\u5b81_\\u5e94\\u4ea4\\u9ad8\\u8d28\\u91cf\\u62a5\\u544a\\u6570\", \"x\": [\"8\", \"9\"], \"y\": [0.0, null], \"type\": \"scatter\", \"uid\": \"7250466e-c204-11e8-ad45-a81e84e6c740\"}, {\"name\": \"\\u8303\\u65ed\\u5b81_\\u63d0\\u4ea4\\u9ad8\\u8d28\\u91cf\\u62a5\\u544a\\u6570\", \"x\": [\"8\", \"9\"], \"y\": [0.0, null], \"type\": \"scatter\", \"uid\": \"7250484e-c204-11e8-ad45-a81e84e6c740\"}, {\"name\": \"\\u8c22\\u5fb7\\u5065_\\u5e94\\u4ea4\\u9ad8\\u8d28\\u91cf\\u62a5\\u544a\\u6570\", \"x\": [\"8\", \"9\"], \"y\": [0.0, null], \"type\": \"scatter\", \"uid\": \"72504a2e-c204-11e8-ad45-a81e84e6c740\"}, {\"name\": \"\\u8c22\\u5fb7\\u5065_\\u63d0\\u4ea4\\u9ad8\\u8d28\\u91cf\\u62a5\\u544a\\u6570\", \"x\": [\"8\", \"9\"], \"y\": [0.0, null], \"type\": \"scatter\", \"uid\": \"72504c18-c204-11e8-ad45-a81e84e6c740\"}, {\"name\": \"\\u8d75\\u73a5_\\u5e94\\u4ea4\\u9ad8\\u8d28\\u91cf\\u62a5\\u544a\\u6570\", \"x\": [\"8\", \"9\"], \"y\": [0.0, null], \"type\": \"scatter\", \"uid\": \"72504e2a-c204-11e8-ad45-a81e84e6c740\"}, {\"name\": \"\\u8d75\\u73a5_\\u63d0\\u4ea4\\u9ad8\\u8d28\\u91cf\\u62a5\\u544a\\u6570\", \"x\": [\"8\", \"9\"], \"y\": [0.0, null], \"type\": \"scatter\", \"uid\": \"7250500a-c204-11e8-ad45-a81e84e6c740\"}, {\"name\": \"\\u8def\\u6167\\u840d_\\u5e94\\u4ea4\\u9ad8\\u8d28\\u91cf\\u62a5\\u544a\\u6570\", \"x\": [\"8\", \"9\"], \"y\": [1.0, 0.0], \"type\": \"scatter\", \"uid\": \"725051ea-c204-11e8-ad45-a81e84e6c740\"}, {\"name\": \"\\u8def\\u6167\\u840d_\\u63d0\\u4ea4\\u9ad8\\u8d28\\u91cf\\u62a5\\u544a\\u6570\", \"x\": [\"8\", \"9\"], \"y\": [1.0, 0.0], \"type\": \"scatter\", \"uid\": \"725053ca-c204-11e8-ad45-a81e84e6c740\"}, {\"name\": \"\\u97e9\\u5c11\\u6000_\\u5e94\\u4ea4\\u9ad8\\u8d28\\u91cf\\u62a5\\u544a\\u6570\", \"x\": [\"8\", \"9\"], \"y\": [1.0, null], \"type\": \"scatter\", \"uid\": \"725055aa-c204-11e8-ad45-a81e84e6c740\"}, {\"name\": \"\\u97e9\\u5c11\\u6000_\\u63d0\\u4ea4\\u9ad8\\u8d28\\u91cf\\u62a5\\u544a\\u6570\", \"x\": [\"8\", \"9\"], \"y\": [1.0, null], \"type\": \"scatter\", \"uid\": \"725057b2-c204-11e8-ad45-a81e84e6c740\"}, {\"name\": \"\\u9a6c\\u6f47_\\u5e94\\u4ea4\\u9ad8\\u8d28\\u91cf\\u62a5\\u544a\\u6570\", \"x\": [\"8\", \"9\"], \"y\": [0.0, null], \"type\": \"scatter\", \"uid\": \"725059c4-c204-11e8-ad45-a81e84e6c740\"}, {\"name\": \"\\u9a6c\\u6f47_\\u63d0\\u4ea4\\u9ad8\\u8d28\\u91cf\\u62a5\\u544a\\u6570\", \"x\": [\"8\", \"9\"], \"y\": [0.0, null], \"type\": \"scatter\", \"uid\": \"72505bae-c204-11e8-ad45-a81e84e6c740\"}],\n",
       "            {\"title\": \"\\u5e94\\u4ea4\\u9ad8\\u8d28\\u91cf\\u62a5\\u544a\\u6570&\\u63d0\\u4ea4\\u9ad8\\u8d28\\u91cf\\u62a5\\u544a\\u6570\\u6708\\u8d8b\\u52bf\\u56fe\", \"xaxis\": {\"mirror\": \"all\", \"nticks\": 20, \"showgrid\": true, \"showline\": true, \"title\": \"\\u6708\", \"zeroline\": true}, \"yaxis\": {\"mirror\": \"all\", \"nticks\": 20, \"showgrid\": true, \"showline\": true, \"title\": \"\\u5e94\\u4ea4\\u9ad8\\u8d28\\u91cf\\u62a5\\u544a\\u6570&\\u63d0\\u4ea4\\u9ad8\\u8d28\\u91cf\\u62a5\\u544a\\u6570\", \"zeroline\": true}},\n",
       "            {\"showLink\": true, \"linkText\": \"Export to plot.ly\"}\n",
       "        ).then(function () {return Plotly.addFrames('0a0e308e-71f7-43d0-b700-66a4d00486c0',{});}).then(function(){Plotly.animate('0a0e308e-71f7-43d0-b700-66a4d00486c0');})\n",
       "        });</script>"
      ],
      "text/vnd.plotly.v1+html": [
       "<div id=\"0a0e308e-71f7-43d0-b700-66a4d00486c0\" style=\"height: 525px; width: 100%;\" class=\"plotly-graph-div\"></div><script type=\"text/javascript\">require([\"plotly\"], function(Plotly) { window.PLOTLYENV=window.PLOTLYENV || {};window.PLOTLYENV.BASE_URL=\"https://plot.ly\";\n",
       "        Plotly.plot(\n",
       "            '0a0e308e-71f7-43d0-b700-66a4d00486c0',\n",
       "            [{\"name\": \"\\u4e8e\\u52c7\\u4e00_\\u5e94\\u4ea4\\u9ad8\\u8d28\\u91cf\\u62a5\\u544a\\u6570\", \"x\": [\"8\", \"9\"], \"y\": [1.0, 2.0], \"type\": \"scatter\", \"uid\": \"7250017c-c204-11e8-ad45-a81e84e6c740\"}, {\"name\": \"\\u4e8e\\u52c7\\u4e00_\\u63d0\\u4ea4\\u9ad8\\u8d28\\u91cf\\u62a5\\u544a\\u6570\", \"x\": [\"8\", \"9\"], \"y\": [1.0, 2.0], \"type\": \"scatter\", \"uid\": \"7250053c-c204-11e8-ad45-a81e84e6c740\"}, {\"name\": \"\\u4e8e\\u6167_\\u5e94\\u4ea4\\u9ad8\\u8d28\\u91cf\\u62a5\\u544a\\u6570\", \"x\": [\"8\", \"9\"], \"y\": [1.0, 0.0], \"type\": \"scatter\", \"uid\": \"7250078a-c204-11e8-ad45-a81e84e6c740\"}, {\"name\": \"\\u4e8e\\u6167_\\u63d0\\u4ea4\\u9ad8\\u8d28\\u91cf\\u62a5\\u544a\\u6570\", \"x\": [\"8\", \"9\"], \"y\": [1.0, 0.0], \"type\": \"scatter\", \"uid\": \"7250099c-c204-11e8-ad45-a81e84e6c740\"}, {\"name\": \"\\u4efb\\u96ea_\\u5e94\\u4ea4\\u9ad8\\u8d28\\u91cf\\u62a5\\u544a\\u6570\", \"x\": [\"8\", \"9\"], \"y\": [null, 2.0], \"type\": \"scatter\", \"uid\": \"72500bd6-c204-11e8-ad45-a81e84e6c740\"}, {\"name\": \"\\u4efb\\u96ea_\\u63d0\\u4ea4\\u9ad8\\u8d28\\u91cf\\u62a5\\u544a\\u6570\", \"x\": [\"8\", \"9\"], \"y\": [null, 2.0], \"type\": \"scatter\", \"uid\": \"72500e10-c204-11e8-ad45-a81e84e6c740\"}, {\"name\": \"\\u5218\\u6167\\u73b2_\\u5e94\\u4ea4\\u9ad8\\u8d28\\u91cf\\u62a5\\u544a\\u6570\", \"x\": [\"8\", \"9\"], \"y\": [2.0, null], \"type\": \"scatter\", \"uid\": \"72501004-c204-11e8-ad45-a81e84e6c740\"}, {\"name\": \"\\u5218\\u6167\\u73b2_\\u63d0\\u4ea4\\u9ad8\\u8d28\\u91cf\\u62a5\\u544a\\u6570\", \"x\": [\"8\", \"9\"], \"y\": [2.0, null], \"type\": \"scatter\", \"uid\": \"725011ee-c204-11e8-ad45-a81e84e6c740\"}, {\"name\": \"\\u5218\\u6c5f_\\u5e94\\u4ea4\\u9ad8\\u8d28\\u91cf\\u62a5\\u544a\\u6570\", \"x\": [\"8\", \"9\"], \"y\": [0.0, 3.0], \"type\": \"scatter\", \"uid\": \"725013e2-c204-11e8-ad45-a81e84e6c740\"}, {\"name\": \"\\u5218\\u6c5f_\\u63d0\\u4ea4\\u9ad8\\u8d28\\u91cf\\u62a5\\u544a\\u6570\", \"x\": [\"8\", \"9\"], \"y\": [0.0, 4.0], \"type\": \"scatter\", \"uid\": \"72501608-c204-11e8-ad45-a81e84e6c740\"}, {\"name\": \"\\u5360\\u4f1f_\\u5e94\\u4ea4\\u9ad8\\u8d28\\u91cf\\u62a5\\u544a\\u6570\", \"x\": [\"8\", \"9\"], \"y\": [1.0, null], \"type\": \"scatter\", \"uid\": \"725017f2-c204-11e8-ad45-a81e84e6c740\"}, {\"name\": \"\\u5360\\u4f1f_\\u63d0\\u4ea4\\u9ad8\\u8d28\\u91cf\\u62a5\\u544a\\u6570\", \"x\": [\"8\", \"9\"], \"y\": [1.0, null], \"type\": \"scatter\", \"uid\": \"725019e6-c204-11e8-ad45-a81e84e6c740\"}, {\"name\": \"\\u5468\\u6768_\\u5e94\\u4ea4\\u9ad8\\u8d28\\u91cf\\u62a5\\u544a\\u6570\", \"x\": [\"8\", \"9\"], \"y\": [2.0, 0.0], \"type\": \"scatter\", \"uid\": \"72501bda-c204-11e8-ad45-a81e84e6c740\"}, {\"name\": \"\\u5468\\u6768_\\u63d0\\u4ea4\\u9ad8\\u8d28\\u91cf\\u62a5\\u544a\\u6570\", \"x\": [\"8\", \"9\"], \"y\": [2.0, 0.0], \"type\": \"scatter\", \"uid\": \"72501dc4-c204-11e8-ad45-a81e84e6c740\"}, {\"name\": \"\\u59da\\u76df\\u6210_\\u5e94\\u4ea4\\u9ad8\\u8d28\\u91cf\\u62a5\\u544a\\u6570\", \"x\": [\"8\", \"9\"], \"y\": [2.0, 1.0], \"type\": \"scatter\", \"uid\": \"72501fae-c204-11e8-ad45-a81e84e6c740\"}, {\"name\": \"\\u59da\\u76df\\u6210_\\u63d0\\u4ea4\\u9ad8\\u8d28\\u91cf\\u62a5\\u544a\\u6570\", \"x\": [\"8\", \"9\"], \"y\": [2.0, 1.0], \"type\": \"scatter\", \"uid\": \"725021a2-c204-11e8-ad45-a81e84e6c740\"}, {\"name\": \"\\u5b5f\\u660a_\\u5e94\\u4ea4\\u9ad8\\u8d28\\u91cf\\u62a5\\u544a\\u6570\", \"x\": [\"8\", \"9\"], \"y\": [0.0, 0.0], \"type\": \"scatter\", \"uid\": \"72502396-c204-11e8-ad45-a81e84e6c740\"}, {\"name\": \"\\u5b5f\\u660a_\\u63d0\\u4ea4\\u9ad8\\u8d28\\u91cf\\u62a5\\u544a\\u6570\", \"x\": [\"8\", \"9\"], \"y\": [0.0, 0.0], \"type\": \"scatter\", \"uid\": \"72502580-c204-11e8-ad45-a81e84e6c740\"}, {\"name\": \"\\u5b8b\\u8fce\\u6960_\\u5e94\\u4ea4\\u9ad8\\u8d28\\u91cf\\u62a5\\u544a\\u6570\", \"x\": [\"8\", \"9\"], \"y\": [2.0, null], \"type\": \"scatter\", \"uid\": \"72502774-c204-11e8-ad45-a81e84e6c740\"}, {\"name\": \"\\u5b8b\\u8fce\\u6960_\\u63d0\\u4ea4\\u9ad8\\u8d28\\u91cf\\u62a5\\u544a\\u6570\", \"x\": [\"8\", \"9\"], \"y\": [2.0, null], \"type\": \"scatter\", \"uid\": \"7250295e-c204-11e8-ad45-a81e84e6c740\"}, {\"name\": \"\\u5c01\\u5f66\\u6770_\\u5e94\\u4ea4\\u9ad8\\u8d28\\u91cf\\u62a5\\u544a\\u6570\", \"x\": [\"8\", \"9\"], \"y\": [0.0, 1.0], \"type\": \"scatter\", \"uid\": \"72502b48-c204-11e8-ad45-a81e84e6c740\"}, {\"name\": \"\\u5c01\\u5f66\\u6770_\\u63d0\\u4ea4\\u9ad8\\u8d28\\u91cf\\u62a5\\u544a\\u6570\", \"x\": [\"8\", \"9\"], \"y\": [0.0, 1.0], \"type\": \"scatter\", \"uid\": \"72502d28-c204-11e8-ad45-a81e84e6c740\"}, {\"name\": \"\\u5f20\\u5b88\\u4f1f_\\u5e94\\u4ea4\\u9ad8\\u8d28\\u91cf\\u62a5\\u544a\\u6570\", \"x\": [\"8\", \"9\"], \"y\": [1.0, null], \"type\": \"scatter\", \"uid\": \"72502f1c-c204-11e8-ad45-a81e84e6c740\"}, {\"name\": \"\\u5f20\\u5b88\\u4f1f_\\u63d0\\u4ea4\\u9ad8\\u8d28\\u91cf\\u62a5\\u544a\\u6570\", \"x\": [\"8\", \"9\"], \"y\": [1.0, null], \"type\": \"scatter\", \"uid\": \"72503106-c204-11e8-ad45-a81e84e6c740\"}, {\"name\": \"\\u674e\\u534e\\u4e91_\\u5e94\\u4ea4\\u9ad8\\u8d28\\u91cf\\u62a5\\u544a\\u6570\", \"x\": [\"8\", \"9\"], \"y\": [0.0, 0.0], \"type\": \"scatter\", \"uid\": \"7250332c-c204-11e8-ad45-a81e84e6c740\"}, {\"name\": \"\\u674e\\u534e\\u4e91_\\u63d0\\u4ea4\\u9ad8\\u8d28\\u91cf\\u62a5\\u544a\\u6570\", \"x\": [\"8\", \"9\"], \"y\": [0.0, 0.0], \"type\": \"scatter\", \"uid\": \"72503516-c204-11e8-ad45-a81e84e6c740\"}, {\"name\": \"\\u674e\\u5e86\\u539f_\\u5e94\\u4ea4\\u9ad8\\u8d28\\u91cf\\u62a5\\u544a\\u6570\", \"x\": [\"8\", \"9\"], \"y\": [0.0, 1.0], \"type\": \"scatter\", \"uid\": \"7250370a-c204-11e8-ad45-a81e84e6c740\"}, {\"name\": \"\\u674e\\u5e86\\u539f_\\u63d0\\u4ea4\\u9ad8\\u8d28\\u91cf\\u62a5\\u544a\\u6570\", \"x\": [\"8\", \"9\"], \"y\": [0.0, 1.0], \"type\": \"scatter\", \"uid\": \"725038f4-c204-11e8-ad45-a81e84e6c740\"}, {\"name\": \"\\u6768\\u4f1f\\u98de_\\u5e94\\u4ea4\\u9ad8\\u8d28\\u91cf\\u62a5\\u544a\\u6570\", \"x\": [\"8\", \"9\"], \"y\": [0.0, 3.0], \"type\": \"scatter\", \"uid\": \"72503ae8-c204-11e8-ad45-a81e84e6c740\"}, {\"name\": \"\\u6768\\u4f1f\\u98de_\\u63d0\\u4ea4\\u9ad8\\u8d28\\u91cf\\u62a5\\u544a\\u6570\", \"x\": [\"8\", \"9\"], \"y\": [0.0, 3.0], \"type\": \"scatter\", \"uid\": \"72503cd2-c204-11e8-ad45-a81e84e6c740\"}, {\"name\": \"\\u738b\\u5b81_\\u5e94\\u4ea4\\u9ad8\\u8d28\\u91cf\\u62a5\\u544a\\u6570\", \"x\": [\"8\", \"9\"], \"y\": [1.0, null], \"type\": \"scatter\", \"uid\": \"72503ebc-c204-11e8-ad45-a81e84e6c740\"}, {\"name\": \"\\u738b\\u5b81_\\u63d0\\u4ea4\\u9ad8\\u8d28\\u91cf\\u62a5\\u544a\\u6570\", \"x\": [\"8\", \"9\"], \"y\": [1.0, null], \"type\": \"scatter\", \"uid\": \"725040a6-c204-11e8-ad45-a81e84e6c740\"}, {\"name\": \"\\u82cf\\u5f66\\u52cb_\\u5e94\\u4ea4\\u9ad8\\u8d28\\u91cf\\u62a5\\u544a\\u6570\", \"x\": [\"8\", \"9\"], \"y\": [1.0, 1.0], \"type\": \"scatter\", \"uid\": \"72504290-c204-11e8-ad45-a81e84e6c740\"}, {\"name\": \"\\u82cf\\u5f66\\u52cb_\\u63d0\\u4ea4\\u9ad8\\u8d28\\u91cf\\u62a5\\u544a\\u6570\", \"x\": [\"8\", \"9\"], \"y\": [1.0, 1.0], \"type\": \"scatter\", \"uid\": \"72504470-c204-11e8-ad45-a81e84e6c740\"}, {\"name\": \"\\u8303\\u65ed\\u5b81_\\u5e94\\u4ea4\\u9ad8\\u8d28\\u91cf\\u62a5\\u544a\\u6570\", \"x\": [\"8\", \"9\"], \"y\": [0.0, null], \"type\": \"scatter\", \"uid\": \"7250466e-c204-11e8-ad45-a81e84e6c740\"}, {\"name\": \"\\u8303\\u65ed\\u5b81_\\u63d0\\u4ea4\\u9ad8\\u8d28\\u91cf\\u62a5\\u544a\\u6570\", \"x\": [\"8\", \"9\"], \"y\": [0.0, null], \"type\": \"scatter\", \"uid\": \"7250484e-c204-11e8-ad45-a81e84e6c740\"}, {\"name\": \"\\u8c22\\u5fb7\\u5065_\\u5e94\\u4ea4\\u9ad8\\u8d28\\u91cf\\u62a5\\u544a\\u6570\", \"x\": [\"8\", \"9\"], \"y\": [0.0, null], \"type\": \"scatter\", \"uid\": \"72504a2e-c204-11e8-ad45-a81e84e6c740\"}, {\"name\": \"\\u8c22\\u5fb7\\u5065_\\u63d0\\u4ea4\\u9ad8\\u8d28\\u91cf\\u62a5\\u544a\\u6570\", \"x\": [\"8\", \"9\"], \"y\": [0.0, null], \"type\": \"scatter\", \"uid\": \"72504c18-c204-11e8-ad45-a81e84e6c740\"}, {\"name\": \"\\u8d75\\u73a5_\\u5e94\\u4ea4\\u9ad8\\u8d28\\u91cf\\u62a5\\u544a\\u6570\", \"x\": [\"8\", \"9\"], \"y\": [0.0, null], \"type\": \"scatter\", \"uid\": \"72504e2a-c204-11e8-ad45-a81e84e6c740\"}, {\"name\": \"\\u8d75\\u73a5_\\u63d0\\u4ea4\\u9ad8\\u8d28\\u91cf\\u62a5\\u544a\\u6570\", \"x\": [\"8\", \"9\"], \"y\": [0.0, null], \"type\": \"scatter\", \"uid\": \"7250500a-c204-11e8-ad45-a81e84e6c740\"}, {\"name\": \"\\u8def\\u6167\\u840d_\\u5e94\\u4ea4\\u9ad8\\u8d28\\u91cf\\u62a5\\u544a\\u6570\", \"x\": [\"8\", \"9\"], \"y\": [1.0, 0.0], \"type\": \"scatter\", \"uid\": \"725051ea-c204-11e8-ad45-a81e84e6c740\"}, {\"name\": \"\\u8def\\u6167\\u840d_\\u63d0\\u4ea4\\u9ad8\\u8d28\\u91cf\\u62a5\\u544a\\u6570\", \"x\": [\"8\", \"9\"], \"y\": [1.0, 0.0], \"type\": \"scatter\", \"uid\": \"725053ca-c204-11e8-ad45-a81e84e6c740\"}, {\"name\": \"\\u97e9\\u5c11\\u6000_\\u5e94\\u4ea4\\u9ad8\\u8d28\\u91cf\\u62a5\\u544a\\u6570\", \"x\": [\"8\", \"9\"], \"y\": [1.0, null], \"type\": \"scatter\", \"uid\": \"725055aa-c204-11e8-ad45-a81e84e6c740\"}, {\"name\": \"\\u97e9\\u5c11\\u6000_\\u63d0\\u4ea4\\u9ad8\\u8d28\\u91cf\\u62a5\\u544a\\u6570\", \"x\": [\"8\", \"9\"], \"y\": [1.0, null], \"type\": \"scatter\", \"uid\": \"725057b2-c204-11e8-ad45-a81e84e6c740\"}, {\"name\": \"\\u9a6c\\u6f47_\\u5e94\\u4ea4\\u9ad8\\u8d28\\u91cf\\u62a5\\u544a\\u6570\", \"x\": [\"8\", \"9\"], \"y\": [0.0, null], \"type\": \"scatter\", \"uid\": \"725059c4-c204-11e8-ad45-a81e84e6c740\"}, {\"name\": \"\\u9a6c\\u6f47_\\u63d0\\u4ea4\\u9ad8\\u8d28\\u91cf\\u62a5\\u544a\\u6570\", \"x\": [\"8\", \"9\"], \"y\": [0.0, null], \"type\": \"scatter\", \"uid\": \"72505bae-c204-11e8-ad45-a81e84e6c740\"}],\n",
       "            {\"title\": \"\\u5e94\\u4ea4\\u9ad8\\u8d28\\u91cf\\u62a5\\u544a\\u6570&\\u63d0\\u4ea4\\u9ad8\\u8d28\\u91cf\\u62a5\\u544a\\u6570\\u6708\\u8d8b\\u52bf\\u56fe\", \"xaxis\": {\"mirror\": \"all\", \"nticks\": 20, \"showgrid\": true, \"showline\": true, \"title\": \"\\u6708\", \"zeroline\": true}, \"yaxis\": {\"mirror\": \"all\", \"nticks\": 20, \"showgrid\": true, \"showline\": true, \"title\": \"\\u5e94\\u4ea4\\u9ad8\\u8d28\\u91cf\\u62a5\\u544a\\u6570&\\u63d0\\u4ea4\\u9ad8\\u8d28\\u91cf\\u62a5\\u544a\\u6570\", \"zeroline\": true}},\n",
       "            {\"showLink\": true, \"linkText\": \"Export to plot.ly\"}\n",
       "        ).then(function () {return Plotly.addFrames('0a0e308e-71f7-43d0-b700-66a4d00486c0',{});}).then(function(){Plotly.animate('0a0e308e-71f7-43d0-b700-66a4d00486c0');})\n",
       "        });</script>"
      ]
     },
     "metadata": {},
     "output_type": "display_data"
    }
   ],
   "source": [
    "data_dict = {'应交高质量报告数':['应交高质量报告数'], '提交高质量报告数':['提交高质量报告数']}\n",
    "myModule.plot( all_dict, data_dict, '负责人' ,  'line' , all='')"
   ]
  },
  {
   "cell_type": "markdown",
   "metadata": {},
   "source": [
    "### 甘特图情况"
   ]
  },
  {
   "cell_type": "markdown",
   "metadata": {},
   "source": [
    "#### 季度开发项目数、如期完成项目数、延期完成、开发中的项目数、延期项目数和暂停项目数"
   ]
  },
  {
   "cell_type": "code",
   "execution_count": 18,
   "metadata": {},
   "outputs": [
    {
     "data": {
      "application/vnd.plotly.v1+json": {
       "data": [
        {
         "name": "姚盟成_季度开发项目数",
         "type": "scatter",
         "uid": "7396eb90-c204-11e8-ad45-a81e84e6c740",
         "x": [
          "8-3",
          "8-4",
          "9-1",
          "9-2",
          "9-3"
         ],
         "y": [
          9,
          9,
          9,
          9,
          9
         ]
        },
        {
         "name": "姚盟成_如期完成项目数",
         "type": "scatter",
         "uid": "7396eea6-c204-11e8-ad45-a81e84e6c740",
         "x": [
          "8-3",
          "8-4",
          "9-1",
          "9-2",
          "9-3"
         ],
         "y": [
          3,
          3,
          3,
          3,
          3
         ]
        },
        {
         "name": "姚盟成_延期完成",
         "type": "scatter",
         "uid": "7396f0ea-c204-11e8-ad45-a81e84e6c740",
         "x": [
          "8-3",
          "8-4",
          "9-1",
          "9-2",
          "9-3"
         ],
         "y": [
          0,
          0,
          0,
          0,
          0
         ]
        },
        {
         "name": "姚盟成_开发中的项目数",
         "type": "scatter",
         "uid": "7396f2e8-c204-11e8-ad45-a81e84e6c740",
         "x": [
          "8-3",
          "8-4",
          "9-1",
          "9-2",
          "9-3"
         ],
         "y": [
          1,
          2,
          3,
          2,
          7
         ]
        },
        {
         "name": "姚盟成_延期项目数",
         "type": "scatter",
         "uid": "7396f4c8-c204-11e8-ad45-a81e84e6c740",
         "x": [
          "8-3",
          "8-4",
          "9-1",
          "9-2",
          "9-3"
         ],
         "y": [
          0,
          0,
          0,
          0,
          0
         ]
        },
        {
         "name": "姚盟成_暂停项目数",
         "type": "scatter",
         "uid": "7396f6b2-c204-11e8-ad45-a81e84e6c740",
         "x": [
          "8-3",
          "8-4",
          "9-1",
          "9-2",
          "9-3"
         ],
         "y": [
          0,
          0,
          0,
          0,
          12
         ]
        },
        {
         "name": "刘慧玲_季度开发项目数",
         "type": "scatter",
         "uid": "7396f888-c204-11e8-ad45-a81e84e6c740",
         "x": [
          "8-3",
          "8-4",
          "9-1"
         ],
         "y": [
          8,
          8,
          9
         ]
        },
        {
         "name": "刘慧玲_如期完成项目数",
         "type": "scatter",
         "uid": "7396fa68-c204-11e8-ad45-a81e84e6c740",
         "x": [
          "8-3",
          "8-4",
          "9-1"
         ],
         "y": [
          3,
          3,
          3
         ]
        },
        {
         "name": "刘慧玲_延期完成",
         "type": "scatter",
         "uid": "7396fc3e-c204-11e8-ad45-a81e84e6c740",
         "x": [
          "8-3",
          "8-4",
          "9-1"
         ],
         "y": [
          1,
          1,
          1
         ]
        },
        {
         "name": "刘慧玲_开发中的项目数",
         "type": "scatter",
         "uid": "7396fe1e-c204-11e8-ad45-a81e84e6c740",
         "x": [
          "8-3",
          "8-4",
          "9-1"
         ],
         "y": [
          2,
          2,
          1
         ]
        },
        {
         "name": "刘慧玲_延期项目数",
         "type": "scatter",
         "uid": "7396ffea-c204-11e8-ad45-a81e84e6c740",
         "x": [
          "8-3",
          "8-4",
          "9-1"
         ],
         "y": [
          0,
          0,
          0
         ]
        },
        {
         "name": "刘慧玲_暂停项目数",
         "type": "scatter",
         "uid": "739703c8-c204-11e8-ad45-a81e84e6c740",
         "x": [
          "8-3",
          "8-4",
          "9-1"
         ],
         "y": [
          2,
          2,
          4
         ]
        },
        {
         "name": "占伟_季度开发项目数",
         "type": "scatter",
         "uid": "73970652-c204-11e8-ad45-a81e84e6c740",
         "x": [
          "8-3",
          "8-4",
          "9-1",
          "9-2"
         ],
         "y": [
          19,
          18,
          18,
          18
         ]
        },
        {
         "name": "占伟_如期完成项目数",
         "type": "scatter",
         "uid": "73970832-c204-11e8-ad45-a81e84e6c740",
         "x": [
          "8-3",
          "8-4",
          "9-1",
          "9-2"
         ],
         "y": [
          12,
          10,
          10,
          10
         ]
        },
        {
         "name": "占伟_延期完成",
         "type": "scatter",
         "uid": "73970aee-c204-11e8-ad45-a81e84e6c740",
         "x": [
          "8-3",
          "8-4",
          "9-1",
          "9-2"
         ],
         "y": [
          2,
          1,
          1,
          1
         ]
        },
        {
         "name": "占伟_开发中的项目数",
         "type": "scatter",
         "uid": "73970d64-c204-11e8-ad45-a81e84e6c740",
         "x": [
          "8-3",
          "8-4",
          "9-1",
          "9-2"
         ],
         "y": [
          2,
          5,
          5,
          5
         ]
        },
        {
         "name": "占伟_延期项目数",
         "type": "scatter",
         "uid": "73970f62-c204-11e8-ad45-a81e84e6c740",
         "x": [
          "8-3",
          "8-4",
          "9-1",
          "9-2"
         ],
         "y": [
          3,
          3,
          3,
          3
         ]
        },
        {
         "name": "占伟_暂停项目数",
         "type": "scatter",
         "uid": "73971192-c204-11e8-ad45-a81e84e6c740",
         "x": [
          "8-3",
          "8-4",
          "9-1",
          "9-2"
         ],
         "y": [
          0,
          0,
          0,
          0
         ]
        },
        {
         "name": "王宁_季度开发项目数",
         "type": "scatter",
         "uid": "73971458-c204-11e8-ad45-a81e84e6c740",
         "x": [
          "8-3",
          "8-4",
          "9-1"
         ],
         "y": [
          0,
          0,
          0
         ]
        },
        {
         "name": "王宁_如期完成项目数",
         "type": "scatter",
         "uid": "7397178c-c204-11e8-ad45-a81e84e6c740",
         "x": [
          "8-3",
          "8-4",
          "9-1"
         ],
         "y": [
          0,
          0,
          0
         ]
        },
        {
         "name": "王宁_延期完成",
         "type": "scatter",
         "uid": "73971ba6-c204-11e8-ad45-a81e84e6c740",
         "x": [
          "8-3",
          "8-4",
          "9-1"
         ],
         "y": [
          0,
          0,
          0
         ]
        },
        {
         "name": "王宁_开发中的项目数",
         "type": "scatter",
         "uid": "73971e80-c204-11e8-ad45-a81e84e6c740",
         "x": [
          "8-3",
          "8-4",
          "9-1"
         ],
         "y": [
          0,
          0,
          0
         ]
        },
        {
         "name": "王宁_延期项目数",
         "type": "scatter",
         "uid": "739721f0-c204-11e8-ad45-a81e84e6c740",
         "x": [
          "8-3",
          "8-4",
          "9-1"
         ],
         "y": [
          0,
          0,
          0
         ]
        },
        {
         "name": "王宁_暂停项目数",
         "type": "scatter",
         "uid": "73972498-c204-11e8-ad45-a81e84e6c740",
         "x": [
          "8-3",
          "8-4",
          "9-1"
         ],
         "y": [
          0,
          0,
          0
         ]
        },
        {
         "name": "封彦杰_季度开发项目数",
         "type": "scatter",
         "uid": "739726a0-c204-11e8-ad45-a81e84e6c740",
         "x": [
          "8-3",
          "8-4",
          "9-1",
          "9-2",
          "9-3"
         ],
         "y": [
          5,
          5,
          5,
          5,
          5
         ]
        },
        {
         "name": "封彦杰_如期完成项目数",
         "type": "scatter",
         "uid": "73972894-c204-11e8-ad45-a81e84e6c740",
         "x": [
          "8-3",
          "8-4",
          "9-1",
          "9-2",
          "9-3"
         ],
         "y": [
          0,
          0,
          2,
          2,
          2
         ]
        },
        {
         "name": "封彦杰_延期完成",
         "type": "scatter",
         "uid": "73972b00-c204-11e8-ad45-a81e84e6c740",
         "x": [
          "8-3",
          "8-4",
          "9-1",
          "9-2",
          "9-3"
         ],
         "y": [
          0,
          0,
          0,
          0,
          0
         ]
        },
        {
         "name": "封彦杰_开发中的项目数",
         "type": "scatter",
         "uid": "73972cd6-c204-11e8-ad45-a81e84e6c740",
         "x": [
          "8-3",
          "8-4",
          "9-1",
          "9-2",
          "9-3"
         ],
         "y": [
          4,
          4,
          2,
          2,
          3
         ]
        },
        {
         "name": "封彦杰_延期项目数",
         "type": "scatter",
         "uid": "73972ea2-c204-11e8-ad45-a81e84e6c740",
         "x": [
          "8-3",
          "8-4",
          "9-1",
          "9-2",
          "9-3"
         ],
         "y": [
          0,
          0,
          0,
          0,
          0
         ]
        },
        {
         "name": "封彦杰_暂停项目数",
         "type": "scatter",
         "uid": "73973082-c204-11e8-ad45-a81e84e6c740",
         "x": [
          "8-3",
          "8-4",
          "9-1",
          "9-2",
          "9-3"
         ],
         "y": [
          1,
          1,
          1,
          1,
          0
         ]
        },
        {
         "name": "路慧萍_季度开发项目数",
         "type": "scatter",
         "uid": "73973262-c204-11e8-ad45-a81e84e6c740",
         "x": [
          "8-3",
          "8-4",
          "9-1",
          "9-2",
          "9-3"
         ],
         "y": [
          0,
          0,
          0,
          0,
          0
         ]
        },
        {
         "name": "路慧萍_如期完成项目数",
         "type": "scatter",
         "uid": "73973438-c204-11e8-ad45-a81e84e6c740",
         "x": [
          "8-3",
          "8-4",
          "9-1",
          "9-2",
          "9-3"
         ],
         "y": [
          0,
          0,
          0,
          0,
          0
         ]
        },
        {
         "name": "路慧萍_延期完成",
         "type": "scatter",
         "uid": "7397360e-c204-11e8-ad45-a81e84e6c740",
         "x": [
          "8-3",
          "8-4",
          "9-1",
          "9-2",
          "9-3"
         ],
         "y": [
          0,
          0,
          0,
          0,
          0
         ]
        },
        {
         "name": "路慧萍_开发中的项目数",
         "type": "scatter",
         "uid": "739737e4-c204-11e8-ad45-a81e84e6c740",
         "x": [
          "8-3",
          "8-4",
          "9-1",
          "9-2",
          "9-3"
         ],
         "y": [
          0,
          0,
          0,
          0,
          0
         ]
        },
        {
         "name": "路慧萍_延期项目数",
         "type": "scatter",
         "uid": "739739ba-c204-11e8-ad45-a81e84e6c740",
         "x": [
          "8-3",
          "8-4",
          "9-1",
          "9-2",
          "9-3"
         ],
         "y": [
          0,
          0,
          0,
          0,
          0
         ]
        },
        {
         "name": "路慧萍_暂停项目数",
         "type": "scatter",
         "uid": "73973b90-c204-11e8-ad45-a81e84e6c740",
         "x": [
          "8-3",
          "8-4",
          "9-1",
          "9-2",
          "9-3"
         ],
         "y": [
          0,
          0,
          0,
          0,
          2
         ]
        },
        {
         "name": "宋迎楠_季度开发项目数",
         "type": "scatter",
         "uid": "73973d5c-c204-11e8-ad45-a81e84e6c740",
         "x": [
          "8-3",
          "8-4",
          "9-1"
         ],
         "y": [
          23,
          23,
          23
         ]
        },
        {
         "name": "宋迎楠_如期完成项目数",
         "type": "scatter",
         "uid": "73973f3c-c204-11e8-ad45-a81e84e6c740",
         "x": [
          "8-3",
          "8-4",
          "9-1"
         ],
         "y": [
          0,
          0,
          0
         ]
        },
        {
         "name": "宋迎楠_延期完成",
         "type": "scatter",
         "uid": "73974112-c204-11e8-ad45-a81e84e6c740",
         "x": [
          "8-3",
          "8-4",
          "9-1"
         ],
         "y": [
          8,
          9,
          10
         ]
        },
        {
         "name": "宋迎楠_开发中的项目数",
         "type": "scatter",
         "uid": "739742de-c204-11e8-ad45-a81e84e6c740",
         "x": [
          "8-3",
          "8-4",
          "9-1"
         ],
         "y": [
          14,
          13,
          7
         ]
        },
        {
         "name": "宋迎楠_延期项目数",
         "type": "scatter",
         "uid": "739744b4-c204-11e8-ad45-a81e84e6c740",
         "x": [
          "8-3",
          "8-4",
          "9-1"
         ],
         "y": [
          1,
          1,
          6
         ]
        },
        {
         "name": "宋迎楠_暂停项目数",
         "type": "scatter",
         "uid": "7397468a-c204-11e8-ad45-a81e84e6c740",
         "x": [
          "8-3",
          "8-4",
          "9-1"
         ],
         "y": [
          0,
          0,
          0
         ]
        },
        {
         "name": "杨伟飞_季度开发项目数",
         "type": "scatter",
         "uid": "73974856-c204-11e8-ad45-a81e84e6c740",
         "x": [
          "8-3",
          "8-4",
          "9-1",
          "9-2",
          "9-3"
         ],
         "y": [
          8,
          8,
          8,
          8,
          8
         ]
        },
        {
         "name": "杨伟飞_如期完成项目数",
         "type": "scatter",
         "uid": "73974a2c-c204-11e8-ad45-a81e84e6c740",
         "x": [
          "8-3",
          "8-4",
          "9-1",
          "9-2",
          "9-3"
         ],
         "y": [
          2,
          2,
          4,
          4,
          4
         ]
        },
        {
         "name": "杨伟飞_延期完成",
         "type": "scatter",
         "uid": "73974bf8-c204-11e8-ad45-a81e84e6c740",
         "x": [
          "8-3",
          "8-4",
          "9-1",
          "9-2",
          "9-3"
         ],
         "y": [
          1,
          2,
          2,
          2,
          2
         ]
        },
        {
         "name": "杨伟飞_开发中的项目数",
         "type": "scatter",
         "uid": "739751ca-c204-11e8-ad45-a81e84e6c740",
         "x": [
          "8-3",
          "8-4",
          "9-1",
          "9-2",
          "9-3"
         ],
         "y": [
          5,
          4,
          2,
          2,
          2
         ]
        },
        {
         "name": "杨伟飞_延期项目数",
         "type": "scatter",
         "uid": "7397549a-c204-11e8-ad45-a81e84e6c740",
         "x": [
          "8-3",
          "8-4",
          "9-1",
          "9-2",
          "9-3"
         ],
         "y": [
          0,
          0,
          0,
          0,
          0
         ]
        },
        {
         "name": "杨伟飞_暂停项目数",
         "type": "scatter",
         "uid": "73975670-c204-11e8-ad45-a81e84e6c740",
         "x": [
          "8-3",
          "8-4",
          "9-1",
          "9-2",
          "9-3"
         ],
         "y": [
          0,
          0,
          0,
          0,
          0
         ]
        },
        {
         "name": "马潇_季度开发项目数",
         "type": "scatter",
         "uid": "73975850-c204-11e8-ad45-a81e84e6c740",
         "x": [
          "8-3",
          "8-4",
          "9-1",
          "9-2"
         ],
         "y": [
          0,
          0,
          0,
          0
         ]
        },
        {
         "name": "马潇_如期完成项目数",
         "type": "scatter",
         "uid": "73975a1c-c204-11e8-ad45-a81e84e6c740",
         "x": [
          "8-3",
          "8-4",
          "9-1",
          "9-2"
         ],
         "y": [
          0,
          0,
          0,
          0
         ]
        },
        {
         "name": "马潇_延期完成",
         "type": "scatter",
         "uid": "73975bf2-c204-11e8-ad45-a81e84e6c740",
         "x": [
          "8-3",
          "8-4",
          "9-1",
          "9-2"
         ],
         "y": [
          0,
          0,
          0,
          0
         ]
        },
        {
         "name": "马潇_开发中的项目数",
         "type": "scatter",
         "uid": "73975dc8-c204-11e8-ad45-a81e84e6c740",
         "x": [
          "8-3",
          "8-4",
          "9-1",
          "9-2"
         ],
         "y": [
          1,
          0,
          0,
          0
         ]
        },
        {
         "name": "马潇_延期项目数",
         "type": "scatter",
         "uid": "73975f9e-c204-11e8-ad45-a81e84e6c740",
         "x": [
          "8-3",
          "8-4",
          "9-1",
          "9-2"
         ],
         "y": [
          1,
          0,
          0,
          0
         ]
        },
        {
         "name": "马潇_暂停项目数",
         "type": "scatter",
         "uid": "739762d2-c204-11e8-ad45-a81e84e6c740",
         "x": [
          "8-3",
          "8-4",
          "9-1",
          "9-2"
         ],
         "y": [
          0,
          0,
          0,
          0
         ]
        },
        {
         "name": "李庆原_季度开发项目数",
         "type": "scatter",
         "uid": "739764bc-c204-11e8-ad45-a81e84e6c740",
         "x": [
          "8-3",
          "8-4",
          "9-1",
          "9-2",
          "9-3"
         ],
         "y": [
          0,
          0,
          0,
          0,
          0
         ]
        },
        {
         "name": "李庆原_如期完成项目数",
         "type": "scatter",
         "uid": "739766a6-c204-11e8-ad45-a81e84e6c740",
         "x": [
          "8-3",
          "8-4",
          "9-1",
          "9-2",
          "9-3"
         ],
         "y": [
          0,
          0,
          0,
          0,
          0
         ]
        },
        {
         "name": "李庆原_延期完成",
         "type": "scatter",
         "uid": "73976886-c204-11e8-ad45-a81e84e6c740",
         "x": [
          "8-3",
          "8-4",
          "9-1",
          "9-2",
          "9-3"
         ],
         "y": [
          0,
          0,
          0,
          0,
          0
         ]
        },
        {
         "name": "李庆原_开发中的项目数",
         "type": "scatter",
         "uid": "73976d72-c204-11e8-ad45-a81e84e6c740",
         "x": [
          "8-3",
          "8-4",
          "9-1",
          "9-2",
          "9-3"
         ],
         "y": [
          0,
          0,
          0,
          0,
          0
         ]
        },
        {
         "name": "李庆原_延期项目数",
         "type": "scatter",
         "uid": "739770e2-c204-11e8-ad45-a81e84e6c740",
         "x": [
          "8-3",
          "8-4",
          "9-1",
          "9-2",
          "9-3"
         ],
         "y": [
          0,
          0,
          0,
          0,
          0
         ]
        },
        {
         "name": "李庆原_暂停项目数",
         "type": "scatter",
         "uid": "739773f8-c204-11e8-ad45-a81e84e6c740",
         "x": [
          "8-3",
          "8-4",
          "9-1",
          "9-2",
          "9-3"
         ],
         "y": [
          0,
          0,
          0,
          0,
          0
         ]
        },
        {
         "name": "韩少怀_季度开发项目数",
         "type": "scatter",
         "uid": "739776d2-c204-11e8-ad45-a81e84e6c740",
         "x": [
          "8-3",
          "8-4",
          "9-1",
          "9-2"
         ],
         "y": [
          7,
          7,
          7,
          6
         ]
        },
        {
         "name": "韩少怀_如期完成项目数",
         "type": "scatter",
         "uid": "73977e84-c204-11e8-ad45-a81e84e6c740",
         "x": [
          "8-3",
          "8-4",
          "9-1",
          "9-2"
         ],
         "y": [
          5,
          5,
          6,
          5
         ]
        },
        {
         "name": "韩少怀_延期完成",
         "type": "scatter",
         "uid": "73978294-c204-11e8-ad45-a81e84e6c740",
         "x": [
          "8-3",
          "8-4",
          "9-1",
          "9-2"
         ],
         "y": [
          0,
          0,
          0,
          0
         ]
        },
        {
         "name": "韩少怀_开发中的项目数",
         "type": "scatter",
         "uid": "739784ec-c204-11e8-ad45-a81e84e6c740",
         "x": [
          "8-3",
          "8-4",
          "9-1",
          "9-2"
         ],
         "y": [
          1,
          2,
          1,
          1
         ]
        },
        {
         "name": "韩少怀_延期项目数",
         "type": "scatter",
         "uid": "73978708-c204-11e8-ad45-a81e84e6c740",
         "x": [
          "8-3",
          "8-4",
          "9-1",
          "9-2"
         ],
         "y": [
          0,
          0,
          0,
          0
         ]
        },
        {
         "name": "韩少怀_暂停项目数",
         "type": "scatter",
         "uid": "739788fc-c204-11e8-ad45-a81e84e6c740",
         "x": [
          "8-3",
          "8-4",
          "9-1",
          "9-2"
         ],
         "y": [
          0,
          0,
          0,
          0
         ]
        },
        {
         "name": "赵玥_季度开发项目数",
         "type": "scatter",
         "uid": "73978c08-c204-11e8-ad45-a81e84e6c740",
         "x": [
          "8-3",
          "8-4",
          "9-1",
          "9-2"
         ],
         "y": [
          21,
          22,
          21,
          22
         ]
        },
        {
         "name": "赵玥_如期完成项目数",
         "type": "scatter",
         "uid": "73978dfc-c204-11e8-ad45-a81e84e6c740",
         "x": [
          "8-3",
          "8-4",
          "9-1",
          "9-2"
         ],
         "y": [
          20,
          21,
          20,
          21
         ]
        },
        {
         "name": "赵玥_延期完成",
         "type": "scatter",
         "uid": "73978ff0-c204-11e8-ad45-a81e84e6c740",
         "x": [
          "8-3",
          "8-4",
          "9-1",
          "9-2"
         ],
         "y": [
          1,
          1,
          1,
          1
         ]
        },
        {
         "name": "赵玥_开发中的项目数",
         "type": "scatter",
         "uid": "739791da-c204-11e8-ad45-a81e84e6c740",
         "x": [
          "8-3",
          "8-4",
          "9-1",
          "9-2"
         ],
         "y": [
          0,
          2,
          3,
          1
         ]
        },
        {
         "name": "赵玥_延期项目数",
         "type": "scatter",
         "uid": "739793c4-c204-11e8-ad45-a81e84e6c740",
         "x": [
          "8-3",
          "8-4",
          "9-1",
          "9-2"
         ],
         "y": [
          0,
          0,
          1,
          1
         ]
        },
        {
         "name": "赵玥_暂停项目数",
         "type": "scatter",
         "uid": "739795a4-c204-11e8-ad45-a81e84e6c740",
         "x": [
          "8-3",
          "8-4",
          "9-1",
          "9-2"
         ],
         "y": [
          0,
          0,
          1,
          1
         ]
        },
        {
         "name": "苏彦勋_季度开发项目数",
         "type": "scatter",
         "uid": "73979784-c204-11e8-ad45-a81e84e6c740",
         "x": [
          "8-3",
          "8-4",
          "9-1",
          "9-2",
          "9-3"
         ],
         "y": [
          33,
          33,
          33,
          33,
          33
         ]
        },
        {
         "name": "苏彦勋_如期完成项目数",
         "type": "scatter",
         "uid": "73979ba8-c204-11e8-ad45-a81e84e6c740",
         "x": [
          "8-3",
          "8-4",
          "9-1",
          "9-2",
          "9-3"
         ],
         "y": [
          20,
          21,
          22,
          25,
          25
         ]
        },
        {
         "name": "苏彦勋_延期完成",
         "type": "scatter",
         "uid": "73979dce-c204-11e8-ad45-a81e84e6c740",
         "x": [
          "8-3",
          "8-4",
          "9-1",
          "9-2",
          "9-3"
         ],
         "y": [
          0,
          0,
          0,
          0,
          0
         ]
        },
        {
         "name": "苏彦勋_开发中的项目数",
         "type": "scatter",
         "uid": "73979fb8-c204-11e8-ad45-a81e84e6c740",
         "x": [
          "8-3",
          "8-4",
          "9-1",
          "9-2",
          "9-3"
         ],
         "y": [
          5,
          4,
          3,
          0,
          0
         ]
        },
        {
         "name": "苏彦勋_延期项目数",
         "type": "scatter",
         "uid": "7397a198-c204-11e8-ad45-a81e84e6c740",
         "x": [
          "8-3",
          "8-4",
          "9-1",
          "9-2",
          "9-3"
         ],
         "y": [
          0,
          0,
          0,
          0,
          0
         ]
        },
        {
         "name": "苏彦勋_暂停项目数",
         "type": "scatter",
         "uid": "7397a378-c204-11e8-ad45-a81e84e6c740",
         "x": [
          "8-3",
          "8-4",
          "9-1",
          "9-2",
          "9-3"
         ],
         "y": [
          8,
          8,
          8,
          8,
          8
         ]
        },
        {
         "name": "张守伟_季度开发项目数",
         "type": "scatter",
         "uid": "7397a6e8-c204-11e8-ad45-a81e84e6c740",
         "x": [
          "8-3",
          "8-4",
          "9-1",
          "9-2"
         ],
         "y": [
          13,
          16,
          18,
          20
         ]
        },
        {
         "name": "张守伟_如期完成项目数",
         "type": "scatter",
         "uid": "7397aa76-c204-11e8-ad45-a81e84e6c740",
         "x": [
          "8-3",
          "8-4",
          "9-1",
          "9-2"
         ],
         "y": [
          13,
          16,
          18,
          20
         ]
        },
        {
         "name": "张守伟_延期完成",
         "type": "scatter",
         "uid": "7397ad50-c204-11e8-ad45-a81e84e6c740",
         "x": [
          "8-3",
          "8-4",
          "9-1",
          "9-2"
         ],
         "y": [
          0,
          0,
          0,
          0
         ]
        },
        {
         "name": "张守伟_开发中的项目数",
         "type": "scatter",
         "uid": "7397af30-c204-11e8-ad45-a81e84e6c740",
         "x": [
          "8-3",
          "8-4",
          "9-1",
          "9-2"
         ],
         "y": [
          2,
          2,
          2,
          2
         ]
        },
        {
         "name": "张守伟_延期项目数",
         "type": "scatter",
         "uid": "7397b106-c204-11e8-ad45-a81e84e6c740",
         "x": [
          "8-3",
          "8-4",
          "9-1",
          "9-2"
         ],
         "y": [
          0,
          0,
          0,
          0
         ]
        },
        {
         "name": "张守伟_暂停项目数",
         "type": "scatter",
         "uid": "7397b2dc-c204-11e8-ad45-a81e84e6c740",
         "x": [
          "8-3",
          "8-4",
          "9-1",
          "9-2"
         ],
         "y": [
          0,
          0,
          0,
          0
         ]
        },
        {
         "name": "周杨_季度开发项目数",
         "type": "scatter",
         "uid": "7397b4b2-c204-11e8-ad45-a81e84e6c740",
         "x": [
          "8-3",
          "8-4",
          "9-1",
          "9-2",
          "9-3"
         ],
         "y": [
          32,
          32,
          32,
          32,
          32
         ]
        },
        {
         "name": "周杨_如期完成项目数",
         "type": "scatter",
         "uid": "7397b67e-c204-11e8-ad45-a81e84e6c740",
         "x": [
          "8-3",
          "8-4",
          "9-1",
          "9-2",
          "9-3"
         ],
         "y": [
          28,
          28,
          28,
          29,
          32
         ]
        },
        {
         "name": "周杨_延期完成",
         "type": "scatter",
         "uid": "7397b84a-c204-11e8-ad45-a81e84e6c740",
         "x": [
          "8-3",
          "8-4",
          "9-1",
          "9-2",
          "9-3"
         ],
         "y": [
          0,
          0,
          0,
          0,
          0
         ]
        },
        {
         "name": "周杨_开发中的项目数",
         "type": "scatter",
         "uid": "7397ba20-c204-11e8-ad45-a81e84e6c740",
         "x": [
          "8-3",
          "8-4",
          "9-1",
          "9-2",
          "9-3"
         ],
         "y": [
          3,
          3,
          3,
          2,
          0
         ]
        },
        {
         "name": "周杨_延期项目数",
         "type": "scatter",
         "uid": "7397bbf6-c204-11e8-ad45-a81e84e6c740",
         "x": [
          "8-3",
          "8-4",
          "9-1",
          "9-2",
          "9-3"
         ],
         "y": [
          0,
          0,
          0,
          0,
          0
         ]
        },
        {
         "name": "周杨_暂停项目数",
         "type": "scatter",
         "uid": "7397bdc2-c204-11e8-ad45-a81e84e6c740",
         "x": [
          "8-3",
          "8-4",
          "9-1",
          "9-2",
          "9-3"
         ],
         "y": [
          1,
          1,
          1,
          1,
          1
         ]
        },
        {
         "name": "范旭宁_季度开发项目数",
         "type": "scatter",
         "uid": "7397bfc0-c204-11e8-ad45-a81e84e6c740",
         "x": [
          "8-3",
          "8-4",
          "9-1",
          "9-2"
         ],
         "y": [
          18,
          25,
          30,
          7
         ]
        },
        {
         "name": "范旭宁_如期完成项目数",
         "type": "scatter",
         "uid": "7397c18c-c204-11e8-ad45-a81e84e6c740",
         "x": [
          "8-3",
          "8-4",
          "9-1",
          "9-2"
         ],
         "y": [
          16,
          23,
          27,
          7
         ]
        },
        {
         "name": "范旭宁_延期完成",
         "type": "scatter",
         "uid": "7397c358-c204-11e8-ad45-a81e84e6c740",
         "x": [
          "8-3",
          "8-4",
          "9-1",
          "9-2"
         ],
         "y": [
          2,
          2,
          3,
          0
         ]
        },
        {
         "name": "范旭宁_开发中的项目数",
         "type": "scatter",
         "uid": "7397c524-c204-11e8-ad45-a81e84e6c740",
         "x": [
          "8-3",
          "8-4",
          "9-1",
          "9-2"
         ],
         "y": [
          0,
          1,
          1,
          0
         ]
        },
        {
         "name": "范旭宁_延期项目数",
         "type": "scatter",
         "uid": "7397c6f0-c204-11e8-ad45-a81e84e6c740",
         "x": [
          "8-3",
          "8-4",
          "9-1",
          "9-2"
         ],
         "y": [
          0,
          0,
          0,
          0
         ]
        },
        {
         "name": "范旭宁_暂停项目数",
         "type": "scatter",
         "uid": "7397c8bc-c204-11e8-ad45-a81e84e6c740",
         "x": [
          "8-3",
          "8-4",
          "9-1",
          "9-2"
         ],
         "y": [
          0,
          0,
          0,
          0
         ]
        },
        {
         "name": "孟昊_季度开发项目数",
         "type": "scatter",
         "uid": "7397ca92-c204-11e8-ad45-a81e84e6c740",
         "x": [
          "8-3",
          "8-4",
          "9-1",
          "9-2",
          "9-3"
         ],
         "y": [
          43,
          43,
          43,
          43,
          43
         ]
        },
        {
         "name": "孟昊_如期完成项目数",
         "type": "scatter",
         "uid": "7397cc5e-c204-11e8-ad45-a81e84e6c740",
         "x": [
          "8-3",
          "8-4",
          "9-1",
          "9-2",
          "9-3"
         ],
         "y": [
          38,
          38,
          38,
          39,
          39
         ]
        },
        {
         "name": "孟昊_延期完成",
         "type": "scatter",
         "uid": "7397ce2a-c204-11e8-ad45-a81e84e6c740",
         "x": [
          "8-3",
          "8-4",
          "9-1",
          "9-2",
          "9-3"
         ],
         "y": [
          0,
          0,
          0,
          0,
          0
         ]
        },
        {
         "name": "孟昊_开发中的项目数",
         "type": "scatter",
         "uid": "7397cff6-c204-11e8-ad45-a81e84e6c740",
         "x": [
          "8-3",
          "8-4",
          "9-1",
          "9-2",
          "9-3"
         ],
         "y": [
          2,
          2,
          2,
          2,
          2
         ]
        },
        {
         "name": "孟昊_延期项目数",
         "type": "scatter",
         "uid": "7397d1c2-c204-11e8-ad45-a81e84e6c740",
         "x": [
          "8-3",
          "8-4",
          "9-1",
          "9-2",
          "9-3"
         ],
         "y": [
          0,
          0,
          0,
          0,
          0
         ]
        },
        {
         "name": "孟昊_暂停项目数",
         "type": "scatter",
         "uid": "7397d384-c204-11e8-ad45-a81e84e6c740",
         "x": [
          "8-3",
          "8-4",
          "9-1",
          "9-2",
          "9-3"
         ],
         "y": [
          3,
          3,
          3,
          3,
          3
         ]
        },
        {
         "name": "于勇一_季度开发项目数",
         "type": "scatter",
         "uid": "7397d55a-c204-11e8-ad45-a81e84e6c740",
         "x": [
          "8-3",
          "8-4",
          "9-1",
          "9-2",
          "9-3"
         ],
         "y": [
          0,
          0,
          0,
          0,
          0
         ]
        },
        {
         "name": "于勇一_如期完成项目数",
         "type": "scatter",
         "uid": "7397d71c-c204-11e8-ad45-a81e84e6c740",
         "x": [
          "8-3",
          "8-4",
          "9-1",
          "9-2",
          "9-3"
         ],
         "y": [
          0,
          0,
          0,
          0,
          0
         ]
        },
        {
         "name": "于勇一_延期完成",
         "type": "scatter",
         "uid": "7397d8f2-c204-11e8-ad45-a81e84e6c740",
         "x": [
          "8-3",
          "8-4",
          "9-1",
          "9-2",
          "9-3"
         ],
         "y": [
          0,
          0,
          0,
          0,
          0
         ]
        },
        {
         "name": "于勇一_开发中的项目数",
         "type": "scatter",
         "uid": "7397dabe-c204-11e8-ad45-a81e84e6c740",
         "x": [
          "8-3",
          "8-4",
          "9-1",
          "9-2",
          "9-3"
         ],
         "y": [
          0,
          0,
          0,
          0,
          0
         ]
        },
        {
         "name": "于勇一_延期项目数",
         "type": "scatter",
         "uid": "7397dc80-c204-11e8-ad45-a81e84e6c740",
         "x": [
          "8-3",
          "8-4",
          "9-1",
          "9-2",
          "9-3"
         ],
         "y": [
          0,
          0,
          0,
          0,
          0
         ]
        },
        {
         "name": "于勇一_暂停项目数",
         "type": "scatter",
         "uid": "7397de4c-c204-11e8-ad45-a81e84e6c740",
         "x": [
          "8-3",
          "8-4",
          "9-1",
          "9-2",
          "9-3"
         ],
         "y": [
          0,
          0,
          0,
          0,
          0
         ]
        },
        {
         "name": "于慧_季度开发项目数",
         "type": "scatter",
         "uid": "7397e018-c204-11e8-ad45-a81e84e6c740",
         "x": [
          "8-3",
          "8-4",
          "9-1",
          "9-2",
          "9-3"
         ],
         "y": [
          36,
          36,
          36,
          37,
          37
         ]
        },
        {
         "name": "于慧_如期完成项目数",
         "type": "scatter",
         "uid": "7397e216-c204-11e8-ad45-a81e84e6c740",
         "x": [
          "8-3",
          "8-4",
          "9-1",
          "9-2",
          "9-3"
         ],
         "y": [
          32,
          33,
          34,
          35,
          35
         ]
        },
        {
         "name": "于慧_延期完成",
         "type": "scatter",
         "uid": "7397e3f6-c204-11e8-ad45-a81e84e6c740",
         "x": [
          "8-3",
          "8-4",
          "9-1",
          "9-2",
          "9-3"
         ],
         "y": [
          0,
          0,
          0,
          0,
          0
         ]
        },
        {
         "name": "于慧_开发中的项目数",
         "type": "scatter",
         "uid": "7397e8a6-c204-11e8-ad45-a81e84e6c740",
         "x": [
          "8-3",
          "8-4",
          "9-1",
          "9-2",
          "9-3"
         ],
         "y": [
          4,
          3,
          2,
          2,
          2
         ]
        },
        {
         "name": "于慧_延期项目数",
         "type": "scatter",
         "uid": "7397eb76-c204-11e8-ad45-a81e84e6c740",
         "x": [
          "8-3",
          "8-4",
          "9-1",
          "9-2",
          "9-3"
         ],
         "y": [
          0,
          0,
          0,
          0,
          0
         ]
        },
        {
         "name": "于慧_暂停项目数",
         "type": "scatter",
         "uid": "7397ed56-c204-11e8-ad45-a81e84e6c740",
         "x": [
          "8-3",
          "8-4",
          "9-1",
          "9-2",
          "9-3"
         ],
         "y": [
          0,
          0,
          0,
          0,
          0
         ]
        },
        {
         "name": "刘江_季度开发项目数",
         "type": "scatter",
         "uid": "7397ef22-c204-11e8-ad45-a81e84e6c740",
         "x": [
          "8-3",
          "8-4",
          "9-1",
          "9-2",
          "9-3"
         ],
         "y": [
          3,
          3,
          3,
          0,
          3
         ]
        },
        {
         "name": "刘江_如期完成项目数",
         "type": "scatter",
         "uid": "7397f0f8-c204-11e8-ad45-a81e84e6c740",
         "x": [
          "8-3",
          "8-4",
          "9-1",
          "9-2",
          "9-3"
         ],
         "y": [
          0,
          0,
          0,
          0,
          0
         ]
        },
        {
         "name": "刘江_延期完成",
         "type": "scatter",
         "uid": "7397f2c4-c204-11e8-ad45-a81e84e6c740",
         "x": [
          "8-3",
          "8-4",
          "9-1",
          "9-2",
          "9-3"
         ],
         "y": [
          0,
          1,
          2,
          0,
          2
         ]
        },
        {
         "name": "刘江_开发中的项目数",
         "type": "scatter",
         "uid": "7397f490-c204-11e8-ad45-a81e84e6c740",
         "x": [
          "8-3",
          "8-4",
          "9-1",
          "9-2",
          "9-3"
         ],
         "y": [
          3,
          2,
          1,
          1,
          1
         ]
        },
        {
         "name": "刘江_延期项目数",
         "type": "scatter",
         "uid": "7397f65c-c204-11e8-ad45-a81e84e6c740",
         "x": [
          "8-3",
          "8-4",
          "9-1",
          "9-2",
          "9-3"
         ],
         "y": [
          0,
          0,
          0,
          0,
          0
         ]
        },
        {
         "name": "刘江_暂停项目数",
         "type": "scatter",
         "uid": "7397f832-c204-11e8-ad45-a81e84e6c740",
         "x": [
          "8-3",
          "8-4",
          "9-1",
          "9-2",
          "9-3"
         ],
         "y": [
          0,
          0,
          0,
          1,
          0
         ]
        },
        {
         "name": "李华云_季度开发项目数",
         "type": "scatter",
         "uid": "7397f9fe-c204-11e8-ad45-a81e84e6c740",
         "x": [
          "8-3",
          "8-4",
          "9-1",
          "9-2",
          "9-3"
         ],
         "y": [
          35,
          35,
          35,
          35,
          47
         ]
        },
        {
         "name": "李华云_如期完成项目数",
         "type": "scatter",
         "uid": "7397fbd4-c204-11e8-ad45-a81e84e6c740",
         "x": [
          "8-3",
          "8-4",
          "9-1",
          "9-2",
          "9-3"
         ],
         "y": [
          5,
          5,
          5,
          5,
          22
         ]
        },
        {
         "name": "李华云_延期完成",
         "type": "scatter",
         "uid": "7397fda0-c204-11e8-ad45-a81e84e6c740",
         "x": [
          "8-3",
          "8-4",
          "9-1",
          "9-2",
          "9-3"
         ],
         "y": [
          0,
          0,
          1,
          3,
          13
         ]
        },
        {
         "name": "李华云_开发中的项目数",
         "type": "scatter",
         "uid": "7397ff6c-c204-11e8-ad45-a81e84e6c740",
         "x": [
          "8-3",
          "8-4",
          "9-1",
          "9-2",
          "9-3"
         ],
         "y": [
          24,
          24,
          20,
          18,
          3
         ]
        },
        {
         "name": "李华云_延期项目数",
         "type": "scatter",
         "uid": "73980142-c204-11e8-ad45-a81e84e6c740",
         "x": [
          "8-3",
          "8-4",
          "9-1",
          "9-2",
          "9-3"
         ],
         "y": [
          6,
          6,
          9,
          9,
          6
         ]
        },
        {
         "name": "李华云_暂停项目数",
         "type": "scatter",
         "uid": "7398030e-c204-11e8-ad45-a81e84e6c740",
         "x": [
          "8-3",
          "8-4",
          "9-1",
          "9-2",
          "9-3"
         ],
         "y": [
          0,
          0,
          0,
          0,
          3
         ]
        },
        {
         "name": "谢德健_季度开发项目数",
         "type": "scatter",
         "uid": "739804da-c204-11e8-ad45-a81e84e6c740",
         "x": [
          "8-3",
          "8-4",
          "9-2",
          "9-3"
         ],
         "y": [
          0,
          0,
          6,
          6
         ]
        },
        {
         "name": "谢德健_如期完成项目数",
         "type": "scatter",
         "uid": "739806a6-c204-11e8-ad45-a81e84e6c740",
         "x": [
          "8-3",
          "8-4",
          "9-2",
          "9-3"
         ],
         "y": [
          0,
          0,
          6,
          6
         ]
        },
        {
         "name": "谢德健_延期完成",
         "type": "scatter",
         "uid": "7398087c-c204-11e8-ad45-a81e84e6c740",
         "x": [
          "8-3",
          "8-4",
          "9-2",
          "9-3"
         ],
         "y": [
          0,
          0,
          0,
          0
         ]
        },
        {
         "name": "谢德健_开发中的项目数",
         "type": "scatter",
         "uid": "73980a3e-c204-11e8-ad45-a81e84e6c740",
         "x": [
          "8-3",
          "8-4",
          "9-2",
          "9-3"
         ],
         "y": [
          0,
          0,
          0,
          0
         ]
        },
        {
         "name": "谢德健_延期项目数",
         "type": "scatter",
         "uid": "73980c46-c204-11e8-ad45-a81e84e6c740",
         "x": [
          "8-3",
          "8-4",
          "9-2",
          "9-3"
         ],
         "y": [
          0,
          0,
          0,
          0
         ]
        },
        {
         "name": "谢德健_暂停项目数",
         "type": "scatter",
         "uid": "73980e1c-c204-11e8-ad45-a81e84e6c740",
         "x": [
          "8-3",
          "8-4",
          "9-2",
          "9-3"
         ],
         "y": [
          0,
          0,
          0,
          0
         ]
        },
        {
         "name": "任雪_季度开发项目数",
         "type": "scatter",
         "uid": "73980ff2-c204-11e8-ad45-a81e84e6c740",
         "x": [
          "8-4",
          "9-1",
          "9-2",
          "9-3"
         ],
         "y": [
          27,
          27,
          27,
          27
         ]
        },
        {
         "name": "任雪_如期完成项目数",
         "type": "scatter",
         "uid": "739811be-c204-11e8-ad45-a81e84e6c740",
         "x": [
          "8-4",
          "9-1",
          "9-2",
          "9-3"
         ],
         "y": [
          8,
          8,
          8,
          8
         ]
        },
        {
         "name": "任雪_延期完成",
         "type": "scatter",
         "uid": "7398138a-c204-11e8-ad45-a81e84e6c740",
         "x": [
          "8-4",
          "9-1",
          "9-2",
          "9-3"
         ],
         "y": [
          1,
          1,
          1,
          5
         ]
        },
        {
         "name": "任雪_开发中的项目数",
         "type": "scatter",
         "uid": "73981560-c204-11e8-ad45-a81e84e6c740",
         "x": [
          "8-4",
          "9-1",
          "9-2",
          "9-3"
         ],
         "y": [
          15,
          8,
          8,
          6
         ]
        },
        {
         "name": "任雪_延期项目数",
         "type": "scatter",
         "uid": "7398172c-c204-11e8-ad45-a81e84e6c740",
         "x": [
          "8-4",
          "9-1",
          "9-2",
          "9-3"
         ],
         "y": [
          3,
          7,
          7,
          4
         ]
        },
        {
         "name": "任雪_暂停项目数",
         "type": "scatter",
         "uid": "739818f8-c204-11e8-ad45-a81e84e6c740",
         "x": [
          "8-4",
          "9-1",
          "9-2",
          "9-3"
         ],
         "y": [
          0,
          3,
          3,
          4
         ]
        }
       ],
       "layout": {
        "title": "季度开发项目数&如期完成项目数&延期完成&开发中的项目数&延期项目数&暂停项目数周趋势图",
        "xaxis": {
         "mirror": "all",
         "nticks": 20,
         "showgrid": true,
         "showline": true,
         "title": "周",
         "zeroline": true
        },
        "yaxis": {
         "mirror": "all",
         "nticks": 20,
         "showgrid": true,
         "showline": true,
         "title": "季度开发项目数&如期完成项目数&延期完成&开发中的项目数&延期项目数&暂停项目数",
         "zeroline": true
        }
       }
      },
      "text/html": [
       "<div id=\"848e05d1-4abf-4e87-bc4e-597399c13218\" style=\"height: 525px; width: 100%;\" class=\"plotly-graph-div\"></div><script type=\"text/javascript\">require([\"plotly\"], function(Plotly) { window.PLOTLYENV=window.PLOTLYENV || {};window.PLOTLYENV.BASE_URL=\"https://plot.ly\";\n",
       "        Plotly.plot(\n",
       "            '848e05d1-4abf-4e87-bc4e-597399c13218',\n",
       "            [{\"name\": \"\\u59da\\u76df\\u6210_\\u5b63\\u5ea6\\u5f00\\u53d1\\u9879\\u76ee\\u6570\", \"x\": [\"8-3\", \"8-4\", \"9-1\", \"9-2\", \"9-3\"], \"y\": [9.0, 9.0, 9.0, 9.0, 9.0], \"type\": \"scatter\", \"uid\": \"7396eb90-c204-11e8-ad45-a81e84e6c740\"}, {\"name\": \"\\u59da\\u76df\\u6210_\\u5982\\u671f\\u5b8c\\u6210\\u9879\\u76ee\\u6570\", \"x\": [\"8-3\", \"8-4\", \"9-1\", \"9-2\", \"9-3\"], \"y\": [3.0, 3.0, 3.0, 3.0, 3.0], \"type\": \"scatter\", \"uid\": \"7396eea6-c204-11e8-ad45-a81e84e6c740\"}, {\"name\": \"\\u59da\\u76df\\u6210_\\u5ef6\\u671f\\u5b8c\\u6210\", \"x\": [\"8-3\", \"8-4\", \"9-1\", \"9-2\", \"9-3\"], \"y\": [0.0, 0.0, 0.0, 0.0, 0.0], \"type\": \"scatter\", \"uid\": \"7396f0ea-c204-11e8-ad45-a81e84e6c740\"}, {\"name\": \"\\u59da\\u76df\\u6210_\\u5f00\\u53d1\\u4e2d\\u7684\\u9879\\u76ee\\u6570\", \"x\": [\"8-3\", \"8-4\", \"9-1\", \"9-2\", \"9-3\"], \"y\": [1.0, 2.0, 3.0, 2.0, 7.0], \"type\": \"scatter\", \"uid\": \"7396f2e8-c204-11e8-ad45-a81e84e6c740\"}, {\"name\": \"\\u59da\\u76df\\u6210_\\u5ef6\\u671f\\u9879\\u76ee\\u6570\", \"x\": [\"8-3\", \"8-4\", \"9-1\", \"9-2\", \"9-3\"], \"y\": [0.0, 0.0, 0.0, 0.0, 0.0], \"type\": \"scatter\", \"uid\": \"7396f4c8-c204-11e8-ad45-a81e84e6c740\"}, {\"name\": \"\\u59da\\u76df\\u6210_\\u6682\\u505c\\u9879\\u76ee\\u6570\", \"x\": [\"8-3\", \"8-4\", \"9-1\", \"9-2\", \"9-3\"], \"y\": [0.0, 0.0, 0.0, 0.0, 12.0], \"type\": \"scatter\", \"uid\": \"7396f6b2-c204-11e8-ad45-a81e84e6c740\"}, {\"name\": \"\\u5218\\u6167\\u73b2_\\u5b63\\u5ea6\\u5f00\\u53d1\\u9879\\u76ee\\u6570\", \"x\": [\"8-3\", \"8-4\", \"9-1\"], \"y\": [8.0, 8.0, 9.0], \"type\": \"scatter\", \"uid\": \"7396f888-c204-11e8-ad45-a81e84e6c740\"}, {\"name\": \"\\u5218\\u6167\\u73b2_\\u5982\\u671f\\u5b8c\\u6210\\u9879\\u76ee\\u6570\", \"x\": [\"8-3\", \"8-4\", \"9-1\"], \"y\": [3.0, 3.0, 3.0], \"type\": \"scatter\", \"uid\": \"7396fa68-c204-11e8-ad45-a81e84e6c740\"}, {\"name\": \"\\u5218\\u6167\\u73b2_\\u5ef6\\u671f\\u5b8c\\u6210\", \"x\": [\"8-3\", \"8-4\", \"9-1\"], \"y\": [1.0, 1.0, 1.0], \"type\": \"scatter\", \"uid\": \"7396fc3e-c204-11e8-ad45-a81e84e6c740\"}, {\"name\": \"\\u5218\\u6167\\u73b2_\\u5f00\\u53d1\\u4e2d\\u7684\\u9879\\u76ee\\u6570\", \"x\": [\"8-3\", \"8-4\", \"9-1\"], \"y\": [2.0, 2.0, 1.0], \"type\": \"scatter\", \"uid\": \"7396fe1e-c204-11e8-ad45-a81e84e6c740\"}, {\"name\": \"\\u5218\\u6167\\u73b2_\\u5ef6\\u671f\\u9879\\u76ee\\u6570\", \"x\": [\"8-3\", \"8-4\", \"9-1\"], \"y\": [0.0, 0.0, 0.0], \"type\": \"scatter\", \"uid\": \"7396ffea-c204-11e8-ad45-a81e84e6c740\"}, {\"name\": \"\\u5218\\u6167\\u73b2_\\u6682\\u505c\\u9879\\u76ee\\u6570\", \"x\": [\"8-3\", \"8-4\", \"9-1\"], \"y\": [2.0, 2.0, 4.0], \"type\": \"scatter\", \"uid\": \"739703c8-c204-11e8-ad45-a81e84e6c740\"}, {\"name\": \"\\u5360\\u4f1f_\\u5b63\\u5ea6\\u5f00\\u53d1\\u9879\\u76ee\\u6570\", \"x\": [\"8-3\", \"8-4\", \"9-1\", \"9-2\"], \"y\": [19.0, 18.0, 18.0, 18.0], \"type\": \"scatter\", \"uid\": \"73970652-c204-11e8-ad45-a81e84e6c740\"}, {\"name\": \"\\u5360\\u4f1f_\\u5982\\u671f\\u5b8c\\u6210\\u9879\\u76ee\\u6570\", \"x\": [\"8-3\", \"8-4\", \"9-1\", \"9-2\"], \"y\": [12.0, 10.0, 10.0, 10.0], \"type\": \"scatter\", \"uid\": \"73970832-c204-11e8-ad45-a81e84e6c740\"}, {\"name\": \"\\u5360\\u4f1f_\\u5ef6\\u671f\\u5b8c\\u6210\", \"x\": [\"8-3\", \"8-4\", \"9-1\", \"9-2\"], \"y\": [2.0, 1.0, 1.0, 1.0], \"type\": \"scatter\", \"uid\": \"73970aee-c204-11e8-ad45-a81e84e6c740\"}, {\"name\": \"\\u5360\\u4f1f_\\u5f00\\u53d1\\u4e2d\\u7684\\u9879\\u76ee\\u6570\", \"x\": [\"8-3\", \"8-4\", \"9-1\", \"9-2\"], \"y\": [2.0, 5.0, 5.0, 5.0], \"type\": \"scatter\", \"uid\": \"73970d64-c204-11e8-ad45-a81e84e6c740\"}, {\"name\": \"\\u5360\\u4f1f_\\u5ef6\\u671f\\u9879\\u76ee\\u6570\", \"x\": [\"8-3\", \"8-4\", \"9-1\", \"9-2\"], \"y\": [3.0, 3.0, 3.0, 3.0], \"type\": \"scatter\", \"uid\": \"73970f62-c204-11e8-ad45-a81e84e6c740\"}, {\"name\": \"\\u5360\\u4f1f_\\u6682\\u505c\\u9879\\u76ee\\u6570\", \"x\": [\"8-3\", \"8-4\", \"9-1\", \"9-2\"], \"y\": [0.0, 0.0, 0.0, 0.0], \"type\": \"scatter\", \"uid\": \"73971192-c204-11e8-ad45-a81e84e6c740\"}, {\"name\": \"\\u738b\\u5b81_\\u5b63\\u5ea6\\u5f00\\u53d1\\u9879\\u76ee\\u6570\", \"x\": [\"8-3\", \"8-4\", \"9-1\"], \"y\": [0.0, 0.0, 0.0], \"type\": \"scatter\", \"uid\": \"73971458-c204-11e8-ad45-a81e84e6c740\"}, {\"name\": \"\\u738b\\u5b81_\\u5982\\u671f\\u5b8c\\u6210\\u9879\\u76ee\\u6570\", \"x\": [\"8-3\", \"8-4\", \"9-1\"], \"y\": [0.0, 0.0, 0.0], \"type\": \"scatter\", \"uid\": \"7397178c-c204-11e8-ad45-a81e84e6c740\"}, {\"name\": \"\\u738b\\u5b81_\\u5ef6\\u671f\\u5b8c\\u6210\", \"x\": [\"8-3\", \"8-4\", \"9-1\"], \"y\": [0.0, 0.0, 0.0], \"type\": \"scatter\", \"uid\": \"73971ba6-c204-11e8-ad45-a81e84e6c740\"}, {\"name\": \"\\u738b\\u5b81_\\u5f00\\u53d1\\u4e2d\\u7684\\u9879\\u76ee\\u6570\", \"x\": [\"8-3\", \"8-4\", \"9-1\"], \"y\": [0.0, 0.0, 0.0], \"type\": \"scatter\", \"uid\": \"73971e80-c204-11e8-ad45-a81e84e6c740\"}, {\"name\": \"\\u738b\\u5b81_\\u5ef6\\u671f\\u9879\\u76ee\\u6570\", \"x\": [\"8-3\", \"8-4\", \"9-1\"], \"y\": [0.0, 0.0, 0.0], \"type\": \"scatter\", \"uid\": \"739721f0-c204-11e8-ad45-a81e84e6c740\"}, {\"name\": \"\\u738b\\u5b81_\\u6682\\u505c\\u9879\\u76ee\\u6570\", \"x\": [\"8-3\", \"8-4\", \"9-1\"], \"y\": [0.0, 0.0, 0.0], \"type\": \"scatter\", \"uid\": \"73972498-c204-11e8-ad45-a81e84e6c740\"}, {\"name\": \"\\u5c01\\u5f66\\u6770_\\u5b63\\u5ea6\\u5f00\\u53d1\\u9879\\u76ee\\u6570\", \"x\": [\"8-3\", \"8-4\", \"9-1\", \"9-2\", \"9-3\"], \"y\": [5.0, 5.0, 5.0, 5.0, 5.0], \"type\": \"scatter\", \"uid\": \"739726a0-c204-11e8-ad45-a81e84e6c740\"}, {\"name\": \"\\u5c01\\u5f66\\u6770_\\u5982\\u671f\\u5b8c\\u6210\\u9879\\u76ee\\u6570\", \"x\": [\"8-3\", \"8-4\", \"9-1\", \"9-2\", \"9-3\"], \"y\": [0.0, 0.0, 2.0, 2.0, 2.0], \"type\": \"scatter\", \"uid\": \"73972894-c204-11e8-ad45-a81e84e6c740\"}, {\"name\": \"\\u5c01\\u5f66\\u6770_\\u5ef6\\u671f\\u5b8c\\u6210\", \"x\": [\"8-3\", \"8-4\", \"9-1\", \"9-2\", \"9-3\"], \"y\": [0.0, 0.0, 0.0, 0.0, 0.0], \"type\": \"scatter\", \"uid\": \"73972b00-c204-11e8-ad45-a81e84e6c740\"}, {\"name\": \"\\u5c01\\u5f66\\u6770_\\u5f00\\u53d1\\u4e2d\\u7684\\u9879\\u76ee\\u6570\", \"x\": [\"8-3\", \"8-4\", \"9-1\", \"9-2\", \"9-3\"], \"y\": [4.0, 4.0, 2.0, 2.0, 3.0], \"type\": \"scatter\", \"uid\": \"73972cd6-c204-11e8-ad45-a81e84e6c740\"}, {\"name\": \"\\u5c01\\u5f66\\u6770_\\u5ef6\\u671f\\u9879\\u76ee\\u6570\", \"x\": [\"8-3\", \"8-4\", \"9-1\", \"9-2\", \"9-3\"], \"y\": [0.0, 0.0, 0.0, 0.0, 0.0], \"type\": \"scatter\", \"uid\": \"73972ea2-c204-11e8-ad45-a81e84e6c740\"}, {\"name\": \"\\u5c01\\u5f66\\u6770_\\u6682\\u505c\\u9879\\u76ee\\u6570\", \"x\": [\"8-3\", \"8-4\", \"9-1\", \"9-2\", \"9-3\"], \"y\": [1.0, 1.0, 1.0, 1.0, 0.0], \"type\": \"scatter\", \"uid\": \"73973082-c204-11e8-ad45-a81e84e6c740\"}, {\"name\": \"\\u8def\\u6167\\u840d_\\u5b63\\u5ea6\\u5f00\\u53d1\\u9879\\u76ee\\u6570\", \"x\": [\"8-3\", \"8-4\", \"9-1\", \"9-2\", \"9-3\"], \"y\": [0.0, 0.0, 0.0, 0.0, 0.0], \"type\": \"scatter\", \"uid\": \"73973262-c204-11e8-ad45-a81e84e6c740\"}, {\"name\": \"\\u8def\\u6167\\u840d_\\u5982\\u671f\\u5b8c\\u6210\\u9879\\u76ee\\u6570\", \"x\": [\"8-3\", \"8-4\", \"9-1\", \"9-2\", \"9-3\"], \"y\": [0.0, 0.0, 0.0, 0.0, 0.0], \"type\": \"scatter\", \"uid\": \"73973438-c204-11e8-ad45-a81e84e6c740\"}, {\"name\": \"\\u8def\\u6167\\u840d_\\u5ef6\\u671f\\u5b8c\\u6210\", \"x\": [\"8-3\", \"8-4\", \"9-1\", \"9-2\", \"9-3\"], \"y\": [0.0, 0.0, 0.0, 0.0, 0.0], \"type\": \"scatter\", \"uid\": \"7397360e-c204-11e8-ad45-a81e84e6c740\"}, {\"name\": \"\\u8def\\u6167\\u840d_\\u5f00\\u53d1\\u4e2d\\u7684\\u9879\\u76ee\\u6570\", \"x\": [\"8-3\", \"8-4\", \"9-1\", \"9-2\", \"9-3\"], \"y\": [0.0, 0.0, 0.0, 0.0, 0.0], \"type\": \"scatter\", \"uid\": \"739737e4-c204-11e8-ad45-a81e84e6c740\"}, {\"name\": \"\\u8def\\u6167\\u840d_\\u5ef6\\u671f\\u9879\\u76ee\\u6570\", \"x\": [\"8-3\", \"8-4\", \"9-1\", \"9-2\", \"9-3\"], \"y\": [0.0, 0.0, 0.0, 0.0, 0.0], \"type\": \"scatter\", \"uid\": \"739739ba-c204-11e8-ad45-a81e84e6c740\"}, {\"name\": \"\\u8def\\u6167\\u840d_\\u6682\\u505c\\u9879\\u76ee\\u6570\", \"x\": [\"8-3\", \"8-4\", \"9-1\", \"9-2\", \"9-3\"], \"y\": [0.0, 0.0, 0.0, 0.0, 2.0], \"type\": \"scatter\", \"uid\": \"73973b90-c204-11e8-ad45-a81e84e6c740\"}, {\"name\": \"\\u5b8b\\u8fce\\u6960_\\u5b63\\u5ea6\\u5f00\\u53d1\\u9879\\u76ee\\u6570\", \"x\": [\"8-3\", \"8-4\", \"9-1\"], \"y\": [23.0, 23.0, 23.0], \"type\": \"scatter\", \"uid\": \"73973d5c-c204-11e8-ad45-a81e84e6c740\"}, {\"name\": \"\\u5b8b\\u8fce\\u6960_\\u5982\\u671f\\u5b8c\\u6210\\u9879\\u76ee\\u6570\", \"x\": [\"8-3\", \"8-4\", \"9-1\"], \"y\": [0.0, 0.0, 0.0], \"type\": \"scatter\", \"uid\": \"73973f3c-c204-11e8-ad45-a81e84e6c740\"}, {\"name\": \"\\u5b8b\\u8fce\\u6960_\\u5ef6\\u671f\\u5b8c\\u6210\", \"x\": [\"8-3\", \"8-4\", \"9-1\"], \"y\": [8.0, 9.0, 10.0], \"type\": \"scatter\", \"uid\": \"73974112-c204-11e8-ad45-a81e84e6c740\"}, {\"name\": \"\\u5b8b\\u8fce\\u6960_\\u5f00\\u53d1\\u4e2d\\u7684\\u9879\\u76ee\\u6570\", \"x\": [\"8-3\", \"8-4\", \"9-1\"], \"y\": [14.0, 13.0, 7.0], \"type\": \"scatter\", \"uid\": \"739742de-c204-11e8-ad45-a81e84e6c740\"}, {\"name\": \"\\u5b8b\\u8fce\\u6960_\\u5ef6\\u671f\\u9879\\u76ee\\u6570\", \"x\": [\"8-3\", \"8-4\", \"9-1\"], \"y\": [1.0, 1.0, 6.0], \"type\": \"scatter\", \"uid\": \"739744b4-c204-11e8-ad45-a81e84e6c740\"}, {\"name\": \"\\u5b8b\\u8fce\\u6960_\\u6682\\u505c\\u9879\\u76ee\\u6570\", \"x\": [\"8-3\", \"8-4\", \"9-1\"], \"y\": [0.0, 0.0, 0.0], \"type\": \"scatter\", \"uid\": \"7397468a-c204-11e8-ad45-a81e84e6c740\"}, {\"name\": \"\\u6768\\u4f1f\\u98de_\\u5b63\\u5ea6\\u5f00\\u53d1\\u9879\\u76ee\\u6570\", \"x\": [\"8-3\", \"8-4\", \"9-1\", \"9-2\", \"9-3\"], \"y\": [8.0, 8.0, 8.0, 8.0, 8.0], \"type\": \"scatter\", \"uid\": \"73974856-c204-11e8-ad45-a81e84e6c740\"}, {\"name\": \"\\u6768\\u4f1f\\u98de_\\u5982\\u671f\\u5b8c\\u6210\\u9879\\u76ee\\u6570\", \"x\": [\"8-3\", \"8-4\", \"9-1\", \"9-2\", \"9-3\"], \"y\": [2.0, 2.0, 4.0, 4.0, 4.0], \"type\": \"scatter\", \"uid\": \"73974a2c-c204-11e8-ad45-a81e84e6c740\"}, {\"name\": \"\\u6768\\u4f1f\\u98de_\\u5ef6\\u671f\\u5b8c\\u6210\", \"x\": [\"8-3\", \"8-4\", \"9-1\", \"9-2\", \"9-3\"], \"y\": [1.0, 2.0, 2.0, 2.0, 2.0], \"type\": \"scatter\", \"uid\": \"73974bf8-c204-11e8-ad45-a81e84e6c740\"}, {\"name\": \"\\u6768\\u4f1f\\u98de_\\u5f00\\u53d1\\u4e2d\\u7684\\u9879\\u76ee\\u6570\", \"x\": [\"8-3\", \"8-4\", \"9-1\", \"9-2\", \"9-3\"], \"y\": [5.0, 4.0, 2.0, 2.0, 2.0], \"type\": \"scatter\", \"uid\": \"739751ca-c204-11e8-ad45-a81e84e6c740\"}, {\"name\": \"\\u6768\\u4f1f\\u98de_\\u5ef6\\u671f\\u9879\\u76ee\\u6570\", \"x\": [\"8-3\", \"8-4\", \"9-1\", \"9-2\", \"9-3\"], \"y\": [0.0, 0.0, 0.0, 0.0, 0.0], \"type\": \"scatter\", \"uid\": \"7397549a-c204-11e8-ad45-a81e84e6c740\"}, {\"name\": \"\\u6768\\u4f1f\\u98de_\\u6682\\u505c\\u9879\\u76ee\\u6570\", \"x\": [\"8-3\", \"8-4\", \"9-1\", \"9-2\", \"9-3\"], \"y\": [0.0, 0.0, 0.0, 0.0, 0.0], \"type\": \"scatter\", \"uid\": \"73975670-c204-11e8-ad45-a81e84e6c740\"}, {\"name\": \"\\u9a6c\\u6f47_\\u5b63\\u5ea6\\u5f00\\u53d1\\u9879\\u76ee\\u6570\", \"x\": [\"8-3\", \"8-4\", \"9-1\", \"9-2\"], \"y\": [0.0, 0.0, 0.0, 0.0], \"type\": \"scatter\", \"uid\": \"73975850-c204-11e8-ad45-a81e84e6c740\"}, {\"name\": \"\\u9a6c\\u6f47_\\u5982\\u671f\\u5b8c\\u6210\\u9879\\u76ee\\u6570\", \"x\": [\"8-3\", \"8-4\", \"9-1\", \"9-2\"], \"y\": [0.0, 0.0, 0.0, 0.0], \"type\": \"scatter\", \"uid\": \"73975a1c-c204-11e8-ad45-a81e84e6c740\"}, {\"name\": \"\\u9a6c\\u6f47_\\u5ef6\\u671f\\u5b8c\\u6210\", \"x\": [\"8-3\", \"8-4\", \"9-1\", \"9-2\"], \"y\": [0.0, 0.0, 0.0, 0.0], \"type\": \"scatter\", \"uid\": \"73975bf2-c204-11e8-ad45-a81e84e6c740\"}, {\"name\": \"\\u9a6c\\u6f47_\\u5f00\\u53d1\\u4e2d\\u7684\\u9879\\u76ee\\u6570\", \"x\": [\"8-3\", \"8-4\", \"9-1\", \"9-2\"], \"y\": [1.0, 0.0, 0.0, 0.0], \"type\": \"scatter\", \"uid\": \"73975dc8-c204-11e8-ad45-a81e84e6c740\"}, {\"name\": \"\\u9a6c\\u6f47_\\u5ef6\\u671f\\u9879\\u76ee\\u6570\", \"x\": [\"8-3\", \"8-4\", \"9-1\", \"9-2\"], \"y\": [1.0, 0.0, 0.0, 0.0], \"type\": \"scatter\", \"uid\": \"73975f9e-c204-11e8-ad45-a81e84e6c740\"}, {\"name\": \"\\u9a6c\\u6f47_\\u6682\\u505c\\u9879\\u76ee\\u6570\", \"x\": [\"8-3\", \"8-4\", \"9-1\", \"9-2\"], \"y\": [0.0, 0.0, 0.0, 0.0], \"type\": \"scatter\", \"uid\": \"739762d2-c204-11e8-ad45-a81e84e6c740\"}, {\"name\": \"\\u674e\\u5e86\\u539f_\\u5b63\\u5ea6\\u5f00\\u53d1\\u9879\\u76ee\\u6570\", \"x\": [\"8-3\", \"8-4\", \"9-1\", \"9-2\", \"9-3\"], \"y\": [0.0, 0.0, 0.0, 0.0, 0.0], \"type\": \"scatter\", \"uid\": \"739764bc-c204-11e8-ad45-a81e84e6c740\"}, {\"name\": \"\\u674e\\u5e86\\u539f_\\u5982\\u671f\\u5b8c\\u6210\\u9879\\u76ee\\u6570\", \"x\": [\"8-3\", \"8-4\", \"9-1\", \"9-2\", \"9-3\"], \"y\": [0.0, 0.0, 0.0, 0.0, 0.0], \"type\": \"scatter\", \"uid\": \"739766a6-c204-11e8-ad45-a81e84e6c740\"}, {\"name\": \"\\u674e\\u5e86\\u539f_\\u5ef6\\u671f\\u5b8c\\u6210\", \"x\": [\"8-3\", \"8-4\", \"9-1\", \"9-2\", \"9-3\"], \"y\": [0.0, 0.0, 0.0, 0.0, 0.0], \"type\": \"scatter\", \"uid\": \"73976886-c204-11e8-ad45-a81e84e6c740\"}, {\"name\": \"\\u674e\\u5e86\\u539f_\\u5f00\\u53d1\\u4e2d\\u7684\\u9879\\u76ee\\u6570\", \"x\": [\"8-3\", \"8-4\", \"9-1\", \"9-2\", \"9-3\"], \"y\": [0.0, 0.0, 0.0, 0.0, 0.0], \"type\": \"scatter\", \"uid\": \"73976d72-c204-11e8-ad45-a81e84e6c740\"}, {\"name\": \"\\u674e\\u5e86\\u539f_\\u5ef6\\u671f\\u9879\\u76ee\\u6570\", \"x\": [\"8-3\", \"8-4\", \"9-1\", \"9-2\", \"9-3\"], \"y\": [0.0, 0.0, 0.0, 0.0, 0.0], \"type\": \"scatter\", \"uid\": \"739770e2-c204-11e8-ad45-a81e84e6c740\"}, {\"name\": \"\\u674e\\u5e86\\u539f_\\u6682\\u505c\\u9879\\u76ee\\u6570\", \"x\": [\"8-3\", \"8-4\", \"9-1\", \"9-2\", \"9-3\"], \"y\": [0.0, 0.0, 0.0, 0.0, 0.0], \"type\": \"scatter\", \"uid\": \"739773f8-c204-11e8-ad45-a81e84e6c740\"}, {\"name\": \"\\u97e9\\u5c11\\u6000_\\u5b63\\u5ea6\\u5f00\\u53d1\\u9879\\u76ee\\u6570\", \"x\": [\"8-3\", \"8-4\", \"9-1\", \"9-2\"], \"y\": [7.0, 7.0, 7.0, 6.0], \"type\": \"scatter\", \"uid\": \"739776d2-c204-11e8-ad45-a81e84e6c740\"}, {\"name\": \"\\u97e9\\u5c11\\u6000_\\u5982\\u671f\\u5b8c\\u6210\\u9879\\u76ee\\u6570\", \"x\": [\"8-3\", \"8-4\", \"9-1\", \"9-2\"], \"y\": [5.0, 5.0, 6.0, 5.0], \"type\": \"scatter\", \"uid\": \"73977e84-c204-11e8-ad45-a81e84e6c740\"}, {\"name\": \"\\u97e9\\u5c11\\u6000_\\u5ef6\\u671f\\u5b8c\\u6210\", \"x\": [\"8-3\", \"8-4\", \"9-1\", \"9-2\"], \"y\": [0.0, 0.0, 0.0, 0.0], \"type\": \"scatter\", \"uid\": \"73978294-c204-11e8-ad45-a81e84e6c740\"}, {\"name\": \"\\u97e9\\u5c11\\u6000_\\u5f00\\u53d1\\u4e2d\\u7684\\u9879\\u76ee\\u6570\", \"x\": [\"8-3\", \"8-4\", \"9-1\", \"9-2\"], \"y\": [1.0, 2.0, 1.0, 1.0], \"type\": \"scatter\", \"uid\": \"739784ec-c204-11e8-ad45-a81e84e6c740\"}, {\"name\": \"\\u97e9\\u5c11\\u6000_\\u5ef6\\u671f\\u9879\\u76ee\\u6570\", \"x\": [\"8-3\", \"8-4\", \"9-1\", \"9-2\"], \"y\": [0.0, 0.0, 0.0, 0.0], \"type\": \"scatter\", \"uid\": \"73978708-c204-11e8-ad45-a81e84e6c740\"}, {\"name\": \"\\u97e9\\u5c11\\u6000_\\u6682\\u505c\\u9879\\u76ee\\u6570\", \"x\": [\"8-3\", \"8-4\", \"9-1\", \"9-2\"], \"y\": [0.0, 0.0, 0.0, 0.0], \"type\": \"scatter\", \"uid\": \"739788fc-c204-11e8-ad45-a81e84e6c740\"}, {\"name\": \"\\u8d75\\u73a5_\\u5b63\\u5ea6\\u5f00\\u53d1\\u9879\\u76ee\\u6570\", \"x\": [\"8-3\", \"8-4\", \"9-1\", \"9-2\"], \"y\": [21.0, 22.0, 21.0, 22.0], \"type\": \"scatter\", \"uid\": \"73978c08-c204-11e8-ad45-a81e84e6c740\"}, {\"name\": \"\\u8d75\\u73a5_\\u5982\\u671f\\u5b8c\\u6210\\u9879\\u76ee\\u6570\", \"x\": [\"8-3\", \"8-4\", \"9-1\", \"9-2\"], \"y\": [20.0, 21.0, 20.0, 21.0], \"type\": \"scatter\", \"uid\": \"73978dfc-c204-11e8-ad45-a81e84e6c740\"}, {\"name\": \"\\u8d75\\u73a5_\\u5ef6\\u671f\\u5b8c\\u6210\", \"x\": [\"8-3\", \"8-4\", \"9-1\", \"9-2\"], \"y\": [1.0, 1.0, 1.0, 1.0], \"type\": \"scatter\", \"uid\": \"73978ff0-c204-11e8-ad45-a81e84e6c740\"}, {\"name\": \"\\u8d75\\u73a5_\\u5f00\\u53d1\\u4e2d\\u7684\\u9879\\u76ee\\u6570\", \"x\": [\"8-3\", \"8-4\", \"9-1\", \"9-2\"], \"y\": [0.0, 2.0, 3.0, 1.0], \"type\": \"scatter\", \"uid\": \"739791da-c204-11e8-ad45-a81e84e6c740\"}, {\"name\": \"\\u8d75\\u73a5_\\u5ef6\\u671f\\u9879\\u76ee\\u6570\", \"x\": [\"8-3\", \"8-4\", \"9-1\", \"9-2\"], \"y\": [0.0, 0.0, 1.0, 1.0], \"type\": \"scatter\", \"uid\": \"739793c4-c204-11e8-ad45-a81e84e6c740\"}, {\"name\": \"\\u8d75\\u73a5_\\u6682\\u505c\\u9879\\u76ee\\u6570\", \"x\": [\"8-3\", \"8-4\", \"9-1\", \"9-2\"], \"y\": [0.0, 0.0, 1.0, 1.0], \"type\": \"scatter\", \"uid\": \"739795a4-c204-11e8-ad45-a81e84e6c740\"}, {\"name\": \"\\u82cf\\u5f66\\u52cb_\\u5b63\\u5ea6\\u5f00\\u53d1\\u9879\\u76ee\\u6570\", \"x\": [\"8-3\", \"8-4\", \"9-1\", \"9-2\", \"9-3\"], \"y\": [33.0, 33.0, 33.0, 33.0, 33.0], \"type\": \"scatter\", \"uid\": \"73979784-c204-11e8-ad45-a81e84e6c740\"}, {\"name\": \"\\u82cf\\u5f66\\u52cb_\\u5982\\u671f\\u5b8c\\u6210\\u9879\\u76ee\\u6570\", \"x\": [\"8-3\", \"8-4\", \"9-1\", \"9-2\", \"9-3\"], \"y\": [20.0, 21.0, 22.0, 25.0, 25.0], \"type\": \"scatter\", \"uid\": \"73979ba8-c204-11e8-ad45-a81e84e6c740\"}, {\"name\": \"\\u82cf\\u5f66\\u52cb_\\u5ef6\\u671f\\u5b8c\\u6210\", \"x\": [\"8-3\", \"8-4\", \"9-1\", \"9-2\", \"9-3\"], \"y\": [0.0, 0.0, 0.0, 0.0, 0.0], \"type\": \"scatter\", \"uid\": \"73979dce-c204-11e8-ad45-a81e84e6c740\"}, {\"name\": \"\\u82cf\\u5f66\\u52cb_\\u5f00\\u53d1\\u4e2d\\u7684\\u9879\\u76ee\\u6570\", \"x\": [\"8-3\", \"8-4\", \"9-1\", \"9-2\", \"9-3\"], \"y\": [5.0, 4.0, 3.0, 0.0, 0.0], \"type\": \"scatter\", \"uid\": \"73979fb8-c204-11e8-ad45-a81e84e6c740\"}, {\"name\": \"\\u82cf\\u5f66\\u52cb_\\u5ef6\\u671f\\u9879\\u76ee\\u6570\", \"x\": [\"8-3\", \"8-4\", \"9-1\", \"9-2\", \"9-3\"], \"y\": [0.0, 0.0, 0.0, 0.0, 0.0], \"type\": \"scatter\", \"uid\": \"7397a198-c204-11e8-ad45-a81e84e6c740\"}, {\"name\": \"\\u82cf\\u5f66\\u52cb_\\u6682\\u505c\\u9879\\u76ee\\u6570\", \"x\": [\"8-3\", \"8-4\", \"9-1\", \"9-2\", \"9-3\"], \"y\": [8.0, 8.0, 8.0, 8.0, 8.0], \"type\": \"scatter\", \"uid\": \"7397a378-c204-11e8-ad45-a81e84e6c740\"}, {\"name\": \"\\u5f20\\u5b88\\u4f1f_\\u5b63\\u5ea6\\u5f00\\u53d1\\u9879\\u76ee\\u6570\", \"x\": [\"8-3\", \"8-4\", \"9-1\", \"9-2\"], \"y\": [13.0, 16.0, 18.0, 20.0], \"type\": \"scatter\", \"uid\": \"7397a6e8-c204-11e8-ad45-a81e84e6c740\"}, {\"name\": \"\\u5f20\\u5b88\\u4f1f_\\u5982\\u671f\\u5b8c\\u6210\\u9879\\u76ee\\u6570\", \"x\": [\"8-3\", \"8-4\", \"9-1\", \"9-2\"], \"y\": [13.0, 16.0, 18.0, 20.0], \"type\": \"scatter\", \"uid\": \"7397aa76-c204-11e8-ad45-a81e84e6c740\"}, {\"name\": \"\\u5f20\\u5b88\\u4f1f_\\u5ef6\\u671f\\u5b8c\\u6210\", \"x\": [\"8-3\", \"8-4\", \"9-1\", \"9-2\"], \"y\": [0.0, 0.0, 0.0, 0.0], \"type\": \"scatter\", \"uid\": \"7397ad50-c204-11e8-ad45-a81e84e6c740\"}, {\"name\": \"\\u5f20\\u5b88\\u4f1f_\\u5f00\\u53d1\\u4e2d\\u7684\\u9879\\u76ee\\u6570\", \"x\": [\"8-3\", \"8-4\", \"9-1\", \"9-2\"], \"y\": [2.0, 2.0, 2.0, 2.0], \"type\": \"scatter\", \"uid\": \"7397af30-c204-11e8-ad45-a81e84e6c740\"}, {\"name\": \"\\u5f20\\u5b88\\u4f1f_\\u5ef6\\u671f\\u9879\\u76ee\\u6570\", \"x\": [\"8-3\", \"8-4\", \"9-1\", \"9-2\"], \"y\": [0.0, 0.0, 0.0, 0.0], \"type\": \"scatter\", \"uid\": \"7397b106-c204-11e8-ad45-a81e84e6c740\"}, {\"name\": \"\\u5f20\\u5b88\\u4f1f_\\u6682\\u505c\\u9879\\u76ee\\u6570\", \"x\": [\"8-3\", \"8-4\", \"9-1\", \"9-2\"], \"y\": [0.0, 0.0, 0.0, 0.0], \"type\": \"scatter\", \"uid\": \"7397b2dc-c204-11e8-ad45-a81e84e6c740\"}, {\"name\": \"\\u5468\\u6768_\\u5b63\\u5ea6\\u5f00\\u53d1\\u9879\\u76ee\\u6570\", \"x\": [\"8-3\", \"8-4\", \"9-1\", \"9-2\", \"9-3\"], \"y\": [32.0, 32.0, 32.0, 32.0, 32.0], \"type\": \"scatter\", \"uid\": \"7397b4b2-c204-11e8-ad45-a81e84e6c740\"}, {\"name\": \"\\u5468\\u6768_\\u5982\\u671f\\u5b8c\\u6210\\u9879\\u76ee\\u6570\", \"x\": [\"8-3\", \"8-4\", \"9-1\", \"9-2\", \"9-3\"], \"y\": [28.0, 28.0, 28.0, 29.0, 32.0], \"type\": \"scatter\", \"uid\": \"7397b67e-c204-11e8-ad45-a81e84e6c740\"}, {\"name\": \"\\u5468\\u6768_\\u5ef6\\u671f\\u5b8c\\u6210\", \"x\": [\"8-3\", \"8-4\", \"9-1\", \"9-2\", \"9-3\"], \"y\": [0.0, 0.0, 0.0, 0.0, 0.0], \"type\": \"scatter\", \"uid\": \"7397b84a-c204-11e8-ad45-a81e84e6c740\"}, {\"name\": \"\\u5468\\u6768_\\u5f00\\u53d1\\u4e2d\\u7684\\u9879\\u76ee\\u6570\", \"x\": [\"8-3\", \"8-4\", \"9-1\", \"9-2\", \"9-3\"], \"y\": [3.0, 3.0, 3.0, 2.0, 0.0], \"type\": \"scatter\", \"uid\": \"7397ba20-c204-11e8-ad45-a81e84e6c740\"}, {\"name\": \"\\u5468\\u6768_\\u5ef6\\u671f\\u9879\\u76ee\\u6570\", \"x\": [\"8-3\", \"8-4\", \"9-1\", \"9-2\", \"9-3\"], \"y\": [0.0, 0.0, 0.0, 0.0, 0.0], \"type\": \"scatter\", \"uid\": \"7397bbf6-c204-11e8-ad45-a81e84e6c740\"}, {\"name\": \"\\u5468\\u6768_\\u6682\\u505c\\u9879\\u76ee\\u6570\", \"x\": [\"8-3\", \"8-4\", \"9-1\", \"9-2\", \"9-3\"], \"y\": [1.0, 1.0, 1.0, 1.0, 1.0], \"type\": \"scatter\", \"uid\": \"7397bdc2-c204-11e8-ad45-a81e84e6c740\"}, {\"name\": \"\\u8303\\u65ed\\u5b81_\\u5b63\\u5ea6\\u5f00\\u53d1\\u9879\\u76ee\\u6570\", \"x\": [\"8-3\", \"8-4\", \"9-1\", \"9-2\"], \"y\": [18.0, 25.0, 30.0, 7.0], \"type\": \"scatter\", \"uid\": \"7397bfc0-c204-11e8-ad45-a81e84e6c740\"}, {\"name\": \"\\u8303\\u65ed\\u5b81_\\u5982\\u671f\\u5b8c\\u6210\\u9879\\u76ee\\u6570\", \"x\": [\"8-3\", \"8-4\", \"9-1\", \"9-2\"], \"y\": [16.0, 23.0, 27.0, 7.0], \"type\": \"scatter\", \"uid\": \"7397c18c-c204-11e8-ad45-a81e84e6c740\"}, {\"name\": \"\\u8303\\u65ed\\u5b81_\\u5ef6\\u671f\\u5b8c\\u6210\", \"x\": [\"8-3\", \"8-4\", \"9-1\", \"9-2\"], \"y\": [2.0, 2.0, 3.0, 0.0], \"type\": \"scatter\", \"uid\": \"7397c358-c204-11e8-ad45-a81e84e6c740\"}, {\"name\": \"\\u8303\\u65ed\\u5b81_\\u5f00\\u53d1\\u4e2d\\u7684\\u9879\\u76ee\\u6570\", \"x\": [\"8-3\", \"8-4\", \"9-1\", \"9-2\"], \"y\": [0.0, 1.0, 1.0, 0.0], \"type\": \"scatter\", \"uid\": \"7397c524-c204-11e8-ad45-a81e84e6c740\"}, {\"name\": \"\\u8303\\u65ed\\u5b81_\\u5ef6\\u671f\\u9879\\u76ee\\u6570\", \"x\": [\"8-3\", \"8-4\", \"9-1\", \"9-2\"], \"y\": [0.0, 0.0, 0.0, 0.0], \"type\": \"scatter\", \"uid\": \"7397c6f0-c204-11e8-ad45-a81e84e6c740\"}, {\"name\": \"\\u8303\\u65ed\\u5b81_\\u6682\\u505c\\u9879\\u76ee\\u6570\", \"x\": [\"8-3\", \"8-4\", \"9-1\", \"9-2\"], \"y\": [0.0, 0.0, 0.0, 0.0], \"type\": \"scatter\", \"uid\": \"7397c8bc-c204-11e8-ad45-a81e84e6c740\"}, {\"name\": \"\\u5b5f\\u660a_\\u5b63\\u5ea6\\u5f00\\u53d1\\u9879\\u76ee\\u6570\", \"x\": [\"8-3\", \"8-4\", \"9-1\", \"9-2\", \"9-3\"], \"y\": [43.0, 43.0, 43.0, 43.0, 43.0], \"type\": \"scatter\", \"uid\": \"7397ca92-c204-11e8-ad45-a81e84e6c740\"}, {\"name\": \"\\u5b5f\\u660a_\\u5982\\u671f\\u5b8c\\u6210\\u9879\\u76ee\\u6570\", \"x\": [\"8-3\", \"8-4\", \"9-1\", \"9-2\", \"9-3\"], \"y\": [38.0, 38.0, 38.0, 39.0, 39.0], \"type\": \"scatter\", \"uid\": \"7397cc5e-c204-11e8-ad45-a81e84e6c740\"}, {\"name\": \"\\u5b5f\\u660a_\\u5ef6\\u671f\\u5b8c\\u6210\", \"x\": [\"8-3\", \"8-4\", \"9-1\", \"9-2\", \"9-3\"], \"y\": [0.0, 0.0, 0.0, 0.0, 0.0], \"type\": \"scatter\", \"uid\": \"7397ce2a-c204-11e8-ad45-a81e84e6c740\"}, {\"name\": \"\\u5b5f\\u660a_\\u5f00\\u53d1\\u4e2d\\u7684\\u9879\\u76ee\\u6570\", \"x\": [\"8-3\", \"8-4\", \"9-1\", \"9-2\", \"9-3\"], \"y\": [2.0, 2.0, 2.0, 2.0, 2.0], \"type\": \"scatter\", \"uid\": \"7397cff6-c204-11e8-ad45-a81e84e6c740\"}, {\"name\": \"\\u5b5f\\u660a_\\u5ef6\\u671f\\u9879\\u76ee\\u6570\", \"x\": [\"8-3\", \"8-4\", \"9-1\", \"9-2\", \"9-3\"], \"y\": [0.0, 0.0, 0.0, 0.0, 0.0], \"type\": \"scatter\", \"uid\": \"7397d1c2-c204-11e8-ad45-a81e84e6c740\"}, {\"name\": \"\\u5b5f\\u660a_\\u6682\\u505c\\u9879\\u76ee\\u6570\", \"x\": [\"8-3\", \"8-4\", \"9-1\", \"9-2\", \"9-3\"], \"y\": [3.0, 3.0, 3.0, 3.0, 3.0], \"type\": \"scatter\", \"uid\": \"7397d384-c204-11e8-ad45-a81e84e6c740\"}, {\"name\": \"\\u4e8e\\u52c7\\u4e00_\\u5b63\\u5ea6\\u5f00\\u53d1\\u9879\\u76ee\\u6570\", \"x\": [\"8-3\", \"8-4\", \"9-1\", \"9-2\", \"9-3\"], \"y\": [0.0, 0.0, 0.0, 0.0, 0.0], \"type\": \"scatter\", \"uid\": \"7397d55a-c204-11e8-ad45-a81e84e6c740\"}, {\"name\": \"\\u4e8e\\u52c7\\u4e00_\\u5982\\u671f\\u5b8c\\u6210\\u9879\\u76ee\\u6570\", \"x\": [\"8-3\", \"8-4\", \"9-1\", \"9-2\", \"9-3\"], \"y\": [0.0, 0.0, 0.0, 0.0, 0.0], \"type\": \"scatter\", \"uid\": \"7397d71c-c204-11e8-ad45-a81e84e6c740\"}, {\"name\": \"\\u4e8e\\u52c7\\u4e00_\\u5ef6\\u671f\\u5b8c\\u6210\", \"x\": [\"8-3\", \"8-4\", \"9-1\", \"9-2\", \"9-3\"], \"y\": [0.0, 0.0, 0.0, 0.0, 0.0], \"type\": \"scatter\", \"uid\": \"7397d8f2-c204-11e8-ad45-a81e84e6c740\"}, {\"name\": \"\\u4e8e\\u52c7\\u4e00_\\u5f00\\u53d1\\u4e2d\\u7684\\u9879\\u76ee\\u6570\", \"x\": [\"8-3\", \"8-4\", \"9-1\", \"9-2\", \"9-3\"], \"y\": [0.0, 0.0, 0.0, 0.0, 0.0], \"type\": \"scatter\", \"uid\": \"7397dabe-c204-11e8-ad45-a81e84e6c740\"}, {\"name\": \"\\u4e8e\\u52c7\\u4e00_\\u5ef6\\u671f\\u9879\\u76ee\\u6570\", \"x\": [\"8-3\", \"8-4\", \"9-1\", \"9-2\", \"9-3\"], \"y\": [0.0, 0.0, 0.0, 0.0, 0.0], \"type\": \"scatter\", \"uid\": \"7397dc80-c204-11e8-ad45-a81e84e6c740\"}, {\"name\": \"\\u4e8e\\u52c7\\u4e00_\\u6682\\u505c\\u9879\\u76ee\\u6570\", \"x\": [\"8-3\", \"8-4\", \"9-1\", \"9-2\", \"9-3\"], \"y\": [0.0, 0.0, 0.0, 0.0, 0.0], \"type\": \"scatter\", \"uid\": \"7397de4c-c204-11e8-ad45-a81e84e6c740\"}, {\"name\": \"\\u4e8e\\u6167_\\u5b63\\u5ea6\\u5f00\\u53d1\\u9879\\u76ee\\u6570\", \"x\": [\"8-3\", \"8-4\", \"9-1\", \"9-2\", \"9-3\"], \"y\": [36.0, 36.0, 36.0, 37.0, 37.0], \"type\": \"scatter\", \"uid\": \"7397e018-c204-11e8-ad45-a81e84e6c740\"}, {\"name\": \"\\u4e8e\\u6167_\\u5982\\u671f\\u5b8c\\u6210\\u9879\\u76ee\\u6570\", \"x\": [\"8-3\", \"8-4\", \"9-1\", \"9-2\", \"9-3\"], \"y\": [32.0, 33.0, 34.0, 35.0, 35.0], \"type\": \"scatter\", \"uid\": \"7397e216-c204-11e8-ad45-a81e84e6c740\"}, {\"name\": \"\\u4e8e\\u6167_\\u5ef6\\u671f\\u5b8c\\u6210\", \"x\": [\"8-3\", \"8-4\", \"9-1\", \"9-2\", \"9-3\"], \"y\": [0.0, 0.0, 0.0, 0.0, 0.0], \"type\": \"scatter\", \"uid\": \"7397e3f6-c204-11e8-ad45-a81e84e6c740\"}, {\"name\": \"\\u4e8e\\u6167_\\u5f00\\u53d1\\u4e2d\\u7684\\u9879\\u76ee\\u6570\", \"x\": [\"8-3\", \"8-4\", \"9-1\", \"9-2\", \"9-3\"], \"y\": [4.0, 3.0, 2.0, 2.0, 2.0], \"type\": \"scatter\", \"uid\": \"7397e8a6-c204-11e8-ad45-a81e84e6c740\"}, {\"name\": \"\\u4e8e\\u6167_\\u5ef6\\u671f\\u9879\\u76ee\\u6570\", \"x\": [\"8-3\", \"8-4\", \"9-1\", \"9-2\", \"9-3\"], \"y\": [0.0, 0.0, 0.0, 0.0, 0.0], \"type\": \"scatter\", \"uid\": \"7397eb76-c204-11e8-ad45-a81e84e6c740\"}, {\"name\": \"\\u4e8e\\u6167_\\u6682\\u505c\\u9879\\u76ee\\u6570\", \"x\": [\"8-3\", \"8-4\", \"9-1\", \"9-2\", \"9-3\"], \"y\": [0.0, 0.0, 0.0, 0.0, 0.0], \"type\": \"scatter\", \"uid\": \"7397ed56-c204-11e8-ad45-a81e84e6c740\"}, {\"name\": \"\\u5218\\u6c5f_\\u5b63\\u5ea6\\u5f00\\u53d1\\u9879\\u76ee\\u6570\", \"x\": [\"8-3\", \"8-4\", \"9-1\", \"9-2\", \"9-3\"], \"y\": [3.0, 3.0, 3.0, 0.0, 3.0], \"type\": \"scatter\", \"uid\": \"7397ef22-c204-11e8-ad45-a81e84e6c740\"}, {\"name\": \"\\u5218\\u6c5f_\\u5982\\u671f\\u5b8c\\u6210\\u9879\\u76ee\\u6570\", \"x\": [\"8-3\", \"8-4\", \"9-1\", \"9-2\", \"9-3\"], \"y\": [0.0, 0.0, 0.0, 0.0, 0.0], \"type\": \"scatter\", \"uid\": \"7397f0f8-c204-11e8-ad45-a81e84e6c740\"}, {\"name\": \"\\u5218\\u6c5f_\\u5ef6\\u671f\\u5b8c\\u6210\", \"x\": [\"8-3\", \"8-4\", \"9-1\", \"9-2\", \"9-3\"], \"y\": [0.0, 1.0, 2.0, 0.0, 2.0], \"type\": \"scatter\", \"uid\": \"7397f2c4-c204-11e8-ad45-a81e84e6c740\"}, {\"name\": \"\\u5218\\u6c5f_\\u5f00\\u53d1\\u4e2d\\u7684\\u9879\\u76ee\\u6570\", \"x\": [\"8-3\", \"8-4\", \"9-1\", \"9-2\", \"9-3\"], \"y\": [3.0, 2.0, 1.0, 1.0, 1.0], \"type\": \"scatter\", \"uid\": \"7397f490-c204-11e8-ad45-a81e84e6c740\"}, {\"name\": \"\\u5218\\u6c5f_\\u5ef6\\u671f\\u9879\\u76ee\\u6570\", \"x\": [\"8-3\", \"8-4\", \"9-1\", \"9-2\", \"9-3\"], \"y\": [0.0, 0.0, 0.0, 0.0, 0.0], \"type\": \"scatter\", \"uid\": \"7397f65c-c204-11e8-ad45-a81e84e6c740\"}, {\"name\": \"\\u5218\\u6c5f_\\u6682\\u505c\\u9879\\u76ee\\u6570\", \"x\": [\"8-3\", \"8-4\", \"9-1\", \"9-2\", \"9-3\"], \"y\": [0.0, 0.0, 0.0, 1.0, 0.0], \"type\": \"scatter\", \"uid\": \"7397f832-c204-11e8-ad45-a81e84e6c740\"}, {\"name\": \"\\u674e\\u534e\\u4e91_\\u5b63\\u5ea6\\u5f00\\u53d1\\u9879\\u76ee\\u6570\", \"x\": [\"8-3\", \"8-4\", \"9-1\", \"9-2\", \"9-3\"], \"y\": [35.0, 35.0, 35.0, 35.0, 47.0], \"type\": \"scatter\", \"uid\": \"7397f9fe-c204-11e8-ad45-a81e84e6c740\"}, {\"name\": \"\\u674e\\u534e\\u4e91_\\u5982\\u671f\\u5b8c\\u6210\\u9879\\u76ee\\u6570\", \"x\": [\"8-3\", \"8-4\", \"9-1\", \"9-2\", \"9-3\"], \"y\": [5.0, 5.0, 5.0, 5.0, 22.0], \"type\": \"scatter\", \"uid\": \"7397fbd4-c204-11e8-ad45-a81e84e6c740\"}, {\"name\": \"\\u674e\\u534e\\u4e91_\\u5ef6\\u671f\\u5b8c\\u6210\", \"x\": [\"8-3\", \"8-4\", \"9-1\", \"9-2\", \"9-3\"], \"y\": [0.0, 0.0, 1.0, 3.0, 13.0], \"type\": \"scatter\", \"uid\": \"7397fda0-c204-11e8-ad45-a81e84e6c740\"}, {\"name\": \"\\u674e\\u534e\\u4e91_\\u5f00\\u53d1\\u4e2d\\u7684\\u9879\\u76ee\\u6570\", \"x\": [\"8-3\", \"8-4\", \"9-1\", \"9-2\", \"9-3\"], \"y\": [24.0, 24.0, 20.0, 18.0, 3.0], \"type\": \"scatter\", \"uid\": \"7397ff6c-c204-11e8-ad45-a81e84e6c740\"}, {\"name\": \"\\u674e\\u534e\\u4e91_\\u5ef6\\u671f\\u9879\\u76ee\\u6570\", \"x\": [\"8-3\", \"8-4\", \"9-1\", \"9-2\", \"9-3\"], \"y\": [6.0, 6.0, 9.0, 9.0, 6.0], \"type\": \"scatter\", \"uid\": \"73980142-c204-11e8-ad45-a81e84e6c740\"}, {\"name\": \"\\u674e\\u534e\\u4e91_\\u6682\\u505c\\u9879\\u76ee\\u6570\", \"x\": [\"8-3\", \"8-4\", \"9-1\", \"9-2\", \"9-3\"], \"y\": [0.0, 0.0, 0.0, 0.0, 3.0], \"type\": \"scatter\", \"uid\": \"7398030e-c204-11e8-ad45-a81e84e6c740\"}, {\"name\": \"\\u8c22\\u5fb7\\u5065_\\u5b63\\u5ea6\\u5f00\\u53d1\\u9879\\u76ee\\u6570\", \"x\": [\"8-3\", \"8-4\", \"9-2\", \"9-3\"], \"y\": [0.0, 0.0, 6.0, 6.0], \"type\": \"scatter\", \"uid\": \"739804da-c204-11e8-ad45-a81e84e6c740\"}, {\"name\": \"\\u8c22\\u5fb7\\u5065_\\u5982\\u671f\\u5b8c\\u6210\\u9879\\u76ee\\u6570\", \"x\": [\"8-3\", \"8-4\", \"9-2\", \"9-3\"], \"y\": [0.0, 0.0, 6.0, 6.0], \"type\": \"scatter\", \"uid\": \"739806a6-c204-11e8-ad45-a81e84e6c740\"}, {\"name\": \"\\u8c22\\u5fb7\\u5065_\\u5ef6\\u671f\\u5b8c\\u6210\", \"x\": [\"8-3\", \"8-4\", \"9-2\", \"9-3\"], \"y\": [0.0, 0.0, 0.0, 0.0], \"type\": \"scatter\", \"uid\": \"7398087c-c204-11e8-ad45-a81e84e6c740\"}, {\"name\": \"\\u8c22\\u5fb7\\u5065_\\u5f00\\u53d1\\u4e2d\\u7684\\u9879\\u76ee\\u6570\", \"x\": [\"8-3\", \"8-4\", \"9-2\", \"9-3\"], \"y\": [0.0, 0.0, 0.0, 0.0], \"type\": \"scatter\", \"uid\": \"73980a3e-c204-11e8-ad45-a81e84e6c740\"}, {\"name\": \"\\u8c22\\u5fb7\\u5065_\\u5ef6\\u671f\\u9879\\u76ee\\u6570\", \"x\": [\"8-3\", \"8-4\", \"9-2\", \"9-3\"], \"y\": [0.0, 0.0, 0.0, 0.0], \"type\": \"scatter\", \"uid\": \"73980c46-c204-11e8-ad45-a81e84e6c740\"}, {\"name\": \"\\u8c22\\u5fb7\\u5065_\\u6682\\u505c\\u9879\\u76ee\\u6570\", \"x\": [\"8-3\", \"8-4\", \"9-2\", \"9-3\"], \"y\": [0.0, 0.0, 0.0, 0.0], \"type\": \"scatter\", \"uid\": \"73980e1c-c204-11e8-ad45-a81e84e6c740\"}, {\"name\": \"\\u4efb\\u96ea_\\u5b63\\u5ea6\\u5f00\\u53d1\\u9879\\u76ee\\u6570\", \"x\": [\"8-4\", \"9-1\", \"9-2\", \"9-3\"], \"y\": [27.0, 27.0, 27.0, 27.0], \"type\": \"scatter\", \"uid\": \"73980ff2-c204-11e8-ad45-a81e84e6c740\"}, {\"name\": \"\\u4efb\\u96ea_\\u5982\\u671f\\u5b8c\\u6210\\u9879\\u76ee\\u6570\", \"x\": [\"8-4\", \"9-1\", \"9-2\", \"9-3\"], \"y\": [8.0, 8.0, 8.0, 8.0], \"type\": \"scatter\", \"uid\": \"739811be-c204-11e8-ad45-a81e84e6c740\"}, {\"name\": \"\\u4efb\\u96ea_\\u5ef6\\u671f\\u5b8c\\u6210\", \"x\": [\"8-4\", \"9-1\", \"9-2\", \"9-3\"], \"y\": [1.0, 1.0, 1.0, 5.0], \"type\": \"scatter\", \"uid\": \"7398138a-c204-11e8-ad45-a81e84e6c740\"}, {\"name\": \"\\u4efb\\u96ea_\\u5f00\\u53d1\\u4e2d\\u7684\\u9879\\u76ee\\u6570\", \"x\": [\"8-4\", \"9-1\", \"9-2\", \"9-3\"], \"y\": [15.0, 8.0, 8.0, 6.0], \"type\": \"scatter\", \"uid\": \"73981560-c204-11e8-ad45-a81e84e6c740\"}, {\"name\": \"\\u4efb\\u96ea_\\u5ef6\\u671f\\u9879\\u76ee\\u6570\", \"x\": [\"8-4\", \"9-1\", \"9-2\", \"9-3\"], \"y\": [3.0, 7.0, 7.0, 4.0], \"type\": \"scatter\", \"uid\": \"7398172c-c204-11e8-ad45-a81e84e6c740\"}, {\"name\": \"\\u4efb\\u96ea_\\u6682\\u505c\\u9879\\u76ee\\u6570\", \"x\": [\"8-4\", \"9-1\", \"9-2\", \"9-3\"], \"y\": [0.0, 3.0, 3.0, 4.0], \"type\": \"scatter\", \"uid\": \"739818f8-c204-11e8-ad45-a81e84e6c740\"}],\n",
       "            {\"title\": \"\\u5b63\\u5ea6\\u5f00\\u53d1\\u9879\\u76ee\\u6570&\\u5982\\u671f\\u5b8c\\u6210\\u9879\\u76ee\\u6570&\\u5ef6\\u671f\\u5b8c\\u6210&\\u5f00\\u53d1\\u4e2d\\u7684\\u9879\\u76ee\\u6570&\\u5ef6\\u671f\\u9879\\u76ee\\u6570&\\u6682\\u505c\\u9879\\u76ee\\u6570\\u5468\\u8d8b\\u52bf\\u56fe\", \"xaxis\": {\"mirror\": \"all\", \"nticks\": 20, \"showgrid\": true, \"showline\": true, \"title\": \"\\u5468\", \"zeroline\": true}, \"yaxis\": {\"mirror\": \"all\", \"nticks\": 20, \"showgrid\": true, \"showline\": true, \"title\": \"\\u5b63\\u5ea6\\u5f00\\u53d1\\u9879\\u76ee\\u6570&\\u5982\\u671f\\u5b8c\\u6210\\u9879\\u76ee\\u6570&\\u5ef6\\u671f\\u5b8c\\u6210&\\u5f00\\u53d1\\u4e2d\\u7684\\u9879\\u76ee\\u6570&\\u5ef6\\u671f\\u9879\\u76ee\\u6570&\\u6682\\u505c\\u9879\\u76ee\\u6570\", \"zeroline\": true}},\n",
       "            {\"showLink\": true, \"linkText\": \"Export to plot.ly\"}\n",
       "        ).then(function () {return Plotly.addFrames('848e05d1-4abf-4e87-bc4e-597399c13218',{});}).then(function(){Plotly.animate('848e05d1-4abf-4e87-bc4e-597399c13218');})\n",
       "        });</script>"
      ],
      "text/vnd.plotly.v1+html": [
       "<div id=\"848e05d1-4abf-4e87-bc4e-597399c13218\" style=\"height: 525px; width: 100%;\" class=\"plotly-graph-div\"></div><script type=\"text/javascript\">require([\"plotly\"], function(Plotly) { window.PLOTLYENV=window.PLOTLYENV || {};window.PLOTLYENV.BASE_URL=\"https://plot.ly\";\n",
       "        Plotly.plot(\n",
       "            '848e05d1-4abf-4e87-bc4e-597399c13218',\n",
       "            [{\"name\": \"\\u59da\\u76df\\u6210_\\u5b63\\u5ea6\\u5f00\\u53d1\\u9879\\u76ee\\u6570\", \"x\": [\"8-3\", \"8-4\", \"9-1\", \"9-2\", \"9-3\"], \"y\": [9.0, 9.0, 9.0, 9.0, 9.0], \"type\": \"scatter\", \"uid\": \"7396eb90-c204-11e8-ad45-a81e84e6c740\"}, {\"name\": \"\\u59da\\u76df\\u6210_\\u5982\\u671f\\u5b8c\\u6210\\u9879\\u76ee\\u6570\", \"x\": [\"8-3\", \"8-4\", \"9-1\", \"9-2\", \"9-3\"], \"y\": [3.0, 3.0, 3.0, 3.0, 3.0], \"type\": \"scatter\", \"uid\": \"7396eea6-c204-11e8-ad45-a81e84e6c740\"}, {\"name\": \"\\u59da\\u76df\\u6210_\\u5ef6\\u671f\\u5b8c\\u6210\", \"x\": [\"8-3\", \"8-4\", \"9-1\", \"9-2\", \"9-3\"], \"y\": [0.0, 0.0, 0.0, 0.0, 0.0], \"type\": \"scatter\", \"uid\": \"7396f0ea-c204-11e8-ad45-a81e84e6c740\"}, {\"name\": \"\\u59da\\u76df\\u6210_\\u5f00\\u53d1\\u4e2d\\u7684\\u9879\\u76ee\\u6570\", \"x\": [\"8-3\", \"8-4\", \"9-1\", \"9-2\", \"9-3\"], \"y\": [1.0, 2.0, 3.0, 2.0, 7.0], \"type\": \"scatter\", \"uid\": \"7396f2e8-c204-11e8-ad45-a81e84e6c740\"}, {\"name\": \"\\u59da\\u76df\\u6210_\\u5ef6\\u671f\\u9879\\u76ee\\u6570\", \"x\": [\"8-3\", \"8-4\", \"9-1\", \"9-2\", \"9-3\"], \"y\": [0.0, 0.0, 0.0, 0.0, 0.0], \"type\": \"scatter\", \"uid\": \"7396f4c8-c204-11e8-ad45-a81e84e6c740\"}, {\"name\": \"\\u59da\\u76df\\u6210_\\u6682\\u505c\\u9879\\u76ee\\u6570\", \"x\": [\"8-3\", \"8-4\", \"9-1\", \"9-2\", \"9-3\"], \"y\": [0.0, 0.0, 0.0, 0.0, 12.0], \"type\": \"scatter\", \"uid\": \"7396f6b2-c204-11e8-ad45-a81e84e6c740\"}, {\"name\": \"\\u5218\\u6167\\u73b2_\\u5b63\\u5ea6\\u5f00\\u53d1\\u9879\\u76ee\\u6570\", \"x\": [\"8-3\", \"8-4\", \"9-1\"], \"y\": [8.0, 8.0, 9.0], \"type\": \"scatter\", \"uid\": \"7396f888-c204-11e8-ad45-a81e84e6c740\"}, {\"name\": \"\\u5218\\u6167\\u73b2_\\u5982\\u671f\\u5b8c\\u6210\\u9879\\u76ee\\u6570\", \"x\": [\"8-3\", \"8-4\", \"9-1\"], \"y\": [3.0, 3.0, 3.0], \"type\": \"scatter\", \"uid\": \"7396fa68-c204-11e8-ad45-a81e84e6c740\"}, {\"name\": \"\\u5218\\u6167\\u73b2_\\u5ef6\\u671f\\u5b8c\\u6210\", \"x\": [\"8-3\", \"8-4\", \"9-1\"], \"y\": [1.0, 1.0, 1.0], \"type\": \"scatter\", \"uid\": \"7396fc3e-c204-11e8-ad45-a81e84e6c740\"}, {\"name\": \"\\u5218\\u6167\\u73b2_\\u5f00\\u53d1\\u4e2d\\u7684\\u9879\\u76ee\\u6570\", \"x\": [\"8-3\", \"8-4\", \"9-1\"], \"y\": [2.0, 2.0, 1.0], \"type\": \"scatter\", \"uid\": \"7396fe1e-c204-11e8-ad45-a81e84e6c740\"}, {\"name\": \"\\u5218\\u6167\\u73b2_\\u5ef6\\u671f\\u9879\\u76ee\\u6570\", \"x\": [\"8-3\", \"8-4\", \"9-1\"], \"y\": [0.0, 0.0, 0.0], \"type\": \"scatter\", \"uid\": \"7396ffea-c204-11e8-ad45-a81e84e6c740\"}, {\"name\": \"\\u5218\\u6167\\u73b2_\\u6682\\u505c\\u9879\\u76ee\\u6570\", \"x\": [\"8-3\", \"8-4\", \"9-1\"], \"y\": [2.0, 2.0, 4.0], \"type\": \"scatter\", \"uid\": \"739703c8-c204-11e8-ad45-a81e84e6c740\"}, {\"name\": \"\\u5360\\u4f1f_\\u5b63\\u5ea6\\u5f00\\u53d1\\u9879\\u76ee\\u6570\", \"x\": [\"8-3\", \"8-4\", \"9-1\", \"9-2\"], \"y\": [19.0, 18.0, 18.0, 18.0], \"type\": \"scatter\", \"uid\": \"73970652-c204-11e8-ad45-a81e84e6c740\"}, {\"name\": \"\\u5360\\u4f1f_\\u5982\\u671f\\u5b8c\\u6210\\u9879\\u76ee\\u6570\", \"x\": [\"8-3\", \"8-4\", \"9-1\", \"9-2\"], \"y\": [12.0, 10.0, 10.0, 10.0], \"type\": \"scatter\", \"uid\": \"73970832-c204-11e8-ad45-a81e84e6c740\"}, {\"name\": \"\\u5360\\u4f1f_\\u5ef6\\u671f\\u5b8c\\u6210\", \"x\": [\"8-3\", \"8-4\", \"9-1\", \"9-2\"], \"y\": [2.0, 1.0, 1.0, 1.0], \"type\": \"scatter\", \"uid\": \"73970aee-c204-11e8-ad45-a81e84e6c740\"}, {\"name\": \"\\u5360\\u4f1f_\\u5f00\\u53d1\\u4e2d\\u7684\\u9879\\u76ee\\u6570\", \"x\": [\"8-3\", \"8-4\", \"9-1\", \"9-2\"], \"y\": [2.0, 5.0, 5.0, 5.0], \"type\": \"scatter\", \"uid\": \"73970d64-c204-11e8-ad45-a81e84e6c740\"}, {\"name\": \"\\u5360\\u4f1f_\\u5ef6\\u671f\\u9879\\u76ee\\u6570\", \"x\": [\"8-3\", \"8-4\", \"9-1\", \"9-2\"], \"y\": [3.0, 3.0, 3.0, 3.0], \"type\": \"scatter\", \"uid\": \"73970f62-c204-11e8-ad45-a81e84e6c740\"}, {\"name\": \"\\u5360\\u4f1f_\\u6682\\u505c\\u9879\\u76ee\\u6570\", \"x\": [\"8-3\", \"8-4\", \"9-1\", \"9-2\"], \"y\": [0.0, 0.0, 0.0, 0.0], \"type\": \"scatter\", \"uid\": \"73971192-c204-11e8-ad45-a81e84e6c740\"}, {\"name\": \"\\u738b\\u5b81_\\u5b63\\u5ea6\\u5f00\\u53d1\\u9879\\u76ee\\u6570\", \"x\": [\"8-3\", \"8-4\", \"9-1\"], \"y\": [0.0, 0.0, 0.0], \"type\": \"scatter\", \"uid\": \"73971458-c204-11e8-ad45-a81e84e6c740\"}, {\"name\": \"\\u738b\\u5b81_\\u5982\\u671f\\u5b8c\\u6210\\u9879\\u76ee\\u6570\", \"x\": [\"8-3\", \"8-4\", \"9-1\"], \"y\": [0.0, 0.0, 0.0], \"type\": \"scatter\", \"uid\": \"7397178c-c204-11e8-ad45-a81e84e6c740\"}, {\"name\": \"\\u738b\\u5b81_\\u5ef6\\u671f\\u5b8c\\u6210\", \"x\": [\"8-3\", \"8-4\", \"9-1\"], \"y\": [0.0, 0.0, 0.0], \"type\": \"scatter\", \"uid\": \"73971ba6-c204-11e8-ad45-a81e84e6c740\"}, {\"name\": \"\\u738b\\u5b81_\\u5f00\\u53d1\\u4e2d\\u7684\\u9879\\u76ee\\u6570\", \"x\": [\"8-3\", \"8-4\", \"9-1\"], \"y\": [0.0, 0.0, 0.0], \"type\": \"scatter\", \"uid\": \"73971e80-c204-11e8-ad45-a81e84e6c740\"}, {\"name\": \"\\u738b\\u5b81_\\u5ef6\\u671f\\u9879\\u76ee\\u6570\", \"x\": [\"8-3\", \"8-4\", \"9-1\"], \"y\": [0.0, 0.0, 0.0], \"type\": \"scatter\", \"uid\": \"739721f0-c204-11e8-ad45-a81e84e6c740\"}, {\"name\": \"\\u738b\\u5b81_\\u6682\\u505c\\u9879\\u76ee\\u6570\", \"x\": [\"8-3\", \"8-4\", \"9-1\"], \"y\": [0.0, 0.0, 0.0], \"type\": \"scatter\", \"uid\": \"73972498-c204-11e8-ad45-a81e84e6c740\"}, {\"name\": \"\\u5c01\\u5f66\\u6770_\\u5b63\\u5ea6\\u5f00\\u53d1\\u9879\\u76ee\\u6570\", \"x\": [\"8-3\", \"8-4\", \"9-1\", \"9-2\", \"9-3\"], \"y\": [5.0, 5.0, 5.0, 5.0, 5.0], \"type\": \"scatter\", \"uid\": \"739726a0-c204-11e8-ad45-a81e84e6c740\"}, {\"name\": \"\\u5c01\\u5f66\\u6770_\\u5982\\u671f\\u5b8c\\u6210\\u9879\\u76ee\\u6570\", \"x\": [\"8-3\", \"8-4\", \"9-1\", \"9-2\", \"9-3\"], \"y\": [0.0, 0.0, 2.0, 2.0, 2.0], \"type\": \"scatter\", \"uid\": \"73972894-c204-11e8-ad45-a81e84e6c740\"}, {\"name\": \"\\u5c01\\u5f66\\u6770_\\u5ef6\\u671f\\u5b8c\\u6210\", \"x\": [\"8-3\", \"8-4\", \"9-1\", \"9-2\", \"9-3\"], \"y\": [0.0, 0.0, 0.0, 0.0, 0.0], \"type\": \"scatter\", \"uid\": \"73972b00-c204-11e8-ad45-a81e84e6c740\"}, {\"name\": \"\\u5c01\\u5f66\\u6770_\\u5f00\\u53d1\\u4e2d\\u7684\\u9879\\u76ee\\u6570\", \"x\": [\"8-3\", \"8-4\", \"9-1\", \"9-2\", \"9-3\"], \"y\": [4.0, 4.0, 2.0, 2.0, 3.0], \"type\": \"scatter\", \"uid\": \"73972cd6-c204-11e8-ad45-a81e84e6c740\"}, {\"name\": \"\\u5c01\\u5f66\\u6770_\\u5ef6\\u671f\\u9879\\u76ee\\u6570\", \"x\": [\"8-3\", \"8-4\", \"9-1\", \"9-2\", \"9-3\"], \"y\": [0.0, 0.0, 0.0, 0.0, 0.0], \"type\": \"scatter\", \"uid\": \"73972ea2-c204-11e8-ad45-a81e84e6c740\"}, {\"name\": \"\\u5c01\\u5f66\\u6770_\\u6682\\u505c\\u9879\\u76ee\\u6570\", \"x\": [\"8-3\", \"8-4\", \"9-1\", \"9-2\", \"9-3\"], \"y\": [1.0, 1.0, 1.0, 1.0, 0.0], \"type\": \"scatter\", \"uid\": \"73973082-c204-11e8-ad45-a81e84e6c740\"}, {\"name\": \"\\u8def\\u6167\\u840d_\\u5b63\\u5ea6\\u5f00\\u53d1\\u9879\\u76ee\\u6570\", \"x\": [\"8-3\", \"8-4\", \"9-1\", \"9-2\", \"9-3\"], \"y\": [0.0, 0.0, 0.0, 0.0, 0.0], \"type\": \"scatter\", \"uid\": \"73973262-c204-11e8-ad45-a81e84e6c740\"}, {\"name\": \"\\u8def\\u6167\\u840d_\\u5982\\u671f\\u5b8c\\u6210\\u9879\\u76ee\\u6570\", \"x\": [\"8-3\", \"8-4\", \"9-1\", \"9-2\", \"9-3\"], \"y\": [0.0, 0.0, 0.0, 0.0, 0.0], \"type\": \"scatter\", \"uid\": \"73973438-c204-11e8-ad45-a81e84e6c740\"}, {\"name\": \"\\u8def\\u6167\\u840d_\\u5ef6\\u671f\\u5b8c\\u6210\", \"x\": [\"8-3\", \"8-4\", \"9-1\", \"9-2\", \"9-3\"], \"y\": [0.0, 0.0, 0.0, 0.0, 0.0], \"type\": \"scatter\", \"uid\": \"7397360e-c204-11e8-ad45-a81e84e6c740\"}, {\"name\": \"\\u8def\\u6167\\u840d_\\u5f00\\u53d1\\u4e2d\\u7684\\u9879\\u76ee\\u6570\", \"x\": [\"8-3\", \"8-4\", \"9-1\", \"9-2\", \"9-3\"], \"y\": [0.0, 0.0, 0.0, 0.0, 0.0], \"type\": \"scatter\", \"uid\": \"739737e4-c204-11e8-ad45-a81e84e6c740\"}, {\"name\": \"\\u8def\\u6167\\u840d_\\u5ef6\\u671f\\u9879\\u76ee\\u6570\", \"x\": [\"8-3\", \"8-4\", \"9-1\", \"9-2\", \"9-3\"], \"y\": [0.0, 0.0, 0.0, 0.0, 0.0], \"type\": \"scatter\", \"uid\": \"739739ba-c204-11e8-ad45-a81e84e6c740\"}, {\"name\": \"\\u8def\\u6167\\u840d_\\u6682\\u505c\\u9879\\u76ee\\u6570\", \"x\": [\"8-3\", \"8-4\", \"9-1\", \"9-2\", \"9-3\"], \"y\": [0.0, 0.0, 0.0, 0.0, 2.0], \"type\": \"scatter\", \"uid\": \"73973b90-c204-11e8-ad45-a81e84e6c740\"}, {\"name\": \"\\u5b8b\\u8fce\\u6960_\\u5b63\\u5ea6\\u5f00\\u53d1\\u9879\\u76ee\\u6570\", \"x\": [\"8-3\", \"8-4\", \"9-1\"], \"y\": [23.0, 23.0, 23.0], \"type\": \"scatter\", \"uid\": \"73973d5c-c204-11e8-ad45-a81e84e6c740\"}, {\"name\": \"\\u5b8b\\u8fce\\u6960_\\u5982\\u671f\\u5b8c\\u6210\\u9879\\u76ee\\u6570\", \"x\": [\"8-3\", \"8-4\", \"9-1\"], \"y\": [0.0, 0.0, 0.0], \"type\": \"scatter\", \"uid\": \"73973f3c-c204-11e8-ad45-a81e84e6c740\"}, {\"name\": \"\\u5b8b\\u8fce\\u6960_\\u5ef6\\u671f\\u5b8c\\u6210\", \"x\": [\"8-3\", \"8-4\", \"9-1\"], \"y\": [8.0, 9.0, 10.0], \"type\": \"scatter\", \"uid\": \"73974112-c204-11e8-ad45-a81e84e6c740\"}, {\"name\": \"\\u5b8b\\u8fce\\u6960_\\u5f00\\u53d1\\u4e2d\\u7684\\u9879\\u76ee\\u6570\", \"x\": [\"8-3\", \"8-4\", \"9-1\"], \"y\": [14.0, 13.0, 7.0], \"type\": \"scatter\", \"uid\": \"739742de-c204-11e8-ad45-a81e84e6c740\"}, {\"name\": \"\\u5b8b\\u8fce\\u6960_\\u5ef6\\u671f\\u9879\\u76ee\\u6570\", \"x\": [\"8-3\", \"8-4\", \"9-1\"], \"y\": [1.0, 1.0, 6.0], \"type\": \"scatter\", \"uid\": \"739744b4-c204-11e8-ad45-a81e84e6c740\"}, {\"name\": \"\\u5b8b\\u8fce\\u6960_\\u6682\\u505c\\u9879\\u76ee\\u6570\", \"x\": [\"8-3\", \"8-4\", \"9-1\"], \"y\": [0.0, 0.0, 0.0], \"type\": \"scatter\", \"uid\": \"7397468a-c204-11e8-ad45-a81e84e6c740\"}, {\"name\": \"\\u6768\\u4f1f\\u98de_\\u5b63\\u5ea6\\u5f00\\u53d1\\u9879\\u76ee\\u6570\", \"x\": [\"8-3\", \"8-4\", \"9-1\", \"9-2\", \"9-3\"], \"y\": [8.0, 8.0, 8.0, 8.0, 8.0], \"type\": \"scatter\", \"uid\": \"73974856-c204-11e8-ad45-a81e84e6c740\"}, {\"name\": \"\\u6768\\u4f1f\\u98de_\\u5982\\u671f\\u5b8c\\u6210\\u9879\\u76ee\\u6570\", \"x\": [\"8-3\", \"8-4\", \"9-1\", \"9-2\", \"9-3\"], \"y\": [2.0, 2.0, 4.0, 4.0, 4.0], \"type\": \"scatter\", \"uid\": \"73974a2c-c204-11e8-ad45-a81e84e6c740\"}, {\"name\": \"\\u6768\\u4f1f\\u98de_\\u5ef6\\u671f\\u5b8c\\u6210\", \"x\": [\"8-3\", \"8-4\", \"9-1\", \"9-2\", \"9-3\"], \"y\": [1.0, 2.0, 2.0, 2.0, 2.0], \"type\": \"scatter\", \"uid\": \"73974bf8-c204-11e8-ad45-a81e84e6c740\"}, {\"name\": \"\\u6768\\u4f1f\\u98de_\\u5f00\\u53d1\\u4e2d\\u7684\\u9879\\u76ee\\u6570\", \"x\": [\"8-3\", \"8-4\", \"9-1\", \"9-2\", \"9-3\"], \"y\": [5.0, 4.0, 2.0, 2.0, 2.0], \"type\": \"scatter\", \"uid\": \"739751ca-c204-11e8-ad45-a81e84e6c740\"}, {\"name\": \"\\u6768\\u4f1f\\u98de_\\u5ef6\\u671f\\u9879\\u76ee\\u6570\", \"x\": [\"8-3\", \"8-4\", \"9-1\", \"9-2\", \"9-3\"], \"y\": [0.0, 0.0, 0.0, 0.0, 0.0], \"type\": \"scatter\", \"uid\": \"7397549a-c204-11e8-ad45-a81e84e6c740\"}, {\"name\": \"\\u6768\\u4f1f\\u98de_\\u6682\\u505c\\u9879\\u76ee\\u6570\", \"x\": [\"8-3\", \"8-4\", \"9-1\", \"9-2\", \"9-3\"], \"y\": [0.0, 0.0, 0.0, 0.0, 0.0], \"type\": \"scatter\", \"uid\": \"73975670-c204-11e8-ad45-a81e84e6c740\"}, {\"name\": \"\\u9a6c\\u6f47_\\u5b63\\u5ea6\\u5f00\\u53d1\\u9879\\u76ee\\u6570\", \"x\": [\"8-3\", \"8-4\", \"9-1\", \"9-2\"], \"y\": [0.0, 0.0, 0.0, 0.0], \"type\": \"scatter\", \"uid\": \"73975850-c204-11e8-ad45-a81e84e6c740\"}, {\"name\": \"\\u9a6c\\u6f47_\\u5982\\u671f\\u5b8c\\u6210\\u9879\\u76ee\\u6570\", \"x\": [\"8-3\", \"8-4\", \"9-1\", \"9-2\"], \"y\": [0.0, 0.0, 0.0, 0.0], \"type\": \"scatter\", \"uid\": \"73975a1c-c204-11e8-ad45-a81e84e6c740\"}, {\"name\": \"\\u9a6c\\u6f47_\\u5ef6\\u671f\\u5b8c\\u6210\", \"x\": [\"8-3\", \"8-4\", \"9-1\", \"9-2\"], \"y\": [0.0, 0.0, 0.0, 0.0], \"type\": \"scatter\", \"uid\": \"73975bf2-c204-11e8-ad45-a81e84e6c740\"}, {\"name\": \"\\u9a6c\\u6f47_\\u5f00\\u53d1\\u4e2d\\u7684\\u9879\\u76ee\\u6570\", \"x\": [\"8-3\", \"8-4\", \"9-1\", \"9-2\"], \"y\": [1.0, 0.0, 0.0, 0.0], \"type\": \"scatter\", \"uid\": \"73975dc8-c204-11e8-ad45-a81e84e6c740\"}, {\"name\": \"\\u9a6c\\u6f47_\\u5ef6\\u671f\\u9879\\u76ee\\u6570\", \"x\": [\"8-3\", \"8-4\", \"9-1\", \"9-2\"], \"y\": [1.0, 0.0, 0.0, 0.0], \"type\": \"scatter\", \"uid\": \"73975f9e-c204-11e8-ad45-a81e84e6c740\"}, {\"name\": \"\\u9a6c\\u6f47_\\u6682\\u505c\\u9879\\u76ee\\u6570\", \"x\": [\"8-3\", \"8-4\", \"9-1\", \"9-2\"], \"y\": [0.0, 0.0, 0.0, 0.0], \"type\": \"scatter\", \"uid\": \"739762d2-c204-11e8-ad45-a81e84e6c740\"}, {\"name\": \"\\u674e\\u5e86\\u539f_\\u5b63\\u5ea6\\u5f00\\u53d1\\u9879\\u76ee\\u6570\", \"x\": [\"8-3\", \"8-4\", \"9-1\", \"9-2\", \"9-3\"], \"y\": [0.0, 0.0, 0.0, 0.0, 0.0], \"type\": \"scatter\", \"uid\": \"739764bc-c204-11e8-ad45-a81e84e6c740\"}, {\"name\": \"\\u674e\\u5e86\\u539f_\\u5982\\u671f\\u5b8c\\u6210\\u9879\\u76ee\\u6570\", \"x\": [\"8-3\", \"8-4\", \"9-1\", \"9-2\", \"9-3\"], \"y\": [0.0, 0.0, 0.0, 0.0, 0.0], \"type\": \"scatter\", \"uid\": \"739766a6-c204-11e8-ad45-a81e84e6c740\"}, {\"name\": \"\\u674e\\u5e86\\u539f_\\u5ef6\\u671f\\u5b8c\\u6210\", \"x\": [\"8-3\", \"8-4\", \"9-1\", \"9-2\", \"9-3\"], \"y\": [0.0, 0.0, 0.0, 0.0, 0.0], \"type\": \"scatter\", \"uid\": \"73976886-c204-11e8-ad45-a81e84e6c740\"}, {\"name\": \"\\u674e\\u5e86\\u539f_\\u5f00\\u53d1\\u4e2d\\u7684\\u9879\\u76ee\\u6570\", \"x\": [\"8-3\", \"8-4\", \"9-1\", \"9-2\", \"9-3\"], \"y\": [0.0, 0.0, 0.0, 0.0, 0.0], \"type\": \"scatter\", \"uid\": \"73976d72-c204-11e8-ad45-a81e84e6c740\"}, {\"name\": \"\\u674e\\u5e86\\u539f_\\u5ef6\\u671f\\u9879\\u76ee\\u6570\", \"x\": [\"8-3\", \"8-4\", \"9-1\", \"9-2\", \"9-3\"], \"y\": [0.0, 0.0, 0.0, 0.0, 0.0], \"type\": \"scatter\", \"uid\": \"739770e2-c204-11e8-ad45-a81e84e6c740\"}, {\"name\": \"\\u674e\\u5e86\\u539f_\\u6682\\u505c\\u9879\\u76ee\\u6570\", \"x\": [\"8-3\", \"8-4\", \"9-1\", \"9-2\", \"9-3\"], \"y\": [0.0, 0.0, 0.0, 0.0, 0.0], \"type\": \"scatter\", \"uid\": \"739773f8-c204-11e8-ad45-a81e84e6c740\"}, {\"name\": \"\\u97e9\\u5c11\\u6000_\\u5b63\\u5ea6\\u5f00\\u53d1\\u9879\\u76ee\\u6570\", \"x\": [\"8-3\", \"8-4\", \"9-1\", \"9-2\"], \"y\": [7.0, 7.0, 7.0, 6.0], \"type\": \"scatter\", \"uid\": \"739776d2-c204-11e8-ad45-a81e84e6c740\"}, {\"name\": \"\\u97e9\\u5c11\\u6000_\\u5982\\u671f\\u5b8c\\u6210\\u9879\\u76ee\\u6570\", \"x\": [\"8-3\", \"8-4\", \"9-1\", \"9-2\"], \"y\": [5.0, 5.0, 6.0, 5.0], \"type\": \"scatter\", \"uid\": \"73977e84-c204-11e8-ad45-a81e84e6c740\"}, {\"name\": \"\\u97e9\\u5c11\\u6000_\\u5ef6\\u671f\\u5b8c\\u6210\", \"x\": [\"8-3\", \"8-4\", \"9-1\", \"9-2\"], \"y\": [0.0, 0.0, 0.0, 0.0], \"type\": \"scatter\", \"uid\": \"73978294-c204-11e8-ad45-a81e84e6c740\"}, {\"name\": \"\\u97e9\\u5c11\\u6000_\\u5f00\\u53d1\\u4e2d\\u7684\\u9879\\u76ee\\u6570\", \"x\": [\"8-3\", \"8-4\", \"9-1\", \"9-2\"], \"y\": [1.0, 2.0, 1.0, 1.0], \"type\": \"scatter\", \"uid\": \"739784ec-c204-11e8-ad45-a81e84e6c740\"}, {\"name\": \"\\u97e9\\u5c11\\u6000_\\u5ef6\\u671f\\u9879\\u76ee\\u6570\", \"x\": [\"8-3\", \"8-4\", \"9-1\", \"9-2\"], \"y\": [0.0, 0.0, 0.0, 0.0], \"type\": \"scatter\", \"uid\": \"73978708-c204-11e8-ad45-a81e84e6c740\"}, {\"name\": \"\\u97e9\\u5c11\\u6000_\\u6682\\u505c\\u9879\\u76ee\\u6570\", \"x\": [\"8-3\", \"8-4\", \"9-1\", \"9-2\"], \"y\": [0.0, 0.0, 0.0, 0.0], \"type\": \"scatter\", \"uid\": \"739788fc-c204-11e8-ad45-a81e84e6c740\"}, {\"name\": \"\\u8d75\\u73a5_\\u5b63\\u5ea6\\u5f00\\u53d1\\u9879\\u76ee\\u6570\", \"x\": [\"8-3\", \"8-4\", \"9-1\", \"9-2\"], \"y\": [21.0, 22.0, 21.0, 22.0], \"type\": \"scatter\", \"uid\": \"73978c08-c204-11e8-ad45-a81e84e6c740\"}, {\"name\": \"\\u8d75\\u73a5_\\u5982\\u671f\\u5b8c\\u6210\\u9879\\u76ee\\u6570\", \"x\": [\"8-3\", \"8-4\", \"9-1\", \"9-2\"], \"y\": [20.0, 21.0, 20.0, 21.0], \"type\": \"scatter\", \"uid\": \"73978dfc-c204-11e8-ad45-a81e84e6c740\"}, {\"name\": \"\\u8d75\\u73a5_\\u5ef6\\u671f\\u5b8c\\u6210\", \"x\": [\"8-3\", \"8-4\", \"9-1\", \"9-2\"], \"y\": [1.0, 1.0, 1.0, 1.0], \"type\": \"scatter\", \"uid\": \"73978ff0-c204-11e8-ad45-a81e84e6c740\"}, {\"name\": \"\\u8d75\\u73a5_\\u5f00\\u53d1\\u4e2d\\u7684\\u9879\\u76ee\\u6570\", \"x\": [\"8-3\", \"8-4\", \"9-1\", \"9-2\"], \"y\": [0.0, 2.0, 3.0, 1.0], \"type\": \"scatter\", \"uid\": \"739791da-c204-11e8-ad45-a81e84e6c740\"}, {\"name\": \"\\u8d75\\u73a5_\\u5ef6\\u671f\\u9879\\u76ee\\u6570\", \"x\": [\"8-3\", \"8-4\", \"9-1\", \"9-2\"], \"y\": [0.0, 0.0, 1.0, 1.0], \"type\": \"scatter\", \"uid\": \"739793c4-c204-11e8-ad45-a81e84e6c740\"}, {\"name\": \"\\u8d75\\u73a5_\\u6682\\u505c\\u9879\\u76ee\\u6570\", \"x\": [\"8-3\", \"8-4\", \"9-1\", \"9-2\"], \"y\": [0.0, 0.0, 1.0, 1.0], \"type\": \"scatter\", \"uid\": \"739795a4-c204-11e8-ad45-a81e84e6c740\"}, {\"name\": \"\\u82cf\\u5f66\\u52cb_\\u5b63\\u5ea6\\u5f00\\u53d1\\u9879\\u76ee\\u6570\", \"x\": [\"8-3\", \"8-4\", \"9-1\", \"9-2\", \"9-3\"], \"y\": [33.0, 33.0, 33.0, 33.0, 33.0], \"type\": \"scatter\", \"uid\": \"73979784-c204-11e8-ad45-a81e84e6c740\"}, {\"name\": \"\\u82cf\\u5f66\\u52cb_\\u5982\\u671f\\u5b8c\\u6210\\u9879\\u76ee\\u6570\", \"x\": [\"8-3\", \"8-4\", \"9-1\", \"9-2\", \"9-3\"], \"y\": [20.0, 21.0, 22.0, 25.0, 25.0], \"type\": \"scatter\", \"uid\": \"73979ba8-c204-11e8-ad45-a81e84e6c740\"}, {\"name\": \"\\u82cf\\u5f66\\u52cb_\\u5ef6\\u671f\\u5b8c\\u6210\", \"x\": [\"8-3\", \"8-4\", \"9-1\", \"9-2\", \"9-3\"], \"y\": [0.0, 0.0, 0.0, 0.0, 0.0], \"type\": \"scatter\", \"uid\": \"73979dce-c204-11e8-ad45-a81e84e6c740\"}, {\"name\": \"\\u82cf\\u5f66\\u52cb_\\u5f00\\u53d1\\u4e2d\\u7684\\u9879\\u76ee\\u6570\", \"x\": [\"8-3\", \"8-4\", \"9-1\", \"9-2\", \"9-3\"], \"y\": [5.0, 4.0, 3.0, 0.0, 0.0], \"type\": \"scatter\", \"uid\": \"73979fb8-c204-11e8-ad45-a81e84e6c740\"}, {\"name\": \"\\u82cf\\u5f66\\u52cb_\\u5ef6\\u671f\\u9879\\u76ee\\u6570\", \"x\": [\"8-3\", \"8-4\", \"9-1\", \"9-2\", \"9-3\"], \"y\": [0.0, 0.0, 0.0, 0.0, 0.0], \"type\": \"scatter\", \"uid\": \"7397a198-c204-11e8-ad45-a81e84e6c740\"}, {\"name\": \"\\u82cf\\u5f66\\u52cb_\\u6682\\u505c\\u9879\\u76ee\\u6570\", \"x\": [\"8-3\", \"8-4\", \"9-1\", \"9-2\", \"9-3\"], \"y\": [8.0, 8.0, 8.0, 8.0, 8.0], \"type\": \"scatter\", \"uid\": \"7397a378-c204-11e8-ad45-a81e84e6c740\"}, {\"name\": \"\\u5f20\\u5b88\\u4f1f_\\u5b63\\u5ea6\\u5f00\\u53d1\\u9879\\u76ee\\u6570\", \"x\": [\"8-3\", \"8-4\", \"9-1\", \"9-2\"], \"y\": [13.0, 16.0, 18.0, 20.0], \"type\": \"scatter\", \"uid\": \"7397a6e8-c204-11e8-ad45-a81e84e6c740\"}, {\"name\": \"\\u5f20\\u5b88\\u4f1f_\\u5982\\u671f\\u5b8c\\u6210\\u9879\\u76ee\\u6570\", \"x\": [\"8-3\", \"8-4\", \"9-1\", \"9-2\"], \"y\": [13.0, 16.0, 18.0, 20.0], \"type\": \"scatter\", \"uid\": \"7397aa76-c204-11e8-ad45-a81e84e6c740\"}, {\"name\": \"\\u5f20\\u5b88\\u4f1f_\\u5ef6\\u671f\\u5b8c\\u6210\", \"x\": [\"8-3\", \"8-4\", \"9-1\", \"9-2\"], \"y\": [0.0, 0.0, 0.0, 0.0], \"type\": \"scatter\", \"uid\": \"7397ad50-c204-11e8-ad45-a81e84e6c740\"}, {\"name\": \"\\u5f20\\u5b88\\u4f1f_\\u5f00\\u53d1\\u4e2d\\u7684\\u9879\\u76ee\\u6570\", \"x\": [\"8-3\", \"8-4\", \"9-1\", \"9-2\"], \"y\": [2.0, 2.0, 2.0, 2.0], \"type\": \"scatter\", \"uid\": \"7397af30-c204-11e8-ad45-a81e84e6c740\"}, {\"name\": \"\\u5f20\\u5b88\\u4f1f_\\u5ef6\\u671f\\u9879\\u76ee\\u6570\", \"x\": [\"8-3\", \"8-4\", \"9-1\", \"9-2\"], \"y\": [0.0, 0.0, 0.0, 0.0], \"type\": \"scatter\", \"uid\": \"7397b106-c204-11e8-ad45-a81e84e6c740\"}, {\"name\": \"\\u5f20\\u5b88\\u4f1f_\\u6682\\u505c\\u9879\\u76ee\\u6570\", \"x\": [\"8-3\", \"8-4\", \"9-1\", \"9-2\"], \"y\": [0.0, 0.0, 0.0, 0.0], \"type\": \"scatter\", \"uid\": \"7397b2dc-c204-11e8-ad45-a81e84e6c740\"}, {\"name\": \"\\u5468\\u6768_\\u5b63\\u5ea6\\u5f00\\u53d1\\u9879\\u76ee\\u6570\", \"x\": [\"8-3\", \"8-4\", \"9-1\", \"9-2\", \"9-3\"], \"y\": [32.0, 32.0, 32.0, 32.0, 32.0], \"type\": \"scatter\", \"uid\": \"7397b4b2-c204-11e8-ad45-a81e84e6c740\"}, {\"name\": \"\\u5468\\u6768_\\u5982\\u671f\\u5b8c\\u6210\\u9879\\u76ee\\u6570\", \"x\": [\"8-3\", \"8-4\", \"9-1\", \"9-2\", \"9-3\"], \"y\": [28.0, 28.0, 28.0, 29.0, 32.0], \"type\": \"scatter\", \"uid\": \"7397b67e-c204-11e8-ad45-a81e84e6c740\"}, {\"name\": \"\\u5468\\u6768_\\u5ef6\\u671f\\u5b8c\\u6210\", \"x\": [\"8-3\", \"8-4\", \"9-1\", \"9-2\", \"9-3\"], \"y\": [0.0, 0.0, 0.0, 0.0, 0.0], \"type\": \"scatter\", \"uid\": \"7397b84a-c204-11e8-ad45-a81e84e6c740\"}, {\"name\": \"\\u5468\\u6768_\\u5f00\\u53d1\\u4e2d\\u7684\\u9879\\u76ee\\u6570\", \"x\": [\"8-3\", \"8-4\", \"9-1\", \"9-2\", \"9-3\"], \"y\": [3.0, 3.0, 3.0, 2.0, 0.0], \"type\": \"scatter\", \"uid\": \"7397ba20-c204-11e8-ad45-a81e84e6c740\"}, {\"name\": \"\\u5468\\u6768_\\u5ef6\\u671f\\u9879\\u76ee\\u6570\", \"x\": [\"8-3\", \"8-4\", \"9-1\", \"9-2\", \"9-3\"], \"y\": [0.0, 0.0, 0.0, 0.0, 0.0], \"type\": \"scatter\", \"uid\": \"7397bbf6-c204-11e8-ad45-a81e84e6c740\"}, {\"name\": \"\\u5468\\u6768_\\u6682\\u505c\\u9879\\u76ee\\u6570\", \"x\": [\"8-3\", \"8-4\", \"9-1\", \"9-2\", \"9-3\"], \"y\": [1.0, 1.0, 1.0, 1.0, 1.0], \"type\": \"scatter\", \"uid\": \"7397bdc2-c204-11e8-ad45-a81e84e6c740\"}, {\"name\": \"\\u8303\\u65ed\\u5b81_\\u5b63\\u5ea6\\u5f00\\u53d1\\u9879\\u76ee\\u6570\", \"x\": [\"8-3\", \"8-4\", \"9-1\", \"9-2\"], \"y\": [18.0, 25.0, 30.0, 7.0], \"type\": \"scatter\", \"uid\": \"7397bfc0-c204-11e8-ad45-a81e84e6c740\"}, {\"name\": \"\\u8303\\u65ed\\u5b81_\\u5982\\u671f\\u5b8c\\u6210\\u9879\\u76ee\\u6570\", \"x\": [\"8-3\", \"8-4\", \"9-1\", \"9-2\"], \"y\": [16.0, 23.0, 27.0, 7.0], \"type\": \"scatter\", \"uid\": \"7397c18c-c204-11e8-ad45-a81e84e6c740\"}, {\"name\": \"\\u8303\\u65ed\\u5b81_\\u5ef6\\u671f\\u5b8c\\u6210\", \"x\": [\"8-3\", \"8-4\", \"9-1\", \"9-2\"], \"y\": [2.0, 2.0, 3.0, 0.0], \"type\": \"scatter\", \"uid\": \"7397c358-c204-11e8-ad45-a81e84e6c740\"}, {\"name\": \"\\u8303\\u65ed\\u5b81_\\u5f00\\u53d1\\u4e2d\\u7684\\u9879\\u76ee\\u6570\", \"x\": [\"8-3\", \"8-4\", \"9-1\", \"9-2\"], \"y\": [0.0, 1.0, 1.0, 0.0], \"type\": \"scatter\", \"uid\": \"7397c524-c204-11e8-ad45-a81e84e6c740\"}, {\"name\": \"\\u8303\\u65ed\\u5b81_\\u5ef6\\u671f\\u9879\\u76ee\\u6570\", \"x\": [\"8-3\", \"8-4\", \"9-1\", \"9-2\"], \"y\": [0.0, 0.0, 0.0, 0.0], \"type\": \"scatter\", \"uid\": \"7397c6f0-c204-11e8-ad45-a81e84e6c740\"}, {\"name\": \"\\u8303\\u65ed\\u5b81_\\u6682\\u505c\\u9879\\u76ee\\u6570\", \"x\": [\"8-3\", \"8-4\", \"9-1\", \"9-2\"], \"y\": [0.0, 0.0, 0.0, 0.0], \"type\": \"scatter\", \"uid\": \"7397c8bc-c204-11e8-ad45-a81e84e6c740\"}, {\"name\": \"\\u5b5f\\u660a_\\u5b63\\u5ea6\\u5f00\\u53d1\\u9879\\u76ee\\u6570\", \"x\": [\"8-3\", \"8-4\", \"9-1\", \"9-2\", \"9-3\"], \"y\": [43.0, 43.0, 43.0, 43.0, 43.0], \"type\": \"scatter\", \"uid\": \"7397ca92-c204-11e8-ad45-a81e84e6c740\"}, {\"name\": \"\\u5b5f\\u660a_\\u5982\\u671f\\u5b8c\\u6210\\u9879\\u76ee\\u6570\", \"x\": [\"8-3\", \"8-4\", \"9-1\", \"9-2\", \"9-3\"], \"y\": [38.0, 38.0, 38.0, 39.0, 39.0], \"type\": \"scatter\", \"uid\": \"7397cc5e-c204-11e8-ad45-a81e84e6c740\"}, {\"name\": \"\\u5b5f\\u660a_\\u5ef6\\u671f\\u5b8c\\u6210\", \"x\": [\"8-3\", \"8-4\", \"9-1\", \"9-2\", \"9-3\"], \"y\": [0.0, 0.0, 0.0, 0.0, 0.0], \"type\": \"scatter\", \"uid\": \"7397ce2a-c204-11e8-ad45-a81e84e6c740\"}, {\"name\": \"\\u5b5f\\u660a_\\u5f00\\u53d1\\u4e2d\\u7684\\u9879\\u76ee\\u6570\", \"x\": [\"8-3\", \"8-4\", \"9-1\", \"9-2\", \"9-3\"], \"y\": [2.0, 2.0, 2.0, 2.0, 2.0], \"type\": \"scatter\", \"uid\": \"7397cff6-c204-11e8-ad45-a81e84e6c740\"}, {\"name\": \"\\u5b5f\\u660a_\\u5ef6\\u671f\\u9879\\u76ee\\u6570\", \"x\": [\"8-3\", \"8-4\", \"9-1\", \"9-2\", \"9-3\"], \"y\": [0.0, 0.0, 0.0, 0.0, 0.0], \"type\": \"scatter\", \"uid\": \"7397d1c2-c204-11e8-ad45-a81e84e6c740\"}, {\"name\": \"\\u5b5f\\u660a_\\u6682\\u505c\\u9879\\u76ee\\u6570\", \"x\": [\"8-3\", \"8-4\", \"9-1\", \"9-2\", \"9-3\"], \"y\": [3.0, 3.0, 3.0, 3.0, 3.0], \"type\": \"scatter\", \"uid\": \"7397d384-c204-11e8-ad45-a81e84e6c740\"}, {\"name\": \"\\u4e8e\\u52c7\\u4e00_\\u5b63\\u5ea6\\u5f00\\u53d1\\u9879\\u76ee\\u6570\", \"x\": [\"8-3\", \"8-4\", \"9-1\", \"9-2\", \"9-3\"], \"y\": [0.0, 0.0, 0.0, 0.0, 0.0], \"type\": \"scatter\", \"uid\": \"7397d55a-c204-11e8-ad45-a81e84e6c740\"}, {\"name\": \"\\u4e8e\\u52c7\\u4e00_\\u5982\\u671f\\u5b8c\\u6210\\u9879\\u76ee\\u6570\", \"x\": [\"8-3\", \"8-4\", \"9-1\", \"9-2\", \"9-3\"], \"y\": [0.0, 0.0, 0.0, 0.0, 0.0], \"type\": \"scatter\", \"uid\": \"7397d71c-c204-11e8-ad45-a81e84e6c740\"}, {\"name\": \"\\u4e8e\\u52c7\\u4e00_\\u5ef6\\u671f\\u5b8c\\u6210\", \"x\": [\"8-3\", \"8-4\", \"9-1\", \"9-2\", \"9-3\"], \"y\": [0.0, 0.0, 0.0, 0.0, 0.0], \"type\": \"scatter\", \"uid\": \"7397d8f2-c204-11e8-ad45-a81e84e6c740\"}, {\"name\": \"\\u4e8e\\u52c7\\u4e00_\\u5f00\\u53d1\\u4e2d\\u7684\\u9879\\u76ee\\u6570\", \"x\": [\"8-3\", \"8-4\", \"9-1\", \"9-2\", \"9-3\"], \"y\": [0.0, 0.0, 0.0, 0.0, 0.0], \"type\": \"scatter\", \"uid\": \"7397dabe-c204-11e8-ad45-a81e84e6c740\"}, {\"name\": \"\\u4e8e\\u52c7\\u4e00_\\u5ef6\\u671f\\u9879\\u76ee\\u6570\", \"x\": [\"8-3\", \"8-4\", \"9-1\", \"9-2\", \"9-3\"], \"y\": [0.0, 0.0, 0.0, 0.0, 0.0], \"type\": \"scatter\", \"uid\": \"7397dc80-c204-11e8-ad45-a81e84e6c740\"}, {\"name\": \"\\u4e8e\\u52c7\\u4e00_\\u6682\\u505c\\u9879\\u76ee\\u6570\", \"x\": [\"8-3\", \"8-4\", \"9-1\", \"9-2\", \"9-3\"], \"y\": [0.0, 0.0, 0.0, 0.0, 0.0], \"type\": \"scatter\", \"uid\": \"7397de4c-c204-11e8-ad45-a81e84e6c740\"}, {\"name\": \"\\u4e8e\\u6167_\\u5b63\\u5ea6\\u5f00\\u53d1\\u9879\\u76ee\\u6570\", \"x\": [\"8-3\", \"8-4\", \"9-1\", \"9-2\", \"9-3\"], \"y\": [36.0, 36.0, 36.0, 37.0, 37.0], \"type\": \"scatter\", \"uid\": \"7397e018-c204-11e8-ad45-a81e84e6c740\"}, {\"name\": \"\\u4e8e\\u6167_\\u5982\\u671f\\u5b8c\\u6210\\u9879\\u76ee\\u6570\", \"x\": [\"8-3\", \"8-4\", \"9-1\", \"9-2\", \"9-3\"], \"y\": [32.0, 33.0, 34.0, 35.0, 35.0], \"type\": \"scatter\", \"uid\": \"7397e216-c204-11e8-ad45-a81e84e6c740\"}, {\"name\": \"\\u4e8e\\u6167_\\u5ef6\\u671f\\u5b8c\\u6210\", \"x\": [\"8-3\", \"8-4\", \"9-1\", \"9-2\", \"9-3\"], \"y\": [0.0, 0.0, 0.0, 0.0, 0.0], \"type\": \"scatter\", \"uid\": \"7397e3f6-c204-11e8-ad45-a81e84e6c740\"}, {\"name\": \"\\u4e8e\\u6167_\\u5f00\\u53d1\\u4e2d\\u7684\\u9879\\u76ee\\u6570\", \"x\": [\"8-3\", \"8-4\", \"9-1\", \"9-2\", \"9-3\"], \"y\": [4.0, 3.0, 2.0, 2.0, 2.0], \"type\": \"scatter\", \"uid\": \"7397e8a6-c204-11e8-ad45-a81e84e6c740\"}, {\"name\": \"\\u4e8e\\u6167_\\u5ef6\\u671f\\u9879\\u76ee\\u6570\", \"x\": [\"8-3\", \"8-4\", \"9-1\", \"9-2\", \"9-3\"], \"y\": [0.0, 0.0, 0.0, 0.0, 0.0], \"type\": \"scatter\", \"uid\": \"7397eb76-c204-11e8-ad45-a81e84e6c740\"}, {\"name\": \"\\u4e8e\\u6167_\\u6682\\u505c\\u9879\\u76ee\\u6570\", \"x\": [\"8-3\", \"8-4\", \"9-1\", \"9-2\", \"9-3\"], \"y\": [0.0, 0.0, 0.0, 0.0, 0.0], \"type\": \"scatter\", \"uid\": \"7397ed56-c204-11e8-ad45-a81e84e6c740\"}, {\"name\": \"\\u5218\\u6c5f_\\u5b63\\u5ea6\\u5f00\\u53d1\\u9879\\u76ee\\u6570\", \"x\": [\"8-3\", \"8-4\", \"9-1\", \"9-2\", \"9-3\"], \"y\": [3.0, 3.0, 3.0, 0.0, 3.0], \"type\": \"scatter\", \"uid\": \"7397ef22-c204-11e8-ad45-a81e84e6c740\"}, {\"name\": \"\\u5218\\u6c5f_\\u5982\\u671f\\u5b8c\\u6210\\u9879\\u76ee\\u6570\", \"x\": [\"8-3\", \"8-4\", \"9-1\", \"9-2\", \"9-3\"], \"y\": [0.0, 0.0, 0.0, 0.0, 0.0], \"type\": \"scatter\", \"uid\": \"7397f0f8-c204-11e8-ad45-a81e84e6c740\"}, {\"name\": \"\\u5218\\u6c5f_\\u5ef6\\u671f\\u5b8c\\u6210\", \"x\": [\"8-3\", \"8-4\", \"9-1\", \"9-2\", \"9-3\"], \"y\": [0.0, 1.0, 2.0, 0.0, 2.0], \"type\": \"scatter\", \"uid\": \"7397f2c4-c204-11e8-ad45-a81e84e6c740\"}, {\"name\": \"\\u5218\\u6c5f_\\u5f00\\u53d1\\u4e2d\\u7684\\u9879\\u76ee\\u6570\", \"x\": [\"8-3\", \"8-4\", \"9-1\", \"9-2\", \"9-3\"], \"y\": [3.0, 2.0, 1.0, 1.0, 1.0], \"type\": \"scatter\", \"uid\": \"7397f490-c204-11e8-ad45-a81e84e6c740\"}, {\"name\": \"\\u5218\\u6c5f_\\u5ef6\\u671f\\u9879\\u76ee\\u6570\", \"x\": [\"8-3\", \"8-4\", \"9-1\", \"9-2\", \"9-3\"], \"y\": [0.0, 0.0, 0.0, 0.0, 0.0], \"type\": \"scatter\", \"uid\": \"7397f65c-c204-11e8-ad45-a81e84e6c740\"}, {\"name\": \"\\u5218\\u6c5f_\\u6682\\u505c\\u9879\\u76ee\\u6570\", \"x\": [\"8-3\", \"8-4\", \"9-1\", \"9-2\", \"9-3\"], \"y\": [0.0, 0.0, 0.0, 1.0, 0.0], \"type\": \"scatter\", \"uid\": \"7397f832-c204-11e8-ad45-a81e84e6c740\"}, {\"name\": \"\\u674e\\u534e\\u4e91_\\u5b63\\u5ea6\\u5f00\\u53d1\\u9879\\u76ee\\u6570\", \"x\": [\"8-3\", \"8-4\", \"9-1\", \"9-2\", \"9-3\"], \"y\": [35.0, 35.0, 35.0, 35.0, 47.0], \"type\": \"scatter\", \"uid\": \"7397f9fe-c204-11e8-ad45-a81e84e6c740\"}, {\"name\": \"\\u674e\\u534e\\u4e91_\\u5982\\u671f\\u5b8c\\u6210\\u9879\\u76ee\\u6570\", \"x\": [\"8-3\", \"8-4\", \"9-1\", \"9-2\", \"9-3\"], \"y\": [5.0, 5.0, 5.0, 5.0, 22.0], \"type\": \"scatter\", \"uid\": \"7397fbd4-c204-11e8-ad45-a81e84e6c740\"}, {\"name\": \"\\u674e\\u534e\\u4e91_\\u5ef6\\u671f\\u5b8c\\u6210\", \"x\": [\"8-3\", \"8-4\", \"9-1\", \"9-2\", \"9-3\"], \"y\": [0.0, 0.0, 1.0, 3.0, 13.0], \"type\": \"scatter\", \"uid\": \"7397fda0-c204-11e8-ad45-a81e84e6c740\"}, {\"name\": \"\\u674e\\u534e\\u4e91_\\u5f00\\u53d1\\u4e2d\\u7684\\u9879\\u76ee\\u6570\", \"x\": [\"8-3\", \"8-4\", \"9-1\", \"9-2\", \"9-3\"], \"y\": [24.0, 24.0, 20.0, 18.0, 3.0], \"type\": \"scatter\", \"uid\": \"7397ff6c-c204-11e8-ad45-a81e84e6c740\"}, {\"name\": \"\\u674e\\u534e\\u4e91_\\u5ef6\\u671f\\u9879\\u76ee\\u6570\", \"x\": [\"8-3\", \"8-4\", \"9-1\", \"9-2\", \"9-3\"], \"y\": [6.0, 6.0, 9.0, 9.0, 6.0], \"type\": \"scatter\", \"uid\": \"73980142-c204-11e8-ad45-a81e84e6c740\"}, {\"name\": \"\\u674e\\u534e\\u4e91_\\u6682\\u505c\\u9879\\u76ee\\u6570\", \"x\": [\"8-3\", \"8-4\", \"9-1\", \"9-2\", \"9-3\"], \"y\": [0.0, 0.0, 0.0, 0.0, 3.0], \"type\": \"scatter\", \"uid\": \"7398030e-c204-11e8-ad45-a81e84e6c740\"}, {\"name\": \"\\u8c22\\u5fb7\\u5065_\\u5b63\\u5ea6\\u5f00\\u53d1\\u9879\\u76ee\\u6570\", \"x\": [\"8-3\", \"8-4\", \"9-2\", \"9-3\"], \"y\": [0.0, 0.0, 6.0, 6.0], \"type\": \"scatter\", \"uid\": \"739804da-c204-11e8-ad45-a81e84e6c740\"}, {\"name\": \"\\u8c22\\u5fb7\\u5065_\\u5982\\u671f\\u5b8c\\u6210\\u9879\\u76ee\\u6570\", \"x\": [\"8-3\", \"8-4\", \"9-2\", \"9-3\"], \"y\": [0.0, 0.0, 6.0, 6.0], \"type\": \"scatter\", \"uid\": \"739806a6-c204-11e8-ad45-a81e84e6c740\"}, {\"name\": \"\\u8c22\\u5fb7\\u5065_\\u5ef6\\u671f\\u5b8c\\u6210\", \"x\": [\"8-3\", \"8-4\", \"9-2\", \"9-3\"], \"y\": [0.0, 0.0, 0.0, 0.0], \"type\": \"scatter\", \"uid\": \"7398087c-c204-11e8-ad45-a81e84e6c740\"}, {\"name\": \"\\u8c22\\u5fb7\\u5065_\\u5f00\\u53d1\\u4e2d\\u7684\\u9879\\u76ee\\u6570\", \"x\": [\"8-3\", \"8-4\", \"9-2\", \"9-3\"], \"y\": [0.0, 0.0, 0.0, 0.0], \"type\": \"scatter\", \"uid\": \"73980a3e-c204-11e8-ad45-a81e84e6c740\"}, {\"name\": \"\\u8c22\\u5fb7\\u5065_\\u5ef6\\u671f\\u9879\\u76ee\\u6570\", \"x\": [\"8-3\", \"8-4\", \"9-2\", \"9-3\"], \"y\": [0.0, 0.0, 0.0, 0.0], \"type\": \"scatter\", \"uid\": \"73980c46-c204-11e8-ad45-a81e84e6c740\"}, {\"name\": \"\\u8c22\\u5fb7\\u5065_\\u6682\\u505c\\u9879\\u76ee\\u6570\", \"x\": [\"8-3\", \"8-4\", \"9-2\", \"9-3\"], \"y\": [0.0, 0.0, 0.0, 0.0], \"type\": \"scatter\", \"uid\": \"73980e1c-c204-11e8-ad45-a81e84e6c740\"}, {\"name\": \"\\u4efb\\u96ea_\\u5b63\\u5ea6\\u5f00\\u53d1\\u9879\\u76ee\\u6570\", \"x\": [\"8-4\", \"9-1\", \"9-2\", \"9-3\"], \"y\": [27.0, 27.0, 27.0, 27.0], \"type\": \"scatter\", \"uid\": \"73980ff2-c204-11e8-ad45-a81e84e6c740\"}, {\"name\": \"\\u4efb\\u96ea_\\u5982\\u671f\\u5b8c\\u6210\\u9879\\u76ee\\u6570\", \"x\": [\"8-4\", \"9-1\", \"9-2\", \"9-3\"], \"y\": [8.0, 8.0, 8.0, 8.0], \"type\": \"scatter\", \"uid\": \"739811be-c204-11e8-ad45-a81e84e6c740\"}, {\"name\": \"\\u4efb\\u96ea_\\u5ef6\\u671f\\u5b8c\\u6210\", \"x\": [\"8-4\", \"9-1\", \"9-2\", \"9-3\"], \"y\": [1.0, 1.0, 1.0, 5.0], \"type\": \"scatter\", \"uid\": \"7398138a-c204-11e8-ad45-a81e84e6c740\"}, {\"name\": \"\\u4efb\\u96ea_\\u5f00\\u53d1\\u4e2d\\u7684\\u9879\\u76ee\\u6570\", \"x\": [\"8-4\", \"9-1\", \"9-2\", \"9-3\"], \"y\": [15.0, 8.0, 8.0, 6.0], \"type\": \"scatter\", \"uid\": \"73981560-c204-11e8-ad45-a81e84e6c740\"}, {\"name\": \"\\u4efb\\u96ea_\\u5ef6\\u671f\\u9879\\u76ee\\u6570\", \"x\": [\"8-4\", \"9-1\", \"9-2\", \"9-3\"], \"y\": [3.0, 7.0, 7.0, 4.0], \"type\": \"scatter\", \"uid\": \"7398172c-c204-11e8-ad45-a81e84e6c740\"}, {\"name\": \"\\u4efb\\u96ea_\\u6682\\u505c\\u9879\\u76ee\\u6570\", \"x\": [\"8-4\", \"9-1\", \"9-2\", \"9-3\"], \"y\": [0.0, 3.0, 3.0, 4.0], \"type\": \"scatter\", \"uid\": \"739818f8-c204-11e8-ad45-a81e84e6c740\"}],\n",
       "            {\"title\": \"\\u5b63\\u5ea6\\u5f00\\u53d1\\u9879\\u76ee\\u6570&\\u5982\\u671f\\u5b8c\\u6210\\u9879\\u76ee\\u6570&\\u5ef6\\u671f\\u5b8c\\u6210&\\u5f00\\u53d1\\u4e2d\\u7684\\u9879\\u76ee\\u6570&\\u5ef6\\u671f\\u9879\\u76ee\\u6570&\\u6682\\u505c\\u9879\\u76ee\\u6570\\u5468\\u8d8b\\u52bf\\u56fe\", \"xaxis\": {\"mirror\": \"all\", \"nticks\": 20, \"showgrid\": true, \"showline\": true, \"title\": \"\\u5468\", \"zeroline\": true}, \"yaxis\": {\"mirror\": \"all\", \"nticks\": 20, \"showgrid\": true, \"showline\": true, \"title\": \"\\u5b63\\u5ea6\\u5f00\\u53d1\\u9879\\u76ee\\u6570&\\u5982\\u671f\\u5b8c\\u6210\\u9879\\u76ee\\u6570&\\u5ef6\\u671f\\u5b8c\\u6210&\\u5f00\\u53d1\\u4e2d\\u7684\\u9879\\u76ee\\u6570&\\u5ef6\\u671f\\u9879\\u76ee\\u6570&\\u6682\\u505c\\u9879\\u76ee\\u6570\", \"zeroline\": true}},\n",
       "            {\"showLink\": true, \"linkText\": \"Export to plot.ly\"}\n",
       "        ).then(function () {return Plotly.addFrames('848e05d1-4abf-4e87-bc4e-597399c13218',{});}).then(function(){Plotly.animate('848e05d1-4abf-4e87-bc4e-597399c13218');})\n",
       "        });</script>"
      ]
     },
     "metadata": {},
     "output_type": "display_data"
    },
    {
     "data": {
      "application/vnd.plotly.v1+json": {
       "data": [
        {
         "name": "于勇一_季度开发项目数",
         "type": "scatter",
         "uid": "74a25db2-c204-11e8-ad45-a81e84e6c740",
         "x": [
          "8",
          "9"
         ],
         "y": [
          0,
          0
         ]
        },
        {
         "name": "于勇一_如期完成项目数",
         "type": "scatter",
         "uid": "74a263e8-c204-11e8-ad45-a81e84e6c740",
         "x": [
          "8",
          "9"
         ],
         "y": [
          0,
          0
         ]
        },
        {
         "name": "于勇一_延期完成",
         "type": "scatter",
         "uid": "74a26636-c204-11e8-ad45-a81e84e6c740",
         "x": [
          "8",
          "9"
         ],
         "y": [
          0,
          0
         ]
        },
        {
         "name": "于勇一_开发中的项目数",
         "type": "scatter",
         "uid": "74a26848-c204-11e8-ad45-a81e84e6c740",
         "x": [
          "8",
          "9"
         ],
         "y": [
          0,
          0
         ]
        },
        {
         "name": "于勇一_延期项目数",
         "type": "scatter",
         "uid": "74a26a3c-c204-11e8-ad45-a81e84e6c740",
         "x": [
          "8",
          "9"
         ],
         "y": [
          0,
          0
         ]
        },
        {
         "name": "于勇一_暂停项目数",
         "type": "scatter",
         "uid": "74a26c26-c204-11e8-ad45-a81e84e6c740",
         "x": [
          "8",
          "9"
         ],
         "y": [
          0,
          0
         ]
        },
        {
         "name": "于慧_季度开发项目数",
         "type": "scatter",
         "uid": "74a26e06-c204-11e8-ad45-a81e84e6c740",
         "x": [
          "8",
          "9"
         ],
         "y": [
          72,
          110
         ]
        },
        {
         "name": "于慧_如期完成项目数",
         "type": "scatter",
         "uid": "74a26fdc-c204-11e8-ad45-a81e84e6c740",
         "x": [
          "8",
          "9"
         ],
         "y": [
          65,
          104
         ]
        },
        {
         "name": "于慧_延期完成",
         "type": "scatter",
         "uid": "74a271b2-c204-11e8-ad45-a81e84e6c740",
         "x": [
          "8",
          "9"
         ],
         "y": [
          0,
          0
         ]
        },
        {
         "name": "于慧_开发中的项目数",
         "type": "scatter",
         "uid": "74a27392-c204-11e8-ad45-a81e84e6c740",
         "x": [
          "8",
          "9"
         ],
         "y": [
          7,
          6
         ]
        },
        {
         "name": "于慧_延期项目数",
         "type": "scatter",
         "uid": "74a27568-c204-11e8-ad45-a81e84e6c740",
         "x": [
          "8",
          "9"
         ],
         "y": [
          0,
          0
         ]
        },
        {
         "name": "于慧_暂停项目数",
         "type": "scatter",
         "uid": "74a27752-c204-11e8-ad45-a81e84e6c740",
         "x": [
          "8",
          "9"
         ],
         "y": [
          0,
          0
         ]
        },
        {
         "name": "任雪_季度开发项目数",
         "type": "scatter",
         "uid": "74a27a0e-c204-11e8-ad45-a81e84e6c740",
         "x": [
          "8",
          "9"
         ],
         "y": [
          null,
          81
         ]
        },
        {
         "name": "任雪_如期完成项目数",
         "type": "scatter",
         "uid": "74a27c8e-c204-11e8-ad45-a81e84e6c740",
         "x": [
          "8",
          "9"
         ],
         "y": [
          null,
          24
         ]
        },
        {
         "name": "任雪_延期完成",
         "type": "scatter",
         "uid": "74a27e6e-c204-11e8-ad45-a81e84e6c740",
         "x": [
          "8",
          "9"
         ],
         "y": [
          null,
          7
         ]
        },
        {
         "name": "任雪_开发中的项目数",
         "type": "scatter",
         "uid": "74a2804e-c204-11e8-ad45-a81e84e6c740",
         "x": [
          "8",
          "9"
         ],
         "y": [
          null,
          22
         ]
        },
        {
         "name": "任雪_延期项目数",
         "type": "scatter",
         "uid": "74a2821a-c204-11e8-ad45-a81e84e6c740",
         "x": [
          "8",
          "9"
         ],
         "y": [
          null,
          18
         ]
        },
        {
         "name": "任雪_暂停项目数",
         "type": "scatter",
         "uid": "74a283f0-c204-11e8-ad45-a81e84e6c740",
         "x": [
          "8",
          "9"
         ],
         "y": [
          null,
          10
         ]
        },
        {
         "name": "刘慧玲_季度开发项目数",
         "type": "scatter",
         "uid": "74a285c6-c204-11e8-ad45-a81e84e6c740",
         "x": [
          "8",
          "9"
         ],
         "y": [
          16,
          null
         ]
        },
        {
         "name": "刘慧玲_如期完成项目数",
         "type": "scatter",
         "uid": "74a2879c-c204-11e8-ad45-a81e84e6c740",
         "x": [
          "8",
          "9"
         ],
         "y": [
          6,
          null
         ]
        },
        {
         "name": "刘慧玲_延期完成",
         "type": "scatter",
         "uid": "74a289a4-c204-11e8-ad45-a81e84e6c740",
         "x": [
          "8",
          "9"
         ],
         "y": [
          2,
          null
         ]
        },
        {
         "name": "刘慧玲_开发中的项目数",
         "type": "scatter",
         "uid": "74a28b7a-c204-11e8-ad45-a81e84e6c740",
         "x": [
          "8",
          "9"
         ],
         "y": [
          4,
          null
         ]
        },
        {
         "name": "刘慧玲_延期项目数",
         "type": "scatter",
         "uid": "74a28d5a-c204-11e8-ad45-a81e84e6c740",
         "x": [
          "8",
          "9"
         ],
         "y": [
          0,
          null
         ]
        },
        {
         "name": "刘慧玲_暂停项目数",
         "type": "scatter",
         "uid": "74a28f30-c204-11e8-ad45-a81e84e6c740",
         "x": [
          "8",
          "9"
         ],
         "y": [
          4,
          null
         ]
        },
        {
         "name": "刘江_季度开发项目数",
         "type": "scatter",
         "uid": "74a29106-c204-11e8-ad45-a81e84e6c740",
         "x": [
          "8",
          "9"
         ],
         "y": [
          6,
          6
         ]
        },
        {
         "name": "刘江_如期完成项目数",
         "type": "scatter",
         "uid": "74a292dc-c204-11e8-ad45-a81e84e6c740",
         "x": [
          "8",
          "9"
         ],
         "y": [
          0,
          0
         ]
        },
        {
         "name": "刘江_延期完成",
         "type": "scatter",
         "uid": "74a294a8-c204-11e8-ad45-a81e84e6c740",
         "x": [
          "8",
          "9"
         ],
         "y": [
          1,
          4
         ]
        },
        {
         "name": "刘江_开发中的项目数",
         "type": "scatter",
         "uid": "74a2967e-c204-11e8-ad45-a81e84e6c740",
         "x": [
          "8",
          "9"
         ],
         "y": [
          5,
          3
         ]
        },
        {
         "name": "刘江_延期项目数",
         "type": "scatter",
         "uid": "74a29854-c204-11e8-ad45-a81e84e6c740",
         "x": [
          "8",
          "9"
         ],
         "y": [
          0,
          0
         ]
        },
        {
         "name": "刘江_暂停项目数",
         "type": "scatter",
         "uid": "74a29a2a-c204-11e8-ad45-a81e84e6c740",
         "x": [
          "8",
          "9"
         ],
         "y": [
          0,
          1
         ]
        },
        {
         "name": "占伟_季度开发项目数",
         "type": "scatter",
         "uid": "74a29c0a-c204-11e8-ad45-a81e84e6c740",
         "x": [
          "8",
          "9"
         ],
         "y": [
          37,
          null
         ]
        },
        {
         "name": "占伟_如期完成项目数",
         "type": "scatter",
         "uid": "74a29de0-c204-11e8-ad45-a81e84e6c740",
         "x": [
          "8",
          "9"
         ],
         "y": [
          22,
          null
         ]
        },
        {
         "name": "占伟_延期完成",
         "type": "scatter",
         "uid": "74a2a0e2-c204-11e8-ad45-a81e84e6c740",
         "x": [
          "8",
          "9"
         ],
         "y": [
          3,
          null
         ]
        },
        {
         "name": "占伟_开发中的项目数",
         "type": "scatter",
         "uid": "74a2a34e-c204-11e8-ad45-a81e84e6c740",
         "x": [
          "8",
          "9"
         ],
         "y": [
          7,
          null
         ]
        },
        {
         "name": "占伟_延期项目数",
         "type": "scatter",
         "uid": "74a2a524-c204-11e8-ad45-a81e84e6c740",
         "x": [
          "8",
          "9"
         ],
         "y": [
          6,
          null
         ]
        },
        {
         "name": "占伟_暂停项目数",
         "type": "scatter",
         "uid": "74a2a6fa-c204-11e8-ad45-a81e84e6c740",
         "x": [
          "8",
          "9"
         ],
         "y": [
          0,
          null
         ]
        },
        {
         "name": "周杨_季度开发项目数",
         "type": "scatter",
         "uid": "74a2a8da-c204-11e8-ad45-a81e84e6c740",
         "x": [
          "8",
          "9"
         ],
         "y": [
          64,
          96
         ]
        },
        {
         "name": "周杨_如期完成项目数",
         "type": "scatter",
         "uid": "74a2aaa6-c204-11e8-ad45-a81e84e6c740",
         "x": [
          "8",
          "9"
         ],
         "y": [
          56,
          89
         ]
        },
        {
         "name": "周杨_延期完成",
         "type": "scatter",
         "uid": "74a2ac7c-c204-11e8-ad45-a81e84e6c740",
         "x": [
          "8",
          "9"
         ],
         "y": [
          0,
          0
         ]
        },
        {
         "name": "周杨_开发中的项目数",
         "type": "scatter",
         "uid": "74a2ae52-c204-11e8-ad45-a81e84e6c740",
         "x": [
          "8",
          "9"
         ],
         "y": [
          6,
          5
         ]
        },
        {
         "name": "周杨_延期项目数",
         "type": "scatter",
         "uid": "74a2b028-c204-11e8-ad45-a81e84e6c740",
         "x": [
          "8",
          "9"
         ],
         "y": [
          0,
          0
         ]
        },
        {
         "name": "周杨_暂停项目数",
         "type": "scatter",
         "uid": "74a2b1f4-c204-11e8-ad45-a81e84e6c740",
         "x": [
          "8",
          "9"
         ],
         "y": [
          2,
          3
         ]
        },
        {
         "name": "姚盟成_季度开发项目数",
         "type": "scatter",
         "uid": "74a2b3ca-c204-11e8-ad45-a81e84e6c740",
         "x": [
          "8",
          "9"
         ],
         "y": [
          18,
          27
         ]
        },
        {
         "name": "姚盟成_如期完成项目数",
         "type": "scatter",
         "uid": "74a2b5a0-c204-11e8-ad45-a81e84e6c740",
         "x": [
          "8",
          "9"
         ],
         "y": [
          6,
          9
         ]
        },
        {
         "name": "姚盟成_延期完成",
         "type": "scatter",
         "uid": "74a2b76c-c204-11e8-ad45-a81e84e6c740",
         "x": [
          "8",
          "9"
         ],
         "y": [
          0,
          0
         ]
        },
        {
         "name": "姚盟成_开发中的项目数",
         "type": "scatter",
         "uid": "74a2b942-c204-11e8-ad45-a81e84e6c740",
         "x": [
          "8",
          "9"
         ],
         "y": [
          3,
          12
         ]
        },
        {
         "name": "姚盟成_延期项目数",
         "type": "scatter",
         "uid": "74a2bb18-c204-11e8-ad45-a81e84e6c740",
         "x": [
          "8",
          "9"
         ],
         "y": [
          0,
          0
         ]
        },
        {
         "name": "姚盟成_暂停项目数",
         "type": "scatter",
         "uid": "74a2bcee-c204-11e8-ad45-a81e84e6c740",
         "x": [
          "8",
          "9"
         ],
         "y": [
          0,
          12
         ]
        },
        {
         "name": "孟昊_季度开发项目数",
         "type": "scatter",
         "uid": "74a2bece-c204-11e8-ad45-a81e84e6c740",
         "x": [
          "8",
          "9"
         ],
         "y": [
          86,
          129
         ]
        },
        {
         "name": "孟昊_如期完成项目数",
         "type": "scatter",
         "uid": "74a2c09a-c204-11e8-ad45-a81e84e6c740",
         "x": [
          "8",
          "9"
         ],
         "y": [
          76,
          116
         ]
        },
        {
         "name": "孟昊_延期完成",
         "type": "scatter",
         "uid": "74a2c266-c204-11e8-ad45-a81e84e6c740",
         "x": [
          "8",
          "9"
         ],
         "y": [
          0,
          0
         ]
        },
        {
         "name": "孟昊_开发中的项目数",
         "type": "scatter",
         "uid": "74a2c43c-c204-11e8-ad45-a81e84e6c740",
         "x": [
          "8",
          "9"
         ],
         "y": [
          4,
          6
         ]
        },
        {
         "name": "孟昊_延期项目数",
         "type": "scatter",
         "uid": "74a2c950-c204-11e8-ad45-a81e84e6c740",
         "x": [
          "8",
          "9"
         ],
         "y": [
          0,
          0
         ]
        },
        {
         "name": "孟昊_暂停项目数",
         "type": "scatter",
         "uid": "74a2cd92-c204-11e8-ad45-a81e84e6c740",
         "x": [
          "8",
          "9"
         ],
         "y": [
          6,
          9
         ]
        },
        {
         "name": "宋迎楠_季度开发项目数",
         "type": "scatter",
         "uid": "74a2d01c-c204-11e8-ad45-a81e84e6c740",
         "x": [
          "8",
          "9"
         ],
         "y": [
          46,
          null
         ]
        },
        {
         "name": "宋迎楠_如期完成项目数",
         "type": "scatter",
         "uid": "74a2d24c-c204-11e8-ad45-a81e84e6c740",
         "x": [
          "8",
          "9"
         ],
         "y": [
          0,
          null
         ]
        },
        {
         "name": "宋迎楠_延期完成",
         "type": "scatter",
         "uid": "74a2d5da-c204-11e8-ad45-a81e84e6c740",
         "x": [
          "8",
          "9"
         ],
         "y": [
          17,
          null
         ]
        },
        {
         "name": "宋迎楠_开发中的项目数",
         "type": "scatter",
         "uid": "74a2d968-c204-11e8-ad45-a81e84e6c740",
         "x": [
          "8",
          "9"
         ],
         "y": [
          27,
          null
         ]
        },
        {
         "name": "宋迎楠_延期项目数",
         "type": "scatter",
         "uid": "74a2dbde-c204-11e8-ad45-a81e84e6c740",
         "x": [
          "8",
          "9"
         ],
         "y": [
          2,
          null
         ]
        },
        {
         "name": "宋迎楠_暂停项目数",
         "type": "scatter",
         "uid": "74a2de72-c204-11e8-ad45-a81e84e6c740",
         "x": [
          "8",
          "9"
         ],
         "y": [
          0,
          null
         ]
        },
        {
         "name": "封彦杰_季度开发项目数",
         "type": "scatter",
         "uid": "74a2e41c-c204-11e8-ad45-a81e84e6c740",
         "x": [
          "8",
          "9"
         ],
         "y": [
          10,
          15
         ]
        },
        {
         "name": "封彦杰_如期完成项目数",
         "type": "scatter",
         "uid": "74a2e958-c204-11e8-ad45-a81e84e6c740",
         "x": [
          "8",
          "9"
         ],
         "y": [
          0,
          6
         ]
        },
        {
         "name": "封彦杰_延期完成",
         "type": "scatter",
         "uid": "74a2ed36-c204-11e8-ad45-a81e84e6c740",
         "x": [
          "8",
          "9"
         ],
         "y": [
          0,
          0
         ]
        },
        {
         "name": "封彦杰_开发中的项目数",
         "type": "scatter",
         "uid": "74a2f04c-c204-11e8-ad45-a81e84e6c740",
         "x": [
          "8",
          "9"
         ],
         "y": [
          8,
          7
         ]
        },
        {
         "name": "封彦杰_延期项目数",
         "type": "scatter",
         "uid": "74a2f2fe-c204-11e8-ad45-a81e84e6c740",
         "x": [
          "8",
          "9"
         ],
         "y": [
          0,
          0
         ]
        },
        {
         "name": "封彦杰_暂停项目数",
         "type": "scatter",
         "uid": "74a2f68c-c204-11e8-ad45-a81e84e6c740",
         "x": [
          "8",
          "9"
         ],
         "y": [
          2,
          2
         ]
        },
        {
         "name": "张守伟_季度开发项目数",
         "type": "scatter",
         "uid": "74a2fa56-c204-11e8-ad45-a81e84e6c740",
         "x": [
          "8",
          "9"
         ],
         "y": [
          29,
          null
         ]
        },
        {
         "name": "张守伟_如期完成项目数",
         "type": "scatter",
         "uid": "74a2fca4-c204-11e8-ad45-a81e84e6c740",
         "x": [
          "8",
          "9"
         ],
         "y": [
          29,
          null
         ]
        },
        {
         "name": "张守伟_延期完成",
         "type": "scatter",
         "uid": "74a30046-c204-11e8-ad45-a81e84e6c740",
         "x": [
          "8",
          "9"
         ],
         "y": [
          0,
          null
         ]
        },
        {
         "name": "张守伟_开发中的项目数",
         "type": "scatter",
         "uid": "74a30348-c204-11e8-ad45-a81e84e6c740",
         "x": [
          "8",
          "9"
         ],
         "y": [
          4,
          null
         ]
        },
        {
         "name": "张守伟_延期项目数",
         "type": "scatter",
         "uid": "74a306c2-c204-11e8-ad45-a81e84e6c740",
         "x": [
          "8",
          "9"
         ],
         "y": [
          0,
          null
         ]
        },
        {
         "name": "张守伟_暂停项目数",
         "type": "scatter",
         "uid": "74a308b6-c204-11e8-ad45-a81e84e6c740",
         "x": [
          "8",
          "9"
         ],
         "y": [
          0,
          null
         ]
        },
        {
         "name": "李华云_季度开发项目数",
         "type": "scatter",
         "uid": "74a30bfe-c204-11e8-ad45-a81e84e6c740",
         "x": [
          "8",
          "9"
         ],
         "y": [
          70,
          117
         ]
        },
        {
         "name": "李华云_如期完成项目数",
         "type": "scatter",
         "uid": "74a30e6a-c204-11e8-ad45-a81e84e6c740",
         "x": [
          "8",
          "9"
         ],
         "y": [
          10,
          32
         ]
        },
        {
         "name": "李华云_延期完成",
         "type": "scatter",
         "uid": "74a31054-c204-11e8-ad45-a81e84e6c740",
         "x": [
          "8",
          "9"
         ],
         "y": [
          0,
          17
         ]
        },
        {
         "name": "李华云_开发中的项目数",
         "type": "scatter",
         "uid": "74a312de-c204-11e8-ad45-a81e84e6c740",
         "x": [
          "8",
          "9"
         ],
         "y": [
          48,
          41
         ]
        },
        {
         "name": "李华云_延期项目数",
         "type": "scatter",
         "uid": "74a3154a-c204-11e8-ad45-a81e84e6c740",
         "x": [
          "8",
          "9"
         ],
         "y": [
          12,
          24
         ]
        },
        {
         "name": "李华云_暂停项目数",
         "type": "scatter",
         "uid": "74a31720-c204-11e8-ad45-a81e84e6c740",
         "x": [
          "8",
          "9"
         ],
         "y": [
          0,
          3
         ]
        },
        {
         "name": "李庆原_季度开发项目数",
         "type": "scatter",
         "uid": "74a318ec-c204-11e8-ad45-a81e84e6c740",
         "x": [
          "8",
          "9"
         ],
         "y": [
          0,
          0
         ]
        },
        {
         "name": "李庆原_如期完成项目数",
         "type": "scatter",
         "uid": "74a31ac2-c204-11e8-ad45-a81e84e6c740",
         "x": [
          "8",
          "9"
         ],
         "y": [
          0,
          0
         ]
        },
        {
         "name": "李庆原_延期完成",
         "type": "scatter",
         "uid": "74a31c8e-c204-11e8-ad45-a81e84e6c740",
         "x": [
          "8",
          "9"
         ],
         "y": [
          0,
          0
         ]
        },
        {
         "name": "李庆原_开发中的项目数",
         "type": "scatter",
         "uid": "74a31e5a-c204-11e8-ad45-a81e84e6c740",
         "x": [
          "8",
          "9"
         ],
         "y": [
          0,
          0
         ]
        },
        {
         "name": "李庆原_延期项目数",
         "type": "scatter",
         "uid": "74a32030-c204-11e8-ad45-a81e84e6c740",
         "x": [
          "8",
          "9"
         ],
         "y": [
          0,
          0
         ]
        },
        {
         "name": "李庆原_暂停项目数",
         "type": "scatter",
         "uid": "74a321fc-c204-11e8-ad45-a81e84e6c740",
         "x": [
          "8",
          "9"
         ],
         "y": [
          0,
          0
         ]
        },
        {
         "name": "杨伟飞_季度开发项目数",
         "type": "scatter",
         "uid": "74a323d2-c204-11e8-ad45-a81e84e6c740",
         "x": [
          "8",
          "9"
         ],
         "y": [
          16,
          24
         ]
        },
        {
         "name": "杨伟飞_如期完成项目数",
         "type": "scatter",
         "uid": "74a3259e-c204-11e8-ad45-a81e84e6c740",
         "x": [
          "8",
          "9"
         ],
         "y": [
          4,
          12
         ]
        },
        {
         "name": "杨伟飞_延期完成",
         "type": "scatter",
         "uid": "74a3276a-c204-11e8-ad45-a81e84e6c740",
         "x": [
          "8",
          "9"
         ],
         "y": [
          3,
          6
         ]
        },
        {
         "name": "杨伟飞_开发中的项目数",
         "type": "scatter",
         "uid": "74a32936-c204-11e8-ad45-a81e84e6c740",
         "x": [
          "8",
          "9"
         ],
         "y": [
          9,
          6
         ]
        },
        {
         "name": "杨伟飞_延期项目数",
         "type": "scatter",
         "uid": "74a32b0c-c204-11e8-ad45-a81e84e6c740",
         "x": [
          "8",
          "9"
         ],
         "y": [
          0,
          0
         ]
        },
        {
         "name": "杨伟飞_暂停项目数",
         "type": "scatter",
         "uid": "74a32cd8-c204-11e8-ad45-a81e84e6c740",
         "x": [
          "8",
          "9"
         ],
         "y": [
          0,
          0
         ]
        },
        {
         "name": "王宁_季度开发项目数",
         "type": "scatter",
         "uid": "74a32ea4-c204-11e8-ad45-a81e84e6c740",
         "x": [
          "8",
          "9"
         ],
         "y": [
          0,
          null
         ]
        },
        {
         "name": "王宁_如期完成项目数",
         "type": "scatter",
         "uid": "74a33066-c204-11e8-ad45-a81e84e6c740",
         "x": [
          "8",
          "9"
         ],
         "y": [
          0,
          null
         ]
        },
        {
         "name": "王宁_延期完成",
         "type": "scatter",
         "uid": "74a3325a-c204-11e8-ad45-a81e84e6c740",
         "x": [
          "8",
          "9"
         ],
         "y": [
          0,
          null
         ]
        },
        {
         "name": "王宁_开发中的项目数",
         "type": "scatter",
         "uid": "74a33426-c204-11e8-ad45-a81e84e6c740",
         "x": [
          "8",
          "9"
         ],
         "y": [
          0,
          null
         ]
        },
        {
         "name": "王宁_延期项目数",
         "type": "scatter",
         "uid": "74a335e8-c204-11e8-ad45-a81e84e6c740",
         "x": [
          "8",
          "9"
         ],
         "y": [
          0,
          null
         ]
        },
        {
         "name": "王宁_暂停项目数",
         "type": "scatter",
         "uid": "74a33926-c204-11e8-ad45-a81e84e6c740",
         "x": [
          "8",
          "9"
         ],
         "y": [
          0,
          null
         ]
        },
        {
         "name": "苏彦勋_季度开发项目数",
         "type": "scatter",
         "uid": "74a33b42-c204-11e8-ad45-a81e84e6c740",
         "x": [
          "8",
          "9"
         ],
         "y": [
          66,
          99
         ]
        },
        {
         "name": "苏彦勋_如期完成项目数",
         "type": "scatter",
         "uid": "74a33d22-c204-11e8-ad45-a81e84e6c740",
         "x": [
          "8",
          "9"
         ],
         "y": [
          41,
          72
         ]
        },
        {
         "name": "苏彦勋_延期完成",
         "type": "scatter",
         "uid": "74a33f02-c204-11e8-ad45-a81e84e6c740",
         "x": [
          "8",
          "9"
         ],
         "y": [
          0,
          0
         ]
        },
        {
         "name": "苏彦勋_开发中的项目数",
         "type": "scatter",
         "uid": "74a34150-c204-11e8-ad45-a81e84e6c740",
         "x": [
          "8",
          "9"
         ],
         "y": [
          9,
          3
         ]
        },
        {
         "name": "苏彦勋_延期项目数",
         "type": "scatter",
         "uid": "74a34326-c204-11e8-ad45-a81e84e6c740",
         "x": [
          "8",
          "9"
         ],
         "y": [
          0,
          0
         ]
        },
        {
         "name": "苏彦勋_暂停项目数",
         "type": "scatter",
         "uid": "74a34524-c204-11e8-ad45-a81e84e6c740",
         "x": [
          "8",
          "9"
         ],
         "y": [
          16,
          24
         ]
        },
        {
         "name": "范旭宁_季度开发项目数",
         "type": "scatter",
         "uid": "74a346fa-c204-11e8-ad45-a81e84e6c740",
         "x": [
          "8",
          "9"
         ],
         "y": [
          43,
          null
         ]
        },
        {
         "name": "范旭宁_如期完成项目数",
         "type": "scatter",
         "uid": "74a348c6-c204-11e8-ad45-a81e84e6c740",
         "x": [
          "8",
          "9"
         ],
         "y": [
          39,
          null
         ]
        },
        {
         "name": "范旭宁_延期完成",
         "type": "scatter",
         "uid": "74a34a9c-c204-11e8-ad45-a81e84e6c740",
         "x": [
          "8",
          "9"
         ],
         "y": [
          4,
          null
         ]
        },
        {
         "name": "范旭宁_开发中的项目数",
         "type": "scatter",
         "uid": "74a34c68-c204-11e8-ad45-a81e84e6c740",
         "x": [
          "8",
          "9"
         ],
         "y": [
          1,
          null
         ]
        },
        {
         "name": "范旭宁_延期项目数",
         "type": "scatter",
         "uid": "74a34e34-c204-11e8-ad45-a81e84e6c740",
         "x": [
          "8",
          "9"
         ],
         "y": [
          0,
          null
         ]
        },
        {
         "name": "范旭宁_暂停项目数",
         "type": "scatter",
         "uid": "74a3500a-c204-11e8-ad45-a81e84e6c740",
         "x": [
          "8",
          "9"
         ],
         "y": [
          0,
          null
         ]
        },
        {
         "name": "谢德健_季度开发项目数",
         "type": "scatter",
         "uid": "74a351e0-c204-11e8-ad45-a81e84e6c740",
         "x": [
          "8",
          "9"
         ],
         "y": [
          0,
          null
         ]
        },
        {
         "name": "谢德健_如期完成项目数",
         "type": "scatter",
         "uid": "74a353b6-c204-11e8-ad45-a81e84e6c740",
         "x": [
          "8",
          "9"
         ],
         "y": [
          0,
          null
         ]
        },
        {
         "name": "谢德健_延期完成",
         "type": "scatter",
         "uid": "74a35578-c204-11e8-ad45-a81e84e6c740",
         "x": [
          "8",
          "9"
         ],
         "y": [
          0,
          null
         ]
        },
        {
         "name": "谢德健_开发中的项目数",
         "type": "scatter",
         "uid": "74a3574e-c204-11e8-ad45-a81e84e6c740",
         "x": [
          "8",
          "9"
         ],
         "y": [
          0,
          null
         ]
        },
        {
         "name": "谢德健_延期项目数",
         "type": "scatter",
         "uid": "74a35924-c204-11e8-ad45-a81e84e6c740",
         "x": [
          "8",
          "9"
         ],
         "y": [
          0,
          null
         ]
        },
        {
         "name": "谢德健_暂停项目数",
         "type": "scatter",
         "uid": "74a35af0-c204-11e8-ad45-a81e84e6c740",
         "x": [
          "8",
          "9"
         ],
         "y": [
          0,
          null
         ]
        },
        {
         "name": "赵玥_季度开发项目数",
         "type": "scatter",
         "uid": "74a35cbc-c204-11e8-ad45-a81e84e6c740",
         "x": [
          "8",
          "9"
         ],
         "y": [
          43,
          null
         ]
        },
        {
         "name": "赵玥_如期完成项目数",
         "type": "scatter",
         "uid": "74a35f64-c204-11e8-ad45-a81e84e6c740",
         "x": [
          "8",
          "9"
         ],
         "y": [
          41,
          null
         ]
        },
        {
         "name": "赵玥_延期完成",
         "type": "scatter",
         "uid": "74a361c6-c204-11e8-ad45-a81e84e6c740",
         "x": [
          "8",
          "9"
         ],
         "y": [
          2,
          null
         ]
        },
        {
         "name": "赵玥_开发中的项目数",
         "type": "scatter",
         "uid": "74a36392-c204-11e8-ad45-a81e84e6c740",
         "x": [
          "8",
          "9"
         ],
         "y": [
          2,
          null
         ]
        },
        {
         "name": "赵玥_延期项目数",
         "type": "scatter",
         "uid": "74a3655e-c204-11e8-ad45-a81e84e6c740",
         "x": [
          "8",
          "9"
         ],
         "y": [
          0,
          null
         ]
        },
        {
         "name": "赵玥_暂停项目数",
         "type": "scatter",
         "uid": "74a36752-c204-11e8-ad45-a81e84e6c740",
         "x": [
          "8",
          "9"
         ],
         "y": [
          0,
          null
         ]
        },
        {
         "name": "路慧萍_季度开发项目数",
         "type": "scatter",
         "uid": "74a36928-c204-11e8-ad45-a81e84e6c740",
         "x": [
          "8",
          "9"
         ],
         "y": [
          0,
          0
         ]
        },
        {
         "name": "路慧萍_如期完成项目数",
         "type": "scatter",
         "uid": "74a36b12-c204-11e8-ad45-a81e84e6c740",
         "x": [
          "8",
          "9"
         ],
         "y": [
          0,
          0
         ]
        },
        {
         "name": "路慧萍_延期完成",
         "type": "scatter",
         "uid": "74a36cd4-c204-11e8-ad45-a81e84e6c740",
         "x": [
          "8",
          "9"
         ],
         "y": [
          0,
          0
         ]
        },
        {
         "name": "路慧萍_开发中的项目数",
         "type": "scatter",
         "uid": "74a36ea0-c204-11e8-ad45-a81e84e6c740",
         "x": [
          "8",
          "9"
         ],
         "y": [
          0,
          0
         ]
        },
        {
         "name": "路慧萍_延期项目数",
         "type": "scatter",
         "uid": "74a3706c-c204-11e8-ad45-a81e84e6c740",
         "x": [
          "8",
          "9"
         ],
         "y": [
          0,
          0
         ]
        },
        {
         "name": "路慧萍_暂停项目数",
         "type": "scatter",
         "uid": "74a37242-c204-11e8-ad45-a81e84e6c740",
         "x": [
          "8",
          "9"
         ],
         "y": [
          0,
          2
         ]
        },
        {
         "name": "韩少怀_季度开发项目数",
         "type": "scatter",
         "uid": "74a3740e-c204-11e8-ad45-a81e84e6c740",
         "x": [
          "8",
          "9"
         ],
         "y": [
          14,
          null
         ]
        },
        {
         "name": "韩少怀_如期完成项目数",
         "type": "scatter",
         "uid": "74a375da-c204-11e8-ad45-a81e84e6c740",
         "x": [
          "8",
          "9"
         ],
         "y": [
          10,
          null
         ]
        },
        {
         "name": "韩少怀_延期完成",
         "type": "scatter",
         "uid": "74a377a6-c204-11e8-ad45-a81e84e6c740",
         "x": [
          "8",
          "9"
         ],
         "y": [
          0,
          null
         ]
        },
        {
         "name": "韩少怀_开发中的项目数",
         "type": "scatter",
         "uid": "74a3797c-c204-11e8-ad45-a81e84e6c740",
         "x": [
          "8",
          "9"
         ],
         "y": [
          3,
          null
         ]
        },
        {
         "name": "韩少怀_延期项目数",
         "type": "scatter",
         "uid": "74a37b52-c204-11e8-ad45-a81e84e6c740",
         "x": [
          "8",
          "9"
         ],
         "y": [
          0,
          null
         ]
        },
        {
         "name": "韩少怀_暂停项目数",
         "type": "scatter",
         "uid": "74a37ea4-c204-11e8-ad45-a81e84e6c740",
         "x": [
          "8",
          "9"
         ],
         "y": [
          0,
          null
         ]
        },
        {
         "name": "马潇_季度开发项目数",
         "type": "scatter",
         "uid": "74a3808e-c204-11e8-ad45-a81e84e6c740",
         "x": [
          "8",
          "9"
         ],
         "y": [
          0,
          null
         ]
        },
        {
         "name": "马潇_如期完成项目数",
         "type": "scatter",
         "uid": "74a382fa-c204-11e8-ad45-a81e84e6c740",
         "x": [
          "8",
          "9"
         ],
         "y": [
          0,
          null
         ]
        },
        {
         "name": "马潇_延期完成",
         "type": "scatter",
         "uid": "74a385c0-c204-11e8-ad45-a81e84e6c740",
         "x": [
          "8",
          "9"
         ],
         "y": [
          0,
          null
         ]
        },
        {
         "name": "马潇_开发中的项目数",
         "type": "scatter",
         "uid": "74a38796-c204-11e8-ad45-a81e84e6c740",
         "x": [
          "8",
          "9"
         ],
         "y": [
          1,
          null
         ]
        },
        {
         "name": "马潇_延期项目数",
         "type": "scatter",
         "uid": "74a3896c-c204-11e8-ad45-a81e84e6c740",
         "x": [
          "8",
          "9"
         ],
         "y": [
          1,
          null
         ]
        },
        {
         "name": "马潇_暂停项目数",
         "type": "scatter",
         "uid": "74a38b38-c204-11e8-ad45-a81e84e6c740",
         "x": [
          "8",
          "9"
         ],
         "y": [
          0,
          null
         ]
        }
       ],
       "layout": {
        "title": "季度开发项目数&如期完成项目数&延期完成&开发中的项目数&延期项目数&暂停项目数月趋势图",
        "xaxis": {
         "mirror": "all",
         "nticks": 20,
         "showgrid": true,
         "showline": true,
         "title": "月",
         "zeroline": true
        },
        "yaxis": {
         "mirror": "all",
         "nticks": 20,
         "showgrid": true,
         "showline": true,
         "title": "季度开发项目数&如期完成项目数&延期完成&开发中的项目数&延期项目数&暂停项目数",
         "zeroline": true
        }
       }
      },
      "text/html": [
       "<div id=\"5ae03784-41fe-47a1-9e2a-78b4f8909e5e\" style=\"height: 525px; width: 100%;\" class=\"plotly-graph-div\"></div><script type=\"text/javascript\">require([\"plotly\"], function(Plotly) { window.PLOTLYENV=window.PLOTLYENV || {};window.PLOTLYENV.BASE_URL=\"https://plot.ly\";\n",
       "        Plotly.plot(\n",
       "            '5ae03784-41fe-47a1-9e2a-78b4f8909e5e',\n",
       "            [{\"name\": \"\\u4e8e\\u52c7\\u4e00_\\u5b63\\u5ea6\\u5f00\\u53d1\\u9879\\u76ee\\u6570\", \"x\": [\"8\", \"9\"], \"y\": [0.0, 0.0], \"type\": \"scatter\", \"uid\": \"74a25db2-c204-11e8-ad45-a81e84e6c740\"}, {\"name\": \"\\u4e8e\\u52c7\\u4e00_\\u5982\\u671f\\u5b8c\\u6210\\u9879\\u76ee\\u6570\", \"x\": [\"8\", \"9\"], \"y\": [0.0, 0.0], \"type\": \"scatter\", \"uid\": \"74a263e8-c204-11e8-ad45-a81e84e6c740\"}, {\"name\": \"\\u4e8e\\u52c7\\u4e00_\\u5ef6\\u671f\\u5b8c\\u6210\", \"x\": [\"8\", \"9\"], \"y\": [0.0, 0.0], \"type\": \"scatter\", \"uid\": \"74a26636-c204-11e8-ad45-a81e84e6c740\"}, {\"name\": \"\\u4e8e\\u52c7\\u4e00_\\u5f00\\u53d1\\u4e2d\\u7684\\u9879\\u76ee\\u6570\", \"x\": [\"8\", \"9\"], \"y\": [0.0, 0.0], \"type\": \"scatter\", \"uid\": \"74a26848-c204-11e8-ad45-a81e84e6c740\"}, {\"name\": \"\\u4e8e\\u52c7\\u4e00_\\u5ef6\\u671f\\u9879\\u76ee\\u6570\", \"x\": [\"8\", \"9\"], \"y\": [0.0, 0.0], \"type\": \"scatter\", \"uid\": \"74a26a3c-c204-11e8-ad45-a81e84e6c740\"}, {\"name\": \"\\u4e8e\\u52c7\\u4e00_\\u6682\\u505c\\u9879\\u76ee\\u6570\", \"x\": [\"8\", \"9\"], \"y\": [0.0, 0.0], \"type\": \"scatter\", \"uid\": \"74a26c26-c204-11e8-ad45-a81e84e6c740\"}, {\"name\": \"\\u4e8e\\u6167_\\u5b63\\u5ea6\\u5f00\\u53d1\\u9879\\u76ee\\u6570\", \"x\": [\"8\", \"9\"], \"y\": [72.0, 110.0], \"type\": \"scatter\", \"uid\": \"74a26e06-c204-11e8-ad45-a81e84e6c740\"}, {\"name\": \"\\u4e8e\\u6167_\\u5982\\u671f\\u5b8c\\u6210\\u9879\\u76ee\\u6570\", \"x\": [\"8\", \"9\"], \"y\": [65.0, 104.0], \"type\": \"scatter\", \"uid\": \"74a26fdc-c204-11e8-ad45-a81e84e6c740\"}, {\"name\": \"\\u4e8e\\u6167_\\u5ef6\\u671f\\u5b8c\\u6210\", \"x\": [\"8\", \"9\"], \"y\": [0.0, 0.0], \"type\": \"scatter\", \"uid\": \"74a271b2-c204-11e8-ad45-a81e84e6c740\"}, {\"name\": \"\\u4e8e\\u6167_\\u5f00\\u53d1\\u4e2d\\u7684\\u9879\\u76ee\\u6570\", \"x\": [\"8\", \"9\"], \"y\": [7.0, 6.0], \"type\": \"scatter\", \"uid\": \"74a27392-c204-11e8-ad45-a81e84e6c740\"}, {\"name\": \"\\u4e8e\\u6167_\\u5ef6\\u671f\\u9879\\u76ee\\u6570\", \"x\": [\"8\", \"9\"], \"y\": [0.0, 0.0], \"type\": \"scatter\", \"uid\": \"74a27568-c204-11e8-ad45-a81e84e6c740\"}, {\"name\": \"\\u4e8e\\u6167_\\u6682\\u505c\\u9879\\u76ee\\u6570\", \"x\": [\"8\", \"9\"], \"y\": [0.0, 0.0], \"type\": \"scatter\", \"uid\": \"74a27752-c204-11e8-ad45-a81e84e6c740\"}, {\"name\": \"\\u4efb\\u96ea_\\u5b63\\u5ea6\\u5f00\\u53d1\\u9879\\u76ee\\u6570\", \"x\": [\"8\", \"9\"], \"y\": [null, 81.0], \"type\": \"scatter\", \"uid\": \"74a27a0e-c204-11e8-ad45-a81e84e6c740\"}, {\"name\": \"\\u4efb\\u96ea_\\u5982\\u671f\\u5b8c\\u6210\\u9879\\u76ee\\u6570\", \"x\": [\"8\", \"9\"], \"y\": [null, 24.0], \"type\": \"scatter\", \"uid\": \"74a27c8e-c204-11e8-ad45-a81e84e6c740\"}, {\"name\": \"\\u4efb\\u96ea_\\u5ef6\\u671f\\u5b8c\\u6210\", \"x\": [\"8\", \"9\"], \"y\": [null, 7.0], \"type\": \"scatter\", \"uid\": \"74a27e6e-c204-11e8-ad45-a81e84e6c740\"}, {\"name\": \"\\u4efb\\u96ea_\\u5f00\\u53d1\\u4e2d\\u7684\\u9879\\u76ee\\u6570\", \"x\": [\"8\", \"9\"], \"y\": [null, 22.0], \"type\": \"scatter\", \"uid\": \"74a2804e-c204-11e8-ad45-a81e84e6c740\"}, {\"name\": \"\\u4efb\\u96ea_\\u5ef6\\u671f\\u9879\\u76ee\\u6570\", \"x\": [\"8\", \"9\"], \"y\": [null, 18.0], \"type\": \"scatter\", \"uid\": \"74a2821a-c204-11e8-ad45-a81e84e6c740\"}, {\"name\": \"\\u4efb\\u96ea_\\u6682\\u505c\\u9879\\u76ee\\u6570\", \"x\": [\"8\", \"9\"], \"y\": [null, 10.0], \"type\": \"scatter\", \"uid\": \"74a283f0-c204-11e8-ad45-a81e84e6c740\"}, {\"name\": \"\\u5218\\u6167\\u73b2_\\u5b63\\u5ea6\\u5f00\\u53d1\\u9879\\u76ee\\u6570\", \"x\": [\"8\", \"9\"], \"y\": [16.0, null], \"type\": \"scatter\", \"uid\": \"74a285c6-c204-11e8-ad45-a81e84e6c740\"}, {\"name\": \"\\u5218\\u6167\\u73b2_\\u5982\\u671f\\u5b8c\\u6210\\u9879\\u76ee\\u6570\", \"x\": [\"8\", \"9\"], \"y\": [6.0, null], \"type\": \"scatter\", \"uid\": \"74a2879c-c204-11e8-ad45-a81e84e6c740\"}, {\"name\": \"\\u5218\\u6167\\u73b2_\\u5ef6\\u671f\\u5b8c\\u6210\", \"x\": [\"8\", \"9\"], \"y\": [2.0, null], \"type\": \"scatter\", \"uid\": \"74a289a4-c204-11e8-ad45-a81e84e6c740\"}, {\"name\": \"\\u5218\\u6167\\u73b2_\\u5f00\\u53d1\\u4e2d\\u7684\\u9879\\u76ee\\u6570\", \"x\": [\"8\", \"9\"], \"y\": [4.0, null], \"type\": \"scatter\", \"uid\": \"74a28b7a-c204-11e8-ad45-a81e84e6c740\"}, {\"name\": \"\\u5218\\u6167\\u73b2_\\u5ef6\\u671f\\u9879\\u76ee\\u6570\", \"x\": [\"8\", \"9\"], \"y\": [0.0, null], \"type\": \"scatter\", \"uid\": \"74a28d5a-c204-11e8-ad45-a81e84e6c740\"}, {\"name\": \"\\u5218\\u6167\\u73b2_\\u6682\\u505c\\u9879\\u76ee\\u6570\", \"x\": [\"8\", \"9\"], \"y\": [4.0, null], \"type\": \"scatter\", \"uid\": \"74a28f30-c204-11e8-ad45-a81e84e6c740\"}, {\"name\": \"\\u5218\\u6c5f_\\u5b63\\u5ea6\\u5f00\\u53d1\\u9879\\u76ee\\u6570\", \"x\": [\"8\", \"9\"], \"y\": [6.0, 6.0], \"type\": \"scatter\", \"uid\": \"74a29106-c204-11e8-ad45-a81e84e6c740\"}, {\"name\": \"\\u5218\\u6c5f_\\u5982\\u671f\\u5b8c\\u6210\\u9879\\u76ee\\u6570\", \"x\": [\"8\", \"9\"], \"y\": [0.0, 0.0], \"type\": \"scatter\", \"uid\": \"74a292dc-c204-11e8-ad45-a81e84e6c740\"}, {\"name\": \"\\u5218\\u6c5f_\\u5ef6\\u671f\\u5b8c\\u6210\", \"x\": [\"8\", \"9\"], \"y\": [1.0, 4.0], \"type\": \"scatter\", \"uid\": \"74a294a8-c204-11e8-ad45-a81e84e6c740\"}, {\"name\": \"\\u5218\\u6c5f_\\u5f00\\u53d1\\u4e2d\\u7684\\u9879\\u76ee\\u6570\", \"x\": [\"8\", \"9\"], \"y\": [5.0, 3.0], \"type\": \"scatter\", \"uid\": \"74a2967e-c204-11e8-ad45-a81e84e6c740\"}, {\"name\": \"\\u5218\\u6c5f_\\u5ef6\\u671f\\u9879\\u76ee\\u6570\", \"x\": [\"8\", \"9\"], \"y\": [0.0, 0.0], \"type\": \"scatter\", \"uid\": \"74a29854-c204-11e8-ad45-a81e84e6c740\"}, {\"name\": \"\\u5218\\u6c5f_\\u6682\\u505c\\u9879\\u76ee\\u6570\", \"x\": [\"8\", \"9\"], \"y\": [0.0, 1.0], \"type\": \"scatter\", \"uid\": \"74a29a2a-c204-11e8-ad45-a81e84e6c740\"}, {\"name\": \"\\u5360\\u4f1f_\\u5b63\\u5ea6\\u5f00\\u53d1\\u9879\\u76ee\\u6570\", \"x\": [\"8\", \"9\"], \"y\": [37.0, null], \"type\": \"scatter\", \"uid\": \"74a29c0a-c204-11e8-ad45-a81e84e6c740\"}, {\"name\": \"\\u5360\\u4f1f_\\u5982\\u671f\\u5b8c\\u6210\\u9879\\u76ee\\u6570\", \"x\": [\"8\", \"9\"], \"y\": [22.0, null], \"type\": \"scatter\", \"uid\": \"74a29de0-c204-11e8-ad45-a81e84e6c740\"}, {\"name\": \"\\u5360\\u4f1f_\\u5ef6\\u671f\\u5b8c\\u6210\", \"x\": [\"8\", \"9\"], \"y\": [3.0, null], \"type\": \"scatter\", \"uid\": \"74a2a0e2-c204-11e8-ad45-a81e84e6c740\"}, {\"name\": \"\\u5360\\u4f1f_\\u5f00\\u53d1\\u4e2d\\u7684\\u9879\\u76ee\\u6570\", \"x\": [\"8\", \"9\"], \"y\": [7.0, null], \"type\": \"scatter\", \"uid\": \"74a2a34e-c204-11e8-ad45-a81e84e6c740\"}, {\"name\": \"\\u5360\\u4f1f_\\u5ef6\\u671f\\u9879\\u76ee\\u6570\", \"x\": [\"8\", \"9\"], \"y\": [6.0, null], \"type\": \"scatter\", \"uid\": \"74a2a524-c204-11e8-ad45-a81e84e6c740\"}, {\"name\": \"\\u5360\\u4f1f_\\u6682\\u505c\\u9879\\u76ee\\u6570\", \"x\": [\"8\", \"9\"], \"y\": [0.0, null], \"type\": \"scatter\", \"uid\": \"74a2a6fa-c204-11e8-ad45-a81e84e6c740\"}, {\"name\": \"\\u5468\\u6768_\\u5b63\\u5ea6\\u5f00\\u53d1\\u9879\\u76ee\\u6570\", \"x\": [\"8\", \"9\"], \"y\": [64.0, 96.0], \"type\": \"scatter\", \"uid\": \"74a2a8da-c204-11e8-ad45-a81e84e6c740\"}, {\"name\": \"\\u5468\\u6768_\\u5982\\u671f\\u5b8c\\u6210\\u9879\\u76ee\\u6570\", \"x\": [\"8\", \"9\"], \"y\": [56.0, 89.0], \"type\": \"scatter\", \"uid\": \"74a2aaa6-c204-11e8-ad45-a81e84e6c740\"}, {\"name\": \"\\u5468\\u6768_\\u5ef6\\u671f\\u5b8c\\u6210\", \"x\": [\"8\", \"9\"], \"y\": [0.0, 0.0], \"type\": \"scatter\", \"uid\": \"74a2ac7c-c204-11e8-ad45-a81e84e6c740\"}, {\"name\": \"\\u5468\\u6768_\\u5f00\\u53d1\\u4e2d\\u7684\\u9879\\u76ee\\u6570\", \"x\": [\"8\", \"9\"], \"y\": [6.0, 5.0], \"type\": \"scatter\", \"uid\": \"74a2ae52-c204-11e8-ad45-a81e84e6c740\"}, {\"name\": \"\\u5468\\u6768_\\u5ef6\\u671f\\u9879\\u76ee\\u6570\", \"x\": [\"8\", \"9\"], \"y\": [0.0, 0.0], \"type\": \"scatter\", \"uid\": \"74a2b028-c204-11e8-ad45-a81e84e6c740\"}, {\"name\": \"\\u5468\\u6768_\\u6682\\u505c\\u9879\\u76ee\\u6570\", \"x\": [\"8\", \"9\"], \"y\": [2.0, 3.0], \"type\": \"scatter\", \"uid\": \"74a2b1f4-c204-11e8-ad45-a81e84e6c740\"}, {\"name\": \"\\u59da\\u76df\\u6210_\\u5b63\\u5ea6\\u5f00\\u53d1\\u9879\\u76ee\\u6570\", \"x\": [\"8\", \"9\"], \"y\": [18.0, 27.0], \"type\": \"scatter\", \"uid\": \"74a2b3ca-c204-11e8-ad45-a81e84e6c740\"}, {\"name\": \"\\u59da\\u76df\\u6210_\\u5982\\u671f\\u5b8c\\u6210\\u9879\\u76ee\\u6570\", \"x\": [\"8\", \"9\"], \"y\": [6.0, 9.0], \"type\": \"scatter\", \"uid\": \"74a2b5a0-c204-11e8-ad45-a81e84e6c740\"}, {\"name\": \"\\u59da\\u76df\\u6210_\\u5ef6\\u671f\\u5b8c\\u6210\", \"x\": [\"8\", \"9\"], \"y\": [0.0, 0.0], \"type\": \"scatter\", \"uid\": \"74a2b76c-c204-11e8-ad45-a81e84e6c740\"}, {\"name\": \"\\u59da\\u76df\\u6210_\\u5f00\\u53d1\\u4e2d\\u7684\\u9879\\u76ee\\u6570\", \"x\": [\"8\", \"9\"], \"y\": [3.0, 12.0], \"type\": \"scatter\", \"uid\": \"74a2b942-c204-11e8-ad45-a81e84e6c740\"}, {\"name\": \"\\u59da\\u76df\\u6210_\\u5ef6\\u671f\\u9879\\u76ee\\u6570\", \"x\": [\"8\", \"9\"], \"y\": [0.0, 0.0], \"type\": \"scatter\", \"uid\": \"74a2bb18-c204-11e8-ad45-a81e84e6c740\"}, {\"name\": \"\\u59da\\u76df\\u6210_\\u6682\\u505c\\u9879\\u76ee\\u6570\", \"x\": [\"8\", \"9\"], \"y\": [0.0, 12.0], \"type\": \"scatter\", \"uid\": \"74a2bcee-c204-11e8-ad45-a81e84e6c740\"}, {\"name\": \"\\u5b5f\\u660a_\\u5b63\\u5ea6\\u5f00\\u53d1\\u9879\\u76ee\\u6570\", \"x\": [\"8\", \"9\"], \"y\": [86.0, 129.0], \"type\": \"scatter\", \"uid\": \"74a2bece-c204-11e8-ad45-a81e84e6c740\"}, {\"name\": \"\\u5b5f\\u660a_\\u5982\\u671f\\u5b8c\\u6210\\u9879\\u76ee\\u6570\", \"x\": [\"8\", \"9\"], \"y\": [76.0, 116.0], \"type\": \"scatter\", \"uid\": \"74a2c09a-c204-11e8-ad45-a81e84e6c740\"}, {\"name\": \"\\u5b5f\\u660a_\\u5ef6\\u671f\\u5b8c\\u6210\", \"x\": [\"8\", \"9\"], \"y\": [0.0, 0.0], \"type\": \"scatter\", \"uid\": \"74a2c266-c204-11e8-ad45-a81e84e6c740\"}, {\"name\": \"\\u5b5f\\u660a_\\u5f00\\u53d1\\u4e2d\\u7684\\u9879\\u76ee\\u6570\", \"x\": [\"8\", \"9\"], \"y\": [4.0, 6.0], \"type\": \"scatter\", \"uid\": \"74a2c43c-c204-11e8-ad45-a81e84e6c740\"}, {\"name\": \"\\u5b5f\\u660a_\\u5ef6\\u671f\\u9879\\u76ee\\u6570\", \"x\": [\"8\", \"9\"], \"y\": [0.0, 0.0], \"type\": \"scatter\", \"uid\": \"74a2c950-c204-11e8-ad45-a81e84e6c740\"}, {\"name\": \"\\u5b5f\\u660a_\\u6682\\u505c\\u9879\\u76ee\\u6570\", \"x\": [\"8\", \"9\"], \"y\": [6.0, 9.0], \"type\": \"scatter\", \"uid\": \"74a2cd92-c204-11e8-ad45-a81e84e6c740\"}, {\"name\": \"\\u5b8b\\u8fce\\u6960_\\u5b63\\u5ea6\\u5f00\\u53d1\\u9879\\u76ee\\u6570\", \"x\": [\"8\", \"9\"], \"y\": [46.0, null], \"type\": \"scatter\", \"uid\": \"74a2d01c-c204-11e8-ad45-a81e84e6c740\"}, {\"name\": \"\\u5b8b\\u8fce\\u6960_\\u5982\\u671f\\u5b8c\\u6210\\u9879\\u76ee\\u6570\", \"x\": [\"8\", \"9\"], \"y\": [0.0, null], \"type\": \"scatter\", \"uid\": \"74a2d24c-c204-11e8-ad45-a81e84e6c740\"}, {\"name\": \"\\u5b8b\\u8fce\\u6960_\\u5ef6\\u671f\\u5b8c\\u6210\", \"x\": [\"8\", \"9\"], \"y\": [17.0, null], \"type\": \"scatter\", \"uid\": \"74a2d5da-c204-11e8-ad45-a81e84e6c740\"}, {\"name\": \"\\u5b8b\\u8fce\\u6960_\\u5f00\\u53d1\\u4e2d\\u7684\\u9879\\u76ee\\u6570\", \"x\": [\"8\", \"9\"], \"y\": [27.0, null], \"type\": \"scatter\", \"uid\": \"74a2d968-c204-11e8-ad45-a81e84e6c740\"}, {\"name\": \"\\u5b8b\\u8fce\\u6960_\\u5ef6\\u671f\\u9879\\u76ee\\u6570\", \"x\": [\"8\", \"9\"], \"y\": [2.0, null], \"type\": \"scatter\", \"uid\": \"74a2dbde-c204-11e8-ad45-a81e84e6c740\"}, {\"name\": \"\\u5b8b\\u8fce\\u6960_\\u6682\\u505c\\u9879\\u76ee\\u6570\", \"x\": [\"8\", \"9\"], \"y\": [0.0, null], \"type\": \"scatter\", \"uid\": \"74a2de72-c204-11e8-ad45-a81e84e6c740\"}, {\"name\": \"\\u5c01\\u5f66\\u6770_\\u5b63\\u5ea6\\u5f00\\u53d1\\u9879\\u76ee\\u6570\", \"x\": [\"8\", \"9\"], \"y\": [10.0, 15.0], \"type\": \"scatter\", \"uid\": \"74a2e41c-c204-11e8-ad45-a81e84e6c740\"}, {\"name\": \"\\u5c01\\u5f66\\u6770_\\u5982\\u671f\\u5b8c\\u6210\\u9879\\u76ee\\u6570\", \"x\": [\"8\", \"9\"], \"y\": [0.0, 6.0], \"type\": \"scatter\", \"uid\": \"74a2e958-c204-11e8-ad45-a81e84e6c740\"}, {\"name\": \"\\u5c01\\u5f66\\u6770_\\u5ef6\\u671f\\u5b8c\\u6210\", \"x\": [\"8\", \"9\"], \"y\": [0.0, 0.0], \"type\": \"scatter\", \"uid\": \"74a2ed36-c204-11e8-ad45-a81e84e6c740\"}, {\"name\": \"\\u5c01\\u5f66\\u6770_\\u5f00\\u53d1\\u4e2d\\u7684\\u9879\\u76ee\\u6570\", \"x\": [\"8\", \"9\"], \"y\": [8.0, 7.0], \"type\": \"scatter\", \"uid\": \"74a2f04c-c204-11e8-ad45-a81e84e6c740\"}, {\"name\": \"\\u5c01\\u5f66\\u6770_\\u5ef6\\u671f\\u9879\\u76ee\\u6570\", \"x\": [\"8\", \"9\"], \"y\": [0.0, 0.0], \"type\": \"scatter\", \"uid\": \"74a2f2fe-c204-11e8-ad45-a81e84e6c740\"}, {\"name\": \"\\u5c01\\u5f66\\u6770_\\u6682\\u505c\\u9879\\u76ee\\u6570\", \"x\": [\"8\", \"9\"], \"y\": [2.0, 2.0], \"type\": \"scatter\", \"uid\": \"74a2f68c-c204-11e8-ad45-a81e84e6c740\"}, {\"name\": \"\\u5f20\\u5b88\\u4f1f_\\u5b63\\u5ea6\\u5f00\\u53d1\\u9879\\u76ee\\u6570\", \"x\": [\"8\", \"9\"], \"y\": [29.0, null], \"type\": \"scatter\", \"uid\": \"74a2fa56-c204-11e8-ad45-a81e84e6c740\"}, {\"name\": \"\\u5f20\\u5b88\\u4f1f_\\u5982\\u671f\\u5b8c\\u6210\\u9879\\u76ee\\u6570\", \"x\": [\"8\", \"9\"], \"y\": [29.0, null], \"type\": \"scatter\", \"uid\": \"74a2fca4-c204-11e8-ad45-a81e84e6c740\"}, {\"name\": \"\\u5f20\\u5b88\\u4f1f_\\u5ef6\\u671f\\u5b8c\\u6210\", \"x\": [\"8\", \"9\"], \"y\": [0.0, null], \"type\": \"scatter\", \"uid\": \"74a30046-c204-11e8-ad45-a81e84e6c740\"}, {\"name\": \"\\u5f20\\u5b88\\u4f1f_\\u5f00\\u53d1\\u4e2d\\u7684\\u9879\\u76ee\\u6570\", \"x\": [\"8\", \"9\"], \"y\": [4.0, null], \"type\": \"scatter\", \"uid\": \"74a30348-c204-11e8-ad45-a81e84e6c740\"}, {\"name\": \"\\u5f20\\u5b88\\u4f1f_\\u5ef6\\u671f\\u9879\\u76ee\\u6570\", \"x\": [\"8\", \"9\"], \"y\": [0.0, null], \"type\": \"scatter\", \"uid\": \"74a306c2-c204-11e8-ad45-a81e84e6c740\"}, {\"name\": \"\\u5f20\\u5b88\\u4f1f_\\u6682\\u505c\\u9879\\u76ee\\u6570\", \"x\": [\"8\", \"9\"], \"y\": [0.0, null], \"type\": \"scatter\", \"uid\": \"74a308b6-c204-11e8-ad45-a81e84e6c740\"}, {\"name\": \"\\u674e\\u534e\\u4e91_\\u5b63\\u5ea6\\u5f00\\u53d1\\u9879\\u76ee\\u6570\", \"x\": [\"8\", \"9\"], \"y\": [70.0, 117.0], \"type\": \"scatter\", \"uid\": \"74a30bfe-c204-11e8-ad45-a81e84e6c740\"}, {\"name\": \"\\u674e\\u534e\\u4e91_\\u5982\\u671f\\u5b8c\\u6210\\u9879\\u76ee\\u6570\", \"x\": [\"8\", \"9\"], \"y\": [10.0, 32.0], \"type\": \"scatter\", \"uid\": \"74a30e6a-c204-11e8-ad45-a81e84e6c740\"}, {\"name\": \"\\u674e\\u534e\\u4e91_\\u5ef6\\u671f\\u5b8c\\u6210\", \"x\": [\"8\", \"9\"], \"y\": [0.0, 17.0], \"type\": \"scatter\", \"uid\": \"74a31054-c204-11e8-ad45-a81e84e6c740\"}, {\"name\": \"\\u674e\\u534e\\u4e91_\\u5f00\\u53d1\\u4e2d\\u7684\\u9879\\u76ee\\u6570\", \"x\": [\"8\", \"9\"], \"y\": [48.0, 41.0], \"type\": \"scatter\", \"uid\": \"74a312de-c204-11e8-ad45-a81e84e6c740\"}, {\"name\": \"\\u674e\\u534e\\u4e91_\\u5ef6\\u671f\\u9879\\u76ee\\u6570\", \"x\": [\"8\", \"9\"], \"y\": [12.0, 24.0], \"type\": \"scatter\", \"uid\": \"74a3154a-c204-11e8-ad45-a81e84e6c740\"}, {\"name\": \"\\u674e\\u534e\\u4e91_\\u6682\\u505c\\u9879\\u76ee\\u6570\", \"x\": [\"8\", \"9\"], \"y\": [0.0, 3.0], \"type\": \"scatter\", \"uid\": \"74a31720-c204-11e8-ad45-a81e84e6c740\"}, {\"name\": \"\\u674e\\u5e86\\u539f_\\u5b63\\u5ea6\\u5f00\\u53d1\\u9879\\u76ee\\u6570\", \"x\": [\"8\", \"9\"], \"y\": [0.0, 0.0], \"type\": \"scatter\", \"uid\": \"74a318ec-c204-11e8-ad45-a81e84e6c740\"}, {\"name\": \"\\u674e\\u5e86\\u539f_\\u5982\\u671f\\u5b8c\\u6210\\u9879\\u76ee\\u6570\", \"x\": [\"8\", \"9\"], \"y\": [0.0, 0.0], \"type\": \"scatter\", \"uid\": \"74a31ac2-c204-11e8-ad45-a81e84e6c740\"}, {\"name\": \"\\u674e\\u5e86\\u539f_\\u5ef6\\u671f\\u5b8c\\u6210\", \"x\": [\"8\", \"9\"], \"y\": [0.0, 0.0], \"type\": \"scatter\", \"uid\": \"74a31c8e-c204-11e8-ad45-a81e84e6c740\"}, {\"name\": \"\\u674e\\u5e86\\u539f_\\u5f00\\u53d1\\u4e2d\\u7684\\u9879\\u76ee\\u6570\", \"x\": [\"8\", \"9\"], \"y\": [0.0, 0.0], \"type\": \"scatter\", \"uid\": \"74a31e5a-c204-11e8-ad45-a81e84e6c740\"}, {\"name\": \"\\u674e\\u5e86\\u539f_\\u5ef6\\u671f\\u9879\\u76ee\\u6570\", \"x\": [\"8\", \"9\"], \"y\": [0.0, 0.0], \"type\": \"scatter\", \"uid\": \"74a32030-c204-11e8-ad45-a81e84e6c740\"}, {\"name\": \"\\u674e\\u5e86\\u539f_\\u6682\\u505c\\u9879\\u76ee\\u6570\", \"x\": [\"8\", \"9\"], \"y\": [0.0, 0.0], \"type\": \"scatter\", \"uid\": \"74a321fc-c204-11e8-ad45-a81e84e6c740\"}, {\"name\": \"\\u6768\\u4f1f\\u98de_\\u5b63\\u5ea6\\u5f00\\u53d1\\u9879\\u76ee\\u6570\", \"x\": [\"8\", \"9\"], \"y\": [16.0, 24.0], \"type\": \"scatter\", \"uid\": \"74a323d2-c204-11e8-ad45-a81e84e6c740\"}, {\"name\": \"\\u6768\\u4f1f\\u98de_\\u5982\\u671f\\u5b8c\\u6210\\u9879\\u76ee\\u6570\", \"x\": [\"8\", \"9\"], \"y\": [4.0, 12.0], \"type\": \"scatter\", \"uid\": \"74a3259e-c204-11e8-ad45-a81e84e6c740\"}, {\"name\": \"\\u6768\\u4f1f\\u98de_\\u5ef6\\u671f\\u5b8c\\u6210\", \"x\": [\"8\", \"9\"], \"y\": [3.0, 6.0], \"type\": \"scatter\", \"uid\": \"74a3276a-c204-11e8-ad45-a81e84e6c740\"}, {\"name\": \"\\u6768\\u4f1f\\u98de_\\u5f00\\u53d1\\u4e2d\\u7684\\u9879\\u76ee\\u6570\", \"x\": [\"8\", \"9\"], \"y\": [9.0, 6.0], \"type\": \"scatter\", \"uid\": \"74a32936-c204-11e8-ad45-a81e84e6c740\"}, {\"name\": \"\\u6768\\u4f1f\\u98de_\\u5ef6\\u671f\\u9879\\u76ee\\u6570\", \"x\": [\"8\", \"9\"], \"y\": [0.0, 0.0], \"type\": \"scatter\", \"uid\": \"74a32b0c-c204-11e8-ad45-a81e84e6c740\"}, {\"name\": \"\\u6768\\u4f1f\\u98de_\\u6682\\u505c\\u9879\\u76ee\\u6570\", \"x\": [\"8\", \"9\"], \"y\": [0.0, 0.0], \"type\": \"scatter\", \"uid\": \"74a32cd8-c204-11e8-ad45-a81e84e6c740\"}, {\"name\": \"\\u738b\\u5b81_\\u5b63\\u5ea6\\u5f00\\u53d1\\u9879\\u76ee\\u6570\", \"x\": [\"8\", \"9\"], \"y\": [0.0, null], \"type\": \"scatter\", \"uid\": \"74a32ea4-c204-11e8-ad45-a81e84e6c740\"}, {\"name\": \"\\u738b\\u5b81_\\u5982\\u671f\\u5b8c\\u6210\\u9879\\u76ee\\u6570\", \"x\": [\"8\", \"9\"], \"y\": [0.0, null], \"type\": \"scatter\", \"uid\": \"74a33066-c204-11e8-ad45-a81e84e6c740\"}, {\"name\": \"\\u738b\\u5b81_\\u5ef6\\u671f\\u5b8c\\u6210\", \"x\": [\"8\", \"9\"], \"y\": [0.0, null], \"type\": \"scatter\", \"uid\": \"74a3325a-c204-11e8-ad45-a81e84e6c740\"}, {\"name\": \"\\u738b\\u5b81_\\u5f00\\u53d1\\u4e2d\\u7684\\u9879\\u76ee\\u6570\", \"x\": [\"8\", \"9\"], \"y\": [0.0, null], \"type\": \"scatter\", \"uid\": \"74a33426-c204-11e8-ad45-a81e84e6c740\"}, {\"name\": \"\\u738b\\u5b81_\\u5ef6\\u671f\\u9879\\u76ee\\u6570\", \"x\": [\"8\", \"9\"], \"y\": [0.0, null], \"type\": \"scatter\", \"uid\": \"74a335e8-c204-11e8-ad45-a81e84e6c740\"}, {\"name\": \"\\u738b\\u5b81_\\u6682\\u505c\\u9879\\u76ee\\u6570\", \"x\": [\"8\", \"9\"], \"y\": [0.0, null], \"type\": \"scatter\", \"uid\": \"74a33926-c204-11e8-ad45-a81e84e6c740\"}, {\"name\": \"\\u82cf\\u5f66\\u52cb_\\u5b63\\u5ea6\\u5f00\\u53d1\\u9879\\u76ee\\u6570\", \"x\": [\"8\", \"9\"], \"y\": [66.0, 99.0], \"type\": \"scatter\", \"uid\": \"74a33b42-c204-11e8-ad45-a81e84e6c740\"}, {\"name\": \"\\u82cf\\u5f66\\u52cb_\\u5982\\u671f\\u5b8c\\u6210\\u9879\\u76ee\\u6570\", \"x\": [\"8\", \"9\"], \"y\": [41.0, 72.0], \"type\": \"scatter\", \"uid\": \"74a33d22-c204-11e8-ad45-a81e84e6c740\"}, {\"name\": \"\\u82cf\\u5f66\\u52cb_\\u5ef6\\u671f\\u5b8c\\u6210\", \"x\": [\"8\", \"9\"], \"y\": [0.0, 0.0], \"type\": \"scatter\", \"uid\": \"74a33f02-c204-11e8-ad45-a81e84e6c740\"}, {\"name\": \"\\u82cf\\u5f66\\u52cb_\\u5f00\\u53d1\\u4e2d\\u7684\\u9879\\u76ee\\u6570\", \"x\": [\"8\", \"9\"], \"y\": [9.0, 3.0], \"type\": \"scatter\", \"uid\": \"74a34150-c204-11e8-ad45-a81e84e6c740\"}, {\"name\": \"\\u82cf\\u5f66\\u52cb_\\u5ef6\\u671f\\u9879\\u76ee\\u6570\", \"x\": [\"8\", \"9\"], \"y\": [0.0, 0.0], \"type\": \"scatter\", \"uid\": \"74a34326-c204-11e8-ad45-a81e84e6c740\"}, {\"name\": \"\\u82cf\\u5f66\\u52cb_\\u6682\\u505c\\u9879\\u76ee\\u6570\", \"x\": [\"8\", \"9\"], \"y\": [16.0, 24.0], \"type\": \"scatter\", \"uid\": \"74a34524-c204-11e8-ad45-a81e84e6c740\"}, {\"name\": \"\\u8303\\u65ed\\u5b81_\\u5b63\\u5ea6\\u5f00\\u53d1\\u9879\\u76ee\\u6570\", \"x\": [\"8\", \"9\"], \"y\": [43.0, null], \"type\": \"scatter\", \"uid\": \"74a346fa-c204-11e8-ad45-a81e84e6c740\"}, {\"name\": \"\\u8303\\u65ed\\u5b81_\\u5982\\u671f\\u5b8c\\u6210\\u9879\\u76ee\\u6570\", \"x\": [\"8\", \"9\"], \"y\": [39.0, null], \"type\": \"scatter\", \"uid\": \"74a348c6-c204-11e8-ad45-a81e84e6c740\"}, {\"name\": \"\\u8303\\u65ed\\u5b81_\\u5ef6\\u671f\\u5b8c\\u6210\", \"x\": [\"8\", \"9\"], \"y\": [4.0, null], \"type\": \"scatter\", \"uid\": \"74a34a9c-c204-11e8-ad45-a81e84e6c740\"}, {\"name\": \"\\u8303\\u65ed\\u5b81_\\u5f00\\u53d1\\u4e2d\\u7684\\u9879\\u76ee\\u6570\", \"x\": [\"8\", \"9\"], \"y\": [1.0, null], \"type\": \"scatter\", \"uid\": \"74a34c68-c204-11e8-ad45-a81e84e6c740\"}, {\"name\": \"\\u8303\\u65ed\\u5b81_\\u5ef6\\u671f\\u9879\\u76ee\\u6570\", \"x\": [\"8\", \"9\"], \"y\": [0.0, null], \"type\": \"scatter\", \"uid\": \"74a34e34-c204-11e8-ad45-a81e84e6c740\"}, {\"name\": \"\\u8303\\u65ed\\u5b81_\\u6682\\u505c\\u9879\\u76ee\\u6570\", \"x\": [\"8\", \"9\"], \"y\": [0.0, null], \"type\": \"scatter\", \"uid\": \"74a3500a-c204-11e8-ad45-a81e84e6c740\"}, {\"name\": \"\\u8c22\\u5fb7\\u5065_\\u5b63\\u5ea6\\u5f00\\u53d1\\u9879\\u76ee\\u6570\", \"x\": [\"8\", \"9\"], \"y\": [0.0, null], \"type\": \"scatter\", \"uid\": \"74a351e0-c204-11e8-ad45-a81e84e6c740\"}, {\"name\": \"\\u8c22\\u5fb7\\u5065_\\u5982\\u671f\\u5b8c\\u6210\\u9879\\u76ee\\u6570\", \"x\": [\"8\", \"9\"], \"y\": [0.0, null], \"type\": \"scatter\", \"uid\": \"74a353b6-c204-11e8-ad45-a81e84e6c740\"}, {\"name\": \"\\u8c22\\u5fb7\\u5065_\\u5ef6\\u671f\\u5b8c\\u6210\", \"x\": [\"8\", \"9\"], \"y\": [0.0, null], \"type\": \"scatter\", \"uid\": \"74a35578-c204-11e8-ad45-a81e84e6c740\"}, {\"name\": \"\\u8c22\\u5fb7\\u5065_\\u5f00\\u53d1\\u4e2d\\u7684\\u9879\\u76ee\\u6570\", \"x\": [\"8\", \"9\"], \"y\": [0.0, null], \"type\": \"scatter\", \"uid\": \"74a3574e-c204-11e8-ad45-a81e84e6c740\"}, {\"name\": \"\\u8c22\\u5fb7\\u5065_\\u5ef6\\u671f\\u9879\\u76ee\\u6570\", \"x\": [\"8\", \"9\"], \"y\": [0.0, null], \"type\": \"scatter\", \"uid\": \"74a35924-c204-11e8-ad45-a81e84e6c740\"}, {\"name\": \"\\u8c22\\u5fb7\\u5065_\\u6682\\u505c\\u9879\\u76ee\\u6570\", \"x\": [\"8\", \"9\"], \"y\": [0.0, null], \"type\": \"scatter\", \"uid\": \"74a35af0-c204-11e8-ad45-a81e84e6c740\"}, {\"name\": \"\\u8d75\\u73a5_\\u5b63\\u5ea6\\u5f00\\u53d1\\u9879\\u76ee\\u6570\", \"x\": [\"8\", \"9\"], \"y\": [43.0, null], \"type\": \"scatter\", \"uid\": \"74a35cbc-c204-11e8-ad45-a81e84e6c740\"}, {\"name\": \"\\u8d75\\u73a5_\\u5982\\u671f\\u5b8c\\u6210\\u9879\\u76ee\\u6570\", \"x\": [\"8\", \"9\"], \"y\": [41.0, null], \"type\": \"scatter\", \"uid\": \"74a35f64-c204-11e8-ad45-a81e84e6c740\"}, {\"name\": \"\\u8d75\\u73a5_\\u5ef6\\u671f\\u5b8c\\u6210\", \"x\": [\"8\", \"9\"], \"y\": [2.0, null], \"type\": \"scatter\", \"uid\": \"74a361c6-c204-11e8-ad45-a81e84e6c740\"}, {\"name\": \"\\u8d75\\u73a5_\\u5f00\\u53d1\\u4e2d\\u7684\\u9879\\u76ee\\u6570\", \"x\": [\"8\", \"9\"], \"y\": [2.0, null], \"type\": \"scatter\", \"uid\": \"74a36392-c204-11e8-ad45-a81e84e6c740\"}, {\"name\": \"\\u8d75\\u73a5_\\u5ef6\\u671f\\u9879\\u76ee\\u6570\", \"x\": [\"8\", \"9\"], \"y\": [0.0, null], \"type\": \"scatter\", \"uid\": \"74a3655e-c204-11e8-ad45-a81e84e6c740\"}, {\"name\": \"\\u8d75\\u73a5_\\u6682\\u505c\\u9879\\u76ee\\u6570\", \"x\": [\"8\", \"9\"], \"y\": [0.0, null], \"type\": \"scatter\", \"uid\": \"74a36752-c204-11e8-ad45-a81e84e6c740\"}, {\"name\": \"\\u8def\\u6167\\u840d_\\u5b63\\u5ea6\\u5f00\\u53d1\\u9879\\u76ee\\u6570\", \"x\": [\"8\", \"9\"], \"y\": [0.0, 0.0], \"type\": \"scatter\", \"uid\": \"74a36928-c204-11e8-ad45-a81e84e6c740\"}, {\"name\": \"\\u8def\\u6167\\u840d_\\u5982\\u671f\\u5b8c\\u6210\\u9879\\u76ee\\u6570\", \"x\": [\"8\", \"9\"], \"y\": [0.0, 0.0], \"type\": \"scatter\", \"uid\": \"74a36b12-c204-11e8-ad45-a81e84e6c740\"}, {\"name\": \"\\u8def\\u6167\\u840d_\\u5ef6\\u671f\\u5b8c\\u6210\", \"x\": [\"8\", \"9\"], \"y\": [0.0, 0.0], \"type\": \"scatter\", \"uid\": \"74a36cd4-c204-11e8-ad45-a81e84e6c740\"}, {\"name\": \"\\u8def\\u6167\\u840d_\\u5f00\\u53d1\\u4e2d\\u7684\\u9879\\u76ee\\u6570\", \"x\": [\"8\", \"9\"], \"y\": [0.0, 0.0], \"type\": \"scatter\", \"uid\": \"74a36ea0-c204-11e8-ad45-a81e84e6c740\"}, {\"name\": \"\\u8def\\u6167\\u840d_\\u5ef6\\u671f\\u9879\\u76ee\\u6570\", \"x\": [\"8\", \"9\"], \"y\": [0.0, 0.0], \"type\": \"scatter\", \"uid\": \"74a3706c-c204-11e8-ad45-a81e84e6c740\"}, {\"name\": \"\\u8def\\u6167\\u840d_\\u6682\\u505c\\u9879\\u76ee\\u6570\", \"x\": [\"8\", \"9\"], \"y\": [0.0, 2.0], \"type\": \"scatter\", \"uid\": \"74a37242-c204-11e8-ad45-a81e84e6c740\"}, {\"name\": \"\\u97e9\\u5c11\\u6000_\\u5b63\\u5ea6\\u5f00\\u53d1\\u9879\\u76ee\\u6570\", \"x\": [\"8\", \"9\"], \"y\": [14.0, null], \"type\": \"scatter\", \"uid\": \"74a3740e-c204-11e8-ad45-a81e84e6c740\"}, {\"name\": \"\\u97e9\\u5c11\\u6000_\\u5982\\u671f\\u5b8c\\u6210\\u9879\\u76ee\\u6570\", \"x\": [\"8\", \"9\"], \"y\": [10.0, null], \"type\": \"scatter\", \"uid\": \"74a375da-c204-11e8-ad45-a81e84e6c740\"}, {\"name\": \"\\u97e9\\u5c11\\u6000_\\u5ef6\\u671f\\u5b8c\\u6210\", \"x\": [\"8\", \"9\"], \"y\": [0.0, null], \"type\": \"scatter\", \"uid\": \"74a377a6-c204-11e8-ad45-a81e84e6c740\"}, {\"name\": \"\\u97e9\\u5c11\\u6000_\\u5f00\\u53d1\\u4e2d\\u7684\\u9879\\u76ee\\u6570\", \"x\": [\"8\", \"9\"], \"y\": [3.0, null], \"type\": \"scatter\", \"uid\": \"74a3797c-c204-11e8-ad45-a81e84e6c740\"}, {\"name\": \"\\u97e9\\u5c11\\u6000_\\u5ef6\\u671f\\u9879\\u76ee\\u6570\", \"x\": [\"8\", \"9\"], \"y\": [0.0, null], \"type\": \"scatter\", \"uid\": \"74a37b52-c204-11e8-ad45-a81e84e6c740\"}, {\"name\": \"\\u97e9\\u5c11\\u6000_\\u6682\\u505c\\u9879\\u76ee\\u6570\", \"x\": [\"8\", \"9\"], \"y\": [0.0, null], \"type\": \"scatter\", \"uid\": \"74a37ea4-c204-11e8-ad45-a81e84e6c740\"}, {\"name\": \"\\u9a6c\\u6f47_\\u5b63\\u5ea6\\u5f00\\u53d1\\u9879\\u76ee\\u6570\", \"x\": [\"8\", \"9\"], \"y\": [0.0, null], \"type\": \"scatter\", \"uid\": \"74a3808e-c204-11e8-ad45-a81e84e6c740\"}, {\"name\": \"\\u9a6c\\u6f47_\\u5982\\u671f\\u5b8c\\u6210\\u9879\\u76ee\\u6570\", \"x\": [\"8\", \"9\"], \"y\": [0.0, null], \"type\": \"scatter\", \"uid\": \"74a382fa-c204-11e8-ad45-a81e84e6c740\"}, {\"name\": \"\\u9a6c\\u6f47_\\u5ef6\\u671f\\u5b8c\\u6210\", \"x\": [\"8\", \"9\"], \"y\": [0.0, null], \"type\": \"scatter\", \"uid\": \"74a385c0-c204-11e8-ad45-a81e84e6c740\"}, {\"name\": \"\\u9a6c\\u6f47_\\u5f00\\u53d1\\u4e2d\\u7684\\u9879\\u76ee\\u6570\", \"x\": [\"8\", \"9\"], \"y\": [1.0, null], \"type\": \"scatter\", \"uid\": \"74a38796-c204-11e8-ad45-a81e84e6c740\"}, {\"name\": \"\\u9a6c\\u6f47_\\u5ef6\\u671f\\u9879\\u76ee\\u6570\", \"x\": [\"8\", \"9\"], \"y\": [1.0, null], \"type\": \"scatter\", \"uid\": \"74a3896c-c204-11e8-ad45-a81e84e6c740\"}, {\"name\": \"\\u9a6c\\u6f47_\\u6682\\u505c\\u9879\\u76ee\\u6570\", \"x\": [\"8\", \"9\"], \"y\": [0.0, null], \"type\": \"scatter\", \"uid\": \"74a38b38-c204-11e8-ad45-a81e84e6c740\"}],\n",
       "            {\"title\": \"\\u5b63\\u5ea6\\u5f00\\u53d1\\u9879\\u76ee\\u6570&\\u5982\\u671f\\u5b8c\\u6210\\u9879\\u76ee\\u6570&\\u5ef6\\u671f\\u5b8c\\u6210&\\u5f00\\u53d1\\u4e2d\\u7684\\u9879\\u76ee\\u6570&\\u5ef6\\u671f\\u9879\\u76ee\\u6570&\\u6682\\u505c\\u9879\\u76ee\\u6570\\u6708\\u8d8b\\u52bf\\u56fe\", \"xaxis\": {\"mirror\": \"all\", \"nticks\": 20, \"showgrid\": true, \"showline\": true, \"title\": \"\\u6708\", \"zeroline\": true}, \"yaxis\": {\"mirror\": \"all\", \"nticks\": 20, \"showgrid\": true, \"showline\": true, \"title\": \"\\u5b63\\u5ea6\\u5f00\\u53d1\\u9879\\u76ee\\u6570&\\u5982\\u671f\\u5b8c\\u6210\\u9879\\u76ee\\u6570&\\u5ef6\\u671f\\u5b8c\\u6210&\\u5f00\\u53d1\\u4e2d\\u7684\\u9879\\u76ee\\u6570&\\u5ef6\\u671f\\u9879\\u76ee\\u6570&\\u6682\\u505c\\u9879\\u76ee\\u6570\", \"zeroline\": true}},\n",
       "            {\"showLink\": true, \"linkText\": \"Export to plot.ly\"}\n",
       "        ).then(function () {return Plotly.addFrames('5ae03784-41fe-47a1-9e2a-78b4f8909e5e',{});}).then(function(){Plotly.animate('5ae03784-41fe-47a1-9e2a-78b4f8909e5e');})\n",
       "        });</script>"
      ],
      "text/vnd.plotly.v1+html": [
       "<div id=\"5ae03784-41fe-47a1-9e2a-78b4f8909e5e\" style=\"height: 525px; width: 100%;\" class=\"plotly-graph-div\"></div><script type=\"text/javascript\">require([\"plotly\"], function(Plotly) { window.PLOTLYENV=window.PLOTLYENV || {};window.PLOTLYENV.BASE_URL=\"https://plot.ly\";\n",
       "        Plotly.plot(\n",
       "            '5ae03784-41fe-47a1-9e2a-78b4f8909e5e',\n",
       "            [{\"name\": \"\\u4e8e\\u52c7\\u4e00_\\u5b63\\u5ea6\\u5f00\\u53d1\\u9879\\u76ee\\u6570\", \"x\": [\"8\", \"9\"], \"y\": [0.0, 0.0], \"type\": \"scatter\", \"uid\": \"74a25db2-c204-11e8-ad45-a81e84e6c740\"}, {\"name\": \"\\u4e8e\\u52c7\\u4e00_\\u5982\\u671f\\u5b8c\\u6210\\u9879\\u76ee\\u6570\", \"x\": [\"8\", \"9\"], \"y\": [0.0, 0.0], \"type\": \"scatter\", \"uid\": \"74a263e8-c204-11e8-ad45-a81e84e6c740\"}, {\"name\": \"\\u4e8e\\u52c7\\u4e00_\\u5ef6\\u671f\\u5b8c\\u6210\", \"x\": [\"8\", \"9\"], \"y\": [0.0, 0.0], \"type\": \"scatter\", \"uid\": \"74a26636-c204-11e8-ad45-a81e84e6c740\"}, {\"name\": \"\\u4e8e\\u52c7\\u4e00_\\u5f00\\u53d1\\u4e2d\\u7684\\u9879\\u76ee\\u6570\", \"x\": [\"8\", \"9\"], \"y\": [0.0, 0.0], \"type\": \"scatter\", \"uid\": \"74a26848-c204-11e8-ad45-a81e84e6c740\"}, {\"name\": \"\\u4e8e\\u52c7\\u4e00_\\u5ef6\\u671f\\u9879\\u76ee\\u6570\", \"x\": [\"8\", \"9\"], \"y\": [0.0, 0.0], \"type\": \"scatter\", \"uid\": \"74a26a3c-c204-11e8-ad45-a81e84e6c740\"}, {\"name\": \"\\u4e8e\\u52c7\\u4e00_\\u6682\\u505c\\u9879\\u76ee\\u6570\", \"x\": [\"8\", \"9\"], \"y\": [0.0, 0.0], \"type\": \"scatter\", \"uid\": \"74a26c26-c204-11e8-ad45-a81e84e6c740\"}, {\"name\": \"\\u4e8e\\u6167_\\u5b63\\u5ea6\\u5f00\\u53d1\\u9879\\u76ee\\u6570\", \"x\": [\"8\", \"9\"], \"y\": [72.0, 110.0], \"type\": \"scatter\", \"uid\": \"74a26e06-c204-11e8-ad45-a81e84e6c740\"}, {\"name\": \"\\u4e8e\\u6167_\\u5982\\u671f\\u5b8c\\u6210\\u9879\\u76ee\\u6570\", \"x\": [\"8\", \"9\"], \"y\": [65.0, 104.0], \"type\": \"scatter\", \"uid\": \"74a26fdc-c204-11e8-ad45-a81e84e6c740\"}, {\"name\": \"\\u4e8e\\u6167_\\u5ef6\\u671f\\u5b8c\\u6210\", \"x\": [\"8\", \"9\"], \"y\": [0.0, 0.0], \"type\": \"scatter\", \"uid\": \"74a271b2-c204-11e8-ad45-a81e84e6c740\"}, {\"name\": \"\\u4e8e\\u6167_\\u5f00\\u53d1\\u4e2d\\u7684\\u9879\\u76ee\\u6570\", \"x\": [\"8\", \"9\"], \"y\": [7.0, 6.0], \"type\": \"scatter\", \"uid\": \"74a27392-c204-11e8-ad45-a81e84e6c740\"}, {\"name\": \"\\u4e8e\\u6167_\\u5ef6\\u671f\\u9879\\u76ee\\u6570\", \"x\": [\"8\", \"9\"], \"y\": [0.0, 0.0], \"type\": \"scatter\", \"uid\": \"74a27568-c204-11e8-ad45-a81e84e6c740\"}, {\"name\": \"\\u4e8e\\u6167_\\u6682\\u505c\\u9879\\u76ee\\u6570\", \"x\": [\"8\", \"9\"], \"y\": [0.0, 0.0], \"type\": \"scatter\", \"uid\": \"74a27752-c204-11e8-ad45-a81e84e6c740\"}, {\"name\": \"\\u4efb\\u96ea_\\u5b63\\u5ea6\\u5f00\\u53d1\\u9879\\u76ee\\u6570\", \"x\": [\"8\", \"9\"], \"y\": [null, 81.0], \"type\": \"scatter\", \"uid\": \"74a27a0e-c204-11e8-ad45-a81e84e6c740\"}, {\"name\": \"\\u4efb\\u96ea_\\u5982\\u671f\\u5b8c\\u6210\\u9879\\u76ee\\u6570\", \"x\": [\"8\", \"9\"], \"y\": [null, 24.0], \"type\": \"scatter\", \"uid\": \"74a27c8e-c204-11e8-ad45-a81e84e6c740\"}, {\"name\": \"\\u4efb\\u96ea_\\u5ef6\\u671f\\u5b8c\\u6210\", \"x\": [\"8\", \"9\"], \"y\": [null, 7.0], \"type\": \"scatter\", \"uid\": \"74a27e6e-c204-11e8-ad45-a81e84e6c740\"}, {\"name\": \"\\u4efb\\u96ea_\\u5f00\\u53d1\\u4e2d\\u7684\\u9879\\u76ee\\u6570\", \"x\": [\"8\", \"9\"], \"y\": [null, 22.0], \"type\": \"scatter\", \"uid\": \"74a2804e-c204-11e8-ad45-a81e84e6c740\"}, {\"name\": \"\\u4efb\\u96ea_\\u5ef6\\u671f\\u9879\\u76ee\\u6570\", \"x\": [\"8\", \"9\"], \"y\": [null, 18.0], \"type\": \"scatter\", \"uid\": \"74a2821a-c204-11e8-ad45-a81e84e6c740\"}, {\"name\": \"\\u4efb\\u96ea_\\u6682\\u505c\\u9879\\u76ee\\u6570\", \"x\": [\"8\", \"9\"], \"y\": [null, 10.0], \"type\": \"scatter\", \"uid\": \"74a283f0-c204-11e8-ad45-a81e84e6c740\"}, {\"name\": \"\\u5218\\u6167\\u73b2_\\u5b63\\u5ea6\\u5f00\\u53d1\\u9879\\u76ee\\u6570\", \"x\": [\"8\", \"9\"], \"y\": [16.0, null], \"type\": \"scatter\", \"uid\": \"74a285c6-c204-11e8-ad45-a81e84e6c740\"}, {\"name\": \"\\u5218\\u6167\\u73b2_\\u5982\\u671f\\u5b8c\\u6210\\u9879\\u76ee\\u6570\", \"x\": [\"8\", \"9\"], \"y\": [6.0, null], \"type\": \"scatter\", \"uid\": \"74a2879c-c204-11e8-ad45-a81e84e6c740\"}, {\"name\": \"\\u5218\\u6167\\u73b2_\\u5ef6\\u671f\\u5b8c\\u6210\", \"x\": [\"8\", \"9\"], \"y\": [2.0, null], \"type\": \"scatter\", \"uid\": \"74a289a4-c204-11e8-ad45-a81e84e6c740\"}, {\"name\": \"\\u5218\\u6167\\u73b2_\\u5f00\\u53d1\\u4e2d\\u7684\\u9879\\u76ee\\u6570\", \"x\": [\"8\", \"9\"], \"y\": [4.0, null], \"type\": \"scatter\", \"uid\": \"74a28b7a-c204-11e8-ad45-a81e84e6c740\"}, {\"name\": \"\\u5218\\u6167\\u73b2_\\u5ef6\\u671f\\u9879\\u76ee\\u6570\", \"x\": [\"8\", \"9\"], \"y\": [0.0, null], \"type\": \"scatter\", \"uid\": \"74a28d5a-c204-11e8-ad45-a81e84e6c740\"}, {\"name\": \"\\u5218\\u6167\\u73b2_\\u6682\\u505c\\u9879\\u76ee\\u6570\", \"x\": [\"8\", \"9\"], \"y\": [4.0, null], \"type\": \"scatter\", \"uid\": \"74a28f30-c204-11e8-ad45-a81e84e6c740\"}, {\"name\": \"\\u5218\\u6c5f_\\u5b63\\u5ea6\\u5f00\\u53d1\\u9879\\u76ee\\u6570\", \"x\": [\"8\", \"9\"], \"y\": [6.0, 6.0], \"type\": \"scatter\", \"uid\": \"74a29106-c204-11e8-ad45-a81e84e6c740\"}, {\"name\": \"\\u5218\\u6c5f_\\u5982\\u671f\\u5b8c\\u6210\\u9879\\u76ee\\u6570\", \"x\": [\"8\", \"9\"], \"y\": [0.0, 0.0], \"type\": \"scatter\", \"uid\": \"74a292dc-c204-11e8-ad45-a81e84e6c740\"}, {\"name\": \"\\u5218\\u6c5f_\\u5ef6\\u671f\\u5b8c\\u6210\", \"x\": [\"8\", \"9\"], \"y\": [1.0, 4.0], \"type\": \"scatter\", \"uid\": \"74a294a8-c204-11e8-ad45-a81e84e6c740\"}, {\"name\": \"\\u5218\\u6c5f_\\u5f00\\u53d1\\u4e2d\\u7684\\u9879\\u76ee\\u6570\", \"x\": [\"8\", \"9\"], \"y\": [5.0, 3.0], \"type\": \"scatter\", \"uid\": \"74a2967e-c204-11e8-ad45-a81e84e6c740\"}, {\"name\": \"\\u5218\\u6c5f_\\u5ef6\\u671f\\u9879\\u76ee\\u6570\", \"x\": [\"8\", \"9\"], \"y\": [0.0, 0.0], \"type\": \"scatter\", \"uid\": \"74a29854-c204-11e8-ad45-a81e84e6c740\"}, {\"name\": \"\\u5218\\u6c5f_\\u6682\\u505c\\u9879\\u76ee\\u6570\", \"x\": [\"8\", \"9\"], \"y\": [0.0, 1.0], \"type\": \"scatter\", \"uid\": \"74a29a2a-c204-11e8-ad45-a81e84e6c740\"}, {\"name\": \"\\u5360\\u4f1f_\\u5b63\\u5ea6\\u5f00\\u53d1\\u9879\\u76ee\\u6570\", \"x\": [\"8\", \"9\"], \"y\": [37.0, null], \"type\": \"scatter\", \"uid\": \"74a29c0a-c204-11e8-ad45-a81e84e6c740\"}, {\"name\": \"\\u5360\\u4f1f_\\u5982\\u671f\\u5b8c\\u6210\\u9879\\u76ee\\u6570\", \"x\": [\"8\", \"9\"], \"y\": [22.0, null], \"type\": \"scatter\", \"uid\": \"74a29de0-c204-11e8-ad45-a81e84e6c740\"}, {\"name\": \"\\u5360\\u4f1f_\\u5ef6\\u671f\\u5b8c\\u6210\", \"x\": [\"8\", \"9\"], \"y\": [3.0, null], \"type\": \"scatter\", \"uid\": \"74a2a0e2-c204-11e8-ad45-a81e84e6c740\"}, {\"name\": \"\\u5360\\u4f1f_\\u5f00\\u53d1\\u4e2d\\u7684\\u9879\\u76ee\\u6570\", \"x\": [\"8\", \"9\"], \"y\": [7.0, null], \"type\": \"scatter\", \"uid\": \"74a2a34e-c204-11e8-ad45-a81e84e6c740\"}, {\"name\": \"\\u5360\\u4f1f_\\u5ef6\\u671f\\u9879\\u76ee\\u6570\", \"x\": [\"8\", \"9\"], \"y\": [6.0, null], \"type\": \"scatter\", \"uid\": \"74a2a524-c204-11e8-ad45-a81e84e6c740\"}, {\"name\": \"\\u5360\\u4f1f_\\u6682\\u505c\\u9879\\u76ee\\u6570\", \"x\": [\"8\", \"9\"], \"y\": [0.0, null], \"type\": \"scatter\", \"uid\": \"74a2a6fa-c204-11e8-ad45-a81e84e6c740\"}, {\"name\": \"\\u5468\\u6768_\\u5b63\\u5ea6\\u5f00\\u53d1\\u9879\\u76ee\\u6570\", \"x\": [\"8\", \"9\"], \"y\": [64.0, 96.0], \"type\": \"scatter\", \"uid\": \"74a2a8da-c204-11e8-ad45-a81e84e6c740\"}, {\"name\": \"\\u5468\\u6768_\\u5982\\u671f\\u5b8c\\u6210\\u9879\\u76ee\\u6570\", \"x\": [\"8\", \"9\"], \"y\": [56.0, 89.0], \"type\": \"scatter\", \"uid\": \"74a2aaa6-c204-11e8-ad45-a81e84e6c740\"}, {\"name\": \"\\u5468\\u6768_\\u5ef6\\u671f\\u5b8c\\u6210\", \"x\": [\"8\", \"9\"], \"y\": [0.0, 0.0], \"type\": \"scatter\", \"uid\": \"74a2ac7c-c204-11e8-ad45-a81e84e6c740\"}, {\"name\": \"\\u5468\\u6768_\\u5f00\\u53d1\\u4e2d\\u7684\\u9879\\u76ee\\u6570\", \"x\": [\"8\", \"9\"], \"y\": [6.0, 5.0], \"type\": \"scatter\", \"uid\": \"74a2ae52-c204-11e8-ad45-a81e84e6c740\"}, {\"name\": \"\\u5468\\u6768_\\u5ef6\\u671f\\u9879\\u76ee\\u6570\", \"x\": [\"8\", \"9\"], \"y\": [0.0, 0.0], \"type\": \"scatter\", \"uid\": \"74a2b028-c204-11e8-ad45-a81e84e6c740\"}, {\"name\": \"\\u5468\\u6768_\\u6682\\u505c\\u9879\\u76ee\\u6570\", \"x\": [\"8\", \"9\"], \"y\": [2.0, 3.0], \"type\": \"scatter\", \"uid\": \"74a2b1f4-c204-11e8-ad45-a81e84e6c740\"}, {\"name\": \"\\u59da\\u76df\\u6210_\\u5b63\\u5ea6\\u5f00\\u53d1\\u9879\\u76ee\\u6570\", \"x\": [\"8\", \"9\"], \"y\": [18.0, 27.0], \"type\": \"scatter\", \"uid\": \"74a2b3ca-c204-11e8-ad45-a81e84e6c740\"}, {\"name\": \"\\u59da\\u76df\\u6210_\\u5982\\u671f\\u5b8c\\u6210\\u9879\\u76ee\\u6570\", \"x\": [\"8\", \"9\"], \"y\": [6.0, 9.0], \"type\": \"scatter\", \"uid\": \"74a2b5a0-c204-11e8-ad45-a81e84e6c740\"}, {\"name\": \"\\u59da\\u76df\\u6210_\\u5ef6\\u671f\\u5b8c\\u6210\", \"x\": [\"8\", \"9\"], \"y\": [0.0, 0.0], \"type\": \"scatter\", \"uid\": \"74a2b76c-c204-11e8-ad45-a81e84e6c740\"}, {\"name\": \"\\u59da\\u76df\\u6210_\\u5f00\\u53d1\\u4e2d\\u7684\\u9879\\u76ee\\u6570\", \"x\": [\"8\", \"9\"], \"y\": [3.0, 12.0], \"type\": \"scatter\", \"uid\": \"74a2b942-c204-11e8-ad45-a81e84e6c740\"}, {\"name\": \"\\u59da\\u76df\\u6210_\\u5ef6\\u671f\\u9879\\u76ee\\u6570\", \"x\": [\"8\", \"9\"], \"y\": [0.0, 0.0], \"type\": \"scatter\", \"uid\": \"74a2bb18-c204-11e8-ad45-a81e84e6c740\"}, {\"name\": \"\\u59da\\u76df\\u6210_\\u6682\\u505c\\u9879\\u76ee\\u6570\", \"x\": [\"8\", \"9\"], \"y\": [0.0, 12.0], \"type\": \"scatter\", \"uid\": \"74a2bcee-c204-11e8-ad45-a81e84e6c740\"}, {\"name\": \"\\u5b5f\\u660a_\\u5b63\\u5ea6\\u5f00\\u53d1\\u9879\\u76ee\\u6570\", \"x\": [\"8\", \"9\"], \"y\": [86.0, 129.0], \"type\": \"scatter\", \"uid\": \"74a2bece-c204-11e8-ad45-a81e84e6c740\"}, {\"name\": \"\\u5b5f\\u660a_\\u5982\\u671f\\u5b8c\\u6210\\u9879\\u76ee\\u6570\", \"x\": [\"8\", \"9\"], \"y\": [76.0, 116.0], \"type\": \"scatter\", \"uid\": \"74a2c09a-c204-11e8-ad45-a81e84e6c740\"}, {\"name\": \"\\u5b5f\\u660a_\\u5ef6\\u671f\\u5b8c\\u6210\", \"x\": [\"8\", \"9\"], \"y\": [0.0, 0.0], \"type\": \"scatter\", \"uid\": \"74a2c266-c204-11e8-ad45-a81e84e6c740\"}, {\"name\": \"\\u5b5f\\u660a_\\u5f00\\u53d1\\u4e2d\\u7684\\u9879\\u76ee\\u6570\", \"x\": [\"8\", \"9\"], \"y\": [4.0, 6.0], \"type\": \"scatter\", \"uid\": \"74a2c43c-c204-11e8-ad45-a81e84e6c740\"}, {\"name\": \"\\u5b5f\\u660a_\\u5ef6\\u671f\\u9879\\u76ee\\u6570\", \"x\": [\"8\", \"9\"], \"y\": [0.0, 0.0], \"type\": \"scatter\", \"uid\": \"74a2c950-c204-11e8-ad45-a81e84e6c740\"}, {\"name\": \"\\u5b5f\\u660a_\\u6682\\u505c\\u9879\\u76ee\\u6570\", \"x\": [\"8\", \"9\"], \"y\": [6.0, 9.0], \"type\": \"scatter\", \"uid\": \"74a2cd92-c204-11e8-ad45-a81e84e6c740\"}, {\"name\": \"\\u5b8b\\u8fce\\u6960_\\u5b63\\u5ea6\\u5f00\\u53d1\\u9879\\u76ee\\u6570\", \"x\": [\"8\", \"9\"], \"y\": [46.0, null], \"type\": \"scatter\", \"uid\": \"74a2d01c-c204-11e8-ad45-a81e84e6c740\"}, {\"name\": \"\\u5b8b\\u8fce\\u6960_\\u5982\\u671f\\u5b8c\\u6210\\u9879\\u76ee\\u6570\", \"x\": [\"8\", \"9\"], \"y\": [0.0, null], \"type\": \"scatter\", \"uid\": \"74a2d24c-c204-11e8-ad45-a81e84e6c740\"}, {\"name\": \"\\u5b8b\\u8fce\\u6960_\\u5ef6\\u671f\\u5b8c\\u6210\", \"x\": [\"8\", \"9\"], \"y\": [17.0, null], \"type\": \"scatter\", \"uid\": \"74a2d5da-c204-11e8-ad45-a81e84e6c740\"}, {\"name\": \"\\u5b8b\\u8fce\\u6960_\\u5f00\\u53d1\\u4e2d\\u7684\\u9879\\u76ee\\u6570\", \"x\": [\"8\", \"9\"], \"y\": [27.0, null], \"type\": \"scatter\", \"uid\": \"74a2d968-c204-11e8-ad45-a81e84e6c740\"}, {\"name\": \"\\u5b8b\\u8fce\\u6960_\\u5ef6\\u671f\\u9879\\u76ee\\u6570\", \"x\": [\"8\", \"9\"], \"y\": [2.0, null], \"type\": \"scatter\", \"uid\": \"74a2dbde-c204-11e8-ad45-a81e84e6c740\"}, {\"name\": \"\\u5b8b\\u8fce\\u6960_\\u6682\\u505c\\u9879\\u76ee\\u6570\", \"x\": [\"8\", \"9\"], \"y\": [0.0, null], \"type\": \"scatter\", \"uid\": \"74a2de72-c204-11e8-ad45-a81e84e6c740\"}, {\"name\": \"\\u5c01\\u5f66\\u6770_\\u5b63\\u5ea6\\u5f00\\u53d1\\u9879\\u76ee\\u6570\", \"x\": [\"8\", \"9\"], \"y\": [10.0, 15.0], \"type\": \"scatter\", \"uid\": \"74a2e41c-c204-11e8-ad45-a81e84e6c740\"}, {\"name\": \"\\u5c01\\u5f66\\u6770_\\u5982\\u671f\\u5b8c\\u6210\\u9879\\u76ee\\u6570\", \"x\": [\"8\", \"9\"], \"y\": [0.0, 6.0], \"type\": \"scatter\", \"uid\": \"74a2e958-c204-11e8-ad45-a81e84e6c740\"}, {\"name\": \"\\u5c01\\u5f66\\u6770_\\u5ef6\\u671f\\u5b8c\\u6210\", \"x\": [\"8\", \"9\"], \"y\": [0.0, 0.0], \"type\": \"scatter\", \"uid\": \"74a2ed36-c204-11e8-ad45-a81e84e6c740\"}, {\"name\": \"\\u5c01\\u5f66\\u6770_\\u5f00\\u53d1\\u4e2d\\u7684\\u9879\\u76ee\\u6570\", \"x\": [\"8\", \"9\"], \"y\": [8.0, 7.0], \"type\": \"scatter\", \"uid\": \"74a2f04c-c204-11e8-ad45-a81e84e6c740\"}, {\"name\": \"\\u5c01\\u5f66\\u6770_\\u5ef6\\u671f\\u9879\\u76ee\\u6570\", \"x\": [\"8\", \"9\"], \"y\": [0.0, 0.0], \"type\": \"scatter\", \"uid\": \"74a2f2fe-c204-11e8-ad45-a81e84e6c740\"}, {\"name\": \"\\u5c01\\u5f66\\u6770_\\u6682\\u505c\\u9879\\u76ee\\u6570\", \"x\": [\"8\", \"9\"], \"y\": [2.0, 2.0], \"type\": \"scatter\", \"uid\": \"74a2f68c-c204-11e8-ad45-a81e84e6c740\"}, {\"name\": \"\\u5f20\\u5b88\\u4f1f_\\u5b63\\u5ea6\\u5f00\\u53d1\\u9879\\u76ee\\u6570\", \"x\": [\"8\", \"9\"], \"y\": [29.0, null], \"type\": \"scatter\", \"uid\": \"74a2fa56-c204-11e8-ad45-a81e84e6c740\"}, {\"name\": \"\\u5f20\\u5b88\\u4f1f_\\u5982\\u671f\\u5b8c\\u6210\\u9879\\u76ee\\u6570\", \"x\": [\"8\", \"9\"], \"y\": [29.0, null], \"type\": \"scatter\", \"uid\": \"74a2fca4-c204-11e8-ad45-a81e84e6c740\"}, {\"name\": \"\\u5f20\\u5b88\\u4f1f_\\u5ef6\\u671f\\u5b8c\\u6210\", \"x\": [\"8\", \"9\"], \"y\": [0.0, null], \"type\": \"scatter\", \"uid\": \"74a30046-c204-11e8-ad45-a81e84e6c740\"}, {\"name\": \"\\u5f20\\u5b88\\u4f1f_\\u5f00\\u53d1\\u4e2d\\u7684\\u9879\\u76ee\\u6570\", \"x\": [\"8\", \"9\"], \"y\": [4.0, null], \"type\": \"scatter\", \"uid\": \"74a30348-c204-11e8-ad45-a81e84e6c740\"}, {\"name\": \"\\u5f20\\u5b88\\u4f1f_\\u5ef6\\u671f\\u9879\\u76ee\\u6570\", \"x\": [\"8\", \"9\"], \"y\": [0.0, null], \"type\": \"scatter\", \"uid\": \"74a306c2-c204-11e8-ad45-a81e84e6c740\"}, {\"name\": \"\\u5f20\\u5b88\\u4f1f_\\u6682\\u505c\\u9879\\u76ee\\u6570\", \"x\": [\"8\", \"9\"], \"y\": [0.0, null], \"type\": \"scatter\", \"uid\": \"74a308b6-c204-11e8-ad45-a81e84e6c740\"}, {\"name\": \"\\u674e\\u534e\\u4e91_\\u5b63\\u5ea6\\u5f00\\u53d1\\u9879\\u76ee\\u6570\", \"x\": [\"8\", \"9\"], \"y\": [70.0, 117.0], \"type\": \"scatter\", \"uid\": \"74a30bfe-c204-11e8-ad45-a81e84e6c740\"}, {\"name\": \"\\u674e\\u534e\\u4e91_\\u5982\\u671f\\u5b8c\\u6210\\u9879\\u76ee\\u6570\", \"x\": [\"8\", \"9\"], \"y\": [10.0, 32.0], \"type\": \"scatter\", \"uid\": \"74a30e6a-c204-11e8-ad45-a81e84e6c740\"}, {\"name\": \"\\u674e\\u534e\\u4e91_\\u5ef6\\u671f\\u5b8c\\u6210\", \"x\": [\"8\", \"9\"], \"y\": [0.0, 17.0], \"type\": \"scatter\", \"uid\": \"74a31054-c204-11e8-ad45-a81e84e6c740\"}, {\"name\": \"\\u674e\\u534e\\u4e91_\\u5f00\\u53d1\\u4e2d\\u7684\\u9879\\u76ee\\u6570\", \"x\": [\"8\", \"9\"], \"y\": [48.0, 41.0], \"type\": \"scatter\", \"uid\": \"74a312de-c204-11e8-ad45-a81e84e6c740\"}, {\"name\": \"\\u674e\\u534e\\u4e91_\\u5ef6\\u671f\\u9879\\u76ee\\u6570\", \"x\": [\"8\", \"9\"], \"y\": [12.0, 24.0], \"type\": \"scatter\", \"uid\": \"74a3154a-c204-11e8-ad45-a81e84e6c740\"}, {\"name\": \"\\u674e\\u534e\\u4e91_\\u6682\\u505c\\u9879\\u76ee\\u6570\", \"x\": [\"8\", \"9\"], \"y\": [0.0, 3.0], \"type\": \"scatter\", \"uid\": \"74a31720-c204-11e8-ad45-a81e84e6c740\"}, {\"name\": \"\\u674e\\u5e86\\u539f_\\u5b63\\u5ea6\\u5f00\\u53d1\\u9879\\u76ee\\u6570\", \"x\": [\"8\", \"9\"], \"y\": [0.0, 0.0], \"type\": \"scatter\", \"uid\": \"74a318ec-c204-11e8-ad45-a81e84e6c740\"}, {\"name\": \"\\u674e\\u5e86\\u539f_\\u5982\\u671f\\u5b8c\\u6210\\u9879\\u76ee\\u6570\", \"x\": [\"8\", \"9\"], \"y\": [0.0, 0.0], \"type\": \"scatter\", \"uid\": \"74a31ac2-c204-11e8-ad45-a81e84e6c740\"}, {\"name\": \"\\u674e\\u5e86\\u539f_\\u5ef6\\u671f\\u5b8c\\u6210\", \"x\": [\"8\", \"9\"], \"y\": [0.0, 0.0], \"type\": \"scatter\", \"uid\": \"74a31c8e-c204-11e8-ad45-a81e84e6c740\"}, {\"name\": \"\\u674e\\u5e86\\u539f_\\u5f00\\u53d1\\u4e2d\\u7684\\u9879\\u76ee\\u6570\", \"x\": [\"8\", \"9\"], \"y\": [0.0, 0.0], \"type\": \"scatter\", \"uid\": \"74a31e5a-c204-11e8-ad45-a81e84e6c740\"}, {\"name\": \"\\u674e\\u5e86\\u539f_\\u5ef6\\u671f\\u9879\\u76ee\\u6570\", \"x\": [\"8\", \"9\"], \"y\": [0.0, 0.0], \"type\": \"scatter\", \"uid\": \"74a32030-c204-11e8-ad45-a81e84e6c740\"}, {\"name\": \"\\u674e\\u5e86\\u539f_\\u6682\\u505c\\u9879\\u76ee\\u6570\", \"x\": [\"8\", \"9\"], \"y\": [0.0, 0.0], \"type\": \"scatter\", \"uid\": \"74a321fc-c204-11e8-ad45-a81e84e6c740\"}, {\"name\": \"\\u6768\\u4f1f\\u98de_\\u5b63\\u5ea6\\u5f00\\u53d1\\u9879\\u76ee\\u6570\", \"x\": [\"8\", \"9\"], \"y\": [16.0, 24.0], \"type\": \"scatter\", \"uid\": \"74a323d2-c204-11e8-ad45-a81e84e6c740\"}, {\"name\": \"\\u6768\\u4f1f\\u98de_\\u5982\\u671f\\u5b8c\\u6210\\u9879\\u76ee\\u6570\", \"x\": [\"8\", \"9\"], \"y\": [4.0, 12.0], \"type\": \"scatter\", \"uid\": \"74a3259e-c204-11e8-ad45-a81e84e6c740\"}, {\"name\": \"\\u6768\\u4f1f\\u98de_\\u5ef6\\u671f\\u5b8c\\u6210\", \"x\": [\"8\", \"9\"], \"y\": [3.0, 6.0], \"type\": \"scatter\", \"uid\": \"74a3276a-c204-11e8-ad45-a81e84e6c740\"}, {\"name\": \"\\u6768\\u4f1f\\u98de_\\u5f00\\u53d1\\u4e2d\\u7684\\u9879\\u76ee\\u6570\", \"x\": [\"8\", \"9\"], \"y\": [9.0, 6.0], \"type\": \"scatter\", \"uid\": \"74a32936-c204-11e8-ad45-a81e84e6c740\"}, {\"name\": \"\\u6768\\u4f1f\\u98de_\\u5ef6\\u671f\\u9879\\u76ee\\u6570\", \"x\": [\"8\", \"9\"], \"y\": [0.0, 0.0], \"type\": \"scatter\", \"uid\": \"74a32b0c-c204-11e8-ad45-a81e84e6c740\"}, {\"name\": \"\\u6768\\u4f1f\\u98de_\\u6682\\u505c\\u9879\\u76ee\\u6570\", \"x\": [\"8\", \"9\"], \"y\": [0.0, 0.0], \"type\": \"scatter\", \"uid\": \"74a32cd8-c204-11e8-ad45-a81e84e6c740\"}, {\"name\": \"\\u738b\\u5b81_\\u5b63\\u5ea6\\u5f00\\u53d1\\u9879\\u76ee\\u6570\", \"x\": [\"8\", \"9\"], \"y\": [0.0, null], \"type\": \"scatter\", \"uid\": \"74a32ea4-c204-11e8-ad45-a81e84e6c740\"}, {\"name\": \"\\u738b\\u5b81_\\u5982\\u671f\\u5b8c\\u6210\\u9879\\u76ee\\u6570\", \"x\": [\"8\", \"9\"], \"y\": [0.0, null], \"type\": \"scatter\", \"uid\": \"74a33066-c204-11e8-ad45-a81e84e6c740\"}, {\"name\": \"\\u738b\\u5b81_\\u5ef6\\u671f\\u5b8c\\u6210\", \"x\": [\"8\", \"9\"], \"y\": [0.0, null], \"type\": \"scatter\", \"uid\": \"74a3325a-c204-11e8-ad45-a81e84e6c740\"}, {\"name\": \"\\u738b\\u5b81_\\u5f00\\u53d1\\u4e2d\\u7684\\u9879\\u76ee\\u6570\", \"x\": [\"8\", \"9\"], \"y\": [0.0, null], \"type\": \"scatter\", \"uid\": \"74a33426-c204-11e8-ad45-a81e84e6c740\"}, {\"name\": \"\\u738b\\u5b81_\\u5ef6\\u671f\\u9879\\u76ee\\u6570\", \"x\": [\"8\", \"9\"], \"y\": [0.0, null], \"type\": \"scatter\", \"uid\": \"74a335e8-c204-11e8-ad45-a81e84e6c740\"}, {\"name\": \"\\u738b\\u5b81_\\u6682\\u505c\\u9879\\u76ee\\u6570\", \"x\": [\"8\", \"9\"], \"y\": [0.0, null], \"type\": \"scatter\", \"uid\": \"74a33926-c204-11e8-ad45-a81e84e6c740\"}, {\"name\": \"\\u82cf\\u5f66\\u52cb_\\u5b63\\u5ea6\\u5f00\\u53d1\\u9879\\u76ee\\u6570\", \"x\": [\"8\", \"9\"], \"y\": [66.0, 99.0], \"type\": \"scatter\", \"uid\": \"74a33b42-c204-11e8-ad45-a81e84e6c740\"}, {\"name\": \"\\u82cf\\u5f66\\u52cb_\\u5982\\u671f\\u5b8c\\u6210\\u9879\\u76ee\\u6570\", \"x\": [\"8\", \"9\"], \"y\": [41.0, 72.0], \"type\": \"scatter\", \"uid\": \"74a33d22-c204-11e8-ad45-a81e84e6c740\"}, {\"name\": \"\\u82cf\\u5f66\\u52cb_\\u5ef6\\u671f\\u5b8c\\u6210\", \"x\": [\"8\", \"9\"], \"y\": [0.0, 0.0], \"type\": \"scatter\", \"uid\": \"74a33f02-c204-11e8-ad45-a81e84e6c740\"}, {\"name\": \"\\u82cf\\u5f66\\u52cb_\\u5f00\\u53d1\\u4e2d\\u7684\\u9879\\u76ee\\u6570\", \"x\": [\"8\", \"9\"], \"y\": [9.0, 3.0], \"type\": \"scatter\", \"uid\": \"74a34150-c204-11e8-ad45-a81e84e6c740\"}, {\"name\": \"\\u82cf\\u5f66\\u52cb_\\u5ef6\\u671f\\u9879\\u76ee\\u6570\", \"x\": [\"8\", \"9\"], \"y\": [0.0, 0.0], \"type\": \"scatter\", \"uid\": \"74a34326-c204-11e8-ad45-a81e84e6c740\"}, {\"name\": \"\\u82cf\\u5f66\\u52cb_\\u6682\\u505c\\u9879\\u76ee\\u6570\", \"x\": [\"8\", \"9\"], \"y\": [16.0, 24.0], \"type\": \"scatter\", \"uid\": \"74a34524-c204-11e8-ad45-a81e84e6c740\"}, {\"name\": \"\\u8303\\u65ed\\u5b81_\\u5b63\\u5ea6\\u5f00\\u53d1\\u9879\\u76ee\\u6570\", \"x\": [\"8\", \"9\"], \"y\": [43.0, null], \"type\": \"scatter\", \"uid\": \"74a346fa-c204-11e8-ad45-a81e84e6c740\"}, {\"name\": \"\\u8303\\u65ed\\u5b81_\\u5982\\u671f\\u5b8c\\u6210\\u9879\\u76ee\\u6570\", \"x\": [\"8\", \"9\"], \"y\": [39.0, null], \"type\": \"scatter\", \"uid\": \"74a348c6-c204-11e8-ad45-a81e84e6c740\"}, {\"name\": \"\\u8303\\u65ed\\u5b81_\\u5ef6\\u671f\\u5b8c\\u6210\", \"x\": [\"8\", \"9\"], \"y\": [4.0, null], \"type\": \"scatter\", \"uid\": \"74a34a9c-c204-11e8-ad45-a81e84e6c740\"}, {\"name\": \"\\u8303\\u65ed\\u5b81_\\u5f00\\u53d1\\u4e2d\\u7684\\u9879\\u76ee\\u6570\", \"x\": [\"8\", \"9\"], \"y\": [1.0, null], \"type\": \"scatter\", \"uid\": \"74a34c68-c204-11e8-ad45-a81e84e6c740\"}, {\"name\": \"\\u8303\\u65ed\\u5b81_\\u5ef6\\u671f\\u9879\\u76ee\\u6570\", \"x\": [\"8\", \"9\"], \"y\": [0.0, null], \"type\": \"scatter\", \"uid\": \"74a34e34-c204-11e8-ad45-a81e84e6c740\"}, {\"name\": \"\\u8303\\u65ed\\u5b81_\\u6682\\u505c\\u9879\\u76ee\\u6570\", \"x\": [\"8\", \"9\"], \"y\": [0.0, null], \"type\": \"scatter\", \"uid\": \"74a3500a-c204-11e8-ad45-a81e84e6c740\"}, {\"name\": \"\\u8c22\\u5fb7\\u5065_\\u5b63\\u5ea6\\u5f00\\u53d1\\u9879\\u76ee\\u6570\", \"x\": [\"8\", \"9\"], \"y\": [0.0, null], \"type\": \"scatter\", \"uid\": \"74a351e0-c204-11e8-ad45-a81e84e6c740\"}, {\"name\": \"\\u8c22\\u5fb7\\u5065_\\u5982\\u671f\\u5b8c\\u6210\\u9879\\u76ee\\u6570\", \"x\": [\"8\", \"9\"], \"y\": [0.0, null], \"type\": \"scatter\", \"uid\": \"74a353b6-c204-11e8-ad45-a81e84e6c740\"}, {\"name\": \"\\u8c22\\u5fb7\\u5065_\\u5ef6\\u671f\\u5b8c\\u6210\", \"x\": [\"8\", \"9\"], \"y\": [0.0, null], \"type\": \"scatter\", \"uid\": \"74a35578-c204-11e8-ad45-a81e84e6c740\"}, {\"name\": \"\\u8c22\\u5fb7\\u5065_\\u5f00\\u53d1\\u4e2d\\u7684\\u9879\\u76ee\\u6570\", \"x\": [\"8\", \"9\"], \"y\": [0.0, null], \"type\": \"scatter\", \"uid\": \"74a3574e-c204-11e8-ad45-a81e84e6c740\"}, {\"name\": \"\\u8c22\\u5fb7\\u5065_\\u5ef6\\u671f\\u9879\\u76ee\\u6570\", \"x\": [\"8\", \"9\"], \"y\": [0.0, null], \"type\": \"scatter\", \"uid\": \"74a35924-c204-11e8-ad45-a81e84e6c740\"}, {\"name\": \"\\u8c22\\u5fb7\\u5065_\\u6682\\u505c\\u9879\\u76ee\\u6570\", \"x\": [\"8\", \"9\"], \"y\": [0.0, null], \"type\": \"scatter\", \"uid\": \"74a35af0-c204-11e8-ad45-a81e84e6c740\"}, {\"name\": \"\\u8d75\\u73a5_\\u5b63\\u5ea6\\u5f00\\u53d1\\u9879\\u76ee\\u6570\", \"x\": [\"8\", \"9\"], \"y\": [43.0, null], \"type\": \"scatter\", \"uid\": \"74a35cbc-c204-11e8-ad45-a81e84e6c740\"}, {\"name\": \"\\u8d75\\u73a5_\\u5982\\u671f\\u5b8c\\u6210\\u9879\\u76ee\\u6570\", \"x\": [\"8\", \"9\"], \"y\": [41.0, null], \"type\": \"scatter\", \"uid\": \"74a35f64-c204-11e8-ad45-a81e84e6c740\"}, {\"name\": \"\\u8d75\\u73a5_\\u5ef6\\u671f\\u5b8c\\u6210\", \"x\": [\"8\", \"9\"], \"y\": [2.0, null], \"type\": \"scatter\", \"uid\": \"74a361c6-c204-11e8-ad45-a81e84e6c740\"}, {\"name\": \"\\u8d75\\u73a5_\\u5f00\\u53d1\\u4e2d\\u7684\\u9879\\u76ee\\u6570\", \"x\": [\"8\", \"9\"], \"y\": [2.0, null], \"type\": \"scatter\", \"uid\": \"74a36392-c204-11e8-ad45-a81e84e6c740\"}, {\"name\": \"\\u8d75\\u73a5_\\u5ef6\\u671f\\u9879\\u76ee\\u6570\", \"x\": [\"8\", \"9\"], \"y\": [0.0, null], \"type\": \"scatter\", \"uid\": \"74a3655e-c204-11e8-ad45-a81e84e6c740\"}, {\"name\": \"\\u8d75\\u73a5_\\u6682\\u505c\\u9879\\u76ee\\u6570\", \"x\": [\"8\", \"9\"], \"y\": [0.0, null], \"type\": \"scatter\", \"uid\": \"74a36752-c204-11e8-ad45-a81e84e6c740\"}, {\"name\": \"\\u8def\\u6167\\u840d_\\u5b63\\u5ea6\\u5f00\\u53d1\\u9879\\u76ee\\u6570\", \"x\": [\"8\", \"9\"], \"y\": [0.0, 0.0], \"type\": \"scatter\", \"uid\": \"74a36928-c204-11e8-ad45-a81e84e6c740\"}, {\"name\": \"\\u8def\\u6167\\u840d_\\u5982\\u671f\\u5b8c\\u6210\\u9879\\u76ee\\u6570\", \"x\": [\"8\", \"9\"], \"y\": [0.0, 0.0], \"type\": \"scatter\", \"uid\": \"74a36b12-c204-11e8-ad45-a81e84e6c740\"}, {\"name\": \"\\u8def\\u6167\\u840d_\\u5ef6\\u671f\\u5b8c\\u6210\", \"x\": [\"8\", \"9\"], \"y\": [0.0, 0.0], \"type\": \"scatter\", \"uid\": \"74a36cd4-c204-11e8-ad45-a81e84e6c740\"}, {\"name\": \"\\u8def\\u6167\\u840d_\\u5f00\\u53d1\\u4e2d\\u7684\\u9879\\u76ee\\u6570\", \"x\": [\"8\", \"9\"], \"y\": [0.0, 0.0], \"type\": \"scatter\", \"uid\": \"74a36ea0-c204-11e8-ad45-a81e84e6c740\"}, {\"name\": \"\\u8def\\u6167\\u840d_\\u5ef6\\u671f\\u9879\\u76ee\\u6570\", \"x\": [\"8\", \"9\"], \"y\": [0.0, 0.0], \"type\": \"scatter\", \"uid\": \"74a3706c-c204-11e8-ad45-a81e84e6c740\"}, {\"name\": \"\\u8def\\u6167\\u840d_\\u6682\\u505c\\u9879\\u76ee\\u6570\", \"x\": [\"8\", \"9\"], \"y\": [0.0, 2.0], \"type\": \"scatter\", \"uid\": \"74a37242-c204-11e8-ad45-a81e84e6c740\"}, {\"name\": \"\\u97e9\\u5c11\\u6000_\\u5b63\\u5ea6\\u5f00\\u53d1\\u9879\\u76ee\\u6570\", \"x\": [\"8\", \"9\"], \"y\": [14.0, null], \"type\": \"scatter\", \"uid\": \"74a3740e-c204-11e8-ad45-a81e84e6c740\"}, {\"name\": \"\\u97e9\\u5c11\\u6000_\\u5982\\u671f\\u5b8c\\u6210\\u9879\\u76ee\\u6570\", \"x\": [\"8\", \"9\"], \"y\": [10.0, null], \"type\": \"scatter\", \"uid\": \"74a375da-c204-11e8-ad45-a81e84e6c740\"}, {\"name\": \"\\u97e9\\u5c11\\u6000_\\u5ef6\\u671f\\u5b8c\\u6210\", \"x\": [\"8\", \"9\"], \"y\": [0.0, null], \"type\": \"scatter\", \"uid\": \"74a377a6-c204-11e8-ad45-a81e84e6c740\"}, {\"name\": \"\\u97e9\\u5c11\\u6000_\\u5f00\\u53d1\\u4e2d\\u7684\\u9879\\u76ee\\u6570\", \"x\": [\"8\", \"9\"], \"y\": [3.0, null], \"type\": \"scatter\", \"uid\": \"74a3797c-c204-11e8-ad45-a81e84e6c740\"}, {\"name\": \"\\u97e9\\u5c11\\u6000_\\u5ef6\\u671f\\u9879\\u76ee\\u6570\", \"x\": [\"8\", \"9\"], \"y\": [0.0, null], \"type\": \"scatter\", \"uid\": \"74a37b52-c204-11e8-ad45-a81e84e6c740\"}, {\"name\": \"\\u97e9\\u5c11\\u6000_\\u6682\\u505c\\u9879\\u76ee\\u6570\", \"x\": [\"8\", \"9\"], \"y\": [0.0, null], \"type\": \"scatter\", \"uid\": \"74a37ea4-c204-11e8-ad45-a81e84e6c740\"}, {\"name\": \"\\u9a6c\\u6f47_\\u5b63\\u5ea6\\u5f00\\u53d1\\u9879\\u76ee\\u6570\", \"x\": [\"8\", \"9\"], \"y\": [0.0, null], \"type\": \"scatter\", \"uid\": \"74a3808e-c204-11e8-ad45-a81e84e6c740\"}, {\"name\": \"\\u9a6c\\u6f47_\\u5982\\u671f\\u5b8c\\u6210\\u9879\\u76ee\\u6570\", \"x\": [\"8\", \"9\"], \"y\": [0.0, null], \"type\": \"scatter\", \"uid\": \"74a382fa-c204-11e8-ad45-a81e84e6c740\"}, {\"name\": \"\\u9a6c\\u6f47_\\u5ef6\\u671f\\u5b8c\\u6210\", \"x\": [\"8\", \"9\"], \"y\": [0.0, null], \"type\": \"scatter\", \"uid\": \"74a385c0-c204-11e8-ad45-a81e84e6c740\"}, {\"name\": \"\\u9a6c\\u6f47_\\u5f00\\u53d1\\u4e2d\\u7684\\u9879\\u76ee\\u6570\", \"x\": [\"8\", \"9\"], \"y\": [1.0, null], \"type\": \"scatter\", \"uid\": \"74a38796-c204-11e8-ad45-a81e84e6c740\"}, {\"name\": \"\\u9a6c\\u6f47_\\u5ef6\\u671f\\u9879\\u76ee\\u6570\", \"x\": [\"8\", \"9\"], \"y\": [1.0, null], \"type\": \"scatter\", \"uid\": \"74a3896c-c204-11e8-ad45-a81e84e6c740\"}, {\"name\": \"\\u9a6c\\u6f47_\\u6682\\u505c\\u9879\\u76ee\\u6570\", \"x\": [\"8\", \"9\"], \"y\": [0.0, null], \"type\": \"scatter\", \"uid\": \"74a38b38-c204-11e8-ad45-a81e84e6c740\"}],\n",
       "            {\"title\": \"\\u5b63\\u5ea6\\u5f00\\u53d1\\u9879\\u76ee\\u6570&\\u5982\\u671f\\u5b8c\\u6210\\u9879\\u76ee\\u6570&\\u5ef6\\u671f\\u5b8c\\u6210&\\u5f00\\u53d1\\u4e2d\\u7684\\u9879\\u76ee\\u6570&\\u5ef6\\u671f\\u9879\\u76ee\\u6570&\\u6682\\u505c\\u9879\\u76ee\\u6570\\u6708\\u8d8b\\u52bf\\u56fe\", \"xaxis\": {\"mirror\": \"all\", \"nticks\": 20, \"showgrid\": true, \"showline\": true, \"title\": \"\\u6708\", \"zeroline\": true}, \"yaxis\": {\"mirror\": \"all\", \"nticks\": 20, \"showgrid\": true, \"showline\": true, \"title\": \"\\u5b63\\u5ea6\\u5f00\\u53d1\\u9879\\u76ee\\u6570&\\u5982\\u671f\\u5b8c\\u6210\\u9879\\u76ee\\u6570&\\u5ef6\\u671f\\u5b8c\\u6210&\\u5f00\\u53d1\\u4e2d\\u7684\\u9879\\u76ee\\u6570&\\u5ef6\\u671f\\u9879\\u76ee\\u6570&\\u6682\\u505c\\u9879\\u76ee\\u6570\", \"zeroline\": true}},\n",
       "            {\"showLink\": true, \"linkText\": \"Export to plot.ly\"}\n",
       "        ).then(function () {return Plotly.addFrames('5ae03784-41fe-47a1-9e2a-78b4f8909e5e',{});}).then(function(){Plotly.animate('5ae03784-41fe-47a1-9e2a-78b4f8909e5e');})\n",
       "        });</script>"
      ]
     },
     "metadata": {},
     "output_type": "display_data"
    }
   ],
   "source": [
    "data_dict = {'季度开发项目数': ['季度开发项目数'], '如期完成项目数': ['如期完成项目数'], '延期完成': ['延期完成'],\\\n",
    "             '开发中的项目数': ['开发中的项目数'], '延期项目数': ['延期项目数'], '暂停项目数': ['暂停项目数']}\n",
    "myModule.plot( all_dict, data_dict, '负责人' ,  'line' , all='')"
   ]
  },
  {
   "cell_type": "markdown",
   "metadata": {},
   "source": [
    "### 个人成长指数"
   ]
  },
  {
   "cell_type": "markdown",
   "metadata": {},
   "source": [
    "#### 电话会议次数、软著撰写完成数、专利撰写完成数、外出技术支持数、客户来访接待数和文章数"
   ]
  },
  {
   "cell_type": "code",
   "execution_count": 19,
   "metadata": {},
   "outputs": [
    {
     "data": {
      "application/vnd.plotly.v1+json": {
       "data": [
        {
         "name": "姚盟成_电话会议次数",
         "type": "scatter",
         "uid": "759ad550-c204-11e8-ad45-a81e84e6c740",
         "x": [
          "8-3",
          "8-4",
          "9-1",
          "9-2",
          "9-3"
         ],
         "y": [
          0,
          1,
          1,
          0,
          1
         ]
        },
        {
         "name": "姚盟成_外出技术支持数",
         "type": "scatter",
         "uid": "759ad884-c204-11e8-ad45-a81e84e6c740",
         "x": [
          "8-3",
          "8-4",
          "9-1",
          "9-2",
          "9-3"
         ],
         "y": [
          0,
          0,
          0,
          0,
          0
         ]
        },
        {
         "name": "姚盟成_客户来访接待数",
         "type": "scatter",
         "uid": "759adad2-c204-11e8-ad45-a81e84e6c740",
         "x": [
          "8-3",
          "8-4",
          "9-1",
          "9-2",
          "9-3"
         ],
         "y": [
          0,
          0,
          0,
          0,
          0
         ]
        },
        {
         "name": "刘慧玲_电话会议次数",
         "type": "scatter",
         "uid": "759adcee-c204-11e8-ad45-a81e84e6c740",
         "x": [
          "8-3",
          "8-4",
          "9-1"
         ],
         "y": [
          0,
          0,
          0
         ]
        },
        {
         "name": "刘慧玲_外出技术支持数",
         "type": "scatter",
         "uid": "759adef6-c204-11e8-ad45-a81e84e6c740",
         "x": [
          "8-3",
          "8-4",
          "9-1"
         ],
         "y": [
          0,
          0,
          0
         ]
        },
        {
         "name": "刘慧玲_客户来访接待数",
         "type": "scatter",
         "uid": "759ae0ea-c204-11e8-ad45-a81e84e6c740",
         "x": [
          "8-3",
          "8-4",
          "9-1"
         ],
         "y": [
          0,
          0,
          0
         ]
        },
        {
         "name": "占伟_电话会议次数",
         "type": "scatter",
         "uid": "759ae2d4-c204-11e8-ad45-a81e84e6c740",
         "x": [
          "8-3",
          "8-4",
          "9-1",
          "9-2"
         ],
         "y": [
          0,
          1,
          2,
          1
         ]
        },
        {
         "name": "占伟_外出技术支持数",
         "type": "scatter",
         "uid": "759ae4c8-c204-11e8-ad45-a81e84e6c740",
         "x": [
          "8-3",
          "8-4",
          "9-1",
          "9-2"
         ],
         "y": [
          0,
          0,
          0,
          0
         ]
        },
        {
         "name": "占伟_客户来访接待数",
         "type": "scatter",
         "uid": "759ae6bc-c204-11e8-ad45-a81e84e6c740",
         "x": [
          "8-3",
          "8-4",
          "9-1",
          "9-2"
         ],
         "y": [
          0,
          0,
          0,
          0
         ]
        },
        {
         "name": "王宁_电话会议次数",
         "type": "scatter",
         "uid": "759ae8a6-c204-11e8-ad45-a81e84e6c740",
         "x": [
          "8-3",
          "8-4",
          "9-1"
         ],
         "y": [
          0,
          1,
          0
         ]
        },
        {
         "name": "王宁_外出技术支持数",
         "type": "scatter",
         "uid": "759aea86-c204-11e8-ad45-a81e84e6c740",
         "x": [
          "8-3",
          "8-4",
          "9-1"
         ],
         "y": [
          0,
          0,
          0
         ]
        },
        {
         "name": "王宁_客户来访接待数",
         "type": "scatter",
         "uid": "759aeca2-c204-11e8-ad45-a81e84e6c740",
         "x": [
          "8-3",
          "8-4",
          "9-1"
         ],
         "y": [
          0,
          0,
          0
         ]
        },
        {
         "name": "封彦杰_电话会议次数",
         "type": "scatter",
         "uid": "759aeeb4-c204-11e8-ad45-a81e84e6c740",
         "x": [
          "8-3",
          "8-4",
          "9-1",
          "9-2",
          "9-3"
         ],
         "y": [
          0,
          0,
          0,
          1,
          1
         ]
        },
        {
         "name": "封彦杰_外出技术支持数",
         "type": "scatter",
         "uid": "759af0a8-c204-11e8-ad45-a81e84e6c740",
         "x": [
          "8-3",
          "8-4",
          "9-1",
          "9-2",
          "9-3"
         ],
         "y": [
          0,
          0,
          0,
          0,
          0
         ]
        },
        {
         "name": "封彦杰_客户来访接待数",
         "type": "scatter",
         "uid": "759af292-c204-11e8-ad45-a81e84e6c740",
         "x": [
          "8-3",
          "8-4",
          "9-1",
          "9-2",
          "9-3"
         ],
         "y": [
          0,
          0,
          0,
          0,
          0
         ]
        },
        {
         "name": "路慧萍_电话会议次数",
         "type": "scatter",
         "uid": "759af490-c204-11e8-ad45-a81e84e6c740",
         "x": [
          "8-3",
          "8-4",
          "9-1",
          "9-2",
          "9-3"
         ],
         "y": [
          1,
          0,
          0,
          0,
          0
         ]
        },
        {
         "name": "路慧萍_外出技术支持数",
         "type": "scatter",
         "uid": "759af670-c204-11e8-ad45-a81e84e6c740",
         "x": [
          "8-3",
          "8-4",
          "9-1",
          "9-2",
          "9-3"
         ],
         "y": [
          0,
          0,
          0,
          0,
          0
         ]
        },
        {
         "name": "路慧萍_客户来访接待数",
         "type": "scatter",
         "uid": "759af85a-c204-11e8-ad45-a81e84e6c740",
         "x": [
          "8-3",
          "8-4",
          "9-1",
          "9-2",
          "9-3"
         ],
         "y": [
          1,
          0,
          0,
          0,
          0
         ]
        },
        {
         "name": "宋迎楠_电话会议次数",
         "type": "scatter",
         "uid": "759afa30-c204-11e8-ad45-a81e84e6c740",
         "x": [
          "8-3",
          "8-4",
          "9-1"
         ],
         "y": [
          0,
          0,
          0
         ]
        },
        {
         "name": "宋迎楠_外出技术支持数",
         "type": "scatter",
         "uid": "759afc24-c204-11e8-ad45-a81e84e6c740",
         "x": [
          "8-3",
          "8-4",
          "9-1"
         ],
         "y": [
          0,
          0,
          0
         ]
        },
        {
         "name": "宋迎楠_客户来访接待数",
         "type": "scatter",
         "uid": "759afe04-c204-11e8-ad45-a81e84e6c740",
         "x": [
          "8-3",
          "8-4",
          "9-1"
         ],
         "y": [
          0,
          0,
          0
         ]
        },
        {
         "name": "杨伟飞_电话会议次数",
         "type": "scatter",
         "uid": "759affe4-c204-11e8-ad45-a81e84e6c740",
         "x": [
          "8-3",
          "8-4",
          "9-1",
          "9-2",
          "9-3"
         ],
         "y": [
          0,
          0,
          1,
          1,
          2
         ]
        },
        {
         "name": "杨伟飞_外出技术支持数",
         "type": "scatter",
         "uid": "759b01ce-c204-11e8-ad45-a81e84e6c740",
         "x": [
          "8-3",
          "8-4",
          "9-1",
          "9-2",
          "9-3"
         ],
         "y": [
          0,
          0,
          0,
          0,
          0
         ]
        },
        {
         "name": "杨伟飞_客户来访接待数",
         "type": "scatter",
         "uid": "759b03b8-c204-11e8-ad45-a81e84e6c740",
         "x": [
          "8-3",
          "8-4",
          "9-1",
          "9-2",
          "9-3"
         ],
         "y": [
          0,
          0,
          0,
          0,
          0
         ]
        },
        {
         "name": "马潇_电话会议次数",
         "type": "scatter",
         "uid": "759b0598-c204-11e8-ad45-a81e84e6c740",
         "x": [
          "8-3",
          "8-4",
          "9-1",
          "9-2"
         ],
         "y": [
          0,
          0,
          0,
          0
         ]
        },
        {
         "name": "马潇_外出技术支持数",
         "type": "scatter",
         "uid": "759b0778-c204-11e8-ad45-a81e84e6c740",
         "x": [
          "8-3",
          "8-4",
          "9-1",
          "9-2"
         ],
         "y": [
          0,
          0,
          0,
          0
         ]
        },
        {
         "name": "马潇_客户来访接待数",
         "type": "scatter",
         "uid": "759b096c-c204-11e8-ad45-a81e84e6c740",
         "x": [
          "8-3",
          "8-4",
          "9-1",
          "9-2"
         ],
         "y": [
          0,
          0,
          0,
          0
         ]
        },
        {
         "name": "李庆原_电话会议次数",
         "type": "scatter",
         "uid": "759b0b56-c204-11e8-ad45-a81e84e6c740",
         "x": [
          "8-3",
          "8-4",
          "9-1",
          "9-2",
          "9-3"
         ],
         "y": [
          2,
          0,
          0,
          1,
          1
         ]
        },
        {
         "name": "李庆原_外出技术支持数",
         "type": "scatter",
         "uid": "759b0d40-c204-11e8-ad45-a81e84e6c740",
         "x": [
          "8-3",
          "8-4",
          "9-1",
          "9-2",
          "9-3"
         ],
         "y": [
          0,
          0,
          0,
          0,
          0
         ]
        },
        {
         "name": "李庆原_客户来访接待数",
         "type": "scatter",
         "uid": "759b0f20-c204-11e8-ad45-a81e84e6c740",
         "x": [
          "8-3",
          "8-4",
          "9-1",
          "9-2",
          "9-3"
         ],
         "y": [
          1,
          0,
          0,
          0,
          0
         ]
        },
        {
         "name": "韩少怀_电话会议次数",
         "type": "scatter",
         "uid": "759b110a-c204-11e8-ad45-a81e84e6c740",
         "x": [
          "8-3",
          "8-4",
          "9-1",
          "9-2"
         ],
         "y": [
          0,
          0,
          0,
          0
         ]
        },
        {
         "name": "韩少怀_外出技术支持数",
         "type": "scatter",
         "uid": "759b142a-c204-11e8-ad45-a81e84e6c740",
         "x": [
          "8-3",
          "8-4",
          "9-1",
          "9-2"
         ],
         "y": [
          0,
          0,
          0,
          0
         ]
        },
        {
         "name": "韩少怀_客户来访接待数",
         "type": "scatter",
         "uid": "759b1ace-c204-11e8-ad45-a81e84e6c740",
         "x": [
          "8-3",
          "8-4",
          "9-1",
          "9-2"
         ],
         "y": [
          0,
          0,
          0,
          0
         ]
        },
        {
         "name": "赵玥_电话会议次数",
         "type": "scatter",
         "uid": "759b1e84-c204-11e8-ad45-a81e84e6c740",
         "x": [
          "8-3",
          "8-4",
          "9-1",
          "9-2"
         ],
         "y": [
          2,
          0,
          0,
          2
         ]
        },
        {
         "name": "赵玥_外出技术支持数",
         "type": "scatter",
         "uid": "759b2136-c204-11e8-ad45-a81e84e6c740",
         "x": [
          "8-3",
          "8-4",
          "9-1",
          "9-2"
         ],
         "y": [
          0,
          0,
          0,
          0
         ]
        },
        {
         "name": "赵玥_客户来访接待数",
         "type": "scatter",
         "uid": "759b2348-c204-11e8-ad45-a81e84e6c740",
         "x": [
          "8-3",
          "8-4",
          "9-1",
          "9-2"
         ],
         "y": [
          0,
          0,
          0,
          0
         ]
        },
        {
         "name": "苏彦勋_电话会议次数",
         "type": "scatter",
         "uid": "759b2532-c204-11e8-ad45-a81e84e6c740",
         "x": [
          "8-3",
          "8-4",
          "9-1",
          "9-2",
          "9-3"
         ],
         "y": [
          0,
          0,
          0,
          0,
          0
         ]
        },
        {
         "name": "苏彦勋_外出技术支持数",
         "type": "scatter",
         "uid": "759b271c-c204-11e8-ad45-a81e84e6c740",
         "x": [
          "8-3",
          "8-4",
          "9-1",
          "9-2",
          "9-3"
         ],
         "y": [
          0,
          0,
          0,
          0,
          0
         ]
        },
        {
         "name": "苏彦勋_客户来访接待数",
         "type": "scatter",
         "uid": "759b2906-c204-11e8-ad45-a81e84e6c740",
         "x": [
          "8-3",
          "8-4",
          "9-1",
          "9-2",
          "9-3"
         ],
         "y": [
          0,
          0,
          0,
          0,
          0
         ]
        },
        {
         "name": "张守伟_电话会议次数",
         "type": "scatter",
         "uid": "759b2af0-c204-11e8-ad45-a81e84e6c740",
         "x": [
          "8-3",
          "8-4",
          "9-1",
          "9-2"
         ],
         "y": [
          0,
          0,
          0,
          0
         ]
        },
        {
         "name": "张守伟_外出技术支持数",
         "type": "scatter",
         "uid": "759b2cda-c204-11e8-ad45-a81e84e6c740",
         "x": [
          "8-3",
          "8-4",
          "9-1",
          "9-2"
         ],
         "y": [
          0,
          0,
          0,
          0
         ]
        },
        {
         "name": "张守伟_客户来访接待数",
         "type": "scatter",
         "uid": "759b2ec4-c204-11e8-ad45-a81e84e6c740",
         "x": [
          "8-3",
          "8-4",
          "9-1",
          "9-2"
         ],
         "y": [
          0,
          0,
          0,
          0
         ]
        },
        {
         "name": "周杨_电话会议次数",
         "type": "scatter",
         "uid": "759b30ae-c204-11e8-ad45-a81e84e6c740",
         "x": [
          "8-3",
          "8-4",
          "9-1",
          "9-2",
          "9-3"
         ],
         "y": [
          1,
          0,
          0,
          0,
          0
         ]
        },
        {
         "name": "周杨_外出技术支持数",
         "type": "scatter",
         "uid": "759b328e-c204-11e8-ad45-a81e84e6c740",
         "x": [
          "8-3",
          "8-4",
          "9-1",
          "9-2",
          "9-3"
         ],
         "y": [
          0,
          0,
          0,
          0,
          0
         ]
        },
        {
         "name": "周杨_客户来访接待数",
         "type": "scatter",
         "uid": "759b3478-c204-11e8-ad45-a81e84e6c740",
         "x": [
          "8-3",
          "8-4",
          "9-1",
          "9-2",
          "9-3"
         ],
         "y": [
          0,
          0,
          0,
          0,
          0
         ]
        },
        {
         "name": "范旭宁_电话会议次数",
         "type": "scatter",
         "uid": "759b3658-c204-11e8-ad45-a81e84e6c740",
         "x": [
          "8-3",
          "8-4",
          "9-1",
          "9-2"
         ],
         "y": [
          0,
          0,
          0,
          0
         ]
        },
        {
         "name": "范旭宁_外出技术支持数",
         "type": "scatter",
         "uid": "759b3838-c204-11e8-ad45-a81e84e6c740",
         "x": [
          "8-3",
          "8-4",
          "9-1",
          "9-2"
         ],
         "y": [
          0,
          0,
          0,
          0
         ]
        },
        {
         "name": "范旭宁_客户来访接待数",
         "type": "scatter",
         "uid": "759b3a4a-c204-11e8-ad45-a81e84e6c740",
         "x": [
          "8-3",
          "8-4",
          "9-1",
          "9-2"
         ],
         "y": [
          0,
          0,
          0,
          0
         ]
        },
        {
         "name": "孟昊_电话会议次数",
         "type": "scatter",
         "uid": "759b3c34-c204-11e8-ad45-a81e84e6c740",
         "x": [
          "8-3",
          "8-4",
          "9-1",
          "9-2",
          "9-3"
         ],
         "y": [
          0,
          0,
          0,
          0,
          0
         ]
        },
        {
         "name": "孟昊_外出技术支持数",
         "type": "scatter",
         "uid": "759b3e14-c204-11e8-ad45-a81e84e6c740",
         "x": [
          "8-3",
          "8-4",
          "9-1",
          "9-2",
          "9-3"
         ],
         "y": [
          0,
          0,
          0,
          0,
          0
         ]
        },
        {
         "name": "孟昊_客户来访接待数",
         "type": "scatter",
         "uid": "759b3ffe-c204-11e8-ad45-a81e84e6c740",
         "x": [
          "8-3",
          "8-4",
          "9-1",
          "9-2",
          "9-3"
         ],
         "y": [
          0,
          0,
          0,
          0,
          0
         ]
        },
        {
         "name": "于勇一_电话会议次数",
         "type": "scatter",
         "uid": "759b41de-c204-11e8-ad45-a81e84e6c740",
         "x": [
          "8-3",
          "8-4",
          "9-1",
          "9-2",
          "9-3"
         ],
         "y": [
          0,
          0,
          0,
          0,
          0
         ]
        },
        {
         "name": "于勇一_外出技术支持数",
         "type": "scatter",
         "uid": "759b43be-c204-11e8-ad45-a81e84e6c740",
         "x": [
          "8-3",
          "8-4",
          "9-1",
          "9-2",
          "9-3"
         ],
         "y": [
          0,
          0,
          0,
          0,
          0
         ]
        },
        {
         "name": "于勇一_客户来访接待数",
         "type": "scatter",
         "uid": "759b45a8-c204-11e8-ad45-a81e84e6c740",
         "x": [
          "8-3",
          "8-4",
          "9-1",
          "9-2",
          "9-3"
         ],
         "y": [
          0,
          0,
          0,
          0,
          0
         ]
        },
        {
         "name": "于慧_电话会议次数",
         "type": "scatter",
         "uid": "759b4788-c204-11e8-ad45-a81e84e6c740",
         "x": [
          "8-3",
          "8-4",
          "9-1",
          "9-2",
          "9-3"
         ],
         "y": [
          0,
          0,
          0,
          0,
          0
         ]
        },
        {
         "name": "于慧_外出技术支持数",
         "type": "scatter",
         "uid": "759b4968-c204-11e8-ad45-a81e84e6c740",
         "x": [
          "8-3",
          "8-4",
          "9-1",
          "9-2",
          "9-3"
         ],
         "y": [
          0,
          0,
          0,
          0,
          0
         ]
        },
        {
         "name": "于慧_客户来访接待数",
         "type": "scatter",
         "uid": "759b4b52-c204-11e8-ad45-a81e84e6c740",
         "x": [
          "8-3",
          "8-4",
          "9-1",
          "9-2",
          "9-3"
         ],
         "y": [
          0,
          0,
          0,
          0,
          0
         ]
        },
        {
         "name": "刘江_电话会议次数",
         "type": "scatter",
         "uid": "759b4d3c-c204-11e8-ad45-a81e84e6c740",
         "x": [
          "8-3",
          "8-4",
          "9-1",
          "9-2",
          "9-3"
         ],
         "y": [
          1,
          1,
          1,
          1,
          1
         ]
        },
        {
         "name": "刘江_外出技术支持数",
         "type": "scatter",
         "uid": "759b4f1c-c204-11e8-ad45-a81e84e6c740",
         "x": [
          "8-3",
          "8-4",
          "9-1",
          "9-2",
          "9-3"
         ],
         "y": [
          0,
          0,
          0,
          0,
          0
         ]
        },
        {
         "name": "刘江_客户来访接待数",
         "type": "scatter",
         "uid": "759b50fc-c204-11e8-ad45-a81e84e6c740",
         "x": [
          "8-3",
          "8-4",
          "9-1",
          "9-2",
          "9-3"
         ],
         "y": [
          1,
          0,
          0,
          0,
          0
         ]
        },
        {
         "name": "李华云_电话会议次数",
         "type": "scatter",
         "uid": "759b52e6-c204-11e8-ad45-a81e84e6c740",
         "x": [
          "8-3",
          "8-4",
          "9-1",
          "9-2",
          "9-3"
         ],
         "y": [
          0,
          0,
          0,
          0,
          1
         ]
        },
        {
         "name": "李华云_外出技术支持数",
         "type": "scatter",
         "uid": "759b54d0-c204-11e8-ad45-a81e84e6c740",
         "x": [
          "8-3",
          "8-4",
          "9-1",
          "9-2",
          "9-3"
         ],
         "y": [
          0,
          0,
          0,
          0,
          0
         ]
        },
        {
         "name": "李华云_客户来访接待数",
         "type": "scatter",
         "uid": "759b56b0-c204-11e8-ad45-a81e84e6c740",
         "x": [
          "8-3",
          "8-4",
          "9-1",
          "9-2",
          "9-3"
         ],
         "y": [
          0,
          0,
          0,
          0,
          0
         ]
        },
        {
         "name": "谢德健_电话会议次数",
         "type": "scatter",
         "uid": "759b589a-c204-11e8-ad45-a81e84e6c740",
         "x": [
          "8-3",
          "8-4",
          "9-2",
          "9-3"
         ],
         "y": [
          2,
          1,
          1,
          1
         ]
        },
        {
         "name": "谢德健_外出技术支持数",
         "type": "scatter",
         "uid": "759b5a84-c204-11e8-ad45-a81e84e6c740",
         "x": [
          "8-3",
          "8-4",
          "9-2",
          "9-3"
         ],
         "y": [
          0,
          0,
          0,
          0
         ]
        },
        {
         "name": "谢德健_客户来访接待数",
         "type": "scatter",
         "uid": "759b5c64-c204-11e8-ad45-a81e84e6c740",
         "x": [
          "8-3",
          "8-4",
          "9-2",
          "9-3"
         ],
         "y": [
          0,
          0,
          0,
          0
         ]
        },
        {
         "name": "任雪_电话会议次数",
         "type": "scatter",
         "uid": "759b5e4e-c204-11e8-ad45-a81e84e6c740",
         "x": [
          "8-4",
          "9-1",
          "9-2",
          "9-3"
         ],
         "y": [
          0,
          0,
          0,
          0
         ]
        },
        {
         "name": "任雪_外出技术支持数",
         "type": "scatter",
         "uid": "759b6434-c204-11e8-ad45-a81e84e6c740",
         "x": [
          "8-4",
          "9-1",
          "9-2",
          "9-3"
         ],
         "y": [
          0,
          0,
          0,
          0
         ]
        },
        {
         "name": "任雪_客户来访接待数",
         "type": "scatter",
         "uid": "759b686c-c204-11e8-ad45-a81e84e6c740",
         "x": [
          "8-4",
          "9-1",
          "9-2",
          "9-3"
         ],
         "y": [
          0,
          0,
          0,
          1
         ]
        }
       ],
       "layout": {
        "title": "电话会议次数&外出技术支持数&客户来访接待数周趋势图",
        "xaxis": {
         "mirror": "all",
         "nticks": 20,
         "showgrid": true,
         "showline": true,
         "title": "周",
         "zeroline": true
        },
        "yaxis": {
         "mirror": "all",
         "nticks": 20,
         "showgrid": true,
         "showline": true,
         "title": "电话会议次数&外出技术支持数&客户来访接待数",
         "zeroline": true
        }
       }
      },
      "text/html": [
       "<div id=\"1c1c8c72-f649-41ce-992e-3d4a0c6490e7\" style=\"height: 525px; width: 100%;\" class=\"plotly-graph-div\"></div><script type=\"text/javascript\">require([\"plotly\"], function(Plotly) { window.PLOTLYENV=window.PLOTLYENV || {};window.PLOTLYENV.BASE_URL=\"https://plot.ly\";\n",
       "        Plotly.plot(\n",
       "            '1c1c8c72-f649-41ce-992e-3d4a0c6490e7',\n",
       "            [{\"name\": \"\\u59da\\u76df\\u6210_\\u7535\\u8bdd\\u4f1a\\u8bae\\u6b21\\u6570\", \"x\": [\"8-3\", \"8-4\", \"9-1\", \"9-2\", \"9-3\"], \"y\": [0.0, 1.0, 1.0, 0.0, 1.0], \"type\": \"scatter\", \"uid\": \"759ad550-c204-11e8-ad45-a81e84e6c740\"}, {\"name\": \"\\u59da\\u76df\\u6210_\\u5916\\u51fa\\u6280\\u672f\\u652f\\u6301\\u6570\", \"x\": [\"8-3\", \"8-4\", \"9-1\", \"9-2\", \"9-3\"], \"y\": [0.0, 0.0, 0.0, 0.0, 0.0], \"type\": \"scatter\", \"uid\": \"759ad884-c204-11e8-ad45-a81e84e6c740\"}, {\"name\": \"\\u59da\\u76df\\u6210_\\u5ba2\\u6237\\u6765\\u8bbf\\u63a5\\u5f85\\u6570\", \"x\": [\"8-3\", \"8-4\", \"9-1\", \"9-2\", \"9-3\"], \"y\": [0.0, 0.0, 0.0, 0.0, 0.0], \"type\": \"scatter\", \"uid\": \"759adad2-c204-11e8-ad45-a81e84e6c740\"}, {\"name\": \"\\u5218\\u6167\\u73b2_\\u7535\\u8bdd\\u4f1a\\u8bae\\u6b21\\u6570\", \"x\": [\"8-3\", \"8-4\", \"9-1\"], \"y\": [0.0, 0.0, 0.0], \"type\": \"scatter\", \"uid\": \"759adcee-c204-11e8-ad45-a81e84e6c740\"}, {\"name\": \"\\u5218\\u6167\\u73b2_\\u5916\\u51fa\\u6280\\u672f\\u652f\\u6301\\u6570\", \"x\": [\"8-3\", \"8-4\", \"9-1\"], \"y\": [0.0, 0.0, 0.0], \"type\": \"scatter\", \"uid\": \"759adef6-c204-11e8-ad45-a81e84e6c740\"}, {\"name\": \"\\u5218\\u6167\\u73b2_\\u5ba2\\u6237\\u6765\\u8bbf\\u63a5\\u5f85\\u6570\", \"x\": [\"8-3\", \"8-4\", \"9-1\"], \"y\": [0.0, 0.0, 0.0], \"type\": \"scatter\", \"uid\": \"759ae0ea-c204-11e8-ad45-a81e84e6c740\"}, {\"name\": \"\\u5360\\u4f1f_\\u7535\\u8bdd\\u4f1a\\u8bae\\u6b21\\u6570\", \"x\": [\"8-3\", \"8-4\", \"9-1\", \"9-2\"], \"y\": [0.0, 1.0, 2.0, 1.0], \"type\": \"scatter\", \"uid\": \"759ae2d4-c204-11e8-ad45-a81e84e6c740\"}, {\"name\": \"\\u5360\\u4f1f_\\u5916\\u51fa\\u6280\\u672f\\u652f\\u6301\\u6570\", \"x\": [\"8-3\", \"8-4\", \"9-1\", \"9-2\"], \"y\": [0.0, 0.0, 0.0, 0.0], \"type\": \"scatter\", \"uid\": \"759ae4c8-c204-11e8-ad45-a81e84e6c740\"}, {\"name\": \"\\u5360\\u4f1f_\\u5ba2\\u6237\\u6765\\u8bbf\\u63a5\\u5f85\\u6570\", \"x\": [\"8-3\", \"8-4\", \"9-1\", \"9-2\"], \"y\": [0.0, 0.0, 0.0, 0.0], \"type\": \"scatter\", \"uid\": \"759ae6bc-c204-11e8-ad45-a81e84e6c740\"}, {\"name\": \"\\u738b\\u5b81_\\u7535\\u8bdd\\u4f1a\\u8bae\\u6b21\\u6570\", \"x\": [\"8-3\", \"8-4\", \"9-1\"], \"y\": [0.0, 1.0, 0.0], \"type\": \"scatter\", \"uid\": \"759ae8a6-c204-11e8-ad45-a81e84e6c740\"}, {\"name\": \"\\u738b\\u5b81_\\u5916\\u51fa\\u6280\\u672f\\u652f\\u6301\\u6570\", \"x\": [\"8-3\", \"8-4\", \"9-1\"], \"y\": [0.0, 0.0, 0.0], \"type\": \"scatter\", \"uid\": \"759aea86-c204-11e8-ad45-a81e84e6c740\"}, {\"name\": \"\\u738b\\u5b81_\\u5ba2\\u6237\\u6765\\u8bbf\\u63a5\\u5f85\\u6570\", \"x\": [\"8-3\", \"8-4\", \"9-1\"], \"y\": [0.0, 0.0, 0.0], \"type\": \"scatter\", \"uid\": \"759aeca2-c204-11e8-ad45-a81e84e6c740\"}, {\"name\": \"\\u5c01\\u5f66\\u6770_\\u7535\\u8bdd\\u4f1a\\u8bae\\u6b21\\u6570\", \"x\": [\"8-3\", \"8-4\", \"9-1\", \"9-2\", \"9-3\"], \"y\": [0.0, 0.0, 0.0, 1.0, 1.0], \"type\": \"scatter\", \"uid\": \"759aeeb4-c204-11e8-ad45-a81e84e6c740\"}, {\"name\": \"\\u5c01\\u5f66\\u6770_\\u5916\\u51fa\\u6280\\u672f\\u652f\\u6301\\u6570\", \"x\": [\"8-3\", \"8-4\", \"9-1\", \"9-2\", \"9-3\"], \"y\": [0.0, 0.0, 0.0, 0.0, 0.0], \"type\": \"scatter\", \"uid\": \"759af0a8-c204-11e8-ad45-a81e84e6c740\"}, {\"name\": \"\\u5c01\\u5f66\\u6770_\\u5ba2\\u6237\\u6765\\u8bbf\\u63a5\\u5f85\\u6570\", \"x\": [\"8-3\", \"8-4\", \"9-1\", \"9-2\", \"9-3\"], \"y\": [0.0, 0.0, 0.0, 0.0, 0.0], \"type\": \"scatter\", \"uid\": \"759af292-c204-11e8-ad45-a81e84e6c740\"}, {\"name\": \"\\u8def\\u6167\\u840d_\\u7535\\u8bdd\\u4f1a\\u8bae\\u6b21\\u6570\", \"x\": [\"8-3\", \"8-4\", \"9-1\", \"9-2\", \"9-3\"], \"y\": [1.0, 0.0, 0.0, 0.0, 0.0], \"type\": \"scatter\", \"uid\": \"759af490-c204-11e8-ad45-a81e84e6c740\"}, {\"name\": \"\\u8def\\u6167\\u840d_\\u5916\\u51fa\\u6280\\u672f\\u652f\\u6301\\u6570\", \"x\": [\"8-3\", \"8-4\", \"9-1\", \"9-2\", \"9-3\"], \"y\": [0.0, 0.0, 0.0, 0.0, 0.0], \"type\": \"scatter\", \"uid\": \"759af670-c204-11e8-ad45-a81e84e6c740\"}, {\"name\": \"\\u8def\\u6167\\u840d_\\u5ba2\\u6237\\u6765\\u8bbf\\u63a5\\u5f85\\u6570\", \"x\": [\"8-3\", \"8-4\", \"9-1\", \"9-2\", \"9-3\"], \"y\": [1.0, 0.0, 0.0, 0.0, 0.0], \"type\": \"scatter\", \"uid\": \"759af85a-c204-11e8-ad45-a81e84e6c740\"}, {\"name\": \"\\u5b8b\\u8fce\\u6960_\\u7535\\u8bdd\\u4f1a\\u8bae\\u6b21\\u6570\", \"x\": [\"8-3\", \"8-4\", \"9-1\"], \"y\": [0.0, 0.0, 0.0], \"type\": \"scatter\", \"uid\": \"759afa30-c204-11e8-ad45-a81e84e6c740\"}, {\"name\": \"\\u5b8b\\u8fce\\u6960_\\u5916\\u51fa\\u6280\\u672f\\u652f\\u6301\\u6570\", \"x\": [\"8-3\", \"8-4\", \"9-1\"], \"y\": [0.0, 0.0, 0.0], \"type\": \"scatter\", \"uid\": \"759afc24-c204-11e8-ad45-a81e84e6c740\"}, {\"name\": \"\\u5b8b\\u8fce\\u6960_\\u5ba2\\u6237\\u6765\\u8bbf\\u63a5\\u5f85\\u6570\", \"x\": [\"8-3\", \"8-4\", \"9-1\"], \"y\": [0.0, 0.0, 0.0], \"type\": \"scatter\", \"uid\": \"759afe04-c204-11e8-ad45-a81e84e6c740\"}, {\"name\": \"\\u6768\\u4f1f\\u98de_\\u7535\\u8bdd\\u4f1a\\u8bae\\u6b21\\u6570\", \"x\": [\"8-3\", \"8-4\", \"9-1\", \"9-2\", \"9-3\"], \"y\": [0.0, 0.0, 1.0, 1.0, 2.0], \"type\": \"scatter\", \"uid\": \"759affe4-c204-11e8-ad45-a81e84e6c740\"}, {\"name\": \"\\u6768\\u4f1f\\u98de_\\u5916\\u51fa\\u6280\\u672f\\u652f\\u6301\\u6570\", \"x\": [\"8-3\", \"8-4\", \"9-1\", \"9-2\", \"9-3\"], \"y\": [0.0, 0.0, 0.0, 0.0, 0.0], \"type\": \"scatter\", \"uid\": \"759b01ce-c204-11e8-ad45-a81e84e6c740\"}, {\"name\": \"\\u6768\\u4f1f\\u98de_\\u5ba2\\u6237\\u6765\\u8bbf\\u63a5\\u5f85\\u6570\", \"x\": [\"8-3\", \"8-4\", \"9-1\", \"9-2\", \"9-3\"], \"y\": [0.0, 0.0, 0.0, 0.0, 0.0], \"type\": \"scatter\", \"uid\": \"759b03b8-c204-11e8-ad45-a81e84e6c740\"}, {\"name\": \"\\u9a6c\\u6f47_\\u7535\\u8bdd\\u4f1a\\u8bae\\u6b21\\u6570\", \"x\": [\"8-3\", \"8-4\", \"9-1\", \"9-2\"], \"y\": [0.0, 0.0, 0.0, 0.0], \"type\": \"scatter\", \"uid\": \"759b0598-c204-11e8-ad45-a81e84e6c740\"}, {\"name\": \"\\u9a6c\\u6f47_\\u5916\\u51fa\\u6280\\u672f\\u652f\\u6301\\u6570\", \"x\": [\"8-3\", \"8-4\", \"9-1\", \"9-2\"], \"y\": [0.0, 0.0, 0.0, 0.0], \"type\": \"scatter\", \"uid\": \"759b0778-c204-11e8-ad45-a81e84e6c740\"}, {\"name\": \"\\u9a6c\\u6f47_\\u5ba2\\u6237\\u6765\\u8bbf\\u63a5\\u5f85\\u6570\", \"x\": [\"8-3\", \"8-4\", \"9-1\", \"9-2\"], \"y\": [0.0, 0.0, 0.0, 0.0], \"type\": \"scatter\", \"uid\": \"759b096c-c204-11e8-ad45-a81e84e6c740\"}, {\"name\": \"\\u674e\\u5e86\\u539f_\\u7535\\u8bdd\\u4f1a\\u8bae\\u6b21\\u6570\", \"x\": [\"8-3\", \"8-4\", \"9-1\", \"9-2\", \"9-3\"], \"y\": [2.0, 0.0, 0.0, 1.0, 1.0], \"type\": \"scatter\", \"uid\": \"759b0b56-c204-11e8-ad45-a81e84e6c740\"}, {\"name\": \"\\u674e\\u5e86\\u539f_\\u5916\\u51fa\\u6280\\u672f\\u652f\\u6301\\u6570\", \"x\": [\"8-3\", \"8-4\", \"9-1\", \"9-2\", \"9-3\"], \"y\": [0.0, 0.0, 0.0, 0.0, 0.0], \"type\": \"scatter\", \"uid\": \"759b0d40-c204-11e8-ad45-a81e84e6c740\"}, {\"name\": \"\\u674e\\u5e86\\u539f_\\u5ba2\\u6237\\u6765\\u8bbf\\u63a5\\u5f85\\u6570\", \"x\": [\"8-3\", \"8-4\", \"9-1\", \"9-2\", \"9-3\"], \"y\": [1.0, 0.0, 0.0, 0.0, 0.0], \"type\": \"scatter\", \"uid\": \"759b0f20-c204-11e8-ad45-a81e84e6c740\"}, {\"name\": \"\\u97e9\\u5c11\\u6000_\\u7535\\u8bdd\\u4f1a\\u8bae\\u6b21\\u6570\", \"x\": [\"8-3\", \"8-4\", \"9-1\", \"9-2\"], \"y\": [0.0, 0.0, 0.0, 0.0], \"type\": \"scatter\", \"uid\": \"759b110a-c204-11e8-ad45-a81e84e6c740\"}, {\"name\": \"\\u97e9\\u5c11\\u6000_\\u5916\\u51fa\\u6280\\u672f\\u652f\\u6301\\u6570\", \"x\": [\"8-3\", \"8-4\", \"9-1\", \"9-2\"], \"y\": [0.0, 0.0, 0.0, 0.0], \"type\": \"scatter\", \"uid\": \"759b142a-c204-11e8-ad45-a81e84e6c740\"}, {\"name\": \"\\u97e9\\u5c11\\u6000_\\u5ba2\\u6237\\u6765\\u8bbf\\u63a5\\u5f85\\u6570\", \"x\": [\"8-3\", \"8-4\", \"9-1\", \"9-2\"], \"y\": [0.0, 0.0, 0.0, 0.0], \"type\": \"scatter\", \"uid\": \"759b1ace-c204-11e8-ad45-a81e84e6c740\"}, {\"name\": \"\\u8d75\\u73a5_\\u7535\\u8bdd\\u4f1a\\u8bae\\u6b21\\u6570\", \"x\": [\"8-3\", \"8-4\", \"9-1\", \"9-2\"], \"y\": [2.0, 0.0, 0.0, 2.0], \"type\": \"scatter\", \"uid\": \"759b1e84-c204-11e8-ad45-a81e84e6c740\"}, {\"name\": \"\\u8d75\\u73a5_\\u5916\\u51fa\\u6280\\u672f\\u652f\\u6301\\u6570\", \"x\": [\"8-3\", \"8-4\", \"9-1\", \"9-2\"], \"y\": [0.0, 0.0, 0.0, 0.0], \"type\": \"scatter\", \"uid\": \"759b2136-c204-11e8-ad45-a81e84e6c740\"}, {\"name\": \"\\u8d75\\u73a5_\\u5ba2\\u6237\\u6765\\u8bbf\\u63a5\\u5f85\\u6570\", \"x\": [\"8-3\", \"8-4\", \"9-1\", \"9-2\"], \"y\": [0.0, 0.0, 0.0, 0.0], \"type\": \"scatter\", \"uid\": \"759b2348-c204-11e8-ad45-a81e84e6c740\"}, {\"name\": \"\\u82cf\\u5f66\\u52cb_\\u7535\\u8bdd\\u4f1a\\u8bae\\u6b21\\u6570\", \"x\": [\"8-3\", \"8-4\", \"9-1\", \"9-2\", \"9-3\"], \"y\": [0.0, 0.0, 0.0, 0.0, 0.0], \"type\": \"scatter\", \"uid\": \"759b2532-c204-11e8-ad45-a81e84e6c740\"}, {\"name\": \"\\u82cf\\u5f66\\u52cb_\\u5916\\u51fa\\u6280\\u672f\\u652f\\u6301\\u6570\", \"x\": [\"8-3\", \"8-4\", \"9-1\", \"9-2\", \"9-3\"], \"y\": [0.0, 0.0, 0.0, 0.0, 0.0], \"type\": \"scatter\", \"uid\": \"759b271c-c204-11e8-ad45-a81e84e6c740\"}, {\"name\": \"\\u82cf\\u5f66\\u52cb_\\u5ba2\\u6237\\u6765\\u8bbf\\u63a5\\u5f85\\u6570\", \"x\": [\"8-3\", \"8-4\", \"9-1\", \"9-2\", \"9-3\"], \"y\": [0.0, 0.0, 0.0, 0.0, 0.0], \"type\": \"scatter\", \"uid\": \"759b2906-c204-11e8-ad45-a81e84e6c740\"}, {\"name\": \"\\u5f20\\u5b88\\u4f1f_\\u7535\\u8bdd\\u4f1a\\u8bae\\u6b21\\u6570\", \"x\": [\"8-3\", \"8-4\", \"9-1\", \"9-2\"], \"y\": [0.0, 0.0, 0.0, 0.0], \"type\": \"scatter\", \"uid\": \"759b2af0-c204-11e8-ad45-a81e84e6c740\"}, {\"name\": \"\\u5f20\\u5b88\\u4f1f_\\u5916\\u51fa\\u6280\\u672f\\u652f\\u6301\\u6570\", \"x\": [\"8-3\", \"8-4\", \"9-1\", \"9-2\"], \"y\": [0.0, 0.0, 0.0, 0.0], \"type\": \"scatter\", \"uid\": \"759b2cda-c204-11e8-ad45-a81e84e6c740\"}, {\"name\": \"\\u5f20\\u5b88\\u4f1f_\\u5ba2\\u6237\\u6765\\u8bbf\\u63a5\\u5f85\\u6570\", \"x\": [\"8-3\", \"8-4\", \"9-1\", \"9-2\"], \"y\": [0.0, 0.0, 0.0, 0.0], \"type\": \"scatter\", \"uid\": \"759b2ec4-c204-11e8-ad45-a81e84e6c740\"}, {\"name\": \"\\u5468\\u6768_\\u7535\\u8bdd\\u4f1a\\u8bae\\u6b21\\u6570\", \"x\": [\"8-3\", \"8-4\", \"9-1\", \"9-2\", \"9-3\"], \"y\": [1.0, 0.0, 0.0, 0.0, 0.0], \"type\": \"scatter\", \"uid\": \"759b30ae-c204-11e8-ad45-a81e84e6c740\"}, {\"name\": \"\\u5468\\u6768_\\u5916\\u51fa\\u6280\\u672f\\u652f\\u6301\\u6570\", \"x\": [\"8-3\", \"8-4\", \"9-1\", \"9-2\", \"9-3\"], \"y\": [0.0, 0.0, 0.0, 0.0, 0.0], \"type\": \"scatter\", \"uid\": \"759b328e-c204-11e8-ad45-a81e84e6c740\"}, {\"name\": \"\\u5468\\u6768_\\u5ba2\\u6237\\u6765\\u8bbf\\u63a5\\u5f85\\u6570\", \"x\": [\"8-3\", \"8-4\", \"9-1\", \"9-2\", \"9-3\"], \"y\": [0.0, 0.0, 0.0, 0.0, 0.0], \"type\": \"scatter\", \"uid\": \"759b3478-c204-11e8-ad45-a81e84e6c740\"}, {\"name\": \"\\u8303\\u65ed\\u5b81_\\u7535\\u8bdd\\u4f1a\\u8bae\\u6b21\\u6570\", \"x\": [\"8-3\", \"8-4\", \"9-1\", \"9-2\"], \"y\": [0.0, 0.0, 0.0, 0.0], \"type\": \"scatter\", \"uid\": \"759b3658-c204-11e8-ad45-a81e84e6c740\"}, {\"name\": \"\\u8303\\u65ed\\u5b81_\\u5916\\u51fa\\u6280\\u672f\\u652f\\u6301\\u6570\", \"x\": [\"8-3\", \"8-4\", \"9-1\", \"9-2\"], \"y\": [0.0, 0.0, 0.0, 0.0], \"type\": \"scatter\", \"uid\": \"759b3838-c204-11e8-ad45-a81e84e6c740\"}, {\"name\": \"\\u8303\\u65ed\\u5b81_\\u5ba2\\u6237\\u6765\\u8bbf\\u63a5\\u5f85\\u6570\", \"x\": [\"8-3\", \"8-4\", \"9-1\", \"9-2\"], \"y\": [0.0, 0.0, 0.0, 0.0], \"type\": \"scatter\", \"uid\": \"759b3a4a-c204-11e8-ad45-a81e84e6c740\"}, {\"name\": \"\\u5b5f\\u660a_\\u7535\\u8bdd\\u4f1a\\u8bae\\u6b21\\u6570\", \"x\": [\"8-3\", \"8-4\", \"9-1\", \"9-2\", \"9-3\"], \"y\": [0.0, 0.0, 0.0, 0.0, 0.0], \"type\": \"scatter\", \"uid\": \"759b3c34-c204-11e8-ad45-a81e84e6c740\"}, {\"name\": \"\\u5b5f\\u660a_\\u5916\\u51fa\\u6280\\u672f\\u652f\\u6301\\u6570\", \"x\": [\"8-3\", \"8-4\", \"9-1\", \"9-2\", \"9-3\"], \"y\": [0.0, 0.0, 0.0, 0.0, 0.0], \"type\": \"scatter\", \"uid\": \"759b3e14-c204-11e8-ad45-a81e84e6c740\"}, {\"name\": \"\\u5b5f\\u660a_\\u5ba2\\u6237\\u6765\\u8bbf\\u63a5\\u5f85\\u6570\", \"x\": [\"8-3\", \"8-4\", \"9-1\", \"9-2\", \"9-3\"], \"y\": [0.0, 0.0, 0.0, 0.0, 0.0], \"type\": \"scatter\", \"uid\": \"759b3ffe-c204-11e8-ad45-a81e84e6c740\"}, {\"name\": \"\\u4e8e\\u52c7\\u4e00_\\u7535\\u8bdd\\u4f1a\\u8bae\\u6b21\\u6570\", \"x\": [\"8-3\", \"8-4\", \"9-1\", \"9-2\", \"9-3\"], \"y\": [0.0, 0.0, 0.0, 0.0, 0.0], \"type\": \"scatter\", \"uid\": \"759b41de-c204-11e8-ad45-a81e84e6c740\"}, {\"name\": \"\\u4e8e\\u52c7\\u4e00_\\u5916\\u51fa\\u6280\\u672f\\u652f\\u6301\\u6570\", \"x\": [\"8-3\", \"8-4\", \"9-1\", \"9-2\", \"9-3\"], \"y\": [0.0, 0.0, 0.0, 0.0, 0.0], \"type\": \"scatter\", \"uid\": \"759b43be-c204-11e8-ad45-a81e84e6c740\"}, {\"name\": \"\\u4e8e\\u52c7\\u4e00_\\u5ba2\\u6237\\u6765\\u8bbf\\u63a5\\u5f85\\u6570\", \"x\": [\"8-3\", \"8-4\", \"9-1\", \"9-2\", \"9-3\"], \"y\": [0.0, 0.0, 0.0, 0.0, 0.0], \"type\": \"scatter\", \"uid\": \"759b45a8-c204-11e8-ad45-a81e84e6c740\"}, {\"name\": \"\\u4e8e\\u6167_\\u7535\\u8bdd\\u4f1a\\u8bae\\u6b21\\u6570\", \"x\": [\"8-3\", \"8-4\", \"9-1\", \"9-2\", \"9-3\"], \"y\": [0.0, 0.0, 0.0, 0.0, 0.0], \"type\": \"scatter\", \"uid\": \"759b4788-c204-11e8-ad45-a81e84e6c740\"}, {\"name\": \"\\u4e8e\\u6167_\\u5916\\u51fa\\u6280\\u672f\\u652f\\u6301\\u6570\", \"x\": [\"8-3\", \"8-4\", \"9-1\", \"9-2\", \"9-3\"], \"y\": [0.0, 0.0, 0.0, 0.0, 0.0], \"type\": \"scatter\", \"uid\": \"759b4968-c204-11e8-ad45-a81e84e6c740\"}, {\"name\": \"\\u4e8e\\u6167_\\u5ba2\\u6237\\u6765\\u8bbf\\u63a5\\u5f85\\u6570\", \"x\": [\"8-3\", \"8-4\", \"9-1\", \"9-2\", \"9-3\"], \"y\": [0.0, 0.0, 0.0, 0.0, 0.0], \"type\": \"scatter\", \"uid\": \"759b4b52-c204-11e8-ad45-a81e84e6c740\"}, {\"name\": \"\\u5218\\u6c5f_\\u7535\\u8bdd\\u4f1a\\u8bae\\u6b21\\u6570\", \"x\": [\"8-3\", \"8-4\", \"9-1\", \"9-2\", \"9-3\"], \"y\": [1.0, 1.0, 1.0, 1.0, 1.0], \"type\": \"scatter\", \"uid\": \"759b4d3c-c204-11e8-ad45-a81e84e6c740\"}, {\"name\": \"\\u5218\\u6c5f_\\u5916\\u51fa\\u6280\\u672f\\u652f\\u6301\\u6570\", \"x\": [\"8-3\", \"8-4\", \"9-1\", \"9-2\", \"9-3\"], \"y\": [0.0, 0.0, 0.0, 0.0, 0.0], \"type\": \"scatter\", \"uid\": \"759b4f1c-c204-11e8-ad45-a81e84e6c740\"}, {\"name\": \"\\u5218\\u6c5f_\\u5ba2\\u6237\\u6765\\u8bbf\\u63a5\\u5f85\\u6570\", \"x\": [\"8-3\", \"8-4\", \"9-1\", \"9-2\", \"9-3\"], \"y\": [1.0, 0.0, 0.0, 0.0, 0.0], \"type\": \"scatter\", \"uid\": \"759b50fc-c204-11e8-ad45-a81e84e6c740\"}, {\"name\": \"\\u674e\\u534e\\u4e91_\\u7535\\u8bdd\\u4f1a\\u8bae\\u6b21\\u6570\", \"x\": [\"8-3\", \"8-4\", \"9-1\", \"9-2\", \"9-3\"], \"y\": [0.0, 0.0, 0.0, 0.0, 1.0], \"type\": \"scatter\", \"uid\": \"759b52e6-c204-11e8-ad45-a81e84e6c740\"}, {\"name\": \"\\u674e\\u534e\\u4e91_\\u5916\\u51fa\\u6280\\u672f\\u652f\\u6301\\u6570\", \"x\": [\"8-3\", \"8-4\", \"9-1\", \"9-2\", \"9-3\"], \"y\": [0.0, 0.0, 0.0, 0.0, 0.0], \"type\": \"scatter\", \"uid\": \"759b54d0-c204-11e8-ad45-a81e84e6c740\"}, {\"name\": \"\\u674e\\u534e\\u4e91_\\u5ba2\\u6237\\u6765\\u8bbf\\u63a5\\u5f85\\u6570\", \"x\": [\"8-3\", \"8-4\", \"9-1\", \"9-2\", \"9-3\"], \"y\": [0.0, 0.0, 0.0, 0.0, 0.0], \"type\": \"scatter\", \"uid\": \"759b56b0-c204-11e8-ad45-a81e84e6c740\"}, {\"name\": \"\\u8c22\\u5fb7\\u5065_\\u7535\\u8bdd\\u4f1a\\u8bae\\u6b21\\u6570\", \"x\": [\"8-3\", \"8-4\", \"9-2\", \"9-3\"], \"y\": [2.0, 1.0, 1.0, 1.0], \"type\": \"scatter\", \"uid\": \"759b589a-c204-11e8-ad45-a81e84e6c740\"}, {\"name\": \"\\u8c22\\u5fb7\\u5065_\\u5916\\u51fa\\u6280\\u672f\\u652f\\u6301\\u6570\", \"x\": [\"8-3\", \"8-4\", \"9-2\", \"9-3\"], \"y\": [0.0, 0.0, 0.0, 0.0], \"type\": \"scatter\", \"uid\": \"759b5a84-c204-11e8-ad45-a81e84e6c740\"}, {\"name\": \"\\u8c22\\u5fb7\\u5065_\\u5ba2\\u6237\\u6765\\u8bbf\\u63a5\\u5f85\\u6570\", \"x\": [\"8-3\", \"8-4\", \"9-2\", \"9-3\"], \"y\": [0.0, 0.0, 0.0, 0.0], \"type\": \"scatter\", \"uid\": \"759b5c64-c204-11e8-ad45-a81e84e6c740\"}, {\"name\": \"\\u4efb\\u96ea_\\u7535\\u8bdd\\u4f1a\\u8bae\\u6b21\\u6570\", \"x\": [\"8-4\", \"9-1\", \"9-2\", \"9-3\"], \"y\": [0.0, 0.0, 0.0, 0.0], \"type\": \"scatter\", \"uid\": \"759b5e4e-c204-11e8-ad45-a81e84e6c740\"}, {\"name\": \"\\u4efb\\u96ea_\\u5916\\u51fa\\u6280\\u672f\\u652f\\u6301\\u6570\", \"x\": [\"8-4\", \"9-1\", \"9-2\", \"9-3\"], \"y\": [0.0, 0.0, 0.0, 0.0], \"type\": \"scatter\", \"uid\": \"759b6434-c204-11e8-ad45-a81e84e6c740\"}, {\"name\": \"\\u4efb\\u96ea_\\u5ba2\\u6237\\u6765\\u8bbf\\u63a5\\u5f85\\u6570\", \"x\": [\"8-4\", \"9-1\", \"9-2\", \"9-3\"], \"y\": [0.0, 0.0, 0.0, 1.0], \"type\": \"scatter\", \"uid\": \"759b686c-c204-11e8-ad45-a81e84e6c740\"}],\n",
       "            {\"title\": \"\\u7535\\u8bdd\\u4f1a\\u8bae\\u6b21\\u6570&\\u5916\\u51fa\\u6280\\u672f\\u652f\\u6301\\u6570&\\u5ba2\\u6237\\u6765\\u8bbf\\u63a5\\u5f85\\u6570\\u5468\\u8d8b\\u52bf\\u56fe\", \"xaxis\": {\"mirror\": \"all\", \"nticks\": 20, \"showgrid\": true, \"showline\": true, \"title\": \"\\u5468\", \"zeroline\": true}, \"yaxis\": {\"mirror\": \"all\", \"nticks\": 20, \"showgrid\": true, \"showline\": true, \"title\": \"\\u7535\\u8bdd\\u4f1a\\u8bae\\u6b21\\u6570&\\u5916\\u51fa\\u6280\\u672f\\u652f\\u6301\\u6570&\\u5ba2\\u6237\\u6765\\u8bbf\\u63a5\\u5f85\\u6570\", \"zeroline\": true}},\n",
       "            {\"showLink\": true, \"linkText\": \"Export to plot.ly\"}\n",
       "        ).then(function () {return Plotly.addFrames('1c1c8c72-f649-41ce-992e-3d4a0c6490e7',{});}).then(function(){Plotly.animate('1c1c8c72-f649-41ce-992e-3d4a0c6490e7');})\n",
       "        });</script>"
      ],
      "text/vnd.plotly.v1+html": [
       "<div id=\"1c1c8c72-f649-41ce-992e-3d4a0c6490e7\" style=\"height: 525px; width: 100%;\" class=\"plotly-graph-div\"></div><script type=\"text/javascript\">require([\"plotly\"], function(Plotly) { window.PLOTLYENV=window.PLOTLYENV || {};window.PLOTLYENV.BASE_URL=\"https://plot.ly\";\n",
       "        Plotly.plot(\n",
       "            '1c1c8c72-f649-41ce-992e-3d4a0c6490e7',\n",
       "            [{\"name\": \"\\u59da\\u76df\\u6210_\\u7535\\u8bdd\\u4f1a\\u8bae\\u6b21\\u6570\", \"x\": [\"8-3\", \"8-4\", \"9-1\", \"9-2\", \"9-3\"], \"y\": [0.0, 1.0, 1.0, 0.0, 1.0], \"type\": \"scatter\", \"uid\": \"759ad550-c204-11e8-ad45-a81e84e6c740\"}, {\"name\": \"\\u59da\\u76df\\u6210_\\u5916\\u51fa\\u6280\\u672f\\u652f\\u6301\\u6570\", \"x\": [\"8-3\", \"8-4\", \"9-1\", \"9-2\", \"9-3\"], \"y\": [0.0, 0.0, 0.0, 0.0, 0.0], \"type\": \"scatter\", \"uid\": \"759ad884-c204-11e8-ad45-a81e84e6c740\"}, {\"name\": \"\\u59da\\u76df\\u6210_\\u5ba2\\u6237\\u6765\\u8bbf\\u63a5\\u5f85\\u6570\", \"x\": [\"8-3\", \"8-4\", \"9-1\", \"9-2\", \"9-3\"], \"y\": [0.0, 0.0, 0.0, 0.0, 0.0], \"type\": \"scatter\", \"uid\": \"759adad2-c204-11e8-ad45-a81e84e6c740\"}, {\"name\": \"\\u5218\\u6167\\u73b2_\\u7535\\u8bdd\\u4f1a\\u8bae\\u6b21\\u6570\", \"x\": [\"8-3\", \"8-4\", \"9-1\"], \"y\": [0.0, 0.0, 0.0], \"type\": \"scatter\", \"uid\": \"759adcee-c204-11e8-ad45-a81e84e6c740\"}, {\"name\": \"\\u5218\\u6167\\u73b2_\\u5916\\u51fa\\u6280\\u672f\\u652f\\u6301\\u6570\", \"x\": [\"8-3\", \"8-4\", \"9-1\"], \"y\": [0.0, 0.0, 0.0], \"type\": \"scatter\", \"uid\": \"759adef6-c204-11e8-ad45-a81e84e6c740\"}, {\"name\": \"\\u5218\\u6167\\u73b2_\\u5ba2\\u6237\\u6765\\u8bbf\\u63a5\\u5f85\\u6570\", \"x\": [\"8-3\", \"8-4\", \"9-1\"], \"y\": [0.0, 0.0, 0.0], \"type\": \"scatter\", \"uid\": \"759ae0ea-c204-11e8-ad45-a81e84e6c740\"}, {\"name\": \"\\u5360\\u4f1f_\\u7535\\u8bdd\\u4f1a\\u8bae\\u6b21\\u6570\", \"x\": [\"8-3\", \"8-4\", \"9-1\", \"9-2\"], \"y\": [0.0, 1.0, 2.0, 1.0], \"type\": \"scatter\", \"uid\": \"759ae2d4-c204-11e8-ad45-a81e84e6c740\"}, {\"name\": \"\\u5360\\u4f1f_\\u5916\\u51fa\\u6280\\u672f\\u652f\\u6301\\u6570\", \"x\": [\"8-3\", \"8-4\", \"9-1\", \"9-2\"], \"y\": [0.0, 0.0, 0.0, 0.0], \"type\": \"scatter\", \"uid\": \"759ae4c8-c204-11e8-ad45-a81e84e6c740\"}, {\"name\": \"\\u5360\\u4f1f_\\u5ba2\\u6237\\u6765\\u8bbf\\u63a5\\u5f85\\u6570\", \"x\": [\"8-3\", \"8-4\", \"9-1\", \"9-2\"], \"y\": [0.0, 0.0, 0.0, 0.0], \"type\": \"scatter\", \"uid\": \"759ae6bc-c204-11e8-ad45-a81e84e6c740\"}, {\"name\": \"\\u738b\\u5b81_\\u7535\\u8bdd\\u4f1a\\u8bae\\u6b21\\u6570\", \"x\": [\"8-3\", \"8-4\", \"9-1\"], \"y\": [0.0, 1.0, 0.0], \"type\": \"scatter\", \"uid\": \"759ae8a6-c204-11e8-ad45-a81e84e6c740\"}, {\"name\": \"\\u738b\\u5b81_\\u5916\\u51fa\\u6280\\u672f\\u652f\\u6301\\u6570\", \"x\": [\"8-3\", \"8-4\", \"9-1\"], \"y\": [0.0, 0.0, 0.0], \"type\": \"scatter\", \"uid\": \"759aea86-c204-11e8-ad45-a81e84e6c740\"}, {\"name\": \"\\u738b\\u5b81_\\u5ba2\\u6237\\u6765\\u8bbf\\u63a5\\u5f85\\u6570\", \"x\": [\"8-3\", \"8-4\", \"9-1\"], \"y\": [0.0, 0.0, 0.0], \"type\": \"scatter\", \"uid\": \"759aeca2-c204-11e8-ad45-a81e84e6c740\"}, {\"name\": \"\\u5c01\\u5f66\\u6770_\\u7535\\u8bdd\\u4f1a\\u8bae\\u6b21\\u6570\", \"x\": [\"8-3\", \"8-4\", \"9-1\", \"9-2\", \"9-3\"], \"y\": [0.0, 0.0, 0.0, 1.0, 1.0], \"type\": \"scatter\", \"uid\": \"759aeeb4-c204-11e8-ad45-a81e84e6c740\"}, {\"name\": \"\\u5c01\\u5f66\\u6770_\\u5916\\u51fa\\u6280\\u672f\\u652f\\u6301\\u6570\", \"x\": [\"8-3\", \"8-4\", \"9-1\", \"9-2\", \"9-3\"], \"y\": [0.0, 0.0, 0.0, 0.0, 0.0], \"type\": \"scatter\", \"uid\": \"759af0a8-c204-11e8-ad45-a81e84e6c740\"}, {\"name\": \"\\u5c01\\u5f66\\u6770_\\u5ba2\\u6237\\u6765\\u8bbf\\u63a5\\u5f85\\u6570\", \"x\": [\"8-3\", \"8-4\", \"9-1\", \"9-2\", \"9-3\"], \"y\": [0.0, 0.0, 0.0, 0.0, 0.0], \"type\": \"scatter\", \"uid\": \"759af292-c204-11e8-ad45-a81e84e6c740\"}, {\"name\": \"\\u8def\\u6167\\u840d_\\u7535\\u8bdd\\u4f1a\\u8bae\\u6b21\\u6570\", \"x\": [\"8-3\", \"8-4\", \"9-1\", \"9-2\", \"9-3\"], \"y\": [1.0, 0.0, 0.0, 0.0, 0.0], \"type\": \"scatter\", \"uid\": \"759af490-c204-11e8-ad45-a81e84e6c740\"}, {\"name\": \"\\u8def\\u6167\\u840d_\\u5916\\u51fa\\u6280\\u672f\\u652f\\u6301\\u6570\", \"x\": [\"8-3\", \"8-4\", \"9-1\", \"9-2\", \"9-3\"], \"y\": [0.0, 0.0, 0.0, 0.0, 0.0], \"type\": \"scatter\", \"uid\": \"759af670-c204-11e8-ad45-a81e84e6c740\"}, {\"name\": \"\\u8def\\u6167\\u840d_\\u5ba2\\u6237\\u6765\\u8bbf\\u63a5\\u5f85\\u6570\", \"x\": [\"8-3\", \"8-4\", \"9-1\", \"9-2\", \"9-3\"], \"y\": [1.0, 0.0, 0.0, 0.0, 0.0], \"type\": \"scatter\", \"uid\": \"759af85a-c204-11e8-ad45-a81e84e6c740\"}, {\"name\": \"\\u5b8b\\u8fce\\u6960_\\u7535\\u8bdd\\u4f1a\\u8bae\\u6b21\\u6570\", \"x\": [\"8-3\", \"8-4\", \"9-1\"], \"y\": [0.0, 0.0, 0.0], \"type\": \"scatter\", \"uid\": \"759afa30-c204-11e8-ad45-a81e84e6c740\"}, {\"name\": \"\\u5b8b\\u8fce\\u6960_\\u5916\\u51fa\\u6280\\u672f\\u652f\\u6301\\u6570\", \"x\": [\"8-3\", \"8-4\", \"9-1\"], \"y\": [0.0, 0.0, 0.0], \"type\": \"scatter\", \"uid\": \"759afc24-c204-11e8-ad45-a81e84e6c740\"}, {\"name\": \"\\u5b8b\\u8fce\\u6960_\\u5ba2\\u6237\\u6765\\u8bbf\\u63a5\\u5f85\\u6570\", \"x\": [\"8-3\", \"8-4\", \"9-1\"], \"y\": [0.0, 0.0, 0.0], \"type\": \"scatter\", \"uid\": \"759afe04-c204-11e8-ad45-a81e84e6c740\"}, {\"name\": \"\\u6768\\u4f1f\\u98de_\\u7535\\u8bdd\\u4f1a\\u8bae\\u6b21\\u6570\", \"x\": [\"8-3\", \"8-4\", \"9-1\", \"9-2\", \"9-3\"], \"y\": [0.0, 0.0, 1.0, 1.0, 2.0], \"type\": \"scatter\", \"uid\": \"759affe4-c204-11e8-ad45-a81e84e6c740\"}, {\"name\": \"\\u6768\\u4f1f\\u98de_\\u5916\\u51fa\\u6280\\u672f\\u652f\\u6301\\u6570\", \"x\": [\"8-3\", \"8-4\", \"9-1\", \"9-2\", \"9-3\"], \"y\": [0.0, 0.0, 0.0, 0.0, 0.0], \"type\": \"scatter\", \"uid\": \"759b01ce-c204-11e8-ad45-a81e84e6c740\"}, {\"name\": \"\\u6768\\u4f1f\\u98de_\\u5ba2\\u6237\\u6765\\u8bbf\\u63a5\\u5f85\\u6570\", \"x\": [\"8-3\", \"8-4\", \"9-1\", \"9-2\", \"9-3\"], \"y\": [0.0, 0.0, 0.0, 0.0, 0.0], \"type\": \"scatter\", \"uid\": \"759b03b8-c204-11e8-ad45-a81e84e6c740\"}, {\"name\": \"\\u9a6c\\u6f47_\\u7535\\u8bdd\\u4f1a\\u8bae\\u6b21\\u6570\", \"x\": [\"8-3\", \"8-4\", \"9-1\", \"9-2\"], \"y\": [0.0, 0.0, 0.0, 0.0], \"type\": \"scatter\", \"uid\": \"759b0598-c204-11e8-ad45-a81e84e6c740\"}, {\"name\": \"\\u9a6c\\u6f47_\\u5916\\u51fa\\u6280\\u672f\\u652f\\u6301\\u6570\", \"x\": [\"8-3\", \"8-4\", \"9-1\", \"9-2\"], \"y\": [0.0, 0.0, 0.0, 0.0], \"type\": \"scatter\", \"uid\": \"759b0778-c204-11e8-ad45-a81e84e6c740\"}, {\"name\": \"\\u9a6c\\u6f47_\\u5ba2\\u6237\\u6765\\u8bbf\\u63a5\\u5f85\\u6570\", \"x\": [\"8-3\", \"8-4\", \"9-1\", \"9-2\"], \"y\": [0.0, 0.0, 0.0, 0.0], \"type\": \"scatter\", \"uid\": \"759b096c-c204-11e8-ad45-a81e84e6c740\"}, {\"name\": \"\\u674e\\u5e86\\u539f_\\u7535\\u8bdd\\u4f1a\\u8bae\\u6b21\\u6570\", \"x\": [\"8-3\", \"8-4\", \"9-1\", \"9-2\", \"9-3\"], \"y\": [2.0, 0.0, 0.0, 1.0, 1.0], \"type\": \"scatter\", \"uid\": \"759b0b56-c204-11e8-ad45-a81e84e6c740\"}, {\"name\": \"\\u674e\\u5e86\\u539f_\\u5916\\u51fa\\u6280\\u672f\\u652f\\u6301\\u6570\", \"x\": [\"8-3\", \"8-4\", \"9-1\", \"9-2\", \"9-3\"], \"y\": [0.0, 0.0, 0.0, 0.0, 0.0], \"type\": \"scatter\", \"uid\": \"759b0d40-c204-11e8-ad45-a81e84e6c740\"}, {\"name\": \"\\u674e\\u5e86\\u539f_\\u5ba2\\u6237\\u6765\\u8bbf\\u63a5\\u5f85\\u6570\", \"x\": [\"8-3\", \"8-4\", \"9-1\", \"9-2\", \"9-3\"], \"y\": [1.0, 0.0, 0.0, 0.0, 0.0], \"type\": \"scatter\", \"uid\": \"759b0f20-c204-11e8-ad45-a81e84e6c740\"}, {\"name\": \"\\u97e9\\u5c11\\u6000_\\u7535\\u8bdd\\u4f1a\\u8bae\\u6b21\\u6570\", \"x\": [\"8-3\", \"8-4\", \"9-1\", \"9-2\"], \"y\": [0.0, 0.0, 0.0, 0.0], \"type\": \"scatter\", \"uid\": \"759b110a-c204-11e8-ad45-a81e84e6c740\"}, {\"name\": \"\\u97e9\\u5c11\\u6000_\\u5916\\u51fa\\u6280\\u672f\\u652f\\u6301\\u6570\", \"x\": [\"8-3\", \"8-4\", \"9-1\", \"9-2\"], \"y\": [0.0, 0.0, 0.0, 0.0], \"type\": \"scatter\", \"uid\": \"759b142a-c204-11e8-ad45-a81e84e6c740\"}, {\"name\": \"\\u97e9\\u5c11\\u6000_\\u5ba2\\u6237\\u6765\\u8bbf\\u63a5\\u5f85\\u6570\", \"x\": [\"8-3\", \"8-4\", \"9-1\", \"9-2\"], \"y\": [0.0, 0.0, 0.0, 0.0], \"type\": \"scatter\", \"uid\": \"759b1ace-c204-11e8-ad45-a81e84e6c740\"}, {\"name\": \"\\u8d75\\u73a5_\\u7535\\u8bdd\\u4f1a\\u8bae\\u6b21\\u6570\", \"x\": [\"8-3\", \"8-4\", \"9-1\", \"9-2\"], \"y\": [2.0, 0.0, 0.0, 2.0], \"type\": \"scatter\", \"uid\": \"759b1e84-c204-11e8-ad45-a81e84e6c740\"}, {\"name\": \"\\u8d75\\u73a5_\\u5916\\u51fa\\u6280\\u672f\\u652f\\u6301\\u6570\", \"x\": [\"8-3\", \"8-4\", \"9-1\", \"9-2\"], \"y\": [0.0, 0.0, 0.0, 0.0], \"type\": \"scatter\", \"uid\": \"759b2136-c204-11e8-ad45-a81e84e6c740\"}, {\"name\": \"\\u8d75\\u73a5_\\u5ba2\\u6237\\u6765\\u8bbf\\u63a5\\u5f85\\u6570\", \"x\": [\"8-3\", \"8-4\", \"9-1\", \"9-2\"], \"y\": [0.0, 0.0, 0.0, 0.0], \"type\": \"scatter\", \"uid\": \"759b2348-c204-11e8-ad45-a81e84e6c740\"}, {\"name\": \"\\u82cf\\u5f66\\u52cb_\\u7535\\u8bdd\\u4f1a\\u8bae\\u6b21\\u6570\", \"x\": [\"8-3\", \"8-4\", \"9-1\", \"9-2\", \"9-3\"], \"y\": [0.0, 0.0, 0.0, 0.0, 0.0], \"type\": \"scatter\", \"uid\": \"759b2532-c204-11e8-ad45-a81e84e6c740\"}, {\"name\": \"\\u82cf\\u5f66\\u52cb_\\u5916\\u51fa\\u6280\\u672f\\u652f\\u6301\\u6570\", \"x\": [\"8-3\", \"8-4\", \"9-1\", \"9-2\", \"9-3\"], \"y\": [0.0, 0.0, 0.0, 0.0, 0.0], \"type\": \"scatter\", \"uid\": \"759b271c-c204-11e8-ad45-a81e84e6c740\"}, {\"name\": \"\\u82cf\\u5f66\\u52cb_\\u5ba2\\u6237\\u6765\\u8bbf\\u63a5\\u5f85\\u6570\", \"x\": [\"8-3\", \"8-4\", \"9-1\", \"9-2\", \"9-3\"], \"y\": [0.0, 0.0, 0.0, 0.0, 0.0], \"type\": \"scatter\", \"uid\": \"759b2906-c204-11e8-ad45-a81e84e6c740\"}, {\"name\": \"\\u5f20\\u5b88\\u4f1f_\\u7535\\u8bdd\\u4f1a\\u8bae\\u6b21\\u6570\", \"x\": [\"8-3\", \"8-4\", \"9-1\", \"9-2\"], \"y\": [0.0, 0.0, 0.0, 0.0], \"type\": \"scatter\", \"uid\": \"759b2af0-c204-11e8-ad45-a81e84e6c740\"}, {\"name\": \"\\u5f20\\u5b88\\u4f1f_\\u5916\\u51fa\\u6280\\u672f\\u652f\\u6301\\u6570\", \"x\": [\"8-3\", \"8-4\", \"9-1\", \"9-2\"], \"y\": [0.0, 0.0, 0.0, 0.0], \"type\": \"scatter\", \"uid\": \"759b2cda-c204-11e8-ad45-a81e84e6c740\"}, {\"name\": \"\\u5f20\\u5b88\\u4f1f_\\u5ba2\\u6237\\u6765\\u8bbf\\u63a5\\u5f85\\u6570\", \"x\": [\"8-3\", \"8-4\", \"9-1\", \"9-2\"], \"y\": [0.0, 0.0, 0.0, 0.0], \"type\": \"scatter\", \"uid\": \"759b2ec4-c204-11e8-ad45-a81e84e6c740\"}, {\"name\": \"\\u5468\\u6768_\\u7535\\u8bdd\\u4f1a\\u8bae\\u6b21\\u6570\", \"x\": [\"8-3\", \"8-4\", \"9-1\", \"9-2\", \"9-3\"], \"y\": [1.0, 0.0, 0.0, 0.0, 0.0], \"type\": \"scatter\", \"uid\": \"759b30ae-c204-11e8-ad45-a81e84e6c740\"}, {\"name\": \"\\u5468\\u6768_\\u5916\\u51fa\\u6280\\u672f\\u652f\\u6301\\u6570\", \"x\": [\"8-3\", \"8-4\", \"9-1\", \"9-2\", \"9-3\"], \"y\": [0.0, 0.0, 0.0, 0.0, 0.0], \"type\": \"scatter\", \"uid\": \"759b328e-c204-11e8-ad45-a81e84e6c740\"}, {\"name\": \"\\u5468\\u6768_\\u5ba2\\u6237\\u6765\\u8bbf\\u63a5\\u5f85\\u6570\", \"x\": [\"8-3\", \"8-4\", \"9-1\", \"9-2\", \"9-3\"], \"y\": [0.0, 0.0, 0.0, 0.0, 0.0], \"type\": \"scatter\", \"uid\": \"759b3478-c204-11e8-ad45-a81e84e6c740\"}, {\"name\": \"\\u8303\\u65ed\\u5b81_\\u7535\\u8bdd\\u4f1a\\u8bae\\u6b21\\u6570\", \"x\": [\"8-3\", \"8-4\", \"9-1\", \"9-2\"], \"y\": [0.0, 0.0, 0.0, 0.0], \"type\": \"scatter\", \"uid\": \"759b3658-c204-11e8-ad45-a81e84e6c740\"}, {\"name\": \"\\u8303\\u65ed\\u5b81_\\u5916\\u51fa\\u6280\\u672f\\u652f\\u6301\\u6570\", \"x\": [\"8-3\", \"8-4\", \"9-1\", \"9-2\"], \"y\": [0.0, 0.0, 0.0, 0.0], \"type\": \"scatter\", \"uid\": \"759b3838-c204-11e8-ad45-a81e84e6c740\"}, {\"name\": \"\\u8303\\u65ed\\u5b81_\\u5ba2\\u6237\\u6765\\u8bbf\\u63a5\\u5f85\\u6570\", \"x\": [\"8-3\", \"8-4\", \"9-1\", \"9-2\"], \"y\": [0.0, 0.0, 0.0, 0.0], \"type\": \"scatter\", \"uid\": \"759b3a4a-c204-11e8-ad45-a81e84e6c740\"}, {\"name\": \"\\u5b5f\\u660a_\\u7535\\u8bdd\\u4f1a\\u8bae\\u6b21\\u6570\", \"x\": [\"8-3\", \"8-4\", \"9-1\", \"9-2\", \"9-3\"], \"y\": [0.0, 0.0, 0.0, 0.0, 0.0], \"type\": \"scatter\", \"uid\": \"759b3c34-c204-11e8-ad45-a81e84e6c740\"}, {\"name\": \"\\u5b5f\\u660a_\\u5916\\u51fa\\u6280\\u672f\\u652f\\u6301\\u6570\", \"x\": [\"8-3\", \"8-4\", \"9-1\", \"9-2\", \"9-3\"], \"y\": [0.0, 0.0, 0.0, 0.0, 0.0], \"type\": \"scatter\", \"uid\": \"759b3e14-c204-11e8-ad45-a81e84e6c740\"}, {\"name\": \"\\u5b5f\\u660a_\\u5ba2\\u6237\\u6765\\u8bbf\\u63a5\\u5f85\\u6570\", \"x\": [\"8-3\", \"8-4\", \"9-1\", \"9-2\", \"9-3\"], \"y\": [0.0, 0.0, 0.0, 0.0, 0.0], \"type\": \"scatter\", \"uid\": \"759b3ffe-c204-11e8-ad45-a81e84e6c740\"}, {\"name\": \"\\u4e8e\\u52c7\\u4e00_\\u7535\\u8bdd\\u4f1a\\u8bae\\u6b21\\u6570\", \"x\": [\"8-3\", \"8-4\", \"9-1\", \"9-2\", \"9-3\"], \"y\": [0.0, 0.0, 0.0, 0.0, 0.0], \"type\": \"scatter\", \"uid\": \"759b41de-c204-11e8-ad45-a81e84e6c740\"}, {\"name\": \"\\u4e8e\\u52c7\\u4e00_\\u5916\\u51fa\\u6280\\u672f\\u652f\\u6301\\u6570\", \"x\": [\"8-3\", \"8-4\", \"9-1\", \"9-2\", \"9-3\"], \"y\": [0.0, 0.0, 0.0, 0.0, 0.0], \"type\": \"scatter\", \"uid\": \"759b43be-c204-11e8-ad45-a81e84e6c740\"}, {\"name\": \"\\u4e8e\\u52c7\\u4e00_\\u5ba2\\u6237\\u6765\\u8bbf\\u63a5\\u5f85\\u6570\", \"x\": [\"8-3\", \"8-4\", \"9-1\", \"9-2\", \"9-3\"], \"y\": [0.0, 0.0, 0.0, 0.0, 0.0], \"type\": \"scatter\", \"uid\": \"759b45a8-c204-11e8-ad45-a81e84e6c740\"}, {\"name\": \"\\u4e8e\\u6167_\\u7535\\u8bdd\\u4f1a\\u8bae\\u6b21\\u6570\", \"x\": [\"8-3\", \"8-4\", \"9-1\", \"9-2\", \"9-3\"], \"y\": [0.0, 0.0, 0.0, 0.0, 0.0], \"type\": \"scatter\", \"uid\": \"759b4788-c204-11e8-ad45-a81e84e6c740\"}, {\"name\": \"\\u4e8e\\u6167_\\u5916\\u51fa\\u6280\\u672f\\u652f\\u6301\\u6570\", \"x\": [\"8-3\", \"8-4\", \"9-1\", \"9-2\", \"9-3\"], \"y\": [0.0, 0.0, 0.0, 0.0, 0.0], \"type\": \"scatter\", \"uid\": \"759b4968-c204-11e8-ad45-a81e84e6c740\"}, {\"name\": \"\\u4e8e\\u6167_\\u5ba2\\u6237\\u6765\\u8bbf\\u63a5\\u5f85\\u6570\", \"x\": [\"8-3\", \"8-4\", \"9-1\", \"9-2\", \"9-3\"], \"y\": [0.0, 0.0, 0.0, 0.0, 0.0], \"type\": \"scatter\", \"uid\": \"759b4b52-c204-11e8-ad45-a81e84e6c740\"}, {\"name\": \"\\u5218\\u6c5f_\\u7535\\u8bdd\\u4f1a\\u8bae\\u6b21\\u6570\", \"x\": [\"8-3\", \"8-4\", \"9-1\", \"9-2\", \"9-3\"], \"y\": [1.0, 1.0, 1.0, 1.0, 1.0], \"type\": \"scatter\", \"uid\": \"759b4d3c-c204-11e8-ad45-a81e84e6c740\"}, {\"name\": \"\\u5218\\u6c5f_\\u5916\\u51fa\\u6280\\u672f\\u652f\\u6301\\u6570\", \"x\": [\"8-3\", \"8-4\", \"9-1\", \"9-2\", \"9-3\"], \"y\": [0.0, 0.0, 0.0, 0.0, 0.0], \"type\": \"scatter\", \"uid\": \"759b4f1c-c204-11e8-ad45-a81e84e6c740\"}, {\"name\": \"\\u5218\\u6c5f_\\u5ba2\\u6237\\u6765\\u8bbf\\u63a5\\u5f85\\u6570\", \"x\": [\"8-3\", \"8-4\", \"9-1\", \"9-2\", \"9-3\"], \"y\": [1.0, 0.0, 0.0, 0.0, 0.0], \"type\": \"scatter\", \"uid\": \"759b50fc-c204-11e8-ad45-a81e84e6c740\"}, {\"name\": \"\\u674e\\u534e\\u4e91_\\u7535\\u8bdd\\u4f1a\\u8bae\\u6b21\\u6570\", \"x\": [\"8-3\", \"8-4\", \"9-1\", \"9-2\", \"9-3\"], \"y\": [0.0, 0.0, 0.0, 0.0, 1.0], \"type\": \"scatter\", \"uid\": \"759b52e6-c204-11e8-ad45-a81e84e6c740\"}, {\"name\": \"\\u674e\\u534e\\u4e91_\\u5916\\u51fa\\u6280\\u672f\\u652f\\u6301\\u6570\", \"x\": [\"8-3\", \"8-4\", \"9-1\", \"9-2\", \"9-3\"], \"y\": [0.0, 0.0, 0.0, 0.0, 0.0], \"type\": \"scatter\", \"uid\": \"759b54d0-c204-11e8-ad45-a81e84e6c740\"}, {\"name\": \"\\u674e\\u534e\\u4e91_\\u5ba2\\u6237\\u6765\\u8bbf\\u63a5\\u5f85\\u6570\", \"x\": [\"8-3\", \"8-4\", \"9-1\", \"9-2\", \"9-3\"], \"y\": [0.0, 0.0, 0.0, 0.0, 0.0], \"type\": \"scatter\", \"uid\": \"759b56b0-c204-11e8-ad45-a81e84e6c740\"}, {\"name\": \"\\u8c22\\u5fb7\\u5065_\\u7535\\u8bdd\\u4f1a\\u8bae\\u6b21\\u6570\", \"x\": [\"8-3\", \"8-4\", \"9-2\", \"9-3\"], \"y\": [2.0, 1.0, 1.0, 1.0], \"type\": \"scatter\", \"uid\": \"759b589a-c204-11e8-ad45-a81e84e6c740\"}, {\"name\": \"\\u8c22\\u5fb7\\u5065_\\u5916\\u51fa\\u6280\\u672f\\u652f\\u6301\\u6570\", \"x\": [\"8-3\", \"8-4\", \"9-2\", \"9-3\"], \"y\": [0.0, 0.0, 0.0, 0.0], \"type\": \"scatter\", \"uid\": \"759b5a84-c204-11e8-ad45-a81e84e6c740\"}, {\"name\": \"\\u8c22\\u5fb7\\u5065_\\u5ba2\\u6237\\u6765\\u8bbf\\u63a5\\u5f85\\u6570\", \"x\": [\"8-3\", \"8-4\", \"9-2\", \"9-3\"], \"y\": [0.0, 0.0, 0.0, 0.0], \"type\": \"scatter\", \"uid\": \"759b5c64-c204-11e8-ad45-a81e84e6c740\"}, {\"name\": \"\\u4efb\\u96ea_\\u7535\\u8bdd\\u4f1a\\u8bae\\u6b21\\u6570\", \"x\": [\"8-4\", \"9-1\", \"9-2\", \"9-3\"], \"y\": [0.0, 0.0, 0.0, 0.0], \"type\": \"scatter\", \"uid\": \"759b5e4e-c204-11e8-ad45-a81e84e6c740\"}, {\"name\": \"\\u4efb\\u96ea_\\u5916\\u51fa\\u6280\\u672f\\u652f\\u6301\\u6570\", \"x\": [\"8-4\", \"9-1\", \"9-2\", \"9-3\"], \"y\": [0.0, 0.0, 0.0, 0.0], \"type\": \"scatter\", \"uid\": \"759b6434-c204-11e8-ad45-a81e84e6c740\"}, {\"name\": \"\\u4efb\\u96ea_\\u5ba2\\u6237\\u6765\\u8bbf\\u63a5\\u5f85\\u6570\", \"x\": [\"8-4\", \"9-1\", \"9-2\", \"9-3\"], \"y\": [0.0, 0.0, 0.0, 1.0], \"type\": \"scatter\", \"uid\": \"759b686c-c204-11e8-ad45-a81e84e6c740\"}],\n",
       "            {\"title\": \"\\u7535\\u8bdd\\u4f1a\\u8bae\\u6b21\\u6570&\\u5916\\u51fa\\u6280\\u672f\\u652f\\u6301\\u6570&\\u5ba2\\u6237\\u6765\\u8bbf\\u63a5\\u5f85\\u6570\\u5468\\u8d8b\\u52bf\\u56fe\", \"xaxis\": {\"mirror\": \"all\", \"nticks\": 20, \"showgrid\": true, \"showline\": true, \"title\": \"\\u5468\", \"zeroline\": true}, \"yaxis\": {\"mirror\": \"all\", \"nticks\": 20, \"showgrid\": true, \"showline\": true, \"title\": \"\\u7535\\u8bdd\\u4f1a\\u8bae\\u6b21\\u6570&\\u5916\\u51fa\\u6280\\u672f\\u652f\\u6301\\u6570&\\u5ba2\\u6237\\u6765\\u8bbf\\u63a5\\u5f85\\u6570\", \"zeroline\": true}},\n",
       "            {\"showLink\": true, \"linkText\": \"Export to plot.ly\"}\n",
       "        ).then(function () {return Plotly.addFrames('1c1c8c72-f649-41ce-992e-3d4a0c6490e7',{});}).then(function(){Plotly.animate('1c1c8c72-f649-41ce-992e-3d4a0c6490e7');})\n",
       "        });</script>"
      ]
     },
     "metadata": {},
     "output_type": "display_data"
    },
    {
     "data": {
      "application/vnd.plotly.v1+json": {
       "data": [
        {
         "name": "于勇一_电话会议次数",
         "type": "scatter",
         "uid": "763c5f74-c204-11e8-ad45-a81e84e6c740",
         "x": [
          "8",
          "9"
         ],
         "y": [
          0,
          0
         ]
        },
        {
         "name": "于勇一_外出技术支持数",
         "type": "scatter",
         "uid": "763c6352-c204-11e8-ad45-a81e84e6c740",
         "x": [
          "8",
          "9"
         ],
         "y": [
          0,
          0
         ]
        },
        {
         "name": "于勇一_客户来访接待数",
         "type": "scatter",
         "uid": "763c65aa-c204-11e8-ad45-a81e84e6c740",
         "x": [
          "8",
          "9"
         ],
         "y": [
          0,
          0
         ]
        },
        {
         "name": "于慧_电话会议次数",
         "type": "scatter",
         "uid": "763c67d0-c204-11e8-ad45-a81e84e6c740",
         "x": [
          "8",
          "9"
         ],
         "y": [
          0,
          0
         ]
        },
        {
         "name": "于慧_外出技术支持数",
         "type": "scatter",
         "uid": "763c69d8-c204-11e8-ad45-a81e84e6c740",
         "x": [
          "8",
          "9"
         ],
         "y": [
          0,
          0
         ]
        },
        {
         "name": "于慧_客户来访接待数",
         "type": "scatter",
         "uid": "763c6be0-c204-11e8-ad45-a81e84e6c740",
         "x": [
          "8",
          "9"
         ],
         "y": [
          0,
          0
         ]
        },
        {
         "name": "任雪_电话会议次数",
         "type": "scatter",
         "uid": "763c6dfc-c204-11e8-ad45-a81e84e6c740",
         "x": [
          "8",
          "9"
         ],
         "y": [
          null,
          0
         ]
        },
        {
         "name": "任雪_外出技术支持数",
         "type": "scatter",
         "uid": "763c6ff0-c204-11e8-ad45-a81e84e6c740",
         "x": [
          "8",
          "9"
         ],
         "y": [
          null,
          0
         ]
        },
        {
         "name": "任雪_客户来访接待数",
         "type": "scatter",
         "uid": "763c71e4-c204-11e8-ad45-a81e84e6c740",
         "x": [
          "8",
          "9"
         ],
         "y": [
          null,
          1
         ]
        },
        {
         "name": "刘慧玲_电话会议次数",
         "type": "scatter",
         "uid": "763c73ec-c204-11e8-ad45-a81e84e6c740",
         "x": [
          "8",
          "9"
         ],
         "y": [
          0,
          null
         ]
        },
        {
         "name": "刘慧玲_外出技术支持数",
         "type": "scatter",
         "uid": "763c75e0-c204-11e8-ad45-a81e84e6c740",
         "x": [
          "8",
          "9"
         ],
         "y": [
          0,
          null
         ]
        },
        {
         "name": "刘慧玲_客户来访接待数",
         "type": "scatter",
         "uid": "763c77de-c204-11e8-ad45-a81e84e6c740",
         "x": [
          "8",
          "9"
         ],
         "y": [
          0,
          null
         ]
        },
        {
         "name": "刘江_电话会议次数",
         "type": "scatter",
         "uid": "763c79d2-c204-11e8-ad45-a81e84e6c740",
         "x": [
          "8",
          "9"
         ],
         "y": [
          2,
          3
         ]
        },
        {
         "name": "刘江_外出技术支持数",
         "type": "scatter",
         "uid": "763c7bbc-c204-11e8-ad45-a81e84e6c740",
         "x": [
          "8",
          "9"
         ],
         "y": [
          0,
          0
         ]
        },
        {
         "name": "刘江_客户来访接待数",
         "type": "scatter",
         "uid": "763c7db0-c204-11e8-ad45-a81e84e6c740",
         "x": [
          "8",
          "9"
         ],
         "y": [
          1,
          0
         ]
        },
        {
         "name": "占伟_电话会议次数",
         "type": "scatter",
         "uid": "763c7fa4-c204-11e8-ad45-a81e84e6c740",
         "x": [
          "8",
          "9"
         ],
         "y": [
          1,
          null
         ]
        },
        {
         "name": "占伟_外出技术支持数",
         "type": "scatter",
         "uid": "763c8198-c204-11e8-ad45-a81e84e6c740",
         "x": [
          "8",
          "9"
         ],
         "y": [
          0,
          null
         ]
        },
        {
         "name": "占伟_客户来访接待数",
         "type": "scatter",
         "uid": "763c8468-c204-11e8-ad45-a81e84e6c740",
         "x": [
          "8",
          "9"
         ],
         "y": [
          0,
          null
         ]
        },
        {
         "name": "周杨_电话会议次数",
         "type": "scatter",
         "uid": "763c868e-c204-11e8-ad45-a81e84e6c740",
         "x": [
          "8",
          "9"
         ],
         "y": [
          1,
          0
         ]
        },
        {
         "name": "周杨_外出技术支持数",
         "type": "scatter",
         "uid": "763c8896-c204-11e8-ad45-a81e84e6c740",
         "x": [
          "8",
          "9"
         ],
         "y": [
          0,
          0
         ]
        },
        {
         "name": "周杨_客户来访接待数",
         "type": "scatter",
         "uid": "763c8a9e-c204-11e8-ad45-a81e84e6c740",
         "x": [
          "8",
          "9"
         ],
         "y": [
          0,
          0
         ]
        },
        {
         "name": "姚盟成_电话会议次数",
         "type": "scatter",
         "uid": "763c8c92-c204-11e8-ad45-a81e84e6c740",
         "x": [
          "8",
          "9"
         ],
         "y": [
          1,
          2
         ]
        },
        {
         "name": "姚盟成_外出技术支持数",
         "type": "scatter",
         "uid": "763c8e7c-c204-11e8-ad45-a81e84e6c740",
         "x": [
          "8",
          "9"
         ],
         "y": [
          0,
          0
         ]
        },
        {
         "name": "姚盟成_客户来访接待数",
         "type": "scatter",
         "uid": "763c9070-c204-11e8-ad45-a81e84e6c740",
         "x": [
          "8",
          "9"
         ],
         "y": [
          0,
          0
         ]
        },
        {
         "name": "孟昊_电话会议次数",
         "type": "scatter",
         "uid": "763c9264-c204-11e8-ad45-a81e84e6c740",
         "x": [
          "8",
          "9"
         ],
         "y": [
          0,
          0
         ]
        },
        {
         "name": "孟昊_外出技术支持数",
         "type": "scatter",
         "uid": "763c9458-c204-11e8-ad45-a81e84e6c740",
         "x": [
          "8",
          "9"
         ],
         "y": [
          0,
          0
         ]
        },
        {
         "name": "孟昊_客户来访接待数",
         "type": "scatter",
         "uid": "763c964c-c204-11e8-ad45-a81e84e6c740",
         "x": [
          "8",
          "9"
         ],
         "y": [
          0,
          0
         ]
        },
        {
         "name": "宋迎楠_电话会议次数",
         "type": "scatter",
         "uid": "763c9840-c204-11e8-ad45-a81e84e6c740",
         "x": [
          "8",
          "9"
         ],
         "y": [
          0,
          null
         ]
        },
        {
         "name": "宋迎楠_外出技术支持数",
         "type": "scatter",
         "uid": "763c9a34-c204-11e8-ad45-a81e84e6c740",
         "x": [
          "8",
          "9"
         ],
         "y": [
          0,
          null
         ]
        },
        {
         "name": "宋迎楠_客户来访接待数",
         "type": "scatter",
         "uid": "763c9c32-c204-11e8-ad45-a81e84e6c740",
         "x": [
          "8",
          "9"
         ],
         "y": [
          0,
          null
         ]
        },
        {
         "name": "封彦杰_电话会议次数",
         "type": "scatter",
         "uid": "763c9e1c-c204-11e8-ad45-a81e84e6c740",
         "x": [
          "8",
          "9"
         ],
         "y": [
          0,
          2
         ]
        },
        {
         "name": "封彦杰_外出技术支持数",
         "type": "scatter",
         "uid": "763ca010-c204-11e8-ad45-a81e84e6c740",
         "x": [
          "8",
          "9"
         ],
         "y": [
          0,
          0
         ]
        },
        {
         "name": "封彦杰_客户来访接待数",
         "type": "scatter",
         "uid": "763ca20e-c204-11e8-ad45-a81e84e6c740",
         "x": [
          "8",
          "9"
         ],
         "y": [
          0,
          0
         ]
        },
        {
         "name": "张守伟_电话会议次数",
         "type": "scatter",
         "uid": "763ca3f8-c204-11e8-ad45-a81e84e6c740",
         "x": [
          "8",
          "9"
         ],
         "y": [
          0,
          null
         ]
        },
        {
         "name": "张守伟_外出技术支持数",
         "type": "scatter",
         "uid": "763ca614-c204-11e8-ad45-a81e84e6c740",
         "x": [
          "8",
          "9"
         ],
         "y": [
          0,
          null
         ]
        },
        {
         "name": "张守伟_客户来访接待数",
         "type": "scatter",
         "uid": "763ca808-c204-11e8-ad45-a81e84e6c740",
         "x": [
          "8",
          "9"
         ],
         "y": [
          0,
          null
         ]
        },
        {
         "name": "李华云_电话会议次数",
         "type": "scatter",
         "uid": "763caa38-c204-11e8-ad45-a81e84e6c740",
         "x": [
          "8",
          "9"
         ],
         "y": [
          0,
          1
         ]
        },
        {
         "name": "李华云_外出技术支持数",
         "type": "scatter",
         "uid": "763cac36-c204-11e8-ad45-a81e84e6c740",
         "x": [
          "8",
          "9"
         ],
         "y": [
          0,
          0
         ]
        },
        {
         "name": "李华云_客户来访接待数",
         "type": "scatter",
         "uid": "763cae2a-c204-11e8-ad45-a81e84e6c740",
         "x": [
          "8",
          "9"
         ],
         "y": [
          0,
          0
         ]
        },
        {
         "name": "李庆原_电话会议次数",
         "type": "scatter",
         "uid": "763cb014-c204-11e8-ad45-a81e84e6c740",
         "x": [
          "8",
          "9"
         ],
         "y": [
          2,
          2
         ]
        },
        {
         "name": "李庆原_外出技术支持数",
         "type": "scatter",
         "uid": "763cb208-c204-11e8-ad45-a81e84e6c740",
         "x": [
          "8",
          "9"
         ],
         "y": [
          0,
          0
         ]
        },
        {
         "name": "李庆原_客户来访接待数",
         "type": "scatter",
         "uid": "763cb3f2-c204-11e8-ad45-a81e84e6c740",
         "x": [
          "8",
          "9"
         ],
         "y": [
          1,
          0
         ]
        },
        {
         "name": "杨伟飞_电话会议次数",
         "type": "scatter",
         "uid": "763cb5dc-c204-11e8-ad45-a81e84e6c740",
         "x": [
          "8",
          "9"
         ],
         "y": [
          0,
          4
         ]
        },
        {
         "name": "杨伟飞_外出技术支持数",
         "type": "scatter",
         "uid": "763cb7d0-c204-11e8-ad45-a81e84e6c740",
         "x": [
          "8",
          "9"
         ],
         "y": [
          0,
          0
         ]
        },
        {
         "name": "杨伟飞_客户来访接待数",
         "type": "scatter",
         "uid": "763cb9c4-c204-11e8-ad45-a81e84e6c740",
         "x": [
          "8",
          "9"
         ],
         "y": [
          0,
          0
         ]
        },
        {
         "name": "王宁_电话会议次数",
         "type": "scatter",
         "uid": "763cbbae-c204-11e8-ad45-a81e84e6c740",
         "x": [
          "8",
          "9"
         ],
         "y": [
          1,
          null
         ]
        },
        {
         "name": "王宁_外出技术支持数",
         "type": "scatter",
         "uid": "763cbd98-c204-11e8-ad45-a81e84e6c740",
         "x": [
          "8",
          "9"
         ],
         "y": [
          0,
          null
         ]
        },
        {
         "name": "王宁_客户来访接待数",
         "type": "scatter",
         "uid": "763cbf82-c204-11e8-ad45-a81e84e6c740",
         "x": [
          "8",
          "9"
         ],
         "y": [
          0,
          null
         ]
        },
        {
         "name": "苏彦勋_电话会议次数",
         "type": "scatter",
         "uid": "763cc16c-c204-11e8-ad45-a81e84e6c740",
         "x": [
          "8",
          "9"
         ],
         "y": [
          0,
          0
         ]
        },
        {
         "name": "苏彦勋_外出技术支持数",
         "type": "scatter",
         "uid": "763cc360-c204-11e8-ad45-a81e84e6c740",
         "x": [
          "8",
          "9"
         ],
         "y": [
          0,
          0
         ]
        },
        {
         "name": "苏彦勋_客户来访接待数",
         "type": "scatter",
         "uid": "763cc54a-c204-11e8-ad45-a81e84e6c740",
         "x": [
          "8",
          "9"
         ],
         "y": [
          0,
          0
         ]
        },
        {
         "name": "范旭宁_电话会议次数",
         "type": "scatter",
         "uid": "763cc734-c204-11e8-ad45-a81e84e6c740",
         "x": [
          "8",
          "9"
         ],
         "y": [
          0,
          null
         ]
        },
        {
         "name": "范旭宁_外出技术支持数",
         "type": "scatter",
         "uid": "763cc91e-c204-11e8-ad45-a81e84e6c740",
         "x": [
          "8",
          "9"
         ],
         "y": [
          0,
          null
         ]
        },
        {
         "name": "范旭宁_客户来访接待数",
         "type": "scatter",
         "uid": "763ccb26-c204-11e8-ad45-a81e84e6c740",
         "x": [
          "8",
          "9"
         ],
         "y": [
          0,
          null
         ]
        },
        {
         "name": "谢德健_电话会议次数",
         "type": "scatter",
         "uid": "763ccd10-c204-11e8-ad45-a81e84e6c740",
         "x": [
          "8",
          "9"
         ],
         "y": [
          3,
          null
         ]
        },
        {
         "name": "谢德健_外出技术支持数",
         "type": "scatter",
         "uid": "763cd094-c204-11e8-ad45-a81e84e6c740",
         "x": [
          "8",
          "9"
         ],
         "y": [
          0,
          null
         ]
        },
        {
         "name": "谢德健_客户来访接待数",
         "type": "scatter",
         "uid": "763cdada-c204-11e8-ad45-a81e84e6c740",
         "x": [
          "8",
          "9"
         ],
         "y": [
          0,
          null
         ]
        },
        {
         "name": "赵玥_电话会议次数",
         "type": "scatter",
         "uid": "763cdf8a-c204-11e8-ad45-a81e84e6c740",
         "x": [
          "8",
          "9"
         ],
         "y": [
          2,
          null
         ]
        },
        {
         "name": "赵玥_外出技术支持数",
         "type": "scatter",
         "uid": "763ce30e-c204-11e8-ad45-a81e84e6c740",
         "x": [
          "8",
          "9"
         ],
         "y": [
          0,
          null
         ]
        },
        {
         "name": "赵玥_客户来访接待数",
         "type": "scatter",
         "uid": "763ce64c-c204-11e8-ad45-a81e84e6c740",
         "x": [
          "8",
          "9"
         ],
         "y": [
          0,
          null
         ]
        },
        {
         "name": "路慧萍_电话会议次数",
         "type": "scatter",
         "uid": "763ce9b2-c204-11e8-ad45-a81e84e6c740",
         "x": [
          "8",
          "9"
         ],
         "y": [
          1,
          0
         ]
        },
        {
         "name": "路慧萍_外出技术支持数",
         "type": "scatter",
         "uid": "763ced04-c204-11e8-ad45-a81e84e6c740",
         "x": [
          "8",
          "9"
         ],
         "y": [
          0,
          0
         ]
        },
        {
         "name": "路慧萍_客户来访接待数",
         "type": "scatter",
         "uid": "763cf074-c204-11e8-ad45-a81e84e6c740",
         "x": [
          "8",
          "9"
         ],
         "y": [
          1,
          0
         ]
        },
        {
         "name": "韩少怀_电话会议次数",
         "type": "scatter",
         "uid": "763cf452-c204-11e8-ad45-a81e84e6c740",
         "x": [
          "8",
          "9"
         ],
         "y": [
          0,
          null
         ]
        },
        {
         "name": "韩少怀_外出技术支持数",
         "type": "scatter",
         "uid": "763cf844-c204-11e8-ad45-a81e84e6c740",
         "x": [
          "8",
          "9"
         ],
         "y": [
          0,
          null
         ]
        },
        {
         "name": "韩少怀_客户来访接待数",
         "type": "scatter",
         "uid": "763cfbe6-c204-11e8-ad45-a81e84e6c740",
         "x": [
          "8",
          "9"
         ],
         "y": [
          0,
          null
         ]
        },
        {
         "name": "马潇_电话会议次数",
         "type": "scatter",
         "uid": "763cff06-c204-11e8-ad45-a81e84e6c740",
         "x": [
          "8",
          "9"
         ],
         "y": [
          0,
          null
         ]
        },
        {
         "name": "马潇_外出技术支持数",
         "type": "scatter",
         "uid": "763d0212-c204-11e8-ad45-a81e84e6c740",
         "x": [
          "8",
          "9"
         ],
         "y": [
          0,
          null
         ]
        },
        {
         "name": "马潇_客户来访接待数",
         "type": "scatter",
         "uid": "763d0528-c204-11e8-ad45-a81e84e6c740",
         "x": [
          "8",
          "9"
         ],
         "y": [
          0,
          null
         ]
        }
       ],
       "layout": {
        "title": "电话会议次数&外出技术支持数&客户来访接待数月趋势图",
        "xaxis": {
         "mirror": "all",
         "nticks": 20,
         "showgrid": true,
         "showline": true,
         "title": "月",
         "zeroline": true
        },
        "yaxis": {
         "mirror": "all",
         "nticks": 20,
         "showgrid": true,
         "showline": true,
         "title": "电话会议次数&外出技术支持数&客户来访接待数",
         "zeroline": true
        }
       }
      },
      "text/html": [
       "<div id=\"918cfe47-0ed6-4164-aa7f-12c058ca9bd3\" style=\"height: 525px; width: 100%;\" class=\"plotly-graph-div\"></div><script type=\"text/javascript\">require([\"plotly\"], function(Plotly) { window.PLOTLYENV=window.PLOTLYENV || {};window.PLOTLYENV.BASE_URL=\"https://plot.ly\";\n",
       "        Plotly.plot(\n",
       "            '918cfe47-0ed6-4164-aa7f-12c058ca9bd3',\n",
       "            [{\"name\": \"\\u4e8e\\u52c7\\u4e00_\\u7535\\u8bdd\\u4f1a\\u8bae\\u6b21\\u6570\", \"x\": [\"8\", \"9\"], \"y\": [0.0, 0.0], \"type\": \"scatter\", \"uid\": \"763c5f74-c204-11e8-ad45-a81e84e6c740\"}, {\"name\": \"\\u4e8e\\u52c7\\u4e00_\\u5916\\u51fa\\u6280\\u672f\\u652f\\u6301\\u6570\", \"x\": [\"8\", \"9\"], \"y\": [0.0, 0.0], \"type\": \"scatter\", \"uid\": \"763c6352-c204-11e8-ad45-a81e84e6c740\"}, {\"name\": \"\\u4e8e\\u52c7\\u4e00_\\u5ba2\\u6237\\u6765\\u8bbf\\u63a5\\u5f85\\u6570\", \"x\": [\"8\", \"9\"], \"y\": [0.0, 0.0], \"type\": \"scatter\", \"uid\": \"763c65aa-c204-11e8-ad45-a81e84e6c740\"}, {\"name\": \"\\u4e8e\\u6167_\\u7535\\u8bdd\\u4f1a\\u8bae\\u6b21\\u6570\", \"x\": [\"8\", \"9\"], \"y\": [0.0, 0.0], \"type\": \"scatter\", \"uid\": \"763c67d0-c204-11e8-ad45-a81e84e6c740\"}, {\"name\": \"\\u4e8e\\u6167_\\u5916\\u51fa\\u6280\\u672f\\u652f\\u6301\\u6570\", \"x\": [\"8\", \"9\"], \"y\": [0.0, 0.0], \"type\": \"scatter\", \"uid\": \"763c69d8-c204-11e8-ad45-a81e84e6c740\"}, {\"name\": \"\\u4e8e\\u6167_\\u5ba2\\u6237\\u6765\\u8bbf\\u63a5\\u5f85\\u6570\", \"x\": [\"8\", \"9\"], \"y\": [0.0, 0.0], \"type\": \"scatter\", \"uid\": \"763c6be0-c204-11e8-ad45-a81e84e6c740\"}, {\"name\": \"\\u4efb\\u96ea_\\u7535\\u8bdd\\u4f1a\\u8bae\\u6b21\\u6570\", \"x\": [\"8\", \"9\"], \"y\": [null, 0.0], \"type\": \"scatter\", \"uid\": \"763c6dfc-c204-11e8-ad45-a81e84e6c740\"}, {\"name\": \"\\u4efb\\u96ea_\\u5916\\u51fa\\u6280\\u672f\\u652f\\u6301\\u6570\", \"x\": [\"8\", \"9\"], \"y\": [null, 0.0], \"type\": \"scatter\", \"uid\": \"763c6ff0-c204-11e8-ad45-a81e84e6c740\"}, {\"name\": \"\\u4efb\\u96ea_\\u5ba2\\u6237\\u6765\\u8bbf\\u63a5\\u5f85\\u6570\", \"x\": [\"8\", \"9\"], \"y\": [null, 1.0], \"type\": \"scatter\", \"uid\": \"763c71e4-c204-11e8-ad45-a81e84e6c740\"}, {\"name\": \"\\u5218\\u6167\\u73b2_\\u7535\\u8bdd\\u4f1a\\u8bae\\u6b21\\u6570\", \"x\": [\"8\", \"9\"], \"y\": [0.0, null], \"type\": \"scatter\", \"uid\": \"763c73ec-c204-11e8-ad45-a81e84e6c740\"}, {\"name\": \"\\u5218\\u6167\\u73b2_\\u5916\\u51fa\\u6280\\u672f\\u652f\\u6301\\u6570\", \"x\": [\"8\", \"9\"], \"y\": [0.0, null], \"type\": \"scatter\", \"uid\": \"763c75e0-c204-11e8-ad45-a81e84e6c740\"}, {\"name\": \"\\u5218\\u6167\\u73b2_\\u5ba2\\u6237\\u6765\\u8bbf\\u63a5\\u5f85\\u6570\", \"x\": [\"8\", \"9\"], \"y\": [0.0, null], \"type\": \"scatter\", \"uid\": \"763c77de-c204-11e8-ad45-a81e84e6c740\"}, {\"name\": \"\\u5218\\u6c5f_\\u7535\\u8bdd\\u4f1a\\u8bae\\u6b21\\u6570\", \"x\": [\"8\", \"9\"], \"y\": [2.0, 3.0], \"type\": \"scatter\", \"uid\": \"763c79d2-c204-11e8-ad45-a81e84e6c740\"}, {\"name\": \"\\u5218\\u6c5f_\\u5916\\u51fa\\u6280\\u672f\\u652f\\u6301\\u6570\", \"x\": [\"8\", \"9\"], \"y\": [0.0, 0.0], \"type\": \"scatter\", \"uid\": \"763c7bbc-c204-11e8-ad45-a81e84e6c740\"}, {\"name\": \"\\u5218\\u6c5f_\\u5ba2\\u6237\\u6765\\u8bbf\\u63a5\\u5f85\\u6570\", \"x\": [\"8\", \"9\"], \"y\": [1.0, 0.0], \"type\": \"scatter\", \"uid\": \"763c7db0-c204-11e8-ad45-a81e84e6c740\"}, {\"name\": \"\\u5360\\u4f1f_\\u7535\\u8bdd\\u4f1a\\u8bae\\u6b21\\u6570\", \"x\": [\"8\", \"9\"], \"y\": [1.0, null], \"type\": \"scatter\", \"uid\": \"763c7fa4-c204-11e8-ad45-a81e84e6c740\"}, {\"name\": \"\\u5360\\u4f1f_\\u5916\\u51fa\\u6280\\u672f\\u652f\\u6301\\u6570\", \"x\": [\"8\", \"9\"], \"y\": [0.0, null], \"type\": \"scatter\", \"uid\": \"763c8198-c204-11e8-ad45-a81e84e6c740\"}, {\"name\": \"\\u5360\\u4f1f_\\u5ba2\\u6237\\u6765\\u8bbf\\u63a5\\u5f85\\u6570\", \"x\": [\"8\", \"9\"], \"y\": [0.0, null], \"type\": \"scatter\", \"uid\": \"763c8468-c204-11e8-ad45-a81e84e6c740\"}, {\"name\": \"\\u5468\\u6768_\\u7535\\u8bdd\\u4f1a\\u8bae\\u6b21\\u6570\", \"x\": [\"8\", \"9\"], \"y\": [1.0, 0.0], \"type\": \"scatter\", \"uid\": \"763c868e-c204-11e8-ad45-a81e84e6c740\"}, {\"name\": \"\\u5468\\u6768_\\u5916\\u51fa\\u6280\\u672f\\u652f\\u6301\\u6570\", \"x\": [\"8\", \"9\"], \"y\": [0.0, 0.0], \"type\": \"scatter\", \"uid\": \"763c8896-c204-11e8-ad45-a81e84e6c740\"}, {\"name\": \"\\u5468\\u6768_\\u5ba2\\u6237\\u6765\\u8bbf\\u63a5\\u5f85\\u6570\", \"x\": [\"8\", \"9\"], \"y\": [0.0, 0.0], \"type\": \"scatter\", \"uid\": \"763c8a9e-c204-11e8-ad45-a81e84e6c740\"}, {\"name\": \"\\u59da\\u76df\\u6210_\\u7535\\u8bdd\\u4f1a\\u8bae\\u6b21\\u6570\", \"x\": [\"8\", \"9\"], \"y\": [1.0, 2.0], \"type\": \"scatter\", \"uid\": \"763c8c92-c204-11e8-ad45-a81e84e6c740\"}, {\"name\": \"\\u59da\\u76df\\u6210_\\u5916\\u51fa\\u6280\\u672f\\u652f\\u6301\\u6570\", \"x\": [\"8\", \"9\"], \"y\": [0.0, 0.0], \"type\": \"scatter\", \"uid\": \"763c8e7c-c204-11e8-ad45-a81e84e6c740\"}, {\"name\": \"\\u59da\\u76df\\u6210_\\u5ba2\\u6237\\u6765\\u8bbf\\u63a5\\u5f85\\u6570\", \"x\": [\"8\", \"9\"], \"y\": [0.0, 0.0], \"type\": \"scatter\", \"uid\": \"763c9070-c204-11e8-ad45-a81e84e6c740\"}, {\"name\": \"\\u5b5f\\u660a_\\u7535\\u8bdd\\u4f1a\\u8bae\\u6b21\\u6570\", \"x\": [\"8\", \"9\"], \"y\": [0.0, 0.0], \"type\": \"scatter\", \"uid\": \"763c9264-c204-11e8-ad45-a81e84e6c740\"}, {\"name\": \"\\u5b5f\\u660a_\\u5916\\u51fa\\u6280\\u672f\\u652f\\u6301\\u6570\", \"x\": [\"8\", \"9\"], \"y\": [0.0, 0.0], \"type\": \"scatter\", \"uid\": \"763c9458-c204-11e8-ad45-a81e84e6c740\"}, {\"name\": \"\\u5b5f\\u660a_\\u5ba2\\u6237\\u6765\\u8bbf\\u63a5\\u5f85\\u6570\", \"x\": [\"8\", \"9\"], \"y\": [0.0, 0.0], \"type\": \"scatter\", \"uid\": \"763c964c-c204-11e8-ad45-a81e84e6c740\"}, {\"name\": \"\\u5b8b\\u8fce\\u6960_\\u7535\\u8bdd\\u4f1a\\u8bae\\u6b21\\u6570\", \"x\": [\"8\", \"9\"], \"y\": [0.0, null], \"type\": \"scatter\", \"uid\": \"763c9840-c204-11e8-ad45-a81e84e6c740\"}, {\"name\": \"\\u5b8b\\u8fce\\u6960_\\u5916\\u51fa\\u6280\\u672f\\u652f\\u6301\\u6570\", \"x\": [\"8\", \"9\"], \"y\": [0.0, null], \"type\": \"scatter\", \"uid\": \"763c9a34-c204-11e8-ad45-a81e84e6c740\"}, {\"name\": \"\\u5b8b\\u8fce\\u6960_\\u5ba2\\u6237\\u6765\\u8bbf\\u63a5\\u5f85\\u6570\", \"x\": [\"8\", \"9\"], \"y\": [0.0, null], \"type\": \"scatter\", \"uid\": \"763c9c32-c204-11e8-ad45-a81e84e6c740\"}, {\"name\": \"\\u5c01\\u5f66\\u6770_\\u7535\\u8bdd\\u4f1a\\u8bae\\u6b21\\u6570\", \"x\": [\"8\", \"9\"], \"y\": [0.0, 2.0], \"type\": \"scatter\", \"uid\": \"763c9e1c-c204-11e8-ad45-a81e84e6c740\"}, {\"name\": \"\\u5c01\\u5f66\\u6770_\\u5916\\u51fa\\u6280\\u672f\\u652f\\u6301\\u6570\", \"x\": [\"8\", \"9\"], \"y\": [0.0, 0.0], \"type\": \"scatter\", \"uid\": \"763ca010-c204-11e8-ad45-a81e84e6c740\"}, {\"name\": \"\\u5c01\\u5f66\\u6770_\\u5ba2\\u6237\\u6765\\u8bbf\\u63a5\\u5f85\\u6570\", \"x\": [\"8\", \"9\"], \"y\": [0.0, 0.0], \"type\": \"scatter\", \"uid\": \"763ca20e-c204-11e8-ad45-a81e84e6c740\"}, {\"name\": \"\\u5f20\\u5b88\\u4f1f_\\u7535\\u8bdd\\u4f1a\\u8bae\\u6b21\\u6570\", \"x\": [\"8\", \"9\"], \"y\": [0.0, null], \"type\": \"scatter\", \"uid\": \"763ca3f8-c204-11e8-ad45-a81e84e6c740\"}, {\"name\": \"\\u5f20\\u5b88\\u4f1f_\\u5916\\u51fa\\u6280\\u672f\\u652f\\u6301\\u6570\", \"x\": [\"8\", \"9\"], \"y\": [0.0, null], \"type\": \"scatter\", \"uid\": \"763ca614-c204-11e8-ad45-a81e84e6c740\"}, {\"name\": \"\\u5f20\\u5b88\\u4f1f_\\u5ba2\\u6237\\u6765\\u8bbf\\u63a5\\u5f85\\u6570\", \"x\": [\"8\", \"9\"], \"y\": [0.0, null], \"type\": \"scatter\", \"uid\": \"763ca808-c204-11e8-ad45-a81e84e6c740\"}, {\"name\": \"\\u674e\\u534e\\u4e91_\\u7535\\u8bdd\\u4f1a\\u8bae\\u6b21\\u6570\", \"x\": [\"8\", \"9\"], \"y\": [0.0, 1.0], \"type\": \"scatter\", \"uid\": \"763caa38-c204-11e8-ad45-a81e84e6c740\"}, {\"name\": \"\\u674e\\u534e\\u4e91_\\u5916\\u51fa\\u6280\\u672f\\u652f\\u6301\\u6570\", \"x\": [\"8\", \"9\"], \"y\": [0.0, 0.0], \"type\": \"scatter\", \"uid\": \"763cac36-c204-11e8-ad45-a81e84e6c740\"}, {\"name\": \"\\u674e\\u534e\\u4e91_\\u5ba2\\u6237\\u6765\\u8bbf\\u63a5\\u5f85\\u6570\", \"x\": [\"8\", \"9\"], \"y\": [0.0, 0.0], \"type\": \"scatter\", \"uid\": \"763cae2a-c204-11e8-ad45-a81e84e6c740\"}, {\"name\": \"\\u674e\\u5e86\\u539f_\\u7535\\u8bdd\\u4f1a\\u8bae\\u6b21\\u6570\", \"x\": [\"8\", \"9\"], \"y\": [2.0, 2.0], \"type\": \"scatter\", \"uid\": \"763cb014-c204-11e8-ad45-a81e84e6c740\"}, {\"name\": \"\\u674e\\u5e86\\u539f_\\u5916\\u51fa\\u6280\\u672f\\u652f\\u6301\\u6570\", \"x\": [\"8\", \"9\"], \"y\": [0.0, 0.0], \"type\": \"scatter\", \"uid\": \"763cb208-c204-11e8-ad45-a81e84e6c740\"}, {\"name\": \"\\u674e\\u5e86\\u539f_\\u5ba2\\u6237\\u6765\\u8bbf\\u63a5\\u5f85\\u6570\", \"x\": [\"8\", \"9\"], \"y\": [1.0, 0.0], \"type\": \"scatter\", \"uid\": \"763cb3f2-c204-11e8-ad45-a81e84e6c740\"}, {\"name\": \"\\u6768\\u4f1f\\u98de_\\u7535\\u8bdd\\u4f1a\\u8bae\\u6b21\\u6570\", \"x\": [\"8\", \"9\"], \"y\": [0.0, 4.0], \"type\": \"scatter\", \"uid\": \"763cb5dc-c204-11e8-ad45-a81e84e6c740\"}, {\"name\": \"\\u6768\\u4f1f\\u98de_\\u5916\\u51fa\\u6280\\u672f\\u652f\\u6301\\u6570\", \"x\": [\"8\", \"9\"], \"y\": [0.0, 0.0], \"type\": \"scatter\", \"uid\": \"763cb7d0-c204-11e8-ad45-a81e84e6c740\"}, {\"name\": \"\\u6768\\u4f1f\\u98de_\\u5ba2\\u6237\\u6765\\u8bbf\\u63a5\\u5f85\\u6570\", \"x\": [\"8\", \"9\"], \"y\": [0.0, 0.0], \"type\": \"scatter\", \"uid\": \"763cb9c4-c204-11e8-ad45-a81e84e6c740\"}, {\"name\": \"\\u738b\\u5b81_\\u7535\\u8bdd\\u4f1a\\u8bae\\u6b21\\u6570\", \"x\": [\"8\", \"9\"], \"y\": [1.0, null], \"type\": \"scatter\", \"uid\": \"763cbbae-c204-11e8-ad45-a81e84e6c740\"}, {\"name\": \"\\u738b\\u5b81_\\u5916\\u51fa\\u6280\\u672f\\u652f\\u6301\\u6570\", \"x\": [\"8\", \"9\"], \"y\": [0.0, null], \"type\": \"scatter\", \"uid\": \"763cbd98-c204-11e8-ad45-a81e84e6c740\"}, {\"name\": \"\\u738b\\u5b81_\\u5ba2\\u6237\\u6765\\u8bbf\\u63a5\\u5f85\\u6570\", \"x\": [\"8\", \"9\"], \"y\": [0.0, null], \"type\": \"scatter\", \"uid\": \"763cbf82-c204-11e8-ad45-a81e84e6c740\"}, {\"name\": \"\\u82cf\\u5f66\\u52cb_\\u7535\\u8bdd\\u4f1a\\u8bae\\u6b21\\u6570\", \"x\": [\"8\", \"9\"], \"y\": [0.0, 0.0], \"type\": \"scatter\", \"uid\": \"763cc16c-c204-11e8-ad45-a81e84e6c740\"}, {\"name\": \"\\u82cf\\u5f66\\u52cb_\\u5916\\u51fa\\u6280\\u672f\\u652f\\u6301\\u6570\", \"x\": [\"8\", \"9\"], \"y\": [0.0, 0.0], \"type\": \"scatter\", \"uid\": \"763cc360-c204-11e8-ad45-a81e84e6c740\"}, {\"name\": \"\\u82cf\\u5f66\\u52cb_\\u5ba2\\u6237\\u6765\\u8bbf\\u63a5\\u5f85\\u6570\", \"x\": [\"8\", \"9\"], \"y\": [0.0, 0.0], \"type\": \"scatter\", \"uid\": \"763cc54a-c204-11e8-ad45-a81e84e6c740\"}, {\"name\": \"\\u8303\\u65ed\\u5b81_\\u7535\\u8bdd\\u4f1a\\u8bae\\u6b21\\u6570\", \"x\": [\"8\", \"9\"], \"y\": [0.0, null], \"type\": \"scatter\", \"uid\": \"763cc734-c204-11e8-ad45-a81e84e6c740\"}, {\"name\": \"\\u8303\\u65ed\\u5b81_\\u5916\\u51fa\\u6280\\u672f\\u652f\\u6301\\u6570\", \"x\": [\"8\", \"9\"], \"y\": [0.0, null], \"type\": \"scatter\", \"uid\": \"763cc91e-c204-11e8-ad45-a81e84e6c740\"}, {\"name\": \"\\u8303\\u65ed\\u5b81_\\u5ba2\\u6237\\u6765\\u8bbf\\u63a5\\u5f85\\u6570\", \"x\": [\"8\", \"9\"], \"y\": [0.0, null], \"type\": \"scatter\", \"uid\": \"763ccb26-c204-11e8-ad45-a81e84e6c740\"}, {\"name\": \"\\u8c22\\u5fb7\\u5065_\\u7535\\u8bdd\\u4f1a\\u8bae\\u6b21\\u6570\", \"x\": [\"8\", \"9\"], \"y\": [3.0, null], \"type\": \"scatter\", \"uid\": \"763ccd10-c204-11e8-ad45-a81e84e6c740\"}, {\"name\": \"\\u8c22\\u5fb7\\u5065_\\u5916\\u51fa\\u6280\\u672f\\u652f\\u6301\\u6570\", \"x\": [\"8\", \"9\"], \"y\": [0.0, null], \"type\": \"scatter\", \"uid\": \"763cd094-c204-11e8-ad45-a81e84e6c740\"}, {\"name\": \"\\u8c22\\u5fb7\\u5065_\\u5ba2\\u6237\\u6765\\u8bbf\\u63a5\\u5f85\\u6570\", \"x\": [\"8\", \"9\"], \"y\": [0.0, null], \"type\": \"scatter\", \"uid\": \"763cdada-c204-11e8-ad45-a81e84e6c740\"}, {\"name\": \"\\u8d75\\u73a5_\\u7535\\u8bdd\\u4f1a\\u8bae\\u6b21\\u6570\", \"x\": [\"8\", \"9\"], \"y\": [2.0, null], \"type\": \"scatter\", \"uid\": \"763cdf8a-c204-11e8-ad45-a81e84e6c740\"}, {\"name\": \"\\u8d75\\u73a5_\\u5916\\u51fa\\u6280\\u672f\\u652f\\u6301\\u6570\", \"x\": [\"8\", \"9\"], \"y\": [0.0, null], \"type\": \"scatter\", \"uid\": \"763ce30e-c204-11e8-ad45-a81e84e6c740\"}, {\"name\": \"\\u8d75\\u73a5_\\u5ba2\\u6237\\u6765\\u8bbf\\u63a5\\u5f85\\u6570\", \"x\": [\"8\", \"9\"], \"y\": [0.0, null], \"type\": \"scatter\", \"uid\": \"763ce64c-c204-11e8-ad45-a81e84e6c740\"}, {\"name\": \"\\u8def\\u6167\\u840d_\\u7535\\u8bdd\\u4f1a\\u8bae\\u6b21\\u6570\", \"x\": [\"8\", \"9\"], \"y\": [1.0, 0.0], \"type\": \"scatter\", \"uid\": \"763ce9b2-c204-11e8-ad45-a81e84e6c740\"}, {\"name\": \"\\u8def\\u6167\\u840d_\\u5916\\u51fa\\u6280\\u672f\\u652f\\u6301\\u6570\", \"x\": [\"8\", \"9\"], \"y\": [0.0, 0.0], \"type\": \"scatter\", \"uid\": \"763ced04-c204-11e8-ad45-a81e84e6c740\"}, {\"name\": \"\\u8def\\u6167\\u840d_\\u5ba2\\u6237\\u6765\\u8bbf\\u63a5\\u5f85\\u6570\", \"x\": [\"8\", \"9\"], \"y\": [1.0, 0.0], \"type\": \"scatter\", \"uid\": \"763cf074-c204-11e8-ad45-a81e84e6c740\"}, {\"name\": \"\\u97e9\\u5c11\\u6000_\\u7535\\u8bdd\\u4f1a\\u8bae\\u6b21\\u6570\", \"x\": [\"8\", \"9\"], \"y\": [0.0, null], \"type\": \"scatter\", \"uid\": \"763cf452-c204-11e8-ad45-a81e84e6c740\"}, {\"name\": \"\\u97e9\\u5c11\\u6000_\\u5916\\u51fa\\u6280\\u672f\\u652f\\u6301\\u6570\", \"x\": [\"8\", \"9\"], \"y\": [0.0, null], \"type\": \"scatter\", \"uid\": \"763cf844-c204-11e8-ad45-a81e84e6c740\"}, {\"name\": \"\\u97e9\\u5c11\\u6000_\\u5ba2\\u6237\\u6765\\u8bbf\\u63a5\\u5f85\\u6570\", \"x\": [\"8\", \"9\"], \"y\": [0.0, null], \"type\": \"scatter\", \"uid\": \"763cfbe6-c204-11e8-ad45-a81e84e6c740\"}, {\"name\": \"\\u9a6c\\u6f47_\\u7535\\u8bdd\\u4f1a\\u8bae\\u6b21\\u6570\", \"x\": [\"8\", \"9\"], \"y\": [0.0, null], \"type\": \"scatter\", \"uid\": \"763cff06-c204-11e8-ad45-a81e84e6c740\"}, {\"name\": \"\\u9a6c\\u6f47_\\u5916\\u51fa\\u6280\\u672f\\u652f\\u6301\\u6570\", \"x\": [\"8\", \"9\"], \"y\": [0.0, null], \"type\": \"scatter\", \"uid\": \"763d0212-c204-11e8-ad45-a81e84e6c740\"}, {\"name\": \"\\u9a6c\\u6f47_\\u5ba2\\u6237\\u6765\\u8bbf\\u63a5\\u5f85\\u6570\", \"x\": [\"8\", \"9\"], \"y\": [0.0, null], \"type\": \"scatter\", \"uid\": \"763d0528-c204-11e8-ad45-a81e84e6c740\"}],\n",
       "            {\"title\": \"\\u7535\\u8bdd\\u4f1a\\u8bae\\u6b21\\u6570&\\u5916\\u51fa\\u6280\\u672f\\u652f\\u6301\\u6570&\\u5ba2\\u6237\\u6765\\u8bbf\\u63a5\\u5f85\\u6570\\u6708\\u8d8b\\u52bf\\u56fe\", \"xaxis\": {\"mirror\": \"all\", \"nticks\": 20, \"showgrid\": true, \"showline\": true, \"title\": \"\\u6708\", \"zeroline\": true}, \"yaxis\": {\"mirror\": \"all\", \"nticks\": 20, \"showgrid\": true, \"showline\": true, \"title\": \"\\u7535\\u8bdd\\u4f1a\\u8bae\\u6b21\\u6570&\\u5916\\u51fa\\u6280\\u672f\\u652f\\u6301\\u6570&\\u5ba2\\u6237\\u6765\\u8bbf\\u63a5\\u5f85\\u6570\", \"zeroline\": true}},\n",
       "            {\"showLink\": true, \"linkText\": \"Export to plot.ly\"}\n",
       "        ).then(function () {return Plotly.addFrames('918cfe47-0ed6-4164-aa7f-12c058ca9bd3',{});}).then(function(){Plotly.animate('918cfe47-0ed6-4164-aa7f-12c058ca9bd3');})\n",
       "        });</script>"
      ],
      "text/vnd.plotly.v1+html": [
       "<div id=\"918cfe47-0ed6-4164-aa7f-12c058ca9bd3\" style=\"height: 525px; width: 100%;\" class=\"plotly-graph-div\"></div><script type=\"text/javascript\">require([\"plotly\"], function(Plotly) { window.PLOTLYENV=window.PLOTLYENV || {};window.PLOTLYENV.BASE_URL=\"https://plot.ly\";\n",
       "        Plotly.plot(\n",
       "            '918cfe47-0ed6-4164-aa7f-12c058ca9bd3',\n",
       "            [{\"name\": \"\\u4e8e\\u52c7\\u4e00_\\u7535\\u8bdd\\u4f1a\\u8bae\\u6b21\\u6570\", \"x\": [\"8\", \"9\"], \"y\": [0.0, 0.0], \"type\": \"scatter\", \"uid\": \"763c5f74-c204-11e8-ad45-a81e84e6c740\"}, {\"name\": \"\\u4e8e\\u52c7\\u4e00_\\u5916\\u51fa\\u6280\\u672f\\u652f\\u6301\\u6570\", \"x\": [\"8\", \"9\"], \"y\": [0.0, 0.0], \"type\": \"scatter\", \"uid\": \"763c6352-c204-11e8-ad45-a81e84e6c740\"}, {\"name\": \"\\u4e8e\\u52c7\\u4e00_\\u5ba2\\u6237\\u6765\\u8bbf\\u63a5\\u5f85\\u6570\", \"x\": [\"8\", \"9\"], \"y\": [0.0, 0.0], \"type\": \"scatter\", \"uid\": \"763c65aa-c204-11e8-ad45-a81e84e6c740\"}, {\"name\": \"\\u4e8e\\u6167_\\u7535\\u8bdd\\u4f1a\\u8bae\\u6b21\\u6570\", \"x\": [\"8\", \"9\"], \"y\": [0.0, 0.0], \"type\": \"scatter\", \"uid\": \"763c67d0-c204-11e8-ad45-a81e84e6c740\"}, {\"name\": \"\\u4e8e\\u6167_\\u5916\\u51fa\\u6280\\u672f\\u652f\\u6301\\u6570\", \"x\": [\"8\", \"9\"], \"y\": [0.0, 0.0], \"type\": \"scatter\", \"uid\": \"763c69d8-c204-11e8-ad45-a81e84e6c740\"}, {\"name\": \"\\u4e8e\\u6167_\\u5ba2\\u6237\\u6765\\u8bbf\\u63a5\\u5f85\\u6570\", \"x\": [\"8\", \"9\"], \"y\": [0.0, 0.0], \"type\": \"scatter\", \"uid\": \"763c6be0-c204-11e8-ad45-a81e84e6c740\"}, {\"name\": \"\\u4efb\\u96ea_\\u7535\\u8bdd\\u4f1a\\u8bae\\u6b21\\u6570\", \"x\": [\"8\", \"9\"], \"y\": [null, 0.0], \"type\": \"scatter\", \"uid\": \"763c6dfc-c204-11e8-ad45-a81e84e6c740\"}, {\"name\": \"\\u4efb\\u96ea_\\u5916\\u51fa\\u6280\\u672f\\u652f\\u6301\\u6570\", \"x\": [\"8\", \"9\"], \"y\": [null, 0.0], \"type\": \"scatter\", \"uid\": \"763c6ff0-c204-11e8-ad45-a81e84e6c740\"}, {\"name\": \"\\u4efb\\u96ea_\\u5ba2\\u6237\\u6765\\u8bbf\\u63a5\\u5f85\\u6570\", \"x\": [\"8\", \"9\"], \"y\": [null, 1.0], \"type\": \"scatter\", \"uid\": \"763c71e4-c204-11e8-ad45-a81e84e6c740\"}, {\"name\": \"\\u5218\\u6167\\u73b2_\\u7535\\u8bdd\\u4f1a\\u8bae\\u6b21\\u6570\", \"x\": [\"8\", \"9\"], \"y\": [0.0, null], \"type\": \"scatter\", \"uid\": \"763c73ec-c204-11e8-ad45-a81e84e6c740\"}, {\"name\": \"\\u5218\\u6167\\u73b2_\\u5916\\u51fa\\u6280\\u672f\\u652f\\u6301\\u6570\", \"x\": [\"8\", \"9\"], \"y\": [0.0, null], \"type\": \"scatter\", \"uid\": \"763c75e0-c204-11e8-ad45-a81e84e6c740\"}, {\"name\": \"\\u5218\\u6167\\u73b2_\\u5ba2\\u6237\\u6765\\u8bbf\\u63a5\\u5f85\\u6570\", \"x\": [\"8\", \"9\"], \"y\": [0.0, null], \"type\": \"scatter\", \"uid\": \"763c77de-c204-11e8-ad45-a81e84e6c740\"}, {\"name\": \"\\u5218\\u6c5f_\\u7535\\u8bdd\\u4f1a\\u8bae\\u6b21\\u6570\", \"x\": [\"8\", \"9\"], \"y\": [2.0, 3.0], \"type\": \"scatter\", \"uid\": \"763c79d2-c204-11e8-ad45-a81e84e6c740\"}, {\"name\": \"\\u5218\\u6c5f_\\u5916\\u51fa\\u6280\\u672f\\u652f\\u6301\\u6570\", \"x\": [\"8\", \"9\"], \"y\": [0.0, 0.0], \"type\": \"scatter\", \"uid\": \"763c7bbc-c204-11e8-ad45-a81e84e6c740\"}, {\"name\": \"\\u5218\\u6c5f_\\u5ba2\\u6237\\u6765\\u8bbf\\u63a5\\u5f85\\u6570\", \"x\": [\"8\", \"9\"], \"y\": [1.0, 0.0], \"type\": \"scatter\", \"uid\": \"763c7db0-c204-11e8-ad45-a81e84e6c740\"}, {\"name\": \"\\u5360\\u4f1f_\\u7535\\u8bdd\\u4f1a\\u8bae\\u6b21\\u6570\", \"x\": [\"8\", \"9\"], \"y\": [1.0, null], \"type\": \"scatter\", \"uid\": \"763c7fa4-c204-11e8-ad45-a81e84e6c740\"}, {\"name\": \"\\u5360\\u4f1f_\\u5916\\u51fa\\u6280\\u672f\\u652f\\u6301\\u6570\", \"x\": [\"8\", \"9\"], \"y\": [0.0, null], \"type\": \"scatter\", \"uid\": \"763c8198-c204-11e8-ad45-a81e84e6c740\"}, {\"name\": \"\\u5360\\u4f1f_\\u5ba2\\u6237\\u6765\\u8bbf\\u63a5\\u5f85\\u6570\", \"x\": [\"8\", \"9\"], \"y\": [0.0, null], \"type\": \"scatter\", \"uid\": \"763c8468-c204-11e8-ad45-a81e84e6c740\"}, {\"name\": \"\\u5468\\u6768_\\u7535\\u8bdd\\u4f1a\\u8bae\\u6b21\\u6570\", \"x\": [\"8\", \"9\"], \"y\": [1.0, 0.0], \"type\": \"scatter\", \"uid\": \"763c868e-c204-11e8-ad45-a81e84e6c740\"}, {\"name\": \"\\u5468\\u6768_\\u5916\\u51fa\\u6280\\u672f\\u652f\\u6301\\u6570\", \"x\": [\"8\", \"9\"], \"y\": [0.0, 0.0], \"type\": \"scatter\", \"uid\": \"763c8896-c204-11e8-ad45-a81e84e6c740\"}, {\"name\": \"\\u5468\\u6768_\\u5ba2\\u6237\\u6765\\u8bbf\\u63a5\\u5f85\\u6570\", \"x\": [\"8\", \"9\"], \"y\": [0.0, 0.0], \"type\": \"scatter\", \"uid\": \"763c8a9e-c204-11e8-ad45-a81e84e6c740\"}, {\"name\": \"\\u59da\\u76df\\u6210_\\u7535\\u8bdd\\u4f1a\\u8bae\\u6b21\\u6570\", \"x\": [\"8\", \"9\"], \"y\": [1.0, 2.0], \"type\": \"scatter\", \"uid\": \"763c8c92-c204-11e8-ad45-a81e84e6c740\"}, {\"name\": \"\\u59da\\u76df\\u6210_\\u5916\\u51fa\\u6280\\u672f\\u652f\\u6301\\u6570\", \"x\": [\"8\", \"9\"], \"y\": [0.0, 0.0], \"type\": \"scatter\", \"uid\": \"763c8e7c-c204-11e8-ad45-a81e84e6c740\"}, {\"name\": \"\\u59da\\u76df\\u6210_\\u5ba2\\u6237\\u6765\\u8bbf\\u63a5\\u5f85\\u6570\", \"x\": [\"8\", \"9\"], \"y\": [0.0, 0.0], \"type\": \"scatter\", \"uid\": \"763c9070-c204-11e8-ad45-a81e84e6c740\"}, {\"name\": \"\\u5b5f\\u660a_\\u7535\\u8bdd\\u4f1a\\u8bae\\u6b21\\u6570\", \"x\": [\"8\", \"9\"], \"y\": [0.0, 0.0], \"type\": \"scatter\", \"uid\": \"763c9264-c204-11e8-ad45-a81e84e6c740\"}, {\"name\": \"\\u5b5f\\u660a_\\u5916\\u51fa\\u6280\\u672f\\u652f\\u6301\\u6570\", \"x\": [\"8\", \"9\"], \"y\": [0.0, 0.0], \"type\": \"scatter\", \"uid\": \"763c9458-c204-11e8-ad45-a81e84e6c740\"}, {\"name\": \"\\u5b5f\\u660a_\\u5ba2\\u6237\\u6765\\u8bbf\\u63a5\\u5f85\\u6570\", \"x\": [\"8\", \"9\"], \"y\": [0.0, 0.0], \"type\": \"scatter\", \"uid\": \"763c964c-c204-11e8-ad45-a81e84e6c740\"}, {\"name\": \"\\u5b8b\\u8fce\\u6960_\\u7535\\u8bdd\\u4f1a\\u8bae\\u6b21\\u6570\", \"x\": [\"8\", \"9\"], \"y\": [0.0, null], \"type\": \"scatter\", \"uid\": \"763c9840-c204-11e8-ad45-a81e84e6c740\"}, {\"name\": \"\\u5b8b\\u8fce\\u6960_\\u5916\\u51fa\\u6280\\u672f\\u652f\\u6301\\u6570\", \"x\": [\"8\", \"9\"], \"y\": [0.0, null], \"type\": \"scatter\", \"uid\": \"763c9a34-c204-11e8-ad45-a81e84e6c740\"}, {\"name\": \"\\u5b8b\\u8fce\\u6960_\\u5ba2\\u6237\\u6765\\u8bbf\\u63a5\\u5f85\\u6570\", \"x\": [\"8\", \"9\"], \"y\": [0.0, null], \"type\": \"scatter\", \"uid\": \"763c9c32-c204-11e8-ad45-a81e84e6c740\"}, {\"name\": \"\\u5c01\\u5f66\\u6770_\\u7535\\u8bdd\\u4f1a\\u8bae\\u6b21\\u6570\", \"x\": [\"8\", \"9\"], \"y\": [0.0, 2.0], \"type\": \"scatter\", \"uid\": \"763c9e1c-c204-11e8-ad45-a81e84e6c740\"}, {\"name\": \"\\u5c01\\u5f66\\u6770_\\u5916\\u51fa\\u6280\\u672f\\u652f\\u6301\\u6570\", \"x\": [\"8\", \"9\"], \"y\": [0.0, 0.0], \"type\": \"scatter\", \"uid\": \"763ca010-c204-11e8-ad45-a81e84e6c740\"}, {\"name\": \"\\u5c01\\u5f66\\u6770_\\u5ba2\\u6237\\u6765\\u8bbf\\u63a5\\u5f85\\u6570\", \"x\": [\"8\", \"9\"], \"y\": [0.0, 0.0], \"type\": \"scatter\", \"uid\": \"763ca20e-c204-11e8-ad45-a81e84e6c740\"}, {\"name\": \"\\u5f20\\u5b88\\u4f1f_\\u7535\\u8bdd\\u4f1a\\u8bae\\u6b21\\u6570\", \"x\": [\"8\", \"9\"], \"y\": [0.0, null], \"type\": \"scatter\", \"uid\": \"763ca3f8-c204-11e8-ad45-a81e84e6c740\"}, {\"name\": \"\\u5f20\\u5b88\\u4f1f_\\u5916\\u51fa\\u6280\\u672f\\u652f\\u6301\\u6570\", \"x\": [\"8\", \"9\"], \"y\": [0.0, null], \"type\": \"scatter\", \"uid\": \"763ca614-c204-11e8-ad45-a81e84e6c740\"}, {\"name\": \"\\u5f20\\u5b88\\u4f1f_\\u5ba2\\u6237\\u6765\\u8bbf\\u63a5\\u5f85\\u6570\", \"x\": [\"8\", \"9\"], \"y\": [0.0, null], \"type\": \"scatter\", \"uid\": \"763ca808-c204-11e8-ad45-a81e84e6c740\"}, {\"name\": \"\\u674e\\u534e\\u4e91_\\u7535\\u8bdd\\u4f1a\\u8bae\\u6b21\\u6570\", \"x\": [\"8\", \"9\"], \"y\": [0.0, 1.0], \"type\": \"scatter\", \"uid\": \"763caa38-c204-11e8-ad45-a81e84e6c740\"}, {\"name\": \"\\u674e\\u534e\\u4e91_\\u5916\\u51fa\\u6280\\u672f\\u652f\\u6301\\u6570\", \"x\": [\"8\", \"9\"], \"y\": [0.0, 0.0], \"type\": \"scatter\", \"uid\": \"763cac36-c204-11e8-ad45-a81e84e6c740\"}, {\"name\": \"\\u674e\\u534e\\u4e91_\\u5ba2\\u6237\\u6765\\u8bbf\\u63a5\\u5f85\\u6570\", \"x\": [\"8\", \"9\"], \"y\": [0.0, 0.0], \"type\": \"scatter\", \"uid\": \"763cae2a-c204-11e8-ad45-a81e84e6c740\"}, {\"name\": \"\\u674e\\u5e86\\u539f_\\u7535\\u8bdd\\u4f1a\\u8bae\\u6b21\\u6570\", \"x\": [\"8\", \"9\"], \"y\": [2.0, 2.0], \"type\": \"scatter\", \"uid\": \"763cb014-c204-11e8-ad45-a81e84e6c740\"}, {\"name\": \"\\u674e\\u5e86\\u539f_\\u5916\\u51fa\\u6280\\u672f\\u652f\\u6301\\u6570\", \"x\": [\"8\", \"9\"], \"y\": [0.0, 0.0], \"type\": \"scatter\", \"uid\": \"763cb208-c204-11e8-ad45-a81e84e6c740\"}, {\"name\": \"\\u674e\\u5e86\\u539f_\\u5ba2\\u6237\\u6765\\u8bbf\\u63a5\\u5f85\\u6570\", \"x\": [\"8\", \"9\"], \"y\": [1.0, 0.0], \"type\": \"scatter\", \"uid\": \"763cb3f2-c204-11e8-ad45-a81e84e6c740\"}, {\"name\": \"\\u6768\\u4f1f\\u98de_\\u7535\\u8bdd\\u4f1a\\u8bae\\u6b21\\u6570\", \"x\": [\"8\", \"9\"], \"y\": [0.0, 4.0], \"type\": \"scatter\", \"uid\": \"763cb5dc-c204-11e8-ad45-a81e84e6c740\"}, {\"name\": \"\\u6768\\u4f1f\\u98de_\\u5916\\u51fa\\u6280\\u672f\\u652f\\u6301\\u6570\", \"x\": [\"8\", \"9\"], \"y\": [0.0, 0.0], \"type\": \"scatter\", \"uid\": \"763cb7d0-c204-11e8-ad45-a81e84e6c740\"}, {\"name\": \"\\u6768\\u4f1f\\u98de_\\u5ba2\\u6237\\u6765\\u8bbf\\u63a5\\u5f85\\u6570\", \"x\": [\"8\", \"9\"], \"y\": [0.0, 0.0], \"type\": \"scatter\", \"uid\": \"763cb9c4-c204-11e8-ad45-a81e84e6c740\"}, {\"name\": \"\\u738b\\u5b81_\\u7535\\u8bdd\\u4f1a\\u8bae\\u6b21\\u6570\", \"x\": [\"8\", \"9\"], \"y\": [1.0, null], \"type\": \"scatter\", \"uid\": \"763cbbae-c204-11e8-ad45-a81e84e6c740\"}, {\"name\": \"\\u738b\\u5b81_\\u5916\\u51fa\\u6280\\u672f\\u652f\\u6301\\u6570\", \"x\": [\"8\", \"9\"], \"y\": [0.0, null], \"type\": \"scatter\", \"uid\": \"763cbd98-c204-11e8-ad45-a81e84e6c740\"}, {\"name\": \"\\u738b\\u5b81_\\u5ba2\\u6237\\u6765\\u8bbf\\u63a5\\u5f85\\u6570\", \"x\": [\"8\", \"9\"], \"y\": [0.0, null], \"type\": \"scatter\", \"uid\": \"763cbf82-c204-11e8-ad45-a81e84e6c740\"}, {\"name\": \"\\u82cf\\u5f66\\u52cb_\\u7535\\u8bdd\\u4f1a\\u8bae\\u6b21\\u6570\", \"x\": [\"8\", \"9\"], \"y\": [0.0, 0.0], \"type\": \"scatter\", \"uid\": \"763cc16c-c204-11e8-ad45-a81e84e6c740\"}, {\"name\": \"\\u82cf\\u5f66\\u52cb_\\u5916\\u51fa\\u6280\\u672f\\u652f\\u6301\\u6570\", \"x\": [\"8\", \"9\"], \"y\": [0.0, 0.0], \"type\": \"scatter\", \"uid\": \"763cc360-c204-11e8-ad45-a81e84e6c740\"}, {\"name\": \"\\u82cf\\u5f66\\u52cb_\\u5ba2\\u6237\\u6765\\u8bbf\\u63a5\\u5f85\\u6570\", \"x\": [\"8\", \"9\"], \"y\": [0.0, 0.0], \"type\": \"scatter\", \"uid\": \"763cc54a-c204-11e8-ad45-a81e84e6c740\"}, {\"name\": \"\\u8303\\u65ed\\u5b81_\\u7535\\u8bdd\\u4f1a\\u8bae\\u6b21\\u6570\", \"x\": [\"8\", \"9\"], \"y\": [0.0, null], \"type\": \"scatter\", \"uid\": \"763cc734-c204-11e8-ad45-a81e84e6c740\"}, {\"name\": \"\\u8303\\u65ed\\u5b81_\\u5916\\u51fa\\u6280\\u672f\\u652f\\u6301\\u6570\", \"x\": [\"8\", \"9\"], \"y\": [0.0, null], \"type\": \"scatter\", \"uid\": \"763cc91e-c204-11e8-ad45-a81e84e6c740\"}, {\"name\": \"\\u8303\\u65ed\\u5b81_\\u5ba2\\u6237\\u6765\\u8bbf\\u63a5\\u5f85\\u6570\", \"x\": [\"8\", \"9\"], \"y\": [0.0, null], \"type\": \"scatter\", \"uid\": \"763ccb26-c204-11e8-ad45-a81e84e6c740\"}, {\"name\": \"\\u8c22\\u5fb7\\u5065_\\u7535\\u8bdd\\u4f1a\\u8bae\\u6b21\\u6570\", \"x\": [\"8\", \"9\"], \"y\": [3.0, null], \"type\": \"scatter\", \"uid\": \"763ccd10-c204-11e8-ad45-a81e84e6c740\"}, {\"name\": \"\\u8c22\\u5fb7\\u5065_\\u5916\\u51fa\\u6280\\u672f\\u652f\\u6301\\u6570\", \"x\": [\"8\", \"9\"], \"y\": [0.0, null], \"type\": \"scatter\", \"uid\": \"763cd094-c204-11e8-ad45-a81e84e6c740\"}, {\"name\": \"\\u8c22\\u5fb7\\u5065_\\u5ba2\\u6237\\u6765\\u8bbf\\u63a5\\u5f85\\u6570\", \"x\": [\"8\", \"9\"], \"y\": [0.0, null], \"type\": \"scatter\", \"uid\": \"763cdada-c204-11e8-ad45-a81e84e6c740\"}, {\"name\": \"\\u8d75\\u73a5_\\u7535\\u8bdd\\u4f1a\\u8bae\\u6b21\\u6570\", \"x\": [\"8\", \"9\"], \"y\": [2.0, null], \"type\": \"scatter\", \"uid\": \"763cdf8a-c204-11e8-ad45-a81e84e6c740\"}, {\"name\": \"\\u8d75\\u73a5_\\u5916\\u51fa\\u6280\\u672f\\u652f\\u6301\\u6570\", \"x\": [\"8\", \"9\"], \"y\": [0.0, null], \"type\": \"scatter\", \"uid\": \"763ce30e-c204-11e8-ad45-a81e84e6c740\"}, {\"name\": \"\\u8d75\\u73a5_\\u5ba2\\u6237\\u6765\\u8bbf\\u63a5\\u5f85\\u6570\", \"x\": [\"8\", \"9\"], \"y\": [0.0, null], \"type\": \"scatter\", \"uid\": \"763ce64c-c204-11e8-ad45-a81e84e6c740\"}, {\"name\": \"\\u8def\\u6167\\u840d_\\u7535\\u8bdd\\u4f1a\\u8bae\\u6b21\\u6570\", \"x\": [\"8\", \"9\"], \"y\": [1.0, 0.0], \"type\": \"scatter\", \"uid\": \"763ce9b2-c204-11e8-ad45-a81e84e6c740\"}, {\"name\": \"\\u8def\\u6167\\u840d_\\u5916\\u51fa\\u6280\\u672f\\u652f\\u6301\\u6570\", \"x\": [\"8\", \"9\"], \"y\": [0.0, 0.0], \"type\": \"scatter\", \"uid\": \"763ced04-c204-11e8-ad45-a81e84e6c740\"}, {\"name\": \"\\u8def\\u6167\\u840d_\\u5ba2\\u6237\\u6765\\u8bbf\\u63a5\\u5f85\\u6570\", \"x\": [\"8\", \"9\"], \"y\": [1.0, 0.0], \"type\": \"scatter\", \"uid\": \"763cf074-c204-11e8-ad45-a81e84e6c740\"}, {\"name\": \"\\u97e9\\u5c11\\u6000_\\u7535\\u8bdd\\u4f1a\\u8bae\\u6b21\\u6570\", \"x\": [\"8\", \"9\"], \"y\": [0.0, null], \"type\": \"scatter\", \"uid\": \"763cf452-c204-11e8-ad45-a81e84e6c740\"}, {\"name\": \"\\u97e9\\u5c11\\u6000_\\u5916\\u51fa\\u6280\\u672f\\u652f\\u6301\\u6570\", \"x\": [\"8\", \"9\"], \"y\": [0.0, null], \"type\": \"scatter\", \"uid\": \"763cf844-c204-11e8-ad45-a81e84e6c740\"}, {\"name\": \"\\u97e9\\u5c11\\u6000_\\u5ba2\\u6237\\u6765\\u8bbf\\u63a5\\u5f85\\u6570\", \"x\": [\"8\", \"9\"], \"y\": [0.0, null], \"type\": \"scatter\", \"uid\": \"763cfbe6-c204-11e8-ad45-a81e84e6c740\"}, {\"name\": \"\\u9a6c\\u6f47_\\u7535\\u8bdd\\u4f1a\\u8bae\\u6b21\\u6570\", \"x\": [\"8\", \"9\"], \"y\": [0.0, null], \"type\": \"scatter\", \"uid\": \"763cff06-c204-11e8-ad45-a81e84e6c740\"}, {\"name\": \"\\u9a6c\\u6f47_\\u5916\\u51fa\\u6280\\u672f\\u652f\\u6301\\u6570\", \"x\": [\"8\", \"9\"], \"y\": [0.0, null], \"type\": \"scatter\", \"uid\": \"763d0212-c204-11e8-ad45-a81e84e6c740\"}, {\"name\": \"\\u9a6c\\u6f47_\\u5ba2\\u6237\\u6765\\u8bbf\\u63a5\\u5f85\\u6570\", \"x\": [\"8\", \"9\"], \"y\": [0.0, null], \"type\": \"scatter\", \"uid\": \"763d0528-c204-11e8-ad45-a81e84e6c740\"}],\n",
       "            {\"title\": \"\\u7535\\u8bdd\\u4f1a\\u8bae\\u6b21\\u6570&\\u5916\\u51fa\\u6280\\u672f\\u652f\\u6301\\u6570&\\u5ba2\\u6237\\u6765\\u8bbf\\u63a5\\u5f85\\u6570\\u6708\\u8d8b\\u52bf\\u56fe\", \"xaxis\": {\"mirror\": \"all\", \"nticks\": 20, \"showgrid\": true, \"showline\": true, \"title\": \"\\u6708\", \"zeroline\": true}, \"yaxis\": {\"mirror\": \"all\", \"nticks\": 20, \"showgrid\": true, \"showline\": true, \"title\": \"\\u7535\\u8bdd\\u4f1a\\u8bae\\u6b21\\u6570&\\u5916\\u51fa\\u6280\\u672f\\u652f\\u6301\\u6570&\\u5ba2\\u6237\\u6765\\u8bbf\\u63a5\\u5f85\\u6570\", \"zeroline\": true}},\n",
       "            {\"showLink\": true, \"linkText\": \"Export to plot.ly\"}\n",
       "        ).then(function () {return Plotly.addFrames('918cfe47-0ed6-4164-aa7f-12c058ca9bd3',{});}).then(function(){Plotly.animate('918cfe47-0ed6-4164-aa7f-12c058ca9bd3');})\n",
       "        });</script>"
      ]
     },
     "metadata": {},
     "output_type": "display_data"
    }
   ],
   "source": [
    "data_dict = {'电话会议次数': ['电话会议次数'],\\\n",
    "             '外出技术支持数': ['外出技术支持数'], '客户来访接待数': ['客户来访接待数']}\n",
    "myModule.plot( all_dict, data_dict, '负责人' ,  'line' , all='')"
   ]
  },
  {
   "cell_type": "markdown",
   "metadata": {},
   "source": [
    "# 研发组产品情况"
   ]
  },
  {
   "cell_type": "markdown",
   "metadata": {
    "hide_input": true
   },
   "source": [
    "## 整体情况"
   ]
  },
  {
   "cell_type": "markdown",
   "metadata": {},
   "source": [
    "### 转产情况"
   ]
  },
  {
   "cell_type": "markdown",
   "metadata": {},
   "source": [
    "#### 转产通过数、一次转产通过数和通过率"
   ]
  },
  {
   "cell_type": "code",
   "execution_count": 20,
   "metadata": {},
   "outputs": [
    {
     "data": {
      "application/vnd.plotly.v1+json": {
       "data": [
        {
         "name": "转产通过数",
         "type": "scatter",
         "uid": "767288f6-c204-11e8-ad45-a81e84e6c740",
         "x": [
          "8-3",
          "8-4",
          "9-1",
          "9-2",
          "9-3"
         ],
         "y": [
          2,
          6,
          2,
          0,
          1
         ]
        },
        {
         "name": "一次转产通过数",
         "type": "scatter",
         "uid": "76728db0-c204-11e8-ad45-a81e84e6c740",
         "x": [
          "8-3",
          "8-4",
          "9-1",
          "9-2",
          "9-3"
         ],
         "y": [
          2,
          6,
          2,
          0,
          1
         ]
        },
        {
         "name": "通过率",
         "type": "scatter",
         "uid": "767290c6-c204-11e8-ad45-a81e84e6c740",
         "x": [
          "8-3",
          "8-4",
          "9-1",
          "9-2",
          "9-3"
         ],
         "y": [
          1,
          1,
          1,
          null,
          1
         ]
        }
       ],
       "layout": {
        "title": "转产通过数&一次转产通过数&通过率周趋势图",
        "xaxis": {
         "mirror": "all",
         "nticks": 20,
         "showgrid": true,
         "showline": true,
         "title": "周",
         "zeroline": true
        },
        "yaxis": {
         "mirror": "all",
         "nticks": 20,
         "showgrid": true,
         "showline": true,
         "title": "转产通过数&一次转产通过数&通过率",
         "zeroline": true
        }
       }
      },
      "text/html": [
       "<div id=\"ebf7a3e8-77af-4a25-87bf-499101775e04\" style=\"height: 525px; width: 100%;\" class=\"plotly-graph-div\"></div><script type=\"text/javascript\">require([\"plotly\"], function(Plotly) { window.PLOTLYENV=window.PLOTLYENV || {};window.PLOTLYENV.BASE_URL=\"https://plot.ly\";\n",
       "        Plotly.plot(\n",
       "            'ebf7a3e8-77af-4a25-87bf-499101775e04',\n",
       "            [{\"name\": \"\\u8f6c\\u4ea7\\u901a\\u8fc7\\u6570\", \"x\": [\"8-3\", \"8-4\", \"9-1\", \"9-2\", \"9-3\"], \"y\": [2.0, 6.0, 2.0, 0.0, 1.0], \"type\": \"scatter\", \"uid\": \"767288f6-c204-11e8-ad45-a81e84e6c740\"}, {\"name\": \"\\u4e00\\u6b21\\u8f6c\\u4ea7\\u901a\\u8fc7\\u6570\", \"x\": [\"8-3\", \"8-4\", \"9-1\", \"9-2\", \"9-3\"], \"y\": [2.0, 6.0, 2.0, 0.0, 1.0], \"type\": \"scatter\", \"uid\": \"76728db0-c204-11e8-ad45-a81e84e6c740\"}, {\"name\": \"\\u901a\\u8fc7\\u7387\", \"x\": [\"8-3\", \"8-4\", \"9-1\", \"9-2\", \"9-3\"], \"y\": [1.0, 1.0, 1.0, null, 1.0], \"type\": \"scatter\", \"uid\": \"767290c6-c204-11e8-ad45-a81e84e6c740\"}],\n",
       "            {\"title\": \"\\u8f6c\\u4ea7\\u901a\\u8fc7\\u6570&\\u4e00\\u6b21\\u8f6c\\u4ea7\\u901a\\u8fc7\\u6570&\\u901a\\u8fc7\\u7387\\u5468\\u8d8b\\u52bf\\u56fe\", \"xaxis\": {\"mirror\": \"all\", \"nticks\": 20, \"showgrid\": true, \"showline\": true, \"title\": \"\\u5468\", \"zeroline\": true}, \"yaxis\": {\"mirror\": \"all\", \"nticks\": 20, \"showgrid\": true, \"showline\": true, \"title\": \"\\u8f6c\\u4ea7\\u901a\\u8fc7\\u6570&\\u4e00\\u6b21\\u8f6c\\u4ea7\\u901a\\u8fc7\\u6570&\\u901a\\u8fc7\\u7387\", \"zeroline\": true}},\n",
       "            {\"showLink\": true, \"linkText\": \"Export to plot.ly\"}\n",
       "        ).then(function () {return Plotly.addFrames('ebf7a3e8-77af-4a25-87bf-499101775e04',{});}).then(function(){Plotly.animate('ebf7a3e8-77af-4a25-87bf-499101775e04');})\n",
       "        });</script>"
      ],
      "text/vnd.plotly.v1+html": [
       "<div id=\"ebf7a3e8-77af-4a25-87bf-499101775e04\" style=\"height: 525px; width: 100%;\" class=\"plotly-graph-div\"></div><script type=\"text/javascript\">require([\"plotly\"], function(Plotly) { window.PLOTLYENV=window.PLOTLYENV || {};window.PLOTLYENV.BASE_URL=\"https://plot.ly\";\n",
       "        Plotly.plot(\n",
       "            'ebf7a3e8-77af-4a25-87bf-499101775e04',\n",
       "            [{\"name\": \"\\u8f6c\\u4ea7\\u901a\\u8fc7\\u6570\", \"x\": [\"8-3\", \"8-4\", \"9-1\", \"9-2\", \"9-3\"], \"y\": [2.0, 6.0, 2.0, 0.0, 1.0], \"type\": \"scatter\", \"uid\": \"767288f6-c204-11e8-ad45-a81e84e6c740\"}, {\"name\": \"\\u4e00\\u6b21\\u8f6c\\u4ea7\\u901a\\u8fc7\\u6570\", \"x\": [\"8-3\", \"8-4\", \"9-1\", \"9-2\", \"9-3\"], \"y\": [2.0, 6.0, 2.0, 0.0, 1.0], \"type\": \"scatter\", \"uid\": \"76728db0-c204-11e8-ad45-a81e84e6c740\"}, {\"name\": \"\\u901a\\u8fc7\\u7387\", \"x\": [\"8-3\", \"8-4\", \"9-1\", \"9-2\", \"9-3\"], \"y\": [1.0, 1.0, 1.0, null, 1.0], \"type\": \"scatter\", \"uid\": \"767290c6-c204-11e8-ad45-a81e84e6c740\"}],\n",
       "            {\"title\": \"\\u8f6c\\u4ea7\\u901a\\u8fc7\\u6570&\\u4e00\\u6b21\\u8f6c\\u4ea7\\u901a\\u8fc7\\u6570&\\u901a\\u8fc7\\u7387\\u5468\\u8d8b\\u52bf\\u56fe\", \"xaxis\": {\"mirror\": \"all\", \"nticks\": 20, \"showgrid\": true, \"showline\": true, \"title\": \"\\u5468\", \"zeroline\": true}, \"yaxis\": {\"mirror\": \"all\", \"nticks\": 20, \"showgrid\": true, \"showline\": true, \"title\": \"\\u8f6c\\u4ea7\\u901a\\u8fc7\\u6570&\\u4e00\\u6b21\\u8f6c\\u4ea7\\u901a\\u8fc7\\u6570&\\u901a\\u8fc7\\u7387\", \"zeroline\": true}},\n",
       "            {\"showLink\": true, \"linkText\": \"Export to plot.ly\"}\n",
       "        ).then(function () {return Plotly.addFrames('ebf7a3e8-77af-4a25-87bf-499101775e04',{});}).then(function(){Plotly.animate('ebf7a3e8-77af-4a25-87bf-499101775e04');})\n",
       "        });</script>"
      ]
     },
     "metadata": {},
     "output_type": "display_data"
    },
    {
     "data": {
      "application/vnd.plotly.v1+json": {
       "data": [
        {
         "name": "转产通过数",
         "type": "scatter",
         "uid": "768266ea-c204-11e8-ad45-a81e84e6c740",
         "x": [
          "8",
          "9"
         ],
         "y": [
          8,
          3
         ]
        },
        {
         "name": "一次转产通过数",
         "type": "scatter",
         "uid": "76826abe-c204-11e8-ad45-a81e84e6c740",
         "x": [
          "8",
          "9"
         ],
         "y": [
          8,
          3
         ]
        },
        {
         "name": "通过率",
         "type": "scatter",
         "uid": "76826d34-c204-11e8-ad45-a81e84e6c740",
         "x": [
          "8",
          "9"
         ],
         "y": [
          1,
          1
         ]
        }
       ],
       "layout": {
        "title": "转产通过数&一次转产通过数&通过率月趋势图",
        "xaxis": {
         "mirror": "all",
         "nticks": 20,
         "showgrid": true,
         "showline": true,
         "title": "月",
         "zeroline": true
        },
        "yaxis": {
         "mirror": "all",
         "nticks": 20,
         "showgrid": true,
         "showline": true,
         "title": "转产通过数&一次转产通过数&通过率",
         "zeroline": true
        }
       }
      },
      "text/html": [
       "<div id=\"ad92b0f1-052d-4ae3-bbb4-1bccab1e52a0\" style=\"height: 525px; width: 100%;\" class=\"plotly-graph-div\"></div><script type=\"text/javascript\">require([\"plotly\"], function(Plotly) { window.PLOTLYENV=window.PLOTLYENV || {};window.PLOTLYENV.BASE_URL=\"https://plot.ly\";\n",
       "        Plotly.plot(\n",
       "            'ad92b0f1-052d-4ae3-bbb4-1bccab1e52a0',\n",
       "            [{\"name\": \"\\u8f6c\\u4ea7\\u901a\\u8fc7\\u6570\", \"x\": [\"8\", \"9\"], \"y\": [8.0, 3.0], \"type\": \"scatter\", \"uid\": \"768266ea-c204-11e8-ad45-a81e84e6c740\"}, {\"name\": \"\\u4e00\\u6b21\\u8f6c\\u4ea7\\u901a\\u8fc7\\u6570\", \"x\": [\"8\", \"9\"], \"y\": [8.0, 3.0], \"type\": \"scatter\", \"uid\": \"76826abe-c204-11e8-ad45-a81e84e6c740\"}, {\"name\": \"\\u901a\\u8fc7\\u7387\", \"x\": [\"8\", \"9\"], \"y\": [1.0, 1.0], \"type\": \"scatter\", \"uid\": \"76826d34-c204-11e8-ad45-a81e84e6c740\"}],\n",
       "            {\"title\": \"\\u8f6c\\u4ea7\\u901a\\u8fc7\\u6570&\\u4e00\\u6b21\\u8f6c\\u4ea7\\u901a\\u8fc7\\u6570&\\u901a\\u8fc7\\u7387\\u6708\\u8d8b\\u52bf\\u56fe\", \"xaxis\": {\"mirror\": \"all\", \"nticks\": 20, \"showgrid\": true, \"showline\": true, \"title\": \"\\u6708\", \"zeroline\": true}, \"yaxis\": {\"mirror\": \"all\", \"nticks\": 20, \"showgrid\": true, \"showline\": true, \"title\": \"\\u8f6c\\u4ea7\\u901a\\u8fc7\\u6570&\\u4e00\\u6b21\\u8f6c\\u4ea7\\u901a\\u8fc7\\u6570&\\u901a\\u8fc7\\u7387\", \"zeroline\": true}},\n",
       "            {\"showLink\": true, \"linkText\": \"Export to plot.ly\"}\n",
       "        ).then(function () {return Plotly.addFrames('ad92b0f1-052d-4ae3-bbb4-1bccab1e52a0',{});}).then(function(){Plotly.animate('ad92b0f1-052d-4ae3-bbb4-1bccab1e52a0');})\n",
       "        });</script>"
      ],
      "text/vnd.plotly.v1+html": [
       "<div id=\"ad92b0f1-052d-4ae3-bbb4-1bccab1e52a0\" style=\"height: 525px; width: 100%;\" class=\"plotly-graph-div\"></div><script type=\"text/javascript\">require([\"plotly\"], function(Plotly) { window.PLOTLYENV=window.PLOTLYENV || {};window.PLOTLYENV.BASE_URL=\"https://plot.ly\";\n",
       "        Plotly.plot(\n",
       "            'ad92b0f1-052d-4ae3-bbb4-1bccab1e52a0',\n",
       "            [{\"name\": \"\\u8f6c\\u4ea7\\u901a\\u8fc7\\u6570\", \"x\": [\"8\", \"9\"], \"y\": [8.0, 3.0], \"type\": \"scatter\", \"uid\": \"768266ea-c204-11e8-ad45-a81e84e6c740\"}, {\"name\": \"\\u4e00\\u6b21\\u8f6c\\u4ea7\\u901a\\u8fc7\\u6570\", \"x\": [\"8\", \"9\"], \"y\": [8.0, 3.0], \"type\": \"scatter\", \"uid\": \"76826abe-c204-11e8-ad45-a81e84e6c740\"}, {\"name\": \"\\u901a\\u8fc7\\u7387\", \"x\": [\"8\", \"9\"], \"y\": [1.0, 1.0], \"type\": \"scatter\", \"uid\": \"76826d34-c204-11e8-ad45-a81e84e6c740\"}],\n",
       "            {\"title\": \"\\u8f6c\\u4ea7\\u901a\\u8fc7\\u6570&\\u4e00\\u6b21\\u8f6c\\u4ea7\\u901a\\u8fc7\\u6570&\\u901a\\u8fc7\\u7387\\u6708\\u8d8b\\u52bf\\u56fe\", \"xaxis\": {\"mirror\": \"all\", \"nticks\": 20, \"showgrid\": true, \"showline\": true, \"title\": \"\\u6708\", \"zeroline\": true}, \"yaxis\": {\"mirror\": \"all\", \"nticks\": 20, \"showgrid\": true, \"showline\": true, \"title\": \"\\u8f6c\\u4ea7\\u901a\\u8fc7\\u6570&\\u4e00\\u6b21\\u8f6c\\u4ea7\\u901a\\u8fc7\\u6570&\\u901a\\u8fc7\\u7387\", \"zeroline\": true}},\n",
       "            {\"showLink\": true, \"linkText\": \"Export to plot.ly\"}\n",
       "        ).then(function () {return Plotly.addFrames('ad92b0f1-052d-4ae3-bbb4-1bccab1e52a0',{});}).then(function(){Plotly.animate('ad92b0f1-052d-4ae3-bbb4-1bccab1e52a0');})\n",
       "        });</script>"
      ]
     },
     "metadata": {},
     "output_type": "display_data"
    }
   ],
   "source": [
    "data_dict = {'转产通过数': ['转产通过数'], '一次转产通过数': ['一次转产通过数'], '通过率': ['一次转产通过数','转产通过数']}\n",
    "myModule.plot( all_dict_1, data_dict, '负责人' ,  'line', all='all' )"
   ]
  },
  {
   "cell_type": "markdown",
   "metadata": {},
   "source": [
    "### bug情况"
   ]
  },
  {
   "cell_type": "markdown",
   "metadata": {},
   "source": [
    "#### 应完成BUG数和完成BUG修复数"
   ]
  },
  {
   "cell_type": "code",
   "execution_count": 21,
   "metadata": {},
   "outputs": [
    {
     "data": {
      "application/vnd.plotly.v1+json": {
       "data": [
        {
         "name": "应完成BUG数",
         "type": "scatter",
         "uid": "76b2fc24-c204-11e8-ad45-a81e84e6c740",
         "x": [
          "8-3",
          "8-4",
          "9-1",
          "9-2",
          "9-3"
         ],
         "y": [
          1,
          3,
          0,
          3,
          4
         ]
        },
        {
         "name": "完成BUG修复数",
         "type": "scatter",
         "uid": "76b301ec-c204-11e8-ad45-a81e84e6c740",
         "x": [
          "8-3",
          "8-4",
          "9-1",
          "9-2",
          "9-3"
         ],
         "y": [
          1,
          4,
          0,
          1,
          4
         ]
        }
       ],
       "layout": {
        "title": "应完成BUG数&完成BUG修复数周趋势图",
        "xaxis": {
         "mirror": "all",
         "nticks": 20,
         "showgrid": true,
         "showline": true,
         "title": "周",
         "zeroline": true
        },
        "yaxis": {
         "mirror": "all",
         "nticks": 20,
         "showgrid": true,
         "showline": true,
         "title": "应完成BUG数&完成BUG修复数",
         "zeroline": true
        }
       }
      },
      "text/html": [
       "<div id=\"2b360055-29a7-4d5f-9ff7-d35364a27607\" style=\"height: 525px; width: 100%;\" class=\"plotly-graph-div\"></div><script type=\"text/javascript\">require([\"plotly\"], function(Plotly) { window.PLOTLYENV=window.PLOTLYENV || {};window.PLOTLYENV.BASE_URL=\"https://plot.ly\";\n",
       "        Plotly.plot(\n",
       "            '2b360055-29a7-4d5f-9ff7-d35364a27607',\n",
       "            [{\"name\": \"\\u5e94\\u5b8c\\u6210BUG\\u6570\", \"x\": [\"8-3\", \"8-4\", \"9-1\", \"9-2\", \"9-3\"], \"y\": [1.0, 3.0, 0.0, 3.0, 4.0], \"type\": \"scatter\", \"uid\": \"76b2fc24-c204-11e8-ad45-a81e84e6c740\"}, {\"name\": \"\\u5b8c\\u6210BUG\\u4fee\\u590d\\u6570\", \"x\": [\"8-3\", \"8-4\", \"9-1\", \"9-2\", \"9-3\"], \"y\": [1.0, 4.0, 0.0, 1.0, 4.0], \"type\": \"scatter\", \"uid\": \"76b301ec-c204-11e8-ad45-a81e84e6c740\"}],\n",
       "            {\"title\": \"\\u5e94\\u5b8c\\u6210BUG\\u6570&\\u5b8c\\u6210BUG\\u4fee\\u590d\\u6570\\u5468\\u8d8b\\u52bf\\u56fe\", \"xaxis\": {\"mirror\": \"all\", \"nticks\": 20, \"showgrid\": true, \"showline\": true, \"title\": \"\\u5468\", \"zeroline\": true}, \"yaxis\": {\"mirror\": \"all\", \"nticks\": 20, \"showgrid\": true, \"showline\": true, \"title\": \"\\u5e94\\u5b8c\\u6210BUG\\u6570&\\u5b8c\\u6210BUG\\u4fee\\u590d\\u6570\", \"zeroline\": true}},\n",
       "            {\"showLink\": true, \"linkText\": \"Export to plot.ly\"}\n",
       "        ).then(function () {return Plotly.addFrames('2b360055-29a7-4d5f-9ff7-d35364a27607',{});}).then(function(){Plotly.animate('2b360055-29a7-4d5f-9ff7-d35364a27607');})\n",
       "        });</script>"
      ],
      "text/vnd.plotly.v1+html": [
       "<div id=\"2b360055-29a7-4d5f-9ff7-d35364a27607\" style=\"height: 525px; width: 100%;\" class=\"plotly-graph-div\"></div><script type=\"text/javascript\">require([\"plotly\"], function(Plotly) { window.PLOTLYENV=window.PLOTLYENV || {};window.PLOTLYENV.BASE_URL=\"https://plot.ly\";\n",
       "        Plotly.plot(\n",
       "            '2b360055-29a7-4d5f-9ff7-d35364a27607',\n",
       "            [{\"name\": \"\\u5e94\\u5b8c\\u6210BUG\\u6570\", \"x\": [\"8-3\", \"8-4\", \"9-1\", \"9-2\", \"9-3\"], \"y\": [1.0, 3.0, 0.0, 3.0, 4.0], \"type\": \"scatter\", \"uid\": \"76b2fc24-c204-11e8-ad45-a81e84e6c740\"}, {\"name\": \"\\u5b8c\\u6210BUG\\u4fee\\u590d\\u6570\", \"x\": [\"8-3\", \"8-4\", \"9-1\", \"9-2\", \"9-3\"], \"y\": [1.0, 4.0, 0.0, 1.0, 4.0], \"type\": \"scatter\", \"uid\": \"76b301ec-c204-11e8-ad45-a81e84e6c740\"}],\n",
       "            {\"title\": \"\\u5e94\\u5b8c\\u6210BUG\\u6570&\\u5b8c\\u6210BUG\\u4fee\\u590d\\u6570\\u5468\\u8d8b\\u52bf\\u56fe\", \"xaxis\": {\"mirror\": \"all\", \"nticks\": 20, \"showgrid\": true, \"showline\": true, \"title\": \"\\u5468\", \"zeroline\": true}, \"yaxis\": {\"mirror\": \"all\", \"nticks\": 20, \"showgrid\": true, \"showline\": true, \"title\": \"\\u5e94\\u5b8c\\u6210BUG\\u6570&\\u5b8c\\u6210BUG\\u4fee\\u590d\\u6570\", \"zeroline\": true}},\n",
       "            {\"showLink\": true, \"linkText\": \"Export to plot.ly\"}\n",
       "        ).then(function () {return Plotly.addFrames('2b360055-29a7-4d5f-9ff7-d35364a27607',{});}).then(function(){Plotly.animate('2b360055-29a7-4d5f-9ff7-d35364a27607');})\n",
       "        });</script>"
      ]
     },
     "metadata": {},
     "output_type": "display_data"
    },
    {
     "data": {
      "application/vnd.plotly.v1+json": {
       "data": [
        {
         "name": "应完成BUG数",
         "type": "scatter",
         "uid": "76bea68c-c204-11e8-ad45-a81e84e6c740",
         "x": [
          "8",
          "9"
         ],
         "y": [
          4,
          7
         ]
        },
        {
         "name": "完成BUG修复数",
         "type": "scatter",
         "uid": "76beb0fa-c204-11e8-ad45-a81e84e6c740",
         "x": [
          "8",
          "9"
         ],
         "y": [
          5,
          5
         ]
        }
       ],
       "layout": {
        "title": "应完成BUG数&完成BUG修复数月趋势图",
        "xaxis": {
         "mirror": "all",
         "nticks": 20,
         "showgrid": true,
         "showline": true,
         "title": "月",
         "zeroline": true
        },
        "yaxis": {
         "mirror": "all",
         "nticks": 20,
         "showgrid": true,
         "showline": true,
         "title": "应完成BUG数&完成BUG修复数",
         "zeroline": true
        }
       }
      },
      "text/html": [
       "<div id=\"048e082f-6611-49de-a989-e079eddfe3cc\" style=\"height: 525px; width: 100%;\" class=\"plotly-graph-div\"></div><script type=\"text/javascript\">require([\"plotly\"], function(Plotly) { window.PLOTLYENV=window.PLOTLYENV || {};window.PLOTLYENV.BASE_URL=\"https://plot.ly\";\n",
       "        Plotly.plot(\n",
       "            '048e082f-6611-49de-a989-e079eddfe3cc',\n",
       "            [{\"name\": \"\\u5e94\\u5b8c\\u6210BUG\\u6570\", \"x\": [\"8\", \"9\"], \"y\": [4.0, 7.0], \"type\": \"scatter\", \"uid\": \"76bea68c-c204-11e8-ad45-a81e84e6c740\"}, {\"name\": \"\\u5b8c\\u6210BUG\\u4fee\\u590d\\u6570\", \"x\": [\"8\", \"9\"], \"y\": [5.0, 5.0], \"type\": \"scatter\", \"uid\": \"76beb0fa-c204-11e8-ad45-a81e84e6c740\"}],\n",
       "            {\"title\": \"\\u5e94\\u5b8c\\u6210BUG\\u6570&\\u5b8c\\u6210BUG\\u4fee\\u590d\\u6570\\u6708\\u8d8b\\u52bf\\u56fe\", \"xaxis\": {\"mirror\": \"all\", \"nticks\": 20, \"showgrid\": true, \"showline\": true, \"title\": \"\\u6708\", \"zeroline\": true}, \"yaxis\": {\"mirror\": \"all\", \"nticks\": 20, \"showgrid\": true, \"showline\": true, \"title\": \"\\u5e94\\u5b8c\\u6210BUG\\u6570&\\u5b8c\\u6210BUG\\u4fee\\u590d\\u6570\", \"zeroline\": true}},\n",
       "            {\"showLink\": true, \"linkText\": \"Export to plot.ly\"}\n",
       "        ).then(function () {return Plotly.addFrames('048e082f-6611-49de-a989-e079eddfe3cc',{});}).then(function(){Plotly.animate('048e082f-6611-49de-a989-e079eddfe3cc');})\n",
       "        });</script>"
      ],
      "text/vnd.plotly.v1+html": [
       "<div id=\"048e082f-6611-49de-a989-e079eddfe3cc\" style=\"height: 525px; width: 100%;\" class=\"plotly-graph-div\"></div><script type=\"text/javascript\">require([\"plotly\"], function(Plotly) { window.PLOTLYENV=window.PLOTLYENV || {};window.PLOTLYENV.BASE_URL=\"https://plot.ly\";\n",
       "        Plotly.plot(\n",
       "            '048e082f-6611-49de-a989-e079eddfe3cc',\n",
       "            [{\"name\": \"\\u5e94\\u5b8c\\u6210BUG\\u6570\", \"x\": [\"8\", \"9\"], \"y\": [4.0, 7.0], \"type\": \"scatter\", \"uid\": \"76bea68c-c204-11e8-ad45-a81e84e6c740\"}, {\"name\": \"\\u5b8c\\u6210BUG\\u4fee\\u590d\\u6570\", \"x\": [\"8\", \"9\"], \"y\": [5.0, 5.0], \"type\": \"scatter\", \"uid\": \"76beb0fa-c204-11e8-ad45-a81e84e6c740\"}],\n",
       "            {\"title\": \"\\u5e94\\u5b8c\\u6210BUG\\u6570&\\u5b8c\\u6210BUG\\u4fee\\u590d\\u6570\\u6708\\u8d8b\\u52bf\\u56fe\", \"xaxis\": {\"mirror\": \"all\", \"nticks\": 20, \"showgrid\": true, \"showline\": true, \"title\": \"\\u6708\", \"zeroline\": true}, \"yaxis\": {\"mirror\": \"all\", \"nticks\": 20, \"showgrid\": true, \"showline\": true, \"title\": \"\\u5e94\\u5b8c\\u6210BUG\\u6570&\\u5b8c\\u6210BUG\\u4fee\\u590d\\u6570\", \"zeroline\": true}},\n",
       "            {\"showLink\": true, \"linkText\": \"Export to plot.ly\"}\n",
       "        ).then(function () {return Plotly.addFrames('048e082f-6611-49de-a989-e079eddfe3cc',{});}).then(function(){Plotly.animate('048e082f-6611-49de-a989-e079eddfe3cc');})\n",
       "        });</script>"
      ]
     },
     "metadata": {},
     "output_type": "display_data"
    }
   ],
   "source": [
    "data_dict = {'应完成BUG数': ['应完成BUG数'], '完成BUG修复数': ['完成BUG修复数']}\n",
    "myModule.plot( all_dict_1, data_dict, '负责人' ,  'line', all='all' )"
   ]
  },
  {
   "cell_type": "markdown",
   "metadata": {
    "hide_input": true
   },
   "source": [
    "## 各组情况"
   ]
  },
  {
   "cell_type": "markdown",
   "metadata": {},
   "source": [
    "### 转产情况"
   ]
  },
  {
   "cell_type": "markdown",
   "metadata": {},
   "source": [
    "#### 转产通过数、一次转产通过数和通过率"
   ]
  },
  {
   "cell_type": "code",
   "execution_count": 22,
   "metadata": {},
   "outputs": [
    {
     "data": {
      "application/vnd.plotly.v1+json": {
       "data": [
        {
         "name": "生物学DNA组_转产通过数",
         "type": "scatter",
         "uid": "76ed1d64-c204-11e8-ad45-a81e84e6c740",
         "x": [
          "8-3",
          "8-4",
          "9-1",
          "9-2",
          "9-3"
         ],
         "y": [
          0,
          0,
          1,
          0,
          0
         ]
        },
        {
         "name": "生物学DNA组_一次转产通过数",
         "type": "scatter",
         "uid": "76ed21f6-c204-11e8-ad45-a81e84e6c740",
         "x": [
          "8-3",
          "8-4",
          "9-1",
          "9-2",
          "9-3"
         ],
         "y": [
          0,
          0,
          1,
          0,
          0
         ]
        },
        {
         "name": "生物学DNA组_通过率",
         "type": "scatter",
         "uid": "76ed250c-c204-11e8-ad45-a81e84e6c740",
         "x": [
          "8-3",
          "8-4",
          "9-1",
          "9-2",
          "9-3"
         ],
         "y": [
          null,
          null,
          1,
          null,
          null
         ]
        },
        {
         "name": "蛋白和医学组_转产通过数",
         "type": "scatter",
         "uid": "76ed27f0-c204-11e8-ad45-a81e84e6c740",
         "x": [
          "8-3",
          "8-4",
          "9-1",
          "9-2",
          "9-3"
         ],
         "y": [
          2,
          2,
          1,
          0,
          1
         ]
        },
        {
         "name": "蛋白和医学组_一次转产通过数",
         "type": "scatter",
         "uid": "76ed2c1e-c204-11e8-ad45-a81e84e6c740",
         "x": [
          "8-3",
          "8-4",
          "9-1",
          "9-2",
          "9-3"
         ],
         "y": [
          2,
          2,
          1,
          0,
          1
         ]
        },
        {
         "name": "蛋白和医学组_通过率",
         "type": "scatter",
         "uid": "76ed2f52-c204-11e8-ad45-a81e84e6c740",
         "x": [
          "8-3",
          "8-4",
          "9-1",
          "9-2",
          "9-3"
         ],
         "y": [
          1,
          1,
          1,
          null,
          1
         ]
        },
        {
         "name": "调控研发组_转产通过数",
         "type": "scatter",
         "uid": "76ed31f0-c204-11e8-ad45-a81e84e6c740",
         "x": [
          "8-4"
         ],
         "y": [
          4
         ]
        },
        {
         "name": "调控研发组_一次转产通过数",
         "type": "scatter",
         "uid": "76ed3484-c204-11e8-ad45-a81e84e6c740",
         "x": [
          "8-4"
         ],
         "y": [
          4
         ]
        },
        {
         "name": "调控研发组_通过率",
         "type": "scatter",
         "uid": "76ed370e-c204-11e8-ad45-a81e84e6c740",
         "x": [
          "8-4"
         ],
         "y": [
          1
         ]
        }
       ],
       "layout": {
        "title": "转产通过数&一次转产通过数&通过率周趋势图",
        "xaxis": {
         "mirror": "all",
         "nticks": 20,
         "showgrid": true,
         "showline": true,
         "title": "周",
         "zeroline": true
        },
        "yaxis": {
         "mirror": "all",
         "nticks": 20,
         "showgrid": true,
         "showline": true,
         "title": "转产通过数&一次转产通过数&通过率",
         "zeroline": true
        }
       }
      },
      "text/html": [
       "<div id=\"e0708860-1c7f-4300-81ef-904b49e5ef46\" style=\"height: 525px; width: 100%;\" class=\"plotly-graph-div\"></div><script type=\"text/javascript\">require([\"plotly\"], function(Plotly) { window.PLOTLYENV=window.PLOTLYENV || {};window.PLOTLYENV.BASE_URL=\"https://plot.ly\";\n",
       "        Plotly.plot(\n",
       "            'e0708860-1c7f-4300-81ef-904b49e5ef46',\n",
       "            [{\"name\": \"\\u751f\\u7269\\u5b66DNA\\u7ec4_\\u8f6c\\u4ea7\\u901a\\u8fc7\\u6570\", \"x\": [\"8-3\", \"8-4\", \"9-1\", \"9-2\", \"9-3\"], \"y\": [0.0, 0.0, 1.0, 0.0, 0.0], \"type\": \"scatter\", \"uid\": \"76ed1d64-c204-11e8-ad45-a81e84e6c740\"}, {\"name\": \"\\u751f\\u7269\\u5b66DNA\\u7ec4_\\u4e00\\u6b21\\u8f6c\\u4ea7\\u901a\\u8fc7\\u6570\", \"x\": [\"8-3\", \"8-4\", \"9-1\", \"9-2\", \"9-3\"], \"y\": [0.0, 0.0, 1.0, 0.0, 0.0], \"type\": \"scatter\", \"uid\": \"76ed21f6-c204-11e8-ad45-a81e84e6c740\"}, {\"name\": \"\\u751f\\u7269\\u5b66DNA\\u7ec4_\\u901a\\u8fc7\\u7387\", \"x\": [\"8-3\", \"8-4\", \"9-1\", \"9-2\", \"9-3\"], \"y\": [null, null, 1.0, null, null], \"type\": \"scatter\", \"uid\": \"76ed250c-c204-11e8-ad45-a81e84e6c740\"}, {\"name\": \"\\u86cb\\u767d\\u548c\\u533b\\u5b66\\u7ec4_\\u8f6c\\u4ea7\\u901a\\u8fc7\\u6570\", \"x\": [\"8-3\", \"8-4\", \"9-1\", \"9-2\", \"9-3\"], \"y\": [2.0, 2.0, 1.0, 0.0, 1.0], \"type\": \"scatter\", \"uid\": \"76ed27f0-c204-11e8-ad45-a81e84e6c740\"}, {\"name\": \"\\u86cb\\u767d\\u548c\\u533b\\u5b66\\u7ec4_\\u4e00\\u6b21\\u8f6c\\u4ea7\\u901a\\u8fc7\\u6570\", \"x\": [\"8-3\", \"8-4\", \"9-1\", \"9-2\", \"9-3\"], \"y\": [2.0, 2.0, 1.0, 0.0, 1.0], \"type\": \"scatter\", \"uid\": \"76ed2c1e-c204-11e8-ad45-a81e84e6c740\"}, {\"name\": \"\\u86cb\\u767d\\u548c\\u533b\\u5b66\\u7ec4_\\u901a\\u8fc7\\u7387\", \"x\": [\"8-3\", \"8-4\", \"9-1\", \"9-2\", \"9-3\"], \"y\": [1.0, 1.0, 1.0, null, 1.0], \"type\": \"scatter\", \"uid\": \"76ed2f52-c204-11e8-ad45-a81e84e6c740\"}, {\"name\": \"\\u8c03\\u63a7\\u7814\\u53d1\\u7ec4_\\u8f6c\\u4ea7\\u901a\\u8fc7\\u6570\", \"x\": [\"8-4\"], \"y\": [4.0], \"type\": \"scatter\", \"uid\": \"76ed31f0-c204-11e8-ad45-a81e84e6c740\"}, {\"name\": \"\\u8c03\\u63a7\\u7814\\u53d1\\u7ec4_\\u4e00\\u6b21\\u8f6c\\u4ea7\\u901a\\u8fc7\\u6570\", \"x\": [\"8-4\"], \"y\": [4.0], \"type\": \"scatter\", \"uid\": \"76ed3484-c204-11e8-ad45-a81e84e6c740\"}, {\"name\": \"\\u8c03\\u63a7\\u7814\\u53d1\\u7ec4_\\u901a\\u8fc7\\u7387\", \"x\": [\"8-4\"], \"y\": [1.0], \"type\": \"scatter\", \"uid\": \"76ed370e-c204-11e8-ad45-a81e84e6c740\"}],\n",
       "            {\"title\": \"\\u8f6c\\u4ea7\\u901a\\u8fc7\\u6570&\\u4e00\\u6b21\\u8f6c\\u4ea7\\u901a\\u8fc7\\u6570&\\u901a\\u8fc7\\u7387\\u5468\\u8d8b\\u52bf\\u56fe\", \"xaxis\": {\"mirror\": \"all\", \"nticks\": 20, \"showgrid\": true, \"showline\": true, \"title\": \"\\u5468\", \"zeroline\": true}, \"yaxis\": {\"mirror\": \"all\", \"nticks\": 20, \"showgrid\": true, \"showline\": true, \"title\": \"\\u8f6c\\u4ea7\\u901a\\u8fc7\\u6570&\\u4e00\\u6b21\\u8f6c\\u4ea7\\u901a\\u8fc7\\u6570&\\u901a\\u8fc7\\u7387\", \"zeroline\": true}},\n",
       "            {\"showLink\": true, \"linkText\": \"Export to plot.ly\"}\n",
       "        ).then(function () {return Plotly.addFrames('e0708860-1c7f-4300-81ef-904b49e5ef46',{});}).then(function(){Plotly.animate('e0708860-1c7f-4300-81ef-904b49e5ef46');})\n",
       "        });</script>"
      ],
      "text/vnd.plotly.v1+html": [
       "<div id=\"e0708860-1c7f-4300-81ef-904b49e5ef46\" style=\"height: 525px; width: 100%;\" class=\"plotly-graph-div\"></div><script type=\"text/javascript\">require([\"plotly\"], function(Plotly) { window.PLOTLYENV=window.PLOTLYENV || {};window.PLOTLYENV.BASE_URL=\"https://plot.ly\";\n",
       "        Plotly.plot(\n",
       "            'e0708860-1c7f-4300-81ef-904b49e5ef46',\n",
       "            [{\"name\": \"\\u751f\\u7269\\u5b66DNA\\u7ec4_\\u8f6c\\u4ea7\\u901a\\u8fc7\\u6570\", \"x\": [\"8-3\", \"8-4\", \"9-1\", \"9-2\", \"9-3\"], \"y\": [0.0, 0.0, 1.0, 0.0, 0.0], \"type\": \"scatter\", \"uid\": \"76ed1d64-c204-11e8-ad45-a81e84e6c740\"}, {\"name\": \"\\u751f\\u7269\\u5b66DNA\\u7ec4_\\u4e00\\u6b21\\u8f6c\\u4ea7\\u901a\\u8fc7\\u6570\", \"x\": [\"8-3\", \"8-4\", \"9-1\", \"9-2\", \"9-3\"], \"y\": [0.0, 0.0, 1.0, 0.0, 0.0], \"type\": \"scatter\", \"uid\": \"76ed21f6-c204-11e8-ad45-a81e84e6c740\"}, {\"name\": \"\\u751f\\u7269\\u5b66DNA\\u7ec4_\\u901a\\u8fc7\\u7387\", \"x\": [\"8-3\", \"8-4\", \"9-1\", \"9-2\", \"9-3\"], \"y\": [null, null, 1.0, null, null], \"type\": \"scatter\", \"uid\": \"76ed250c-c204-11e8-ad45-a81e84e6c740\"}, {\"name\": \"\\u86cb\\u767d\\u548c\\u533b\\u5b66\\u7ec4_\\u8f6c\\u4ea7\\u901a\\u8fc7\\u6570\", \"x\": [\"8-3\", \"8-4\", \"9-1\", \"9-2\", \"9-3\"], \"y\": [2.0, 2.0, 1.0, 0.0, 1.0], \"type\": \"scatter\", \"uid\": \"76ed27f0-c204-11e8-ad45-a81e84e6c740\"}, {\"name\": \"\\u86cb\\u767d\\u548c\\u533b\\u5b66\\u7ec4_\\u4e00\\u6b21\\u8f6c\\u4ea7\\u901a\\u8fc7\\u6570\", \"x\": [\"8-3\", \"8-4\", \"9-1\", \"9-2\", \"9-3\"], \"y\": [2.0, 2.0, 1.0, 0.0, 1.0], \"type\": \"scatter\", \"uid\": \"76ed2c1e-c204-11e8-ad45-a81e84e6c740\"}, {\"name\": \"\\u86cb\\u767d\\u548c\\u533b\\u5b66\\u7ec4_\\u901a\\u8fc7\\u7387\", \"x\": [\"8-3\", \"8-4\", \"9-1\", \"9-2\", \"9-3\"], \"y\": [1.0, 1.0, 1.0, null, 1.0], \"type\": \"scatter\", \"uid\": \"76ed2f52-c204-11e8-ad45-a81e84e6c740\"}, {\"name\": \"\\u8c03\\u63a7\\u7814\\u53d1\\u7ec4_\\u8f6c\\u4ea7\\u901a\\u8fc7\\u6570\", \"x\": [\"8-4\"], \"y\": [4.0], \"type\": \"scatter\", \"uid\": \"76ed31f0-c204-11e8-ad45-a81e84e6c740\"}, {\"name\": \"\\u8c03\\u63a7\\u7814\\u53d1\\u7ec4_\\u4e00\\u6b21\\u8f6c\\u4ea7\\u901a\\u8fc7\\u6570\", \"x\": [\"8-4\"], \"y\": [4.0], \"type\": \"scatter\", \"uid\": \"76ed3484-c204-11e8-ad45-a81e84e6c740\"}, {\"name\": \"\\u8c03\\u63a7\\u7814\\u53d1\\u7ec4_\\u901a\\u8fc7\\u7387\", \"x\": [\"8-4\"], \"y\": [1.0], \"type\": \"scatter\", \"uid\": \"76ed370e-c204-11e8-ad45-a81e84e6c740\"}],\n",
       "            {\"title\": \"\\u8f6c\\u4ea7\\u901a\\u8fc7\\u6570&\\u4e00\\u6b21\\u8f6c\\u4ea7\\u901a\\u8fc7\\u6570&\\u901a\\u8fc7\\u7387\\u5468\\u8d8b\\u52bf\\u56fe\", \"xaxis\": {\"mirror\": \"all\", \"nticks\": 20, \"showgrid\": true, \"showline\": true, \"title\": \"\\u5468\", \"zeroline\": true}, \"yaxis\": {\"mirror\": \"all\", \"nticks\": 20, \"showgrid\": true, \"showline\": true, \"title\": \"\\u8f6c\\u4ea7\\u901a\\u8fc7\\u6570&\\u4e00\\u6b21\\u8f6c\\u4ea7\\u901a\\u8fc7\\u6570&\\u901a\\u8fc7\\u7387\", \"zeroline\": true}},\n",
       "            {\"showLink\": true, \"linkText\": \"Export to plot.ly\"}\n",
       "        ).then(function () {return Plotly.addFrames('e0708860-1c7f-4300-81ef-904b49e5ef46',{});}).then(function(){Plotly.animate('e0708860-1c7f-4300-81ef-904b49e5ef46');})\n",
       "        });</script>"
      ]
     },
     "metadata": {},
     "output_type": "display_data"
    },
    {
     "data": {
      "application/vnd.plotly.v1+json": {
       "data": [
        {
         "name": "生物学DNA组_转产通过数",
         "type": "scatter",
         "uid": "77077f10-c204-11e8-ad45-a81e84e6c740",
         "x": [
          "8",
          "9"
         ],
         "y": [
          0,
          1
         ]
        },
        {
         "name": "生物学DNA组_一次转产通过数",
         "type": "scatter",
         "uid": "77078546-c204-11e8-ad45-a81e84e6c740",
         "x": [
          "8",
          "9"
         ],
         "y": [
          0,
          1
         ]
        },
        {
         "name": "生物学DNA组_通过率",
         "type": "scatter",
         "uid": "77078910-c204-11e8-ad45-a81e84e6c740",
         "x": [
          "8",
          "9"
         ],
         "y": [
          null,
          1
         ]
        },
        {
         "name": "蛋白和医学组_转产通过数",
         "type": "scatter",
         "uid": "77078c58-c204-11e8-ad45-a81e84e6c740",
         "x": [
          "8",
          "9"
         ],
         "y": [
          4,
          2
         ]
        },
        {
         "name": "蛋白和医学组_一次转产通过数",
         "type": "scatter",
         "uid": "77078f50-c204-11e8-ad45-a81e84e6c740",
         "x": [
          "8",
          "9"
         ],
         "y": [
          4,
          2
         ]
        },
        {
         "name": "蛋白和医学组_通过率",
         "type": "scatter",
         "uid": "77079248-c204-11e8-ad45-a81e84e6c740",
         "x": [
          "8",
          "9"
         ],
         "y": [
          1,
          1
         ]
        },
        {
         "name": "调控研发组_转产通过数",
         "type": "scatter",
         "uid": "77079536-c204-11e8-ad45-a81e84e6c740",
         "x": [
          "8"
         ],
         "y": [
          null
         ]
        },
        {
         "name": "调控研发组_一次转产通过数",
         "type": "scatter",
         "uid": "7707982e-c204-11e8-ad45-a81e84e6c740",
         "x": [
          "8"
         ],
         "y": [
          null
         ]
        },
        {
         "name": "调控研发组_通过率",
         "type": "scatter",
         "uid": "77079afe-c204-11e8-ad45-a81e84e6c740",
         "x": [
          "8"
         ],
         "y": [
          null
         ]
        }
       ],
       "layout": {
        "title": "转产通过数&一次转产通过数&通过率月趋势图",
        "xaxis": {
         "mirror": "all",
         "nticks": 20,
         "showgrid": true,
         "showline": true,
         "title": "月",
         "zeroline": true
        },
        "yaxis": {
         "mirror": "all",
         "nticks": 20,
         "showgrid": true,
         "showline": true,
         "title": "转产通过数&一次转产通过数&通过率",
         "zeroline": true
        }
       }
      },
      "text/html": [
       "<div id=\"badba274-f531-4afb-9b89-2cbf581b5c93\" style=\"height: 525px; width: 100%;\" class=\"plotly-graph-div\"></div><script type=\"text/javascript\">require([\"plotly\"], function(Plotly) { window.PLOTLYENV=window.PLOTLYENV || {};window.PLOTLYENV.BASE_URL=\"https://plot.ly\";\n",
       "        Plotly.plot(\n",
       "            'badba274-f531-4afb-9b89-2cbf581b5c93',\n",
       "            [{\"name\": \"\\u751f\\u7269\\u5b66DNA\\u7ec4_\\u8f6c\\u4ea7\\u901a\\u8fc7\\u6570\", \"x\": [\"8\", \"9\"], \"y\": [0.0, 1.0], \"type\": \"scatter\", \"uid\": \"77077f10-c204-11e8-ad45-a81e84e6c740\"}, {\"name\": \"\\u751f\\u7269\\u5b66DNA\\u7ec4_\\u4e00\\u6b21\\u8f6c\\u4ea7\\u901a\\u8fc7\\u6570\", \"x\": [\"8\", \"9\"], \"y\": [0.0, 1.0], \"type\": \"scatter\", \"uid\": \"77078546-c204-11e8-ad45-a81e84e6c740\"}, {\"name\": \"\\u751f\\u7269\\u5b66DNA\\u7ec4_\\u901a\\u8fc7\\u7387\", \"x\": [\"8\", \"9\"], \"y\": [null, 1.0], \"type\": \"scatter\", \"uid\": \"77078910-c204-11e8-ad45-a81e84e6c740\"}, {\"name\": \"\\u86cb\\u767d\\u548c\\u533b\\u5b66\\u7ec4_\\u8f6c\\u4ea7\\u901a\\u8fc7\\u6570\", \"x\": [\"8\", \"9\"], \"y\": [4.0, 2.0], \"type\": \"scatter\", \"uid\": \"77078c58-c204-11e8-ad45-a81e84e6c740\"}, {\"name\": \"\\u86cb\\u767d\\u548c\\u533b\\u5b66\\u7ec4_\\u4e00\\u6b21\\u8f6c\\u4ea7\\u901a\\u8fc7\\u6570\", \"x\": [\"8\", \"9\"], \"y\": [4.0, 2.0], \"type\": \"scatter\", \"uid\": \"77078f50-c204-11e8-ad45-a81e84e6c740\"}, {\"name\": \"\\u86cb\\u767d\\u548c\\u533b\\u5b66\\u7ec4_\\u901a\\u8fc7\\u7387\", \"x\": [\"8\", \"9\"], \"y\": [1.0, 1.0], \"type\": \"scatter\", \"uid\": \"77079248-c204-11e8-ad45-a81e84e6c740\"}, {\"name\": \"\\u8c03\\u63a7\\u7814\\u53d1\\u7ec4_\\u8f6c\\u4ea7\\u901a\\u8fc7\\u6570\", \"x\": [\"8\"], \"y\": [null], \"type\": \"scatter\", \"uid\": \"77079536-c204-11e8-ad45-a81e84e6c740\"}, {\"name\": \"\\u8c03\\u63a7\\u7814\\u53d1\\u7ec4_\\u4e00\\u6b21\\u8f6c\\u4ea7\\u901a\\u8fc7\\u6570\", \"x\": [\"8\"], \"y\": [null], \"type\": \"scatter\", \"uid\": \"7707982e-c204-11e8-ad45-a81e84e6c740\"}, {\"name\": \"\\u8c03\\u63a7\\u7814\\u53d1\\u7ec4_\\u901a\\u8fc7\\u7387\", \"x\": [\"8\"], \"y\": [null], \"type\": \"scatter\", \"uid\": \"77079afe-c204-11e8-ad45-a81e84e6c740\"}],\n",
       "            {\"title\": \"\\u8f6c\\u4ea7\\u901a\\u8fc7\\u6570&\\u4e00\\u6b21\\u8f6c\\u4ea7\\u901a\\u8fc7\\u6570&\\u901a\\u8fc7\\u7387\\u6708\\u8d8b\\u52bf\\u56fe\", \"xaxis\": {\"mirror\": \"all\", \"nticks\": 20, \"showgrid\": true, \"showline\": true, \"title\": \"\\u6708\", \"zeroline\": true}, \"yaxis\": {\"mirror\": \"all\", \"nticks\": 20, \"showgrid\": true, \"showline\": true, \"title\": \"\\u8f6c\\u4ea7\\u901a\\u8fc7\\u6570&\\u4e00\\u6b21\\u8f6c\\u4ea7\\u901a\\u8fc7\\u6570&\\u901a\\u8fc7\\u7387\", \"zeroline\": true}},\n",
       "            {\"showLink\": true, \"linkText\": \"Export to plot.ly\"}\n",
       "        ).then(function () {return Plotly.addFrames('badba274-f531-4afb-9b89-2cbf581b5c93',{});}).then(function(){Plotly.animate('badba274-f531-4afb-9b89-2cbf581b5c93');})\n",
       "        });</script>"
      ],
      "text/vnd.plotly.v1+html": [
       "<div id=\"badba274-f531-4afb-9b89-2cbf581b5c93\" style=\"height: 525px; width: 100%;\" class=\"plotly-graph-div\"></div><script type=\"text/javascript\">require([\"plotly\"], function(Plotly) { window.PLOTLYENV=window.PLOTLYENV || {};window.PLOTLYENV.BASE_URL=\"https://plot.ly\";\n",
       "        Plotly.plot(\n",
       "            'badba274-f531-4afb-9b89-2cbf581b5c93',\n",
       "            [{\"name\": \"\\u751f\\u7269\\u5b66DNA\\u7ec4_\\u8f6c\\u4ea7\\u901a\\u8fc7\\u6570\", \"x\": [\"8\", \"9\"], \"y\": [0.0, 1.0], \"type\": \"scatter\", \"uid\": \"77077f10-c204-11e8-ad45-a81e84e6c740\"}, {\"name\": \"\\u751f\\u7269\\u5b66DNA\\u7ec4_\\u4e00\\u6b21\\u8f6c\\u4ea7\\u901a\\u8fc7\\u6570\", \"x\": [\"8\", \"9\"], \"y\": [0.0, 1.0], \"type\": \"scatter\", \"uid\": \"77078546-c204-11e8-ad45-a81e84e6c740\"}, {\"name\": \"\\u751f\\u7269\\u5b66DNA\\u7ec4_\\u901a\\u8fc7\\u7387\", \"x\": [\"8\", \"9\"], \"y\": [null, 1.0], \"type\": \"scatter\", \"uid\": \"77078910-c204-11e8-ad45-a81e84e6c740\"}, {\"name\": \"\\u86cb\\u767d\\u548c\\u533b\\u5b66\\u7ec4_\\u8f6c\\u4ea7\\u901a\\u8fc7\\u6570\", \"x\": [\"8\", \"9\"], \"y\": [4.0, 2.0], \"type\": \"scatter\", \"uid\": \"77078c58-c204-11e8-ad45-a81e84e6c740\"}, {\"name\": \"\\u86cb\\u767d\\u548c\\u533b\\u5b66\\u7ec4_\\u4e00\\u6b21\\u8f6c\\u4ea7\\u901a\\u8fc7\\u6570\", \"x\": [\"8\", \"9\"], \"y\": [4.0, 2.0], \"type\": \"scatter\", \"uid\": \"77078f50-c204-11e8-ad45-a81e84e6c740\"}, {\"name\": \"\\u86cb\\u767d\\u548c\\u533b\\u5b66\\u7ec4_\\u901a\\u8fc7\\u7387\", \"x\": [\"8\", \"9\"], \"y\": [1.0, 1.0], \"type\": \"scatter\", \"uid\": \"77079248-c204-11e8-ad45-a81e84e6c740\"}, {\"name\": \"\\u8c03\\u63a7\\u7814\\u53d1\\u7ec4_\\u8f6c\\u4ea7\\u901a\\u8fc7\\u6570\", \"x\": [\"8\"], \"y\": [null], \"type\": \"scatter\", \"uid\": \"77079536-c204-11e8-ad45-a81e84e6c740\"}, {\"name\": \"\\u8c03\\u63a7\\u7814\\u53d1\\u7ec4_\\u4e00\\u6b21\\u8f6c\\u4ea7\\u901a\\u8fc7\\u6570\", \"x\": [\"8\"], \"y\": [null], \"type\": \"scatter\", \"uid\": \"7707982e-c204-11e8-ad45-a81e84e6c740\"}, {\"name\": \"\\u8c03\\u63a7\\u7814\\u53d1\\u7ec4_\\u901a\\u8fc7\\u7387\", \"x\": [\"8\"], \"y\": [null], \"type\": \"scatter\", \"uid\": \"77079afe-c204-11e8-ad45-a81e84e6c740\"}],\n",
       "            {\"title\": \"\\u8f6c\\u4ea7\\u901a\\u8fc7\\u6570&\\u4e00\\u6b21\\u8f6c\\u4ea7\\u901a\\u8fc7\\u6570&\\u901a\\u8fc7\\u7387\\u6708\\u8d8b\\u52bf\\u56fe\", \"xaxis\": {\"mirror\": \"all\", \"nticks\": 20, \"showgrid\": true, \"showline\": true, \"title\": \"\\u6708\", \"zeroline\": true}, \"yaxis\": {\"mirror\": \"all\", \"nticks\": 20, \"showgrid\": true, \"showline\": true, \"title\": \"\\u8f6c\\u4ea7\\u901a\\u8fc7\\u6570&\\u4e00\\u6b21\\u8f6c\\u4ea7\\u901a\\u8fc7\\u6570&\\u901a\\u8fc7\\u7387\", \"zeroline\": true}},\n",
       "            {\"showLink\": true, \"linkText\": \"Export to plot.ly\"}\n",
       "        ).then(function () {return Plotly.addFrames('badba274-f531-4afb-9b89-2cbf581b5c93',{});}).then(function(){Plotly.animate('badba274-f531-4afb-9b89-2cbf581b5c93');})\n",
       "        });</script>"
      ]
     },
     "metadata": {},
     "output_type": "display_data"
    }
   ],
   "source": [
    "data_dict = {'转产通过数': ['转产通过数'], '一次转产通过数': ['一次转产通过数'], '通过率': ['一次转产通过数','转产通过数']}\n",
    "myModule.plot( all_dict_1, data_dict, '组别' ,  'line', all='' )"
   ]
  },
  {
   "cell_type": "markdown",
   "metadata": {},
   "source": [
    "### bug情况"
   ]
  },
  {
   "cell_type": "markdown",
   "metadata": {},
   "source": [
    "#### 应完成BUG数和完成BUG修复数"
   ]
  },
  {
   "cell_type": "code",
   "execution_count": 23,
   "metadata": {},
   "outputs": [
    {
     "data": {
      "application/vnd.plotly.v1+json": {
       "data": [
        {
         "name": "生物学DNA组_应完成BUG数",
         "type": "scatter",
         "uid": "7742b1ac-c204-11e8-ad45-a81e84e6c740",
         "x": [
          "8-3",
          "8-4",
          "9-1",
          "9-2",
          "9-3"
         ],
         "y": [
          0,
          0,
          0,
          1,
          1
         ]
        },
        {
         "name": "生物学DNA组_完成BUG修复数",
         "type": "scatter",
         "uid": "7742b698-c204-11e8-ad45-a81e84e6c740",
         "x": [
          "8-3",
          "8-4",
          "9-1",
          "9-2",
          "9-3"
         ],
         "y": [
          0,
          1,
          0,
          1,
          1
         ]
        },
        {
         "name": "蛋白和医学组_应完成BUG数",
         "type": "scatter",
         "uid": "7742ba44-c204-11e8-ad45-a81e84e6c740",
         "x": [
          "8-3",
          "8-4",
          "9-1",
          "9-2",
          "9-3"
         ],
         "y": [
          1,
          2,
          0,
          2,
          3
         ]
        },
        {
         "name": "蛋白和医学组_完成BUG修复数",
         "type": "scatter",
         "uid": "7742bd6e-c204-11e8-ad45-a81e84e6c740",
         "x": [
          "8-3",
          "8-4",
          "9-1",
          "9-2",
          "9-3"
         ],
         "y": [
          1,
          1,
          0,
          0,
          3
         ]
        },
        {
         "name": "调控研发组_应完成BUG数",
         "type": "scatter",
         "uid": "7742c070-c204-11e8-ad45-a81e84e6c740",
         "x": [
          "8-4"
         ],
         "y": [
          1
         ]
        },
        {
         "name": "调控研发组_完成BUG修复数",
         "type": "scatter",
         "uid": "7742c386-c204-11e8-ad45-a81e84e6c740",
         "x": [
          "8-4"
         ],
         "y": [
          2
         ]
        }
       ],
       "layout": {
        "title": "应完成BUG数&完成BUG修复数周趋势图",
        "xaxis": {
         "mirror": "all",
         "nticks": 20,
         "showgrid": true,
         "showline": true,
         "title": "周",
         "zeroline": true
        },
        "yaxis": {
         "mirror": "all",
         "nticks": 20,
         "showgrid": true,
         "showline": true,
         "title": "应完成BUG数&完成BUG修复数",
         "zeroline": true
        }
       }
      },
      "text/html": [
       "<div id=\"3034462b-e592-4a9c-b00a-add542625907\" style=\"height: 525px; width: 100%;\" class=\"plotly-graph-div\"></div><script type=\"text/javascript\">require([\"plotly\"], function(Plotly) { window.PLOTLYENV=window.PLOTLYENV || {};window.PLOTLYENV.BASE_URL=\"https://plot.ly\";\n",
       "        Plotly.plot(\n",
       "            '3034462b-e592-4a9c-b00a-add542625907',\n",
       "            [{\"name\": \"\\u751f\\u7269\\u5b66DNA\\u7ec4_\\u5e94\\u5b8c\\u6210BUG\\u6570\", \"x\": [\"8-3\", \"8-4\", \"9-1\", \"9-2\", \"9-3\"], \"y\": [0.0, 0.0, 0.0, 1.0, 1.0], \"type\": \"scatter\", \"uid\": \"7742b1ac-c204-11e8-ad45-a81e84e6c740\"}, {\"name\": \"\\u751f\\u7269\\u5b66DNA\\u7ec4_\\u5b8c\\u6210BUG\\u4fee\\u590d\\u6570\", \"x\": [\"8-3\", \"8-4\", \"9-1\", \"9-2\", \"9-3\"], \"y\": [0.0, 1.0, 0.0, 1.0, 1.0], \"type\": \"scatter\", \"uid\": \"7742b698-c204-11e8-ad45-a81e84e6c740\"}, {\"name\": \"\\u86cb\\u767d\\u548c\\u533b\\u5b66\\u7ec4_\\u5e94\\u5b8c\\u6210BUG\\u6570\", \"x\": [\"8-3\", \"8-4\", \"9-1\", \"9-2\", \"9-3\"], \"y\": [1.0, 2.0, 0.0, 2.0, 3.0], \"type\": \"scatter\", \"uid\": \"7742ba44-c204-11e8-ad45-a81e84e6c740\"}, {\"name\": \"\\u86cb\\u767d\\u548c\\u533b\\u5b66\\u7ec4_\\u5b8c\\u6210BUG\\u4fee\\u590d\\u6570\", \"x\": [\"8-3\", \"8-4\", \"9-1\", \"9-2\", \"9-3\"], \"y\": [1.0, 1.0, 0.0, 0.0, 3.0], \"type\": \"scatter\", \"uid\": \"7742bd6e-c204-11e8-ad45-a81e84e6c740\"}, {\"name\": \"\\u8c03\\u63a7\\u7814\\u53d1\\u7ec4_\\u5e94\\u5b8c\\u6210BUG\\u6570\", \"x\": [\"8-4\"], \"y\": [1.0], \"type\": \"scatter\", \"uid\": \"7742c070-c204-11e8-ad45-a81e84e6c740\"}, {\"name\": \"\\u8c03\\u63a7\\u7814\\u53d1\\u7ec4_\\u5b8c\\u6210BUG\\u4fee\\u590d\\u6570\", \"x\": [\"8-4\"], \"y\": [2.0], \"type\": \"scatter\", \"uid\": \"7742c386-c204-11e8-ad45-a81e84e6c740\"}],\n",
       "            {\"title\": \"\\u5e94\\u5b8c\\u6210BUG\\u6570&\\u5b8c\\u6210BUG\\u4fee\\u590d\\u6570\\u5468\\u8d8b\\u52bf\\u56fe\", \"xaxis\": {\"mirror\": \"all\", \"nticks\": 20, \"showgrid\": true, \"showline\": true, \"title\": \"\\u5468\", \"zeroline\": true}, \"yaxis\": {\"mirror\": \"all\", \"nticks\": 20, \"showgrid\": true, \"showline\": true, \"title\": \"\\u5e94\\u5b8c\\u6210BUG\\u6570&\\u5b8c\\u6210BUG\\u4fee\\u590d\\u6570\", \"zeroline\": true}},\n",
       "            {\"showLink\": true, \"linkText\": \"Export to plot.ly\"}\n",
       "        ).then(function () {return Plotly.addFrames('3034462b-e592-4a9c-b00a-add542625907',{});}).then(function(){Plotly.animate('3034462b-e592-4a9c-b00a-add542625907');})\n",
       "        });</script>"
      ],
      "text/vnd.plotly.v1+html": [
       "<div id=\"3034462b-e592-4a9c-b00a-add542625907\" style=\"height: 525px; width: 100%;\" class=\"plotly-graph-div\"></div><script type=\"text/javascript\">require([\"plotly\"], function(Plotly) { window.PLOTLYENV=window.PLOTLYENV || {};window.PLOTLYENV.BASE_URL=\"https://plot.ly\";\n",
       "        Plotly.plot(\n",
       "            '3034462b-e592-4a9c-b00a-add542625907',\n",
       "            [{\"name\": \"\\u751f\\u7269\\u5b66DNA\\u7ec4_\\u5e94\\u5b8c\\u6210BUG\\u6570\", \"x\": [\"8-3\", \"8-4\", \"9-1\", \"9-2\", \"9-3\"], \"y\": [0.0, 0.0, 0.0, 1.0, 1.0], \"type\": \"scatter\", \"uid\": \"7742b1ac-c204-11e8-ad45-a81e84e6c740\"}, {\"name\": \"\\u751f\\u7269\\u5b66DNA\\u7ec4_\\u5b8c\\u6210BUG\\u4fee\\u590d\\u6570\", \"x\": [\"8-3\", \"8-4\", \"9-1\", \"9-2\", \"9-3\"], \"y\": [0.0, 1.0, 0.0, 1.0, 1.0], \"type\": \"scatter\", \"uid\": \"7742b698-c204-11e8-ad45-a81e84e6c740\"}, {\"name\": \"\\u86cb\\u767d\\u548c\\u533b\\u5b66\\u7ec4_\\u5e94\\u5b8c\\u6210BUG\\u6570\", \"x\": [\"8-3\", \"8-4\", \"9-1\", \"9-2\", \"9-3\"], \"y\": [1.0, 2.0, 0.0, 2.0, 3.0], \"type\": \"scatter\", \"uid\": \"7742ba44-c204-11e8-ad45-a81e84e6c740\"}, {\"name\": \"\\u86cb\\u767d\\u548c\\u533b\\u5b66\\u7ec4_\\u5b8c\\u6210BUG\\u4fee\\u590d\\u6570\", \"x\": [\"8-3\", \"8-4\", \"9-1\", \"9-2\", \"9-3\"], \"y\": [1.0, 1.0, 0.0, 0.0, 3.0], \"type\": \"scatter\", \"uid\": \"7742bd6e-c204-11e8-ad45-a81e84e6c740\"}, {\"name\": \"\\u8c03\\u63a7\\u7814\\u53d1\\u7ec4_\\u5e94\\u5b8c\\u6210BUG\\u6570\", \"x\": [\"8-4\"], \"y\": [1.0], \"type\": \"scatter\", \"uid\": \"7742c070-c204-11e8-ad45-a81e84e6c740\"}, {\"name\": \"\\u8c03\\u63a7\\u7814\\u53d1\\u7ec4_\\u5b8c\\u6210BUG\\u4fee\\u590d\\u6570\", \"x\": [\"8-4\"], \"y\": [2.0], \"type\": \"scatter\", \"uid\": \"7742c386-c204-11e8-ad45-a81e84e6c740\"}],\n",
       "            {\"title\": \"\\u5e94\\u5b8c\\u6210BUG\\u6570&\\u5b8c\\u6210BUG\\u4fee\\u590d\\u6570\\u5468\\u8d8b\\u52bf\\u56fe\", \"xaxis\": {\"mirror\": \"all\", \"nticks\": 20, \"showgrid\": true, \"showline\": true, \"title\": \"\\u5468\", \"zeroline\": true}, \"yaxis\": {\"mirror\": \"all\", \"nticks\": 20, \"showgrid\": true, \"showline\": true, \"title\": \"\\u5e94\\u5b8c\\u6210BUG\\u6570&\\u5b8c\\u6210BUG\\u4fee\\u590d\\u6570\", \"zeroline\": true}},\n",
       "            {\"showLink\": true, \"linkText\": \"Export to plot.ly\"}\n",
       "        ).then(function () {return Plotly.addFrames('3034462b-e592-4a9c-b00a-add542625907',{});}).then(function(){Plotly.animate('3034462b-e592-4a9c-b00a-add542625907');})\n",
       "        });</script>"
      ]
     },
     "metadata": {},
     "output_type": "display_data"
    },
    {
     "data": {
      "application/vnd.plotly.v1+json": {
       "data": [
        {
         "name": "生物学DNA组_应完成BUG数",
         "type": "scatter",
         "uid": "776282b6-c204-11e8-ad45-a81e84e6c740",
         "x": [
          "8",
          "9"
         ],
         "y": [
          0,
          2
         ]
        },
        {
         "name": "生物学DNA组_完成BUG修复数",
         "type": "scatter",
         "uid": "77628d56-c204-11e8-ad45-a81e84e6c740",
         "x": [
          "8",
          "9"
         ],
         "y": [
          1,
          2
         ]
        },
        {
         "name": "蛋白和医学组_应完成BUG数",
         "type": "scatter",
         "uid": "77629fd0-c204-11e8-ad45-a81e84e6c740",
         "x": [
          "8",
          "9"
         ],
         "y": [
          3,
          5
         ]
        },
        {
         "name": "蛋白和医学组_完成BUG修复数",
         "type": "scatter",
         "uid": "7762a732-c204-11e8-ad45-a81e84e6c740",
         "x": [
          "8",
          "9"
         ],
         "y": [
          2,
          3
         ]
        },
        {
         "name": "调控研发组_应完成BUG数",
         "type": "scatter",
         "uid": "7762b27c-c204-11e8-ad45-a81e84e6c740",
         "x": [
          "8"
         ],
         "y": [
          null
         ]
        },
        {
         "name": "调控研发组_完成BUG修复数",
         "type": "scatter",
         "uid": "7762bbb4-c204-11e8-ad45-a81e84e6c740",
         "x": [
          "8"
         ],
         "y": [
          null
         ]
        }
       ],
       "layout": {
        "title": "应完成BUG数&完成BUG修复数月趋势图",
        "xaxis": {
         "mirror": "all",
         "nticks": 20,
         "showgrid": true,
         "showline": true,
         "title": "月",
         "zeroline": true
        },
        "yaxis": {
         "mirror": "all",
         "nticks": 20,
         "showgrid": true,
         "showline": true,
         "title": "应完成BUG数&完成BUG修复数",
         "zeroline": true
        }
       }
      },
      "text/html": [
       "<div id=\"9d2f7cb3-bc33-456b-a991-844255ca53b3\" style=\"height: 525px; width: 100%;\" class=\"plotly-graph-div\"></div><script type=\"text/javascript\">require([\"plotly\"], function(Plotly) { window.PLOTLYENV=window.PLOTLYENV || {};window.PLOTLYENV.BASE_URL=\"https://plot.ly\";\n",
       "        Plotly.plot(\n",
       "            '9d2f7cb3-bc33-456b-a991-844255ca53b3',\n",
       "            [{\"name\": \"\\u751f\\u7269\\u5b66DNA\\u7ec4_\\u5e94\\u5b8c\\u6210BUG\\u6570\", \"x\": [\"8\", \"9\"], \"y\": [0.0, 2.0], \"type\": \"scatter\", \"uid\": \"776282b6-c204-11e8-ad45-a81e84e6c740\"}, {\"name\": \"\\u751f\\u7269\\u5b66DNA\\u7ec4_\\u5b8c\\u6210BUG\\u4fee\\u590d\\u6570\", \"x\": [\"8\", \"9\"], \"y\": [1.0, 2.0], \"type\": \"scatter\", \"uid\": \"77628d56-c204-11e8-ad45-a81e84e6c740\"}, {\"name\": \"\\u86cb\\u767d\\u548c\\u533b\\u5b66\\u7ec4_\\u5e94\\u5b8c\\u6210BUG\\u6570\", \"x\": [\"8\", \"9\"], \"y\": [3.0, 5.0], \"type\": \"scatter\", \"uid\": \"77629fd0-c204-11e8-ad45-a81e84e6c740\"}, {\"name\": \"\\u86cb\\u767d\\u548c\\u533b\\u5b66\\u7ec4_\\u5b8c\\u6210BUG\\u4fee\\u590d\\u6570\", \"x\": [\"8\", \"9\"], \"y\": [2.0, 3.0], \"type\": \"scatter\", \"uid\": \"7762a732-c204-11e8-ad45-a81e84e6c740\"}, {\"name\": \"\\u8c03\\u63a7\\u7814\\u53d1\\u7ec4_\\u5e94\\u5b8c\\u6210BUG\\u6570\", \"x\": [\"8\"], \"y\": [null], \"type\": \"scatter\", \"uid\": \"7762b27c-c204-11e8-ad45-a81e84e6c740\"}, {\"name\": \"\\u8c03\\u63a7\\u7814\\u53d1\\u7ec4_\\u5b8c\\u6210BUG\\u4fee\\u590d\\u6570\", \"x\": [\"8\"], \"y\": [null], \"type\": \"scatter\", \"uid\": \"7762bbb4-c204-11e8-ad45-a81e84e6c740\"}],\n",
       "            {\"title\": \"\\u5e94\\u5b8c\\u6210BUG\\u6570&\\u5b8c\\u6210BUG\\u4fee\\u590d\\u6570\\u6708\\u8d8b\\u52bf\\u56fe\", \"xaxis\": {\"mirror\": \"all\", \"nticks\": 20, \"showgrid\": true, \"showline\": true, \"title\": \"\\u6708\", \"zeroline\": true}, \"yaxis\": {\"mirror\": \"all\", \"nticks\": 20, \"showgrid\": true, \"showline\": true, \"title\": \"\\u5e94\\u5b8c\\u6210BUG\\u6570&\\u5b8c\\u6210BUG\\u4fee\\u590d\\u6570\", \"zeroline\": true}},\n",
       "            {\"showLink\": true, \"linkText\": \"Export to plot.ly\"}\n",
       "        ).then(function () {return Plotly.addFrames('9d2f7cb3-bc33-456b-a991-844255ca53b3',{});}).then(function(){Plotly.animate('9d2f7cb3-bc33-456b-a991-844255ca53b3');})\n",
       "        });</script>"
      ],
      "text/vnd.plotly.v1+html": [
       "<div id=\"9d2f7cb3-bc33-456b-a991-844255ca53b3\" style=\"height: 525px; width: 100%;\" class=\"plotly-graph-div\"></div><script type=\"text/javascript\">require([\"plotly\"], function(Plotly) { window.PLOTLYENV=window.PLOTLYENV || {};window.PLOTLYENV.BASE_URL=\"https://plot.ly\";\n",
       "        Plotly.plot(\n",
       "            '9d2f7cb3-bc33-456b-a991-844255ca53b3',\n",
       "            [{\"name\": \"\\u751f\\u7269\\u5b66DNA\\u7ec4_\\u5e94\\u5b8c\\u6210BUG\\u6570\", \"x\": [\"8\", \"9\"], \"y\": [0.0, 2.0], \"type\": \"scatter\", \"uid\": \"776282b6-c204-11e8-ad45-a81e84e6c740\"}, {\"name\": \"\\u751f\\u7269\\u5b66DNA\\u7ec4_\\u5b8c\\u6210BUG\\u4fee\\u590d\\u6570\", \"x\": [\"8\", \"9\"], \"y\": [1.0, 2.0], \"type\": \"scatter\", \"uid\": \"77628d56-c204-11e8-ad45-a81e84e6c740\"}, {\"name\": \"\\u86cb\\u767d\\u548c\\u533b\\u5b66\\u7ec4_\\u5e94\\u5b8c\\u6210BUG\\u6570\", \"x\": [\"8\", \"9\"], \"y\": [3.0, 5.0], \"type\": \"scatter\", \"uid\": \"77629fd0-c204-11e8-ad45-a81e84e6c740\"}, {\"name\": \"\\u86cb\\u767d\\u548c\\u533b\\u5b66\\u7ec4_\\u5b8c\\u6210BUG\\u4fee\\u590d\\u6570\", \"x\": [\"8\", \"9\"], \"y\": [2.0, 3.0], \"type\": \"scatter\", \"uid\": \"7762a732-c204-11e8-ad45-a81e84e6c740\"}, {\"name\": \"\\u8c03\\u63a7\\u7814\\u53d1\\u7ec4_\\u5e94\\u5b8c\\u6210BUG\\u6570\", \"x\": [\"8\"], \"y\": [null], \"type\": \"scatter\", \"uid\": \"7762b27c-c204-11e8-ad45-a81e84e6c740\"}, {\"name\": \"\\u8c03\\u63a7\\u7814\\u53d1\\u7ec4_\\u5b8c\\u6210BUG\\u4fee\\u590d\\u6570\", \"x\": [\"8\"], \"y\": [null], \"type\": \"scatter\", \"uid\": \"7762bbb4-c204-11e8-ad45-a81e84e6c740\"}],\n",
       "            {\"title\": \"\\u5e94\\u5b8c\\u6210BUG\\u6570&\\u5b8c\\u6210BUG\\u4fee\\u590d\\u6570\\u6708\\u8d8b\\u52bf\\u56fe\", \"xaxis\": {\"mirror\": \"all\", \"nticks\": 20, \"showgrid\": true, \"showline\": true, \"title\": \"\\u6708\", \"zeroline\": true}, \"yaxis\": {\"mirror\": \"all\", \"nticks\": 20, \"showgrid\": true, \"showline\": true, \"title\": \"\\u5e94\\u5b8c\\u6210BUG\\u6570&\\u5b8c\\u6210BUG\\u4fee\\u590d\\u6570\", \"zeroline\": true}},\n",
       "            {\"showLink\": true, \"linkText\": \"Export to plot.ly\"}\n",
       "        ).then(function () {return Plotly.addFrames('9d2f7cb3-bc33-456b-a991-844255ca53b3',{});}).then(function(){Plotly.animate('9d2f7cb3-bc33-456b-a991-844255ca53b3');})\n",
       "        });</script>"
      ]
     },
     "metadata": {},
     "output_type": "display_data"
    }
   ],
   "source": [
    "data_dict = {'应完成BUG数': ['应完成BUG数'], '完成BUG修复数': ['完成BUG修复数']}\n",
    "myModule.plot( all_dict_1, data_dict, '组别' ,  'line', all='' )"
   ]
  },
  {
   "cell_type": "markdown",
   "metadata": {
    "hide_input": true
   },
   "source": [
    "## 个人情况"
   ]
  },
  {
   "cell_type": "markdown",
   "metadata": {},
   "source": [
    "### 转产情况"
   ]
  },
  {
   "cell_type": "markdown",
   "metadata": {},
   "source": [
    "#### 转产通过数、一次转产通过数和通过率"
   ]
  },
  {
   "cell_type": "code",
   "execution_count": 24,
   "metadata": {},
   "outputs": [
    {
     "data": {
      "application/vnd.plotly.v1+json": {
       "data": [
        {
         "name": "封彦杰_转产通过数",
         "type": "scatter",
         "uid": "77c33c96-c204-11e8-ad45-a81e84e6c740",
         "x": [
          "8-3",
          "8-4",
          "9-2",
          "9-3"
         ],
         "y": [
          0,
          0,
          0,
          0
         ]
        },
        {
         "name": "封彦杰_一次转产通过数",
         "type": "scatter",
         "uid": "77c34466-c204-11e8-ad45-a81e84e6c740",
         "x": [
          "8-3",
          "8-4",
          "9-2",
          "9-3"
         ],
         "y": [
          0,
          0,
          0,
          0
         ]
        },
        {
         "name": "封彦杰_通过率",
         "type": "scatter",
         "uid": "77c347f4-c204-11e8-ad45-a81e84e6c740",
         "x": [
          "8-3",
          "8-4",
          "9-2",
          "9-3"
         ],
         "y": [
          null,
          null,
          null,
          null
         ]
        },
        {
         "name": "刘江_转产通过数",
         "type": "scatter",
         "uid": "77c34ae2-c204-11e8-ad45-a81e84e6c740",
         "x": [
          "8-3",
          "8-4",
          "9-1",
          "9-2",
          "9-3"
         ],
         "y": [
          0,
          0,
          1,
          0,
          0
         ]
        },
        {
         "name": "刘江_一次转产通过数",
         "type": "scatter",
         "uid": "77c34d94-c204-11e8-ad45-a81e84e6c740",
         "x": [
          "8-3",
          "8-4",
          "9-1",
          "9-2",
          "9-3"
         ],
         "y": [
          0,
          0,
          1,
          0,
          0
         ]
        },
        {
         "name": "刘江_通过率",
         "type": "scatter",
         "uid": "77c35046-c204-11e8-ad45-a81e84e6c740",
         "x": [
          "8-3",
          "8-4",
          "9-1",
          "9-2",
          "9-3"
         ],
         "y": [
          null,
          null,
          1,
          null,
          null
         ]
        },
        {
         "name": "苏彦勋_转产通过数",
         "type": "scatter",
         "uid": "77c352f8-c204-11e8-ad45-a81e84e6c740",
         "x": [
          "8-3"
         ],
         "y": [
          1
         ]
        },
        {
         "name": "苏彦勋_一次转产通过数",
         "type": "scatter",
         "uid": "77c35596-c204-11e8-ad45-a81e84e6c740",
         "x": [
          "8-3"
         ],
         "y": [
          1
         ]
        },
        {
         "name": "苏彦勋_通过率",
         "type": "scatter",
         "uid": "77c3582a-c204-11e8-ad45-a81e84e6c740",
         "x": [
          "8-3"
         ],
         "y": [
          1
         ]
        },
        {
         "name": "孟昊_转产通过数",
         "type": "scatter",
         "uid": "77c35b22-c204-11e8-ad45-a81e84e6c740",
         "x": [
          "8-3",
          "9-1"
         ],
         "y": [
          1,
          1
         ]
        },
        {
         "name": "孟昊_一次转产通过数",
         "type": "scatter",
         "uid": "77c35dde-c204-11e8-ad45-a81e84e6c740",
         "x": [
          "8-3",
          "9-1"
         ],
         "y": [
          1,
          1
         ]
        },
        {
         "name": "孟昊_通过率",
         "type": "scatter",
         "uid": "77c361f8-c204-11e8-ad45-a81e84e6c740",
         "x": [
          "8-3",
          "9-1"
         ],
         "y": [
          1,
          1
         ]
        },
        {
         "name": "任雪_转产通过数",
         "type": "scatter",
         "uid": "77c36540-c204-11e8-ad45-a81e84e6c740",
         "x": [
          "8-3",
          "8-4",
          "9-1",
          "9-2",
          "9-3"
         ],
         "y": [
          0,
          0,
          0,
          0,
          0
         ]
        },
        {
         "name": "任雪_一次转产通过数",
         "type": "scatter",
         "uid": "77c367e8-c204-11e8-ad45-a81e84e6c740",
         "x": [
          "8-3",
          "8-4",
          "9-1",
          "9-2",
          "9-3"
         ],
         "y": [
          0,
          0,
          0,
          0,
          0
         ]
        },
        {
         "name": "任雪_通过率",
         "type": "scatter",
         "uid": "77c36a72-c204-11e8-ad45-a81e84e6c740",
         "x": [
          "8-3",
          "8-4",
          "9-1",
          "9-2",
          "9-3"
         ],
         "y": [
          null,
          null,
          null,
          null,
          null
         ]
        },
        {
         "name": "姚盟成_转产通过数",
         "type": "scatter",
         "uid": "77c36d1a-c204-11e8-ad45-a81e84e6c740",
         "x": [
          "8-4"
         ],
         "y": [
          1
         ]
        },
        {
         "name": "姚盟成_一次转产通过数",
         "type": "scatter",
         "uid": "77c36fa4-c204-11e8-ad45-a81e84e6c740",
         "x": [
          "8-4"
         ],
         "y": [
          1
         ]
        },
        {
         "name": "姚盟成_通过率",
         "type": "scatter",
         "uid": "77c37238-c204-11e8-ad45-a81e84e6c740",
         "x": [
          "8-4"
         ],
         "y": [
          1
         ]
        },
        {
         "name": "刘慧玲_转产通过数",
         "type": "scatter",
         "uid": "77c374b8-c204-11e8-ad45-a81e84e6c740",
         "x": [
          "8-4"
         ],
         "y": [
          1
         ]
        },
        {
         "name": "刘慧玲_一次转产通过数",
         "type": "scatter",
         "uid": "77c3774c-c204-11e8-ad45-a81e84e6c740",
         "x": [
          "8-4"
         ],
         "y": [
          1
         ]
        },
        {
         "name": "刘慧玲_通过率",
         "type": "scatter",
         "uid": "77c379d6-c204-11e8-ad45-a81e84e6c740",
         "x": [
          "8-4"
         ],
         "y": [
          1
         ]
        },
        {
         "name": "李华云_转产通过数",
         "type": "scatter",
         "uid": "77c37c60-c204-11e8-ad45-a81e84e6c740",
         "x": [
          "8-4",
          "9-3"
         ],
         "y": [
          2,
          1
         ]
        },
        {
         "name": "李华云_一次转产通过数",
         "type": "scatter",
         "uid": "77c37eea-c204-11e8-ad45-a81e84e6c740",
         "x": [
          "8-4",
          "9-3"
         ],
         "y": [
          2,
          1
         ]
        },
        {
         "name": "李华云_通过率",
         "type": "scatter",
         "uid": "77c3816a-c204-11e8-ad45-a81e84e6c740",
         "x": [
          "8-4",
          "9-3"
         ],
         "y": [
          1,
          1
         ]
        },
        {
         "name": "范旭宁_转产通过数",
         "type": "scatter",
         "uid": "77c383fe-c204-11e8-ad45-a81e84e6c740",
         "x": [
          "8-4"
         ],
         "y": [
          2
         ]
        },
        {
         "name": "范旭宁_一次转产通过数",
         "type": "scatter",
         "uid": "77c3875a-c204-11e8-ad45-a81e84e6c740",
         "x": [
          "8-4"
         ],
         "y": [
          2
         ]
        },
        {
         "name": "范旭宁_通过率",
         "type": "scatter",
         "uid": "77c38a84-c204-11e8-ad45-a81e84e6c740",
         "x": [
          "8-4"
         ],
         "y": [
          1
         ]
        },
        {
         "name": "韩少怀_转产通过数",
         "type": "scatter",
         "uid": "77c38d9a-c204-11e8-ad45-a81e84e6c740",
         "x": [
          "8-4"
         ],
         "y": [
          0
         ]
        },
        {
         "name": "韩少怀_一次转产通过数",
         "type": "scatter",
         "uid": "77c39024-c204-11e8-ad45-a81e84e6c740",
         "x": [
          "8-4"
         ],
         "y": [
          0
         ]
        },
        {
         "name": "韩少怀_通过率",
         "type": "scatter",
         "uid": "77c392a4-c204-11e8-ad45-a81e84e6c740",
         "x": [
          "8-4"
         ],
         "y": [
          null
         ]
        }
       ],
       "layout": {
        "title": "转产通过数&一次转产通过数&通过率周趋势图",
        "xaxis": {
         "mirror": "all",
         "nticks": 20,
         "showgrid": true,
         "showline": true,
         "title": "周",
         "zeroline": true
        },
        "yaxis": {
         "mirror": "all",
         "nticks": 20,
         "showgrid": true,
         "showline": true,
         "title": "转产通过数&一次转产通过数&通过率",
         "zeroline": true
        }
       }
      },
      "text/html": [
       "<div id=\"eab25f21-e2b9-46f1-a33d-9d6120e66c30\" style=\"height: 525px; width: 100%;\" class=\"plotly-graph-div\"></div><script type=\"text/javascript\">require([\"plotly\"], function(Plotly) { window.PLOTLYENV=window.PLOTLYENV || {};window.PLOTLYENV.BASE_URL=\"https://plot.ly\";\n",
       "        Plotly.plot(\n",
       "            'eab25f21-e2b9-46f1-a33d-9d6120e66c30',\n",
       "            [{\"name\": \"\\u5c01\\u5f66\\u6770_\\u8f6c\\u4ea7\\u901a\\u8fc7\\u6570\", \"x\": [\"8-3\", \"8-4\", \"9-2\", \"9-3\"], \"y\": [0.0, 0.0, 0.0, 0.0], \"type\": \"scatter\", \"uid\": \"77c33c96-c204-11e8-ad45-a81e84e6c740\"}, {\"name\": \"\\u5c01\\u5f66\\u6770_\\u4e00\\u6b21\\u8f6c\\u4ea7\\u901a\\u8fc7\\u6570\", \"x\": [\"8-3\", \"8-4\", \"9-2\", \"9-3\"], \"y\": [0.0, 0.0, 0.0, 0.0], \"type\": \"scatter\", \"uid\": \"77c34466-c204-11e8-ad45-a81e84e6c740\"}, {\"name\": \"\\u5c01\\u5f66\\u6770_\\u901a\\u8fc7\\u7387\", \"x\": [\"8-3\", \"8-4\", \"9-2\", \"9-3\"], \"y\": [null, null, null, null], \"type\": \"scatter\", \"uid\": \"77c347f4-c204-11e8-ad45-a81e84e6c740\"}, {\"name\": \"\\u5218\\u6c5f_\\u8f6c\\u4ea7\\u901a\\u8fc7\\u6570\", \"x\": [\"8-3\", \"8-4\", \"9-1\", \"9-2\", \"9-3\"], \"y\": [0.0, 0.0, 1.0, 0.0, 0.0], \"type\": \"scatter\", \"uid\": \"77c34ae2-c204-11e8-ad45-a81e84e6c740\"}, {\"name\": \"\\u5218\\u6c5f_\\u4e00\\u6b21\\u8f6c\\u4ea7\\u901a\\u8fc7\\u6570\", \"x\": [\"8-3\", \"8-4\", \"9-1\", \"9-2\", \"9-3\"], \"y\": [0.0, 0.0, 1.0, 0.0, 0.0], \"type\": \"scatter\", \"uid\": \"77c34d94-c204-11e8-ad45-a81e84e6c740\"}, {\"name\": \"\\u5218\\u6c5f_\\u901a\\u8fc7\\u7387\", \"x\": [\"8-3\", \"8-4\", \"9-1\", \"9-2\", \"9-3\"], \"y\": [null, null, 1.0, null, null], \"type\": \"scatter\", \"uid\": \"77c35046-c204-11e8-ad45-a81e84e6c740\"}, {\"name\": \"\\u82cf\\u5f66\\u52cb_\\u8f6c\\u4ea7\\u901a\\u8fc7\\u6570\", \"x\": [\"8-3\"], \"y\": [1.0], \"type\": \"scatter\", \"uid\": \"77c352f8-c204-11e8-ad45-a81e84e6c740\"}, {\"name\": \"\\u82cf\\u5f66\\u52cb_\\u4e00\\u6b21\\u8f6c\\u4ea7\\u901a\\u8fc7\\u6570\", \"x\": [\"8-3\"], \"y\": [1.0], \"type\": \"scatter\", \"uid\": \"77c35596-c204-11e8-ad45-a81e84e6c740\"}, {\"name\": \"\\u82cf\\u5f66\\u52cb_\\u901a\\u8fc7\\u7387\", \"x\": [\"8-3\"], \"y\": [1.0], \"type\": \"scatter\", \"uid\": \"77c3582a-c204-11e8-ad45-a81e84e6c740\"}, {\"name\": \"\\u5b5f\\u660a_\\u8f6c\\u4ea7\\u901a\\u8fc7\\u6570\", \"x\": [\"8-3\", \"9-1\"], \"y\": [1.0, 1.0], \"type\": \"scatter\", \"uid\": \"77c35b22-c204-11e8-ad45-a81e84e6c740\"}, {\"name\": \"\\u5b5f\\u660a_\\u4e00\\u6b21\\u8f6c\\u4ea7\\u901a\\u8fc7\\u6570\", \"x\": [\"8-3\", \"9-1\"], \"y\": [1.0, 1.0], \"type\": \"scatter\", \"uid\": \"77c35dde-c204-11e8-ad45-a81e84e6c740\"}, {\"name\": \"\\u5b5f\\u660a_\\u901a\\u8fc7\\u7387\", \"x\": [\"8-3\", \"9-1\"], \"y\": [1.0, 1.0], \"type\": \"scatter\", \"uid\": \"77c361f8-c204-11e8-ad45-a81e84e6c740\"}, {\"name\": \"\\u4efb\\u96ea_\\u8f6c\\u4ea7\\u901a\\u8fc7\\u6570\", \"x\": [\"8-3\", \"8-4\", \"9-1\", \"9-2\", \"9-3\"], \"y\": [0.0, 0.0, 0.0, 0.0, 0.0], \"type\": \"scatter\", \"uid\": \"77c36540-c204-11e8-ad45-a81e84e6c740\"}, {\"name\": \"\\u4efb\\u96ea_\\u4e00\\u6b21\\u8f6c\\u4ea7\\u901a\\u8fc7\\u6570\", \"x\": [\"8-3\", \"8-4\", \"9-1\", \"9-2\", \"9-3\"], \"y\": [0.0, 0.0, 0.0, 0.0, 0.0], \"type\": \"scatter\", \"uid\": \"77c367e8-c204-11e8-ad45-a81e84e6c740\"}, {\"name\": \"\\u4efb\\u96ea_\\u901a\\u8fc7\\u7387\", \"x\": [\"8-3\", \"8-4\", \"9-1\", \"9-2\", \"9-3\"], \"y\": [null, null, null, null, null], \"type\": \"scatter\", \"uid\": \"77c36a72-c204-11e8-ad45-a81e84e6c740\"}, {\"name\": \"\\u59da\\u76df\\u6210_\\u8f6c\\u4ea7\\u901a\\u8fc7\\u6570\", \"x\": [\"8-4\"], \"y\": [1.0], \"type\": \"scatter\", \"uid\": \"77c36d1a-c204-11e8-ad45-a81e84e6c740\"}, {\"name\": \"\\u59da\\u76df\\u6210_\\u4e00\\u6b21\\u8f6c\\u4ea7\\u901a\\u8fc7\\u6570\", \"x\": [\"8-4\"], \"y\": [1.0], \"type\": \"scatter\", \"uid\": \"77c36fa4-c204-11e8-ad45-a81e84e6c740\"}, {\"name\": \"\\u59da\\u76df\\u6210_\\u901a\\u8fc7\\u7387\", \"x\": [\"8-4\"], \"y\": [1.0], \"type\": \"scatter\", \"uid\": \"77c37238-c204-11e8-ad45-a81e84e6c740\"}, {\"name\": \"\\u5218\\u6167\\u73b2_\\u8f6c\\u4ea7\\u901a\\u8fc7\\u6570\", \"x\": [\"8-4\"], \"y\": [1.0], \"type\": \"scatter\", \"uid\": \"77c374b8-c204-11e8-ad45-a81e84e6c740\"}, {\"name\": \"\\u5218\\u6167\\u73b2_\\u4e00\\u6b21\\u8f6c\\u4ea7\\u901a\\u8fc7\\u6570\", \"x\": [\"8-4\"], \"y\": [1.0], \"type\": \"scatter\", \"uid\": \"77c3774c-c204-11e8-ad45-a81e84e6c740\"}, {\"name\": \"\\u5218\\u6167\\u73b2_\\u901a\\u8fc7\\u7387\", \"x\": [\"8-4\"], \"y\": [1.0], \"type\": \"scatter\", \"uid\": \"77c379d6-c204-11e8-ad45-a81e84e6c740\"}, {\"name\": \"\\u674e\\u534e\\u4e91_\\u8f6c\\u4ea7\\u901a\\u8fc7\\u6570\", \"x\": [\"8-4\", \"9-3\"], \"y\": [2.0, 1.0], \"type\": \"scatter\", \"uid\": \"77c37c60-c204-11e8-ad45-a81e84e6c740\"}, {\"name\": \"\\u674e\\u534e\\u4e91_\\u4e00\\u6b21\\u8f6c\\u4ea7\\u901a\\u8fc7\\u6570\", \"x\": [\"8-4\", \"9-3\"], \"y\": [2.0, 1.0], \"type\": \"scatter\", \"uid\": \"77c37eea-c204-11e8-ad45-a81e84e6c740\"}, {\"name\": \"\\u674e\\u534e\\u4e91_\\u901a\\u8fc7\\u7387\", \"x\": [\"8-4\", \"9-3\"], \"y\": [1.0, 1.0], \"type\": \"scatter\", \"uid\": \"77c3816a-c204-11e8-ad45-a81e84e6c740\"}, {\"name\": \"\\u8303\\u65ed\\u5b81_\\u8f6c\\u4ea7\\u901a\\u8fc7\\u6570\", \"x\": [\"8-4\"], \"y\": [2.0], \"type\": \"scatter\", \"uid\": \"77c383fe-c204-11e8-ad45-a81e84e6c740\"}, {\"name\": \"\\u8303\\u65ed\\u5b81_\\u4e00\\u6b21\\u8f6c\\u4ea7\\u901a\\u8fc7\\u6570\", \"x\": [\"8-4\"], \"y\": [2.0], \"type\": \"scatter\", \"uid\": \"77c3875a-c204-11e8-ad45-a81e84e6c740\"}, {\"name\": \"\\u8303\\u65ed\\u5b81_\\u901a\\u8fc7\\u7387\", \"x\": [\"8-4\"], \"y\": [1.0], \"type\": \"scatter\", \"uid\": \"77c38a84-c204-11e8-ad45-a81e84e6c740\"}, {\"name\": \"\\u97e9\\u5c11\\u6000_\\u8f6c\\u4ea7\\u901a\\u8fc7\\u6570\", \"x\": [\"8-4\"], \"y\": [0.0], \"type\": \"scatter\", \"uid\": \"77c38d9a-c204-11e8-ad45-a81e84e6c740\"}, {\"name\": \"\\u97e9\\u5c11\\u6000_\\u4e00\\u6b21\\u8f6c\\u4ea7\\u901a\\u8fc7\\u6570\", \"x\": [\"8-4\"], \"y\": [0.0], \"type\": \"scatter\", \"uid\": \"77c39024-c204-11e8-ad45-a81e84e6c740\"}, {\"name\": \"\\u97e9\\u5c11\\u6000_\\u901a\\u8fc7\\u7387\", \"x\": [\"8-4\"], \"y\": [null], \"type\": \"scatter\", \"uid\": \"77c392a4-c204-11e8-ad45-a81e84e6c740\"}],\n",
       "            {\"title\": \"\\u8f6c\\u4ea7\\u901a\\u8fc7\\u6570&\\u4e00\\u6b21\\u8f6c\\u4ea7\\u901a\\u8fc7\\u6570&\\u901a\\u8fc7\\u7387\\u5468\\u8d8b\\u52bf\\u56fe\", \"xaxis\": {\"mirror\": \"all\", \"nticks\": 20, \"showgrid\": true, \"showline\": true, \"title\": \"\\u5468\", \"zeroline\": true}, \"yaxis\": {\"mirror\": \"all\", \"nticks\": 20, \"showgrid\": true, \"showline\": true, \"title\": \"\\u8f6c\\u4ea7\\u901a\\u8fc7\\u6570&\\u4e00\\u6b21\\u8f6c\\u4ea7\\u901a\\u8fc7\\u6570&\\u901a\\u8fc7\\u7387\", \"zeroline\": true}},\n",
       "            {\"showLink\": true, \"linkText\": \"Export to plot.ly\"}\n",
       "        ).then(function () {return Plotly.addFrames('eab25f21-e2b9-46f1-a33d-9d6120e66c30',{});}).then(function(){Plotly.animate('eab25f21-e2b9-46f1-a33d-9d6120e66c30');})\n",
       "        });</script>"
      ],
      "text/vnd.plotly.v1+html": [
       "<div id=\"eab25f21-e2b9-46f1-a33d-9d6120e66c30\" style=\"height: 525px; width: 100%;\" class=\"plotly-graph-div\"></div><script type=\"text/javascript\">require([\"plotly\"], function(Plotly) { window.PLOTLYENV=window.PLOTLYENV || {};window.PLOTLYENV.BASE_URL=\"https://plot.ly\";\n",
       "        Plotly.plot(\n",
       "            'eab25f21-e2b9-46f1-a33d-9d6120e66c30',\n",
       "            [{\"name\": \"\\u5c01\\u5f66\\u6770_\\u8f6c\\u4ea7\\u901a\\u8fc7\\u6570\", \"x\": [\"8-3\", \"8-4\", \"9-2\", \"9-3\"], \"y\": [0.0, 0.0, 0.0, 0.0], \"type\": \"scatter\", \"uid\": \"77c33c96-c204-11e8-ad45-a81e84e6c740\"}, {\"name\": \"\\u5c01\\u5f66\\u6770_\\u4e00\\u6b21\\u8f6c\\u4ea7\\u901a\\u8fc7\\u6570\", \"x\": [\"8-3\", \"8-4\", \"9-2\", \"9-3\"], \"y\": [0.0, 0.0, 0.0, 0.0], \"type\": \"scatter\", \"uid\": \"77c34466-c204-11e8-ad45-a81e84e6c740\"}, {\"name\": \"\\u5c01\\u5f66\\u6770_\\u901a\\u8fc7\\u7387\", \"x\": [\"8-3\", \"8-4\", \"9-2\", \"9-3\"], \"y\": [null, null, null, null], \"type\": \"scatter\", \"uid\": \"77c347f4-c204-11e8-ad45-a81e84e6c740\"}, {\"name\": \"\\u5218\\u6c5f_\\u8f6c\\u4ea7\\u901a\\u8fc7\\u6570\", \"x\": [\"8-3\", \"8-4\", \"9-1\", \"9-2\", \"9-3\"], \"y\": [0.0, 0.0, 1.0, 0.0, 0.0], \"type\": \"scatter\", \"uid\": \"77c34ae2-c204-11e8-ad45-a81e84e6c740\"}, {\"name\": \"\\u5218\\u6c5f_\\u4e00\\u6b21\\u8f6c\\u4ea7\\u901a\\u8fc7\\u6570\", \"x\": [\"8-3\", \"8-4\", \"9-1\", \"9-2\", \"9-3\"], \"y\": [0.0, 0.0, 1.0, 0.0, 0.0], \"type\": \"scatter\", \"uid\": \"77c34d94-c204-11e8-ad45-a81e84e6c740\"}, {\"name\": \"\\u5218\\u6c5f_\\u901a\\u8fc7\\u7387\", \"x\": [\"8-3\", \"8-4\", \"9-1\", \"9-2\", \"9-3\"], \"y\": [null, null, 1.0, null, null], \"type\": \"scatter\", \"uid\": \"77c35046-c204-11e8-ad45-a81e84e6c740\"}, {\"name\": \"\\u82cf\\u5f66\\u52cb_\\u8f6c\\u4ea7\\u901a\\u8fc7\\u6570\", \"x\": [\"8-3\"], \"y\": [1.0], \"type\": \"scatter\", \"uid\": \"77c352f8-c204-11e8-ad45-a81e84e6c740\"}, {\"name\": \"\\u82cf\\u5f66\\u52cb_\\u4e00\\u6b21\\u8f6c\\u4ea7\\u901a\\u8fc7\\u6570\", \"x\": [\"8-3\"], \"y\": [1.0], \"type\": \"scatter\", \"uid\": \"77c35596-c204-11e8-ad45-a81e84e6c740\"}, {\"name\": \"\\u82cf\\u5f66\\u52cb_\\u901a\\u8fc7\\u7387\", \"x\": [\"8-3\"], \"y\": [1.0], \"type\": \"scatter\", \"uid\": \"77c3582a-c204-11e8-ad45-a81e84e6c740\"}, {\"name\": \"\\u5b5f\\u660a_\\u8f6c\\u4ea7\\u901a\\u8fc7\\u6570\", \"x\": [\"8-3\", \"9-1\"], \"y\": [1.0, 1.0], \"type\": \"scatter\", \"uid\": \"77c35b22-c204-11e8-ad45-a81e84e6c740\"}, {\"name\": \"\\u5b5f\\u660a_\\u4e00\\u6b21\\u8f6c\\u4ea7\\u901a\\u8fc7\\u6570\", \"x\": [\"8-3\", \"9-1\"], \"y\": [1.0, 1.0], \"type\": \"scatter\", \"uid\": \"77c35dde-c204-11e8-ad45-a81e84e6c740\"}, {\"name\": \"\\u5b5f\\u660a_\\u901a\\u8fc7\\u7387\", \"x\": [\"8-3\", \"9-1\"], \"y\": [1.0, 1.0], \"type\": \"scatter\", \"uid\": \"77c361f8-c204-11e8-ad45-a81e84e6c740\"}, {\"name\": \"\\u4efb\\u96ea_\\u8f6c\\u4ea7\\u901a\\u8fc7\\u6570\", \"x\": [\"8-3\", \"8-4\", \"9-1\", \"9-2\", \"9-3\"], \"y\": [0.0, 0.0, 0.0, 0.0, 0.0], \"type\": \"scatter\", \"uid\": \"77c36540-c204-11e8-ad45-a81e84e6c740\"}, {\"name\": \"\\u4efb\\u96ea_\\u4e00\\u6b21\\u8f6c\\u4ea7\\u901a\\u8fc7\\u6570\", \"x\": [\"8-3\", \"8-4\", \"9-1\", \"9-2\", \"9-3\"], \"y\": [0.0, 0.0, 0.0, 0.0, 0.0], \"type\": \"scatter\", \"uid\": \"77c367e8-c204-11e8-ad45-a81e84e6c740\"}, {\"name\": \"\\u4efb\\u96ea_\\u901a\\u8fc7\\u7387\", \"x\": [\"8-3\", \"8-4\", \"9-1\", \"9-2\", \"9-3\"], \"y\": [null, null, null, null, null], \"type\": \"scatter\", \"uid\": \"77c36a72-c204-11e8-ad45-a81e84e6c740\"}, {\"name\": \"\\u59da\\u76df\\u6210_\\u8f6c\\u4ea7\\u901a\\u8fc7\\u6570\", \"x\": [\"8-4\"], \"y\": [1.0], \"type\": \"scatter\", \"uid\": \"77c36d1a-c204-11e8-ad45-a81e84e6c740\"}, {\"name\": \"\\u59da\\u76df\\u6210_\\u4e00\\u6b21\\u8f6c\\u4ea7\\u901a\\u8fc7\\u6570\", \"x\": [\"8-4\"], \"y\": [1.0], \"type\": \"scatter\", \"uid\": \"77c36fa4-c204-11e8-ad45-a81e84e6c740\"}, {\"name\": \"\\u59da\\u76df\\u6210_\\u901a\\u8fc7\\u7387\", \"x\": [\"8-4\"], \"y\": [1.0], \"type\": \"scatter\", \"uid\": \"77c37238-c204-11e8-ad45-a81e84e6c740\"}, {\"name\": \"\\u5218\\u6167\\u73b2_\\u8f6c\\u4ea7\\u901a\\u8fc7\\u6570\", \"x\": [\"8-4\"], \"y\": [1.0], \"type\": \"scatter\", \"uid\": \"77c374b8-c204-11e8-ad45-a81e84e6c740\"}, {\"name\": \"\\u5218\\u6167\\u73b2_\\u4e00\\u6b21\\u8f6c\\u4ea7\\u901a\\u8fc7\\u6570\", \"x\": [\"8-4\"], \"y\": [1.0], \"type\": \"scatter\", \"uid\": \"77c3774c-c204-11e8-ad45-a81e84e6c740\"}, {\"name\": \"\\u5218\\u6167\\u73b2_\\u901a\\u8fc7\\u7387\", \"x\": [\"8-4\"], \"y\": [1.0], \"type\": \"scatter\", \"uid\": \"77c379d6-c204-11e8-ad45-a81e84e6c740\"}, {\"name\": \"\\u674e\\u534e\\u4e91_\\u8f6c\\u4ea7\\u901a\\u8fc7\\u6570\", \"x\": [\"8-4\", \"9-3\"], \"y\": [2.0, 1.0], \"type\": \"scatter\", \"uid\": \"77c37c60-c204-11e8-ad45-a81e84e6c740\"}, {\"name\": \"\\u674e\\u534e\\u4e91_\\u4e00\\u6b21\\u8f6c\\u4ea7\\u901a\\u8fc7\\u6570\", \"x\": [\"8-4\", \"9-3\"], \"y\": [2.0, 1.0], \"type\": \"scatter\", \"uid\": \"77c37eea-c204-11e8-ad45-a81e84e6c740\"}, {\"name\": \"\\u674e\\u534e\\u4e91_\\u901a\\u8fc7\\u7387\", \"x\": [\"8-4\", \"9-3\"], \"y\": [1.0, 1.0], \"type\": \"scatter\", \"uid\": \"77c3816a-c204-11e8-ad45-a81e84e6c740\"}, {\"name\": \"\\u8303\\u65ed\\u5b81_\\u8f6c\\u4ea7\\u901a\\u8fc7\\u6570\", \"x\": [\"8-4\"], \"y\": [2.0], \"type\": \"scatter\", \"uid\": \"77c383fe-c204-11e8-ad45-a81e84e6c740\"}, {\"name\": \"\\u8303\\u65ed\\u5b81_\\u4e00\\u6b21\\u8f6c\\u4ea7\\u901a\\u8fc7\\u6570\", \"x\": [\"8-4\"], \"y\": [2.0], \"type\": \"scatter\", \"uid\": \"77c3875a-c204-11e8-ad45-a81e84e6c740\"}, {\"name\": \"\\u8303\\u65ed\\u5b81_\\u901a\\u8fc7\\u7387\", \"x\": [\"8-4\"], \"y\": [1.0], \"type\": \"scatter\", \"uid\": \"77c38a84-c204-11e8-ad45-a81e84e6c740\"}, {\"name\": \"\\u97e9\\u5c11\\u6000_\\u8f6c\\u4ea7\\u901a\\u8fc7\\u6570\", \"x\": [\"8-4\"], \"y\": [0.0], \"type\": \"scatter\", \"uid\": \"77c38d9a-c204-11e8-ad45-a81e84e6c740\"}, {\"name\": \"\\u97e9\\u5c11\\u6000_\\u4e00\\u6b21\\u8f6c\\u4ea7\\u901a\\u8fc7\\u6570\", \"x\": [\"8-4\"], \"y\": [0.0], \"type\": \"scatter\", \"uid\": \"77c39024-c204-11e8-ad45-a81e84e6c740\"}, {\"name\": \"\\u97e9\\u5c11\\u6000_\\u901a\\u8fc7\\u7387\", \"x\": [\"8-4\"], \"y\": [null], \"type\": \"scatter\", \"uid\": \"77c392a4-c204-11e8-ad45-a81e84e6c740\"}],\n",
       "            {\"title\": \"\\u8f6c\\u4ea7\\u901a\\u8fc7\\u6570&\\u4e00\\u6b21\\u8f6c\\u4ea7\\u901a\\u8fc7\\u6570&\\u901a\\u8fc7\\u7387\\u5468\\u8d8b\\u52bf\\u56fe\", \"xaxis\": {\"mirror\": \"all\", \"nticks\": 20, \"showgrid\": true, \"showline\": true, \"title\": \"\\u5468\", \"zeroline\": true}, \"yaxis\": {\"mirror\": \"all\", \"nticks\": 20, \"showgrid\": true, \"showline\": true, \"title\": \"\\u8f6c\\u4ea7\\u901a\\u8fc7\\u6570&\\u4e00\\u6b21\\u8f6c\\u4ea7\\u901a\\u8fc7\\u6570&\\u901a\\u8fc7\\u7387\", \"zeroline\": true}},\n",
       "            {\"showLink\": true, \"linkText\": \"Export to plot.ly\"}\n",
       "        ).then(function () {return Plotly.addFrames('eab25f21-e2b9-46f1-a33d-9d6120e66c30',{});}).then(function(){Plotly.animate('eab25f21-e2b9-46f1-a33d-9d6120e66c30');})\n",
       "        });</script>"
      ]
     },
     "metadata": {},
     "output_type": "display_data"
    },
    {
     "data": {
      "application/vnd.plotly.v1+json": {
       "data": [
        {
         "name": "任雪_转产通过数",
         "type": "scatter",
         "uid": "78106764-c204-11e8-ad45-a81e84e6c740",
         "x": [
          "8",
          "9"
         ],
         "y": [
          0,
          0
         ]
        },
        {
         "name": "任雪_一次转产通过数",
         "type": "scatter",
         "uid": "78106c14-c204-11e8-ad45-a81e84e6c740",
         "x": [
          "8",
          "9"
         ],
         "y": [
          0,
          0
         ]
        },
        {
         "name": "任雪_通过率",
         "type": "scatter",
         "uid": "78106e6c-c204-11e8-ad45-a81e84e6c740",
         "x": [
          "8",
          "9"
         ],
         "y": [
          null,
          null
         ]
        },
        {
         "name": "刘慧玲_转产通过数",
         "type": "scatter",
         "uid": "78107092-c204-11e8-ad45-a81e84e6c740",
         "x": [
          "8"
         ],
         "y": [
          null
         ]
        },
        {
         "name": "刘慧玲_一次转产通过数",
         "type": "scatter",
         "uid": "781072e0-c204-11e8-ad45-a81e84e6c740",
         "x": [
          "8"
         ],
         "y": [
          null
         ]
        },
        {
         "name": "刘慧玲_通过率",
         "type": "scatter",
         "uid": "78107678-c204-11e8-ad45-a81e84e6c740",
         "x": [
          "8"
         ],
         "y": [
          null
         ]
        },
        {
         "name": "刘江_转产通过数",
         "type": "scatter",
         "uid": "7810790c-c204-11e8-ad45-a81e84e6c740",
         "x": [
          "8",
          "9"
         ],
         "y": [
          0,
          1
         ]
        },
        {
         "name": "刘江_一次转产通过数",
         "type": "scatter",
         "uid": "78107b8c-c204-11e8-ad45-a81e84e6c740",
         "x": [
          "8",
          "9"
         ],
         "y": [
          0,
          1
         ]
        },
        {
         "name": "刘江_通过率",
         "type": "scatter",
         "uid": "78107d6c-c204-11e8-ad45-a81e84e6c740",
         "x": [
          "8",
          "9"
         ],
         "y": [
          null,
          1
         ]
        },
        {
         "name": "姚盟成_转产通过数",
         "type": "scatter",
         "uid": "78107f56-c204-11e8-ad45-a81e84e6c740",
         "x": [
          "8"
         ],
         "y": [
          null
         ]
        },
        {
         "name": "姚盟成_一次转产通过数",
         "type": "scatter",
         "uid": "78108136-c204-11e8-ad45-a81e84e6c740",
         "x": [
          "8"
         ],
         "y": [
          null
         ]
        },
        {
         "name": "姚盟成_通过率",
         "type": "scatter",
         "uid": "7810830c-c204-11e8-ad45-a81e84e6c740",
         "x": [
          "8"
         ],
         "y": [
          null
         ]
        },
        {
         "name": "孟昊_转产通过数",
         "type": "scatter",
         "uid": "7810865e-c204-11e8-ad45-a81e84e6c740",
         "x": [
          "8",
          "9"
         ],
         "y": [
          null,
          null
         ]
        },
        {
         "name": "孟昊_一次转产通过数",
         "type": "scatter",
         "uid": "78108910-c204-11e8-ad45-a81e84e6c740",
         "x": [
          "8",
          "9"
         ],
         "y": [
          null,
          null
         ]
        },
        {
         "name": "孟昊_通过率",
         "type": "scatter",
         "uid": "78108b54-c204-11e8-ad45-a81e84e6c740",
         "x": [
          "8",
          "9"
         ],
         "y": [
          null,
          null
         ]
        },
        {
         "name": "封彦杰_转产通过数",
         "type": "scatter",
         "uid": "78108e60-c204-11e8-ad45-a81e84e6c740",
         "x": [
          "8",
          "9"
         ],
         "y": [
          0,
          null
         ]
        },
        {
         "name": "封彦杰_一次转产通过数",
         "type": "scatter",
         "uid": "7810919e-c204-11e8-ad45-a81e84e6c740",
         "x": [
          "8",
          "9"
         ],
         "y": [
          0,
          null
         ]
        },
        {
         "name": "封彦杰_通过率",
         "type": "scatter",
         "uid": "781093b0-c204-11e8-ad45-a81e84e6c740",
         "x": [
          "8",
          "9"
         ],
         "y": [
          null,
          null
         ]
        },
        {
         "name": "李华云_转产通过数",
         "type": "scatter",
         "uid": "781095ae-c204-11e8-ad45-a81e84e6c740",
         "x": [
          "8",
          "9"
         ],
         "y": [
          null,
          null
         ]
        },
        {
         "name": "李华云_一次转产通过数",
         "type": "scatter",
         "uid": "781097a2-c204-11e8-ad45-a81e84e6c740",
         "x": [
          "8",
          "9"
         ],
         "y": [
          null,
          null
         ]
        },
        {
         "name": "李华云_通过率",
         "type": "scatter",
         "uid": "78109996-c204-11e8-ad45-a81e84e6c740",
         "x": [
          "8",
          "9"
         ],
         "y": [
          null,
          null
         ]
        },
        {
         "name": "苏彦勋_转产通过数",
         "type": "scatter",
         "uid": "78109b80-c204-11e8-ad45-a81e84e6c740",
         "x": [
          "8"
         ],
         "y": [
          null
         ]
        },
        {
         "name": "苏彦勋_一次转产通过数",
         "type": "scatter",
         "uid": "78109d74-c204-11e8-ad45-a81e84e6c740",
         "x": [
          "8"
         ],
         "y": [
          null
         ]
        },
        {
         "name": "苏彦勋_通过率",
         "type": "scatter",
         "uid": "78109f5e-c204-11e8-ad45-a81e84e6c740",
         "x": [
          "8"
         ],
         "y": [
          null
         ]
        },
        {
         "name": "范旭宁_转产通过数",
         "type": "scatter",
         "uid": "7810a148-c204-11e8-ad45-a81e84e6c740",
         "x": [
          "8"
         ],
         "y": [
          null
         ]
        },
        {
         "name": "范旭宁_一次转产通过数",
         "type": "scatter",
         "uid": "7810a33c-c204-11e8-ad45-a81e84e6c740",
         "x": [
          "8"
         ],
         "y": [
          null
         ]
        },
        {
         "name": "范旭宁_通过率",
         "type": "scatter",
         "uid": "7810a59e-c204-11e8-ad45-a81e84e6c740",
         "x": [
          "8"
         ],
         "y": [
          null
         ]
        },
        {
         "name": "韩少怀_转产通过数",
         "type": "scatter",
         "uid": "7810a77e-c204-11e8-ad45-a81e84e6c740",
         "x": [
          "8"
         ],
         "y": [
          null
         ]
        },
        {
         "name": "韩少怀_一次转产通过数",
         "type": "scatter",
         "uid": "7810a968-c204-11e8-ad45-a81e84e6c740",
         "x": [
          "8"
         ],
         "y": [
          null
         ]
        },
        {
         "name": "韩少怀_通过率",
         "type": "scatter",
         "uid": "7810ab7a-c204-11e8-ad45-a81e84e6c740",
         "x": [
          "8"
         ],
         "y": [
          null
         ]
        }
       ],
       "layout": {
        "title": "转产通过数&一次转产通过数&通过率月趋势图",
        "xaxis": {
         "mirror": "all",
         "nticks": 20,
         "showgrid": true,
         "showline": true,
         "title": "月",
         "zeroline": true
        },
        "yaxis": {
         "mirror": "all",
         "nticks": 20,
         "showgrid": true,
         "showline": true,
         "title": "转产通过数&一次转产通过数&通过率",
         "zeroline": true
        }
       }
      },
      "text/html": [
       "<div id=\"c4599f20-eee4-4d57-8fe9-7738ddaf012c\" style=\"height: 525px; width: 100%;\" class=\"plotly-graph-div\"></div><script type=\"text/javascript\">require([\"plotly\"], function(Plotly) { window.PLOTLYENV=window.PLOTLYENV || {};window.PLOTLYENV.BASE_URL=\"https://plot.ly\";\n",
       "        Plotly.plot(\n",
       "            'c4599f20-eee4-4d57-8fe9-7738ddaf012c',\n",
       "            [{\"name\": \"\\u4efb\\u96ea_\\u8f6c\\u4ea7\\u901a\\u8fc7\\u6570\", \"x\": [\"8\", \"9\"], \"y\": [0.0, 0.0], \"type\": \"scatter\", \"uid\": \"78106764-c204-11e8-ad45-a81e84e6c740\"}, {\"name\": \"\\u4efb\\u96ea_\\u4e00\\u6b21\\u8f6c\\u4ea7\\u901a\\u8fc7\\u6570\", \"x\": [\"8\", \"9\"], \"y\": [0.0, 0.0], \"type\": \"scatter\", \"uid\": \"78106c14-c204-11e8-ad45-a81e84e6c740\"}, {\"name\": \"\\u4efb\\u96ea_\\u901a\\u8fc7\\u7387\", \"x\": [\"8\", \"9\"], \"y\": [null, null], \"type\": \"scatter\", \"uid\": \"78106e6c-c204-11e8-ad45-a81e84e6c740\"}, {\"name\": \"\\u5218\\u6167\\u73b2_\\u8f6c\\u4ea7\\u901a\\u8fc7\\u6570\", \"x\": [\"8\"], \"y\": [null], \"type\": \"scatter\", \"uid\": \"78107092-c204-11e8-ad45-a81e84e6c740\"}, {\"name\": \"\\u5218\\u6167\\u73b2_\\u4e00\\u6b21\\u8f6c\\u4ea7\\u901a\\u8fc7\\u6570\", \"x\": [\"8\"], \"y\": [null], \"type\": \"scatter\", \"uid\": \"781072e0-c204-11e8-ad45-a81e84e6c740\"}, {\"name\": \"\\u5218\\u6167\\u73b2_\\u901a\\u8fc7\\u7387\", \"x\": [\"8\"], \"y\": [null], \"type\": \"scatter\", \"uid\": \"78107678-c204-11e8-ad45-a81e84e6c740\"}, {\"name\": \"\\u5218\\u6c5f_\\u8f6c\\u4ea7\\u901a\\u8fc7\\u6570\", \"x\": [\"8\", \"9\"], \"y\": [0.0, 1.0], \"type\": \"scatter\", \"uid\": \"7810790c-c204-11e8-ad45-a81e84e6c740\"}, {\"name\": \"\\u5218\\u6c5f_\\u4e00\\u6b21\\u8f6c\\u4ea7\\u901a\\u8fc7\\u6570\", \"x\": [\"8\", \"9\"], \"y\": [0.0, 1.0], \"type\": \"scatter\", \"uid\": \"78107b8c-c204-11e8-ad45-a81e84e6c740\"}, {\"name\": \"\\u5218\\u6c5f_\\u901a\\u8fc7\\u7387\", \"x\": [\"8\", \"9\"], \"y\": [null, 1.0], \"type\": \"scatter\", \"uid\": \"78107d6c-c204-11e8-ad45-a81e84e6c740\"}, {\"name\": \"\\u59da\\u76df\\u6210_\\u8f6c\\u4ea7\\u901a\\u8fc7\\u6570\", \"x\": [\"8\"], \"y\": [null], \"type\": \"scatter\", \"uid\": \"78107f56-c204-11e8-ad45-a81e84e6c740\"}, {\"name\": \"\\u59da\\u76df\\u6210_\\u4e00\\u6b21\\u8f6c\\u4ea7\\u901a\\u8fc7\\u6570\", \"x\": [\"8\"], \"y\": [null], \"type\": \"scatter\", \"uid\": \"78108136-c204-11e8-ad45-a81e84e6c740\"}, {\"name\": \"\\u59da\\u76df\\u6210_\\u901a\\u8fc7\\u7387\", \"x\": [\"8\"], \"y\": [null], \"type\": \"scatter\", \"uid\": \"7810830c-c204-11e8-ad45-a81e84e6c740\"}, {\"name\": \"\\u5b5f\\u660a_\\u8f6c\\u4ea7\\u901a\\u8fc7\\u6570\", \"x\": [\"8\", \"9\"], \"y\": [null, null], \"type\": \"scatter\", \"uid\": \"7810865e-c204-11e8-ad45-a81e84e6c740\"}, {\"name\": \"\\u5b5f\\u660a_\\u4e00\\u6b21\\u8f6c\\u4ea7\\u901a\\u8fc7\\u6570\", \"x\": [\"8\", \"9\"], \"y\": [null, null], \"type\": \"scatter\", \"uid\": \"78108910-c204-11e8-ad45-a81e84e6c740\"}, {\"name\": \"\\u5b5f\\u660a_\\u901a\\u8fc7\\u7387\", \"x\": [\"8\", \"9\"], \"y\": [null, null], \"type\": \"scatter\", \"uid\": \"78108b54-c204-11e8-ad45-a81e84e6c740\"}, {\"name\": \"\\u5c01\\u5f66\\u6770_\\u8f6c\\u4ea7\\u901a\\u8fc7\\u6570\", \"x\": [\"8\", \"9\"], \"y\": [0.0, null], \"type\": \"scatter\", \"uid\": \"78108e60-c204-11e8-ad45-a81e84e6c740\"}, {\"name\": \"\\u5c01\\u5f66\\u6770_\\u4e00\\u6b21\\u8f6c\\u4ea7\\u901a\\u8fc7\\u6570\", \"x\": [\"8\", \"9\"], \"y\": [0.0, null], \"type\": \"scatter\", \"uid\": \"7810919e-c204-11e8-ad45-a81e84e6c740\"}, {\"name\": \"\\u5c01\\u5f66\\u6770_\\u901a\\u8fc7\\u7387\", \"x\": [\"8\", \"9\"], \"y\": [null, null], \"type\": \"scatter\", \"uid\": \"781093b0-c204-11e8-ad45-a81e84e6c740\"}, {\"name\": \"\\u674e\\u534e\\u4e91_\\u8f6c\\u4ea7\\u901a\\u8fc7\\u6570\", \"x\": [\"8\", \"9\"], \"y\": [null, null], \"type\": \"scatter\", \"uid\": \"781095ae-c204-11e8-ad45-a81e84e6c740\"}, {\"name\": \"\\u674e\\u534e\\u4e91_\\u4e00\\u6b21\\u8f6c\\u4ea7\\u901a\\u8fc7\\u6570\", \"x\": [\"8\", \"9\"], \"y\": [null, null], \"type\": \"scatter\", \"uid\": \"781097a2-c204-11e8-ad45-a81e84e6c740\"}, {\"name\": \"\\u674e\\u534e\\u4e91_\\u901a\\u8fc7\\u7387\", \"x\": [\"8\", \"9\"], \"y\": [null, null], \"type\": \"scatter\", \"uid\": \"78109996-c204-11e8-ad45-a81e84e6c740\"}, {\"name\": \"\\u82cf\\u5f66\\u52cb_\\u8f6c\\u4ea7\\u901a\\u8fc7\\u6570\", \"x\": [\"8\"], \"y\": [null], \"type\": \"scatter\", \"uid\": \"78109b80-c204-11e8-ad45-a81e84e6c740\"}, {\"name\": \"\\u82cf\\u5f66\\u52cb_\\u4e00\\u6b21\\u8f6c\\u4ea7\\u901a\\u8fc7\\u6570\", \"x\": [\"8\"], \"y\": [null], \"type\": \"scatter\", \"uid\": \"78109d74-c204-11e8-ad45-a81e84e6c740\"}, {\"name\": \"\\u82cf\\u5f66\\u52cb_\\u901a\\u8fc7\\u7387\", \"x\": [\"8\"], \"y\": [null], \"type\": \"scatter\", \"uid\": \"78109f5e-c204-11e8-ad45-a81e84e6c740\"}, {\"name\": \"\\u8303\\u65ed\\u5b81_\\u8f6c\\u4ea7\\u901a\\u8fc7\\u6570\", \"x\": [\"8\"], \"y\": [null], \"type\": \"scatter\", \"uid\": \"7810a148-c204-11e8-ad45-a81e84e6c740\"}, {\"name\": \"\\u8303\\u65ed\\u5b81_\\u4e00\\u6b21\\u8f6c\\u4ea7\\u901a\\u8fc7\\u6570\", \"x\": [\"8\"], \"y\": [null], \"type\": \"scatter\", \"uid\": \"7810a33c-c204-11e8-ad45-a81e84e6c740\"}, {\"name\": \"\\u8303\\u65ed\\u5b81_\\u901a\\u8fc7\\u7387\", \"x\": [\"8\"], \"y\": [null], \"type\": \"scatter\", \"uid\": \"7810a59e-c204-11e8-ad45-a81e84e6c740\"}, {\"name\": \"\\u97e9\\u5c11\\u6000_\\u8f6c\\u4ea7\\u901a\\u8fc7\\u6570\", \"x\": [\"8\"], \"y\": [null], \"type\": \"scatter\", \"uid\": \"7810a77e-c204-11e8-ad45-a81e84e6c740\"}, {\"name\": \"\\u97e9\\u5c11\\u6000_\\u4e00\\u6b21\\u8f6c\\u4ea7\\u901a\\u8fc7\\u6570\", \"x\": [\"8\"], \"y\": [null], \"type\": \"scatter\", \"uid\": \"7810a968-c204-11e8-ad45-a81e84e6c740\"}, {\"name\": \"\\u97e9\\u5c11\\u6000_\\u901a\\u8fc7\\u7387\", \"x\": [\"8\"], \"y\": [null], \"type\": \"scatter\", \"uid\": \"7810ab7a-c204-11e8-ad45-a81e84e6c740\"}],\n",
       "            {\"title\": \"\\u8f6c\\u4ea7\\u901a\\u8fc7\\u6570&\\u4e00\\u6b21\\u8f6c\\u4ea7\\u901a\\u8fc7\\u6570&\\u901a\\u8fc7\\u7387\\u6708\\u8d8b\\u52bf\\u56fe\", \"xaxis\": {\"mirror\": \"all\", \"nticks\": 20, \"showgrid\": true, \"showline\": true, \"title\": \"\\u6708\", \"zeroline\": true}, \"yaxis\": {\"mirror\": \"all\", \"nticks\": 20, \"showgrid\": true, \"showline\": true, \"title\": \"\\u8f6c\\u4ea7\\u901a\\u8fc7\\u6570&\\u4e00\\u6b21\\u8f6c\\u4ea7\\u901a\\u8fc7\\u6570&\\u901a\\u8fc7\\u7387\", \"zeroline\": true}},\n",
       "            {\"showLink\": true, \"linkText\": \"Export to plot.ly\"}\n",
       "        ).then(function () {return Plotly.addFrames('c4599f20-eee4-4d57-8fe9-7738ddaf012c',{});}).then(function(){Plotly.animate('c4599f20-eee4-4d57-8fe9-7738ddaf012c');})\n",
       "        });</script>"
      ],
      "text/vnd.plotly.v1+html": [
       "<div id=\"c4599f20-eee4-4d57-8fe9-7738ddaf012c\" style=\"height: 525px; width: 100%;\" class=\"plotly-graph-div\"></div><script type=\"text/javascript\">require([\"plotly\"], function(Plotly) { window.PLOTLYENV=window.PLOTLYENV || {};window.PLOTLYENV.BASE_URL=\"https://plot.ly\";\n",
       "        Plotly.plot(\n",
       "            'c4599f20-eee4-4d57-8fe9-7738ddaf012c',\n",
       "            [{\"name\": \"\\u4efb\\u96ea_\\u8f6c\\u4ea7\\u901a\\u8fc7\\u6570\", \"x\": [\"8\", \"9\"], \"y\": [0.0, 0.0], \"type\": \"scatter\", \"uid\": \"78106764-c204-11e8-ad45-a81e84e6c740\"}, {\"name\": \"\\u4efb\\u96ea_\\u4e00\\u6b21\\u8f6c\\u4ea7\\u901a\\u8fc7\\u6570\", \"x\": [\"8\", \"9\"], \"y\": [0.0, 0.0], \"type\": \"scatter\", \"uid\": \"78106c14-c204-11e8-ad45-a81e84e6c740\"}, {\"name\": \"\\u4efb\\u96ea_\\u901a\\u8fc7\\u7387\", \"x\": [\"8\", \"9\"], \"y\": [null, null], \"type\": \"scatter\", \"uid\": \"78106e6c-c204-11e8-ad45-a81e84e6c740\"}, {\"name\": \"\\u5218\\u6167\\u73b2_\\u8f6c\\u4ea7\\u901a\\u8fc7\\u6570\", \"x\": [\"8\"], \"y\": [null], \"type\": \"scatter\", \"uid\": \"78107092-c204-11e8-ad45-a81e84e6c740\"}, {\"name\": \"\\u5218\\u6167\\u73b2_\\u4e00\\u6b21\\u8f6c\\u4ea7\\u901a\\u8fc7\\u6570\", \"x\": [\"8\"], \"y\": [null], \"type\": \"scatter\", \"uid\": \"781072e0-c204-11e8-ad45-a81e84e6c740\"}, {\"name\": \"\\u5218\\u6167\\u73b2_\\u901a\\u8fc7\\u7387\", \"x\": [\"8\"], \"y\": [null], \"type\": \"scatter\", \"uid\": \"78107678-c204-11e8-ad45-a81e84e6c740\"}, {\"name\": \"\\u5218\\u6c5f_\\u8f6c\\u4ea7\\u901a\\u8fc7\\u6570\", \"x\": [\"8\", \"9\"], \"y\": [0.0, 1.0], \"type\": \"scatter\", \"uid\": \"7810790c-c204-11e8-ad45-a81e84e6c740\"}, {\"name\": \"\\u5218\\u6c5f_\\u4e00\\u6b21\\u8f6c\\u4ea7\\u901a\\u8fc7\\u6570\", \"x\": [\"8\", \"9\"], \"y\": [0.0, 1.0], \"type\": \"scatter\", \"uid\": \"78107b8c-c204-11e8-ad45-a81e84e6c740\"}, {\"name\": \"\\u5218\\u6c5f_\\u901a\\u8fc7\\u7387\", \"x\": [\"8\", \"9\"], \"y\": [null, 1.0], \"type\": \"scatter\", \"uid\": \"78107d6c-c204-11e8-ad45-a81e84e6c740\"}, {\"name\": \"\\u59da\\u76df\\u6210_\\u8f6c\\u4ea7\\u901a\\u8fc7\\u6570\", \"x\": [\"8\"], \"y\": [null], \"type\": \"scatter\", \"uid\": \"78107f56-c204-11e8-ad45-a81e84e6c740\"}, {\"name\": \"\\u59da\\u76df\\u6210_\\u4e00\\u6b21\\u8f6c\\u4ea7\\u901a\\u8fc7\\u6570\", \"x\": [\"8\"], \"y\": [null], \"type\": \"scatter\", \"uid\": \"78108136-c204-11e8-ad45-a81e84e6c740\"}, {\"name\": \"\\u59da\\u76df\\u6210_\\u901a\\u8fc7\\u7387\", \"x\": [\"8\"], \"y\": [null], \"type\": \"scatter\", \"uid\": \"7810830c-c204-11e8-ad45-a81e84e6c740\"}, {\"name\": \"\\u5b5f\\u660a_\\u8f6c\\u4ea7\\u901a\\u8fc7\\u6570\", \"x\": [\"8\", \"9\"], \"y\": [null, null], \"type\": \"scatter\", \"uid\": \"7810865e-c204-11e8-ad45-a81e84e6c740\"}, {\"name\": \"\\u5b5f\\u660a_\\u4e00\\u6b21\\u8f6c\\u4ea7\\u901a\\u8fc7\\u6570\", \"x\": [\"8\", \"9\"], \"y\": [null, null], \"type\": \"scatter\", \"uid\": \"78108910-c204-11e8-ad45-a81e84e6c740\"}, {\"name\": \"\\u5b5f\\u660a_\\u901a\\u8fc7\\u7387\", \"x\": [\"8\", \"9\"], \"y\": [null, null], \"type\": \"scatter\", \"uid\": \"78108b54-c204-11e8-ad45-a81e84e6c740\"}, {\"name\": \"\\u5c01\\u5f66\\u6770_\\u8f6c\\u4ea7\\u901a\\u8fc7\\u6570\", \"x\": [\"8\", \"9\"], \"y\": [0.0, null], \"type\": \"scatter\", \"uid\": \"78108e60-c204-11e8-ad45-a81e84e6c740\"}, {\"name\": \"\\u5c01\\u5f66\\u6770_\\u4e00\\u6b21\\u8f6c\\u4ea7\\u901a\\u8fc7\\u6570\", \"x\": [\"8\", \"9\"], \"y\": [0.0, null], \"type\": \"scatter\", \"uid\": \"7810919e-c204-11e8-ad45-a81e84e6c740\"}, {\"name\": \"\\u5c01\\u5f66\\u6770_\\u901a\\u8fc7\\u7387\", \"x\": [\"8\", \"9\"], \"y\": [null, null], \"type\": \"scatter\", \"uid\": \"781093b0-c204-11e8-ad45-a81e84e6c740\"}, {\"name\": \"\\u674e\\u534e\\u4e91_\\u8f6c\\u4ea7\\u901a\\u8fc7\\u6570\", \"x\": [\"8\", \"9\"], \"y\": [null, null], \"type\": \"scatter\", \"uid\": \"781095ae-c204-11e8-ad45-a81e84e6c740\"}, {\"name\": \"\\u674e\\u534e\\u4e91_\\u4e00\\u6b21\\u8f6c\\u4ea7\\u901a\\u8fc7\\u6570\", \"x\": [\"8\", \"9\"], \"y\": [null, null], \"type\": \"scatter\", \"uid\": \"781097a2-c204-11e8-ad45-a81e84e6c740\"}, {\"name\": \"\\u674e\\u534e\\u4e91_\\u901a\\u8fc7\\u7387\", \"x\": [\"8\", \"9\"], \"y\": [null, null], \"type\": \"scatter\", \"uid\": \"78109996-c204-11e8-ad45-a81e84e6c740\"}, {\"name\": \"\\u82cf\\u5f66\\u52cb_\\u8f6c\\u4ea7\\u901a\\u8fc7\\u6570\", \"x\": [\"8\"], \"y\": [null], \"type\": \"scatter\", \"uid\": \"78109b80-c204-11e8-ad45-a81e84e6c740\"}, {\"name\": \"\\u82cf\\u5f66\\u52cb_\\u4e00\\u6b21\\u8f6c\\u4ea7\\u901a\\u8fc7\\u6570\", \"x\": [\"8\"], \"y\": [null], \"type\": \"scatter\", \"uid\": \"78109d74-c204-11e8-ad45-a81e84e6c740\"}, {\"name\": \"\\u82cf\\u5f66\\u52cb_\\u901a\\u8fc7\\u7387\", \"x\": [\"8\"], \"y\": [null], \"type\": \"scatter\", \"uid\": \"78109f5e-c204-11e8-ad45-a81e84e6c740\"}, {\"name\": \"\\u8303\\u65ed\\u5b81_\\u8f6c\\u4ea7\\u901a\\u8fc7\\u6570\", \"x\": [\"8\"], \"y\": [null], \"type\": \"scatter\", \"uid\": \"7810a148-c204-11e8-ad45-a81e84e6c740\"}, {\"name\": \"\\u8303\\u65ed\\u5b81_\\u4e00\\u6b21\\u8f6c\\u4ea7\\u901a\\u8fc7\\u6570\", \"x\": [\"8\"], \"y\": [null], \"type\": \"scatter\", \"uid\": \"7810a33c-c204-11e8-ad45-a81e84e6c740\"}, {\"name\": \"\\u8303\\u65ed\\u5b81_\\u901a\\u8fc7\\u7387\", \"x\": [\"8\"], \"y\": [null], \"type\": \"scatter\", \"uid\": \"7810a59e-c204-11e8-ad45-a81e84e6c740\"}, {\"name\": \"\\u97e9\\u5c11\\u6000_\\u8f6c\\u4ea7\\u901a\\u8fc7\\u6570\", \"x\": [\"8\"], \"y\": [null], \"type\": \"scatter\", \"uid\": \"7810a77e-c204-11e8-ad45-a81e84e6c740\"}, {\"name\": \"\\u97e9\\u5c11\\u6000_\\u4e00\\u6b21\\u8f6c\\u4ea7\\u901a\\u8fc7\\u6570\", \"x\": [\"8\"], \"y\": [null], \"type\": \"scatter\", \"uid\": \"7810a968-c204-11e8-ad45-a81e84e6c740\"}, {\"name\": \"\\u97e9\\u5c11\\u6000_\\u901a\\u8fc7\\u7387\", \"x\": [\"8\"], \"y\": [null], \"type\": \"scatter\", \"uid\": \"7810ab7a-c204-11e8-ad45-a81e84e6c740\"}],\n",
       "            {\"title\": \"\\u8f6c\\u4ea7\\u901a\\u8fc7\\u6570&\\u4e00\\u6b21\\u8f6c\\u4ea7\\u901a\\u8fc7\\u6570&\\u901a\\u8fc7\\u7387\\u6708\\u8d8b\\u52bf\\u56fe\", \"xaxis\": {\"mirror\": \"all\", \"nticks\": 20, \"showgrid\": true, \"showline\": true, \"title\": \"\\u6708\", \"zeroline\": true}, \"yaxis\": {\"mirror\": \"all\", \"nticks\": 20, \"showgrid\": true, \"showline\": true, \"title\": \"\\u8f6c\\u4ea7\\u901a\\u8fc7\\u6570&\\u4e00\\u6b21\\u8f6c\\u4ea7\\u901a\\u8fc7\\u6570&\\u901a\\u8fc7\\u7387\", \"zeroline\": true}},\n",
       "            {\"showLink\": true, \"linkText\": \"Export to plot.ly\"}\n",
       "        ).then(function () {return Plotly.addFrames('c4599f20-eee4-4d57-8fe9-7738ddaf012c',{});}).then(function(){Plotly.animate('c4599f20-eee4-4d57-8fe9-7738ddaf012c');})\n",
       "        });</script>"
      ]
     },
     "metadata": {},
     "output_type": "display_data"
    }
   ],
   "source": [
    "data_dict = {'转产通过数': ['转产通过数'], '一次转产通过数': ['一次转产通过数'], '通过率': ['一次转产通过数','转产通过数']}\n",
    "myModule.plot( all_dict_1, data_dict, '负责人' ,  'line', all='' )"
   ]
  },
  {
   "cell_type": "markdown",
   "metadata": {},
   "source": [
    "### bug情况"
   ]
  },
  {
   "cell_type": "markdown",
   "metadata": {},
   "source": [
    "#### 应完成BUG数和完成BUG修复数"
   ]
  },
  {
   "cell_type": "code",
   "execution_count": 25,
   "metadata": {},
   "outputs": [
    {
     "data": {
      "application/vnd.plotly.v1+json": {
       "data": [
        {
         "name": "封彦杰_应完成BUG数",
         "type": "scatter",
         "uid": "785f351a-c204-11e8-ad45-a81e84e6c740",
         "x": [
          "8-3",
          "8-4",
          "9-2",
          "9-3"
         ],
         "y": [
          0,
          2,
          2,
          3
         ]
        },
        {
         "name": "封彦杰_完成BUG修复数",
         "type": "scatter",
         "uid": "785f38bc-c204-11e8-ad45-a81e84e6c740",
         "x": [
          "8-3",
          "8-4",
          "9-2",
          "9-3"
         ],
         "y": [
          1,
          1,
          0,
          3
         ]
        },
        {
         "name": "刘江_应完成BUG数",
         "type": "scatter",
         "uid": "785f3b28-c204-11e8-ad45-a81e84e6c740",
         "x": [
          "8-3",
          "8-4",
          "9-1",
          "9-2",
          "9-3"
         ],
         "y": [
          0,
          0,
          0,
          0,
          0
         ]
        },
        {
         "name": "刘江_完成BUG修复数",
         "type": "scatter",
         "uid": "785f3d44-c204-11e8-ad45-a81e84e6c740",
         "x": [
          "8-3",
          "8-4",
          "9-1",
          "9-2",
          "9-3"
         ],
         "y": [
          0,
          0,
          0,
          0,
          0
         ]
        },
        {
         "name": "苏彦勋_应完成BUG数",
         "type": "scatter",
         "uid": "785f3f4c-c204-11e8-ad45-a81e84e6c740",
         "x": [
          "8-3"
         ],
         "y": [
          1
         ]
        },
        {
         "name": "苏彦勋_完成BUG修复数",
         "type": "scatter",
         "uid": "785f414a-c204-11e8-ad45-a81e84e6c740",
         "x": [
          "8-3"
         ],
         "y": [
          0
         ]
        },
        {
         "name": "孟昊_应完成BUG数",
         "type": "scatter",
         "uid": "785f4348-c204-11e8-ad45-a81e84e6c740",
         "x": [
          "8-3",
          "9-1"
         ],
         "y": [
          0,
          0
         ]
        },
        {
         "name": "孟昊_完成BUG修复数",
         "type": "scatter",
         "uid": "785f4532-c204-11e8-ad45-a81e84e6c740",
         "x": [
          "8-3",
          "9-1"
         ],
         "y": [
          0,
          0
         ]
        },
        {
         "name": "任雪_应完成BUG数",
         "type": "scatter",
         "uid": "785f4730-c204-11e8-ad45-a81e84e6c740",
         "x": [
          "8-3",
          "8-4",
          "9-1",
          "9-2",
          "9-3"
         ],
         "y": [
          0,
          0,
          0,
          1,
          1
         ]
        },
        {
         "name": "任雪_完成BUG修复数",
         "type": "scatter",
         "uid": "785f492e-c204-11e8-ad45-a81e84e6c740",
         "x": [
          "8-3",
          "8-4",
          "9-1",
          "9-2",
          "9-3"
         ],
         "y": [
          0,
          1,
          0,
          1,
          1
         ]
        },
        {
         "name": "姚盟成_应完成BUG数",
         "type": "scatter",
         "uid": "785f4b2c-c204-11e8-ad45-a81e84e6c740",
         "x": [
          "8-4"
         ],
         "y": [
          0
         ]
        },
        {
         "name": "姚盟成_完成BUG修复数",
         "type": "scatter",
         "uid": "785f4d2a-c204-11e8-ad45-a81e84e6c740",
         "x": [
          "8-4"
         ],
         "y": [
          0
         ]
        },
        {
         "name": "刘慧玲_应完成BUG数",
         "type": "scatter",
         "uid": "785f4f82-c204-11e8-ad45-a81e84e6c740",
         "x": [
          "8-4"
         ],
         "y": [
          0
         ]
        },
        {
         "name": "刘慧玲_完成BUG修复数",
         "type": "scatter",
         "uid": "785f516c-c204-11e8-ad45-a81e84e6c740",
         "x": [
          "8-4"
         ],
         "y": [
          0
         ]
        },
        {
         "name": "李华云_应完成BUG数",
         "type": "scatter",
         "uid": "785f536a-c204-11e8-ad45-a81e84e6c740",
         "x": [
          "8-4",
          "9-3"
         ],
         "y": [
          0,
          0
         ]
        },
        {
         "name": "李华云_完成BUG修复数",
         "type": "scatter",
         "uid": "785f555e-c204-11e8-ad45-a81e84e6c740",
         "x": [
          "8-4",
          "9-3"
         ],
         "y": [
          0,
          0
         ]
        },
        {
         "name": "范旭宁_应完成BUG数",
         "type": "scatter",
         "uid": "785f5752-c204-11e8-ad45-a81e84e6c740",
         "x": [
          "8-4"
         ],
         "y": [
          1
         ]
        },
        {
         "name": "范旭宁_完成BUG修复数",
         "type": "scatter",
         "uid": "785f5950-c204-11e8-ad45-a81e84e6c740",
         "x": [
          "8-4"
         ],
         "y": [
          0
         ]
        },
        {
         "name": "韩少怀_应完成BUG数",
         "type": "scatter",
         "uid": "785f5b4e-c204-11e8-ad45-a81e84e6c740",
         "x": [
          "8-4"
         ],
         "y": [
          0
         ]
        },
        {
         "name": "韩少怀_完成BUG修复数",
         "type": "scatter",
         "uid": "785f5d4c-c204-11e8-ad45-a81e84e6c740",
         "x": [
          "8-4"
         ],
         "y": [
          2
         ]
        }
       ],
       "layout": {
        "title": "应完成BUG数&完成BUG修复数周趋势图",
        "xaxis": {
         "mirror": "all",
         "nticks": 20,
         "showgrid": true,
         "showline": true,
         "title": "周",
         "zeroline": true
        },
        "yaxis": {
         "mirror": "all",
         "nticks": 20,
         "showgrid": true,
         "showline": true,
         "title": "应完成BUG数&完成BUG修复数",
         "zeroline": true
        }
       }
      },
      "text/html": [
       "<div id=\"1a6a4ddc-124f-4dce-bf51-f304159c99f3\" style=\"height: 525px; width: 100%;\" class=\"plotly-graph-div\"></div><script type=\"text/javascript\">require([\"plotly\"], function(Plotly) { window.PLOTLYENV=window.PLOTLYENV || {};window.PLOTLYENV.BASE_URL=\"https://plot.ly\";\n",
       "        Plotly.plot(\n",
       "            '1a6a4ddc-124f-4dce-bf51-f304159c99f3',\n",
       "            [{\"name\": \"\\u5c01\\u5f66\\u6770_\\u5e94\\u5b8c\\u6210BUG\\u6570\", \"x\": [\"8-3\", \"8-4\", \"9-2\", \"9-3\"], \"y\": [0.0, 2.0, 2.0, 3.0], \"type\": \"scatter\", \"uid\": \"785f351a-c204-11e8-ad45-a81e84e6c740\"}, {\"name\": \"\\u5c01\\u5f66\\u6770_\\u5b8c\\u6210BUG\\u4fee\\u590d\\u6570\", \"x\": [\"8-3\", \"8-4\", \"9-2\", \"9-3\"], \"y\": [1.0, 1.0, 0.0, 3.0], \"type\": \"scatter\", \"uid\": \"785f38bc-c204-11e8-ad45-a81e84e6c740\"}, {\"name\": \"\\u5218\\u6c5f_\\u5e94\\u5b8c\\u6210BUG\\u6570\", \"x\": [\"8-3\", \"8-4\", \"9-1\", \"9-2\", \"9-3\"], \"y\": [0.0, 0.0, 0.0, 0.0, 0.0], \"type\": \"scatter\", \"uid\": \"785f3b28-c204-11e8-ad45-a81e84e6c740\"}, {\"name\": \"\\u5218\\u6c5f_\\u5b8c\\u6210BUG\\u4fee\\u590d\\u6570\", \"x\": [\"8-3\", \"8-4\", \"9-1\", \"9-2\", \"9-3\"], \"y\": [0.0, 0.0, 0.0, 0.0, 0.0], \"type\": \"scatter\", \"uid\": \"785f3d44-c204-11e8-ad45-a81e84e6c740\"}, {\"name\": \"\\u82cf\\u5f66\\u52cb_\\u5e94\\u5b8c\\u6210BUG\\u6570\", \"x\": [\"8-3\"], \"y\": [1.0], \"type\": \"scatter\", \"uid\": \"785f3f4c-c204-11e8-ad45-a81e84e6c740\"}, {\"name\": \"\\u82cf\\u5f66\\u52cb_\\u5b8c\\u6210BUG\\u4fee\\u590d\\u6570\", \"x\": [\"8-3\"], \"y\": [0.0], \"type\": \"scatter\", \"uid\": \"785f414a-c204-11e8-ad45-a81e84e6c740\"}, {\"name\": \"\\u5b5f\\u660a_\\u5e94\\u5b8c\\u6210BUG\\u6570\", \"x\": [\"8-3\", \"9-1\"], \"y\": [0.0, 0.0], \"type\": \"scatter\", \"uid\": \"785f4348-c204-11e8-ad45-a81e84e6c740\"}, {\"name\": \"\\u5b5f\\u660a_\\u5b8c\\u6210BUG\\u4fee\\u590d\\u6570\", \"x\": [\"8-3\", \"9-1\"], \"y\": [0.0, 0.0], \"type\": \"scatter\", \"uid\": \"785f4532-c204-11e8-ad45-a81e84e6c740\"}, {\"name\": \"\\u4efb\\u96ea_\\u5e94\\u5b8c\\u6210BUG\\u6570\", \"x\": [\"8-3\", \"8-4\", \"9-1\", \"9-2\", \"9-3\"], \"y\": [0.0, 0.0, 0.0, 1.0, 1.0], \"type\": \"scatter\", \"uid\": \"785f4730-c204-11e8-ad45-a81e84e6c740\"}, {\"name\": \"\\u4efb\\u96ea_\\u5b8c\\u6210BUG\\u4fee\\u590d\\u6570\", \"x\": [\"8-3\", \"8-4\", \"9-1\", \"9-2\", \"9-3\"], \"y\": [0.0, 1.0, 0.0, 1.0, 1.0], \"type\": \"scatter\", \"uid\": \"785f492e-c204-11e8-ad45-a81e84e6c740\"}, {\"name\": \"\\u59da\\u76df\\u6210_\\u5e94\\u5b8c\\u6210BUG\\u6570\", \"x\": [\"8-4\"], \"y\": [0.0], \"type\": \"scatter\", \"uid\": \"785f4b2c-c204-11e8-ad45-a81e84e6c740\"}, {\"name\": \"\\u59da\\u76df\\u6210_\\u5b8c\\u6210BUG\\u4fee\\u590d\\u6570\", \"x\": [\"8-4\"], \"y\": [0.0], \"type\": \"scatter\", \"uid\": \"785f4d2a-c204-11e8-ad45-a81e84e6c740\"}, {\"name\": \"\\u5218\\u6167\\u73b2_\\u5e94\\u5b8c\\u6210BUG\\u6570\", \"x\": [\"8-4\"], \"y\": [0.0], \"type\": \"scatter\", \"uid\": \"785f4f82-c204-11e8-ad45-a81e84e6c740\"}, {\"name\": \"\\u5218\\u6167\\u73b2_\\u5b8c\\u6210BUG\\u4fee\\u590d\\u6570\", \"x\": [\"8-4\"], \"y\": [0.0], \"type\": \"scatter\", \"uid\": \"785f516c-c204-11e8-ad45-a81e84e6c740\"}, {\"name\": \"\\u674e\\u534e\\u4e91_\\u5e94\\u5b8c\\u6210BUG\\u6570\", \"x\": [\"8-4\", \"9-3\"], \"y\": [0.0, 0.0], \"type\": \"scatter\", \"uid\": \"785f536a-c204-11e8-ad45-a81e84e6c740\"}, {\"name\": \"\\u674e\\u534e\\u4e91_\\u5b8c\\u6210BUG\\u4fee\\u590d\\u6570\", \"x\": [\"8-4\", \"9-3\"], \"y\": [0.0, 0.0], \"type\": \"scatter\", \"uid\": \"785f555e-c204-11e8-ad45-a81e84e6c740\"}, {\"name\": \"\\u8303\\u65ed\\u5b81_\\u5e94\\u5b8c\\u6210BUG\\u6570\", \"x\": [\"8-4\"], \"y\": [1.0], \"type\": \"scatter\", \"uid\": \"785f5752-c204-11e8-ad45-a81e84e6c740\"}, {\"name\": \"\\u8303\\u65ed\\u5b81_\\u5b8c\\u6210BUG\\u4fee\\u590d\\u6570\", \"x\": [\"8-4\"], \"y\": [0.0], \"type\": \"scatter\", \"uid\": \"785f5950-c204-11e8-ad45-a81e84e6c740\"}, {\"name\": \"\\u97e9\\u5c11\\u6000_\\u5e94\\u5b8c\\u6210BUG\\u6570\", \"x\": [\"8-4\"], \"y\": [0.0], \"type\": \"scatter\", \"uid\": \"785f5b4e-c204-11e8-ad45-a81e84e6c740\"}, {\"name\": \"\\u97e9\\u5c11\\u6000_\\u5b8c\\u6210BUG\\u4fee\\u590d\\u6570\", \"x\": [\"8-4\"], \"y\": [2.0], \"type\": \"scatter\", \"uid\": \"785f5d4c-c204-11e8-ad45-a81e84e6c740\"}],\n",
       "            {\"title\": \"\\u5e94\\u5b8c\\u6210BUG\\u6570&\\u5b8c\\u6210BUG\\u4fee\\u590d\\u6570\\u5468\\u8d8b\\u52bf\\u56fe\", \"xaxis\": {\"mirror\": \"all\", \"nticks\": 20, \"showgrid\": true, \"showline\": true, \"title\": \"\\u5468\", \"zeroline\": true}, \"yaxis\": {\"mirror\": \"all\", \"nticks\": 20, \"showgrid\": true, \"showline\": true, \"title\": \"\\u5e94\\u5b8c\\u6210BUG\\u6570&\\u5b8c\\u6210BUG\\u4fee\\u590d\\u6570\", \"zeroline\": true}},\n",
       "            {\"showLink\": true, \"linkText\": \"Export to plot.ly\"}\n",
       "        ).then(function () {return Plotly.addFrames('1a6a4ddc-124f-4dce-bf51-f304159c99f3',{});}).then(function(){Plotly.animate('1a6a4ddc-124f-4dce-bf51-f304159c99f3');})\n",
       "        });</script>"
      ],
      "text/vnd.plotly.v1+html": [
       "<div id=\"1a6a4ddc-124f-4dce-bf51-f304159c99f3\" style=\"height: 525px; width: 100%;\" class=\"plotly-graph-div\"></div><script type=\"text/javascript\">require([\"plotly\"], function(Plotly) { window.PLOTLYENV=window.PLOTLYENV || {};window.PLOTLYENV.BASE_URL=\"https://plot.ly\";\n",
       "        Plotly.plot(\n",
       "            '1a6a4ddc-124f-4dce-bf51-f304159c99f3',\n",
       "            [{\"name\": \"\\u5c01\\u5f66\\u6770_\\u5e94\\u5b8c\\u6210BUG\\u6570\", \"x\": [\"8-3\", \"8-4\", \"9-2\", \"9-3\"], \"y\": [0.0, 2.0, 2.0, 3.0], \"type\": \"scatter\", \"uid\": \"785f351a-c204-11e8-ad45-a81e84e6c740\"}, {\"name\": \"\\u5c01\\u5f66\\u6770_\\u5b8c\\u6210BUG\\u4fee\\u590d\\u6570\", \"x\": [\"8-3\", \"8-4\", \"9-2\", \"9-3\"], \"y\": [1.0, 1.0, 0.0, 3.0], \"type\": \"scatter\", \"uid\": \"785f38bc-c204-11e8-ad45-a81e84e6c740\"}, {\"name\": \"\\u5218\\u6c5f_\\u5e94\\u5b8c\\u6210BUG\\u6570\", \"x\": [\"8-3\", \"8-4\", \"9-1\", \"9-2\", \"9-3\"], \"y\": [0.0, 0.0, 0.0, 0.0, 0.0], \"type\": \"scatter\", \"uid\": \"785f3b28-c204-11e8-ad45-a81e84e6c740\"}, {\"name\": \"\\u5218\\u6c5f_\\u5b8c\\u6210BUG\\u4fee\\u590d\\u6570\", \"x\": [\"8-3\", \"8-4\", \"9-1\", \"9-2\", \"9-3\"], \"y\": [0.0, 0.0, 0.0, 0.0, 0.0], \"type\": \"scatter\", \"uid\": \"785f3d44-c204-11e8-ad45-a81e84e6c740\"}, {\"name\": \"\\u82cf\\u5f66\\u52cb_\\u5e94\\u5b8c\\u6210BUG\\u6570\", \"x\": [\"8-3\"], \"y\": [1.0], \"type\": \"scatter\", \"uid\": \"785f3f4c-c204-11e8-ad45-a81e84e6c740\"}, {\"name\": \"\\u82cf\\u5f66\\u52cb_\\u5b8c\\u6210BUG\\u4fee\\u590d\\u6570\", \"x\": [\"8-3\"], \"y\": [0.0], \"type\": \"scatter\", \"uid\": \"785f414a-c204-11e8-ad45-a81e84e6c740\"}, {\"name\": \"\\u5b5f\\u660a_\\u5e94\\u5b8c\\u6210BUG\\u6570\", \"x\": [\"8-3\", \"9-1\"], \"y\": [0.0, 0.0], \"type\": \"scatter\", \"uid\": \"785f4348-c204-11e8-ad45-a81e84e6c740\"}, {\"name\": \"\\u5b5f\\u660a_\\u5b8c\\u6210BUG\\u4fee\\u590d\\u6570\", \"x\": [\"8-3\", \"9-1\"], \"y\": [0.0, 0.0], \"type\": \"scatter\", \"uid\": \"785f4532-c204-11e8-ad45-a81e84e6c740\"}, {\"name\": \"\\u4efb\\u96ea_\\u5e94\\u5b8c\\u6210BUG\\u6570\", \"x\": [\"8-3\", \"8-4\", \"9-1\", \"9-2\", \"9-3\"], \"y\": [0.0, 0.0, 0.0, 1.0, 1.0], \"type\": \"scatter\", \"uid\": \"785f4730-c204-11e8-ad45-a81e84e6c740\"}, {\"name\": \"\\u4efb\\u96ea_\\u5b8c\\u6210BUG\\u4fee\\u590d\\u6570\", \"x\": [\"8-3\", \"8-4\", \"9-1\", \"9-2\", \"9-3\"], \"y\": [0.0, 1.0, 0.0, 1.0, 1.0], \"type\": \"scatter\", \"uid\": \"785f492e-c204-11e8-ad45-a81e84e6c740\"}, {\"name\": \"\\u59da\\u76df\\u6210_\\u5e94\\u5b8c\\u6210BUG\\u6570\", \"x\": [\"8-4\"], \"y\": [0.0], \"type\": \"scatter\", \"uid\": \"785f4b2c-c204-11e8-ad45-a81e84e6c740\"}, {\"name\": \"\\u59da\\u76df\\u6210_\\u5b8c\\u6210BUG\\u4fee\\u590d\\u6570\", \"x\": [\"8-4\"], \"y\": [0.0], \"type\": \"scatter\", \"uid\": \"785f4d2a-c204-11e8-ad45-a81e84e6c740\"}, {\"name\": \"\\u5218\\u6167\\u73b2_\\u5e94\\u5b8c\\u6210BUG\\u6570\", \"x\": [\"8-4\"], \"y\": [0.0], \"type\": \"scatter\", \"uid\": \"785f4f82-c204-11e8-ad45-a81e84e6c740\"}, {\"name\": \"\\u5218\\u6167\\u73b2_\\u5b8c\\u6210BUG\\u4fee\\u590d\\u6570\", \"x\": [\"8-4\"], \"y\": [0.0], \"type\": \"scatter\", \"uid\": \"785f516c-c204-11e8-ad45-a81e84e6c740\"}, {\"name\": \"\\u674e\\u534e\\u4e91_\\u5e94\\u5b8c\\u6210BUG\\u6570\", \"x\": [\"8-4\", \"9-3\"], \"y\": [0.0, 0.0], \"type\": \"scatter\", \"uid\": \"785f536a-c204-11e8-ad45-a81e84e6c740\"}, {\"name\": \"\\u674e\\u534e\\u4e91_\\u5b8c\\u6210BUG\\u4fee\\u590d\\u6570\", \"x\": [\"8-4\", \"9-3\"], \"y\": [0.0, 0.0], \"type\": \"scatter\", \"uid\": \"785f555e-c204-11e8-ad45-a81e84e6c740\"}, {\"name\": \"\\u8303\\u65ed\\u5b81_\\u5e94\\u5b8c\\u6210BUG\\u6570\", \"x\": [\"8-4\"], \"y\": [1.0], \"type\": \"scatter\", \"uid\": \"785f5752-c204-11e8-ad45-a81e84e6c740\"}, {\"name\": \"\\u8303\\u65ed\\u5b81_\\u5b8c\\u6210BUG\\u4fee\\u590d\\u6570\", \"x\": [\"8-4\"], \"y\": [0.0], \"type\": \"scatter\", \"uid\": \"785f5950-c204-11e8-ad45-a81e84e6c740\"}, {\"name\": \"\\u97e9\\u5c11\\u6000_\\u5e94\\u5b8c\\u6210BUG\\u6570\", \"x\": [\"8-4\"], \"y\": [0.0], \"type\": \"scatter\", \"uid\": \"785f5b4e-c204-11e8-ad45-a81e84e6c740\"}, {\"name\": \"\\u97e9\\u5c11\\u6000_\\u5b8c\\u6210BUG\\u4fee\\u590d\\u6570\", \"x\": [\"8-4\"], \"y\": [2.0], \"type\": \"scatter\", \"uid\": \"785f5d4c-c204-11e8-ad45-a81e84e6c740\"}],\n",
       "            {\"title\": \"\\u5e94\\u5b8c\\u6210BUG\\u6570&\\u5b8c\\u6210BUG\\u4fee\\u590d\\u6570\\u5468\\u8d8b\\u52bf\\u56fe\", \"xaxis\": {\"mirror\": \"all\", \"nticks\": 20, \"showgrid\": true, \"showline\": true, \"title\": \"\\u5468\", \"zeroline\": true}, \"yaxis\": {\"mirror\": \"all\", \"nticks\": 20, \"showgrid\": true, \"showline\": true, \"title\": \"\\u5e94\\u5b8c\\u6210BUG\\u6570&\\u5b8c\\u6210BUG\\u4fee\\u590d\\u6570\", \"zeroline\": true}},\n",
       "            {\"showLink\": true, \"linkText\": \"Export to plot.ly\"}\n",
       "        ).then(function () {return Plotly.addFrames('1a6a4ddc-124f-4dce-bf51-f304159c99f3',{});}).then(function(){Plotly.animate('1a6a4ddc-124f-4dce-bf51-f304159c99f3');})\n",
       "        });</script>"
      ]
     },
     "metadata": {},
     "output_type": "display_data"
    },
    {
     "data": {
      "application/vnd.plotly.v1+json": {
       "data": [
        {
         "name": "任雪_应完成BUG数",
         "type": "scatter",
         "uid": "788e9eb8-c204-11e8-ad45-a81e84e6c740",
         "x": [
          "8",
          "9"
         ],
         "y": [
          0,
          2
         ]
        },
        {
         "name": "任雪_完成BUG修复数",
         "type": "scatter",
         "uid": "788ea4bc-c204-11e8-ad45-a81e84e6c740",
         "x": [
          "8",
          "9"
         ],
         "y": [
          1,
          2
         ]
        },
        {
         "name": "刘慧玲_应完成BUG数",
         "type": "scatter",
         "uid": "788eaf70-c204-11e8-ad45-a81e84e6c740",
         "x": [
          "8"
         ],
         "y": [
          null
         ]
        },
        {
         "name": "刘慧玲_完成BUG修复数",
         "type": "scatter",
         "uid": "788eb59c-c204-11e8-ad45-a81e84e6c740",
         "x": [
          "8"
         ],
         "y": [
          null
         ]
        },
        {
         "name": "刘江_应完成BUG数",
         "type": "scatter",
         "uid": "788ebc7c-c204-11e8-ad45-a81e84e6c740",
         "x": [
          "8",
          "9"
         ],
         "y": [
          0,
          0
         ]
        },
        {
         "name": "刘江_完成BUG修复数",
         "type": "scatter",
         "uid": "788ec0b4-c204-11e8-ad45-a81e84e6c740",
         "x": [
          "8",
          "9"
         ],
         "y": [
          0,
          0
         ]
        },
        {
         "name": "姚盟成_应完成BUG数",
         "type": "scatter",
         "uid": "788ec32a-c204-11e8-ad45-a81e84e6c740",
         "x": [
          "8"
         ],
         "y": [
          null
         ]
        },
        {
         "name": "姚盟成_完成BUG修复数",
         "type": "scatter",
         "uid": "788ec550-c204-11e8-ad45-a81e84e6c740",
         "x": [
          "8"
         ],
         "y": [
          null
         ]
        },
        {
         "name": "孟昊_应完成BUG数",
         "type": "scatter",
         "uid": "788ec74e-c204-11e8-ad45-a81e84e6c740",
         "x": [
          "8",
          "9"
         ],
         "y": [
          null,
          null
         ]
        },
        {
         "name": "孟昊_完成BUG修复数",
         "type": "scatter",
         "uid": "788ec94c-c204-11e8-ad45-a81e84e6c740",
         "x": [
          "8",
          "9"
         ],
         "y": [
          null,
          null
         ]
        },
        {
         "name": "封彦杰_应完成BUG数",
         "type": "scatter",
         "uid": "788ecb40-c204-11e8-ad45-a81e84e6c740",
         "x": [
          "8",
          "9"
         ],
         "y": [
          2,
          null
         ]
        },
        {
         "name": "封彦杰_完成BUG修复数",
         "type": "scatter",
         "uid": "788ecd2a-c204-11e8-ad45-a81e84e6c740",
         "x": [
          "8",
          "9"
         ],
         "y": [
          2,
          null
         ]
        },
        {
         "name": "李华云_应完成BUG数",
         "type": "scatter",
         "uid": "788ecf1e-c204-11e8-ad45-a81e84e6c740",
         "x": [
          "8",
          "9"
         ],
         "y": [
          null,
          null
         ]
        },
        {
         "name": "李华云_完成BUG修复数",
         "type": "scatter",
         "uid": "788ed108-c204-11e8-ad45-a81e84e6c740",
         "x": [
          "8",
          "9"
         ],
         "y": [
          null,
          null
         ]
        },
        {
         "name": "苏彦勋_应完成BUG数",
         "type": "scatter",
         "uid": "788ed2e8-c204-11e8-ad45-a81e84e6c740",
         "x": [
          "8"
         ],
         "y": [
          null
         ]
        },
        {
         "name": "苏彦勋_完成BUG修复数",
         "type": "scatter",
         "uid": "788ed4d2-c204-11e8-ad45-a81e84e6c740",
         "x": [
          "8"
         ],
         "y": [
          null
         ]
        },
        {
         "name": "范旭宁_应完成BUG数",
         "type": "scatter",
         "uid": "788ed6b2-c204-11e8-ad45-a81e84e6c740",
         "x": [
          "8"
         ],
         "y": [
          null
         ]
        },
        {
         "name": "范旭宁_完成BUG修复数",
         "type": "scatter",
         "uid": "788ed89c-c204-11e8-ad45-a81e84e6c740",
         "x": [
          "8"
         ],
         "y": [
          null
         ]
        },
        {
         "name": "韩少怀_应完成BUG数",
         "type": "scatter",
         "uid": "788eda7c-c204-11e8-ad45-a81e84e6c740",
         "x": [
          "8"
         ],
         "y": [
          null
         ]
        },
        {
         "name": "韩少怀_完成BUG修复数",
         "type": "scatter",
         "uid": "788edc66-c204-11e8-ad45-a81e84e6c740",
         "x": [
          "8"
         ],
         "y": [
          null
         ]
        }
       ],
       "layout": {
        "title": "应完成BUG数&完成BUG修复数月趋势图",
        "xaxis": {
         "mirror": "all",
         "nticks": 20,
         "showgrid": true,
         "showline": true,
         "title": "月",
         "zeroline": true
        },
        "yaxis": {
         "mirror": "all",
         "nticks": 20,
         "showgrid": true,
         "showline": true,
         "title": "应完成BUG数&完成BUG修复数",
         "zeroline": true
        }
       }
      },
      "text/html": [
       "<div id=\"ac5c9b0a-cad2-41c7-85a3-ab13af939c4c\" style=\"height: 525px; width: 100%;\" class=\"plotly-graph-div\"></div><script type=\"text/javascript\">require([\"plotly\"], function(Plotly) { window.PLOTLYENV=window.PLOTLYENV || {};window.PLOTLYENV.BASE_URL=\"https://plot.ly\";\n",
       "        Plotly.plot(\n",
       "            'ac5c9b0a-cad2-41c7-85a3-ab13af939c4c',\n",
       "            [{\"name\": \"\\u4efb\\u96ea_\\u5e94\\u5b8c\\u6210BUG\\u6570\", \"x\": [\"8\", \"9\"], \"y\": [0.0, 2.0], \"type\": \"scatter\", \"uid\": \"788e9eb8-c204-11e8-ad45-a81e84e6c740\"}, {\"name\": \"\\u4efb\\u96ea_\\u5b8c\\u6210BUG\\u4fee\\u590d\\u6570\", \"x\": [\"8\", \"9\"], \"y\": [1.0, 2.0], \"type\": \"scatter\", \"uid\": \"788ea4bc-c204-11e8-ad45-a81e84e6c740\"}, {\"name\": \"\\u5218\\u6167\\u73b2_\\u5e94\\u5b8c\\u6210BUG\\u6570\", \"x\": [\"8\"], \"y\": [null], \"type\": \"scatter\", \"uid\": \"788eaf70-c204-11e8-ad45-a81e84e6c740\"}, {\"name\": \"\\u5218\\u6167\\u73b2_\\u5b8c\\u6210BUG\\u4fee\\u590d\\u6570\", \"x\": [\"8\"], \"y\": [null], \"type\": \"scatter\", \"uid\": \"788eb59c-c204-11e8-ad45-a81e84e6c740\"}, {\"name\": \"\\u5218\\u6c5f_\\u5e94\\u5b8c\\u6210BUG\\u6570\", \"x\": [\"8\", \"9\"], \"y\": [0.0, 0.0], \"type\": \"scatter\", \"uid\": \"788ebc7c-c204-11e8-ad45-a81e84e6c740\"}, {\"name\": \"\\u5218\\u6c5f_\\u5b8c\\u6210BUG\\u4fee\\u590d\\u6570\", \"x\": [\"8\", \"9\"], \"y\": [0.0, 0.0], \"type\": \"scatter\", \"uid\": \"788ec0b4-c204-11e8-ad45-a81e84e6c740\"}, {\"name\": \"\\u59da\\u76df\\u6210_\\u5e94\\u5b8c\\u6210BUG\\u6570\", \"x\": [\"8\"], \"y\": [null], \"type\": \"scatter\", \"uid\": \"788ec32a-c204-11e8-ad45-a81e84e6c740\"}, {\"name\": \"\\u59da\\u76df\\u6210_\\u5b8c\\u6210BUG\\u4fee\\u590d\\u6570\", \"x\": [\"8\"], \"y\": [null], \"type\": \"scatter\", \"uid\": \"788ec550-c204-11e8-ad45-a81e84e6c740\"}, {\"name\": \"\\u5b5f\\u660a_\\u5e94\\u5b8c\\u6210BUG\\u6570\", \"x\": [\"8\", \"9\"], \"y\": [null, null], \"type\": \"scatter\", \"uid\": \"788ec74e-c204-11e8-ad45-a81e84e6c740\"}, {\"name\": \"\\u5b5f\\u660a_\\u5b8c\\u6210BUG\\u4fee\\u590d\\u6570\", \"x\": [\"8\", \"9\"], \"y\": [null, null], \"type\": \"scatter\", \"uid\": \"788ec94c-c204-11e8-ad45-a81e84e6c740\"}, {\"name\": \"\\u5c01\\u5f66\\u6770_\\u5e94\\u5b8c\\u6210BUG\\u6570\", \"x\": [\"8\", \"9\"], \"y\": [2.0, null], \"type\": \"scatter\", \"uid\": \"788ecb40-c204-11e8-ad45-a81e84e6c740\"}, {\"name\": \"\\u5c01\\u5f66\\u6770_\\u5b8c\\u6210BUG\\u4fee\\u590d\\u6570\", \"x\": [\"8\", \"9\"], \"y\": [2.0, null], \"type\": \"scatter\", \"uid\": \"788ecd2a-c204-11e8-ad45-a81e84e6c740\"}, {\"name\": \"\\u674e\\u534e\\u4e91_\\u5e94\\u5b8c\\u6210BUG\\u6570\", \"x\": [\"8\", \"9\"], \"y\": [null, null], \"type\": \"scatter\", \"uid\": \"788ecf1e-c204-11e8-ad45-a81e84e6c740\"}, {\"name\": \"\\u674e\\u534e\\u4e91_\\u5b8c\\u6210BUG\\u4fee\\u590d\\u6570\", \"x\": [\"8\", \"9\"], \"y\": [null, null], \"type\": \"scatter\", \"uid\": \"788ed108-c204-11e8-ad45-a81e84e6c740\"}, {\"name\": \"\\u82cf\\u5f66\\u52cb_\\u5e94\\u5b8c\\u6210BUG\\u6570\", \"x\": [\"8\"], \"y\": [null], \"type\": \"scatter\", \"uid\": \"788ed2e8-c204-11e8-ad45-a81e84e6c740\"}, {\"name\": \"\\u82cf\\u5f66\\u52cb_\\u5b8c\\u6210BUG\\u4fee\\u590d\\u6570\", \"x\": [\"8\"], \"y\": [null], \"type\": \"scatter\", \"uid\": \"788ed4d2-c204-11e8-ad45-a81e84e6c740\"}, {\"name\": \"\\u8303\\u65ed\\u5b81_\\u5e94\\u5b8c\\u6210BUG\\u6570\", \"x\": [\"8\"], \"y\": [null], \"type\": \"scatter\", \"uid\": \"788ed6b2-c204-11e8-ad45-a81e84e6c740\"}, {\"name\": \"\\u8303\\u65ed\\u5b81_\\u5b8c\\u6210BUG\\u4fee\\u590d\\u6570\", \"x\": [\"8\"], \"y\": [null], \"type\": \"scatter\", \"uid\": \"788ed89c-c204-11e8-ad45-a81e84e6c740\"}, {\"name\": \"\\u97e9\\u5c11\\u6000_\\u5e94\\u5b8c\\u6210BUG\\u6570\", \"x\": [\"8\"], \"y\": [null], \"type\": \"scatter\", \"uid\": \"788eda7c-c204-11e8-ad45-a81e84e6c740\"}, {\"name\": \"\\u97e9\\u5c11\\u6000_\\u5b8c\\u6210BUG\\u4fee\\u590d\\u6570\", \"x\": [\"8\"], \"y\": [null], \"type\": \"scatter\", \"uid\": \"788edc66-c204-11e8-ad45-a81e84e6c740\"}],\n",
       "            {\"title\": \"\\u5e94\\u5b8c\\u6210BUG\\u6570&\\u5b8c\\u6210BUG\\u4fee\\u590d\\u6570\\u6708\\u8d8b\\u52bf\\u56fe\", \"xaxis\": {\"mirror\": \"all\", \"nticks\": 20, \"showgrid\": true, \"showline\": true, \"title\": \"\\u6708\", \"zeroline\": true}, \"yaxis\": {\"mirror\": \"all\", \"nticks\": 20, \"showgrid\": true, \"showline\": true, \"title\": \"\\u5e94\\u5b8c\\u6210BUG\\u6570&\\u5b8c\\u6210BUG\\u4fee\\u590d\\u6570\", \"zeroline\": true}},\n",
       "            {\"showLink\": true, \"linkText\": \"Export to plot.ly\"}\n",
       "        ).then(function () {return Plotly.addFrames('ac5c9b0a-cad2-41c7-85a3-ab13af939c4c',{});}).then(function(){Plotly.animate('ac5c9b0a-cad2-41c7-85a3-ab13af939c4c');})\n",
       "        });</script>"
      ],
      "text/vnd.plotly.v1+html": [
       "<div id=\"ac5c9b0a-cad2-41c7-85a3-ab13af939c4c\" style=\"height: 525px; width: 100%;\" class=\"plotly-graph-div\"></div><script type=\"text/javascript\">require([\"plotly\"], function(Plotly) { window.PLOTLYENV=window.PLOTLYENV || {};window.PLOTLYENV.BASE_URL=\"https://plot.ly\";\n",
       "        Plotly.plot(\n",
       "            'ac5c9b0a-cad2-41c7-85a3-ab13af939c4c',\n",
       "            [{\"name\": \"\\u4efb\\u96ea_\\u5e94\\u5b8c\\u6210BUG\\u6570\", \"x\": [\"8\", \"9\"], \"y\": [0.0, 2.0], \"type\": \"scatter\", \"uid\": \"788e9eb8-c204-11e8-ad45-a81e84e6c740\"}, {\"name\": \"\\u4efb\\u96ea_\\u5b8c\\u6210BUG\\u4fee\\u590d\\u6570\", \"x\": [\"8\", \"9\"], \"y\": [1.0, 2.0], \"type\": \"scatter\", \"uid\": \"788ea4bc-c204-11e8-ad45-a81e84e6c740\"}, {\"name\": \"\\u5218\\u6167\\u73b2_\\u5e94\\u5b8c\\u6210BUG\\u6570\", \"x\": [\"8\"], \"y\": [null], \"type\": \"scatter\", \"uid\": \"788eaf70-c204-11e8-ad45-a81e84e6c740\"}, {\"name\": \"\\u5218\\u6167\\u73b2_\\u5b8c\\u6210BUG\\u4fee\\u590d\\u6570\", \"x\": [\"8\"], \"y\": [null], \"type\": \"scatter\", \"uid\": \"788eb59c-c204-11e8-ad45-a81e84e6c740\"}, {\"name\": \"\\u5218\\u6c5f_\\u5e94\\u5b8c\\u6210BUG\\u6570\", \"x\": [\"8\", \"9\"], \"y\": [0.0, 0.0], \"type\": \"scatter\", \"uid\": \"788ebc7c-c204-11e8-ad45-a81e84e6c740\"}, {\"name\": \"\\u5218\\u6c5f_\\u5b8c\\u6210BUG\\u4fee\\u590d\\u6570\", \"x\": [\"8\", \"9\"], \"y\": [0.0, 0.0], \"type\": \"scatter\", \"uid\": \"788ec0b4-c204-11e8-ad45-a81e84e6c740\"}, {\"name\": \"\\u59da\\u76df\\u6210_\\u5e94\\u5b8c\\u6210BUG\\u6570\", \"x\": [\"8\"], \"y\": [null], \"type\": \"scatter\", \"uid\": \"788ec32a-c204-11e8-ad45-a81e84e6c740\"}, {\"name\": \"\\u59da\\u76df\\u6210_\\u5b8c\\u6210BUG\\u4fee\\u590d\\u6570\", \"x\": [\"8\"], \"y\": [null], \"type\": \"scatter\", \"uid\": \"788ec550-c204-11e8-ad45-a81e84e6c740\"}, {\"name\": \"\\u5b5f\\u660a_\\u5e94\\u5b8c\\u6210BUG\\u6570\", \"x\": [\"8\", \"9\"], \"y\": [null, null], \"type\": \"scatter\", \"uid\": \"788ec74e-c204-11e8-ad45-a81e84e6c740\"}, {\"name\": \"\\u5b5f\\u660a_\\u5b8c\\u6210BUG\\u4fee\\u590d\\u6570\", \"x\": [\"8\", \"9\"], \"y\": [null, null], \"type\": \"scatter\", \"uid\": \"788ec94c-c204-11e8-ad45-a81e84e6c740\"}, {\"name\": \"\\u5c01\\u5f66\\u6770_\\u5e94\\u5b8c\\u6210BUG\\u6570\", \"x\": [\"8\", \"9\"], \"y\": [2.0, null], \"type\": \"scatter\", \"uid\": \"788ecb40-c204-11e8-ad45-a81e84e6c740\"}, {\"name\": \"\\u5c01\\u5f66\\u6770_\\u5b8c\\u6210BUG\\u4fee\\u590d\\u6570\", \"x\": [\"8\", \"9\"], \"y\": [2.0, null], \"type\": \"scatter\", \"uid\": \"788ecd2a-c204-11e8-ad45-a81e84e6c740\"}, {\"name\": \"\\u674e\\u534e\\u4e91_\\u5e94\\u5b8c\\u6210BUG\\u6570\", \"x\": [\"8\", \"9\"], \"y\": [null, null], \"type\": \"scatter\", \"uid\": \"788ecf1e-c204-11e8-ad45-a81e84e6c740\"}, {\"name\": \"\\u674e\\u534e\\u4e91_\\u5b8c\\u6210BUG\\u4fee\\u590d\\u6570\", \"x\": [\"8\", \"9\"], \"y\": [null, null], \"type\": \"scatter\", \"uid\": \"788ed108-c204-11e8-ad45-a81e84e6c740\"}, {\"name\": \"\\u82cf\\u5f66\\u52cb_\\u5e94\\u5b8c\\u6210BUG\\u6570\", \"x\": [\"8\"], \"y\": [null], \"type\": \"scatter\", \"uid\": \"788ed2e8-c204-11e8-ad45-a81e84e6c740\"}, {\"name\": \"\\u82cf\\u5f66\\u52cb_\\u5b8c\\u6210BUG\\u4fee\\u590d\\u6570\", \"x\": [\"8\"], \"y\": [null], \"type\": \"scatter\", \"uid\": \"788ed4d2-c204-11e8-ad45-a81e84e6c740\"}, {\"name\": \"\\u8303\\u65ed\\u5b81_\\u5e94\\u5b8c\\u6210BUG\\u6570\", \"x\": [\"8\"], \"y\": [null], \"type\": \"scatter\", \"uid\": \"788ed6b2-c204-11e8-ad45-a81e84e6c740\"}, {\"name\": \"\\u8303\\u65ed\\u5b81_\\u5b8c\\u6210BUG\\u4fee\\u590d\\u6570\", \"x\": [\"8\"], \"y\": [null], \"type\": \"scatter\", \"uid\": \"788ed89c-c204-11e8-ad45-a81e84e6c740\"}, {\"name\": \"\\u97e9\\u5c11\\u6000_\\u5e94\\u5b8c\\u6210BUG\\u6570\", \"x\": [\"8\"], \"y\": [null], \"type\": \"scatter\", \"uid\": \"788eda7c-c204-11e8-ad45-a81e84e6c740\"}, {\"name\": \"\\u97e9\\u5c11\\u6000_\\u5b8c\\u6210BUG\\u4fee\\u590d\\u6570\", \"x\": [\"8\"], \"y\": [null], \"type\": \"scatter\", \"uid\": \"788edc66-c204-11e8-ad45-a81e84e6c740\"}],\n",
       "            {\"title\": \"\\u5e94\\u5b8c\\u6210BUG\\u6570&\\u5b8c\\u6210BUG\\u4fee\\u590d\\u6570\\u6708\\u8d8b\\u52bf\\u56fe\", \"xaxis\": {\"mirror\": \"all\", \"nticks\": 20, \"showgrid\": true, \"showline\": true, \"title\": \"\\u6708\", \"zeroline\": true}, \"yaxis\": {\"mirror\": \"all\", \"nticks\": 20, \"showgrid\": true, \"showline\": true, \"title\": \"\\u5e94\\u5b8c\\u6210BUG\\u6570&\\u5b8c\\u6210BUG\\u4fee\\u590d\\u6570\", \"zeroline\": true}},\n",
       "            {\"showLink\": true, \"linkText\": \"Export to plot.ly\"}\n",
       "        ).then(function () {return Plotly.addFrames('ac5c9b0a-cad2-41c7-85a3-ab13af939c4c',{});}).then(function(){Plotly.animate('ac5c9b0a-cad2-41c7-85a3-ab13af939c4c');})\n",
       "        });</script>"
      ]
     },
     "metadata": {},
     "output_type": "display_data"
    }
   ],
   "source": [
    "data_dict = {'应完成BUG数': ['应完成BUG数'], '完成BUG修复数': ['完成BUG修复数']}\n",
    "myModule.plot( all_dict_1, data_dict, '负责人' ,  'line', all='' )"
   ]
  },
  {
   "cell_type": "markdown",
   "metadata": {},
   "source": [
    "# 商业项目情况"
   ]
  },
  {
   "cell_type": "markdown",
   "metadata": {
    "hide_input": true
   },
   "source": [
    "## 整体情况"
   ]
  },
  {
   "cell_type": "markdown",
   "metadata": {},
   "source": [
    "### 完成商业项目数"
   ]
  },
  {
   "cell_type": "code",
   "execution_count": 26,
   "metadata": {},
   "outputs": [
    {
     "data": {
      "application/vnd.plotly.v1+json": {
       "data": [
        {
         "name": "完成商业项目数",
         "type": "scatter",
         "uid": "78b80c44-c204-11e8-ad45-a81e84e6c740",
         "x": [
          "9-2",
          "9-3"
         ],
         "y": [
          14,
          8
         ]
        },
        {
         "name": "完成个性化数",
         "type": "scatter",
         "uid": "78b810c2-c204-11e8-ad45-a81e84e6c740",
         "x": [
          "9-2",
          "9-3"
         ],
         "y": [
          15,
          6
         ]
        }
       ],
       "layout": {
        "title": "完成商业项目数&完成个性化数周趋势图",
        "xaxis": {
         "mirror": "all",
         "nticks": 20,
         "showgrid": true,
         "showline": true,
         "title": "周",
         "zeroline": true
        },
        "yaxis": {
         "mirror": "all",
         "nticks": 20,
         "showgrid": true,
         "showline": true,
         "title": "完成商业项目数&完成个性化数",
         "zeroline": true
        }
       }
      },
      "text/html": [
       "<div id=\"08aee0ee-19f1-4e21-9d85-18419506eb6b\" style=\"height: 525px; width: 100%;\" class=\"plotly-graph-div\"></div><script type=\"text/javascript\">require([\"plotly\"], function(Plotly) { window.PLOTLYENV=window.PLOTLYENV || {};window.PLOTLYENV.BASE_URL=\"https://plot.ly\";\n",
       "        Plotly.plot(\n",
       "            '08aee0ee-19f1-4e21-9d85-18419506eb6b',\n",
       "            [{\"name\": \"\\u5b8c\\u6210\\u5546\\u4e1a\\u9879\\u76ee\\u6570\", \"x\": [\"9-2\", \"9-3\"], \"y\": [14.0, 8.0], \"type\": \"scatter\", \"uid\": \"78b80c44-c204-11e8-ad45-a81e84e6c740\"}, {\"name\": \"\\u5b8c\\u6210\\u4e2a\\u6027\\u5316\\u6570\", \"x\": [\"9-2\", \"9-3\"], \"y\": [15.0, 6.0], \"type\": \"scatter\", \"uid\": \"78b810c2-c204-11e8-ad45-a81e84e6c740\"}],\n",
       "            {\"title\": \"\\u5b8c\\u6210\\u5546\\u4e1a\\u9879\\u76ee\\u6570&\\u5b8c\\u6210\\u4e2a\\u6027\\u5316\\u6570\\u5468\\u8d8b\\u52bf\\u56fe\", \"xaxis\": {\"mirror\": \"all\", \"nticks\": 20, \"showgrid\": true, \"showline\": true, \"title\": \"\\u5468\", \"zeroline\": true}, \"yaxis\": {\"mirror\": \"all\", \"nticks\": 20, \"showgrid\": true, \"showline\": true, \"title\": \"\\u5b8c\\u6210\\u5546\\u4e1a\\u9879\\u76ee\\u6570&\\u5b8c\\u6210\\u4e2a\\u6027\\u5316\\u6570\", \"zeroline\": true}},\n",
       "            {\"showLink\": true, \"linkText\": \"Export to plot.ly\"}\n",
       "        ).then(function () {return Plotly.addFrames('08aee0ee-19f1-4e21-9d85-18419506eb6b',{});}).then(function(){Plotly.animate('08aee0ee-19f1-4e21-9d85-18419506eb6b');})\n",
       "        });</script>"
      ],
      "text/vnd.plotly.v1+html": [
       "<div id=\"08aee0ee-19f1-4e21-9d85-18419506eb6b\" style=\"height: 525px; width: 100%;\" class=\"plotly-graph-div\"></div><script type=\"text/javascript\">require([\"plotly\"], function(Plotly) { window.PLOTLYENV=window.PLOTLYENV || {};window.PLOTLYENV.BASE_URL=\"https://plot.ly\";\n",
       "        Plotly.plot(\n",
       "            '08aee0ee-19f1-4e21-9d85-18419506eb6b',\n",
       "            [{\"name\": \"\\u5b8c\\u6210\\u5546\\u4e1a\\u9879\\u76ee\\u6570\", \"x\": [\"9-2\", \"9-3\"], \"y\": [14.0, 8.0], \"type\": \"scatter\", \"uid\": \"78b80c44-c204-11e8-ad45-a81e84e6c740\"}, {\"name\": \"\\u5b8c\\u6210\\u4e2a\\u6027\\u5316\\u6570\", \"x\": [\"9-2\", \"9-3\"], \"y\": [15.0, 6.0], \"type\": \"scatter\", \"uid\": \"78b810c2-c204-11e8-ad45-a81e84e6c740\"}],\n",
       "            {\"title\": \"\\u5b8c\\u6210\\u5546\\u4e1a\\u9879\\u76ee\\u6570&\\u5b8c\\u6210\\u4e2a\\u6027\\u5316\\u6570\\u5468\\u8d8b\\u52bf\\u56fe\", \"xaxis\": {\"mirror\": \"all\", \"nticks\": 20, \"showgrid\": true, \"showline\": true, \"title\": \"\\u5468\", \"zeroline\": true}, \"yaxis\": {\"mirror\": \"all\", \"nticks\": 20, \"showgrid\": true, \"showline\": true, \"title\": \"\\u5b8c\\u6210\\u5546\\u4e1a\\u9879\\u76ee\\u6570&\\u5b8c\\u6210\\u4e2a\\u6027\\u5316\\u6570\", \"zeroline\": true}},\n",
       "            {\"showLink\": true, \"linkText\": \"Export to plot.ly\"}\n",
       "        ).then(function () {return Plotly.addFrames('08aee0ee-19f1-4e21-9d85-18419506eb6b',{});}).then(function(){Plotly.animate('08aee0ee-19f1-4e21-9d85-18419506eb6b');})\n",
       "        });</script>"
      ]
     },
     "metadata": {},
     "output_type": "display_data"
    },
    {
     "data": {
      "application/vnd.plotly.v1+json": {
       "data": [
        {
         "name": "完成商业项目数",
         "type": "scatter",
         "uid": "78cccd00-c204-11e8-ad45-a81e84e6c740",
         "x": [
          "9"
         ],
         "y": [
          22
         ]
        },
        {
         "name": "完成个性化数",
         "type": "scatter",
         "uid": "78ccdda4-c204-11e8-ad45-a81e84e6c740",
         "x": [
          "9"
         ],
         "y": [
          21
         ]
        }
       ],
       "layout": {
        "title": "完成商业项目数&完成个性化数月趋势图",
        "xaxis": {
         "mirror": "all",
         "nticks": 20,
         "showgrid": true,
         "showline": true,
         "title": "月",
         "zeroline": true
        },
        "yaxis": {
         "mirror": "all",
         "nticks": 20,
         "showgrid": true,
         "showline": true,
         "title": "完成商业项目数&完成个性化数",
         "zeroline": true
        }
       }
      },
      "text/html": [
       "<div id=\"54c82677-03a4-462d-be01-2960d8c70b6f\" style=\"height: 525px; width: 100%;\" class=\"plotly-graph-div\"></div><script type=\"text/javascript\">require([\"plotly\"], function(Plotly) { window.PLOTLYENV=window.PLOTLYENV || {};window.PLOTLYENV.BASE_URL=\"https://plot.ly\";\n",
       "        Plotly.plot(\n",
       "            '54c82677-03a4-462d-be01-2960d8c70b6f',\n",
       "            [{\"name\": \"\\u5b8c\\u6210\\u5546\\u4e1a\\u9879\\u76ee\\u6570\", \"x\": [\"9\"], \"y\": [22.0], \"type\": \"scatter\", \"uid\": \"78cccd00-c204-11e8-ad45-a81e84e6c740\"}, {\"name\": \"\\u5b8c\\u6210\\u4e2a\\u6027\\u5316\\u6570\", \"x\": [\"9\"], \"y\": [21.0], \"type\": \"scatter\", \"uid\": \"78ccdda4-c204-11e8-ad45-a81e84e6c740\"}],\n",
       "            {\"title\": \"\\u5b8c\\u6210\\u5546\\u4e1a\\u9879\\u76ee\\u6570&\\u5b8c\\u6210\\u4e2a\\u6027\\u5316\\u6570\\u6708\\u8d8b\\u52bf\\u56fe\", \"xaxis\": {\"mirror\": \"all\", \"nticks\": 20, \"showgrid\": true, \"showline\": true, \"title\": \"\\u6708\", \"zeroline\": true}, \"yaxis\": {\"mirror\": \"all\", \"nticks\": 20, \"showgrid\": true, \"showline\": true, \"title\": \"\\u5b8c\\u6210\\u5546\\u4e1a\\u9879\\u76ee\\u6570&\\u5b8c\\u6210\\u4e2a\\u6027\\u5316\\u6570\", \"zeroline\": true}},\n",
       "            {\"showLink\": true, \"linkText\": \"Export to plot.ly\"}\n",
       "        ).then(function () {return Plotly.addFrames('54c82677-03a4-462d-be01-2960d8c70b6f',{});}).then(function(){Plotly.animate('54c82677-03a4-462d-be01-2960d8c70b6f');})\n",
       "        });</script>"
      ],
      "text/vnd.plotly.v1+html": [
       "<div id=\"54c82677-03a4-462d-be01-2960d8c70b6f\" style=\"height: 525px; width: 100%;\" class=\"plotly-graph-div\"></div><script type=\"text/javascript\">require([\"plotly\"], function(Plotly) { window.PLOTLYENV=window.PLOTLYENV || {};window.PLOTLYENV.BASE_URL=\"https://plot.ly\";\n",
       "        Plotly.plot(\n",
       "            '54c82677-03a4-462d-be01-2960d8c70b6f',\n",
       "            [{\"name\": \"\\u5b8c\\u6210\\u5546\\u4e1a\\u9879\\u76ee\\u6570\", \"x\": [\"9\"], \"y\": [22.0], \"type\": \"scatter\", \"uid\": \"78cccd00-c204-11e8-ad45-a81e84e6c740\"}, {\"name\": \"\\u5b8c\\u6210\\u4e2a\\u6027\\u5316\\u6570\", \"x\": [\"9\"], \"y\": [21.0], \"type\": \"scatter\", \"uid\": \"78ccdda4-c204-11e8-ad45-a81e84e6c740\"}],\n",
       "            {\"title\": \"\\u5b8c\\u6210\\u5546\\u4e1a\\u9879\\u76ee\\u6570&\\u5b8c\\u6210\\u4e2a\\u6027\\u5316\\u6570\\u6708\\u8d8b\\u52bf\\u56fe\", \"xaxis\": {\"mirror\": \"all\", \"nticks\": 20, \"showgrid\": true, \"showline\": true, \"title\": \"\\u6708\", \"zeroline\": true}, \"yaxis\": {\"mirror\": \"all\", \"nticks\": 20, \"showgrid\": true, \"showline\": true, \"title\": \"\\u5b8c\\u6210\\u5546\\u4e1a\\u9879\\u76ee\\u6570&\\u5b8c\\u6210\\u4e2a\\u6027\\u5316\\u6570\", \"zeroline\": true}},\n",
       "            {\"showLink\": true, \"linkText\": \"Export to plot.ly\"}\n",
       "        ).then(function () {return Plotly.addFrames('54c82677-03a4-462d-be01-2960d8c70b6f',{});}).then(function(){Plotly.animate('54c82677-03a4-462d-be01-2960d8c70b6f');})\n",
       "        });</script>"
      ]
     },
     "metadata": {},
     "output_type": "display_data"
    }
   ],
   "source": [
    "data_dict = {'完成商业项目数':['完成商业项目数'],'完成个性化数':['完成个性化数']}\n",
    "myModule.plot( all_dict_2, data_dict, '负责人','line' , all='all')"
   ]
  },
  {
   "cell_type": "markdown",
   "metadata": {},
   "source": [
    "### 延期项目数"
   ]
  },
  {
   "cell_type": "code",
   "execution_count": 27,
   "metadata": {},
   "outputs": [
    {
     "data": {
      "application/vnd.plotly.v1+json": {
       "data": [
        {
         "name": "延期商业项目数",
         "type": "scatter",
         "uid": "78f3c824-c204-11e8-ad45-a81e84e6c740",
         "x": [
          "9-2",
          "9-3"
         ],
         "y": [
          0,
          0
         ]
        },
        {
         "name": "延期个性化项目数",
         "type": "scatter",
         "uid": "78f3cbbc-c204-11e8-ad45-a81e84e6c740",
         "x": [
          "9-2",
          "9-3"
         ],
         "y": [
          1,
          0
         ]
        }
       ],
       "layout": {
        "title": "延期商业项目数&延期个性化项目数周趋势图",
        "xaxis": {
         "mirror": "all",
         "nticks": 20,
         "showgrid": true,
         "showline": true,
         "title": "周",
         "zeroline": true
        },
        "yaxis": {
         "mirror": "all",
         "nticks": 20,
         "showgrid": true,
         "showline": true,
         "title": "延期商业项目数&延期个性化项目数",
         "zeroline": true
        }
       }
      },
      "text/html": [
       "<div id=\"35327504-eda9-45e7-aa81-cc218380cfa0\" style=\"height: 525px; width: 100%;\" class=\"plotly-graph-div\"></div><script type=\"text/javascript\">require([\"plotly\"], function(Plotly) { window.PLOTLYENV=window.PLOTLYENV || {};window.PLOTLYENV.BASE_URL=\"https://plot.ly\";\n",
       "        Plotly.plot(\n",
       "            '35327504-eda9-45e7-aa81-cc218380cfa0',\n",
       "            [{\"name\": \"\\u5ef6\\u671f\\u5546\\u4e1a\\u9879\\u76ee\\u6570\", \"x\": [\"9-2\", \"9-3\"], \"y\": [0.0, 0.0], \"type\": \"scatter\", \"uid\": \"78f3c824-c204-11e8-ad45-a81e84e6c740\"}, {\"name\": \"\\u5ef6\\u671f\\u4e2a\\u6027\\u5316\\u9879\\u76ee\\u6570\", \"x\": [\"9-2\", \"9-3\"], \"y\": [1.0, 0.0], \"type\": \"scatter\", \"uid\": \"78f3cbbc-c204-11e8-ad45-a81e84e6c740\"}],\n",
       "            {\"title\": \"\\u5ef6\\u671f\\u5546\\u4e1a\\u9879\\u76ee\\u6570&\\u5ef6\\u671f\\u4e2a\\u6027\\u5316\\u9879\\u76ee\\u6570\\u5468\\u8d8b\\u52bf\\u56fe\", \"xaxis\": {\"mirror\": \"all\", \"nticks\": 20, \"showgrid\": true, \"showline\": true, \"title\": \"\\u5468\", \"zeroline\": true}, \"yaxis\": {\"mirror\": \"all\", \"nticks\": 20, \"showgrid\": true, \"showline\": true, \"title\": \"\\u5ef6\\u671f\\u5546\\u4e1a\\u9879\\u76ee\\u6570&\\u5ef6\\u671f\\u4e2a\\u6027\\u5316\\u9879\\u76ee\\u6570\", \"zeroline\": true}},\n",
       "            {\"showLink\": true, \"linkText\": \"Export to plot.ly\"}\n",
       "        ).then(function () {return Plotly.addFrames('35327504-eda9-45e7-aa81-cc218380cfa0',{});}).then(function(){Plotly.animate('35327504-eda9-45e7-aa81-cc218380cfa0');})\n",
       "        });</script>"
      ],
      "text/vnd.plotly.v1+html": [
       "<div id=\"35327504-eda9-45e7-aa81-cc218380cfa0\" style=\"height: 525px; width: 100%;\" class=\"plotly-graph-div\"></div><script type=\"text/javascript\">require([\"plotly\"], function(Plotly) { window.PLOTLYENV=window.PLOTLYENV || {};window.PLOTLYENV.BASE_URL=\"https://plot.ly\";\n",
       "        Plotly.plot(\n",
       "            '35327504-eda9-45e7-aa81-cc218380cfa0',\n",
       "            [{\"name\": \"\\u5ef6\\u671f\\u5546\\u4e1a\\u9879\\u76ee\\u6570\", \"x\": [\"9-2\", \"9-3\"], \"y\": [0.0, 0.0], \"type\": \"scatter\", \"uid\": \"78f3c824-c204-11e8-ad45-a81e84e6c740\"}, {\"name\": \"\\u5ef6\\u671f\\u4e2a\\u6027\\u5316\\u9879\\u76ee\\u6570\", \"x\": [\"9-2\", \"9-3\"], \"y\": [1.0, 0.0], \"type\": \"scatter\", \"uid\": \"78f3cbbc-c204-11e8-ad45-a81e84e6c740\"}],\n",
       "            {\"title\": \"\\u5ef6\\u671f\\u5546\\u4e1a\\u9879\\u76ee\\u6570&\\u5ef6\\u671f\\u4e2a\\u6027\\u5316\\u9879\\u76ee\\u6570\\u5468\\u8d8b\\u52bf\\u56fe\", \"xaxis\": {\"mirror\": \"all\", \"nticks\": 20, \"showgrid\": true, \"showline\": true, \"title\": \"\\u5468\", \"zeroline\": true}, \"yaxis\": {\"mirror\": \"all\", \"nticks\": 20, \"showgrid\": true, \"showline\": true, \"title\": \"\\u5ef6\\u671f\\u5546\\u4e1a\\u9879\\u76ee\\u6570&\\u5ef6\\u671f\\u4e2a\\u6027\\u5316\\u9879\\u76ee\\u6570\", \"zeroline\": true}},\n",
       "            {\"showLink\": true, \"linkText\": \"Export to plot.ly\"}\n",
       "        ).then(function () {return Plotly.addFrames('35327504-eda9-45e7-aa81-cc218380cfa0',{});}).then(function(){Plotly.animate('35327504-eda9-45e7-aa81-cc218380cfa0');})\n",
       "        });</script>"
      ]
     },
     "metadata": {},
     "output_type": "display_data"
    },
    {
     "data": {
      "application/vnd.plotly.v1+json": {
       "data": [
        {
         "name": "延期商业项目数",
         "type": "scatter",
         "uid": "78fe25ee-c204-11e8-ad45-a81e84e6c740",
         "x": [
          "9"
         ],
         "y": [
          0
         ]
        },
        {
         "name": "延期个性化项目数",
         "type": "scatter",
         "uid": "78fe36e2-c204-11e8-ad45-a81e84e6c740",
         "x": [
          "9"
         ],
         "y": [
          1
         ]
        }
       ],
       "layout": {
        "title": "延期商业项目数&延期个性化项目数月趋势图",
        "xaxis": {
         "mirror": "all",
         "nticks": 20,
         "showgrid": true,
         "showline": true,
         "title": "月",
         "zeroline": true
        },
        "yaxis": {
         "mirror": "all",
         "nticks": 20,
         "showgrid": true,
         "showline": true,
         "title": "延期商业项目数&延期个性化项目数",
         "zeroline": true
        }
       }
      },
      "text/html": [
       "<div id=\"d2e564e1-d7ee-48e0-8e70-8f8bb7755c3e\" style=\"height: 525px; width: 100%;\" class=\"plotly-graph-div\"></div><script type=\"text/javascript\">require([\"plotly\"], function(Plotly) { window.PLOTLYENV=window.PLOTLYENV || {};window.PLOTLYENV.BASE_URL=\"https://plot.ly\";\n",
       "        Plotly.plot(\n",
       "            'd2e564e1-d7ee-48e0-8e70-8f8bb7755c3e',\n",
       "            [{\"name\": \"\\u5ef6\\u671f\\u5546\\u4e1a\\u9879\\u76ee\\u6570\", \"x\": [\"9\"], \"y\": [0.0], \"type\": \"scatter\", \"uid\": \"78fe25ee-c204-11e8-ad45-a81e84e6c740\"}, {\"name\": \"\\u5ef6\\u671f\\u4e2a\\u6027\\u5316\\u9879\\u76ee\\u6570\", \"x\": [\"9\"], \"y\": [1.0], \"type\": \"scatter\", \"uid\": \"78fe36e2-c204-11e8-ad45-a81e84e6c740\"}],\n",
       "            {\"title\": \"\\u5ef6\\u671f\\u5546\\u4e1a\\u9879\\u76ee\\u6570&\\u5ef6\\u671f\\u4e2a\\u6027\\u5316\\u9879\\u76ee\\u6570\\u6708\\u8d8b\\u52bf\\u56fe\", \"xaxis\": {\"mirror\": \"all\", \"nticks\": 20, \"showgrid\": true, \"showline\": true, \"title\": \"\\u6708\", \"zeroline\": true}, \"yaxis\": {\"mirror\": \"all\", \"nticks\": 20, \"showgrid\": true, \"showline\": true, \"title\": \"\\u5ef6\\u671f\\u5546\\u4e1a\\u9879\\u76ee\\u6570&\\u5ef6\\u671f\\u4e2a\\u6027\\u5316\\u9879\\u76ee\\u6570\", \"zeroline\": true}},\n",
       "            {\"showLink\": true, \"linkText\": \"Export to plot.ly\"}\n",
       "        ).then(function () {return Plotly.addFrames('d2e564e1-d7ee-48e0-8e70-8f8bb7755c3e',{});}).then(function(){Plotly.animate('d2e564e1-d7ee-48e0-8e70-8f8bb7755c3e');})\n",
       "        });</script>"
      ],
      "text/vnd.plotly.v1+html": [
       "<div id=\"d2e564e1-d7ee-48e0-8e70-8f8bb7755c3e\" style=\"height: 525px; width: 100%;\" class=\"plotly-graph-div\"></div><script type=\"text/javascript\">require([\"plotly\"], function(Plotly) { window.PLOTLYENV=window.PLOTLYENV || {};window.PLOTLYENV.BASE_URL=\"https://plot.ly\";\n",
       "        Plotly.plot(\n",
       "            'd2e564e1-d7ee-48e0-8e70-8f8bb7755c3e',\n",
       "            [{\"name\": \"\\u5ef6\\u671f\\u5546\\u4e1a\\u9879\\u76ee\\u6570\", \"x\": [\"9\"], \"y\": [0.0], \"type\": \"scatter\", \"uid\": \"78fe25ee-c204-11e8-ad45-a81e84e6c740\"}, {\"name\": \"\\u5ef6\\u671f\\u4e2a\\u6027\\u5316\\u9879\\u76ee\\u6570\", \"x\": [\"9\"], \"y\": [1.0], \"type\": \"scatter\", \"uid\": \"78fe36e2-c204-11e8-ad45-a81e84e6c740\"}],\n",
       "            {\"title\": \"\\u5ef6\\u671f\\u5546\\u4e1a\\u9879\\u76ee\\u6570&\\u5ef6\\u671f\\u4e2a\\u6027\\u5316\\u9879\\u76ee\\u6570\\u6708\\u8d8b\\u52bf\\u56fe\", \"xaxis\": {\"mirror\": \"all\", \"nticks\": 20, \"showgrid\": true, \"showline\": true, \"title\": \"\\u6708\", \"zeroline\": true}, \"yaxis\": {\"mirror\": \"all\", \"nticks\": 20, \"showgrid\": true, \"showline\": true, \"title\": \"\\u5ef6\\u671f\\u5546\\u4e1a\\u9879\\u76ee\\u6570&\\u5ef6\\u671f\\u4e2a\\u6027\\u5316\\u9879\\u76ee\\u6570\", \"zeroline\": true}},\n",
       "            {\"showLink\": true, \"linkText\": \"Export to plot.ly\"}\n",
       "        ).then(function () {return Plotly.addFrames('d2e564e1-d7ee-48e0-8e70-8f8bb7755c3e',{});}).then(function(){Plotly.animate('d2e564e1-d7ee-48e0-8e70-8f8bb7755c3e');})\n",
       "        });</script>"
      ]
     },
     "metadata": {},
     "output_type": "display_data"
    }
   ],
   "source": [
    "data_dict = {'延期商业项目数':['延期商业项目数'],'延期个性化项目数':['延期个性化项目数']}\n",
    "myModule.plot( all_dict_2, data_dict, '负责人','line' , all='all')"
   ]
  },
  {
   "cell_type": "markdown",
   "metadata": {},
   "source": [
    "### 反馈延期数"
   ]
  },
  {
   "cell_type": "code",
   "execution_count": 28,
   "metadata": {},
   "outputs": [
    {
     "data": {
      "application/vnd.plotly.v1+json": {
       "data": [
        {
         "name": "24h内未完成数据反馈项目数",
         "type": "scatter",
         "uid": "7927f9f0-c204-11e8-ad45-a81e84e6c740",
         "x": [
          "9-2",
          "9-3"
         ],
         "y": [
          1,
          0
         ]
        },
        {
         "name": "反馈延期个性化数",
         "type": "scatter",
         "uid": "7927fd42-c204-11e8-ad45-a81e84e6c740",
         "x": [
          "9-2",
          "9-3"
         ],
         "y": [
          1,
          0
         ]
        }
       ],
       "layout": {
        "title": "24h内未完成数据反馈项目数&反馈延期个性化数周趋势图",
        "xaxis": {
         "mirror": "all",
         "nticks": 20,
         "showgrid": true,
         "showline": true,
         "title": "周",
         "zeroline": true
        },
        "yaxis": {
         "mirror": "all",
         "nticks": 20,
         "showgrid": true,
         "showline": true,
         "title": "24h内未完成数据反馈项目数&反馈延期个性化数",
         "zeroline": true
        }
       }
      },
      "text/html": [
       "<div id=\"cb026cce-721b-4969-9033-155b9d96d689\" style=\"height: 525px; width: 100%;\" class=\"plotly-graph-div\"></div><script type=\"text/javascript\">require([\"plotly\"], function(Plotly) { window.PLOTLYENV=window.PLOTLYENV || {};window.PLOTLYENV.BASE_URL=\"https://plot.ly\";\n",
       "        Plotly.plot(\n",
       "            'cb026cce-721b-4969-9033-155b9d96d689',\n",
       "            [{\"name\": \"24h\\u5185\\u672a\\u5b8c\\u6210\\u6570\\u636e\\u53cd\\u9988\\u9879\\u76ee\\u6570\", \"x\": [\"9-2\", \"9-3\"], \"y\": [1.0, 0.0], \"type\": \"scatter\", \"uid\": \"7927f9f0-c204-11e8-ad45-a81e84e6c740\"}, {\"name\": \"\\u53cd\\u9988\\u5ef6\\u671f\\u4e2a\\u6027\\u5316\\u6570\", \"x\": [\"9-2\", \"9-3\"], \"y\": [1.0, 0.0], \"type\": \"scatter\", \"uid\": \"7927fd42-c204-11e8-ad45-a81e84e6c740\"}],\n",
       "            {\"title\": \"24h\\u5185\\u672a\\u5b8c\\u6210\\u6570\\u636e\\u53cd\\u9988\\u9879\\u76ee\\u6570&\\u53cd\\u9988\\u5ef6\\u671f\\u4e2a\\u6027\\u5316\\u6570\\u5468\\u8d8b\\u52bf\\u56fe\", \"xaxis\": {\"mirror\": \"all\", \"nticks\": 20, \"showgrid\": true, \"showline\": true, \"title\": \"\\u5468\", \"zeroline\": true}, \"yaxis\": {\"mirror\": \"all\", \"nticks\": 20, \"showgrid\": true, \"showline\": true, \"title\": \"24h\\u5185\\u672a\\u5b8c\\u6210\\u6570\\u636e\\u53cd\\u9988\\u9879\\u76ee\\u6570&\\u53cd\\u9988\\u5ef6\\u671f\\u4e2a\\u6027\\u5316\\u6570\", \"zeroline\": true}},\n",
       "            {\"showLink\": true, \"linkText\": \"Export to plot.ly\"}\n",
       "        ).then(function () {return Plotly.addFrames('cb026cce-721b-4969-9033-155b9d96d689',{});}).then(function(){Plotly.animate('cb026cce-721b-4969-9033-155b9d96d689');})\n",
       "        });</script>"
      ],
      "text/vnd.plotly.v1+html": [
       "<div id=\"cb026cce-721b-4969-9033-155b9d96d689\" style=\"height: 525px; width: 100%;\" class=\"plotly-graph-div\"></div><script type=\"text/javascript\">require([\"plotly\"], function(Plotly) { window.PLOTLYENV=window.PLOTLYENV || {};window.PLOTLYENV.BASE_URL=\"https://plot.ly\";\n",
       "        Plotly.plot(\n",
       "            'cb026cce-721b-4969-9033-155b9d96d689',\n",
       "            [{\"name\": \"24h\\u5185\\u672a\\u5b8c\\u6210\\u6570\\u636e\\u53cd\\u9988\\u9879\\u76ee\\u6570\", \"x\": [\"9-2\", \"9-3\"], \"y\": [1.0, 0.0], \"type\": \"scatter\", \"uid\": \"7927f9f0-c204-11e8-ad45-a81e84e6c740\"}, {\"name\": \"\\u53cd\\u9988\\u5ef6\\u671f\\u4e2a\\u6027\\u5316\\u6570\", \"x\": [\"9-2\", \"9-3\"], \"y\": [1.0, 0.0], \"type\": \"scatter\", \"uid\": \"7927fd42-c204-11e8-ad45-a81e84e6c740\"}],\n",
       "            {\"title\": \"24h\\u5185\\u672a\\u5b8c\\u6210\\u6570\\u636e\\u53cd\\u9988\\u9879\\u76ee\\u6570&\\u53cd\\u9988\\u5ef6\\u671f\\u4e2a\\u6027\\u5316\\u6570\\u5468\\u8d8b\\u52bf\\u56fe\", \"xaxis\": {\"mirror\": \"all\", \"nticks\": 20, \"showgrid\": true, \"showline\": true, \"title\": \"\\u5468\", \"zeroline\": true}, \"yaxis\": {\"mirror\": \"all\", \"nticks\": 20, \"showgrid\": true, \"showline\": true, \"title\": \"24h\\u5185\\u672a\\u5b8c\\u6210\\u6570\\u636e\\u53cd\\u9988\\u9879\\u76ee\\u6570&\\u53cd\\u9988\\u5ef6\\u671f\\u4e2a\\u6027\\u5316\\u6570\", \"zeroline\": true}},\n",
       "            {\"showLink\": true, \"linkText\": \"Export to plot.ly\"}\n",
       "        ).then(function () {return Plotly.addFrames('cb026cce-721b-4969-9033-155b9d96d689',{});}).then(function(){Plotly.animate('cb026cce-721b-4969-9033-155b9d96d689');})\n",
       "        });</script>"
      ]
     },
     "metadata": {},
     "output_type": "display_data"
    },
    {
     "data": {
      "application/vnd.plotly.v1+json": {
       "data": [
        {
         "name": "24h内未完成数据反馈项目数",
         "type": "scatter",
         "uid": "7932a706-c204-11e8-ad45-a81e84e6c740",
         "x": [
          "9"
         ],
         "y": [
          1
         ]
        },
        {
         "name": "反馈延期个性化数",
         "type": "scatter",
         "uid": "7932b534-c204-11e8-ad45-a81e84e6c740",
         "x": [
          "9"
         ],
         "y": [
          1
         ]
        }
       ],
       "layout": {
        "title": "24h内未完成数据反馈项目数&反馈延期个性化数月趋势图",
        "xaxis": {
         "mirror": "all",
         "nticks": 20,
         "showgrid": true,
         "showline": true,
         "title": "月",
         "zeroline": true
        },
        "yaxis": {
         "mirror": "all",
         "nticks": 20,
         "showgrid": true,
         "showline": true,
         "title": "24h内未完成数据反馈项目数&反馈延期个性化数",
         "zeroline": true
        }
       }
      },
      "text/html": [
       "<div id=\"fea40977-3d34-4824-bf12-d7cfe1b1d698\" style=\"height: 525px; width: 100%;\" class=\"plotly-graph-div\"></div><script type=\"text/javascript\">require([\"plotly\"], function(Plotly) { window.PLOTLYENV=window.PLOTLYENV || {};window.PLOTLYENV.BASE_URL=\"https://plot.ly\";\n",
       "        Plotly.plot(\n",
       "            'fea40977-3d34-4824-bf12-d7cfe1b1d698',\n",
       "            [{\"name\": \"24h\\u5185\\u672a\\u5b8c\\u6210\\u6570\\u636e\\u53cd\\u9988\\u9879\\u76ee\\u6570\", \"x\": [\"9\"], \"y\": [1.0], \"type\": \"scatter\", \"uid\": \"7932a706-c204-11e8-ad45-a81e84e6c740\"}, {\"name\": \"\\u53cd\\u9988\\u5ef6\\u671f\\u4e2a\\u6027\\u5316\\u6570\", \"x\": [\"9\"], \"y\": [1.0], \"type\": \"scatter\", \"uid\": \"7932b534-c204-11e8-ad45-a81e84e6c740\"}],\n",
       "            {\"title\": \"24h\\u5185\\u672a\\u5b8c\\u6210\\u6570\\u636e\\u53cd\\u9988\\u9879\\u76ee\\u6570&\\u53cd\\u9988\\u5ef6\\u671f\\u4e2a\\u6027\\u5316\\u6570\\u6708\\u8d8b\\u52bf\\u56fe\", \"xaxis\": {\"mirror\": \"all\", \"nticks\": 20, \"showgrid\": true, \"showline\": true, \"title\": \"\\u6708\", \"zeroline\": true}, \"yaxis\": {\"mirror\": \"all\", \"nticks\": 20, \"showgrid\": true, \"showline\": true, \"title\": \"24h\\u5185\\u672a\\u5b8c\\u6210\\u6570\\u636e\\u53cd\\u9988\\u9879\\u76ee\\u6570&\\u53cd\\u9988\\u5ef6\\u671f\\u4e2a\\u6027\\u5316\\u6570\", \"zeroline\": true}},\n",
       "            {\"showLink\": true, \"linkText\": \"Export to plot.ly\"}\n",
       "        ).then(function () {return Plotly.addFrames('fea40977-3d34-4824-bf12-d7cfe1b1d698',{});}).then(function(){Plotly.animate('fea40977-3d34-4824-bf12-d7cfe1b1d698');})\n",
       "        });</script>"
      ],
      "text/vnd.plotly.v1+html": [
       "<div id=\"fea40977-3d34-4824-bf12-d7cfe1b1d698\" style=\"height: 525px; width: 100%;\" class=\"plotly-graph-div\"></div><script type=\"text/javascript\">require([\"plotly\"], function(Plotly) { window.PLOTLYENV=window.PLOTLYENV || {};window.PLOTLYENV.BASE_URL=\"https://plot.ly\";\n",
       "        Plotly.plot(\n",
       "            'fea40977-3d34-4824-bf12-d7cfe1b1d698',\n",
       "            [{\"name\": \"24h\\u5185\\u672a\\u5b8c\\u6210\\u6570\\u636e\\u53cd\\u9988\\u9879\\u76ee\\u6570\", \"x\": [\"9\"], \"y\": [1.0], \"type\": \"scatter\", \"uid\": \"7932a706-c204-11e8-ad45-a81e84e6c740\"}, {\"name\": \"\\u53cd\\u9988\\u5ef6\\u671f\\u4e2a\\u6027\\u5316\\u6570\", \"x\": [\"9\"], \"y\": [1.0], \"type\": \"scatter\", \"uid\": \"7932b534-c204-11e8-ad45-a81e84e6c740\"}],\n",
       "            {\"title\": \"24h\\u5185\\u672a\\u5b8c\\u6210\\u6570\\u636e\\u53cd\\u9988\\u9879\\u76ee\\u6570&\\u53cd\\u9988\\u5ef6\\u671f\\u4e2a\\u6027\\u5316\\u6570\\u6708\\u8d8b\\u52bf\\u56fe\", \"xaxis\": {\"mirror\": \"all\", \"nticks\": 20, \"showgrid\": true, \"showline\": true, \"title\": \"\\u6708\", \"zeroline\": true}, \"yaxis\": {\"mirror\": \"all\", \"nticks\": 20, \"showgrid\": true, \"showline\": true, \"title\": \"24h\\u5185\\u672a\\u5b8c\\u6210\\u6570\\u636e\\u53cd\\u9988\\u9879\\u76ee\\u6570&\\u53cd\\u9988\\u5ef6\\u671f\\u4e2a\\u6027\\u5316\\u6570\", \"zeroline\": true}},\n",
       "            {\"showLink\": true, \"linkText\": \"Export to plot.ly\"}\n",
       "        ).then(function () {return Plotly.addFrames('fea40977-3d34-4824-bf12-d7cfe1b1d698',{});}).then(function(){Plotly.animate('fea40977-3d34-4824-bf12-d7cfe1b1d698');})\n",
       "        });</script>"
      ]
     },
     "metadata": {},
     "output_type": "display_data"
    }
   ],
   "source": [
    "data_dict = {'24h内未完成数据反馈项目数':['24h内未完成数据反馈项目数'],'反馈延期个性化数':['反馈延期个性化数']}\n",
    "myModule.plot( all_dict_2, data_dict, '负责人','line' , all='all')"
   ]
  },
  {
   "cell_type": "markdown",
   "metadata": {},
   "source": [
    "### 延期率"
   ]
  },
  {
   "cell_type": "code",
   "execution_count": 29,
   "metadata": {},
   "outputs": [
    {
     "data": {
      "application/vnd.plotly.v1+json": {
       "data": [
        {
         "name": "商业项目延期率",
         "type": "scatter",
         "uid": "7959aaea-c204-11e8-ad45-a81e84e6c740",
         "x": [
          "9-2",
          "9-3"
         ],
         "y": [
          0,
          0
         ]
        },
        {
         "name": "个性化项目延期率",
         "type": "scatter",
         "uid": "7959afa4-c204-11e8-ad45-a81e84e6c740",
         "x": [
          "9-2",
          "9-3"
         ],
         "y": [
          0.0625,
          0
         ]
        },
        {
         "name": "总延期率",
         "type": "scatter",
         "uid": "7959b2ec-c204-11e8-ad45-a81e84e6c740",
         "x": [
          "9-2",
          "9-3"
         ],
         "y": [
          0.03333333333333333,
          0
         ]
        }
       ],
       "layout": {
        "title": "商业项目延期率&个性化项目延期率&总延期率周趋势图",
        "xaxis": {
         "mirror": "all",
         "nticks": 20,
         "showgrid": true,
         "showline": true,
         "title": "周",
         "zeroline": true
        },
        "yaxis": {
         "mirror": "all",
         "nticks": 20,
         "showgrid": true,
         "showline": true,
         "title": "商业项目延期率&个性化项目延期率&总延期率",
         "zeroline": true
        }
       }
      },
      "text/html": [
       "<div id=\"699a491e-4b41-4eee-8d93-24fd5ef1bf38\" style=\"height: 525px; width: 100%;\" class=\"plotly-graph-div\"></div><script type=\"text/javascript\">require([\"plotly\"], function(Plotly) { window.PLOTLYENV=window.PLOTLYENV || {};window.PLOTLYENV.BASE_URL=\"https://plot.ly\";\n",
       "        Plotly.plot(\n",
       "            '699a491e-4b41-4eee-8d93-24fd5ef1bf38',\n",
       "            [{\"name\": \"\\u5546\\u4e1a\\u9879\\u76ee\\u5ef6\\u671f\\u7387\", \"x\": [\"9-2\", \"9-3\"], \"y\": [0.0, 0.0], \"type\": \"scatter\", \"uid\": \"7959aaea-c204-11e8-ad45-a81e84e6c740\"}, {\"name\": \"\\u4e2a\\u6027\\u5316\\u9879\\u76ee\\u5ef6\\u671f\\u7387\", \"x\": [\"9-2\", \"9-3\"], \"y\": [0.0625, 0.0], \"type\": \"scatter\", \"uid\": \"7959afa4-c204-11e8-ad45-a81e84e6c740\"}, {\"name\": \"\\u603b\\u5ef6\\u671f\\u7387\", \"x\": [\"9-2\", \"9-3\"], \"y\": [0.03333333333333333, 0.0], \"type\": \"scatter\", \"uid\": \"7959b2ec-c204-11e8-ad45-a81e84e6c740\"}],\n",
       "            {\"title\": \"\\u5546\\u4e1a\\u9879\\u76ee\\u5ef6\\u671f\\u7387&\\u4e2a\\u6027\\u5316\\u9879\\u76ee\\u5ef6\\u671f\\u7387&\\u603b\\u5ef6\\u671f\\u7387\\u5468\\u8d8b\\u52bf\\u56fe\", \"xaxis\": {\"mirror\": \"all\", \"nticks\": 20, \"showgrid\": true, \"showline\": true, \"title\": \"\\u5468\", \"zeroline\": true}, \"yaxis\": {\"mirror\": \"all\", \"nticks\": 20, \"showgrid\": true, \"showline\": true, \"title\": \"\\u5546\\u4e1a\\u9879\\u76ee\\u5ef6\\u671f\\u7387&\\u4e2a\\u6027\\u5316\\u9879\\u76ee\\u5ef6\\u671f\\u7387&\\u603b\\u5ef6\\u671f\\u7387\", \"zeroline\": true}},\n",
       "            {\"showLink\": true, \"linkText\": \"Export to plot.ly\"}\n",
       "        ).then(function () {return Plotly.addFrames('699a491e-4b41-4eee-8d93-24fd5ef1bf38',{});}).then(function(){Plotly.animate('699a491e-4b41-4eee-8d93-24fd5ef1bf38');})\n",
       "        });</script>"
      ],
      "text/vnd.plotly.v1+html": [
       "<div id=\"699a491e-4b41-4eee-8d93-24fd5ef1bf38\" style=\"height: 525px; width: 100%;\" class=\"plotly-graph-div\"></div><script type=\"text/javascript\">require([\"plotly\"], function(Plotly) { window.PLOTLYENV=window.PLOTLYENV || {};window.PLOTLYENV.BASE_URL=\"https://plot.ly\";\n",
       "        Plotly.plot(\n",
       "            '699a491e-4b41-4eee-8d93-24fd5ef1bf38',\n",
       "            [{\"name\": \"\\u5546\\u4e1a\\u9879\\u76ee\\u5ef6\\u671f\\u7387\", \"x\": [\"9-2\", \"9-3\"], \"y\": [0.0, 0.0], \"type\": \"scatter\", \"uid\": \"7959aaea-c204-11e8-ad45-a81e84e6c740\"}, {\"name\": \"\\u4e2a\\u6027\\u5316\\u9879\\u76ee\\u5ef6\\u671f\\u7387\", \"x\": [\"9-2\", \"9-3\"], \"y\": [0.0625, 0.0], \"type\": \"scatter\", \"uid\": \"7959afa4-c204-11e8-ad45-a81e84e6c740\"}, {\"name\": \"\\u603b\\u5ef6\\u671f\\u7387\", \"x\": [\"9-2\", \"9-3\"], \"y\": [0.03333333333333333, 0.0], \"type\": \"scatter\", \"uid\": \"7959b2ec-c204-11e8-ad45-a81e84e6c740\"}],\n",
       "            {\"title\": \"\\u5546\\u4e1a\\u9879\\u76ee\\u5ef6\\u671f\\u7387&\\u4e2a\\u6027\\u5316\\u9879\\u76ee\\u5ef6\\u671f\\u7387&\\u603b\\u5ef6\\u671f\\u7387\\u5468\\u8d8b\\u52bf\\u56fe\", \"xaxis\": {\"mirror\": \"all\", \"nticks\": 20, \"showgrid\": true, \"showline\": true, \"title\": \"\\u5468\", \"zeroline\": true}, \"yaxis\": {\"mirror\": \"all\", \"nticks\": 20, \"showgrid\": true, \"showline\": true, \"title\": \"\\u5546\\u4e1a\\u9879\\u76ee\\u5ef6\\u671f\\u7387&\\u4e2a\\u6027\\u5316\\u9879\\u76ee\\u5ef6\\u671f\\u7387&\\u603b\\u5ef6\\u671f\\u7387\", \"zeroline\": true}},\n",
       "            {\"showLink\": true, \"linkText\": \"Export to plot.ly\"}\n",
       "        ).then(function () {return Plotly.addFrames('699a491e-4b41-4eee-8d93-24fd5ef1bf38',{});}).then(function(){Plotly.animate('699a491e-4b41-4eee-8d93-24fd5ef1bf38');})\n",
       "        });</script>"
      ]
     },
     "metadata": {},
     "output_type": "display_data"
    },
    {
     "data": {
      "application/vnd.plotly.v1+json": {
       "data": [
        {
         "name": "商业项目延期率",
         "type": "scatter",
         "uid": "796580fe-c204-11e8-ad45-a81e84e6c740",
         "x": [
          "9"
         ],
         "y": [
          0
         ]
        },
        {
         "name": "个性化项目延期率",
         "type": "scatter",
         "uid": "79658770-c204-11e8-ad45-a81e84e6c740",
         "x": [
          "9"
         ],
         "y": [
          0.047619047619047616
         ]
        },
        {
         "name": "总延期率",
         "type": "scatter",
         "uid": "796589c8-c204-11e8-ad45-a81e84e6c740",
         "x": [
          "9"
         ],
         "y": [
          0.0196078431372549
         ]
        }
       ],
       "layout": {
        "title": "商业项目延期率&个性化项目延期率&总延期率月趋势图",
        "xaxis": {
         "mirror": "all",
         "nticks": 20,
         "showgrid": true,
         "showline": true,
         "title": "月",
         "zeroline": true
        },
        "yaxis": {
         "mirror": "all",
         "nticks": 20,
         "showgrid": true,
         "showline": true,
         "title": "商业项目延期率&个性化项目延期率&总延期率",
         "zeroline": true
        }
       }
      },
      "text/html": [
       "<div id=\"ef2ff491-abfd-48c7-a47a-87df0c708fef\" style=\"height: 525px; width: 100%;\" class=\"plotly-graph-div\"></div><script type=\"text/javascript\">require([\"plotly\"], function(Plotly) { window.PLOTLYENV=window.PLOTLYENV || {};window.PLOTLYENV.BASE_URL=\"https://plot.ly\";\n",
       "        Plotly.plot(\n",
       "            'ef2ff491-abfd-48c7-a47a-87df0c708fef',\n",
       "            [{\"name\": \"\\u5546\\u4e1a\\u9879\\u76ee\\u5ef6\\u671f\\u7387\", \"x\": [\"9\"], \"y\": [0.0], \"type\": \"scatter\", \"uid\": \"796580fe-c204-11e8-ad45-a81e84e6c740\"}, {\"name\": \"\\u4e2a\\u6027\\u5316\\u9879\\u76ee\\u5ef6\\u671f\\u7387\", \"x\": [\"9\"], \"y\": [0.047619047619047616], \"type\": \"scatter\", \"uid\": \"79658770-c204-11e8-ad45-a81e84e6c740\"}, {\"name\": \"\\u603b\\u5ef6\\u671f\\u7387\", \"x\": [\"9\"], \"y\": [0.0196078431372549], \"type\": \"scatter\", \"uid\": \"796589c8-c204-11e8-ad45-a81e84e6c740\"}],\n",
       "            {\"title\": \"\\u5546\\u4e1a\\u9879\\u76ee\\u5ef6\\u671f\\u7387&\\u4e2a\\u6027\\u5316\\u9879\\u76ee\\u5ef6\\u671f\\u7387&\\u603b\\u5ef6\\u671f\\u7387\\u6708\\u8d8b\\u52bf\\u56fe\", \"xaxis\": {\"mirror\": \"all\", \"nticks\": 20, \"showgrid\": true, \"showline\": true, \"title\": \"\\u6708\", \"zeroline\": true}, \"yaxis\": {\"mirror\": \"all\", \"nticks\": 20, \"showgrid\": true, \"showline\": true, \"title\": \"\\u5546\\u4e1a\\u9879\\u76ee\\u5ef6\\u671f\\u7387&\\u4e2a\\u6027\\u5316\\u9879\\u76ee\\u5ef6\\u671f\\u7387&\\u603b\\u5ef6\\u671f\\u7387\", \"zeroline\": true}},\n",
       "            {\"showLink\": true, \"linkText\": \"Export to plot.ly\"}\n",
       "        ).then(function () {return Plotly.addFrames('ef2ff491-abfd-48c7-a47a-87df0c708fef',{});}).then(function(){Plotly.animate('ef2ff491-abfd-48c7-a47a-87df0c708fef');})\n",
       "        });</script>"
      ],
      "text/vnd.plotly.v1+html": [
       "<div id=\"ef2ff491-abfd-48c7-a47a-87df0c708fef\" style=\"height: 525px; width: 100%;\" class=\"plotly-graph-div\"></div><script type=\"text/javascript\">require([\"plotly\"], function(Plotly) { window.PLOTLYENV=window.PLOTLYENV || {};window.PLOTLYENV.BASE_URL=\"https://plot.ly\";\n",
       "        Plotly.plot(\n",
       "            'ef2ff491-abfd-48c7-a47a-87df0c708fef',\n",
       "            [{\"name\": \"\\u5546\\u4e1a\\u9879\\u76ee\\u5ef6\\u671f\\u7387\", \"x\": [\"9\"], \"y\": [0.0], \"type\": \"scatter\", \"uid\": \"796580fe-c204-11e8-ad45-a81e84e6c740\"}, {\"name\": \"\\u4e2a\\u6027\\u5316\\u9879\\u76ee\\u5ef6\\u671f\\u7387\", \"x\": [\"9\"], \"y\": [0.047619047619047616], \"type\": \"scatter\", \"uid\": \"79658770-c204-11e8-ad45-a81e84e6c740\"}, {\"name\": \"\\u603b\\u5ef6\\u671f\\u7387\", \"x\": [\"9\"], \"y\": [0.0196078431372549], \"type\": \"scatter\", \"uid\": \"796589c8-c204-11e8-ad45-a81e84e6c740\"}],\n",
       "            {\"title\": \"\\u5546\\u4e1a\\u9879\\u76ee\\u5ef6\\u671f\\u7387&\\u4e2a\\u6027\\u5316\\u9879\\u76ee\\u5ef6\\u671f\\u7387&\\u603b\\u5ef6\\u671f\\u7387\\u6708\\u8d8b\\u52bf\\u56fe\", \"xaxis\": {\"mirror\": \"all\", \"nticks\": 20, \"showgrid\": true, \"showline\": true, \"title\": \"\\u6708\", \"zeroline\": true}, \"yaxis\": {\"mirror\": \"all\", \"nticks\": 20, \"showgrid\": true, \"showline\": true, \"title\": \"\\u5546\\u4e1a\\u9879\\u76ee\\u5ef6\\u671f\\u7387&\\u4e2a\\u6027\\u5316\\u9879\\u76ee\\u5ef6\\u671f\\u7387&\\u603b\\u5ef6\\u671f\\u7387\", \"zeroline\": true}},\n",
       "            {\"showLink\": true, \"linkText\": \"Export to plot.ly\"}\n",
       "        ).then(function () {return Plotly.addFrames('ef2ff491-abfd-48c7-a47a-87df0c708fef',{});}).then(function(){Plotly.animate('ef2ff491-abfd-48c7-a47a-87df0c708fef');})\n",
       "        });</script>"
      ]
     },
     "metadata": {},
     "output_type": "display_data"
    }
   ],
   "source": [
    "data_dict = {'商业项目延期率':['延期商业项目数', '总商业项目数'], '个性化项目延期率':['延期个性化项目数', '总个性化数'],'总延期率':['总延期项目数', '总项目数']}\n",
    "myModule.plot( all_dict_2, data_dict, '负责人' ,  'line' , all='all')"
   ]
  },
  {
   "cell_type": "markdown",
   "metadata": {},
   "source": [
    "### 反馈延期率"
   ]
  },
  {
   "cell_type": "code",
   "execution_count": 30,
   "metadata": {},
   "outputs": [
    {
     "data": {
      "application/vnd.plotly.v1+json": {
       "data": [
        {
         "name": "数据反馈延期率",
         "type": "scatter",
         "uid": "798abca2-c204-11e8-ad45-a81e84e6c740",
         "x": [
          "9-2",
          "9-3"
         ],
         "y": [
          0.029411764705882353,
          0
         ]
        },
        {
         "name": "个性化反馈延期率",
         "type": "scatter",
         "uid": "798ac026-c204-11e8-ad45-a81e84e6c740",
         "x": [
          "9-2",
          "9-3"
         ],
         "y": [
          0.1,
          0
         ]
        }
       ],
       "layout": {
        "title": "数据反馈延期率&个性化反馈延期率周趋势图",
        "xaxis": {
         "mirror": "all",
         "nticks": 20,
         "showgrid": true,
         "showline": true,
         "title": "周",
         "zeroline": true
        },
        "yaxis": {
         "mirror": "all",
         "nticks": 20,
         "showgrid": true,
         "showline": true,
         "title": "数据反馈延期率&个性化反馈延期率",
         "zeroline": true
        }
       }
      },
      "text/html": [
       "<div id=\"f6f7d431-2af8-4fc8-b4f8-9ce869eb83ae\" style=\"height: 525px; width: 100%;\" class=\"plotly-graph-div\"></div><script type=\"text/javascript\">require([\"plotly\"], function(Plotly) { window.PLOTLYENV=window.PLOTLYENV || {};window.PLOTLYENV.BASE_URL=\"https://plot.ly\";\n",
       "        Plotly.plot(\n",
       "            'f6f7d431-2af8-4fc8-b4f8-9ce869eb83ae',\n",
       "            [{\"name\": \"\\u6570\\u636e\\u53cd\\u9988\\u5ef6\\u671f\\u7387\", \"x\": [\"9-2\", \"9-3\"], \"y\": [0.029411764705882353, 0.0], \"type\": \"scatter\", \"uid\": \"798abca2-c204-11e8-ad45-a81e84e6c740\"}, {\"name\": \"\\u4e2a\\u6027\\u5316\\u53cd\\u9988\\u5ef6\\u671f\\u7387\", \"x\": [\"9-2\", \"9-3\"], \"y\": [0.1, 0.0], \"type\": \"scatter\", \"uid\": \"798ac026-c204-11e8-ad45-a81e84e6c740\"}],\n",
       "            {\"title\": \"\\u6570\\u636e\\u53cd\\u9988\\u5ef6\\u671f\\u7387&\\u4e2a\\u6027\\u5316\\u53cd\\u9988\\u5ef6\\u671f\\u7387\\u5468\\u8d8b\\u52bf\\u56fe\", \"xaxis\": {\"mirror\": \"all\", \"nticks\": 20, \"showgrid\": true, \"showline\": true, \"title\": \"\\u5468\", \"zeroline\": true}, \"yaxis\": {\"mirror\": \"all\", \"nticks\": 20, \"showgrid\": true, \"showline\": true, \"title\": \"\\u6570\\u636e\\u53cd\\u9988\\u5ef6\\u671f\\u7387&\\u4e2a\\u6027\\u5316\\u53cd\\u9988\\u5ef6\\u671f\\u7387\", \"zeroline\": true}},\n",
       "            {\"showLink\": true, \"linkText\": \"Export to plot.ly\"}\n",
       "        ).then(function () {return Plotly.addFrames('f6f7d431-2af8-4fc8-b4f8-9ce869eb83ae',{});}).then(function(){Plotly.animate('f6f7d431-2af8-4fc8-b4f8-9ce869eb83ae');})\n",
       "        });</script>"
      ],
      "text/vnd.plotly.v1+html": [
       "<div id=\"f6f7d431-2af8-4fc8-b4f8-9ce869eb83ae\" style=\"height: 525px; width: 100%;\" class=\"plotly-graph-div\"></div><script type=\"text/javascript\">require([\"plotly\"], function(Plotly) { window.PLOTLYENV=window.PLOTLYENV || {};window.PLOTLYENV.BASE_URL=\"https://plot.ly\";\n",
       "        Plotly.plot(\n",
       "            'f6f7d431-2af8-4fc8-b4f8-9ce869eb83ae',\n",
       "            [{\"name\": \"\\u6570\\u636e\\u53cd\\u9988\\u5ef6\\u671f\\u7387\", \"x\": [\"9-2\", \"9-3\"], \"y\": [0.029411764705882353, 0.0], \"type\": \"scatter\", \"uid\": \"798abca2-c204-11e8-ad45-a81e84e6c740\"}, {\"name\": \"\\u4e2a\\u6027\\u5316\\u53cd\\u9988\\u5ef6\\u671f\\u7387\", \"x\": [\"9-2\", \"9-3\"], \"y\": [0.1, 0.0], \"type\": \"scatter\", \"uid\": \"798ac026-c204-11e8-ad45-a81e84e6c740\"}],\n",
       "            {\"title\": \"\\u6570\\u636e\\u53cd\\u9988\\u5ef6\\u671f\\u7387&\\u4e2a\\u6027\\u5316\\u53cd\\u9988\\u5ef6\\u671f\\u7387\\u5468\\u8d8b\\u52bf\\u56fe\", \"xaxis\": {\"mirror\": \"all\", \"nticks\": 20, \"showgrid\": true, \"showline\": true, \"title\": \"\\u5468\", \"zeroline\": true}, \"yaxis\": {\"mirror\": \"all\", \"nticks\": 20, \"showgrid\": true, \"showline\": true, \"title\": \"\\u6570\\u636e\\u53cd\\u9988\\u5ef6\\u671f\\u7387&\\u4e2a\\u6027\\u5316\\u53cd\\u9988\\u5ef6\\u671f\\u7387\", \"zeroline\": true}},\n",
       "            {\"showLink\": true, \"linkText\": \"Export to plot.ly\"}\n",
       "        ).then(function () {return Plotly.addFrames('f6f7d431-2af8-4fc8-b4f8-9ce869eb83ae',{});}).then(function(){Plotly.animate('f6f7d431-2af8-4fc8-b4f8-9ce869eb83ae');})\n",
       "        });</script>"
      ]
     },
     "metadata": {},
     "output_type": "display_data"
    },
    {
     "data": {
      "application/vnd.plotly.v1+json": {
       "data": [
        {
         "name": "数据反馈延期率",
         "type": "scatter",
         "uid": "79958c22-c204-11e8-ad45-a81e84e6c740",
         "x": [
          "9"
         ],
         "y": [
          0.022222222222222223
         ]
        },
        {
         "name": "个性化反馈延期率",
         "type": "scatter",
         "uid": "79959ea6-c204-11e8-ad45-a81e84e6c740",
         "x": [
          "9"
         ],
         "y": [
          0.06666666666666667
         ]
        }
       ],
       "layout": {
        "title": "数据反馈延期率&个性化反馈延期率月趋势图",
        "xaxis": {
         "mirror": "all",
         "nticks": 20,
         "showgrid": true,
         "showline": true,
         "title": "月",
         "zeroline": true
        },
        "yaxis": {
         "mirror": "all",
         "nticks": 20,
         "showgrid": true,
         "showline": true,
         "title": "数据反馈延期率&个性化反馈延期率",
         "zeroline": true
        }
       }
      },
      "text/html": [
       "<div id=\"87b72d08-13a7-44b7-8eeb-4f9c9d5c901f\" style=\"height: 525px; width: 100%;\" class=\"plotly-graph-div\"></div><script type=\"text/javascript\">require([\"plotly\"], function(Plotly) { window.PLOTLYENV=window.PLOTLYENV || {};window.PLOTLYENV.BASE_URL=\"https://plot.ly\";\n",
       "        Plotly.plot(\n",
       "            '87b72d08-13a7-44b7-8eeb-4f9c9d5c901f',\n",
       "            [{\"name\": \"\\u6570\\u636e\\u53cd\\u9988\\u5ef6\\u671f\\u7387\", \"x\": [\"9\"], \"y\": [0.022222222222222223], \"type\": \"scatter\", \"uid\": \"79958c22-c204-11e8-ad45-a81e84e6c740\"}, {\"name\": \"\\u4e2a\\u6027\\u5316\\u53cd\\u9988\\u5ef6\\u671f\\u7387\", \"x\": [\"9\"], \"y\": [0.06666666666666667], \"type\": \"scatter\", \"uid\": \"79959ea6-c204-11e8-ad45-a81e84e6c740\"}],\n",
       "            {\"title\": \"\\u6570\\u636e\\u53cd\\u9988\\u5ef6\\u671f\\u7387&\\u4e2a\\u6027\\u5316\\u53cd\\u9988\\u5ef6\\u671f\\u7387\\u6708\\u8d8b\\u52bf\\u56fe\", \"xaxis\": {\"mirror\": \"all\", \"nticks\": 20, \"showgrid\": true, \"showline\": true, \"title\": \"\\u6708\", \"zeroline\": true}, \"yaxis\": {\"mirror\": \"all\", \"nticks\": 20, \"showgrid\": true, \"showline\": true, \"title\": \"\\u6570\\u636e\\u53cd\\u9988\\u5ef6\\u671f\\u7387&\\u4e2a\\u6027\\u5316\\u53cd\\u9988\\u5ef6\\u671f\\u7387\", \"zeroline\": true}},\n",
       "            {\"showLink\": true, \"linkText\": \"Export to plot.ly\"}\n",
       "        ).then(function () {return Plotly.addFrames('87b72d08-13a7-44b7-8eeb-4f9c9d5c901f',{});}).then(function(){Plotly.animate('87b72d08-13a7-44b7-8eeb-4f9c9d5c901f');})\n",
       "        });</script>"
      ],
      "text/vnd.plotly.v1+html": [
       "<div id=\"87b72d08-13a7-44b7-8eeb-4f9c9d5c901f\" style=\"height: 525px; width: 100%;\" class=\"plotly-graph-div\"></div><script type=\"text/javascript\">require([\"plotly\"], function(Plotly) { window.PLOTLYENV=window.PLOTLYENV || {};window.PLOTLYENV.BASE_URL=\"https://plot.ly\";\n",
       "        Plotly.plot(\n",
       "            '87b72d08-13a7-44b7-8eeb-4f9c9d5c901f',\n",
       "            [{\"name\": \"\\u6570\\u636e\\u53cd\\u9988\\u5ef6\\u671f\\u7387\", \"x\": [\"9\"], \"y\": [0.022222222222222223], \"type\": \"scatter\", \"uid\": \"79958c22-c204-11e8-ad45-a81e84e6c740\"}, {\"name\": \"\\u4e2a\\u6027\\u5316\\u53cd\\u9988\\u5ef6\\u671f\\u7387\", \"x\": [\"9\"], \"y\": [0.06666666666666667], \"type\": \"scatter\", \"uid\": \"79959ea6-c204-11e8-ad45-a81e84e6c740\"}],\n",
       "            {\"title\": \"\\u6570\\u636e\\u53cd\\u9988\\u5ef6\\u671f\\u7387&\\u4e2a\\u6027\\u5316\\u53cd\\u9988\\u5ef6\\u671f\\u7387\\u6708\\u8d8b\\u52bf\\u56fe\", \"xaxis\": {\"mirror\": \"all\", \"nticks\": 20, \"showgrid\": true, \"showline\": true, \"title\": \"\\u6708\", \"zeroline\": true}, \"yaxis\": {\"mirror\": \"all\", \"nticks\": 20, \"showgrid\": true, \"showline\": true, \"title\": \"\\u6570\\u636e\\u53cd\\u9988\\u5ef6\\u671f\\u7387&\\u4e2a\\u6027\\u5316\\u53cd\\u9988\\u5ef6\\u671f\\u7387\", \"zeroline\": true}},\n",
       "            {\"showLink\": true, \"linkText\": \"Export to plot.ly\"}\n",
       "        ).then(function () {return Plotly.addFrames('87b72d08-13a7-44b7-8eeb-4f9c9d5c901f',{});}).then(function(){Plotly.animate('87b72d08-13a7-44b7-8eeb-4f9c9d5c901f');})\n",
       "        });</script>"
      ]
     },
     "metadata": {},
     "output_type": "display_data"
    }
   ],
   "source": [
    "data_dict = {'数据反馈延期率':['24h内未完成数据反馈项目数', '下机项目数'], '个性化反馈延期率':['反馈延期个性化数', '接入个性化数']}\n",
    "myModule.plot( all_dict_2, data_dict, '负责人' ,  'line' , all='all')"
   ]
  },
  {
   "cell_type": "markdown",
   "metadata": {},
   "source": [
    "### 交付延期率"
   ]
  },
  {
   "cell_type": "code",
   "execution_count": 31,
   "metadata": {},
   "outputs": [
    {
     "data": {
      "application/vnd.plotly.v1+json": {
       "data": [
        {
         "name": "交付延期率",
         "type": "scatter",
         "uid": "79b9f396-c204-11e8-ad45-a81e84e6c740",
         "x": [
          "9-2",
          "9-3"
         ],
         "y": [
          0,
          0
         ]
        }
       ],
       "layout": {
        "title": "交付延期率周趋势图",
        "xaxis": {
         "mirror": "all",
         "nticks": 20,
         "showgrid": true,
         "showline": true,
         "title": "周",
         "zeroline": true
        },
        "yaxis": {
         "mirror": "all",
         "nticks": 20,
         "showgrid": true,
         "showline": true,
         "title": "交付延期率",
         "zeroline": true
        }
       }
      },
      "text/html": [
       "<div id=\"5bdb4ad1-9781-4f90-a55b-176c1f525930\" style=\"height: 525px; width: 100%;\" class=\"plotly-graph-div\"></div><script type=\"text/javascript\">require([\"plotly\"], function(Plotly) { window.PLOTLYENV=window.PLOTLYENV || {};window.PLOTLYENV.BASE_URL=\"https://plot.ly\";\n",
       "        Plotly.plot(\n",
       "            '5bdb4ad1-9781-4f90-a55b-176c1f525930',\n",
       "            [{\"name\": \"\\u4ea4\\u4ed8\\u5ef6\\u671f\\u7387\", \"x\": [\"9-2\", \"9-3\"], \"y\": [0.0, 0.0], \"type\": \"scatter\", \"uid\": \"79b9f396-c204-11e8-ad45-a81e84e6c740\"}],\n",
       "            {\"title\": \"\\u4ea4\\u4ed8\\u5ef6\\u671f\\u7387\\u5468\\u8d8b\\u52bf\\u56fe\", \"xaxis\": {\"mirror\": \"all\", \"nticks\": 20, \"showgrid\": true, \"showline\": true, \"title\": \"\\u5468\", \"zeroline\": true}, \"yaxis\": {\"mirror\": \"all\", \"nticks\": 20, \"showgrid\": true, \"showline\": true, \"title\": \"\\u4ea4\\u4ed8\\u5ef6\\u671f\\u7387\", \"zeroline\": true}},\n",
       "            {\"showLink\": true, \"linkText\": \"Export to plot.ly\"}\n",
       "        ).then(function () {return Plotly.addFrames('5bdb4ad1-9781-4f90-a55b-176c1f525930',{});}).then(function(){Plotly.animate('5bdb4ad1-9781-4f90-a55b-176c1f525930');})\n",
       "        });</script>"
      ],
      "text/vnd.plotly.v1+html": [
       "<div id=\"5bdb4ad1-9781-4f90-a55b-176c1f525930\" style=\"height: 525px; width: 100%;\" class=\"plotly-graph-div\"></div><script type=\"text/javascript\">require([\"plotly\"], function(Plotly) { window.PLOTLYENV=window.PLOTLYENV || {};window.PLOTLYENV.BASE_URL=\"https://plot.ly\";\n",
       "        Plotly.plot(\n",
       "            '5bdb4ad1-9781-4f90-a55b-176c1f525930',\n",
       "            [{\"name\": \"\\u4ea4\\u4ed8\\u5ef6\\u671f\\u7387\", \"x\": [\"9-2\", \"9-3\"], \"y\": [0.0, 0.0], \"type\": \"scatter\", \"uid\": \"79b9f396-c204-11e8-ad45-a81e84e6c740\"}],\n",
       "            {\"title\": \"\\u4ea4\\u4ed8\\u5ef6\\u671f\\u7387\\u5468\\u8d8b\\u52bf\\u56fe\", \"xaxis\": {\"mirror\": \"all\", \"nticks\": 20, \"showgrid\": true, \"showline\": true, \"title\": \"\\u5468\", \"zeroline\": true}, \"yaxis\": {\"mirror\": \"all\", \"nticks\": 20, \"showgrid\": true, \"showline\": true, \"title\": \"\\u4ea4\\u4ed8\\u5ef6\\u671f\\u7387\", \"zeroline\": true}},\n",
       "            {\"showLink\": true, \"linkText\": \"Export to plot.ly\"}\n",
       "        ).then(function () {return Plotly.addFrames('5bdb4ad1-9781-4f90-a55b-176c1f525930',{});}).then(function(){Plotly.animate('5bdb4ad1-9781-4f90-a55b-176c1f525930');})\n",
       "        });</script>"
      ]
     },
     "metadata": {},
     "output_type": "display_data"
    },
    {
     "data": {
      "application/vnd.plotly.v1+json": {
       "data": [
        {
         "name": "交付延期率",
         "type": "scatter",
         "uid": "79c36610-c204-11e8-ad45-a81e84e6c740",
         "x": [
          "9"
         ],
         "y": [
          0
         ]
        }
       ],
       "layout": {
        "title": "交付延期率月趋势图",
        "xaxis": {
         "mirror": "all",
         "nticks": 20,
         "showgrid": true,
         "showline": true,
         "title": "月",
         "zeroline": true
        },
        "yaxis": {
         "mirror": "all",
         "nticks": 20,
         "showgrid": true,
         "showline": true,
         "title": "交付延期率",
         "zeroline": true
        }
       }
      },
      "text/html": [
       "<div id=\"1ef8dcd8-6971-4131-9fbb-27fa2834c074\" style=\"height: 525px; width: 100%;\" class=\"plotly-graph-div\"></div><script type=\"text/javascript\">require([\"plotly\"], function(Plotly) { window.PLOTLYENV=window.PLOTLYENV || {};window.PLOTLYENV.BASE_URL=\"https://plot.ly\";\n",
       "        Plotly.plot(\n",
       "            '1ef8dcd8-6971-4131-9fbb-27fa2834c074',\n",
       "            [{\"name\": \"\\u4ea4\\u4ed8\\u5ef6\\u671f\\u7387\", \"x\": [\"9\"], \"y\": [0.0], \"type\": \"scatter\", \"uid\": \"79c36610-c204-11e8-ad45-a81e84e6c740\"}],\n",
       "            {\"title\": \"\\u4ea4\\u4ed8\\u5ef6\\u671f\\u7387\\u6708\\u8d8b\\u52bf\\u56fe\", \"xaxis\": {\"mirror\": \"all\", \"nticks\": 20, \"showgrid\": true, \"showline\": true, \"title\": \"\\u6708\", \"zeroline\": true}, \"yaxis\": {\"mirror\": \"all\", \"nticks\": 20, \"showgrid\": true, \"showline\": true, \"title\": \"\\u4ea4\\u4ed8\\u5ef6\\u671f\\u7387\", \"zeroline\": true}},\n",
       "            {\"showLink\": true, \"linkText\": \"Export to plot.ly\"}\n",
       "        ).then(function () {return Plotly.addFrames('1ef8dcd8-6971-4131-9fbb-27fa2834c074',{});}).then(function(){Plotly.animate('1ef8dcd8-6971-4131-9fbb-27fa2834c074');})\n",
       "        });</script>"
      ],
      "text/vnd.plotly.v1+html": [
       "<div id=\"1ef8dcd8-6971-4131-9fbb-27fa2834c074\" style=\"height: 525px; width: 100%;\" class=\"plotly-graph-div\"></div><script type=\"text/javascript\">require([\"plotly\"], function(Plotly) { window.PLOTLYENV=window.PLOTLYENV || {};window.PLOTLYENV.BASE_URL=\"https://plot.ly\";\n",
       "        Plotly.plot(\n",
       "            '1ef8dcd8-6971-4131-9fbb-27fa2834c074',\n",
       "            [{\"name\": \"\\u4ea4\\u4ed8\\u5ef6\\u671f\\u7387\", \"x\": [\"9\"], \"y\": [0.0], \"type\": \"scatter\", \"uid\": \"79c36610-c204-11e8-ad45-a81e84e6c740\"}],\n",
       "            {\"title\": \"\\u4ea4\\u4ed8\\u5ef6\\u671f\\u7387\\u6708\\u8d8b\\u52bf\\u56fe\", \"xaxis\": {\"mirror\": \"all\", \"nticks\": 20, \"showgrid\": true, \"showline\": true, \"title\": \"\\u6708\", \"zeroline\": true}, \"yaxis\": {\"mirror\": \"all\", \"nticks\": 20, \"showgrid\": true, \"showline\": true, \"title\": \"\\u4ea4\\u4ed8\\u5ef6\\u671f\\u7387\", \"zeroline\": true}},\n",
       "            {\"showLink\": true, \"linkText\": \"Export to plot.ly\"}\n",
       "        ).then(function () {return Plotly.addFrames('1ef8dcd8-6971-4131-9fbb-27fa2834c074',{});}).then(function(){Plotly.animate('1ef8dcd8-6971-4131-9fbb-27fa2834c074');})\n",
       "        });</script>"
      ]
     },
     "metadata": {},
     "output_type": "display_data"
    }
   ],
   "source": [
    "data_dict = {'交付延期率':['24h内未完成数据交付项目数', '待交付项目数']}\n",
    "myModule.plot( all_dict_2, data_dict, '负责人' ,  'line' , all='all')"
   ]
  },
  {
   "cell_type": "markdown",
   "metadata": {
    "hide_input": true
   },
   "source": [
    "## 各组情况"
   ]
  },
  {
   "cell_type": "markdown",
   "metadata": {},
   "source": [
    "### 各组完成商业项目数"
   ]
  },
  {
   "cell_type": "code",
   "execution_count": 32,
   "metadata": {},
   "outputs": [
    {
     "data": {
      "application/vnd.plotly.v1+json": {
       "data": [
        {
         "name": "生物学DNA组_完成商业项目数",
         "type": "scatter",
         "uid": "79f1a354-c204-11e8-ad45-a81e84e6c740",
         "x": [
          "9-2",
          "9-3"
         ],
         "y": [
          13,
          6
         ]
        },
        {
         "name": "生物学DNA组_完成个性化数",
         "type": "scatter",
         "uid": "79f1a7e6-c204-11e8-ad45-a81e84e6c740",
         "x": [
          "9-2",
          "9-3"
         ],
         "y": [
          12,
          2
         ]
        },
        {
         "name": "蛋白和医学组_完成商业项目数",
         "type": "scatter",
         "uid": "79f1aa5c-c204-11e8-ad45-a81e84e6c740",
         "x": [
          "9-2",
          "9-3"
         ],
         "y": [
          1,
          2
         ]
        },
        {
         "name": "蛋白和医学组_完成个性化数",
         "type": "scatter",
         "uid": "79f1ac82-c204-11e8-ad45-a81e84e6c740",
         "x": [
          "9-2",
          "9-3"
         ],
         "y": [
          1,
          2
         ]
        },
        {
         "name": "转录调控组_完成商业项目数",
         "type": "scatter",
         "uid": "79f1ae94-c204-11e8-ad45-a81e84e6c740",
         "x": [
          "9-2",
          "9-3"
         ],
         "y": [
          0,
          0
         ]
        },
        {
         "name": "转录调控组_完成个性化数",
         "type": "scatter",
         "uid": "79f1b09c-c204-11e8-ad45-a81e84e6c740",
         "x": [
          "9-2",
          "9-3"
         ],
         "y": [
          2,
          2
         ]
        }
       ],
       "layout": {
        "title": "完成商业项目数&完成个性化数周趋势图",
        "xaxis": {
         "mirror": "all",
         "nticks": 20,
         "showgrid": true,
         "showline": true,
         "title": "周",
         "zeroline": true
        },
        "yaxis": {
         "mirror": "all",
         "nticks": 20,
         "showgrid": true,
         "showline": true,
         "title": "完成商业项目数&完成个性化数",
         "zeroline": true
        }
       }
      },
      "text/html": [
       "<div id=\"f92c6300-3a2e-4eae-92aa-c69b35fea34f\" style=\"height: 525px; width: 100%;\" class=\"plotly-graph-div\"></div><script type=\"text/javascript\">require([\"plotly\"], function(Plotly) { window.PLOTLYENV=window.PLOTLYENV || {};window.PLOTLYENV.BASE_URL=\"https://plot.ly\";\n",
       "        Plotly.plot(\n",
       "            'f92c6300-3a2e-4eae-92aa-c69b35fea34f',\n",
       "            [{\"name\": \"\\u751f\\u7269\\u5b66DNA\\u7ec4_\\u5b8c\\u6210\\u5546\\u4e1a\\u9879\\u76ee\\u6570\", \"x\": [\"9-2\", \"9-3\"], \"y\": [13.0, 6.0], \"type\": \"scatter\", \"uid\": \"79f1a354-c204-11e8-ad45-a81e84e6c740\"}, {\"name\": \"\\u751f\\u7269\\u5b66DNA\\u7ec4_\\u5b8c\\u6210\\u4e2a\\u6027\\u5316\\u6570\", \"x\": [\"9-2\", \"9-3\"], \"y\": [12.0, 2.0], \"type\": \"scatter\", \"uid\": \"79f1a7e6-c204-11e8-ad45-a81e84e6c740\"}, {\"name\": \"\\u86cb\\u767d\\u548c\\u533b\\u5b66\\u7ec4_\\u5b8c\\u6210\\u5546\\u4e1a\\u9879\\u76ee\\u6570\", \"x\": [\"9-2\", \"9-3\"], \"y\": [1.0, 2.0], \"type\": \"scatter\", \"uid\": \"79f1aa5c-c204-11e8-ad45-a81e84e6c740\"}, {\"name\": \"\\u86cb\\u767d\\u548c\\u533b\\u5b66\\u7ec4_\\u5b8c\\u6210\\u4e2a\\u6027\\u5316\\u6570\", \"x\": [\"9-2\", \"9-3\"], \"y\": [1.0, 2.0], \"type\": \"scatter\", \"uid\": \"79f1ac82-c204-11e8-ad45-a81e84e6c740\"}, {\"name\": \"\\u8f6c\\u5f55\\u8c03\\u63a7\\u7ec4_\\u5b8c\\u6210\\u5546\\u4e1a\\u9879\\u76ee\\u6570\", \"x\": [\"9-2\", \"9-3\"], \"y\": [0.0, 0.0], \"type\": \"scatter\", \"uid\": \"79f1ae94-c204-11e8-ad45-a81e84e6c740\"}, {\"name\": \"\\u8f6c\\u5f55\\u8c03\\u63a7\\u7ec4_\\u5b8c\\u6210\\u4e2a\\u6027\\u5316\\u6570\", \"x\": [\"9-2\", \"9-3\"], \"y\": [2.0, 2.0], \"type\": \"scatter\", \"uid\": \"79f1b09c-c204-11e8-ad45-a81e84e6c740\"}],\n",
       "            {\"title\": \"\\u5b8c\\u6210\\u5546\\u4e1a\\u9879\\u76ee\\u6570&\\u5b8c\\u6210\\u4e2a\\u6027\\u5316\\u6570\\u5468\\u8d8b\\u52bf\\u56fe\", \"xaxis\": {\"mirror\": \"all\", \"nticks\": 20, \"showgrid\": true, \"showline\": true, \"title\": \"\\u5468\", \"zeroline\": true}, \"yaxis\": {\"mirror\": \"all\", \"nticks\": 20, \"showgrid\": true, \"showline\": true, \"title\": \"\\u5b8c\\u6210\\u5546\\u4e1a\\u9879\\u76ee\\u6570&\\u5b8c\\u6210\\u4e2a\\u6027\\u5316\\u6570\", \"zeroline\": true}},\n",
       "            {\"showLink\": true, \"linkText\": \"Export to plot.ly\"}\n",
       "        ).then(function () {return Plotly.addFrames('f92c6300-3a2e-4eae-92aa-c69b35fea34f',{});}).then(function(){Plotly.animate('f92c6300-3a2e-4eae-92aa-c69b35fea34f');})\n",
       "        });</script>"
      ],
      "text/vnd.plotly.v1+html": [
       "<div id=\"f92c6300-3a2e-4eae-92aa-c69b35fea34f\" style=\"height: 525px; width: 100%;\" class=\"plotly-graph-div\"></div><script type=\"text/javascript\">require([\"plotly\"], function(Plotly) { window.PLOTLYENV=window.PLOTLYENV || {};window.PLOTLYENV.BASE_URL=\"https://plot.ly\";\n",
       "        Plotly.plot(\n",
       "            'f92c6300-3a2e-4eae-92aa-c69b35fea34f',\n",
       "            [{\"name\": \"\\u751f\\u7269\\u5b66DNA\\u7ec4_\\u5b8c\\u6210\\u5546\\u4e1a\\u9879\\u76ee\\u6570\", \"x\": [\"9-2\", \"9-3\"], \"y\": [13.0, 6.0], \"type\": \"scatter\", \"uid\": \"79f1a354-c204-11e8-ad45-a81e84e6c740\"}, {\"name\": \"\\u751f\\u7269\\u5b66DNA\\u7ec4_\\u5b8c\\u6210\\u4e2a\\u6027\\u5316\\u6570\", \"x\": [\"9-2\", \"9-3\"], \"y\": [12.0, 2.0], \"type\": \"scatter\", \"uid\": \"79f1a7e6-c204-11e8-ad45-a81e84e6c740\"}, {\"name\": \"\\u86cb\\u767d\\u548c\\u533b\\u5b66\\u7ec4_\\u5b8c\\u6210\\u5546\\u4e1a\\u9879\\u76ee\\u6570\", \"x\": [\"9-2\", \"9-3\"], \"y\": [1.0, 2.0], \"type\": \"scatter\", \"uid\": \"79f1aa5c-c204-11e8-ad45-a81e84e6c740\"}, {\"name\": \"\\u86cb\\u767d\\u548c\\u533b\\u5b66\\u7ec4_\\u5b8c\\u6210\\u4e2a\\u6027\\u5316\\u6570\", \"x\": [\"9-2\", \"9-3\"], \"y\": [1.0, 2.0], \"type\": \"scatter\", \"uid\": \"79f1ac82-c204-11e8-ad45-a81e84e6c740\"}, {\"name\": \"\\u8f6c\\u5f55\\u8c03\\u63a7\\u7ec4_\\u5b8c\\u6210\\u5546\\u4e1a\\u9879\\u76ee\\u6570\", \"x\": [\"9-2\", \"9-3\"], \"y\": [0.0, 0.0], \"type\": \"scatter\", \"uid\": \"79f1ae94-c204-11e8-ad45-a81e84e6c740\"}, {\"name\": \"\\u8f6c\\u5f55\\u8c03\\u63a7\\u7ec4_\\u5b8c\\u6210\\u4e2a\\u6027\\u5316\\u6570\", \"x\": [\"9-2\", \"9-3\"], \"y\": [2.0, 2.0], \"type\": \"scatter\", \"uid\": \"79f1b09c-c204-11e8-ad45-a81e84e6c740\"}],\n",
       "            {\"title\": \"\\u5b8c\\u6210\\u5546\\u4e1a\\u9879\\u76ee\\u6570&\\u5b8c\\u6210\\u4e2a\\u6027\\u5316\\u6570\\u5468\\u8d8b\\u52bf\\u56fe\", \"xaxis\": {\"mirror\": \"all\", \"nticks\": 20, \"showgrid\": true, \"showline\": true, \"title\": \"\\u5468\", \"zeroline\": true}, \"yaxis\": {\"mirror\": \"all\", \"nticks\": 20, \"showgrid\": true, \"showline\": true, \"title\": \"\\u5b8c\\u6210\\u5546\\u4e1a\\u9879\\u76ee\\u6570&\\u5b8c\\u6210\\u4e2a\\u6027\\u5316\\u6570\", \"zeroline\": true}},\n",
       "            {\"showLink\": true, \"linkText\": \"Export to plot.ly\"}\n",
       "        ).then(function () {return Plotly.addFrames('f92c6300-3a2e-4eae-92aa-c69b35fea34f',{});}).then(function(){Plotly.animate('f92c6300-3a2e-4eae-92aa-c69b35fea34f');})\n",
       "        });</script>"
      ]
     },
     "metadata": {},
     "output_type": "display_data"
    },
    {
     "data": {
      "application/vnd.plotly.v1+json": {
       "data": [
        {
         "name": "生物学DNA组_完成商业项目数",
         "type": "scatter",
         "uid": "7a02f866-c204-11e8-ad45-a81e84e6c740",
         "x": [
          "9"
         ],
         "y": [
          19
         ]
        },
        {
         "name": "生物学DNA组_完成个性化数",
         "type": "scatter",
         "uid": "7a02fe74-c204-11e8-ad45-a81e84e6c740",
         "x": [
          "9"
         ],
         "y": [
          14
         ]
        },
        {
         "name": "蛋白和医学组_完成商业项目数",
         "type": "scatter",
         "uid": "7a0300e0-c204-11e8-ad45-a81e84e6c740",
         "x": [
          "9"
         ],
         "y": [
          3
         ]
        },
        {
         "name": "蛋白和医学组_完成个性化数",
         "type": "scatter",
         "uid": "7a0303ec-c204-11e8-ad45-a81e84e6c740",
         "x": [
          "9"
         ],
         "y": [
          3
         ]
        },
        {
         "name": "转录调控组_完成商业项目数",
         "type": "scatter",
         "uid": "7a03091e-c204-11e8-ad45-a81e84e6c740",
         "x": [
          "9"
         ],
         "y": [
          0
         ]
        },
        {
         "name": "转录调控组_完成个性化数",
         "type": "scatter",
         "uid": "7a030cac-c204-11e8-ad45-a81e84e6c740",
         "x": [
          "9"
         ],
         "y": [
          4
         ]
        }
       ],
       "layout": {
        "title": "完成商业项目数&完成个性化数月趋势图",
        "xaxis": {
         "mirror": "all",
         "nticks": 20,
         "showgrid": true,
         "showline": true,
         "title": "月",
         "zeroline": true
        },
        "yaxis": {
         "mirror": "all",
         "nticks": 20,
         "showgrid": true,
         "showline": true,
         "title": "完成商业项目数&完成个性化数",
         "zeroline": true
        }
       }
      },
      "text/html": [
       "<div id=\"bec4a0fe-d04d-4b1d-b9ee-8929a0001b8c\" style=\"height: 525px; width: 100%;\" class=\"plotly-graph-div\"></div><script type=\"text/javascript\">require([\"plotly\"], function(Plotly) { window.PLOTLYENV=window.PLOTLYENV || {};window.PLOTLYENV.BASE_URL=\"https://plot.ly\";\n",
       "        Plotly.plot(\n",
       "            'bec4a0fe-d04d-4b1d-b9ee-8929a0001b8c',\n",
       "            [{\"name\": \"\\u751f\\u7269\\u5b66DNA\\u7ec4_\\u5b8c\\u6210\\u5546\\u4e1a\\u9879\\u76ee\\u6570\", \"x\": [\"9\"], \"y\": [19.0], \"type\": \"scatter\", \"uid\": \"7a02f866-c204-11e8-ad45-a81e84e6c740\"}, {\"name\": \"\\u751f\\u7269\\u5b66DNA\\u7ec4_\\u5b8c\\u6210\\u4e2a\\u6027\\u5316\\u6570\", \"x\": [\"9\"], \"y\": [14.0], \"type\": \"scatter\", \"uid\": \"7a02fe74-c204-11e8-ad45-a81e84e6c740\"}, {\"name\": \"\\u86cb\\u767d\\u548c\\u533b\\u5b66\\u7ec4_\\u5b8c\\u6210\\u5546\\u4e1a\\u9879\\u76ee\\u6570\", \"x\": [\"9\"], \"y\": [3.0], \"type\": \"scatter\", \"uid\": \"7a0300e0-c204-11e8-ad45-a81e84e6c740\"}, {\"name\": \"\\u86cb\\u767d\\u548c\\u533b\\u5b66\\u7ec4_\\u5b8c\\u6210\\u4e2a\\u6027\\u5316\\u6570\", \"x\": [\"9\"], \"y\": [3.0], \"type\": \"scatter\", \"uid\": \"7a0303ec-c204-11e8-ad45-a81e84e6c740\"}, {\"name\": \"\\u8f6c\\u5f55\\u8c03\\u63a7\\u7ec4_\\u5b8c\\u6210\\u5546\\u4e1a\\u9879\\u76ee\\u6570\", \"x\": [\"9\"], \"y\": [0.0], \"type\": \"scatter\", \"uid\": \"7a03091e-c204-11e8-ad45-a81e84e6c740\"}, {\"name\": \"\\u8f6c\\u5f55\\u8c03\\u63a7\\u7ec4_\\u5b8c\\u6210\\u4e2a\\u6027\\u5316\\u6570\", \"x\": [\"9\"], \"y\": [4.0], \"type\": \"scatter\", \"uid\": \"7a030cac-c204-11e8-ad45-a81e84e6c740\"}],\n",
       "            {\"title\": \"\\u5b8c\\u6210\\u5546\\u4e1a\\u9879\\u76ee\\u6570&\\u5b8c\\u6210\\u4e2a\\u6027\\u5316\\u6570\\u6708\\u8d8b\\u52bf\\u56fe\", \"xaxis\": {\"mirror\": \"all\", \"nticks\": 20, \"showgrid\": true, \"showline\": true, \"title\": \"\\u6708\", \"zeroline\": true}, \"yaxis\": {\"mirror\": \"all\", \"nticks\": 20, \"showgrid\": true, \"showline\": true, \"title\": \"\\u5b8c\\u6210\\u5546\\u4e1a\\u9879\\u76ee\\u6570&\\u5b8c\\u6210\\u4e2a\\u6027\\u5316\\u6570\", \"zeroline\": true}},\n",
       "            {\"showLink\": true, \"linkText\": \"Export to plot.ly\"}\n",
       "        ).then(function () {return Plotly.addFrames('bec4a0fe-d04d-4b1d-b9ee-8929a0001b8c',{});}).then(function(){Plotly.animate('bec4a0fe-d04d-4b1d-b9ee-8929a0001b8c');})\n",
       "        });</script>"
      ],
      "text/vnd.plotly.v1+html": [
       "<div id=\"bec4a0fe-d04d-4b1d-b9ee-8929a0001b8c\" style=\"height: 525px; width: 100%;\" class=\"plotly-graph-div\"></div><script type=\"text/javascript\">require([\"plotly\"], function(Plotly) { window.PLOTLYENV=window.PLOTLYENV || {};window.PLOTLYENV.BASE_URL=\"https://plot.ly\";\n",
       "        Plotly.plot(\n",
       "            'bec4a0fe-d04d-4b1d-b9ee-8929a0001b8c',\n",
       "            [{\"name\": \"\\u751f\\u7269\\u5b66DNA\\u7ec4_\\u5b8c\\u6210\\u5546\\u4e1a\\u9879\\u76ee\\u6570\", \"x\": [\"9\"], \"y\": [19.0], \"type\": \"scatter\", \"uid\": \"7a02f866-c204-11e8-ad45-a81e84e6c740\"}, {\"name\": \"\\u751f\\u7269\\u5b66DNA\\u7ec4_\\u5b8c\\u6210\\u4e2a\\u6027\\u5316\\u6570\", \"x\": [\"9\"], \"y\": [14.0], \"type\": \"scatter\", \"uid\": \"7a02fe74-c204-11e8-ad45-a81e84e6c740\"}, {\"name\": \"\\u86cb\\u767d\\u548c\\u533b\\u5b66\\u7ec4_\\u5b8c\\u6210\\u5546\\u4e1a\\u9879\\u76ee\\u6570\", \"x\": [\"9\"], \"y\": [3.0], \"type\": \"scatter\", \"uid\": \"7a0300e0-c204-11e8-ad45-a81e84e6c740\"}, {\"name\": \"\\u86cb\\u767d\\u548c\\u533b\\u5b66\\u7ec4_\\u5b8c\\u6210\\u4e2a\\u6027\\u5316\\u6570\", \"x\": [\"9\"], \"y\": [3.0], \"type\": \"scatter\", \"uid\": \"7a0303ec-c204-11e8-ad45-a81e84e6c740\"}, {\"name\": \"\\u8f6c\\u5f55\\u8c03\\u63a7\\u7ec4_\\u5b8c\\u6210\\u5546\\u4e1a\\u9879\\u76ee\\u6570\", \"x\": [\"9\"], \"y\": [0.0], \"type\": \"scatter\", \"uid\": \"7a03091e-c204-11e8-ad45-a81e84e6c740\"}, {\"name\": \"\\u8f6c\\u5f55\\u8c03\\u63a7\\u7ec4_\\u5b8c\\u6210\\u4e2a\\u6027\\u5316\\u6570\", \"x\": [\"9\"], \"y\": [4.0], \"type\": \"scatter\", \"uid\": \"7a030cac-c204-11e8-ad45-a81e84e6c740\"}],\n",
       "            {\"title\": \"\\u5b8c\\u6210\\u5546\\u4e1a\\u9879\\u76ee\\u6570&\\u5b8c\\u6210\\u4e2a\\u6027\\u5316\\u6570\\u6708\\u8d8b\\u52bf\\u56fe\", \"xaxis\": {\"mirror\": \"all\", \"nticks\": 20, \"showgrid\": true, \"showline\": true, \"title\": \"\\u6708\", \"zeroline\": true}, \"yaxis\": {\"mirror\": \"all\", \"nticks\": 20, \"showgrid\": true, \"showline\": true, \"title\": \"\\u5b8c\\u6210\\u5546\\u4e1a\\u9879\\u76ee\\u6570&\\u5b8c\\u6210\\u4e2a\\u6027\\u5316\\u6570\", \"zeroline\": true}},\n",
       "            {\"showLink\": true, \"linkText\": \"Export to plot.ly\"}\n",
       "        ).then(function () {return Plotly.addFrames('bec4a0fe-d04d-4b1d-b9ee-8929a0001b8c',{});}).then(function(){Plotly.animate('bec4a0fe-d04d-4b1d-b9ee-8929a0001b8c');})\n",
       "        });</script>"
      ]
     },
     "metadata": {},
     "output_type": "display_data"
    }
   ],
   "source": [
    "data_dict = {'完成商业项目数':['完成商业项目数'],'完成个性化数':['完成个性化数']}\n",
    "myModule.plot( all_dict_2, data_dict, '组别','line' , all='group')"
   ]
  },
  {
   "cell_type": "markdown",
   "metadata": {},
   "source": [
    "### 各组延期项目数"
   ]
  },
  {
   "cell_type": "code",
   "execution_count": 33,
   "metadata": {},
   "outputs": [
    {
     "data": {
      "application/vnd.plotly.v1+json": {
       "data": [
        {
         "name": "生物学DNA组_延期商业项目数",
         "type": "scatter",
         "uid": "7a25c986-c204-11e8-ad45-a81e84e6c740",
         "x": [
          "9-2",
          "9-3"
         ],
         "y": [
          0,
          0
         ]
        },
        {
         "name": "生物学DNA组_延期个性化项目数",
         "type": "scatter",
         "uid": "7a25ce36-c204-11e8-ad45-a81e84e6c740",
         "x": [
          "9-2",
          "9-3"
         ],
         "y": [
          0,
          0
         ]
        },
        {
         "name": "蛋白和医学组_延期商业项目数",
         "type": "scatter",
         "uid": "7a25d0b6-c204-11e8-ad45-a81e84e6c740",
         "x": [
          "9-2",
          "9-3"
         ],
         "y": [
          0,
          0
         ]
        },
        {
         "name": "蛋白和医学组_延期个性化项目数",
         "type": "scatter",
         "uid": "7a25d2e6-c204-11e8-ad45-a81e84e6c740",
         "x": [
          "9-2",
          "9-3"
         ],
         "y": [
          0,
          0
         ]
        },
        {
         "name": "转录调控组_延期商业项目数",
         "type": "scatter",
         "uid": "7a25d4ee-c204-11e8-ad45-a81e84e6c740",
         "x": [
          "9-2",
          "9-3"
         ],
         "y": [
          0,
          0
         ]
        },
        {
         "name": "转录调控组_延期个性化项目数",
         "type": "scatter",
         "uid": "7a25d6f6-c204-11e8-ad45-a81e84e6c740",
         "x": [
          "9-2",
          "9-3"
         ],
         "y": [
          1,
          0
         ]
        }
       ],
       "layout": {
        "title": "延期商业项目数&延期个性化项目数周趋势图",
        "xaxis": {
         "mirror": "all",
         "nticks": 20,
         "showgrid": true,
         "showline": true,
         "title": "周",
         "zeroline": true
        },
        "yaxis": {
         "mirror": "all",
         "nticks": 20,
         "showgrid": true,
         "showline": true,
         "title": "延期商业项目数&延期个性化项目数",
         "zeroline": true
        }
       }
      },
      "text/html": [
       "<div id=\"9863586f-d7b7-4d23-80a5-98757dcc83ae\" style=\"height: 525px; width: 100%;\" class=\"plotly-graph-div\"></div><script type=\"text/javascript\">require([\"plotly\"], function(Plotly) { window.PLOTLYENV=window.PLOTLYENV || {};window.PLOTLYENV.BASE_URL=\"https://plot.ly\";\n",
       "        Plotly.plot(\n",
       "            '9863586f-d7b7-4d23-80a5-98757dcc83ae',\n",
       "            [{\"name\": \"\\u751f\\u7269\\u5b66DNA\\u7ec4_\\u5ef6\\u671f\\u5546\\u4e1a\\u9879\\u76ee\\u6570\", \"x\": [\"9-2\", \"9-3\"], \"y\": [0.0, 0.0], \"type\": \"scatter\", \"uid\": \"7a25c986-c204-11e8-ad45-a81e84e6c740\"}, {\"name\": \"\\u751f\\u7269\\u5b66DNA\\u7ec4_\\u5ef6\\u671f\\u4e2a\\u6027\\u5316\\u9879\\u76ee\\u6570\", \"x\": [\"9-2\", \"9-3\"], \"y\": [0.0, 0.0], \"type\": \"scatter\", \"uid\": \"7a25ce36-c204-11e8-ad45-a81e84e6c740\"}, {\"name\": \"\\u86cb\\u767d\\u548c\\u533b\\u5b66\\u7ec4_\\u5ef6\\u671f\\u5546\\u4e1a\\u9879\\u76ee\\u6570\", \"x\": [\"9-2\", \"9-3\"], \"y\": [0.0, 0.0], \"type\": \"scatter\", \"uid\": \"7a25d0b6-c204-11e8-ad45-a81e84e6c740\"}, {\"name\": \"\\u86cb\\u767d\\u548c\\u533b\\u5b66\\u7ec4_\\u5ef6\\u671f\\u4e2a\\u6027\\u5316\\u9879\\u76ee\\u6570\", \"x\": [\"9-2\", \"9-3\"], \"y\": [0.0, 0.0], \"type\": \"scatter\", \"uid\": \"7a25d2e6-c204-11e8-ad45-a81e84e6c740\"}, {\"name\": \"\\u8f6c\\u5f55\\u8c03\\u63a7\\u7ec4_\\u5ef6\\u671f\\u5546\\u4e1a\\u9879\\u76ee\\u6570\", \"x\": [\"9-2\", \"9-3\"], \"y\": [0.0, 0.0], \"type\": \"scatter\", \"uid\": \"7a25d4ee-c204-11e8-ad45-a81e84e6c740\"}, {\"name\": \"\\u8f6c\\u5f55\\u8c03\\u63a7\\u7ec4_\\u5ef6\\u671f\\u4e2a\\u6027\\u5316\\u9879\\u76ee\\u6570\", \"x\": [\"9-2\", \"9-3\"], \"y\": [1.0, 0.0], \"type\": \"scatter\", \"uid\": \"7a25d6f6-c204-11e8-ad45-a81e84e6c740\"}],\n",
       "            {\"title\": \"\\u5ef6\\u671f\\u5546\\u4e1a\\u9879\\u76ee\\u6570&\\u5ef6\\u671f\\u4e2a\\u6027\\u5316\\u9879\\u76ee\\u6570\\u5468\\u8d8b\\u52bf\\u56fe\", \"xaxis\": {\"mirror\": \"all\", \"nticks\": 20, \"showgrid\": true, \"showline\": true, \"title\": \"\\u5468\", \"zeroline\": true}, \"yaxis\": {\"mirror\": \"all\", \"nticks\": 20, \"showgrid\": true, \"showline\": true, \"title\": \"\\u5ef6\\u671f\\u5546\\u4e1a\\u9879\\u76ee\\u6570&\\u5ef6\\u671f\\u4e2a\\u6027\\u5316\\u9879\\u76ee\\u6570\", \"zeroline\": true}},\n",
       "            {\"showLink\": true, \"linkText\": \"Export to plot.ly\"}\n",
       "        ).then(function () {return Plotly.addFrames('9863586f-d7b7-4d23-80a5-98757dcc83ae',{});}).then(function(){Plotly.animate('9863586f-d7b7-4d23-80a5-98757dcc83ae');})\n",
       "        });</script>"
      ],
      "text/vnd.plotly.v1+html": [
       "<div id=\"9863586f-d7b7-4d23-80a5-98757dcc83ae\" style=\"height: 525px; width: 100%;\" class=\"plotly-graph-div\"></div><script type=\"text/javascript\">require([\"plotly\"], function(Plotly) { window.PLOTLYENV=window.PLOTLYENV || {};window.PLOTLYENV.BASE_URL=\"https://plot.ly\";\n",
       "        Plotly.plot(\n",
       "            '9863586f-d7b7-4d23-80a5-98757dcc83ae',\n",
       "            [{\"name\": \"\\u751f\\u7269\\u5b66DNA\\u7ec4_\\u5ef6\\u671f\\u5546\\u4e1a\\u9879\\u76ee\\u6570\", \"x\": [\"9-2\", \"9-3\"], \"y\": [0.0, 0.0], \"type\": \"scatter\", \"uid\": \"7a25c986-c204-11e8-ad45-a81e84e6c740\"}, {\"name\": \"\\u751f\\u7269\\u5b66DNA\\u7ec4_\\u5ef6\\u671f\\u4e2a\\u6027\\u5316\\u9879\\u76ee\\u6570\", \"x\": [\"9-2\", \"9-3\"], \"y\": [0.0, 0.0], \"type\": \"scatter\", \"uid\": \"7a25ce36-c204-11e8-ad45-a81e84e6c740\"}, {\"name\": \"\\u86cb\\u767d\\u548c\\u533b\\u5b66\\u7ec4_\\u5ef6\\u671f\\u5546\\u4e1a\\u9879\\u76ee\\u6570\", \"x\": [\"9-2\", \"9-3\"], \"y\": [0.0, 0.0], \"type\": \"scatter\", \"uid\": \"7a25d0b6-c204-11e8-ad45-a81e84e6c740\"}, {\"name\": \"\\u86cb\\u767d\\u548c\\u533b\\u5b66\\u7ec4_\\u5ef6\\u671f\\u4e2a\\u6027\\u5316\\u9879\\u76ee\\u6570\", \"x\": [\"9-2\", \"9-3\"], \"y\": [0.0, 0.0], \"type\": \"scatter\", \"uid\": \"7a25d2e6-c204-11e8-ad45-a81e84e6c740\"}, {\"name\": \"\\u8f6c\\u5f55\\u8c03\\u63a7\\u7ec4_\\u5ef6\\u671f\\u5546\\u4e1a\\u9879\\u76ee\\u6570\", \"x\": [\"9-2\", \"9-3\"], \"y\": [0.0, 0.0], \"type\": \"scatter\", \"uid\": \"7a25d4ee-c204-11e8-ad45-a81e84e6c740\"}, {\"name\": \"\\u8f6c\\u5f55\\u8c03\\u63a7\\u7ec4_\\u5ef6\\u671f\\u4e2a\\u6027\\u5316\\u9879\\u76ee\\u6570\", \"x\": [\"9-2\", \"9-3\"], \"y\": [1.0, 0.0], \"type\": \"scatter\", \"uid\": \"7a25d6f6-c204-11e8-ad45-a81e84e6c740\"}],\n",
       "            {\"title\": \"\\u5ef6\\u671f\\u5546\\u4e1a\\u9879\\u76ee\\u6570&\\u5ef6\\u671f\\u4e2a\\u6027\\u5316\\u9879\\u76ee\\u6570\\u5468\\u8d8b\\u52bf\\u56fe\", \"xaxis\": {\"mirror\": \"all\", \"nticks\": 20, \"showgrid\": true, \"showline\": true, \"title\": \"\\u5468\", \"zeroline\": true}, \"yaxis\": {\"mirror\": \"all\", \"nticks\": 20, \"showgrid\": true, \"showline\": true, \"title\": \"\\u5ef6\\u671f\\u5546\\u4e1a\\u9879\\u76ee\\u6570&\\u5ef6\\u671f\\u4e2a\\u6027\\u5316\\u9879\\u76ee\\u6570\", \"zeroline\": true}},\n",
       "            {\"showLink\": true, \"linkText\": \"Export to plot.ly\"}\n",
       "        ).then(function () {return Plotly.addFrames('9863586f-d7b7-4d23-80a5-98757dcc83ae',{});}).then(function(){Plotly.animate('9863586f-d7b7-4d23-80a5-98757dcc83ae');})\n",
       "        });</script>"
      ]
     },
     "metadata": {},
     "output_type": "display_data"
    }
   ],
   "source": [
    "new_dict = myModule.select_data(all_dict_2 ,['延期商业项目数','延期个性化项目数'],'组别' )     ## choose colunms and groups \n",
    "tt = myModule.transformat_data(new_dict , 'week'  )  ## week or month ??\n",
    "#[ myModule.get_ratio(tt[i] , '比例' , '24h内未完成数据交付项目数' , '待交付项目数') for i in tt ]  ## caculate ratio \n",
    "myModule.plot_target_items(tt ,['延期商业项目数','延期个性化项目数'], 'line')   ##choose colomn which shows and plot type "
   ]
  },
  {
   "cell_type": "markdown",
   "metadata": {},
   "source": [
    "### 各组反馈延期数"
   ]
  },
  {
   "cell_type": "code",
   "execution_count": 34,
   "metadata": {},
   "outputs": [
    {
     "data": {
      "application/vnd.plotly.v1+json": {
       "data": [
        {
         "name": "生物学DNA组",
         "type": "scatter",
         "uid": "7a437af8-c204-11e8-ad45-a81e84e6c740",
         "x": [
          "9-2",
          "9-3"
         ],
         "y": [
          0,
          0
         ]
        },
        {
         "name": "蛋白和医学组",
         "type": "scatter",
         "uid": "7a437f4e-c204-11e8-ad45-a81e84e6c740",
         "x": [
          "9-2",
          "9-3"
         ],
         "y": [
          0,
          0
         ]
        },
        {
         "name": "转录调控组",
         "type": "scatter",
         "uid": "7a4381a6-c204-11e8-ad45-a81e84e6c740",
         "x": [
          "9-2",
          "9-3"
         ],
         "y": [
          1,
          0
         ]
        }
       ],
       "layout": {
        "title": "反馈延期数",
        "xaxis": {
         "mirror": "all",
         "nticks": 20,
         "showgrid": true,
         "showline": true,
         "title": "周",
         "zeroline": true
        },
        "yaxis": {
         "mirror": "all",
         "nticks": 20,
         "showgrid": true,
         "showline": true,
         "title": "24h内未完成数据反馈项目数",
         "zeroline": true
        }
       }
      },
      "text/html": [
       "<div id=\"e7be2c85-5d88-4738-a354-c889a960135c\" style=\"height: 525px; width: 100%;\" class=\"plotly-graph-div\"></div><script type=\"text/javascript\">require([\"plotly\"], function(Plotly) { window.PLOTLYENV=window.PLOTLYENV || {};window.PLOTLYENV.BASE_URL=\"https://plot.ly\";\n",
       "        Plotly.plot(\n",
       "            'e7be2c85-5d88-4738-a354-c889a960135c',\n",
       "            [{\"name\": \"\\u751f\\u7269\\u5b66DNA\\u7ec4\", \"x\": [\"9-2\", \"9-3\"], \"y\": [0.0, 0.0], \"type\": \"scatter\", \"uid\": \"7a437af8-c204-11e8-ad45-a81e84e6c740\"}, {\"name\": \"\\u86cb\\u767d\\u548c\\u533b\\u5b66\\u7ec4\", \"x\": [\"9-2\", \"9-3\"], \"y\": [0.0, 0.0], \"type\": \"scatter\", \"uid\": \"7a437f4e-c204-11e8-ad45-a81e84e6c740\"}, {\"name\": \"\\u8f6c\\u5f55\\u8c03\\u63a7\\u7ec4\", \"x\": [\"9-2\", \"9-3\"], \"y\": [1.0, 0.0], \"type\": \"scatter\", \"uid\": \"7a4381a6-c204-11e8-ad45-a81e84e6c740\"}],\n",
       "            {\"title\": \"\\u53cd\\u9988\\u5ef6\\u671f\\u6570\", \"xaxis\": {\"mirror\": \"all\", \"nticks\": 20, \"showgrid\": true, \"showline\": true, \"title\": \"\\u5468\", \"zeroline\": true}, \"yaxis\": {\"mirror\": \"all\", \"nticks\": 20, \"showgrid\": true, \"showline\": true, \"title\": \"24h\\u5185\\u672a\\u5b8c\\u6210\\u6570\\u636e\\u53cd\\u9988\\u9879\\u76ee\\u6570\", \"zeroline\": true}},\n",
       "            {\"showLink\": true, \"linkText\": \"Export to plot.ly\"}\n",
       "        ).then(function () {return Plotly.addFrames('e7be2c85-5d88-4738-a354-c889a960135c',{});}).then(function(){Plotly.animate('e7be2c85-5d88-4738-a354-c889a960135c');})\n",
       "        });</script>"
      ],
      "text/vnd.plotly.v1+html": [
       "<div id=\"e7be2c85-5d88-4738-a354-c889a960135c\" style=\"height: 525px; width: 100%;\" class=\"plotly-graph-div\"></div><script type=\"text/javascript\">require([\"plotly\"], function(Plotly) { window.PLOTLYENV=window.PLOTLYENV || {};window.PLOTLYENV.BASE_URL=\"https://plot.ly\";\n",
       "        Plotly.plot(\n",
       "            'e7be2c85-5d88-4738-a354-c889a960135c',\n",
       "            [{\"name\": \"\\u751f\\u7269\\u5b66DNA\\u7ec4\", \"x\": [\"9-2\", \"9-3\"], \"y\": [0.0, 0.0], \"type\": \"scatter\", \"uid\": \"7a437af8-c204-11e8-ad45-a81e84e6c740\"}, {\"name\": \"\\u86cb\\u767d\\u548c\\u533b\\u5b66\\u7ec4\", \"x\": [\"9-2\", \"9-3\"], \"y\": [0.0, 0.0], \"type\": \"scatter\", \"uid\": \"7a437f4e-c204-11e8-ad45-a81e84e6c740\"}, {\"name\": \"\\u8f6c\\u5f55\\u8c03\\u63a7\\u7ec4\", \"x\": [\"9-2\", \"9-3\"], \"y\": [1.0, 0.0], \"type\": \"scatter\", \"uid\": \"7a4381a6-c204-11e8-ad45-a81e84e6c740\"}],\n",
       "            {\"title\": \"\\u53cd\\u9988\\u5ef6\\u671f\\u6570\", \"xaxis\": {\"mirror\": \"all\", \"nticks\": 20, \"showgrid\": true, \"showline\": true, \"title\": \"\\u5468\", \"zeroline\": true}, \"yaxis\": {\"mirror\": \"all\", \"nticks\": 20, \"showgrid\": true, \"showline\": true, \"title\": \"24h\\u5185\\u672a\\u5b8c\\u6210\\u6570\\u636e\\u53cd\\u9988\\u9879\\u76ee\\u6570\", \"zeroline\": true}},\n",
       "            {\"showLink\": true, \"linkText\": \"Export to plot.ly\"}\n",
       "        ).then(function () {return Plotly.addFrames('e7be2c85-5d88-4738-a354-c889a960135c',{});}).then(function(){Plotly.animate('e7be2c85-5d88-4738-a354-c889a960135c');})\n",
       "        });</script>"
      ]
     },
     "metadata": {},
     "output_type": "display_data"
    }
   ],
   "source": [
    "new_dict = myModule.select_data(all_dict_2 ,['24h内未完成数据反馈项目数','反馈延期个性化数'],'组别' )     ## choose colunms and groups \n",
    "tt = myModule.transformat_data(new_dict , 'week'  )  ## week or month ?? \n",
    "myModule.plot_target_items(tt ,['24h内未完成数据反馈项目数'], 'line',fig_title = '反馈延期数') "
   ]
  },
  {
   "cell_type": "markdown",
   "metadata": {},
   "source": [
    "### 各组延期率"
   ]
  },
  {
   "cell_type": "code",
   "execution_count": 35,
   "metadata": {},
   "outputs": [
    {
     "data": {
      "application/vnd.plotly.v1+json": {
       "data": [
        {
         "name": "商业项目延期率",
         "type": "scatter",
         "uid": "7a684db0-c204-11e8-ad45-a81e84e6c740",
         "x": [
          "9-2",
          "9-3"
         ],
         "y": [
          0,
          0
         ]
        },
        {
         "name": "个性化项目延期率",
         "type": "scatter",
         "uid": "7a685332-c204-11e8-ad45-a81e84e6c740",
         "x": [
          "9-2",
          "9-3"
         ],
         "y": [
          0.0625,
          0
         ]
        },
        {
         "name": "总延期率",
         "type": "scatter",
         "uid": "7a685742-c204-11e8-ad45-a81e84e6c740",
         "x": [
          "9-2",
          "9-3"
         ],
         "y": [
          0.03333333333333333,
          0
         ]
        }
       ],
       "layout": {
        "title": "商业项目延期率&个性化项目延期率&总延期率周趋势图",
        "xaxis": {
         "mirror": "all",
         "nticks": 20,
         "showgrid": true,
         "showline": true,
         "title": "周",
         "zeroline": true
        },
        "yaxis": {
         "mirror": "all",
         "nticks": 20,
         "showgrid": true,
         "showline": true,
         "title": "商业项目延期率&个性化项目延期率&总延期率",
         "zeroline": true
        }
       }
      },
      "text/html": [
       "<div id=\"b35f99cd-6042-481c-a673-cdedc6849e18\" style=\"height: 525px; width: 100%;\" class=\"plotly-graph-div\"></div><script type=\"text/javascript\">require([\"plotly\"], function(Plotly) { window.PLOTLYENV=window.PLOTLYENV || {};window.PLOTLYENV.BASE_URL=\"https://plot.ly\";\n",
       "        Plotly.plot(\n",
       "            'b35f99cd-6042-481c-a673-cdedc6849e18',\n",
       "            [{\"name\": \"\\u5546\\u4e1a\\u9879\\u76ee\\u5ef6\\u671f\\u7387\", \"x\": [\"9-2\", \"9-3\"], \"y\": [0.0, 0.0], \"type\": \"scatter\", \"uid\": \"7a684db0-c204-11e8-ad45-a81e84e6c740\"}, {\"name\": \"\\u4e2a\\u6027\\u5316\\u9879\\u76ee\\u5ef6\\u671f\\u7387\", \"x\": [\"9-2\", \"9-3\"], \"y\": [0.0625, 0.0], \"type\": \"scatter\", \"uid\": \"7a685332-c204-11e8-ad45-a81e84e6c740\"}, {\"name\": \"\\u603b\\u5ef6\\u671f\\u7387\", \"x\": [\"9-2\", \"9-3\"], \"y\": [0.03333333333333333, 0.0], \"type\": \"scatter\", \"uid\": \"7a685742-c204-11e8-ad45-a81e84e6c740\"}],\n",
       "            {\"title\": \"\\u5546\\u4e1a\\u9879\\u76ee\\u5ef6\\u671f\\u7387&\\u4e2a\\u6027\\u5316\\u9879\\u76ee\\u5ef6\\u671f\\u7387&\\u603b\\u5ef6\\u671f\\u7387\\u5468\\u8d8b\\u52bf\\u56fe\", \"xaxis\": {\"mirror\": \"all\", \"nticks\": 20, \"showgrid\": true, \"showline\": true, \"title\": \"\\u5468\", \"zeroline\": true}, \"yaxis\": {\"mirror\": \"all\", \"nticks\": 20, \"showgrid\": true, \"showline\": true, \"title\": \"\\u5546\\u4e1a\\u9879\\u76ee\\u5ef6\\u671f\\u7387&\\u4e2a\\u6027\\u5316\\u9879\\u76ee\\u5ef6\\u671f\\u7387&\\u603b\\u5ef6\\u671f\\u7387\", \"zeroline\": true}},\n",
       "            {\"showLink\": true, \"linkText\": \"Export to plot.ly\"}\n",
       "        ).then(function () {return Plotly.addFrames('b35f99cd-6042-481c-a673-cdedc6849e18',{});}).then(function(){Plotly.animate('b35f99cd-6042-481c-a673-cdedc6849e18');})\n",
       "        });</script>"
      ],
      "text/vnd.plotly.v1+html": [
       "<div id=\"b35f99cd-6042-481c-a673-cdedc6849e18\" style=\"height: 525px; width: 100%;\" class=\"plotly-graph-div\"></div><script type=\"text/javascript\">require([\"plotly\"], function(Plotly) { window.PLOTLYENV=window.PLOTLYENV || {};window.PLOTLYENV.BASE_URL=\"https://plot.ly\";\n",
       "        Plotly.plot(\n",
       "            'b35f99cd-6042-481c-a673-cdedc6849e18',\n",
       "            [{\"name\": \"\\u5546\\u4e1a\\u9879\\u76ee\\u5ef6\\u671f\\u7387\", \"x\": [\"9-2\", \"9-3\"], \"y\": [0.0, 0.0], \"type\": \"scatter\", \"uid\": \"7a684db0-c204-11e8-ad45-a81e84e6c740\"}, {\"name\": \"\\u4e2a\\u6027\\u5316\\u9879\\u76ee\\u5ef6\\u671f\\u7387\", \"x\": [\"9-2\", \"9-3\"], \"y\": [0.0625, 0.0], \"type\": \"scatter\", \"uid\": \"7a685332-c204-11e8-ad45-a81e84e6c740\"}, {\"name\": \"\\u603b\\u5ef6\\u671f\\u7387\", \"x\": [\"9-2\", \"9-3\"], \"y\": [0.03333333333333333, 0.0], \"type\": \"scatter\", \"uid\": \"7a685742-c204-11e8-ad45-a81e84e6c740\"}],\n",
       "            {\"title\": \"\\u5546\\u4e1a\\u9879\\u76ee\\u5ef6\\u671f\\u7387&\\u4e2a\\u6027\\u5316\\u9879\\u76ee\\u5ef6\\u671f\\u7387&\\u603b\\u5ef6\\u671f\\u7387\\u5468\\u8d8b\\u52bf\\u56fe\", \"xaxis\": {\"mirror\": \"all\", \"nticks\": 20, \"showgrid\": true, \"showline\": true, \"title\": \"\\u5468\", \"zeroline\": true}, \"yaxis\": {\"mirror\": \"all\", \"nticks\": 20, \"showgrid\": true, \"showline\": true, \"title\": \"\\u5546\\u4e1a\\u9879\\u76ee\\u5ef6\\u671f\\u7387&\\u4e2a\\u6027\\u5316\\u9879\\u76ee\\u5ef6\\u671f\\u7387&\\u603b\\u5ef6\\u671f\\u7387\", \"zeroline\": true}},\n",
       "            {\"showLink\": true, \"linkText\": \"Export to plot.ly\"}\n",
       "        ).then(function () {return Plotly.addFrames('b35f99cd-6042-481c-a673-cdedc6849e18',{});}).then(function(){Plotly.animate('b35f99cd-6042-481c-a673-cdedc6849e18');})\n",
       "        });</script>"
      ]
     },
     "metadata": {},
     "output_type": "display_data"
    },
    {
     "data": {
      "application/vnd.plotly.v1+json": {
       "data": [
        {
         "name": "商业项目延期率",
         "type": "scatter",
         "uid": "7a764e38-c204-11e8-ad45-a81e84e6c740",
         "x": [
          "9"
         ],
         "y": [
          0
         ]
        },
        {
         "name": "个性化项目延期率",
         "type": "scatter",
         "uid": "7a7651c6-c204-11e8-ad45-a81e84e6c740",
         "x": [
          "9"
         ],
         "y": [
          0.047619047619047616
         ]
        },
        {
         "name": "总延期率",
         "type": "scatter",
         "uid": "7a765414-c204-11e8-ad45-a81e84e6c740",
         "x": [
          "9"
         ],
         "y": [
          0.0196078431372549
         ]
        }
       ],
       "layout": {
        "title": "商业项目延期率&个性化项目延期率&总延期率月趋势图",
        "xaxis": {
         "mirror": "all",
         "nticks": 20,
         "showgrid": true,
         "showline": true,
         "title": "月",
         "zeroline": true
        },
        "yaxis": {
         "mirror": "all",
         "nticks": 20,
         "showgrid": true,
         "showline": true,
         "title": "商业项目延期率&个性化项目延期率&总延期率",
         "zeroline": true
        }
       }
      },
      "text/html": [
       "<div id=\"2024c11d-491c-4854-a88b-13144a808194\" style=\"height: 525px; width: 100%;\" class=\"plotly-graph-div\"></div><script type=\"text/javascript\">require([\"plotly\"], function(Plotly) { window.PLOTLYENV=window.PLOTLYENV || {};window.PLOTLYENV.BASE_URL=\"https://plot.ly\";\n",
       "        Plotly.plot(\n",
       "            '2024c11d-491c-4854-a88b-13144a808194',\n",
       "            [{\"name\": \"\\u5546\\u4e1a\\u9879\\u76ee\\u5ef6\\u671f\\u7387\", \"x\": [\"9\"], \"y\": [0.0], \"type\": \"scatter\", \"uid\": \"7a764e38-c204-11e8-ad45-a81e84e6c740\"}, {\"name\": \"\\u4e2a\\u6027\\u5316\\u9879\\u76ee\\u5ef6\\u671f\\u7387\", \"x\": [\"9\"], \"y\": [0.047619047619047616], \"type\": \"scatter\", \"uid\": \"7a7651c6-c204-11e8-ad45-a81e84e6c740\"}, {\"name\": \"\\u603b\\u5ef6\\u671f\\u7387\", \"x\": [\"9\"], \"y\": [0.0196078431372549], \"type\": \"scatter\", \"uid\": \"7a765414-c204-11e8-ad45-a81e84e6c740\"}],\n",
       "            {\"title\": \"\\u5546\\u4e1a\\u9879\\u76ee\\u5ef6\\u671f\\u7387&\\u4e2a\\u6027\\u5316\\u9879\\u76ee\\u5ef6\\u671f\\u7387&\\u603b\\u5ef6\\u671f\\u7387\\u6708\\u8d8b\\u52bf\\u56fe\", \"xaxis\": {\"mirror\": \"all\", \"nticks\": 20, \"showgrid\": true, \"showline\": true, \"title\": \"\\u6708\", \"zeroline\": true}, \"yaxis\": {\"mirror\": \"all\", \"nticks\": 20, \"showgrid\": true, \"showline\": true, \"title\": \"\\u5546\\u4e1a\\u9879\\u76ee\\u5ef6\\u671f\\u7387&\\u4e2a\\u6027\\u5316\\u9879\\u76ee\\u5ef6\\u671f\\u7387&\\u603b\\u5ef6\\u671f\\u7387\", \"zeroline\": true}},\n",
       "            {\"showLink\": true, \"linkText\": \"Export to plot.ly\"}\n",
       "        ).then(function () {return Plotly.addFrames('2024c11d-491c-4854-a88b-13144a808194',{});}).then(function(){Plotly.animate('2024c11d-491c-4854-a88b-13144a808194');})\n",
       "        });</script>"
      ],
      "text/vnd.plotly.v1+html": [
       "<div id=\"2024c11d-491c-4854-a88b-13144a808194\" style=\"height: 525px; width: 100%;\" class=\"plotly-graph-div\"></div><script type=\"text/javascript\">require([\"plotly\"], function(Plotly) { window.PLOTLYENV=window.PLOTLYENV || {};window.PLOTLYENV.BASE_URL=\"https://plot.ly\";\n",
       "        Plotly.plot(\n",
       "            '2024c11d-491c-4854-a88b-13144a808194',\n",
       "            [{\"name\": \"\\u5546\\u4e1a\\u9879\\u76ee\\u5ef6\\u671f\\u7387\", \"x\": [\"9\"], \"y\": [0.0], \"type\": \"scatter\", \"uid\": \"7a764e38-c204-11e8-ad45-a81e84e6c740\"}, {\"name\": \"\\u4e2a\\u6027\\u5316\\u9879\\u76ee\\u5ef6\\u671f\\u7387\", \"x\": [\"9\"], \"y\": [0.047619047619047616], \"type\": \"scatter\", \"uid\": \"7a7651c6-c204-11e8-ad45-a81e84e6c740\"}, {\"name\": \"\\u603b\\u5ef6\\u671f\\u7387\", \"x\": [\"9\"], \"y\": [0.0196078431372549], \"type\": \"scatter\", \"uid\": \"7a765414-c204-11e8-ad45-a81e84e6c740\"}],\n",
       "            {\"title\": \"\\u5546\\u4e1a\\u9879\\u76ee\\u5ef6\\u671f\\u7387&\\u4e2a\\u6027\\u5316\\u9879\\u76ee\\u5ef6\\u671f\\u7387&\\u603b\\u5ef6\\u671f\\u7387\\u6708\\u8d8b\\u52bf\\u56fe\", \"xaxis\": {\"mirror\": \"all\", \"nticks\": 20, \"showgrid\": true, \"showline\": true, \"title\": \"\\u6708\", \"zeroline\": true}, \"yaxis\": {\"mirror\": \"all\", \"nticks\": 20, \"showgrid\": true, \"showline\": true, \"title\": \"\\u5546\\u4e1a\\u9879\\u76ee\\u5ef6\\u671f\\u7387&\\u4e2a\\u6027\\u5316\\u9879\\u76ee\\u5ef6\\u671f\\u7387&\\u603b\\u5ef6\\u671f\\u7387\", \"zeroline\": true}},\n",
       "            {\"showLink\": true, \"linkText\": \"Export to plot.ly\"}\n",
       "        ).then(function () {return Plotly.addFrames('2024c11d-491c-4854-a88b-13144a808194',{});}).then(function(){Plotly.animate('2024c11d-491c-4854-a88b-13144a808194');})\n",
       "        });</script>"
      ]
     },
     "metadata": {},
     "output_type": "display_data"
    }
   ],
   "source": [
    "data_dict = {'商业项目延期率':['延期商业项目数', '总商业项目数'], '个性化项目延期率':['延期个性化项目数', '总个性化数'],'总延期率':['总延期项目数', '总项目数']}\n",
    "myModule.plot( all_dict_2, data_dict, '组别' ,  'line' , all='all')"
   ]
  },
  {
   "cell_type": "markdown",
   "metadata": {},
   "source": [
    "### 各组反馈延期率"
   ]
  },
  {
   "cell_type": "code",
   "execution_count": 36,
   "metadata": {},
   "outputs": [
    {
     "data": {
      "application/vnd.plotly.v1+json": {
       "data": [
        {
         "name": "数据反馈延期率",
         "type": "scatter",
         "uid": "7a92a9e8-c204-11e8-ad45-a81e84e6c740",
         "x": [
          "9-2",
          "9-3"
         ],
         "y": [
          0.029411764705882353,
          0
         ]
        },
        {
         "name": "个性化反馈延期率",
         "type": "scatter",
         "uid": "7a92ae48-c204-11e8-ad45-a81e84e6c740",
         "x": [
          "9-2",
          "9-3"
         ],
         "y": [
          0.1,
          0
         ]
        }
       ],
       "layout": {
        "title": "数据反馈延期率&个性化反馈延期率周趋势图",
        "xaxis": {
         "mirror": "all",
         "nticks": 20,
         "showgrid": true,
         "showline": true,
         "title": "周",
         "zeroline": true
        },
        "yaxis": {
         "mirror": "all",
         "nticks": 20,
         "showgrid": true,
         "showline": true,
         "title": "数据反馈延期率&个性化反馈延期率",
         "zeroline": true
        }
       }
      },
      "text/html": [
       "<div id=\"91589334-d1bc-459d-8ab8-cd84ff646164\" style=\"height: 525px; width: 100%;\" class=\"plotly-graph-div\"></div><script type=\"text/javascript\">require([\"plotly\"], function(Plotly) { window.PLOTLYENV=window.PLOTLYENV || {};window.PLOTLYENV.BASE_URL=\"https://plot.ly\";\n",
       "        Plotly.plot(\n",
       "            '91589334-d1bc-459d-8ab8-cd84ff646164',\n",
       "            [{\"name\": \"\\u6570\\u636e\\u53cd\\u9988\\u5ef6\\u671f\\u7387\", \"x\": [\"9-2\", \"9-3\"], \"y\": [0.029411764705882353, 0.0], \"type\": \"scatter\", \"uid\": \"7a92a9e8-c204-11e8-ad45-a81e84e6c740\"}, {\"name\": \"\\u4e2a\\u6027\\u5316\\u53cd\\u9988\\u5ef6\\u671f\\u7387\", \"x\": [\"9-2\", \"9-3\"], \"y\": [0.1, 0.0], \"type\": \"scatter\", \"uid\": \"7a92ae48-c204-11e8-ad45-a81e84e6c740\"}],\n",
       "            {\"title\": \"\\u6570\\u636e\\u53cd\\u9988\\u5ef6\\u671f\\u7387&\\u4e2a\\u6027\\u5316\\u53cd\\u9988\\u5ef6\\u671f\\u7387\\u5468\\u8d8b\\u52bf\\u56fe\", \"xaxis\": {\"mirror\": \"all\", \"nticks\": 20, \"showgrid\": true, \"showline\": true, \"title\": \"\\u5468\", \"zeroline\": true}, \"yaxis\": {\"mirror\": \"all\", \"nticks\": 20, \"showgrid\": true, \"showline\": true, \"title\": \"\\u6570\\u636e\\u53cd\\u9988\\u5ef6\\u671f\\u7387&\\u4e2a\\u6027\\u5316\\u53cd\\u9988\\u5ef6\\u671f\\u7387\", \"zeroline\": true}},\n",
       "            {\"showLink\": true, \"linkText\": \"Export to plot.ly\"}\n",
       "        ).then(function () {return Plotly.addFrames('91589334-d1bc-459d-8ab8-cd84ff646164',{});}).then(function(){Plotly.animate('91589334-d1bc-459d-8ab8-cd84ff646164');})\n",
       "        });</script>"
      ],
      "text/vnd.plotly.v1+html": [
       "<div id=\"91589334-d1bc-459d-8ab8-cd84ff646164\" style=\"height: 525px; width: 100%;\" class=\"plotly-graph-div\"></div><script type=\"text/javascript\">require([\"plotly\"], function(Plotly) { window.PLOTLYENV=window.PLOTLYENV || {};window.PLOTLYENV.BASE_URL=\"https://plot.ly\";\n",
       "        Plotly.plot(\n",
       "            '91589334-d1bc-459d-8ab8-cd84ff646164',\n",
       "            [{\"name\": \"\\u6570\\u636e\\u53cd\\u9988\\u5ef6\\u671f\\u7387\", \"x\": [\"9-2\", \"9-3\"], \"y\": [0.029411764705882353, 0.0], \"type\": \"scatter\", \"uid\": \"7a92a9e8-c204-11e8-ad45-a81e84e6c740\"}, {\"name\": \"\\u4e2a\\u6027\\u5316\\u53cd\\u9988\\u5ef6\\u671f\\u7387\", \"x\": [\"9-2\", \"9-3\"], \"y\": [0.1, 0.0], \"type\": \"scatter\", \"uid\": \"7a92ae48-c204-11e8-ad45-a81e84e6c740\"}],\n",
       "            {\"title\": \"\\u6570\\u636e\\u53cd\\u9988\\u5ef6\\u671f\\u7387&\\u4e2a\\u6027\\u5316\\u53cd\\u9988\\u5ef6\\u671f\\u7387\\u5468\\u8d8b\\u52bf\\u56fe\", \"xaxis\": {\"mirror\": \"all\", \"nticks\": 20, \"showgrid\": true, \"showline\": true, \"title\": \"\\u5468\", \"zeroline\": true}, \"yaxis\": {\"mirror\": \"all\", \"nticks\": 20, \"showgrid\": true, \"showline\": true, \"title\": \"\\u6570\\u636e\\u53cd\\u9988\\u5ef6\\u671f\\u7387&\\u4e2a\\u6027\\u5316\\u53cd\\u9988\\u5ef6\\u671f\\u7387\", \"zeroline\": true}},\n",
       "            {\"showLink\": true, \"linkText\": \"Export to plot.ly\"}\n",
       "        ).then(function () {return Plotly.addFrames('91589334-d1bc-459d-8ab8-cd84ff646164',{});}).then(function(){Plotly.animate('91589334-d1bc-459d-8ab8-cd84ff646164');})\n",
       "        });</script>"
      ]
     },
     "metadata": {},
     "output_type": "display_data"
    },
    {
     "data": {
      "application/vnd.plotly.v1+json": {
       "data": [
        {
         "name": "数据反馈延期率",
         "type": "scatter",
         "uid": "7a9ddc1e-c204-11e8-ad45-a81e84e6c740",
         "x": [
          "9"
         ],
         "y": [
          0.022222222222222223
         ]
        },
        {
         "name": "个性化反馈延期率",
         "type": "scatter",
         "uid": "7a9de0a6-c204-11e8-ad45-a81e84e6c740",
         "x": [
          "9"
         ],
         "y": [
          0.06666666666666667
         ]
        }
       ],
       "layout": {
        "title": "数据反馈延期率&个性化反馈延期率月趋势图",
        "xaxis": {
         "mirror": "all",
         "nticks": 20,
         "showgrid": true,
         "showline": true,
         "title": "月",
         "zeroline": true
        },
        "yaxis": {
         "mirror": "all",
         "nticks": 20,
         "showgrid": true,
         "showline": true,
         "title": "数据反馈延期率&个性化反馈延期率",
         "zeroline": true
        }
       }
      },
      "text/html": [
       "<div id=\"b31af29c-ffda-4b19-9b59-9e5df26281b4\" style=\"height: 525px; width: 100%;\" class=\"plotly-graph-div\"></div><script type=\"text/javascript\">require([\"plotly\"], function(Plotly) { window.PLOTLYENV=window.PLOTLYENV || {};window.PLOTLYENV.BASE_URL=\"https://plot.ly\";\n",
       "        Plotly.plot(\n",
       "            'b31af29c-ffda-4b19-9b59-9e5df26281b4',\n",
       "            [{\"name\": \"\\u6570\\u636e\\u53cd\\u9988\\u5ef6\\u671f\\u7387\", \"x\": [\"9\"], \"y\": [0.022222222222222223], \"type\": \"scatter\", \"uid\": \"7a9ddc1e-c204-11e8-ad45-a81e84e6c740\"}, {\"name\": \"\\u4e2a\\u6027\\u5316\\u53cd\\u9988\\u5ef6\\u671f\\u7387\", \"x\": [\"9\"], \"y\": [0.06666666666666667], \"type\": \"scatter\", \"uid\": \"7a9de0a6-c204-11e8-ad45-a81e84e6c740\"}],\n",
       "            {\"title\": \"\\u6570\\u636e\\u53cd\\u9988\\u5ef6\\u671f\\u7387&\\u4e2a\\u6027\\u5316\\u53cd\\u9988\\u5ef6\\u671f\\u7387\\u6708\\u8d8b\\u52bf\\u56fe\", \"xaxis\": {\"mirror\": \"all\", \"nticks\": 20, \"showgrid\": true, \"showline\": true, \"title\": \"\\u6708\", \"zeroline\": true}, \"yaxis\": {\"mirror\": \"all\", \"nticks\": 20, \"showgrid\": true, \"showline\": true, \"title\": \"\\u6570\\u636e\\u53cd\\u9988\\u5ef6\\u671f\\u7387&\\u4e2a\\u6027\\u5316\\u53cd\\u9988\\u5ef6\\u671f\\u7387\", \"zeroline\": true}},\n",
       "            {\"showLink\": true, \"linkText\": \"Export to plot.ly\"}\n",
       "        ).then(function () {return Plotly.addFrames('b31af29c-ffda-4b19-9b59-9e5df26281b4',{});}).then(function(){Plotly.animate('b31af29c-ffda-4b19-9b59-9e5df26281b4');})\n",
       "        });</script>"
      ],
      "text/vnd.plotly.v1+html": [
       "<div id=\"b31af29c-ffda-4b19-9b59-9e5df26281b4\" style=\"height: 525px; width: 100%;\" class=\"plotly-graph-div\"></div><script type=\"text/javascript\">require([\"plotly\"], function(Plotly) { window.PLOTLYENV=window.PLOTLYENV || {};window.PLOTLYENV.BASE_URL=\"https://plot.ly\";\n",
       "        Plotly.plot(\n",
       "            'b31af29c-ffda-4b19-9b59-9e5df26281b4',\n",
       "            [{\"name\": \"\\u6570\\u636e\\u53cd\\u9988\\u5ef6\\u671f\\u7387\", \"x\": [\"9\"], \"y\": [0.022222222222222223], \"type\": \"scatter\", \"uid\": \"7a9ddc1e-c204-11e8-ad45-a81e84e6c740\"}, {\"name\": \"\\u4e2a\\u6027\\u5316\\u53cd\\u9988\\u5ef6\\u671f\\u7387\", \"x\": [\"9\"], \"y\": [0.06666666666666667], \"type\": \"scatter\", \"uid\": \"7a9de0a6-c204-11e8-ad45-a81e84e6c740\"}],\n",
       "            {\"title\": \"\\u6570\\u636e\\u53cd\\u9988\\u5ef6\\u671f\\u7387&\\u4e2a\\u6027\\u5316\\u53cd\\u9988\\u5ef6\\u671f\\u7387\\u6708\\u8d8b\\u52bf\\u56fe\", \"xaxis\": {\"mirror\": \"all\", \"nticks\": 20, \"showgrid\": true, \"showline\": true, \"title\": \"\\u6708\", \"zeroline\": true}, \"yaxis\": {\"mirror\": \"all\", \"nticks\": 20, \"showgrid\": true, \"showline\": true, \"title\": \"\\u6570\\u636e\\u53cd\\u9988\\u5ef6\\u671f\\u7387&\\u4e2a\\u6027\\u5316\\u53cd\\u9988\\u5ef6\\u671f\\u7387\", \"zeroline\": true}},\n",
       "            {\"showLink\": true, \"linkText\": \"Export to plot.ly\"}\n",
       "        ).then(function () {return Plotly.addFrames('b31af29c-ffda-4b19-9b59-9e5df26281b4',{});}).then(function(){Plotly.animate('b31af29c-ffda-4b19-9b59-9e5df26281b4');})\n",
       "        });</script>"
      ]
     },
     "metadata": {},
     "output_type": "display_data"
    }
   ],
   "source": [
    "data_dict = {'数据反馈延期率':['24h内未完成数据反馈项目数', '下机项目数'], '个性化反馈延期率':['反馈延期个性化数', '接入个性化数']}\n",
    "myModule.plot( all_dict_2, data_dict, '组别' ,  'line' , all='all')"
   ]
  },
  {
   "cell_type": "markdown",
   "metadata": {},
   "source": [
    "### 各组交付延期率"
   ]
  },
  {
   "cell_type": "code",
   "execution_count": 37,
   "metadata": {},
   "outputs": [
    {
     "data": {
      "application/vnd.plotly.v1+json": {
       "data": [
        {
         "name": "交付延期率",
         "type": "scatter",
         "uid": "7abaa920-c204-11e8-ad45-a81e84e6c740",
         "x": [
          "9-2",
          "9-3"
         ],
         "y": [
          0,
          0
         ]
        }
       ],
       "layout": {
        "title": "交付延期率周趋势图",
        "xaxis": {
         "mirror": "all",
         "nticks": 20,
         "showgrid": true,
         "showline": true,
         "title": "周",
         "zeroline": true
        },
        "yaxis": {
         "mirror": "all",
         "nticks": 20,
         "showgrid": true,
         "showline": true,
         "title": "交付延期率",
         "zeroline": true
        }
       }
      },
      "text/html": [
       "<div id=\"8bb63087-9efd-4e7a-b521-04e7cfef7fa1\" style=\"height: 525px; width: 100%;\" class=\"plotly-graph-div\"></div><script type=\"text/javascript\">require([\"plotly\"], function(Plotly) { window.PLOTLYENV=window.PLOTLYENV || {};window.PLOTLYENV.BASE_URL=\"https://plot.ly\";\n",
       "        Plotly.plot(\n",
       "            '8bb63087-9efd-4e7a-b521-04e7cfef7fa1',\n",
       "            [{\"name\": \"\\u4ea4\\u4ed8\\u5ef6\\u671f\\u7387\", \"x\": [\"9-2\", \"9-3\"], \"y\": [0.0, 0.0], \"type\": \"scatter\", \"uid\": \"7abaa920-c204-11e8-ad45-a81e84e6c740\"}],\n",
       "            {\"title\": \"\\u4ea4\\u4ed8\\u5ef6\\u671f\\u7387\\u5468\\u8d8b\\u52bf\\u56fe\", \"xaxis\": {\"mirror\": \"all\", \"nticks\": 20, \"showgrid\": true, \"showline\": true, \"title\": \"\\u5468\", \"zeroline\": true}, \"yaxis\": {\"mirror\": \"all\", \"nticks\": 20, \"showgrid\": true, \"showline\": true, \"title\": \"\\u4ea4\\u4ed8\\u5ef6\\u671f\\u7387\", \"zeroline\": true}},\n",
       "            {\"showLink\": true, \"linkText\": \"Export to plot.ly\"}\n",
       "        ).then(function () {return Plotly.addFrames('8bb63087-9efd-4e7a-b521-04e7cfef7fa1',{});}).then(function(){Plotly.animate('8bb63087-9efd-4e7a-b521-04e7cfef7fa1');})\n",
       "        });</script>"
      ],
      "text/vnd.plotly.v1+html": [
       "<div id=\"8bb63087-9efd-4e7a-b521-04e7cfef7fa1\" style=\"height: 525px; width: 100%;\" class=\"plotly-graph-div\"></div><script type=\"text/javascript\">require([\"plotly\"], function(Plotly) { window.PLOTLYENV=window.PLOTLYENV || {};window.PLOTLYENV.BASE_URL=\"https://plot.ly\";\n",
       "        Plotly.plot(\n",
       "            '8bb63087-9efd-4e7a-b521-04e7cfef7fa1',\n",
       "            [{\"name\": \"\\u4ea4\\u4ed8\\u5ef6\\u671f\\u7387\", \"x\": [\"9-2\", \"9-3\"], \"y\": [0.0, 0.0], \"type\": \"scatter\", \"uid\": \"7abaa920-c204-11e8-ad45-a81e84e6c740\"}],\n",
       "            {\"title\": \"\\u4ea4\\u4ed8\\u5ef6\\u671f\\u7387\\u5468\\u8d8b\\u52bf\\u56fe\", \"xaxis\": {\"mirror\": \"all\", \"nticks\": 20, \"showgrid\": true, \"showline\": true, \"title\": \"\\u5468\", \"zeroline\": true}, \"yaxis\": {\"mirror\": \"all\", \"nticks\": 20, \"showgrid\": true, \"showline\": true, \"title\": \"\\u4ea4\\u4ed8\\u5ef6\\u671f\\u7387\", \"zeroline\": true}},\n",
       "            {\"showLink\": true, \"linkText\": \"Export to plot.ly\"}\n",
       "        ).then(function () {return Plotly.addFrames('8bb63087-9efd-4e7a-b521-04e7cfef7fa1',{});}).then(function(){Plotly.animate('8bb63087-9efd-4e7a-b521-04e7cfef7fa1');})\n",
       "        });</script>"
      ]
     },
     "metadata": {},
     "output_type": "display_data"
    },
    {
     "data": {
      "application/vnd.plotly.v1+json": {
       "data": [
        {
         "name": "交付延期率",
         "type": "scatter",
         "uid": "7acfe0ba-c204-11e8-ad45-a81e84e6c740",
         "x": [
          "9"
         ],
         "y": [
          0
         ]
        }
       ],
       "layout": {
        "title": "交付延期率月趋势图",
        "xaxis": {
         "mirror": "all",
         "nticks": 20,
         "showgrid": true,
         "showline": true,
         "title": "月",
         "zeroline": true
        },
        "yaxis": {
         "mirror": "all",
         "nticks": 20,
         "showgrid": true,
         "showline": true,
         "title": "交付延期率",
         "zeroline": true
        }
       }
      },
      "text/html": [
       "<div id=\"cdc96b18-ecfa-43e2-9270-923cdb1fba67\" style=\"height: 525px; width: 100%;\" class=\"plotly-graph-div\"></div><script type=\"text/javascript\">require([\"plotly\"], function(Plotly) { window.PLOTLYENV=window.PLOTLYENV || {};window.PLOTLYENV.BASE_URL=\"https://plot.ly\";\n",
       "        Plotly.plot(\n",
       "            'cdc96b18-ecfa-43e2-9270-923cdb1fba67',\n",
       "            [{\"name\": \"\\u4ea4\\u4ed8\\u5ef6\\u671f\\u7387\", \"x\": [\"9\"], \"y\": [0.0], \"type\": \"scatter\", \"uid\": \"7acfe0ba-c204-11e8-ad45-a81e84e6c740\"}],\n",
       "            {\"title\": \"\\u4ea4\\u4ed8\\u5ef6\\u671f\\u7387\\u6708\\u8d8b\\u52bf\\u56fe\", \"xaxis\": {\"mirror\": \"all\", \"nticks\": 20, \"showgrid\": true, \"showline\": true, \"title\": \"\\u6708\", \"zeroline\": true}, \"yaxis\": {\"mirror\": \"all\", \"nticks\": 20, \"showgrid\": true, \"showline\": true, \"title\": \"\\u4ea4\\u4ed8\\u5ef6\\u671f\\u7387\", \"zeroline\": true}},\n",
       "            {\"showLink\": true, \"linkText\": \"Export to plot.ly\"}\n",
       "        ).then(function () {return Plotly.addFrames('cdc96b18-ecfa-43e2-9270-923cdb1fba67',{});}).then(function(){Plotly.animate('cdc96b18-ecfa-43e2-9270-923cdb1fba67');})\n",
       "        });</script>"
      ],
      "text/vnd.plotly.v1+html": [
       "<div id=\"cdc96b18-ecfa-43e2-9270-923cdb1fba67\" style=\"height: 525px; width: 100%;\" class=\"plotly-graph-div\"></div><script type=\"text/javascript\">require([\"plotly\"], function(Plotly) { window.PLOTLYENV=window.PLOTLYENV || {};window.PLOTLYENV.BASE_URL=\"https://plot.ly\";\n",
       "        Plotly.plot(\n",
       "            'cdc96b18-ecfa-43e2-9270-923cdb1fba67',\n",
       "            [{\"name\": \"\\u4ea4\\u4ed8\\u5ef6\\u671f\\u7387\", \"x\": [\"9\"], \"y\": [0.0], \"type\": \"scatter\", \"uid\": \"7acfe0ba-c204-11e8-ad45-a81e84e6c740\"}],\n",
       "            {\"title\": \"\\u4ea4\\u4ed8\\u5ef6\\u671f\\u7387\\u6708\\u8d8b\\u52bf\\u56fe\", \"xaxis\": {\"mirror\": \"all\", \"nticks\": 20, \"showgrid\": true, \"showline\": true, \"title\": \"\\u6708\", \"zeroline\": true}, \"yaxis\": {\"mirror\": \"all\", \"nticks\": 20, \"showgrid\": true, \"showline\": true, \"title\": \"\\u4ea4\\u4ed8\\u5ef6\\u671f\\u7387\", \"zeroline\": true}},\n",
       "            {\"showLink\": true, \"linkText\": \"Export to plot.ly\"}\n",
       "        ).then(function () {return Plotly.addFrames('cdc96b18-ecfa-43e2-9270-923cdb1fba67',{});}).then(function(){Plotly.animate('cdc96b18-ecfa-43e2-9270-923cdb1fba67');})\n",
       "        });</script>"
      ]
     },
     "metadata": {},
     "output_type": "display_data"
    }
   ],
   "source": [
    "data_dict = {'交付延期率':['24h内未完成数据交付项目数', '待交付项目数']}\n",
    "myModule.plot( all_dict_2, data_dict, '组别' ,  'line' , all='all')"
   ]
  },
  {
   "cell_type": "markdown",
   "metadata": {
    "hide_input": true
   },
   "source": [
    "## 个人完成项目统计"
   ]
  },
  {
   "cell_type": "markdown",
   "metadata": {},
   "source": [
    "### 个人完成商业项目数"
   ]
  },
  {
   "cell_type": "code",
   "execution_count": 38,
   "metadata": {},
   "outputs": [
    {
     "data": {
      "application/vnd.plotly.v1+json": {
       "data": [
        {
         "name": "封彦杰_完成商业项目数",
         "type": "scatter",
         "uid": "7b27a80e-c204-11e8-ad45-a81e84e6c740",
         "x": [
          "9-2"
         ],
         "y": [
          0
         ]
        },
        {
         "name": "封彦杰_完成个性化数",
         "type": "scatter",
         "uid": "7b27af3e-c204-11e8-ad45-a81e84e6c740",
         "x": [
          "9-2"
         ],
         "y": [
          0
         ]
        },
        {
         "name": "于慧_完成商业项目数",
         "type": "scatter",
         "uid": "7b27b538-c204-11e8-ad45-a81e84e6c740",
         "x": [
          "9-2",
          "9-3"
         ],
         "y": [
          0,
          1
         ]
        },
        {
         "name": "于慧_完成个性化数",
         "type": "scatter",
         "uid": "7b27bc18-c204-11e8-ad45-a81e84e6c740",
         "x": [
          "9-2",
          "9-3"
         ],
         "y": [
          1,
          1
         ]
        },
        {
         "name": "路慧萍_完成商业项目数",
         "type": "scatter",
         "uid": "7b27c046-c204-11e8-ad45-a81e84e6c740",
         "x": [
          "9-2"
         ],
         "y": [
          1
         ]
        },
        {
         "name": "路慧萍_完成个性化数",
         "type": "scatter",
         "uid": "7b27c410-c204-11e8-ad45-a81e84e6c740",
         "x": [
          "9-2"
         ],
         "y": [
          0
         ]
        },
        {
         "name": "于勇一_完成商业项目数",
         "type": "scatter",
         "uid": "7b27c898-c204-11e8-ad45-a81e84e6c740",
         "x": [
          "9-2",
          "9-3"
         ],
         "y": [
          1,
          5
         ]
        },
        {
         "name": "于勇一_完成个性化数",
         "type": "scatter",
         "uid": "7b27cc3a-c204-11e8-ad45-a81e84e6c740",
         "x": [
          "9-2",
          "9-3"
         ],
         "y": [
          0,
          0
         ]
        },
        {
         "name": "刘江_完成商业项目数",
         "type": "scatter",
         "uid": "7b27cf46-c204-11e8-ad45-a81e84e6c740",
         "x": [
          "9-2",
          "9-3"
         ],
         "y": [
          2,
          0
         ]
        },
        {
         "name": "刘江_完成个性化数",
         "type": "scatter",
         "uid": "7b27d284-c204-11e8-ad45-a81e84e6c740",
         "x": [
          "9-2",
          "9-3"
         ],
         "y": [
          4,
          1
         ]
        },
        {
         "name": "赵玥_完成商业项目数",
         "type": "scatter",
         "uid": "7b27d52c-c204-11e8-ad45-a81e84e6c740",
         "x": [
          "9-2"
         ],
         "y": [
          0
         ]
        },
        {
         "name": "赵玥_完成个性化数",
         "type": "scatter",
         "uid": "7b27d7d4-c204-11e8-ad45-a81e84e6c740",
         "x": [
          "9-2"
         ],
         "y": [
          2
         ]
        },
        {
         "name": "占伟_完成商业项目数",
         "type": "scatter",
         "uid": "7b27da72-c204-11e8-ad45-a81e84e6c740",
         "x": [
          "9-2"
         ],
         "y": [
          6
         ]
        },
        {
         "name": "占伟_完成个性化数",
         "type": "scatter",
         "uid": "7b27dd1a-c204-11e8-ad45-a81e84e6c740",
         "x": [
          "9-2"
         ],
         "y": [
          2
         ]
        },
        {
         "name": "杨伟飞_完成商业项目数",
         "type": "scatter",
         "uid": "7b27df9a-c204-11e8-ad45-a81e84e6c740",
         "x": [
          "9-2",
          "9-3"
         ],
         "y": [
          0,
          1
         ]
        },
        {
         "name": "杨伟飞_完成个性化数",
         "type": "scatter",
         "uid": "7b27e206-c204-11e8-ad45-a81e84e6c740",
         "x": [
          "9-2",
          "9-3"
         ],
         "y": [
          3,
          1
         ]
        },
        {
         "name": "苏彦勋_完成商业项目数",
         "type": "scatter",
         "uid": "7b27e472-c204-11e8-ad45-a81e84e6c740",
         "x": [
          "9-2",
          "9-3"
         ],
         "y": [
          0,
          1
         ]
        },
        {
         "name": "苏彦勋_完成个性化数",
         "type": "scatter",
         "uid": "7b27e6de-c204-11e8-ad45-a81e84e6c740",
         "x": [
          "9-2",
          "9-3"
         ],
         "y": [
          0,
          0
         ]
        },
        {
         "name": "马潇_完成商业项目数",
         "type": "scatter",
         "uid": "7b27e94a-c204-11e8-ad45-a81e84e6c740",
         "x": [
          "9-2"
         ],
         "y": [
          4
         ]
        },
        {
         "name": "马潇_完成个性化数",
         "type": "scatter",
         "uid": "7b27ebb6-c204-11e8-ad45-a81e84e6c740",
         "x": [
          "9-2"
         ],
         "y": [
          3
         ]
        },
        {
         "name": "孟昊_完成商业项目数",
         "type": "scatter",
         "uid": "7b27ee22-c204-11e8-ad45-a81e84e6c740",
         "x": [
          "9-2"
         ],
         "y": [
          0
         ]
        },
        {
         "name": "孟昊_完成个性化数",
         "type": "scatter",
         "uid": "7b27f0ca-c204-11e8-ad45-a81e84e6c740",
         "x": [
          "9-2"
         ],
         "y": [
          0
         ]
        },
        {
         "name": "李庆原_完成商业项目数",
         "type": "scatter",
         "uid": "7b27f34a-c204-11e8-ad45-a81e84e6c740",
         "x": [
          "9-2"
         ],
         "y": [
          0
         ]
        },
        {
         "name": "李庆原_完成个性化数",
         "type": "scatter",
         "uid": "7b27f5b6-c204-11e8-ad45-a81e84e6c740",
         "x": [
          "9-2"
         ],
         "y": [
          0
         ]
        },
        {
         "name": "任雪_完成商业项目数",
         "type": "scatter",
         "uid": "7b27f80e-c204-11e8-ad45-a81e84e6c740",
         "x": [
          "9-2"
         ],
         "y": [
          0
         ]
        },
        {
         "name": "任雪_完成个性化数",
         "type": "scatter",
         "uid": "7b27fa70-c204-11e8-ad45-a81e84e6c740",
         "x": [
          "9-2"
         ],
         "y": [
          0
         ]
        },
        {
         "name": "李华云_完成商业项目数",
         "type": "scatter",
         "uid": "7b27fcdc-c204-11e8-ad45-a81e84e6c740",
         "x": [
          "9-3"
         ],
         "y": [
          0
         ]
        },
        {
         "name": "李华云_完成个性化数",
         "type": "scatter",
         "uid": "7b27ff3e-c204-11e8-ad45-a81e84e6c740",
         "x": [
          "9-3"
         ],
         "y": [
          1
         ]
        },
        {
         "name": "谢德健_完成商业项目数",
         "type": "scatter",
         "uid": "7b2801a0-c204-11e8-ad45-a81e84e6c740",
         "x": [
          "9-3"
         ],
         "y": [
          0
         ]
        },
        {
         "name": "谢德健_完成个性化数",
         "type": "scatter",
         "uid": "7b2803f8-c204-11e8-ad45-a81e84e6c740",
         "x": [
          "9-3"
         ],
         "y": [
          2
         ]
        }
       ],
       "layout": {
        "title": "完成商业项目数&完成个性化数周趋势图",
        "xaxis": {
         "mirror": "all",
         "nticks": 20,
         "showgrid": true,
         "showline": true,
         "title": "周",
         "zeroline": true
        },
        "yaxis": {
         "mirror": "all",
         "nticks": 20,
         "showgrid": true,
         "showline": true,
         "title": "完成商业项目数&完成个性化数",
         "zeroline": true
        }
       }
      },
      "text/html": [
       "<div id=\"80c8c03a-ab70-40a9-9c84-07b7c6549a1b\" style=\"height: 525px; width: 100%;\" class=\"plotly-graph-div\"></div><script type=\"text/javascript\">require([\"plotly\"], function(Plotly) { window.PLOTLYENV=window.PLOTLYENV || {};window.PLOTLYENV.BASE_URL=\"https://plot.ly\";\n",
       "        Plotly.plot(\n",
       "            '80c8c03a-ab70-40a9-9c84-07b7c6549a1b',\n",
       "            [{\"name\": \"\\u5c01\\u5f66\\u6770_\\u5b8c\\u6210\\u5546\\u4e1a\\u9879\\u76ee\\u6570\", \"x\": [\"9-2\"], \"y\": [0.0], \"type\": \"scatter\", \"uid\": \"7b27a80e-c204-11e8-ad45-a81e84e6c740\"}, {\"name\": \"\\u5c01\\u5f66\\u6770_\\u5b8c\\u6210\\u4e2a\\u6027\\u5316\\u6570\", \"x\": [\"9-2\"], \"y\": [0.0], \"type\": \"scatter\", \"uid\": \"7b27af3e-c204-11e8-ad45-a81e84e6c740\"}, {\"name\": \"\\u4e8e\\u6167_\\u5b8c\\u6210\\u5546\\u4e1a\\u9879\\u76ee\\u6570\", \"x\": [\"9-2\", \"9-3\"], \"y\": [0.0, 1.0], \"type\": \"scatter\", \"uid\": \"7b27b538-c204-11e8-ad45-a81e84e6c740\"}, {\"name\": \"\\u4e8e\\u6167_\\u5b8c\\u6210\\u4e2a\\u6027\\u5316\\u6570\", \"x\": [\"9-2\", \"9-3\"], \"y\": [1.0, 1.0], \"type\": \"scatter\", \"uid\": \"7b27bc18-c204-11e8-ad45-a81e84e6c740\"}, {\"name\": \"\\u8def\\u6167\\u840d_\\u5b8c\\u6210\\u5546\\u4e1a\\u9879\\u76ee\\u6570\", \"x\": [\"9-2\"], \"y\": [1.0], \"type\": \"scatter\", \"uid\": \"7b27c046-c204-11e8-ad45-a81e84e6c740\"}, {\"name\": \"\\u8def\\u6167\\u840d_\\u5b8c\\u6210\\u4e2a\\u6027\\u5316\\u6570\", \"x\": [\"9-2\"], \"y\": [0.0], \"type\": \"scatter\", \"uid\": \"7b27c410-c204-11e8-ad45-a81e84e6c740\"}, {\"name\": \"\\u4e8e\\u52c7\\u4e00_\\u5b8c\\u6210\\u5546\\u4e1a\\u9879\\u76ee\\u6570\", \"x\": [\"9-2\", \"9-3\"], \"y\": [1.0, 5.0], \"type\": \"scatter\", \"uid\": \"7b27c898-c204-11e8-ad45-a81e84e6c740\"}, {\"name\": \"\\u4e8e\\u52c7\\u4e00_\\u5b8c\\u6210\\u4e2a\\u6027\\u5316\\u6570\", \"x\": [\"9-2\", \"9-3\"], \"y\": [0.0, 0.0], \"type\": \"scatter\", \"uid\": \"7b27cc3a-c204-11e8-ad45-a81e84e6c740\"}, {\"name\": \"\\u5218\\u6c5f_\\u5b8c\\u6210\\u5546\\u4e1a\\u9879\\u76ee\\u6570\", \"x\": [\"9-2\", \"9-3\"], \"y\": [2.0, 0.0], \"type\": \"scatter\", \"uid\": \"7b27cf46-c204-11e8-ad45-a81e84e6c740\"}, {\"name\": \"\\u5218\\u6c5f_\\u5b8c\\u6210\\u4e2a\\u6027\\u5316\\u6570\", \"x\": [\"9-2\", \"9-3\"], \"y\": [4.0, 1.0], \"type\": \"scatter\", \"uid\": \"7b27d284-c204-11e8-ad45-a81e84e6c740\"}, {\"name\": \"\\u8d75\\u73a5_\\u5b8c\\u6210\\u5546\\u4e1a\\u9879\\u76ee\\u6570\", \"x\": [\"9-2\"], \"y\": [0.0], \"type\": \"scatter\", \"uid\": \"7b27d52c-c204-11e8-ad45-a81e84e6c740\"}, {\"name\": \"\\u8d75\\u73a5_\\u5b8c\\u6210\\u4e2a\\u6027\\u5316\\u6570\", \"x\": [\"9-2\"], \"y\": [2.0], \"type\": \"scatter\", \"uid\": \"7b27d7d4-c204-11e8-ad45-a81e84e6c740\"}, {\"name\": \"\\u5360\\u4f1f_\\u5b8c\\u6210\\u5546\\u4e1a\\u9879\\u76ee\\u6570\", \"x\": [\"9-2\"], \"y\": [6.0], \"type\": \"scatter\", \"uid\": \"7b27da72-c204-11e8-ad45-a81e84e6c740\"}, {\"name\": \"\\u5360\\u4f1f_\\u5b8c\\u6210\\u4e2a\\u6027\\u5316\\u6570\", \"x\": [\"9-2\"], \"y\": [2.0], \"type\": \"scatter\", \"uid\": \"7b27dd1a-c204-11e8-ad45-a81e84e6c740\"}, {\"name\": \"\\u6768\\u4f1f\\u98de_\\u5b8c\\u6210\\u5546\\u4e1a\\u9879\\u76ee\\u6570\", \"x\": [\"9-2\", \"9-3\"], \"y\": [0.0, 1.0], \"type\": \"scatter\", \"uid\": \"7b27df9a-c204-11e8-ad45-a81e84e6c740\"}, {\"name\": \"\\u6768\\u4f1f\\u98de_\\u5b8c\\u6210\\u4e2a\\u6027\\u5316\\u6570\", \"x\": [\"9-2\", \"9-3\"], \"y\": [3.0, 1.0], \"type\": \"scatter\", \"uid\": \"7b27e206-c204-11e8-ad45-a81e84e6c740\"}, {\"name\": \"\\u82cf\\u5f66\\u52cb_\\u5b8c\\u6210\\u5546\\u4e1a\\u9879\\u76ee\\u6570\", \"x\": [\"9-2\", \"9-3\"], \"y\": [0.0, 1.0], \"type\": \"scatter\", \"uid\": \"7b27e472-c204-11e8-ad45-a81e84e6c740\"}, {\"name\": \"\\u82cf\\u5f66\\u52cb_\\u5b8c\\u6210\\u4e2a\\u6027\\u5316\\u6570\", \"x\": [\"9-2\", \"9-3\"], \"y\": [0.0, 0.0], \"type\": \"scatter\", \"uid\": \"7b27e6de-c204-11e8-ad45-a81e84e6c740\"}, {\"name\": \"\\u9a6c\\u6f47_\\u5b8c\\u6210\\u5546\\u4e1a\\u9879\\u76ee\\u6570\", \"x\": [\"9-2\"], \"y\": [4.0], \"type\": \"scatter\", \"uid\": \"7b27e94a-c204-11e8-ad45-a81e84e6c740\"}, {\"name\": \"\\u9a6c\\u6f47_\\u5b8c\\u6210\\u4e2a\\u6027\\u5316\\u6570\", \"x\": [\"9-2\"], \"y\": [3.0], \"type\": \"scatter\", \"uid\": \"7b27ebb6-c204-11e8-ad45-a81e84e6c740\"}, {\"name\": \"\\u5b5f\\u660a_\\u5b8c\\u6210\\u5546\\u4e1a\\u9879\\u76ee\\u6570\", \"x\": [\"9-2\"], \"y\": [0.0], \"type\": \"scatter\", \"uid\": \"7b27ee22-c204-11e8-ad45-a81e84e6c740\"}, {\"name\": \"\\u5b5f\\u660a_\\u5b8c\\u6210\\u4e2a\\u6027\\u5316\\u6570\", \"x\": [\"9-2\"], \"y\": [0.0], \"type\": \"scatter\", \"uid\": \"7b27f0ca-c204-11e8-ad45-a81e84e6c740\"}, {\"name\": \"\\u674e\\u5e86\\u539f_\\u5b8c\\u6210\\u5546\\u4e1a\\u9879\\u76ee\\u6570\", \"x\": [\"9-2\"], \"y\": [0.0], \"type\": \"scatter\", \"uid\": \"7b27f34a-c204-11e8-ad45-a81e84e6c740\"}, {\"name\": \"\\u674e\\u5e86\\u539f_\\u5b8c\\u6210\\u4e2a\\u6027\\u5316\\u6570\", \"x\": [\"9-2\"], \"y\": [0.0], \"type\": \"scatter\", \"uid\": \"7b27f5b6-c204-11e8-ad45-a81e84e6c740\"}, {\"name\": \"\\u4efb\\u96ea_\\u5b8c\\u6210\\u5546\\u4e1a\\u9879\\u76ee\\u6570\", \"x\": [\"9-2\"], \"y\": [0.0], \"type\": \"scatter\", \"uid\": \"7b27f80e-c204-11e8-ad45-a81e84e6c740\"}, {\"name\": \"\\u4efb\\u96ea_\\u5b8c\\u6210\\u4e2a\\u6027\\u5316\\u6570\", \"x\": [\"9-2\"], \"y\": [0.0], \"type\": \"scatter\", \"uid\": \"7b27fa70-c204-11e8-ad45-a81e84e6c740\"}, {\"name\": \"\\u674e\\u534e\\u4e91_\\u5b8c\\u6210\\u5546\\u4e1a\\u9879\\u76ee\\u6570\", \"x\": [\"9-3\"], \"y\": [0.0], \"type\": \"scatter\", \"uid\": \"7b27fcdc-c204-11e8-ad45-a81e84e6c740\"}, {\"name\": \"\\u674e\\u534e\\u4e91_\\u5b8c\\u6210\\u4e2a\\u6027\\u5316\\u6570\", \"x\": [\"9-3\"], \"y\": [1.0], \"type\": \"scatter\", \"uid\": \"7b27ff3e-c204-11e8-ad45-a81e84e6c740\"}, {\"name\": \"\\u8c22\\u5fb7\\u5065_\\u5b8c\\u6210\\u5546\\u4e1a\\u9879\\u76ee\\u6570\", \"x\": [\"9-3\"], \"y\": [0.0], \"type\": \"scatter\", \"uid\": \"7b2801a0-c204-11e8-ad45-a81e84e6c740\"}, {\"name\": \"\\u8c22\\u5fb7\\u5065_\\u5b8c\\u6210\\u4e2a\\u6027\\u5316\\u6570\", \"x\": [\"9-3\"], \"y\": [2.0], \"type\": \"scatter\", \"uid\": \"7b2803f8-c204-11e8-ad45-a81e84e6c740\"}],\n",
       "            {\"title\": \"\\u5b8c\\u6210\\u5546\\u4e1a\\u9879\\u76ee\\u6570&\\u5b8c\\u6210\\u4e2a\\u6027\\u5316\\u6570\\u5468\\u8d8b\\u52bf\\u56fe\", \"xaxis\": {\"mirror\": \"all\", \"nticks\": 20, \"showgrid\": true, \"showline\": true, \"title\": \"\\u5468\", \"zeroline\": true}, \"yaxis\": {\"mirror\": \"all\", \"nticks\": 20, \"showgrid\": true, \"showline\": true, \"title\": \"\\u5b8c\\u6210\\u5546\\u4e1a\\u9879\\u76ee\\u6570&\\u5b8c\\u6210\\u4e2a\\u6027\\u5316\\u6570\", \"zeroline\": true}},\n",
       "            {\"showLink\": true, \"linkText\": \"Export to plot.ly\"}\n",
       "        ).then(function () {return Plotly.addFrames('80c8c03a-ab70-40a9-9c84-07b7c6549a1b',{});}).then(function(){Plotly.animate('80c8c03a-ab70-40a9-9c84-07b7c6549a1b');})\n",
       "        });</script>"
      ],
      "text/vnd.plotly.v1+html": [
       "<div id=\"80c8c03a-ab70-40a9-9c84-07b7c6549a1b\" style=\"height: 525px; width: 100%;\" class=\"plotly-graph-div\"></div><script type=\"text/javascript\">require([\"plotly\"], function(Plotly) { window.PLOTLYENV=window.PLOTLYENV || {};window.PLOTLYENV.BASE_URL=\"https://plot.ly\";\n",
       "        Plotly.plot(\n",
       "            '80c8c03a-ab70-40a9-9c84-07b7c6549a1b',\n",
       "            [{\"name\": \"\\u5c01\\u5f66\\u6770_\\u5b8c\\u6210\\u5546\\u4e1a\\u9879\\u76ee\\u6570\", \"x\": [\"9-2\"], \"y\": [0.0], \"type\": \"scatter\", \"uid\": \"7b27a80e-c204-11e8-ad45-a81e84e6c740\"}, {\"name\": \"\\u5c01\\u5f66\\u6770_\\u5b8c\\u6210\\u4e2a\\u6027\\u5316\\u6570\", \"x\": [\"9-2\"], \"y\": [0.0], \"type\": \"scatter\", \"uid\": \"7b27af3e-c204-11e8-ad45-a81e84e6c740\"}, {\"name\": \"\\u4e8e\\u6167_\\u5b8c\\u6210\\u5546\\u4e1a\\u9879\\u76ee\\u6570\", \"x\": [\"9-2\", \"9-3\"], \"y\": [0.0, 1.0], \"type\": \"scatter\", \"uid\": \"7b27b538-c204-11e8-ad45-a81e84e6c740\"}, {\"name\": \"\\u4e8e\\u6167_\\u5b8c\\u6210\\u4e2a\\u6027\\u5316\\u6570\", \"x\": [\"9-2\", \"9-3\"], \"y\": [1.0, 1.0], \"type\": \"scatter\", \"uid\": \"7b27bc18-c204-11e8-ad45-a81e84e6c740\"}, {\"name\": \"\\u8def\\u6167\\u840d_\\u5b8c\\u6210\\u5546\\u4e1a\\u9879\\u76ee\\u6570\", \"x\": [\"9-2\"], \"y\": [1.0], \"type\": \"scatter\", \"uid\": \"7b27c046-c204-11e8-ad45-a81e84e6c740\"}, {\"name\": \"\\u8def\\u6167\\u840d_\\u5b8c\\u6210\\u4e2a\\u6027\\u5316\\u6570\", \"x\": [\"9-2\"], \"y\": [0.0], \"type\": \"scatter\", \"uid\": \"7b27c410-c204-11e8-ad45-a81e84e6c740\"}, {\"name\": \"\\u4e8e\\u52c7\\u4e00_\\u5b8c\\u6210\\u5546\\u4e1a\\u9879\\u76ee\\u6570\", \"x\": [\"9-2\", \"9-3\"], \"y\": [1.0, 5.0], \"type\": \"scatter\", \"uid\": \"7b27c898-c204-11e8-ad45-a81e84e6c740\"}, {\"name\": \"\\u4e8e\\u52c7\\u4e00_\\u5b8c\\u6210\\u4e2a\\u6027\\u5316\\u6570\", \"x\": [\"9-2\", \"9-3\"], \"y\": [0.0, 0.0], \"type\": \"scatter\", \"uid\": \"7b27cc3a-c204-11e8-ad45-a81e84e6c740\"}, {\"name\": \"\\u5218\\u6c5f_\\u5b8c\\u6210\\u5546\\u4e1a\\u9879\\u76ee\\u6570\", \"x\": [\"9-2\", \"9-3\"], \"y\": [2.0, 0.0], \"type\": \"scatter\", \"uid\": \"7b27cf46-c204-11e8-ad45-a81e84e6c740\"}, {\"name\": \"\\u5218\\u6c5f_\\u5b8c\\u6210\\u4e2a\\u6027\\u5316\\u6570\", \"x\": [\"9-2\", \"9-3\"], \"y\": [4.0, 1.0], \"type\": \"scatter\", \"uid\": \"7b27d284-c204-11e8-ad45-a81e84e6c740\"}, {\"name\": \"\\u8d75\\u73a5_\\u5b8c\\u6210\\u5546\\u4e1a\\u9879\\u76ee\\u6570\", \"x\": [\"9-2\"], \"y\": [0.0], \"type\": \"scatter\", \"uid\": \"7b27d52c-c204-11e8-ad45-a81e84e6c740\"}, {\"name\": \"\\u8d75\\u73a5_\\u5b8c\\u6210\\u4e2a\\u6027\\u5316\\u6570\", \"x\": [\"9-2\"], \"y\": [2.0], \"type\": \"scatter\", \"uid\": \"7b27d7d4-c204-11e8-ad45-a81e84e6c740\"}, {\"name\": \"\\u5360\\u4f1f_\\u5b8c\\u6210\\u5546\\u4e1a\\u9879\\u76ee\\u6570\", \"x\": [\"9-2\"], \"y\": [6.0], \"type\": \"scatter\", \"uid\": \"7b27da72-c204-11e8-ad45-a81e84e6c740\"}, {\"name\": \"\\u5360\\u4f1f_\\u5b8c\\u6210\\u4e2a\\u6027\\u5316\\u6570\", \"x\": [\"9-2\"], \"y\": [2.0], \"type\": \"scatter\", \"uid\": \"7b27dd1a-c204-11e8-ad45-a81e84e6c740\"}, {\"name\": \"\\u6768\\u4f1f\\u98de_\\u5b8c\\u6210\\u5546\\u4e1a\\u9879\\u76ee\\u6570\", \"x\": [\"9-2\", \"9-3\"], \"y\": [0.0, 1.0], \"type\": \"scatter\", \"uid\": \"7b27df9a-c204-11e8-ad45-a81e84e6c740\"}, {\"name\": \"\\u6768\\u4f1f\\u98de_\\u5b8c\\u6210\\u4e2a\\u6027\\u5316\\u6570\", \"x\": [\"9-2\", \"9-3\"], \"y\": [3.0, 1.0], \"type\": \"scatter\", \"uid\": \"7b27e206-c204-11e8-ad45-a81e84e6c740\"}, {\"name\": \"\\u82cf\\u5f66\\u52cb_\\u5b8c\\u6210\\u5546\\u4e1a\\u9879\\u76ee\\u6570\", \"x\": [\"9-2\", \"9-3\"], \"y\": [0.0, 1.0], \"type\": \"scatter\", \"uid\": \"7b27e472-c204-11e8-ad45-a81e84e6c740\"}, {\"name\": \"\\u82cf\\u5f66\\u52cb_\\u5b8c\\u6210\\u4e2a\\u6027\\u5316\\u6570\", \"x\": [\"9-2\", \"9-3\"], \"y\": [0.0, 0.0], \"type\": \"scatter\", \"uid\": \"7b27e6de-c204-11e8-ad45-a81e84e6c740\"}, {\"name\": \"\\u9a6c\\u6f47_\\u5b8c\\u6210\\u5546\\u4e1a\\u9879\\u76ee\\u6570\", \"x\": [\"9-2\"], \"y\": [4.0], \"type\": \"scatter\", \"uid\": \"7b27e94a-c204-11e8-ad45-a81e84e6c740\"}, {\"name\": \"\\u9a6c\\u6f47_\\u5b8c\\u6210\\u4e2a\\u6027\\u5316\\u6570\", \"x\": [\"9-2\"], \"y\": [3.0], \"type\": \"scatter\", \"uid\": \"7b27ebb6-c204-11e8-ad45-a81e84e6c740\"}, {\"name\": \"\\u5b5f\\u660a_\\u5b8c\\u6210\\u5546\\u4e1a\\u9879\\u76ee\\u6570\", \"x\": [\"9-2\"], \"y\": [0.0], \"type\": \"scatter\", \"uid\": \"7b27ee22-c204-11e8-ad45-a81e84e6c740\"}, {\"name\": \"\\u5b5f\\u660a_\\u5b8c\\u6210\\u4e2a\\u6027\\u5316\\u6570\", \"x\": [\"9-2\"], \"y\": [0.0], \"type\": \"scatter\", \"uid\": \"7b27f0ca-c204-11e8-ad45-a81e84e6c740\"}, {\"name\": \"\\u674e\\u5e86\\u539f_\\u5b8c\\u6210\\u5546\\u4e1a\\u9879\\u76ee\\u6570\", \"x\": [\"9-2\"], \"y\": [0.0], \"type\": \"scatter\", \"uid\": \"7b27f34a-c204-11e8-ad45-a81e84e6c740\"}, {\"name\": \"\\u674e\\u5e86\\u539f_\\u5b8c\\u6210\\u4e2a\\u6027\\u5316\\u6570\", \"x\": [\"9-2\"], \"y\": [0.0], \"type\": \"scatter\", \"uid\": \"7b27f5b6-c204-11e8-ad45-a81e84e6c740\"}, {\"name\": \"\\u4efb\\u96ea_\\u5b8c\\u6210\\u5546\\u4e1a\\u9879\\u76ee\\u6570\", \"x\": [\"9-2\"], \"y\": [0.0], \"type\": \"scatter\", \"uid\": \"7b27f80e-c204-11e8-ad45-a81e84e6c740\"}, {\"name\": \"\\u4efb\\u96ea_\\u5b8c\\u6210\\u4e2a\\u6027\\u5316\\u6570\", \"x\": [\"9-2\"], \"y\": [0.0], \"type\": \"scatter\", \"uid\": \"7b27fa70-c204-11e8-ad45-a81e84e6c740\"}, {\"name\": \"\\u674e\\u534e\\u4e91_\\u5b8c\\u6210\\u5546\\u4e1a\\u9879\\u76ee\\u6570\", \"x\": [\"9-3\"], \"y\": [0.0], \"type\": \"scatter\", \"uid\": \"7b27fcdc-c204-11e8-ad45-a81e84e6c740\"}, {\"name\": \"\\u674e\\u534e\\u4e91_\\u5b8c\\u6210\\u4e2a\\u6027\\u5316\\u6570\", \"x\": [\"9-3\"], \"y\": [1.0], \"type\": \"scatter\", \"uid\": \"7b27ff3e-c204-11e8-ad45-a81e84e6c740\"}, {\"name\": \"\\u8c22\\u5fb7\\u5065_\\u5b8c\\u6210\\u5546\\u4e1a\\u9879\\u76ee\\u6570\", \"x\": [\"9-3\"], \"y\": [0.0], \"type\": \"scatter\", \"uid\": \"7b2801a0-c204-11e8-ad45-a81e84e6c740\"}, {\"name\": \"\\u8c22\\u5fb7\\u5065_\\u5b8c\\u6210\\u4e2a\\u6027\\u5316\\u6570\", \"x\": [\"9-3\"], \"y\": [2.0], \"type\": \"scatter\", \"uid\": \"7b2803f8-c204-11e8-ad45-a81e84e6c740\"}],\n",
       "            {\"title\": \"\\u5b8c\\u6210\\u5546\\u4e1a\\u9879\\u76ee\\u6570&\\u5b8c\\u6210\\u4e2a\\u6027\\u5316\\u6570\\u5468\\u8d8b\\u52bf\\u56fe\", \"xaxis\": {\"mirror\": \"all\", \"nticks\": 20, \"showgrid\": true, \"showline\": true, \"title\": \"\\u5468\", \"zeroline\": true}, \"yaxis\": {\"mirror\": \"all\", \"nticks\": 20, \"showgrid\": true, \"showline\": true, \"title\": \"\\u5b8c\\u6210\\u5546\\u4e1a\\u9879\\u76ee\\u6570&\\u5b8c\\u6210\\u4e2a\\u6027\\u5316\\u6570\", \"zeroline\": true}},\n",
       "            {\"showLink\": true, \"linkText\": \"Export to plot.ly\"}\n",
       "        ).then(function () {return Plotly.addFrames('80c8c03a-ab70-40a9-9c84-07b7c6549a1b',{});}).then(function(){Plotly.animate('80c8c03a-ab70-40a9-9c84-07b7c6549a1b');})\n",
       "        });</script>"
      ]
     },
     "metadata": {},
     "output_type": "display_data"
    },
    {
     "data": {
      "application/vnd.plotly.v1+json": {
       "data": [
        {
         "name": "于勇一_完成商业项目数",
         "type": "scatter",
         "uid": "7b6a66e4-c204-11e8-ad45-a81e84e6c740",
         "x": [
          "9"
         ],
         "y": [
          6
         ]
        },
        {
         "name": "于勇一_完成个性化数",
         "type": "scatter",
         "uid": "7b6a6a86-c204-11e8-ad45-a81e84e6c740",
         "x": [
          "9"
         ],
         "y": [
          0
         ]
        },
        {
         "name": "于慧_完成商业项目数",
         "type": "scatter",
         "uid": "7b6a6cd4-c204-11e8-ad45-a81e84e6c740",
         "x": [
          "9"
         ],
         "y": [
          1
         ]
        },
        {
         "name": "于慧_完成个性化数",
         "type": "scatter",
         "uid": "7b6a6edc-c204-11e8-ad45-a81e84e6c740",
         "x": [
          "9"
         ],
         "y": [
          2
         ]
        },
        {
         "name": "任雪_完成商业项目数",
         "type": "scatter",
         "uid": "7b6a70e4-c204-11e8-ad45-a81e84e6c740",
         "x": [
          "9"
         ],
         "y": [
          null
         ]
        },
        {
         "name": "任雪_完成个性化数",
         "type": "scatter",
         "uid": "7b6a72e2-c204-11e8-ad45-a81e84e6c740",
         "x": [
          "9"
         ],
         "y": [
          null
         ]
        },
        {
         "name": "刘江_完成商业项目数",
         "type": "scatter",
         "uid": "7b6a756c-c204-11e8-ad45-a81e84e6c740",
         "x": [
          "9"
         ],
         "y": [
          2
         ]
        },
        {
         "name": "刘江_完成个性化数",
         "type": "scatter",
         "uid": "7b6a7756-c204-11e8-ad45-a81e84e6c740",
         "x": [
          "9"
         ],
         "y": [
          5
         ]
        },
        {
         "name": "占伟_完成商业项目数",
         "type": "scatter",
         "uid": "7b6a79d6-c204-11e8-ad45-a81e84e6c740",
         "x": [
          "9"
         ],
         "y": [
          null
         ]
        },
        {
         "name": "占伟_完成个性化数",
         "type": "scatter",
         "uid": "7b6a7bd4-c204-11e8-ad45-a81e84e6c740",
         "x": [
          "9"
         ],
         "y": [
          null
         ]
        },
        {
         "name": "孟昊_完成商业项目数",
         "type": "scatter",
         "uid": "7b6a7dbe-c204-11e8-ad45-a81e84e6c740",
         "x": [
          "9"
         ],
         "y": [
          null
         ]
        },
        {
         "name": "孟昊_完成个性化数",
         "type": "scatter",
         "uid": "7b6a7fb2-c204-11e8-ad45-a81e84e6c740",
         "x": [
          "9"
         ],
         "y": [
          null
         ]
        },
        {
         "name": "封彦杰_完成商业项目数",
         "type": "scatter",
         "uid": "7b6a81ba-c204-11e8-ad45-a81e84e6c740",
         "x": [
          "9"
         ],
         "y": [
          null
         ]
        },
        {
         "name": "封彦杰_完成个性化数",
         "type": "scatter",
         "uid": "7b6a843a-c204-11e8-ad45-a81e84e6c740",
         "x": [
          "9"
         ],
         "y": [
          null
         ]
        },
        {
         "name": "李华云_完成商业项目数",
         "type": "scatter",
         "uid": "7b6a862e-c204-11e8-ad45-a81e84e6c740",
         "x": [
          "9"
         ],
         "y": [
          null
         ]
        },
        {
         "name": "李华云_完成个性化数",
         "type": "scatter",
         "uid": "7b6a8822-c204-11e8-ad45-a81e84e6c740",
         "x": [
          "9"
         ],
         "y": [
          null
         ]
        },
        {
         "name": "李庆原_完成商业项目数",
         "type": "scatter",
         "uid": "7b6a8a0c-c204-11e8-ad45-a81e84e6c740",
         "x": [
          "9"
         ],
         "y": [
          null
         ]
        },
        {
         "name": "李庆原_完成个性化数",
         "type": "scatter",
         "uid": "7b6a8bf6-c204-11e8-ad45-a81e84e6c740",
         "x": [
          "9"
         ],
         "y": [
          null
         ]
        },
        {
         "name": "杨伟飞_完成商业项目数",
         "type": "scatter",
         "uid": "7b6a8dea-c204-11e8-ad45-a81e84e6c740",
         "x": [
          "9"
         ],
         "y": [
          1
         ]
        },
        {
         "name": "杨伟飞_完成个性化数",
         "type": "scatter",
         "uid": "7b6a9006-c204-11e8-ad45-a81e84e6c740",
         "x": [
          "9"
         ],
         "y": [
          4
         ]
        },
        {
         "name": "苏彦勋_完成商业项目数",
         "type": "scatter",
         "uid": "7b6a91f0-c204-11e8-ad45-a81e84e6c740",
         "x": [
          "9"
         ],
         "y": [
          1
         ]
        },
        {
         "name": "苏彦勋_完成个性化数",
         "type": "scatter",
         "uid": "7b6a93da-c204-11e8-ad45-a81e84e6c740",
         "x": [
          "9"
         ],
         "y": [
          0
         ]
        },
        {
         "name": "谢德健_完成商业项目数",
         "type": "scatter",
         "uid": "7b6a95c4-c204-11e8-ad45-a81e84e6c740",
         "x": [
          "9"
         ],
         "y": [
          null
         ]
        },
        {
         "name": "谢德健_完成个性化数",
         "type": "scatter",
         "uid": "7b6a97ae-c204-11e8-ad45-a81e84e6c740",
         "x": [
          "9"
         ],
         "y": [
          null
         ]
        },
        {
         "name": "赵玥_完成商业项目数",
         "type": "scatter",
         "uid": "7b6a9998-c204-11e8-ad45-a81e84e6c740",
         "x": [
          "9"
         ],
         "y": [
          null
         ]
        },
        {
         "name": "赵玥_完成个性化数",
         "type": "scatter",
         "uid": "7b6a9b82-c204-11e8-ad45-a81e84e6c740",
         "x": [
          "9"
         ],
         "y": [
          null
         ]
        },
        {
         "name": "路慧萍_完成商业项目数",
         "type": "scatter",
         "uid": "7b6a9d6c-c204-11e8-ad45-a81e84e6c740",
         "x": [
          "9"
         ],
         "y": [
          null
         ]
        },
        {
         "name": "路慧萍_完成个性化数",
         "type": "scatter",
         "uid": "7b6a9f56-c204-11e8-ad45-a81e84e6c740",
         "x": [
          "9"
         ],
         "y": [
          null
         ]
        },
        {
         "name": "马潇_完成商业项目数",
         "type": "scatter",
         "uid": "7b6aa140-c204-11e8-ad45-a81e84e6c740",
         "x": [
          "9"
         ],
         "y": [
          null
         ]
        },
        {
         "name": "马潇_完成个性化数",
         "type": "scatter",
         "uid": "7b6aa32a-c204-11e8-ad45-a81e84e6c740",
         "x": [
          "9"
         ],
         "y": [
          null
         ]
        }
       ],
       "layout": {
        "title": "完成商业项目数&完成个性化数月趋势图",
        "xaxis": {
         "mirror": "all",
         "nticks": 20,
         "showgrid": true,
         "showline": true,
         "title": "月",
         "zeroline": true
        },
        "yaxis": {
         "mirror": "all",
         "nticks": 20,
         "showgrid": true,
         "showline": true,
         "title": "完成商业项目数&完成个性化数",
         "zeroline": true
        }
       }
      },
      "text/html": [
       "<div id=\"63ae00e0-5308-4f07-9d11-63b229414f0c\" style=\"height: 525px; width: 100%;\" class=\"plotly-graph-div\"></div><script type=\"text/javascript\">require([\"plotly\"], function(Plotly) { window.PLOTLYENV=window.PLOTLYENV || {};window.PLOTLYENV.BASE_URL=\"https://plot.ly\";\n",
       "        Plotly.plot(\n",
       "            '63ae00e0-5308-4f07-9d11-63b229414f0c',\n",
       "            [{\"name\": \"\\u4e8e\\u52c7\\u4e00_\\u5b8c\\u6210\\u5546\\u4e1a\\u9879\\u76ee\\u6570\", \"x\": [\"9\"], \"y\": [6.0], \"type\": \"scatter\", \"uid\": \"7b6a66e4-c204-11e8-ad45-a81e84e6c740\"}, {\"name\": \"\\u4e8e\\u52c7\\u4e00_\\u5b8c\\u6210\\u4e2a\\u6027\\u5316\\u6570\", \"x\": [\"9\"], \"y\": [0.0], \"type\": \"scatter\", \"uid\": \"7b6a6a86-c204-11e8-ad45-a81e84e6c740\"}, {\"name\": \"\\u4e8e\\u6167_\\u5b8c\\u6210\\u5546\\u4e1a\\u9879\\u76ee\\u6570\", \"x\": [\"9\"], \"y\": [1.0], \"type\": \"scatter\", \"uid\": \"7b6a6cd4-c204-11e8-ad45-a81e84e6c740\"}, {\"name\": \"\\u4e8e\\u6167_\\u5b8c\\u6210\\u4e2a\\u6027\\u5316\\u6570\", \"x\": [\"9\"], \"y\": [2.0], \"type\": \"scatter\", \"uid\": \"7b6a6edc-c204-11e8-ad45-a81e84e6c740\"}, {\"name\": \"\\u4efb\\u96ea_\\u5b8c\\u6210\\u5546\\u4e1a\\u9879\\u76ee\\u6570\", \"x\": [\"9\"], \"y\": [null], \"type\": \"scatter\", \"uid\": \"7b6a70e4-c204-11e8-ad45-a81e84e6c740\"}, {\"name\": \"\\u4efb\\u96ea_\\u5b8c\\u6210\\u4e2a\\u6027\\u5316\\u6570\", \"x\": [\"9\"], \"y\": [null], \"type\": \"scatter\", \"uid\": \"7b6a72e2-c204-11e8-ad45-a81e84e6c740\"}, {\"name\": \"\\u5218\\u6c5f_\\u5b8c\\u6210\\u5546\\u4e1a\\u9879\\u76ee\\u6570\", \"x\": [\"9\"], \"y\": [2.0], \"type\": \"scatter\", \"uid\": \"7b6a756c-c204-11e8-ad45-a81e84e6c740\"}, {\"name\": \"\\u5218\\u6c5f_\\u5b8c\\u6210\\u4e2a\\u6027\\u5316\\u6570\", \"x\": [\"9\"], \"y\": [5.0], \"type\": \"scatter\", \"uid\": \"7b6a7756-c204-11e8-ad45-a81e84e6c740\"}, {\"name\": \"\\u5360\\u4f1f_\\u5b8c\\u6210\\u5546\\u4e1a\\u9879\\u76ee\\u6570\", \"x\": [\"9\"], \"y\": [null], \"type\": \"scatter\", \"uid\": \"7b6a79d6-c204-11e8-ad45-a81e84e6c740\"}, {\"name\": \"\\u5360\\u4f1f_\\u5b8c\\u6210\\u4e2a\\u6027\\u5316\\u6570\", \"x\": [\"9\"], \"y\": [null], \"type\": \"scatter\", \"uid\": \"7b6a7bd4-c204-11e8-ad45-a81e84e6c740\"}, {\"name\": \"\\u5b5f\\u660a_\\u5b8c\\u6210\\u5546\\u4e1a\\u9879\\u76ee\\u6570\", \"x\": [\"9\"], \"y\": [null], \"type\": \"scatter\", \"uid\": \"7b6a7dbe-c204-11e8-ad45-a81e84e6c740\"}, {\"name\": \"\\u5b5f\\u660a_\\u5b8c\\u6210\\u4e2a\\u6027\\u5316\\u6570\", \"x\": [\"9\"], \"y\": [null], \"type\": \"scatter\", \"uid\": \"7b6a7fb2-c204-11e8-ad45-a81e84e6c740\"}, {\"name\": \"\\u5c01\\u5f66\\u6770_\\u5b8c\\u6210\\u5546\\u4e1a\\u9879\\u76ee\\u6570\", \"x\": [\"9\"], \"y\": [null], \"type\": \"scatter\", \"uid\": \"7b6a81ba-c204-11e8-ad45-a81e84e6c740\"}, {\"name\": \"\\u5c01\\u5f66\\u6770_\\u5b8c\\u6210\\u4e2a\\u6027\\u5316\\u6570\", \"x\": [\"9\"], \"y\": [null], \"type\": \"scatter\", \"uid\": \"7b6a843a-c204-11e8-ad45-a81e84e6c740\"}, {\"name\": \"\\u674e\\u534e\\u4e91_\\u5b8c\\u6210\\u5546\\u4e1a\\u9879\\u76ee\\u6570\", \"x\": [\"9\"], \"y\": [null], \"type\": \"scatter\", \"uid\": \"7b6a862e-c204-11e8-ad45-a81e84e6c740\"}, {\"name\": \"\\u674e\\u534e\\u4e91_\\u5b8c\\u6210\\u4e2a\\u6027\\u5316\\u6570\", \"x\": [\"9\"], \"y\": [null], \"type\": \"scatter\", \"uid\": \"7b6a8822-c204-11e8-ad45-a81e84e6c740\"}, {\"name\": \"\\u674e\\u5e86\\u539f_\\u5b8c\\u6210\\u5546\\u4e1a\\u9879\\u76ee\\u6570\", \"x\": [\"9\"], \"y\": [null], \"type\": \"scatter\", \"uid\": \"7b6a8a0c-c204-11e8-ad45-a81e84e6c740\"}, {\"name\": \"\\u674e\\u5e86\\u539f_\\u5b8c\\u6210\\u4e2a\\u6027\\u5316\\u6570\", \"x\": [\"9\"], \"y\": [null], \"type\": \"scatter\", \"uid\": \"7b6a8bf6-c204-11e8-ad45-a81e84e6c740\"}, {\"name\": \"\\u6768\\u4f1f\\u98de_\\u5b8c\\u6210\\u5546\\u4e1a\\u9879\\u76ee\\u6570\", \"x\": [\"9\"], \"y\": [1.0], \"type\": \"scatter\", \"uid\": \"7b6a8dea-c204-11e8-ad45-a81e84e6c740\"}, {\"name\": \"\\u6768\\u4f1f\\u98de_\\u5b8c\\u6210\\u4e2a\\u6027\\u5316\\u6570\", \"x\": [\"9\"], \"y\": [4.0], \"type\": \"scatter\", \"uid\": \"7b6a9006-c204-11e8-ad45-a81e84e6c740\"}, {\"name\": \"\\u82cf\\u5f66\\u52cb_\\u5b8c\\u6210\\u5546\\u4e1a\\u9879\\u76ee\\u6570\", \"x\": [\"9\"], \"y\": [1.0], \"type\": \"scatter\", \"uid\": \"7b6a91f0-c204-11e8-ad45-a81e84e6c740\"}, {\"name\": \"\\u82cf\\u5f66\\u52cb_\\u5b8c\\u6210\\u4e2a\\u6027\\u5316\\u6570\", \"x\": [\"9\"], \"y\": [0.0], \"type\": \"scatter\", \"uid\": \"7b6a93da-c204-11e8-ad45-a81e84e6c740\"}, {\"name\": \"\\u8c22\\u5fb7\\u5065_\\u5b8c\\u6210\\u5546\\u4e1a\\u9879\\u76ee\\u6570\", \"x\": [\"9\"], \"y\": [null], \"type\": \"scatter\", \"uid\": \"7b6a95c4-c204-11e8-ad45-a81e84e6c740\"}, {\"name\": \"\\u8c22\\u5fb7\\u5065_\\u5b8c\\u6210\\u4e2a\\u6027\\u5316\\u6570\", \"x\": [\"9\"], \"y\": [null], \"type\": \"scatter\", \"uid\": \"7b6a97ae-c204-11e8-ad45-a81e84e6c740\"}, {\"name\": \"\\u8d75\\u73a5_\\u5b8c\\u6210\\u5546\\u4e1a\\u9879\\u76ee\\u6570\", \"x\": [\"9\"], \"y\": [null], \"type\": \"scatter\", \"uid\": \"7b6a9998-c204-11e8-ad45-a81e84e6c740\"}, {\"name\": \"\\u8d75\\u73a5_\\u5b8c\\u6210\\u4e2a\\u6027\\u5316\\u6570\", \"x\": [\"9\"], \"y\": [null], \"type\": \"scatter\", \"uid\": \"7b6a9b82-c204-11e8-ad45-a81e84e6c740\"}, {\"name\": \"\\u8def\\u6167\\u840d_\\u5b8c\\u6210\\u5546\\u4e1a\\u9879\\u76ee\\u6570\", \"x\": [\"9\"], \"y\": [null], \"type\": \"scatter\", \"uid\": \"7b6a9d6c-c204-11e8-ad45-a81e84e6c740\"}, {\"name\": \"\\u8def\\u6167\\u840d_\\u5b8c\\u6210\\u4e2a\\u6027\\u5316\\u6570\", \"x\": [\"9\"], \"y\": [null], \"type\": \"scatter\", \"uid\": \"7b6a9f56-c204-11e8-ad45-a81e84e6c740\"}, {\"name\": \"\\u9a6c\\u6f47_\\u5b8c\\u6210\\u5546\\u4e1a\\u9879\\u76ee\\u6570\", \"x\": [\"9\"], \"y\": [null], \"type\": \"scatter\", \"uid\": \"7b6aa140-c204-11e8-ad45-a81e84e6c740\"}, {\"name\": \"\\u9a6c\\u6f47_\\u5b8c\\u6210\\u4e2a\\u6027\\u5316\\u6570\", \"x\": [\"9\"], \"y\": [null], \"type\": \"scatter\", \"uid\": \"7b6aa32a-c204-11e8-ad45-a81e84e6c740\"}],\n",
       "            {\"title\": \"\\u5b8c\\u6210\\u5546\\u4e1a\\u9879\\u76ee\\u6570&\\u5b8c\\u6210\\u4e2a\\u6027\\u5316\\u6570\\u6708\\u8d8b\\u52bf\\u56fe\", \"xaxis\": {\"mirror\": \"all\", \"nticks\": 20, \"showgrid\": true, \"showline\": true, \"title\": \"\\u6708\", \"zeroline\": true}, \"yaxis\": {\"mirror\": \"all\", \"nticks\": 20, \"showgrid\": true, \"showline\": true, \"title\": \"\\u5b8c\\u6210\\u5546\\u4e1a\\u9879\\u76ee\\u6570&\\u5b8c\\u6210\\u4e2a\\u6027\\u5316\\u6570\", \"zeroline\": true}},\n",
       "            {\"showLink\": true, \"linkText\": \"Export to plot.ly\"}\n",
       "        ).then(function () {return Plotly.addFrames('63ae00e0-5308-4f07-9d11-63b229414f0c',{});}).then(function(){Plotly.animate('63ae00e0-5308-4f07-9d11-63b229414f0c');})\n",
       "        });</script>"
      ],
      "text/vnd.plotly.v1+html": [
       "<div id=\"63ae00e0-5308-4f07-9d11-63b229414f0c\" style=\"height: 525px; width: 100%;\" class=\"plotly-graph-div\"></div><script type=\"text/javascript\">require([\"plotly\"], function(Plotly) { window.PLOTLYENV=window.PLOTLYENV || {};window.PLOTLYENV.BASE_URL=\"https://plot.ly\";\n",
       "        Plotly.plot(\n",
       "            '63ae00e0-5308-4f07-9d11-63b229414f0c',\n",
       "            [{\"name\": \"\\u4e8e\\u52c7\\u4e00_\\u5b8c\\u6210\\u5546\\u4e1a\\u9879\\u76ee\\u6570\", \"x\": [\"9\"], \"y\": [6.0], \"type\": \"scatter\", \"uid\": \"7b6a66e4-c204-11e8-ad45-a81e84e6c740\"}, {\"name\": \"\\u4e8e\\u52c7\\u4e00_\\u5b8c\\u6210\\u4e2a\\u6027\\u5316\\u6570\", \"x\": [\"9\"], \"y\": [0.0], \"type\": \"scatter\", \"uid\": \"7b6a6a86-c204-11e8-ad45-a81e84e6c740\"}, {\"name\": \"\\u4e8e\\u6167_\\u5b8c\\u6210\\u5546\\u4e1a\\u9879\\u76ee\\u6570\", \"x\": [\"9\"], \"y\": [1.0], \"type\": \"scatter\", \"uid\": \"7b6a6cd4-c204-11e8-ad45-a81e84e6c740\"}, {\"name\": \"\\u4e8e\\u6167_\\u5b8c\\u6210\\u4e2a\\u6027\\u5316\\u6570\", \"x\": [\"9\"], \"y\": [2.0], \"type\": \"scatter\", \"uid\": \"7b6a6edc-c204-11e8-ad45-a81e84e6c740\"}, {\"name\": \"\\u4efb\\u96ea_\\u5b8c\\u6210\\u5546\\u4e1a\\u9879\\u76ee\\u6570\", \"x\": [\"9\"], \"y\": [null], \"type\": \"scatter\", \"uid\": \"7b6a70e4-c204-11e8-ad45-a81e84e6c740\"}, {\"name\": \"\\u4efb\\u96ea_\\u5b8c\\u6210\\u4e2a\\u6027\\u5316\\u6570\", \"x\": [\"9\"], \"y\": [null], \"type\": \"scatter\", \"uid\": \"7b6a72e2-c204-11e8-ad45-a81e84e6c740\"}, {\"name\": \"\\u5218\\u6c5f_\\u5b8c\\u6210\\u5546\\u4e1a\\u9879\\u76ee\\u6570\", \"x\": [\"9\"], \"y\": [2.0], \"type\": \"scatter\", \"uid\": \"7b6a756c-c204-11e8-ad45-a81e84e6c740\"}, {\"name\": \"\\u5218\\u6c5f_\\u5b8c\\u6210\\u4e2a\\u6027\\u5316\\u6570\", \"x\": [\"9\"], \"y\": [5.0], \"type\": \"scatter\", \"uid\": \"7b6a7756-c204-11e8-ad45-a81e84e6c740\"}, {\"name\": \"\\u5360\\u4f1f_\\u5b8c\\u6210\\u5546\\u4e1a\\u9879\\u76ee\\u6570\", \"x\": [\"9\"], \"y\": [null], \"type\": \"scatter\", \"uid\": \"7b6a79d6-c204-11e8-ad45-a81e84e6c740\"}, {\"name\": \"\\u5360\\u4f1f_\\u5b8c\\u6210\\u4e2a\\u6027\\u5316\\u6570\", \"x\": [\"9\"], \"y\": [null], \"type\": \"scatter\", \"uid\": \"7b6a7bd4-c204-11e8-ad45-a81e84e6c740\"}, {\"name\": \"\\u5b5f\\u660a_\\u5b8c\\u6210\\u5546\\u4e1a\\u9879\\u76ee\\u6570\", \"x\": [\"9\"], \"y\": [null], \"type\": \"scatter\", \"uid\": \"7b6a7dbe-c204-11e8-ad45-a81e84e6c740\"}, {\"name\": \"\\u5b5f\\u660a_\\u5b8c\\u6210\\u4e2a\\u6027\\u5316\\u6570\", \"x\": [\"9\"], \"y\": [null], \"type\": \"scatter\", \"uid\": \"7b6a7fb2-c204-11e8-ad45-a81e84e6c740\"}, {\"name\": \"\\u5c01\\u5f66\\u6770_\\u5b8c\\u6210\\u5546\\u4e1a\\u9879\\u76ee\\u6570\", \"x\": [\"9\"], \"y\": [null], \"type\": \"scatter\", \"uid\": \"7b6a81ba-c204-11e8-ad45-a81e84e6c740\"}, {\"name\": \"\\u5c01\\u5f66\\u6770_\\u5b8c\\u6210\\u4e2a\\u6027\\u5316\\u6570\", \"x\": [\"9\"], \"y\": [null], \"type\": \"scatter\", \"uid\": \"7b6a843a-c204-11e8-ad45-a81e84e6c740\"}, {\"name\": \"\\u674e\\u534e\\u4e91_\\u5b8c\\u6210\\u5546\\u4e1a\\u9879\\u76ee\\u6570\", \"x\": [\"9\"], \"y\": [null], \"type\": \"scatter\", \"uid\": \"7b6a862e-c204-11e8-ad45-a81e84e6c740\"}, {\"name\": \"\\u674e\\u534e\\u4e91_\\u5b8c\\u6210\\u4e2a\\u6027\\u5316\\u6570\", \"x\": [\"9\"], \"y\": [null], \"type\": \"scatter\", \"uid\": \"7b6a8822-c204-11e8-ad45-a81e84e6c740\"}, {\"name\": \"\\u674e\\u5e86\\u539f_\\u5b8c\\u6210\\u5546\\u4e1a\\u9879\\u76ee\\u6570\", \"x\": [\"9\"], \"y\": [null], \"type\": \"scatter\", \"uid\": \"7b6a8a0c-c204-11e8-ad45-a81e84e6c740\"}, {\"name\": \"\\u674e\\u5e86\\u539f_\\u5b8c\\u6210\\u4e2a\\u6027\\u5316\\u6570\", \"x\": [\"9\"], \"y\": [null], \"type\": \"scatter\", \"uid\": \"7b6a8bf6-c204-11e8-ad45-a81e84e6c740\"}, {\"name\": \"\\u6768\\u4f1f\\u98de_\\u5b8c\\u6210\\u5546\\u4e1a\\u9879\\u76ee\\u6570\", \"x\": [\"9\"], \"y\": [1.0], \"type\": \"scatter\", \"uid\": \"7b6a8dea-c204-11e8-ad45-a81e84e6c740\"}, {\"name\": \"\\u6768\\u4f1f\\u98de_\\u5b8c\\u6210\\u4e2a\\u6027\\u5316\\u6570\", \"x\": [\"9\"], \"y\": [4.0], \"type\": \"scatter\", \"uid\": \"7b6a9006-c204-11e8-ad45-a81e84e6c740\"}, {\"name\": \"\\u82cf\\u5f66\\u52cb_\\u5b8c\\u6210\\u5546\\u4e1a\\u9879\\u76ee\\u6570\", \"x\": [\"9\"], \"y\": [1.0], \"type\": \"scatter\", \"uid\": \"7b6a91f0-c204-11e8-ad45-a81e84e6c740\"}, {\"name\": \"\\u82cf\\u5f66\\u52cb_\\u5b8c\\u6210\\u4e2a\\u6027\\u5316\\u6570\", \"x\": [\"9\"], \"y\": [0.0], \"type\": \"scatter\", \"uid\": \"7b6a93da-c204-11e8-ad45-a81e84e6c740\"}, {\"name\": \"\\u8c22\\u5fb7\\u5065_\\u5b8c\\u6210\\u5546\\u4e1a\\u9879\\u76ee\\u6570\", \"x\": [\"9\"], \"y\": [null], \"type\": \"scatter\", \"uid\": \"7b6a95c4-c204-11e8-ad45-a81e84e6c740\"}, {\"name\": \"\\u8c22\\u5fb7\\u5065_\\u5b8c\\u6210\\u4e2a\\u6027\\u5316\\u6570\", \"x\": [\"9\"], \"y\": [null], \"type\": \"scatter\", \"uid\": \"7b6a97ae-c204-11e8-ad45-a81e84e6c740\"}, {\"name\": \"\\u8d75\\u73a5_\\u5b8c\\u6210\\u5546\\u4e1a\\u9879\\u76ee\\u6570\", \"x\": [\"9\"], \"y\": [null], \"type\": \"scatter\", \"uid\": \"7b6a9998-c204-11e8-ad45-a81e84e6c740\"}, {\"name\": \"\\u8d75\\u73a5_\\u5b8c\\u6210\\u4e2a\\u6027\\u5316\\u6570\", \"x\": [\"9\"], \"y\": [null], \"type\": \"scatter\", \"uid\": \"7b6a9b82-c204-11e8-ad45-a81e84e6c740\"}, {\"name\": \"\\u8def\\u6167\\u840d_\\u5b8c\\u6210\\u5546\\u4e1a\\u9879\\u76ee\\u6570\", \"x\": [\"9\"], \"y\": [null], \"type\": \"scatter\", \"uid\": \"7b6a9d6c-c204-11e8-ad45-a81e84e6c740\"}, {\"name\": \"\\u8def\\u6167\\u840d_\\u5b8c\\u6210\\u4e2a\\u6027\\u5316\\u6570\", \"x\": [\"9\"], \"y\": [null], \"type\": \"scatter\", \"uid\": \"7b6a9f56-c204-11e8-ad45-a81e84e6c740\"}, {\"name\": \"\\u9a6c\\u6f47_\\u5b8c\\u6210\\u5546\\u4e1a\\u9879\\u76ee\\u6570\", \"x\": [\"9\"], \"y\": [null], \"type\": \"scatter\", \"uid\": \"7b6aa140-c204-11e8-ad45-a81e84e6c740\"}, {\"name\": \"\\u9a6c\\u6f47_\\u5b8c\\u6210\\u4e2a\\u6027\\u5316\\u6570\", \"x\": [\"9\"], \"y\": [null], \"type\": \"scatter\", \"uid\": \"7b6aa32a-c204-11e8-ad45-a81e84e6c740\"}],\n",
       "            {\"title\": \"\\u5b8c\\u6210\\u5546\\u4e1a\\u9879\\u76ee\\u6570&\\u5b8c\\u6210\\u4e2a\\u6027\\u5316\\u6570\\u6708\\u8d8b\\u52bf\\u56fe\", \"xaxis\": {\"mirror\": \"all\", \"nticks\": 20, \"showgrid\": true, \"showline\": true, \"title\": \"\\u6708\", \"zeroline\": true}, \"yaxis\": {\"mirror\": \"all\", \"nticks\": 20, \"showgrid\": true, \"showline\": true, \"title\": \"\\u5b8c\\u6210\\u5546\\u4e1a\\u9879\\u76ee\\u6570&\\u5b8c\\u6210\\u4e2a\\u6027\\u5316\\u6570\", \"zeroline\": true}},\n",
       "            {\"showLink\": true, \"linkText\": \"Export to plot.ly\"}\n",
       "        ).then(function () {return Plotly.addFrames('63ae00e0-5308-4f07-9d11-63b229414f0c',{});}).then(function(){Plotly.animate('63ae00e0-5308-4f07-9d11-63b229414f0c');})\n",
       "        });</script>"
      ]
     },
     "metadata": {},
     "output_type": "display_data"
    }
   ],
   "source": [
    "data_dict = {'完成商业项目数':['完成商业项目数'],'完成个性化数':['完成个性化数']}\n",
    "myModule.plot( all_dict_2, data_dict, '负责人','line' )"
   ]
  },
  {
   "cell_type": "markdown",
   "metadata": {},
   "source": [
    "### 个人延期项目数"
   ]
  },
  {
   "cell_type": "code",
   "execution_count": 39,
   "metadata": {},
   "outputs": [
    {
     "data": {
      "application/vnd.plotly.v1+json": {
       "data": [
        {
         "name": "封彦杰_延期商业项目数",
         "type": "scatter",
         "uid": "7bbbdff6-c204-11e8-ad45-a81e84e6c740",
         "x": [
          "9-2"
         ],
         "y": [
          0
         ]
        },
        {
         "name": "封彦杰_延期个性化项目数",
         "type": "scatter",
         "uid": "7bbbe49c-c204-11e8-ad45-a81e84e6c740",
         "x": [
          "9-2"
         ],
         "y": [
          0
         ]
        },
        {
         "name": "于慧_延期商业项目数",
         "type": "scatter",
         "uid": "7bbbe816-c204-11e8-ad45-a81e84e6c740",
         "x": [
          "9-2",
          "9-3"
         ],
         "y": [
          0,
          0
         ]
        },
        {
         "name": "于慧_延期个性化项目数",
         "type": "scatter",
         "uid": "7bbbeb54-c204-11e8-ad45-a81e84e6c740",
         "x": [
          "9-2",
          "9-3"
         ],
         "y": [
          0,
          0
         ]
        },
        {
         "name": "路慧萍_延期商业项目数",
         "type": "scatter",
         "uid": "7bbbee60-c204-11e8-ad45-a81e84e6c740",
         "x": [
          "9-2"
         ],
         "y": [
          0
         ]
        },
        {
         "name": "路慧萍_延期个性化项目数",
         "type": "scatter",
         "uid": "7bbbf158-c204-11e8-ad45-a81e84e6c740",
         "x": [
          "9-2"
         ],
         "y": [
          0
         ]
        },
        {
         "name": "于勇一_延期商业项目数",
         "type": "scatter",
         "uid": "7bbbf6a8-c204-11e8-ad45-a81e84e6c740",
         "x": [
          "9-2",
          "9-3"
         ],
         "y": [
          0,
          0
         ]
        },
        {
         "name": "于勇一_延期个性化项目数",
         "type": "scatter",
         "uid": "7bbbf96e-c204-11e8-ad45-a81e84e6c740",
         "x": [
          "9-2",
          "9-3"
         ],
         "y": [
          0,
          0
         ]
        },
        {
         "name": "刘江_延期商业项目数",
         "type": "scatter",
         "uid": "7bbbfbbc-c204-11e8-ad45-a81e84e6c740",
         "x": [
          "9-2",
          "9-3"
         ],
         "y": [
          0,
          0
         ]
        },
        {
         "name": "刘江_延期个性化项目数",
         "type": "scatter",
         "uid": "7bbbfde2-c204-11e8-ad45-a81e84e6c740",
         "x": [
          "9-2",
          "9-3"
         ],
         "y": [
          0,
          0
         ]
        },
        {
         "name": "赵玥_延期商业项目数",
         "type": "scatter",
         "uid": "7bbbffe0-c204-11e8-ad45-a81e84e6c740",
         "x": [
          "9-2"
         ],
         "y": [
          0
         ]
        },
        {
         "name": "赵玥_延期个性化项目数",
         "type": "scatter",
         "uid": "7bbc01d4-c204-11e8-ad45-a81e84e6c740",
         "x": [
          "9-2"
         ],
         "y": [
          1
         ]
        },
        {
         "name": "占伟_延期商业项目数",
         "type": "scatter",
         "uid": "7bbc03be-c204-11e8-ad45-a81e84e6c740",
         "x": [
          "9-2"
         ],
         "y": [
          0
         ]
        },
        {
         "name": "占伟_延期个性化项目数",
         "type": "scatter",
         "uid": "7bbc05c6-c204-11e8-ad45-a81e84e6c740",
         "x": [
          "9-2"
         ],
         "y": [
          0
         ]
        },
        {
         "name": "杨伟飞_延期商业项目数",
         "type": "scatter",
         "uid": "7bbc0b66-c204-11e8-ad45-a81e84e6c740",
         "x": [
          "9-2",
          "9-3"
         ],
         "y": [
          0,
          0
         ]
        },
        {
         "name": "杨伟飞_延期个性化项目数",
         "type": "scatter",
         "uid": "7bbc0f26-c204-11e8-ad45-a81e84e6c740",
         "x": [
          "9-2",
          "9-3"
         ],
         "y": [
          0,
          0
         ]
        },
        {
         "name": "苏彦勋_延期商业项目数",
         "type": "scatter",
         "uid": "7bbc1232-c204-11e8-ad45-a81e84e6c740",
         "x": [
          "9-2",
          "9-3"
         ],
         "y": [
          0,
          0
         ]
        },
        {
         "name": "苏彦勋_延期个性化项目数",
         "type": "scatter",
         "uid": "7bbc16ec-c204-11e8-ad45-a81e84e6c740",
         "x": [
          "9-2",
          "9-3"
         ],
         "y": [
          0,
          0
         ]
        },
        {
         "name": "马潇_延期商业项目数",
         "type": "scatter",
         "uid": "7bbc1994-c204-11e8-ad45-a81e84e6c740",
         "x": [
          "9-2"
         ],
         "y": [
          0
         ]
        },
        {
         "name": "马潇_延期个性化项目数",
         "type": "scatter",
         "uid": "7bbc1ba6-c204-11e8-ad45-a81e84e6c740",
         "x": [
          "9-2"
         ],
         "y": [
          0
         ]
        },
        {
         "name": "孟昊_延期商业项目数",
         "type": "scatter",
         "uid": "7bbc1d9a-c204-11e8-ad45-a81e84e6c740",
         "x": [
          "9-2"
         ],
         "y": [
          0
         ]
        },
        {
         "name": "孟昊_延期个性化项目数",
         "type": "scatter",
         "uid": "7bbc1f8e-c204-11e8-ad45-a81e84e6c740",
         "x": [
          "9-2"
         ],
         "y": [
          0
         ]
        },
        {
         "name": "李庆原_延期商业项目数",
         "type": "scatter",
         "uid": "7bbc2164-c204-11e8-ad45-a81e84e6c740",
         "x": [
          "9-2"
         ],
         "y": [
          0
         ]
        },
        {
         "name": "李庆原_延期个性化项目数",
         "type": "scatter",
         "uid": "7bbc2358-c204-11e8-ad45-a81e84e6c740",
         "x": [
          "9-2"
         ],
         "y": [
          0
         ]
        },
        {
         "name": "任雪_延期商业项目数",
         "type": "scatter",
         "uid": "7bbc2542-c204-11e8-ad45-a81e84e6c740",
         "x": [
          "9-2"
         ],
         "y": [
          0
         ]
        },
        {
         "name": "任雪_延期个性化项目数",
         "type": "scatter",
         "uid": "7bbc2722-c204-11e8-ad45-a81e84e6c740",
         "x": [
          "9-2"
         ],
         "y": [
          0
         ]
        },
        {
         "name": "李华云_延期商业项目数",
         "type": "scatter",
         "uid": "7bbc290c-c204-11e8-ad45-a81e84e6c740",
         "x": [
          "9-3"
         ],
         "y": [
          0
         ]
        },
        {
         "name": "李华云_延期个性化项目数",
         "type": "scatter",
         "uid": "7bbc2af6-c204-11e8-ad45-a81e84e6c740",
         "x": [
          "9-3"
         ],
         "y": [
          0
         ]
        },
        {
         "name": "谢德健_延期商业项目数",
         "type": "scatter",
         "uid": "7bbc2d3a-c204-11e8-ad45-a81e84e6c740",
         "x": [
          "9-3"
         ],
         "y": [
          0
         ]
        },
        {
         "name": "谢德健_延期个性化项目数",
         "type": "scatter",
         "uid": "7bbc3104-c204-11e8-ad45-a81e84e6c740",
         "x": [
          "9-3"
         ],
         "y": [
          0
         ]
        }
       ],
       "layout": {
        "title": "延期商业项目数&延期个性化项目数周趋势图",
        "xaxis": {
         "mirror": "all",
         "nticks": 20,
         "showgrid": true,
         "showline": true,
         "title": "周",
         "zeroline": true
        },
        "yaxis": {
         "mirror": "all",
         "nticks": 20,
         "showgrid": true,
         "showline": true,
         "title": "延期商业项目数&延期个性化项目数",
         "zeroline": true
        }
       }
      },
      "text/html": [
       "<div id=\"75759769-3786-4285-a931-2445ee0e1f5e\" style=\"height: 525px; width: 100%;\" class=\"plotly-graph-div\"></div><script type=\"text/javascript\">require([\"plotly\"], function(Plotly) { window.PLOTLYENV=window.PLOTLYENV || {};window.PLOTLYENV.BASE_URL=\"https://plot.ly\";\n",
       "        Plotly.plot(\n",
       "            '75759769-3786-4285-a931-2445ee0e1f5e',\n",
       "            [{\"name\": \"\\u5c01\\u5f66\\u6770_\\u5ef6\\u671f\\u5546\\u4e1a\\u9879\\u76ee\\u6570\", \"x\": [\"9-2\"], \"y\": [0.0], \"type\": \"scatter\", \"uid\": \"7bbbdff6-c204-11e8-ad45-a81e84e6c740\"}, {\"name\": \"\\u5c01\\u5f66\\u6770_\\u5ef6\\u671f\\u4e2a\\u6027\\u5316\\u9879\\u76ee\\u6570\", \"x\": [\"9-2\"], \"y\": [0.0], \"type\": \"scatter\", \"uid\": \"7bbbe49c-c204-11e8-ad45-a81e84e6c740\"}, {\"name\": \"\\u4e8e\\u6167_\\u5ef6\\u671f\\u5546\\u4e1a\\u9879\\u76ee\\u6570\", \"x\": [\"9-2\", \"9-3\"], \"y\": [0.0, 0.0], \"type\": \"scatter\", \"uid\": \"7bbbe816-c204-11e8-ad45-a81e84e6c740\"}, {\"name\": \"\\u4e8e\\u6167_\\u5ef6\\u671f\\u4e2a\\u6027\\u5316\\u9879\\u76ee\\u6570\", \"x\": [\"9-2\", \"9-3\"], \"y\": [0.0, 0.0], \"type\": \"scatter\", \"uid\": \"7bbbeb54-c204-11e8-ad45-a81e84e6c740\"}, {\"name\": \"\\u8def\\u6167\\u840d_\\u5ef6\\u671f\\u5546\\u4e1a\\u9879\\u76ee\\u6570\", \"x\": [\"9-2\"], \"y\": [0.0], \"type\": \"scatter\", \"uid\": \"7bbbee60-c204-11e8-ad45-a81e84e6c740\"}, {\"name\": \"\\u8def\\u6167\\u840d_\\u5ef6\\u671f\\u4e2a\\u6027\\u5316\\u9879\\u76ee\\u6570\", \"x\": [\"9-2\"], \"y\": [0.0], \"type\": \"scatter\", \"uid\": \"7bbbf158-c204-11e8-ad45-a81e84e6c740\"}, {\"name\": \"\\u4e8e\\u52c7\\u4e00_\\u5ef6\\u671f\\u5546\\u4e1a\\u9879\\u76ee\\u6570\", \"x\": [\"9-2\", \"9-3\"], \"y\": [0.0, 0.0], \"type\": \"scatter\", \"uid\": \"7bbbf6a8-c204-11e8-ad45-a81e84e6c740\"}, {\"name\": \"\\u4e8e\\u52c7\\u4e00_\\u5ef6\\u671f\\u4e2a\\u6027\\u5316\\u9879\\u76ee\\u6570\", \"x\": [\"9-2\", \"9-3\"], \"y\": [0.0, 0.0], \"type\": \"scatter\", \"uid\": \"7bbbf96e-c204-11e8-ad45-a81e84e6c740\"}, {\"name\": \"\\u5218\\u6c5f_\\u5ef6\\u671f\\u5546\\u4e1a\\u9879\\u76ee\\u6570\", \"x\": [\"9-2\", \"9-3\"], \"y\": [0.0, 0.0], \"type\": \"scatter\", \"uid\": \"7bbbfbbc-c204-11e8-ad45-a81e84e6c740\"}, {\"name\": \"\\u5218\\u6c5f_\\u5ef6\\u671f\\u4e2a\\u6027\\u5316\\u9879\\u76ee\\u6570\", \"x\": [\"9-2\", \"9-3\"], \"y\": [0.0, 0.0], \"type\": \"scatter\", \"uid\": \"7bbbfde2-c204-11e8-ad45-a81e84e6c740\"}, {\"name\": \"\\u8d75\\u73a5_\\u5ef6\\u671f\\u5546\\u4e1a\\u9879\\u76ee\\u6570\", \"x\": [\"9-2\"], \"y\": [0.0], \"type\": \"scatter\", \"uid\": \"7bbbffe0-c204-11e8-ad45-a81e84e6c740\"}, {\"name\": \"\\u8d75\\u73a5_\\u5ef6\\u671f\\u4e2a\\u6027\\u5316\\u9879\\u76ee\\u6570\", \"x\": [\"9-2\"], \"y\": [1.0], \"type\": \"scatter\", \"uid\": \"7bbc01d4-c204-11e8-ad45-a81e84e6c740\"}, {\"name\": \"\\u5360\\u4f1f_\\u5ef6\\u671f\\u5546\\u4e1a\\u9879\\u76ee\\u6570\", \"x\": [\"9-2\"], \"y\": [0.0], \"type\": \"scatter\", \"uid\": \"7bbc03be-c204-11e8-ad45-a81e84e6c740\"}, {\"name\": \"\\u5360\\u4f1f_\\u5ef6\\u671f\\u4e2a\\u6027\\u5316\\u9879\\u76ee\\u6570\", \"x\": [\"9-2\"], \"y\": [0.0], \"type\": \"scatter\", \"uid\": \"7bbc05c6-c204-11e8-ad45-a81e84e6c740\"}, {\"name\": \"\\u6768\\u4f1f\\u98de_\\u5ef6\\u671f\\u5546\\u4e1a\\u9879\\u76ee\\u6570\", \"x\": [\"9-2\", \"9-3\"], \"y\": [0.0, 0.0], \"type\": \"scatter\", \"uid\": \"7bbc0b66-c204-11e8-ad45-a81e84e6c740\"}, {\"name\": \"\\u6768\\u4f1f\\u98de_\\u5ef6\\u671f\\u4e2a\\u6027\\u5316\\u9879\\u76ee\\u6570\", \"x\": [\"9-2\", \"9-3\"], \"y\": [0.0, 0.0], \"type\": \"scatter\", \"uid\": \"7bbc0f26-c204-11e8-ad45-a81e84e6c740\"}, {\"name\": \"\\u82cf\\u5f66\\u52cb_\\u5ef6\\u671f\\u5546\\u4e1a\\u9879\\u76ee\\u6570\", \"x\": [\"9-2\", \"9-3\"], \"y\": [0.0, 0.0], \"type\": \"scatter\", \"uid\": \"7bbc1232-c204-11e8-ad45-a81e84e6c740\"}, {\"name\": \"\\u82cf\\u5f66\\u52cb_\\u5ef6\\u671f\\u4e2a\\u6027\\u5316\\u9879\\u76ee\\u6570\", \"x\": [\"9-2\", \"9-3\"], \"y\": [0.0, 0.0], \"type\": \"scatter\", \"uid\": \"7bbc16ec-c204-11e8-ad45-a81e84e6c740\"}, {\"name\": \"\\u9a6c\\u6f47_\\u5ef6\\u671f\\u5546\\u4e1a\\u9879\\u76ee\\u6570\", \"x\": [\"9-2\"], \"y\": [0.0], \"type\": \"scatter\", \"uid\": \"7bbc1994-c204-11e8-ad45-a81e84e6c740\"}, {\"name\": \"\\u9a6c\\u6f47_\\u5ef6\\u671f\\u4e2a\\u6027\\u5316\\u9879\\u76ee\\u6570\", \"x\": [\"9-2\"], \"y\": [0.0], \"type\": \"scatter\", \"uid\": \"7bbc1ba6-c204-11e8-ad45-a81e84e6c740\"}, {\"name\": \"\\u5b5f\\u660a_\\u5ef6\\u671f\\u5546\\u4e1a\\u9879\\u76ee\\u6570\", \"x\": [\"9-2\"], \"y\": [0.0], \"type\": \"scatter\", \"uid\": \"7bbc1d9a-c204-11e8-ad45-a81e84e6c740\"}, {\"name\": \"\\u5b5f\\u660a_\\u5ef6\\u671f\\u4e2a\\u6027\\u5316\\u9879\\u76ee\\u6570\", \"x\": [\"9-2\"], \"y\": [0.0], \"type\": \"scatter\", \"uid\": \"7bbc1f8e-c204-11e8-ad45-a81e84e6c740\"}, {\"name\": \"\\u674e\\u5e86\\u539f_\\u5ef6\\u671f\\u5546\\u4e1a\\u9879\\u76ee\\u6570\", \"x\": [\"9-2\"], \"y\": [0.0], \"type\": \"scatter\", \"uid\": \"7bbc2164-c204-11e8-ad45-a81e84e6c740\"}, {\"name\": \"\\u674e\\u5e86\\u539f_\\u5ef6\\u671f\\u4e2a\\u6027\\u5316\\u9879\\u76ee\\u6570\", \"x\": [\"9-2\"], \"y\": [0.0], \"type\": \"scatter\", \"uid\": \"7bbc2358-c204-11e8-ad45-a81e84e6c740\"}, {\"name\": \"\\u4efb\\u96ea_\\u5ef6\\u671f\\u5546\\u4e1a\\u9879\\u76ee\\u6570\", \"x\": [\"9-2\"], \"y\": [0.0], \"type\": \"scatter\", \"uid\": \"7bbc2542-c204-11e8-ad45-a81e84e6c740\"}, {\"name\": \"\\u4efb\\u96ea_\\u5ef6\\u671f\\u4e2a\\u6027\\u5316\\u9879\\u76ee\\u6570\", \"x\": [\"9-2\"], \"y\": [0.0], \"type\": \"scatter\", \"uid\": \"7bbc2722-c204-11e8-ad45-a81e84e6c740\"}, {\"name\": \"\\u674e\\u534e\\u4e91_\\u5ef6\\u671f\\u5546\\u4e1a\\u9879\\u76ee\\u6570\", \"x\": [\"9-3\"], \"y\": [0.0], \"type\": \"scatter\", \"uid\": \"7bbc290c-c204-11e8-ad45-a81e84e6c740\"}, {\"name\": \"\\u674e\\u534e\\u4e91_\\u5ef6\\u671f\\u4e2a\\u6027\\u5316\\u9879\\u76ee\\u6570\", \"x\": [\"9-3\"], \"y\": [0.0], \"type\": \"scatter\", \"uid\": \"7bbc2af6-c204-11e8-ad45-a81e84e6c740\"}, {\"name\": \"\\u8c22\\u5fb7\\u5065_\\u5ef6\\u671f\\u5546\\u4e1a\\u9879\\u76ee\\u6570\", \"x\": [\"9-3\"], \"y\": [0.0], \"type\": \"scatter\", \"uid\": \"7bbc2d3a-c204-11e8-ad45-a81e84e6c740\"}, {\"name\": \"\\u8c22\\u5fb7\\u5065_\\u5ef6\\u671f\\u4e2a\\u6027\\u5316\\u9879\\u76ee\\u6570\", \"x\": [\"9-3\"], \"y\": [0.0], \"type\": \"scatter\", \"uid\": \"7bbc3104-c204-11e8-ad45-a81e84e6c740\"}],\n",
       "            {\"title\": \"\\u5ef6\\u671f\\u5546\\u4e1a\\u9879\\u76ee\\u6570&\\u5ef6\\u671f\\u4e2a\\u6027\\u5316\\u9879\\u76ee\\u6570\\u5468\\u8d8b\\u52bf\\u56fe\", \"xaxis\": {\"mirror\": \"all\", \"nticks\": 20, \"showgrid\": true, \"showline\": true, \"title\": \"\\u5468\", \"zeroline\": true}, \"yaxis\": {\"mirror\": \"all\", \"nticks\": 20, \"showgrid\": true, \"showline\": true, \"title\": \"\\u5ef6\\u671f\\u5546\\u4e1a\\u9879\\u76ee\\u6570&\\u5ef6\\u671f\\u4e2a\\u6027\\u5316\\u9879\\u76ee\\u6570\", \"zeroline\": true}},\n",
       "            {\"showLink\": true, \"linkText\": \"Export to plot.ly\"}\n",
       "        ).then(function () {return Plotly.addFrames('75759769-3786-4285-a931-2445ee0e1f5e',{});}).then(function(){Plotly.animate('75759769-3786-4285-a931-2445ee0e1f5e');})\n",
       "        });</script>"
      ],
      "text/vnd.plotly.v1+html": [
       "<div id=\"75759769-3786-4285-a931-2445ee0e1f5e\" style=\"height: 525px; width: 100%;\" class=\"plotly-graph-div\"></div><script type=\"text/javascript\">require([\"plotly\"], function(Plotly) { window.PLOTLYENV=window.PLOTLYENV || {};window.PLOTLYENV.BASE_URL=\"https://plot.ly\";\n",
       "        Plotly.plot(\n",
       "            '75759769-3786-4285-a931-2445ee0e1f5e',\n",
       "            [{\"name\": \"\\u5c01\\u5f66\\u6770_\\u5ef6\\u671f\\u5546\\u4e1a\\u9879\\u76ee\\u6570\", \"x\": [\"9-2\"], \"y\": [0.0], \"type\": \"scatter\", \"uid\": \"7bbbdff6-c204-11e8-ad45-a81e84e6c740\"}, {\"name\": \"\\u5c01\\u5f66\\u6770_\\u5ef6\\u671f\\u4e2a\\u6027\\u5316\\u9879\\u76ee\\u6570\", \"x\": [\"9-2\"], \"y\": [0.0], \"type\": \"scatter\", \"uid\": \"7bbbe49c-c204-11e8-ad45-a81e84e6c740\"}, {\"name\": \"\\u4e8e\\u6167_\\u5ef6\\u671f\\u5546\\u4e1a\\u9879\\u76ee\\u6570\", \"x\": [\"9-2\", \"9-3\"], \"y\": [0.0, 0.0], \"type\": \"scatter\", \"uid\": \"7bbbe816-c204-11e8-ad45-a81e84e6c740\"}, {\"name\": \"\\u4e8e\\u6167_\\u5ef6\\u671f\\u4e2a\\u6027\\u5316\\u9879\\u76ee\\u6570\", \"x\": [\"9-2\", \"9-3\"], \"y\": [0.0, 0.0], \"type\": \"scatter\", \"uid\": \"7bbbeb54-c204-11e8-ad45-a81e84e6c740\"}, {\"name\": \"\\u8def\\u6167\\u840d_\\u5ef6\\u671f\\u5546\\u4e1a\\u9879\\u76ee\\u6570\", \"x\": [\"9-2\"], \"y\": [0.0], \"type\": \"scatter\", \"uid\": \"7bbbee60-c204-11e8-ad45-a81e84e6c740\"}, {\"name\": \"\\u8def\\u6167\\u840d_\\u5ef6\\u671f\\u4e2a\\u6027\\u5316\\u9879\\u76ee\\u6570\", \"x\": [\"9-2\"], \"y\": [0.0], \"type\": \"scatter\", \"uid\": \"7bbbf158-c204-11e8-ad45-a81e84e6c740\"}, {\"name\": \"\\u4e8e\\u52c7\\u4e00_\\u5ef6\\u671f\\u5546\\u4e1a\\u9879\\u76ee\\u6570\", \"x\": [\"9-2\", \"9-3\"], \"y\": [0.0, 0.0], \"type\": \"scatter\", \"uid\": \"7bbbf6a8-c204-11e8-ad45-a81e84e6c740\"}, {\"name\": \"\\u4e8e\\u52c7\\u4e00_\\u5ef6\\u671f\\u4e2a\\u6027\\u5316\\u9879\\u76ee\\u6570\", \"x\": [\"9-2\", \"9-3\"], \"y\": [0.0, 0.0], \"type\": \"scatter\", \"uid\": \"7bbbf96e-c204-11e8-ad45-a81e84e6c740\"}, {\"name\": \"\\u5218\\u6c5f_\\u5ef6\\u671f\\u5546\\u4e1a\\u9879\\u76ee\\u6570\", \"x\": [\"9-2\", \"9-3\"], \"y\": [0.0, 0.0], \"type\": \"scatter\", \"uid\": \"7bbbfbbc-c204-11e8-ad45-a81e84e6c740\"}, {\"name\": \"\\u5218\\u6c5f_\\u5ef6\\u671f\\u4e2a\\u6027\\u5316\\u9879\\u76ee\\u6570\", \"x\": [\"9-2\", \"9-3\"], \"y\": [0.0, 0.0], \"type\": \"scatter\", \"uid\": \"7bbbfde2-c204-11e8-ad45-a81e84e6c740\"}, {\"name\": \"\\u8d75\\u73a5_\\u5ef6\\u671f\\u5546\\u4e1a\\u9879\\u76ee\\u6570\", \"x\": [\"9-2\"], \"y\": [0.0], \"type\": \"scatter\", \"uid\": \"7bbbffe0-c204-11e8-ad45-a81e84e6c740\"}, {\"name\": \"\\u8d75\\u73a5_\\u5ef6\\u671f\\u4e2a\\u6027\\u5316\\u9879\\u76ee\\u6570\", \"x\": [\"9-2\"], \"y\": [1.0], \"type\": \"scatter\", \"uid\": \"7bbc01d4-c204-11e8-ad45-a81e84e6c740\"}, {\"name\": \"\\u5360\\u4f1f_\\u5ef6\\u671f\\u5546\\u4e1a\\u9879\\u76ee\\u6570\", \"x\": [\"9-2\"], \"y\": [0.0], \"type\": \"scatter\", \"uid\": \"7bbc03be-c204-11e8-ad45-a81e84e6c740\"}, {\"name\": \"\\u5360\\u4f1f_\\u5ef6\\u671f\\u4e2a\\u6027\\u5316\\u9879\\u76ee\\u6570\", \"x\": [\"9-2\"], \"y\": [0.0], \"type\": \"scatter\", \"uid\": \"7bbc05c6-c204-11e8-ad45-a81e84e6c740\"}, {\"name\": \"\\u6768\\u4f1f\\u98de_\\u5ef6\\u671f\\u5546\\u4e1a\\u9879\\u76ee\\u6570\", \"x\": [\"9-2\", \"9-3\"], \"y\": [0.0, 0.0], \"type\": \"scatter\", \"uid\": \"7bbc0b66-c204-11e8-ad45-a81e84e6c740\"}, {\"name\": \"\\u6768\\u4f1f\\u98de_\\u5ef6\\u671f\\u4e2a\\u6027\\u5316\\u9879\\u76ee\\u6570\", \"x\": [\"9-2\", \"9-3\"], \"y\": [0.0, 0.0], \"type\": \"scatter\", \"uid\": \"7bbc0f26-c204-11e8-ad45-a81e84e6c740\"}, {\"name\": \"\\u82cf\\u5f66\\u52cb_\\u5ef6\\u671f\\u5546\\u4e1a\\u9879\\u76ee\\u6570\", \"x\": [\"9-2\", \"9-3\"], \"y\": [0.0, 0.0], \"type\": \"scatter\", \"uid\": \"7bbc1232-c204-11e8-ad45-a81e84e6c740\"}, {\"name\": \"\\u82cf\\u5f66\\u52cb_\\u5ef6\\u671f\\u4e2a\\u6027\\u5316\\u9879\\u76ee\\u6570\", \"x\": [\"9-2\", \"9-3\"], \"y\": [0.0, 0.0], \"type\": \"scatter\", \"uid\": \"7bbc16ec-c204-11e8-ad45-a81e84e6c740\"}, {\"name\": \"\\u9a6c\\u6f47_\\u5ef6\\u671f\\u5546\\u4e1a\\u9879\\u76ee\\u6570\", \"x\": [\"9-2\"], \"y\": [0.0], \"type\": \"scatter\", \"uid\": \"7bbc1994-c204-11e8-ad45-a81e84e6c740\"}, {\"name\": \"\\u9a6c\\u6f47_\\u5ef6\\u671f\\u4e2a\\u6027\\u5316\\u9879\\u76ee\\u6570\", \"x\": [\"9-2\"], \"y\": [0.0], \"type\": \"scatter\", \"uid\": \"7bbc1ba6-c204-11e8-ad45-a81e84e6c740\"}, {\"name\": \"\\u5b5f\\u660a_\\u5ef6\\u671f\\u5546\\u4e1a\\u9879\\u76ee\\u6570\", \"x\": [\"9-2\"], \"y\": [0.0], \"type\": \"scatter\", \"uid\": \"7bbc1d9a-c204-11e8-ad45-a81e84e6c740\"}, {\"name\": \"\\u5b5f\\u660a_\\u5ef6\\u671f\\u4e2a\\u6027\\u5316\\u9879\\u76ee\\u6570\", \"x\": [\"9-2\"], \"y\": [0.0], \"type\": \"scatter\", \"uid\": \"7bbc1f8e-c204-11e8-ad45-a81e84e6c740\"}, {\"name\": \"\\u674e\\u5e86\\u539f_\\u5ef6\\u671f\\u5546\\u4e1a\\u9879\\u76ee\\u6570\", \"x\": [\"9-2\"], \"y\": [0.0], \"type\": \"scatter\", \"uid\": \"7bbc2164-c204-11e8-ad45-a81e84e6c740\"}, {\"name\": \"\\u674e\\u5e86\\u539f_\\u5ef6\\u671f\\u4e2a\\u6027\\u5316\\u9879\\u76ee\\u6570\", \"x\": [\"9-2\"], \"y\": [0.0], \"type\": \"scatter\", \"uid\": \"7bbc2358-c204-11e8-ad45-a81e84e6c740\"}, {\"name\": \"\\u4efb\\u96ea_\\u5ef6\\u671f\\u5546\\u4e1a\\u9879\\u76ee\\u6570\", \"x\": [\"9-2\"], \"y\": [0.0], \"type\": \"scatter\", \"uid\": \"7bbc2542-c204-11e8-ad45-a81e84e6c740\"}, {\"name\": \"\\u4efb\\u96ea_\\u5ef6\\u671f\\u4e2a\\u6027\\u5316\\u9879\\u76ee\\u6570\", \"x\": [\"9-2\"], \"y\": [0.0], \"type\": \"scatter\", \"uid\": \"7bbc2722-c204-11e8-ad45-a81e84e6c740\"}, {\"name\": \"\\u674e\\u534e\\u4e91_\\u5ef6\\u671f\\u5546\\u4e1a\\u9879\\u76ee\\u6570\", \"x\": [\"9-3\"], \"y\": [0.0], \"type\": \"scatter\", \"uid\": \"7bbc290c-c204-11e8-ad45-a81e84e6c740\"}, {\"name\": \"\\u674e\\u534e\\u4e91_\\u5ef6\\u671f\\u4e2a\\u6027\\u5316\\u9879\\u76ee\\u6570\", \"x\": [\"9-3\"], \"y\": [0.0], \"type\": \"scatter\", \"uid\": \"7bbc2af6-c204-11e8-ad45-a81e84e6c740\"}, {\"name\": \"\\u8c22\\u5fb7\\u5065_\\u5ef6\\u671f\\u5546\\u4e1a\\u9879\\u76ee\\u6570\", \"x\": [\"9-3\"], \"y\": [0.0], \"type\": \"scatter\", \"uid\": \"7bbc2d3a-c204-11e8-ad45-a81e84e6c740\"}, {\"name\": \"\\u8c22\\u5fb7\\u5065_\\u5ef6\\u671f\\u4e2a\\u6027\\u5316\\u9879\\u76ee\\u6570\", \"x\": [\"9-3\"], \"y\": [0.0], \"type\": \"scatter\", \"uid\": \"7bbc3104-c204-11e8-ad45-a81e84e6c740\"}],\n",
       "            {\"title\": \"\\u5ef6\\u671f\\u5546\\u4e1a\\u9879\\u76ee\\u6570&\\u5ef6\\u671f\\u4e2a\\u6027\\u5316\\u9879\\u76ee\\u6570\\u5468\\u8d8b\\u52bf\\u56fe\", \"xaxis\": {\"mirror\": \"all\", \"nticks\": 20, \"showgrid\": true, \"showline\": true, \"title\": \"\\u5468\", \"zeroline\": true}, \"yaxis\": {\"mirror\": \"all\", \"nticks\": 20, \"showgrid\": true, \"showline\": true, \"title\": \"\\u5ef6\\u671f\\u5546\\u4e1a\\u9879\\u76ee\\u6570&\\u5ef6\\u671f\\u4e2a\\u6027\\u5316\\u9879\\u76ee\\u6570\", \"zeroline\": true}},\n",
       "            {\"showLink\": true, \"linkText\": \"Export to plot.ly\"}\n",
       "        ).then(function () {return Plotly.addFrames('75759769-3786-4285-a931-2445ee0e1f5e',{});}).then(function(){Plotly.animate('75759769-3786-4285-a931-2445ee0e1f5e');})\n",
       "        });</script>"
      ]
     },
     "metadata": {},
     "output_type": "display_data"
    },
    {
     "data": {
      "application/vnd.plotly.v1+json": {
       "data": [
        {
         "name": "于勇一_延期商业项目数",
         "type": "scatter",
         "uid": "7c01fb1c-c204-11e8-ad45-a81e84e6c740",
         "x": [
          "9"
         ],
         "y": [
          0
         ]
        },
        {
         "name": "于勇一_延期个性化项目数",
         "type": "scatter",
         "uid": "7c01ffb8-c204-11e8-ad45-a81e84e6c740",
         "x": [
          "9"
         ],
         "y": [
          0
         ]
        },
        {
         "name": "于慧_延期商业项目数",
         "type": "scatter",
         "uid": "7c0202e2-c204-11e8-ad45-a81e84e6c740",
         "x": [
          "9"
         ],
         "y": [
          0
         ]
        },
        {
         "name": "于慧_延期个性化项目数",
         "type": "scatter",
         "uid": "7c02072e-c204-11e8-ad45-a81e84e6c740",
         "x": [
          "9"
         ],
         "y": [
          0
         ]
        },
        {
         "name": "任雪_延期商业项目数",
         "type": "scatter",
         "uid": "7c020abc-c204-11e8-ad45-a81e84e6c740",
         "x": [
          "9"
         ],
         "y": [
          null
         ]
        },
        {
         "name": "任雪_延期个性化项目数",
         "type": "scatter",
         "uid": "7c020db4-c204-11e8-ad45-a81e84e6c740",
         "x": [
          "9"
         ],
         "y": [
          null
         ]
        },
        {
         "name": "刘江_延期商业项目数",
         "type": "scatter",
         "uid": "7c02108e-c204-11e8-ad45-a81e84e6c740",
         "x": [
          "9"
         ],
         "y": [
          0
         ]
        },
        {
         "name": "刘江_延期个性化项目数",
         "type": "scatter",
         "uid": "7c021354-c204-11e8-ad45-a81e84e6c740",
         "x": [
          "9"
         ],
         "y": [
          0
         ]
        },
        {
         "name": "占伟_延期商业项目数",
         "type": "scatter",
         "uid": "7c021606-c204-11e8-ad45-a81e84e6c740",
         "x": [
          "9"
         ],
         "y": [
          null
         ]
        },
        {
         "name": "占伟_延期个性化项目数",
         "type": "scatter",
         "uid": "7c0218c2-c204-11e8-ad45-a81e84e6c740",
         "x": [
          "9"
         ],
         "y": [
          null
         ]
        },
        {
         "name": "孟昊_延期商业项目数",
         "type": "scatter",
         "uid": "7c021b7e-c204-11e8-ad45-a81e84e6c740",
         "x": [
          "9"
         ],
         "y": [
          null
         ]
        },
        {
         "name": "孟昊_延期个性化项目数",
         "type": "scatter",
         "uid": "7c021e4e-c204-11e8-ad45-a81e84e6c740",
         "x": [
          "9"
         ],
         "y": [
          null
         ]
        },
        {
         "name": "封彦杰_延期商业项目数",
         "type": "scatter",
         "uid": "7c022114-c204-11e8-ad45-a81e84e6c740",
         "x": [
          "9"
         ],
         "y": [
          null
         ]
        },
        {
         "name": "封彦杰_延期个性化项目数",
         "type": "scatter",
         "uid": "7c0223d0-c204-11e8-ad45-a81e84e6c740",
         "x": [
          "9"
         ],
         "y": [
          null
         ]
        },
        {
         "name": "李华云_延期商业项目数",
         "type": "scatter",
         "uid": "7c0226aa-c204-11e8-ad45-a81e84e6c740",
         "x": [
          "9"
         ],
         "y": [
          null
         ]
        },
        {
         "name": "李华云_延期个性化项目数",
         "type": "scatter",
         "uid": "7c022984-c204-11e8-ad45-a81e84e6c740",
         "x": [
          "9"
         ],
         "y": [
          null
         ]
        },
        {
         "name": "李庆原_延期商业项目数",
         "type": "scatter",
         "uid": "7c022da8-c204-11e8-ad45-a81e84e6c740",
         "x": [
          "9"
         ],
         "y": [
          null
         ]
        },
        {
         "name": "李庆原_延期个性化项目数",
         "type": "scatter",
         "uid": "7c023064-c204-11e8-ad45-a81e84e6c740",
         "x": [
          "9"
         ],
         "y": [
          null
         ]
        },
        {
         "name": "杨伟飞_延期商业项目数",
         "type": "scatter",
         "uid": "7c02332a-c204-11e8-ad45-a81e84e6c740",
         "x": [
          "9"
         ],
         "y": [
          0
         ]
        },
        {
         "name": "杨伟飞_延期个性化项目数",
         "type": "scatter",
         "uid": "7c0235dc-c204-11e8-ad45-a81e84e6c740",
         "x": [
          "9"
         ],
         "y": [
          0
         ]
        },
        {
         "name": "苏彦勋_延期商业项目数",
         "type": "scatter",
         "uid": "7c0238a2-c204-11e8-ad45-a81e84e6c740",
         "x": [
          "9"
         ],
         "y": [
          0
         ]
        },
        {
         "name": "苏彦勋_延期个性化项目数",
         "type": "scatter",
         "uid": "7c023b68-c204-11e8-ad45-a81e84e6c740",
         "x": [
          "9"
         ],
         "y": [
          0
         ]
        },
        {
         "name": "谢德健_延期商业项目数",
         "type": "scatter",
         "uid": "7c023e24-c204-11e8-ad45-a81e84e6c740",
         "x": [
          "9"
         ],
         "y": [
          null
         ]
        },
        {
         "name": "谢德健_延期个性化项目数",
         "type": "scatter",
         "uid": "7c0240ea-c204-11e8-ad45-a81e84e6c740",
         "x": [
          "9"
         ],
         "y": [
          null
         ]
        },
        {
         "name": "赵玥_延期商业项目数",
         "type": "scatter",
         "uid": "7c0243ce-c204-11e8-ad45-a81e84e6c740",
         "x": [
          "9"
         ],
         "y": [
          null
         ]
        },
        {
         "name": "赵玥_延期个性化项目数",
         "type": "scatter",
         "uid": "7c0246b2-c204-11e8-ad45-a81e84e6c740",
         "x": [
          "9"
         ],
         "y": [
          null
         ]
        },
        {
         "name": "路慧萍_延期商业项目数",
         "type": "scatter",
         "uid": "7c024978-c204-11e8-ad45-a81e84e6c740",
         "x": [
          "9"
         ],
         "y": [
          null
         ]
        },
        {
         "name": "路慧萍_延期个性化项目数",
         "type": "scatter",
         "uid": "7c024c2a-c204-11e8-ad45-a81e84e6c740",
         "x": [
          "9"
         ],
         "y": [
          null
         ]
        },
        {
         "name": "马潇_延期商业项目数",
         "type": "scatter",
         "uid": "7c024efa-c204-11e8-ad45-a81e84e6c740",
         "x": [
          "9"
         ],
         "y": [
          null
         ]
        },
        {
         "name": "马潇_延期个性化项目数",
         "type": "scatter",
         "uid": "7c0252a6-c204-11e8-ad45-a81e84e6c740",
         "x": [
          "9"
         ],
         "y": [
          null
         ]
        }
       ],
       "layout": {
        "title": "延期商业项目数&延期个性化项目数月趋势图",
        "xaxis": {
         "mirror": "all",
         "nticks": 20,
         "showgrid": true,
         "showline": true,
         "title": "月",
         "zeroline": true
        },
        "yaxis": {
         "mirror": "all",
         "nticks": 20,
         "showgrid": true,
         "showline": true,
         "title": "延期商业项目数&延期个性化项目数",
         "zeroline": true
        }
       }
      },
      "text/html": [
       "<div id=\"bc1b4c07-3e82-4190-b4b2-fe9f117eea45\" style=\"height: 525px; width: 100%;\" class=\"plotly-graph-div\"></div><script type=\"text/javascript\">require([\"plotly\"], function(Plotly) { window.PLOTLYENV=window.PLOTLYENV || {};window.PLOTLYENV.BASE_URL=\"https://plot.ly\";\n",
       "        Plotly.plot(\n",
       "            'bc1b4c07-3e82-4190-b4b2-fe9f117eea45',\n",
       "            [{\"name\": \"\\u4e8e\\u52c7\\u4e00_\\u5ef6\\u671f\\u5546\\u4e1a\\u9879\\u76ee\\u6570\", \"x\": [\"9\"], \"y\": [0.0], \"type\": \"scatter\", \"uid\": \"7c01fb1c-c204-11e8-ad45-a81e84e6c740\"}, {\"name\": \"\\u4e8e\\u52c7\\u4e00_\\u5ef6\\u671f\\u4e2a\\u6027\\u5316\\u9879\\u76ee\\u6570\", \"x\": [\"9\"], \"y\": [0.0], \"type\": \"scatter\", \"uid\": \"7c01ffb8-c204-11e8-ad45-a81e84e6c740\"}, {\"name\": \"\\u4e8e\\u6167_\\u5ef6\\u671f\\u5546\\u4e1a\\u9879\\u76ee\\u6570\", \"x\": [\"9\"], \"y\": [0.0], \"type\": \"scatter\", \"uid\": \"7c0202e2-c204-11e8-ad45-a81e84e6c740\"}, {\"name\": \"\\u4e8e\\u6167_\\u5ef6\\u671f\\u4e2a\\u6027\\u5316\\u9879\\u76ee\\u6570\", \"x\": [\"9\"], \"y\": [0.0], \"type\": \"scatter\", \"uid\": \"7c02072e-c204-11e8-ad45-a81e84e6c740\"}, {\"name\": \"\\u4efb\\u96ea_\\u5ef6\\u671f\\u5546\\u4e1a\\u9879\\u76ee\\u6570\", \"x\": [\"9\"], \"y\": [null], \"type\": \"scatter\", \"uid\": \"7c020abc-c204-11e8-ad45-a81e84e6c740\"}, {\"name\": \"\\u4efb\\u96ea_\\u5ef6\\u671f\\u4e2a\\u6027\\u5316\\u9879\\u76ee\\u6570\", \"x\": [\"9\"], \"y\": [null], \"type\": \"scatter\", \"uid\": \"7c020db4-c204-11e8-ad45-a81e84e6c740\"}, {\"name\": \"\\u5218\\u6c5f_\\u5ef6\\u671f\\u5546\\u4e1a\\u9879\\u76ee\\u6570\", \"x\": [\"9\"], \"y\": [0.0], \"type\": \"scatter\", \"uid\": \"7c02108e-c204-11e8-ad45-a81e84e6c740\"}, {\"name\": \"\\u5218\\u6c5f_\\u5ef6\\u671f\\u4e2a\\u6027\\u5316\\u9879\\u76ee\\u6570\", \"x\": [\"9\"], \"y\": [0.0], \"type\": \"scatter\", \"uid\": \"7c021354-c204-11e8-ad45-a81e84e6c740\"}, {\"name\": \"\\u5360\\u4f1f_\\u5ef6\\u671f\\u5546\\u4e1a\\u9879\\u76ee\\u6570\", \"x\": [\"9\"], \"y\": [null], \"type\": \"scatter\", \"uid\": \"7c021606-c204-11e8-ad45-a81e84e6c740\"}, {\"name\": \"\\u5360\\u4f1f_\\u5ef6\\u671f\\u4e2a\\u6027\\u5316\\u9879\\u76ee\\u6570\", \"x\": [\"9\"], \"y\": [null], \"type\": \"scatter\", \"uid\": \"7c0218c2-c204-11e8-ad45-a81e84e6c740\"}, {\"name\": \"\\u5b5f\\u660a_\\u5ef6\\u671f\\u5546\\u4e1a\\u9879\\u76ee\\u6570\", \"x\": [\"9\"], \"y\": [null], \"type\": \"scatter\", \"uid\": \"7c021b7e-c204-11e8-ad45-a81e84e6c740\"}, {\"name\": \"\\u5b5f\\u660a_\\u5ef6\\u671f\\u4e2a\\u6027\\u5316\\u9879\\u76ee\\u6570\", \"x\": [\"9\"], \"y\": [null], \"type\": \"scatter\", \"uid\": \"7c021e4e-c204-11e8-ad45-a81e84e6c740\"}, {\"name\": \"\\u5c01\\u5f66\\u6770_\\u5ef6\\u671f\\u5546\\u4e1a\\u9879\\u76ee\\u6570\", \"x\": [\"9\"], \"y\": [null], \"type\": \"scatter\", \"uid\": \"7c022114-c204-11e8-ad45-a81e84e6c740\"}, {\"name\": \"\\u5c01\\u5f66\\u6770_\\u5ef6\\u671f\\u4e2a\\u6027\\u5316\\u9879\\u76ee\\u6570\", \"x\": [\"9\"], \"y\": [null], \"type\": \"scatter\", \"uid\": \"7c0223d0-c204-11e8-ad45-a81e84e6c740\"}, {\"name\": \"\\u674e\\u534e\\u4e91_\\u5ef6\\u671f\\u5546\\u4e1a\\u9879\\u76ee\\u6570\", \"x\": [\"9\"], \"y\": [null], \"type\": \"scatter\", \"uid\": \"7c0226aa-c204-11e8-ad45-a81e84e6c740\"}, {\"name\": \"\\u674e\\u534e\\u4e91_\\u5ef6\\u671f\\u4e2a\\u6027\\u5316\\u9879\\u76ee\\u6570\", \"x\": [\"9\"], \"y\": [null], \"type\": \"scatter\", \"uid\": \"7c022984-c204-11e8-ad45-a81e84e6c740\"}, {\"name\": \"\\u674e\\u5e86\\u539f_\\u5ef6\\u671f\\u5546\\u4e1a\\u9879\\u76ee\\u6570\", \"x\": [\"9\"], \"y\": [null], \"type\": \"scatter\", \"uid\": \"7c022da8-c204-11e8-ad45-a81e84e6c740\"}, {\"name\": \"\\u674e\\u5e86\\u539f_\\u5ef6\\u671f\\u4e2a\\u6027\\u5316\\u9879\\u76ee\\u6570\", \"x\": [\"9\"], \"y\": [null], \"type\": \"scatter\", \"uid\": \"7c023064-c204-11e8-ad45-a81e84e6c740\"}, {\"name\": \"\\u6768\\u4f1f\\u98de_\\u5ef6\\u671f\\u5546\\u4e1a\\u9879\\u76ee\\u6570\", \"x\": [\"9\"], \"y\": [0.0], \"type\": \"scatter\", \"uid\": \"7c02332a-c204-11e8-ad45-a81e84e6c740\"}, {\"name\": \"\\u6768\\u4f1f\\u98de_\\u5ef6\\u671f\\u4e2a\\u6027\\u5316\\u9879\\u76ee\\u6570\", \"x\": [\"9\"], \"y\": [0.0], \"type\": \"scatter\", \"uid\": \"7c0235dc-c204-11e8-ad45-a81e84e6c740\"}, {\"name\": \"\\u82cf\\u5f66\\u52cb_\\u5ef6\\u671f\\u5546\\u4e1a\\u9879\\u76ee\\u6570\", \"x\": [\"9\"], \"y\": [0.0], \"type\": \"scatter\", \"uid\": \"7c0238a2-c204-11e8-ad45-a81e84e6c740\"}, {\"name\": \"\\u82cf\\u5f66\\u52cb_\\u5ef6\\u671f\\u4e2a\\u6027\\u5316\\u9879\\u76ee\\u6570\", \"x\": [\"9\"], \"y\": [0.0], \"type\": \"scatter\", \"uid\": \"7c023b68-c204-11e8-ad45-a81e84e6c740\"}, {\"name\": \"\\u8c22\\u5fb7\\u5065_\\u5ef6\\u671f\\u5546\\u4e1a\\u9879\\u76ee\\u6570\", \"x\": [\"9\"], \"y\": [null], \"type\": \"scatter\", \"uid\": \"7c023e24-c204-11e8-ad45-a81e84e6c740\"}, {\"name\": \"\\u8c22\\u5fb7\\u5065_\\u5ef6\\u671f\\u4e2a\\u6027\\u5316\\u9879\\u76ee\\u6570\", \"x\": [\"9\"], \"y\": [null], \"type\": \"scatter\", \"uid\": \"7c0240ea-c204-11e8-ad45-a81e84e6c740\"}, {\"name\": \"\\u8d75\\u73a5_\\u5ef6\\u671f\\u5546\\u4e1a\\u9879\\u76ee\\u6570\", \"x\": [\"9\"], \"y\": [null], \"type\": \"scatter\", \"uid\": \"7c0243ce-c204-11e8-ad45-a81e84e6c740\"}, {\"name\": \"\\u8d75\\u73a5_\\u5ef6\\u671f\\u4e2a\\u6027\\u5316\\u9879\\u76ee\\u6570\", \"x\": [\"9\"], \"y\": [null], \"type\": \"scatter\", \"uid\": \"7c0246b2-c204-11e8-ad45-a81e84e6c740\"}, {\"name\": \"\\u8def\\u6167\\u840d_\\u5ef6\\u671f\\u5546\\u4e1a\\u9879\\u76ee\\u6570\", \"x\": [\"9\"], \"y\": [null], \"type\": \"scatter\", \"uid\": \"7c024978-c204-11e8-ad45-a81e84e6c740\"}, {\"name\": \"\\u8def\\u6167\\u840d_\\u5ef6\\u671f\\u4e2a\\u6027\\u5316\\u9879\\u76ee\\u6570\", \"x\": [\"9\"], \"y\": [null], \"type\": \"scatter\", \"uid\": \"7c024c2a-c204-11e8-ad45-a81e84e6c740\"}, {\"name\": \"\\u9a6c\\u6f47_\\u5ef6\\u671f\\u5546\\u4e1a\\u9879\\u76ee\\u6570\", \"x\": [\"9\"], \"y\": [null], \"type\": \"scatter\", \"uid\": \"7c024efa-c204-11e8-ad45-a81e84e6c740\"}, {\"name\": \"\\u9a6c\\u6f47_\\u5ef6\\u671f\\u4e2a\\u6027\\u5316\\u9879\\u76ee\\u6570\", \"x\": [\"9\"], \"y\": [null], \"type\": \"scatter\", \"uid\": \"7c0252a6-c204-11e8-ad45-a81e84e6c740\"}],\n",
       "            {\"title\": \"\\u5ef6\\u671f\\u5546\\u4e1a\\u9879\\u76ee\\u6570&\\u5ef6\\u671f\\u4e2a\\u6027\\u5316\\u9879\\u76ee\\u6570\\u6708\\u8d8b\\u52bf\\u56fe\", \"xaxis\": {\"mirror\": \"all\", \"nticks\": 20, \"showgrid\": true, \"showline\": true, \"title\": \"\\u6708\", \"zeroline\": true}, \"yaxis\": {\"mirror\": \"all\", \"nticks\": 20, \"showgrid\": true, \"showline\": true, \"title\": \"\\u5ef6\\u671f\\u5546\\u4e1a\\u9879\\u76ee\\u6570&\\u5ef6\\u671f\\u4e2a\\u6027\\u5316\\u9879\\u76ee\\u6570\", \"zeroline\": true}},\n",
       "            {\"showLink\": true, \"linkText\": \"Export to plot.ly\"}\n",
       "        ).then(function () {return Plotly.addFrames('bc1b4c07-3e82-4190-b4b2-fe9f117eea45',{});}).then(function(){Plotly.animate('bc1b4c07-3e82-4190-b4b2-fe9f117eea45');})\n",
       "        });</script>"
      ],
      "text/vnd.plotly.v1+html": [
       "<div id=\"bc1b4c07-3e82-4190-b4b2-fe9f117eea45\" style=\"height: 525px; width: 100%;\" class=\"plotly-graph-div\"></div><script type=\"text/javascript\">require([\"plotly\"], function(Plotly) { window.PLOTLYENV=window.PLOTLYENV || {};window.PLOTLYENV.BASE_URL=\"https://plot.ly\";\n",
       "        Plotly.plot(\n",
       "            'bc1b4c07-3e82-4190-b4b2-fe9f117eea45',\n",
       "            [{\"name\": \"\\u4e8e\\u52c7\\u4e00_\\u5ef6\\u671f\\u5546\\u4e1a\\u9879\\u76ee\\u6570\", \"x\": [\"9\"], \"y\": [0.0], \"type\": \"scatter\", \"uid\": \"7c01fb1c-c204-11e8-ad45-a81e84e6c740\"}, {\"name\": \"\\u4e8e\\u52c7\\u4e00_\\u5ef6\\u671f\\u4e2a\\u6027\\u5316\\u9879\\u76ee\\u6570\", \"x\": [\"9\"], \"y\": [0.0], \"type\": \"scatter\", \"uid\": \"7c01ffb8-c204-11e8-ad45-a81e84e6c740\"}, {\"name\": \"\\u4e8e\\u6167_\\u5ef6\\u671f\\u5546\\u4e1a\\u9879\\u76ee\\u6570\", \"x\": [\"9\"], \"y\": [0.0], \"type\": \"scatter\", \"uid\": \"7c0202e2-c204-11e8-ad45-a81e84e6c740\"}, {\"name\": \"\\u4e8e\\u6167_\\u5ef6\\u671f\\u4e2a\\u6027\\u5316\\u9879\\u76ee\\u6570\", \"x\": [\"9\"], \"y\": [0.0], \"type\": \"scatter\", \"uid\": \"7c02072e-c204-11e8-ad45-a81e84e6c740\"}, {\"name\": \"\\u4efb\\u96ea_\\u5ef6\\u671f\\u5546\\u4e1a\\u9879\\u76ee\\u6570\", \"x\": [\"9\"], \"y\": [null], \"type\": \"scatter\", \"uid\": \"7c020abc-c204-11e8-ad45-a81e84e6c740\"}, {\"name\": \"\\u4efb\\u96ea_\\u5ef6\\u671f\\u4e2a\\u6027\\u5316\\u9879\\u76ee\\u6570\", \"x\": [\"9\"], \"y\": [null], \"type\": \"scatter\", \"uid\": \"7c020db4-c204-11e8-ad45-a81e84e6c740\"}, {\"name\": \"\\u5218\\u6c5f_\\u5ef6\\u671f\\u5546\\u4e1a\\u9879\\u76ee\\u6570\", \"x\": [\"9\"], \"y\": [0.0], \"type\": \"scatter\", \"uid\": \"7c02108e-c204-11e8-ad45-a81e84e6c740\"}, {\"name\": \"\\u5218\\u6c5f_\\u5ef6\\u671f\\u4e2a\\u6027\\u5316\\u9879\\u76ee\\u6570\", \"x\": [\"9\"], \"y\": [0.0], \"type\": \"scatter\", \"uid\": \"7c021354-c204-11e8-ad45-a81e84e6c740\"}, {\"name\": \"\\u5360\\u4f1f_\\u5ef6\\u671f\\u5546\\u4e1a\\u9879\\u76ee\\u6570\", \"x\": [\"9\"], \"y\": [null], \"type\": \"scatter\", \"uid\": \"7c021606-c204-11e8-ad45-a81e84e6c740\"}, {\"name\": \"\\u5360\\u4f1f_\\u5ef6\\u671f\\u4e2a\\u6027\\u5316\\u9879\\u76ee\\u6570\", \"x\": [\"9\"], \"y\": [null], \"type\": \"scatter\", \"uid\": \"7c0218c2-c204-11e8-ad45-a81e84e6c740\"}, {\"name\": \"\\u5b5f\\u660a_\\u5ef6\\u671f\\u5546\\u4e1a\\u9879\\u76ee\\u6570\", \"x\": [\"9\"], \"y\": [null], \"type\": \"scatter\", \"uid\": \"7c021b7e-c204-11e8-ad45-a81e84e6c740\"}, {\"name\": \"\\u5b5f\\u660a_\\u5ef6\\u671f\\u4e2a\\u6027\\u5316\\u9879\\u76ee\\u6570\", \"x\": [\"9\"], \"y\": [null], \"type\": \"scatter\", \"uid\": \"7c021e4e-c204-11e8-ad45-a81e84e6c740\"}, {\"name\": \"\\u5c01\\u5f66\\u6770_\\u5ef6\\u671f\\u5546\\u4e1a\\u9879\\u76ee\\u6570\", \"x\": [\"9\"], \"y\": [null], \"type\": \"scatter\", \"uid\": \"7c022114-c204-11e8-ad45-a81e84e6c740\"}, {\"name\": \"\\u5c01\\u5f66\\u6770_\\u5ef6\\u671f\\u4e2a\\u6027\\u5316\\u9879\\u76ee\\u6570\", \"x\": [\"9\"], \"y\": [null], \"type\": \"scatter\", \"uid\": \"7c0223d0-c204-11e8-ad45-a81e84e6c740\"}, {\"name\": \"\\u674e\\u534e\\u4e91_\\u5ef6\\u671f\\u5546\\u4e1a\\u9879\\u76ee\\u6570\", \"x\": [\"9\"], \"y\": [null], \"type\": \"scatter\", \"uid\": \"7c0226aa-c204-11e8-ad45-a81e84e6c740\"}, {\"name\": \"\\u674e\\u534e\\u4e91_\\u5ef6\\u671f\\u4e2a\\u6027\\u5316\\u9879\\u76ee\\u6570\", \"x\": [\"9\"], \"y\": [null], \"type\": \"scatter\", \"uid\": \"7c022984-c204-11e8-ad45-a81e84e6c740\"}, {\"name\": \"\\u674e\\u5e86\\u539f_\\u5ef6\\u671f\\u5546\\u4e1a\\u9879\\u76ee\\u6570\", \"x\": [\"9\"], \"y\": [null], \"type\": \"scatter\", \"uid\": \"7c022da8-c204-11e8-ad45-a81e84e6c740\"}, {\"name\": \"\\u674e\\u5e86\\u539f_\\u5ef6\\u671f\\u4e2a\\u6027\\u5316\\u9879\\u76ee\\u6570\", \"x\": [\"9\"], \"y\": [null], \"type\": \"scatter\", \"uid\": \"7c023064-c204-11e8-ad45-a81e84e6c740\"}, {\"name\": \"\\u6768\\u4f1f\\u98de_\\u5ef6\\u671f\\u5546\\u4e1a\\u9879\\u76ee\\u6570\", \"x\": [\"9\"], \"y\": [0.0], \"type\": \"scatter\", \"uid\": \"7c02332a-c204-11e8-ad45-a81e84e6c740\"}, {\"name\": \"\\u6768\\u4f1f\\u98de_\\u5ef6\\u671f\\u4e2a\\u6027\\u5316\\u9879\\u76ee\\u6570\", \"x\": [\"9\"], \"y\": [0.0], \"type\": \"scatter\", \"uid\": \"7c0235dc-c204-11e8-ad45-a81e84e6c740\"}, {\"name\": \"\\u82cf\\u5f66\\u52cb_\\u5ef6\\u671f\\u5546\\u4e1a\\u9879\\u76ee\\u6570\", \"x\": [\"9\"], \"y\": [0.0], \"type\": \"scatter\", \"uid\": \"7c0238a2-c204-11e8-ad45-a81e84e6c740\"}, {\"name\": \"\\u82cf\\u5f66\\u52cb_\\u5ef6\\u671f\\u4e2a\\u6027\\u5316\\u9879\\u76ee\\u6570\", \"x\": [\"9\"], \"y\": [0.0], \"type\": \"scatter\", \"uid\": \"7c023b68-c204-11e8-ad45-a81e84e6c740\"}, {\"name\": \"\\u8c22\\u5fb7\\u5065_\\u5ef6\\u671f\\u5546\\u4e1a\\u9879\\u76ee\\u6570\", \"x\": [\"9\"], \"y\": [null], \"type\": \"scatter\", \"uid\": \"7c023e24-c204-11e8-ad45-a81e84e6c740\"}, {\"name\": \"\\u8c22\\u5fb7\\u5065_\\u5ef6\\u671f\\u4e2a\\u6027\\u5316\\u9879\\u76ee\\u6570\", \"x\": [\"9\"], \"y\": [null], \"type\": \"scatter\", \"uid\": \"7c0240ea-c204-11e8-ad45-a81e84e6c740\"}, {\"name\": \"\\u8d75\\u73a5_\\u5ef6\\u671f\\u5546\\u4e1a\\u9879\\u76ee\\u6570\", \"x\": [\"9\"], \"y\": [null], \"type\": \"scatter\", \"uid\": \"7c0243ce-c204-11e8-ad45-a81e84e6c740\"}, {\"name\": \"\\u8d75\\u73a5_\\u5ef6\\u671f\\u4e2a\\u6027\\u5316\\u9879\\u76ee\\u6570\", \"x\": [\"9\"], \"y\": [null], \"type\": \"scatter\", \"uid\": \"7c0246b2-c204-11e8-ad45-a81e84e6c740\"}, {\"name\": \"\\u8def\\u6167\\u840d_\\u5ef6\\u671f\\u5546\\u4e1a\\u9879\\u76ee\\u6570\", \"x\": [\"9\"], \"y\": [null], \"type\": \"scatter\", \"uid\": \"7c024978-c204-11e8-ad45-a81e84e6c740\"}, {\"name\": \"\\u8def\\u6167\\u840d_\\u5ef6\\u671f\\u4e2a\\u6027\\u5316\\u9879\\u76ee\\u6570\", \"x\": [\"9\"], \"y\": [null], \"type\": \"scatter\", \"uid\": \"7c024c2a-c204-11e8-ad45-a81e84e6c740\"}, {\"name\": \"\\u9a6c\\u6f47_\\u5ef6\\u671f\\u5546\\u4e1a\\u9879\\u76ee\\u6570\", \"x\": [\"9\"], \"y\": [null], \"type\": \"scatter\", \"uid\": \"7c024efa-c204-11e8-ad45-a81e84e6c740\"}, {\"name\": \"\\u9a6c\\u6f47_\\u5ef6\\u671f\\u4e2a\\u6027\\u5316\\u9879\\u76ee\\u6570\", \"x\": [\"9\"], \"y\": [null], \"type\": \"scatter\", \"uid\": \"7c0252a6-c204-11e8-ad45-a81e84e6c740\"}],\n",
       "            {\"title\": \"\\u5ef6\\u671f\\u5546\\u4e1a\\u9879\\u76ee\\u6570&\\u5ef6\\u671f\\u4e2a\\u6027\\u5316\\u9879\\u76ee\\u6570\\u6708\\u8d8b\\u52bf\\u56fe\", \"xaxis\": {\"mirror\": \"all\", \"nticks\": 20, \"showgrid\": true, \"showline\": true, \"title\": \"\\u6708\", \"zeroline\": true}, \"yaxis\": {\"mirror\": \"all\", \"nticks\": 20, \"showgrid\": true, \"showline\": true, \"title\": \"\\u5ef6\\u671f\\u5546\\u4e1a\\u9879\\u76ee\\u6570&\\u5ef6\\u671f\\u4e2a\\u6027\\u5316\\u9879\\u76ee\\u6570\", \"zeroline\": true}},\n",
       "            {\"showLink\": true, \"linkText\": \"Export to plot.ly\"}\n",
       "        ).then(function () {return Plotly.addFrames('bc1b4c07-3e82-4190-b4b2-fe9f117eea45',{});}).then(function(){Plotly.animate('bc1b4c07-3e82-4190-b4b2-fe9f117eea45');})\n",
       "        });</script>"
      ]
     },
     "metadata": {},
     "output_type": "display_data"
    }
   ],
   "source": [
    "data_dict = {'延期商业项目数':['延期商业项目数'],'延期个性化项目数':['延期个性化项目数']}\n",
    "myModule.plot( all_dict_2, data_dict, '负责人','line' )"
   ]
  },
  {
   "cell_type": "markdown",
   "metadata": {},
   "source": [
    "### 个人反馈延期数"
   ]
  },
  {
   "cell_type": "code",
   "execution_count": 40,
   "metadata": {},
   "outputs": [
    {
     "data": {
      "application/vnd.plotly.v1+json": {
       "data": [
        {
         "name": "封彦杰",
         "type": "scatter",
         "uid": "7c5beb7c-c204-11e8-ad45-a81e84e6c740",
         "x": [
          "9-2"
         ],
         "y": [
          0
         ]
        },
        {
         "name": "于慧",
         "type": "scatter",
         "uid": "7c5bef00-c204-11e8-ad45-a81e84e6c740",
         "x": [
          "9-2",
          "9-3"
         ],
         "y": [
          0,
          0
         ]
        },
        {
         "name": "路慧萍",
         "type": "scatter",
         "uid": "7c5bf158-c204-11e8-ad45-a81e84e6c740",
         "x": [
          "9-2"
         ],
         "y": [
          0
         ]
        },
        {
         "name": "于勇一",
         "type": "scatter",
         "uid": "7c5bf374-c204-11e8-ad45-a81e84e6c740",
         "x": [
          "9-2",
          "9-3"
         ],
         "y": [
          0,
          0
         ]
        },
        {
         "name": "刘江",
         "type": "scatter",
         "uid": "7c5bf57c-c204-11e8-ad45-a81e84e6c740",
         "x": [
          "9-2",
          "9-3"
         ],
         "y": [
          0,
          0
         ]
        },
        {
         "name": "赵玥",
         "type": "scatter",
         "uid": "7c5bf77a-c204-11e8-ad45-a81e84e6c740",
         "x": [
          "9-2"
         ],
         "y": [
          1
         ]
        },
        {
         "name": "占伟",
         "type": "scatter",
         "uid": "7c5bf978-c204-11e8-ad45-a81e84e6c740",
         "x": [
          "9-2"
         ],
         "y": [
          0
         ]
        },
        {
         "name": "杨伟飞",
         "type": "scatter",
         "uid": "7c5bfb6c-c204-11e8-ad45-a81e84e6c740",
         "x": [
          "9-2",
          "9-3"
         ],
         "y": [
          0,
          0
         ]
        },
        {
         "name": "苏彦勋",
         "type": "scatter",
         "uid": "7c5bfd60-c204-11e8-ad45-a81e84e6c740",
         "x": [
          "9-2",
          "9-3"
         ],
         "y": [
          0,
          0
         ]
        },
        {
         "name": "马潇",
         "type": "scatter",
         "uid": "7c5bff54-c204-11e8-ad45-a81e84e6c740",
         "x": [
          "9-2"
         ],
         "y": [
          0
         ]
        },
        {
         "name": "孟昊",
         "type": "scatter",
         "uid": "7c5c0170-c204-11e8-ad45-a81e84e6c740",
         "x": [
          "9-2"
         ],
         "y": [
          0
         ]
        },
        {
         "name": "李庆原",
         "type": "scatter",
         "uid": "7c5c0364-c204-11e8-ad45-a81e84e6c740",
         "x": [
          "9-2"
         ],
         "y": [
          0
         ]
        },
        {
         "name": "任雪",
         "type": "scatter",
         "uid": "7c5c054e-c204-11e8-ad45-a81e84e6c740",
         "x": [
          "9-2"
         ],
         "y": [
          0
         ]
        },
        {
         "name": "李华云",
         "type": "scatter",
         "uid": "7c5c0a58-c204-11e8-ad45-a81e84e6c740",
         "x": [
          "9-3"
         ],
         "y": [
          0
         ]
        },
        {
         "name": "谢德健",
         "type": "scatter",
         "uid": "7c5c0ff8-c204-11e8-ad45-a81e84e6c740",
         "x": [
          "9-3"
         ],
         "y": [
          0
         ]
        }
       ],
       "layout": {
        "title": "反馈延期数",
        "xaxis": {
         "mirror": "all",
         "nticks": 20,
         "showgrid": true,
         "showline": true,
         "title": "周",
         "zeroline": true
        },
        "yaxis": {
         "mirror": "all",
         "nticks": 20,
         "showgrid": true,
         "showline": true,
         "title": "24h内未完成数据反馈项目数",
         "zeroline": true
        }
       }
      },
      "text/html": [
       "<div id=\"a836934e-bcce-47d8-b3fa-8e7c5c1d3bcf\" style=\"height: 525px; width: 100%;\" class=\"plotly-graph-div\"></div><script type=\"text/javascript\">require([\"plotly\"], function(Plotly) { window.PLOTLYENV=window.PLOTLYENV || {};window.PLOTLYENV.BASE_URL=\"https://plot.ly\";\n",
       "        Plotly.plot(\n",
       "            'a836934e-bcce-47d8-b3fa-8e7c5c1d3bcf',\n",
       "            [{\"name\": \"\\u5c01\\u5f66\\u6770\", \"x\": [\"9-2\"], \"y\": [0.0], \"type\": \"scatter\", \"uid\": \"7c5beb7c-c204-11e8-ad45-a81e84e6c740\"}, {\"name\": \"\\u4e8e\\u6167\", \"x\": [\"9-2\", \"9-3\"], \"y\": [0.0, 0.0], \"type\": \"scatter\", \"uid\": \"7c5bef00-c204-11e8-ad45-a81e84e6c740\"}, {\"name\": \"\\u8def\\u6167\\u840d\", \"x\": [\"9-2\"], \"y\": [0.0], \"type\": \"scatter\", \"uid\": \"7c5bf158-c204-11e8-ad45-a81e84e6c740\"}, {\"name\": \"\\u4e8e\\u52c7\\u4e00\", \"x\": [\"9-2\", \"9-3\"], \"y\": [0.0, 0.0], \"type\": \"scatter\", \"uid\": \"7c5bf374-c204-11e8-ad45-a81e84e6c740\"}, {\"name\": \"\\u5218\\u6c5f\", \"x\": [\"9-2\", \"9-3\"], \"y\": [0.0, 0.0], \"type\": \"scatter\", \"uid\": \"7c5bf57c-c204-11e8-ad45-a81e84e6c740\"}, {\"name\": \"\\u8d75\\u73a5\", \"x\": [\"9-2\"], \"y\": [1.0], \"type\": \"scatter\", \"uid\": \"7c5bf77a-c204-11e8-ad45-a81e84e6c740\"}, {\"name\": \"\\u5360\\u4f1f\", \"x\": [\"9-2\"], \"y\": [0.0], \"type\": \"scatter\", \"uid\": \"7c5bf978-c204-11e8-ad45-a81e84e6c740\"}, {\"name\": \"\\u6768\\u4f1f\\u98de\", \"x\": [\"9-2\", \"9-3\"], \"y\": [0.0, 0.0], \"type\": \"scatter\", \"uid\": \"7c5bfb6c-c204-11e8-ad45-a81e84e6c740\"}, {\"name\": \"\\u82cf\\u5f66\\u52cb\", \"x\": [\"9-2\", \"9-3\"], \"y\": [0.0, 0.0], \"type\": \"scatter\", \"uid\": \"7c5bfd60-c204-11e8-ad45-a81e84e6c740\"}, {\"name\": \"\\u9a6c\\u6f47\", \"x\": [\"9-2\"], \"y\": [0.0], \"type\": \"scatter\", \"uid\": \"7c5bff54-c204-11e8-ad45-a81e84e6c740\"}, {\"name\": \"\\u5b5f\\u660a\", \"x\": [\"9-2\"], \"y\": [0.0], \"type\": \"scatter\", \"uid\": \"7c5c0170-c204-11e8-ad45-a81e84e6c740\"}, {\"name\": \"\\u674e\\u5e86\\u539f\", \"x\": [\"9-2\"], \"y\": [0.0], \"type\": \"scatter\", \"uid\": \"7c5c0364-c204-11e8-ad45-a81e84e6c740\"}, {\"name\": \"\\u4efb\\u96ea\", \"x\": [\"9-2\"], \"y\": [0.0], \"type\": \"scatter\", \"uid\": \"7c5c054e-c204-11e8-ad45-a81e84e6c740\"}, {\"name\": \"\\u674e\\u534e\\u4e91\", \"x\": [\"9-3\"], \"y\": [0.0], \"type\": \"scatter\", \"uid\": \"7c5c0a58-c204-11e8-ad45-a81e84e6c740\"}, {\"name\": \"\\u8c22\\u5fb7\\u5065\", \"x\": [\"9-3\"], \"y\": [0.0], \"type\": \"scatter\", \"uid\": \"7c5c0ff8-c204-11e8-ad45-a81e84e6c740\"}],\n",
       "            {\"title\": \"\\u53cd\\u9988\\u5ef6\\u671f\\u6570\", \"xaxis\": {\"mirror\": \"all\", \"nticks\": 20, \"showgrid\": true, \"showline\": true, \"title\": \"\\u5468\", \"zeroline\": true}, \"yaxis\": {\"mirror\": \"all\", \"nticks\": 20, \"showgrid\": true, \"showline\": true, \"title\": \"24h\\u5185\\u672a\\u5b8c\\u6210\\u6570\\u636e\\u53cd\\u9988\\u9879\\u76ee\\u6570\", \"zeroline\": true}},\n",
       "            {\"showLink\": true, \"linkText\": \"Export to plot.ly\"}\n",
       "        ).then(function () {return Plotly.addFrames('a836934e-bcce-47d8-b3fa-8e7c5c1d3bcf',{});}).then(function(){Plotly.animate('a836934e-bcce-47d8-b3fa-8e7c5c1d3bcf');})\n",
       "        });</script>"
      ],
      "text/vnd.plotly.v1+html": [
       "<div id=\"a836934e-bcce-47d8-b3fa-8e7c5c1d3bcf\" style=\"height: 525px; width: 100%;\" class=\"plotly-graph-div\"></div><script type=\"text/javascript\">require([\"plotly\"], function(Plotly) { window.PLOTLYENV=window.PLOTLYENV || {};window.PLOTLYENV.BASE_URL=\"https://plot.ly\";\n",
       "        Plotly.plot(\n",
       "            'a836934e-bcce-47d8-b3fa-8e7c5c1d3bcf',\n",
       "            [{\"name\": \"\\u5c01\\u5f66\\u6770\", \"x\": [\"9-2\"], \"y\": [0.0], \"type\": \"scatter\", \"uid\": \"7c5beb7c-c204-11e8-ad45-a81e84e6c740\"}, {\"name\": \"\\u4e8e\\u6167\", \"x\": [\"9-2\", \"9-3\"], \"y\": [0.0, 0.0], \"type\": \"scatter\", \"uid\": \"7c5bef00-c204-11e8-ad45-a81e84e6c740\"}, {\"name\": \"\\u8def\\u6167\\u840d\", \"x\": [\"9-2\"], \"y\": [0.0], \"type\": \"scatter\", \"uid\": \"7c5bf158-c204-11e8-ad45-a81e84e6c740\"}, {\"name\": \"\\u4e8e\\u52c7\\u4e00\", \"x\": [\"9-2\", \"9-3\"], \"y\": [0.0, 0.0], \"type\": \"scatter\", \"uid\": \"7c5bf374-c204-11e8-ad45-a81e84e6c740\"}, {\"name\": \"\\u5218\\u6c5f\", \"x\": [\"9-2\", \"9-3\"], \"y\": [0.0, 0.0], \"type\": \"scatter\", \"uid\": \"7c5bf57c-c204-11e8-ad45-a81e84e6c740\"}, {\"name\": \"\\u8d75\\u73a5\", \"x\": [\"9-2\"], \"y\": [1.0], \"type\": \"scatter\", \"uid\": \"7c5bf77a-c204-11e8-ad45-a81e84e6c740\"}, {\"name\": \"\\u5360\\u4f1f\", \"x\": [\"9-2\"], \"y\": [0.0], \"type\": \"scatter\", \"uid\": \"7c5bf978-c204-11e8-ad45-a81e84e6c740\"}, {\"name\": \"\\u6768\\u4f1f\\u98de\", \"x\": [\"9-2\", \"9-3\"], \"y\": [0.0, 0.0], \"type\": \"scatter\", \"uid\": \"7c5bfb6c-c204-11e8-ad45-a81e84e6c740\"}, {\"name\": \"\\u82cf\\u5f66\\u52cb\", \"x\": [\"9-2\", \"9-3\"], \"y\": [0.0, 0.0], \"type\": \"scatter\", \"uid\": \"7c5bfd60-c204-11e8-ad45-a81e84e6c740\"}, {\"name\": \"\\u9a6c\\u6f47\", \"x\": [\"9-2\"], \"y\": [0.0], \"type\": \"scatter\", \"uid\": \"7c5bff54-c204-11e8-ad45-a81e84e6c740\"}, {\"name\": \"\\u5b5f\\u660a\", \"x\": [\"9-2\"], \"y\": [0.0], \"type\": \"scatter\", \"uid\": \"7c5c0170-c204-11e8-ad45-a81e84e6c740\"}, {\"name\": \"\\u674e\\u5e86\\u539f\", \"x\": [\"9-2\"], \"y\": [0.0], \"type\": \"scatter\", \"uid\": \"7c5c0364-c204-11e8-ad45-a81e84e6c740\"}, {\"name\": \"\\u4efb\\u96ea\", \"x\": [\"9-2\"], \"y\": [0.0], \"type\": \"scatter\", \"uid\": \"7c5c054e-c204-11e8-ad45-a81e84e6c740\"}, {\"name\": \"\\u674e\\u534e\\u4e91\", \"x\": [\"9-3\"], \"y\": [0.0], \"type\": \"scatter\", \"uid\": \"7c5c0a58-c204-11e8-ad45-a81e84e6c740\"}, {\"name\": \"\\u8c22\\u5fb7\\u5065\", \"x\": [\"9-3\"], \"y\": [0.0], \"type\": \"scatter\", \"uid\": \"7c5c0ff8-c204-11e8-ad45-a81e84e6c740\"}],\n",
       "            {\"title\": \"\\u53cd\\u9988\\u5ef6\\u671f\\u6570\", \"xaxis\": {\"mirror\": \"all\", \"nticks\": 20, \"showgrid\": true, \"showline\": true, \"title\": \"\\u5468\", \"zeroline\": true}, \"yaxis\": {\"mirror\": \"all\", \"nticks\": 20, \"showgrid\": true, \"showline\": true, \"title\": \"24h\\u5185\\u672a\\u5b8c\\u6210\\u6570\\u636e\\u53cd\\u9988\\u9879\\u76ee\\u6570\", \"zeroline\": true}},\n",
       "            {\"showLink\": true, \"linkText\": \"Export to plot.ly\"}\n",
       "        ).then(function () {return Plotly.addFrames('a836934e-bcce-47d8-b3fa-8e7c5c1d3bcf',{});}).then(function(){Plotly.animate('a836934e-bcce-47d8-b3fa-8e7c5c1d3bcf');})\n",
       "        });</script>"
      ]
     },
     "metadata": {},
     "output_type": "display_data"
    }
   ],
   "source": [
    "new_dict = myModule.select_data(all_dict_2 ,['24h内未完成数据反馈项目数','反馈延期个性化数'],'负责人' )     ## choose colunms and groups \n",
    "tt = myModule.transformat_data(new_dict , 'week'  )  ## week or month ?? \n",
    "myModule.plot_target_items(tt ,['24h内未完成数据反馈项目数'], 'line',fig_title = '反馈延期数') "
   ]
  },
  {
   "cell_type": "code",
   "execution_count": null,
   "metadata": {},
   "outputs": [],
   "source": []
  }
 ],
 "metadata": {
  "celltoolbar": "Raw Cell Format",
  "hide_input": true,
  "kernelspec": {
   "display_name": "Python 3",
   "language": "python",
   "name": "python3"
  },
  "language_info": {
   "codemirror_mode": {
    "name": "ipython",
    "version": 3
   },
   "file_extension": ".py",
   "mimetype": "text/x-python",
   "name": "python",
   "nbconvert_exporter": "python",
   "pygments_lexer": "ipython3",
   "version": "3.6.6"
  },
  "toc": {
   "base_numbering": 1,
   "nav_menu": {},
   "number_sections": true,
   "sideBar": true,
   "skip_h1_title": false,
   "title_cell": "Table of Contents",
   "title_sidebar": "Contents",
   "toc_cell": false,
   "toc_position": {
    "height": "513.333px",
    "left": "419px",
    "top": "110.926px",
    "width": "271px"
   },
   "toc_section_display": true,
   "toc_window_display": true
  }
 },
 "nbformat": 4,
 "nbformat_minor": 2
}
