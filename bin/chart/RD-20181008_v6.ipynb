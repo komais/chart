{
 "cells": [
  {
   "cell_type": "code",
   "execution_count": 1,
   "metadata": {
    "collapsed": false,
    "hide_input": false
   },
   "outputs": [
    {
     "data": {
      "text/html": [
       "<script>requirejs.config({paths: { 'plotly': ['https://cdn.plot.ly/plotly-latest.min']},});if(!window.Plotly) {{require(['plotly'],function(plotly) {window.Plotly=plotly;});}}</script>"
      ],
      "text/vnd.plotly.v1+html": [
       "<script>requirejs.config({paths: { 'plotly': ['https://cdn.plot.ly/plotly-latest.min']},});if(!window.Plotly) {{require(['plotly'],function(plotly) {window.Plotly=plotly;});}}</script>"
      ]
     },
     "metadata": {},
     "output_type": "display_data"
    }
   ],
   "source": [
    "%load_ext autoreload\n",
    "%autoreload 2\n",
    "import sys\n",
    "sys.path.append('./')\n",
    "import myModule"
   ]
  },
  {
   "cell_type": "code",
   "execution_count": 2,
   "metadata": {
    "collapsed": true
   },
   "outputs": [],
   "source": [
    "#import imp\n",
    "#imp.reload(myModule_2018_10_08)"
   ]
  },
  {
   "cell_type": "markdown",
   "metadata": {},
   "source": [
    "* 组别名称统一\n",
    "* 相关数字也要统计出来\n",
    "* myModule.sort_by_index 添加"
   ]
  },
  {
   "cell_type": "markdown",
   "metadata": {},
   "source": [
    "# 研发组人员情况"
   ]
  },
  {
   "cell_type": "code",
   "execution_count": 3,
   "metadata": {
    "collapsed": true
   },
   "outputs": [],
   "source": [
    "#路径末尾不能包含斜线\n",
    "pathway = \"../../data/RD/\"\n",
    "all_files , title = myModule.get_title(pathway , 0)##给路径\n",
    "#print(all_files)\n",
    "all_dict = myModule.read_xlsx(all_files, 0 ) ## 读取所有文件的sheet1\n",
    "#all_dict_1 = myModule.read_xlsx(all_files, 1 )  ## 读取所有文件的sheet2\n",
    "\n",
    "\n",
    "new_files=[]\n",
    "import xlrd  \n",
    "for file in all_files:\n",
    "    b = xlrd.open_workbook(file)\n",
    "    count = len(b.sheets()) #sheet数量\n",
    "    if count == 3:\n",
    "        new_files+=[file]\n",
    "all_dict_2 = myModule.read_xlsx(new_files, 2 )  ## 读取所有文件的sheet3"
   ]
  },
  {
   "cell_type": "markdown",
   "metadata": {
    "hide_input": true
   },
   "source": [
    "## 整体情况"
   ]
  },
  {
   "cell_type": "markdown",
   "metadata": {},
   "source": [
    "### 下单整体情况"
   ]
  },
  {
   "cell_type": "markdown",
   "metadata": {},
   "source": [
    "\n",
    "#### 总下单数和完成下单数\n"
   ]
  },
  {
   "cell_type": "code",
   "execution_count": 4,
   "metadata": {
    "collapsed": false
   },
   "outputs": [
    {
     "data": {
      "application/vnd.plotly.v1+json": {
       "data": [
        {
         "name": "总下单数",
         "type": "scatter",
         "uid": "3d52a480-dbfd-11e8-8ddb-a41f72875c19",
         "x": [
          "8-3",
          "8-4",
          "9-1",
          "9-2",
          "9-3",
          "9-4",
          "10-2",
          "10-3",
          "10-4"
         ],
         "y": [
          90,
          111,
          102,
          97,
          122,
          89,
          110,
          106,
          127
         ]
        },
        {
         "name": "完成下单数",
         "type": "scatter",
         "uid": "3d52a481-dbfd-11e8-8ddb-a41f72875c19",
         "x": [
          "8-3",
          "8-4",
          "9-1",
          "9-2",
          "9-3",
          "9-4",
          "10-2",
          "10-3",
          "10-4"
         ],
         "y": [
          76,
          103,
          97,
          88,
          114,
          86,
          87,
          93,
          115
         ]
        }
       ],
       "layout": {
        "title": "总下单数&完成下单数周趋势图",
        "xaxis": {
         "mirror": "all",
         "nticks": 20,
         "showgrid": true,
         "showline": true,
         "title": "周",
         "type": "category",
         "zeroline": true
        },
        "yaxis": {
         "mirror": "all",
         "nticks": 20,
         "showgrid": true,
         "showline": true,
         "title": "总下单数&完成下单数",
         "zeroline": true
        }
       }
      },
      "text/html": [
       "<div id=\"c40c9070-99d0-4534-926a-875e421f28dd\" style=\"height: 525px; width: 100%;\" class=\"plotly-graph-div\"></div><script type=\"text/javascript\">require([\"plotly\"], function(Plotly) { window.PLOTLYENV=window.PLOTLYENV || {};window.PLOTLYENV.BASE_URL=\"https://plot.ly\";Plotly.newPlot(\"c40c9070-99d0-4534-926a-875e421f28dd\", [{\"name\": \"\\u603b\\u4e0b\\u5355\\u6570\", \"x\": [\"8-3\", \"8-4\", \"9-1\", \"9-2\", \"9-3\", \"9-4\", \"10-2\", \"10-3\", \"10-4\"], \"y\": [90, 111, 102, 97, 122, 89, 110, 106, 127], \"type\": \"scatter\", \"uid\": \"3d52a480-dbfd-11e8-8ddb-a41f72875c19\"}, {\"name\": \"\\u5b8c\\u6210\\u4e0b\\u5355\\u6570\", \"x\": [\"8-3\", \"8-4\", \"9-1\", \"9-2\", \"9-3\", \"9-4\", \"10-2\", \"10-3\", \"10-4\"], \"y\": [76, 103, 97, 88, 114, 86, 87, 93, 115], \"type\": \"scatter\", \"uid\": \"3d52a481-dbfd-11e8-8ddb-a41f72875c19\"}], {\"title\": \"\\u603b\\u4e0b\\u5355\\u6570&\\u5b8c\\u6210\\u4e0b\\u5355\\u6570\\u5468\\u8d8b\\u52bf\\u56fe\", \"xaxis\": {\"mirror\": \"all\", \"nticks\": 20, \"showgrid\": true, \"showline\": true, \"title\": \"\\u5468\", \"type\": \"category\", \"zeroline\": true}, \"yaxis\": {\"mirror\": \"all\", \"nticks\": 20, \"showgrid\": true, \"showline\": true, \"title\": \"\\u603b\\u4e0b\\u5355\\u6570&\\u5b8c\\u6210\\u4e0b\\u5355\\u6570\", \"zeroline\": true}}, {\"showLink\": true, \"linkText\": \"Export to plot.ly\"})});</script>"
      ],
      "text/vnd.plotly.v1+html": [
       "<div id=\"c40c9070-99d0-4534-926a-875e421f28dd\" style=\"height: 525px; width: 100%;\" class=\"plotly-graph-div\"></div><script type=\"text/javascript\">require([\"plotly\"], function(Plotly) { window.PLOTLYENV=window.PLOTLYENV || {};window.PLOTLYENV.BASE_URL=\"https://plot.ly\";Plotly.newPlot(\"c40c9070-99d0-4534-926a-875e421f28dd\", [{\"name\": \"\\u603b\\u4e0b\\u5355\\u6570\", \"x\": [\"8-3\", \"8-4\", \"9-1\", \"9-2\", \"9-3\", \"9-4\", \"10-2\", \"10-3\", \"10-4\"], \"y\": [90, 111, 102, 97, 122, 89, 110, 106, 127], \"type\": \"scatter\", \"uid\": \"3d52a480-dbfd-11e8-8ddb-a41f72875c19\"}, {\"name\": \"\\u5b8c\\u6210\\u4e0b\\u5355\\u6570\", \"x\": [\"8-3\", \"8-4\", \"9-1\", \"9-2\", \"9-3\", \"9-4\", \"10-2\", \"10-3\", \"10-4\"], \"y\": [76, 103, 97, 88, 114, 86, 87, 93, 115], \"type\": \"scatter\", \"uid\": \"3d52a481-dbfd-11e8-8ddb-a41f72875c19\"}], {\"title\": \"\\u603b\\u4e0b\\u5355\\u6570&\\u5b8c\\u6210\\u4e0b\\u5355\\u6570\\u5468\\u8d8b\\u52bf\\u56fe\", \"xaxis\": {\"mirror\": \"all\", \"nticks\": 20, \"showgrid\": true, \"showline\": true, \"title\": \"\\u5468\", \"type\": \"category\", \"zeroline\": true}, \"yaxis\": {\"mirror\": \"all\", \"nticks\": 20, \"showgrid\": true, \"showline\": true, \"title\": \"\\u603b\\u4e0b\\u5355\\u6570&\\u5b8c\\u6210\\u4e0b\\u5355\\u6570\", \"zeroline\": true}}, {\"showLink\": true, \"linkText\": \"Export to plot.ly\"})});</script>"
      ]
     },
     "metadata": {},
     "output_type": "display_data"
    }
   ],
   "source": [
    "##myModule.format(数据矩阵 ,区分依据,横坐标（例如日期、负责人）,需要统计的列名（例如总下单数）)\n",
    "#例如：\n",
    "#ss=myModule.format(all_dict ,\"日期\" ,['负责人'])\n",
    "#tt.plot('line')\n",
    "ss=myModule.format(all_dict ,\"日期\" ,['总下单数','完成下单数'])\n",
    "tt = myModule.myPlot(myModule.sort_by_index(ss.groupby('sum')))\n",
    "tt.plot('line')"
   ]
  },
  {
   "cell_type": "markdown",
   "metadata": {
    "hide_input": true
   },
   "source": [
    "### 高质量报告"
   ]
  },
  {
   "cell_type": "markdown",
   "metadata": {},
   "source": [
    "#### 应交高质量报告数和提交高质量报告数"
   ]
  },
  {
   "cell_type": "code",
   "execution_count": 5,
   "metadata": {
    "collapsed": false
   },
   "outputs": [
    {
     "data": {
      "application/vnd.plotly.v1+json": {
       "data": [
        {
         "name": "应交高质量报告数",
         "type": "scatter",
         "uid": "3d52a482-dbfd-11e8-8ddb-a41f72875c19",
         "x": [
          "8-3",
          "8-4",
          "9-1",
          "9-2",
          "9-3",
          "9-4",
          "10-2",
          "10-3",
          "10-4"
         ],
         "y": [
          7,
          7,
          17,
          8,
          6,
          2,
          12,
          5,
          3
         ]
        },
        {
         "name": "提交高质量报告数",
         "type": "scatter",
         "uid": "3d52a483-dbfd-11e8-8ddb-a41f72875c19",
         "x": [
          "8-3",
          "8-4",
          "9-1",
          "9-2",
          "9-3",
          "9-4",
          "10-2",
          "10-3",
          "10-4"
         ],
         "y": [
          7,
          7,
          17,
          6,
          7,
          3,
          1,
          0,
          2
         ]
        }
       ],
       "layout": {
        "title": "应交高质量报告数&提交高质量报告数周趋势图",
        "xaxis": {
         "mirror": "all",
         "nticks": 20,
         "showgrid": true,
         "showline": true,
         "title": "周",
         "type": "category",
         "zeroline": true
        },
        "yaxis": {
         "mirror": "all",
         "nticks": 20,
         "showgrid": true,
         "showline": true,
         "title": "应交高质量报告数&提交高质量报告数",
         "zeroline": true
        }
       }
      },
      "text/html": [
       "<div id=\"07a575aa-b627-445f-be60-5d65c24f9b35\" style=\"height: 525px; width: 100%;\" class=\"plotly-graph-div\"></div><script type=\"text/javascript\">require([\"plotly\"], function(Plotly) { window.PLOTLYENV=window.PLOTLYENV || {};window.PLOTLYENV.BASE_URL=\"https://plot.ly\";Plotly.newPlot(\"07a575aa-b627-445f-be60-5d65c24f9b35\", [{\"name\": \"\\u5e94\\u4ea4\\u9ad8\\u8d28\\u91cf\\u62a5\\u544a\\u6570\", \"x\": [\"8-3\", \"8-4\", \"9-1\", \"9-2\", \"9-3\", \"9-4\", \"10-2\", \"10-3\", \"10-4\"], \"y\": [7.0, 7.0, 17.0, 8.0, 6.0, 2.0, 12.0, 5.0, 3.0], \"type\": \"scatter\", \"uid\": \"3d52a482-dbfd-11e8-8ddb-a41f72875c19\"}, {\"name\": \"\\u63d0\\u4ea4\\u9ad8\\u8d28\\u91cf\\u62a5\\u544a\\u6570\", \"x\": [\"8-3\", \"8-4\", \"9-1\", \"9-2\", \"9-3\", \"9-4\", \"10-2\", \"10-3\", \"10-4\"], \"y\": [7.0, 7.0, 17.0, 6.0, 7.0, 3.0, 1.0, 0.0, 2.0], \"type\": \"scatter\", \"uid\": \"3d52a483-dbfd-11e8-8ddb-a41f72875c19\"}], {\"title\": \"\\u5e94\\u4ea4\\u9ad8\\u8d28\\u91cf\\u62a5\\u544a\\u6570&\\u63d0\\u4ea4\\u9ad8\\u8d28\\u91cf\\u62a5\\u544a\\u6570\\u5468\\u8d8b\\u52bf\\u56fe\", \"xaxis\": {\"mirror\": \"all\", \"nticks\": 20, \"showgrid\": true, \"showline\": true, \"title\": \"\\u5468\", \"type\": \"category\", \"zeroline\": true}, \"yaxis\": {\"mirror\": \"all\", \"nticks\": 20, \"showgrid\": true, \"showline\": true, \"title\": \"\\u5e94\\u4ea4\\u9ad8\\u8d28\\u91cf\\u62a5\\u544a\\u6570&\\u63d0\\u4ea4\\u9ad8\\u8d28\\u91cf\\u62a5\\u544a\\u6570\", \"zeroline\": true}}, {\"showLink\": true, \"linkText\": \"Export to plot.ly\"})});</script>"
      ],
      "text/vnd.plotly.v1+html": [
       "<div id=\"07a575aa-b627-445f-be60-5d65c24f9b35\" style=\"height: 525px; width: 100%;\" class=\"plotly-graph-div\"></div><script type=\"text/javascript\">require([\"plotly\"], function(Plotly) { window.PLOTLYENV=window.PLOTLYENV || {};window.PLOTLYENV.BASE_URL=\"https://plot.ly\";Plotly.newPlot(\"07a575aa-b627-445f-be60-5d65c24f9b35\", [{\"name\": \"\\u5e94\\u4ea4\\u9ad8\\u8d28\\u91cf\\u62a5\\u544a\\u6570\", \"x\": [\"8-3\", \"8-4\", \"9-1\", \"9-2\", \"9-3\", \"9-4\", \"10-2\", \"10-3\", \"10-4\"], \"y\": [7.0, 7.0, 17.0, 8.0, 6.0, 2.0, 12.0, 5.0, 3.0], \"type\": \"scatter\", \"uid\": \"3d52a482-dbfd-11e8-8ddb-a41f72875c19\"}, {\"name\": \"\\u63d0\\u4ea4\\u9ad8\\u8d28\\u91cf\\u62a5\\u544a\\u6570\", \"x\": [\"8-3\", \"8-4\", \"9-1\", \"9-2\", \"9-3\", \"9-4\", \"10-2\", \"10-3\", \"10-4\"], \"y\": [7.0, 7.0, 17.0, 6.0, 7.0, 3.0, 1.0, 0.0, 2.0], \"type\": \"scatter\", \"uid\": \"3d52a483-dbfd-11e8-8ddb-a41f72875c19\"}], {\"title\": \"\\u5e94\\u4ea4\\u9ad8\\u8d28\\u91cf\\u62a5\\u544a\\u6570&\\u63d0\\u4ea4\\u9ad8\\u8d28\\u91cf\\u62a5\\u544a\\u6570\\u5468\\u8d8b\\u52bf\\u56fe\", \"xaxis\": {\"mirror\": \"all\", \"nticks\": 20, \"showgrid\": true, \"showline\": true, \"title\": \"\\u5468\", \"type\": \"category\", \"zeroline\": true}, \"yaxis\": {\"mirror\": \"all\", \"nticks\": 20, \"showgrid\": true, \"showline\": true, \"title\": \"\\u5e94\\u4ea4\\u9ad8\\u8d28\\u91cf\\u62a5\\u544a\\u6570&\\u63d0\\u4ea4\\u9ad8\\u8d28\\u91cf\\u62a5\\u544a\\u6570\", \"zeroline\": true}}, {\"showLink\": true, \"linkText\": \"Export to plot.ly\"})});</script>"
      ]
     },
     "metadata": {},
     "output_type": "display_data"
    }
   ],
   "source": [
    "ss=myModule.format(all_dict ,\"日期\" ,['应交高质量报告数','提交高质量报告数'])\n",
    "tt = myModule.myPlot(myModule.sort_by_index(ss.groupby('sum')))\n",
    "tt.plot('line')"
   ]
  },
  {
   "cell_type": "markdown",
   "metadata": {
    "hide_input": true
   },
   "source": [
    "### 甘特图情况"
   ]
  },
  {
   "cell_type": "markdown",
   "metadata": {},
   "source": [
    "#### 季度开发项目数、如期完成项目数、延期完成、开发中的项目数、延期项目数和暂停项目数"
   ]
  },
  {
   "cell_type": "code",
   "execution_count": 6,
   "metadata": {
    "collapsed": false
   },
   "outputs": [
    {
     "data": {
      "application/vnd.plotly.v1+json": {
       "data": [
        {
         "name": "开发中的项目数",
         "type": "scatter",
         "uid": "3d52a484-dbfd-11e8-8ddb-a41f72875c19",
         "x": [
          "8-3",
          "8-4",
          "9-1",
          "9-2",
          "9-3",
          "9-4",
          "10-2",
          "10-3",
          "10-4"
         ],
         "y": [
          73,
          90,
          66,
          48,
          26,
          12,
          0,
          0,
          0
         ]
        },
        {
         "name": "延期完成",
         "type": "scatter",
         "uid": "3d52a485-dbfd-11e8-8ddb-a41f72875c19",
         "x": [
          "8-3",
          "8-4",
          "9-1",
          "9-2",
          "9-3",
          "9-4",
          "10-2",
          "10-3",
          "10-4"
         ],
         "y": [
          15,
          18,
          22,
          8,
          26,
          22,
          0,
          0,
          0
         ]
        },
        {
         "name": "季度开发项目数",
         "type": "scatter",
         "uid": "3d52a486-dbfd-11e8-8ddb-a41f72875c19",
         "x": [
          "8-3",
          "8-4",
          "9-1",
          "9-2",
          "9-3",
          "9-4",
          "10-2",
          "10-3",
          "10-4"
         ],
         "y": [
          315,
          352,
          357,
          308,
          323,
          262,
          0,
          0,
          0
         ]
        },
        {
         "name": "暂停项目数",
         "type": "scatter",
         "uid": "3d52a487-dbfd-11e8-8ddb-a41f72875c19",
         "x": [
          "8-3",
          "8-4",
          "9-1",
          "9-2",
          "9-3",
          "9-4",
          "10-2",
          "10-3",
          "10-4"
         ],
         "y": [
          15,
          15,
          21,
          18,
          34,
          22,
          0,
          0,
          0
         ]
        },
        {
         "name": "如期完成项目数",
         "type": "scatter",
         "uid": "3d52a488-dbfd-11e8-8ddb-a41f72875c19",
         "x": [
          "8-3",
          "8-4",
          "9-1",
          "9-2",
          "9-3",
          "9-4",
          "10-2",
          "10-3",
          "10-4"
         ],
         "y": [
          199,
          218,
          228,
          219,
          241,
          212,
          0,
          0,
          0
         ]
        },
        {
         "name": "延期项目数",
         "type": "scatter",
         "uid": "3d52a489-dbfd-11e8-8ddb-a41f72875c19",
         "x": [
          "8-3",
          "8-4",
          "9-1",
          "9-2",
          "9-3",
          "9-4",
          "10-2",
          "10-3",
          "10-4"
         ],
         "y": [
          11,
          13,
          26,
          20,
          14,
          16,
          2,
          5,
          13
         ]
        }
       ],
       "layout": {
        "title": "开发中的项目数&延期完成&季度开发项目数&暂停项目数&如期完成项目数&延期项目数周趋势图",
        "xaxis": {
         "mirror": "all",
         "nticks": 20,
         "showgrid": true,
         "showline": true,
         "title": "周",
         "type": "category",
         "zeroline": true
        },
        "yaxis": {
         "mirror": "all",
         "nticks": 20,
         "showgrid": true,
         "showline": true,
         "title": "开发中的项目数&延期完成&季度开发项目数&暂停项目数&如期完成项目数&延期项目数",
         "zeroline": true
        }
       }
      },
      "text/html": [
       "<div id=\"f13813a9-1da5-4bcf-b6db-8db5fa78abcd\" style=\"height: 525px; width: 100%;\" class=\"plotly-graph-div\"></div><script type=\"text/javascript\">require([\"plotly\"], function(Plotly) { window.PLOTLYENV=window.PLOTLYENV || {};window.PLOTLYENV.BASE_URL=\"https://plot.ly\";Plotly.newPlot(\"f13813a9-1da5-4bcf-b6db-8db5fa78abcd\", [{\"name\": \"\\u5f00\\u53d1\\u4e2d\\u7684\\u9879\\u76ee\\u6570\", \"x\": [\"8-3\", \"8-4\", \"9-1\", \"9-2\", \"9-3\", \"9-4\", \"10-2\", \"10-3\", \"10-4\"], \"y\": [73.0, 90.0, 66.0, 48.0, 26.0, 12.0, 0.0, 0.0, 0.0], \"type\": \"scatter\", \"uid\": \"3d52a484-dbfd-11e8-8ddb-a41f72875c19\"}, {\"name\": \"\\u5ef6\\u671f\\u5b8c\\u6210\", \"x\": [\"8-3\", \"8-4\", \"9-1\", \"9-2\", \"9-3\", \"9-4\", \"10-2\", \"10-3\", \"10-4\"], \"y\": [15.0, 18.0, 22.0, 8.0, 26.0, 22.0, 0.0, 0.0, 0.0], \"type\": \"scatter\", \"uid\": \"3d52a485-dbfd-11e8-8ddb-a41f72875c19\"}, {\"name\": \"\\u5b63\\u5ea6\\u5f00\\u53d1\\u9879\\u76ee\\u6570\", \"x\": [\"8-3\", \"8-4\", \"9-1\", \"9-2\", \"9-3\", \"9-4\", \"10-2\", \"10-3\", \"10-4\"], \"y\": [315.0, 352.0, 357.0, 308.0, 323.0, 262.0, 0.0, 0.0, 0.0], \"type\": \"scatter\", \"uid\": \"3d52a486-dbfd-11e8-8ddb-a41f72875c19\"}, {\"name\": \"\\u6682\\u505c\\u9879\\u76ee\\u6570\", \"x\": [\"8-3\", \"8-4\", \"9-1\", \"9-2\", \"9-3\", \"9-4\", \"10-2\", \"10-3\", \"10-4\"], \"y\": [15, 15, 21, 18, 34, 22, 0, 0, 0], \"type\": \"scatter\", \"uid\": \"3d52a487-dbfd-11e8-8ddb-a41f72875c19\"}, {\"name\": \"\\u5982\\u671f\\u5b8c\\u6210\\u9879\\u76ee\\u6570\", \"x\": [\"8-3\", \"8-4\", \"9-1\", \"9-2\", \"9-3\", \"9-4\", \"10-2\", \"10-3\", \"10-4\"], \"y\": [199.0, 218.0, 228.0, 219.0, 241.0, 212.0, 0.0, 0.0, 0.0], \"type\": \"scatter\", \"uid\": \"3d52a488-dbfd-11e8-8ddb-a41f72875c19\"}, {\"name\": \"\\u5ef6\\u671f\\u9879\\u76ee\\u6570\", \"x\": [\"8-3\", \"8-4\", \"9-1\", \"9-2\", \"9-3\", \"9-4\", \"10-2\", \"10-3\", \"10-4\"], \"y\": [11, 13, 26, 20, 14, 16, 2, 5, 13], \"type\": \"scatter\", \"uid\": \"3d52a489-dbfd-11e8-8ddb-a41f72875c19\"}], {\"title\": \"\\u5f00\\u53d1\\u4e2d\\u7684\\u9879\\u76ee\\u6570&\\u5ef6\\u671f\\u5b8c\\u6210&\\u5b63\\u5ea6\\u5f00\\u53d1\\u9879\\u76ee\\u6570&\\u6682\\u505c\\u9879\\u76ee\\u6570&\\u5982\\u671f\\u5b8c\\u6210\\u9879\\u76ee\\u6570&\\u5ef6\\u671f\\u9879\\u76ee\\u6570\\u5468\\u8d8b\\u52bf\\u56fe\", \"xaxis\": {\"mirror\": \"all\", \"nticks\": 20, \"showgrid\": true, \"showline\": true, \"title\": \"\\u5468\", \"type\": \"category\", \"zeroline\": true}, \"yaxis\": {\"mirror\": \"all\", \"nticks\": 20, \"showgrid\": true, \"showline\": true, \"title\": \"\\u5f00\\u53d1\\u4e2d\\u7684\\u9879\\u76ee\\u6570&\\u5ef6\\u671f\\u5b8c\\u6210&\\u5b63\\u5ea6\\u5f00\\u53d1\\u9879\\u76ee\\u6570&\\u6682\\u505c\\u9879\\u76ee\\u6570&\\u5982\\u671f\\u5b8c\\u6210\\u9879\\u76ee\\u6570&\\u5ef6\\u671f\\u9879\\u76ee\\u6570\", \"zeroline\": true}}, {\"showLink\": true, \"linkText\": \"Export to plot.ly\"})});</script>"
      ],
      "text/vnd.plotly.v1+html": [
       "<div id=\"f13813a9-1da5-4bcf-b6db-8db5fa78abcd\" style=\"height: 525px; width: 100%;\" class=\"plotly-graph-div\"></div><script type=\"text/javascript\">require([\"plotly\"], function(Plotly) { window.PLOTLYENV=window.PLOTLYENV || {};window.PLOTLYENV.BASE_URL=\"https://plot.ly\";Plotly.newPlot(\"f13813a9-1da5-4bcf-b6db-8db5fa78abcd\", [{\"name\": \"\\u5f00\\u53d1\\u4e2d\\u7684\\u9879\\u76ee\\u6570\", \"x\": [\"8-3\", \"8-4\", \"9-1\", \"9-2\", \"9-3\", \"9-4\", \"10-2\", \"10-3\", \"10-4\"], \"y\": [73.0, 90.0, 66.0, 48.0, 26.0, 12.0, 0.0, 0.0, 0.0], \"type\": \"scatter\", \"uid\": \"3d52a484-dbfd-11e8-8ddb-a41f72875c19\"}, {\"name\": \"\\u5ef6\\u671f\\u5b8c\\u6210\", \"x\": [\"8-3\", \"8-4\", \"9-1\", \"9-2\", \"9-3\", \"9-4\", \"10-2\", \"10-3\", \"10-4\"], \"y\": [15.0, 18.0, 22.0, 8.0, 26.0, 22.0, 0.0, 0.0, 0.0], \"type\": \"scatter\", \"uid\": \"3d52a485-dbfd-11e8-8ddb-a41f72875c19\"}, {\"name\": \"\\u5b63\\u5ea6\\u5f00\\u53d1\\u9879\\u76ee\\u6570\", \"x\": [\"8-3\", \"8-4\", \"9-1\", \"9-2\", \"9-3\", \"9-4\", \"10-2\", \"10-3\", \"10-4\"], \"y\": [315.0, 352.0, 357.0, 308.0, 323.0, 262.0, 0.0, 0.0, 0.0], \"type\": \"scatter\", \"uid\": \"3d52a486-dbfd-11e8-8ddb-a41f72875c19\"}, {\"name\": \"\\u6682\\u505c\\u9879\\u76ee\\u6570\", \"x\": [\"8-3\", \"8-4\", \"9-1\", \"9-2\", \"9-3\", \"9-4\", \"10-2\", \"10-3\", \"10-4\"], \"y\": [15, 15, 21, 18, 34, 22, 0, 0, 0], \"type\": \"scatter\", \"uid\": \"3d52a487-dbfd-11e8-8ddb-a41f72875c19\"}, {\"name\": \"\\u5982\\u671f\\u5b8c\\u6210\\u9879\\u76ee\\u6570\", \"x\": [\"8-3\", \"8-4\", \"9-1\", \"9-2\", \"9-3\", \"9-4\", \"10-2\", \"10-3\", \"10-4\"], \"y\": [199.0, 218.0, 228.0, 219.0, 241.0, 212.0, 0.0, 0.0, 0.0], \"type\": \"scatter\", \"uid\": \"3d52a488-dbfd-11e8-8ddb-a41f72875c19\"}, {\"name\": \"\\u5ef6\\u671f\\u9879\\u76ee\\u6570\", \"x\": [\"8-3\", \"8-4\", \"9-1\", \"9-2\", \"9-3\", \"9-4\", \"10-2\", \"10-3\", \"10-4\"], \"y\": [11, 13, 26, 20, 14, 16, 2, 5, 13], \"type\": \"scatter\", \"uid\": \"3d52a489-dbfd-11e8-8ddb-a41f72875c19\"}], {\"title\": \"\\u5f00\\u53d1\\u4e2d\\u7684\\u9879\\u76ee\\u6570&\\u5ef6\\u671f\\u5b8c\\u6210&\\u5b63\\u5ea6\\u5f00\\u53d1\\u9879\\u76ee\\u6570&\\u6682\\u505c\\u9879\\u76ee\\u6570&\\u5982\\u671f\\u5b8c\\u6210\\u9879\\u76ee\\u6570&\\u5ef6\\u671f\\u9879\\u76ee\\u6570\\u5468\\u8d8b\\u52bf\\u56fe\", \"xaxis\": {\"mirror\": \"all\", \"nticks\": 20, \"showgrid\": true, \"showline\": true, \"title\": \"\\u5468\", \"type\": \"category\", \"zeroline\": true}, \"yaxis\": {\"mirror\": \"all\", \"nticks\": 20, \"showgrid\": true, \"showline\": true, \"title\": \"\\u5f00\\u53d1\\u4e2d\\u7684\\u9879\\u76ee\\u6570&\\u5ef6\\u671f\\u5b8c\\u6210&\\u5b63\\u5ea6\\u5f00\\u53d1\\u9879\\u76ee\\u6570&\\u6682\\u505c\\u9879\\u76ee\\u6570&\\u5982\\u671f\\u5b8c\\u6210\\u9879\\u76ee\\u6570&\\u5ef6\\u671f\\u9879\\u76ee\\u6570\", \"zeroline\": true}}, {\"showLink\": true, \"linkText\": \"Export to plot.ly\"})});</script>"
      ]
     },
     "metadata": {},
     "output_type": "display_data"
    }
   ],
   "source": [
    "ss=myModule.format(all_dict ,\"日期\" ,['季度开发项目数', '如期完成项目数', '延期完成', '开发中的项目数', '延期项目数', '暂停项目数'])\n",
    "tt = myModule.myPlot(myModule.sort_by_index(ss.groupby('sum')))\n",
    "tt.plot('line')"
   ]
  },
  {
   "cell_type": "markdown",
   "metadata": {
    "hide_input": true
   },
   "source": [
    "### 个人成长指数"
   ]
  },
  {
   "cell_type": "markdown",
   "metadata": {},
   "source": [
    "#### 电话会议次数、软著撰写完成数、专利撰写完成数、外出技术支持数、客户来访接待数和文章数"
   ]
  },
  {
   "cell_type": "code",
   "execution_count": 7,
   "metadata": {
    "collapsed": false
   },
   "outputs": [
    {
     "data": {
      "application/vnd.plotly.v1+json": {
       "data": [
        {
         "name": "电话会议次数",
         "type": "scatter",
         "uid": "3d52a48a-dbfd-11e8-8ddb-a41f72875c19",
         "x": [
          "8-3",
          "8-4",
          "9-1",
          "9-2",
          "9-3",
          "9-4",
          "10-2",
          "10-3",
          "10-4"
         ],
         "y": [
          9,
          5,
          5,
          8,
          10,
          3,
          0,
          0,
          0
         ]
        },
        {
         "name": "客户来访接待数",
         "type": "scatter",
         "uid": "3d52a48b-dbfd-11e8-8ddb-a41f72875c19",
         "x": [
          "8-3",
          "8-4",
          "9-1",
          "9-2",
          "9-3",
          "9-4",
          "10-2",
          "10-3",
          "10-4"
         ],
         "y": [
          3,
          0,
          0,
          0,
          1,
          10,
          0,
          0,
          0
         ]
        },
        {
         "name": "外出技术支持数",
         "type": "scatter",
         "uid": "3d52a48c-dbfd-11e8-8ddb-a41f72875c19",
         "x": [
          "8-3",
          "8-4",
          "9-1",
          "9-2",
          "9-3",
          "9-4",
          "10-2",
          "10-3",
          "10-4"
         ],
         "y": [
          0,
          0,
          0,
          0,
          0,
          0,
          0,
          0,
          0
         ]
        }
       ],
       "layout": {
        "title": "电话会议次数&客户来访接待数&外出技术支持数周趋势图",
        "xaxis": {
         "mirror": "all",
         "nticks": 20,
         "showgrid": true,
         "showline": true,
         "title": "周",
         "type": "category",
         "zeroline": true
        },
        "yaxis": {
         "mirror": "all",
         "nticks": 20,
         "showgrid": true,
         "showline": true,
         "title": "电话会议次数&客户来访接待数&外出技术支持数",
         "zeroline": true
        }
       }
      },
      "text/html": [
       "<div id=\"7cd30e4b-5ce0-48c3-ba3c-d5b1fa831f23\" style=\"height: 525px; width: 100%;\" class=\"plotly-graph-div\"></div><script type=\"text/javascript\">require([\"plotly\"], function(Plotly) { window.PLOTLYENV=window.PLOTLYENV || {};window.PLOTLYENV.BASE_URL=\"https://plot.ly\";Plotly.newPlot(\"7cd30e4b-5ce0-48c3-ba3c-d5b1fa831f23\", [{\"name\": \"\\u7535\\u8bdd\\u4f1a\\u8bae\\u6b21\\u6570\", \"x\": [\"8-3\", \"8-4\", \"9-1\", \"9-2\", \"9-3\", \"9-4\", \"10-2\", \"10-3\", \"10-4\"], \"y\": [9.0, 5.0, 5.0, 8.0, 10.0, 3.0, 0.0, 0.0, 0.0], \"type\": \"scatter\", \"uid\": \"3d52a48a-dbfd-11e8-8ddb-a41f72875c19\"}, {\"name\": \"\\u5ba2\\u6237\\u6765\\u8bbf\\u63a5\\u5f85\\u6570\", \"x\": [\"8-3\", \"8-4\", \"9-1\", \"9-2\", \"9-3\", \"9-4\", \"10-2\", \"10-3\", \"10-4\"], \"y\": [3.0, 0.0, 0.0, 0.0, 1.0, 10.0, 0.0, 0.0, 0.0], \"type\": \"scatter\", \"uid\": \"3d52a48b-dbfd-11e8-8ddb-a41f72875c19\"}, {\"name\": \"\\u5916\\u51fa\\u6280\\u672f\\u652f\\u6301\\u6570\", \"x\": [\"8-3\", \"8-4\", \"9-1\", \"9-2\", \"9-3\", \"9-4\", \"10-2\", \"10-3\", \"10-4\"], \"y\": [0.0, 0.0, 0.0, 0.0, 0.0, 0.0, 0.0, 0.0, 0.0], \"type\": \"scatter\", \"uid\": \"3d52a48c-dbfd-11e8-8ddb-a41f72875c19\"}], {\"title\": \"\\u7535\\u8bdd\\u4f1a\\u8bae\\u6b21\\u6570&\\u5ba2\\u6237\\u6765\\u8bbf\\u63a5\\u5f85\\u6570&\\u5916\\u51fa\\u6280\\u672f\\u652f\\u6301\\u6570\\u5468\\u8d8b\\u52bf\\u56fe\", \"xaxis\": {\"mirror\": \"all\", \"nticks\": 20, \"showgrid\": true, \"showline\": true, \"title\": \"\\u5468\", \"type\": \"category\", \"zeroline\": true}, \"yaxis\": {\"mirror\": \"all\", \"nticks\": 20, \"showgrid\": true, \"showline\": true, \"title\": \"\\u7535\\u8bdd\\u4f1a\\u8bae\\u6b21\\u6570&\\u5ba2\\u6237\\u6765\\u8bbf\\u63a5\\u5f85\\u6570&\\u5916\\u51fa\\u6280\\u672f\\u652f\\u6301\\u6570\", \"zeroline\": true}}, {\"showLink\": true, \"linkText\": \"Export to plot.ly\"})});</script>"
      ],
      "text/vnd.plotly.v1+html": [
       "<div id=\"7cd30e4b-5ce0-48c3-ba3c-d5b1fa831f23\" style=\"height: 525px; width: 100%;\" class=\"plotly-graph-div\"></div><script type=\"text/javascript\">require([\"plotly\"], function(Plotly) { window.PLOTLYENV=window.PLOTLYENV || {};window.PLOTLYENV.BASE_URL=\"https://plot.ly\";Plotly.newPlot(\"7cd30e4b-5ce0-48c3-ba3c-d5b1fa831f23\", [{\"name\": \"\\u7535\\u8bdd\\u4f1a\\u8bae\\u6b21\\u6570\", \"x\": [\"8-3\", \"8-4\", \"9-1\", \"9-2\", \"9-3\", \"9-4\", \"10-2\", \"10-3\", \"10-4\"], \"y\": [9.0, 5.0, 5.0, 8.0, 10.0, 3.0, 0.0, 0.0, 0.0], \"type\": \"scatter\", \"uid\": \"3d52a48a-dbfd-11e8-8ddb-a41f72875c19\"}, {\"name\": \"\\u5ba2\\u6237\\u6765\\u8bbf\\u63a5\\u5f85\\u6570\", \"x\": [\"8-3\", \"8-4\", \"9-1\", \"9-2\", \"9-3\", \"9-4\", \"10-2\", \"10-3\", \"10-4\"], \"y\": [3.0, 0.0, 0.0, 0.0, 1.0, 10.0, 0.0, 0.0, 0.0], \"type\": \"scatter\", \"uid\": \"3d52a48b-dbfd-11e8-8ddb-a41f72875c19\"}, {\"name\": \"\\u5916\\u51fa\\u6280\\u672f\\u652f\\u6301\\u6570\", \"x\": [\"8-3\", \"8-4\", \"9-1\", \"9-2\", \"9-3\", \"9-4\", \"10-2\", \"10-3\", \"10-4\"], \"y\": [0.0, 0.0, 0.0, 0.0, 0.0, 0.0, 0.0, 0.0, 0.0], \"type\": \"scatter\", \"uid\": \"3d52a48c-dbfd-11e8-8ddb-a41f72875c19\"}], {\"title\": \"\\u7535\\u8bdd\\u4f1a\\u8bae\\u6b21\\u6570&\\u5ba2\\u6237\\u6765\\u8bbf\\u63a5\\u5f85\\u6570&\\u5916\\u51fa\\u6280\\u672f\\u652f\\u6301\\u6570\\u5468\\u8d8b\\u52bf\\u56fe\", \"xaxis\": {\"mirror\": \"all\", \"nticks\": 20, \"showgrid\": true, \"showline\": true, \"title\": \"\\u5468\", \"type\": \"category\", \"zeroline\": true}, \"yaxis\": {\"mirror\": \"all\", \"nticks\": 20, \"showgrid\": true, \"showline\": true, \"title\": \"\\u7535\\u8bdd\\u4f1a\\u8bae\\u6b21\\u6570&\\u5ba2\\u6237\\u6765\\u8bbf\\u63a5\\u5f85\\u6570&\\u5916\\u51fa\\u6280\\u672f\\u652f\\u6301\\u6570\", \"zeroline\": true}}, {\"showLink\": true, \"linkText\": \"Export to plot.ly\"})});</script>"
      ]
     },
     "metadata": {},
     "output_type": "display_data"
    }
   ],
   "source": [
    "ss=myModule.format(all_dict ,\"日期\" ,['电话会议次数', '外出技术支持数', '客户来访接待数'])\n",
    "tt = myModule.myPlot(myModule.sort_by_index(ss.groupby('sum')))\n",
    "tt.plot('line')"
   ]
  },
  {
   "cell_type": "markdown",
   "metadata": {
    "hide_input": true
   },
   "source": [
    "## 各组情况"
   ]
  },
  {
   "cell_type": "markdown",
   "metadata": {},
   "source": [
    "### 下单整体情况"
   ]
  },
  {
   "cell_type": "markdown",
   "metadata": {},
   "source": [
    "\n",
    "#### 总下单数和完成下单数\n"
   ]
  },
  {
   "cell_type": "code",
   "execution_count": 8,
   "metadata": {
    "collapsed": false
   },
   "outputs": [
    {
     "data": {
      "application/vnd.plotly.v1+json": {
       "data": [
        {
         "line": {
          "dash": "solid"
         },
         "name": "总下单数(生物学DNA组)",
         "type": "scatter",
         "uid": "3d52a48d-dbfd-11e8-8ddb-a41f72875c19",
         "x": [
          "8-3",
          "8-4",
          "9-1",
          "9-2",
          "9-3",
          "9-4",
          "10-2",
          "10-3",
          "10-4"
         ],
         "y": [
          28,
          35,
          37,
          36,
          33,
          29,
          43,
          42,
          35
         ]
        },
        {
         "line": {
          "dash": "dot"
         },
         "name": "总下单数(QC)",
         "type": "scatter",
         "uid": "3d52a48e-dbfd-11e8-8ddb-a41f72875c19",
         "x": [
          "8-3",
          "8-4",
          "9-1",
          "9-2",
          "9-3",
          "9-4",
          "10-2",
          "10-3",
          "10-4"
         ],
         "y": [
          null,
          null,
          null,
          null,
          null,
          null,
          3,
          null,
          5
         ]
        },
        {
         "line": {
          "dash": "dash"
         },
         "name": "总下单数(义乌生信组)",
         "type": "scatter",
         "uid": "3d52a48f-dbfd-11e8-8ddb-a41f72875c19",
         "x": [
          "8-3",
          "8-4",
          "9-1",
          "9-2",
          "9-3",
          "9-4",
          "10-2",
          "10-3",
          "10-4"
         ],
         "y": [
          null,
          null,
          null,
          null,
          null,
          null,
          null,
          null,
          4
         ]
        },
        {
         "line": {
          "dash": "longdash"
         },
         "name": "总下单数(分析组)",
         "type": "scatter",
         "uid": "3d52a490-dbfd-11e8-8ddb-a41f72875c19",
         "x": [
          "8-3",
          "8-4",
          "9-1",
          "9-2",
          "9-3",
          "9-4",
          "10-2",
          "10-3",
          "10-4"
         ],
         "y": [
          null,
          null,
          null,
          null,
          null,
          null,
          null,
          null,
          1
         ]
        },
        {
         "line": {
          "dash": "dashdot"
         },
         "name": "总下单数(转录调控组)",
         "type": "scatter",
         "uid": "3d52a491-dbfd-11e8-8ddb-a41f72875c19",
         "x": [
          "8-3",
          "8-4",
          "9-1",
          "9-2",
          "9-3",
          "9-4",
          "10-2",
          "10-3",
          "10-4"
         ],
         "y": [
          27,
          28,
          28,
          28,
          35,
          30,
          27,
          24,
          29
         ]
        },
        {
         "line": {
          "dash": "longdashdot"
         },
         "name": "总下单数(蛋白和医学组)",
         "type": "scatter",
         "uid": "3d52a492-dbfd-11e8-8ddb-a41f72875c19",
         "x": [
          "8-3",
          "8-4",
          "9-1",
          "9-2",
          "9-3",
          "9-4",
          "10-2",
          "10-3",
          "10-4"
         ],
         "y": [
          35,
          48,
          37,
          33,
          54,
          30,
          37,
          40,
          53
         ]
        },
        {
         "line": {
          "dash": "solid"
         },
         "name": "完成下单数(生物学DNA组)",
         "type": "scatter",
         "uid": "3d52a493-dbfd-11e8-8ddb-a41f72875c19",
         "x": [
          "8-3",
          "8-4",
          "9-1",
          "9-2",
          "9-3",
          "9-4",
          "10-2",
          "10-3",
          "10-4"
         ],
         "y": [
          19,
          31,
          40,
          31,
          29,
          29,
          31,
          37,
          30
         ]
        },
        {
         "line": {
          "dash": "dot"
         },
         "name": "完成下单数(QC)",
         "type": "scatter",
         "uid": "3d52a494-dbfd-11e8-8ddb-a41f72875c19",
         "x": [
          "8-3",
          "8-4",
          "9-1",
          "9-2",
          "9-3",
          "9-4",
          "10-2",
          "10-3",
          "10-4"
         ],
         "y": [
          null,
          null,
          null,
          null,
          null,
          null,
          3,
          null,
          4
         ]
        },
        {
         "line": {
          "dash": "dash"
         },
         "name": "完成下单数(义乌生信组)",
         "type": "scatter",
         "uid": "3d52a495-dbfd-11e8-8ddb-a41f72875c19",
         "x": [
          "8-3",
          "8-4",
          "9-1",
          "9-2",
          "9-3",
          "9-4",
          "10-2",
          "10-3",
          "10-4"
         ],
         "y": [
          null,
          null,
          null,
          null,
          null,
          null,
          null,
          null,
          4
         ]
        },
        {
         "line": {
          "dash": "longdash"
         },
         "name": "完成下单数(分析组)",
         "type": "scatter",
         "uid": "3d52a496-dbfd-11e8-8ddb-a41f72875c19",
         "x": [
          "8-3",
          "8-4",
          "9-1",
          "9-2",
          "9-3",
          "9-4",
          "10-2",
          "10-3",
          "10-4"
         ],
         "y": [
          null,
          null,
          null,
          null,
          null,
          null,
          null,
          null,
          0
         ]
        },
        {
         "line": {
          "dash": "dashdot"
         },
         "name": "完成下单数(转录调控组)",
         "type": "scatter",
         "uid": "3d52a497-dbfd-11e8-8ddb-a41f72875c19",
         "x": [
          "8-3",
          "8-4",
          "9-1",
          "9-2",
          "9-3",
          "9-4",
          "10-2",
          "10-3",
          "10-4"
         ],
         "y": [
          23,
          25,
          23,
          27,
          33,
          28,
          16,
          21,
          27
         ]
        },
        {
         "line": {
          "dash": "longdashdot"
         },
         "name": "完成下单数(蛋白和医学组)",
         "type": "scatter",
         "uid": "3d52a498-dbfd-11e8-8ddb-a41f72875c19",
         "x": [
          "8-3",
          "8-4",
          "9-1",
          "9-2",
          "9-3",
          "9-4",
          "10-2",
          "10-3",
          "10-4"
         ],
         "y": [
          34,
          47,
          34,
          30,
          52,
          29,
          37,
          35,
          50
         ]
        }
       ],
       "layout": {
        "title": "总下单数&完成下单数周趋势图",
        "xaxis": {
         "mirror": "all",
         "nticks": 20,
         "showgrid": true,
         "showline": true,
         "title": "周",
         "type": "category",
         "zeroline": true
        },
        "yaxis": {
         "mirror": "all",
         "nticks": 20,
         "showgrid": true,
         "showline": true,
         "title": "总下单数&完成下单数",
         "zeroline": true
        }
       }
      },
      "text/html": [
       "<div id=\"5cb0e04b-66c9-4230-ab93-e9920625025e\" style=\"height: 525px; width: 100%;\" class=\"plotly-graph-div\"></div><script type=\"text/javascript\">require([\"plotly\"], function(Plotly) { window.PLOTLYENV=window.PLOTLYENV || {};window.PLOTLYENV.BASE_URL=\"https://plot.ly\";Plotly.newPlot(\"5cb0e04b-66c9-4230-ab93-e9920625025e\", [{\"line\": {\"dash\": \"solid\"}, \"name\": \"\\u603b\\u4e0b\\u5355\\u6570(\\u751f\\u7269\\u5b66DNA\\u7ec4)\", \"x\": [\"8-3\", \"8-4\", \"9-1\", \"9-2\", \"9-3\", \"9-4\", \"10-2\", \"10-3\", \"10-4\"], \"y\": [28.0, 35.0, 37.0, 36.0, 33.0, 29.0, 43.0, 42.0, 35.0], \"type\": \"scatter\", \"uid\": \"3d52a48d-dbfd-11e8-8ddb-a41f72875c19\"}, {\"line\": {\"dash\": \"dot\"}, \"name\": \"\\u603b\\u4e0b\\u5355\\u6570(QC)\", \"x\": [\"8-3\", \"8-4\", \"9-1\", \"9-2\", \"9-3\", \"9-4\", \"10-2\", \"10-3\", \"10-4\"], \"y\": [null, null, null, null, null, null, 3.0, null, 5.0], \"type\": \"scatter\", \"uid\": \"3d52a48e-dbfd-11e8-8ddb-a41f72875c19\"}, {\"line\": {\"dash\": \"dash\"}, \"name\": \"\\u603b\\u4e0b\\u5355\\u6570(\\u4e49\\u4e4c\\u751f\\u4fe1\\u7ec4)\", \"x\": [\"8-3\", \"8-4\", \"9-1\", \"9-2\", \"9-3\", \"9-4\", \"10-2\", \"10-3\", \"10-4\"], \"y\": [null, null, null, null, null, null, null, null, 4.0], \"type\": \"scatter\", \"uid\": \"3d52a48f-dbfd-11e8-8ddb-a41f72875c19\"}, {\"line\": {\"dash\": \"longdash\"}, \"name\": \"\\u603b\\u4e0b\\u5355\\u6570(\\u5206\\u6790\\u7ec4)\", \"x\": [\"8-3\", \"8-4\", \"9-1\", \"9-2\", \"9-3\", \"9-4\", \"10-2\", \"10-3\", \"10-4\"], \"y\": [null, null, null, null, null, null, null, null, 1.0], \"type\": \"scatter\", \"uid\": \"3d52a490-dbfd-11e8-8ddb-a41f72875c19\"}, {\"line\": {\"dash\": \"dashdot\"}, \"name\": \"\\u603b\\u4e0b\\u5355\\u6570(\\u8f6c\\u5f55\\u8c03\\u63a7\\u7ec4)\", \"x\": [\"8-3\", \"8-4\", \"9-1\", \"9-2\", \"9-3\", \"9-4\", \"10-2\", \"10-3\", \"10-4\"], \"y\": [27.0, 28.0, 28.0, 28.0, 35.0, 30.0, 27.0, 24.0, 29.0], \"type\": \"scatter\", \"uid\": \"3d52a491-dbfd-11e8-8ddb-a41f72875c19\"}, {\"line\": {\"dash\": \"longdashdot\"}, \"name\": \"\\u603b\\u4e0b\\u5355\\u6570(\\u86cb\\u767d\\u548c\\u533b\\u5b66\\u7ec4)\", \"x\": [\"8-3\", \"8-4\", \"9-1\", \"9-2\", \"9-3\", \"9-4\", \"10-2\", \"10-3\", \"10-4\"], \"y\": [35.0, 48.0, 37.0, 33.0, 54.0, 30.0, 37.0, 40.0, 53.0], \"type\": \"scatter\", \"uid\": \"3d52a492-dbfd-11e8-8ddb-a41f72875c19\"}, {\"line\": {\"dash\": \"solid\"}, \"name\": \"\\u5b8c\\u6210\\u4e0b\\u5355\\u6570(\\u751f\\u7269\\u5b66DNA\\u7ec4)\", \"x\": [\"8-3\", \"8-4\", \"9-1\", \"9-2\", \"9-3\", \"9-4\", \"10-2\", \"10-3\", \"10-4\"], \"y\": [19.0, 31.0, 40.0, 31.0, 29.0, 29.0, 31.0, 37.0, 30.0], \"type\": \"scatter\", \"uid\": \"3d52a493-dbfd-11e8-8ddb-a41f72875c19\"}, {\"line\": {\"dash\": \"dot\"}, \"name\": \"\\u5b8c\\u6210\\u4e0b\\u5355\\u6570(QC)\", \"x\": [\"8-3\", \"8-4\", \"9-1\", \"9-2\", \"9-3\", \"9-4\", \"10-2\", \"10-3\", \"10-4\"], \"y\": [null, null, null, null, null, null, 3.0, null, 4.0], \"type\": \"scatter\", \"uid\": \"3d52a494-dbfd-11e8-8ddb-a41f72875c19\"}, {\"line\": {\"dash\": \"dash\"}, \"name\": \"\\u5b8c\\u6210\\u4e0b\\u5355\\u6570(\\u4e49\\u4e4c\\u751f\\u4fe1\\u7ec4)\", \"x\": [\"8-3\", \"8-4\", \"9-1\", \"9-2\", \"9-3\", \"9-4\", \"10-2\", \"10-3\", \"10-4\"], \"y\": [null, null, null, null, null, null, null, null, 4.0], \"type\": \"scatter\", \"uid\": \"3d52a495-dbfd-11e8-8ddb-a41f72875c19\"}, {\"line\": {\"dash\": \"longdash\"}, \"name\": \"\\u5b8c\\u6210\\u4e0b\\u5355\\u6570(\\u5206\\u6790\\u7ec4)\", \"x\": [\"8-3\", \"8-4\", \"9-1\", \"9-2\", \"9-3\", \"9-4\", \"10-2\", \"10-3\", \"10-4\"], \"y\": [null, null, null, null, null, null, null, null, 0.0], \"type\": \"scatter\", \"uid\": \"3d52a496-dbfd-11e8-8ddb-a41f72875c19\"}, {\"line\": {\"dash\": \"dashdot\"}, \"name\": \"\\u5b8c\\u6210\\u4e0b\\u5355\\u6570(\\u8f6c\\u5f55\\u8c03\\u63a7\\u7ec4)\", \"x\": [\"8-3\", \"8-4\", \"9-1\", \"9-2\", \"9-3\", \"9-4\", \"10-2\", \"10-3\", \"10-4\"], \"y\": [23.0, 25.0, 23.0, 27.0, 33.0, 28.0, 16.0, 21.0, 27.0], \"type\": \"scatter\", \"uid\": \"3d52a497-dbfd-11e8-8ddb-a41f72875c19\"}, {\"line\": {\"dash\": \"longdashdot\"}, \"name\": \"\\u5b8c\\u6210\\u4e0b\\u5355\\u6570(\\u86cb\\u767d\\u548c\\u533b\\u5b66\\u7ec4)\", \"x\": [\"8-3\", \"8-4\", \"9-1\", \"9-2\", \"9-3\", \"9-4\", \"10-2\", \"10-3\", \"10-4\"], \"y\": [34.0, 47.0, 34.0, 30.0, 52.0, 29.0, 37.0, 35.0, 50.0], \"type\": \"scatter\", \"uid\": \"3d52a498-dbfd-11e8-8ddb-a41f72875c19\"}], {\"title\": \"\\u603b\\u4e0b\\u5355\\u6570&\\u5b8c\\u6210\\u4e0b\\u5355\\u6570\\u5468\\u8d8b\\u52bf\\u56fe\", \"xaxis\": {\"mirror\": \"all\", \"nticks\": 20, \"showgrid\": true, \"showline\": true, \"title\": \"\\u5468\", \"type\": \"category\", \"zeroline\": true}, \"yaxis\": {\"mirror\": \"all\", \"nticks\": 20, \"showgrid\": true, \"showline\": true, \"title\": \"\\u603b\\u4e0b\\u5355\\u6570&\\u5b8c\\u6210\\u4e0b\\u5355\\u6570\", \"zeroline\": true}}, {\"showLink\": true, \"linkText\": \"Export to plot.ly\"})});</script>"
      ],
      "text/vnd.plotly.v1+html": [
       "<div id=\"5cb0e04b-66c9-4230-ab93-e9920625025e\" style=\"height: 525px; width: 100%;\" class=\"plotly-graph-div\"></div><script type=\"text/javascript\">require([\"plotly\"], function(Plotly) { window.PLOTLYENV=window.PLOTLYENV || {};window.PLOTLYENV.BASE_URL=\"https://plot.ly\";Plotly.newPlot(\"5cb0e04b-66c9-4230-ab93-e9920625025e\", [{\"line\": {\"dash\": \"solid\"}, \"name\": \"\\u603b\\u4e0b\\u5355\\u6570(\\u751f\\u7269\\u5b66DNA\\u7ec4)\", \"x\": [\"8-3\", \"8-4\", \"9-1\", \"9-2\", \"9-3\", \"9-4\", \"10-2\", \"10-3\", \"10-4\"], \"y\": [28.0, 35.0, 37.0, 36.0, 33.0, 29.0, 43.0, 42.0, 35.0], \"type\": \"scatter\", \"uid\": \"3d52a48d-dbfd-11e8-8ddb-a41f72875c19\"}, {\"line\": {\"dash\": \"dot\"}, \"name\": \"\\u603b\\u4e0b\\u5355\\u6570(QC)\", \"x\": [\"8-3\", \"8-4\", \"9-1\", \"9-2\", \"9-3\", \"9-4\", \"10-2\", \"10-3\", \"10-4\"], \"y\": [null, null, null, null, null, null, 3.0, null, 5.0], \"type\": \"scatter\", \"uid\": \"3d52a48e-dbfd-11e8-8ddb-a41f72875c19\"}, {\"line\": {\"dash\": \"dash\"}, \"name\": \"\\u603b\\u4e0b\\u5355\\u6570(\\u4e49\\u4e4c\\u751f\\u4fe1\\u7ec4)\", \"x\": [\"8-3\", \"8-4\", \"9-1\", \"9-2\", \"9-3\", \"9-4\", \"10-2\", \"10-3\", \"10-4\"], \"y\": [null, null, null, null, null, null, null, null, 4.0], \"type\": \"scatter\", \"uid\": \"3d52a48f-dbfd-11e8-8ddb-a41f72875c19\"}, {\"line\": {\"dash\": \"longdash\"}, \"name\": \"\\u603b\\u4e0b\\u5355\\u6570(\\u5206\\u6790\\u7ec4)\", \"x\": [\"8-3\", \"8-4\", \"9-1\", \"9-2\", \"9-3\", \"9-4\", \"10-2\", \"10-3\", \"10-4\"], \"y\": [null, null, null, null, null, null, null, null, 1.0], \"type\": \"scatter\", \"uid\": \"3d52a490-dbfd-11e8-8ddb-a41f72875c19\"}, {\"line\": {\"dash\": \"dashdot\"}, \"name\": \"\\u603b\\u4e0b\\u5355\\u6570(\\u8f6c\\u5f55\\u8c03\\u63a7\\u7ec4)\", \"x\": [\"8-3\", \"8-4\", \"9-1\", \"9-2\", \"9-3\", \"9-4\", \"10-2\", \"10-3\", \"10-4\"], \"y\": [27.0, 28.0, 28.0, 28.0, 35.0, 30.0, 27.0, 24.0, 29.0], \"type\": \"scatter\", \"uid\": \"3d52a491-dbfd-11e8-8ddb-a41f72875c19\"}, {\"line\": {\"dash\": \"longdashdot\"}, \"name\": \"\\u603b\\u4e0b\\u5355\\u6570(\\u86cb\\u767d\\u548c\\u533b\\u5b66\\u7ec4)\", \"x\": [\"8-3\", \"8-4\", \"9-1\", \"9-2\", \"9-3\", \"9-4\", \"10-2\", \"10-3\", \"10-4\"], \"y\": [35.0, 48.0, 37.0, 33.0, 54.0, 30.0, 37.0, 40.0, 53.0], \"type\": \"scatter\", \"uid\": \"3d52a492-dbfd-11e8-8ddb-a41f72875c19\"}, {\"line\": {\"dash\": \"solid\"}, \"name\": \"\\u5b8c\\u6210\\u4e0b\\u5355\\u6570(\\u751f\\u7269\\u5b66DNA\\u7ec4)\", \"x\": [\"8-3\", \"8-4\", \"9-1\", \"9-2\", \"9-3\", \"9-4\", \"10-2\", \"10-3\", \"10-4\"], \"y\": [19.0, 31.0, 40.0, 31.0, 29.0, 29.0, 31.0, 37.0, 30.0], \"type\": \"scatter\", \"uid\": \"3d52a493-dbfd-11e8-8ddb-a41f72875c19\"}, {\"line\": {\"dash\": \"dot\"}, \"name\": \"\\u5b8c\\u6210\\u4e0b\\u5355\\u6570(QC)\", \"x\": [\"8-3\", \"8-4\", \"9-1\", \"9-2\", \"9-3\", \"9-4\", \"10-2\", \"10-3\", \"10-4\"], \"y\": [null, null, null, null, null, null, 3.0, null, 4.0], \"type\": \"scatter\", \"uid\": \"3d52a494-dbfd-11e8-8ddb-a41f72875c19\"}, {\"line\": {\"dash\": \"dash\"}, \"name\": \"\\u5b8c\\u6210\\u4e0b\\u5355\\u6570(\\u4e49\\u4e4c\\u751f\\u4fe1\\u7ec4)\", \"x\": [\"8-3\", \"8-4\", \"9-1\", \"9-2\", \"9-3\", \"9-4\", \"10-2\", \"10-3\", \"10-4\"], \"y\": [null, null, null, null, null, null, null, null, 4.0], \"type\": \"scatter\", \"uid\": \"3d52a495-dbfd-11e8-8ddb-a41f72875c19\"}, {\"line\": {\"dash\": \"longdash\"}, \"name\": \"\\u5b8c\\u6210\\u4e0b\\u5355\\u6570(\\u5206\\u6790\\u7ec4)\", \"x\": [\"8-3\", \"8-4\", \"9-1\", \"9-2\", \"9-3\", \"9-4\", \"10-2\", \"10-3\", \"10-4\"], \"y\": [null, null, null, null, null, null, null, null, 0.0], \"type\": \"scatter\", \"uid\": \"3d52a496-dbfd-11e8-8ddb-a41f72875c19\"}, {\"line\": {\"dash\": \"dashdot\"}, \"name\": \"\\u5b8c\\u6210\\u4e0b\\u5355\\u6570(\\u8f6c\\u5f55\\u8c03\\u63a7\\u7ec4)\", \"x\": [\"8-3\", \"8-4\", \"9-1\", \"9-2\", \"9-3\", \"9-4\", \"10-2\", \"10-3\", \"10-4\"], \"y\": [23.0, 25.0, 23.0, 27.0, 33.0, 28.0, 16.0, 21.0, 27.0], \"type\": \"scatter\", \"uid\": \"3d52a497-dbfd-11e8-8ddb-a41f72875c19\"}, {\"line\": {\"dash\": \"longdashdot\"}, \"name\": \"\\u5b8c\\u6210\\u4e0b\\u5355\\u6570(\\u86cb\\u767d\\u548c\\u533b\\u5b66\\u7ec4)\", \"x\": [\"8-3\", \"8-4\", \"9-1\", \"9-2\", \"9-3\", \"9-4\", \"10-2\", \"10-3\", \"10-4\"], \"y\": [34.0, 47.0, 34.0, 30.0, 52.0, 29.0, 37.0, 35.0, 50.0], \"type\": \"scatter\", \"uid\": \"3d52a498-dbfd-11e8-8ddb-a41f72875c19\"}], {\"title\": \"\\u603b\\u4e0b\\u5355\\u6570&\\u5b8c\\u6210\\u4e0b\\u5355\\u6570\\u5468\\u8d8b\\u52bf\\u56fe\", \"xaxis\": {\"mirror\": \"all\", \"nticks\": 20, \"showgrid\": true, \"showline\": true, \"title\": \"\\u5468\", \"type\": \"category\", \"zeroline\": true}, \"yaxis\": {\"mirror\": \"all\", \"nticks\": 20, \"showgrid\": true, \"showline\": true, \"title\": \"\\u603b\\u4e0b\\u5355\\u6570&\\u5b8c\\u6210\\u4e0b\\u5355\\u6570\", \"zeroline\": true}}, {\"showLink\": true, \"linkText\": \"Export to plot.ly\"})});</script>"
      ]
     },
     "metadata": {},
     "output_type": "display_data"
    }
   ],
   "source": [
    "ss=myModule.format(all_dict ,\"日期\" ,['总下单数', '完成下单数'])\n",
    "ss.add_group('组别')\n",
    "tt = myModule.myPlot(myModule.sort_by_index(ss.groupby('sum')))\n",
    "tt.plot('line')"
   ]
  },
  {
   "cell_type": "markdown",
   "metadata": {
    "hide_input": true
   },
   "source": [
    "### 高质量报告"
   ]
  },
  {
   "cell_type": "markdown",
   "metadata": {},
   "source": [
    "#### 应交高质量报告数和提交高质量报告数"
   ]
  },
  {
   "cell_type": "code",
   "execution_count": 9,
   "metadata": {
    "collapsed": false
   },
   "outputs": [
    {
     "data": {
      "application/vnd.plotly.v1+json": {
       "data": [
        {
         "line": {
          "dash": "solid"
         },
         "name": "应交高质量报告数(生物学DNA组)",
         "type": "scatter",
         "uid": "3d52a499-dbfd-11e8-8ddb-a41f72875c19",
         "x": [
          "10-2",
          "10-3",
          "10-4",
          "8-3",
          "8-4",
          "9-1",
          "9-2",
          "9-3",
          "9-4"
         ],
         "y": [
          6,
          2,
          1,
          1,
          2,
          11,
          1,
          0,
          0
         ]
        },
        {
         "line": {
          "dash": "dot"
         },
         "name": "应交高质量报告数(QC)",
         "type": "scatter",
         "uid": "3d52a49a-dbfd-11e8-8ddb-a41f72875c19",
         "x": [
          "10-2",
          "10-3",
          "10-4",
          "8-3",
          "8-4",
          "9-1",
          "9-2",
          "9-3",
          "9-4"
         ],
         "y": [
          0,
          null,
          0,
          null,
          null,
          null,
          null,
          null,
          null
         ]
        },
        {
         "line": {
          "dash": "dash"
         },
         "name": "应交高质量报告数(义乌生信组)",
         "type": "scatter",
         "uid": "3d52a49b-dbfd-11e8-8ddb-a41f72875c19",
         "x": [
          "10-2",
          "10-3",
          "10-4",
          "8-3",
          "8-4",
          "9-1",
          "9-2",
          "9-3",
          "9-4"
         ],
         "y": [
          null,
          null,
          2,
          null,
          null,
          null,
          null,
          null,
          null
         ]
        },
        {
         "line": {
          "dash": "longdash"
         },
         "name": "应交高质量报告数(分析组)",
         "type": "scatter",
         "uid": "3d52a49c-dbfd-11e8-8ddb-a41f72875c19",
         "x": [
          "10-2",
          "10-3",
          "10-4",
          "8-3",
          "8-4",
          "9-1",
          "9-2",
          "9-3",
          "9-4"
         ],
         "y": [
          null,
          null,
          0,
          null,
          null,
          null,
          null,
          null,
          null
         ]
        },
        {
         "line": {
          "dash": "dashdot"
         },
         "name": "应交高质量报告数(转录调控组)",
         "type": "scatter",
         "uid": "3d52a49d-dbfd-11e8-8ddb-a41f72875c19",
         "x": [
          "10-2",
          "10-3",
          "10-4",
          "8-3",
          "8-4",
          "9-1",
          "9-2",
          "9-3",
          "9-4"
         ],
         "y": [
          3,
          3,
          0,
          5,
          1,
          3,
          7,
          6,
          2
         ]
        },
        {
         "line": {
          "dash": "longdashdot"
         },
         "name": "应交高质量报告数(蛋白和医学组)",
         "type": "scatter",
         "uid": "3d52a49e-dbfd-11e8-8ddb-a41f72875c19",
         "x": [
          "10-2",
          "10-3",
          "10-4",
          "8-3",
          "8-4",
          "9-1",
          "9-2",
          "9-3",
          "9-4"
         ],
         "y": [
          3,
          0,
          0,
          1,
          4,
          3,
          0,
          0,
          0
         ]
        },
        {
         "line": {
          "dash": "solid"
         },
         "name": "提交高质量报告数(生物学DNA组)",
         "type": "scatter",
         "uid": "3d52a49f-dbfd-11e8-8ddb-a41f72875c19",
         "x": [
          "10-2",
          "10-3",
          "10-4",
          "8-3",
          "8-4",
          "9-1",
          "9-2",
          "9-3",
          "9-4"
         ],
         "y": [
          0,
          0,
          1,
          1,
          2,
          11,
          1,
          1,
          0
         ]
        },
        {
         "line": {
          "dash": "dot"
         },
         "name": "提交高质量报告数(QC)",
         "type": "scatter",
         "uid": "3d52a4a0-dbfd-11e8-8ddb-a41f72875c19",
         "x": [
          "10-2",
          "10-3",
          "10-4",
          "8-3",
          "8-4",
          "9-1",
          "9-2",
          "9-3",
          "9-4"
         ],
         "y": [
          0,
          null,
          0,
          null,
          null,
          null,
          null,
          null,
          null
         ]
        },
        {
         "line": {
          "dash": "dash"
         },
         "name": "提交高质量报告数(义乌生信组)",
         "type": "scatter",
         "uid": "3d52a4a1-dbfd-11e8-8ddb-a41f72875c19",
         "x": [
          "10-2",
          "10-3",
          "10-4",
          "8-3",
          "8-4",
          "9-1",
          "9-2",
          "9-3",
          "9-4"
         ],
         "y": [
          null,
          null,
          1,
          null,
          null,
          null,
          null,
          null,
          null
         ]
        },
        {
         "line": {
          "dash": "longdash"
         },
         "name": "提交高质量报告数(分析组)",
         "type": "scatter",
         "uid": "3d52a4a2-dbfd-11e8-8ddb-a41f72875c19",
         "x": [
          "10-2",
          "10-3",
          "10-4",
          "8-3",
          "8-4",
          "9-1",
          "9-2",
          "9-3",
          "9-4"
         ],
         "y": [
          null,
          null,
          0,
          null,
          null,
          null,
          null,
          null,
          null
         ]
        },
        {
         "line": {
          "dash": "dashdot"
         },
         "name": "提交高质量报告数(转录调控组)",
         "type": "scatter",
         "uid": "3d52a4a3-dbfd-11e8-8ddb-a41f72875c19",
         "x": [
          "10-2",
          "10-3",
          "10-4",
          "8-3",
          "8-4",
          "9-1",
          "9-2",
          "9-3",
          "9-4"
         ],
         "y": [
          0,
          0,
          0,
          5,
          1,
          3,
          5,
          6,
          3
         ]
        },
        {
         "line": {
          "dash": "longdashdot"
         },
         "name": "提交高质量报告数(蛋白和医学组)",
         "type": "scatter",
         "uid": "3d52a4a4-dbfd-11e8-8ddb-a41f72875c19",
         "x": [
          "10-2",
          "10-3",
          "10-4",
          "8-3",
          "8-4",
          "9-1",
          "9-2",
          "9-3",
          "9-4"
         ],
         "y": [
          1,
          0,
          0,
          1,
          4,
          3,
          0,
          0,
          0
         ]
        }
       ],
       "layout": {
        "title": "应交高质量报告数&提交高质量报告数周趋势图",
        "xaxis": {
         "mirror": "all",
         "nticks": 20,
         "showgrid": true,
         "showline": true,
         "title": "周",
         "type": "category",
         "zeroline": true
        },
        "yaxis": {
         "mirror": "all",
         "nticks": 20,
         "showgrid": true,
         "showline": true,
         "title": "应交高质量报告数&提交高质量报告数",
         "zeroline": true
        }
       }
      },
      "text/html": [
       "<div id=\"2c66e723-d43d-4aca-bedc-d401c445a0bd\" style=\"height: 525px; width: 100%;\" class=\"plotly-graph-div\"></div><script type=\"text/javascript\">require([\"plotly\"], function(Plotly) { window.PLOTLYENV=window.PLOTLYENV || {};window.PLOTLYENV.BASE_URL=\"https://plot.ly\";Plotly.newPlot(\"2c66e723-d43d-4aca-bedc-d401c445a0bd\", [{\"line\": {\"dash\": \"solid\"}, \"name\": \"\\u5e94\\u4ea4\\u9ad8\\u8d28\\u91cf\\u62a5\\u544a\\u6570(\\u751f\\u7269\\u5b66DNA\\u7ec4)\", \"x\": [\"10-2\", \"10-3\", \"10-4\", \"8-3\", \"8-4\", \"9-1\", \"9-2\", \"9-3\", \"9-4\"], \"y\": [6.0, 2.0, 1.0, 1.0, 2.0, 11.0, 1.0, 0.0, 0.0], \"type\": \"scatter\", \"uid\": \"3d52a499-dbfd-11e8-8ddb-a41f72875c19\"}, {\"line\": {\"dash\": \"dot\"}, \"name\": \"\\u5e94\\u4ea4\\u9ad8\\u8d28\\u91cf\\u62a5\\u544a\\u6570(QC)\", \"x\": [\"10-2\", \"10-3\", \"10-4\", \"8-3\", \"8-4\", \"9-1\", \"9-2\", \"9-3\", \"9-4\"], \"y\": [0.0, null, 0.0, null, null, null, null, null, null], \"type\": \"scatter\", \"uid\": \"3d52a49a-dbfd-11e8-8ddb-a41f72875c19\"}, {\"line\": {\"dash\": \"dash\"}, \"name\": \"\\u5e94\\u4ea4\\u9ad8\\u8d28\\u91cf\\u62a5\\u544a\\u6570(\\u4e49\\u4e4c\\u751f\\u4fe1\\u7ec4)\", \"x\": [\"10-2\", \"10-3\", \"10-4\", \"8-3\", \"8-4\", \"9-1\", \"9-2\", \"9-3\", \"9-4\"], \"y\": [null, null, 2.0, null, null, null, null, null, null], \"type\": \"scatter\", \"uid\": \"3d52a49b-dbfd-11e8-8ddb-a41f72875c19\"}, {\"line\": {\"dash\": \"longdash\"}, \"name\": \"\\u5e94\\u4ea4\\u9ad8\\u8d28\\u91cf\\u62a5\\u544a\\u6570(\\u5206\\u6790\\u7ec4)\", \"x\": [\"10-2\", \"10-3\", \"10-4\", \"8-3\", \"8-4\", \"9-1\", \"9-2\", \"9-3\", \"9-4\"], \"y\": [null, null, 0.0, null, null, null, null, null, null], \"type\": \"scatter\", \"uid\": \"3d52a49c-dbfd-11e8-8ddb-a41f72875c19\"}, {\"line\": {\"dash\": \"dashdot\"}, \"name\": \"\\u5e94\\u4ea4\\u9ad8\\u8d28\\u91cf\\u62a5\\u544a\\u6570(\\u8f6c\\u5f55\\u8c03\\u63a7\\u7ec4)\", \"x\": [\"10-2\", \"10-3\", \"10-4\", \"8-3\", \"8-4\", \"9-1\", \"9-2\", \"9-3\", \"9-4\"], \"y\": [3.0, 3.0, 0.0, 5.0, 1.0, 3.0, 7.0, 6.0, 2.0], \"type\": \"scatter\", \"uid\": \"3d52a49d-dbfd-11e8-8ddb-a41f72875c19\"}, {\"line\": {\"dash\": \"longdashdot\"}, \"name\": \"\\u5e94\\u4ea4\\u9ad8\\u8d28\\u91cf\\u62a5\\u544a\\u6570(\\u86cb\\u767d\\u548c\\u533b\\u5b66\\u7ec4)\", \"x\": [\"10-2\", \"10-3\", \"10-4\", \"8-3\", \"8-4\", \"9-1\", \"9-2\", \"9-3\", \"9-4\"], \"y\": [3.0, 0.0, 0.0, 1.0, 4.0, 3.0, 0.0, 0.0, 0.0], \"type\": \"scatter\", \"uid\": \"3d52a49e-dbfd-11e8-8ddb-a41f72875c19\"}, {\"line\": {\"dash\": \"solid\"}, \"name\": \"\\u63d0\\u4ea4\\u9ad8\\u8d28\\u91cf\\u62a5\\u544a\\u6570(\\u751f\\u7269\\u5b66DNA\\u7ec4)\", \"x\": [\"10-2\", \"10-3\", \"10-4\", \"8-3\", \"8-4\", \"9-1\", \"9-2\", \"9-3\", \"9-4\"], \"y\": [0.0, 0.0, 1.0, 1.0, 2.0, 11.0, 1.0, 1.0, 0.0], \"type\": \"scatter\", \"uid\": \"3d52a49f-dbfd-11e8-8ddb-a41f72875c19\"}, {\"line\": {\"dash\": \"dot\"}, \"name\": \"\\u63d0\\u4ea4\\u9ad8\\u8d28\\u91cf\\u62a5\\u544a\\u6570(QC)\", \"x\": [\"10-2\", \"10-3\", \"10-4\", \"8-3\", \"8-4\", \"9-1\", \"9-2\", \"9-3\", \"9-4\"], \"y\": [0.0, null, 0.0, null, null, null, null, null, null], \"type\": \"scatter\", \"uid\": \"3d52a4a0-dbfd-11e8-8ddb-a41f72875c19\"}, {\"line\": {\"dash\": \"dash\"}, \"name\": \"\\u63d0\\u4ea4\\u9ad8\\u8d28\\u91cf\\u62a5\\u544a\\u6570(\\u4e49\\u4e4c\\u751f\\u4fe1\\u7ec4)\", \"x\": [\"10-2\", \"10-3\", \"10-4\", \"8-3\", \"8-4\", \"9-1\", \"9-2\", \"9-3\", \"9-4\"], \"y\": [null, null, 1.0, null, null, null, null, null, null], \"type\": \"scatter\", \"uid\": \"3d52a4a1-dbfd-11e8-8ddb-a41f72875c19\"}, {\"line\": {\"dash\": \"longdash\"}, \"name\": \"\\u63d0\\u4ea4\\u9ad8\\u8d28\\u91cf\\u62a5\\u544a\\u6570(\\u5206\\u6790\\u7ec4)\", \"x\": [\"10-2\", \"10-3\", \"10-4\", \"8-3\", \"8-4\", \"9-1\", \"9-2\", \"9-3\", \"9-4\"], \"y\": [null, null, 0.0, null, null, null, null, null, null], \"type\": \"scatter\", \"uid\": \"3d52a4a2-dbfd-11e8-8ddb-a41f72875c19\"}, {\"line\": {\"dash\": \"dashdot\"}, \"name\": \"\\u63d0\\u4ea4\\u9ad8\\u8d28\\u91cf\\u62a5\\u544a\\u6570(\\u8f6c\\u5f55\\u8c03\\u63a7\\u7ec4)\", \"x\": [\"10-2\", \"10-3\", \"10-4\", \"8-3\", \"8-4\", \"9-1\", \"9-2\", \"9-3\", \"9-4\"], \"y\": [0.0, 0.0, 0.0, 5.0, 1.0, 3.0, 5.0, 6.0, 3.0], \"type\": \"scatter\", \"uid\": \"3d52a4a3-dbfd-11e8-8ddb-a41f72875c19\"}, {\"line\": {\"dash\": \"longdashdot\"}, \"name\": \"\\u63d0\\u4ea4\\u9ad8\\u8d28\\u91cf\\u62a5\\u544a\\u6570(\\u86cb\\u767d\\u548c\\u533b\\u5b66\\u7ec4)\", \"x\": [\"10-2\", \"10-3\", \"10-4\", \"8-3\", \"8-4\", \"9-1\", \"9-2\", \"9-3\", \"9-4\"], \"y\": [1.0, 0.0, 0.0, 1.0, 4.0, 3.0, 0.0, 0.0, 0.0], \"type\": \"scatter\", \"uid\": \"3d52a4a4-dbfd-11e8-8ddb-a41f72875c19\"}], {\"title\": \"\\u5e94\\u4ea4\\u9ad8\\u8d28\\u91cf\\u62a5\\u544a\\u6570&\\u63d0\\u4ea4\\u9ad8\\u8d28\\u91cf\\u62a5\\u544a\\u6570\\u5468\\u8d8b\\u52bf\\u56fe\", \"xaxis\": {\"mirror\": \"all\", \"nticks\": 20, \"showgrid\": true, \"showline\": true, \"title\": \"\\u5468\", \"type\": \"category\", \"zeroline\": true}, \"yaxis\": {\"mirror\": \"all\", \"nticks\": 20, \"showgrid\": true, \"showline\": true, \"title\": \"\\u5e94\\u4ea4\\u9ad8\\u8d28\\u91cf\\u62a5\\u544a\\u6570&\\u63d0\\u4ea4\\u9ad8\\u8d28\\u91cf\\u62a5\\u544a\\u6570\", \"zeroline\": true}}, {\"showLink\": true, \"linkText\": \"Export to plot.ly\"})});</script>"
      ],
      "text/vnd.plotly.v1+html": [
       "<div id=\"2c66e723-d43d-4aca-bedc-d401c445a0bd\" style=\"height: 525px; width: 100%;\" class=\"plotly-graph-div\"></div><script type=\"text/javascript\">require([\"plotly\"], function(Plotly) { window.PLOTLYENV=window.PLOTLYENV || {};window.PLOTLYENV.BASE_URL=\"https://plot.ly\";Plotly.newPlot(\"2c66e723-d43d-4aca-bedc-d401c445a0bd\", [{\"line\": {\"dash\": \"solid\"}, \"name\": \"\\u5e94\\u4ea4\\u9ad8\\u8d28\\u91cf\\u62a5\\u544a\\u6570(\\u751f\\u7269\\u5b66DNA\\u7ec4)\", \"x\": [\"10-2\", \"10-3\", \"10-4\", \"8-3\", \"8-4\", \"9-1\", \"9-2\", \"9-3\", \"9-4\"], \"y\": [6.0, 2.0, 1.0, 1.0, 2.0, 11.0, 1.0, 0.0, 0.0], \"type\": \"scatter\", \"uid\": \"3d52a499-dbfd-11e8-8ddb-a41f72875c19\"}, {\"line\": {\"dash\": \"dot\"}, \"name\": \"\\u5e94\\u4ea4\\u9ad8\\u8d28\\u91cf\\u62a5\\u544a\\u6570(QC)\", \"x\": [\"10-2\", \"10-3\", \"10-4\", \"8-3\", \"8-4\", \"9-1\", \"9-2\", \"9-3\", \"9-4\"], \"y\": [0.0, null, 0.0, null, null, null, null, null, null], \"type\": \"scatter\", \"uid\": \"3d52a49a-dbfd-11e8-8ddb-a41f72875c19\"}, {\"line\": {\"dash\": \"dash\"}, \"name\": \"\\u5e94\\u4ea4\\u9ad8\\u8d28\\u91cf\\u62a5\\u544a\\u6570(\\u4e49\\u4e4c\\u751f\\u4fe1\\u7ec4)\", \"x\": [\"10-2\", \"10-3\", \"10-4\", \"8-3\", \"8-4\", \"9-1\", \"9-2\", \"9-3\", \"9-4\"], \"y\": [null, null, 2.0, null, null, null, null, null, null], \"type\": \"scatter\", \"uid\": \"3d52a49b-dbfd-11e8-8ddb-a41f72875c19\"}, {\"line\": {\"dash\": \"longdash\"}, \"name\": \"\\u5e94\\u4ea4\\u9ad8\\u8d28\\u91cf\\u62a5\\u544a\\u6570(\\u5206\\u6790\\u7ec4)\", \"x\": [\"10-2\", \"10-3\", \"10-4\", \"8-3\", \"8-4\", \"9-1\", \"9-2\", \"9-3\", \"9-4\"], \"y\": [null, null, 0.0, null, null, null, null, null, null], \"type\": \"scatter\", \"uid\": \"3d52a49c-dbfd-11e8-8ddb-a41f72875c19\"}, {\"line\": {\"dash\": \"dashdot\"}, \"name\": \"\\u5e94\\u4ea4\\u9ad8\\u8d28\\u91cf\\u62a5\\u544a\\u6570(\\u8f6c\\u5f55\\u8c03\\u63a7\\u7ec4)\", \"x\": [\"10-2\", \"10-3\", \"10-4\", \"8-3\", \"8-4\", \"9-1\", \"9-2\", \"9-3\", \"9-4\"], \"y\": [3.0, 3.0, 0.0, 5.0, 1.0, 3.0, 7.0, 6.0, 2.0], \"type\": \"scatter\", \"uid\": \"3d52a49d-dbfd-11e8-8ddb-a41f72875c19\"}, {\"line\": {\"dash\": \"longdashdot\"}, \"name\": \"\\u5e94\\u4ea4\\u9ad8\\u8d28\\u91cf\\u62a5\\u544a\\u6570(\\u86cb\\u767d\\u548c\\u533b\\u5b66\\u7ec4)\", \"x\": [\"10-2\", \"10-3\", \"10-4\", \"8-3\", \"8-4\", \"9-1\", \"9-2\", \"9-3\", \"9-4\"], \"y\": [3.0, 0.0, 0.0, 1.0, 4.0, 3.0, 0.0, 0.0, 0.0], \"type\": \"scatter\", \"uid\": \"3d52a49e-dbfd-11e8-8ddb-a41f72875c19\"}, {\"line\": {\"dash\": \"solid\"}, \"name\": \"\\u63d0\\u4ea4\\u9ad8\\u8d28\\u91cf\\u62a5\\u544a\\u6570(\\u751f\\u7269\\u5b66DNA\\u7ec4)\", \"x\": [\"10-2\", \"10-3\", \"10-4\", \"8-3\", \"8-4\", \"9-1\", \"9-2\", \"9-3\", \"9-4\"], \"y\": [0.0, 0.0, 1.0, 1.0, 2.0, 11.0, 1.0, 1.0, 0.0], \"type\": \"scatter\", \"uid\": \"3d52a49f-dbfd-11e8-8ddb-a41f72875c19\"}, {\"line\": {\"dash\": \"dot\"}, \"name\": \"\\u63d0\\u4ea4\\u9ad8\\u8d28\\u91cf\\u62a5\\u544a\\u6570(QC)\", \"x\": [\"10-2\", \"10-3\", \"10-4\", \"8-3\", \"8-4\", \"9-1\", \"9-2\", \"9-3\", \"9-4\"], \"y\": [0.0, null, 0.0, null, null, null, null, null, null], \"type\": \"scatter\", \"uid\": \"3d52a4a0-dbfd-11e8-8ddb-a41f72875c19\"}, {\"line\": {\"dash\": \"dash\"}, \"name\": \"\\u63d0\\u4ea4\\u9ad8\\u8d28\\u91cf\\u62a5\\u544a\\u6570(\\u4e49\\u4e4c\\u751f\\u4fe1\\u7ec4)\", \"x\": [\"10-2\", \"10-3\", \"10-4\", \"8-3\", \"8-4\", \"9-1\", \"9-2\", \"9-3\", \"9-4\"], \"y\": [null, null, 1.0, null, null, null, null, null, null], \"type\": \"scatter\", \"uid\": \"3d52a4a1-dbfd-11e8-8ddb-a41f72875c19\"}, {\"line\": {\"dash\": \"longdash\"}, \"name\": \"\\u63d0\\u4ea4\\u9ad8\\u8d28\\u91cf\\u62a5\\u544a\\u6570(\\u5206\\u6790\\u7ec4)\", \"x\": [\"10-2\", \"10-3\", \"10-4\", \"8-3\", \"8-4\", \"9-1\", \"9-2\", \"9-3\", \"9-4\"], \"y\": [null, null, 0.0, null, null, null, null, null, null], \"type\": \"scatter\", \"uid\": \"3d52a4a2-dbfd-11e8-8ddb-a41f72875c19\"}, {\"line\": {\"dash\": \"dashdot\"}, \"name\": \"\\u63d0\\u4ea4\\u9ad8\\u8d28\\u91cf\\u62a5\\u544a\\u6570(\\u8f6c\\u5f55\\u8c03\\u63a7\\u7ec4)\", \"x\": [\"10-2\", \"10-3\", \"10-4\", \"8-3\", \"8-4\", \"9-1\", \"9-2\", \"9-3\", \"9-4\"], \"y\": [0.0, 0.0, 0.0, 5.0, 1.0, 3.0, 5.0, 6.0, 3.0], \"type\": \"scatter\", \"uid\": \"3d52a4a3-dbfd-11e8-8ddb-a41f72875c19\"}, {\"line\": {\"dash\": \"longdashdot\"}, \"name\": \"\\u63d0\\u4ea4\\u9ad8\\u8d28\\u91cf\\u62a5\\u544a\\u6570(\\u86cb\\u767d\\u548c\\u533b\\u5b66\\u7ec4)\", \"x\": [\"10-2\", \"10-3\", \"10-4\", \"8-3\", \"8-4\", \"9-1\", \"9-2\", \"9-3\", \"9-4\"], \"y\": [1.0, 0.0, 0.0, 1.0, 4.0, 3.0, 0.0, 0.0, 0.0], \"type\": \"scatter\", \"uid\": \"3d52a4a4-dbfd-11e8-8ddb-a41f72875c19\"}], {\"title\": \"\\u5e94\\u4ea4\\u9ad8\\u8d28\\u91cf\\u62a5\\u544a\\u6570&\\u63d0\\u4ea4\\u9ad8\\u8d28\\u91cf\\u62a5\\u544a\\u6570\\u5468\\u8d8b\\u52bf\\u56fe\", \"xaxis\": {\"mirror\": \"all\", \"nticks\": 20, \"showgrid\": true, \"showline\": true, \"title\": \"\\u5468\", \"type\": \"category\", \"zeroline\": true}, \"yaxis\": {\"mirror\": \"all\", \"nticks\": 20, \"showgrid\": true, \"showline\": true, \"title\": \"\\u5e94\\u4ea4\\u9ad8\\u8d28\\u91cf\\u62a5\\u544a\\u6570&\\u63d0\\u4ea4\\u9ad8\\u8d28\\u91cf\\u62a5\\u544a\\u6570\", \"zeroline\": true}}, {\"showLink\": true, \"linkText\": \"Export to plot.ly\"})});</script>"
      ]
     },
     "metadata": {},
     "output_type": "display_data"
    }
   ],
   "source": [
    "ss=myModule.format(all_dict ,\"日期\" ,['应交高质量报告数', '提交高质量报告数'])\n",
    "ss.add_group('组别')\n",
    "tt = myModule.myPlot(ss.groupby('sum'))\n",
    "tt.plot('line')"
   ]
  },
  {
   "cell_type": "markdown",
   "metadata": {
    "hide_input": true
   },
   "source": [
    "### 甘特图情况"
   ]
  },
  {
   "cell_type": "markdown",
   "metadata": {},
   "source": [
    "#### 季度开发项目数、如期完成项目数、延期完成、开发中的项目数、延期项目数和暂停项目数"
   ]
  },
  {
   "cell_type": "code",
   "execution_count": 10,
   "metadata": {
    "collapsed": false
   },
   "outputs": [
    {
     "data": {
      "application/vnd.plotly.v1+json": {
       "data": [
        {
         "line": {
          "dash": "solid"
         },
         "name": "开发中的项目数(生物学DNA组)",
         "type": "scatter",
         "uid": "3d52a4a5-dbfd-11e8-8ddb-a41f72875c19",
         "x": [
          "10-2",
          "10-3",
          "10-4",
          "8-3",
          "8-4",
          "9-1",
          "9-2",
          "9-3",
          "9-4"
         ],
         "y": [
          0,
          0,
          0,
          11,
          26,
          16,
          16,
          9,
          3
         ]
        },
        {
         "line": {
          "dash": "dot"
         },
         "name": "开发中的项目数(QC)",
         "type": "scatter",
         "uid": "3d52a4a6-dbfd-11e8-8ddb-a41f72875c19",
         "x": [
          "10-2",
          "10-3",
          "10-4",
          "8-3",
          "8-4",
          "9-1",
          "9-2",
          "9-3",
          "9-4"
         ],
         "y": [
          0,
          null,
          0,
          null,
          null,
          null,
          null,
          null,
          null
         ]
        },
        {
         "line": {
          "dash": "dash"
         },
         "name": "开发中的项目数(义乌生信组)",
         "type": "scatter",
         "uid": "3d52a4a7-dbfd-11e8-8ddb-a41f72875c19",
         "x": [
          "10-2",
          "10-3",
          "10-4",
          "8-3",
          "8-4",
          "9-1",
          "9-2",
          "9-3",
          "9-4"
         ],
         "y": [
          null,
          null,
          0,
          null,
          null,
          null,
          null,
          null,
          null
         ]
        },
        {
         "line": {
          "dash": "longdash"
         },
         "name": "开发中的项目数(分析组)",
         "type": "scatter",
         "uid": "3d52a4a8-dbfd-11e8-8ddb-a41f72875c19",
         "x": [
          "10-2",
          "10-3",
          "10-4",
          "8-3",
          "8-4",
          "9-1",
          "9-2",
          "9-3",
          "9-4"
         ],
         "y": [
          null,
          null,
          0,
          null,
          null,
          null,
          null,
          null,
          null
         ]
        },
        {
         "line": {
          "dash": "dashdot"
         },
         "name": "开发中的项目数(转录调控组)",
         "type": "scatter",
         "uid": "3d52a4a9-dbfd-11e8-8ddb-a41f72875c19",
         "x": [
          "10-2",
          "10-3",
          "10-4",
          "8-3",
          "8-4",
          "9-1",
          "9-2",
          "9-3",
          "9-4"
         ],
         "y": [
          0,
          0,
          0,
          6,
          11,
          11,
          6,
          9,
          8
         ]
        },
        {
         "line": {
          "dash": "longdashdot"
         },
         "name": "开发中的项目数(蛋白和医学组)",
         "type": "scatter",
         "uid": "3d52a4aa-dbfd-11e8-8ddb-a41f72875c19",
         "x": [
          "10-2",
          "10-3",
          "10-4",
          "8-3",
          "8-4",
          "9-1",
          "9-2",
          "9-3",
          "9-4"
         ],
         "y": [
          0,
          0,
          0,
          56,
          53,
          39,
          26,
          8,
          1
         ]
        },
        {
         "line": {
          "dash": "solid"
         },
         "name": "延期完成(生物学DNA组)",
         "type": "scatter",
         "uid": "3d52a4ab-dbfd-11e8-8ddb-a41f72875c19",
         "x": [
          "10-2",
          "10-3",
          "10-4",
          "8-3",
          "8-4",
          "9-1",
          "9-2",
          "9-3",
          "9-4"
         ],
         "y": [
          0,
          0,
          0,
          3,
          5,
          6,
          4,
          12,
          14
         ]
        },
        {
         "line": {
          "dash": "dot"
         },
         "name": "延期完成(QC)",
         "type": "scatter",
         "uid": "3d52a4ac-dbfd-11e8-8ddb-a41f72875c19",
         "x": [
          "10-2",
          "10-3",
          "10-4",
          "8-3",
          "8-4",
          "9-1",
          "9-2",
          "9-3",
          "9-4"
         ],
         "y": [
          0,
          null,
          0,
          null,
          null,
          null,
          null,
          null,
          null
         ]
        },
        {
         "line": {
          "dash": "dash"
         },
         "name": "延期完成(义乌生信组)",
         "type": "scatter",
         "uid": "3d52a4ad-dbfd-11e8-8ddb-a41f72875c19",
         "x": [
          "10-2",
          "10-3",
          "10-4",
          "8-3",
          "8-4",
          "9-1",
          "9-2",
          "9-3",
          "9-4"
         ],
         "y": [
          null,
          null,
          0,
          null,
          null,
          null,
          null,
          null,
          null
         ]
        },
        {
         "line": {
          "dash": "longdash"
         },
         "name": "延期完成(分析组)",
         "type": "scatter",
         "uid": "3d52a4ae-dbfd-11e8-8ddb-a41f72875c19",
         "x": [
          "10-2",
          "10-3",
          "10-4",
          "8-3",
          "8-4",
          "9-1",
          "9-2",
          "9-3",
          "9-4"
         ],
         "y": [
          null,
          null,
          0,
          null,
          null,
          null,
          null,
          null,
          null
         ]
        },
        {
         "line": {
          "dash": "dashdot"
         },
         "name": "延期完成(转录调控组)",
         "type": "scatter",
         "uid": "3d52a4af-dbfd-11e8-8ddb-a41f72875c19",
         "x": [
          "10-2",
          "10-3",
          "10-4",
          "8-3",
          "8-4",
          "9-1",
          "9-2",
          "9-3",
          "9-4"
         ],
         "y": [
          0,
          0,
          0,
          4,
          4,
          5,
          1,
          1,
          6
         ]
        },
        {
         "line": {
          "dash": "longdashdot"
         },
         "name": "延期完成(蛋白和医学组)",
         "type": "scatter",
         "uid": "3d52a4b0-dbfd-11e8-8ddb-a41f72875c19",
         "x": [
          "10-2",
          "10-3",
          "10-4",
          "8-3",
          "8-4",
          "9-1",
          "9-2",
          "9-3",
          "9-4"
         ],
         "y": [
          0,
          0,
          0,
          8,
          9,
          11,
          3,
          13,
          2
         ]
        },
        {
         "line": {
          "dash": "solid"
         },
         "name": "季度开发项目数(生物学DNA组)",
         "type": "scatter",
         "uid": "3d52a4b1-dbfd-11e8-8ddb-a41f72875c19",
         "x": [
          "10-2",
          "10-3",
          "10-4",
          "8-3",
          "8-4",
          "9-1",
          "9-2",
          "9-3",
          "9-4"
         ],
         "y": [
          0,
          0,
          0,
          30,
          56,
          56,
          53,
          57,
          57
         ]
        },
        {
         "line": {
          "dash": "dot"
         },
         "name": "季度开发项目数(QC)",
         "type": "scatter",
         "uid": "3d52a4b2-dbfd-11e8-8ddb-a41f72875c19",
         "x": [
          "10-2",
          "10-3",
          "10-4",
          "8-3",
          "8-4",
          "9-1",
          "9-2",
          "9-3",
          "9-4"
         ],
         "y": [
          0,
          null,
          0,
          null,
          null,
          null,
          null,
          null,
          null
         ]
        },
        {
         "line": {
          "dash": "dash"
         },
         "name": "季度开发项目数(义乌生信组)",
         "type": "scatter",
         "uid": "3d52a4b3-dbfd-11e8-8ddb-a41f72875c19",
         "x": [
          "10-2",
          "10-3",
          "10-4",
          "8-3",
          "8-4",
          "9-1",
          "9-2",
          "9-3",
          "9-4"
         ],
         "y": [
          null,
          null,
          0,
          null,
          null,
          null,
          null,
          null,
          null
         ]
        },
        {
         "line": {
          "dash": "longdash"
         },
         "name": "季度开发项目数(分析组)",
         "type": "scatter",
         "uid": "3d52a4b4-dbfd-11e8-8ddb-a41f72875c19",
         "x": [
          "10-2",
          "10-3",
          "10-4",
          "8-3",
          "8-4",
          "9-1",
          "9-2",
          "9-3",
          "9-4"
         ],
         "y": [
          null,
          null,
          0,
          null,
          null,
          null,
          null,
          null,
          null
         ]
        },
        {
         "line": {
          "dash": "dashdot"
         },
         "name": "季度开发项目数(转录调控组)",
         "type": "scatter",
         "uid": "3d52a4b5-dbfd-11e8-8ddb-a41f72875c19",
         "x": [
          "10-2",
          "10-3",
          "10-4",
          "8-3",
          "8-4",
          "9-1",
          "9-2",
          "9-3",
          "9-4"
         ],
         "y": [
          0,
          0,
          0,
          78,
          89,
          94,
          70,
          69,
          88
         ]
        },
        {
         "line": {
          "dash": "longdashdot"
         },
         "name": "季度开发项目数(蛋白和医学组)",
         "type": "scatter",
         "uid": "3d52a4b6-dbfd-11e8-8ddb-a41f72875c19",
         "x": [
          "10-2",
          "10-3",
          "10-4",
          "8-3",
          "8-4",
          "9-1",
          "9-2",
          "9-3",
          "9-4"
         ],
         "y": [
          0,
          0,
          0,
          207,
          207,
          207,
          185,
          197,
          117
         ]
        },
        {
         "line": {
          "dash": "solid"
         },
         "name": "暂停项目数(生物学DNA组)",
         "type": "scatter",
         "uid": "3d52a4b7-dbfd-11e8-8ddb-a41f72875c19",
         "x": [
          "10-2",
          "10-3",
          "10-4",
          "8-3",
          "8-4",
          "9-1",
          "9-2",
          "9-3",
          "9-4"
         ],
         "y": [
          0,
          0,
          0,
          0,
          0,
          3,
          4,
          4,
          4
         ]
        },
        {
         "line": {
          "dash": "dot"
         },
         "name": "暂停项目数(QC)",
         "type": "scatter",
         "uid": "3d52a4b8-dbfd-11e8-8ddb-a41f72875c19",
         "x": [
          "10-2",
          "10-3",
          "10-4",
          "8-3",
          "8-4",
          "9-1",
          "9-2",
          "9-3",
          "9-4"
         ],
         "y": [
          0,
          null,
          0,
          null,
          null,
          null,
          null,
          null,
          null
         ]
        },
        {
         "line": {
          "dash": "dash"
         },
         "name": "暂停项目数(义乌生信组)",
         "type": "scatter",
         "uid": "3d52a4b9-dbfd-11e8-8ddb-a41f72875c19",
         "x": [
          "10-2",
          "10-3",
          "10-4",
          "8-3",
          "8-4",
          "9-1",
          "9-2",
          "9-3",
          "9-4"
         ],
         "y": [
          null,
          null,
          0,
          null,
          null,
          null,
          null,
          null,
          null
         ]
        },
        {
         "line": {
          "dash": "longdash"
         },
         "name": "暂停项目数(分析组)",
         "type": "scatter",
         "uid": "3d52a4ba-dbfd-11e8-8ddb-a41f72875c19",
         "x": [
          "10-2",
          "10-3",
          "10-4",
          "8-3",
          "8-4",
          "9-1",
          "9-2",
          "9-3",
          "9-4"
         ],
         "y": [
          null,
          null,
          0,
          null,
          null,
          null,
          null,
          null,
          null
         ]
        },
        {
         "line": {
          "dash": "dashdot"
         },
         "name": "暂停项目数(转录调控组)",
         "type": "scatter",
         "uid": "3d52a4bb-dbfd-11e8-8ddb-a41f72875c19",
         "x": [
          "10-2",
          "10-3",
          "10-4",
          "8-3",
          "8-4",
          "9-1",
          "9-2",
          "9-3",
          "9-4"
         ],
         "y": [
          0,
          0,
          0,
          2,
          2,
          5,
          1,
          13,
          12
         ]
        },
        {
         "line": {
          "dash": "longdashdot"
         },
         "name": "暂停项目数(蛋白和医学组)",
         "type": "scatter",
         "uid": "3d52a4bc-dbfd-11e8-8ddb-a41f72875c19",
         "x": [
          "10-2",
          "10-3",
          "10-4",
          "8-3",
          "8-4",
          "9-1",
          "9-2",
          "9-3",
          "9-4"
         ],
         "y": [
          0,
          0,
          0,
          13,
          13,
          13,
          13,
          17,
          6
         ]
        },
        {
         "line": {
          "dash": "solid"
         },
         "name": "如期完成项目数(生物学DNA组)",
         "type": "scatter",
         "uid": "3d52a4bd-dbfd-11e8-8ddb-a41f72875c19",
         "x": [
          "10-2",
          "10-3",
          "10-4",
          "8-3",
          "8-4",
          "9-1",
          "9-2",
          "9-3",
          "9-4"
         ],
         "y": [
          0,
          0,
          0,
          14,
          20,
          22,
          22,
          25,
          25
         ]
        },
        {
         "line": {
          "dash": "dot"
         },
         "name": "如期完成项目数(QC)",
         "type": "scatter",
         "uid": "3d52a4be-dbfd-11e8-8ddb-a41f72875c19",
         "x": [
          "10-2",
          "10-3",
          "10-4",
          "8-3",
          "8-4",
          "9-1",
          "9-2",
          "9-3",
          "9-4"
         ],
         "y": [
          0,
          null,
          0,
          null,
          null,
          null,
          null,
          null,
          null
         ]
        },
        {
         "line": {
          "dash": "dash"
         },
         "name": "如期完成项目数(义乌生信组)",
         "type": "scatter",
         "uid": "3d52a4bf-dbfd-11e8-8ddb-a41f72875c19",
         "x": [
          "10-2",
          "10-3",
          "10-4",
          "8-3",
          "8-4",
          "9-1",
          "9-2",
          "9-3",
          "9-4"
         ],
         "y": [
          null,
          null,
          0,
          null,
          null,
          null,
          null,
          null,
          null
         ]
        },
        {
         "line": {
          "dash": "longdash"
         },
         "name": "如期完成项目数(分析组)",
         "type": "scatter",
         "uid": "3d52a4c0-dbfd-11e8-8ddb-a41f72875c19",
         "x": [
          "10-2",
          "10-3",
          "10-4",
          "8-3",
          "8-4",
          "9-1",
          "9-2",
          "9-3",
          "9-4"
         ],
         "y": [
          null,
          null,
          0,
          null,
          null,
          null,
          null,
          null,
          null
         ]
        },
        {
         "line": {
          "dash": "dashdot"
         },
         "name": "如期完成项目数(转录调控组)",
         "type": "scatter",
         "uid": "3d52a4c1-dbfd-11e8-8ddb-a41f72875c19",
         "x": [
          "10-2",
          "10-3",
          "10-4",
          "8-3",
          "8-4",
          "9-1",
          "9-2",
          "9-3",
          "9-4"
         ],
         "y": [
          0,
          0,
          0,
          62,
          73,
          77,
          62,
          60,
          77
         ]
        },
        {
         "line": {
          "dash": "longdashdot"
         },
         "name": "如期完成项目数(蛋白和医学组)",
         "type": "scatter",
         "uid": "3d52a4c2-dbfd-11e8-8ddb-a41f72875c19",
         "x": [
          "10-2",
          "10-3",
          "10-4",
          "8-3",
          "8-4",
          "9-1",
          "9-2",
          "9-3",
          "9-4"
         ],
         "y": [
          0,
          0,
          0,
          123,
          125,
          129,
          135,
          156,
          110
         ]
        },
        {
         "line": {
          "dash": "solid"
         },
         "name": "延期项目数(生物学DNA组)",
         "type": "scatter",
         "uid": "3d52a4c3-dbfd-11e8-8ddb-a41f72875c19",
         "x": [
          "10-2",
          "10-3",
          "10-4",
          "8-3",
          "8-4",
          "9-1",
          "9-2",
          "9-3",
          "9-4"
         ],
         "y": [
          2,
          4,
          9,
          4,
          6,
          10,
          10,
          7,
          11
         ]
        },
        {
         "line": {
          "dash": "dot"
         },
         "name": "延期项目数(QC)",
         "type": "scatter",
         "uid": "3d52a4c4-dbfd-11e8-8ddb-a41f72875c19",
         "x": [
          "10-2",
          "10-3",
          "10-4",
          "8-3",
          "8-4",
          "9-1",
          "9-2",
          "9-3",
          "9-4"
         ],
         "y": [
          0,
          null,
          1,
          null,
          null,
          null,
          null,
          null,
          null
         ]
        },
        {
         "line": {
          "dash": "dash"
         },
         "name": "延期项目数(义乌生信组)",
         "type": "scatter",
         "uid": "3d52a4c5-dbfd-11e8-8ddb-a41f72875c19",
         "x": [
          "10-2",
          "10-3",
          "10-4",
          "8-3",
          "8-4",
          "9-1",
          "9-2",
          "9-3",
          "9-4"
         ],
         "y": [
          null,
          null,
          0,
          null,
          null,
          null,
          null,
          null,
          null
         ]
        },
        {
         "line": {
          "dash": "longdash"
         },
         "name": "延期项目数(分析组)",
         "type": "scatter",
         "uid": "3d52a4c6-dbfd-11e8-8ddb-a41f72875c19",
         "x": [
          "10-2",
          "10-3",
          "10-4",
          "8-3",
          "8-4",
          "9-1",
          "9-2",
          "9-3",
          "9-4"
         ],
         "y": [
          null,
          null,
          0,
          null,
          null,
          null,
          null,
          null,
          null
         ]
        },
        {
         "line": {
          "dash": "dashdot"
         },
         "name": "延期项目数(转录调控组)",
         "type": "scatter",
         "uid": "3d52a4c7-dbfd-11e8-8ddb-a41f72875c19",
         "x": [
          "10-2",
          "10-3",
          "10-4",
          "8-3",
          "8-4",
          "9-1",
          "9-2",
          "9-3",
          "9-4"
         ],
         "y": [
          0,
          0,
          0,
          0,
          0,
          1,
          1,
          1,
          4
         ]
        },
        {
         "line": {
          "dash": "longdashdot"
         },
         "name": "延期项目数(蛋白和医学组)",
         "type": "scatter",
         "uid": "3d52a4c8-dbfd-11e8-8ddb-a41f72875c19",
         "x": [
          "10-2",
          "10-3",
          "10-4",
          "8-3",
          "8-4",
          "9-1",
          "9-2",
          "9-3",
          "9-4"
         ],
         "y": [
          0,
          1,
          3,
          7,
          7,
          15,
          9,
          6,
          1
         ]
        }
       ],
       "layout": {
        "title": "开发中的项目数&延期完成&季度开发项目数&暂停项目数&如期完成项目数&延期项目数周趋势图",
        "xaxis": {
         "mirror": "all",
         "nticks": 20,
         "showgrid": true,
         "showline": true,
         "title": "周",
         "type": "category",
         "zeroline": true
        },
        "yaxis": {
         "mirror": "all",
         "nticks": 20,
         "showgrid": true,
         "showline": true,
         "title": "开发中的项目数&延期完成&季度开发项目数&暂停项目数&如期完成项目数&延期项目数",
         "zeroline": true
        }
       }
      },
      "text/html": [
       "<div id=\"021422b6-c599-49f4-8669-c6cb824c3c1a\" style=\"height: 525px; width: 100%;\" class=\"plotly-graph-div\"></div><script type=\"text/javascript\">require([\"plotly\"], function(Plotly) { window.PLOTLYENV=window.PLOTLYENV || {};window.PLOTLYENV.BASE_URL=\"https://plot.ly\";Plotly.newPlot(\"021422b6-c599-49f4-8669-c6cb824c3c1a\", [{\"line\": {\"dash\": \"solid\"}, \"name\": \"\\u5f00\\u53d1\\u4e2d\\u7684\\u9879\\u76ee\\u6570(\\u751f\\u7269\\u5b66DNA\\u7ec4)\", \"x\": [\"10-2\", \"10-3\", \"10-4\", \"8-3\", \"8-4\", \"9-1\", \"9-2\", \"9-3\", \"9-4\"], \"y\": [0.0, 0.0, 0.0, 11.0, 26.0, 16.0, 16.0, 9.0, 3.0], \"type\": \"scatter\", \"uid\": \"3d52a4a5-dbfd-11e8-8ddb-a41f72875c19\"}, {\"line\": {\"dash\": \"dot\"}, \"name\": \"\\u5f00\\u53d1\\u4e2d\\u7684\\u9879\\u76ee\\u6570(QC)\", \"x\": [\"10-2\", \"10-3\", \"10-4\", \"8-3\", \"8-4\", \"9-1\", \"9-2\", \"9-3\", \"9-4\"], \"y\": [0.0, null, 0.0, null, null, null, null, null, null], \"type\": \"scatter\", \"uid\": \"3d52a4a6-dbfd-11e8-8ddb-a41f72875c19\"}, {\"line\": {\"dash\": \"dash\"}, \"name\": \"\\u5f00\\u53d1\\u4e2d\\u7684\\u9879\\u76ee\\u6570(\\u4e49\\u4e4c\\u751f\\u4fe1\\u7ec4)\", \"x\": [\"10-2\", \"10-3\", \"10-4\", \"8-3\", \"8-4\", \"9-1\", \"9-2\", \"9-3\", \"9-4\"], \"y\": [null, null, 0.0, null, null, null, null, null, null], \"type\": \"scatter\", \"uid\": \"3d52a4a7-dbfd-11e8-8ddb-a41f72875c19\"}, {\"line\": {\"dash\": \"longdash\"}, \"name\": \"\\u5f00\\u53d1\\u4e2d\\u7684\\u9879\\u76ee\\u6570(\\u5206\\u6790\\u7ec4)\", \"x\": [\"10-2\", \"10-3\", \"10-4\", \"8-3\", \"8-4\", \"9-1\", \"9-2\", \"9-3\", \"9-4\"], \"y\": [null, null, 0.0, null, null, null, null, null, null], \"type\": \"scatter\", \"uid\": \"3d52a4a8-dbfd-11e8-8ddb-a41f72875c19\"}, {\"line\": {\"dash\": \"dashdot\"}, \"name\": \"\\u5f00\\u53d1\\u4e2d\\u7684\\u9879\\u76ee\\u6570(\\u8f6c\\u5f55\\u8c03\\u63a7\\u7ec4)\", \"x\": [\"10-2\", \"10-3\", \"10-4\", \"8-3\", \"8-4\", \"9-1\", \"9-2\", \"9-3\", \"9-4\"], \"y\": [0.0, 0.0, 0.0, 6.0, 11.0, 11.0, 6.0, 9.0, 8.0], \"type\": \"scatter\", \"uid\": \"3d52a4a9-dbfd-11e8-8ddb-a41f72875c19\"}, {\"line\": {\"dash\": \"longdashdot\"}, \"name\": \"\\u5f00\\u53d1\\u4e2d\\u7684\\u9879\\u76ee\\u6570(\\u86cb\\u767d\\u548c\\u533b\\u5b66\\u7ec4)\", \"x\": [\"10-2\", \"10-3\", \"10-4\", \"8-3\", \"8-4\", \"9-1\", \"9-2\", \"9-3\", \"9-4\"], \"y\": [0.0, 0.0, 0.0, 56.0, 53.0, 39.0, 26.0, 8.0, 1.0], \"type\": \"scatter\", \"uid\": \"3d52a4aa-dbfd-11e8-8ddb-a41f72875c19\"}, {\"line\": {\"dash\": \"solid\"}, \"name\": \"\\u5ef6\\u671f\\u5b8c\\u6210(\\u751f\\u7269\\u5b66DNA\\u7ec4)\", \"x\": [\"10-2\", \"10-3\", \"10-4\", \"8-3\", \"8-4\", \"9-1\", \"9-2\", \"9-3\", \"9-4\"], \"y\": [0.0, 0.0, 0.0, 3.0, 5.0, 6.0, 4.0, 12.0, 14.0], \"type\": \"scatter\", \"uid\": \"3d52a4ab-dbfd-11e8-8ddb-a41f72875c19\"}, {\"line\": {\"dash\": \"dot\"}, \"name\": \"\\u5ef6\\u671f\\u5b8c\\u6210(QC)\", \"x\": [\"10-2\", \"10-3\", \"10-4\", \"8-3\", \"8-4\", \"9-1\", \"9-2\", \"9-3\", \"9-4\"], \"y\": [0.0, null, 0.0, null, null, null, null, null, null], \"type\": \"scatter\", \"uid\": \"3d52a4ac-dbfd-11e8-8ddb-a41f72875c19\"}, {\"line\": {\"dash\": \"dash\"}, \"name\": \"\\u5ef6\\u671f\\u5b8c\\u6210(\\u4e49\\u4e4c\\u751f\\u4fe1\\u7ec4)\", \"x\": [\"10-2\", \"10-3\", \"10-4\", \"8-3\", \"8-4\", \"9-1\", \"9-2\", \"9-3\", \"9-4\"], \"y\": [null, null, 0.0, null, null, null, null, null, null], \"type\": \"scatter\", \"uid\": \"3d52a4ad-dbfd-11e8-8ddb-a41f72875c19\"}, {\"line\": {\"dash\": \"longdash\"}, \"name\": \"\\u5ef6\\u671f\\u5b8c\\u6210(\\u5206\\u6790\\u7ec4)\", \"x\": [\"10-2\", \"10-3\", \"10-4\", \"8-3\", \"8-4\", \"9-1\", \"9-2\", \"9-3\", \"9-4\"], \"y\": [null, null, 0.0, null, null, null, null, null, null], \"type\": \"scatter\", \"uid\": \"3d52a4ae-dbfd-11e8-8ddb-a41f72875c19\"}, {\"line\": {\"dash\": \"dashdot\"}, \"name\": \"\\u5ef6\\u671f\\u5b8c\\u6210(\\u8f6c\\u5f55\\u8c03\\u63a7\\u7ec4)\", \"x\": [\"10-2\", \"10-3\", \"10-4\", \"8-3\", \"8-4\", \"9-1\", \"9-2\", \"9-3\", \"9-4\"], \"y\": [0.0, 0.0, 0.0, 4.0, 4.0, 5.0, 1.0, 1.0, 6.0], \"type\": \"scatter\", \"uid\": \"3d52a4af-dbfd-11e8-8ddb-a41f72875c19\"}, {\"line\": {\"dash\": \"longdashdot\"}, \"name\": \"\\u5ef6\\u671f\\u5b8c\\u6210(\\u86cb\\u767d\\u548c\\u533b\\u5b66\\u7ec4)\", \"x\": [\"10-2\", \"10-3\", \"10-4\", \"8-3\", \"8-4\", \"9-1\", \"9-2\", \"9-3\", \"9-4\"], \"y\": [0.0, 0.0, 0.0, 8.0, 9.0, 11.0, 3.0, 13.0, 2.0], \"type\": \"scatter\", \"uid\": \"3d52a4b0-dbfd-11e8-8ddb-a41f72875c19\"}, {\"line\": {\"dash\": \"solid\"}, \"name\": \"\\u5b63\\u5ea6\\u5f00\\u53d1\\u9879\\u76ee\\u6570(\\u751f\\u7269\\u5b66DNA\\u7ec4)\", \"x\": [\"10-2\", \"10-3\", \"10-4\", \"8-3\", \"8-4\", \"9-1\", \"9-2\", \"9-3\", \"9-4\"], \"y\": [0.0, 0.0, 0.0, 30.0, 56.0, 56.0, 53.0, 57.0, 57.0], \"type\": \"scatter\", \"uid\": \"3d52a4b1-dbfd-11e8-8ddb-a41f72875c19\"}, {\"line\": {\"dash\": \"dot\"}, \"name\": \"\\u5b63\\u5ea6\\u5f00\\u53d1\\u9879\\u76ee\\u6570(QC)\", \"x\": [\"10-2\", \"10-3\", \"10-4\", \"8-3\", \"8-4\", \"9-1\", \"9-2\", \"9-3\", \"9-4\"], \"y\": [0.0, null, 0.0, null, null, null, null, null, null], \"type\": \"scatter\", \"uid\": \"3d52a4b2-dbfd-11e8-8ddb-a41f72875c19\"}, {\"line\": {\"dash\": \"dash\"}, \"name\": \"\\u5b63\\u5ea6\\u5f00\\u53d1\\u9879\\u76ee\\u6570(\\u4e49\\u4e4c\\u751f\\u4fe1\\u7ec4)\", \"x\": [\"10-2\", \"10-3\", \"10-4\", \"8-3\", \"8-4\", \"9-1\", \"9-2\", \"9-3\", \"9-4\"], \"y\": [null, null, 0.0, null, null, null, null, null, null], \"type\": \"scatter\", \"uid\": \"3d52a4b3-dbfd-11e8-8ddb-a41f72875c19\"}, {\"line\": {\"dash\": \"longdash\"}, \"name\": \"\\u5b63\\u5ea6\\u5f00\\u53d1\\u9879\\u76ee\\u6570(\\u5206\\u6790\\u7ec4)\", \"x\": [\"10-2\", \"10-3\", \"10-4\", \"8-3\", \"8-4\", \"9-1\", \"9-2\", \"9-3\", \"9-4\"], \"y\": [null, null, 0.0, null, null, null, null, null, null], \"type\": \"scatter\", \"uid\": \"3d52a4b4-dbfd-11e8-8ddb-a41f72875c19\"}, {\"line\": {\"dash\": \"dashdot\"}, \"name\": \"\\u5b63\\u5ea6\\u5f00\\u53d1\\u9879\\u76ee\\u6570(\\u8f6c\\u5f55\\u8c03\\u63a7\\u7ec4)\", \"x\": [\"10-2\", \"10-3\", \"10-4\", \"8-3\", \"8-4\", \"9-1\", \"9-2\", \"9-3\", \"9-4\"], \"y\": [0.0, 0.0, 0.0, 78.0, 89.0, 94.0, 70.0, 69.0, 88.0], \"type\": \"scatter\", \"uid\": \"3d52a4b5-dbfd-11e8-8ddb-a41f72875c19\"}, {\"line\": {\"dash\": \"longdashdot\"}, \"name\": \"\\u5b63\\u5ea6\\u5f00\\u53d1\\u9879\\u76ee\\u6570(\\u86cb\\u767d\\u548c\\u533b\\u5b66\\u7ec4)\", \"x\": [\"10-2\", \"10-3\", \"10-4\", \"8-3\", \"8-4\", \"9-1\", \"9-2\", \"9-3\", \"9-4\"], \"y\": [0.0, 0.0, 0.0, 207.0, 207.0, 207.0, 185.0, 197.0, 117.0], \"type\": \"scatter\", \"uid\": \"3d52a4b6-dbfd-11e8-8ddb-a41f72875c19\"}, {\"line\": {\"dash\": \"solid\"}, \"name\": \"\\u6682\\u505c\\u9879\\u76ee\\u6570(\\u751f\\u7269\\u5b66DNA\\u7ec4)\", \"x\": [\"10-2\", \"10-3\", \"10-4\", \"8-3\", \"8-4\", \"9-1\", \"9-2\", \"9-3\", \"9-4\"], \"y\": [0.0, 0.0, 0.0, 0.0, 0.0, 3.0, 4.0, 4.0, 4.0], \"type\": \"scatter\", \"uid\": \"3d52a4b7-dbfd-11e8-8ddb-a41f72875c19\"}, {\"line\": {\"dash\": \"dot\"}, \"name\": \"\\u6682\\u505c\\u9879\\u76ee\\u6570(QC)\", \"x\": [\"10-2\", \"10-3\", \"10-4\", \"8-3\", \"8-4\", \"9-1\", \"9-2\", \"9-3\", \"9-4\"], \"y\": [0.0, null, 0.0, null, null, null, null, null, null], \"type\": \"scatter\", \"uid\": \"3d52a4b8-dbfd-11e8-8ddb-a41f72875c19\"}, {\"line\": {\"dash\": \"dash\"}, \"name\": \"\\u6682\\u505c\\u9879\\u76ee\\u6570(\\u4e49\\u4e4c\\u751f\\u4fe1\\u7ec4)\", \"x\": [\"10-2\", \"10-3\", \"10-4\", \"8-3\", \"8-4\", \"9-1\", \"9-2\", \"9-3\", \"9-4\"], \"y\": [null, null, 0.0, null, null, null, null, null, null], \"type\": \"scatter\", \"uid\": \"3d52a4b9-dbfd-11e8-8ddb-a41f72875c19\"}, {\"line\": {\"dash\": \"longdash\"}, \"name\": \"\\u6682\\u505c\\u9879\\u76ee\\u6570(\\u5206\\u6790\\u7ec4)\", \"x\": [\"10-2\", \"10-3\", \"10-4\", \"8-3\", \"8-4\", \"9-1\", \"9-2\", \"9-3\", \"9-4\"], \"y\": [null, null, 0.0, null, null, null, null, null, null], \"type\": \"scatter\", \"uid\": \"3d52a4ba-dbfd-11e8-8ddb-a41f72875c19\"}, {\"line\": {\"dash\": \"dashdot\"}, \"name\": \"\\u6682\\u505c\\u9879\\u76ee\\u6570(\\u8f6c\\u5f55\\u8c03\\u63a7\\u7ec4)\", \"x\": [\"10-2\", \"10-3\", \"10-4\", \"8-3\", \"8-4\", \"9-1\", \"9-2\", \"9-3\", \"9-4\"], \"y\": [0.0, 0.0, 0.0, 2.0, 2.0, 5.0, 1.0, 13.0, 12.0], \"type\": \"scatter\", \"uid\": \"3d52a4bb-dbfd-11e8-8ddb-a41f72875c19\"}, {\"line\": {\"dash\": \"longdashdot\"}, \"name\": \"\\u6682\\u505c\\u9879\\u76ee\\u6570(\\u86cb\\u767d\\u548c\\u533b\\u5b66\\u7ec4)\", \"x\": [\"10-2\", \"10-3\", \"10-4\", \"8-3\", \"8-4\", \"9-1\", \"9-2\", \"9-3\", \"9-4\"], \"y\": [0.0, 0.0, 0.0, 13.0, 13.0, 13.0, 13.0, 17.0, 6.0], \"type\": \"scatter\", \"uid\": \"3d52a4bc-dbfd-11e8-8ddb-a41f72875c19\"}, {\"line\": {\"dash\": \"solid\"}, \"name\": \"\\u5982\\u671f\\u5b8c\\u6210\\u9879\\u76ee\\u6570(\\u751f\\u7269\\u5b66DNA\\u7ec4)\", \"x\": [\"10-2\", \"10-3\", \"10-4\", \"8-3\", \"8-4\", \"9-1\", \"9-2\", \"9-3\", \"9-4\"], \"y\": [0.0, 0.0, 0.0, 14.0, 20.0, 22.0, 22.0, 25.0, 25.0], \"type\": \"scatter\", \"uid\": \"3d52a4bd-dbfd-11e8-8ddb-a41f72875c19\"}, {\"line\": {\"dash\": \"dot\"}, \"name\": \"\\u5982\\u671f\\u5b8c\\u6210\\u9879\\u76ee\\u6570(QC)\", \"x\": [\"10-2\", \"10-3\", \"10-4\", \"8-3\", \"8-4\", \"9-1\", \"9-2\", \"9-3\", \"9-4\"], \"y\": [0.0, null, 0.0, null, null, null, null, null, null], \"type\": \"scatter\", \"uid\": \"3d52a4be-dbfd-11e8-8ddb-a41f72875c19\"}, {\"line\": {\"dash\": \"dash\"}, \"name\": \"\\u5982\\u671f\\u5b8c\\u6210\\u9879\\u76ee\\u6570(\\u4e49\\u4e4c\\u751f\\u4fe1\\u7ec4)\", \"x\": [\"10-2\", \"10-3\", \"10-4\", \"8-3\", \"8-4\", \"9-1\", \"9-2\", \"9-3\", \"9-4\"], \"y\": [null, null, 0.0, null, null, null, null, null, null], \"type\": \"scatter\", \"uid\": \"3d52a4bf-dbfd-11e8-8ddb-a41f72875c19\"}, {\"line\": {\"dash\": \"longdash\"}, \"name\": \"\\u5982\\u671f\\u5b8c\\u6210\\u9879\\u76ee\\u6570(\\u5206\\u6790\\u7ec4)\", \"x\": [\"10-2\", \"10-3\", \"10-4\", \"8-3\", \"8-4\", \"9-1\", \"9-2\", \"9-3\", \"9-4\"], \"y\": [null, null, 0.0, null, null, null, null, null, null], \"type\": \"scatter\", \"uid\": \"3d52a4c0-dbfd-11e8-8ddb-a41f72875c19\"}, {\"line\": {\"dash\": \"dashdot\"}, \"name\": \"\\u5982\\u671f\\u5b8c\\u6210\\u9879\\u76ee\\u6570(\\u8f6c\\u5f55\\u8c03\\u63a7\\u7ec4)\", \"x\": [\"10-2\", \"10-3\", \"10-4\", \"8-3\", \"8-4\", \"9-1\", \"9-2\", \"9-3\", \"9-4\"], \"y\": [0.0, 0.0, 0.0, 62.0, 73.0, 77.0, 62.0, 60.0, 77.0], \"type\": \"scatter\", \"uid\": \"3d52a4c1-dbfd-11e8-8ddb-a41f72875c19\"}, {\"line\": {\"dash\": \"longdashdot\"}, \"name\": \"\\u5982\\u671f\\u5b8c\\u6210\\u9879\\u76ee\\u6570(\\u86cb\\u767d\\u548c\\u533b\\u5b66\\u7ec4)\", \"x\": [\"10-2\", \"10-3\", \"10-4\", \"8-3\", \"8-4\", \"9-1\", \"9-2\", \"9-3\", \"9-4\"], \"y\": [0.0, 0.0, 0.0, 123.0, 125.0, 129.0, 135.0, 156.0, 110.0], \"type\": \"scatter\", \"uid\": \"3d52a4c2-dbfd-11e8-8ddb-a41f72875c19\"}, {\"line\": {\"dash\": \"solid\"}, \"name\": \"\\u5ef6\\u671f\\u9879\\u76ee\\u6570(\\u751f\\u7269\\u5b66DNA\\u7ec4)\", \"x\": [\"10-2\", \"10-3\", \"10-4\", \"8-3\", \"8-4\", \"9-1\", \"9-2\", \"9-3\", \"9-4\"], \"y\": [2.0, 4.0, 9.0, 4.0, 6.0, 10.0, 10.0, 7.0, 11.0], \"type\": \"scatter\", \"uid\": \"3d52a4c3-dbfd-11e8-8ddb-a41f72875c19\"}, {\"line\": {\"dash\": \"dot\"}, \"name\": \"\\u5ef6\\u671f\\u9879\\u76ee\\u6570(QC)\", \"x\": [\"10-2\", \"10-3\", \"10-4\", \"8-3\", \"8-4\", \"9-1\", \"9-2\", \"9-3\", \"9-4\"], \"y\": [0.0, null, 1.0, null, null, null, null, null, null], \"type\": \"scatter\", \"uid\": \"3d52a4c4-dbfd-11e8-8ddb-a41f72875c19\"}, {\"line\": {\"dash\": \"dash\"}, \"name\": \"\\u5ef6\\u671f\\u9879\\u76ee\\u6570(\\u4e49\\u4e4c\\u751f\\u4fe1\\u7ec4)\", \"x\": [\"10-2\", \"10-3\", \"10-4\", \"8-3\", \"8-4\", \"9-1\", \"9-2\", \"9-3\", \"9-4\"], \"y\": [null, null, 0.0, null, null, null, null, null, null], \"type\": \"scatter\", \"uid\": \"3d52a4c5-dbfd-11e8-8ddb-a41f72875c19\"}, {\"line\": {\"dash\": \"longdash\"}, \"name\": \"\\u5ef6\\u671f\\u9879\\u76ee\\u6570(\\u5206\\u6790\\u7ec4)\", \"x\": [\"10-2\", \"10-3\", \"10-4\", \"8-3\", \"8-4\", \"9-1\", \"9-2\", \"9-3\", \"9-4\"], \"y\": [null, null, 0.0, null, null, null, null, null, null], \"type\": \"scatter\", \"uid\": \"3d52a4c6-dbfd-11e8-8ddb-a41f72875c19\"}, {\"line\": {\"dash\": \"dashdot\"}, \"name\": \"\\u5ef6\\u671f\\u9879\\u76ee\\u6570(\\u8f6c\\u5f55\\u8c03\\u63a7\\u7ec4)\", \"x\": [\"10-2\", \"10-3\", \"10-4\", \"8-3\", \"8-4\", \"9-1\", \"9-2\", \"9-3\", \"9-4\"], \"y\": [0.0, 0.0, 0.0, 0.0, 0.0, 1.0, 1.0, 1.0, 4.0], \"type\": \"scatter\", \"uid\": \"3d52a4c7-dbfd-11e8-8ddb-a41f72875c19\"}, {\"line\": {\"dash\": \"longdashdot\"}, \"name\": \"\\u5ef6\\u671f\\u9879\\u76ee\\u6570(\\u86cb\\u767d\\u548c\\u533b\\u5b66\\u7ec4)\", \"x\": [\"10-2\", \"10-3\", \"10-4\", \"8-3\", \"8-4\", \"9-1\", \"9-2\", \"9-3\", \"9-4\"], \"y\": [0.0, 1.0, 3.0, 7.0, 7.0, 15.0, 9.0, 6.0, 1.0], \"type\": \"scatter\", \"uid\": \"3d52a4c8-dbfd-11e8-8ddb-a41f72875c19\"}], {\"title\": \"\\u5f00\\u53d1\\u4e2d\\u7684\\u9879\\u76ee\\u6570&\\u5ef6\\u671f\\u5b8c\\u6210&\\u5b63\\u5ea6\\u5f00\\u53d1\\u9879\\u76ee\\u6570&\\u6682\\u505c\\u9879\\u76ee\\u6570&\\u5982\\u671f\\u5b8c\\u6210\\u9879\\u76ee\\u6570&\\u5ef6\\u671f\\u9879\\u76ee\\u6570\\u5468\\u8d8b\\u52bf\\u56fe\", \"xaxis\": {\"mirror\": \"all\", \"nticks\": 20, \"showgrid\": true, \"showline\": true, \"title\": \"\\u5468\", \"type\": \"category\", \"zeroline\": true}, \"yaxis\": {\"mirror\": \"all\", \"nticks\": 20, \"showgrid\": true, \"showline\": true, \"title\": \"\\u5f00\\u53d1\\u4e2d\\u7684\\u9879\\u76ee\\u6570&\\u5ef6\\u671f\\u5b8c\\u6210&\\u5b63\\u5ea6\\u5f00\\u53d1\\u9879\\u76ee\\u6570&\\u6682\\u505c\\u9879\\u76ee\\u6570&\\u5982\\u671f\\u5b8c\\u6210\\u9879\\u76ee\\u6570&\\u5ef6\\u671f\\u9879\\u76ee\\u6570\", \"zeroline\": true}}, {\"showLink\": true, \"linkText\": \"Export to plot.ly\"})});</script>"
      ],
      "text/vnd.plotly.v1+html": [
       "<div id=\"021422b6-c599-49f4-8669-c6cb824c3c1a\" style=\"height: 525px; width: 100%;\" class=\"plotly-graph-div\"></div><script type=\"text/javascript\">require([\"plotly\"], function(Plotly) { window.PLOTLYENV=window.PLOTLYENV || {};window.PLOTLYENV.BASE_URL=\"https://plot.ly\";Plotly.newPlot(\"021422b6-c599-49f4-8669-c6cb824c3c1a\", [{\"line\": {\"dash\": \"solid\"}, \"name\": \"\\u5f00\\u53d1\\u4e2d\\u7684\\u9879\\u76ee\\u6570(\\u751f\\u7269\\u5b66DNA\\u7ec4)\", \"x\": [\"10-2\", \"10-3\", \"10-4\", \"8-3\", \"8-4\", \"9-1\", \"9-2\", \"9-3\", \"9-4\"], \"y\": [0.0, 0.0, 0.0, 11.0, 26.0, 16.0, 16.0, 9.0, 3.0], \"type\": \"scatter\", \"uid\": \"3d52a4a5-dbfd-11e8-8ddb-a41f72875c19\"}, {\"line\": {\"dash\": \"dot\"}, \"name\": \"\\u5f00\\u53d1\\u4e2d\\u7684\\u9879\\u76ee\\u6570(QC)\", \"x\": [\"10-2\", \"10-3\", \"10-4\", \"8-3\", \"8-4\", \"9-1\", \"9-2\", \"9-3\", \"9-4\"], \"y\": [0.0, null, 0.0, null, null, null, null, null, null], \"type\": \"scatter\", \"uid\": \"3d52a4a6-dbfd-11e8-8ddb-a41f72875c19\"}, {\"line\": {\"dash\": \"dash\"}, \"name\": \"\\u5f00\\u53d1\\u4e2d\\u7684\\u9879\\u76ee\\u6570(\\u4e49\\u4e4c\\u751f\\u4fe1\\u7ec4)\", \"x\": [\"10-2\", \"10-3\", \"10-4\", \"8-3\", \"8-4\", \"9-1\", \"9-2\", \"9-3\", \"9-4\"], \"y\": [null, null, 0.0, null, null, null, null, null, null], \"type\": \"scatter\", \"uid\": \"3d52a4a7-dbfd-11e8-8ddb-a41f72875c19\"}, {\"line\": {\"dash\": \"longdash\"}, \"name\": \"\\u5f00\\u53d1\\u4e2d\\u7684\\u9879\\u76ee\\u6570(\\u5206\\u6790\\u7ec4)\", \"x\": [\"10-2\", \"10-3\", \"10-4\", \"8-3\", \"8-4\", \"9-1\", \"9-2\", \"9-3\", \"9-4\"], \"y\": [null, null, 0.0, null, null, null, null, null, null], \"type\": \"scatter\", \"uid\": \"3d52a4a8-dbfd-11e8-8ddb-a41f72875c19\"}, {\"line\": {\"dash\": \"dashdot\"}, \"name\": \"\\u5f00\\u53d1\\u4e2d\\u7684\\u9879\\u76ee\\u6570(\\u8f6c\\u5f55\\u8c03\\u63a7\\u7ec4)\", \"x\": [\"10-2\", \"10-3\", \"10-4\", \"8-3\", \"8-4\", \"9-1\", \"9-2\", \"9-3\", \"9-4\"], \"y\": [0.0, 0.0, 0.0, 6.0, 11.0, 11.0, 6.0, 9.0, 8.0], \"type\": \"scatter\", \"uid\": \"3d52a4a9-dbfd-11e8-8ddb-a41f72875c19\"}, {\"line\": {\"dash\": \"longdashdot\"}, \"name\": \"\\u5f00\\u53d1\\u4e2d\\u7684\\u9879\\u76ee\\u6570(\\u86cb\\u767d\\u548c\\u533b\\u5b66\\u7ec4)\", \"x\": [\"10-2\", \"10-3\", \"10-4\", \"8-3\", \"8-4\", \"9-1\", \"9-2\", \"9-3\", \"9-4\"], \"y\": [0.0, 0.0, 0.0, 56.0, 53.0, 39.0, 26.0, 8.0, 1.0], \"type\": \"scatter\", \"uid\": \"3d52a4aa-dbfd-11e8-8ddb-a41f72875c19\"}, {\"line\": {\"dash\": \"solid\"}, \"name\": \"\\u5ef6\\u671f\\u5b8c\\u6210(\\u751f\\u7269\\u5b66DNA\\u7ec4)\", \"x\": [\"10-2\", \"10-3\", \"10-4\", \"8-3\", \"8-4\", \"9-1\", \"9-2\", \"9-3\", \"9-4\"], \"y\": [0.0, 0.0, 0.0, 3.0, 5.0, 6.0, 4.0, 12.0, 14.0], \"type\": \"scatter\", \"uid\": \"3d52a4ab-dbfd-11e8-8ddb-a41f72875c19\"}, {\"line\": {\"dash\": \"dot\"}, \"name\": \"\\u5ef6\\u671f\\u5b8c\\u6210(QC)\", \"x\": [\"10-2\", \"10-3\", \"10-4\", \"8-3\", \"8-4\", \"9-1\", \"9-2\", \"9-3\", \"9-4\"], \"y\": [0.0, null, 0.0, null, null, null, null, null, null], \"type\": \"scatter\", \"uid\": \"3d52a4ac-dbfd-11e8-8ddb-a41f72875c19\"}, {\"line\": {\"dash\": \"dash\"}, \"name\": \"\\u5ef6\\u671f\\u5b8c\\u6210(\\u4e49\\u4e4c\\u751f\\u4fe1\\u7ec4)\", \"x\": [\"10-2\", \"10-3\", \"10-4\", \"8-3\", \"8-4\", \"9-1\", \"9-2\", \"9-3\", \"9-4\"], \"y\": [null, null, 0.0, null, null, null, null, null, null], \"type\": \"scatter\", \"uid\": \"3d52a4ad-dbfd-11e8-8ddb-a41f72875c19\"}, {\"line\": {\"dash\": \"longdash\"}, \"name\": \"\\u5ef6\\u671f\\u5b8c\\u6210(\\u5206\\u6790\\u7ec4)\", \"x\": [\"10-2\", \"10-3\", \"10-4\", \"8-3\", \"8-4\", \"9-1\", \"9-2\", \"9-3\", \"9-4\"], \"y\": [null, null, 0.0, null, null, null, null, null, null], \"type\": \"scatter\", \"uid\": \"3d52a4ae-dbfd-11e8-8ddb-a41f72875c19\"}, {\"line\": {\"dash\": \"dashdot\"}, \"name\": \"\\u5ef6\\u671f\\u5b8c\\u6210(\\u8f6c\\u5f55\\u8c03\\u63a7\\u7ec4)\", \"x\": [\"10-2\", \"10-3\", \"10-4\", \"8-3\", \"8-4\", \"9-1\", \"9-2\", \"9-3\", \"9-4\"], \"y\": [0.0, 0.0, 0.0, 4.0, 4.0, 5.0, 1.0, 1.0, 6.0], \"type\": \"scatter\", \"uid\": \"3d52a4af-dbfd-11e8-8ddb-a41f72875c19\"}, {\"line\": {\"dash\": \"longdashdot\"}, \"name\": \"\\u5ef6\\u671f\\u5b8c\\u6210(\\u86cb\\u767d\\u548c\\u533b\\u5b66\\u7ec4)\", \"x\": [\"10-2\", \"10-3\", \"10-4\", \"8-3\", \"8-4\", \"9-1\", \"9-2\", \"9-3\", \"9-4\"], \"y\": [0.0, 0.0, 0.0, 8.0, 9.0, 11.0, 3.0, 13.0, 2.0], \"type\": \"scatter\", \"uid\": \"3d52a4b0-dbfd-11e8-8ddb-a41f72875c19\"}, {\"line\": {\"dash\": \"solid\"}, \"name\": \"\\u5b63\\u5ea6\\u5f00\\u53d1\\u9879\\u76ee\\u6570(\\u751f\\u7269\\u5b66DNA\\u7ec4)\", \"x\": [\"10-2\", \"10-3\", \"10-4\", \"8-3\", \"8-4\", \"9-1\", \"9-2\", \"9-3\", \"9-4\"], \"y\": [0.0, 0.0, 0.0, 30.0, 56.0, 56.0, 53.0, 57.0, 57.0], \"type\": \"scatter\", \"uid\": \"3d52a4b1-dbfd-11e8-8ddb-a41f72875c19\"}, {\"line\": {\"dash\": \"dot\"}, \"name\": \"\\u5b63\\u5ea6\\u5f00\\u53d1\\u9879\\u76ee\\u6570(QC)\", \"x\": [\"10-2\", \"10-3\", \"10-4\", \"8-3\", \"8-4\", \"9-1\", \"9-2\", \"9-3\", \"9-4\"], \"y\": [0.0, null, 0.0, null, null, null, null, null, null], \"type\": \"scatter\", \"uid\": \"3d52a4b2-dbfd-11e8-8ddb-a41f72875c19\"}, {\"line\": {\"dash\": \"dash\"}, \"name\": \"\\u5b63\\u5ea6\\u5f00\\u53d1\\u9879\\u76ee\\u6570(\\u4e49\\u4e4c\\u751f\\u4fe1\\u7ec4)\", \"x\": [\"10-2\", \"10-3\", \"10-4\", \"8-3\", \"8-4\", \"9-1\", \"9-2\", \"9-3\", \"9-4\"], \"y\": [null, null, 0.0, null, null, null, null, null, null], \"type\": \"scatter\", \"uid\": \"3d52a4b3-dbfd-11e8-8ddb-a41f72875c19\"}, {\"line\": {\"dash\": \"longdash\"}, \"name\": \"\\u5b63\\u5ea6\\u5f00\\u53d1\\u9879\\u76ee\\u6570(\\u5206\\u6790\\u7ec4)\", \"x\": [\"10-2\", \"10-3\", \"10-4\", \"8-3\", \"8-4\", \"9-1\", \"9-2\", \"9-3\", \"9-4\"], \"y\": [null, null, 0.0, null, null, null, null, null, null], \"type\": \"scatter\", \"uid\": \"3d52a4b4-dbfd-11e8-8ddb-a41f72875c19\"}, {\"line\": {\"dash\": \"dashdot\"}, \"name\": \"\\u5b63\\u5ea6\\u5f00\\u53d1\\u9879\\u76ee\\u6570(\\u8f6c\\u5f55\\u8c03\\u63a7\\u7ec4)\", \"x\": [\"10-2\", \"10-3\", \"10-4\", \"8-3\", \"8-4\", \"9-1\", \"9-2\", \"9-3\", \"9-4\"], \"y\": [0.0, 0.0, 0.0, 78.0, 89.0, 94.0, 70.0, 69.0, 88.0], \"type\": \"scatter\", \"uid\": \"3d52a4b5-dbfd-11e8-8ddb-a41f72875c19\"}, {\"line\": {\"dash\": \"longdashdot\"}, \"name\": \"\\u5b63\\u5ea6\\u5f00\\u53d1\\u9879\\u76ee\\u6570(\\u86cb\\u767d\\u548c\\u533b\\u5b66\\u7ec4)\", \"x\": [\"10-2\", \"10-3\", \"10-4\", \"8-3\", \"8-4\", \"9-1\", \"9-2\", \"9-3\", \"9-4\"], \"y\": [0.0, 0.0, 0.0, 207.0, 207.0, 207.0, 185.0, 197.0, 117.0], \"type\": \"scatter\", \"uid\": \"3d52a4b6-dbfd-11e8-8ddb-a41f72875c19\"}, {\"line\": {\"dash\": \"solid\"}, \"name\": \"\\u6682\\u505c\\u9879\\u76ee\\u6570(\\u751f\\u7269\\u5b66DNA\\u7ec4)\", \"x\": [\"10-2\", \"10-3\", \"10-4\", \"8-3\", \"8-4\", \"9-1\", \"9-2\", \"9-3\", \"9-4\"], \"y\": [0.0, 0.0, 0.0, 0.0, 0.0, 3.0, 4.0, 4.0, 4.0], \"type\": \"scatter\", \"uid\": \"3d52a4b7-dbfd-11e8-8ddb-a41f72875c19\"}, {\"line\": {\"dash\": \"dot\"}, \"name\": \"\\u6682\\u505c\\u9879\\u76ee\\u6570(QC)\", \"x\": [\"10-2\", \"10-3\", \"10-4\", \"8-3\", \"8-4\", \"9-1\", \"9-2\", \"9-3\", \"9-4\"], \"y\": [0.0, null, 0.0, null, null, null, null, null, null], \"type\": \"scatter\", \"uid\": \"3d52a4b8-dbfd-11e8-8ddb-a41f72875c19\"}, {\"line\": {\"dash\": \"dash\"}, \"name\": \"\\u6682\\u505c\\u9879\\u76ee\\u6570(\\u4e49\\u4e4c\\u751f\\u4fe1\\u7ec4)\", \"x\": [\"10-2\", \"10-3\", \"10-4\", \"8-3\", \"8-4\", \"9-1\", \"9-2\", \"9-3\", \"9-4\"], \"y\": [null, null, 0.0, null, null, null, null, null, null], \"type\": \"scatter\", \"uid\": \"3d52a4b9-dbfd-11e8-8ddb-a41f72875c19\"}, {\"line\": {\"dash\": \"longdash\"}, \"name\": \"\\u6682\\u505c\\u9879\\u76ee\\u6570(\\u5206\\u6790\\u7ec4)\", \"x\": [\"10-2\", \"10-3\", \"10-4\", \"8-3\", \"8-4\", \"9-1\", \"9-2\", \"9-3\", \"9-4\"], \"y\": [null, null, 0.0, null, null, null, null, null, null], \"type\": \"scatter\", \"uid\": \"3d52a4ba-dbfd-11e8-8ddb-a41f72875c19\"}, {\"line\": {\"dash\": \"dashdot\"}, \"name\": \"\\u6682\\u505c\\u9879\\u76ee\\u6570(\\u8f6c\\u5f55\\u8c03\\u63a7\\u7ec4)\", \"x\": [\"10-2\", \"10-3\", \"10-4\", \"8-3\", \"8-4\", \"9-1\", \"9-2\", \"9-3\", \"9-4\"], \"y\": [0.0, 0.0, 0.0, 2.0, 2.0, 5.0, 1.0, 13.0, 12.0], \"type\": \"scatter\", \"uid\": \"3d52a4bb-dbfd-11e8-8ddb-a41f72875c19\"}, {\"line\": {\"dash\": \"longdashdot\"}, \"name\": \"\\u6682\\u505c\\u9879\\u76ee\\u6570(\\u86cb\\u767d\\u548c\\u533b\\u5b66\\u7ec4)\", \"x\": [\"10-2\", \"10-3\", \"10-4\", \"8-3\", \"8-4\", \"9-1\", \"9-2\", \"9-3\", \"9-4\"], \"y\": [0.0, 0.0, 0.0, 13.0, 13.0, 13.0, 13.0, 17.0, 6.0], \"type\": \"scatter\", \"uid\": \"3d52a4bc-dbfd-11e8-8ddb-a41f72875c19\"}, {\"line\": {\"dash\": \"solid\"}, \"name\": \"\\u5982\\u671f\\u5b8c\\u6210\\u9879\\u76ee\\u6570(\\u751f\\u7269\\u5b66DNA\\u7ec4)\", \"x\": [\"10-2\", \"10-3\", \"10-4\", \"8-3\", \"8-4\", \"9-1\", \"9-2\", \"9-3\", \"9-4\"], \"y\": [0.0, 0.0, 0.0, 14.0, 20.0, 22.0, 22.0, 25.0, 25.0], \"type\": \"scatter\", \"uid\": \"3d52a4bd-dbfd-11e8-8ddb-a41f72875c19\"}, {\"line\": {\"dash\": \"dot\"}, \"name\": \"\\u5982\\u671f\\u5b8c\\u6210\\u9879\\u76ee\\u6570(QC)\", \"x\": [\"10-2\", \"10-3\", \"10-4\", \"8-3\", \"8-4\", \"9-1\", \"9-2\", \"9-3\", \"9-4\"], \"y\": [0.0, null, 0.0, null, null, null, null, null, null], \"type\": \"scatter\", \"uid\": \"3d52a4be-dbfd-11e8-8ddb-a41f72875c19\"}, {\"line\": {\"dash\": \"dash\"}, \"name\": \"\\u5982\\u671f\\u5b8c\\u6210\\u9879\\u76ee\\u6570(\\u4e49\\u4e4c\\u751f\\u4fe1\\u7ec4)\", \"x\": [\"10-2\", \"10-3\", \"10-4\", \"8-3\", \"8-4\", \"9-1\", \"9-2\", \"9-3\", \"9-4\"], \"y\": [null, null, 0.0, null, null, null, null, null, null], \"type\": \"scatter\", \"uid\": \"3d52a4bf-dbfd-11e8-8ddb-a41f72875c19\"}, {\"line\": {\"dash\": \"longdash\"}, \"name\": \"\\u5982\\u671f\\u5b8c\\u6210\\u9879\\u76ee\\u6570(\\u5206\\u6790\\u7ec4)\", \"x\": [\"10-2\", \"10-3\", \"10-4\", \"8-3\", \"8-4\", \"9-1\", \"9-2\", \"9-3\", \"9-4\"], \"y\": [null, null, 0.0, null, null, null, null, null, null], \"type\": \"scatter\", \"uid\": \"3d52a4c0-dbfd-11e8-8ddb-a41f72875c19\"}, {\"line\": {\"dash\": \"dashdot\"}, \"name\": \"\\u5982\\u671f\\u5b8c\\u6210\\u9879\\u76ee\\u6570(\\u8f6c\\u5f55\\u8c03\\u63a7\\u7ec4)\", \"x\": [\"10-2\", \"10-3\", \"10-4\", \"8-3\", \"8-4\", \"9-1\", \"9-2\", \"9-3\", \"9-4\"], \"y\": [0.0, 0.0, 0.0, 62.0, 73.0, 77.0, 62.0, 60.0, 77.0], \"type\": \"scatter\", \"uid\": \"3d52a4c1-dbfd-11e8-8ddb-a41f72875c19\"}, {\"line\": {\"dash\": \"longdashdot\"}, \"name\": \"\\u5982\\u671f\\u5b8c\\u6210\\u9879\\u76ee\\u6570(\\u86cb\\u767d\\u548c\\u533b\\u5b66\\u7ec4)\", \"x\": [\"10-2\", \"10-3\", \"10-4\", \"8-3\", \"8-4\", \"9-1\", \"9-2\", \"9-3\", \"9-4\"], \"y\": [0.0, 0.0, 0.0, 123.0, 125.0, 129.0, 135.0, 156.0, 110.0], \"type\": \"scatter\", \"uid\": \"3d52a4c2-dbfd-11e8-8ddb-a41f72875c19\"}, {\"line\": {\"dash\": \"solid\"}, \"name\": \"\\u5ef6\\u671f\\u9879\\u76ee\\u6570(\\u751f\\u7269\\u5b66DNA\\u7ec4)\", \"x\": [\"10-2\", \"10-3\", \"10-4\", \"8-3\", \"8-4\", \"9-1\", \"9-2\", \"9-3\", \"9-4\"], \"y\": [2.0, 4.0, 9.0, 4.0, 6.0, 10.0, 10.0, 7.0, 11.0], \"type\": \"scatter\", \"uid\": \"3d52a4c3-dbfd-11e8-8ddb-a41f72875c19\"}, {\"line\": {\"dash\": \"dot\"}, \"name\": \"\\u5ef6\\u671f\\u9879\\u76ee\\u6570(QC)\", \"x\": [\"10-2\", \"10-3\", \"10-4\", \"8-3\", \"8-4\", \"9-1\", \"9-2\", \"9-3\", \"9-4\"], \"y\": [0.0, null, 1.0, null, null, null, null, null, null], \"type\": \"scatter\", \"uid\": \"3d52a4c4-dbfd-11e8-8ddb-a41f72875c19\"}, {\"line\": {\"dash\": \"dash\"}, \"name\": \"\\u5ef6\\u671f\\u9879\\u76ee\\u6570(\\u4e49\\u4e4c\\u751f\\u4fe1\\u7ec4)\", \"x\": [\"10-2\", \"10-3\", \"10-4\", \"8-3\", \"8-4\", \"9-1\", \"9-2\", \"9-3\", \"9-4\"], \"y\": [null, null, 0.0, null, null, null, null, null, null], \"type\": \"scatter\", \"uid\": \"3d52a4c5-dbfd-11e8-8ddb-a41f72875c19\"}, {\"line\": {\"dash\": \"longdash\"}, \"name\": \"\\u5ef6\\u671f\\u9879\\u76ee\\u6570(\\u5206\\u6790\\u7ec4)\", \"x\": [\"10-2\", \"10-3\", \"10-4\", \"8-3\", \"8-4\", \"9-1\", \"9-2\", \"9-3\", \"9-4\"], \"y\": [null, null, 0.0, null, null, null, null, null, null], \"type\": \"scatter\", \"uid\": \"3d52a4c6-dbfd-11e8-8ddb-a41f72875c19\"}, {\"line\": {\"dash\": \"dashdot\"}, \"name\": \"\\u5ef6\\u671f\\u9879\\u76ee\\u6570(\\u8f6c\\u5f55\\u8c03\\u63a7\\u7ec4)\", \"x\": [\"10-2\", \"10-3\", \"10-4\", \"8-3\", \"8-4\", \"9-1\", \"9-2\", \"9-3\", \"9-4\"], \"y\": [0.0, 0.0, 0.0, 0.0, 0.0, 1.0, 1.0, 1.0, 4.0], \"type\": \"scatter\", \"uid\": \"3d52a4c7-dbfd-11e8-8ddb-a41f72875c19\"}, {\"line\": {\"dash\": \"longdashdot\"}, \"name\": \"\\u5ef6\\u671f\\u9879\\u76ee\\u6570(\\u86cb\\u767d\\u548c\\u533b\\u5b66\\u7ec4)\", \"x\": [\"10-2\", \"10-3\", \"10-4\", \"8-3\", \"8-4\", \"9-1\", \"9-2\", \"9-3\", \"9-4\"], \"y\": [0.0, 1.0, 3.0, 7.0, 7.0, 15.0, 9.0, 6.0, 1.0], \"type\": \"scatter\", \"uid\": \"3d52a4c8-dbfd-11e8-8ddb-a41f72875c19\"}], {\"title\": \"\\u5f00\\u53d1\\u4e2d\\u7684\\u9879\\u76ee\\u6570&\\u5ef6\\u671f\\u5b8c\\u6210&\\u5b63\\u5ea6\\u5f00\\u53d1\\u9879\\u76ee\\u6570&\\u6682\\u505c\\u9879\\u76ee\\u6570&\\u5982\\u671f\\u5b8c\\u6210\\u9879\\u76ee\\u6570&\\u5ef6\\u671f\\u9879\\u76ee\\u6570\\u5468\\u8d8b\\u52bf\\u56fe\", \"xaxis\": {\"mirror\": \"all\", \"nticks\": 20, \"showgrid\": true, \"showline\": true, \"title\": \"\\u5468\", \"type\": \"category\", \"zeroline\": true}, \"yaxis\": {\"mirror\": \"all\", \"nticks\": 20, \"showgrid\": true, \"showline\": true, \"title\": \"\\u5f00\\u53d1\\u4e2d\\u7684\\u9879\\u76ee\\u6570&\\u5ef6\\u671f\\u5b8c\\u6210&\\u5b63\\u5ea6\\u5f00\\u53d1\\u9879\\u76ee\\u6570&\\u6682\\u505c\\u9879\\u76ee\\u6570&\\u5982\\u671f\\u5b8c\\u6210\\u9879\\u76ee\\u6570&\\u5ef6\\u671f\\u9879\\u76ee\\u6570\", \"zeroline\": true}}, {\"showLink\": true, \"linkText\": \"Export to plot.ly\"})});</script>"
      ]
     },
     "metadata": {},
     "output_type": "display_data"
    }
   ],
   "source": [
    "ss=myModule.format(all_dict ,\"日期\" ,['季度开发项目数', '如期完成项目数', '延期完成', '开发中的项目数', '延期项目数', '暂停项目数'])\n",
    "ss.add_group('组别')\n",
    "tt = myModule.myPlot(ss.groupby('sum'))\n",
    "tt.plot('line')"
   ]
  },
  {
   "cell_type": "markdown",
   "metadata": {
    "hide_input": true
   },
   "source": [
    "### 个人成长指数"
   ]
  },
  {
   "cell_type": "markdown",
   "metadata": {},
   "source": [
    "#### 电话会议次数、软著撰写完成数、专利撰写完成数、外出技术支持数、客户来访接待数和文章数"
   ]
  },
  {
   "cell_type": "code",
   "execution_count": 11,
   "metadata": {
    "collapsed": false
   },
   "outputs": [
    {
     "data": {
      "application/vnd.plotly.v1+json": {
       "data": [
        {
         "line": {
          "dash": "solid"
         },
         "name": "电话会议次数(生物学DNA组)",
         "type": "scatter",
         "uid": "3e3696b8-dbfd-11e8-8ddb-a41f72875c19",
         "x": [
          "10-2",
          "10-3",
          "10-4",
          "8-3",
          "8-4",
          "9-1",
          "9-2",
          "9-3",
          "9-4"
         ],
         "y": [
          0,
          0,
          0,
          1,
          3,
          4,
          3,
          5,
          2
         ]
        },
        {
         "line": {
          "dash": "dot"
         },
         "name": "电话会议次数(QC)",
         "type": "scatter",
         "uid": "3e3696b9-dbfd-11e8-8ddb-a41f72875c19",
         "x": [
          "10-2",
          "10-3",
          "10-4",
          "8-3",
          "8-4",
          "9-1",
          "9-2",
          "9-3",
          "9-4"
         ],
         "y": [
          0,
          null,
          0,
          null,
          null,
          null,
          null,
          null,
          null
         ]
        },
        {
         "line": {
          "dash": "dash"
         },
         "name": "电话会议次数(义乌生信组)",
         "type": "scatter",
         "uid": "3e3696ba-dbfd-11e8-8ddb-a41f72875c19",
         "x": [
          "10-2",
          "10-3",
          "10-4",
          "8-3",
          "8-4",
          "9-1",
          "9-2",
          "9-3",
          "9-4"
         ],
         "y": [
          null,
          null,
          0,
          null,
          null,
          null,
          null,
          null,
          null
         ]
        },
        {
         "line": {
          "dash": "longdash"
         },
         "name": "电话会议次数(分析组)",
         "type": "scatter",
         "uid": "3e3696bb-dbfd-11e8-8ddb-a41f72875c19",
         "x": [
          "10-2",
          "10-3",
          "10-4",
          "8-3",
          "8-4",
          "9-1",
          "9-2",
          "9-3",
          "9-4"
         ],
         "y": [
          null,
          null,
          0,
          null,
          null,
          null,
          null,
          null,
          null
         ]
        },
        {
         "line": {
          "dash": "dashdot"
         },
         "name": "电话会议次数(转录调控组)",
         "type": "scatter",
         "uid": "3e3696bc-dbfd-11e8-8ddb-a41f72875c19",
         "x": [
          "10-2",
          "10-3",
          "10-4",
          "8-3",
          "8-4",
          "9-1",
          "9-2",
          "9-3",
          "9-4"
         ],
         "y": [
          0,
          0,
          0,
          4,
          2,
          1,
          3,
          2,
          1
         ]
        },
        {
         "line": {
          "dash": "longdashdot"
         },
         "name": "电话会议次数(蛋白和医学组)",
         "type": "scatter",
         "uid": "3e3696bd-dbfd-11e8-8ddb-a41f72875c19",
         "x": [
          "10-2",
          "10-3",
          "10-4",
          "8-3",
          "8-4",
          "9-1",
          "9-2",
          "9-3",
          "9-4"
         ],
         "y": [
          0,
          0,
          0,
          4,
          0,
          0,
          2,
          3,
          0
         ]
        },
        {
         "line": {
          "dash": "solid"
         },
         "name": "客户来访接待数(生物学DNA组)",
         "type": "scatter",
         "uid": "3e3696be-dbfd-11e8-8ddb-a41f72875c19",
         "x": [
          "10-2",
          "10-3",
          "10-4",
          "8-3",
          "8-4",
          "9-1",
          "9-2",
          "9-3",
          "9-4"
         ],
         "y": [
          0,
          0,
          0,
          1,
          0,
          0,
          0,
          1,
          2
         ]
        },
        {
         "line": {
          "dash": "dot"
         },
         "name": "客户来访接待数(QC)",
         "type": "scatter",
         "uid": "3e3696bf-dbfd-11e8-8ddb-a41f72875c19",
         "x": [
          "10-2",
          "10-3",
          "10-4",
          "8-3",
          "8-4",
          "9-1",
          "9-2",
          "9-3",
          "9-4"
         ],
         "y": [
          0,
          null,
          0,
          null,
          null,
          null,
          null,
          null,
          null
         ]
        },
        {
         "line": {
          "dash": "dash"
         },
         "name": "客户来访接待数(义乌生信组)",
         "type": "scatter",
         "uid": "3e3696c0-dbfd-11e8-8ddb-a41f72875c19",
         "x": [
          "10-2",
          "10-3",
          "10-4",
          "8-3",
          "8-4",
          "9-1",
          "9-2",
          "9-3",
          "9-4"
         ],
         "y": [
          null,
          null,
          0,
          null,
          null,
          null,
          null,
          null,
          null
         ]
        },
        {
         "line": {
          "dash": "longdash"
         },
         "name": "客户来访接待数(分析组)",
         "type": "scatter",
         "uid": "3e3696c1-dbfd-11e8-8ddb-a41f72875c19",
         "x": [
          "10-2",
          "10-3",
          "10-4",
          "8-3",
          "8-4",
          "9-1",
          "9-2",
          "9-3",
          "9-4"
         ],
         "y": [
          null,
          null,
          0,
          null,
          null,
          null,
          null,
          null,
          null
         ]
        },
        {
         "line": {
          "dash": "dashdot"
         },
         "name": "客户来访接待数(转录调控组)",
         "type": "scatter",
         "uid": "3e3696c2-dbfd-11e8-8ddb-a41f72875c19",
         "x": [
          "10-2",
          "10-3",
          "10-4",
          "8-3",
          "8-4",
          "9-1",
          "9-2",
          "9-3",
          "9-4"
         ],
         "y": [
          0,
          0,
          0,
          0,
          0,
          0,
          0,
          0,
          8
         ]
        },
        {
         "line": {
          "dash": "longdashdot"
         },
         "name": "客户来访接待数(蛋白和医学组)",
         "type": "scatter",
         "uid": "3e3696c3-dbfd-11e8-8ddb-a41f72875c19",
         "x": [
          "10-2",
          "10-3",
          "10-4",
          "8-3",
          "8-4",
          "9-1",
          "9-2",
          "9-3",
          "9-4"
         ],
         "y": [
          0,
          0,
          0,
          2,
          0,
          0,
          0,
          0,
          0
         ]
        },
        {
         "line": {
          "dash": "solid"
         },
         "name": "外出技术支持数(生物学DNA组)",
         "type": "scatter",
         "uid": "3e3696c4-dbfd-11e8-8ddb-a41f72875c19",
         "x": [
          "10-2",
          "10-3",
          "10-4",
          "8-3",
          "8-4",
          "9-1",
          "9-2",
          "9-3",
          "9-4"
         ],
         "y": [
          0,
          0,
          0,
          0,
          0,
          0,
          0,
          0,
          0
         ]
        },
        {
         "line": {
          "dash": "dot"
         },
         "name": "外出技术支持数(QC)",
         "type": "scatter",
         "uid": "3e3696c5-dbfd-11e8-8ddb-a41f72875c19",
         "x": [
          "10-2",
          "10-3",
          "10-4",
          "8-3",
          "8-4",
          "9-1",
          "9-2",
          "9-3",
          "9-4"
         ],
         "y": [
          0,
          null,
          0,
          null,
          null,
          null,
          null,
          null,
          null
         ]
        },
        {
         "line": {
          "dash": "dash"
         },
         "name": "外出技术支持数(义乌生信组)",
         "type": "scatter",
         "uid": "3e3696c6-dbfd-11e8-8ddb-a41f72875c19",
         "x": [
          "10-2",
          "10-3",
          "10-4",
          "8-3",
          "8-4",
          "9-1",
          "9-2",
          "9-3",
          "9-4"
         ],
         "y": [
          null,
          null,
          0,
          null,
          null,
          null,
          null,
          null,
          null
         ]
        },
        {
         "line": {
          "dash": "longdash"
         },
         "name": "外出技术支持数(分析组)",
         "type": "scatter",
         "uid": "3e3696c7-dbfd-11e8-8ddb-a41f72875c19",
         "x": [
          "10-2",
          "10-3",
          "10-4",
          "8-3",
          "8-4",
          "9-1",
          "9-2",
          "9-3",
          "9-4"
         ],
         "y": [
          null,
          null,
          0,
          null,
          null,
          null,
          null,
          null,
          null
         ]
        },
        {
         "line": {
          "dash": "dashdot"
         },
         "name": "外出技术支持数(转录调控组)",
         "type": "scatter",
         "uid": "3e3696c8-dbfd-11e8-8ddb-a41f72875c19",
         "x": [
          "10-2",
          "10-3",
          "10-4",
          "8-3",
          "8-4",
          "9-1",
          "9-2",
          "9-3",
          "9-4"
         ],
         "y": [
          0,
          0,
          0,
          0,
          0,
          0,
          0,
          0,
          0
         ]
        },
        {
         "line": {
          "dash": "longdashdot"
         },
         "name": "外出技术支持数(蛋白和医学组)",
         "type": "scatter",
         "uid": "3e3696c9-dbfd-11e8-8ddb-a41f72875c19",
         "x": [
          "10-2",
          "10-3",
          "10-4",
          "8-3",
          "8-4",
          "9-1",
          "9-2",
          "9-3",
          "9-4"
         ],
         "y": [
          0,
          0,
          0,
          0,
          0,
          0,
          0,
          0,
          0
         ]
        }
       ],
       "layout": {
        "title": "电话会议次数&客户来访接待数&外出技术支持数周趋势图",
        "xaxis": {
         "mirror": "all",
         "nticks": 20,
         "showgrid": true,
         "showline": true,
         "title": "周",
         "type": "category",
         "zeroline": true
        },
        "yaxis": {
         "mirror": "all",
         "nticks": 20,
         "showgrid": true,
         "showline": true,
         "title": "电话会议次数&客户来访接待数&外出技术支持数",
         "zeroline": true
        }
       }
      },
      "text/html": [
       "<div id=\"1d661958-eb27-43a5-a85e-d8743f17b8e6\" style=\"height: 525px; width: 100%;\" class=\"plotly-graph-div\"></div><script type=\"text/javascript\">require([\"plotly\"], function(Plotly) { window.PLOTLYENV=window.PLOTLYENV || {};window.PLOTLYENV.BASE_URL=\"https://plot.ly\";Plotly.newPlot(\"1d661958-eb27-43a5-a85e-d8743f17b8e6\", [{\"line\": {\"dash\": \"solid\"}, \"name\": \"\\u7535\\u8bdd\\u4f1a\\u8bae\\u6b21\\u6570(\\u751f\\u7269\\u5b66DNA\\u7ec4)\", \"x\": [\"10-2\", \"10-3\", \"10-4\", \"8-3\", \"8-4\", \"9-1\", \"9-2\", \"9-3\", \"9-4\"], \"y\": [0.0, 0.0, 0.0, 1.0, 3.0, 4.0, 3.0, 5.0, 2.0], \"type\": \"scatter\", \"uid\": \"3e3696b8-dbfd-11e8-8ddb-a41f72875c19\"}, {\"line\": {\"dash\": \"dot\"}, \"name\": \"\\u7535\\u8bdd\\u4f1a\\u8bae\\u6b21\\u6570(QC)\", \"x\": [\"10-2\", \"10-3\", \"10-4\", \"8-3\", \"8-4\", \"9-1\", \"9-2\", \"9-3\", \"9-4\"], \"y\": [0.0, null, 0.0, null, null, null, null, null, null], \"type\": \"scatter\", \"uid\": \"3e3696b9-dbfd-11e8-8ddb-a41f72875c19\"}, {\"line\": {\"dash\": \"dash\"}, \"name\": \"\\u7535\\u8bdd\\u4f1a\\u8bae\\u6b21\\u6570(\\u4e49\\u4e4c\\u751f\\u4fe1\\u7ec4)\", \"x\": [\"10-2\", \"10-3\", \"10-4\", \"8-3\", \"8-4\", \"9-1\", \"9-2\", \"9-3\", \"9-4\"], \"y\": [null, null, 0.0, null, null, null, null, null, null], \"type\": \"scatter\", \"uid\": \"3e3696ba-dbfd-11e8-8ddb-a41f72875c19\"}, {\"line\": {\"dash\": \"longdash\"}, \"name\": \"\\u7535\\u8bdd\\u4f1a\\u8bae\\u6b21\\u6570(\\u5206\\u6790\\u7ec4)\", \"x\": [\"10-2\", \"10-3\", \"10-4\", \"8-3\", \"8-4\", \"9-1\", \"9-2\", \"9-3\", \"9-4\"], \"y\": [null, null, 0.0, null, null, null, null, null, null], \"type\": \"scatter\", \"uid\": \"3e3696bb-dbfd-11e8-8ddb-a41f72875c19\"}, {\"line\": {\"dash\": \"dashdot\"}, \"name\": \"\\u7535\\u8bdd\\u4f1a\\u8bae\\u6b21\\u6570(\\u8f6c\\u5f55\\u8c03\\u63a7\\u7ec4)\", \"x\": [\"10-2\", \"10-3\", \"10-4\", \"8-3\", \"8-4\", \"9-1\", \"9-2\", \"9-3\", \"9-4\"], \"y\": [0.0, 0.0, 0.0, 4.0, 2.0, 1.0, 3.0, 2.0, 1.0], \"type\": \"scatter\", \"uid\": \"3e3696bc-dbfd-11e8-8ddb-a41f72875c19\"}, {\"line\": {\"dash\": \"longdashdot\"}, \"name\": \"\\u7535\\u8bdd\\u4f1a\\u8bae\\u6b21\\u6570(\\u86cb\\u767d\\u548c\\u533b\\u5b66\\u7ec4)\", \"x\": [\"10-2\", \"10-3\", \"10-4\", \"8-3\", \"8-4\", \"9-1\", \"9-2\", \"9-3\", \"9-4\"], \"y\": [0.0, 0.0, 0.0, 4.0, 0.0, 0.0, 2.0, 3.0, 0.0], \"type\": \"scatter\", \"uid\": \"3e3696bd-dbfd-11e8-8ddb-a41f72875c19\"}, {\"line\": {\"dash\": \"solid\"}, \"name\": \"\\u5ba2\\u6237\\u6765\\u8bbf\\u63a5\\u5f85\\u6570(\\u751f\\u7269\\u5b66DNA\\u7ec4)\", \"x\": [\"10-2\", \"10-3\", \"10-4\", \"8-3\", \"8-4\", \"9-1\", \"9-2\", \"9-3\", \"9-4\"], \"y\": [0.0, 0.0, 0.0, 1.0, 0.0, 0.0, 0.0, 1.0, 2.0], \"type\": \"scatter\", \"uid\": \"3e3696be-dbfd-11e8-8ddb-a41f72875c19\"}, {\"line\": {\"dash\": \"dot\"}, \"name\": \"\\u5ba2\\u6237\\u6765\\u8bbf\\u63a5\\u5f85\\u6570(QC)\", \"x\": [\"10-2\", \"10-3\", \"10-4\", \"8-3\", \"8-4\", \"9-1\", \"9-2\", \"9-3\", \"9-4\"], \"y\": [0.0, null, 0.0, null, null, null, null, null, null], \"type\": \"scatter\", \"uid\": \"3e3696bf-dbfd-11e8-8ddb-a41f72875c19\"}, {\"line\": {\"dash\": \"dash\"}, \"name\": \"\\u5ba2\\u6237\\u6765\\u8bbf\\u63a5\\u5f85\\u6570(\\u4e49\\u4e4c\\u751f\\u4fe1\\u7ec4)\", \"x\": [\"10-2\", \"10-3\", \"10-4\", \"8-3\", \"8-4\", \"9-1\", \"9-2\", \"9-3\", \"9-4\"], \"y\": [null, null, 0.0, null, null, null, null, null, null], \"type\": \"scatter\", \"uid\": \"3e3696c0-dbfd-11e8-8ddb-a41f72875c19\"}, {\"line\": {\"dash\": \"longdash\"}, \"name\": \"\\u5ba2\\u6237\\u6765\\u8bbf\\u63a5\\u5f85\\u6570(\\u5206\\u6790\\u7ec4)\", \"x\": [\"10-2\", \"10-3\", \"10-4\", \"8-3\", \"8-4\", \"9-1\", \"9-2\", \"9-3\", \"9-4\"], \"y\": [null, null, 0.0, null, null, null, null, null, null], \"type\": \"scatter\", \"uid\": \"3e3696c1-dbfd-11e8-8ddb-a41f72875c19\"}, {\"line\": {\"dash\": \"dashdot\"}, \"name\": \"\\u5ba2\\u6237\\u6765\\u8bbf\\u63a5\\u5f85\\u6570(\\u8f6c\\u5f55\\u8c03\\u63a7\\u7ec4)\", \"x\": [\"10-2\", \"10-3\", \"10-4\", \"8-3\", \"8-4\", \"9-1\", \"9-2\", \"9-3\", \"9-4\"], \"y\": [0.0, 0.0, 0.0, 0.0, 0.0, 0.0, 0.0, 0.0, 8.0], \"type\": \"scatter\", \"uid\": \"3e3696c2-dbfd-11e8-8ddb-a41f72875c19\"}, {\"line\": {\"dash\": \"longdashdot\"}, \"name\": \"\\u5ba2\\u6237\\u6765\\u8bbf\\u63a5\\u5f85\\u6570(\\u86cb\\u767d\\u548c\\u533b\\u5b66\\u7ec4)\", \"x\": [\"10-2\", \"10-3\", \"10-4\", \"8-3\", \"8-4\", \"9-1\", \"9-2\", \"9-3\", \"9-4\"], \"y\": [0.0, 0.0, 0.0, 2.0, 0.0, 0.0, 0.0, 0.0, 0.0], \"type\": \"scatter\", \"uid\": \"3e3696c3-dbfd-11e8-8ddb-a41f72875c19\"}, {\"line\": {\"dash\": \"solid\"}, \"name\": \"\\u5916\\u51fa\\u6280\\u672f\\u652f\\u6301\\u6570(\\u751f\\u7269\\u5b66DNA\\u7ec4)\", \"x\": [\"10-2\", \"10-3\", \"10-4\", \"8-3\", \"8-4\", \"9-1\", \"9-2\", \"9-3\", \"9-4\"], \"y\": [0.0, 0.0, 0.0, 0.0, 0.0, 0.0, 0.0, 0.0, 0.0], \"type\": \"scatter\", \"uid\": \"3e3696c4-dbfd-11e8-8ddb-a41f72875c19\"}, {\"line\": {\"dash\": \"dot\"}, \"name\": \"\\u5916\\u51fa\\u6280\\u672f\\u652f\\u6301\\u6570(QC)\", \"x\": [\"10-2\", \"10-3\", \"10-4\", \"8-3\", \"8-4\", \"9-1\", \"9-2\", \"9-3\", \"9-4\"], \"y\": [0.0, null, 0.0, null, null, null, null, null, null], \"type\": \"scatter\", \"uid\": \"3e3696c5-dbfd-11e8-8ddb-a41f72875c19\"}, {\"line\": {\"dash\": \"dash\"}, \"name\": \"\\u5916\\u51fa\\u6280\\u672f\\u652f\\u6301\\u6570(\\u4e49\\u4e4c\\u751f\\u4fe1\\u7ec4)\", \"x\": [\"10-2\", \"10-3\", \"10-4\", \"8-3\", \"8-4\", \"9-1\", \"9-2\", \"9-3\", \"9-4\"], \"y\": [null, null, 0.0, null, null, null, null, null, null], \"type\": \"scatter\", \"uid\": \"3e3696c6-dbfd-11e8-8ddb-a41f72875c19\"}, {\"line\": {\"dash\": \"longdash\"}, \"name\": \"\\u5916\\u51fa\\u6280\\u672f\\u652f\\u6301\\u6570(\\u5206\\u6790\\u7ec4)\", \"x\": [\"10-2\", \"10-3\", \"10-4\", \"8-3\", \"8-4\", \"9-1\", \"9-2\", \"9-3\", \"9-4\"], \"y\": [null, null, 0.0, null, null, null, null, null, null], \"type\": \"scatter\", \"uid\": \"3e3696c7-dbfd-11e8-8ddb-a41f72875c19\"}, {\"line\": {\"dash\": \"dashdot\"}, \"name\": \"\\u5916\\u51fa\\u6280\\u672f\\u652f\\u6301\\u6570(\\u8f6c\\u5f55\\u8c03\\u63a7\\u7ec4)\", \"x\": [\"10-2\", \"10-3\", \"10-4\", \"8-3\", \"8-4\", \"9-1\", \"9-2\", \"9-3\", \"9-4\"], \"y\": [0.0, 0.0, 0.0, 0.0, 0.0, 0.0, 0.0, 0.0, 0.0], \"type\": \"scatter\", \"uid\": \"3e3696c8-dbfd-11e8-8ddb-a41f72875c19\"}, {\"line\": {\"dash\": \"longdashdot\"}, \"name\": \"\\u5916\\u51fa\\u6280\\u672f\\u652f\\u6301\\u6570(\\u86cb\\u767d\\u548c\\u533b\\u5b66\\u7ec4)\", \"x\": [\"10-2\", \"10-3\", \"10-4\", \"8-3\", \"8-4\", \"9-1\", \"9-2\", \"9-3\", \"9-4\"], \"y\": [0.0, 0.0, 0.0, 0.0, 0.0, 0.0, 0.0, 0.0, 0.0], \"type\": \"scatter\", \"uid\": \"3e3696c9-dbfd-11e8-8ddb-a41f72875c19\"}], {\"title\": \"\\u7535\\u8bdd\\u4f1a\\u8bae\\u6b21\\u6570&\\u5ba2\\u6237\\u6765\\u8bbf\\u63a5\\u5f85\\u6570&\\u5916\\u51fa\\u6280\\u672f\\u652f\\u6301\\u6570\\u5468\\u8d8b\\u52bf\\u56fe\", \"xaxis\": {\"mirror\": \"all\", \"nticks\": 20, \"showgrid\": true, \"showline\": true, \"title\": \"\\u5468\", \"type\": \"category\", \"zeroline\": true}, \"yaxis\": {\"mirror\": \"all\", \"nticks\": 20, \"showgrid\": true, \"showline\": true, \"title\": \"\\u7535\\u8bdd\\u4f1a\\u8bae\\u6b21\\u6570&\\u5ba2\\u6237\\u6765\\u8bbf\\u63a5\\u5f85\\u6570&\\u5916\\u51fa\\u6280\\u672f\\u652f\\u6301\\u6570\", \"zeroline\": true}}, {\"showLink\": true, \"linkText\": \"Export to plot.ly\"})});</script>"
      ],
      "text/vnd.plotly.v1+html": [
       "<div id=\"1d661958-eb27-43a5-a85e-d8743f17b8e6\" style=\"height: 525px; width: 100%;\" class=\"plotly-graph-div\"></div><script type=\"text/javascript\">require([\"plotly\"], function(Plotly) { window.PLOTLYENV=window.PLOTLYENV || {};window.PLOTLYENV.BASE_URL=\"https://plot.ly\";Plotly.newPlot(\"1d661958-eb27-43a5-a85e-d8743f17b8e6\", [{\"line\": {\"dash\": \"solid\"}, \"name\": \"\\u7535\\u8bdd\\u4f1a\\u8bae\\u6b21\\u6570(\\u751f\\u7269\\u5b66DNA\\u7ec4)\", \"x\": [\"10-2\", \"10-3\", \"10-4\", \"8-3\", \"8-4\", \"9-1\", \"9-2\", \"9-3\", \"9-4\"], \"y\": [0.0, 0.0, 0.0, 1.0, 3.0, 4.0, 3.0, 5.0, 2.0], \"type\": \"scatter\", \"uid\": \"3e3696b8-dbfd-11e8-8ddb-a41f72875c19\"}, {\"line\": {\"dash\": \"dot\"}, \"name\": \"\\u7535\\u8bdd\\u4f1a\\u8bae\\u6b21\\u6570(QC)\", \"x\": [\"10-2\", \"10-3\", \"10-4\", \"8-3\", \"8-4\", \"9-1\", \"9-2\", \"9-3\", \"9-4\"], \"y\": [0.0, null, 0.0, null, null, null, null, null, null], \"type\": \"scatter\", \"uid\": \"3e3696b9-dbfd-11e8-8ddb-a41f72875c19\"}, {\"line\": {\"dash\": \"dash\"}, \"name\": \"\\u7535\\u8bdd\\u4f1a\\u8bae\\u6b21\\u6570(\\u4e49\\u4e4c\\u751f\\u4fe1\\u7ec4)\", \"x\": [\"10-2\", \"10-3\", \"10-4\", \"8-3\", \"8-4\", \"9-1\", \"9-2\", \"9-3\", \"9-4\"], \"y\": [null, null, 0.0, null, null, null, null, null, null], \"type\": \"scatter\", \"uid\": \"3e3696ba-dbfd-11e8-8ddb-a41f72875c19\"}, {\"line\": {\"dash\": \"longdash\"}, \"name\": \"\\u7535\\u8bdd\\u4f1a\\u8bae\\u6b21\\u6570(\\u5206\\u6790\\u7ec4)\", \"x\": [\"10-2\", \"10-3\", \"10-4\", \"8-3\", \"8-4\", \"9-1\", \"9-2\", \"9-3\", \"9-4\"], \"y\": [null, null, 0.0, null, null, null, null, null, null], \"type\": \"scatter\", \"uid\": \"3e3696bb-dbfd-11e8-8ddb-a41f72875c19\"}, {\"line\": {\"dash\": \"dashdot\"}, \"name\": \"\\u7535\\u8bdd\\u4f1a\\u8bae\\u6b21\\u6570(\\u8f6c\\u5f55\\u8c03\\u63a7\\u7ec4)\", \"x\": [\"10-2\", \"10-3\", \"10-4\", \"8-3\", \"8-4\", \"9-1\", \"9-2\", \"9-3\", \"9-4\"], \"y\": [0.0, 0.0, 0.0, 4.0, 2.0, 1.0, 3.0, 2.0, 1.0], \"type\": \"scatter\", \"uid\": \"3e3696bc-dbfd-11e8-8ddb-a41f72875c19\"}, {\"line\": {\"dash\": \"longdashdot\"}, \"name\": \"\\u7535\\u8bdd\\u4f1a\\u8bae\\u6b21\\u6570(\\u86cb\\u767d\\u548c\\u533b\\u5b66\\u7ec4)\", \"x\": [\"10-2\", \"10-3\", \"10-4\", \"8-3\", \"8-4\", \"9-1\", \"9-2\", \"9-3\", \"9-4\"], \"y\": [0.0, 0.0, 0.0, 4.0, 0.0, 0.0, 2.0, 3.0, 0.0], \"type\": \"scatter\", \"uid\": \"3e3696bd-dbfd-11e8-8ddb-a41f72875c19\"}, {\"line\": {\"dash\": \"solid\"}, \"name\": \"\\u5ba2\\u6237\\u6765\\u8bbf\\u63a5\\u5f85\\u6570(\\u751f\\u7269\\u5b66DNA\\u7ec4)\", \"x\": [\"10-2\", \"10-3\", \"10-4\", \"8-3\", \"8-4\", \"9-1\", \"9-2\", \"9-3\", \"9-4\"], \"y\": [0.0, 0.0, 0.0, 1.0, 0.0, 0.0, 0.0, 1.0, 2.0], \"type\": \"scatter\", \"uid\": \"3e3696be-dbfd-11e8-8ddb-a41f72875c19\"}, {\"line\": {\"dash\": \"dot\"}, \"name\": \"\\u5ba2\\u6237\\u6765\\u8bbf\\u63a5\\u5f85\\u6570(QC)\", \"x\": [\"10-2\", \"10-3\", \"10-4\", \"8-3\", \"8-4\", \"9-1\", \"9-2\", \"9-3\", \"9-4\"], \"y\": [0.0, null, 0.0, null, null, null, null, null, null], \"type\": \"scatter\", \"uid\": \"3e3696bf-dbfd-11e8-8ddb-a41f72875c19\"}, {\"line\": {\"dash\": \"dash\"}, \"name\": \"\\u5ba2\\u6237\\u6765\\u8bbf\\u63a5\\u5f85\\u6570(\\u4e49\\u4e4c\\u751f\\u4fe1\\u7ec4)\", \"x\": [\"10-2\", \"10-3\", \"10-4\", \"8-3\", \"8-4\", \"9-1\", \"9-2\", \"9-3\", \"9-4\"], \"y\": [null, null, 0.0, null, null, null, null, null, null], \"type\": \"scatter\", \"uid\": \"3e3696c0-dbfd-11e8-8ddb-a41f72875c19\"}, {\"line\": {\"dash\": \"longdash\"}, \"name\": \"\\u5ba2\\u6237\\u6765\\u8bbf\\u63a5\\u5f85\\u6570(\\u5206\\u6790\\u7ec4)\", \"x\": [\"10-2\", \"10-3\", \"10-4\", \"8-3\", \"8-4\", \"9-1\", \"9-2\", \"9-3\", \"9-4\"], \"y\": [null, null, 0.0, null, null, null, null, null, null], \"type\": \"scatter\", \"uid\": \"3e3696c1-dbfd-11e8-8ddb-a41f72875c19\"}, {\"line\": {\"dash\": \"dashdot\"}, \"name\": \"\\u5ba2\\u6237\\u6765\\u8bbf\\u63a5\\u5f85\\u6570(\\u8f6c\\u5f55\\u8c03\\u63a7\\u7ec4)\", \"x\": [\"10-2\", \"10-3\", \"10-4\", \"8-3\", \"8-4\", \"9-1\", \"9-2\", \"9-3\", \"9-4\"], \"y\": [0.0, 0.0, 0.0, 0.0, 0.0, 0.0, 0.0, 0.0, 8.0], \"type\": \"scatter\", \"uid\": \"3e3696c2-dbfd-11e8-8ddb-a41f72875c19\"}, {\"line\": {\"dash\": \"longdashdot\"}, \"name\": \"\\u5ba2\\u6237\\u6765\\u8bbf\\u63a5\\u5f85\\u6570(\\u86cb\\u767d\\u548c\\u533b\\u5b66\\u7ec4)\", \"x\": [\"10-2\", \"10-3\", \"10-4\", \"8-3\", \"8-4\", \"9-1\", \"9-2\", \"9-3\", \"9-4\"], \"y\": [0.0, 0.0, 0.0, 2.0, 0.0, 0.0, 0.0, 0.0, 0.0], \"type\": \"scatter\", \"uid\": \"3e3696c3-dbfd-11e8-8ddb-a41f72875c19\"}, {\"line\": {\"dash\": \"solid\"}, \"name\": \"\\u5916\\u51fa\\u6280\\u672f\\u652f\\u6301\\u6570(\\u751f\\u7269\\u5b66DNA\\u7ec4)\", \"x\": [\"10-2\", \"10-3\", \"10-4\", \"8-3\", \"8-4\", \"9-1\", \"9-2\", \"9-3\", \"9-4\"], \"y\": [0.0, 0.0, 0.0, 0.0, 0.0, 0.0, 0.0, 0.0, 0.0], \"type\": \"scatter\", \"uid\": \"3e3696c4-dbfd-11e8-8ddb-a41f72875c19\"}, {\"line\": {\"dash\": \"dot\"}, \"name\": \"\\u5916\\u51fa\\u6280\\u672f\\u652f\\u6301\\u6570(QC)\", \"x\": [\"10-2\", \"10-3\", \"10-4\", \"8-3\", \"8-4\", \"9-1\", \"9-2\", \"9-3\", \"9-4\"], \"y\": [0.0, null, 0.0, null, null, null, null, null, null], \"type\": \"scatter\", \"uid\": \"3e3696c5-dbfd-11e8-8ddb-a41f72875c19\"}, {\"line\": {\"dash\": \"dash\"}, \"name\": \"\\u5916\\u51fa\\u6280\\u672f\\u652f\\u6301\\u6570(\\u4e49\\u4e4c\\u751f\\u4fe1\\u7ec4)\", \"x\": [\"10-2\", \"10-3\", \"10-4\", \"8-3\", \"8-4\", \"9-1\", \"9-2\", \"9-3\", \"9-4\"], \"y\": [null, null, 0.0, null, null, null, null, null, null], \"type\": \"scatter\", \"uid\": \"3e3696c6-dbfd-11e8-8ddb-a41f72875c19\"}, {\"line\": {\"dash\": \"longdash\"}, \"name\": \"\\u5916\\u51fa\\u6280\\u672f\\u652f\\u6301\\u6570(\\u5206\\u6790\\u7ec4)\", \"x\": [\"10-2\", \"10-3\", \"10-4\", \"8-3\", \"8-4\", \"9-1\", \"9-2\", \"9-3\", \"9-4\"], \"y\": [null, null, 0.0, null, null, null, null, null, null], \"type\": \"scatter\", \"uid\": \"3e3696c7-dbfd-11e8-8ddb-a41f72875c19\"}, {\"line\": {\"dash\": \"dashdot\"}, \"name\": \"\\u5916\\u51fa\\u6280\\u672f\\u652f\\u6301\\u6570(\\u8f6c\\u5f55\\u8c03\\u63a7\\u7ec4)\", \"x\": [\"10-2\", \"10-3\", \"10-4\", \"8-3\", \"8-4\", \"9-1\", \"9-2\", \"9-3\", \"9-4\"], \"y\": [0.0, 0.0, 0.0, 0.0, 0.0, 0.0, 0.0, 0.0, 0.0], \"type\": \"scatter\", \"uid\": \"3e3696c8-dbfd-11e8-8ddb-a41f72875c19\"}, {\"line\": {\"dash\": \"longdashdot\"}, \"name\": \"\\u5916\\u51fa\\u6280\\u672f\\u652f\\u6301\\u6570(\\u86cb\\u767d\\u548c\\u533b\\u5b66\\u7ec4)\", \"x\": [\"10-2\", \"10-3\", \"10-4\", \"8-3\", \"8-4\", \"9-1\", \"9-2\", \"9-3\", \"9-4\"], \"y\": [0.0, 0.0, 0.0, 0.0, 0.0, 0.0, 0.0, 0.0, 0.0], \"type\": \"scatter\", \"uid\": \"3e3696c9-dbfd-11e8-8ddb-a41f72875c19\"}], {\"title\": \"\\u7535\\u8bdd\\u4f1a\\u8bae\\u6b21\\u6570&\\u5ba2\\u6237\\u6765\\u8bbf\\u63a5\\u5f85\\u6570&\\u5916\\u51fa\\u6280\\u672f\\u652f\\u6301\\u6570\\u5468\\u8d8b\\u52bf\\u56fe\", \"xaxis\": {\"mirror\": \"all\", \"nticks\": 20, \"showgrid\": true, \"showline\": true, \"title\": \"\\u5468\", \"type\": \"category\", \"zeroline\": true}, \"yaxis\": {\"mirror\": \"all\", \"nticks\": 20, \"showgrid\": true, \"showline\": true, \"title\": \"\\u7535\\u8bdd\\u4f1a\\u8bae\\u6b21\\u6570&\\u5ba2\\u6237\\u6765\\u8bbf\\u63a5\\u5f85\\u6570&\\u5916\\u51fa\\u6280\\u672f\\u652f\\u6301\\u6570\", \"zeroline\": true}}, {\"showLink\": true, \"linkText\": \"Export to plot.ly\"})});</script>"
      ]
     },
     "metadata": {},
     "output_type": "display_data"
    }
   ],
   "source": [
    "ss=myModule.format(all_dict ,\"日期\" ,['电话会议次数', '外出技术支持数', '客户来访接待数'])\n",
    "ss.add_group('组别')\n",
    "tt = myModule.myPlot(ss.groupby('sum'))\n",
    "tt.plot('line')"
   ]
  },
  {
   "cell_type": "markdown",
   "metadata": {
    "hide_input": true
   },
   "source": [
    "## 个人情况"
   ]
  },
  {
   "cell_type": "markdown",
   "metadata": {},
   "source": [
    "### 下单情况"
   ]
  },
  {
   "cell_type": "markdown",
   "metadata": {},
   "source": [
    "\n",
    "#### 总下单数和完成下单数\n"
   ]
  },
  {
   "cell_type": "code",
   "execution_count": 12,
   "metadata": {
    "collapsed": false
   },
   "outputs": [
    {
     "data": {
      "application/vnd.plotly.v1+json": {
       "data": [
        {
         "line": {
          "dash": "solid"
         },
         "name": "总下单数(韩少怀)",
         "type": "scatter",
         "uid": "3e3696ca-dbfd-11e8-8ddb-a41f72875c19",
         "x": [
          "10-4",
          "8-3",
          "8-4",
          "9-1",
          "9-2",
          "9-3",
          "9-4"
         ],
         "y": [
          4,
          3,
          4,
          4,
          5,
          5,
          null
         ]
        },
        {
         "line": {
          "dash": "dot"
         },
         "name": "总下单数(苏彦勋)",
         "type": "scatter",
         "uid": "3e3696cb-dbfd-11e8-8ddb-a41f72875c19",
         "x": [
          "10-4",
          "8-3",
          "8-4",
          "9-1",
          "9-2",
          "9-3",
          "9-4"
         ],
         "y": [
          7,
          4,
          6,
          5,
          6,
          9,
          null
         ]
        },
        {
         "line": {
          "dash": "dash"
         },
         "name": "总下单数(孟昊)",
         "type": "scatter",
         "uid": "3e3696cc-dbfd-11e8-8ddb-a41f72875c19",
         "x": [
          "10-4",
          "8-3",
          "8-4",
          "9-1",
          "9-2",
          "9-3",
          "9-4"
         ],
         "y": [
          7,
          4,
          4,
          2,
          3,
          5,
          8
         ]
        },
        {
         "line": {
          "dash": "longdash"
         },
         "name": "总下单数(任雪)",
         "type": "scatter",
         "uid": "3e3696cd-dbfd-11e8-8ddb-a41f72875c19",
         "x": [
          "10-4",
          "8-3",
          "8-4",
          "9-1",
          "9-2",
          "9-3",
          "9-4"
         ],
         "y": [
          3,
          null,
          2,
          4,
          5,
          2,
          5
         ]
        },
        {
         "line": {
          "dash": "dashdot"
         },
         "name": "总下单数(涂成芳)",
         "type": "scatter",
         "uid": "3e3696ce-dbfd-11e8-8ddb-a41f72875c19",
         "x": [
          "10-4",
          "8-3",
          "8-4",
          "9-1",
          "9-2",
          "9-3",
          "9-4"
         ],
         "y": [
          1,
          null,
          null,
          null,
          null,
          null,
          null
         ]
        },
        {
         "line": {
          "dash": "longdashdot"
         },
         "name": "总下单数(于勇一)",
         "type": "scatter",
         "uid": "3e3696cf-dbfd-11e8-8ddb-a41f72875c19",
         "x": [
          "10-4",
          "8-3",
          "8-4",
          "9-1",
          "9-2",
          "9-3",
          "9-4"
         ],
         "y": [
          4,
          3,
          4,
          5,
          4,
          6,
          5
         ]
        },
        {
         "line": {
          "dash": "solid"
         },
         "name": "总下单数(路慧萍)",
         "type": "scatter",
         "uid": "3e3696d0-dbfd-11e8-8ddb-a41f72875c19",
         "x": [
          "10-4",
          "8-3",
          "8-4",
          "9-1",
          "9-2",
          "9-3",
          "9-4"
         ],
         "y": [
          8,
          5,
          8,
          7,
          5,
          7,
          null
         ]
        },
        {
         "line": {
          "dash": "dot"
         },
         "name": "总下单数(杨伟飞)",
         "type": "scatter",
         "uid": "3e3696d1-dbfd-11e8-8ddb-a41f72875c19",
         "x": [
          "10-4",
          "8-3",
          "8-4",
          "9-1",
          "9-2",
          "9-3",
          "9-4"
         ],
         "y": [
          5,
          3,
          6,
          4,
          6,
          7,
          6
         ]
        },
        {
         "line": {
          "dash": "dash"
         },
         "name": "总下单数(昶吉阳)",
         "type": "scatter",
         "uid": "3e3696d2-dbfd-11e8-8ddb-a41f72875c19",
         "x": [
          "10-4",
          "8-3",
          "8-4",
          "9-1",
          "9-2",
          "9-3",
          "9-4"
         ],
         "y": [
          4,
          null,
          null,
          null,
          null,
          null,
          null
         ]
        },
        {
         "line": {
          "dash": "longdash"
         },
         "name": "总下单数(王宁)",
         "type": "scatter",
         "uid": "3e3696d3-dbfd-11e8-8ddb-a41f72875c19",
         "x": [
          "10-4",
          "8-3",
          "8-4",
          "9-1",
          "9-2",
          "9-3",
          "9-4"
         ],
         "y": [
          null,
          6,
          6,
          6,
          null,
          null,
          null
         ]
        },
        {
         "line": {
          "dash": "dashdot"
         },
         "name": "总下单数(车天栋)",
         "type": "scatter",
         "uid": "3e3696d4-dbfd-11e8-8ddb-a41f72875c19",
         "x": [
          "10-4",
          "8-3",
          "8-4",
          "9-1",
          "9-2",
          "9-3",
          "9-4"
         ],
         "y": [
          1,
          null,
          null,
          null,
          null,
          null,
          null
         ]
        },
        {
         "line": {
          "dash": "longdashdot"
         },
         "name": "总下单数(周杨)",
         "type": "scatter",
         "uid": "3e3696d5-dbfd-11e8-8ddb-a41f72875c19",
         "x": [
          "10-4",
          "8-3",
          "8-4",
          "9-1",
          "9-2",
          "9-3",
          "9-4"
         ],
         "y": [
          7,
          2,
          6,
          4,
          4,
          7,
          9
         ]
        },
        {
         "line": {
          "dash": "solid"
         },
         "name": "总下单数(段利强)",
         "type": "scatter",
         "uid": "3e3696d6-dbfd-11e8-8ddb-a41f72875c19",
         "x": [
          "10-4",
          "8-3",
          "8-4",
          "9-1",
          "9-2",
          "9-3",
          "9-4"
         ],
         "y": [
          null,
          null,
          null,
          null,
          null,
          null,
          6
         ]
        },
        {
         "line": {
          "dash": "dot"
         },
         "name": "总下单数(赵玥)",
         "type": "scatter",
         "uid": "3e3696d7-dbfd-11e8-8ddb-a41f72875c19",
         "x": [
          "10-4",
          "8-3",
          "8-4",
          "9-1",
          "9-2",
          "9-3",
          "9-4"
         ],
         "y": [
          5,
          6,
          4,
          6,
          4,
          12,
          4
         ]
        },
        {
         "line": {
          "dash": "dash"
         },
         "name": "总下单数(冷雪)",
         "type": "scatter",
         "uid": "3e3696d8-dbfd-11e8-8ddb-a41f72875c19",
         "x": [
          "10-4",
          "8-3",
          "8-4",
          "9-1",
          "9-2",
          "9-3",
          "9-4"
         ],
         "y": [
          1,
          null,
          null,
          null,
          null,
          null,
          null
         ]
        },
        {
         "line": {
          "dash": "longdash"
         },
         "name": "总下单数(冯敬岩)",
         "type": "scatter",
         "uid": "3e3696d9-dbfd-11e8-8ddb-a41f72875c19",
         "x": [
          "10-4",
          "8-3",
          "8-4",
          "9-1",
          "9-2",
          "9-3",
          "9-4"
         ],
         "y": [
          1,
          null,
          null,
          null,
          null,
          null,
          null
         ]
        },
        {
         "line": {
          "dash": "dashdot"
         },
         "name": "总下单数(姚盟成)",
         "type": "scatter",
         "uid": "3e3696da-dbfd-11e8-8ddb-a41f72875c19",
         "x": [
          "10-4",
          "8-3",
          "8-4",
          "9-1",
          "9-2",
          "9-3",
          "9-4"
         ],
         "y": [
          4,
          4,
          4,
          4,
          5,
          4,
          7
         ]
        },
        {
         "line": {
          "dash": "longdashdot"
         },
         "name": "总下单数(李华云)",
         "type": "scatter",
         "uid": "3e3696db-dbfd-11e8-8ddb-a41f72875c19",
         "x": [
          "10-4",
          "8-3",
          "8-4",
          "9-1",
          "9-2",
          "9-3",
          "9-4"
         ],
         "y": [
          6,
          5,
          3,
          5,
          5,
          5,
          null
         ]
        },
        {
         "line": {
          "dash": "solid"
         },
         "name": "总下单数(陈鹏燕)",
         "type": "scatter",
         "uid": "3e3696dc-dbfd-11e8-8ddb-a41f72875c19",
         "x": [
          "10-4",
          "8-3",
          "8-4",
          "9-1",
          "9-2",
          "9-3",
          "9-4"
         ],
         "y": [
          4,
          null,
          null,
          null,
          null,
          null,
          null
         ]
        },
        {
         "line": {
          "dash": "dot"
         },
         "name": "总下单数(刘慧玲)",
         "type": "scatter",
         "uid": "3e3696dd-dbfd-11e8-8ddb-a41f72875c19",
         "x": [
          "10-4",
          "8-3",
          "8-4",
          "9-1",
          "9-2",
          "9-3",
          "9-4"
         ],
         "y": [
          null,
          4,
          4,
          5,
          null,
          null,
          null
         ]
        },
        {
         "line": {
          "dash": "dash"
         },
         "name": "总下单数(沈恩惠)",
         "type": "scatter",
         "uid": "3e3696de-dbfd-11e8-8ddb-a41f72875c19",
         "x": [
          "10-4",
          "8-3",
          "8-4",
          "9-1",
          "9-2",
          "9-3",
          "9-4"
         ],
         "y": [
          2,
          null,
          null,
          null,
          null,
          null,
          null
         ]
        },
        {
         "line": {
          "dash": "longdash"
         },
         "name": "总下单数(林文文)",
         "type": "scatter",
         "uid": "3e3696df-dbfd-11e8-8ddb-a41f72875c19",
         "x": [
          "10-4",
          "8-3",
          "8-4",
          "9-1",
          "9-2",
          "9-3",
          "9-4"
         ],
         "y": [
          1,
          null,
          null,
          null,
          null,
          null,
          null
         ]
        },
        {
         "line": {
          "dash": "dashdot"
         },
         "name": "总下单数(谢德健)",
         "type": "scatter",
         "uid": "3e3696e0-dbfd-11e8-8ddb-a41f72875c19",
         "x": [
          "10-4",
          "8-3",
          "8-4",
          "9-1",
          "9-2",
          "9-3",
          "9-4"
         ],
         "y": [
          4,
          2,
          4,
          null,
          4,
          5,
          4
         ]
        },
        {
         "line": {
          "dash": "longdashdot"
         },
         "name": "总下单数(刘江)",
         "type": "scatter",
         "uid": "3e3696e1-dbfd-11e8-8ddb-a41f72875c19",
         "x": [
          "10-4",
          "8-3",
          "8-4",
          "9-1",
          "9-2",
          "9-3",
          "9-4"
         ],
         "y": [
          6,
          7,
          8,
          7,
          8,
          5,
          6
         ]
        },
        {
         "line": {
          "dash": "solid"
         },
         "name": "总下单数(王红)",
         "type": "scatter",
         "uid": "3e3696e2-dbfd-11e8-8ddb-a41f72875c19",
         "x": [
          "10-4",
          "8-3",
          "8-4",
          "9-1",
          "9-2",
          "9-3",
          "9-4"
         ],
         "y": [
          1,
          null,
          null,
          null,
          null,
          null,
          null
         ]
        },
        {
         "line": {
          "dash": "dot"
         },
         "name": "总下单数(李庆原)",
         "type": "scatter",
         "uid": "3e3696e3-dbfd-11e8-8ddb-a41f72875c19",
         "x": [
          "10-4",
          "8-3",
          "8-4",
          "9-1",
          "9-2",
          "9-3",
          "9-4"
         ],
         "y": [
          4,
          2,
          5,
          3,
          3,
          6,
          null
         ]
        },
        {
         "line": {
          "dash": "dash"
         },
         "name": "总下单数(马潇)",
         "type": "scatter",
         "uid": "3e3696e4-dbfd-11e8-8ddb-a41f72875c19",
         "x": [
          "10-4",
          "8-3",
          "8-4",
          "9-1",
          "9-2",
          "9-3",
          "9-4"
         ],
         "y": [
          7,
          5,
          3,
          4,
          5,
          6,
          0
         ]
        },
        {
         "line": {
          "dash": "longdash"
         },
         "name": "总下单数(占伟)",
         "type": "scatter",
         "uid": "3e3696e5-dbfd-11e8-8ddb-a41f72875c19",
         "x": [
          "10-4",
          "8-3",
          "8-4",
          "9-1",
          "9-2",
          "9-3",
          "9-4"
         ],
         "y": [
          6,
          4,
          6,
          7,
          8,
          7,
          7
         ]
        },
        {
         "line": {
          "dash": "dashdot"
         },
         "name": "总下单数(宋迎楠)",
         "type": "scatter",
         "uid": "3e3696e6-dbfd-11e8-8ddb-a41f72875c19",
         "x": [
          "10-4",
          "8-3",
          "8-4",
          "9-1",
          "9-2",
          "9-3",
          "9-4"
         ],
         "y": [
          null,
          4,
          3,
          4,
          null,
          null,
          null
         ]
        },
        {
         "line": {
          "dash": "longdashdot"
         },
         "name": "总下单数(范旭宁)",
         "type": "scatter",
         "uid": "3e3696e7-dbfd-11e8-8ddb-a41f72875c19",
         "x": [
          "10-4",
          "8-3",
          "8-4",
          "9-1",
          "9-2",
          "9-3",
          "9-4"
         ],
         "y": [
          4,
          4,
          4,
          5,
          7,
          5,
          4
         ]
        },
        {
         "line": {
          "dash": "solid"
         },
         "name": "总下单数(屈昂)",
         "type": "scatter",
         "uid": "3e3696e8-dbfd-11e8-8ddb-a41f72875c19",
         "x": [
          "10-4",
          "8-3",
          "8-4",
          "9-1",
          "9-2",
          "9-3",
          "9-4"
         ],
         "y": [
          1,
          null,
          null,
          null,
          null,
          null,
          null
         ]
        },
        {
         "line": {
          "dash": "dot"
         },
         "name": "总下单数(张守伟)",
         "type": "scatter",
         "uid": "3e3696e9-dbfd-11e8-8ddb-a41f72875c19",
         "x": [
          "10-4",
          "8-3",
          "8-4",
          "9-1",
          "9-2",
          "9-3",
          "9-4"
         ],
         "y": [
          4,
          4,
          4,
          4,
          3,
          4,
          5
         ]
        },
        {
         "line": {
          "dash": "dash"
         },
         "name": "总下单数(封彦杰)",
         "type": "scatter",
         "uid": "3e3696ea-dbfd-11e8-8ddb-a41f72875c19",
         "x": [
          "10-4",
          "8-3",
          "8-4",
          "9-1",
          "9-2",
          "9-3",
          "9-4"
         ],
         "y": [
          6,
          9,
          6,
          5,
          4,
          8,
          7
         ]
        },
        {
         "line": {
          "dash": "longdash"
         },
         "name": "总下单数(张悦)",
         "type": "scatter",
         "uid": "3e3696eb-dbfd-11e8-8ddb-a41f72875c19",
         "x": [
          "10-4",
          "8-3",
          "8-4",
          "9-1",
          "9-2",
          "9-3",
          "9-4"
         ],
         "y": [
          1,
          null,
          null,
          null,
          null,
          null,
          null
         ]
        },
        {
         "line": {
          "dash": "dashdot"
         },
         "name": "总下单数(于慧)",
         "type": "scatter",
         "uid": "3e3696ec-dbfd-11e8-8ddb-a41f72875c19",
         "x": [
          "10-4",
          "8-3",
          "8-4",
          "9-1",
          "9-2",
          "9-3",
          "9-4"
         ],
         "y": [
          8,
          0,
          7,
          2,
          3,
          7,
          6
         ]
        },
        {
         "line": {
          "dash": "solid"
         },
         "name": "完成下单数(韩少怀)",
         "type": "scatter",
         "uid": "3e3696ed-dbfd-11e8-8ddb-a41f72875c19",
         "x": [
          "10-4",
          "8-3",
          "8-4",
          "9-1",
          "9-2",
          "9-3",
          "9-4"
         ],
         "y": [
          4,
          3,
          4,
          4,
          5,
          5,
          null
         ]
        },
        {
         "line": {
          "dash": "dot"
         },
         "name": "完成下单数(苏彦勋)",
         "type": "scatter",
         "uid": "3e3696ee-dbfd-11e8-8ddb-a41f72875c19",
         "x": [
          "10-4",
          "8-3",
          "8-4",
          "9-1",
          "9-2",
          "9-3",
          "9-4"
         ],
         "y": [
          7,
          4,
          6,
          5,
          5,
          9,
          null
         ]
        },
        {
         "line": {
          "dash": "dash"
         },
         "name": "完成下单数(孟昊)",
         "type": "scatter",
         "uid": "3e3696ef-dbfd-11e8-8ddb-a41f72875c19",
         "x": [
          "10-4",
          "8-3",
          "8-4",
          "9-1",
          "9-2",
          "9-3",
          "9-4"
         ],
         "y": [
          7,
          4,
          4,
          2,
          2,
          5,
          8
         ]
        },
        {
         "line": {
          "dash": "longdash"
         },
         "name": "完成下单数(任雪)",
         "type": "scatter",
         "uid": "3e3696f0-dbfd-11e8-8ddb-a41f72875c19",
         "x": [
          "10-4",
          "8-3",
          "8-4",
          "9-1",
          "9-2",
          "9-3",
          "9-4"
         ],
         "y": [
          2,
          null,
          2,
          3,
          4,
          0,
          4
         ]
        },
        {
         "line": {
          "dash": "dashdot"
         },
         "name": "完成下单数(涂成芳)",
         "type": "scatter",
         "uid": "3e3696f1-dbfd-11e8-8ddb-a41f72875c19",
         "x": [
          "10-4",
          "8-3",
          "8-4",
          "9-1",
          "9-2",
          "9-3",
          "9-4"
         ],
         "y": [
          1,
          null,
          null,
          null,
          null,
          null,
          null
         ]
        },
        {
         "line": {
          "dash": "longdashdot"
         },
         "name": "完成下单数(于勇一)",
         "type": "scatter",
         "uid": "3e3696f2-dbfd-11e8-8ddb-a41f72875c19",
         "x": [
          "10-4",
          "8-3",
          "8-4",
          "9-1",
          "9-2",
          "9-3",
          "9-4"
         ],
         "y": [
          4,
          3,
          2,
          4,
          2,
          7,
          7
         ]
        },
        {
         "line": {
          "dash": "solid"
         },
         "name": "完成下单数(路慧萍)",
         "type": "scatter",
         "uid": "3e3696f3-dbfd-11e8-8ddb-a41f72875c19",
         "x": [
          "10-4",
          "8-3",
          "8-4",
          "9-1",
          "9-2",
          "9-3",
          "9-4"
         ],
         "y": [
          8,
          5,
          8,
          6,
          5,
          5,
          null
         ]
        },
        {
         "line": {
          "dash": "dot"
         },
         "name": "完成下单数(杨伟飞)",
         "type": "scatter",
         "uid": "3e3696f4-dbfd-11e8-8ddb-a41f72875c19",
         "x": [
          "10-4",
          "8-3",
          "8-4",
          "9-1",
          "9-2",
          "9-3",
          "9-4"
         ],
         "y": [
          3,
          1,
          5,
          8,
          5,
          7,
          6
         ]
        },
        {
         "line": {
          "dash": "dash"
         },
         "name": "完成下单数(昶吉阳)",
         "type": "scatter",
         "uid": "3e3696f5-dbfd-11e8-8ddb-a41f72875c19",
         "x": [
          "10-4",
          "8-3",
          "8-4",
          "9-1",
          "9-2",
          "9-3",
          "9-4"
         ],
         "y": [
          4,
          null,
          null,
          null,
          null,
          null,
          null
         ]
        },
        {
         "line": {
          "dash": "longdash"
         },
         "name": "完成下单数(王宁)",
         "type": "scatter",
         "uid": "3e3696f6-dbfd-11e8-8ddb-a41f72875c19",
         "x": [
          "10-4",
          "8-3",
          "8-4",
          "9-1",
          "9-2",
          "9-3",
          "9-4"
         ],
         "y": [
          null,
          6,
          6,
          7,
          null,
          null,
          null
         ]
        },
        {
         "line": {
          "dash": "dashdot"
         },
         "name": "完成下单数(车天栋)",
         "type": "scatter",
         "uid": "3e3696f7-dbfd-11e8-8ddb-a41f72875c19",
         "x": [
          "10-4",
          "8-3",
          "8-4",
          "9-1",
          "9-2",
          "9-3",
          "9-4"
         ],
         "y": [
          1,
          null,
          null,
          null,
          null,
          null,
          null
         ]
        },
        {
         "line": {
          "dash": "longdashdot"
         },
         "name": "完成下单数(周杨)",
         "type": "scatter",
         "uid": "3e3696f8-dbfd-11e8-8ddb-a41f72875c19",
         "x": [
          "10-4",
          "8-3",
          "8-4",
          "9-1",
          "9-2",
          "9-3",
          "9-4"
         ],
         "y": [
          7,
          2,
          5,
          4,
          4,
          7,
          9
         ]
        },
        {
         "line": {
          "dash": "solid"
         },
         "name": "完成下单数(段利强)",
         "type": "scatter",
         "uid": "3e3696f9-dbfd-11e8-8ddb-a41f72875c19",
         "x": [
          "10-4",
          "8-3",
          "8-4",
          "9-1",
          "9-2",
          "9-3",
          "9-4"
         ],
         "y": [
          null,
          null,
          null,
          null,
          null,
          null,
          6
         ]
        },
        {
         "line": {
          "dash": "dot"
         },
         "name": "完成下单数(赵玥)",
         "type": "scatter",
         "uid": "3e3696fa-dbfd-11e8-8ddb-a41f72875c19",
         "x": [
          "10-4",
          "8-3",
          "8-4",
          "9-1",
          "9-2",
          "9-3",
          "9-4"
         ],
         "y": [
          4,
          6,
          4,
          4,
          4,
          11,
          4
         ]
        },
        {
         "line": {
          "dash": "dash"
         },
         "name": "完成下单数(冷雪)",
         "type": "scatter",
         "uid": "3e3696fb-dbfd-11e8-8ddb-a41f72875c19",
         "x": [
          "10-4",
          "8-3",
          "8-4",
          "9-1",
          "9-2",
          "9-3",
          "9-4"
         ],
         "y": [
          1,
          null,
          null,
          null,
          null,
          null,
          null
         ]
        },
        {
         "line": {
          "dash": "longdash"
         },
         "name": "完成下单数(冯敬岩)",
         "type": "scatter",
         "uid": "3e3696fc-dbfd-11e8-8ddb-a41f72875c19",
         "x": [
          "10-4",
          "8-3",
          "8-4",
          "9-1",
          "9-2",
          "9-3",
          "9-4"
         ],
         "y": [
          0,
          null,
          null,
          null,
          null,
          null,
          null
         ]
        },
        {
         "line": {
          "dash": "dashdot"
         },
         "name": "完成下单数(姚盟成)",
         "type": "scatter",
         "uid": "3e3696fd-dbfd-11e8-8ddb-a41f72875c19",
         "x": [
          "10-4",
          "8-3",
          "8-4",
          "9-1",
          "9-2",
          "9-3",
          "9-4"
         ],
         "y": [
          4,
          4,
          3,
          4,
          5,
          4,
          7
         ]
        },
        {
         "line": {
          "dash": "longdashdot"
         },
         "name": "完成下单数(李华云)",
         "type": "scatter",
         "uid": "3e3696fe-dbfd-11e8-8ddb-a41f72875c19",
         "x": [
          "10-4",
          "8-3",
          "8-4",
          "9-1",
          "9-2",
          "9-3",
          "9-4"
         ],
         "y": [
          4,
          4,
          3,
          4,
          5,
          5,
          null
         ]
        },
        {
         "line": {
          "dash": "solid"
         },
         "name": "完成下单数(陈鹏燕)",
         "type": "scatter",
         "uid": "3e3696ff-dbfd-11e8-8ddb-a41f72875c19",
         "x": [
          "10-4",
          "8-3",
          "8-4",
          "9-1",
          "9-2",
          "9-3",
          "9-4"
         ],
         "y": [
          4,
          null,
          null,
          null,
          null,
          null,
          null
         ]
        },
        {
         "line": {
          "dash": "dot"
         },
         "name": "完成下单数(刘慧玲)",
         "type": "scatter",
         "uid": "3e369700-dbfd-11e8-8ddb-a41f72875c19",
         "x": [
          "10-4",
          "8-3",
          "8-4",
          "9-1",
          "9-2",
          "9-3",
          "9-4"
         ],
         "y": [
          null,
          3,
          3,
          4,
          null,
          null,
          null
         ]
        },
        {
         "line": {
          "dash": "dash"
         },
         "name": "完成下单数(沈恩惠)",
         "type": "scatter",
         "uid": "3e369701-dbfd-11e8-8ddb-a41f72875c19",
         "x": [
          "10-4",
          "8-3",
          "8-4",
          "9-1",
          "9-2",
          "9-3",
          "9-4"
         ],
         "y": [
          2,
          null,
          null,
          null,
          null,
          null,
          null
         ]
        },
        {
         "line": {
          "dash": "longdash"
         },
         "name": "完成下单数(林文文)",
         "type": "scatter",
         "uid": "3e369702-dbfd-11e8-8ddb-a41f72875c19",
         "x": [
          "10-4",
          "8-3",
          "8-4",
          "9-1",
          "9-2",
          "9-3",
          "9-4"
         ],
         "y": [
          1,
          null,
          null,
          null,
          null,
          null,
          null
         ]
        },
        {
         "line": {
          "dash": "dashdot"
         },
         "name": "完成下单数(谢德健)",
         "type": "scatter",
         "uid": "3e369703-dbfd-11e8-8ddb-a41f72875c19",
         "x": [
          "10-4",
          "8-3",
          "8-4",
          "9-1",
          "9-2",
          "9-3",
          "9-4"
         ],
         "y": [
          4,
          1,
          4,
          null,
          3,
          5,
          4
         ]
        },
        {
         "line": {
          "dash": "longdashdot"
         },
         "name": "完成下单数(刘江)",
         "type": "scatter",
         "uid": "3e369704-dbfd-11e8-8ddb-a41f72875c19",
         "x": [
          "10-4",
          "8-3",
          "8-4",
          "9-1",
          "9-2",
          "9-3",
          "9-4"
         ],
         "y": [
          6,
          4,
          10,
          7,
          7,
          5,
          6
         ]
        },
        {
         "line": {
          "dash": "solid"
         },
         "name": "完成下单数(王红)",
         "type": "scatter",
         "uid": "3e369705-dbfd-11e8-8ddb-a41f72875c19",
         "x": [
          "10-4",
          "8-3",
          "8-4",
          "9-1",
          "9-2",
          "9-3",
          "9-4"
         ],
         "y": [
          1,
          null,
          null,
          null,
          null,
          null,
          null
         ]
        },
        {
         "line": {
          "dash": "dot"
         },
         "name": "完成下单数(李庆原)",
         "type": "scatter",
         "uid": "3e369706-dbfd-11e8-8ddb-a41f72875c19",
         "x": [
          "10-4",
          "8-3",
          "8-4",
          "9-1",
          "9-2",
          "9-3",
          "9-4"
         ],
         "y": [
          4,
          2,
          5,
          3,
          3,
          6,
          null
         ]
        },
        {
         "line": {
          "dash": "dash"
         },
         "name": "完成下单数(马潇)",
         "type": "scatter",
         "uid": "3e369707-dbfd-11e8-8ddb-a41f72875c19",
         "x": [
          "10-4",
          "8-3",
          "8-4",
          "9-1",
          "9-2",
          "9-3",
          "9-4"
         ],
         "y": [
          7,
          3,
          3,
          4,
          5,
          5,
          0
         ]
        },
        {
         "line": {
          "dash": "longdash"
         },
         "name": "完成下单数(占伟)",
         "type": "scatter",
         "uid": "3e369708-dbfd-11e8-8ddb-a41f72875c19",
         "x": [
          "10-4",
          "8-3",
          "8-4",
          "9-1",
          "9-2",
          "9-3",
          "9-4"
         ],
         "y": [
          4,
          2,
          3,
          7,
          8,
          5,
          6
         ]
        },
        {
         "line": {
          "dash": "dashdot"
         },
         "name": "完成下单数(宋迎楠)",
         "type": "scatter",
         "uid": "3e369709-dbfd-11e8-8ddb-a41f72875c19",
         "x": [
          "10-4",
          "8-3",
          "8-4",
          "9-1",
          "9-2",
          "9-3",
          "9-4"
         ],
         "y": [
          null,
          4,
          3,
          4,
          null,
          null,
          null
         ]
        },
        {
         "line": {
          "dash": "longdashdot"
         },
         "name": "完成下单数(范旭宁)",
         "type": "scatter",
         "uid": "3e36970a-dbfd-11e8-8ddb-a41f72875c19",
         "x": [
          "10-4",
          "8-3",
          "8-4",
          "9-1",
          "9-2",
          "9-3",
          "9-4"
         ],
         "y": [
          4,
          3,
          3,
          4,
          7,
          5,
          3
         ]
        },
        {
         "line": {
          "dash": "solid"
         },
         "name": "完成下单数(屈昂)",
         "type": "scatter",
         "uid": "3e36970b-dbfd-11e8-8ddb-a41f72875c19",
         "x": [
          "10-4",
          "8-3",
          "8-4",
          "9-1",
          "9-2",
          "9-3",
          "9-4"
         ],
         "y": [
          1,
          null,
          null,
          null,
          null,
          null,
          null
         ]
        },
        {
         "line": {
          "dash": "dot"
         },
         "name": "完成下单数(张守伟)",
         "type": "scatter",
         "uid": "3e36970c-dbfd-11e8-8ddb-a41f72875c19",
         "x": [
          "10-4",
          "8-3",
          "8-4",
          "9-1",
          "9-2",
          "9-3",
          "9-4"
         ],
         "y": [
          3,
          3,
          4,
          3,
          3,
          3,
          4
         ]
        },
        {
         "line": {
          "dash": "dash"
         },
         "name": "完成下单数(封彦杰)",
         "type": "scatter",
         "uid": "3e36970d-dbfd-11e8-8ddb-a41f72875c19",
         "x": [
          "10-4",
          "8-3",
          "8-4",
          "9-1",
          "9-2",
          "9-3",
          "9-4"
         ],
         "y": [
          5,
          9,
          6,
          5,
          3,
          8,
          7
         ]
        },
        {
         "line": {
          "dash": "longdash"
         },
         "name": "完成下单数(张悦)",
         "type": "scatter",
         "uid": "3e36970e-dbfd-11e8-8ddb-a41f72875c19",
         "x": [
          "10-4",
          "8-3",
          "8-4",
          "9-1",
          "9-2",
          "9-3",
          "9-4"
         ],
         "y": [
          0,
          null,
          null,
          null,
          null,
          null,
          null
         ]
        },
        {
         "line": {
          "dash": "dashdot"
         },
         "name": "完成下单数(于慧)",
         "type": "scatter",
         "uid": "3e36970f-dbfd-11e8-8ddb-a41f72875c19",
         "x": [
          "10-4",
          "8-3",
          "8-4",
          "9-1",
          "9-2",
          "9-3",
          "9-4"
         ],
         "y": [
          8,
          0,
          7,
          1,
          3,
          7,
          5
         ]
        }
       ],
       "layout": {
        "title": "总下单数&完成下单数周趋势图",
        "xaxis": {
         "mirror": "all",
         "nticks": 20,
         "showgrid": true,
         "showline": true,
         "title": "周",
         "type": "category",
         "zeroline": true
        },
        "yaxis": {
         "mirror": "all",
         "nticks": 20,
         "showgrid": true,
         "showline": true,
         "title": "总下单数&完成下单数",
         "zeroline": true
        }
       }
      },
      "text/html": [
       "<div id=\"c0c623b3-5897-42eb-839d-fc7c50a61634\" style=\"height: 525px; width: 100%;\" class=\"plotly-graph-div\"></div><script type=\"text/javascript\">require([\"plotly\"], function(Plotly) { window.PLOTLYENV=window.PLOTLYENV || {};window.PLOTLYENV.BASE_URL=\"https://plot.ly\";Plotly.newPlot(\"c0c623b3-5897-42eb-839d-fc7c50a61634\", [{\"line\": {\"dash\": \"solid\"}, \"name\": \"\\u603b\\u4e0b\\u5355\\u6570(\\u97e9\\u5c11\\u6000)\", \"x\": [\"10-4\", \"8-3\", \"8-4\", \"9-1\", \"9-2\", \"9-3\", \"9-4\"], \"y\": [4.0, 3.0, 4.0, 4.0, 5.0, 5.0, null], \"type\": \"scatter\", \"uid\": \"3e3696ca-dbfd-11e8-8ddb-a41f72875c19\"}, {\"line\": {\"dash\": \"dot\"}, \"name\": \"\\u603b\\u4e0b\\u5355\\u6570(\\u82cf\\u5f66\\u52cb)\", \"x\": [\"10-4\", \"8-3\", \"8-4\", \"9-1\", \"9-2\", \"9-3\", \"9-4\"], \"y\": [7.0, 4.0, 6.0, 5.0, 6.0, 9.0, null], \"type\": \"scatter\", \"uid\": \"3e3696cb-dbfd-11e8-8ddb-a41f72875c19\"}, {\"line\": {\"dash\": \"dash\"}, \"name\": \"\\u603b\\u4e0b\\u5355\\u6570(\\u5b5f\\u660a)\", \"x\": [\"10-4\", \"8-3\", \"8-4\", \"9-1\", \"9-2\", \"9-3\", \"9-4\"], \"y\": [7.0, 4.0, 4.0, 2.0, 3.0, 5.0, 8.0], \"type\": \"scatter\", \"uid\": \"3e3696cc-dbfd-11e8-8ddb-a41f72875c19\"}, {\"line\": {\"dash\": \"longdash\"}, \"name\": \"\\u603b\\u4e0b\\u5355\\u6570(\\u4efb\\u96ea)\", \"x\": [\"10-4\", \"8-3\", \"8-4\", \"9-1\", \"9-2\", \"9-3\", \"9-4\"], \"y\": [3.0, null, 2.0, 4.0, 5.0, 2.0, 5.0], \"type\": \"scatter\", \"uid\": \"3e3696cd-dbfd-11e8-8ddb-a41f72875c19\"}, {\"line\": {\"dash\": \"dashdot\"}, \"name\": \"\\u603b\\u4e0b\\u5355\\u6570(\\u6d82\\u6210\\u82b3)\", \"x\": [\"10-4\", \"8-3\", \"8-4\", \"9-1\", \"9-2\", \"9-3\", \"9-4\"], \"y\": [1.0, null, null, null, null, null, null], \"type\": \"scatter\", \"uid\": \"3e3696ce-dbfd-11e8-8ddb-a41f72875c19\"}, {\"line\": {\"dash\": \"longdashdot\"}, \"name\": \"\\u603b\\u4e0b\\u5355\\u6570(\\u4e8e\\u52c7\\u4e00)\", \"x\": [\"10-4\", \"8-3\", \"8-4\", \"9-1\", \"9-2\", \"9-3\", \"9-4\"], \"y\": [4.0, 3.0, 4.0, 5.0, 4.0, 6.0, 5.0], \"type\": \"scatter\", \"uid\": \"3e3696cf-dbfd-11e8-8ddb-a41f72875c19\"}, {\"line\": {\"dash\": \"solid\"}, \"name\": \"\\u603b\\u4e0b\\u5355\\u6570(\\u8def\\u6167\\u840d)\", \"x\": [\"10-4\", \"8-3\", \"8-4\", \"9-1\", \"9-2\", \"9-3\", \"9-4\"], \"y\": [8.0, 5.0, 8.0, 7.0, 5.0, 7.0, null], \"type\": \"scatter\", \"uid\": \"3e3696d0-dbfd-11e8-8ddb-a41f72875c19\"}, {\"line\": {\"dash\": \"dot\"}, \"name\": \"\\u603b\\u4e0b\\u5355\\u6570(\\u6768\\u4f1f\\u98de)\", \"x\": [\"10-4\", \"8-3\", \"8-4\", \"9-1\", \"9-2\", \"9-3\", \"9-4\"], \"y\": [5.0, 3.0, 6.0, 4.0, 6.0, 7.0, 6.0], \"type\": \"scatter\", \"uid\": \"3e3696d1-dbfd-11e8-8ddb-a41f72875c19\"}, {\"line\": {\"dash\": \"dash\"}, \"name\": \"\\u603b\\u4e0b\\u5355\\u6570(\\u6636\\u5409\\u9633)\", \"x\": [\"10-4\", \"8-3\", \"8-4\", \"9-1\", \"9-2\", \"9-3\", \"9-4\"], \"y\": [4.0, null, null, null, null, null, null], \"type\": \"scatter\", \"uid\": \"3e3696d2-dbfd-11e8-8ddb-a41f72875c19\"}, {\"line\": {\"dash\": \"longdash\"}, \"name\": \"\\u603b\\u4e0b\\u5355\\u6570(\\u738b\\u5b81)\", \"x\": [\"10-4\", \"8-3\", \"8-4\", \"9-1\", \"9-2\", \"9-3\", \"9-4\"], \"y\": [null, 6.0, 6.0, 6.0, null, null, null], \"type\": \"scatter\", \"uid\": \"3e3696d3-dbfd-11e8-8ddb-a41f72875c19\"}, {\"line\": {\"dash\": \"dashdot\"}, \"name\": \"\\u603b\\u4e0b\\u5355\\u6570(\\u8f66\\u5929\\u680b)\", \"x\": [\"10-4\", \"8-3\", \"8-4\", \"9-1\", \"9-2\", \"9-3\", \"9-4\"], \"y\": [1.0, null, null, null, null, null, null], \"type\": \"scatter\", \"uid\": \"3e3696d4-dbfd-11e8-8ddb-a41f72875c19\"}, {\"line\": {\"dash\": \"longdashdot\"}, \"name\": \"\\u603b\\u4e0b\\u5355\\u6570(\\u5468\\u6768)\", \"x\": [\"10-4\", \"8-3\", \"8-4\", \"9-1\", \"9-2\", \"9-3\", \"9-4\"], \"y\": [7.0, 2.0, 6.0, 4.0, 4.0, 7.0, 9.0], \"type\": \"scatter\", \"uid\": \"3e3696d5-dbfd-11e8-8ddb-a41f72875c19\"}, {\"line\": {\"dash\": \"solid\"}, \"name\": \"\\u603b\\u4e0b\\u5355\\u6570(\\u6bb5\\u5229\\u5f3a)\", \"x\": [\"10-4\", \"8-3\", \"8-4\", \"9-1\", \"9-2\", \"9-3\", \"9-4\"], \"y\": [null, null, null, null, null, null, 6.0], \"type\": \"scatter\", \"uid\": \"3e3696d6-dbfd-11e8-8ddb-a41f72875c19\"}, {\"line\": {\"dash\": \"dot\"}, \"name\": \"\\u603b\\u4e0b\\u5355\\u6570(\\u8d75\\u73a5)\", \"x\": [\"10-4\", \"8-3\", \"8-4\", \"9-1\", \"9-2\", \"9-3\", \"9-4\"], \"y\": [5.0, 6.0, 4.0, 6.0, 4.0, 12.0, 4.0], \"type\": \"scatter\", \"uid\": \"3e3696d7-dbfd-11e8-8ddb-a41f72875c19\"}, {\"line\": {\"dash\": \"dash\"}, \"name\": \"\\u603b\\u4e0b\\u5355\\u6570(\\u51b7\\u96ea)\", \"x\": [\"10-4\", \"8-3\", \"8-4\", \"9-1\", \"9-2\", \"9-3\", \"9-4\"], \"y\": [1.0, null, null, null, null, null, null], \"type\": \"scatter\", \"uid\": \"3e3696d8-dbfd-11e8-8ddb-a41f72875c19\"}, {\"line\": {\"dash\": \"longdash\"}, \"name\": \"\\u603b\\u4e0b\\u5355\\u6570(\\u51af\\u656c\\u5ca9)\", \"x\": [\"10-4\", \"8-3\", \"8-4\", \"9-1\", \"9-2\", \"9-3\", \"9-4\"], \"y\": [1.0, null, null, null, null, null, null], \"type\": \"scatter\", \"uid\": \"3e3696d9-dbfd-11e8-8ddb-a41f72875c19\"}, {\"line\": {\"dash\": \"dashdot\"}, \"name\": \"\\u603b\\u4e0b\\u5355\\u6570(\\u59da\\u76df\\u6210)\", \"x\": [\"10-4\", \"8-3\", \"8-4\", \"9-1\", \"9-2\", \"9-3\", \"9-4\"], \"y\": [4.0, 4.0, 4.0, 4.0, 5.0, 4.0, 7.0], \"type\": \"scatter\", \"uid\": \"3e3696da-dbfd-11e8-8ddb-a41f72875c19\"}, {\"line\": {\"dash\": \"longdashdot\"}, \"name\": \"\\u603b\\u4e0b\\u5355\\u6570(\\u674e\\u534e\\u4e91)\", \"x\": [\"10-4\", \"8-3\", \"8-4\", \"9-1\", \"9-2\", \"9-3\", \"9-4\"], \"y\": [6.0, 5.0, 3.0, 5.0, 5.0, 5.0, null], \"type\": \"scatter\", \"uid\": \"3e3696db-dbfd-11e8-8ddb-a41f72875c19\"}, {\"line\": {\"dash\": \"solid\"}, \"name\": \"\\u603b\\u4e0b\\u5355\\u6570(\\u9648\\u9e4f\\u71d5)\", \"x\": [\"10-4\", \"8-3\", \"8-4\", \"9-1\", \"9-2\", \"9-3\", \"9-4\"], \"y\": [4.0, null, null, null, null, null, null], \"type\": \"scatter\", \"uid\": \"3e3696dc-dbfd-11e8-8ddb-a41f72875c19\"}, {\"line\": {\"dash\": \"dot\"}, \"name\": \"\\u603b\\u4e0b\\u5355\\u6570(\\u5218\\u6167\\u73b2)\", \"x\": [\"10-4\", \"8-3\", \"8-4\", \"9-1\", \"9-2\", \"9-3\", \"9-4\"], \"y\": [null, 4.0, 4.0, 5.0, null, null, null], \"type\": \"scatter\", \"uid\": \"3e3696dd-dbfd-11e8-8ddb-a41f72875c19\"}, {\"line\": {\"dash\": \"dash\"}, \"name\": \"\\u603b\\u4e0b\\u5355\\u6570(\\u6c88\\u6069\\u60e0)\", \"x\": [\"10-4\", \"8-3\", \"8-4\", \"9-1\", \"9-2\", \"9-3\", \"9-4\"], \"y\": [2.0, null, null, null, null, null, null], \"type\": \"scatter\", \"uid\": \"3e3696de-dbfd-11e8-8ddb-a41f72875c19\"}, {\"line\": {\"dash\": \"longdash\"}, \"name\": \"\\u603b\\u4e0b\\u5355\\u6570(\\u6797\\u6587\\u6587)\", \"x\": [\"10-4\", \"8-3\", \"8-4\", \"9-1\", \"9-2\", \"9-3\", \"9-4\"], \"y\": [1.0, null, null, null, null, null, null], \"type\": \"scatter\", \"uid\": \"3e3696df-dbfd-11e8-8ddb-a41f72875c19\"}, {\"line\": {\"dash\": \"dashdot\"}, \"name\": \"\\u603b\\u4e0b\\u5355\\u6570(\\u8c22\\u5fb7\\u5065)\", \"x\": [\"10-4\", \"8-3\", \"8-4\", \"9-1\", \"9-2\", \"9-3\", \"9-4\"], \"y\": [4.0, 2.0, 4.0, null, 4.0, 5.0, 4.0], \"type\": \"scatter\", \"uid\": \"3e3696e0-dbfd-11e8-8ddb-a41f72875c19\"}, {\"line\": {\"dash\": \"longdashdot\"}, \"name\": \"\\u603b\\u4e0b\\u5355\\u6570(\\u5218\\u6c5f)\", \"x\": [\"10-4\", \"8-3\", \"8-4\", \"9-1\", \"9-2\", \"9-3\", \"9-4\"], \"y\": [6.0, 7.0, 8.0, 7.0, 8.0, 5.0, 6.0], \"type\": \"scatter\", \"uid\": \"3e3696e1-dbfd-11e8-8ddb-a41f72875c19\"}, {\"line\": {\"dash\": \"solid\"}, \"name\": \"\\u603b\\u4e0b\\u5355\\u6570(\\u738b\\u7ea2)\", \"x\": [\"10-4\", \"8-3\", \"8-4\", \"9-1\", \"9-2\", \"9-3\", \"9-4\"], \"y\": [1.0, null, null, null, null, null, null], \"type\": \"scatter\", \"uid\": \"3e3696e2-dbfd-11e8-8ddb-a41f72875c19\"}, {\"line\": {\"dash\": \"dot\"}, \"name\": \"\\u603b\\u4e0b\\u5355\\u6570(\\u674e\\u5e86\\u539f)\", \"x\": [\"10-4\", \"8-3\", \"8-4\", \"9-1\", \"9-2\", \"9-3\", \"9-4\"], \"y\": [4.0, 2.0, 5.0, 3.0, 3.0, 6.0, null], \"type\": \"scatter\", \"uid\": \"3e3696e3-dbfd-11e8-8ddb-a41f72875c19\"}, {\"line\": {\"dash\": \"dash\"}, \"name\": \"\\u603b\\u4e0b\\u5355\\u6570(\\u9a6c\\u6f47)\", \"x\": [\"10-4\", \"8-3\", \"8-4\", \"9-1\", \"9-2\", \"9-3\", \"9-4\"], \"y\": [7.0, 5.0, 3.0, 4.0, 5.0, 6.0, 0.0], \"type\": \"scatter\", \"uid\": \"3e3696e4-dbfd-11e8-8ddb-a41f72875c19\"}, {\"line\": {\"dash\": \"longdash\"}, \"name\": \"\\u603b\\u4e0b\\u5355\\u6570(\\u5360\\u4f1f)\", \"x\": [\"10-4\", \"8-3\", \"8-4\", \"9-1\", \"9-2\", \"9-3\", \"9-4\"], \"y\": [6.0, 4.0, 6.0, 7.0, 8.0, 7.0, 7.0], \"type\": \"scatter\", \"uid\": \"3e3696e5-dbfd-11e8-8ddb-a41f72875c19\"}, {\"line\": {\"dash\": \"dashdot\"}, \"name\": \"\\u603b\\u4e0b\\u5355\\u6570(\\u5b8b\\u8fce\\u6960)\", \"x\": [\"10-4\", \"8-3\", \"8-4\", \"9-1\", \"9-2\", \"9-3\", \"9-4\"], \"y\": [null, 4.0, 3.0, 4.0, null, null, null], \"type\": \"scatter\", \"uid\": \"3e3696e6-dbfd-11e8-8ddb-a41f72875c19\"}, {\"line\": {\"dash\": \"longdashdot\"}, \"name\": \"\\u603b\\u4e0b\\u5355\\u6570(\\u8303\\u65ed\\u5b81)\", \"x\": [\"10-4\", \"8-3\", \"8-4\", \"9-1\", \"9-2\", \"9-3\", \"9-4\"], \"y\": [4.0, 4.0, 4.0, 5.0, 7.0, 5.0, 4.0], \"type\": \"scatter\", \"uid\": \"3e3696e7-dbfd-11e8-8ddb-a41f72875c19\"}, {\"line\": {\"dash\": \"solid\"}, \"name\": \"\\u603b\\u4e0b\\u5355\\u6570(\\u5c48\\u6602)\", \"x\": [\"10-4\", \"8-3\", \"8-4\", \"9-1\", \"9-2\", \"9-3\", \"9-4\"], \"y\": [1.0, null, null, null, null, null, null], \"type\": \"scatter\", \"uid\": \"3e3696e8-dbfd-11e8-8ddb-a41f72875c19\"}, {\"line\": {\"dash\": \"dot\"}, \"name\": \"\\u603b\\u4e0b\\u5355\\u6570(\\u5f20\\u5b88\\u4f1f)\", \"x\": [\"10-4\", \"8-3\", \"8-4\", \"9-1\", \"9-2\", \"9-3\", \"9-4\"], \"y\": [4.0, 4.0, 4.0, 4.0, 3.0, 4.0, 5.0], \"type\": \"scatter\", \"uid\": \"3e3696e9-dbfd-11e8-8ddb-a41f72875c19\"}, {\"line\": {\"dash\": \"dash\"}, \"name\": \"\\u603b\\u4e0b\\u5355\\u6570(\\u5c01\\u5f66\\u6770)\", \"x\": [\"10-4\", \"8-3\", \"8-4\", \"9-1\", \"9-2\", \"9-3\", \"9-4\"], \"y\": [6.0, 9.0, 6.0, 5.0, 4.0, 8.0, 7.0], \"type\": \"scatter\", \"uid\": \"3e3696ea-dbfd-11e8-8ddb-a41f72875c19\"}, {\"line\": {\"dash\": \"longdash\"}, \"name\": \"\\u603b\\u4e0b\\u5355\\u6570(\\u5f20\\u60a6)\", \"x\": [\"10-4\", \"8-3\", \"8-4\", \"9-1\", \"9-2\", \"9-3\", \"9-4\"], \"y\": [1.0, null, null, null, null, null, null], \"type\": \"scatter\", \"uid\": \"3e3696eb-dbfd-11e8-8ddb-a41f72875c19\"}, {\"line\": {\"dash\": \"dashdot\"}, \"name\": \"\\u603b\\u4e0b\\u5355\\u6570(\\u4e8e\\u6167)\", \"x\": [\"10-4\", \"8-3\", \"8-4\", \"9-1\", \"9-2\", \"9-3\", \"9-4\"], \"y\": [8.0, 0.0, 7.0, 2.0, 3.0, 7.0, 6.0], \"type\": \"scatter\", \"uid\": \"3e3696ec-dbfd-11e8-8ddb-a41f72875c19\"}, {\"line\": {\"dash\": \"solid\"}, \"name\": \"\\u5b8c\\u6210\\u4e0b\\u5355\\u6570(\\u97e9\\u5c11\\u6000)\", \"x\": [\"10-4\", \"8-3\", \"8-4\", \"9-1\", \"9-2\", \"9-3\", \"9-4\"], \"y\": [4.0, 3.0, 4.0, 4.0, 5.0, 5.0, null], \"type\": \"scatter\", \"uid\": \"3e3696ed-dbfd-11e8-8ddb-a41f72875c19\"}, {\"line\": {\"dash\": \"dot\"}, \"name\": \"\\u5b8c\\u6210\\u4e0b\\u5355\\u6570(\\u82cf\\u5f66\\u52cb)\", \"x\": [\"10-4\", \"8-3\", \"8-4\", \"9-1\", \"9-2\", \"9-3\", \"9-4\"], \"y\": [7.0, 4.0, 6.0, 5.0, 5.0, 9.0, null], \"type\": \"scatter\", \"uid\": \"3e3696ee-dbfd-11e8-8ddb-a41f72875c19\"}, {\"line\": {\"dash\": \"dash\"}, \"name\": \"\\u5b8c\\u6210\\u4e0b\\u5355\\u6570(\\u5b5f\\u660a)\", \"x\": [\"10-4\", \"8-3\", \"8-4\", \"9-1\", \"9-2\", \"9-3\", \"9-4\"], \"y\": [7.0, 4.0, 4.0, 2.0, 2.0, 5.0, 8.0], \"type\": \"scatter\", \"uid\": \"3e3696ef-dbfd-11e8-8ddb-a41f72875c19\"}, {\"line\": {\"dash\": \"longdash\"}, \"name\": \"\\u5b8c\\u6210\\u4e0b\\u5355\\u6570(\\u4efb\\u96ea)\", \"x\": [\"10-4\", \"8-3\", \"8-4\", \"9-1\", \"9-2\", \"9-3\", \"9-4\"], \"y\": [2.0, null, 2.0, 3.0, 4.0, 0.0, 4.0], \"type\": \"scatter\", \"uid\": \"3e3696f0-dbfd-11e8-8ddb-a41f72875c19\"}, {\"line\": {\"dash\": \"dashdot\"}, \"name\": \"\\u5b8c\\u6210\\u4e0b\\u5355\\u6570(\\u6d82\\u6210\\u82b3)\", \"x\": [\"10-4\", \"8-3\", \"8-4\", \"9-1\", \"9-2\", \"9-3\", \"9-4\"], \"y\": [1.0, null, null, null, null, null, null], \"type\": \"scatter\", \"uid\": \"3e3696f1-dbfd-11e8-8ddb-a41f72875c19\"}, {\"line\": {\"dash\": \"longdashdot\"}, \"name\": \"\\u5b8c\\u6210\\u4e0b\\u5355\\u6570(\\u4e8e\\u52c7\\u4e00)\", \"x\": [\"10-4\", \"8-3\", \"8-4\", \"9-1\", \"9-2\", \"9-3\", \"9-4\"], \"y\": [4.0, 3.0, 2.0, 4.0, 2.0, 7.0, 7.0], \"type\": \"scatter\", \"uid\": \"3e3696f2-dbfd-11e8-8ddb-a41f72875c19\"}, {\"line\": {\"dash\": \"solid\"}, \"name\": \"\\u5b8c\\u6210\\u4e0b\\u5355\\u6570(\\u8def\\u6167\\u840d)\", \"x\": [\"10-4\", \"8-3\", \"8-4\", \"9-1\", \"9-2\", \"9-3\", \"9-4\"], \"y\": [8.0, 5.0, 8.0, 6.0, 5.0, 5.0, null], \"type\": \"scatter\", \"uid\": \"3e3696f3-dbfd-11e8-8ddb-a41f72875c19\"}, {\"line\": {\"dash\": \"dot\"}, \"name\": \"\\u5b8c\\u6210\\u4e0b\\u5355\\u6570(\\u6768\\u4f1f\\u98de)\", \"x\": [\"10-4\", \"8-3\", \"8-4\", \"9-1\", \"9-2\", \"9-3\", \"9-4\"], \"y\": [3.0, 1.0, 5.0, 8.0, 5.0, 7.0, 6.0], \"type\": \"scatter\", \"uid\": \"3e3696f4-dbfd-11e8-8ddb-a41f72875c19\"}, {\"line\": {\"dash\": \"dash\"}, \"name\": \"\\u5b8c\\u6210\\u4e0b\\u5355\\u6570(\\u6636\\u5409\\u9633)\", \"x\": [\"10-4\", \"8-3\", \"8-4\", \"9-1\", \"9-2\", \"9-3\", \"9-4\"], \"y\": [4.0, null, null, null, null, null, null], \"type\": \"scatter\", \"uid\": \"3e3696f5-dbfd-11e8-8ddb-a41f72875c19\"}, {\"line\": {\"dash\": \"longdash\"}, \"name\": \"\\u5b8c\\u6210\\u4e0b\\u5355\\u6570(\\u738b\\u5b81)\", \"x\": [\"10-4\", \"8-3\", \"8-4\", \"9-1\", \"9-2\", \"9-3\", \"9-4\"], \"y\": [null, 6.0, 6.0, 7.0, null, null, null], \"type\": \"scatter\", \"uid\": \"3e3696f6-dbfd-11e8-8ddb-a41f72875c19\"}, {\"line\": {\"dash\": \"dashdot\"}, \"name\": \"\\u5b8c\\u6210\\u4e0b\\u5355\\u6570(\\u8f66\\u5929\\u680b)\", \"x\": [\"10-4\", \"8-3\", \"8-4\", \"9-1\", \"9-2\", \"9-3\", \"9-4\"], \"y\": [1.0, null, null, null, null, null, null], \"type\": \"scatter\", \"uid\": \"3e3696f7-dbfd-11e8-8ddb-a41f72875c19\"}, {\"line\": {\"dash\": \"longdashdot\"}, \"name\": \"\\u5b8c\\u6210\\u4e0b\\u5355\\u6570(\\u5468\\u6768)\", \"x\": [\"10-4\", \"8-3\", \"8-4\", \"9-1\", \"9-2\", \"9-3\", \"9-4\"], \"y\": [7.0, 2.0, 5.0, 4.0, 4.0, 7.0, 9.0], \"type\": \"scatter\", \"uid\": \"3e3696f8-dbfd-11e8-8ddb-a41f72875c19\"}, {\"line\": {\"dash\": \"solid\"}, \"name\": \"\\u5b8c\\u6210\\u4e0b\\u5355\\u6570(\\u6bb5\\u5229\\u5f3a)\", \"x\": [\"10-4\", \"8-3\", \"8-4\", \"9-1\", \"9-2\", \"9-3\", \"9-4\"], \"y\": [null, null, null, null, null, null, 6.0], \"type\": \"scatter\", \"uid\": \"3e3696f9-dbfd-11e8-8ddb-a41f72875c19\"}, {\"line\": {\"dash\": \"dot\"}, \"name\": \"\\u5b8c\\u6210\\u4e0b\\u5355\\u6570(\\u8d75\\u73a5)\", \"x\": [\"10-4\", \"8-3\", \"8-4\", \"9-1\", \"9-2\", \"9-3\", \"9-4\"], \"y\": [4.0, 6.0, 4.0, 4.0, 4.0, 11.0, 4.0], \"type\": \"scatter\", \"uid\": \"3e3696fa-dbfd-11e8-8ddb-a41f72875c19\"}, {\"line\": {\"dash\": \"dash\"}, \"name\": \"\\u5b8c\\u6210\\u4e0b\\u5355\\u6570(\\u51b7\\u96ea)\", \"x\": [\"10-4\", \"8-3\", \"8-4\", \"9-1\", \"9-2\", \"9-3\", \"9-4\"], \"y\": [1.0, null, null, null, null, null, null], \"type\": \"scatter\", \"uid\": \"3e3696fb-dbfd-11e8-8ddb-a41f72875c19\"}, {\"line\": {\"dash\": \"longdash\"}, \"name\": \"\\u5b8c\\u6210\\u4e0b\\u5355\\u6570(\\u51af\\u656c\\u5ca9)\", \"x\": [\"10-4\", \"8-3\", \"8-4\", \"9-1\", \"9-2\", \"9-3\", \"9-4\"], \"y\": [0.0, null, null, null, null, null, null], \"type\": \"scatter\", \"uid\": \"3e3696fc-dbfd-11e8-8ddb-a41f72875c19\"}, {\"line\": {\"dash\": \"dashdot\"}, \"name\": \"\\u5b8c\\u6210\\u4e0b\\u5355\\u6570(\\u59da\\u76df\\u6210)\", \"x\": [\"10-4\", \"8-3\", \"8-4\", \"9-1\", \"9-2\", \"9-3\", \"9-4\"], \"y\": [4.0, 4.0, 3.0, 4.0, 5.0, 4.0, 7.0], \"type\": \"scatter\", \"uid\": \"3e3696fd-dbfd-11e8-8ddb-a41f72875c19\"}, {\"line\": {\"dash\": \"longdashdot\"}, \"name\": \"\\u5b8c\\u6210\\u4e0b\\u5355\\u6570(\\u674e\\u534e\\u4e91)\", \"x\": [\"10-4\", \"8-3\", \"8-4\", \"9-1\", \"9-2\", \"9-3\", \"9-4\"], \"y\": [4.0, 4.0, 3.0, 4.0, 5.0, 5.0, null], \"type\": \"scatter\", \"uid\": \"3e3696fe-dbfd-11e8-8ddb-a41f72875c19\"}, {\"line\": {\"dash\": \"solid\"}, \"name\": \"\\u5b8c\\u6210\\u4e0b\\u5355\\u6570(\\u9648\\u9e4f\\u71d5)\", \"x\": [\"10-4\", \"8-3\", \"8-4\", \"9-1\", \"9-2\", \"9-3\", \"9-4\"], \"y\": [4.0, null, null, null, null, null, null], \"type\": \"scatter\", \"uid\": \"3e3696ff-dbfd-11e8-8ddb-a41f72875c19\"}, {\"line\": {\"dash\": \"dot\"}, \"name\": \"\\u5b8c\\u6210\\u4e0b\\u5355\\u6570(\\u5218\\u6167\\u73b2)\", \"x\": [\"10-4\", \"8-3\", \"8-4\", \"9-1\", \"9-2\", \"9-3\", \"9-4\"], \"y\": [null, 3.0, 3.0, 4.0, null, null, null], \"type\": \"scatter\", \"uid\": \"3e369700-dbfd-11e8-8ddb-a41f72875c19\"}, {\"line\": {\"dash\": \"dash\"}, \"name\": \"\\u5b8c\\u6210\\u4e0b\\u5355\\u6570(\\u6c88\\u6069\\u60e0)\", \"x\": [\"10-4\", \"8-3\", \"8-4\", \"9-1\", \"9-2\", \"9-3\", \"9-4\"], \"y\": [2.0, null, null, null, null, null, null], \"type\": \"scatter\", \"uid\": \"3e369701-dbfd-11e8-8ddb-a41f72875c19\"}, {\"line\": {\"dash\": \"longdash\"}, \"name\": \"\\u5b8c\\u6210\\u4e0b\\u5355\\u6570(\\u6797\\u6587\\u6587)\", \"x\": [\"10-4\", \"8-3\", \"8-4\", \"9-1\", \"9-2\", \"9-3\", \"9-4\"], \"y\": [1.0, null, null, null, null, null, null], \"type\": \"scatter\", \"uid\": \"3e369702-dbfd-11e8-8ddb-a41f72875c19\"}, {\"line\": {\"dash\": \"dashdot\"}, \"name\": \"\\u5b8c\\u6210\\u4e0b\\u5355\\u6570(\\u8c22\\u5fb7\\u5065)\", \"x\": [\"10-4\", \"8-3\", \"8-4\", \"9-1\", \"9-2\", \"9-3\", \"9-4\"], \"y\": [4.0, 1.0, 4.0, null, 3.0, 5.0, 4.0], \"type\": \"scatter\", \"uid\": \"3e369703-dbfd-11e8-8ddb-a41f72875c19\"}, {\"line\": {\"dash\": \"longdashdot\"}, \"name\": \"\\u5b8c\\u6210\\u4e0b\\u5355\\u6570(\\u5218\\u6c5f)\", \"x\": [\"10-4\", \"8-3\", \"8-4\", \"9-1\", \"9-2\", \"9-3\", \"9-4\"], \"y\": [6.0, 4.0, 10.0, 7.0, 7.0, 5.0, 6.0], \"type\": \"scatter\", \"uid\": \"3e369704-dbfd-11e8-8ddb-a41f72875c19\"}, {\"line\": {\"dash\": \"solid\"}, \"name\": \"\\u5b8c\\u6210\\u4e0b\\u5355\\u6570(\\u738b\\u7ea2)\", \"x\": [\"10-4\", \"8-3\", \"8-4\", \"9-1\", \"9-2\", \"9-3\", \"9-4\"], \"y\": [1.0, null, null, null, null, null, null], \"type\": \"scatter\", \"uid\": \"3e369705-dbfd-11e8-8ddb-a41f72875c19\"}, {\"line\": {\"dash\": \"dot\"}, \"name\": \"\\u5b8c\\u6210\\u4e0b\\u5355\\u6570(\\u674e\\u5e86\\u539f)\", \"x\": [\"10-4\", \"8-3\", \"8-4\", \"9-1\", \"9-2\", \"9-3\", \"9-4\"], \"y\": [4.0, 2.0, 5.0, 3.0, 3.0, 6.0, null], \"type\": \"scatter\", \"uid\": \"3e369706-dbfd-11e8-8ddb-a41f72875c19\"}, {\"line\": {\"dash\": \"dash\"}, \"name\": \"\\u5b8c\\u6210\\u4e0b\\u5355\\u6570(\\u9a6c\\u6f47)\", \"x\": [\"10-4\", \"8-3\", \"8-4\", \"9-1\", \"9-2\", \"9-3\", \"9-4\"], \"y\": [7.0, 3.0, 3.0, 4.0, 5.0, 5.0, 0.0], \"type\": \"scatter\", \"uid\": \"3e369707-dbfd-11e8-8ddb-a41f72875c19\"}, {\"line\": {\"dash\": \"longdash\"}, \"name\": \"\\u5b8c\\u6210\\u4e0b\\u5355\\u6570(\\u5360\\u4f1f)\", \"x\": [\"10-4\", \"8-3\", \"8-4\", \"9-1\", \"9-2\", \"9-3\", \"9-4\"], \"y\": [4.0, 2.0, 3.0, 7.0, 8.0, 5.0, 6.0], \"type\": \"scatter\", \"uid\": \"3e369708-dbfd-11e8-8ddb-a41f72875c19\"}, {\"line\": {\"dash\": \"dashdot\"}, \"name\": \"\\u5b8c\\u6210\\u4e0b\\u5355\\u6570(\\u5b8b\\u8fce\\u6960)\", \"x\": [\"10-4\", \"8-3\", \"8-4\", \"9-1\", \"9-2\", \"9-3\", \"9-4\"], \"y\": [null, 4.0, 3.0, 4.0, null, null, null], \"type\": \"scatter\", \"uid\": \"3e369709-dbfd-11e8-8ddb-a41f72875c19\"}, {\"line\": {\"dash\": \"longdashdot\"}, \"name\": \"\\u5b8c\\u6210\\u4e0b\\u5355\\u6570(\\u8303\\u65ed\\u5b81)\", \"x\": [\"10-4\", \"8-3\", \"8-4\", \"9-1\", \"9-2\", \"9-3\", \"9-4\"], \"y\": [4.0, 3.0, 3.0, 4.0, 7.0, 5.0, 3.0], \"type\": \"scatter\", \"uid\": \"3e36970a-dbfd-11e8-8ddb-a41f72875c19\"}, {\"line\": {\"dash\": \"solid\"}, \"name\": \"\\u5b8c\\u6210\\u4e0b\\u5355\\u6570(\\u5c48\\u6602)\", \"x\": [\"10-4\", \"8-3\", \"8-4\", \"9-1\", \"9-2\", \"9-3\", \"9-4\"], \"y\": [1.0, null, null, null, null, null, null], \"type\": \"scatter\", \"uid\": \"3e36970b-dbfd-11e8-8ddb-a41f72875c19\"}, {\"line\": {\"dash\": \"dot\"}, \"name\": \"\\u5b8c\\u6210\\u4e0b\\u5355\\u6570(\\u5f20\\u5b88\\u4f1f)\", \"x\": [\"10-4\", \"8-3\", \"8-4\", \"9-1\", \"9-2\", \"9-3\", \"9-4\"], \"y\": [3.0, 3.0, 4.0, 3.0, 3.0, 3.0, 4.0], \"type\": \"scatter\", \"uid\": \"3e36970c-dbfd-11e8-8ddb-a41f72875c19\"}, {\"line\": {\"dash\": \"dash\"}, \"name\": \"\\u5b8c\\u6210\\u4e0b\\u5355\\u6570(\\u5c01\\u5f66\\u6770)\", \"x\": [\"10-4\", \"8-3\", \"8-4\", \"9-1\", \"9-2\", \"9-3\", \"9-4\"], \"y\": [5.0, 9.0, 6.0, 5.0, 3.0, 8.0, 7.0], \"type\": \"scatter\", \"uid\": \"3e36970d-dbfd-11e8-8ddb-a41f72875c19\"}, {\"line\": {\"dash\": \"longdash\"}, \"name\": \"\\u5b8c\\u6210\\u4e0b\\u5355\\u6570(\\u5f20\\u60a6)\", \"x\": [\"10-4\", \"8-3\", \"8-4\", \"9-1\", \"9-2\", \"9-3\", \"9-4\"], \"y\": [0.0, null, null, null, null, null, null], \"type\": \"scatter\", \"uid\": \"3e36970e-dbfd-11e8-8ddb-a41f72875c19\"}, {\"line\": {\"dash\": \"dashdot\"}, \"name\": \"\\u5b8c\\u6210\\u4e0b\\u5355\\u6570(\\u4e8e\\u6167)\", \"x\": [\"10-4\", \"8-3\", \"8-4\", \"9-1\", \"9-2\", \"9-3\", \"9-4\"], \"y\": [8.0, 0.0, 7.0, 1.0, 3.0, 7.0, 5.0], \"type\": \"scatter\", \"uid\": \"3e36970f-dbfd-11e8-8ddb-a41f72875c19\"}], {\"title\": \"\\u603b\\u4e0b\\u5355\\u6570&\\u5b8c\\u6210\\u4e0b\\u5355\\u6570\\u5468\\u8d8b\\u52bf\\u56fe\", \"xaxis\": {\"mirror\": \"all\", \"nticks\": 20, \"showgrid\": true, \"showline\": true, \"title\": \"\\u5468\", \"type\": \"category\", \"zeroline\": true}, \"yaxis\": {\"mirror\": \"all\", \"nticks\": 20, \"showgrid\": true, \"showline\": true, \"title\": \"\\u603b\\u4e0b\\u5355\\u6570&\\u5b8c\\u6210\\u4e0b\\u5355\\u6570\", \"zeroline\": true}}, {\"showLink\": true, \"linkText\": \"Export to plot.ly\"})});</script>"
      ],
      "text/vnd.plotly.v1+html": [
       "<div id=\"c0c623b3-5897-42eb-839d-fc7c50a61634\" style=\"height: 525px; width: 100%;\" class=\"plotly-graph-div\"></div><script type=\"text/javascript\">require([\"plotly\"], function(Plotly) { window.PLOTLYENV=window.PLOTLYENV || {};window.PLOTLYENV.BASE_URL=\"https://plot.ly\";Plotly.newPlot(\"c0c623b3-5897-42eb-839d-fc7c50a61634\", [{\"line\": {\"dash\": \"solid\"}, \"name\": \"\\u603b\\u4e0b\\u5355\\u6570(\\u97e9\\u5c11\\u6000)\", \"x\": [\"10-4\", \"8-3\", \"8-4\", \"9-1\", \"9-2\", \"9-3\", \"9-4\"], \"y\": [4.0, 3.0, 4.0, 4.0, 5.0, 5.0, null], \"type\": \"scatter\", \"uid\": \"3e3696ca-dbfd-11e8-8ddb-a41f72875c19\"}, {\"line\": {\"dash\": \"dot\"}, \"name\": \"\\u603b\\u4e0b\\u5355\\u6570(\\u82cf\\u5f66\\u52cb)\", \"x\": [\"10-4\", \"8-3\", \"8-4\", \"9-1\", \"9-2\", \"9-3\", \"9-4\"], \"y\": [7.0, 4.0, 6.0, 5.0, 6.0, 9.0, null], \"type\": \"scatter\", \"uid\": \"3e3696cb-dbfd-11e8-8ddb-a41f72875c19\"}, {\"line\": {\"dash\": \"dash\"}, \"name\": \"\\u603b\\u4e0b\\u5355\\u6570(\\u5b5f\\u660a)\", \"x\": [\"10-4\", \"8-3\", \"8-4\", \"9-1\", \"9-2\", \"9-3\", \"9-4\"], \"y\": [7.0, 4.0, 4.0, 2.0, 3.0, 5.0, 8.0], \"type\": \"scatter\", \"uid\": \"3e3696cc-dbfd-11e8-8ddb-a41f72875c19\"}, {\"line\": {\"dash\": \"longdash\"}, \"name\": \"\\u603b\\u4e0b\\u5355\\u6570(\\u4efb\\u96ea)\", \"x\": [\"10-4\", \"8-3\", \"8-4\", \"9-1\", \"9-2\", \"9-3\", \"9-4\"], \"y\": [3.0, null, 2.0, 4.0, 5.0, 2.0, 5.0], \"type\": \"scatter\", \"uid\": \"3e3696cd-dbfd-11e8-8ddb-a41f72875c19\"}, {\"line\": {\"dash\": \"dashdot\"}, \"name\": \"\\u603b\\u4e0b\\u5355\\u6570(\\u6d82\\u6210\\u82b3)\", \"x\": [\"10-4\", \"8-3\", \"8-4\", \"9-1\", \"9-2\", \"9-3\", \"9-4\"], \"y\": [1.0, null, null, null, null, null, null], \"type\": \"scatter\", \"uid\": \"3e3696ce-dbfd-11e8-8ddb-a41f72875c19\"}, {\"line\": {\"dash\": \"longdashdot\"}, \"name\": \"\\u603b\\u4e0b\\u5355\\u6570(\\u4e8e\\u52c7\\u4e00)\", \"x\": [\"10-4\", \"8-3\", \"8-4\", \"9-1\", \"9-2\", \"9-3\", \"9-4\"], \"y\": [4.0, 3.0, 4.0, 5.0, 4.0, 6.0, 5.0], \"type\": \"scatter\", \"uid\": \"3e3696cf-dbfd-11e8-8ddb-a41f72875c19\"}, {\"line\": {\"dash\": \"solid\"}, \"name\": \"\\u603b\\u4e0b\\u5355\\u6570(\\u8def\\u6167\\u840d)\", \"x\": [\"10-4\", \"8-3\", \"8-4\", \"9-1\", \"9-2\", \"9-3\", \"9-4\"], \"y\": [8.0, 5.0, 8.0, 7.0, 5.0, 7.0, null], \"type\": \"scatter\", \"uid\": \"3e3696d0-dbfd-11e8-8ddb-a41f72875c19\"}, {\"line\": {\"dash\": \"dot\"}, \"name\": \"\\u603b\\u4e0b\\u5355\\u6570(\\u6768\\u4f1f\\u98de)\", \"x\": [\"10-4\", \"8-3\", \"8-4\", \"9-1\", \"9-2\", \"9-3\", \"9-4\"], \"y\": [5.0, 3.0, 6.0, 4.0, 6.0, 7.0, 6.0], \"type\": \"scatter\", \"uid\": \"3e3696d1-dbfd-11e8-8ddb-a41f72875c19\"}, {\"line\": {\"dash\": \"dash\"}, \"name\": \"\\u603b\\u4e0b\\u5355\\u6570(\\u6636\\u5409\\u9633)\", \"x\": [\"10-4\", \"8-3\", \"8-4\", \"9-1\", \"9-2\", \"9-3\", \"9-4\"], \"y\": [4.0, null, null, null, null, null, null], \"type\": \"scatter\", \"uid\": \"3e3696d2-dbfd-11e8-8ddb-a41f72875c19\"}, {\"line\": {\"dash\": \"longdash\"}, \"name\": \"\\u603b\\u4e0b\\u5355\\u6570(\\u738b\\u5b81)\", \"x\": [\"10-4\", \"8-3\", \"8-4\", \"9-1\", \"9-2\", \"9-3\", \"9-4\"], \"y\": [null, 6.0, 6.0, 6.0, null, null, null], \"type\": \"scatter\", \"uid\": \"3e3696d3-dbfd-11e8-8ddb-a41f72875c19\"}, {\"line\": {\"dash\": \"dashdot\"}, \"name\": \"\\u603b\\u4e0b\\u5355\\u6570(\\u8f66\\u5929\\u680b)\", \"x\": [\"10-4\", \"8-3\", \"8-4\", \"9-1\", \"9-2\", \"9-3\", \"9-4\"], \"y\": [1.0, null, null, null, null, null, null], \"type\": \"scatter\", \"uid\": \"3e3696d4-dbfd-11e8-8ddb-a41f72875c19\"}, {\"line\": {\"dash\": \"longdashdot\"}, \"name\": \"\\u603b\\u4e0b\\u5355\\u6570(\\u5468\\u6768)\", \"x\": [\"10-4\", \"8-3\", \"8-4\", \"9-1\", \"9-2\", \"9-3\", \"9-4\"], \"y\": [7.0, 2.0, 6.0, 4.0, 4.0, 7.0, 9.0], \"type\": \"scatter\", \"uid\": \"3e3696d5-dbfd-11e8-8ddb-a41f72875c19\"}, {\"line\": {\"dash\": \"solid\"}, \"name\": \"\\u603b\\u4e0b\\u5355\\u6570(\\u6bb5\\u5229\\u5f3a)\", \"x\": [\"10-4\", \"8-3\", \"8-4\", \"9-1\", \"9-2\", \"9-3\", \"9-4\"], \"y\": [null, null, null, null, null, null, 6.0], \"type\": \"scatter\", \"uid\": \"3e3696d6-dbfd-11e8-8ddb-a41f72875c19\"}, {\"line\": {\"dash\": \"dot\"}, \"name\": \"\\u603b\\u4e0b\\u5355\\u6570(\\u8d75\\u73a5)\", \"x\": [\"10-4\", \"8-3\", \"8-4\", \"9-1\", \"9-2\", \"9-3\", \"9-4\"], \"y\": [5.0, 6.0, 4.0, 6.0, 4.0, 12.0, 4.0], \"type\": \"scatter\", \"uid\": \"3e3696d7-dbfd-11e8-8ddb-a41f72875c19\"}, {\"line\": {\"dash\": \"dash\"}, \"name\": \"\\u603b\\u4e0b\\u5355\\u6570(\\u51b7\\u96ea)\", \"x\": [\"10-4\", \"8-3\", \"8-4\", \"9-1\", \"9-2\", \"9-3\", \"9-4\"], \"y\": [1.0, null, null, null, null, null, null], \"type\": \"scatter\", \"uid\": \"3e3696d8-dbfd-11e8-8ddb-a41f72875c19\"}, {\"line\": {\"dash\": \"longdash\"}, \"name\": \"\\u603b\\u4e0b\\u5355\\u6570(\\u51af\\u656c\\u5ca9)\", \"x\": [\"10-4\", \"8-3\", \"8-4\", \"9-1\", \"9-2\", \"9-3\", \"9-4\"], \"y\": [1.0, null, null, null, null, null, null], \"type\": \"scatter\", \"uid\": \"3e3696d9-dbfd-11e8-8ddb-a41f72875c19\"}, {\"line\": {\"dash\": \"dashdot\"}, \"name\": \"\\u603b\\u4e0b\\u5355\\u6570(\\u59da\\u76df\\u6210)\", \"x\": [\"10-4\", \"8-3\", \"8-4\", \"9-1\", \"9-2\", \"9-3\", \"9-4\"], \"y\": [4.0, 4.0, 4.0, 4.0, 5.0, 4.0, 7.0], \"type\": \"scatter\", \"uid\": \"3e3696da-dbfd-11e8-8ddb-a41f72875c19\"}, {\"line\": {\"dash\": \"longdashdot\"}, \"name\": \"\\u603b\\u4e0b\\u5355\\u6570(\\u674e\\u534e\\u4e91)\", \"x\": [\"10-4\", \"8-3\", \"8-4\", \"9-1\", \"9-2\", \"9-3\", \"9-4\"], \"y\": [6.0, 5.0, 3.0, 5.0, 5.0, 5.0, null], \"type\": \"scatter\", \"uid\": \"3e3696db-dbfd-11e8-8ddb-a41f72875c19\"}, {\"line\": {\"dash\": \"solid\"}, \"name\": \"\\u603b\\u4e0b\\u5355\\u6570(\\u9648\\u9e4f\\u71d5)\", \"x\": [\"10-4\", \"8-3\", \"8-4\", \"9-1\", \"9-2\", \"9-3\", \"9-4\"], \"y\": [4.0, null, null, null, null, null, null], \"type\": \"scatter\", \"uid\": \"3e3696dc-dbfd-11e8-8ddb-a41f72875c19\"}, {\"line\": {\"dash\": \"dot\"}, \"name\": \"\\u603b\\u4e0b\\u5355\\u6570(\\u5218\\u6167\\u73b2)\", \"x\": [\"10-4\", \"8-3\", \"8-4\", \"9-1\", \"9-2\", \"9-3\", \"9-4\"], \"y\": [null, 4.0, 4.0, 5.0, null, null, null], \"type\": \"scatter\", \"uid\": \"3e3696dd-dbfd-11e8-8ddb-a41f72875c19\"}, {\"line\": {\"dash\": \"dash\"}, \"name\": \"\\u603b\\u4e0b\\u5355\\u6570(\\u6c88\\u6069\\u60e0)\", \"x\": [\"10-4\", \"8-3\", \"8-4\", \"9-1\", \"9-2\", \"9-3\", \"9-4\"], \"y\": [2.0, null, null, null, null, null, null], \"type\": \"scatter\", \"uid\": \"3e3696de-dbfd-11e8-8ddb-a41f72875c19\"}, {\"line\": {\"dash\": \"longdash\"}, \"name\": \"\\u603b\\u4e0b\\u5355\\u6570(\\u6797\\u6587\\u6587)\", \"x\": [\"10-4\", \"8-3\", \"8-4\", \"9-1\", \"9-2\", \"9-3\", \"9-4\"], \"y\": [1.0, null, null, null, null, null, null], \"type\": \"scatter\", \"uid\": \"3e3696df-dbfd-11e8-8ddb-a41f72875c19\"}, {\"line\": {\"dash\": \"dashdot\"}, \"name\": \"\\u603b\\u4e0b\\u5355\\u6570(\\u8c22\\u5fb7\\u5065)\", \"x\": [\"10-4\", \"8-3\", \"8-4\", \"9-1\", \"9-2\", \"9-3\", \"9-4\"], \"y\": [4.0, 2.0, 4.0, null, 4.0, 5.0, 4.0], \"type\": \"scatter\", \"uid\": \"3e3696e0-dbfd-11e8-8ddb-a41f72875c19\"}, {\"line\": {\"dash\": \"longdashdot\"}, \"name\": \"\\u603b\\u4e0b\\u5355\\u6570(\\u5218\\u6c5f)\", \"x\": [\"10-4\", \"8-3\", \"8-4\", \"9-1\", \"9-2\", \"9-3\", \"9-4\"], \"y\": [6.0, 7.0, 8.0, 7.0, 8.0, 5.0, 6.0], \"type\": \"scatter\", \"uid\": \"3e3696e1-dbfd-11e8-8ddb-a41f72875c19\"}, {\"line\": {\"dash\": \"solid\"}, \"name\": \"\\u603b\\u4e0b\\u5355\\u6570(\\u738b\\u7ea2)\", \"x\": [\"10-4\", \"8-3\", \"8-4\", \"9-1\", \"9-2\", \"9-3\", \"9-4\"], \"y\": [1.0, null, null, null, null, null, null], \"type\": \"scatter\", \"uid\": \"3e3696e2-dbfd-11e8-8ddb-a41f72875c19\"}, {\"line\": {\"dash\": \"dot\"}, \"name\": \"\\u603b\\u4e0b\\u5355\\u6570(\\u674e\\u5e86\\u539f)\", \"x\": [\"10-4\", \"8-3\", \"8-4\", \"9-1\", \"9-2\", \"9-3\", \"9-4\"], \"y\": [4.0, 2.0, 5.0, 3.0, 3.0, 6.0, null], \"type\": \"scatter\", \"uid\": \"3e3696e3-dbfd-11e8-8ddb-a41f72875c19\"}, {\"line\": {\"dash\": \"dash\"}, \"name\": \"\\u603b\\u4e0b\\u5355\\u6570(\\u9a6c\\u6f47)\", \"x\": [\"10-4\", \"8-3\", \"8-4\", \"9-1\", \"9-2\", \"9-3\", \"9-4\"], \"y\": [7.0, 5.0, 3.0, 4.0, 5.0, 6.0, 0.0], \"type\": \"scatter\", \"uid\": \"3e3696e4-dbfd-11e8-8ddb-a41f72875c19\"}, {\"line\": {\"dash\": \"longdash\"}, \"name\": \"\\u603b\\u4e0b\\u5355\\u6570(\\u5360\\u4f1f)\", \"x\": [\"10-4\", \"8-3\", \"8-4\", \"9-1\", \"9-2\", \"9-3\", \"9-4\"], \"y\": [6.0, 4.0, 6.0, 7.0, 8.0, 7.0, 7.0], \"type\": \"scatter\", \"uid\": \"3e3696e5-dbfd-11e8-8ddb-a41f72875c19\"}, {\"line\": {\"dash\": \"dashdot\"}, \"name\": \"\\u603b\\u4e0b\\u5355\\u6570(\\u5b8b\\u8fce\\u6960)\", \"x\": [\"10-4\", \"8-3\", \"8-4\", \"9-1\", \"9-2\", \"9-3\", \"9-4\"], \"y\": [null, 4.0, 3.0, 4.0, null, null, null], \"type\": \"scatter\", \"uid\": \"3e3696e6-dbfd-11e8-8ddb-a41f72875c19\"}, {\"line\": {\"dash\": \"longdashdot\"}, \"name\": \"\\u603b\\u4e0b\\u5355\\u6570(\\u8303\\u65ed\\u5b81)\", \"x\": [\"10-4\", \"8-3\", \"8-4\", \"9-1\", \"9-2\", \"9-3\", \"9-4\"], \"y\": [4.0, 4.0, 4.0, 5.0, 7.0, 5.0, 4.0], \"type\": \"scatter\", \"uid\": \"3e3696e7-dbfd-11e8-8ddb-a41f72875c19\"}, {\"line\": {\"dash\": \"solid\"}, \"name\": \"\\u603b\\u4e0b\\u5355\\u6570(\\u5c48\\u6602)\", \"x\": [\"10-4\", \"8-3\", \"8-4\", \"9-1\", \"9-2\", \"9-3\", \"9-4\"], \"y\": [1.0, null, null, null, null, null, null], \"type\": \"scatter\", \"uid\": \"3e3696e8-dbfd-11e8-8ddb-a41f72875c19\"}, {\"line\": {\"dash\": \"dot\"}, \"name\": \"\\u603b\\u4e0b\\u5355\\u6570(\\u5f20\\u5b88\\u4f1f)\", \"x\": [\"10-4\", \"8-3\", \"8-4\", \"9-1\", \"9-2\", \"9-3\", \"9-4\"], \"y\": [4.0, 4.0, 4.0, 4.0, 3.0, 4.0, 5.0], \"type\": \"scatter\", \"uid\": \"3e3696e9-dbfd-11e8-8ddb-a41f72875c19\"}, {\"line\": {\"dash\": \"dash\"}, \"name\": \"\\u603b\\u4e0b\\u5355\\u6570(\\u5c01\\u5f66\\u6770)\", \"x\": [\"10-4\", \"8-3\", \"8-4\", \"9-1\", \"9-2\", \"9-3\", \"9-4\"], \"y\": [6.0, 9.0, 6.0, 5.0, 4.0, 8.0, 7.0], \"type\": \"scatter\", \"uid\": \"3e3696ea-dbfd-11e8-8ddb-a41f72875c19\"}, {\"line\": {\"dash\": \"longdash\"}, \"name\": \"\\u603b\\u4e0b\\u5355\\u6570(\\u5f20\\u60a6)\", \"x\": [\"10-4\", \"8-3\", \"8-4\", \"9-1\", \"9-2\", \"9-3\", \"9-4\"], \"y\": [1.0, null, null, null, null, null, null], \"type\": \"scatter\", \"uid\": \"3e3696eb-dbfd-11e8-8ddb-a41f72875c19\"}, {\"line\": {\"dash\": \"dashdot\"}, \"name\": \"\\u603b\\u4e0b\\u5355\\u6570(\\u4e8e\\u6167)\", \"x\": [\"10-4\", \"8-3\", \"8-4\", \"9-1\", \"9-2\", \"9-3\", \"9-4\"], \"y\": [8.0, 0.0, 7.0, 2.0, 3.0, 7.0, 6.0], \"type\": \"scatter\", \"uid\": \"3e3696ec-dbfd-11e8-8ddb-a41f72875c19\"}, {\"line\": {\"dash\": \"solid\"}, \"name\": \"\\u5b8c\\u6210\\u4e0b\\u5355\\u6570(\\u97e9\\u5c11\\u6000)\", \"x\": [\"10-4\", \"8-3\", \"8-4\", \"9-1\", \"9-2\", \"9-3\", \"9-4\"], \"y\": [4.0, 3.0, 4.0, 4.0, 5.0, 5.0, null], \"type\": \"scatter\", \"uid\": \"3e3696ed-dbfd-11e8-8ddb-a41f72875c19\"}, {\"line\": {\"dash\": \"dot\"}, \"name\": \"\\u5b8c\\u6210\\u4e0b\\u5355\\u6570(\\u82cf\\u5f66\\u52cb)\", \"x\": [\"10-4\", \"8-3\", \"8-4\", \"9-1\", \"9-2\", \"9-3\", \"9-4\"], \"y\": [7.0, 4.0, 6.0, 5.0, 5.0, 9.0, null], \"type\": \"scatter\", \"uid\": \"3e3696ee-dbfd-11e8-8ddb-a41f72875c19\"}, {\"line\": {\"dash\": \"dash\"}, \"name\": \"\\u5b8c\\u6210\\u4e0b\\u5355\\u6570(\\u5b5f\\u660a)\", \"x\": [\"10-4\", \"8-3\", \"8-4\", \"9-1\", \"9-2\", \"9-3\", \"9-4\"], \"y\": [7.0, 4.0, 4.0, 2.0, 2.0, 5.0, 8.0], \"type\": \"scatter\", \"uid\": \"3e3696ef-dbfd-11e8-8ddb-a41f72875c19\"}, {\"line\": {\"dash\": \"longdash\"}, \"name\": \"\\u5b8c\\u6210\\u4e0b\\u5355\\u6570(\\u4efb\\u96ea)\", \"x\": [\"10-4\", \"8-3\", \"8-4\", \"9-1\", \"9-2\", \"9-3\", \"9-4\"], \"y\": [2.0, null, 2.0, 3.0, 4.0, 0.0, 4.0], \"type\": \"scatter\", \"uid\": \"3e3696f0-dbfd-11e8-8ddb-a41f72875c19\"}, {\"line\": {\"dash\": \"dashdot\"}, \"name\": \"\\u5b8c\\u6210\\u4e0b\\u5355\\u6570(\\u6d82\\u6210\\u82b3)\", \"x\": [\"10-4\", \"8-3\", \"8-4\", \"9-1\", \"9-2\", \"9-3\", \"9-4\"], \"y\": [1.0, null, null, null, null, null, null], \"type\": \"scatter\", \"uid\": \"3e3696f1-dbfd-11e8-8ddb-a41f72875c19\"}, {\"line\": {\"dash\": \"longdashdot\"}, \"name\": \"\\u5b8c\\u6210\\u4e0b\\u5355\\u6570(\\u4e8e\\u52c7\\u4e00)\", \"x\": [\"10-4\", \"8-3\", \"8-4\", \"9-1\", \"9-2\", \"9-3\", \"9-4\"], \"y\": [4.0, 3.0, 2.0, 4.0, 2.0, 7.0, 7.0], \"type\": \"scatter\", \"uid\": \"3e3696f2-dbfd-11e8-8ddb-a41f72875c19\"}, {\"line\": {\"dash\": \"solid\"}, \"name\": \"\\u5b8c\\u6210\\u4e0b\\u5355\\u6570(\\u8def\\u6167\\u840d)\", \"x\": [\"10-4\", \"8-3\", \"8-4\", \"9-1\", \"9-2\", \"9-3\", \"9-4\"], \"y\": [8.0, 5.0, 8.0, 6.0, 5.0, 5.0, null], \"type\": \"scatter\", \"uid\": \"3e3696f3-dbfd-11e8-8ddb-a41f72875c19\"}, {\"line\": {\"dash\": \"dot\"}, \"name\": \"\\u5b8c\\u6210\\u4e0b\\u5355\\u6570(\\u6768\\u4f1f\\u98de)\", \"x\": [\"10-4\", \"8-3\", \"8-4\", \"9-1\", \"9-2\", \"9-3\", \"9-4\"], \"y\": [3.0, 1.0, 5.0, 8.0, 5.0, 7.0, 6.0], \"type\": \"scatter\", \"uid\": \"3e3696f4-dbfd-11e8-8ddb-a41f72875c19\"}, {\"line\": {\"dash\": \"dash\"}, \"name\": \"\\u5b8c\\u6210\\u4e0b\\u5355\\u6570(\\u6636\\u5409\\u9633)\", \"x\": [\"10-4\", \"8-3\", \"8-4\", \"9-1\", \"9-2\", \"9-3\", \"9-4\"], \"y\": [4.0, null, null, null, null, null, null], \"type\": \"scatter\", \"uid\": \"3e3696f5-dbfd-11e8-8ddb-a41f72875c19\"}, {\"line\": {\"dash\": \"longdash\"}, \"name\": \"\\u5b8c\\u6210\\u4e0b\\u5355\\u6570(\\u738b\\u5b81)\", \"x\": [\"10-4\", \"8-3\", \"8-4\", \"9-1\", \"9-2\", \"9-3\", \"9-4\"], \"y\": [null, 6.0, 6.0, 7.0, null, null, null], \"type\": \"scatter\", \"uid\": \"3e3696f6-dbfd-11e8-8ddb-a41f72875c19\"}, {\"line\": {\"dash\": \"dashdot\"}, \"name\": \"\\u5b8c\\u6210\\u4e0b\\u5355\\u6570(\\u8f66\\u5929\\u680b)\", \"x\": [\"10-4\", \"8-3\", \"8-4\", \"9-1\", \"9-2\", \"9-3\", \"9-4\"], \"y\": [1.0, null, null, null, null, null, null], \"type\": \"scatter\", \"uid\": \"3e3696f7-dbfd-11e8-8ddb-a41f72875c19\"}, {\"line\": {\"dash\": \"longdashdot\"}, \"name\": \"\\u5b8c\\u6210\\u4e0b\\u5355\\u6570(\\u5468\\u6768)\", \"x\": [\"10-4\", \"8-3\", \"8-4\", \"9-1\", \"9-2\", \"9-3\", \"9-4\"], \"y\": [7.0, 2.0, 5.0, 4.0, 4.0, 7.0, 9.0], \"type\": \"scatter\", \"uid\": \"3e3696f8-dbfd-11e8-8ddb-a41f72875c19\"}, {\"line\": {\"dash\": \"solid\"}, \"name\": \"\\u5b8c\\u6210\\u4e0b\\u5355\\u6570(\\u6bb5\\u5229\\u5f3a)\", \"x\": [\"10-4\", \"8-3\", \"8-4\", \"9-1\", \"9-2\", \"9-3\", \"9-4\"], \"y\": [null, null, null, null, null, null, 6.0], \"type\": \"scatter\", \"uid\": \"3e3696f9-dbfd-11e8-8ddb-a41f72875c19\"}, {\"line\": {\"dash\": \"dot\"}, \"name\": \"\\u5b8c\\u6210\\u4e0b\\u5355\\u6570(\\u8d75\\u73a5)\", \"x\": [\"10-4\", \"8-3\", \"8-4\", \"9-1\", \"9-2\", \"9-3\", \"9-4\"], \"y\": [4.0, 6.0, 4.0, 4.0, 4.0, 11.0, 4.0], \"type\": \"scatter\", \"uid\": \"3e3696fa-dbfd-11e8-8ddb-a41f72875c19\"}, {\"line\": {\"dash\": \"dash\"}, \"name\": \"\\u5b8c\\u6210\\u4e0b\\u5355\\u6570(\\u51b7\\u96ea)\", \"x\": [\"10-4\", \"8-3\", \"8-4\", \"9-1\", \"9-2\", \"9-3\", \"9-4\"], \"y\": [1.0, null, null, null, null, null, null], \"type\": \"scatter\", \"uid\": \"3e3696fb-dbfd-11e8-8ddb-a41f72875c19\"}, {\"line\": {\"dash\": \"longdash\"}, \"name\": \"\\u5b8c\\u6210\\u4e0b\\u5355\\u6570(\\u51af\\u656c\\u5ca9)\", \"x\": [\"10-4\", \"8-3\", \"8-4\", \"9-1\", \"9-2\", \"9-3\", \"9-4\"], \"y\": [0.0, null, null, null, null, null, null], \"type\": \"scatter\", \"uid\": \"3e3696fc-dbfd-11e8-8ddb-a41f72875c19\"}, {\"line\": {\"dash\": \"dashdot\"}, \"name\": \"\\u5b8c\\u6210\\u4e0b\\u5355\\u6570(\\u59da\\u76df\\u6210)\", \"x\": [\"10-4\", \"8-3\", \"8-4\", \"9-1\", \"9-2\", \"9-3\", \"9-4\"], \"y\": [4.0, 4.0, 3.0, 4.0, 5.0, 4.0, 7.0], \"type\": \"scatter\", \"uid\": \"3e3696fd-dbfd-11e8-8ddb-a41f72875c19\"}, {\"line\": {\"dash\": \"longdashdot\"}, \"name\": \"\\u5b8c\\u6210\\u4e0b\\u5355\\u6570(\\u674e\\u534e\\u4e91)\", \"x\": [\"10-4\", \"8-3\", \"8-4\", \"9-1\", \"9-2\", \"9-3\", \"9-4\"], \"y\": [4.0, 4.0, 3.0, 4.0, 5.0, 5.0, null], \"type\": \"scatter\", \"uid\": \"3e3696fe-dbfd-11e8-8ddb-a41f72875c19\"}, {\"line\": {\"dash\": \"solid\"}, \"name\": \"\\u5b8c\\u6210\\u4e0b\\u5355\\u6570(\\u9648\\u9e4f\\u71d5)\", \"x\": [\"10-4\", \"8-3\", \"8-4\", \"9-1\", \"9-2\", \"9-3\", \"9-4\"], \"y\": [4.0, null, null, null, null, null, null], \"type\": \"scatter\", \"uid\": \"3e3696ff-dbfd-11e8-8ddb-a41f72875c19\"}, {\"line\": {\"dash\": \"dot\"}, \"name\": \"\\u5b8c\\u6210\\u4e0b\\u5355\\u6570(\\u5218\\u6167\\u73b2)\", \"x\": [\"10-4\", \"8-3\", \"8-4\", \"9-1\", \"9-2\", \"9-3\", \"9-4\"], \"y\": [null, 3.0, 3.0, 4.0, null, null, null], \"type\": \"scatter\", \"uid\": \"3e369700-dbfd-11e8-8ddb-a41f72875c19\"}, {\"line\": {\"dash\": \"dash\"}, \"name\": \"\\u5b8c\\u6210\\u4e0b\\u5355\\u6570(\\u6c88\\u6069\\u60e0)\", \"x\": [\"10-4\", \"8-3\", \"8-4\", \"9-1\", \"9-2\", \"9-3\", \"9-4\"], \"y\": [2.0, null, null, null, null, null, null], \"type\": \"scatter\", \"uid\": \"3e369701-dbfd-11e8-8ddb-a41f72875c19\"}, {\"line\": {\"dash\": \"longdash\"}, \"name\": \"\\u5b8c\\u6210\\u4e0b\\u5355\\u6570(\\u6797\\u6587\\u6587)\", \"x\": [\"10-4\", \"8-3\", \"8-4\", \"9-1\", \"9-2\", \"9-3\", \"9-4\"], \"y\": [1.0, null, null, null, null, null, null], \"type\": \"scatter\", \"uid\": \"3e369702-dbfd-11e8-8ddb-a41f72875c19\"}, {\"line\": {\"dash\": \"dashdot\"}, \"name\": \"\\u5b8c\\u6210\\u4e0b\\u5355\\u6570(\\u8c22\\u5fb7\\u5065)\", \"x\": [\"10-4\", \"8-3\", \"8-4\", \"9-1\", \"9-2\", \"9-3\", \"9-4\"], \"y\": [4.0, 1.0, 4.0, null, 3.0, 5.0, 4.0], \"type\": \"scatter\", \"uid\": \"3e369703-dbfd-11e8-8ddb-a41f72875c19\"}, {\"line\": {\"dash\": \"longdashdot\"}, \"name\": \"\\u5b8c\\u6210\\u4e0b\\u5355\\u6570(\\u5218\\u6c5f)\", \"x\": [\"10-4\", \"8-3\", \"8-4\", \"9-1\", \"9-2\", \"9-3\", \"9-4\"], \"y\": [6.0, 4.0, 10.0, 7.0, 7.0, 5.0, 6.0], \"type\": \"scatter\", \"uid\": \"3e369704-dbfd-11e8-8ddb-a41f72875c19\"}, {\"line\": {\"dash\": \"solid\"}, \"name\": \"\\u5b8c\\u6210\\u4e0b\\u5355\\u6570(\\u738b\\u7ea2)\", \"x\": [\"10-4\", \"8-3\", \"8-4\", \"9-1\", \"9-2\", \"9-3\", \"9-4\"], \"y\": [1.0, null, null, null, null, null, null], \"type\": \"scatter\", \"uid\": \"3e369705-dbfd-11e8-8ddb-a41f72875c19\"}, {\"line\": {\"dash\": \"dot\"}, \"name\": \"\\u5b8c\\u6210\\u4e0b\\u5355\\u6570(\\u674e\\u5e86\\u539f)\", \"x\": [\"10-4\", \"8-3\", \"8-4\", \"9-1\", \"9-2\", \"9-3\", \"9-4\"], \"y\": [4.0, 2.0, 5.0, 3.0, 3.0, 6.0, null], \"type\": \"scatter\", \"uid\": \"3e369706-dbfd-11e8-8ddb-a41f72875c19\"}, {\"line\": {\"dash\": \"dash\"}, \"name\": \"\\u5b8c\\u6210\\u4e0b\\u5355\\u6570(\\u9a6c\\u6f47)\", \"x\": [\"10-4\", \"8-3\", \"8-4\", \"9-1\", \"9-2\", \"9-3\", \"9-4\"], \"y\": [7.0, 3.0, 3.0, 4.0, 5.0, 5.0, 0.0], \"type\": \"scatter\", \"uid\": \"3e369707-dbfd-11e8-8ddb-a41f72875c19\"}, {\"line\": {\"dash\": \"longdash\"}, \"name\": \"\\u5b8c\\u6210\\u4e0b\\u5355\\u6570(\\u5360\\u4f1f)\", \"x\": [\"10-4\", \"8-3\", \"8-4\", \"9-1\", \"9-2\", \"9-3\", \"9-4\"], \"y\": [4.0, 2.0, 3.0, 7.0, 8.0, 5.0, 6.0], \"type\": \"scatter\", \"uid\": \"3e369708-dbfd-11e8-8ddb-a41f72875c19\"}, {\"line\": {\"dash\": \"dashdot\"}, \"name\": \"\\u5b8c\\u6210\\u4e0b\\u5355\\u6570(\\u5b8b\\u8fce\\u6960)\", \"x\": [\"10-4\", \"8-3\", \"8-4\", \"9-1\", \"9-2\", \"9-3\", \"9-4\"], \"y\": [null, 4.0, 3.0, 4.0, null, null, null], \"type\": \"scatter\", \"uid\": \"3e369709-dbfd-11e8-8ddb-a41f72875c19\"}, {\"line\": {\"dash\": \"longdashdot\"}, \"name\": \"\\u5b8c\\u6210\\u4e0b\\u5355\\u6570(\\u8303\\u65ed\\u5b81)\", \"x\": [\"10-4\", \"8-3\", \"8-4\", \"9-1\", \"9-2\", \"9-3\", \"9-4\"], \"y\": [4.0, 3.0, 3.0, 4.0, 7.0, 5.0, 3.0], \"type\": \"scatter\", \"uid\": \"3e36970a-dbfd-11e8-8ddb-a41f72875c19\"}, {\"line\": {\"dash\": \"solid\"}, \"name\": \"\\u5b8c\\u6210\\u4e0b\\u5355\\u6570(\\u5c48\\u6602)\", \"x\": [\"10-4\", \"8-3\", \"8-4\", \"9-1\", \"9-2\", \"9-3\", \"9-4\"], \"y\": [1.0, null, null, null, null, null, null], \"type\": \"scatter\", \"uid\": \"3e36970b-dbfd-11e8-8ddb-a41f72875c19\"}, {\"line\": {\"dash\": \"dot\"}, \"name\": \"\\u5b8c\\u6210\\u4e0b\\u5355\\u6570(\\u5f20\\u5b88\\u4f1f)\", \"x\": [\"10-4\", \"8-3\", \"8-4\", \"9-1\", \"9-2\", \"9-3\", \"9-4\"], \"y\": [3.0, 3.0, 4.0, 3.0, 3.0, 3.0, 4.0], \"type\": \"scatter\", \"uid\": \"3e36970c-dbfd-11e8-8ddb-a41f72875c19\"}, {\"line\": {\"dash\": \"dash\"}, \"name\": \"\\u5b8c\\u6210\\u4e0b\\u5355\\u6570(\\u5c01\\u5f66\\u6770)\", \"x\": [\"10-4\", \"8-3\", \"8-4\", \"9-1\", \"9-2\", \"9-3\", \"9-4\"], \"y\": [5.0, 9.0, 6.0, 5.0, 3.0, 8.0, 7.0], \"type\": \"scatter\", \"uid\": \"3e36970d-dbfd-11e8-8ddb-a41f72875c19\"}, {\"line\": {\"dash\": \"longdash\"}, \"name\": \"\\u5b8c\\u6210\\u4e0b\\u5355\\u6570(\\u5f20\\u60a6)\", \"x\": [\"10-4\", \"8-3\", \"8-4\", \"9-1\", \"9-2\", \"9-3\", \"9-4\"], \"y\": [0.0, null, null, null, null, null, null], \"type\": \"scatter\", \"uid\": \"3e36970e-dbfd-11e8-8ddb-a41f72875c19\"}, {\"line\": {\"dash\": \"dashdot\"}, \"name\": \"\\u5b8c\\u6210\\u4e0b\\u5355\\u6570(\\u4e8e\\u6167)\", \"x\": [\"10-4\", \"8-3\", \"8-4\", \"9-1\", \"9-2\", \"9-3\", \"9-4\"], \"y\": [8.0, 0.0, 7.0, 1.0, 3.0, 7.0, 5.0], \"type\": \"scatter\", \"uid\": \"3e36970f-dbfd-11e8-8ddb-a41f72875c19\"}], {\"title\": \"\\u603b\\u4e0b\\u5355\\u6570&\\u5b8c\\u6210\\u4e0b\\u5355\\u6570\\u5468\\u8d8b\\u52bf\\u56fe\", \"xaxis\": {\"mirror\": \"all\", \"nticks\": 20, \"showgrid\": true, \"showline\": true, \"title\": \"\\u5468\", \"type\": \"category\", \"zeroline\": true}, \"yaxis\": {\"mirror\": \"all\", \"nticks\": 20, \"showgrid\": true, \"showline\": true, \"title\": \"\\u603b\\u4e0b\\u5355\\u6570&\\u5b8c\\u6210\\u4e0b\\u5355\\u6570\", \"zeroline\": true}}, {\"showLink\": true, \"linkText\": \"Export to plot.ly\"})});</script>"
      ]
     },
     "metadata": {},
     "output_type": "display_data"
    }
   ],
   "source": [
    "ss=myModule.format(all_dict ,\"日期\" ,['总下单数', '完成下单数'])\n",
    "ss.add_group('负责人')\n",
    "tt = myModule.myPlot(ss.groupby('sum'))\n",
    "tt.plot('line')"
   ]
  },
  {
   "cell_type": "markdown",
   "metadata": {},
   "source": [
    "### 高质量报告"
   ]
  },
  {
   "cell_type": "markdown",
   "metadata": {},
   "source": [
    "#### 应交高质量报告数和提交高质量报告数"
   ]
  },
  {
   "cell_type": "code",
   "execution_count": 13,
   "metadata": {
    "collapsed": false
   },
   "outputs": [
    {
     "data": {
      "application/vnd.plotly.v1+json": {
       "data": [
        {
         "line": {
          "dash": "solid"
         },
         "name": "应交高质量报告数(韩少怀)",
         "type": "scatter",
         "uid": "3e369710-dbfd-11e8-8ddb-a41f72875c19",
         "x": [
          "10-4",
          "8-3",
          "8-4",
          "9-1",
          "9-2",
          "9-3",
          "9-4"
         ],
         "y": [
          0,
          0,
          1,
          0,
          1,
          1,
          null
         ]
        },
        {
         "line": {
          "dash": "dot"
         },
         "name": "应交高质量报告数(苏彦勋)",
         "type": "scatter",
         "uid": "3e369711-dbfd-11e8-8ddb-a41f72875c19",
         "x": [
          "10-4",
          "8-3",
          "8-4",
          "9-1",
          "9-2",
          "9-3",
          "9-4"
         ],
         "y": [
          0,
          0,
          1,
          1,
          0,
          0,
          null
         ]
        },
        {
         "line": {
          "dash": "dash"
         },
         "name": "应交高质量报告数(孟昊)",
         "type": "scatter",
         "uid": "3e369712-dbfd-11e8-8ddb-a41f72875c19",
         "x": [
          "10-4",
          "8-3",
          "8-4",
          "9-1",
          "9-2",
          "9-3",
          "9-4"
         ],
         "y": [
          0,
          0,
          0,
          0,
          0,
          0,
          0
         ]
        },
        {
         "line": {
          "dash": "longdash"
         },
         "name": "应交高质量报告数(任雪)",
         "type": "scatter",
         "uid": "3e369713-dbfd-11e8-8ddb-a41f72875c19",
         "x": [
          "10-4",
          "8-3",
          "8-4",
          "9-1",
          "9-2",
          "9-3",
          "9-4"
         ],
         "y": [
          1,
          null,
          0,
          2,
          0,
          0,
          0
         ]
        },
        {
         "line": {
          "dash": "dashdot"
         },
         "name": "应交高质量报告数(涂成芳)",
         "type": "scatter",
         "uid": "3e369714-dbfd-11e8-8ddb-a41f72875c19",
         "x": [
          "10-4",
          "8-3",
          "8-4",
          "9-1",
          "9-2",
          "9-3",
          "9-4"
         ],
         "y": [
          0,
          null,
          null,
          null,
          null,
          null,
          null
         ]
        },
        {
         "line": {
          "dash": "longdashdot"
         },
         "name": "应交高质量报告数(于勇一)",
         "type": "scatter",
         "uid": "3e369715-dbfd-11e8-8ddb-a41f72875c19",
         "x": [
          "10-4",
          "8-3",
          "8-4",
          "9-1",
          "9-2",
          "9-3",
          "9-4"
         ],
         "y": [
          0,
          0,
          1,
          2,
          0,
          0,
          0
         ]
        },
        {
         "line": {
          "dash": "solid"
         },
         "name": "应交高质量报告数(路慧萍)",
         "type": "scatter",
         "uid": "3e369716-dbfd-11e8-8ddb-a41f72875c19",
         "x": [
          "10-4",
          "8-3",
          "8-4",
          "9-1",
          "9-2",
          "9-3",
          "9-4"
         ],
         "y": [
          0,
          1,
          0,
          0,
          0,
          0,
          null
         ]
        },
        {
         "line": {
          "dash": "dot"
         },
         "name": "应交高质量报告数(杨伟飞)",
         "type": "scatter",
         "uid": "3e369717-dbfd-11e8-8ddb-a41f72875c19",
         "x": [
          "10-4",
          "8-3",
          "8-4",
          "9-1",
          "9-2",
          "9-3",
          "9-4"
         ],
         "y": [
          0,
          0,
          0,
          2,
          1,
          0,
          0
         ]
        },
        {
         "line": {
          "dash": "dash"
         },
         "name": "应交高质量报告数(昶吉阳)",
         "type": "scatter",
         "uid": "3e369718-dbfd-11e8-8ddb-a41f72875c19",
         "x": [
          "10-4",
          "8-3",
          "8-4",
          "9-1",
          "9-2",
          "9-3",
          "9-4"
         ],
         "y": [
          0,
          null,
          null,
          null,
          null,
          null,
          null
         ]
        },
        {
         "line": {
          "dash": "longdash"
         },
         "name": "应交高质量报告数(王宁)",
         "type": "scatter",
         "uid": "3e369719-dbfd-11e8-8ddb-a41f72875c19",
         "x": [
          "10-4",
          "8-3",
          "8-4",
          "9-1",
          "9-2",
          "9-3",
          "9-4"
         ],
         "y": [
          null,
          0,
          1,
          0,
          null,
          null,
          null
         ]
        },
        {
         "line": {
          "dash": "dashdot"
         },
         "name": "应交高质量报告数(车天栋)",
         "type": "scatter",
         "uid": "3e36971a-dbfd-11e8-8ddb-a41f72875c19",
         "x": [
          "10-4",
          "8-3",
          "8-4",
          "9-1",
          "9-2",
          "9-3",
          "9-4"
         ],
         "y": [
          1,
          null,
          null,
          null,
          null,
          null,
          null
         ]
        },
        {
         "line": {
          "dash": "longdashdot"
         },
         "name": "应交高质量报告数(周杨)",
         "type": "scatter",
         "uid": "3e36971b-dbfd-11e8-8ddb-a41f72875c19",
         "x": [
          "10-4",
          "8-3",
          "8-4",
          "9-1",
          "9-2",
          "9-3",
          "9-4"
         ],
         "y": [
          0,
          0,
          2,
          0,
          0,
          0,
          0
         ]
        },
        {
         "line": {
          "dash": "solid"
         },
         "name": "应交高质量报告数(段利强)",
         "type": "scatter",
         "uid": "3e36971c-dbfd-11e8-8ddb-a41f72875c19",
         "x": [
          "10-4",
          "8-3",
          "8-4",
          "9-1",
          "9-2",
          "9-3",
          "9-4"
         ],
         "y": [
          null,
          null,
          null,
          null,
          null,
          null,
          0
         ]
        },
        {
         "line": {
          "dash": "dot"
         },
         "name": "应交高质量报告数(赵玥)",
         "type": "scatter",
         "uid": "3e36971d-dbfd-11e8-8ddb-a41f72875c19",
         "x": [
          "10-4",
          "8-3",
          "8-4",
          "9-1",
          "9-2",
          "9-3",
          "9-4"
         ],
         "y": [
          0,
          0,
          0,
          2,
          1,
          0,
          1
         ]
        },
        {
         "line": {
          "dash": "dash"
         },
         "name": "应交高质量报告数(冷雪)",
         "type": "scatter",
         "uid": "3e36971e-dbfd-11e8-8ddb-a41f72875c19",
         "x": [
          "10-4",
          "8-3",
          "8-4",
          "9-1",
          "9-2",
          "9-3",
          "9-4"
         ],
         "y": [
          0,
          null,
          null,
          null,
          null,
          null,
          null
         ]
        },
        {
         "line": {
          "dash": "longdash"
         },
         "name": "应交高质量报告数(冯敬岩)",
         "type": "scatter",
         "uid": "3e36971f-dbfd-11e8-8ddb-a41f72875c19",
         "x": [
          "10-4",
          "8-3",
          "8-4",
          "9-1",
          "9-2",
          "9-3",
          "9-4"
         ],
         "y": [
          0,
          null,
          null,
          null,
          null,
          null,
          null
         ]
        },
        {
         "line": {
          "dash": "dashdot"
         },
         "name": "应交高质量报告数(姚盟成)",
         "type": "scatter",
         "uid": "3e369720-dbfd-11e8-8ddb-a41f72875c19",
         "x": [
          "10-4",
          "8-3",
          "8-4",
          "9-1",
          "9-2",
          "9-3",
          "9-4"
         ],
         "y": [
          0,
          2,
          0,
          0,
          1,
          0,
          0
         ]
        },
        {
         "line": {
          "dash": "longdashdot"
         },
         "name": "应交高质量报告数(李华云)",
         "type": "scatter",
         "uid": "3e369721-dbfd-11e8-8ddb-a41f72875c19",
         "x": [
          "10-4",
          "8-3",
          "8-4",
          "9-1",
          "9-2",
          "9-3",
          "9-4"
         ],
         "y": [
          0,
          0,
          0,
          0,
          0,
          0,
          null
         ]
        },
        {
         "line": {
          "dash": "solid"
         },
         "name": "应交高质量报告数(陈鹏燕)",
         "type": "scatter",
         "uid": "3e369722-dbfd-11e8-8ddb-a41f72875c19",
         "x": [
          "10-4",
          "8-3",
          "8-4",
          "9-1",
          "9-2",
          "9-3",
          "9-4"
         ],
         "y": [
          0,
          null,
          null,
          null,
          null,
          null,
          null
         ]
        },
        {
         "line": {
          "dash": "dot"
         },
         "name": "应交高质量报告数(刘慧玲)",
         "type": "scatter",
         "uid": "3e369723-dbfd-11e8-8ddb-a41f72875c19",
         "x": [
          "10-4",
          "8-3",
          "8-4",
          "9-1",
          "9-2",
          "9-3",
          "9-4"
         ],
         "y": [
          null,
          2,
          0,
          0,
          null,
          null,
          null
         ]
        },
        {
         "line": {
          "dash": "dash"
         },
         "name": "应交高质量报告数(沈恩惠)",
         "type": "scatter",
         "uid": "3e369724-dbfd-11e8-8ddb-a41f72875c19",
         "x": [
          "10-4",
          "8-3",
          "8-4",
          "9-1",
          "9-2",
          "9-3",
          "9-4"
         ],
         "y": [
          1,
          null,
          null,
          null,
          null,
          null,
          null
         ]
        },
        {
         "line": {
          "dash": "longdash"
         },
         "name": "应交高质量报告数(林文文)",
         "type": "scatter",
         "uid": "3e369725-dbfd-11e8-8ddb-a41f72875c19",
         "x": [
          "10-4",
          "8-3",
          "8-4",
          "9-1",
          "9-2",
          "9-3",
          "9-4"
         ],
         "y": [
          0,
          null,
          null,
          null,
          null,
          null,
          null
         ]
        },
        {
         "line": {
          "dash": "dashdot"
         },
         "name": "应交高质量报告数(谢德健)",
         "type": "scatter",
         "uid": "3e369726-dbfd-11e8-8ddb-a41f72875c19",
         "x": [
          "10-4",
          "8-3",
          "8-4",
          "9-1",
          "9-2",
          "9-3",
          "9-4"
         ],
         "y": [
          0,
          0,
          0,
          null,
          2,
          4,
          0
         ]
        },
        {
         "line": {
          "dash": "longdashdot"
         },
         "name": "应交高质量报告数(刘江)",
         "type": "scatter",
         "uid": "3e369727-dbfd-11e8-8ddb-a41f72875c19",
         "x": [
          "10-4",
          "8-3",
          "8-4",
          "9-1",
          "9-2",
          "9-3",
          "9-4"
         ],
         "y": [
          0,
          0,
          0,
          3,
          0,
          0,
          0
         ]
        },
        {
         "line": {
          "dash": "solid"
         },
         "name": "应交高质量报告数(王红)",
         "type": "scatter",
         "uid": "3e369728-dbfd-11e8-8ddb-a41f72875c19",
         "x": [
          "10-4",
          "8-3",
          "8-4",
          "9-1",
          "9-2",
          "9-3",
          "9-4"
         ],
         "y": [
          0,
          null,
          null,
          null,
          null,
          null,
          null
         ]
        },
        {
         "line": {
          "dash": "dot"
         },
         "name": "应交高质量报告数(李庆原)",
         "type": "scatter",
         "uid": "3e369729-dbfd-11e8-8ddb-a41f72875c19",
         "x": [
          "10-4",
          "8-3",
          "8-4",
          "9-1",
          "9-2",
          "9-3",
          "9-4"
         ],
         "y": [
          0,
          0,
          0,
          1,
          0,
          0,
          null
         ]
        },
        {
         "line": {
          "dash": "dash"
         },
         "name": "应交高质量报告数(马潇)",
         "type": "scatter",
         "uid": "3e36972a-dbfd-11e8-8ddb-a41f72875c19",
         "x": [
          "10-4",
          "8-3",
          "8-4",
          "9-1",
          "9-2",
          "9-3",
          "9-4"
         ],
         "y": [
          0,
          0,
          0,
          0,
          0,
          0,
          0
         ]
        },
        {
         "line": {
          "dash": "longdash"
         },
         "name": "应交高质量报告数(占伟)",
         "type": "scatter",
         "uid": "3e36972b-dbfd-11e8-8ddb-a41f72875c19",
         "x": [
          "10-4",
          "8-3",
          "8-4",
          "9-1",
          "9-2",
          "9-3",
          "9-4"
         ],
         "y": [
          0,
          1,
          0,
          2,
          0,
          0,
          0
         ]
        },
        {
         "line": {
          "dash": "dashdot"
         },
         "name": "应交高质量报告数(宋迎楠)",
         "type": "scatter",
         "uid": "3e36972c-dbfd-11e8-8ddb-a41f72875c19",
         "x": [
          "10-4",
          "8-3",
          "8-4",
          "9-1",
          "9-2",
          "9-3",
          "9-4"
         ],
         "y": [
          null,
          0,
          0,
          0,
          null,
          null,
          null
         ]
        },
        {
         "line": {
          "dash": "longdashdot"
         },
         "name": "应交高质量报告数(范旭宁)",
         "type": "scatter",
         "uid": "3e36972d-dbfd-11e8-8ddb-a41f72875c19",
         "x": [
          "10-4",
          "8-3",
          "8-4",
          "9-1",
          "9-2",
          "9-3",
          "9-4"
         ],
         "y": [
          0,
          0,
          0,
          1,
          2,
          0,
          0
         ]
        },
        {
         "line": {
          "dash": "solid"
         },
         "name": "应交高质量报告数(屈昂)",
         "type": "scatter",
         "uid": "3e36972e-dbfd-11e8-8ddb-a41f72875c19",
         "x": [
          "10-4",
          "8-3",
          "8-4",
          "9-1",
          "9-2",
          "9-3",
          "9-4"
         ],
         "y": [
          0,
          null,
          null,
          null,
          null,
          null,
          null
         ]
        },
        {
         "line": {
          "dash": "dot"
         },
         "name": "应交高质量报告数(张守伟)",
         "type": "scatter",
         "uid": "3e36972f-dbfd-11e8-8ddb-a41f72875c19",
         "x": [
          "10-4",
          "8-3",
          "8-4",
          "9-1",
          "9-2",
          "9-3",
          "9-4"
         ],
         "y": [
          0,
          1,
          0,
          0,
          0,
          1,
          1
         ]
        },
        {
         "line": {
          "dash": "dash"
         },
         "name": "应交高质量报告数(封彦杰)",
         "type": "scatter",
         "uid": "3e369730-dbfd-11e8-8ddb-a41f72875c19",
         "x": [
          "10-4",
          "8-3",
          "8-4",
          "9-1",
          "9-2",
          "9-3",
          "9-4"
         ],
         "y": [
          0,
          0,
          0,
          1,
          0,
          0,
          0
         ]
        },
        {
         "line": {
          "dash": "longdash"
         },
         "name": "应交高质量报告数(张悦)",
         "type": "scatter",
         "uid": "3e369731-dbfd-11e8-8ddb-a41f72875c19",
         "x": [
          "10-4",
          "8-3",
          "8-4",
          "9-1",
          "9-2",
          "9-3",
          "9-4"
         ],
         "y": [
          0,
          null,
          null,
          null,
          null,
          null,
          null
         ]
        },
        {
         "line": {
          "dash": "dashdot"
         },
         "name": "应交高质量报告数(于慧)",
         "type": "scatter",
         "uid": "3e369732-dbfd-11e8-8ddb-a41f72875c19",
         "x": [
          "10-4",
          "8-3",
          "8-4",
          "9-1",
          "9-2",
          "9-3",
          "9-4"
         ],
         "y": [
          0,
          0,
          1,
          0,
          0,
          0,
          0
         ]
        },
        {
         "line": {
          "dash": "solid"
         },
         "name": "提交高质量报告数(韩少怀)",
         "type": "scatter",
         "uid": "3e369733-dbfd-11e8-8ddb-a41f72875c19",
         "x": [
          "10-4",
          "8-3",
          "8-4",
          "9-1",
          "9-2",
          "9-3",
          "9-4"
         ],
         "y": [
          0,
          0,
          1,
          0,
          1,
          1,
          null
         ]
        },
        {
         "line": {
          "dash": "dot"
         },
         "name": "提交高质量报告数(苏彦勋)",
         "type": "scatter",
         "uid": "3e369734-dbfd-11e8-8ddb-a41f72875c19",
         "x": [
          "10-4",
          "8-3",
          "8-4",
          "9-1",
          "9-2",
          "9-3",
          "9-4"
         ],
         "y": [
          0,
          0,
          1,
          1,
          0,
          0,
          null
         ]
        },
        {
         "line": {
          "dash": "dash"
         },
         "name": "提交高质量报告数(孟昊)",
         "type": "scatter",
         "uid": "3e369735-dbfd-11e8-8ddb-a41f72875c19",
         "x": [
          "10-4",
          "8-3",
          "8-4",
          "9-1",
          "9-2",
          "9-3",
          "9-4"
         ],
         "y": [
          0,
          0,
          0,
          0,
          0,
          0,
          0
         ]
        },
        {
         "line": {
          "dash": "longdash"
         },
         "name": "提交高质量报告数(任雪)",
         "type": "scatter",
         "uid": "3e369736-dbfd-11e8-8ddb-a41f72875c19",
         "x": [
          "10-4",
          "8-3",
          "8-4",
          "9-1",
          "9-2",
          "9-3",
          "9-4"
         ],
         "y": [
          1,
          null,
          0,
          2,
          0,
          0,
          0
         ]
        },
        {
         "line": {
          "dash": "dashdot"
         },
         "name": "提交高质量报告数(涂成芳)",
         "type": "scatter",
         "uid": "3e369737-dbfd-11e8-8ddb-a41f72875c19",
         "x": [
          "10-4",
          "8-3",
          "8-4",
          "9-1",
          "9-2",
          "9-3",
          "9-4"
         ],
         "y": [
          0,
          null,
          null,
          null,
          null,
          null,
          null
         ]
        },
        {
         "line": {
          "dash": "longdashdot"
         },
         "name": "提交高质量报告数(于勇一)",
         "type": "scatter",
         "uid": "3e369738-dbfd-11e8-8ddb-a41f72875c19",
         "x": [
          "10-4",
          "8-3",
          "8-4",
          "9-1",
          "9-2",
          "9-3",
          "9-4"
         ],
         "y": [
          0,
          0,
          1,
          2,
          0,
          0,
          0
         ]
        },
        {
         "line": {
          "dash": "solid"
         },
         "name": "提交高质量报告数(路慧萍)",
         "type": "scatter",
         "uid": "3e369739-dbfd-11e8-8ddb-a41f72875c19",
         "x": [
          "10-4",
          "8-3",
          "8-4",
          "9-1",
          "9-2",
          "9-3",
          "9-4"
         ],
         "y": [
          0,
          1,
          0,
          0,
          0,
          0,
          null
         ]
        },
        {
         "line": {
          "dash": "dot"
         },
         "name": "提交高质量报告数(杨伟飞)",
         "type": "scatter",
         "uid": "3e36973a-dbfd-11e8-8ddb-a41f72875c19",
         "x": [
          "10-4",
          "8-3",
          "8-4",
          "9-1",
          "9-2",
          "9-3",
          "9-4"
         ],
         "y": [
          0,
          0,
          0,
          2,
          1,
          0,
          0
         ]
        },
        {
         "line": {
          "dash": "dash"
         },
         "name": "提交高质量报告数(昶吉阳)",
         "type": "scatter",
         "uid": "3e36973b-dbfd-11e8-8ddb-a41f72875c19",
         "x": [
          "10-4",
          "8-3",
          "8-4",
          "9-1",
          "9-2",
          "9-3",
          "9-4"
         ],
         "y": [
          0,
          null,
          null,
          null,
          null,
          null,
          null
         ]
        },
        {
         "line": {
          "dash": "longdash"
         },
         "name": "提交高质量报告数(王宁)",
         "type": "scatter",
         "uid": "3e36973c-dbfd-11e8-8ddb-a41f72875c19",
         "x": [
          "10-4",
          "8-3",
          "8-4",
          "9-1",
          "9-2",
          "9-3",
          "9-4"
         ],
         "y": [
          null,
          0,
          1,
          0,
          null,
          null,
          null
         ]
        },
        {
         "line": {
          "dash": "dashdot"
         },
         "name": "提交高质量报告数(车天栋)",
         "type": "scatter",
         "uid": "3e36973d-dbfd-11e8-8ddb-a41f72875c19",
         "x": [
          "10-4",
          "8-3",
          "8-4",
          "9-1",
          "9-2",
          "9-3",
          "9-4"
         ],
         "y": [
          1,
          null,
          null,
          null,
          null,
          null,
          null
         ]
        },
        {
         "line": {
          "dash": "longdashdot"
         },
         "name": "提交高质量报告数(周杨)",
         "type": "scatter",
         "uid": "3e36973e-dbfd-11e8-8ddb-a41f72875c19",
         "x": [
          "10-4",
          "8-3",
          "8-4",
          "9-1",
          "9-2",
          "9-3",
          "9-4"
         ],
         "y": [
          0,
          0,
          2,
          0,
          0,
          0,
          0
         ]
        },
        {
         "line": {
          "dash": "solid"
         },
         "name": "提交高质量报告数(段利强)",
         "type": "scatter",
         "uid": "3e36973f-dbfd-11e8-8ddb-a41f72875c19",
         "x": [
          "10-4",
          "8-3",
          "8-4",
          "9-1",
          "9-2",
          "9-3",
          "9-4"
         ],
         "y": [
          null,
          null,
          null,
          null,
          null,
          null,
          0
         ]
        },
        {
         "line": {
          "dash": "dot"
         },
         "name": "提交高质量报告数(赵玥)",
         "type": "scatter",
         "uid": "3e369740-dbfd-11e8-8ddb-a41f72875c19",
         "x": [
          "10-4",
          "8-3",
          "8-4",
          "9-1",
          "9-2",
          "9-3",
          "9-4"
         ],
         "y": [
          0,
          0,
          0,
          2,
          1,
          0,
          1
         ]
        },
        {
         "line": {
          "dash": "dash"
         },
         "name": "提交高质量报告数(冷雪)",
         "type": "scatter",
         "uid": "3e369741-dbfd-11e8-8ddb-a41f72875c19",
         "x": [
          "10-4",
          "8-3",
          "8-4",
          "9-1",
          "9-2",
          "9-3",
          "9-4"
         ],
         "y": [
          0,
          null,
          null,
          null,
          null,
          null,
          null
         ]
        },
        {
         "line": {
          "dash": "longdash"
         },
         "name": "提交高质量报告数(冯敬岩)",
         "type": "scatter",
         "uid": "3e369742-dbfd-11e8-8ddb-a41f72875c19",
         "x": [
          "10-4",
          "8-3",
          "8-4",
          "9-1",
          "9-2",
          "9-3",
          "9-4"
         ],
         "y": [
          0,
          null,
          null,
          null,
          null,
          null,
          null
         ]
        },
        {
         "line": {
          "dash": "dashdot"
         },
         "name": "提交高质量报告数(姚盟成)",
         "type": "scatter",
         "uid": "3e369743-dbfd-11e8-8ddb-a41f72875c19",
         "x": [
          "10-4",
          "8-3",
          "8-4",
          "9-1",
          "9-2",
          "9-3",
          "9-4"
         ],
         "y": [
          0,
          2,
          0,
          0,
          1,
          0,
          0
         ]
        },
        {
         "line": {
          "dash": "longdashdot"
         },
         "name": "提交高质量报告数(李华云)",
         "type": "scatter",
         "uid": "3e369744-dbfd-11e8-8ddb-a41f72875c19",
         "x": [
          "10-4",
          "8-3",
          "8-4",
          "9-1",
          "9-2",
          "9-3",
          "9-4"
         ],
         "y": [
          0,
          0,
          0,
          0,
          0,
          0,
          null
         ]
        },
        {
         "line": {
          "dash": "solid"
         },
         "name": "提交高质量报告数(陈鹏燕)",
         "type": "scatter",
         "uid": "3e369745-dbfd-11e8-8ddb-a41f72875c19",
         "x": [
          "10-4",
          "8-3",
          "8-4",
          "9-1",
          "9-2",
          "9-3",
          "9-4"
         ],
         "y": [
          0,
          null,
          null,
          null,
          null,
          null,
          null
         ]
        },
        {
         "line": {
          "dash": "dot"
         },
         "name": "提交高质量报告数(刘慧玲)",
         "type": "scatter",
         "uid": "3e369746-dbfd-11e8-8ddb-a41f72875c19",
         "x": [
          "10-4",
          "8-3",
          "8-4",
          "9-1",
          "9-2",
          "9-3",
          "9-4"
         ],
         "y": [
          null,
          2,
          0,
          0,
          null,
          null,
          null
         ]
        },
        {
         "line": {
          "dash": "dash"
         },
         "name": "提交高质量报告数(沈恩惠)",
         "type": "scatter",
         "uid": "3e369747-dbfd-11e8-8ddb-a41f72875c19",
         "x": [
          "10-4",
          "8-3",
          "8-4",
          "9-1",
          "9-2",
          "9-3",
          "9-4"
         ],
         "y": [
          0,
          null,
          null,
          null,
          null,
          null,
          null
         ]
        },
        {
         "line": {
          "dash": "longdash"
         },
         "name": "提交高质量报告数(林文文)",
         "type": "scatter",
         "uid": "3e369748-dbfd-11e8-8ddb-a41f72875c19",
         "x": [
          "10-4",
          "8-3",
          "8-4",
          "9-1",
          "9-2",
          "9-3",
          "9-4"
         ],
         "y": [
          0,
          null,
          null,
          null,
          null,
          null,
          null
         ]
        },
        {
         "line": {
          "dash": "dashdot"
         },
         "name": "提交高质量报告数(谢德健)",
         "type": "scatter",
         "uid": "3e369749-dbfd-11e8-8ddb-a41f72875c19",
         "x": [
          "10-4",
          "8-3",
          "8-4",
          "9-1",
          "9-2",
          "9-3",
          "9-4"
         ],
         "y": [
          0,
          0,
          0,
          null,
          1,
          4,
          0
         ]
        },
        {
         "line": {
          "dash": "longdashdot"
         },
         "name": "提交高质量报告数(刘江)",
         "type": "scatter",
         "uid": "3e36974a-dbfd-11e8-8ddb-a41f72875c19",
         "x": [
          "10-4",
          "8-3",
          "8-4",
          "9-1",
          "9-2",
          "9-3",
          "9-4"
         ],
         "y": [
          0,
          0,
          0,
          3,
          0,
          1,
          0
         ]
        },
        {
         "line": {
          "dash": "solid"
         },
         "name": "提交高质量报告数(王红)",
         "type": "scatter",
         "uid": "3e36974b-dbfd-11e8-8ddb-a41f72875c19",
         "x": [
          "10-4",
          "8-3",
          "8-4",
          "9-1",
          "9-2",
          "9-3",
          "9-4"
         ],
         "y": [
          0,
          null,
          null,
          null,
          null,
          null,
          null
         ]
        },
        {
         "line": {
          "dash": "dot"
         },
         "name": "提交高质量报告数(李庆原)",
         "type": "scatter",
         "uid": "3e36974c-dbfd-11e8-8ddb-a41f72875c19",
         "x": [
          "10-4",
          "8-3",
          "8-4",
          "9-1",
          "9-2",
          "9-3",
          "9-4"
         ],
         "y": [
          0,
          0,
          0,
          1,
          0,
          0,
          null
         ]
        },
        {
         "line": {
          "dash": "dash"
         },
         "name": "提交高质量报告数(马潇)",
         "type": "scatter",
         "uid": "3e36974d-dbfd-11e8-8ddb-a41f72875c19",
         "x": [
          "10-4",
          "8-3",
          "8-4",
          "9-1",
          "9-2",
          "9-3",
          "9-4"
         ],
         "y": [
          0,
          0,
          0,
          0,
          0,
          0,
          0
         ]
        },
        {
         "line": {
          "dash": "longdash"
         },
         "name": "提交高质量报告数(占伟)",
         "type": "scatter",
         "uid": "3e36974e-dbfd-11e8-8ddb-a41f72875c19",
         "x": [
          "10-4",
          "8-3",
          "8-4",
          "9-1",
          "9-2",
          "9-3",
          "9-4"
         ],
         "y": [
          0,
          1,
          0,
          2,
          0,
          0,
          0
         ]
        },
        {
         "line": {
          "dash": "dashdot"
         },
         "name": "提交高质量报告数(宋迎楠)",
         "type": "scatter",
         "uid": "3e36974f-dbfd-11e8-8ddb-a41f72875c19",
         "x": [
          "10-4",
          "8-3",
          "8-4",
          "9-1",
          "9-2",
          "9-3",
          "9-4"
         ],
         "y": [
          null,
          0,
          0,
          0,
          null,
          null,
          null
         ]
        },
        {
         "line": {
          "dash": "longdashdot"
         },
         "name": "提交高质量报告数(范旭宁)",
         "type": "scatter",
         "uid": "3e369750-dbfd-11e8-8ddb-a41f72875c19",
         "x": [
          "10-4",
          "8-3",
          "8-4",
          "9-1",
          "9-2",
          "9-3",
          "9-4"
         ],
         "y": [
          0,
          0,
          0,
          1,
          1,
          0,
          0
         ]
        },
        {
         "line": {
          "dash": "solid"
         },
         "name": "提交高质量报告数(屈昂)",
         "type": "scatter",
         "uid": "3e369751-dbfd-11e8-8ddb-a41f72875c19",
         "x": [
          "10-4",
          "8-3",
          "8-4",
          "9-1",
          "9-2",
          "9-3",
          "9-4"
         ],
         "y": [
          0,
          null,
          null,
          null,
          null,
          null,
          null
         ]
        },
        {
         "line": {
          "dash": "dot"
         },
         "name": "提交高质量报告数(张守伟)",
         "type": "scatter",
         "uid": "3e369752-dbfd-11e8-8ddb-a41f72875c19",
         "x": [
          "10-4",
          "8-3",
          "8-4",
          "9-1",
          "9-2",
          "9-3",
          "9-4"
         ],
         "y": [
          0,
          1,
          0,
          0,
          0,
          1,
          2
         ]
        },
        {
         "line": {
          "dash": "dash"
         },
         "name": "提交高质量报告数(封彦杰)",
         "type": "scatter",
         "uid": "3e369753-dbfd-11e8-8ddb-a41f72875c19",
         "x": [
          "10-4",
          "8-3",
          "8-4",
          "9-1",
          "9-2",
          "9-3",
          "9-4"
         ],
         "y": [
          0,
          0,
          0,
          1,
          0,
          0,
          0
         ]
        },
        {
         "line": {
          "dash": "longdash"
         },
         "name": "提交高质量报告数(张悦)",
         "type": "scatter",
         "uid": "3e369754-dbfd-11e8-8ddb-a41f72875c19",
         "x": [
          "10-4",
          "8-3",
          "8-4",
          "9-1",
          "9-2",
          "9-3",
          "9-4"
         ],
         "y": [
          0,
          null,
          null,
          null,
          null,
          null,
          null
         ]
        },
        {
         "line": {
          "dash": "dashdot"
         },
         "name": "提交高质量报告数(于慧)",
         "type": "scatter",
         "uid": "3e369755-dbfd-11e8-8ddb-a41f72875c19",
         "x": [
          "10-4",
          "8-3",
          "8-4",
          "9-1",
          "9-2",
          "9-3",
          "9-4"
         ],
         "y": [
          0,
          0,
          1,
          0,
          0,
          0,
          0
         ]
        }
       ],
       "layout": {
        "title": "应交高质量报告数&提交高质量报告数周趋势图",
        "xaxis": {
         "mirror": "all",
         "nticks": 20,
         "showgrid": true,
         "showline": true,
         "title": "周",
         "type": "category",
         "zeroline": true
        },
        "yaxis": {
         "mirror": "all",
         "nticks": 20,
         "showgrid": true,
         "showline": true,
         "title": "应交高质量报告数&提交高质量报告数",
         "zeroline": true
        }
       }
      },
      "text/html": [
       "<div id=\"af2be37a-4597-42ab-a08b-ba86e25d6b92\" style=\"height: 525px; width: 100%;\" class=\"plotly-graph-div\"></div><script type=\"text/javascript\">require([\"plotly\"], function(Plotly) { window.PLOTLYENV=window.PLOTLYENV || {};window.PLOTLYENV.BASE_URL=\"https://plot.ly\";Plotly.newPlot(\"af2be37a-4597-42ab-a08b-ba86e25d6b92\", [{\"line\": {\"dash\": \"solid\"}, \"name\": \"\\u5e94\\u4ea4\\u9ad8\\u8d28\\u91cf\\u62a5\\u544a\\u6570(\\u97e9\\u5c11\\u6000)\", \"x\": [\"10-4\", \"8-3\", \"8-4\", \"9-1\", \"9-2\", \"9-3\", \"9-4\"], \"y\": [0.0, 0.0, 1.0, 0.0, 1.0, 1.0, null], \"type\": \"scatter\", \"uid\": \"3e369710-dbfd-11e8-8ddb-a41f72875c19\"}, {\"line\": {\"dash\": \"dot\"}, \"name\": \"\\u5e94\\u4ea4\\u9ad8\\u8d28\\u91cf\\u62a5\\u544a\\u6570(\\u82cf\\u5f66\\u52cb)\", \"x\": [\"10-4\", \"8-3\", \"8-4\", \"9-1\", \"9-2\", \"9-3\", \"9-4\"], \"y\": [0.0, 0.0, 1.0, 1.0, 0.0, 0.0, null], \"type\": \"scatter\", \"uid\": \"3e369711-dbfd-11e8-8ddb-a41f72875c19\"}, {\"line\": {\"dash\": \"dash\"}, \"name\": \"\\u5e94\\u4ea4\\u9ad8\\u8d28\\u91cf\\u62a5\\u544a\\u6570(\\u5b5f\\u660a)\", \"x\": [\"10-4\", \"8-3\", \"8-4\", \"9-1\", \"9-2\", \"9-3\", \"9-4\"], \"y\": [0.0, 0.0, 0.0, 0.0, 0.0, 0.0, 0.0], \"type\": \"scatter\", \"uid\": \"3e369712-dbfd-11e8-8ddb-a41f72875c19\"}, {\"line\": {\"dash\": \"longdash\"}, \"name\": \"\\u5e94\\u4ea4\\u9ad8\\u8d28\\u91cf\\u62a5\\u544a\\u6570(\\u4efb\\u96ea)\", \"x\": [\"10-4\", \"8-3\", \"8-4\", \"9-1\", \"9-2\", \"9-3\", \"9-4\"], \"y\": [1.0, null, 0.0, 2.0, 0.0, 0.0, 0.0], \"type\": \"scatter\", \"uid\": \"3e369713-dbfd-11e8-8ddb-a41f72875c19\"}, {\"line\": {\"dash\": \"dashdot\"}, \"name\": \"\\u5e94\\u4ea4\\u9ad8\\u8d28\\u91cf\\u62a5\\u544a\\u6570(\\u6d82\\u6210\\u82b3)\", \"x\": [\"10-4\", \"8-3\", \"8-4\", \"9-1\", \"9-2\", \"9-3\", \"9-4\"], \"y\": [0.0, null, null, null, null, null, null], \"type\": \"scatter\", \"uid\": \"3e369714-dbfd-11e8-8ddb-a41f72875c19\"}, {\"line\": {\"dash\": \"longdashdot\"}, \"name\": \"\\u5e94\\u4ea4\\u9ad8\\u8d28\\u91cf\\u62a5\\u544a\\u6570(\\u4e8e\\u52c7\\u4e00)\", \"x\": [\"10-4\", \"8-3\", \"8-4\", \"9-1\", \"9-2\", \"9-3\", \"9-4\"], \"y\": [0.0, 0.0, 1.0, 2.0, 0.0, 0.0, 0.0], \"type\": \"scatter\", \"uid\": \"3e369715-dbfd-11e8-8ddb-a41f72875c19\"}, {\"line\": {\"dash\": \"solid\"}, \"name\": \"\\u5e94\\u4ea4\\u9ad8\\u8d28\\u91cf\\u62a5\\u544a\\u6570(\\u8def\\u6167\\u840d)\", \"x\": [\"10-4\", \"8-3\", \"8-4\", \"9-1\", \"9-2\", \"9-3\", \"9-4\"], \"y\": [0.0, 1.0, 0.0, 0.0, 0.0, 0.0, null], \"type\": \"scatter\", \"uid\": \"3e369716-dbfd-11e8-8ddb-a41f72875c19\"}, {\"line\": {\"dash\": \"dot\"}, \"name\": \"\\u5e94\\u4ea4\\u9ad8\\u8d28\\u91cf\\u62a5\\u544a\\u6570(\\u6768\\u4f1f\\u98de)\", \"x\": [\"10-4\", \"8-3\", \"8-4\", \"9-1\", \"9-2\", \"9-3\", \"9-4\"], \"y\": [0.0, 0.0, 0.0, 2.0, 1.0, 0.0, 0.0], \"type\": \"scatter\", \"uid\": \"3e369717-dbfd-11e8-8ddb-a41f72875c19\"}, {\"line\": {\"dash\": \"dash\"}, \"name\": \"\\u5e94\\u4ea4\\u9ad8\\u8d28\\u91cf\\u62a5\\u544a\\u6570(\\u6636\\u5409\\u9633)\", \"x\": [\"10-4\", \"8-3\", \"8-4\", \"9-1\", \"9-2\", \"9-3\", \"9-4\"], \"y\": [0.0, null, null, null, null, null, null], \"type\": \"scatter\", \"uid\": \"3e369718-dbfd-11e8-8ddb-a41f72875c19\"}, {\"line\": {\"dash\": \"longdash\"}, \"name\": \"\\u5e94\\u4ea4\\u9ad8\\u8d28\\u91cf\\u62a5\\u544a\\u6570(\\u738b\\u5b81)\", \"x\": [\"10-4\", \"8-3\", \"8-4\", \"9-1\", \"9-2\", \"9-3\", \"9-4\"], \"y\": [null, 0.0, 1.0, 0.0, null, null, null], \"type\": \"scatter\", \"uid\": \"3e369719-dbfd-11e8-8ddb-a41f72875c19\"}, {\"line\": {\"dash\": \"dashdot\"}, \"name\": \"\\u5e94\\u4ea4\\u9ad8\\u8d28\\u91cf\\u62a5\\u544a\\u6570(\\u8f66\\u5929\\u680b)\", \"x\": [\"10-4\", \"8-3\", \"8-4\", \"9-1\", \"9-2\", \"9-3\", \"9-4\"], \"y\": [1.0, null, null, null, null, null, null], \"type\": \"scatter\", \"uid\": \"3e36971a-dbfd-11e8-8ddb-a41f72875c19\"}, {\"line\": {\"dash\": \"longdashdot\"}, \"name\": \"\\u5e94\\u4ea4\\u9ad8\\u8d28\\u91cf\\u62a5\\u544a\\u6570(\\u5468\\u6768)\", \"x\": [\"10-4\", \"8-3\", \"8-4\", \"9-1\", \"9-2\", \"9-3\", \"9-4\"], \"y\": [0.0, 0.0, 2.0, 0.0, 0.0, 0.0, 0.0], \"type\": \"scatter\", \"uid\": \"3e36971b-dbfd-11e8-8ddb-a41f72875c19\"}, {\"line\": {\"dash\": \"solid\"}, \"name\": \"\\u5e94\\u4ea4\\u9ad8\\u8d28\\u91cf\\u62a5\\u544a\\u6570(\\u6bb5\\u5229\\u5f3a)\", \"x\": [\"10-4\", \"8-3\", \"8-4\", \"9-1\", \"9-2\", \"9-3\", \"9-4\"], \"y\": [null, null, null, null, null, null, 0.0], \"type\": \"scatter\", \"uid\": \"3e36971c-dbfd-11e8-8ddb-a41f72875c19\"}, {\"line\": {\"dash\": \"dot\"}, \"name\": \"\\u5e94\\u4ea4\\u9ad8\\u8d28\\u91cf\\u62a5\\u544a\\u6570(\\u8d75\\u73a5)\", \"x\": [\"10-4\", \"8-3\", \"8-4\", \"9-1\", \"9-2\", \"9-3\", \"9-4\"], \"y\": [0.0, 0.0, 0.0, 2.0, 1.0, 0.0, 1.0], \"type\": \"scatter\", \"uid\": \"3e36971d-dbfd-11e8-8ddb-a41f72875c19\"}, {\"line\": {\"dash\": \"dash\"}, \"name\": \"\\u5e94\\u4ea4\\u9ad8\\u8d28\\u91cf\\u62a5\\u544a\\u6570(\\u51b7\\u96ea)\", \"x\": [\"10-4\", \"8-3\", \"8-4\", \"9-1\", \"9-2\", \"9-3\", \"9-4\"], \"y\": [0.0, null, null, null, null, null, null], \"type\": \"scatter\", \"uid\": \"3e36971e-dbfd-11e8-8ddb-a41f72875c19\"}, {\"line\": {\"dash\": \"longdash\"}, \"name\": \"\\u5e94\\u4ea4\\u9ad8\\u8d28\\u91cf\\u62a5\\u544a\\u6570(\\u51af\\u656c\\u5ca9)\", \"x\": [\"10-4\", \"8-3\", \"8-4\", \"9-1\", \"9-2\", \"9-3\", \"9-4\"], \"y\": [0.0, null, null, null, null, null, null], \"type\": \"scatter\", \"uid\": \"3e36971f-dbfd-11e8-8ddb-a41f72875c19\"}, {\"line\": {\"dash\": \"dashdot\"}, \"name\": \"\\u5e94\\u4ea4\\u9ad8\\u8d28\\u91cf\\u62a5\\u544a\\u6570(\\u59da\\u76df\\u6210)\", \"x\": [\"10-4\", \"8-3\", \"8-4\", \"9-1\", \"9-2\", \"9-3\", \"9-4\"], \"y\": [0.0, 2.0, 0.0, 0.0, 1.0, 0.0, 0.0], \"type\": \"scatter\", \"uid\": \"3e369720-dbfd-11e8-8ddb-a41f72875c19\"}, {\"line\": {\"dash\": \"longdashdot\"}, \"name\": \"\\u5e94\\u4ea4\\u9ad8\\u8d28\\u91cf\\u62a5\\u544a\\u6570(\\u674e\\u534e\\u4e91)\", \"x\": [\"10-4\", \"8-3\", \"8-4\", \"9-1\", \"9-2\", \"9-3\", \"9-4\"], \"y\": [0.0, 0.0, 0.0, 0.0, 0.0, 0.0, null], \"type\": \"scatter\", \"uid\": \"3e369721-dbfd-11e8-8ddb-a41f72875c19\"}, {\"line\": {\"dash\": \"solid\"}, \"name\": \"\\u5e94\\u4ea4\\u9ad8\\u8d28\\u91cf\\u62a5\\u544a\\u6570(\\u9648\\u9e4f\\u71d5)\", \"x\": [\"10-4\", \"8-3\", \"8-4\", \"9-1\", \"9-2\", \"9-3\", \"9-4\"], \"y\": [0.0, null, null, null, null, null, null], \"type\": \"scatter\", \"uid\": \"3e369722-dbfd-11e8-8ddb-a41f72875c19\"}, {\"line\": {\"dash\": \"dot\"}, \"name\": \"\\u5e94\\u4ea4\\u9ad8\\u8d28\\u91cf\\u62a5\\u544a\\u6570(\\u5218\\u6167\\u73b2)\", \"x\": [\"10-4\", \"8-3\", \"8-4\", \"9-1\", \"9-2\", \"9-3\", \"9-4\"], \"y\": [null, 2.0, 0.0, 0.0, null, null, null], \"type\": \"scatter\", \"uid\": \"3e369723-dbfd-11e8-8ddb-a41f72875c19\"}, {\"line\": {\"dash\": \"dash\"}, \"name\": \"\\u5e94\\u4ea4\\u9ad8\\u8d28\\u91cf\\u62a5\\u544a\\u6570(\\u6c88\\u6069\\u60e0)\", \"x\": [\"10-4\", \"8-3\", \"8-4\", \"9-1\", \"9-2\", \"9-3\", \"9-4\"], \"y\": [1.0, null, null, null, null, null, null], \"type\": \"scatter\", \"uid\": \"3e369724-dbfd-11e8-8ddb-a41f72875c19\"}, {\"line\": {\"dash\": \"longdash\"}, \"name\": \"\\u5e94\\u4ea4\\u9ad8\\u8d28\\u91cf\\u62a5\\u544a\\u6570(\\u6797\\u6587\\u6587)\", \"x\": [\"10-4\", \"8-3\", \"8-4\", \"9-1\", \"9-2\", \"9-3\", \"9-4\"], \"y\": [0.0, null, null, null, null, null, null], \"type\": \"scatter\", \"uid\": \"3e369725-dbfd-11e8-8ddb-a41f72875c19\"}, {\"line\": {\"dash\": \"dashdot\"}, \"name\": \"\\u5e94\\u4ea4\\u9ad8\\u8d28\\u91cf\\u62a5\\u544a\\u6570(\\u8c22\\u5fb7\\u5065)\", \"x\": [\"10-4\", \"8-3\", \"8-4\", \"9-1\", \"9-2\", \"9-3\", \"9-4\"], \"y\": [0.0, 0.0, 0.0, null, 2.0, 4.0, 0.0], \"type\": \"scatter\", \"uid\": \"3e369726-dbfd-11e8-8ddb-a41f72875c19\"}, {\"line\": {\"dash\": \"longdashdot\"}, \"name\": \"\\u5e94\\u4ea4\\u9ad8\\u8d28\\u91cf\\u62a5\\u544a\\u6570(\\u5218\\u6c5f)\", \"x\": [\"10-4\", \"8-3\", \"8-4\", \"9-1\", \"9-2\", \"9-3\", \"9-4\"], \"y\": [0.0, 0.0, 0.0, 3.0, 0.0, 0.0, 0.0], \"type\": \"scatter\", \"uid\": \"3e369727-dbfd-11e8-8ddb-a41f72875c19\"}, {\"line\": {\"dash\": \"solid\"}, \"name\": \"\\u5e94\\u4ea4\\u9ad8\\u8d28\\u91cf\\u62a5\\u544a\\u6570(\\u738b\\u7ea2)\", \"x\": [\"10-4\", \"8-3\", \"8-4\", \"9-1\", \"9-2\", \"9-3\", \"9-4\"], \"y\": [0.0, null, null, null, null, null, null], \"type\": \"scatter\", \"uid\": \"3e369728-dbfd-11e8-8ddb-a41f72875c19\"}, {\"line\": {\"dash\": \"dot\"}, \"name\": \"\\u5e94\\u4ea4\\u9ad8\\u8d28\\u91cf\\u62a5\\u544a\\u6570(\\u674e\\u5e86\\u539f)\", \"x\": [\"10-4\", \"8-3\", \"8-4\", \"9-1\", \"9-2\", \"9-3\", \"9-4\"], \"y\": [0.0, 0.0, 0.0, 1.0, 0.0, 0.0, null], \"type\": \"scatter\", \"uid\": \"3e369729-dbfd-11e8-8ddb-a41f72875c19\"}, {\"line\": {\"dash\": \"dash\"}, \"name\": \"\\u5e94\\u4ea4\\u9ad8\\u8d28\\u91cf\\u62a5\\u544a\\u6570(\\u9a6c\\u6f47)\", \"x\": [\"10-4\", \"8-3\", \"8-4\", \"9-1\", \"9-2\", \"9-3\", \"9-4\"], \"y\": [0.0, 0.0, 0.0, 0.0, 0.0, 0.0, 0.0], \"type\": \"scatter\", \"uid\": \"3e36972a-dbfd-11e8-8ddb-a41f72875c19\"}, {\"line\": {\"dash\": \"longdash\"}, \"name\": \"\\u5e94\\u4ea4\\u9ad8\\u8d28\\u91cf\\u62a5\\u544a\\u6570(\\u5360\\u4f1f)\", \"x\": [\"10-4\", \"8-3\", \"8-4\", \"9-1\", \"9-2\", \"9-3\", \"9-4\"], \"y\": [0.0, 1.0, 0.0, 2.0, 0.0, 0.0, 0.0], \"type\": \"scatter\", \"uid\": \"3e36972b-dbfd-11e8-8ddb-a41f72875c19\"}, {\"line\": {\"dash\": \"dashdot\"}, \"name\": \"\\u5e94\\u4ea4\\u9ad8\\u8d28\\u91cf\\u62a5\\u544a\\u6570(\\u5b8b\\u8fce\\u6960)\", \"x\": [\"10-4\", \"8-3\", \"8-4\", \"9-1\", \"9-2\", \"9-3\", \"9-4\"], \"y\": [null, 0.0, 0.0, 0.0, null, null, null], \"type\": \"scatter\", \"uid\": \"3e36972c-dbfd-11e8-8ddb-a41f72875c19\"}, {\"line\": {\"dash\": \"longdashdot\"}, \"name\": \"\\u5e94\\u4ea4\\u9ad8\\u8d28\\u91cf\\u62a5\\u544a\\u6570(\\u8303\\u65ed\\u5b81)\", \"x\": [\"10-4\", \"8-3\", \"8-4\", \"9-1\", \"9-2\", \"9-3\", \"9-4\"], \"y\": [0.0, 0.0, 0.0, 1.0, 2.0, 0.0, 0.0], \"type\": \"scatter\", \"uid\": \"3e36972d-dbfd-11e8-8ddb-a41f72875c19\"}, {\"line\": {\"dash\": \"solid\"}, \"name\": \"\\u5e94\\u4ea4\\u9ad8\\u8d28\\u91cf\\u62a5\\u544a\\u6570(\\u5c48\\u6602)\", \"x\": [\"10-4\", \"8-3\", \"8-4\", \"9-1\", \"9-2\", \"9-3\", \"9-4\"], \"y\": [0.0, null, null, null, null, null, null], \"type\": \"scatter\", \"uid\": \"3e36972e-dbfd-11e8-8ddb-a41f72875c19\"}, {\"line\": {\"dash\": \"dot\"}, \"name\": \"\\u5e94\\u4ea4\\u9ad8\\u8d28\\u91cf\\u62a5\\u544a\\u6570(\\u5f20\\u5b88\\u4f1f)\", \"x\": [\"10-4\", \"8-3\", \"8-4\", \"9-1\", \"9-2\", \"9-3\", \"9-4\"], \"y\": [0.0, 1.0, 0.0, 0.0, 0.0, 1.0, 1.0], \"type\": \"scatter\", \"uid\": \"3e36972f-dbfd-11e8-8ddb-a41f72875c19\"}, {\"line\": {\"dash\": \"dash\"}, \"name\": \"\\u5e94\\u4ea4\\u9ad8\\u8d28\\u91cf\\u62a5\\u544a\\u6570(\\u5c01\\u5f66\\u6770)\", \"x\": [\"10-4\", \"8-3\", \"8-4\", \"9-1\", \"9-2\", \"9-3\", \"9-4\"], \"y\": [0.0, 0.0, 0.0, 1.0, 0.0, 0.0, 0.0], \"type\": \"scatter\", \"uid\": \"3e369730-dbfd-11e8-8ddb-a41f72875c19\"}, {\"line\": {\"dash\": \"longdash\"}, \"name\": \"\\u5e94\\u4ea4\\u9ad8\\u8d28\\u91cf\\u62a5\\u544a\\u6570(\\u5f20\\u60a6)\", \"x\": [\"10-4\", \"8-3\", \"8-4\", \"9-1\", \"9-2\", \"9-3\", \"9-4\"], \"y\": [0.0, null, null, null, null, null, null], \"type\": \"scatter\", \"uid\": \"3e369731-dbfd-11e8-8ddb-a41f72875c19\"}, {\"line\": {\"dash\": \"dashdot\"}, \"name\": \"\\u5e94\\u4ea4\\u9ad8\\u8d28\\u91cf\\u62a5\\u544a\\u6570(\\u4e8e\\u6167)\", \"x\": [\"10-4\", \"8-3\", \"8-4\", \"9-1\", \"9-2\", \"9-3\", \"9-4\"], \"y\": [0.0, 0.0, 1.0, 0.0, 0.0, 0.0, 0.0], \"type\": \"scatter\", \"uid\": \"3e369732-dbfd-11e8-8ddb-a41f72875c19\"}, {\"line\": {\"dash\": \"solid\"}, \"name\": \"\\u63d0\\u4ea4\\u9ad8\\u8d28\\u91cf\\u62a5\\u544a\\u6570(\\u97e9\\u5c11\\u6000)\", \"x\": [\"10-4\", \"8-3\", \"8-4\", \"9-1\", \"9-2\", \"9-3\", \"9-4\"], \"y\": [0.0, 0.0, 1.0, 0.0, 1.0, 1.0, null], \"type\": \"scatter\", \"uid\": \"3e369733-dbfd-11e8-8ddb-a41f72875c19\"}, {\"line\": {\"dash\": \"dot\"}, \"name\": \"\\u63d0\\u4ea4\\u9ad8\\u8d28\\u91cf\\u62a5\\u544a\\u6570(\\u82cf\\u5f66\\u52cb)\", \"x\": [\"10-4\", \"8-3\", \"8-4\", \"9-1\", \"9-2\", \"9-3\", \"9-4\"], \"y\": [0.0, 0.0, 1.0, 1.0, 0.0, 0.0, null], \"type\": \"scatter\", \"uid\": \"3e369734-dbfd-11e8-8ddb-a41f72875c19\"}, {\"line\": {\"dash\": \"dash\"}, \"name\": \"\\u63d0\\u4ea4\\u9ad8\\u8d28\\u91cf\\u62a5\\u544a\\u6570(\\u5b5f\\u660a)\", \"x\": [\"10-4\", \"8-3\", \"8-4\", \"9-1\", \"9-2\", \"9-3\", \"9-4\"], \"y\": [0.0, 0.0, 0.0, 0.0, 0.0, 0.0, 0.0], \"type\": \"scatter\", \"uid\": \"3e369735-dbfd-11e8-8ddb-a41f72875c19\"}, {\"line\": {\"dash\": \"longdash\"}, \"name\": \"\\u63d0\\u4ea4\\u9ad8\\u8d28\\u91cf\\u62a5\\u544a\\u6570(\\u4efb\\u96ea)\", \"x\": [\"10-4\", \"8-3\", \"8-4\", \"9-1\", \"9-2\", \"9-3\", \"9-4\"], \"y\": [1.0, null, 0.0, 2.0, 0.0, 0.0, 0.0], \"type\": \"scatter\", \"uid\": \"3e369736-dbfd-11e8-8ddb-a41f72875c19\"}, {\"line\": {\"dash\": \"dashdot\"}, \"name\": \"\\u63d0\\u4ea4\\u9ad8\\u8d28\\u91cf\\u62a5\\u544a\\u6570(\\u6d82\\u6210\\u82b3)\", \"x\": [\"10-4\", \"8-3\", \"8-4\", \"9-1\", \"9-2\", \"9-3\", \"9-4\"], \"y\": [0.0, null, null, null, null, null, null], \"type\": \"scatter\", \"uid\": \"3e369737-dbfd-11e8-8ddb-a41f72875c19\"}, {\"line\": {\"dash\": \"longdashdot\"}, \"name\": \"\\u63d0\\u4ea4\\u9ad8\\u8d28\\u91cf\\u62a5\\u544a\\u6570(\\u4e8e\\u52c7\\u4e00)\", \"x\": [\"10-4\", \"8-3\", \"8-4\", \"9-1\", \"9-2\", \"9-3\", \"9-4\"], \"y\": [0.0, 0.0, 1.0, 2.0, 0.0, 0.0, 0.0], \"type\": \"scatter\", \"uid\": \"3e369738-dbfd-11e8-8ddb-a41f72875c19\"}, {\"line\": {\"dash\": \"solid\"}, \"name\": \"\\u63d0\\u4ea4\\u9ad8\\u8d28\\u91cf\\u62a5\\u544a\\u6570(\\u8def\\u6167\\u840d)\", \"x\": [\"10-4\", \"8-3\", \"8-4\", \"9-1\", \"9-2\", \"9-3\", \"9-4\"], \"y\": [0.0, 1.0, 0.0, 0.0, 0.0, 0.0, null], \"type\": \"scatter\", \"uid\": \"3e369739-dbfd-11e8-8ddb-a41f72875c19\"}, {\"line\": {\"dash\": \"dot\"}, \"name\": \"\\u63d0\\u4ea4\\u9ad8\\u8d28\\u91cf\\u62a5\\u544a\\u6570(\\u6768\\u4f1f\\u98de)\", \"x\": [\"10-4\", \"8-3\", \"8-4\", \"9-1\", \"9-2\", \"9-3\", \"9-4\"], \"y\": [0.0, 0.0, 0.0, 2.0, 1.0, 0.0, 0.0], \"type\": \"scatter\", \"uid\": \"3e36973a-dbfd-11e8-8ddb-a41f72875c19\"}, {\"line\": {\"dash\": \"dash\"}, \"name\": \"\\u63d0\\u4ea4\\u9ad8\\u8d28\\u91cf\\u62a5\\u544a\\u6570(\\u6636\\u5409\\u9633)\", \"x\": [\"10-4\", \"8-3\", \"8-4\", \"9-1\", \"9-2\", \"9-3\", \"9-4\"], \"y\": [0.0, null, null, null, null, null, null], \"type\": \"scatter\", \"uid\": \"3e36973b-dbfd-11e8-8ddb-a41f72875c19\"}, {\"line\": {\"dash\": \"longdash\"}, \"name\": \"\\u63d0\\u4ea4\\u9ad8\\u8d28\\u91cf\\u62a5\\u544a\\u6570(\\u738b\\u5b81)\", \"x\": [\"10-4\", \"8-3\", \"8-4\", \"9-1\", \"9-2\", \"9-3\", \"9-4\"], \"y\": [null, 0.0, 1.0, 0.0, null, null, null], \"type\": \"scatter\", \"uid\": \"3e36973c-dbfd-11e8-8ddb-a41f72875c19\"}, {\"line\": {\"dash\": \"dashdot\"}, \"name\": \"\\u63d0\\u4ea4\\u9ad8\\u8d28\\u91cf\\u62a5\\u544a\\u6570(\\u8f66\\u5929\\u680b)\", \"x\": [\"10-4\", \"8-3\", \"8-4\", \"9-1\", \"9-2\", \"9-3\", \"9-4\"], \"y\": [1.0, null, null, null, null, null, null], \"type\": \"scatter\", \"uid\": \"3e36973d-dbfd-11e8-8ddb-a41f72875c19\"}, {\"line\": {\"dash\": \"longdashdot\"}, \"name\": \"\\u63d0\\u4ea4\\u9ad8\\u8d28\\u91cf\\u62a5\\u544a\\u6570(\\u5468\\u6768)\", \"x\": [\"10-4\", \"8-3\", \"8-4\", \"9-1\", \"9-2\", \"9-3\", \"9-4\"], \"y\": [0.0, 0.0, 2.0, 0.0, 0.0, 0.0, 0.0], \"type\": \"scatter\", \"uid\": \"3e36973e-dbfd-11e8-8ddb-a41f72875c19\"}, {\"line\": {\"dash\": \"solid\"}, \"name\": \"\\u63d0\\u4ea4\\u9ad8\\u8d28\\u91cf\\u62a5\\u544a\\u6570(\\u6bb5\\u5229\\u5f3a)\", \"x\": [\"10-4\", \"8-3\", \"8-4\", \"9-1\", \"9-2\", \"9-3\", \"9-4\"], \"y\": [null, null, null, null, null, null, 0.0], \"type\": \"scatter\", \"uid\": \"3e36973f-dbfd-11e8-8ddb-a41f72875c19\"}, {\"line\": {\"dash\": \"dot\"}, \"name\": \"\\u63d0\\u4ea4\\u9ad8\\u8d28\\u91cf\\u62a5\\u544a\\u6570(\\u8d75\\u73a5)\", \"x\": [\"10-4\", \"8-3\", \"8-4\", \"9-1\", \"9-2\", \"9-3\", \"9-4\"], \"y\": [0.0, 0.0, 0.0, 2.0, 1.0, 0.0, 1.0], \"type\": \"scatter\", \"uid\": \"3e369740-dbfd-11e8-8ddb-a41f72875c19\"}, {\"line\": {\"dash\": \"dash\"}, \"name\": \"\\u63d0\\u4ea4\\u9ad8\\u8d28\\u91cf\\u62a5\\u544a\\u6570(\\u51b7\\u96ea)\", \"x\": [\"10-4\", \"8-3\", \"8-4\", \"9-1\", \"9-2\", \"9-3\", \"9-4\"], \"y\": [0.0, null, null, null, null, null, null], \"type\": \"scatter\", \"uid\": \"3e369741-dbfd-11e8-8ddb-a41f72875c19\"}, {\"line\": {\"dash\": \"longdash\"}, \"name\": \"\\u63d0\\u4ea4\\u9ad8\\u8d28\\u91cf\\u62a5\\u544a\\u6570(\\u51af\\u656c\\u5ca9)\", \"x\": [\"10-4\", \"8-3\", \"8-4\", \"9-1\", \"9-2\", \"9-3\", \"9-4\"], \"y\": [0.0, null, null, null, null, null, null], \"type\": \"scatter\", \"uid\": \"3e369742-dbfd-11e8-8ddb-a41f72875c19\"}, {\"line\": {\"dash\": \"dashdot\"}, \"name\": \"\\u63d0\\u4ea4\\u9ad8\\u8d28\\u91cf\\u62a5\\u544a\\u6570(\\u59da\\u76df\\u6210)\", \"x\": [\"10-4\", \"8-3\", \"8-4\", \"9-1\", \"9-2\", \"9-3\", \"9-4\"], \"y\": [0.0, 2.0, 0.0, 0.0, 1.0, 0.0, 0.0], \"type\": \"scatter\", \"uid\": \"3e369743-dbfd-11e8-8ddb-a41f72875c19\"}, {\"line\": {\"dash\": \"longdashdot\"}, \"name\": \"\\u63d0\\u4ea4\\u9ad8\\u8d28\\u91cf\\u62a5\\u544a\\u6570(\\u674e\\u534e\\u4e91)\", \"x\": [\"10-4\", \"8-3\", \"8-4\", \"9-1\", \"9-2\", \"9-3\", \"9-4\"], \"y\": [0.0, 0.0, 0.0, 0.0, 0.0, 0.0, null], \"type\": \"scatter\", \"uid\": \"3e369744-dbfd-11e8-8ddb-a41f72875c19\"}, {\"line\": {\"dash\": \"solid\"}, \"name\": \"\\u63d0\\u4ea4\\u9ad8\\u8d28\\u91cf\\u62a5\\u544a\\u6570(\\u9648\\u9e4f\\u71d5)\", \"x\": [\"10-4\", \"8-3\", \"8-4\", \"9-1\", \"9-2\", \"9-3\", \"9-4\"], \"y\": [0.0, null, null, null, null, null, null], \"type\": \"scatter\", \"uid\": \"3e369745-dbfd-11e8-8ddb-a41f72875c19\"}, {\"line\": {\"dash\": \"dot\"}, \"name\": \"\\u63d0\\u4ea4\\u9ad8\\u8d28\\u91cf\\u62a5\\u544a\\u6570(\\u5218\\u6167\\u73b2)\", \"x\": [\"10-4\", \"8-3\", \"8-4\", \"9-1\", \"9-2\", \"9-3\", \"9-4\"], \"y\": [null, 2.0, 0.0, 0.0, null, null, null], \"type\": \"scatter\", \"uid\": \"3e369746-dbfd-11e8-8ddb-a41f72875c19\"}, {\"line\": {\"dash\": \"dash\"}, \"name\": \"\\u63d0\\u4ea4\\u9ad8\\u8d28\\u91cf\\u62a5\\u544a\\u6570(\\u6c88\\u6069\\u60e0)\", \"x\": [\"10-4\", \"8-3\", \"8-4\", \"9-1\", \"9-2\", \"9-3\", \"9-4\"], \"y\": [0.0, null, null, null, null, null, null], \"type\": \"scatter\", \"uid\": \"3e369747-dbfd-11e8-8ddb-a41f72875c19\"}, {\"line\": {\"dash\": \"longdash\"}, \"name\": \"\\u63d0\\u4ea4\\u9ad8\\u8d28\\u91cf\\u62a5\\u544a\\u6570(\\u6797\\u6587\\u6587)\", \"x\": [\"10-4\", \"8-3\", \"8-4\", \"9-1\", \"9-2\", \"9-3\", \"9-4\"], \"y\": [0.0, null, null, null, null, null, null], \"type\": \"scatter\", \"uid\": \"3e369748-dbfd-11e8-8ddb-a41f72875c19\"}, {\"line\": {\"dash\": \"dashdot\"}, \"name\": \"\\u63d0\\u4ea4\\u9ad8\\u8d28\\u91cf\\u62a5\\u544a\\u6570(\\u8c22\\u5fb7\\u5065)\", \"x\": [\"10-4\", \"8-3\", \"8-4\", \"9-1\", \"9-2\", \"9-3\", \"9-4\"], \"y\": [0.0, 0.0, 0.0, null, 1.0, 4.0, 0.0], \"type\": \"scatter\", \"uid\": \"3e369749-dbfd-11e8-8ddb-a41f72875c19\"}, {\"line\": {\"dash\": \"longdashdot\"}, \"name\": \"\\u63d0\\u4ea4\\u9ad8\\u8d28\\u91cf\\u62a5\\u544a\\u6570(\\u5218\\u6c5f)\", \"x\": [\"10-4\", \"8-3\", \"8-4\", \"9-1\", \"9-2\", \"9-3\", \"9-4\"], \"y\": [0.0, 0.0, 0.0, 3.0, 0.0, 1.0, 0.0], \"type\": \"scatter\", \"uid\": \"3e36974a-dbfd-11e8-8ddb-a41f72875c19\"}, {\"line\": {\"dash\": \"solid\"}, \"name\": \"\\u63d0\\u4ea4\\u9ad8\\u8d28\\u91cf\\u62a5\\u544a\\u6570(\\u738b\\u7ea2)\", \"x\": [\"10-4\", \"8-3\", \"8-4\", \"9-1\", \"9-2\", \"9-3\", \"9-4\"], \"y\": [0.0, null, null, null, null, null, null], \"type\": \"scatter\", \"uid\": \"3e36974b-dbfd-11e8-8ddb-a41f72875c19\"}, {\"line\": {\"dash\": \"dot\"}, \"name\": \"\\u63d0\\u4ea4\\u9ad8\\u8d28\\u91cf\\u62a5\\u544a\\u6570(\\u674e\\u5e86\\u539f)\", \"x\": [\"10-4\", \"8-3\", \"8-4\", \"9-1\", \"9-2\", \"9-3\", \"9-4\"], \"y\": [0.0, 0.0, 0.0, 1.0, 0.0, 0.0, null], \"type\": \"scatter\", \"uid\": \"3e36974c-dbfd-11e8-8ddb-a41f72875c19\"}, {\"line\": {\"dash\": \"dash\"}, \"name\": \"\\u63d0\\u4ea4\\u9ad8\\u8d28\\u91cf\\u62a5\\u544a\\u6570(\\u9a6c\\u6f47)\", \"x\": [\"10-4\", \"8-3\", \"8-4\", \"9-1\", \"9-2\", \"9-3\", \"9-4\"], \"y\": [0.0, 0.0, 0.0, 0.0, 0.0, 0.0, 0.0], \"type\": \"scatter\", \"uid\": \"3e36974d-dbfd-11e8-8ddb-a41f72875c19\"}, {\"line\": {\"dash\": \"longdash\"}, \"name\": \"\\u63d0\\u4ea4\\u9ad8\\u8d28\\u91cf\\u62a5\\u544a\\u6570(\\u5360\\u4f1f)\", \"x\": [\"10-4\", \"8-3\", \"8-4\", \"9-1\", \"9-2\", \"9-3\", \"9-4\"], \"y\": [0.0, 1.0, 0.0, 2.0, 0.0, 0.0, 0.0], \"type\": \"scatter\", \"uid\": \"3e36974e-dbfd-11e8-8ddb-a41f72875c19\"}, {\"line\": {\"dash\": \"dashdot\"}, \"name\": \"\\u63d0\\u4ea4\\u9ad8\\u8d28\\u91cf\\u62a5\\u544a\\u6570(\\u5b8b\\u8fce\\u6960)\", \"x\": [\"10-4\", \"8-3\", \"8-4\", \"9-1\", \"9-2\", \"9-3\", \"9-4\"], \"y\": [null, 0.0, 0.0, 0.0, null, null, null], \"type\": \"scatter\", \"uid\": \"3e36974f-dbfd-11e8-8ddb-a41f72875c19\"}, {\"line\": {\"dash\": \"longdashdot\"}, \"name\": \"\\u63d0\\u4ea4\\u9ad8\\u8d28\\u91cf\\u62a5\\u544a\\u6570(\\u8303\\u65ed\\u5b81)\", \"x\": [\"10-4\", \"8-3\", \"8-4\", \"9-1\", \"9-2\", \"9-3\", \"9-4\"], \"y\": [0.0, 0.0, 0.0, 1.0, 1.0, 0.0, 0.0], \"type\": \"scatter\", \"uid\": \"3e369750-dbfd-11e8-8ddb-a41f72875c19\"}, {\"line\": {\"dash\": \"solid\"}, \"name\": \"\\u63d0\\u4ea4\\u9ad8\\u8d28\\u91cf\\u62a5\\u544a\\u6570(\\u5c48\\u6602)\", \"x\": [\"10-4\", \"8-3\", \"8-4\", \"9-1\", \"9-2\", \"9-3\", \"9-4\"], \"y\": [0.0, null, null, null, null, null, null], \"type\": \"scatter\", \"uid\": \"3e369751-dbfd-11e8-8ddb-a41f72875c19\"}, {\"line\": {\"dash\": \"dot\"}, \"name\": \"\\u63d0\\u4ea4\\u9ad8\\u8d28\\u91cf\\u62a5\\u544a\\u6570(\\u5f20\\u5b88\\u4f1f)\", \"x\": [\"10-4\", \"8-3\", \"8-4\", \"9-1\", \"9-2\", \"9-3\", \"9-4\"], \"y\": [0.0, 1.0, 0.0, 0.0, 0.0, 1.0, 2.0], \"type\": \"scatter\", \"uid\": \"3e369752-dbfd-11e8-8ddb-a41f72875c19\"}, {\"line\": {\"dash\": \"dash\"}, \"name\": \"\\u63d0\\u4ea4\\u9ad8\\u8d28\\u91cf\\u62a5\\u544a\\u6570(\\u5c01\\u5f66\\u6770)\", \"x\": [\"10-4\", \"8-3\", \"8-4\", \"9-1\", \"9-2\", \"9-3\", \"9-4\"], \"y\": [0.0, 0.0, 0.0, 1.0, 0.0, 0.0, 0.0], \"type\": \"scatter\", \"uid\": \"3e369753-dbfd-11e8-8ddb-a41f72875c19\"}, {\"line\": {\"dash\": \"longdash\"}, \"name\": \"\\u63d0\\u4ea4\\u9ad8\\u8d28\\u91cf\\u62a5\\u544a\\u6570(\\u5f20\\u60a6)\", \"x\": [\"10-4\", \"8-3\", \"8-4\", \"9-1\", \"9-2\", \"9-3\", \"9-4\"], \"y\": [0.0, null, null, null, null, null, null], \"type\": \"scatter\", \"uid\": \"3e369754-dbfd-11e8-8ddb-a41f72875c19\"}, {\"line\": {\"dash\": \"dashdot\"}, \"name\": \"\\u63d0\\u4ea4\\u9ad8\\u8d28\\u91cf\\u62a5\\u544a\\u6570(\\u4e8e\\u6167)\", \"x\": [\"10-4\", \"8-3\", \"8-4\", \"9-1\", \"9-2\", \"9-3\", \"9-4\"], \"y\": [0.0, 0.0, 1.0, 0.0, 0.0, 0.0, 0.0], \"type\": \"scatter\", \"uid\": \"3e369755-dbfd-11e8-8ddb-a41f72875c19\"}], {\"title\": \"\\u5e94\\u4ea4\\u9ad8\\u8d28\\u91cf\\u62a5\\u544a\\u6570&\\u63d0\\u4ea4\\u9ad8\\u8d28\\u91cf\\u62a5\\u544a\\u6570\\u5468\\u8d8b\\u52bf\\u56fe\", \"xaxis\": {\"mirror\": \"all\", \"nticks\": 20, \"showgrid\": true, \"showline\": true, \"title\": \"\\u5468\", \"type\": \"category\", \"zeroline\": true}, \"yaxis\": {\"mirror\": \"all\", \"nticks\": 20, \"showgrid\": true, \"showline\": true, \"title\": \"\\u5e94\\u4ea4\\u9ad8\\u8d28\\u91cf\\u62a5\\u544a\\u6570&\\u63d0\\u4ea4\\u9ad8\\u8d28\\u91cf\\u62a5\\u544a\\u6570\", \"zeroline\": true}}, {\"showLink\": true, \"linkText\": \"Export to plot.ly\"})});</script>"
      ],
      "text/vnd.plotly.v1+html": [
       "<div id=\"af2be37a-4597-42ab-a08b-ba86e25d6b92\" style=\"height: 525px; width: 100%;\" class=\"plotly-graph-div\"></div><script type=\"text/javascript\">require([\"plotly\"], function(Plotly) { window.PLOTLYENV=window.PLOTLYENV || {};window.PLOTLYENV.BASE_URL=\"https://plot.ly\";Plotly.newPlot(\"af2be37a-4597-42ab-a08b-ba86e25d6b92\", [{\"line\": {\"dash\": \"solid\"}, \"name\": \"\\u5e94\\u4ea4\\u9ad8\\u8d28\\u91cf\\u62a5\\u544a\\u6570(\\u97e9\\u5c11\\u6000)\", \"x\": [\"10-4\", \"8-3\", \"8-4\", \"9-1\", \"9-2\", \"9-3\", \"9-4\"], \"y\": [0.0, 0.0, 1.0, 0.0, 1.0, 1.0, null], \"type\": \"scatter\", \"uid\": \"3e369710-dbfd-11e8-8ddb-a41f72875c19\"}, {\"line\": {\"dash\": \"dot\"}, \"name\": \"\\u5e94\\u4ea4\\u9ad8\\u8d28\\u91cf\\u62a5\\u544a\\u6570(\\u82cf\\u5f66\\u52cb)\", \"x\": [\"10-4\", \"8-3\", \"8-4\", \"9-1\", \"9-2\", \"9-3\", \"9-4\"], \"y\": [0.0, 0.0, 1.0, 1.0, 0.0, 0.0, null], \"type\": \"scatter\", \"uid\": \"3e369711-dbfd-11e8-8ddb-a41f72875c19\"}, {\"line\": {\"dash\": \"dash\"}, \"name\": \"\\u5e94\\u4ea4\\u9ad8\\u8d28\\u91cf\\u62a5\\u544a\\u6570(\\u5b5f\\u660a)\", \"x\": [\"10-4\", \"8-3\", \"8-4\", \"9-1\", \"9-2\", \"9-3\", \"9-4\"], \"y\": [0.0, 0.0, 0.0, 0.0, 0.0, 0.0, 0.0], \"type\": \"scatter\", \"uid\": \"3e369712-dbfd-11e8-8ddb-a41f72875c19\"}, {\"line\": {\"dash\": \"longdash\"}, \"name\": \"\\u5e94\\u4ea4\\u9ad8\\u8d28\\u91cf\\u62a5\\u544a\\u6570(\\u4efb\\u96ea)\", \"x\": [\"10-4\", \"8-3\", \"8-4\", \"9-1\", \"9-2\", \"9-3\", \"9-4\"], \"y\": [1.0, null, 0.0, 2.0, 0.0, 0.0, 0.0], \"type\": \"scatter\", \"uid\": \"3e369713-dbfd-11e8-8ddb-a41f72875c19\"}, {\"line\": {\"dash\": \"dashdot\"}, \"name\": \"\\u5e94\\u4ea4\\u9ad8\\u8d28\\u91cf\\u62a5\\u544a\\u6570(\\u6d82\\u6210\\u82b3)\", \"x\": [\"10-4\", \"8-3\", \"8-4\", \"9-1\", \"9-2\", \"9-3\", \"9-4\"], \"y\": [0.0, null, null, null, null, null, null], \"type\": \"scatter\", \"uid\": \"3e369714-dbfd-11e8-8ddb-a41f72875c19\"}, {\"line\": {\"dash\": \"longdashdot\"}, \"name\": \"\\u5e94\\u4ea4\\u9ad8\\u8d28\\u91cf\\u62a5\\u544a\\u6570(\\u4e8e\\u52c7\\u4e00)\", \"x\": [\"10-4\", \"8-3\", \"8-4\", \"9-1\", \"9-2\", \"9-3\", \"9-4\"], \"y\": [0.0, 0.0, 1.0, 2.0, 0.0, 0.0, 0.0], \"type\": \"scatter\", \"uid\": \"3e369715-dbfd-11e8-8ddb-a41f72875c19\"}, {\"line\": {\"dash\": \"solid\"}, \"name\": \"\\u5e94\\u4ea4\\u9ad8\\u8d28\\u91cf\\u62a5\\u544a\\u6570(\\u8def\\u6167\\u840d)\", \"x\": [\"10-4\", \"8-3\", \"8-4\", \"9-1\", \"9-2\", \"9-3\", \"9-4\"], \"y\": [0.0, 1.0, 0.0, 0.0, 0.0, 0.0, null], \"type\": \"scatter\", \"uid\": \"3e369716-dbfd-11e8-8ddb-a41f72875c19\"}, {\"line\": {\"dash\": \"dot\"}, \"name\": \"\\u5e94\\u4ea4\\u9ad8\\u8d28\\u91cf\\u62a5\\u544a\\u6570(\\u6768\\u4f1f\\u98de)\", \"x\": [\"10-4\", \"8-3\", \"8-4\", \"9-1\", \"9-2\", \"9-3\", \"9-4\"], \"y\": [0.0, 0.0, 0.0, 2.0, 1.0, 0.0, 0.0], \"type\": \"scatter\", \"uid\": \"3e369717-dbfd-11e8-8ddb-a41f72875c19\"}, {\"line\": {\"dash\": \"dash\"}, \"name\": \"\\u5e94\\u4ea4\\u9ad8\\u8d28\\u91cf\\u62a5\\u544a\\u6570(\\u6636\\u5409\\u9633)\", \"x\": [\"10-4\", \"8-3\", \"8-4\", \"9-1\", \"9-2\", \"9-3\", \"9-4\"], \"y\": [0.0, null, null, null, null, null, null], \"type\": \"scatter\", \"uid\": \"3e369718-dbfd-11e8-8ddb-a41f72875c19\"}, {\"line\": {\"dash\": \"longdash\"}, \"name\": \"\\u5e94\\u4ea4\\u9ad8\\u8d28\\u91cf\\u62a5\\u544a\\u6570(\\u738b\\u5b81)\", \"x\": [\"10-4\", \"8-3\", \"8-4\", \"9-1\", \"9-2\", \"9-3\", \"9-4\"], \"y\": [null, 0.0, 1.0, 0.0, null, null, null], \"type\": \"scatter\", \"uid\": \"3e369719-dbfd-11e8-8ddb-a41f72875c19\"}, {\"line\": {\"dash\": \"dashdot\"}, \"name\": \"\\u5e94\\u4ea4\\u9ad8\\u8d28\\u91cf\\u62a5\\u544a\\u6570(\\u8f66\\u5929\\u680b)\", \"x\": [\"10-4\", \"8-3\", \"8-4\", \"9-1\", \"9-2\", \"9-3\", \"9-4\"], \"y\": [1.0, null, null, null, null, null, null], \"type\": \"scatter\", \"uid\": \"3e36971a-dbfd-11e8-8ddb-a41f72875c19\"}, {\"line\": {\"dash\": \"longdashdot\"}, \"name\": \"\\u5e94\\u4ea4\\u9ad8\\u8d28\\u91cf\\u62a5\\u544a\\u6570(\\u5468\\u6768)\", \"x\": [\"10-4\", \"8-3\", \"8-4\", \"9-1\", \"9-2\", \"9-3\", \"9-4\"], \"y\": [0.0, 0.0, 2.0, 0.0, 0.0, 0.0, 0.0], \"type\": \"scatter\", \"uid\": \"3e36971b-dbfd-11e8-8ddb-a41f72875c19\"}, {\"line\": {\"dash\": \"solid\"}, \"name\": \"\\u5e94\\u4ea4\\u9ad8\\u8d28\\u91cf\\u62a5\\u544a\\u6570(\\u6bb5\\u5229\\u5f3a)\", \"x\": [\"10-4\", \"8-3\", \"8-4\", \"9-1\", \"9-2\", \"9-3\", \"9-4\"], \"y\": [null, null, null, null, null, null, 0.0], \"type\": \"scatter\", \"uid\": \"3e36971c-dbfd-11e8-8ddb-a41f72875c19\"}, {\"line\": {\"dash\": \"dot\"}, \"name\": \"\\u5e94\\u4ea4\\u9ad8\\u8d28\\u91cf\\u62a5\\u544a\\u6570(\\u8d75\\u73a5)\", \"x\": [\"10-4\", \"8-3\", \"8-4\", \"9-1\", \"9-2\", \"9-3\", \"9-4\"], \"y\": [0.0, 0.0, 0.0, 2.0, 1.0, 0.0, 1.0], \"type\": \"scatter\", \"uid\": \"3e36971d-dbfd-11e8-8ddb-a41f72875c19\"}, {\"line\": {\"dash\": \"dash\"}, \"name\": \"\\u5e94\\u4ea4\\u9ad8\\u8d28\\u91cf\\u62a5\\u544a\\u6570(\\u51b7\\u96ea)\", \"x\": [\"10-4\", \"8-3\", \"8-4\", \"9-1\", \"9-2\", \"9-3\", \"9-4\"], \"y\": [0.0, null, null, null, null, null, null], \"type\": \"scatter\", \"uid\": \"3e36971e-dbfd-11e8-8ddb-a41f72875c19\"}, {\"line\": {\"dash\": \"longdash\"}, \"name\": \"\\u5e94\\u4ea4\\u9ad8\\u8d28\\u91cf\\u62a5\\u544a\\u6570(\\u51af\\u656c\\u5ca9)\", \"x\": [\"10-4\", \"8-3\", \"8-4\", \"9-1\", \"9-2\", \"9-3\", \"9-4\"], \"y\": [0.0, null, null, null, null, null, null], \"type\": \"scatter\", \"uid\": \"3e36971f-dbfd-11e8-8ddb-a41f72875c19\"}, {\"line\": {\"dash\": \"dashdot\"}, \"name\": \"\\u5e94\\u4ea4\\u9ad8\\u8d28\\u91cf\\u62a5\\u544a\\u6570(\\u59da\\u76df\\u6210)\", \"x\": [\"10-4\", \"8-3\", \"8-4\", \"9-1\", \"9-2\", \"9-3\", \"9-4\"], \"y\": [0.0, 2.0, 0.0, 0.0, 1.0, 0.0, 0.0], \"type\": \"scatter\", \"uid\": \"3e369720-dbfd-11e8-8ddb-a41f72875c19\"}, {\"line\": {\"dash\": \"longdashdot\"}, \"name\": \"\\u5e94\\u4ea4\\u9ad8\\u8d28\\u91cf\\u62a5\\u544a\\u6570(\\u674e\\u534e\\u4e91)\", \"x\": [\"10-4\", \"8-3\", \"8-4\", \"9-1\", \"9-2\", \"9-3\", \"9-4\"], \"y\": [0.0, 0.0, 0.0, 0.0, 0.0, 0.0, null], \"type\": \"scatter\", \"uid\": \"3e369721-dbfd-11e8-8ddb-a41f72875c19\"}, {\"line\": {\"dash\": \"solid\"}, \"name\": \"\\u5e94\\u4ea4\\u9ad8\\u8d28\\u91cf\\u62a5\\u544a\\u6570(\\u9648\\u9e4f\\u71d5)\", \"x\": [\"10-4\", \"8-3\", \"8-4\", \"9-1\", \"9-2\", \"9-3\", \"9-4\"], \"y\": [0.0, null, null, null, null, null, null], \"type\": \"scatter\", \"uid\": \"3e369722-dbfd-11e8-8ddb-a41f72875c19\"}, {\"line\": {\"dash\": \"dot\"}, \"name\": \"\\u5e94\\u4ea4\\u9ad8\\u8d28\\u91cf\\u62a5\\u544a\\u6570(\\u5218\\u6167\\u73b2)\", \"x\": [\"10-4\", \"8-3\", \"8-4\", \"9-1\", \"9-2\", \"9-3\", \"9-4\"], \"y\": [null, 2.0, 0.0, 0.0, null, null, null], \"type\": \"scatter\", \"uid\": \"3e369723-dbfd-11e8-8ddb-a41f72875c19\"}, {\"line\": {\"dash\": \"dash\"}, \"name\": \"\\u5e94\\u4ea4\\u9ad8\\u8d28\\u91cf\\u62a5\\u544a\\u6570(\\u6c88\\u6069\\u60e0)\", \"x\": [\"10-4\", \"8-3\", \"8-4\", \"9-1\", \"9-2\", \"9-3\", \"9-4\"], \"y\": [1.0, null, null, null, null, null, null], \"type\": \"scatter\", \"uid\": \"3e369724-dbfd-11e8-8ddb-a41f72875c19\"}, {\"line\": {\"dash\": \"longdash\"}, \"name\": \"\\u5e94\\u4ea4\\u9ad8\\u8d28\\u91cf\\u62a5\\u544a\\u6570(\\u6797\\u6587\\u6587)\", \"x\": [\"10-4\", \"8-3\", \"8-4\", \"9-1\", \"9-2\", \"9-3\", \"9-4\"], \"y\": [0.0, null, null, null, null, null, null], \"type\": \"scatter\", \"uid\": \"3e369725-dbfd-11e8-8ddb-a41f72875c19\"}, {\"line\": {\"dash\": \"dashdot\"}, \"name\": \"\\u5e94\\u4ea4\\u9ad8\\u8d28\\u91cf\\u62a5\\u544a\\u6570(\\u8c22\\u5fb7\\u5065)\", \"x\": [\"10-4\", \"8-3\", \"8-4\", \"9-1\", \"9-2\", \"9-3\", \"9-4\"], \"y\": [0.0, 0.0, 0.0, null, 2.0, 4.0, 0.0], \"type\": \"scatter\", \"uid\": \"3e369726-dbfd-11e8-8ddb-a41f72875c19\"}, {\"line\": {\"dash\": \"longdashdot\"}, \"name\": \"\\u5e94\\u4ea4\\u9ad8\\u8d28\\u91cf\\u62a5\\u544a\\u6570(\\u5218\\u6c5f)\", \"x\": [\"10-4\", \"8-3\", \"8-4\", \"9-1\", \"9-2\", \"9-3\", \"9-4\"], \"y\": [0.0, 0.0, 0.0, 3.0, 0.0, 0.0, 0.0], \"type\": \"scatter\", \"uid\": \"3e369727-dbfd-11e8-8ddb-a41f72875c19\"}, {\"line\": {\"dash\": \"solid\"}, \"name\": \"\\u5e94\\u4ea4\\u9ad8\\u8d28\\u91cf\\u62a5\\u544a\\u6570(\\u738b\\u7ea2)\", \"x\": [\"10-4\", \"8-3\", \"8-4\", \"9-1\", \"9-2\", \"9-3\", \"9-4\"], \"y\": [0.0, null, null, null, null, null, null], \"type\": \"scatter\", \"uid\": \"3e369728-dbfd-11e8-8ddb-a41f72875c19\"}, {\"line\": {\"dash\": \"dot\"}, \"name\": \"\\u5e94\\u4ea4\\u9ad8\\u8d28\\u91cf\\u62a5\\u544a\\u6570(\\u674e\\u5e86\\u539f)\", \"x\": [\"10-4\", \"8-3\", \"8-4\", \"9-1\", \"9-2\", \"9-3\", \"9-4\"], \"y\": [0.0, 0.0, 0.0, 1.0, 0.0, 0.0, null], \"type\": \"scatter\", \"uid\": \"3e369729-dbfd-11e8-8ddb-a41f72875c19\"}, {\"line\": {\"dash\": \"dash\"}, \"name\": \"\\u5e94\\u4ea4\\u9ad8\\u8d28\\u91cf\\u62a5\\u544a\\u6570(\\u9a6c\\u6f47)\", \"x\": [\"10-4\", \"8-3\", \"8-4\", \"9-1\", \"9-2\", \"9-3\", \"9-4\"], \"y\": [0.0, 0.0, 0.0, 0.0, 0.0, 0.0, 0.0], \"type\": \"scatter\", \"uid\": \"3e36972a-dbfd-11e8-8ddb-a41f72875c19\"}, {\"line\": {\"dash\": \"longdash\"}, \"name\": \"\\u5e94\\u4ea4\\u9ad8\\u8d28\\u91cf\\u62a5\\u544a\\u6570(\\u5360\\u4f1f)\", \"x\": [\"10-4\", \"8-3\", \"8-4\", \"9-1\", \"9-2\", \"9-3\", \"9-4\"], \"y\": [0.0, 1.0, 0.0, 2.0, 0.0, 0.0, 0.0], \"type\": \"scatter\", \"uid\": \"3e36972b-dbfd-11e8-8ddb-a41f72875c19\"}, {\"line\": {\"dash\": \"dashdot\"}, \"name\": \"\\u5e94\\u4ea4\\u9ad8\\u8d28\\u91cf\\u62a5\\u544a\\u6570(\\u5b8b\\u8fce\\u6960)\", \"x\": [\"10-4\", \"8-3\", \"8-4\", \"9-1\", \"9-2\", \"9-3\", \"9-4\"], \"y\": [null, 0.0, 0.0, 0.0, null, null, null], \"type\": \"scatter\", \"uid\": \"3e36972c-dbfd-11e8-8ddb-a41f72875c19\"}, {\"line\": {\"dash\": \"longdashdot\"}, \"name\": \"\\u5e94\\u4ea4\\u9ad8\\u8d28\\u91cf\\u62a5\\u544a\\u6570(\\u8303\\u65ed\\u5b81)\", \"x\": [\"10-4\", \"8-3\", \"8-4\", \"9-1\", \"9-2\", \"9-3\", \"9-4\"], \"y\": [0.0, 0.0, 0.0, 1.0, 2.0, 0.0, 0.0], \"type\": \"scatter\", \"uid\": \"3e36972d-dbfd-11e8-8ddb-a41f72875c19\"}, {\"line\": {\"dash\": \"solid\"}, \"name\": \"\\u5e94\\u4ea4\\u9ad8\\u8d28\\u91cf\\u62a5\\u544a\\u6570(\\u5c48\\u6602)\", \"x\": [\"10-4\", \"8-3\", \"8-4\", \"9-1\", \"9-2\", \"9-3\", \"9-4\"], \"y\": [0.0, null, null, null, null, null, null], \"type\": \"scatter\", \"uid\": \"3e36972e-dbfd-11e8-8ddb-a41f72875c19\"}, {\"line\": {\"dash\": \"dot\"}, \"name\": \"\\u5e94\\u4ea4\\u9ad8\\u8d28\\u91cf\\u62a5\\u544a\\u6570(\\u5f20\\u5b88\\u4f1f)\", \"x\": [\"10-4\", \"8-3\", \"8-4\", \"9-1\", \"9-2\", \"9-3\", \"9-4\"], \"y\": [0.0, 1.0, 0.0, 0.0, 0.0, 1.0, 1.0], \"type\": \"scatter\", \"uid\": \"3e36972f-dbfd-11e8-8ddb-a41f72875c19\"}, {\"line\": {\"dash\": \"dash\"}, \"name\": \"\\u5e94\\u4ea4\\u9ad8\\u8d28\\u91cf\\u62a5\\u544a\\u6570(\\u5c01\\u5f66\\u6770)\", \"x\": [\"10-4\", \"8-3\", \"8-4\", \"9-1\", \"9-2\", \"9-3\", \"9-4\"], \"y\": [0.0, 0.0, 0.0, 1.0, 0.0, 0.0, 0.0], \"type\": \"scatter\", \"uid\": \"3e369730-dbfd-11e8-8ddb-a41f72875c19\"}, {\"line\": {\"dash\": \"longdash\"}, \"name\": \"\\u5e94\\u4ea4\\u9ad8\\u8d28\\u91cf\\u62a5\\u544a\\u6570(\\u5f20\\u60a6)\", \"x\": [\"10-4\", \"8-3\", \"8-4\", \"9-1\", \"9-2\", \"9-3\", \"9-4\"], \"y\": [0.0, null, null, null, null, null, null], \"type\": \"scatter\", \"uid\": \"3e369731-dbfd-11e8-8ddb-a41f72875c19\"}, {\"line\": {\"dash\": \"dashdot\"}, \"name\": \"\\u5e94\\u4ea4\\u9ad8\\u8d28\\u91cf\\u62a5\\u544a\\u6570(\\u4e8e\\u6167)\", \"x\": [\"10-4\", \"8-3\", \"8-4\", \"9-1\", \"9-2\", \"9-3\", \"9-4\"], \"y\": [0.0, 0.0, 1.0, 0.0, 0.0, 0.0, 0.0], \"type\": \"scatter\", \"uid\": \"3e369732-dbfd-11e8-8ddb-a41f72875c19\"}, {\"line\": {\"dash\": \"solid\"}, \"name\": \"\\u63d0\\u4ea4\\u9ad8\\u8d28\\u91cf\\u62a5\\u544a\\u6570(\\u97e9\\u5c11\\u6000)\", \"x\": [\"10-4\", \"8-3\", \"8-4\", \"9-1\", \"9-2\", \"9-3\", \"9-4\"], \"y\": [0.0, 0.0, 1.0, 0.0, 1.0, 1.0, null], \"type\": \"scatter\", \"uid\": \"3e369733-dbfd-11e8-8ddb-a41f72875c19\"}, {\"line\": {\"dash\": \"dot\"}, \"name\": \"\\u63d0\\u4ea4\\u9ad8\\u8d28\\u91cf\\u62a5\\u544a\\u6570(\\u82cf\\u5f66\\u52cb)\", \"x\": [\"10-4\", \"8-3\", \"8-4\", \"9-1\", \"9-2\", \"9-3\", \"9-4\"], \"y\": [0.0, 0.0, 1.0, 1.0, 0.0, 0.0, null], \"type\": \"scatter\", \"uid\": \"3e369734-dbfd-11e8-8ddb-a41f72875c19\"}, {\"line\": {\"dash\": \"dash\"}, \"name\": \"\\u63d0\\u4ea4\\u9ad8\\u8d28\\u91cf\\u62a5\\u544a\\u6570(\\u5b5f\\u660a)\", \"x\": [\"10-4\", \"8-3\", \"8-4\", \"9-1\", \"9-2\", \"9-3\", \"9-4\"], \"y\": [0.0, 0.0, 0.0, 0.0, 0.0, 0.0, 0.0], \"type\": \"scatter\", \"uid\": \"3e369735-dbfd-11e8-8ddb-a41f72875c19\"}, {\"line\": {\"dash\": \"longdash\"}, \"name\": \"\\u63d0\\u4ea4\\u9ad8\\u8d28\\u91cf\\u62a5\\u544a\\u6570(\\u4efb\\u96ea)\", \"x\": [\"10-4\", \"8-3\", \"8-4\", \"9-1\", \"9-2\", \"9-3\", \"9-4\"], \"y\": [1.0, null, 0.0, 2.0, 0.0, 0.0, 0.0], \"type\": \"scatter\", \"uid\": \"3e369736-dbfd-11e8-8ddb-a41f72875c19\"}, {\"line\": {\"dash\": \"dashdot\"}, \"name\": \"\\u63d0\\u4ea4\\u9ad8\\u8d28\\u91cf\\u62a5\\u544a\\u6570(\\u6d82\\u6210\\u82b3)\", \"x\": [\"10-4\", \"8-3\", \"8-4\", \"9-1\", \"9-2\", \"9-3\", \"9-4\"], \"y\": [0.0, null, null, null, null, null, null], \"type\": \"scatter\", \"uid\": \"3e369737-dbfd-11e8-8ddb-a41f72875c19\"}, {\"line\": {\"dash\": \"longdashdot\"}, \"name\": \"\\u63d0\\u4ea4\\u9ad8\\u8d28\\u91cf\\u62a5\\u544a\\u6570(\\u4e8e\\u52c7\\u4e00)\", \"x\": [\"10-4\", \"8-3\", \"8-4\", \"9-1\", \"9-2\", \"9-3\", \"9-4\"], \"y\": [0.0, 0.0, 1.0, 2.0, 0.0, 0.0, 0.0], \"type\": \"scatter\", \"uid\": \"3e369738-dbfd-11e8-8ddb-a41f72875c19\"}, {\"line\": {\"dash\": \"solid\"}, \"name\": \"\\u63d0\\u4ea4\\u9ad8\\u8d28\\u91cf\\u62a5\\u544a\\u6570(\\u8def\\u6167\\u840d)\", \"x\": [\"10-4\", \"8-3\", \"8-4\", \"9-1\", \"9-2\", \"9-3\", \"9-4\"], \"y\": [0.0, 1.0, 0.0, 0.0, 0.0, 0.0, null], \"type\": \"scatter\", \"uid\": \"3e369739-dbfd-11e8-8ddb-a41f72875c19\"}, {\"line\": {\"dash\": \"dot\"}, \"name\": \"\\u63d0\\u4ea4\\u9ad8\\u8d28\\u91cf\\u62a5\\u544a\\u6570(\\u6768\\u4f1f\\u98de)\", \"x\": [\"10-4\", \"8-3\", \"8-4\", \"9-1\", \"9-2\", \"9-3\", \"9-4\"], \"y\": [0.0, 0.0, 0.0, 2.0, 1.0, 0.0, 0.0], \"type\": \"scatter\", \"uid\": \"3e36973a-dbfd-11e8-8ddb-a41f72875c19\"}, {\"line\": {\"dash\": \"dash\"}, \"name\": \"\\u63d0\\u4ea4\\u9ad8\\u8d28\\u91cf\\u62a5\\u544a\\u6570(\\u6636\\u5409\\u9633)\", \"x\": [\"10-4\", \"8-3\", \"8-4\", \"9-1\", \"9-2\", \"9-3\", \"9-4\"], \"y\": [0.0, null, null, null, null, null, null], \"type\": \"scatter\", \"uid\": \"3e36973b-dbfd-11e8-8ddb-a41f72875c19\"}, {\"line\": {\"dash\": \"longdash\"}, \"name\": \"\\u63d0\\u4ea4\\u9ad8\\u8d28\\u91cf\\u62a5\\u544a\\u6570(\\u738b\\u5b81)\", \"x\": [\"10-4\", \"8-3\", \"8-4\", \"9-1\", \"9-2\", \"9-3\", \"9-4\"], \"y\": [null, 0.0, 1.0, 0.0, null, null, null], \"type\": \"scatter\", \"uid\": \"3e36973c-dbfd-11e8-8ddb-a41f72875c19\"}, {\"line\": {\"dash\": \"dashdot\"}, \"name\": \"\\u63d0\\u4ea4\\u9ad8\\u8d28\\u91cf\\u62a5\\u544a\\u6570(\\u8f66\\u5929\\u680b)\", \"x\": [\"10-4\", \"8-3\", \"8-4\", \"9-1\", \"9-2\", \"9-3\", \"9-4\"], \"y\": [1.0, null, null, null, null, null, null], \"type\": \"scatter\", \"uid\": \"3e36973d-dbfd-11e8-8ddb-a41f72875c19\"}, {\"line\": {\"dash\": \"longdashdot\"}, \"name\": \"\\u63d0\\u4ea4\\u9ad8\\u8d28\\u91cf\\u62a5\\u544a\\u6570(\\u5468\\u6768)\", \"x\": [\"10-4\", \"8-3\", \"8-4\", \"9-1\", \"9-2\", \"9-3\", \"9-4\"], \"y\": [0.0, 0.0, 2.0, 0.0, 0.0, 0.0, 0.0], \"type\": \"scatter\", \"uid\": \"3e36973e-dbfd-11e8-8ddb-a41f72875c19\"}, {\"line\": {\"dash\": \"solid\"}, \"name\": \"\\u63d0\\u4ea4\\u9ad8\\u8d28\\u91cf\\u62a5\\u544a\\u6570(\\u6bb5\\u5229\\u5f3a)\", \"x\": [\"10-4\", \"8-3\", \"8-4\", \"9-1\", \"9-2\", \"9-3\", \"9-4\"], \"y\": [null, null, null, null, null, null, 0.0], \"type\": \"scatter\", \"uid\": \"3e36973f-dbfd-11e8-8ddb-a41f72875c19\"}, {\"line\": {\"dash\": \"dot\"}, \"name\": \"\\u63d0\\u4ea4\\u9ad8\\u8d28\\u91cf\\u62a5\\u544a\\u6570(\\u8d75\\u73a5)\", \"x\": [\"10-4\", \"8-3\", \"8-4\", \"9-1\", \"9-2\", \"9-3\", \"9-4\"], \"y\": [0.0, 0.0, 0.0, 2.0, 1.0, 0.0, 1.0], \"type\": \"scatter\", \"uid\": \"3e369740-dbfd-11e8-8ddb-a41f72875c19\"}, {\"line\": {\"dash\": \"dash\"}, \"name\": \"\\u63d0\\u4ea4\\u9ad8\\u8d28\\u91cf\\u62a5\\u544a\\u6570(\\u51b7\\u96ea)\", \"x\": [\"10-4\", \"8-3\", \"8-4\", \"9-1\", \"9-2\", \"9-3\", \"9-4\"], \"y\": [0.0, null, null, null, null, null, null], \"type\": \"scatter\", \"uid\": \"3e369741-dbfd-11e8-8ddb-a41f72875c19\"}, {\"line\": {\"dash\": \"longdash\"}, \"name\": \"\\u63d0\\u4ea4\\u9ad8\\u8d28\\u91cf\\u62a5\\u544a\\u6570(\\u51af\\u656c\\u5ca9)\", \"x\": [\"10-4\", \"8-3\", \"8-4\", \"9-1\", \"9-2\", \"9-3\", \"9-4\"], \"y\": [0.0, null, null, null, null, null, null], \"type\": \"scatter\", \"uid\": \"3e369742-dbfd-11e8-8ddb-a41f72875c19\"}, {\"line\": {\"dash\": \"dashdot\"}, \"name\": \"\\u63d0\\u4ea4\\u9ad8\\u8d28\\u91cf\\u62a5\\u544a\\u6570(\\u59da\\u76df\\u6210)\", \"x\": [\"10-4\", \"8-3\", \"8-4\", \"9-1\", \"9-2\", \"9-3\", \"9-4\"], \"y\": [0.0, 2.0, 0.0, 0.0, 1.0, 0.0, 0.0], \"type\": \"scatter\", \"uid\": \"3e369743-dbfd-11e8-8ddb-a41f72875c19\"}, {\"line\": {\"dash\": \"longdashdot\"}, \"name\": \"\\u63d0\\u4ea4\\u9ad8\\u8d28\\u91cf\\u62a5\\u544a\\u6570(\\u674e\\u534e\\u4e91)\", \"x\": [\"10-4\", \"8-3\", \"8-4\", \"9-1\", \"9-2\", \"9-3\", \"9-4\"], \"y\": [0.0, 0.0, 0.0, 0.0, 0.0, 0.0, null], \"type\": \"scatter\", \"uid\": \"3e369744-dbfd-11e8-8ddb-a41f72875c19\"}, {\"line\": {\"dash\": \"solid\"}, \"name\": \"\\u63d0\\u4ea4\\u9ad8\\u8d28\\u91cf\\u62a5\\u544a\\u6570(\\u9648\\u9e4f\\u71d5)\", \"x\": [\"10-4\", \"8-3\", \"8-4\", \"9-1\", \"9-2\", \"9-3\", \"9-4\"], \"y\": [0.0, null, null, null, null, null, null], \"type\": \"scatter\", \"uid\": \"3e369745-dbfd-11e8-8ddb-a41f72875c19\"}, {\"line\": {\"dash\": \"dot\"}, \"name\": \"\\u63d0\\u4ea4\\u9ad8\\u8d28\\u91cf\\u62a5\\u544a\\u6570(\\u5218\\u6167\\u73b2)\", \"x\": [\"10-4\", \"8-3\", \"8-4\", \"9-1\", \"9-2\", \"9-3\", \"9-4\"], \"y\": [null, 2.0, 0.0, 0.0, null, null, null], \"type\": \"scatter\", \"uid\": \"3e369746-dbfd-11e8-8ddb-a41f72875c19\"}, {\"line\": {\"dash\": \"dash\"}, \"name\": \"\\u63d0\\u4ea4\\u9ad8\\u8d28\\u91cf\\u62a5\\u544a\\u6570(\\u6c88\\u6069\\u60e0)\", \"x\": [\"10-4\", \"8-3\", \"8-4\", \"9-1\", \"9-2\", \"9-3\", \"9-4\"], \"y\": [0.0, null, null, null, null, null, null], \"type\": \"scatter\", \"uid\": \"3e369747-dbfd-11e8-8ddb-a41f72875c19\"}, {\"line\": {\"dash\": \"longdash\"}, \"name\": \"\\u63d0\\u4ea4\\u9ad8\\u8d28\\u91cf\\u62a5\\u544a\\u6570(\\u6797\\u6587\\u6587)\", \"x\": [\"10-4\", \"8-3\", \"8-4\", \"9-1\", \"9-2\", \"9-3\", \"9-4\"], \"y\": [0.0, null, null, null, null, null, null], \"type\": \"scatter\", \"uid\": \"3e369748-dbfd-11e8-8ddb-a41f72875c19\"}, {\"line\": {\"dash\": \"dashdot\"}, \"name\": \"\\u63d0\\u4ea4\\u9ad8\\u8d28\\u91cf\\u62a5\\u544a\\u6570(\\u8c22\\u5fb7\\u5065)\", \"x\": [\"10-4\", \"8-3\", \"8-4\", \"9-1\", \"9-2\", \"9-3\", \"9-4\"], \"y\": [0.0, 0.0, 0.0, null, 1.0, 4.0, 0.0], \"type\": \"scatter\", \"uid\": \"3e369749-dbfd-11e8-8ddb-a41f72875c19\"}, {\"line\": {\"dash\": \"longdashdot\"}, \"name\": \"\\u63d0\\u4ea4\\u9ad8\\u8d28\\u91cf\\u62a5\\u544a\\u6570(\\u5218\\u6c5f)\", \"x\": [\"10-4\", \"8-3\", \"8-4\", \"9-1\", \"9-2\", \"9-3\", \"9-4\"], \"y\": [0.0, 0.0, 0.0, 3.0, 0.0, 1.0, 0.0], \"type\": \"scatter\", \"uid\": \"3e36974a-dbfd-11e8-8ddb-a41f72875c19\"}, {\"line\": {\"dash\": \"solid\"}, \"name\": \"\\u63d0\\u4ea4\\u9ad8\\u8d28\\u91cf\\u62a5\\u544a\\u6570(\\u738b\\u7ea2)\", \"x\": [\"10-4\", \"8-3\", \"8-4\", \"9-1\", \"9-2\", \"9-3\", \"9-4\"], \"y\": [0.0, null, null, null, null, null, null], \"type\": \"scatter\", \"uid\": \"3e36974b-dbfd-11e8-8ddb-a41f72875c19\"}, {\"line\": {\"dash\": \"dot\"}, \"name\": \"\\u63d0\\u4ea4\\u9ad8\\u8d28\\u91cf\\u62a5\\u544a\\u6570(\\u674e\\u5e86\\u539f)\", \"x\": [\"10-4\", \"8-3\", \"8-4\", \"9-1\", \"9-2\", \"9-3\", \"9-4\"], \"y\": [0.0, 0.0, 0.0, 1.0, 0.0, 0.0, null], \"type\": \"scatter\", \"uid\": \"3e36974c-dbfd-11e8-8ddb-a41f72875c19\"}, {\"line\": {\"dash\": \"dash\"}, \"name\": \"\\u63d0\\u4ea4\\u9ad8\\u8d28\\u91cf\\u62a5\\u544a\\u6570(\\u9a6c\\u6f47)\", \"x\": [\"10-4\", \"8-3\", \"8-4\", \"9-1\", \"9-2\", \"9-3\", \"9-4\"], \"y\": [0.0, 0.0, 0.0, 0.0, 0.0, 0.0, 0.0], \"type\": \"scatter\", \"uid\": \"3e36974d-dbfd-11e8-8ddb-a41f72875c19\"}, {\"line\": {\"dash\": \"longdash\"}, \"name\": \"\\u63d0\\u4ea4\\u9ad8\\u8d28\\u91cf\\u62a5\\u544a\\u6570(\\u5360\\u4f1f)\", \"x\": [\"10-4\", \"8-3\", \"8-4\", \"9-1\", \"9-2\", \"9-3\", \"9-4\"], \"y\": [0.0, 1.0, 0.0, 2.0, 0.0, 0.0, 0.0], \"type\": \"scatter\", \"uid\": \"3e36974e-dbfd-11e8-8ddb-a41f72875c19\"}, {\"line\": {\"dash\": \"dashdot\"}, \"name\": \"\\u63d0\\u4ea4\\u9ad8\\u8d28\\u91cf\\u62a5\\u544a\\u6570(\\u5b8b\\u8fce\\u6960)\", \"x\": [\"10-4\", \"8-3\", \"8-4\", \"9-1\", \"9-2\", \"9-3\", \"9-4\"], \"y\": [null, 0.0, 0.0, 0.0, null, null, null], \"type\": \"scatter\", \"uid\": \"3e36974f-dbfd-11e8-8ddb-a41f72875c19\"}, {\"line\": {\"dash\": \"longdashdot\"}, \"name\": \"\\u63d0\\u4ea4\\u9ad8\\u8d28\\u91cf\\u62a5\\u544a\\u6570(\\u8303\\u65ed\\u5b81)\", \"x\": [\"10-4\", \"8-3\", \"8-4\", \"9-1\", \"9-2\", \"9-3\", \"9-4\"], \"y\": [0.0, 0.0, 0.0, 1.0, 1.0, 0.0, 0.0], \"type\": \"scatter\", \"uid\": \"3e369750-dbfd-11e8-8ddb-a41f72875c19\"}, {\"line\": {\"dash\": \"solid\"}, \"name\": \"\\u63d0\\u4ea4\\u9ad8\\u8d28\\u91cf\\u62a5\\u544a\\u6570(\\u5c48\\u6602)\", \"x\": [\"10-4\", \"8-3\", \"8-4\", \"9-1\", \"9-2\", \"9-3\", \"9-4\"], \"y\": [0.0, null, null, null, null, null, null], \"type\": \"scatter\", \"uid\": \"3e369751-dbfd-11e8-8ddb-a41f72875c19\"}, {\"line\": {\"dash\": \"dot\"}, \"name\": \"\\u63d0\\u4ea4\\u9ad8\\u8d28\\u91cf\\u62a5\\u544a\\u6570(\\u5f20\\u5b88\\u4f1f)\", \"x\": [\"10-4\", \"8-3\", \"8-4\", \"9-1\", \"9-2\", \"9-3\", \"9-4\"], \"y\": [0.0, 1.0, 0.0, 0.0, 0.0, 1.0, 2.0], \"type\": \"scatter\", \"uid\": \"3e369752-dbfd-11e8-8ddb-a41f72875c19\"}, {\"line\": {\"dash\": \"dash\"}, \"name\": \"\\u63d0\\u4ea4\\u9ad8\\u8d28\\u91cf\\u62a5\\u544a\\u6570(\\u5c01\\u5f66\\u6770)\", \"x\": [\"10-4\", \"8-3\", \"8-4\", \"9-1\", \"9-2\", \"9-3\", \"9-4\"], \"y\": [0.0, 0.0, 0.0, 1.0, 0.0, 0.0, 0.0], \"type\": \"scatter\", \"uid\": \"3e369753-dbfd-11e8-8ddb-a41f72875c19\"}, {\"line\": {\"dash\": \"longdash\"}, \"name\": \"\\u63d0\\u4ea4\\u9ad8\\u8d28\\u91cf\\u62a5\\u544a\\u6570(\\u5f20\\u60a6)\", \"x\": [\"10-4\", \"8-3\", \"8-4\", \"9-1\", \"9-2\", \"9-3\", \"9-4\"], \"y\": [0.0, null, null, null, null, null, null], \"type\": \"scatter\", \"uid\": \"3e369754-dbfd-11e8-8ddb-a41f72875c19\"}, {\"line\": {\"dash\": \"dashdot\"}, \"name\": \"\\u63d0\\u4ea4\\u9ad8\\u8d28\\u91cf\\u62a5\\u544a\\u6570(\\u4e8e\\u6167)\", \"x\": [\"10-4\", \"8-3\", \"8-4\", \"9-1\", \"9-2\", \"9-3\", \"9-4\"], \"y\": [0.0, 0.0, 1.0, 0.0, 0.0, 0.0, 0.0], \"type\": \"scatter\", \"uid\": \"3e369755-dbfd-11e8-8ddb-a41f72875c19\"}], {\"title\": \"\\u5e94\\u4ea4\\u9ad8\\u8d28\\u91cf\\u62a5\\u544a\\u6570&\\u63d0\\u4ea4\\u9ad8\\u8d28\\u91cf\\u62a5\\u544a\\u6570\\u5468\\u8d8b\\u52bf\\u56fe\", \"xaxis\": {\"mirror\": \"all\", \"nticks\": 20, \"showgrid\": true, \"showline\": true, \"title\": \"\\u5468\", \"type\": \"category\", \"zeroline\": true}, \"yaxis\": {\"mirror\": \"all\", \"nticks\": 20, \"showgrid\": true, \"showline\": true, \"title\": \"\\u5e94\\u4ea4\\u9ad8\\u8d28\\u91cf\\u62a5\\u544a\\u6570&\\u63d0\\u4ea4\\u9ad8\\u8d28\\u91cf\\u62a5\\u544a\\u6570\", \"zeroline\": true}}, {\"showLink\": true, \"linkText\": \"Export to plot.ly\"})});</script>"
      ]
     },
     "metadata": {},
     "output_type": "display_data"
    }
   ],
   "source": [
    "ss=myModule.format(all_dict ,\"日期\" ,['应交高质量报告数', '提交高质量报告数'])\n",
    "ss.add_group('负责人')\n",
    "tt = myModule.myPlot(ss.groupby('sum'))\n",
    "tt.plot('line')"
   ]
  },
  {
   "cell_type": "markdown",
   "metadata": {},
   "source": [
    "### 甘特图情况"
   ]
  },
  {
   "cell_type": "markdown",
   "metadata": {},
   "source": [
    "#### 季度开发项目数、如期完成项目数、延期完成、开发中的项目数、延期项目数和暂停项目数"
   ]
  },
  {
   "cell_type": "code",
   "execution_count": 14,
   "metadata": {
    "collapsed": false
   },
   "outputs": [
    {
     "data": {
      "application/vnd.plotly.v1+json": {
       "data": [
        {
         "line": {
          "dash": "solid"
         },
         "name": "开发中的项目数(韩少怀)",
         "type": "scatter",
         "uid": "40490030-dbfd-11e8-8ddb-a41f72875c19",
         "x": [
          "10-4",
          "8-3",
          "8-4",
          "9-1",
          "9-2",
          "9-3",
          "9-4"
         ],
         "y": [
          0,
          1,
          2,
          1,
          1,
          2,
          null
         ]
        },
        {
         "line": {
          "dash": "dot"
         },
         "name": "开发中的项目数(苏彦勋)",
         "type": "scatter",
         "uid": "40490031-dbfd-11e8-8ddb-a41f72875c19",
         "x": [
          "10-4",
          "8-3",
          "8-4",
          "9-1",
          "9-2",
          "9-3",
          "9-4"
         ],
         "y": [
          0,
          5,
          4,
          3,
          0,
          0,
          null
         ]
        },
        {
         "line": {
          "dash": "dash"
         },
         "name": "开发中的项目数(孟昊)",
         "type": "scatter",
         "uid": "40490032-dbfd-11e8-8ddb-a41f72875c19",
         "x": [
          "10-4",
          "8-3",
          "8-4",
          "9-1",
          "9-2",
          "9-3",
          "9-4"
         ],
         "y": [
          0,
          2,
          2,
          2,
          2,
          0,
          0
         ]
        },
        {
         "line": {
          "dash": "longdash"
         },
         "name": "开发中的项目数(任雪)",
         "type": "scatter",
         "uid": "40490033-dbfd-11e8-8ddb-a41f72875c19",
         "x": [
          "10-4",
          "8-3",
          "8-4",
          "9-1",
          "9-2",
          "9-3",
          "9-4"
         ],
         "y": [
          0,
          null,
          15,
          8,
          8,
          6,
          0
         ]
        },
        {
         "line": {
          "dash": "dashdot"
         },
         "name": "开发中的项目数(涂成芳)",
         "type": "scatter",
         "uid": "40490034-dbfd-11e8-8ddb-a41f72875c19",
         "x": [
          "10-4",
          "8-3",
          "8-4",
          "9-1",
          "9-2",
          "9-3",
          "9-4"
         ],
         "y": [
          0,
          null,
          null,
          null,
          null,
          null,
          null
         ]
        },
        {
         "line": {
          "dash": "longdashdot"
         },
         "name": "开发中的项目数(于勇一)",
         "type": "scatter",
         "uid": "40490035-dbfd-11e8-8ddb-a41f72875c19",
         "x": [
          "10-4",
          "8-3",
          "8-4",
          "9-1",
          "9-2",
          "9-3",
          "9-4"
         ],
         "y": [
          0,
          0,
          0,
          0,
          0,
          0,
          0
         ]
        },
        {
         "line": {
          "dash": "solid"
         },
         "name": "开发中的项目数(路慧萍)",
         "type": "scatter",
         "uid": "40490036-dbfd-11e8-8ddb-a41f72875c19",
         "x": [
          "10-4",
          "8-3",
          "8-4",
          "9-1",
          "9-2",
          "9-3",
          "9-4"
         ],
         "y": [
          0,
          0,
          0,
          0,
          0,
          0,
          null
         ]
        },
        {
         "line": {
          "dash": "dot"
         },
         "name": "开发中的项目数(杨伟飞)",
         "type": "scatter",
         "uid": "40490037-dbfd-11e8-8ddb-a41f72875c19",
         "x": [
          "10-4",
          "8-3",
          "8-4",
          "9-1",
          "9-2",
          "9-3",
          "9-4"
         ],
         "y": [
          0,
          5,
          4,
          2,
          2,
          2,
          2
         ]
        },
        {
         "line": {
          "dash": "dash"
         },
         "name": "开发中的项目数(昶吉阳)",
         "type": "scatter",
         "uid": "40490038-dbfd-11e8-8ddb-a41f72875c19",
         "x": [
          "10-4",
          "8-3",
          "8-4",
          "9-1",
          "9-2",
          "9-3",
          "9-4"
         ],
         "y": [
          0,
          null,
          null,
          null,
          null,
          null,
          null
         ]
        },
        {
         "line": {
          "dash": "longdash"
         },
         "name": "开发中的项目数(王宁)",
         "type": "scatter",
         "uid": "40490039-dbfd-11e8-8ddb-a41f72875c19",
         "x": [
          "10-4",
          "8-3",
          "8-4",
          "9-1",
          "9-2",
          "9-3",
          "9-4"
         ],
         "y": [
          null,
          0,
          0,
          0,
          null,
          null,
          null
         ]
        },
        {
         "line": {
          "dash": "dashdot"
         },
         "name": "开发中的项目数(车天栋)",
         "type": "scatter",
         "uid": "4049003a-dbfd-11e8-8ddb-a41f72875c19",
         "x": [
          "10-4",
          "8-3",
          "8-4",
          "9-1",
          "9-2",
          "9-3",
          "9-4"
         ],
         "y": [
          0,
          null,
          null,
          null,
          null,
          null,
          null
         ]
        },
        {
         "line": {
          "dash": "longdashdot"
         },
         "name": "开发中的项目数(周杨)",
         "type": "scatter",
         "uid": "4049003b-dbfd-11e8-8ddb-a41f72875c19",
         "x": [
          "10-4",
          "8-3",
          "8-4",
          "9-1",
          "9-2",
          "9-3",
          "9-4"
         ],
         "y": [
          0,
          3,
          3,
          3,
          2,
          0,
          0
         ]
        },
        {
         "line": {
          "dash": "solid"
         },
         "name": "开发中的项目数(段利强)",
         "type": "scatter",
         "uid": "4049003c-dbfd-11e8-8ddb-a41f72875c19",
         "x": [
          "10-4",
          "8-3",
          "8-4",
          "9-1",
          "9-2",
          "9-3",
          "9-4"
         ],
         "y": [
          null,
          null,
          null,
          null,
          null,
          null,
          0
         ]
        },
        {
         "line": {
          "dash": "dot"
         },
         "name": "开发中的项目数(赵玥)",
         "type": "scatter",
         "uid": "4049003d-dbfd-11e8-8ddb-a41f72875c19",
         "x": [
          "10-4",
          "8-3",
          "8-4",
          "9-1",
          "9-2",
          "9-3",
          "9-4"
         ],
         "y": [
          0,
          0,
          2,
          3,
          1,
          0,
          0
         ]
        },
        {
         "line": {
          "dash": "dash"
         },
         "name": "开发中的项目数(冷雪)",
         "type": "scatter",
         "uid": "4049003e-dbfd-11e8-8ddb-a41f72875c19",
         "x": [
          "10-4",
          "8-3",
          "8-4",
          "9-1",
          "9-2",
          "9-3",
          "9-4"
         ],
         "y": [
          0,
          null,
          null,
          null,
          null,
          null,
          null
         ]
        },
        {
         "line": {
          "dash": "longdash"
         },
         "name": "开发中的项目数(冯敬岩)",
         "type": "scatter",
         "uid": "4049003f-dbfd-11e8-8ddb-a41f72875c19",
         "x": [
          "10-4",
          "8-3",
          "8-4",
          "9-1",
          "9-2",
          "9-3",
          "9-4"
         ],
         "y": [
          0,
          null,
          null,
          null,
          null,
          null,
          null
         ]
        },
        {
         "line": {
          "dash": "dashdot"
         },
         "name": "开发中的项目数(姚盟成)",
         "type": "scatter",
         "uid": "40490040-dbfd-11e8-8ddb-a41f72875c19",
         "x": [
          "10-4",
          "8-3",
          "8-4",
          "9-1",
          "9-2",
          "9-3",
          "9-4"
         ],
         "y": [
          0,
          1,
          2,
          3,
          2,
          7,
          4
         ]
        },
        {
         "line": {
          "dash": "longdashdot"
         },
         "name": "开发中的项目数(李华云)",
         "type": "scatter",
         "uid": "40490041-dbfd-11e8-8ddb-a41f72875c19",
         "x": [
          "10-4",
          "8-3",
          "8-4",
          "9-1",
          "9-2",
          "9-3",
          "9-4"
         ],
         "y": [
          0,
          24,
          24,
          20,
          18,
          3,
          null
         ]
        },
        {
         "line": {
          "dash": "solid"
         },
         "name": "开发中的项目数(陈鹏燕)",
         "type": "scatter",
         "uid": "40490042-dbfd-11e8-8ddb-a41f72875c19",
         "x": [
          "10-4",
          "8-3",
          "8-4",
          "9-1",
          "9-2",
          "9-3",
          "9-4"
         ],
         "y": [
          0,
          null,
          null,
          null,
          null,
          null,
          null
         ]
        },
        {
         "line": {
          "dash": "dot"
         },
         "name": "开发中的项目数(刘慧玲)",
         "type": "scatter",
         "uid": "40490043-dbfd-11e8-8ddb-a41f72875c19",
         "x": [
          "10-4",
          "8-3",
          "8-4",
          "9-1",
          "9-2",
          "9-3",
          "9-4"
         ],
         "y": [
          null,
          2,
          2,
          1,
          null,
          null,
          null
         ]
        },
        {
         "line": {
          "dash": "dash"
         },
         "name": "开发中的项目数(沈恩惠)",
         "type": "scatter",
         "uid": "40490044-dbfd-11e8-8ddb-a41f72875c19",
         "x": [
          "10-4",
          "8-3",
          "8-4",
          "9-1",
          "9-2",
          "9-3",
          "9-4"
         ],
         "y": [
          0,
          null,
          null,
          null,
          null,
          null,
          null
         ]
        },
        {
         "line": {
          "dash": "longdash"
         },
         "name": "开发中的项目数(林文文)",
         "type": "scatter",
         "uid": "40490045-dbfd-11e8-8ddb-a41f72875c19",
         "x": [
          "10-4",
          "8-3",
          "8-4",
          "9-1",
          "9-2",
          "9-3",
          "9-4"
         ],
         "y": [
          0,
          null,
          null,
          null,
          null,
          null,
          null
         ]
        },
        {
         "line": {
          "dash": "dashdot"
         },
         "name": "开发中的项目数(谢德健)",
         "type": "scatter",
         "uid": "40490046-dbfd-11e8-8ddb-a41f72875c19",
         "x": [
          "10-4",
          "8-3",
          "8-4",
          "9-1",
          "9-2",
          "9-3",
          "9-4"
         ],
         "y": [
          0,
          0,
          0,
          null,
          0,
          0,
          0
         ]
        },
        {
         "line": {
          "dash": "longdashdot"
         },
         "name": "开发中的项目数(刘江)",
         "type": "scatter",
         "uid": "40490047-dbfd-11e8-8ddb-a41f72875c19",
         "x": [
          "10-4",
          "8-3",
          "8-4",
          "9-1",
          "9-2",
          "9-3",
          "9-4"
         ],
         "y": [
          0,
          3,
          2,
          1,
          1,
          1,
          1
         ]
        },
        {
         "line": {
          "dash": "solid"
         },
         "name": "开发中的项目数(王红)",
         "type": "scatter",
         "uid": "40490048-dbfd-11e8-8ddb-a41f72875c19",
         "x": [
          "10-4",
          "8-3",
          "8-4",
          "9-1",
          "9-2",
          "9-3",
          "9-4"
         ],
         "y": [
          0,
          null,
          null,
          null,
          null,
          null,
          null
         ]
        },
        {
         "line": {
          "dash": "dot"
         },
         "name": "开发中的项目数(李庆原)",
         "type": "scatter",
         "uid": "40490049-dbfd-11e8-8ddb-a41f72875c19",
         "x": [
          "10-4",
          "8-3",
          "8-4",
          "9-1",
          "9-2",
          "9-3",
          "9-4"
         ],
         "y": [
          0,
          0,
          0,
          0,
          0,
          0,
          null
         ]
        },
        {
         "line": {
          "dash": "dash"
         },
         "name": "开发中的项目数(马潇)",
         "type": "scatter",
         "uid": "4049004a-dbfd-11e8-8ddb-a41f72875c19",
         "x": [
          "10-4",
          "8-3",
          "8-4",
          "9-1",
          "9-2",
          "9-3",
          "9-4"
         ],
         "y": [
          0,
          1,
          0,
          0,
          0,
          0,
          0
         ]
        },
        {
         "line": {
          "dash": "longdash"
         },
         "name": "开发中的项目数(占伟)",
         "type": "scatter",
         "uid": "4049004b-dbfd-11e8-8ddb-a41f72875c19",
         "x": [
          "10-4",
          "8-3",
          "8-4",
          "9-1",
          "9-2",
          "9-3",
          "9-4"
         ],
         "y": [
          0,
          2,
          5,
          5,
          5,
          0,
          0
         ]
        },
        {
         "line": {
          "dash": "dashdot"
         },
         "name": "开发中的项目数(宋迎楠)",
         "type": "scatter",
         "uid": "4049004c-dbfd-11e8-8ddb-a41f72875c19",
         "x": [
          "10-4",
          "8-3",
          "8-4",
          "9-1",
          "9-2",
          "9-3",
          "9-4"
         ],
         "y": [
          null,
          14,
          13,
          7,
          null,
          null,
          null
         ]
        },
        {
         "line": {
          "dash": "longdashdot"
         },
         "name": "开发中的项目数(范旭宁)",
         "type": "scatter",
         "uid": "4049004d-dbfd-11e8-8ddb-a41f72875c19",
         "x": [
          "10-4",
          "8-3",
          "8-4",
          "9-1",
          "9-2",
          "9-3",
          "9-4"
         ],
         "y": [
          0,
          0,
          1,
          1,
          0,
          0,
          4
         ]
        },
        {
         "line": {
          "dash": "solid"
         },
         "name": "开发中的项目数(屈昂)",
         "type": "scatter",
         "uid": "4049004e-dbfd-11e8-8ddb-a41f72875c19",
         "x": [
          "10-4",
          "8-3",
          "8-4",
          "9-1",
          "9-2",
          "9-3",
          "9-4"
         ],
         "y": [
          0,
          null,
          null,
          null,
          null,
          null,
          null
         ]
        },
        {
         "line": {
          "dash": "dot"
         },
         "name": "开发中的项目数(张守伟)",
         "type": "scatter",
         "uid": "4049004f-dbfd-11e8-8ddb-a41f72875c19",
         "x": [
          "10-4",
          "8-3",
          "8-4",
          "9-1",
          "9-2",
          "9-3",
          "9-4"
         ],
         "y": [
          0,
          2,
          2,
          2,
          2,
          0,
          0
         ]
        },
        {
         "line": {
          "dash": "dash"
         },
         "name": "开发中的项目数(封彦杰)",
         "type": "scatter",
         "uid": "40490050-dbfd-11e8-8ddb-a41f72875c19",
         "x": [
          "10-4",
          "8-3",
          "8-4",
          "9-1",
          "9-2",
          "9-3",
          "9-4"
         ],
         "y": [
          0,
          4,
          4,
          2,
          2,
          3,
          0
         ]
        },
        {
         "line": {
          "dash": "longdash"
         },
         "name": "开发中的项目数(张悦)",
         "type": "scatter",
         "uid": "40490051-dbfd-11e8-8ddb-a41f72875c19",
         "x": [
          "10-4",
          "8-3",
          "8-4",
          "9-1",
          "9-2",
          "9-3",
          "9-4"
         ],
         "y": [
          0,
          null,
          null,
          null,
          null,
          null,
          null
         ]
        },
        {
         "line": {
          "dash": "dashdot"
         },
         "name": "开发中的项目数(于慧)",
         "type": "scatter",
         "uid": "40490052-dbfd-11e8-8ddb-a41f72875c19",
         "x": [
          "10-4",
          "8-3",
          "8-4",
          "9-1",
          "9-2",
          "9-3",
          "9-4"
         ],
         "y": [
          0,
          4,
          3,
          2,
          2,
          2,
          1
         ]
        },
        {
         "line": {
          "dash": "solid"
         },
         "name": "延期完成(韩少怀)",
         "type": "scatter",
         "uid": "40490053-dbfd-11e8-8ddb-a41f72875c19",
         "x": [
          "10-4",
          "8-3",
          "8-4",
          "9-1",
          "9-2",
          "9-3",
          "9-4"
         ],
         "y": [
          0,
          0,
          0,
          0,
          0,
          0,
          null
         ]
        },
        {
         "line": {
          "dash": "dot"
         },
         "name": "延期完成(苏彦勋)",
         "type": "scatter",
         "uid": "40490054-dbfd-11e8-8ddb-a41f72875c19",
         "x": [
          "10-4",
          "8-3",
          "8-4",
          "9-1",
          "9-2",
          "9-3",
          "9-4"
         ],
         "y": [
          0,
          0,
          0,
          0,
          0,
          0,
          null
         ]
        },
        {
         "line": {
          "dash": "dash"
         },
         "name": "延期完成(孟昊)",
         "type": "scatter",
         "uid": "40490055-dbfd-11e8-8ddb-a41f72875c19",
         "x": [
          "10-4",
          "8-3",
          "8-4",
          "9-1",
          "9-2",
          "9-3",
          "9-4"
         ],
         "y": [
          0,
          0,
          0,
          0,
          0,
          0,
          0
         ]
        },
        {
         "line": {
          "dash": "longdash"
         },
         "name": "延期完成(任雪)",
         "type": "scatter",
         "uid": "40490056-dbfd-11e8-8ddb-a41f72875c19",
         "x": [
          "10-4",
          "8-3",
          "8-4",
          "9-1",
          "9-2",
          "9-3",
          "9-4"
         ],
         "y": [
          0,
          null,
          1,
          1,
          1,
          5,
          7
         ]
        },
        {
         "line": {
          "dash": "dashdot"
         },
         "name": "延期完成(涂成芳)",
         "type": "scatter",
         "uid": "40490057-dbfd-11e8-8ddb-a41f72875c19",
         "x": [
          "10-4",
          "8-3",
          "8-4",
          "9-1",
          "9-2",
          "9-3",
          "9-4"
         ],
         "y": [
          0,
          null,
          null,
          null,
          null,
          null,
          null
         ]
        },
        {
         "line": {
          "dash": "longdashdot"
         },
         "name": "延期完成(于勇一)",
         "type": "scatter",
         "uid": "40490058-dbfd-11e8-8ddb-a41f72875c19",
         "x": [
          "10-4",
          "8-3",
          "8-4",
          "9-1",
          "9-2",
          "9-3",
          "9-4"
         ],
         "y": [
          0,
          0,
          0,
          0,
          0,
          0,
          0
         ]
        },
        {
         "line": {
          "dash": "solid"
         },
         "name": "延期完成(路慧萍)",
         "type": "scatter",
         "uid": "40490059-dbfd-11e8-8ddb-a41f72875c19",
         "x": [
          "10-4",
          "8-3",
          "8-4",
          "9-1",
          "9-2",
          "9-3",
          "9-4"
         ],
         "y": [
          0,
          0,
          0,
          0,
          0,
          0,
          null
         ]
        },
        {
         "line": {
          "dash": "dot"
         },
         "name": "延期完成(杨伟飞)",
         "type": "scatter",
         "uid": "4049005a-dbfd-11e8-8ddb-a41f72875c19",
         "x": [
          "10-4",
          "8-3",
          "8-4",
          "9-1",
          "9-2",
          "9-3",
          "9-4"
         ],
         "y": [
          0,
          1,
          2,
          2,
          2,
          2,
          2
         ]
        },
        {
         "line": {
          "dash": "dash"
         },
         "name": "延期完成(昶吉阳)",
         "type": "scatter",
         "uid": "4049005b-dbfd-11e8-8ddb-a41f72875c19",
         "x": [
          "10-4",
          "8-3",
          "8-4",
          "9-1",
          "9-2",
          "9-3",
          "9-4"
         ],
         "y": [
          0,
          null,
          null,
          null,
          null,
          null,
          null
         ]
        },
        {
         "line": {
          "dash": "longdash"
         },
         "name": "延期完成(王宁)",
         "type": "scatter",
         "uid": "4049005c-dbfd-11e8-8ddb-a41f72875c19",
         "x": [
          "10-4",
          "8-3",
          "8-4",
          "9-1",
          "9-2",
          "9-3",
          "9-4"
         ],
         "y": [
          null,
          0,
          0,
          0,
          null,
          null,
          null
         ]
        },
        {
         "line": {
          "dash": "dashdot"
         },
         "name": "延期完成(车天栋)",
         "type": "scatter",
         "uid": "4049005d-dbfd-11e8-8ddb-a41f72875c19",
         "x": [
          "10-4",
          "8-3",
          "8-4",
          "9-1",
          "9-2",
          "9-3",
          "9-4"
         ],
         "y": [
          0,
          null,
          null,
          null,
          null,
          null,
          null
         ]
        },
        {
         "line": {
          "dash": "longdashdot"
         },
         "name": "延期完成(周杨)",
         "type": "scatter",
         "uid": "4049005e-dbfd-11e8-8ddb-a41f72875c19",
         "x": [
          "10-4",
          "8-3",
          "8-4",
          "9-1",
          "9-2",
          "9-3",
          "9-4"
         ],
         "y": [
          0,
          0,
          0,
          0,
          0,
          0,
          0
         ]
        },
        {
         "line": {
          "dash": "solid"
         },
         "name": "延期完成(段利强)",
         "type": "scatter",
         "uid": "4049005f-dbfd-11e8-8ddb-a41f72875c19",
         "x": [
          "10-4",
          "8-3",
          "8-4",
          "9-1",
          "9-2",
          "9-3",
          "9-4"
         ],
         "y": [
          null,
          null,
          null,
          null,
          null,
          null,
          0
         ]
        },
        {
         "line": {
          "dash": "dot"
         },
         "name": "延期完成(赵玥)",
         "type": "scatter",
         "uid": "40490060-dbfd-11e8-8ddb-a41f72875c19",
         "x": [
          "10-4",
          "8-3",
          "8-4",
          "9-1",
          "9-2",
          "9-3",
          "9-4"
         ],
         "y": [
          0,
          1,
          1,
          1,
          1,
          1,
          1
         ]
        },
        {
         "line": {
          "dash": "dash"
         },
         "name": "延期完成(冷雪)",
         "type": "scatter",
         "uid": "40490061-dbfd-11e8-8ddb-a41f72875c19",
         "x": [
          "10-4",
          "8-3",
          "8-4",
          "9-1",
          "9-2",
          "9-3",
          "9-4"
         ],
         "y": [
          0,
          null,
          null,
          null,
          null,
          null,
          null
         ]
        },
        {
         "line": {
          "dash": "longdash"
         },
         "name": "延期完成(冯敬岩)",
         "type": "scatter",
         "uid": "40490062-dbfd-11e8-8ddb-a41f72875c19",
         "x": [
          "10-4",
          "8-3",
          "8-4",
          "9-1",
          "9-2",
          "9-3",
          "9-4"
         ],
         "y": [
          0,
          null,
          null,
          null,
          null,
          null,
          null
         ]
        },
        {
         "line": {
          "dash": "dashdot"
         },
         "name": "延期完成(姚盟成)",
         "type": "scatter",
         "uid": "40490063-dbfd-11e8-8ddb-a41f72875c19",
         "x": [
          "10-4",
          "8-3",
          "8-4",
          "9-1",
          "9-2",
          "9-3",
          "9-4"
         ],
         "y": [
          0,
          0,
          0,
          0,
          0,
          0,
          0
         ]
        },
        {
         "line": {
          "dash": "longdashdot"
         },
         "name": "延期完成(李华云)",
         "type": "scatter",
         "uid": "40490064-dbfd-11e8-8ddb-a41f72875c19",
         "x": [
          "10-4",
          "8-3",
          "8-4",
          "9-1",
          "9-2",
          "9-3",
          "9-4"
         ],
         "y": [
          0,
          0,
          0,
          1,
          3,
          13,
          null
         ]
        },
        {
         "line": {
          "dash": "solid"
         },
         "name": "延期完成(陈鹏燕)",
         "type": "scatter",
         "uid": "40490065-dbfd-11e8-8ddb-a41f72875c19",
         "x": [
          "10-4",
          "8-3",
          "8-4",
          "9-1",
          "9-2",
          "9-3",
          "9-4"
         ],
         "y": [
          0,
          null,
          null,
          null,
          null,
          null,
          null
         ]
        },
        {
         "line": {
          "dash": "dot"
         },
         "name": "延期完成(刘慧玲)",
         "type": "scatter",
         "uid": "40490066-dbfd-11e8-8ddb-a41f72875c19",
         "x": [
          "10-4",
          "8-3",
          "8-4",
          "9-1",
          "9-2",
          "9-3",
          "9-4"
         ],
         "y": [
          null,
          1,
          1,
          1,
          null,
          null,
          null
         ]
        },
        {
         "line": {
          "dash": "dash"
         },
         "name": "延期完成(沈恩惠)",
         "type": "scatter",
         "uid": "40490067-dbfd-11e8-8ddb-a41f72875c19",
         "x": [
          "10-4",
          "8-3",
          "8-4",
          "9-1",
          "9-2",
          "9-3",
          "9-4"
         ],
         "y": [
          0,
          null,
          null,
          null,
          null,
          null,
          null
         ]
        },
        {
         "line": {
          "dash": "longdash"
         },
         "name": "延期完成(林文文)",
         "type": "scatter",
         "uid": "40490068-dbfd-11e8-8ddb-a41f72875c19",
         "x": [
          "10-4",
          "8-3",
          "8-4",
          "9-1",
          "9-2",
          "9-3",
          "9-4"
         ],
         "y": [
          0,
          null,
          null,
          null,
          null,
          null,
          null
         ]
        },
        {
         "line": {
          "dash": "dashdot"
         },
         "name": "延期完成(谢德健)",
         "type": "scatter",
         "uid": "40490069-dbfd-11e8-8ddb-a41f72875c19",
         "x": [
          "10-4",
          "8-3",
          "8-4",
          "9-1",
          "9-2",
          "9-3",
          "9-4"
         ],
         "y": [
          0,
          0,
          0,
          null,
          0,
          0,
          0
         ]
        },
        {
         "line": {
          "dash": "longdashdot"
         },
         "name": "延期完成(刘江)",
         "type": "scatter",
         "uid": "4049006a-dbfd-11e8-8ddb-a41f72875c19",
         "x": [
          "10-4",
          "8-3",
          "8-4",
          "9-1",
          "9-2",
          "9-3",
          "9-4"
         ],
         "y": [
          0,
          0,
          1,
          2,
          0,
          2,
          2
         ]
        },
        {
         "line": {
          "dash": "solid"
         },
         "name": "延期完成(王红)",
         "type": "scatter",
         "uid": "4049006b-dbfd-11e8-8ddb-a41f72875c19",
         "x": [
          "10-4",
          "8-3",
          "8-4",
          "9-1",
          "9-2",
          "9-3",
          "9-4"
         ],
         "y": [
          0,
          null,
          null,
          null,
          null,
          null,
          null
         ]
        },
        {
         "line": {
          "dash": "dot"
         },
         "name": "延期完成(李庆原)",
         "type": "scatter",
         "uid": "4049006c-dbfd-11e8-8ddb-a41f72875c19",
         "x": [
          "10-4",
          "8-3",
          "8-4",
          "9-1",
          "9-2",
          "9-3",
          "9-4"
         ],
         "y": [
          0,
          0,
          0,
          0,
          0,
          0,
          null
         ]
        },
        {
         "line": {
          "dash": "dash"
         },
         "name": "延期完成(马潇)",
         "type": "scatter",
         "uid": "4049006d-dbfd-11e8-8ddb-a41f72875c19",
         "x": [
          "10-4",
          "8-3",
          "8-4",
          "9-1",
          "9-2",
          "9-3",
          "9-4"
         ],
         "y": [
          0,
          0,
          0,
          0,
          0,
          0,
          0
         ]
        },
        {
         "line": {
          "dash": "longdash"
         },
         "name": "延期完成(占伟)",
         "type": "scatter",
         "uid": "4049006e-dbfd-11e8-8ddb-a41f72875c19",
         "x": [
          "10-4",
          "8-3",
          "8-4",
          "9-1",
          "9-2",
          "9-3",
          "9-4"
         ],
         "y": [
          0,
          2,
          1,
          1,
          1,
          3,
          3
         ]
        },
        {
         "line": {
          "dash": "dashdot"
         },
         "name": "延期完成(宋迎楠)",
         "type": "scatter",
         "uid": "4049006f-dbfd-11e8-8ddb-a41f72875c19",
         "x": [
          "10-4",
          "8-3",
          "8-4",
          "9-1",
          "9-2",
          "9-3",
          "9-4"
         ],
         "y": [
          null,
          8,
          9,
          10,
          null,
          null,
          null
         ]
        },
        {
         "line": {
          "dash": "longdashdot"
         },
         "name": "延期完成(范旭宁)",
         "type": "scatter",
         "uid": "40490070-dbfd-11e8-8ddb-a41f72875c19",
         "x": [
          "10-4",
          "8-3",
          "8-4",
          "9-1",
          "9-2",
          "9-3",
          "9-4"
         ],
         "y": [
          0,
          2,
          2,
          3,
          0,
          0,
          4
         ]
        },
        {
         "line": {
          "dash": "solid"
         },
         "name": "延期完成(屈昂)",
         "type": "scatter",
         "uid": "40490071-dbfd-11e8-8ddb-a41f72875c19",
         "x": [
          "10-4",
          "8-3",
          "8-4",
          "9-1",
          "9-2",
          "9-3",
          "9-4"
         ],
         "y": [
          0,
          null,
          null,
          null,
          null,
          null,
          null
         ]
        },
        {
         "line": {
          "dash": "dot"
         },
         "name": "延期完成(张守伟)",
         "type": "scatter",
         "uid": "40490072-dbfd-11e8-8ddb-a41f72875c19",
         "x": [
          "10-4",
          "8-3",
          "8-4",
          "9-1",
          "9-2",
          "9-3",
          "9-4"
         ],
         "y": [
          0,
          0,
          0,
          0,
          0,
          0,
          1
         ]
        },
        {
         "line": {
          "dash": "dash"
         },
         "name": "延期完成(封彦杰)",
         "type": "scatter",
         "uid": "40490073-dbfd-11e8-8ddb-a41f72875c19",
         "x": [
          "10-4",
          "8-3",
          "8-4",
          "9-1",
          "9-2",
          "9-3",
          "9-4"
         ],
         "y": [
          0,
          0,
          0,
          0,
          0,
          0,
          1
         ]
        },
        {
         "line": {
          "dash": "longdash"
         },
         "name": "延期完成(张悦)",
         "type": "scatter",
         "uid": "40490074-dbfd-11e8-8ddb-a41f72875c19",
         "x": [
          "10-4",
          "8-3",
          "8-4",
          "9-1",
          "9-2",
          "9-3",
          "9-4"
         ],
         "y": [
          0,
          null,
          null,
          null,
          null,
          null,
          null
         ]
        },
        {
         "line": {
          "dash": "dashdot"
         },
         "name": "延期完成(于慧)",
         "type": "scatter",
         "uid": "40490075-dbfd-11e8-8ddb-a41f72875c19",
         "x": [
          "10-4",
          "8-3",
          "8-4",
          "9-1",
          "9-2",
          "9-3",
          "9-4"
         ],
         "y": [
          0,
          0,
          0,
          0,
          0,
          0,
          1
         ]
        },
        {
         "line": {
          "dash": "solid"
         },
         "name": "季度开发项目数(韩少怀)",
         "type": "scatter",
         "uid": "40490076-dbfd-11e8-8ddb-a41f72875c19",
         "x": [
          "10-4",
          "8-3",
          "8-4",
          "9-1",
          "9-2",
          "9-3",
          "9-4"
         ],
         "y": [
          0,
          7,
          7,
          7,
          6,
          7,
          null
         ]
        },
        {
         "line": {
          "dash": "dot"
         },
         "name": "季度开发项目数(苏彦勋)",
         "type": "scatter",
         "uid": "40490077-dbfd-11e8-8ddb-a41f72875c19",
         "x": [
          "10-4",
          "8-3",
          "8-4",
          "9-1",
          "9-2",
          "9-3",
          "9-4"
         ],
         "y": [
          0,
          33,
          33,
          33,
          33,
          33,
          null
         ]
        },
        {
         "line": {
          "dash": "dash"
         },
         "name": "季度开发项目数(孟昊)",
         "type": "scatter",
         "uid": "40490078-dbfd-11e8-8ddb-a41f72875c19",
         "x": [
          "10-4",
          "8-3",
          "8-4",
          "9-1",
          "9-2",
          "9-3",
          "9-4"
         ],
         "y": [
          0,
          43,
          43,
          43,
          43,
          43,
          43
         ]
        },
        {
         "line": {
          "dash": "longdash"
         },
         "name": "季度开发项目数(任雪)",
         "type": "scatter",
         "uid": "40490079-dbfd-11e8-8ddb-a41f72875c19",
         "x": [
          "10-4",
          "8-3",
          "8-4",
          "9-1",
          "9-2",
          "9-3",
          "9-4"
         ],
         "y": [
          0,
          null,
          27,
          27,
          27,
          27,
          27
         ]
        },
        {
         "line": {
          "dash": "dashdot"
         },
         "name": "季度开发项目数(涂成芳)",
         "type": "scatter",
         "uid": "4049007a-dbfd-11e8-8ddb-a41f72875c19",
         "x": [
          "10-4",
          "8-3",
          "8-4",
          "9-1",
          "9-2",
          "9-3",
          "9-4"
         ],
         "y": [
          0,
          null,
          null,
          null,
          null,
          null,
          null
         ]
        },
        {
         "line": {
          "dash": "longdashdot"
         },
         "name": "季度开发项目数(于勇一)",
         "type": "scatter",
         "uid": "4049007b-dbfd-11e8-8ddb-a41f72875c19",
         "x": [
          "10-4",
          "8-3",
          "8-4",
          "9-1",
          "9-2",
          "9-3",
          "9-4"
         ],
         "y": [
          0,
          0,
          0,
          0,
          0,
          0,
          0
         ]
        },
        {
         "line": {
          "dash": "solid"
         },
         "name": "季度开发项目数(路慧萍)",
         "type": "scatter",
         "uid": "4049007c-dbfd-11e8-8ddb-a41f72875c19",
         "x": [
          "10-4",
          "8-3",
          "8-4",
          "9-1",
          "9-2",
          "9-3",
          "9-4"
         ],
         "y": [
          0,
          0,
          0,
          0,
          0,
          0,
          null
         ]
        },
        {
         "line": {
          "dash": "dot"
         },
         "name": "季度开发项目数(杨伟飞)",
         "type": "scatter",
         "uid": "4049007d-dbfd-11e8-8ddb-a41f72875c19",
         "x": [
          "10-4",
          "8-3",
          "8-4",
          "9-1",
          "9-2",
          "9-3",
          "9-4"
         ],
         "y": [
          0,
          8,
          8,
          8,
          8,
          8,
          8
         ]
        },
        {
         "line": {
          "dash": "dash"
         },
         "name": "季度开发项目数(昶吉阳)",
         "type": "scatter",
         "uid": "4049007e-dbfd-11e8-8ddb-a41f72875c19",
         "x": [
          "10-4",
          "8-3",
          "8-4",
          "9-1",
          "9-2",
          "9-3",
          "9-4"
         ],
         "y": [
          0,
          null,
          null,
          null,
          null,
          null,
          null
         ]
        },
        {
         "line": {
          "dash": "longdash"
         },
         "name": "季度开发项目数(王宁)",
         "type": "scatter",
         "uid": "4049007f-dbfd-11e8-8ddb-a41f72875c19",
         "x": [
          "10-4",
          "8-3",
          "8-4",
          "9-1",
          "9-2",
          "9-3",
          "9-4"
         ],
         "y": [
          null,
          0,
          0,
          0,
          null,
          null,
          null
         ]
        },
        {
         "line": {
          "dash": "dashdot"
         },
         "name": "季度开发项目数(车天栋)",
         "type": "scatter",
         "uid": "40490080-dbfd-11e8-8ddb-a41f72875c19",
         "x": [
          "10-4",
          "8-3",
          "8-4",
          "9-1",
          "9-2",
          "9-3",
          "9-4"
         ],
         "y": [
          0,
          null,
          null,
          null,
          null,
          null,
          null
         ]
        },
        {
         "line": {
          "dash": "longdashdot"
         },
         "name": "季度开发项目数(周杨)",
         "type": "scatter",
         "uid": "40490081-dbfd-11e8-8ddb-a41f72875c19",
         "x": [
          "10-4",
          "8-3",
          "8-4",
          "9-1",
          "9-2",
          "9-3",
          "9-4"
         ],
         "y": [
          0,
          32,
          32,
          32,
          32,
          32,
          32
         ]
        },
        {
         "line": {
          "dash": "solid"
         },
         "name": "季度开发项目数(段利强)",
         "type": "scatter",
         "uid": "40490082-dbfd-11e8-8ddb-a41f72875c19",
         "x": [
          "10-4",
          "8-3",
          "8-4",
          "9-1",
          "9-2",
          "9-3",
          "9-4"
         ],
         "y": [
          null,
          null,
          null,
          null,
          null,
          null,
          0
         ]
        },
        {
         "line": {
          "dash": "dot"
         },
         "name": "季度开发项目数(赵玥)",
         "type": "scatter",
         "uid": "40490083-dbfd-11e8-8ddb-a41f72875c19",
         "x": [
          "10-4",
          "8-3",
          "8-4",
          "9-1",
          "9-2",
          "9-3",
          "9-4"
         ],
         "y": [
          0,
          21,
          22,
          21,
          22,
          22,
          22
         ]
        },
        {
         "line": {
          "dash": "dash"
         },
         "name": "季度开发项目数(冷雪)",
         "type": "scatter",
         "uid": "40490084-dbfd-11e8-8ddb-a41f72875c19",
         "x": [
          "10-4",
          "8-3",
          "8-4",
          "9-1",
          "9-2",
          "9-3",
          "9-4"
         ],
         "y": [
          0,
          null,
          null,
          null,
          null,
          null,
          null
         ]
        },
        {
         "line": {
          "dash": "longdash"
         },
         "name": "季度开发项目数(冯敬岩)",
         "type": "scatter",
         "uid": "40490085-dbfd-11e8-8ddb-a41f72875c19",
         "x": [
          "10-4",
          "8-3",
          "8-4",
          "9-1",
          "9-2",
          "9-3",
          "9-4"
         ],
         "y": [
          0,
          null,
          null,
          null,
          null,
          null,
          null
         ]
        },
        {
         "line": {
          "dash": "dashdot"
         },
         "name": "季度开发项目数(姚盟成)",
         "type": "scatter",
         "uid": "40490086-dbfd-11e8-8ddb-a41f72875c19",
         "x": [
          "10-4",
          "8-3",
          "8-4",
          "9-1",
          "9-2",
          "9-3",
          "9-4"
         ],
         "y": [
          0,
          9,
          9,
          9,
          9,
          9,
          15
         ]
        },
        {
         "line": {
          "dash": "longdashdot"
         },
         "name": "季度开发项目数(李华云)",
         "type": "scatter",
         "uid": "40490087-dbfd-11e8-8ddb-a41f72875c19",
         "x": [
          "10-4",
          "8-3",
          "8-4",
          "9-1",
          "9-2",
          "9-3",
          "9-4"
         ],
         "y": [
          0,
          35,
          35,
          35,
          35,
          47,
          null
         ]
        },
        {
         "line": {
          "dash": "solid"
         },
         "name": "季度开发项目数(陈鹏燕)",
         "type": "scatter",
         "uid": "40490088-dbfd-11e8-8ddb-a41f72875c19",
         "x": [
          "10-4",
          "8-3",
          "8-4",
          "9-1",
          "9-2",
          "9-3",
          "9-4"
         ],
         "y": [
          0,
          null,
          null,
          null,
          null,
          null,
          null
         ]
        },
        {
         "line": {
          "dash": "dot"
         },
         "name": "季度开发项目数(刘慧玲)",
         "type": "scatter",
         "uid": "40490089-dbfd-11e8-8ddb-a41f72875c19",
         "x": [
          "10-4",
          "8-3",
          "8-4",
          "9-1",
          "9-2",
          "9-3",
          "9-4"
         ],
         "y": [
          null,
          8,
          8,
          9,
          null,
          null,
          null
         ]
        },
        {
         "line": {
          "dash": "dash"
         },
         "name": "季度开发项目数(沈恩惠)",
         "type": "scatter",
         "uid": "4049008a-dbfd-11e8-8ddb-a41f72875c19",
         "x": [
          "10-4",
          "8-3",
          "8-4",
          "9-1",
          "9-2",
          "9-3",
          "9-4"
         ],
         "y": [
          0,
          null,
          null,
          null,
          null,
          null,
          null
         ]
        },
        {
         "line": {
          "dash": "longdash"
         },
         "name": "季度开发项目数(林文文)",
         "type": "scatter",
         "uid": "4049008b-dbfd-11e8-8ddb-a41f72875c19",
         "x": [
          "10-4",
          "8-3",
          "8-4",
          "9-1",
          "9-2",
          "9-3",
          "9-4"
         ],
         "y": [
          0,
          null,
          null,
          null,
          null,
          null,
          null
         ]
        },
        {
         "line": {
          "dash": "dashdot"
         },
         "name": "季度开发项目数(谢德健)",
         "type": "scatter",
         "uid": "4049008c-dbfd-11e8-8ddb-a41f72875c19",
         "x": [
          "10-4",
          "8-3",
          "8-4",
          "9-1",
          "9-2",
          "9-3",
          "9-4"
         ],
         "y": [
          0,
          2,
          2,
          null,
          6,
          6,
          6
         ]
        },
        {
         "line": {
          "dash": "longdashdot"
         },
         "name": "季度开发项目数(刘江)",
         "type": "scatter",
         "uid": "4049008d-dbfd-11e8-8ddb-a41f72875c19",
         "x": [
          "10-4",
          "8-3",
          "8-4",
          "9-1",
          "9-2",
          "9-3",
          "9-4"
         ],
         "y": [
          0,
          3,
          3,
          3,
          0,
          3,
          3
         ]
        },
        {
         "line": {
          "dash": "solid"
         },
         "name": "季度开发项目数(王红)",
         "type": "scatter",
         "uid": "4049008e-dbfd-11e8-8ddb-a41f72875c19",
         "x": [
          "10-4",
          "8-3",
          "8-4",
          "9-1",
          "9-2",
          "9-3",
          "9-4"
         ],
         "y": [
          0,
          null,
          null,
          null,
          null,
          null,
          null
         ]
        },
        {
         "line": {
          "dash": "dot"
         },
         "name": "季度开发项目数(李庆原)",
         "type": "scatter",
         "uid": "4049008f-dbfd-11e8-8ddb-a41f72875c19",
         "x": [
          "10-4",
          "8-3",
          "8-4",
          "9-1",
          "9-2",
          "9-3",
          "9-4"
         ],
         "y": [
          0,
          0,
          0,
          0,
          0,
          0,
          null
         ]
        },
        {
         "line": {
          "dash": "dash"
         },
         "name": "季度开发项目数(马潇)",
         "type": "scatter",
         "uid": "40490090-dbfd-11e8-8ddb-a41f72875c19",
         "x": [
          "10-4",
          "8-3",
          "8-4",
          "9-1",
          "9-2",
          "9-3",
          "9-4"
         ],
         "y": [
          0,
          0,
          0,
          0,
          0,
          0,
          0
         ]
        },
        {
         "line": {
          "dash": "longdash"
         },
         "name": "季度开发项目数(占伟)",
         "type": "scatter",
         "uid": "40490091-dbfd-11e8-8ddb-a41f72875c19",
         "x": [
          "10-4",
          "8-3",
          "8-4",
          "9-1",
          "9-2",
          "9-3",
          "9-4"
         ],
         "y": [
          0,
          19,
          18,
          18,
          18,
          19,
          19
         ]
        },
        {
         "line": {
          "dash": "dashdot"
         },
         "name": "季度开发项目数(宋迎楠)",
         "type": "scatter",
         "uid": "40490092-dbfd-11e8-8ddb-a41f72875c19",
         "x": [
          "10-4",
          "8-3",
          "8-4",
          "9-1",
          "9-2",
          "9-3",
          "9-4"
         ],
         "y": [
          null,
          23,
          23,
          23,
          null,
          null,
          null
         ]
        },
        {
         "line": {
          "dash": "longdashdot"
         },
         "name": "季度开发项目数(范旭宁)",
         "type": "scatter",
         "uid": "40490093-dbfd-11e8-8ddb-a41f72875c19",
         "x": [
          "10-4",
          "8-3",
          "8-4",
          "9-1",
          "9-2",
          "9-3",
          "9-4"
         ],
         "y": [
          0,
          18,
          25,
          30,
          7,
          5,
          24
         ]
        },
        {
         "line": {
          "dash": "solid"
         },
         "name": "季度开发项目数(屈昂)",
         "type": "scatter",
         "uid": "40490094-dbfd-11e8-8ddb-a41f72875c19",
         "x": [
          "10-4",
          "8-3",
          "8-4",
          "9-1",
          "9-2",
          "9-3",
          "9-4"
         ],
         "y": [
          0,
          null,
          null,
          null,
          null,
          null,
          null
         ]
        },
        {
         "line": {
          "dash": "dot"
         },
         "name": "季度开发项目数(张守伟)",
         "type": "scatter",
         "uid": "40490095-dbfd-11e8-8ddb-a41f72875c19",
         "x": [
          "10-4",
          "8-3",
          "8-4",
          "9-1",
          "9-2",
          "9-3",
          "9-4"
         ],
         "y": [
          0,
          13,
          16,
          18,
          20,
          20,
          21
         ]
        },
        {
         "line": {
          "dash": "dash"
         },
         "name": "季度开发项目数(封彦杰)",
         "type": "scatter",
         "uid": "40490096-dbfd-11e8-8ddb-a41f72875c19",
         "x": [
          "10-4",
          "8-3",
          "8-4",
          "9-1",
          "9-2",
          "9-3",
          "9-4"
         ],
         "y": [
          0,
          5,
          5,
          5,
          5,
          5,
          5
         ]
        },
        {
         "line": {
          "dash": "longdash"
         },
         "name": "季度开发项目数(张悦)",
         "type": "scatter",
         "uid": "40490097-dbfd-11e8-8ddb-a41f72875c19",
         "x": [
          "10-4",
          "8-3",
          "8-4",
          "9-1",
          "9-2",
          "9-3",
          "9-4"
         ],
         "y": [
          0,
          null,
          null,
          null,
          null,
          null,
          null
         ]
        },
        {
         "line": {
          "dash": "dashdot"
         },
         "name": "季度开发项目数(于慧)",
         "type": "scatter",
         "uid": "40490098-dbfd-11e8-8ddb-a41f72875c19",
         "x": [
          "10-4",
          "8-3",
          "8-4",
          "9-1",
          "9-2",
          "9-3",
          "9-4"
         ],
         "y": [
          0,
          36,
          36,
          36,
          37,
          37,
          37
         ]
        },
        {
         "line": {
          "dash": "solid"
         },
         "name": "暂停项目数(韩少怀)",
         "type": "scatter",
         "uid": "40490099-dbfd-11e8-8ddb-a41f72875c19",
         "x": [
          "10-4",
          "8-3",
          "8-4",
          "9-1",
          "9-2",
          "9-3",
          "9-4"
         ],
         "y": [
          0,
          0,
          0,
          0,
          0,
          0,
          null
         ]
        },
        {
         "line": {
          "dash": "dot"
         },
         "name": "暂停项目数(苏彦勋)",
         "type": "scatter",
         "uid": "4049009a-dbfd-11e8-8ddb-a41f72875c19",
         "x": [
          "10-4",
          "8-3",
          "8-4",
          "9-1",
          "9-2",
          "9-3",
          "9-4"
         ],
         "y": [
          0,
          8,
          8,
          8,
          8,
          8,
          null
         ]
        },
        {
         "line": {
          "dash": "dash"
         },
         "name": "暂停项目数(孟昊)",
         "type": "scatter",
         "uid": "4049009b-dbfd-11e8-8ddb-a41f72875c19",
         "x": [
          "10-4",
          "8-3",
          "8-4",
          "9-1",
          "9-2",
          "9-3",
          "9-4"
         ],
         "y": [
          0,
          3,
          3,
          3,
          3,
          3,
          3
         ]
        },
        {
         "line": {
          "dash": "longdash"
         },
         "name": "暂停项目数(任雪)",
         "type": "scatter",
         "uid": "4049009c-dbfd-11e8-8ddb-a41f72875c19",
         "x": [
          "10-4",
          "8-3",
          "8-4",
          "9-1",
          "9-2",
          "9-3",
          "9-4"
         ],
         "y": [
          0,
          null,
          0,
          3,
          3,
          4,
          4
         ]
        },
        {
         "line": {
          "dash": "dashdot"
         },
         "name": "暂停项目数(涂成芳)",
         "type": "scatter",
         "uid": "4049009d-dbfd-11e8-8ddb-a41f72875c19",
         "x": [
          "10-4",
          "8-3",
          "8-4",
          "9-1",
          "9-2",
          "9-3",
          "9-4"
         ],
         "y": [
          0,
          null,
          null,
          null,
          null,
          null,
          null
         ]
        },
        {
         "line": {
          "dash": "longdashdot"
         },
         "name": "暂停项目数(于勇一)",
         "type": "scatter",
         "uid": "4049009e-dbfd-11e8-8ddb-a41f72875c19",
         "x": [
          "10-4",
          "8-3",
          "8-4",
          "9-1",
          "9-2",
          "9-3",
          "9-4"
         ],
         "y": [
          0,
          0,
          0,
          0,
          0,
          0,
          0
         ]
        },
        {
         "line": {
          "dash": "solid"
         },
         "name": "暂停项目数(路慧萍)",
         "type": "scatter",
         "uid": "4049009f-dbfd-11e8-8ddb-a41f72875c19",
         "x": [
          "10-4",
          "8-3",
          "8-4",
          "9-1",
          "9-2",
          "9-3",
          "9-4"
         ],
         "y": [
          0,
          0,
          0,
          0,
          0,
          2,
          null
         ]
        },
        {
         "line": {
          "dash": "dot"
         },
         "name": "暂停项目数(杨伟飞)",
         "type": "scatter",
         "uid": "404900a0-dbfd-11e8-8ddb-a41f72875c19",
         "x": [
          "10-4",
          "8-3",
          "8-4",
          "9-1",
          "9-2",
          "9-3",
          "9-4"
         ],
         "y": [
          0,
          0,
          0,
          0,
          0,
          0,
          0
         ]
        },
        {
         "line": {
          "dash": "dash"
         },
         "name": "暂停项目数(昶吉阳)",
         "type": "scatter",
         "uid": "404900a1-dbfd-11e8-8ddb-a41f72875c19",
         "x": [
          "10-4",
          "8-3",
          "8-4",
          "9-1",
          "9-2",
          "9-3",
          "9-4"
         ],
         "y": [
          0,
          null,
          null,
          null,
          null,
          null,
          null
         ]
        },
        {
         "line": {
          "dash": "longdash"
         },
         "name": "暂停项目数(王宁)",
         "type": "scatter",
         "uid": "404900a2-dbfd-11e8-8ddb-a41f72875c19",
         "x": [
          "10-4",
          "8-3",
          "8-4",
          "9-1",
          "9-2",
          "9-3",
          "9-4"
         ],
         "y": [
          null,
          0,
          0,
          0,
          null,
          null,
          null
         ]
        },
        {
         "line": {
          "dash": "dashdot"
         },
         "name": "暂停项目数(车天栋)",
         "type": "scatter",
         "uid": "404900a3-dbfd-11e8-8ddb-a41f72875c19",
         "x": [
          "10-4",
          "8-3",
          "8-4",
          "9-1",
          "9-2",
          "9-3",
          "9-4"
         ],
         "y": [
          0,
          null,
          null,
          null,
          null,
          null,
          null
         ]
        },
        {
         "line": {
          "dash": "longdashdot"
         },
         "name": "暂停项目数(周杨)",
         "type": "scatter",
         "uid": "404900a4-dbfd-11e8-8ddb-a41f72875c19",
         "x": [
          "10-4",
          "8-3",
          "8-4",
          "9-1",
          "9-2",
          "9-3",
          "9-4"
         ],
         "y": [
          0,
          1,
          1,
          1,
          1,
          1,
          1
         ]
        },
        {
         "line": {
          "dash": "solid"
         },
         "name": "暂停项目数(段利强)",
         "type": "scatter",
         "uid": "404900a5-dbfd-11e8-8ddb-a41f72875c19",
         "x": [
          "10-4",
          "8-3",
          "8-4",
          "9-1",
          "9-2",
          "9-3",
          "9-4"
         ],
         "y": [
          null,
          null,
          null,
          null,
          null,
          null,
          0
         ]
        },
        {
         "line": {
          "dash": "dot"
         },
         "name": "暂停项目数(赵玥)",
         "type": "scatter",
         "uid": "404900a6-dbfd-11e8-8ddb-a41f72875c19",
         "x": [
          "10-4",
          "8-3",
          "8-4",
          "9-1",
          "9-2",
          "9-3",
          "9-4"
         ],
         "y": [
          0,
          0,
          0,
          1,
          1,
          1,
          0
         ]
        },
        {
         "line": {
          "dash": "dash"
         },
         "name": "暂停项目数(冷雪)",
         "type": "scatter",
         "uid": "404900a7-dbfd-11e8-8ddb-a41f72875c19",
         "x": [
          "10-4",
          "8-3",
          "8-4",
          "9-1",
          "9-2",
          "9-3",
          "9-4"
         ],
         "y": [
          0,
          null,
          null,
          null,
          null,
          null,
          null
         ]
        },
        {
         "line": {
          "dash": "longdash"
         },
         "name": "暂停项目数(冯敬岩)",
         "type": "scatter",
         "uid": "404900a8-dbfd-11e8-8ddb-a41f72875c19",
         "x": [
          "10-4",
          "8-3",
          "8-4",
          "9-1",
          "9-2",
          "9-3",
          "9-4"
         ],
         "y": [
          0,
          null,
          null,
          null,
          null,
          null,
          null
         ]
        },
        {
         "line": {
          "dash": "dashdot"
         },
         "name": "暂停项目数(姚盟成)",
         "type": "scatter",
         "uid": "404900a9-dbfd-11e8-8ddb-a41f72875c19",
         "x": [
          "10-4",
          "8-3",
          "8-4",
          "9-1",
          "9-2",
          "9-3",
          "9-4"
         ],
         "y": [
          0,
          0,
          0,
          0,
          0,
          12,
          12
         ]
        },
        {
         "line": {
          "dash": "longdashdot"
         },
         "name": "暂停项目数(李华云)",
         "type": "scatter",
         "uid": "404900aa-dbfd-11e8-8ddb-a41f72875c19",
         "x": [
          "10-4",
          "8-3",
          "8-4",
          "9-1",
          "9-2",
          "9-3",
          "9-4"
         ],
         "y": [
          0,
          0,
          0,
          0,
          0,
          3,
          null
         ]
        },
        {
         "line": {
          "dash": "solid"
         },
         "name": "暂停项目数(陈鹏燕)",
         "type": "scatter",
         "uid": "404900ab-dbfd-11e8-8ddb-a41f72875c19",
         "x": [
          "10-4",
          "8-3",
          "8-4",
          "9-1",
          "9-2",
          "9-3",
          "9-4"
         ],
         "y": [
          0,
          null,
          null,
          null,
          null,
          null,
          null
         ]
        },
        {
         "line": {
          "dash": "dot"
         },
         "name": "暂停项目数(刘慧玲)",
         "type": "scatter",
         "uid": "404900ac-dbfd-11e8-8ddb-a41f72875c19",
         "x": [
          "10-4",
          "8-3",
          "8-4",
          "9-1",
          "9-2",
          "9-3",
          "9-4"
         ],
         "y": [
          null,
          2,
          2,
          4,
          null,
          null,
          null
         ]
        },
        {
         "line": {
          "dash": "dash"
         },
         "name": "暂停项目数(沈恩惠)",
         "type": "scatter",
         "uid": "404900ad-dbfd-11e8-8ddb-a41f72875c19",
         "x": [
          "10-4",
          "8-3",
          "8-4",
          "9-1",
          "9-2",
          "9-3",
          "9-4"
         ],
         "y": [
          0,
          null,
          null,
          null,
          null,
          null,
          null
         ]
        },
        {
         "line": {
          "dash": "longdash"
         },
         "name": "暂停项目数(林文文)",
         "type": "scatter",
         "uid": "404900ae-dbfd-11e8-8ddb-a41f72875c19",
         "x": [
          "10-4",
          "8-3",
          "8-4",
          "9-1",
          "9-2",
          "9-3",
          "9-4"
         ],
         "y": [
          0,
          null,
          null,
          null,
          null,
          null,
          null
         ]
        },
        {
         "line": {
          "dash": "dashdot"
         },
         "name": "暂停项目数(谢德健)",
         "type": "scatter",
         "uid": "404900af-dbfd-11e8-8ddb-a41f72875c19",
         "x": [
          "10-4",
          "8-3",
          "8-4",
          "9-1",
          "9-2",
          "9-3",
          "9-4"
         ],
         "y": [
          0,
          0,
          0,
          null,
          0,
          0,
          0
         ]
        },
        {
         "line": {
          "dash": "longdashdot"
         },
         "name": "暂停项目数(刘江)",
         "type": "scatter",
         "uid": "404900b0-dbfd-11e8-8ddb-a41f72875c19",
         "x": [
          "10-4",
          "8-3",
          "8-4",
          "9-1",
          "9-2",
          "9-3",
          "9-4"
         ],
         "y": [
          0,
          0,
          0,
          0,
          1,
          0,
          0
         ]
        },
        {
         "line": {
          "dash": "solid"
         },
         "name": "暂停项目数(王红)",
         "type": "scatter",
         "uid": "404900b1-dbfd-11e8-8ddb-a41f72875c19",
         "x": [
          "10-4",
          "8-3",
          "8-4",
          "9-1",
          "9-2",
          "9-3",
          "9-4"
         ],
         "y": [
          0,
          null,
          null,
          null,
          null,
          null,
          null
         ]
        },
        {
         "line": {
          "dash": "dot"
         },
         "name": "暂停项目数(李庆原)",
         "type": "scatter",
         "uid": "404900b2-dbfd-11e8-8ddb-a41f72875c19",
         "x": [
          "10-4",
          "8-3",
          "8-4",
          "9-1",
          "9-2",
          "9-3",
          "9-4"
         ],
         "y": [
          0,
          0,
          0,
          0,
          0,
          0,
          null
         ]
        },
        {
         "line": {
          "dash": "dash"
         },
         "name": "暂停项目数(马潇)",
         "type": "scatter",
         "uid": "404900b3-dbfd-11e8-8ddb-a41f72875c19",
         "x": [
          "10-4",
          "8-3",
          "8-4",
          "9-1",
          "9-2",
          "9-3",
          "9-4"
         ],
         "y": [
          0,
          0,
          0,
          0,
          0,
          0,
          0
         ]
        },
        {
         "line": {
          "dash": "longdash"
         },
         "name": "暂停项目数(占伟)",
         "type": "scatter",
         "uid": "404900b4-dbfd-11e8-8ddb-a41f72875c19",
         "x": [
          "10-4",
          "8-3",
          "8-4",
          "9-1",
          "9-2",
          "9-3",
          "9-4"
         ],
         "y": [
          0,
          0,
          0,
          0,
          0,
          0,
          0
         ]
        },
        {
         "line": {
          "dash": "dashdot"
         },
         "name": "暂停项目数(宋迎楠)",
         "type": "scatter",
         "uid": "404900b5-dbfd-11e8-8ddb-a41f72875c19",
         "x": [
          "10-4",
          "8-3",
          "8-4",
          "9-1",
          "9-2",
          "9-3",
          "9-4"
         ],
         "y": [
          null,
          0,
          0,
          0,
          null,
          null,
          null
         ]
        },
        {
         "line": {
          "dash": "longdashdot"
         },
         "name": "暂停项目数(范旭宁)",
         "type": "scatter",
         "uid": "404900b6-dbfd-11e8-8ddb-a41f72875c19",
         "x": [
          "10-4",
          "8-3",
          "8-4",
          "9-1",
          "9-2",
          "9-3",
          "9-4"
         ],
         "y": [
          0,
          0,
          0,
          0,
          0,
          0,
          0
         ]
        },
        {
         "line": {
          "dash": "solid"
         },
         "name": "暂停项目数(屈昂)",
         "type": "scatter",
         "uid": "404900b7-dbfd-11e8-8ddb-a41f72875c19",
         "x": [
          "10-4",
          "8-3",
          "8-4",
          "9-1",
          "9-2",
          "9-3",
          "9-4"
         ],
         "y": [
          0,
          null,
          null,
          null,
          null,
          null,
          null
         ]
        },
        {
         "line": {
          "dash": "dot"
         },
         "name": "暂停项目数(张守伟)",
         "type": "scatter",
         "uid": "404900b8-dbfd-11e8-8ddb-a41f72875c19",
         "x": [
          "10-4",
          "8-3",
          "8-4",
          "9-1",
          "9-2",
          "9-3",
          "9-4"
         ],
         "y": [
          0,
          0,
          0,
          0,
          0,
          0,
          0
         ]
        },
        {
         "line": {
          "dash": "dash"
         },
         "name": "暂停项目数(封彦杰)",
         "type": "scatter",
         "uid": "404900b9-dbfd-11e8-8ddb-a41f72875c19",
         "x": [
          "10-4",
          "8-3",
          "8-4",
          "9-1",
          "9-2",
          "9-3",
          "9-4"
         ],
         "y": [
          0,
          1,
          1,
          1,
          1,
          0,
          2
         ]
        },
        {
         "line": {
          "dash": "longdash"
         },
         "name": "暂停项目数(张悦)",
         "type": "scatter",
         "uid": "404900ba-dbfd-11e8-8ddb-a41f72875c19",
         "x": [
          "10-4",
          "8-3",
          "8-4",
          "9-1",
          "9-2",
          "9-3",
          "9-4"
         ],
         "y": [
          0,
          null,
          null,
          null,
          null,
          null,
          null
         ]
        },
        {
         "line": {
          "dash": "dashdot"
         },
         "name": "暂停项目数(于慧)",
         "type": "scatter",
         "uid": "404900bb-dbfd-11e8-8ddb-a41f72875c19",
         "x": [
          "10-4",
          "8-3",
          "8-4",
          "9-1",
          "9-2",
          "9-3",
          "9-4"
         ],
         "y": [
          0,
          0,
          0,
          0,
          0,
          0,
          0
         ]
        },
        {
         "line": {
          "dash": "solid"
         },
         "name": "如期完成项目数(韩少怀)",
         "type": "scatter",
         "uid": "404900bc-dbfd-11e8-8ddb-a41f72875c19",
         "x": [
          "10-4",
          "8-3",
          "8-4",
          "9-1",
          "9-2",
          "9-3",
          "9-4"
         ],
         "y": [
          0,
          5,
          5,
          6,
          5,
          5,
          null
         ]
        },
        {
         "line": {
          "dash": "dot"
         },
         "name": "如期完成项目数(苏彦勋)",
         "type": "scatter",
         "uid": "404900bd-dbfd-11e8-8ddb-a41f72875c19",
         "x": [
          "10-4",
          "8-3",
          "8-4",
          "9-1",
          "9-2",
          "9-3",
          "9-4"
         ],
         "y": [
          0,
          20,
          21,
          22,
          25,
          25,
          null
         ]
        },
        {
         "line": {
          "dash": "dash"
         },
         "name": "如期完成项目数(孟昊)",
         "type": "scatter",
         "uid": "404900be-dbfd-11e8-8ddb-a41f72875c19",
         "x": [
          "10-4",
          "8-3",
          "8-4",
          "9-1",
          "9-2",
          "9-3",
          "9-4"
         ],
         "y": [
          0,
          38,
          38,
          38,
          39,
          40,
          40
         ]
        },
        {
         "line": {
          "dash": "longdash"
         },
         "name": "如期完成项目数(任雪)",
         "type": "scatter",
         "uid": "404900bf-dbfd-11e8-8ddb-a41f72875c19",
         "x": [
          "10-4",
          "8-3",
          "8-4",
          "9-1",
          "9-2",
          "9-3",
          "9-4"
         ],
         "y": [
          0,
          null,
          8,
          8,
          8,
          8,
          8
         ]
        },
        {
         "line": {
          "dash": "dashdot"
         },
         "name": "如期完成项目数(涂成芳)",
         "type": "scatter",
         "uid": "404900c0-dbfd-11e8-8ddb-a41f72875c19",
         "x": [
          "10-4",
          "8-3",
          "8-4",
          "9-1",
          "9-2",
          "9-3",
          "9-4"
         ],
         "y": [
          0,
          null,
          null,
          null,
          null,
          null,
          null
         ]
        },
        {
         "line": {
          "dash": "longdashdot"
         },
         "name": "如期完成项目数(于勇一)",
         "type": "scatter",
         "uid": "404900c1-dbfd-11e8-8ddb-a41f72875c19",
         "x": [
          "10-4",
          "8-3",
          "8-4",
          "9-1",
          "9-2",
          "9-3",
          "9-4"
         ],
         "y": [
          0,
          0,
          0,
          0,
          0,
          0,
          0
         ]
        },
        {
         "line": {
          "dash": "solid"
         },
         "name": "如期完成项目数(路慧萍)",
         "type": "scatter",
         "uid": "404900c2-dbfd-11e8-8ddb-a41f72875c19",
         "x": [
          "10-4",
          "8-3",
          "8-4",
          "9-1",
          "9-2",
          "9-3",
          "9-4"
         ],
         "y": [
          0,
          0,
          0,
          0,
          0,
          0,
          null
         ]
        },
        {
         "line": {
          "dash": "dot"
         },
         "name": "如期完成项目数(杨伟飞)",
         "type": "scatter",
         "uid": "404900c3-dbfd-11e8-8ddb-a41f72875c19",
         "x": [
          "10-4",
          "8-3",
          "8-4",
          "9-1",
          "9-2",
          "9-3",
          "9-4"
         ],
         "y": [
          0,
          2,
          2,
          4,
          4,
          4,
          4
         ]
        },
        {
         "line": {
          "dash": "dash"
         },
         "name": "如期完成项目数(昶吉阳)",
         "type": "scatter",
         "uid": "404900c4-dbfd-11e8-8ddb-a41f72875c19",
         "x": [
          "10-4",
          "8-3",
          "8-4",
          "9-1",
          "9-2",
          "9-3",
          "9-4"
         ],
         "y": [
          0,
          null,
          null,
          null,
          null,
          null,
          null
         ]
        },
        {
         "line": {
          "dash": "longdash"
         },
         "name": "如期完成项目数(王宁)",
         "type": "scatter",
         "uid": "404900c5-dbfd-11e8-8ddb-a41f72875c19",
         "x": [
          "10-4",
          "8-3",
          "8-4",
          "9-1",
          "9-2",
          "9-3",
          "9-4"
         ],
         "y": [
          null,
          0,
          0,
          0,
          null,
          null,
          null
         ]
        },
        {
         "line": {
          "dash": "dashdot"
         },
         "name": "如期完成项目数(车天栋)",
         "type": "scatter",
         "uid": "404900c6-dbfd-11e8-8ddb-a41f72875c19",
         "x": [
          "10-4",
          "8-3",
          "8-4",
          "9-1",
          "9-2",
          "9-3",
          "9-4"
         ],
         "y": [
          0,
          null,
          null,
          null,
          null,
          null,
          null
         ]
        },
        {
         "line": {
          "dash": "longdashdot"
         },
         "name": "如期完成项目数(周杨)",
         "type": "scatter",
         "uid": "404900c7-dbfd-11e8-8ddb-a41f72875c19",
         "x": [
          "10-4",
          "8-3",
          "8-4",
          "9-1",
          "9-2",
          "9-3",
          "9-4"
         ],
         "y": [
          0,
          28,
          28,
          28,
          29,
          32,
          32
         ]
        },
        {
         "line": {
          "dash": "solid"
         },
         "name": "如期完成项目数(段利强)",
         "type": "scatter",
         "uid": "404900c8-dbfd-11e8-8ddb-a41f72875c19",
         "x": [
          "10-4",
          "8-3",
          "8-4",
          "9-1",
          "9-2",
          "9-3",
          "9-4"
         ],
         "y": [
          null,
          null,
          null,
          null,
          null,
          null,
          6
         ]
        },
        {
         "line": {
          "dash": "dot"
         },
         "name": "如期完成项目数(赵玥)",
         "type": "scatter",
         "uid": "404900c9-dbfd-11e8-8ddb-a41f72875c19",
         "x": [
          "10-4",
          "8-3",
          "8-4",
          "9-1",
          "9-2",
          "9-3",
          "9-4"
         ],
         "y": [
          0,
          20,
          21,
          20,
          21,
          21,
          21
         ]
        },
        {
         "line": {
          "dash": "dash"
         },
         "name": "如期完成项目数(冷雪)",
         "type": "scatter",
         "uid": "404900ca-dbfd-11e8-8ddb-a41f72875c19",
         "x": [
          "10-4",
          "8-3",
          "8-4",
          "9-1",
          "9-2",
          "9-3",
          "9-4"
         ],
         "y": [
          0,
          null,
          null,
          null,
          null,
          null,
          null
         ]
        },
        {
         "line": {
          "dash": "longdash"
         },
         "name": "如期完成项目数(冯敬岩)",
         "type": "scatter",
         "uid": "404900cb-dbfd-11e8-8ddb-a41f72875c19",
         "x": [
          "10-4",
          "8-3",
          "8-4",
          "9-1",
          "9-2",
          "9-3",
          "9-4"
         ],
         "y": [
          0,
          null,
          null,
          null,
          null,
          null,
          null
         ]
        },
        {
         "line": {
          "dash": "dashdot"
         },
         "name": "如期完成项目数(姚盟成)",
         "type": "scatter",
         "uid": "404900cc-dbfd-11e8-8ddb-a41f72875c19",
         "x": [
          "10-4",
          "8-3",
          "8-4",
          "9-1",
          "9-2",
          "9-3",
          "9-4"
         ],
         "y": [
          0,
          3,
          3,
          3,
          3,
          3,
          3
         ]
        },
        {
         "line": {
          "dash": "longdashdot"
         },
         "name": "如期完成项目数(李华云)",
         "type": "scatter",
         "uid": "404900cd-dbfd-11e8-8ddb-a41f72875c19",
         "x": [
          "10-4",
          "8-3",
          "8-4",
          "9-1",
          "9-2",
          "9-3",
          "9-4"
         ],
         "y": [
          0,
          5,
          5,
          5,
          5,
          22,
          null
         ]
        },
        {
         "line": {
          "dash": "solid"
         },
         "name": "如期完成项目数(陈鹏燕)",
         "type": "scatter",
         "uid": "404900ce-dbfd-11e8-8ddb-a41f72875c19",
         "x": [
          "10-4",
          "8-3",
          "8-4",
          "9-1",
          "9-2",
          "9-3",
          "9-4"
         ],
         "y": [
          0,
          null,
          null,
          null,
          null,
          null,
          null
         ]
        },
        {
         "line": {
          "dash": "dot"
         },
         "name": "如期完成项目数(刘慧玲)",
         "type": "scatter",
         "uid": "404900cf-dbfd-11e8-8ddb-a41f72875c19",
         "x": [
          "10-4",
          "8-3",
          "8-4",
          "9-1",
          "9-2",
          "9-3",
          "9-4"
         ],
         "y": [
          null,
          3,
          3,
          3,
          null,
          null,
          null
         ]
        },
        {
         "line": {
          "dash": "dash"
         },
         "name": "如期完成项目数(沈恩惠)",
         "type": "scatter",
         "uid": "404900d0-dbfd-11e8-8ddb-a41f72875c19",
         "x": [
          "10-4",
          "8-3",
          "8-4",
          "9-1",
          "9-2",
          "9-3",
          "9-4"
         ],
         "y": [
          0,
          null,
          null,
          null,
          null,
          null,
          null
         ]
        },
        {
         "line": {
          "dash": "longdash"
         },
         "name": "如期完成项目数(林文文)",
         "type": "scatter",
         "uid": "404900d1-dbfd-11e8-8ddb-a41f72875c19",
         "x": [
          "10-4",
          "8-3",
          "8-4",
          "9-1",
          "9-2",
          "9-3",
          "9-4"
         ],
         "y": [
          0,
          null,
          null,
          null,
          null,
          null,
          null
         ]
        },
        {
         "line": {
          "dash": "dashdot"
         },
         "name": "如期完成项目数(谢德健)",
         "type": "scatter",
         "uid": "404900d2-dbfd-11e8-8ddb-a41f72875c19",
         "x": [
          "10-4",
          "8-3",
          "8-4",
          "9-1",
          "9-2",
          "9-3",
          "9-4"
         ],
         "y": [
          0,
          2,
          2,
          null,
          6,
          6,
          6
         ]
        },
        {
         "line": {
          "dash": "longdashdot"
         },
         "name": "如期完成项目数(刘江)",
         "type": "scatter",
         "uid": "404900d3-dbfd-11e8-8ddb-a41f72875c19",
         "x": [
          "10-4",
          "8-3",
          "8-4",
          "9-1",
          "9-2",
          "9-3",
          "9-4"
         ],
         "y": [
          0,
          0,
          0,
          0,
          0,
          0,
          0
         ]
        },
        {
         "line": {
          "dash": "solid"
         },
         "name": "如期完成项目数(王红)",
         "type": "scatter",
         "uid": "404900d4-dbfd-11e8-8ddb-a41f72875c19",
         "x": [
          "10-4",
          "8-3",
          "8-4",
          "9-1",
          "9-2",
          "9-3",
          "9-4"
         ],
         "y": [
          0,
          null,
          null,
          null,
          null,
          null,
          null
         ]
        },
        {
         "line": {
          "dash": "dot"
         },
         "name": "如期完成项目数(李庆原)",
         "type": "scatter",
         "uid": "404900d5-dbfd-11e8-8ddb-a41f72875c19",
         "x": [
          "10-4",
          "8-3",
          "8-4",
          "9-1",
          "9-2",
          "9-3",
          "9-4"
         ],
         "y": [
          0,
          0,
          0,
          0,
          0,
          0,
          null
         ]
        },
        {
         "line": {
          "dash": "dash"
         },
         "name": "如期完成项目数(马潇)",
         "type": "scatter",
         "uid": "404900d6-dbfd-11e8-8ddb-a41f72875c19",
         "x": [
          "10-4",
          "8-3",
          "8-4",
          "9-1",
          "9-2",
          "9-3",
          "9-4"
         ],
         "y": [
          0,
          0,
          0,
          0,
          0,
          0,
          0
         ]
        },
        {
         "line": {
          "dash": "longdash"
         },
         "name": "如期完成项目数(占伟)",
         "type": "scatter",
         "uid": "404900d7-dbfd-11e8-8ddb-a41f72875c19",
         "x": [
          "10-4",
          "8-3",
          "8-4",
          "9-1",
          "9-2",
          "9-3",
          "9-4"
         ],
         "y": [
          0,
          12,
          10,
          10,
          10,
          13,
          13
         ]
        },
        {
         "line": {
          "dash": "dashdot"
         },
         "name": "如期完成项目数(宋迎楠)",
         "type": "scatter",
         "uid": "404900d8-dbfd-11e8-8ddb-a41f72875c19",
         "x": [
          "10-4",
          "8-3",
          "8-4",
          "9-1",
          "9-2",
          "9-3",
          "9-4"
         ],
         "y": [
          null,
          0,
          0,
          0,
          null,
          null,
          null
         ]
        },
        {
         "line": {
          "dash": "longdashdot"
         },
         "name": "如期完成项目数(范旭宁)",
         "type": "scatter",
         "uid": "404900d9-dbfd-11e8-8ddb-a41f72875c19",
         "x": [
          "10-4",
          "8-3",
          "8-4",
          "9-1",
          "9-2",
          "9-3",
          "9-4"
         ],
         "y": [
          0,
          16,
          23,
          27,
          7,
          5,
          20
         ]
        },
        {
         "line": {
          "dash": "solid"
         },
         "name": "如期完成项目数(屈昂)",
         "type": "scatter",
         "uid": "404900da-dbfd-11e8-8ddb-a41f72875c19",
         "x": [
          "10-4",
          "8-3",
          "8-4",
          "9-1",
          "9-2",
          "9-3",
          "9-4"
         ],
         "y": [
          0,
          null,
          null,
          null,
          null,
          null,
          null
         ]
        },
        {
         "line": {
          "dash": "dot"
         },
         "name": "如期完成项目数(张守伟)",
         "type": "scatter",
         "uid": "404900db-dbfd-11e8-8ddb-a41f72875c19",
         "x": [
          "10-4",
          "8-3",
          "8-4",
          "9-1",
          "9-2",
          "9-3",
          "9-4"
         ],
         "y": [
          0,
          13,
          16,
          18,
          20,
          20,
          21
         ]
        },
        {
         "line": {
          "dash": "dash"
         },
         "name": "如期完成项目数(封彦杰)",
         "type": "scatter",
         "uid": "404900dc-dbfd-11e8-8ddb-a41f72875c19",
         "x": [
          "10-4",
          "8-3",
          "8-4",
          "9-1",
          "9-2",
          "9-3",
          "9-4"
         ],
         "y": [
          0,
          0,
          0,
          2,
          2,
          2,
          3
         ]
        },
        {
         "line": {
          "dash": "longdash"
         },
         "name": "如期完成项目数(张悦)",
         "type": "scatter",
         "uid": "404900dd-dbfd-11e8-8ddb-a41f72875c19",
         "x": [
          "10-4",
          "8-3",
          "8-4",
          "9-1",
          "9-2",
          "9-3",
          "9-4"
         ],
         "y": [
          0,
          null,
          null,
          null,
          null,
          null,
          null
         ]
        },
        {
         "line": {
          "dash": "dashdot"
         },
         "name": "如期完成项目数(于慧)",
         "type": "scatter",
         "uid": "404900de-dbfd-11e8-8ddb-a41f72875c19",
         "x": [
          "10-4",
          "8-3",
          "8-4",
          "9-1",
          "9-2",
          "9-3",
          "9-4"
         ],
         "y": [
          0,
          32,
          33,
          34,
          35,
          35,
          35
         ]
        },
        {
         "line": {
          "dash": "solid"
         },
         "name": "延期项目数(韩少怀)",
         "type": "scatter",
         "uid": "404900df-dbfd-11e8-8ddb-a41f72875c19",
         "x": [
          "10-4",
          "8-3",
          "8-4",
          "9-1",
          "9-2",
          "9-3",
          "9-4"
         ],
         "y": [
          0,
          0,
          0,
          0,
          0,
          0,
          null
         ]
        },
        {
         "line": {
          "dash": "dot"
         },
         "name": "延期项目数(苏彦勋)",
         "type": "scatter",
         "uid": "404900e0-dbfd-11e8-8ddb-a41f72875c19",
         "x": [
          "10-4",
          "8-3",
          "8-4",
          "9-1",
          "9-2",
          "9-3",
          "9-4"
         ],
         "y": [
          0,
          0,
          0,
          0,
          0,
          0,
          null
         ]
        },
        {
         "line": {
          "dash": "dash"
         },
         "name": "延期项目数(孟昊)",
         "type": "scatter",
         "uid": "404900e1-dbfd-11e8-8ddb-a41f72875c19",
         "x": [
          "10-4",
          "8-3",
          "8-4",
          "9-1",
          "9-2",
          "9-3",
          "9-4"
         ],
         "y": [
          0,
          0,
          0,
          0,
          0,
          0,
          0
         ]
        },
        {
         "line": {
          "dash": "longdash"
         },
         "name": "延期项目数(任雪)",
         "type": "scatter",
         "uid": "404900e2-dbfd-11e8-8ddb-a41f72875c19",
         "x": [
          "10-4",
          "8-3",
          "8-4",
          "9-1",
          "9-2",
          "9-3",
          "9-4"
         ],
         "y": [
          2,
          null,
          3,
          7,
          7,
          4,
          8
         ]
        },
        {
         "line": {
          "dash": "dashdot"
         },
         "name": "延期项目数(涂成芳)",
         "type": "scatter",
         "uid": "404900e3-dbfd-11e8-8ddb-a41f72875c19",
         "x": [
          "10-4",
          "8-3",
          "8-4",
          "9-1",
          "9-2",
          "9-3",
          "9-4"
         ],
         "y": [
          0,
          null,
          null,
          null,
          null,
          null,
          null
         ]
        },
        {
         "line": {
          "dash": "longdashdot"
         },
         "name": "延期项目数(于勇一)",
         "type": "scatter",
         "uid": "404900e4-dbfd-11e8-8ddb-a41f72875c19",
         "x": [
          "10-4",
          "8-3",
          "8-4",
          "9-1",
          "9-2",
          "9-3",
          "9-4"
         ],
         "y": [
          0,
          0,
          0,
          0,
          0,
          0,
          0
         ]
        },
        {
         "line": {
          "dash": "solid"
         },
         "name": "延期项目数(路慧萍)",
         "type": "scatter",
         "uid": "404900e5-dbfd-11e8-8ddb-a41f72875c19",
         "x": [
          "10-4",
          "8-3",
          "8-4",
          "9-1",
          "9-2",
          "9-3",
          "9-4"
         ],
         "y": [
          0,
          0,
          0,
          0,
          0,
          0,
          null
         ]
        },
        {
         "line": {
          "dash": "dot"
         },
         "name": "延期项目数(杨伟飞)",
         "type": "scatter",
         "uid": "404900e6-dbfd-11e8-8ddb-a41f72875c19",
         "x": [
          "10-4",
          "8-3",
          "8-4",
          "9-1",
          "9-2",
          "9-3",
          "9-4"
         ],
         "y": [
          1,
          0,
          0,
          0,
          0,
          0,
          0
         ]
        },
        {
         "line": {
          "dash": "dash"
         },
         "name": "延期项目数(昶吉阳)",
         "type": "scatter",
         "uid": "404900e7-dbfd-11e8-8ddb-a41f72875c19",
         "x": [
          "10-4",
          "8-3",
          "8-4",
          "9-1",
          "9-2",
          "9-3",
          "9-4"
         ],
         "y": [
          0,
          null,
          null,
          null,
          null,
          null,
          null
         ]
        },
        {
         "line": {
          "dash": "longdash"
         },
         "name": "延期项目数(王宁)",
         "type": "scatter",
         "uid": "404900e8-dbfd-11e8-8ddb-a41f72875c19",
         "x": [
          "10-4",
          "8-3",
          "8-4",
          "9-1",
          "9-2",
          "9-3",
          "9-4"
         ],
         "y": [
          null,
          0,
          0,
          0,
          null,
          null,
          null
         ]
        },
        {
         "line": {
          "dash": "dashdot"
         },
         "name": "延期项目数(车天栋)",
         "type": "scatter",
         "uid": "404900e9-dbfd-11e8-8ddb-a41f72875c19",
         "x": [
          "10-4",
          "8-3",
          "8-4",
          "9-1",
          "9-2",
          "9-3",
          "9-4"
         ],
         "y": [
          0,
          null,
          null,
          null,
          null,
          null,
          null
         ]
        },
        {
         "line": {
          "dash": "longdashdot"
         },
         "name": "延期项目数(周杨)",
         "type": "scatter",
         "uid": "404900ea-dbfd-11e8-8ddb-a41f72875c19",
         "x": [
          "10-4",
          "8-3",
          "8-4",
          "9-1",
          "9-2",
          "9-3",
          "9-4"
         ],
         "y": [
          0,
          0,
          0,
          0,
          0,
          0,
          0
         ]
        },
        {
         "line": {
          "dash": "solid"
         },
         "name": "延期项目数(段利强)",
         "type": "scatter",
         "uid": "404900eb-dbfd-11e8-8ddb-a41f72875c19",
         "x": [
          "10-4",
          "8-3",
          "8-4",
          "9-1",
          "9-2",
          "9-3",
          "9-4"
         ],
         "y": [
          null,
          null,
          null,
          null,
          null,
          null,
          0
         ]
        },
        {
         "line": {
          "dash": "dot"
         },
         "name": "延期项目数(赵玥)",
         "type": "scatter",
         "uid": "404900ec-dbfd-11e8-8ddb-a41f72875c19",
         "x": [
          "10-4",
          "8-3",
          "8-4",
          "9-1",
          "9-2",
          "9-3",
          "9-4"
         ],
         "y": [
          0,
          0,
          0,
          1,
          1,
          1,
          0
         ]
        },
        {
         "line": {
          "dash": "dash"
         },
         "name": "延期项目数(冷雪)",
         "type": "scatter",
         "uid": "404900ed-dbfd-11e8-8ddb-a41f72875c19",
         "x": [
          "10-4",
          "8-3",
          "8-4",
          "9-1",
          "9-2",
          "9-3",
          "9-4"
         ],
         "y": [
          0,
          null,
          null,
          null,
          null,
          null,
          null
         ]
        },
        {
         "line": {
          "dash": "longdash"
         },
         "name": "延期项目数(冯敬岩)",
         "type": "scatter",
         "uid": "404900ee-dbfd-11e8-8ddb-a41f72875c19",
         "x": [
          "10-4",
          "8-3",
          "8-4",
          "9-1",
          "9-2",
          "9-3",
          "9-4"
         ],
         "y": [
          0,
          null,
          null,
          null,
          null,
          null,
          null
         ]
        },
        {
         "line": {
          "dash": "dashdot"
         },
         "name": "延期项目数(姚盟成)",
         "type": "scatter",
         "uid": "404900ef-dbfd-11e8-8ddb-a41f72875c19",
         "x": [
          "10-4",
          "8-3",
          "8-4",
          "9-1",
          "9-2",
          "9-3",
          "9-4"
         ],
         "y": [
          0,
          0,
          0,
          0,
          0,
          0,
          0
         ]
        },
        {
         "line": {
          "dash": "longdashdot"
         },
         "name": "延期项目数(李华云)",
         "type": "scatter",
         "uid": "404900f0-dbfd-11e8-8ddb-a41f72875c19",
         "x": [
          "10-4",
          "8-3",
          "8-4",
          "9-1",
          "9-2",
          "9-3",
          "9-4"
         ],
         "y": [
          2,
          6,
          6,
          9,
          9,
          6,
          null
         ]
        },
        {
         "line": {
          "dash": "solid"
         },
         "name": "延期项目数(陈鹏燕)",
         "type": "scatter",
         "uid": "404900f1-dbfd-11e8-8ddb-a41f72875c19",
         "x": [
          "10-4",
          "8-3",
          "8-4",
          "9-1",
          "9-2",
          "9-3",
          "9-4"
         ],
         "y": [
          1,
          null,
          null,
          null,
          null,
          null,
          null
         ]
        },
        {
         "line": {
          "dash": "dot"
         },
         "name": "延期项目数(刘慧玲)",
         "type": "scatter",
         "uid": "404900f2-dbfd-11e8-8ddb-a41f72875c19",
         "x": [
          "10-4",
          "8-3",
          "8-4",
          "9-1",
          "9-2",
          "9-3",
          "9-4"
         ],
         "y": [
          null,
          0,
          0,
          0,
          null,
          null,
          null
         ]
        },
        {
         "line": {
          "dash": "dash"
         },
         "name": "延期项目数(沈恩惠)",
         "type": "scatter",
         "uid": "404900f3-dbfd-11e8-8ddb-a41f72875c19",
         "x": [
          "10-4",
          "8-3",
          "8-4",
          "9-1",
          "9-2",
          "9-3",
          "9-4"
         ],
         "y": [
          0,
          null,
          null,
          null,
          null,
          null,
          null
         ]
        },
        {
         "line": {
          "dash": "longdash"
         },
         "name": "延期项目数(林文文)",
         "type": "scatter",
         "uid": "404900f4-dbfd-11e8-8ddb-a41f72875c19",
         "x": [
          "10-4",
          "8-3",
          "8-4",
          "9-1",
          "9-2",
          "9-3",
          "9-4"
         ],
         "y": [
          0,
          null,
          null,
          null,
          null,
          null,
          null
         ]
        },
        {
         "line": {
          "dash": "dashdot"
         },
         "name": "延期项目数(谢德健)",
         "type": "scatter",
         "uid": "404900f5-dbfd-11e8-8ddb-a41f72875c19",
         "x": [
          "10-4",
          "8-3",
          "8-4",
          "9-1",
          "9-2",
          "9-3",
          "9-4"
         ],
         "y": [
          0,
          0,
          0,
          null,
          0,
          0,
          0
         ]
        },
        {
         "line": {
          "dash": "longdashdot"
         },
         "name": "延期项目数(刘江)",
         "type": "scatter",
         "uid": "404900f6-dbfd-11e8-8ddb-a41f72875c19",
         "x": [
          "10-4",
          "8-3",
          "8-4",
          "9-1",
          "9-2",
          "9-3",
          "9-4"
         ],
         "y": [
          2,
          0,
          0,
          0,
          0,
          0,
          0
         ]
        },
        {
         "line": {
          "dash": "solid"
         },
         "name": "延期项目数(王红)",
         "type": "scatter",
         "uid": "404900f7-dbfd-11e8-8ddb-a41f72875c19",
         "x": [
          "10-4",
          "8-3",
          "8-4",
          "9-1",
          "9-2",
          "9-3",
          "9-4"
         ],
         "y": [
          0,
          null,
          null,
          null,
          null,
          null,
          null
         ]
        },
        {
         "line": {
          "dash": "dot"
         },
         "name": "延期项目数(李庆原)",
         "type": "scatter",
         "uid": "404900f8-dbfd-11e8-8ddb-a41f72875c19",
         "x": [
          "10-4",
          "8-3",
          "8-4",
          "9-1",
          "9-2",
          "9-3",
          "9-4"
         ],
         "y": [
          0,
          0,
          0,
          0,
          0,
          0,
          null
         ]
        },
        {
         "line": {
          "dash": "dash"
         },
         "name": "延期项目数(马潇)",
         "type": "scatter",
         "uid": "404900f9-dbfd-11e8-8ddb-a41f72875c19",
         "x": [
          "10-4",
          "8-3",
          "8-4",
          "9-1",
          "9-2",
          "9-3",
          "9-4"
         ],
         "y": [
          0,
          1,
          0,
          0,
          0,
          0,
          0
         ]
        },
        {
         "line": {
          "dash": "longdash"
         },
         "name": "延期项目数(占伟)",
         "type": "scatter",
         "uid": "404900fa-dbfd-11e8-8ddb-a41f72875c19",
         "x": [
          "10-4",
          "8-3",
          "8-4",
          "9-1",
          "9-2",
          "9-3",
          "9-4"
         ],
         "y": [
          3,
          3,
          3,
          3,
          3,
          3,
          3
         ]
        },
        {
         "line": {
          "dash": "dashdot"
         },
         "name": "延期项目数(宋迎楠)",
         "type": "scatter",
         "uid": "404900fb-dbfd-11e8-8ddb-a41f72875c19",
         "x": [
          "10-4",
          "8-3",
          "8-4",
          "9-1",
          "9-2",
          "9-3",
          "9-4"
         ],
         "y": [
          null,
          1,
          1,
          6,
          null,
          null,
          null
         ]
        },
        {
         "line": {
          "dash": "longdashdot"
         },
         "name": "延期项目数(范旭宁)",
         "type": "scatter",
         "uid": "404900fc-dbfd-11e8-8ddb-a41f72875c19",
         "x": [
          "10-4",
          "8-3",
          "8-4",
          "9-1",
          "9-2",
          "9-3",
          "9-4"
         ],
         "y": [
          0,
          0,
          0,
          0,
          0,
          0,
          4
         ]
        },
        {
         "line": {
          "dash": "solid"
         },
         "name": "延期项目数(屈昂)",
         "type": "scatter",
         "uid": "404900fd-dbfd-11e8-8ddb-a41f72875c19",
         "x": [
          "10-4",
          "8-3",
          "8-4",
          "9-1",
          "9-2",
          "9-3",
          "9-4"
         ],
         "y": [
          0,
          null,
          null,
          null,
          null,
          null,
          null
         ]
        },
        {
         "line": {
          "dash": "dot"
         },
         "name": "延期项目数(张守伟)",
         "type": "scatter",
         "uid": "404900fe-dbfd-11e8-8ddb-a41f72875c19",
         "x": [
          "10-4",
          "8-3",
          "8-4",
          "9-1",
          "9-2",
          "9-3",
          "9-4"
         ],
         "y": [
          0,
          0,
          0,
          0,
          0,
          0,
          0
         ]
        },
        {
         "line": {
          "dash": "dash"
         },
         "name": "延期项目数(封彦杰)",
         "type": "scatter",
         "uid": "404900ff-dbfd-11e8-8ddb-a41f72875c19",
         "x": [
          "10-4",
          "8-3",
          "8-4",
          "9-1",
          "9-2",
          "9-3",
          "9-4"
         ],
         "y": [
          1,
          0,
          0,
          0,
          0,
          0,
          1
         ]
        },
        {
         "line": {
          "dash": "longdash"
         },
         "name": "延期项目数(张悦)",
         "type": "scatter",
         "uid": "40490100-dbfd-11e8-8ddb-a41f72875c19",
         "x": [
          "10-4",
          "8-3",
          "8-4",
          "9-1",
          "9-2",
          "9-3",
          "9-4"
         ],
         "y": [
          1,
          null,
          null,
          null,
          null,
          null,
          null
         ]
        },
        {
         "line": {
          "dash": "dashdot"
         },
         "name": "延期项目数(于慧)",
         "type": "scatter",
         "uid": "40490101-dbfd-11e8-8ddb-a41f72875c19",
         "x": [
          "10-4",
          "8-3",
          "8-4",
          "9-1",
          "9-2",
          "9-3",
          "9-4"
         ],
         "y": [
          0,
          0,
          0,
          0,
          0,
          0,
          0
         ]
        }
       ],
       "layout": {
        "title": "开发中的项目数&延期完成&季度开发项目数&暂停项目数&如期完成项目数&延期项目数周趋势图",
        "xaxis": {
         "mirror": "all",
         "nticks": 20,
         "showgrid": true,
         "showline": true,
         "title": "周",
         "type": "category",
         "zeroline": true
        },
        "yaxis": {
         "mirror": "all",
         "nticks": 20,
         "showgrid": true,
         "showline": true,
         "title": "开发中的项目数&延期完成&季度开发项目数&暂停项目数&如期完成项目数&延期项目数",
         "zeroline": true
        }
       }
      },
      "text/html": [
       "<div id=\"baa56873-5541-4be9-a6d2-2e771c42d757\" style=\"height: 525px; width: 100%;\" class=\"plotly-graph-div\"></div><script type=\"text/javascript\">require([\"plotly\"], function(Plotly) { window.PLOTLYENV=window.PLOTLYENV || {};window.PLOTLYENV.BASE_URL=\"https://plot.ly\";Plotly.newPlot(\"baa56873-5541-4be9-a6d2-2e771c42d757\", [{\"line\": {\"dash\": \"solid\"}, \"name\": \"\\u5f00\\u53d1\\u4e2d\\u7684\\u9879\\u76ee\\u6570(\\u97e9\\u5c11\\u6000)\", \"x\": [\"10-4\", \"8-3\", \"8-4\", \"9-1\", \"9-2\", \"9-3\", \"9-4\"], \"y\": [0.0, 1.0, 2.0, 1.0, 1.0, 2.0, null], \"type\": \"scatter\", \"uid\": \"40490030-dbfd-11e8-8ddb-a41f72875c19\"}, {\"line\": {\"dash\": \"dot\"}, \"name\": \"\\u5f00\\u53d1\\u4e2d\\u7684\\u9879\\u76ee\\u6570(\\u82cf\\u5f66\\u52cb)\", \"x\": [\"10-4\", \"8-3\", \"8-4\", \"9-1\", \"9-2\", \"9-3\", \"9-4\"], \"y\": [0.0, 5.0, 4.0, 3.0, 0.0, 0.0, null], \"type\": \"scatter\", \"uid\": \"40490031-dbfd-11e8-8ddb-a41f72875c19\"}, {\"line\": {\"dash\": \"dash\"}, \"name\": \"\\u5f00\\u53d1\\u4e2d\\u7684\\u9879\\u76ee\\u6570(\\u5b5f\\u660a)\", \"x\": [\"10-4\", \"8-3\", \"8-4\", \"9-1\", \"9-2\", \"9-3\", \"9-4\"], \"y\": [0.0, 2.0, 2.0, 2.0, 2.0, 0.0, 0.0], \"type\": \"scatter\", \"uid\": \"40490032-dbfd-11e8-8ddb-a41f72875c19\"}, {\"line\": {\"dash\": \"longdash\"}, \"name\": \"\\u5f00\\u53d1\\u4e2d\\u7684\\u9879\\u76ee\\u6570(\\u4efb\\u96ea)\", \"x\": [\"10-4\", \"8-3\", \"8-4\", \"9-1\", \"9-2\", \"9-3\", \"9-4\"], \"y\": [0.0, null, 15.0, 8.0, 8.0, 6.0, 0.0], \"type\": \"scatter\", \"uid\": \"40490033-dbfd-11e8-8ddb-a41f72875c19\"}, {\"line\": {\"dash\": \"dashdot\"}, \"name\": \"\\u5f00\\u53d1\\u4e2d\\u7684\\u9879\\u76ee\\u6570(\\u6d82\\u6210\\u82b3)\", \"x\": [\"10-4\", \"8-3\", \"8-4\", \"9-1\", \"9-2\", \"9-3\", \"9-4\"], \"y\": [0.0, null, null, null, null, null, null], \"type\": \"scatter\", \"uid\": \"40490034-dbfd-11e8-8ddb-a41f72875c19\"}, {\"line\": {\"dash\": \"longdashdot\"}, \"name\": \"\\u5f00\\u53d1\\u4e2d\\u7684\\u9879\\u76ee\\u6570(\\u4e8e\\u52c7\\u4e00)\", \"x\": [\"10-4\", \"8-3\", \"8-4\", \"9-1\", \"9-2\", \"9-3\", \"9-4\"], \"y\": [0.0, 0.0, 0.0, 0.0, 0.0, 0.0, 0.0], \"type\": \"scatter\", \"uid\": \"40490035-dbfd-11e8-8ddb-a41f72875c19\"}, {\"line\": {\"dash\": \"solid\"}, \"name\": \"\\u5f00\\u53d1\\u4e2d\\u7684\\u9879\\u76ee\\u6570(\\u8def\\u6167\\u840d)\", \"x\": [\"10-4\", \"8-3\", \"8-4\", \"9-1\", \"9-2\", \"9-3\", \"9-4\"], \"y\": [0.0, 0.0, 0.0, 0.0, 0.0, 0.0, null], \"type\": \"scatter\", \"uid\": \"40490036-dbfd-11e8-8ddb-a41f72875c19\"}, {\"line\": {\"dash\": \"dot\"}, \"name\": \"\\u5f00\\u53d1\\u4e2d\\u7684\\u9879\\u76ee\\u6570(\\u6768\\u4f1f\\u98de)\", \"x\": [\"10-4\", \"8-3\", \"8-4\", \"9-1\", \"9-2\", \"9-3\", \"9-4\"], \"y\": [0.0, 5.0, 4.0, 2.0, 2.0, 2.0, 2.0], \"type\": \"scatter\", \"uid\": \"40490037-dbfd-11e8-8ddb-a41f72875c19\"}, {\"line\": {\"dash\": \"dash\"}, \"name\": \"\\u5f00\\u53d1\\u4e2d\\u7684\\u9879\\u76ee\\u6570(\\u6636\\u5409\\u9633)\", \"x\": [\"10-4\", \"8-3\", \"8-4\", \"9-1\", \"9-2\", \"9-3\", \"9-4\"], \"y\": [0.0, null, null, null, null, null, null], \"type\": \"scatter\", \"uid\": \"40490038-dbfd-11e8-8ddb-a41f72875c19\"}, {\"line\": {\"dash\": \"longdash\"}, \"name\": \"\\u5f00\\u53d1\\u4e2d\\u7684\\u9879\\u76ee\\u6570(\\u738b\\u5b81)\", \"x\": [\"10-4\", \"8-3\", \"8-4\", \"9-1\", \"9-2\", \"9-3\", \"9-4\"], \"y\": [null, 0.0, 0.0, 0.0, null, null, null], \"type\": \"scatter\", \"uid\": \"40490039-dbfd-11e8-8ddb-a41f72875c19\"}, {\"line\": {\"dash\": \"dashdot\"}, \"name\": \"\\u5f00\\u53d1\\u4e2d\\u7684\\u9879\\u76ee\\u6570(\\u8f66\\u5929\\u680b)\", \"x\": [\"10-4\", \"8-3\", \"8-4\", \"9-1\", \"9-2\", \"9-3\", \"9-4\"], \"y\": [0.0, null, null, null, null, null, null], \"type\": \"scatter\", \"uid\": \"4049003a-dbfd-11e8-8ddb-a41f72875c19\"}, {\"line\": {\"dash\": \"longdashdot\"}, \"name\": \"\\u5f00\\u53d1\\u4e2d\\u7684\\u9879\\u76ee\\u6570(\\u5468\\u6768)\", \"x\": [\"10-4\", \"8-3\", \"8-4\", \"9-1\", \"9-2\", \"9-3\", \"9-4\"], \"y\": [0.0, 3.0, 3.0, 3.0, 2.0, 0.0, 0.0], \"type\": \"scatter\", \"uid\": \"4049003b-dbfd-11e8-8ddb-a41f72875c19\"}, {\"line\": {\"dash\": \"solid\"}, \"name\": \"\\u5f00\\u53d1\\u4e2d\\u7684\\u9879\\u76ee\\u6570(\\u6bb5\\u5229\\u5f3a)\", \"x\": [\"10-4\", \"8-3\", \"8-4\", \"9-1\", \"9-2\", \"9-3\", \"9-4\"], \"y\": [null, null, null, null, null, null, 0.0], \"type\": \"scatter\", \"uid\": \"4049003c-dbfd-11e8-8ddb-a41f72875c19\"}, {\"line\": {\"dash\": \"dot\"}, \"name\": \"\\u5f00\\u53d1\\u4e2d\\u7684\\u9879\\u76ee\\u6570(\\u8d75\\u73a5)\", \"x\": [\"10-4\", \"8-3\", \"8-4\", \"9-1\", \"9-2\", \"9-3\", \"9-4\"], \"y\": [0.0, 0.0, 2.0, 3.0, 1.0, 0.0, 0.0], \"type\": \"scatter\", \"uid\": \"4049003d-dbfd-11e8-8ddb-a41f72875c19\"}, {\"line\": {\"dash\": \"dash\"}, \"name\": \"\\u5f00\\u53d1\\u4e2d\\u7684\\u9879\\u76ee\\u6570(\\u51b7\\u96ea)\", \"x\": [\"10-4\", \"8-3\", \"8-4\", \"9-1\", \"9-2\", \"9-3\", \"9-4\"], \"y\": [0.0, null, null, null, null, null, null], \"type\": \"scatter\", \"uid\": \"4049003e-dbfd-11e8-8ddb-a41f72875c19\"}, {\"line\": {\"dash\": \"longdash\"}, \"name\": \"\\u5f00\\u53d1\\u4e2d\\u7684\\u9879\\u76ee\\u6570(\\u51af\\u656c\\u5ca9)\", \"x\": [\"10-4\", \"8-3\", \"8-4\", \"9-1\", \"9-2\", \"9-3\", \"9-4\"], \"y\": [0.0, null, null, null, null, null, null], \"type\": \"scatter\", \"uid\": \"4049003f-dbfd-11e8-8ddb-a41f72875c19\"}, {\"line\": {\"dash\": \"dashdot\"}, \"name\": \"\\u5f00\\u53d1\\u4e2d\\u7684\\u9879\\u76ee\\u6570(\\u59da\\u76df\\u6210)\", \"x\": [\"10-4\", \"8-3\", \"8-4\", \"9-1\", \"9-2\", \"9-3\", \"9-4\"], \"y\": [0.0, 1.0, 2.0, 3.0, 2.0, 7.0, 4.0], \"type\": \"scatter\", \"uid\": \"40490040-dbfd-11e8-8ddb-a41f72875c19\"}, {\"line\": {\"dash\": \"longdashdot\"}, \"name\": \"\\u5f00\\u53d1\\u4e2d\\u7684\\u9879\\u76ee\\u6570(\\u674e\\u534e\\u4e91)\", \"x\": [\"10-4\", \"8-3\", \"8-4\", \"9-1\", \"9-2\", \"9-3\", \"9-4\"], \"y\": [0.0, 24.0, 24.0, 20.0, 18.0, 3.0, null], \"type\": \"scatter\", \"uid\": \"40490041-dbfd-11e8-8ddb-a41f72875c19\"}, {\"line\": {\"dash\": \"solid\"}, \"name\": \"\\u5f00\\u53d1\\u4e2d\\u7684\\u9879\\u76ee\\u6570(\\u9648\\u9e4f\\u71d5)\", \"x\": [\"10-4\", \"8-3\", \"8-4\", \"9-1\", \"9-2\", \"9-3\", \"9-4\"], \"y\": [0.0, null, null, null, null, null, null], \"type\": \"scatter\", \"uid\": \"40490042-dbfd-11e8-8ddb-a41f72875c19\"}, {\"line\": {\"dash\": \"dot\"}, \"name\": \"\\u5f00\\u53d1\\u4e2d\\u7684\\u9879\\u76ee\\u6570(\\u5218\\u6167\\u73b2)\", \"x\": [\"10-4\", \"8-3\", \"8-4\", \"9-1\", \"9-2\", \"9-3\", \"9-4\"], \"y\": [null, 2.0, 2.0, 1.0, null, null, null], \"type\": \"scatter\", \"uid\": \"40490043-dbfd-11e8-8ddb-a41f72875c19\"}, {\"line\": {\"dash\": \"dash\"}, \"name\": \"\\u5f00\\u53d1\\u4e2d\\u7684\\u9879\\u76ee\\u6570(\\u6c88\\u6069\\u60e0)\", \"x\": [\"10-4\", \"8-3\", \"8-4\", \"9-1\", \"9-2\", \"9-3\", \"9-4\"], \"y\": [0.0, null, null, null, null, null, null], \"type\": \"scatter\", \"uid\": \"40490044-dbfd-11e8-8ddb-a41f72875c19\"}, {\"line\": {\"dash\": \"longdash\"}, \"name\": \"\\u5f00\\u53d1\\u4e2d\\u7684\\u9879\\u76ee\\u6570(\\u6797\\u6587\\u6587)\", \"x\": [\"10-4\", \"8-3\", \"8-4\", \"9-1\", \"9-2\", \"9-3\", \"9-4\"], \"y\": [0.0, null, null, null, null, null, null], \"type\": \"scatter\", \"uid\": \"40490045-dbfd-11e8-8ddb-a41f72875c19\"}, {\"line\": {\"dash\": \"dashdot\"}, \"name\": \"\\u5f00\\u53d1\\u4e2d\\u7684\\u9879\\u76ee\\u6570(\\u8c22\\u5fb7\\u5065)\", \"x\": [\"10-4\", \"8-3\", \"8-4\", \"9-1\", \"9-2\", \"9-3\", \"9-4\"], \"y\": [0.0, 0.0, 0.0, null, 0.0, 0.0, 0.0], \"type\": \"scatter\", \"uid\": \"40490046-dbfd-11e8-8ddb-a41f72875c19\"}, {\"line\": {\"dash\": \"longdashdot\"}, \"name\": \"\\u5f00\\u53d1\\u4e2d\\u7684\\u9879\\u76ee\\u6570(\\u5218\\u6c5f)\", \"x\": [\"10-4\", \"8-3\", \"8-4\", \"9-1\", \"9-2\", \"9-3\", \"9-4\"], \"y\": [0.0, 3.0, 2.0, 1.0, 1.0, 1.0, 1.0], \"type\": \"scatter\", \"uid\": \"40490047-dbfd-11e8-8ddb-a41f72875c19\"}, {\"line\": {\"dash\": \"solid\"}, \"name\": \"\\u5f00\\u53d1\\u4e2d\\u7684\\u9879\\u76ee\\u6570(\\u738b\\u7ea2)\", \"x\": [\"10-4\", \"8-3\", \"8-4\", \"9-1\", \"9-2\", \"9-3\", \"9-4\"], \"y\": [0.0, null, null, null, null, null, null], \"type\": \"scatter\", \"uid\": \"40490048-dbfd-11e8-8ddb-a41f72875c19\"}, {\"line\": {\"dash\": \"dot\"}, \"name\": \"\\u5f00\\u53d1\\u4e2d\\u7684\\u9879\\u76ee\\u6570(\\u674e\\u5e86\\u539f)\", \"x\": [\"10-4\", \"8-3\", \"8-4\", \"9-1\", \"9-2\", \"9-3\", \"9-4\"], \"y\": [0.0, 0.0, 0.0, 0.0, 0.0, 0.0, null], \"type\": \"scatter\", \"uid\": \"40490049-dbfd-11e8-8ddb-a41f72875c19\"}, {\"line\": {\"dash\": \"dash\"}, \"name\": \"\\u5f00\\u53d1\\u4e2d\\u7684\\u9879\\u76ee\\u6570(\\u9a6c\\u6f47)\", \"x\": [\"10-4\", \"8-3\", \"8-4\", \"9-1\", \"9-2\", \"9-3\", \"9-4\"], \"y\": [0.0, 1.0, 0.0, 0.0, 0.0, 0.0, 0.0], \"type\": \"scatter\", \"uid\": \"4049004a-dbfd-11e8-8ddb-a41f72875c19\"}, {\"line\": {\"dash\": \"longdash\"}, \"name\": \"\\u5f00\\u53d1\\u4e2d\\u7684\\u9879\\u76ee\\u6570(\\u5360\\u4f1f)\", \"x\": [\"10-4\", \"8-3\", \"8-4\", \"9-1\", \"9-2\", \"9-3\", \"9-4\"], \"y\": [0.0, 2.0, 5.0, 5.0, 5.0, 0.0, 0.0], \"type\": \"scatter\", \"uid\": \"4049004b-dbfd-11e8-8ddb-a41f72875c19\"}, {\"line\": {\"dash\": \"dashdot\"}, \"name\": \"\\u5f00\\u53d1\\u4e2d\\u7684\\u9879\\u76ee\\u6570(\\u5b8b\\u8fce\\u6960)\", \"x\": [\"10-4\", \"8-3\", \"8-4\", \"9-1\", \"9-2\", \"9-3\", \"9-4\"], \"y\": [null, 14.0, 13.0, 7.0, null, null, null], \"type\": \"scatter\", \"uid\": \"4049004c-dbfd-11e8-8ddb-a41f72875c19\"}, {\"line\": {\"dash\": \"longdashdot\"}, \"name\": \"\\u5f00\\u53d1\\u4e2d\\u7684\\u9879\\u76ee\\u6570(\\u8303\\u65ed\\u5b81)\", \"x\": [\"10-4\", \"8-3\", \"8-4\", \"9-1\", \"9-2\", \"9-3\", \"9-4\"], \"y\": [0.0, 0.0, 1.0, 1.0, 0.0, 0.0, 4.0], \"type\": \"scatter\", \"uid\": \"4049004d-dbfd-11e8-8ddb-a41f72875c19\"}, {\"line\": {\"dash\": \"solid\"}, \"name\": \"\\u5f00\\u53d1\\u4e2d\\u7684\\u9879\\u76ee\\u6570(\\u5c48\\u6602)\", \"x\": [\"10-4\", \"8-3\", \"8-4\", \"9-1\", \"9-2\", \"9-3\", \"9-4\"], \"y\": [0.0, null, null, null, null, null, null], \"type\": \"scatter\", \"uid\": \"4049004e-dbfd-11e8-8ddb-a41f72875c19\"}, {\"line\": {\"dash\": \"dot\"}, \"name\": \"\\u5f00\\u53d1\\u4e2d\\u7684\\u9879\\u76ee\\u6570(\\u5f20\\u5b88\\u4f1f)\", \"x\": [\"10-4\", \"8-3\", \"8-4\", \"9-1\", \"9-2\", \"9-3\", \"9-4\"], \"y\": [0.0, 2.0, 2.0, 2.0, 2.0, 0.0, 0.0], \"type\": \"scatter\", \"uid\": \"4049004f-dbfd-11e8-8ddb-a41f72875c19\"}, {\"line\": {\"dash\": \"dash\"}, \"name\": \"\\u5f00\\u53d1\\u4e2d\\u7684\\u9879\\u76ee\\u6570(\\u5c01\\u5f66\\u6770)\", \"x\": [\"10-4\", \"8-3\", \"8-4\", \"9-1\", \"9-2\", \"9-3\", \"9-4\"], \"y\": [0.0, 4.0, 4.0, 2.0, 2.0, 3.0, 0.0], \"type\": \"scatter\", \"uid\": \"40490050-dbfd-11e8-8ddb-a41f72875c19\"}, {\"line\": {\"dash\": \"longdash\"}, \"name\": \"\\u5f00\\u53d1\\u4e2d\\u7684\\u9879\\u76ee\\u6570(\\u5f20\\u60a6)\", \"x\": [\"10-4\", \"8-3\", \"8-4\", \"9-1\", \"9-2\", \"9-3\", \"9-4\"], \"y\": [0.0, null, null, null, null, null, null], \"type\": \"scatter\", \"uid\": \"40490051-dbfd-11e8-8ddb-a41f72875c19\"}, {\"line\": {\"dash\": \"dashdot\"}, \"name\": \"\\u5f00\\u53d1\\u4e2d\\u7684\\u9879\\u76ee\\u6570(\\u4e8e\\u6167)\", \"x\": [\"10-4\", \"8-3\", \"8-4\", \"9-1\", \"9-2\", \"9-3\", \"9-4\"], \"y\": [0.0, 4.0, 3.0, 2.0, 2.0, 2.0, 1.0], \"type\": \"scatter\", \"uid\": \"40490052-dbfd-11e8-8ddb-a41f72875c19\"}, {\"line\": {\"dash\": \"solid\"}, \"name\": \"\\u5ef6\\u671f\\u5b8c\\u6210(\\u97e9\\u5c11\\u6000)\", \"x\": [\"10-4\", \"8-3\", \"8-4\", \"9-1\", \"9-2\", \"9-3\", \"9-4\"], \"y\": [0.0, 0.0, 0.0, 0.0, 0.0, 0.0, null], \"type\": \"scatter\", \"uid\": \"40490053-dbfd-11e8-8ddb-a41f72875c19\"}, {\"line\": {\"dash\": \"dot\"}, \"name\": \"\\u5ef6\\u671f\\u5b8c\\u6210(\\u82cf\\u5f66\\u52cb)\", \"x\": [\"10-4\", \"8-3\", \"8-4\", \"9-1\", \"9-2\", \"9-3\", \"9-4\"], \"y\": [0.0, 0.0, 0.0, 0.0, 0.0, 0.0, null], \"type\": \"scatter\", \"uid\": \"40490054-dbfd-11e8-8ddb-a41f72875c19\"}, {\"line\": {\"dash\": \"dash\"}, \"name\": \"\\u5ef6\\u671f\\u5b8c\\u6210(\\u5b5f\\u660a)\", \"x\": [\"10-4\", \"8-3\", \"8-4\", \"9-1\", \"9-2\", \"9-3\", \"9-4\"], \"y\": [0.0, 0.0, 0.0, 0.0, 0.0, 0.0, 0.0], \"type\": \"scatter\", \"uid\": \"40490055-dbfd-11e8-8ddb-a41f72875c19\"}, {\"line\": {\"dash\": \"longdash\"}, \"name\": \"\\u5ef6\\u671f\\u5b8c\\u6210(\\u4efb\\u96ea)\", \"x\": [\"10-4\", \"8-3\", \"8-4\", \"9-1\", \"9-2\", \"9-3\", \"9-4\"], \"y\": [0.0, null, 1.0, 1.0, 1.0, 5.0, 7.0], \"type\": \"scatter\", \"uid\": \"40490056-dbfd-11e8-8ddb-a41f72875c19\"}, {\"line\": {\"dash\": \"dashdot\"}, \"name\": \"\\u5ef6\\u671f\\u5b8c\\u6210(\\u6d82\\u6210\\u82b3)\", \"x\": [\"10-4\", \"8-3\", \"8-4\", \"9-1\", \"9-2\", \"9-3\", \"9-4\"], \"y\": [0.0, null, null, null, null, null, null], \"type\": \"scatter\", \"uid\": \"40490057-dbfd-11e8-8ddb-a41f72875c19\"}, {\"line\": {\"dash\": \"longdashdot\"}, \"name\": \"\\u5ef6\\u671f\\u5b8c\\u6210(\\u4e8e\\u52c7\\u4e00)\", \"x\": [\"10-4\", \"8-3\", \"8-4\", \"9-1\", \"9-2\", \"9-3\", \"9-4\"], \"y\": [0.0, 0.0, 0.0, 0.0, 0.0, 0.0, 0.0], \"type\": \"scatter\", \"uid\": \"40490058-dbfd-11e8-8ddb-a41f72875c19\"}, {\"line\": {\"dash\": \"solid\"}, \"name\": \"\\u5ef6\\u671f\\u5b8c\\u6210(\\u8def\\u6167\\u840d)\", \"x\": [\"10-4\", \"8-3\", \"8-4\", \"9-1\", \"9-2\", \"9-3\", \"9-4\"], \"y\": [0.0, 0.0, 0.0, 0.0, 0.0, 0.0, null], \"type\": \"scatter\", \"uid\": \"40490059-dbfd-11e8-8ddb-a41f72875c19\"}, {\"line\": {\"dash\": \"dot\"}, \"name\": \"\\u5ef6\\u671f\\u5b8c\\u6210(\\u6768\\u4f1f\\u98de)\", \"x\": [\"10-4\", \"8-3\", \"8-4\", \"9-1\", \"9-2\", \"9-3\", \"9-4\"], \"y\": [0.0, 1.0, 2.0, 2.0, 2.0, 2.0, 2.0], \"type\": \"scatter\", \"uid\": \"4049005a-dbfd-11e8-8ddb-a41f72875c19\"}, {\"line\": {\"dash\": \"dash\"}, \"name\": \"\\u5ef6\\u671f\\u5b8c\\u6210(\\u6636\\u5409\\u9633)\", \"x\": [\"10-4\", \"8-3\", \"8-4\", \"9-1\", \"9-2\", \"9-3\", \"9-4\"], \"y\": [0.0, null, null, null, null, null, null], \"type\": \"scatter\", \"uid\": \"4049005b-dbfd-11e8-8ddb-a41f72875c19\"}, {\"line\": {\"dash\": \"longdash\"}, \"name\": \"\\u5ef6\\u671f\\u5b8c\\u6210(\\u738b\\u5b81)\", \"x\": [\"10-4\", \"8-3\", \"8-4\", \"9-1\", \"9-2\", \"9-3\", \"9-4\"], \"y\": [null, 0.0, 0.0, 0.0, null, null, null], \"type\": \"scatter\", \"uid\": \"4049005c-dbfd-11e8-8ddb-a41f72875c19\"}, {\"line\": {\"dash\": \"dashdot\"}, \"name\": \"\\u5ef6\\u671f\\u5b8c\\u6210(\\u8f66\\u5929\\u680b)\", \"x\": [\"10-4\", \"8-3\", \"8-4\", \"9-1\", \"9-2\", \"9-3\", \"9-4\"], \"y\": [0.0, null, null, null, null, null, null], \"type\": \"scatter\", \"uid\": \"4049005d-dbfd-11e8-8ddb-a41f72875c19\"}, {\"line\": {\"dash\": \"longdashdot\"}, \"name\": \"\\u5ef6\\u671f\\u5b8c\\u6210(\\u5468\\u6768)\", \"x\": [\"10-4\", \"8-3\", \"8-4\", \"9-1\", \"9-2\", \"9-3\", \"9-4\"], \"y\": [0.0, 0.0, 0.0, 0.0, 0.0, 0.0, 0.0], \"type\": \"scatter\", \"uid\": \"4049005e-dbfd-11e8-8ddb-a41f72875c19\"}, {\"line\": {\"dash\": \"solid\"}, \"name\": \"\\u5ef6\\u671f\\u5b8c\\u6210(\\u6bb5\\u5229\\u5f3a)\", \"x\": [\"10-4\", \"8-3\", \"8-4\", \"9-1\", \"9-2\", \"9-3\", \"9-4\"], \"y\": [null, null, null, null, null, null, 0.0], \"type\": \"scatter\", \"uid\": \"4049005f-dbfd-11e8-8ddb-a41f72875c19\"}, {\"line\": {\"dash\": \"dot\"}, \"name\": \"\\u5ef6\\u671f\\u5b8c\\u6210(\\u8d75\\u73a5)\", \"x\": [\"10-4\", \"8-3\", \"8-4\", \"9-1\", \"9-2\", \"9-3\", \"9-4\"], \"y\": [0.0, 1.0, 1.0, 1.0, 1.0, 1.0, 1.0], \"type\": \"scatter\", \"uid\": \"40490060-dbfd-11e8-8ddb-a41f72875c19\"}, {\"line\": {\"dash\": \"dash\"}, \"name\": \"\\u5ef6\\u671f\\u5b8c\\u6210(\\u51b7\\u96ea)\", \"x\": [\"10-4\", \"8-3\", \"8-4\", \"9-1\", \"9-2\", \"9-3\", \"9-4\"], \"y\": [0.0, null, null, null, null, null, null], \"type\": \"scatter\", \"uid\": \"40490061-dbfd-11e8-8ddb-a41f72875c19\"}, {\"line\": {\"dash\": \"longdash\"}, \"name\": \"\\u5ef6\\u671f\\u5b8c\\u6210(\\u51af\\u656c\\u5ca9)\", \"x\": [\"10-4\", \"8-3\", \"8-4\", \"9-1\", \"9-2\", \"9-3\", \"9-4\"], \"y\": [0.0, null, null, null, null, null, null], \"type\": \"scatter\", \"uid\": \"40490062-dbfd-11e8-8ddb-a41f72875c19\"}, {\"line\": {\"dash\": \"dashdot\"}, \"name\": \"\\u5ef6\\u671f\\u5b8c\\u6210(\\u59da\\u76df\\u6210)\", \"x\": [\"10-4\", \"8-3\", \"8-4\", \"9-1\", \"9-2\", \"9-3\", \"9-4\"], \"y\": [0.0, 0.0, 0.0, 0.0, 0.0, 0.0, 0.0], \"type\": \"scatter\", \"uid\": \"40490063-dbfd-11e8-8ddb-a41f72875c19\"}, {\"line\": {\"dash\": \"longdashdot\"}, \"name\": \"\\u5ef6\\u671f\\u5b8c\\u6210(\\u674e\\u534e\\u4e91)\", \"x\": [\"10-4\", \"8-3\", \"8-4\", \"9-1\", \"9-2\", \"9-3\", \"9-4\"], \"y\": [0.0, 0.0, 0.0, 1.0, 3.0, 13.0, null], \"type\": \"scatter\", \"uid\": \"40490064-dbfd-11e8-8ddb-a41f72875c19\"}, {\"line\": {\"dash\": \"solid\"}, \"name\": \"\\u5ef6\\u671f\\u5b8c\\u6210(\\u9648\\u9e4f\\u71d5)\", \"x\": [\"10-4\", \"8-3\", \"8-4\", \"9-1\", \"9-2\", \"9-3\", \"9-4\"], \"y\": [0.0, null, null, null, null, null, null], \"type\": \"scatter\", \"uid\": \"40490065-dbfd-11e8-8ddb-a41f72875c19\"}, {\"line\": {\"dash\": \"dot\"}, \"name\": \"\\u5ef6\\u671f\\u5b8c\\u6210(\\u5218\\u6167\\u73b2)\", \"x\": [\"10-4\", \"8-3\", \"8-4\", \"9-1\", \"9-2\", \"9-3\", \"9-4\"], \"y\": [null, 1.0, 1.0, 1.0, null, null, null], \"type\": \"scatter\", \"uid\": \"40490066-dbfd-11e8-8ddb-a41f72875c19\"}, {\"line\": {\"dash\": \"dash\"}, \"name\": \"\\u5ef6\\u671f\\u5b8c\\u6210(\\u6c88\\u6069\\u60e0)\", \"x\": [\"10-4\", \"8-3\", \"8-4\", \"9-1\", \"9-2\", \"9-3\", \"9-4\"], \"y\": [0.0, null, null, null, null, null, null], \"type\": \"scatter\", \"uid\": \"40490067-dbfd-11e8-8ddb-a41f72875c19\"}, {\"line\": {\"dash\": \"longdash\"}, \"name\": \"\\u5ef6\\u671f\\u5b8c\\u6210(\\u6797\\u6587\\u6587)\", \"x\": [\"10-4\", \"8-3\", \"8-4\", \"9-1\", \"9-2\", \"9-3\", \"9-4\"], \"y\": [0.0, null, null, null, null, null, null], \"type\": \"scatter\", \"uid\": \"40490068-dbfd-11e8-8ddb-a41f72875c19\"}, {\"line\": {\"dash\": \"dashdot\"}, \"name\": \"\\u5ef6\\u671f\\u5b8c\\u6210(\\u8c22\\u5fb7\\u5065)\", \"x\": [\"10-4\", \"8-3\", \"8-4\", \"9-1\", \"9-2\", \"9-3\", \"9-4\"], \"y\": [0.0, 0.0, 0.0, null, 0.0, 0.0, 0.0], \"type\": \"scatter\", \"uid\": \"40490069-dbfd-11e8-8ddb-a41f72875c19\"}, {\"line\": {\"dash\": \"longdashdot\"}, \"name\": \"\\u5ef6\\u671f\\u5b8c\\u6210(\\u5218\\u6c5f)\", \"x\": [\"10-4\", \"8-3\", \"8-4\", \"9-1\", \"9-2\", \"9-3\", \"9-4\"], \"y\": [0.0, 0.0, 1.0, 2.0, 0.0, 2.0, 2.0], \"type\": \"scatter\", \"uid\": \"4049006a-dbfd-11e8-8ddb-a41f72875c19\"}, {\"line\": {\"dash\": \"solid\"}, \"name\": \"\\u5ef6\\u671f\\u5b8c\\u6210(\\u738b\\u7ea2)\", \"x\": [\"10-4\", \"8-3\", \"8-4\", \"9-1\", \"9-2\", \"9-3\", \"9-4\"], \"y\": [0.0, null, null, null, null, null, null], \"type\": \"scatter\", \"uid\": \"4049006b-dbfd-11e8-8ddb-a41f72875c19\"}, {\"line\": {\"dash\": \"dot\"}, \"name\": \"\\u5ef6\\u671f\\u5b8c\\u6210(\\u674e\\u5e86\\u539f)\", \"x\": [\"10-4\", \"8-3\", \"8-4\", \"9-1\", \"9-2\", \"9-3\", \"9-4\"], \"y\": [0.0, 0.0, 0.0, 0.0, 0.0, 0.0, null], \"type\": \"scatter\", \"uid\": \"4049006c-dbfd-11e8-8ddb-a41f72875c19\"}, {\"line\": {\"dash\": \"dash\"}, \"name\": \"\\u5ef6\\u671f\\u5b8c\\u6210(\\u9a6c\\u6f47)\", \"x\": [\"10-4\", \"8-3\", \"8-4\", \"9-1\", \"9-2\", \"9-3\", \"9-4\"], \"y\": [0.0, 0.0, 0.0, 0.0, 0.0, 0.0, 0.0], \"type\": \"scatter\", \"uid\": \"4049006d-dbfd-11e8-8ddb-a41f72875c19\"}, {\"line\": {\"dash\": \"longdash\"}, \"name\": \"\\u5ef6\\u671f\\u5b8c\\u6210(\\u5360\\u4f1f)\", \"x\": [\"10-4\", \"8-3\", \"8-4\", \"9-1\", \"9-2\", \"9-3\", \"9-4\"], \"y\": [0.0, 2.0, 1.0, 1.0, 1.0, 3.0, 3.0], \"type\": \"scatter\", \"uid\": \"4049006e-dbfd-11e8-8ddb-a41f72875c19\"}, {\"line\": {\"dash\": \"dashdot\"}, \"name\": \"\\u5ef6\\u671f\\u5b8c\\u6210(\\u5b8b\\u8fce\\u6960)\", \"x\": [\"10-4\", \"8-3\", \"8-4\", \"9-1\", \"9-2\", \"9-3\", \"9-4\"], \"y\": [null, 8.0, 9.0, 10.0, null, null, null], \"type\": \"scatter\", \"uid\": \"4049006f-dbfd-11e8-8ddb-a41f72875c19\"}, {\"line\": {\"dash\": \"longdashdot\"}, \"name\": \"\\u5ef6\\u671f\\u5b8c\\u6210(\\u8303\\u65ed\\u5b81)\", \"x\": [\"10-4\", \"8-3\", \"8-4\", \"9-1\", \"9-2\", \"9-3\", \"9-4\"], \"y\": [0.0, 2.0, 2.0, 3.0, 0.0, 0.0, 4.0], \"type\": \"scatter\", \"uid\": \"40490070-dbfd-11e8-8ddb-a41f72875c19\"}, {\"line\": {\"dash\": \"solid\"}, \"name\": \"\\u5ef6\\u671f\\u5b8c\\u6210(\\u5c48\\u6602)\", \"x\": [\"10-4\", \"8-3\", \"8-4\", \"9-1\", \"9-2\", \"9-3\", \"9-4\"], \"y\": [0.0, null, null, null, null, null, null], \"type\": \"scatter\", \"uid\": \"40490071-dbfd-11e8-8ddb-a41f72875c19\"}, {\"line\": {\"dash\": \"dot\"}, \"name\": \"\\u5ef6\\u671f\\u5b8c\\u6210(\\u5f20\\u5b88\\u4f1f)\", \"x\": [\"10-4\", \"8-3\", \"8-4\", \"9-1\", \"9-2\", \"9-3\", \"9-4\"], \"y\": [0.0, 0.0, 0.0, 0.0, 0.0, 0.0, 1.0], \"type\": \"scatter\", \"uid\": \"40490072-dbfd-11e8-8ddb-a41f72875c19\"}, {\"line\": {\"dash\": \"dash\"}, \"name\": \"\\u5ef6\\u671f\\u5b8c\\u6210(\\u5c01\\u5f66\\u6770)\", \"x\": [\"10-4\", \"8-3\", \"8-4\", \"9-1\", \"9-2\", \"9-3\", \"9-4\"], \"y\": [0.0, 0.0, 0.0, 0.0, 0.0, 0.0, 1.0], \"type\": \"scatter\", \"uid\": \"40490073-dbfd-11e8-8ddb-a41f72875c19\"}, {\"line\": {\"dash\": \"longdash\"}, \"name\": \"\\u5ef6\\u671f\\u5b8c\\u6210(\\u5f20\\u60a6)\", \"x\": [\"10-4\", \"8-3\", \"8-4\", \"9-1\", \"9-2\", \"9-3\", \"9-4\"], \"y\": [0.0, null, null, null, null, null, null], \"type\": \"scatter\", \"uid\": \"40490074-dbfd-11e8-8ddb-a41f72875c19\"}, {\"line\": {\"dash\": \"dashdot\"}, \"name\": \"\\u5ef6\\u671f\\u5b8c\\u6210(\\u4e8e\\u6167)\", \"x\": [\"10-4\", \"8-3\", \"8-4\", \"9-1\", \"9-2\", \"9-3\", \"9-4\"], \"y\": [0.0, 0.0, 0.0, 0.0, 0.0, 0.0, 1.0], \"type\": \"scatter\", \"uid\": \"40490075-dbfd-11e8-8ddb-a41f72875c19\"}, {\"line\": {\"dash\": \"solid\"}, \"name\": \"\\u5b63\\u5ea6\\u5f00\\u53d1\\u9879\\u76ee\\u6570(\\u97e9\\u5c11\\u6000)\", \"x\": [\"10-4\", \"8-3\", \"8-4\", \"9-1\", \"9-2\", \"9-3\", \"9-4\"], \"y\": [0.0, 7.0, 7.0, 7.0, 6.0, 7.0, null], \"type\": \"scatter\", \"uid\": \"40490076-dbfd-11e8-8ddb-a41f72875c19\"}, {\"line\": {\"dash\": \"dot\"}, \"name\": \"\\u5b63\\u5ea6\\u5f00\\u53d1\\u9879\\u76ee\\u6570(\\u82cf\\u5f66\\u52cb)\", \"x\": [\"10-4\", \"8-3\", \"8-4\", \"9-1\", \"9-2\", \"9-3\", \"9-4\"], \"y\": [0.0, 33.0, 33.0, 33.0, 33.0, 33.0, null], \"type\": \"scatter\", \"uid\": \"40490077-dbfd-11e8-8ddb-a41f72875c19\"}, {\"line\": {\"dash\": \"dash\"}, \"name\": \"\\u5b63\\u5ea6\\u5f00\\u53d1\\u9879\\u76ee\\u6570(\\u5b5f\\u660a)\", \"x\": [\"10-4\", \"8-3\", \"8-4\", \"9-1\", \"9-2\", \"9-3\", \"9-4\"], \"y\": [0.0, 43.0, 43.0, 43.0, 43.0, 43.0, 43.0], \"type\": \"scatter\", \"uid\": \"40490078-dbfd-11e8-8ddb-a41f72875c19\"}, {\"line\": {\"dash\": \"longdash\"}, \"name\": \"\\u5b63\\u5ea6\\u5f00\\u53d1\\u9879\\u76ee\\u6570(\\u4efb\\u96ea)\", \"x\": [\"10-4\", \"8-3\", \"8-4\", \"9-1\", \"9-2\", \"9-3\", \"9-4\"], \"y\": [0.0, null, 27.0, 27.0, 27.0, 27.0, 27.0], \"type\": \"scatter\", \"uid\": \"40490079-dbfd-11e8-8ddb-a41f72875c19\"}, {\"line\": {\"dash\": \"dashdot\"}, \"name\": \"\\u5b63\\u5ea6\\u5f00\\u53d1\\u9879\\u76ee\\u6570(\\u6d82\\u6210\\u82b3)\", \"x\": [\"10-4\", \"8-3\", \"8-4\", \"9-1\", \"9-2\", \"9-3\", \"9-4\"], \"y\": [0.0, null, null, null, null, null, null], \"type\": \"scatter\", \"uid\": \"4049007a-dbfd-11e8-8ddb-a41f72875c19\"}, {\"line\": {\"dash\": \"longdashdot\"}, \"name\": \"\\u5b63\\u5ea6\\u5f00\\u53d1\\u9879\\u76ee\\u6570(\\u4e8e\\u52c7\\u4e00)\", \"x\": [\"10-4\", \"8-3\", \"8-4\", \"9-1\", \"9-2\", \"9-3\", \"9-4\"], \"y\": [0.0, 0.0, 0.0, 0.0, 0.0, 0.0, 0.0], \"type\": \"scatter\", \"uid\": \"4049007b-dbfd-11e8-8ddb-a41f72875c19\"}, {\"line\": {\"dash\": \"solid\"}, \"name\": \"\\u5b63\\u5ea6\\u5f00\\u53d1\\u9879\\u76ee\\u6570(\\u8def\\u6167\\u840d)\", \"x\": [\"10-4\", \"8-3\", \"8-4\", \"9-1\", \"9-2\", \"9-3\", \"9-4\"], \"y\": [0.0, 0.0, 0.0, 0.0, 0.0, 0.0, null], \"type\": \"scatter\", \"uid\": \"4049007c-dbfd-11e8-8ddb-a41f72875c19\"}, {\"line\": {\"dash\": \"dot\"}, \"name\": \"\\u5b63\\u5ea6\\u5f00\\u53d1\\u9879\\u76ee\\u6570(\\u6768\\u4f1f\\u98de)\", \"x\": [\"10-4\", \"8-3\", \"8-4\", \"9-1\", \"9-2\", \"9-3\", \"9-4\"], \"y\": [0.0, 8.0, 8.0, 8.0, 8.0, 8.0, 8.0], \"type\": \"scatter\", \"uid\": \"4049007d-dbfd-11e8-8ddb-a41f72875c19\"}, {\"line\": {\"dash\": \"dash\"}, \"name\": \"\\u5b63\\u5ea6\\u5f00\\u53d1\\u9879\\u76ee\\u6570(\\u6636\\u5409\\u9633)\", \"x\": [\"10-4\", \"8-3\", \"8-4\", \"9-1\", \"9-2\", \"9-3\", \"9-4\"], \"y\": [0.0, null, null, null, null, null, null], \"type\": \"scatter\", \"uid\": \"4049007e-dbfd-11e8-8ddb-a41f72875c19\"}, {\"line\": {\"dash\": \"longdash\"}, \"name\": \"\\u5b63\\u5ea6\\u5f00\\u53d1\\u9879\\u76ee\\u6570(\\u738b\\u5b81)\", \"x\": [\"10-4\", \"8-3\", \"8-4\", \"9-1\", \"9-2\", \"9-3\", \"9-4\"], \"y\": [null, 0.0, 0.0, 0.0, null, null, null], \"type\": \"scatter\", \"uid\": \"4049007f-dbfd-11e8-8ddb-a41f72875c19\"}, {\"line\": {\"dash\": \"dashdot\"}, \"name\": \"\\u5b63\\u5ea6\\u5f00\\u53d1\\u9879\\u76ee\\u6570(\\u8f66\\u5929\\u680b)\", \"x\": [\"10-4\", \"8-3\", \"8-4\", \"9-1\", \"9-2\", \"9-3\", \"9-4\"], \"y\": [0.0, null, null, null, null, null, null], \"type\": \"scatter\", \"uid\": \"40490080-dbfd-11e8-8ddb-a41f72875c19\"}, {\"line\": {\"dash\": \"longdashdot\"}, \"name\": \"\\u5b63\\u5ea6\\u5f00\\u53d1\\u9879\\u76ee\\u6570(\\u5468\\u6768)\", \"x\": [\"10-4\", \"8-3\", \"8-4\", \"9-1\", \"9-2\", \"9-3\", \"9-4\"], \"y\": [0.0, 32.0, 32.0, 32.0, 32.0, 32.0, 32.0], \"type\": \"scatter\", \"uid\": \"40490081-dbfd-11e8-8ddb-a41f72875c19\"}, {\"line\": {\"dash\": \"solid\"}, \"name\": \"\\u5b63\\u5ea6\\u5f00\\u53d1\\u9879\\u76ee\\u6570(\\u6bb5\\u5229\\u5f3a)\", \"x\": [\"10-4\", \"8-3\", \"8-4\", \"9-1\", \"9-2\", \"9-3\", \"9-4\"], \"y\": [null, null, null, null, null, null, 0.0], \"type\": \"scatter\", \"uid\": \"40490082-dbfd-11e8-8ddb-a41f72875c19\"}, {\"line\": {\"dash\": \"dot\"}, \"name\": \"\\u5b63\\u5ea6\\u5f00\\u53d1\\u9879\\u76ee\\u6570(\\u8d75\\u73a5)\", \"x\": [\"10-4\", \"8-3\", \"8-4\", \"9-1\", \"9-2\", \"9-3\", \"9-4\"], \"y\": [0.0, 21.0, 22.0, 21.0, 22.0, 22.0, 22.0], \"type\": \"scatter\", \"uid\": \"40490083-dbfd-11e8-8ddb-a41f72875c19\"}, {\"line\": {\"dash\": \"dash\"}, \"name\": \"\\u5b63\\u5ea6\\u5f00\\u53d1\\u9879\\u76ee\\u6570(\\u51b7\\u96ea)\", \"x\": [\"10-4\", \"8-3\", \"8-4\", \"9-1\", \"9-2\", \"9-3\", \"9-4\"], \"y\": [0.0, null, null, null, null, null, null], \"type\": \"scatter\", \"uid\": \"40490084-dbfd-11e8-8ddb-a41f72875c19\"}, {\"line\": {\"dash\": \"longdash\"}, \"name\": \"\\u5b63\\u5ea6\\u5f00\\u53d1\\u9879\\u76ee\\u6570(\\u51af\\u656c\\u5ca9)\", \"x\": [\"10-4\", \"8-3\", \"8-4\", \"9-1\", \"9-2\", \"9-3\", \"9-4\"], \"y\": [0.0, null, null, null, null, null, null], \"type\": \"scatter\", \"uid\": \"40490085-dbfd-11e8-8ddb-a41f72875c19\"}, {\"line\": {\"dash\": \"dashdot\"}, \"name\": \"\\u5b63\\u5ea6\\u5f00\\u53d1\\u9879\\u76ee\\u6570(\\u59da\\u76df\\u6210)\", \"x\": [\"10-4\", \"8-3\", \"8-4\", \"9-1\", \"9-2\", \"9-3\", \"9-4\"], \"y\": [0.0, 9.0, 9.0, 9.0, 9.0, 9.0, 15.0], \"type\": \"scatter\", \"uid\": \"40490086-dbfd-11e8-8ddb-a41f72875c19\"}, {\"line\": {\"dash\": \"longdashdot\"}, \"name\": \"\\u5b63\\u5ea6\\u5f00\\u53d1\\u9879\\u76ee\\u6570(\\u674e\\u534e\\u4e91)\", \"x\": [\"10-4\", \"8-3\", \"8-4\", \"9-1\", \"9-2\", \"9-3\", \"9-4\"], \"y\": [0.0, 35.0, 35.0, 35.0, 35.0, 47.0, null], \"type\": \"scatter\", \"uid\": \"40490087-dbfd-11e8-8ddb-a41f72875c19\"}, {\"line\": {\"dash\": \"solid\"}, \"name\": \"\\u5b63\\u5ea6\\u5f00\\u53d1\\u9879\\u76ee\\u6570(\\u9648\\u9e4f\\u71d5)\", \"x\": [\"10-4\", \"8-3\", \"8-4\", \"9-1\", \"9-2\", \"9-3\", \"9-4\"], \"y\": [0.0, null, null, null, null, null, null], \"type\": \"scatter\", \"uid\": \"40490088-dbfd-11e8-8ddb-a41f72875c19\"}, {\"line\": {\"dash\": \"dot\"}, \"name\": \"\\u5b63\\u5ea6\\u5f00\\u53d1\\u9879\\u76ee\\u6570(\\u5218\\u6167\\u73b2)\", \"x\": [\"10-4\", \"8-3\", \"8-4\", \"9-1\", \"9-2\", \"9-3\", \"9-4\"], \"y\": [null, 8.0, 8.0, 9.0, null, null, null], \"type\": \"scatter\", \"uid\": \"40490089-dbfd-11e8-8ddb-a41f72875c19\"}, {\"line\": {\"dash\": \"dash\"}, \"name\": \"\\u5b63\\u5ea6\\u5f00\\u53d1\\u9879\\u76ee\\u6570(\\u6c88\\u6069\\u60e0)\", \"x\": [\"10-4\", \"8-3\", \"8-4\", \"9-1\", \"9-2\", \"9-3\", \"9-4\"], \"y\": [0.0, null, null, null, null, null, null], \"type\": \"scatter\", \"uid\": \"4049008a-dbfd-11e8-8ddb-a41f72875c19\"}, {\"line\": {\"dash\": \"longdash\"}, \"name\": \"\\u5b63\\u5ea6\\u5f00\\u53d1\\u9879\\u76ee\\u6570(\\u6797\\u6587\\u6587)\", \"x\": [\"10-4\", \"8-3\", \"8-4\", \"9-1\", \"9-2\", \"9-3\", \"9-4\"], \"y\": [0.0, null, null, null, null, null, null], \"type\": \"scatter\", \"uid\": \"4049008b-dbfd-11e8-8ddb-a41f72875c19\"}, {\"line\": {\"dash\": \"dashdot\"}, \"name\": \"\\u5b63\\u5ea6\\u5f00\\u53d1\\u9879\\u76ee\\u6570(\\u8c22\\u5fb7\\u5065)\", \"x\": [\"10-4\", \"8-3\", \"8-4\", \"9-1\", \"9-2\", \"9-3\", \"9-4\"], \"y\": [0.0, 2.0, 2.0, null, 6.0, 6.0, 6.0], \"type\": \"scatter\", \"uid\": \"4049008c-dbfd-11e8-8ddb-a41f72875c19\"}, {\"line\": {\"dash\": \"longdashdot\"}, \"name\": \"\\u5b63\\u5ea6\\u5f00\\u53d1\\u9879\\u76ee\\u6570(\\u5218\\u6c5f)\", \"x\": [\"10-4\", \"8-3\", \"8-4\", \"9-1\", \"9-2\", \"9-3\", \"9-4\"], \"y\": [0.0, 3.0, 3.0, 3.0, 0.0, 3.0, 3.0], \"type\": \"scatter\", \"uid\": \"4049008d-dbfd-11e8-8ddb-a41f72875c19\"}, {\"line\": {\"dash\": \"solid\"}, \"name\": \"\\u5b63\\u5ea6\\u5f00\\u53d1\\u9879\\u76ee\\u6570(\\u738b\\u7ea2)\", \"x\": [\"10-4\", \"8-3\", \"8-4\", \"9-1\", \"9-2\", \"9-3\", \"9-4\"], \"y\": [0.0, null, null, null, null, null, null], \"type\": \"scatter\", \"uid\": \"4049008e-dbfd-11e8-8ddb-a41f72875c19\"}, {\"line\": {\"dash\": \"dot\"}, \"name\": \"\\u5b63\\u5ea6\\u5f00\\u53d1\\u9879\\u76ee\\u6570(\\u674e\\u5e86\\u539f)\", \"x\": [\"10-4\", \"8-3\", \"8-4\", \"9-1\", \"9-2\", \"9-3\", \"9-4\"], \"y\": [0.0, 0.0, 0.0, 0.0, 0.0, 0.0, null], \"type\": \"scatter\", \"uid\": \"4049008f-dbfd-11e8-8ddb-a41f72875c19\"}, {\"line\": {\"dash\": \"dash\"}, \"name\": \"\\u5b63\\u5ea6\\u5f00\\u53d1\\u9879\\u76ee\\u6570(\\u9a6c\\u6f47)\", \"x\": [\"10-4\", \"8-3\", \"8-4\", \"9-1\", \"9-2\", \"9-3\", \"9-4\"], \"y\": [0.0, 0.0, 0.0, 0.0, 0.0, 0.0, 0.0], \"type\": \"scatter\", \"uid\": \"40490090-dbfd-11e8-8ddb-a41f72875c19\"}, {\"line\": {\"dash\": \"longdash\"}, \"name\": \"\\u5b63\\u5ea6\\u5f00\\u53d1\\u9879\\u76ee\\u6570(\\u5360\\u4f1f)\", \"x\": [\"10-4\", \"8-3\", \"8-4\", \"9-1\", \"9-2\", \"9-3\", \"9-4\"], \"y\": [0.0, 19.0, 18.0, 18.0, 18.0, 19.0, 19.0], \"type\": \"scatter\", \"uid\": \"40490091-dbfd-11e8-8ddb-a41f72875c19\"}, {\"line\": {\"dash\": \"dashdot\"}, \"name\": \"\\u5b63\\u5ea6\\u5f00\\u53d1\\u9879\\u76ee\\u6570(\\u5b8b\\u8fce\\u6960)\", \"x\": [\"10-4\", \"8-3\", \"8-4\", \"9-1\", \"9-2\", \"9-3\", \"9-4\"], \"y\": [null, 23.0, 23.0, 23.0, null, null, null], \"type\": \"scatter\", \"uid\": \"40490092-dbfd-11e8-8ddb-a41f72875c19\"}, {\"line\": {\"dash\": \"longdashdot\"}, \"name\": \"\\u5b63\\u5ea6\\u5f00\\u53d1\\u9879\\u76ee\\u6570(\\u8303\\u65ed\\u5b81)\", \"x\": [\"10-4\", \"8-3\", \"8-4\", \"9-1\", \"9-2\", \"9-3\", \"9-4\"], \"y\": [0.0, 18.0, 25.0, 30.0, 7.0, 5.0, 24.0], \"type\": \"scatter\", \"uid\": \"40490093-dbfd-11e8-8ddb-a41f72875c19\"}, {\"line\": {\"dash\": \"solid\"}, \"name\": \"\\u5b63\\u5ea6\\u5f00\\u53d1\\u9879\\u76ee\\u6570(\\u5c48\\u6602)\", \"x\": [\"10-4\", \"8-3\", \"8-4\", \"9-1\", \"9-2\", \"9-3\", \"9-4\"], \"y\": [0.0, null, null, null, null, null, null], \"type\": \"scatter\", \"uid\": \"40490094-dbfd-11e8-8ddb-a41f72875c19\"}, {\"line\": {\"dash\": \"dot\"}, \"name\": \"\\u5b63\\u5ea6\\u5f00\\u53d1\\u9879\\u76ee\\u6570(\\u5f20\\u5b88\\u4f1f)\", \"x\": [\"10-4\", \"8-3\", \"8-4\", \"9-1\", \"9-2\", \"9-3\", \"9-4\"], \"y\": [0.0, 13.0, 16.0, 18.0, 20.0, 20.0, 21.0], \"type\": \"scatter\", \"uid\": \"40490095-dbfd-11e8-8ddb-a41f72875c19\"}, {\"line\": {\"dash\": \"dash\"}, \"name\": \"\\u5b63\\u5ea6\\u5f00\\u53d1\\u9879\\u76ee\\u6570(\\u5c01\\u5f66\\u6770)\", \"x\": [\"10-4\", \"8-3\", \"8-4\", \"9-1\", \"9-2\", \"9-3\", \"9-4\"], \"y\": [0.0, 5.0, 5.0, 5.0, 5.0, 5.0, 5.0], \"type\": \"scatter\", \"uid\": \"40490096-dbfd-11e8-8ddb-a41f72875c19\"}, {\"line\": {\"dash\": \"longdash\"}, \"name\": \"\\u5b63\\u5ea6\\u5f00\\u53d1\\u9879\\u76ee\\u6570(\\u5f20\\u60a6)\", \"x\": [\"10-4\", \"8-3\", \"8-4\", \"9-1\", \"9-2\", \"9-3\", \"9-4\"], \"y\": [0.0, null, null, null, null, null, null], \"type\": \"scatter\", \"uid\": \"40490097-dbfd-11e8-8ddb-a41f72875c19\"}, {\"line\": {\"dash\": \"dashdot\"}, \"name\": \"\\u5b63\\u5ea6\\u5f00\\u53d1\\u9879\\u76ee\\u6570(\\u4e8e\\u6167)\", \"x\": [\"10-4\", \"8-3\", \"8-4\", \"9-1\", \"9-2\", \"9-3\", \"9-4\"], \"y\": [0.0, 36.0, 36.0, 36.0, 37.0, 37.0, 37.0], \"type\": \"scatter\", \"uid\": \"40490098-dbfd-11e8-8ddb-a41f72875c19\"}, {\"line\": {\"dash\": \"solid\"}, \"name\": \"\\u6682\\u505c\\u9879\\u76ee\\u6570(\\u97e9\\u5c11\\u6000)\", \"x\": [\"10-4\", \"8-3\", \"8-4\", \"9-1\", \"9-2\", \"9-3\", \"9-4\"], \"y\": [0.0, 0.0, 0.0, 0.0, 0.0, 0.0, null], \"type\": \"scatter\", \"uid\": \"40490099-dbfd-11e8-8ddb-a41f72875c19\"}, {\"line\": {\"dash\": \"dot\"}, \"name\": \"\\u6682\\u505c\\u9879\\u76ee\\u6570(\\u82cf\\u5f66\\u52cb)\", \"x\": [\"10-4\", \"8-3\", \"8-4\", \"9-1\", \"9-2\", \"9-3\", \"9-4\"], \"y\": [0.0, 8.0, 8.0, 8.0, 8.0, 8.0, null], \"type\": \"scatter\", \"uid\": \"4049009a-dbfd-11e8-8ddb-a41f72875c19\"}, {\"line\": {\"dash\": \"dash\"}, \"name\": \"\\u6682\\u505c\\u9879\\u76ee\\u6570(\\u5b5f\\u660a)\", \"x\": [\"10-4\", \"8-3\", \"8-4\", \"9-1\", \"9-2\", \"9-3\", \"9-4\"], \"y\": [0.0, 3.0, 3.0, 3.0, 3.0, 3.0, 3.0], \"type\": \"scatter\", \"uid\": \"4049009b-dbfd-11e8-8ddb-a41f72875c19\"}, {\"line\": {\"dash\": \"longdash\"}, \"name\": \"\\u6682\\u505c\\u9879\\u76ee\\u6570(\\u4efb\\u96ea)\", \"x\": [\"10-4\", \"8-3\", \"8-4\", \"9-1\", \"9-2\", \"9-3\", \"9-4\"], \"y\": [0.0, null, 0.0, 3.0, 3.0, 4.0, 4.0], \"type\": \"scatter\", \"uid\": \"4049009c-dbfd-11e8-8ddb-a41f72875c19\"}, {\"line\": {\"dash\": \"dashdot\"}, \"name\": \"\\u6682\\u505c\\u9879\\u76ee\\u6570(\\u6d82\\u6210\\u82b3)\", \"x\": [\"10-4\", \"8-3\", \"8-4\", \"9-1\", \"9-2\", \"9-3\", \"9-4\"], \"y\": [0.0, null, null, null, null, null, null], \"type\": \"scatter\", \"uid\": \"4049009d-dbfd-11e8-8ddb-a41f72875c19\"}, {\"line\": {\"dash\": \"longdashdot\"}, \"name\": \"\\u6682\\u505c\\u9879\\u76ee\\u6570(\\u4e8e\\u52c7\\u4e00)\", \"x\": [\"10-4\", \"8-3\", \"8-4\", \"9-1\", \"9-2\", \"9-3\", \"9-4\"], \"y\": [0.0, 0.0, 0.0, 0.0, 0.0, 0.0, 0.0], \"type\": \"scatter\", \"uid\": \"4049009e-dbfd-11e8-8ddb-a41f72875c19\"}, {\"line\": {\"dash\": \"solid\"}, \"name\": \"\\u6682\\u505c\\u9879\\u76ee\\u6570(\\u8def\\u6167\\u840d)\", \"x\": [\"10-4\", \"8-3\", \"8-4\", \"9-1\", \"9-2\", \"9-3\", \"9-4\"], \"y\": [0.0, 0.0, 0.0, 0.0, 0.0, 2.0, null], \"type\": \"scatter\", \"uid\": \"4049009f-dbfd-11e8-8ddb-a41f72875c19\"}, {\"line\": {\"dash\": \"dot\"}, \"name\": \"\\u6682\\u505c\\u9879\\u76ee\\u6570(\\u6768\\u4f1f\\u98de)\", \"x\": [\"10-4\", \"8-3\", \"8-4\", \"9-1\", \"9-2\", \"9-3\", \"9-4\"], \"y\": [0.0, 0.0, 0.0, 0.0, 0.0, 0.0, 0.0], \"type\": \"scatter\", \"uid\": \"404900a0-dbfd-11e8-8ddb-a41f72875c19\"}, {\"line\": {\"dash\": \"dash\"}, \"name\": \"\\u6682\\u505c\\u9879\\u76ee\\u6570(\\u6636\\u5409\\u9633)\", \"x\": [\"10-4\", \"8-3\", \"8-4\", \"9-1\", \"9-2\", \"9-3\", \"9-4\"], \"y\": [0.0, null, null, null, null, null, null], \"type\": \"scatter\", \"uid\": \"404900a1-dbfd-11e8-8ddb-a41f72875c19\"}, {\"line\": {\"dash\": \"longdash\"}, \"name\": \"\\u6682\\u505c\\u9879\\u76ee\\u6570(\\u738b\\u5b81)\", \"x\": [\"10-4\", \"8-3\", \"8-4\", \"9-1\", \"9-2\", \"9-3\", \"9-4\"], \"y\": [null, 0.0, 0.0, 0.0, null, null, null], \"type\": \"scatter\", \"uid\": \"404900a2-dbfd-11e8-8ddb-a41f72875c19\"}, {\"line\": {\"dash\": \"dashdot\"}, \"name\": \"\\u6682\\u505c\\u9879\\u76ee\\u6570(\\u8f66\\u5929\\u680b)\", \"x\": [\"10-4\", \"8-3\", \"8-4\", \"9-1\", \"9-2\", \"9-3\", \"9-4\"], \"y\": [0.0, null, null, null, null, null, null], \"type\": \"scatter\", \"uid\": \"404900a3-dbfd-11e8-8ddb-a41f72875c19\"}, {\"line\": {\"dash\": \"longdashdot\"}, \"name\": \"\\u6682\\u505c\\u9879\\u76ee\\u6570(\\u5468\\u6768)\", \"x\": [\"10-4\", \"8-3\", \"8-4\", \"9-1\", \"9-2\", \"9-3\", \"9-4\"], \"y\": [0.0, 1.0, 1.0, 1.0, 1.0, 1.0, 1.0], \"type\": \"scatter\", \"uid\": \"404900a4-dbfd-11e8-8ddb-a41f72875c19\"}, {\"line\": {\"dash\": \"solid\"}, \"name\": \"\\u6682\\u505c\\u9879\\u76ee\\u6570(\\u6bb5\\u5229\\u5f3a)\", \"x\": [\"10-4\", \"8-3\", \"8-4\", \"9-1\", \"9-2\", \"9-3\", \"9-4\"], \"y\": [null, null, null, null, null, null, 0.0], \"type\": \"scatter\", \"uid\": \"404900a5-dbfd-11e8-8ddb-a41f72875c19\"}, {\"line\": {\"dash\": \"dot\"}, \"name\": \"\\u6682\\u505c\\u9879\\u76ee\\u6570(\\u8d75\\u73a5)\", \"x\": [\"10-4\", \"8-3\", \"8-4\", \"9-1\", \"9-2\", \"9-3\", \"9-4\"], \"y\": [0.0, 0.0, 0.0, 1.0, 1.0, 1.0, 0.0], \"type\": \"scatter\", \"uid\": \"404900a6-dbfd-11e8-8ddb-a41f72875c19\"}, {\"line\": {\"dash\": \"dash\"}, \"name\": \"\\u6682\\u505c\\u9879\\u76ee\\u6570(\\u51b7\\u96ea)\", \"x\": [\"10-4\", \"8-3\", \"8-4\", \"9-1\", \"9-2\", \"9-3\", \"9-4\"], \"y\": [0.0, null, null, null, null, null, null], \"type\": \"scatter\", \"uid\": \"404900a7-dbfd-11e8-8ddb-a41f72875c19\"}, {\"line\": {\"dash\": \"longdash\"}, \"name\": \"\\u6682\\u505c\\u9879\\u76ee\\u6570(\\u51af\\u656c\\u5ca9)\", \"x\": [\"10-4\", \"8-3\", \"8-4\", \"9-1\", \"9-2\", \"9-3\", \"9-4\"], \"y\": [0.0, null, null, null, null, null, null], \"type\": \"scatter\", \"uid\": \"404900a8-dbfd-11e8-8ddb-a41f72875c19\"}, {\"line\": {\"dash\": \"dashdot\"}, \"name\": \"\\u6682\\u505c\\u9879\\u76ee\\u6570(\\u59da\\u76df\\u6210)\", \"x\": [\"10-4\", \"8-3\", \"8-4\", \"9-1\", \"9-2\", \"9-3\", \"9-4\"], \"y\": [0.0, 0.0, 0.0, 0.0, 0.0, 12.0, 12.0], \"type\": \"scatter\", \"uid\": \"404900a9-dbfd-11e8-8ddb-a41f72875c19\"}, {\"line\": {\"dash\": \"longdashdot\"}, \"name\": \"\\u6682\\u505c\\u9879\\u76ee\\u6570(\\u674e\\u534e\\u4e91)\", \"x\": [\"10-4\", \"8-3\", \"8-4\", \"9-1\", \"9-2\", \"9-3\", \"9-4\"], \"y\": [0.0, 0.0, 0.0, 0.0, 0.0, 3.0, null], \"type\": \"scatter\", \"uid\": \"404900aa-dbfd-11e8-8ddb-a41f72875c19\"}, {\"line\": {\"dash\": \"solid\"}, \"name\": \"\\u6682\\u505c\\u9879\\u76ee\\u6570(\\u9648\\u9e4f\\u71d5)\", \"x\": [\"10-4\", \"8-3\", \"8-4\", \"9-1\", \"9-2\", \"9-3\", \"9-4\"], \"y\": [0.0, null, null, null, null, null, null], \"type\": \"scatter\", \"uid\": \"404900ab-dbfd-11e8-8ddb-a41f72875c19\"}, {\"line\": {\"dash\": \"dot\"}, \"name\": \"\\u6682\\u505c\\u9879\\u76ee\\u6570(\\u5218\\u6167\\u73b2)\", \"x\": [\"10-4\", \"8-3\", \"8-4\", \"9-1\", \"9-2\", \"9-3\", \"9-4\"], \"y\": [null, 2.0, 2.0, 4.0, null, null, null], \"type\": \"scatter\", \"uid\": \"404900ac-dbfd-11e8-8ddb-a41f72875c19\"}, {\"line\": {\"dash\": \"dash\"}, \"name\": \"\\u6682\\u505c\\u9879\\u76ee\\u6570(\\u6c88\\u6069\\u60e0)\", \"x\": [\"10-4\", \"8-3\", \"8-4\", \"9-1\", \"9-2\", \"9-3\", \"9-4\"], \"y\": [0.0, null, null, null, null, null, null], \"type\": \"scatter\", \"uid\": \"404900ad-dbfd-11e8-8ddb-a41f72875c19\"}, {\"line\": {\"dash\": \"longdash\"}, \"name\": \"\\u6682\\u505c\\u9879\\u76ee\\u6570(\\u6797\\u6587\\u6587)\", \"x\": [\"10-4\", \"8-3\", \"8-4\", \"9-1\", \"9-2\", \"9-3\", \"9-4\"], \"y\": [0.0, null, null, null, null, null, null], \"type\": \"scatter\", \"uid\": \"404900ae-dbfd-11e8-8ddb-a41f72875c19\"}, {\"line\": {\"dash\": \"dashdot\"}, \"name\": \"\\u6682\\u505c\\u9879\\u76ee\\u6570(\\u8c22\\u5fb7\\u5065)\", \"x\": [\"10-4\", \"8-3\", \"8-4\", \"9-1\", \"9-2\", \"9-3\", \"9-4\"], \"y\": [0.0, 0.0, 0.0, null, 0.0, 0.0, 0.0], \"type\": \"scatter\", \"uid\": \"404900af-dbfd-11e8-8ddb-a41f72875c19\"}, {\"line\": {\"dash\": \"longdashdot\"}, \"name\": \"\\u6682\\u505c\\u9879\\u76ee\\u6570(\\u5218\\u6c5f)\", \"x\": [\"10-4\", \"8-3\", \"8-4\", \"9-1\", \"9-2\", \"9-3\", \"9-4\"], \"y\": [0.0, 0.0, 0.0, 0.0, 1.0, 0.0, 0.0], \"type\": \"scatter\", \"uid\": \"404900b0-dbfd-11e8-8ddb-a41f72875c19\"}, {\"line\": {\"dash\": \"solid\"}, \"name\": \"\\u6682\\u505c\\u9879\\u76ee\\u6570(\\u738b\\u7ea2)\", \"x\": [\"10-4\", \"8-3\", \"8-4\", \"9-1\", \"9-2\", \"9-3\", \"9-4\"], \"y\": [0.0, null, null, null, null, null, null], \"type\": \"scatter\", \"uid\": \"404900b1-dbfd-11e8-8ddb-a41f72875c19\"}, {\"line\": {\"dash\": \"dot\"}, \"name\": \"\\u6682\\u505c\\u9879\\u76ee\\u6570(\\u674e\\u5e86\\u539f)\", \"x\": [\"10-4\", \"8-3\", \"8-4\", \"9-1\", \"9-2\", \"9-3\", \"9-4\"], \"y\": [0.0, 0.0, 0.0, 0.0, 0.0, 0.0, null], \"type\": \"scatter\", \"uid\": \"404900b2-dbfd-11e8-8ddb-a41f72875c19\"}, {\"line\": {\"dash\": \"dash\"}, \"name\": \"\\u6682\\u505c\\u9879\\u76ee\\u6570(\\u9a6c\\u6f47)\", \"x\": [\"10-4\", \"8-3\", \"8-4\", \"9-1\", \"9-2\", \"9-3\", \"9-4\"], \"y\": [0.0, 0.0, 0.0, 0.0, 0.0, 0.0, 0.0], \"type\": \"scatter\", \"uid\": \"404900b3-dbfd-11e8-8ddb-a41f72875c19\"}, {\"line\": {\"dash\": \"longdash\"}, \"name\": \"\\u6682\\u505c\\u9879\\u76ee\\u6570(\\u5360\\u4f1f)\", \"x\": [\"10-4\", \"8-3\", \"8-4\", \"9-1\", \"9-2\", \"9-3\", \"9-4\"], \"y\": [0.0, 0.0, 0.0, 0.0, 0.0, 0.0, 0.0], \"type\": \"scatter\", \"uid\": \"404900b4-dbfd-11e8-8ddb-a41f72875c19\"}, {\"line\": {\"dash\": \"dashdot\"}, \"name\": \"\\u6682\\u505c\\u9879\\u76ee\\u6570(\\u5b8b\\u8fce\\u6960)\", \"x\": [\"10-4\", \"8-3\", \"8-4\", \"9-1\", \"9-2\", \"9-3\", \"9-4\"], \"y\": [null, 0.0, 0.0, 0.0, null, null, null], \"type\": \"scatter\", \"uid\": \"404900b5-dbfd-11e8-8ddb-a41f72875c19\"}, {\"line\": {\"dash\": \"longdashdot\"}, \"name\": \"\\u6682\\u505c\\u9879\\u76ee\\u6570(\\u8303\\u65ed\\u5b81)\", \"x\": [\"10-4\", \"8-3\", \"8-4\", \"9-1\", \"9-2\", \"9-3\", \"9-4\"], \"y\": [0.0, 0.0, 0.0, 0.0, 0.0, 0.0, 0.0], \"type\": \"scatter\", \"uid\": \"404900b6-dbfd-11e8-8ddb-a41f72875c19\"}, {\"line\": {\"dash\": \"solid\"}, \"name\": \"\\u6682\\u505c\\u9879\\u76ee\\u6570(\\u5c48\\u6602)\", \"x\": [\"10-4\", \"8-3\", \"8-4\", \"9-1\", \"9-2\", \"9-3\", \"9-4\"], \"y\": [0.0, null, null, null, null, null, null], \"type\": \"scatter\", \"uid\": \"404900b7-dbfd-11e8-8ddb-a41f72875c19\"}, {\"line\": {\"dash\": \"dot\"}, \"name\": \"\\u6682\\u505c\\u9879\\u76ee\\u6570(\\u5f20\\u5b88\\u4f1f)\", \"x\": [\"10-4\", \"8-3\", \"8-4\", \"9-1\", \"9-2\", \"9-3\", \"9-4\"], \"y\": [0.0, 0.0, 0.0, 0.0, 0.0, 0.0, 0.0], \"type\": \"scatter\", \"uid\": \"404900b8-dbfd-11e8-8ddb-a41f72875c19\"}, {\"line\": {\"dash\": \"dash\"}, \"name\": \"\\u6682\\u505c\\u9879\\u76ee\\u6570(\\u5c01\\u5f66\\u6770)\", \"x\": [\"10-4\", \"8-3\", \"8-4\", \"9-1\", \"9-2\", \"9-3\", \"9-4\"], \"y\": [0.0, 1.0, 1.0, 1.0, 1.0, 0.0, 2.0], \"type\": \"scatter\", \"uid\": \"404900b9-dbfd-11e8-8ddb-a41f72875c19\"}, {\"line\": {\"dash\": \"longdash\"}, \"name\": \"\\u6682\\u505c\\u9879\\u76ee\\u6570(\\u5f20\\u60a6)\", \"x\": [\"10-4\", \"8-3\", \"8-4\", \"9-1\", \"9-2\", \"9-3\", \"9-4\"], \"y\": [0.0, null, null, null, null, null, null], \"type\": \"scatter\", \"uid\": \"404900ba-dbfd-11e8-8ddb-a41f72875c19\"}, {\"line\": {\"dash\": \"dashdot\"}, \"name\": \"\\u6682\\u505c\\u9879\\u76ee\\u6570(\\u4e8e\\u6167)\", \"x\": [\"10-4\", \"8-3\", \"8-4\", \"9-1\", \"9-2\", \"9-3\", \"9-4\"], \"y\": [0.0, 0.0, 0.0, 0.0, 0.0, 0.0, 0.0], \"type\": \"scatter\", \"uid\": \"404900bb-dbfd-11e8-8ddb-a41f72875c19\"}, {\"line\": {\"dash\": \"solid\"}, \"name\": \"\\u5982\\u671f\\u5b8c\\u6210\\u9879\\u76ee\\u6570(\\u97e9\\u5c11\\u6000)\", \"x\": [\"10-4\", \"8-3\", \"8-4\", \"9-1\", \"9-2\", \"9-3\", \"9-4\"], \"y\": [0.0, 5.0, 5.0, 6.0, 5.0, 5.0, null], \"type\": \"scatter\", \"uid\": \"404900bc-dbfd-11e8-8ddb-a41f72875c19\"}, {\"line\": {\"dash\": \"dot\"}, \"name\": \"\\u5982\\u671f\\u5b8c\\u6210\\u9879\\u76ee\\u6570(\\u82cf\\u5f66\\u52cb)\", \"x\": [\"10-4\", \"8-3\", \"8-4\", \"9-1\", \"9-2\", \"9-3\", \"9-4\"], \"y\": [0.0, 20.0, 21.0, 22.0, 25.0, 25.0, null], \"type\": \"scatter\", \"uid\": \"404900bd-dbfd-11e8-8ddb-a41f72875c19\"}, {\"line\": {\"dash\": \"dash\"}, \"name\": \"\\u5982\\u671f\\u5b8c\\u6210\\u9879\\u76ee\\u6570(\\u5b5f\\u660a)\", \"x\": [\"10-4\", \"8-3\", \"8-4\", \"9-1\", \"9-2\", \"9-3\", \"9-4\"], \"y\": [0.0, 38.0, 38.0, 38.0, 39.0, 40.0, 40.0], \"type\": \"scatter\", \"uid\": \"404900be-dbfd-11e8-8ddb-a41f72875c19\"}, {\"line\": {\"dash\": \"longdash\"}, \"name\": \"\\u5982\\u671f\\u5b8c\\u6210\\u9879\\u76ee\\u6570(\\u4efb\\u96ea)\", \"x\": [\"10-4\", \"8-3\", \"8-4\", \"9-1\", \"9-2\", \"9-3\", \"9-4\"], \"y\": [0.0, null, 8.0, 8.0, 8.0, 8.0, 8.0], \"type\": \"scatter\", \"uid\": \"404900bf-dbfd-11e8-8ddb-a41f72875c19\"}, {\"line\": {\"dash\": \"dashdot\"}, \"name\": \"\\u5982\\u671f\\u5b8c\\u6210\\u9879\\u76ee\\u6570(\\u6d82\\u6210\\u82b3)\", \"x\": [\"10-4\", \"8-3\", \"8-4\", \"9-1\", \"9-2\", \"9-3\", \"9-4\"], \"y\": [0.0, null, null, null, null, null, null], \"type\": \"scatter\", \"uid\": \"404900c0-dbfd-11e8-8ddb-a41f72875c19\"}, {\"line\": {\"dash\": \"longdashdot\"}, \"name\": \"\\u5982\\u671f\\u5b8c\\u6210\\u9879\\u76ee\\u6570(\\u4e8e\\u52c7\\u4e00)\", \"x\": [\"10-4\", \"8-3\", \"8-4\", \"9-1\", \"9-2\", \"9-3\", \"9-4\"], \"y\": [0.0, 0.0, 0.0, 0.0, 0.0, 0.0, 0.0], \"type\": \"scatter\", \"uid\": \"404900c1-dbfd-11e8-8ddb-a41f72875c19\"}, {\"line\": {\"dash\": \"solid\"}, \"name\": \"\\u5982\\u671f\\u5b8c\\u6210\\u9879\\u76ee\\u6570(\\u8def\\u6167\\u840d)\", \"x\": [\"10-4\", \"8-3\", \"8-4\", \"9-1\", \"9-2\", \"9-3\", \"9-4\"], \"y\": [0.0, 0.0, 0.0, 0.0, 0.0, 0.0, null], \"type\": \"scatter\", \"uid\": \"404900c2-dbfd-11e8-8ddb-a41f72875c19\"}, {\"line\": {\"dash\": \"dot\"}, \"name\": \"\\u5982\\u671f\\u5b8c\\u6210\\u9879\\u76ee\\u6570(\\u6768\\u4f1f\\u98de)\", \"x\": [\"10-4\", \"8-3\", \"8-4\", \"9-1\", \"9-2\", \"9-3\", \"9-4\"], \"y\": [0.0, 2.0, 2.0, 4.0, 4.0, 4.0, 4.0], \"type\": \"scatter\", \"uid\": \"404900c3-dbfd-11e8-8ddb-a41f72875c19\"}, {\"line\": {\"dash\": \"dash\"}, \"name\": \"\\u5982\\u671f\\u5b8c\\u6210\\u9879\\u76ee\\u6570(\\u6636\\u5409\\u9633)\", \"x\": [\"10-4\", \"8-3\", \"8-4\", \"9-1\", \"9-2\", \"9-3\", \"9-4\"], \"y\": [0.0, null, null, null, null, null, null], \"type\": \"scatter\", \"uid\": \"404900c4-dbfd-11e8-8ddb-a41f72875c19\"}, {\"line\": {\"dash\": \"longdash\"}, \"name\": \"\\u5982\\u671f\\u5b8c\\u6210\\u9879\\u76ee\\u6570(\\u738b\\u5b81)\", \"x\": [\"10-4\", \"8-3\", \"8-4\", \"9-1\", \"9-2\", \"9-3\", \"9-4\"], \"y\": [null, 0.0, 0.0, 0.0, null, null, null], \"type\": \"scatter\", \"uid\": \"404900c5-dbfd-11e8-8ddb-a41f72875c19\"}, {\"line\": {\"dash\": \"dashdot\"}, \"name\": \"\\u5982\\u671f\\u5b8c\\u6210\\u9879\\u76ee\\u6570(\\u8f66\\u5929\\u680b)\", \"x\": [\"10-4\", \"8-3\", \"8-4\", \"9-1\", \"9-2\", \"9-3\", \"9-4\"], \"y\": [0.0, null, null, null, null, null, null], \"type\": \"scatter\", \"uid\": \"404900c6-dbfd-11e8-8ddb-a41f72875c19\"}, {\"line\": {\"dash\": \"longdashdot\"}, \"name\": \"\\u5982\\u671f\\u5b8c\\u6210\\u9879\\u76ee\\u6570(\\u5468\\u6768)\", \"x\": [\"10-4\", \"8-3\", \"8-4\", \"9-1\", \"9-2\", \"9-3\", \"9-4\"], \"y\": [0.0, 28.0, 28.0, 28.0, 29.0, 32.0, 32.0], \"type\": \"scatter\", \"uid\": \"404900c7-dbfd-11e8-8ddb-a41f72875c19\"}, {\"line\": {\"dash\": \"solid\"}, \"name\": \"\\u5982\\u671f\\u5b8c\\u6210\\u9879\\u76ee\\u6570(\\u6bb5\\u5229\\u5f3a)\", \"x\": [\"10-4\", \"8-3\", \"8-4\", \"9-1\", \"9-2\", \"9-3\", \"9-4\"], \"y\": [null, null, null, null, null, null, 6.0], \"type\": \"scatter\", \"uid\": \"404900c8-dbfd-11e8-8ddb-a41f72875c19\"}, {\"line\": {\"dash\": \"dot\"}, \"name\": \"\\u5982\\u671f\\u5b8c\\u6210\\u9879\\u76ee\\u6570(\\u8d75\\u73a5)\", \"x\": [\"10-4\", \"8-3\", \"8-4\", \"9-1\", \"9-2\", \"9-3\", \"9-4\"], \"y\": [0.0, 20.0, 21.0, 20.0, 21.0, 21.0, 21.0], \"type\": \"scatter\", \"uid\": \"404900c9-dbfd-11e8-8ddb-a41f72875c19\"}, {\"line\": {\"dash\": \"dash\"}, \"name\": \"\\u5982\\u671f\\u5b8c\\u6210\\u9879\\u76ee\\u6570(\\u51b7\\u96ea)\", \"x\": [\"10-4\", \"8-3\", \"8-4\", \"9-1\", \"9-2\", \"9-3\", \"9-4\"], \"y\": [0.0, null, null, null, null, null, null], \"type\": \"scatter\", \"uid\": \"404900ca-dbfd-11e8-8ddb-a41f72875c19\"}, {\"line\": {\"dash\": \"longdash\"}, \"name\": \"\\u5982\\u671f\\u5b8c\\u6210\\u9879\\u76ee\\u6570(\\u51af\\u656c\\u5ca9)\", \"x\": [\"10-4\", \"8-3\", \"8-4\", \"9-1\", \"9-2\", \"9-3\", \"9-4\"], \"y\": [0.0, null, null, null, null, null, null], \"type\": \"scatter\", \"uid\": \"404900cb-dbfd-11e8-8ddb-a41f72875c19\"}, {\"line\": {\"dash\": \"dashdot\"}, \"name\": \"\\u5982\\u671f\\u5b8c\\u6210\\u9879\\u76ee\\u6570(\\u59da\\u76df\\u6210)\", \"x\": [\"10-4\", \"8-3\", \"8-4\", \"9-1\", \"9-2\", \"9-3\", \"9-4\"], \"y\": [0.0, 3.0, 3.0, 3.0, 3.0, 3.0, 3.0], \"type\": \"scatter\", \"uid\": \"404900cc-dbfd-11e8-8ddb-a41f72875c19\"}, {\"line\": {\"dash\": \"longdashdot\"}, \"name\": \"\\u5982\\u671f\\u5b8c\\u6210\\u9879\\u76ee\\u6570(\\u674e\\u534e\\u4e91)\", \"x\": [\"10-4\", \"8-3\", \"8-4\", \"9-1\", \"9-2\", \"9-3\", \"9-4\"], \"y\": [0.0, 5.0, 5.0, 5.0, 5.0, 22.0, null], \"type\": \"scatter\", \"uid\": \"404900cd-dbfd-11e8-8ddb-a41f72875c19\"}, {\"line\": {\"dash\": \"solid\"}, \"name\": \"\\u5982\\u671f\\u5b8c\\u6210\\u9879\\u76ee\\u6570(\\u9648\\u9e4f\\u71d5)\", \"x\": [\"10-4\", \"8-3\", \"8-4\", \"9-1\", \"9-2\", \"9-3\", \"9-4\"], \"y\": [0.0, null, null, null, null, null, null], \"type\": \"scatter\", \"uid\": \"404900ce-dbfd-11e8-8ddb-a41f72875c19\"}, {\"line\": {\"dash\": \"dot\"}, \"name\": \"\\u5982\\u671f\\u5b8c\\u6210\\u9879\\u76ee\\u6570(\\u5218\\u6167\\u73b2)\", \"x\": [\"10-4\", \"8-3\", \"8-4\", \"9-1\", \"9-2\", \"9-3\", \"9-4\"], \"y\": [null, 3.0, 3.0, 3.0, null, null, null], \"type\": \"scatter\", \"uid\": \"404900cf-dbfd-11e8-8ddb-a41f72875c19\"}, {\"line\": {\"dash\": \"dash\"}, \"name\": \"\\u5982\\u671f\\u5b8c\\u6210\\u9879\\u76ee\\u6570(\\u6c88\\u6069\\u60e0)\", \"x\": [\"10-4\", \"8-3\", \"8-4\", \"9-1\", \"9-2\", \"9-3\", \"9-4\"], \"y\": [0.0, null, null, null, null, null, null], \"type\": \"scatter\", \"uid\": \"404900d0-dbfd-11e8-8ddb-a41f72875c19\"}, {\"line\": {\"dash\": \"longdash\"}, \"name\": \"\\u5982\\u671f\\u5b8c\\u6210\\u9879\\u76ee\\u6570(\\u6797\\u6587\\u6587)\", \"x\": [\"10-4\", \"8-3\", \"8-4\", \"9-1\", \"9-2\", \"9-3\", \"9-4\"], \"y\": [0.0, null, null, null, null, null, null], \"type\": \"scatter\", \"uid\": \"404900d1-dbfd-11e8-8ddb-a41f72875c19\"}, {\"line\": {\"dash\": \"dashdot\"}, \"name\": \"\\u5982\\u671f\\u5b8c\\u6210\\u9879\\u76ee\\u6570(\\u8c22\\u5fb7\\u5065)\", \"x\": [\"10-4\", \"8-3\", \"8-4\", \"9-1\", \"9-2\", \"9-3\", \"9-4\"], \"y\": [0.0, 2.0, 2.0, null, 6.0, 6.0, 6.0], \"type\": \"scatter\", \"uid\": \"404900d2-dbfd-11e8-8ddb-a41f72875c19\"}, {\"line\": {\"dash\": \"longdashdot\"}, \"name\": \"\\u5982\\u671f\\u5b8c\\u6210\\u9879\\u76ee\\u6570(\\u5218\\u6c5f)\", \"x\": [\"10-4\", \"8-3\", \"8-4\", \"9-1\", \"9-2\", \"9-3\", \"9-4\"], \"y\": [0.0, 0.0, 0.0, 0.0, 0.0, 0.0, 0.0], \"type\": \"scatter\", \"uid\": \"404900d3-dbfd-11e8-8ddb-a41f72875c19\"}, {\"line\": {\"dash\": \"solid\"}, \"name\": \"\\u5982\\u671f\\u5b8c\\u6210\\u9879\\u76ee\\u6570(\\u738b\\u7ea2)\", \"x\": [\"10-4\", \"8-3\", \"8-4\", \"9-1\", \"9-2\", \"9-3\", \"9-4\"], \"y\": [0.0, null, null, null, null, null, null], \"type\": \"scatter\", \"uid\": \"404900d4-dbfd-11e8-8ddb-a41f72875c19\"}, {\"line\": {\"dash\": \"dot\"}, \"name\": \"\\u5982\\u671f\\u5b8c\\u6210\\u9879\\u76ee\\u6570(\\u674e\\u5e86\\u539f)\", \"x\": [\"10-4\", \"8-3\", \"8-4\", \"9-1\", \"9-2\", \"9-3\", \"9-4\"], \"y\": [0.0, 0.0, 0.0, 0.0, 0.0, 0.0, null], \"type\": \"scatter\", \"uid\": \"404900d5-dbfd-11e8-8ddb-a41f72875c19\"}, {\"line\": {\"dash\": \"dash\"}, \"name\": \"\\u5982\\u671f\\u5b8c\\u6210\\u9879\\u76ee\\u6570(\\u9a6c\\u6f47)\", \"x\": [\"10-4\", \"8-3\", \"8-4\", \"9-1\", \"9-2\", \"9-3\", \"9-4\"], \"y\": [0.0, 0.0, 0.0, 0.0, 0.0, 0.0, 0.0], \"type\": \"scatter\", \"uid\": \"404900d6-dbfd-11e8-8ddb-a41f72875c19\"}, {\"line\": {\"dash\": \"longdash\"}, \"name\": \"\\u5982\\u671f\\u5b8c\\u6210\\u9879\\u76ee\\u6570(\\u5360\\u4f1f)\", \"x\": [\"10-4\", \"8-3\", \"8-4\", \"9-1\", \"9-2\", \"9-3\", \"9-4\"], \"y\": [0.0, 12.0, 10.0, 10.0, 10.0, 13.0, 13.0], \"type\": \"scatter\", \"uid\": \"404900d7-dbfd-11e8-8ddb-a41f72875c19\"}, {\"line\": {\"dash\": \"dashdot\"}, \"name\": \"\\u5982\\u671f\\u5b8c\\u6210\\u9879\\u76ee\\u6570(\\u5b8b\\u8fce\\u6960)\", \"x\": [\"10-4\", \"8-3\", \"8-4\", \"9-1\", \"9-2\", \"9-3\", \"9-4\"], \"y\": [null, 0.0, 0.0, 0.0, null, null, null], \"type\": \"scatter\", \"uid\": \"404900d8-dbfd-11e8-8ddb-a41f72875c19\"}, {\"line\": {\"dash\": \"longdashdot\"}, \"name\": \"\\u5982\\u671f\\u5b8c\\u6210\\u9879\\u76ee\\u6570(\\u8303\\u65ed\\u5b81)\", \"x\": [\"10-4\", \"8-3\", \"8-4\", \"9-1\", \"9-2\", \"9-3\", \"9-4\"], \"y\": [0.0, 16.0, 23.0, 27.0, 7.0, 5.0, 20.0], \"type\": \"scatter\", \"uid\": \"404900d9-dbfd-11e8-8ddb-a41f72875c19\"}, {\"line\": {\"dash\": \"solid\"}, \"name\": \"\\u5982\\u671f\\u5b8c\\u6210\\u9879\\u76ee\\u6570(\\u5c48\\u6602)\", \"x\": [\"10-4\", \"8-3\", \"8-4\", \"9-1\", \"9-2\", \"9-3\", \"9-4\"], \"y\": [0.0, null, null, null, null, null, null], \"type\": \"scatter\", \"uid\": \"404900da-dbfd-11e8-8ddb-a41f72875c19\"}, {\"line\": {\"dash\": \"dot\"}, \"name\": \"\\u5982\\u671f\\u5b8c\\u6210\\u9879\\u76ee\\u6570(\\u5f20\\u5b88\\u4f1f)\", \"x\": [\"10-4\", \"8-3\", \"8-4\", \"9-1\", \"9-2\", \"9-3\", \"9-4\"], \"y\": [0.0, 13.0, 16.0, 18.0, 20.0, 20.0, 21.0], \"type\": \"scatter\", \"uid\": \"404900db-dbfd-11e8-8ddb-a41f72875c19\"}, {\"line\": {\"dash\": \"dash\"}, \"name\": \"\\u5982\\u671f\\u5b8c\\u6210\\u9879\\u76ee\\u6570(\\u5c01\\u5f66\\u6770)\", \"x\": [\"10-4\", \"8-3\", \"8-4\", \"9-1\", \"9-2\", \"9-3\", \"9-4\"], \"y\": [0.0, 0.0, 0.0, 2.0, 2.0, 2.0, 3.0], \"type\": \"scatter\", \"uid\": \"404900dc-dbfd-11e8-8ddb-a41f72875c19\"}, {\"line\": {\"dash\": \"longdash\"}, \"name\": \"\\u5982\\u671f\\u5b8c\\u6210\\u9879\\u76ee\\u6570(\\u5f20\\u60a6)\", \"x\": [\"10-4\", \"8-3\", \"8-4\", \"9-1\", \"9-2\", \"9-3\", \"9-4\"], \"y\": [0.0, null, null, null, null, null, null], \"type\": \"scatter\", \"uid\": \"404900dd-dbfd-11e8-8ddb-a41f72875c19\"}, {\"line\": {\"dash\": \"dashdot\"}, \"name\": \"\\u5982\\u671f\\u5b8c\\u6210\\u9879\\u76ee\\u6570(\\u4e8e\\u6167)\", \"x\": [\"10-4\", \"8-3\", \"8-4\", \"9-1\", \"9-2\", \"9-3\", \"9-4\"], \"y\": [0.0, 32.0, 33.0, 34.0, 35.0, 35.0, 35.0], \"type\": \"scatter\", \"uid\": \"404900de-dbfd-11e8-8ddb-a41f72875c19\"}, {\"line\": {\"dash\": \"solid\"}, \"name\": \"\\u5ef6\\u671f\\u9879\\u76ee\\u6570(\\u97e9\\u5c11\\u6000)\", \"x\": [\"10-4\", \"8-3\", \"8-4\", \"9-1\", \"9-2\", \"9-3\", \"9-4\"], \"y\": [0.0, 0.0, 0.0, 0.0, 0.0, 0.0, null], \"type\": \"scatter\", \"uid\": \"404900df-dbfd-11e8-8ddb-a41f72875c19\"}, {\"line\": {\"dash\": \"dot\"}, \"name\": \"\\u5ef6\\u671f\\u9879\\u76ee\\u6570(\\u82cf\\u5f66\\u52cb)\", \"x\": [\"10-4\", \"8-3\", \"8-4\", \"9-1\", \"9-2\", \"9-3\", \"9-4\"], \"y\": [0.0, 0.0, 0.0, 0.0, 0.0, 0.0, null], \"type\": \"scatter\", \"uid\": \"404900e0-dbfd-11e8-8ddb-a41f72875c19\"}, {\"line\": {\"dash\": \"dash\"}, \"name\": \"\\u5ef6\\u671f\\u9879\\u76ee\\u6570(\\u5b5f\\u660a)\", \"x\": [\"10-4\", \"8-3\", \"8-4\", \"9-1\", \"9-2\", \"9-3\", \"9-4\"], \"y\": [0.0, 0.0, 0.0, 0.0, 0.0, 0.0, 0.0], \"type\": \"scatter\", \"uid\": \"404900e1-dbfd-11e8-8ddb-a41f72875c19\"}, {\"line\": {\"dash\": \"longdash\"}, \"name\": \"\\u5ef6\\u671f\\u9879\\u76ee\\u6570(\\u4efb\\u96ea)\", \"x\": [\"10-4\", \"8-3\", \"8-4\", \"9-1\", \"9-2\", \"9-3\", \"9-4\"], \"y\": [2.0, null, 3.0, 7.0, 7.0, 4.0, 8.0], \"type\": \"scatter\", \"uid\": \"404900e2-dbfd-11e8-8ddb-a41f72875c19\"}, {\"line\": {\"dash\": \"dashdot\"}, \"name\": \"\\u5ef6\\u671f\\u9879\\u76ee\\u6570(\\u6d82\\u6210\\u82b3)\", \"x\": [\"10-4\", \"8-3\", \"8-4\", \"9-1\", \"9-2\", \"9-3\", \"9-4\"], \"y\": [0.0, null, null, null, null, null, null], \"type\": \"scatter\", \"uid\": \"404900e3-dbfd-11e8-8ddb-a41f72875c19\"}, {\"line\": {\"dash\": \"longdashdot\"}, \"name\": \"\\u5ef6\\u671f\\u9879\\u76ee\\u6570(\\u4e8e\\u52c7\\u4e00)\", \"x\": [\"10-4\", \"8-3\", \"8-4\", \"9-1\", \"9-2\", \"9-3\", \"9-4\"], \"y\": [0.0, 0.0, 0.0, 0.0, 0.0, 0.0, 0.0], \"type\": \"scatter\", \"uid\": \"404900e4-dbfd-11e8-8ddb-a41f72875c19\"}, {\"line\": {\"dash\": \"solid\"}, \"name\": \"\\u5ef6\\u671f\\u9879\\u76ee\\u6570(\\u8def\\u6167\\u840d)\", \"x\": [\"10-4\", \"8-3\", \"8-4\", \"9-1\", \"9-2\", \"9-3\", \"9-4\"], \"y\": [0.0, 0.0, 0.0, 0.0, 0.0, 0.0, null], \"type\": \"scatter\", \"uid\": \"404900e5-dbfd-11e8-8ddb-a41f72875c19\"}, {\"line\": {\"dash\": \"dot\"}, \"name\": \"\\u5ef6\\u671f\\u9879\\u76ee\\u6570(\\u6768\\u4f1f\\u98de)\", \"x\": [\"10-4\", \"8-3\", \"8-4\", \"9-1\", \"9-2\", \"9-3\", \"9-4\"], \"y\": [1.0, 0.0, 0.0, 0.0, 0.0, 0.0, 0.0], \"type\": \"scatter\", \"uid\": \"404900e6-dbfd-11e8-8ddb-a41f72875c19\"}, {\"line\": {\"dash\": \"dash\"}, \"name\": \"\\u5ef6\\u671f\\u9879\\u76ee\\u6570(\\u6636\\u5409\\u9633)\", \"x\": [\"10-4\", \"8-3\", \"8-4\", \"9-1\", \"9-2\", \"9-3\", \"9-4\"], \"y\": [0.0, null, null, null, null, null, null], \"type\": \"scatter\", \"uid\": \"404900e7-dbfd-11e8-8ddb-a41f72875c19\"}, {\"line\": {\"dash\": \"longdash\"}, \"name\": \"\\u5ef6\\u671f\\u9879\\u76ee\\u6570(\\u738b\\u5b81)\", \"x\": [\"10-4\", \"8-3\", \"8-4\", \"9-1\", \"9-2\", \"9-3\", \"9-4\"], \"y\": [null, 0.0, 0.0, 0.0, null, null, null], \"type\": \"scatter\", \"uid\": \"404900e8-dbfd-11e8-8ddb-a41f72875c19\"}, {\"line\": {\"dash\": \"dashdot\"}, \"name\": \"\\u5ef6\\u671f\\u9879\\u76ee\\u6570(\\u8f66\\u5929\\u680b)\", \"x\": [\"10-4\", \"8-3\", \"8-4\", \"9-1\", \"9-2\", \"9-3\", \"9-4\"], \"y\": [0.0, null, null, null, null, null, null], \"type\": \"scatter\", \"uid\": \"404900e9-dbfd-11e8-8ddb-a41f72875c19\"}, {\"line\": {\"dash\": \"longdashdot\"}, \"name\": \"\\u5ef6\\u671f\\u9879\\u76ee\\u6570(\\u5468\\u6768)\", \"x\": [\"10-4\", \"8-3\", \"8-4\", \"9-1\", \"9-2\", \"9-3\", \"9-4\"], \"y\": [0.0, 0.0, 0.0, 0.0, 0.0, 0.0, 0.0], \"type\": \"scatter\", \"uid\": \"404900ea-dbfd-11e8-8ddb-a41f72875c19\"}, {\"line\": {\"dash\": \"solid\"}, \"name\": \"\\u5ef6\\u671f\\u9879\\u76ee\\u6570(\\u6bb5\\u5229\\u5f3a)\", \"x\": [\"10-4\", \"8-3\", \"8-4\", \"9-1\", \"9-2\", \"9-3\", \"9-4\"], \"y\": [null, null, null, null, null, null, 0.0], \"type\": \"scatter\", \"uid\": \"404900eb-dbfd-11e8-8ddb-a41f72875c19\"}, {\"line\": {\"dash\": \"dot\"}, \"name\": \"\\u5ef6\\u671f\\u9879\\u76ee\\u6570(\\u8d75\\u73a5)\", \"x\": [\"10-4\", \"8-3\", \"8-4\", \"9-1\", \"9-2\", \"9-3\", \"9-4\"], \"y\": [0.0, 0.0, 0.0, 1.0, 1.0, 1.0, 0.0], \"type\": \"scatter\", \"uid\": \"404900ec-dbfd-11e8-8ddb-a41f72875c19\"}, {\"line\": {\"dash\": \"dash\"}, \"name\": \"\\u5ef6\\u671f\\u9879\\u76ee\\u6570(\\u51b7\\u96ea)\", \"x\": [\"10-4\", \"8-3\", \"8-4\", \"9-1\", \"9-2\", \"9-3\", \"9-4\"], \"y\": [0.0, null, null, null, null, null, null], \"type\": \"scatter\", \"uid\": \"404900ed-dbfd-11e8-8ddb-a41f72875c19\"}, {\"line\": {\"dash\": \"longdash\"}, \"name\": \"\\u5ef6\\u671f\\u9879\\u76ee\\u6570(\\u51af\\u656c\\u5ca9)\", \"x\": [\"10-4\", \"8-3\", \"8-4\", \"9-1\", \"9-2\", \"9-3\", \"9-4\"], \"y\": [0.0, null, null, null, null, null, null], \"type\": \"scatter\", \"uid\": \"404900ee-dbfd-11e8-8ddb-a41f72875c19\"}, {\"line\": {\"dash\": \"dashdot\"}, \"name\": \"\\u5ef6\\u671f\\u9879\\u76ee\\u6570(\\u59da\\u76df\\u6210)\", \"x\": [\"10-4\", \"8-3\", \"8-4\", \"9-1\", \"9-2\", \"9-3\", \"9-4\"], \"y\": [0.0, 0.0, 0.0, 0.0, 0.0, 0.0, 0.0], \"type\": \"scatter\", \"uid\": \"404900ef-dbfd-11e8-8ddb-a41f72875c19\"}, {\"line\": {\"dash\": \"longdashdot\"}, \"name\": \"\\u5ef6\\u671f\\u9879\\u76ee\\u6570(\\u674e\\u534e\\u4e91)\", \"x\": [\"10-4\", \"8-3\", \"8-4\", \"9-1\", \"9-2\", \"9-3\", \"9-4\"], \"y\": [2.0, 6.0, 6.0, 9.0, 9.0, 6.0, null], \"type\": \"scatter\", \"uid\": \"404900f0-dbfd-11e8-8ddb-a41f72875c19\"}, {\"line\": {\"dash\": \"solid\"}, \"name\": \"\\u5ef6\\u671f\\u9879\\u76ee\\u6570(\\u9648\\u9e4f\\u71d5)\", \"x\": [\"10-4\", \"8-3\", \"8-4\", \"9-1\", \"9-2\", \"9-3\", \"9-4\"], \"y\": [1.0, null, null, null, null, null, null], \"type\": \"scatter\", \"uid\": \"404900f1-dbfd-11e8-8ddb-a41f72875c19\"}, {\"line\": {\"dash\": \"dot\"}, \"name\": \"\\u5ef6\\u671f\\u9879\\u76ee\\u6570(\\u5218\\u6167\\u73b2)\", \"x\": [\"10-4\", \"8-3\", \"8-4\", \"9-1\", \"9-2\", \"9-3\", \"9-4\"], \"y\": [null, 0.0, 0.0, 0.0, null, null, null], \"type\": \"scatter\", \"uid\": \"404900f2-dbfd-11e8-8ddb-a41f72875c19\"}, {\"line\": {\"dash\": \"dash\"}, \"name\": \"\\u5ef6\\u671f\\u9879\\u76ee\\u6570(\\u6c88\\u6069\\u60e0)\", \"x\": [\"10-4\", \"8-3\", \"8-4\", \"9-1\", \"9-2\", \"9-3\", \"9-4\"], \"y\": [0.0, null, null, null, null, null, null], \"type\": \"scatter\", \"uid\": \"404900f3-dbfd-11e8-8ddb-a41f72875c19\"}, {\"line\": {\"dash\": \"longdash\"}, \"name\": \"\\u5ef6\\u671f\\u9879\\u76ee\\u6570(\\u6797\\u6587\\u6587)\", \"x\": [\"10-4\", \"8-3\", \"8-4\", \"9-1\", \"9-2\", \"9-3\", \"9-4\"], \"y\": [0.0, null, null, null, null, null, null], \"type\": \"scatter\", \"uid\": \"404900f4-dbfd-11e8-8ddb-a41f72875c19\"}, {\"line\": {\"dash\": \"dashdot\"}, \"name\": \"\\u5ef6\\u671f\\u9879\\u76ee\\u6570(\\u8c22\\u5fb7\\u5065)\", \"x\": [\"10-4\", \"8-3\", \"8-4\", \"9-1\", \"9-2\", \"9-3\", \"9-4\"], \"y\": [0.0, 0.0, 0.0, null, 0.0, 0.0, 0.0], \"type\": \"scatter\", \"uid\": \"404900f5-dbfd-11e8-8ddb-a41f72875c19\"}, {\"line\": {\"dash\": \"longdashdot\"}, \"name\": \"\\u5ef6\\u671f\\u9879\\u76ee\\u6570(\\u5218\\u6c5f)\", \"x\": [\"10-4\", \"8-3\", \"8-4\", \"9-1\", \"9-2\", \"9-3\", \"9-4\"], \"y\": [2.0, 0.0, 0.0, 0.0, 0.0, 0.0, 0.0], \"type\": \"scatter\", \"uid\": \"404900f6-dbfd-11e8-8ddb-a41f72875c19\"}, {\"line\": {\"dash\": \"solid\"}, \"name\": \"\\u5ef6\\u671f\\u9879\\u76ee\\u6570(\\u738b\\u7ea2)\", \"x\": [\"10-4\", \"8-3\", \"8-4\", \"9-1\", \"9-2\", \"9-3\", \"9-4\"], \"y\": [0.0, null, null, null, null, null, null], \"type\": \"scatter\", \"uid\": \"404900f7-dbfd-11e8-8ddb-a41f72875c19\"}, {\"line\": {\"dash\": \"dot\"}, \"name\": \"\\u5ef6\\u671f\\u9879\\u76ee\\u6570(\\u674e\\u5e86\\u539f)\", \"x\": [\"10-4\", \"8-3\", \"8-4\", \"9-1\", \"9-2\", \"9-3\", \"9-4\"], \"y\": [0.0, 0.0, 0.0, 0.0, 0.0, 0.0, null], \"type\": \"scatter\", \"uid\": \"404900f8-dbfd-11e8-8ddb-a41f72875c19\"}, {\"line\": {\"dash\": \"dash\"}, \"name\": \"\\u5ef6\\u671f\\u9879\\u76ee\\u6570(\\u9a6c\\u6f47)\", \"x\": [\"10-4\", \"8-3\", \"8-4\", \"9-1\", \"9-2\", \"9-3\", \"9-4\"], \"y\": [0.0, 1.0, 0.0, 0.0, 0.0, 0.0, 0.0], \"type\": \"scatter\", \"uid\": \"404900f9-dbfd-11e8-8ddb-a41f72875c19\"}, {\"line\": {\"dash\": \"longdash\"}, \"name\": \"\\u5ef6\\u671f\\u9879\\u76ee\\u6570(\\u5360\\u4f1f)\", \"x\": [\"10-4\", \"8-3\", \"8-4\", \"9-1\", \"9-2\", \"9-3\", \"9-4\"], \"y\": [3.0, 3.0, 3.0, 3.0, 3.0, 3.0, 3.0], \"type\": \"scatter\", \"uid\": \"404900fa-dbfd-11e8-8ddb-a41f72875c19\"}, {\"line\": {\"dash\": \"dashdot\"}, \"name\": \"\\u5ef6\\u671f\\u9879\\u76ee\\u6570(\\u5b8b\\u8fce\\u6960)\", \"x\": [\"10-4\", \"8-3\", \"8-4\", \"9-1\", \"9-2\", \"9-3\", \"9-4\"], \"y\": [null, 1.0, 1.0, 6.0, null, null, null], \"type\": \"scatter\", \"uid\": \"404900fb-dbfd-11e8-8ddb-a41f72875c19\"}, {\"line\": {\"dash\": \"longdashdot\"}, \"name\": \"\\u5ef6\\u671f\\u9879\\u76ee\\u6570(\\u8303\\u65ed\\u5b81)\", \"x\": [\"10-4\", \"8-3\", \"8-4\", \"9-1\", \"9-2\", \"9-3\", \"9-4\"], \"y\": [0.0, 0.0, 0.0, 0.0, 0.0, 0.0, 4.0], \"type\": \"scatter\", \"uid\": \"404900fc-dbfd-11e8-8ddb-a41f72875c19\"}, {\"line\": {\"dash\": \"solid\"}, \"name\": \"\\u5ef6\\u671f\\u9879\\u76ee\\u6570(\\u5c48\\u6602)\", \"x\": [\"10-4\", \"8-3\", \"8-4\", \"9-1\", \"9-2\", \"9-3\", \"9-4\"], \"y\": [0.0, null, null, null, null, null, null], \"type\": \"scatter\", \"uid\": \"404900fd-dbfd-11e8-8ddb-a41f72875c19\"}, {\"line\": {\"dash\": \"dot\"}, \"name\": \"\\u5ef6\\u671f\\u9879\\u76ee\\u6570(\\u5f20\\u5b88\\u4f1f)\", \"x\": [\"10-4\", \"8-3\", \"8-4\", \"9-1\", \"9-2\", \"9-3\", \"9-4\"], \"y\": [0.0, 0.0, 0.0, 0.0, 0.0, 0.0, 0.0], \"type\": \"scatter\", \"uid\": \"404900fe-dbfd-11e8-8ddb-a41f72875c19\"}, {\"line\": {\"dash\": \"dash\"}, \"name\": \"\\u5ef6\\u671f\\u9879\\u76ee\\u6570(\\u5c01\\u5f66\\u6770)\", \"x\": [\"10-4\", \"8-3\", \"8-4\", \"9-1\", \"9-2\", \"9-3\", \"9-4\"], \"y\": [1.0, 0.0, 0.0, 0.0, 0.0, 0.0, 1.0], \"type\": \"scatter\", \"uid\": \"404900ff-dbfd-11e8-8ddb-a41f72875c19\"}, {\"line\": {\"dash\": \"longdash\"}, \"name\": \"\\u5ef6\\u671f\\u9879\\u76ee\\u6570(\\u5f20\\u60a6)\", \"x\": [\"10-4\", \"8-3\", \"8-4\", \"9-1\", \"9-2\", \"9-3\", \"9-4\"], \"y\": [1.0, null, null, null, null, null, null], \"type\": \"scatter\", \"uid\": \"40490100-dbfd-11e8-8ddb-a41f72875c19\"}, {\"line\": {\"dash\": \"dashdot\"}, \"name\": \"\\u5ef6\\u671f\\u9879\\u76ee\\u6570(\\u4e8e\\u6167)\", \"x\": [\"10-4\", \"8-3\", \"8-4\", \"9-1\", \"9-2\", \"9-3\", \"9-4\"], \"y\": [0.0, 0.0, 0.0, 0.0, 0.0, 0.0, 0.0], \"type\": \"scatter\", \"uid\": \"40490101-dbfd-11e8-8ddb-a41f72875c19\"}], {\"title\": \"\\u5f00\\u53d1\\u4e2d\\u7684\\u9879\\u76ee\\u6570&\\u5ef6\\u671f\\u5b8c\\u6210&\\u5b63\\u5ea6\\u5f00\\u53d1\\u9879\\u76ee\\u6570&\\u6682\\u505c\\u9879\\u76ee\\u6570&\\u5982\\u671f\\u5b8c\\u6210\\u9879\\u76ee\\u6570&\\u5ef6\\u671f\\u9879\\u76ee\\u6570\\u5468\\u8d8b\\u52bf\\u56fe\", \"xaxis\": {\"mirror\": \"all\", \"nticks\": 20, \"showgrid\": true, \"showline\": true, \"title\": \"\\u5468\", \"type\": \"category\", \"zeroline\": true}, \"yaxis\": {\"mirror\": \"all\", \"nticks\": 20, \"showgrid\": true, \"showline\": true, \"title\": \"\\u5f00\\u53d1\\u4e2d\\u7684\\u9879\\u76ee\\u6570&\\u5ef6\\u671f\\u5b8c\\u6210&\\u5b63\\u5ea6\\u5f00\\u53d1\\u9879\\u76ee\\u6570&\\u6682\\u505c\\u9879\\u76ee\\u6570&\\u5982\\u671f\\u5b8c\\u6210\\u9879\\u76ee\\u6570&\\u5ef6\\u671f\\u9879\\u76ee\\u6570\", \"zeroline\": true}}, {\"showLink\": true, \"linkText\": \"Export to plot.ly\"})});</script>"
      ],
      "text/vnd.plotly.v1+html": [
       "<div id=\"baa56873-5541-4be9-a6d2-2e771c42d757\" style=\"height: 525px; width: 100%;\" class=\"plotly-graph-div\"></div><script type=\"text/javascript\">require([\"plotly\"], function(Plotly) { window.PLOTLYENV=window.PLOTLYENV || {};window.PLOTLYENV.BASE_URL=\"https://plot.ly\";Plotly.newPlot(\"baa56873-5541-4be9-a6d2-2e771c42d757\", [{\"line\": {\"dash\": \"solid\"}, \"name\": \"\\u5f00\\u53d1\\u4e2d\\u7684\\u9879\\u76ee\\u6570(\\u97e9\\u5c11\\u6000)\", \"x\": [\"10-4\", \"8-3\", \"8-4\", \"9-1\", \"9-2\", \"9-3\", \"9-4\"], \"y\": [0.0, 1.0, 2.0, 1.0, 1.0, 2.0, null], \"type\": \"scatter\", \"uid\": \"40490030-dbfd-11e8-8ddb-a41f72875c19\"}, {\"line\": {\"dash\": \"dot\"}, \"name\": \"\\u5f00\\u53d1\\u4e2d\\u7684\\u9879\\u76ee\\u6570(\\u82cf\\u5f66\\u52cb)\", \"x\": [\"10-4\", \"8-3\", \"8-4\", \"9-1\", \"9-2\", \"9-3\", \"9-4\"], \"y\": [0.0, 5.0, 4.0, 3.0, 0.0, 0.0, null], \"type\": \"scatter\", \"uid\": \"40490031-dbfd-11e8-8ddb-a41f72875c19\"}, {\"line\": {\"dash\": \"dash\"}, \"name\": \"\\u5f00\\u53d1\\u4e2d\\u7684\\u9879\\u76ee\\u6570(\\u5b5f\\u660a)\", \"x\": [\"10-4\", \"8-3\", \"8-4\", \"9-1\", \"9-2\", \"9-3\", \"9-4\"], \"y\": [0.0, 2.0, 2.0, 2.0, 2.0, 0.0, 0.0], \"type\": \"scatter\", \"uid\": \"40490032-dbfd-11e8-8ddb-a41f72875c19\"}, {\"line\": {\"dash\": \"longdash\"}, \"name\": \"\\u5f00\\u53d1\\u4e2d\\u7684\\u9879\\u76ee\\u6570(\\u4efb\\u96ea)\", \"x\": [\"10-4\", \"8-3\", \"8-4\", \"9-1\", \"9-2\", \"9-3\", \"9-4\"], \"y\": [0.0, null, 15.0, 8.0, 8.0, 6.0, 0.0], \"type\": \"scatter\", \"uid\": \"40490033-dbfd-11e8-8ddb-a41f72875c19\"}, {\"line\": {\"dash\": \"dashdot\"}, \"name\": \"\\u5f00\\u53d1\\u4e2d\\u7684\\u9879\\u76ee\\u6570(\\u6d82\\u6210\\u82b3)\", \"x\": [\"10-4\", \"8-3\", \"8-4\", \"9-1\", \"9-2\", \"9-3\", \"9-4\"], \"y\": [0.0, null, null, null, null, null, null], \"type\": \"scatter\", \"uid\": \"40490034-dbfd-11e8-8ddb-a41f72875c19\"}, {\"line\": {\"dash\": \"longdashdot\"}, \"name\": \"\\u5f00\\u53d1\\u4e2d\\u7684\\u9879\\u76ee\\u6570(\\u4e8e\\u52c7\\u4e00)\", \"x\": [\"10-4\", \"8-3\", \"8-4\", \"9-1\", \"9-2\", \"9-3\", \"9-4\"], \"y\": [0.0, 0.0, 0.0, 0.0, 0.0, 0.0, 0.0], \"type\": \"scatter\", \"uid\": \"40490035-dbfd-11e8-8ddb-a41f72875c19\"}, {\"line\": {\"dash\": \"solid\"}, \"name\": \"\\u5f00\\u53d1\\u4e2d\\u7684\\u9879\\u76ee\\u6570(\\u8def\\u6167\\u840d)\", \"x\": [\"10-4\", \"8-3\", \"8-4\", \"9-1\", \"9-2\", \"9-3\", \"9-4\"], \"y\": [0.0, 0.0, 0.0, 0.0, 0.0, 0.0, null], \"type\": \"scatter\", \"uid\": \"40490036-dbfd-11e8-8ddb-a41f72875c19\"}, {\"line\": {\"dash\": \"dot\"}, \"name\": \"\\u5f00\\u53d1\\u4e2d\\u7684\\u9879\\u76ee\\u6570(\\u6768\\u4f1f\\u98de)\", \"x\": [\"10-4\", \"8-3\", \"8-4\", \"9-1\", \"9-2\", \"9-3\", \"9-4\"], \"y\": [0.0, 5.0, 4.0, 2.0, 2.0, 2.0, 2.0], \"type\": \"scatter\", \"uid\": \"40490037-dbfd-11e8-8ddb-a41f72875c19\"}, {\"line\": {\"dash\": \"dash\"}, \"name\": \"\\u5f00\\u53d1\\u4e2d\\u7684\\u9879\\u76ee\\u6570(\\u6636\\u5409\\u9633)\", \"x\": [\"10-4\", \"8-3\", \"8-4\", \"9-1\", \"9-2\", \"9-3\", \"9-4\"], \"y\": [0.0, null, null, null, null, null, null], \"type\": \"scatter\", \"uid\": \"40490038-dbfd-11e8-8ddb-a41f72875c19\"}, {\"line\": {\"dash\": \"longdash\"}, \"name\": \"\\u5f00\\u53d1\\u4e2d\\u7684\\u9879\\u76ee\\u6570(\\u738b\\u5b81)\", \"x\": [\"10-4\", \"8-3\", \"8-4\", \"9-1\", \"9-2\", \"9-3\", \"9-4\"], \"y\": [null, 0.0, 0.0, 0.0, null, null, null], \"type\": \"scatter\", \"uid\": \"40490039-dbfd-11e8-8ddb-a41f72875c19\"}, {\"line\": {\"dash\": \"dashdot\"}, \"name\": \"\\u5f00\\u53d1\\u4e2d\\u7684\\u9879\\u76ee\\u6570(\\u8f66\\u5929\\u680b)\", \"x\": [\"10-4\", \"8-3\", \"8-4\", \"9-1\", \"9-2\", \"9-3\", \"9-4\"], \"y\": [0.0, null, null, null, null, null, null], \"type\": \"scatter\", \"uid\": \"4049003a-dbfd-11e8-8ddb-a41f72875c19\"}, {\"line\": {\"dash\": \"longdashdot\"}, \"name\": \"\\u5f00\\u53d1\\u4e2d\\u7684\\u9879\\u76ee\\u6570(\\u5468\\u6768)\", \"x\": [\"10-4\", \"8-3\", \"8-4\", \"9-1\", \"9-2\", \"9-3\", \"9-4\"], \"y\": [0.0, 3.0, 3.0, 3.0, 2.0, 0.0, 0.0], \"type\": \"scatter\", \"uid\": \"4049003b-dbfd-11e8-8ddb-a41f72875c19\"}, {\"line\": {\"dash\": \"solid\"}, \"name\": \"\\u5f00\\u53d1\\u4e2d\\u7684\\u9879\\u76ee\\u6570(\\u6bb5\\u5229\\u5f3a)\", \"x\": [\"10-4\", \"8-3\", \"8-4\", \"9-1\", \"9-2\", \"9-3\", \"9-4\"], \"y\": [null, null, null, null, null, null, 0.0], \"type\": \"scatter\", \"uid\": \"4049003c-dbfd-11e8-8ddb-a41f72875c19\"}, {\"line\": {\"dash\": \"dot\"}, \"name\": \"\\u5f00\\u53d1\\u4e2d\\u7684\\u9879\\u76ee\\u6570(\\u8d75\\u73a5)\", \"x\": [\"10-4\", \"8-3\", \"8-4\", \"9-1\", \"9-2\", \"9-3\", \"9-4\"], \"y\": [0.0, 0.0, 2.0, 3.0, 1.0, 0.0, 0.0], \"type\": \"scatter\", \"uid\": \"4049003d-dbfd-11e8-8ddb-a41f72875c19\"}, {\"line\": {\"dash\": \"dash\"}, \"name\": \"\\u5f00\\u53d1\\u4e2d\\u7684\\u9879\\u76ee\\u6570(\\u51b7\\u96ea)\", \"x\": [\"10-4\", \"8-3\", \"8-4\", \"9-1\", \"9-2\", \"9-3\", \"9-4\"], \"y\": [0.0, null, null, null, null, null, null], \"type\": \"scatter\", \"uid\": \"4049003e-dbfd-11e8-8ddb-a41f72875c19\"}, {\"line\": {\"dash\": \"longdash\"}, \"name\": \"\\u5f00\\u53d1\\u4e2d\\u7684\\u9879\\u76ee\\u6570(\\u51af\\u656c\\u5ca9)\", \"x\": [\"10-4\", \"8-3\", \"8-4\", \"9-1\", \"9-2\", \"9-3\", \"9-4\"], \"y\": [0.0, null, null, null, null, null, null], \"type\": \"scatter\", \"uid\": \"4049003f-dbfd-11e8-8ddb-a41f72875c19\"}, {\"line\": {\"dash\": \"dashdot\"}, \"name\": \"\\u5f00\\u53d1\\u4e2d\\u7684\\u9879\\u76ee\\u6570(\\u59da\\u76df\\u6210)\", \"x\": [\"10-4\", \"8-3\", \"8-4\", \"9-1\", \"9-2\", \"9-3\", \"9-4\"], \"y\": [0.0, 1.0, 2.0, 3.0, 2.0, 7.0, 4.0], \"type\": \"scatter\", \"uid\": \"40490040-dbfd-11e8-8ddb-a41f72875c19\"}, {\"line\": {\"dash\": \"longdashdot\"}, \"name\": \"\\u5f00\\u53d1\\u4e2d\\u7684\\u9879\\u76ee\\u6570(\\u674e\\u534e\\u4e91)\", \"x\": [\"10-4\", \"8-3\", \"8-4\", \"9-1\", \"9-2\", \"9-3\", \"9-4\"], \"y\": [0.0, 24.0, 24.0, 20.0, 18.0, 3.0, null], \"type\": \"scatter\", \"uid\": \"40490041-dbfd-11e8-8ddb-a41f72875c19\"}, {\"line\": {\"dash\": \"solid\"}, \"name\": \"\\u5f00\\u53d1\\u4e2d\\u7684\\u9879\\u76ee\\u6570(\\u9648\\u9e4f\\u71d5)\", \"x\": [\"10-4\", \"8-3\", \"8-4\", \"9-1\", \"9-2\", \"9-3\", \"9-4\"], \"y\": [0.0, null, null, null, null, null, null], \"type\": \"scatter\", \"uid\": \"40490042-dbfd-11e8-8ddb-a41f72875c19\"}, {\"line\": {\"dash\": \"dot\"}, \"name\": \"\\u5f00\\u53d1\\u4e2d\\u7684\\u9879\\u76ee\\u6570(\\u5218\\u6167\\u73b2)\", \"x\": [\"10-4\", \"8-3\", \"8-4\", \"9-1\", \"9-2\", \"9-3\", \"9-4\"], \"y\": [null, 2.0, 2.0, 1.0, null, null, null], \"type\": \"scatter\", \"uid\": \"40490043-dbfd-11e8-8ddb-a41f72875c19\"}, {\"line\": {\"dash\": \"dash\"}, \"name\": \"\\u5f00\\u53d1\\u4e2d\\u7684\\u9879\\u76ee\\u6570(\\u6c88\\u6069\\u60e0)\", \"x\": [\"10-4\", \"8-3\", \"8-4\", \"9-1\", \"9-2\", \"9-3\", \"9-4\"], \"y\": [0.0, null, null, null, null, null, null], \"type\": \"scatter\", \"uid\": \"40490044-dbfd-11e8-8ddb-a41f72875c19\"}, {\"line\": {\"dash\": \"longdash\"}, \"name\": \"\\u5f00\\u53d1\\u4e2d\\u7684\\u9879\\u76ee\\u6570(\\u6797\\u6587\\u6587)\", \"x\": [\"10-4\", \"8-3\", \"8-4\", \"9-1\", \"9-2\", \"9-3\", \"9-4\"], \"y\": [0.0, null, null, null, null, null, null], \"type\": \"scatter\", \"uid\": \"40490045-dbfd-11e8-8ddb-a41f72875c19\"}, {\"line\": {\"dash\": \"dashdot\"}, \"name\": \"\\u5f00\\u53d1\\u4e2d\\u7684\\u9879\\u76ee\\u6570(\\u8c22\\u5fb7\\u5065)\", \"x\": [\"10-4\", \"8-3\", \"8-4\", \"9-1\", \"9-2\", \"9-3\", \"9-4\"], \"y\": [0.0, 0.0, 0.0, null, 0.0, 0.0, 0.0], \"type\": \"scatter\", \"uid\": \"40490046-dbfd-11e8-8ddb-a41f72875c19\"}, {\"line\": {\"dash\": \"longdashdot\"}, \"name\": \"\\u5f00\\u53d1\\u4e2d\\u7684\\u9879\\u76ee\\u6570(\\u5218\\u6c5f)\", \"x\": [\"10-4\", \"8-3\", \"8-4\", \"9-1\", \"9-2\", \"9-3\", \"9-4\"], \"y\": [0.0, 3.0, 2.0, 1.0, 1.0, 1.0, 1.0], \"type\": \"scatter\", \"uid\": \"40490047-dbfd-11e8-8ddb-a41f72875c19\"}, {\"line\": {\"dash\": \"solid\"}, \"name\": \"\\u5f00\\u53d1\\u4e2d\\u7684\\u9879\\u76ee\\u6570(\\u738b\\u7ea2)\", \"x\": [\"10-4\", \"8-3\", \"8-4\", \"9-1\", \"9-2\", \"9-3\", \"9-4\"], \"y\": [0.0, null, null, null, null, null, null], \"type\": \"scatter\", \"uid\": \"40490048-dbfd-11e8-8ddb-a41f72875c19\"}, {\"line\": {\"dash\": \"dot\"}, \"name\": \"\\u5f00\\u53d1\\u4e2d\\u7684\\u9879\\u76ee\\u6570(\\u674e\\u5e86\\u539f)\", \"x\": [\"10-4\", \"8-3\", \"8-4\", \"9-1\", \"9-2\", \"9-3\", \"9-4\"], \"y\": [0.0, 0.0, 0.0, 0.0, 0.0, 0.0, null], \"type\": \"scatter\", \"uid\": \"40490049-dbfd-11e8-8ddb-a41f72875c19\"}, {\"line\": {\"dash\": \"dash\"}, \"name\": \"\\u5f00\\u53d1\\u4e2d\\u7684\\u9879\\u76ee\\u6570(\\u9a6c\\u6f47)\", \"x\": [\"10-4\", \"8-3\", \"8-4\", \"9-1\", \"9-2\", \"9-3\", \"9-4\"], \"y\": [0.0, 1.0, 0.0, 0.0, 0.0, 0.0, 0.0], \"type\": \"scatter\", \"uid\": \"4049004a-dbfd-11e8-8ddb-a41f72875c19\"}, {\"line\": {\"dash\": \"longdash\"}, \"name\": \"\\u5f00\\u53d1\\u4e2d\\u7684\\u9879\\u76ee\\u6570(\\u5360\\u4f1f)\", \"x\": [\"10-4\", \"8-3\", \"8-4\", \"9-1\", \"9-2\", \"9-3\", \"9-4\"], \"y\": [0.0, 2.0, 5.0, 5.0, 5.0, 0.0, 0.0], \"type\": \"scatter\", \"uid\": \"4049004b-dbfd-11e8-8ddb-a41f72875c19\"}, {\"line\": {\"dash\": \"dashdot\"}, \"name\": \"\\u5f00\\u53d1\\u4e2d\\u7684\\u9879\\u76ee\\u6570(\\u5b8b\\u8fce\\u6960)\", \"x\": [\"10-4\", \"8-3\", \"8-4\", \"9-1\", \"9-2\", \"9-3\", \"9-4\"], \"y\": [null, 14.0, 13.0, 7.0, null, null, null], \"type\": \"scatter\", \"uid\": \"4049004c-dbfd-11e8-8ddb-a41f72875c19\"}, {\"line\": {\"dash\": \"longdashdot\"}, \"name\": \"\\u5f00\\u53d1\\u4e2d\\u7684\\u9879\\u76ee\\u6570(\\u8303\\u65ed\\u5b81)\", \"x\": [\"10-4\", \"8-3\", \"8-4\", \"9-1\", \"9-2\", \"9-3\", \"9-4\"], \"y\": [0.0, 0.0, 1.0, 1.0, 0.0, 0.0, 4.0], \"type\": \"scatter\", \"uid\": \"4049004d-dbfd-11e8-8ddb-a41f72875c19\"}, {\"line\": {\"dash\": \"solid\"}, \"name\": \"\\u5f00\\u53d1\\u4e2d\\u7684\\u9879\\u76ee\\u6570(\\u5c48\\u6602)\", \"x\": [\"10-4\", \"8-3\", \"8-4\", \"9-1\", \"9-2\", \"9-3\", \"9-4\"], \"y\": [0.0, null, null, null, null, null, null], \"type\": \"scatter\", \"uid\": \"4049004e-dbfd-11e8-8ddb-a41f72875c19\"}, {\"line\": {\"dash\": \"dot\"}, \"name\": \"\\u5f00\\u53d1\\u4e2d\\u7684\\u9879\\u76ee\\u6570(\\u5f20\\u5b88\\u4f1f)\", \"x\": [\"10-4\", \"8-3\", \"8-4\", \"9-1\", \"9-2\", \"9-3\", \"9-4\"], \"y\": [0.0, 2.0, 2.0, 2.0, 2.0, 0.0, 0.0], \"type\": \"scatter\", \"uid\": \"4049004f-dbfd-11e8-8ddb-a41f72875c19\"}, {\"line\": {\"dash\": \"dash\"}, \"name\": \"\\u5f00\\u53d1\\u4e2d\\u7684\\u9879\\u76ee\\u6570(\\u5c01\\u5f66\\u6770)\", \"x\": [\"10-4\", \"8-3\", \"8-4\", \"9-1\", \"9-2\", \"9-3\", \"9-4\"], \"y\": [0.0, 4.0, 4.0, 2.0, 2.0, 3.0, 0.0], \"type\": \"scatter\", \"uid\": \"40490050-dbfd-11e8-8ddb-a41f72875c19\"}, {\"line\": {\"dash\": \"longdash\"}, \"name\": \"\\u5f00\\u53d1\\u4e2d\\u7684\\u9879\\u76ee\\u6570(\\u5f20\\u60a6)\", \"x\": [\"10-4\", \"8-3\", \"8-4\", \"9-1\", \"9-2\", \"9-3\", \"9-4\"], \"y\": [0.0, null, null, null, null, null, null], \"type\": \"scatter\", \"uid\": \"40490051-dbfd-11e8-8ddb-a41f72875c19\"}, {\"line\": {\"dash\": \"dashdot\"}, \"name\": \"\\u5f00\\u53d1\\u4e2d\\u7684\\u9879\\u76ee\\u6570(\\u4e8e\\u6167)\", \"x\": [\"10-4\", \"8-3\", \"8-4\", \"9-1\", \"9-2\", \"9-3\", \"9-4\"], \"y\": [0.0, 4.0, 3.0, 2.0, 2.0, 2.0, 1.0], \"type\": \"scatter\", \"uid\": \"40490052-dbfd-11e8-8ddb-a41f72875c19\"}, {\"line\": {\"dash\": \"solid\"}, \"name\": \"\\u5ef6\\u671f\\u5b8c\\u6210(\\u97e9\\u5c11\\u6000)\", \"x\": [\"10-4\", \"8-3\", \"8-4\", \"9-1\", \"9-2\", \"9-3\", \"9-4\"], \"y\": [0.0, 0.0, 0.0, 0.0, 0.0, 0.0, null], \"type\": \"scatter\", \"uid\": \"40490053-dbfd-11e8-8ddb-a41f72875c19\"}, {\"line\": {\"dash\": \"dot\"}, \"name\": \"\\u5ef6\\u671f\\u5b8c\\u6210(\\u82cf\\u5f66\\u52cb)\", \"x\": [\"10-4\", \"8-3\", \"8-4\", \"9-1\", \"9-2\", \"9-3\", \"9-4\"], \"y\": [0.0, 0.0, 0.0, 0.0, 0.0, 0.0, null], \"type\": \"scatter\", \"uid\": \"40490054-dbfd-11e8-8ddb-a41f72875c19\"}, {\"line\": {\"dash\": \"dash\"}, \"name\": \"\\u5ef6\\u671f\\u5b8c\\u6210(\\u5b5f\\u660a)\", \"x\": [\"10-4\", \"8-3\", \"8-4\", \"9-1\", \"9-2\", \"9-3\", \"9-4\"], \"y\": [0.0, 0.0, 0.0, 0.0, 0.0, 0.0, 0.0], \"type\": \"scatter\", \"uid\": \"40490055-dbfd-11e8-8ddb-a41f72875c19\"}, {\"line\": {\"dash\": \"longdash\"}, \"name\": \"\\u5ef6\\u671f\\u5b8c\\u6210(\\u4efb\\u96ea)\", \"x\": [\"10-4\", \"8-3\", \"8-4\", \"9-1\", \"9-2\", \"9-3\", \"9-4\"], \"y\": [0.0, null, 1.0, 1.0, 1.0, 5.0, 7.0], \"type\": \"scatter\", \"uid\": \"40490056-dbfd-11e8-8ddb-a41f72875c19\"}, {\"line\": {\"dash\": \"dashdot\"}, \"name\": \"\\u5ef6\\u671f\\u5b8c\\u6210(\\u6d82\\u6210\\u82b3)\", \"x\": [\"10-4\", \"8-3\", \"8-4\", \"9-1\", \"9-2\", \"9-3\", \"9-4\"], \"y\": [0.0, null, null, null, null, null, null], \"type\": \"scatter\", \"uid\": \"40490057-dbfd-11e8-8ddb-a41f72875c19\"}, {\"line\": {\"dash\": \"longdashdot\"}, \"name\": \"\\u5ef6\\u671f\\u5b8c\\u6210(\\u4e8e\\u52c7\\u4e00)\", \"x\": [\"10-4\", \"8-3\", \"8-4\", \"9-1\", \"9-2\", \"9-3\", \"9-4\"], \"y\": [0.0, 0.0, 0.0, 0.0, 0.0, 0.0, 0.0], \"type\": \"scatter\", \"uid\": \"40490058-dbfd-11e8-8ddb-a41f72875c19\"}, {\"line\": {\"dash\": \"solid\"}, \"name\": \"\\u5ef6\\u671f\\u5b8c\\u6210(\\u8def\\u6167\\u840d)\", \"x\": [\"10-4\", \"8-3\", \"8-4\", \"9-1\", \"9-2\", \"9-3\", \"9-4\"], \"y\": [0.0, 0.0, 0.0, 0.0, 0.0, 0.0, null], \"type\": \"scatter\", \"uid\": \"40490059-dbfd-11e8-8ddb-a41f72875c19\"}, {\"line\": {\"dash\": \"dot\"}, \"name\": \"\\u5ef6\\u671f\\u5b8c\\u6210(\\u6768\\u4f1f\\u98de)\", \"x\": [\"10-4\", \"8-3\", \"8-4\", \"9-1\", \"9-2\", \"9-3\", \"9-4\"], \"y\": [0.0, 1.0, 2.0, 2.0, 2.0, 2.0, 2.0], \"type\": \"scatter\", \"uid\": \"4049005a-dbfd-11e8-8ddb-a41f72875c19\"}, {\"line\": {\"dash\": \"dash\"}, \"name\": \"\\u5ef6\\u671f\\u5b8c\\u6210(\\u6636\\u5409\\u9633)\", \"x\": [\"10-4\", \"8-3\", \"8-4\", \"9-1\", \"9-2\", \"9-3\", \"9-4\"], \"y\": [0.0, null, null, null, null, null, null], \"type\": \"scatter\", \"uid\": \"4049005b-dbfd-11e8-8ddb-a41f72875c19\"}, {\"line\": {\"dash\": \"longdash\"}, \"name\": \"\\u5ef6\\u671f\\u5b8c\\u6210(\\u738b\\u5b81)\", \"x\": [\"10-4\", \"8-3\", \"8-4\", \"9-1\", \"9-2\", \"9-3\", \"9-4\"], \"y\": [null, 0.0, 0.0, 0.0, null, null, null], \"type\": \"scatter\", \"uid\": \"4049005c-dbfd-11e8-8ddb-a41f72875c19\"}, {\"line\": {\"dash\": \"dashdot\"}, \"name\": \"\\u5ef6\\u671f\\u5b8c\\u6210(\\u8f66\\u5929\\u680b)\", \"x\": [\"10-4\", \"8-3\", \"8-4\", \"9-1\", \"9-2\", \"9-3\", \"9-4\"], \"y\": [0.0, null, null, null, null, null, null], \"type\": \"scatter\", \"uid\": \"4049005d-dbfd-11e8-8ddb-a41f72875c19\"}, {\"line\": {\"dash\": \"longdashdot\"}, \"name\": \"\\u5ef6\\u671f\\u5b8c\\u6210(\\u5468\\u6768)\", \"x\": [\"10-4\", \"8-3\", \"8-4\", \"9-1\", \"9-2\", \"9-3\", \"9-4\"], \"y\": [0.0, 0.0, 0.0, 0.0, 0.0, 0.0, 0.0], \"type\": \"scatter\", \"uid\": \"4049005e-dbfd-11e8-8ddb-a41f72875c19\"}, {\"line\": {\"dash\": \"solid\"}, \"name\": \"\\u5ef6\\u671f\\u5b8c\\u6210(\\u6bb5\\u5229\\u5f3a)\", \"x\": [\"10-4\", \"8-3\", \"8-4\", \"9-1\", \"9-2\", \"9-3\", \"9-4\"], \"y\": [null, null, null, null, null, null, 0.0], \"type\": \"scatter\", \"uid\": \"4049005f-dbfd-11e8-8ddb-a41f72875c19\"}, {\"line\": {\"dash\": \"dot\"}, \"name\": \"\\u5ef6\\u671f\\u5b8c\\u6210(\\u8d75\\u73a5)\", \"x\": [\"10-4\", \"8-3\", \"8-4\", \"9-1\", \"9-2\", \"9-3\", \"9-4\"], \"y\": [0.0, 1.0, 1.0, 1.0, 1.0, 1.0, 1.0], \"type\": \"scatter\", \"uid\": \"40490060-dbfd-11e8-8ddb-a41f72875c19\"}, {\"line\": {\"dash\": \"dash\"}, \"name\": \"\\u5ef6\\u671f\\u5b8c\\u6210(\\u51b7\\u96ea)\", \"x\": [\"10-4\", \"8-3\", \"8-4\", \"9-1\", \"9-2\", \"9-3\", \"9-4\"], \"y\": [0.0, null, null, null, null, null, null], \"type\": \"scatter\", \"uid\": \"40490061-dbfd-11e8-8ddb-a41f72875c19\"}, {\"line\": {\"dash\": \"longdash\"}, \"name\": \"\\u5ef6\\u671f\\u5b8c\\u6210(\\u51af\\u656c\\u5ca9)\", \"x\": [\"10-4\", \"8-3\", \"8-4\", \"9-1\", \"9-2\", \"9-3\", \"9-4\"], \"y\": [0.0, null, null, null, null, null, null], \"type\": \"scatter\", \"uid\": \"40490062-dbfd-11e8-8ddb-a41f72875c19\"}, {\"line\": {\"dash\": \"dashdot\"}, \"name\": \"\\u5ef6\\u671f\\u5b8c\\u6210(\\u59da\\u76df\\u6210)\", \"x\": [\"10-4\", \"8-3\", \"8-4\", \"9-1\", \"9-2\", \"9-3\", \"9-4\"], \"y\": [0.0, 0.0, 0.0, 0.0, 0.0, 0.0, 0.0], \"type\": \"scatter\", \"uid\": \"40490063-dbfd-11e8-8ddb-a41f72875c19\"}, {\"line\": {\"dash\": \"longdashdot\"}, \"name\": \"\\u5ef6\\u671f\\u5b8c\\u6210(\\u674e\\u534e\\u4e91)\", \"x\": [\"10-4\", \"8-3\", \"8-4\", \"9-1\", \"9-2\", \"9-3\", \"9-4\"], \"y\": [0.0, 0.0, 0.0, 1.0, 3.0, 13.0, null], \"type\": \"scatter\", \"uid\": \"40490064-dbfd-11e8-8ddb-a41f72875c19\"}, {\"line\": {\"dash\": \"solid\"}, \"name\": \"\\u5ef6\\u671f\\u5b8c\\u6210(\\u9648\\u9e4f\\u71d5)\", \"x\": [\"10-4\", \"8-3\", \"8-4\", \"9-1\", \"9-2\", \"9-3\", \"9-4\"], \"y\": [0.0, null, null, null, null, null, null], \"type\": \"scatter\", \"uid\": \"40490065-dbfd-11e8-8ddb-a41f72875c19\"}, {\"line\": {\"dash\": \"dot\"}, \"name\": \"\\u5ef6\\u671f\\u5b8c\\u6210(\\u5218\\u6167\\u73b2)\", \"x\": [\"10-4\", \"8-3\", \"8-4\", \"9-1\", \"9-2\", \"9-3\", \"9-4\"], \"y\": [null, 1.0, 1.0, 1.0, null, null, null], \"type\": \"scatter\", \"uid\": \"40490066-dbfd-11e8-8ddb-a41f72875c19\"}, {\"line\": {\"dash\": \"dash\"}, \"name\": \"\\u5ef6\\u671f\\u5b8c\\u6210(\\u6c88\\u6069\\u60e0)\", \"x\": [\"10-4\", \"8-3\", \"8-4\", \"9-1\", \"9-2\", \"9-3\", \"9-4\"], \"y\": [0.0, null, null, null, null, null, null], \"type\": \"scatter\", \"uid\": \"40490067-dbfd-11e8-8ddb-a41f72875c19\"}, {\"line\": {\"dash\": \"longdash\"}, \"name\": \"\\u5ef6\\u671f\\u5b8c\\u6210(\\u6797\\u6587\\u6587)\", \"x\": [\"10-4\", \"8-3\", \"8-4\", \"9-1\", \"9-2\", \"9-3\", \"9-4\"], \"y\": [0.0, null, null, null, null, null, null], \"type\": \"scatter\", \"uid\": \"40490068-dbfd-11e8-8ddb-a41f72875c19\"}, {\"line\": {\"dash\": \"dashdot\"}, \"name\": \"\\u5ef6\\u671f\\u5b8c\\u6210(\\u8c22\\u5fb7\\u5065)\", \"x\": [\"10-4\", \"8-3\", \"8-4\", \"9-1\", \"9-2\", \"9-3\", \"9-4\"], \"y\": [0.0, 0.0, 0.0, null, 0.0, 0.0, 0.0], \"type\": \"scatter\", \"uid\": \"40490069-dbfd-11e8-8ddb-a41f72875c19\"}, {\"line\": {\"dash\": \"longdashdot\"}, \"name\": \"\\u5ef6\\u671f\\u5b8c\\u6210(\\u5218\\u6c5f)\", \"x\": [\"10-4\", \"8-3\", \"8-4\", \"9-1\", \"9-2\", \"9-3\", \"9-4\"], \"y\": [0.0, 0.0, 1.0, 2.0, 0.0, 2.0, 2.0], \"type\": \"scatter\", \"uid\": \"4049006a-dbfd-11e8-8ddb-a41f72875c19\"}, {\"line\": {\"dash\": \"solid\"}, \"name\": \"\\u5ef6\\u671f\\u5b8c\\u6210(\\u738b\\u7ea2)\", \"x\": [\"10-4\", \"8-3\", \"8-4\", \"9-1\", \"9-2\", \"9-3\", \"9-4\"], \"y\": [0.0, null, null, null, null, null, null], \"type\": \"scatter\", \"uid\": \"4049006b-dbfd-11e8-8ddb-a41f72875c19\"}, {\"line\": {\"dash\": \"dot\"}, \"name\": \"\\u5ef6\\u671f\\u5b8c\\u6210(\\u674e\\u5e86\\u539f)\", \"x\": [\"10-4\", \"8-3\", \"8-4\", \"9-1\", \"9-2\", \"9-3\", \"9-4\"], \"y\": [0.0, 0.0, 0.0, 0.0, 0.0, 0.0, null], \"type\": \"scatter\", \"uid\": \"4049006c-dbfd-11e8-8ddb-a41f72875c19\"}, {\"line\": {\"dash\": \"dash\"}, \"name\": \"\\u5ef6\\u671f\\u5b8c\\u6210(\\u9a6c\\u6f47)\", \"x\": [\"10-4\", \"8-3\", \"8-4\", \"9-1\", \"9-2\", \"9-3\", \"9-4\"], \"y\": [0.0, 0.0, 0.0, 0.0, 0.0, 0.0, 0.0], \"type\": \"scatter\", \"uid\": \"4049006d-dbfd-11e8-8ddb-a41f72875c19\"}, {\"line\": {\"dash\": \"longdash\"}, \"name\": \"\\u5ef6\\u671f\\u5b8c\\u6210(\\u5360\\u4f1f)\", \"x\": [\"10-4\", \"8-3\", \"8-4\", \"9-1\", \"9-2\", \"9-3\", \"9-4\"], \"y\": [0.0, 2.0, 1.0, 1.0, 1.0, 3.0, 3.0], \"type\": \"scatter\", \"uid\": \"4049006e-dbfd-11e8-8ddb-a41f72875c19\"}, {\"line\": {\"dash\": \"dashdot\"}, \"name\": \"\\u5ef6\\u671f\\u5b8c\\u6210(\\u5b8b\\u8fce\\u6960)\", \"x\": [\"10-4\", \"8-3\", \"8-4\", \"9-1\", \"9-2\", \"9-3\", \"9-4\"], \"y\": [null, 8.0, 9.0, 10.0, null, null, null], \"type\": \"scatter\", \"uid\": \"4049006f-dbfd-11e8-8ddb-a41f72875c19\"}, {\"line\": {\"dash\": \"longdashdot\"}, \"name\": \"\\u5ef6\\u671f\\u5b8c\\u6210(\\u8303\\u65ed\\u5b81)\", \"x\": [\"10-4\", \"8-3\", \"8-4\", \"9-1\", \"9-2\", \"9-3\", \"9-4\"], \"y\": [0.0, 2.0, 2.0, 3.0, 0.0, 0.0, 4.0], \"type\": \"scatter\", \"uid\": \"40490070-dbfd-11e8-8ddb-a41f72875c19\"}, {\"line\": {\"dash\": \"solid\"}, \"name\": \"\\u5ef6\\u671f\\u5b8c\\u6210(\\u5c48\\u6602)\", \"x\": [\"10-4\", \"8-3\", \"8-4\", \"9-1\", \"9-2\", \"9-3\", \"9-4\"], \"y\": [0.0, null, null, null, null, null, null], \"type\": \"scatter\", \"uid\": \"40490071-dbfd-11e8-8ddb-a41f72875c19\"}, {\"line\": {\"dash\": \"dot\"}, \"name\": \"\\u5ef6\\u671f\\u5b8c\\u6210(\\u5f20\\u5b88\\u4f1f)\", \"x\": [\"10-4\", \"8-3\", \"8-4\", \"9-1\", \"9-2\", \"9-3\", \"9-4\"], \"y\": [0.0, 0.0, 0.0, 0.0, 0.0, 0.0, 1.0], \"type\": \"scatter\", \"uid\": \"40490072-dbfd-11e8-8ddb-a41f72875c19\"}, {\"line\": {\"dash\": \"dash\"}, \"name\": \"\\u5ef6\\u671f\\u5b8c\\u6210(\\u5c01\\u5f66\\u6770)\", \"x\": [\"10-4\", \"8-3\", \"8-4\", \"9-1\", \"9-2\", \"9-3\", \"9-4\"], \"y\": [0.0, 0.0, 0.0, 0.0, 0.0, 0.0, 1.0], \"type\": \"scatter\", \"uid\": \"40490073-dbfd-11e8-8ddb-a41f72875c19\"}, {\"line\": {\"dash\": \"longdash\"}, \"name\": \"\\u5ef6\\u671f\\u5b8c\\u6210(\\u5f20\\u60a6)\", \"x\": [\"10-4\", \"8-3\", \"8-4\", \"9-1\", \"9-2\", \"9-3\", \"9-4\"], \"y\": [0.0, null, null, null, null, null, null], \"type\": \"scatter\", \"uid\": \"40490074-dbfd-11e8-8ddb-a41f72875c19\"}, {\"line\": {\"dash\": \"dashdot\"}, \"name\": \"\\u5ef6\\u671f\\u5b8c\\u6210(\\u4e8e\\u6167)\", \"x\": [\"10-4\", \"8-3\", \"8-4\", \"9-1\", \"9-2\", \"9-3\", \"9-4\"], \"y\": [0.0, 0.0, 0.0, 0.0, 0.0, 0.0, 1.0], \"type\": \"scatter\", \"uid\": \"40490075-dbfd-11e8-8ddb-a41f72875c19\"}, {\"line\": {\"dash\": \"solid\"}, \"name\": \"\\u5b63\\u5ea6\\u5f00\\u53d1\\u9879\\u76ee\\u6570(\\u97e9\\u5c11\\u6000)\", \"x\": [\"10-4\", \"8-3\", \"8-4\", \"9-1\", \"9-2\", \"9-3\", \"9-4\"], \"y\": [0.0, 7.0, 7.0, 7.0, 6.0, 7.0, null], \"type\": \"scatter\", \"uid\": \"40490076-dbfd-11e8-8ddb-a41f72875c19\"}, {\"line\": {\"dash\": \"dot\"}, \"name\": \"\\u5b63\\u5ea6\\u5f00\\u53d1\\u9879\\u76ee\\u6570(\\u82cf\\u5f66\\u52cb)\", \"x\": [\"10-4\", \"8-3\", \"8-4\", \"9-1\", \"9-2\", \"9-3\", \"9-4\"], \"y\": [0.0, 33.0, 33.0, 33.0, 33.0, 33.0, null], \"type\": \"scatter\", \"uid\": \"40490077-dbfd-11e8-8ddb-a41f72875c19\"}, {\"line\": {\"dash\": \"dash\"}, \"name\": \"\\u5b63\\u5ea6\\u5f00\\u53d1\\u9879\\u76ee\\u6570(\\u5b5f\\u660a)\", \"x\": [\"10-4\", \"8-3\", \"8-4\", \"9-1\", \"9-2\", \"9-3\", \"9-4\"], \"y\": [0.0, 43.0, 43.0, 43.0, 43.0, 43.0, 43.0], \"type\": \"scatter\", \"uid\": \"40490078-dbfd-11e8-8ddb-a41f72875c19\"}, {\"line\": {\"dash\": \"longdash\"}, \"name\": \"\\u5b63\\u5ea6\\u5f00\\u53d1\\u9879\\u76ee\\u6570(\\u4efb\\u96ea)\", \"x\": [\"10-4\", \"8-3\", \"8-4\", \"9-1\", \"9-2\", \"9-3\", \"9-4\"], \"y\": [0.0, null, 27.0, 27.0, 27.0, 27.0, 27.0], \"type\": \"scatter\", \"uid\": \"40490079-dbfd-11e8-8ddb-a41f72875c19\"}, {\"line\": {\"dash\": \"dashdot\"}, \"name\": \"\\u5b63\\u5ea6\\u5f00\\u53d1\\u9879\\u76ee\\u6570(\\u6d82\\u6210\\u82b3)\", \"x\": [\"10-4\", \"8-3\", \"8-4\", \"9-1\", \"9-2\", \"9-3\", \"9-4\"], \"y\": [0.0, null, null, null, null, null, null], \"type\": \"scatter\", \"uid\": \"4049007a-dbfd-11e8-8ddb-a41f72875c19\"}, {\"line\": {\"dash\": \"longdashdot\"}, \"name\": \"\\u5b63\\u5ea6\\u5f00\\u53d1\\u9879\\u76ee\\u6570(\\u4e8e\\u52c7\\u4e00)\", \"x\": [\"10-4\", \"8-3\", \"8-4\", \"9-1\", \"9-2\", \"9-3\", \"9-4\"], \"y\": [0.0, 0.0, 0.0, 0.0, 0.0, 0.0, 0.0], \"type\": \"scatter\", \"uid\": \"4049007b-dbfd-11e8-8ddb-a41f72875c19\"}, {\"line\": {\"dash\": \"solid\"}, \"name\": \"\\u5b63\\u5ea6\\u5f00\\u53d1\\u9879\\u76ee\\u6570(\\u8def\\u6167\\u840d)\", \"x\": [\"10-4\", \"8-3\", \"8-4\", \"9-1\", \"9-2\", \"9-3\", \"9-4\"], \"y\": [0.0, 0.0, 0.0, 0.0, 0.0, 0.0, null], \"type\": \"scatter\", \"uid\": \"4049007c-dbfd-11e8-8ddb-a41f72875c19\"}, {\"line\": {\"dash\": \"dot\"}, \"name\": \"\\u5b63\\u5ea6\\u5f00\\u53d1\\u9879\\u76ee\\u6570(\\u6768\\u4f1f\\u98de)\", \"x\": [\"10-4\", \"8-3\", \"8-4\", \"9-1\", \"9-2\", \"9-3\", \"9-4\"], \"y\": [0.0, 8.0, 8.0, 8.0, 8.0, 8.0, 8.0], \"type\": \"scatter\", \"uid\": \"4049007d-dbfd-11e8-8ddb-a41f72875c19\"}, {\"line\": {\"dash\": \"dash\"}, \"name\": \"\\u5b63\\u5ea6\\u5f00\\u53d1\\u9879\\u76ee\\u6570(\\u6636\\u5409\\u9633)\", \"x\": [\"10-4\", \"8-3\", \"8-4\", \"9-1\", \"9-2\", \"9-3\", \"9-4\"], \"y\": [0.0, null, null, null, null, null, null], \"type\": \"scatter\", \"uid\": \"4049007e-dbfd-11e8-8ddb-a41f72875c19\"}, {\"line\": {\"dash\": \"longdash\"}, \"name\": \"\\u5b63\\u5ea6\\u5f00\\u53d1\\u9879\\u76ee\\u6570(\\u738b\\u5b81)\", \"x\": [\"10-4\", \"8-3\", \"8-4\", \"9-1\", \"9-2\", \"9-3\", \"9-4\"], \"y\": [null, 0.0, 0.0, 0.0, null, null, null], \"type\": \"scatter\", \"uid\": \"4049007f-dbfd-11e8-8ddb-a41f72875c19\"}, {\"line\": {\"dash\": \"dashdot\"}, \"name\": \"\\u5b63\\u5ea6\\u5f00\\u53d1\\u9879\\u76ee\\u6570(\\u8f66\\u5929\\u680b)\", \"x\": [\"10-4\", \"8-3\", \"8-4\", \"9-1\", \"9-2\", \"9-3\", \"9-4\"], \"y\": [0.0, null, null, null, null, null, null], \"type\": \"scatter\", \"uid\": \"40490080-dbfd-11e8-8ddb-a41f72875c19\"}, {\"line\": {\"dash\": \"longdashdot\"}, \"name\": \"\\u5b63\\u5ea6\\u5f00\\u53d1\\u9879\\u76ee\\u6570(\\u5468\\u6768)\", \"x\": [\"10-4\", \"8-3\", \"8-4\", \"9-1\", \"9-2\", \"9-3\", \"9-4\"], \"y\": [0.0, 32.0, 32.0, 32.0, 32.0, 32.0, 32.0], \"type\": \"scatter\", \"uid\": \"40490081-dbfd-11e8-8ddb-a41f72875c19\"}, {\"line\": {\"dash\": \"solid\"}, \"name\": \"\\u5b63\\u5ea6\\u5f00\\u53d1\\u9879\\u76ee\\u6570(\\u6bb5\\u5229\\u5f3a)\", \"x\": [\"10-4\", \"8-3\", \"8-4\", \"9-1\", \"9-2\", \"9-3\", \"9-4\"], \"y\": [null, null, null, null, null, null, 0.0], \"type\": \"scatter\", \"uid\": \"40490082-dbfd-11e8-8ddb-a41f72875c19\"}, {\"line\": {\"dash\": \"dot\"}, \"name\": \"\\u5b63\\u5ea6\\u5f00\\u53d1\\u9879\\u76ee\\u6570(\\u8d75\\u73a5)\", \"x\": [\"10-4\", \"8-3\", \"8-4\", \"9-1\", \"9-2\", \"9-3\", \"9-4\"], \"y\": [0.0, 21.0, 22.0, 21.0, 22.0, 22.0, 22.0], \"type\": \"scatter\", \"uid\": \"40490083-dbfd-11e8-8ddb-a41f72875c19\"}, {\"line\": {\"dash\": \"dash\"}, \"name\": \"\\u5b63\\u5ea6\\u5f00\\u53d1\\u9879\\u76ee\\u6570(\\u51b7\\u96ea)\", \"x\": [\"10-4\", \"8-3\", \"8-4\", \"9-1\", \"9-2\", \"9-3\", \"9-4\"], \"y\": [0.0, null, null, null, null, null, null], \"type\": \"scatter\", \"uid\": \"40490084-dbfd-11e8-8ddb-a41f72875c19\"}, {\"line\": {\"dash\": \"longdash\"}, \"name\": \"\\u5b63\\u5ea6\\u5f00\\u53d1\\u9879\\u76ee\\u6570(\\u51af\\u656c\\u5ca9)\", \"x\": [\"10-4\", \"8-3\", \"8-4\", \"9-1\", \"9-2\", \"9-3\", \"9-4\"], \"y\": [0.0, null, null, null, null, null, null], \"type\": \"scatter\", \"uid\": \"40490085-dbfd-11e8-8ddb-a41f72875c19\"}, {\"line\": {\"dash\": \"dashdot\"}, \"name\": \"\\u5b63\\u5ea6\\u5f00\\u53d1\\u9879\\u76ee\\u6570(\\u59da\\u76df\\u6210)\", \"x\": [\"10-4\", \"8-3\", \"8-4\", \"9-1\", \"9-2\", \"9-3\", \"9-4\"], \"y\": [0.0, 9.0, 9.0, 9.0, 9.0, 9.0, 15.0], \"type\": \"scatter\", \"uid\": \"40490086-dbfd-11e8-8ddb-a41f72875c19\"}, {\"line\": {\"dash\": \"longdashdot\"}, \"name\": \"\\u5b63\\u5ea6\\u5f00\\u53d1\\u9879\\u76ee\\u6570(\\u674e\\u534e\\u4e91)\", \"x\": [\"10-4\", \"8-3\", \"8-4\", \"9-1\", \"9-2\", \"9-3\", \"9-4\"], \"y\": [0.0, 35.0, 35.0, 35.0, 35.0, 47.0, null], \"type\": \"scatter\", \"uid\": \"40490087-dbfd-11e8-8ddb-a41f72875c19\"}, {\"line\": {\"dash\": \"solid\"}, \"name\": \"\\u5b63\\u5ea6\\u5f00\\u53d1\\u9879\\u76ee\\u6570(\\u9648\\u9e4f\\u71d5)\", \"x\": [\"10-4\", \"8-3\", \"8-4\", \"9-1\", \"9-2\", \"9-3\", \"9-4\"], \"y\": [0.0, null, null, null, null, null, null], \"type\": \"scatter\", \"uid\": \"40490088-dbfd-11e8-8ddb-a41f72875c19\"}, {\"line\": {\"dash\": \"dot\"}, \"name\": \"\\u5b63\\u5ea6\\u5f00\\u53d1\\u9879\\u76ee\\u6570(\\u5218\\u6167\\u73b2)\", \"x\": [\"10-4\", \"8-3\", \"8-4\", \"9-1\", \"9-2\", \"9-3\", \"9-4\"], \"y\": [null, 8.0, 8.0, 9.0, null, null, null], \"type\": \"scatter\", \"uid\": \"40490089-dbfd-11e8-8ddb-a41f72875c19\"}, {\"line\": {\"dash\": \"dash\"}, \"name\": \"\\u5b63\\u5ea6\\u5f00\\u53d1\\u9879\\u76ee\\u6570(\\u6c88\\u6069\\u60e0)\", \"x\": [\"10-4\", \"8-3\", \"8-4\", \"9-1\", \"9-2\", \"9-3\", \"9-4\"], \"y\": [0.0, null, null, null, null, null, null], \"type\": \"scatter\", \"uid\": \"4049008a-dbfd-11e8-8ddb-a41f72875c19\"}, {\"line\": {\"dash\": \"longdash\"}, \"name\": \"\\u5b63\\u5ea6\\u5f00\\u53d1\\u9879\\u76ee\\u6570(\\u6797\\u6587\\u6587)\", \"x\": [\"10-4\", \"8-3\", \"8-4\", \"9-1\", \"9-2\", \"9-3\", \"9-4\"], \"y\": [0.0, null, null, null, null, null, null], \"type\": \"scatter\", \"uid\": \"4049008b-dbfd-11e8-8ddb-a41f72875c19\"}, {\"line\": {\"dash\": \"dashdot\"}, \"name\": \"\\u5b63\\u5ea6\\u5f00\\u53d1\\u9879\\u76ee\\u6570(\\u8c22\\u5fb7\\u5065)\", \"x\": [\"10-4\", \"8-3\", \"8-4\", \"9-1\", \"9-2\", \"9-3\", \"9-4\"], \"y\": [0.0, 2.0, 2.0, null, 6.0, 6.0, 6.0], \"type\": \"scatter\", \"uid\": \"4049008c-dbfd-11e8-8ddb-a41f72875c19\"}, {\"line\": {\"dash\": \"longdashdot\"}, \"name\": \"\\u5b63\\u5ea6\\u5f00\\u53d1\\u9879\\u76ee\\u6570(\\u5218\\u6c5f)\", \"x\": [\"10-4\", \"8-3\", \"8-4\", \"9-1\", \"9-2\", \"9-3\", \"9-4\"], \"y\": [0.0, 3.0, 3.0, 3.0, 0.0, 3.0, 3.0], \"type\": \"scatter\", \"uid\": \"4049008d-dbfd-11e8-8ddb-a41f72875c19\"}, {\"line\": {\"dash\": \"solid\"}, \"name\": \"\\u5b63\\u5ea6\\u5f00\\u53d1\\u9879\\u76ee\\u6570(\\u738b\\u7ea2)\", \"x\": [\"10-4\", \"8-3\", \"8-4\", \"9-1\", \"9-2\", \"9-3\", \"9-4\"], \"y\": [0.0, null, null, null, null, null, null], \"type\": \"scatter\", \"uid\": \"4049008e-dbfd-11e8-8ddb-a41f72875c19\"}, {\"line\": {\"dash\": \"dot\"}, \"name\": \"\\u5b63\\u5ea6\\u5f00\\u53d1\\u9879\\u76ee\\u6570(\\u674e\\u5e86\\u539f)\", \"x\": [\"10-4\", \"8-3\", \"8-4\", \"9-1\", \"9-2\", \"9-3\", \"9-4\"], \"y\": [0.0, 0.0, 0.0, 0.0, 0.0, 0.0, null], \"type\": \"scatter\", \"uid\": \"4049008f-dbfd-11e8-8ddb-a41f72875c19\"}, {\"line\": {\"dash\": \"dash\"}, \"name\": \"\\u5b63\\u5ea6\\u5f00\\u53d1\\u9879\\u76ee\\u6570(\\u9a6c\\u6f47)\", \"x\": [\"10-4\", \"8-3\", \"8-4\", \"9-1\", \"9-2\", \"9-3\", \"9-4\"], \"y\": [0.0, 0.0, 0.0, 0.0, 0.0, 0.0, 0.0], \"type\": \"scatter\", \"uid\": \"40490090-dbfd-11e8-8ddb-a41f72875c19\"}, {\"line\": {\"dash\": \"longdash\"}, \"name\": \"\\u5b63\\u5ea6\\u5f00\\u53d1\\u9879\\u76ee\\u6570(\\u5360\\u4f1f)\", \"x\": [\"10-4\", \"8-3\", \"8-4\", \"9-1\", \"9-2\", \"9-3\", \"9-4\"], \"y\": [0.0, 19.0, 18.0, 18.0, 18.0, 19.0, 19.0], \"type\": \"scatter\", \"uid\": \"40490091-dbfd-11e8-8ddb-a41f72875c19\"}, {\"line\": {\"dash\": \"dashdot\"}, \"name\": \"\\u5b63\\u5ea6\\u5f00\\u53d1\\u9879\\u76ee\\u6570(\\u5b8b\\u8fce\\u6960)\", \"x\": [\"10-4\", \"8-3\", \"8-4\", \"9-1\", \"9-2\", \"9-3\", \"9-4\"], \"y\": [null, 23.0, 23.0, 23.0, null, null, null], \"type\": \"scatter\", \"uid\": \"40490092-dbfd-11e8-8ddb-a41f72875c19\"}, {\"line\": {\"dash\": \"longdashdot\"}, \"name\": \"\\u5b63\\u5ea6\\u5f00\\u53d1\\u9879\\u76ee\\u6570(\\u8303\\u65ed\\u5b81)\", \"x\": [\"10-4\", \"8-3\", \"8-4\", \"9-1\", \"9-2\", \"9-3\", \"9-4\"], \"y\": [0.0, 18.0, 25.0, 30.0, 7.0, 5.0, 24.0], \"type\": \"scatter\", \"uid\": \"40490093-dbfd-11e8-8ddb-a41f72875c19\"}, {\"line\": {\"dash\": \"solid\"}, \"name\": \"\\u5b63\\u5ea6\\u5f00\\u53d1\\u9879\\u76ee\\u6570(\\u5c48\\u6602)\", \"x\": [\"10-4\", \"8-3\", \"8-4\", \"9-1\", \"9-2\", \"9-3\", \"9-4\"], \"y\": [0.0, null, null, null, null, null, null], \"type\": \"scatter\", \"uid\": \"40490094-dbfd-11e8-8ddb-a41f72875c19\"}, {\"line\": {\"dash\": \"dot\"}, \"name\": \"\\u5b63\\u5ea6\\u5f00\\u53d1\\u9879\\u76ee\\u6570(\\u5f20\\u5b88\\u4f1f)\", \"x\": [\"10-4\", \"8-3\", \"8-4\", \"9-1\", \"9-2\", \"9-3\", \"9-4\"], \"y\": [0.0, 13.0, 16.0, 18.0, 20.0, 20.0, 21.0], \"type\": \"scatter\", \"uid\": \"40490095-dbfd-11e8-8ddb-a41f72875c19\"}, {\"line\": {\"dash\": \"dash\"}, \"name\": \"\\u5b63\\u5ea6\\u5f00\\u53d1\\u9879\\u76ee\\u6570(\\u5c01\\u5f66\\u6770)\", \"x\": [\"10-4\", \"8-3\", \"8-4\", \"9-1\", \"9-2\", \"9-3\", \"9-4\"], \"y\": [0.0, 5.0, 5.0, 5.0, 5.0, 5.0, 5.0], \"type\": \"scatter\", \"uid\": \"40490096-dbfd-11e8-8ddb-a41f72875c19\"}, {\"line\": {\"dash\": \"longdash\"}, \"name\": \"\\u5b63\\u5ea6\\u5f00\\u53d1\\u9879\\u76ee\\u6570(\\u5f20\\u60a6)\", \"x\": [\"10-4\", \"8-3\", \"8-4\", \"9-1\", \"9-2\", \"9-3\", \"9-4\"], \"y\": [0.0, null, null, null, null, null, null], \"type\": \"scatter\", \"uid\": \"40490097-dbfd-11e8-8ddb-a41f72875c19\"}, {\"line\": {\"dash\": \"dashdot\"}, \"name\": \"\\u5b63\\u5ea6\\u5f00\\u53d1\\u9879\\u76ee\\u6570(\\u4e8e\\u6167)\", \"x\": [\"10-4\", \"8-3\", \"8-4\", \"9-1\", \"9-2\", \"9-3\", \"9-4\"], \"y\": [0.0, 36.0, 36.0, 36.0, 37.0, 37.0, 37.0], \"type\": \"scatter\", \"uid\": \"40490098-dbfd-11e8-8ddb-a41f72875c19\"}, {\"line\": {\"dash\": \"solid\"}, \"name\": \"\\u6682\\u505c\\u9879\\u76ee\\u6570(\\u97e9\\u5c11\\u6000)\", \"x\": [\"10-4\", \"8-3\", \"8-4\", \"9-1\", \"9-2\", \"9-3\", \"9-4\"], \"y\": [0.0, 0.0, 0.0, 0.0, 0.0, 0.0, null], \"type\": \"scatter\", \"uid\": \"40490099-dbfd-11e8-8ddb-a41f72875c19\"}, {\"line\": {\"dash\": \"dot\"}, \"name\": \"\\u6682\\u505c\\u9879\\u76ee\\u6570(\\u82cf\\u5f66\\u52cb)\", \"x\": [\"10-4\", \"8-3\", \"8-4\", \"9-1\", \"9-2\", \"9-3\", \"9-4\"], \"y\": [0.0, 8.0, 8.0, 8.0, 8.0, 8.0, null], \"type\": \"scatter\", \"uid\": \"4049009a-dbfd-11e8-8ddb-a41f72875c19\"}, {\"line\": {\"dash\": \"dash\"}, \"name\": \"\\u6682\\u505c\\u9879\\u76ee\\u6570(\\u5b5f\\u660a)\", \"x\": [\"10-4\", \"8-3\", \"8-4\", \"9-1\", \"9-2\", \"9-3\", \"9-4\"], \"y\": [0.0, 3.0, 3.0, 3.0, 3.0, 3.0, 3.0], \"type\": \"scatter\", \"uid\": \"4049009b-dbfd-11e8-8ddb-a41f72875c19\"}, {\"line\": {\"dash\": \"longdash\"}, \"name\": \"\\u6682\\u505c\\u9879\\u76ee\\u6570(\\u4efb\\u96ea)\", \"x\": [\"10-4\", \"8-3\", \"8-4\", \"9-1\", \"9-2\", \"9-3\", \"9-4\"], \"y\": [0.0, null, 0.0, 3.0, 3.0, 4.0, 4.0], \"type\": \"scatter\", \"uid\": \"4049009c-dbfd-11e8-8ddb-a41f72875c19\"}, {\"line\": {\"dash\": \"dashdot\"}, \"name\": \"\\u6682\\u505c\\u9879\\u76ee\\u6570(\\u6d82\\u6210\\u82b3)\", \"x\": [\"10-4\", \"8-3\", \"8-4\", \"9-1\", \"9-2\", \"9-3\", \"9-4\"], \"y\": [0.0, null, null, null, null, null, null], \"type\": \"scatter\", \"uid\": \"4049009d-dbfd-11e8-8ddb-a41f72875c19\"}, {\"line\": {\"dash\": \"longdashdot\"}, \"name\": \"\\u6682\\u505c\\u9879\\u76ee\\u6570(\\u4e8e\\u52c7\\u4e00)\", \"x\": [\"10-4\", \"8-3\", \"8-4\", \"9-1\", \"9-2\", \"9-3\", \"9-4\"], \"y\": [0.0, 0.0, 0.0, 0.0, 0.0, 0.0, 0.0], \"type\": \"scatter\", \"uid\": \"4049009e-dbfd-11e8-8ddb-a41f72875c19\"}, {\"line\": {\"dash\": \"solid\"}, \"name\": \"\\u6682\\u505c\\u9879\\u76ee\\u6570(\\u8def\\u6167\\u840d)\", \"x\": [\"10-4\", \"8-3\", \"8-4\", \"9-1\", \"9-2\", \"9-3\", \"9-4\"], \"y\": [0.0, 0.0, 0.0, 0.0, 0.0, 2.0, null], \"type\": \"scatter\", \"uid\": \"4049009f-dbfd-11e8-8ddb-a41f72875c19\"}, {\"line\": {\"dash\": \"dot\"}, \"name\": \"\\u6682\\u505c\\u9879\\u76ee\\u6570(\\u6768\\u4f1f\\u98de)\", \"x\": [\"10-4\", \"8-3\", \"8-4\", \"9-1\", \"9-2\", \"9-3\", \"9-4\"], \"y\": [0.0, 0.0, 0.0, 0.0, 0.0, 0.0, 0.0], \"type\": \"scatter\", \"uid\": \"404900a0-dbfd-11e8-8ddb-a41f72875c19\"}, {\"line\": {\"dash\": \"dash\"}, \"name\": \"\\u6682\\u505c\\u9879\\u76ee\\u6570(\\u6636\\u5409\\u9633)\", \"x\": [\"10-4\", \"8-3\", \"8-4\", \"9-1\", \"9-2\", \"9-3\", \"9-4\"], \"y\": [0.0, null, null, null, null, null, null], \"type\": \"scatter\", \"uid\": \"404900a1-dbfd-11e8-8ddb-a41f72875c19\"}, {\"line\": {\"dash\": \"longdash\"}, \"name\": \"\\u6682\\u505c\\u9879\\u76ee\\u6570(\\u738b\\u5b81)\", \"x\": [\"10-4\", \"8-3\", \"8-4\", \"9-1\", \"9-2\", \"9-3\", \"9-4\"], \"y\": [null, 0.0, 0.0, 0.0, null, null, null], \"type\": \"scatter\", \"uid\": \"404900a2-dbfd-11e8-8ddb-a41f72875c19\"}, {\"line\": {\"dash\": \"dashdot\"}, \"name\": \"\\u6682\\u505c\\u9879\\u76ee\\u6570(\\u8f66\\u5929\\u680b)\", \"x\": [\"10-4\", \"8-3\", \"8-4\", \"9-1\", \"9-2\", \"9-3\", \"9-4\"], \"y\": [0.0, null, null, null, null, null, null], \"type\": \"scatter\", \"uid\": \"404900a3-dbfd-11e8-8ddb-a41f72875c19\"}, {\"line\": {\"dash\": \"longdashdot\"}, \"name\": \"\\u6682\\u505c\\u9879\\u76ee\\u6570(\\u5468\\u6768)\", \"x\": [\"10-4\", \"8-3\", \"8-4\", \"9-1\", \"9-2\", \"9-3\", \"9-4\"], \"y\": [0.0, 1.0, 1.0, 1.0, 1.0, 1.0, 1.0], \"type\": \"scatter\", \"uid\": \"404900a4-dbfd-11e8-8ddb-a41f72875c19\"}, {\"line\": {\"dash\": \"solid\"}, \"name\": \"\\u6682\\u505c\\u9879\\u76ee\\u6570(\\u6bb5\\u5229\\u5f3a)\", \"x\": [\"10-4\", \"8-3\", \"8-4\", \"9-1\", \"9-2\", \"9-3\", \"9-4\"], \"y\": [null, null, null, null, null, null, 0.0], \"type\": \"scatter\", \"uid\": \"404900a5-dbfd-11e8-8ddb-a41f72875c19\"}, {\"line\": {\"dash\": \"dot\"}, \"name\": \"\\u6682\\u505c\\u9879\\u76ee\\u6570(\\u8d75\\u73a5)\", \"x\": [\"10-4\", \"8-3\", \"8-4\", \"9-1\", \"9-2\", \"9-3\", \"9-4\"], \"y\": [0.0, 0.0, 0.0, 1.0, 1.0, 1.0, 0.0], \"type\": \"scatter\", \"uid\": \"404900a6-dbfd-11e8-8ddb-a41f72875c19\"}, {\"line\": {\"dash\": \"dash\"}, \"name\": \"\\u6682\\u505c\\u9879\\u76ee\\u6570(\\u51b7\\u96ea)\", \"x\": [\"10-4\", \"8-3\", \"8-4\", \"9-1\", \"9-2\", \"9-3\", \"9-4\"], \"y\": [0.0, null, null, null, null, null, null], \"type\": \"scatter\", \"uid\": \"404900a7-dbfd-11e8-8ddb-a41f72875c19\"}, {\"line\": {\"dash\": \"longdash\"}, \"name\": \"\\u6682\\u505c\\u9879\\u76ee\\u6570(\\u51af\\u656c\\u5ca9)\", \"x\": [\"10-4\", \"8-3\", \"8-4\", \"9-1\", \"9-2\", \"9-3\", \"9-4\"], \"y\": [0.0, null, null, null, null, null, null], \"type\": \"scatter\", \"uid\": \"404900a8-dbfd-11e8-8ddb-a41f72875c19\"}, {\"line\": {\"dash\": \"dashdot\"}, \"name\": \"\\u6682\\u505c\\u9879\\u76ee\\u6570(\\u59da\\u76df\\u6210)\", \"x\": [\"10-4\", \"8-3\", \"8-4\", \"9-1\", \"9-2\", \"9-3\", \"9-4\"], \"y\": [0.0, 0.0, 0.0, 0.0, 0.0, 12.0, 12.0], \"type\": \"scatter\", \"uid\": \"404900a9-dbfd-11e8-8ddb-a41f72875c19\"}, {\"line\": {\"dash\": \"longdashdot\"}, \"name\": \"\\u6682\\u505c\\u9879\\u76ee\\u6570(\\u674e\\u534e\\u4e91)\", \"x\": [\"10-4\", \"8-3\", \"8-4\", \"9-1\", \"9-2\", \"9-3\", \"9-4\"], \"y\": [0.0, 0.0, 0.0, 0.0, 0.0, 3.0, null], \"type\": \"scatter\", \"uid\": \"404900aa-dbfd-11e8-8ddb-a41f72875c19\"}, {\"line\": {\"dash\": \"solid\"}, \"name\": \"\\u6682\\u505c\\u9879\\u76ee\\u6570(\\u9648\\u9e4f\\u71d5)\", \"x\": [\"10-4\", \"8-3\", \"8-4\", \"9-1\", \"9-2\", \"9-3\", \"9-4\"], \"y\": [0.0, null, null, null, null, null, null], \"type\": \"scatter\", \"uid\": \"404900ab-dbfd-11e8-8ddb-a41f72875c19\"}, {\"line\": {\"dash\": \"dot\"}, \"name\": \"\\u6682\\u505c\\u9879\\u76ee\\u6570(\\u5218\\u6167\\u73b2)\", \"x\": [\"10-4\", \"8-3\", \"8-4\", \"9-1\", \"9-2\", \"9-3\", \"9-4\"], \"y\": [null, 2.0, 2.0, 4.0, null, null, null], \"type\": \"scatter\", \"uid\": \"404900ac-dbfd-11e8-8ddb-a41f72875c19\"}, {\"line\": {\"dash\": \"dash\"}, \"name\": \"\\u6682\\u505c\\u9879\\u76ee\\u6570(\\u6c88\\u6069\\u60e0)\", \"x\": [\"10-4\", \"8-3\", \"8-4\", \"9-1\", \"9-2\", \"9-3\", \"9-4\"], \"y\": [0.0, null, null, null, null, null, null], \"type\": \"scatter\", \"uid\": \"404900ad-dbfd-11e8-8ddb-a41f72875c19\"}, {\"line\": {\"dash\": \"longdash\"}, \"name\": \"\\u6682\\u505c\\u9879\\u76ee\\u6570(\\u6797\\u6587\\u6587)\", \"x\": [\"10-4\", \"8-3\", \"8-4\", \"9-1\", \"9-2\", \"9-3\", \"9-4\"], \"y\": [0.0, null, null, null, null, null, null], \"type\": \"scatter\", \"uid\": \"404900ae-dbfd-11e8-8ddb-a41f72875c19\"}, {\"line\": {\"dash\": \"dashdot\"}, \"name\": \"\\u6682\\u505c\\u9879\\u76ee\\u6570(\\u8c22\\u5fb7\\u5065)\", \"x\": [\"10-4\", \"8-3\", \"8-4\", \"9-1\", \"9-2\", \"9-3\", \"9-4\"], \"y\": [0.0, 0.0, 0.0, null, 0.0, 0.0, 0.0], \"type\": \"scatter\", \"uid\": \"404900af-dbfd-11e8-8ddb-a41f72875c19\"}, {\"line\": {\"dash\": \"longdashdot\"}, \"name\": \"\\u6682\\u505c\\u9879\\u76ee\\u6570(\\u5218\\u6c5f)\", \"x\": [\"10-4\", \"8-3\", \"8-4\", \"9-1\", \"9-2\", \"9-3\", \"9-4\"], \"y\": [0.0, 0.0, 0.0, 0.0, 1.0, 0.0, 0.0], \"type\": \"scatter\", \"uid\": \"404900b0-dbfd-11e8-8ddb-a41f72875c19\"}, {\"line\": {\"dash\": \"solid\"}, \"name\": \"\\u6682\\u505c\\u9879\\u76ee\\u6570(\\u738b\\u7ea2)\", \"x\": [\"10-4\", \"8-3\", \"8-4\", \"9-1\", \"9-2\", \"9-3\", \"9-4\"], \"y\": [0.0, null, null, null, null, null, null], \"type\": \"scatter\", \"uid\": \"404900b1-dbfd-11e8-8ddb-a41f72875c19\"}, {\"line\": {\"dash\": \"dot\"}, \"name\": \"\\u6682\\u505c\\u9879\\u76ee\\u6570(\\u674e\\u5e86\\u539f)\", \"x\": [\"10-4\", \"8-3\", \"8-4\", \"9-1\", \"9-2\", \"9-3\", \"9-4\"], \"y\": [0.0, 0.0, 0.0, 0.0, 0.0, 0.0, null], \"type\": \"scatter\", \"uid\": \"404900b2-dbfd-11e8-8ddb-a41f72875c19\"}, {\"line\": {\"dash\": \"dash\"}, \"name\": \"\\u6682\\u505c\\u9879\\u76ee\\u6570(\\u9a6c\\u6f47)\", \"x\": [\"10-4\", \"8-3\", \"8-4\", \"9-1\", \"9-2\", \"9-3\", \"9-4\"], \"y\": [0.0, 0.0, 0.0, 0.0, 0.0, 0.0, 0.0], \"type\": \"scatter\", \"uid\": \"404900b3-dbfd-11e8-8ddb-a41f72875c19\"}, {\"line\": {\"dash\": \"longdash\"}, \"name\": \"\\u6682\\u505c\\u9879\\u76ee\\u6570(\\u5360\\u4f1f)\", \"x\": [\"10-4\", \"8-3\", \"8-4\", \"9-1\", \"9-2\", \"9-3\", \"9-4\"], \"y\": [0.0, 0.0, 0.0, 0.0, 0.0, 0.0, 0.0], \"type\": \"scatter\", \"uid\": \"404900b4-dbfd-11e8-8ddb-a41f72875c19\"}, {\"line\": {\"dash\": \"dashdot\"}, \"name\": \"\\u6682\\u505c\\u9879\\u76ee\\u6570(\\u5b8b\\u8fce\\u6960)\", \"x\": [\"10-4\", \"8-3\", \"8-4\", \"9-1\", \"9-2\", \"9-3\", \"9-4\"], \"y\": [null, 0.0, 0.0, 0.0, null, null, null], \"type\": \"scatter\", \"uid\": \"404900b5-dbfd-11e8-8ddb-a41f72875c19\"}, {\"line\": {\"dash\": \"longdashdot\"}, \"name\": \"\\u6682\\u505c\\u9879\\u76ee\\u6570(\\u8303\\u65ed\\u5b81)\", \"x\": [\"10-4\", \"8-3\", \"8-4\", \"9-1\", \"9-2\", \"9-3\", \"9-4\"], \"y\": [0.0, 0.0, 0.0, 0.0, 0.0, 0.0, 0.0], \"type\": \"scatter\", \"uid\": \"404900b6-dbfd-11e8-8ddb-a41f72875c19\"}, {\"line\": {\"dash\": \"solid\"}, \"name\": \"\\u6682\\u505c\\u9879\\u76ee\\u6570(\\u5c48\\u6602)\", \"x\": [\"10-4\", \"8-3\", \"8-4\", \"9-1\", \"9-2\", \"9-3\", \"9-4\"], \"y\": [0.0, null, null, null, null, null, null], \"type\": \"scatter\", \"uid\": \"404900b7-dbfd-11e8-8ddb-a41f72875c19\"}, {\"line\": {\"dash\": \"dot\"}, \"name\": \"\\u6682\\u505c\\u9879\\u76ee\\u6570(\\u5f20\\u5b88\\u4f1f)\", \"x\": [\"10-4\", \"8-3\", \"8-4\", \"9-1\", \"9-2\", \"9-3\", \"9-4\"], \"y\": [0.0, 0.0, 0.0, 0.0, 0.0, 0.0, 0.0], \"type\": \"scatter\", \"uid\": \"404900b8-dbfd-11e8-8ddb-a41f72875c19\"}, {\"line\": {\"dash\": \"dash\"}, \"name\": \"\\u6682\\u505c\\u9879\\u76ee\\u6570(\\u5c01\\u5f66\\u6770)\", \"x\": [\"10-4\", \"8-3\", \"8-4\", \"9-1\", \"9-2\", \"9-3\", \"9-4\"], \"y\": [0.0, 1.0, 1.0, 1.0, 1.0, 0.0, 2.0], \"type\": \"scatter\", \"uid\": \"404900b9-dbfd-11e8-8ddb-a41f72875c19\"}, {\"line\": {\"dash\": \"longdash\"}, \"name\": \"\\u6682\\u505c\\u9879\\u76ee\\u6570(\\u5f20\\u60a6)\", \"x\": [\"10-4\", \"8-3\", \"8-4\", \"9-1\", \"9-2\", \"9-3\", \"9-4\"], \"y\": [0.0, null, null, null, null, null, null], \"type\": \"scatter\", \"uid\": \"404900ba-dbfd-11e8-8ddb-a41f72875c19\"}, {\"line\": {\"dash\": \"dashdot\"}, \"name\": \"\\u6682\\u505c\\u9879\\u76ee\\u6570(\\u4e8e\\u6167)\", \"x\": [\"10-4\", \"8-3\", \"8-4\", \"9-1\", \"9-2\", \"9-3\", \"9-4\"], \"y\": [0.0, 0.0, 0.0, 0.0, 0.0, 0.0, 0.0], \"type\": \"scatter\", \"uid\": \"404900bb-dbfd-11e8-8ddb-a41f72875c19\"}, {\"line\": {\"dash\": \"solid\"}, \"name\": \"\\u5982\\u671f\\u5b8c\\u6210\\u9879\\u76ee\\u6570(\\u97e9\\u5c11\\u6000)\", \"x\": [\"10-4\", \"8-3\", \"8-4\", \"9-1\", \"9-2\", \"9-3\", \"9-4\"], \"y\": [0.0, 5.0, 5.0, 6.0, 5.0, 5.0, null], \"type\": \"scatter\", \"uid\": \"404900bc-dbfd-11e8-8ddb-a41f72875c19\"}, {\"line\": {\"dash\": \"dot\"}, \"name\": \"\\u5982\\u671f\\u5b8c\\u6210\\u9879\\u76ee\\u6570(\\u82cf\\u5f66\\u52cb)\", \"x\": [\"10-4\", \"8-3\", \"8-4\", \"9-1\", \"9-2\", \"9-3\", \"9-4\"], \"y\": [0.0, 20.0, 21.0, 22.0, 25.0, 25.0, null], \"type\": \"scatter\", \"uid\": \"404900bd-dbfd-11e8-8ddb-a41f72875c19\"}, {\"line\": {\"dash\": \"dash\"}, \"name\": \"\\u5982\\u671f\\u5b8c\\u6210\\u9879\\u76ee\\u6570(\\u5b5f\\u660a)\", \"x\": [\"10-4\", \"8-3\", \"8-4\", \"9-1\", \"9-2\", \"9-3\", \"9-4\"], \"y\": [0.0, 38.0, 38.0, 38.0, 39.0, 40.0, 40.0], \"type\": \"scatter\", \"uid\": \"404900be-dbfd-11e8-8ddb-a41f72875c19\"}, {\"line\": {\"dash\": \"longdash\"}, \"name\": \"\\u5982\\u671f\\u5b8c\\u6210\\u9879\\u76ee\\u6570(\\u4efb\\u96ea)\", \"x\": [\"10-4\", \"8-3\", \"8-4\", \"9-1\", \"9-2\", \"9-3\", \"9-4\"], \"y\": [0.0, null, 8.0, 8.0, 8.0, 8.0, 8.0], \"type\": \"scatter\", \"uid\": \"404900bf-dbfd-11e8-8ddb-a41f72875c19\"}, {\"line\": {\"dash\": \"dashdot\"}, \"name\": \"\\u5982\\u671f\\u5b8c\\u6210\\u9879\\u76ee\\u6570(\\u6d82\\u6210\\u82b3)\", \"x\": [\"10-4\", \"8-3\", \"8-4\", \"9-1\", \"9-2\", \"9-3\", \"9-4\"], \"y\": [0.0, null, null, null, null, null, null], \"type\": \"scatter\", \"uid\": \"404900c0-dbfd-11e8-8ddb-a41f72875c19\"}, {\"line\": {\"dash\": \"longdashdot\"}, \"name\": \"\\u5982\\u671f\\u5b8c\\u6210\\u9879\\u76ee\\u6570(\\u4e8e\\u52c7\\u4e00)\", \"x\": [\"10-4\", \"8-3\", \"8-4\", \"9-1\", \"9-2\", \"9-3\", \"9-4\"], \"y\": [0.0, 0.0, 0.0, 0.0, 0.0, 0.0, 0.0], \"type\": \"scatter\", \"uid\": \"404900c1-dbfd-11e8-8ddb-a41f72875c19\"}, {\"line\": {\"dash\": \"solid\"}, \"name\": \"\\u5982\\u671f\\u5b8c\\u6210\\u9879\\u76ee\\u6570(\\u8def\\u6167\\u840d)\", \"x\": [\"10-4\", \"8-3\", \"8-4\", \"9-1\", \"9-2\", \"9-3\", \"9-4\"], \"y\": [0.0, 0.0, 0.0, 0.0, 0.0, 0.0, null], \"type\": \"scatter\", \"uid\": \"404900c2-dbfd-11e8-8ddb-a41f72875c19\"}, {\"line\": {\"dash\": \"dot\"}, \"name\": \"\\u5982\\u671f\\u5b8c\\u6210\\u9879\\u76ee\\u6570(\\u6768\\u4f1f\\u98de)\", \"x\": [\"10-4\", \"8-3\", \"8-4\", \"9-1\", \"9-2\", \"9-3\", \"9-4\"], \"y\": [0.0, 2.0, 2.0, 4.0, 4.0, 4.0, 4.0], \"type\": \"scatter\", \"uid\": \"404900c3-dbfd-11e8-8ddb-a41f72875c19\"}, {\"line\": {\"dash\": \"dash\"}, \"name\": \"\\u5982\\u671f\\u5b8c\\u6210\\u9879\\u76ee\\u6570(\\u6636\\u5409\\u9633)\", \"x\": [\"10-4\", \"8-3\", \"8-4\", \"9-1\", \"9-2\", \"9-3\", \"9-4\"], \"y\": [0.0, null, null, null, null, null, null], \"type\": \"scatter\", \"uid\": \"404900c4-dbfd-11e8-8ddb-a41f72875c19\"}, {\"line\": {\"dash\": \"longdash\"}, \"name\": \"\\u5982\\u671f\\u5b8c\\u6210\\u9879\\u76ee\\u6570(\\u738b\\u5b81)\", \"x\": [\"10-4\", \"8-3\", \"8-4\", \"9-1\", \"9-2\", \"9-3\", \"9-4\"], \"y\": [null, 0.0, 0.0, 0.0, null, null, null], \"type\": \"scatter\", \"uid\": \"404900c5-dbfd-11e8-8ddb-a41f72875c19\"}, {\"line\": {\"dash\": \"dashdot\"}, \"name\": \"\\u5982\\u671f\\u5b8c\\u6210\\u9879\\u76ee\\u6570(\\u8f66\\u5929\\u680b)\", \"x\": [\"10-4\", \"8-3\", \"8-4\", \"9-1\", \"9-2\", \"9-3\", \"9-4\"], \"y\": [0.0, null, null, null, null, null, null], \"type\": \"scatter\", \"uid\": \"404900c6-dbfd-11e8-8ddb-a41f72875c19\"}, {\"line\": {\"dash\": \"longdashdot\"}, \"name\": \"\\u5982\\u671f\\u5b8c\\u6210\\u9879\\u76ee\\u6570(\\u5468\\u6768)\", \"x\": [\"10-4\", \"8-3\", \"8-4\", \"9-1\", \"9-2\", \"9-3\", \"9-4\"], \"y\": [0.0, 28.0, 28.0, 28.0, 29.0, 32.0, 32.0], \"type\": \"scatter\", \"uid\": \"404900c7-dbfd-11e8-8ddb-a41f72875c19\"}, {\"line\": {\"dash\": \"solid\"}, \"name\": \"\\u5982\\u671f\\u5b8c\\u6210\\u9879\\u76ee\\u6570(\\u6bb5\\u5229\\u5f3a)\", \"x\": [\"10-4\", \"8-3\", \"8-4\", \"9-1\", \"9-2\", \"9-3\", \"9-4\"], \"y\": [null, null, null, null, null, null, 6.0], \"type\": \"scatter\", \"uid\": \"404900c8-dbfd-11e8-8ddb-a41f72875c19\"}, {\"line\": {\"dash\": \"dot\"}, \"name\": \"\\u5982\\u671f\\u5b8c\\u6210\\u9879\\u76ee\\u6570(\\u8d75\\u73a5)\", \"x\": [\"10-4\", \"8-3\", \"8-4\", \"9-1\", \"9-2\", \"9-3\", \"9-4\"], \"y\": [0.0, 20.0, 21.0, 20.0, 21.0, 21.0, 21.0], \"type\": \"scatter\", \"uid\": \"404900c9-dbfd-11e8-8ddb-a41f72875c19\"}, {\"line\": {\"dash\": \"dash\"}, \"name\": \"\\u5982\\u671f\\u5b8c\\u6210\\u9879\\u76ee\\u6570(\\u51b7\\u96ea)\", \"x\": [\"10-4\", \"8-3\", \"8-4\", \"9-1\", \"9-2\", \"9-3\", \"9-4\"], \"y\": [0.0, null, null, null, null, null, null], \"type\": \"scatter\", \"uid\": \"404900ca-dbfd-11e8-8ddb-a41f72875c19\"}, {\"line\": {\"dash\": \"longdash\"}, \"name\": \"\\u5982\\u671f\\u5b8c\\u6210\\u9879\\u76ee\\u6570(\\u51af\\u656c\\u5ca9)\", \"x\": [\"10-4\", \"8-3\", \"8-4\", \"9-1\", \"9-2\", \"9-3\", \"9-4\"], \"y\": [0.0, null, null, null, null, null, null], \"type\": \"scatter\", \"uid\": \"404900cb-dbfd-11e8-8ddb-a41f72875c19\"}, {\"line\": {\"dash\": \"dashdot\"}, \"name\": \"\\u5982\\u671f\\u5b8c\\u6210\\u9879\\u76ee\\u6570(\\u59da\\u76df\\u6210)\", \"x\": [\"10-4\", \"8-3\", \"8-4\", \"9-1\", \"9-2\", \"9-3\", \"9-4\"], \"y\": [0.0, 3.0, 3.0, 3.0, 3.0, 3.0, 3.0], \"type\": \"scatter\", \"uid\": \"404900cc-dbfd-11e8-8ddb-a41f72875c19\"}, {\"line\": {\"dash\": \"longdashdot\"}, \"name\": \"\\u5982\\u671f\\u5b8c\\u6210\\u9879\\u76ee\\u6570(\\u674e\\u534e\\u4e91)\", \"x\": [\"10-4\", \"8-3\", \"8-4\", \"9-1\", \"9-2\", \"9-3\", \"9-4\"], \"y\": [0.0, 5.0, 5.0, 5.0, 5.0, 22.0, null], \"type\": \"scatter\", \"uid\": \"404900cd-dbfd-11e8-8ddb-a41f72875c19\"}, {\"line\": {\"dash\": \"solid\"}, \"name\": \"\\u5982\\u671f\\u5b8c\\u6210\\u9879\\u76ee\\u6570(\\u9648\\u9e4f\\u71d5)\", \"x\": [\"10-4\", \"8-3\", \"8-4\", \"9-1\", \"9-2\", \"9-3\", \"9-4\"], \"y\": [0.0, null, null, null, null, null, null], \"type\": \"scatter\", \"uid\": \"404900ce-dbfd-11e8-8ddb-a41f72875c19\"}, {\"line\": {\"dash\": \"dot\"}, \"name\": \"\\u5982\\u671f\\u5b8c\\u6210\\u9879\\u76ee\\u6570(\\u5218\\u6167\\u73b2)\", \"x\": [\"10-4\", \"8-3\", \"8-4\", \"9-1\", \"9-2\", \"9-3\", \"9-4\"], \"y\": [null, 3.0, 3.0, 3.0, null, null, null], \"type\": \"scatter\", \"uid\": \"404900cf-dbfd-11e8-8ddb-a41f72875c19\"}, {\"line\": {\"dash\": \"dash\"}, \"name\": \"\\u5982\\u671f\\u5b8c\\u6210\\u9879\\u76ee\\u6570(\\u6c88\\u6069\\u60e0)\", \"x\": [\"10-4\", \"8-3\", \"8-4\", \"9-1\", \"9-2\", \"9-3\", \"9-4\"], \"y\": [0.0, null, null, null, null, null, null], \"type\": \"scatter\", \"uid\": \"404900d0-dbfd-11e8-8ddb-a41f72875c19\"}, {\"line\": {\"dash\": \"longdash\"}, \"name\": \"\\u5982\\u671f\\u5b8c\\u6210\\u9879\\u76ee\\u6570(\\u6797\\u6587\\u6587)\", \"x\": [\"10-4\", \"8-3\", \"8-4\", \"9-1\", \"9-2\", \"9-3\", \"9-4\"], \"y\": [0.0, null, null, null, null, null, null], \"type\": \"scatter\", \"uid\": \"404900d1-dbfd-11e8-8ddb-a41f72875c19\"}, {\"line\": {\"dash\": \"dashdot\"}, \"name\": \"\\u5982\\u671f\\u5b8c\\u6210\\u9879\\u76ee\\u6570(\\u8c22\\u5fb7\\u5065)\", \"x\": [\"10-4\", \"8-3\", \"8-4\", \"9-1\", \"9-2\", \"9-3\", \"9-4\"], \"y\": [0.0, 2.0, 2.0, null, 6.0, 6.0, 6.0], \"type\": \"scatter\", \"uid\": \"404900d2-dbfd-11e8-8ddb-a41f72875c19\"}, {\"line\": {\"dash\": \"longdashdot\"}, \"name\": \"\\u5982\\u671f\\u5b8c\\u6210\\u9879\\u76ee\\u6570(\\u5218\\u6c5f)\", \"x\": [\"10-4\", \"8-3\", \"8-4\", \"9-1\", \"9-2\", \"9-3\", \"9-4\"], \"y\": [0.0, 0.0, 0.0, 0.0, 0.0, 0.0, 0.0], \"type\": \"scatter\", \"uid\": \"404900d3-dbfd-11e8-8ddb-a41f72875c19\"}, {\"line\": {\"dash\": \"solid\"}, \"name\": \"\\u5982\\u671f\\u5b8c\\u6210\\u9879\\u76ee\\u6570(\\u738b\\u7ea2)\", \"x\": [\"10-4\", \"8-3\", \"8-4\", \"9-1\", \"9-2\", \"9-3\", \"9-4\"], \"y\": [0.0, null, null, null, null, null, null], \"type\": \"scatter\", \"uid\": \"404900d4-dbfd-11e8-8ddb-a41f72875c19\"}, {\"line\": {\"dash\": \"dot\"}, \"name\": \"\\u5982\\u671f\\u5b8c\\u6210\\u9879\\u76ee\\u6570(\\u674e\\u5e86\\u539f)\", \"x\": [\"10-4\", \"8-3\", \"8-4\", \"9-1\", \"9-2\", \"9-3\", \"9-4\"], \"y\": [0.0, 0.0, 0.0, 0.0, 0.0, 0.0, null], \"type\": \"scatter\", \"uid\": \"404900d5-dbfd-11e8-8ddb-a41f72875c19\"}, {\"line\": {\"dash\": \"dash\"}, \"name\": \"\\u5982\\u671f\\u5b8c\\u6210\\u9879\\u76ee\\u6570(\\u9a6c\\u6f47)\", \"x\": [\"10-4\", \"8-3\", \"8-4\", \"9-1\", \"9-2\", \"9-3\", \"9-4\"], \"y\": [0.0, 0.0, 0.0, 0.0, 0.0, 0.0, 0.0], \"type\": \"scatter\", \"uid\": \"404900d6-dbfd-11e8-8ddb-a41f72875c19\"}, {\"line\": {\"dash\": \"longdash\"}, \"name\": \"\\u5982\\u671f\\u5b8c\\u6210\\u9879\\u76ee\\u6570(\\u5360\\u4f1f)\", \"x\": [\"10-4\", \"8-3\", \"8-4\", \"9-1\", \"9-2\", \"9-3\", \"9-4\"], \"y\": [0.0, 12.0, 10.0, 10.0, 10.0, 13.0, 13.0], \"type\": \"scatter\", \"uid\": \"404900d7-dbfd-11e8-8ddb-a41f72875c19\"}, {\"line\": {\"dash\": \"dashdot\"}, \"name\": \"\\u5982\\u671f\\u5b8c\\u6210\\u9879\\u76ee\\u6570(\\u5b8b\\u8fce\\u6960)\", \"x\": [\"10-4\", \"8-3\", \"8-4\", \"9-1\", \"9-2\", \"9-3\", \"9-4\"], \"y\": [null, 0.0, 0.0, 0.0, null, null, null], \"type\": \"scatter\", \"uid\": \"404900d8-dbfd-11e8-8ddb-a41f72875c19\"}, {\"line\": {\"dash\": \"longdashdot\"}, \"name\": \"\\u5982\\u671f\\u5b8c\\u6210\\u9879\\u76ee\\u6570(\\u8303\\u65ed\\u5b81)\", \"x\": [\"10-4\", \"8-3\", \"8-4\", \"9-1\", \"9-2\", \"9-3\", \"9-4\"], \"y\": [0.0, 16.0, 23.0, 27.0, 7.0, 5.0, 20.0], \"type\": \"scatter\", \"uid\": \"404900d9-dbfd-11e8-8ddb-a41f72875c19\"}, {\"line\": {\"dash\": \"solid\"}, \"name\": \"\\u5982\\u671f\\u5b8c\\u6210\\u9879\\u76ee\\u6570(\\u5c48\\u6602)\", \"x\": [\"10-4\", \"8-3\", \"8-4\", \"9-1\", \"9-2\", \"9-3\", \"9-4\"], \"y\": [0.0, null, null, null, null, null, null], \"type\": \"scatter\", \"uid\": \"404900da-dbfd-11e8-8ddb-a41f72875c19\"}, {\"line\": {\"dash\": \"dot\"}, \"name\": \"\\u5982\\u671f\\u5b8c\\u6210\\u9879\\u76ee\\u6570(\\u5f20\\u5b88\\u4f1f)\", \"x\": [\"10-4\", \"8-3\", \"8-4\", \"9-1\", \"9-2\", \"9-3\", \"9-4\"], \"y\": [0.0, 13.0, 16.0, 18.0, 20.0, 20.0, 21.0], \"type\": \"scatter\", \"uid\": \"404900db-dbfd-11e8-8ddb-a41f72875c19\"}, {\"line\": {\"dash\": \"dash\"}, \"name\": \"\\u5982\\u671f\\u5b8c\\u6210\\u9879\\u76ee\\u6570(\\u5c01\\u5f66\\u6770)\", \"x\": [\"10-4\", \"8-3\", \"8-4\", \"9-1\", \"9-2\", \"9-3\", \"9-4\"], \"y\": [0.0, 0.0, 0.0, 2.0, 2.0, 2.0, 3.0], \"type\": \"scatter\", \"uid\": \"404900dc-dbfd-11e8-8ddb-a41f72875c19\"}, {\"line\": {\"dash\": \"longdash\"}, \"name\": \"\\u5982\\u671f\\u5b8c\\u6210\\u9879\\u76ee\\u6570(\\u5f20\\u60a6)\", \"x\": [\"10-4\", \"8-3\", \"8-4\", \"9-1\", \"9-2\", \"9-3\", \"9-4\"], \"y\": [0.0, null, null, null, null, null, null], \"type\": \"scatter\", \"uid\": \"404900dd-dbfd-11e8-8ddb-a41f72875c19\"}, {\"line\": {\"dash\": \"dashdot\"}, \"name\": \"\\u5982\\u671f\\u5b8c\\u6210\\u9879\\u76ee\\u6570(\\u4e8e\\u6167)\", \"x\": [\"10-4\", \"8-3\", \"8-4\", \"9-1\", \"9-2\", \"9-3\", \"9-4\"], \"y\": [0.0, 32.0, 33.0, 34.0, 35.0, 35.0, 35.0], \"type\": \"scatter\", \"uid\": \"404900de-dbfd-11e8-8ddb-a41f72875c19\"}, {\"line\": {\"dash\": \"solid\"}, \"name\": \"\\u5ef6\\u671f\\u9879\\u76ee\\u6570(\\u97e9\\u5c11\\u6000)\", \"x\": [\"10-4\", \"8-3\", \"8-4\", \"9-1\", \"9-2\", \"9-3\", \"9-4\"], \"y\": [0.0, 0.0, 0.0, 0.0, 0.0, 0.0, null], \"type\": \"scatter\", \"uid\": \"404900df-dbfd-11e8-8ddb-a41f72875c19\"}, {\"line\": {\"dash\": \"dot\"}, \"name\": \"\\u5ef6\\u671f\\u9879\\u76ee\\u6570(\\u82cf\\u5f66\\u52cb)\", \"x\": [\"10-4\", \"8-3\", \"8-4\", \"9-1\", \"9-2\", \"9-3\", \"9-4\"], \"y\": [0.0, 0.0, 0.0, 0.0, 0.0, 0.0, null], \"type\": \"scatter\", \"uid\": \"404900e0-dbfd-11e8-8ddb-a41f72875c19\"}, {\"line\": {\"dash\": \"dash\"}, \"name\": \"\\u5ef6\\u671f\\u9879\\u76ee\\u6570(\\u5b5f\\u660a)\", \"x\": [\"10-4\", \"8-3\", \"8-4\", \"9-1\", \"9-2\", \"9-3\", \"9-4\"], \"y\": [0.0, 0.0, 0.0, 0.0, 0.0, 0.0, 0.0], \"type\": \"scatter\", \"uid\": \"404900e1-dbfd-11e8-8ddb-a41f72875c19\"}, {\"line\": {\"dash\": \"longdash\"}, \"name\": \"\\u5ef6\\u671f\\u9879\\u76ee\\u6570(\\u4efb\\u96ea)\", \"x\": [\"10-4\", \"8-3\", \"8-4\", \"9-1\", \"9-2\", \"9-3\", \"9-4\"], \"y\": [2.0, null, 3.0, 7.0, 7.0, 4.0, 8.0], \"type\": \"scatter\", \"uid\": \"404900e2-dbfd-11e8-8ddb-a41f72875c19\"}, {\"line\": {\"dash\": \"dashdot\"}, \"name\": \"\\u5ef6\\u671f\\u9879\\u76ee\\u6570(\\u6d82\\u6210\\u82b3)\", \"x\": [\"10-4\", \"8-3\", \"8-4\", \"9-1\", \"9-2\", \"9-3\", \"9-4\"], \"y\": [0.0, null, null, null, null, null, null], \"type\": \"scatter\", \"uid\": \"404900e3-dbfd-11e8-8ddb-a41f72875c19\"}, {\"line\": {\"dash\": \"longdashdot\"}, \"name\": \"\\u5ef6\\u671f\\u9879\\u76ee\\u6570(\\u4e8e\\u52c7\\u4e00)\", \"x\": [\"10-4\", \"8-3\", \"8-4\", \"9-1\", \"9-2\", \"9-3\", \"9-4\"], \"y\": [0.0, 0.0, 0.0, 0.0, 0.0, 0.0, 0.0], \"type\": \"scatter\", \"uid\": \"404900e4-dbfd-11e8-8ddb-a41f72875c19\"}, {\"line\": {\"dash\": \"solid\"}, \"name\": \"\\u5ef6\\u671f\\u9879\\u76ee\\u6570(\\u8def\\u6167\\u840d)\", \"x\": [\"10-4\", \"8-3\", \"8-4\", \"9-1\", \"9-2\", \"9-3\", \"9-4\"], \"y\": [0.0, 0.0, 0.0, 0.0, 0.0, 0.0, null], \"type\": \"scatter\", \"uid\": \"404900e5-dbfd-11e8-8ddb-a41f72875c19\"}, {\"line\": {\"dash\": \"dot\"}, \"name\": \"\\u5ef6\\u671f\\u9879\\u76ee\\u6570(\\u6768\\u4f1f\\u98de)\", \"x\": [\"10-4\", \"8-3\", \"8-4\", \"9-1\", \"9-2\", \"9-3\", \"9-4\"], \"y\": [1.0, 0.0, 0.0, 0.0, 0.0, 0.0, 0.0], \"type\": \"scatter\", \"uid\": \"404900e6-dbfd-11e8-8ddb-a41f72875c19\"}, {\"line\": {\"dash\": \"dash\"}, \"name\": \"\\u5ef6\\u671f\\u9879\\u76ee\\u6570(\\u6636\\u5409\\u9633)\", \"x\": [\"10-4\", \"8-3\", \"8-4\", \"9-1\", \"9-2\", \"9-3\", \"9-4\"], \"y\": [0.0, null, null, null, null, null, null], \"type\": \"scatter\", \"uid\": \"404900e7-dbfd-11e8-8ddb-a41f72875c19\"}, {\"line\": {\"dash\": \"longdash\"}, \"name\": \"\\u5ef6\\u671f\\u9879\\u76ee\\u6570(\\u738b\\u5b81)\", \"x\": [\"10-4\", \"8-3\", \"8-4\", \"9-1\", \"9-2\", \"9-3\", \"9-4\"], \"y\": [null, 0.0, 0.0, 0.0, null, null, null], \"type\": \"scatter\", \"uid\": \"404900e8-dbfd-11e8-8ddb-a41f72875c19\"}, {\"line\": {\"dash\": \"dashdot\"}, \"name\": \"\\u5ef6\\u671f\\u9879\\u76ee\\u6570(\\u8f66\\u5929\\u680b)\", \"x\": [\"10-4\", \"8-3\", \"8-4\", \"9-1\", \"9-2\", \"9-3\", \"9-4\"], \"y\": [0.0, null, null, null, null, null, null], \"type\": \"scatter\", \"uid\": \"404900e9-dbfd-11e8-8ddb-a41f72875c19\"}, {\"line\": {\"dash\": \"longdashdot\"}, \"name\": \"\\u5ef6\\u671f\\u9879\\u76ee\\u6570(\\u5468\\u6768)\", \"x\": [\"10-4\", \"8-3\", \"8-4\", \"9-1\", \"9-2\", \"9-3\", \"9-4\"], \"y\": [0.0, 0.0, 0.0, 0.0, 0.0, 0.0, 0.0], \"type\": \"scatter\", \"uid\": \"404900ea-dbfd-11e8-8ddb-a41f72875c19\"}, {\"line\": {\"dash\": \"solid\"}, \"name\": \"\\u5ef6\\u671f\\u9879\\u76ee\\u6570(\\u6bb5\\u5229\\u5f3a)\", \"x\": [\"10-4\", \"8-3\", \"8-4\", \"9-1\", \"9-2\", \"9-3\", \"9-4\"], \"y\": [null, null, null, null, null, null, 0.0], \"type\": \"scatter\", \"uid\": \"404900eb-dbfd-11e8-8ddb-a41f72875c19\"}, {\"line\": {\"dash\": \"dot\"}, \"name\": \"\\u5ef6\\u671f\\u9879\\u76ee\\u6570(\\u8d75\\u73a5)\", \"x\": [\"10-4\", \"8-3\", \"8-4\", \"9-1\", \"9-2\", \"9-3\", \"9-4\"], \"y\": [0.0, 0.0, 0.0, 1.0, 1.0, 1.0, 0.0], \"type\": \"scatter\", \"uid\": \"404900ec-dbfd-11e8-8ddb-a41f72875c19\"}, {\"line\": {\"dash\": \"dash\"}, \"name\": \"\\u5ef6\\u671f\\u9879\\u76ee\\u6570(\\u51b7\\u96ea)\", \"x\": [\"10-4\", \"8-3\", \"8-4\", \"9-1\", \"9-2\", \"9-3\", \"9-4\"], \"y\": [0.0, null, null, null, null, null, null], \"type\": \"scatter\", \"uid\": \"404900ed-dbfd-11e8-8ddb-a41f72875c19\"}, {\"line\": {\"dash\": \"longdash\"}, \"name\": \"\\u5ef6\\u671f\\u9879\\u76ee\\u6570(\\u51af\\u656c\\u5ca9)\", \"x\": [\"10-4\", \"8-3\", \"8-4\", \"9-1\", \"9-2\", \"9-3\", \"9-4\"], \"y\": [0.0, null, null, null, null, null, null], \"type\": \"scatter\", \"uid\": \"404900ee-dbfd-11e8-8ddb-a41f72875c19\"}, {\"line\": {\"dash\": \"dashdot\"}, \"name\": \"\\u5ef6\\u671f\\u9879\\u76ee\\u6570(\\u59da\\u76df\\u6210)\", \"x\": [\"10-4\", \"8-3\", \"8-4\", \"9-1\", \"9-2\", \"9-3\", \"9-4\"], \"y\": [0.0, 0.0, 0.0, 0.0, 0.0, 0.0, 0.0], \"type\": \"scatter\", \"uid\": \"404900ef-dbfd-11e8-8ddb-a41f72875c19\"}, {\"line\": {\"dash\": \"longdashdot\"}, \"name\": \"\\u5ef6\\u671f\\u9879\\u76ee\\u6570(\\u674e\\u534e\\u4e91)\", \"x\": [\"10-4\", \"8-3\", \"8-4\", \"9-1\", \"9-2\", \"9-3\", \"9-4\"], \"y\": [2.0, 6.0, 6.0, 9.0, 9.0, 6.0, null], \"type\": \"scatter\", \"uid\": \"404900f0-dbfd-11e8-8ddb-a41f72875c19\"}, {\"line\": {\"dash\": \"solid\"}, \"name\": \"\\u5ef6\\u671f\\u9879\\u76ee\\u6570(\\u9648\\u9e4f\\u71d5)\", \"x\": [\"10-4\", \"8-3\", \"8-4\", \"9-1\", \"9-2\", \"9-3\", \"9-4\"], \"y\": [1.0, null, null, null, null, null, null], \"type\": \"scatter\", \"uid\": \"404900f1-dbfd-11e8-8ddb-a41f72875c19\"}, {\"line\": {\"dash\": \"dot\"}, \"name\": \"\\u5ef6\\u671f\\u9879\\u76ee\\u6570(\\u5218\\u6167\\u73b2)\", \"x\": [\"10-4\", \"8-3\", \"8-4\", \"9-1\", \"9-2\", \"9-3\", \"9-4\"], \"y\": [null, 0.0, 0.0, 0.0, null, null, null], \"type\": \"scatter\", \"uid\": \"404900f2-dbfd-11e8-8ddb-a41f72875c19\"}, {\"line\": {\"dash\": \"dash\"}, \"name\": \"\\u5ef6\\u671f\\u9879\\u76ee\\u6570(\\u6c88\\u6069\\u60e0)\", \"x\": [\"10-4\", \"8-3\", \"8-4\", \"9-1\", \"9-2\", \"9-3\", \"9-4\"], \"y\": [0.0, null, null, null, null, null, null], \"type\": \"scatter\", \"uid\": \"404900f3-dbfd-11e8-8ddb-a41f72875c19\"}, {\"line\": {\"dash\": \"longdash\"}, \"name\": \"\\u5ef6\\u671f\\u9879\\u76ee\\u6570(\\u6797\\u6587\\u6587)\", \"x\": [\"10-4\", \"8-3\", \"8-4\", \"9-1\", \"9-2\", \"9-3\", \"9-4\"], \"y\": [0.0, null, null, null, null, null, null], \"type\": \"scatter\", \"uid\": \"404900f4-dbfd-11e8-8ddb-a41f72875c19\"}, {\"line\": {\"dash\": \"dashdot\"}, \"name\": \"\\u5ef6\\u671f\\u9879\\u76ee\\u6570(\\u8c22\\u5fb7\\u5065)\", \"x\": [\"10-4\", \"8-3\", \"8-4\", \"9-1\", \"9-2\", \"9-3\", \"9-4\"], \"y\": [0.0, 0.0, 0.0, null, 0.0, 0.0, 0.0], \"type\": \"scatter\", \"uid\": \"404900f5-dbfd-11e8-8ddb-a41f72875c19\"}, {\"line\": {\"dash\": \"longdashdot\"}, \"name\": \"\\u5ef6\\u671f\\u9879\\u76ee\\u6570(\\u5218\\u6c5f)\", \"x\": [\"10-4\", \"8-3\", \"8-4\", \"9-1\", \"9-2\", \"9-3\", \"9-4\"], \"y\": [2.0, 0.0, 0.0, 0.0, 0.0, 0.0, 0.0], \"type\": \"scatter\", \"uid\": \"404900f6-dbfd-11e8-8ddb-a41f72875c19\"}, {\"line\": {\"dash\": \"solid\"}, \"name\": \"\\u5ef6\\u671f\\u9879\\u76ee\\u6570(\\u738b\\u7ea2)\", \"x\": [\"10-4\", \"8-3\", \"8-4\", \"9-1\", \"9-2\", \"9-3\", \"9-4\"], \"y\": [0.0, null, null, null, null, null, null], \"type\": \"scatter\", \"uid\": \"404900f7-dbfd-11e8-8ddb-a41f72875c19\"}, {\"line\": {\"dash\": \"dot\"}, \"name\": \"\\u5ef6\\u671f\\u9879\\u76ee\\u6570(\\u674e\\u5e86\\u539f)\", \"x\": [\"10-4\", \"8-3\", \"8-4\", \"9-1\", \"9-2\", \"9-3\", \"9-4\"], \"y\": [0.0, 0.0, 0.0, 0.0, 0.0, 0.0, null], \"type\": \"scatter\", \"uid\": \"404900f8-dbfd-11e8-8ddb-a41f72875c19\"}, {\"line\": {\"dash\": \"dash\"}, \"name\": \"\\u5ef6\\u671f\\u9879\\u76ee\\u6570(\\u9a6c\\u6f47)\", \"x\": [\"10-4\", \"8-3\", \"8-4\", \"9-1\", \"9-2\", \"9-3\", \"9-4\"], \"y\": [0.0, 1.0, 0.0, 0.0, 0.0, 0.0, 0.0], \"type\": \"scatter\", \"uid\": \"404900f9-dbfd-11e8-8ddb-a41f72875c19\"}, {\"line\": {\"dash\": \"longdash\"}, \"name\": \"\\u5ef6\\u671f\\u9879\\u76ee\\u6570(\\u5360\\u4f1f)\", \"x\": [\"10-4\", \"8-3\", \"8-4\", \"9-1\", \"9-2\", \"9-3\", \"9-4\"], \"y\": [3.0, 3.0, 3.0, 3.0, 3.0, 3.0, 3.0], \"type\": \"scatter\", \"uid\": \"404900fa-dbfd-11e8-8ddb-a41f72875c19\"}, {\"line\": {\"dash\": \"dashdot\"}, \"name\": \"\\u5ef6\\u671f\\u9879\\u76ee\\u6570(\\u5b8b\\u8fce\\u6960)\", \"x\": [\"10-4\", \"8-3\", \"8-4\", \"9-1\", \"9-2\", \"9-3\", \"9-4\"], \"y\": [null, 1.0, 1.0, 6.0, null, null, null], \"type\": \"scatter\", \"uid\": \"404900fb-dbfd-11e8-8ddb-a41f72875c19\"}, {\"line\": {\"dash\": \"longdashdot\"}, \"name\": \"\\u5ef6\\u671f\\u9879\\u76ee\\u6570(\\u8303\\u65ed\\u5b81)\", \"x\": [\"10-4\", \"8-3\", \"8-4\", \"9-1\", \"9-2\", \"9-3\", \"9-4\"], \"y\": [0.0, 0.0, 0.0, 0.0, 0.0, 0.0, 4.0], \"type\": \"scatter\", \"uid\": \"404900fc-dbfd-11e8-8ddb-a41f72875c19\"}, {\"line\": {\"dash\": \"solid\"}, \"name\": \"\\u5ef6\\u671f\\u9879\\u76ee\\u6570(\\u5c48\\u6602)\", \"x\": [\"10-4\", \"8-3\", \"8-4\", \"9-1\", \"9-2\", \"9-3\", \"9-4\"], \"y\": [0.0, null, null, null, null, null, null], \"type\": \"scatter\", \"uid\": \"404900fd-dbfd-11e8-8ddb-a41f72875c19\"}, {\"line\": {\"dash\": \"dot\"}, \"name\": \"\\u5ef6\\u671f\\u9879\\u76ee\\u6570(\\u5f20\\u5b88\\u4f1f)\", \"x\": [\"10-4\", \"8-3\", \"8-4\", \"9-1\", \"9-2\", \"9-3\", \"9-4\"], \"y\": [0.0, 0.0, 0.0, 0.0, 0.0, 0.0, 0.0], \"type\": \"scatter\", \"uid\": \"404900fe-dbfd-11e8-8ddb-a41f72875c19\"}, {\"line\": {\"dash\": \"dash\"}, \"name\": \"\\u5ef6\\u671f\\u9879\\u76ee\\u6570(\\u5c01\\u5f66\\u6770)\", \"x\": [\"10-4\", \"8-3\", \"8-4\", \"9-1\", \"9-2\", \"9-3\", \"9-4\"], \"y\": [1.0, 0.0, 0.0, 0.0, 0.0, 0.0, 1.0], \"type\": \"scatter\", \"uid\": \"404900ff-dbfd-11e8-8ddb-a41f72875c19\"}, {\"line\": {\"dash\": \"longdash\"}, \"name\": \"\\u5ef6\\u671f\\u9879\\u76ee\\u6570(\\u5f20\\u60a6)\", \"x\": [\"10-4\", \"8-3\", \"8-4\", \"9-1\", \"9-2\", \"9-3\", \"9-4\"], \"y\": [1.0, null, null, null, null, null, null], \"type\": \"scatter\", \"uid\": \"40490100-dbfd-11e8-8ddb-a41f72875c19\"}, {\"line\": {\"dash\": \"dashdot\"}, \"name\": \"\\u5ef6\\u671f\\u9879\\u76ee\\u6570(\\u4e8e\\u6167)\", \"x\": [\"10-4\", \"8-3\", \"8-4\", \"9-1\", \"9-2\", \"9-3\", \"9-4\"], \"y\": [0.0, 0.0, 0.0, 0.0, 0.0, 0.0, 0.0], \"type\": \"scatter\", \"uid\": \"40490101-dbfd-11e8-8ddb-a41f72875c19\"}], {\"title\": \"\\u5f00\\u53d1\\u4e2d\\u7684\\u9879\\u76ee\\u6570&\\u5ef6\\u671f\\u5b8c\\u6210&\\u5b63\\u5ea6\\u5f00\\u53d1\\u9879\\u76ee\\u6570&\\u6682\\u505c\\u9879\\u76ee\\u6570&\\u5982\\u671f\\u5b8c\\u6210\\u9879\\u76ee\\u6570&\\u5ef6\\u671f\\u9879\\u76ee\\u6570\\u5468\\u8d8b\\u52bf\\u56fe\", \"xaxis\": {\"mirror\": \"all\", \"nticks\": 20, \"showgrid\": true, \"showline\": true, \"title\": \"\\u5468\", \"type\": \"category\", \"zeroline\": true}, \"yaxis\": {\"mirror\": \"all\", \"nticks\": 20, \"showgrid\": true, \"showline\": true, \"title\": \"\\u5f00\\u53d1\\u4e2d\\u7684\\u9879\\u76ee\\u6570&\\u5ef6\\u671f\\u5b8c\\u6210&\\u5b63\\u5ea6\\u5f00\\u53d1\\u9879\\u76ee\\u6570&\\u6682\\u505c\\u9879\\u76ee\\u6570&\\u5982\\u671f\\u5b8c\\u6210\\u9879\\u76ee\\u6570&\\u5ef6\\u671f\\u9879\\u76ee\\u6570\", \"zeroline\": true}}, {\"showLink\": true, \"linkText\": \"Export to plot.ly\"})});</script>"
      ]
     },
     "metadata": {},
     "output_type": "display_data"
    }
   ],
   "source": [
    "ss=myModule.format(all_dict ,\"日期\" ,['季度开发项目数', '如期完成项目数', '延期完成', '开发中的项目数', '延期项目数', '暂停项目数'])\n",
    "ss.add_group('负责人')\n",
    "tt = myModule.myPlot(ss.groupby('sum'))\n",
    "tt.plot('line')"
   ]
  },
  {
   "cell_type": "markdown",
   "metadata": {},
   "source": [
    "### 个人成长指数"
   ]
  },
  {
   "cell_type": "markdown",
   "metadata": {},
   "source": [
    "#### 电话会议次数、软著撰写完成数、专利撰写完成数、外出技术支持数、客户来访接待数和文章数"
   ]
  },
  {
   "cell_type": "code",
   "execution_count": 15,
   "metadata": {
    "collapsed": false
   },
   "outputs": [
    {
     "data": {
      "application/vnd.plotly.v1+json": {
       "data": [
        {
         "line": {
          "dash": "solid"
         },
         "name": "电话会议次数(韩少怀)",
         "type": "scatter",
         "uid": "40490102-dbfd-11e8-8ddb-a41f72875c19",
         "x": [
          "10-4",
          "8-3",
          "8-4",
          "9-1",
          "9-2",
          "9-3",
          "9-4"
         ],
         "y": [
          0,
          0,
          0,
          0,
          0,
          0,
          null
         ]
        },
        {
         "line": {
          "dash": "dot"
         },
         "name": "电话会议次数(苏彦勋)",
         "type": "scatter",
         "uid": "40490103-dbfd-11e8-8ddb-a41f72875c19",
         "x": [
          "10-4",
          "8-3",
          "8-4",
          "9-1",
          "9-2",
          "9-3",
          "9-4"
         ],
         "y": [
          0,
          0,
          0,
          0,
          0,
          0,
          null
         ]
        },
        {
         "line": {
          "dash": "dash"
         },
         "name": "电话会议次数(孟昊)",
         "type": "scatter",
         "uid": "40490104-dbfd-11e8-8ddb-a41f72875c19",
         "x": [
          "10-4",
          "8-3",
          "8-4",
          "9-1",
          "9-2",
          "9-3",
          "9-4"
         ],
         "y": [
          0,
          0,
          0,
          0,
          0,
          0,
          0
         ]
        },
        {
         "line": {
          "dash": "longdash"
         },
         "name": "电话会议次数(任雪)",
         "type": "scatter",
         "uid": "40490105-dbfd-11e8-8ddb-a41f72875c19",
         "x": [
          "10-4",
          "8-3",
          "8-4",
          "9-1",
          "9-2",
          "9-3",
          "9-4"
         ],
         "y": [
          0,
          null,
          0,
          0,
          0,
          0,
          0
         ]
        },
        {
         "line": {
          "dash": "dashdot"
         },
         "name": "电话会议次数(涂成芳)",
         "type": "scatter",
         "uid": "40490106-dbfd-11e8-8ddb-a41f72875c19",
         "x": [
          "10-4",
          "8-3",
          "8-4",
          "9-1",
          "9-2",
          "9-3",
          "9-4"
         ],
         "y": [
          0,
          null,
          null,
          null,
          null,
          null,
          null
         ]
        },
        {
         "line": {
          "dash": "longdashdot"
         },
         "name": "电话会议次数(于勇一)",
         "type": "scatter",
         "uid": "40490107-dbfd-11e8-8ddb-a41f72875c19",
         "x": [
          "10-4",
          "8-3",
          "8-4",
          "9-1",
          "9-2",
          "9-3",
          "9-4"
         ],
         "y": [
          0,
          0,
          0,
          0,
          0,
          0,
          0
         ]
        },
        {
         "line": {
          "dash": "solid"
         },
         "name": "电话会议次数(路慧萍)",
         "type": "scatter",
         "uid": "40490108-dbfd-11e8-8ddb-a41f72875c19",
         "x": [
          "10-4",
          "8-3",
          "8-4",
          "9-1",
          "9-2",
          "9-3",
          "9-4"
         ],
         "y": [
          0,
          1,
          0,
          0,
          0,
          0,
          null
         ]
        },
        {
         "line": {
          "dash": "dot"
         },
         "name": "电话会议次数(杨伟飞)",
         "type": "scatter",
         "uid": "40490109-dbfd-11e8-8ddb-a41f72875c19",
         "x": [
          "10-4",
          "8-3",
          "8-4",
          "9-1",
          "9-2",
          "9-3",
          "9-4"
         ],
         "y": [
          0,
          0,
          0,
          1,
          1,
          2,
          1
         ]
        },
        {
         "line": {
          "dash": "dash"
         },
         "name": "电话会议次数(昶吉阳)",
         "type": "scatter",
         "uid": "4049010a-dbfd-11e8-8ddb-a41f72875c19",
         "x": [
          "10-4",
          "8-3",
          "8-4",
          "9-1",
          "9-2",
          "9-3",
          "9-4"
         ],
         "y": [
          0,
          null,
          null,
          null,
          null,
          null,
          null
         ]
        },
        {
         "line": {
          "dash": "longdash"
         },
         "name": "电话会议次数(王宁)",
         "type": "scatter",
         "uid": "4049010b-dbfd-11e8-8ddb-a41f72875c19",
         "x": [
          "10-4",
          "8-3",
          "8-4",
          "9-1",
          "9-2",
          "9-3",
          "9-4"
         ],
         "y": [
          null,
          0,
          1,
          0,
          null,
          null,
          null
         ]
        },
        {
         "line": {
          "dash": "dashdot"
         },
         "name": "电话会议次数(车天栋)",
         "type": "scatter",
         "uid": "4049010c-dbfd-11e8-8ddb-a41f72875c19",
         "x": [
          "10-4",
          "8-3",
          "8-4",
          "9-1",
          "9-2",
          "9-3",
          "9-4"
         ],
         "y": [
          0,
          null,
          null,
          null,
          null,
          null,
          null
         ]
        },
        {
         "line": {
          "dash": "longdashdot"
         },
         "name": "电话会议次数(周杨)",
         "type": "scatter",
         "uid": "4049010d-dbfd-11e8-8ddb-a41f72875c19",
         "x": [
          "10-4",
          "8-3",
          "8-4",
          "9-1",
          "9-2",
          "9-3",
          "9-4"
         ],
         "y": [
          0,
          1,
          0,
          0,
          0,
          0,
          0
         ]
        },
        {
         "line": {
          "dash": "solid"
         },
         "name": "电话会议次数(段利强)",
         "type": "scatter",
         "uid": "4049010e-dbfd-11e8-8ddb-a41f72875c19",
         "x": [
          "10-4",
          "8-3",
          "8-4",
          "9-1",
          "9-2",
          "9-3",
          "9-4"
         ],
         "y": [
          null,
          null,
          null,
          null,
          null,
          null,
          1
         ]
        },
        {
         "line": {
          "dash": "dot"
         },
         "name": "电话会议次数(赵玥)",
         "type": "scatter",
         "uid": "4049010f-dbfd-11e8-8ddb-a41f72875c19",
         "x": [
          "10-4",
          "8-3",
          "8-4",
          "9-1",
          "9-2",
          "9-3",
          "9-4"
         ],
         "y": [
          0,
          2,
          0,
          0,
          2,
          0,
          0
         ]
        },
        {
         "line": {
          "dash": "dash"
         },
         "name": "电话会议次数(冷雪)",
         "type": "scatter",
         "uid": "40490110-dbfd-11e8-8ddb-a41f72875c19",
         "x": [
          "10-4",
          "8-3",
          "8-4",
          "9-1",
          "9-2",
          "9-3",
          "9-4"
         ],
         "y": [
          0,
          null,
          null,
          null,
          null,
          null,
          null
         ]
        },
        {
         "line": {
          "dash": "longdash"
         },
         "name": "电话会议次数(冯敬岩)",
         "type": "scatter",
         "uid": "40490111-dbfd-11e8-8ddb-a41f72875c19",
         "x": [
          "10-4",
          "8-3",
          "8-4",
          "9-1",
          "9-2",
          "9-3",
          "9-4"
         ],
         "y": [
          0,
          null,
          null,
          null,
          null,
          null,
          null
         ]
        },
        {
         "line": {
          "dash": "dashdot"
         },
         "name": "电话会议次数(姚盟成)",
         "type": "scatter",
         "uid": "40490112-dbfd-11e8-8ddb-a41f72875c19",
         "x": [
          "10-4",
          "8-3",
          "8-4",
          "9-1",
          "9-2",
          "9-3",
          "9-4"
         ],
         "y": [
          0,
          0,
          1,
          1,
          0,
          1,
          0
         ]
        },
        {
         "line": {
          "dash": "longdashdot"
         },
         "name": "电话会议次数(李华云)",
         "type": "scatter",
         "uid": "40490113-dbfd-11e8-8ddb-a41f72875c19",
         "x": [
          "10-4",
          "8-3",
          "8-4",
          "9-1",
          "9-2",
          "9-3",
          "9-4"
         ],
         "y": [
          0,
          0,
          0,
          0,
          0,
          1,
          null
         ]
        },
        {
         "line": {
          "dash": "solid"
         },
         "name": "电话会议次数(陈鹏燕)",
         "type": "scatter",
         "uid": "40490114-dbfd-11e8-8ddb-a41f72875c19",
         "x": [
          "10-4",
          "8-3",
          "8-4",
          "9-1",
          "9-2",
          "9-3",
          "9-4"
         ],
         "y": [
          0,
          null,
          null,
          null,
          null,
          null,
          null
         ]
        },
        {
         "line": {
          "dash": "dot"
         },
         "name": "电话会议次数(刘慧玲)",
         "type": "scatter",
         "uid": "40490115-dbfd-11e8-8ddb-a41f72875c19",
         "x": [
          "10-4",
          "8-3",
          "8-4",
          "9-1",
          "9-2",
          "9-3",
          "9-4"
         ],
         "y": [
          null,
          0,
          0,
          0,
          null,
          null,
          null
         ]
        },
        {
         "line": {
          "dash": "dash"
         },
         "name": "电话会议次数(沈恩惠)",
         "type": "scatter",
         "uid": "40490116-dbfd-11e8-8ddb-a41f72875c19",
         "x": [
          "10-4",
          "8-3",
          "8-4",
          "9-1",
          "9-2",
          "9-3",
          "9-4"
         ],
         "y": [
          0,
          null,
          null,
          null,
          null,
          null,
          null
         ]
        },
        {
         "line": {
          "dash": "longdash"
         },
         "name": "电话会议次数(林文文)",
         "type": "scatter",
         "uid": "40490117-dbfd-11e8-8ddb-a41f72875c19",
         "x": [
          "10-4",
          "8-3",
          "8-4",
          "9-1",
          "9-2",
          "9-3",
          "9-4"
         ],
         "y": [
          0,
          null,
          null,
          null,
          null,
          null,
          null
         ]
        },
        {
         "line": {
          "dash": "dashdot"
         },
         "name": "电话会议次数(谢德健)",
         "type": "scatter",
         "uid": "40490118-dbfd-11e8-8ddb-a41f72875c19",
         "x": [
          "10-4",
          "8-3",
          "8-4",
          "9-1",
          "9-2",
          "9-3",
          "9-4"
         ],
         "y": [
          0,
          2,
          1,
          null,
          1,
          1,
          0
         ]
        },
        {
         "line": {
          "dash": "longdashdot"
         },
         "name": "电话会议次数(刘江)",
         "type": "scatter",
         "uid": "40490119-dbfd-11e8-8ddb-a41f72875c19",
         "x": [
          "10-4",
          "8-3",
          "8-4",
          "9-1",
          "9-2",
          "9-3",
          "9-4"
         ],
         "y": [
          0,
          1,
          1,
          1,
          1,
          1,
          0
         ]
        },
        {
         "line": {
          "dash": "solid"
         },
         "name": "电话会议次数(王红)",
         "type": "scatter",
         "uid": "4049011a-dbfd-11e8-8ddb-a41f72875c19",
         "x": [
          "10-4",
          "8-3",
          "8-4",
          "9-1",
          "9-2",
          "9-3",
          "9-4"
         ],
         "y": [
          0,
          null,
          null,
          null,
          null,
          null,
          null
         ]
        },
        {
         "line": {
          "dash": "dot"
         },
         "name": "电话会议次数(李庆原)",
         "type": "scatter",
         "uid": "4049011b-dbfd-11e8-8ddb-a41f72875c19",
         "x": [
          "10-4",
          "8-3",
          "8-4",
          "9-1",
          "9-2",
          "9-3",
          "9-4"
         ],
         "y": [
          0,
          2,
          0,
          0,
          1,
          1,
          null
         ]
        },
        {
         "line": {
          "dash": "dash"
         },
         "name": "电话会议次数(马潇)",
         "type": "scatter",
         "uid": "4049011c-dbfd-11e8-8ddb-a41f72875c19",
         "x": [
          "10-4",
          "8-3",
          "8-4",
          "9-1",
          "9-2",
          "9-3",
          "9-4"
         ],
         "y": [
          0,
          0,
          0,
          0,
          0,
          0,
          0
         ]
        },
        {
         "line": {
          "dash": "longdash"
         },
         "name": "电话会议次数(占伟)",
         "type": "scatter",
         "uid": "4049011d-dbfd-11e8-8ddb-a41f72875c19",
         "x": [
          "10-4",
          "8-3",
          "8-4",
          "9-1",
          "9-2",
          "9-3",
          "9-4"
         ],
         "y": [
          0,
          0,
          1,
          2,
          1,
          2,
          1
         ]
        },
        {
         "line": {
          "dash": "dashdot"
         },
         "name": "电话会议次数(宋迎楠)",
         "type": "scatter",
         "uid": "4049011e-dbfd-11e8-8ddb-a41f72875c19",
         "x": [
          "10-4",
          "8-3",
          "8-4",
          "9-1",
          "9-2",
          "9-3",
          "9-4"
         ],
         "y": [
          null,
          0,
          0,
          0,
          null,
          null,
          null
         ]
        },
        {
         "line": {
          "dash": "longdashdot"
         },
         "name": "电话会议次数(范旭宁)",
         "type": "scatter",
         "uid": "4049011f-dbfd-11e8-8ddb-a41f72875c19",
         "x": [
          "10-4",
          "8-3",
          "8-4",
          "9-1",
          "9-2",
          "9-3",
          "9-4"
         ],
         "y": [
          0,
          0,
          0,
          0,
          0,
          0,
          0
         ]
        },
        {
         "line": {
          "dash": "solid"
         },
         "name": "电话会议次数(屈昂)",
         "type": "scatter",
         "uid": "40490120-dbfd-11e8-8ddb-a41f72875c19",
         "x": [
          "10-4",
          "8-3",
          "8-4",
          "9-1",
          "9-2",
          "9-3",
          "9-4"
         ],
         "y": [
          0,
          null,
          null,
          null,
          null,
          null,
          null
         ]
        },
        {
         "line": {
          "dash": "dot"
         },
         "name": "电话会议次数(张守伟)",
         "type": "scatter",
         "uid": "40490121-dbfd-11e8-8ddb-a41f72875c19",
         "x": [
          "10-4",
          "8-3",
          "8-4",
          "9-1",
          "9-2",
          "9-3",
          "9-4"
         ],
         "y": [
          0,
          0,
          0,
          0,
          0,
          0,
          0
         ]
        },
        {
         "line": {
          "dash": "dash"
         },
         "name": "电话会议次数(封彦杰)",
         "type": "scatter",
         "uid": "40490122-dbfd-11e8-8ddb-a41f72875c19",
         "x": [
          "10-4",
          "8-3",
          "8-4",
          "9-1",
          "9-2",
          "9-3",
          "9-4"
         ],
         "y": [
          0,
          0,
          0,
          0,
          1,
          1,
          0
         ]
        },
        {
         "line": {
          "dash": "longdash"
         },
         "name": "电话会议次数(张悦)",
         "type": "scatter",
         "uid": "40490123-dbfd-11e8-8ddb-a41f72875c19",
         "x": [
          "10-4",
          "8-3",
          "8-4",
          "9-1",
          "9-2",
          "9-3",
          "9-4"
         ],
         "y": [
          0,
          null,
          null,
          null,
          null,
          null,
          null
         ]
        },
        {
         "line": {
          "dash": "dashdot"
         },
         "name": "电话会议次数(于慧)",
         "type": "scatter",
         "uid": "40490124-dbfd-11e8-8ddb-a41f72875c19",
         "x": [
          "10-4",
          "8-3",
          "8-4",
          "9-1",
          "9-2",
          "9-3",
          "9-4"
         ],
         "y": [
          0,
          0,
          0,
          0,
          0,
          0,
          0
         ]
        },
        {
         "line": {
          "dash": "solid"
         },
         "name": "客户来访接待数(韩少怀)",
         "type": "scatter",
         "uid": "40490125-dbfd-11e8-8ddb-a41f72875c19",
         "x": [
          "10-4",
          "8-3",
          "8-4",
          "9-1",
          "9-2",
          "9-3",
          "9-4"
         ],
         "y": [
          0,
          0,
          0,
          0,
          0,
          0,
          null
         ]
        },
        {
         "line": {
          "dash": "dot"
         },
         "name": "客户来访接待数(苏彦勋)",
         "type": "scatter",
         "uid": "40490126-dbfd-11e8-8ddb-a41f72875c19",
         "x": [
          "10-4",
          "8-3",
          "8-4",
          "9-1",
          "9-2",
          "9-3",
          "9-4"
         ],
         "y": [
          0,
          0,
          0,
          0,
          0,
          0,
          null
         ]
        },
        {
         "line": {
          "dash": "dash"
         },
         "name": "客户来访接待数(孟昊)",
         "type": "scatter",
         "uid": "40490127-dbfd-11e8-8ddb-a41f72875c19",
         "x": [
          "10-4",
          "8-3",
          "8-4",
          "9-1",
          "9-2",
          "9-3",
          "9-4"
         ],
         "y": [
          0,
          0,
          0,
          0,
          0,
          0,
          0
         ]
        },
        {
         "line": {
          "dash": "longdash"
         },
         "name": "客户来访接待数(任雪)",
         "type": "scatter",
         "uid": "40490128-dbfd-11e8-8ddb-a41f72875c19",
         "x": [
          "10-4",
          "8-3",
          "8-4",
          "9-1",
          "9-2",
          "9-3",
          "9-4"
         ],
         "y": [
          0,
          null,
          0,
          0,
          0,
          1,
          0
         ]
        },
        {
         "line": {
          "dash": "dashdot"
         },
         "name": "客户来访接待数(涂成芳)",
         "type": "scatter",
         "uid": "40490129-dbfd-11e8-8ddb-a41f72875c19",
         "x": [
          "10-4",
          "8-3",
          "8-4",
          "9-1",
          "9-2",
          "9-3",
          "9-4"
         ],
         "y": [
          0,
          null,
          null,
          null,
          null,
          null,
          null
         ]
        },
        {
         "line": {
          "dash": "longdashdot"
         },
         "name": "客户来访接待数(于勇一)",
         "type": "scatter",
         "uid": "4049012a-dbfd-11e8-8ddb-a41f72875c19",
         "x": [
          "10-4",
          "8-3",
          "8-4",
          "9-1",
          "9-2",
          "9-3",
          "9-4"
         ],
         "y": [
          0,
          0,
          0,
          0,
          0,
          0,
          0
         ]
        },
        {
         "line": {
          "dash": "solid"
         },
         "name": "客户来访接待数(路慧萍)",
         "type": "scatter",
         "uid": "4049012b-dbfd-11e8-8ddb-a41f72875c19",
         "x": [
          "10-4",
          "8-3",
          "8-4",
          "9-1",
          "9-2",
          "9-3",
          "9-4"
         ],
         "y": [
          0,
          1,
          0,
          0,
          0,
          0,
          null
         ]
        },
        {
         "line": {
          "dash": "dot"
         },
         "name": "客户来访接待数(杨伟飞)",
         "type": "scatter",
         "uid": "4049012c-dbfd-11e8-8ddb-a41f72875c19",
         "x": [
          "10-4",
          "8-3",
          "8-4",
          "9-1",
          "9-2",
          "9-3",
          "9-4"
         ],
         "y": [
          0,
          0,
          0,
          0,
          0,
          0,
          0
         ]
        },
        {
         "line": {
          "dash": "dash"
         },
         "name": "客户来访接待数(昶吉阳)",
         "type": "scatter",
         "uid": "4049012d-dbfd-11e8-8ddb-a41f72875c19",
         "x": [
          "10-4",
          "8-3",
          "8-4",
          "9-1",
          "9-2",
          "9-3",
          "9-4"
         ],
         "y": [
          0,
          null,
          null,
          null,
          null,
          null,
          null
         ]
        },
        {
         "line": {
          "dash": "longdash"
         },
         "name": "客户来访接待数(王宁)",
         "type": "scatter",
         "uid": "4049012e-dbfd-11e8-8ddb-a41f72875c19",
         "x": [
          "10-4",
          "8-3",
          "8-4",
          "9-1",
          "9-2",
          "9-3",
          "9-4"
         ],
         "y": [
          null,
          0,
          0,
          0,
          null,
          null,
          null
         ]
        },
        {
         "line": {
          "dash": "dashdot"
         },
         "name": "客户来访接待数(车天栋)",
         "type": "scatter",
         "uid": "4049012f-dbfd-11e8-8ddb-a41f72875c19",
         "x": [
          "10-4",
          "8-3",
          "8-4",
          "9-1",
          "9-2",
          "9-3",
          "9-4"
         ],
         "y": [
          0,
          null,
          null,
          null,
          null,
          null,
          null
         ]
        },
        {
         "line": {
          "dash": "longdashdot"
         },
         "name": "客户来访接待数(周杨)",
         "type": "scatter",
         "uid": "40490130-dbfd-11e8-8ddb-a41f72875c19",
         "x": [
          "10-4",
          "8-3",
          "8-4",
          "9-1",
          "9-2",
          "9-3",
          "9-4"
         ],
         "y": [
          0,
          0,
          0,
          0,
          0,
          0,
          0
         ]
        },
        {
         "line": {
          "dash": "solid"
         },
         "name": "客户来访接待数(段利强)",
         "type": "scatter",
         "uid": "40490131-dbfd-11e8-8ddb-a41f72875c19",
         "x": [
          "10-4",
          "8-3",
          "8-4",
          "9-1",
          "9-2",
          "9-3",
          "9-4"
         ],
         "y": [
          null,
          null,
          null,
          null,
          null,
          null,
          0
         ]
        },
        {
         "line": {
          "dash": "dot"
         },
         "name": "客户来访接待数(赵玥)",
         "type": "scatter",
         "uid": "40490132-dbfd-11e8-8ddb-a41f72875c19",
         "x": [
          "10-4",
          "8-3",
          "8-4",
          "9-1",
          "9-2",
          "9-3",
          "9-4"
         ],
         "y": [
          0,
          0,
          0,
          0,
          0,
          0,
          1
         ]
        },
        {
         "line": {
          "dash": "dash"
         },
         "name": "客户来访接待数(冷雪)",
         "type": "scatter",
         "uid": "40490133-dbfd-11e8-8ddb-a41f72875c19",
         "x": [
          "10-4",
          "8-3",
          "8-4",
          "9-1",
          "9-2",
          "9-3",
          "9-4"
         ],
         "y": [
          0,
          null,
          null,
          null,
          null,
          null,
          null
         ]
        },
        {
         "line": {
          "dash": "longdash"
         },
         "name": "客户来访接待数(冯敬岩)",
         "type": "scatter",
         "uid": "40490134-dbfd-11e8-8ddb-a41f72875c19",
         "x": [
          "10-4",
          "8-3",
          "8-4",
          "9-1",
          "9-2",
          "9-3",
          "9-4"
         ],
         "y": [
          0,
          null,
          null,
          null,
          null,
          null,
          null
         ]
        },
        {
         "line": {
          "dash": "dashdot"
         },
         "name": "客户来访接待数(姚盟成)",
         "type": "scatter",
         "uid": "40490135-dbfd-11e8-8ddb-a41f72875c19",
         "x": [
          "10-4",
          "8-3",
          "8-4",
          "9-1",
          "9-2",
          "9-3",
          "9-4"
         ],
         "y": [
          0,
          0,
          0,
          0,
          0,
          0,
          0
         ]
        },
        {
         "line": {
          "dash": "longdashdot"
         },
         "name": "客户来访接待数(李华云)",
         "type": "scatter",
         "uid": "40490136-dbfd-11e8-8ddb-a41f72875c19",
         "x": [
          "10-4",
          "8-3",
          "8-4",
          "9-1",
          "9-2",
          "9-3",
          "9-4"
         ],
         "y": [
          0,
          0,
          0,
          0,
          0,
          0,
          null
         ]
        },
        {
         "line": {
          "dash": "solid"
         },
         "name": "客户来访接待数(陈鹏燕)",
         "type": "scatter",
         "uid": "40490137-dbfd-11e8-8ddb-a41f72875c19",
         "x": [
          "10-4",
          "8-3",
          "8-4",
          "9-1",
          "9-2",
          "9-3",
          "9-4"
         ],
         "y": [
          0,
          null,
          null,
          null,
          null,
          null,
          null
         ]
        },
        {
         "line": {
          "dash": "dot"
         },
         "name": "客户来访接待数(刘慧玲)",
         "type": "scatter",
         "uid": "40490138-dbfd-11e8-8ddb-a41f72875c19",
         "x": [
          "10-4",
          "8-3",
          "8-4",
          "9-1",
          "9-2",
          "9-3",
          "9-4"
         ],
         "y": [
          null,
          0,
          0,
          0,
          null,
          null,
          null
         ]
        },
        {
         "line": {
          "dash": "dash"
         },
         "name": "客户来访接待数(沈恩惠)",
         "type": "scatter",
         "uid": "40490139-dbfd-11e8-8ddb-a41f72875c19",
         "x": [
          "10-4",
          "8-3",
          "8-4",
          "9-1",
          "9-2",
          "9-3",
          "9-4"
         ],
         "y": [
          0,
          null,
          null,
          null,
          null,
          null,
          null
         ]
        },
        {
         "line": {
          "dash": "longdash"
         },
         "name": "客户来访接待数(林文文)",
         "type": "scatter",
         "uid": "4049013a-dbfd-11e8-8ddb-a41f72875c19",
         "x": [
          "10-4",
          "8-3",
          "8-4",
          "9-1",
          "9-2",
          "9-3",
          "9-4"
         ],
         "y": [
          0,
          null,
          null,
          null,
          null,
          null,
          null
         ]
        },
        {
         "line": {
          "dash": "dashdot"
         },
         "name": "客户来访接待数(谢德健)",
         "type": "scatter",
         "uid": "4049013b-dbfd-11e8-8ddb-a41f72875c19",
         "x": [
          "10-4",
          "8-3",
          "8-4",
          "9-1",
          "9-2",
          "9-3",
          "9-4"
         ],
         "y": [
          0,
          0,
          0,
          null,
          0,
          0,
          3
         ]
        },
        {
         "line": {
          "dash": "longdashdot"
         },
         "name": "客户来访接待数(刘江)",
         "type": "scatter",
         "uid": "4049013c-dbfd-11e8-8ddb-a41f72875c19",
         "x": [
          "10-4",
          "8-3",
          "8-4",
          "9-1",
          "9-2",
          "9-3",
          "9-4"
         ],
         "y": [
          0,
          1,
          0,
          0,
          0,
          0,
          1
         ]
        },
        {
         "line": {
          "dash": "solid"
         },
         "name": "客户来访接待数(王红)",
         "type": "scatter",
         "uid": "4049013d-dbfd-11e8-8ddb-a41f72875c19",
         "x": [
          "10-4",
          "8-3",
          "8-4",
          "9-1",
          "9-2",
          "9-3",
          "9-4"
         ],
         "y": [
          0,
          null,
          null,
          null,
          null,
          null,
          null
         ]
        },
        {
         "line": {
          "dash": "dot"
         },
         "name": "客户来访接待数(李庆原)",
         "type": "scatter",
         "uid": "4049013e-dbfd-11e8-8ddb-a41f72875c19",
         "x": [
          "10-4",
          "8-3",
          "8-4",
          "9-1",
          "9-2",
          "9-3",
          "9-4"
         ],
         "y": [
          0,
          1,
          0,
          0,
          0,
          0,
          null
         ]
        },
        {
         "line": {
          "dash": "dash"
         },
         "name": "客户来访接待数(马潇)",
         "type": "scatter",
         "uid": "4049013f-dbfd-11e8-8ddb-a41f72875c19",
         "x": [
          "10-4",
          "8-3",
          "8-4",
          "9-1",
          "9-2",
          "9-3",
          "9-4"
         ],
         "y": [
          0,
          0,
          0,
          0,
          0,
          0,
          0
         ]
        },
        {
         "line": {
          "dash": "longdash"
         },
         "name": "客户来访接待数(占伟)",
         "type": "scatter",
         "uid": "40490140-dbfd-11e8-8ddb-a41f72875c19",
         "x": [
          "10-4",
          "8-3",
          "8-4",
          "9-1",
          "9-2",
          "9-3",
          "9-4"
         ],
         "y": [
          0,
          0,
          0,
          0,
          0,
          0,
          1
         ]
        },
        {
         "line": {
          "dash": "dashdot"
         },
         "name": "客户来访接待数(宋迎楠)",
         "type": "scatter",
         "uid": "40490141-dbfd-11e8-8ddb-a41f72875c19",
         "x": [
          "10-4",
          "8-3",
          "8-4",
          "9-1",
          "9-2",
          "9-3",
          "9-4"
         ],
         "y": [
          null,
          0,
          0,
          0,
          null,
          null,
          null
         ]
        },
        {
         "line": {
          "dash": "longdashdot"
         },
         "name": "客户来访接待数(范旭宁)",
         "type": "scatter",
         "uid": "40490142-dbfd-11e8-8ddb-a41f72875c19",
         "x": [
          "10-4",
          "8-3",
          "8-4",
          "9-1",
          "9-2",
          "9-3",
          "9-4"
         ],
         "y": [
          0,
          0,
          0,
          0,
          0,
          0,
          4
         ]
        },
        {
         "line": {
          "dash": "solid"
         },
         "name": "客户来访接待数(屈昂)",
         "type": "scatter",
         "uid": "40490143-dbfd-11e8-8ddb-a41f72875c19",
         "x": [
          "10-4",
          "8-3",
          "8-4",
          "9-1",
          "9-2",
          "9-3",
          "9-4"
         ],
         "y": [
          0,
          null,
          null,
          null,
          null,
          null,
          null
         ]
        },
        {
         "line": {
          "dash": "dot"
         },
         "name": "客户来访接待数(张守伟)",
         "type": "scatter",
         "uid": "40490144-dbfd-11e8-8ddb-a41f72875c19",
         "x": [
          "10-4",
          "8-3",
          "8-4",
          "9-1",
          "9-2",
          "9-3",
          "9-4"
         ],
         "y": [
          0,
          0,
          0,
          0,
          0,
          0,
          0
         ]
        },
        {
         "line": {
          "dash": "dash"
         },
         "name": "客户来访接待数(封彦杰)",
         "type": "scatter",
         "uid": "40490145-dbfd-11e8-8ddb-a41f72875c19",
         "x": [
          "10-4",
          "8-3",
          "8-4",
          "9-1",
          "9-2",
          "9-3",
          "9-4"
         ],
         "y": [
          0,
          0,
          0,
          0,
          0,
          0,
          0
         ]
        },
        {
         "line": {
          "dash": "longdash"
         },
         "name": "客户来访接待数(张悦)",
         "type": "scatter",
         "uid": "40490146-dbfd-11e8-8ddb-a41f72875c19",
         "x": [
          "10-4",
          "8-3",
          "8-4",
          "9-1",
          "9-2",
          "9-3",
          "9-4"
         ],
         "y": [
          0,
          null,
          null,
          null,
          null,
          null,
          null
         ]
        },
        {
         "line": {
          "dash": "dashdot"
         },
         "name": "客户来访接待数(于慧)",
         "type": "scatter",
         "uid": "40490147-dbfd-11e8-8ddb-a41f72875c19",
         "x": [
          "10-4",
          "8-3",
          "8-4",
          "9-1",
          "9-2",
          "9-3",
          "9-4"
         ],
         "y": [
          0,
          0,
          0,
          0,
          0,
          0,
          0
         ]
        },
        {
         "line": {
          "dash": "solid"
         },
         "name": "外出技术支持数(韩少怀)",
         "type": "scatter",
         "uid": "40490148-dbfd-11e8-8ddb-a41f72875c19",
         "x": [
          "10-4",
          "8-3",
          "8-4",
          "9-1",
          "9-2",
          "9-3",
          "9-4"
         ],
         "y": [
          0,
          0,
          0,
          0,
          0,
          0,
          null
         ]
        },
        {
         "line": {
          "dash": "dot"
         },
         "name": "外出技术支持数(苏彦勋)",
         "type": "scatter",
         "uid": "40490149-dbfd-11e8-8ddb-a41f72875c19",
         "x": [
          "10-4",
          "8-3",
          "8-4",
          "9-1",
          "9-2",
          "9-3",
          "9-4"
         ],
         "y": [
          0,
          0,
          0,
          0,
          0,
          0,
          null
         ]
        },
        {
         "line": {
          "dash": "dash"
         },
         "name": "外出技术支持数(孟昊)",
         "type": "scatter",
         "uid": "4049014a-dbfd-11e8-8ddb-a41f72875c19",
         "x": [
          "10-4",
          "8-3",
          "8-4",
          "9-1",
          "9-2",
          "9-3",
          "9-4"
         ],
         "y": [
          0,
          0,
          0,
          0,
          0,
          0,
          0
         ]
        },
        {
         "line": {
          "dash": "longdash"
         },
         "name": "外出技术支持数(任雪)",
         "type": "scatter",
         "uid": "4049014b-dbfd-11e8-8ddb-a41f72875c19",
         "x": [
          "10-4",
          "8-3",
          "8-4",
          "9-1",
          "9-2",
          "9-3",
          "9-4"
         ],
         "y": [
          0,
          null,
          0,
          0,
          0,
          0,
          0
         ]
        },
        {
         "line": {
          "dash": "dashdot"
         },
         "name": "外出技术支持数(涂成芳)",
         "type": "scatter",
         "uid": "4049014c-dbfd-11e8-8ddb-a41f72875c19",
         "x": [
          "10-4",
          "8-3",
          "8-4",
          "9-1",
          "9-2",
          "9-3",
          "9-4"
         ],
         "y": [
          0,
          null,
          null,
          null,
          null,
          null,
          null
         ]
        },
        {
         "line": {
          "dash": "longdashdot"
         },
         "name": "外出技术支持数(于勇一)",
         "type": "scatter",
         "uid": "4049014d-dbfd-11e8-8ddb-a41f72875c19",
         "x": [
          "10-4",
          "8-3",
          "8-4",
          "9-1",
          "9-2",
          "9-3",
          "9-4"
         ],
         "y": [
          0,
          0,
          0,
          0,
          0,
          0,
          0
         ]
        },
        {
         "line": {
          "dash": "solid"
         },
         "name": "外出技术支持数(路慧萍)",
         "type": "scatter",
         "uid": "4049014e-dbfd-11e8-8ddb-a41f72875c19",
         "x": [
          "10-4",
          "8-3",
          "8-4",
          "9-1",
          "9-2",
          "9-3",
          "9-4"
         ],
         "y": [
          0,
          0,
          0,
          0,
          0,
          0,
          null
         ]
        },
        {
         "line": {
          "dash": "dot"
         },
         "name": "外出技术支持数(杨伟飞)",
         "type": "scatter",
         "uid": "4049014f-dbfd-11e8-8ddb-a41f72875c19",
         "x": [
          "10-4",
          "8-3",
          "8-4",
          "9-1",
          "9-2",
          "9-3",
          "9-4"
         ],
         "y": [
          0,
          0,
          0,
          0,
          0,
          0,
          0
         ]
        },
        {
         "line": {
          "dash": "dash"
         },
         "name": "外出技术支持数(昶吉阳)",
         "type": "scatter",
         "uid": "40490150-dbfd-11e8-8ddb-a41f72875c19",
         "x": [
          "10-4",
          "8-3",
          "8-4",
          "9-1",
          "9-2",
          "9-3",
          "9-4"
         ],
         "y": [
          0,
          null,
          null,
          null,
          null,
          null,
          null
         ]
        },
        {
         "line": {
          "dash": "longdash"
         },
         "name": "外出技术支持数(王宁)",
         "type": "scatter",
         "uid": "40490151-dbfd-11e8-8ddb-a41f72875c19",
         "x": [
          "10-4",
          "8-3",
          "8-4",
          "9-1",
          "9-2",
          "9-3",
          "9-4"
         ],
         "y": [
          null,
          0,
          0,
          0,
          null,
          null,
          null
         ]
        },
        {
         "line": {
          "dash": "dashdot"
         },
         "name": "外出技术支持数(车天栋)",
         "type": "scatter",
         "uid": "40490152-dbfd-11e8-8ddb-a41f72875c19",
         "x": [
          "10-4",
          "8-3",
          "8-4",
          "9-1",
          "9-2",
          "9-3",
          "9-4"
         ],
         "y": [
          0,
          null,
          null,
          null,
          null,
          null,
          null
         ]
        },
        {
         "line": {
          "dash": "longdashdot"
         },
         "name": "外出技术支持数(周杨)",
         "type": "scatter",
         "uid": "40490153-dbfd-11e8-8ddb-a41f72875c19",
         "x": [
          "10-4",
          "8-3",
          "8-4",
          "9-1",
          "9-2",
          "9-3",
          "9-4"
         ],
         "y": [
          0,
          0,
          0,
          0,
          0,
          0,
          0
         ]
        },
        {
         "line": {
          "dash": "solid"
         },
         "name": "外出技术支持数(段利强)",
         "type": "scatter",
         "uid": "40490154-dbfd-11e8-8ddb-a41f72875c19",
         "x": [
          "10-4",
          "8-3",
          "8-4",
          "9-1",
          "9-2",
          "9-3",
          "9-4"
         ],
         "y": [
          null,
          null,
          null,
          null,
          null,
          null,
          0
         ]
        },
        {
         "line": {
          "dash": "dot"
         },
         "name": "外出技术支持数(赵玥)",
         "type": "scatter",
         "uid": "40490155-dbfd-11e8-8ddb-a41f72875c19",
         "x": [
          "10-4",
          "8-3",
          "8-4",
          "9-1",
          "9-2",
          "9-3",
          "9-4"
         ],
         "y": [
          0,
          0,
          0,
          0,
          0,
          0,
          0
         ]
        },
        {
         "line": {
          "dash": "dash"
         },
         "name": "外出技术支持数(冷雪)",
         "type": "scatter",
         "uid": "40490156-dbfd-11e8-8ddb-a41f72875c19",
         "x": [
          "10-4",
          "8-3",
          "8-4",
          "9-1",
          "9-2",
          "9-3",
          "9-4"
         ],
         "y": [
          0,
          null,
          null,
          null,
          null,
          null,
          null
         ]
        },
        {
         "line": {
          "dash": "longdash"
         },
         "name": "外出技术支持数(冯敬岩)",
         "type": "scatter",
         "uid": "40490157-dbfd-11e8-8ddb-a41f72875c19",
         "x": [
          "10-4",
          "8-3",
          "8-4",
          "9-1",
          "9-2",
          "9-3",
          "9-4"
         ],
         "y": [
          0,
          null,
          null,
          null,
          null,
          null,
          null
         ]
        },
        {
         "line": {
          "dash": "dashdot"
         },
         "name": "外出技术支持数(姚盟成)",
         "type": "scatter",
         "uid": "40490158-dbfd-11e8-8ddb-a41f72875c19",
         "x": [
          "10-4",
          "8-3",
          "8-4",
          "9-1",
          "9-2",
          "9-3",
          "9-4"
         ],
         "y": [
          0,
          0,
          0,
          0,
          0,
          0,
          0
         ]
        },
        {
         "line": {
          "dash": "longdashdot"
         },
         "name": "外出技术支持数(李华云)",
         "type": "scatter",
         "uid": "40490159-dbfd-11e8-8ddb-a41f72875c19",
         "x": [
          "10-4",
          "8-3",
          "8-4",
          "9-1",
          "9-2",
          "9-3",
          "9-4"
         ],
         "y": [
          0,
          0,
          0,
          0,
          0,
          0,
          null
         ]
        },
        {
         "line": {
          "dash": "solid"
         },
         "name": "外出技术支持数(陈鹏燕)",
         "type": "scatter",
         "uid": "4049015a-dbfd-11e8-8ddb-a41f72875c19",
         "x": [
          "10-4",
          "8-3",
          "8-4",
          "9-1",
          "9-2",
          "9-3",
          "9-4"
         ],
         "y": [
          0,
          null,
          null,
          null,
          null,
          null,
          null
         ]
        },
        {
         "line": {
          "dash": "dot"
         },
         "name": "外出技术支持数(刘慧玲)",
         "type": "scatter",
         "uid": "4049015b-dbfd-11e8-8ddb-a41f72875c19",
         "x": [
          "10-4",
          "8-3",
          "8-4",
          "9-1",
          "9-2",
          "9-3",
          "9-4"
         ],
         "y": [
          null,
          0,
          0,
          0,
          null,
          null,
          null
         ]
        },
        {
         "line": {
          "dash": "dash"
         },
         "name": "外出技术支持数(沈恩惠)",
         "type": "scatter",
         "uid": "4049015c-dbfd-11e8-8ddb-a41f72875c19",
         "x": [
          "10-4",
          "8-3",
          "8-4",
          "9-1",
          "9-2",
          "9-3",
          "9-4"
         ],
         "y": [
          0,
          null,
          null,
          null,
          null,
          null,
          null
         ]
        },
        {
         "line": {
          "dash": "longdash"
         },
         "name": "外出技术支持数(林文文)",
         "type": "scatter",
         "uid": "4049015d-dbfd-11e8-8ddb-a41f72875c19",
         "x": [
          "10-4",
          "8-3",
          "8-4",
          "9-1",
          "9-2",
          "9-3",
          "9-4"
         ],
         "y": [
          0,
          null,
          null,
          null,
          null,
          null,
          null
         ]
        },
        {
         "line": {
          "dash": "dashdot"
         },
         "name": "外出技术支持数(谢德健)",
         "type": "scatter",
         "uid": "4049015e-dbfd-11e8-8ddb-a41f72875c19",
         "x": [
          "10-4",
          "8-3",
          "8-4",
          "9-1",
          "9-2",
          "9-3",
          "9-4"
         ],
         "y": [
          0,
          0,
          0,
          null,
          0,
          0,
          0
         ]
        },
        {
         "line": {
          "dash": "longdashdot"
         },
         "name": "外出技术支持数(刘江)",
         "type": "scatter",
         "uid": "4049015f-dbfd-11e8-8ddb-a41f72875c19",
         "x": [
          "10-4",
          "8-3",
          "8-4",
          "9-1",
          "9-2",
          "9-3",
          "9-4"
         ],
         "y": [
          0,
          0,
          0,
          0,
          0,
          0,
          0
         ]
        },
        {
         "line": {
          "dash": "solid"
         },
         "name": "外出技术支持数(王红)",
         "type": "scatter",
         "uid": "40490160-dbfd-11e8-8ddb-a41f72875c19",
         "x": [
          "10-4",
          "8-3",
          "8-4",
          "9-1",
          "9-2",
          "9-3",
          "9-4"
         ],
         "y": [
          0,
          null,
          null,
          null,
          null,
          null,
          null
         ]
        },
        {
         "line": {
          "dash": "dot"
         },
         "name": "外出技术支持数(李庆原)",
         "type": "scatter",
         "uid": "40490161-dbfd-11e8-8ddb-a41f72875c19",
         "x": [
          "10-4",
          "8-3",
          "8-4",
          "9-1",
          "9-2",
          "9-3",
          "9-4"
         ],
         "y": [
          0,
          0,
          0,
          0,
          0,
          0,
          null
         ]
        },
        {
         "line": {
          "dash": "dash"
         },
         "name": "外出技术支持数(马潇)",
         "type": "scatter",
         "uid": "40490162-dbfd-11e8-8ddb-a41f72875c19",
         "x": [
          "10-4",
          "8-3",
          "8-4",
          "9-1",
          "9-2",
          "9-3",
          "9-4"
         ],
         "y": [
          0,
          0,
          0,
          0,
          0,
          0,
          0
         ]
        },
        {
         "line": {
          "dash": "longdash"
         },
         "name": "外出技术支持数(占伟)",
         "type": "scatter",
         "uid": "40490163-dbfd-11e8-8ddb-a41f72875c19",
         "x": [
          "10-4",
          "8-3",
          "8-4",
          "9-1",
          "9-2",
          "9-3",
          "9-4"
         ],
         "y": [
          0,
          0,
          0,
          0,
          0,
          0,
          0
         ]
        },
        {
         "line": {
          "dash": "dashdot"
         },
         "name": "外出技术支持数(宋迎楠)",
         "type": "scatter",
         "uid": "40490164-dbfd-11e8-8ddb-a41f72875c19",
         "x": [
          "10-4",
          "8-3",
          "8-4",
          "9-1",
          "9-2",
          "9-3",
          "9-4"
         ],
         "y": [
          null,
          0,
          0,
          0,
          null,
          null,
          null
         ]
        },
        {
         "line": {
          "dash": "longdashdot"
         },
         "name": "外出技术支持数(范旭宁)",
         "type": "scatter",
         "uid": "40490165-dbfd-11e8-8ddb-a41f72875c19",
         "x": [
          "10-4",
          "8-3",
          "8-4",
          "9-1",
          "9-2",
          "9-3",
          "9-4"
         ],
         "y": [
          0,
          0,
          0,
          0,
          0,
          0,
          0
         ]
        },
        {
         "line": {
          "dash": "solid"
         },
         "name": "外出技术支持数(屈昂)",
         "type": "scatter",
         "uid": "40490166-dbfd-11e8-8ddb-a41f72875c19",
         "x": [
          "10-4",
          "8-3",
          "8-4",
          "9-1",
          "9-2",
          "9-3",
          "9-4"
         ],
         "y": [
          0,
          null,
          null,
          null,
          null,
          null,
          null
         ]
        },
        {
         "line": {
          "dash": "dot"
         },
         "name": "外出技术支持数(张守伟)",
         "type": "scatter",
         "uid": "40490167-dbfd-11e8-8ddb-a41f72875c19",
         "x": [
          "10-4",
          "8-3",
          "8-4",
          "9-1",
          "9-2",
          "9-3",
          "9-4"
         ],
         "y": [
          0,
          0,
          0,
          0,
          0,
          0,
          0
         ]
        },
        {
         "line": {
          "dash": "dash"
         },
         "name": "外出技术支持数(封彦杰)",
         "type": "scatter",
         "uid": "40490168-dbfd-11e8-8ddb-a41f72875c19",
         "x": [
          "10-4",
          "8-3",
          "8-4",
          "9-1",
          "9-2",
          "9-3",
          "9-4"
         ],
         "y": [
          0,
          0,
          0,
          0,
          0,
          0,
          0
         ]
        },
        {
         "line": {
          "dash": "longdash"
         },
         "name": "外出技术支持数(张悦)",
         "type": "scatter",
         "uid": "40490169-dbfd-11e8-8ddb-a41f72875c19",
         "x": [
          "10-4",
          "8-3",
          "8-4",
          "9-1",
          "9-2",
          "9-3",
          "9-4"
         ],
         "y": [
          0,
          null,
          null,
          null,
          null,
          null,
          null
         ]
        },
        {
         "line": {
          "dash": "dashdot"
         },
         "name": "外出技术支持数(于慧)",
         "type": "scatter",
         "uid": "4049016a-dbfd-11e8-8ddb-a41f72875c19",
         "x": [
          "10-4",
          "8-3",
          "8-4",
          "9-1",
          "9-2",
          "9-3",
          "9-4"
         ],
         "y": [
          0,
          0,
          0,
          0,
          0,
          0,
          0
         ]
        }
       ],
       "layout": {
        "title": "电话会议次数&客户来访接待数&外出技术支持数周趋势图",
        "xaxis": {
         "mirror": "all",
         "nticks": 20,
         "showgrid": true,
         "showline": true,
         "title": "周",
         "type": "category",
         "zeroline": true
        },
        "yaxis": {
         "mirror": "all",
         "nticks": 20,
         "showgrid": true,
         "showline": true,
         "title": "电话会议次数&客户来访接待数&外出技术支持数",
         "zeroline": true
        }
       }
      },
      "text/html": [
       "<div id=\"eb862edf-43b6-45d9-a47c-eb420abe1292\" style=\"height: 525px; width: 100%;\" class=\"plotly-graph-div\"></div><script type=\"text/javascript\">require([\"plotly\"], function(Plotly) { window.PLOTLYENV=window.PLOTLYENV || {};window.PLOTLYENV.BASE_URL=\"https://plot.ly\";Plotly.newPlot(\"eb862edf-43b6-45d9-a47c-eb420abe1292\", [{\"line\": {\"dash\": \"solid\"}, \"name\": \"\\u7535\\u8bdd\\u4f1a\\u8bae\\u6b21\\u6570(\\u97e9\\u5c11\\u6000)\", \"x\": [\"10-4\", \"8-3\", \"8-4\", \"9-1\", \"9-2\", \"9-3\", \"9-4\"], \"y\": [0.0, 0.0, 0.0, 0.0, 0.0, 0.0, null], \"type\": \"scatter\", \"uid\": \"40490102-dbfd-11e8-8ddb-a41f72875c19\"}, {\"line\": {\"dash\": \"dot\"}, \"name\": \"\\u7535\\u8bdd\\u4f1a\\u8bae\\u6b21\\u6570(\\u82cf\\u5f66\\u52cb)\", \"x\": [\"10-4\", \"8-3\", \"8-4\", \"9-1\", \"9-2\", \"9-3\", \"9-4\"], \"y\": [0.0, 0.0, 0.0, 0.0, 0.0, 0.0, null], \"type\": \"scatter\", \"uid\": \"40490103-dbfd-11e8-8ddb-a41f72875c19\"}, {\"line\": {\"dash\": \"dash\"}, \"name\": \"\\u7535\\u8bdd\\u4f1a\\u8bae\\u6b21\\u6570(\\u5b5f\\u660a)\", \"x\": [\"10-4\", \"8-3\", \"8-4\", \"9-1\", \"9-2\", \"9-3\", \"9-4\"], \"y\": [0.0, 0.0, 0.0, 0.0, 0.0, 0.0, 0.0], \"type\": \"scatter\", \"uid\": \"40490104-dbfd-11e8-8ddb-a41f72875c19\"}, {\"line\": {\"dash\": \"longdash\"}, \"name\": \"\\u7535\\u8bdd\\u4f1a\\u8bae\\u6b21\\u6570(\\u4efb\\u96ea)\", \"x\": [\"10-4\", \"8-3\", \"8-4\", \"9-1\", \"9-2\", \"9-3\", \"9-4\"], \"y\": [0.0, null, 0.0, 0.0, 0.0, 0.0, 0.0], \"type\": \"scatter\", \"uid\": \"40490105-dbfd-11e8-8ddb-a41f72875c19\"}, {\"line\": {\"dash\": \"dashdot\"}, \"name\": \"\\u7535\\u8bdd\\u4f1a\\u8bae\\u6b21\\u6570(\\u6d82\\u6210\\u82b3)\", \"x\": [\"10-4\", \"8-3\", \"8-4\", \"9-1\", \"9-2\", \"9-3\", \"9-4\"], \"y\": [0.0, null, null, null, null, null, null], \"type\": \"scatter\", \"uid\": \"40490106-dbfd-11e8-8ddb-a41f72875c19\"}, {\"line\": {\"dash\": \"longdashdot\"}, \"name\": \"\\u7535\\u8bdd\\u4f1a\\u8bae\\u6b21\\u6570(\\u4e8e\\u52c7\\u4e00)\", \"x\": [\"10-4\", \"8-3\", \"8-4\", \"9-1\", \"9-2\", \"9-3\", \"9-4\"], \"y\": [0.0, 0.0, 0.0, 0.0, 0.0, 0.0, 0.0], \"type\": \"scatter\", \"uid\": \"40490107-dbfd-11e8-8ddb-a41f72875c19\"}, {\"line\": {\"dash\": \"solid\"}, \"name\": \"\\u7535\\u8bdd\\u4f1a\\u8bae\\u6b21\\u6570(\\u8def\\u6167\\u840d)\", \"x\": [\"10-4\", \"8-3\", \"8-4\", \"9-1\", \"9-2\", \"9-3\", \"9-4\"], \"y\": [0.0, 1.0, 0.0, 0.0, 0.0, 0.0, null], \"type\": \"scatter\", \"uid\": \"40490108-dbfd-11e8-8ddb-a41f72875c19\"}, {\"line\": {\"dash\": \"dot\"}, \"name\": \"\\u7535\\u8bdd\\u4f1a\\u8bae\\u6b21\\u6570(\\u6768\\u4f1f\\u98de)\", \"x\": [\"10-4\", \"8-3\", \"8-4\", \"9-1\", \"9-2\", \"9-3\", \"9-4\"], \"y\": [0.0, 0.0, 0.0, 1.0, 1.0, 2.0, 1.0], \"type\": \"scatter\", \"uid\": \"40490109-dbfd-11e8-8ddb-a41f72875c19\"}, {\"line\": {\"dash\": \"dash\"}, \"name\": \"\\u7535\\u8bdd\\u4f1a\\u8bae\\u6b21\\u6570(\\u6636\\u5409\\u9633)\", \"x\": [\"10-4\", \"8-3\", \"8-4\", \"9-1\", \"9-2\", \"9-3\", \"9-4\"], \"y\": [0.0, null, null, null, null, null, null], \"type\": \"scatter\", \"uid\": \"4049010a-dbfd-11e8-8ddb-a41f72875c19\"}, {\"line\": {\"dash\": \"longdash\"}, \"name\": \"\\u7535\\u8bdd\\u4f1a\\u8bae\\u6b21\\u6570(\\u738b\\u5b81)\", \"x\": [\"10-4\", \"8-3\", \"8-4\", \"9-1\", \"9-2\", \"9-3\", \"9-4\"], \"y\": [null, 0.0, 1.0, 0.0, null, null, null], \"type\": \"scatter\", \"uid\": \"4049010b-dbfd-11e8-8ddb-a41f72875c19\"}, {\"line\": {\"dash\": \"dashdot\"}, \"name\": \"\\u7535\\u8bdd\\u4f1a\\u8bae\\u6b21\\u6570(\\u8f66\\u5929\\u680b)\", \"x\": [\"10-4\", \"8-3\", \"8-4\", \"9-1\", \"9-2\", \"9-3\", \"9-4\"], \"y\": [0.0, null, null, null, null, null, null], \"type\": \"scatter\", \"uid\": \"4049010c-dbfd-11e8-8ddb-a41f72875c19\"}, {\"line\": {\"dash\": \"longdashdot\"}, \"name\": \"\\u7535\\u8bdd\\u4f1a\\u8bae\\u6b21\\u6570(\\u5468\\u6768)\", \"x\": [\"10-4\", \"8-3\", \"8-4\", \"9-1\", \"9-2\", \"9-3\", \"9-4\"], \"y\": [0.0, 1.0, 0.0, 0.0, 0.0, 0.0, 0.0], \"type\": \"scatter\", \"uid\": \"4049010d-dbfd-11e8-8ddb-a41f72875c19\"}, {\"line\": {\"dash\": \"solid\"}, \"name\": \"\\u7535\\u8bdd\\u4f1a\\u8bae\\u6b21\\u6570(\\u6bb5\\u5229\\u5f3a)\", \"x\": [\"10-4\", \"8-3\", \"8-4\", \"9-1\", \"9-2\", \"9-3\", \"9-4\"], \"y\": [null, null, null, null, null, null, 1.0], \"type\": \"scatter\", \"uid\": \"4049010e-dbfd-11e8-8ddb-a41f72875c19\"}, {\"line\": {\"dash\": \"dot\"}, \"name\": \"\\u7535\\u8bdd\\u4f1a\\u8bae\\u6b21\\u6570(\\u8d75\\u73a5)\", \"x\": [\"10-4\", \"8-3\", \"8-4\", \"9-1\", \"9-2\", \"9-3\", \"9-4\"], \"y\": [0.0, 2.0, 0.0, 0.0, 2.0, 0.0, 0.0], \"type\": \"scatter\", \"uid\": \"4049010f-dbfd-11e8-8ddb-a41f72875c19\"}, {\"line\": {\"dash\": \"dash\"}, \"name\": \"\\u7535\\u8bdd\\u4f1a\\u8bae\\u6b21\\u6570(\\u51b7\\u96ea)\", \"x\": [\"10-4\", \"8-3\", \"8-4\", \"9-1\", \"9-2\", \"9-3\", \"9-4\"], \"y\": [0.0, null, null, null, null, null, null], \"type\": \"scatter\", \"uid\": \"40490110-dbfd-11e8-8ddb-a41f72875c19\"}, {\"line\": {\"dash\": \"longdash\"}, \"name\": \"\\u7535\\u8bdd\\u4f1a\\u8bae\\u6b21\\u6570(\\u51af\\u656c\\u5ca9)\", \"x\": [\"10-4\", \"8-3\", \"8-4\", \"9-1\", \"9-2\", \"9-3\", \"9-4\"], \"y\": [0.0, null, null, null, null, null, null], \"type\": \"scatter\", \"uid\": \"40490111-dbfd-11e8-8ddb-a41f72875c19\"}, {\"line\": {\"dash\": \"dashdot\"}, \"name\": \"\\u7535\\u8bdd\\u4f1a\\u8bae\\u6b21\\u6570(\\u59da\\u76df\\u6210)\", \"x\": [\"10-4\", \"8-3\", \"8-4\", \"9-1\", \"9-2\", \"9-3\", \"9-4\"], \"y\": [0.0, 0.0, 1.0, 1.0, 0.0, 1.0, 0.0], \"type\": \"scatter\", \"uid\": \"40490112-dbfd-11e8-8ddb-a41f72875c19\"}, {\"line\": {\"dash\": \"longdashdot\"}, \"name\": \"\\u7535\\u8bdd\\u4f1a\\u8bae\\u6b21\\u6570(\\u674e\\u534e\\u4e91)\", \"x\": [\"10-4\", \"8-3\", \"8-4\", \"9-1\", \"9-2\", \"9-3\", \"9-4\"], \"y\": [0.0, 0.0, 0.0, 0.0, 0.0, 1.0, null], \"type\": \"scatter\", \"uid\": \"40490113-dbfd-11e8-8ddb-a41f72875c19\"}, {\"line\": {\"dash\": \"solid\"}, \"name\": \"\\u7535\\u8bdd\\u4f1a\\u8bae\\u6b21\\u6570(\\u9648\\u9e4f\\u71d5)\", \"x\": [\"10-4\", \"8-3\", \"8-4\", \"9-1\", \"9-2\", \"9-3\", \"9-4\"], \"y\": [0.0, null, null, null, null, null, null], \"type\": \"scatter\", \"uid\": \"40490114-dbfd-11e8-8ddb-a41f72875c19\"}, {\"line\": {\"dash\": \"dot\"}, \"name\": \"\\u7535\\u8bdd\\u4f1a\\u8bae\\u6b21\\u6570(\\u5218\\u6167\\u73b2)\", \"x\": [\"10-4\", \"8-3\", \"8-4\", \"9-1\", \"9-2\", \"9-3\", \"9-4\"], \"y\": [null, 0.0, 0.0, 0.0, null, null, null], \"type\": \"scatter\", \"uid\": \"40490115-dbfd-11e8-8ddb-a41f72875c19\"}, {\"line\": {\"dash\": \"dash\"}, \"name\": \"\\u7535\\u8bdd\\u4f1a\\u8bae\\u6b21\\u6570(\\u6c88\\u6069\\u60e0)\", \"x\": [\"10-4\", \"8-3\", \"8-4\", \"9-1\", \"9-2\", \"9-3\", \"9-4\"], \"y\": [0.0, null, null, null, null, null, null], \"type\": \"scatter\", \"uid\": \"40490116-dbfd-11e8-8ddb-a41f72875c19\"}, {\"line\": {\"dash\": \"longdash\"}, \"name\": \"\\u7535\\u8bdd\\u4f1a\\u8bae\\u6b21\\u6570(\\u6797\\u6587\\u6587)\", \"x\": [\"10-4\", \"8-3\", \"8-4\", \"9-1\", \"9-2\", \"9-3\", \"9-4\"], \"y\": [0.0, null, null, null, null, null, null], \"type\": \"scatter\", \"uid\": \"40490117-dbfd-11e8-8ddb-a41f72875c19\"}, {\"line\": {\"dash\": \"dashdot\"}, \"name\": \"\\u7535\\u8bdd\\u4f1a\\u8bae\\u6b21\\u6570(\\u8c22\\u5fb7\\u5065)\", \"x\": [\"10-4\", \"8-3\", \"8-4\", \"9-1\", \"9-2\", \"9-3\", \"9-4\"], \"y\": [0.0, 2.0, 1.0, null, 1.0, 1.0, 0.0], \"type\": \"scatter\", \"uid\": \"40490118-dbfd-11e8-8ddb-a41f72875c19\"}, {\"line\": {\"dash\": \"longdashdot\"}, \"name\": \"\\u7535\\u8bdd\\u4f1a\\u8bae\\u6b21\\u6570(\\u5218\\u6c5f)\", \"x\": [\"10-4\", \"8-3\", \"8-4\", \"9-1\", \"9-2\", \"9-3\", \"9-4\"], \"y\": [0.0, 1.0, 1.0, 1.0, 1.0, 1.0, 0.0], \"type\": \"scatter\", \"uid\": \"40490119-dbfd-11e8-8ddb-a41f72875c19\"}, {\"line\": {\"dash\": \"solid\"}, \"name\": \"\\u7535\\u8bdd\\u4f1a\\u8bae\\u6b21\\u6570(\\u738b\\u7ea2)\", \"x\": [\"10-4\", \"8-3\", \"8-4\", \"9-1\", \"9-2\", \"9-3\", \"9-4\"], \"y\": [0.0, null, null, null, null, null, null], \"type\": \"scatter\", \"uid\": \"4049011a-dbfd-11e8-8ddb-a41f72875c19\"}, {\"line\": {\"dash\": \"dot\"}, \"name\": \"\\u7535\\u8bdd\\u4f1a\\u8bae\\u6b21\\u6570(\\u674e\\u5e86\\u539f)\", \"x\": [\"10-4\", \"8-3\", \"8-4\", \"9-1\", \"9-2\", \"9-3\", \"9-4\"], \"y\": [0.0, 2.0, 0.0, 0.0, 1.0, 1.0, null], \"type\": \"scatter\", \"uid\": \"4049011b-dbfd-11e8-8ddb-a41f72875c19\"}, {\"line\": {\"dash\": \"dash\"}, \"name\": \"\\u7535\\u8bdd\\u4f1a\\u8bae\\u6b21\\u6570(\\u9a6c\\u6f47)\", \"x\": [\"10-4\", \"8-3\", \"8-4\", \"9-1\", \"9-2\", \"9-3\", \"9-4\"], \"y\": [0.0, 0.0, 0.0, 0.0, 0.0, 0.0, 0.0], \"type\": \"scatter\", \"uid\": \"4049011c-dbfd-11e8-8ddb-a41f72875c19\"}, {\"line\": {\"dash\": \"longdash\"}, \"name\": \"\\u7535\\u8bdd\\u4f1a\\u8bae\\u6b21\\u6570(\\u5360\\u4f1f)\", \"x\": [\"10-4\", \"8-3\", \"8-4\", \"9-1\", \"9-2\", \"9-3\", \"9-4\"], \"y\": [0.0, 0.0, 1.0, 2.0, 1.0, 2.0, 1.0], \"type\": \"scatter\", \"uid\": \"4049011d-dbfd-11e8-8ddb-a41f72875c19\"}, {\"line\": {\"dash\": \"dashdot\"}, \"name\": \"\\u7535\\u8bdd\\u4f1a\\u8bae\\u6b21\\u6570(\\u5b8b\\u8fce\\u6960)\", \"x\": [\"10-4\", \"8-3\", \"8-4\", \"9-1\", \"9-2\", \"9-3\", \"9-4\"], \"y\": [null, 0.0, 0.0, 0.0, null, null, null], \"type\": \"scatter\", \"uid\": \"4049011e-dbfd-11e8-8ddb-a41f72875c19\"}, {\"line\": {\"dash\": \"longdashdot\"}, \"name\": \"\\u7535\\u8bdd\\u4f1a\\u8bae\\u6b21\\u6570(\\u8303\\u65ed\\u5b81)\", \"x\": [\"10-4\", \"8-3\", \"8-4\", \"9-1\", \"9-2\", \"9-3\", \"9-4\"], \"y\": [0.0, 0.0, 0.0, 0.0, 0.0, 0.0, 0.0], \"type\": \"scatter\", \"uid\": \"4049011f-dbfd-11e8-8ddb-a41f72875c19\"}, {\"line\": {\"dash\": \"solid\"}, \"name\": \"\\u7535\\u8bdd\\u4f1a\\u8bae\\u6b21\\u6570(\\u5c48\\u6602)\", \"x\": [\"10-4\", \"8-3\", \"8-4\", \"9-1\", \"9-2\", \"9-3\", \"9-4\"], \"y\": [0.0, null, null, null, null, null, null], \"type\": \"scatter\", \"uid\": \"40490120-dbfd-11e8-8ddb-a41f72875c19\"}, {\"line\": {\"dash\": \"dot\"}, \"name\": \"\\u7535\\u8bdd\\u4f1a\\u8bae\\u6b21\\u6570(\\u5f20\\u5b88\\u4f1f)\", \"x\": [\"10-4\", \"8-3\", \"8-4\", \"9-1\", \"9-2\", \"9-3\", \"9-4\"], \"y\": [0.0, 0.0, 0.0, 0.0, 0.0, 0.0, 0.0], \"type\": \"scatter\", \"uid\": \"40490121-dbfd-11e8-8ddb-a41f72875c19\"}, {\"line\": {\"dash\": \"dash\"}, \"name\": \"\\u7535\\u8bdd\\u4f1a\\u8bae\\u6b21\\u6570(\\u5c01\\u5f66\\u6770)\", \"x\": [\"10-4\", \"8-3\", \"8-4\", \"9-1\", \"9-2\", \"9-3\", \"9-4\"], \"y\": [0.0, 0.0, 0.0, 0.0, 1.0, 1.0, 0.0], \"type\": \"scatter\", \"uid\": \"40490122-dbfd-11e8-8ddb-a41f72875c19\"}, {\"line\": {\"dash\": \"longdash\"}, \"name\": \"\\u7535\\u8bdd\\u4f1a\\u8bae\\u6b21\\u6570(\\u5f20\\u60a6)\", \"x\": [\"10-4\", \"8-3\", \"8-4\", \"9-1\", \"9-2\", \"9-3\", \"9-4\"], \"y\": [0.0, null, null, null, null, null, null], \"type\": \"scatter\", \"uid\": \"40490123-dbfd-11e8-8ddb-a41f72875c19\"}, {\"line\": {\"dash\": \"dashdot\"}, \"name\": \"\\u7535\\u8bdd\\u4f1a\\u8bae\\u6b21\\u6570(\\u4e8e\\u6167)\", \"x\": [\"10-4\", \"8-3\", \"8-4\", \"9-1\", \"9-2\", \"9-3\", \"9-4\"], \"y\": [0.0, 0.0, 0.0, 0.0, 0.0, 0.0, 0.0], \"type\": \"scatter\", \"uid\": \"40490124-dbfd-11e8-8ddb-a41f72875c19\"}, {\"line\": {\"dash\": \"solid\"}, \"name\": \"\\u5ba2\\u6237\\u6765\\u8bbf\\u63a5\\u5f85\\u6570(\\u97e9\\u5c11\\u6000)\", \"x\": [\"10-4\", \"8-3\", \"8-4\", \"9-1\", \"9-2\", \"9-3\", \"9-4\"], \"y\": [0.0, 0.0, 0.0, 0.0, 0.0, 0.0, null], \"type\": \"scatter\", \"uid\": \"40490125-dbfd-11e8-8ddb-a41f72875c19\"}, {\"line\": {\"dash\": \"dot\"}, \"name\": \"\\u5ba2\\u6237\\u6765\\u8bbf\\u63a5\\u5f85\\u6570(\\u82cf\\u5f66\\u52cb)\", \"x\": [\"10-4\", \"8-3\", \"8-4\", \"9-1\", \"9-2\", \"9-3\", \"9-4\"], \"y\": [0.0, 0.0, 0.0, 0.0, 0.0, 0.0, null], \"type\": \"scatter\", \"uid\": \"40490126-dbfd-11e8-8ddb-a41f72875c19\"}, {\"line\": {\"dash\": \"dash\"}, \"name\": \"\\u5ba2\\u6237\\u6765\\u8bbf\\u63a5\\u5f85\\u6570(\\u5b5f\\u660a)\", \"x\": [\"10-4\", \"8-3\", \"8-4\", \"9-1\", \"9-2\", \"9-3\", \"9-4\"], \"y\": [0.0, 0.0, 0.0, 0.0, 0.0, 0.0, 0.0], \"type\": \"scatter\", \"uid\": \"40490127-dbfd-11e8-8ddb-a41f72875c19\"}, {\"line\": {\"dash\": \"longdash\"}, \"name\": \"\\u5ba2\\u6237\\u6765\\u8bbf\\u63a5\\u5f85\\u6570(\\u4efb\\u96ea)\", \"x\": [\"10-4\", \"8-3\", \"8-4\", \"9-1\", \"9-2\", \"9-3\", \"9-4\"], \"y\": [0.0, null, 0.0, 0.0, 0.0, 1.0, 0.0], \"type\": \"scatter\", \"uid\": \"40490128-dbfd-11e8-8ddb-a41f72875c19\"}, {\"line\": {\"dash\": \"dashdot\"}, \"name\": \"\\u5ba2\\u6237\\u6765\\u8bbf\\u63a5\\u5f85\\u6570(\\u6d82\\u6210\\u82b3)\", \"x\": [\"10-4\", \"8-3\", \"8-4\", \"9-1\", \"9-2\", \"9-3\", \"9-4\"], \"y\": [0.0, null, null, null, null, null, null], \"type\": \"scatter\", \"uid\": \"40490129-dbfd-11e8-8ddb-a41f72875c19\"}, {\"line\": {\"dash\": \"longdashdot\"}, \"name\": \"\\u5ba2\\u6237\\u6765\\u8bbf\\u63a5\\u5f85\\u6570(\\u4e8e\\u52c7\\u4e00)\", \"x\": [\"10-4\", \"8-3\", \"8-4\", \"9-1\", \"9-2\", \"9-3\", \"9-4\"], \"y\": [0.0, 0.0, 0.0, 0.0, 0.0, 0.0, 0.0], \"type\": \"scatter\", \"uid\": \"4049012a-dbfd-11e8-8ddb-a41f72875c19\"}, {\"line\": {\"dash\": \"solid\"}, \"name\": \"\\u5ba2\\u6237\\u6765\\u8bbf\\u63a5\\u5f85\\u6570(\\u8def\\u6167\\u840d)\", \"x\": [\"10-4\", \"8-3\", \"8-4\", \"9-1\", \"9-2\", \"9-3\", \"9-4\"], \"y\": [0.0, 1.0, 0.0, 0.0, 0.0, 0.0, null], \"type\": \"scatter\", \"uid\": \"4049012b-dbfd-11e8-8ddb-a41f72875c19\"}, {\"line\": {\"dash\": \"dot\"}, \"name\": \"\\u5ba2\\u6237\\u6765\\u8bbf\\u63a5\\u5f85\\u6570(\\u6768\\u4f1f\\u98de)\", \"x\": [\"10-4\", \"8-3\", \"8-4\", \"9-1\", \"9-2\", \"9-3\", \"9-4\"], \"y\": [0.0, 0.0, 0.0, 0.0, 0.0, 0.0, 0.0], \"type\": \"scatter\", \"uid\": \"4049012c-dbfd-11e8-8ddb-a41f72875c19\"}, {\"line\": {\"dash\": \"dash\"}, \"name\": \"\\u5ba2\\u6237\\u6765\\u8bbf\\u63a5\\u5f85\\u6570(\\u6636\\u5409\\u9633)\", \"x\": [\"10-4\", \"8-3\", \"8-4\", \"9-1\", \"9-2\", \"9-3\", \"9-4\"], \"y\": [0.0, null, null, null, null, null, null], \"type\": \"scatter\", \"uid\": \"4049012d-dbfd-11e8-8ddb-a41f72875c19\"}, {\"line\": {\"dash\": \"longdash\"}, \"name\": \"\\u5ba2\\u6237\\u6765\\u8bbf\\u63a5\\u5f85\\u6570(\\u738b\\u5b81)\", \"x\": [\"10-4\", \"8-3\", \"8-4\", \"9-1\", \"9-2\", \"9-3\", \"9-4\"], \"y\": [null, 0.0, 0.0, 0.0, null, null, null], \"type\": \"scatter\", \"uid\": \"4049012e-dbfd-11e8-8ddb-a41f72875c19\"}, {\"line\": {\"dash\": \"dashdot\"}, \"name\": \"\\u5ba2\\u6237\\u6765\\u8bbf\\u63a5\\u5f85\\u6570(\\u8f66\\u5929\\u680b)\", \"x\": [\"10-4\", \"8-3\", \"8-4\", \"9-1\", \"9-2\", \"9-3\", \"9-4\"], \"y\": [0.0, null, null, null, null, null, null], \"type\": \"scatter\", \"uid\": \"4049012f-dbfd-11e8-8ddb-a41f72875c19\"}, {\"line\": {\"dash\": \"longdashdot\"}, \"name\": \"\\u5ba2\\u6237\\u6765\\u8bbf\\u63a5\\u5f85\\u6570(\\u5468\\u6768)\", \"x\": [\"10-4\", \"8-3\", \"8-4\", \"9-1\", \"9-2\", \"9-3\", \"9-4\"], \"y\": [0.0, 0.0, 0.0, 0.0, 0.0, 0.0, 0.0], \"type\": \"scatter\", \"uid\": \"40490130-dbfd-11e8-8ddb-a41f72875c19\"}, {\"line\": {\"dash\": \"solid\"}, \"name\": \"\\u5ba2\\u6237\\u6765\\u8bbf\\u63a5\\u5f85\\u6570(\\u6bb5\\u5229\\u5f3a)\", \"x\": [\"10-4\", \"8-3\", \"8-4\", \"9-1\", \"9-2\", \"9-3\", \"9-4\"], \"y\": [null, null, null, null, null, null, 0.0], \"type\": \"scatter\", \"uid\": \"40490131-dbfd-11e8-8ddb-a41f72875c19\"}, {\"line\": {\"dash\": \"dot\"}, \"name\": \"\\u5ba2\\u6237\\u6765\\u8bbf\\u63a5\\u5f85\\u6570(\\u8d75\\u73a5)\", \"x\": [\"10-4\", \"8-3\", \"8-4\", \"9-1\", \"9-2\", \"9-3\", \"9-4\"], \"y\": [0.0, 0.0, 0.0, 0.0, 0.0, 0.0, 1.0], \"type\": \"scatter\", \"uid\": \"40490132-dbfd-11e8-8ddb-a41f72875c19\"}, {\"line\": {\"dash\": \"dash\"}, \"name\": \"\\u5ba2\\u6237\\u6765\\u8bbf\\u63a5\\u5f85\\u6570(\\u51b7\\u96ea)\", \"x\": [\"10-4\", \"8-3\", \"8-4\", \"9-1\", \"9-2\", \"9-3\", \"9-4\"], \"y\": [0.0, null, null, null, null, null, null], \"type\": \"scatter\", \"uid\": \"40490133-dbfd-11e8-8ddb-a41f72875c19\"}, {\"line\": {\"dash\": \"longdash\"}, \"name\": \"\\u5ba2\\u6237\\u6765\\u8bbf\\u63a5\\u5f85\\u6570(\\u51af\\u656c\\u5ca9)\", \"x\": [\"10-4\", \"8-3\", \"8-4\", \"9-1\", \"9-2\", \"9-3\", \"9-4\"], \"y\": [0.0, null, null, null, null, null, null], \"type\": \"scatter\", \"uid\": \"40490134-dbfd-11e8-8ddb-a41f72875c19\"}, {\"line\": {\"dash\": \"dashdot\"}, \"name\": \"\\u5ba2\\u6237\\u6765\\u8bbf\\u63a5\\u5f85\\u6570(\\u59da\\u76df\\u6210)\", \"x\": [\"10-4\", \"8-3\", \"8-4\", \"9-1\", \"9-2\", \"9-3\", \"9-4\"], \"y\": [0.0, 0.0, 0.0, 0.0, 0.0, 0.0, 0.0], \"type\": \"scatter\", \"uid\": \"40490135-dbfd-11e8-8ddb-a41f72875c19\"}, {\"line\": {\"dash\": \"longdashdot\"}, \"name\": \"\\u5ba2\\u6237\\u6765\\u8bbf\\u63a5\\u5f85\\u6570(\\u674e\\u534e\\u4e91)\", \"x\": [\"10-4\", \"8-3\", \"8-4\", \"9-1\", \"9-2\", \"9-3\", \"9-4\"], \"y\": [0.0, 0.0, 0.0, 0.0, 0.0, 0.0, null], \"type\": \"scatter\", \"uid\": \"40490136-dbfd-11e8-8ddb-a41f72875c19\"}, {\"line\": {\"dash\": \"solid\"}, \"name\": \"\\u5ba2\\u6237\\u6765\\u8bbf\\u63a5\\u5f85\\u6570(\\u9648\\u9e4f\\u71d5)\", \"x\": [\"10-4\", \"8-3\", \"8-4\", \"9-1\", \"9-2\", \"9-3\", \"9-4\"], \"y\": [0.0, null, null, null, null, null, null], \"type\": \"scatter\", \"uid\": \"40490137-dbfd-11e8-8ddb-a41f72875c19\"}, {\"line\": {\"dash\": \"dot\"}, \"name\": \"\\u5ba2\\u6237\\u6765\\u8bbf\\u63a5\\u5f85\\u6570(\\u5218\\u6167\\u73b2)\", \"x\": [\"10-4\", \"8-3\", \"8-4\", \"9-1\", \"9-2\", \"9-3\", \"9-4\"], \"y\": [null, 0.0, 0.0, 0.0, null, null, null], \"type\": \"scatter\", \"uid\": \"40490138-dbfd-11e8-8ddb-a41f72875c19\"}, {\"line\": {\"dash\": \"dash\"}, \"name\": \"\\u5ba2\\u6237\\u6765\\u8bbf\\u63a5\\u5f85\\u6570(\\u6c88\\u6069\\u60e0)\", \"x\": [\"10-4\", \"8-3\", \"8-4\", \"9-1\", \"9-2\", \"9-3\", \"9-4\"], \"y\": [0.0, null, null, null, null, null, null], \"type\": \"scatter\", \"uid\": \"40490139-dbfd-11e8-8ddb-a41f72875c19\"}, {\"line\": {\"dash\": \"longdash\"}, \"name\": \"\\u5ba2\\u6237\\u6765\\u8bbf\\u63a5\\u5f85\\u6570(\\u6797\\u6587\\u6587)\", \"x\": [\"10-4\", \"8-3\", \"8-4\", \"9-1\", \"9-2\", \"9-3\", \"9-4\"], \"y\": [0.0, null, null, null, null, null, null], \"type\": \"scatter\", \"uid\": \"4049013a-dbfd-11e8-8ddb-a41f72875c19\"}, {\"line\": {\"dash\": \"dashdot\"}, \"name\": \"\\u5ba2\\u6237\\u6765\\u8bbf\\u63a5\\u5f85\\u6570(\\u8c22\\u5fb7\\u5065)\", \"x\": [\"10-4\", \"8-3\", \"8-4\", \"9-1\", \"9-2\", \"9-3\", \"9-4\"], \"y\": [0.0, 0.0, 0.0, null, 0.0, 0.0, 3.0], \"type\": \"scatter\", \"uid\": \"4049013b-dbfd-11e8-8ddb-a41f72875c19\"}, {\"line\": {\"dash\": \"longdashdot\"}, \"name\": \"\\u5ba2\\u6237\\u6765\\u8bbf\\u63a5\\u5f85\\u6570(\\u5218\\u6c5f)\", \"x\": [\"10-4\", \"8-3\", \"8-4\", \"9-1\", \"9-2\", \"9-3\", \"9-4\"], \"y\": [0.0, 1.0, 0.0, 0.0, 0.0, 0.0, 1.0], \"type\": \"scatter\", \"uid\": \"4049013c-dbfd-11e8-8ddb-a41f72875c19\"}, {\"line\": {\"dash\": \"solid\"}, \"name\": \"\\u5ba2\\u6237\\u6765\\u8bbf\\u63a5\\u5f85\\u6570(\\u738b\\u7ea2)\", \"x\": [\"10-4\", \"8-3\", \"8-4\", \"9-1\", \"9-2\", \"9-3\", \"9-4\"], \"y\": [0.0, null, null, null, null, null, null], \"type\": \"scatter\", \"uid\": \"4049013d-dbfd-11e8-8ddb-a41f72875c19\"}, {\"line\": {\"dash\": \"dot\"}, \"name\": \"\\u5ba2\\u6237\\u6765\\u8bbf\\u63a5\\u5f85\\u6570(\\u674e\\u5e86\\u539f)\", \"x\": [\"10-4\", \"8-3\", \"8-4\", \"9-1\", \"9-2\", \"9-3\", \"9-4\"], \"y\": [0.0, 1.0, 0.0, 0.0, 0.0, 0.0, null], \"type\": \"scatter\", \"uid\": \"4049013e-dbfd-11e8-8ddb-a41f72875c19\"}, {\"line\": {\"dash\": \"dash\"}, \"name\": \"\\u5ba2\\u6237\\u6765\\u8bbf\\u63a5\\u5f85\\u6570(\\u9a6c\\u6f47)\", \"x\": [\"10-4\", \"8-3\", \"8-4\", \"9-1\", \"9-2\", \"9-3\", \"9-4\"], \"y\": [0.0, 0.0, 0.0, 0.0, 0.0, 0.0, 0.0], \"type\": \"scatter\", \"uid\": \"4049013f-dbfd-11e8-8ddb-a41f72875c19\"}, {\"line\": {\"dash\": \"longdash\"}, \"name\": \"\\u5ba2\\u6237\\u6765\\u8bbf\\u63a5\\u5f85\\u6570(\\u5360\\u4f1f)\", \"x\": [\"10-4\", \"8-3\", \"8-4\", \"9-1\", \"9-2\", \"9-3\", \"9-4\"], \"y\": [0.0, 0.0, 0.0, 0.0, 0.0, 0.0, 1.0], \"type\": \"scatter\", \"uid\": \"40490140-dbfd-11e8-8ddb-a41f72875c19\"}, {\"line\": {\"dash\": \"dashdot\"}, \"name\": \"\\u5ba2\\u6237\\u6765\\u8bbf\\u63a5\\u5f85\\u6570(\\u5b8b\\u8fce\\u6960)\", \"x\": [\"10-4\", \"8-3\", \"8-4\", \"9-1\", \"9-2\", \"9-3\", \"9-4\"], \"y\": [null, 0.0, 0.0, 0.0, null, null, null], \"type\": \"scatter\", \"uid\": \"40490141-dbfd-11e8-8ddb-a41f72875c19\"}, {\"line\": {\"dash\": \"longdashdot\"}, \"name\": \"\\u5ba2\\u6237\\u6765\\u8bbf\\u63a5\\u5f85\\u6570(\\u8303\\u65ed\\u5b81)\", \"x\": [\"10-4\", \"8-3\", \"8-4\", \"9-1\", \"9-2\", \"9-3\", \"9-4\"], \"y\": [0.0, 0.0, 0.0, 0.0, 0.0, 0.0, 4.0], \"type\": \"scatter\", \"uid\": \"40490142-dbfd-11e8-8ddb-a41f72875c19\"}, {\"line\": {\"dash\": \"solid\"}, \"name\": \"\\u5ba2\\u6237\\u6765\\u8bbf\\u63a5\\u5f85\\u6570(\\u5c48\\u6602)\", \"x\": [\"10-4\", \"8-3\", \"8-4\", \"9-1\", \"9-2\", \"9-3\", \"9-4\"], \"y\": [0.0, null, null, null, null, null, null], \"type\": \"scatter\", \"uid\": \"40490143-dbfd-11e8-8ddb-a41f72875c19\"}, {\"line\": {\"dash\": \"dot\"}, \"name\": \"\\u5ba2\\u6237\\u6765\\u8bbf\\u63a5\\u5f85\\u6570(\\u5f20\\u5b88\\u4f1f)\", \"x\": [\"10-4\", \"8-3\", \"8-4\", \"9-1\", \"9-2\", \"9-3\", \"9-4\"], \"y\": [0.0, 0.0, 0.0, 0.0, 0.0, 0.0, 0.0], \"type\": \"scatter\", \"uid\": \"40490144-dbfd-11e8-8ddb-a41f72875c19\"}, {\"line\": {\"dash\": \"dash\"}, \"name\": \"\\u5ba2\\u6237\\u6765\\u8bbf\\u63a5\\u5f85\\u6570(\\u5c01\\u5f66\\u6770)\", \"x\": [\"10-4\", \"8-3\", \"8-4\", \"9-1\", \"9-2\", \"9-3\", \"9-4\"], \"y\": [0.0, 0.0, 0.0, 0.0, 0.0, 0.0, 0.0], \"type\": \"scatter\", \"uid\": \"40490145-dbfd-11e8-8ddb-a41f72875c19\"}, {\"line\": {\"dash\": \"longdash\"}, \"name\": \"\\u5ba2\\u6237\\u6765\\u8bbf\\u63a5\\u5f85\\u6570(\\u5f20\\u60a6)\", \"x\": [\"10-4\", \"8-3\", \"8-4\", \"9-1\", \"9-2\", \"9-3\", \"9-4\"], \"y\": [0.0, null, null, null, null, null, null], \"type\": \"scatter\", \"uid\": \"40490146-dbfd-11e8-8ddb-a41f72875c19\"}, {\"line\": {\"dash\": \"dashdot\"}, \"name\": \"\\u5ba2\\u6237\\u6765\\u8bbf\\u63a5\\u5f85\\u6570(\\u4e8e\\u6167)\", \"x\": [\"10-4\", \"8-3\", \"8-4\", \"9-1\", \"9-2\", \"9-3\", \"9-4\"], \"y\": [0.0, 0.0, 0.0, 0.0, 0.0, 0.0, 0.0], \"type\": \"scatter\", \"uid\": \"40490147-dbfd-11e8-8ddb-a41f72875c19\"}, {\"line\": {\"dash\": \"solid\"}, \"name\": \"\\u5916\\u51fa\\u6280\\u672f\\u652f\\u6301\\u6570(\\u97e9\\u5c11\\u6000)\", \"x\": [\"10-4\", \"8-3\", \"8-4\", \"9-1\", \"9-2\", \"9-3\", \"9-4\"], \"y\": [0.0, 0.0, 0.0, 0.0, 0.0, 0.0, null], \"type\": \"scatter\", \"uid\": \"40490148-dbfd-11e8-8ddb-a41f72875c19\"}, {\"line\": {\"dash\": \"dot\"}, \"name\": \"\\u5916\\u51fa\\u6280\\u672f\\u652f\\u6301\\u6570(\\u82cf\\u5f66\\u52cb)\", \"x\": [\"10-4\", \"8-3\", \"8-4\", \"9-1\", \"9-2\", \"9-3\", \"9-4\"], \"y\": [0.0, 0.0, 0.0, 0.0, 0.0, 0.0, null], \"type\": \"scatter\", \"uid\": \"40490149-dbfd-11e8-8ddb-a41f72875c19\"}, {\"line\": {\"dash\": \"dash\"}, \"name\": \"\\u5916\\u51fa\\u6280\\u672f\\u652f\\u6301\\u6570(\\u5b5f\\u660a)\", \"x\": [\"10-4\", \"8-3\", \"8-4\", \"9-1\", \"9-2\", \"9-3\", \"9-4\"], \"y\": [0.0, 0.0, 0.0, 0.0, 0.0, 0.0, 0.0], \"type\": \"scatter\", \"uid\": \"4049014a-dbfd-11e8-8ddb-a41f72875c19\"}, {\"line\": {\"dash\": \"longdash\"}, \"name\": \"\\u5916\\u51fa\\u6280\\u672f\\u652f\\u6301\\u6570(\\u4efb\\u96ea)\", \"x\": [\"10-4\", \"8-3\", \"8-4\", \"9-1\", \"9-2\", \"9-3\", \"9-4\"], \"y\": [0.0, null, 0.0, 0.0, 0.0, 0.0, 0.0], \"type\": \"scatter\", \"uid\": \"4049014b-dbfd-11e8-8ddb-a41f72875c19\"}, {\"line\": {\"dash\": \"dashdot\"}, \"name\": \"\\u5916\\u51fa\\u6280\\u672f\\u652f\\u6301\\u6570(\\u6d82\\u6210\\u82b3)\", \"x\": [\"10-4\", \"8-3\", \"8-4\", \"9-1\", \"9-2\", \"9-3\", \"9-4\"], \"y\": [0.0, null, null, null, null, null, null], \"type\": \"scatter\", \"uid\": \"4049014c-dbfd-11e8-8ddb-a41f72875c19\"}, {\"line\": {\"dash\": \"longdashdot\"}, \"name\": \"\\u5916\\u51fa\\u6280\\u672f\\u652f\\u6301\\u6570(\\u4e8e\\u52c7\\u4e00)\", \"x\": [\"10-4\", \"8-3\", \"8-4\", \"9-1\", \"9-2\", \"9-3\", \"9-4\"], \"y\": [0.0, 0.0, 0.0, 0.0, 0.0, 0.0, 0.0], \"type\": \"scatter\", \"uid\": \"4049014d-dbfd-11e8-8ddb-a41f72875c19\"}, {\"line\": {\"dash\": \"solid\"}, \"name\": \"\\u5916\\u51fa\\u6280\\u672f\\u652f\\u6301\\u6570(\\u8def\\u6167\\u840d)\", \"x\": [\"10-4\", \"8-3\", \"8-4\", \"9-1\", \"9-2\", \"9-3\", \"9-4\"], \"y\": [0.0, 0.0, 0.0, 0.0, 0.0, 0.0, null], \"type\": \"scatter\", \"uid\": \"4049014e-dbfd-11e8-8ddb-a41f72875c19\"}, {\"line\": {\"dash\": \"dot\"}, \"name\": \"\\u5916\\u51fa\\u6280\\u672f\\u652f\\u6301\\u6570(\\u6768\\u4f1f\\u98de)\", \"x\": [\"10-4\", \"8-3\", \"8-4\", \"9-1\", \"9-2\", \"9-3\", \"9-4\"], \"y\": [0.0, 0.0, 0.0, 0.0, 0.0, 0.0, 0.0], \"type\": \"scatter\", \"uid\": \"4049014f-dbfd-11e8-8ddb-a41f72875c19\"}, {\"line\": {\"dash\": \"dash\"}, \"name\": \"\\u5916\\u51fa\\u6280\\u672f\\u652f\\u6301\\u6570(\\u6636\\u5409\\u9633)\", \"x\": [\"10-4\", \"8-3\", \"8-4\", \"9-1\", \"9-2\", \"9-3\", \"9-4\"], \"y\": [0.0, null, null, null, null, null, null], \"type\": \"scatter\", \"uid\": \"40490150-dbfd-11e8-8ddb-a41f72875c19\"}, {\"line\": {\"dash\": \"longdash\"}, \"name\": \"\\u5916\\u51fa\\u6280\\u672f\\u652f\\u6301\\u6570(\\u738b\\u5b81)\", \"x\": [\"10-4\", \"8-3\", \"8-4\", \"9-1\", \"9-2\", \"9-3\", \"9-4\"], \"y\": [null, 0.0, 0.0, 0.0, null, null, null], \"type\": \"scatter\", \"uid\": \"40490151-dbfd-11e8-8ddb-a41f72875c19\"}, {\"line\": {\"dash\": \"dashdot\"}, \"name\": \"\\u5916\\u51fa\\u6280\\u672f\\u652f\\u6301\\u6570(\\u8f66\\u5929\\u680b)\", \"x\": [\"10-4\", \"8-3\", \"8-4\", \"9-1\", \"9-2\", \"9-3\", \"9-4\"], \"y\": [0.0, null, null, null, null, null, null], \"type\": \"scatter\", \"uid\": \"40490152-dbfd-11e8-8ddb-a41f72875c19\"}, {\"line\": {\"dash\": \"longdashdot\"}, \"name\": \"\\u5916\\u51fa\\u6280\\u672f\\u652f\\u6301\\u6570(\\u5468\\u6768)\", \"x\": [\"10-4\", \"8-3\", \"8-4\", \"9-1\", \"9-2\", \"9-3\", \"9-4\"], \"y\": [0.0, 0.0, 0.0, 0.0, 0.0, 0.0, 0.0], \"type\": \"scatter\", \"uid\": \"40490153-dbfd-11e8-8ddb-a41f72875c19\"}, {\"line\": {\"dash\": \"solid\"}, \"name\": \"\\u5916\\u51fa\\u6280\\u672f\\u652f\\u6301\\u6570(\\u6bb5\\u5229\\u5f3a)\", \"x\": [\"10-4\", \"8-3\", \"8-4\", \"9-1\", \"9-2\", \"9-3\", \"9-4\"], \"y\": [null, null, null, null, null, null, 0.0], \"type\": \"scatter\", \"uid\": \"40490154-dbfd-11e8-8ddb-a41f72875c19\"}, {\"line\": {\"dash\": \"dot\"}, \"name\": \"\\u5916\\u51fa\\u6280\\u672f\\u652f\\u6301\\u6570(\\u8d75\\u73a5)\", \"x\": [\"10-4\", \"8-3\", \"8-4\", \"9-1\", \"9-2\", \"9-3\", \"9-4\"], \"y\": [0.0, 0.0, 0.0, 0.0, 0.0, 0.0, 0.0], \"type\": \"scatter\", \"uid\": \"40490155-dbfd-11e8-8ddb-a41f72875c19\"}, {\"line\": {\"dash\": \"dash\"}, \"name\": \"\\u5916\\u51fa\\u6280\\u672f\\u652f\\u6301\\u6570(\\u51b7\\u96ea)\", \"x\": [\"10-4\", \"8-3\", \"8-4\", \"9-1\", \"9-2\", \"9-3\", \"9-4\"], \"y\": [0.0, null, null, null, null, null, null], \"type\": \"scatter\", \"uid\": \"40490156-dbfd-11e8-8ddb-a41f72875c19\"}, {\"line\": {\"dash\": \"longdash\"}, \"name\": \"\\u5916\\u51fa\\u6280\\u672f\\u652f\\u6301\\u6570(\\u51af\\u656c\\u5ca9)\", \"x\": [\"10-4\", \"8-3\", \"8-4\", \"9-1\", \"9-2\", \"9-3\", \"9-4\"], \"y\": [0.0, null, null, null, null, null, null], \"type\": \"scatter\", \"uid\": \"40490157-dbfd-11e8-8ddb-a41f72875c19\"}, {\"line\": {\"dash\": \"dashdot\"}, \"name\": \"\\u5916\\u51fa\\u6280\\u672f\\u652f\\u6301\\u6570(\\u59da\\u76df\\u6210)\", \"x\": [\"10-4\", \"8-3\", \"8-4\", \"9-1\", \"9-2\", \"9-3\", \"9-4\"], \"y\": [0.0, 0.0, 0.0, 0.0, 0.0, 0.0, 0.0], \"type\": \"scatter\", \"uid\": \"40490158-dbfd-11e8-8ddb-a41f72875c19\"}, {\"line\": {\"dash\": \"longdashdot\"}, \"name\": \"\\u5916\\u51fa\\u6280\\u672f\\u652f\\u6301\\u6570(\\u674e\\u534e\\u4e91)\", \"x\": [\"10-4\", \"8-3\", \"8-4\", \"9-1\", \"9-2\", \"9-3\", \"9-4\"], \"y\": [0.0, 0.0, 0.0, 0.0, 0.0, 0.0, null], \"type\": \"scatter\", \"uid\": \"40490159-dbfd-11e8-8ddb-a41f72875c19\"}, {\"line\": {\"dash\": \"solid\"}, \"name\": \"\\u5916\\u51fa\\u6280\\u672f\\u652f\\u6301\\u6570(\\u9648\\u9e4f\\u71d5)\", \"x\": [\"10-4\", \"8-3\", \"8-4\", \"9-1\", \"9-2\", \"9-3\", \"9-4\"], \"y\": [0.0, null, null, null, null, null, null], \"type\": \"scatter\", \"uid\": \"4049015a-dbfd-11e8-8ddb-a41f72875c19\"}, {\"line\": {\"dash\": \"dot\"}, \"name\": \"\\u5916\\u51fa\\u6280\\u672f\\u652f\\u6301\\u6570(\\u5218\\u6167\\u73b2)\", \"x\": [\"10-4\", \"8-3\", \"8-4\", \"9-1\", \"9-2\", \"9-3\", \"9-4\"], \"y\": [null, 0.0, 0.0, 0.0, null, null, null], \"type\": \"scatter\", \"uid\": \"4049015b-dbfd-11e8-8ddb-a41f72875c19\"}, {\"line\": {\"dash\": \"dash\"}, \"name\": \"\\u5916\\u51fa\\u6280\\u672f\\u652f\\u6301\\u6570(\\u6c88\\u6069\\u60e0)\", \"x\": [\"10-4\", \"8-3\", \"8-4\", \"9-1\", \"9-2\", \"9-3\", \"9-4\"], \"y\": [0.0, null, null, null, null, null, null], \"type\": \"scatter\", \"uid\": \"4049015c-dbfd-11e8-8ddb-a41f72875c19\"}, {\"line\": {\"dash\": \"longdash\"}, \"name\": \"\\u5916\\u51fa\\u6280\\u672f\\u652f\\u6301\\u6570(\\u6797\\u6587\\u6587)\", \"x\": [\"10-4\", \"8-3\", \"8-4\", \"9-1\", \"9-2\", \"9-3\", \"9-4\"], \"y\": [0.0, null, null, null, null, null, null], \"type\": \"scatter\", \"uid\": \"4049015d-dbfd-11e8-8ddb-a41f72875c19\"}, {\"line\": {\"dash\": \"dashdot\"}, \"name\": \"\\u5916\\u51fa\\u6280\\u672f\\u652f\\u6301\\u6570(\\u8c22\\u5fb7\\u5065)\", \"x\": [\"10-4\", \"8-3\", \"8-4\", \"9-1\", \"9-2\", \"9-3\", \"9-4\"], \"y\": [0.0, 0.0, 0.0, null, 0.0, 0.0, 0.0], \"type\": \"scatter\", \"uid\": \"4049015e-dbfd-11e8-8ddb-a41f72875c19\"}, {\"line\": {\"dash\": \"longdashdot\"}, \"name\": \"\\u5916\\u51fa\\u6280\\u672f\\u652f\\u6301\\u6570(\\u5218\\u6c5f)\", \"x\": [\"10-4\", \"8-3\", \"8-4\", \"9-1\", \"9-2\", \"9-3\", \"9-4\"], \"y\": [0.0, 0.0, 0.0, 0.0, 0.0, 0.0, 0.0], \"type\": \"scatter\", \"uid\": \"4049015f-dbfd-11e8-8ddb-a41f72875c19\"}, {\"line\": {\"dash\": \"solid\"}, \"name\": \"\\u5916\\u51fa\\u6280\\u672f\\u652f\\u6301\\u6570(\\u738b\\u7ea2)\", \"x\": [\"10-4\", \"8-3\", \"8-4\", \"9-1\", \"9-2\", \"9-3\", \"9-4\"], \"y\": [0.0, null, null, null, null, null, null], \"type\": \"scatter\", \"uid\": \"40490160-dbfd-11e8-8ddb-a41f72875c19\"}, {\"line\": {\"dash\": \"dot\"}, \"name\": \"\\u5916\\u51fa\\u6280\\u672f\\u652f\\u6301\\u6570(\\u674e\\u5e86\\u539f)\", \"x\": [\"10-4\", \"8-3\", \"8-4\", \"9-1\", \"9-2\", \"9-3\", \"9-4\"], \"y\": [0.0, 0.0, 0.0, 0.0, 0.0, 0.0, null], \"type\": \"scatter\", \"uid\": \"40490161-dbfd-11e8-8ddb-a41f72875c19\"}, {\"line\": {\"dash\": \"dash\"}, \"name\": \"\\u5916\\u51fa\\u6280\\u672f\\u652f\\u6301\\u6570(\\u9a6c\\u6f47)\", \"x\": [\"10-4\", \"8-3\", \"8-4\", \"9-1\", \"9-2\", \"9-3\", \"9-4\"], \"y\": [0.0, 0.0, 0.0, 0.0, 0.0, 0.0, 0.0], \"type\": \"scatter\", \"uid\": \"40490162-dbfd-11e8-8ddb-a41f72875c19\"}, {\"line\": {\"dash\": \"longdash\"}, \"name\": \"\\u5916\\u51fa\\u6280\\u672f\\u652f\\u6301\\u6570(\\u5360\\u4f1f)\", \"x\": [\"10-4\", \"8-3\", \"8-4\", \"9-1\", \"9-2\", \"9-3\", \"9-4\"], \"y\": [0.0, 0.0, 0.0, 0.0, 0.0, 0.0, 0.0], \"type\": \"scatter\", \"uid\": \"40490163-dbfd-11e8-8ddb-a41f72875c19\"}, {\"line\": {\"dash\": \"dashdot\"}, \"name\": \"\\u5916\\u51fa\\u6280\\u672f\\u652f\\u6301\\u6570(\\u5b8b\\u8fce\\u6960)\", \"x\": [\"10-4\", \"8-3\", \"8-4\", \"9-1\", \"9-2\", \"9-3\", \"9-4\"], \"y\": [null, 0.0, 0.0, 0.0, null, null, null], \"type\": \"scatter\", \"uid\": \"40490164-dbfd-11e8-8ddb-a41f72875c19\"}, {\"line\": {\"dash\": \"longdashdot\"}, \"name\": \"\\u5916\\u51fa\\u6280\\u672f\\u652f\\u6301\\u6570(\\u8303\\u65ed\\u5b81)\", \"x\": [\"10-4\", \"8-3\", \"8-4\", \"9-1\", \"9-2\", \"9-3\", \"9-4\"], \"y\": [0.0, 0.0, 0.0, 0.0, 0.0, 0.0, 0.0], \"type\": \"scatter\", \"uid\": \"40490165-dbfd-11e8-8ddb-a41f72875c19\"}, {\"line\": {\"dash\": \"solid\"}, \"name\": \"\\u5916\\u51fa\\u6280\\u672f\\u652f\\u6301\\u6570(\\u5c48\\u6602)\", \"x\": [\"10-4\", \"8-3\", \"8-4\", \"9-1\", \"9-2\", \"9-3\", \"9-4\"], \"y\": [0.0, null, null, null, null, null, null], \"type\": \"scatter\", \"uid\": \"40490166-dbfd-11e8-8ddb-a41f72875c19\"}, {\"line\": {\"dash\": \"dot\"}, \"name\": \"\\u5916\\u51fa\\u6280\\u672f\\u652f\\u6301\\u6570(\\u5f20\\u5b88\\u4f1f)\", \"x\": [\"10-4\", \"8-3\", \"8-4\", \"9-1\", \"9-2\", \"9-3\", \"9-4\"], \"y\": [0.0, 0.0, 0.0, 0.0, 0.0, 0.0, 0.0], \"type\": \"scatter\", \"uid\": \"40490167-dbfd-11e8-8ddb-a41f72875c19\"}, {\"line\": {\"dash\": \"dash\"}, \"name\": \"\\u5916\\u51fa\\u6280\\u672f\\u652f\\u6301\\u6570(\\u5c01\\u5f66\\u6770)\", \"x\": [\"10-4\", \"8-3\", \"8-4\", \"9-1\", \"9-2\", \"9-3\", \"9-4\"], \"y\": [0.0, 0.0, 0.0, 0.0, 0.0, 0.0, 0.0], \"type\": \"scatter\", \"uid\": \"40490168-dbfd-11e8-8ddb-a41f72875c19\"}, {\"line\": {\"dash\": \"longdash\"}, \"name\": \"\\u5916\\u51fa\\u6280\\u672f\\u652f\\u6301\\u6570(\\u5f20\\u60a6)\", \"x\": [\"10-4\", \"8-3\", \"8-4\", \"9-1\", \"9-2\", \"9-3\", \"9-4\"], \"y\": [0.0, null, null, null, null, null, null], \"type\": \"scatter\", \"uid\": \"40490169-dbfd-11e8-8ddb-a41f72875c19\"}, {\"line\": {\"dash\": \"dashdot\"}, \"name\": \"\\u5916\\u51fa\\u6280\\u672f\\u652f\\u6301\\u6570(\\u4e8e\\u6167)\", \"x\": [\"10-4\", \"8-3\", \"8-4\", \"9-1\", \"9-2\", \"9-3\", \"9-4\"], \"y\": [0.0, 0.0, 0.0, 0.0, 0.0, 0.0, 0.0], \"type\": \"scatter\", \"uid\": \"4049016a-dbfd-11e8-8ddb-a41f72875c19\"}], {\"title\": \"\\u7535\\u8bdd\\u4f1a\\u8bae\\u6b21\\u6570&\\u5ba2\\u6237\\u6765\\u8bbf\\u63a5\\u5f85\\u6570&\\u5916\\u51fa\\u6280\\u672f\\u652f\\u6301\\u6570\\u5468\\u8d8b\\u52bf\\u56fe\", \"xaxis\": {\"mirror\": \"all\", \"nticks\": 20, \"showgrid\": true, \"showline\": true, \"title\": \"\\u5468\", \"type\": \"category\", \"zeroline\": true}, \"yaxis\": {\"mirror\": \"all\", \"nticks\": 20, \"showgrid\": true, \"showline\": true, \"title\": \"\\u7535\\u8bdd\\u4f1a\\u8bae\\u6b21\\u6570&\\u5ba2\\u6237\\u6765\\u8bbf\\u63a5\\u5f85\\u6570&\\u5916\\u51fa\\u6280\\u672f\\u652f\\u6301\\u6570\", \"zeroline\": true}}, {\"showLink\": true, \"linkText\": \"Export to plot.ly\"})});</script>"
      ],
      "text/vnd.plotly.v1+html": [
       "<div id=\"eb862edf-43b6-45d9-a47c-eb420abe1292\" style=\"height: 525px; width: 100%;\" class=\"plotly-graph-div\"></div><script type=\"text/javascript\">require([\"plotly\"], function(Plotly) { window.PLOTLYENV=window.PLOTLYENV || {};window.PLOTLYENV.BASE_URL=\"https://plot.ly\";Plotly.newPlot(\"eb862edf-43b6-45d9-a47c-eb420abe1292\", [{\"line\": {\"dash\": \"solid\"}, \"name\": \"\\u7535\\u8bdd\\u4f1a\\u8bae\\u6b21\\u6570(\\u97e9\\u5c11\\u6000)\", \"x\": [\"10-4\", \"8-3\", \"8-4\", \"9-1\", \"9-2\", \"9-3\", \"9-4\"], \"y\": [0.0, 0.0, 0.0, 0.0, 0.0, 0.0, null], \"type\": \"scatter\", \"uid\": \"40490102-dbfd-11e8-8ddb-a41f72875c19\"}, {\"line\": {\"dash\": \"dot\"}, \"name\": \"\\u7535\\u8bdd\\u4f1a\\u8bae\\u6b21\\u6570(\\u82cf\\u5f66\\u52cb)\", \"x\": [\"10-4\", \"8-3\", \"8-4\", \"9-1\", \"9-2\", \"9-3\", \"9-4\"], \"y\": [0.0, 0.0, 0.0, 0.0, 0.0, 0.0, null], \"type\": \"scatter\", \"uid\": \"40490103-dbfd-11e8-8ddb-a41f72875c19\"}, {\"line\": {\"dash\": \"dash\"}, \"name\": \"\\u7535\\u8bdd\\u4f1a\\u8bae\\u6b21\\u6570(\\u5b5f\\u660a)\", \"x\": [\"10-4\", \"8-3\", \"8-4\", \"9-1\", \"9-2\", \"9-3\", \"9-4\"], \"y\": [0.0, 0.0, 0.0, 0.0, 0.0, 0.0, 0.0], \"type\": \"scatter\", \"uid\": \"40490104-dbfd-11e8-8ddb-a41f72875c19\"}, {\"line\": {\"dash\": \"longdash\"}, \"name\": \"\\u7535\\u8bdd\\u4f1a\\u8bae\\u6b21\\u6570(\\u4efb\\u96ea)\", \"x\": [\"10-4\", \"8-3\", \"8-4\", \"9-1\", \"9-2\", \"9-3\", \"9-4\"], \"y\": [0.0, null, 0.0, 0.0, 0.0, 0.0, 0.0], \"type\": \"scatter\", \"uid\": \"40490105-dbfd-11e8-8ddb-a41f72875c19\"}, {\"line\": {\"dash\": \"dashdot\"}, \"name\": \"\\u7535\\u8bdd\\u4f1a\\u8bae\\u6b21\\u6570(\\u6d82\\u6210\\u82b3)\", \"x\": [\"10-4\", \"8-3\", \"8-4\", \"9-1\", \"9-2\", \"9-3\", \"9-4\"], \"y\": [0.0, null, null, null, null, null, null], \"type\": \"scatter\", \"uid\": \"40490106-dbfd-11e8-8ddb-a41f72875c19\"}, {\"line\": {\"dash\": \"longdashdot\"}, \"name\": \"\\u7535\\u8bdd\\u4f1a\\u8bae\\u6b21\\u6570(\\u4e8e\\u52c7\\u4e00)\", \"x\": [\"10-4\", \"8-3\", \"8-4\", \"9-1\", \"9-2\", \"9-3\", \"9-4\"], \"y\": [0.0, 0.0, 0.0, 0.0, 0.0, 0.0, 0.0], \"type\": \"scatter\", \"uid\": \"40490107-dbfd-11e8-8ddb-a41f72875c19\"}, {\"line\": {\"dash\": \"solid\"}, \"name\": \"\\u7535\\u8bdd\\u4f1a\\u8bae\\u6b21\\u6570(\\u8def\\u6167\\u840d)\", \"x\": [\"10-4\", \"8-3\", \"8-4\", \"9-1\", \"9-2\", \"9-3\", \"9-4\"], \"y\": [0.0, 1.0, 0.0, 0.0, 0.0, 0.0, null], \"type\": \"scatter\", \"uid\": \"40490108-dbfd-11e8-8ddb-a41f72875c19\"}, {\"line\": {\"dash\": \"dot\"}, \"name\": \"\\u7535\\u8bdd\\u4f1a\\u8bae\\u6b21\\u6570(\\u6768\\u4f1f\\u98de)\", \"x\": [\"10-4\", \"8-3\", \"8-4\", \"9-1\", \"9-2\", \"9-3\", \"9-4\"], \"y\": [0.0, 0.0, 0.0, 1.0, 1.0, 2.0, 1.0], \"type\": \"scatter\", \"uid\": \"40490109-dbfd-11e8-8ddb-a41f72875c19\"}, {\"line\": {\"dash\": \"dash\"}, \"name\": \"\\u7535\\u8bdd\\u4f1a\\u8bae\\u6b21\\u6570(\\u6636\\u5409\\u9633)\", \"x\": [\"10-4\", \"8-3\", \"8-4\", \"9-1\", \"9-2\", \"9-3\", \"9-4\"], \"y\": [0.0, null, null, null, null, null, null], \"type\": \"scatter\", \"uid\": \"4049010a-dbfd-11e8-8ddb-a41f72875c19\"}, {\"line\": {\"dash\": \"longdash\"}, \"name\": \"\\u7535\\u8bdd\\u4f1a\\u8bae\\u6b21\\u6570(\\u738b\\u5b81)\", \"x\": [\"10-4\", \"8-3\", \"8-4\", \"9-1\", \"9-2\", \"9-3\", \"9-4\"], \"y\": [null, 0.0, 1.0, 0.0, null, null, null], \"type\": \"scatter\", \"uid\": \"4049010b-dbfd-11e8-8ddb-a41f72875c19\"}, {\"line\": {\"dash\": \"dashdot\"}, \"name\": \"\\u7535\\u8bdd\\u4f1a\\u8bae\\u6b21\\u6570(\\u8f66\\u5929\\u680b)\", \"x\": [\"10-4\", \"8-3\", \"8-4\", \"9-1\", \"9-2\", \"9-3\", \"9-4\"], \"y\": [0.0, null, null, null, null, null, null], \"type\": \"scatter\", \"uid\": \"4049010c-dbfd-11e8-8ddb-a41f72875c19\"}, {\"line\": {\"dash\": \"longdashdot\"}, \"name\": \"\\u7535\\u8bdd\\u4f1a\\u8bae\\u6b21\\u6570(\\u5468\\u6768)\", \"x\": [\"10-4\", \"8-3\", \"8-4\", \"9-1\", \"9-2\", \"9-3\", \"9-4\"], \"y\": [0.0, 1.0, 0.0, 0.0, 0.0, 0.0, 0.0], \"type\": \"scatter\", \"uid\": \"4049010d-dbfd-11e8-8ddb-a41f72875c19\"}, {\"line\": {\"dash\": \"solid\"}, \"name\": \"\\u7535\\u8bdd\\u4f1a\\u8bae\\u6b21\\u6570(\\u6bb5\\u5229\\u5f3a)\", \"x\": [\"10-4\", \"8-3\", \"8-4\", \"9-1\", \"9-2\", \"9-3\", \"9-4\"], \"y\": [null, null, null, null, null, null, 1.0], \"type\": \"scatter\", \"uid\": \"4049010e-dbfd-11e8-8ddb-a41f72875c19\"}, {\"line\": {\"dash\": \"dot\"}, \"name\": \"\\u7535\\u8bdd\\u4f1a\\u8bae\\u6b21\\u6570(\\u8d75\\u73a5)\", \"x\": [\"10-4\", \"8-3\", \"8-4\", \"9-1\", \"9-2\", \"9-3\", \"9-4\"], \"y\": [0.0, 2.0, 0.0, 0.0, 2.0, 0.0, 0.0], \"type\": \"scatter\", \"uid\": \"4049010f-dbfd-11e8-8ddb-a41f72875c19\"}, {\"line\": {\"dash\": \"dash\"}, \"name\": \"\\u7535\\u8bdd\\u4f1a\\u8bae\\u6b21\\u6570(\\u51b7\\u96ea)\", \"x\": [\"10-4\", \"8-3\", \"8-4\", \"9-1\", \"9-2\", \"9-3\", \"9-4\"], \"y\": [0.0, null, null, null, null, null, null], \"type\": \"scatter\", \"uid\": \"40490110-dbfd-11e8-8ddb-a41f72875c19\"}, {\"line\": {\"dash\": \"longdash\"}, \"name\": \"\\u7535\\u8bdd\\u4f1a\\u8bae\\u6b21\\u6570(\\u51af\\u656c\\u5ca9)\", \"x\": [\"10-4\", \"8-3\", \"8-4\", \"9-1\", \"9-2\", \"9-3\", \"9-4\"], \"y\": [0.0, null, null, null, null, null, null], \"type\": \"scatter\", \"uid\": \"40490111-dbfd-11e8-8ddb-a41f72875c19\"}, {\"line\": {\"dash\": \"dashdot\"}, \"name\": \"\\u7535\\u8bdd\\u4f1a\\u8bae\\u6b21\\u6570(\\u59da\\u76df\\u6210)\", \"x\": [\"10-4\", \"8-3\", \"8-4\", \"9-1\", \"9-2\", \"9-3\", \"9-4\"], \"y\": [0.0, 0.0, 1.0, 1.0, 0.0, 1.0, 0.0], \"type\": \"scatter\", \"uid\": \"40490112-dbfd-11e8-8ddb-a41f72875c19\"}, {\"line\": {\"dash\": \"longdashdot\"}, \"name\": \"\\u7535\\u8bdd\\u4f1a\\u8bae\\u6b21\\u6570(\\u674e\\u534e\\u4e91)\", \"x\": [\"10-4\", \"8-3\", \"8-4\", \"9-1\", \"9-2\", \"9-3\", \"9-4\"], \"y\": [0.0, 0.0, 0.0, 0.0, 0.0, 1.0, null], \"type\": \"scatter\", \"uid\": \"40490113-dbfd-11e8-8ddb-a41f72875c19\"}, {\"line\": {\"dash\": \"solid\"}, \"name\": \"\\u7535\\u8bdd\\u4f1a\\u8bae\\u6b21\\u6570(\\u9648\\u9e4f\\u71d5)\", \"x\": [\"10-4\", \"8-3\", \"8-4\", \"9-1\", \"9-2\", \"9-3\", \"9-4\"], \"y\": [0.0, null, null, null, null, null, null], \"type\": \"scatter\", \"uid\": \"40490114-dbfd-11e8-8ddb-a41f72875c19\"}, {\"line\": {\"dash\": \"dot\"}, \"name\": \"\\u7535\\u8bdd\\u4f1a\\u8bae\\u6b21\\u6570(\\u5218\\u6167\\u73b2)\", \"x\": [\"10-4\", \"8-3\", \"8-4\", \"9-1\", \"9-2\", \"9-3\", \"9-4\"], \"y\": [null, 0.0, 0.0, 0.0, null, null, null], \"type\": \"scatter\", \"uid\": \"40490115-dbfd-11e8-8ddb-a41f72875c19\"}, {\"line\": {\"dash\": \"dash\"}, \"name\": \"\\u7535\\u8bdd\\u4f1a\\u8bae\\u6b21\\u6570(\\u6c88\\u6069\\u60e0)\", \"x\": [\"10-4\", \"8-3\", \"8-4\", \"9-1\", \"9-2\", \"9-3\", \"9-4\"], \"y\": [0.0, null, null, null, null, null, null], \"type\": \"scatter\", \"uid\": \"40490116-dbfd-11e8-8ddb-a41f72875c19\"}, {\"line\": {\"dash\": \"longdash\"}, \"name\": \"\\u7535\\u8bdd\\u4f1a\\u8bae\\u6b21\\u6570(\\u6797\\u6587\\u6587)\", \"x\": [\"10-4\", \"8-3\", \"8-4\", \"9-1\", \"9-2\", \"9-3\", \"9-4\"], \"y\": [0.0, null, null, null, null, null, null], \"type\": \"scatter\", \"uid\": \"40490117-dbfd-11e8-8ddb-a41f72875c19\"}, {\"line\": {\"dash\": \"dashdot\"}, \"name\": \"\\u7535\\u8bdd\\u4f1a\\u8bae\\u6b21\\u6570(\\u8c22\\u5fb7\\u5065)\", \"x\": [\"10-4\", \"8-3\", \"8-4\", \"9-1\", \"9-2\", \"9-3\", \"9-4\"], \"y\": [0.0, 2.0, 1.0, null, 1.0, 1.0, 0.0], \"type\": \"scatter\", \"uid\": \"40490118-dbfd-11e8-8ddb-a41f72875c19\"}, {\"line\": {\"dash\": \"longdashdot\"}, \"name\": \"\\u7535\\u8bdd\\u4f1a\\u8bae\\u6b21\\u6570(\\u5218\\u6c5f)\", \"x\": [\"10-4\", \"8-3\", \"8-4\", \"9-1\", \"9-2\", \"9-3\", \"9-4\"], \"y\": [0.0, 1.0, 1.0, 1.0, 1.0, 1.0, 0.0], \"type\": \"scatter\", \"uid\": \"40490119-dbfd-11e8-8ddb-a41f72875c19\"}, {\"line\": {\"dash\": \"solid\"}, \"name\": \"\\u7535\\u8bdd\\u4f1a\\u8bae\\u6b21\\u6570(\\u738b\\u7ea2)\", \"x\": [\"10-4\", \"8-3\", \"8-4\", \"9-1\", \"9-2\", \"9-3\", \"9-4\"], \"y\": [0.0, null, null, null, null, null, null], \"type\": \"scatter\", \"uid\": \"4049011a-dbfd-11e8-8ddb-a41f72875c19\"}, {\"line\": {\"dash\": \"dot\"}, \"name\": \"\\u7535\\u8bdd\\u4f1a\\u8bae\\u6b21\\u6570(\\u674e\\u5e86\\u539f)\", \"x\": [\"10-4\", \"8-3\", \"8-4\", \"9-1\", \"9-2\", \"9-3\", \"9-4\"], \"y\": [0.0, 2.0, 0.0, 0.0, 1.0, 1.0, null], \"type\": \"scatter\", \"uid\": \"4049011b-dbfd-11e8-8ddb-a41f72875c19\"}, {\"line\": {\"dash\": \"dash\"}, \"name\": \"\\u7535\\u8bdd\\u4f1a\\u8bae\\u6b21\\u6570(\\u9a6c\\u6f47)\", \"x\": [\"10-4\", \"8-3\", \"8-4\", \"9-1\", \"9-2\", \"9-3\", \"9-4\"], \"y\": [0.0, 0.0, 0.0, 0.0, 0.0, 0.0, 0.0], \"type\": \"scatter\", \"uid\": \"4049011c-dbfd-11e8-8ddb-a41f72875c19\"}, {\"line\": {\"dash\": \"longdash\"}, \"name\": \"\\u7535\\u8bdd\\u4f1a\\u8bae\\u6b21\\u6570(\\u5360\\u4f1f)\", \"x\": [\"10-4\", \"8-3\", \"8-4\", \"9-1\", \"9-2\", \"9-3\", \"9-4\"], \"y\": [0.0, 0.0, 1.0, 2.0, 1.0, 2.0, 1.0], \"type\": \"scatter\", \"uid\": \"4049011d-dbfd-11e8-8ddb-a41f72875c19\"}, {\"line\": {\"dash\": \"dashdot\"}, \"name\": \"\\u7535\\u8bdd\\u4f1a\\u8bae\\u6b21\\u6570(\\u5b8b\\u8fce\\u6960)\", \"x\": [\"10-4\", \"8-3\", \"8-4\", \"9-1\", \"9-2\", \"9-3\", \"9-4\"], \"y\": [null, 0.0, 0.0, 0.0, null, null, null], \"type\": \"scatter\", \"uid\": \"4049011e-dbfd-11e8-8ddb-a41f72875c19\"}, {\"line\": {\"dash\": \"longdashdot\"}, \"name\": \"\\u7535\\u8bdd\\u4f1a\\u8bae\\u6b21\\u6570(\\u8303\\u65ed\\u5b81)\", \"x\": [\"10-4\", \"8-3\", \"8-4\", \"9-1\", \"9-2\", \"9-3\", \"9-4\"], \"y\": [0.0, 0.0, 0.0, 0.0, 0.0, 0.0, 0.0], \"type\": \"scatter\", \"uid\": \"4049011f-dbfd-11e8-8ddb-a41f72875c19\"}, {\"line\": {\"dash\": \"solid\"}, \"name\": \"\\u7535\\u8bdd\\u4f1a\\u8bae\\u6b21\\u6570(\\u5c48\\u6602)\", \"x\": [\"10-4\", \"8-3\", \"8-4\", \"9-1\", \"9-2\", \"9-3\", \"9-4\"], \"y\": [0.0, null, null, null, null, null, null], \"type\": \"scatter\", \"uid\": \"40490120-dbfd-11e8-8ddb-a41f72875c19\"}, {\"line\": {\"dash\": \"dot\"}, \"name\": \"\\u7535\\u8bdd\\u4f1a\\u8bae\\u6b21\\u6570(\\u5f20\\u5b88\\u4f1f)\", \"x\": [\"10-4\", \"8-3\", \"8-4\", \"9-1\", \"9-2\", \"9-3\", \"9-4\"], \"y\": [0.0, 0.0, 0.0, 0.0, 0.0, 0.0, 0.0], \"type\": \"scatter\", \"uid\": \"40490121-dbfd-11e8-8ddb-a41f72875c19\"}, {\"line\": {\"dash\": \"dash\"}, \"name\": \"\\u7535\\u8bdd\\u4f1a\\u8bae\\u6b21\\u6570(\\u5c01\\u5f66\\u6770)\", \"x\": [\"10-4\", \"8-3\", \"8-4\", \"9-1\", \"9-2\", \"9-3\", \"9-4\"], \"y\": [0.0, 0.0, 0.0, 0.0, 1.0, 1.0, 0.0], \"type\": \"scatter\", \"uid\": \"40490122-dbfd-11e8-8ddb-a41f72875c19\"}, {\"line\": {\"dash\": \"longdash\"}, \"name\": \"\\u7535\\u8bdd\\u4f1a\\u8bae\\u6b21\\u6570(\\u5f20\\u60a6)\", \"x\": [\"10-4\", \"8-3\", \"8-4\", \"9-1\", \"9-2\", \"9-3\", \"9-4\"], \"y\": [0.0, null, null, null, null, null, null], \"type\": \"scatter\", \"uid\": \"40490123-dbfd-11e8-8ddb-a41f72875c19\"}, {\"line\": {\"dash\": \"dashdot\"}, \"name\": \"\\u7535\\u8bdd\\u4f1a\\u8bae\\u6b21\\u6570(\\u4e8e\\u6167)\", \"x\": [\"10-4\", \"8-3\", \"8-4\", \"9-1\", \"9-2\", \"9-3\", \"9-4\"], \"y\": [0.0, 0.0, 0.0, 0.0, 0.0, 0.0, 0.0], \"type\": \"scatter\", \"uid\": \"40490124-dbfd-11e8-8ddb-a41f72875c19\"}, {\"line\": {\"dash\": \"solid\"}, \"name\": \"\\u5ba2\\u6237\\u6765\\u8bbf\\u63a5\\u5f85\\u6570(\\u97e9\\u5c11\\u6000)\", \"x\": [\"10-4\", \"8-3\", \"8-4\", \"9-1\", \"9-2\", \"9-3\", \"9-4\"], \"y\": [0.0, 0.0, 0.0, 0.0, 0.0, 0.0, null], \"type\": \"scatter\", \"uid\": \"40490125-dbfd-11e8-8ddb-a41f72875c19\"}, {\"line\": {\"dash\": \"dot\"}, \"name\": \"\\u5ba2\\u6237\\u6765\\u8bbf\\u63a5\\u5f85\\u6570(\\u82cf\\u5f66\\u52cb)\", \"x\": [\"10-4\", \"8-3\", \"8-4\", \"9-1\", \"9-2\", \"9-3\", \"9-4\"], \"y\": [0.0, 0.0, 0.0, 0.0, 0.0, 0.0, null], \"type\": \"scatter\", \"uid\": \"40490126-dbfd-11e8-8ddb-a41f72875c19\"}, {\"line\": {\"dash\": \"dash\"}, \"name\": \"\\u5ba2\\u6237\\u6765\\u8bbf\\u63a5\\u5f85\\u6570(\\u5b5f\\u660a)\", \"x\": [\"10-4\", \"8-3\", \"8-4\", \"9-1\", \"9-2\", \"9-3\", \"9-4\"], \"y\": [0.0, 0.0, 0.0, 0.0, 0.0, 0.0, 0.0], \"type\": \"scatter\", \"uid\": \"40490127-dbfd-11e8-8ddb-a41f72875c19\"}, {\"line\": {\"dash\": \"longdash\"}, \"name\": \"\\u5ba2\\u6237\\u6765\\u8bbf\\u63a5\\u5f85\\u6570(\\u4efb\\u96ea)\", \"x\": [\"10-4\", \"8-3\", \"8-4\", \"9-1\", \"9-2\", \"9-3\", \"9-4\"], \"y\": [0.0, null, 0.0, 0.0, 0.0, 1.0, 0.0], \"type\": \"scatter\", \"uid\": \"40490128-dbfd-11e8-8ddb-a41f72875c19\"}, {\"line\": {\"dash\": \"dashdot\"}, \"name\": \"\\u5ba2\\u6237\\u6765\\u8bbf\\u63a5\\u5f85\\u6570(\\u6d82\\u6210\\u82b3)\", \"x\": [\"10-4\", \"8-3\", \"8-4\", \"9-1\", \"9-2\", \"9-3\", \"9-4\"], \"y\": [0.0, null, null, null, null, null, null], \"type\": \"scatter\", \"uid\": \"40490129-dbfd-11e8-8ddb-a41f72875c19\"}, {\"line\": {\"dash\": \"longdashdot\"}, \"name\": \"\\u5ba2\\u6237\\u6765\\u8bbf\\u63a5\\u5f85\\u6570(\\u4e8e\\u52c7\\u4e00)\", \"x\": [\"10-4\", \"8-3\", \"8-4\", \"9-1\", \"9-2\", \"9-3\", \"9-4\"], \"y\": [0.0, 0.0, 0.0, 0.0, 0.0, 0.0, 0.0], \"type\": \"scatter\", \"uid\": \"4049012a-dbfd-11e8-8ddb-a41f72875c19\"}, {\"line\": {\"dash\": \"solid\"}, \"name\": \"\\u5ba2\\u6237\\u6765\\u8bbf\\u63a5\\u5f85\\u6570(\\u8def\\u6167\\u840d)\", \"x\": [\"10-4\", \"8-3\", \"8-4\", \"9-1\", \"9-2\", \"9-3\", \"9-4\"], \"y\": [0.0, 1.0, 0.0, 0.0, 0.0, 0.0, null], \"type\": \"scatter\", \"uid\": \"4049012b-dbfd-11e8-8ddb-a41f72875c19\"}, {\"line\": {\"dash\": \"dot\"}, \"name\": \"\\u5ba2\\u6237\\u6765\\u8bbf\\u63a5\\u5f85\\u6570(\\u6768\\u4f1f\\u98de)\", \"x\": [\"10-4\", \"8-3\", \"8-4\", \"9-1\", \"9-2\", \"9-3\", \"9-4\"], \"y\": [0.0, 0.0, 0.0, 0.0, 0.0, 0.0, 0.0], \"type\": \"scatter\", \"uid\": \"4049012c-dbfd-11e8-8ddb-a41f72875c19\"}, {\"line\": {\"dash\": \"dash\"}, \"name\": \"\\u5ba2\\u6237\\u6765\\u8bbf\\u63a5\\u5f85\\u6570(\\u6636\\u5409\\u9633)\", \"x\": [\"10-4\", \"8-3\", \"8-4\", \"9-1\", \"9-2\", \"9-3\", \"9-4\"], \"y\": [0.0, null, null, null, null, null, null], \"type\": \"scatter\", \"uid\": \"4049012d-dbfd-11e8-8ddb-a41f72875c19\"}, {\"line\": {\"dash\": \"longdash\"}, \"name\": \"\\u5ba2\\u6237\\u6765\\u8bbf\\u63a5\\u5f85\\u6570(\\u738b\\u5b81)\", \"x\": [\"10-4\", \"8-3\", \"8-4\", \"9-1\", \"9-2\", \"9-3\", \"9-4\"], \"y\": [null, 0.0, 0.0, 0.0, null, null, null], \"type\": \"scatter\", \"uid\": \"4049012e-dbfd-11e8-8ddb-a41f72875c19\"}, {\"line\": {\"dash\": \"dashdot\"}, \"name\": \"\\u5ba2\\u6237\\u6765\\u8bbf\\u63a5\\u5f85\\u6570(\\u8f66\\u5929\\u680b)\", \"x\": [\"10-4\", \"8-3\", \"8-4\", \"9-1\", \"9-2\", \"9-3\", \"9-4\"], \"y\": [0.0, null, null, null, null, null, null], \"type\": \"scatter\", \"uid\": \"4049012f-dbfd-11e8-8ddb-a41f72875c19\"}, {\"line\": {\"dash\": \"longdashdot\"}, \"name\": \"\\u5ba2\\u6237\\u6765\\u8bbf\\u63a5\\u5f85\\u6570(\\u5468\\u6768)\", \"x\": [\"10-4\", \"8-3\", \"8-4\", \"9-1\", \"9-2\", \"9-3\", \"9-4\"], \"y\": [0.0, 0.0, 0.0, 0.0, 0.0, 0.0, 0.0], \"type\": \"scatter\", \"uid\": \"40490130-dbfd-11e8-8ddb-a41f72875c19\"}, {\"line\": {\"dash\": \"solid\"}, \"name\": \"\\u5ba2\\u6237\\u6765\\u8bbf\\u63a5\\u5f85\\u6570(\\u6bb5\\u5229\\u5f3a)\", \"x\": [\"10-4\", \"8-3\", \"8-4\", \"9-1\", \"9-2\", \"9-3\", \"9-4\"], \"y\": [null, null, null, null, null, null, 0.0], \"type\": \"scatter\", \"uid\": \"40490131-dbfd-11e8-8ddb-a41f72875c19\"}, {\"line\": {\"dash\": \"dot\"}, \"name\": \"\\u5ba2\\u6237\\u6765\\u8bbf\\u63a5\\u5f85\\u6570(\\u8d75\\u73a5)\", \"x\": [\"10-4\", \"8-3\", \"8-4\", \"9-1\", \"9-2\", \"9-3\", \"9-4\"], \"y\": [0.0, 0.0, 0.0, 0.0, 0.0, 0.0, 1.0], \"type\": \"scatter\", \"uid\": \"40490132-dbfd-11e8-8ddb-a41f72875c19\"}, {\"line\": {\"dash\": \"dash\"}, \"name\": \"\\u5ba2\\u6237\\u6765\\u8bbf\\u63a5\\u5f85\\u6570(\\u51b7\\u96ea)\", \"x\": [\"10-4\", \"8-3\", \"8-4\", \"9-1\", \"9-2\", \"9-3\", \"9-4\"], \"y\": [0.0, null, null, null, null, null, null], \"type\": \"scatter\", \"uid\": \"40490133-dbfd-11e8-8ddb-a41f72875c19\"}, {\"line\": {\"dash\": \"longdash\"}, \"name\": \"\\u5ba2\\u6237\\u6765\\u8bbf\\u63a5\\u5f85\\u6570(\\u51af\\u656c\\u5ca9)\", \"x\": [\"10-4\", \"8-3\", \"8-4\", \"9-1\", \"9-2\", \"9-3\", \"9-4\"], \"y\": [0.0, null, null, null, null, null, null], \"type\": \"scatter\", \"uid\": \"40490134-dbfd-11e8-8ddb-a41f72875c19\"}, {\"line\": {\"dash\": \"dashdot\"}, \"name\": \"\\u5ba2\\u6237\\u6765\\u8bbf\\u63a5\\u5f85\\u6570(\\u59da\\u76df\\u6210)\", \"x\": [\"10-4\", \"8-3\", \"8-4\", \"9-1\", \"9-2\", \"9-3\", \"9-4\"], \"y\": [0.0, 0.0, 0.0, 0.0, 0.0, 0.0, 0.0], \"type\": \"scatter\", \"uid\": \"40490135-dbfd-11e8-8ddb-a41f72875c19\"}, {\"line\": {\"dash\": \"longdashdot\"}, \"name\": \"\\u5ba2\\u6237\\u6765\\u8bbf\\u63a5\\u5f85\\u6570(\\u674e\\u534e\\u4e91)\", \"x\": [\"10-4\", \"8-3\", \"8-4\", \"9-1\", \"9-2\", \"9-3\", \"9-4\"], \"y\": [0.0, 0.0, 0.0, 0.0, 0.0, 0.0, null], \"type\": \"scatter\", \"uid\": \"40490136-dbfd-11e8-8ddb-a41f72875c19\"}, {\"line\": {\"dash\": \"solid\"}, \"name\": \"\\u5ba2\\u6237\\u6765\\u8bbf\\u63a5\\u5f85\\u6570(\\u9648\\u9e4f\\u71d5)\", \"x\": [\"10-4\", \"8-3\", \"8-4\", \"9-1\", \"9-2\", \"9-3\", \"9-4\"], \"y\": [0.0, null, null, null, null, null, null], \"type\": \"scatter\", \"uid\": \"40490137-dbfd-11e8-8ddb-a41f72875c19\"}, {\"line\": {\"dash\": \"dot\"}, \"name\": \"\\u5ba2\\u6237\\u6765\\u8bbf\\u63a5\\u5f85\\u6570(\\u5218\\u6167\\u73b2)\", \"x\": [\"10-4\", \"8-3\", \"8-4\", \"9-1\", \"9-2\", \"9-3\", \"9-4\"], \"y\": [null, 0.0, 0.0, 0.0, null, null, null], \"type\": \"scatter\", \"uid\": \"40490138-dbfd-11e8-8ddb-a41f72875c19\"}, {\"line\": {\"dash\": \"dash\"}, \"name\": \"\\u5ba2\\u6237\\u6765\\u8bbf\\u63a5\\u5f85\\u6570(\\u6c88\\u6069\\u60e0)\", \"x\": [\"10-4\", \"8-3\", \"8-4\", \"9-1\", \"9-2\", \"9-3\", \"9-4\"], \"y\": [0.0, null, null, null, null, null, null], \"type\": \"scatter\", \"uid\": \"40490139-dbfd-11e8-8ddb-a41f72875c19\"}, {\"line\": {\"dash\": \"longdash\"}, \"name\": \"\\u5ba2\\u6237\\u6765\\u8bbf\\u63a5\\u5f85\\u6570(\\u6797\\u6587\\u6587)\", \"x\": [\"10-4\", \"8-3\", \"8-4\", \"9-1\", \"9-2\", \"9-3\", \"9-4\"], \"y\": [0.0, null, null, null, null, null, null], \"type\": \"scatter\", \"uid\": \"4049013a-dbfd-11e8-8ddb-a41f72875c19\"}, {\"line\": {\"dash\": \"dashdot\"}, \"name\": \"\\u5ba2\\u6237\\u6765\\u8bbf\\u63a5\\u5f85\\u6570(\\u8c22\\u5fb7\\u5065)\", \"x\": [\"10-4\", \"8-3\", \"8-4\", \"9-1\", \"9-2\", \"9-3\", \"9-4\"], \"y\": [0.0, 0.0, 0.0, null, 0.0, 0.0, 3.0], \"type\": \"scatter\", \"uid\": \"4049013b-dbfd-11e8-8ddb-a41f72875c19\"}, {\"line\": {\"dash\": \"longdashdot\"}, \"name\": \"\\u5ba2\\u6237\\u6765\\u8bbf\\u63a5\\u5f85\\u6570(\\u5218\\u6c5f)\", \"x\": [\"10-4\", \"8-3\", \"8-4\", \"9-1\", \"9-2\", \"9-3\", \"9-4\"], \"y\": [0.0, 1.0, 0.0, 0.0, 0.0, 0.0, 1.0], \"type\": \"scatter\", \"uid\": \"4049013c-dbfd-11e8-8ddb-a41f72875c19\"}, {\"line\": {\"dash\": \"solid\"}, \"name\": \"\\u5ba2\\u6237\\u6765\\u8bbf\\u63a5\\u5f85\\u6570(\\u738b\\u7ea2)\", \"x\": [\"10-4\", \"8-3\", \"8-4\", \"9-1\", \"9-2\", \"9-3\", \"9-4\"], \"y\": [0.0, null, null, null, null, null, null], \"type\": \"scatter\", \"uid\": \"4049013d-dbfd-11e8-8ddb-a41f72875c19\"}, {\"line\": {\"dash\": \"dot\"}, \"name\": \"\\u5ba2\\u6237\\u6765\\u8bbf\\u63a5\\u5f85\\u6570(\\u674e\\u5e86\\u539f)\", \"x\": [\"10-4\", \"8-3\", \"8-4\", \"9-1\", \"9-2\", \"9-3\", \"9-4\"], \"y\": [0.0, 1.0, 0.0, 0.0, 0.0, 0.0, null], \"type\": \"scatter\", \"uid\": \"4049013e-dbfd-11e8-8ddb-a41f72875c19\"}, {\"line\": {\"dash\": \"dash\"}, \"name\": \"\\u5ba2\\u6237\\u6765\\u8bbf\\u63a5\\u5f85\\u6570(\\u9a6c\\u6f47)\", \"x\": [\"10-4\", \"8-3\", \"8-4\", \"9-1\", \"9-2\", \"9-3\", \"9-4\"], \"y\": [0.0, 0.0, 0.0, 0.0, 0.0, 0.0, 0.0], \"type\": \"scatter\", \"uid\": \"4049013f-dbfd-11e8-8ddb-a41f72875c19\"}, {\"line\": {\"dash\": \"longdash\"}, \"name\": \"\\u5ba2\\u6237\\u6765\\u8bbf\\u63a5\\u5f85\\u6570(\\u5360\\u4f1f)\", \"x\": [\"10-4\", \"8-3\", \"8-4\", \"9-1\", \"9-2\", \"9-3\", \"9-4\"], \"y\": [0.0, 0.0, 0.0, 0.0, 0.0, 0.0, 1.0], \"type\": \"scatter\", \"uid\": \"40490140-dbfd-11e8-8ddb-a41f72875c19\"}, {\"line\": {\"dash\": \"dashdot\"}, \"name\": \"\\u5ba2\\u6237\\u6765\\u8bbf\\u63a5\\u5f85\\u6570(\\u5b8b\\u8fce\\u6960)\", \"x\": [\"10-4\", \"8-3\", \"8-4\", \"9-1\", \"9-2\", \"9-3\", \"9-4\"], \"y\": [null, 0.0, 0.0, 0.0, null, null, null], \"type\": \"scatter\", \"uid\": \"40490141-dbfd-11e8-8ddb-a41f72875c19\"}, {\"line\": {\"dash\": \"longdashdot\"}, \"name\": \"\\u5ba2\\u6237\\u6765\\u8bbf\\u63a5\\u5f85\\u6570(\\u8303\\u65ed\\u5b81)\", \"x\": [\"10-4\", \"8-3\", \"8-4\", \"9-1\", \"9-2\", \"9-3\", \"9-4\"], \"y\": [0.0, 0.0, 0.0, 0.0, 0.0, 0.0, 4.0], \"type\": \"scatter\", \"uid\": \"40490142-dbfd-11e8-8ddb-a41f72875c19\"}, {\"line\": {\"dash\": \"solid\"}, \"name\": \"\\u5ba2\\u6237\\u6765\\u8bbf\\u63a5\\u5f85\\u6570(\\u5c48\\u6602)\", \"x\": [\"10-4\", \"8-3\", \"8-4\", \"9-1\", \"9-2\", \"9-3\", \"9-4\"], \"y\": [0.0, null, null, null, null, null, null], \"type\": \"scatter\", \"uid\": \"40490143-dbfd-11e8-8ddb-a41f72875c19\"}, {\"line\": {\"dash\": \"dot\"}, \"name\": \"\\u5ba2\\u6237\\u6765\\u8bbf\\u63a5\\u5f85\\u6570(\\u5f20\\u5b88\\u4f1f)\", \"x\": [\"10-4\", \"8-3\", \"8-4\", \"9-1\", \"9-2\", \"9-3\", \"9-4\"], \"y\": [0.0, 0.0, 0.0, 0.0, 0.0, 0.0, 0.0], \"type\": \"scatter\", \"uid\": \"40490144-dbfd-11e8-8ddb-a41f72875c19\"}, {\"line\": {\"dash\": \"dash\"}, \"name\": \"\\u5ba2\\u6237\\u6765\\u8bbf\\u63a5\\u5f85\\u6570(\\u5c01\\u5f66\\u6770)\", \"x\": [\"10-4\", \"8-3\", \"8-4\", \"9-1\", \"9-2\", \"9-3\", \"9-4\"], \"y\": [0.0, 0.0, 0.0, 0.0, 0.0, 0.0, 0.0], \"type\": \"scatter\", \"uid\": \"40490145-dbfd-11e8-8ddb-a41f72875c19\"}, {\"line\": {\"dash\": \"longdash\"}, \"name\": \"\\u5ba2\\u6237\\u6765\\u8bbf\\u63a5\\u5f85\\u6570(\\u5f20\\u60a6)\", \"x\": [\"10-4\", \"8-3\", \"8-4\", \"9-1\", \"9-2\", \"9-3\", \"9-4\"], \"y\": [0.0, null, null, null, null, null, null], \"type\": \"scatter\", \"uid\": \"40490146-dbfd-11e8-8ddb-a41f72875c19\"}, {\"line\": {\"dash\": \"dashdot\"}, \"name\": \"\\u5ba2\\u6237\\u6765\\u8bbf\\u63a5\\u5f85\\u6570(\\u4e8e\\u6167)\", \"x\": [\"10-4\", \"8-3\", \"8-4\", \"9-1\", \"9-2\", \"9-3\", \"9-4\"], \"y\": [0.0, 0.0, 0.0, 0.0, 0.0, 0.0, 0.0], \"type\": \"scatter\", \"uid\": \"40490147-dbfd-11e8-8ddb-a41f72875c19\"}, {\"line\": {\"dash\": \"solid\"}, \"name\": \"\\u5916\\u51fa\\u6280\\u672f\\u652f\\u6301\\u6570(\\u97e9\\u5c11\\u6000)\", \"x\": [\"10-4\", \"8-3\", \"8-4\", \"9-1\", \"9-2\", \"9-3\", \"9-4\"], \"y\": [0.0, 0.0, 0.0, 0.0, 0.0, 0.0, null], \"type\": \"scatter\", \"uid\": \"40490148-dbfd-11e8-8ddb-a41f72875c19\"}, {\"line\": {\"dash\": \"dot\"}, \"name\": \"\\u5916\\u51fa\\u6280\\u672f\\u652f\\u6301\\u6570(\\u82cf\\u5f66\\u52cb)\", \"x\": [\"10-4\", \"8-3\", \"8-4\", \"9-1\", \"9-2\", \"9-3\", \"9-4\"], \"y\": [0.0, 0.0, 0.0, 0.0, 0.0, 0.0, null], \"type\": \"scatter\", \"uid\": \"40490149-dbfd-11e8-8ddb-a41f72875c19\"}, {\"line\": {\"dash\": \"dash\"}, \"name\": \"\\u5916\\u51fa\\u6280\\u672f\\u652f\\u6301\\u6570(\\u5b5f\\u660a)\", \"x\": [\"10-4\", \"8-3\", \"8-4\", \"9-1\", \"9-2\", \"9-3\", \"9-4\"], \"y\": [0.0, 0.0, 0.0, 0.0, 0.0, 0.0, 0.0], \"type\": \"scatter\", \"uid\": \"4049014a-dbfd-11e8-8ddb-a41f72875c19\"}, {\"line\": {\"dash\": \"longdash\"}, \"name\": \"\\u5916\\u51fa\\u6280\\u672f\\u652f\\u6301\\u6570(\\u4efb\\u96ea)\", \"x\": [\"10-4\", \"8-3\", \"8-4\", \"9-1\", \"9-2\", \"9-3\", \"9-4\"], \"y\": [0.0, null, 0.0, 0.0, 0.0, 0.0, 0.0], \"type\": \"scatter\", \"uid\": \"4049014b-dbfd-11e8-8ddb-a41f72875c19\"}, {\"line\": {\"dash\": \"dashdot\"}, \"name\": \"\\u5916\\u51fa\\u6280\\u672f\\u652f\\u6301\\u6570(\\u6d82\\u6210\\u82b3)\", \"x\": [\"10-4\", \"8-3\", \"8-4\", \"9-1\", \"9-2\", \"9-3\", \"9-4\"], \"y\": [0.0, null, null, null, null, null, null], \"type\": \"scatter\", \"uid\": \"4049014c-dbfd-11e8-8ddb-a41f72875c19\"}, {\"line\": {\"dash\": \"longdashdot\"}, \"name\": \"\\u5916\\u51fa\\u6280\\u672f\\u652f\\u6301\\u6570(\\u4e8e\\u52c7\\u4e00)\", \"x\": [\"10-4\", \"8-3\", \"8-4\", \"9-1\", \"9-2\", \"9-3\", \"9-4\"], \"y\": [0.0, 0.0, 0.0, 0.0, 0.0, 0.0, 0.0], \"type\": \"scatter\", \"uid\": \"4049014d-dbfd-11e8-8ddb-a41f72875c19\"}, {\"line\": {\"dash\": \"solid\"}, \"name\": \"\\u5916\\u51fa\\u6280\\u672f\\u652f\\u6301\\u6570(\\u8def\\u6167\\u840d)\", \"x\": [\"10-4\", \"8-3\", \"8-4\", \"9-1\", \"9-2\", \"9-3\", \"9-4\"], \"y\": [0.0, 0.0, 0.0, 0.0, 0.0, 0.0, null], \"type\": \"scatter\", \"uid\": \"4049014e-dbfd-11e8-8ddb-a41f72875c19\"}, {\"line\": {\"dash\": \"dot\"}, \"name\": \"\\u5916\\u51fa\\u6280\\u672f\\u652f\\u6301\\u6570(\\u6768\\u4f1f\\u98de)\", \"x\": [\"10-4\", \"8-3\", \"8-4\", \"9-1\", \"9-2\", \"9-3\", \"9-4\"], \"y\": [0.0, 0.0, 0.0, 0.0, 0.0, 0.0, 0.0], \"type\": \"scatter\", \"uid\": \"4049014f-dbfd-11e8-8ddb-a41f72875c19\"}, {\"line\": {\"dash\": \"dash\"}, \"name\": \"\\u5916\\u51fa\\u6280\\u672f\\u652f\\u6301\\u6570(\\u6636\\u5409\\u9633)\", \"x\": [\"10-4\", \"8-3\", \"8-4\", \"9-1\", \"9-2\", \"9-3\", \"9-4\"], \"y\": [0.0, null, null, null, null, null, null], \"type\": \"scatter\", \"uid\": \"40490150-dbfd-11e8-8ddb-a41f72875c19\"}, {\"line\": {\"dash\": \"longdash\"}, \"name\": \"\\u5916\\u51fa\\u6280\\u672f\\u652f\\u6301\\u6570(\\u738b\\u5b81)\", \"x\": [\"10-4\", \"8-3\", \"8-4\", \"9-1\", \"9-2\", \"9-3\", \"9-4\"], \"y\": [null, 0.0, 0.0, 0.0, null, null, null], \"type\": \"scatter\", \"uid\": \"40490151-dbfd-11e8-8ddb-a41f72875c19\"}, {\"line\": {\"dash\": \"dashdot\"}, \"name\": \"\\u5916\\u51fa\\u6280\\u672f\\u652f\\u6301\\u6570(\\u8f66\\u5929\\u680b)\", \"x\": [\"10-4\", \"8-3\", \"8-4\", \"9-1\", \"9-2\", \"9-3\", \"9-4\"], \"y\": [0.0, null, null, null, null, null, null], \"type\": \"scatter\", \"uid\": \"40490152-dbfd-11e8-8ddb-a41f72875c19\"}, {\"line\": {\"dash\": \"longdashdot\"}, \"name\": \"\\u5916\\u51fa\\u6280\\u672f\\u652f\\u6301\\u6570(\\u5468\\u6768)\", \"x\": [\"10-4\", \"8-3\", \"8-4\", \"9-1\", \"9-2\", \"9-3\", \"9-4\"], \"y\": [0.0, 0.0, 0.0, 0.0, 0.0, 0.0, 0.0], \"type\": \"scatter\", \"uid\": \"40490153-dbfd-11e8-8ddb-a41f72875c19\"}, {\"line\": {\"dash\": \"solid\"}, \"name\": \"\\u5916\\u51fa\\u6280\\u672f\\u652f\\u6301\\u6570(\\u6bb5\\u5229\\u5f3a)\", \"x\": [\"10-4\", \"8-3\", \"8-4\", \"9-1\", \"9-2\", \"9-3\", \"9-4\"], \"y\": [null, null, null, null, null, null, 0.0], \"type\": \"scatter\", \"uid\": \"40490154-dbfd-11e8-8ddb-a41f72875c19\"}, {\"line\": {\"dash\": \"dot\"}, \"name\": \"\\u5916\\u51fa\\u6280\\u672f\\u652f\\u6301\\u6570(\\u8d75\\u73a5)\", \"x\": [\"10-4\", \"8-3\", \"8-4\", \"9-1\", \"9-2\", \"9-3\", \"9-4\"], \"y\": [0.0, 0.0, 0.0, 0.0, 0.0, 0.0, 0.0], \"type\": \"scatter\", \"uid\": \"40490155-dbfd-11e8-8ddb-a41f72875c19\"}, {\"line\": {\"dash\": \"dash\"}, \"name\": \"\\u5916\\u51fa\\u6280\\u672f\\u652f\\u6301\\u6570(\\u51b7\\u96ea)\", \"x\": [\"10-4\", \"8-3\", \"8-4\", \"9-1\", \"9-2\", \"9-3\", \"9-4\"], \"y\": [0.0, null, null, null, null, null, null], \"type\": \"scatter\", \"uid\": \"40490156-dbfd-11e8-8ddb-a41f72875c19\"}, {\"line\": {\"dash\": \"longdash\"}, \"name\": \"\\u5916\\u51fa\\u6280\\u672f\\u652f\\u6301\\u6570(\\u51af\\u656c\\u5ca9)\", \"x\": [\"10-4\", \"8-3\", \"8-4\", \"9-1\", \"9-2\", \"9-3\", \"9-4\"], \"y\": [0.0, null, null, null, null, null, null], \"type\": \"scatter\", \"uid\": \"40490157-dbfd-11e8-8ddb-a41f72875c19\"}, {\"line\": {\"dash\": \"dashdot\"}, \"name\": \"\\u5916\\u51fa\\u6280\\u672f\\u652f\\u6301\\u6570(\\u59da\\u76df\\u6210)\", \"x\": [\"10-4\", \"8-3\", \"8-4\", \"9-1\", \"9-2\", \"9-3\", \"9-4\"], \"y\": [0.0, 0.0, 0.0, 0.0, 0.0, 0.0, 0.0], \"type\": \"scatter\", \"uid\": \"40490158-dbfd-11e8-8ddb-a41f72875c19\"}, {\"line\": {\"dash\": \"longdashdot\"}, \"name\": \"\\u5916\\u51fa\\u6280\\u672f\\u652f\\u6301\\u6570(\\u674e\\u534e\\u4e91)\", \"x\": [\"10-4\", \"8-3\", \"8-4\", \"9-1\", \"9-2\", \"9-3\", \"9-4\"], \"y\": [0.0, 0.0, 0.0, 0.0, 0.0, 0.0, null], \"type\": \"scatter\", \"uid\": \"40490159-dbfd-11e8-8ddb-a41f72875c19\"}, {\"line\": {\"dash\": \"solid\"}, \"name\": \"\\u5916\\u51fa\\u6280\\u672f\\u652f\\u6301\\u6570(\\u9648\\u9e4f\\u71d5)\", \"x\": [\"10-4\", \"8-3\", \"8-4\", \"9-1\", \"9-2\", \"9-3\", \"9-4\"], \"y\": [0.0, null, null, null, null, null, null], \"type\": \"scatter\", \"uid\": \"4049015a-dbfd-11e8-8ddb-a41f72875c19\"}, {\"line\": {\"dash\": \"dot\"}, \"name\": \"\\u5916\\u51fa\\u6280\\u672f\\u652f\\u6301\\u6570(\\u5218\\u6167\\u73b2)\", \"x\": [\"10-4\", \"8-3\", \"8-4\", \"9-1\", \"9-2\", \"9-3\", \"9-4\"], \"y\": [null, 0.0, 0.0, 0.0, null, null, null], \"type\": \"scatter\", \"uid\": \"4049015b-dbfd-11e8-8ddb-a41f72875c19\"}, {\"line\": {\"dash\": \"dash\"}, \"name\": \"\\u5916\\u51fa\\u6280\\u672f\\u652f\\u6301\\u6570(\\u6c88\\u6069\\u60e0)\", \"x\": [\"10-4\", \"8-3\", \"8-4\", \"9-1\", \"9-2\", \"9-3\", \"9-4\"], \"y\": [0.0, null, null, null, null, null, null], \"type\": \"scatter\", \"uid\": \"4049015c-dbfd-11e8-8ddb-a41f72875c19\"}, {\"line\": {\"dash\": \"longdash\"}, \"name\": \"\\u5916\\u51fa\\u6280\\u672f\\u652f\\u6301\\u6570(\\u6797\\u6587\\u6587)\", \"x\": [\"10-4\", \"8-3\", \"8-4\", \"9-1\", \"9-2\", \"9-3\", \"9-4\"], \"y\": [0.0, null, null, null, null, null, null], \"type\": \"scatter\", \"uid\": \"4049015d-dbfd-11e8-8ddb-a41f72875c19\"}, {\"line\": {\"dash\": \"dashdot\"}, \"name\": \"\\u5916\\u51fa\\u6280\\u672f\\u652f\\u6301\\u6570(\\u8c22\\u5fb7\\u5065)\", \"x\": [\"10-4\", \"8-3\", \"8-4\", \"9-1\", \"9-2\", \"9-3\", \"9-4\"], \"y\": [0.0, 0.0, 0.0, null, 0.0, 0.0, 0.0], \"type\": \"scatter\", \"uid\": \"4049015e-dbfd-11e8-8ddb-a41f72875c19\"}, {\"line\": {\"dash\": \"longdashdot\"}, \"name\": \"\\u5916\\u51fa\\u6280\\u672f\\u652f\\u6301\\u6570(\\u5218\\u6c5f)\", \"x\": [\"10-4\", \"8-3\", \"8-4\", \"9-1\", \"9-2\", \"9-3\", \"9-4\"], \"y\": [0.0, 0.0, 0.0, 0.0, 0.0, 0.0, 0.0], \"type\": \"scatter\", \"uid\": \"4049015f-dbfd-11e8-8ddb-a41f72875c19\"}, {\"line\": {\"dash\": \"solid\"}, \"name\": \"\\u5916\\u51fa\\u6280\\u672f\\u652f\\u6301\\u6570(\\u738b\\u7ea2)\", \"x\": [\"10-4\", \"8-3\", \"8-4\", \"9-1\", \"9-2\", \"9-3\", \"9-4\"], \"y\": [0.0, null, null, null, null, null, null], \"type\": \"scatter\", \"uid\": \"40490160-dbfd-11e8-8ddb-a41f72875c19\"}, {\"line\": {\"dash\": \"dot\"}, \"name\": \"\\u5916\\u51fa\\u6280\\u672f\\u652f\\u6301\\u6570(\\u674e\\u5e86\\u539f)\", \"x\": [\"10-4\", \"8-3\", \"8-4\", \"9-1\", \"9-2\", \"9-3\", \"9-4\"], \"y\": [0.0, 0.0, 0.0, 0.0, 0.0, 0.0, null], \"type\": \"scatter\", \"uid\": \"40490161-dbfd-11e8-8ddb-a41f72875c19\"}, {\"line\": {\"dash\": \"dash\"}, \"name\": \"\\u5916\\u51fa\\u6280\\u672f\\u652f\\u6301\\u6570(\\u9a6c\\u6f47)\", \"x\": [\"10-4\", \"8-3\", \"8-4\", \"9-1\", \"9-2\", \"9-3\", \"9-4\"], \"y\": [0.0, 0.0, 0.0, 0.0, 0.0, 0.0, 0.0], \"type\": \"scatter\", \"uid\": \"40490162-dbfd-11e8-8ddb-a41f72875c19\"}, {\"line\": {\"dash\": \"longdash\"}, \"name\": \"\\u5916\\u51fa\\u6280\\u672f\\u652f\\u6301\\u6570(\\u5360\\u4f1f)\", \"x\": [\"10-4\", \"8-3\", \"8-4\", \"9-1\", \"9-2\", \"9-3\", \"9-4\"], \"y\": [0.0, 0.0, 0.0, 0.0, 0.0, 0.0, 0.0], \"type\": \"scatter\", \"uid\": \"40490163-dbfd-11e8-8ddb-a41f72875c19\"}, {\"line\": {\"dash\": \"dashdot\"}, \"name\": \"\\u5916\\u51fa\\u6280\\u672f\\u652f\\u6301\\u6570(\\u5b8b\\u8fce\\u6960)\", \"x\": [\"10-4\", \"8-3\", \"8-4\", \"9-1\", \"9-2\", \"9-3\", \"9-4\"], \"y\": [null, 0.0, 0.0, 0.0, null, null, null], \"type\": \"scatter\", \"uid\": \"40490164-dbfd-11e8-8ddb-a41f72875c19\"}, {\"line\": {\"dash\": \"longdashdot\"}, \"name\": \"\\u5916\\u51fa\\u6280\\u672f\\u652f\\u6301\\u6570(\\u8303\\u65ed\\u5b81)\", \"x\": [\"10-4\", \"8-3\", \"8-4\", \"9-1\", \"9-2\", \"9-3\", \"9-4\"], \"y\": [0.0, 0.0, 0.0, 0.0, 0.0, 0.0, 0.0], \"type\": \"scatter\", \"uid\": \"40490165-dbfd-11e8-8ddb-a41f72875c19\"}, {\"line\": {\"dash\": \"solid\"}, \"name\": \"\\u5916\\u51fa\\u6280\\u672f\\u652f\\u6301\\u6570(\\u5c48\\u6602)\", \"x\": [\"10-4\", \"8-3\", \"8-4\", \"9-1\", \"9-2\", \"9-3\", \"9-4\"], \"y\": [0.0, null, null, null, null, null, null], \"type\": \"scatter\", \"uid\": \"40490166-dbfd-11e8-8ddb-a41f72875c19\"}, {\"line\": {\"dash\": \"dot\"}, \"name\": \"\\u5916\\u51fa\\u6280\\u672f\\u652f\\u6301\\u6570(\\u5f20\\u5b88\\u4f1f)\", \"x\": [\"10-4\", \"8-3\", \"8-4\", \"9-1\", \"9-2\", \"9-3\", \"9-4\"], \"y\": [0.0, 0.0, 0.0, 0.0, 0.0, 0.0, 0.0], \"type\": \"scatter\", \"uid\": \"40490167-dbfd-11e8-8ddb-a41f72875c19\"}, {\"line\": {\"dash\": \"dash\"}, \"name\": \"\\u5916\\u51fa\\u6280\\u672f\\u652f\\u6301\\u6570(\\u5c01\\u5f66\\u6770)\", \"x\": [\"10-4\", \"8-3\", \"8-4\", \"9-1\", \"9-2\", \"9-3\", \"9-4\"], \"y\": [0.0, 0.0, 0.0, 0.0, 0.0, 0.0, 0.0], \"type\": \"scatter\", \"uid\": \"40490168-dbfd-11e8-8ddb-a41f72875c19\"}, {\"line\": {\"dash\": \"longdash\"}, \"name\": \"\\u5916\\u51fa\\u6280\\u672f\\u652f\\u6301\\u6570(\\u5f20\\u60a6)\", \"x\": [\"10-4\", \"8-3\", \"8-4\", \"9-1\", \"9-2\", \"9-3\", \"9-4\"], \"y\": [0.0, null, null, null, null, null, null], \"type\": \"scatter\", \"uid\": \"40490169-dbfd-11e8-8ddb-a41f72875c19\"}, {\"line\": {\"dash\": \"dashdot\"}, \"name\": \"\\u5916\\u51fa\\u6280\\u672f\\u652f\\u6301\\u6570(\\u4e8e\\u6167)\", \"x\": [\"10-4\", \"8-3\", \"8-4\", \"9-1\", \"9-2\", \"9-3\", \"9-4\"], \"y\": [0.0, 0.0, 0.0, 0.0, 0.0, 0.0, 0.0], \"type\": \"scatter\", \"uid\": \"4049016a-dbfd-11e8-8ddb-a41f72875c19\"}], {\"title\": \"\\u7535\\u8bdd\\u4f1a\\u8bae\\u6b21\\u6570&\\u5ba2\\u6237\\u6765\\u8bbf\\u63a5\\u5f85\\u6570&\\u5916\\u51fa\\u6280\\u672f\\u652f\\u6301\\u6570\\u5468\\u8d8b\\u52bf\\u56fe\", \"xaxis\": {\"mirror\": \"all\", \"nticks\": 20, \"showgrid\": true, \"showline\": true, \"title\": \"\\u5468\", \"type\": \"category\", \"zeroline\": true}, \"yaxis\": {\"mirror\": \"all\", \"nticks\": 20, \"showgrid\": true, \"showline\": true, \"title\": \"\\u7535\\u8bdd\\u4f1a\\u8bae\\u6b21\\u6570&\\u5ba2\\u6237\\u6765\\u8bbf\\u63a5\\u5f85\\u6570&\\u5916\\u51fa\\u6280\\u672f\\u652f\\u6301\\u6570\", \"zeroline\": true}}, {\"showLink\": true, \"linkText\": \"Export to plot.ly\"})});</script>"
      ]
     },
     "metadata": {},
     "output_type": "display_data"
    }
   ],
   "source": [
    "ss=myModule.format(all_dict ,\"日期\" ,['电话会议次数', '外出技术支持数', '客户来访接待数'])\n",
    "ss.add_group('负责人')\n",
    "tt = myModule.myPlot(ss.groupby('sum'))\n",
    "tt.plot('line')"
   ]
  },
  {
   "cell_type": "markdown",
   "metadata": {},
   "source": [
    "# 研发组产品情况"
   ]
  },
  {
   "cell_type": "markdown",
   "metadata": {
    "hide_input": true
   },
   "source": [
    "## 整体情况"
   ]
  },
  {
   "cell_type": "markdown",
   "metadata": {},
   "source": [
    "### 转产情况"
   ]
  },
  {
   "cell_type": "markdown",
   "metadata": {},
   "source": [
    "#### 转产通过数、一次转产通过数"
   ]
  },
  {
   "cell_type": "code",
   "execution_count": 16,
   "metadata": {
    "collapsed": false
   },
   "outputs": [
    {
     "ename": "NameError",
     "evalue": "name 'all_dict_1' is not defined",
     "output_type": "error",
     "traceback": [
      "\u001b[0;31m---------------------------------------------------------------------------\u001b[0m",
      "\u001b[0;31mNameError\u001b[0m                                 Traceback (most recent call last)",
      "\u001b[0;32m<ipython-input-16-51d2d9f278f1>\u001b[0m in \u001b[0;36m<module>\u001b[0;34m()\u001b[0m\n\u001b[0;32m----> 1\u001b[0;31m \u001b[0mss\u001b[0m\u001b[0;34m=\u001b[0m\u001b[0mmyModule\u001b[0m\u001b[0;34m.\u001b[0m\u001b[0mformat\u001b[0m\u001b[0;34m(\u001b[0m\u001b[0mall_dict_1\u001b[0m \u001b[0;34m,\u001b[0m\u001b[0;34m\"日期（格式“月-周次”）\"\u001b[0m \u001b[0;34m,\u001b[0m\u001b[0;34m[\u001b[0m\u001b[0;34m'转产通过数'\u001b[0m\u001b[0;34m,\u001b[0m\u001b[0;34m'一次转产通过数'\u001b[0m\u001b[0;34m]\u001b[0m\u001b[0;34m)\u001b[0m\u001b[0;34m\u001b[0m\u001b[0m\n\u001b[0m\u001b[1;32m      2\u001b[0m \u001b[0mtt\u001b[0m \u001b[0;34m=\u001b[0m \u001b[0mmyModule\u001b[0m\u001b[0;34m.\u001b[0m\u001b[0mmyPlot\u001b[0m\u001b[0;34m(\u001b[0m\u001b[0mss\u001b[0m\u001b[0;34m.\u001b[0m\u001b[0mgroupby\u001b[0m\u001b[0;34m(\u001b[0m\u001b[0;34m'sum'\u001b[0m\u001b[0;34m)\u001b[0m\u001b[0;34m)\u001b[0m\u001b[0;34m\u001b[0m\u001b[0m\n\u001b[1;32m      3\u001b[0m \u001b[0mtt\u001b[0m\u001b[0;34m.\u001b[0m\u001b[0mplot\u001b[0m\u001b[0;34m(\u001b[0m\u001b[0;34m'line'\u001b[0m\u001b[0;34m)\u001b[0m\u001b[0;34m\u001b[0m\u001b[0m\n",
      "\u001b[0;31mNameError\u001b[0m: name 'all_dict_1' is not defined"
     ]
    }
   ],
   "source": [
    "ss=myModule.format(all_dict_1 ,\"日期（格式“月-周次”）\" ,['转产通过数','一次转产通过数'])\n",
    "tt = myModule.myPlot(ss.groupby('sum'))\n",
    "tt.plot('line')"
   ]
  },
  {
   "cell_type": "markdown",
   "metadata": {},
   "source": [
    "#### 转产通过率"
   ]
  },
  {
   "cell_type": "code",
   "execution_count": null,
   "metadata": {
    "collapsed": false
   },
   "outputs": [],
   "source": [
    "myModule.upgrade_df(all_dict_1, [ ['通过率','一次转产通过数','转产通过数','/'] ])\n",
    "ss=myModule.format(all_dict_1 ,\"日期（格式“月-周次”）\" ,['通过率'])\n",
    "tt = myModule.myPlot(ss.groupby('mean'))\n",
    "tt.plot('line')"
   ]
  },
  {
   "cell_type": "markdown",
   "metadata": {},
   "source": [
    "### bug情况"
   ]
  },
  {
   "cell_type": "markdown",
   "metadata": {},
   "source": [
    "#### 应完成BUG数和完成BUG修复数"
   ]
  },
  {
   "cell_type": "code",
   "execution_count": null,
   "metadata": {
    "collapsed": false
   },
   "outputs": [],
   "source": [
    "ss=myModule.format(all_dict_1 ,\"日期（格式“月-周次”）\" ,['应完成BUG数','完成BUG修复数'])\n",
    "tt = myModule.myPlot(ss.groupby('sum'))\n",
    "tt.plot('line')"
   ]
  },
  {
   "cell_type": "markdown",
   "metadata": {
    "hide_input": true
   },
   "source": [
    "## 各组情况"
   ]
  },
  {
   "cell_type": "markdown",
   "metadata": {},
   "source": [
    "### 转产情况"
   ]
  },
  {
   "cell_type": "markdown",
   "metadata": {},
   "source": [
    "#### 转产通过数、一次转产通过数"
   ]
  },
  {
   "cell_type": "code",
   "execution_count": null,
   "metadata": {
    "collapsed": false
   },
   "outputs": [],
   "source": [
    "ss=myModule.format(all_dict_1 ,\"日期（格式“月-周次”）\" ,['转产通过数','一次转产通过数'])\n",
    "ss.add_group('组别')\n",
    "tt = myModule.myPlot(ss.groupby('sum'))\n",
    "tt.plot('line')"
   ]
  },
  {
   "cell_type": "markdown",
   "metadata": {},
   "source": [
    "#### 转产通过率"
   ]
  },
  {
   "cell_type": "code",
   "execution_count": null,
   "metadata": {
    "collapsed": false
   },
   "outputs": [],
   "source": [
    "#myModule.upgrade_df(all_dict_1, [ ['通过率','一次转产通过数','转产通过数','/'] ])\n",
    "ss=myModule.format(all_dict_1 ,\"日期（格式“月-周次”）\" ,['通过率'])\n",
    "ss.add_group('组别')\n",
    "tt = myModule.myPlot(ss.groupby('mean'))\n",
    "tt.plot('line')"
   ]
  },
  {
   "cell_type": "markdown",
   "metadata": {},
   "source": [
    "### bug情况"
   ]
  },
  {
   "cell_type": "markdown",
   "metadata": {},
   "source": [
    "#### 应完成BUG数和完成BUG修复数"
   ]
  },
  {
   "cell_type": "code",
   "execution_count": null,
   "metadata": {
    "collapsed": false
   },
   "outputs": [],
   "source": [
    "ss=myModule.format(all_dict_1 ,\"日期（格式“月-周次”）\" ,['应完成BUG数','完成BUG修复数'])\n",
    "ss.add_group('组别')\n",
    "tt = myModule.myPlot(ss.groupby('sum'))\n",
    "tt.plot('line')"
   ]
  },
  {
   "cell_type": "markdown",
   "metadata": {
    "hide_input": true
   },
   "source": [
    "## 个人情况"
   ]
  },
  {
   "cell_type": "markdown",
   "metadata": {},
   "source": [
    "### 转产情况"
   ]
  },
  {
   "cell_type": "markdown",
   "metadata": {},
   "source": [
    "#### 转产通过数、一次转产通过数"
   ]
  },
  {
   "cell_type": "code",
   "execution_count": null,
   "metadata": {
    "collapsed": false
   },
   "outputs": [],
   "source": [
    "ss=myModule.format(all_dict_1 ,\"日期（格式“月-周次”）\" ,['转产通过数','一次转产通过数'])\n",
    "ss.add_group('负责人')\n",
    "tt = myModule.myPlot(ss.groupby('sum'))\n",
    "tt.plot('line')"
   ]
  },
  {
   "cell_type": "markdown",
   "metadata": {},
   "source": [
    "#### 转产通过率"
   ]
  },
  {
   "cell_type": "code",
   "execution_count": null,
   "metadata": {
    "collapsed": false
   },
   "outputs": [],
   "source": [
    "ss=myModule.format(all_dict_1 ,\"日期（格式“月-周次”）\" ,['通过率'])\n",
    "ss.add_group('负责人')\n",
    "tt = myModule.myPlot(ss.groupby('mean'))\n",
    "tt.plot('line')"
   ]
  },
  {
   "cell_type": "markdown",
   "metadata": {},
   "source": [
    "### bug情况"
   ]
  },
  {
   "cell_type": "markdown",
   "metadata": {},
   "source": [
    "#### 应完成BUG数和完成BUG修复数"
   ]
  },
  {
   "cell_type": "code",
   "execution_count": null,
   "metadata": {
    "collapsed": false
   },
   "outputs": [],
   "source": [
    "ss=myModule.format(all_dict_1 ,\"日期（格式“月-周次”）\" ,['应完成BUG数','完成BUG修复数'])\n",
    "ss.add_group('负责人')\n",
    "tt = myModule.myPlot(ss.groupby('sum'))\n",
    "tt.plot('line')"
   ]
  },
  {
   "cell_type": "markdown",
   "metadata": {},
   "source": [
    "# 商业项目情况"
   ]
  },
  {
   "cell_type": "markdown",
   "metadata": {
    "hide_input": true
   },
   "source": [
    "## 整体情况"
   ]
  },
  {
   "cell_type": "markdown",
   "metadata": {},
   "source": [
    "### 完成商业项目数"
   ]
  },
  {
   "cell_type": "code",
   "execution_count": null,
   "metadata": {
    "collapsed": false
   },
   "outputs": [],
   "source": [
    "ss=myModule.format(all_dict_2 ,\"日期\" ,['完成商业项目数','完成个性化数'])\n",
    "tt = myModule.myPlot(ss.groupby('sum'))\n",
    "tt.plot('line')"
   ]
  },
  {
   "cell_type": "markdown",
   "metadata": {},
   "source": [
    "### 延期项目数"
   ]
  },
  {
   "cell_type": "code",
   "execution_count": null,
   "metadata": {
    "collapsed": false
   },
   "outputs": [],
   "source": [
    "ss=myModule.format(all_dict_2 ,\"日期\" ,['延期商业项目数','延期个性化项目数'])\n",
    "tt = myModule.myPlot(ss.groupby('sum'))\n",
    "tt.plot('line')"
   ]
  },
  {
   "cell_type": "markdown",
   "metadata": {},
   "source": [
    "### 反馈延期数"
   ]
  },
  {
   "cell_type": "code",
   "execution_count": null,
   "metadata": {
    "collapsed": false
   },
   "outputs": [],
   "source": [
    "ss=myModule.format(all_dict_2 ,\"日期\" ,['24h内未完成数据反馈项目数','反馈延期个性化数'])\n",
    "tt = myModule.myPlot(ss.groupby('sum'))\n",
    "tt.plot('line')"
   ]
  },
  {
   "cell_type": "markdown",
   "metadata": {},
   "source": [
    "### 延期率"
   ]
  },
  {
   "cell_type": "code",
   "execution_count": null,
   "metadata": {
    "collapsed": false
   },
   "outputs": [],
   "source": [
    "myModule.upgrade_df(all_dict_2, [ ['商业项目延期率','延期商业项目数','总商业项目数','/'] ,\\\n",
    "                                 ['个性化项目延期率','延期个性化项目数', '总个性化数','/'],\n",
    "                                 ['总延期率','总延期项目数', '总项目数','/']])\n",
    "ss=myModule.format(all_dict_2 ,\"日期\" ,['商业项目延期率','个性化项目延期率','总延期率'])\n",
    "tt = myModule.myPlot(ss.groupby('mean'))\n",
    "tt.plot('line')"
   ]
  },
  {
   "cell_type": "code",
   "execution_count": null,
   "metadata": {
    "collapsed": true
   },
   "outputs": [],
   "source": []
  },
  {
   "cell_type": "markdown",
   "metadata": {},
   "source": [
    "### 反馈延期率"
   ]
  },
  {
   "cell_type": "code",
   "execution_count": null,
   "metadata": {
    "collapsed": false
   },
   "outputs": [],
   "source": [
    "myModule.upgrade_df(all_dict_2, [ ['数据反馈延期率','24h内未完成数据反馈项目数','下机项目数','/'] ,['个性化反馈延期率','反馈延期个性化数', '接入个性化数','/']])\n",
    "ss=myModule.format(all_dict_2 ,\"日期\" ,['数据反馈延期率','个性化反馈延期率'])\n",
    "tt = myModule.myPlot(ss.groupby('mean'))\n",
    "tt.plot('line')\n"
   ]
  },
  {
   "cell_type": "markdown",
   "metadata": {},
   "source": [
    "### 交付延期率"
   ]
  },
  {
   "cell_type": "code",
   "execution_count": null,
   "metadata": {
    "collapsed": false
   },
   "outputs": [],
   "source": [
    "myModule.upgrade_df(all_dict_2, [ ['交付延期率','24h内未完成数据交付项目数','待交付项目数','/'] ])\n",
    "ss=myModule.format(all_dict_2 ,\"日期\" ,['交付延期率'])\n",
    "tt = myModule.myPlot(ss.groupby('mean'))\n",
    "tt.plot('line')"
   ]
  },
  {
   "cell_type": "markdown",
   "metadata": {
    "hide_input": true
   },
   "source": [
    "## 各组情况"
   ]
  },
  {
   "cell_type": "markdown",
   "metadata": {},
   "source": [
    "### 各组完成商业项目数"
   ]
  },
  {
   "cell_type": "code",
   "execution_count": null,
   "metadata": {
    "collapsed": false
   },
   "outputs": [],
   "source": [
    "ss=myModule.format(all_dict_2 ,\"日期\" ,['完成商业项目数','完成个性化数'])\n",
    "ss.add_group('组别')\n",
    "tt = myModule.myPlot(ss.groupby('sum'))\n",
    "tt.plot('line')"
   ]
  },
  {
   "cell_type": "markdown",
   "metadata": {},
   "source": [
    "### 各组延期项目数"
   ]
  },
  {
   "cell_type": "code",
   "execution_count": null,
   "metadata": {
    "collapsed": false
   },
   "outputs": [],
   "source": [
    "ss=myModule.format(all_dict_2 ,\"日期\" ,['延期商业项目数','延期个性化项目数'])\n",
    "ss.add_group('组别')\n",
    "tt = myModule.myPlot(ss.groupby('sum'))\n",
    "tt.plot('line')\n"
   ]
  },
  {
   "cell_type": "markdown",
   "metadata": {},
   "source": [
    "### 各组反馈延期数"
   ]
  },
  {
   "cell_type": "code",
   "execution_count": null,
   "metadata": {
    "collapsed": false
   },
   "outputs": [],
   "source": [
    "ss=myModule.format(all_dict_2 ,\"日期\" ,['24h内未完成数据反馈项目数','反馈延期个性化数'])\n",
    "ss.add_group('组别')\n",
    "tt = myModule.myPlot(ss.groupby('sum'))\n",
    "tt.plot('line')"
   ]
  },
  {
   "cell_type": "markdown",
   "metadata": {},
   "source": [
    "### 各组延期率"
   ]
  },
  {
   "cell_type": "code",
   "execution_count": null,
   "metadata": {
    "collapsed": false
   },
   "outputs": [],
   "source": [
    "myModule.upgrade_df(all_dict_2, [ ['商业项目延期率','延期商业项目数','总商业项目数','/'] ,\\\n",
    "                                 ['个性化项目延期率','延期个性化项目数', '总个性化数','/'],\n",
    "                                 ['总延期率','总延期项目数', '总项目数','/']])\n",
    "ss=myModule.format(all_dict_2 ,\"日期\" ,['商业项目延期率','个性化项目延期率','总延期率'])\n",
    "ss.add_group('组别')\n",
    "tt = myModule.myPlot(ss.groupby('sum'))\n",
    "tt.plot('line')"
   ]
  },
  {
   "cell_type": "markdown",
   "metadata": {},
   "source": [
    "### 各组反馈延期率"
   ]
  },
  {
   "cell_type": "code",
   "execution_count": null,
   "metadata": {
    "collapsed": false
   },
   "outputs": [],
   "source": [
    "myModule.upgrade_df(all_dict_2, [ ['数据反馈延期率','24h内未完成数据反馈项目数','下机项目数','/'] ,['个性化反馈延期率','反馈延期个性化数', '接入个性化数','/']])\n",
    "ss=myModule.format(all_dict_2 ,\"日期\" ,['数据反馈延期率','个性化反馈延期率'])\n",
    "ss.add_group('组别')\n",
    "tt = myModule.myPlot(ss.groupby('mean'))\n",
    "tt.plot('line')\n"
   ]
  },
  {
   "cell_type": "markdown",
   "metadata": {},
   "source": [
    "### 各组交付延期率"
   ]
  },
  {
   "cell_type": "code",
   "execution_count": null,
   "metadata": {
    "collapsed": false
   },
   "outputs": [],
   "source": [
    "myModule.upgrade_df(all_dict_2, [ ['交付延期率','24h内未完成数据交付项目数','待交付项目数','/'] ])\n",
    "ss=myModule.format(all_dict_2 ,\"日期\" ,['交付延期率'])\n",
    "ss.add_group('组别')\n",
    "tt = myModule.myPlot(ss.groupby('mean'))\n",
    "tt.plot('line')"
   ]
  },
  {
   "cell_type": "markdown",
   "metadata": {
    "hide_input": true
   },
   "source": [
    "## 个人完成项目统计"
   ]
  },
  {
   "cell_type": "markdown",
   "metadata": {},
   "source": [
    "### 个人完成商业项目数"
   ]
  },
  {
   "cell_type": "code",
   "execution_count": null,
   "metadata": {
    "collapsed": false
   },
   "outputs": [],
   "source": [
    "ss=myModule.format(all_dict_2 ,\"日期\" ,['完成商业项目数','完成个性化数'])\n",
    "ss.add_group('负责人')\n",
    "tt = myModule.myPlot(ss.groupby('sum'))\n",
    "tt.plot('line')"
   ]
  },
  {
   "cell_type": "markdown",
   "metadata": {},
   "source": [
    "### 个人延期项目数"
   ]
  },
  {
   "cell_type": "code",
   "execution_count": null,
   "metadata": {
    "collapsed": false
   },
   "outputs": [],
   "source": [
    "ss=myModule.format(all_dict_2 ,\"日期\" ,['延期商业项目数','延期个性化项目数'])\n",
    "ss.add_group('负责人')\n",
    "tt = myModule.myPlot(ss.groupby('sum'))\n",
    "tt.plot('line')\n"
   ]
  },
  {
   "cell_type": "markdown",
   "metadata": {},
   "source": [
    "### 个人反馈延期数"
   ]
  },
  {
   "cell_type": "code",
   "execution_count": null,
   "metadata": {
    "collapsed": false
   },
   "outputs": [],
   "source": [
    "ss=myModule.format(all_dict_2 ,\"日期\" ,['24h内未完成数据反馈项目数','反馈延期个性化数'])\n",
    "ss.add_group('负责人')\n",
    "tt = myModule.myPlot(ss.groupby('sum'))\n",
    "tt.plot('line')"
   ]
  },
  {
   "cell_type": "code",
   "execution_count": null,
   "metadata": {
    "collapsed": true
   },
   "outputs": [],
   "source": []
  }
 ],
 "metadata": {
  "celltoolbar": "Raw Cell Format",
  "hide_input": false,
  "kernelspec": {
   "display_name": "Python 3",
   "language": "python",
   "name": "python3"
  },
  "language_info": {
   "codemirror_mode": {
    "name": "ipython",
    "version": 3
   },
   "file_extension": ".py",
   "mimetype": "text/x-python",
   "name": "python",
   "nbconvert_exporter": "python",
   "pygments_lexer": "ipython3",
   "version": "3.6.0"
  },
  "toc": {
   "base_numbering": 1,
   "nav_menu": {},
   "number_sections": true,
   "sideBar": true,
   "skip_h1_title": false,
   "title_cell": "Table of Contents",
   "title_sidebar": "Contents",
   "toc_cell": false,
   "toc_position": {
    "height": "513px",
    "left": "32px",
    "top": "107px",
    "width": "271px"
   },
   "toc_section_display": true,
   "toc_window_display": true
  }
 },
 "nbformat": 4,
 "nbformat_minor": 2
}
