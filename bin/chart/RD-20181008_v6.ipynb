{
 "cells": [
  {
   "cell_type": "code",
   "execution_count": 150,
   "metadata": {
    "collapsed": false,
    "hide_input": false
   },
   "outputs": [
    {
     "name": "stdout",
     "output_type": "stream",
     "text": [
      "The autoreload extension is already loaded. To reload it, use:\n",
      "  %reload_ext autoreload\n"
     ]
    }
   ],
   "source": [
    "%load_ext autoreload\n",
    "%autoreload 2\n",
    "import sys\n",
    "sys.path.append('./')\n",
    "import myModule_2018_10_08 as myModule"
   ]
  },
  {
   "cell_type": "code",
   "execution_count": 151,
   "metadata": {
    "collapsed": false
   },
   "outputs": [
    {
     "data": {
      "text/html": [
       "<script>requirejs.config({paths: { 'plotly': ['https://cdn.plot.ly/plotly-latest.min']},});if(!window.Plotly) {{require(['plotly'],function(plotly) {window.Plotly=plotly;});}}</script>"
      ],
      "text/vnd.plotly.v1+html": [
       "<script>requirejs.config({paths: { 'plotly': ['https://cdn.plot.ly/plotly-latest.min']},});if(!window.Plotly) {{require(['plotly'],function(plotly) {window.Plotly=plotly;});}}</script>"
      ]
     },
     "metadata": {},
     "output_type": "display_data"
    },
    {
     "data": {
      "text/plain": [
       "<module 'myModule_2018_10_08' from 'E:\\\\jupyter_project\\\\yanfayibiaopan_20181008\\\\chart\\\\myModule_2018_10_08.py'>"
      ]
     },
     "execution_count": 151,
     "metadata": {},
     "output_type": "execute_result"
    }
   ],
   "source": [
    "import imp\n",
    "imp.reload(myModule_2018_10_08)"
   ]
  },
  {
   "cell_type": "markdown",
   "metadata": {},
   "source": [
    "# 研发组人员情况"
   ]
  },
  {
   "cell_type": "code",
   "execution_count": 152,
   "metadata": {
    "collapsed": false
   },
   "outputs": [
    {
     "name": "stdout",
     "output_type": "stream",
     "text": [
      "['E:\\\\jupyter_project\\\\yanfayibiaopan_20181008\\\\data\\\\RD\\\\仪表盘-研发组-8-3.xlsx', 'E:\\\\jupyter_project\\\\yanfayibiaopan_20181008\\\\data\\\\RD\\\\仪表盘-研发组-8-4.xlsx', 'E:\\\\jupyter_project\\\\yanfayibiaopan_20181008\\\\data\\\\RD\\\\仪表盘-研发组-9-1.xlsx', 'E:\\\\jupyter_project\\\\yanfayibiaopan_20181008\\\\data\\\\RD\\\\仪表盘-研发组-9-2.xlsx', 'E:\\\\jupyter_project\\\\yanfayibiaopan_20181008\\\\data\\\\RD\\\\仪表盘-研发组-9-3.xlsx', 'E:\\\\jupyter_project\\\\yanfayibiaopan_20181008\\\\data\\\\RD\\\\仪表盘-研发组-9-4.xlsx']\n"
     ]
    }
   ],
   "source": [
    "#路径末尾不能包含斜线\n",
    "pathway = r\"E:\\jupyter_project\\yanfayibiaopan_20181008\\data\\RD\"\n",
    "all_files , title = myModule.get_title(pathway , 0)##给路径\n",
    "print(all_files)\n",
    "all_dict = myModule.read_xlsx(all_files, 0 ) ## 读取所有文件的sheet1\n",
    "all_dict_1 = myModule.read_xlsx(all_files, 1 )  ## 读取所有文件的sheet2\n",
    "\n",
    "\n",
    "new_files=[]\n",
    "import xlrd  \n",
    "for file in all_files:\n",
    "    b = xlrd.open_workbook(file)\n",
    "    count = len(b.sheets()) #sheet数量\n",
    "    if count == 3:\n",
    "        new_files+=[file]\n",
    "all_dict_2 = myModule.read_xlsx(new_files, 2 )  ## 读取所有文件的sheet3"
   ]
  },
  {
   "cell_type": "markdown",
   "metadata": {
    "hide_input": true
   },
   "source": [
    "## 整体情况"
   ]
  },
  {
   "cell_type": "markdown",
   "metadata": {},
   "source": [
    "### 下单整体情况"
   ]
  },
  {
   "cell_type": "markdown",
   "metadata": {},
   "source": [
    "\n",
    "#### 总下单数和完成下单数\n"
   ]
  },
  {
   "cell_type": "code",
   "execution_count": 153,
   "metadata": {
    "collapsed": false
   },
   "outputs": [
    {
     "data": {
      "application/vnd.plotly.v1+json": {
       "data": [
        {
         "name": "总下单数",
         "type": "scatter",
         "uid": "4658b1ee-cb6f-11e8-8af7-509a4c0f1ffc",
         "x": [
          "8-3",
          "8-4",
          "9-1",
          "9-2",
          "9-3",
          "9-4"
         ],
         "y": [
          90,
          111,
          102,
          97,
          122,
          89
         ]
        },
        {
         "name": "完成下单数",
         "type": "scatter",
         "uid": "4658b1ef-cb6f-11e8-b5ee-509a4c0f1ffc",
         "x": [
          "8-3",
          "8-4",
          "9-1",
          "9-2",
          "9-3",
          "9-4"
         ],
         "y": [
          76,
          103,
          97,
          88,
          114,
          86
         ]
        }
       ],
       "layout": {
        "title": "总下单数&完成下单数周趋势图",
        "xaxis": {
         "mirror": "all",
         "nticks": 20,
         "showgrid": true,
         "showline": true,
         "title": "周",
         "zeroline": true
        },
        "yaxis": {
         "mirror": "all",
         "nticks": 20,
         "showgrid": true,
         "showline": true,
         "title": "总下单数&完成下单数",
         "zeroline": true
        }
       }
      },
      "text/html": [
       "<div id=\"e711bb72-7bd5-4e13-957c-e877c44ce8d2\" style=\"height: 525px; width: 100%;\" class=\"plotly-graph-div\"></div><script type=\"text/javascript\">require([\"plotly\"], function(Plotly) { window.PLOTLYENV=window.PLOTLYENV || {};window.PLOTLYENV.BASE_URL=\"https://plot.ly\";\n",
       "        Plotly.plot(\n",
       "            'e711bb72-7bd5-4e13-957c-e877c44ce8d2',\n",
       "            [{\"name\": \"\\u603b\\u4e0b\\u5355\\u6570\", \"x\": [\"8-3\", \"8-4\", \"9-1\", \"9-2\", \"9-3\", \"9-4\"], \"y\": [90.0, 111.0, 102.0, 97.0, 122.0, 89.0], \"type\": \"scatter\", \"uid\": \"4658b1ee-cb6f-11e8-8af7-509a4c0f1ffc\"}, {\"name\": \"\\u5b8c\\u6210\\u4e0b\\u5355\\u6570\", \"x\": [\"8-3\", \"8-4\", \"9-1\", \"9-2\", \"9-3\", \"9-4\"], \"y\": [76.0, 103.0, 97.0, 88.0, 114.0, 86.0], \"type\": \"scatter\", \"uid\": \"4658b1ef-cb6f-11e8-b5ee-509a4c0f1ffc\"}],\n",
       "            {\"title\": \"\\u603b\\u4e0b\\u5355\\u6570&\\u5b8c\\u6210\\u4e0b\\u5355\\u6570\\u5468\\u8d8b\\u52bf\\u56fe\", \"xaxis\": {\"mirror\": \"all\", \"nticks\": 20, \"showgrid\": true, \"showline\": true, \"title\": \"\\u5468\", \"zeroline\": true}, \"yaxis\": {\"mirror\": \"all\", \"nticks\": 20, \"showgrid\": true, \"showline\": true, \"title\": \"\\u603b\\u4e0b\\u5355\\u6570&\\u5b8c\\u6210\\u4e0b\\u5355\\u6570\", \"zeroline\": true}},\n",
       "            {\"showLink\": true, \"linkText\": \"Export to plot.ly\"}\n",
       "        ).then(function () {return Plotly.addFrames('e711bb72-7bd5-4e13-957c-e877c44ce8d2',{});}).then(function(){Plotly.animate('e711bb72-7bd5-4e13-957c-e877c44ce8d2');})\n",
       "        });</script>"
      ],
      "text/vnd.plotly.v1+html": [
       "<div id=\"e711bb72-7bd5-4e13-957c-e877c44ce8d2\" style=\"height: 525px; width: 100%;\" class=\"plotly-graph-div\"></div><script type=\"text/javascript\">require([\"plotly\"], function(Plotly) { window.PLOTLYENV=window.PLOTLYENV || {};window.PLOTLYENV.BASE_URL=\"https://plot.ly\";\n",
       "        Plotly.plot(\n",
       "            'e711bb72-7bd5-4e13-957c-e877c44ce8d2',\n",
       "            [{\"name\": \"\\u603b\\u4e0b\\u5355\\u6570\", \"x\": [\"8-3\", \"8-4\", \"9-1\", \"9-2\", \"9-3\", \"9-4\"], \"y\": [90.0, 111.0, 102.0, 97.0, 122.0, 89.0], \"type\": \"scatter\", \"uid\": \"4658b1ee-cb6f-11e8-8af7-509a4c0f1ffc\"}, {\"name\": \"\\u5b8c\\u6210\\u4e0b\\u5355\\u6570\", \"x\": [\"8-3\", \"8-4\", \"9-1\", \"9-2\", \"9-3\", \"9-4\"], \"y\": [76.0, 103.0, 97.0, 88.0, 114.0, 86.0], \"type\": \"scatter\", \"uid\": \"4658b1ef-cb6f-11e8-b5ee-509a4c0f1ffc\"}],\n",
       "            {\"title\": \"\\u603b\\u4e0b\\u5355\\u6570&\\u5b8c\\u6210\\u4e0b\\u5355\\u6570\\u5468\\u8d8b\\u52bf\\u56fe\", \"xaxis\": {\"mirror\": \"all\", \"nticks\": 20, \"showgrid\": true, \"showline\": true, \"title\": \"\\u5468\", \"zeroline\": true}, \"yaxis\": {\"mirror\": \"all\", \"nticks\": 20, \"showgrid\": true, \"showline\": true, \"title\": \"\\u603b\\u4e0b\\u5355\\u6570&\\u5b8c\\u6210\\u4e0b\\u5355\\u6570\", \"zeroline\": true}},\n",
       "            {\"showLink\": true, \"linkText\": \"Export to plot.ly\"}\n",
       "        ).then(function () {return Plotly.addFrames('e711bb72-7bd5-4e13-957c-e877c44ce8d2',{});}).then(function(){Plotly.animate('e711bb72-7bd5-4e13-957c-e877c44ce8d2');})\n",
       "        });</script>"
      ]
     },
     "metadata": {},
     "output_type": "display_data"
    }
   ],
   "source": [
    "##myModule.format(数据矩阵 ,区分依据,横坐标（例如日期、负责人）,需要统计的列名（例如总下单数）)\n",
    "#例如：\n",
    "#ss=myModule.format(all_dict ,\"日期\" ,['负责人'])\n",
    "#tt.plot('line')\n",
    "ss=myModule.format(all_dict ,\"日期\" ,['总下单数','完成下单数'])\n",
    "tt = myModule.myPlot(ss.groupby('sum'))\n",
    "tt.plot('line')"
   ]
  },
  {
   "cell_type": "markdown",
   "metadata": {
    "hide_input": true
   },
   "source": [
    "### 高质量报告"
   ]
  },
  {
   "cell_type": "markdown",
   "metadata": {},
   "source": [
    "#### 应交高质量报告数和提交高质量报告数"
   ]
  },
  {
   "cell_type": "code",
   "execution_count": 154,
   "metadata": {
    "collapsed": false
   },
   "outputs": [
    {
     "data": {
      "application/vnd.plotly.v1+json": {
       "data": [
        {
         "name": "应交高质量报告数",
         "type": "scatter",
         "uid": "468b0c90-cb6f-11e8-81f2-509a4c0f1ffc",
         "x": [
          "8-3",
          "8-4",
          "9-1",
          "9-2",
          "9-3",
          "9-4"
         ],
         "y": [
          7,
          7,
          17,
          8,
          6,
          2
         ]
        },
        {
         "name": "提交高质量报告数",
         "type": "scatter",
         "uid": "468b0c91-cb6f-11e8-8d10-509a4c0f1ffc",
         "x": [
          "8-3",
          "8-4",
          "9-1",
          "9-2",
          "9-3",
          "9-4"
         ],
         "y": [
          7,
          7,
          17,
          6,
          7,
          3
         ]
        }
       ],
       "layout": {
        "title": "应交高质量报告数&提交高质量报告数周趋势图",
        "xaxis": {
         "mirror": "all",
         "nticks": 20,
         "showgrid": true,
         "showline": true,
         "title": "周",
         "zeroline": true
        },
        "yaxis": {
         "mirror": "all",
         "nticks": 20,
         "showgrid": true,
         "showline": true,
         "title": "应交高质量报告数&提交高质量报告数",
         "zeroline": true
        }
       }
      },
      "text/html": [
       "<div id=\"295c4eee-36bd-42ef-ae42-5e38040277f2\" style=\"height: 525px; width: 100%;\" class=\"plotly-graph-div\"></div><script type=\"text/javascript\">require([\"plotly\"], function(Plotly) { window.PLOTLYENV=window.PLOTLYENV || {};window.PLOTLYENV.BASE_URL=\"https://plot.ly\";\n",
       "        Plotly.plot(\n",
       "            '295c4eee-36bd-42ef-ae42-5e38040277f2',\n",
       "            [{\"name\": \"\\u5e94\\u4ea4\\u9ad8\\u8d28\\u91cf\\u62a5\\u544a\\u6570\", \"x\": [\"8-3\", \"8-4\", \"9-1\", \"9-2\", \"9-3\", \"9-4\"], \"y\": [7.0, 7.0, 17.0, 8.0, 6.0, 2.0], \"type\": \"scatter\", \"uid\": \"468b0c90-cb6f-11e8-81f2-509a4c0f1ffc\"}, {\"name\": \"\\u63d0\\u4ea4\\u9ad8\\u8d28\\u91cf\\u62a5\\u544a\\u6570\", \"x\": [\"8-3\", \"8-4\", \"9-1\", \"9-2\", \"9-3\", \"9-4\"], \"y\": [7.0, 7.0, 17.0, 6.0, 7.0, 3.0], \"type\": \"scatter\", \"uid\": \"468b0c91-cb6f-11e8-8d10-509a4c0f1ffc\"}],\n",
       "            {\"title\": \"\\u5e94\\u4ea4\\u9ad8\\u8d28\\u91cf\\u62a5\\u544a\\u6570&\\u63d0\\u4ea4\\u9ad8\\u8d28\\u91cf\\u62a5\\u544a\\u6570\\u5468\\u8d8b\\u52bf\\u56fe\", \"xaxis\": {\"mirror\": \"all\", \"nticks\": 20, \"showgrid\": true, \"showline\": true, \"title\": \"\\u5468\", \"zeroline\": true}, \"yaxis\": {\"mirror\": \"all\", \"nticks\": 20, \"showgrid\": true, \"showline\": true, \"title\": \"\\u5e94\\u4ea4\\u9ad8\\u8d28\\u91cf\\u62a5\\u544a\\u6570&\\u63d0\\u4ea4\\u9ad8\\u8d28\\u91cf\\u62a5\\u544a\\u6570\", \"zeroline\": true}},\n",
       "            {\"showLink\": true, \"linkText\": \"Export to plot.ly\"}\n",
       "        ).then(function () {return Plotly.addFrames('295c4eee-36bd-42ef-ae42-5e38040277f2',{});}).then(function(){Plotly.animate('295c4eee-36bd-42ef-ae42-5e38040277f2');})\n",
       "        });</script>"
      ],
      "text/vnd.plotly.v1+html": [
       "<div id=\"295c4eee-36bd-42ef-ae42-5e38040277f2\" style=\"height: 525px; width: 100%;\" class=\"plotly-graph-div\"></div><script type=\"text/javascript\">require([\"plotly\"], function(Plotly) { window.PLOTLYENV=window.PLOTLYENV || {};window.PLOTLYENV.BASE_URL=\"https://plot.ly\";\n",
       "        Plotly.plot(\n",
       "            '295c4eee-36bd-42ef-ae42-5e38040277f2',\n",
       "            [{\"name\": \"\\u5e94\\u4ea4\\u9ad8\\u8d28\\u91cf\\u62a5\\u544a\\u6570\", \"x\": [\"8-3\", \"8-4\", \"9-1\", \"9-2\", \"9-3\", \"9-4\"], \"y\": [7.0, 7.0, 17.0, 8.0, 6.0, 2.0], \"type\": \"scatter\", \"uid\": \"468b0c90-cb6f-11e8-81f2-509a4c0f1ffc\"}, {\"name\": \"\\u63d0\\u4ea4\\u9ad8\\u8d28\\u91cf\\u62a5\\u544a\\u6570\", \"x\": [\"8-3\", \"8-4\", \"9-1\", \"9-2\", \"9-3\", \"9-4\"], \"y\": [7.0, 7.0, 17.0, 6.0, 7.0, 3.0], \"type\": \"scatter\", \"uid\": \"468b0c91-cb6f-11e8-8d10-509a4c0f1ffc\"}],\n",
       "            {\"title\": \"\\u5e94\\u4ea4\\u9ad8\\u8d28\\u91cf\\u62a5\\u544a\\u6570&\\u63d0\\u4ea4\\u9ad8\\u8d28\\u91cf\\u62a5\\u544a\\u6570\\u5468\\u8d8b\\u52bf\\u56fe\", \"xaxis\": {\"mirror\": \"all\", \"nticks\": 20, \"showgrid\": true, \"showline\": true, \"title\": \"\\u5468\", \"zeroline\": true}, \"yaxis\": {\"mirror\": \"all\", \"nticks\": 20, \"showgrid\": true, \"showline\": true, \"title\": \"\\u5e94\\u4ea4\\u9ad8\\u8d28\\u91cf\\u62a5\\u544a\\u6570&\\u63d0\\u4ea4\\u9ad8\\u8d28\\u91cf\\u62a5\\u544a\\u6570\", \"zeroline\": true}},\n",
       "            {\"showLink\": true, \"linkText\": \"Export to plot.ly\"}\n",
       "        ).then(function () {return Plotly.addFrames('295c4eee-36bd-42ef-ae42-5e38040277f2',{});}).then(function(){Plotly.animate('295c4eee-36bd-42ef-ae42-5e38040277f2');})\n",
       "        });</script>"
      ]
     },
     "metadata": {},
     "output_type": "display_data"
    }
   ],
   "source": [
    "ss=myModule.format(all_dict ,\"日期\" ,['应交高质量报告数','提交高质量报告数'])\n",
    "tt = myModule.myPlot(ss.groupby('sum'))\n",
    "tt.plot('line')"
   ]
  },
  {
   "cell_type": "markdown",
   "metadata": {
    "hide_input": true
   },
   "source": [
    "### 甘特图情况"
   ]
  },
  {
   "cell_type": "markdown",
   "metadata": {},
   "source": [
    "#### 季度开发项目数、如期完成项目数、延期完成、开发中的项目数、延期项目数和暂停项目数"
   ]
  },
  {
   "cell_type": "code",
   "execution_count": 155,
   "metadata": {
    "collapsed": false
   },
   "outputs": [
    {
     "data": {
      "application/vnd.plotly.v1+json": {
       "data": [
        {
         "name": "如期完成项目数",
         "type": "scatter",
         "uid": "46c137c0-cb6f-11e8-822a-509a4c0f1ffc",
         "x": [
          "8-3",
          "8-4",
          "9-1",
          "9-2",
          "9-3",
          "9-4"
         ],
         "y": [
          199,
          218,
          228,
          219,
          241,
          212
         ]
        },
        {
         "name": "开发中的项目数",
         "type": "scatter",
         "uid": "46c137c1-cb6f-11e8-b500-509a4c0f1ffc",
         "x": [
          "8-3",
          "8-4",
          "9-1",
          "9-2",
          "9-3",
          "9-4"
         ],
         "y": [
          73,
          90,
          66,
          48,
          26,
          12
         ]
        },
        {
         "name": "延期完成",
         "type": "scatter",
         "uid": "46c137c2-cb6f-11e8-acd6-509a4c0f1ffc",
         "x": [
          "8-3",
          "8-4",
          "9-1",
          "9-2",
          "9-3",
          "9-4"
         ],
         "y": [
          15,
          18,
          22,
          8,
          26,
          22
         ]
        },
        {
         "name": "季度开发项目数",
         "type": "scatter",
         "uid": "46c137c3-cb6f-11e8-8fff-509a4c0f1ffc",
         "x": [
          "8-3",
          "8-4",
          "9-1",
          "9-2",
          "9-3",
          "9-4"
         ],
         "y": [
          315,
          352,
          357,
          308,
          323,
          262
         ]
        },
        {
         "name": "暂停项目数",
         "type": "scatter",
         "uid": "46c137c4-cb6f-11e8-b712-509a4c0f1ffc",
         "x": [
          "8-3",
          "8-4",
          "9-1",
          "9-2",
          "9-3",
          "9-4"
         ],
         "y": [
          15,
          15,
          21,
          18,
          34,
          22
         ]
        },
        {
         "name": "延期项目数",
         "type": "scatter",
         "uid": "46c137c5-cb6f-11e8-9b53-509a4c0f1ffc",
         "x": [
          "8-3",
          "8-4",
          "9-1",
          "9-2",
          "9-3",
          "9-4"
         ],
         "y": [
          11,
          13,
          26,
          20,
          14,
          16
         ]
        }
       ],
       "layout": {
        "title": "如期完成项目数&开发中的项目数&延期完成&季度开发项目数&暂停项目数&延期项目数周趋势图",
        "xaxis": {
         "mirror": "all",
         "nticks": 20,
         "showgrid": true,
         "showline": true,
         "title": "周",
         "zeroline": true
        },
        "yaxis": {
         "mirror": "all",
         "nticks": 20,
         "showgrid": true,
         "showline": true,
         "title": "如期完成项目数&开发中的项目数&延期完成&季度开发项目数&暂停项目数&延期项目数",
         "zeroline": true
        }
       }
      },
      "text/html": [
       "<div id=\"b7ef96f8-f299-409d-b8f6-8e703bfe70df\" style=\"height: 525px; width: 100%;\" class=\"plotly-graph-div\"></div><script type=\"text/javascript\">require([\"plotly\"], function(Plotly) { window.PLOTLYENV=window.PLOTLYENV || {};window.PLOTLYENV.BASE_URL=\"https://plot.ly\";\n",
       "        Plotly.plot(\n",
       "            'b7ef96f8-f299-409d-b8f6-8e703bfe70df',\n",
       "            [{\"name\": \"\\u5982\\u671f\\u5b8c\\u6210\\u9879\\u76ee\\u6570\", \"x\": [\"8-3\", \"8-4\", \"9-1\", \"9-2\", \"9-3\", \"9-4\"], \"y\": [199.0, 218.0, 228.0, 219.0, 241.0, 212.0], \"type\": \"scatter\", \"uid\": \"46c137c0-cb6f-11e8-822a-509a4c0f1ffc\"}, {\"name\": \"\\u5f00\\u53d1\\u4e2d\\u7684\\u9879\\u76ee\\u6570\", \"x\": [\"8-3\", \"8-4\", \"9-1\", \"9-2\", \"9-3\", \"9-4\"], \"y\": [73.0, 90.0, 66.0, 48.0, 26.0, 12.0], \"type\": \"scatter\", \"uid\": \"46c137c1-cb6f-11e8-b500-509a4c0f1ffc\"}, {\"name\": \"\\u5ef6\\u671f\\u5b8c\\u6210\", \"x\": [\"8-3\", \"8-4\", \"9-1\", \"9-2\", \"9-3\", \"9-4\"], \"y\": [15.0, 18.0, 22.0, 8.0, 26.0, 22.0], \"type\": \"scatter\", \"uid\": \"46c137c2-cb6f-11e8-acd6-509a4c0f1ffc\"}, {\"name\": \"\\u5b63\\u5ea6\\u5f00\\u53d1\\u9879\\u76ee\\u6570\", \"x\": [\"8-3\", \"8-4\", \"9-1\", \"9-2\", \"9-3\", \"9-4\"], \"y\": [315.0, 352.0, 357.0, 308.0, 323.0, 262.0], \"type\": \"scatter\", \"uid\": \"46c137c3-cb6f-11e8-8fff-509a4c0f1ffc\"}, {\"name\": \"\\u6682\\u505c\\u9879\\u76ee\\u6570\", \"x\": [\"8-3\", \"8-4\", \"9-1\", \"9-2\", \"9-3\", \"9-4\"], \"y\": [15.0, 15.0, 21.0, 18.0, 34.0, 22.0], \"type\": \"scatter\", \"uid\": \"46c137c4-cb6f-11e8-b712-509a4c0f1ffc\"}, {\"name\": \"\\u5ef6\\u671f\\u9879\\u76ee\\u6570\", \"x\": [\"8-3\", \"8-4\", \"9-1\", \"9-2\", \"9-3\", \"9-4\"], \"y\": [11.0, 13.0, 26.0, 20.0, 14.0, 16.0], \"type\": \"scatter\", \"uid\": \"46c137c5-cb6f-11e8-9b53-509a4c0f1ffc\"}],\n",
       "            {\"title\": \"\\u5982\\u671f\\u5b8c\\u6210\\u9879\\u76ee\\u6570&\\u5f00\\u53d1\\u4e2d\\u7684\\u9879\\u76ee\\u6570&\\u5ef6\\u671f\\u5b8c\\u6210&\\u5b63\\u5ea6\\u5f00\\u53d1\\u9879\\u76ee\\u6570&\\u6682\\u505c\\u9879\\u76ee\\u6570&\\u5ef6\\u671f\\u9879\\u76ee\\u6570\\u5468\\u8d8b\\u52bf\\u56fe\", \"xaxis\": {\"mirror\": \"all\", \"nticks\": 20, \"showgrid\": true, \"showline\": true, \"title\": \"\\u5468\", \"zeroline\": true}, \"yaxis\": {\"mirror\": \"all\", \"nticks\": 20, \"showgrid\": true, \"showline\": true, \"title\": \"\\u5982\\u671f\\u5b8c\\u6210\\u9879\\u76ee\\u6570&\\u5f00\\u53d1\\u4e2d\\u7684\\u9879\\u76ee\\u6570&\\u5ef6\\u671f\\u5b8c\\u6210&\\u5b63\\u5ea6\\u5f00\\u53d1\\u9879\\u76ee\\u6570&\\u6682\\u505c\\u9879\\u76ee\\u6570&\\u5ef6\\u671f\\u9879\\u76ee\\u6570\", \"zeroline\": true}},\n",
       "            {\"showLink\": true, \"linkText\": \"Export to plot.ly\"}\n",
       "        ).then(function () {return Plotly.addFrames('b7ef96f8-f299-409d-b8f6-8e703bfe70df',{});}).then(function(){Plotly.animate('b7ef96f8-f299-409d-b8f6-8e703bfe70df');})\n",
       "        });</script>"
      ],
      "text/vnd.plotly.v1+html": [
       "<div id=\"b7ef96f8-f299-409d-b8f6-8e703bfe70df\" style=\"height: 525px; width: 100%;\" class=\"plotly-graph-div\"></div><script type=\"text/javascript\">require([\"plotly\"], function(Plotly) { window.PLOTLYENV=window.PLOTLYENV || {};window.PLOTLYENV.BASE_URL=\"https://plot.ly\";\n",
       "        Plotly.plot(\n",
       "            'b7ef96f8-f299-409d-b8f6-8e703bfe70df',\n",
       "            [{\"name\": \"\\u5982\\u671f\\u5b8c\\u6210\\u9879\\u76ee\\u6570\", \"x\": [\"8-3\", \"8-4\", \"9-1\", \"9-2\", \"9-3\", \"9-4\"], \"y\": [199.0, 218.0, 228.0, 219.0, 241.0, 212.0], \"type\": \"scatter\", \"uid\": \"46c137c0-cb6f-11e8-822a-509a4c0f1ffc\"}, {\"name\": \"\\u5f00\\u53d1\\u4e2d\\u7684\\u9879\\u76ee\\u6570\", \"x\": [\"8-3\", \"8-4\", \"9-1\", \"9-2\", \"9-3\", \"9-4\"], \"y\": [73.0, 90.0, 66.0, 48.0, 26.0, 12.0], \"type\": \"scatter\", \"uid\": \"46c137c1-cb6f-11e8-b500-509a4c0f1ffc\"}, {\"name\": \"\\u5ef6\\u671f\\u5b8c\\u6210\", \"x\": [\"8-3\", \"8-4\", \"9-1\", \"9-2\", \"9-3\", \"9-4\"], \"y\": [15.0, 18.0, 22.0, 8.0, 26.0, 22.0], \"type\": \"scatter\", \"uid\": \"46c137c2-cb6f-11e8-acd6-509a4c0f1ffc\"}, {\"name\": \"\\u5b63\\u5ea6\\u5f00\\u53d1\\u9879\\u76ee\\u6570\", \"x\": [\"8-3\", \"8-4\", \"9-1\", \"9-2\", \"9-3\", \"9-4\"], \"y\": [315.0, 352.0, 357.0, 308.0, 323.0, 262.0], \"type\": \"scatter\", \"uid\": \"46c137c3-cb6f-11e8-8fff-509a4c0f1ffc\"}, {\"name\": \"\\u6682\\u505c\\u9879\\u76ee\\u6570\", \"x\": [\"8-3\", \"8-4\", \"9-1\", \"9-2\", \"9-3\", \"9-4\"], \"y\": [15.0, 15.0, 21.0, 18.0, 34.0, 22.0], \"type\": \"scatter\", \"uid\": \"46c137c4-cb6f-11e8-b712-509a4c0f1ffc\"}, {\"name\": \"\\u5ef6\\u671f\\u9879\\u76ee\\u6570\", \"x\": [\"8-3\", \"8-4\", \"9-1\", \"9-2\", \"9-3\", \"9-4\"], \"y\": [11.0, 13.0, 26.0, 20.0, 14.0, 16.0], \"type\": \"scatter\", \"uid\": \"46c137c5-cb6f-11e8-9b53-509a4c0f1ffc\"}],\n",
       "            {\"title\": \"\\u5982\\u671f\\u5b8c\\u6210\\u9879\\u76ee\\u6570&\\u5f00\\u53d1\\u4e2d\\u7684\\u9879\\u76ee\\u6570&\\u5ef6\\u671f\\u5b8c\\u6210&\\u5b63\\u5ea6\\u5f00\\u53d1\\u9879\\u76ee\\u6570&\\u6682\\u505c\\u9879\\u76ee\\u6570&\\u5ef6\\u671f\\u9879\\u76ee\\u6570\\u5468\\u8d8b\\u52bf\\u56fe\", \"xaxis\": {\"mirror\": \"all\", \"nticks\": 20, \"showgrid\": true, \"showline\": true, \"title\": \"\\u5468\", \"zeroline\": true}, \"yaxis\": {\"mirror\": \"all\", \"nticks\": 20, \"showgrid\": true, \"showline\": true, \"title\": \"\\u5982\\u671f\\u5b8c\\u6210\\u9879\\u76ee\\u6570&\\u5f00\\u53d1\\u4e2d\\u7684\\u9879\\u76ee\\u6570&\\u5ef6\\u671f\\u5b8c\\u6210&\\u5b63\\u5ea6\\u5f00\\u53d1\\u9879\\u76ee\\u6570&\\u6682\\u505c\\u9879\\u76ee\\u6570&\\u5ef6\\u671f\\u9879\\u76ee\\u6570\", \"zeroline\": true}},\n",
       "            {\"showLink\": true, \"linkText\": \"Export to plot.ly\"}\n",
       "        ).then(function () {return Plotly.addFrames('b7ef96f8-f299-409d-b8f6-8e703bfe70df',{});}).then(function(){Plotly.animate('b7ef96f8-f299-409d-b8f6-8e703bfe70df');})\n",
       "        });</script>"
      ]
     },
     "metadata": {},
     "output_type": "display_data"
    }
   ],
   "source": [
    "ss=myModule.format(all_dict ,\"日期\" ,['季度开发项目数', '如期完成项目数', '延期完成', '开发中的项目数', '延期项目数', '暂停项目数'])\n",
    "tt = myModule.myPlot(ss.groupby('sum'))\n",
    "tt.plot('line')"
   ]
  },
  {
   "cell_type": "markdown",
   "metadata": {
    "hide_input": true
   },
   "source": [
    "### 个人成长指数"
   ]
  },
  {
   "cell_type": "markdown",
   "metadata": {},
   "source": [
    "#### 电话会议次数、软著撰写完成数、专利撰写完成数、外出技术支持数、客户来访接待数和文章数"
   ]
  },
  {
   "cell_type": "code",
   "execution_count": 156,
   "metadata": {
    "collapsed": false
   },
   "outputs": [
    {
     "data": {
      "application/vnd.plotly.v1+json": {
       "data": [
        {
         "name": "外出技术支持数",
         "type": "scatter",
         "uid": "46f3e080-cb6f-11e8-9940-509a4c0f1ffc",
         "x": [
          "8-3",
          "8-4",
          "9-1",
          "9-2",
          "9-3",
          "9-4"
         ],
         "y": [
          0,
          0,
          0,
          0,
          0,
          0
         ]
        },
        {
         "name": "电话会议次数",
         "type": "scatter",
         "uid": "46f3e081-cb6f-11e8-9105-509a4c0f1ffc",
         "x": [
          "8-3",
          "8-4",
          "9-1",
          "9-2",
          "9-3",
          "9-4"
         ],
         "y": [
          9,
          5,
          5,
          8,
          10,
          3
         ]
        },
        {
         "name": "客户来访接待数",
         "type": "scatter",
         "uid": "46f3e082-cb6f-11e8-954c-509a4c0f1ffc",
         "x": [
          "8-3",
          "8-4",
          "9-1",
          "9-2",
          "9-3",
          "9-4"
         ],
         "y": [
          3,
          0,
          0,
          0,
          1,
          10
         ]
        }
       ],
       "layout": {
        "title": "外出技术支持数&电话会议次数&客户来访接待数周趋势图",
        "xaxis": {
         "mirror": "all",
         "nticks": 20,
         "showgrid": true,
         "showline": true,
         "title": "周",
         "zeroline": true
        },
        "yaxis": {
         "mirror": "all",
         "nticks": 20,
         "showgrid": true,
         "showline": true,
         "title": "外出技术支持数&电话会议次数&客户来访接待数",
         "zeroline": true
        }
       }
      },
      "text/html": [
       "<div id=\"22a5de50-4b46-4af8-bfd2-dd70abc34630\" style=\"height: 525px; width: 100%;\" class=\"plotly-graph-div\"></div><script type=\"text/javascript\">require([\"plotly\"], function(Plotly) { window.PLOTLYENV=window.PLOTLYENV || {};window.PLOTLYENV.BASE_URL=\"https://plot.ly\";\n",
       "        Plotly.plot(\n",
       "            '22a5de50-4b46-4af8-bfd2-dd70abc34630',\n",
       "            [{\"name\": \"\\u5916\\u51fa\\u6280\\u672f\\u652f\\u6301\\u6570\", \"x\": [\"8-3\", \"8-4\", \"9-1\", \"9-2\", \"9-3\", \"9-4\"], \"y\": [0.0, 0.0, 0.0, 0.0, 0.0, 0.0], \"type\": \"scatter\", \"uid\": \"46f3e080-cb6f-11e8-9940-509a4c0f1ffc\"}, {\"name\": \"\\u7535\\u8bdd\\u4f1a\\u8bae\\u6b21\\u6570\", \"x\": [\"8-3\", \"8-4\", \"9-1\", \"9-2\", \"9-3\", \"9-4\"], \"y\": [9.0, 5.0, 5.0, 8.0, 10.0, 3.0], \"type\": \"scatter\", \"uid\": \"46f3e081-cb6f-11e8-9105-509a4c0f1ffc\"}, {\"name\": \"\\u5ba2\\u6237\\u6765\\u8bbf\\u63a5\\u5f85\\u6570\", \"x\": [\"8-3\", \"8-4\", \"9-1\", \"9-2\", \"9-3\", \"9-4\"], \"y\": [3.0, 0.0, 0.0, 0.0, 1.0, 10.0], \"type\": \"scatter\", \"uid\": \"46f3e082-cb6f-11e8-954c-509a4c0f1ffc\"}],\n",
       "            {\"title\": \"\\u5916\\u51fa\\u6280\\u672f\\u652f\\u6301\\u6570&\\u7535\\u8bdd\\u4f1a\\u8bae\\u6b21\\u6570&\\u5ba2\\u6237\\u6765\\u8bbf\\u63a5\\u5f85\\u6570\\u5468\\u8d8b\\u52bf\\u56fe\", \"xaxis\": {\"mirror\": \"all\", \"nticks\": 20, \"showgrid\": true, \"showline\": true, \"title\": \"\\u5468\", \"zeroline\": true}, \"yaxis\": {\"mirror\": \"all\", \"nticks\": 20, \"showgrid\": true, \"showline\": true, \"title\": \"\\u5916\\u51fa\\u6280\\u672f\\u652f\\u6301\\u6570&\\u7535\\u8bdd\\u4f1a\\u8bae\\u6b21\\u6570&\\u5ba2\\u6237\\u6765\\u8bbf\\u63a5\\u5f85\\u6570\", \"zeroline\": true}},\n",
       "            {\"showLink\": true, \"linkText\": \"Export to plot.ly\"}\n",
       "        ).then(function () {return Plotly.addFrames('22a5de50-4b46-4af8-bfd2-dd70abc34630',{});}).then(function(){Plotly.animate('22a5de50-4b46-4af8-bfd2-dd70abc34630');})\n",
       "        });</script>"
      ],
      "text/vnd.plotly.v1+html": [
       "<div id=\"22a5de50-4b46-4af8-bfd2-dd70abc34630\" style=\"height: 525px; width: 100%;\" class=\"plotly-graph-div\"></div><script type=\"text/javascript\">require([\"plotly\"], function(Plotly) { window.PLOTLYENV=window.PLOTLYENV || {};window.PLOTLYENV.BASE_URL=\"https://plot.ly\";\n",
       "        Plotly.plot(\n",
       "            '22a5de50-4b46-4af8-bfd2-dd70abc34630',\n",
       "            [{\"name\": \"\\u5916\\u51fa\\u6280\\u672f\\u652f\\u6301\\u6570\", \"x\": [\"8-3\", \"8-4\", \"9-1\", \"9-2\", \"9-3\", \"9-4\"], \"y\": [0.0, 0.0, 0.0, 0.0, 0.0, 0.0], \"type\": \"scatter\", \"uid\": \"46f3e080-cb6f-11e8-9940-509a4c0f1ffc\"}, {\"name\": \"\\u7535\\u8bdd\\u4f1a\\u8bae\\u6b21\\u6570\", \"x\": [\"8-3\", \"8-4\", \"9-1\", \"9-2\", \"9-3\", \"9-4\"], \"y\": [9.0, 5.0, 5.0, 8.0, 10.0, 3.0], \"type\": \"scatter\", \"uid\": \"46f3e081-cb6f-11e8-9105-509a4c0f1ffc\"}, {\"name\": \"\\u5ba2\\u6237\\u6765\\u8bbf\\u63a5\\u5f85\\u6570\", \"x\": [\"8-3\", \"8-4\", \"9-1\", \"9-2\", \"9-3\", \"9-4\"], \"y\": [3.0, 0.0, 0.0, 0.0, 1.0, 10.0], \"type\": \"scatter\", \"uid\": \"46f3e082-cb6f-11e8-954c-509a4c0f1ffc\"}],\n",
       "            {\"title\": \"\\u5916\\u51fa\\u6280\\u672f\\u652f\\u6301\\u6570&\\u7535\\u8bdd\\u4f1a\\u8bae\\u6b21\\u6570&\\u5ba2\\u6237\\u6765\\u8bbf\\u63a5\\u5f85\\u6570\\u5468\\u8d8b\\u52bf\\u56fe\", \"xaxis\": {\"mirror\": \"all\", \"nticks\": 20, \"showgrid\": true, \"showline\": true, \"title\": \"\\u5468\", \"zeroline\": true}, \"yaxis\": {\"mirror\": \"all\", \"nticks\": 20, \"showgrid\": true, \"showline\": true, \"title\": \"\\u5916\\u51fa\\u6280\\u672f\\u652f\\u6301\\u6570&\\u7535\\u8bdd\\u4f1a\\u8bae\\u6b21\\u6570&\\u5ba2\\u6237\\u6765\\u8bbf\\u63a5\\u5f85\\u6570\", \"zeroline\": true}},\n",
       "            {\"showLink\": true, \"linkText\": \"Export to plot.ly\"}\n",
       "        ).then(function () {return Plotly.addFrames('22a5de50-4b46-4af8-bfd2-dd70abc34630',{});}).then(function(){Plotly.animate('22a5de50-4b46-4af8-bfd2-dd70abc34630');})\n",
       "        });</script>"
      ]
     },
     "metadata": {},
     "output_type": "display_data"
    }
   ],
   "source": [
    "ss=myModule.format(all_dict ,\"日期\" ,['电话会议次数', '外出技术支持数', '客户来访接待数'])\n",
    "tt = myModule.myPlot(ss.groupby('sum'))\n",
    "tt.plot('line')"
   ]
  },
  {
   "cell_type": "markdown",
   "metadata": {
    "hide_input": true
   },
   "source": [
    "## 各组情况"
   ]
  },
  {
   "cell_type": "markdown",
   "metadata": {},
   "source": [
    "### 下单整体情况"
   ]
  },
  {
   "cell_type": "markdown",
   "metadata": {},
   "source": [
    "\n",
    "#### 总下单数和完成下单数\n"
   ]
  },
  {
   "cell_type": "code",
   "execution_count": 157,
   "metadata": {
    "collapsed": false
   },
   "outputs": [
    {
     "data": {
      "application/vnd.plotly.v1+json": {
       "data": [
        {
         "line": {
          "dash": "solid"
         },
         "name": "总下单数(转录调控组)",
         "type": "scatter",
         "uid": "4729e49e-cb6f-11e8-9f25-509a4c0f1ffc",
         "x": [
          "8-3",
          "8-4",
          "9-1",
          "9-2",
          "9-3",
          "9-4"
         ],
         "y": [
          27,
          28,
          28,
          28,
          35,
          30
         ]
        },
        {
         "line": {
          "dash": "dot"
         },
         "name": "总下单数(蛋白和医学组)",
         "type": "scatter",
         "uid": "4729e49f-cb6f-11e8-bab0-509a4c0f1ffc",
         "x": [
          "8-3",
          "8-4",
          "9-1",
          "9-2",
          "9-3",
          "9-4"
         ],
         "y": [
          35,
          48,
          37,
          33,
          54,
          30
         ]
        },
        {
         "line": {
          "dash": "dash"
         },
         "name": "总下单数(生物学DNA组)",
         "type": "scatter",
         "uid": "4729e4a0-cb6f-11e8-baec-509a4c0f1ffc",
         "x": [
          "8-3",
          "8-4",
          "9-1",
          "9-2",
          "9-3",
          "9-4"
         ],
         "y": [
          28,
          35,
          37,
          36,
          33,
          29
         ]
        },
        {
         "line": {
          "dash": "solid"
         },
         "name": "完成下单数(转录调控组)",
         "type": "scatter",
         "uid": "4729e4a1-cb6f-11e8-9966-509a4c0f1ffc",
         "x": [
          "8-3",
          "8-4",
          "9-1",
          "9-2",
          "9-3",
          "9-4"
         ],
         "y": [
          23,
          25,
          23,
          27,
          33,
          28
         ]
        },
        {
         "line": {
          "dash": "dot"
         },
         "name": "完成下单数(蛋白和医学组)",
         "type": "scatter",
         "uid": "4729e4a2-cb6f-11e8-8acd-509a4c0f1ffc",
         "x": [
          "8-3",
          "8-4",
          "9-1",
          "9-2",
          "9-3",
          "9-4"
         ],
         "y": [
          34,
          47,
          34,
          30,
          52,
          29
         ]
        },
        {
         "line": {
          "dash": "dash"
         },
         "name": "完成下单数(生物学DNA组)",
         "type": "scatter",
         "uid": "4729e4a3-cb6f-11e8-a2f7-509a4c0f1ffc",
         "x": [
          "8-3",
          "8-4",
          "9-1",
          "9-2",
          "9-3",
          "9-4"
         ],
         "y": [
          19,
          31,
          40,
          31,
          29,
          29
         ]
        }
       ],
       "layout": {
        "title": "总下单数&完成下单数周趋势图",
        "xaxis": {
         "mirror": "all",
         "nticks": 20,
         "showgrid": true,
         "showline": true,
         "title": "周",
         "zeroline": true
        },
        "yaxis": {
         "mirror": "all",
         "nticks": 20,
         "showgrid": true,
         "showline": true,
         "title": "总下单数&完成下单数",
         "zeroline": true
        }
       }
      },
      "text/html": [
       "<div id=\"d5929942-36ff-49e1-95c9-a59f91acd0e9\" style=\"height: 525px; width: 100%;\" class=\"plotly-graph-div\"></div><script type=\"text/javascript\">require([\"plotly\"], function(Plotly) { window.PLOTLYENV=window.PLOTLYENV || {};window.PLOTLYENV.BASE_URL=\"https://plot.ly\";\n",
       "        Plotly.plot(\n",
       "            'd5929942-36ff-49e1-95c9-a59f91acd0e9',\n",
       "            [{\"line\": {\"dash\": \"solid\"}, \"name\": \"\\u603b\\u4e0b\\u5355\\u6570(\\u8f6c\\u5f55\\u8c03\\u63a7\\u7ec4)\", \"x\": [\"8-3\", \"8-4\", \"9-1\", \"9-2\", \"9-3\", \"9-4\"], \"y\": [27.0, 28.0, 28.0, 28.0, 35.0, 30.0], \"type\": \"scatter\", \"uid\": \"4729e49e-cb6f-11e8-9f25-509a4c0f1ffc\"}, {\"line\": {\"dash\": \"dot\"}, \"name\": \"\\u603b\\u4e0b\\u5355\\u6570(\\u86cb\\u767d\\u548c\\u533b\\u5b66\\u7ec4)\", \"x\": [\"8-3\", \"8-4\", \"9-1\", \"9-2\", \"9-3\", \"9-4\"], \"y\": [35.0, 48.0, 37.0, 33.0, 54.0, 30.0], \"type\": \"scatter\", \"uid\": \"4729e49f-cb6f-11e8-bab0-509a4c0f1ffc\"}, {\"line\": {\"dash\": \"dash\"}, \"name\": \"\\u603b\\u4e0b\\u5355\\u6570(\\u751f\\u7269\\u5b66DNA\\u7ec4)\", \"x\": [\"8-3\", \"8-4\", \"9-1\", \"9-2\", \"9-3\", \"9-4\"], \"y\": [28.0, 35.0, 37.0, 36.0, 33.0, 29.0], \"type\": \"scatter\", \"uid\": \"4729e4a0-cb6f-11e8-baec-509a4c0f1ffc\"}, {\"line\": {\"dash\": \"solid\"}, \"name\": \"\\u5b8c\\u6210\\u4e0b\\u5355\\u6570(\\u8f6c\\u5f55\\u8c03\\u63a7\\u7ec4)\", \"x\": [\"8-3\", \"8-4\", \"9-1\", \"9-2\", \"9-3\", \"9-4\"], \"y\": [23.0, 25.0, 23.0, 27.0, 33.0, 28.0], \"type\": \"scatter\", \"uid\": \"4729e4a1-cb6f-11e8-9966-509a4c0f1ffc\"}, {\"line\": {\"dash\": \"dot\"}, \"name\": \"\\u5b8c\\u6210\\u4e0b\\u5355\\u6570(\\u86cb\\u767d\\u548c\\u533b\\u5b66\\u7ec4)\", \"x\": [\"8-3\", \"8-4\", \"9-1\", \"9-2\", \"9-3\", \"9-4\"], \"y\": [34.0, 47.0, 34.0, 30.0, 52.0, 29.0], \"type\": \"scatter\", \"uid\": \"4729e4a2-cb6f-11e8-8acd-509a4c0f1ffc\"}, {\"line\": {\"dash\": \"dash\"}, \"name\": \"\\u5b8c\\u6210\\u4e0b\\u5355\\u6570(\\u751f\\u7269\\u5b66DNA\\u7ec4)\", \"x\": [\"8-3\", \"8-4\", \"9-1\", \"9-2\", \"9-3\", \"9-4\"], \"y\": [19.0, 31.0, 40.0, 31.0, 29.0, 29.0], \"type\": \"scatter\", \"uid\": \"4729e4a3-cb6f-11e8-a2f7-509a4c0f1ffc\"}],\n",
       "            {\"title\": \"\\u603b\\u4e0b\\u5355\\u6570&\\u5b8c\\u6210\\u4e0b\\u5355\\u6570\\u5468\\u8d8b\\u52bf\\u56fe\", \"xaxis\": {\"mirror\": \"all\", \"nticks\": 20, \"showgrid\": true, \"showline\": true, \"title\": \"\\u5468\", \"zeroline\": true}, \"yaxis\": {\"mirror\": \"all\", \"nticks\": 20, \"showgrid\": true, \"showline\": true, \"title\": \"\\u603b\\u4e0b\\u5355\\u6570&\\u5b8c\\u6210\\u4e0b\\u5355\\u6570\", \"zeroline\": true}},\n",
       "            {\"showLink\": true, \"linkText\": \"Export to plot.ly\"}\n",
       "        ).then(function () {return Plotly.addFrames('d5929942-36ff-49e1-95c9-a59f91acd0e9',{});}).then(function(){Plotly.animate('d5929942-36ff-49e1-95c9-a59f91acd0e9');})\n",
       "        });</script>"
      ],
      "text/vnd.plotly.v1+html": [
       "<div id=\"d5929942-36ff-49e1-95c9-a59f91acd0e9\" style=\"height: 525px; width: 100%;\" class=\"plotly-graph-div\"></div><script type=\"text/javascript\">require([\"plotly\"], function(Plotly) { window.PLOTLYENV=window.PLOTLYENV || {};window.PLOTLYENV.BASE_URL=\"https://plot.ly\";\n",
       "        Plotly.plot(\n",
       "            'd5929942-36ff-49e1-95c9-a59f91acd0e9',\n",
       "            [{\"line\": {\"dash\": \"solid\"}, \"name\": \"\\u603b\\u4e0b\\u5355\\u6570(\\u8f6c\\u5f55\\u8c03\\u63a7\\u7ec4)\", \"x\": [\"8-3\", \"8-4\", \"9-1\", \"9-2\", \"9-3\", \"9-4\"], \"y\": [27.0, 28.0, 28.0, 28.0, 35.0, 30.0], \"type\": \"scatter\", \"uid\": \"4729e49e-cb6f-11e8-9f25-509a4c0f1ffc\"}, {\"line\": {\"dash\": \"dot\"}, \"name\": \"\\u603b\\u4e0b\\u5355\\u6570(\\u86cb\\u767d\\u548c\\u533b\\u5b66\\u7ec4)\", \"x\": [\"8-3\", \"8-4\", \"9-1\", \"9-2\", \"9-3\", \"9-4\"], \"y\": [35.0, 48.0, 37.0, 33.0, 54.0, 30.0], \"type\": \"scatter\", \"uid\": \"4729e49f-cb6f-11e8-bab0-509a4c0f1ffc\"}, {\"line\": {\"dash\": \"dash\"}, \"name\": \"\\u603b\\u4e0b\\u5355\\u6570(\\u751f\\u7269\\u5b66DNA\\u7ec4)\", \"x\": [\"8-3\", \"8-4\", \"9-1\", \"9-2\", \"9-3\", \"9-4\"], \"y\": [28.0, 35.0, 37.0, 36.0, 33.0, 29.0], \"type\": \"scatter\", \"uid\": \"4729e4a0-cb6f-11e8-baec-509a4c0f1ffc\"}, {\"line\": {\"dash\": \"solid\"}, \"name\": \"\\u5b8c\\u6210\\u4e0b\\u5355\\u6570(\\u8f6c\\u5f55\\u8c03\\u63a7\\u7ec4)\", \"x\": [\"8-3\", \"8-4\", \"9-1\", \"9-2\", \"9-3\", \"9-4\"], \"y\": [23.0, 25.0, 23.0, 27.0, 33.0, 28.0], \"type\": \"scatter\", \"uid\": \"4729e4a1-cb6f-11e8-9966-509a4c0f1ffc\"}, {\"line\": {\"dash\": \"dot\"}, \"name\": \"\\u5b8c\\u6210\\u4e0b\\u5355\\u6570(\\u86cb\\u767d\\u548c\\u533b\\u5b66\\u7ec4)\", \"x\": [\"8-3\", \"8-4\", \"9-1\", \"9-2\", \"9-3\", \"9-4\"], \"y\": [34.0, 47.0, 34.0, 30.0, 52.0, 29.0], \"type\": \"scatter\", \"uid\": \"4729e4a2-cb6f-11e8-8acd-509a4c0f1ffc\"}, {\"line\": {\"dash\": \"dash\"}, \"name\": \"\\u5b8c\\u6210\\u4e0b\\u5355\\u6570(\\u751f\\u7269\\u5b66DNA\\u7ec4)\", \"x\": [\"8-3\", \"8-4\", \"9-1\", \"9-2\", \"9-3\", \"9-4\"], \"y\": [19.0, 31.0, 40.0, 31.0, 29.0, 29.0], \"type\": \"scatter\", \"uid\": \"4729e4a3-cb6f-11e8-a2f7-509a4c0f1ffc\"}],\n",
       "            {\"title\": \"\\u603b\\u4e0b\\u5355\\u6570&\\u5b8c\\u6210\\u4e0b\\u5355\\u6570\\u5468\\u8d8b\\u52bf\\u56fe\", \"xaxis\": {\"mirror\": \"all\", \"nticks\": 20, \"showgrid\": true, \"showline\": true, \"title\": \"\\u5468\", \"zeroline\": true}, \"yaxis\": {\"mirror\": \"all\", \"nticks\": 20, \"showgrid\": true, \"showline\": true, \"title\": \"\\u603b\\u4e0b\\u5355\\u6570&\\u5b8c\\u6210\\u4e0b\\u5355\\u6570\", \"zeroline\": true}},\n",
       "            {\"showLink\": true, \"linkText\": \"Export to plot.ly\"}\n",
       "        ).then(function () {return Plotly.addFrames('d5929942-36ff-49e1-95c9-a59f91acd0e9',{});}).then(function(){Plotly.animate('d5929942-36ff-49e1-95c9-a59f91acd0e9');})\n",
       "        });</script>"
      ]
     },
     "metadata": {},
     "output_type": "display_data"
    }
   ],
   "source": [
    "ss=myModule.format(all_dict ,\"日期\" ,['总下单数', '完成下单数'])\n",
    "ss.add_group('组别')\n",
    "tt = myModule.myPlot(ss.groupby('sum'))\n",
    "tt.plot('line')"
   ]
  },
  {
   "cell_type": "markdown",
   "metadata": {
    "hide_input": true
   },
   "source": [
    "### 高质量报告"
   ]
  },
  {
   "cell_type": "markdown",
   "metadata": {},
   "source": [
    "#### 应交高质量报告数和提交高质量报告数"
   ]
  },
  {
   "cell_type": "code",
   "execution_count": 158,
   "metadata": {
    "collapsed": false
   },
   "outputs": [
    {
     "data": {
      "application/vnd.plotly.v1+json": {
       "data": [
        {
         "line": {
          "dash": "solid"
         },
         "name": "应交高质量报告数(转录调控组)",
         "type": "scatter",
         "uid": "4766c690-cb6f-11e8-a28b-509a4c0f1ffc",
         "x": [
          "8-3",
          "8-4",
          "9-1",
          "9-2",
          "9-3",
          "9-4"
         ],
         "y": [
          5,
          1,
          3,
          7,
          6,
          2
         ]
        },
        {
         "line": {
          "dash": "dot"
         },
         "name": "应交高质量报告数(蛋白和医学组)",
         "type": "scatter",
         "uid": "4766c691-cb6f-11e8-ad32-509a4c0f1ffc",
         "x": [
          "8-3",
          "8-4",
          "9-1",
          "9-2",
          "9-3",
          "9-4"
         ],
         "y": [
          1,
          4,
          3,
          0,
          0,
          0
         ]
        },
        {
         "line": {
          "dash": "dash"
         },
         "name": "应交高质量报告数(生物学DNA组)",
         "type": "scatter",
         "uid": "4766c692-cb6f-11e8-8cdb-509a4c0f1ffc",
         "x": [
          "8-3",
          "8-4",
          "9-1",
          "9-2",
          "9-3",
          "9-4"
         ],
         "y": [
          1,
          2,
          11,
          1,
          0,
          0
         ]
        },
        {
         "line": {
          "dash": "solid"
         },
         "name": "提交高质量报告数(转录调控组)",
         "type": "scatter",
         "uid": "4766c693-cb6f-11e8-aec3-509a4c0f1ffc",
         "x": [
          "8-3",
          "8-4",
          "9-1",
          "9-2",
          "9-3",
          "9-4"
         ],
         "y": [
          5,
          1,
          3,
          5,
          6,
          3
         ]
        },
        {
         "line": {
          "dash": "dot"
         },
         "name": "提交高质量报告数(蛋白和医学组)",
         "type": "scatter",
         "uid": "4766c694-cb6f-11e8-a3b2-509a4c0f1ffc",
         "x": [
          "8-3",
          "8-4",
          "9-1",
          "9-2",
          "9-3",
          "9-4"
         ],
         "y": [
          1,
          4,
          3,
          0,
          0,
          0
         ]
        },
        {
         "line": {
          "dash": "dash"
         },
         "name": "提交高质量报告数(生物学DNA组)",
         "type": "scatter",
         "uid": "4766c695-cb6f-11e8-b2a8-509a4c0f1ffc",
         "x": [
          "8-3",
          "8-4",
          "9-1",
          "9-2",
          "9-3",
          "9-4"
         ],
         "y": [
          1,
          2,
          11,
          1,
          1,
          0
         ]
        }
       ],
       "layout": {
        "title": "应交高质量报告数&提交高质量报告数周趋势图",
        "xaxis": {
         "mirror": "all",
         "nticks": 20,
         "showgrid": true,
         "showline": true,
         "title": "周",
         "zeroline": true
        },
        "yaxis": {
         "mirror": "all",
         "nticks": 20,
         "showgrid": true,
         "showline": true,
         "title": "应交高质量报告数&提交高质量报告数",
         "zeroline": true
        }
       }
      },
      "text/html": [
       "<div id=\"c5bbb453-7443-497a-9dc1-2cc2f917879c\" style=\"height: 525px; width: 100%;\" class=\"plotly-graph-div\"></div><script type=\"text/javascript\">require([\"plotly\"], function(Plotly) { window.PLOTLYENV=window.PLOTLYENV || {};window.PLOTLYENV.BASE_URL=\"https://plot.ly\";\n",
       "        Plotly.plot(\n",
       "            'c5bbb453-7443-497a-9dc1-2cc2f917879c',\n",
       "            [{\"line\": {\"dash\": \"solid\"}, \"name\": \"\\u5e94\\u4ea4\\u9ad8\\u8d28\\u91cf\\u62a5\\u544a\\u6570(\\u8f6c\\u5f55\\u8c03\\u63a7\\u7ec4)\", \"x\": [\"8-3\", \"8-4\", \"9-1\", \"9-2\", \"9-3\", \"9-4\"], \"y\": [5.0, 1.0, 3.0, 7.0, 6.0, 2.0], \"type\": \"scatter\", \"uid\": \"4766c690-cb6f-11e8-a28b-509a4c0f1ffc\"}, {\"line\": {\"dash\": \"dot\"}, \"name\": \"\\u5e94\\u4ea4\\u9ad8\\u8d28\\u91cf\\u62a5\\u544a\\u6570(\\u86cb\\u767d\\u548c\\u533b\\u5b66\\u7ec4)\", \"x\": [\"8-3\", \"8-4\", \"9-1\", \"9-2\", \"9-3\", \"9-4\"], \"y\": [1.0, 4.0, 3.0, 0.0, 0.0, 0.0], \"type\": \"scatter\", \"uid\": \"4766c691-cb6f-11e8-ad32-509a4c0f1ffc\"}, {\"line\": {\"dash\": \"dash\"}, \"name\": \"\\u5e94\\u4ea4\\u9ad8\\u8d28\\u91cf\\u62a5\\u544a\\u6570(\\u751f\\u7269\\u5b66DNA\\u7ec4)\", \"x\": [\"8-3\", \"8-4\", \"9-1\", \"9-2\", \"9-3\", \"9-4\"], \"y\": [1.0, 2.0, 11.0, 1.0, 0.0, 0.0], \"type\": \"scatter\", \"uid\": \"4766c692-cb6f-11e8-8cdb-509a4c0f1ffc\"}, {\"line\": {\"dash\": \"solid\"}, \"name\": \"\\u63d0\\u4ea4\\u9ad8\\u8d28\\u91cf\\u62a5\\u544a\\u6570(\\u8f6c\\u5f55\\u8c03\\u63a7\\u7ec4)\", \"x\": [\"8-3\", \"8-4\", \"9-1\", \"9-2\", \"9-3\", \"9-4\"], \"y\": [5.0, 1.0, 3.0, 5.0, 6.0, 3.0], \"type\": \"scatter\", \"uid\": \"4766c693-cb6f-11e8-aec3-509a4c0f1ffc\"}, {\"line\": {\"dash\": \"dot\"}, \"name\": \"\\u63d0\\u4ea4\\u9ad8\\u8d28\\u91cf\\u62a5\\u544a\\u6570(\\u86cb\\u767d\\u548c\\u533b\\u5b66\\u7ec4)\", \"x\": [\"8-3\", \"8-4\", \"9-1\", \"9-2\", \"9-3\", \"9-4\"], \"y\": [1.0, 4.0, 3.0, 0.0, 0.0, 0.0], \"type\": \"scatter\", \"uid\": \"4766c694-cb6f-11e8-a3b2-509a4c0f1ffc\"}, {\"line\": {\"dash\": \"dash\"}, \"name\": \"\\u63d0\\u4ea4\\u9ad8\\u8d28\\u91cf\\u62a5\\u544a\\u6570(\\u751f\\u7269\\u5b66DNA\\u7ec4)\", \"x\": [\"8-3\", \"8-4\", \"9-1\", \"9-2\", \"9-3\", \"9-4\"], \"y\": [1.0, 2.0, 11.0, 1.0, 1.0, 0.0], \"type\": \"scatter\", \"uid\": \"4766c695-cb6f-11e8-b2a8-509a4c0f1ffc\"}],\n",
       "            {\"title\": \"\\u5e94\\u4ea4\\u9ad8\\u8d28\\u91cf\\u62a5\\u544a\\u6570&\\u63d0\\u4ea4\\u9ad8\\u8d28\\u91cf\\u62a5\\u544a\\u6570\\u5468\\u8d8b\\u52bf\\u56fe\", \"xaxis\": {\"mirror\": \"all\", \"nticks\": 20, \"showgrid\": true, \"showline\": true, \"title\": \"\\u5468\", \"zeroline\": true}, \"yaxis\": {\"mirror\": \"all\", \"nticks\": 20, \"showgrid\": true, \"showline\": true, \"title\": \"\\u5e94\\u4ea4\\u9ad8\\u8d28\\u91cf\\u62a5\\u544a\\u6570&\\u63d0\\u4ea4\\u9ad8\\u8d28\\u91cf\\u62a5\\u544a\\u6570\", \"zeroline\": true}},\n",
       "            {\"showLink\": true, \"linkText\": \"Export to plot.ly\"}\n",
       "        ).then(function () {return Plotly.addFrames('c5bbb453-7443-497a-9dc1-2cc2f917879c',{});}).then(function(){Plotly.animate('c5bbb453-7443-497a-9dc1-2cc2f917879c');})\n",
       "        });</script>"
      ],
      "text/vnd.plotly.v1+html": [
       "<div id=\"c5bbb453-7443-497a-9dc1-2cc2f917879c\" style=\"height: 525px; width: 100%;\" class=\"plotly-graph-div\"></div><script type=\"text/javascript\">require([\"plotly\"], function(Plotly) { window.PLOTLYENV=window.PLOTLYENV || {};window.PLOTLYENV.BASE_URL=\"https://plot.ly\";\n",
       "        Plotly.plot(\n",
       "            'c5bbb453-7443-497a-9dc1-2cc2f917879c',\n",
       "            [{\"line\": {\"dash\": \"solid\"}, \"name\": \"\\u5e94\\u4ea4\\u9ad8\\u8d28\\u91cf\\u62a5\\u544a\\u6570(\\u8f6c\\u5f55\\u8c03\\u63a7\\u7ec4)\", \"x\": [\"8-3\", \"8-4\", \"9-1\", \"9-2\", \"9-3\", \"9-4\"], \"y\": [5.0, 1.0, 3.0, 7.0, 6.0, 2.0], \"type\": \"scatter\", \"uid\": \"4766c690-cb6f-11e8-a28b-509a4c0f1ffc\"}, {\"line\": {\"dash\": \"dot\"}, \"name\": \"\\u5e94\\u4ea4\\u9ad8\\u8d28\\u91cf\\u62a5\\u544a\\u6570(\\u86cb\\u767d\\u548c\\u533b\\u5b66\\u7ec4)\", \"x\": [\"8-3\", \"8-4\", \"9-1\", \"9-2\", \"9-3\", \"9-4\"], \"y\": [1.0, 4.0, 3.0, 0.0, 0.0, 0.0], \"type\": \"scatter\", \"uid\": \"4766c691-cb6f-11e8-ad32-509a4c0f1ffc\"}, {\"line\": {\"dash\": \"dash\"}, \"name\": \"\\u5e94\\u4ea4\\u9ad8\\u8d28\\u91cf\\u62a5\\u544a\\u6570(\\u751f\\u7269\\u5b66DNA\\u7ec4)\", \"x\": [\"8-3\", \"8-4\", \"9-1\", \"9-2\", \"9-3\", \"9-4\"], \"y\": [1.0, 2.0, 11.0, 1.0, 0.0, 0.0], \"type\": \"scatter\", \"uid\": \"4766c692-cb6f-11e8-8cdb-509a4c0f1ffc\"}, {\"line\": {\"dash\": \"solid\"}, \"name\": \"\\u63d0\\u4ea4\\u9ad8\\u8d28\\u91cf\\u62a5\\u544a\\u6570(\\u8f6c\\u5f55\\u8c03\\u63a7\\u7ec4)\", \"x\": [\"8-3\", \"8-4\", \"9-1\", \"9-2\", \"9-3\", \"9-4\"], \"y\": [5.0, 1.0, 3.0, 5.0, 6.0, 3.0], \"type\": \"scatter\", \"uid\": \"4766c693-cb6f-11e8-aec3-509a4c0f1ffc\"}, {\"line\": {\"dash\": \"dot\"}, \"name\": \"\\u63d0\\u4ea4\\u9ad8\\u8d28\\u91cf\\u62a5\\u544a\\u6570(\\u86cb\\u767d\\u548c\\u533b\\u5b66\\u7ec4)\", \"x\": [\"8-3\", \"8-4\", \"9-1\", \"9-2\", \"9-3\", \"9-4\"], \"y\": [1.0, 4.0, 3.0, 0.0, 0.0, 0.0], \"type\": \"scatter\", \"uid\": \"4766c694-cb6f-11e8-a3b2-509a4c0f1ffc\"}, {\"line\": {\"dash\": \"dash\"}, \"name\": \"\\u63d0\\u4ea4\\u9ad8\\u8d28\\u91cf\\u62a5\\u544a\\u6570(\\u751f\\u7269\\u5b66DNA\\u7ec4)\", \"x\": [\"8-3\", \"8-4\", \"9-1\", \"9-2\", \"9-3\", \"9-4\"], \"y\": [1.0, 2.0, 11.0, 1.0, 1.0, 0.0], \"type\": \"scatter\", \"uid\": \"4766c695-cb6f-11e8-b2a8-509a4c0f1ffc\"}],\n",
       "            {\"title\": \"\\u5e94\\u4ea4\\u9ad8\\u8d28\\u91cf\\u62a5\\u544a\\u6570&\\u63d0\\u4ea4\\u9ad8\\u8d28\\u91cf\\u62a5\\u544a\\u6570\\u5468\\u8d8b\\u52bf\\u56fe\", \"xaxis\": {\"mirror\": \"all\", \"nticks\": 20, \"showgrid\": true, \"showline\": true, \"title\": \"\\u5468\", \"zeroline\": true}, \"yaxis\": {\"mirror\": \"all\", \"nticks\": 20, \"showgrid\": true, \"showline\": true, \"title\": \"\\u5e94\\u4ea4\\u9ad8\\u8d28\\u91cf\\u62a5\\u544a\\u6570&\\u63d0\\u4ea4\\u9ad8\\u8d28\\u91cf\\u62a5\\u544a\\u6570\", \"zeroline\": true}},\n",
       "            {\"showLink\": true, \"linkText\": \"Export to plot.ly\"}\n",
       "        ).then(function () {return Plotly.addFrames('c5bbb453-7443-497a-9dc1-2cc2f917879c',{});}).then(function(){Plotly.animate('c5bbb453-7443-497a-9dc1-2cc2f917879c');})\n",
       "        });</script>"
      ]
     },
     "metadata": {},
     "output_type": "display_data"
    }
   ],
   "source": [
    "ss=myModule.format(all_dict ,\"日期\" ,['应交高质量报告数', '提交高质量报告数'])\n",
    "ss.add_group('组别')\n",
    "tt = myModule.myPlot(ss.groupby('sum'))\n",
    "tt.plot('line')"
   ]
  },
  {
   "cell_type": "markdown",
   "metadata": {
    "hide_input": true
   },
   "source": [
    "### 甘特图情况"
   ]
  },
  {
   "cell_type": "markdown",
   "metadata": {},
   "source": [
    "#### 季度开发项目数、如期完成项目数、延期完成、开发中的项目数、延期项目数和暂停项目数"
   ]
  },
  {
   "cell_type": "code",
   "execution_count": 159,
   "metadata": {
    "collapsed": false
   },
   "outputs": [
    {
     "data": {
      "application/vnd.plotly.v1+json": {
       "data": [
        {
         "line": {
          "dash": "solid"
         },
         "name": "如期完成项目数(转录调控组)",
         "type": "scatter",
         "uid": "47a9ea10-cb6f-11e8-ac57-509a4c0f1ffc",
         "x": [
          "8-3",
          "8-4",
          "9-1",
          "9-2",
          "9-3",
          "9-4"
         ],
         "y": [
          62,
          73,
          77,
          62,
          60,
          77
         ]
        },
        {
         "line": {
          "dash": "dot"
         },
         "name": "如期完成项目数(蛋白和医学组)",
         "type": "scatter",
         "uid": "47a9ea11-cb6f-11e8-888b-509a4c0f1ffc",
         "x": [
          "8-3",
          "8-4",
          "9-1",
          "9-2",
          "9-3",
          "9-4"
         ],
         "y": [
          123,
          125,
          129,
          135,
          156,
          110
         ]
        },
        {
         "line": {
          "dash": "dash"
         },
         "name": "如期完成项目数(生物学DNA组)",
         "type": "scatter",
         "uid": "47a9ea12-cb6f-11e8-8f2a-509a4c0f1ffc",
         "x": [
          "8-3",
          "8-4",
          "9-1",
          "9-2",
          "9-3",
          "9-4"
         ],
         "y": [
          14,
          20,
          22,
          22,
          25,
          25
         ]
        },
        {
         "line": {
          "dash": "solid"
         },
         "name": "开发中的项目数(转录调控组)",
         "type": "scatter",
         "uid": "47a9ea13-cb6f-11e8-81d8-509a4c0f1ffc",
         "x": [
          "8-3",
          "8-4",
          "9-1",
          "9-2",
          "9-3",
          "9-4"
         ],
         "y": [
          6,
          11,
          11,
          6,
          9,
          8
         ]
        },
        {
         "line": {
          "dash": "dot"
         },
         "name": "开发中的项目数(蛋白和医学组)",
         "type": "scatter",
         "uid": "47a9ea14-cb6f-11e8-b156-509a4c0f1ffc",
         "x": [
          "8-3",
          "8-4",
          "9-1",
          "9-2",
          "9-3",
          "9-4"
         ],
         "y": [
          56,
          53,
          39,
          26,
          8,
          1
         ]
        },
        {
         "line": {
          "dash": "dash"
         },
         "name": "开发中的项目数(生物学DNA组)",
         "type": "scatter",
         "uid": "47a9ea15-cb6f-11e8-9843-509a4c0f1ffc",
         "x": [
          "8-3",
          "8-4",
          "9-1",
          "9-2",
          "9-3",
          "9-4"
         ],
         "y": [
          11,
          26,
          16,
          16,
          9,
          3
         ]
        },
        {
         "line": {
          "dash": "solid"
         },
         "name": "延期完成(转录调控组)",
         "type": "scatter",
         "uid": "47a9ea16-cb6f-11e8-86d3-509a4c0f1ffc",
         "x": [
          "8-3",
          "8-4",
          "9-1",
          "9-2",
          "9-3",
          "9-4"
         ],
         "y": [
          4,
          4,
          5,
          1,
          1,
          6
         ]
        },
        {
         "line": {
          "dash": "dot"
         },
         "name": "延期完成(蛋白和医学组)",
         "type": "scatter",
         "uid": "47a9ea17-cb6f-11e8-b56f-509a4c0f1ffc",
         "x": [
          "8-3",
          "8-4",
          "9-1",
          "9-2",
          "9-3",
          "9-4"
         ],
         "y": [
          8,
          9,
          11,
          3,
          13,
          2
         ]
        },
        {
         "line": {
          "dash": "dash"
         },
         "name": "延期完成(生物学DNA组)",
         "type": "scatter",
         "uid": "47a9ea18-cb6f-11e8-afad-509a4c0f1ffc",
         "x": [
          "8-3",
          "8-4",
          "9-1",
          "9-2",
          "9-3",
          "9-4"
         ],
         "y": [
          3,
          5,
          6,
          4,
          12,
          14
         ]
        },
        {
         "line": {
          "dash": "solid"
         },
         "name": "季度开发项目数(转录调控组)",
         "type": "scatter",
         "uid": "47a9ea19-cb6f-11e8-b690-509a4c0f1ffc",
         "x": [
          "8-3",
          "8-4",
          "9-1",
          "9-2",
          "9-3",
          "9-4"
         ],
         "y": [
          78,
          89,
          94,
          70,
          69,
          88
         ]
        },
        {
         "line": {
          "dash": "dot"
         },
         "name": "季度开发项目数(蛋白和医学组)",
         "type": "scatter",
         "uid": "47a9ea1a-cb6f-11e8-b184-509a4c0f1ffc",
         "x": [
          "8-3",
          "8-4",
          "9-1",
          "9-2",
          "9-3",
          "9-4"
         ],
         "y": [
          207,
          207,
          207,
          185,
          197,
          117
         ]
        },
        {
         "line": {
          "dash": "dash"
         },
         "name": "季度开发项目数(生物学DNA组)",
         "type": "scatter",
         "uid": "47a9ea1b-cb6f-11e8-b9dc-509a4c0f1ffc",
         "x": [
          "8-3",
          "8-4",
          "9-1",
          "9-2",
          "9-3",
          "9-4"
         ],
         "y": [
          30,
          56,
          56,
          53,
          57,
          57
         ]
        },
        {
         "line": {
          "dash": "solid"
         },
         "name": "暂停项目数(转录调控组)",
         "type": "scatter",
         "uid": "47a9ea1c-cb6f-11e8-b234-509a4c0f1ffc",
         "x": [
          "8-3",
          "8-4",
          "9-1",
          "9-2",
          "9-3",
          "9-4"
         ],
         "y": [
          2,
          2,
          5,
          1,
          13,
          12
         ]
        },
        {
         "line": {
          "dash": "dot"
         },
         "name": "暂停项目数(蛋白和医学组)",
         "type": "scatter",
         "uid": "47a9ea1d-cb6f-11e8-b576-509a4c0f1ffc",
         "x": [
          "8-3",
          "8-4",
          "9-1",
          "9-2",
          "9-3",
          "9-4"
         ],
         "y": [
          13,
          13,
          13,
          13,
          17,
          6
         ]
        },
        {
         "line": {
          "dash": "dash"
         },
         "name": "暂停项目数(生物学DNA组)",
         "type": "scatter",
         "uid": "47a9ea1e-cb6f-11e8-9ba3-509a4c0f1ffc",
         "x": [
          "8-3",
          "8-4",
          "9-1",
          "9-2",
          "9-3",
          "9-4"
         ],
         "y": [
          0,
          0,
          3,
          4,
          4,
          4
         ]
        },
        {
         "line": {
          "dash": "solid"
         },
         "name": "延期项目数(转录调控组)",
         "type": "scatter",
         "uid": "47a9ea1f-cb6f-11e8-809e-509a4c0f1ffc",
         "x": [
          "8-3",
          "8-4",
          "9-1",
          "9-2",
          "9-3",
          "9-4"
         ],
         "y": [
          0,
          0,
          1,
          1,
          1,
          4
         ]
        },
        {
         "line": {
          "dash": "dot"
         },
         "name": "延期项目数(蛋白和医学组)",
         "type": "scatter",
         "uid": "47a9ea20-cb6f-11e8-9b68-509a4c0f1ffc",
         "x": [
          "8-3",
          "8-4",
          "9-1",
          "9-2",
          "9-3",
          "9-4"
         ],
         "y": [
          7,
          7,
          15,
          9,
          6,
          1
         ]
        },
        {
         "line": {
          "dash": "dash"
         },
         "name": "延期项目数(生物学DNA组)",
         "type": "scatter",
         "uid": "47a9ea21-cb6f-11e8-889a-509a4c0f1ffc",
         "x": [
          "8-3",
          "8-4",
          "9-1",
          "9-2",
          "9-3",
          "9-4"
         ],
         "y": [
          4,
          6,
          10,
          10,
          7,
          11
         ]
        }
       ],
       "layout": {
        "title": "如期完成项目数&开发中的项目数&延期完成&季度开发项目数&暂停项目数&延期项目数周趋势图",
        "xaxis": {
         "mirror": "all",
         "nticks": 20,
         "showgrid": true,
         "showline": true,
         "title": "周",
         "zeroline": true
        },
        "yaxis": {
         "mirror": "all",
         "nticks": 20,
         "showgrid": true,
         "showline": true,
         "title": "如期完成项目数&开发中的项目数&延期完成&季度开发项目数&暂停项目数&延期项目数",
         "zeroline": true
        }
       }
      },
      "text/html": [
       "<div id=\"8a4bc06b-e4a4-4bcc-a781-fd8b9c3d5d98\" style=\"height: 525px; width: 100%;\" class=\"plotly-graph-div\"></div><script type=\"text/javascript\">require([\"plotly\"], function(Plotly) { window.PLOTLYENV=window.PLOTLYENV || {};window.PLOTLYENV.BASE_URL=\"https://plot.ly\";\n",
       "        Plotly.plot(\n",
       "            '8a4bc06b-e4a4-4bcc-a781-fd8b9c3d5d98',\n",
       "            [{\"line\": {\"dash\": \"solid\"}, \"name\": \"\\u5982\\u671f\\u5b8c\\u6210\\u9879\\u76ee\\u6570(\\u8f6c\\u5f55\\u8c03\\u63a7\\u7ec4)\", \"x\": [\"8-3\", \"8-4\", \"9-1\", \"9-2\", \"9-3\", \"9-4\"], \"y\": [62.0, 73.0, 77.0, 62.0, 60.0, 77.0], \"type\": \"scatter\", \"uid\": \"47a9ea10-cb6f-11e8-ac57-509a4c0f1ffc\"}, {\"line\": {\"dash\": \"dot\"}, \"name\": \"\\u5982\\u671f\\u5b8c\\u6210\\u9879\\u76ee\\u6570(\\u86cb\\u767d\\u548c\\u533b\\u5b66\\u7ec4)\", \"x\": [\"8-3\", \"8-4\", \"9-1\", \"9-2\", \"9-3\", \"9-4\"], \"y\": [123.0, 125.0, 129.0, 135.0, 156.0, 110.0], \"type\": \"scatter\", \"uid\": \"47a9ea11-cb6f-11e8-888b-509a4c0f1ffc\"}, {\"line\": {\"dash\": \"dash\"}, \"name\": \"\\u5982\\u671f\\u5b8c\\u6210\\u9879\\u76ee\\u6570(\\u751f\\u7269\\u5b66DNA\\u7ec4)\", \"x\": [\"8-3\", \"8-4\", \"9-1\", \"9-2\", \"9-3\", \"9-4\"], \"y\": [14.0, 20.0, 22.0, 22.0, 25.0, 25.0], \"type\": \"scatter\", \"uid\": \"47a9ea12-cb6f-11e8-8f2a-509a4c0f1ffc\"}, {\"line\": {\"dash\": \"solid\"}, \"name\": \"\\u5f00\\u53d1\\u4e2d\\u7684\\u9879\\u76ee\\u6570(\\u8f6c\\u5f55\\u8c03\\u63a7\\u7ec4)\", \"x\": [\"8-3\", \"8-4\", \"9-1\", \"9-2\", \"9-3\", \"9-4\"], \"y\": [6.0, 11.0, 11.0, 6.0, 9.0, 8.0], \"type\": \"scatter\", \"uid\": \"47a9ea13-cb6f-11e8-81d8-509a4c0f1ffc\"}, {\"line\": {\"dash\": \"dot\"}, \"name\": \"\\u5f00\\u53d1\\u4e2d\\u7684\\u9879\\u76ee\\u6570(\\u86cb\\u767d\\u548c\\u533b\\u5b66\\u7ec4)\", \"x\": [\"8-3\", \"8-4\", \"9-1\", \"9-2\", \"9-3\", \"9-4\"], \"y\": [56.0, 53.0, 39.0, 26.0, 8.0, 1.0], \"type\": \"scatter\", \"uid\": \"47a9ea14-cb6f-11e8-b156-509a4c0f1ffc\"}, {\"line\": {\"dash\": \"dash\"}, \"name\": \"\\u5f00\\u53d1\\u4e2d\\u7684\\u9879\\u76ee\\u6570(\\u751f\\u7269\\u5b66DNA\\u7ec4)\", \"x\": [\"8-3\", \"8-4\", \"9-1\", \"9-2\", \"9-3\", \"9-4\"], \"y\": [11.0, 26.0, 16.0, 16.0, 9.0, 3.0], \"type\": \"scatter\", \"uid\": \"47a9ea15-cb6f-11e8-9843-509a4c0f1ffc\"}, {\"line\": {\"dash\": \"solid\"}, \"name\": \"\\u5ef6\\u671f\\u5b8c\\u6210(\\u8f6c\\u5f55\\u8c03\\u63a7\\u7ec4)\", \"x\": [\"8-3\", \"8-4\", \"9-1\", \"9-2\", \"9-3\", \"9-4\"], \"y\": [4.0, 4.0, 5.0, 1.0, 1.0, 6.0], \"type\": \"scatter\", \"uid\": \"47a9ea16-cb6f-11e8-86d3-509a4c0f1ffc\"}, {\"line\": {\"dash\": \"dot\"}, \"name\": \"\\u5ef6\\u671f\\u5b8c\\u6210(\\u86cb\\u767d\\u548c\\u533b\\u5b66\\u7ec4)\", \"x\": [\"8-3\", \"8-4\", \"9-1\", \"9-2\", \"9-3\", \"9-4\"], \"y\": [8.0, 9.0, 11.0, 3.0, 13.0, 2.0], \"type\": \"scatter\", \"uid\": \"47a9ea17-cb6f-11e8-b56f-509a4c0f1ffc\"}, {\"line\": {\"dash\": \"dash\"}, \"name\": \"\\u5ef6\\u671f\\u5b8c\\u6210(\\u751f\\u7269\\u5b66DNA\\u7ec4)\", \"x\": [\"8-3\", \"8-4\", \"9-1\", \"9-2\", \"9-3\", \"9-4\"], \"y\": [3.0, 5.0, 6.0, 4.0, 12.0, 14.0], \"type\": \"scatter\", \"uid\": \"47a9ea18-cb6f-11e8-afad-509a4c0f1ffc\"}, {\"line\": {\"dash\": \"solid\"}, \"name\": \"\\u5b63\\u5ea6\\u5f00\\u53d1\\u9879\\u76ee\\u6570(\\u8f6c\\u5f55\\u8c03\\u63a7\\u7ec4)\", \"x\": [\"8-3\", \"8-4\", \"9-1\", \"9-2\", \"9-3\", \"9-4\"], \"y\": [78.0, 89.0, 94.0, 70.0, 69.0, 88.0], \"type\": \"scatter\", \"uid\": \"47a9ea19-cb6f-11e8-b690-509a4c0f1ffc\"}, {\"line\": {\"dash\": \"dot\"}, \"name\": \"\\u5b63\\u5ea6\\u5f00\\u53d1\\u9879\\u76ee\\u6570(\\u86cb\\u767d\\u548c\\u533b\\u5b66\\u7ec4)\", \"x\": [\"8-3\", \"8-4\", \"9-1\", \"9-2\", \"9-3\", \"9-4\"], \"y\": [207.0, 207.0, 207.0, 185.0, 197.0, 117.0], \"type\": \"scatter\", \"uid\": \"47a9ea1a-cb6f-11e8-b184-509a4c0f1ffc\"}, {\"line\": {\"dash\": \"dash\"}, \"name\": \"\\u5b63\\u5ea6\\u5f00\\u53d1\\u9879\\u76ee\\u6570(\\u751f\\u7269\\u5b66DNA\\u7ec4)\", \"x\": [\"8-3\", \"8-4\", \"9-1\", \"9-2\", \"9-3\", \"9-4\"], \"y\": [30.0, 56.0, 56.0, 53.0, 57.0, 57.0], \"type\": \"scatter\", \"uid\": \"47a9ea1b-cb6f-11e8-b9dc-509a4c0f1ffc\"}, {\"line\": {\"dash\": \"solid\"}, \"name\": \"\\u6682\\u505c\\u9879\\u76ee\\u6570(\\u8f6c\\u5f55\\u8c03\\u63a7\\u7ec4)\", \"x\": [\"8-3\", \"8-4\", \"9-1\", \"9-2\", \"9-3\", \"9-4\"], \"y\": [2.0, 2.0, 5.0, 1.0, 13.0, 12.0], \"type\": \"scatter\", \"uid\": \"47a9ea1c-cb6f-11e8-b234-509a4c0f1ffc\"}, {\"line\": {\"dash\": \"dot\"}, \"name\": \"\\u6682\\u505c\\u9879\\u76ee\\u6570(\\u86cb\\u767d\\u548c\\u533b\\u5b66\\u7ec4)\", \"x\": [\"8-3\", \"8-4\", \"9-1\", \"9-2\", \"9-3\", \"9-4\"], \"y\": [13.0, 13.0, 13.0, 13.0, 17.0, 6.0], \"type\": \"scatter\", \"uid\": \"47a9ea1d-cb6f-11e8-b576-509a4c0f1ffc\"}, {\"line\": {\"dash\": \"dash\"}, \"name\": \"\\u6682\\u505c\\u9879\\u76ee\\u6570(\\u751f\\u7269\\u5b66DNA\\u7ec4)\", \"x\": [\"8-3\", \"8-4\", \"9-1\", \"9-2\", \"9-3\", \"9-4\"], \"y\": [0.0, 0.0, 3.0, 4.0, 4.0, 4.0], \"type\": \"scatter\", \"uid\": \"47a9ea1e-cb6f-11e8-9ba3-509a4c0f1ffc\"}, {\"line\": {\"dash\": \"solid\"}, \"name\": \"\\u5ef6\\u671f\\u9879\\u76ee\\u6570(\\u8f6c\\u5f55\\u8c03\\u63a7\\u7ec4)\", \"x\": [\"8-3\", \"8-4\", \"9-1\", \"9-2\", \"9-3\", \"9-4\"], \"y\": [0.0, 0.0, 1.0, 1.0, 1.0, 4.0], \"type\": \"scatter\", \"uid\": \"47a9ea1f-cb6f-11e8-809e-509a4c0f1ffc\"}, {\"line\": {\"dash\": \"dot\"}, \"name\": \"\\u5ef6\\u671f\\u9879\\u76ee\\u6570(\\u86cb\\u767d\\u548c\\u533b\\u5b66\\u7ec4)\", \"x\": [\"8-3\", \"8-4\", \"9-1\", \"9-2\", \"9-3\", \"9-4\"], \"y\": [7.0, 7.0, 15.0, 9.0, 6.0, 1.0], \"type\": \"scatter\", \"uid\": \"47a9ea20-cb6f-11e8-9b68-509a4c0f1ffc\"}, {\"line\": {\"dash\": \"dash\"}, \"name\": \"\\u5ef6\\u671f\\u9879\\u76ee\\u6570(\\u751f\\u7269\\u5b66DNA\\u7ec4)\", \"x\": [\"8-3\", \"8-4\", \"9-1\", \"9-2\", \"9-3\", \"9-4\"], \"y\": [4.0, 6.0, 10.0, 10.0, 7.0, 11.0], \"type\": \"scatter\", \"uid\": \"47a9ea21-cb6f-11e8-889a-509a4c0f1ffc\"}],\n",
       "            {\"title\": \"\\u5982\\u671f\\u5b8c\\u6210\\u9879\\u76ee\\u6570&\\u5f00\\u53d1\\u4e2d\\u7684\\u9879\\u76ee\\u6570&\\u5ef6\\u671f\\u5b8c\\u6210&\\u5b63\\u5ea6\\u5f00\\u53d1\\u9879\\u76ee\\u6570&\\u6682\\u505c\\u9879\\u76ee\\u6570&\\u5ef6\\u671f\\u9879\\u76ee\\u6570\\u5468\\u8d8b\\u52bf\\u56fe\", \"xaxis\": {\"mirror\": \"all\", \"nticks\": 20, \"showgrid\": true, \"showline\": true, \"title\": \"\\u5468\", \"zeroline\": true}, \"yaxis\": {\"mirror\": \"all\", \"nticks\": 20, \"showgrid\": true, \"showline\": true, \"title\": \"\\u5982\\u671f\\u5b8c\\u6210\\u9879\\u76ee\\u6570&\\u5f00\\u53d1\\u4e2d\\u7684\\u9879\\u76ee\\u6570&\\u5ef6\\u671f\\u5b8c\\u6210&\\u5b63\\u5ea6\\u5f00\\u53d1\\u9879\\u76ee\\u6570&\\u6682\\u505c\\u9879\\u76ee\\u6570&\\u5ef6\\u671f\\u9879\\u76ee\\u6570\", \"zeroline\": true}},\n",
       "            {\"showLink\": true, \"linkText\": \"Export to plot.ly\"}\n",
       "        ).then(function () {return Plotly.addFrames('8a4bc06b-e4a4-4bcc-a781-fd8b9c3d5d98',{});}).then(function(){Plotly.animate('8a4bc06b-e4a4-4bcc-a781-fd8b9c3d5d98');})\n",
       "        });</script>"
      ],
      "text/vnd.plotly.v1+html": [
       "<div id=\"8a4bc06b-e4a4-4bcc-a781-fd8b9c3d5d98\" style=\"height: 525px; width: 100%;\" class=\"plotly-graph-div\"></div><script type=\"text/javascript\">require([\"plotly\"], function(Plotly) { window.PLOTLYENV=window.PLOTLYENV || {};window.PLOTLYENV.BASE_URL=\"https://plot.ly\";\n",
       "        Plotly.plot(\n",
       "            '8a4bc06b-e4a4-4bcc-a781-fd8b9c3d5d98',\n",
       "            [{\"line\": {\"dash\": \"solid\"}, \"name\": \"\\u5982\\u671f\\u5b8c\\u6210\\u9879\\u76ee\\u6570(\\u8f6c\\u5f55\\u8c03\\u63a7\\u7ec4)\", \"x\": [\"8-3\", \"8-4\", \"9-1\", \"9-2\", \"9-3\", \"9-4\"], \"y\": [62.0, 73.0, 77.0, 62.0, 60.0, 77.0], \"type\": \"scatter\", \"uid\": \"47a9ea10-cb6f-11e8-ac57-509a4c0f1ffc\"}, {\"line\": {\"dash\": \"dot\"}, \"name\": \"\\u5982\\u671f\\u5b8c\\u6210\\u9879\\u76ee\\u6570(\\u86cb\\u767d\\u548c\\u533b\\u5b66\\u7ec4)\", \"x\": [\"8-3\", \"8-4\", \"9-1\", \"9-2\", \"9-3\", \"9-4\"], \"y\": [123.0, 125.0, 129.0, 135.0, 156.0, 110.0], \"type\": \"scatter\", \"uid\": \"47a9ea11-cb6f-11e8-888b-509a4c0f1ffc\"}, {\"line\": {\"dash\": \"dash\"}, \"name\": \"\\u5982\\u671f\\u5b8c\\u6210\\u9879\\u76ee\\u6570(\\u751f\\u7269\\u5b66DNA\\u7ec4)\", \"x\": [\"8-3\", \"8-4\", \"9-1\", \"9-2\", \"9-3\", \"9-4\"], \"y\": [14.0, 20.0, 22.0, 22.0, 25.0, 25.0], \"type\": \"scatter\", \"uid\": \"47a9ea12-cb6f-11e8-8f2a-509a4c0f1ffc\"}, {\"line\": {\"dash\": \"solid\"}, \"name\": \"\\u5f00\\u53d1\\u4e2d\\u7684\\u9879\\u76ee\\u6570(\\u8f6c\\u5f55\\u8c03\\u63a7\\u7ec4)\", \"x\": [\"8-3\", \"8-4\", \"9-1\", \"9-2\", \"9-3\", \"9-4\"], \"y\": [6.0, 11.0, 11.0, 6.0, 9.0, 8.0], \"type\": \"scatter\", \"uid\": \"47a9ea13-cb6f-11e8-81d8-509a4c0f1ffc\"}, {\"line\": {\"dash\": \"dot\"}, \"name\": \"\\u5f00\\u53d1\\u4e2d\\u7684\\u9879\\u76ee\\u6570(\\u86cb\\u767d\\u548c\\u533b\\u5b66\\u7ec4)\", \"x\": [\"8-3\", \"8-4\", \"9-1\", \"9-2\", \"9-3\", \"9-4\"], \"y\": [56.0, 53.0, 39.0, 26.0, 8.0, 1.0], \"type\": \"scatter\", \"uid\": \"47a9ea14-cb6f-11e8-b156-509a4c0f1ffc\"}, {\"line\": {\"dash\": \"dash\"}, \"name\": \"\\u5f00\\u53d1\\u4e2d\\u7684\\u9879\\u76ee\\u6570(\\u751f\\u7269\\u5b66DNA\\u7ec4)\", \"x\": [\"8-3\", \"8-4\", \"9-1\", \"9-2\", \"9-3\", \"9-4\"], \"y\": [11.0, 26.0, 16.0, 16.0, 9.0, 3.0], \"type\": \"scatter\", \"uid\": \"47a9ea15-cb6f-11e8-9843-509a4c0f1ffc\"}, {\"line\": {\"dash\": \"solid\"}, \"name\": \"\\u5ef6\\u671f\\u5b8c\\u6210(\\u8f6c\\u5f55\\u8c03\\u63a7\\u7ec4)\", \"x\": [\"8-3\", \"8-4\", \"9-1\", \"9-2\", \"9-3\", \"9-4\"], \"y\": [4.0, 4.0, 5.0, 1.0, 1.0, 6.0], \"type\": \"scatter\", \"uid\": \"47a9ea16-cb6f-11e8-86d3-509a4c0f1ffc\"}, {\"line\": {\"dash\": \"dot\"}, \"name\": \"\\u5ef6\\u671f\\u5b8c\\u6210(\\u86cb\\u767d\\u548c\\u533b\\u5b66\\u7ec4)\", \"x\": [\"8-3\", \"8-4\", \"9-1\", \"9-2\", \"9-3\", \"9-4\"], \"y\": [8.0, 9.0, 11.0, 3.0, 13.0, 2.0], \"type\": \"scatter\", \"uid\": \"47a9ea17-cb6f-11e8-b56f-509a4c0f1ffc\"}, {\"line\": {\"dash\": \"dash\"}, \"name\": \"\\u5ef6\\u671f\\u5b8c\\u6210(\\u751f\\u7269\\u5b66DNA\\u7ec4)\", \"x\": [\"8-3\", \"8-4\", \"9-1\", \"9-2\", \"9-3\", \"9-4\"], \"y\": [3.0, 5.0, 6.0, 4.0, 12.0, 14.0], \"type\": \"scatter\", \"uid\": \"47a9ea18-cb6f-11e8-afad-509a4c0f1ffc\"}, {\"line\": {\"dash\": \"solid\"}, \"name\": \"\\u5b63\\u5ea6\\u5f00\\u53d1\\u9879\\u76ee\\u6570(\\u8f6c\\u5f55\\u8c03\\u63a7\\u7ec4)\", \"x\": [\"8-3\", \"8-4\", \"9-1\", \"9-2\", \"9-3\", \"9-4\"], \"y\": [78.0, 89.0, 94.0, 70.0, 69.0, 88.0], \"type\": \"scatter\", \"uid\": \"47a9ea19-cb6f-11e8-b690-509a4c0f1ffc\"}, {\"line\": {\"dash\": \"dot\"}, \"name\": \"\\u5b63\\u5ea6\\u5f00\\u53d1\\u9879\\u76ee\\u6570(\\u86cb\\u767d\\u548c\\u533b\\u5b66\\u7ec4)\", \"x\": [\"8-3\", \"8-4\", \"9-1\", \"9-2\", \"9-3\", \"9-4\"], \"y\": [207.0, 207.0, 207.0, 185.0, 197.0, 117.0], \"type\": \"scatter\", \"uid\": \"47a9ea1a-cb6f-11e8-b184-509a4c0f1ffc\"}, {\"line\": {\"dash\": \"dash\"}, \"name\": \"\\u5b63\\u5ea6\\u5f00\\u53d1\\u9879\\u76ee\\u6570(\\u751f\\u7269\\u5b66DNA\\u7ec4)\", \"x\": [\"8-3\", \"8-4\", \"9-1\", \"9-2\", \"9-3\", \"9-4\"], \"y\": [30.0, 56.0, 56.0, 53.0, 57.0, 57.0], \"type\": \"scatter\", \"uid\": \"47a9ea1b-cb6f-11e8-b9dc-509a4c0f1ffc\"}, {\"line\": {\"dash\": \"solid\"}, \"name\": \"\\u6682\\u505c\\u9879\\u76ee\\u6570(\\u8f6c\\u5f55\\u8c03\\u63a7\\u7ec4)\", \"x\": [\"8-3\", \"8-4\", \"9-1\", \"9-2\", \"9-3\", \"9-4\"], \"y\": [2.0, 2.0, 5.0, 1.0, 13.0, 12.0], \"type\": \"scatter\", \"uid\": \"47a9ea1c-cb6f-11e8-b234-509a4c0f1ffc\"}, {\"line\": {\"dash\": \"dot\"}, \"name\": \"\\u6682\\u505c\\u9879\\u76ee\\u6570(\\u86cb\\u767d\\u548c\\u533b\\u5b66\\u7ec4)\", \"x\": [\"8-3\", \"8-4\", \"9-1\", \"9-2\", \"9-3\", \"9-4\"], \"y\": [13.0, 13.0, 13.0, 13.0, 17.0, 6.0], \"type\": \"scatter\", \"uid\": \"47a9ea1d-cb6f-11e8-b576-509a4c0f1ffc\"}, {\"line\": {\"dash\": \"dash\"}, \"name\": \"\\u6682\\u505c\\u9879\\u76ee\\u6570(\\u751f\\u7269\\u5b66DNA\\u7ec4)\", \"x\": [\"8-3\", \"8-4\", \"9-1\", \"9-2\", \"9-3\", \"9-4\"], \"y\": [0.0, 0.0, 3.0, 4.0, 4.0, 4.0], \"type\": \"scatter\", \"uid\": \"47a9ea1e-cb6f-11e8-9ba3-509a4c0f1ffc\"}, {\"line\": {\"dash\": \"solid\"}, \"name\": \"\\u5ef6\\u671f\\u9879\\u76ee\\u6570(\\u8f6c\\u5f55\\u8c03\\u63a7\\u7ec4)\", \"x\": [\"8-3\", \"8-4\", \"9-1\", \"9-2\", \"9-3\", \"9-4\"], \"y\": [0.0, 0.0, 1.0, 1.0, 1.0, 4.0], \"type\": \"scatter\", \"uid\": \"47a9ea1f-cb6f-11e8-809e-509a4c0f1ffc\"}, {\"line\": {\"dash\": \"dot\"}, \"name\": \"\\u5ef6\\u671f\\u9879\\u76ee\\u6570(\\u86cb\\u767d\\u548c\\u533b\\u5b66\\u7ec4)\", \"x\": [\"8-3\", \"8-4\", \"9-1\", \"9-2\", \"9-3\", \"9-4\"], \"y\": [7.0, 7.0, 15.0, 9.0, 6.0, 1.0], \"type\": \"scatter\", \"uid\": \"47a9ea20-cb6f-11e8-9b68-509a4c0f1ffc\"}, {\"line\": {\"dash\": \"dash\"}, \"name\": \"\\u5ef6\\u671f\\u9879\\u76ee\\u6570(\\u751f\\u7269\\u5b66DNA\\u7ec4)\", \"x\": [\"8-3\", \"8-4\", \"9-1\", \"9-2\", \"9-3\", \"9-4\"], \"y\": [4.0, 6.0, 10.0, 10.0, 7.0, 11.0], \"type\": \"scatter\", \"uid\": \"47a9ea21-cb6f-11e8-889a-509a4c0f1ffc\"}],\n",
       "            {\"title\": \"\\u5982\\u671f\\u5b8c\\u6210\\u9879\\u76ee\\u6570&\\u5f00\\u53d1\\u4e2d\\u7684\\u9879\\u76ee\\u6570&\\u5ef6\\u671f\\u5b8c\\u6210&\\u5b63\\u5ea6\\u5f00\\u53d1\\u9879\\u76ee\\u6570&\\u6682\\u505c\\u9879\\u76ee\\u6570&\\u5ef6\\u671f\\u9879\\u76ee\\u6570\\u5468\\u8d8b\\u52bf\\u56fe\", \"xaxis\": {\"mirror\": \"all\", \"nticks\": 20, \"showgrid\": true, \"showline\": true, \"title\": \"\\u5468\", \"zeroline\": true}, \"yaxis\": {\"mirror\": \"all\", \"nticks\": 20, \"showgrid\": true, \"showline\": true, \"title\": \"\\u5982\\u671f\\u5b8c\\u6210\\u9879\\u76ee\\u6570&\\u5f00\\u53d1\\u4e2d\\u7684\\u9879\\u76ee\\u6570&\\u5ef6\\u671f\\u5b8c\\u6210&\\u5b63\\u5ea6\\u5f00\\u53d1\\u9879\\u76ee\\u6570&\\u6682\\u505c\\u9879\\u76ee\\u6570&\\u5ef6\\u671f\\u9879\\u76ee\\u6570\", \"zeroline\": true}},\n",
       "            {\"showLink\": true, \"linkText\": \"Export to plot.ly\"}\n",
       "        ).then(function () {return Plotly.addFrames('8a4bc06b-e4a4-4bcc-a781-fd8b9c3d5d98',{});}).then(function(){Plotly.animate('8a4bc06b-e4a4-4bcc-a781-fd8b9c3d5d98');})\n",
       "        });</script>"
      ]
     },
     "metadata": {},
     "output_type": "display_data"
    }
   ],
   "source": [
    "ss=myModule.format(all_dict ,\"日期\" ,['季度开发项目数', '如期完成项目数', '延期完成', '开发中的项目数', '延期项目数', '暂停项目数'])\n",
    "ss.add_group('组别')\n",
    "tt = myModule.myPlot(ss.groupby('sum'))\n",
    "tt.plot('line')"
   ]
  },
  {
   "cell_type": "markdown",
   "metadata": {
    "hide_input": true
   },
   "source": [
    "### 个人成长指数"
   ]
  },
  {
   "cell_type": "markdown",
   "metadata": {},
   "source": [
    "#### 电话会议次数、软著撰写完成数、专利撰写完成数、外出技术支持数、客户来访接待数和文章数"
   ]
  },
  {
   "cell_type": "code",
   "execution_count": 160,
   "metadata": {
    "collapsed": false
   },
   "outputs": [
    {
     "data": {
      "application/vnd.plotly.v1+json": {
       "data": [
        {
         "line": {
          "dash": "solid"
         },
         "name": "外出技术支持数(转录调控组)",
         "type": "scatter",
         "uid": "47e34990-cb6f-11e8-806f-509a4c0f1ffc",
         "x": [
          "8-3",
          "8-4",
          "9-1",
          "9-2",
          "9-3",
          "9-4"
         ],
         "y": [
          0,
          0,
          0,
          0,
          0,
          0
         ]
        },
        {
         "line": {
          "dash": "dot"
         },
         "name": "外出技术支持数(蛋白和医学组)",
         "type": "scatter",
         "uid": "47e34991-cb6f-11e8-b113-509a4c0f1ffc",
         "x": [
          "8-3",
          "8-4",
          "9-1",
          "9-2",
          "9-3",
          "9-4"
         ],
         "y": [
          0,
          0,
          0,
          0,
          0,
          0
         ]
        },
        {
         "line": {
          "dash": "dash"
         },
         "name": "外出技术支持数(生物学DNA组)",
         "type": "scatter",
         "uid": "47e34992-cb6f-11e8-8b2e-509a4c0f1ffc",
         "x": [
          "8-3",
          "8-4",
          "9-1",
          "9-2",
          "9-3",
          "9-4"
         ],
         "y": [
          0,
          0,
          0,
          0,
          0,
          0
         ]
        },
        {
         "line": {
          "dash": "solid"
         },
         "name": "电话会议次数(转录调控组)",
         "type": "scatter",
         "uid": "47e34993-cb6f-11e8-98f0-509a4c0f1ffc",
         "x": [
          "8-3",
          "8-4",
          "9-1",
          "9-2",
          "9-3",
          "9-4"
         ],
         "y": [
          4,
          2,
          1,
          3,
          2,
          1
         ]
        },
        {
         "line": {
          "dash": "dot"
         },
         "name": "电话会议次数(蛋白和医学组)",
         "type": "scatter",
         "uid": "47e34994-cb6f-11e8-98f5-509a4c0f1ffc",
         "x": [
          "8-3",
          "8-4",
          "9-1",
          "9-2",
          "9-3",
          "9-4"
         ],
         "y": [
          4,
          0,
          0,
          2,
          3,
          0
         ]
        },
        {
         "line": {
          "dash": "dash"
         },
         "name": "电话会议次数(生物学DNA组)",
         "type": "scatter",
         "uid": "47e34995-cb6f-11e8-9ce9-509a4c0f1ffc",
         "x": [
          "8-3",
          "8-4",
          "9-1",
          "9-2",
          "9-3",
          "9-4"
         ],
         "y": [
          1,
          3,
          4,
          3,
          5,
          2
         ]
        },
        {
         "line": {
          "dash": "solid"
         },
         "name": "客户来访接待数(转录调控组)",
         "type": "scatter",
         "uid": "47e34996-cb6f-11e8-896a-509a4c0f1ffc",
         "x": [
          "8-3",
          "8-4",
          "9-1",
          "9-2",
          "9-3",
          "9-4"
         ],
         "y": [
          0,
          0,
          0,
          0,
          0,
          8
         ]
        },
        {
         "line": {
          "dash": "dot"
         },
         "name": "客户来访接待数(蛋白和医学组)",
         "type": "scatter",
         "uid": "47e34997-cb6f-11e8-85d0-509a4c0f1ffc",
         "x": [
          "8-3",
          "8-4",
          "9-1",
          "9-2",
          "9-3",
          "9-4"
         ],
         "y": [
          2,
          0,
          0,
          0,
          0,
          0
         ]
        },
        {
         "line": {
          "dash": "dash"
         },
         "name": "客户来访接待数(生物学DNA组)",
         "type": "scatter",
         "uid": "47e34998-cb6f-11e8-a732-509a4c0f1ffc",
         "x": [
          "8-3",
          "8-4",
          "9-1",
          "9-2",
          "9-3",
          "9-4"
         ],
         "y": [
          1,
          0,
          0,
          0,
          1,
          2
         ]
        }
       ],
       "layout": {
        "title": "外出技术支持数&电话会议次数&客户来访接待数周趋势图",
        "xaxis": {
         "mirror": "all",
         "nticks": 20,
         "showgrid": true,
         "showline": true,
         "title": "周",
         "zeroline": true
        },
        "yaxis": {
         "mirror": "all",
         "nticks": 20,
         "showgrid": true,
         "showline": true,
         "title": "外出技术支持数&电话会议次数&客户来访接待数",
         "zeroline": true
        }
       }
      },
      "text/html": [
       "<div id=\"e046f7d0-6543-4bc4-8af3-3d9b31a2912f\" style=\"height: 525px; width: 100%;\" class=\"plotly-graph-div\"></div><script type=\"text/javascript\">require([\"plotly\"], function(Plotly) { window.PLOTLYENV=window.PLOTLYENV || {};window.PLOTLYENV.BASE_URL=\"https://plot.ly\";\n",
       "        Plotly.plot(\n",
       "            'e046f7d0-6543-4bc4-8af3-3d9b31a2912f',\n",
       "            [{\"line\": {\"dash\": \"solid\"}, \"name\": \"\\u5916\\u51fa\\u6280\\u672f\\u652f\\u6301\\u6570(\\u8f6c\\u5f55\\u8c03\\u63a7\\u7ec4)\", \"x\": [\"8-3\", \"8-4\", \"9-1\", \"9-2\", \"9-3\", \"9-4\"], \"y\": [0.0, 0.0, 0.0, 0.0, 0.0, 0.0], \"type\": \"scatter\", \"uid\": \"47e34990-cb6f-11e8-806f-509a4c0f1ffc\"}, {\"line\": {\"dash\": \"dot\"}, \"name\": \"\\u5916\\u51fa\\u6280\\u672f\\u652f\\u6301\\u6570(\\u86cb\\u767d\\u548c\\u533b\\u5b66\\u7ec4)\", \"x\": [\"8-3\", \"8-4\", \"9-1\", \"9-2\", \"9-3\", \"9-4\"], \"y\": [0.0, 0.0, 0.0, 0.0, 0.0, 0.0], \"type\": \"scatter\", \"uid\": \"47e34991-cb6f-11e8-b113-509a4c0f1ffc\"}, {\"line\": {\"dash\": \"dash\"}, \"name\": \"\\u5916\\u51fa\\u6280\\u672f\\u652f\\u6301\\u6570(\\u751f\\u7269\\u5b66DNA\\u7ec4)\", \"x\": [\"8-3\", \"8-4\", \"9-1\", \"9-2\", \"9-3\", \"9-4\"], \"y\": [0.0, 0.0, 0.0, 0.0, 0.0, 0.0], \"type\": \"scatter\", \"uid\": \"47e34992-cb6f-11e8-8b2e-509a4c0f1ffc\"}, {\"line\": {\"dash\": \"solid\"}, \"name\": \"\\u7535\\u8bdd\\u4f1a\\u8bae\\u6b21\\u6570(\\u8f6c\\u5f55\\u8c03\\u63a7\\u7ec4)\", \"x\": [\"8-3\", \"8-4\", \"9-1\", \"9-2\", \"9-3\", \"9-4\"], \"y\": [4.0, 2.0, 1.0, 3.0, 2.0, 1.0], \"type\": \"scatter\", \"uid\": \"47e34993-cb6f-11e8-98f0-509a4c0f1ffc\"}, {\"line\": {\"dash\": \"dot\"}, \"name\": \"\\u7535\\u8bdd\\u4f1a\\u8bae\\u6b21\\u6570(\\u86cb\\u767d\\u548c\\u533b\\u5b66\\u7ec4)\", \"x\": [\"8-3\", \"8-4\", \"9-1\", \"9-2\", \"9-3\", \"9-4\"], \"y\": [4.0, 0.0, 0.0, 2.0, 3.0, 0.0], \"type\": \"scatter\", \"uid\": \"47e34994-cb6f-11e8-98f5-509a4c0f1ffc\"}, {\"line\": {\"dash\": \"dash\"}, \"name\": \"\\u7535\\u8bdd\\u4f1a\\u8bae\\u6b21\\u6570(\\u751f\\u7269\\u5b66DNA\\u7ec4)\", \"x\": [\"8-3\", \"8-4\", \"9-1\", \"9-2\", \"9-3\", \"9-4\"], \"y\": [1.0, 3.0, 4.0, 3.0, 5.0, 2.0], \"type\": \"scatter\", \"uid\": \"47e34995-cb6f-11e8-9ce9-509a4c0f1ffc\"}, {\"line\": {\"dash\": \"solid\"}, \"name\": \"\\u5ba2\\u6237\\u6765\\u8bbf\\u63a5\\u5f85\\u6570(\\u8f6c\\u5f55\\u8c03\\u63a7\\u7ec4)\", \"x\": [\"8-3\", \"8-4\", \"9-1\", \"9-2\", \"9-3\", \"9-4\"], \"y\": [0.0, 0.0, 0.0, 0.0, 0.0, 8.0], \"type\": \"scatter\", \"uid\": \"47e34996-cb6f-11e8-896a-509a4c0f1ffc\"}, {\"line\": {\"dash\": \"dot\"}, \"name\": \"\\u5ba2\\u6237\\u6765\\u8bbf\\u63a5\\u5f85\\u6570(\\u86cb\\u767d\\u548c\\u533b\\u5b66\\u7ec4)\", \"x\": [\"8-3\", \"8-4\", \"9-1\", \"9-2\", \"9-3\", \"9-4\"], \"y\": [2.0, 0.0, 0.0, 0.0, 0.0, 0.0], \"type\": \"scatter\", \"uid\": \"47e34997-cb6f-11e8-85d0-509a4c0f1ffc\"}, {\"line\": {\"dash\": \"dash\"}, \"name\": \"\\u5ba2\\u6237\\u6765\\u8bbf\\u63a5\\u5f85\\u6570(\\u751f\\u7269\\u5b66DNA\\u7ec4)\", \"x\": [\"8-3\", \"8-4\", \"9-1\", \"9-2\", \"9-3\", \"9-4\"], \"y\": [1.0, 0.0, 0.0, 0.0, 1.0, 2.0], \"type\": \"scatter\", \"uid\": \"47e34998-cb6f-11e8-a732-509a4c0f1ffc\"}],\n",
       "            {\"title\": \"\\u5916\\u51fa\\u6280\\u672f\\u652f\\u6301\\u6570&\\u7535\\u8bdd\\u4f1a\\u8bae\\u6b21\\u6570&\\u5ba2\\u6237\\u6765\\u8bbf\\u63a5\\u5f85\\u6570\\u5468\\u8d8b\\u52bf\\u56fe\", \"xaxis\": {\"mirror\": \"all\", \"nticks\": 20, \"showgrid\": true, \"showline\": true, \"title\": \"\\u5468\", \"zeroline\": true}, \"yaxis\": {\"mirror\": \"all\", \"nticks\": 20, \"showgrid\": true, \"showline\": true, \"title\": \"\\u5916\\u51fa\\u6280\\u672f\\u652f\\u6301\\u6570&\\u7535\\u8bdd\\u4f1a\\u8bae\\u6b21\\u6570&\\u5ba2\\u6237\\u6765\\u8bbf\\u63a5\\u5f85\\u6570\", \"zeroline\": true}},\n",
       "            {\"showLink\": true, \"linkText\": \"Export to plot.ly\"}\n",
       "        ).then(function () {return Plotly.addFrames('e046f7d0-6543-4bc4-8af3-3d9b31a2912f',{});}).then(function(){Plotly.animate('e046f7d0-6543-4bc4-8af3-3d9b31a2912f');})\n",
       "        });</script>"
      ],
      "text/vnd.plotly.v1+html": [
       "<div id=\"e046f7d0-6543-4bc4-8af3-3d9b31a2912f\" style=\"height: 525px; width: 100%;\" class=\"plotly-graph-div\"></div><script type=\"text/javascript\">require([\"plotly\"], function(Plotly) { window.PLOTLYENV=window.PLOTLYENV || {};window.PLOTLYENV.BASE_URL=\"https://plot.ly\";\n",
       "        Plotly.plot(\n",
       "            'e046f7d0-6543-4bc4-8af3-3d9b31a2912f',\n",
       "            [{\"line\": {\"dash\": \"solid\"}, \"name\": \"\\u5916\\u51fa\\u6280\\u672f\\u652f\\u6301\\u6570(\\u8f6c\\u5f55\\u8c03\\u63a7\\u7ec4)\", \"x\": [\"8-3\", \"8-4\", \"9-1\", \"9-2\", \"9-3\", \"9-4\"], \"y\": [0.0, 0.0, 0.0, 0.0, 0.0, 0.0], \"type\": \"scatter\", \"uid\": \"47e34990-cb6f-11e8-806f-509a4c0f1ffc\"}, {\"line\": {\"dash\": \"dot\"}, \"name\": \"\\u5916\\u51fa\\u6280\\u672f\\u652f\\u6301\\u6570(\\u86cb\\u767d\\u548c\\u533b\\u5b66\\u7ec4)\", \"x\": [\"8-3\", \"8-4\", \"9-1\", \"9-2\", \"9-3\", \"9-4\"], \"y\": [0.0, 0.0, 0.0, 0.0, 0.0, 0.0], \"type\": \"scatter\", \"uid\": \"47e34991-cb6f-11e8-b113-509a4c0f1ffc\"}, {\"line\": {\"dash\": \"dash\"}, \"name\": \"\\u5916\\u51fa\\u6280\\u672f\\u652f\\u6301\\u6570(\\u751f\\u7269\\u5b66DNA\\u7ec4)\", \"x\": [\"8-3\", \"8-4\", \"9-1\", \"9-2\", \"9-3\", \"9-4\"], \"y\": [0.0, 0.0, 0.0, 0.0, 0.0, 0.0], \"type\": \"scatter\", \"uid\": \"47e34992-cb6f-11e8-8b2e-509a4c0f1ffc\"}, {\"line\": {\"dash\": \"solid\"}, \"name\": \"\\u7535\\u8bdd\\u4f1a\\u8bae\\u6b21\\u6570(\\u8f6c\\u5f55\\u8c03\\u63a7\\u7ec4)\", \"x\": [\"8-3\", \"8-4\", \"9-1\", \"9-2\", \"9-3\", \"9-4\"], \"y\": [4.0, 2.0, 1.0, 3.0, 2.0, 1.0], \"type\": \"scatter\", \"uid\": \"47e34993-cb6f-11e8-98f0-509a4c0f1ffc\"}, {\"line\": {\"dash\": \"dot\"}, \"name\": \"\\u7535\\u8bdd\\u4f1a\\u8bae\\u6b21\\u6570(\\u86cb\\u767d\\u548c\\u533b\\u5b66\\u7ec4)\", \"x\": [\"8-3\", \"8-4\", \"9-1\", \"9-2\", \"9-3\", \"9-4\"], \"y\": [4.0, 0.0, 0.0, 2.0, 3.0, 0.0], \"type\": \"scatter\", \"uid\": \"47e34994-cb6f-11e8-98f5-509a4c0f1ffc\"}, {\"line\": {\"dash\": \"dash\"}, \"name\": \"\\u7535\\u8bdd\\u4f1a\\u8bae\\u6b21\\u6570(\\u751f\\u7269\\u5b66DNA\\u7ec4)\", \"x\": [\"8-3\", \"8-4\", \"9-1\", \"9-2\", \"9-3\", \"9-4\"], \"y\": [1.0, 3.0, 4.0, 3.0, 5.0, 2.0], \"type\": \"scatter\", \"uid\": \"47e34995-cb6f-11e8-9ce9-509a4c0f1ffc\"}, {\"line\": {\"dash\": \"solid\"}, \"name\": \"\\u5ba2\\u6237\\u6765\\u8bbf\\u63a5\\u5f85\\u6570(\\u8f6c\\u5f55\\u8c03\\u63a7\\u7ec4)\", \"x\": [\"8-3\", \"8-4\", \"9-1\", \"9-2\", \"9-3\", \"9-4\"], \"y\": [0.0, 0.0, 0.0, 0.0, 0.0, 8.0], \"type\": \"scatter\", \"uid\": \"47e34996-cb6f-11e8-896a-509a4c0f1ffc\"}, {\"line\": {\"dash\": \"dot\"}, \"name\": \"\\u5ba2\\u6237\\u6765\\u8bbf\\u63a5\\u5f85\\u6570(\\u86cb\\u767d\\u548c\\u533b\\u5b66\\u7ec4)\", \"x\": [\"8-3\", \"8-4\", \"9-1\", \"9-2\", \"9-3\", \"9-4\"], \"y\": [2.0, 0.0, 0.0, 0.0, 0.0, 0.0], \"type\": \"scatter\", \"uid\": \"47e34997-cb6f-11e8-85d0-509a4c0f1ffc\"}, {\"line\": {\"dash\": \"dash\"}, \"name\": \"\\u5ba2\\u6237\\u6765\\u8bbf\\u63a5\\u5f85\\u6570(\\u751f\\u7269\\u5b66DNA\\u7ec4)\", \"x\": [\"8-3\", \"8-4\", \"9-1\", \"9-2\", \"9-3\", \"9-4\"], \"y\": [1.0, 0.0, 0.0, 0.0, 1.0, 2.0], \"type\": \"scatter\", \"uid\": \"47e34998-cb6f-11e8-a732-509a4c0f1ffc\"}],\n",
       "            {\"title\": \"\\u5916\\u51fa\\u6280\\u672f\\u652f\\u6301\\u6570&\\u7535\\u8bdd\\u4f1a\\u8bae\\u6b21\\u6570&\\u5ba2\\u6237\\u6765\\u8bbf\\u63a5\\u5f85\\u6570\\u5468\\u8d8b\\u52bf\\u56fe\", \"xaxis\": {\"mirror\": \"all\", \"nticks\": 20, \"showgrid\": true, \"showline\": true, \"title\": \"\\u5468\", \"zeroline\": true}, \"yaxis\": {\"mirror\": \"all\", \"nticks\": 20, \"showgrid\": true, \"showline\": true, \"title\": \"\\u5916\\u51fa\\u6280\\u672f\\u652f\\u6301\\u6570&\\u7535\\u8bdd\\u4f1a\\u8bae\\u6b21\\u6570&\\u5ba2\\u6237\\u6765\\u8bbf\\u63a5\\u5f85\\u6570\", \"zeroline\": true}},\n",
       "            {\"showLink\": true, \"linkText\": \"Export to plot.ly\"}\n",
       "        ).then(function () {return Plotly.addFrames('e046f7d0-6543-4bc4-8af3-3d9b31a2912f',{});}).then(function(){Plotly.animate('e046f7d0-6543-4bc4-8af3-3d9b31a2912f');})\n",
       "        });</script>"
      ]
     },
     "metadata": {},
     "output_type": "display_data"
    }
   ],
   "source": [
    "ss=myModule.format(all_dict ,\"日期\" ,['电话会议次数', '外出技术支持数', '客户来访接待数'])\n",
    "ss.add_group('组别')\n",
    "tt = myModule.myPlot(ss.groupby('sum'))\n",
    "tt.plot('line')"
   ]
  },
  {
   "cell_type": "markdown",
   "metadata": {
    "hide_input": true
   },
   "source": [
    "## 个人情况"
   ]
  },
  {
   "cell_type": "markdown",
   "metadata": {},
   "source": [
    "### 下单情况"
   ]
  },
  {
   "cell_type": "markdown",
   "metadata": {},
   "source": [
    "\n",
    "#### 总下单数和完成下单数\n"
   ]
  },
  {
   "cell_type": "code",
   "execution_count": 161,
   "metadata": {
    "collapsed": false
   },
   "outputs": [
    {
     "data": {
      "application/vnd.plotly.v1+json": {
       "data": [
        {
         "line": {
          "dash": "solid"
         },
         "name": "总下单数(于慧)",
         "type": "scatter",
         "uid": "484b5a2e-cb6f-11e8-ad96-509a4c0f1ffc",
         "x": [
          "8-3",
          "8-4",
          "9-1",
          "9-2",
          "9-3",
          "9-4"
         ],
         "y": [
          0,
          7,
          2,
          3,
          7,
          6
         ]
        },
        {
         "line": {
          "dash": "dot"
         },
         "name": "总下单数(封彦杰)",
         "type": "scatter",
         "uid": "484b5a2f-cb6f-11e8-8f5b-509a4c0f1ffc",
         "x": [
          "8-3",
          "8-4",
          "9-1",
          "9-2",
          "9-3",
          "9-4"
         ],
         "y": [
          9,
          6,
          5,
          4,
          8,
          7
         ]
        },
        {
         "line": {
          "dash": "dash"
         },
         "name": "总下单数(刘江)",
         "type": "scatter",
         "uid": "484b5a30-cb6f-11e8-b0a4-509a4c0f1ffc",
         "x": [
          "8-3",
          "8-4",
          "9-1",
          "9-2",
          "9-3",
          "9-4"
         ],
         "y": [
          7,
          8,
          7,
          8,
          5,
          6
         ]
        },
        {
         "line": {
          "dash": "longdash"
         },
         "name": "总下单数(杨伟飞)",
         "type": "scatter",
         "uid": "484b5a31-cb6f-11e8-acef-509a4c0f1ffc",
         "x": [
          "8-3",
          "8-4",
          "9-1",
          "9-2",
          "9-3",
          "9-4"
         ],
         "y": [
          3,
          6,
          4,
          6,
          7,
          6
         ]
        },
        {
         "line": {
          "dash": "dashdot"
         },
         "name": "总下单数(苏彦勋)",
         "type": "scatter",
         "uid": "484b5a32-cb6f-11e8-8527-509a4c0f1ffc",
         "x": [
          "8-3",
          "8-4",
          "9-1",
          "9-2",
          "9-3",
          "9-4"
         ],
         "y": [
          4,
          6,
          5,
          6,
          9,
          null
         ]
        },
        {
         "line": {
          "dash": "longdashdot"
         },
         "name": "总下单数(李华云)",
         "type": "scatter",
         "uid": "484b5a33-cb6f-11e8-aac4-509a4c0f1ffc",
         "x": [
          "8-3",
          "8-4",
          "9-1",
          "9-2",
          "9-3",
          "9-4"
         ],
         "y": [
          5,
          3,
          5,
          5,
          5,
          null
         ]
        },
        {
         "line": {
          "dash": "solid"
         },
         "name": "总下单数(任雪)",
         "type": "scatter",
         "uid": "484b5a34-cb6f-11e8-9939-509a4c0f1ffc",
         "x": [
          "8-3",
          "8-4",
          "9-1",
          "9-2",
          "9-3",
          "9-4"
         ],
         "y": [
          null,
          2,
          4,
          5,
          2,
          5
         ]
        },
        {
         "line": {
          "dash": "dot"
         },
         "name": "总下单数(马潇)",
         "type": "scatter",
         "uid": "484b5a35-cb6f-11e8-9589-509a4c0f1ffc",
         "x": [
          "8-3",
          "8-4",
          "9-1",
          "9-2",
          "9-3",
          "9-4"
         ],
         "y": [
          5,
          3,
          4,
          5,
          6,
          0
         ]
        },
        {
         "line": {
          "dash": "dash"
         },
         "name": "总下单数(宋迎楠)",
         "type": "scatter",
         "uid": "484b5a36-cb6f-11e8-b25c-509a4c0f1ffc",
         "x": [
          "8-3",
          "8-4",
          "9-1",
          "9-2",
          "9-3",
          "9-4"
         ],
         "y": [
          4,
          3,
          4,
          null,
          null,
          null
         ]
        },
        {
         "line": {
          "dash": "longdash"
         },
         "name": "总下单数(于勇一)",
         "type": "scatter",
         "uid": "484b5a37-cb6f-11e8-86ca-509a4c0f1ffc",
         "x": [
          "8-3",
          "8-4",
          "9-1",
          "9-2",
          "9-3",
          "9-4"
         ],
         "y": [
          3,
          4,
          5,
          4,
          6,
          5
         ]
        },
        {
         "line": {
          "dash": "dashdot"
         },
         "name": "总下单数(刘慧玲)",
         "type": "scatter",
         "uid": "484b8140-cb6f-11e8-911b-509a4c0f1ffc",
         "x": [
          "8-3",
          "8-4",
          "9-1",
          "9-2",
          "9-3",
          "9-4"
         ],
         "y": [
          4,
          4,
          5,
          null,
          null,
          null
         ]
        },
        {
         "line": {
          "dash": "longdashdot"
         },
         "name": "总下单数(赵玥)",
         "type": "scatter",
         "uid": "484b8141-cb6f-11e8-9bca-509a4c0f1ffc",
         "x": [
          "8-3",
          "8-4",
          "9-1",
          "9-2",
          "9-3",
          "9-4"
         ],
         "y": [
          6,
          4,
          6,
          4,
          12,
          4
         ]
        },
        {
         "line": {
          "dash": "solid"
         },
         "name": "总下单数(占伟)",
         "type": "scatter",
         "uid": "484b8142-cb6f-11e8-ad83-509a4c0f1ffc",
         "x": [
          "8-3",
          "8-4",
          "9-1",
          "9-2",
          "9-3",
          "9-4"
         ],
         "y": [
          4,
          6,
          7,
          8,
          7,
          7
         ]
        },
        {
         "line": {
          "dash": "dot"
         },
         "name": "总下单数(周杨)",
         "type": "scatter",
         "uid": "484b8143-cb6f-11e8-a436-509a4c0f1ffc",
         "x": [
          "8-3",
          "8-4",
          "9-1",
          "9-2",
          "9-3",
          "9-4"
         ],
         "y": [
          2,
          6,
          4,
          4,
          7,
          9
         ]
        },
        {
         "line": {
          "dash": "dash"
         },
         "name": "总下单数(谢德健)",
         "type": "scatter",
         "uid": "484b8144-cb6f-11e8-abd3-509a4c0f1ffc",
         "x": [
          "8-3",
          "8-4",
          "9-1",
          "9-2",
          "9-3",
          "9-4"
         ],
         "y": [
          2,
          4,
          null,
          4,
          5,
          4
         ]
        },
        {
         "line": {
          "dash": "longdash"
         },
         "name": "总下单数(范旭宁)",
         "type": "scatter",
         "uid": "484b8145-cb6f-11e8-ad14-509a4c0f1ffc",
         "x": [
          "8-3",
          "8-4",
          "9-1",
          "9-2",
          "9-3",
          "9-4"
         ],
         "y": [
          4,
          4,
          5,
          7,
          5,
          4
         ]
        },
        {
         "line": {
          "dash": "dashdot"
         },
         "name": "总下单数(孟昊)",
         "type": "scatter",
         "uid": "484b8146-cb6f-11e8-837f-509a4c0f1ffc",
         "x": [
          "8-3",
          "8-4",
          "9-1",
          "9-2",
          "9-3",
          "9-4"
         ],
         "y": [
          4,
          4,
          2,
          3,
          5,
          8
         ]
        },
        {
         "line": {
          "dash": "longdashdot"
         },
         "name": "总下单数(姚盟成)",
         "type": "scatter",
         "uid": "484b8147-cb6f-11e8-9f71-509a4c0f1ffc",
         "x": [
          "8-3",
          "8-4",
          "9-1",
          "9-2",
          "9-3",
          "9-4"
         ],
         "y": [
          4,
          4,
          4,
          5,
          4,
          7
         ]
        },
        {
         "line": {
          "dash": "solid"
         },
         "name": "总下单数(张守伟)",
         "type": "scatter",
         "uid": "484b8148-cb6f-11e8-a50f-509a4c0f1ffc",
         "x": [
          "8-3",
          "8-4",
          "9-1",
          "9-2",
          "9-3",
          "9-4"
         ],
         "y": [
          4,
          4,
          4,
          3,
          4,
          5
         ]
        },
        {
         "line": {
          "dash": "dot"
         },
         "name": "总下单数(韩少怀)",
         "type": "scatter",
         "uid": "484b8149-cb6f-11e8-a493-509a4c0f1ffc",
         "x": [
          "8-3",
          "8-4",
          "9-1",
          "9-2",
          "9-3",
          "9-4"
         ],
         "y": [
          3,
          4,
          4,
          5,
          5,
          null
         ]
        },
        {
         "line": {
          "dash": "dash"
         },
         "name": "总下单数(李庆原)",
         "type": "scatter",
         "uid": "484b814a-cb6f-11e8-9e4a-509a4c0f1ffc",
         "x": [
          "8-3",
          "8-4",
          "9-1",
          "9-2",
          "9-3",
          "9-4"
         ],
         "y": [
          2,
          5,
          3,
          3,
          6,
          null
         ]
        },
        {
         "line": {
          "dash": "longdash"
         },
         "name": "总下单数(段利强)",
         "type": "scatter",
         "uid": "484b814b-cb6f-11e8-a595-509a4c0f1ffc",
         "x": [
          "8-3",
          "8-4",
          "9-1",
          "9-2",
          "9-3",
          "9-4"
         ],
         "y": [
          null,
          null,
          null,
          null,
          null,
          6
         ]
        },
        {
         "line": {
          "dash": "dashdot"
         },
         "name": "总下单数(路慧萍)",
         "type": "scatter",
         "uid": "484b814c-cb6f-11e8-b34a-509a4c0f1ffc",
         "x": [
          "8-3",
          "8-4",
          "9-1",
          "9-2",
          "9-3",
          "9-4"
         ],
         "y": [
          5,
          8,
          7,
          5,
          7,
          null
         ]
        },
        {
         "line": {
          "dash": "longdashdot"
         },
         "name": "总下单数(王宁)",
         "type": "scatter",
         "uid": "484b814d-cb6f-11e8-bc71-509a4c0f1ffc",
         "x": [
          "8-3",
          "8-4",
          "9-1",
          "9-2",
          "9-3",
          "9-4"
         ],
         "y": [
          6,
          6,
          6,
          null,
          null,
          null
         ]
        },
        {
         "line": {
          "dash": "solid"
         },
         "name": "完成下单数(于慧)",
         "type": "scatter",
         "uid": "484b814e-cb6f-11e8-92d1-509a4c0f1ffc",
         "x": [
          "8-3",
          "8-4",
          "9-1",
          "9-2",
          "9-3",
          "9-4"
         ],
         "y": [
          0,
          7,
          1,
          3,
          7,
          5
         ]
        },
        {
         "line": {
          "dash": "dot"
         },
         "name": "完成下单数(封彦杰)",
         "type": "scatter",
         "uid": "484b814f-cb6f-11e8-9be9-509a4c0f1ffc",
         "x": [
          "8-3",
          "8-4",
          "9-1",
          "9-2",
          "9-3",
          "9-4"
         ],
         "y": [
          9,
          6,
          5,
          3,
          8,
          7
         ]
        },
        {
         "line": {
          "dash": "dash"
         },
         "name": "完成下单数(刘江)",
         "type": "scatter",
         "uid": "484b8150-cb6f-11e8-87ac-509a4c0f1ffc",
         "x": [
          "8-3",
          "8-4",
          "9-1",
          "9-2",
          "9-3",
          "9-4"
         ],
         "y": [
          4,
          10,
          7,
          7,
          5,
          6
         ]
        },
        {
         "line": {
          "dash": "longdash"
         },
         "name": "完成下单数(杨伟飞)",
         "type": "scatter",
         "uid": "484b8151-cb6f-11e8-85fd-509a4c0f1ffc",
         "x": [
          "8-3",
          "8-4",
          "9-1",
          "9-2",
          "9-3",
          "9-4"
         ],
         "y": [
          1,
          5,
          8,
          5,
          7,
          6
         ]
        },
        {
         "line": {
          "dash": "dashdot"
         },
         "name": "完成下单数(苏彦勋)",
         "type": "scatter",
         "uid": "484b8152-cb6f-11e8-859f-509a4c0f1ffc",
         "x": [
          "8-3",
          "8-4",
          "9-1",
          "9-2",
          "9-3",
          "9-4"
         ],
         "y": [
          4,
          6,
          5,
          5,
          9,
          null
         ]
        },
        {
         "line": {
          "dash": "longdashdot"
         },
         "name": "完成下单数(李华云)",
         "type": "scatter",
         "uid": "484b8153-cb6f-11e8-a563-509a4c0f1ffc",
         "x": [
          "8-3",
          "8-4",
          "9-1",
          "9-2",
          "9-3",
          "9-4"
         ],
         "y": [
          4,
          3,
          4,
          5,
          5,
          null
         ]
        },
        {
         "line": {
          "dash": "solid"
         },
         "name": "完成下单数(任雪)",
         "type": "scatter",
         "uid": "484b8154-cb6f-11e8-8a8e-509a4c0f1ffc",
         "x": [
          "8-3",
          "8-4",
          "9-1",
          "9-2",
          "9-3",
          "9-4"
         ],
         "y": [
          null,
          2,
          3,
          4,
          0,
          4
         ]
        },
        {
         "line": {
          "dash": "dot"
         },
         "name": "完成下单数(马潇)",
         "type": "scatter",
         "uid": "484b8155-cb6f-11e8-8dac-509a4c0f1ffc",
         "x": [
          "8-3",
          "8-4",
          "9-1",
          "9-2",
          "9-3",
          "9-4"
         ],
         "y": [
          3,
          3,
          4,
          5,
          5,
          0
         ]
        },
        {
         "line": {
          "dash": "dash"
         },
         "name": "完成下单数(宋迎楠)",
         "type": "scatter",
         "uid": "484b8156-cb6f-11e8-bd37-509a4c0f1ffc",
         "x": [
          "8-3",
          "8-4",
          "9-1",
          "9-2",
          "9-3",
          "9-4"
         ],
         "y": [
          4,
          3,
          4,
          null,
          null,
          null
         ]
        },
        {
         "line": {
          "dash": "longdash"
         },
         "name": "完成下单数(于勇一)",
         "type": "scatter",
         "uid": "484b8157-cb6f-11e8-b646-509a4c0f1ffc",
         "x": [
          "8-3",
          "8-4",
          "9-1",
          "9-2",
          "9-3",
          "9-4"
         ],
         "y": [
          3,
          2,
          4,
          2,
          7,
          7
         ]
        },
        {
         "line": {
          "dash": "dashdot"
         },
         "name": "完成下单数(刘慧玲)",
         "type": "scatter",
         "uid": "484b8158-cb6f-11e8-b7a5-509a4c0f1ffc",
         "x": [
          "8-3",
          "8-4",
          "9-1",
          "9-2",
          "9-3",
          "9-4"
         ],
         "y": [
          3,
          3,
          4,
          null,
          null,
          null
         ]
        },
        {
         "line": {
          "dash": "longdashdot"
         },
         "name": "完成下单数(赵玥)",
         "type": "scatter",
         "uid": "484b8159-cb6f-11e8-bf10-509a4c0f1ffc",
         "x": [
          "8-3",
          "8-4",
          "9-1",
          "9-2",
          "9-3",
          "9-4"
         ],
         "y": [
          6,
          4,
          4,
          4,
          11,
          4
         ]
        },
        {
         "line": {
          "dash": "solid"
         },
         "name": "完成下单数(占伟)",
         "type": "scatter",
         "uid": "484b815a-cb6f-11e8-95e3-509a4c0f1ffc",
         "x": [
          "8-3",
          "8-4",
          "9-1",
          "9-2",
          "9-3",
          "9-4"
         ],
         "y": [
          2,
          3,
          7,
          8,
          5,
          6
         ]
        },
        {
         "line": {
          "dash": "dot"
         },
         "name": "完成下单数(周杨)",
         "type": "scatter",
         "uid": "484b815b-cb6f-11e8-9e6a-509a4c0f1ffc",
         "x": [
          "8-3",
          "8-4",
          "9-1",
          "9-2",
          "9-3",
          "9-4"
         ],
         "y": [
          2,
          5,
          4,
          4,
          7,
          9
         ]
        },
        {
         "line": {
          "dash": "dash"
         },
         "name": "完成下单数(谢德健)",
         "type": "scatter",
         "uid": "484b815c-cb6f-11e8-b8f0-509a4c0f1ffc",
         "x": [
          "8-3",
          "8-4",
          "9-1",
          "9-2",
          "9-3",
          "9-4"
         ],
         "y": [
          1,
          4,
          null,
          3,
          5,
          4
         ]
        },
        {
         "line": {
          "dash": "longdash"
         },
         "name": "完成下单数(范旭宁)",
         "type": "scatter",
         "uid": "484b815d-cb6f-11e8-8ae3-509a4c0f1ffc",
         "x": [
          "8-3",
          "8-4",
          "9-1",
          "9-2",
          "9-3",
          "9-4"
         ],
         "y": [
          3,
          3,
          4,
          7,
          5,
          3
         ]
        },
        {
         "line": {
          "dash": "dashdot"
         },
         "name": "完成下单数(孟昊)",
         "type": "scatter",
         "uid": "484b815e-cb6f-11e8-9361-509a4c0f1ffc",
         "x": [
          "8-3",
          "8-4",
          "9-1",
          "9-2",
          "9-3",
          "9-4"
         ],
         "y": [
          4,
          4,
          2,
          2,
          5,
          8
         ]
        },
        {
         "line": {
          "dash": "longdashdot"
         },
         "name": "完成下单数(姚盟成)",
         "type": "scatter",
         "uid": "484b815f-cb6f-11e8-b5d7-509a4c0f1ffc",
         "x": [
          "8-3",
          "8-4",
          "9-1",
          "9-2",
          "9-3",
          "9-4"
         ],
         "y": [
          4,
          3,
          4,
          5,
          4,
          7
         ]
        },
        {
         "line": {
          "dash": "solid"
         },
         "name": "完成下单数(张守伟)",
         "type": "scatter",
         "uid": "484b8160-cb6f-11e8-a1d3-509a4c0f1ffc",
         "x": [
          "8-3",
          "8-4",
          "9-1",
          "9-2",
          "9-3",
          "9-4"
         ],
         "y": [
          3,
          4,
          3,
          3,
          3,
          4
         ]
        },
        {
         "line": {
          "dash": "dot"
         },
         "name": "完成下单数(韩少怀)",
         "type": "scatter",
         "uid": "484b8161-cb6f-11e8-b8e4-509a4c0f1ffc",
         "x": [
          "8-3",
          "8-4",
          "9-1",
          "9-2",
          "9-3",
          "9-4"
         ],
         "y": [
          3,
          4,
          4,
          5,
          5,
          null
         ]
        },
        {
         "line": {
          "dash": "dash"
         },
         "name": "完成下单数(李庆原)",
         "type": "scatter",
         "uid": "484b8162-cb6f-11e8-8460-509a4c0f1ffc",
         "x": [
          "8-3",
          "8-4",
          "9-1",
          "9-2",
          "9-3",
          "9-4"
         ],
         "y": [
          2,
          5,
          3,
          3,
          6,
          null
         ]
        },
        {
         "line": {
          "dash": "longdash"
         },
         "name": "完成下单数(段利强)",
         "type": "scatter",
         "uid": "484b8163-cb6f-11e8-a334-509a4c0f1ffc",
         "x": [
          "8-3",
          "8-4",
          "9-1",
          "9-2",
          "9-3",
          "9-4"
         ],
         "y": [
          null,
          null,
          null,
          null,
          null,
          6
         ]
        },
        {
         "line": {
          "dash": "dashdot"
         },
         "name": "完成下单数(路慧萍)",
         "type": "scatter",
         "uid": "484b8164-cb6f-11e8-a42a-509a4c0f1ffc",
         "x": [
          "8-3",
          "8-4",
          "9-1",
          "9-2",
          "9-3",
          "9-4"
         ],
         "y": [
          5,
          8,
          6,
          5,
          5,
          null
         ]
        },
        {
         "line": {
          "dash": "longdashdot"
         },
         "name": "完成下单数(王宁)",
         "type": "scatter",
         "uid": "484b8165-cb6f-11e8-bae0-509a4c0f1ffc",
         "x": [
          "8-3",
          "8-4",
          "9-1",
          "9-2",
          "9-3",
          "9-4"
         ],
         "y": [
          6,
          6,
          7,
          null,
          null,
          null
         ]
        }
       ],
       "layout": {
        "title": "总下单数&完成下单数周趋势图",
        "xaxis": {
         "mirror": "all",
         "nticks": 20,
         "showgrid": true,
         "showline": true,
         "title": "周",
         "zeroline": true
        },
        "yaxis": {
         "mirror": "all",
         "nticks": 20,
         "showgrid": true,
         "showline": true,
         "title": "总下单数&完成下单数",
         "zeroline": true
        }
       }
      },
      "text/html": [
       "<div id=\"17114160-e956-4193-8006-0447e4e95525\" style=\"height: 525px; width: 100%;\" class=\"plotly-graph-div\"></div><script type=\"text/javascript\">require([\"plotly\"], function(Plotly) { window.PLOTLYENV=window.PLOTLYENV || {};window.PLOTLYENV.BASE_URL=\"https://plot.ly\";\n",
       "        Plotly.plot(\n",
       "            '17114160-e956-4193-8006-0447e4e95525',\n",
       "            [{\"line\": {\"dash\": \"solid\"}, \"name\": \"\\u603b\\u4e0b\\u5355\\u6570(\\u4e8e\\u6167)\", \"x\": [\"8-3\", \"8-4\", \"9-1\", \"9-2\", \"9-3\", \"9-4\"], \"y\": [0.0, 7.0, 2.0, 3.0, 7.0, 6.0], \"type\": \"scatter\", \"uid\": \"484b5a2e-cb6f-11e8-ad96-509a4c0f1ffc\"}, {\"line\": {\"dash\": \"dot\"}, \"name\": \"\\u603b\\u4e0b\\u5355\\u6570(\\u5c01\\u5f66\\u6770)\", \"x\": [\"8-3\", \"8-4\", \"9-1\", \"9-2\", \"9-3\", \"9-4\"], \"y\": [9.0, 6.0, 5.0, 4.0, 8.0, 7.0], \"type\": \"scatter\", \"uid\": \"484b5a2f-cb6f-11e8-8f5b-509a4c0f1ffc\"}, {\"line\": {\"dash\": \"dash\"}, \"name\": \"\\u603b\\u4e0b\\u5355\\u6570(\\u5218\\u6c5f)\", \"x\": [\"8-3\", \"8-4\", \"9-1\", \"9-2\", \"9-3\", \"9-4\"], \"y\": [7.0, 8.0, 7.0, 8.0, 5.0, 6.0], \"type\": \"scatter\", \"uid\": \"484b5a30-cb6f-11e8-b0a4-509a4c0f1ffc\"}, {\"line\": {\"dash\": \"longdash\"}, \"name\": \"\\u603b\\u4e0b\\u5355\\u6570(\\u6768\\u4f1f\\u98de)\", \"x\": [\"8-3\", \"8-4\", \"9-1\", \"9-2\", \"9-3\", \"9-4\"], \"y\": [3.0, 6.0, 4.0, 6.0, 7.0, 6.0], \"type\": \"scatter\", \"uid\": \"484b5a31-cb6f-11e8-acef-509a4c0f1ffc\"}, {\"line\": {\"dash\": \"dashdot\"}, \"name\": \"\\u603b\\u4e0b\\u5355\\u6570(\\u82cf\\u5f66\\u52cb)\", \"x\": [\"8-3\", \"8-4\", \"9-1\", \"9-2\", \"9-3\", \"9-4\"], \"y\": [4.0, 6.0, 5.0, 6.0, 9.0, null], \"type\": \"scatter\", \"uid\": \"484b5a32-cb6f-11e8-8527-509a4c0f1ffc\"}, {\"line\": {\"dash\": \"longdashdot\"}, \"name\": \"\\u603b\\u4e0b\\u5355\\u6570(\\u674e\\u534e\\u4e91)\", \"x\": [\"8-3\", \"8-4\", \"9-1\", \"9-2\", \"9-3\", \"9-4\"], \"y\": [5.0, 3.0, 5.0, 5.0, 5.0, null], \"type\": \"scatter\", \"uid\": \"484b5a33-cb6f-11e8-aac4-509a4c0f1ffc\"}, {\"line\": {\"dash\": \"solid\"}, \"name\": \"\\u603b\\u4e0b\\u5355\\u6570(\\u4efb\\u96ea)\", \"x\": [\"8-3\", \"8-4\", \"9-1\", \"9-2\", \"9-3\", \"9-4\"], \"y\": [null, 2.0, 4.0, 5.0, 2.0, 5.0], \"type\": \"scatter\", \"uid\": \"484b5a34-cb6f-11e8-9939-509a4c0f1ffc\"}, {\"line\": {\"dash\": \"dot\"}, \"name\": \"\\u603b\\u4e0b\\u5355\\u6570(\\u9a6c\\u6f47)\", \"x\": [\"8-3\", \"8-4\", \"9-1\", \"9-2\", \"9-3\", \"9-4\"], \"y\": [5.0, 3.0, 4.0, 5.0, 6.0, 0.0], \"type\": \"scatter\", \"uid\": \"484b5a35-cb6f-11e8-9589-509a4c0f1ffc\"}, {\"line\": {\"dash\": \"dash\"}, \"name\": \"\\u603b\\u4e0b\\u5355\\u6570(\\u5b8b\\u8fce\\u6960)\", \"x\": [\"8-3\", \"8-4\", \"9-1\", \"9-2\", \"9-3\", \"9-4\"], \"y\": [4.0, 3.0, 4.0, null, null, null], \"type\": \"scatter\", \"uid\": \"484b5a36-cb6f-11e8-b25c-509a4c0f1ffc\"}, {\"line\": {\"dash\": \"longdash\"}, \"name\": \"\\u603b\\u4e0b\\u5355\\u6570(\\u4e8e\\u52c7\\u4e00)\", \"x\": [\"8-3\", \"8-4\", \"9-1\", \"9-2\", \"9-3\", \"9-4\"], \"y\": [3.0, 4.0, 5.0, 4.0, 6.0, 5.0], \"type\": \"scatter\", \"uid\": \"484b5a37-cb6f-11e8-86ca-509a4c0f1ffc\"}, {\"line\": {\"dash\": \"dashdot\"}, \"name\": \"\\u603b\\u4e0b\\u5355\\u6570(\\u5218\\u6167\\u73b2)\", \"x\": [\"8-3\", \"8-4\", \"9-1\", \"9-2\", \"9-3\", \"9-4\"], \"y\": [4.0, 4.0, 5.0, null, null, null], \"type\": \"scatter\", \"uid\": \"484b8140-cb6f-11e8-911b-509a4c0f1ffc\"}, {\"line\": {\"dash\": \"longdashdot\"}, \"name\": \"\\u603b\\u4e0b\\u5355\\u6570(\\u8d75\\u73a5)\", \"x\": [\"8-3\", \"8-4\", \"9-1\", \"9-2\", \"9-3\", \"9-4\"], \"y\": [6.0, 4.0, 6.0, 4.0, 12.0, 4.0], \"type\": \"scatter\", \"uid\": \"484b8141-cb6f-11e8-9bca-509a4c0f1ffc\"}, {\"line\": {\"dash\": \"solid\"}, \"name\": \"\\u603b\\u4e0b\\u5355\\u6570(\\u5360\\u4f1f)\", \"x\": [\"8-3\", \"8-4\", \"9-1\", \"9-2\", \"9-3\", \"9-4\"], \"y\": [4.0, 6.0, 7.0, 8.0, 7.0, 7.0], \"type\": \"scatter\", \"uid\": \"484b8142-cb6f-11e8-ad83-509a4c0f1ffc\"}, {\"line\": {\"dash\": \"dot\"}, \"name\": \"\\u603b\\u4e0b\\u5355\\u6570(\\u5468\\u6768)\", \"x\": [\"8-3\", \"8-4\", \"9-1\", \"9-2\", \"9-3\", \"9-4\"], \"y\": [2.0, 6.0, 4.0, 4.0, 7.0, 9.0], \"type\": \"scatter\", \"uid\": \"484b8143-cb6f-11e8-a436-509a4c0f1ffc\"}, {\"line\": {\"dash\": \"dash\"}, \"name\": \"\\u603b\\u4e0b\\u5355\\u6570(\\u8c22\\u5fb7\\u5065)\", \"x\": [\"8-3\", \"8-4\", \"9-1\", \"9-2\", \"9-3\", \"9-4\"], \"y\": [2.0, 4.0, null, 4.0, 5.0, 4.0], \"type\": \"scatter\", \"uid\": \"484b8144-cb6f-11e8-abd3-509a4c0f1ffc\"}, {\"line\": {\"dash\": \"longdash\"}, \"name\": \"\\u603b\\u4e0b\\u5355\\u6570(\\u8303\\u65ed\\u5b81)\", \"x\": [\"8-3\", \"8-4\", \"9-1\", \"9-2\", \"9-3\", \"9-4\"], \"y\": [4.0, 4.0, 5.0, 7.0, 5.0, 4.0], \"type\": \"scatter\", \"uid\": \"484b8145-cb6f-11e8-ad14-509a4c0f1ffc\"}, {\"line\": {\"dash\": \"dashdot\"}, \"name\": \"\\u603b\\u4e0b\\u5355\\u6570(\\u5b5f\\u660a)\", \"x\": [\"8-3\", \"8-4\", \"9-1\", \"9-2\", \"9-3\", \"9-4\"], \"y\": [4.0, 4.0, 2.0, 3.0, 5.0, 8.0], \"type\": \"scatter\", \"uid\": \"484b8146-cb6f-11e8-837f-509a4c0f1ffc\"}, {\"line\": {\"dash\": \"longdashdot\"}, \"name\": \"\\u603b\\u4e0b\\u5355\\u6570(\\u59da\\u76df\\u6210)\", \"x\": [\"8-3\", \"8-4\", \"9-1\", \"9-2\", \"9-3\", \"9-4\"], \"y\": [4.0, 4.0, 4.0, 5.0, 4.0, 7.0], \"type\": \"scatter\", \"uid\": \"484b8147-cb6f-11e8-9f71-509a4c0f1ffc\"}, {\"line\": {\"dash\": \"solid\"}, \"name\": \"\\u603b\\u4e0b\\u5355\\u6570(\\u5f20\\u5b88\\u4f1f)\", \"x\": [\"8-3\", \"8-4\", \"9-1\", \"9-2\", \"9-3\", \"9-4\"], \"y\": [4.0, 4.0, 4.0, 3.0, 4.0, 5.0], \"type\": \"scatter\", \"uid\": \"484b8148-cb6f-11e8-a50f-509a4c0f1ffc\"}, {\"line\": {\"dash\": \"dot\"}, \"name\": \"\\u603b\\u4e0b\\u5355\\u6570(\\u97e9\\u5c11\\u6000)\", \"x\": [\"8-3\", \"8-4\", \"9-1\", \"9-2\", \"9-3\", \"9-4\"], \"y\": [3.0, 4.0, 4.0, 5.0, 5.0, null], \"type\": \"scatter\", \"uid\": \"484b8149-cb6f-11e8-a493-509a4c0f1ffc\"}, {\"line\": {\"dash\": \"dash\"}, \"name\": \"\\u603b\\u4e0b\\u5355\\u6570(\\u674e\\u5e86\\u539f)\", \"x\": [\"8-3\", \"8-4\", \"9-1\", \"9-2\", \"9-3\", \"9-4\"], \"y\": [2.0, 5.0, 3.0, 3.0, 6.0, null], \"type\": \"scatter\", \"uid\": \"484b814a-cb6f-11e8-9e4a-509a4c0f1ffc\"}, {\"line\": {\"dash\": \"longdash\"}, \"name\": \"\\u603b\\u4e0b\\u5355\\u6570(\\u6bb5\\u5229\\u5f3a)\", \"x\": [\"8-3\", \"8-4\", \"9-1\", \"9-2\", \"9-3\", \"9-4\"], \"y\": [null, null, null, null, null, 6.0], \"type\": \"scatter\", \"uid\": \"484b814b-cb6f-11e8-a595-509a4c0f1ffc\"}, {\"line\": {\"dash\": \"dashdot\"}, \"name\": \"\\u603b\\u4e0b\\u5355\\u6570(\\u8def\\u6167\\u840d)\", \"x\": [\"8-3\", \"8-4\", \"9-1\", \"9-2\", \"9-3\", \"9-4\"], \"y\": [5.0, 8.0, 7.0, 5.0, 7.0, null], \"type\": \"scatter\", \"uid\": \"484b814c-cb6f-11e8-b34a-509a4c0f1ffc\"}, {\"line\": {\"dash\": \"longdashdot\"}, \"name\": \"\\u603b\\u4e0b\\u5355\\u6570(\\u738b\\u5b81)\", \"x\": [\"8-3\", \"8-4\", \"9-1\", \"9-2\", \"9-3\", \"9-4\"], \"y\": [6.0, 6.0, 6.0, null, null, null], \"type\": \"scatter\", \"uid\": \"484b814d-cb6f-11e8-bc71-509a4c0f1ffc\"}, {\"line\": {\"dash\": \"solid\"}, \"name\": \"\\u5b8c\\u6210\\u4e0b\\u5355\\u6570(\\u4e8e\\u6167)\", \"x\": [\"8-3\", \"8-4\", \"9-1\", \"9-2\", \"9-3\", \"9-4\"], \"y\": [0.0, 7.0, 1.0, 3.0, 7.0, 5.0], \"type\": \"scatter\", \"uid\": \"484b814e-cb6f-11e8-92d1-509a4c0f1ffc\"}, {\"line\": {\"dash\": \"dot\"}, \"name\": \"\\u5b8c\\u6210\\u4e0b\\u5355\\u6570(\\u5c01\\u5f66\\u6770)\", \"x\": [\"8-3\", \"8-4\", \"9-1\", \"9-2\", \"9-3\", \"9-4\"], \"y\": [9.0, 6.0, 5.0, 3.0, 8.0, 7.0], \"type\": \"scatter\", \"uid\": \"484b814f-cb6f-11e8-9be9-509a4c0f1ffc\"}, {\"line\": {\"dash\": \"dash\"}, \"name\": \"\\u5b8c\\u6210\\u4e0b\\u5355\\u6570(\\u5218\\u6c5f)\", \"x\": [\"8-3\", \"8-4\", \"9-1\", \"9-2\", \"9-3\", \"9-4\"], \"y\": [4.0, 10.0, 7.0, 7.0, 5.0, 6.0], \"type\": \"scatter\", \"uid\": \"484b8150-cb6f-11e8-87ac-509a4c0f1ffc\"}, {\"line\": {\"dash\": \"longdash\"}, \"name\": \"\\u5b8c\\u6210\\u4e0b\\u5355\\u6570(\\u6768\\u4f1f\\u98de)\", \"x\": [\"8-3\", \"8-4\", \"9-1\", \"9-2\", \"9-3\", \"9-4\"], \"y\": [1.0, 5.0, 8.0, 5.0, 7.0, 6.0], \"type\": \"scatter\", \"uid\": \"484b8151-cb6f-11e8-85fd-509a4c0f1ffc\"}, {\"line\": {\"dash\": \"dashdot\"}, \"name\": \"\\u5b8c\\u6210\\u4e0b\\u5355\\u6570(\\u82cf\\u5f66\\u52cb)\", \"x\": [\"8-3\", \"8-4\", \"9-1\", \"9-2\", \"9-3\", \"9-4\"], \"y\": [4.0, 6.0, 5.0, 5.0, 9.0, null], \"type\": \"scatter\", \"uid\": \"484b8152-cb6f-11e8-859f-509a4c0f1ffc\"}, {\"line\": {\"dash\": \"longdashdot\"}, \"name\": \"\\u5b8c\\u6210\\u4e0b\\u5355\\u6570(\\u674e\\u534e\\u4e91)\", \"x\": [\"8-3\", \"8-4\", \"9-1\", \"9-2\", \"9-3\", \"9-4\"], \"y\": [4.0, 3.0, 4.0, 5.0, 5.0, null], \"type\": \"scatter\", \"uid\": \"484b8153-cb6f-11e8-a563-509a4c0f1ffc\"}, {\"line\": {\"dash\": \"solid\"}, \"name\": \"\\u5b8c\\u6210\\u4e0b\\u5355\\u6570(\\u4efb\\u96ea)\", \"x\": [\"8-3\", \"8-4\", \"9-1\", \"9-2\", \"9-3\", \"9-4\"], \"y\": [null, 2.0, 3.0, 4.0, 0.0, 4.0], \"type\": \"scatter\", \"uid\": \"484b8154-cb6f-11e8-8a8e-509a4c0f1ffc\"}, {\"line\": {\"dash\": \"dot\"}, \"name\": \"\\u5b8c\\u6210\\u4e0b\\u5355\\u6570(\\u9a6c\\u6f47)\", \"x\": [\"8-3\", \"8-4\", \"9-1\", \"9-2\", \"9-3\", \"9-4\"], \"y\": [3.0, 3.0, 4.0, 5.0, 5.0, 0.0], \"type\": \"scatter\", \"uid\": \"484b8155-cb6f-11e8-8dac-509a4c0f1ffc\"}, {\"line\": {\"dash\": \"dash\"}, \"name\": \"\\u5b8c\\u6210\\u4e0b\\u5355\\u6570(\\u5b8b\\u8fce\\u6960)\", \"x\": [\"8-3\", \"8-4\", \"9-1\", \"9-2\", \"9-3\", \"9-4\"], \"y\": [4.0, 3.0, 4.0, null, null, null], \"type\": \"scatter\", \"uid\": \"484b8156-cb6f-11e8-bd37-509a4c0f1ffc\"}, {\"line\": {\"dash\": \"longdash\"}, \"name\": \"\\u5b8c\\u6210\\u4e0b\\u5355\\u6570(\\u4e8e\\u52c7\\u4e00)\", \"x\": [\"8-3\", \"8-4\", \"9-1\", \"9-2\", \"9-3\", \"9-4\"], \"y\": [3.0, 2.0, 4.0, 2.0, 7.0, 7.0], \"type\": \"scatter\", \"uid\": \"484b8157-cb6f-11e8-b646-509a4c0f1ffc\"}, {\"line\": {\"dash\": \"dashdot\"}, \"name\": \"\\u5b8c\\u6210\\u4e0b\\u5355\\u6570(\\u5218\\u6167\\u73b2)\", \"x\": [\"8-3\", \"8-4\", \"9-1\", \"9-2\", \"9-3\", \"9-4\"], \"y\": [3.0, 3.0, 4.0, null, null, null], \"type\": \"scatter\", \"uid\": \"484b8158-cb6f-11e8-b7a5-509a4c0f1ffc\"}, {\"line\": {\"dash\": \"longdashdot\"}, \"name\": \"\\u5b8c\\u6210\\u4e0b\\u5355\\u6570(\\u8d75\\u73a5)\", \"x\": [\"8-3\", \"8-4\", \"9-1\", \"9-2\", \"9-3\", \"9-4\"], \"y\": [6.0, 4.0, 4.0, 4.0, 11.0, 4.0], \"type\": \"scatter\", \"uid\": \"484b8159-cb6f-11e8-bf10-509a4c0f1ffc\"}, {\"line\": {\"dash\": \"solid\"}, \"name\": \"\\u5b8c\\u6210\\u4e0b\\u5355\\u6570(\\u5360\\u4f1f)\", \"x\": [\"8-3\", \"8-4\", \"9-1\", \"9-2\", \"9-3\", \"9-4\"], \"y\": [2.0, 3.0, 7.0, 8.0, 5.0, 6.0], \"type\": \"scatter\", \"uid\": \"484b815a-cb6f-11e8-95e3-509a4c0f1ffc\"}, {\"line\": {\"dash\": \"dot\"}, \"name\": \"\\u5b8c\\u6210\\u4e0b\\u5355\\u6570(\\u5468\\u6768)\", \"x\": [\"8-3\", \"8-4\", \"9-1\", \"9-2\", \"9-3\", \"9-4\"], \"y\": [2.0, 5.0, 4.0, 4.0, 7.0, 9.0], \"type\": \"scatter\", \"uid\": \"484b815b-cb6f-11e8-9e6a-509a4c0f1ffc\"}, {\"line\": {\"dash\": \"dash\"}, \"name\": \"\\u5b8c\\u6210\\u4e0b\\u5355\\u6570(\\u8c22\\u5fb7\\u5065)\", \"x\": [\"8-3\", \"8-4\", \"9-1\", \"9-2\", \"9-3\", \"9-4\"], \"y\": [1.0, 4.0, null, 3.0, 5.0, 4.0], \"type\": \"scatter\", \"uid\": \"484b815c-cb6f-11e8-b8f0-509a4c0f1ffc\"}, {\"line\": {\"dash\": \"longdash\"}, \"name\": \"\\u5b8c\\u6210\\u4e0b\\u5355\\u6570(\\u8303\\u65ed\\u5b81)\", \"x\": [\"8-3\", \"8-4\", \"9-1\", \"9-2\", \"9-3\", \"9-4\"], \"y\": [3.0, 3.0, 4.0, 7.0, 5.0, 3.0], \"type\": \"scatter\", \"uid\": \"484b815d-cb6f-11e8-8ae3-509a4c0f1ffc\"}, {\"line\": {\"dash\": \"dashdot\"}, \"name\": \"\\u5b8c\\u6210\\u4e0b\\u5355\\u6570(\\u5b5f\\u660a)\", \"x\": [\"8-3\", \"8-4\", \"9-1\", \"9-2\", \"9-3\", \"9-4\"], \"y\": [4.0, 4.0, 2.0, 2.0, 5.0, 8.0], \"type\": \"scatter\", \"uid\": \"484b815e-cb6f-11e8-9361-509a4c0f1ffc\"}, {\"line\": {\"dash\": \"longdashdot\"}, \"name\": \"\\u5b8c\\u6210\\u4e0b\\u5355\\u6570(\\u59da\\u76df\\u6210)\", \"x\": [\"8-3\", \"8-4\", \"9-1\", \"9-2\", \"9-3\", \"9-4\"], \"y\": [4.0, 3.0, 4.0, 5.0, 4.0, 7.0], \"type\": \"scatter\", \"uid\": \"484b815f-cb6f-11e8-b5d7-509a4c0f1ffc\"}, {\"line\": {\"dash\": \"solid\"}, \"name\": \"\\u5b8c\\u6210\\u4e0b\\u5355\\u6570(\\u5f20\\u5b88\\u4f1f)\", \"x\": [\"8-3\", \"8-4\", \"9-1\", \"9-2\", \"9-3\", \"9-4\"], \"y\": [3.0, 4.0, 3.0, 3.0, 3.0, 4.0], \"type\": \"scatter\", \"uid\": \"484b8160-cb6f-11e8-a1d3-509a4c0f1ffc\"}, {\"line\": {\"dash\": \"dot\"}, \"name\": \"\\u5b8c\\u6210\\u4e0b\\u5355\\u6570(\\u97e9\\u5c11\\u6000)\", \"x\": [\"8-3\", \"8-4\", \"9-1\", \"9-2\", \"9-3\", \"9-4\"], \"y\": [3.0, 4.0, 4.0, 5.0, 5.0, null], \"type\": \"scatter\", \"uid\": \"484b8161-cb6f-11e8-b8e4-509a4c0f1ffc\"}, {\"line\": {\"dash\": \"dash\"}, \"name\": \"\\u5b8c\\u6210\\u4e0b\\u5355\\u6570(\\u674e\\u5e86\\u539f)\", \"x\": [\"8-3\", \"8-4\", \"9-1\", \"9-2\", \"9-3\", \"9-4\"], \"y\": [2.0, 5.0, 3.0, 3.0, 6.0, null], \"type\": \"scatter\", \"uid\": \"484b8162-cb6f-11e8-8460-509a4c0f1ffc\"}, {\"line\": {\"dash\": \"longdash\"}, \"name\": \"\\u5b8c\\u6210\\u4e0b\\u5355\\u6570(\\u6bb5\\u5229\\u5f3a)\", \"x\": [\"8-3\", \"8-4\", \"9-1\", \"9-2\", \"9-3\", \"9-4\"], \"y\": [null, null, null, null, null, 6.0], \"type\": \"scatter\", \"uid\": \"484b8163-cb6f-11e8-a334-509a4c0f1ffc\"}, {\"line\": {\"dash\": \"dashdot\"}, \"name\": \"\\u5b8c\\u6210\\u4e0b\\u5355\\u6570(\\u8def\\u6167\\u840d)\", \"x\": [\"8-3\", \"8-4\", \"9-1\", \"9-2\", \"9-3\", \"9-4\"], \"y\": [5.0, 8.0, 6.0, 5.0, 5.0, null], \"type\": \"scatter\", \"uid\": \"484b8164-cb6f-11e8-a42a-509a4c0f1ffc\"}, {\"line\": {\"dash\": \"longdashdot\"}, \"name\": \"\\u5b8c\\u6210\\u4e0b\\u5355\\u6570(\\u738b\\u5b81)\", \"x\": [\"8-3\", \"8-4\", \"9-1\", \"9-2\", \"9-3\", \"9-4\"], \"y\": [6.0, 6.0, 7.0, null, null, null], \"type\": \"scatter\", \"uid\": \"484b8165-cb6f-11e8-bae0-509a4c0f1ffc\"}],\n",
       "            {\"title\": \"\\u603b\\u4e0b\\u5355\\u6570&\\u5b8c\\u6210\\u4e0b\\u5355\\u6570\\u5468\\u8d8b\\u52bf\\u56fe\", \"xaxis\": {\"mirror\": \"all\", \"nticks\": 20, \"showgrid\": true, \"showline\": true, \"title\": \"\\u5468\", \"zeroline\": true}, \"yaxis\": {\"mirror\": \"all\", \"nticks\": 20, \"showgrid\": true, \"showline\": true, \"title\": \"\\u603b\\u4e0b\\u5355\\u6570&\\u5b8c\\u6210\\u4e0b\\u5355\\u6570\", \"zeroline\": true}},\n",
       "            {\"showLink\": true, \"linkText\": \"Export to plot.ly\"}\n",
       "        ).then(function () {return Plotly.addFrames('17114160-e956-4193-8006-0447e4e95525',{});}).then(function(){Plotly.animate('17114160-e956-4193-8006-0447e4e95525');})\n",
       "        });</script>"
      ],
      "text/vnd.plotly.v1+html": [
       "<div id=\"17114160-e956-4193-8006-0447e4e95525\" style=\"height: 525px; width: 100%;\" class=\"plotly-graph-div\"></div><script type=\"text/javascript\">require([\"plotly\"], function(Plotly) { window.PLOTLYENV=window.PLOTLYENV || {};window.PLOTLYENV.BASE_URL=\"https://plot.ly\";\n",
       "        Plotly.plot(\n",
       "            '17114160-e956-4193-8006-0447e4e95525',\n",
       "            [{\"line\": {\"dash\": \"solid\"}, \"name\": \"\\u603b\\u4e0b\\u5355\\u6570(\\u4e8e\\u6167)\", \"x\": [\"8-3\", \"8-4\", \"9-1\", \"9-2\", \"9-3\", \"9-4\"], \"y\": [0.0, 7.0, 2.0, 3.0, 7.0, 6.0], \"type\": \"scatter\", \"uid\": \"484b5a2e-cb6f-11e8-ad96-509a4c0f1ffc\"}, {\"line\": {\"dash\": \"dot\"}, \"name\": \"\\u603b\\u4e0b\\u5355\\u6570(\\u5c01\\u5f66\\u6770)\", \"x\": [\"8-3\", \"8-4\", \"9-1\", \"9-2\", \"9-3\", \"9-4\"], \"y\": [9.0, 6.0, 5.0, 4.0, 8.0, 7.0], \"type\": \"scatter\", \"uid\": \"484b5a2f-cb6f-11e8-8f5b-509a4c0f1ffc\"}, {\"line\": {\"dash\": \"dash\"}, \"name\": \"\\u603b\\u4e0b\\u5355\\u6570(\\u5218\\u6c5f)\", \"x\": [\"8-3\", \"8-4\", \"9-1\", \"9-2\", \"9-3\", \"9-4\"], \"y\": [7.0, 8.0, 7.0, 8.0, 5.0, 6.0], \"type\": \"scatter\", \"uid\": \"484b5a30-cb6f-11e8-b0a4-509a4c0f1ffc\"}, {\"line\": {\"dash\": \"longdash\"}, \"name\": \"\\u603b\\u4e0b\\u5355\\u6570(\\u6768\\u4f1f\\u98de)\", \"x\": [\"8-3\", \"8-4\", \"9-1\", \"9-2\", \"9-3\", \"9-4\"], \"y\": [3.0, 6.0, 4.0, 6.0, 7.0, 6.0], \"type\": \"scatter\", \"uid\": \"484b5a31-cb6f-11e8-acef-509a4c0f1ffc\"}, {\"line\": {\"dash\": \"dashdot\"}, \"name\": \"\\u603b\\u4e0b\\u5355\\u6570(\\u82cf\\u5f66\\u52cb)\", \"x\": [\"8-3\", \"8-4\", \"9-1\", \"9-2\", \"9-3\", \"9-4\"], \"y\": [4.0, 6.0, 5.0, 6.0, 9.0, null], \"type\": \"scatter\", \"uid\": \"484b5a32-cb6f-11e8-8527-509a4c0f1ffc\"}, {\"line\": {\"dash\": \"longdashdot\"}, \"name\": \"\\u603b\\u4e0b\\u5355\\u6570(\\u674e\\u534e\\u4e91)\", \"x\": [\"8-3\", \"8-4\", \"9-1\", \"9-2\", \"9-3\", \"9-4\"], \"y\": [5.0, 3.0, 5.0, 5.0, 5.0, null], \"type\": \"scatter\", \"uid\": \"484b5a33-cb6f-11e8-aac4-509a4c0f1ffc\"}, {\"line\": {\"dash\": \"solid\"}, \"name\": \"\\u603b\\u4e0b\\u5355\\u6570(\\u4efb\\u96ea)\", \"x\": [\"8-3\", \"8-4\", \"9-1\", \"9-2\", \"9-3\", \"9-4\"], \"y\": [null, 2.0, 4.0, 5.0, 2.0, 5.0], \"type\": \"scatter\", \"uid\": \"484b5a34-cb6f-11e8-9939-509a4c0f1ffc\"}, {\"line\": {\"dash\": \"dot\"}, \"name\": \"\\u603b\\u4e0b\\u5355\\u6570(\\u9a6c\\u6f47)\", \"x\": [\"8-3\", \"8-4\", \"9-1\", \"9-2\", \"9-3\", \"9-4\"], \"y\": [5.0, 3.0, 4.0, 5.0, 6.0, 0.0], \"type\": \"scatter\", \"uid\": \"484b5a35-cb6f-11e8-9589-509a4c0f1ffc\"}, {\"line\": {\"dash\": \"dash\"}, \"name\": \"\\u603b\\u4e0b\\u5355\\u6570(\\u5b8b\\u8fce\\u6960)\", \"x\": [\"8-3\", \"8-4\", \"9-1\", \"9-2\", \"9-3\", \"9-4\"], \"y\": [4.0, 3.0, 4.0, null, null, null], \"type\": \"scatter\", \"uid\": \"484b5a36-cb6f-11e8-b25c-509a4c0f1ffc\"}, {\"line\": {\"dash\": \"longdash\"}, \"name\": \"\\u603b\\u4e0b\\u5355\\u6570(\\u4e8e\\u52c7\\u4e00)\", \"x\": [\"8-3\", \"8-4\", \"9-1\", \"9-2\", \"9-3\", \"9-4\"], \"y\": [3.0, 4.0, 5.0, 4.0, 6.0, 5.0], \"type\": \"scatter\", \"uid\": \"484b5a37-cb6f-11e8-86ca-509a4c0f1ffc\"}, {\"line\": {\"dash\": \"dashdot\"}, \"name\": \"\\u603b\\u4e0b\\u5355\\u6570(\\u5218\\u6167\\u73b2)\", \"x\": [\"8-3\", \"8-4\", \"9-1\", \"9-2\", \"9-3\", \"9-4\"], \"y\": [4.0, 4.0, 5.0, null, null, null], \"type\": \"scatter\", \"uid\": \"484b8140-cb6f-11e8-911b-509a4c0f1ffc\"}, {\"line\": {\"dash\": \"longdashdot\"}, \"name\": \"\\u603b\\u4e0b\\u5355\\u6570(\\u8d75\\u73a5)\", \"x\": [\"8-3\", \"8-4\", \"9-1\", \"9-2\", \"9-3\", \"9-4\"], \"y\": [6.0, 4.0, 6.0, 4.0, 12.0, 4.0], \"type\": \"scatter\", \"uid\": \"484b8141-cb6f-11e8-9bca-509a4c0f1ffc\"}, {\"line\": {\"dash\": \"solid\"}, \"name\": \"\\u603b\\u4e0b\\u5355\\u6570(\\u5360\\u4f1f)\", \"x\": [\"8-3\", \"8-4\", \"9-1\", \"9-2\", \"9-3\", \"9-4\"], \"y\": [4.0, 6.0, 7.0, 8.0, 7.0, 7.0], \"type\": \"scatter\", \"uid\": \"484b8142-cb6f-11e8-ad83-509a4c0f1ffc\"}, {\"line\": {\"dash\": \"dot\"}, \"name\": \"\\u603b\\u4e0b\\u5355\\u6570(\\u5468\\u6768)\", \"x\": [\"8-3\", \"8-4\", \"9-1\", \"9-2\", \"9-3\", \"9-4\"], \"y\": [2.0, 6.0, 4.0, 4.0, 7.0, 9.0], \"type\": \"scatter\", \"uid\": \"484b8143-cb6f-11e8-a436-509a4c0f1ffc\"}, {\"line\": {\"dash\": \"dash\"}, \"name\": \"\\u603b\\u4e0b\\u5355\\u6570(\\u8c22\\u5fb7\\u5065)\", \"x\": [\"8-3\", \"8-4\", \"9-1\", \"9-2\", \"9-3\", \"9-4\"], \"y\": [2.0, 4.0, null, 4.0, 5.0, 4.0], \"type\": \"scatter\", \"uid\": \"484b8144-cb6f-11e8-abd3-509a4c0f1ffc\"}, {\"line\": {\"dash\": \"longdash\"}, \"name\": \"\\u603b\\u4e0b\\u5355\\u6570(\\u8303\\u65ed\\u5b81)\", \"x\": [\"8-3\", \"8-4\", \"9-1\", \"9-2\", \"9-3\", \"9-4\"], \"y\": [4.0, 4.0, 5.0, 7.0, 5.0, 4.0], \"type\": \"scatter\", \"uid\": \"484b8145-cb6f-11e8-ad14-509a4c0f1ffc\"}, {\"line\": {\"dash\": \"dashdot\"}, \"name\": \"\\u603b\\u4e0b\\u5355\\u6570(\\u5b5f\\u660a)\", \"x\": [\"8-3\", \"8-4\", \"9-1\", \"9-2\", \"9-3\", \"9-4\"], \"y\": [4.0, 4.0, 2.0, 3.0, 5.0, 8.0], \"type\": \"scatter\", \"uid\": \"484b8146-cb6f-11e8-837f-509a4c0f1ffc\"}, {\"line\": {\"dash\": \"longdashdot\"}, \"name\": \"\\u603b\\u4e0b\\u5355\\u6570(\\u59da\\u76df\\u6210)\", \"x\": [\"8-3\", \"8-4\", \"9-1\", \"9-2\", \"9-3\", \"9-4\"], \"y\": [4.0, 4.0, 4.0, 5.0, 4.0, 7.0], \"type\": \"scatter\", \"uid\": \"484b8147-cb6f-11e8-9f71-509a4c0f1ffc\"}, {\"line\": {\"dash\": \"solid\"}, \"name\": \"\\u603b\\u4e0b\\u5355\\u6570(\\u5f20\\u5b88\\u4f1f)\", \"x\": [\"8-3\", \"8-4\", \"9-1\", \"9-2\", \"9-3\", \"9-4\"], \"y\": [4.0, 4.0, 4.0, 3.0, 4.0, 5.0], \"type\": \"scatter\", \"uid\": \"484b8148-cb6f-11e8-a50f-509a4c0f1ffc\"}, {\"line\": {\"dash\": \"dot\"}, \"name\": \"\\u603b\\u4e0b\\u5355\\u6570(\\u97e9\\u5c11\\u6000)\", \"x\": [\"8-3\", \"8-4\", \"9-1\", \"9-2\", \"9-3\", \"9-4\"], \"y\": [3.0, 4.0, 4.0, 5.0, 5.0, null], \"type\": \"scatter\", \"uid\": \"484b8149-cb6f-11e8-a493-509a4c0f1ffc\"}, {\"line\": {\"dash\": \"dash\"}, \"name\": \"\\u603b\\u4e0b\\u5355\\u6570(\\u674e\\u5e86\\u539f)\", \"x\": [\"8-3\", \"8-4\", \"9-1\", \"9-2\", \"9-3\", \"9-4\"], \"y\": [2.0, 5.0, 3.0, 3.0, 6.0, null], \"type\": \"scatter\", \"uid\": \"484b814a-cb6f-11e8-9e4a-509a4c0f1ffc\"}, {\"line\": {\"dash\": \"longdash\"}, \"name\": \"\\u603b\\u4e0b\\u5355\\u6570(\\u6bb5\\u5229\\u5f3a)\", \"x\": [\"8-3\", \"8-4\", \"9-1\", \"9-2\", \"9-3\", \"9-4\"], \"y\": [null, null, null, null, null, 6.0], \"type\": \"scatter\", \"uid\": \"484b814b-cb6f-11e8-a595-509a4c0f1ffc\"}, {\"line\": {\"dash\": \"dashdot\"}, \"name\": \"\\u603b\\u4e0b\\u5355\\u6570(\\u8def\\u6167\\u840d)\", \"x\": [\"8-3\", \"8-4\", \"9-1\", \"9-2\", \"9-3\", \"9-4\"], \"y\": [5.0, 8.0, 7.0, 5.0, 7.0, null], \"type\": \"scatter\", \"uid\": \"484b814c-cb6f-11e8-b34a-509a4c0f1ffc\"}, {\"line\": {\"dash\": \"longdashdot\"}, \"name\": \"\\u603b\\u4e0b\\u5355\\u6570(\\u738b\\u5b81)\", \"x\": [\"8-3\", \"8-4\", \"9-1\", \"9-2\", \"9-3\", \"9-4\"], \"y\": [6.0, 6.0, 6.0, null, null, null], \"type\": \"scatter\", \"uid\": \"484b814d-cb6f-11e8-bc71-509a4c0f1ffc\"}, {\"line\": {\"dash\": \"solid\"}, \"name\": \"\\u5b8c\\u6210\\u4e0b\\u5355\\u6570(\\u4e8e\\u6167)\", \"x\": [\"8-3\", \"8-4\", \"9-1\", \"9-2\", \"9-3\", \"9-4\"], \"y\": [0.0, 7.0, 1.0, 3.0, 7.0, 5.0], \"type\": \"scatter\", \"uid\": \"484b814e-cb6f-11e8-92d1-509a4c0f1ffc\"}, {\"line\": {\"dash\": \"dot\"}, \"name\": \"\\u5b8c\\u6210\\u4e0b\\u5355\\u6570(\\u5c01\\u5f66\\u6770)\", \"x\": [\"8-3\", \"8-4\", \"9-1\", \"9-2\", \"9-3\", \"9-4\"], \"y\": [9.0, 6.0, 5.0, 3.0, 8.0, 7.0], \"type\": \"scatter\", \"uid\": \"484b814f-cb6f-11e8-9be9-509a4c0f1ffc\"}, {\"line\": {\"dash\": \"dash\"}, \"name\": \"\\u5b8c\\u6210\\u4e0b\\u5355\\u6570(\\u5218\\u6c5f)\", \"x\": [\"8-3\", \"8-4\", \"9-1\", \"9-2\", \"9-3\", \"9-4\"], \"y\": [4.0, 10.0, 7.0, 7.0, 5.0, 6.0], \"type\": \"scatter\", \"uid\": \"484b8150-cb6f-11e8-87ac-509a4c0f1ffc\"}, {\"line\": {\"dash\": \"longdash\"}, \"name\": \"\\u5b8c\\u6210\\u4e0b\\u5355\\u6570(\\u6768\\u4f1f\\u98de)\", \"x\": [\"8-3\", \"8-4\", \"9-1\", \"9-2\", \"9-3\", \"9-4\"], \"y\": [1.0, 5.0, 8.0, 5.0, 7.0, 6.0], \"type\": \"scatter\", \"uid\": \"484b8151-cb6f-11e8-85fd-509a4c0f1ffc\"}, {\"line\": {\"dash\": \"dashdot\"}, \"name\": \"\\u5b8c\\u6210\\u4e0b\\u5355\\u6570(\\u82cf\\u5f66\\u52cb)\", \"x\": [\"8-3\", \"8-4\", \"9-1\", \"9-2\", \"9-3\", \"9-4\"], \"y\": [4.0, 6.0, 5.0, 5.0, 9.0, null], \"type\": \"scatter\", \"uid\": \"484b8152-cb6f-11e8-859f-509a4c0f1ffc\"}, {\"line\": {\"dash\": \"longdashdot\"}, \"name\": \"\\u5b8c\\u6210\\u4e0b\\u5355\\u6570(\\u674e\\u534e\\u4e91)\", \"x\": [\"8-3\", \"8-4\", \"9-1\", \"9-2\", \"9-3\", \"9-4\"], \"y\": [4.0, 3.0, 4.0, 5.0, 5.0, null], \"type\": \"scatter\", \"uid\": \"484b8153-cb6f-11e8-a563-509a4c0f1ffc\"}, {\"line\": {\"dash\": \"solid\"}, \"name\": \"\\u5b8c\\u6210\\u4e0b\\u5355\\u6570(\\u4efb\\u96ea)\", \"x\": [\"8-3\", \"8-4\", \"9-1\", \"9-2\", \"9-3\", \"9-4\"], \"y\": [null, 2.0, 3.0, 4.0, 0.0, 4.0], \"type\": \"scatter\", \"uid\": \"484b8154-cb6f-11e8-8a8e-509a4c0f1ffc\"}, {\"line\": {\"dash\": \"dot\"}, \"name\": \"\\u5b8c\\u6210\\u4e0b\\u5355\\u6570(\\u9a6c\\u6f47)\", \"x\": [\"8-3\", \"8-4\", \"9-1\", \"9-2\", \"9-3\", \"9-4\"], \"y\": [3.0, 3.0, 4.0, 5.0, 5.0, 0.0], \"type\": \"scatter\", \"uid\": \"484b8155-cb6f-11e8-8dac-509a4c0f1ffc\"}, {\"line\": {\"dash\": \"dash\"}, \"name\": \"\\u5b8c\\u6210\\u4e0b\\u5355\\u6570(\\u5b8b\\u8fce\\u6960)\", \"x\": [\"8-3\", \"8-4\", \"9-1\", \"9-2\", \"9-3\", \"9-4\"], \"y\": [4.0, 3.0, 4.0, null, null, null], \"type\": \"scatter\", \"uid\": \"484b8156-cb6f-11e8-bd37-509a4c0f1ffc\"}, {\"line\": {\"dash\": \"longdash\"}, \"name\": \"\\u5b8c\\u6210\\u4e0b\\u5355\\u6570(\\u4e8e\\u52c7\\u4e00)\", \"x\": [\"8-3\", \"8-4\", \"9-1\", \"9-2\", \"9-3\", \"9-4\"], \"y\": [3.0, 2.0, 4.0, 2.0, 7.0, 7.0], \"type\": \"scatter\", \"uid\": \"484b8157-cb6f-11e8-b646-509a4c0f1ffc\"}, {\"line\": {\"dash\": \"dashdot\"}, \"name\": \"\\u5b8c\\u6210\\u4e0b\\u5355\\u6570(\\u5218\\u6167\\u73b2)\", \"x\": [\"8-3\", \"8-4\", \"9-1\", \"9-2\", \"9-3\", \"9-4\"], \"y\": [3.0, 3.0, 4.0, null, null, null], \"type\": \"scatter\", \"uid\": \"484b8158-cb6f-11e8-b7a5-509a4c0f1ffc\"}, {\"line\": {\"dash\": \"longdashdot\"}, \"name\": \"\\u5b8c\\u6210\\u4e0b\\u5355\\u6570(\\u8d75\\u73a5)\", \"x\": [\"8-3\", \"8-4\", \"9-1\", \"9-2\", \"9-3\", \"9-4\"], \"y\": [6.0, 4.0, 4.0, 4.0, 11.0, 4.0], \"type\": \"scatter\", \"uid\": \"484b8159-cb6f-11e8-bf10-509a4c0f1ffc\"}, {\"line\": {\"dash\": \"solid\"}, \"name\": \"\\u5b8c\\u6210\\u4e0b\\u5355\\u6570(\\u5360\\u4f1f)\", \"x\": [\"8-3\", \"8-4\", \"9-1\", \"9-2\", \"9-3\", \"9-4\"], \"y\": [2.0, 3.0, 7.0, 8.0, 5.0, 6.0], \"type\": \"scatter\", \"uid\": \"484b815a-cb6f-11e8-95e3-509a4c0f1ffc\"}, {\"line\": {\"dash\": \"dot\"}, \"name\": \"\\u5b8c\\u6210\\u4e0b\\u5355\\u6570(\\u5468\\u6768)\", \"x\": [\"8-3\", \"8-4\", \"9-1\", \"9-2\", \"9-3\", \"9-4\"], \"y\": [2.0, 5.0, 4.0, 4.0, 7.0, 9.0], \"type\": \"scatter\", \"uid\": \"484b815b-cb6f-11e8-9e6a-509a4c0f1ffc\"}, {\"line\": {\"dash\": \"dash\"}, \"name\": \"\\u5b8c\\u6210\\u4e0b\\u5355\\u6570(\\u8c22\\u5fb7\\u5065)\", \"x\": [\"8-3\", \"8-4\", \"9-1\", \"9-2\", \"9-3\", \"9-4\"], \"y\": [1.0, 4.0, null, 3.0, 5.0, 4.0], \"type\": \"scatter\", \"uid\": \"484b815c-cb6f-11e8-b8f0-509a4c0f1ffc\"}, {\"line\": {\"dash\": \"longdash\"}, \"name\": \"\\u5b8c\\u6210\\u4e0b\\u5355\\u6570(\\u8303\\u65ed\\u5b81)\", \"x\": [\"8-3\", \"8-4\", \"9-1\", \"9-2\", \"9-3\", \"9-4\"], \"y\": [3.0, 3.0, 4.0, 7.0, 5.0, 3.0], \"type\": \"scatter\", \"uid\": \"484b815d-cb6f-11e8-8ae3-509a4c0f1ffc\"}, {\"line\": {\"dash\": \"dashdot\"}, \"name\": \"\\u5b8c\\u6210\\u4e0b\\u5355\\u6570(\\u5b5f\\u660a)\", \"x\": [\"8-3\", \"8-4\", \"9-1\", \"9-2\", \"9-3\", \"9-4\"], \"y\": [4.0, 4.0, 2.0, 2.0, 5.0, 8.0], \"type\": \"scatter\", \"uid\": \"484b815e-cb6f-11e8-9361-509a4c0f1ffc\"}, {\"line\": {\"dash\": \"longdashdot\"}, \"name\": \"\\u5b8c\\u6210\\u4e0b\\u5355\\u6570(\\u59da\\u76df\\u6210)\", \"x\": [\"8-3\", \"8-4\", \"9-1\", \"9-2\", \"9-3\", \"9-4\"], \"y\": [4.0, 3.0, 4.0, 5.0, 4.0, 7.0], \"type\": \"scatter\", \"uid\": \"484b815f-cb6f-11e8-b5d7-509a4c0f1ffc\"}, {\"line\": {\"dash\": \"solid\"}, \"name\": \"\\u5b8c\\u6210\\u4e0b\\u5355\\u6570(\\u5f20\\u5b88\\u4f1f)\", \"x\": [\"8-3\", \"8-4\", \"9-1\", \"9-2\", \"9-3\", \"9-4\"], \"y\": [3.0, 4.0, 3.0, 3.0, 3.0, 4.0], \"type\": \"scatter\", \"uid\": \"484b8160-cb6f-11e8-a1d3-509a4c0f1ffc\"}, {\"line\": {\"dash\": \"dot\"}, \"name\": \"\\u5b8c\\u6210\\u4e0b\\u5355\\u6570(\\u97e9\\u5c11\\u6000)\", \"x\": [\"8-3\", \"8-4\", \"9-1\", \"9-2\", \"9-3\", \"9-4\"], \"y\": [3.0, 4.0, 4.0, 5.0, 5.0, null], \"type\": \"scatter\", \"uid\": \"484b8161-cb6f-11e8-b8e4-509a4c0f1ffc\"}, {\"line\": {\"dash\": \"dash\"}, \"name\": \"\\u5b8c\\u6210\\u4e0b\\u5355\\u6570(\\u674e\\u5e86\\u539f)\", \"x\": [\"8-3\", \"8-4\", \"9-1\", \"9-2\", \"9-3\", \"9-4\"], \"y\": [2.0, 5.0, 3.0, 3.0, 6.0, null], \"type\": \"scatter\", \"uid\": \"484b8162-cb6f-11e8-8460-509a4c0f1ffc\"}, {\"line\": {\"dash\": \"longdash\"}, \"name\": \"\\u5b8c\\u6210\\u4e0b\\u5355\\u6570(\\u6bb5\\u5229\\u5f3a)\", \"x\": [\"8-3\", \"8-4\", \"9-1\", \"9-2\", \"9-3\", \"9-4\"], \"y\": [null, null, null, null, null, 6.0], \"type\": \"scatter\", \"uid\": \"484b8163-cb6f-11e8-a334-509a4c0f1ffc\"}, {\"line\": {\"dash\": \"dashdot\"}, \"name\": \"\\u5b8c\\u6210\\u4e0b\\u5355\\u6570(\\u8def\\u6167\\u840d)\", \"x\": [\"8-3\", \"8-4\", \"9-1\", \"9-2\", \"9-3\", \"9-4\"], \"y\": [5.0, 8.0, 6.0, 5.0, 5.0, null], \"type\": \"scatter\", \"uid\": \"484b8164-cb6f-11e8-a42a-509a4c0f1ffc\"}, {\"line\": {\"dash\": \"longdashdot\"}, \"name\": \"\\u5b8c\\u6210\\u4e0b\\u5355\\u6570(\\u738b\\u5b81)\", \"x\": [\"8-3\", \"8-4\", \"9-1\", \"9-2\", \"9-3\", \"9-4\"], \"y\": [6.0, 6.0, 7.0, null, null, null], \"type\": \"scatter\", \"uid\": \"484b8165-cb6f-11e8-bae0-509a4c0f1ffc\"}],\n",
       "            {\"title\": \"\\u603b\\u4e0b\\u5355\\u6570&\\u5b8c\\u6210\\u4e0b\\u5355\\u6570\\u5468\\u8d8b\\u52bf\\u56fe\", \"xaxis\": {\"mirror\": \"all\", \"nticks\": 20, \"showgrid\": true, \"showline\": true, \"title\": \"\\u5468\", \"zeroline\": true}, \"yaxis\": {\"mirror\": \"all\", \"nticks\": 20, \"showgrid\": true, \"showline\": true, \"title\": \"\\u603b\\u4e0b\\u5355\\u6570&\\u5b8c\\u6210\\u4e0b\\u5355\\u6570\", \"zeroline\": true}},\n",
       "            {\"showLink\": true, \"linkText\": \"Export to plot.ly\"}\n",
       "        ).then(function () {return Plotly.addFrames('17114160-e956-4193-8006-0447e4e95525',{});}).then(function(){Plotly.animate('17114160-e956-4193-8006-0447e4e95525');})\n",
       "        });</script>"
      ]
     },
     "metadata": {},
     "output_type": "display_data"
    }
   ],
   "source": [
    "ss=myModule.format(all_dict ,\"日期\" ,['总下单数', '完成下单数'])\n",
    "ss.add_group('负责人')\n",
    "tt = myModule.myPlot(ss.groupby('sum'))\n",
    "tt.plot('line')"
   ]
  },
  {
   "cell_type": "markdown",
   "metadata": {},
   "source": [
    "### 高质量报告"
   ]
  },
  {
   "cell_type": "markdown",
   "metadata": {},
   "source": [
    "#### 应交高质量报告数和提交高质量报告数"
   ]
  },
  {
   "cell_type": "code",
   "execution_count": 162,
   "metadata": {
    "collapsed": false
   },
   "outputs": [
    {
     "data": {
      "application/vnd.plotly.v1+json": {
       "data": [
        {
         "line": {
          "dash": "solid"
         },
         "name": "应交高质量报告数(于慧)",
         "type": "scatter",
         "uid": "48be6750-cb6f-11e8-8872-509a4c0f1ffc",
         "x": [
          "8-3",
          "8-4",
          "9-1",
          "9-2",
          "9-3",
          "9-4"
         ],
         "y": [
          0,
          1,
          0,
          0,
          0,
          0
         ]
        },
        {
         "line": {
          "dash": "dot"
         },
         "name": "应交高质量报告数(封彦杰)",
         "type": "scatter",
         "uid": "48be6751-cb6f-11e8-b93e-509a4c0f1ffc",
         "x": [
          "8-3",
          "8-4",
          "9-1",
          "9-2",
          "9-3",
          "9-4"
         ],
         "y": [
          0,
          0,
          1,
          0,
          0,
          0
         ]
        },
        {
         "line": {
          "dash": "dash"
         },
         "name": "应交高质量报告数(刘江)",
         "type": "scatter",
         "uid": "48be6752-cb6f-11e8-b9c8-509a4c0f1ffc",
         "x": [
          "8-3",
          "8-4",
          "9-1",
          "9-2",
          "9-3",
          "9-4"
         ],
         "y": [
          0,
          0,
          3,
          0,
          0,
          0
         ]
        },
        {
         "line": {
          "dash": "longdash"
         },
         "name": "应交高质量报告数(杨伟飞)",
         "type": "scatter",
         "uid": "48be6753-cb6f-11e8-8640-509a4c0f1ffc",
         "x": [
          "8-3",
          "8-4",
          "9-1",
          "9-2",
          "9-3",
          "9-4"
         ],
         "y": [
          0,
          0,
          2,
          1,
          0,
          0
         ]
        },
        {
         "line": {
          "dash": "dashdot"
         },
         "name": "应交高质量报告数(苏彦勋)",
         "type": "scatter",
         "uid": "48be6754-cb6f-11e8-b869-509a4c0f1ffc",
         "x": [
          "8-3",
          "8-4",
          "9-1",
          "9-2",
          "9-3",
          "9-4"
         ],
         "y": [
          0,
          1,
          1,
          0,
          0,
          null
         ]
        },
        {
         "line": {
          "dash": "longdashdot"
         },
         "name": "应交高质量报告数(李华云)",
         "type": "scatter",
         "uid": "48be6755-cb6f-11e8-80f9-509a4c0f1ffc",
         "x": [
          "8-3",
          "8-4",
          "9-1",
          "9-2",
          "9-3",
          "9-4"
         ],
         "y": [
          0,
          0,
          0,
          0,
          0,
          null
         ]
        },
        {
         "line": {
          "dash": "solid"
         },
         "name": "应交高质量报告数(任雪)",
         "type": "scatter",
         "uid": "48be6756-cb6f-11e8-834a-509a4c0f1ffc",
         "x": [
          "8-3",
          "8-4",
          "9-1",
          "9-2",
          "9-3",
          "9-4"
         ],
         "y": [
          null,
          0,
          2,
          0,
          0,
          0
         ]
        },
        {
         "line": {
          "dash": "dot"
         },
         "name": "应交高质量报告数(马潇)",
         "type": "scatter",
         "uid": "48be6757-cb6f-11e8-887b-509a4c0f1ffc",
         "x": [
          "8-3",
          "8-4",
          "9-1",
          "9-2",
          "9-3",
          "9-4"
         ],
         "y": [
          0,
          0,
          0,
          0,
          0,
          0
         ]
        },
        {
         "line": {
          "dash": "dash"
         },
         "name": "应交高质量报告数(宋迎楠)",
         "type": "scatter",
         "uid": "48be6758-cb6f-11e8-a646-509a4c0f1ffc",
         "x": [
          "8-3",
          "8-4",
          "9-1",
          "9-2",
          "9-3",
          "9-4"
         ],
         "y": [
          0,
          0,
          0,
          null,
          null,
          null
         ]
        },
        {
         "line": {
          "dash": "longdash"
         },
         "name": "应交高质量报告数(于勇一)",
         "type": "scatter",
         "uid": "48be6759-cb6f-11e8-81f8-509a4c0f1ffc",
         "x": [
          "8-3",
          "8-4",
          "9-1",
          "9-2",
          "9-3",
          "9-4"
         ],
         "y": [
          0,
          1,
          2,
          0,
          0,
          0
         ]
        },
        {
         "line": {
          "dash": "dashdot"
         },
         "name": "应交高质量报告数(刘慧玲)",
         "type": "scatter",
         "uid": "48be675a-cb6f-11e8-a6ed-509a4c0f1ffc",
         "x": [
          "8-3",
          "8-4",
          "9-1",
          "9-2",
          "9-3",
          "9-4"
         ],
         "y": [
          2,
          0,
          0,
          null,
          null,
          null
         ]
        },
        {
         "line": {
          "dash": "longdashdot"
         },
         "name": "应交高质量报告数(赵玥)",
         "type": "scatter",
         "uid": "48be675b-cb6f-11e8-8c72-509a4c0f1ffc",
         "x": [
          "8-3",
          "8-4",
          "9-1",
          "9-2",
          "9-3",
          "9-4"
         ],
         "y": [
          0,
          0,
          2,
          1,
          0,
          1
         ]
        },
        {
         "line": {
          "dash": "solid"
         },
         "name": "应交高质量报告数(占伟)",
         "type": "scatter",
         "uid": "48be675c-cb6f-11e8-9108-509a4c0f1ffc",
         "x": [
          "8-3",
          "8-4",
          "9-1",
          "9-2",
          "9-3",
          "9-4"
         ],
         "y": [
          1,
          0,
          2,
          0,
          0,
          0
         ]
        },
        {
         "line": {
          "dash": "dot"
         },
         "name": "应交高质量报告数(周杨)",
         "type": "scatter",
         "uid": "48be675d-cb6f-11e8-b1d2-509a4c0f1ffc",
         "x": [
          "8-3",
          "8-4",
          "9-1",
          "9-2",
          "9-3",
          "9-4"
         ],
         "y": [
          0,
          2,
          0,
          0,
          0,
          0
         ]
        },
        {
         "line": {
          "dash": "dash"
         },
         "name": "应交高质量报告数(谢德健)",
         "type": "scatter",
         "uid": "48be675e-cb6f-11e8-b7ce-509a4c0f1ffc",
         "x": [
          "8-3",
          "8-4",
          "9-1",
          "9-2",
          "9-3",
          "9-4"
         ],
         "y": [
          0,
          0,
          null,
          2,
          4,
          0
         ]
        },
        {
         "line": {
          "dash": "longdash"
         },
         "name": "应交高质量报告数(范旭宁)",
         "type": "scatter",
         "uid": "48be675f-cb6f-11e8-844f-509a4c0f1ffc",
         "x": [
          "8-3",
          "8-4",
          "9-1",
          "9-2",
          "9-3",
          "9-4"
         ],
         "y": [
          0,
          0,
          1,
          2,
          0,
          0
         ]
        },
        {
         "line": {
          "dash": "dashdot"
         },
         "name": "应交高质量报告数(孟昊)",
         "type": "scatter",
         "uid": "48be6760-cb6f-11e8-ad5e-509a4c0f1ffc",
         "x": [
          "8-3",
          "8-4",
          "9-1",
          "9-2",
          "9-3",
          "9-4"
         ],
         "y": [
          0,
          0,
          0,
          0,
          0,
          0
         ]
        },
        {
         "line": {
          "dash": "longdashdot"
         },
         "name": "应交高质量报告数(姚盟成)",
         "type": "scatter",
         "uid": "48be6761-cb6f-11e8-9bce-509a4c0f1ffc",
         "x": [
          "8-3",
          "8-4",
          "9-1",
          "9-2",
          "9-3",
          "9-4"
         ],
         "y": [
          2,
          0,
          0,
          1,
          0,
          0
         ]
        },
        {
         "line": {
          "dash": "solid"
         },
         "name": "应交高质量报告数(张守伟)",
         "type": "scatter",
         "uid": "48be6762-cb6f-11e8-b76e-509a4c0f1ffc",
         "x": [
          "8-3",
          "8-4",
          "9-1",
          "9-2",
          "9-3",
          "9-4"
         ],
         "y": [
          1,
          0,
          0,
          0,
          1,
          1
         ]
        },
        {
         "line": {
          "dash": "dot"
         },
         "name": "应交高质量报告数(韩少怀)",
         "type": "scatter",
         "uid": "48be6763-cb6f-11e8-ae4c-509a4c0f1ffc",
         "x": [
          "8-3",
          "8-4",
          "9-1",
          "9-2",
          "9-3",
          "9-4"
         ],
         "y": [
          0,
          1,
          0,
          1,
          1,
          null
         ]
        },
        {
         "line": {
          "dash": "dash"
         },
         "name": "应交高质量报告数(李庆原)",
         "type": "scatter",
         "uid": "48be6764-cb6f-11e8-8f89-509a4c0f1ffc",
         "x": [
          "8-3",
          "8-4",
          "9-1",
          "9-2",
          "9-3",
          "9-4"
         ],
         "y": [
          0,
          0,
          1,
          0,
          0,
          null
         ]
        },
        {
         "line": {
          "dash": "longdash"
         },
         "name": "应交高质量报告数(段利强)",
         "type": "scatter",
         "uid": "48be6765-cb6f-11e8-98aa-509a4c0f1ffc",
         "x": [
          "8-3",
          "8-4",
          "9-1",
          "9-2",
          "9-3",
          "9-4"
         ],
         "y": [
          null,
          null,
          null,
          null,
          null,
          0
         ]
        },
        {
         "line": {
          "dash": "dashdot"
         },
         "name": "应交高质量报告数(路慧萍)",
         "type": "scatter",
         "uid": "48be6766-cb6f-11e8-a68a-509a4c0f1ffc",
         "x": [
          "8-3",
          "8-4",
          "9-1",
          "9-2",
          "9-3",
          "9-4"
         ],
         "y": [
          1,
          0,
          0,
          0,
          0,
          null
         ]
        },
        {
         "line": {
          "dash": "longdashdot"
         },
         "name": "应交高质量报告数(王宁)",
         "type": "scatter",
         "uid": "48be6767-cb6f-11e8-9bc7-509a4c0f1ffc",
         "x": [
          "8-3",
          "8-4",
          "9-1",
          "9-2",
          "9-3",
          "9-4"
         ],
         "y": [
          0,
          1,
          0,
          null,
          null,
          null
         ]
        },
        {
         "line": {
          "dash": "solid"
         },
         "name": "提交高质量报告数(于慧)",
         "type": "scatter",
         "uid": "48be8e5e-cb6f-11e8-9124-509a4c0f1ffc",
         "x": [
          "8-3",
          "8-4",
          "9-1",
          "9-2",
          "9-3",
          "9-4"
         ],
         "y": [
          0,
          1,
          0,
          0,
          0,
          0
         ]
        },
        {
         "line": {
          "dash": "dot"
         },
         "name": "提交高质量报告数(封彦杰)",
         "type": "scatter",
         "uid": "48be8e5f-cb6f-11e8-933e-509a4c0f1ffc",
         "x": [
          "8-3",
          "8-4",
          "9-1",
          "9-2",
          "9-3",
          "9-4"
         ],
         "y": [
          0,
          0,
          1,
          0,
          0,
          0
         ]
        },
        {
         "line": {
          "dash": "dash"
         },
         "name": "提交高质量报告数(刘江)",
         "type": "scatter",
         "uid": "48be8e60-cb6f-11e8-9deb-509a4c0f1ffc",
         "x": [
          "8-3",
          "8-4",
          "9-1",
          "9-2",
          "9-3",
          "9-4"
         ],
         "y": [
          0,
          0,
          3,
          0,
          1,
          0
         ]
        },
        {
         "line": {
          "dash": "longdash"
         },
         "name": "提交高质量报告数(杨伟飞)",
         "type": "scatter",
         "uid": "48be8e61-cb6f-11e8-a799-509a4c0f1ffc",
         "x": [
          "8-3",
          "8-4",
          "9-1",
          "9-2",
          "9-3",
          "9-4"
         ],
         "y": [
          0,
          0,
          2,
          1,
          0,
          0
         ]
        },
        {
         "line": {
          "dash": "dashdot"
         },
         "name": "提交高质量报告数(苏彦勋)",
         "type": "scatter",
         "uid": "48be8e62-cb6f-11e8-a598-509a4c0f1ffc",
         "x": [
          "8-3",
          "8-4",
          "9-1",
          "9-2",
          "9-3",
          "9-4"
         ],
         "y": [
          0,
          1,
          1,
          0,
          0,
          null
         ]
        },
        {
         "line": {
          "dash": "longdashdot"
         },
         "name": "提交高质量报告数(李华云)",
         "type": "scatter",
         "uid": "48be8e63-cb6f-11e8-94fe-509a4c0f1ffc",
         "x": [
          "8-3",
          "8-4",
          "9-1",
          "9-2",
          "9-3",
          "9-4"
         ],
         "y": [
          0,
          0,
          0,
          0,
          0,
          null
         ]
        },
        {
         "line": {
          "dash": "solid"
         },
         "name": "提交高质量报告数(任雪)",
         "type": "scatter",
         "uid": "48be8e64-cb6f-11e8-a939-509a4c0f1ffc",
         "x": [
          "8-3",
          "8-4",
          "9-1",
          "9-2",
          "9-3",
          "9-4"
         ],
         "y": [
          null,
          0,
          2,
          0,
          0,
          0
         ]
        },
        {
         "line": {
          "dash": "dot"
         },
         "name": "提交高质量报告数(马潇)",
         "type": "scatter",
         "uid": "48be8e65-cb6f-11e8-8542-509a4c0f1ffc",
         "x": [
          "8-3",
          "8-4",
          "9-1",
          "9-2",
          "9-3",
          "9-4"
         ],
         "y": [
          0,
          0,
          0,
          0,
          0,
          0
         ]
        },
        {
         "line": {
          "dash": "dash"
         },
         "name": "提交高质量报告数(宋迎楠)",
         "type": "scatter",
         "uid": "48be8e66-cb6f-11e8-b873-509a4c0f1ffc",
         "x": [
          "8-3",
          "8-4",
          "9-1",
          "9-2",
          "9-3",
          "9-4"
         ],
         "y": [
          0,
          0,
          0,
          null,
          null,
          null
         ]
        },
        {
         "line": {
          "dash": "longdash"
         },
         "name": "提交高质量报告数(于勇一)",
         "type": "scatter",
         "uid": "48be8e67-cb6f-11e8-bad4-509a4c0f1ffc",
         "x": [
          "8-3",
          "8-4",
          "9-1",
          "9-2",
          "9-3",
          "9-4"
         ],
         "y": [
          0,
          1,
          2,
          0,
          0,
          0
         ]
        },
        {
         "line": {
          "dash": "dashdot"
         },
         "name": "提交高质量报告数(刘慧玲)",
         "type": "scatter",
         "uid": "48be8e68-cb6f-11e8-95ea-509a4c0f1ffc",
         "x": [
          "8-3",
          "8-4",
          "9-1",
          "9-2",
          "9-3",
          "9-4"
         ],
         "y": [
          2,
          0,
          0,
          null,
          null,
          null
         ]
        },
        {
         "line": {
          "dash": "longdashdot"
         },
         "name": "提交高质量报告数(赵玥)",
         "type": "scatter",
         "uid": "48be8e69-cb6f-11e8-b718-509a4c0f1ffc",
         "x": [
          "8-3",
          "8-4",
          "9-1",
          "9-2",
          "9-3",
          "9-4"
         ],
         "y": [
          0,
          0,
          2,
          1,
          0,
          1
         ]
        },
        {
         "line": {
          "dash": "solid"
         },
         "name": "提交高质量报告数(占伟)",
         "type": "scatter",
         "uid": "48be8e6a-cb6f-11e8-a6a4-509a4c0f1ffc",
         "x": [
          "8-3",
          "8-4",
          "9-1",
          "9-2",
          "9-3",
          "9-4"
         ],
         "y": [
          1,
          0,
          2,
          0,
          0,
          0
         ]
        },
        {
         "line": {
          "dash": "dot"
         },
         "name": "提交高质量报告数(周杨)",
         "type": "scatter",
         "uid": "48be8e6b-cb6f-11e8-be73-509a4c0f1ffc",
         "x": [
          "8-3",
          "8-4",
          "9-1",
          "9-2",
          "9-3",
          "9-4"
         ],
         "y": [
          0,
          2,
          0,
          0,
          0,
          0
         ]
        },
        {
         "line": {
          "dash": "dash"
         },
         "name": "提交高质量报告数(谢德健)",
         "type": "scatter",
         "uid": "48be8e6c-cb6f-11e8-a123-509a4c0f1ffc",
         "x": [
          "8-3",
          "8-4",
          "9-1",
          "9-2",
          "9-3",
          "9-4"
         ],
         "y": [
          0,
          0,
          null,
          1,
          4,
          0
         ]
        },
        {
         "line": {
          "dash": "longdash"
         },
         "name": "提交高质量报告数(范旭宁)",
         "type": "scatter",
         "uid": "48be8e6d-cb6f-11e8-a775-509a4c0f1ffc",
         "x": [
          "8-3",
          "8-4",
          "9-1",
          "9-2",
          "9-3",
          "9-4"
         ],
         "y": [
          0,
          0,
          1,
          1,
          0,
          0
         ]
        },
        {
         "line": {
          "dash": "dashdot"
         },
         "name": "提交高质量报告数(孟昊)",
         "type": "scatter",
         "uid": "48be8e6e-cb6f-11e8-9397-509a4c0f1ffc",
         "x": [
          "8-3",
          "8-4",
          "9-1",
          "9-2",
          "9-3",
          "9-4"
         ],
         "y": [
          0,
          0,
          0,
          0,
          0,
          0
         ]
        },
        {
         "line": {
          "dash": "longdashdot"
         },
         "name": "提交高质量报告数(姚盟成)",
         "type": "scatter",
         "uid": "48be8e6f-cb6f-11e8-bc5d-509a4c0f1ffc",
         "x": [
          "8-3",
          "8-4",
          "9-1",
          "9-2",
          "9-3",
          "9-4"
         ],
         "y": [
          2,
          0,
          0,
          1,
          0,
          0
         ]
        },
        {
         "line": {
          "dash": "solid"
         },
         "name": "提交高质量报告数(张守伟)",
         "type": "scatter",
         "uid": "48be8e70-cb6f-11e8-9654-509a4c0f1ffc",
         "x": [
          "8-3",
          "8-4",
          "9-1",
          "9-2",
          "9-3",
          "9-4"
         ],
         "y": [
          1,
          0,
          0,
          0,
          1,
          2
         ]
        },
        {
         "line": {
          "dash": "dot"
         },
         "name": "提交高质量报告数(韩少怀)",
         "type": "scatter",
         "uid": "48be8e71-cb6f-11e8-9940-509a4c0f1ffc",
         "x": [
          "8-3",
          "8-4",
          "9-1",
          "9-2",
          "9-3",
          "9-4"
         ],
         "y": [
          0,
          1,
          0,
          1,
          1,
          null
         ]
        },
        {
         "line": {
          "dash": "dash"
         },
         "name": "提交高质量报告数(李庆原)",
         "type": "scatter",
         "uid": "48be8e72-cb6f-11e8-8e65-509a4c0f1ffc",
         "x": [
          "8-3",
          "8-4",
          "9-1",
          "9-2",
          "9-3",
          "9-4"
         ],
         "y": [
          0,
          0,
          1,
          0,
          0,
          null
         ]
        },
        {
         "line": {
          "dash": "longdash"
         },
         "name": "提交高质量报告数(段利强)",
         "type": "scatter",
         "uid": "48be8e73-cb6f-11e8-ab0a-509a4c0f1ffc",
         "x": [
          "8-3",
          "8-4",
          "9-1",
          "9-2",
          "9-3",
          "9-4"
         ],
         "y": [
          null,
          null,
          null,
          null,
          null,
          0
         ]
        },
        {
         "line": {
          "dash": "dashdot"
         },
         "name": "提交高质量报告数(路慧萍)",
         "type": "scatter",
         "uid": "48be8e74-cb6f-11e8-9a0c-509a4c0f1ffc",
         "x": [
          "8-3",
          "8-4",
          "9-1",
          "9-2",
          "9-3",
          "9-4"
         ],
         "y": [
          1,
          0,
          0,
          0,
          0,
          null
         ]
        },
        {
         "line": {
          "dash": "longdashdot"
         },
         "name": "提交高质量报告数(王宁)",
         "type": "scatter",
         "uid": "48be8e75-cb6f-11e8-9d1d-509a4c0f1ffc",
         "x": [
          "8-3",
          "8-4",
          "9-1",
          "9-2",
          "9-3",
          "9-4"
         ],
         "y": [
          0,
          1,
          0,
          null,
          null,
          null
         ]
        }
       ],
       "layout": {
        "title": "应交高质量报告数&提交高质量报告数周趋势图",
        "xaxis": {
         "mirror": "all",
         "nticks": 20,
         "showgrid": true,
         "showline": true,
         "title": "周",
         "zeroline": true
        },
        "yaxis": {
         "mirror": "all",
         "nticks": 20,
         "showgrid": true,
         "showline": true,
         "title": "应交高质量报告数&提交高质量报告数",
         "zeroline": true
        }
       }
      },
      "text/html": [
       "<div id=\"b1fcef82-1625-4b20-bdfa-b8715686bef9\" style=\"height: 525px; width: 100%;\" class=\"plotly-graph-div\"></div><script type=\"text/javascript\">require([\"plotly\"], function(Plotly) { window.PLOTLYENV=window.PLOTLYENV || {};window.PLOTLYENV.BASE_URL=\"https://plot.ly\";\n",
       "        Plotly.plot(\n",
       "            'b1fcef82-1625-4b20-bdfa-b8715686bef9',\n",
       "            [{\"line\": {\"dash\": \"solid\"}, \"name\": \"\\u5e94\\u4ea4\\u9ad8\\u8d28\\u91cf\\u62a5\\u544a\\u6570(\\u4e8e\\u6167)\", \"x\": [\"8-3\", \"8-4\", \"9-1\", \"9-2\", \"9-3\", \"9-4\"], \"y\": [0.0, 1.0, 0.0, 0.0, 0.0, 0.0], \"type\": \"scatter\", \"uid\": \"48be6750-cb6f-11e8-8872-509a4c0f1ffc\"}, {\"line\": {\"dash\": \"dot\"}, \"name\": \"\\u5e94\\u4ea4\\u9ad8\\u8d28\\u91cf\\u62a5\\u544a\\u6570(\\u5c01\\u5f66\\u6770)\", \"x\": [\"8-3\", \"8-4\", \"9-1\", \"9-2\", \"9-3\", \"9-4\"], \"y\": [0.0, 0.0, 1.0, 0.0, 0.0, 0.0], \"type\": \"scatter\", \"uid\": \"48be6751-cb6f-11e8-b93e-509a4c0f1ffc\"}, {\"line\": {\"dash\": \"dash\"}, \"name\": \"\\u5e94\\u4ea4\\u9ad8\\u8d28\\u91cf\\u62a5\\u544a\\u6570(\\u5218\\u6c5f)\", \"x\": [\"8-3\", \"8-4\", \"9-1\", \"9-2\", \"9-3\", \"9-4\"], \"y\": [0.0, 0.0, 3.0, 0.0, 0.0, 0.0], \"type\": \"scatter\", \"uid\": \"48be6752-cb6f-11e8-b9c8-509a4c0f1ffc\"}, {\"line\": {\"dash\": \"longdash\"}, \"name\": \"\\u5e94\\u4ea4\\u9ad8\\u8d28\\u91cf\\u62a5\\u544a\\u6570(\\u6768\\u4f1f\\u98de)\", \"x\": [\"8-3\", \"8-4\", \"9-1\", \"9-2\", \"9-3\", \"9-4\"], \"y\": [0.0, 0.0, 2.0, 1.0, 0.0, 0.0], \"type\": \"scatter\", \"uid\": \"48be6753-cb6f-11e8-8640-509a4c0f1ffc\"}, {\"line\": {\"dash\": \"dashdot\"}, \"name\": \"\\u5e94\\u4ea4\\u9ad8\\u8d28\\u91cf\\u62a5\\u544a\\u6570(\\u82cf\\u5f66\\u52cb)\", \"x\": [\"8-3\", \"8-4\", \"9-1\", \"9-2\", \"9-3\", \"9-4\"], \"y\": [0.0, 1.0, 1.0, 0.0, 0.0, null], \"type\": \"scatter\", \"uid\": \"48be6754-cb6f-11e8-b869-509a4c0f1ffc\"}, {\"line\": {\"dash\": \"longdashdot\"}, \"name\": \"\\u5e94\\u4ea4\\u9ad8\\u8d28\\u91cf\\u62a5\\u544a\\u6570(\\u674e\\u534e\\u4e91)\", \"x\": [\"8-3\", \"8-4\", \"9-1\", \"9-2\", \"9-3\", \"9-4\"], \"y\": [0.0, 0.0, 0.0, 0.0, 0.0, null], \"type\": \"scatter\", \"uid\": \"48be6755-cb6f-11e8-80f9-509a4c0f1ffc\"}, {\"line\": {\"dash\": \"solid\"}, \"name\": \"\\u5e94\\u4ea4\\u9ad8\\u8d28\\u91cf\\u62a5\\u544a\\u6570(\\u4efb\\u96ea)\", \"x\": [\"8-3\", \"8-4\", \"9-1\", \"9-2\", \"9-3\", \"9-4\"], \"y\": [null, 0.0, 2.0, 0.0, 0.0, 0.0], \"type\": \"scatter\", \"uid\": \"48be6756-cb6f-11e8-834a-509a4c0f1ffc\"}, {\"line\": {\"dash\": \"dot\"}, \"name\": \"\\u5e94\\u4ea4\\u9ad8\\u8d28\\u91cf\\u62a5\\u544a\\u6570(\\u9a6c\\u6f47)\", \"x\": [\"8-3\", \"8-4\", \"9-1\", \"9-2\", \"9-3\", \"9-4\"], \"y\": [0.0, 0.0, 0.0, 0.0, 0.0, 0.0], \"type\": \"scatter\", \"uid\": \"48be6757-cb6f-11e8-887b-509a4c0f1ffc\"}, {\"line\": {\"dash\": \"dash\"}, \"name\": \"\\u5e94\\u4ea4\\u9ad8\\u8d28\\u91cf\\u62a5\\u544a\\u6570(\\u5b8b\\u8fce\\u6960)\", \"x\": [\"8-3\", \"8-4\", \"9-1\", \"9-2\", \"9-3\", \"9-4\"], \"y\": [0.0, 0.0, 0.0, null, null, null], \"type\": \"scatter\", \"uid\": \"48be6758-cb6f-11e8-a646-509a4c0f1ffc\"}, {\"line\": {\"dash\": \"longdash\"}, \"name\": \"\\u5e94\\u4ea4\\u9ad8\\u8d28\\u91cf\\u62a5\\u544a\\u6570(\\u4e8e\\u52c7\\u4e00)\", \"x\": [\"8-3\", \"8-4\", \"9-1\", \"9-2\", \"9-3\", \"9-4\"], \"y\": [0.0, 1.0, 2.0, 0.0, 0.0, 0.0], \"type\": \"scatter\", \"uid\": \"48be6759-cb6f-11e8-81f8-509a4c0f1ffc\"}, {\"line\": {\"dash\": \"dashdot\"}, \"name\": \"\\u5e94\\u4ea4\\u9ad8\\u8d28\\u91cf\\u62a5\\u544a\\u6570(\\u5218\\u6167\\u73b2)\", \"x\": [\"8-3\", \"8-4\", \"9-1\", \"9-2\", \"9-3\", \"9-4\"], \"y\": [2.0, 0.0, 0.0, null, null, null], \"type\": \"scatter\", \"uid\": \"48be675a-cb6f-11e8-a6ed-509a4c0f1ffc\"}, {\"line\": {\"dash\": \"longdashdot\"}, \"name\": \"\\u5e94\\u4ea4\\u9ad8\\u8d28\\u91cf\\u62a5\\u544a\\u6570(\\u8d75\\u73a5)\", \"x\": [\"8-3\", \"8-4\", \"9-1\", \"9-2\", \"9-3\", \"9-4\"], \"y\": [0.0, 0.0, 2.0, 1.0, 0.0, 1.0], \"type\": \"scatter\", \"uid\": \"48be675b-cb6f-11e8-8c72-509a4c0f1ffc\"}, {\"line\": {\"dash\": \"solid\"}, \"name\": \"\\u5e94\\u4ea4\\u9ad8\\u8d28\\u91cf\\u62a5\\u544a\\u6570(\\u5360\\u4f1f)\", \"x\": [\"8-3\", \"8-4\", \"9-1\", \"9-2\", \"9-3\", \"9-4\"], \"y\": [1.0, 0.0, 2.0, 0.0, 0.0, 0.0], \"type\": \"scatter\", \"uid\": \"48be675c-cb6f-11e8-9108-509a4c0f1ffc\"}, {\"line\": {\"dash\": \"dot\"}, \"name\": \"\\u5e94\\u4ea4\\u9ad8\\u8d28\\u91cf\\u62a5\\u544a\\u6570(\\u5468\\u6768)\", \"x\": [\"8-3\", \"8-4\", \"9-1\", \"9-2\", \"9-3\", \"9-4\"], \"y\": [0.0, 2.0, 0.0, 0.0, 0.0, 0.0], \"type\": \"scatter\", \"uid\": \"48be675d-cb6f-11e8-b1d2-509a4c0f1ffc\"}, {\"line\": {\"dash\": \"dash\"}, \"name\": \"\\u5e94\\u4ea4\\u9ad8\\u8d28\\u91cf\\u62a5\\u544a\\u6570(\\u8c22\\u5fb7\\u5065)\", \"x\": [\"8-3\", \"8-4\", \"9-1\", \"9-2\", \"9-3\", \"9-4\"], \"y\": [0.0, 0.0, null, 2.0, 4.0, 0.0], \"type\": \"scatter\", \"uid\": \"48be675e-cb6f-11e8-b7ce-509a4c0f1ffc\"}, {\"line\": {\"dash\": \"longdash\"}, \"name\": \"\\u5e94\\u4ea4\\u9ad8\\u8d28\\u91cf\\u62a5\\u544a\\u6570(\\u8303\\u65ed\\u5b81)\", \"x\": [\"8-3\", \"8-4\", \"9-1\", \"9-2\", \"9-3\", \"9-4\"], \"y\": [0.0, 0.0, 1.0, 2.0, 0.0, 0.0], \"type\": \"scatter\", \"uid\": \"48be675f-cb6f-11e8-844f-509a4c0f1ffc\"}, {\"line\": {\"dash\": \"dashdot\"}, \"name\": \"\\u5e94\\u4ea4\\u9ad8\\u8d28\\u91cf\\u62a5\\u544a\\u6570(\\u5b5f\\u660a)\", \"x\": [\"8-3\", \"8-4\", \"9-1\", \"9-2\", \"9-3\", \"9-4\"], \"y\": [0.0, 0.0, 0.0, 0.0, 0.0, 0.0], \"type\": \"scatter\", \"uid\": \"48be6760-cb6f-11e8-ad5e-509a4c0f1ffc\"}, {\"line\": {\"dash\": \"longdashdot\"}, \"name\": \"\\u5e94\\u4ea4\\u9ad8\\u8d28\\u91cf\\u62a5\\u544a\\u6570(\\u59da\\u76df\\u6210)\", \"x\": [\"8-3\", \"8-4\", \"9-1\", \"9-2\", \"9-3\", \"9-4\"], \"y\": [2.0, 0.0, 0.0, 1.0, 0.0, 0.0], \"type\": \"scatter\", \"uid\": \"48be6761-cb6f-11e8-9bce-509a4c0f1ffc\"}, {\"line\": {\"dash\": \"solid\"}, \"name\": \"\\u5e94\\u4ea4\\u9ad8\\u8d28\\u91cf\\u62a5\\u544a\\u6570(\\u5f20\\u5b88\\u4f1f)\", \"x\": [\"8-3\", \"8-4\", \"9-1\", \"9-2\", \"9-3\", \"9-4\"], \"y\": [1.0, 0.0, 0.0, 0.0, 1.0, 1.0], \"type\": \"scatter\", \"uid\": \"48be6762-cb6f-11e8-b76e-509a4c0f1ffc\"}, {\"line\": {\"dash\": \"dot\"}, \"name\": \"\\u5e94\\u4ea4\\u9ad8\\u8d28\\u91cf\\u62a5\\u544a\\u6570(\\u97e9\\u5c11\\u6000)\", \"x\": [\"8-3\", \"8-4\", \"9-1\", \"9-2\", \"9-3\", \"9-4\"], \"y\": [0.0, 1.0, 0.0, 1.0, 1.0, null], \"type\": \"scatter\", \"uid\": \"48be6763-cb6f-11e8-ae4c-509a4c0f1ffc\"}, {\"line\": {\"dash\": \"dash\"}, \"name\": \"\\u5e94\\u4ea4\\u9ad8\\u8d28\\u91cf\\u62a5\\u544a\\u6570(\\u674e\\u5e86\\u539f)\", \"x\": [\"8-3\", \"8-4\", \"9-1\", \"9-2\", \"9-3\", \"9-4\"], \"y\": [0.0, 0.0, 1.0, 0.0, 0.0, null], \"type\": \"scatter\", \"uid\": \"48be6764-cb6f-11e8-8f89-509a4c0f1ffc\"}, {\"line\": {\"dash\": \"longdash\"}, \"name\": \"\\u5e94\\u4ea4\\u9ad8\\u8d28\\u91cf\\u62a5\\u544a\\u6570(\\u6bb5\\u5229\\u5f3a)\", \"x\": [\"8-3\", \"8-4\", \"9-1\", \"9-2\", \"9-3\", \"9-4\"], \"y\": [null, null, null, null, null, 0.0], \"type\": \"scatter\", \"uid\": \"48be6765-cb6f-11e8-98aa-509a4c0f1ffc\"}, {\"line\": {\"dash\": \"dashdot\"}, \"name\": \"\\u5e94\\u4ea4\\u9ad8\\u8d28\\u91cf\\u62a5\\u544a\\u6570(\\u8def\\u6167\\u840d)\", \"x\": [\"8-3\", \"8-4\", \"9-1\", \"9-2\", \"9-3\", \"9-4\"], \"y\": [1.0, 0.0, 0.0, 0.0, 0.0, null], \"type\": \"scatter\", \"uid\": \"48be6766-cb6f-11e8-a68a-509a4c0f1ffc\"}, {\"line\": {\"dash\": \"longdashdot\"}, \"name\": \"\\u5e94\\u4ea4\\u9ad8\\u8d28\\u91cf\\u62a5\\u544a\\u6570(\\u738b\\u5b81)\", \"x\": [\"8-3\", \"8-4\", \"9-1\", \"9-2\", \"9-3\", \"9-4\"], \"y\": [0.0, 1.0, 0.0, null, null, null], \"type\": \"scatter\", \"uid\": \"48be6767-cb6f-11e8-9bc7-509a4c0f1ffc\"}, {\"line\": {\"dash\": \"solid\"}, \"name\": \"\\u63d0\\u4ea4\\u9ad8\\u8d28\\u91cf\\u62a5\\u544a\\u6570(\\u4e8e\\u6167)\", \"x\": [\"8-3\", \"8-4\", \"9-1\", \"9-2\", \"9-3\", \"9-4\"], \"y\": [0.0, 1.0, 0.0, 0.0, 0.0, 0.0], \"type\": \"scatter\", \"uid\": \"48be8e5e-cb6f-11e8-9124-509a4c0f1ffc\"}, {\"line\": {\"dash\": \"dot\"}, \"name\": \"\\u63d0\\u4ea4\\u9ad8\\u8d28\\u91cf\\u62a5\\u544a\\u6570(\\u5c01\\u5f66\\u6770)\", \"x\": [\"8-3\", \"8-4\", \"9-1\", \"9-2\", \"9-3\", \"9-4\"], \"y\": [0.0, 0.0, 1.0, 0.0, 0.0, 0.0], \"type\": \"scatter\", \"uid\": \"48be8e5f-cb6f-11e8-933e-509a4c0f1ffc\"}, {\"line\": {\"dash\": \"dash\"}, \"name\": \"\\u63d0\\u4ea4\\u9ad8\\u8d28\\u91cf\\u62a5\\u544a\\u6570(\\u5218\\u6c5f)\", \"x\": [\"8-3\", \"8-4\", \"9-1\", \"9-2\", \"9-3\", \"9-4\"], \"y\": [0.0, 0.0, 3.0, 0.0, 1.0, 0.0], \"type\": \"scatter\", \"uid\": \"48be8e60-cb6f-11e8-9deb-509a4c0f1ffc\"}, {\"line\": {\"dash\": \"longdash\"}, \"name\": \"\\u63d0\\u4ea4\\u9ad8\\u8d28\\u91cf\\u62a5\\u544a\\u6570(\\u6768\\u4f1f\\u98de)\", \"x\": [\"8-3\", \"8-4\", \"9-1\", \"9-2\", \"9-3\", \"9-4\"], \"y\": [0.0, 0.0, 2.0, 1.0, 0.0, 0.0], \"type\": \"scatter\", \"uid\": \"48be8e61-cb6f-11e8-a799-509a4c0f1ffc\"}, {\"line\": {\"dash\": \"dashdot\"}, \"name\": \"\\u63d0\\u4ea4\\u9ad8\\u8d28\\u91cf\\u62a5\\u544a\\u6570(\\u82cf\\u5f66\\u52cb)\", \"x\": [\"8-3\", \"8-4\", \"9-1\", \"9-2\", \"9-3\", \"9-4\"], \"y\": [0.0, 1.0, 1.0, 0.0, 0.0, null], \"type\": \"scatter\", \"uid\": \"48be8e62-cb6f-11e8-a598-509a4c0f1ffc\"}, {\"line\": {\"dash\": \"longdashdot\"}, \"name\": \"\\u63d0\\u4ea4\\u9ad8\\u8d28\\u91cf\\u62a5\\u544a\\u6570(\\u674e\\u534e\\u4e91)\", \"x\": [\"8-3\", \"8-4\", \"9-1\", \"9-2\", \"9-3\", \"9-4\"], \"y\": [0.0, 0.0, 0.0, 0.0, 0.0, null], \"type\": \"scatter\", \"uid\": \"48be8e63-cb6f-11e8-94fe-509a4c0f1ffc\"}, {\"line\": {\"dash\": \"solid\"}, \"name\": \"\\u63d0\\u4ea4\\u9ad8\\u8d28\\u91cf\\u62a5\\u544a\\u6570(\\u4efb\\u96ea)\", \"x\": [\"8-3\", \"8-4\", \"9-1\", \"9-2\", \"9-3\", \"9-4\"], \"y\": [null, 0.0, 2.0, 0.0, 0.0, 0.0], \"type\": \"scatter\", \"uid\": \"48be8e64-cb6f-11e8-a939-509a4c0f1ffc\"}, {\"line\": {\"dash\": \"dot\"}, \"name\": \"\\u63d0\\u4ea4\\u9ad8\\u8d28\\u91cf\\u62a5\\u544a\\u6570(\\u9a6c\\u6f47)\", \"x\": [\"8-3\", \"8-4\", \"9-1\", \"9-2\", \"9-3\", \"9-4\"], \"y\": [0.0, 0.0, 0.0, 0.0, 0.0, 0.0], \"type\": \"scatter\", \"uid\": \"48be8e65-cb6f-11e8-8542-509a4c0f1ffc\"}, {\"line\": {\"dash\": \"dash\"}, \"name\": \"\\u63d0\\u4ea4\\u9ad8\\u8d28\\u91cf\\u62a5\\u544a\\u6570(\\u5b8b\\u8fce\\u6960)\", \"x\": [\"8-3\", \"8-4\", \"9-1\", \"9-2\", \"9-3\", \"9-4\"], \"y\": [0.0, 0.0, 0.0, null, null, null], \"type\": \"scatter\", \"uid\": \"48be8e66-cb6f-11e8-b873-509a4c0f1ffc\"}, {\"line\": {\"dash\": \"longdash\"}, \"name\": \"\\u63d0\\u4ea4\\u9ad8\\u8d28\\u91cf\\u62a5\\u544a\\u6570(\\u4e8e\\u52c7\\u4e00)\", \"x\": [\"8-3\", \"8-4\", \"9-1\", \"9-2\", \"9-3\", \"9-4\"], \"y\": [0.0, 1.0, 2.0, 0.0, 0.0, 0.0], \"type\": \"scatter\", \"uid\": \"48be8e67-cb6f-11e8-bad4-509a4c0f1ffc\"}, {\"line\": {\"dash\": \"dashdot\"}, \"name\": \"\\u63d0\\u4ea4\\u9ad8\\u8d28\\u91cf\\u62a5\\u544a\\u6570(\\u5218\\u6167\\u73b2)\", \"x\": [\"8-3\", \"8-4\", \"9-1\", \"9-2\", \"9-3\", \"9-4\"], \"y\": [2.0, 0.0, 0.0, null, null, null], \"type\": \"scatter\", \"uid\": \"48be8e68-cb6f-11e8-95ea-509a4c0f1ffc\"}, {\"line\": {\"dash\": \"longdashdot\"}, \"name\": \"\\u63d0\\u4ea4\\u9ad8\\u8d28\\u91cf\\u62a5\\u544a\\u6570(\\u8d75\\u73a5)\", \"x\": [\"8-3\", \"8-4\", \"9-1\", \"9-2\", \"9-3\", \"9-4\"], \"y\": [0.0, 0.0, 2.0, 1.0, 0.0, 1.0], \"type\": \"scatter\", \"uid\": \"48be8e69-cb6f-11e8-b718-509a4c0f1ffc\"}, {\"line\": {\"dash\": \"solid\"}, \"name\": \"\\u63d0\\u4ea4\\u9ad8\\u8d28\\u91cf\\u62a5\\u544a\\u6570(\\u5360\\u4f1f)\", \"x\": [\"8-3\", \"8-4\", \"9-1\", \"9-2\", \"9-3\", \"9-4\"], \"y\": [1.0, 0.0, 2.0, 0.0, 0.0, 0.0], \"type\": \"scatter\", \"uid\": \"48be8e6a-cb6f-11e8-a6a4-509a4c0f1ffc\"}, {\"line\": {\"dash\": \"dot\"}, \"name\": \"\\u63d0\\u4ea4\\u9ad8\\u8d28\\u91cf\\u62a5\\u544a\\u6570(\\u5468\\u6768)\", \"x\": [\"8-3\", \"8-4\", \"9-1\", \"9-2\", \"9-3\", \"9-4\"], \"y\": [0.0, 2.0, 0.0, 0.0, 0.0, 0.0], \"type\": \"scatter\", \"uid\": \"48be8e6b-cb6f-11e8-be73-509a4c0f1ffc\"}, {\"line\": {\"dash\": \"dash\"}, \"name\": \"\\u63d0\\u4ea4\\u9ad8\\u8d28\\u91cf\\u62a5\\u544a\\u6570(\\u8c22\\u5fb7\\u5065)\", \"x\": [\"8-3\", \"8-4\", \"9-1\", \"9-2\", \"9-3\", \"9-4\"], \"y\": [0.0, 0.0, null, 1.0, 4.0, 0.0], \"type\": \"scatter\", \"uid\": \"48be8e6c-cb6f-11e8-a123-509a4c0f1ffc\"}, {\"line\": {\"dash\": \"longdash\"}, \"name\": \"\\u63d0\\u4ea4\\u9ad8\\u8d28\\u91cf\\u62a5\\u544a\\u6570(\\u8303\\u65ed\\u5b81)\", \"x\": [\"8-3\", \"8-4\", \"9-1\", \"9-2\", \"9-3\", \"9-4\"], \"y\": [0.0, 0.0, 1.0, 1.0, 0.0, 0.0], \"type\": \"scatter\", \"uid\": \"48be8e6d-cb6f-11e8-a775-509a4c0f1ffc\"}, {\"line\": {\"dash\": \"dashdot\"}, \"name\": \"\\u63d0\\u4ea4\\u9ad8\\u8d28\\u91cf\\u62a5\\u544a\\u6570(\\u5b5f\\u660a)\", \"x\": [\"8-3\", \"8-4\", \"9-1\", \"9-2\", \"9-3\", \"9-4\"], \"y\": [0.0, 0.0, 0.0, 0.0, 0.0, 0.0], \"type\": \"scatter\", \"uid\": \"48be8e6e-cb6f-11e8-9397-509a4c0f1ffc\"}, {\"line\": {\"dash\": \"longdashdot\"}, \"name\": \"\\u63d0\\u4ea4\\u9ad8\\u8d28\\u91cf\\u62a5\\u544a\\u6570(\\u59da\\u76df\\u6210)\", \"x\": [\"8-3\", \"8-4\", \"9-1\", \"9-2\", \"9-3\", \"9-4\"], \"y\": [2.0, 0.0, 0.0, 1.0, 0.0, 0.0], \"type\": \"scatter\", \"uid\": \"48be8e6f-cb6f-11e8-bc5d-509a4c0f1ffc\"}, {\"line\": {\"dash\": \"solid\"}, \"name\": \"\\u63d0\\u4ea4\\u9ad8\\u8d28\\u91cf\\u62a5\\u544a\\u6570(\\u5f20\\u5b88\\u4f1f)\", \"x\": [\"8-3\", \"8-4\", \"9-1\", \"9-2\", \"9-3\", \"9-4\"], \"y\": [1.0, 0.0, 0.0, 0.0, 1.0, 2.0], \"type\": \"scatter\", \"uid\": \"48be8e70-cb6f-11e8-9654-509a4c0f1ffc\"}, {\"line\": {\"dash\": \"dot\"}, \"name\": \"\\u63d0\\u4ea4\\u9ad8\\u8d28\\u91cf\\u62a5\\u544a\\u6570(\\u97e9\\u5c11\\u6000)\", \"x\": [\"8-3\", \"8-4\", \"9-1\", \"9-2\", \"9-3\", \"9-4\"], \"y\": [0.0, 1.0, 0.0, 1.0, 1.0, null], \"type\": \"scatter\", \"uid\": \"48be8e71-cb6f-11e8-9940-509a4c0f1ffc\"}, {\"line\": {\"dash\": \"dash\"}, \"name\": \"\\u63d0\\u4ea4\\u9ad8\\u8d28\\u91cf\\u62a5\\u544a\\u6570(\\u674e\\u5e86\\u539f)\", \"x\": [\"8-3\", \"8-4\", \"9-1\", \"9-2\", \"9-3\", \"9-4\"], \"y\": [0.0, 0.0, 1.0, 0.0, 0.0, null], \"type\": \"scatter\", \"uid\": \"48be8e72-cb6f-11e8-8e65-509a4c0f1ffc\"}, {\"line\": {\"dash\": \"longdash\"}, \"name\": \"\\u63d0\\u4ea4\\u9ad8\\u8d28\\u91cf\\u62a5\\u544a\\u6570(\\u6bb5\\u5229\\u5f3a)\", \"x\": [\"8-3\", \"8-4\", \"9-1\", \"9-2\", \"9-3\", \"9-4\"], \"y\": [null, null, null, null, null, 0.0], \"type\": \"scatter\", \"uid\": \"48be8e73-cb6f-11e8-ab0a-509a4c0f1ffc\"}, {\"line\": {\"dash\": \"dashdot\"}, \"name\": \"\\u63d0\\u4ea4\\u9ad8\\u8d28\\u91cf\\u62a5\\u544a\\u6570(\\u8def\\u6167\\u840d)\", \"x\": [\"8-3\", \"8-4\", \"9-1\", \"9-2\", \"9-3\", \"9-4\"], \"y\": [1.0, 0.0, 0.0, 0.0, 0.0, null], \"type\": \"scatter\", \"uid\": \"48be8e74-cb6f-11e8-9a0c-509a4c0f1ffc\"}, {\"line\": {\"dash\": \"longdashdot\"}, \"name\": \"\\u63d0\\u4ea4\\u9ad8\\u8d28\\u91cf\\u62a5\\u544a\\u6570(\\u738b\\u5b81)\", \"x\": [\"8-3\", \"8-4\", \"9-1\", \"9-2\", \"9-3\", \"9-4\"], \"y\": [0.0, 1.0, 0.0, null, null, null], \"type\": \"scatter\", \"uid\": \"48be8e75-cb6f-11e8-9d1d-509a4c0f1ffc\"}],\n",
       "            {\"title\": \"\\u5e94\\u4ea4\\u9ad8\\u8d28\\u91cf\\u62a5\\u544a\\u6570&\\u63d0\\u4ea4\\u9ad8\\u8d28\\u91cf\\u62a5\\u544a\\u6570\\u5468\\u8d8b\\u52bf\\u56fe\", \"xaxis\": {\"mirror\": \"all\", \"nticks\": 20, \"showgrid\": true, \"showline\": true, \"title\": \"\\u5468\", \"zeroline\": true}, \"yaxis\": {\"mirror\": \"all\", \"nticks\": 20, \"showgrid\": true, \"showline\": true, \"title\": \"\\u5e94\\u4ea4\\u9ad8\\u8d28\\u91cf\\u62a5\\u544a\\u6570&\\u63d0\\u4ea4\\u9ad8\\u8d28\\u91cf\\u62a5\\u544a\\u6570\", \"zeroline\": true}},\n",
       "            {\"showLink\": true, \"linkText\": \"Export to plot.ly\"}\n",
       "        ).then(function () {return Plotly.addFrames('b1fcef82-1625-4b20-bdfa-b8715686bef9',{});}).then(function(){Plotly.animate('b1fcef82-1625-4b20-bdfa-b8715686bef9');})\n",
       "        });</script>"
      ],
      "text/vnd.plotly.v1+html": [
       "<div id=\"b1fcef82-1625-4b20-bdfa-b8715686bef9\" style=\"height: 525px; width: 100%;\" class=\"plotly-graph-div\"></div><script type=\"text/javascript\">require([\"plotly\"], function(Plotly) { window.PLOTLYENV=window.PLOTLYENV || {};window.PLOTLYENV.BASE_URL=\"https://plot.ly\";\n",
       "        Plotly.plot(\n",
       "            'b1fcef82-1625-4b20-bdfa-b8715686bef9',\n",
       "            [{\"line\": {\"dash\": \"solid\"}, \"name\": \"\\u5e94\\u4ea4\\u9ad8\\u8d28\\u91cf\\u62a5\\u544a\\u6570(\\u4e8e\\u6167)\", \"x\": [\"8-3\", \"8-4\", \"9-1\", \"9-2\", \"9-3\", \"9-4\"], \"y\": [0.0, 1.0, 0.0, 0.0, 0.0, 0.0], \"type\": \"scatter\", \"uid\": \"48be6750-cb6f-11e8-8872-509a4c0f1ffc\"}, {\"line\": {\"dash\": \"dot\"}, \"name\": \"\\u5e94\\u4ea4\\u9ad8\\u8d28\\u91cf\\u62a5\\u544a\\u6570(\\u5c01\\u5f66\\u6770)\", \"x\": [\"8-3\", \"8-4\", \"9-1\", \"9-2\", \"9-3\", \"9-4\"], \"y\": [0.0, 0.0, 1.0, 0.0, 0.0, 0.0], \"type\": \"scatter\", \"uid\": \"48be6751-cb6f-11e8-b93e-509a4c0f1ffc\"}, {\"line\": {\"dash\": \"dash\"}, \"name\": \"\\u5e94\\u4ea4\\u9ad8\\u8d28\\u91cf\\u62a5\\u544a\\u6570(\\u5218\\u6c5f)\", \"x\": [\"8-3\", \"8-4\", \"9-1\", \"9-2\", \"9-3\", \"9-4\"], \"y\": [0.0, 0.0, 3.0, 0.0, 0.0, 0.0], \"type\": \"scatter\", \"uid\": \"48be6752-cb6f-11e8-b9c8-509a4c0f1ffc\"}, {\"line\": {\"dash\": \"longdash\"}, \"name\": \"\\u5e94\\u4ea4\\u9ad8\\u8d28\\u91cf\\u62a5\\u544a\\u6570(\\u6768\\u4f1f\\u98de)\", \"x\": [\"8-3\", \"8-4\", \"9-1\", \"9-2\", \"9-3\", \"9-4\"], \"y\": [0.0, 0.0, 2.0, 1.0, 0.0, 0.0], \"type\": \"scatter\", \"uid\": \"48be6753-cb6f-11e8-8640-509a4c0f1ffc\"}, {\"line\": {\"dash\": \"dashdot\"}, \"name\": \"\\u5e94\\u4ea4\\u9ad8\\u8d28\\u91cf\\u62a5\\u544a\\u6570(\\u82cf\\u5f66\\u52cb)\", \"x\": [\"8-3\", \"8-4\", \"9-1\", \"9-2\", \"9-3\", \"9-4\"], \"y\": [0.0, 1.0, 1.0, 0.0, 0.0, null], \"type\": \"scatter\", \"uid\": \"48be6754-cb6f-11e8-b869-509a4c0f1ffc\"}, {\"line\": {\"dash\": \"longdashdot\"}, \"name\": \"\\u5e94\\u4ea4\\u9ad8\\u8d28\\u91cf\\u62a5\\u544a\\u6570(\\u674e\\u534e\\u4e91)\", \"x\": [\"8-3\", \"8-4\", \"9-1\", \"9-2\", \"9-3\", \"9-4\"], \"y\": [0.0, 0.0, 0.0, 0.0, 0.0, null], \"type\": \"scatter\", \"uid\": \"48be6755-cb6f-11e8-80f9-509a4c0f1ffc\"}, {\"line\": {\"dash\": \"solid\"}, \"name\": \"\\u5e94\\u4ea4\\u9ad8\\u8d28\\u91cf\\u62a5\\u544a\\u6570(\\u4efb\\u96ea)\", \"x\": [\"8-3\", \"8-4\", \"9-1\", \"9-2\", \"9-3\", \"9-4\"], \"y\": [null, 0.0, 2.0, 0.0, 0.0, 0.0], \"type\": \"scatter\", \"uid\": \"48be6756-cb6f-11e8-834a-509a4c0f1ffc\"}, {\"line\": {\"dash\": \"dot\"}, \"name\": \"\\u5e94\\u4ea4\\u9ad8\\u8d28\\u91cf\\u62a5\\u544a\\u6570(\\u9a6c\\u6f47)\", \"x\": [\"8-3\", \"8-4\", \"9-1\", \"9-2\", \"9-3\", \"9-4\"], \"y\": [0.0, 0.0, 0.0, 0.0, 0.0, 0.0], \"type\": \"scatter\", \"uid\": \"48be6757-cb6f-11e8-887b-509a4c0f1ffc\"}, {\"line\": {\"dash\": \"dash\"}, \"name\": \"\\u5e94\\u4ea4\\u9ad8\\u8d28\\u91cf\\u62a5\\u544a\\u6570(\\u5b8b\\u8fce\\u6960)\", \"x\": [\"8-3\", \"8-4\", \"9-1\", \"9-2\", \"9-3\", \"9-4\"], \"y\": [0.0, 0.0, 0.0, null, null, null], \"type\": \"scatter\", \"uid\": \"48be6758-cb6f-11e8-a646-509a4c0f1ffc\"}, {\"line\": {\"dash\": \"longdash\"}, \"name\": \"\\u5e94\\u4ea4\\u9ad8\\u8d28\\u91cf\\u62a5\\u544a\\u6570(\\u4e8e\\u52c7\\u4e00)\", \"x\": [\"8-3\", \"8-4\", \"9-1\", \"9-2\", \"9-3\", \"9-4\"], \"y\": [0.0, 1.0, 2.0, 0.0, 0.0, 0.0], \"type\": \"scatter\", \"uid\": \"48be6759-cb6f-11e8-81f8-509a4c0f1ffc\"}, {\"line\": {\"dash\": \"dashdot\"}, \"name\": \"\\u5e94\\u4ea4\\u9ad8\\u8d28\\u91cf\\u62a5\\u544a\\u6570(\\u5218\\u6167\\u73b2)\", \"x\": [\"8-3\", \"8-4\", \"9-1\", \"9-2\", \"9-3\", \"9-4\"], \"y\": [2.0, 0.0, 0.0, null, null, null], \"type\": \"scatter\", \"uid\": \"48be675a-cb6f-11e8-a6ed-509a4c0f1ffc\"}, {\"line\": {\"dash\": \"longdashdot\"}, \"name\": \"\\u5e94\\u4ea4\\u9ad8\\u8d28\\u91cf\\u62a5\\u544a\\u6570(\\u8d75\\u73a5)\", \"x\": [\"8-3\", \"8-4\", \"9-1\", \"9-2\", \"9-3\", \"9-4\"], \"y\": [0.0, 0.0, 2.0, 1.0, 0.0, 1.0], \"type\": \"scatter\", \"uid\": \"48be675b-cb6f-11e8-8c72-509a4c0f1ffc\"}, {\"line\": {\"dash\": \"solid\"}, \"name\": \"\\u5e94\\u4ea4\\u9ad8\\u8d28\\u91cf\\u62a5\\u544a\\u6570(\\u5360\\u4f1f)\", \"x\": [\"8-3\", \"8-4\", \"9-1\", \"9-2\", \"9-3\", \"9-4\"], \"y\": [1.0, 0.0, 2.0, 0.0, 0.0, 0.0], \"type\": \"scatter\", \"uid\": \"48be675c-cb6f-11e8-9108-509a4c0f1ffc\"}, {\"line\": {\"dash\": \"dot\"}, \"name\": \"\\u5e94\\u4ea4\\u9ad8\\u8d28\\u91cf\\u62a5\\u544a\\u6570(\\u5468\\u6768)\", \"x\": [\"8-3\", \"8-4\", \"9-1\", \"9-2\", \"9-3\", \"9-4\"], \"y\": [0.0, 2.0, 0.0, 0.0, 0.0, 0.0], \"type\": \"scatter\", \"uid\": \"48be675d-cb6f-11e8-b1d2-509a4c0f1ffc\"}, {\"line\": {\"dash\": \"dash\"}, \"name\": \"\\u5e94\\u4ea4\\u9ad8\\u8d28\\u91cf\\u62a5\\u544a\\u6570(\\u8c22\\u5fb7\\u5065)\", \"x\": [\"8-3\", \"8-4\", \"9-1\", \"9-2\", \"9-3\", \"9-4\"], \"y\": [0.0, 0.0, null, 2.0, 4.0, 0.0], \"type\": \"scatter\", \"uid\": \"48be675e-cb6f-11e8-b7ce-509a4c0f1ffc\"}, {\"line\": {\"dash\": \"longdash\"}, \"name\": \"\\u5e94\\u4ea4\\u9ad8\\u8d28\\u91cf\\u62a5\\u544a\\u6570(\\u8303\\u65ed\\u5b81)\", \"x\": [\"8-3\", \"8-4\", \"9-1\", \"9-2\", \"9-3\", \"9-4\"], \"y\": [0.0, 0.0, 1.0, 2.0, 0.0, 0.0], \"type\": \"scatter\", \"uid\": \"48be675f-cb6f-11e8-844f-509a4c0f1ffc\"}, {\"line\": {\"dash\": \"dashdot\"}, \"name\": \"\\u5e94\\u4ea4\\u9ad8\\u8d28\\u91cf\\u62a5\\u544a\\u6570(\\u5b5f\\u660a)\", \"x\": [\"8-3\", \"8-4\", \"9-1\", \"9-2\", \"9-3\", \"9-4\"], \"y\": [0.0, 0.0, 0.0, 0.0, 0.0, 0.0], \"type\": \"scatter\", \"uid\": \"48be6760-cb6f-11e8-ad5e-509a4c0f1ffc\"}, {\"line\": {\"dash\": \"longdashdot\"}, \"name\": \"\\u5e94\\u4ea4\\u9ad8\\u8d28\\u91cf\\u62a5\\u544a\\u6570(\\u59da\\u76df\\u6210)\", \"x\": [\"8-3\", \"8-4\", \"9-1\", \"9-2\", \"9-3\", \"9-4\"], \"y\": [2.0, 0.0, 0.0, 1.0, 0.0, 0.0], \"type\": \"scatter\", \"uid\": \"48be6761-cb6f-11e8-9bce-509a4c0f1ffc\"}, {\"line\": {\"dash\": \"solid\"}, \"name\": \"\\u5e94\\u4ea4\\u9ad8\\u8d28\\u91cf\\u62a5\\u544a\\u6570(\\u5f20\\u5b88\\u4f1f)\", \"x\": [\"8-3\", \"8-4\", \"9-1\", \"9-2\", \"9-3\", \"9-4\"], \"y\": [1.0, 0.0, 0.0, 0.0, 1.0, 1.0], \"type\": \"scatter\", \"uid\": \"48be6762-cb6f-11e8-b76e-509a4c0f1ffc\"}, {\"line\": {\"dash\": \"dot\"}, \"name\": \"\\u5e94\\u4ea4\\u9ad8\\u8d28\\u91cf\\u62a5\\u544a\\u6570(\\u97e9\\u5c11\\u6000)\", \"x\": [\"8-3\", \"8-4\", \"9-1\", \"9-2\", \"9-3\", \"9-4\"], \"y\": [0.0, 1.0, 0.0, 1.0, 1.0, null], \"type\": \"scatter\", \"uid\": \"48be6763-cb6f-11e8-ae4c-509a4c0f1ffc\"}, {\"line\": {\"dash\": \"dash\"}, \"name\": \"\\u5e94\\u4ea4\\u9ad8\\u8d28\\u91cf\\u62a5\\u544a\\u6570(\\u674e\\u5e86\\u539f)\", \"x\": [\"8-3\", \"8-4\", \"9-1\", \"9-2\", \"9-3\", \"9-4\"], \"y\": [0.0, 0.0, 1.0, 0.0, 0.0, null], \"type\": \"scatter\", \"uid\": \"48be6764-cb6f-11e8-8f89-509a4c0f1ffc\"}, {\"line\": {\"dash\": \"longdash\"}, \"name\": \"\\u5e94\\u4ea4\\u9ad8\\u8d28\\u91cf\\u62a5\\u544a\\u6570(\\u6bb5\\u5229\\u5f3a)\", \"x\": [\"8-3\", \"8-4\", \"9-1\", \"9-2\", \"9-3\", \"9-4\"], \"y\": [null, null, null, null, null, 0.0], \"type\": \"scatter\", \"uid\": \"48be6765-cb6f-11e8-98aa-509a4c0f1ffc\"}, {\"line\": {\"dash\": \"dashdot\"}, \"name\": \"\\u5e94\\u4ea4\\u9ad8\\u8d28\\u91cf\\u62a5\\u544a\\u6570(\\u8def\\u6167\\u840d)\", \"x\": [\"8-3\", \"8-4\", \"9-1\", \"9-2\", \"9-3\", \"9-4\"], \"y\": [1.0, 0.0, 0.0, 0.0, 0.0, null], \"type\": \"scatter\", \"uid\": \"48be6766-cb6f-11e8-a68a-509a4c0f1ffc\"}, {\"line\": {\"dash\": \"longdashdot\"}, \"name\": \"\\u5e94\\u4ea4\\u9ad8\\u8d28\\u91cf\\u62a5\\u544a\\u6570(\\u738b\\u5b81)\", \"x\": [\"8-3\", \"8-4\", \"9-1\", \"9-2\", \"9-3\", \"9-4\"], \"y\": [0.0, 1.0, 0.0, null, null, null], \"type\": \"scatter\", \"uid\": \"48be6767-cb6f-11e8-9bc7-509a4c0f1ffc\"}, {\"line\": {\"dash\": \"solid\"}, \"name\": \"\\u63d0\\u4ea4\\u9ad8\\u8d28\\u91cf\\u62a5\\u544a\\u6570(\\u4e8e\\u6167)\", \"x\": [\"8-3\", \"8-4\", \"9-1\", \"9-2\", \"9-3\", \"9-4\"], \"y\": [0.0, 1.0, 0.0, 0.0, 0.0, 0.0], \"type\": \"scatter\", \"uid\": \"48be8e5e-cb6f-11e8-9124-509a4c0f1ffc\"}, {\"line\": {\"dash\": \"dot\"}, \"name\": \"\\u63d0\\u4ea4\\u9ad8\\u8d28\\u91cf\\u62a5\\u544a\\u6570(\\u5c01\\u5f66\\u6770)\", \"x\": [\"8-3\", \"8-4\", \"9-1\", \"9-2\", \"9-3\", \"9-4\"], \"y\": [0.0, 0.0, 1.0, 0.0, 0.0, 0.0], \"type\": \"scatter\", \"uid\": \"48be8e5f-cb6f-11e8-933e-509a4c0f1ffc\"}, {\"line\": {\"dash\": \"dash\"}, \"name\": \"\\u63d0\\u4ea4\\u9ad8\\u8d28\\u91cf\\u62a5\\u544a\\u6570(\\u5218\\u6c5f)\", \"x\": [\"8-3\", \"8-4\", \"9-1\", \"9-2\", \"9-3\", \"9-4\"], \"y\": [0.0, 0.0, 3.0, 0.0, 1.0, 0.0], \"type\": \"scatter\", \"uid\": \"48be8e60-cb6f-11e8-9deb-509a4c0f1ffc\"}, {\"line\": {\"dash\": \"longdash\"}, \"name\": \"\\u63d0\\u4ea4\\u9ad8\\u8d28\\u91cf\\u62a5\\u544a\\u6570(\\u6768\\u4f1f\\u98de)\", \"x\": [\"8-3\", \"8-4\", \"9-1\", \"9-2\", \"9-3\", \"9-4\"], \"y\": [0.0, 0.0, 2.0, 1.0, 0.0, 0.0], \"type\": \"scatter\", \"uid\": \"48be8e61-cb6f-11e8-a799-509a4c0f1ffc\"}, {\"line\": {\"dash\": \"dashdot\"}, \"name\": \"\\u63d0\\u4ea4\\u9ad8\\u8d28\\u91cf\\u62a5\\u544a\\u6570(\\u82cf\\u5f66\\u52cb)\", \"x\": [\"8-3\", \"8-4\", \"9-1\", \"9-2\", \"9-3\", \"9-4\"], \"y\": [0.0, 1.0, 1.0, 0.0, 0.0, null], \"type\": \"scatter\", \"uid\": \"48be8e62-cb6f-11e8-a598-509a4c0f1ffc\"}, {\"line\": {\"dash\": \"longdashdot\"}, \"name\": \"\\u63d0\\u4ea4\\u9ad8\\u8d28\\u91cf\\u62a5\\u544a\\u6570(\\u674e\\u534e\\u4e91)\", \"x\": [\"8-3\", \"8-4\", \"9-1\", \"9-2\", \"9-3\", \"9-4\"], \"y\": [0.0, 0.0, 0.0, 0.0, 0.0, null], \"type\": \"scatter\", \"uid\": \"48be8e63-cb6f-11e8-94fe-509a4c0f1ffc\"}, {\"line\": {\"dash\": \"solid\"}, \"name\": \"\\u63d0\\u4ea4\\u9ad8\\u8d28\\u91cf\\u62a5\\u544a\\u6570(\\u4efb\\u96ea)\", \"x\": [\"8-3\", \"8-4\", \"9-1\", \"9-2\", \"9-3\", \"9-4\"], \"y\": [null, 0.0, 2.0, 0.0, 0.0, 0.0], \"type\": \"scatter\", \"uid\": \"48be8e64-cb6f-11e8-a939-509a4c0f1ffc\"}, {\"line\": {\"dash\": \"dot\"}, \"name\": \"\\u63d0\\u4ea4\\u9ad8\\u8d28\\u91cf\\u62a5\\u544a\\u6570(\\u9a6c\\u6f47)\", \"x\": [\"8-3\", \"8-4\", \"9-1\", \"9-2\", \"9-3\", \"9-4\"], \"y\": [0.0, 0.0, 0.0, 0.0, 0.0, 0.0], \"type\": \"scatter\", \"uid\": \"48be8e65-cb6f-11e8-8542-509a4c0f1ffc\"}, {\"line\": {\"dash\": \"dash\"}, \"name\": \"\\u63d0\\u4ea4\\u9ad8\\u8d28\\u91cf\\u62a5\\u544a\\u6570(\\u5b8b\\u8fce\\u6960)\", \"x\": [\"8-3\", \"8-4\", \"9-1\", \"9-2\", \"9-3\", \"9-4\"], \"y\": [0.0, 0.0, 0.0, null, null, null], \"type\": \"scatter\", \"uid\": \"48be8e66-cb6f-11e8-b873-509a4c0f1ffc\"}, {\"line\": {\"dash\": \"longdash\"}, \"name\": \"\\u63d0\\u4ea4\\u9ad8\\u8d28\\u91cf\\u62a5\\u544a\\u6570(\\u4e8e\\u52c7\\u4e00)\", \"x\": [\"8-3\", \"8-4\", \"9-1\", \"9-2\", \"9-3\", \"9-4\"], \"y\": [0.0, 1.0, 2.0, 0.0, 0.0, 0.0], \"type\": \"scatter\", \"uid\": \"48be8e67-cb6f-11e8-bad4-509a4c0f1ffc\"}, {\"line\": {\"dash\": \"dashdot\"}, \"name\": \"\\u63d0\\u4ea4\\u9ad8\\u8d28\\u91cf\\u62a5\\u544a\\u6570(\\u5218\\u6167\\u73b2)\", \"x\": [\"8-3\", \"8-4\", \"9-1\", \"9-2\", \"9-3\", \"9-4\"], \"y\": [2.0, 0.0, 0.0, null, null, null], \"type\": \"scatter\", \"uid\": \"48be8e68-cb6f-11e8-95ea-509a4c0f1ffc\"}, {\"line\": {\"dash\": \"longdashdot\"}, \"name\": \"\\u63d0\\u4ea4\\u9ad8\\u8d28\\u91cf\\u62a5\\u544a\\u6570(\\u8d75\\u73a5)\", \"x\": [\"8-3\", \"8-4\", \"9-1\", \"9-2\", \"9-3\", \"9-4\"], \"y\": [0.0, 0.0, 2.0, 1.0, 0.0, 1.0], \"type\": \"scatter\", \"uid\": \"48be8e69-cb6f-11e8-b718-509a4c0f1ffc\"}, {\"line\": {\"dash\": \"solid\"}, \"name\": \"\\u63d0\\u4ea4\\u9ad8\\u8d28\\u91cf\\u62a5\\u544a\\u6570(\\u5360\\u4f1f)\", \"x\": [\"8-3\", \"8-4\", \"9-1\", \"9-2\", \"9-3\", \"9-4\"], \"y\": [1.0, 0.0, 2.0, 0.0, 0.0, 0.0], \"type\": \"scatter\", \"uid\": \"48be8e6a-cb6f-11e8-a6a4-509a4c0f1ffc\"}, {\"line\": {\"dash\": \"dot\"}, \"name\": \"\\u63d0\\u4ea4\\u9ad8\\u8d28\\u91cf\\u62a5\\u544a\\u6570(\\u5468\\u6768)\", \"x\": [\"8-3\", \"8-4\", \"9-1\", \"9-2\", \"9-3\", \"9-4\"], \"y\": [0.0, 2.0, 0.0, 0.0, 0.0, 0.0], \"type\": \"scatter\", \"uid\": \"48be8e6b-cb6f-11e8-be73-509a4c0f1ffc\"}, {\"line\": {\"dash\": \"dash\"}, \"name\": \"\\u63d0\\u4ea4\\u9ad8\\u8d28\\u91cf\\u62a5\\u544a\\u6570(\\u8c22\\u5fb7\\u5065)\", \"x\": [\"8-3\", \"8-4\", \"9-1\", \"9-2\", \"9-3\", \"9-4\"], \"y\": [0.0, 0.0, null, 1.0, 4.0, 0.0], \"type\": \"scatter\", \"uid\": \"48be8e6c-cb6f-11e8-a123-509a4c0f1ffc\"}, {\"line\": {\"dash\": \"longdash\"}, \"name\": \"\\u63d0\\u4ea4\\u9ad8\\u8d28\\u91cf\\u62a5\\u544a\\u6570(\\u8303\\u65ed\\u5b81)\", \"x\": [\"8-3\", \"8-4\", \"9-1\", \"9-2\", \"9-3\", \"9-4\"], \"y\": [0.0, 0.0, 1.0, 1.0, 0.0, 0.0], \"type\": \"scatter\", \"uid\": \"48be8e6d-cb6f-11e8-a775-509a4c0f1ffc\"}, {\"line\": {\"dash\": \"dashdot\"}, \"name\": \"\\u63d0\\u4ea4\\u9ad8\\u8d28\\u91cf\\u62a5\\u544a\\u6570(\\u5b5f\\u660a)\", \"x\": [\"8-3\", \"8-4\", \"9-1\", \"9-2\", \"9-3\", \"9-4\"], \"y\": [0.0, 0.0, 0.0, 0.0, 0.0, 0.0], \"type\": \"scatter\", \"uid\": \"48be8e6e-cb6f-11e8-9397-509a4c0f1ffc\"}, {\"line\": {\"dash\": \"longdashdot\"}, \"name\": \"\\u63d0\\u4ea4\\u9ad8\\u8d28\\u91cf\\u62a5\\u544a\\u6570(\\u59da\\u76df\\u6210)\", \"x\": [\"8-3\", \"8-4\", \"9-1\", \"9-2\", \"9-3\", \"9-4\"], \"y\": [2.0, 0.0, 0.0, 1.0, 0.0, 0.0], \"type\": \"scatter\", \"uid\": \"48be8e6f-cb6f-11e8-bc5d-509a4c0f1ffc\"}, {\"line\": {\"dash\": \"solid\"}, \"name\": \"\\u63d0\\u4ea4\\u9ad8\\u8d28\\u91cf\\u62a5\\u544a\\u6570(\\u5f20\\u5b88\\u4f1f)\", \"x\": [\"8-3\", \"8-4\", \"9-1\", \"9-2\", \"9-3\", \"9-4\"], \"y\": [1.0, 0.0, 0.0, 0.0, 1.0, 2.0], \"type\": \"scatter\", \"uid\": \"48be8e70-cb6f-11e8-9654-509a4c0f1ffc\"}, {\"line\": {\"dash\": \"dot\"}, \"name\": \"\\u63d0\\u4ea4\\u9ad8\\u8d28\\u91cf\\u62a5\\u544a\\u6570(\\u97e9\\u5c11\\u6000)\", \"x\": [\"8-3\", \"8-4\", \"9-1\", \"9-2\", \"9-3\", \"9-4\"], \"y\": [0.0, 1.0, 0.0, 1.0, 1.0, null], \"type\": \"scatter\", \"uid\": \"48be8e71-cb6f-11e8-9940-509a4c0f1ffc\"}, {\"line\": {\"dash\": \"dash\"}, \"name\": \"\\u63d0\\u4ea4\\u9ad8\\u8d28\\u91cf\\u62a5\\u544a\\u6570(\\u674e\\u5e86\\u539f)\", \"x\": [\"8-3\", \"8-4\", \"9-1\", \"9-2\", \"9-3\", \"9-4\"], \"y\": [0.0, 0.0, 1.0, 0.0, 0.0, null], \"type\": \"scatter\", \"uid\": \"48be8e72-cb6f-11e8-8e65-509a4c0f1ffc\"}, {\"line\": {\"dash\": \"longdash\"}, \"name\": \"\\u63d0\\u4ea4\\u9ad8\\u8d28\\u91cf\\u62a5\\u544a\\u6570(\\u6bb5\\u5229\\u5f3a)\", \"x\": [\"8-3\", \"8-4\", \"9-1\", \"9-2\", \"9-3\", \"9-4\"], \"y\": [null, null, null, null, null, 0.0], \"type\": \"scatter\", \"uid\": \"48be8e73-cb6f-11e8-ab0a-509a4c0f1ffc\"}, {\"line\": {\"dash\": \"dashdot\"}, \"name\": \"\\u63d0\\u4ea4\\u9ad8\\u8d28\\u91cf\\u62a5\\u544a\\u6570(\\u8def\\u6167\\u840d)\", \"x\": [\"8-3\", \"8-4\", \"9-1\", \"9-2\", \"9-3\", \"9-4\"], \"y\": [1.0, 0.0, 0.0, 0.0, 0.0, null], \"type\": \"scatter\", \"uid\": \"48be8e74-cb6f-11e8-9a0c-509a4c0f1ffc\"}, {\"line\": {\"dash\": \"longdashdot\"}, \"name\": \"\\u63d0\\u4ea4\\u9ad8\\u8d28\\u91cf\\u62a5\\u544a\\u6570(\\u738b\\u5b81)\", \"x\": [\"8-3\", \"8-4\", \"9-1\", \"9-2\", \"9-3\", \"9-4\"], \"y\": [0.0, 1.0, 0.0, null, null, null], \"type\": \"scatter\", \"uid\": \"48be8e75-cb6f-11e8-9d1d-509a4c0f1ffc\"}],\n",
       "            {\"title\": \"\\u5e94\\u4ea4\\u9ad8\\u8d28\\u91cf\\u62a5\\u544a\\u6570&\\u63d0\\u4ea4\\u9ad8\\u8d28\\u91cf\\u62a5\\u544a\\u6570\\u5468\\u8d8b\\u52bf\\u56fe\", \"xaxis\": {\"mirror\": \"all\", \"nticks\": 20, \"showgrid\": true, \"showline\": true, \"title\": \"\\u5468\", \"zeroline\": true}, \"yaxis\": {\"mirror\": \"all\", \"nticks\": 20, \"showgrid\": true, \"showline\": true, \"title\": \"\\u5e94\\u4ea4\\u9ad8\\u8d28\\u91cf\\u62a5\\u544a\\u6570&\\u63d0\\u4ea4\\u9ad8\\u8d28\\u91cf\\u62a5\\u544a\\u6570\", \"zeroline\": true}},\n",
       "            {\"showLink\": true, \"linkText\": \"Export to plot.ly\"}\n",
       "        ).then(function () {return Plotly.addFrames('b1fcef82-1625-4b20-bdfa-b8715686bef9',{});}).then(function(){Plotly.animate('b1fcef82-1625-4b20-bdfa-b8715686bef9');})\n",
       "        });</script>"
      ]
     },
     "metadata": {},
     "output_type": "display_data"
    }
   ],
   "source": [
    "ss=myModule.format(all_dict ,\"日期\" ,['应交高质量报告数', '提交高质量报告数'])\n",
    "ss.add_group('负责人')\n",
    "tt = myModule.myPlot(ss.groupby('sum'))\n",
    "tt.plot('line')"
   ]
  },
  {
   "cell_type": "markdown",
   "metadata": {},
   "source": [
    "### 甘特图情况"
   ]
  },
  {
   "cell_type": "markdown",
   "metadata": {},
   "source": [
    "#### 季度开发项目数、如期完成项目数、延期完成、开发中的项目数、延期项目数和暂停项目数"
   ]
  },
  {
   "cell_type": "code",
   "execution_count": 163,
   "metadata": {
    "collapsed": false
   },
   "outputs": [
    {
     "data": {
      "application/vnd.plotly.v1+json": {
       "data": [
        {
         "line": {
          "dash": "solid"
         },
         "name": "如期完成项目数(于慧)",
         "type": "scatter",
         "uid": "49a285c0-cb6f-11e8-8503-509a4c0f1ffc",
         "x": [
          "8-3",
          "8-4",
          "9-1",
          "9-2",
          "9-3",
          "9-4"
         ],
         "y": [
          32,
          33,
          34,
          35,
          35,
          35
         ]
        },
        {
         "line": {
          "dash": "dot"
         },
         "name": "如期完成项目数(封彦杰)",
         "type": "scatter",
         "uid": "49a285c1-cb6f-11e8-8918-509a4c0f1ffc",
         "x": [
          "8-3",
          "8-4",
          "9-1",
          "9-2",
          "9-3",
          "9-4"
         ],
         "y": [
          0,
          0,
          2,
          2,
          2,
          3
         ]
        },
        {
         "line": {
          "dash": "dash"
         },
         "name": "如期完成项目数(刘江)",
         "type": "scatter",
         "uid": "49a285c2-cb6f-11e8-978a-509a4c0f1ffc",
         "x": [
          "8-3",
          "8-4",
          "9-1",
          "9-2",
          "9-3",
          "9-4"
         ],
         "y": [
          0,
          0,
          0,
          0,
          0,
          0
         ]
        },
        {
         "line": {
          "dash": "longdash"
         },
         "name": "如期完成项目数(杨伟飞)",
         "type": "scatter",
         "uid": "49a285c3-cb6f-11e8-a334-509a4c0f1ffc",
         "x": [
          "8-3",
          "8-4",
          "9-1",
          "9-2",
          "9-3",
          "9-4"
         ],
         "y": [
          2,
          2,
          4,
          4,
          4,
          4
         ]
        },
        {
         "line": {
          "dash": "dashdot"
         },
         "name": "如期完成项目数(苏彦勋)",
         "type": "scatter",
         "uid": "49a285c4-cb6f-11e8-b95a-509a4c0f1ffc",
         "x": [
          "8-3",
          "8-4",
          "9-1",
          "9-2",
          "9-3",
          "9-4"
         ],
         "y": [
          20,
          21,
          22,
          25,
          25,
          null
         ]
        },
        {
         "line": {
          "dash": "longdashdot"
         },
         "name": "如期完成项目数(李华云)",
         "type": "scatter",
         "uid": "49a285c5-cb6f-11e8-b100-509a4c0f1ffc",
         "x": [
          "8-3",
          "8-4",
          "9-1",
          "9-2",
          "9-3",
          "9-4"
         ],
         "y": [
          5,
          5,
          5,
          5,
          22,
          null
         ]
        },
        {
         "line": {
          "dash": "solid"
         },
         "name": "如期完成项目数(任雪)",
         "type": "scatter",
         "uid": "49a285c6-cb6f-11e8-9ec3-509a4c0f1ffc",
         "x": [
          "8-3",
          "8-4",
          "9-1",
          "9-2",
          "9-3",
          "9-4"
         ],
         "y": [
          null,
          8,
          8,
          8,
          8,
          8
         ]
        },
        {
         "line": {
          "dash": "dot"
         },
         "name": "如期完成项目数(马潇)",
         "type": "scatter",
         "uid": "49a285c7-cb6f-11e8-a6b7-509a4c0f1ffc",
         "x": [
          "8-3",
          "8-4",
          "9-1",
          "9-2",
          "9-3",
          "9-4"
         ],
         "y": [
          0,
          0,
          0,
          0,
          0,
          0
         ]
        },
        {
         "line": {
          "dash": "dash"
         },
         "name": "如期完成项目数(宋迎楠)",
         "type": "scatter",
         "uid": "49a2acd0-cb6f-11e8-8b95-509a4c0f1ffc",
         "x": [
          "8-3",
          "8-4",
          "9-1",
          "9-2",
          "9-3",
          "9-4"
         ],
         "y": [
          0,
          0,
          0,
          null,
          null,
          null
         ]
        },
        {
         "line": {
          "dash": "longdash"
         },
         "name": "如期完成项目数(于勇一)",
         "type": "scatter",
         "uid": "49a2acd1-cb6f-11e8-854c-509a4c0f1ffc",
         "x": [
          "8-3",
          "8-4",
          "9-1",
          "9-2",
          "9-3",
          "9-4"
         ],
         "y": [
          0,
          0,
          0,
          0,
          0,
          0
         ]
        },
        {
         "line": {
          "dash": "dashdot"
         },
         "name": "如期完成项目数(刘慧玲)",
         "type": "scatter",
         "uid": "49a2acd2-cb6f-11e8-82c8-509a4c0f1ffc",
         "x": [
          "8-3",
          "8-4",
          "9-1",
          "9-2",
          "9-3",
          "9-4"
         ],
         "y": [
          3,
          3,
          3,
          null,
          null,
          null
         ]
        },
        {
         "line": {
          "dash": "longdashdot"
         },
         "name": "如期完成项目数(赵玥)",
         "type": "scatter",
         "uid": "49a2acd3-cb6f-11e8-a3ba-509a4c0f1ffc",
         "x": [
          "8-3",
          "8-4",
          "9-1",
          "9-2",
          "9-3",
          "9-4"
         ],
         "y": [
          20,
          21,
          20,
          21,
          21,
          21
         ]
        },
        {
         "line": {
          "dash": "solid"
         },
         "name": "如期完成项目数(占伟)",
         "type": "scatter",
         "uid": "49a2acd4-cb6f-11e8-a0d5-509a4c0f1ffc",
         "x": [
          "8-3",
          "8-4",
          "9-1",
          "9-2",
          "9-3",
          "9-4"
         ],
         "y": [
          12,
          10,
          10,
          10,
          13,
          13
         ]
        },
        {
         "line": {
          "dash": "dot"
         },
         "name": "如期完成项目数(周杨)",
         "type": "scatter",
         "uid": "49a2acd5-cb6f-11e8-b649-509a4c0f1ffc",
         "x": [
          "8-3",
          "8-4",
          "9-1",
          "9-2",
          "9-3",
          "9-4"
         ],
         "y": [
          28,
          28,
          28,
          29,
          32,
          32
         ]
        },
        {
         "line": {
          "dash": "dash"
         },
         "name": "如期完成项目数(谢德健)",
         "type": "scatter",
         "uid": "49a2acd6-cb6f-11e8-9086-509a4c0f1ffc",
         "x": [
          "8-3",
          "8-4",
          "9-1",
          "9-2",
          "9-3",
          "9-4"
         ],
         "y": [
          2,
          2,
          null,
          6,
          6,
          6
         ]
        },
        {
         "line": {
          "dash": "longdash"
         },
         "name": "如期完成项目数(范旭宁)",
         "type": "scatter",
         "uid": "49a2acd7-cb6f-11e8-a46e-509a4c0f1ffc",
         "x": [
          "8-3",
          "8-4",
          "9-1",
          "9-2",
          "9-3",
          "9-4"
         ],
         "y": [
          16,
          23,
          27,
          7,
          5,
          20
         ]
        },
        {
         "line": {
          "dash": "dashdot"
         },
         "name": "如期完成项目数(孟昊)",
         "type": "scatter",
         "uid": "49a2acd8-cb6f-11e8-9c4a-509a4c0f1ffc",
         "x": [
          "8-3",
          "8-4",
          "9-1",
          "9-2",
          "9-3",
          "9-4"
         ],
         "y": [
          38,
          38,
          38,
          39,
          40,
          40
         ]
        },
        {
         "line": {
          "dash": "longdashdot"
         },
         "name": "如期完成项目数(姚盟成)",
         "type": "scatter",
         "uid": "49a2acd9-cb6f-11e8-88c9-509a4c0f1ffc",
         "x": [
          "8-3",
          "8-4",
          "9-1",
          "9-2",
          "9-3",
          "9-4"
         ],
         "y": [
          3,
          3,
          3,
          3,
          3,
          3
         ]
        },
        {
         "line": {
          "dash": "solid"
         },
         "name": "如期完成项目数(张守伟)",
         "type": "scatter",
         "uid": "49a2acda-cb6f-11e8-960c-509a4c0f1ffc",
         "x": [
          "8-3",
          "8-4",
          "9-1",
          "9-2",
          "9-3",
          "9-4"
         ],
         "y": [
          13,
          16,
          18,
          20,
          20,
          21
         ]
        },
        {
         "line": {
          "dash": "dot"
         },
         "name": "如期完成项目数(韩少怀)",
         "type": "scatter",
         "uid": "49a2acdb-cb6f-11e8-a0f5-509a4c0f1ffc",
         "x": [
          "8-3",
          "8-4",
          "9-1",
          "9-2",
          "9-3",
          "9-4"
         ],
         "y": [
          5,
          5,
          6,
          5,
          5,
          null
         ]
        },
        {
         "line": {
          "dash": "dash"
         },
         "name": "如期完成项目数(李庆原)",
         "type": "scatter",
         "uid": "49a2acdc-cb6f-11e8-b1e9-509a4c0f1ffc",
         "x": [
          "8-3",
          "8-4",
          "9-1",
          "9-2",
          "9-3",
          "9-4"
         ],
         "y": [
          0,
          0,
          0,
          0,
          0,
          null
         ]
        },
        {
         "line": {
          "dash": "longdash"
         },
         "name": "如期完成项目数(段利强)",
         "type": "scatter",
         "uid": "49a2acdd-cb6f-11e8-89f0-509a4c0f1ffc",
         "x": [
          "8-3",
          "8-4",
          "9-1",
          "9-2",
          "9-3",
          "9-4"
         ],
         "y": [
          null,
          null,
          null,
          null,
          null,
          6
         ]
        },
        {
         "line": {
          "dash": "dashdot"
         },
         "name": "如期完成项目数(路慧萍)",
         "type": "scatter",
         "uid": "49a2acde-cb6f-11e8-b03d-509a4c0f1ffc",
         "x": [
          "8-3",
          "8-4",
          "9-1",
          "9-2",
          "9-3",
          "9-4"
         ],
         "y": [
          0,
          0,
          0,
          0,
          0,
          null
         ]
        },
        {
         "line": {
          "dash": "longdashdot"
         },
         "name": "如期完成项目数(王宁)",
         "type": "scatter",
         "uid": "49a2acdf-cb6f-11e8-bcb6-509a4c0f1ffc",
         "x": [
          "8-3",
          "8-4",
          "9-1",
          "9-2",
          "9-3",
          "9-4"
         ],
         "y": [
          0,
          0,
          0,
          null,
          null,
          null
         ]
        },
        {
         "line": {
          "dash": "solid"
         },
         "name": "开发中的项目数(于慧)",
         "type": "scatter",
         "uid": "49a2ace0-cb6f-11e8-bc9d-509a4c0f1ffc",
         "x": [
          "8-3",
          "8-4",
          "9-1",
          "9-2",
          "9-3",
          "9-4"
         ],
         "y": [
          4,
          3,
          2,
          2,
          2,
          1
         ]
        },
        {
         "line": {
          "dash": "dot"
         },
         "name": "开发中的项目数(封彦杰)",
         "type": "scatter",
         "uid": "49a2ace1-cb6f-11e8-a809-509a4c0f1ffc",
         "x": [
          "8-3",
          "8-4",
          "9-1",
          "9-2",
          "9-3",
          "9-4"
         ],
         "y": [
          4,
          4,
          2,
          2,
          3,
          0
         ]
        },
        {
         "line": {
          "dash": "dash"
         },
         "name": "开发中的项目数(刘江)",
         "type": "scatter",
         "uid": "49a2ace2-cb6f-11e8-b649-509a4c0f1ffc",
         "x": [
          "8-3",
          "8-4",
          "9-1",
          "9-2",
          "9-3",
          "9-4"
         ],
         "y": [
          3,
          2,
          1,
          1,
          1,
          1
         ]
        },
        {
         "line": {
          "dash": "longdash"
         },
         "name": "开发中的项目数(杨伟飞)",
         "type": "scatter",
         "uid": "49a2ace3-cb6f-11e8-920d-509a4c0f1ffc",
         "x": [
          "8-3",
          "8-4",
          "9-1",
          "9-2",
          "9-3",
          "9-4"
         ],
         "y": [
          5,
          4,
          2,
          2,
          2,
          2
         ]
        },
        {
         "line": {
          "dash": "dashdot"
         },
         "name": "开发中的项目数(苏彦勋)",
         "type": "scatter",
         "uid": "49a2ace4-cb6f-11e8-bed9-509a4c0f1ffc",
         "x": [
          "8-3",
          "8-4",
          "9-1",
          "9-2",
          "9-3",
          "9-4"
         ],
         "y": [
          5,
          4,
          3,
          0,
          0,
          null
         ]
        },
        {
         "line": {
          "dash": "longdashdot"
         },
         "name": "开发中的项目数(李华云)",
         "type": "scatter",
         "uid": "49a2ace5-cb6f-11e8-9e67-509a4c0f1ffc",
         "x": [
          "8-3",
          "8-4",
          "9-1",
          "9-2",
          "9-3",
          "9-4"
         ],
         "y": [
          24,
          24,
          20,
          18,
          3,
          null
         ]
        },
        {
         "line": {
          "dash": "solid"
         },
         "name": "开发中的项目数(任雪)",
         "type": "scatter",
         "uid": "49a2ace6-cb6f-11e8-9e96-509a4c0f1ffc",
         "x": [
          "8-3",
          "8-4",
          "9-1",
          "9-2",
          "9-3",
          "9-4"
         ],
         "y": [
          null,
          15,
          8,
          8,
          6,
          0
         ]
        },
        {
         "line": {
          "dash": "dot"
         },
         "name": "开发中的项目数(马潇)",
         "type": "scatter",
         "uid": "49a2ace7-cb6f-11e8-9750-509a4c0f1ffc",
         "x": [
          "8-3",
          "8-4",
          "9-1",
          "9-2",
          "9-3",
          "9-4"
         ],
         "y": [
          1,
          0,
          0,
          0,
          0,
          0
         ]
        },
        {
         "line": {
          "dash": "dash"
         },
         "name": "开发中的项目数(宋迎楠)",
         "type": "scatter",
         "uid": "49a2ace8-cb6f-11e8-b63b-509a4c0f1ffc",
         "x": [
          "8-3",
          "8-4",
          "9-1",
          "9-2",
          "9-3",
          "9-4"
         ],
         "y": [
          14,
          13,
          7,
          null,
          null,
          null
         ]
        },
        {
         "line": {
          "dash": "longdash"
         },
         "name": "开发中的项目数(于勇一)",
         "type": "scatter",
         "uid": "49a2ace9-cb6f-11e8-bf1f-509a4c0f1ffc",
         "x": [
          "8-3",
          "8-4",
          "9-1",
          "9-2",
          "9-3",
          "9-4"
         ],
         "y": [
          0,
          0,
          0,
          0,
          0,
          0
         ]
        },
        {
         "line": {
          "dash": "dashdot"
         },
         "name": "开发中的项目数(刘慧玲)",
         "type": "scatter",
         "uid": "49a2acea-cb6f-11e8-a794-509a4c0f1ffc",
         "x": [
          "8-3",
          "8-4",
          "9-1",
          "9-2",
          "9-3",
          "9-4"
         ],
         "y": [
          2,
          2,
          1,
          null,
          null,
          null
         ]
        },
        {
         "line": {
          "dash": "longdashdot"
         },
         "name": "开发中的项目数(赵玥)",
         "type": "scatter",
         "uid": "49a2aceb-cb6f-11e8-a88a-509a4c0f1ffc",
         "x": [
          "8-3",
          "8-4",
          "9-1",
          "9-2",
          "9-3",
          "9-4"
         ],
         "y": [
          0,
          2,
          3,
          1,
          0,
          0
         ]
        },
        {
         "line": {
          "dash": "solid"
         },
         "name": "开发中的项目数(占伟)",
         "type": "scatter",
         "uid": "49a2acec-cb6f-11e8-9dbe-509a4c0f1ffc",
         "x": [
          "8-3",
          "8-4",
          "9-1",
          "9-2",
          "9-3",
          "9-4"
         ],
         "y": [
          2,
          5,
          5,
          5,
          0,
          0
         ]
        },
        {
         "line": {
          "dash": "dot"
         },
         "name": "开发中的项目数(周杨)",
         "type": "scatter",
         "uid": "49a2aced-cb6f-11e8-b7b3-509a4c0f1ffc",
         "x": [
          "8-3",
          "8-4",
          "9-1",
          "9-2",
          "9-3",
          "9-4"
         ],
         "y": [
          3,
          3,
          3,
          2,
          0,
          0
         ]
        },
        {
         "line": {
          "dash": "dash"
         },
         "name": "开发中的项目数(谢德健)",
         "type": "scatter",
         "uid": "49a2acee-cb6f-11e8-94d8-509a4c0f1ffc",
         "x": [
          "8-3",
          "8-4",
          "9-1",
          "9-2",
          "9-3",
          "9-4"
         ],
         "y": [
          0,
          0,
          null,
          0,
          0,
          0
         ]
        },
        {
         "line": {
          "dash": "longdash"
         },
         "name": "开发中的项目数(范旭宁)",
         "type": "scatter",
         "uid": "49a2acef-cb6f-11e8-8d4d-509a4c0f1ffc",
         "x": [
          "8-3",
          "8-4",
          "9-1",
          "9-2",
          "9-3",
          "9-4"
         ],
         "y": [
          0,
          1,
          1,
          0,
          0,
          4
         ]
        },
        {
         "line": {
          "dash": "dashdot"
         },
         "name": "开发中的项目数(孟昊)",
         "type": "scatter",
         "uid": "49a2acf0-cb6f-11e8-bdda-509a4c0f1ffc",
         "x": [
          "8-3",
          "8-4",
          "9-1",
          "9-2",
          "9-3",
          "9-4"
         ],
         "y": [
          2,
          2,
          2,
          2,
          0,
          0
         ]
        },
        {
         "line": {
          "dash": "longdashdot"
         },
         "name": "开发中的项目数(姚盟成)",
         "type": "scatter",
         "uid": "49a2acf1-cb6f-11e8-955e-509a4c0f1ffc",
         "x": [
          "8-3",
          "8-4",
          "9-1",
          "9-2",
          "9-3",
          "9-4"
         ],
         "y": [
          1,
          2,
          3,
          2,
          7,
          4
         ]
        },
        {
         "line": {
          "dash": "solid"
         },
         "name": "开发中的项目数(张守伟)",
         "type": "scatter",
         "uid": "49a2acf2-cb6f-11e8-a03c-509a4c0f1ffc",
         "x": [
          "8-3",
          "8-4",
          "9-1",
          "9-2",
          "9-3",
          "9-4"
         ],
         "y": [
          2,
          2,
          2,
          2,
          0,
          0
         ]
        },
        {
         "line": {
          "dash": "dot"
         },
         "name": "开发中的项目数(韩少怀)",
         "type": "scatter",
         "uid": "49a2acf3-cb6f-11e8-99ac-509a4c0f1ffc",
         "x": [
          "8-3",
          "8-4",
          "9-1",
          "9-2",
          "9-3",
          "9-4"
         ],
         "y": [
          1,
          2,
          1,
          1,
          2,
          null
         ]
        },
        {
         "line": {
          "dash": "dash"
         },
         "name": "开发中的项目数(李庆原)",
         "type": "scatter",
         "uid": "49a2acf4-cb6f-11e8-b0fc-509a4c0f1ffc",
         "x": [
          "8-3",
          "8-4",
          "9-1",
          "9-2",
          "9-3",
          "9-4"
         ],
         "y": [
          0,
          0,
          0,
          0,
          0,
          null
         ]
        },
        {
         "line": {
          "dash": "longdash"
         },
         "name": "开发中的项目数(段利强)",
         "type": "scatter",
         "uid": "49a2acf5-cb6f-11e8-92f4-509a4c0f1ffc",
         "x": [
          "8-3",
          "8-4",
          "9-1",
          "9-2",
          "9-3",
          "9-4"
         ],
         "y": [
          null,
          null,
          null,
          null,
          null,
          0
         ]
        },
        {
         "line": {
          "dash": "dashdot"
         },
         "name": "开发中的项目数(路慧萍)",
         "type": "scatter",
         "uid": "49a2acf6-cb6f-11e8-ac28-509a4c0f1ffc",
         "x": [
          "8-3",
          "8-4",
          "9-1",
          "9-2",
          "9-3",
          "9-4"
         ],
         "y": [
          0,
          0,
          0,
          0,
          0,
          null
         ]
        },
        {
         "line": {
          "dash": "longdashdot"
         },
         "name": "开发中的项目数(王宁)",
         "type": "scatter",
         "uid": "49a2acf7-cb6f-11e8-8434-509a4c0f1ffc",
         "x": [
          "8-3",
          "8-4",
          "9-1",
          "9-2",
          "9-3",
          "9-4"
         ],
         "y": [
          0,
          0,
          0,
          null,
          null,
          null
         ]
        },
        {
         "line": {
          "dash": "solid"
         },
         "name": "延期完成(于慧)",
         "type": "scatter",
         "uid": "49a2acf8-cb6f-11e8-bb3f-509a4c0f1ffc",
         "x": [
          "8-3",
          "8-4",
          "9-1",
          "9-2",
          "9-3",
          "9-4"
         ],
         "y": [
          0,
          0,
          0,
          0,
          0,
          1
         ]
        },
        {
         "line": {
          "dash": "dot"
         },
         "name": "延期完成(封彦杰)",
         "type": "scatter",
         "uid": "49a2acf9-cb6f-11e8-a4d9-509a4c0f1ffc",
         "x": [
          "8-3",
          "8-4",
          "9-1",
          "9-2",
          "9-3",
          "9-4"
         ],
         "y": [
          0,
          0,
          0,
          0,
          0,
          1
         ]
        },
        {
         "line": {
          "dash": "dash"
         },
         "name": "延期完成(刘江)",
         "type": "scatter",
         "uid": "49a2acfa-cb6f-11e8-8d96-509a4c0f1ffc",
         "x": [
          "8-3",
          "8-4",
          "9-1",
          "9-2",
          "9-3",
          "9-4"
         ],
         "y": [
          0,
          1,
          2,
          0,
          2,
          2
         ]
        },
        {
         "line": {
          "dash": "longdash"
         },
         "name": "延期完成(杨伟飞)",
         "type": "scatter",
         "uid": "49a2acfb-cb6f-11e8-94e9-509a4c0f1ffc",
         "x": [
          "8-3",
          "8-4",
          "9-1",
          "9-2",
          "9-3",
          "9-4"
         ],
         "y": [
          1,
          2,
          2,
          2,
          2,
          2
         ]
        },
        {
         "line": {
          "dash": "dashdot"
         },
         "name": "延期完成(苏彦勋)",
         "type": "scatter",
         "uid": "49a2acfc-cb6f-11e8-ab60-509a4c0f1ffc",
         "x": [
          "8-3",
          "8-4",
          "9-1",
          "9-2",
          "9-3",
          "9-4"
         ],
         "y": [
          0,
          0,
          0,
          0,
          0,
          null
         ]
        },
        {
         "line": {
          "dash": "longdashdot"
         },
         "name": "延期完成(李华云)",
         "type": "scatter",
         "uid": "49a2acfd-cb6f-11e8-a621-509a4c0f1ffc",
         "x": [
          "8-3",
          "8-4",
          "9-1",
          "9-2",
          "9-3",
          "9-4"
         ],
         "y": [
          0,
          0,
          1,
          3,
          13,
          null
         ]
        },
        {
         "line": {
          "dash": "solid"
         },
         "name": "延期完成(任雪)",
         "type": "scatter",
         "uid": "49a2d3de-cb6f-11e8-a2fd-509a4c0f1ffc",
         "x": [
          "8-3",
          "8-4",
          "9-1",
          "9-2",
          "9-3",
          "9-4"
         ],
         "y": [
          null,
          1,
          1,
          1,
          5,
          7
         ]
        },
        {
         "line": {
          "dash": "dot"
         },
         "name": "延期完成(马潇)",
         "type": "scatter",
         "uid": "49a2d3df-cb6f-11e8-9018-509a4c0f1ffc",
         "x": [
          "8-3",
          "8-4",
          "9-1",
          "9-2",
          "9-3",
          "9-4"
         ],
         "y": [
          0,
          0,
          0,
          0,
          0,
          0
         ]
        },
        {
         "line": {
          "dash": "dash"
         },
         "name": "延期完成(宋迎楠)",
         "type": "scatter",
         "uid": "49a2d3e0-cb6f-11e8-8f84-509a4c0f1ffc",
         "x": [
          "8-3",
          "8-4",
          "9-1",
          "9-2",
          "9-3",
          "9-4"
         ],
         "y": [
          8,
          9,
          10,
          null,
          null,
          null
         ]
        },
        {
         "line": {
          "dash": "longdash"
         },
         "name": "延期完成(于勇一)",
         "type": "scatter",
         "uid": "49a2d3e1-cb6f-11e8-90fb-509a4c0f1ffc",
         "x": [
          "8-3",
          "8-4",
          "9-1",
          "9-2",
          "9-3",
          "9-4"
         ],
         "y": [
          0,
          0,
          0,
          0,
          0,
          0
         ]
        },
        {
         "line": {
          "dash": "dashdot"
         },
         "name": "延期完成(刘慧玲)",
         "type": "scatter",
         "uid": "49a2d3e2-cb6f-11e8-9bd3-509a4c0f1ffc",
         "x": [
          "8-3",
          "8-4",
          "9-1",
          "9-2",
          "9-3",
          "9-4"
         ],
         "y": [
          1,
          1,
          1,
          null,
          null,
          null
         ]
        },
        {
         "line": {
          "dash": "longdashdot"
         },
         "name": "延期完成(赵玥)",
         "type": "scatter",
         "uid": "49a2d3e3-cb6f-11e8-99a6-509a4c0f1ffc",
         "x": [
          "8-3",
          "8-4",
          "9-1",
          "9-2",
          "9-3",
          "9-4"
         ],
         "y": [
          1,
          1,
          1,
          1,
          1,
          1
         ]
        },
        {
         "line": {
          "dash": "solid"
         },
         "name": "延期完成(占伟)",
         "type": "scatter",
         "uid": "49a2d3e4-cb6f-11e8-92dc-509a4c0f1ffc",
         "x": [
          "8-3",
          "8-4",
          "9-1",
          "9-2",
          "9-3",
          "9-4"
         ],
         "y": [
          2,
          1,
          1,
          1,
          3,
          3
         ]
        },
        {
         "line": {
          "dash": "dot"
         },
         "name": "延期完成(周杨)",
         "type": "scatter",
         "uid": "49a2d3e5-cb6f-11e8-baef-509a4c0f1ffc",
         "x": [
          "8-3",
          "8-4",
          "9-1",
          "9-2",
          "9-3",
          "9-4"
         ],
         "y": [
          0,
          0,
          0,
          0,
          0,
          0
         ]
        },
        {
         "line": {
          "dash": "dash"
         },
         "name": "延期完成(谢德健)",
         "type": "scatter",
         "uid": "49a2d3e6-cb6f-11e8-87ed-509a4c0f1ffc",
         "x": [
          "8-3",
          "8-4",
          "9-1",
          "9-2",
          "9-3",
          "9-4"
         ],
         "y": [
          0,
          0,
          null,
          0,
          0,
          0
         ]
        },
        {
         "line": {
          "dash": "longdash"
         },
         "name": "延期完成(范旭宁)",
         "type": "scatter",
         "uid": "49a2d3e7-cb6f-11e8-9b14-509a4c0f1ffc",
         "x": [
          "8-3",
          "8-4",
          "9-1",
          "9-2",
          "9-3",
          "9-4"
         ],
         "y": [
          2,
          2,
          3,
          0,
          0,
          4
         ]
        },
        {
         "line": {
          "dash": "dashdot"
         },
         "name": "延期完成(孟昊)",
         "type": "scatter",
         "uid": "49a2d3e8-cb6f-11e8-a1da-509a4c0f1ffc",
         "x": [
          "8-3",
          "8-4",
          "9-1",
          "9-2",
          "9-3",
          "9-4"
         ],
         "y": [
          0,
          0,
          0,
          0,
          0,
          0
         ]
        },
        {
         "line": {
          "dash": "longdashdot"
         },
         "name": "延期完成(姚盟成)",
         "type": "scatter",
         "uid": "49a2d3e9-cb6f-11e8-9f63-509a4c0f1ffc",
         "x": [
          "8-3",
          "8-4",
          "9-1",
          "9-2",
          "9-3",
          "9-4"
         ],
         "y": [
          0,
          0,
          0,
          0,
          0,
          0
         ]
        },
        {
         "line": {
          "dash": "solid"
         },
         "name": "延期完成(张守伟)",
         "type": "scatter",
         "uid": "49a2d3ea-cb6f-11e8-8f68-509a4c0f1ffc",
         "x": [
          "8-3",
          "8-4",
          "9-1",
          "9-2",
          "9-3",
          "9-4"
         ],
         "y": [
          0,
          0,
          0,
          0,
          0,
          1
         ]
        },
        {
         "line": {
          "dash": "dot"
         },
         "name": "延期完成(韩少怀)",
         "type": "scatter",
         "uid": "49a2d3eb-cb6f-11e8-860d-509a4c0f1ffc",
         "x": [
          "8-3",
          "8-4",
          "9-1",
          "9-2",
          "9-3",
          "9-4"
         ],
         "y": [
          0,
          0,
          0,
          0,
          0,
          null
         ]
        },
        {
         "line": {
          "dash": "dash"
         },
         "name": "延期完成(李庆原)",
         "type": "scatter",
         "uid": "49a2d3ec-cb6f-11e8-bdca-509a4c0f1ffc",
         "x": [
          "8-3",
          "8-4",
          "9-1",
          "9-2",
          "9-3",
          "9-4"
         ],
         "y": [
          0,
          0,
          0,
          0,
          0,
          null
         ]
        },
        {
         "line": {
          "dash": "longdash"
         },
         "name": "延期完成(段利强)",
         "type": "scatter",
         "uid": "49a2d3ed-cb6f-11e8-8181-509a4c0f1ffc",
         "x": [
          "8-3",
          "8-4",
          "9-1",
          "9-2",
          "9-3",
          "9-4"
         ],
         "y": [
          null,
          null,
          null,
          null,
          null,
          0
         ]
        },
        {
         "line": {
          "dash": "dashdot"
         },
         "name": "延期完成(路慧萍)",
         "type": "scatter",
         "uid": "49a2d3ee-cb6f-11e8-9232-509a4c0f1ffc",
         "x": [
          "8-3",
          "8-4",
          "9-1",
          "9-2",
          "9-3",
          "9-4"
         ],
         "y": [
          0,
          0,
          0,
          0,
          0,
          null
         ]
        },
        {
         "line": {
          "dash": "longdashdot"
         },
         "name": "延期完成(王宁)",
         "type": "scatter",
         "uid": "49a2d3ef-cb6f-11e8-af4a-509a4c0f1ffc",
         "x": [
          "8-3",
          "8-4",
          "9-1",
          "9-2",
          "9-3",
          "9-4"
         ],
         "y": [
          0,
          0,
          0,
          null,
          null,
          null
         ]
        },
        {
         "line": {
          "dash": "solid"
         },
         "name": "季度开发项目数(于慧)",
         "type": "scatter",
         "uid": "49a2d3f0-cb6f-11e8-a9b1-509a4c0f1ffc",
         "x": [
          "8-3",
          "8-4",
          "9-1",
          "9-2",
          "9-3",
          "9-4"
         ],
         "y": [
          36,
          36,
          36,
          37,
          37,
          37
         ]
        },
        {
         "line": {
          "dash": "dot"
         },
         "name": "季度开发项目数(封彦杰)",
         "type": "scatter",
         "uid": "49a2d3f1-cb6f-11e8-b796-509a4c0f1ffc",
         "x": [
          "8-3",
          "8-4",
          "9-1",
          "9-2",
          "9-3",
          "9-4"
         ],
         "y": [
          5,
          5,
          5,
          5,
          5,
          5
         ]
        },
        {
         "line": {
          "dash": "dash"
         },
         "name": "季度开发项目数(刘江)",
         "type": "scatter",
         "uid": "49a2d3f2-cb6f-11e8-8705-509a4c0f1ffc",
         "x": [
          "8-3",
          "8-4",
          "9-1",
          "9-2",
          "9-3",
          "9-4"
         ],
         "y": [
          3,
          3,
          3,
          0,
          3,
          3
         ]
        },
        {
         "line": {
          "dash": "longdash"
         },
         "name": "季度开发项目数(杨伟飞)",
         "type": "scatter",
         "uid": "49a2d3f3-cb6f-11e8-a8c8-509a4c0f1ffc",
         "x": [
          "8-3",
          "8-4",
          "9-1",
          "9-2",
          "9-3",
          "9-4"
         ],
         "y": [
          8,
          8,
          8,
          8,
          8,
          8
         ]
        },
        {
         "line": {
          "dash": "dashdot"
         },
         "name": "季度开发项目数(苏彦勋)",
         "type": "scatter",
         "uid": "49a2d3f4-cb6f-11e8-83ff-509a4c0f1ffc",
         "x": [
          "8-3",
          "8-4",
          "9-1",
          "9-2",
          "9-3",
          "9-4"
         ],
         "y": [
          33,
          33,
          33,
          33,
          33,
          null
         ]
        },
        {
         "line": {
          "dash": "longdashdot"
         },
         "name": "季度开发项目数(李华云)",
         "type": "scatter",
         "uid": "49a2d3f5-cb6f-11e8-960f-509a4c0f1ffc",
         "x": [
          "8-3",
          "8-4",
          "9-1",
          "9-2",
          "9-3",
          "9-4"
         ],
         "y": [
          35,
          35,
          35,
          35,
          47,
          null
         ]
        },
        {
         "line": {
          "dash": "solid"
         },
         "name": "季度开发项目数(任雪)",
         "type": "scatter",
         "uid": "49a2d3f6-cb6f-11e8-8744-509a4c0f1ffc",
         "x": [
          "8-3",
          "8-4",
          "9-1",
          "9-2",
          "9-3",
          "9-4"
         ],
         "y": [
          null,
          27,
          27,
          27,
          27,
          27
         ]
        },
        {
         "line": {
          "dash": "dot"
         },
         "name": "季度开发项目数(马潇)",
         "type": "scatter",
         "uid": "49a2d3f7-cb6f-11e8-a6ef-509a4c0f1ffc",
         "x": [
          "8-3",
          "8-4",
          "9-1",
          "9-2",
          "9-3",
          "9-4"
         ],
         "y": [
          0,
          0,
          0,
          0,
          0,
          0
         ]
        },
        {
         "line": {
          "dash": "dash"
         },
         "name": "季度开发项目数(宋迎楠)",
         "type": "scatter",
         "uid": "49a2d3f8-cb6f-11e8-b3b6-509a4c0f1ffc",
         "x": [
          "8-3",
          "8-4",
          "9-1",
          "9-2",
          "9-3",
          "9-4"
         ],
         "y": [
          23,
          23,
          23,
          null,
          null,
          null
         ]
        },
        {
         "line": {
          "dash": "longdash"
         },
         "name": "季度开发项目数(于勇一)",
         "type": "scatter",
         "uid": "49a2d3f9-cb6f-11e8-983b-509a4c0f1ffc",
         "x": [
          "8-3",
          "8-4",
          "9-1",
          "9-2",
          "9-3",
          "9-4"
         ],
         "y": [
          0,
          0,
          0,
          0,
          0,
          0
         ]
        },
        {
         "line": {
          "dash": "dashdot"
         },
         "name": "季度开发项目数(刘慧玲)",
         "type": "scatter",
         "uid": "49a2d3fa-cb6f-11e8-8727-509a4c0f1ffc",
         "x": [
          "8-3",
          "8-4",
          "9-1",
          "9-2",
          "9-3",
          "9-4"
         ],
         "y": [
          8,
          8,
          9,
          null,
          null,
          null
         ]
        },
        {
         "line": {
          "dash": "longdashdot"
         },
         "name": "季度开发项目数(赵玥)",
         "type": "scatter",
         "uid": "49a2d3fb-cb6f-11e8-b9e3-509a4c0f1ffc",
         "x": [
          "8-3",
          "8-4",
          "9-1",
          "9-2",
          "9-3",
          "9-4"
         ],
         "y": [
          21,
          22,
          21,
          22,
          22,
          22
         ]
        },
        {
         "line": {
          "dash": "solid"
         },
         "name": "季度开发项目数(占伟)",
         "type": "scatter",
         "uid": "49a2d3fc-cb6f-11e8-8c83-509a4c0f1ffc",
         "x": [
          "8-3",
          "8-4",
          "9-1",
          "9-2",
          "9-3",
          "9-4"
         ],
         "y": [
          19,
          18,
          18,
          18,
          19,
          19
         ]
        },
        {
         "line": {
          "dash": "dot"
         },
         "name": "季度开发项目数(周杨)",
         "type": "scatter",
         "uid": "49a2d3fd-cb6f-11e8-be1f-509a4c0f1ffc",
         "x": [
          "8-3",
          "8-4",
          "9-1",
          "9-2",
          "9-3",
          "9-4"
         ],
         "y": [
          32,
          32,
          32,
          32,
          32,
          32
         ]
        },
        {
         "line": {
          "dash": "dash"
         },
         "name": "季度开发项目数(谢德健)",
         "type": "scatter",
         "uid": "49a2d3fe-cb6f-11e8-b5d3-509a4c0f1ffc",
         "x": [
          "8-3",
          "8-4",
          "9-1",
          "9-2",
          "9-3",
          "9-4"
         ],
         "y": [
          2,
          2,
          null,
          6,
          6,
          6
         ]
        },
        {
         "line": {
          "dash": "longdash"
         },
         "name": "季度开发项目数(范旭宁)",
         "type": "scatter",
         "uid": "49a2d3ff-cb6f-11e8-b7a2-509a4c0f1ffc",
         "x": [
          "8-3",
          "8-4",
          "9-1",
          "9-2",
          "9-3",
          "9-4"
         ],
         "y": [
          18,
          25,
          30,
          7,
          5,
          24
         ]
        },
        {
         "line": {
          "dash": "dashdot"
         },
         "name": "季度开发项目数(孟昊)",
         "type": "scatter",
         "uid": "49a2d400-cb6f-11e8-99bf-509a4c0f1ffc",
         "x": [
          "8-3",
          "8-4",
          "9-1",
          "9-2",
          "9-3",
          "9-4"
         ],
         "y": [
          43,
          43,
          43,
          43,
          43,
          43
         ]
        },
        {
         "line": {
          "dash": "longdashdot"
         },
         "name": "季度开发项目数(姚盟成)",
         "type": "scatter",
         "uid": "49a2d401-cb6f-11e8-ba51-509a4c0f1ffc",
         "x": [
          "8-3",
          "8-4",
          "9-1",
          "9-2",
          "9-3",
          "9-4"
         ],
         "y": [
          9,
          9,
          9,
          9,
          9,
          15
         ]
        },
        {
         "line": {
          "dash": "solid"
         },
         "name": "季度开发项目数(张守伟)",
         "type": "scatter",
         "uid": "49a2d402-cb6f-11e8-a64d-509a4c0f1ffc",
         "x": [
          "8-3",
          "8-4",
          "9-1",
          "9-2",
          "9-3",
          "9-4"
         ],
         "y": [
          13,
          16,
          18,
          20,
          20,
          21
         ]
        },
        {
         "line": {
          "dash": "dot"
         },
         "name": "季度开发项目数(韩少怀)",
         "type": "scatter",
         "uid": "49a2d403-cb6f-11e8-8f24-509a4c0f1ffc",
         "x": [
          "8-3",
          "8-4",
          "9-1",
          "9-2",
          "9-3",
          "9-4"
         ],
         "y": [
          7,
          7,
          7,
          6,
          7,
          null
         ]
        },
        {
         "line": {
          "dash": "dash"
         },
         "name": "季度开发项目数(李庆原)",
         "type": "scatter",
         "uid": "49a2d404-cb6f-11e8-9b0f-509a4c0f1ffc",
         "x": [
          "8-3",
          "8-4",
          "9-1",
          "9-2",
          "9-3",
          "9-4"
         ],
         "y": [
          0,
          0,
          0,
          0,
          0,
          null
         ]
        },
        {
         "line": {
          "dash": "longdash"
         },
         "name": "季度开发项目数(段利强)",
         "type": "scatter",
         "uid": "49a2d405-cb6f-11e8-93ee-509a4c0f1ffc",
         "x": [
          "8-3",
          "8-4",
          "9-1",
          "9-2",
          "9-3",
          "9-4"
         ],
         "y": [
          null,
          null,
          null,
          null,
          null,
          0
         ]
        },
        {
         "line": {
          "dash": "dashdot"
         },
         "name": "季度开发项目数(路慧萍)",
         "type": "scatter",
         "uid": "49a2d406-cb6f-11e8-81f3-509a4c0f1ffc",
         "x": [
          "8-3",
          "8-4",
          "9-1",
          "9-2",
          "9-3",
          "9-4"
         ],
         "y": [
          0,
          0,
          0,
          0,
          0,
          null
         ]
        },
        {
         "line": {
          "dash": "longdashdot"
         },
         "name": "季度开发项目数(王宁)",
         "type": "scatter",
         "uid": "49a2d407-cb6f-11e8-8a9f-509a4c0f1ffc",
         "x": [
          "8-3",
          "8-4",
          "9-1",
          "9-2",
          "9-3",
          "9-4"
         ],
         "y": [
          0,
          0,
          0,
          null,
          null,
          null
         ]
        },
        {
         "line": {
          "dash": "solid"
         },
         "name": "暂停项目数(于慧)",
         "type": "scatter",
         "uid": "49a2d408-cb6f-11e8-b5c2-509a4c0f1ffc",
         "x": [
          "8-3",
          "8-4",
          "9-1",
          "9-2",
          "9-3",
          "9-4"
         ],
         "y": [
          0,
          0,
          0,
          0,
          0,
          0
         ]
        },
        {
         "line": {
          "dash": "dot"
         },
         "name": "暂停项目数(封彦杰)",
         "type": "scatter",
         "uid": "49a2d409-cb6f-11e8-ab64-509a4c0f1ffc",
         "x": [
          "8-3",
          "8-4",
          "9-1",
          "9-2",
          "9-3",
          "9-4"
         ],
         "y": [
          1,
          1,
          1,
          1,
          0,
          2
         ]
        },
        {
         "line": {
          "dash": "dash"
         },
         "name": "暂停项目数(刘江)",
         "type": "scatter",
         "uid": "49a2d40a-cb6f-11e8-bd85-509a4c0f1ffc",
         "x": [
          "8-3",
          "8-4",
          "9-1",
          "9-2",
          "9-3",
          "9-4"
         ],
         "y": [
          0,
          0,
          0,
          1,
          0,
          0
         ]
        },
        {
         "line": {
          "dash": "longdash"
         },
         "name": "暂停项目数(杨伟飞)",
         "type": "scatter",
         "uid": "49a2d40b-cb6f-11e8-9dbf-509a4c0f1ffc",
         "x": [
          "8-3",
          "8-4",
          "9-1",
          "9-2",
          "9-3",
          "9-4"
         ],
         "y": [
          0,
          0,
          0,
          0,
          0,
          0
         ]
        },
        {
         "line": {
          "dash": "dashdot"
         },
         "name": "暂停项目数(苏彦勋)",
         "type": "scatter",
         "uid": "49a2d40c-cb6f-11e8-bb7f-509a4c0f1ffc",
         "x": [
          "8-3",
          "8-4",
          "9-1",
          "9-2",
          "9-3",
          "9-4"
         ],
         "y": [
          8,
          8,
          8,
          8,
          8,
          null
         ]
        },
        {
         "line": {
          "dash": "longdashdot"
         },
         "name": "暂停项目数(李华云)",
         "type": "scatter",
         "uid": "49a2d40d-cb6f-11e8-843b-509a4c0f1ffc",
         "x": [
          "8-3",
          "8-4",
          "9-1",
          "9-2",
          "9-3",
          "9-4"
         ],
         "y": [
          0,
          0,
          0,
          0,
          3,
          null
         ]
        },
        {
         "line": {
          "dash": "solid"
         },
         "name": "暂停项目数(任雪)",
         "type": "scatter",
         "uid": "49a2faee-cb6f-11e8-bce3-509a4c0f1ffc",
         "x": [
          "8-3",
          "8-4",
          "9-1",
          "9-2",
          "9-3",
          "9-4"
         ],
         "y": [
          null,
          0,
          3,
          3,
          4,
          4
         ]
        },
        {
         "line": {
          "dash": "dot"
         },
         "name": "暂停项目数(马潇)",
         "type": "scatter",
         "uid": "49a2faef-cb6f-11e8-97ef-509a4c0f1ffc",
         "x": [
          "8-3",
          "8-4",
          "9-1",
          "9-2",
          "9-3",
          "9-4"
         ],
         "y": [
          0,
          0,
          0,
          0,
          0,
          0
         ]
        },
        {
         "line": {
          "dash": "dash"
         },
         "name": "暂停项目数(宋迎楠)",
         "type": "scatter",
         "uid": "49a2faf0-cb6f-11e8-93b4-509a4c0f1ffc",
         "x": [
          "8-3",
          "8-4",
          "9-1",
          "9-2",
          "9-3",
          "9-4"
         ],
         "y": [
          0,
          0,
          0,
          null,
          null,
          null
         ]
        },
        {
         "line": {
          "dash": "longdash"
         },
         "name": "暂停项目数(于勇一)",
         "type": "scatter",
         "uid": "49a2faf1-cb6f-11e8-970e-509a4c0f1ffc",
         "x": [
          "8-3",
          "8-4",
          "9-1",
          "9-2",
          "9-3",
          "9-4"
         ],
         "y": [
          0,
          0,
          0,
          0,
          0,
          0
         ]
        },
        {
         "line": {
          "dash": "dashdot"
         },
         "name": "暂停项目数(刘慧玲)",
         "type": "scatter",
         "uid": "49a2faf2-cb6f-11e8-9c15-509a4c0f1ffc",
         "x": [
          "8-3",
          "8-4",
          "9-1",
          "9-2",
          "9-3",
          "9-4"
         ],
         "y": [
          2,
          2,
          4,
          null,
          null,
          null
         ]
        },
        {
         "line": {
          "dash": "longdashdot"
         },
         "name": "暂停项目数(赵玥)",
         "type": "scatter",
         "uid": "49a2faf3-cb6f-11e8-a7df-509a4c0f1ffc",
         "x": [
          "8-3",
          "8-4",
          "9-1",
          "9-2",
          "9-3",
          "9-4"
         ],
         "y": [
          0,
          0,
          1,
          1,
          1,
          0
         ]
        },
        {
         "line": {
          "dash": "solid"
         },
         "name": "暂停项目数(占伟)",
         "type": "scatter",
         "uid": "49a2faf4-cb6f-11e8-88cb-509a4c0f1ffc",
         "x": [
          "8-3",
          "8-4",
          "9-1",
          "9-2",
          "9-3",
          "9-4"
         ],
         "y": [
          0,
          0,
          0,
          0,
          0,
          0
         ]
        },
        {
         "line": {
          "dash": "dot"
         },
         "name": "暂停项目数(周杨)",
         "type": "scatter",
         "uid": "49a2faf5-cb6f-11e8-90b9-509a4c0f1ffc",
         "x": [
          "8-3",
          "8-4",
          "9-1",
          "9-2",
          "9-3",
          "9-4"
         ],
         "y": [
          1,
          1,
          1,
          1,
          1,
          1
         ]
        },
        {
         "line": {
          "dash": "dash"
         },
         "name": "暂停项目数(谢德健)",
         "type": "scatter",
         "uid": "49a2faf6-cb6f-11e8-82d4-509a4c0f1ffc",
         "x": [
          "8-3",
          "8-4",
          "9-1",
          "9-2",
          "9-3",
          "9-4"
         ],
         "y": [
          0,
          0,
          null,
          0,
          0,
          0
         ]
        },
        {
         "line": {
          "dash": "longdash"
         },
         "name": "暂停项目数(范旭宁)",
         "type": "scatter",
         "uid": "49a2faf7-cb6f-11e8-b9a1-509a4c0f1ffc",
         "x": [
          "8-3",
          "8-4",
          "9-1",
          "9-2",
          "9-3",
          "9-4"
         ],
         "y": [
          0,
          0,
          0,
          0,
          0,
          0
         ]
        },
        {
         "line": {
          "dash": "dashdot"
         },
         "name": "暂停项目数(孟昊)",
         "type": "scatter",
         "uid": "49a2faf8-cb6f-11e8-8c85-509a4c0f1ffc",
         "x": [
          "8-3",
          "8-4",
          "9-1",
          "9-2",
          "9-3",
          "9-4"
         ],
         "y": [
          3,
          3,
          3,
          3,
          3,
          3
         ]
        },
        {
         "line": {
          "dash": "longdashdot"
         },
         "name": "暂停项目数(姚盟成)",
         "type": "scatter",
         "uid": "49a2faf9-cb6f-11e8-8c16-509a4c0f1ffc",
         "x": [
          "8-3",
          "8-4",
          "9-1",
          "9-2",
          "9-3",
          "9-4"
         ],
         "y": [
          0,
          0,
          0,
          0,
          12,
          12
         ]
        },
        {
         "line": {
          "dash": "solid"
         },
         "name": "暂停项目数(张守伟)",
         "type": "scatter",
         "uid": "49a2fafa-cb6f-11e8-9511-509a4c0f1ffc",
         "x": [
          "8-3",
          "8-4",
          "9-1",
          "9-2",
          "9-3",
          "9-4"
         ],
         "y": [
          0,
          0,
          0,
          0,
          0,
          0
         ]
        },
        {
         "line": {
          "dash": "dot"
         },
         "name": "暂停项目数(韩少怀)",
         "type": "scatter",
         "uid": "49a2fafb-cb6f-11e8-a14d-509a4c0f1ffc",
         "x": [
          "8-3",
          "8-4",
          "9-1",
          "9-2",
          "9-3",
          "9-4"
         ],
         "y": [
          0,
          0,
          0,
          0,
          0,
          null
         ]
        },
        {
         "line": {
          "dash": "dash"
         },
         "name": "暂停项目数(李庆原)",
         "type": "scatter",
         "uid": "49a2fafc-cb6f-11e8-af59-509a4c0f1ffc",
         "x": [
          "8-3",
          "8-4",
          "9-1",
          "9-2",
          "9-3",
          "9-4"
         ],
         "y": [
          0,
          0,
          0,
          0,
          0,
          null
         ]
        },
        {
         "line": {
          "dash": "longdash"
         },
         "name": "暂停项目数(段利强)",
         "type": "scatter",
         "uid": "49a2fafd-cb6f-11e8-9a39-509a4c0f1ffc",
         "x": [
          "8-3",
          "8-4",
          "9-1",
          "9-2",
          "9-3",
          "9-4"
         ],
         "y": [
          null,
          null,
          null,
          null,
          null,
          0
         ]
        },
        {
         "line": {
          "dash": "dashdot"
         },
         "name": "暂停项目数(路慧萍)",
         "type": "scatter",
         "uid": "49a2fafe-cb6f-11e8-90e8-509a4c0f1ffc",
         "x": [
          "8-3",
          "8-4",
          "9-1",
          "9-2",
          "9-3",
          "9-4"
         ],
         "y": [
          0,
          0,
          0,
          0,
          2,
          null
         ]
        },
        {
         "line": {
          "dash": "longdashdot"
         },
         "name": "暂停项目数(王宁)",
         "type": "scatter",
         "uid": "49a2faff-cb6f-11e8-bc0e-509a4c0f1ffc",
         "x": [
          "8-3",
          "8-4",
          "9-1",
          "9-2",
          "9-3",
          "9-4"
         ],
         "y": [
          0,
          0,
          0,
          null,
          null,
          null
         ]
        },
        {
         "line": {
          "dash": "solid"
         },
         "name": "延期项目数(于慧)",
         "type": "scatter",
         "uid": "49a2fb00-cb6f-11e8-bc14-509a4c0f1ffc",
         "x": [
          "8-3",
          "8-4",
          "9-1",
          "9-2",
          "9-3",
          "9-4"
         ],
         "y": [
          0,
          0,
          0,
          0,
          0,
          0
         ]
        },
        {
         "line": {
          "dash": "dot"
         },
         "name": "延期项目数(封彦杰)",
         "type": "scatter",
         "uid": "49a2fb01-cb6f-11e8-8c07-509a4c0f1ffc",
         "x": [
          "8-3",
          "8-4",
          "9-1",
          "9-2",
          "9-3",
          "9-4"
         ],
         "y": [
          0,
          0,
          0,
          0,
          0,
          1
         ]
        },
        {
         "line": {
          "dash": "dash"
         },
         "name": "延期项目数(刘江)",
         "type": "scatter",
         "uid": "49a2fb02-cb6f-11e8-a15f-509a4c0f1ffc",
         "x": [
          "8-3",
          "8-4",
          "9-1",
          "9-2",
          "9-3",
          "9-4"
         ],
         "y": [
          0,
          0,
          0,
          0,
          0,
          0
         ]
        },
        {
         "line": {
          "dash": "longdash"
         },
         "name": "延期项目数(杨伟飞)",
         "type": "scatter",
         "uid": "49a2fb03-cb6f-11e8-bd53-509a4c0f1ffc",
         "x": [
          "8-3",
          "8-4",
          "9-1",
          "9-2",
          "9-3",
          "9-4"
         ],
         "y": [
          0,
          0,
          0,
          0,
          0,
          0
         ]
        },
        {
         "line": {
          "dash": "dashdot"
         },
         "name": "延期项目数(苏彦勋)",
         "type": "scatter",
         "uid": "49a2fb04-cb6f-11e8-99a7-509a4c0f1ffc",
         "x": [
          "8-3",
          "8-4",
          "9-1",
          "9-2",
          "9-3",
          "9-4"
         ],
         "y": [
          0,
          0,
          0,
          0,
          0,
          null
         ]
        },
        {
         "line": {
          "dash": "longdashdot"
         },
         "name": "延期项目数(李华云)",
         "type": "scatter",
         "uid": "49a2fb05-cb6f-11e8-827b-509a4c0f1ffc",
         "x": [
          "8-3",
          "8-4",
          "9-1",
          "9-2",
          "9-3",
          "9-4"
         ],
         "y": [
          6,
          6,
          9,
          9,
          6,
          null
         ]
        },
        {
         "line": {
          "dash": "solid"
         },
         "name": "延期项目数(任雪)",
         "type": "scatter",
         "uid": "49a2fb06-cb6f-11e8-98a9-509a4c0f1ffc",
         "x": [
          "8-3",
          "8-4",
          "9-1",
          "9-2",
          "9-3",
          "9-4"
         ],
         "y": [
          null,
          3,
          7,
          7,
          4,
          8
         ]
        },
        {
         "line": {
          "dash": "dot"
         },
         "name": "延期项目数(马潇)",
         "type": "scatter",
         "uid": "49a2fb07-cb6f-11e8-a98b-509a4c0f1ffc",
         "x": [
          "8-3",
          "8-4",
          "9-1",
          "9-2",
          "9-3",
          "9-4"
         ],
         "y": [
          1,
          0,
          0,
          0,
          0,
          0
         ]
        },
        {
         "line": {
          "dash": "dash"
         },
         "name": "延期项目数(宋迎楠)",
         "type": "scatter",
         "uid": "49a2fb08-cb6f-11e8-95f8-509a4c0f1ffc",
         "x": [
          "8-3",
          "8-4",
          "9-1",
          "9-2",
          "9-3",
          "9-4"
         ],
         "y": [
          1,
          1,
          6,
          null,
          null,
          null
         ]
        },
        {
         "line": {
          "dash": "longdash"
         },
         "name": "延期项目数(于勇一)",
         "type": "scatter",
         "uid": "49a2fb09-cb6f-11e8-8822-509a4c0f1ffc",
         "x": [
          "8-3",
          "8-4",
          "9-1",
          "9-2",
          "9-3",
          "9-4"
         ],
         "y": [
          0,
          0,
          0,
          0,
          0,
          0
         ]
        },
        {
         "line": {
          "dash": "dashdot"
         },
         "name": "延期项目数(刘慧玲)",
         "type": "scatter",
         "uid": "49a2fb0a-cb6f-11e8-b88c-509a4c0f1ffc",
         "x": [
          "8-3",
          "8-4",
          "9-1",
          "9-2",
          "9-3",
          "9-4"
         ],
         "y": [
          0,
          0,
          0,
          null,
          null,
          null
         ]
        },
        {
         "line": {
          "dash": "longdashdot"
         },
         "name": "延期项目数(赵玥)",
         "type": "scatter",
         "uid": "49a2fb0b-cb6f-11e8-9b86-509a4c0f1ffc",
         "x": [
          "8-3",
          "8-4",
          "9-1",
          "9-2",
          "9-3",
          "9-4"
         ],
         "y": [
          0,
          0,
          1,
          1,
          1,
          0
         ]
        },
        {
         "line": {
          "dash": "solid"
         },
         "name": "延期项目数(占伟)",
         "type": "scatter",
         "uid": "49a2fb0c-cb6f-11e8-beef-509a4c0f1ffc",
         "x": [
          "8-3",
          "8-4",
          "9-1",
          "9-2",
          "9-3",
          "9-4"
         ],
         "y": [
          3,
          3,
          3,
          3,
          3,
          3
         ]
        },
        {
         "line": {
          "dash": "dot"
         },
         "name": "延期项目数(周杨)",
         "type": "scatter",
         "uid": "49a2fb0d-cb6f-11e8-bd57-509a4c0f1ffc",
         "x": [
          "8-3",
          "8-4",
          "9-1",
          "9-2",
          "9-3",
          "9-4"
         ],
         "y": [
          0,
          0,
          0,
          0,
          0,
          0
         ]
        },
        {
         "line": {
          "dash": "dash"
         },
         "name": "延期项目数(谢德健)",
         "type": "scatter",
         "uid": "49a2fb0e-cb6f-11e8-9af7-509a4c0f1ffc",
         "x": [
          "8-3",
          "8-4",
          "9-1",
          "9-2",
          "9-3",
          "9-4"
         ],
         "y": [
          0,
          0,
          null,
          0,
          0,
          0
         ]
        },
        {
         "line": {
          "dash": "longdash"
         },
         "name": "延期项目数(范旭宁)",
         "type": "scatter",
         "uid": "49a2fb0f-cb6f-11e8-8fce-509a4c0f1ffc",
         "x": [
          "8-3",
          "8-4",
          "9-1",
          "9-2",
          "9-3",
          "9-4"
         ],
         "y": [
          0,
          0,
          0,
          0,
          0,
          4
         ]
        },
        {
         "line": {
          "dash": "dashdot"
         },
         "name": "延期项目数(孟昊)",
         "type": "scatter",
         "uid": "49a2fb10-cb6f-11e8-a6e7-509a4c0f1ffc",
         "x": [
          "8-3",
          "8-4",
          "9-1",
          "9-2",
          "9-3",
          "9-4"
         ],
         "y": [
          0,
          0,
          0,
          0,
          0,
          0
         ]
        },
        {
         "line": {
          "dash": "longdashdot"
         },
         "name": "延期项目数(姚盟成)",
         "type": "scatter",
         "uid": "49a2fb11-cb6f-11e8-bd80-509a4c0f1ffc",
         "x": [
          "8-3",
          "8-4",
          "9-1",
          "9-2",
          "9-3",
          "9-4"
         ],
         "y": [
          0,
          0,
          0,
          0,
          0,
          0
         ]
        },
        {
         "line": {
          "dash": "solid"
         },
         "name": "延期项目数(张守伟)",
         "type": "scatter",
         "uid": "49a2fb12-cb6f-11e8-b8b1-509a4c0f1ffc",
         "x": [
          "8-3",
          "8-4",
          "9-1",
          "9-2",
          "9-3",
          "9-4"
         ],
         "y": [
          0,
          0,
          0,
          0,
          0,
          0
         ]
        },
        {
         "line": {
          "dash": "dot"
         },
         "name": "延期项目数(韩少怀)",
         "type": "scatter",
         "uid": "49a2fb13-cb6f-11e8-b0f5-509a4c0f1ffc",
         "x": [
          "8-3",
          "8-4",
          "9-1",
          "9-2",
          "9-3",
          "9-4"
         ],
         "y": [
          0,
          0,
          0,
          0,
          0,
          null
         ]
        },
        {
         "line": {
          "dash": "dash"
         },
         "name": "延期项目数(李庆原)",
         "type": "scatter",
         "uid": "49a2fb14-cb6f-11e8-b341-509a4c0f1ffc",
         "x": [
          "8-3",
          "8-4",
          "9-1",
          "9-2",
          "9-3",
          "9-4"
         ],
         "y": [
          0,
          0,
          0,
          0,
          0,
          null
         ]
        },
        {
         "line": {
          "dash": "longdash"
         },
         "name": "延期项目数(段利强)",
         "type": "scatter",
         "uid": "49a2fb15-cb6f-11e8-a3f3-509a4c0f1ffc",
         "x": [
          "8-3",
          "8-4",
          "9-1",
          "9-2",
          "9-3",
          "9-4"
         ],
         "y": [
          null,
          null,
          null,
          null,
          null,
          0
         ]
        },
        {
         "line": {
          "dash": "dashdot"
         },
         "name": "延期项目数(路慧萍)",
         "type": "scatter",
         "uid": "49a2fb16-cb6f-11e8-813a-509a4c0f1ffc",
         "x": [
          "8-3",
          "8-4",
          "9-1",
          "9-2",
          "9-3",
          "9-4"
         ],
         "y": [
          0,
          0,
          0,
          0,
          0,
          null
         ]
        },
        {
         "line": {
          "dash": "longdashdot"
         },
         "name": "延期项目数(王宁)",
         "type": "scatter",
         "uid": "49a2fb17-cb6f-11e8-bc4a-509a4c0f1ffc",
         "x": [
          "8-3",
          "8-4",
          "9-1",
          "9-2",
          "9-3",
          "9-4"
         ],
         "y": [
          0,
          0,
          0,
          null,
          null,
          null
         ]
        }
       ],
       "layout": {
        "title": "如期完成项目数&开发中的项目数&延期完成&季度开发项目数&暂停项目数&延期项目数周趋势图",
        "xaxis": {
         "mirror": "all",
         "nticks": 20,
         "showgrid": true,
         "showline": true,
         "title": "周",
         "zeroline": true
        },
        "yaxis": {
         "mirror": "all",
         "nticks": 20,
         "showgrid": true,
         "showline": true,
         "title": "如期完成项目数&开发中的项目数&延期完成&季度开发项目数&暂停项目数&延期项目数",
         "zeroline": true
        }
       }
      },
      "text/html": [
       "<div id=\"116b6a4f-f5c6-4124-8435-173f155c913b\" style=\"height: 525px; width: 100%;\" class=\"plotly-graph-div\"></div><script type=\"text/javascript\">require([\"plotly\"], function(Plotly) { window.PLOTLYENV=window.PLOTLYENV || {};window.PLOTLYENV.BASE_URL=\"https://plot.ly\";\n",
       "        Plotly.plot(\n",
       "            '116b6a4f-f5c6-4124-8435-173f155c913b',\n",
       "            [{\"line\": {\"dash\": \"solid\"}, \"name\": \"\\u5982\\u671f\\u5b8c\\u6210\\u9879\\u76ee\\u6570(\\u4e8e\\u6167)\", \"x\": [\"8-3\", \"8-4\", \"9-1\", \"9-2\", \"9-3\", \"9-4\"], \"y\": [32.0, 33.0, 34.0, 35.0, 35.0, 35.0], \"type\": \"scatter\", \"uid\": \"49a285c0-cb6f-11e8-8503-509a4c0f1ffc\"}, {\"line\": {\"dash\": \"dot\"}, \"name\": \"\\u5982\\u671f\\u5b8c\\u6210\\u9879\\u76ee\\u6570(\\u5c01\\u5f66\\u6770)\", \"x\": [\"8-3\", \"8-4\", \"9-1\", \"9-2\", \"9-3\", \"9-4\"], \"y\": [0.0, 0.0, 2.0, 2.0, 2.0, 3.0], \"type\": \"scatter\", \"uid\": \"49a285c1-cb6f-11e8-8918-509a4c0f1ffc\"}, {\"line\": {\"dash\": \"dash\"}, \"name\": \"\\u5982\\u671f\\u5b8c\\u6210\\u9879\\u76ee\\u6570(\\u5218\\u6c5f)\", \"x\": [\"8-3\", \"8-4\", \"9-1\", \"9-2\", \"9-3\", \"9-4\"], \"y\": [0.0, 0.0, 0.0, 0.0, 0.0, 0.0], \"type\": \"scatter\", \"uid\": \"49a285c2-cb6f-11e8-978a-509a4c0f1ffc\"}, {\"line\": {\"dash\": \"longdash\"}, \"name\": \"\\u5982\\u671f\\u5b8c\\u6210\\u9879\\u76ee\\u6570(\\u6768\\u4f1f\\u98de)\", \"x\": [\"8-3\", \"8-4\", \"9-1\", \"9-2\", \"9-3\", \"9-4\"], \"y\": [2.0, 2.0, 4.0, 4.0, 4.0, 4.0], \"type\": \"scatter\", \"uid\": \"49a285c3-cb6f-11e8-a334-509a4c0f1ffc\"}, {\"line\": {\"dash\": \"dashdot\"}, \"name\": \"\\u5982\\u671f\\u5b8c\\u6210\\u9879\\u76ee\\u6570(\\u82cf\\u5f66\\u52cb)\", \"x\": [\"8-3\", \"8-4\", \"9-1\", \"9-2\", \"9-3\", \"9-4\"], \"y\": [20.0, 21.0, 22.0, 25.0, 25.0, null], \"type\": \"scatter\", \"uid\": \"49a285c4-cb6f-11e8-b95a-509a4c0f1ffc\"}, {\"line\": {\"dash\": \"longdashdot\"}, \"name\": \"\\u5982\\u671f\\u5b8c\\u6210\\u9879\\u76ee\\u6570(\\u674e\\u534e\\u4e91)\", \"x\": [\"8-3\", \"8-4\", \"9-1\", \"9-2\", \"9-3\", \"9-4\"], \"y\": [5.0, 5.0, 5.0, 5.0, 22.0, null], \"type\": \"scatter\", \"uid\": \"49a285c5-cb6f-11e8-b100-509a4c0f1ffc\"}, {\"line\": {\"dash\": \"solid\"}, \"name\": \"\\u5982\\u671f\\u5b8c\\u6210\\u9879\\u76ee\\u6570(\\u4efb\\u96ea)\", \"x\": [\"8-3\", \"8-4\", \"9-1\", \"9-2\", \"9-3\", \"9-4\"], \"y\": [null, 8.0, 8.0, 8.0, 8.0, 8.0], \"type\": \"scatter\", \"uid\": \"49a285c6-cb6f-11e8-9ec3-509a4c0f1ffc\"}, {\"line\": {\"dash\": \"dot\"}, \"name\": \"\\u5982\\u671f\\u5b8c\\u6210\\u9879\\u76ee\\u6570(\\u9a6c\\u6f47)\", \"x\": [\"8-3\", \"8-4\", \"9-1\", \"9-2\", \"9-3\", \"9-4\"], \"y\": [0.0, 0.0, 0.0, 0.0, 0.0, 0.0], \"type\": \"scatter\", \"uid\": \"49a285c7-cb6f-11e8-a6b7-509a4c0f1ffc\"}, {\"line\": {\"dash\": \"dash\"}, \"name\": \"\\u5982\\u671f\\u5b8c\\u6210\\u9879\\u76ee\\u6570(\\u5b8b\\u8fce\\u6960)\", \"x\": [\"8-3\", \"8-4\", \"9-1\", \"9-2\", \"9-3\", \"9-4\"], \"y\": [0.0, 0.0, 0.0, null, null, null], \"type\": \"scatter\", \"uid\": \"49a2acd0-cb6f-11e8-8b95-509a4c0f1ffc\"}, {\"line\": {\"dash\": \"longdash\"}, \"name\": \"\\u5982\\u671f\\u5b8c\\u6210\\u9879\\u76ee\\u6570(\\u4e8e\\u52c7\\u4e00)\", \"x\": [\"8-3\", \"8-4\", \"9-1\", \"9-2\", \"9-3\", \"9-4\"], \"y\": [0.0, 0.0, 0.0, 0.0, 0.0, 0.0], \"type\": \"scatter\", \"uid\": \"49a2acd1-cb6f-11e8-854c-509a4c0f1ffc\"}, {\"line\": {\"dash\": \"dashdot\"}, \"name\": \"\\u5982\\u671f\\u5b8c\\u6210\\u9879\\u76ee\\u6570(\\u5218\\u6167\\u73b2)\", \"x\": [\"8-3\", \"8-4\", \"9-1\", \"9-2\", \"9-3\", \"9-4\"], \"y\": [3.0, 3.0, 3.0, null, null, null], \"type\": \"scatter\", \"uid\": \"49a2acd2-cb6f-11e8-82c8-509a4c0f1ffc\"}, {\"line\": {\"dash\": \"longdashdot\"}, \"name\": \"\\u5982\\u671f\\u5b8c\\u6210\\u9879\\u76ee\\u6570(\\u8d75\\u73a5)\", \"x\": [\"8-3\", \"8-4\", \"9-1\", \"9-2\", \"9-3\", \"9-4\"], \"y\": [20.0, 21.0, 20.0, 21.0, 21.0, 21.0], \"type\": \"scatter\", \"uid\": \"49a2acd3-cb6f-11e8-a3ba-509a4c0f1ffc\"}, {\"line\": {\"dash\": \"solid\"}, \"name\": \"\\u5982\\u671f\\u5b8c\\u6210\\u9879\\u76ee\\u6570(\\u5360\\u4f1f)\", \"x\": [\"8-3\", \"8-4\", \"9-1\", \"9-2\", \"9-3\", \"9-4\"], \"y\": [12.0, 10.0, 10.0, 10.0, 13.0, 13.0], \"type\": \"scatter\", \"uid\": \"49a2acd4-cb6f-11e8-a0d5-509a4c0f1ffc\"}, {\"line\": {\"dash\": \"dot\"}, \"name\": \"\\u5982\\u671f\\u5b8c\\u6210\\u9879\\u76ee\\u6570(\\u5468\\u6768)\", \"x\": [\"8-3\", \"8-4\", \"9-1\", \"9-2\", \"9-3\", \"9-4\"], \"y\": [28.0, 28.0, 28.0, 29.0, 32.0, 32.0], \"type\": \"scatter\", \"uid\": \"49a2acd5-cb6f-11e8-b649-509a4c0f1ffc\"}, {\"line\": {\"dash\": \"dash\"}, \"name\": \"\\u5982\\u671f\\u5b8c\\u6210\\u9879\\u76ee\\u6570(\\u8c22\\u5fb7\\u5065)\", \"x\": [\"8-3\", \"8-4\", \"9-1\", \"9-2\", \"9-3\", \"9-4\"], \"y\": [2.0, 2.0, null, 6.0, 6.0, 6.0], \"type\": \"scatter\", \"uid\": \"49a2acd6-cb6f-11e8-9086-509a4c0f1ffc\"}, {\"line\": {\"dash\": \"longdash\"}, \"name\": \"\\u5982\\u671f\\u5b8c\\u6210\\u9879\\u76ee\\u6570(\\u8303\\u65ed\\u5b81)\", \"x\": [\"8-3\", \"8-4\", \"9-1\", \"9-2\", \"9-3\", \"9-4\"], \"y\": [16.0, 23.0, 27.0, 7.0, 5.0, 20.0], \"type\": \"scatter\", \"uid\": \"49a2acd7-cb6f-11e8-a46e-509a4c0f1ffc\"}, {\"line\": {\"dash\": \"dashdot\"}, \"name\": \"\\u5982\\u671f\\u5b8c\\u6210\\u9879\\u76ee\\u6570(\\u5b5f\\u660a)\", \"x\": [\"8-3\", \"8-4\", \"9-1\", \"9-2\", \"9-3\", \"9-4\"], \"y\": [38.0, 38.0, 38.0, 39.0, 40.0, 40.0], \"type\": \"scatter\", \"uid\": \"49a2acd8-cb6f-11e8-9c4a-509a4c0f1ffc\"}, {\"line\": {\"dash\": \"longdashdot\"}, \"name\": \"\\u5982\\u671f\\u5b8c\\u6210\\u9879\\u76ee\\u6570(\\u59da\\u76df\\u6210)\", \"x\": [\"8-3\", \"8-4\", \"9-1\", \"9-2\", \"9-3\", \"9-4\"], \"y\": [3.0, 3.0, 3.0, 3.0, 3.0, 3.0], \"type\": \"scatter\", \"uid\": \"49a2acd9-cb6f-11e8-88c9-509a4c0f1ffc\"}, {\"line\": {\"dash\": \"solid\"}, \"name\": \"\\u5982\\u671f\\u5b8c\\u6210\\u9879\\u76ee\\u6570(\\u5f20\\u5b88\\u4f1f)\", \"x\": [\"8-3\", \"8-4\", \"9-1\", \"9-2\", \"9-3\", \"9-4\"], \"y\": [13.0, 16.0, 18.0, 20.0, 20.0, 21.0], \"type\": \"scatter\", \"uid\": \"49a2acda-cb6f-11e8-960c-509a4c0f1ffc\"}, {\"line\": {\"dash\": \"dot\"}, \"name\": \"\\u5982\\u671f\\u5b8c\\u6210\\u9879\\u76ee\\u6570(\\u97e9\\u5c11\\u6000)\", \"x\": [\"8-3\", \"8-4\", \"9-1\", \"9-2\", \"9-3\", \"9-4\"], \"y\": [5.0, 5.0, 6.0, 5.0, 5.0, null], \"type\": \"scatter\", \"uid\": \"49a2acdb-cb6f-11e8-a0f5-509a4c0f1ffc\"}, {\"line\": {\"dash\": \"dash\"}, \"name\": \"\\u5982\\u671f\\u5b8c\\u6210\\u9879\\u76ee\\u6570(\\u674e\\u5e86\\u539f)\", \"x\": [\"8-3\", \"8-4\", \"9-1\", \"9-2\", \"9-3\", \"9-4\"], \"y\": [0.0, 0.0, 0.0, 0.0, 0.0, null], \"type\": \"scatter\", \"uid\": \"49a2acdc-cb6f-11e8-b1e9-509a4c0f1ffc\"}, {\"line\": {\"dash\": \"longdash\"}, \"name\": \"\\u5982\\u671f\\u5b8c\\u6210\\u9879\\u76ee\\u6570(\\u6bb5\\u5229\\u5f3a)\", \"x\": [\"8-3\", \"8-4\", \"9-1\", \"9-2\", \"9-3\", \"9-4\"], \"y\": [null, null, null, null, null, 6.0], \"type\": \"scatter\", \"uid\": \"49a2acdd-cb6f-11e8-89f0-509a4c0f1ffc\"}, {\"line\": {\"dash\": \"dashdot\"}, \"name\": \"\\u5982\\u671f\\u5b8c\\u6210\\u9879\\u76ee\\u6570(\\u8def\\u6167\\u840d)\", \"x\": [\"8-3\", \"8-4\", \"9-1\", \"9-2\", \"9-3\", \"9-4\"], \"y\": [0.0, 0.0, 0.0, 0.0, 0.0, null], \"type\": \"scatter\", \"uid\": \"49a2acde-cb6f-11e8-b03d-509a4c0f1ffc\"}, {\"line\": {\"dash\": \"longdashdot\"}, \"name\": \"\\u5982\\u671f\\u5b8c\\u6210\\u9879\\u76ee\\u6570(\\u738b\\u5b81)\", \"x\": [\"8-3\", \"8-4\", \"9-1\", \"9-2\", \"9-3\", \"9-4\"], \"y\": [0.0, 0.0, 0.0, null, null, null], \"type\": \"scatter\", \"uid\": \"49a2acdf-cb6f-11e8-bcb6-509a4c0f1ffc\"}, {\"line\": {\"dash\": \"solid\"}, \"name\": \"\\u5f00\\u53d1\\u4e2d\\u7684\\u9879\\u76ee\\u6570(\\u4e8e\\u6167)\", \"x\": [\"8-3\", \"8-4\", \"9-1\", \"9-2\", \"9-3\", \"9-4\"], \"y\": [4.0, 3.0, 2.0, 2.0, 2.0, 1.0], \"type\": \"scatter\", \"uid\": \"49a2ace0-cb6f-11e8-bc9d-509a4c0f1ffc\"}, {\"line\": {\"dash\": \"dot\"}, \"name\": \"\\u5f00\\u53d1\\u4e2d\\u7684\\u9879\\u76ee\\u6570(\\u5c01\\u5f66\\u6770)\", \"x\": [\"8-3\", \"8-4\", \"9-1\", \"9-2\", \"9-3\", \"9-4\"], \"y\": [4.0, 4.0, 2.0, 2.0, 3.0, 0.0], \"type\": \"scatter\", \"uid\": \"49a2ace1-cb6f-11e8-a809-509a4c0f1ffc\"}, {\"line\": {\"dash\": \"dash\"}, \"name\": \"\\u5f00\\u53d1\\u4e2d\\u7684\\u9879\\u76ee\\u6570(\\u5218\\u6c5f)\", \"x\": [\"8-3\", \"8-4\", \"9-1\", \"9-2\", \"9-3\", \"9-4\"], \"y\": [3.0, 2.0, 1.0, 1.0, 1.0, 1.0], \"type\": \"scatter\", \"uid\": \"49a2ace2-cb6f-11e8-b649-509a4c0f1ffc\"}, {\"line\": {\"dash\": \"longdash\"}, \"name\": \"\\u5f00\\u53d1\\u4e2d\\u7684\\u9879\\u76ee\\u6570(\\u6768\\u4f1f\\u98de)\", \"x\": [\"8-3\", \"8-4\", \"9-1\", \"9-2\", \"9-3\", \"9-4\"], \"y\": [5.0, 4.0, 2.0, 2.0, 2.0, 2.0], \"type\": \"scatter\", \"uid\": \"49a2ace3-cb6f-11e8-920d-509a4c0f1ffc\"}, {\"line\": {\"dash\": \"dashdot\"}, \"name\": \"\\u5f00\\u53d1\\u4e2d\\u7684\\u9879\\u76ee\\u6570(\\u82cf\\u5f66\\u52cb)\", \"x\": [\"8-3\", \"8-4\", \"9-1\", \"9-2\", \"9-3\", \"9-4\"], \"y\": [5.0, 4.0, 3.0, 0.0, 0.0, null], \"type\": \"scatter\", \"uid\": \"49a2ace4-cb6f-11e8-bed9-509a4c0f1ffc\"}, {\"line\": {\"dash\": \"longdashdot\"}, \"name\": \"\\u5f00\\u53d1\\u4e2d\\u7684\\u9879\\u76ee\\u6570(\\u674e\\u534e\\u4e91)\", \"x\": [\"8-3\", \"8-4\", \"9-1\", \"9-2\", \"9-3\", \"9-4\"], \"y\": [24.0, 24.0, 20.0, 18.0, 3.0, null], \"type\": \"scatter\", \"uid\": \"49a2ace5-cb6f-11e8-9e67-509a4c0f1ffc\"}, {\"line\": {\"dash\": \"solid\"}, \"name\": \"\\u5f00\\u53d1\\u4e2d\\u7684\\u9879\\u76ee\\u6570(\\u4efb\\u96ea)\", \"x\": [\"8-3\", \"8-4\", \"9-1\", \"9-2\", \"9-3\", \"9-4\"], \"y\": [null, 15.0, 8.0, 8.0, 6.0, 0.0], \"type\": \"scatter\", \"uid\": \"49a2ace6-cb6f-11e8-9e96-509a4c0f1ffc\"}, {\"line\": {\"dash\": \"dot\"}, \"name\": \"\\u5f00\\u53d1\\u4e2d\\u7684\\u9879\\u76ee\\u6570(\\u9a6c\\u6f47)\", \"x\": [\"8-3\", \"8-4\", \"9-1\", \"9-2\", \"9-3\", \"9-4\"], \"y\": [1.0, 0.0, 0.0, 0.0, 0.0, 0.0], \"type\": \"scatter\", \"uid\": \"49a2ace7-cb6f-11e8-9750-509a4c0f1ffc\"}, {\"line\": {\"dash\": \"dash\"}, \"name\": \"\\u5f00\\u53d1\\u4e2d\\u7684\\u9879\\u76ee\\u6570(\\u5b8b\\u8fce\\u6960)\", \"x\": [\"8-3\", \"8-4\", \"9-1\", \"9-2\", \"9-3\", \"9-4\"], \"y\": [14.0, 13.0, 7.0, null, null, null], \"type\": \"scatter\", \"uid\": \"49a2ace8-cb6f-11e8-b63b-509a4c0f1ffc\"}, {\"line\": {\"dash\": \"longdash\"}, \"name\": \"\\u5f00\\u53d1\\u4e2d\\u7684\\u9879\\u76ee\\u6570(\\u4e8e\\u52c7\\u4e00)\", \"x\": [\"8-3\", \"8-4\", \"9-1\", \"9-2\", \"9-3\", \"9-4\"], \"y\": [0.0, 0.0, 0.0, 0.0, 0.0, 0.0], \"type\": \"scatter\", \"uid\": \"49a2ace9-cb6f-11e8-bf1f-509a4c0f1ffc\"}, {\"line\": {\"dash\": \"dashdot\"}, \"name\": \"\\u5f00\\u53d1\\u4e2d\\u7684\\u9879\\u76ee\\u6570(\\u5218\\u6167\\u73b2)\", \"x\": [\"8-3\", \"8-4\", \"9-1\", \"9-2\", \"9-3\", \"9-4\"], \"y\": [2.0, 2.0, 1.0, null, null, null], \"type\": \"scatter\", \"uid\": \"49a2acea-cb6f-11e8-a794-509a4c0f1ffc\"}, {\"line\": {\"dash\": \"longdashdot\"}, \"name\": \"\\u5f00\\u53d1\\u4e2d\\u7684\\u9879\\u76ee\\u6570(\\u8d75\\u73a5)\", \"x\": [\"8-3\", \"8-4\", \"9-1\", \"9-2\", \"9-3\", \"9-4\"], \"y\": [0.0, 2.0, 3.0, 1.0, 0.0, 0.0], \"type\": \"scatter\", \"uid\": \"49a2aceb-cb6f-11e8-a88a-509a4c0f1ffc\"}, {\"line\": {\"dash\": \"solid\"}, \"name\": \"\\u5f00\\u53d1\\u4e2d\\u7684\\u9879\\u76ee\\u6570(\\u5360\\u4f1f)\", \"x\": [\"8-3\", \"8-4\", \"9-1\", \"9-2\", \"9-3\", \"9-4\"], \"y\": [2.0, 5.0, 5.0, 5.0, 0.0, 0.0], \"type\": \"scatter\", \"uid\": \"49a2acec-cb6f-11e8-9dbe-509a4c0f1ffc\"}, {\"line\": {\"dash\": \"dot\"}, \"name\": \"\\u5f00\\u53d1\\u4e2d\\u7684\\u9879\\u76ee\\u6570(\\u5468\\u6768)\", \"x\": [\"8-3\", \"8-4\", \"9-1\", \"9-2\", \"9-3\", \"9-4\"], \"y\": [3.0, 3.0, 3.0, 2.0, 0.0, 0.0], \"type\": \"scatter\", \"uid\": \"49a2aced-cb6f-11e8-b7b3-509a4c0f1ffc\"}, {\"line\": {\"dash\": \"dash\"}, \"name\": \"\\u5f00\\u53d1\\u4e2d\\u7684\\u9879\\u76ee\\u6570(\\u8c22\\u5fb7\\u5065)\", \"x\": [\"8-3\", \"8-4\", \"9-1\", \"9-2\", \"9-3\", \"9-4\"], \"y\": [0.0, 0.0, null, 0.0, 0.0, 0.0], \"type\": \"scatter\", \"uid\": \"49a2acee-cb6f-11e8-94d8-509a4c0f1ffc\"}, {\"line\": {\"dash\": \"longdash\"}, \"name\": \"\\u5f00\\u53d1\\u4e2d\\u7684\\u9879\\u76ee\\u6570(\\u8303\\u65ed\\u5b81)\", \"x\": [\"8-3\", \"8-4\", \"9-1\", \"9-2\", \"9-3\", \"9-4\"], \"y\": [0.0, 1.0, 1.0, 0.0, 0.0, 4.0], \"type\": \"scatter\", \"uid\": \"49a2acef-cb6f-11e8-8d4d-509a4c0f1ffc\"}, {\"line\": {\"dash\": \"dashdot\"}, \"name\": \"\\u5f00\\u53d1\\u4e2d\\u7684\\u9879\\u76ee\\u6570(\\u5b5f\\u660a)\", \"x\": [\"8-3\", \"8-4\", \"9-1\", \"9-2\", \"9-3\", \"9-4\"], \"y\": [2.0, 2.0, 2.0, 2.0, 0.0, 0.0], \"type\": \"scatter\", \"uid\": \"49a2acf0-cb6f-11e8-bdda-509a4c0f1ffc\"}, {\"line\": {\"dash\": \"longdashdot\"}, \"name\": \"\\u5f00\\u53d1\\u4e2d\\u7684\\u9879\\u76ee\\u6570(\\u59da\\u76df\\u6210)\", \"x\": [\"8-3\", \"8-4\", \"9-1\", \"9-2\", \"9-3\", \"9-4\"], \"y\": [1.0, 2.0, 3.0, 2.0, 7.0, 4.0], \"type\": \"scatter\", \"uid\": \"49a2acf1-cb6f-11e8-955e-509a4c0f1ffc\"}, {\"line\": {\"dash\": \"solid\"}, \"name\": \"\\u5f00\\u53d1\\u4e2d\\u7684\\u9879\\u76ee\\u6570(\\u5f20\\u5b88\\u4f1f)\", \"x\": [\"8-3\", \"8-4\", \"9-1\", \"9-2\", \"9-3\", \"9-4\"], \"y\": [2.0, 2.0, 2.0, 2.0, 0.0, 0.0], \"type\": \"scatter\", \"uid\": \"49a2acf2-cb6f-11e8-a03c-509a4c0f1ffc\"}, {\"line\": {\"dash\": \"dot\"}, \"name\": \"\\u5f00\\u53d1\\u4e2d\\u7684\\u9879\\u76ee\\u6570(\\u97e9\\u5c11\\u6000)\", \"x\": [\"8-3\", \"8-4\", \"9-1\", \"9-2\", \"9-3\", \"9-4\"], \"y\": [1.0, 2.0, 1.0, 1.0, 2.0, null], \"type\": \"scatter\", \"uid\": \"49a2acf3-cb6f-11e8-99ac-509a4c0f1ffc\"}, {\"line\": {\"dash\": \"dash\"}, \"name\": \"\\u5f00\\u53d1\\u4e2d\\u7684\\u9879\\u76ee\\u6570(\\u674e\\u5e86\\u539f)\", \"x\": [\"8-3\", \"8-4\", \"9-1\", \"9-2\", \"9-3\", \"9-4\"], \"y\": [0.0, 0.0, 0.0, 0.0, 0.0, null], \"type\": \"scatter\", \"uid\": \"49a2acf4-cb6f-11e8-b0fc-509a4c0f1ffc\"}, {\"line\": {\"dash\": \"longdash\"}, \"name\": \"\\u5f00\\u53d1\\u4e2d\\u7684\\u9879\\u76ee\\u6570(\\u6bb5\\u5229\\u5f3a)\", \"x\": [\"8-3\", \"8-4\", \"9-1\", \"9-2\", \"9-3\", \"9-4\"], \"y\": [null, null, null, null, null, 0.0], \"type\": \"scatter\", \"uid\": \"49a2acf5-cb6f-11e8-92f4-509a4c0f1ffc\"}, {\"line\": {\"dash\": \"dashdot\"}, \"name\": \"\\u5f00\\u53d1\\u4e2d\\u7684\\u9879\\u76ee\\u6570(\\u8def\\u6167\\u840d)\", \"x\": [\"8-3\", \"8-4\", \"9-1\", \"9-2\", \"9-3\", \"9-4\"], \"y\": [0.0, 0.0, 0.0, 0.0, 0.0, null], \"type\": \"scatter\", \"uid\": \"49a2acf6-cb6f-11e8-ac28-509a4c0f1ffc\"}, {\"line\": {\"dash\": \"longdashdot\"}, \"name\": \"\\u5f00\\u53d1\\u4e2d\\u7684\\u9879\\u76ee\\u6570(\\u738b\\u5b81)\", \"x\": [\"8-3\", \"8-4\", \"9-1\", \"9-2\", \"9-3\", \"9-4\"], \"y\": [0.0, 0.0, 0.0, null, null, null], \"type\": \"scatter\", \"uid\": \"49a2acf7-cb6f-11e8-8434-509a4c0f1ffc\"}, {\"line\": {\"dash\": \"solid\"}, \"name\": \"\\u5ef6\\u671f\\u5b8c\\u6210(\\u4e8e\\u6167)\", \"x\": [\"8-3\", \"8-4\", \"9-1\", \"9-2\", \"9-3\", \"9-4\"], \"y\": [0.0, 0.0, 0.0, 0.0, 0.0, 1.0], \"type\": \"scatter\", \"uid\": \"49a2acf8-cb6f-11e8-bb3f-509a4c0f1ffc\"}, {\"line\": {\"dash\": \"dot\"}, \"name\": \"\\u5ef6\\u671f\\u5b8c\\u6210(\\u5c01\\u5f66\\u6770)\", \"x\": [\"8-3\", \"8-4\", \"9-1\", \"9-2\", \"9-3\", \"9-4\"], \"y\": [0.0, 0.0, 0.0, 0.0, 0.0, 1.0], \"type\": \"scatter\", \"uid\": \"49a2acf9-cb6f-11e8-a4d9-509a4c0f1ffc\"}, {\"line\": {\"dash\": \"dash\"}, \"name\": \"\\u5ef6\\u671f\\u5b8c\\u6210(\\u5218\\u6c5f)\", \"x\": [\"8-3\", \"8-4\", \"9-1\", \"9-2\", \"9-3\", \"9-4\"], \"y\": [0.0, 1.0, 2.0, 0.0, 2.0, 2.0], \"type\": \"scatter\", \"uid\": \"49a2acfa-cb6f-11e8-8d96-509a4c0f1ffc\"}, {\"line\": {\"dash\": \"longdash\"}, \"name\": \"\\u5ef6\\u671f\\u5b8c\\u6210(\\u6768\\u4f1f\\u98de)\", \"x\": [\"8-3\", \"8-4\", \"9-1\", \"9-2\", \"9-3\", \"9-4\"], \"y\": [1.0, 2.0, 2.0, 2.0, 2.0, 2.0], \"type\": \"scatter\", \"uid\": \"49a2acfb-cb6f-11e8-94e9-509a4c0f1ffc\"}, {\"line\": {\"dash\": \"dashdot\"}, \"name\": \"\\u5ef6\\u671f\\u5b8c\\u6210(\\u82cf\\u5f66\\u52cb)\", \"x\": [\"8-3\", \"8-4\", \"9-1\", \"9-2\", \"9-3\", \"9-4\"], \"y\": [0.0, 0.0, 0.0, 0.0, 0.0, null], \"type\": \"scatter\", \"uid\": \"49a2acfc-cb6f-11e8-ab60-509a4c0f1ffc\"}, {\"line\": {\"dash\": \"longdashdot\"}, \"name\": \"\\u5ef6\\u671f\\u5b8c\\u6210(\\u674e\\u534e\\u4e91)\", \"x\": [\"8-3\", \"8-4\", \"9-1\", \"9-2\", \"9-3\", \"9-4\"], \"y\": [0.0, 0.0, 1.0, 3.0, 13.0, null], \"type\": \"scatter\", \"uid\": \"49a2acfd-cb6f-11e8-a621-509a4c0f1ffc\"}, {\"line\": {\"dash\": \"solid\"}, \"name\": \"\\u5ef6\\u671f\\u5b8c\\u6210(\\u4efb\\u96ea)\", \"x\": [\"8-3\", \"8-4\", \"9-1\", \"9-2\", \"9-3\", \"9-4\"], \"y\": [null, 1.0, 1.0, 1.0, 5.0, 7.0], \"type\": \"scatter\", \"uid\": \"49a2d3de-cb6f-11e8-a2fd-509a4c0f1ffc\"}, {\"line\": {\"dash\": \"dot\"}, \"name\": \"\\u5ef6\\u671f\\u5b8c\\u6210(\\u9a6c\\u6f47)\", \"x\": [\"8-3\", \"8-4\", \"9-1\", \"9-2\", \"9-3\", \"9-4\"], \"y\": [0.0, 0.0, 0.0, 0.0, 0.0, 0.0], \"type\": \"scatter\", \"uid\": \"49a2d3df-cb6f-11e8-9018-509a4c0f1ffc\"}, {\"line\": {\"dash\": \"dash\"}, \"name\": \"\\u5ef6\\u671f\\u5b8c\\u6210(\\u5b8b\\u8fce\\u6960)\", \"x\": [\"8-3\", \"8-4\", \"9-1\", \"9-2\", \"9-3\", \"9-4\"], \"y\": [8.0, 9.0, 10.0, null, null, null], \"type\": \"scatter\", \"uid\": \"49a2d3e0-cb6f-11e8-8f84-509a4c0f1ffc\"}, {\"line\": {\"dash\": \"longdash\"}, \"name\": \"\\u5ef6\\u671f\\u5b8c\\u6210(\\u4e8e\\u52c7\\u4e00)\", \"x\": [\"8-3\", \"8-4\", \"9-1\", \"9-2\", \"9-3\", \"9-4\"], \"y\": [0.0, 0.0, 0.0, 0.0, 0.0, 0.0], \"type\": \"scatter\", \"uid\": \"49a2d3e1-cb6f-11e8-90fb-509a4c0f1ffc\"}, {\"line\": {\"dash\": \"dashdot\"}, \"name\": \"\\u5ef6\\u671f\\u5b8c\\u6210(\\u5218\\u6167\\u73b2)\", \"x\": [\"8-3\", \"8-4\", \"9-1\", \"9-2\", \"9-3\", \"9-4\"], \"y\": [1.0, 1.0, 1.0, null, null, null], \"type\": \"scatter\", \"uid\": \"49a2d3e2-cb6f-11e8-9bd3-509a4c0f1ffc\"}, {\"line\": {\"dash\": \"longdashdot\"}, \"name\": \"\\u5ef6\\u671f\\u5b8c\\u6210(\\u8d75\\u73a5)\", \"x\": [\"8-3\", \"8-4\", \"9-1\", \"9-2\", \"9-3\", \"9-4\"], \"y\": [1.0, 1.0, 1.0, 1.0, 1.0, 1.0], \"type\": \"scatter\", \"uid\": \"49a2d3e3-cb6f-11e8-99a6-509a4c0f1ffc\"}, {\"line\": {\"dash\": \"solid\"}, \"name\": \"\\u5ef6\\u671f\\u5b8c\\u6210(\\u5360\\u4f1f)\", \"x\": [\"8-3\", \"8-4\", \"9-1\", \"9-2\", \"9-3\", \"9-4\"], \"y\": [2.0, 1.0, 1.0, 1.0, 3.0, 3.0], \"type\": \"scatter\", \"uid\": \"49a2d3e4-cb6f-11e8-92dc-509a4c0f1ffc\"}, {\"line\": {\"dash\": \"dot\"}, \"name\": \"\\u5ef6\\u671f\\u5b8c\\u6210(\\u5468\\u6768)\", \"x\": [\"8-3\", \"8-4\", \"9-1\", \"9-2\", \"9-3\", \"9-4\"], \"y\": [0.0, 0.0, 0.0, 0.0, 0.0, 0.0], \"type\": \"scatter\", \"uid\": \"49a2d3e5-cb6f-11e8-baef-509a4c0f1ffc\"}, {\"line\": {\"dash\": \"dash\"}, \"name\": \"\\u5ef6\\u671f\\u5b8c\\u6210(\\u8c22\\u5fb7\\u5065)\", \"x\": [\"8-3\", \"8-4\", \"9-1\", \"9-2\", \"9-3\", \"9-4\"], \"y\": [0.0, 0.0, null, 0.0, 0.0, 0.0], \"type\": \"scatter\", \"uid\": \"49a2d3e6-cb6f-11e8-87ed-509a4c0f1ffc\"}, {\"line\": {\"dash\": \"longdash\"}, \"name\": \"\\u5ef6\\u671f\\u5b8c\\u6210(\\u8303\\u65ed\\u5b81)\", \"x\": [\"8-3\", \"8-4\", \"9-1\", \"9-2\", \"9-3\", \"9-4\"], \"y\": [2.0, 2.0, 3.0, 0.0, 0.0, 4.0], \"type\": \"scatter\", \"uid\": \"49a2d3e7-cb6f-11e8-9b14-509a4c0f1ffc\"}, {\"line\": {\"dash\": \"dashdot\"}, \"name\": \"\\u5ef6\\u671f\\u5b8c\\u6210(\\u5b5f\\u660a)\", \"x\": [\"8-3\", \"8-4\", \"9-1\", \"9-2\", \"9-3\", \"9-4\"], \"y\": [0.0, 0.0, 0.0, 0.0, 0.0, 0.0], \"type\": \"scatter\", \"uid\": \"49a2d3e8-cb6f-11e8-a1da-509a4c0f1ffc\"}, {\"line\": {\"dash\": \"longdashdot\"}, \"name\": \"\\u5ef6\\u671f\\u5b8c\\u6210(\\u59da\\u76df\\u6210)\", \"x\": [\"8-3\", \"8-4\", \"9-1\", \"9-2\", \"9-3\", \"9-4\"], \"y\": [0.0, 0.0, 0.0, 0.0, 0.0, 0.0], \"type\": \"scatter\", \"uid\": \"49a2d3e9-cb6f-11e8-9f63-509a4c0f1ffc\"}, {\"line\": {\"dash\": \"solid\"}, \"name\": \"\\u5ef6\\u671f\\u5b8c\\u6210(\\u5f20\\u5b88\\u4f1f)\", \"x\": [\"8-3\", \"8-4\", \"9-1\", \"9-2\", \"9-3\", \"9-4\"], \"y\": [0.0, 0.0, 0.0, 0.0, 0.0, 1.0], \"type\": \"scatter\", \"uid\": \"49a2d3ea-cb6f-11e8-8f68-509a4c0f1ffc\"}, {\"line\": {\"dash\": \"dot\"}, \"name\": \"\\u5ef6\\u671f\\u5b8c\\u6210(\\u97e9\\u5c11\\u6000)\", \"x\": [\"8-3\", \"8-4\", \"9-1\", \"9-2\", \"9-3\", \"9-4\"], \"y\": [0.0, 0.0, 0.0, 0.0, 0.0, null], \"type\": \"scatter\", \"uid\": \"49a2d3eb-cb6f-11e8-860d-509a4c0f1ffc\"}, {\"line\": {\"dash\": \"dash\"}, \"name\": \"\\u5ef6\\u671f\\u5b8c\\u6210(\\u674e\\u5e86\\u539f)\", \"x\": [\"8-3\", \"8-4\", \"9-1\", \"9-2\", \"9-3\", \"9-4\"], \"y\": [0.0, 0.0, 0.0, 0.0, 0.0, null], \"type\": \"scatter\", \"uid\": \"49a2d3ec-cb6f-11e8-bdca-509a4c0f1ffc\"}, {\"line\": {\"dash\": \"longdash\"}, \"name\": \"\\u5ef6\\u671f\\u5b8c\\u6210(\\u6bb5\\u5229\\u5f3a)\", \"x\": [\"8-3\", \"8-4\", \"9-1\", \"9-2\", \"9-3\", \"9-4\"], \"y\": [null, null, null, null, null, 0.0], \"type\": \"scatter\", \"uid\": \"49a2d3ed-cb6f-11e8-8181-509a4c0f1ffc\"}, {\"line\": {\"dash\": \"dashdot\"}, \"name\": \"\\u5ef6\\u671f\\u5b8c\\u6210(\\u8def\\u6167\\u840d)\", \"x\": [\"8-3\", \"8-4\", \"9-1\", \"9-2\", \"9-3\", \"9-4\"], \"y\": [0.0, 0.0, 0.0, 0.0, 0.0, null], \"type\": \"scatter\", \"uid\": \"49a2d3ee-cb6f-11e8-9232-509a4c0f1ffc\"}, {\"line\": {\"dash\": \"longdashdot\"}, \"name\": \"\\u5ef6\\u671f\\u5b8c\\u6210(\\u738b\\u5b81)\", \"x\": [\"8-3\", \"8-4\", \"9-1\", \"9-2\", \"9-3\", \"9-4\"], \"y\": [0.0, 0.0, 0.0, null, null, null], \"type\": \"scatter\", \"uid\": \"49a2d3ef-cb6f-11e8-af4a-509a4c0f1ffc\"}, {\"line\": {\"dash\": \"solid\"}, \"name\": \"\\u5b63\\u5ea6\\u5f00\\u53d1\\u9879\\u76ee\\u6570(\\u4e8e\\u6167)\", \"x\": [\"8-3\", \"8-4\", \"9-1\", \"9-2\", \"9-3\", \"9-4\"], \"y\": [36.0, 36.0, 36.0, 37.0, 37.0, 37.0], \"type\": \"scatter\", \"uid\": \"49a2d3f0-cb6f-11e8-a9b1-509a4c0f1ffc\"}, {\"line\": {\"dash\": \"dot\"}, \"name\": \"\\u5b63\\u5ea6\\u5f00\\u53d1\\u9879\\u76ee\\u6570(\\u5c01\\u5f66\\u6770)\", \"x\": [\"8-3\", \"8-4\", \"9-1\", \"9-2\", \"9-3\", \"9-4\"], \"y\": [5.0, 5.0, 5.0, 5.0, 5.0, 5.0], \"type\": \"scatter\", \"uid\": \"49a2d3f1-cb6f-11e8-b796-509a4c0f1ffc\"}, {\"line\": {\"dash\": \"dash\"}, \"name\": \"\\u5b63\\u5ea6\\u5f00\\u53d1\\u9879\\u76ee\\u6570(\\u5218\\u6c5f)\", \"x\": [\"8-3\", \"8-4\", \"9-1\", \"9-2\", \"9-3\", \"9-4\"], \"y\": [3.0, 3.0, 3.0, 0.0, 3.0, 3.0], \"type\": \"scatter\", \"uid\": \"49a2d3f2-cb6f-11e8-8705-509a4c0f1ffc\"}, {\"line\": {\"dash\": \"longdash\"}, \"name\": \"\\u5b63\\u5ea6\\u5f00\\u53d1\\u9879\\u76ee\\u6570(\\u6768\\u4f1f\\u98de)\", \"x\": [\"8-3\", \"8-4\", \"9-1\", \"9-2\", \"9-3\", \"9-4\"], \"y\": [8.0, 8.0, 8.0, 8.0, 8.0, 8.0], \"type\": \"scatter\", \"uid\": \"49a2d3f3-cb6f-11e8-a8c8-509a4c0f1ffc\"}, {\"line\": {\"dash\": \"dashdot\"}, \"name\": \"\\u5b63\\u5ea6\\u5f00\\u53d1\\u9879\\u76ee\\u6570(\\u82cf\\u5f66\\u52cb)\", \"x\": [\"8-3\", \"8-4\", \"9-1\", \"9-2\", \"9-3\", \"9-4\"], \"y\": [33.0, 33.0, 33.0, 33.0, 33.0, null], \"type\": \"scatter\", \"uid\": \"49a2d3f4-cb6f-11e8-83ff-509a4c0f1ffc\"}, {\"line\": {\"dash\": \"longdashdot\"}, \"name\": \"\\u5b63\\u5ea6\\u5f00\\u53d1\\u9879\\u76ee\\u6570(\\u674e\\u534e\\u4e91)\", \"x\": [\"8-3\", \"8-4\", \"9-1\", \"9-2\", \"9-3\", \"9-4\"], \"y\": [35.0, 35.0, 35.0, 35.0, 47.0, null], \"type\": \"scatter\", \"uid\": \"49a2d3f5-cb6f-11e8-960f-509a4c0f1ffc\"}, {\"line\": {\"dash\": \"solid\"}, \"name\": \"\\u5b63\\u5ea6\\u5f00\\u53d1\\u9879\\u76ee\\u6570(\\u4efb\\u96ea)\", \"x\": [\"8-3\", \"8-4\", \"9-1\", \"9-2\", \"9-3\", \"9-4\"], \"y\": [null, 27.0, 27.0, 27.0, 27.0, 27.0], \"type\": \"scatter\", \"uid\": \"49a2d3f6-cb6f-11e8-8744-509a4c0f1ffc\"}, {\"line\": {\"dash\": \"dot\"}, \"name\": \"\\u5b63\\u5ea6\\u5f00\\u53d1\\u9879\\u76ee\\u6570(\\u9a6c\\u6f47)\", \"x\": [\"8-3\", \"8-4\", \"9-1\", \"9-2\", \"9-3\", \"9-4\"], \"y\": [0.0, 0.0, 0.0, 0.0, 0.0, 0.0], \"type\": \"scatter\", \"uid\": \"49a2d3f7-cb6f-11e8-a6ef-509a4c0f1ffc\"}, {\"line\": {\"dash\": \"dash\"}, \"name\": \"\\u5b63\\u5ea6\\u5f00\\u53d1\\u9879\\u76ee\\u6570(\\u5b8b\\u8fce\\u6960)\", \"x\": [\"8-3\", \"8-4\", \"9-1\", \"9-2\", \"9-3\", \"9-4\"], \"y\": [23.0, 23.0, 23.0, null, null, null], \"type\": \"scatter\", \"uid\": \"49a2d3f8-cb6f-11e8-b3b6-509a4c0f1ffc\"}, {\"line\": {\"dash\": \"longdash\"}, \"name\": \"\\u5b63\\u5ea6\\u5f00\\u53d1\\u9879\\u76ee\\u6570(\\u4e8e\\u52c7\\u4e00)\", \"x\": [\"8-3\", \"8-4\", \"9-1\", \"9-2\", \"9-3\", \"9-4\"], \"y\": [0.0, 0.0, 0.0, 0.0, 0.0, 0.0], \"type\": \"scatter\", \"uid\": \"49a2d3f9-cb6f-11e8-983b-509a4c0f1ffc\"}, {\"line\": {\"dash\": \"dashdot\"}, \"name\": \"\\u5b63\\u5ea6\\u5f00\\u53d1\\u9879\\u76ee\\u6570(\\u5218\\u6167\\u73b2)\", \"x\": [\"8-3\", \"8-4\", \"9-1\", \"9-2\", \"9-3\", \"9-4\"], \"y\": [8.0, 8.0, 9.0, null, null, null], \"type\": \"scatter\", \"uid\": \"49a2d3fa-cb6f-11e8-8727-509a4c0f1ffc\"}, {\"line\": {\"dash\": \"longdashdot\"}, \"name\": \"\\u5b63\\u5ea6\\u5f00\\u53d1\\u9879\\u76ee\\u6570(\\u8d75\\u73a5)\", \"x\": [\"8-3\", \"8-4\", \"9-1\", \"9-2\", \"9-3\", \"9-4\"], \"y\": [21.0, 22.0, 21.0, 22.0, 22.0, 22.0], \"type\": \"scatter\", \"uid\": \"49a2d3fb-cb6f-11e8-b9e3-509a4c0f1ffc\"}, {\"line\": {\"dash\": \"solid\"}, \"name\": \"\\u5b63\\u5ea6\\u5f00\\u53d1\\u9879\\u76ee\\u6570(\\u5360\\u4f1f)\", \"x\": [\"8-3\", \"8-4\", \"9-1\", \"9-2\", \"9-3\", \"9-4\"], \"y\": [19.0, 18.0, 18.0, 18.0, 19.0, 19.0], \"type\": \"scatter\", \"uid\": \"49a2d3fc-cb6f-11e8-8c83-509a4c0f1ffc\"}, {\"line\": {\"dash\": \"dot\"}, \"name\": \"\\u5b63\\u5ea6\\u5f00\\u53d1\\u9879\\u76ee\\u6570(\\u5468\\u6768)\", \"x\": [\"8-3\", \"8-4\", \"9-1\", \"9-2\", \"9-3\", \"9-4\"], \"y\": [32.0, 32.0, 32.0, 32.0, 32.0, 32.0], \"type\": \"scatter\", \"uid\": \"49a2d3fd-cb6f-11e8-be1f-509a4c0f1ffc\"}, {\"line\": {\"dash\": \"dash\"}, \"name\": \"\\u5b63\\u5ea6\\u5f00\\u53d1\\u9879\\u76ee\\u6570(\\u8c22\\u5fb7\\u5065)\", \"x\": [\"8-3\", \"8-4\", \"9-1\", \"9-2\", \"9-3\", \"9-4\"], \"y\": [2.0, 2.0, null, 6.0, 6.0, 6.0], \"type\": \"scatter\", \"uid\": \"49a2d3fe-cb6f-11e8-b5d3-509a4c0f1ffc\"}, {\"line\": {\"dash\": \"longdash\"}, \"name\": \"\\u5b63\\u5ea6\\u5f00\\u53d1\\u9879\\u76ee\\u6570(\\u8303\\u65ed\\u5b81)\", \"x\": [\"8-3\", \"8-4\", \"9-1\", \"9-2\", \"9-3\", \"9-4\"], \"y\": [18.0, 25.0, 30.0, 7.0, 5.0, 24.0], \"type\": \"scatter\", \"uid\": \"49a2d3ff-cb6f-11e8-b7a2-509a4c0f1ffc\"}, {\"line\": {\"dash\": \"dashdot\"}, \"name\": \"\\u5b63\\u5ea6\\u5f00\\u53d1\\u9879\\u76ee\\u6570(\\u5b5f\\u660a)\", \"x\": [\"8-3\", \"8-4\", \"9-1\", \"9-2\", \"9-3\", \"9-4\"], \"y\": [43.0, 43.0, 43.0, 43.0, 43.0, 43.0], \"type\": \"scatter\", \"uid\": \"49a2d400-cb6f-11e8-99bf-509a4c0f1ffc\"}, {\"line\": {\"dash\": \"longdashdot\"}, \"name\": \"\\u5b63\\u5ea6\\u5f00\\u53d1\\u9879\\u76ee\\u6570(\\u59da\\u76df\\u6210)\", \"x\": [\"8-3\", \"8-4\", \"9-1\", \"9-2\", \"9-3\", \"9-4\"], \"y\": [9.0, 9.0, 9.0, 9.0, 9.0, 15.0], \"type\": \"scatter\", \"uid\": \"49a2d401-cb6f-11e8-ba51-509a4c0f1ffc\"}, {\"line\": {\"dash\": \"solid\"}, \"name\": \"\\u5b63\\u5ea6\\u5f00\\u53d1\\u9879\\u76ee\\u6570(\\u5f20\\u5b88\\u4f1f)\", \"x\": [\"8-3\", \"8-4\", \"9-1\", \"9-2\", \"9-3\", \"9-4\"], \"y\": [13.0, 16.0, 18.0, 20.0, 20.0, 21.0], \"type\": \"scatter\", \"uid\": \"49a2d402-cb6f-11e8-a64d-509a4c0f1ffc\"}, {\"line\": {\"dash\": \"dot\"}, \"name\": \"\\u5b63\\u5ea6\\u5f00\\u53d1\\u9879\\u76ee\\u6570(\\u97e9\\u5c11\\u6000)\", \"x\": [\"8-3\", \"8-4\", \"9-1\", \"9-2\", \"9-3\", \"9-4\"], \"y\": [7.0, 7.0, 7.0, 6.0, 7.0, null], \"type\": \"scatter\", \"uid\": \"49a2d403-cb6f-11e8-8f24-509a4c0f1ffc\"}, {\"line\": {\"dash\": \"dash\"}, \"name\": \"\\u5b63\\u5ea6\\u5f00\\u53d1\\u9879\\u76ee\\u6570(\\u674e\\u5e86\\u539f)\", \"x\": [\"8-3\", \"8-4\", \"9-1\", \"9-2\", \"9-3\", \"9-4\"], \"y\": [0.0, 0.0, 0.0, 0.0, 0.0, null], \"type\": \"scatter\", \"uid\": \"49a2d404-cb6f-11e8-9b0f-509a4c0f1ffc\"}, {\"line\": {\"dash\": \"longdash\"}, \"name\": \"\\u5b63\\u5ea6\\u5f00\\u53d1\\u9879\\u76ee\\u6570(\\u6bb5\\u5229\\u5f3a)\", \"x\": [\"8-3\", \"8-4\", \"9-1\", \"9-2\", \"9-3\", \"9-4\"], \"y\": [null, null, null, null, null, 0.0], \"type\": \"scatter\", \"uid\": \"49a2d405-cb6f-11e8-93ee-509a4c0f1ffc\"}, {\"line\": {\"dash\": \"dashdot\"}, \"name\": \"\\u5b63\\u5ea6\\u5f00\\u53d1\\u9879\\u76ee\\u6570(\\u8def\\u6167\\u840d)\", \"x\": [\"8-3\", \"8-4\", \"9-1\", \"9-2\", \"9-3\", \"9-4\"], \"y\": [0.0, 0.0, 0.0, 0.0, 0.0, null], \"type\": \"scatter\", \"uid\": \"49a2d406-cb6f-11e8-81f3-509a4c0f1ffc\"}, {\"line\": {\"dash\": \"longdashdot\"}, \"name\": \"\\u5b63\\u5ea6\\u5f00\\u53d1\\u9879\\u76ee\\u6570(\\u738b\\u5b81)\", \"x\": [\"8-3\", \"8-4\", \"9-1\", \"9-2\", \"9-3\", \"9-4\"], \"y\": [0.0, 0.0, 0.0, null, null, null], \"type\": \"scatter\", \"uid\": \"49a2d407-cb6f-11e8-8a9f-509a4c0f1ffc\"}, {\"line\": {\"dash\": \"solid\"}, \"name\": \"\\u6682\\u505c\\u9879\\u76ee\\u6570(\\u4e8e\\u6167)\", \"x\": [\"8-3\", \"8-4\", \"9-1\", \"9-2\", \"9-3\", \"9-4\"], \"y\": [0.0, 0.0, 0.0, 0.0, 0.0, 0.0], \"type\": \"scatter\", \"uid\": \"49a2d408-cb6f-11e8-b5c2-509a4c0f1ffc\"}, {\"line\": {\"dash\": \"dot\"}, \"name\": \"\\u6682\\u505c\\u9879\\u76ee\\u6570(\\u5c01\\u5f66\\u6770)\", \"x\": [\"8-3\", \"8-4\", \"9-1\", \"9-2\", \"9-3\", \"9-4\"], \"y\": [1.0, 1.0, 1.0, 1.0, 0.0, 2.0], \"type\": \"scatter\", \"uid\": \"49a2d409-cb6f-11e8-ab64-509a4c0f1ffc\"}, {\"line\": {\"dash\": \"dash\"}, \"name\": \"\\u6682\\u505c\\u9879\\u76ee\\u6570(\\u5218\\u6c5f)\", \"x\": [\"8-3\", \"8-4\", \"9-1\", \"9-2\", \"9-3\", \"9-4\"], \"y\": [0.0, 0.0, 0.0, 1.0, 0.0, 0.0], \"type\": \"scatter\", \"uid\": \"49a2d40a-cb6f-11e8-bd85-509a4c0f1ffc\"}, {\"line\": {\"dash\": \"longdash\"}, \"name\": \"\\u6682\\u505c\\u9879\\u76ee\\u6570(\\u6768\\u4f1f\\u98de)\", \"x\": [\"8-3\", \"8-4\", \"9-1\", \"9-2\", \"9-3\", \"9-4\"], \"y\": [0.0, 0.0, 0.0, 0.0, 0.0, 0.0], \"type\": \"scatter\", \"uid\": \"49a2d40b-cb6f-11e8-9dbf-509a4c0f1ffc\"}, {\"line\": {\"dash\": \"dashdot\"}, \"name\": \"\\u6682\\u505c\\u9879\\u76ee\\u6570(\\u82cf\\u5f66\\u52cb)\", \"x\": [\"8-3\", \"8-4\", \"9-1\", \"9-2\", \"9-3\", \"9-4\"], \"y\": [8.0, 8.0, 8.0, 8.0, 8.0, null], \"type\": \"scatter\", \"uid\": \"49a2d40c-cb6f-11e8-bb7f-509a4c0f1ffc\"}, {\"line\": {\"dash\": \"longdashdot\"}, \"name\": \"\\u6682\\u505c\\u9879\\u76ee\\u6570(\\u674e\\u534e\\u4e91)\", \"x\": [\"8-3\", \"8-4\", \"9-1\", \"9-2\", \"9-3\", \"9-4\"], \"y\": [0.0, 0.0, 0.0, 0.0, 3.0, null], \"type\": \"scatter\", \"uid\": \"49a2d40d-cb6f-11e8-843b-509a4c0f1ffc\"}, {\"line\": {\"dash\": \"solid\"}, \"name\": \"\\u6682\\u505c\\u9879\\u76ee\\u6570(\\u4efb\\u96ea)\", \"x\": [\"8-3\", \"8-4\", \"9-1\", \"9-2\", \"9-3\", \"9-4\"], \"y\": [null, 0.0, 3.0, 3.0, 4.0, 4.0], \"type\": \"scatter\", \"uid\": \"49a2faee-cb6f-11e8-bce3-509a4c0f1ffc\"}, {\"line\": {\"dash\": \"dot\"}, \"name\": \"\\u6682\\u505c\\u9879\\u76ee\\u6570(\\u9a6c\\u6f47)\", \"x\": [\"8-3\", \"8-4\", \"9-1\", \"9-2\", \"9-3\", \"9-4\"], \"y\": [0.0, 0.0, 0.0, 0.0, 0.0, 0.0], \"type\": \"scatter\", \"uid\": \"49a2faef-cb6f-11e8-97ef-509a4c0f1ffc\"}, {\"line\": {\"dash\": \"dash\"}, \"name\": \"\\u6682\\u505c\\u9879\\u76ee\\u6570(\\u5b8b\\u8fce\\u6960)\", \"x\": [\"8-3\", \"8-4\", \"9-1\", \"9-2\", \"9-3\", \"9-4\"], \"y\": [0.0, 0.0, 0.0, null, null, null], \"type\": \"scatter\", \"uid\": \"49a2faf0-cb6f-11e8-93b4-509a4c0f1ffc\"}, {\"line\": {\"dash\": \"longdash\"}, \"name\": \"\\u6682\\u505c\\u9879\\u76ee\\u6570(\\u4e8e\\u52c7\\u4e00)\", \"x\": [\"8-3\", \"8-4\", \"9-1\", \"9-2\", \"9-3\", \"9-4\"], \"y\": [0.0, 0.0, 0.0, 0.0, 0.0, 0.0], \"type\": \"scatter\", \"uid\": \"49a2faf1-cb6f-11e8-970e-509a4c0f1ffc\"}, {\"line\": {\"dash\": \"dashdot\"}, \"name\": \"\\u6682\\u505c\\u9879\\u76ee\\u6570(\\u5218\\u6167\\u73b2)\", \"x\": [\"8-3\", \"8-4\", \"9-1\", \"9-2\", \"9-3\", \"9-4\"], \"y\": [2.0, 2.0, 4.0, null, null, null], \"type\": \"scatter\", \"uid\": \"49a2faf2-cb6f-11e8-9c15-509a4c0f1ffc\"}, {\"line\": {\"dash\": \"longdashdot\"}, \"name\": \"\\u6682\\u505c\\u9879\\u76ee\\u6570(\\u8d75\\u73a5)\", \"x\": [\"8-3\", \"8-4\", \"9-1\", \"9-2\", \"9-3\", \"9-4\"], \"y\": [0.0, 0.0, 1.0, 1.0, 1.0, 0.0], \"type\": \"scatter\", \"uid\": \"49a2faf3-cb6f-11e8-a7df-509a4c0f1ffc\"}, {\"line\": {\"dash\": \"solid\"}, \"name\": \"\\u6682\\u505c\\u9879\\u76ee\\u6570(\\u5360\\u4f1f)\", \"x\": [\"8-3\", \"8-4\", \"9-1\", \"9-2\", \"9-3\", \"9-4\"], \"y\": [0.0, 0.0, 0.0, 0.0, 0.0, 0.0], \"type\": \"scatter\", \"uid\": \"49a2faf4-cb6f-11e8-88cb-509a4c0f1ffc\"}, {\"line\": {\"dash\": \"dot\"}, \"name\": \"\\u6682\\u505c\\u9879\\u76ee\\u6570(\\u5468\\u6768)\", \"x\": [\"8-3\", \"8-4\", \"9-1\", \"9-2\", \"9-3\", \"9-4\"], \"y\": [1.0, 1.0, 1.0, 1.0, 1.0, 1.0], \"type\": \"scatter\", \"uid\": \"49a2faf5-cb6f-11e8-90b9-509a4c0f1ffc\"}, {\"line\": {\"dash\": \"dash\"}, \"name\": \"\\u6682\\u505c\\u9879\\u76ee\\u6570(\\u8c22\\u5fb7\\u5065)\", \"x\": [\"8-3\", \"8-4\", \"9-1\", \"9-2\", \"9-3\", \"9-4\"], \"y\": [0.0, 0.0, null, 0.0, 0.0, 0.0], \"type\": \"scatter\", \"uid\": \"49a2faf6-cb6f-11e8-82d4-509a4c0f1ffc\"}, {\"line\": {\"dash\": \"longdash\"}, \"name\": \"\\u6682\\u505c\\u9879\\u76ee\\u6570(\\u8303\\u65ed\\u5b81)\", \"x\": [\"8-3\", \"8-4\", \"9-1\", \"9-2\", \"9-3\", \"9-4\"], \"y\": [0.0, 0.0, 0.0, 0.0, 0.0, 0.0], \"type\": \"scatter\", \"uid\": \"49a2faf7-cb6f-11e8-b9a1-509a4c0f1ffc\"}, {\"line\": {\"dash\": \"dashdot\"}, \"name\": \"\\u6682\\u505c\\u9879\\u76ee\\u6570(\\u5b5f\\u660a)\", \"x\": [\"8-3\", \"8-4\", \"9-1\", \"9-2\", \"9-3\", \"9-4\"], \"y\": [3.0, 3.0, 3.0, 3.0, 3.0, 3.0], \"type\": \"scatter\", \"uid\": \"49a2faf8-cb6f-11e8-8c85-509a4c0f1ffc\"}, {\"line\": {\"dash\": \"longdashdot\"}, \"name\": \"\\u6682\\u505c\\u9879\\u76ee\\u6570(\\u59da\\u76df\\u6210)\", \"x\": [\"8-3\", \"8-4\", \"9-1\", \"9-2\", \"9-3\", \"9-4\"], \"y\": [0.0, 0.0, 0.0, 0.0, 12.0, 12.0], \"type\": \"scatter\", \"uid\": \"49a2faf9-cb6f-11e8-8c16-509a4c0f1ffc\"}, {\"line\": {\"dash\": \"solid\"}, \"name\": \"\\u6682\\u505c\\u9879\\u76ee\\u6570(\\u5f20\\u5b88\\u4f1f)\", \"x\": [\"8-3\", \"8-4\", \"9-1\", \"9-2\", \"9-3\", \"9-4\"], \"y\": [0.0, 0.0, 0.0, 0.0, 0.0, 0.0], \"type\": \"scatter\", \"uid\": \"49a2fafa-cb6f-11e8-9511-509a4c0f1ffc\"}, {\"line\": {\"dash\": \"dot\"}, \"name\": \"\\u6682\\u505c\\u9879\\u76ee\\u6570(\\u97e9\\u5c11\\u6000)\", \"x\": [\"8-3\", \"8-4\", \"9-1\", \"9-2\", \"9-3\", \"9-4\"], \"y\": [0.0, 0.0, 0.0, 0.0, 0.0, null], \"type\": \"scatter\", \"uid\": \"49a2fafb-cb6f-11e8-a14d-509a4c0f1ffc\"}, {\"line\": {\"dash\": \"dash\"}, \"name\": \"\\u6682\\u505c\\u9879\\u76ee\\u6570(\\u674e\\u5e86\\u539f)\", \"x\": [\"8-3\", \"8-4\", \"9-1\", \"9-2\", \"9-3\", \"9-4\"], \"y\": [0.0, 0.0, 0.0, 0.0, 0.0, null], \"type\": \"scatter\", \"uid\": \"49a2fafc-cb6f-11e8-af59-509a4c0f1ffc\"}, {\"line\": {\"dash\": \"longdash\"}, \"name\": \"\\u6682\\u505c\\u9879\\u76ee\\u6570(\\u6bb5\\u5229\\u5f3a)\", \"x\": [\"8-3\", \"8-4\", \"9-1\", \"9-2\", \"9-3\", \"9-4\"], \"y\": [null, null, null, null, null, 0.0], \"type\": \"scatter\", \"uid\": \"49a2fafd-cb6f-11e8-9a39-509a4c0f1ffc\"}, {\"line\": {\"dash\": \"dashdot\"}, \"name\": \"\\u6682\\u505c\\u9879\\u76ee\\u6570(\\u8def\\u6167\\u840d)\", \"x\": [\"8-3\", \"8-4\", \"9-1\", \"9-2\", \"9-3\", \"9-4\"], \"y\": [0.0, 0.0, 0.0, 0.0, 2.0, null], \"type\": \"scatter\", \"uid\": \"49a2fafe-cb6f-11e8-90e8-509a4c0f1ffc\"}, {\"line\": {\"dash\": \"longdashdot\"}, \"name\": \"\\u6682\\u505c\\u9879\\u76ee\\u6570(\\u738b\\u5b81)\", \"x\": [\"8-3\", \"8-4\", \"9-1\", \"9-2\", \"9-3\", \"9-4\"], \"y\": [0.0, 0.0, 0.0, null, null, null], \"type\": \"scatter\", \"uid\": \"49a2faff-cb6f-11e8-bc0e-509a4c0f1ffc\"}, {\"line\": {\"dash\": \"solid\"}, \"name\": \"\\u5ef6\\u671f\\u9879\\u76ee\\u6570(\\u4e8e\\u6167)\", \"x\": [\"8-3\", \"8-4\", \"9-1\", \"9-2\", \"9-3\", \"9-4\"], \"y\": [0.0, 0.0, 0.0, 0.0, 0.0, 0.0], \"type\": \"scatter\", \"uid\": \"49a2fb00-cb6f-11e8-bc14-509a4c0f1ffc\"}, {\"line\": {\"dash\": \"dot\"}, \"name\": \"\\u5ef6\\u671f\\u9879\\u76ee\\u6570(\\u5c01\\u5f66\\u6770)\", \"x\": [\"8-3\", \"8-4\", \"9-1\", \"9-2\", \"9-3\", \"9-4\"], \"y\": [0.0, 0.0, 0.0, 0.0, 0.0, 1.0], \"type\": \"scatter\", \"uid\": \"49a2fb01-cb6f-11e8-8c07-509a4c0f1ffc\"}, {\"line\": {\"dash\": \"dash\"}, \"name\": \"\\u5ef6\\u671f\\u9879\\u76ee\\u6570(\\u5218\\u6c5f)\", \"x\": [\"8-3\", \"8-4\", \"9-1\", \"9-2\", \"9-3\", \"9-4\"], \"y\": [0.0, 0.0, 0.0, 0.0, 0.0, 0.0], \"type\": \"scatter\", \"uid\": \"49a2fb02-cb6f-11e8-a15f-509a4c0f1ffc\"}, {\"line\": {\"dash\": \"longdash\"}, \"name\": \"\\u5ef6\\u671f\\u9879\\u76ee\\u6570(\\u6768\\u4f1f\\u98de)\", \"x\": [\"8-3\", \"8-4\", \"9-1\", \"9-2\", \"9-3\", \"9-4\"], \"y\": [0.0, 0.0, 0.0, 0.0, 0.0, 0.0], \"type\": \"scatter\", \"uid\": \"49a2fb03-cb6f-11e8-bd53-509a4c0f1ffc\"}, {\"line\": {\"dash\": \"dashdot\"}, \"name\": \"\\u5ef6\\u671f\\u9879\\u76ee\\u6570(\\u82cf\\u5f66\\u52cb)\", \"x\": [\"8-3\", \"8-4\", \"9-1\", \"9-2\", \"9-3\", \"9-4\"], \"y\": [0.0, 0.0, 0.0, 0.0, 0.0, null], \"type\": \"scatter\", \"uid\": \"49a2fb04-cb6f-11e8-99a7-509a4c0f1ffc\"}, {\"line\": {\"dash\": \"longdashdot\"}, \"name\": \"\\u5ef6\\u671f\\u9879\\u76ee\\u6570(\\u674e\\u534e\\u4e91)\", \"x\": [\"8-3\", \"8-4\", \"9-1\", \"9-2\", \"9-3\", \"9-4\"], \"y\": [6.0, 6.0, 9.0, 9.0, 6.0, null], \"type\": \"scatter\", \"uid\": \"49a2fb05-cb6f-11e8-827b-509a4c0f1ffc\"}, {\"line\": {\"dash\": \"solid\"}, \"name\": \"\\u5ef6\\u671f\\u9879\\u76ee\\u6570(\\u4efb\\u96ea)\", \"x\": [\"8-3\", \"8-4\", \"9-1\", \"9-2\", \"9-3\", \"9-4\"], \"y\": [null, 3.0, 7.0, 7.0, 4.0, 8.0], \"type\": \"scatter\", \"uid\": \"49a2fb06-cb6f-11e8-98a9-509a4c0f1ffc\"}, {\"line\": {\"dash\": \"dot\"}, \"name\": \"\\u5ef6\\u671f\\u9879\\u76ee\\u6570(\\u9a6c\\u6f47)\", \"x\": [\"8-3\", \"8-4\", \"9-1\", \"9-2\", \"9-3\", \"9-4\"], \"y\": [1.0, 0.0, 0.0, 0.0, 0.0, 0.0], \"type\": \"scatter\", \"uid\": \"49a2fb07-cb6f-11e8-a98b-509a4c0f1ffc\"}, {\"line\": {\"dash\": \"dash\"}, \"name\": \"\\u5ef6\\u671f\\u9879\\u76ee\\u6570(\\u5b8b\\u8fce\\u6960)\", \"x\": [\"8-3\", \"8-4\", \"9-1\", \"9-2\", \"9-3\", \"9-4\"], \"y\": [1.0, 1.0, 6.0, null, null, null], \"type\": \"scatter\", \"uid\": \"49a2fb08-cb6f-11e8-95f8-509a4c0f1ffc\"}, {\"line\": {\"dash\": \"longdash\"}, \"name\": \"\\u5ef6\\u671f\\u9879\\u76ee\\u6570(\\u4e8e\\u52c7\\u4e00)\", \"x\": [\"8-3\", \"8-4\", \"9-1\", \"9-2\", \"9-3\", \"9-4\"], \"y\": [0.0, 0.0, 0.0, 0.0, 0.0, 0.0], \"type\": \"scatter\", \"uid\": \"49a2fb09-cb6f-11e8-8822-509a4c0f1ffc\"}, {\"line\": {\"dash\": \"dashdot\"}, \"name\": \"\\u5ef6\\u671f\\u9879\\u76ee\\u6570(\\u5218\\u6167\\u73b2)\", \"x\": [\"8-3\", \"8-4\", \"9-1\", \"9-2\", \"9-3\", \"9-4\"], \"y\": [0.0, 0.0, 0.0, null, null, null], \"type\": \"scatter\", \"uid\": \"49a2fb0a-cb6f-11e8-b88c-509a4c0f1ffc\"}, {\"line\": {\"dash\": \"longdashdot\"}, \"name\": \"\\u5ef6\\u671f\\u9879\\u76ee\\u6570(\\u8d75\\u73a5)\", \"x\": [\"8-3\", \"8-4\", \"9-1\", \"9-2\", \"9-3\", \"9-4\"], \"y\": [0.0, 0.0, 1.0, 1.0, 1.0, 0.0], \"type\": \"scatter\", \"uid\": \"49a2fb0b-cb6f-11e8-9b86-509a4c0f1ffc\"}, {\"line\": {\"dash\": \"solid\"}, \"name\": \"\\u5ef6\\u671f\\u9879\\u76ee\\u6570(\\u5360\\u4f1f)\", \"x\": [\"8-3\", \"8-4\", \"9-1\", \"9-2\", \"9-3\", \"9-4\"], \"y\": [3.0, 3.0, 3.0, 3.0, 3.0, 3.0], \"type\": \"scatter\", \"uid\": \"49a2fb0c-cb6f-11e8-beef-509a4c0f1ffc\"}, {\"line\": {\"dash\": \"dot\"}, \"name\": \"\\u5ef6\\u671f\\u9879\\u76ee\\u6570(\\u5468\\u6768)\", \"x\": [\"8-3\", \"8-4\", \"9-1\", \"9-2\", \"9-3\", \"9-4\"], \"y\": [0.0, 0.0, 0.0, 0.0, 0.0, 0.0], \"type\": \"scatter\", \"uid\": \"49a2fb0d-cb6f-11e8-bd57-509a4c0f1ffc\"}, {\"line\": {\"dash\": \"dash\"}, \"name\": \"\\u5ef6\\u671f\\u9879\\u76ee\\u6570(\\u8c22\\u5fb7\\u5065)\", \"x\": [\"8-3\", \"8-4\", \"9-1\", \"9-2\", \"9-3\", \"9-4\"], \"y\": [0.0, 0.0, null, 0.0, 0.0, 0.0], \"type\": \"scatter\", \"uid\": \"49a2fb0e-cb6f-11e8-9af7-509a4c0f1ffc\"}, {\"line\": {\"dash\": \"longdash\"}, \"name\": \"\\u5ef6\\u671f\\u9879\\u76ee\\u6570(\\u8303\\u65ed\\u5b81)\", \"x\": [\"8-3\", \"8-4\", \"9-1\", \"9-2\", \"9-3\", \"9-4\"], \"y\": [0.0, 0.0, 0.0, 0.0, 0.0, 4.0], \"type\": \"scatter\", \"uid\": \"49a2fb0f-cb6f-11e8-8fce-509a4c0f1ffc\"}, {\"line\": {\"dash\": \"dashdot\"}, \"name\": \"\\u5ef6\\u671f\\u9879\\u76ee\\u6570(\\u5b5f\\u660a)\", \"x\": [\"8-3\", \"8-4\", \"9-1\", \"9-2\", \"9-3\", \"9-4\"], \"y\": [0.0, 0.0, 0.0, 0.0, 0.0, 0.0], \"type\": \"scatter\", \"uid\": \"49a2fb10-cb6f-11e8-a6e7-509a4c0f1ffc\"}, {\"line\": {\"dash\": \"longdashdot\"}, \"name\": \"\\u5ef6\\u671f\\u9879\\u76ee\\u6570(\\u59da\\u76df\\u6210)\", \"x\": [\"8-3\", \"8-4\", \"9-1\", \"9-2\", \"9-3\", \"9-4\"], \"y\": [0.0, 0.0, 0.0, 0.0, 0.0, 0.0], \"type\": \"scatter\", \"uid\": \"49a2fb11-cb6f-11e8-bd80-509a4c0f1ffc\"}, {\"line\": {\"dash\": \"solid\"}, \"name\": \"\\u5ef6\\u671f\\u9879\\u76ee\\u6570(\\u5f20\\u5b88\\u4f1f)\", \"x\": [\"8-3\", \"8-4\", \"9-1\", \"9-2\", \"9-3\", \"9-4\"], \"y\": [0.0, 0.0, 0.0, 0.0, 0.0, 0.0], \"type\": \"scatter\", \"uid\": \"49a2fb12-cb6f-11e8-b8b1-509a4c0f1ffc\"}, {\"line\": {\"dash\": \"dot\"}, \"name\": \"\\u5ef6\\u671f\\u9879\\u76ee\\u6570(\\u97e9\\u5c11\\u6000)\", \"x\": [\"8-3\", \"8-4\", \"9-1\", \"9-2\", \"9-3\", \"9-4\"], \"y\": [0.0, 0.0, 0.0, 0.0, 0.0, null], \"type\": \"scatter\", \"uid\": \"49a2fb13-cb6f-11e8-b0f5-509a4c0f1ffc\"}, {\"line\": {\"dash\": \"dash\"}, \"name\": \"\\u5ef6\\u671f\\u9879\\u76ee\\u6570(\\u674e\\u5e86\\u539f)\", \"x\": [\"8-3\", \"8-4\", \"9-1\", \"9-2\", \"9-3\", \"9-4\"], \"y\": [0.0, 0.0, 0.0, 0.0, 0.0, null], \"type\": \"scatter\", \"uid\": \"49a2fb14-cb6f-11e8-b341-509a4c0f1ffc\"}, {\"line\": {\"dash\": \"longdash\"}, \"name\": \"\\u5ef6\\u671f\\u9879\\u76ee\\u6570(\\u6bb5\\u5229\\u5f3a)\", \"x\": [\"8-3\", \"8-4\", \"9-1\", \"9-2\", \"9-3\", \"9-4\"], \"y\": [null, null, null, null, null, 0.0], \"type\": \"scatter\", \"uid\": \"49a2fb15-cb6f-11e8-a3f3-509a4c0f1ffc\"}, {\"line\": {\"dash\": \"dashdot\"}, \"name\": \"\\u5ef6\\u671f\\u9879\\u76ee\\u6570(\\u8def\\u6167\\u840d)\", \"x\": [\"8-3\", \"8-4\", \"9-1\", \"9-2\", \"9-3\", \"9-4\"], \"y\": [0.0, 0.0, 0.0, 0.0, 0.0, null], \"type\": \"scatter\", \"uid\": \"49a2fb16-cb6f-11e8-813a-509a4c0f1ffc\"}, {\"line\": {\"dash\": \"longdashdot\"}, \"name\": \"\\u5ef6\\u671f\\u9879\\u76ee\\u6570(\\u738b\\u5b81)\", \"x\": [\"8-3\", \"8-4\", \"9-1\", \"9-2\", \"9-3\", \"9-4\"], \"y\": [0.0, 0.0, 0.0, null, null, null], \"type\": \"scatter\", \"uid\": \"49a2fb17-cb6f-11e8-bc4a-509a4c0f1ffc\"}],\n",
       "            {\"title\": \"\\u5982\\u671f\\u5b8c\\u6210\\u9879\\u76ee\\u6570&\\u5f00\\u53d1\\u4e2d\\u7684\\u9879\\u76ee\\u6570&\\u5ef6\\u671f\\u5b8c\\u6210&\\u5b63\\u5ea6\\u5f00\\u53d1\\u9879\\u76ee\\u6570&\\u6682\\u505c\\u9879\\u76ee\\u6570&\\u5ef6\\u671f\\u9879\\u76ee\\u6570\\u5468\\u8d8b\\u52bf\\u56fe\", \"xaxis\": {\"mirror\": \"all\", \"nticks\": 20, \"showgrid\": true, \"showline\": true, \"title\": \"\\u5468\", \"zeroline\": true}, \"yaxis\": {\"mirror\": \"all\", \"nticks\": 20, \"showgrid\": true, \"showline\": true, \"title\": \"\\u5982\\u671f\\u5b8c\\u6210\\u9879\\u76ee\\u6570&\\u5f00\\u53d1\\u4e2d\\u7684\\u9879\\u76ee\\u6570&\\u5ef6\\u671f\\u5b8c\\u6210&\\u5b63\\u5ea6\\u5f00\\u53d1\\u9879\\u76ee\\u6570&\\u6682\\u505c\\u9879\\u76ee\\u6570&\\u5ef6\\u671f\\u9879\\u76ee\\u6570\", \"zeroline\": true}},\n",
       "            {\"showLink\": true, \"linkText\": \"Export to plot.ly\"}\n",
       "        ).then(function () {return Plotly.addFrames('116b6a4f-f5c6-4124-8435-173f155c913b',{});}).then(function(){Plotly.animate('116b6a4f-f5c6-4124-8435-173f155c913b');})\n",
       "        });</script>"
      ],
      "text/vnd.plotly.v1+html": [
       "<div id=\"116b6a4f-f5c6-4124-8435-173f155c913b\" style=\"height: 525px; width: 100%;\" class=\"plotly-graph-div\"></div><script type=\"text/javascript\">require([\"plotly\"], function(Plotly) { window.PLOTLYENV=window.PLOTLYENV || {};window.PLOTLYENV.BASE_URL=\"https://plot.ly\";\n",
       "        Plotly.plot(\n",
       "            '116b6a4f-f5c6-4124-8435-173f155c913b',\n",
       "            [{\"line\": {\"dash\": \"solid\"}, \"name\": \"\\u5982\\u671f\\u5b8c\\u6210\\u9879\\u76ee\\u6570(\\u4e8e\\u6167)\", \"x\": [\"8-3\", \"8-4\", \"9-1\", \"9-2\", \"9-3\", \"9-4\"], \"y\": [32.0, 33.0, 34.0, 35.0, 35.0, 35.0], \"type\": \"scatter\", \"uid\": \"49a285c0-cb6f-11e8-8503-509a4c0f1ffc\"}, {\"line\": {\"dash\": \"dot\"}, \"name\": \"\\u5982\\u671f\\u5b8c\\u6210\\u9879\\u76ee\\u6570(\\u5c01\\u5f66\\u6770)\", \"x\": [\"8-3\", \"8-4\", \"9-1\", \"9-2\", \"9-3\", \"9-4\"], \"y\": [0.0, 0.0, 2.0, 2.0, 2.0, 3.0], \"type\": \"scatter\", \"uid\": \"49a285c1-cb6f-11e8-8918-509a4c0f1ffc\"}, {\"line\": {\"dash\": \"dash\"}, \"name\": \"\\u5982\\u671f\\u5b8c\\u6210\\u9879\\u76ee\\u6570(\\u5218\\u6c5f)\", \"x\": [\"8-3\", \"8-4\", \"9-1\", \"9-2\", \"9-3\", \"9-4\"], \"y\": [0.0, 0.0, 0.0, 0.0, 0.0, 0.0], \"type\": \"scatter\", \"uid\": \"49a285c2-cb6f-11e8-978a-509a4c0f1ffc\"}, {\"line\": {\"dash\": \"longdash\"}, \"name\": \"\\u5982\\u671f\\u5b8c\\u6210\\u9879\\u76ee\\u6570(\\u6768\\u4f1f\\u98de)\", \"x\": [\"8-3\", \"8-4\", \"9-1\", \"9-2\", \"9-3\", \"9-4\"], \"y\": [2.0, 2.0, 4.0, 4.0, 4.0, 4.0], \"type\": \"scatter\", \"uid\": \"49a285c3-cb6f-11e8-a334-509a4c0f1ffc\"}, {\"line\": {\"dash\": \"dashdot\"}, \"name\": \"\\u5982\\u671f\\u5b8c\\u6210\\u9879\\u76ee\\u6570(\\u82cf\\u5f66\\u52cb)\", \"x\": [\"8-3\", \"8-4\", \"9-1\", \"9-2\", \"9-3\", \"9-4\"], \"y\": [20.0, 21.0, 22.0, 25.0, 25.0, null], \"type\": \"scatter\", \"uid\": \"49a285c4-cb6f-11e8-b95a-509a4c0f1ffc\"}, {\"line\": {\"dash\": \"longdashdot\"}, \"name\": \"\\u5982\\u671f\\u5b8c\\u6210\\u9879\\u76ee\\u6570(\\u674e\\u534e\\u4e91)\", \"x\": [\"8-3\", \"8-4\", \"9-1\", \"9-2\", \"9-3\", \"9-4\"], \"y\": [5.0, 5.0, 5.0, 5.0, 22.0, null], \"type\": \"scatter\", \"uid\": \"49a285c5-cb6f-11e8-b100-509a4c0f1ffc\"}, {\"line\": {\"dash\": \"solid\"}, \"name\": \"\\u5982\\u671f\\u5b8c\\u6210\\u9879\\u76ee\\u6570(\\u4efb\\u96ea)\", \"x\": [\"8-3\", \"8-4\", \"9-1\", \"9-2\", \"9-3\", \"9-4\"], \"y\": [null, 8.0, 8.0, 8.0, 8.0, 8.0], \"type\": \"scatter\", \"uid\": \"49a285c6-cb6f-11e8-9ec3-509a4c0f1ffc\"}, {\"line\": {\"dash\": \"dot\"}, \"name\": \"\\u5982\\u671f\\u5b8c\\u6210\\u9879\\u76ee\\u6570(\\u9a6c\\u6f47)\", \"x\": [\"8-3\", \"8-4\", \"9-1\", \"9-2\", \"9-3\", \"9-4\"], \"y\": [0.0, 0.0, 0.0, 0.0, 0.0, 0.0], \"type\": \"scatter\", \"uid\": \"49a285c7-cb6f-11e8-a6b7-509a4c0f1ffc\"}, {\"line\": {\"dash\": \"dash\"}, \"name\": \"\\u5982\\u671f\\u5b8c\\u6210\\u9879\\u76ee\\u6570(\\u5b8b\\u8fce\\u6960)\", \"x\": [\"8-3\", \"8-4\", \"9-1\", \"9-2\", \"9-3\", \"9-4\"], \"y\": [0.0, 0.0, 0.0, null, null, null], \"type\": \"scatter\", \"uid\": \"49a2acd0-cb6f-11e8-8b95-509a4c0f1ffc\"}, {\"line\": {\"dash\": \"longdash\"}, \"name\": \"\\u5982\\u671f\\u5b8c\\u6210\\u9879\\u76ee\\u6570(\\u4e8e\\u52c7\\u4e00)\", \"x\": [\"8-3\", \"8-4\", \"9-1\", \"9-2\", \"9-3\", \"9-4\"], \"y\": [0.0, 0.0, 0.0, 0.0, 0.0, 0.0], \"type\": \"scatter\", \"uid\": \"49a2acd1-cb6f-11e8-854c-509a4c0f1ffc\"}, {\"line\": {\"dash\": \"dashdot\"}, \"name\": \"\\u5982\\u671f\\u5b8c\\u6210\\u9879\\u76ee\\u6570(\\u5218\\u6167\\u73b2)\", \"x\": [\"8-3\", \"8-4\", \"9-1\", \"9-2\", \"9-3\", \"9-4\"], \"y\": [3.0, 3.0, 3.0, null, null, null], \"type\": \"scatter\", \"uid\": \"49a2acd2-cb6f-11e8-82c8-509a4c0f1ffc\"}, {\"line\": {\"dash\": \"longdashdot\"}, \"name\": \"\\u5982\\u671f\\u5b8c\\u6210\\u9879\\u76ee\\u6570(\\u8d75\\u73a5)\", \"x\": [\"8-3\", \"8-4\", \"9-1\", \"9-2\", \"9-3\", \"9-4\"], \"y\": [20.0, 21.0, 20.0, 21.0, 21.0, 21.0], \"type\": \"scatter\", \"uid\": \"49a2acd3-cb6f-11e8-a3ba-509a4c0f1ffc\"}, {\"line\": {\"dash\": \"solid\"}, \"name\": \"\\u5982\\u671f\\u5b8c\\u6210\\u9879\\u76ee\\u6570(\\u5360\\u4f1f)\", \"x\": [\"8-3\", \"8-4\", \"9-1\", \"9-2\", \"9-3\", \"9-4\"], \"y\": [12.0, 10.0, 10.0, 10.0, 13.0, 13.0], \"type\": \"scatter\", \"uid\": \"49a2acd4-cb6f-11e8-a0d5-509a4c0f1ffc\"}, {\"line\": {\"dash\": \"dot\"}, \"name\": \"\\u5982\\u671f\\u5b8c\\u6210\\u9879\\u76ee\\u6570(\\u5468\\u6768)\", \"x\": [\"8-3\", \"8-4\", \"9-1\", \"9-2\", \"9-3\", \"9-4\"], \"y\": [28.0, 28.0, 28.0, 29.0, 32.0, 32.0], \"type\": \"scatter\", \"uid\": \"49a2acd5-cb6f-11e8-b649-509a4c0f1ffc\"}, {\"line\": {\"dash\": \"dash\"}, \"name\": \"\\u5982\\u671f\\u5b8c\\u6210\\u9879\\u76ee\\u6570(\\u8c22\\u5fb7\\u5065)\", \"x\": [\"8-3\", \"8-4\", \"9-1\", \"9-2\", \"9-3\", \"9-4\"], \"y\": [2.0, 2.0, null, 6.0, 6.0, 6.0], \"type\": \"scatter\", \"uid\": \"49a2acd6-cb6f-11e8-9086-509a4c0f1ffc\"}, {\"line\": {\"dash\": \"longdash\"}, \"name\": \"\\u5982\\u671f\\u5b8c\\u6210\\u9879\\u76ee\\u6570(\\u8303\\u65ed\\u5b81)\", \"x\": [\"8-3\", \"8-4\", \"9-1\", \"9-2\", \"9-3\", \"9-4\"], \"y\": [16.0, 23.0, 27.0, 7.0, 5.0, 20.0], \"type\": \"scatter\", \"uid\": \"49a2acd7-cb6f-11e8-a46e-509a4c0f1ffc\"}, {\"line\": {\"dash\": \"dashdot\"}, \"name\": \"\\u5982\\u671f\\u5b8c\\u6210\\u9879\\u76ee\\u6570(\\u5b5f\\u660a)\", \"x\": [\"8-3\", \"8-4\", \"9-1\", \"9-2\", \"9-3\", \"9-4\"], \"y\": [38.0, 38.0, 38.0, 39.0, 40.0, 40.0], \"type\": \"scatter\", \"uid\": \"49a2acd8-cb6f-11e8-9c4a-509a4c0f1ffc\"}, {\"line\": {\"dash\": \"longdashdot\"}, \"name\": \"\\u5982\\u671f\\u5b8c\\u6210\\u9879\\u76ee\\u6570(\\u59da\\u76df\\u6210)\", \"x\": [\"8-3\", \"8-4\", \"9-1\", \"9-2\", \"9-3\", \"9-4\"], \"y\": [3.0, 3.0, 3.0, 3.0, 3.0, 3.0], \"type\": \"scatter\", \"uid\": \"49a2acd9-cb6f-11e8-88c9-509a4c0f1ffc\"}, {\"line\": {\"dash\": \"solid\"}, \"name\": \"\\u5982\\u671f\\u5b8c\\u6210\\u9879\\u76ee\\u6570(\\u5f20\\u5b88\\u4f1f)\", \"x\": [\"8-3\", \"8-4\", \"9-1\", \"9-2\", \"9-3\", \"9-4\"], \"y\": [13.0, 16.0, 18.0, 20.0, 20.0, 21.0], \"type\": \"scatter\", \"uid\": \"49a2acda-cb6f-11e8-960c-509a4c0f1ffc\"}, {\"line\": {\"dash\": \"dot\"}, \"name\": \"\\u5982\\u671f\\u5b8c\\u6210\\u9879\\u76ee\\u6570(\\u97e9\\u5c11\\u6000)\", \"x\": [\"8-3\", \"8-4\", \"9-1\", \"9-2\", \"9-3\", \"9-4\"], \"y\": [5.0, 5.0, 6.0, 5.0, 5.0, null], \"type\": \"scatter\", \"uid\": \"49a2acdb-cb6f-11e8-a0f5-509a4c0f1ffc\"}, {\"line\": {\"dash\": \"dash\"}, \"name\": \"\\u5982\\u671f\\u5b8c\\u6210\\u9879\\u76ee\\u6570(\\u674e\\u5e86\\u539f)\", \"x\": [\"8-3\", \"8-4\", \"9-1\", \"9-2\", \"9-3\", \"9-4\"], \"y\": [0.0, 0.0, 0.0, 0.0, 0.0, null], \"type\": \"scatter\", \"uid\": \"49a2acdc-cb6f-11e8-b1e9-509a4c0f1ffc\"}, {\"line\": {\"dash\": \"longdash\"}, \"name\": \"\\u5982\\u671f\\u5b8c\\u6210\\u9879\\u76ee\\u6570(\\u6bb5\\u5229\\u5f3a)\", \"x\": [\"8-3\", \"8-4\", \"9-1\", \"9-2\", \"9-3\", \"9-4\"], \"y\": [null, null, null, null, null, 6.0], \"type\": \"scatter\", \"uid\": \"49a2acdd-cb6f-11e8-89f0-509a4c0f1ffc\"}, {\"line\": {\"dash\": \"dashdot\"}, \"name\": \"\\u5982\\u671f\\u5b8c\\u6210\\u9879\\u76ee\\u6570(\\u8def\\u6167\\u840d)\", \"x\": [\"8-3\", \"8-4\", \"9-1\", \"9-2\", \"9-3\", \"9-4\"], \"y\": [0.0, 0.0, 0.0, 0.0, 0.0, null], \"type\": \"scatter\", \"uid\": \"49a2acde-cb6f-11e8-b03d-509a4c0f1ffc\"}, {\"line\": {\"dash\": \"longdashdot\"}, \"name\": \"\\u5982\\u671f\\u5b8c\\u6210\\u9879\\u76ee\\u6570(\\u738b\\u5b81)\", \"x\": [\"8-3\", \"8-4\", \"9-1\", \"9-2\", \"9-3\", \"9-4\"], \"y\": [0.0, 0.0, 0.0, null, null, null], \"type\": \"scatter\", \"uid\": \"49a2acdf-cb6f-11e8-bcb6-509a4c0f1ffc\"}, {\"line\": {\"dash\": \"solid\"}, \"name\": \"\\u5f00\\u53d1\\u4e2d\\u7684\\u9879\\u76ee\\u6570(\\u4e8e\\u6167)\", \"x\": [\"8-3\", \"8-4\", \"9-1\", \"9-2\", \"9-3\", \"9-4\"], \"y\": [4.0, 3.0, 2.0, 2.0, 2.0, 1.0], \"type\": \"scatter\", \"uid\": \"49a2ace0-cb6f-11e8-bc9d-509a4c0f1ffc\"}, {\"line\": {\"dash\": \"dot\"}, \"name\": \"\\u5f00\\u53d1\\u4e2d\\u7684\\u9879\\u76ee\\u6570(\\u5c01\\u5f66\\u6770)\", \"x\": [\"8-3\", \"8-4\", \"9-1\", \"9-2\", \"9-3\", \"9-4\"], \"y\": [4.0, 4.0, 2.0, 2.0, 3.0, 0.0], \"type\": \"scatter\", \"uid\": \"49a2ace1-cb6f-11e8-a809-509a4c0f1ffc\"}, {\"line\": {\"dash\": \"dash\"}, \"name\": \"\\u5f00\\u53d1\\u4e2d\\u7684\\u9879\\u76ee\\u6570(\\u5218\\u6c5f)\", \"x\": [\"8-3\", \"8-4\", \"9-1\", \"9-2\", \"9-3\", \"9-4\"], \"y\": [3.0, 2.0, 1.0, 1.0, 1.0, 1.0], \"type\": \"scatter\", \"uid\": \"49a2ace2-cb6f-11e8-b649-509a4c0f1ffc\"}, {\"line\": {\"dash\": \"longdash\"}, \"name\": \"\\u5f00\\u53d1\\u4e2d\\u7684\\u9879\\u76ee\\u6570(\\u6768\\u4f1f\\u98de)\", \"x\": [\"8-3\", \"8-4\", \"9-1\", \"9-2\", \"9-3\", \"9-4\"], \"y\": [5.0, 4.0, 2.0, 2.0, 2.0, 2.0], \"type\": \"scatter\", \"uid\": \"49a2ace3-cb6f-11e8-920d-509a4c0f1ffc\"}, {\"line\": {\"dash\": \"dashdot\"}, \"name\": \"\\u5f00\\u53d1\\u4e2d\\u7684\\u9879\\u76ee\\u6570(\\u82cf\\u5f66\\u52cb)\", \"x\": [\"8-3\", \"8-4\", \"9-1\", \"9-2\", \"9-3\", \"9-4\"], \"y\": [5.0, 4.0, 3.0, 0.0, 0.0, null], \"type\": \"scatter\", \"uid\": \"49a2ace4-cb6f-11e8-bed9-509a4c0f1ffc\"}, {\"line\": {\"dash\": \"longdashdot\"}, \"name\": \"\\u5f00\\u53d1\\u4e2d\\u7684\\u9879\\u76ee\\u6570(\\u674e\\u534e\\u4e91)\", \"x\": [\"8-3\", \"8-4\", \"9-1\", \"9-2\", \"9-3\", \"9-4\"], \"y\": [24.0, 24.0, 20.0, 18.0, 3.0, null], \"type\": \"scatter\", \"uid\": \"49a2ace5-cb6f-11e8-9e67-509a4c0f1ffc\"}, {\"line\": {\"dash\": \"solid\"}, \"name\": \"\\u5f00\\u53d1\\u4e2d\\u7684\\u9879\\u76ee\\u6570(\\u4efb\\u96ea)\", \"x\": [\"8-3\", \"8-4\", \"9-1\", \"9-2\", \"9-3\", \"9-4\"], \"y\": [null, 15.0, 8.0, 8.0, 6.0, 0.0], \"type\": \"scatter\", \"uid\": \"49a2ace6-cb6f-11e8-9e96-509a4c0f1ffc\"}, {\"line\": {\"dash\": \"dot\"}, \"name\": \"\\u5f00\\u53d1\\u4e2d\\u7684\\u9879\\u76ee\\u6570(\\u9a6c\\u6f47)\", \"x\": [\"8-3\", \"8-4\", \"9-1\", \"9-2\", \"9-3\", \"9-4\"], \"y\": [1.0, 0.0, 0.0, 0.0, 0.0, 0.0], \"type\": \"scatter\", \"uid\": \"49a2ace7-cb6f-11e8-9750-509a4c0f1ffc\"}, {\"line\": {\"dash\": \"dash\"}, \"name\": \"\\u5f00\\u53d1\\u4e2d\\u7684\\u9879\\u76ee\\u6570(\\u5b8b\\u8fce\\u6960)\", \"x\": [\"8-3\", \"8-4\", \"9-1\", \"9-2\", \"9-3\", \"9-4\"], \"y\": [14.0, 13.0, 7.0, null, null, null], \"type\": \"scatter\", \"uid\": \"49a2ace8-cb6f-11e8-b63b-509a4c0f1ffc\"}, {\"line\": {\"dash\": \"longdash\"}, \"name\": \"\\u5f00\\u53d1\\u4e2d\\u7684\\u9879\\u76ee\\u6570(\\u4e8e\\u52c7\\u4e00)\", \"x\": [\"8-3\", \"8-4\", \"9-1\", \"9-2\", \"9-3\", \"9-4\"], \"y\": [0.0, 0.0, 0.0, 0.0, 0.0, 0.0], \"type\": \"scatter\", \"uid\": \"49a2ace9-cb6f-11e8-bf1f-509a4c0f1ffc\"}, {\"line\": {\"dash\": \"dashdot\"}, \"name\": \"\\u5f00\\u53d1\\u4e2d\\u7684\\u9879\\u76ee\\u6570(\\u5218\\u6167\\u73b2)\", \"x\": [\"8-3\", \"8-4\", \"9-1\", \"9-2\", \"9-3\", \"9-4\"], \"y\": [2.0, 2.0, 1.0, null, null, null], \"type\": \"scatter\", \"uid\": \"49a2acea-cb6f-11e8-a794-509a4c0f1ffc\"}, {\"line\": {\"dash\": \"longdashdot\"}, \"name\": \"\\u5f00\\u53d1\\u4e2d\\u7684\\u9879\\u76ee\\u6570(\\u8d75\\u73a5)\", \"x\": [\"8-3\", \"8-4\", \"9-1\", \"9-2\", \"9-3\", \"9-4\"], \"y\": [0.0, 2.0, 3.0, 1.0, 0.0, 0.0], \"type\": \"scatter\", \"uid\": \"49a2aceb-cb6f-11e8-a88a-509a4c0f1ffc\"}, {\"line\": {\"dash\": \"solid\"}, \"name\": \"\\u5f00\\u53d1\\u4e2d\\u7684\\u9879\\u76ee\\u6570(\\u5360\\u4f1f)\", \"x\": [\"8-3\", \"8-4\", \"9-1\", \"9-2\", \"9-3\", \"9-4\"], \"y\": [2.0, 5.0, 5.0, 5.0, 0.0, 0.0], \"type\": \"scatter\", \"uid\": \"49a2acec-cb6f-11e8-9dbe-509a4c0f1ffc\"}, {\"line\": {\"dash\": \"dot\"}, \"name\": \"\\u5f00\\u53d1\\u4e2d\\u7684\\u9879\\u76ee\\u6570(\\u5468\\u6768)\", \"x\": [\"8-3\", \"8-4\", \"9-1\", \"9-2\", \"9-3\", \"9-4\"], \"y\": [3.0, 3.0, 3.0, 2.0, 0.0, 0.0], \"type\": \"scatter\", \"uid\": \"49a2aced-cb6f-11e8-b7b3-509a4c0f1ffc\"}, {\"line\": {\"dash\": \"dash\"}, \"name\": \"\\u5f00\\u53d1\\u4e2d\\u7684\\u9879\\u76ee\\u6570(\\u8c22\\u5fb7\\u5065)\", \"x\": [\"8-3\", \"8-4\", \"9-1\", \"9-2\", \"9-3\", \"9-4\"], \"y\": [0.0, 0.0, null, 0.0, 0.0, 0.0], \"type\": \"scatter\", \"uid\": \"49a2acee-cb6f-11e8-94d8-509a4c0f1ffc\"}, {\"line\": {\"dash\": \"longdash\"}, \"name\": \"\\u5f00\\u53d1\\u4e2d\\u7684\\u9879\\u76ee\\u6570(\\u8303\\u65ed\\u5b81)\", \"x\": [\"8-3\", \"8-4\", \"9-1\", \"9-2\", \"9-3\", \"9-4\"], \"y\": [0.0, 1.0, 1.0, 0.0, 0.0, 4.0], \"type\": \"scatter\", \"uid\": \"49a2acef-cb6f-11e8-8d4d-509a4c0f1ffc\"}, {\"line\": {\"dash\": \"dashdot\"}, \"name\": \"\\u5f00\\u53d1\\u4e2d\\u7684\\u9879\\u76ee\\u6570(\\u5b5f\\u660a)\", \"x\": [\"8-3\", \"8-4\", \"9-1\", \"9-2\", \"9-3\", \"9-4\"], \"y\": [2.0, 2.0, 2.0, 2.0, 0.0, 0.0], \"type\": \"scatter\", \"uid\": \"49a2acf0-cb6f-11e8-bdda-509a4c0f1ffc\"}, {\"line\": {\"dash\": \"longdashdot\"}, \"name\": \"\\u5f00\\u53d1\\u4e2d\\u7684\\u9879\\u76ee\\u6570(\\u59da\\u76df\\u6210)\", \"x\": [\"8-3\", \"8-4\", \"9-1\", \"9-2\", \"9-3\", \"9-4\"], \"y\": [1.0, 2.0, 3.0, 2.0, 7.0, 4.0], \"type\": \"scatter\", \"uid\": \"49a2acf1-cb6f-11e8-955e-509a4c0f1ffc\"}, {\"line\": {\"dash\": \"solid\"}, \"name\": \"\\u5f00\\u53d1\\u4e2d\\u7684\\u9879\\u76ee\\u6570(\\u5f20\\u5b88\\u4f1f)\", \"x\": [\"8-3\", \"8-4\", \"9-1\", \"9-2\", \"9-3\", \"9-4\"], \"y\": [2.0, 2.0, 2.0, 2.0, 0.0, 0.0], \"type\": \"scatter\", \"uid\": \"49a2acf2-cb6f-11e8-a03c-509a4c0f1ffc\"}, {\"line\": {\"dash\": \"dot\"}, \"name\": \"\\u5f00\\u53d1\\u4e2d\\u7684\\u9879\\u76ee\\u6570(\\u97e9\\u5c11\\u6000)\", \"x\": [\"8-3\", \"8-4\", \"9-1\", \"9-2\", \"9-3\", \"9-4\"], \"y\": [1.0, 2.0, 1.0, 1.0, 2.0, null], \"type\": \"scatter\", \"uid\": \"49a2acf3-cb6f-11e8-99ac-509a4c0f1ffc\"}, {\"line\": {\"dash\": \"dash\"}, \"name\": \"\\u5f00\\u53d1\\u4e2d\\u7684\\u9879\\u76ee\\u6570(\\u674e\\u5e86\\u539f)\", \"x\": [\"8-3\", \"8-4\", \"9-1\", \"9-2\", \"9-3\", \"9-4\"], \"y\": [0.0, 0.0, 0.0, 0.0, 0.0, null], \"type\": \"scatter\", \"uid\": \"49a2acf4-cb6f-11e8-b0fc-509a4c0f1ffc\"}, {\"line\": {\"dash\": \"longdash\"}, \"name\": \"\\u5f00\\u53d1\\u4e2d\\u7684\\u9879\\u76ee\\u6570(\\u6bb5\\u5229\\u5f3a)\", \"x\": [\"8-3\", \"8-4\", \"9-1\", \"9-2\", \"9-3\", \"9-4\"], \"y\": [null, null, null, null, null, 0.0], \"type\": \"scatter\", \"uid\": \"49a2acf5-cb6f-11e8-92f4-509a4c0f1ffc\"}, {\"line\": {\"dash\": \"dashdot\"}, \"name\": \"\\u5f00\\u53d1\\u4e2d\\u7684\\u9879\\u76ee\\u6570(\\u8def\\u6167\\u840d)\", \"x\": [\"8-3\", \"8-4\", \"9-1\", \"9-2\", \"9-3\", \"9-4\"], \"y\": [0.0, 0.0, 0.0, 0.0, 0.0, null], \"type\": \"scatter\", \"uid\": \"49a2acf6-cb6f-11e8-ac28-509a4c0f1ffc\"}, {\"line\": {\"dash\": \"longdashdot\"}, \"name\": \"\\u5f00\\u53d1\\u4e2d\\u7684\\u9879\\u76ee\\u6570(\\u738b\\u5b81)\", \"x\": [\"8-3\", \"8-4\", \"9-1\", \"9-2\", \"9-3\", \"9-4\"], \"y\": [0.0, 0.0, 0.0, null, null, null], \"type\": \"scatter\", \"uid\": \"49a2acf7-cb6f-11e8-8434-509a4c0f1ffc\"}, {\"line\": {\"dash\": \"solid\"}, \"name\": \"\\u5ef6\\u671f\\u5b8c\\u6210(\\u4e8e\\u6167)\", \"x\": [\"8-3\", \"8-4\", \"9-1\", \"9-2\", \"9-3\", \"9-4\"], \"y\": [0.0, 0.0, 0.0, 0.0, 0.0, 1.0], \"type\": \"scatter\", \"uid\": \"49a2acf8-cb6f-11e8-bb3f-509a4c0f1ffc\"}, {\"line\": {\"dash\": \"dot\"}, \"name\": \"\\u5ef6\\u671f\\u5b8c\\u6210(\\u5c01\\u5f66\\u6770)\", \"x\": [\"8-3\", \"8-4\", \"9-1\", \"9-2\", \"9-3\", \"9-4\"], \"y\": [0.0, 0.0, 0.0, 0.0, 0.0, 1.0], \"type\": \"scatter\", \"uid\": \"49a2acf9-cb6f-11e8-a4d9-509a4c0f1ffc\"}, {\"line\": {\"dash\": \"dash\"}, \"name\": \"\\u5ef6\\u671f\\u5b8c\\u6210(\\u5218\\u6c5f)\", \"x\": [\"8-3\", \"8-4\", \"9-1\", \"9-2\", \"9-3\", \"9-4\"], \"y\": [0.0, 1.0, 2.0, 0.0, 2.0, 2.0], \"type\": \"scatter\", \"uid\": \"49a2acfa-cb6f-11e8-8d96-509a4c0f1ffc\"}, {\"line\": {\"dash\": \"longdash\"}, \"name\": \"\\u5ef6\\u671f\\u5b8c\\u6210(\\u6768\\u4f1f\\u98de)\", \"x\": [\"8-3\", \"8-4\", \"9-1\", \"9-2\", \"9-3\", \"9-4\"], \"y\": [1.0, 2.0, 2.0, 2.0, 2.0, 2.0], \"type\": \"scatter\", \"uid\": \"49a2acfb-cb6f-11e8-94e9-509a4c0f1ffc\"}, {\"line\": {\"dash\": \"dashdot\"}, \"name\": \"\\u5ef6\\u671f\\u5b8c\\u6210(\\u82cf\\u5f66\\u52cb)\", \"x\": [\"8-3\", \"8-4\", \"9-1\", \"9-2\", \"9-3\", \"9-4\"], \"y\": [0.0, 0.0, 0.0, 0.0, 0.0, null], \"type\": \"scatter\", \"uid\": \"49a2acfc-cb6f-11e8-ab60-509a4c0f1ffc\"}, {\"line\": {\"dash\": \"longdashdot\"}, \"name\": \"\\u5ef6\\u671f\\u5b8c\\u6210(\\u674e\\u534e\\u4e91)\", \"x\": [\"8-3\", \"8-4\", \"9-1\", \"9-2\", \"9-3\", \"9-4\"], \"y\": [0.0, 0.0, 1.0, 3.0, 13.0, null], \"type\": \"scatter\", \"uid\": \"49a2acfd-cb6f-11e8-a621-509a4c0f1ffc\"}, {\"line\": {\"dash\": \"solid\"}, \"name\": \"\\u5ef6\\u671f\\u5b8c\\u6210(\\u4efb\\u96ea)\", \"x\": [\"8-3\", \"8-4\", \"9-1\", \"9-2\", \"9-3\", \"9-4\"], \"y\": [null, 1.0, 1.0, 1.0, 5.0, 7.0], \"type\": \"scatter\", \"uid\": \"49a2d3de-cb6f-11e8-a2fd-509a4c0f1ffc\"}, {\"line\": {\"dash\": \"dot\"}, \"name\": \"\\u5ef6\\u671f\\u5b8c\\u6210(\\u9a6c\\u6f47)\", \"x\": [\"8-3\", \"8-4\", \"9-1\", \"9-2\", \"9-3\", \"9-4\"], \"y\": [0.0, 0.0, 0.0, 0.0, 0.0, 0.0], \"type\": \"scatter\", \"uid\": \"49a2d3df-cb6f-11e8-9018-509a4c0f1ffc\"}, {\"line\": {\"dash\": \"dash\"}, \"name\": \"\\u5ef6\\u671f\\u5b8c\\u6210(\\u5b8b\\u8fce\\u6960)\", \"x\": [\"8-3\", \"8-4\", \"9-1\", \"9-2\", \"9-3\", \"9-4\"], \"y\": [8.0, 9.0, 10.0, null, null, null], \"type\": \"scatter\", \"uid\": \"49a2d3e0-cb6f-11e8-8f84-509a4c0f1ffc\"}, {\"line\": {\"dash\": \"longdash\"}, \"name\": \"\\u5ef6\\u671f\\u5b8c\\u6210(\\u4e8e\\u52c7\\u4e00)\", \"x\": [\"8-3\", \"8-4\", \"9-1\", \"9-2\", \"9-3\", \"9-4\"], \"y\": [0.0, 0.0, 0.0, 0.0, 0.0, 0.0], \"type\": \"scatter\", \"uid\": \"49a2d3e1-cb6f-11e8-90fb-509a4c0f1ffc\"}, {\"line\": {\"dash\": \"dashdot\"}, \"name\": \"\\u5ef6\\u671f\\u5b8c\\u6210(\\u5218\\u6167\\u73b2)\", \"x\": [\"8-3\", \"8-4\", \"9-1\", \"9-2\", \"9-3\", \"9-4\"], \"y\": [1.0, 1.0, 1.0, null, null, null], \"type\": \"scatter\", \"uid\": \"49a2d3e2-cb6f-11e8-9bd3-509a4c0f1ffc\"}, {\"line\": {\"dash\": \"longdashdot\"}, \"name\": \"\\u5ef6\\u671f\\u5b8c\\u6210(\\u8d75\\u73a5)\", \"x\": [\"8-3\", \"8-4\", \"9-1\", \"9-2\", \"9-3\", \"9-4\"], \"y\": [1.0, 1.0, 1.0, 1.0, 1.0, 1.0], \"type\": \"scatter\", \"uid\": \"49a2d3e3-cb6f-11e8-99a6-509a4c0f1ffc\"}, {\"line\": {\"dash\": \"solid\"}, \"name\": \"\\u5ef6\\u671f\\u5b8c\\u6210(\\u5360\\u4f1f)\", \"x\": [\"8-3\", \"8-4\", \"9-1\", \"9-2\", \"9-3\", \"9-4\"], \"y\": [2.0, 1.0, 1.0, 1.0, 3.0, 3.0], \"type\": \"scatter\", \"uid\": \"49a2d3e4-cb6f-11e8-92dc-509a4c0f1ffc\"}, {\"line\": {\"dash\": \"dot\"}, \"name\": \"\\u5ef6\\u671f\\u5b8c\\u6210(\\u5468\\u6768)\", \"x\": [\"8-3\", \"8-4\", \"9-1\", \"9-2\", \"9-3\", \"9-4\"], \"y\": [0.0, 0.0, 0.0, 0.0, 0.0, 0.0], \"type\": \"scatter\", \"uid\": \"49a2d3e5-cb6f-11e8-baef-509a4c0f1ffc\"}, {\"line\": {\"dash\": \"dash\"}, \"name\": \"\\u5ef6\\u671f\\u5b8c\\u6210(\\u8c22\\u5fb7\\u5065)\", \"x\": [\"8-3\", \"8-4\", \"9-1\", \"9-2\", \"9-3\", \"9-4\"], \"y\": [0.0, 0.0, null, 0.0, 0.0, 0.0], \"type\": \"scatter\", \"uid\": \"49a2d3e6-cb6f-11e8-87ed-509a4c0f1ffc\"}, {\"line\": {\"dash\": \"longdash\"}, \"name\": \"\\u5ef6\\u671f\\u5b8c\\u6210(\\u8303\\u65ed\\u5b81)\", \"x\": [\"8-3\", \"8-4\", \"9-1\", \"9-2\", \"9-3\", \"9-4\"], \"y\": [2.0, 2.0, 3.0, 0.0, 0.0, 4.0], \"type\": \"scatter\", \"uid\": \"49a2d3e7-cb6f-11e8-9b14-509a4c0f1ffc\"}, {\"line\": {\"dash\": \"dashdot\"}, \"name\": \"\\u5ef6\\u671f\\u5b8c\\u6210(\\u5b5f\\u660a)\", \"x\": [\"8-3\", \"8-4\", \"9-1\", \"9-2\", \"9-3\", \"9-4\"], \"y\": [0.0, 0.0, 0.0, 0.0, 0.0, 0.0], \"type\": \"scatter\", \"uid\": \"49a2d3e8-cb6f-11e8-a1da-509a4c0f1ffc\"}, {\"line\": {\"dash\": \"longdashdot\"}, \"name\": \"\\u5ef6\\u671f\\u5b8c\\u6210(\\u59da\\u76df\\u6210)\", \"x\": [\"8-3\", \"8-4\", \"9-1\", \"9-2\", \"9-3\", \"9-4\"], \"y\": [0.0, 0.0, 0.0, 0.0, 0.0, 0.0], \"type\": \"scatter\", \"uid\": \"49a2d3e9-cb6f-11e8-9f63-509a4c0f1ffc\"}, {\"line\": {\"dash\": \"solid\"}, \"name\": \"\\u5ef6\\u671f\\u5b8c\\u6210(\\u5f20\\u5b88\\u4f1f)\", \"x\": [\"8-3\", \"8-4\", \"9-1\", \"9-2\", \"9-3\", \"9-4\"], \"y\": [0.0, 0.0, 0.0, 0.0, 0.0, 1.0], \"type\": \"scatter\", \"uid\": \"49a2d3ea-cb6f-11e8-8f68-509a4c0f1ffc\"}, {\"line\": {\"dash\": \"dot\"}, \"name\": \"\\u5ef6\\u671f\\u5b8c\\u6210(\\u97e9\\u5c11\\u6000)\", \"x\": [\"8-3\", \"8-4\", \"9-1\", \"9-2\", \"9-3\", \"9-4\"], \"y\": [0.0, 0.0, 0.0, 0.0, 0.0, null], \"type\": \"scatter\", \"uid\": \"49a2d3eb-cb6f-11e8-860d-509a4c0f1ffc\"}, {\"line\": {\"dash\": \"dash\"}, \"name\": \"\\u5ef6\\u671f\\u5b8c\\u6210(\\u674e\\u5e86\\u539f)\", \"x\": [\"8-3\", \"8-4\", \"9-1\", \"9-2\", \"9-3\", \"9-4\"], \"y\": [0.0, 0.0, 0.0, 0.0, 0.0, null], \"type\": \"scatter\", \"uid\": \"49a2d3ec-cb6f-11e8-bdca-509a4c0f1ffc\"}, {\"line\": {\"dash\": \"longdash\"}, \"name\": \"\\u5ef6\\u671f\\u5b8c\\u6210(\\u6bb5\\u5229\\u5f3a)\", \"x\": [\"8-3\", \"8-4\", \"9-1\", \"9-2\", \"9-3\", \"9-4\"], \"y\": [null, null, null, null, null, 0.0], \"type\": \"scatter\", \"uid\": \"49a2d3ed-cb6f-11e8-8181-509a4c0f1ffc\"}, {\"line\": {\"dash\": \"dashdot\"}, \"name\": \"\\u5ef6\\u671f\\u5b8c\\u6210(\\u8def\\u6167\\u840d)\", \"x\": [\"8-3\", \"8-4\", \"9-1\", \"9-2\", \"9-3\", \"9-4\"], \"y\": [0.0, 0.0, 0.0, 0.0, 0.0, null], \"type\": \"scatter\", \"uid\": \"49a2d3ee-cb6f-11e8-9232-509a4c0f1ffc\"}, {\"line\": {\"dash\": \"longdashdot\"}, \"name\": \"\\u5ef6\\u671f\\u5b8c\\u6210(\\u738b\\u5b81)\", \"x\": [\"8-3\", \"8-4\", \"9-1\", \"9-2\", \"9-3\", \"9-4\"], \"y\": [0.0, 0.0, 0.0, null, null, null], \"type\": \"scatter\", \"uid\": \"49a2d3ef-cb6f-11e8-af4a-509a4c0f1ffc\"}, {\"line\": {\"dash\": \"solid\"}, \"name\": \"\\u5b63\\u5ea6\\u5f00\\u53d1\\u9879\\u76ee\\u6570(\\u4e8e\\u6167)\", \"x\": [\"8-3\", \"8-4\", \"9-1\", \"9-2\", \"9-3\", \"9-4\"], \"y\": [36.0, 36.0, 36.0, 37.0, 37.0, 37.0], \"type\": \"scatter\", \"uid\": \"49a2d3f0-cb6f-11e8-a9b1-509a4c0f1ffc\"}, {\"line\": {\"dash\": \"dot\"}, \"name\": \"\\u5b63\\u5ea6\\u5f00\\u53d1\\u9879\\u76ee\\u6570(\\u5c01\\u5f66\\u6770)\", \"x\": [\"8-3\", \"8-4\", \"9-1\", \"9-2\", \"9-3\", \"9-4\"], \"y\": [5.0, 5.0, 5.0, 5.0, 5.0, 5.0], \"type\": \"scatter\", \"uid\": \"49a2d3f1-cb6f-11e8-b796-509a4c0f1ffc\"}, {\"line\": {\"dash\": \"dash\"}, \"name\": \"\\u5b63\\u5ea6\\u5f00\\u53d1\\u9879\\u76ee\\u6570(\\u5218\\u6c5f)\", \"x\": [\"8-3\", \"8-4\", \"9-1\", \"9-2\", \"9-3\", \"9-4\"], \"y\": [3.0, 3.0, 3.0, 0.0, 3.0, 3.0], \"type\": \"scatter\", \"uid\": \"49a2d3f2-cb6f-11e8-8705-509a4c0f1ffc\"}, {\"line\": {\"dash\": \"longdash\"}, \"name\": \"\\u5b63\\u5ea6\\u5f00\\u53d1\\u9879\\u76ee\\u6570(\\u6768\\u4f1f\\u98de)\", \"x\": [\"8-3\", \"8-4\", \"9-1\", \"9-2\", \"9-3\", \"9-4\"], \"y\": [8.0, 8.0, 8.0, 8.0, 8.0, 8.0], \"type\": \"scatter\", \"uid\": \"49a2d3f3-cb6f-11e8-a8c8-509a4c0f1ffc\"}, {\"line\": {\"dash\": \"dashdot\"}, \"name\": \"\\u5b63\\u5ea6\\u5f00\\u53d1\\u9879\\u76ee\\u6570(\\u82cf\\u5f66\\u52cb)\", \"x\": [\"8-3\", \"8-4\", \"9-1\", \"9-2\", \"9-3\", \"9-4\"], \"y\": [33.0, 33.0, 33.0, 33.0, 33.0, null], \"type\": \"scatter\", \"uid\": \"49a2d3f4-cb6f-11e8-83ff-509a4c0f1ffc\"}, {\"line\": {\"dash\": \"longdashdot\"}, \"name\": \"\\u5b63\\u5ea6\\u5f00\\u53d1\\u9879\\u76ee\\u6570(\\u674e\\u534e\\u4e91)\", \"x\": [\"8-3\", \"8-4\", \"9-1\", \"9-2\", \"9-3\", \"9-4\"], \"y\": [35.0, 35.0, 35.0, 35.0, 47.0, null], \"type\": \"scatter\", \"uid\": \"49a2d3f5-cb6f-11e8-960f-509a4c0f1ffc\"}, {\"line\": {\"dash\": \"solid\"}, \"name\": \"\\u5b63\\u5ea6\\u5f00\\u53d1\\u9879\\u76ee\\u6570(\\u4efb\\u96ea)\", \"x\": [\"8-3\", \"8-4\", \"9-1\", \"9-2\", \"9-3\", \"9-4\"], \"y\": [null, 27.0, 27.0, 27.0, 27.0, 27.0], \"type\": \"scatter\", \"uid\": \"49a2d3f6-cb6f-11e8-8744-509a4c0f1ffc\"}, {\"line\": {\"dash\": \"dot\"}, \"name\": \"\\u5b63\\u5ea6\\u5f00\\u53d1\\u9879\\u76ee\\u6570(\\u9a6c\\u6f47)\", \"x\": [\"8-3\", \"8-4\", \"9-1\", \"9-2\", \"9-3\", \"9-4\"], \"y\": [0.0, 0.0, 0.0, 0.0, 0.0, 0.0], \"type\": \"scatter\", \"uid\": \"49a2d3f7-cb6f-11e8-a6ef-509a4c0f1ffc\"}, {\"line\": {\"dash\": \"dash\"}, \"name\": \"\\u5b63\\u5ea6\\u5f00\\u53d1\\u9879\\u76ee\\u6570(\\u5b8b\\u8fce\\u6960)\", \"x\": [\"8-3\", \"8-4\", \"9-1\", \"9-2\", \"9-3\", \"9-4\"], \"y\": [23.0, 23.0, 23.0, null, null, null], \"type\": \"scatter\", \"uid\": \"49a2d3f8-cb6f-11e8-b3b6-509a4c0f1ffc\"}, {\"line\": {\"dash\": \"longdash\"}, \"name\": \"\\u5b63\\u5ea6\\u5f00\\u53d1\\u9879\\u76ee\\u6570(\\u4e8e\\u52c7\\u4e00)\", \"x\": [\"8-3\", \"8-4\", \"9-1\", \"9-2\", \"9-3\", \"9-4\"], \"y\": [0.0, 0.0, 0.0, 0.0, 0.0, 0.0], \"type\": \"scatter\", \"uid\": \"49a2d3f9-cb6f-11e8-983b-509a4c0f1ffc\"}, {\"line\": {\"dash\": \"dashdot\"}, \"name\": \"\\u5b63\\u5ea6\\u5f00\\u53d1\\u9879\\u76ee\\u6570(\\u5218\\u6167\\u73b2)\", \"x\": [\"8-3\", \"8-4\", \"9-1\", \"9-2\", \"9-3\", \"9-4\"], \"y\": [8.0, 8.0, 9.0, null, null, null], \"type\": \"scatter\", \"uid\": \"49a2d3fa-cb6f-11e8-8727-509a4c0f1ffc\"}, {\"line\": {\"dash\": \"longdashdot\"}, \"name\": \"\\u5b63\\u5ea6\\u5f00\\u53d1\\u9879\\u76ee\\u6570(\\u8d75\\u73a5)\", \"x\": [\"8-3\", \"8-4\", \"9-1\", \"9-2\", \"9-3\", \"9-4\"], \"y\": [21.0, 22.0, 21.0, 22.0, 22.0, 22.0], \"type\": \"scatter\", \"uid\": \"49a2d3fb-cb6f-11e8-b9e3-509a4c0f1ffc\"}, {\"line\": {\"dash\": \"solid\"}, \"name\": \"\\u5b63\\u5ea6\\u5f00\\u53d1\\u9879\\u76ee\\u6570(\\u5360\\u4f1f)\", \"x\": [\"8-3\", \"8-4\", \"9-1\", \"9-2\", \"9-3\", \"9-4\"], \"y\": [19.0, 18.0, 18.0, 18.0, 19.0, 19.0], \"type\": \"scatter\", \"uid\": \"49a2d3fc-cb6f-11e8-8c83-509a4c0f1ffc\"}, {\"line\": {\"dash\": \"dot\"}, \"name\": \"\\u5b63\\u5ea6\\u5f00\\u53d1\\u9879\\u76ee\\u6570(\\u5468\\u6768)\", \"x\": [\"8-3\", \"8-4\", \"9-1\", \"9-2\", \"9-3\", \"9-4\"], \"y\": [32.0, 32.0, 32.0, 32.0, 32.0, 32.0], \"type\": \"scatter\", \"uid\": \"49a2d3fd-cb6f-11e8-be1f-509a4c0f1ffc\"}, {\"line\": {\"dash\": \"dash\"}, \"name\": \"\\u5b63\\u5ea6\\u5f00\\u53d1\\u9879\\u76ee\\u6570(\\u8c22\\u5fb7\\u5065)\", \"x\": [\"8-3\", \"8-4\", \"9-1\", \"9-2\", \"9-3\", \"9-4\"], \"y\": [2.0, 2.0, null, 6.0, 6.0, 6.0], \"type\": \"scatter\", \"uid\": \"49a2d3fe-cb6f-11e8-b5d3-509a4c0f1ffc\"}, {\"line\": {\"dash\": \"longdash\"}, \"name\": \"\\u5b63\\u5ea6\\u5f00\\u53d1\\u9879\\u76ee\\u6570(\\u8303\\u65ed\\u5b81)\", \"x\": [\"8-3\", \"8-4\", \"9-1\", \"9-2\", \"9-3\", \"9-4\"], \"y\": [18.0, 25.0, 30.0, 7.0, 5.0, 24.0], \"type\": \"scatter\", \"uid\": \"49a2d3ff-cb6f-11e8-b7a2-509a4c0f1ffc\"}, {\"line\": {\"dash\": \"dashdot\"}, \"name\": \"\\u5b63\\u5ea6\\u5f00\\u53d1\\u9879\\u76ee\\u6570(\\u5b5f\\u660a)\", \"x\": [\"8-3\", \"8-4\", \"9-1\", \"9-2\", \"9-3\", \"9-4\"], \"y\": [43.0, 43.0, 43.0, 43.0, 43.0, 43.0], \"type\": \"scatter\", \"uid\": \"49a2d400-cb6f-11e8-99bf-509a4c0f1ffc\"}, {\"line\": {\"dash\": \"longdashdot\"}, \"name\": \"\\u5b63\\u5ea6\\u5f00\\u53d1\\u9879\\u76ee\\u6570(\\u59da\\u76df\\u6210)\", \"x\": [\"8-3\", \"8-4\", \"9-1\", \"9-2\", \"9-3\", \"9-4\"], \"y\": [9.0, 9.0, 9.0, 9.0, 9.0, 15.0], \"type\": \"scatter\", \"uid\": \"49a2d401-cb6f-11e8-ba51-509a4c0f1ffc\"}, {\"line\": {\"dash\": \"solid\"}, \"name\": \"\\u5b63\\u5ea6\\u5f00\\u53d1\\u9879\\u76ee\\u6570(\\u5f20\\u5b88\\u4f1f)\", \"x\": [\"8-3\", \"8-4\", \"9-1\", \"9-2\", \"9-3\", \"9-4\"], \"y\": [13.0, 16.0, 18.0, 20.0, 20.0, 21.0], \"type\": \"scatter\", \"uid\": \"49a2d402-cb6f-11e8-a64d-509a4c0f1ffc\"}, {\"line\": {\"dash\": \"dot\"}, \"name\": \"\\u5b63\\u5ea6\\u5f00\\u53d1\\u9879\\u76ee\\u6570(\\u97e9\\u5c11\\u6000)\", \"x\": [\"8-3\", \"8-4\", \"9-1\", \"9-2\", \"9-3\", \"9-4\"], \"y\": [7.0, 7.0, 7.0, 6.0, 7.0, null], \"type\": \"scatter\", \"uid\": \"49a2d403-cb6f-11e8-8f24-509a4c0f1ffc\"}, {\"line\": {\"dash\": \"dash\"}, \"name\": \"\\u5b63\\u5ea6\\u5f00\\u53d1\\u9879\\u76ee\\u6570(\\u674e\\u5e86\\u539f)\", \"x\": [\"8-3\", \"8-4\", \"9-1\", \"9-2\", \"9-3\", \"9-4\"], \"y\": [0.0, 0.0, 0.0, 0.0, 0.0, null], \"type\": \"scatter\", \"uid\": \"49a2d404-cb6f-11e8-9b0f-509a4c0f1ffc\"}, {\"line\": {\"dash\": \"longdash\"}, \"name\": \"\\u5b63\\u5ea6\\u5f00\\u53d1\\u9879\\u76ee\\u6570(\\u6bb5\\u5229\\u5f3a)\", \"x\": [\"8-3\", \"8-4\", \"9-1\", \"9-2\", \"9-3\", \"9-4\"], \"y\": [null, null, null, null, null, 0.0], \"type\": \"scatter\", \"uid\": \"49a2d405-cb6f-11e8-93ee-509a4c0f1ffc\"}, {\"line\": {\"dash\": \"dashdot\"}, \"name\": \"\\u5b63\\u5ea6\\u5f00\\u53d1\\u9879\\u76ee\\u6570(\\u8def\\u6167\\u840d)\", \"x\": [\"8-3\", \"8-4\", \"9-1\", \"9-2\", \"9-3\", \"9-4\"], \"y\": [0.0, 0.0, 0.0, 0.0, 0.0, null], \"type\": \"scatter\", \"uid\": \"49a2d406-cb6f-11e8-81f3-509a4c0f1ffc\"}, {\"line\": {\"dash\": \"longdashdot\"}, \"name\": \"\\u5b63\\u5ea6\\u5f00\\u53d1\\u9879\\u76ee\\u6570(\\u738b\\u5b81)\", \"x\": [\"8-3\", \"8-4\", \"9-1\", \"9-2\", \"9-3\", \"9-4\"], \"y\": [0.0, 0.0, 0.0, null, null, null], \"type\": \"scatter\", \"uid\": \"49a2d407-cb6f-11e8-8a9f-509a4c0f1ffc\"}, {\"line\": {\"dash\": \"solid\"}, \"name\": \"\\u6682\\u505c\\u9879\\u76ee\\u6570(\\u4e8e\\u6167)\", \"x\": [\"8-3\", \"8-4\", \"9-1\", \"9-2\", \"9-3\", \"9-4\"], \"y\": [0.0, 0.0, 0.0, 0.0, 0.0, 0.0], \"type\": \"scatter\", \"uid\": \"49a2d408-cb6f-11e8-b5c2-509a4c0f1ffc\"}, {\"line\": {\"dash\": \"dot\"}, \"name\": \"\\u6682\\u505c\\u9879\\u76ee\\u6570(\\u5c01\\u5f66\\u6770)\", \"x\": [\"8-3\", \"8-4\", \"9-1\", \"9-2\", \"9-3\", \"9-4\"], \"y\": [1.0, 1.0, 1.0, 1.0, 0.0, 2.0], \"type\": \"scatter\", \"uid\": \"49a2d409-cb6f-11e8-ab64-509a4c0f1ffc\"}, {\"line\": {\"dash\": \"dash\"}, \"name\": \"\\u6682\\u505c\\u9879\\u76ee\\u6570(\\u5218\\u6c5f)\", \"x\": [\"8-3\", \"8-4\", \"9-1\", \"9-2\", \"9-3\", \"9-4\"], \"y\": [0.0, 0.0, 0.0, 1.0, 0.0, 0.0], \"type\": \"scatter\", \"uid\": \"49a2d40a-cb6f-11e8-bd85-509a4c0f1ffc\"}, {\"line\": {\"dash\": \"longdash\"}, \"name\": \"\\u6682\\u505c\\u9879\\u76ee\\u6570(\\u6768\\u4f1f\\u98de)\", \"x\": [\"8-3\", \"8-4\", \"9-1\", \"9-2\", \"9-3\", \"9-4\"], \"y\": [0.0, 0.0, 0.0, 0.0, 0.0, 0.0], \"type\": \"scatter\", \"uid\": \"49a2d40b-cb6f-11e8-9dbf-509a4c0f1ffc\"}, {\"line\": {\"dash\": \"dashdot\"}, \"name\": \"\\u6682\\u505c\\u9879\\u76ee\\u6570(\\u82cf\\u5f66\\u52cb)\", \"x\": [\"8-3\", \"8-4\", \"9-1\", \"9-2\", \"9-3\", \"9-4\"], \"y\": [8.0, 8.0, 8.0, 8.0, 8.0, null], \"type\": \"scatter\", \"uid\": \"49a2d40c-cb6f-11e8-bb7f-509a4c0f1ffc\"}, {\"line\": {\"dash\": \"longdashdot\"}, \"name\": \"\\u6682\\u505c\\u9879\\u76ee\\u6570(\\u674e\\u534e\\u4e91)\", \"x\": [\"8-3\", \"8-4\", \"9-1\", \"9-2\", \"9-3\", \"9-4\"], \"y\": [0.0, 0.0, 0.0, 0.0, 3.0, null], \"type\": \"scatter\", \"uid\": \"49a2d40d-cb6f-11e8-843b-509a4c0f1ffc\"}, {\"line\": {\"dash\": \"solid\"}, \"name\": \"\\u6682\\u505c\\u9879\\u76ee\\u6570(\\u4efb\\u96ea)\", \"x\": [\"8-3\", \"8-4\", \"9-1\", \"9-2\", \"9-3\", \"9-4\"], \"y\": [null, 0.0, 3.0, 3.0, 4.0, 4.0], \"type\": \"scatter\", \"uid\": \"49a2faee-cb6f-11e8-bce3-509a4c0f1ffc\"}, {\"line\": {\"dash\": \"dot\"}, \"name\": \"\\u6682\\u505c\\u9879\\u76ee\\u6570(\\u9a6c\\u6f47)\", \"x\": [\"8-3\", \"8-4\", \"9-1\", \"9-2\", \"9-3\", \"9-4\"], \"y\": [0.0, 0.0, 0.0, 0.0, 0.0, 0.0], \"type\": \"scatter\", \"uid\": \"49a2faef-cb6f-11e8-97ef-509a4c0f1ffc\"}, {\"line\": {\"dash\": \"dash\"}, \"name\": \"\\u6682\\u505c\\u9879\\u76ee\\u6570(\\u5b8b\\u8fce\\u6960)\", \"x\": [\"8-3\", \"8-4\", \"9-1\", \"9-2\", \"9-3\", \"9-4\"], \"y\": [0.0, 0.0, 0.0, null, null, null], \"type\": \"scatter\", \"uid\": \"49a2faf0-cb6f-11e8-93b4-509a4c0f1ffc\"}, {\"line\": {\"dash\": \"longdash\"}, \"name\": \"\\u6682\\u505c\\u9879\\u76ee\\u6570(\\u4e8e\\u52c7\\u4e00)\", \"x\": [\"8-3\", \"8-4\", \"9-1\", \"9-2\", \"9-3\", \"9-4\"], \"y\": [0.0, 0.0, 0.0, 0.0, 0.0, 0.0], \"type\": \"scatter\", \"uid\": \"49a2faf1-cb6f-11e8-970e-509a4c0f1ffc\"}, {\"line\": {\"dash\": \"dashdot\"}, \"name\": \"\\u6682\\u505c\\u9879\\u76ee\\u6570(\\u5218\\u6167\\u73b2)\", \"x\": [\"8-3\", \"8-4\", \"9-1\", \"9-2\", \"9-3\", \"9-4\"], \"y\": [2.0, 2.0, 4.0, null, null, null], \"type\": \"scatter\", \"uid\": \"49a2faf2-cb6f-11e8-9c15-509a4c0f1ffc\"}, {\"line\": {\"dash\": \"longdashdot\"}, \"name\": \"\\u6682\\u505c\\u9879\\u76ee\\u6570(\\u8d75\\u73a5)\", \"x\": [\"8-3\", \"8-4\", \"9-1\", \"9-2\", \"9-3\", \"9-4\"], \"y\": [0.0, 0.0, 1.0, 1.0, 1.0, 0.0], \"type\": \"scatter\", \"uid\": \"49a2faf3-cb6f-11e8-a7df-509a4c0f1ffc\"}, {\"line\": {\"dash\": \"solid\"}, \"name\": \"\\u6682\\u505c\\u9879\\u76ee\\u6570(\\u5360\\u4f1f)\", \"x\": [\"8-3\", \"8-4\", \"9-1\", \"9-2\", \"9-3\", \"9-4\"], \"y\": [0.0, 0.0, 0.0, 0.0, 0.0, 0.0], \"type\": \"scatter\", \"uid\": \"49a2faf4-cb6f-11e8-88cb-509a4c0f1ffc\"}, {\"line\": {\"dash\": \"dot\"}, \"name\": \"\\u6682\\u505c\\u9879\\u76ee\\u6570(\\u5468\\u6768)\", \"x\": [\"8-3\", \"8-4\", \"9-1\", \"9-2\", \"9-3\", \"9-4\"], \"y\": [1.0, 1.0, 1.0, 1.0, 1.0, 1.0], \"type\": \"scatter\", \"uid\": \"49a2faf5-cb6f-11e8-90b9-509a4c0f1ffc\"}, {\"line\": {\"dash\": \"dash\"}, \"name\": \"\\u6682\\u505c\\u9879\\u76ee\\u6570(\\u8c22\\u5fb7\\u5065)\", \"x\": [\"8-3\", \"8-4\", \"9-1\", \"9-2\", \"9-3\", \"9-4\"], \"y\": [0.0, 0.0, null, 0.0, 0.0, 0.0], \"type\": \"scatter\", \"uid\": \"49a2faf6-cb6f-11e8-82d4-509a4c0f1ffc\"}, {\"line\": {\"dash\": \"longdash\"}, \"name\": \"\\u6682\\u505c\\u9879\\u76ee\\u6570(\\u8303\\u65ed\\u5b81)\", \"x\": [\"8-3\", \"8-4\", \"9-1\", \"9-2\", \"9-3\", \"9-4\"], \"y\": [0.0, 0.0, 0.0, 0.0, 0.0, 0.0], \"type\": \"scatter\", \"uid\": \"49a2faf7-cb6f-11e8-b9a1-509a4c0f1ffc\"}, {\"line\": {\"dash\": \"dashdot\"}, \"name\": \"\\u6682\\u505c\\u9879\\u76ee\\u6570(\\u5b5f\\u660a)\", \"x\": [\"8-3\", \"8-4\", \"9-1\", \"9-2\", \"9-3\", \"9-4\"], \"y\": [3.0, 3.0, 3.0, 3.0, 3.0, 3.0], \"type\": \"scatter\", \"uid\": \"49a2faf8-cb6f-11e8-8c85-509a4c0f1ffc\"}, {\"line\": {\"dash\": \"longdashdot\"}, \"name\": \"\\u6682\\u505c\\u9879\\u76ee\\u6570(\\u59da\\u76df\\u6210)\", \"x\": [\"8-3\", \"8-4\", \"9-1\", \"9-2\", \"9-3\", \"9-4\"], \"y\": [0.0, 0.0, 0.0, 0.0, 12.0, 12.0], \"type\": \"scatter\", \"uid\": \"49a2faf9-cb6f-11e8-8c16-509a4c0f1ffc\"}, {\"line\": {\"dash\": \"solid\"}, \"name\": \"\\u6682\\u505c\\u9879\\u76ee\\u6570(\\u5f20\\u5b88\\u4f1f)\", \"x\": [\"8-3\", \"8-4\", \"9-1\", \"9-2\", \"9-3\", \"9-4\"], \"y\": [0.0, 0.0, 0.0, 0.0, 0.0, 0.0], \"type\": \"scatter\", \"uid\": \"49a2fafa-cb6f-11e8-9511-509a4c0f1ffc\"}, {\"line\": {\"dash\": \"dot\"}, \"name\": \"\\u6682\\u505c\\u9879\\u76ee\\u6570(\\u97e9\\u5c11\\u6000)\", \"x\": [\"8-3\", \"8-4\", \"9-1\", \"9-2\", \"9-3\", \"9-4\"], \"y\": [0.0, 0.0, 0.0, 0.0, 0.0, null], \"type\": \"scatter\", \"uid\": \"49a2fafb-cb6f-11e8-a14d-509a4c0f1ffc\"}, {\"line\": {\"dash\": \"dash\"}, \"name\": \"\\u6682\\u505c\\u9879\\u76ee\\u6570(\\u674e\\u5e86\\u539f)\", \"x\": [\"8-3\", \"8-4\", \"9-1\", \"9-2\", \"9-3\", \"9-4\"], \"y\": [0.0, 0.0, 0.0, 0.0, 0.0, null], \"type\": \"scatter\", \"uid\": \"49a2fafc-cb6f-11e8-af59-509a4c0f1ffc\"}, {\"line\": {\"dash\": \"longdash\"}, \"name\": \"\\u6682\\u505c\\u9879\\u76ee\\u6570(\\u6bb5\\u5229\\u5f3a)\", \"x\": [\"8-3\", \"8-4\", \"9-1\", \"9-2\", \"9-3\", \"9-4\"], \"y\": [null, null, null, null, null, 0.0], \"type\": \"scatter\", \"uid\": \"49a2fafd-cb6f-11e8-9a39-509a4c0f1ffc\"}, {\"line\": {\"dash\": \"dashdot\"}, \"name\": \"\\u6682\\u505c\\u9879\\u76ee\\u6570(\\u8def\\u6167\\u840d)\", \"x\": [\"8-3\", \"8-4\", \"9-1\", \"9-2\", \"9-3\", \"9-4\"], \"y\": [0.0, 0.0, 0.0, 0.0, 2.0, null], \"type\": \"scatter\", \"uid\": \"49a2fafe-cb6f-11e8-90e8-509a4c0f1ffc\"}, {\"line\": {\"dash\": \"longdashdot\"}, \"name\": \"\\u6682\\u505c\\u9879\\u76ee\\u6570(\\u738b\\u5b81)\", \"x\": [\"8-3\", \"8-4\", \"9-1\", \"9-2\", \"9-3\", \"9-4\"], \"y\": [0.0, 0.0, 0.0, null, null, null], \"type\": \"scatter\", \"uid\": \"49a2faff-cb6f-11e8-bc0e-509a4c0f1ffc\"}, {\"line\": {\"dash\": \"solid\"}, \"name\": \"\\u5ef6\\u671f\\u9879\\u76ee\\u6570(\\u4e8e\\u6167)\", \"x\": [\"8-3\", \"8-4\", \"9-1\", \"9-2\", \"9-3\", \"9-4\"], \"y\": [0.0, 0.0, 0.0, 0.0, 0.0, 0.0], \"type\": \"scatter\", \"uid\": \"49a2fb00-cb6f-11e8-bc14-509a4c0f1ffc\"}, {\"line\": {\"dash\": \"dot\"}, \"name\": \"\\u5ef6\\u671f\\u9879\\u76ee\\u6570(\\u5c01\\u5f66\\u6770)\", \"x\": [\"8-3\", \"8-4\", \"9-1\", \"9-2\", \"9-3\", \"9-4\"], \"y\": [0.0, 0.0, 0.0, 0.0, 0.0, 1.0], \"type\": \"scatter\", \"uid\": \"49a2fb01-cb6f-11e8-8c07-509a4c0f1ffc\"}, {\"line\": {\"dash\": \"dash\"}, \"name\": \"\\u5ef6\\u671f\\u9879\\u76ee\\u6570(\\u5218\\u6c5f)\", \"x\": [\"8-3\", \"8-4\", \"9-1\", \"9-2\", \"9-3\", \"9-4\"], \"y\": [0.0, 0.0, 0.0, 0.0, 0.0, 0.0], \"type\": \"scatter\", \"uid\": \"49a2fb02-cb6f-11e8-a15f-509a4c0f1ffc\"}, {\"line\": {\"dash\": \"longdash\"}, \"name\": \"\\u5ef6\\u671f\\u9879\\u76ee\\u6570(\\u6768\\u4f1f\\u98de)\", \"x\": [\"8-3\", \"8-4\", \"9-1\", \"9-2\", \"9-3\", \"9-4\"], \"y\": [0.0, 0.0, 0.0, 0.0, 0.0, 0.0], \"type\": \"scatter\", \"uid\": \"49a2fb03-cb6f-11e8-bd53-509a4c0f1ffc\"}, {\"line\": {\"dash\": \"dashdot\"}, \"name\": \"\\u5ef6\\u671f\\u9879\\u76ee\\u6570(\\u82cf\\u5f66\\u52cb)\", \"x\": [\"8-3\", \"8-4\", \"9-1\", \"9-2\", \"9-3\", \"9-4\"], \"y\": [0.0, 0.0, 0.0, 0.0, 0.0, null], \"type\": \"scatter\", \"uid\": \"49a2fb04-cb6f-11e8-99a7-509a4c0f1ffc\"}, {\"line\": {\"dash\": \"longdashdot\"}, \"name\": \"\\u5ef6\\u671f\\u9879\\u76ee\\u6570(\\u674e\\u534e\\u4e91)\", \"x\": [\"8-3\", \"8-4\", \"9-1\", \"9-2\", \"9-3\", \"9-4\"], \"y\": [6.0, 6.0, 9.0, 9.0, 6.0, null], \"type\": \"scatter\", \"uid\": \"49a2fb05-cb6f-11e8-827b-509a4c0f1ffc\"}, {\"line\": {\"dash\": \"solid\"}, \"name\": \"\\u5ef6\\u671f\\u9879\\u76ee\\u6570(\\u4efb\\u96ea)\", \"x\": [\"8-3\", \"8-4\", \"9-1\", \"9-2\", \"9-3\", \"9-4\"], \"y\": [null, 3.0, 7.0, 7.0, 4.0, 8.0], \"type\": \"scatter\", \"uid\": \"49a2fb06-cb6f-11e8-98a9-509a4c0f1ffc\"}, {\"line\": {\"dash\": \"dot\"}, \"name\": \"\\u5ef6\\u671f\\u9879\\u76ee\\u6570(\\u9a6c\\u6f47)\", \"x\": [\"8-3\", \"8-4\", \"9-1\", \"9-2\", \"9-3\", \"9-4\"], \"y\": [1.0, 0.0, 0.0, 0.0, 0.0, 0.0], \"type\": \"scatter\", \"uid\": \"49a2fb07-cb6f-11e8-a98b-509a4c0f1ffc\"}, {\"line\": {\"dash\": \"dash\"}, \"name\": \"\\u5ef6\\u671f\\u9879\\u76ee\\u6570(\\u5b8b\\u8fce\\u6960)\", \"x\": [\"8-3\", \"8-4\", \"9-1\", \"9-2\", \"9-3\", \"9-4\"], \"y\": [1.0, 1.0, 6.0, null, null, null], \"type\": \"scatter\", \"uid\": \"49a2fb08-cb6f-11e8-95f8-509a4c0f1ffc\"}, {\"line\": {\"dash\": \"longdash\"}, \"name\": \"\\u5ef6\\u671f\\u9879\\u76ee\\u6570(\\u4e8e\\u52c7\\u4e00)\", \"x\": [\"8-3\", \"8-4\", \"9-1\", \"9-2\", \"9-3\", \"9-4\"], \"y\": [0.0, 0.0, 0.0, 0.0, 0.0, 0.0], \"type\": \"scatter\", \"uid\": \"49a2fb09-cb6f-11e8-8822-509a4c0f1ffc\"}, {\"line\": {\"dash\": \"dashdot\"}, \"name\": \"\\u5ef6\\u671f\\u9879\\u76ee\\u6570(\\u5218\\u6167\\u73b2)\", \"x\": [\"8-3\", \"8-4\", \"9-1\", \"9-2\", \"9-3\", \"9-4\"], \"y\": [0.0, 0.0, 0.0, null, null, null], \"type\": \"scatter\", \"uid\": \"49a2fb0a-cb6f-11e8-b88c-509a4c0f1ffc\"}, {\"line\": {\"dash\": \"longdashdot\"}, \"name\": \"\\u5ef6\\u671f\\u9879\\u76ee\\u6570(\\u8d75\\u73a5)\", \"x\": [\"8-3\", \"8-4\", \"9-1\", \"9-2\", \"9-3\", \"9-4\"], \"y\": [0.0, 0.0, 1.0, 1.0, 1.0, 0.0], \"type\": \"scatter\", \"uid\": \"49a2fb0b-cb6f-11e8-9b86-509a4c0f1ffc\"}, {\"line\": {\"dash\": \"solid\"}, \"name\": \"\\u5ef6\\u671f\\u9879\\u76ee\\u6570(\\u5360\\u4f1f)\", \"x\": [\"8-3\", \"8-4\", \"9-1\", \"9-2\", \"9-3\", \"9-4\"], \"y\": [3.0, 3.0, 3.0, 3.0, 3.0, 3.0], \"type\": \"scatter\", \"uid\": \"49a2fb0c-cb6f-11e8-beef-509a4c0f1ffc\"}, {\"line\": {\"dash\": \"dot\"}, \"name\": \"\\u5ef6\\u671f\\u9879\\u76ee\\u6570(\\u5468\\u6768)\", \"x\": [\"8-3\", \"8-4\", \"9-1\", \"9-2\", \"9-3\", \"9-4\"], \"y\": [0.0, 0.0, 0.0, 0.0, 0.0, 0.0], \"type\": \"scatter\", \"uid\": \"49a2fb0d-cb6f-11e8-bd57-509a4c0f1ffc\"}, {\"line\": {\"dash\": \"dash\"}, \"name\": \"\\u5ef6\\u671f\\u9879\\u76ee\\u6570(\\u8c22\\u5fb7\\u5065)\", \"x\": [\"8-3\", \"8-4\", \"9-1\", \"9-2\", \"9-3\", \"9-4\"], \"y\": [0.0, 0.0, null, 0.0, 0.0, 0.0], \"type\": \"scatter\", \"uid\": \"49a2fb0e-cb6f-11e8-9af7-509a4c0f1ffc\"}, {\"line\": {\"dash\": \"longdash\"}, \"name\": \"\\u5ef6\\u671f\\u9879\\u76ee\\u6570(\\u8303\\u65ed\\u5b81)\", \"x\": [\"8-3\", \"8-4\", \"9-1\", \"9-2\", \"9-3\", \"9-4\"], \"y\": [0.0, 0.0, 0.0, 0.0, 0.0, 4.0], \"type\": \"scatter\", \"uid\": \"49a2fb0f-cb6f-11e8-8fce-509a4c0f1ffc\"}, {\"line\": {\"dash\": \"dashdot\"}, \"name\": \"\\u5ef6\\u671f\\u9879\\u76ee\\u6570(\\u5b5f\\u660a)\", \"x\": [\"8-3\", \"8-4\", \"9-1\", \"9-2\", \"9-3\", \"9-4\"], \"y\": [0.0, 0.0, 0.0, 0.0, 0.0, 0.0], \"type\": \"scatter\", \"uid\": \"49a2fb10-cb6f-11e8-a6e7-509a4c0f1ffc\"}, {\"line\": {\"dash\": \"longdashdot\"}, \"name\": \"\\u5ef6\\u671f\\u9879\\u76ee\\u6570(\\u59da\\u76df\\u6210)\", \"x\": [\"8-3\", \"8-4\", \"9-1\", \"9-2\", \"9-3\", \"9-4\"], \"y\": [0.0, 0.0, 0.0, 0.0, 0.0, 0.0], \"type\": \"scatter\", \"uid\": \"49a2fb11-cb6f-11e8-bd80-509a4c0f1ffc\"}, {\"line\": {\"dash\": \"solid\"}, \"name\": \"\\u5ef6\\u671f\\u9879\\u76ee\\u6570(\\u5f20\\u5b88\\u4f1f)\", \"x\": [\"8-3\", \"8-4\", \"9-1\", \"9-2\", \"9-3\", \"9-4\"], \"y\": [0.0, 0.0, 0.0, 0.0, 0.0, 0.0], \"type\": \"scatter\", \"uid\": \"49a2fb12-cb6f-11e8-b8b1-509a4c0f1ffc\"}, {\"line\": {\"dash\": \"dot\"}, \"name\": \"\\u5ef6\\u671f\\u9879\\u76ee\\u6570(\\u97e9\\u5c11\\u6000)\", \"x\": [\"8-3\", \"8-4\", \"9-1\", \"9-2\", \"9-3\", \"9-4\"], \"y\": [0.0, 0.0, 0.0, 0.0, 0.0, null], \"type\": \"scatter\", \"uid\": \"49a2fb13-cb6f-11e8-b0f5-509a4c0f1ffc\"}, {\"line\": {\"dash\": \"dash\"}, \"name\": \"\\u5ef6\\u671f\\u9879\\u76ee\\u6570(\\u674e\\u5e86\\u539f)\", \"x\": [\"8-3\", \"8-4\", \"9-1\", \"9-2\", \"9-3\", \"9-4\"], \"y\": [0.0, 0.0, 0.0, 0.0, 0.0, null], \"type\": \"scatter\", \"uid\": \"49a2fb14-cb6f-11e8-b341-509a4c0f1ffc\"}, {\"line\": {\"dash\": \"longdash\"}, \"name\": \"\\u5ef6\\u671f\\u9879\\u76ee\\u6570(\\u6bb5\\u5229\\u5f3a)\", \"x\": [\"8-3\", \"8-4\", \"9-1\", \"9-2\", \"9-3\", \"9-4\"], \"y\": [null, null, null, null, null, 0.0], \"type\": \"scatter\", \"uid\": \"49a2fb15-cb6f-11e8-a3f3-509a4c0f1ffc\"}, {\"line\": {\"dash\": \"dashdot\"}, \"name\": \"\\u5ef6\\u671f\\u9879\\u76ee\\u6570(\\u8def\\u6167\\u840d)\", \"x\": [\"8-3\", \"8-4\", \"9-1\", \"9-2\", \"9-3\", \"9-4\"], \"y\": [0.0, 0.0, 0.0, 0.0, 0.0, null], \"type\": \"scatter\", \"uid\": \"49a2fb16-cb6f-11e8-813a-509a4c0f1ffc\"}, {\"line\": {\"dash\": \"longdashdot\"}, \"name\": \"\\u5ef6\\u671f\\u9879\\u76ee\\u6570(\\u738b\\u5b81)\", \"x\": [\"8-3\", \"8-4\", \"9-1\", \"9-2\", \"9-3\", \"9-4\"], \"y\": [0.0, 0.0, 0.0, null, null, null], \"type\": \"scatter\", \"uid\": \"49a2fb17-cb6f-11e8-bc4a-509a4c0f1ffc\"}],\n",
       "            {\"title\": \"\\u5982\\u671f\\u5b8c\\u6210\\u9879\\u76ee\\u6570&\\u5f00\\u53d1\\u4e2d\\u7684\\u9879\\u76ee\\u6570&\\u5ef6\\u671f\\u5b8c\\u6210&\\u5b63\\u5ea6\\u5f00\\u53d1\\u9879\\u76ee\\u6570&\\u6682\\u505c\\u9879\\u76ee\\u6570&\\u5ef6\\u671f\\u9879\\u76ee\\u6570\\u5468\\u8d8b\\u52bf\\u56fe\", \"xaxis\": {\"mirror\": \"all\", \"nticks\": 20, \"showgrid\": true, \"showline\": true, \"title\": \"\\u5468\", \"zeroline\": true}, \"yaxis\": {\"mirror\": \"all\", \"nticks\": 20, \"showgrid\": true, \"showline\": true, \"title\": \"\\u5982\\u671f\\u5b8c\\u6210\\u9879\\u76ee\\u6570&\\u5f00\\u53d1\\u4e2d\\u7684\\u9879\\u76ee\\u6570&\\u5ef6\\u671f\\u5b8c\\u6210&\\u5b63\\u5ea6\\u5f00\\u53d1\\u9879\\u76ee\\u6570&\\u6682\\u505c\\u9879\\u76ee\\u6570&\\u5ef6\\u671f\\u9879\\u76ee\\u6570\", \"zeroline\": true}},\n",
       "            {\"showLink\": true, \"linkText\": \"Export to plot.ly\"}\n",
       "        ).then(function () {return Plotly.addFrames('116b6a4f-f5c6-4124-8435-173f155c913b',{});}).then(function(){Plotly.animate('116b6a4f-f5c6-4124-8435-173f155c913b');})\n",
       "        });</script>"
      ]
     },
     "metadata": {},
     "output_type": "display_data"
    }
   ],
   "source": [
    "ss=myModule.format(all_dict ,\"日期\" ,['季度开发项目数', '如期完成项目数', '延期完成', '开发中的项目数', '延期项目数', '暂停项目数'])\n",
    "ss.add_group('负责人')\n",
    "tt = myModule.myPlot(ss.groupby('sum'))\n",
    "tt.plot('line')"
   ]
  },
  {
   "cell_type": "markdown",
   "metadata": {},
   "source": [
    "### 个人成长指数"
   ]
  },
  {
   "cell_type": "markdown",
   "metadata": {},
   "source": [
    "#### 电话会议次数、软著撰写完成数、专利撰写完成数、外出技术支持数、客户来访接待数和文章数"
   ]
  },
  {
   "cell_type": "code",
   "execution_count": 164,
   "metadata": {
    "collapsed": false
   },
   "outputs": [
    {
     "data": {
      "application/vnd.plotly.v1+json": {
       "data": [
        {
         "line": {
          "dash": "solid"
         },
         "name": "外出技术支持数(于慧)",
         "type": "scatter",
         "uid": "4a2f0e50-cb6f-11e8-8e79-509a4c0f1ffc",
         "x": [
          "8-3",
          "8-4",
          "9-1",
          "9-2",
          "9-3",
          "9-4"
         ],
         "y": [
          0,
          0,
          0,
          0,
          0,
          0
         ]
        },
        {
         "line": {
          "dash": "dot"
         },
         "name": "外出技术支持数(封彦杰)",
         "type": "scatter",
         "uid": "4a2f0e51-cb6f-11e8-ad44-509a4c0f1ffc",
         "x": [
          "8-3",
          "8-4",
          "9-1",
          "9-2",
          "9-3",
          "9-4"
         ],
         "y": [
          0,
          0,
          0,
          0,
          0,
          0
         ]
        },
        {
         "line": {
          "dash": "dash"
         },
         "name": "外出技术支持数(刘江)",
         "type": "scatter",
         "uid": "4a2f0e52-cb6f-11e8-b9c8-509a4c0f1ffc",
         "x": [
          "8-3",
          "8-4",
          "9-1",
          "9-2",
          "9-3",
          "9-4"
         ],
         "y": [
          0,
          0,
          0,
          0,
          0,
          0
         ]
        },
        {
         "line": {
          "dash": "longdash"
         },
         "name": "外出技术支持数(杨伟飞)",
         "type": "scatter",
         "uid": "4a2f0e53-cb6f-11e8-a947-509a4c0f1ffc",
         "x": [
          "8-3",
          "8-4",
          "9-1",
          "9-2",
          "9-3",
          "9-4"
         ],
         "y": [
          0,
          0,
          0,
          0,
          0,
          0
         ]
        },
        {
         "line": {
          "dash": "dashdot"
         },
         "name": "外出技术支持数(苏彦勋)",
         "type": "scatter",
         "uid": "4a2f0e54-cb6f-11e8-a12f-509a4c0f1ffc",
         "x": [
          "8-3",
          "8-4",
          "9-1",
          "9-2",
          "9-3",
          "9-4"
         ],
         "y": [
          0,
          0,
          0,
          0,
          0,
          null
         ]
        },
        {
         "line": {
          "dash": "longdashdot"
         },
         "name": "外出技术支持数(李华云)",
         "type": "scatter",
         "uid": "4a2f0e55-cb6f-11e8-9082-509a4c0f1ffc",
         "x": [
          "8-3",
          "8-4",
          "9-1",
          "9-2",
          "9-3",
          "9-4"
         ],
         "y": [
          0,
          0,
          0,
          0,
          0,
          null
         ]
        },
        {
         "line": {
          "dash": "solid"
         },
         "name": "外出技术支持数(任雪)",
         "type": "scatter",
         "uid": "4a2f0e56-cb6f-11e8-8737-509a4c0f1ffc",
         "x": [
          "8-3",
          "8-4",
          "9-1",
          "9-2",
          "9-3",
          "9-4"
         ],
         "y": [
          null,
          0,
          0,
          0,
          0,
          0
         ]
        },
        {
         "line": {
          "dash": "dot"
         },
         "name": "外出技术支持数(马潇)",
         "type": "scatter",
         "uid": "4a2f0e57-cb6f-11e8-a7a7-509a4c0f1ffc",
         "x": [
          "8-3",
          "8-4",
          "9-1",
          "9-2",
          "9-3",
          "9-4"
         ],
         "y": [
          0,
          0,
          0,
          0,
          0,
          0
         ]
        },
        {
         "line": {
          "dash": "dash"
         },
         "name": "外出技术支持数(宋迎楠)",
         "type": "scatter",
         "uid": "4a2f0e58-cb6f-11e8-b1f7-509a4c0f1ffc",
         "x": [
          "8-3",
          "8-4",
          "9-1",
          "9-2",
          "9-3",
          "9-4"
         ],
         "y": [
          0,
          0,
          0,
          null,
          null,
          null
         ]
        },
        {
         "line": {
          "dash": "longdash"
         },
         "name": "外出技术支持数(于勇一)",
         "type": "scatter",
         "uid": "4a2f0e59-cb6f-11e8-a6fd-509a4c0f1ffc",
         "x": [
          "8-3",
          "8-4",
          "9-1",
          "9-2",
          "9-3",
          "9-4"
         ],
         "y": [
          0,
          0,
          0,
          0,
          0,
          0
         ]
        },
        {
         "line": {
          "dash": "dashdot"
         },
         "name": "外出技术支持数(刘慧玲)",
         "type": "scatter",
         "uid": "4a2f0e5a-cb6f-11e8-94b6-509a4c0f1ffc",
         "x": [
          "8-3",
          "8-4",
          "9-1",
          "9-2",
          "9-3",
          "9-4"
         ],
         "y": [
          0,
          0,
          0,
          null,
          null,
          null
         ]
        },
        {
         "line": {
          "dash": "longdashdot"
         },
         "name": "外出技术支持数(赵玥)",
         "type": "scatter",
         "uid": "4a2f0e5b-cb6f-11e8-9238-509a4c0f1ffc",
         "x": [
          "8-3",
          "8-4",
          "9-1",
          "9-2",
          "9-3",
          "9-4"
         ],
         "y": [
          0,
          0,
          0,
          0,
          0,
          0
         ]
        },
        {
         "line": {
          "dash": "solid"
         },
         "name": "外出技术支持数(占伟)",
         "type": "scatter",
         "uid": "4a2f0e5c-cb6f-11e8-b1f4-509a4c0f1ffc",
         "x": [
          "8-3",
          "8-4",
          "9-1",
          "9-2",
          "9-3",
          "9-4"
         ],
         "y": [
          0,
          0,
          0,
          0,
          0,
          0
         ]
        },
        {
         "line": {
          "dash": "dot"
         },
         "name": "外出技术支持数(周杨)",
         "type": "scatter",
         "uid": "4a2f0e5d-cb6f-11e8-906a-509a4c0f1ffc",
         "x": [
          "8-3",
          "8-4",
          "9-1",
          "9-2",
          "9-3",
          "9-4"
         ],
         "y": [
          0,
          0,
          0,
          0,
          0,
          0
         ]
        },
        {
         "line": {
          "dash": "dash"
         },
         "name": "外出技术支持数(谢德健)",
         "type": "scatter",
         "uid": "4a2f0e5e-cb6f-11e8-981c-509a4c0f1ffc",
         "x": [
          "8-3",
          "8-4",
          "9-1",
          "9-2",
          "9-3",
          "9-4"
         ],
         "y": [
          0,
          0,
          null,
          0,
          0,
          0
         ]
        },
        {
         "line": {
          "dash": "longdash"
         },
         "name": "外出技术支持数(范旭宁)",
         "type": "scatter",
         "uid": "4a2f0e5f-cb6f-11e8-b4f8-509a4c0f1ffc",
         "x": [
          "8-3",
          "8-4",
          "9-1",
          "9-2",
          "9-3",
          "9-4"
         ],
         "y": [
          0,
          0,
          0,
          0,
          0,
          0
         ]
        },
        {
         "line": {
          "dash": "dashdot"
         },
         "name": "外出技术支持数(孟昊)",
         "type": "scatter",
         "uid": "4a2f0e60-cb6f-11e8-8fc4-509a4c0f1ffc",
         "x": [
          "8-3",
          "8-4",
          "9-1",
          "9-2",
          "9-3",
          "9-4"
         ],
         "y": [
          0,
          0,
          0,
          0,
          0,
          0
         ]
        },
        {
         "line": {
          "dash": "longdashdot"
         },
         "name": "外出技术支持数(姚盟成)",
         "type": "scatter",
         "uid": "4a2f0e61-cb6f-11e8-9154-509a4c0f1ffc",
         "x": [
          "8-3",
          "8-4",
          "9-1",
          "9-2",
          "9-3",
          "9-4"
         ],
         "y": [
          0,
          0,
          0,
          0,
          0,
          0
         ]
        },
        {
         "line": {
          "dash": "solid"
         },
         "name": "外出技术支持数(张守伟)",
         "type": "scatter",
         "uid": "4a2f0e62-cb6f-11e8-a264-509a4c0f1ffc",
         "x": [
          "8-3",
          "8-4",
          "9-1",
          "9-2",
          "9-3",
          "9-4"
         ],
         "y": [
          0,
          0,
          0,
          0,
          0,
          0
         ]
        },
        {
         "line": {
          "dash": "dot"
         },
         "name": "外出技术支持数(韩少怀)",
         "type": "scatter",
         "uid": "4a2f0e63-cb6f-11e8-9ced-509a4c0f1ffc",
         "x": [
          "8-3",
          "8-4",
          "9-1",
          "9-2",
          "9-3",
          "9-4"
         ],
         "y": [
          0,
          0,
          0,
          0,
          0,
          null
         ]
        },
        {
         "line": {
          "dash": "dash"
         },
         "name": "外出技术支持数(李庆原)",
         "type": "scatter",
         "uid": "4a2f0e64-cb6f-11e8-8bb1-509a4c0f1ffc",
         "x": [
          "8-3",
          "8-4",
          "9-1",
          "9-2",
          "9-3",
          "9-4"
         ],
         "y": [
          0,
          0,
          0,
          0,
          0,
          null
         ]
        },
        {
         "line": {
          "dash": "longdash"
         },
         "name": "外出技术支持数(段利强)",
         "type": "scatter",
         "uid": "4a2f0e65-cb6f-11e8-8073-509a4c0f1ffc",
         "x": [
          "8-3",
          "8-4",
          "9-1",
          "9-2",
          "9-3",
          "9-4"
         ],
         "y": [
          null,
          null,
          null,
          null,
          null,
          0
         ]
        },
        {
         "line": {
          "dash": "dashdot"
         },
         "name": "外出技术支持数(路慧萍)",
         "type": "scatter",
         "uid": "4a2f0e66-cb6f-11e8-8da0-509a4c0f1ffc",
         "x": [
          "8-3",
          "8-4",
          "9-1",
          "9-2",
          "9-3",
          "9-4"
         ],
         "y": [
          0,
          0,
          0,
          0,
          0,
          null
         ]
        },
        {
         "line": {
          "dash": "longdashdot"
         },
         "name": "外出技术支持数(王宁)",
         "type": "scatter",
         "uid": "4a2f0e67-cb6f-11e8-8f82-509a4c0f1ffc",
         "x": [
          "8-3",
          "8-4",
          "9-1",
          "9-2",
          "9-3",
          "9-4"
         ],
         "y": [
          0,
          0,
          0,
          null,
          null,
          null
         ]
        },
        {
         "line": {
          "dash": "solid"
         },
         "name": "电话会议次数(于慧)",
         "type": "scatter",
         "uid": "4a2f0e68-cb6f-11e8-8a2a-509a4c0f1ffc",
         "x": [
          "8-3",
          "8-4",
          "9-1",
          "9-2",
          "9-3",
          "9-4"
         ],
         "y": [
          0,
          0,
          0,
          0,
          0,
          0
         ]
        },
        {
         "line": {
          "dash": "dot"
         },
         "name": "电话会议次数(封彦杰)",
         "type": "scatter",
         "uid": "4a2f0e69-cb6f-11e8-8646-509a4c0f1ffc",
         "x": [
          "8-3",
          "8-4",
          "9-1",
          "9-2",
          "9-3",
          "9-4"
         ],
         "y": [
          0,
          0,
          0,
          1,
          1,
          0
         ]
        },
        {
         "line": {
          "dash": "dash"
         },
         "name": "电话会议次数(刘江)",
         "type": "scatter",
         "uid": "4a2f0e6a-cb6f-11e8-b101-509a4c0f1ffc",
         "x": [
          "8-3",
          "8-4",
          "9-1",
          "9-2",
          "9-3",
          "9-4"
         ],
         "y": [
          1,
          1,
          1,
          1,
          1,
          0
         ]
        },
        {
         "line": {
          "dash": "longdash"
         },
         "name": "电话会议次数(杨伟飞)",
         "type": "scatter",
         "uid": "4a2f0e6b-cb6f-11e8-bb03-509a4c0f1ffc",
         "x": [
          "8-3",
          "8-4",
          "9-1",
          "9-2",
          "9-3",
          "9-4"
         ],
         "y": [
          0,
          0,
          1,
          1,
          2,
          1
         ]
        },
        {
         "line": {
          "dash": "dashdot"
         },
         "name": "电话会议次数(苏彦勋)",
         "type": "scatter",
         "uid": "4a2f0e6c-cb6f-11e8-8b57-509a4c0f1ffc",
         "x": [
          "8-3",
          "8-4",
          "9-1",
          "9-2",
          "9-3",
          "9-4"
         ],
         "y": [
          0,
          0,
          0,
          0,
          0,
          null
         ]
        },
        {
         "line": {
          "dash": "longdashdot"
         },
         "name": "电话会议次数(李华云)",
         "type": "scatter",
         "uid": "4a2f0e6d-cb6f-11e8-8d8b-509a4c0f1ffc",
         "x": [
          "8-3",
          "8-4",
          "9-1",
          "9-2",
          "9-3",
          "9-4"
         ],
         "y": [
          0,
          0,
          0,
          0,
          1,
          null
         ]
        },
        {
         "line": {
          "dash": "solid"
         },
         "name": "电话会议次数(任雪)",
         "type": "scatter",
         "uid": "4a2f0e6e-cb6f-11e8-acb0-509a4c0f1ffc",
         "x": [
          "8-3",
          "8-4",
          "9-1",
          "9-2",
          "9-3",
          "9-4"
         ],
         "y": [
          null,
          0,
          0,
          0,
          0,
          0
         ]
        },
        {
         "line": {
          "dash": "dot"
         },
         "name": "电话会议次数(马潇)",
         "type": "scatter",
         "uid": "4a2f0e6f-cb6f-11e8-8e79-509a4c0f1ffc",
         "x": [
          "8-3",
          "8-4",
          "9-1",
          "9-2",
          "9-3",
          "9-4"
         ],
         "y": [
          0,
          0,
          0,
          0,
          0,
          0
         ]
        },
        {
         "line": {
          "dash": "dash"
         },
         "name": "电话会议次数(宋迎楠)",
         "type": "scatter",
         "uid": "4a2f0e70-cb6f-11e8-99ca-509a4c0f1ffc",
         "x": [
          "8-3",
          "8-4",
          "9-1",
          "9-2",
          "9-3",
          "9-4"
         ],
         "y": [
          0,
          0,
          0,
          null,
          null,
          null
         ]
        },
        {
         "line": {
          "dash": "longdash"
         },
         "name": "电话会议次数(于勇一)",
         "type": "scatter",
         "uid": "4a2f0e71-cb6f-11e8-bbb2-509a4c0f1ffc",
         "x": [
          "8-3",
          "8-4",
          "9-1",
          "9-2",
          "9-3",
          "9-4"
         ],
         "y": [
          0,
          0,
          0,
          0,
          0,
          0
         ]
        },
        {
         "line": {
          "dash": "dashdot"
         },
         "name": "电话会议次数(刘慧玲)",
         "type": "scatter",
         "uid": "4a2f0e72-cb6f-11e8-b9d5-509a4c0f1ffc",
         "x": [
          "8-3",
          "8-4",
          "9-1",
          "9-2",
          "9-3",
          "9-4"
         ],
         "y": [
          0,
          0,
          0,
          null,
          null,
          null
         ]
        },
        {
         "line": {
          "dash": "longdashdot"
         },
         "name": "电话会议次数(赵玥)",
         "type": "scatter",
         "uid": "4a2f0e73-cb6f-11e8-bade-509a4c0f1ffc",
         "x": [
          "8-3",
          "8-4",
          "9-1",
          "9-2",
          "9-3",
          "9-4"
         ],
         "y": [
          2,
          0,
          0,
          2,
          0,
          0
         ]
        },
        {
         "line": {
          "dash": "solid"
         },
         "name": "电话会议次数(占伟)",
         "type": "scatter",
         "uid": "4a2f0e74-cb6f-11e8-b799-509a4c0f1ffc",
         "x": [
          "8-3",
          "8-4",
          "9-1",
          "9-2",
          "9-3",
          "9-4"
         ],
         "y": [
          0,
          1,
          2,
          1,
          2,
          1
         ]
        },
        {
         "line": {
          "dash": "dot"
         },
         "name": "电话会议次数(周杨)",
         "type": "scatter",
         "uid": "4a2f0e75-cb6f-11e8-bd2a-509a4c0f1ffc",
         "x": [
          "8-3",
          "8-4",
          "9-1",
          "9-2",
          "9-3",
          "9-4"
         ],
         "y": [
          1,
          0,
          0,
          0,
          0,
          0
         ]
        },
        {
         "line": {
          "dash": "dash"
         },
         "name": "电话会议次数(谢德健)",
         "type": "scatter",
         "uid": "4a2f0e76-cb6f-11e8-bb4b-509a4c0f1ffc",
         "x": [
          "8-3",
          "8-4",
          "9-1",
          "9-2",
          "9-3",
          "9-4"
         ],
         "y": [
          2,
          1,
          null,
          1,
          1,
          0
         ]
        },
        {
         "line": {
          "dash": "longdash"
         },
         "name": "电话会议次数(范旭宁)",
         "type": "scatter",
         "uid": "4a2f0e77-cb6f-11e8-b8c9-509a4c0f1ffc",
         "x": [
          "8-3",
          "8-4",
          "9-1",
          "9-2",
          "9-3",
          "9-4"
         ],
         "y": [
          0,
          0,
          0,
          0,
          0,
          0
         ]
        },
        {
         "line": {
          "dash": "dashdot"
         },
         "name": "电话会议次数(孟昊)",
         "type": "scatter",
         "uid": "4a2f0e78-cb6f-11e8-b43a-509a4c0f1ffc",
         "x": [
          "8-3",
          "8-4",
          "9-1",
          "9-2",
          "9-3",
          "9-4"
         ],
         "y": [
          0,
          0,
          0,
          0,
          0,
          0
         ]
        },
        {
         "line": {
          "dash": "longdashdot"
         },
         "name": "电话会议次数(姚盟成)",
         "type": "scatter",
         "uid": "4a2f0e79-cb6f-11e8-83fa-509a4c0f1ffc",
         "x": [
          "8-3",
          "8-4",
          "9-1",
          "9-2",
          "9-3",
          "9-4"
         ],
         "y": [
          0,
          1,
          1,
          0,
          1,
          0
         ]
        },
        {
         "line": {
          "dash": "solid"
         },
         "name": "电话会议次数(张守伟)",
         "type": "scatter",
         "uid": "4a2f0e7a-cb6f-11e8-88ca-509a4c0f1ffc",
         "x": [
          "8-3",
          "8-4",
          "9-1",
          "9-2",
          "9-3",
          "9-4"
         ],
         "y": [
          0,
          0,
          0,
          0,
          0,
          0
         ]
        },
        {
         "line": {
          "dash": "dot"
         },
         "name": "电话会议次数(韩少怀)",
         "type": "scatter",
         "uid": "4a2f0e7b-cb6f-11e8-9290-509a4c0f1ffc",
         "x": [
          "8-3",
          "8-4",
          "9-1",
          "9-2",
          "9-3",
          "9-4"
         ],
         "y": [
          0,
          0,
          0,
          0,
          0,
          null
         ]
        },
        {
         "line": {
          "dash": "dash"
         },
         "name": "电话会议次数(李庆原)",
         "type": "scatter",
         "uid": "4a2f0e7c-cb6f-11e8-9dd5-509a4c0f1ffc",
         "x": [
          "8-3",
          "8-4",
          "9-1",
          "9-2",
          "9-3",
          "9-4"
         ],
         "y": [
          2,
          0,
          0,
          1,
          1,
          null
         ]
        },
        {
         "line": {
          "dash": "longdash"
         },
         "name": "电话会议次数(段利强)",
         "type": "scatter",
         "uid": "4a2f0e7d-cb6f-11e8-9476-509a4c0f1ffc",
         "x": [
          "8-3",
          "8-4",
          "9-1",
          "9-2",
          "9-3",
          "9-4"
         ],
         "y": [
          null,
          null,
          null,
          null,
          null,
          1
         ]
        },
        {
         "line": {
          "dash": "dashdot"
         },
         "name": "电话会议次数(路慧萍)",
         "type": "scatter",
         "uid": "4a2f0e7e-cb6f-11e8-af53-509a4c0f1ffc",
         "x": [
          "8-3",
          "8-4",
          "9-1",
          "9-2",
          "9-3",
          "9-4"
         ],
         "y": [
          1,
          0,
          0,
          0,
          0,
          null
         ]
        },
        {
         "line": {
          "dash": "longdashdot"
         },
         "name": "电话会议次数(王宁)",
         "type": "scatter",
         "uid": "4a2f0e7f-cb6f-11e8-86c1-509a4c0f1ffc",
         "x": [
          "8-3",
          "8-4",
          "9-1",
          "9-2",
          "9-3",
          "9-4"
         ],
         "y": [
          0,
          1,
          0,
          null,
          null,
          null
         ]
        },
        {
         "line": {
          "dash": "solid"
         },
         "name": "客户来访接待数(于慧)",
         "type": "scatter",
         "uid": "4a2f0e80-cb6f-11e8-89a3-509a4c0f1ffc",
         "x": [
          "8-3",
          "8-4",
          "9-1",
          "9-2",
          "9-3",
          "9-4"
         ],
         "y": [
          0,
          0,
          0,
          0,
          0,
          0
         ]
        },
        {
         "line": {
          "dash": "dot"
         },
         "name": "客户来访接待数(封彦杰)",
         "type": "scatter",
         "uid": "4a2f0e81-cb6f-11e8-ba50-509a4c0f1ffc",
         "x": [
          "8-3",
          "8-4",
          "9-1",
          "9-2",
          "9-3",
          "9-4"
         ],
         "y": [
          0,
          0,
          0,
          0,
          0,
          0
         ]
        },
        {
         "line": {
          "dash": "dash"
         },
         "name": "客户来访接待数(刘江)",
         "type": "scatter",
         "uid": "4a2f355e-cb6f-11e8-923c-509a4c0f1ffc",
         "x": [
          "8-3",
          "8-4",
          "9-1",
          "9-2",
          "9-3",
          "9-4"
         ],
         "y": [
          1,
          0,
          0,
          0,
          0,
          1
         ]
        },
        {
         "line": {
          "dash": "longdash"
         },
         "name": "客户来访接待数(杨伟飞)",
         "type": "scatter",
         "uid": "4a2f355f-cb6f-11e8-9d12-509a4c0f1ffc",
         "x": [
          "8-3",
          "8-4",
          "9-1",
          "9-2",
          "9-3",
          "9-4"
         ],
         "y": [
          0,
          0,
          0,
          0,
          0,
          0
         ]
        },
        {
         "line": {
          "dash": "dashdot"
         },
         "name": "客户来访接待数(苏彦勋)",
         "type": "scatter",
         "uid": "4a2f3560-cb6f-11e8-8f0c-509a4c0f1ffc",
         "x": [
          "8-3",
          "8-4",
          "9-1",
          "9-2",
          "9-3",
          "9-4"
         ],
         "y": [
          0,
          0,
          0,
          0,
          0,
          null
         ]
        },
        {
         "line": {
          "dash": "longdashdot"
         },
         "name": "客户来访接待数(李华云)",
         "type": "scatter",
         "uid": "4a2f3561-cb6f-11e8-a284-509a4c0f1ffc",
         "x": [
          "8-3",
          "8-4",
          "9-1",
          "9-2",
          "9-3",
          "9-4"
         ],
         "y": [
          0,
          0,
          0,
          0,
          0,
          null
         ]
        },
        {
         "line": {
          "dash": "solid"
         },
         "name": "客户来访接待数(任雪)",
         "type": "scatter",
         "uid": "4a2f3562-cb6f-11e8-b33b-509a4c0f1ffc",
         "x": [
          "8-3",
          "8-4",
          "9-1",
          "9-2",
          "9-3",
          "9-4"
         ],
         "y": [
          null,
          0,
          0,
          0,
          1,
          0
         ]
        },
        {
         "line": {
          "dash": "dot"
         },
         "name": "客户来访接待数(马潇)",
         "type": "scatter",
         "uid": "4a2f3563-cb6f-11e8-8426-509a4c0f1ffc",
         "x": [
          "8-3",
          "8-4",
          "9-1",
          "9-2",
          "9-3",
          "9-4"
         ],
         "y": [
          0,
          0,
          0,
          0,
          0,
          0
         ]
        },
        {
         "line": {
          "dash": "dash"
         },
         "name": "客户来访接待数(宋迎楠)",
         "type": "scatter",
         "uid": "4a2f3564-cb6f-11e8-876f-509a4c0f1ffc",
         "x": [
          "8-3",
          "8-4",
          "9-1",
          "9-2",
          "9-3",
          "9-4"
         ],
         "y": [
          0,
          0,
          0,
          null,
          null,
          null
         ]
        },
        {
         "line": {
          "dash": "longdash"
         },
         "name": "客户来访接待数(于勇一)",
         "type": "scatter",
         "uid": "4a2f3565-cb6f-11e8-96a1-509a4c0f1ffc",
         "x": [
          "8-3",
          "8-4",
          "9-1",
          "9-2",
          "9-3",
          "9-4"
         ],
         "y": [
          0,
          0,
          0,
          0,
          0,
          0
         ]
        },
        {
         "line": {
          "dash": "dashdot"
         },
         "name": "客户来访接待数(刘慧玲)",
         "type": "scatter",
         "uid": "4a2f3566-cb6f-11e8-8a0e-509a4c0f1ffc",
         "x": [
          "8-3",
          "8-4",
          "9-1",
          "9-2",
          "9-3",
          "9-4"
         ],
         "y": [
          0,
          0,
          0,
          null,
          null,
          null
         ]
        },
        {
         "line": {
          "dash": "longdashdot"
         },
         "name": "客户来访接待数(赵玥)",
         "type": "scatter",
         "uid": "4a2f3567-cb6f-11e8-a73c-509a4c0f1ffc",
         "x": [
          "8-3",
          "8-4",
          "9-1",
          "9-2",
          "9-3",
          "9-4"
         ],
         "y": [
          0,
          0,
          0,
          0,
          0,
          1
         ]
        },
        {
         "line": {
          "dash": "solid"
         },
         "name": "客户来访接待数(占伟)",
         "type": "scatter",
         "uid": "4a2f3568-cb6f-11e8-a6fe-509a4c0f1ffc",
         "x": [
          "8-3",
          "8-4",
          "9-1",
          "9-2",
          "9-3",
          "9-4"
         ],
         "y": [
          0,
          0,
          0,
          0,
          0,
          1
         ]
        },
        {
         "line": {
          "dash": "dot"
         },
         "name": "客户来访接待数(周杨)",
         "type": "scatter",
         "uid": "4a2f3569-cb6f-11e8-b6a6-509a4c0f1ffc",
         "x": [
          "8-3",
          "8-4",
          "9-1",
          "9-2",
          "9-3",
          "9-4"
         ],
         "y": [
          0,
          0,
          0,
          0,
          0,
          0
         ]
        },
        {
         "line": {
          "dash": "dash"
         },
         "name": "客户来访接待数(谢德健)",
         "type": "scatter",
         "uid": "4a2f356a-cb6f-11e8-9d6b-509a4c0f1ffc",
         "x": [
          "8-3",
          "8-4",
          "9-1",
          "9-2",
          "9-3",
          "9-4"
         ],
         "y": [
          0,
          0,
          null,
          0,
          0,
          3
         ]
        },
        {
         "line": {
          "dash": "longdash"
         },
         "name": "客户来访接待数(范旭宁)",
         "type": "scatter",
         "uid": "4a2f356b-cb6f-11e8-a9c6-509a4c0f1ffc",
         "x": [
          "8-3",
          "8-4",
          "9-1",
          "9-2",
          "9-3",
          "9-4"
         ],
         "y": [
          0,
          0,
          0,
          0,
          0,
          4
         ]
        },
        {
         "line": {
          "dash": "dashdot"
         },
         "name": "客户来访接待数(孟昊)",
         "type": "scatter",
         "uid": "4a2f356c-cb6f-11e8-82a2-509a4c0f1ffc",
         "x": [
          "8-3",
          "8-4",
          "9-1",
          "9-2",
          "9-3",
          "9-4"
         ],
         "y": [
          0,
          0,
          0,
          0,
          0,
          0
         ]
        },
        {
         "line": {
          "dash": "longdashdot"
         },
         "name": "客户来访接待数(姚盟成)",
         "type": "scatter",
         "uid": "4a2f356d-cb6f-11e8-9fdc-509a4c0f1ffc",
         "x": [
          "8-3",
          "8-4",
          "9-1",
          "9-2",
          "9-3",
          "9-4"
         ],
         "y": [
          0,
          0,
          0,
          0,
          0,
          0
         ]
        },
        {
         "line": {
          "dash": "solid"
         },
         "name": "客户来访接待数(张守伟)",
         "type": "scatter",
         "uid": "4a2f356e-cb6f-11e8-97fd-509a4c0f1ffc",
         "x": [
          "8-3",
          "8-4",
          "9-1",
          "9-2",
          "9-3",
          "9-4"
         ],
         "y": [
          0,
          0,
          0,
          0,
          0,
          0
         ]
        },
        {
         "line": {
          "dash": "dot"
         },
         "name": "客户来访接待数(韩少怀)",
         "type": "scatter",
         "uid": "4a2f356f-cb6f-11e8-85f6-509a4c0f1ffc",
         "x": [
          "8-3",
          "8-4",
          "9-1",
          "9-2",
          "9-3",
          "9-4"
         ],
         "y": [
          0,
          0,
          0,
          0,
          0,
          null
         ]
        },
        {
         "line": {
          "dash": "dash"
         },
         "name": "客户来访接待数(李庆原)",
         "type": "scatter",
         "uid": "4a2f3570-cb6f-11e8-89fa-509a4c0f1ffc",
         "x": [
          "8-3",
          "8-4",
          "9-1",
          "9-2",
          "9-3",
          "9-4"
         ],
         "y": [
          1,
          0,
          0,
          0,
          0,
          null
         ]
        },
        {
         "line": {
          "dash": "longdash"
         },
         "name": "客户来访接待数(段利强)",
         "type": "scatter",
         "uid": "4a2f3571-cb6f-11e8-b5b8-509a4c0f1ffc",
         "x": [
          "8-3",
          "8-4",
          "9-1",
          "9-2",
          "9-3",
          "9-4"
         ],
         "y": [
          null,
          null,
          null,
          null,
          null,
          0
         ]
        },
        {
         "line": {
          "dash": "dashdot"
         },
         "name": "客户来访接待数(路慧萍)",
         "type": "scatter",
         "uid": "4a2f3572-cb6f-11e8-91ba-509a4c0f1ffc",
         "x": [
          "8-3",
          "8-4",
          "9-1",
          "9-2",
          "9-3",
          "9-4"
         ],
         "y": [
          1,
          0,
          0,
          0,
          0,
          null
         ]
        },
        {
         "line": {
          "dash": "longdashdot"
         },
         "name": "客户来访接待数(王宁)",
         "type": "scatter",
         "uid": "4a2f3573-cb6f-11e8-a118-509a4c0f1ffc",
         "x": [
          "8-3",
          "8-4",
          "9-1",
          "9-2",
          "9-3",
          "9-4"
         ],
         "y": [
          0,
          0,
          0,
          null,
          null,
          null
         ]
        }
       ],
       "layout": {
        "title": "外出技术支持数&电话会议次数&客户来访接待数周趋势图",
        "xaxis": {
         "mirror": "all",
         "nticks": 20,
         "showgrid": true,
         "showline": true,
         "title": "周",
         "zeroline": true
        },
        "yaxis": {
         "mirror": "all",
         "nticks": 20,
         "showgrid": true,
         "showline": true,
         "title": "外出技术支持数&电话会议次数&客户来访接待数",
         "zeroline": true
        }
       }
      },
      "text/html": [
       "<div id=\"2f4c3e64-802b-4b86-913a-c81935791826\" style=\"height: 525px; width: 100%;\" class=\"plotly-graph-div\"></div><script type=\"text/javascript\">require([\"plotly\"], function(Plotly) { window.PLOTLYENV=window.PLOTLYENV || {};window.PLOTLYENV.BASE_URL=\"https://plot.ly\";\n",
       "        Plotly.plot(\n",
       "            '2f4c3e64-802b-4b86-913a-c81935791826',\n",
       "            [{\"line\": {\"dash\": \"solid\"}, \"name\": \"\\u5916\\u51fa\\u6280\\u672f\\u652f\\u6301\\u6570(\\u4e8e\\u6167)\", \"x\": [\"8-3\", \"8-4\", \"9-1\", \"9-2\", \"9-3\", \"9-4\"], \"y\": [0.0, 0.0, 0.0, 0.0, 0.0, 0.0], \"type\": \"scatter\", \"uid\": \"4a2f0e50-cb6f-11e8-8e79-509a4c0f1ffc\"}, {\"line\": {\"dash\": \"dot\"}, \"name\": \"\\u5916\\u51fa\\u6280\\u672f\\u652f\\u6301\\u6570(\\u5c01\\u5f66\\u6770)\", \"x\": [\"8-3\", \"8-4\", \"9-1\", \"9-2\", \"9-3\", \"9-4\"], \"y\": [0.0, 0.0, 0.0, 0.0, 0.0, 0.0], \"type\": \"scatter\", \"uid\": \"4a2f0e51-cb6f-11e8-ad44-509a4c0f1ffc\"}, {\"line\": {\"dash\": \"dash\"}, \"name\": \"\\u5916\\u51fa\\u6280\\u672f\\u652f\\u6301\\u6570(\\u5218\\u6c5f)\", \"x\": [\"8-3\", \"8-4\", \"9-1\", \"9-2\", \"9-3\", \"9-4\"], \"y\": [0.0, 0.0, 0.0, 0.0, 0.0, 0.0], \"type\": \"scatter\", \"uid\": \"4a2f0e52-cb6f-11e8-b9c8-509a4c0f1ffc\"}, {\"line\": {\"dash\": \"longdash\"}, \"name\": \"\\u5916\\u51fa\\u6280\\u672f\\u652f\\u6301\\u6570(\\u6768\\u4f1f\\u98de)\", \"x\": [\"8-3\", \"8-4\", \"9-1\", \"9-2\", \"9-3\", \"9-4\"], \"y\": [0.0, 0.0, 0.0, 0.0, 0.0, 0.0], \"type\": \"scatter\", \"uid\": \"4a2f0e53-cb6f-11e8-a947-509a4c0f1ffc\"}, {\"line\": {\"dash\": \"dashdot\"}, \"name\": \"\\u5916\\u51fa\\u6280\\u672f\\u652f\\u6301\\u6570(\\u82cf\\u5f66\\u52cb)\", \"x\": [\"8-3\", \"8-4\", \"9-1\", \"9-2\", \"9-3\", \"9-4\"], \"y\": [0.0, 0.0, 0.0, 0.0, 0.0, null], \"type\": \"scatter\", \"uid\": \"4a2f0e54-cb6f-11e8-a12f-509a4c0f1ffc\"}, {\"line\": {\"dash\": \"longdashdot\"}, \"name\": \"\\u5916\\u51fa\\u6280\\u672f\\u652f\\u6301\\u6570(\\u674e\\u534e\\u4e91)\", \"x\": [\"8-3\", \"8-4\", \"9-1\", \"9-2\", \"9-3\", \"9-4\"], \"y\": [0.0, 0.0, 0.0, 0.0, 0.0, null], \"type\": \"scatter\", \"uid\": \"4a2f0e55-cb6f-11e8-9082-509a4c0f1ffc\"}, {\"line\": {\"dash\": \"solid\"}, \"name\": \"\\u5916\\u51fa\\u6280\\u672f\\u652f\\u6301\\u6570(\\u4efb\\u96ea)\", \"x\": [\"8-3\", \"8-4\", \"9-1\", \"9-2\", \"9-3\", \"9-4\"], \"y\": [null, 0.0, 0.0, 0.0, 0.0, 0.0], \"type\": \"scatter\", \"uid\": \"4a2f0e56-cb6f-11e8-8737-509a4c0f1ffc\"}, {\"line\": {\"dash\": \"dot\"}, \"name\": \"\\u5916\\u51fa\\u6280\\u672f\\u652f\\u6301\\u6570(\\u9a6c\\u6f47)\", \"x\": [\"8-3\", \"8-4\", \"9-1\", \"9-2\", \"9-3\", \"9-4\"], \"y\": [0.0, 0.0, 0.0, 0.0, 0.0, 0.0], \"type\": \"scatter\", \"uid\": \"4a2f0e57-cb6f-11e8-a7a7-509a4c0f1ffc\"}, {\"line\": {\"dash\": \"dash\"}, \"name\": \"\\u5916\\u51fa\\u6280\\u672f\\u652f\\u6301\\u6570(\\u5b8b\\u8fce\\u6960)\", \"x\": [\"8-3\", \"8-4\", \"9-1\", \"9-2\", \"9-3\", \"9-4\"], \"y\": [0.0, 0.0, 0.0, null, null, null], \"type\": \"scatter\", \"uid\": \"4a2f0e58-cb6f-11e8-b1f7-509a4c0f1ffc\"}, {\"line\": {\"dash\": \"longdash\"}, \"name\": \"\\u5916\\u51fa\\u6280\\u672f\\u652f\\u6301\\u6570(\\u4e8e\\u52c7\\u4e00)\", \"x\": [\"8-3\", \"8-4\", \"9-1\", \"9-2\", \"9-3\", \"9-4\"], \"y\": [0.0, 0.0, 0.0, 0.0, 0.0, 0.0], \"type\": \"scatter\", \"uid\": \"4a2f0e59-cb6f-11e8-a6fd-509a4c0f1ffc\"}, {\"line\": {\"dash\": \"dashdot\"}, \"name\": \"\\u5916\\u51fa\\u6280\\u672f\\u652f\\u6301\\u6570(\\u5218\\u6167\\u73b2)\", \"x\": [\"8-3\", \"8-4\", \"9-1\", \"9-2\", \"9-3\", \"9-4\"], \"y\": [0.0, 0.0, 0.0, null, null, null], \"type\": \"scatter\", \"uid\": \"4a2f0e5a-cb6f-11e8-94b6-509a4c0f1ffc\"}, {\"line\": {\"dash\": \"longdashdot\"}, \"name\": \"\\u5916\\u51fa\\u6280\\u672f\\u652f\\u6301\\u6570(\\u8d75\\u73a5)\", \"x\": [\"8-3\", \"8-4\", \"9-1\", \"9-2\", \"9-3\", \"9-4\"], \"y\": [0.0, 0.0, 0.0, 0.0, 0.0, 0.0], \"type\": \"scatter\", \"uid\": \"4a2f0e5b-cb6f-11e8-9238-509a4c0f1ffc\"}, {\"line\": {\"dash\": \"solid\"}, \"name\": \"\\u5916\\u51fa\\u6280\\u672f\\u652f\\u6301\\u6570(\\u5360\\u4f1f)\", \"x\": [\"8-3\", \"8-4\", \"9-1\", \"9-2\", \"9-3\", \"9-4\"], \"y\": [0.0, 0.0, 0.0, 0.0, 0.0, 0.0], \"type\": \"scatter\", \"uid\": \"4a2f0e5c-cb6f-11e8-b1f4-509a4c0f1ffc\"}, {\"line\": {\"dash\": \"dot\"}, \"name\": \"\\u5916\\u51fa\\u6280\\u672f\\u652f\\u6301\\u6570(\\u5468\\u6768)\", \"x\": [\"8-3\", \"8-4\", \"9-1\", \"9-2\", \"9-3\", \"9-4\"], \"y\": [0.0, 0.0, 0.0, 0.0, 0.0, 0.0], \"type\": \"scatter\", \"uid\": \"4a2f0e5d-cb6f-11e8-906a-509a4c0f1ffc\"}, {\"line\": {\"dash\": \"dash\"}, \"name\": \"\\u5916\\u51fa\\u6280\\u672f\\u652f\\u6301\\u6570(\\u8c22\\u5fb7\\u5065)\", \"x\": [\"8-3\", \"8-4\", \"9-1\", \"9-2\", \"9-3\", \"9-4\"], \"y\": [0.0, 0.0, null, 0.0, 0.0, 0.0], \"type\": \"scatter\", \"uid\": \"4a2f0e5e-cb6f-11e8-981c-509a4c0f1ffc\"}, {\"line\": {\"dash\": \"longdash\"}, \"name\": \"\\u5916\\u51fa\\u6280\\u672f\\u652f\\u6301\\u6570(\\u8303\\u65ed\\u5b81)\", \"x\": [\"8-3\", \"8-4\", \"9-1\", \"9-2\", \"9-3\", \"9-4\"], \"y\": [0.0, 0.0, 0.0, 0.0, 0.0, 0.0], \"type\": \"scatter\", \"uid\": \"4a2f0e5f-cb6f-11e8-b4f8-509a4c0f1ffc\"}, {\"line\": {\"dash\": \"dashdot\"}, \"name\": \"\\u5916\\u51fa\\u6280\\u672f\\u652f\\u6301\\u6570(\\u5b5f\\u660a)\", \"x\": [\"8-3\", \"8-4\", \"9-1\", \"9-2\", \"9-3\", \"9-4\"], \"y\": [0.0, 0.0, 0.0, 0.0, 0.0, 0.0], \"type\": \"scatter\", \"uid\": \"4a2f0e60-cb6f-11e8-8fc4-509a4c0f1ffc\"}, {\"line\": {\"dash\": \"longdashdot\"}, \"name\": \"\\u5916\\u51fa\\u6280\\u672f\\u652f\\u6301\\u6570(\\u59da\\u76df\\u6210)\", \"x\": [\"8-3\", \"8-4\", \"9-1\", \"9-2\", \"9-3\", \"9-4\"], \"y\": [0.0, 0.0, 0.0, 0.0, 0.0, 0.0], \"type\": \"scatter\", \"uid\": \"4a2f0e61-cb6f-11e8-9154-509a4c0f1ffc\"}, {\"line\": {\"dash\": \"solid\"}, \"name\": \"\\u5916\\u51fa\\u6280\\u672f\\u652f\\u6301\\u6570(\\u5f20\\u5b88\\u4f1f)\", \"x\": [\"8-3\", \"8-4\", \"9-1\", \"9-2\", \"9-3\", \"9-4\"], \"y\": [0.0, 0.0, 0.0, 0.0, 0.0, 0.0], \"type\": \"scatter\", \"uid\": \"4a2f0e62-cb6f-11e8-a264-509a4c0f1ffc\"}, {\"line\": {\"dash\": \"dot\"}, \"name\": \"\\u5916\\u51fa\\u6280\\u672f\\u652f\\u6301\\u6570(\\u97e9\\u5c11\\u6000)\", \"x\": [\"8-3\", \"8-4\", \"9-1\", \"9-2\", \"9-3\", \"9-4\"], \"y\": [0.0, 0.0, 0.0, 0.0, 0.0, null], \"type\": \"scatter\", \"uid\": \"4a2f0e63-cb6f-11e8-9ced-509a4c0f1ffc\"}, {\"line\": {\"dash\": \"dash\"}, \"name\": \"\\u5916\\u51fa\\u6280\\u672f\\u652f\\u6301\\u6570(\\u674e\\u5e86\\u539f)\", \"x\": [\"8-3\", \"8-4\", \"9-1\", \"9-2\", \"9-3\", \"9-4\"], \"y\": [0.0, 0.0, 0.0, 0.0, 0.0, null], \"type\": \"scatter\", \"uid\": \"4a2f0e64-cb6f-11e8-8bb1-509a4c0f1ffc\"}, {\"line\": {\"dash\": \"longdash\"}, \"name\": \"\\u5916\\u51fa\\u6280\\u672f\\u652f\\u6301\\u6570(\\u6bb5\\u5229\\u5f3a)\", \"x\": [\"8-3\", \"8-4\", \"9-1\", \"9-2\", \"9-3\", \"9-4\"], \"y\": [null, null, null, null, null, 0.0], \"type\": \"scatter\", \"uid\": \"4a2f0e65-cb6f-11e8-8073-509a4c0f1ffc\"}, {\"line\": {\"dash\": \"dashdot\"}, \"name\": \"\\u5916\\u51fa\\u6280\\u672f\\u652f\\u6301\\u6570(\\u8def\\u6167\\u840d)\", \"x\": [\"8-3\", \"8-4\", \"9-1\", \"9-2\", \"9-3\", \"9-4\"], \"y\": [0.0, 0.0, 0.0, 0.0, 0.0, null], \"type\": \"scatter\", \"uid\": \"4a2f0e66-cb6f-11e8-8da0-509a4c0f1ffc\"}, {\"line\": {\"dash\": \"longdashdot\"}, \"name\": \"\\u5916\\u51fa\\u6280\\u672f\\u652f\\u6301\\u6570(\\u738b\\u5b81)\", \"x\": [\"8-3\", \"8-4\", \"9-1\", \"9-2\", \"9-3\", \"9-4\"], \"y\": [0.0, 0.0, 0.0, null, null, null], \"type\": \"scatter\", \"uid\": \"4a2f0e67-cb6f-11e8-8f82-509a4c0f1ffc\"}, {\"line\": {\"dash\": \"solid\"}, \"name\": \"\\u7535\\u8bdd\\u4f1a\\u8bae\\u6b21\\u6570(\\u4e8e\\u6167)\", \"x\": [\"8-3\", \"8-4\", \"9-1\", \"9-2\", \"9-3\", \"9-4\"], \"y\": [0.0, 0.0, 0.0, 0.0, 0.0, 0.0], \"type\": \"scatter\", \"uid\": \"4a2f0e68-cb6f-11e8-8a2a-509a4c0f1ffc\"}, {\"line\": {\"dash\": \"dot\"}, \"name\": \"\\u7535\\u8bdd\\u4f1a\\u8bae\\u6b21\\u6570(\\u5c01\\u5f66\\u6770)\", \"x\": [\"8-3\", \"8-4\", \"9-1\", \"9-2\", \"9-3\", \"9-4\"], \"y\": [0.0, 0.0, 0.0, 1.0, 1.0, 0.0], \"type\": \"scatter\", \"uid\": \"4a2f0e69-cb6f-11e8-8646-509a4c0f1ffc\"}, {\"line\": {\"dash\": \"dash\"}, \"name\": \"\\u7535\\u8bdd\\u4f1a\\u8bae\\u6b21\\u6570(\\u5218\\u6c5f)\", \"x\": [\"8-3\", \"8-4\", \"9-1\", \"9-2\", \"9-3\", \"9-4\"], \"y\": [1.0, 1.0, 1.0, 1.0, 1.0, 0.0], \"type\": \"scatter\", \"uid\": \"4a2f0e6a-cb6f-11e8-b101-509a4c0f1ffc\"}, {\"line\": {\"dash\": \"longdash\"}, \"name\": \"\\u7535\\u8bdd\\u4f1a\\u8bae\\u6b21\\u6570(\\u6768\\u4f1f\\u98de)\", \"x\": [\"8-3\", \"8-4\", \"9-1\", \"9-2\", \"9-3\", \"9-4\"], \"y\": [0.0, 0.0, 1.0, 1.0, 2.0, 1.0], \"type\": \"scatter\", \"uid\": \"4a2f0e6b-cb6f-11e8-bb03-509a4c0f1ffc\"}, {\"line\": {\"dash\": \"dashdot\"}, \"name\": \"\\u7535\\u8bdd\\u4f1a\\u8bae\\u6b21\\u6570(\\u82cf\\u5f66\\u52cb)\", \"x\": [\"8-3\", \"8-4\", \"9-1\", \"9-2\", \"9-3\", \"9-4\"], \"y\": [0.0, 0.0, 0.0, 0.0, 0.0, null], \"type\": \"scatter\", \"uid\": \"4a2f0e6c-cb6f-11e8-8b57-509a4c0f1ffc\"}, {\"line\": {\"dash\": \"longdashdot\"}, \"name\": \"\\u7535\\u8bdd\\u4f1a\\u8bae\\u6b21\\u6570(\\u674e\\u534e\\u4e91)\", \"x\": [\"8-3\", \"8-4\", \"9-1\", \"9-2\", \"9-3\", \"9-4\"], \"y\": [0.0, 0.0, 0.0, 0.0, 1.0, null], \"type\": \"scatter\", \"uid\": \"4a2f0e6d-cb6f-11e8-8d8b-509a4c0f1ffc\"}, {\"line\": {\"dash\": \"solid\"}, \"name\": \"\\u7535\\u8bdd\\u4f1a\\u8bae\\u6b21\\u6570(\\u4efb\\u96ea)\", \"x\": [\"8-3\", \"8-4\", \"9-1\", \"9-2\", \"9-3\", \"9-4\"], \"y\": [null, 0.0, 0.0, 0.0, 0.0, 0.0], \"type\": \"scatter\", \"uid\": \"4a2f0e6e-cb6f-11e8-acb0-509a4c0f1ffc\"}, {\"line\": {\"dash\": \"dot\"}, \"name\": \"\\u7535\\u8bdd\\u4f1a\\u8bae\\u6b21\\u6570(\\u9a6c\\u6f47)\", \"x\": [\"8-3\", \"8-4\", \"9-1\", \"9-2\", \"9-3\", \"9-4\"], \"y\": [0.0, 0.0, 0.0, 0.0, 0.0, 0.0], \"type\": \"scatter\", \"uid\": \"4a2f0e6f-cb6f-11e8-8e79-509a4c0f1ffc\"}, {\"line\": {\"dash\": \"dash\"}, \"name\": \"\\u7535\\u8bdd\\u4f1a\\u8bae\\u6b21\\u6570(\\u5b8b\\u8fce\\u6960)\", \"x\": [\"8-3\", \"8-4\", \"9-1\", \"9-2\", \"9-3\", \"9-4\"], \"y\": [0.0, 0.0, 0.0, null, null, null], \"type\": \"scatter\", \"uid\": \"4a2f0e70-cb6f-11e8-99ca-509a4c0f1ffc\"}, {\"line\": {\"dash\": \"longdash\"}, \"name\": \"\\u7535\\u8bdd\\u4f1a\\u8bae\\u6b21\\u6570(\\u4e8e\\u52c7\\u4e00)\", \"x\": [\"8-3\", \"8-4\", \"9-1\", \"9-2\", \"9-3\", \"9-4\"], \"y\": [0.0, 0.0, 0.0, 0.0, 0.0, 0.0], \"type\": \"scatter\", \"uid\": \"4a2f0e71-cb6f-11e8-bbb2-509a4c0f1ffc\"}, {\"line\": {\"dash\": \"dashdot\"}, \"name\": \"\\u7535\\u8bdd\\u4f1a\\u8bae\\u6b21\\u6570(\\u5218\\u6167\\u73b2)\", \"x\": [\"8-3\", \"8-4\", \"9-1\", \"9-2\", \"9-3\", \"9-4\"], \"y\": [0.0, 0.0, 0.0, null, null, null], \"type\": \"scatter\", \"uid\": \"4a2f0e72-cb6f-11e8-b9d5-509a4c0f1ffc\"}, {\"line\": {\"dash\": \"longdashdot\"}, \"name\": \"\\u7535\\u8bdd\\u4f1a\\u8bae\\u6b21\\u6570(\\u8d75\\u73a5)\", \"x\": [\"8-3\", \"8-4\", \"9-1\", \"9-2\", \"9-3\", \"9-4\"], \"y\": [2.0, 0.0, 0.0, 2.0, 0.0, 0.0], \"type\": \"scatter\", \"uid\": \"4a2f0e73-cb6f-11e8-bade-509a4c0f1ffc\"}, {\"line\": {\"dash\": \"solid\"}, \"name\": \"\\u7535\\u8bdd\\u4f1a\\u8bae\\u6b21\\u6570(\\u5360\\u4f1f)\", \"x\": [\"8-3\", \"8-4\", \"9-1\", \"9-2\", \"9-3\", \"9-4\"], \"y\": [0.0, 1.0, 2.0, 1.0, 2.0, 1.0], \"type\": \"scatter\", \"uid\": \"4a2f0e74-cb6f-11e8-b799-509a4c0f1ffc\"}, {\"line\": {\"dash\": \"dot\"}, \"name\": \"\\u7535\\u8bdd\\u4f1a\\u8bae\\u6b21\\u6570(\\u5468\\u6768)\", \"x\": [\"8-3\", \"8-4\", \"9-1\", \"9-2\", \"9-3\", \"9-4\"], \"y\": [1.0, 0.0, 0.0, 0.0, 0.0, 0.0], \"type\": \"scatter\", \"uid\": \"4a2f0e75-cb6f-11e8-bd2a-509a4c0f1ffc\"}, {\"line\": {\"dash\": \"dash\"}, \"name\": \"\\u7535\\u8bdd\\u4f1a\\u8bae\\u6b21\\u6570(\\u8c22\\u5fb7\\u5065)\", \"x\": [\"8-3\", \"8-4\", \"9-1\", \"9-2\", \"9-3\", \"9-4\"], \"y\": [2.0, 1.0, null, 1.0, 1.0, 0.0], \"type\": \"scatter\", \"uid\": \"4a2f0e76-cb6f-11e8-bb4b-509a4c0f1ffc\"}, {\"line\": {\"dash\": \"longdash\"}, \"name\": \"\\u7535\\u8bdd\\u4f1a\\u8bae\\u6b21\\u6570(\\u8303\\u65ed\\u5b81)\", \"x\": [\"8-3\", \"8-4\", \"9-1\", \"9-2\", \"9-3\", \"9-4\"], \"y\": [0.0, 0.0, 0.0, 0.0, 0.0, 0.0], \"type\": \"scatter\", \"uid\": \"4a2f0e77-cb6f-11e8-b8c9-509a4c0f1ffc\"}, {\"line\": {\"dash\": \"dashdot\"}, \"name\": \"\\u7535\\u8bdd\\u4f1a\\u8bae\\u6b21\\u6570(\\u5b5f\\u660a)\", \"x\": [\"8-3\", \"8-4\", \"9-1\", \"9-2\", \"9-3\", \"9-4\"], \"y\": [0.0, 0.0, 0.0, 0.0, 0.0, 0.0], \"type\": \"scatter\", \"uid\": \"4a2f0e78-cb6f-11e8-b43a-509a4c0f1ffc\"}, {\"line\": {\"dash\": \"longdashdot\"}, \"name\": \"\\u7535\\u8bdd\\u4f1a\\u8bae\\u6b21\\u6570(\\u59da\\u76df\\u6210)\", \"x\": [\"8-3\", \"8-4\", \"9-1\", \"9-2\", \"9-3\", \"9-4\"], \"y\": [0.0, 1.0, 1.0, 0.0, 1.0, 0.0], \"type\": \"scatter\", \"uid\": \"4a2f0e79-cb6f-11e8-83fa-509a4c0f1ffc\"}, {\"line\": {\"dash\": \"solid\"}, \"name\": \"\\u7535\\u8bdd\\u4f1a\\u8bae\\u6b21\\u6570(\\u5f20\\u5b88\\u4f1f)\", \"x\": [\"8-3\", \"8-4\", \"9-1\", \"9-2\", \"9-3\", \"9-4\"], \"y\": [0.0, 0.0, 0.0, 0.0, 0.0, 0.0], \"type\": \"scatter\", \"uid\": \"4a2f0e7a-cb6f-11e8-88ca-509a4c0f1ffc\"}, {\"line\": {\"dash\": \"dot\"}, \"name\": \"\\u7535\\u8bdd\\u4f1a\\u8bae\\u6b21\\u6570(\\u97e9\\u5c11\\u6000)\", \"x\": [\"8-3\", \"8-4\", \"9-1\", \"9-2\", \"9-3\", \"9-4\"], \"y\": [0.0, 0.0, 0.0, 0.0, 0.0, null], \"type\": \"scatter\", \"uid\": \"4a2f0e7b-cb6f-11e8-9290-509a4c0f1ffc\"}, {\"line\": {\"dash\": \"dash\"}, \"name\": \"\\u7535\\u8bdd\\u4f1a\\u8bae\\u6b21\\u6570(\\u674e\\u5e86\\u539f)\", \"x\": [\"8-3\", \"8-4\", \"9-1\", \"9-2\", \"9-3\", \"9-4\"], \"y\": [2.0, 0.0, 0.0, 1.0, 1.0, null], \"type\": \"scatter\", \"uid\": \"4a2f0e7c-cb6f-11e8-9dd5-509a4c0f1ffc\"}, {\"line\": {\"dash\": \"longdash\"}, \"name\": \"\\u7535\\u8bdd\\u4f1a\\u8bae\\u6b21\\u6570(\\u6bb5\\u5229\\u5f3a)\", \"x\": [\"8-3\", \"8-4\", \"9-1\", \"9-2\", \"9-3\", \"9-4\"], \"y\": [null, null, null, null, null, 1.0], \"type\": \"scatter\", \"uid\": \"4a2f0e7d-cb6f-11e8-9476-509a4c0f1ffc\"}, {\"line\": {\"dash\": \"dashdot\"}, \"name\": \"\\u7535\\u8bdd\\u4f1a\\u8bae\\u6b21\\u6570(\\u8def\\u6167\\u840d)\", \"x\": [\"8-3\", \"8-4\", \"9-1\", \"9-2\", \"9-3\", \"9-4\"], \"y\": [1.0, 0.0, 0.0, 0.0, 0.0, null], \"type\": \"scatter\", \"uid\": \"4a2f0e7e-cb6f-11e8-af53-509a4c0f1ffc\"}, {\"line\": {\"dash\": \"longdashdot\"}, \"name\": \"\\u7535\\u8bdd\\u4f1a\\u8bae\\u6b21\\u6570(\\u738b\\u5b81)\", \"x\": [\"8-3\", \"8-4\", \"9-1\", \"9-2\", \"9-3\", \"9-4\"], \"y\": [0.0, 1.0, 0.0, null, null, null], \"type\": \"scatter\", \"uid\": \"4a2f0e7f-cb6f-11e8-86c1-509a4c0f1ffc\"}, {\"line\": {\"dash\": \"solid\"}, \"name\": \"\\u5ba2\\u6237\\u6765\\u8bbf\\u63a5\\u5f85\\u6570(\\u4e8e\\u6167)\", \"x\": [\"8-3\", \"8-4\", \"9-1\", \"9-2\", \"9-3\", \"9-4\"], \"y\": [0.0, 0.0, 0.0, 0.0, 0.0, 0.0], \"type\": \"scatter\", \"uid\": \"4a2f0e80-cb6f-11e8-89a3-509a4c0f1ffc\"}, {\"line\": {\"dash\": \"dot\"}, \"name\": \"\\u5ba2\\u6237\\u6765\\u8bbf\\u63a5\\u5f85\\u6570(\\u5c01\\u5f66\\u6770)\", \"x\": [\"8-3\", \"8-4\", \"9-1\", \"9-2\", \"9-3\", \"9-4\"], \"y\": [0.0, 0.0, 0.0, 0.0, 0.0, 0.0], \"type\": \"scatter\", \"uid\": \"4a2f0e81-cb6f-11e8-ba50-509a4c0f1ffc\"}, {\"line\": {\"dash\": \"dash\"}, \"name\": \"\\u5ba2\\u6237\\u6765\\u8bbf\\u63a5\\u5f85\\u6570(\\u5218\\u6c5f)\", \"x\": [\"8-3\", \"8-4\", \"9-1\", \"9-2\", \"9-3\", \"9-4\"], \"y\": [1.0, 0.0, 0.0, 0.0, 0.0, 1.0], \"type\": \"scatter\", \"uid\": \"4a2f355e-cb6f-11e8-923c-509a4c0f1ffc\"}, {\"line\": {\"dash\": \"longdash\"}, \"name\": \"\\u5ba2\\u6237\\u6765\\u8bbf\\u63a5\\u5f85\\u6570(\\u6768\\u4f1f\\u98de)\", \"x\": [\"8-3\", \"8-4\", \"9-1\", \"9-2\", \"9-3\", \"9-4\"], \"y\": [0.0, 0.0, 0.0, 0.0, 0.0, 0.0], \"type\": \"scatter\", \"uid\": \"4a2f355f-cb6f-11e8-9d12-509a4c0f1ffc\"}, {\"line\": {\"dash\": \"dashdot\"}, \"name\": \"\\u5ba2\\u6237\\u6765\\u8bbf\\u63a5\\u5f85\\u6570(\\u82cf\\u5f66\\u52cb)\", \"x\": [\"8-3\", \"8-4\", \"9-1\", \"9-2\", \"9-3\", \"9-4\"], \"y\": [0.0, 0.0, 0.0, 0.0, 0.0, null], \"type\": \"scatter\", \"uid\": \"4a2f3560-cb6f-11e8-8f0c-509a4c0f1ffc\"}, {\"line\": {\"dash\": \"longdashdot\"}, \"name\": \"\\u5ba2\\u6237\\u6765\\u8bbf\\u63a5\\u5f85\\u6570(\\u674e\\u534e\\u4e91)\", \"x\": [\"8-3\", \"8-4\", \"9-1\", \"9-2\", \"9-3\", \"9-4\"], \"y\": [0.0, 0.0, 0.0, 0.0, 0.0, null], \"type\": \"scatter\", \"uid\": \"4a2f3561-cb6f-11e8-a284-509a4c0f1ffc\"}, {\"line\": {\"dash\": \"solid\"}, \"name\": \"\\u5ba2\\u6237\\u6765\\u8bbf\\u63a5\\u5f85\\u6570(\\u4efb\\u96ea)\", \"x\": [\"8-3\", \"8-4\", \"9-1\", \"9-2\", \"9-3\", \"9-4\"], \"y\": [null, 0.0, 0.0, 0.0, 1.0, 0.0], \"type\": \"scatter\", \"uid\": \"4a2f3562-cb6f-11e8-b33b-509a4c0f1ffc\"}, {\"line\": {\"dash\": \"dot\"}, \"name\": \"\\u5ba2\\u6237\\u6765\\u8bbf\\u63a5\\u5f85\\u6570(\\u9a6c\\u6f47)\", \"x\": [\"8-3\", \"8-4\", \"9-1\", \"9-2\", \"9-3\", \"9-4\"], \"y\": [0.0, 0.0, 0.0, 0.0, 0.0, 0.0], \"type\": \"scatter\", \"uid\": \"4a2f3563-cb6f-11e8-8426-509a4c0f1ffc\"}, {\"line\": {\"dash\": \"dash\"}, \"name\": \"\\u5ba2\\u6237\\u6765\\u8bbf\\u63a5\\u5f85\\u6570(\\u5b8b\\u8fce\\u6960)\", \"x\": [\"8-3\", \"8-4\", \"9-1\", \"9-2\", \"9-3\", \"9-4\"], \"y\": [0.0, 0.0, 0.0, null, null, null], \"type\": \"scatter\", \"uid\": \"4a2f3564-cb6f-11e8-876f-509a4c0f1ffc\"}, {\"line\": {\"dash\": \"longdash\"}, \"name\": \"\\u5ba2\\u6237\\u6765\\u8bbf\\u63a5\\u5f85\\u6570(\\u4e8e\\u52c7\\u4e00)\", \"x\": [\"8-3\", \"8-4\", \"9-1\", \"9-2\", \"9-3\", \"9-4\"], \"y\": [0.0, 0.0, 0.0, 0.0, 0.0, 0.0], \"type\": \"scatter\", \"uid\": \"4a2f3565-cb6f-11e8-96a1-509a4c0f1ffc\"}, {\"line\": {\"dash\": \"dashdot\"}, \"name\": \"\\u5ba2\\u6237\\u6765\\u8bbf\\u63a5\\u5f85\\u6570(\\u5218\\u6167\\u73b2)\", \"x\": [\"8-3\", \"8-4\", \"9-1\", \"9-2\", \"9-3\", \"9-4\"], \"y\": [0.0, 0.0, 0.0, null, null, null], \"type\": \"scatter\", \"uid\": \"4a2f3566-cb6f-11e8-8a0e-509a4c0f1ffc\"}, {\"line\": {\"dash\": \"longdashdot\"}, \"name\": \"\\u5ba2\\u6237\\u6765\\u8bbf\\u63a5\\u5f85\\u6570(\\u8d75\\u73a5)\", \"x\": [\"8-3\", \"8-4\", \"9-1\", \"9-2\", \"9-3\", \"9-4\"], \"y\": [0.0, 0.0, 0.0, 0.0, 0.0, 1.0], \"type\": \"scatter\", \"uid\": \"4a2f3567-cb6f-11e8-a73c-509a4c0f1ffc\"}, {\"line\": {\"dash\": \"solid\"}, \"name\": \"\\u5ba2\\u6237\\u6765\\u8bbf\\u63a5\\u5f85\\u6570(\\u5360\\u4f1f)\", \"x\": [\"8-3\", \"8-4\", \"9-1\", \"9-2\", \"9-3\", \"9-4\"], \"y\": [0.0, 0.0, 0.0, 0.0, 0.0, 1.0], \"type\": \"scatter\", \"uid\": \"4a2f3568-cb6f-11e8-a6fe-509a4c0f1ffc\"}, {\"line\": {\"dash\": \"dot\"}, \"name\": \"\\u5ba2\\u6237\\u6765\\u8bbf\\u63a5\\u5f85\\u6570(\\u5468\\u6768)\", \"x\": [\"8-3\", \"8-4\", \"9-1\", \"9-2\", \"9-3\", \"9-4\"], \"y\": [0.0, 0.0, 0.0, 0.0, 0.0, 0.0], \"type\": \"scatter\", \"uid\": \"4a2f3569-cb6f-11e8-b6a6-509a4c0f1ffc\"}, {\"line\": {\"dash\": \"dash\"}, \"name\": \"\\u5ba2\\u6237\\u6765\\u8bbf\\u63a5\\u5f85\\u6570(\\u8c22\\u5fb7\\u5065)\", \"x\": [\"8-3\", \"8-4\", \"9-1\", \"9-2\", \"9-3\", \"9-4\"], \"y\": [0.0, 0.0, null, 0.0, 0.0, 3.0], \"type\": \"scatter\", \"uid\": \"4a2f356a-cb6f-11e8-9d6b-509a4c0f1ffc\"}, {\"line\": {\"dash\": \"longdash\"}, \"name\": \"\\u5ba2\\u6237\\u6765\\u8bbf\\u63a5\\u5f85\\u6570(\\u8303\\u65ed\\u5b81)\", \"x\": [\"8-3\", \"8-4\", \"9-1\", \"9-2\", \"9-3\", \"9-4\"], \"y\": [0.0, 0.0, 0.0, 0.0, 0.0, 4.0], \"type\": \"scatter\", \"uid\": \"4a2f356b-cb6f-11e8-a9c6-509a4c0f1ffc\"}, {\"line\": {\"dash\": \"dashdot\"}, \"name\": \"\\u5ba2\\u6237\\u6765\\u8bbf\\u63a5\\u5f85\\u6570(\\u5b5f\\u660a)\", \"x\": [\"8-3\", \"8-4\", \"9-1\", \"9-2\", \"9-3\", \"9-4\"], \"y\": [0.0, 0.0, 0.0, 0.0, 0.0, 0.0], \"type\": \"scatter\", \"uid\": \"4a2f356c-cb6f-11e8-82a2-509a4c0f1ffc\"}, {\"line\": {\"dash\": \"longdashdot\"}, \"name\": \"\\u5ba2\\u6237\\u6765\\u8bbf\\u63a5\\u5f85\\u6570(\\u59da\\u76df\\u6210)\", \"x\": [\"8-3\", \"8-4\", \"9-1\", \"9-2\", \"9-3\", \"9-4\"], \"y\": [0.0, 0.0, 0.0, 0.0, 0.0, 0.0], \"type\": \"scatter\", \"uid\": \"4a2f356d-cb6f-11e8-9fdc-509a4c0f1ffc\"}, {\"line\": {\"dash\": \"solid\"}, \"name\": \"\\u5ba2\\u6237\\u6765\\u8bbf\\u63a5\\u5f85\\u6570(\\u5f20\\u5b88\\u4f1f)\", \"x\": [\"8-3\", \"8-4\", \"9-1\", \"9-2\", \"9-3\", \"9-4\"], \"y\": [0.0, 0.0, 0.0, 0.0, 0.0, 0.0], \"type\": \"scatter\", \"uid\": \"4a2f356e-cb6f-11e8-97fd-509a4c0f1ffc\"}, {\"line\": {\"dash\": \"dot\"}, \"name\": \"\\u5ba2\\u6237\\u6765\\u8bbf\\u63a5\\u5f85\\u6570(\\u97e9\\u5c11\\u6000)\", \"x\": [\"8-3\", \"8-4\", \"9-1\", \"9-2\", \"9-3\", \"9-4\"], \"y\": [0.0, 0.0, 0.0, 0.0, 0.0, null], \"type\": \"scatter\", \"uid\": \"4a2f356f-cb6f-11e8-85f6-509a4c0f1ffc\"}, {\"line\": {\"dash\": \"dash\"}, \"name\": \"\\u5ba2\\u6237\\u6765\\u8bbf\\u63a5\\u5f85\\u6570(\\u674e\\u5e86\\u539f)\", \"x\": [\"8-3\", \"8-4\", \"9-1\", \"9-2\", \"9-3\", \"9-4\"], \"y\": [1.0, 0.0, 0.0, 0.0, 0.0, null], \"type\": \"scatter\", \"uid\": \"4a2f3570-cb6f-11e8-89fa-509a4c0f1ffc\"}, {\"line\": {\"dash\": \"longdash\"}, \"name\": \"\\u5ba2\\u6237\\u6765\\u8bbf\\u63a5\\u5f85\\u6570(\\u6bb5\\u5229\\u5f3a)\", \"x\": [\"8-3\", \"8-4\", \"9-1\", \"9-2\", \"9-3\", \"9-4\"], \"y\": [null, null, null, null, null, 0.0], \"type\": \"scatter\", \"uid\": \"4a2f3571-cb6f-11e8-b5b8-509a4c0f1ffc\"}, {\"line\": {\"dash\": \"dashdot\"}, \"name\": \"\\u5ba2\\u6237\\u6765\\u8bbf\\u63a5\\u5f85\\u6570(\\u8def\\u6167\\u840d)\", \"x\": [\"8-3\", \"8-4\", \"9-1\", \"9-2\", \"9-3\", \"9-4\"], \"y\": [1.0, 0.0, 0.0, 0.0, 0.0, null], \"type\": \"scatter\", \"uid\": \"4a2f3572-cb6f-11e8-91ba-509a4c0f1ffc\"}, {\"line\": {\"dash\": \"longdashdot\"}, \"name\": \"\\u5ba2\\u6237\\u6765\\u8bbf\\u63a5\\u5f85\\u6570(\\u738b\\u5b81)\", \"x\": [\"8-3\", \"8-4\", \"9-1\", \"9-2\", \"9-3\", \"9-4\"], \"y\": [0.0, 0.0, 0.0, null, null, null], \"type\": \"scatter\", \"uid\": \"4a2f3573-cb6f-11e8-a118-509a4c0f1ffc\"}],\n",
       "            {\"title\": \"\\u5916\\u51fa\\u6280\\u672f\\u652f\\u6301\\u6570&\\u7535\\u8bdd\\u4f1a\\u8bae\\u6b21\\u6570&\\u5ba2\\u6237\\u6765\\u8bbf\\u63a5\\u5f85\\u6570\\u5468\\u8d8b\\u52bf\\u56fe\", \"xaxis\": {\"mirror\": \"all\", \"nticks\": 20, \"showgrid\": true, \"showline\": true, \"title\": \"\\u5468\", \"zeroline\": true}, \"yaxis\": {\"mirror\": \"all\", \"nticks\": 20, \"showgrid\": true, \"showline\": true, \"title\": \"\\u5916\\u51fa\\u6280\\u672f\\u652f\\u6301\\u6570&\\u7535\\u8bdd\\u4f1a\\u8bae\\u6b21\\u6570&\\u5ba2\\u6237\\u6765\\u8bbf\\u63a5\\u5f85\\u6570\", \"zeroline\": true}},\n",
       "            {\"showLink\": true, \"linkText\": \"Export to plot.ly\"}\n",
       "        ).then(function () {return Plotly.addFrames('2f4c3e64-802b-4b86-913a-c81935791826',{});}).then(function(){Plotly.animate('2f4c3e64-802b-4b86-913a-c81935791826');})\n",
       "        });</script>"
      ],
      "text/vnd.plotly.v1+html": [
       "<div id=\"2f4c3e64-802b-4b86-913a-c81935791826\" style=\"height: 525px; width: 100%;\" class=\"plotly-graph-div\"></div><script type=\"text/javascript\">require([\"plotly\"], function(Plotly) { window.PLOTLYENV=window.PLOTLYENV || {};window.PLOTLYENV.BASE_URL=\"https://plot.ly\";\n",
       "        Plotly.plot(\n",
       "            '2f4c3e64-802b-4b86-913a-c81935791826',\n",
       "            [{\"line\": {\"dash\": \"solid\"}, \"name\": \"\\u5916\\u51fa\\u6280\\u672f\\u652f\\u6301\\u6570(\\u4e8e\\u6167)\", \"x\": [\"8-3\", \"8-4\", \"9-1\", \"9-2\", \"9-3\", \"9-4\"], \"y\": [0.0, 0.0, 0.0, 0.0, 0.0, 0.0], \"type\": \"scatter\", \"uid\": \"4a2f0e50-cb6f-11e8-8e79-509a4c0f1ffc\"}, {\"line\": {\"dash\": \"dot\"}, \"name\": \"\\u5916\\u51fa\\u6280\\u672f\\u652f\\u6301\\u6570(\\u5c01\\u5f66\\u6770)\", \"x\": [\"8-3\", \"8-4\", \"9-1\", \"9-2\", \"9-3\", \"9-4\"], \"y\": [0.0, 0.0, 0.0, 0.0, 0.0, 0.0], \"type\": \"scatter\", \"uid\": \"4a2f0e51-cb6f-11e8-ad44-509a4c0f1ffc\"}, {\"line\": {\"dash\": \"dash\"}, \"name\": \"\\u5916\\u51fa\\u6280\\u672f\\u652f\\u6301\\u6570(\\u5218\\u6c5f)\", \"x\": [\"8-3\", \"8-4\", \"9-1\", \"9-2\", \"9-3\", \"9-4\"], \"y\": [0.0, 0.0, 0.0, 0.0, 0.0, 0.0], \"type\": \"scatter\", \"uid\": \"4a2f0e52-cb6f-11e8-b9c8-509a4c0f1ffc\"}, {\"line\": {\"dash\": \"longdash\"}, \"name\": \"\\u5916\\u51fa\\u6280\\u672f\\u652f\\u6301\\u6570(\\u6768\\u4f1f\\u98de)\", \"x\": [\"8-3\", \"8-4\", \"9-1\", \"9-2\", \"9-3\", \"9-4\"], \"y\": [0.0, 0.0, 0.0, 0.0, 0.0, 0.0], \"type\": \"scatter\", \"uid\": \"4a2f0e53-cb6f-11e8-a947-509a4c0f1ffc\"}, {\"line\": {\"dash\": \"dashdot\"}, \"name\": \"\\u5916\\u51fa\\u6280\\u672f\\u652f\\u6301\\u6570(\\u82cf\\u5f66\\u52cb)\", \"x\": [\"8-3\", \"8-4\", \"9-1\", \"9-2\", \"9-3\", \"9-4\"], \"y\": [0.0, 0.0, 0.0, 0.0, 0.0, null], \"type\": \"scatter\", \"uid\": \"4a2f0e54-cb6f-11e8-a12f-509a4c0f1ffc\"}, {\"line\": {\"dash\": \"longdashdot\"}, \"name\": \"\\u5916\\u51fa\\u6280\\u672f\\u652f\\u6301\\u6570(\\u674e\\u534e\\u4e91)\", \"x\": [\"8-3\", \"8-4\", \"9-1\", \"9-2\", \"9-3\", \"9-4\"], \"y\": [0.0, 0.0, 0.0, 0.0, 0.0, null], \"type\": \"scatter\", \"uid\": \"4a2f0e55-cb6f-11e8-9082-509a4c0f1ffc\"}, {\"line\": {\"dash\": \"solid\"}, \"name\": \"\\u5916\\u51fa\\u6280\\u672f\\u652f\\u6301\\u6570(\\u4efb\\u96ea)\", \"x\": [\"8-3\", \"8-4\", \"9-1\", \"9-2\", \"9-3\", \"9-4\"], \"y\": [null, 0.0, 0.0, 0.0, 0.0, 0.0], \"type\": \"scatter\", \"uid\": \"4a2f0e56-cb6f-11e8-8737-509a4c0f1ffc\"}, {\"line\": {\"dash\": \"dot\"}, \"name\": \"\\u5916\\u51fa\\u6280\\u672f\\u652f\\u6301\\u6570(\\u9a6c\\u6f47)\", \"x\": [\"8-3\", \"8-4\", \"9-1\", \"9-2\", \"9-3\", \"9-4\"], \"y\": [0.0, 0.0, 0.0, 0.0, 0.0, 0.0], \"type\": \"scatter\", \"uid\": \"4a2f0e57-cb6f-11e8-a7a7-509a4c0f1ffc\"}, {\"line\": {\"dash\": \"dash\"}, \"name\": \"\\u5916\\u51fa\\u6280\\u672f\\u652f\\u6301\\u6570(\\u5b8b\\u8fce\\u6960)\", \"x\": [\"8-3\", \"8-4\", \"9-1\", \"9-2\", \"9-3\", \"9-4\"], \"y\": [0.0, 0.0, 0.0, null, null, null], \"type\": \"scatter\", \"uid\": \"4a2f0e58-cb6f-11e8-b1f7-509a4c0f1ffc\"}, {\"line\": {\"dash\": \"longdash\"}, \"name\": \"\\u5916\\u51fa\\u6280\\u672f\\u652f\\u6301\\u6570(\\u4e8e\\u52c7\\u4e00)\", \"x\": [\"8-3\", \"8-4\", \"9-1\", \"9-2\", \"9-3\", \"9-4\"], \"y\": [0.0, 0.0, 0.0, 0.0, 0.0, 0.0], \"type\": \"scatter\", \"uid\": \"4a2f0e59-cb6f-11e8-a6fd-509a4c0f1ffc\"}, {\"line\": {\"dash\": \"dashdot\"}, \"name\": \"\\u5916\\u51fa\\u6280\\u672f\\u652f\\u6301\\u6570(\\u5218\\u6167\\u73b2)\", \"x\": [\"8-3\", \"8-4\", \"9-1\", \"9-2\", \"9-3\", \"9-4\"], \"y\": [0.0, 0.0, 0.0, null, null, null], \"type\": \"scatter\", \"uid\": \"4a2f0e5a-cb6f-11e8-94b6-509a4c0f1ffc\"}, {\"line\": {\"dash\": \"longdashdot\"}, \"name\": \"\\u5916\\u51fa\\u6280\\u672f\\u652f\\u6301\\u6570(\\u8d75\\u73a5)\", \"x\": [\"8-3\", \"8-4\", \"9-1\", \"9-2\", \"9-3\", \"9-4\"], \"y\": [0.0, 0.0, 0.0, 0.0, 0.0, 0.0], \"type\": \"scatter\", \"uid\": \"4a2f0e5b-cb6f-11e8-9238-509a4c0f1ffc\"}, {\"line\": {\"dash\": \"solid\"}, \"name\": \"\\u5916\\u51fa\\u6280\\u672f\\u652f\\u6301\\u6570(\\u5360\\u4f1f)\", \"x\": [\"8-3\", \"8-4\", \"9-1\", \"9-2\", \"9-3\", \"9-4\"], \"y\": [0.0, 0.0, 0.0, 0.0, 0.0, 0.0], \"type\": \"scatter\", \"uid\": \"4a2f0e5c-cb6f-11e8-b1f4-509a4c0f1ffc\"}, {\"line\": {\"dash\": \"dot\"}, \"name\": \"\\u5916\\u51fa\\u6280\\u672f\\u652f\\u6301\\u6570(\\u5468\\u6768)\", \"x\": [\"8-3\", \"8-4\", \"9-1\", \"9-2\", \"9-3\", \"9-4\"], \"y\": [0.0, 0.0, 0.0, 0.0, 0.0, 0.0], \"type\": \"scatter\", \"uid\": \"4a2f0e5d-cb6f-11e8-906a-509a4c0f1ffc\"}, {\"line\": {\"dash\": \"dash\"}, \"name\": \"\\u5916\\u51fa\\u6280\\u672f\\u652f\\u6301\\u6570(\\u8c22\\u5fb7\\u5065)\", \"x\": [\"8-3\", \"8-4\", \"9-1\", \"9-2\", \"9-3\", \"9-4\"], \"y\": [0.0, 0.0, null, 0.0, 0.0, 0.0], \"type\": \"scatter\", \"uid\": \"4a2f0e5e-cb6f-11e8-981c-509a4c0f1ffc\"}, {\"line\": {\"dash\": \"longdash\"}, \"name\": \"\\u5916\\u51fa\\u6280\\u672f\\u652f\\u6301\\u6570(\\u8303\\u65ed\\u5b81)\", \"x\": [\"8-3\", \"8-4\", \"9-1\", \"9-2\", \"9-3\", \"9-4\"], \"y\": [0.0, 0.0, 0.0, 0.0, 0.0, 0.0], \"type\": \"scatter\", \"uid\": \"4a2f0e5f-cb6f-11e8-b4f8-509a4c0f1ffc\"}, {\"line\": {\"dash\": \"dashdot\"}, \"name\": \"\\u5916\\u51fa\\u6280\\u672f\\u652f\\u6301\\u6570(\\u5b5f\\u660a)\", \"x\": [\"8-3\", \"8-4\", \"9-1\", \"9-2\", \"9-3\", \"9-4\"], \"y\": [0.0, 0.0, 0.0, 0.0, 0.0, 0.0], \"type\": \"scatter\", \"uid\": \"4a2f0e60-cb6f-11e8-8fc4-509a4c0f1ffc\"}, {\"line\": {\"dash\": \"longdashdot\"}, \"name\": \"\\u5916\\u51fa\\u6280\\u672f\\u652f\\u6301\\u6570(\\u59da\\u76df\\u6210)\", \"x\": [\"8-3\", \"8-4\", \"9-1\", \"9-2\", \"9-3\", \"9-4\"], \"y\": [0.0, 0.0, 0.0, 0.0, 0.0, 0.0], \"type\": \"scatter\", \"uid\": \"4a2f0e61-cb6f-11e8-9154-509a4c0f1ffc\"}, {\"line\": {\"dash\": \"solid\"}, \"name\": \"\\u5916\\u51fa\\u6280\\u672f\\u652f\\u6301\\u6570(\\u5f20\\u5b88\\u4f1f)\", \"x\": [\"8-3\", \"8-4\", \"9-1\", \"9-2\", \"9-3\", \"9-4\"], \"y\": [0.0, 0.0, 0.0, 0.0, 0.0, 0.0], \"type\": \"scatter\", \"uid\": \"4a2f0e62-cb6f-11e8-a264-509a4c0f1ffc\"}, {\"line\": {\"dash\": \"dot\"}, \"name\": \"\\u5916\\u51fa\\u6280\\u672f\\u652f\\u6301\\u6570(\\u97e9\\u5c11\\u6000)\", \"x\": [\"8-3\", \"8-4\", \"9-1\", \"9-2\", \"9-3\", \"9-4\"], \"y\": [0.0, 0.0, 0.0, 0.0, 0.0, null], \"type\": \"scatter\", \"uid\": \"4a2f0e63-cb6f-11e8-9ced-509a4c0f1ffc\"}, {\"line\": {\"dash\": \"dash\"}, \"name\": \"\\u5916\\u51fa\\u6280\\u672f\\u652f\\u6301\\u6570(\\u674e\\u5e86\\u539f)\", \"x\": [\"8-3\", \"8-4\", \"9-1\", \"9-2\", \"9-3\", \"9-4\"], \"y\": [0.0, 0.0, 0.0, 0.0, 0.0, null], \"type\": \"scatter\", \"uid\": \"4a2f0e64-cb6f-11e8-8bb1-509a4c0f1ffc\"}, {\"line\": {\"dash\": \"longdash\"}, \"name\": \"\\u5916\\u51fa\\u6280\\u672f\\u652f\\u6301\\u6570(\\u6bb5\\u5229\\u5f3a)\", \"x\": [\"8-3\", \"8-4\", \"9-1\", \"9-2\", \"9-3\", \"9-4\"], \"y\": [null, null, null, null, null, 0.0], \"type\": \"scatter\", \"uid\": \"4a2f0e65-cb6f-11e8-8073-509a4c0f1ffc\"}, {\"line\": {\"dash\": \"dashdot\"}, \"name\": \"\\u5916\\u51fa\\u6280\\u672f\\u652f\\u6301\\u6570(\\u8def\\u6167\\u840d)\", \"x\": [\"8-3\", \"8-4\", \"9-1\", \"9-2\", \"9-3\", \"9-4\"], \"y\": [0.0, 0.0, 0.0, 0.0, 0.0, null], \"type\": \"scatter\", \"uid\": \"4a2f0e66-cb6f-11e8-8da0-509a4c0f1ffc\"}, {\"line\": {\"dash\": \"longdashdot\"}, \"name\": \"\\u5916\\u51fa\\u6280\\u672f\\u652f\\u6301\\u6570(\\u738b\\u5b81)\", \"x\": [\"8-3\", \"8-4\", \"9-1\", \"9-2\", \"9-3\", \"9-4\"], \"y\": [0.0, 0.0, 0.0, null, null, null], \"type\": \"scatter\", \"uid\": \"4a2f0e67-cb6f-11e8-8f82-509a4c0f1ffc\"}, {\"line\": {\"dash\": \"solid\"}, \"name\": \"\\u7535\\u8bdd\\u4f1a\\u8bae\\u6b21\\u6570(\\u4e8e\\u6167)\", \"x\": [\"8-3\", \"8-4\", \"9-1\", \"9-2\", \"9-3\", \"9-4\"], \"y\": [0.0, 0.0, 0.0, 0.0, 0.0, 0.0], \"type\": \"scatter\", \"uid\": \"4a2f0e68-cb6f-11e8-8a2a-509a4c0f1ffc\"}, {\"line\": {\"dash\": \"dot\"}, \"name\": \"\\u7535\\u8bdd\\u4f1a\\u8bae\\u6b21\\u6570(\\u5c01\\u5f66\\u6770)\", \"x\": [\"8-3\", \"8-4\", \"9-1\", \"9-2\", \"9-3\", \"9-4\"], \"y\": [0.0, 0.0, 0.0, 1.0, 1.0, 0.0], \"type\": \"scatter\", \"uid\": \"4a2f0e69-cb6f-11e8-8646-509a4c0f1ffc\"}, {\"line\": {\"dash\": \"dash\"}, \"name\": \"\\u7535\\u8bdd\\u4f1a\\u8bae\\u6b21\\u6570(\\u5218\\u6c5f)\", \"x\": [\"8-3\", \"8-4\", \"9-1\", \"9-2\", \"9-3\", \"9-4\"], \"y\": [1.0, 1.0, 1.0, 1.0, 1.0, 0.0], \"type\": \"scatter\", \"uid\": \"4a2f0e6a-cb6f-11e8-b101-509a4c0f1ffc\"}, {\"line\": {\"dash\": \"longdash\"}, \"name\": \"\\u7535\\u8bdd\\u4f1a\\u8bae\\u6b21\\u6570(\\u6768\\u4f1f\\u98de)\", \"x\": [\"8-3\", \"8-4\", \"9-1\", \"9-2\", \"9-3\", \"9-4\"], \"y\": [0.0, 0.0, 1.0, 1.0, 2.0, 1.0], \"type\": \"scatter\", \"uid\": \"4a2f0e6b-cb6f-11e8-bb03-509a4c0f1ffc\"}, {\"line\": {\"dash\": \"dashdot\"}, \"name\": \"\\u7535\\u8bdd\\u4f1a\\u8bae\\u6b21\\u6570(\\u82cf\\u5f66\\u52cb)\", \"x\": [\"8-3\", \"8-4\", \"9-1\", \"9-2\", \"9-3\", \"9-4\"], \"y\": [0.0, 0.0, 0.0, 0.0, 0.0, null], \"type\": \"scatter\", \"uid\": \"4a2f0e6c-cb6f-11e8-8b57-509a4c0f1ffc\"}, {\"line\": {\"dash\": \"longdashdot\"}, \"name\": \"\\u7535\\u8bdd\\u4f1a\\u8bae\\u6b21\\u6570(\\u674e\\u534e\\u4e91)\", \"x\": [\"8-3\", \"8-4\", \"9-1\", \"9-2\", \"9-3\", \"9-4\"], \"y\": [0.0, 0.0, 0.0, 0.0, 1.0, null], \"type\": \"scatter\", \"uid\": \"4a2f0e6d-cb6f-11e8-8d8b-509a4c0f1ffc\"}, {\"line\": {\"dash\": \"solid\"}, \"name\": \"\\u7535\\u8bdd\\u4f1a\\u8bae\\u6b21\\u6570(\\u4efb\\u96ea)\", \"x\": [\"8-3\", \"8-4\", \"9-1\", \"9-2\", \"9-3\", \"9-4\"], \"y\": [null, 0.0, 0.0, 0.0, 0.0, 0.0], \"type\": \"scatter\", \"uid\": \"4a2f0e6e-cb6f-11e8-acb0-509a4c0f1ffc\"}, {\"line\": {\"dash\": \"dot\"}, \"name\": \"\\u7535\\u8bdd\\u4f1a\\u8bae\\u6b21\\u6570(\\u9a6c\\u6f47)\", \"x\": [\"8-3\", \"8-4\", \"9-1\", \"9-2\", \"9-3\", \"9-4\"], \"y\": [0.0, 0.0, 0.0, 0.0, 0.0, 0.0], \"type\": \"scatter\", \"uid\": \"4a2f0e6f-cb6f-11e8-8e79-509a4c0f1ffc\"}, {\"line\": {\"dash\": \"dash\"}, \"name\": \"\\u7535\\u8bdd\\u4f1a\\u8bae\\u6b21\\u6570(\\u5b8b\\u8fce\\u6960)\", \"x\": [\"8-3\", \"8-4\", \"9-1\", \"9-2\", \"9-3\", \"9-4\"], \"y\": [0.0, 0.0, 0.0, null, null, null], \"type\": \"scatter\", \"uid\": \"4a2f0e70-cb6f-11e8-99ca-509a4c0f1ffc\"}, {\"line\": {\"dash\": \"longdash\"}, \"name\": \"\\u7535\\u8bdd\\u4f1a\\u8bae\\u6b21\\u6570(\\u4e8e\\u52c7\\u4e00)\", \"x\": [\"8-3\", \"8-4\", \"9-1\", \"9-2\", \"9-3\", \"9-4\"], \"y\": [0.0, 0.0, 0.0, 0.0, 0.0, 0.0], \"type\": \"scatter\", \"uid\": \"4a2f0e71-cb6f-11e8-bbb2-509a4c0f1ffc\"}, {\"line\": {\"dash\": \"dashdot\"}, \"name\": \"\\u7535\\u8bdd\\u4f1a\\u8bae\\u6b21\\u6570(\\u5218\\u6167\\u73b2)\", \"x\": [\"8-3\", \"8-4\", \"9-1\", \"9-2\", \"9-3\", \"9-4\"], \"y\": [0.0, 0.0, 0.0, null, null, null], \"type\": \"scatter\", \"uid\": \"4a2f0e72-cb6f-11e8-b9d5-509a4c0f1ffc\"}, {\"line\": {\"dash\": \"longdashdot\"}, \"name\": \"\\u7535\\u8bdd\\u4f1a\\u8bae\\u6b21\\u6570(\\u8d75\\u73a5)\", \"x\": [\"8-3\", \"8-4\", \"9-1\", \"9-2\", \"9-3\", \"9-4\"], \"y\": [2.0, 0.0, 0.0, 2.0, 0.0, 0.0], \"type\": \"scatter\", \"uid\": \"4a2f0e73-cb6f-11e8-bade-509a4c0f1ffc\"}, {\"line\": {\"dash\": \"solid\"}, \"name\": \"\\u7535\\u8bdd\\u4f1a\\u8bae\\u6b21\\u6570(\\u5360\\u4f1f)\", \"x\": [\"8-3\", \"8-4\", \"9-1\", \"9-2\", \"9-3\", \"9-4\"], \"y\": [0.0, 1.0, 2.0, 1.0, 2.0, 1.0], \"type\": \"scatter\", \"uid\": \"4a2f0e74-cb6f-11e8-b799-509a4c0f1ffc\"}, {\"line\": {\"dash\": \"dot\"}, \"name\": \"\\u7535\\u8bdd\\u4f1a\\u8bae\\u6b21\\u6570(\\u5468\\u6768)\", \"x\": [\"8-3\", \"8-4\", \"9-1\", \"9-2\", \"9-3\", \"9-4\"], \"y\": [1.0, 0.0, 0.0, 0.0, 0.0, 0.0], \"type\": \"scatter\", \"uid\": \"4a2f0e75-cb6f-11e8-bd2a-509a4c0f1ffc\"}, {\"line\": {\"dash\": \"dash\"}, \"name\": \"\\u7535\\u8bdd\\u4f1a\\u8bae\\u6b21\\u6570(\\u8c22\\u5fb7\\u5065)\", \"x\": [\"8-3\", \"8-4\", \"9-1\", \"9-2\", \"9-3\", \"9-4\"], \"y\": [2.0, 1.0, null, 1.0, 1.0, 0.0], \"type\": \"scatter\", \"uid\": \"4a2f0e76-cb6f-11e8-bb4b-509a4c0f1ffc\"}, {\"line\": {\"dash\": \"longdash\"}, \"name\": \"\\u7535\\u8bdd\\u4f1a\\u8bae\\u6b21\\u6570(\\u8303\\u65ed\\u5b81)\", \"x\": [\"8-3\", \"8-4\", \"9-1\", \"9-2\", \"9-3\", \"9-4\"], \"y\": [0.0, 0.0, 0.0, 0.0, 0.0, 0.0], \"type\": \"scatter\", \"uid\": \"4a2f0e77-cb6f-11e8-b8c9-509a4c0f1ffc\"}, {\"line\": {\"dash\": \"dashdot\"}, \"name\": \"\\u7535\\u8bdd\\u4f1a\\u8bae\\u6b21\\u6570(\\u5b5f\\u660a)\", \"x\": [\"8-3\", \"8-4\", \"9-1\", \"9-2\", \"9-3\", \"9-4\"], \"y\": [0.0, 0.0, 0.0, 0.0, 0.0, 0.0], \"type\": \"scatter\", \"uid\": \"4a2f0e78-cb6f-11e8-b43a-509a4c0f1ffc\"}, {\"line\": {\"dash\": \"longdashdot\"}, \"name\": \"\\u7535\\u8bdd\\u4f1a\\u8bae\\u6b21\\u6570(\\u59da\\u76df\\u6210)\", \"x\": [\"8-3\", \"8-4\", \"9-1\", \"9-2\", \"9-3\", \"9-4\"], \"y\": [0.0, 1.0, 1.0, 0.0, 1.0, 0.0], \"type\": \"scatter\", \"uid\": \"4a2f0e79-cb6f-11e8-83fa-509a4c0f1ffc\"}, {\"line\": {\"dash\": \"solid\"}, \"name\": \"\\u7535\\u8bdd\\u4f1a\\u8bae\\u6b21\\u6570(\\u5f20\\u5b88\\u4f1f)\", \"x\": [\"8-3\", \"8-4\", \"9-1\", \"9-2\", \"9-3\", \"9-4\"], \"y\": [0.0, 0.0, 0.0, 0.0, 0.0, 0.0], \"type\": \"scatter\", \"uid\": \"4a2f0e7a-cb6f-11e8-88ca-509a4c0f1ffc\"}, {\"line\": {\"dash\": \"dot\"}, \"name\": \"\\u7535\\u8bdd\\u4f1a\\u8bae\\u6b21\\u6570(\\u97e9\\u5c11\\u6000)\", \"x\": [\"8-3\", \"8-4\", \"9-1\", \"9-2\", \"9-3\", \"9-4\"], \"y\": [0.0, 0.0, 0.0, 0.0, 0.0, null], \"type\": \"scatter\", \"uid\": \"4a2f0e7b-cb6f-11e8-9290-509a4c0f1ffc\"}, {\"line\": {\"dash\": \"dash\"}, \"name\": \"\\u7535\\u8bdd\\u4f1a\\u8bae\\u6b21\\u6570(\\u674e\\u5e86\\u539f)\", \"x\": [\"8-3\", \"8-4\", \"9-1\", \"9-2\", \"9-3\", \"9-4\"], \"y\": [2.0, 0.0, 0.0, 1.0, 1.0, null], \"type\": \"scatter\", \"uid\": \"4a2f0e7c-cb6f-11e8-9dd5-509a4c0f1ffc\"}, {\"line\": {\"dash\": \"longdash\"}, \"name\": \"\\u7535\\u8bdd\\u4f1a\\u8bae\\u6b21\\u6570(\\u6bb5\\u5229\\u5f3a)\", \"x\": [\"8-3\", \"8-4\", \"9-1\", \"9-2\", \"9-3\", \"9-4\"], \"y\": [null, null, null, null, null, 1.0], \"type\": \"scatter\", \"uid\": \"4a2f0e7d-cb6f-11e8-9476-509a4c0f1ffc\"}, {\"line\": {\"dash\": \"dashdot\"}, \"name\": \"\\u7535\\u8bdd\\u4f1a\\u8bae\\u6b21\\u6570(\\u8def\\u6167\\u840d)\", \"x\": [\"8-3\", \"8-4\", \"9-1\", \"9-2\", \"9-3\", \"9-4\"], \"y\": [1.0, 0.0, 0.0, 0.0, 0.0, null], \"type\": \"scatter\", \"uid\": \"4a2f0e7e-cb6f-11e8-af53-509a4c0f1ffc\"}, {\"line\": {\"dash\": \"longdashdot\"}, \"name\": \"\\u7535\\u8bdd\\u4f1a\\u8bae\\u6b21\\u6570(\\u738b\\u5b81)\", \"x\": [\"8-3\", \"8-4\", \"9-1\", \"9-2\", \"9-3\", \"9-4\"], \"y\": [0.0, 1.0, 0.0, null, null, null], \"type\": \"scatter\", \"uid\": \"4a2f0e7f-cb6f-11e8-86c1-509a4c0f1ffc\"}, {\"line\": {\"dash\": \"solid\"}, \"name\": \"\\u5ba2\\u6237\\u6765\\u8bbf\\u63a5\\u5f85\\u6570(\\u4e8e\\u6167)\", \"x\": [\"8-3\", \"8-4\", \"9-1\", \"9-2\", \"9-3\", \"9-4\"], \"y\": [0.0, 0.0, 0.0, 0.0, 0.0, 0.0], \"type\": \"scatter\", \"uid\": \"4a2f0e80-cb6f-11e8-89a3-509a4c0f1ffc\"}, {\"line\": {\"dash\": \"dot\"}, \"name\": \"\\u5ba2\\u6237\\u6765\\u8bbf\\u63a5\\u5f85\\u6570(\\u5c01\\u5f66\\u6770)\", \"x\": [\"8-3\", \"8-4\", \"9-1\", \"9-2\", \"9-3\", \"9-4\"], \"y\": [0.0, 0.0, 0.0, 0.0, 0.0, 0.0], \"type\": \"scatter\", \"uid\": \"4a2f0e81-cb6f-11e8-ba50-509a4c0f1ffc\"}, {\"line\": {\"dash\": \"dash\"}, \"name\": \"\\u5ba2\\u6237\\u6765\\u8bbf\\u63a5\\u5f85\\u6570(\\u5218\\u6c5f)\", \"x\": [\"8-3\", \"8-4\", \"9-1\", \"9-2\", \"9-3\", \"9-4\"], \"y\": [1.0, 0.0, 0.0, 0.0, 0.0, 1.0], \"type\": \"scatter\", \"uid\": \"4a2f355e-cb6f-11e8-923c-509a4c0f1ffc\"}, {\"line\": {\"dash\": \"longdash\"}, \"name\": \"\\u5ba2\\u6237\\u6765\\u8bbf\\u63a5\\u5f85\\u6570(\\u6768\\u4f1f\\u98de)\", \"x\": [\"8-3\", \"8-4\", \"9-1\", \"9-2\", \"9-3\", \"9-4\"], \"y\": [0.0, 0.0, 0.0, 0.0, 0.0, 0.0], \"type\": \"scatter\", \"uid\": \"4a2f355f-cb6f-11e8-9d12-509a4c0f1ffc\"}, {\"line\": {\"dash\": \"dashdot\"}, \"name\": \"\\u5ba2\\u6237\\u6765\\u8bbf\\u63a5\\u5f85\\u6570(\\u82cf\\u5f66\\u52cb)\", \"x\": [\"8-3\", \"8-4\", \"9-1\", \"9-2\", \"9-3\", \"9-4\"], \"y\": [0.0, 0.0, 0.0, 0.0, 0.0, null], \"type\": \"scatter\", \"uid\": \"4a2f3560-cb6f-11e8-8f0c-509a4c0f1ffc\"}, {\"line\": {\"dash\": \"longdashdot\"}, \"name\": \"\\u5ba2\\u6237\\u6765\\u8bbf\\u63a5\\u5f85\\u6570(\\u674e\\u534e\\u4e91)\", \"x\": [\"8-3\", \"8-4\", \"9-1\", \"9-2\", \"9-3\", \"9-4\"], \"y\": [0.0, 0.0, 0.0, 0.0, 0.0, null], \"type\": \"scatter\", \"uid\": \"4a2f3561-cb6f-11e8-a284-509a4c0f1ffc\"}, {\"line\": {\"dash\": \"solid\"}, \"name\": \"\\u5ba2\\u6237\\u6765\\u8bbf\\u63a5\\u5f85\\u6570(\\u4efb\\u96ea)\", \"x\": [\"8-3\", \"8-4\", \"9-1\", \"9-2\", \"9-3\", \"9-4\"], \"y\": [null, 0.0, 0.0, 0.0, 1.0, 0.0], \"type\": \"scatter\", \"uid\": \"4a2f3562-cb6f-11e8-b33b-509a4c0f1ffc\"}, {\"line\": {\"dash\": \"dot\"}, \"name\": \"\\u5ba2\\u6237\\u6765\\u8bbf\\u63a5\\u5f85\\u6570(\\u9a6c\\u6f47)\", \"x\": [\"8-3\", \"8-4\", \"9-1\", \"9-2\", \"9-3\", \"9-4\"], \"y\": [0.0, 0.0, 0.0, 0.0, 0.0, 0.0], \"type\": \"scatter\", \"uid\": \"4a2f3563-cb6f-11e8-8426-509a4c0f1ffc\"}, {\"line\": {\"dash\": \"dash\"}, \"name\": \"\\u5ba2\\u6237\\u6765\\u8bbf\\u63a5\\u5f85\\u6570(\\u5b8b\\u8fce\\u6960)\", \"x\": [\"8-3\", \"8-4\", \"9-1\", \"9-2\", \"9-3\", \"9-4\"], \"y\": [0.0, 0.0, 0.0, null, null, null], \"type\": \"scatter\", \"uid\": \"4a2f3564-cb6f-11e8-876f-509a4c0f1ffc\"}, {\"line\": {\"dash\": \"longdash\"}, \"name\": \"\\u5ba2\\u6237\\u6765\\u8bbf\\u63a5\\u5f85\\u6570(\\u4e8e\\u52c7\\u4e00)\", \"x\": [\"8-3\", \"8-4\", \"9-1\", \"9-2\", \"9-3\", \"9-4\"], \"y\": [0.0, 0.0, 0.0, 0.0, 0.0, 0.0], \"type\": \"scatter\", \"uid\": \"4a2f3565-cb6f-11e8-96a1-509a4c0f1ffc\"}, {\"line\": {\"dash\": \"dashdot\"}, \"name\": \"\\u5ba2\\u6237\\u6765\\u8bbf\\u63a5\\u5f85\\u6570(\\u5218\\u6167\\u73b2)\", \"x\": [\"8-3\", \"8-4\", \"9-1\", \"9-2\", \"9-3\", \"9-4\"], \"y\": [0.0, 0.0, 0.0, null, null, null], \"type\": \"scatter\", \"uid\": \"4a2f3566-cb6f-11e8-8a0e-509a4c0f1ffc\"}, {\"line\": {\"dash\": \"longdashdot\"}, \"name\": \"\\u5ba2\\u6237\\u6765\\u8bbf\\u63a5\\u5f85\\u6570(\\u8d75\\u73a5)\", \"x\": [\"8-3\", \"8-4\", \"9-1\", \"9-2\", \"9-3\", \"9-4\"], \"y\": [0.0, 0.0, 0.0, 0.0, 0.0, 1.0], \"type\": \"scatter\", \"uid\": \"4a2f3567-cb6f-11e8-a73c-509a4c0f1ffc\"}, {\"line\": {\"dash\": \"solid\"}, \"name\": \"\\u5ba2\\u6237\\u6765\\u8bbf\\u63a5\\u5f85\\u6570(\\u5360\\u4f1f)\", \"x\": [\"8-3\", \"8-4\", \"9-1\", \"9-2\", \"9-3\", \"9-4\"], \"y\": [0.0, 0.0, 0.0, 0.0, 0.0, 1.0], \"type\": \"scatter\", \"uid\": \"4a2f3568-cb6f-11e8-a6fe-509a4c0f1ffc\"}, {\"line\": {\"dash\": \"dot\"}, \"name\": \"\\u5ba2\\u6237\\u6765\\u8bbf\\u63a5\\u5f85\\u6570(\\u5468\\u6768)\", \"x\": [\"8-3\", \"8-4\", \"9-1\", \"9-2\", \"9-3\", \"9-4\"], \"y\": [0.0, 0.0, 0.0, 0.0, 0.0, 0.0], \"type\": \"scatter\", \"uid\": \"4a2f3569-cb6f-11e8-b6a6-509a4c0f1ffc\"}, {\"line\": {\"dash\": \"dash\"}, \"name\": \"\\u5ba2\\u6237\\u6765\\u8bbf\\u63a5\\u5f85\\u6570(\\u8c22\\u5fb7\\u5065)\", \"x\": [\"8-3\", \"8-4\", \"9-1\", \"9-2\", \"9-3\", \"9-4\"], \"y\": [0.0, 0.0, null, 0.0, 0.0, 3.0], \"type\": \"scatter\", \"uid\": \"4a2f356a-cb6f-11e8-9d6b-509a4c0f1ffc\"}, {\"line\": {\"dash\": \"longdash\"}, \"name\": \"\\u5ba2\\u6237\\u6765\\u8bbf\\u63a5\\u5f85\\u6570(\\u8303\\u65ed\\u5b81)\", \"x\": [\"8-3\", \"8-4\", \"9-1\", \"9-2\", \"9-3\", \"9-4\"], \"y\": [0.0, 0.0, 0.0, 0.0, 0.0, 4.0], \"type\": \"scatter\", \"uid\": \"4a2f356b-cb6f-11e8-a9c6-509a4c0f1ffc\"}, {\"line\": {\"dash\": \"dashdot\"}, \"name\": \"\\u5ba2\\u6237\\u6765\\u8bbf\\u63a5\\u5f85\\u6570(\\u5b5f\\u660a)\", \"x\": [\"8-3\", \"8-4\", \"9-1\", \"9-2\", \"9-3\", \"9-4\"], \"y\": [0.0, 0.0, 0.0, 0.0, 0.0, 0.0], \"type\": \"scatter\", \"uid\": \"4a2f356c-cb6f-11e8-82a2-509a4c0f1ffc\"}, {\"line\": {\"dash\": \"longdashdot\"}, \"name\": \"\\u5ba2\\u6237\\u6765\\u8bbf\\u63a5\\u5f85\\u6570(\\u59da\\u76df\\u6210)\", \"x\": [\"8-3\", \"8-4\", \"9-1\", \"9-2\", \"9-3\", \"9-4\"], \"y\": [0.0, 0.0, 0.0, 0.0, 0.0, 0.0], \"type\": \"scatter\", \"uid\": \"4a2f356d-cb6f-11e8-9fdc-509a4c0f1ffc\"}, {\"line\": {\"dash\": \"solid\"}, \"name\": \"\\u5ba2\\u6237\\u6765\\u8bbf\\u63a5\\u5f85\\u6570(\\u5f20\\u5b88\\u4f1f)\", \"x\": [\"8-3\", \"8-4\", \"9-1\", \"9-2\", \"9-3\", \"9-4\"], \"y\": [0.0, 0.0, 0.0, 0.0, 0.0, 0.0], \"type\": \"scatter\", \"uid\": \"4a2f356e-cb6f-11e8-97fd-509a4c0f1ffc\"}, {\"line\": {\"dash\": \"dot\"}, \"name\": \"\\u5ba2\\u6237\\u6765\\u8bbf\\u63a5\\u5f85\\u6570(\\u97e9\\u5c11\\u6000)\", \"x\": [\"8-3\", \"8-4\", \"9-1\", \"9-2\", \"9-3\", \"9-4\"], \"y\": [0.0, 0.0, 0.0, 0.0, 0.0, null], \"type\": \"scatter\", \"uid\": \"4a2f356f-cb6f-11e8-85f6-509a4c0f1ffc\"}, {\"line\": {\"dash\": \"dash\"}, \"name\": \"\\u5ba2\\u6237\\u6765\\u8bbf\\u63a5\\u5f85\\u6570(\\u674e\\u5e86\\u539f)\", \"x\": [\"8-3\", \"8-4\", \"9-1\", \"9-2\", \"9-3\", \"9-4\"], \"y\": [1.0, 0.0, 0.0, 0.0, 0.0, null], \"type\": \"scatter\", \"uid\": \"4a2f3570-cb6f-11e8-89fa-509a4c0f1ffc\"}, {\"line\": {\"dash\": \"longdash\"}, \"name\": \"\\u5ba2\\u6237\\u6765\\u8bbf\\u63a5\\u5f85\\u6570(\\u6bb5\\u5229\\u5f3a)\", \"x\": [\"8-3\", \"8-4\", \"9-1\", \"9-2\", \"9-3\", \"9-4\"], \"y\": [null, null, null, null, null, 0.0], \"type\": \"scatter\", \"uid\": \"4a2f3571-cb6f-11e8-b5b8-509a4c0f1ffc\"}, {\"line\": {\"dash\": \"dashdot\"}, \"name\": \"\\u5ba2\\u6237\\u6765\\u8bbf\\u63a5\\u5f85\\u6570(\\u8def\\u6167\\u840d)\", \"x\": [\"8-3\", \"8-4\", \"9-1\", \"9-2\", \"9-3\", \"9-4\"], \"y\": [1.0, 0.0, 0.0, 0.0, 0.0, null], \"type\": \"scatter\", \"uid\": \"4a2f3572-cb6f-11e8-91ba-509a4c0f1ffc\"}, {\"line\": {\"dash\": \"longdashdot\"}, \"name\": \"\\u5ba2\\u6237\\u6765\\u8bbf\\u63a5\\u5f85\\u6570(\\u738b\\u5b81)\", \"x\": [\"8-3\", \"8-4\", \"9-1\", \"9-2\", \"9-3\", \"9-4\"], \"y\": [0.0, 0.0, 0.0, null, null, null], \"type\": \"scatter\", \"uid\": \"4a2f3573-cb6f-11e8-a118-509a4c0f1ffc\"}],\n",
       "            {\"title\": \"\\u5916\\u51fa\\u6280\\u672f\\u652f\\u6301\\u6570&\\u7535\\u8bdd\\u4f1a\\u8bae\\u6b21\\u6570&\\u5ba2\\u6237\\u6765\\u8bbf\\u63a5\\u5f85\\u6570\\u5468\\u8d8b\\u52bf\\u56fe\", \"xaxis\": {\"mirror\": \"all\", \"nticks\": 20, \"showgrid\": true, \"showline\": true, \"title\": \"\\u5468\", \"zeroline\": true}, \"yaxis\": {\"mirror\": \"all\", \"nticks\": 20, \"showgrid\": true, \"showline\": true, \"title\": \"\\u5916\\u51fa\\u6280\\u672f\\u652f\\u6301\\u6570&\\u7535\\u8bdd\\u4f1a\\u8bae\\u6b21\\u6570&\\u5ba2\\u6237\\u6765\\u8bbf\\u63a5\\u5f85\\u6570\", \"zeroline\": true}},\n",
       "            {\"showLink\": true, \"linkText\": \"Export to plot.ly\"}\n",
       "        ).then(function () {return Plotly.addFrames('2f4c3e64-802b-4b86-913a-c81935791826',{});}).then(function(){Plotly.animate('2f4c3e64-802b-4b86-913a-c81935791826');})\n",
       "        });</script>"
      ]
     },
     "metadata": {},
     "output_type": "display_data"
    }
   ],
   "source": [
    "ss=myModule.format(all_dict ,\"日期\" ,['电话会议次数', '外出技术支持数', '客户来访接待数'])\n",
    "ss.add_group('负责人')\n",
    "tt = myModule.myPlot(ss.groupby('sum'))\n",
    "tt.plot('line')"
   ]
  },
  {
   "cell_type": "markdown",
   "metadata": {},
   "source": [
    "# 研发组产品情况"
   ]
  },
  {
   "cell_type": "markdown",
   "metadata": {
    "hide_input": true
   },
   "source": [
    "## 整体情况"
   ]
  },
  {
   "cell_type": "markdown",
   "metadata": {},
   "source": [
    "### 转产情况"
   ]
  },
  {
   "cell_type": "markdown",
   "metadata": {},
   "source": [
    "#### 转产通过数、一次转产通过数"
   ]
  },
  {
   "cell_type": "code",
   "execution_count": 165,
   "metadata": {
    "collapsed": false
   },
   "outputs": [
    {
     "data": {
      "application/vnd.plotly.v1+json": {
       "data": [
        {
         "name": "一次转产通过数",
         "type": "scatter",
         "uid": "4a638bd0-cb6f-11e8-a57c-509a4c0f1ffc",
         "x": [
          "8-3",
          "8-4",
          "9-1",
          "9-2",
          "9-3",
          "9-4"
         ],
         "y": [
          2,
          6,
          2,
          0,
          1,
          0
         ]
        },
        {
         "name": "转产通过数",
         "type": "scatter",
         "uid": "4a638bd1-cb6f-11e8-aee0-509a4c0f1ffc",
         "x": [
          "8-3",
          "8-4",
          "9-1",
          "9-2",
          "9-3",
          "9-4"
         ],
         "y": [
          2,
          6,
          2,
          0,
          1,
          0
         ]
        }
       ],
       "layout": {
        "title": "一次转产通过数&转产通过数周趋势图",
        "xaxis": {
         "mirror": "all",
         "nticks": 20,
         "showgrid": true,
         "showline": true,
         "title": "周",
         "zeroline": true
        },
        "yaxis": {
         "mirror": "all",
         "nticks": 20,
         "showgrid": true,
         "showline": true,
         "title": "一次转产通过数&转产通过数",
         "zeroline": true
        }
       }
      },
      "text/html": [
       "<div id=\"964805da-4ab2-4b3e-826c-3b60586251e5\" style=\"height: 525px; width: 100%;\" class=\"plotly-graph-div\"></div><script type=\"text/javascript\">require([\"plotly\"], function(Plotly) { window.PLOTLYENV=window.PLOTLYENV || {};window.PLOTLYENV.BASE_URL=\"https://plot.ly\";\n",
       "        Plotly.plot(\n",
       "            '964805da-4ab2-4b3e-826c-3b60586251e5',\n",
       "            [{\"name\": \"\\u4e00\\u6b21\\u8f6c\\u4ea7\\u901a\\u8fc7\\u6570\", \"x\": [\"8-3\", \"8-4\", \"9-1\", \"9-2\", \"9-3\", \"9-4\"], \"y\": [2.0, 6.0, 2.0, 0.0, 1.0, 0.0], \"type\": \"scatter\", \"uid\": \"4a638bd0-cb6f-11e8-a57c-509a4c0f1ffc\"}, {\"name\": \"\\u8f6c\\u4ea7\\u901a\\u8fc7\\u6570\", \"x\": [\"8-3\", \"8-4\", \"9-1\", \"9-2\", \"9-3\", \"9-4\"], \"y\": [2.0, 6.0, 2.0, 0.0, 1.0, 0.0], \"type\": \"scatter\", \"uid\": \"4a638bd1-cb6f-11e8-aee0-509a4c0f1ffc\"}],\n",
       "            {\"title\": \"\\u4e00\\u6b21\\u8f6c\\u4ea7\\u901a\\u8fc7\\u6570&\\u8f6c\\u4ea7\\u901a\\u8fc7\\u6570\\u5468\\u8d8b\\u52bf\\u56fe\", \"xaxis\": {\"mirror\": \"all\", \"nticks\": 20, \"showgrid\": true, \"showline\": true, \"title\": \"\\u5468\", \"zeroline\": true}, \"yaxis\": {\"mirror\": \"all\", \"nticks\": 20, \"showgrid\": true, \"showline\": true, \"title\": \"\\u4e00\\u6b21\\u8f6c\\u4ea7\\u901a\\u8fc7\\u6570&\\u8f6c\\u4ea7\\u901a\\u8fc7\\u6570\", \"zeroline\": true}},\n",
       "            {\"showLink\": true, \"linkText\": \"Export to plot.ly\"}\n",
       "        ).then(function () {return Plotly.addFrames('964805da-4ab2-4b3e-826c-3b60586251e5',{});}).then(function(){Plotly.animate('964805da-4ab2-4b3e-826c-3b60586251e5');})\n",
       "        });</script>"
      ],
      "text/vnd.plotly.v1+html": [
       "<div id=\"964805da-4ab2-4b3e-826c-3b60586251e5\" style=\"height: 525px; width: 100%;\" class=\"plotly-graph-div\"></div><script type=\"text/javascript\">require([\"plotly\"], function(Plotly) { window.PLOTLYENV=window.PLOTLYENV || {};window.PLOTLYENV.BASE_URL=\"https://plot.ly\";\n",
       "        Plotly.plot(\n",
       "            '964805da-4ab2-4b3e-826c-3b60586251e5',\n",
       "            [{\"name\": \"\\u4e00\\u6b21\\u8f6c\\u4ea7\\u901a\\u8fc7\\u6570\", \"x\": [\"8-3\", \"8-4\", \"9-1\", \"9-2\", \"9-3\", \"9-4\"], \"y\": [2.0, 6.0, 2.0, 0.0, 1.0, 0.0], \"type\": \"scatter\", \"uid\": \"4a638bd0-cb6f-11e8-a57c-509a4c0f1ffc\"}, {\"name\": \"\\u8f6c\\u4ea7\\u901a\\u8fc7\\u6570\", \"x\": [\"8-3\", \"8-4\", \"9-1\", \"9-2\", \"9-3\", \"9-4\"], \"y\": [2.0, 6.0, 2.0, 0.0, 1.0, 0.0], \"type\": \"scatter\", \"uid\": \"4a638bd1-cb6f-11e8-aee0-509a4c0f1ffc\"}],\n",
       "            {\"title\": \"\\u4e00\\u6b21\\u8f6c\\u4ea7\\u901a\\u8fc7\\u6570&\\u8f6c\\u4ea7\\u901a\\u8fc7\\u6570\\u5468\\u8d8b\\u52bf\\u56fe\", \"xaxis\": {\"mirror\": \"all\", \"nticks\": 20, \"showgrid\": true, \"showline\": true, \"title\": \"\\u5468\", \"zeroline\": true}, \"yaxis\": {\"mirror\": \"all\", \"nticks\": 20, \"showgrid\": true, \"showline\": true, \"title\": \"\\u4e00\\u6b21\\u8f6c\\u4ea7\\u901a\\u8fc7\\u6570&\\u8f6c\\u4ea7\\u901a\\u8fc7\\u6570\", \"zeroline\": true}},\n",
       "            {\"showLink\": true, \"linkText\": \"Export to plot.ly\"}\n",
       "        ).then(function () {return Plotly.addFrames('964805da-4ab2-4b3e-826c-3b60586251e5',{});}).then(function(){Plotly.animate('964805da-4ab2-4b3e-826c-3b60586251e5');})\n",
       "        });</script>"
      ]
     },
     "metadata": {},
     "output_type": "display_data"
    }
   ],
   "source": [
    "ss=myModule.format(all_dict_1 ,\"日期（格式“月-周次”）\" ,['转产通过数','一次转产通过数'])\n",
    "tt = myModule.myPlot(ss.groupby('sum'))\n",
    "tt.plot('line')"
   ]
  },
  {
   "cell_type": "markdown",
   "metadata": {},
   "source": [
    "#### 转产通过率"
   ]
  },
  {
   "cell_type": "code",
   "execution_count": 166,
   "metadata": {
    "collapsed": false
   },
   "outputs": [
    {
     "data": {
      "application/vnd.plotly.v1+json": {
       "data": [
        {
         "name": "通过率",
         "type": "scatter",
         "uid": "4aa85d00-cb6f-11e8-837b-509a4c0f1ffc",
         "x": [
          "8-3",
          "8-4",
          "9-1",
          "9-2",
          "9-3",
          "9-4"
         ],
         "y": [
          1,
          1,
          1,
          null,
          1,
          null
         ]
        }
       ],
       "layout": {
        "title": "通过率周趋势图",
        "xaxis": {
         "mirror": "all",
         "nticks": 20,
         "showgrid": true,
         "showline": true,
         "title": "周",
         "zeroline": true
        },
        "yaxis": {
         "mirror": "all",
         "nticks": 20,
         "showgrid": true,
         "showline": true,
         "title": "通过率",
         "zeroline": true
        }
       }
      },
      "text/html": [
       "<div id=\"1b4220ce-a2da-44e8-8574-1b53b3d37d8b\" style=\"height: 525px; width: 100%;\" class=\"plotly-graph-div\"></div><script type=\"text/javascript\">require([\"plotly\"], function(Plotly) { window.PLOTLYENV=window.PLOTLYENV || {};window.PLOTLYENV.BASE_URL=\"https://plot.ly\";\n",
       "        Plotly.plot(\n",
       "            '1b4220ce-a2da-44e8-8574-1b53b3d37d8b',\n",
       "            [{\"name\": \"\\u901a\\u8fc7\\u7387\", \"x\": [\"8-3\", \"8-4\", \"9-1\", \"9-2\", \"9-3\", \"9-4\"], \"y\": [1.0, 1.0, 1.0, null, 1.0, null], \"type\": \"scatter\", \"uid\": \"4aa85d00-cb6f-11e8-837b-509a4c0f1ffc\"}],\n",
       "            {\"title\": \"\\u901a\\u8fc7\\u7387\\u5468\\u8d8b\\u52bf\\u56fe\", \"xaxis\": {\"mirror\": \"all\", \"nticks\": 20, \"showgrid\": true, \"showline\": true, \"title\": \"\\u5468\", \"zeroline\": true}, \"yaxis\": {\"mirror\": \"all\", \"nticks\": 20, \"showgrid\": true, \"showline\": true, \"title\": \"\\u901a\\u8fc7\\u7387\", \"zeroline\": true}},\n",
       "            {\"showLink\": true, \"linkText\": \"Export to plot.ly\"}\n",
       "        ).then(function () {return Plotly.addFrames('1b4220ce-a2da-44e8-8574-1b53b3d37d8b',{});}).then(function(){Plotly.animate('1b4220ce-a2da-44e8-8574-1b53b3d37d8b');})\n",
       "        });</script>"
      ],
      "text/vnd.plotly.v1+html": [
       "<div id=\"1b4220ce-a2da-44e8-8574-1b53b3d37d8b\" style=\"height: 525px; width: 100%;\" class=\"plotly-graph-div\"></div><script type=\"text/javascript\">require([\"plotly\"], function(Plotly) { window.PLOTLYENV=window.PLOTLYENV || {};window.PLOTLYENV.BASE_URL=\"https://plot.ly\";\n",
       "        Plotly.plot(\n",
       "            '1b4220ce-a2da-44e8-8574-1b53b3d37d8b',\n",
       "            [{\"name\": \"\\u901a\\u8fc7\\u7387\", \"x\": [\"8-3\", \"8-4\", \"9-1\", \"9-2\", \"9-3\", \"9-4\"], \"y\": [1.0, 1.0, 1.0, null, 1.0, null], \"type\": \"scatter\", \"uid\": \"4aa85d00-cb6f-11e8-837b-509a4c0f1ffc\"}],\n",
       "            {\"title\": \"\\u901a\\u8fc7\\u7387\\u5468\\u8d8b\\u52bf\\u56fe\", \"xaxis\": {\"mirror\": \"all\", \"nticks\": 20, \"showgrid\": true, \"showline\": true, \"title\": \"\\u5468\", \"zeroline\": true}, \"yaxis\": {\"mirror\": \"all\", \"nticks\": 20, \"showgrid\": true, \"showline\": true, \"title\": \"\\u901a\\u8fc7\\u7387\", \"zeroline\": true}},\n",
       "            {\"showLink\": true, \"linkText\": \"Export to plot.ly\"}\n",
       "        ).then(function () {return Plotly.addFrames('1b4220ce-a2da-44e8-8574-1b53b3d37d8b',{});}).then(function(){Plotly.animate('1b4220ce-a2da-44e8-8574-1b53b3d37d8b');})\n",
       "        });</script>"
      ]
     },
     "metadata": {},
     "output_type": "display_data"
    }
   ],
   "source": [
    "myModule.upgrade_df(all_dict_1, [ ['通过率','一次转产通过数','转产通过数','/'] ])\n",
    "ss=myModule.format(all_dict_1 ,\"日期（格式“月-周次”）\" ,['通过率'])\n",
    "tt = myModule.myPlot(ss.groupby('mean'))\n",
    "tt.plot('line')"
   ]
  },
  {
   "cell_type": "markdown",
   "metadata": {},
   "source": [
    "### bug情况"
   ]
  },
  {
   "cell_type": "markdown",
   "metadata": {},
   "source": [
    "#### 应完成BUG数和完成BUG修复数"
   ]
  },
  {
   "cell_type": "code",
   "execution_count": 167,
   "metadata": {
    "collapsed": false
   },
   "outputs": [
    {
     "data": {
      "application/vnd.plotly.v1+json": {
       "data": [
        {
         "name": "应完成BUG数",
         "type": "scatter",
         "uid": "4adba200-cb6f-11e8-8430-509a4c0f1ffc",
         "x": [
          "8-3",
          "8-4",
          "9-1",
          "9-2",
          "9-3",
          "9-4"
         ],
         "y": [
          2,
          3,
          0,
          3,
          4,
          0
         ]
        },
        {
         "name": "完成BUG修复数",
         "type": "scatter",
         "uid": "4adba201-cb6f-11e8-a192-509a4c0f1ffc",
         "x": [
          "8-3",
          "8-4",
          "9-1",
          "9-2",
          "9-3",
          "9-4"
         ],
         "y": [
          2,
          4,
          0,
          1,
          4,
          0
         ]
        }
       ],
       "layout": {
        "title": "应完成BUG数&完成BUG修复数周趋势图",
        "xaxis": {
         "mirror": "all",
         "nticks": 20,
         "showgrid": true,
         "showline": true,
         "title": "周",
         "zeroline": true
        },
        "yaxis": {
         "mirror": "all",
         "nticks": 20,
         "showgrid": true,
         "showline": true,
         "title": "应完成BUG数&完成BUG修复数",
         "zeroline": true
        }
       }
      },
      "text/html": [
       "<div id=\"adf9593b-22c4-4f9c-85eb-009174501766\" style=\"height: 525px; width: 100%;\" class=\"plotly-graph-div\"></div><script type=\"text/javascript\">require([\"plotly\"], function(Plotly) { window.PLOTLYENV=window.PLOTLYENV || {};window.PLOTLYENV.BASE_URL=\"https://plot.ly\";\n",
       "        Plotly.plot(\n",
       "            'adf9593b-22c4-4f9c-85eb-009174501766',\n",
       "            [{\"name\": \"\\u5e94\\u5b8c\\u6210BUG\\u6570\", \"x\": [\"8-3\", \"8-4\", \"9-1\", \"9-2\", \"9-3\", \"9-4\"], \"y\": [2.0, 3.0, 0.0, 3.0, 4.0, 0.0], \"type\": \"scatter\", \"uid\": \"4adba200-cb6f-11e8-8430-509a4c0f1ffc\"}, {\"name\": \"\\u5b8c\\u6210BUG\\u4fee\\u590d\\u6570\", \"x\": [\"8-3\", \"8-4\", \"9-1\", \"9-2\", \"9-3\", \"9-4\"], \"y\": [2.0, 4.0, 0.0, 1.0, 4.0, 0.0], \"type\": \"scatter\", \"uid\": \"4adba201-cb6f-11e8-a192-509a4c0f1ffc\"}],\n",
       "            {\"title\": \"\\u5e94\\u5b8c\\u6210BUG\\u6570&\\u5b8c\\u6210BUG\\u4fee\\u590d\\u6570\\u5468\\u8d8b\\u52bf\\u56fe\", \"xaxis\": {\"mirror\": \"all\", \"nticks\": 20, \"showgrid\": true, \"showline\": true, \"title\": \"\\u5468\", \"zeroline\": true}, \"yaxis\": {\"mirror\": \"all\", \"nticks\": 20, \"showgrid\": true, \"showline\": true, \"title\": \"\\u5e94\\u5b8c\\u6210BUG\\u6570&\\u5b8c\\u6210BUG\\u4fee\\u590d\\u6570\", \"zeroline\": true}},\n",
       "            {\"showLink\": true, \"linkText\": \"Export to plot.ly\"}\n",
       "        ).then(function () {return Plotly.addFrames('adf9593b-22c4-4f9c-85eb-009174501766',{});}).then(function(){Plotly.animate('adf9593b-22c4-4f9c-85eb-009174501766');})\n",
       "        });</script>"
      ],
      "text/vnd.plotly.v1+html": [
       "<div id=\"adf9593b-22c4-4f9c-85eb-009174501766\" style=\"height: 525px; width: 100%;\" class=\"plotly-graph-div\"></div><script type=\"text/javascript\">require([\"plotly\"], function(Plotly) { window.PLOTLYENV=window.PLOTLYENV || {};window.PLOTLYENV.BASE_URL=\"https://plot.ly\";\n",
       "        Plotly.plot(\n",
       "            'adf9593b-22c4-4f9c-85eb-009174501766',\n",
       "            [{\"name\": \"\\u5e94\\u5b8c\\u6210BUG\\u6570\", \"x\": [\"8-3\", \"8-4\", \"9-1\", \"9-2\", \"9-3\", \"9-4\"], \"y\": [2.0, 3.0, 0.0, 3.0, 4.0, 0.0], \"type\": \"scatter\", \"uid\": \"4adba200-cb6f-11e8-8430-509a4c0f1ffc\"}, {\"name\": \"\\u5b8c\\u6210BUG\\u4fee\\u590d\\u6570\", \"x\": [\"8-3\", \"8-4\", \"9-1\", \"9-2\", \"9-3\", \"9-4\"], \"y\": [2.0, 4.0, 0.0, 1.0, 4.0, 0.0], \"type\": \"scatter\", \"uid\": \"4adba201-cb6f-11e8-a192-509a4c0f1ffc\"}],\n",
       "            {\"title\": \"\\u5e94\\u5b8c\\u6210BUG\\u6570&\\u5b8c\\u6210BUG\\u4fee\\u590d\\u6570\\u5468\\u8d8b\\u52bf\\u56fe\", \"xaxis\": {\"mirror\": \"all\", \"nticks\": 20, \"showgrid\": true, \"showline\": true, \"title\": \"\\u5468\", \"zeroline\": true}, \"yaxis\": {\"mirror\": \"all\", \"nticks\": 20, \"showgrid\": true, \"showline\": true, \"title\": \"\\u5e94\\u5b8c\\u6210BUG\\u6570&\\u5b8c\\u6210BUG\\u4fee\\u590d\\u6570\", \"zeroline\": true}},\n",
       "            {\"showLink\": true, \"linkText\": \"Export to plot.ly\"}\n",
       "        ).then(function () {return Plotly.addFrames('adf9593b-22c4-4f9c-85eb-009174501766',{});}).then(function(){Plotly.animate('adf9593b-22c4-4f9c-85eb-009174501766');})\n",
       "        });</script>"
      ]
     },
     "metadata": {},
     "output_type": "display_data"
    }
   ],
   "source": [
    "ss=myModule.format(all_dict_1 ,\"日期（格式“月-周次”）\" ,['应完成BUG数','完成BUG修复数'])\n",
    "tt = myModule.myPlot(ss.groupby('sum'))\n",
    "tt.plot('line')"
   ]
  },
  {
   "cell_type": "markdown",
   "metadata": {
    "hide_input": true
   },
   "source": [
    "## 各组情况"
   ]
  },
  {
   "cell_type": "markdown",
   "metadata": {},
   "source": [
    "### 转产情况"
   ]
  },
  {
   "cell_type": "markdown",
   "metadata": {},
   "source": [
    "#### 转产通过数、一次转产通过数"
   ]
  },
  {
   "cell_type": "code",
   "execution_count": 168,
   "metadata": {
    "collapsed": false
   },
   "outputs": [
    {
     "data": {
      "application/vnd.plotly.v1+json": {
       "data": [
        {
         "line": {
          "dash": "solid"
         },
         "name": "一次转产通过数(转录调控组)",
         "type": "scatter",
         "uid": "4b18ab00-cb6f-11e8-97c3-509a4c0f1ffc",
         "x": [
          "8-3",
          "8-4",
          "9-1",
          "9-2",
          "9-3",
          "9-4"
         ],
         "y": [
          null,
          4,
          null,
          null,
          null,
          null
         ]
        },
        {
         "line": {
          "dash": "dot"
         },
         "name": "一次转产通过数(蛋白和医学组)",
         "type": "scatter",
         "uid": "4b18ab01-cb6f-11e8-9529-509a4c0f1ffc",
         "x": [
          "8-3",
          "8-4",
          "9-1",
          "9-2",
          "9-3",
          "9-4"
         ],
         "y": [
          2,
          2,
          1,
          0,
          1,
          0
         ]
        },
        {
         "line": {
          "dash": "dash"
         },
         "name": "一次转产通过数(生物学DNA组)",
         "type": "scatter",
         "uid": "4b18ab02-cb6f-11e8-a3e3-509a4c0f1ffc",
         "x": [
          "8-3",
          "8-4",
          "9-1",
          "9-2",
          "9-3",
          "9-4"
         ],
         "y": [
          0,
          0,
          1,
          0,
          0,
          null
         ]
        },
        {
         "line": {
          "dash": "solid"
         },
         "name": "转产通过数(转录调控组)",
         "type": "scatter",
         "uid": "4b18ab03-cb6f-11e8-9d78-509a4c0f1ffc",
         "x": [
          "8-3",
          "8-4",
          "9-1",
          "9-2",
          "9-3",
          "9-4"
         ],
         "y": [
          null,
          4,
          null,
          null,
          null,
          null
         ]
        },
        {
         "line": {
          "dash": "dot"
         },
         "name": "转产通过数(蛋白和医学组)",
         "type": "scatter",
         "uid": "4b18ab04-cb6f-11e8-af65-509a4c0f1ffc",
         "x": [
          "8-3",
          "8-4",
          "9-1",
          "9-2",
          "9-3",
          "9-4"
         ],
         "y": [
          2,
          2,
          1,
          0,
          1,
          0
         ]
        },
        {
         "line": {
          "dash": "dash"
         },
         "name": "转产通过数(生物学DNA组)",
         "type": "scatter",
         "uid": "4b18ab05-cb6f-11e8-b2f3-509a4c0f1ffc",
         "x": [
          "8-3",
          "8-4",
          "9-1",
          "9-2",
          "9-3",
          "9-4"
         ],
         "y": [
          0,
          0,
          1,
          0,
          0,
          null
         ]
        }
       ],
       "layout": {
        "title": "一次转产通过数&转产通过数周趋势图",
        "xaxis": {
         "mirror": "all",
         "nticks": 20,
         "showgrid": true,
         "showline": true,
         "title": "周",
         "zeroline": true
        },
        "yaxis": {
         "mirror": "all",
         "nticks": 20,
         "showgrid": true,
         "showline": true,
         "title": "一次转产通过数&转产通过数",
         "zeroline": true
        }
       }
      },
      "text/html": [
       "<div id=\"38379074-4f62-451a-9885-b1e56144ae06\" style=\"height: 525px; width: 100%;\" class=\"plotly-graph-div\"></div><script type=\"text/javascript\">require([\"plotly\"], function(Plotly) { window.PLOTLYENV=window.PLOTLYENV || {};window.PLOTLYENV.BASE_URL=\"https://plot.ly\";\n",
       "        Plotly.plot(\n",
       "            '38379074-4f62-451a-9885-b1e56144ae06',\n",
       "            [{\"line\": {\"dash\": \"solid\"}, \"name\": \"\\u4e00\\u6b21\\u8f6c\\u4ea7\\u901a\\u8fc7\\u6570(\\u8f6c\\u5f55\\u8c03\\u63a7\\u7ec4)\", \"x\": [\"8-3\", \"8-4\", \"9-1\", \"9-2\", \"9-3\", \"9-4\"], \"y\": [null, 4.0, null, null, null, null], \"type\": \"scatter\", \"uid\": \"4b18ab00-cb6f-11e8-97c3-509a4c0f1ffc\"}, {\"line\": {\"dash\": \"dot\"}, \"name\": \"\\u4e00\\u6b21\\u8f6c\\u4ea7\\u901a\\u8fc7\\u6570(\\u86cb\\u767d\\u548c\\u533b\\u5b66\\u7ec4)\", \"x\": [\"8-3\", \"8-4\", \"9-1\", \"9-2\", \"9-3\", \"9-4\"], \"y\": [2.0, 2.0, 1.0, 0.0, 1.0, 0.0], \"type\": \"scatter\", \"uid\": \"4b18ab01-cb6f-11e8-9529-509a4c0f1ffc\"}, {\"line\": {\"dash\": \"dash\"}, \"name\": \"\\u4e00\\u6b21\\u8f6c\\u4ea7\\u901a\\u8fc7\\u6570(\\u751f\\u7269\\u5b66DNA\\u7ec4)\", \"x\": [\"8-3\", \"8-4\", \"9-1\", \"9-2\", \"9-3\", \"9-4\"], \"y\": [0.0, 0.0, 1.0, 0.0, 0.0, null], \"type\": \"scatter\", \"uid\": \"4b18ab02-cb6f-11e8-a3e3-509a4c0f1ffc\"}, {\"line\": {\"dash\": \"solid\"}, \"name\": \"\\u8f6c\\u4ea7\\u901a\\u8fc7\\u6570(\\u8f6c\\u5f55\\u8c03\\u63a7\\u7ec4)\", \"x\": [\"8-3\", \"8-4\", \"9-1\", \"9-2\", \"9-3\", \"9-4\"], \"y\": [null, 4.0, null, null, null, null], \"type\": \"scatter\", \"uid\": \"4b18ab03-cb6f-11e8-9d78-509a4c0f1ffc\"}, {\"line\": {\"dash\": \"dot\"}, \"name\": \"\\u8f6c\\u4ea7\\u901a\\u8fc7\\u6570(\\u86cb\\u767d\\u548c\\u533b\\u5b66\\u7ec4)\", \"x\": [\"8-3\", \"8-4\", \"9-1\", \"9-2\", \"9-3\", \"9-4\"], \"y\": [2.0, 2.0, 1.0, 0.0, 1.0, 0.0], \"type\": \"scatter\", \"uid\": \"4b18ab04-cb6f-11e8-af65-509a4c0f1ffc\"}, {\"line\": {\"dash\": \"dash\"}, \"name\": \"\\u8f6c\\u4ea7\\u901a\\u8fc7\\u6570(\\u751f\\u7269\\u5b66DNA\\u7ec4)\", \"x\": [\"8-3\", \"8-4\", \"9-1\", \"9-2\", \"9-3\", \"9-4\"], \"y\": [0.0, 0.0, 1.0, 0.0, 0.0, null], \"type\": \"scatter\", \"uid\": \"4b18ab05-cb6f-11e8-b2f3-509a4c0f1ffc\"}],\n",
       "            {\"title\": \"\\u4e00\\u6b21\\u8f6c\\u4ea7\\u901a\\u8fc7\\u6570&\\u8f6c\\u4ea7\\u901a\\u8fc7\\u6570\\u5468\\u8d8b\\u52bf\\u56fe\", \"xaxis\": {\"mirror\": \"all\", \"nticks\": 20, \"showgrid\": true, \"showline\": true, \"title\": \"\\u5468\", \"zeroline\": true}, \"yaxis\": {\"mirror\": \"all\", \"nticks\": 20, \"showgrid\": true, \"showline\": true, \"title\": \"\\u4e00\\u6b21\\u8f6c\\u4ea7\\u901a\\u8fc7\\u6570&\\u8f6c\\u4ea7\\u901a\\u8fc7\\u6570\", \"zeroline\": true}},\n",
       "            {\"showLink\": true, \"linkText\": \"Export to plot.ly\"}\n",
       "        ).then(function () {return Plotly.addFrames('38379074-4f62-451a-9885-b1e56144ae06',{});}).then(function(){Plotly.animate('38379074-4f62-451a-9885-b1e56144ae06');})\n",
       "        });</script>"
      ],
      "text/vnd.plotly.v1+html": [
       "<div id=\"38379074-4f62-451a-9885-b1e56144ae06\" style=\"height: 525px; width: 100%;\" class=\"plotly-graph-div\"></div><script type=\"text/javascript\">require([\"plotly\"], function(Plotly) { window.PLOTLYENV=window.PLOTLYENV || {};window.PLOTLYENV.BASE_URL=\"https://plot.ly\";\n",
       "        Plotly.plot(\n",
       "            '38379074-4f62-451a-9885-b1e56144ae06',\n",
       "            [{\"line\": {\"dash\": \"solid\"}, \"name\": \"\\u4e00\\u6b21\\u8f6c\\u4ea7\\u901a\\u8fc7\\u6570(\\u8f6c\\u5f55\\u8c03\\u63a7\\u7ec4)\", \"x\": [\"8-3\", \"8-4\", \"9-1\", \"9-2\", \"9-3\", \"9-4\"], \"y\": [null, 4.0, null, null, null, null], \"type\": \"scatter\", \"uid\": \"4b18ab00-cb6f-11e8-97c3-509a4c0f1ffc\"}, {\"line\": {\"dash\": \"dot\"}, \"name\": \"\\u4e00\\u6b21\\u8f6c\\u4ea7\\u901a\\u8fc7\\u6570(\\u86cb\\u767d\\u548c\\u533b\\u5b66\\u7ec4)\", \"x\": [\"8-3\", \"8-4\", \"9-1\", \"9-2\", \"9-3\", \"9-4\"], \"y\": [2.0, 2.0, 1.0, 0.0, 1.0, 0.0], \"type\": \"scatter\", \"uid\": \"4b18ab01-cb6f-11e8-9529-509a4c0f1ffc\"}, {\"line\": {\"dash\": \"dash\"}, \"name\": \"\\u4e00\\u6b21\\u8f6c\\u4ea7\\u901a\\u8fc7\\u6570(\\u751f\\u7269\\u5b66DNA\\u7ec4)\", \"x\": [\"8-3\", \"8-4\", \"9-1\", \"9-2\", \"9-3\", \"9-4\"], \"y\": [0.0, 0.0, 1.0, 0.0, 0.0, null], \"type\": \"scatter\", \"uid\": \"4b18ab02-cb6f-11e8-a3e3-509a4c0f1ffc\"}, {\"line\": {\"dash\": \"solid\"}, \"name\": \"\\u8f6c\\u4ea7\\u901a\\u8fc7\\u6570(\\u8f6c\\u5f55\\u8c03\\u63a7\\u7ec4)\", \"x\": [\"8-3\", \"8-4\", \"9-1\", \"9-2\", \"9-3\", \"9-4\"], \"y\": [null, 4.0, null, null, null, null], \"type\": \"scatter\", \"uid\": \"4b18ab03-cb6f-11e8-9d78-509a4c0f1ffc\"}, {\"line\": {\"dash\": \"dot\"}, \"name\": \"\\u8f6c\\u4ea7\\u901a\\u8fc7\\u6570(\\u86cb\\u767d\\u548c\\u533b\\u5b66\\u7ec4)\", \"x\": [\"8-3\", \"8-4\", \"9-1\", \"9-2\", \"9-3\", \"9-4\"], \"y\": [2.0, 2.0, 1.0, 0.0, 1.0, 0.0], \"type\": \"scatter\", \"uid\": \"4b18ab04-cb6f-11e8-af65-509a4c0f1ffc\"}, {\"line\": {\"dash\": \"dash\"}, \"name\": \"\\u8f6c\\u4ea7\\u901a\\u8fc7\\u6570(\\u751f\\u7269\\u5b66DNA\\u7ec4)\", \"x\": [\"8-3\", \"8-4\", \"9-1\", \"9-2\", \"9-3\", \"9-4\"], \"y\": [0.0, 0.0, 1.0, 0.0, 0.0, null], \"type\": \"scatter\", \"uid\": \"4b18ab05-cb6f-11e8-b2f3-509a4c0f1ffc\"}],\n",
       "            {\"title\": \"\\u4e00\\u6b21\\u8f6c\\u4ea7\\u901a\\u8fc7\\u6570&\\u8f6c\\u4ea7\\u901a\\u8fc7\\u6570\\u5468\\u8d8b\\u52bf\\u56fe\", \"xaxis\": {\"mirror\": \"all\", \"nticks\": 20, \"showgrid\": true, \"showline\": true, \"title\": \"\\u5468\", \"zeroline\": true}, \"yaxis\": {\"mirror\": \"all\", \"nticks\": 20, \"showgrid\": true, \"showline\": true, \"title\": \"\\u4e00\\u6b21\\u8f6c\\u4ea7\\u901a\\u8fc7\\u6570&\\u8f6c\\u4ea7\\u901a\\u8fc7\\u6570\", \"zeroline\": true}},\n",
       "            {\"showLink\": true, \"linkText\": \"Export to plot.ly\"}\n",
       "        ).then(function () {return Plotly.addFrames('38379074-4f62-451a-9885-b1e56144ae06',{});}).then(function(){Plotly.animate('38379074-4f62-451a-9885-b1e56144ae06');})\n",
       "        });</script>"
      ]
     },
     "metadata": {},
     "output_type": "display_data"
    }
   ],
   "source": [
    "ss=myModule.format(all_dict_1 ,\"日期（格式“月-周次”）\" ,['转产通过数','一次转产通过数'])\n",
    "ss.add_group('组别')\n",
    "tt = myModule.myPlot(ss.groupby('sum'))\n",
    "tt.plot('line')"
   ]
  },
  {
   "cell_type": "markdown",
   "metadata": {},
   "source": [
    "#### 转产通过率"
   ]
  },
  {
   "cell_type": "code",
   "execution_count": 169,
   "metadata": {
    "collapsed": false
   },
   "outputs": [
    {
     "data": {
      "application/vnd.plotly.v1+json": {
       "data": [
        {
         "line": {
          "dash": "solid"
         },
         "name": "通过率(转录调控组)",
         "type": "scatter",
         "uid": "4b4b7ad0-cb6f-11e8-8247-509a4c0f1ffc",
         "x": [
          "8-3",
          "8-4",
          "9-1",
          "9-2",
          "9-3",
          "9-4"
         ],
         "y": [
          null,
          1,
          null,
          null,
          null,
          null
         ]
        },
        {
         "line": {
          "dash": "dot"
         },
         "name": "通过率(蛋白和医学组)",
         "type": "scatter",
         "uid": "4b4b7ad1-cb6f-11e8-8d7f-509a4c0f1ffc",
         "x": [
          "8-3",
          "8-4",
          "9-1",
          "9-2",
          "9-3",
          "9-4"
         ],
         "y": [
          1,
          1,
          1,
          null,
          1,
          null
         ]
        },
        {
         "line": {
          "dash": "dash"
         },
         "name": "通过率(生物学DNA组)",
         "type": "scatter",
         "uid": "4b4b7ad2-cb6f-11e8-82d3-509a4c0f1ffc",
         "x": [
          "8-3",
          "8-4",
          "9-1",
          "9-2",
          "9-3",
          "9-4"
         ],
         "y": [
          null,
          null,
          1,
          null,
          null,
          null
         ]
        }
       ],
       "layout": {
        "title": "通过率周趋势图",
        "xaxis": {
         "mirror": "all",
         "nticks": 20,
         "showgrid": true,
         "showline": true,
         "title": "周",
         "zeroline": true
        },
        "yaxis": {
         "mirror": "all",
         "nticks": 20,
         "showgrid": true,
         "showline": true,
         "title": "通过率",
         "zeroline": true
        }
       }
      },
      "text/html": [
       "<div id=\"e7243987-0726-4588-9687-4cb6dea3ddda\" style=\"height: 525px; width: 100%;\" class=\"plotly-graph-div\"></div><script type=\"text/javascript\">require([\"plotly\"], function(Plotly) { window.PLOTLYENV=window.PLOTLYENV || {};window.PLOTLYENV.BASE_URL=\"https://plot.ly\";\n",
       "        Plotly.plot(\n",
       "            'e7243987-0726-4588-9687-4cb6dea3ddda',\n",
       "            [{\"line\": {\"dash\": \"solid\"}, \"name\": \"\\u901a\\u8fc7\\u7387(\\u8f6c\\u5f55\\u8c03\\u63a7\\u7ec4)\", \"x\": [\"8-3\", \"8-4\", \"9-1\", \"9-2\", \"9-3\", \"9-4\"], \"y\": [null, 1.0, null, null, null, null], \"type\": \"scatter\", \"uid\": \"4b4b7ad0-cb6f-11e8-8247-509a4c0f1ffc\"}, {\"line\": {\"dash\": \"dot\"}, \"name\": \"\\u901a\\u8fc7\\u7387(\\u86cb\\u767d\\u548c\\u533b\\u5b66\\u7ec4)\", \"x\": [\"8-3\", \"8-4\", \"9-1\", \"9-2\", \"9-3\", \"9-4\"], \"y\": [1.0, 1.0, 1.0, null, 1.0, null], \"type\": \"scatter\", \"uid\": \"4b4b7ad1-cb6f-11e8-8d7f-509a4c0f1ffc\"}, {\"line\": {\"dash\": \"dash\"}, \"name\": \"\\u901a\\u8fc7\\u7387(\\u751f\\u7269\\u5b66DNA\\u7ec4)\", \"x\": [\"8-3\", \"8-4\", \"9-1\", \"9-2\", \"9-3\", \"9-4\"], \"y\": [null, null, 1.0, null, null, null], \"type\": \"scatter\", \"uid\": \"4b4b7ad2-cb6f-11e8-82d3-509a4c0f1ffc\"}],\n",
       "            {\"title\": \"\\u901a\\u8fc7\\u7387\\u5468\\u8d8b\\u52bf\\u56fe\", \"xaxis\": {\"mirror\": \"all\", \"nticks\": 20, \"showgrid\": true, \"showline\": true, \"title\": \"\\u5468\", \"zeroline\": true}, \"yaxis\": {\"mirror\": \"all\", \"nticks\": 20, \"showgrid\": true, \"showline\": true, \"title\": \"\\u901a\\u8fc7\\u7387\", \"zeroline\": true}},\n",
       "            {\"showLink\": true, \"linkText\": \"Export to plot.ly\"}\n",
       "        ).then(function () {return Plotly.addFrames('e7243987-0726-4588-9687-4cb6dea3ddda',{});}).then(function(){Plotly.animate('e7243987-0726-4588-9687-4cb6dea3ddda');})\n",
       "        });</script>"
      ],
      "text/vnd.plotly.v1+html": [
       "<div id=\"e7243987-0726-4588-9687-4cb6dea3ddda\" style=\"height: 525px; width: 100%;\" class=\"plotly-graph-div\"></div><script type=\"text/javascript\">require([\"plotly\"], function(Plotly) { window.PLOTLYENV=window.PLOTLYENV || {};window.PLOTLYENV.BASE_URL=\"https://plot.ly\";\n",
       "        Plotly.plot(\n",
       "            'e7243987-0726-4588-9687-4cb6dea3ddda',\n",
       "            [{\"line\": {\"dash\": \"solid\"}, \"name\": \"\\u901a\\u8fc7\\u7387(\\u8f6c\\u5f55\\u8c03\\u63a7\\u7ec4)\", \"x\": [\"8-3\", \"8-4\", \"9-1\", \"9-2\", \"9-3\", \"9-4\"], \"y\": [null, 1.0, null, null, null, null], \"type\": \"scatter\", \"uid\": \"4b4b7ad0-cb6f-11e8-8247-509a4c0f1ffc\"}, {\"line\": {\"dash\": \"dot\"}, \"name\": \"\\u901a\\u8fc7\\u7387(\\u86cb\\u767d\\u548c\\u533b\\u5b66\\u7ec4)\", \"x\": [\"8-3\", \"8-4\", \"9-1\", \"9-2\", \"9-3\", \"9-4\"], \"y\": [1.0, 1.0, 1.0, null, 1.0, null], \"type\": \"scatter\", \"uid\": \"4b4b7ad1-cb6f-11e8-8d7f-509a4c0f1ffc\"}, {\"line\": {\"dash\": \"dash\"}, \"name\": \"\\u901a\\u8fc7\\u7387(\\u751f\\u7269\\u5b66DNA\\u7ec4)\", \"x\": [\"8-3\", \"8-4\", \"9-1\", \"9-2\", \"9-3\", \"9-4\"], \"y\": [null, null, 1.0, null, null, null], \"type\": \"scatter\", \"uid\": \"4b4b7ad2-cb6f-11e8-82d3-509a4c0f1ffc\"}],\n",
       "            {\"title\": \"\\u901a\\u8fc7\\u7387\\u5468\\u8d8b\\u52bf\\u56fe\", \"xaxis\": {\"mirror\": \"all\", \"nticks\": 20, \"showgrid\": true, \"showline\": true, \"title\": \"\\u5468\", \"zeroline\": true}, \"yaxis\": {\"mirror\": \"all\", \"nticks\": 20, \"showgrid\": true, \"showline\": true, \"title\": \"\\u901a\\u8fc7\\u7387\", \"zeroline\": true}},\n",
       "            {\"showLink\": true, \"linkText\": \"Export to plot.ly\"}\n",
       "        ).then(function () {return Plotly.addFrames('e7243987-0726-4588-9687-4cb6dea3ddda',{});}).then(function(){Plotly.animate('e7243987-0726-4588-9687-4cb6dea3ddda');})\n",
       "        });</script>"
      ]
     },
     "metadata": {},
     "output_type": "display_data"
    }
   ],
   "source": [
    "#myModule.upgrade_df(all_dict_1, [ ['通过率','一次转产通过数','转产通过数','/'] ])\n",
    "ss=myModule.format(all_dict_1 ,\"日期（格式“月-周次”）\" ,['通过率'])\n",
    "ss.add_group('组别')\n",
    "tt = myModule.myPlot(ss.groupby('mean'))\n",
    "tt.plot('line')"
   ]
  },
  {
   "cell_type": "markdown",
   "metadata": {},
   "source": [
    "### bug情况"
   ]
  },
  {
   "cell_type": "markdown",
   "metadata": {},
   "source": [
    "#### 应完成BUG数和完成BUG修复数"
   ]
  },
  {
   "cell_type": "code",
   "execution_count": 170,
   "metadata": {
    "collapsed": false
   },
   "outputs": [
    {
     "data": {
      "application/vnd.plotly.v1+json": {
       "data": [
        {
         "line": {
          "dash": "solid"
         },
         "name": "应完成BUG数(转录调控组)",
         "type": "scatter",
         "uid": "4b8157de-cb6f-11e8-bef6-509a4c0f1ffc",
         "x": [
          "8-3",
          "8-4",
          "9-1",
          "9-2",
          "9-3",
          "9-4"
         ],
         "y": [
          null,
          1,
          null,
          null,
          null,
          null
         ]
        },
        {
         "line": {
          "dash": "dot"
         },
         "name": "应完成BUG数(蛋白和医学组)",
         "type": "scatter",
         "uid": "4b8157df-cb6f-11e8-b937-509a4c0f1ffc",
         "x": [
          "8-3",
          "8-4",
          "9-1",
          "9-2",
          "9-3",
          "9-4"
         ],
         "y": [
          2,
          2,
          0,
          2,
          3,
          0
         ]
        },
        {
         "line": {
          "dash": "dash"
         },
         "name": "应完成BUG数(生物学DNA组)",
         "type": "scatter",
         "uid": "4b8157e0-cb6f-11e8-9435-509a4c0f1ffc",
         "x": [
          "8-3",
          "8-4",
          "9-1",
          "9-2",
          "9-3",
          "9-4"
         ],
         "y": [
          0,
          0,
          0,
          1,
          1,
          null
         ]
        },
        {
         "line": {
          "dash": "solid"
         },
         "name": "完成BUG修复数(转录调控组)",
         "type": "scatter",
         "uid": "4b8157e1-cb6f-11e8-adc4-509a4c0f1ffc",
         "x": [
          "8-3",
          "8-4",
          "9-1",
          "9-2",
          "9-3",
          "9-4"
         ],
         "y": [
          null,
          2,
          null,
          null,
          null,
          null
         ]
        },
        {
         "line": {
          "dash": "dot"
         },
         "name": "完成BUG修复数(蛋白和医学组)",
         "type": "scatter",
         "uid": "4b8157e2-cb6f-11e8-8f5f-509a4c0f1ffc",
         "x": [
          "8-3",
          "8-4",
          "9-1",
          "9-2",
          "9-3",
          "9-4"
         ],
         "y": [
          2,
          1,
          0,
          0,
          3,
          0
         ]
        },
        {
         "line": {
          "dash": "dash"
         },
         "name": "完成BUG修复数(生物学DNA组)",
         "type": "scatter",
         "uid": "4b8157e3-cb6f-11e8-a896-509a4c0f1ffc",
         "x": [
          "8-3",
          "8-4",
          "9-1",
          "9-2",
          "9-3",
          "9-4"
         ],
         "y": [
          0,
          1,
          0,
          1,
          1,
          null
         ]
        }
       ],
       "layout": {
        "title": "应完成BUG数&完成BUG修复数周趋势图",
        "xaxis": {
         "mirror": "all",
         "nticks": 20,
         "showgrid": true,
         "showline": true,
         "title": "周",
         "zeroline": true
        },
        "yaxis": {
         "mirror": "all",
         "nticks": 20,
         "showgrid": true,
         "showline": true,
         "title": "应完成BUG数&完成BUG修复数",
         "zeroline": true
        }
       }
      },
      "text/html": [
       "<div id=\"91aaacb8-d448-429e-972d-3213fabbc550\" style=\"height: 525px; width: 100%;\" class=\"plotly-graph-div\"></div><script type=\"text/javascript\">require([\"plotly\"], function(Plotly) { window.PLOTLYENV=window.PLOTLYENV || {};window.PLOTLYENV.BASE_URL=\"https://plot.ly\";\n",
       "        Plotly.plot(\n",
       "            '91aaacb8-d448-429e-972d-3213fabbc550',\n",
       "            [{\"line\": {\"dash\": \"solid\"}, \"name\": \"\\u5e94\\u5b8c\\u6210BUG\\u6570(\\u8f6c\\u5f55\\u8c03\\u63a7\\u7ec4)\", \"x\": [\"8-3\", \"8-4\", \"9-1\", \"9-2\", \"9-3\", \"9-4\"], \"y\": [null, 1.0, null, null, null, null], \"type\": \"scatter\", \"uid\": \"4b8157de-cb6f-11e8-bef6-509a4c0f1ffc\"}, {\"line\": {\"dash\": \"dot\"}, \"name\": \"\\u5e94\\u5b8c\\u6210BUG\\u6570(\\u86cb\\u767d\\u548c\\u533b\\u5b66\\u7ec4)\", \"x\": [\"8-3\", \"8-4\", \"9-1\", \"9-2\", \"9-3\", \"9-4\"], \"y\": [2.0, 2.0, 0.0, 2.0, 3.0, 0.0], \"type\": \"scatter\", \"uid\": \"4b8157df-cb6f-11e8-b937-509a4c0f1ffc\"}, {\"line\": {\"dash\": \"dash\"}, \"name\": \"\\u5e94\\u5b8c\\u6210BUG\\u6570(\\u751f\\u7269\\u5b66DNA\\u7ec4)\", \"x\": [\"8-3\", \"8-4\", \"9-1\", \"9-2\", \"9-3\", \"9-4\"], \"y\": [0.0, 0.0, 0.0, 1.0, 1.0, null], \"type\": \"scatter\", \"uid\": \"4b8157e0-cb6f-11e8-9435-509a4c0f1ffc\"}, {\"line\": {\"dash\": \"solid\"}, \"name\": \"\\u5b8c\\u6210BUG\\u4fee\\u590d\\u6570(\\u8f6c\\u5f55\\u8c03\\u63a7\\u7ec4)\", \"x\": [\"8-3\", \"8-4\", \"9-1\", \"9-2\", \"9-3\", \"9-4\"], \"y\": [null, 2.0, null, null, null, null], \"type\": \"scatter\", \"uid\": \"4b8157e1-cb6f-11e8-adc4-509a4c0f1ffc\"}, {\"line\": {\"dash\": \"dot\"}, \"name\": \"\\u5b8c\\u6210BUG\\u4fee\\u590d\\u6570(\\u86cb\\u767d\\u548c\\u533b\\u5b66\\u7ec4)\", \"x\": [\"8-3\", \"8-4\", \"9-1\", \"9-2\", \"9-3\", \"9-4\"], \"y\": [2.0, 1.0, 0.0, 0.0, 3.0, 0.0], \"type\": \"scatter\", \"uid\": \"4b8157e2-cb6f-11e8-8f5f-509a4c0f1ffc\"}, {\"line\": {\"dash\": \"dash\"}, \"name\": \"\\u5b8c\\u6210BUG\\u4fee\\u590d\\u6570(\\u751f\\u7269\\u5b66DNA\\u7ec4)\", \"x\": [\"8-3\", \"8-4\", \"9-1\", \"9-2\", \"9-3\", \"9-4\"], \"y\": [0.0, 1.0, 0.0, 1.0, 1.0, null], \"type\": \"scatter\", \"uid\": \"4b8157e3-cb6f-11e8-a896-509a4c0f1ffc\"}],\n",
       "            {\"title\": \"\\u5e94\\u5b8c\\u6210BUG\\u6570&\\u5b8c\\u6210BUG\\u4fee\\u590d\\u6570\\u5468\\u8d8b\\u52bf\\u56fe\", \"xaxis\": {\"mirror\": \"all\", \"nticks\": 20, \"showgrid\": true, \"showline\": true, \"title\": \"\\u5468\", \"zeroline\": true}, \"yaxis\": {\"mirror\": \"all\", \"nticks\": 20, \"showgrid\": true, \"showline\": true, \"title\": \"\\u5e94\\u5b8c\\u6210BUG\\u6570&\\u5b8c\\u6210BUG\\u4fee\\u590d\\u6570\", \"zeroline\": true}},\n",
       "            {\"showLink\": true, \"linkText\": \"Export to plot.ly\"}\n",
       "        ).then(function () {return Plotly.addFrames('91aaacb8-d448-429e-972d-3213fabbc550',{});}).then(function(){Plotly.animate('91aaacb8-d448-429e-972d-3213fabbc550');})\n",
       "        });</script>"
      ],
      "text/vnd.plotly.v1+html": [
       "<div id=\"91aaacb8-d448-429e-972d-3213fabbc550\" style=\"height: 525px; width: 100%;\" class=\"plotly-graph-div\"></div><script type=\"text/javascript\">require([\"plotly\"], function(Plotly) { window.PLOTLYENV=window.PLOTLYENV || {};window.PLOTLYENV.BASE_URL=\"https://plot.ly\";\n",
       "        Plotly.plot(\n",
       "            '91aaacb8-d448-429e-972d-3213fabbc550',\n",
       "            [{\"line\": {\"dash\": \"solid\"}, \"name\": \"\\u5e94\\u5b8c\\u6210BUG\\u6570(\\u8f6c\\u5f55\\u8c03\\u63a7\\u7ec4)\", \"x\": [\"8-3\", \"8-4\", \"9-1\", \"9-2\", \"9-3\", \"9-4\"], \"y\": [null, 1.0, null, null, null, null], \"type\": \"scatter\", \"uid\": \"4b8157de-cb6f-11e8-bef6-509a4c0f1ffc\"}, {\"line\": {\"dash\": \"dot\"}, \"name\": \"\\u5e94\\u5b8c\\u6210BUG\\u6570(\\u86cb\\u767d\\u548c\\u533b\\u5b66\\u7ec4)\", \"x\": [\"8-3\", \"8-4\", \"9-1\", \"9-2\", \"9-3\", \"9-4\"], \"y\": [2.0, 2.0, 0.0, 2.0, 3.0, 0.0], \"type\": \"scatter\", \"uid\": \"4b8157df-cb6f-11e8-b937-509a4c0f1ffc\"}, {\"line\": {\"dash\": \"dash\"}, \"name\": \"\\u5e94\\u5b8c\\u6210BUG\\u6570(\\u751f\\u7269\\u5b66DNA\\u7ec4)\", \"x\": [\"8-3\", \"8-4\", \"9-1\", \"9-2\", \"9-3\", \"9-4\"], \"y\": [0.0, 0.0, 0.0, 1.0, 1.0, null], \"type\": \"scatter\", \"uid\": \"4b8157e0-cb6f-11e8-9435-509a4c0f1ffc\"}, {\"line\": {\"dash\": \"solid\"}, \"name\": \"\\u5b8c\\u6210BUG\\u4fee\\u590d\\u6570(\\u8f6c\\u5f55\\u8c03\\u63a7\\u7ec4)\", \"x\": [\"8-3\", \"8-4\", \"9-1\", \"9-2\", \"9-3\", \"9-4\"], \"y\": [null, 2.0, null, null, null, null], \"type\": \"scatter\", \"uid\": \"4b8157e1-cb6f-11e8-adc4-509a4c0f1ffc\"}, {\"line\": {\"dash\": \"dot\"}, \"name\": \"\\u5b8c\\u6210BUG\\u4fee\\u590d\\u6570(\\u86cb\\u767d\\u548c\\u533b\\u5b66\\u7ec4)\", \"x\": [\"8-3\", \"8-4\", \"9-1\", \"9-2\", \"9-3\", \"9-4\"], \"y\": [2.0, 1.0, 0.0, 0.0, 3.0, 0.0], \"type\": \"scatter\", \"uid\": \"4b8157e2-cb6f-11e8-8f5f-509a4c0f1ffc\"}, {\"line\": {\"dash\": \"dash\"}, \"name\": \"\\u5b8c\\u6210BUG\\u4fee\\u590d\\u6570(\\u751f\\u7269\\u5b66DNA\\u7ec4)\", \"x\": [\"8-3\", \"8-4\", \"9-1\", \"9-2\", \"9-3\", \"9-4\"], \"y\": [0.0, 1.0, 0.0, 1.0, 1.0, null], \"type\": \"scatter\", \"uid\": \"4b8157e3-cb6f-11e8-a896-509a4c0f1ffc\"}],\n",
       "            {\"title\": \"\\u5e94\\u5b8c\\u6210BUG\\u6570&\\u5b8c\\u6210BUG\\u4fee\\u590d\\u6570\\u5468\\u8d8b\\u52bf\\u56fe\", \"xaxis\": {\"mirror\": \"all\", \"nticks\": 20, \"showgrid\": true, \"showline\": true, \"title\": \"\\u5468\", \"zeroline\": true}, \"yaxis\": {\"mirror\": \"all\", \"nticks\": 20, \"showgrid\": true, \"showline\": true, \"title\": \"\\u5e94\\u5b8c\\u6210BUG\\u6570&\\u5b8c\\u6210BUG\\u4fee\\u590d\\u6570\", \"zeroline\": true}},\n",
       "            {\"showLink\": true, \"linkText\": \"Export to plot.ly\"}\n",
       "        ).then(function () {return Plotly.addFrames('91aaacb8-d448-429e-972d-3213fabbc550',{});}).then(function(){Plotly.animate('91aaacb8-d448-429e-972d-3213fabbc550');})\n",
       "        });</script>"
      ]
     },
     "metadata": {},
     "output_type": "display_data"
    }
   ],
   "source": [
    "ss=myModule.format(all_dict_1 ,\"日期（格式“月-周次”）\" ,['应完成BUG数','完成BUG修复数'])\n",
    "ss.add_group('组别')\n",
    "tt = myModule.myPlot(ss.groupby('sum'))\n",
    "tt.plot('line')"
   ]
  },
  {
   "cell_type": "markdown",
   "metadata": {
    "hide_input": true
   },
   "source": [
    "## 个人情况"
   ]
  },
  {
   "cell_type": "markdown",
   "metadata": {},
   "source": [
    "### 转产情况"
   ]
  },
  {
   "cell_type": "markdown",
   "metadata": {},
   "source": [
    "#### 转产通过数、一次转产通过数"
   ]
  },
  {
   "cell_type": "code",
   "execution_count": 171,
   "metadata": {
    "collapsed": false
   },
   "outputs": [
    {
     "data": {
      "application/vnd.plotly.v1+json": {
       "data": [
        {
         "line": {
          "dash": "solid"
         },
         "name": "一次转产通过数(姚盟成)",
         "type": "scatter",
         "uid": "4bc76190-cb6f-11e8-b581-509a4c0f1ffc",
         "x": [
          "8-3",
          "8-4",
          "9-1",
          "9-2",
          "9-3",
          "9-4"
         ],
         "y": [
          null,
          1,
          null,
          null,
          null,
          null
         ]
        },
        {
         "line": {
          "dash": "dot"
         },
         "name": "一次转产通过数(刘慧玲)",
         "type": "scatter",
         "uid": "4bc76191-cb6f-11e8-afb1-509a4c0f1ffc",
         "x": [
          "8-3",
          "8-4",
          "9-1",
          "9-2",
          "9-3",
          "9-4"
         ],
         "y": [
          null,
          1,
          null,
          null,
          null,
          null
         ]
        },
        {
         "line": {
          "dash": "dash"
         },
         "name": "一次转产通过数(范旭宁)",
         "type": "scatter",
         "uid": "4bc76192-cb6f-11e8-82c8-509a4c0f1ffc",
         "x": [
          "8-3",
          "8-4",
          "9-1",
          "9-2",
          "9-3",
          "9-4"
         ],
         "y": [
          null,
          2,
          null,
          null,
          null,
          null
         ]
        },
        {
         "line": {
          "dash": "longdash"
         },
         "name": "一次转产通过数(封彦杰)",
         "type": "scatter",
         "uid": "4bc76193-cb6f-11e8-951f-509a4c0f1ffc",
         "x": [
          "8-3",
          "8-4",
          "9-1",
          "9-2",
          "9-3",
          "9-4"
         ],
         "y": [
          0,
          0,
          null,
          0,
          0,
          0
         ]
        },
        {
         "line": {
          "dash": "dashdot"
         },
         "name": "一次转产通过数(任雪)",
         "type": "scatter",
         "uid": "4bc76194-cb6f-11e8-bb85-509a4c0f1ffc",
         "x": [
          "8-3",
          "8-4",
          "9-1",
          "9-2",
          "9-3",
          "9-4"
         ],
         "y": [
          0,
          0,
          0,
          0,
          0,
          null
         ]
        },
        {
         "line": {
          "dash": "longdashdot"
         },
         "name": "一次转产通过数(刘江)",
         "type": "scatter",
         "uid": "4bc76195-cb6f-11e8-9759-509a4c0f1ffc",
         "x": [
          "8-3",
          "8-4",
          "9-1",
          "9-2",
          "9-3",
          "9-4"
         ],
         "y": [
          0,
          0,
          1,
          0,
          0,
          null
         ]
        },
        {
         "line": {
          "dash": "solid"
         },
         "name": "一次转产通过数(韩少怀)",
         "type": "scatter",
         "uid": "4bc76196-cb6f-11e8-a30c-509a4c0f1ffc",
         "x": [
          "8-3",
          "8-4",
          "9-1",
          "9-2",
          "9-3",
          "9-4"
         ],
         "y": [
          null,
          0,
          null,
          null,
          null,
          null
         ]
        },
        {
         "line": {
          "dash": "dot"
         },
         "name": "一次转产通过数(苏彦勋)",
         "type": "scatter",
         "uid": "4bc76197-cb6f-11e8-a171-509a4c0f1ffc",
         "x": [
          "8-3",
          "8-4",
          "9-1",
          "9-2",
          "9-3",
          "9-4"
         ],
         "y": [
          1,
          null,
          null,
          null,
          null,
          null
         ]
        },
        {
         "line": {
          "dash": "dash"
         },
         "name": "一次转产通过数(李华云)",
         "type": "scatter",
         "uid": "4bc76198-cb6f-11e8-bcd0-509a4c0f1ffc",
         "x": [
          "8-3",
          "8-4",
          "9-1",
          "9-2",
          "9-3",
          "9-4"
         ],
         "y": [
          null,
          2,
          null,
          null,
          1,
          null
         ]
        },
        {
         "line": {
          "dash": "longdash"
         },
         "name": "一次转产通过数(孟昊)",
         "type": "scatter",
         "uid": "4bc76199-cb6f-11e8-8861-509a4c0f1ffc",
         "x": [
          "8-3",
          "8-4",
          "9-1",
          "9-2",
          "9-3",
          "9-4"
         ],
         "y": [
          1,
          null,
          1,
          null,
          null,
          null
         ]
        },
        {
         "line": {
          "dash": "solid"
         },
         "name": "转产通过数(姚盟成)",
         "type": "scatter",
         "uid": "4bc7619a-cb6f-11e8-ad1e-509a4c0f1ffc",
         "x": [
          "8-3",
          "8-4",
          "9-1",
          "9-2",
          "9-3",
          "9-4"
         ],
         "y": [
          null,
          1,
          null,
          null,
          null,
          null
         ]
        },
        {
         "line": {
          "dash": "dot"
         },
         "name": "转产通过数(刘慧玲)",
         "type": "scatter",
         "uid": "4bc7619b-cb6f-11e8-b7c3-509a4c0f1ffc",
         "x": [
          "8-3",
          "8-4",
          "9-1",
          "9-2",
          "9-3",
          "9-4"
         ],
         "y": [
          null,
          1,
          null,
          null,
          null,
          null
         ]
        },
        {
         "line": {
          "dash": "dash"
         },
         "name": "转产通过数(范旭宁)",
         "type": "scatter",
         "uid": "4bc7619c-cb6f-11e8-8d25-509a4c0f1ffc",
         "x": [
          "8-3",
          "8-4",
          "9-1",
          "9-2",
          "9-3",
          "9-4"
         ],
         "y": [
          null,
          2,
          null,
          null,
          null,
          null
         ]
        },
        {
         "line": {
          "dash": "longdash"
         },
         "name": "转产通过数(封彦杰)",
         "type": "scatter",
         "uid": "4bc7619d-cb6f-11e8-81d7-509a4c0f1ffc",
         "x": [
          "8-3",
          "8-4",
          "9-1",
          "9-2",
          "9-3",
          "9-4"
         ],
         "y": [
          0,
          0,
          null,
          0,
          0,
          0
         ]
        },
        {
         "line": {
          "dash": "dashdot"
         },
         "name": "转产通过数(任雪)",
         "type": "scatter",
         "uid": "4bc7619e-cb6f-11e8-95c4-509a4c0f1ffc",
         "x": [
          "8-3",
          "8-4",
          "9-1",
          "9-2",
          "9-3",
          "9-4"
         ],
         "y": [
          0,
          0,
          0,
          0,
          0,
          null
         ]
        },
        {
         "line": {
          "dash": "longdashdot"
         },
         "name": "转产通过数(刘江)",
         "type": "scatter",
         "uid": "4bc7619f-cb6f-11e8-82aa-509a4c0f1ffc",
         "x": [
          "8-3",
          "8-4",
          "9-1",
          "9-2",
          "9-3",
          "9-4"
         ],
         "y": [
          0,
          0,
          1,
          0,
          0,
          null
         ]
        },
        {
         "line": {
          "dash": "solid"
         },
         "name": "转产通过数(韩少怀)",
         "type": "scatter",
         "uid": "4bc761a0-cb6f-11e8-8e84-509a4c0f1ffc",
         "x": [
          "8-3",
          "8-4",
          "9-1",
          "9-2",
          "9-3",
          "9-4"
         ],
         "y": [
          null,
          0,
          null,
          null,
          null,
          null
         ]
        },
        {
         "line": {
          "dash": "dot"
         },
         "name": "转产通过数(苏彦勋)",
         "type": "scatter",
         "uid": "4bc761a1-cb6f-11e8-81b0-509a4c0f1ffc",
         "x": [
          "8-3",
          "8-4",
          "9-1",
          "9-2",
          "9-3",
          "9-4"
         ],
         "y": [
          1,
          null,
          null,
          null,
          null,
          null
         ]
        },
        {
         "line": {
          "dash": "dash"
         },
         "name": "转产通过数(李华云)",
         "type": "scatter",
         "uid": "4bc761a2-cb6f-11e8-9144-509a4c0f1ffc",
         "x": [
          "8-3",
          "8-4",
          "9-1",
          "9-2",
          "9-3",
          "9-4"
         ],
         "y": [
          null,
          2,
          null,
          null,
          1,
          null
         ]
        },
        {
         "line": {
          "dash": "longdash"
         },
         "name": "转产通过数(孟昊)",
         "type": "scatter",
         "uid": "4bc761a3-cb6f-11e8-84b5-509a4c0f1ffc",
         "x": [
          "8-3",
          "8-4",
          "9-1",
          "9-2",
          "9-3",
          "9-4"
         ],
         "y": [
          1,
          null,
          1,
          null,
          null,
          null
         ]
        }
       ],
       "layout": {
        "title": "一次转产通过数&转产通过数周趋势图",
        "xaxis": {
         "mirror": "all",
         "nticks": 20,
         "showgrid": true,
         "showline": true,
         "title": "周",
         "zeroline": true
        },
        "yaxis": {
         "mirror": "all",
         "nticks": 20,
         "showgrid": true,
         "showline": true,
         "title": "一次转产通过数&转产通过数",
         "zeroline": true
        }
       }
      },
      "text/html": [
       "<div id=\"f02560a6-dc40-4840-8152-4f92d9fbc8f6\" style=\"height: 525px; width: 100%;\" class=\"plotly-graph-div\"></div><script type=\"text/javascript\">require([\"plotly\"], function(Plotly) { window.PLOTLYENV=window.PLOTLYENV || {};window.PLOTLYENV.BASE_URL=\"https://plot.ly\";\n",
       "        Plotly.plot(\n",
       "            'f02560a6-dc40-4840-8152-4f92d9fbc8f6',\n",
       "            [{\"line\": {\"dash\": \"solid\"}, \"name\": \"\\u4e00\\u6b21\\u8f6c\\u4ea7\\u901a\\u8fc7\\u6570(\\u59da\\u76df\\u6210)\", \"x\": [\"8-3\", \"8-4\", \"9-1\", \"9-2\", \"9-3\", \"9-4\"], \"y\": [null, 1.0, null, null, null, null], \"type\": \"scatter\", \"uid\": \"4bc76190-cb6f-11e8-b581-509a4c0f1ffc\"}, {\"line\": {\"dash\": \"dot\"}, \"name\": \"\\u4e00\\u6b21\\u8f6c\\u4ea7\\u901a\\u8fc7\\u6570(\\u5218\\u6167\\u73b2)\", \"x\": [\"8-3\", \"8-4\", \"9-1\", \"9-2\", \"9-3\", \"9-4\"], \"y\": [null, 1.0, null, null, null, null], \"type\": \"scatter\", \"uid\": \"4bc76191-cb6f-11e8-afb1-509a4c0f1ffc\"}, {\"line\": {\"dash\": \"dash\"}, \"name\": \"\\u4e00\\u6b21\\u8f6c\\u4ea7\\u901a\\u8fc7\\u6570(\\u8303\\u65ed\\u5b81)\", \"x\": [\"8-3\", \"8-4\", \"9-1\", \"9-2\", \"9-3\", \"9-4\"], \"y\": [null, 2.0, null, null, null, null], \"type\": \"scatter\", \"uid\": \"4bc76192-cb6f-11e8-82c8-509a4c0f1ffc\"}, {\"line\": {\"dash\": \"longdash\"}, \"name\": \"\\u4e00\\u6b21\\u8f6c\\u4ea7\\u901a\\u8fc7\\u6570(\\u5c01\\u5f66\\u6770)\", \"x\": [\"8-3\", \"8-4\", \"9-1\", \"9-2\", \"9-3\", \"9-4\"], \"y\": [0.0, 0.0, null, 0.0, 0.0, 0.0], \"type\": \"scatter\", \"uid\": \"4bc76193-cb6f-11e8-951f-509a4c0f1ffc\"}, {\"line\": {\"dash\": \"dashdot\"}, \"name\": \"\\u4e00\\u6b21\\u8f6c\\u4ea7\\u901a\\u8fc7\\u6570(\\u4efb\\u96ea)\", \"x\": [\"8-3\", \"8-4\", \"9-1\", \"9-2\", \"9-3\", \"9-4\"], \"y\": [0.0, 0.0, 0.0, 0.0, 0.0, null], \"type\": \"scatter\", \"uid\": \"4bc76194-cb6f-11e8-bb85-509a4c0f1ffc\"}, {\"line\": {\"dash\": \"longdashdot\"}, \"name\": \"\\u4e00\\u6b21\\u8f6c\\u4ea7\\u901a\\u8fc7\\u6570(\\u5218\\u6c5f)\", \"x\": [\"8-3\", \"8-4\", \"9-1\", \"9-2\", \"9-3\", \"9-4\"], \"y\": [0.0, 0.0, 1.0, 0.0, 0.0, null], \"type\": \"scatter\", \"uid\": \"4bc76195-cb6f-11e8-9759-509a4c0f1ffc\"}, {\"line\": {\"dash\": \"solid\"}, \"name\": \"\\u4e00\\u6b21\\u8f6c\\u4ea7\\u901a\\u8fc7\\u6570(\\u97e9\\u5c11\\u6000)\", \"x\": [\"8-3\", \"8-4\", \"9-1\", \"9-2\", \"9-3\", \"9-4\"], \"y\": [null, 0.0, null, null, null, null], \"type\": \"scatter\", \"uid\": \"4bc76196-cb6f-11e8-a30c-509a4c0f1ffc\"}, {\"line\": {\"dash\": \"dot\"}, \"name\": \"\\u4e00\\u6b21\\u8f6c\\u4ea7\\u901a\\u8fc7\\u6570(\\u82cf\\u5f66\\u52cb)\", \"x\": [\"8-3\", \"8-4\", \"9-1\", \"9-2\", \"9-3\", \"9-4\"], \"y\": [1.0, null, null, null, null, null], \"type\": \"scatter\", \"uid\": \"4bc76197-cb6f-11e8-a171-509a4c0f1ffc\"}, {\"line\": {\"dash\": \"dash\"}, \"name\": \"\\u4e00\\u6b21\\u8f6c\\u4ea7\\u901a\\u8fc7\\u6570(\\u674e\\u534e\\u4e91)\", \"x\": [\"8-3\", \"8-4\", \"9-1\", \"9-2\", \"9-3\", \"9-4\"], \"y\": [null, 2.0, null, null, 1.0, null], \"type\": \"scatter\", \"uid\": \"4bc76198-cb6f-11e8-bcd0-509a4c0f1ffc\"}, {\"line\": {\"dash\": \"longdash\"}, \"name\": \"\\u4e00\\u6b21\\u8f6c\\u4ea7\\u901a\\u8fc7\\u6570(\\u5b5f\\u660a)\", \"x\": [\"8-3\", \"8-4\", \"9-1\", \"9-2\", \"9-3\", \"9-4\"], \"y\": [1.0, null, 1.0, null, null, null], \"type\": \"scatter\", \"uid\": \"4bc76199-cb6f-11e8-8861-509a4c0f1ffc\"}, {\"line\": {\"dash\": \"solid\"}, \"name\": \"\\u8f6c\\u4ea7\\u901a\\u8fc7\\u6570(\\u59da\\u76df\\u6210)\", \"x\": [\"8-3\", \"8-4\", \"9-1\", \"9-2\", \"9-3\", \"9-4\"], \"y\": [null, 1.0, null, null, null, null], \"type\": \"scatter\", \"uid\": \"4bc7619a-cb6f-11e8-ad1e-509a4c0f1ffc\"}, {\"line\": {\"dash\": \"dot\"}, \"name\": \"\\u8f6c\\u4ea7\\u901a\\u8fc7\\u6570(\\u5218\\u6167\\u73b2)\", \"x\": [\"8-3\", \"8-4\", \"9-1\", \"9-2\", \"9-3\", \"9-4\"], \"y\": [null, 1.0, null, null, null, null], \"type\": \"scatter\", \"uid\": \"4bc7619b-cb6f-11e8-b7c3-509a4c0f1ffc\"}, {\"line\": {\"dash\": \"dash\"}, \"name\": \"\\u8f6c\\u4ea7\\u901a\\u8fc7\\u6570(\\u8303\\u65ed\\u5b81)\", \"x\": [\"8-3\", \"8-4\", \"9-1\", \"9-2\", \"9-3\", \"9-4\"], \"y\": [null, 2.0, null, null, null, null], \"type\": \"scatter\", \"uid\": \"4bc7619c-cb6f-11e8-8d25-509a4c0f1ffc\"}, {\"line\": {\"dash\": \"longdash\"}, \"name\": \"\\u8f6c\\u4ea7\\u901a\\u8fc7\\u6570(\\u5c01\\u5f66\\u6770)\", \"x\": [\"8-3\", \"8-4\", \"9-1\", \"9-2\", \"9-3\", \"9-4\"], \"y\": [0.0, 0.0, null, 0.0, 0.0, 0.0], \"type\": \"scatter\", \"uid\": \"4bc7619d-cb6f-11e8-81d7-509a4c0f1ffc\"}, {\"line\": {\"dash\": \"dashdot\"}, \"name\": \"\\u8f6c\\u4ea7\\u901a\\u8fc7\\u6570(\\u4efb\\u96ea)\", \"x\": [\"8-3\", \"8-4\", \"9-1\", \"9-2\", \"9-3\", \"9-4\"], \"y\": [0.0, 0.0, 0.0, 0.0, 0.0, null], \"type\": \"scatter\", \"uid\": \"4bc7619e-cb6f-11e8-95c4-509a4c0f1ffc\"}, {\"line\": {\"dash\": \"longdashdot\"}, \"name\": \"\\u8f6c\\u4ea7\\u901a\\u8fc7\\u6570(\\u5218\\u6c5f)\", \"x\": [\"8-3\", \"8-4\", \"9-1\", \"9-2\", \"9-3\", \"9-4\"], \"y\": [0.0, 0.0, 1.0, 0.0, 0.0, null], \"type\": \"scatter\", \"uid\": \"4bc7619f-cb6f-11e8-82aa-509a4c0f1ffc\"}, {\"line\": {\"dash\": \"solid\"}, \"name\": \"\\u8f6c\\u4ea7\\u901a\\u8fc7\\u6570(\\u97e9\\u5c11\\u6000)\", \"x\": [\"8-3\", \"8-4\", \"9-1\", \"9-2\", \"9-3\", \"9-4\"], \"y\": [null, 0.0, null, null, null, null], \"type\": \"scatter\", \"uid\": \"4bc761a0-cb6f-11e8-8e84-509a4c0f1ffc\"}, {\"line\": {\"dash\": \"dot\"}, \"name\": \"\\u8f6c\\u4ea7\\u901a\\u8fc7\\u6570(\\u82cf\\u5f66\\u52cb)\", \"x\": [\"8-3\", \"8-4\", \"9-1\", \"9-2\", \"9-3\", \"9-4\"], \"y\": [1.0, null, null, null, null, null], \"type\": \"scatter\", \"uid\": \"4bc761a1-cb6f-11e8-81b0-509a4c0f1ffc\"}, {\"line\": {\"dash\": \"dash\"}, \"name\": \"\\u8f6c\\u4ea7\\u901a\\u8fc7\\u6570(\\u674e\\u534e\\u4e91)\", \"x\": [\"8-3\", \"8-4\", \"9-1\", \"9-2\", \"9-3\", \"9-4\"], \"y\": [null, 2.0, null, null, 1.0, null], \"type\": \"scatter\", \"uid\": \"4bc761a2-cb6f-11e8-9144-509a4c0f1ffc\"}, {\"line\": {\"dash\": \"longdash\"}, \"name\": \"\\u8f6c\\u4ea7\\u901a\\u8fc7\\u6570(\\u5b5f\\u660a)\", \"x\": [\"8-3\", \"8-4\", \"9-1\", \"9-2\", \"9-3\", \"9-4\"], \"y\": [1.0, null, 1.0, null, null, null], \"type\": \"scatter\", \"uid\": \"4bc761a3-cb6f-11e8-84b5-509a4c0f1ffc\"}],\n",
       "            {\"title\": \"\\u4e00\\u6b21\\u8f6c\\u4ea7\\u901a\\u8fc7\\u6570&\\u8f6c\\u4ea7\\u901a\\u8fc7\\u6570\\u5468\\u8d8b\\u52bf\\u56fe\", \"xaxis\": {\"mirror\": \"all\", \"nticks\": 20, \"showgrid\": true, \"showline\": true, \"title\": \"\\u5468\", \"zeroline\": true}, \"yaxis\": {\"mirror\": \"all\", \"nticks\": 20, \"showgrid\": true, \"showline\": true, \"title\": \"\\u4e00\\u6b21\\u8f6c\\u4ea7\\u901a\\u8fc7\\u6570&\\u8f6c\\u4ea7\\u901a\\u8fc7\\u6570\", \"zeroline\": true}},\n",
       "            {\"showLink\": true, \"linkText\": \"Export to plot.ly\"}\n",
       "        ).then(function () {return Plotly.addFrames('f02560a6-dc40-4840-8152-4f92d9fbc8f6',{});}).then(function(){Plotly.animate('f02560a6-dc40-4840-8152-4f92d9fbc8f6');})\n",
       "        });</script>"
      ],
      "text/vnd.plotly.v1+html": [
       "<div id=\"f02560a6-dc40-4840-8152-4f92d9fbc8f6\" style=\"height: 525px; width: 100%;\" class=\"plotly-graph-div\"></div><script type=\"text/javascript\">require([\"plotly\"], function(Plotly) { window.PLOTLYENV=window.PLOTLYENV || {};window.PLOTLYENV.BASE_URL=\"https://plot.ly\";\n",
       "        Plotly.plot(\n",
       "            'f02560a6-dc40-4840-8152-4f92d9fbc8f6',\n",
       "            [{\"line\": {\"dash\": \"solid\"}, \"name\": \"\\u4e00\\u6b21\\u8f6c\\u4ea7\\u901a\\u8fc7\\u6570(\\u59da\\u76df\\u6210)\", \"x\": [\"8-3\", \"8-4\", \"9-1\", \"9-2\", \"9-3\", \"9-4\"], \"y\": [null, 1.0, null, null, null, null], \"type\": \"scatter\", \"uid\": \"4bc76190-cb6f-11e8-b581-509a4c0f1ffc\"}, {\"line\": {\"dash\": \"dot\"}, \"name\": \"\\u4e00\\u6b21\\u8f6c\\u4ea7\\u901a\\u8fc7\\u6570(\\u5218\\u6167\\u73b2)\", \"x\": [\"8-3\", \"8-4\", \"9-1\", \"9-2\", \"9-3\", \"9-4\"], \"y\": [null, 1.0, null, null, null, null], \"type\": \"scatter\", \"uid\": \"4bc76191-cb6f-11e8-afb1-509a4c0f1ffc\"}, {\"line\": {\"dash\": \"dash\"}, \"name\": \"\\u4e00\\u6b21\\u8f6c\\u4ea7\\u901a\\u8fc7\\u6570(\\u8303\\u65ed\\u5b81)\", \"x\": [\"8-3\", \"8-4\", \"9-1\", \"9-2\", \"9-3\", \"9-4\"], \"y\": [null, 2.0, null, null, null, null], \"type\": \"scatter\", \"uid\": \"4bc76192-cb6f-11e8-82c8-509a4c0f1ffc\"}, {\"line\": {\"dash\": \"longdash\"}, \"name\": \"\\u4e00\\u6b21\\u8f6c\\u4ea7\\u901a\\u8fc7\\u6570(\\u5c01\\u5f66\\u6770)\", \"x\": [\"8-3\", \"8-4\", \"9-1\", \"9-2\", \"9-3\", \"9-4\"], \"y\": [0.0, 0.0, null, 0.0, 0.0, 0.0], \"type\": \"scatter\", \"uid\": \"4bc76193-cb6f-11e8-951f-509a4c0f1ffc\"}, {\"line\": {\"dash\": \"dashdot\"}, \"name\": \"\\u4e00\\u6b21\\u8f6c\\u4ea7\\u901a\\u8fc7\\u6570(\\u4efb\\u96ea)\", \"x\": [\"8-3\", \"8-4\", \"9-1\", \"9-2\", \"9-3\", \"9-4\"], \"y\": [0.0, 0.0, 0.0, 0.0, 0.0, null], \"type\": \"scatter\", \"uid\": \"4bc76194-cb6f-11e8-bb85-509a4c0f1ffc\"}, {\"line\": {\"dash\": \"longdashdot\"}, \"name\": \"\\u4e00\\u6b21\\u8f6c\\u4ea7\\u901a\\u8fc7\\u6570(\\u5218\\u6c5f)\", \"x\": [\"8-3\", \"8-4\", \"9-1\", \"9-2\", \"9-3\", \"9-4\"], \"y\": [0.0, 0.0, 1.0, 0.0, 0.0, null], \"type\": \"scatter\", \"uid\": \"4bc76195-cb6f-11e8-9759-509a4c0f1ffc\"}, {\"line\": {\"dash\": \"solid\"}, \"name\": \"\\u4e00\\u6b21\\u8f6c\\u4ea7\\u901a\\u8fc7\\u6570(\\u97e9\\u5c11\\u6000)\", \"x\": [\"8-3\", \"8-4\", \"9-1\", \"9-2\", \"9-3\", \"9-4\"], \"y\": [null, 0.0, null, null, null, null], \"type\": \"scatter\", \"uid\": \"4bc76196-cb6f-11e8-a30c-509a4c0f1ffc\"}, {\"line\": {\"dash\": \"dot\"}, \"name\": \"\\u4e00\\u6b21\\u8f6c\\u4ea7\\u901a\\u8fc7\\u6570(\\u82cf\\u5f66\\u52cb)\", \"x\": [\"8-3\", \"8-4\", \"9-1\", \"9-2\", \"9-3\", \"9-4\"], \"y\": [1.0, null, null, null, null, null], \"type\": \"scatter\", \"uid\": \"4bc76197-cb6f-11e8-a171-509a4c0f1ffc\"}, {\"line\": {\"dash\": \"dash\"}, \"name\": \"\\u4e00\\u6b21\\u8f6c\\u4ea7\\u901a\\u8fc7\\u6570(\\u674e\\u534e\\u4e91)\", \"x\": [\"8-3\", \"8-4\", \"9-1\", \"9-2\", \"9-3\", \"9-4\"], \"y\": [null, 2.0, null, null, 1.0, null], \"type\": \"scatter\", \"uid\": \"4bc76198-cb6f-11e8-bcd0-509a4c0f1ffc\"}, {\"line\": {\"dash\": \"longdash\"}, \"name\": \"\\u4e00\\u6b21\\u8f6c\\u4ea7\\u901a\\u8fc7\\u6570(\\u5b5f\\u660a)\", \"x\": [\"8-3\", \"8-4\", \"9-1\", \"9-2\", \"9-3\", \"9-4\"], \"y\": [1.0, null, 1.0, null, null, null], \"type\": \"scatter\", \"uid\": \"4bc76199-cb6f-11e8-8861-509a4c0f1ffc\"}, {\"line\": {\"dash\": \"solid\"}, \"name\": \"\\u8f6c\\u4ea7\\u901a\\u8fc7\\u6570(\\u59da\\u76df\\u6210)\", \"x\": [\"8-3\", \"8-4\", \"9-1\", \"9-2\", \"9-3\", \"9-4\"], \"y\": [null, 1.0, null, null, null, null], \"type\": \"scatter\", \"uid\": \"4bc7619a-cb6f-11e8-ad1e-509a4c0f1ffc\"}, {\"line\": {\"dash\": \"dot\"}, \"name\": \"\\u8f6c\\u4ea7\\u901a\\u8fc7\\u6570(\\u5218\\u6167\\u73b2)\", \"x\": [\"8-3\", \"8-4\", \"9-1\", \"9-2\", \"9-3\", \"9-4\"], \"y\": [null, 1.0, null, null, null, null], \"type\": \"scatter\", \"uid\": \"4bc7619b-cb6f-11e8-b7c3-509a4c0f1ffc\"}, {\"line\": {\"dash\": \"dash\"}, \"name\": \"\\u8f6c\\u4ea7\\u901a\\u8fc7\\u6570(\\u8303\\u65ed\\u5b81)\", \"x\": [\"8-3\", \"8-4\", \"9-1\", \"9-2\", \"9-3\", \"9-4\"], \"y\": [null, 2.0, null, null, null, null], \"type\": \"scatter\", \"uid\": \"4bc7619c-cb6f-11e8-8d25-509a4c0f1ffc\"}, {\"line\": {\"dash\": \"longdash\"}, \"name\": \"\\u8f6c\\u4ea7\\u901a\\u8fc7\\u6570(\\u5c01\\u5f66\\u6770)\", \"x\": [\"8-3\", \"8-4\", \"9-1\", \"9-2\", \"9-3\", \"9-4\"], \"y\": [0.0, 0.0, null, 0.0, 0.0, 0.0], \"type\": \"scatter\", \"uid\": \"4bc7619d-cb6f-11e8-81d7-509a4c0f1ffc\"}, {\"line\": {\"dash\": \"dashdot\"}, \"name\": \"\\u8f6c\\u4ea7\\u901a\\u8fc7\\u6570(\\u4efb\\u96ea)\", \"x\": [\"8-3\", \"8-4\", \"9-1\", \"9-2\", \"9-3\", \"9-4\"], \"y\": [0.0, 0.0, 0.0, 0.0, 0.0, null], \"type\": \"scatter\", \"uid\": \"4bc7619e-cb6f-11e8-95c4-509a4c0f1ffc\"}, {\"line\": {\"dash\": \"longdashdot\"}, \"name\": \"\\u8f6c\\u4ea7\\u901a\\u8fc7\\u6570(\\u5218\\u6c5f)\", \"x\": [\"8-3\", \"8-4\", \"9-1\", \"9-2\", \"9-3\", \"9-4\"], \"y\": [0.0, 0.0, 1.0, 0.0, 0.0, null], \"type\": \"scatter\", \"uid\": \"4bc7619f-cb6f-11e8-82aa-509a4c0f1ffc\"}, {\"line\": {\"dash\": \"solid\"}, \"name\": \"\\u8f6c\\u4ea7\\u901a\\u8fc7\\u6570(\\u97e9\\u5c11\\u6000)\", \"x\": [\"8-3\", \"8-4\", \"9-1\", \"9-2\", \"9-3\", \"9-4\"], \"y\": [null, 0.0, null, null, null, null], \"type\": \"scatter\", \"uid\": \"4bc761a0-cb6f-11e8-8e84-509a4c0f1ffc\"}, {\"line\": {\"dash\": \"dot\"}, \"name\": \"\\u8f6c\\u4ea7\\u901a\\u8fc7\\u6570(\\u82cf\\u5f66\\u52cb)\", \"x\": [\"8-3\", \"8-4\", \"9-1\", \"9-2\", \"9-3\", \"9-4\"], \"y\": [1.0, null, null, null, null, null], \"type\": \"scatter\", \"uid\": \"4bc761a1-cb6f-11e8-81b0-509a4c0f1ffc\"}, {\"line\": {\"dash\": \"dash\"}, \"name\": \"\\u8f6c\\u4ea7\\u901a\\u8fc7\\u6570(\\u674e\\u534e\\u4e91)\", \"x\": [\"8-3\", \"8-4\", \"9-1\", \"9-2\", \"9-3\", \"9-4\"], \"y\": [null, 2.0, null, null, 1.0, null], \"type\": \"scatter\", \"uid\": \"4bc761a2-cb6f-11e8-9144-509a4c0f1ffc\"}, {\"line\": {\"dash\": \"longdash\"}, \"name\": \"\\u8f6c\\u4ea7\\u901a\\u8fc7\\u6570(\\u5b5f\\u660a)\", \"x\": [\"8-3\", \"8-4\", \"9-1\", \"9-2\", \"9-3\", \"9-4\"], \"y\": [1.0, null, 1.0, null, null, null], \"type\": \"scatter\", \"uid\": \"4bc761a3-cb6f-11e8-84b5-509a4c0f1ffc\"}],\n",
       "            {\"title\": \"\\u4e00\\u6b21\\u8f6c\\u4ea7\\u901a\\u8fc7\\u6570&\\u8f6c\\u4ea7\\u901a\\u8fc7\\u6570\\u5468\\u8d8b\\u52bf\\u56fe\", \"xaxis\": {\"mirror\": \"all\", \"nticks\": 20, \"showgrid\": true, \"showline\": true, \"title\": \"\\u5468\", \"zeroline\": true}, \"yaxis\": {\"mirror\": \"all\", \"nticks\": 20, \"showgrid\": true, \"showline\": true, \"title\": \"\\u4e00\\u6b21\\u8f6c\\u4ea7\\u901a\\u8fc7\\u6570&\\u8f6c\\u4ea7\\u901a\\u8fc7\\u6570\", \"zeroline\": true}},\n",
       "            {\"showLink\": true, \"linkText\": \"Export to plot.ly\"}\n",
       "        ).then(function () {return Plotly.addFrames('f02560a6-dc40-4840-8152-4f92d9fbc8f6',{});}).then(function(){Plotly.animate('f02560a6-dc40-4840-8152-4f92d9fbc8f6');})\n",
       "        });</script>"
      ]
     },
     "metadata": {},
     "output_type": "display_data"
    }
   ],
   "source": [
    "ss=myModule.format(all_dict_1 ,\"日期（格式“月-周次”）\" ,['转产通过数','一次转产通过数'])\n",
    "ss.add_group('负责人')\n",
    "tt = myModule.myPlot(ss.groupby('sum'))\n",
    "tt.plot('line')"
   ]
  },
  {
   "cell_type": "markdown",
   "metadata": {},
   "source": [
    "#### 转产通过率"
   ]
  },
  {
   "cell_type": "code",
   "execution_count": 172,
   "metadata": {
    "collapsed": false
   },
   "outputs": [
    {
     "data": {
      "application/vnd.plotly.v1+json": {
       "data": [
        {
         "line": {
          "dash": "solid"
         },
         "name": "通过率(姚盟成)",
         "type": "scatter",
         "uid": "4c0d9250-cb6f-11e8-bc0c-509a4c0f1ffc",
         "x": [
          "8-3",
          "8-4",
          "9-1",
          "9-2",
          "9-3",
          "9-4"
         ],
         "y": [
          null,
          1,
          null,
          null,
          null,
          null
         ]
        },
        {
         "line": {
          "dash": "dot"
         },
         "name": "通过率(刘慧玲)",
         "type": "scatter",
         "uid": "4c0d9251-cb6f-11e8-a014-509a4c0f1ffc",
         "x": [
          "8-3",
          "8-4",
          "9-1",
          "9-2",
          "9-3",
          "9-4"
         ],
         "y": [
          null,
          1,
          null,
          null,
          null,
          null
         ]
        },
        {
         "line": {
          "dash": "dash"
         },
         "name": "通过率(范旭宁)",
         "type": "scatter",
         "uid": "4c0d9252-cb6f-11e8-ba9b-509a4c0f1ffc",
         "x": [
          "8-3",
          "8-4",
          "9-1",
          "9-2",
          "9-3",
          "9-4"
         ],
         "y": [
          null,
          1,
          null,
          null,
          null,
          null
         ]
        },
        {
         "line": {
          "dash": "longdash"
         },
         "name": "通过率(封彦杰)",
         "type": "scatter",
         "uid": "4c0d9253-cb6f-11e8-9a6f-509a4c0f1ffc",
         "x": [
          "8-3",
          "8-4",
          "9-1",
          "9-2",
          "9-3",
          "9-4"
         ],
         "y": [
          null,
          null,
          null,
          null,
          null,
          null
         ]
        },
        {
         "line": {
          "dash": "dashdot"
         },
         "name": "通过率(任雪)",
         "type": "scatter",
         "uid": "4c0d9254-cb6f-11e8-9905-509a4c0f1ffc",
         "x": [
          "8-3",
          "8-4",
          "9-1",
          "9-2",
          "9-3",
          "9-4"
         ],
         "y": [
          null,
          null,
          null,
          null,
          null,
          null
         ]
        },
        {
         "line": {
          "dash": "longdashdot"
         },
         "name": "通过率(刘江)",
         "type": "scatter",
         "uid": "4c0d9255-cb6f-11e8-86bf-509a4c0f1ffc",
         "x": [
          "8-3",
          "8-4",
          "9-1",
          "9-2",
          "9-3",
          "9-4"
         ],
         "y": [
          null,
          null,
          1,
          null,
          null,
          null
         ]
        },
        {
         "line": {
          "dash": "solid"
         },
         "name": "通过率(韩少怀)",
         "type": "scatter",
         "uid": "4c0d9256-cb6f-11e8-b90a-509a4c0f1ffc",
         "x": [
          "8-3",
          "8-4",
          "9-1",
          "9-2",
          "9-3",
          "9-4"
         ],
         "y": [
          null,
          null,
          null,
          null,
          null,
          null
         ]
        },
        {
         "line": {
          "dash": "dot"
         },
         "name": "通过率(苏彦勋)",
         "type": "scatter",
         "uid": "4c0d9257-cb6f-11e8-8ed2-509a4c0f1ffc",
         "x": [
          "8-3",
          "8-4",
          "9-1",
          "9-2",
          "9-3",
          "9-4"
         ],
         "y": [
          1,
          null,
          null,
          null,
          null,
          null
         ]
        },
        {
         "line": {
          "dash": "dash"
         },
         "name": "通过率(李华云)",
         "type": "scatter",
         "uid": "4c0d9258-cb6f-11e8-b101-509a4c0f1ffc",
         "x": [
          "8-3",
          "8-4",
          "9-1",
          "9-2",
          "9-3",
          "9-4"
         ],
         "y": [
          null,
          1,
          null,
          null,
          1,
          null
         ]
        },
        {
         "line": {
          "dash": "longdash"
         },
         "name": "通过率(孟昊)",
         "type": "scatter",
         "uid": "4c0d9259-cb6f-11e8-b71d-509a4c0f1ffc",
         "x": [
          "8-3",
          "8-4",
          "9-1",
          "9-2",
          "9-3",
          "9-4"
         ],
         "y": [
          1,
          null,
          1,
          null,
          null,
          null
         ]
        }
       ],
       "layout": {
        "title": "通过率周趋势图",
        "xaxis": {
         "mirror": "all",
         "nticks": 20,
         "showgrid": true,
         "showline": true,
         "title": "周",
         "zeroline": true
        },
        "yaxis": {
         "mirror": "all",
         "nticks": 20,
         "showgrid": true,
         "showline": true,
         "title": "通过率",
         "zeroline": true
        }
       }
      },
      "text/html": [
       "<div id=\"f2e9b816-a589-4216-ac54-f48311bcc21a\" style=\"height: 525px; width: 100%;\" class=\"plotly-graph-div\"></div><script type=\"text/javascript\">require([\"plotly\"], function(Plotly) { window.PLOTLYENV=window.PLOTLYENV || {};window.PLOTLYENV.BASE_URL=\"https://plot.ly\";\n",
       "        Plotly.plot(\n",
       "            'f2e9b816-a589-4216-ac54-f48311bcc21a',\n",
       "            [{\"line\": {\"dash\": \"solid\"}, \"name\": \"\\u901a\\u8fc7\\u7387(\\u59da\\u76df\\u6210)\", \"x\": [\"8-3\", \"8-4\", \"9-1\", \"9-2\", \"9-3\", \"9-4\"], \"y\": [null, 1.0, null, null, null, null], \"type\": \"scatter\", \"uid\": \"4c0d9250-cb6f-11e8-bc0c-509a4c0f1ffc\"}, {\"line\": {\"dash\": \"dot\"}, \"name\": \"\\u901a\\u8fc7\\u7387(\\u5218\\u6167\\u73b2)\", \"x\": [\"8-3\", \"8-4\", \"9-1\", \"9-2\", \"9-3\", \"9-4\"], \"y\": [null, 1.0, null, null, null, null], \"type\": \"scatter\", \"uid\": \"4c0d9251-cb6f-11e8-a014-509a4c0f1ffc\"}, {\"line\": {\"dash\": \"dash\"}, \"name\": \"\\u901a\\u8fc7\\u7387(\\u8303\\u65ed\\u5b81)\", \"x\": [\"8-3\", \"8-4\", \"9-1\", \"9-2\", \"9-3\", \"9-4\"], \"y\": [null, 1.0, null, null, null, null], \"type\": \"scatter\", \"uid\": \"4c0d9252-cb6f-11e8-ba9b-509a4c0f1ffc\"}, {\"line\": {\"dash\": \"longdash\"}, \"name\": \"\\u901a\\u8fc7\\u7387(\\u5c01\\u5f66\\u6770)\", \"x\": [\"8-3\", \"8-4\", \"9-1\", \"9-2\", \"9-3\", \"9-4\"], \"y\": [null, null, null, null, null, null], \"type\": \"scatter\", \"uid\": \"4c0d9253-cb6f-11e8-9a6f-509a4c0f1ffc\"}, {\"line\": {\"dash\": \"dashdot\"}, \"name\": \"\\u901a\\u8fc7\\u7387(\\u4efb\\u96ea)\", \"x\": [\"8-3\", \"8-4\", \"9-1\", \"9-2\", \"9-3\", \"9-4\"], \"y\": [null, null, null, null, null, null], \"type\": \"scatter\", \"uid\": \"4c0d9254-cb6f-11e8-9905-509a4c0f1ffc\"}, {\"line\": {\"dash\": \"longdashdot\"}, \"name\": \"\\u901a\\u8fc7\\u7387(\\u5218\\u6c5f)\", \"x\": [\"8-3\", \"8-4\", \"9-1\", \"9-2\", \"9-3\", \"9-4\"], \"y\": [null, null, 1.0, null, null, null], \"type\": \"scatter\", \"uid\": \"4c0d9255-cb6f-11e8-86bf-509a4c0f1ffc\"}, {\"line\": {\"dash\": \"solid\"}, \"name\": \"\\u901a\\u8fc7\\u7387(\\u97e9\\u5c11\\u6000)\", \"x\": [\"8-3\", \"8-4\", \"9-1\", \"9-2\", \"9-3\", \"9-4\"], \"y\": [null, null, null, null, null, null], \"type\": \"scatter\", \"uid\": \"4c0d9256-cb6f-11e8-b90a-509a4c0f1ffc\"}, {\"line\": {\"dash\": \"dot\"}, \"name\": \"\\u901a\\u8fc7\\u7387(\\u82cf\\u5f66\\u52cb)\", \"x\": [\"8-3\", \"8-4\", \"9-1\", \"9-2\", \"9-3\", \"9-4\"], \"y\": [1.0, null, null, null, null, null], \"type\": \"scatter\", \"uid\": \"4c0d9257-cb6f-11e8-8ed2-509a4c0f1ffc\"}, {\"line\": {\"dash\": \"dash\"}, \"name\": \"\\u901a\\u8fc7\\u7387(\\u674e\\u534e\\u4e91)\", \"x\": [\"8-3\", \"8-4\", \"9-1\", \"9-2\", \"9-3\", \"9-4\"], \"y\": [null, 1.0, null, null, 1.0, null], \"type\": \"scatter\", \"uid\": \"4c0d9258-cb6f-11e8-b101-509a4c0f1ffc\"}, {\"line\": {\"dash\": \"longdash\"}, \"name\": \"\\u901a\\u8fc7\\u7387(\\u5b5f\\u660a)\", \"x\": [\"8-3\", \"8-4\", \"9-1\", \"9-2\", \"9-3\", \"9-4\"], \"y\": [1.0, null, 1.0, null, null, null], \"type\": \"scatter\", \"uid\": \"4c0d9259-cb6f-11e8-b71d-509a4c0f1ffc\"}],\n",
       "            {\"title\": \"\\u901a\\u8fc7\\u7387\\u5468\\u8d8b\\u52bf\\u56fe\", \"xaxis\": {\"mirror\": \"all\", \"nticks\": 20, \"showgrid\": true, \"showline\": true, \"title\": \"\\u5468\", \"zeroline\": true}, \"yaxis\": {\"mirror\": \"all\", \"nticks\": 20, \"showgrid\": true, \"showline\": true, \"title\": \"\\u901a\\u8fc7\\u7387\", \"zeroline\": true}},\n",
       "            {\"showLink\": true, \"linkText\": \"Export to plot.ly\"}\n",
       "        ).then(function () {return Plotly.addFrames('f2e9b816-a589-4216-ac54-f48311bcc21a',{});}).then(function(){Plotly.animate('f2e9b816-a589-4216-ac54-f48311bcc21a');})\n",
       "        });</script>"
      ],
      "text/vnd.plotly.v1+html": [
       "<div id=\"f2e9b816-a589-4216-ac54-f48311bcc21a\" style=\"height: 525px; width: 100%;\" class=\"plotly-graph-div\"></div><script type=\"text/javascript\">require([\"plotly\"], function(Plotly) { window.PLOTLYENV=window.PLOTLYENV || {};window.PLOTLYENV.BASE_URL=\"https://plot.ly\";\n",
       "        Plotly.plot(\n",
       "            'f2e9b816-a589-4216-ac54-f48311bcc21a',\n",
       "            [{\"line\": {\"dash\": \"solid\"}, \"name\": \"\\u901a\\u8fc7\\u7387(\\u59da\\u76df\\u6210)\", \"x\": [\"8-3\", \"8-4\", \"9-1\", \"9-2\", \"9-3\", \"9-4\"], \"y\": [null, 1.0, null, null, null, null], \"type\": \"scatter\", \"uid\": \"4c0d9250-cb6f-11e8-bc0c-509a4c0f1ffc\"}, {\"line\": {\"dash\": \"dot\"}, \"name\": \"\\u901a\\u8fc7\\u7387(\\u5218\\u6167\\u73b2)\", \"x\": [\"8-3\", \"8-4\", \"9-1\", \"9-2\", \"9-3\", \"9-4\"], \"y\": [null, 1.0, null, null, null, null], \"type\": \"scatter\", \"uid\": \"4c0d9251-cb6f-11e8-a014-509a4c0f1ffc\"}, {\"line\": {\"dash\": \"dash\"}, \"name\": \"\\u901a\\u8fc7\\u7387(\\u8303\\u65ed\\u5b81)\", \"x\": [\"8-3\", \"8-4\", \"9-1\", \"9-2\", \"9-3\", \"9-4\"], \"y\": [null, 1.0, null, null, null, null], \"type\": \"scatter\", \"uid\": \"4c0d9252-cb6f-11e8-ba9b-509a4c0f1ffc\"}, {\"line\": {\"dash\": \"longdash\"}, \"name\": \"\\u901a\\u8fc7\\u7387(\\u5c01\\u5f66\\u6770)\", \"x\": [\"8-3\", \"8-4\", \"9-1\", \"9-2\", \"9-3\", \"9-4\"], \"y\": [null, null, null, null, null, null], \"type\": \"scatter\", \"uid\": \"4c0d9253-cb6f-11e8-9a6f-509a4c0f1ffc\"}, {\"line\": {\"dash\": \"dashdot\"}, \"name\": \"\\u901a\\u8fc7\\u7387(\\u4efb\\u96ea)\", \"x\": [\"8-3\", \"8-4\", \"9-1\", \"9-2\", \"9-3\", \"9-4\"], \"y\": [null, null, null, null, null, null], \"type\": \"scatter\", \"uid\": \"4c0d9254-cb6f-11e8-9905-509a4c0f1ffc\"}, {\"line\": {\"dash\": \"longdashdot\"}, \"name\": \"\\u901a\\u8fc7\\u7387(\\u5218\\u6c5f)\", \"x\": [\"8-3\", \"8-4\", \"9-1\", \"9-2\", \"9-3\", \"9-4\"], \"y\": [null, null, 1.0, null, null, null], \"type\": \"scatter\", \"uid\": \"4c0d9255-cb6f-11e8-86bf-509a4c0f1ffc\"}, {\"line\": {\"dash\": \"solid\"}, \"name\": \"\\u901a\\u8fc7\\u7387(\\u97e9\\u5c11\\u6000)\", \"x\": [\"8-3\", \"8-4\", \"9-1\", \"9-2\", \"9-3\", \"9-4\"], \"y\": [null, null, null, null, null, null], \"type\": \"scatter\", \"uid\": \"4c0d9256-cb6f-11e8-b90a-509a4c0f1ffc\"}, {\"line\": {\"dash\": \"dot\"}, \"name\": \"\\u901a\\u8fc7\\u7387(\\u82cf\\u5f66\\u52cb)\", \"x\": [\"8-3\", \"8-4\", \"9-1\", \"9-2\", \"9-3\", \"9-4\"], \"y\": [1.0, null, null, null, null, null], \"type\": \"scatter\", \"uid\": \"4c0d9257-cb6f-11e8-8ed2-509a4c0f1ffc\"}, {\"line\": {\"dash\": \"dash\"}, \"name\": \"\\u901a\\u8fc7\\u7387(\\u674e\\u534e\\u4e91)\", \"x\": [\"8-3\", \"8-4\", \"9-1\", \"9-2\", \"9-3\", \"9-4\"], \"y\": [null, 1.0, null, null, 1.0, null], \"type\": \"scatter\", \"uid\": \"4c0d9258-cb6f-11e8-b101-509a4c0f1ffc\"}, {\"line\": {\"dash\": \"longdash\"}, \"name\": \"\\u901a\\u8fc7\\u7387(\\u5b5f\\u660a)\", \"x\": [\"8-3\", \"8-4\", \"9-1\", \"9-2\", \"9-3\", \"9-4\"], \"y\": [1.0, null, 1.0, null, null, null], \"type\": \"scatter\", \"uid\": \"4c0d9259-cb6f-11e8-b71d-509a4c0f1ffc\"}],\n",
       "            {\"title\": \"\\u901a\\u8fc7\\u7387\\u5468\\u8d8b\\u52bf\\u56fe\", \"xaxis\": {\"mirror\": \"all\", \"nticks\": 20, \"showgrid\": true, \"showline\": true, \"title\": \"\\u5468\", \"zeroline\": true}, \"yaxis\": {\"mirror\": \"all\", \"nticks\": 20, \"showgrid\": true, \"showline\": true, \"title\": \"\\u901a\\u8fc7\\u7387\", \"zeroline\": true}},\n",
       "            {\"showLink\": true, \"linkText\": \"Export to plot.ly\"}\n",
       "        ).then(function () {return Plotly.addFrames('f2e9b816-a589-4216-ac54-f48311bcc21a',{});}).then(function(){Plotly.animate('f2e9b816-a589-4216-ac54-f48311bcc21a');})\n",
       "        });</script>"
      ]
     },
     "metadata": {},
     "output_type": "display_data"
    }
   ],
   "source": [
    "ss=myModule.format(all_dict_1 ,\"日期（格式“月-周次”）\" ,['通过率'])\n",
    "ss.add_group('负责人')\n",
    "tt = myModule.myPlot(ss.groupby('mean'))\n",
    "tt.plot('line')"
   ]
  },
  {
   "cell_type": "markdown",
   "metadata": {},
   "source": [
    "### bug情况"
   ]
  },
  {
   "cell_type": "markdown",
   "metadata": {},
   "source": [
    "#### 应完成BUG数和完成BUG修复数"
   ]
  },
  {
   "cell_type": "code",
   "execution_count": 173,
   "metadata": {
    "collapsed": false
   },
   "outputs": [
    {
     "data": {
      "application/vnd.plotly.v1+json": {
       "data": [
        {
         "line": {
          "dash": "solid"
         },
         "name": "应完成BUG数(姚盟成)",
         "type": "scatter",
         "uid": "4c55bede-cb6f-11e8-aaf0-509a4c0f1ffc",
         "x": [
          "8-3",
          "8-4",
          "9-1",
          "9-2",
          "9-3",
          "9-4"
         ],
         "y": [
          null,
          0,
          null,
          null,
          null,
          null
         ]
        },
        {
         "line": {
          "dash": "dot"
         },
         "name": "应完成BUG数(刘慧玲)",
         "type": "scatter",
         "uid": "4c55bedf-cb6f-11e8-a044-509a4c0f1ffc",
         "x": [
          "8-3",
          "8-4",
          "9-1",
          "9-2",
          "9-3",
          "9-4"
         ],
         "y": [
          null,
          0,
          null,
          null,
          null,
          null
         ]
        },
        {
         "line": {
          "dash": "dash"
         },
         "name": "应完成BUG数(范旭宁)",
         "type": "scatter",
         "uid": "4c55bee0-cb6f-11e8-92d5-509a4c0f1ffc",
         "x": [
          "8-3",
          "8-4",
          "9-1",
          "9-2",
          "9-3",
          "9-4"
         ],
         "y": [
          null,
          1,
          null,
          null,
          null,
          null
         ]
        },
        {
         "line": {
          "dash": "longdash"
         },
         "name": "应完成BUG数(封彦杰)",
         "type": "scatter",
         "uid": "4c55bee1-cb6f-11e8-87c5-509a4c0f1ffc",
         "x": [
          "8-3",
          "8-4",
          "9-1",
          "9-2",
          "9-3",
          "9-4"
         ],
         "y": [
          0,
          2,
          null,
          2,
          3,
          0
         ]
        },
        {
         "line": {
          "dash": "dashdot"
         },
         "name": "应完成BUG数(任雪)",
         "type": "scatter",
         "uid": "4c55bee2-cb6f-11e8-84a6-509a4c0f1ffc",
         "x": [
          "8-3",
          "8-4",
          "9-1",
          "9-2",
          "9-3",
          "9-4"
         ],
         "y": [
          0,
          0,
          0,
          1,
          1,
          null
         ]
        },
        {
         "line": {
          "dash": "longdashdot"
         },
         "name": "应完成BUG数(刘江)",
         "type": "scatter",
         "uid": "4c55bee3-cb6f-11e8-9223-509a4c0f1ffc",
         "x": [
          "8-3",
          "8-4",
          "9-1",
          "9-2",
          "9-3",
          "9-4"
         ],
         "y": [
          0,
          0,
          0,
          0,
          0,
          null
         ]
        },
        {
         "line": {
          "dash": "solid"
         },
         "name": "应完成BUG数(韩少怀)",
         "type": "scatter",
         "uid": "4c55bee4-cb6f-11e8-93e4-509a4c0f1ffc",
         "x": [
          "8-3",
          "8-4",
          "9-1",
          "9-2",
          "9-3",
          "9-4"
         ],
         "y": [
          null,
          0,
          null,
          null,
          null,
          null
         ]
        },
        {
         "line": {
          "dash": "dot"
         },
         "name": "应完成BUG数(苏彦勋)",
         "type": "scatter",
         "uid": "4c55bee5-cb6f-11e8-8fd8-509a4c0f1ffc",
         "x": [
          "8-3",
          "8-4",
          "9-1",
          "9-2",
          "9-3",
          "9-4"
         ],
         "y": [
          2,
          null,
          null,
          null,
          null,
          null
         ]
        },
        {
         "line": {
          "dash": "dash"
         },
         "name": "应完成BUG数(李华云)",
         "type": "scatter",
         "uid": "4c55bee6-cb6f-11e8-9cf2-509a4c0f1ffc",
         "x": [
          "8-3",
          "8-4",
          "9-1",
          "9-2",
          "9-3",
          "9-4"
         ],
         "y": [
          null,
          0,
          null,
          null,
          0,
          null
         ]
        },
        {
         "line": {
          "dash": "longdash"
         },
         "name": "应完成BUG数(孟昊)",
         "type": "scatter",
         "uid": "4c55bee7-cb6f-11e8-8e81-509a4c0f1ffc",
         "x": [
          "8-3",
          "8-4",
          "9-1",
          "9-2",
          "9-3",
          "9-4"
         ],
         "y": [
          0,
          null,
          0,
          null,
          null,
          null
         ]
        },
        {
         "line": {
          "dash": "solid"
         },
         "name": "完成BUG修复数(姚盟成)",
         "type": "scatter",
         "uid": "4c55e5ee-cb6f-11e8-96de-509a4c0f1ffc",
         "x": [
          "8-3",
          "8-4",
          "9-1",
          "9-2",
          "9-3",
          "9-4"
         ],
         "y": [
          null,
          0,
          null,
          null,
          null,
          null
         ]
        },
        {
         "line": {
          "dash": "dot"
         },
         "name": "完成BUG修复数(刘慧玲)",
         "type": "scatter",
         "uid": "4c55e5ef-cb6f-11e8-918e-509a4c0f1ffc",
         "x": [
          "8-3",
          "8-4",
          "9-1",
          "9-2",
          "9-3",
          "9-4"
         ],
         "y": [
          null,
          0,
          null,
          null,
          null,
          null
         ]
        },
        {
         "line": {
          "dash": "dash"
         },
         "name": "完成BUG修复数(范旭宁)",
         "type": "scatter",
         "uid": "4c55e5f0-cb6f-11e8-953d-509a4c0f1ffc",
         "x": [
          "8-3",
          "8-4",
          "9-1",
          "9-2",
          "9-3",
          "9-4"
         ],
         "y": [
          null,
          0,
          null,
          null,
          null,
          null
         ]
        },
        {
         "line": {
          "dash": "longdash"
         },
         "name": "完成BUG修复数(封彦杰)",
         "type": "scatter",
         "uid": "4c55e5f1-cb6f-11e8-bc12-509a4c0f1ffc",
         "x": [
          "8-3",
          "8-4",
          "9-1",
          "9-2",
          "9-3",
          "9-4"
         ],
         "y": [
          1,
          1,
          null,
          0,
          3,
          0
         ]
        },
        {
         "line": {
          "dash": "dashdot"
         },
         "name": "完成BUG修复数(任雪)",
         "type": "scatter",
         "uid": "4c55e5f2-cb6f-11e8-b3e4-509a4c0f1ffc",
         "x": [
          "8-3",
          "8-4",
          "9-1",
          "9-2",
          "9-3",
          "9-4"
         ],
         "y": [
          0,
          1,
          0,
          1,
          1,
          null
         ]
        },
        {
         "line": {
          "dash": "longdashdot"
         },
         "name": "完成BUG修复数(刘江)",
         "type": "scatter",
         "uid": "4c55e5f3-cb6f-11e8-8731-509a4c0f1ffc",
         "x": [
          "8-3",
          "8-4",
          "9-1",
          "9-2",
          "9-3",
          "9-4"
         ],
         "y": [
          0,
          0,
          0,
          0,
          0,
          null
         ]
        },
        {
         "line": {
          "dash": "solid"
         },
         "name": "完成BUG修复数(韩少怀)",
         "type": "scatter",
         "uid": "4c55e5f4-cb6f-11e8-9fe5-509a4c0f1ffc",
         "x": [
          "8-3",
          "8-4",
          "9-1",
          "9-2",
          "9-3",
          "9-4"
         ],
         "y": [
          null,
          2,
          null,
          null,
          null,
          null
         ]
        },
        {
         "line": {
          "dash": "dot"
         },
         "name": "完成BUG修复数(苏彦勋)",
         "type": "scatter",
         "uid": "4c55e5f5-cb6f-11e8-8449-509a4c0f1ffc",
         "x": [
          "8-3",
          "8-4",
          "9-1",
          "9-2",
          "9-3",
          "9-4"
         ],
         "y": [
          1,
          null,
          null,
          null,
          null,
          null
         ]
        },
        {
         "line": {
          "dash": "dash"
         },
         "name": "完成BUG修复数(李华云)",
         "type": "scatter",
         "uid": "4c55e5f6-cb6f-11e8-85e3-509a4c0f1ffc",
         "x": [
          "8-3",
          "8-4",
          "9-1",
          "9-2",
          "9-3",
          "9-4"
         ],
         "y": [
          null,
          0,
          null,
          null,
          0,
          null
         ]
        },
        {
         "line": {
          "dash": "longdash"
         },
         "name": "完成BUG修复数(孟昊)",
         "type": "scatter",
         "uid": "4c55e5f7-cb6f-11e8-9b6d-509a4c0f1ffc",
         "x": [
          "8-3",
          "8-4",
          "9-1",
          "9-2",
          "9-3",
          "9-4"
         ],
         "y": [
          0,
          null,
          0,
          null,
          null,
          null
         ]
        }
       ],
       "layout": {
        "title": "应完成BUG数&完成BUG修复数周趋势图",
        "xaxis": {
         "mirror": "all",
         "nticks": 20,
         "showgrid": true,
         "showline": true,
         "title": "周",
         "zeroline": true
        },
        "yaxis": {
         "mirror": "all",
         "nticks": 20,
         "showgrid": true,
         "showline": true,
         "title": "应完成BUG数&完成BUG修复数",
         "zeroline": true
        }
       }
      },
      "text/html": [
       "<div id=\"a0b9ab68-bf38-48ba-ab32-cdb2b65e445a\" style=\"height: 525px; width: 100%;\" class=\"plotly-graph-div\"></div><script type=\"text/javascript\">require([\"plotly\"], function(Plotly) { window.PLOTLYENV=window.PLOTLYENV || {};window.PLOTLYENV.BASE_URL=\"https://plot.ly\";\n",
       "        Plotly.plot(\n",
       "            'a0b9ab68-bf38-48ba-ab32-cdb2b65e445a',\n",
       "            [{\"line\": {\"dash\": \"solid\"}, \"name\": \"\\u5e94\\u5b8c\\u6210BUG\\u6570(\\u59da\\u76df\\u6210)\", \"x\": [\"8-3\", \"8-4\", \"9-1\", \"9-2\", \"9-3\", \"9-4\"], \"y\": [null, 0.0, null, null, null, null], \"type\": \"scatter\", \"uid\": \"4c55bede-cb6f-11e8-aaf0-509a4c0f1ffc\"}, {\"line\": {\"dash\": \"dot\"}, \"name\": \"\\u5e94\\u5b8c\\u6210BUG\\u6570(\\u5218\\u6167\\u73b2)\", \"x\": [\"8-3\", \"8-4\", \"9-1\", \"9-2\", \"9-3\", \"9-4\"], \"y\": [null, 0.0, null, null, null, null], \"type\": \"scatter\", \"uid\": \"4c55bedf-cb6f-11e8-a044-509a4c0f1ffc\"}, {\"line\": {\"dash\": \"dash\"}, \"name\": \"\\u5e94\\u5b8c\\u6210BUG\\u6570(\\u8303\\u65ed\\u5b81)\", \"x\": [\"8-3\", \"8-4\", \"9-1\", \"9-2\", \"9-3\", \"9-4\"], \"y\": [null, 1.0, null, null, null, null], \"type\": \"scatter\", \"uid\": \"4c55bee0-cb6f-11e8-92d5-509a4c0f1ffc\"}, {\"line\": {\"dash\": \"longdash\"}, \"name\": \"\\u5e94\\u5b8c\\u6210BUG\\u6570(\\u5c01\\u5f66\\u6770)\", \"x\": [\"8-3\", \"8-4\", \"9-1\", \"9-2\", \"9-3\", \"9-4\"], \"y\": [0.0, 2.0, null, 2.0, 3.0, 0.0], \"type\": \"scatter\", \"uid\": \"4c55bee1-cb6f-11e8-87c5-509a4c0f1ffc\"}, {\"line\": {\"dash\": \"dashdot\"}, \"name\": \"\\u5e94\\u5b8c\\u6210BUG\\u6570(\\u4efb\\u96ea)\", \"x\": [\"8-3\", \"8-4\", \"9-1\", \"9-2\", \"9-3\", \"9-4\"], \"y\": [0.0, 0.0, 0.0, 1.0, 1.0, null], \"type\": \"scatter\", \"uid\": \"4c55bee2-cb6f-11e8-84a6-509a4c0f1ffc\"}, {\"line\": {\"dash\": \"longdashdot\"}, \"name\": \"\\u5e94\\u5b8c\\u6210BUG\\u6570(\\u5218\\u6c5f)\", \"x\": [\"8-3\", \"8-4\", \"9-1\", \"9-2\", \"9-3\", \"9-4\"], \"y\": [0.0, 0.0, 0.0, 0.0, 0.0, null], \"type\": \"scatter\", \"uid\": \"4c55bee3-cb6f-11e8-9223-509a4c0f1ffc\"}, {\"line\": {\"dash\": \"solid\"}, \"name\": \"\\u5e94\\u5b8c\\u6210BUG\\u6570(\\u97e9\\u5c11\\u6000)\", \"x\": [\"8-3\", \"8-4\", \"9-1\", \"9-2\", \"9-3\", \"9-4\"], \"y\": [null, 0.0, null, null, null, null], \"type\": \"scatter\", \"uid\": \"4c55bee4-cb6f-11e8-93e4-509a4c0f1ffc\"}, {\"line\": {\"dash\": \"dot\"}, \"name\": \"\\u5e94\\u5b8c\\u6210BUG\\u6570(\\u82cf\\u5f66\\u52cb)\", \"x\": [\"8-3\", \"8-4\", \"9-1\", \"9-2\", \"9-3\", \"9-4\"], \"y\": [2.0, null, null, null, null, null], \"type\": \"scatter\", \"uid\": \"4c55bee5-cb6f-11e8-8fd8-509a4c0f1ffc\"}, {\"line\": {\"dash\": \"dash\"}, \"name\": \"\\u5e94\\u5b8c\\u6210BUG\\u6570(\\u674e\\u534e\\u4e91)\", \"x\": [\"8-3\", \"8-4\", \"9-1\", \"9-2\", \"9-3\", \"9-4\"], \"y\": [null, 0.0, null, null, 0.0, null], \"type\": \"scatter\", \"uid\": \"4c55bee6-cb6f-11e8-9cf2-509a4c0f1ffc\"}, {\"line\": {\"dash\": \"longdash\"}, \"name\": \"\\u5e94\\u5b8c\\u6210BUG\\u6570(\\u5b5f\\u660a)\", \"x\": [\"8-3\", \"8-4\", \"9-1\", \"9-2\", \"9-3\", \"9-4\"], \"y\": [0.0, null, 0.0, null, null, null], \"type\": \"scatter\", \"uid\": \"4c55bee7-cb6f-11e8-8e81-509a4c0f1ffc\"}, {\"line\": {\"dash\": \"solid\"}, \"name\": \"\\u5b8c\\u6210BUG\\u4fee\\u590d\\u6570(\\u59da\\u76df\\u6210)\", \"x\": [\"8-3\", \"8-4\", \"9-1\", \"9-2\", \"9-3\", \"9-4\"], \"y\": [null, 0.0, null, null, null, null], \"type\": \"scatter\", \"uid\": \"4c55e5ee-cb6f-11e8-96de-509a4c0f1ffc\"}, {\"line\": {\"dash\": \"dot\"}, \"name\": \"\\u5b8c\\u6210BUG\\u4fee\\u590d\\u6570(\\u5218\\u6167\\u73b2)\", \"x\": [\"8-3\", \"8-4\", \"9-1\", \"9-2\", \"9-3\", \"9-4\"], \"y\": [null, 0.0, null, null, null, null], \"type\": \"scatter\", \"uid\": \"4c55e5ef-cb6f-11e8-918e-509a4c0f1ffc\"}, {\"line\": {\"dash\": \"dash\"}, \"name\": \"\\u5b8c\\u6210BUG\\u4fee\\u590d\\u6570(\\u8303\\u65ed\\u5b81)\", \"x\": [\"8-3\", \"8-4\", \"9-1\", \"9-2\", \"9-3\", \"9-4\"], \"y\": [null, 0.0, null, null, null, null], \"type\": \"scatter\", \"uid\": \"4c55e5f0-cb6f-11e8-953d-509a4c0f1ffc\"}, {\"line\": {\"dash\": \"longdash\"}, \"name\": \"\\u5b8c\\u6210BUG\\u4fee\\u590d\\u6570(\\u5c01\\u5f66\\u6770)\", \"x\": [\"8-3\", \"8-4\", \"9-1\", \"9-2\", \"9-3\", \"9-4\"], \"y\": [1.0, 1.0, null, 0.0, 3.0, 0.0], \"type\": \"scatter\", \"uid\": \"4c55e5f1-cb6f-11e8-bc12-509a4c0f1ffc\"}, {\"line\": {\"dash\": \"dashdot\"}, \"name\": \"\\u5b8c\\u6210BUG\\u4fee\\u590d\\u6570(\\u4efb\\u96ea)\", \"x\": [\"8-3\", \"8-4\", \"9-1\", \"9-2\", \"9-3\", \"9-4\"], \"y\": [0.0, 1.0, 0.0, 1.0, 1.0, null], \"type\": \"scatter\", \"uid\": \"4c55e5f2-cb6f-11e8-b3e4-509a4c0f1ffc\"}, {\"line\": {\"dash\": \"longdashdot\"}, \"name\": \"\\u5b8c\\u6210BUG\\u4fee\\u590d\\u6570(\\u5218\\u6c5f)\", \"x\": [\"8-3\", \"8-4\", \"9-1\", \"9-2\", \"9-3\", \"9-4\"], \"y\": [0.0, 0.0, 0.0, 0.0, 0.0, null], \"type\": \"scatter\", \"uid\": \"4c55e5f3-cb6f-11e8-8731-509a4c0f1ffc\"}, {\"line\": {\"dash\": \"solid\"}, \"name\": \"\\u5b8c\\u6210BUG\\u4fee\\u590d\\u6570(\\u97e9\\u5c11\\u6000)\", \"x\": [\"8-3\", \"8-4\", \"9-1\", \"9-2\", \"9-3\", \"9-4\"], \"y\": [null, 2.0, null, null, null, null], \"type\": \"scatter\", \"uid\": \"4c55e5f4-cb6f-11e8-9fe5-509a4c0f1ffc\"}, {\"line\": {\"dash\": \"dot\"}, \"name\": \"\\u5b8c\\u6210BUG\\u4fee\\u590d\\u6570(\\u82cf\\u5f66\\u52cb)\", \"x\": [\"8-3\", \"8-4\", \"9-1\", \"9-2\", \"9-3\", \"9-4\"], \"y\": [1.0, null, null, null, null, null], \"type\": \"scatter\", \"uid\": \"4c55e5f5-cb6f-11e8-8449-509a4c0f1ffc\"}, {\"line\": {\"dash\": \"dash\"}, \"name\": \"\\u5b8c\\u6210BUG\\u4fee\\u590d\\u6570(\\u674e\\u534e\\u4e91)\", \"x\": [\"8-3\", \"8-4\", \"9-1\", \"9-2\", \"9-3\", \"9-4\"], \"y\": [null, 0.0, null, null, 0.0, null], \"type\": \"scatter\", \"uid\": \"4c55e5f6-cb6f-11e8-85e3-509a4c0f1ffc\"}, {\"line\": {\"dash\": \"longdash\"}, \"name\": \"\\u5b8c\\u6210BUG\\u4fee\\u590d\\u6570(\\u5b5f\\u660a)\", \"x\": [\"8-3\", \"8-4\", \"9-1\", \"9-2\", \"9-3\", \"9-4\"], \"y\": [0.0, null, 0.0, null, null, null], \"type\": \"scatter\", \"uid\": \"4c55e5f7-cb6f-11e8-9b6d-509a4c0f1ffc\"}],\n",
       "            {\"title\": \"\\u5e94\\u5b8c\\u6210BUG\\u6570&\\u5b8c\\u6210BUG\\u4fee\\u590d\\u6570\\u5468\\u8d8b\\u52bf\\u56fe\", \"xaxis\": {\"mirror\": \"all\", \"nticks\": 20, \"showgrid\": true, \"showline\": true, \"title\": \"\\u5468\", \"zeroline\": true}, \"yaxis\": {\"mirror\": \"all\", \"nticks\": 20, \"showgrid\": true, \"showline\": true, \"title\": \"\\u5e94\\u5b8c\\u6210BUG\\u6570&\\u5b8c\\u6210BUG\\u4fee\\u590d\\u6570\", \"zeroline\": true}},\n",
       "            {\"showLink\": true, \"linkText\": \"Export to plot.ly\"}\n",
       "        ).then(function () {return Plotly.addFrames('a0b9ab68-bf38-48ba-ab32-cdb2b65e445a',{});}).then(function(){Plotly.animate('a0b9ab68-bf38-48ba-ab32-cdb2b65e445a');})\n",
       "        });</script>"
      ],
      "text/vnd.plotly.v1+html": [
       "<div id=\"a0b9ab68-bf38-48ba-ab32-cdb2b65e445a\" style=\"height: 525px; width: 100%;\" class=\"plotly-graph-div\"></div><script type=\"text/javascript\">require([\"plotly\"], function(Plotly) { window.PLOTLYENV=window.PLOTLYENV || {};window.PLOTLYENV.BASE_URL=\"https://plot.ly\";\n",
       "        Plotly.plot(\n",
       "            'a0b9ab68-bf38-48ba-ab32-cdb2b65e445a',\n",
       "            [{\"line\": {\"dash\": \"solid\"}, \"name\": \"\\u5e94\\u5b8c\\u6210BUG\\u6570(\\u59da\\u76df\\u6210)\", \"x\": [\"8-3\", \"8-4\", \"9-1\", \"9-2\", \"9-3\", \"9-4\"], \"y\": [null, 0.0, null, null, null, null], \"type\": \"scatter\", \"uid\": \"4c55bede-cb6f-11e8-aaf0-509a4c0f1ffc\"}, {\"line\": {\"dash\": \"dot\"}, \"name\": \"\\u5e94\\u5b8c\\u6210BUG\\u6570(\\u5218\\u6167\\u73b2)\", \"x\": [\"8-3\", \"8-4\", \"9-1\", \"9-2\", \"9-3\", \"9-4\"], \"y\": [null, 0.0, null, null, null, null], \"type\": \"scatter\", \"uid\": \"4c55bedf-cb6f-11e8-a044-509a4c0f1ffc\"}, {\"line\": {\"dash\": \"dash\"}, \"name\": \"\\u5e94\\u5b8c\\u6210BUG\\u6570(\\u8303\\u65ed\\u5b81)\", \"x\": [\"8-3\", \"8-4\", \"9-1\", \"9-2\", \"9-3\", \"9-4\"], \"y\": [null, 1.0, null, null, null, null], \"type\": \"scatter\", \"uid\": \"4c55bee0-cb6f-11e8-92d5-509a4c0f1ffc\"}, {\"line\": {\"dash\": \"longdash\"}, \"name\": \"\\u5e94\\u5b8c\\u6210BUG\\u6570(\\u5c01\\u5f66\\u6770)\", \"x\": [\"8-3\", \"8-4\", \"9-1\", \"9-2\", \"9-3\", \"9-4\"], \"y\": [0.0, 2.0, null, 2.0, 3.0, 0.0], \"type\": \"scatter\", \"uid\": \"4c55bee1-cb6f-11e8-87c5-509a4c0f1ffc\"}, {\"line\": {\"dash\": \"dashdot\"}, \"name\": \"\\u5e94\\u5b8c\\u6210BUG\\u6570(\\u4efb\\u96ea)\", \"x\": [\"8-3\", \"8-4\", \"9-1\", \"9-2\", \"9-3\", \"9-4\"], \"y\": [0.0, 0.0, 0.0, 1.0, 1.0, null], \"type\": \"scatter\", \"uid\": \"4c55bee2-cb6f-11e8-84a6-509a4c0f1ffc\"}, {\"line\": {\"dash\": \"longdashdot\"}, \"name\": \"\\u5e94\\u5b8c\\u6210BUG\\u6570(\\u5218\\u6c5f)\", \"x\": [\"8-3\", \"8-4\", \"9-1\", \"9-2\", \"9-3\", \"9-4\"], \"y\": [0.0, 0.0, 0.0, 0.0, 0.0, null], \"type\": \"scatter\", \"uid\": \"4c55bee3-cb6f-11e8-9223-509a4c0f1ffc\"}, {\"line\": {\"dash\": \"solid\"}, \"name\": \"\\u5e94\\u5b8c\\u6210BUG\\u6570(\\u97e9\\u5c11\\u6000)\", \"x\": [\"8-3\", \"8-4\", \"9-1\", \"9-2\", \"9-3\", \"9-4\"], \"y\": [null, 0.0, null, null, null, null], \"type\": \"scatter\", \"uid\": \"4c55bee4-cb6f-11e8-93e4-509a4c0f1ffc\"}, {\"line\": {\"dash\": \"dot\"}, \"name\": \"\\u5e94\\u5b8c\\u6210BUG\\u6570(\\u82cf\\u5f66\\u52cb)\", \"x\": [\"8-3\", \"8-4\", \"9-1\", \"9-2\", \"9-3\", \"9-4\"], \"y\": [2.0, null, null, null, null, null], \"type\": \"scatter\", \"uid\": \"4c55bee5-cb6f-11e8-8fd8-509a4c0f1ffc\"}, {\"line\": {\"dash\": \"dash\"}, \"name\": \"\\u5e94\\u5b8c\\u6210BUG\\u6570(\\u674e\\u534e\\u4e91)\", \"x\": [\"8-3\", \"8-4\", \"9-1\", \"9-2\", \"9-3\", \"9-4\"], \"y\": [null, 0.0, null, null, 0.0, null], \"type\": \"scatter\", \"uid\": \"4c55bee6-cb6f-11e8-9cf2-509a4c0f1ffc\"}, {\"line\": {\"dash\": \"longdash\"}, \"name\": \"\\u5e94\\u5b8c\\u6210BUG\\u6570(\\u5b5f\\u660a)\", \"x\": [\"8-3\", \"8-4\", \"9-1\", \"9-2\", \"9-3\", \"9-4\"], \"y\": [0.0, null, 0.0, null, null, null], \"type\": \"scatter\", \"uid\": \"4c55bee7-cb6f-11e8-8e81-509a4c0f1ffc\"}, {\"line\": {\"dash\": \"solid\"}, \"name\": \"\\u5b8c\\u6210BUG\\u4fee\\u590d\\u6570(\\u59da\\u76df\\u6210)\", \"x\": [\"8-3\", \"8-4\", \"9-1\", \"9-2\", \"9-3\", \"9-4\"], \"y\": [null, 0.0, null, null, null, null], \"type\": \"scatter\", \"uid\": \"4c55e5ee-cb6f-11e8-96de-509a4c0f1ffc\"}, {\"line\": {\"dash\": \"dot\"}, \"name\": \"\\u5b8c\\u6210BUG\\u4fee\\u590d\\u6570(\\u5218\\u6167\\u73b2)\", \"x\": [\"8-3\", \"8-4\", \"9-1\", \"9-2\", \"9-3\", \"9-4\"], \"y\": [null, 0.0, null, null, null, null], \"type\": \"scatter\", \"uid\": \"4c55e5ef-cb6f-11e8-918e-509a4c0f1ffc\"}, {\"line\": {\"dash\": \"dash\"}, \"name\": \"\\u5b8c\\u6210BUG\\u4fee\\u590d\\u6570(\\u8303\\u65ed\\u5b81)\", \"x\": [\"8-3\", \"8-4\", \"9-1\", \"9-2\", \"9-3\", \"9-4\"], \"y\": [null, 0.0, null, null, null, null], \"type\": \"scatter\", \"uid\": \"4c55e5f0-cb6f-11e8-953d-509a4c0f1ffc\"}, {\"line\": {\"dash\": \"longdash\"}, \"name\": \"\\u5b8c\\u6210BUG\\u4fee\\u590d\\u6570(\\u5c01\\u5f66\\u6770)\", \"x\": [\"8-3\", \"8-4\", \"9-1\", \"9-2\", \"9-3\", \"9-4\"], \"y\": [1.0, 1.0, null, 0.0, 3.0, 0.0], \"type\": \"scatter\", \"uid\": \"4c55e5f1-cb6f-11e8-bc12-509a4c0f1ffc\"}, {\"line\": {\"dash\": \"dashdot\"}, \"name\": \"\\u5b8c\\u6210BUG\\u4fee\\u590d\\u6570(\\u4efb\\u96ea)\", \"x\": [\"8-3\", \"8-4\", \"9-1\", \"9-2\", \"9-3\", \"9-4\"], \"y\": [0.0, 1.0, 0.0, 1.0, 1.0, null], \"type\": \"scatter\", \"uid\": \"4c55e5f2-cb6f-11e8-b3e4-509a4c0f1ffc\"}, {\"line\": {\"dash\": \"longdashdot\"}, \"name\": \"\\u5b8c\\u6210BUG\\u4fee\\u590d\\u6570(\\u5218\\u6c5f)\", \"x\": [\"8-3\", \"8-4\", \"9-1\", \"9-2\", \"9-3\", \"9-4\"], \"y\": [0.0, 0.0, 0.0, 0.0, 0.0, null], \"type\": \"scatter\", \"uid\": \"4c55e5f3-cb6f-11e8-8731-509a4c0f1ffc\"}, {\"line\": {\"dash\": \"solid\"}, \"name\": \"\\u5b8c\\u6210BUG\\u4fee\\u590d\\u6570(\\u97e9\\u5c11\\u6000)\", \"x\": [\"8-3\", \"8-4\", \"9-1\", \"9-2\", \"9-3\", \"9-4\"], \"y\": [null, 2.0, null, null, null, null], \"type\": \"scatter\", \"uid\": \"4c55e5f4-cb6f-11e8-9fe5-509a4c0f1ffc\"}, {\"line\": {\"dash\": \"dot\"}, \"name\": \"\\u5b8c\\u6210BUG\\u4fee\\u590d\\u6570(\\u82cf\\u5f66\\u52cb)\", \"x\": [\"8-3\", \"8-4\", \"9-1\", \"9-2\", \"9-3\", \"9-4\"], \"y\": [1.0, null, null, null, null, null], \"type\": \"scatter\", \"uid\": \"4c55e5f5-cb6f-11e8-8449-509a4c0f1ffc\"}, {\"line\": {\"dash\": \"dash\"}, \"name\": \"\\u5b8c\\u6210BUG\\u4fee\\u590d\\u6570(\\u674e\\u534e\\u4e91)\", \"x\": [\"8-3\", \"8-4\", \"9-1\", \"9-2\", \"9-3\", \"9-4\"], \"y\": [null, 0.0, null, null, 0.0, null], \"type\": \"scatter\", \"uid\": \"4c55e5f6-cb6f-11e8-85e3-509a4c0f1ffc\"}, {\"line\": {\"dash\": \"longdash\"}, \"name\": \"\\u5b8c\\u6210BUG\\u4fee\\u590d\\u6570(\\u5b5f\\u660a)\", \"x\": [\"8-3\", \"8-4\", \"9-1\", \"9-2\", \"9-3\", \"9-4\"], \"y\": [0.0, null, 0.0, null, null, null], \"type\": \"scatter\", \"uid\": \"4c55e5f7-cb6f-11e8-9b6d-509a4c0f1ffc\"}],\n",
       "            {\"title\": \"\\u5e94\\u5b8c\\u6210BUG\\u6570&\\u5b8c\\u6210BUG\\u4fee\\u590d\\u6570\\u5468\\u8d8b\\u52bf\\u56fe\", \"xaxis\": {\"mirror\": \"all\", \"nticks\": 20, \"showgrid\": true, \"showline\": true, \"title\": \"\\u5468\", \"zeroline\": true}, \"yaxis\": {\"mirror\": \"all\", \"nticks\": 20, \"showgrid\": true, \"showline\": true, \"title\": \"\\u5e94\\u5b8c\\u6210BUG\\u6570&\\u5b8c\\u6210BUG\\u4fee\\u590d\\u6570\", \"zeroline\": true}},\n",
       "            {\"showLink\": true, \"linkText\": \"Export to plot.ly\"}\n",
       "        ).then(function () {return Plotly.addFrames('a0b9ab68-bf38-48ba-ab32-cdb2b65e445a',{});}).then(function(){Plotly.animate('a0b9ab68-bf38-48ba-ab32-cdb2b65e445a');})\n",
       "        });</script>"
      ]
     },
     "metadata": {},
     "output_type": "display_data"
    }
   ],
   "source": [
    "ss=myModule.format(all_dict_1 ,\"日期（格式“月-周次”）\" ,['应完成BUG数','完成BUG修复数'])\n",
    "ss.add_group('负责人')\n",
    "tt = myModule.myPlot(ss.groupby('sum'))\n",
    "tt.plot('line')"
   ]
  },
  {
   "cell_type": "markdown",
   "metadata": {},
   "source": [
    "# 商业项目情况"
   ]
  },
  {
   "cell_type": "markdown",
   "metadata": {
    "hide_input": true
   },
   "source": [
    "## 整体情况"
   ]
  },
  {
   "cell_type": "markdown",
   "metadata": {},
   "source": [
    "### 完成商业项目数"
   ]
  },
  {
   "cell_type": "code",
   "execution_count": 174,
   "metadata": {
    "collapsed": false
   },
   "outputs": [
    {
     "data": {
      "application/vnd.plotly.v1+json": {
       "data": [
        {
         "name": "完成个性化数",
         "type": "scatter",
         "uid": "4c881980-cb6f-11e8-a717-509a4c0f1ffc",
         "x": [
          "9-2",
          "9-3",
          "9-4"
         ],
         "y": [
          12,
          6,
          1
         ]
        },
        {
         "name": "完成商业项目数",
         "type": "scatter",
         "uid": "4c881981-cb6f-11e8-9183-509a4c0f1ffc",
         "x": [
          "9-2",
          "9-3",
          "9-4"
         ],
         "y": [
          7,
          8,
          3
         ]
        }
       ],
       "layout": {
        "title": "完成个性化数&完成商业项目数周趋势图",
        "xaxis": {
         "mirror": "all",
         "nticks": 20,
         "showgrid": true,
         "showline": true,
         "title": "周",
         "zeroline": true
        },
        "yaxis": {
         "mirror": "all",
         "nticks": 20,
         "showgrid": true,
         "showline": true,
         "title": "完成个性化数&完成商业项目数",
         "zeroline": true
        }
       }
      },
      "text/html": [
       "<div id=\"6e13ab7a-aacc-4a6b-9dff-65eb0b985eec\" style=\"height: 525px; width: 100%;\" class=\"plotly-graph-div\"></div><script type=\"text/javascript\">require([\"plotly\"], function(Plotly) { window.PLOTLYENV=window.PLOTLYENV || {};window.PLOTLYENV.BASE_URL=\"https://plot.ly\";\n",
       "        Plotly.plot(\n",
       "            '6e13ab7a-aacc-4a6b-9dff-65eb0b985eec',\n",
       "            [{\"name\": \"\\u5b8c\\u6210\\u4e2a\\u6027\\u5316\\u6570\", \"x\": [\"9-2\", \"9-3\", \"9-4\"], \"y\": [12.0, 6.0, 1.0], \"type\": \"scatter\", \"uid\": \"4c881980-cb6f-11e8-a717-509a4c0f1ffc\"}, {\"name\": \"\\u5b8c\\u6210\\u5546\\u4e1a\\u9879\\u76ee\\u6570\", \"x\": [\"9-2\", \"9-3\", \"9-4\"], \"y\": [7.0, 8.0, 3.0], \"type\": \"scatter\", \"uid\": \"4c881981-cb6f-11e8-9183-509a4c0f1ffc\"}],\n",
       "            {\"title\": \"\\u5b8c\\u6210\\u4e2a\\u6027\\u5316\\u6570&\\u5b8c\\u6210\\u5546\\u4e1a\\u9879\\u76ee\\u6570\\u5468\\u8d8b\\u52bf\\u56fe\", \"xaxis\": {\"mirror\": \"all\", \"nticks\": 20, \"showgrid\": true, \"showline\": true, \"title\": \"\\u5468\", \"zeroline\": true}, \"yaxis\": {\"mirror\": \"all\", \"nticks\": 20, \"showgrid\": true, \"showline\": true, \"title\": \"\\u5b8c\\u6210\\u4e2a\\u6027\\u5316\\u6570&\\u5b8c\\u6210\\u5546\\u4e1a\\u9879\\u76ee\\u6570\", \"zeroline\": true}},\n",
       "            {\"showLink\": true, \"linkText\": \"Export to plot.ly\"}\n",
       "        ).then(function () {return Plotly.addFrames('6e13ab7a-aacc-4a6b-9dff-65eb0b985eec',{});}).then(function(){Plotly.animate('6e13ab7a-aacc-4a6b-9dff-65eb0b985eec');})\n",
       "        });</script>"
      ],
      "text/vnd.plotly.v1+html": [
       "<div id=\"6e13ab7a-aacc-4a6b-9dff-65eb0b985eec\" style=\"height: 525px; width: 100%;\" class=\"plotly-graph-div\"></div><script type=\"text/javascript\">require([\"plotly\"], function(Plotly) { window.PLOTLYENV=window.PLOTLYENV || {};window.PLOTLYENV.BASE_URL=\"https://plot.ly\";\n",
       "        Plotly.plot(\n",
       "            '6e13ab7a-aacc-4a6b-9dff-65eb0b985eec',\n",
       "            [{\"name\": \"\\u5b8c\\u6210\\u4e2a\\u6027\\u5316\\u6570\", \"x\": [\"9-2\", \"9-3\", \"9-4\"], \"y\": [12.0, 6.0, 1.0], \"type\": \"scatter\", \"uid\": \"4c881980-cb6f-11e8-a717-509a4c0f1ffc\"}, {\"name\": \"\\u5b8c\\u6210\\u5546\\u4e1a\\u9879\\u76ee\\u6570\", \"x\": [\"9-2\", \"9-3\", \"9-4\"], \"y\": [7.0, 8.0, 3.0], \"type\": \"scatter\", \"uid\": \"4c881981-cb6f-11e8-9183-509a4c0f1ffc\"}],\n",
       "            {\"title\": \"\\u5b8c\\u6210\\u4e2a\\u6027\\u5316\\u6570&\\u5b8c\\u6210\\u5546\\u4e1a\\u9879\\u76ee\\u6570\\u5468\\u8d8b\\u52bf\\u56fe\", \"xaxis\": {\"mirror\": \"all\", \"nticks\": 20, \"showgrid\": true, \"showline\": true, \"title\": \"\\u5468\", \"zeroline\": true}, \"yaxis\": {\"mirror\": \"all\", \"nticks\": 20, \"showgrid\": true, \"showline\": true, \"title\": \"\\u5b8c\\u6210\\u4e2a\\u6027\\u5316\\u6570&\\u5b8c\\u6210\\u5546\\u4e1a\\u9879\\u76ee\\u6570\", \"zeroline\": true}},\n",
       "            {\"showLink\": true, \"linkText\": \"Export to plot.ly\"}\n",
       "        ).then(function () {return Plotly.addFrames('6e13ab7a-aacc-4a6b-9dff-65eb0b985eec',{});}).then(function(){Plotly.animate('6e13ab7a-aacc-4a6b-9dff-65eb0b985eec');})\n",
       "        });</script>"
      ]
     },
     "metadata": {},
     "output_type": "display_data"
    }
   ],
   "source": [
    "ss=myModule.format(all_dict_2 ,\"日期\" ,['完成商业项目数','完成个性化数'])\n",
    "tt = myModule.myPlot(ss.groupby('sum'))\n",
    "tt.plot('line')"
   ]
  },
  {
   "cell_type": "markdown",
   "metadata": {},
   "source": [
    "### 延期项目数"
   ]
  },
  {
   "cell_type": "code",
   "execution_count": 175,
   "metadata": {
    "collapsed": false
   },
   "outputs": [
    {
     "data": {
      "application/vnd.plotly.v1+json": {
       "data": [
        {
         "name": "延期商业项目数",
         "type": "scatter",
         "uid": "4cba741e-cb6f-11e8-bc1f-509a4c0f1ffc",
         "x": [
          "9-2",
          "9-3",
          "9-4"
         ],
         "y": [
          0,
          0,
          0
         ]
        },
        {
         "name": "延期个性化项目数",
         "type": "scatter",
         "uid": "4cba741f-cb6f-11e8-afb3-509a4c0f1ffc",
         "x": [
          "9-2",
          "9-3",
          "9-4"
         ],
         "y": [
          1,
          0,
          0
         ]
        }
       ],
       "layout": {
        "title": "延期商业项目数&延期个性化项目数周趋势图",
        "xaxis": {
         "mirror": "all",
         "nticks": 20,
         "showgrid": true,
         "showline": true,
         "title": "周",
         "zeroline": true
        },
        "yaxis": {
         "mirror": "all",
         "nticks": 20,
         "showgrid": true,
         "showline": true,
         "title": "延期商业项目数&延期个性化项目数",
         "zeroline": true
        }
       }
      },
      "text/html": [
       "<div id=\"cdaa6160-4c87-434f-b938-df30833b962b\" style=\"height: 525px; width: 100%;\" class=\"plotly-graph-div\"></div><script type=\"text/javascript\">require([\"plotly\"], function(Plotly) { window.PLOTLYENV=window.PLOTLYENV || {};window.PLOTLYENV.BASE_URL=\"https://plot.ly\";\n",
       "        Plotly.plot(\n",
       "            'cdaa6160-4c87-434f-b938-df30833b962b',\n",
       "            [{\"name\": \"\\u5ef6\\u671f\\u5546\\u4e1a\\u9879\\u76ee\\u6570\", \"x\": [\"9-2\", \"9-3\", \"9-4\"], \"y\": [0.0, 0.0, 0.0], \"type\": \"scatter\", \"uid\": \"4cba741e-cb6f-11e8-bc1f-509a4c0f1ffc\"}, {\"name\": \"\\u5ef6\\u671f\\u4e2a\\u6027\\u5316\\u9879\\u76ee\\u6570\", \"x\": [\"9-2\", \"9-3\", \"9-4\"], \"y\": [1.0, 0.0, 0.0], \"type\": \"scatter\", \"uid\": \"4cba741f-cb6f-11e8-afb3-509a4c0f1ffc\"}],\n",
       "            {\"title\": \"\\u5ef6\\u671f\\u5546\\u4e1a\\u9879\\u76ee\\u6570&\\u5ef6\\u671f\\u4e2a\\u6027\\u5316\\u9879\\u76ee\\u6570\\u5468\\u8d8b\\u52bf\\u56fe\", \"xaxis\": {\"mirror\": \"all\", \"nticks\": 20, \"showgrid\": true, \"showline\": true, \"title\": \"\\u5468\", \"zeroline\": true}, \"yaxis\": {\"mirror\": \"all\", \"nticks\": 20, \"showgrid\": true, \"showline\": true, \"title\": \"\\u5ef6\\u671f\\u5546\\u4e1a\\u9879\\u76ee\\u6570&\\u5ef6\\u671f\\u4e2a\\u6027\\u5316\\u9879\\u76ee\\u6570\", \"zeroline\": true}},\n",
       "            {\"showLink\": true, \"linkText\": \"Export to plot.ly\"}\n",
       "        ).then(function () {return Plotly.addFrames('cdaa6160-4c87-434f-b938-df30833b962b',{});}).then(function(){Plotly.animate('cdaa6160-4c87-434f-b938-df30833b962b');})\n",
       "        });</script>"
      ],
      "text/vnd.plotly.v1+html": [
       "<div id=\"cdaa6160-4c87-434f-b938-df30833b962b\" style=\"height: 525px; width: 100%;\" class=\"plotly-graph-div\"></div><script type=\"text/javascript\">require([\"plotly\"], function(Plotly) { window.PLOTLYENV=window.PLOTLYENV || {};window.PLOTLYENV.BASE_URL=\"https://plot.ly\";\n",
       "        Plotly.plot(\n",
       "            'cdaa6160-4c87-434f-b938-df30833b962b',\n",
       "            [{\"name\": \"\\u5ef6\\u671f\\u5546\\u4e1a\\u9879\\u76ee\\u6570\", \"x\": [\"9-2\", \"9-3\", \"9-4\"], \"y\": [0.0, 0.0, 0.0], \"type\": \"scatter\", \"uid\": \"4cba741e-cb6f-11e8-bc1f-509a4c0f1ffc\"}, {\"name\": \"\\u5ef6\\u671f\\u4e2a\\u6027\\u5316\\u9879\\u76ee\\u6570\", \"x\": [\"9-2\", \"9-3\", \"9-4\"], \"y\": [1.0, 0.0, 0.0], \"type\": \"scatter\", \"uid\": \"4cba741f-cb6f-11e8-afb3-509a4c0f1ffc\"}],\n",
       "            {\"title\": \"\\u5ef6\\u671f\\u5546\\u4e1a\\u9879\\u76ee\\u6570&\\u5ef6\\u671f\\u4e2a\\u6027\\u5316\\u9879\\u76ee\\u6570\\u5468\\u8d8b\\u52bf\\u56fe\", \"xaxis\": {\"mirror\": \"all\", \"nticks\": 20, \"showgrid\": true, \"showline\": true, \"title\": \"\\u5468\", \"zeroline\": true}, \"yaxis\": {\"mirror\": \"all\", \"nticks\": 20, \"showgrid\": true, \"showline\": true, \"title\": \"\\u5ef6\\u671f\\u5546\\u4e1a\\u9879\\u76ee\\u6570&\\u5ef6\\u671f\\u4e2a\\u6027\\u5316\\u9879\\u76ee\\u6570\", \"zeroline\": true}},\n",
       "            {\"showLink\": true, \"linkText\": \"Export to plot.ly\"}\n",
       "        ).then(function () {return Plotly.addFrames('cdaa6160-4c87-434f-b938-df30833b962b',{});}).then(function(){Plotly.animate('cdaa6160-4c87-434f-b938-df30833b962b');})\n",
       "        });</script>"
      ]
     },
     "metadata": {},
     "output_type": "display_data"
    }
   ],
   "source": [
    "ss=myModule.format(all_dict_2 ,\"日期\" ,['延期商业项目数','延期个性化项目数'])\n",
    "tt = myModule.myPlot(ss.groupby('sum'))\n",
    "tt.plot('line')"
   ]
  },
  {
   "cell_type": "markdown",
   "metadata": {},
   "source": [
    "### 反馈延期数"
   ]
  },
  {
   "cell_type": "code",
   "execution_count": 176,
   "metadata": {
    "collapsed": false
   },
   "outputs": [
    {
     "data": {
      "application/vnd.plotly.v1+json": {
       "data": [
        {
         "name": "24h内未完成数据反馈项目数",
         "type": "scatter",
         "uid": "4ceccec0-cb6f-11e8-aeae-509a4c0f1ffc",
         "x": [
          "9-2",
          "9-3",
          "9-4"
         ],
         "y": [
          1,
          0,
          1
         ]
        },
        {
         "name": "反馈延期个性化数",
         "type": "scatter",
         "uid": "4ceccec1-cb6f-11e8-b7ab-509a4c0f1ffc",
         "x": [
          "9-2",
          "9-3",
          "9-4"
         ],
         "y": [
          1,
          0,
          0
         ]
        }
       ],
       "layout": {
        "title": "24h内未完成数据反馈项目数&反馈延期个性化数周趋势图",
        "xaxis": {
         "mirror": "all",
         "nticks": 20,
         "showgrid": true,
         "showline": true,
         "title": "周",
         "zeroline": true
        },
        "yaxis": {
         "mirror": "all",
         "nticks": 20,
         "showgrid": true,
         "showline": true,
         "title": "24h内未完成数据反馈项目数&反馈延期个性化数",
         "zeroline": true
        }
       }
      },
      "text/html": [
       "<div id=\"a761d370-dc7d-4f75-9aac-3d49dd51787a\" style=\"height: 525px; width: 100%;\" class=\"plotly-graph-div\"></div><script type=\"text/javascript\">require([\"plotly\"], function(Plotly) { window.PLOTLYENV=window.PLOTLYENV || {};window.PLOTLYENV.BASE_URL=\"https://plot.ly\";\n",
       "        Plotly.plot(\n",
       "            'a761d370-dc7d-4f75-9aac-3d49dd51787a',\n",
       "            [{\"name\": \"24h\\u5185\\u672a\\u5b8c\\u6210\\u6570\\u636e\\u53cd\\u9988\\u9879\\u76ee\\u6570\", \"x\": [\"9-2\", \"9-3\", \"9-4\"], \"y\": [1.0, 0.0, 1.0], \"type\": \"scatter\", \"uid\": \"4ceccec0-cb6f-11e8-aeae-509a4c0f1ffc\"}, {\"name\": \"\\u53cd\\u9988\\u5ef6\\u671f\\u4e2a\\u6027\\u5316\\u6570\", \"x\": [\"9-2\", \"9-3\", \"9-4\"], \"y\": [1.0, 0.0, 0.0], \"type\": \"scatter\", \"uid\": \"4ceccec1-cb6f-11e8-b7ab-509a4c0f1ffc\"}],\n",
       "            {\"title\": \"24h\\u5185\\u672a\\u5b8c\\u6210\\u6570\\u636e\\u53cd\\u9988\\u9879\\u76ee\\u6570&\\u53cd\\u9988\\u5ef6\\u671f\\u4e2a\\u6027\\u5316\\u6570\\u5468\\u8d8b\\u52bf\\u56fe\", \"xaxis\": {\"mirror\": \"all\", \"nticks\": 20, \"showgrid\": true, \"showline\": true, \"title\": \"\\u5468\", \"zeroline\": true}, \"yaxis\": {\"mirror\": \"all\", \"nticks\": 20, \"showgrid\": true, \"showline\": true, \"title\": \"24h\\u5185\\u672a\\u5b8c\\u6210\\u6570\\u636e\\u53cd\\u9988\\u9879\\u76ee\\u6570&\\u53cd\\u9988\\u5ef6\\u671f\\u4e2a\\u6027\\u5316\\u6570\", \"zeroline\": true}},\n",
       "            {\"showLink\": true, \"linkText\": \"Export to plot.ly\"}\n",
       "        ).then(function () {return Plotly.addFrames('a761d370-dc7d-4f75-9aac-3d49dd51787a',{});}).then(function(){Plotly.animate('a761d370-dc7d-4f75-9aac-3d49dd51787a');})\n",
       "        });</script>"
      ],
      "text/vnd.plotly.v1+html": [
       "<div id=\"a761d370-dc7d-4f75-9aac-3d49dd51787a\" style=\"height: 525px; width: 100%;\" class=\"plotly-graph-div\"></div><script type=\"text/javascript\">require([\"plotly\"], function(Plotly) { window.PLOTLYENV=window.PLOTLYENV || {};window.PLOTLYENV.BASE_URL=\"https://plot.ly\";\n",
       "        Plotly.plot(\n",
       "            'a761d370-dc7d-4f75-9aac-3d49dd51787a',\n",
       "            [{\"name\": \"24h\\u5185\\u672a\\u5b8c\\u6210\\u6570\\u636e\\u53cd\\u9988\\u9879\\u76ee\\u6570\", \"x\": [\"9-2\", \"9-3\", \"9-4\"], \"y\": [1.0, 0.0, 1.0], \"type\": \"scatter\", \"uid\": \"4ceccec0-cb6f-11e8-aeae-509a4c0f1ffc\"}, {\"name\": \"\\u53cd\\u9988\\u5ef6\\u671f\\u4e2a\\u6027\\u5316\\u6570\", \"x\": [\"9-2\", \"9-3\", \"9-4\"], \"y\": [1.0, 0.0, 0.0], \"type\": \"scatter\", \"uid\": \"4ceccec1-cb6f-11e8-b7ab-509a4c0f1ffc\"}],\n",
       "            {\"title\": \"24h\\u5185\\u672a\\u5b8c\\u6210\\u6570\\u636e\\u53cd\\u9988\\u9879\\u76ee\\u6570&\\u53cd\\u9988\\u5ef6\\u671f\\u4e2a\\u6027\\u5316\\u6570\\u5468\\u8d8b\\u52bf\\u56fe\", \"xaxis\": {\"mirror\": \"all\", \"nticks\": 20, \"showgrid\": true, \"showline\": true, \"title\": \"\\u5468\", \"zeroline\": true}, \"yaxis\": {\"mirror\": \"all\", \"nticks\": 20, \"showgrid\": true, \"showline\": true, \"title\": \"24h\\u5185\\u672a\\u5b8c\\u6210\\u6570\\u636e\\u53cd\\u9988\\u9879\\u76ee\\u6570&\\u53cd\\u9988\\u5ef6\\u671f\\u4e2a\\u6027\\u5316\\u6570\", \"zeroline\": true}},\n",
       "            {\"showLink\": true, \"linkText\": \"Export to plot.ly\"}\n",
       "        ).then(function () {return Plotly.addFrames('a761d370-dc7d-4f75-9aac-3d49dd51787a',{});}).then(function(){Plotly.animate('a761d370-dc7d-4f75-9aac-3d49dd51787a');})\n",
       "        });</script>"
      ]
     },
     "metadata": {},
     "output_type": "display_data"
    }
   ],
   "source": [
    "ss=myModule.format(all_dict_2 ,\"日期\" ,['24h内未完成数据反馈项目数','反馈延期个性化数'])\n",
    "tt = myModule.myPlot(ss.groupby('sum'))\n",
    "tt.plot('line')"
   ]
  },
  {
   "cell_type": "markdown",
   "metadata": {},
   "source": [
    "### 延期率"
   ]
  },
  {
   "cell_type": "code",
   "execution_count": 177,
   "metadata": {
    "collapsed": false
   },
   "outputs": [
    {
     "data": {
      "application/vnd.plotly.v1+json": {
       "data": [
        {
         "name": "商业项目延期率",
         "type": "scatter",
         "uid": "4d1fc59e-cb6f-11e8-b493-509a4c0f1ffc",
         "x": [
          "9-2",
          "9-3",
          "9-4"
         ],
         "y": [
          0,
          0,
          0
         ]
        },
        {
         "name": "总延期率",
         "type": "scatter",
         "uid": "4d1fc59f-cb6f-11e8-ad74-509a4c0f1ffc",
         "x": [
          "9-2",
          "9-3",
          "9-4"
         ],
         "y": [
          0.047619047619047616,
          0,
          0
         ]
        },
        {
         "name": "个性化项目延期率",
         "type": "scatter",
         "uid": "4d1fc5a0-cb6f-11e8-88b6-509a4c0f1ffc",
         "x": [
          "9-2",
          "9-3",
          "9-4"
         ],
         "y": [
          0.05555555555555555,
          0,
          null
         ]
        }
       ],
       "layout": {
        "title": "商业项目延期率&总延期率&个性化项目延期率周趋势图",
        "xaxis": {
         "mirror": "all",
         "nticks": 20,
         "showgrid": true,
         "showline": true,
         "title": "周",
         "zeroline": true
        },
        "yaxis": {
         "mirror": "all",
         "nticks": 20,
         "showgrid": true,
         "showline": true,
         "title": "商业项目延期率&总延期率&个性化项目延期率",
         "zeroline": true
        }
       }
      },
      "text/html": [
       "<div id=\"9cde5adc-524d-4bfe-8e22-3f8d5449c93b\" style=\"height: 525px; width: 100%;\" class=\"plotly-graph-div\"></div><script type=\"text/javascript\">require([\"plotly\"], function(Plotly) { window.PLOTLYENV=window.PLOTLYENV || {};window.PLOTLYENV.BASE_URL=\"https://plot.ly\";\n",
       "        Plotly.plot(\n",
       "            '9cde5adc-524d-4bfe-8e22-3f8d5449c93b',\n",
       "            [{\"name\": \"\\u5546\\u4e1a\\u9879\\u76ee\\u5ef6\\u671f\\u7387\", \"x\": [\"9-2\", \"9-3\", \"9-4\"], \"y\": [0.0, 0.0, 0.0], \"type\": \"scatter\", \"uid\": \"4d1fc59e-cb6f-11e8-b493-509a4c0f1ffc\"}, {\"name\": \"\\u603b\\u5ef6\\u671f\\u7387\", \"x\": [\"9-2\", \"9-3\", \"9-4\"], \"y\": [0.047619047619047616, 0.0, 0.0], \"type\": \"scatter\", \"uid\": \"4d1fc59f-cb6f-11e8-ad74-509a4c0f1ffc\"}, {\"name\": \"\\u4e2a\\u6027\\u5316\\u9879\\u76ee\\u5ef6\\u671f\\u7387\", \"x\": [\"9-2\", \"9-3\", \"9-4\"], \"y\": [0.05555555555555555, 0.0, null], \"type\": \"scatter\", \"uid\": \"4d1fc5a0-cb6f-11e8-88b6-509a4c0f1ffc\"}],\n",
       "            {\"title\": \"\\u5546\\u4e1a\\u9879\\u76ee\\u5ef6\\u671f\\u7387&\\u603b\\u5ef6\\u671f\\u7387&\\u4e2a\\u6027\\u5316\\u9879\\u76ee\\u5ef6\\u671f\\u7387\\u5468\\u8d8b\\u52bf\\u56fe\", \"xaxis\": {\"mirror\": \"all\", \"nticks\": 20, \"showgrid\": true, \"showline\": true, \"title\": \"\\u5468\", \"zeroline\": true}, \"yaxis\": {\"mirror\": \"all\", \"nticks\": 20, \"showgrid\": true, \"showline\": true, \"title\": \"\\u5546\\u4e1a\\u9879\\u76ee\\u5ef6\\u671f\\u7387&\\u603b\\u5ef6\\u671f\\u7387&\\u4e2a\\u6027\\u5316\\u9879\\u76ee\\u5ef6\\u671f\\u7387\", \"zeroline\": true}},\n",
       "            {\"showLink\": true, \"linkText\": \"Export to plot.ly\"}\n",
       "        ).then(function () {return Plotly.addFrames('9cde5adc-524d-4bfe-8e22-3f8d5449c93b',{});}).then(function(){Plotly.animate('9cde5adc-524d-4bfe-8e22-3f8d5449c93b');})\n",
       "        });</script>"
      ],
      "text/vnd.plotly.v1+html": [
       "<div id=\"9cde5adc-524d-4bfe-8e22-3f8d5449c93b\" style=\"height: 525px; width: 100%;\" class=\"plotly-graph-div\"></div><script type=\"text/javascript\">require([\"plotly\"], function(Plotly) { window.PLOTLYENV=window.PLOTLYENV || {};window.PLOTLYENV.BASE_URL=\"https://plot.ly\";\n",
       "        Plotly.plot(\n",
       "            '9cde5adc-524d-4bfe-8e22-3f8d5449c93b',\n",
       "            [{\"name\": \"\\u5546\\u4e1a\\u9879\\u76ee\\u5ef6\\u671f\\u7387\", \"x\": [\"9-2\", \"9-3\", \"9-4\"], \"y\": [0.0, 0.0, 0.0], \"type\": \"scatter\", \"uid\": \"4d1fc59e-cb6f-11e8-b493-509a4c0f1ffc\"}, {\"name\": \"\\u603b\\u5ef6\\u671f\\u7387\", \"x\": [\"9-2\", \"9-3\", \"9-4\"], \"y\": [0.047619047619047616, 0.0, 0.0], \"type\": \"scatter\", \"uid\": \"4d1fc59f-cb6f-11e8-ad74-509a4c0f1ffc\"}, {\"name\": \"\\u4e2a\\u6027\\u5316\\u9879\\u76ee\\u5ef6\\u671f\\u7387\", \"x\": [\"9-2\", \"9-3\", \"9-4\"], \"y\": [0.05555555555555555, 0.0, null], \"type\": \"scatter\", \"uid\": \"4d1fc5a0-cb6f-11e8-88b6-509a4c0f1ffc\"}],\n",
       "            {\"title\": \"\\u5546\\u4e1a\\u9879\\u76ee\\u5ef6\\u671f\\u7387&\\u603b\\u5ef6\\u671f\\u7387&\\u4e2a\\u6027\\u5316\\u9879\\u76ee\\u5ef6\\u671f\\u7387\\u5468\\u8d8b\\u52bf\\u56fe\", \"xaxis\": {\"mirror\": \"all\", \"nticks\": 20, \"showgrid\": true, \"showline\": true, \"title\": \"\\u5468\", \"zeroline\": true}, \"yaxis\": {\"mirror\": \"all\", \"nticks\": 20, \"showgrid\": true, \"showline\": true, \"title\": \"\\u5546\\u4e1a\\u9879\\u76ee\\u5ef6\\u671f\\u7387&\\u603b\\u5ef6\\u671f\\u7387&\\u4e2a\\u6027\\u5316\\u9879\\u76ee\\u5ef6\\u671f\\u7387\", \"zeroline\": true}},\n",
       "            {\"showLink\": true, \"linkText\": \"Export to plot.ly\"}\n",
       "        ).then(function () {return Plotly.addFrames('9cde5adc-524d-4bfe-8e22-3f8d5449c93b',{});}).then(function(){Plotly.animate('9cde5adc-524d-4bfe-8e22-3f8d5449c93b');})\n",
       "        });</script>"
      ]
     },
     "metadata": {},
     "output_type": "display_data"
    }
   ],
   "source": [
    "myModule.upgrade_df(all_dict_2, [ ['商业项目延期率','延期商业项目数','总商业项目数','/'] ,\\\n",
    "                                 ['个性化项目延期率','延期个性化项目数', '总个性化数','/'],\n",
    "                                 ['总延期率','总延期项目数', '总项目数','/']])\n",
    "ss=myModule.format(all_dict_2 ,\"日期\" ,['商业项目延期率','个性化项目延期率','总延期率'])\n",
    "tt = myModule.myPlot(ss.groupby('mean'))\n",
    "tt.plot('line')"
   ]
  },
  {
   "cell_type": "code",
   "execution_count": null,
   "metadata": {
    "collapsed": true
   },
   "outputs": [],
   "source": []
  },
  {
   "cell_type": "markdown",
   "metadata": {},
   "source": [
    "### 反馈延期率"
   ]
  },
  {
   "cell_type": "code",
   "execution_count": 178,
   "metadata": {
    "collapsed": false
   },
   "outputs": [
    {
     "data": {
      "application/vnd.plotly.v1+json": {
       "data": [
        {
         "name": "个性化反馈延期率",
         "type": "scatter",
         "uid": "4d522040-cb6f-11e8-8f2d-509a4c0f1ffc",
         "x": [
          "9-2",
          "9-3",
          "9-4"
         ],
         "y": [
          null,
          0,
          null
         ]
        },
        {
         "name": "数据反馈延期率",
         "type": "scatter",
         "uid": "4d522041-cb6f-11e8-85aa-509a4c0f1ffc",
         "x": [
          "9-2",
          "9-3",
          "9-4"
         ],
         "y": [
          null,
          0,
          0.25
         ]
        }
       ],
       "layout": {
        "title": "个性化反馈延期率&数据反馈延期率周趋势图",
        "xaxis": {
         "mirror": "all",
         "nticks": 20,
         "showgrid": true,
         "showline": true,
         "title": "周",
         "zeroline": true
        },
        "yaxis": {
         "mirror": "all",
         "nticks": 20,
         "showgrid": true,
         "showline": true,
         "title": "个性化反馈延期率&数据反馈延期率",
         "zeroline": true
        }
       }
      },
      "text/html": [
       "<div id=\"0a7795b5-f01e-47ba-adf2-196bb7ff41c9\" style=\"height: 525px; width: 100%;\" class=\"plotly-graph-div\"></div><script type=\"text/javascript\">require([\"plotly\"], function(Plotly) { window.PLOTLYENV=window.PLOTLYENV || {};window.PLOTLYENV.BASE_URL=\"https://plot.ly\";\n",
       "        Plotly.plot(\n",
       "            '0a7795b5-f01e-47ba-adf2-196bb7ff41c9',\n",
       "            [{\"name\": \"\\u4e2a\\u6027\\u5316\\u53cd\\u9988\\u5ef6\\u671f\\u7387\", \"x\": [\"9-2\", \"9-3\", \"9-4\"], \"y\": [null, 0.0, null], \"type\": \"scatter\", \"uid\": \"4d522040-cb6f-11e8-8f2d-509a4c0f1ffc\"}, {\"name\": \"\\u6570\\u636e\\u53cd\\u9988\\u5ef6\\u671f\\u7387\", \"x\": [\"9-2\", \"9-3\", \"9-4\"], \"y\": [null, 0.0, 0.25], \"type\": \"scatter\", \"uid\": \"4d522041-cb6f-11e8-85aa-509a4c0f1ffc\"}],\n",
       "            {\"title\": \"\\u4e2a\\u6027\\u5316\\u53cd\\u9988\\u5ef6\\u671f\\u7387&\\u6570\\u636e\\u53cd\\u9988\\u5ef6\\u671f\\u7387\\u5468\\u8d8b\\u52bf\\u56fe\", \"xaxis\": {\"mirror\": \"all\", \"nticks\": 20, \"showgrid\": true, \"showline\": true, \"title\": \"\\u5468\", \"zeroline\": true}, \"yaxis\": {\"mirror\": \"all\", \"nticks\": 20, \"showgrid\": true, \"showline\": true, \"title\": \"\\u4e2a\\u6027\\u5316\\u53cd\\u9988\\u5ef6\\u671f\\u7387&\\u6570\\u636e\\u53cd\\u9988\\u5ef6\\u671f\\u7387\", \"zeroline\": true}},\n",
       "            {\"showLink\": true, \"linkText\": \"Export to plot.ly\"}\n",
       "        ).then(function () {return Plotly.addFrames('0a7795b5-f01e-47ba-adf2-196bb7ff41c9',{});}).then(function(){Plotly.animate('0a7795b5-f01e-47ba-adf2-196bb7ff41c9');})\n",
       "        });</script>"
      ],
      "text/vnd.plotly.v1+html": [
       "<div id=\"0a7795b5-f01e-47ba-adf2-196bb7ff41c9\" style=\"height: 525px; width: 100%;\" class=\"plotly-graph-div\"></div><script type=\"text/javascript\">require([\"plotly\"], function(Plotly) { window.PLOTLYENV=window.PLOTLYENV || {};window.PLOTLYENV.BASE_URL=\"https://plot.ly\";\n",
       "        Plotly.plot(\n",
       "            '0a7795b5-f01e-47ba-adf2-196bb7ff41c9',\n",
       "            [{\"name\": \"\\u4e2a\\u6027\\u5316\\u53cd\\u9988\\u5ef6\\u671f\\u7387\", \"x\": [\"9-2\", \"9-3\", \"9-4\"], \"y\": [null, 0.0, null], \"type\": \"scatter\", \"uid\": \"4d522040-cb6f-11e8-8f2d-509a4c0f1ffc\"}, {\"name\": \"\\u6570\\u636e\\u53cd\\u9988\\u5ef6\\u671f\\u7387\", \"x\": [\"9-2\", \"9-3\", \"9-4\"], \"y\": [null, 0.0, 0.25], \"type\": \"scatter\", \"uid\": \"4d522041-cb6f-11e8-85aa-509a4c0f1ffc\"}],\n",
       "            {\"title\": \"\\u4e2a\\u6027\\u5316\\u53cd\\u9988\\u5ef6\\u671f\\u7387&\\u6570\\u636e\\u53cd\\u9988\\u5ef6\\u671f\\u7387\\u5468\\u8d8b\\u52bf\\u56fe\", \"xaxis\": {\"mirror\": \"all\", \"nticks\": 20, \"showgrid\": true, \"showline\": true, \"title\": \"\\u5468\", \"zeroline\": true}, \"yaxis\": {\"mirror\": \"all\", \"nticks\": 20, \"showgrid\": true, \"showline\": true, \"title\": \"\\u4e2a\\u6027\\u5316\\u53cd\\u9988\\u5ef6\\u671f\\u7387&\\u6570\\u636e\\u53cd\\u9988\\u5ef6\\u671f\\u7387\", \"zeroline\": true}},\n",
       "            {\"showLink\": true, \"linkText\": \"Export to plot.ly\"}\n",
       "        ).then(function () {return Plotly.addFrames('0a7795b5-f01e-47ba-adf2-196bb7ff41c9',{});}).then(function(){Plotly.animate('0a7795b5-f01e-47ba-adf2-196bb7ff41c9');})\n",
       "        });</script>"
      ]
     },
     "metadata": {},
     "output_type": "display_data"
    }
   ],
   "source": [
    "myModule.upgrade_df(all_dict_2, [ ['数据反馈延期率','24h内未完成数据反馈项目数','下机项目数','/'] ,['个性化反馈延期率','反馈延期个性化数', '接入个性化数','/']])\n",
    "ss=myModule.format(all_dict_2 ,\"日期\" ,['数据反馈延期率','个性化反馈延期率'])\n",
    "tt = myModule.myPlot(ss.groupby('mean'))\n",
    "tt.plot('line')\n"
   ]
  },
  {
   "cell_type": "markdown",
   "metadata": {},
   "source": [
    "### 交付延期率"
   ]
  },
  {
   "cell_type": "code",
   "execution_count": 179,
   "metadata": {
    "collapsed": false
   },
   "outputs": [
    {
     "data": {
      "application/vnd.plotly.v1+json": {
       "data": [
        {
         "name": "交付延期率",
         "type": "scatter",
         "uid": "4d85171e-cb6f-11e8-b3fb-509a4c0f1ffc",
         "x": [
          "9-2",
          "9-3",
          "9-4"
         ],
         "y": [
          0,
          0,
          null
         ]
        }
       ],
       "layout": {
        "title": "交付延期率周趋势图",
        "xaxis": {
         "mirror": "all",
         "nticks": 20,
         "showgrid": true,
         "showline": true,
         "title": "周",
         "zeroline": true
        },
        "yaxis": {
         "mirror": "all",
         "nticks": 20,
         "showgrid": true,
         "showline": true,
         "title": "交付延期率",
         "zeroline": true
        }
       }
      },
      "text/html": [
       "<div id=\"3eb9f22a-ef35-4d81-aee6-fdafb2f74943\" style=\"height: 525px; width: 100%;\" class=\"plotly-graph-div\"></div><script type=\"text/javascript\">require([\"plotly\"], function(Plotly) { window.PLOTLYENV=window.PLOTLYENV || {};window.PLOTLYENV.BASE_URL=\"https://plot.ly\";\n",
       "        Plotly.plot(\n",
       "            '3eb9f22a-ef35-4d81-aee6-fdafb2f74943',\n",
       "            [{\"name\": \"\\u4ea4\\u4ed8\\u5ef6\\u671f\\u7387\", \"x\": [\"9-2\", \"9-3\", \"9-4\"], \"y\": [0.0, 0.0, null], \"type\": \"scatter\", \"uid\": \"4d85171e-cb6f-11e8-b3fb-509a4c0f1ffc\"}],\n",
       "            {\"title\": \"\\u4ea4\\u4ed8\\u5ef6\\u671f\\u7387\\u5468\\u8d8b\\u52bf\\u56fe\", \"xaxis\": {\"mirror\": \"all\", \"nticks\": 20, \"showgrid\": true, \"showline\": true, \"title\": \"\\u5468\", \"zeroline\": true}, \"yaxis\": {\"mirror\": \"all\", \"nticks\": 20, \"showgrid\": true, \"showline\": true, \"title\": \"\\u4ea4\\u4ed8\\u5ef6\\u671f\\u7387\", \"zeroline\": true}},\n",
       "            {\"showLink\": true, \"linkText\": \"Export to plot.ly\"}\n",
       "        ).then(function () {return Plotly.addFrames('3eb9f22a-ef35-4d81-aee6-fdafb2f74943',{});}).then(function(){Plotly.animate('3eb9f22a-ef35-4d81-aee6-fdafb2f74943');})\n",
       "        });</script>"
      ],
      "text/vnd.plotly.v1+html": [
       "<div id=\"3eb9f22a-ef35-4d81-aee6-fdafb2f74943\" style=\"height: 525px; width: 100%;\" class=\"plotly-graph-div\"></div><script type=\"text/javascript\">require([\"plotly\"], function(Plotly) { window.PLOTLYENV=window.PLOTLYENV || {};window.PLOTLYENV.BASE_URL=\"https://plot.ly\";\n",
       "        Plotly.plot(\n",
       "            '3eb9f22a-ef35-4d81-aee6-fdafb2f74943',\n",
       "            [{\"name\": \"\\u4ea4\\u4ed8\\u5ef6\\u671f\\u7387\", \"x\": [\"9-2\", \"9-3\", \"9-4\"], \"y\": [0.0, 0.0, null], \"type\": \"scatter\", \"uid\": \"4d85171e-cb6f-11e8-b3fb-509a4c0f1ffc\"}],\n",
       "            {\"title\": \"\\u4ea4\\u4ed8\\u5ef6\\u671f\\u7387\\u5468\\u8d8b\\u52bf\\u56fe\", \"xaxis\": {\"mirror\": \"all\", \"nticks\": 20, \"showgrid\": true, \"showline\": true, \"title\": \"\\u5468\", \"zeroline\": true}, \"yaxis\": {\"mirror\": \"all\", \"nticks\": 20, \"showgrid\": true, \"showline\": true, \"title\": \"\\u4ea4\\u4ed8\\u5ef6\\u671f\\u7387\", \"zeroline\": true}},\n",
       "            {\"showLink\": true, \"linkText\": \"Export to plot.ly\"}\n",
       "        ).then(function () {return Plotly.addFrames('3eb9f22a-ef35-4d81-aee6-fdafb2f74943',{});}).then(function(){Plotly.animate('3eb9f22a-ef35-4d81-aee6-fdafb2f74943');})\n",
       "        });</script>"
      ]
     },
     "metadata": {},
     "output_type": "display_data"
    }
   ],
   "source": [
    "myModule.upgrade_df(all_dict_2, [ ['交付延期率','24h内未完成数据交付项目数','待交付项目数','/'] ])\n",
    "ss=myModule.format(all_dict_2 ,\"日期\" ,['交付延期率'])\n",
    "tt = myModule.myPlot(ss.groupby('mean'))\n",
    "tt.plot('line')"
   ]
  },
  {
   "cell_type": "markdown",
   "metadata": {
    "hide_input": true
   },
   "source": [
    "## 各组情况"
   ]
  },
  {
   "cell_type": "markdown",
   "metadata": {},
   "source": [
    "### 各组完成商业项目数"
   ]
  },
  {
   "cell_type": "code",
   "execution_count": 180,
   "metadata": {
    "collapsed": false
   },
   "outputs": [
    {
     "data": {
      "application/vnd.plotly.v1+json": {
       "data": [
        {
         "line": {
          "dash": "solid"
         },
         "name": "完成个性化数(转录调控组)",
         "type": "scatter",
         "uid": "4dbec4c0-cb6f-11e8-a826-509a4c0f1ffc",
         "x": [
          "9-2",
          "9-3",
          "9-4"
         ],
         "y": [
          2,
          2,
          null
         ]
        },
        {
         "line": {
          "dash": "dot"
         },
         "name": "完成个性化数(蛋白和医学组)",
         "type": "scatter",
         "uid": "4dbec4c1-cb6f-11e8-94bc-509a4c0f1ffc",
         "x": [
          "9-2",
          "9-3",
          "9-4"
         ],
         "y": [
          1,
          2,
          null
         ]
        },
        {
         "line": {
          "dash": "dash"
         },
         "name": "完成个性化数(生物学DNA组)",
         "type": "scatter",
         "uid": "4dbec4c2-cb6f-11e8-9b42-509a4c0f1ffc",
         "x": [
          "9-2",
          "9-3",
          "9-4"
         ],
         "y": [
          9,
          2,
          1
         ]
        },
        {
         "line": {
          "dash": "solid"
         },
         "name": "完成商业项目数(转录调控组)",
         "type": "scatter",
         "uid": "4dbec4c3-cb6f-11e8-a628-509a4c0f1ffc",
         "x": [
          "9-2",
          "9-3",
          "9-4"
         ],
         "y": [
          0,
          0,
          null
         ]
        },
        {
         "line": {
          "dash": "dot"
         },
         "name": "完成商业项目数(蛋白和医学组)",
         "type": "scatter",
         "uid": "4dbec4c4-cb6f-11e8-8a79-509a4c0f1ffc",
         "x": [
          "9-2",
          "9-3",
          "9-4"
         ],
         "y": [
          1,
          2,
          null
         ]
        },
        {
         "line": {
          "dash": "dash"
         },
         "name": "完成商业项目数(生物学DNA组)",
         "type": "scatter",
         "uid": "4dbec4c5-cb6f-11e8-a26c-509a4c0f1ffc",
         "x": [
          "9-2",
          "9-3",
          "9-4"
         ],
         "y": [
          6,
          6,
          3
         ]
        }
       ],
       "layout": {
        "title": "完成个性化数&完成商业项目数周趋势图",
        "xaxis": {
         "mirror": "all",
         "nticks": 20,
         "showgrid": true,
         "showline": true,
         "title": "周",
         "zeroline": true
        },
        "yaxis": {
         "mirror": "all",
         "nticks": 20,
         "showgrid": true,
         "showline": true,
         "title": "完成个性化数&完成商业项目数",
         "zeroline": true
        }
       }
      },
      "text/html": [
       "<div id=\"32f51185-74b2-4084-b68e-b4b6492b2296\" style=\"height: 525px; width: 100%;\" class=\"plotly-graph-div\"></div><script type=\"text/javascript\">require([\"plotly\"], function(Plotly) { window.PLOTLYENV=window.PLOTLYENV || {};window.PLOTLYENV.BASE_URL=\"https://plot.ly\";\n",
       "        Plotly.plot(\n",
       "            '32f51185-74b2-4084-b68e-b4b6492b2296',\n",
       "            [{\"line\": {\"dash\": \"solid\"}, \"name\": \"\\u5b8c\\u6210\\u4e2a\\u6027\\u5316\\u6570(\\u8f6c\\u5f55\\u8c03\\u63a7\\u7ec4)\", \"x\": [\"9-2\", \"9-3\", \"9-4\"], \"y\": [2.0, 2.0, null], \"type\": \"scatter\", \"uid\": \"4dbec4c0-cb6f-11e8-a826-509a4c0f1ffc\"}, {\"line\": {\"dash\": \"dot\"}, \"name\": \"\\u5b8c\\u6210\\u4e2a\\u6027\\u5316\\u6570(\\u86cb\\u767d\\u548c\\u533b\\u5b66\\u7ec4)\", \"x\": [\"9-2\", \"9-3\", \"9-4\"], \"y\": [1.0, 2.0, null], \"type\": \"scatter\", \"uid\": \"4dbec4c1-cb6f-11e8-94bc-509a4c0f1ffc\"}, {\"line\": {\"dash\": \"dash\"}, \"name\": \"\\u5b8c\\u6210\\u4e2a\\u6027\\u5316\\u6570(\\u751f\\u7269\\u5b66DNA\\u7ec4)\", \"x\": [\"9-2\", \"9-3\", \"9-4\"], \"y\": [9.0, 2.0, 1.0], \"type\": \"scatter\", \"uid\": \"4dbec4c2-cb6f-11e8-9b42-509a4c0f1ffc\"}, {\"line\": {\"dash\": \"solid\"}, \"name\": \"\\u5b8c\\u6210\\u5546\\u4e1a\\u9879\\u76ee\\u6570(\\u8f6c\\u5f55\\u8c03\\u63a7\\u7ec4)\", \"x\": [\"9-2\", \"9-3\", \"9-4\"], \"y\": [0.0, 0.0, null], \"type\": \"scatter\", \"uid\": \"4dbec4c3-cb6f-11e8-a628-509a4c0f1ffc\"}, {\"line\": {\"dash\": \"dot\"}, \"name\": \"\\u5b8c\\u6210\\u5546\\u4e1a\\u9879\\u76ee\\u6570(\\u86cb\\u767d\\u548c\\u533b\\u5b66\\u7ec4)\", \"x\": [\"9-2\", \"9-3\", \"9-4\"], \"y\": [1.0, 2.0, null], \"type\": \"scatter\", \"uid\": \"4dbec4c4-cb6f-11e8-8a79-509a4c0f1ffc\"}, {\"line\": {\"dash\": \"dash\"}, \"name\": \"\\u5b8c\\u6210\\u5546\\u4e1a\\u9879\\u76ee\\u6570(\\u751f\\u7269\\u5b66DNA\\u7ec4)\", \"x\": [\"9-2\", \"9-3\", \"9-4\"], \"y\": [6.0, 6.0, 3.0], \"type\": \"scatter\", \"uid\": \"4dbec4c5-cb6f-11e8-a26c-509a4c0f1ffc\"}],\n",
       "            {\"title\": \"\\u5b8c\\u6210\\u4e2a\\u6027\\u5316\\u6570&\\u5b8c\\u6210\\u5546\\u4e1a\\u9879\\u76ee\\u6570\\u5468\\u8d8b\\u52bf\\u56fe\", \"xaxis\": {\"mirror\": \"all\", \"nticks\": 20, \"showgrid\": true, \"showline\": true, \"title\": \"\\u5468\", \"zeroline\": true}, \"yaxis\": {\"mirror\": \"all\", \"nticks\": 20, \"showgrid\": true, \"showline\": true, \"title\": \"\\u5b8c\\u6210\\u4e2a\\u6027\\u5316\\u6570&\\u5b8c\\u6210\\u5546\\u4e1a\\u9879\\u76ee\\u6570\", \"zeroline\": true}},\n",
       "            {\"showLink\": true, \"linkText\": \"Export to plot.ly\"}\n",
       "        ).then(function () {return Plotly.addFrames('32f51185-74b2-4084-b68e-b4b6492b2296',{});}).then(function(){Plotly.animate('32f51185-74b2-4084-b68e-b4b6492b2296');})\n",
       "        });</script>"
      ],
      "text/vnd.plotly.v1+html": [
       "<div id=\"32f51185-74b2-4084-b68e-b4b6492b2296\" style=\"height: 525px; width: 100%;\" class=\"plotly-graph-div\"></div><script type=\"text/javascript\">require([\"plotly\"], function(Plotly) { window.PLOTLYENV=window.PLOTLYENV || {};window.PLOTLYENV.BASE_URL=\"https://plot.ly\";\n",
       "        Plotly.plot(\n",
       "            '32f51185-74b2-4084-b68e-b4b6492b2296',\n",
       "            [{\"line\": {\"dash\": \"solid\"}, \"name\": \"\\u5b8c\\u6210\\u4e2a\\u6027\\u5316\\u6570(\\u8f6c\\u5f55\\u8c03\\u63a7\\u7ec4)\", \"x\": [\"9-2\", \"9-3\", \"9-4\"], \"y\": [2.0, 2.0, null], \"type\": \"scatter\", \"uid\": \"4dbec4c0-cb6f-11e8-a826-509a4c0f1ffc\"}, {\"line\": {\"dash\": \"dot\"}, \"name\": \"\\u5b8c\\u6210\\u4e2a\\u6027\\u5316\\u6570(\\u86cb\\u767d\\u548c\\u533b\\u5b66\\u7ec4)\", \"x\": [\"9-2\", \"9-3\", \"9-4\"], \"y\": [1.0, 2.0, null], \"type\": \"scatter\", \"uid\": \"4dbec4c1-cb6f-11e8-94bc-509a4c0f1ffc\"}, {\"line\": {\"dash\": \"dash\"}, \"name\": \"\\u5b8c\\u6210\\u4e2a\\u6027\\u5316\\u6570(\\u751f\\u7269\\u5b66DNA\\u7ec4)\", \"x\": [\"9-2\", \"9-3\", \"9-4\"], \"y\": [9.0, 2.0, 1.0], \"type\": \"scatter\", \"uid\": \"4dbec4c2-cb6f-11e8-9b42-509a4c0f1ffc\"}, {\"line\": {\"dash\": \"solid\"}, \"name\": \"\\u5b8c\\u6210\\u5546\\u4e1a\\u9879\\u76ee\\u6570(\\u8f6c\\u5f55\\u8c03\\u63a7\\u7ec4)\", \"x\": [\"9-2\", \"9-3\", \"9-4\"], \"y\": [0.0, 0.0, null], \"type\": \"scatter\", \"uid\": \"4dbec4c3-cb6f-11e8-a628-509a4c0f1ffc\"}, {\"line\": {\"dash\": \"dot\"}, \"name\": \"\\u5b8c\\u6210\\u5546\\u4e1a\\u9879\\u76ee\\u6570(\\u86cb\\u767d\\u548c\\u533b\\u5b66\\u7ec4)\", \"x\": [\"9-2\", \"9-3\", \"9-4\"], \"y\": [1.0, 2.0, null], \"type\": \"scatter\", \"uid\": \"4dbec4c4-cb6f-11e8-8a79-509a4c0f1ffc\"}, {\"line\": {\"dash\": \"dash\"}, \"name\": \"\\u5b8c\\u6210\\u5546\\u4e1a\\u9879\\u76ee\\u6570(\\u751f\\u7269\\u5b66DNA\\u7ec4)\", \"x\": [\"9-2\", \"9-3\", \"9-4\"], \"y\": [6.0, 6.0, 3.0], \"type\": \"scatter\", \"uid\": \"4dbec4c5-cb6f-11e8-a26c-509a4c0f1ffc\"}],\n",
       "            {\"title\": \"\\u5b8c\\u6210\\u4e2a\\u6027\\u5316\\u6570&\\u5b8c\\u6210\\u5546\\u4e1a\\u9879\\u76ee\\u6570\\u5468\\u8d8b\\u52bf\\u56fe\", \"xaxis\": {\"mirror\": \"all\", \"nticks\": 20, \"showgrid\": true, \"showline\": true, \"title\": \"\\u5468\", \"zeroline\": true}, \"yaxis\": {\"mirror\": \"all\", \"nticks\": 20, \"showgrid\": true, \"showline\": true, \"title\": \"\\u5b8c\\u6210\\u4e2a\\u6027\\u5316\\u6570&\\u5b8c\\u6210\\u5546\\u4e1a\\u9879\\u76ee\\u6570\", \"zeroline\": true}},\n",
       "            {\"showLink\": true, \"linkText\": \"Export to plot.ly\"}\n",
       "        ).then(function () {return Plotly.addFrames('32f51185-74b2-4084-b68e-b4b6492b2296',{});}).then(function(){Plotly.animate('32f51185-74b2-4084-b68e-b4b6492b2296');})\n",
       "        });</script>"
      ]
     },
     "metadata": {},
     "output_type": "display_data"
    }
   ],
   "source": [
    "ss=myModule.format(all_dict_2 ,\"日期\" ,['完成商业项目数','完成个性化数'])\n",
    "ss.add_group('组别')\n",
    "tt = myModule.myPlot(ss.groupby('sum'))\n",
    "tt.plot('line')"
   ]
  },
  {
   "cell_type": "markdown",
   "metadata": {},
   "source": [
    "### 各组延期项目数"
   ]
  },
  {
   "cell_type": "code",
   "execution_count": 181,
   "metadata": {
    "collapsed": false
   },
   "outputs": [
    {
     "data": {
      "application/vnd.plotly.v1+json": {
       "data": [
        {
         "line": {
          "dash": "solid"
         },
         "name": "延期商业项目数(转录调控组)",
         "type": "scatter",
         "uid": "4e0088ae-cb6f-11e8-9927-509a4c0f1ffc",
         "x": [
          "9-2",
          "9-3",
          "9-4"
         ],
         "y": [
          0,
          0,
          null
         ]
        },
        {
         "line": {
          "dash": "dot"
         },
         "name": "延期商业项目数(蛋白和医学组)",
         "type": "scatter",
         "uid": "4e0088af-cb6f-11e8-ab0d-509a4c0f1ffc",
         "x": [
          "9-2",
          "9-3",
          "9-4"
         ],
         "y": [
          0,
          0,
          null
         ]
        },
        {
         "line": {
          "dash": "dash"
         },
         "name": "延期商业项目数(生物学DNA组)",
         "type": "scatter",
         "uid": "4e0088b0-cb6f-11e8-b645-509a4c0f1ffc",
         "x": [
          "9-2",
          "9-3",
          "9-4"
         ],
         "y": [
          0,
          0,
          0
         ]
        },
        {
         "line": {
          "dash": "solid"
         },
         "name": "延期个性化项目数(转录调控组)",
         "type": "scatter",
         "uid": "4e0088b1-cb6f-11e8-abdc-509a4c0f1ffc",
         "x": [
          "9-2",
          "9-3",
          "9-4"
         ],
         "y": [
          1,
          0,
          null
         ]
        },
        {
         "line": {
          "dash": "dot"
         },
         "name": "延期个性化项目数(蛋白和医学组)",
         "type": "scatter",
         "uid": "4e0088b2-cb6f-11e8-a58b-509a4c0f1ffc",
         "x": [
          "9-2",
          "9-3",
          "9-4"
         ],
         "y": [
          0,
          0,
          null
         ]
        },
        {
         "line": {
          "dash": "dash"
         },
         "name": "延期个性化项目数(生物学DNA组)",
         "type": "scatter",
         "uid": "4e0088b3-cb6f-11e8-800c-509a4c0f1ffc",
         "x": [
          "9-2",
          "9-3",
          "9-4"
         ],
         "y": [
          0,
          0,
          0
         ]
        }
       ],
       "layout": {
        "title": "延期商业项目数&延期个性化项目数周趋势图",
        "xaxis": {
         "mirror": "all",
         "nticks": 20,
         "showgrid": true,
         "showline": true,
         "title": "周",
         "zeroline": true
        },
        "yaxis": {
         "mirror": "all",
         "nticks": 20,
         "showgrid": true,
         "showline": true,
         "title": "延期商业项目数&延期个性化项目数",
         "zeroline": true
        }
       }
      },
      "text/html": [
       "<div id=\"5e666f75-6134-499a-9528-f18977b02be9\" style=\"height: 525px; width: 100%;\" class=\"plotly-graph-div\"></div><script type=\"text/javascript\">require([\"plotly\"], function(Plotly) { window.PLOTLYENV=window.PLOTLYENV || {};window.PLOTLYENV.BASE_URL=\"https://plot.ly\";\n",
       "        Plotly.plot(\n",
       "            '5e666f75-6134-499a-9528-f18977b02be9',\n",
       "            [{\"line\": {\"dash\": \"solid\"}, \"name\": \"\\u5ef6\\u671f\\u5546\\u4e1a\\u9879\\u76ee\\u6570(\\u8f6c\\u5f55\\u8c03\\u63a7\\u7ec4)\", \"x\": [\"9-2\", \"9-3\", \"9-4\"], \"y\": [0.0, 0.0, null], \"type\": \"scatter\", \"uid\": \"4e0088ae-cb6f-11e8-9927-509a4c0f1ffc\"}, {\"line\": {\"dash\": \"dot\"}, \"name\": \"\\u5ef6\\u671f\\u5546\\u4e1a\\u9879\\u76ee\\u6570(\\u86cb\\u767d\\u548c\\u533b\\u5b66\\u7ec4)\", \"x\": [\"9-2\", \"9-3\", \"9-4\"], \"y\": [0.0, 0.0, null], \"type\": \"scatter\", \"uid\": \"4e0088af-cb6f-11e8-ab0d-509a4c0f1ffc\"}, {\"line\": {\"dash\": \"dash\"}, \"name\": \"\\u5ef6\\u671f\\u5546\\u4e1a\\u9879\\u76ee\\u6570(\\u751f\\u7269\\u5b66DNA\\u7ec4)\", \"x\": [\"9-2\", \"9-3\", \"9-4\"], \"y\": [0.0, 0.0, 0.0], \"type\": \"scatter\", \"uid\": \"4e0088b0-cb6f-11e8-b645-509a4c0f1ffc\"}, {\"line\": {\"dash\": \"solid\"}, \"name\": \"\\u5ef6\\u671f\\u4e2a\\u6027\\u5316\\u9879\\u76ee\\u6570(\\u8f6c\\u5f55\\u8c03\\u63a7\\u7ec4)\", \"x\": [\"9-2\", \"9-3\", \"9-4\"], \"y\": [1.0, 0.0, null], \"type\": \"scatter\", \"uid\": \"4e0088b1-cb6f-11e8-abdc-509a4c0f1ffc\"}, {\"line\": {\"dash\": \"dot\"}, \"name\": \"\\u5ef6\\u671f\\u4e2a\\u6027\\u5316\\u9879\\u76ee\\u6570(\\u86cb\\u767d\\u548c\\u533b\\u5b66\\u7ec4)\", \"x\": [\"9-2\", \"9-3\", \"9-4\"], \"y\": [0.0, 0.0, null], \"type\": \"scatter\", \"uid\": \"4e0088b2-cb6f-11e8-a58b-509a4c0f1ffc\"}, {\"line\": {\"dash\": \"dash\"}, \"name\": \"\\u5ef6\\u671f\\u4e2a\\u6027\\u5316\\u9879\\u76ee\\u6570(\\u751f\\u7269\\u5b66DNA\\u7ec4)\", \"x\": [\"9-2\", \"9-3\", \"9-4\"], \"y\": [0.0, 0.0, 0.0], \"type\": \"scatter\", \"uid\": \"4e0088b3-cb6f-11e8-800c-509a4c0f1ffc\"}],\n",
       "            {\"title\": \"\\u5ef6\\u671f\\u5546\\u4e1a\\u9879\\u76ee\\u6570&\\u5ef6\\u671f\\u4e2a\\u6027\\u5316\\u9879\\u76ee\\u6570\\u5468\\u8d8b\\u52bf\\u56fe\", \"xaxis\": {\"mirror\": \"all\", \"nticks\": 20, \"showgrid\": true, \"showline\": true, \"title\": \"\\u5468\", \"zeroline\": true}, \"yaxis\": {\"mirror\": \"all\", \"nticks\": 20, \"showgrid\": true, \"showline\": true, \"title\": \"\\u5ef6\\u671f\\u5546\\u4e1a\\u9879\\u76ee\\u6570&\\u5ef6\\u671f\\u4e2a\\u6027\\u5316\\u9879\\u76ee\\u6570\", \"zeroline\": true}},\n",
       "            {\"showLink\": true, \"linkText\": \"Export to plot.ly\"}\n",
       "        ).then(function () {return Plotly.addFrames('5e666f75-6134-499a-9528-f18977b02be9',{});}).then(function(){Plotly.animate('5e666f75-6134-499a-9528-f18977b02be9');})\n",
       "        });</script>"
      ],
      "text/vnd.plotly.v1+html": [
       "<div id=\"5e666f75-6134-499a-9528-f18977b02be9\" style=\"height: 525px; width: 100%;\" class=\"plotly-graph-div\"></div><script type=\"text/javascript\">require([\"plotly\"], function(Plotly) { window.PLOTLYENV=window.PLOTLYENV || {};window.PLOTLYENV.BASE_URL=\"https://plot.ly\";\n",
       "        Plotly.plot(\n",
       "            '5e666f75-6134-499a-9528-f18977b02be9',\n",
       "            [{\"line\": {\"dash\": \"solid\"}, \"name\": \"\\u5ef6\\u671f\\u5546\\u4e1a\\u9879\\u76ee\\u6570(\\u8f6c\\u5f55\\u8c03\\u63a7\\u7ec4)\", \"x\": [\"9-2\", \"9-3\", \"9-4\"], \"y\": [0.0, 0.0, null], \"type\": \"scatter\", \"uid\": \"4e0088ae-cb6f-11e8-9927-509a4c0f1ffc\"}, {\"line\": {\"dash\": \"dot\"}, \"name\": \"\\u5ef6\\u671f\\u5546\\u4e1a\\u9879\\u76ee\\u6570(\\u86cb\\u767d\\u548c\\u533b\\u5b66\\u7ec4)\", \"x\": [\"9-2\", \"9-3\", \"9-4\"], \"y\": [0.0, 0.0, null], \"type\": \"scatter\", \"uid\": \"4e0088af-cb6f-11e8-ab0d-509a4c0f1ffc\"}, {\"line\": {\"dash\": \"dash\"}, \"name\": \"\\u5ef6\\u671f\\u5546\\u4e1a\\u9879\\u76ee\\u6570(\\u751f\\u7269\\u5b66DNA\\u7ec4)\", \"x\": [\"9-2\", \"9-3\", \"9-4\"], \"y\": [0.0, 0.0, 0.0], \"type\": \"scatter\", \"uid\": \"4e0088b0-cb6f-11e8-b645-509a4c0f1ffc\"}, {\"line\": {\"dash\": \"solid\"}, \"name\": \"\\u5ef6\\u671f\\u4e2a\\u6027\\u5316\\u9879\\u76ee\\u6570(\\u8f6c\\u5f55\\u8c03\\u63a7\\u7ec4)\", \"x\": [\"9-2\", \"9-3\", \"9-4\"], \"y\": [1.0, 0.0, null], \"type\": \"scatter\", \"uid\": \"4e0088b1-cb6f-11e8-abdc-509a4c0f1ffc\"}, {\"line\": {\"dash\": \"dot\"}, \"name\": \"\\u5ef6\\u671f\\u4e2a\\u6027\\u5316\\u9879\\u76ee\\u6570(\\u86cb\\u767d\\u548c\\u533b\\u5b66\\u7ec4)\", \"x\": [\"9-2\", \"9-3\", \"9-4\"], \"y\": [0.0, 0.0, null], \"type\": \"scatter\", \"uid\": \"4e0088b2-cb6f-11e8-a58b-509a4c0f1ffc\"}, {\"line\": {\"dash\": \"dash\"}, \"name\": \"\\u5ef6\\u671f\\u4e2a\\u6027\\u5316\\u9879\\u76ee\\u6570(\\u751f\\u7269\\u5b66DNA\\u7ec4)\", \"x\": [\"9-2\", \"9-3\", \"9-4\"], \"y\": [0.0, 0.0, 0.0], \"type\": \"scatter\", \"uid\": \"4e0088b3-cb6f-11e8-800c-509a4c0f1ffc\"}],\n",
       "            {\"title\": \"\\u5ef6\\u671f\\u5546\\u4e1a\\u9879\\u76ee\\u6570&\\u5ef6\\u671f\\u4e2a\\u6027\\u5316\\u9879\\u76ee\\u6570\\u5468\\u8d8b\\u52bf\\u56fe\", \"xaxis\": {\"mirror\": \"all\", \"nticks\": 20, \"showgrid\": true, \"showline\": true, \"title\": \"\\u5468\", \"zeroline\": true}, \"yaxis\": {\"mirror\": \"all\", \"nticks\": 20, \"showgrid\": true, \"showline\": true, \"title\": \"\\u5ef6\\u671f\\u5546\\u4e1a\\u9879\\u76ee\\u6570&\\u5ef6\\u671f\\u4e2a\\u6027\\u5316\\u9879\\u76ee\\u6570\", \"zeroline\": true}},\n",
       "            {\"showLink\": true, \"linkText\": \"Export to plot.ly\"}\n",
       "        ).then(function () {return Plotly.addFrames('5e666f75-6134-499a-9528-f18977b02be9',{});}).then(function(){Plotly.animate('5e666f75-6134-499a-9528-f18977b02be9');})\n",
       "        });</script>"
      ]
     },
     "metadata": {},
     "output_type": "display_data"
    }
   ],
   "source": [
    "ss=myModule.format(all_dict_2 ,\"日期\" ,['延期商业项目数','延期个性化项目数'])\n",
    "ss.add_group('组别')\n",
    "tt = myModule.myPlot(ss.groupby('sum'))\n",
    "tt.plot('line')\n"
   ]
  },
  {
   "cell_type": "markdown",
   "metadata": {},
   "source": [
    "### 各组反馈延期数"
   ]
  },
  {
   "cell_type": "code",
   "execution_count": 182,
   "metadata": {
    "collapsed": false
   },
   "outputs": [
    {
     "data": {
      "application/vnd.plotly.v1+json": {
       "data": [
        {
         "line": {
          "dash": "solid"
         },
         "name": "24h内未完成数据反馈项目数(转录调控组)",
         "type": "scatter",
         "uid": "4e3a5d5e-cb6f-11e8-946d-509a4c0f1ffc",
         "x": [
          "9-2",
          "9-3",
          "9-4"
         ],
         "y": [
          1,
          0,
          null
         ]
        },
        {
         "line": {
          "dash": "dot"
         },
         "name": "24h内未完成数据反馈项目数(蛋白和医学组)",
         "type": "scatter",
         "uid": "4e3a846e-cb6f-11e8-a7a2-509a4c0f1ffc",
         "x": [
          "9-2",
          "9-3",
          "9-4"
         ],
         "y": [
          0,
          0,
          null
         ]
        },
        {
         "line": {
          "dash": "dash"
         },
         "name": "24h内未完成数据反馈项目数(生物学DNA组)",
         "type": "scatter",
         "uid": "4e3a846f-cb6f-11e8-a478-509a4c0f1ffc",
         "x": [
          "9-2",
          "9-3",
          "9-4"
         ],
         "y": [
          0,
          0,
          1
         ]
        },
        {
         "line": {
          "dash": "solid"
         },
         "name": "反馈延期个性化数(转录调控组)",
         "type": "scatter",
         "uid": "4e3a8470-cb6f-11e8-a3f9-509a4c0f1ffc",
         "x": [
          "9-2",
          "9-3",
          "9-4"
         ],
         "y": [
          1,
          0,
          null
         ]
        },
        {
         "line": {
          "dash": "dot"
         },
         "name": "反馈延期个性化数(蛋白和医学组)",
         "type": "scatter",
         "uid": "4e3a8471-cb6f-11e8-8e3f-509a4c0f1ffc",
         "x": [
          "9-2",
          "9-3",
          "9-4"
         ],
         "y": [
          0,
          0,
          null
         ]
        },
        {
         "line": {
          "dash": "dash"
         },
         "name": "反馈延期个性化数(生物学DNA组)",
         "type": "scatter",
         "uid": "4e3a8472-cb6f-11e8-9f78-509a4c0f1ffc",
         "x": [
          "9-2",
          "9-3",
          "9-4"
         ],
         "y": [
          0,
          0,
          0
         ]
        }
       ],
       "layout": {
        "title": "24h内未完成数据反馈项目数&反馈延期个性化数周趋势图",
        "xaxis": {
         "mirror": "all",
         "nticks": 20,
         "showgrid": true,
         "showline": true,
         "title": "周",
         "zeroline": true
        },
        "yaxis": {
         "mirror": "all",
         "nticks": 20,
         "showgrid": true,
         "showline": true,
         "title": "24h内未完成数据反馈项目数&反馈延期个性化数",
         "zeroline": true
        }
       }
      },
      "text/html": [
       "<div id=\"6661dbee-eb7f-4cec-a1d6-20e04548087f\" style=\"height: 525px; width: 100%;\" class=\"plotly-graph-div\"></div><script type=\"text/javascript\">require([\"plotly\"], function(Plotly) { window.PLOTLYENV=window.PLOTLYENV || {};window.PLOTLYENV.BASE_URL=\"https://plot.ly\";\n",
       "        Plotly.plot(\n",
       "            '6661dbee-eb7f-4cec-a1d6-20e04548087f',\n",
       "            [{\"line\": {\"dash\": \"solid\"}, \"name\": \"24h\\u5185\\u672a\\u5b8c\\u6210\\u6570\\u636e\\u53cd\\u9988\\u9879\\u76ee\\u6570(\\u8f6c\\u5f55\\u8c03\\u63a7\\u7ec4)\", \"x\": [\"9-2\", \"9-3\", \"9-4\"], \"y\": [1.0, 0.0, null], \"type\": \"scatter\", \"uid\": \"4e3a5d5e-cb6f-11e8-946d-509a4c0f1ffc\"}, {\"line\": {\"dash\": \"dot\"}, \"name\": \"24h\\u5185\\u672a\\u5b8c\\u6210\\u6570\\u636e\\u53cd\\u9988\\u9879\\u76ee\\u6570(\\u86cb\\u767d\\u548c\\u533b\\u5b66\\u7ec4)\", \"x\": [\"9-2\", \"9-3\", \"9-4\"], \"y\": [0.0, 0.0, null], \"type\": \"scatter\", \"uid\": \"4e3a846e-cb6f-11e8-a7a2-509a4c0f1ffc\"}, {\"line\": {\"dash\": \"dash\"}, \"name\": \"24h\\u5185\\u672a\\u5b8c\\u6210\\u6570\\u636e\\u53cd\\u9988\\u9879\\u76ee\\u6570(\\u751f\\u7269\\u5b66DNA\\u7ec4)\", \"x\": [\"9-2\", \"9-3\", \"9-4\"], \"y\": [0.0, 0.0, 1.0], \"type\": \"scatter\", \"uid\": \"4e3a846f-cb6f-11e8-a478-509a4c0f1ffc\"}, {\"line\": {\"dash\": \"solid\"}, \"name\": \"\\u53cd\\u9988\\u5ef6\\u671f\\u4e2a\\u6027\\u5316\\u6570(\\u8f6c\\u5f55\\u8c03\\u63a7\\u7ec4)\", \"x\": [\"9-2\", \"9-3\", \"9-4\"], \"y\": [1.0, 0.0, null], \"type\": \"scatter\", \"uid\": \"4e3a8470-cb6f-11e8-a3f9-509a4c0f1ffc\"}, {\"line\": {\"dash\": \"dot\"}, \"name\": \"\\u53cd\\u9988\\u5ef6\\u671f\\u4e2a\\u6027\\u5316\\u6570(\\u86cb\\u767d\\u548c\\u533b\\u5b66\\u7ec4)\", \"x\": [\"9-2\", \"9-3\", \"9-4\"], \"y\": [0.0, 0.0, null], \"type\": \"scatter\", \"uid\": \"4e3a8471-cb6f-11e8-8e3f-509a4c0f1ffc\"}, {\"line\": {\"dash\": \"dash\"}, \"name\": \"\\u53cd\\u9988\\u5ef6\\u671f\\u4e2a\\u6027\\u5316\\u6570(\\u751f\\u7269\\u5b66DNA\\u7ec4)\", \"x\": [\"9-2\", \"9-3\", \"9-4\"], \"y\": [0.0, 0.0, 0.0], \"type\": \"scatter\", \"uid\": \"4e3a8472-cb6f-11e8-9f78-509a4c0f1ffc\"}],\n",
       "            {\"title\": \"24h\\u5185\\u672a\\u5b8c\\u6210\\u6570\\u636e\\u53cd\\u9988\\u9879\\u76ee\\u6570&\\u53cd\\u9988\\u5ef6\\u671f\\u4e2a\\u6027\\u5316\\u6570\\u5468\\u8d8b\\u52bf\\u56fe\", \"xaxis\": {\"mirror\": \"all\", \"nticks\": 20, \"showgrid\": true, \"showline\": true, \"title\": \"\\u5468\", \"zeroline\": true}, \"yaxis\": {\"mirror\": \"all\", \"nticks\": 20, \"showgrid\": true, \"showline\": true, \"title\": \"24h\\u5185\\u672a\\u5b8c\\u6210\\u6570\\u636e\\u53cd\\u9988\\u9879\\u76ee\\u6570&\\u53cd\\u9988\\u5ef6\\u671f\\u4e2a\\u6027\\u5316\\u6570\", \"zeroline\": true}},\n",
       "            {\"showLink\": true, \"linkText\": \"Export to plot.ly\"}\n",
       "        ).then(function () {return Plotly.addFrames('6661dbee-eb7f-4cec-a1d6-20e04548087f',{});}).then(function(){Plotly.animate('6661dbee-eb7f-4cec-a1d6-20e04548087f');})\n",
       "        });</script>"
      ],
      "text/vnd.plotly.v1+html": [
       "<div id=\"6661dbee-eb7f-4cec-a1d6-20e04548087f\" style=\"height: 525px; width: 100%;\" class=\"plotly-graph-div\"></div><script type=\"text/javascript\">require([\"plotly\"], function(Plotly) { window.PLOTLYENV=window.PLOTLYENV || {};window.PLOTLYENV.BASE_URL=\"https://plot.ly\";\n",
       "        Plotly.plot(\n",
       "            '6661dbee-eb7f-4cec-a1d6-20e04548087f',\n",
       "            [{\"line\": {\"dash\": \"solid\"}, \"name\": \"24h\\u5185\\u672a\\u5b8c\\u6210\\u6570\\u636e\\u53cd\\u9988\\u9879\\u76ee\\u6570(\\u8f6c\\u5f55\\u8c03\\u63a7\\u7ec4)\", \"x\": [\"9-2\", \"9-3\", \"9-4\"], \"y\": [1.0, 0.0, null], \"type\": \"scatter\", \"uid\": \"4e3a5d5e-cb6f-11e8-946d-509a4c0f1ffc\"}, {\"line\": {\"dash\": \"dot\"}, \"name\": \"24h\\u5185\\u672a\\u5b8c\\u6210\\u6570\\u636e\\u53cd\\u9988\\u9879\\u76ee\\u6570(\\u86cb\\u767d\\u548c\\u533b\\u5b66\\u7ec4)\", \"x\": [\"9-2\", \"9-3\", \"9-4\"], \"y\": [0.0, 0.0, null], \"type\": \"scatter\", \"uid\": \"4e3a846e-cb6f-11e8-a7a2-509a4c0f1ffc\"}, {\"line\": {\"dash\": \"dash\"}, \"name\": \"24h\\u5185\\u672a\\u5b8c\\u6210\\u6570\\u636e\\u53cd\\u9988\\u9879\\u76ee\\u6570(\\u751f\\u7269\\u5b66DNA\\u7ec4)\", \"x\": [\"9-2\", \"9-3\", \"9-4\"], \"y\": [0.0, 0.0, 1.0], \"type\": \"scatter\", \"uid\": \"4e3a846f-cb6f-11e8-a478-509a4c0f1ffc\"}, {\"line\": {\"dash\": \"solid\"}, \"name\": \"\\u53cd\\u9988\\u5ef6\\u671f\\u4e2a\\u6027\\u5316\\u6570(\\u8f6c\\u5f55\\u8c03\\u63a7\\u7ec4)\", \"x\": [\"9-2\", \"9-3\", \"9-4\"], \"y\": [1.0, 0.0, null], \"type\": \"scatter\", \"uid\": \"4e3a8470-cb6f-11e8-a3f9-509a4c0f1ffc\"}, {\"line\": {\"dash\": \"dot\"}, \"name\": \"\\u53cd\\u9988\\u5ef6\\u671f\\u4e2a\\u6027\\u5316\\u6570(\\u86cb\\u767d\\u548c\\u533b\\u5b66\\u7ec4)\", \"x\": [\"9-2\", \"9-3\", \"9-4\"], \"y\": [0.0, 0.0, null], \"type\": \"scatter\", \"uid\": \"4e3a8471-cb6f-11e8-8e3f-509a4c0f1ffc\"}, {\"line\": {\"dash\": \"dash\"}, \"name\": \"\\u53cd\\u9988\\u5ef6\\u671f\\u4e2a\\u6027\\u5316\\u6570(\\u751f\\u7269\\u5b66DNA\\u7ec4)\", \"x\": [\"9-2\", \"9-3\", \"9-4\"], \"y\": [0.0, 0.0, 0.0], \"type\": \"scatter\", \"uid\": \"4e3a8472-cb6f-11e8-9f78-509a4c0f1ffc\"}],\n",
       "            {\"title\": \"24h\\u5185\\u672a\\u5b8c\\u6210\\u6570\\u636e\\u53cd\\u9988\\u9879\\u76ee\\u6570&\\u53cd\\u9988\\u5ef6\\u671f\\u4e2a\\u6027\\u5316\\u6570\\u5468\\u8d8b\\u52bf\\u56fe\", \"xaxis\": {\"mirror\": \"all\", \"nticks\": 20, \"showgrid\": true, \"showline\": true, \"title\": \"\\u5468\", \"zeroline\": true}, \"yaxis\": {\"mirror\": \"all\", \"nticks\": 20, \"showgrid\": true, \"showline\": true, \"title\": \"24h\\u5185\\u672a\\u5b8c\\u6210\\u6570\\u636e\\u53cd\\u9988\\u9879\\u76ee\\u6570&\\u53cd\\u9988\\u5ef6\\u671f\\u4e2a\\u6027\\u5316\\u6570\", \"zeroline\": true}},\n",
       "            {\"showLink\": true, \"linkText\": \"Export to plot.ly\"}\n",
       "        ).then(function () {return Plotly.addFrames('6661dbee-eb7f-4cec-a1d6-20e04548087f',{});}).then(function(){Plotly.animate('6661dbee-eb7f-4cec-a1d6-20e04548087f');})\n",
       "        });</script>"
      ]
     },
     "metadata": {},
     "output_type": "display_data"
    }
   ],
   "source": [
    "ss=myModule.format(all_dict_2 ,\"日期\" ,['24h内未完成数据反馈项目数','反馈延期个性化数'])\n",
    "ss.add_group('组别')\n",
    "tt = myModule.myPlot(ss.groupby('sum'))\n",
    "tt.plot('line')"
   ]
  },
  {
   "cell_type": "markdown",
   "metadata": {},
   "source": [
    "### 各组延期率"
   ]
  },
  {
   "cell_type": "code",
   "execution_count": 183,
   "metadata": {
    "collapsed": false
   },
   "outputs": [
    {
     "data": {
      "application/vnd.plotly.v1+json": {
       "data": [
        {
         "line": {
          "dash": "solid"
         },
         "name": "商业项目延期率(转录调控组)",
         "type": "scatter",
         "uid": "4e7654ee-cb6f-11e8-a3a4-509a4c0f1ffc",
         "x": [
          "9-2",
          "9-3",
          "9-4"
         ],
         "y": [
          0,
          0,
          null
         ]
        },
        {
         "line": {
          "dash": "dot"
         },
         "name": "商业项目延期率(蛋白和医学组)",
         "type": "scatter",
         "uid": "4e7654ef-cb6f-11e8-a1ad-509a4c0f1ffc",
         "x": [
          "9-2",
          "9-3",
          "9-4"
         ],
         "y": [
          0,
          0,
          null
         ]
        },
        {
         "line": {
          "dash": "dash"
         },
         "name": "商业项目延期率(生物学DNA组)",
         "type": "scatter",
         "uid": "4e7654f0-cb6f-11e8-9c1a-509a4c0f1ffc",
         "x": [
          "9-2",
          "9-3",
          "9-4"
         ],
         "y": [
          0,
          0,
          0
         ]
        },
        {
         "line": {
          "dash": "solid"
         },
         "name": "总延期率(转录调控组)",
         "type": "scatter",
         "uid": "4e7654f1-cb6f-11e8-96fb-509a4c0f1ffc",
         "x": [
          "9-2",
          "9-3",
          "9-4"
         ],
         "y": [
          0.3333333333333333,
          0,
          null
         ]
        },
        {
         "line": {
          "dash": "dot"
         },
         "name": "总延期率(蛋白和医学组)",
         "type": "scatter",
         "uid": "4e7654f2-cb6f-11e8-88ef-509a4c0f1ffc",
         "x": [
          "9-2",
          "9-3",
          "9-4"
         ],
         "y": [
          0,
          0,
          null
         ]
        },
        {
         "line": {
          "dash": "dash"
         },
         "name": "总延期率(生物学DNA组)",
         "type": "scatter",
         "uid": "4e7654f3-cb6f-11e8-a8e4-509a4c0f1ffc",
         "x": [
          "9-2",
          "9-3",
          "9-4"
         ],
         "y": [
          0,
          0,
          0
         ]
        },
        {
         "line": {
          "dash": "solid"
         },
         "name": "个性化项目延期率(转录调控组)",
         "type": "scatter",
         "uid": "4e7654f4-cb6f-11e8-a579-509a4c0f1ffc",
         "x": [
          "9-2",
          "9-3",
          "9-4"
         ],
         "y": [
          0.3333333333333333,
          0,
          null
         ]
        },
        {
         "line": {
          "dash": "dot"
         },
         "name": "个性化项目延期率(蛋白和医学组)",
         "type": "scatter",
         "uid": "4e7654f5-cb6f-11e8-aa44-509a4c0f1ffc",
         "x": [
          "9-2",
          "9-3",
          "9-4"
         ],
         "y": [
          0,
          0,
          null
         ]
        },
        {
         "line": {
          "dash": "dash"
         },
         "name": "个性化项目延期率(生物学DNA组)",
         "type": "scatter",
         "uid": "4e7654f6-cb6f-11e8-90ac-509a4c0f1ffc",
         "x": [
          "9-2",
          "9-3",
          "9-4"
         ],
         "y": [
          0,
          0,
          0
         ]
        }
       ],
       "layout": {
        "title": "商业项目延期率&总延期率&个性化项目延期率周趋势图",
        "xaxis": {
         "mirror": "all",
         "nticks": 20,
         "showgrid": true,
         "showline": true,
         "title": "周",
         "zeroline": true
        },
        "yaxis": {
         "mirror": "all",
         "nticks": 20,
         "showgrid": true,
         "showline": true,
         "title": "商业项目延期率&总延期率&个性化项目延期率",
         "zeroline": true
        }
       }
      },
      "text/html": [
       "<div id=\"dbc5ceeb-c603-454b-9664-b521c0eecd27\" style=\"height: 525px; width: 100%;\" class=\"plotly-graph-div\"></div><script type=\"text/javascript\">require([\"plotly\"], function(Plotly) { window.PLOTLYENV=window.PLOTLYENV || {};window.PLOTLYENV.BASE_URL=\"https://plot.ly\";\n",
       "        Plotly.plot(\n",
       "            'dbc5ceeb-c603-454b-9664-b521c0eecd27',\n",
       "            [{\"line\": {\"dash\": \"solid\"}, \"name\": \"\\u5546\\u4e1a\\u9879\\u76ee\\u5ef6\\u671f\\u7387(\\u8f6c\\u5f55\\u8c03\\u63a7\\u7ec4)\", \"x\": [\"9-2\", \"9-3\", \"9-4\"], \"y\": [0.0, 0.0, null], \"type\": \"scatter\", \"uid\": \"4e7654ee-cb6f-11e8-a3a4-509a4c0f1ffc\"}, {\"line\": {\"dash\": \"dot\"}, \"name\": \"\\u5546\\u4e1a\\u9879\\u76ee\\u5ef6\\u671f\\u7387(\\u86cb\\u767d\\u548c\\u533b\\u5b66\\u7ec4)\", \"x\": [\"9-2\", \"9-3\", \"9-4\"], \"y\": [0.0, 0.0, null], \"type\": \"scatter\", \"uid\": \"4e7654ef-cb6f-11e8-a1ad-509a4c0f1ffc\"}, {\"line\": {\"dash\": \"dash\"}, \"name\": \"\\u5546\\u4e1a\\u9879\\u76ee\\u5ef6\\u671f\\u7387(\\u751f\\u7269\\u5b66DNA\\u7ec4)\", \"x\": [\"9-2\", \"9-3\", \"9-4\"], \"y\": [0.0, 0.0, 0.0], \"type\": \"scatter\", \"uid\": \"4e7654f0-cb6f-11e8-9c1a-509a4c0f1ffc\"}, {\"line\": {\"dash\": \"solid\"}, \"name\": \"\\u603b\\u5ef6\\u671f\\u7387(\\u8f6c\\u5f55\\u8c03\\u63a7\\u7ec4)\", \"x\": [\"9-2\", \"9-3\", \"9-4\"], \"y\": [0.3333333333333333, 0.0, null], \"type\": \"scatter\", \"uid\": \"4e7654f1-cb6f-11e8-96fb-509a4c0f1ffc\"}, {\"line\": {\"dash\": \"dot\"}, \"name\": \"\\u603b\\u5ef6\\u671f\\u7387(\\u86cb\\u767d\\u548c\\u533b\\u5b66\\u7ec4)\", \"x\": [\"9-2\", \"9-3\", \"9-4\"], \"y\": [0.0, 0.0, null], \"type\": \"scatter\", \"uid\": \"4e7654f2-cb6f-11e8-88ef-509a4c0f1ffc\"}, {\"line\": {\"dash\": \"dash\"}, \"name\": \"\\u603b\\u5ef6\\u671f\\u7387(\\u751f\\u7269\\u5b66DNA\\u7ec4)\", \"x\": [\"9-2\", \"9-3\", \"9-4\"], \"y\": [0.0, 0.0, 0.0], \"type\": \"scatter\", \"uid\": \"4e7654f3-cb6f-11e8-a8e4-509a4c0f1ffc\"}, {\"line\": {\"dash\": \"solid\"}, \"name\": \"\\u4e2a\\u6027\\u5316\\u9879\\u76ee\\u5ef6\\u671f\\u7387(\\u8f6c\\u5f55\\u8c03\\u63a7\\u7ec4)\", \"x\": [\"9-2\", \"9-3\", \"9-4\"], \"y\": [0.3333333333333333, 0.0, null], \"type\": \"scatter\", \"uid\": \"4e7654f4-cb6f-11e8-a579-509a4c0f1ffc\"}, {\"line\": {\"dash\": \"dot\"}, \"name\": \"\\u4e2a\\u6027\\u5316\\u9879\\u76ee\\u5ef6\\u671f\\u7387(\\u86cb\\u767d\\u548c\\u533b\\u5b66\\u7ec4)\", \"x\": [\"9-2\", \"9-3\", \"9-4\"], \"y\": [0.0, 0.0, null], \"type\": \"scatter\", \"uid\": \"4e7654f5-cb6f-11e8-aa44-509a4c0f1ffc\"}, {\"line\": {\"dash\": \"dash\"}, \"name\": \"\\u4e2a\\u6027\\u5316\\u9879\\u76ee\\u5ef6\\u671f\\u7387(\\u751f\\u7269\\u5b66DNA\\u7ec4)\", \"x\": [\"9-2\", \"9-3\", \"9-4\"], \"y\": [0.0, 0.0, 0.0], \"type\": \"scatter\", \"uid\": \"4e7654f6-cb6f-11e8-90ac-509a4c0f1ffc\"}],\n",
       "            {\"title\": \"\\u5546\\u4e1a\\u9879\\u76ee\\u5ef6\\u671f\\u7387&\\u603b\\u5ef6\\u671f\\u7387&\\u4e2a\\u6027\\u5316\\u9879\\u76ee\\u5ef6\\u671f\\u7387\\u5468\\u8d8b\\u52bf\\u56fe\", \"xaxis\": {\"mirror\": \"all\", \"nticks\": 20, \"showgrid\": true, \"showline\": true, \"title\": \"\\u5468\", \"zeroline\": true}, \"yaxis\": {\"mirror\": \"all\", \"nticks\": 20, \"showgrid\": true, \"showline\": true, \"title\": \"\\u5546\\u4e1a\\u9879\\u76ee\\u5ef6\\u671f\\u7387&\\u603b\\u5ef6\\u671f\\u7387&\\u4e2a\\u6027\\u5316\\u9879\\u76ee\\u5ef6\\u671f\\u7387\", \"zeroline\": true}},\n",
       "            {\"showLink\": true, \"linkText\": \"Export to plot.ly\"}\n",
       "        ).then(function () {return Plotly.addFrames('dbc5ceeb-c603-454b-9664-b521c0eecd27',{});}).then(function(){Plotly.animate('dbc5ceeb-c603-454b-9664-b521c0eecd27');})\n",
       "        });</script>"
      ],
      "text/vnd.plotly.v1+html": [
       "<div id=\"dbc5ceeb-c603-454b-9664-b521c0eecd27\" style=\"height: 525px; width: 100%;\" class=\"plotly-graph-div\"></div><script type=\"text/javascript\">require([\"plotly\"], function(Plotly) { window.PLOTLYENV=window.PLOTLYENV || {};window.PLOTLYENV.BASE_URL=\"https://plot.ly\";\n",
       "        Plotly.plot(\n",
       "            'dbc5ceeb-c603-454b-9664-b521c0eecd27',\n",
       "            [{\"line\": {\"dash\": \"solid\"}, \"name\": \"\\u5546\\u4e1a\\u9879\\u76ee\\u5ef6\\u671f\\u7387(\\u8f6c\\u5f55\\u8c03\\u63a7\\u7ec4)\", \"x\": [\"9-2\", \"9-3\", \"9-4\"], \"y\": [0.0, 0.0, null], \"type\": \"scatter\", \"uid\": \"4e7654ee-cb6f-11e8-a3a4-509a4c0f1ffc\"}, {\"line\": {\"dash\": \"dot\"}, \"name\": \"\\u5546\\u4e1a\\u9879\\u76ee\\u5ef6\\u671f\\u7387(\\u86cb\\u767d\\u548c\\u533b\\u5b66\\u7ec4)\", \"x\": [\"9-2\", \"9-3\", \"9-4\"], \"y\": [0.0, 0.0, null], \"type\": \"scatter\", \"uid\": \"4e7654ef-cb6f-11e8-a1ad-509a4c0f1ffc\"}, {\"line\": {\"dash\": \"dash\"}, \"name\": \"\\u5546\\u4e1a\\u9879\\u76ee\\u5ef6\\u671f\\u7387(\\u751f\\u7269\\u5b66DNA\\u7ec4)\", \"x\": [\"9-2\", \"9-3\", \"9-4\"], \"y\": [0.0, 0.0, 0.0], \"type\": \"scatter\", \"uid\": \"4e7654f0-cb6f-11e8-9c1a-509a4c0f1ffc\"}, {\"line\": {\"dash\": \"solid\"}, \"name\": \"\\u603b\\u5ef6\\u671f\\u7387(\\u8f6c\\u5f55\\u8c03\\u63a7\\u7ec4)\", \"x\": [\"9-2\", \"9-3\", \"9-4\"], \"y\": [0.3333333333333333, 0.0, null], \"type\": \"scatter\", \"uid\": \"4e7654f1-cb6f-11e8-96fb-509a4c0f1ffc\"}, {\"line\": {\"dash\": \"dot\"}, \"name\": \"\\u603b\\u5ef6\\u671f\\u7387(\\u86cb\\u767d\\u548c\\u533b\\u5b66\\u7ec4)\", \"x\": [\"9-2\", \"9-3\", \"9-4\"], \"y\": [0.0, 0.0, null], \"type\": \"scatter\", \"uid\": \"4e7654f2-cb6f-11e8-88ef-509a4c0f1ffc\"}, {\"line\": {\"dash\": \"dash\"}, \"name\": \"\\u603b\\u5ef6\\u671f\\u7387(\\u751f\\u7269\\u5b66DNA\\u7ec4)\", \"x\": [\"9-2\", \"9-3\", \"9-4\"], \"y\": [0.0, 0.0, 0.0], \"type\": \"scatter\", \"uid\": \"4e7654f3-cb6f-11e8-a8e4-509a4c0f1ffc\"}, {\"line\": {\"dash\": \"solid\"}, \"name\": \"\\u4e2a\\u6027\\u5316\\u9879\\u76ee\\u5ef6\\u671f\\u7387(\\u8f6c\\u5f55\\u8c03\\u63a7\\u7ec4)\", \"x\": [\"9-2\", \"9-3\", \"9-4\"], \"y\": [0.3333333333333333, 0.0, null], \"type\": \"scatter\", \"uid\": \"4e7654f4-cb6f-11e8-a579-509a4c0f1ffc\"}, {\"line\": {\"dash\": \"dot\"}, \"name\": \"\\u4e2a\\u6027\\u5316\\u9879\\u76ee\\u5ef6\\u671f\\u7387(\\u86cb\\u767d\\u548c\\u533b\\u5b66\\u7ec4)\", \"x\": [\"9-2\", \"9-3\", \"9-4\"], \"y\": [0.0, 0.0, null], \"type\": \"scatter\", \"uid\": \"4e7654f5-cb6f-11e8-aa44-509a4c0f1ffc\"}, {\"line\": {\"dash\": \"dash\"}, \"name\": \"\\u4e2a\\u6027\\u5316\\u9879\\u76ee\\u5ef6\\u671f\\u7387(\\u751f\\u7269\\u5b66DNA\\u7ec4)\", \"x\": [\"9-2\", \"9-3\", \"9-4\"], \"y\": [0.0, 0.0, 0.0], \"type\": \"scatter\", \"uid\": \"4e7654f6-cb6f-11e8-90ac-509a4c0f1ffc\"}],\n",
       "            {\"title\": \"\\u5546\\u4e1a\\u9879\\u76ee\\u5ef6\\u671f\\u7387&\\u603b\\u5ef6\\u671f\\u7387&\\u4e2a\\u6027\\u5316\\u9879\\u76ee\\u5ef6\\u671f\\u7387\\u5468\\u8d8b\\u52bf\\u56fe\", \"xaxis\": {\"mirror\": \"all\", \"nticks\": 20, \"showgrid\": true, \"showline\": true, \"title\": \"\\u5468\", \"zeroline\": true}, \"yaxis\": {\"mirror\": \"all\", \"nticks\": 20, \"showgrid\": true, \"showline\": true, \"title\": \"\\u5546\\u4e1a\\u9879\\u76ee\\u5ef6\\u671f\\u7387&\\u603b\\u5ef6\\u671f\\u7387&\\u4e2a\\u6027\\u5316\\u9879\\u76ee\\u5ef6\\u671f\\u7387\", \"zeroline\": true}},\n",
       "            {\"showLink\": true, \"linkText\": \"Export to plot.ly\"}\n",
       "        ).then(function () {return Plotly.addFrames('dbc5ceeb-c603-454b-9664-b521c0eecd27',{});}).then(function(){Plotly.animate('dbc5ceeb-c603-454b-9664-b521c0eecd27');})\n",
       "        });</script>"
      ]
     },
     "metadata": {},
     "output_type": "display_data"
    }
   ],
   "source": [
    "myModule.upgrade_df(all_dict_2, [ ['商业项目延期率','延期商业项目数','总商业项目数','/'] ,\\\n",
    "                                 ['个性化项目延期率','延期个性化项目数', '总个性化数','/'],\n",
    "                                 ['总延期率','总延期项目数', '总项目数','/']])\n",
    "ss=myModule.format(all_dict_2 ,\"日期\" ,['商业项目延期率','个性化项目延期率','总延期率'])\n",
    "ss.add_group('组别')\n",
    "tt = myModule.myPlot(ss.groupby('sum'))\n",
    "tt.plot('line')"
   ]
  },
  {
   "cell_type": "markdown",
   "metadata": {},
   "source": [
    "### 各组反馈延期率"
   ]
  },
  {
   "cell_type": "code",
   "execution_count": 184,
   "metadata": {
    "collapsed": false
   },
   "outputs": [
    {
     "data": {
      "application/vnd.plotly.v1+json": {
       "data": [
        {
         "line": {
          "dash": "solid"
         },
         "name": "个性化反馈延期率(转录调控组)",
         "type": "scatter",
         "uid": "4ead9190-cb6f-11e8-8a92-509a4c0f1ffc",
         "x": [
          "9-2",
          "9-3",
          "9-4"
         ],
         "y": [
          null,
          0,
          null
         ]
        },
        {
         "line": {
          "dash": "dot"
         },
         "name": "个性化反馈延期率(蛋白和医学组)",
         "type": "scatter",
         "uid": "4ead9191-cb6f-11e8-8e32-509a4c0f1ffc",
         "x": [
          "9-2",
          "9-3",
          "9-4"
         ],
         "y": [
          null,
          0,
          null
         ]
        },
        {
         "line": {
          "dash": "dash"
         },
         "name": "个性化反馈延期率(生物学DNA组)",
         "type": "scatter",
         "uid": "4ead9192-cb6f-11e8-8dd4-509a4c0f1ffc",
         "x": [
          "9-2",
          "9-3",
          "9-4"
         ],
         "y": [
          0,
          0,
          null
         ]
        },
        {
         "line": {
          "dash": "solid"
         },
         "name": "数据反馈延期率(转录调控组)",
         "type": "scatter",
         "uid": "4ead9193-cb6f-11e8-bc2f-509a4c0f1ffc",
         "x": [
          "9-2",
          "9-3",
          "9-4"
         ],
         "y": [
          null,
          null,
          null
         ]
        },
        {
         "line": {
          "dash": "dot"
         },
         "name": "数据反馈延期率(蛋白和医学组)",
         "type": "scatter",
         "uid": "4ead9194-cb6f-11e8-a307-509a4c0f1ffc",
         "x": [
          "9-2",
          "9-3",
          "9-4"
         ],
         "y": [
          0,
          null,
          null
         ]
        },
        {
         "line": {
          "dash": "dash"
         },
         "name": "数据反馈延期率(生物学DNA组)",
         "type": "scatter",
         "uid": "4ead9195-cb6f-11e8-8b62-509a4c0f1ffc",
         "x": [
          "9-2",
          "9-3",
          "9-4"
         ],
         "y": [
          0,
          0,
          0.25
         ]
        }
       ],
       "layout": {
        "title": "个性化反馈延期率&数据反馈延期率周趋势图",
        "xaxis": {
         "mirror": "all",
         "nticks": 20,
         "showgrid": true,
         "showline": true,
         "title": "周",
         "zeroline": true
        },
        "yaxis": {
         "mirror": "all",
         "nticks": 20,
         "showgrid": true,
         "showline": true,
         "title": "个性化反馈延期率&数据反馈延期率",
         "zeroline": true
        }
       }
      },
      "text/html": [
       "<div id=\"7a164c65-2411-4849-9fa0-d9d25b31c280\" style=\"height: 525px; width: 100%;\" class=\"plotly-graph-div\"></div><script type=\"text/javascript\">require([\"plotly\"], function(Plotly) { window.PLOTLYENV=window.PLOTLYENV || {};window.PLOTLYENV.BASE_URL=\"https://plot.ly\";\n",
       "        Plotly.plot(\n",
       "            '7a164c65-2411-4849-9fa0-d9d25b31c280',\n",
       "            [{\"line\": {\"dash\": \"solid\"}, \"name\": \"\\u4e2a\\u6027\\u5316\\u53cd\\u9988\\u5ef6\\u671f\\u7387(\\u8f6c\\u5f55\\u8c03\\u63a7\\u7ec4)\", \"x\": [\"9-2\", \"9-3\", \"9-4\"], \"y\": [null, 0.0, null], \"type\": \"scatter\", \"uid\": \"4ead9190-cb6f-11e8-8a92-509a4c0f1ffc\"}, {\"line\": {\"dash\": \"dot\"}, \"name\": \"\\u4e2a\\u6027\\u5316\\u53cd\\u9988\\u5ef6\\u671f\\u7387(\\u86cb\\u767d\\u548c\\u533b\\u5b66\\u7ec4)\", \"x\": [\"9-2\", \"9-3\", \"9-4\"], \"y\": [null, 0.0, null], \"type\": \"scatter\", \"uid\": \"4ead9191-cb6f-11e8-8e32-509a4c0f1ffc\"}, {\"line\": {\"dash\": \"dash\"}, \"name\": \"\\u4e2a\\u6027\\u5316\\u53cd\\u9988\\u5ef6\\u671f\\u7387(\\u751f\\u7269\\u5b66DNA\\u7ec4)\", \"x\": [\"9-2\", \"9-3\", \"9-4\"], \"y\": [0.0, 0.0, null], \"type\": \"scatter\", \"uid\": \"4ead9192-cb6f-11e8-8dd4-509a4c0f1ffc\"}, {\"line\": {\"dash\": \"solid\"}, \"name\": \"\\u6570\\u636e\\u53cd\\u9988\\u5ef6\\u671f\\u7387(\\u8f6c\\u5f55\\u8c03\\u63a7\\u7ec4)\", \"x\": [\"9-2\", \"9-3\", \"9-4\"], \"y\": [null, null, null], \"type\": \"scatter\", \"uid\": \"4ead9193-cb6f-11e8-bc2f-509a4c0f1ffc\"}, {\"line\": {\"dash\": \"dot\"}, \"name\": \"\\u6570\\u636e\\u53cd\\u9988\\u5ef6\\u671f\\u7387(\\u86cb\\u767d\\u548c\\u533b\\u5b66\\u7ec4)\", \"x\": [\"9-2\", \"9-3\", \"9-4\"], \"y\": [0.0, null, null], \"type\": \"scatter\", \"uid\": \"4ead9194-cb6f-11e8-a307-509a4c0f1ffc\"}, {\"line\": {\"dash\": \"dash\"}, \"name\": \"\\u6570\\u636e\\u53cd\\u9988\\u5ef6\\u671f\\u7387(\\u751f\\u7269\\u5b66DNA\\u7ec4)\", \"x\": [\"9-2\", \"9-3\", \"9-4\"], \"y\": [0.0, 0.0, 0.25], \"type\": \"scatter\", \"uid\": \"4ead9195-cb6f-11e8-8b62-509a4c0f1ffc\"}],\n",
       "            {\"title\": \"\\u4e2a\\u6027\\u5316\\u53cd\\u9988\\u5ef6\\u671f\\u7387&\\u6570\\u636e\\u53cd\\u9988\\u5ef6\\u671f\\u7387\\u5468\\u8d8b\\u52bf\\u56fe\", \"xaxis\": {\"mirror\": \"all\", \"nticks\": 20, \"showgrid\": true, \"showline\": true, \"title\": \"\\u5468\", \"zeroline\": true}, \"yaxis\": {\"mirror\": \"all\", \"nticks\": 20, \"showgrid\": true, \"showline\": true, \"title\": \"\\u4e2a\\u6027\\u5316\\u53cd\\u9988\\u5ef6\\u671f\\u7387&\\u6570\\u636e\\u53cd\\u9988\\u5ef6\\u671f\\u7387\", \"zeroline\": true}},\n",
       "            {\"showLink\": true, \"linkText\": \"Export to plot.ly\"}\n",
       "        ).then(function () {return Plotly.addFrames('7a164c65-2411-4849-9fa0-d9d25b31c280',{});}).then(function(){Plotly.animate('7a164c65-2411-4849-9fa0-d9d25b31c280');})\n",
       "        });</script>"
      ],
      "text/vnd.plotly.v1+html": [
       "<div id=\"7a164c65-2411-4849-9fa0-d9d25b31c280\" style=\"height: 525px; width: 100%;\" class=\"plotly-graph-div\"></div><script type=\"text/javascript\">require([\"plotly\"], function(Plotly) { window.PLOTLYENV=window.PLOTLYENV || {};window.PLOTLYENV.BASE_URL=\"https://plot.ly\";\n",
       "        Plotly.plot(\n",
       "            '7a164c65-2411-4849-9fa0-d9d25b31c280',\n",
       "            [{\"line\": {\"dash\": \"solid\"}, \"name\": \"\\u4e2a\\u6027\\u5316\\u53cd\\u9988\\u5ef6\\u671f\\u7387(\\u8f6c\\u5f55\\u8c03\\u63a7\\u7ec4)\", \"x\": [\"9-2\", \"9-3\", \"9-4\"], \"y\": [null, 0.0, null], \"type\": \"scatter\", \"uid\": \"4ead9190-cb6f-11e8-8a92-509a4c0f1ffc\"}, {\"line\": {\"dash\": \"dot\"}, \"name\": \"\\u4e2a\\u6027\\u5316\\u53cd\\u9988\\u5ef6\\u671f\\u7387(\\u86cb\\u767d\\u548c\\u533b\\u5b66\\u7ec4)\", \"x\": [\"9-2\", \"9-3\", \"9-4\"], \"y\": [null, 0.0, null], \"type\": \"scatter\", \"uid\": \"4ead9191-cb6f-11e8-8e32-509a4c0f1ffc\"}, {\"line\": {\"dash\": \"dash\"}, \"name\": \"\\u4e2a\\u6027\\u5316\\u53cd\\u9988\\u5ef6\\u671f\\u7387(\\u751f\\u7269\\u5b66DNA\\u7ec4)\", \"x\": [\"9-2\", \"9-3\", \"9-4\"], \"y\": [0.0, 0.0, null], \"type\": \"scatter\", \"uid\": \"4ead9192-cb6f-11e8-8dd4-509a4c0f1ffc\"}, {\"line\": {\"dash\": \"solid\"}, \"name\": \"\\u6570\\u636e\\u53cd\\u9988\\u5ef6\\u671f\\u7387(\\u8f6c\\u5f55\\u8c03\\u63a7\\u7ec4)\", \"x\": [\"9-2\", \"9-3\", \"9-4\"], \"y\": [null, null, null], \"type\": \"scatter\", \"uid\": \"4ead9193-cb6f-11e8-bc2f-509a4c0f1ffc\"}, {\"line\": {\"dash\": \"dot\"}, \"name\": \"\\u6570\\u636e\\u53cd\\u9988\\u5ef6\\u671f\\u7387(\\u86cb\\u767d\\u548c\\u533b\\u5b66\\u7ec4)\", \"x\": [\"9-2\", \"9-3\", \"9-4\"], \"y\": [0.0, null, null], \"type\": \"scatter\", \"uid\": \"4ead9194-cb6f-11e8-a307-509a4c0f1ffc\"}, {\"line\": {\"dash\": \"dash\"}, \"name\": \"\\u6570\\u636e\\u53cd\\u9988\\u5ef6\\u671f\\u7387(\\u751f\\u7269\\u5b66DNA\\u7ec4)\", \"x\": [\"9-2\", \"9-3\", \"9-4\"], \"y\": [0.0, 0.0, 0.25], \"type\": \"scatter\", \"uid\": \"4ead9195-cb6f-11e8-8b62-509a4c0f1ffc\"}],\n",
       "            {\"title\": \"\\u4e2a\\u6027\\u5316\\u53cd\\u9988\\u5ef6\\u671f\\u7387&\\u6570\\u636e\\u53cd\\u9988\\u5ef6\\u671f\\u7387\\u5468\\u8d8b\\u52bf\\u56fe\", \"xaxis\": {\"mirror\": \"all\", \"nticks\": 20, \"showgrid\": true, \"showline\": true, \"title\": \"\\u5468\", \"zeroline\": true}, \"yaxis\": {\"mirror\": \"all\", \"nticks\": 20, \"showgrid\": true, \"showline\": true, \"title\": \"\\u4e2a\\u6027\\u5316\\u53cd\\u9988\\u5ef6\\u671f\\u7387&\\u6570\\u636e\\u53cd\\u9988\\u5ef6\\u671f\\u7387\", \"zeroline\": true}},\n",
       "            {\"showLink\": true, \"linkText\": \"Export to plot.ly\"}\n",
       "        ).then(function () {return Plotly.addFrames('7a164c65-2411-4849-9fa0-d9d25b31c280',{});}).then(function(){Plotly.animate('7a164c65-2411-4849-9fa0-d9d25b31c280');})\n",
       "        });</script>"
      ]
     },
     "metadata": {},
     "output_type": "display_data"
    }
   ],
   "source": [
    "myModule.upgrade_df(all_dict_2, [ ['数据反馈延期率','24h内未完成数据反馈项目数','下机项目数','/'] ,['个性化反馈延期率','反馈延期个性化数', '接入个性化数','/']])\n",
    "ss=myModule.format(all_dict_2 ,\"日期\" ,['数据反馈延期率','个性化反馈延期率'])\n",
    "ss.add_group('组别')\n",
    "tt = myModule.myPlot(ss.groupby('mean'))\n",
    "tt.plot('line')\n"
   ]
  },
  {
   "cell_type": "markdown",
   "metadata": {},
   "source": [
    "### 各组交付延期率"
   ]
  },
  {
   "cell_type": "code",
   "execution_count": 185,
   "metadata": {
    "collapsed": false
   },
   "outputs": [
    {
     "data": {
      "application/vnd.plotly.v1+json": {
       "data": [
        {
         "line": {
          "dash": "solid"
         },
         "name": "交付延期率(转录调控组)",
         "type": "scatter",
         "uid": "4ee6f110-cb6f-11e8-b8c2-509a4c0f1ffc",
         "x": [
          "9-2",
          "9-3",
          "9-4"
         ],
         "y": [
          0,
          null,
          null
         ]
        },
        {
         "line": {
          "dash": "dot"
         },
         "name": "交付延期率(蛋白和医学组)",
         "type": "scatter",
         "uid": "4ee6f111-cb6f-11e8-b676-509a4c0f1ffc",
         "x": [
          "9-2",
          "9-3",
          "9-4"
         ],
         "y": [
          0,
          0,
          null
         ]
        },
        {
         "line": {
          "dash": "dash"
         },
         "name": "交付延期率(生物学DNA组)",
         "type": "scatter",
         "uid": "4ee6f112-cb6f-11e8-ac45-509a4c0f1ffc",
         "x": [
          "9-2",
          "9-3",
          "9-4"
         ],
         "y": [
          null,
          0,
          null
         ]
        }
       ],
       "layout": {
        "title": "交付延期率周趋势图",
        "xaxis": {
         "mirror": "all",
         "nticks": 20,
         "showgrid": true,
         "showline": true,
         "title": "周",
         "zeroline": true
        },
        "yaxis": {
         "mirror": "all",
         "nticks": 20,
         "showgrid": true,
         "showline": true,
         "title": "交付延期率",
         "zeroline": true
        }
       }
      },
      "text/html": [
       "<div id=\"9a872e3d-30a3-4a21-b614-72b5a859926c\" style=\"height: 525px; width: 100%;\" class=\"plotly-graph-div\"></div><script type=\"text/javascript\">require([\"plotly\"], function(Plotly) { window.PLOTLYENV=window.PLOTLYENV || {};window.PLOTLYENV.BASE_URL=\"https://plot.ly\";\n",
       "        Plotly.plot(\n",
       "            '9a872e3d-30a3-4a21-b614-72b5a859926c',\n",
       "            [{\"line\": {\"dash\": \"solid\"}, \"name\": \"\\u4ea4\\u4ed8\\u5ef6\\u671f\\u7387(\\u8f6c\\u5f55\\u8c03\\u63a7\\u7ec4)\", \"x\": [\"9-2\", \"9-3\", \"9-4\"], \"y\": [0.0, null, null], \"type\": \"scatter\", \"uid\": \"4ee6f110-cb6f-11e8-b8c2-509a4c0f1ffc\"}, {\"line\": {\"dash\": \"dot\"}, \"name\": \"\\u4ea4\\u4ed8\\u5ef6\\u671f\\u7387(\\u86cb\\u767d\\u548c\\u533b\\u5b66\\u7ec4)\", \"x\": [\"9-2\", \"9-3\", \"9-4\"], \"y\": [0.0, 0.0, null], \"type\": \"scatter\", \"uid\": \"4ee6f111-cb6f-11e8-b676-509a4c0f1ffc\"}, {\"line\": {\"dash\": \"dash\"}, \"name\": \"\\u4ea4\\u4ed8\\u5ef6\\u671f\\u7387(\\u751f\\u7269\\u5b66DNA\\u7ec4)\", \"x\": [\"9-2\", \"9-3\", \"9-4\"], \"y\": [null, 0.0, null], \"type\": \"scatter\", \"uid\": \"4ee6f112-cb6f-11e8-ac45-509a4c0f1ffc\"}],\n",
       "            {\"title\": \"\\u4ea4\\u4ed8\\u5ef6\\u671f\\u7387\\u5468\\u8d8b\\u52bf\\u56fe\", \"xaxis\": {\"mirror\": \"all\", \"nticks\": 20, \"showgrid\": true, \"showline\": true, \"title\": \"\\u5468\", \"zeroline\": true}, \"yaxis\": {\"mirror\": \"all\", \"nticks\": 20, \"showgrid\": true, \"showline\": true, \"title\": \"\\u4ea4\\u4ed8\\u5ef6\\u671f\\u7387\", \"zeroline\": true}},\n",
       "            {\"showLink\": true, \"linkText\": \"Export to plot.ly\"}\n",
       "        ).then(function () {return Plotly.addFrames('9a872e3d-30a3-4a21-b614-72b5a859926c',{});}).then(function(){Plotly.animate('9a872e3d-30a3-4a21-b614-72b5a859926c');})\n",
       "        });</script>"
      ],
      "text/vnd.plotly.v1+html": [
       "<div id=\"9a872e3d-30a3-4a21-b614-72b5a859926c\" style=\"height: 525px; width: 100%;\" class=\"plotly-graph-div\"></div><script type=\"text/javascript\">require([\"plotly\"], function(Plotly) { window.PLOTLYENV=window.PLOTLYENV || {};window.PLOTLYENV.BASE_URL=\"https://plot.ly\";\n",
       "        Plotly.plot(\n",
       "            '9a872e3d-30a3-4a21-b614-72b5a859926c',\n",
       "            [{\"line\": {\"dash\": \"solid\"}, \"name\": \"\\u4ea4\\u4ed8\\u5ef6\\u671f\\u7387(\\u8f6c\\u5f55\\u8c03\\u63a7\\u7ec4)\", \"x\": [\"9-2\", \"9-3\", \"9-4\"], \"y\": [0.0, null, null], \"type\": \"scatter\", \"uid\": \"4ee6f110-cb6f-11e8-b8c2-509a4c0f1ffc\"}, {\"line\": {\"dash\": \"dot\"}, \"name\": \"\\u4ea4\\u4ed8\\u5ef6\\u671f\\u7387(\\u86cb\\u767d\\u548c\\u533b\\u5b66\\u7ec4)\", \"x\": [\"9-2\", \"9-3\", \"9-4\"], \"y\": [0.0, 0.0, null], \"type\": \"scatter\", \"uid\": \"4ee6f111-cb6f-11e8-b676-509a4c0f1ffc\"}, {\"line\": {\"dash\": \"dash\"}, \"name\": \"\\u4ea4\\u4ed8\\u5ef6\\u671f\\u7387(\\u751f\\u7269\\u5b66DNA\\u7ec4)\", \"x\": [\"9-2\", \"9-3\", \"9-4\"], \"y\": [null, 0.0, null], \"type\": \"scatter\", \"uid\": \"4ee6f112-cb6f-11e8-ac45-509a4c0f1ffc\"}],\n",
       "            {\"title\": \"\\u4ea4\\u4ed8\\u5ef6\\u671f\\u7387\\u5468\\u8d8b\\u52bf\\u56fe\", \"xaxis\": {\"mirror\": \"all\", \"nticks\": 20, \"showgrid\": true, \"showline\": true, \"title\": \"\\u5468\", \"zeroline\": true}, \"yaxis\": {\"mirror\": \"all\", \"nticks\": 20, \"showgrid\": true, \"showline\": true, \"title\": \"\\u4ea4\\u4ed8\\u5ef6\\u671f\\u7387\", \"zeroline\": true}},\n",
       "            {\"showLink\": true, \"linkText\": \"Export to plot.ly\"}\n",
       "        ).then(function () {return Plotly.addFrames('9a872e3d-30a3-4a21-b614-72b5a859926c',{});}).then(function(){Plotly.animate('9a872e3d-30a3-4a21-b614-72b5a859926c');})\n",
       "        });</script>"
      ]
     },
     "metadata": {},
     "output_type": "display_data"
    }
   ],
   "source": [
    "myModule.upgrade_df(all_dict_2, [ ['交付延期率','24h内未完成数据交付项目数','待交付项目数','/'] ])\n",
    "ss=myModule.format(all_dict_2 ,\"日期\" ,['交付延期率'])\n",
    "ss.add_group('组别')\n",
    "tt = myModule.myPlot(ss.groupby('mean'))\n",
    "tt.plot('line')"
   ]
  },
  {
   "cell_type": "markdown",
   "metadata": {
    "hide_input": true
   },
   "source": [
    "## 个人完成项目统计"
   ]
  },
  {
   "cell_type": "markdown",
   "metadata": {},
   "source": [
    "### 个人完成商业项目数"
   ]
  },
  {
   "cell_type": "code",
   "execution_count": 186,
   "metadata": {
    "collapsed": false
   },
   "outputs": [
    {
     "data": {
      "application/vnd.plotly.v1+json": {
       "data": [
        {
         "line": {
          "dash": "solid"
         },
         "name": "完成个性化数(于慧)",
         "type": "scatter",
         "uid": "4f35fb6e-cb6f-11e8-b77b-509a4c0f1ffc",
         "x": [
          "9-2",
          "9-3",
          "9-4"
         ],
         "y": [
          1,
          1,
          null
         ]
        },
        {
         "line": {
          "dash": "dot"
         },
         "name": "完成个性化数(赵玥)",
         "type": "scatter",
         "uid": "4f35fb6f-cb6f-11e8-a0ac-509a4c0f1ffc",
         "x": [
          "9-2",
          "9-3",
          "9-4"
         ],
         "y": [
          2,
          null,
          null
         ]
        },
        {
         "line": {
          "dash": "dash"
         },
         "name": "完成个性化数(马潇)",
         "type": "scatter",
         "uid": "4f362280-cb6f-11e8-915e-509a4c0f1ffc",
         "x": [
          "9-2",
          "9-3",
          "9-4"
         ],
         "y": [
          3,
          null,
          null
         ]
        },
        {
         "line": {
          "dash": "longdash"
         },
         "name": "完成个性化数(占伟)",
         "type": "scatter",
         "uid": "4f362281-cb6f-11e8-b4cd-509a4c0f1ffc",
         "x": [
          "9-2",
          "9-3",
          "9-4"
         ],
         "y": [
          0,
          null,
          null
         ]
        },
        {
         "line": {
          "dash": "dashdot"
         },
         "name": "完成个性化数(刘江)",
         "type": "scatter",
         "uid": "4f362282-cb6f-11e8-a792-509a4c0f1ffc",
         "x": [
          "9-2",
          "9-3",
          "9-4"
         ],
         "y": [
          2,
          1,
          0
         ]
        },
        {
         "line": {
          "dash": "longdashdot"
         },
         "name": "完成个性化数(谢德健)",
         "type": "scatter",
         "uid": "4f362283-cb6f-11e8-a02f-509a4c0f1ffc",
         "x": [
          "9-2",
          "9-3",
          "9-4"
         ],
         "y": [
          null,
          2,
          null
         ]
        },
        {
         "line": {
          "dash": "solid"
         },
         "name": "完成个性化数(杨伟飞)",
         "type": "scatter",
         "uid": "4f362284-cb6f-11e8-8110-509a4c0f1ffc",
         "x": [
          "9-2",
          "9-3",
          "9-4"
         ],
         "y": [
          3,
          1,
          null
         ]
        },
        {
         "line": {
          "dash": "dot"
         },
         "name": "完成个性化数(苏彦勋)",
         "type": "scatter",
         "uid": "4f362285-cb6f-11e8-a2ba-509a4c0f1ffc",
         "x": [
          "9-2",
          "9-3",
          "9-4"
         ],
         "y": [
          null,
          0,
          null
         ]
        },
        {
         "line": {
          "dash": "dash"
         },
         "name": "完成个性化数(路慧萍)",
         "type": "scatter",
         "uid": "4f362286-cb6f-11e8-9c45-509a4c0f1ffc",
         "x": [
          "9-2",
          "9-3",
          "9-4"
         ],
         "y": [
          0,
          null,
          null
         ]
        },
        {
         "line": {
          "dash": "longdash"
         },
         "name": "完成个性化数(李华云)",
         "type": "scatter",
         "uid": "4f362287-cb6f-11e8-8175-509a4c0f1ffc",
         "x": [
          "9-2",
          "9-3",
          "9-4"
         ],
         "y": [
          null,
          1,
          null
         ]
        },
        {
         "line": {
          "dash": "dashdot"
         },
         "name": "完成个性化数(于勇一)",
         "type": "scatter",
         "uid": "4f362288-cb6f-11e8-890a-509a4c0f1ffc",
         "x": [
          "9-2",
          "9-3",
          "9-4"
         ],
         "y": [
          1,
          0,
          1
         ]
        },
        {
         "line": {
          "dash": "solid"
         },
         "name": "完成商业项目数(于慧)",
         "type": "scatter",
         "uid": "4f362289-cb6f-11e8-9ca4-509a4c0f1ffc",
         "x": [
          "9-2",
          "9-3",
          "9-4"
         ],
         "y": [
          0,
          1,
          null
         ]
        },
        {
         "line": {
          "dash": "dot"
         },
         "name": "完成商业项目数(赵玥)",
         "type": "scatter",
         "uid": "4f36228a-cb6f-11e8-a6b2-509a4c0f1ffc",
         "x": [
          "9-2",
          "9-3",
          "9-4"
         ],
         "y": [
          0,
          null,
          null
         ]
        },
        {
         "line": {
          "dash": "dash"
         },
         "name": "完成商业项目数(马潇)",
         "type": "scatter",
         "uid": "4f36228b-cb6f-11e8-865a-509a4c0f1ffc",
         "x": [
          "9-2",
          "9-3",
          "9-4"
         ],
         "y": [
          4,
          null,
          null
         ]
        },
        {
         "line": {
          "dash": "longdash"
         },
         "name": "完成商业项目数(占伟)",
         "type": "scatter",
         "uid": "4f36228c-cb6f-11e8-a53e-509a4c0f1ffc",
         "x": [
          "9-2",
          "9-3",
          "9-4"
         ],
         "y": [
          0,
          null,
          null
         ]
        },
        {
         "line": {
          "dash": "dashdot"
         },
         "name": "完成商业项目数(刘江)",
         "type": "scatter",
         "uid": "4f36228d-cb6f-11e8-a7b5-509a4c0f1ffc",
         "x": [
          "9-2",
          "9-3",
          "9-4"
         ],
         "y": [
          1,
          0,
          0
         ]
        },
        {
         "line": {
          "dash": "longdashdot"
         },
         "name": "完成商业项目数(谢德健)",
         "type": "scatter",
         "uid": "4f36228e-cb6f-11e8-8b5b-509a4c0f1ffc",
         "x": [
          "9-2",
          "9-3",
          "9-4"
         ],
         "y": [
          null,
          0,
          null
         ]
        },
        {
         "line": {
          "dash": "solid"
         },
         "name": "完成商业项目数(杨伟飞)",
         "type": "scatter",
         "uid": "4f36228f-cb6f-11e8-be88-509a4c0f1ffc",
         "x": [
          "9-2",
          "9-3",
          "9-4"
         ],
         "y": [
          0,
          1,
          null
         ]
        },
        {
         "line": {
          "dash": "dot"
         },
         "name": "完成商业项目数(苏彦勋)",
         "type": "scatter",
         "uid": "4f362290-cb6f-11e8-bda1-509a4c0f1ffc",
         "x": [
          "9-2",
          "9-3",
          "9-4"
         ],
         "y": [
          null,
          1,
          null
         ]
        },
        {
         "line": {
          "dash": "dash"
         },
         "name": "完成商业项目数(路慧萍)",
         "type": "scatter",
         "uid": "4f362291-cb6f-11e8-89ee-509a4c0f1ffc",
         "x": [
          "9-2",
          "9-3",
          "9-4"
         ],
         "y": [
          1,
          null,
          null
         ]
        },
        {
         "line": {
          "dash": "longdash"
         },
         "name": "完成商业项目数(李华云)",
         "type": "scatter",
         "uid": "4f362292-cb6f-11e8-80b2-509a4c0f1ffc",
         "x": [
          "9-2",
          "9-3",
          "9-4"
         ],
         "y": [
          null,
          0,
          null
         ]
        },
        {
         "line": {
          "dash": "dashdot"
         },
         "name": "完成商业项目数(于勇一)",
         "type": "scatter",
         "uid": "4f362293-cb6f-11e8-aa19-509a4c0f1ffc",
         "x": [
          "9-2",
          "9-3",
          "9-4"
         ],
         "y": [
          1,
          5,
          3
         ]
        }
       ],
       "layout": {
        "title": "完成个性化数&完成商业项目数周趋势图",
        "xaxis": {
         "mirror": "all",
         "nticks": 20,
         "showgrid": true,
         "showline": true,
         "title": "周",
         "zeroline": true
        },
        "yaxis": {
         "mirror": "all",
         "nticks": 20,
         "showgrid": true,
         "showline": true,
         "title": "完成个性化数&完成商业项目数",
         "zeroline": true
        }
       }
      },
      "text/html": [
       "<div id=\"499475e1-68d7-4b98-bafb-804fe98934c1\" style=\"height: 525px; width: 100%;\" class=\"plotly-graph-div\"></div><script type=\"text/javascript\">require([\"plotly\"], function(Plotly) { window.PLOTLYENV=window.PLOTLYENV || {};window.PLOTLYENV.BASE_URL=\"https://plot.ly\";\n",
       "        Plotly.plot(\n",
       "            '499475e1-68d7-4b98-bafb-804fe98934c1',\n",
       "            [{\"line\": {\"dash\": \"solid\"}, \"name\": \"\\u5b8c\\u6210\\u4e2a\\u6027\\u5316\\u6570(\\u4e8e\\u6167)\", \"x\": [\"9-2\", \"9-3\", \"9-4\"], \"y\": [1.0, 1.0, null], \"type\": \"scatter\", \"uid\": \"4f35fb6e-cb6f-11e8-b77b-509a4c0f1ffc\"}, {\"line\": {\"dash\": \"dot\"}, \"name\": \"\\u5b8c\\u6210\\u4e2a\\u6027\\u5316\\u6570(\\u8d75\\u73a5)\", \"x\": [\"9-2\", \"9-3\", \"9-4\"], \"y\": [2.0, null, null], \"type\": \"scatter\", \"uid\": \"4f35fb6f-cb6f-11e8-a0ac-509a4c0f1ffc\"}, {\"line\": {\"dash\": \"dash\"}, \"name\": \"\\u5b8c\\u6210\\u4e2a\\u6027\\u5316\\u6570(\\u9a6c\\u6f47)\", \"x\": [\"9-2\", \"9-3\", \"9-4\"], \"y\": [3.0, null, null], \"type\": \"scatter\", \"uid\": \"4f362280-cb6f-11e8-915e-509a4c0f1ffc\"}, {\"line\": {\"dash\": \"longdash\"}, \"name\": \"\\u5b8c\\u6210\\u4e2a\\u6027\\u5316\\u6570(\\u5360\\u4f1f)\", \"x\": [\"9-2\", \"9-3\", \"9-4\"], \"y\": [0.0, null, null], \"type\": \"scatter\", \"uid\": \"4f362281-cb6f-11e8-b4cd-509a4c0f1ffc\"}, {\"line\": {\"dash\": \"dashdot\"}, \"name\": \"\\u5b8c\\u6210\\u4e2a\\u6027\\u5316\\u6570(\\u5218\\u6c5f)\", \"x\": [\"9-2\", \"9-3\", \"9-4\"], \"y\": [2.0, 1.0, 0.0], \"type\": \"scatter\", \"uid\": \"4f362282-cb6f-11e8-a792-509a4c0f1ffc\"}, {\"line\": {\"dash\": \"longdashdot\"}, \"name\": \"\\u5b8c\\u6210\\u4e2a\\u6027\\u5316\\u6570(\\u8c22\\u5fb7\\u5065)\", \"x\": [\"9-2\", \"9-3\", \"9-4\"], \"y\": [null, 2.0, null], \"type\": \"scatter\", \"uid\": \"4f362283-cb6f-11e8-a02f-509a4c0f1ffc\"}, {\"line\": {\"dash\": \"solid\"}, \"name\": \"\\u5b8c\\u6210\\u4e2a\\u6027\\u5316\\u6570(\\u6768\\u4f1f\\u98de)\", \"x\": [\"9-2\", \"9-3\", \"9-4\"], \"y\": [3.0, 1.0, null], \"type\": \"scatter\", \"uid\": \"4f362284-cb6f-11e8-8110-509a4c0f1ffc\"}, {\"line\": {\"dash\": \"dot\"}, \"name\": \"\\u5b8c\\u6210\\u4e2a\\u6027\\u5316\\u6570(\\u82cf\\u5f66\\u52cb)\", \"x\": [\"9-2\", \"9-3\", \"9-4\"], \"y\": [null, 0.0, null], \"type\": \"scatter\", \"uid\": \"4f362285-cb6f-11e8-a2ba-509a4c0f1ffc\"}, {\"line\": {\"dash\": \"dash\"}, \"name\": \"\\u5b8c\\u6210\\u4e2a\\u6027\\u5316\\u6570(\\u8def\\u6167\\u840d)\", \"x\": [\"9-2\", \"9-3\", \"9-4\"], \"y\": [0.0, null, null], \"type\": \"scatter\", \"uid\": \"4f362286-cb6f-11e8-9c45-509a4c0f1ffc\"}, {\"line\": {\"dash\": \"longdash\"}, \"name\": \"\\u5b8c\\u6210\\u4e2a\\u6027\\u5316\\u6570(\\u674e\\u534e\\u4e91)\", \"x\": [\"9-2\", \"9-3\", \"9-4\"], \"y\": [null, 1.0, null], \"type\": \"scatter\", \"uid\": \"4f362287-cb6f-11e8-8175-509a4c0f1ffc\"}, {\"line\": {\"dash\": \"dashdot\"}, \"name\": \"\\u5b8c\\u6210\\u4e2a\\u6027\\u5316\\u6570(\\u4e8e\\u52c7\\u4e00)\", \"x\": [\"9-2\", \"9-3\", \"9-4\"], \"y\": [1.0, 0.0, 1.0], \"type\": \"scatter\", \"uid\": \"4f362288-cb6f-11e8-890a-509a4c0f1ffc\"}, {\"line\": {\"dash\": \"solid\"}, \"name\": \"\\u5b8c\\u6210\\u5546\\u4e1a\\u9879\\u76ee\\u6570(\\u4e8e\\u6167)\", \"x\": [\"9-2\", \"9-3\", \"9-4\"], \"y\": [0.0, 1.0, null], \"type\": \"scatter\", \"uid\": \"4f362289-cb6f-11e8-9ca4-509a4c0f1ffc\"}, {\"line\": {\"dash\": \"dot\"}, \"name\": \"\\u5b8c\\u6210\\u5546\\u4e1a\\u9879\\u76ee\\u6570(\\u8d75\\u73a5)\", \"x\": [\"9-2\", \"9-3\", \"9-4\"], \"y\": [0.0, null, null], \"type\": \"scatter\", \"uid\": \"4f36228a-cb6f-11e8-a6b2-509a4c0f1ffc\"}, {\"line\": {\"dash\": \"dash\"}, \"name\": \"\\u5b8c\\u6210\\u5546\\u4e1a\\u9879\\u76ee\\u6570(\\u9a6c\\u6f47)\", \"x\": [\"9-2\", \"9-3\", \"9-4\"], \"y\": [4.0, null, null], \"type\": \"scatter\", \"uid\": \"4f36228b-cb6f-11e8-865a-509a4c0f1ffc\"}, {\"line\": {\"dash\": \"longdash\"}, \"name\": \"\\u5b8c\\u6210\\u5546\\u4e1a\\u9879\\u76ee\\u6570(\\u5360\\u4f1f)\", \"x\": [\"9-2\", \"9-3\", \"9-4\"], \"y\": [0.0, null, null], \"type\": \"scatter\", \"uid\": \"4f36228c-cb6f-11e8-a53e-509a4c0f1ffc\"}, {\"line\": {\"dash\": \"dashdot\"}, \"name\": \"\\u5b8c\\u6210\\u5546\\u4e1a\\u9879\\u76ee\\u6570(\\u5218\\u6c5f)\", \"x\": [\"9-2\", \"9-3\", \"9-4\"], \"y\": [1.0, 0.0, 0.0], \"type\": \"scatter\", \"uid\": \"4f36228d-cb6f-11e8-a7b5-509a4c0f1ffc\"}, {\"line\": {\"dash\": \"longdashdot\"}, \"name\": \"\\u5b8c\\u6210\\u5546\\u4e1a\\u9879\\u76ee\\u6570(\\u8c22\\u5fb7\\u5065)\", \"x\": [\"9-2\", \"9-3\", \"9-4\"], \"y\": [null, 0.0, null], \"type\": \"scatter\", \"uid\": \"4f36228e-cb6f-11e8-8b5b-509a4c0f1ffc\"}, {\"line\": {\"dash\": \"solid\"}, \"name\": \"\\u5b8c\\u6210\\u5546\\u4e1a\\u9879\\u76ee\\u6570(\\u6768\\u4f1f\\u98de)\", \"x\": [\"9-2\", \"9-3\", \"9-4\"], \"y\": [0.0, 1.0, null], \"type\": \"scatter\", \"uid\": \"4f36228f-cb6f-11e8-be88-509a4c0f1ffc\"}, {\"line\": {\"dash\": \"dot\"}, \"name\": \"\\u5b8c\\u6210\\u5546\\u4e1a\\u9879\\u76ee\\u6570(\\u82cf\\u5f66\\u52cb)\", \"x\": [\"9-2\", \"9-3\", \"9-4\"], \"y\": [null, 1.0, null], \"type\": \"scatter\", \"uid\": \"4f362290-cb6f-11e8-bda1-509a4c0f1ffc\"}, {\"line\": {\"dash\": \"dash\"}, \"name\": \"\\u5b8c\\u6210\\u5546\\u4e1a\\u9879\\u76ee\\u6570(\\u8def\\u6167\\u840d)\", \"x\": [\"9-2\", \"9-3\", \"9-4\"], \"y\": [1.0, null, null], \"type\": \"scatter\", \"uid\": \"4f362291-cb6f-11e8-89ee-509a4c0f1ffc\"}, {\"line\": {\"dash\": \"longdash\"}, \"name\": \"\\u5b8c\\u6210\\u5546\\u4e1a\\u9879\\u76ee\\u6570(\\u674e\\u534e\\u4e91)\", \"x\": [\"9-2\", \"9-3\", \"9-4\"], \"y\": [null, 0.0, null], \"type\": \"scatter\", \"uid\": \"4f362292-cb6f-11e8-80b2-509a4c0f1ffc\"}, {\"line\": {\"dash\": \"dashdot\"}, \"name\": \"\\u5b8c\\u6210\\u5546\\u4e1a\\u9879\\u76ee\\u6570(\\u4e8e\\u52c7\\u4e00)\", \"x\": [\"9-2\", \"9-3\", \"9-4\"], \"y\": [1.0, 5.0, 3.0], \"type\": \"scatter\", \"uid\": \"4f362293-cb6f-11e8-aa19-509a4c0f1ffc\"}],\n",
       "            {\"title\": \"\\u5b8c\\u6210\\u4e2a\\u6027\\u5316\\u6570&\\u5b8c\\u6210\\u5546\\u4e1a\\u9879\\u76ee\\u6570\\u5468\\u8d8b\\u52bf\\u56fe\", \"xaxis\": {\"mirror\": \"all\", \"nticks\": 20, \"showgrid\": true, \"showline\": true, \"title\": \"\\u5468\", \"zeroline\": true}, \"yaxis\": {\"mirror\": \"all\", \"nticks\": 20, \"showgrid\": true, \"showline\": true, \"title\": \"\\u5b8c\\u6210\\u4e2a\\u6027\\u5316\\u6570&\\u5b8c\\u6210\\u5546\\u4e1a\\u9879\\u76ee\\u6570\", \"zeroline\": true}},\n",
       "            {\"showLink\": true, \"linkText\": \"Export to plot.ly\"}\n",
       "        ).then(function () {return Plotly.addFrames('499475e1-68d7-4b98-bafb-804fe98934c1',{});}).then(function(){Plotly.animate('499475e1-68d7-4b98-bafb-804fe98934c1');})\n",
       "        });</script>"
      ],
      "text/vnd.plotly.v1+html": [
       "<div id=\"499475e1-68d7-4b98-bafb-804fe98934c1\" style=\"height: 525px; width: 100%;\" class=\"plotly-graph-div\"></div><script type=\"text/javascript\">require([\"plotly\"], function(Plotly) { window.PLOTLYENV=window.PLOTLYENV || {};window.PLOTLYENV.BASE_URL=\"https://plot.ly\";\n",
       "        Plotly.plot(\n",
       "            '499475e1-68d7-4b98-bafb-804fe98934c1',\n",
       "            [{\"line\": {\"dash\": \"solid\"}, \"name\": \"\\u5b8c\\u6210\\u4e2a\\u6027\\u5316\\u6570(\\u4e8e\\u6167)\", \"x\": [\"9-2\", \"9-3\", \"9-4\"], \"y\": [1.0, 1.0, null], \"type\": \"scatter\", \"uid\": \"4f35fb6e-cb6f-11e8-b77b-509a4c0f1ffc\"}, {\"line\": {\"dash\": \"dot\"}, \"name\": \"\\u5b8c\\u6210\\u4e2a\\u6027\\u5316\\u6570(\\u8d75\\u73a5)\", \"x\": [\"9-2\", \"9-3\", \"9-4\"], \"y\": [2.0, null, null], \"type\": \"scatter\", \"uid\": \"4f35fb6f-cb6f-11e8-a0ac-509a4c0f1ffc\"}, {\"line\": {\"dash\": \"dash\"}, \"name\": \"\\u5b8c\\u6210\\u4e2a\\u6027\\u5316\\u6570(\\u9a6c\\u6f47)\", \"x\": [\"9-2\", \"9-3\", \"9-4\"], \"y\": [3.0, null, null], \"type\": \"scatter\", \"uid\": \"4f362280-cb6f-11e8-915e-509a4c0f1ffc\"}, {\"line\": {\"dash\": \"longdash\"}, \"name\": \"\\u5b8c\\u6210\\u4e2a\\u6027\\u5316\\u6570(\\u5360\\u4f1f)\", \"x\": [\"9-2\", \"9-3\", \"9-4\"], \"y\": [0.0, null, null], \"type\": \"scatter\", \"uid\": \"4f362281-cb6f-11e8-b4cd-509a4c0f1ffc\"}, {\"line\": {\"dash\": \"dashdot\"}, \"name\": \"\\u5b8c\\u6210\\u4e2a\\u6027\\u5316\\u6570(\\u5218\\u6c5f)\", \"x\": [\"9-2\", \"9-3\", \"9-4\"], \"y\": [2.0, 1.0, 0.0], \"type\": \"scatter\", \"uid\": \"4f362282-cb6f-11e8-a792-509a4c0f1ffc\"}, {\"line\": {\"dash\": \"longdashdot\"}, \"name\": \"\\u5b8c\\u6210\\u4e2a\\u6027\\u5316\\u6570(\\u8c22\\u5fb7\\u5065)\", \"x\": [\"9-2\", \"9-3\", \"9-4\"], \"y\": [null, 2.0, null], \"type\": \"scatter\", \"uid\": \"4f362283-cb6f-11e8-a02f-509a4c0f1ffc\"}, {\"line\": {\"dash\": \"solid\"}, \"name\": \"\\u5b8c\\u6210\\u4e2a\\u6027\\u5316\\u6570(\\u6768\\u4f1f\\u98de)\", \"x\": [\"9-2\", \"9-3\", \"9-4\"], \"y\": [3.0, 1.0, null], \"type\": \"scatter\", \"uid\": \"4f362284-cb6f-11e8-8110-509a4c0f1ffc\"}, {\"line\": {\"dash\": \"dot\"}, \"name\": \"\\u5b8c\\u6210\\u4e2a\\u6027\\u5316\\u6570(\\u82cf\\u5f66\\u52cb)\", \"x\": [\"9-2\", \"9-3\", \"9-4\"], \"y\": [null, 0.0, null], \"type\": \"scatter\", \"uid\": \"4f362285-cb6f-11e8-a2ba-509a4c0f1ffc\"}, {\"line\": {\"dash\": \"dash\"}, \"name\": \"\\u5b8c\\u6210\\u4e2a\\u6027\\u5316\\u6570(\\u8def\\u6167\\u840d)\", \"x\": [\"9-2\", \"9-3\", \"9-4\"], \"y\": [0.0, null, null], \"type\": \"scatter\", \"uid\": \"4f362286-cb6f-11e8-9c45-509a4c0f1ffc\"}, {\"line\": {\"dash\": \"longdash\"}, \"name\": \"\\u5b8c\\u6210\\u4e2a\\u6027\\u5316\\u6570(\\u674e\\u534e\\u4e91)\", \"x\": [\"9-2\", \"9-3\", \"9-4\"], \"y\": [null, 1.0, null], \"type\": \"scatter\", \"uid\": \"4f362287-cb6f-11e8-8175-509a4c0f1ffc\"}, {\"line\": {\"dash\": \"dashdot\"}, \"name\": \"\\u5b8c\\u6210\\u4e2a\\u6027\\u5316\\u6570(\\u4e8e\\u52c7\\u4e00)\", \"x\": [\"9-2\", \"9-3\", \"9-4\"], \"y\": [1.0, 0.0, 1.0], \"type\": \"scatter\", \"uid\": \"4f362288-cb6f-11e8-890a-509a4c0f1ffc\"}, {\"line\": {\"dash\": \"solid\"}, \"name\": \"\\u5b8c\\u6210\\u5546\\u4e1a\\u9879\\u76ee\\u6570(\\u4e8e\\u6167)\", \"x\": [\"9-2\", \"9-3\", \"9-4\"], \"y\": [0.0, 1.0, null], \"type\": \"scatter\", \"uid\": \"4f362289-cb6f-11e8-9ca4-509a4c0f1ffc\"}, {\"line\": {\"dash\": \"dot\"}, \"name\": \"\\u5b8c\\u6210\\u5546\\u4e1a\\u9879\\u76ee\\u6570(\\u8d75\\u73a5)\", \"x\": [\"9-2\", \"9-3\", \"9-4\"], \"y\": [0.0, null, null], \"type\": \"scatter\", \"uid\": \"4f36228a-cb6f-11e8-a6b2-509a4c0f1ffc\"}, {\"line\": {\"dash\": \"dash\"}, \"name\": \"\\u5b8c\\u6210\\u5546\\u4e1a\\u9879\\u76ee\\u6570(\\u9a6c\\u6f47)\", \"x\": [\"9-2\", \"9-3\", \"9-4\"], \"y\": [4.0, null, null], \"type\": \"scatter\", \"uid\": \"4f36228b-cb6f-11e8-865a-509a4c0f1ffc\"}, {\"line\": {\"dash\": \"longdash\"}, \"name\": \"\\u5b8c\\u6210\\u5546\\u4e1a\\u9879\\u76ee\\u6570(\\u5360\\u4f1f)\", \"x\": [\"9-2\", \"9-3\", \"9-4\"], \"y\": [0.0, null, null], \"type\": \"scatter\", \"uid\": \"4f36228c-cb6f-11e8-a53e-509a4c0f1ffc\"}, {\"line\": {\"dash\": \"dashdot\"}, \"name\": \"\\u5b8c\\u6210\\u5546\\u4e1a\\u9879\\u76ee\\u6570(\\u5218\\u6c5f)\", \"x\": [\"9-2\", \"9-3\", \"9-4\"], \"y\": [1.0, 0.0, 0.0], \"type\": \"scatter\", \"uid\": \"4f36228d-cb6f-11e8-a7b5-509a4c0f1ffc\"}, {\"line\": {\"dash\": \"longdashdot\"}, \"name\": \"\\u5b8c\\u6210\\u5546\\u4e1a\\u9879\\u76ee\\u6570(\\u8c22\\u5fb7\\u5065)\", \"x\": [\"9-2\", \"9-3\", \"9-4\"], \"y\": [null, 0.0, null], \"type\": \"scatter\", \"uid\": \"4f36228e-cb6f-11e8-8b5b-509a4c0f1ffc\"}, {\"line\": {\"dash\": \"solid\"}, \"name\": \"\\u5b8c\\u6210\\u5546\\u4e1a\\u9879\\u76ee\\u6570(\\u6768\\u4f1f\\u98de)\", \"x\": [\"9-2\", \"9-3\", \"9-4\"], \"y\": [0.0, 1.0, null], \"type\": \"scatter\", \"uid\": \"4f36228f-cb6f-11e8-be88-509a4c0f1ffc\"}, {\"line\": {\"dash\": \"dot\"}, \"name\": \"\\u5b8c\\u6210\\u5546\\u4e1a\\u9879\\u76ee\\u6570(\\u82cf\\u5f66\\u52cb)\", \"x\": [\"9-2\", \"9-3\", \"9-4\"], \"y\": [null, 1.0, null], \"type\": \"scatter\", \"uid\": \"4f362290-cb6f-11e8-bda1-509a4c0f1ffc\"}, {\"line\": {\"dash\": \"dash\"}, \"name\": \"\\u5b8c\\u6210\\u5546\\u4e1a\\u9879\\u76ee\\u6570(\\u8def\\u6167\\u840d)\", \"x\": [\"9-2\", \"9-3\", \"9-4\"], \"y\": [1.0, null, null], \"type\": \"scatter\", \"uid\": \"4f362291-cb6f-11e8-89ee-509a4c0f1ffc\"}, {\"line\": {\"dash\": \"longdash\"}, \"name\": \"\\u5b8c\\u6210\\u5546\\u4e1a\\u9879\\u76ee\\u6570(\\u674e\\u534e\\u4e91)\", \"x\": [\"9-2\", \"9-3\", \"9-4\"], \"y\": [null, 0.0, null], \"type\": \"scatter\", \"uid\": \"4f362292-cb6f-11e8-80b2-509a4c0f1ffc\"}, {\"line\": {\"dash\": \"dashdot\"}, \"name\": \"\\u5b8c\\u6210\\u5546\\u4e1a\\u9879\\u76ee\\u6570(\\u4e8e\\u52c7\\u4e00)\", \"x\": [\"9-2\", \"9-3\", \"9-4\"], \"y\": [1.0, 5.0, 3.0], \"type\": \"scatter\", \"uid\": \"4f362293-cb6f-11e8-aa19-509a4c0f1ffc\"}],\n",
       "            {\"title\": \"\\u5b8c\\u6210\\u4e2a\\u6027\\u5316\\u6570&\\u5b8c\\u6210\\u5546\\u4e1a\\u9879\\u76ee\\u6570\\u5468\\u8d8b\\u52bf\\u56fe\", \"xaxis\": {\"mirror\": \"all\", \"nticks\": 20, \"showgrid\": true, \"showline\": true, \"title\": \"\\u5468\", \"zeroline\": true}, \"yaxis\": {\"mirror\": \"all\", \"nticks\": 20, \"showgrid\": true, \"showline\": true, \"title\": \"\\u5b8c\\u6210\\u4e2a\\u6027\\u5316\\u6570&\\u5b8c\\u6210\\u5546\\u4e1a\\u9879\\u76ee\\u6570\", \"zeroline\": true}},\n",
       "            {\"showLink\": true, \"linkText\": \"Export to plot.ly\"}\n",
       "        ).then(function () {return Plotly.addFrames('499475e1-68d7-4b98-bafb-804fe98934c1',{});}).then(function(){Plotly.animate('499475e1-68d7-4b98-bafb-804fe98934c1');})\n",
       "        });</script>"
      ]
     },
     "metadata": {},
     "output_type": "display_data"
    }
   ],
   "source": [
    "ss=myModule.format(all_dict_2 ,\"日期\" ,['完成商业项目数','完成个性化数'])\n",
    "ss.add_group('负责人')\n",
    "tt = myModule.myPlot(ss.groupby('sum'))\n",
    "tt.plot('line')"
   ]
  },
  {
   "cell_type": "markdown",
   "metadata": {},
   "source": [
    "### 个人延期项目数"
   ]
  },
  {
   "cell_type": "code",
   "execution_count": 187,
   "metadata": {
    "collapsed": false
   },
   "outputs": [
    {
     "data": {
      "application/vnd.plotly.v1+json": {
       "data": [
        {
         "line": {
          "dash": "solid"
         },
         "name": "延期商业项目数(于慧)",
         "type": "scatter",
         "uid": "4f80c010-cb6f-11e8-b472-509a4c0f1ffc",
         "x": [
          "9-2",
          "9-3",
          "9-4"
         ],
         "y": [
          0,
          0,
          null
         ]
        },
        {
         "line": {
          "dash": "dot"
         },
         "name": "延期商业项目数(赵玥)",
         "type": "scatter",
         "uid": "4f80c011-cb6f-11e8-bb35-509a4c0f1ffc",
         "x": [
          "9-2",
          "9-3",
          "9-4"
         ],
         "y": [
          0,
          null,
          null
         ]
        },
        {
         "line": {
          "dash": "dash"
         },
         "name": "延期商业项目数(马潇)",
         "type": "scatter",
         "uid": "4f80c012-cb6f-11e8-ac88-509a4c0f1ffc",
         "x": [
          "9-2",
          "9-3",
          "9-4"
         ],
         "y": [
          0,
          null,
          null
         ]
        },
        {
         "line": {
          "dash": "longdash"
         },
         "name": "延期商业项目数(占伟)",
         "type": "scatter",
         "uid": "4f80c013-cb6f-11e8-a857-509a4c0f1ffc",
         "x": [
          "9-2",
          "9-3",
          "9-4"
         ],
         "y": [
          0,
          null,
          null
         ]
        },
        {
         "line": {
          "dash": "dashdot"
         },
         "name": "延期商业项目数(刘江)",
         "type": "scatter",
         "uid": "4f80c014-cb6f-11e8-8d74-509a4c0f1ffc",
         "x": [
          "9-2",
          "9-3",
          "9-4"
         ],
         "y": [
          0,
          0,
          0
         ]
        },
        {
         "line": {
          "dash": "longdashdot"
         },
         "name": "延期商业项目数(谢德健)",
         "type": "scatter",
         "uid": "4f80c015-cb6f-11e8-983d-509a4c0f1ffc",
         "x": [
          "9-2",
          "9-3",
          "9-4"
         ],
         "y": [
          null,
          0,
          null
         ]
        },
        {
         "line": {
          "dash": "solid"
         },
         "name": "延期商业项目数(杨伟飞)",
         "type": "scatter",
         "uid": "4f80c016-cb6f-11e8-bef9-509a4c0f1ffc",
         "x": [
          "9-2",
          "9-3",
          "9-4"
         ],
         "y": [
          0,
          0,
          null
         ]
        },
        {
         "line": {
          "dash": "dot"
         },
         "name": "延期商业项目数(苏彦勋)",
         "type": "scatter",
         "uid": "4f80c017-cb6f-11e8-9e70-509a4c0f1ffc",
         "x": [
          "9-2",
          "9-3",
          "9-4"
         ],
         "y": [
          null,
          0,
          null
         ]
        },
        {
         "line": {
          "dash": "dash"
         },
         "name": "延期商业项目数(路慧萍)",
         "type": "scatter",
         "uid": "4f80c018-cb6f-11e8-a875-509a4c0f1ffc",
         "x": [
          "9-2",
          "9-3",
          "9-4"
         ],
         "y": [
          0,
          null,
          null
         ]
        },
        {
         "line": {
          "dash": "longdash"
         },
         "name": "延期商业项目数(李华云)",
         "type": "scatter",
         "uid": "4f80c019-cb6f-11e8-88ec-509a4c0f1ffc",
         "x": [
          "9-2",
          "9-3",
          "9-4"
         ],
         "y": [
          null,
          0,
          null
         ]
        },
        {
         "line": {
          "dash": "dashdot"
         },
         "name": "延期商业项目数(于勇一)",
         "type": "scatter",
         "uid": "4f80c01a-cb6f-11e8-95fc-509a4c0f1ffc",
         "x": [
          "9-2",
          "9-3",
          "9-4"
         ],
         "y": [
          0,
          0,
          0
         ]
        },
        {
         "line": {
          "dash": "solid"
         },
         "name": "延期个性化项目数(于慧)",
         "type": "scatter",
         "uid": "4f80c01b-cb6f-11e8-a106-509a4c0f1ffc",
         "x": [
          "9-2",
          "9-3",
          "9-4"
         ],
         "y": [
          0,
          0,
          null
         ]
        },
        {
         "line": {
          "dash": "dot"
         },
         "name": "延期个性化项目数(赵玥)",
         "type": "scatter",
         "uid": "4f80c01c-cb6f-11e8-8957-509a4c0f1ffc",
         "x": [
          "9-2",
          "9-3",
          "9-4"
         ],
         "y": [
          1,
          null,
          null
         ]
        },
        {
         "line": {
          "dash": "dash"
         },
         "name": "延期个性化项目数(马潇)",
         "type": "scatter",
         "uid": "4f80c01d-cb6f-11e8-b524-509a4c0f1ffc",
         "x": [
          "9-2",
          "9-3",
          "9-4"
         ],
         "y": [
          0,
          null,
          null
         ]
        },
        {
         "line": {
          "dash": "longdash"
         },
         "name": "延期个性化项目数(占伟)",
         "type": "scatter",
         "uid": "4f80c01e-cb6f-11e8-af4e-509a4c0f1ffc",
         "x": [
          "9-2",
          "9-3",
          "9-4"
         ],
         "y": [
          0,
          null,
          null
         ]
        },
        {
         "line": {
          "dash": "dashdot"
         },
         "name": "延期个性化项目数(刘江)",
         "type": "scatter",
         "uid": "4f80c01f-cb6f-11e8-abc4-509a4c0f1ffc",
         "x": [
          "9-2",
          "9-3",
          "9-4"
         ],
         "y": [
          0,
          0,
          0
         ]
        },
        {
         "line": {
          "dash": "longdashdot"
         },
         "name": "延期个性化项目数(谢德健)",
         "type": "scatter",
         "uid": "4f80c020-cb6f-11e8-90b6-509a4c0f1ffc",
         "x": [
          "9-2",
          "9-3",
          "9-4"
         ],
         "y": [
          null,
          0,
          null
         ]
        },
        {
         "line": {
          "dash": "solid"
         },
         "name": "延期个性化项目数(杨伟飞)",
         "type": "scatter",
         "uid": "4f80c021-cb6f-11e8-bb0e-509a4c0f1ffc",
         "x": [
          "9-2",
          "9-3",
          "9-4"
         ],
         "y": [
          0,
          0,
          null
         ]
        },
        {
         "line": {
          "dash": "dot"
         },
         "name": "延期个性化项目数(苏彦勋)",
         "type": "scatter",
         "uid": "4f80c022-cb6f-11e8-b92a-509a4c0f1ffc",
         "x": [
          "9-2",
          "9-3",
          "9-4"
         ],
         "y": [
          null,
          0,
          null
         ]
        },
        {
         "line": {
          "dash": "dash"
         },
         "name": "延期个性化项目数(路慧萍)",
         "type": "scatter",
         "uid": "4f80c023-cb6f-11e8-af82-509a4c0f1ffc",
         "x": [
          "9-2",
          "9-3",
          "9-4"
         ],
         "y": [
          0,
          null,
          null
         ]
        },
        {
         "line": {
          "dash": "longdash"
         },
         "name": "延期个性化项目数(李华云)",
         "type": "scatter",
         "uid": "4f80c024-cb6f-11e8-a0c6-509a4c0f1ffc",
         "x": [
          "9-2",
          "9-3",
          "9-4"
         ],
         "y": [
          null,
          0,
          null
         ]
        },
        {
         "line": {
          "dash": "dashdot"
         },
         "name": "延期个性化项目数(于勇一)",
         "type": "scatter",
         "uid": "4f80c025-cb6f-11e8-96ca-509a4c0f1ffc",
         "x": [
          "9-2",
          "9-3",
          "9-4"
         ],
         "y": [
          0,
          0,
          0
         ]
        }
       ],
       "layout": {
        "title": "延期商业项目数&延期个性化项目数周趋势图",
        "xaxis": {
         "mirror": "all",
         "nticks": 20,
         "showgrid": true,
         "showline": true,
         "title": "周",
         "zeroline": true
        },
        "yaxis": {
         "mirror": "all",
         "nticks": 20,
         "showgrid": true,
         "showline": true,
         "title": "延期商业项目数&延期个性化项目数",
         "zeroline": true
        }
       }
      },
      "text/html": [
       "<div id=\"13af4307-f32d-4dc4-8557-140f2c72fbec\" style=\"height: 525px; width: 100%;\" class=\"plotly-graph-div\"></div><script type=\"text/javascript\">require([\"plotly\"], function(Plotly) { window.PLOTLYENV=window.PLOTLYENV || {};window.PLOTLYENV.BASE_URL=\"https://plot.ly\";\n",
       "        Plotly.plot(\n",
       "            '13af4307-f32d-4dc4-8557-140f2c72fbec',\n",
       "            [{\"line\": {\"dash\": \"solid\"}, \"name\": \"\\u5ef6\\u671f\\u5546\\u4e1a\\u9879\\u76ee\\u6570(\\u4e8e\\u6167)\", \"x\": [\"9-2\", \"9-3\", \"9-4\"], \"y\": [0.0, 0.0, null], \"type\": \"scatter\", \"uid\": \"4f80c010-cb6f-11e8-b472-509a4c0f1ffc\"}, {\"line\": {\"dash\": \"dot\"}, \"name\": \"\\u5ef6\\u671f\\u5546\\u4e1a\\u9879\\u76ee\\u6570(\\u8d75\\u73a5)\", \"x\": [\"9-2\", \"9-3\", \"9-4\"], \"y\": [0.0, null, null], \"type\": \"scatter\", \"uid\": \"4f80c011-cb6f-11e8-bb35-509a4c0f1ffc\"}, {\"line\": {\"dash\": \"dash\"}, \"name\": \"\\u5ef6\\u671f\\u5546\\u4e1a\\u9879\\u76ee\\u6570(\\u9a6c\\u6f47)\", \"x\": [\"9-2\", \"9-3\", \"9-4\"], \"y\": [0.0, null, null], \"type\": \"scatter\", \"uid\": \"4f80c012-cb6f-11e8-ac88-509a4c0f1ffc\"}, {\"line\": {\"dash\": \"longdash\"}, \"name\": \"\\u5ef6\\u671f\\u5546\\u4e1a\\u9879\\u76ee\\u6570(\\u5360\\u4f1f)\", \"x\": [\"9-2\", \"9-3\", \"9-4\"], \"y\": [0.0, null, null], \"type\": \"scatter\", \"uid\": \"4f80c013-cb6f-11e8-a857-509a4c0f1ffc\"}, {\"line\": {\"dash\": \"dashdot\"}, \"name\": \"\\u5ef6\\u671f\\u5546\\u4e1a\\u9879\\u76ee\\u6570(\\u5218\\u6c5f)\", \"x\": [\"9-2\", \"9-3\", \"9-4\"], \"y\": [0.0, 0.0, 0.0], \"type\": \"scatter\", \"uid\": \"4f80c014-cb6f-11e8-8d74-509a4c0f1ffc\"}, {\"line\": {\"dash\": \"longdashdot\"}, \"name\": \"\\u5ef6\\u671f\\u5546\\u4e1a\\u9879\\u76ee\\u6570(\\u8c22\\u5fb7\\u5065)\", \"x\": [\"9-2\", \"9-3\", \"9-4\"], \"y\": [null, 0.0, null], \"type\": \"scatter\", \"uid\": \"4f80c015-cb6f-11e8-983d-509a4c0f1ffc\"}, {\"line\": {\"dash\": \"solid\"}, \"name\": \"\\u5ef6\\u671f\\u5546\\u4e1a\\u9879\\u76ee\\u6570(\\u6768\\u4f1f\\u98de)\", \"x\": [\"9-2\", \"9-3\", \"9-4\"], \"y\": [0.0, 0.0, null], \"type\": \"scatter\", \"uid\": \"4f80c016-cb6f-11e8-bef9-509a4c0f1ffc\"}, {\"line\": {\"dash\": \"dot\"}, \"name\": \"\\u5ef6\\u671f\\u5546\\u4e1a\\u9879\\u76ee\\u6570(\\u82cf\\u5f66\\u52cb)\", \"x\": [\"9-2\", \"9-3\", \"9-4\"], \"y\": [null, 0.0, null], \"type\": \"scatter\", \"uid\": \"4f80c017-cb6f-11e8-9e70-509a4c0f1ffc\"}, {\"line\": {\"dash\": \"dash\"}, \"name\": \"\\u5ef6\\u671f\\u5546\\u4e1a\\u9879\\u76ee\\u6570(\\u8def\\u6167\\u840d)\", \"x\": [\"9-2\", \"9-3\", \"9-4\"], \"y\": [0.0, null, null], \"type\": \"scatter\", \"uid\": \"4f80c018-cb6f-11e8-a875-509a4c0f1ffc\"}, {\"line\": {\"dash\": \"longdash\"}, \"name\": \"\\u5ef6\\u671f\\u5546\\u4e1a\\u9879\\u76ee\\u6570(\\u674e\\u534e\\u4e91)\", \"x\": [\"9-2\", \"9-3\", \"9-4\"], \"y\": [null, 0.0, null], \"type\": \"scatter\", \"uid\": \"4f80c019-cb6f-11e8-88ec-509a4c0f1ffc\"}, {\"line\": {\"dash\": \"dashdot\"}, \"name\": \"\\u5ef6\\u671f\\u5546\\u4e1a\\u9879\\u76ee\\u6570(\\u4e8e\\u52c7\\u4e00)\", \"x\": [\"9-2\", \"9-3\", \"9-4\"], \"y\": [0.0, 0.0, 0.0], \"type\": \"scatter\", \"uid\": \"4f80c01a-cb6f-11e8-95fc-509a4c0f1ffc\"}, {\"line\": {\"dash\": \"solid\"}, \"name\": \"\\u5ef6\\u671f\\u4e2a\\u6027\\u5316\\u9879\\u76ee\\u6570(\\u4e8e\\u6167)\", \"x\": [\"9-2\", \"9-3\", \"9-4\"], \"y\": [0.0, 0.0, null], \"type\": \"scatter\", \"uid\": \"4f80c01b-cb6f-11e8-a106-509a4c0f1ffc\"}, {\"line\": {\"dash\": \"dot\"}, \"name\": \"\\u5ef6\\u671f\\u4e2a\\u6027\\u5316\\u9879\\u76ee\\u6570(\\u8d75\\u73a5)\", \"x\": [\"9-2\", \"9-3\", \"9-4\"], \"y\": [1.0, null, null], \"type\": \"scatter\", \"uid\": \"4f80c01c-cb6f-11e8-8957-509a4c0f1ffc\"}, {\"line\": {\"dash\": \"dash\"}, \"name\": \"\\u5ef6\\u671f\\u4e2a\\u6027\\u5316\\u9879\\u76ee\\u6570(\\u9a6c\\u6f47)\", \"x\": [\"9-2\", \"9-3\", \"9-4\"], \"y\": [0.0, null, null], \"type\": \"scatter\", \"uid\": \"4f80c01d-cb6f-11e8-b524-509a4c0f1ffc\"}, {\"line\": {\"dash\": \"longdash\"}, \"name\": \"\\u5ef6\\u671f\\u4e2a\\u6027\\u5316\\u9879\\u76ee\\u6570(\\u5360\\u4f1f)\", \"x\": [\"9-2\", \"9-3\", \"9-4\"], \"y\": [0.0, null, null], \"type\": \"scatter\", \"uid\": \"4f80c01e-cb6f-11e8-af4e-509a4c0f1ffc\"}, {\"line\": {\"dash\": \"dashdot\"}, \"name\": \"\\u5ef6\\u671f\\u4e2a\\u6027\\u5316\\u9879\\u76ee\\u6570(\\u5218\\u6c5f)\", \"x\": [\"9-2\", \"9-3\", \"9-4\"], \"y\": [0.0, 0.0, 0.0], \"type\": \"scatter\", \"uid\": \"4f80c01f-cb6f-11e8-abc4-509a4c0f1ffc\"}, {\"line\": {\"dash\": \"longdashdot\"}, \"name\": \"\\u5ef6\\u671f\\u4e2a\\u6027\\u5316\\u9879\\u76ee\\u6570(\\u8c22\\u5fb7\\u5065)\", \"x\": [\"9-2\", \"9-3\", \"9-4\"], \"y\": [null, 0.0, null], \"type\": \"scatter\", \"uid\": \"4f80c020-cb6f-11e8-90b6-509a4c0f1ffc\"}, {\"line\": {\"dash\": \"solid\"}, \"name\": \"\\u5ef6\\u671f\\u4e2a\\u6027\\u5316\\u9879\\u76ee\\u6570(\\u6768\\u4f1f\\u98de)\", \"x\": [\"9-2\", \"9-3\", \"9-4\"], \"y\": [0.0, 0.0, null], \"type\": \"scatter\", \"uid\": \"4f80c021-cb6f-11e8-bb0e-509a4c0f1ffc\"}, {\"line\": {\"dash\": \"dot\"}, \"name\": \"\\u5ef6\\u671f\\u4e2a\\u6027\\u5316\\u9879\\u76ee\\u6570(\\u82cf\\u5f66\\u52cb)\", \"x\": [\"9-2\", \"9-3\", \"9-4\"], \"y\": [null, 0.0, null], \"type\": \"scatter\", \"uid\": \"4f80c022-cb6f-11e8-b92a-509a4c0f1ffc\"}, {\"line\": {\"dash\": \"dash\"}, \"name\": \"\\u5ef6\\u671f\\u4e2a\\u6027\\u5316\\u9879\\u76ee\\u6570(\\u8def\\u6167\\u840d)\", \"x\": [\"9-2\", \"9-3\", \"9-4\"], \"y\": [0.0, null, null], \"type\": \"scatter\", \"uid\": \"4f80c023-cb6f-11e8-af82-509a4c0f1ffc\"}, {\"line\": {\"dash\": \"longdash\"}, \"name\": \"\\u5ef6\\u671f\\u4e2a\\u6027\\u5316\\u9879\\u76ee\\u6570(\\u674e\\u534e\\u4e91)\", \"x\": [\"9-2\", \"9-3\", \"9-4\"], \"y\": [null, 0.0, null], \"type\": \"scatter\", \"uid\": \"4f80c024-cb6f-11e8-a0c6-509a4c0f1ffc\"}, {\"line\": {\"dash\": \"dashdot\"}, \"name\": \"\\u5ef6\\u671f\\u4e2a\\u6027\\u5316\\u9879\\u76ee\\u6570(\\u4e8e\\u52c7\\u4e00)\", \"x\": [\"9-2\", \"9-3\", \"9-4\"], \"y\": [0.0, 0.0, 0.0], \"type\": \"scatter\", \"uid\": \"4f80c025-cb6f-11e8-96ca-509a4c0f1ffc\"}],\n",
       "            {\"title\": \"\\u5ef6\\u671f\\u5546\\u4e1a\\u9879\\u76ee\\u6570&\\u5ef6\\u671f\\u4e2a\\u6027\\u5316\\u9879\\u76ee\\u6570\\u5468\\u8d8b\\u52bf\\u56fe\", \"xaxis\": {\"mirror\": \"all\", \"nticks\": 20, \"showgrid\": true, \"showline\": true, \"title\": \"\\u5468\", \"zeroline\": true}, \"yaxis\": {\"mirror\": \"all\", \"nticks\": 20, \"showgrid\": true, \"showline\": true, \"title\": \"\\u5ef6\\u671f\\u5546\\u4e1a\\u9879\\u76ee\\u6570&\\u5ef6\\u671f\\u4e2a\\u6027\\u5316\\u9879\\u76ee\\u6570\", \"zeroline\": true}},\n",
       "            {\"showLink\": true, \"linkText\": \"Export to plot.ly\"}\n",
       "        ).then(function () {return Plotly.addFrames('13af4307-f32d-4dc4-8557-140f2c72fbec',{});}).then(function(){Plotly.animate('13af4307-f32d-4dc4-8557-140f2c72fbec');})\n",
       "        });</script>"
      ],
      "text/vnd.plotly.v1+html": [
       "<div id=\"13af4307-f32d-4dc4-8557-140f2c72fbec\" style=\"height: 525px; width: 100%;\" class=\"plotly-graph-div\"></div><script type=\"text/javascript\">require([\"plotly\"], function(Plotly) { window.PLOTLYENV=window.PLOTLYENV || {};window.PLOTLYENV.BASE_URL=\"https://plot.ly\";\n",
       "        Plotly.plot(\n",
       "            '13af4307-f32d-4dc4-8557-140f2c72fbec',\n",
       "            [{\"line\": {\"dash\": \"solid\"}, \"name\": \"\\u5ef6\\u671f\\u5546\\u4e1a\\u9879\\u76ee\\u6570(\\u4e8e\\u6167)\", \"x\": [\"9-2\", \"9-3\", \"9-4\"], \"y\": [0.0, 0.0, null], \"type\": \"scatter\", \"uid\": \"4f80c010-cb6f-11e8-b472-509a4c0f1ffc\"}, {\"line\": {\"dash\": \"dot\"}, \"name\": \"\\u5ef6\\u671f\\u5546\\u4e1a\\u9879\\u76ee\\u6570(\\u8d75\\u73a5)\", \"x\": [\"9-2\", \"9-3\", \"9-4\"], \"y\": [0.0, null, null], \"type\": \"scatter\", \"uid\": \"4f80c011-cb6f-11e8-bb35-509a4c0f1ffc\"}, {\"line\": {\"dash\": \"dash\"}, \"name\": \"\\u5ef6\\u671f\\u5546\\u4e1a\\u9879\\u76ee\\u6570(\\u9a6c\\u6f47)\", \"x\": [\"9-2\", \"9-3\", \"9-4\"], \"y\": [0.0, null, null], \"type\": \"scatter\", \"uid\": \"4f80c012-cb6f-11e8-ac88-509a4c0f1ffc\"}, {\"line\": {\"dash\": \"longdash\"}, \"name\": \"\\u5ef6\\u671f\\u5546\\u4e1a\\u9879\\u76ee\\u6570(\\u5360\\u4f1f)\", \"x\": [\"9-2\", \"9-3\", \"9-4\"], \"y\": [0.0, null, null], \"type\": \"scatter\", \"uid\": \"4f80c013-cb6f-11e8-a857-509a4c0f1ffc\"}, {\"line\": {\"dash\": \"dashdot\"}, \"name\": \"\\u5ef6\\u671f\\u5546\\u4e1a\\u9879\\u76ee\\u6570(\\u5218\\u6c5f)\", \"x\": [\"9-2\", \"9-3\", \"9-4\"], \"y\": [0.0, 0.0, 0.0], \"type\": \"scatter\", \"uid\": \"4f80c014-cb6f-11e8-8d74-509a4c0f1ffc\"}, {\"line\": {\"dash\": \"longdashdot\"}, \"name\": \"\\u5ef6\\u671f\\u5546\\u4e1a\\u9879\\u76ee\\u6570(\\u8c22\\u5fb7\\u5065)\", \"x\": [\"9-2\", \"9-3\", \"9-4\"], \"y\": [null, 0.0, null], \"type\": \"scatter\", \"uid\": \"4f80c015-cb6f-11e8-983d-509a4c0f1ffc\"}, {\"line\": {\"dash\": \"solid\"}, \"name\": \"\\u5ef6\\u671f\\u5546\\u4e1a\\u9879\\u76ee\\u6570(\\u6768\\u4f1f\\u98de)\", \"x\": [\"9-2\", \"9-3\", \"9-4\"], \"y\": [0.0, 0.0, null], \"type\": \"scatter\", \"uid\": \"4f80c016-cb6f-11e8-bef9-509a4c0f1ffc\"}, {\"line\": {\"dash\": \"dot\"}, \"name\": \"\\u5ef6\\u671f\\u5546\\u4e1a\\u9879\\u76ee\\u6570(\\u82cf\\u5f66\\u52cb)\", \"x\": [\"9-2\", \"9-3\", \"9-4\"], \"y\": [null, 0.0, null], \"type\": \"scatter\", \"uid\": \"4f80c017-cb6f-11e8-9e70-509a4c0f1ffc\"}, {\"line\": {\"dash\": \"dash\"}, \"name\": \"\\u5ef6\\u671f\\u5546\\u4e1a\\u9879\\u76ee\\u6570(\\u8def\\u6167\\u840d)\", \"x\": [\"9-2\", \"9-3\", \"9-4\"], \"y\": [0.0, null, null], \"type\": \"scatter\", \"uid\": \"4f80c018-cb6f-11e8-a875-509a4c0f1ffc\"}, {\"line\": {\"dash\": \"longdash\"}, \"name\": \"\\u5ef6\\u671f\\u5546\\u4e1a\\u9879\\u76ee\\u6570(\\u674e\\u534e\\u4e91)\", \"x\": [\"9-2\", \"9-3\", \"9-4\"], \"y\": [null, 0.0, null], \"type\": \"scatter\", \"uid\": \"4f80c019-cb6f-11e8-88ec-509a4c0f1ffc\"}, {\"line\": {\"dash\": \"dashdot\"}, \"name\": \"\\u5ef6\\u671f\\u5546\\u4e1a\\u9879\\u76ee\\u6570(\\u4e8e\\u52c7\\u4e00)\", \"x\": [\"9-2\", \"9-3\", \"9-4\"], \"y\": [0.0, 0.0, 0.0], \"type\": \"scatter\", \"uid\": \"4f80c01a-cb6f-11e8-95fc-509a4c0f1ffc\"}, {\"line\": {\"dash\": \"solid\"}, \"name\": \"\\u5ef6\\u671f\\u4e2a\\u6027\\u5316\\u9879\\u76ee\\u6570(\\u4e8e\\u6167)\", \"x\": [\"9-2\", \"9-3\", \"9-4\"], \"y\": [0.0, 0.0, null], \"type\": \"scatter\", \"uid\": \"4f80c01b-cb6f-11e8-a106-509a4c0f1ffc\"}, {\"line\": {\"dash\": \"dot\"}, \"name\": \"\\u5ef6\\u671f\\u4e2a\\u6027\\u5316\\u9879\\u76ee\\u6570(\\u8d75\\u73a5)\", \"x\": [\"9-2\", \"9-3\", \"9-4\"], \"y\": [1.0, null, null], \"type\": \"scatter\", \"uid\": \"4f80c01c-cb6f-11e8-8957-509a4c0f1ffc\"}, {\"line\": {\"dash\": \"dash\"}, \"name\": \"\\u5ef6\\u671f\\u4e2a\\u6027\\u5316\\u9879\\u76ee\\u6570(\\u9a6c\\u6f47)\", \"x\": [\"9-2\", \"9-3\", \"9-4\"], \"y\": [0.0, null, null], \"type\": \"scatter\", \"uid\": \"4f80c01d-cb6f-11e8-b524-509a4c0f1ffc\"}, {\"line\": {\"dash\": \"longdash\"}, \"name\": \"\\u5ef6\\u671f\\u4e2a\\u6027\\u5316\\u9879\\u76ee\\u6570(\\u5360\\u4f1f)\", \"x\": [\"9-2\", \"9-3\", \"9-4\"], \"y\": [0.0, null, null], \"type\": \"scatter\", \"uid\": \"4f80c01e-cb6f-11e8-af4e-509a4c0f1ffc\"}, {\"line\": {\"dash\": \"dashdot\"}, \"name\": \"\\u5ef6\\u671f\\u4e2a\\u6027\\u5316\\u9879\\u76ee\\u6570(\\u5218\\u6c5f)\", \"x\": [\"9-2\", \"9-3\", \"9-4\"], \"y\": [0.0, 0.0, 0.0], \"type\": \"scatter\", \"uid\": \"4f80c01f-cb6f-11e8-abc4-509a4c0f1ffc\"}, {\"line\": {\"dash\": \"longdashdot\"}, \"name\": \"\\u5ef6\\u671f\\u4e2a\\u6027\\u5316\\u9879\\u76ee\\u6570(\\u8c22\\u5fb7\\u5065)\", \"x\": [\"9-2\", \"9-3\", \"9-4\"], \"y\": [null, 0.0, null], \"type\": \"scatter\", \"uid\": \"4f80c020-cb6f-11e8-90b6-509a4c0f1ffc\"}, {\"line\": {\"dash\": \"solid\"}, \"name\": \"\\u5ef6\\u671f\\u4e2a\\u6027\\u5316\\u9879\\u76ee\\u6570(\\u6768\\u4f1f\\u98de)\", \"x\": [\"9-2\", \"9-3\", \"9-4\"], \"y\": [0.0, 0.0, null], \"type\": \"scatter\", \"uid\": \"4f80c021-cb6f-11e8-bb0e-509a4c0f1ffc\"}, {\"line\": {\"dash\": \"dot\"}, \"name\": \"\\u5ef6\\u671f\\u4e2a\\u6027\\u5316\\u9879\\u76ee\\u6570(\\u82cf\\u5f66\\u52cb)\", \"x\": [\"9-2\", \"9-3\", \"9-4\"], \"y\": [null, 0.0, null], \"type\": \"scatter\", \"uid\": \"4f80c022-cb6f-11e8-b92a-509a4c0f1ffc\"}, {\"line\": {\"dash\": \"dash\"}, \"name\": \"\\u5ef6\\u671f\\u4e2a\\u6027\\u5316\\u9879\\u76ee\\u6570(\\u8def\\u6167\\u840d)\", \"x\": [\"9-2\", \"9-3\", \"9-4\"], \"y\": [0.0, null, null], \"type\": \"scatter\", \"uid\": \"4f80c023-cb6f-11e8-af82-509a4c0f1ffc\"}, {\"line\": {\"dash\": \"longdash\"}, \"name\": \"\\u5ef6\\u671f\\u4e2a\\u6027\\u5316\\u9879\\u76ee\\u6570(\\u674e\\u534e\\u4e91)\", \"x\": [\"9-2\", \"9-3\", \"9-4\"], \"y\": [null, 0.0, null], \"type\": \"scatter\", \"uid\": \"4f80c024-cb6f-11e8-a0c6-509a4c0f1ffc\"}, {\"line\": {\"dash\": \"dashdot\"}, \"name\": \"\\u5ef6\\u671f\\u4e2a\\u6027\\u5316\\u9879\\u76ee\\u6570(\\u4e8e\\u52c7\\u4e00)\", \"x\": [\"9-2\", \"9-3\", \"9-4\"], \"y\": [0.0, 0.0, 0.0], \"type\": \"scatter\", \"uid\": \"4f80c025-cb6f-11e8-96ca-509a4c0f1ffc\"}],\n",
       "            {\"title\": \"\\u5ef6\\u671f\\u5546\\u4e1a\\u9879\\u76ee\\u6570&\\u5ef6\\u671f\\u4e2a\\u6027\\u5316\\u9879\\u76ee\\u6570\\u5468\\u8d8b\\u52bf\\u56fe\", \"xaxis\": {\"mirror\": \"all\", \"nticks\": 20, \"showgrid\": true, \"showline\": true, \"title\": \"\\u5468\", \"zeroline\": true}, \"yaxis\": {\"mirror\": \"all\", \"nticks\": 20, \"showgrid\": true, \"showline\": true, \"title\": \"\\u5ef6\\u671f\\u5546\\u4e1a\\u9879\\u76ee\\u6570&\\u5ef6\\u671f\\u4e2a\\u6027\\u5316\\u9879\\u76ee\\u6570\", \"zeroline\": true}},\n",
       "            {\"showLink\": true, \"linkText\": \"Export to plot.ly\"}\n",
       "        ).then(function () {return Plotly.addFrames('13af4307-f32d-4dc4-8557-140f2c72fbec',{});}).then(function(){Plotly.animate('13af4307-f32d-4dc4-8557-140f2c72fbec');})\n",
       "        });</script>"
      ]
     },
     "metadata": {},
     "output_type": "display_data"
    }
   ],
   "source": [
    "ss=myModule.format(all_dict_2 ,\"日期\" ,['延期商业项目数','延期个性化项目数'])\n",
    "ss.add_group('负责人')\n",
    "tt = myModule.myPlot(ss.groupby('sum'))\n",
    "tt.plot('line')\n"
   ]
  },
  {
   "cell_type": "markdown",
   "metadata": {},
   "source": [
    "### 个人反馈延期数"
   ]
  },
  {
   "cell_type": "code",
   "execution_count": 188,
   "metadata": {
    "collapsed": false
   },
   "outputs": [
    {
     "data": {
      "application/vnd.plotly.v1+json": {
       "data": [
        {
         "line": {
          "dash": "solid"
         },
         "name": "24h内未完成数据反馈项目数(于慧)",
         "type": "scatter",
         "uid": "4fc93ac0-cb6f-11e8-ba86-509a4c0f1ffc",
         "x": [
          "9-2",
          "9-3",
          "9-4"
         ],
         "y": [
          0,
          0,
          null
         ]
        },
        {
         "line": {
          "dash": "dot"
         },
         "name": "24h内未完成数据反馈项目数(赵玥)",
         "type": "scatter",
         "uid": "4fc93ac1-cb6f-11e8-8644-509a4c0f1ffc",
         "x": [
          "9-2",
          "9-3",
          "9-4"
         ],
         "y": [
          1,
          null,
          null
         ]
        },
        {
         "line": {
          "dash": "dash"
         },
         "name": "24h内未完成数据反馈项目数(马潇)",
         "type": "scatter",
         "uid": "4fc93ac2-cb6f-11e8-94cf-509a4c0f1ffc",
         "x": [
          "9-2",
          "9-3",
          "9-4"
         ],
         "y": [
          0,
          null,
          null
         ]
        },
        {
         "line": {
          "dash": "longdash"
         },
         "name": "24h内未完成数据反馈项目数(占伟)",
         "type": "scatter",
         "uid": "4fc93ac3-cb6f-11e8-94a9-509a4c0f1ffc",
         "x": [
          "9-2",
          "9-3",
          "9-4"
         ],
         "y": [
          0,
          null,
          null
         ]
        },
        {
         "line": {
          "dash": "dashdot"
         },
         "name": "24h内未完成数据反馈项目数(刘江)",
         "type": "scatter",
         "uid": "4fc93ac4-cb6f-11e8-9335-509a4c0f1ffc",
         "x": [
          "9-2",
          "9-3",
          "9-4"
         ],
         "y": [
          0,
          0,
          1
         ]
        },
        {
         "line": {
          "dash": "longdashdot"
         },
         "name": "24h内未完成数据反馈项目数(谢德健)",
         "type": "scatter",
         "uid": "4fc93ac5-cb6f-11e8-ab9f-509a4c0f1ffc",
         "x": [
          "9-2",
          "9-3",
          "9-4"
         ],
         "y": [
          null,
          0,
          null
         ]
        },
        {
         "line": {
          "dash": "solid"
         },
         "name": "24h内未完成数据反馈项目数(杨伟飞)",
         "type": "scatter",
         "uid": "4fc93ac6-cb6f-11e8-b56f-509a4c0f1ffc",
         "x": [
          "9-2",
          "9-3",
          "9-4"
         ],
         "y": [
          0,
          0,
          null
         ]
        },
        {
         "line": {
          "dash": "dot"
         },
         "name": "24h内未完成数据反馈项目数(苏彦勋)",
         "type": "scatter",
         "uid": "4fc93ac7-cb6f-11e8-a476-509a4c0f1ffc",
         "x": [
          "9-2",
          "9-3",
          "9-4"
         ],
         "y": [
          null,
          0,
          null
         ]
        },
        {
         "line": {
          "dash": "dash"
         },
         "name": "24h内未完成数据反馈项目数(路慧萍)",
         "type": "scatter",
         "uid": "4fc93ac8-cb6f-11e8-abc8-509a4c0f1ffc",
         "x": [
          "9-2",
          "9-3",
          "9-4"
         ],
         "y": [
          0,
          null,
          null
         ]
        },
        {
         "line": {
          "dash": "longdash"
         },
         "name": "24h内未完成数据反馈项目数(李华云)",
         "type": "scatter",
         "uid": "4fc93ac9-cb6f-11e8-9f4b-509a4c0f1ffc",
         "x": [
          "9-2",
          "9-3",
          "9-4"
         ],
         "y": [
          null,
          0,
          null
         ]
        },
        {
         "line": {
          "dash": "dashdot"
         },
         "name": "24h内未完成数据反馈项目数(于勇一)",
         "type": "scatter",
         "uid": "4fc93aca-cb6f-11e8-93a6-509a4c0f1ffc",
         "x": [
          "9-2",
          "9-3",
          "9-4"
         ],
         "y": [
          0,
          0,
          0
         ]
        },
        {
         "line": {
          "dash": "solid"
         },
         "name": "反馈延期个性化数(于慧)",
         "type": "scatter",
         "uid": "4fc93acb-cb6f-11e8-9c3f-509a4c0f1ffc",
         "x": [
          "9-2",
          "9-3",
          "9-4"
         ],
         "y": [
          0,
          0,
          null
         ]
        },
        {
         "line": {
          "dash": "dot"
         },
         "name": "反馈延期个性化数(赵玥)",
         "type": "scatter",
         "uid": "4fc93acc-cb6f-11e8-b113-509a4c0f1ffc",
         "x": [
          "9-2",
          "9-3",
          "9-4"
         ],
         "y": [
          1,
          null,
          null
         ]
        },
        {
         "line": {
          "dash": "dash"
         },
         "name": "反馈延期个性化数(马潇)",
         "type": "scatter",
         "uid": "4fc93acd-cb6f-11e8-88ea-509a4c0f1ffc",
         "x": [
          "9-2",
          "9-3",
          "9-4"
         ],
         "y": [
          0,
          null,
          null
         ]
        },
        {
         "line": {
          "dash": "longdash"
         },
         "name": "反馈延期个性化数(占伟)",
         "type": "scatter",
         "uid": "4fc93ace-cb6f-11e8-a80d-509a4c0f1ffc",
         "x": [
          "9-2",
          "9-3",
          "9-4"
         ],
         "y": [
          0,
          null,
          null
         ]
        },
        {
         "line": {
          "dash": "dashdot"
         },
         "name": "反馈延期个性化数(刘江)",
         "type": "scatter",
         "uid": "4fc93acf-cb6f-11e8-89c4-509a4c0f1ffc",
         "x": [
          "9-2",
          "9-3",
          "9-4"
         ],
         "y": [
          0,
          0,
          0
         ]
        },
        {
         "line": {
          "dash": "longdashdot"
         },
         "name": "反馈延期个性化数(谢德健)",
         "type": "scatter",
         "uid": "4fc93ad0-cb6f-11e8-aa69-509a4c0f1ffc",
         "x": [
          "9-2",
          "9-3",
          "9-4"
         ],
         "y": [
          null,
          0,
          null
         ]
        },
        {
         "line": {
          "dash": "solid"
         },
         "name": "反馈延期个性化数(杨伟飞)",
         "type": "scatter",
         "uid": "4fc93ad1-cb6f-11e8-b0f7-509a4c0f1ffc",
         "x": [
          "9-2",
          "9-3",
          "9-4"
         ],
         "y": [
          0,
          0,
          null
         ]
        },
        {
         "line": {
          "dash": "dot"
         },
         "name": "反馈延期个性化数(苏彦勋)",
         "type": "scatter",
         "uid": "4fc93ad2-cb6f-11e8-a64a-509a4c0f1ffc",
         "x": [
          "9-2",
          "9-3",
          "9-4"
         ],
         "y": [
          null,
          0,
          null
         ]
        },
        {
         "line": {
          "dash": "dash"
         },
         "name": "反馈延期个性化数(路慧萍)",
         "type": "scatter",
         "uid": "4fc93ad3-cb6f-11e8-8d41-509a4c0f1ffc",
         "x": [
          "9-2",
          "9-3",
          "9-4"
         ],
         "y": [
          0,
          null,
          null
         ]
        },
        {
         "line": {
          "dash": "longdash"
         },
         "name": "反馈延期个性化数(李华云)",
         "type": "scatter",
         "uid": "4fc93ad4-cb6f-11e8-9516-509a4c0f1ffc",
         "x": [
          "9-2",
          "9-3",
          "9-4"
         ],
         "y": [
          null,
          0,
          null
         ]
        },
        {
         "line": {
          "dash": "dashdot"
         },
         "name": "反馈延期个性化数(于勇一)",
         "type": "scatter",
         "uid": "4fc93ad5-cb6f-11e8-babb-509a4c0f1ffc",
         "x": [
          "9-2",
          "9-3",
          "9-4"
         ],
         "y": [
          0,
          0,
          0
         ]
        }
       ],
       "layout": {
        "title": "24h内未完成数据反馈项目数&反馈延期个性化数周趋势图",
        "xaxis": {
         "mirror": "all",
         "nticks": 20,
         "showgrid": true,
         "showline": true,
         "title": "周",
         "zeroline": true
        },
        "yaxis": {
         "mirror": "all",
         "nticks": 20,
         "showgrid": true,
         "showline": true,
         "title": "24h内未完成数据反馈项目数&反馈延期个性化数",
         "zeroline": true
        }
       }
      },
      "text/html": [
       "<div id=\"33b9653c-a48f-461e-bb37-c6ca9af1a796\" style=\"height: 525px; width: 100%;\" class=\"plotly-graph-div\"></div><script type=\"text/javascript\">require([\"plotly\"], function(Plotly) { window.PLOTLYENV=window.PLOTLYENV || {};window.PLOTLYENV.BASE_URL=\"https://plot.ly\";\n",
       "        Plotly.plot(\n",
       "            '33b9653c-a48f-461e-bb37-c6ca9af1a796',\n",
       "            [{\"line\": {\"dash\": \"solid\"}, \"name\": \"24h\\u5185\\u672a\\u5b8c\\u6210\\u6570\\u636e\\u53cd\\u9988\\u9879\\u76ee\\u6570(\\u4e8e\\u6167)\", \"x\": [\"9-2\", \"9-3\", \"9-4\"], \"y\": [0.0, 0.0, null], \"type\": \"scatter\", \"uid\": \"4fc93ac0-cb6f-11e8-ba86-509a4c0f1ffc\"}, {\"line\": {\"dash\": \"dot\"}, \"name\": \"24h\\u5185\\u672a\\u5b8c\\u6210\\u6570\\u636e\\u53cd\\u9988\\u9879\\u76ee\\u6570(\\u8d75\\u73a5)\", \"x\": [\"9-2\", \"9-3\", \"9-4\"], \"y\": [1.0, null, null], \"type\": \"scatter\", \"uid\": \"4fc93ac1-cb6f-11e8-8644-509a4c0f1ffc\"}, {\"line\": {\"dash\": \"dash\"}, \"name\": \"24h\\u5185\\u672a\\u5b8c\\u6210\\u6570\\u636e\\u53cd\\u9988\\u9879\\u76ee\\u6570(\\u9a6c\\u6f47)\", \"x\": [\"9-2\", \"9-3\", \"9-4\"], \"y\": [0.0, null, null], \"type\": \"scatter\", \"uid\": \"4fc93ac2-cb6f-11e8-94cf-509a4c0f1ffc\"}, {\"line\": {\"dash\": \"longdash\"}, \"name\": \"24h\\u5185\\u672a\\u5b8c\\u6210\\u6570\\u636e\\u53cd\\u9988\\u9879\\u76ee\\u6570(\\u5360\\u4f1f)\", \"x\": [\"9-2\", \"9-3\", \"9-4\"], \"y\": [0.0, null, null], \"type\": \"scatter\", \"uid\": \"4fc93ac3-cb6f-11e8-94a9-509a4c0f1ffc\"}, {\"line\": {\"dash\": \"dashdot\"}, \"name\": \"24h\\u5185\\u672a\\u5b8c\\u6210\\u6570\\u636e\\u53cd\\u9988\\u9879\\u76ee\\u6570(\\u5218\\u6c5f)\", \"x\": [\"9-2\", \"9-3\", \"9-4\"], \"y\": [0.0, 0.0, 1.0], \"type\": \"scatter\", \"uid\": \"4fc93ac4-cb6f-11e8-9335-509a4c0f1ffc\"}, {\"line\": {\"dash\": \"longdashdot\"}, \"name\": \"24h\\u5185\\u672a\\u5b8c\\u6210\\u6570\\u636e\\u53cd\\u9988\\u9879\\u76ee\\u6570(\\u8c22\\u5fb7\\u5065)\", \"x\": [\"9-2\", \"9-3\", \"9-4\"], \"y\": [null, 0.0, null], \"type\": \"scatter\", \"uid\": \"4fc93ac5-cb6f-11e8-ab9f-509a4c0f1ffc\"}, {\"line\": {\"dash\": \"solid\"}, \"name\": \"24h\\u5185\\u672a\\u5b8c\\u6210\\u6570\\u636e\\u53cd\\u9988\\u9879\\u76ee\\u6570(\\u6768\\u4f1f\\u98de)\", \"x\": [\"9-2\", \"9-3\", \"9-4\"], \"y\": [0.0, 0.0, null], \"type\": \"scatter\", \"uid\": \"4fc93ac6-cb6f-11e8-b56f-509a4c0f1ffc\"}, {\"line\": {\"dash\": \"dot\"}, \"name\": \"24h\\u5185\\u672a\\u5b8c\\u6210\\u6570\\u636e\\u53cd\\u9988\\u9879\\u76ee\\u6570(\\u82cf\\u5f66\\u52cb)\", \"x\": [\"9-2\", \"9-3\", \"9-4\"], \"y\": [null, 0.0, null], \"type\": \"scatter\", \"uid\": \"4fc93ac7-cb6f-11e8-a476-509a4c0f1ffc\"}, {\"line\": {\"dash\": \"dash\"}, \"name\": \"24h\\u5185\\u672a\\u5b8c\\u6210\\u6570\\u636e\\u53cd\\u9988\\u9879\\u76ee\\u6570(\\u8def\\u6167\\u840d)\", \"x\": [\"9-2\", \"9-3\", \"9-4\"], \"y\": [0.0, null, null], \"type\": \"scatter\", \"uid\": \"4fc93ac8-cb6f-11e8-abc8-509a4c0f1ffc\"}, {\"line\": {\"dash\": \"longdash\"}, \"name\": \"24h\\u5185\\u672a\\u5b8c\\u6210\\u6570\\u636e\\u53cd\\u9988\\u9879\\u76ee\\u6570(\\u674e\\u534e\\u4e91)\", \"x\": [\"9-2\", \"9-3\", \"9-4\"], \"y\": [null, 0.0, null], \"type\": \"scatter\", \"uid\": \"4fc93ac9-cb6f-11e8-9f4b-509a4c0f1ffc\"}, {\"line\": {\"dash\": \"dashdot\"}, \"name\": \"24h\\u5185\\u672a\\u5b8c\\u6210\\u6570\\u636e\\u53cd\\u9988\\u9879\\u76ee\\u6570(\\u4e8e\\u52c7\\u4e00)\", \"x\": [\"9-2\", \"9-3\", \"9-4\"], \"y\": [0.0, 0.0, 0.0], \"type\": \"scatter\", \"uid\": \"4fc93aca-cb6f-11e8-93a6-509a4c0f1ffc\"}, {\"line\": {\"dash\": \"solid\"}, \"name\": \"\\u53cd\\u9988\\u5ef6\\u671f\\u4e2a\\u6027\\u5316\\u6570(\\u4e8e\\u6167)\", \"x\": [\"9-2\", \"9-3\", \"9-4\"], \"y\": [0.0, 0.0, null], \"type\": \"scatter\", \"uid\": \"4fc93acb-cb6f-11e8-9c3f-509a4c0f1ffc\"}, {\"line\": {\"dash\": \"dot\"}, \"name\": \"\\u53cd\\u9988\\u5ef6\\u671f\\u4e2a\\u6027\\u5316\\u6570(\\u8d75\\u73a5)\", \"x\": [\"9-2\", \"9-3\", \"9-4\"], \"y\": [1.0, null, null], \"type\": \"scatter\", \"uid\": \"4fc93acc-cb6f-11e8-b113-509a4c0f1ffc\"}, {\"line\": {\"dash\": \"dash\"}, \"name\": \"\\u53cd\\u9988\\u5ef6\\u671f\\u4e2a\\u6027\\u5316\\u6570(\\u9a6c\\u6f47)\", \"x\": [\"9-2\", \"9-3\", \"9-4\"], \"y\": [0.0, null, null], \"type\": \"scatter\", \"uid\": \"4fc93acd-cb6f-11e8-88ea-509a4c0f1ffc\"}, {\"line\": {\"dash\": \"longdash\"}, \"name\": \"\\u53cd\\u9988\\u5ef6\\u671f\\u4e2a\\u6027\\u5316\\u6570(\\u5360\\u4f1f)\", \"x\": [\"9-2\", \"9-3\", \"9-4\"], \"y\": [0.0, null, null], \"type\": \"scatter\", \"uid\": \"4fc93ace-cb6f-11e8-a80d-509a4c0f1ffc\"}, {\"line\": {\"dash\": \"dashdot\"}, \"name\": \"\\u53cd\\u9988\\u5ef6\\u671f\\u4e2a\\u6027\\u5316\\u6570(\\u5218\\u6c5f)\", \"x\": [\"9-2\", \"9-3\", \"9-4\"], \"y\": [0.0, 0.0, 0.0], \"type\": \"scatter\", \"uid\": \"4fc93acf-cb6f-11e8-89c4-509a4c0f1ffc\"}, {\"line\": {\"dash\": \"longdashdot\"}, \"name\": \"\\u53cd\\u9988\\u5ef6\\u671f\\u4e2a\\u6027\\u5316\\u6570(\\u8c22\\u5fb7\\u5065)\", \"x\": [\"9-2\", \"9-3\", \"9-4\"], \"y\": [null, 0.0, null], \"type\": \"scatter\", \"uid\": \"4fc93ad0-cb6f-11e8-aa69-509a4c0f1ffc\"}, {\"line\": {\"dash\": \"solid\"}, \"name\": \"\\u53cd\\u9988\\u5ef6\\u671f\\u4e2a\\u6027\\u5316\\u6570(\\u6768\\u4f1f\\u98de)\", \"x\": [\"9-2\", \"9-3\", \"9-4\"], \"y\": [0.0, 0.0, null], \"type\": \"scatter\", \"uid\": \"4fc93ad1-cb6f-11e8-b0f7-509a4c0f1ffc\"}, {\"line\": {\"dash\": \"dot\"}, \"name\": \"\\u53cd\\u9988\\u5ef6\\u671f\\u4e2a\\u6027\\u5316\\u6570(\\u82cf\\u5f66\\u52cb)\", \"x\": [\"9-2\", \"9-3\", \"9-4\"], \"y\": [null, 0.0, null], \"type\": \"scatter\", \"uid\": \"4fc93ad2-cb6f-11e8-a64a-509a4c0f1ffc\"}, {\"line\": {\"dash\": \"dash\"}, \"name\": \"\\u53cd\\u9988\\u5ef6\\u671f\\u4e2a\\u6027\\u5316\\u6570(\\u8def\\u6167\\u840d)\", \"x\": [\"9-2\", \"9-3\", \"9-4\"], \"y\": [0.0, null, null], \"type\": \"scatter\", \"uid\": \"4fc93ad3-cb6f-11e8-8d41-509a4c0f1ffc\"}, {\"line\": {\"dash\": \"longdash\"}, \"name\": \"\\u53cd\\u9988\\u5ef6\\u671f\\u4e2a\\u6027\\u5316\\u6570(\\u674e\\u534e\\u4e91)\", \"x\": [\"9-2\", \"9-3\", \"9-4\"], \"y\": [null, 0.0, null], \"type\": \"scatter\", \"uid\": \"4fc93ad4-cb6f-11e8-9516-509a4c0f1ffc\"}, {\"line\": {\"dash\": \"dashdot\"}, \"name\": \"\\u53cd\\u9988\\u5ef6\\u671f\\u4e2a\\u6027\\u5316\\u6570(\\u4e8e\\u52c7\\u4e00)\", \"x\": [\"9-2\", \"9-3\", \"9-4\"], \"y\": [0.0, 0.0, 0.0], \"type\": \"scatter\", \"uid\": \"4fc93ad5-cb6f-11e8-babb-509a4c0f1ffc\"}],\n",
       "            {\"title\": \"24h\\u5185\\u672a\\u5b8c\\u6210\\u6570\\u636e\\u53cd\\u9988\\u9879\\u76ee\\u6570&\\u53cd\\u9988\\u5ef6\\u671f\\u4e2a\\u6027\\u5316\\u6570\\u5468\\u8d8b\\u52bf\\u56fe\", \"xaxis\": {\"mirror\": \"all\", \"nticks\": 20, \"showgrid\": true, \"showline\": true, \"title\": \"\\u5468\", \"zeroline\": true}, \"yaxis\": {\"mirror\": \"all\", \"nticks\": 20, \"showgrid\": true, \"showline\": true, \"title\": \"24h\\u5185\\u672a\\u5b8c\\u6210\\u6570\\u636e\\u53cd\\u9988\\u9879\\u76ee\\u6570&\\u53cd\\u9988\\u5ef6\\u671f\\u4e2a\\u6027\\u5316\\u6570\", \"zeroline\": true}},\n",
       "            {\"showLink\": true, \"linkText\": \"Export to plot.ly\"}\n",
       "        ).then(function () {return Plotly.addFrames('33b9653c-a48f-461e-bb37-c6ca9af1a796',{});}).then(function(){Plotly.animate('33b9653c-a48f-461e-bb37-c6ca9af1a796');})\n",
       "        });</script>"
      ],
      "text/vnd.plotly.v1+html": [
       "<div id=\"33b9653c-a48f-461e-bb37-c6ca9af1a796\" style=\"height: 525px; width: 100%;\" class=\"plotly-graph-div\"></div><script type=\"text/javascript\">require([\"plotly\"], function(Plotly) { window.PLOTLYENV=window.PLOTLYENV || {};window.PLOTLYENV.BASE_URL=\"https://plot.ly\";\n",
       "        Plotly.plot(\n",
       "            '33b9653c-a48f-461e-bb37-c6ca9af1a796',\n",
       "            [{\"line\": {\"dash\": \"solid\"}, \"name\": \"24h\\u5185\\u672a\\u5b8c\\u6210\\u6570\\u636e\\u53cd\\u9988\\u9879\\u76ee\\u6570(\\u4e8e\\u6167)\", \"x\": [\"9-2\", \"9-3\", \"9-4\"], \"y\": [0.0, 0.0, null], \"type\": \"scatter\", \"uid\": \"4fc93ac0-cb6f-11e8-ba86-509a4c0f1ffc\"}, {\"line\": {\"dash\": \"dot\"}, \"name\": \"24h\\u5185\\u672a\\u5b8c\\u6210\\u6570\\u636e\\u53cd\\u9988\\u9879\\u76ee\\u6570(\\u8d75\\u73a5)\", \"x\": [\"9-2\", \"9-3\", \"9-4\"], \"y\": [1.0, null, null], \"type\": \"scatter\", \"uid\": \"4fc93ac1-cb6f-11e8-8644-509a4c0f1ffc\"}, {\"line\": {\"dash\": \"dash\"}, \"name\": \"24h\\u5185\\u672a\\u5b8c\\u6210\\u6570\\u636e\\u53cd\\u9988\\u9879\\u76ee\\u6570(\\u9a6c\\u6f47)\", \"x\": [\"9-2\", \"9-3\", \"9-4\"], \"y\": [0.0, null, null], \"type\": \"scatter\", \"uid\": \"4fc93ac2-cb6f-11e8-94cf-509a4c0f1ffc\"}, {\"line\": {\"dash\": \"longdash\"}, \"name\": \"24h\\u5185\\u672a\\u5b8c\\u6210\\u6570\\u636e\\u53cd\\u9988\\u9879\\u76ee\\u6570(\\u5360\\u4f1f)\", \"x\": [\"9-2\", \"9-3\", \"9-4\"], \"y\": [0.0, null, null], \"type\": \"scatter\", \"uid\": \"4fc93ac3-cb6f-11e8-94a9-509a4c0f1ffc\"}, {\"line\": {\"dash\": \"dashdot\"}, \"name\": \"24h\\u5185\\u672a\\u5b8c\\u6210\\u6570\\u636e\\u53cd\\u9988\\u9879\\u76ee\\u6570(\\u5218\\u6c5f)\", \"x\": [\"9-2\", \"9-3\", \"9-4\"], \"y\": [0.0, 0.0, 1.0], \"type\": \"scatter\", \"uid\": \"4fc93ac4-cb6f-11e8-9335-509a4c0f1ffc\"}, {\"line\": {\"dash\": \"longdashdot\"}, \"name\": \"24h\\u5185\\u672a\\u5b8c\\u6210\\u6570\\u636e\\u53cd\\u9988\\u9879\\u76ee\\u6570(\\u8c22\\u5fb7\\u5065)\", \"x\": [\"9-2\", \"9-3\", \"9-4\"], \"y\": [null, 0.0, null], \"type\": \"scatter\", \"uid\": \"4fc93ac5-cb6f-11e8-ab9f-509a4c0f1ffc\"}, {\"line\": {\"dash\": \"solid\"}, \"name\": \"24h\\u5185\\u672a\\u5b8c\\u6210\\u6570\\u636e\\u53cd\\u9988\\u9879\\u76ee\\u6570(\\u6768\\u4f1f\\u98de)\", \"x\": [\"9-2\", \"9-3\", \"9-4\"], \"y\": [0.0, 0.0, null], \"type\": \"scatter\", \"uid\": \"4fc93ac6-cb6f-11e8-b56f-509a4c0f1ffc\"}, {\"line\": {\"dash\": \"dot\"}, \"name\": \"24h\\u5185\\u672a\\u5b8c\\u6210\\u6570\\u636e\\u53cd\\u9988\\u9879\\u76ee\\u6570(\\u82cf\\u5f66\\u52cb)\", \"x\": [\"9-2\", \"9-3\", \"9-4\"], \"y\": [null, 0.0, null], \"type\": \"scatter\", \"uid\": \"4fc93ac7-cb6f-11e8-a476-509a4c0f1ffc\"}, {\"line\": {\"dash\": \"dash\"}, \"name\": \"24h\\u5185\\u672a\\u5b8c\\u6210\\u6570\\u636e\\u53cd\\u9988\\u9879\\u76ee\\u6570(\\u8def\\u6167\\u840d)\", \"x\": [\"9-2\", \"9-3\", \"9-4\"], \"y\": [0.0, null, null], \"type\": \"scatter\", \"uid\": \"4fc93ac8-cb6f-11e8-abc8-509a4c0f1ffc\"}, {\"line\": {\"dash\": \"longdash\"}, \"name\": \"24h\\u5185\\u672a\\u5b8c\\u6210\\u6570\\u636e\\u53cd\\u9988\\u9879\\u76ee\\u6570(\\u674e\\u534e\\u4e91)\", \"x\": [\"9-2\", \"9-3\", \"9-4\"], \"y\": [null, 0.0, null], \"type\": \"scatter\", \"uid\": \"4fc93ac9-cb6f-11e8-9f4b-509a4c0f1ffc\"}, {\"line\": {\"dash\": \"dashdot\"}, \"name\": \"24h\\u5185\\u672a\\u5b8c\\u6210\\u6570\\u636e\\u53cd\\u9988\\u9879\\u76ee\\u6570(\\u4e8e\\u52c7\\u4e00)\", \"x\": [\"9-2\", \"9-3\", \"9-4\"], \"y\": [0.0, 0.0, 0.0], \"type\": \"scatter\", \"uid\": \"4fc93aca-cb6f-11e8-93a6-509a4c0f1ffc\"}, {\"line\": {\"dash\": \"solid\"}, \"name\": \"\\u53cd\\u9988\\u5ef6\\u671f\\u4e2a\\u6027\\u5316\\u6570(\\u4e8e\\u6167)\", \"x\": [\"9-2\", \"9-3\", \"9-4\"], \"y\": [0.0, 0.0, null], \"type\": \"scatter\", \"uid\": \"4fc93acb-cb6f-11e8-9c3f-509a4c0f1ffc\"}, {\"line\": {\"dash\": \"dot\"}, \"name\": \"\\u53cd\\u9988\\u5ef6\\u671f\\u4e2a\\u6027\\u5316\\u6570(\\u8d75\\u73a5)\", \"x\": [\"9-2\", \"9-3\", \"9-4\"], \"y\": [1.0, null, null], \"type\": \"scatter\", \"uid\": \"4fc93acc-cb6f-11e8-b113-509a4c0f1ffc\"}, {\"line\": {\"dash\": \"dash\"}, \"name\": \"\\u53cd\\u9988\\u5ef6\\u671f\\u4e2a\\u6027\\u5316\\u6570(\\u9a6c\\u6f47)\", \"x\": [\"9-2\", \"9-3\", \"9-4\"], \"y\": [0.0, null, null], \"type\": \"scatter\", \"uid\": \"4fc93acd-cb6f-11e8-88ea-509a4c0f1ffc\"}, {\"line\": {\"dash\": \"longdash\"}, \"name\": \"\\u53cd\\u9988\\u5ef6\\u671f\\u4e2a\\u6027\\u5316\\u6570(\\u5360\\u4f1f)\", \"x\": [\"9-2\", \"9-3\", \"9-4\"], \"y\": [0.0, null, null], \"type\": \"scatter\", \"uid\": \"4fc93ace-cb6f-11e8-a80d-509a4c0f1ffc\"}, {\"line\": {\"dash\": \"dashdot\"}, \"name\": \"\\u53cd\\u9988\\u5ef6\\u671f\\u4e2a\\u6027\\u5316\\u6570(\\u5218\\u6c5f)\", \"x\": [\"9-2\", \"9-3\", \"9-4\"], \"y\": [0.0, 0.0, 0.0], \"type\": \"scatter\", \"uid\": \"4fc93acf-cb6f-11e8-89c4-509a4c0f1ffc\"}, {\"line\": {\"dash\": \"longdashdot\"}, \"name\": \"\\u53cd\\u9988\\u5ef6\\u671f\\u4e2a\\u6027\\u5316\\u6570(\\u8c22\\u5fb7\\u5065)\", \"x\": [\"9-2\", \"9-3\", \"9-4\"], \"y\": [null, 0.0, null], \"type\": \"scatter\", \"uid\": \"4fc93ad0-cb6f-11e8-aa69-509a4c0f1ffc\"}, {\"line\": {\"dash\": \"solid\"}, \"name\": \"\\u53cd\\u9988\\u5ef6\\u671f\\u4e2a\\u6027\\u5316\\u6570(\\u6768\\u4f1f\\u98de)\", \"x\": [\"9-2\", \"9-3\", \"9-4\"], \"y\": [0.0, 0.0, null], \"type\": \"scatter\", \"uid\": \"4fc93ad1-cb6f-11e8-b0f7-509a4c0f1ffc\"}, {\"line\": {\"dash\": \"dot\"}, \"name\": \"\\u53cd\\u9988\\u5ef6\\u671f\\u4e2a\\u6027\\u5316\\u6570(\\u82cf\\u5f66\\u52cb)\", \"x\": [\"9-2\", \"9-3\", \"9-4\"], \"y\": [null, 0.0, null], \"type\": \"scatter\", \"uid\": \"4fc93ad2-cb6f-11e8-a64a-509a4c0f1ffc\"}, {\"line\": {\"dash\": \"dash\"}, \"name\": \"\\u53cd\\u9988\\u5ef6\\u671f\\u4e2a\\u6027\\u5316\\u6570(\\u8def\\u6167\\u840d)\", \"x\": [\"9-2\", \"9-3\", \"9-4\"], \"y\": [0.0, null, null], \"type\": \"scatter\", \"uid\": \"4fc93ad3-cb6f-11e8-8d41-509a4c0f1ffc\"}, {\"line\": {\"dash\": \"longdash\"}, \"name\": \"\\u53cd\\u9988\\u5ef6\\u671f\\u4e2a\\u6027\\u5316\\u6570(\\u674e\\u534e\\u4e91)\", \"x\": [\"9-2\", \"9-3\", \"9-4\"], \"y\": [null, 0.0, null], \"type\": \"scatter\", \"uid\": \"4fc93ad4-cb6f-11e8-9516-509a4c0f1ffc\"}, {\"line\": {\"dash\": \"dashdot\"}, \"name\": \"\\u53cd\\u9988\\u5ef6\\u671f\\u4e2a\\u6027\\u5316\\u6570(\\u4e8e\\u52c7\\u4e00)\", \"x\": [\"9-2\", \"9-3\", \"9-4\"], \"y\": [0.0, 0.0, 0.0], \"type\": \"scatter\", \"uid\": \"4fc93ad5-cb6f-11e8-babb-509a4c0f1ffc\"}],\n",
       "            {\"title\": \"24h\\u5185\\u672a\\u5b8c\\u6210\\u6570\\u636e\\u53cd\\u9988\\u9879\\u76ee\\u6570&\\u53cd\\u9988\\u5ef6\\u671f\\u4e2a\\u6027\\u5316\\u6570\\u5468\\u8d8b\\u52bf\\u56fe\", \"xaxis\": {\"mirror\": \"all\", \"nticks\": 20, \"showgrid\": true, \"showline\": true, \"title\": \"\\u5468\", \"zeroline\": true}, \"yaxis\": {\"mirror\": \"all\", \"nticks\": 20, \"showgrid\": true, \"showline\": true, \"title\": \"24h\\u5185\\u672a\\u5b8c\\u6210\\u6570\\u636e\\u53cd\\u9988\\u9879\\u76ee\\u6570&\\u53cd\\u9988\\u5ef6\\u671f\\u4e2a\\u6027\\u5316\\u6570\", \"zeroline\": true}},\n",
       "            {\"showLink\": true, \"linkText\": \"Export to plot.ly\"}\n",
       "        ).then(function () {return Plotly.addFrames('33b9653c-a48f-461e-bb37-c6ca9af1a796',{});}).then(function(){Plotly.animate('33b9653c-a48f-461e-bb37-c6ca9af1a796');})\n",
       "        });</script>"
      ]
     },
     "metadata": {},
     "output_type": "display_data"
    }
   ],
   "source": [
    "ss=myModule.format(all_dict_2 ,\"日期\" ,['24h内未完成数据反馈项目数','反馈延期个性化数'])\n",
    "ss.add_group('负责人')\n",
    "tt = myModule.myPlot(ss.groupby('sum'))\n",
    "tt.plot('line')"
   ]
  },
  {
   "cell_type": "code",
   "execution_count": null,
   "metadata": {
    "collapsed": true
   },
   "outputs": [],
   "source": []
  }
 ],
 "metadata": {
  "celltoolbar": "Raw Cell Format",
  "hide_input": false,
  "kernelspec": {
   "display_name": "Python 3",
   "language": "python",
   "name": "python3"
  },
  "language_info": {
   "codemirror_mode": {
    "name": "ipython",
    "version": 3
   },
   "file_extension": ".py",
   "mimetype": "text/x-python",
   "name": "python",
   "nbconvert_exporter": "python",
   "pygments_lexer": "ipython3",
   "version": "3.6.0"
  },
  "toc": {
   "base_numbering": 1,
   "nav_menu": {},
   "number_sections": true,
   "sideBar": true,
   "skip_h1_title": false,
   "title_cell": "Table of Contents",
   "title_sidebar": "Contents",
   "toc_cell": false,
   "toc_position": {
    "height": "513px",
    "left": "32px",
    "top": "107px",
    "width": "271px"
   },
   "toc_section_display": true,
   "toc_window_display": true
  }
 },
 "nbformat": 4,
 "nbformat_minor": 2
}
