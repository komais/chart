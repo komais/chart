{
 "cells": [
  {
   "cell_type": "markdown",
   "metadata": {},
   "source": [
    "tobedone：每组人均产能，表格的规整和简化"
   ]
  },
  {
   "cell_type": "code",
   "execution_count": 2,
   "metadata": {},
   "outputs": [
    {
     "name": "stdout",
     "output_type": "stream",
     "text": [
      "The autoreload extension is already loaded. To reload it, use:\n",
      "  %reload_ext autoreload\n"
     ]
    }
   ],
   "source": [
    "%load_ext autoreload\n",
    "%autoreload 2"
   ]
  },
  {
   "cell_type": "code",
   "execution_count": 3,
   "metadata": {
    "scrolled": true
   },
   "outputs": [
    {
     "data": {
      "text/html": [
       "<script>requirejs.config({paths: { 'plotly': ['https://cdn.plot.ly/plotly-latest.min']},});if(!window.Plotly) {{require(['plotly'],function(plotly) {window.Plotly=plotly;});}}</script>"
      ],
      "text/vnd.plotly.v1+html": [
       "<script>requirejs.config({paths: { 'plotly': ['https://cdn.plot.ly/plotly-latest.min']},});if(!window.Plotly) {{require(['plotly'],function(plotly) {window.Plotly=plotly;});}}</script>"
      ]
     },
     "metadata": {},
     "output_type": "display_data"
    },
    {
     "data": {
      "text/html": [
       "<script>requirejs.config({paths: { 'plotly': ['https://cdn.plot.ly/plotly-latest.min']},});if(!window.Plotly) {{require(['plotly'],function(plotly) {window.Plotly=plotly;});}}</script>"
      ],
      "text/vnd.plotly.v1+html": [
       "<script>requirejs.config({paths: { 'plotly': ['https://cdn.plot.ly/plotly-latest.min']},});if(!window.Plotly) {{require(['plotly'],function(plotly) {window.Plotly=plotly;});}}</script>"
      ]
     },
     "metadata": {},
     "output_type": "display_data"
    }
   ],
   "source": [
    "import sys\n",
    "sys.path.append('./')\n",
    "import myModule\n",
    "import imp\n",
    "imp.reload(myModule)\n",
    "time_list=['week']"
   ]
  },
  {
   "cell_type": "code",
   "execution_count": 4,
   "metadata": {
    "scrolled": true
   },
   "outputs": [],
   "source": [
    "import os\n",
    "bindir = os.path.dirname(os.getcwd())\n",
    "pathway = bindir + '/../data/Analysis/'\n",
    "all_files , title = myModule.get_title(pathway, 0)   ##给路径\n",
    "all_df1  = myModule.read_xlsx(all_files , 0 )## read all files sheet1\n",
    "all_df2  = myModule.read_xlsx(all_files , 1 )\n",
    "all_df3  = myModule.read_xlsx(all_files , 2 )"
   ]
  },
  {
   "cell_type": "code",
   "execution_count": 14,
   "metadata": {},
   "outputs": [
    {
     "data": {
      "text/plain": [
       "0     0\n",
       "1     3\n",
       "2     3\n",
       "3     0\n",
       "4     9\n",
       "5     5\n",
       "6     0\n",
       "7     6\n",
       "8     0\n",
       "9     0\n",
       "10    1\n",
       "11    0\n",
       "12    0\n",
       "13    0\n",
       "0     3\n",
       "1     3\n",
       "2     1\n",
       "3     2\n",
       "4     0\n",
       "5     2\n",
       "6     0\n",
       "7     0\n",
       "8     0\n",
       "9     1\n",
       "10    2\n",
       "11    2\n",
       "12    6\n",
       "13    0\n",
       "14    4\n",
       "15    0\n",
       "     ..\n",
       "6     5\n",
       "7     0\n",
       "8     0\n",
       "9     1\n",
       "10    0\n",
       "11    5\n",
       "12    0\n",
       "13    1\n",
       "14    1\n",
       "15    4\n",
       "16    0\n",
       "17    0\n",
       "0     6\n",
       "1     3\n",
       "2     0\n",
       "3     0\n",
       "4     0\n",
       "5     4\n",
       "6     0\n",
       "7     0\n",
       "8     0\n",
       "9     2\n",
       "10    0\n",
       "11    5\n",
       "12    0\n",
       "13    2\n",
       "14    2\n",
       "15    4\n",
       "16    0\n",
       "17    0\n",
       "Length: 86, dtype: int64"
      ]
     },
     "execution_count": 14,
     "metadata": {},
     "output_type": "execute_result"
    }
   ],
   "source": [
    "all_df1[['完成流水线项目数','完成非流水线项目数','完成只分析项目数','完成联合分析项目数']].sum(axis=1)"
   ]
  },
  {
   "cell_type": "code",
   "execution_count": 5,
   "metadata": {
    "scrolled": true
   },
   "outputs": [
    {
     "data": {
      "text/html": [
       "<div>\n",
       "<style scoped>\n",
       "    .dataframe tbody tr th:only-of-type {\n",
       "        vertical-align: middle;\n",
       "    }\n",
       "\n",
       "    .dataframe tbody tr th {\n",
       "        vertical-align: top;\n",
       "    }\n",
       "\n",
       "    .dataframe thead th {\n",
       "        text-align: right;\n",
       "    }\n",
       "</style>\n",
       "<table border=\"1\" class=\"dataframe\">\n",
       "  <thead>\n",
       "    <tr style=\"text-align: right;\">\n",
       "      <th></th>\n",
       "      <th>组别</th>\n",
       "      <th>人员</th>\n",
       "      <th>日期（格式“月-周次”）</th>\n",
       "      <th>完成流水线项目数</th>\n",
       "      <th>完成非流水线项目数</th>\n",
       "      <th>完成只分析项目数</th>\n",
       "      <th>完成联合分析项目数</th>\n",
       "      <th>完成个性化数</th>\n",
       "      <th>接入个性化数</th>\n",
       "      <th>在线标准分析项目数</th>\n",
       "      <th>在线个性化项目数</th>\n",
       "      <th>未下机项目数</th>\n",
       "      <th>month</th>\n",
       "      <th>完成商业项目数</th>\n",
       "      <th>完成项目总数</th>\n",
       "      <th>在线项目总数</th>\n",
       "    </tr>\n",
       "  </thead>\n",
       "  <tbody>\n",
       "    <tr>\n",
       "      <th>0</th>\n",
       "      <td>分析一组</td>\n",
       "      <td>施毓芷</td>\n",
       "      <td>10-1</td>\n",
       "      <td>0</td>\n",
       "      <td>0</td>\n",
       "      <td>0</td>\n",
       "      <td>0</td>\n",
       "      <td>0</td>\n",
       "      <td>0</td>\n",
       "      <td>0</td>\n",
       "      <td>0</td>\n",
       "      <td>0</td>\n",
       "      <td>10</td>\n",
       "      <td>NaN</td>\n",
       "      <td>NaN</td>\n",
       "      <td>NaN</td>\n",
       "    </tr>\n",
       "    <tr>\n",
       "      <th>1</th>\n",
       "      <td>分析一组</td>\n",
       "      <td>闻少楠</td>\n",
       "      <td>10-1</td>\n",
       "      <td>2</td>\n",
       "      <td>1</td>\n",
       "      <td>0</td>\n",
       "      <td>0</td>\n",
       "      <td>4</td>\n",
       "      <td>4</td>\n",
       "      <td>5</td>\n",
       "      <td>2</td>\n",
       "      <td>8</td>\n",
       "      <td>10</td>\n",
       "      <td>NaN</td>\n",
       "      <td>NaN</td>\n",
       "      <td>NaN</td>\n",
       "    </tr>\n",
       "    <tr>\n",
       "      <th>2</th>\n",
       "      <td>分析一组</td>\n",
       "      <td>杨宇</td>\n",
       "      <td>10-1</td>\n",
       "      <td>1</td>\n",
       "      <td>2</td>\n",
       "      <td>0</td>\n",
       "      <td>0</td>\n",
       "      <td>0</td>\n",
       "      <td>4</td>\n",
       "      <td>2</td>\n",
       "      <td>4</td>\n",
       "      <td>16</td>\n",
       "      <td>10</td>\n",
       "      <td>NaN</td>\n",
       "      <td>NaN</td>\n",
       "      <td>NaN</td>\n",
       "    </tr>\n",
       "    <tr>\n",
       "      <th>3</th>\n",
       "      <td>分析一组</td>\n",
       "      <td>刘永强</td>\n",
       "      <td>10-1</td>\n",
       "      <td>0</td>\n",
       "      <td>0</td>\n",
       "      <td>0</td>\n",
       "      <td>0</td>\n",
       "      <td>1</td>\n",
       "      <td>1</td>\n",
       "      <td>2</td>\n",
       "      <td>2</td>\n",
       "      <td>4</td>\n",
       "      <td>10</td>\n",
       "      <td>NaN</td>\n",
       "      <td>NaN</td>\n",
       "      <td>NaN</td>\n",
       "    </tr>\n",
       "    <tr>\n",
       "      <th>4</th>\n",
       "      <td>分析一组</td>\n",
       "      <td>刘梦苑</td>\n",
       "      <td>10-1</td>\n",
       "      <td>2</td>\n",
       "      <td>3</td>\n",
       "      <td>2</td>\n",
       "      <td>2</td>\n",
       "      <td>3</td>\n",
       "      <td>8</td>\n",
       "      <td>7</td>\n",
       "      <td>5</td>\n",
       "      <td>9</td>\n",
       "      <td>10</td>\n",
       "      <td>NaN</td>\n",
       "      <td>NaN</td>\n",
       "      <td>NaN</td>\n",
       "    </tr>\n",
       "    <tr>\n",
       "      <th>5</th>\n",
       "      <td>分析二组</td>\n",
       "      <td>何胜</td>\n",
       "      <td>10-1</td>\n",
       "      <td>2</td>\n",
       "      <td>2</td>\n",
       "      <td>1</td>\n",
       "      <td>0</td>\n",
       "      <td>3</td>\n",
       "      <td>3</td>\n",
       "      <td>4</td>\n",
       "      <td>2</td>\n",
       "      <td>8</td>\n",
       "      <td>10</td>\n",
       "      <td>NaN</td>\n",
       "      <td>NaN</td>\n",
       "      <td>NaN</td>\n",
       "    </tr>\n",
       "    <tr>\n",
       "      <th>6</th>\n",
       "      <td>分析二组</td>\n",
       "      <td>陈碧雯</td>\n",
       "      <td>10-1</td>\n",
       "      <td>0</td>\n",
       "      <td>0</td>\n",
       "      <td>0</td>\n",
       "      <td>0</td>\n",
       "      <td>3</td>\n",
       "      <td>1</td>\n",
       "      <td>3</td>\n",
       "      <td>0</td>\n",
       "      <td>10</td>\n",
       "      <td>10</td>\n",
       "      <td>NaN</td>\n",
       "      <td>NaN</td>\n",
       "      <td>NaN</td>\n",
       "    </tr>\n",
       "    <tr>\n",
       "      <th>7</th>\n",
       "      <td>分析二组</td>\n",
       "      <td>王霞</td>\n",
       "      <td>10-1</td>\n",
       "      <td>4</td>\n",
       "      <td>0</td>\n",
       "      <td>2</td>\n",
       "      <td>0</td>\n",
       "      <td>2</td>\n",
       "      <td>5</td>\n",
       "      <td>3</td>\n",
       "      <td>3</td>\n",
       "      <td>13</td>\n",
       "      <td>10</td>\n",
       "      <td>NaN</td>\n",
       "      <td>NaN</td>\n",
       "      <td>NaN</td>\n",
       "    </tr>\n",
       "    <tr>\n",
       "      <th>8</th>\n",
       "      <td>分析二组</td>\n",
       "      <td>卢楠</td>\n",
       "      <td>10-1</td>\n",
       "      <td>0</td>\n",
       "      <td>0</td>\n",
       "      <td>0</td>\n",
       "      <td>0</td>\n",
       "      <td>0</td>\n",
       "      <td>0</td>\n",
       "      <td>1</td>\n",
       "      <td>0</td>\n",
       "      <td>1</td>\n",
       "      <td>10</td>\n",
       "      <td>NaN</td>\n",
       "      <td>NaN</td>\n",
       "      <td>NaN</td>\n",
       "    </tr>\n",
       "    <tr>\n",
       "      <th>9</th>\n",
       "      <td>个性化组</td>\n",
       "      <td>冯敬岩</td>\n",
       "      <td>10-1</td>\n",
       "      <td>0</td>\n",
       "      <td>0</td>\n",
       "      <td>0</td>\n",
       "      <td>0</td>\n",
       "      <td>3</td>\n",
       "      <td>7</td>\n",
       "      <td>0</td>\n",
       "      <td>5</td>\n",
       "      <td>0</td>\n",
       "      <td>10</td>\n",
       "      <td>NaN</td>\n",
       "      <td>NaN</td>\n",
       "      <td>NaN</td>\n",
       "    </tr>\n",
       "    <tr>\n",
       "      <th>10</th>\n",
       "      <td>个性化组</td>\n",
       "      <td>朱慧萍</td>\n",
       "      <td>10-1</td>\n",
       "      <td>0</td>\n",
       "      <td>1</td>\n",
       "      <td>0</td>\n",
       "      <td>0</td>\n",
       "      <td>1</td>\n",
       "      <td>3</td>\n",
       "      <td>0</td>\n",
       "      <td>2</td>\n",
       "      <td>2</td>\n",
       "      <td>10</td>\n",
       "      <td>NaN</td>\n",
       "      <td>NaN</td>\n",
       "      <td>NaN</td>\n",
       "    </tr>\n",
       "    <tr>\n",
       "      <th>11</th>\n",
       "      <td>个性化组</td>\n",
       "      <td>赵倩</td>\n",
       "      <td>10-1</td>\n",
       "      <td>0</td>\n",
       "      <td>0</td>\n",
       "      <td>0</td>\n",
       "      <td>0</td>\n",
       "      <td>3</td>\n",
       "      <td>9</td>\n",
       "      <td>0</td>\n",
       "      <td>7</td>\n",
       "      <td>0</td>\n",
       "      <td>10</td>\n",
       "      <td>NaN</td>\n",
       "      <td>NaN</td>\n",
       "      <td>NaN</td>\n",
       "    </tr>\n",
       "    <tr>\n",
       "      <th>12</th>\n",
       "      <td>个性化组</td>\n",
       "      <td>解飞</td>\n",
       "      <td>10-1</td>\n",
       "      <td>0</td>\n",
       "      <td>0</td>\n",
       "      <td>0</td>\n",
       "      <td>0</td>\n",
       "      <td>1</td>\n",
       "      <td>3</td>\n",
       "      <td>2</td>\n",
       "      <td>2</td>\n",
       "      <td>5</td>\n",
       "      <td>10</td>\n",
       "      <td>NaN</td>\n",
       "      <td>NaN</td>\n",
       "      <td>NaN</td>\n",
       "    </tr>\n",
       "    <tr>\n",
       "      <th>13</th>\n",
       "      <td>个性化组</td>\n",
       "      <td>宋少宇</td>\n",
       "      <td>10-1</td>\n",
       "      <td>0</td>\n",
       "      <td>0</td>\n",
       "      <td>0</td>\n",
       "      <td>0</td>\n",
       "      <td>0</td>\n",
       "      <td>6</td>\n",
       "      <td>1</td>\n",
       "      <td>5</td>\n",
       "      <td>5</td>\n",
       "      <td>10</td>\n",
       "      <td>NaN</td>\n",
       "      <td>NaN</td>\n",
       "      <td>NaN</td>\n",
       "    </tr>\n",
       "    <tr>\n",
       "      <th>0</th>\n",
       "      <td>分析一组</td>\n",
       "      <td>昶吉阳</td>\n",
       "      <td>9-1</td>\n",
       "      <td>0</td>\n",
       "      <td>1</td>\n",
       "      <td>0</td>\n",
       "      <td>2</td>\n",
       "      <td>2</td>\n",
       "      <td>1</td>\n",
       "      <td>1</td>\n",
       "      <td>1</td>\n",
       "      <td>13</td>\n",
       "      <td>9</td>\n",
       "      <td>NaN</td>\n",
       "      <td>NaN</td>\n",
       "      <td>NaN</td>\n",
       "    </tr>\n",
       "    <tr>\n",
       "      <th>1</th>\n",
       "      <td>分析二组</td>\n",
       "      <td>陈碧雯</td>\n",
       "      <td>9-1</td>\n",
       "      <td>0</td>\n",
       "      <td>2</td>\n",
       "      <td>1</td>\n",
       "      <td>0</td>\n",
       "      <td>0</td>\n",
       "      <td>3</td>\n",
       "      <td>3</td>\n",
       "      <td>1</td>\n",
       "      <td>9</td>\n",
       "      <td>9</td>\n",
       "      <td>NaN</td>\n",
       "      <td>NaN</td>\n",
       "      <td>NaN</td>\n",
       "    </tr>\n",
       "    <tr>\n",
       "      <th>2</th>\n",
       "      <td>分析一组</td>\n",
       "      <td>陈鹏燕</td>\n",
       "      <td>9-1</td>\n",
       "      <td>0</td>\n",
       "      <td>1</td>\n",
       "      <td>0</td>\n",
       "      <td>0</td>\n",
       "      <td>2</td>\n",
       "      <td>3</td>\n",
       "      <td>0</td>\n",
       "      <td>3</td>\n",
       "      <td>11</td>\n",
       "      <td>9</td>\n",
       "      <td>NaN</td>\n",
       "      <td>NaN</td>\n",
       "      <td>NaN</td>\n",
       "    </tr>\n",
       "    <tr>\n",
       "      <th>3</th>\n",
       "      <td>分析二组</td>\n",
       "      <td>段利强</td>\n",
       "      <td>9-1</td>\n",
       "      <td>1</td>\n",
       "      <td>1</td>\n",
       "      <td>0</td>\n",
       "      <td>0</td>\n",
       "      <td>0</td>\n",
       "      <td>0</td>\n",
       "      <td>4</td>\n",
       "      <td>2</td>\n",
       "      <td>8</td>\n",
       "      <td>9</td>\n",
       "      <td>NaN</td>\n",
       "      <td>NaN</td>\n",
       "      <td>NaN</td>\n",
       "    </tr>\n",
       "    <tr>\n",
       "      <th>4</th>\n",
       "      <td>个性化组</td>\n",
       "      <td>冯敬岩</td>\n",
       "      <td>9-1</td>\n",
       "      <td>0</td>\n",
       "      <td>0</td>\n",
       "      <td>0</td>\n",
       "      <td>0</td>\n",
       "      <td>6</td>\n",
       "      <td>7</td>\n",
       "      <td>0</td>\n",
       "      <td>2</td>\n",
       "      <td>0</td>\n",
       "      <td>9</td>\n",
       "      <td>NaN</td>\n",
       "      <td>NaN</td>\n",
       "      <td>NaN</td>\n",
       "    </tr>\n",
       "    <tr>\n",
       "      <th>5</th>\n",
       "      <td>分析二组</td>\n",
       "      <td>何胜</td>\n",
       "      <td>9-1</td>\n",
       "      <td>0</td>\n",
       "      <td>1</td>\n",
       "      <td>1</td>\n",
       "      <td>0</td>\n",
       "      <td>5</td>\n",
       "      <td>4</td>\n",
       "      <td>2</td>\n",
       "      <td>1</td>\n",
       "      <td>11</td>\n",
       "      <td>9</td>\n",
       "      <td>NaN</td>\n",
       "      <td>NaN</td>\n",
       "      <td>NaN</td>\n",
       "    </tr>\n",
       "    <tr>\n",
       "      <th>6</th>\n",
       "      <td>分析一组</td>\n",
       "      <td>解飞</td>\n",
       "      <td>9-1</td>\n",
       "      <td>0</td>\n",
       "      <td>0</td>\n",
       "      <td>0</td>\n",
       "      <td>0</td>\n",
       "      <td>0</td>\n",
       "      <td>0</td>\n",
       "      <td>3</td>\n",
       "      <td>0</td>\n",
       "      <td>4</td>\n",
       "      <td>9</td>\n",
       "      <td>NaN</td>\n",
       "      <td>NaN</td>\n",
       "      <td>NaN</td>\n",
       "    </tr>\n",
       "    <tr>\n",
       "      <th>7</th>\n",
       "      <td>个性化组</td>\n",
       "      <td>靳甜甜</td>\n",
       "      <td>9-1</td>\n",
       "      <td>0</td>\n",
       "      <td>0</td>\n",
       "      <td>0</td>\n",
       "      <td>0</td>\n",
       "      <td>0</td>\n",
       "      <td>0</td>\n",
       "      <td>0</td>\n",
       "      <td>0</td>\n",
       "      <td>0</td>\n",
       "      <td>9</td>\n",
       "      <td>NaN</td>\n",
       "      <td>NaN</td>\n",
       "      <td>NaN</td>\n",
       "    </tr>\n",
       "    <tr>\n",
       "      <th>8</th>\n",
       "      <td>分析二组</td>\n",
       "      <td>李晓波</td>\n",
       "      <td>9-1</td>\n",
       "      <td>0</td>\n",
       "      <td>0</td>\n",
       "      <td>0</td>\n",
       "      <td>0</td>\n",
       "      <td>0</td>\n",
       "      <td>0</td>\n",
       "      <td>0</td>\n",
       "      <td>0</td>\n",
       "      <td>0</td>\n",
       "      <td>9</td>\n",
       "      <td>NaN</td>\n",
       "      <td>NaN</td>\n",
       "      <td>NaN</td>\n",
       "    </tr>\n",
       "    <tr>\n",
       "      <th>9</th>\n",
       "      <td>分析二组</td>\n",
       "      <td>刘梦苑</td>\n",
       "      <td>9-1</td>\n",
       "      <td>1</td>\n",
       "      <td>0</td>\n",
       "      <td>0</td>\n",
       "      <td>0</td>\n",
       "      <td>2</td>\n",
       "      <td>2</td>\n",
       "      <td>3</td>\n",
       "      <td>2</td>\n",
       "      <td>10</td>\n",
       "      <td>9</td>\n",
       "      <td>NaN</td>\n",
       "      <td>NaN</td>\n",
       "      <td>NaN</td>\n",
       "    </tr>\n",
       "    <tr>\n",
       "      <th>10</th>\n",
       "      <td>分析一组</td>\n",
       "      <td>刘永强</td>\n",
       "      <td>9-1</td>\n",
       "      <td>1</td>\n",
       "      <td>1</td>\n",
       "      <td>0</td>\n",
       "      <td>0</td>\n",
       "      <td>1</td>\n",
       "      <td>1</td>\n",
       "      <td>1</td>\n",
       "      <td>0</td>\n",
       "      <td>0</td>\n",
       "      <td>9</td>\n",
       "      <td>NaN</td>\n",
       "      <td>NaN</td>\n",
       "      <td>NaN</td>\n",
       "    </tr>\n",
       "    <tr>\n",
       "      <th>11</th>\n",
       "      <td>分析二组</td>\n",
       "      <td>马潇</td>\n",
       "      <td>9-1</td>\n",
       "      <td>1</td>\n",
       "      <td>1</td>\n",
       "      <td>0</td>\n",
       "      <td>0</td>\n",
       "      <td>1</td>\n",
       "      <td>1</td>\n",
       "      <td>2</td>\n",
       "      <td>2</td>\n",
       "      <td>13</td>\n",
       "      <td>9</td>\n",
       "      <td>NaN</td>\n",
       "      <td>NaN</td>\n",
       "      <td>NaN</td>\n",
       "    </tr>\n",
       "    <tr>\n",
       "      <th>12</th>\n",
       "      <td>分析二组</td>\n",
       "      <td>宋少宇</td>\n",
       "      <td>9-1</td>\n",
       "      <td>3</td>\n",
       "      <td>1</td>\n",
       "      <td>0</td>\n",
       "      <td>2</td>\n",
       "      <td>0</td>\n",
       "      <td>1</td>\n",
       "      <td>7</td>\n",
       "      <td>1</td>\n",
       "      <td>17</td>\n",
       "      <td>9</td>\n",
       "      <td>NaN</td>\n",
       "      <td>NaN</td>\n",
       "      <td>NaN</td>\n",
       "    </tr>\n",
       "    <tr>\n",
       "      <th>13</th>\n",
       "      <td>分析二组</td>\n",
       "      <td>王霞</td>\n",
       "      <td>9-1</td>\n",
       "      <td>0</td>\n",
       "      <td>0</td>\n",
       "      <td>0</td>\n",
       "      <td>0</td>\n",
       "      <td>0</td>\n",
       "      <td>2</td>\n",
       "      <td>1</td>\n",
       "      <td>2</td>\n",
       "      <td>9</td>\n",
       "      <td>9</td>\n",
       "      <td>NaN</td>\n",
       "      <td>NaN</td>\n",
       "      <td>NaN</td>\n",
       "    </tr>\n",
       "    <tr>\n",
       "      <th>14</th>\n",
       "      <td>分析二组</td>\n",
       "      <td>闻少楠</td>\n",
       "      <td>9-1</td>\n",
       "      <td>3</td>\n",
       "      <td>1</td>\n",
       "      <td>0</td>\n",
       "      <td>0</td>\n",
       "      <td>0</td>\n",
       "      <td>0</td>\n",
       "      <td>3</td>\n",
       "      <td>1</td>\n",
       "      <td>8</td>\n",
       "      <td>9</td>\n",
       "      <td>NaN</td>\n",
       "      <td>NaN</td>\n",
       "      <td>NaN</td>\n",
       "    </tr>\n",
       "    <tr>\n",
       "      <th>15</th>\n",
       "      <td>分析二组</td>\n",
       "      <td>杨宇</td>\n",
       "      <td>9-1</td>\n",
       "      <td>0</td>\n",
       "      <td>0</td>\n",
       "      <td>0</td>\n",
       "      <td>0</td>\n",
       "      <td>0</td>\n",
       "      <td>1</td>\n",
       "      <td>2</td>\n",
       "      <td>4</td>\n",
       "      <td>14</td>\n",
       "      <td>9</td>\n",
       "      <td>NaN</td>\n",
       "      <td>NaN</td>\n",
       "      <td>NaN</td>\n",
       "    </tr>\n",
       "    <tr>\n",
       "      <th>...</th>\n",
       "      <td>...</td>\n",
       "      <td>...</td>\n",
       "      <td>...</td>\n",
       "      <td>...</td>\n",
       "      <td>...</td>\n",
       "      <td>...</td>\n",
       "      <td>...</td>\n",
       "      <td>...</td>\n",
       "      <td>...</td>\n",
       "      <td>...</td>\n",
       "      <td>...</td>\n",
       "      <td>...</td>\n",
       "      <td>...</td>\n",
       "      <td>...</td>\n",
       "      <td>...</td>\n",
       "      <td>...</td>\n",
       "    </tr>\n",
       "    <tr>\n",
       "      <th>6</th>\n",
       "      <td>分析一组</td>\n",
       "      <td>解飞</td>\n",
       "      <td>9-3</td>\n",
       "      <td>0</td>\n",
       "      <td>3</td>\n",
       "      <td>1</td>\n",
       "      <td>1</td>\n",
       "      <td>0</td>\n",
       "      <td>0</td>\n",
       "      <td>0</td>\n",
       "      <td>0</td>\n",
       "      <td>5</td>\n",
       "      <td>9</td>\n",
       "      <td>NaN</td>\n",
       "      <td>NaN</td>\n",
       "      <td>NaN</td>\n",
       "    </tr>\n",
       "    <tr>\n",
       "      <th>7</th>\n",
       "      <td>个性化组</td>\n",
       "      <td>靳甜甜</td>\n",
       "      <td>9-3</td>\n",
       "      <td>0</td>\n",
       "      <td>0</td>\n",
       "      <td>0</td>\n",
       "      <td>0</td>\n",
       "      <td>0</td>\n",
       "      <td>0</td>\n",
       "      <td>0</td>\n",
       "      <td>0</td>\n",
       "      <td>0</td>\n",
       "      <td>9</td>\n",
       "      <td>NaN</td>\n",
       "      <td>NaN</td>\n",
       "      <td>NaN</td>\n",
       "    </tr>\n",
       "    <tr>\n",
       "      <th>8</th>\n",
       "      <td>分析二组</td>\n",
       "      <td>李晓波</td>\n",
       "      <td>9-3</td>\n",
       "      <td>0</td>\n",
       "      <td>0</td>\n",
       "      <td>0</td>\n",
       "      <td>0</td>\n",
       "      <td>0</td>\n",
       "      <td>0</td>\n",
       "      <td>0</td>\n",
       "      <td>0</td>\n",
       "      <td>0</td>\n",
       "      <td>9</td>\n",
       "      <td>NaN</td>\n",
       "      <td>NaN</td>\n",
       "      <td>NaN</td>\n",
       "    </tr>\n",
       "    <tr>\n",
       "      <th>9</th>\n",
       "      <td>分析二组</td>\n",
       "      <td>刘梦苑</td>\n",
       "      <td>9-3</td>\n",
       "      <td>1</td>\n",
       "      <td>0</td>\n",
       "      <td>0</td>\n",
       "      <td>0</td>\n",
       "      <td>1</td>\n",
       "      <td>3</td>\n",
       "      <td>5</td>\n",
       "      <td>0</td>\n",
       "      <td>16</td>\n",
       "      <td>9</td>\n",
       "      <td>NaN</td>\n",
       "      <td>NaN</td>\n",
       "      <td>NaN</td>\n",
       "    </tr>\n",
       "    <tr>\n",
       "      <th>10</th>\n",
       "      <td>分析一组</td>\n",
       "      <td>刘永强</td>\n",
       "      <td>9-3</td>\n",
       "      <td>0</td>\n",
       "      <td>0</td>\n",
       "      <td>0</td>\n",
       "      <td>0</td>\n",
       "      <td>0</td>\n",
       "      <td>3</td>\n",
       "      <td>0</td>\n",
       "      <td>0</td>\n",
       "      <td>3</td>\n",
       "      <td>9</td>\n",
       "      <td>NaN</td>\n",
       "      <td>NaN</td>\n",
       "      <td>NaN</td>\n",
       "    </tr>\n",
       "    <tr>\n",
       "      <th>11</th>\n",
       "      <td>分析二组</td>\n",
       "      <td>马潇</td>\n",
       "      <td>9-3</td>\n",
       "      <td>0</td>\n",
       "      <td>5</td>\n",
       "      <td>0</td>\n",
       "      <td>0</td>\n",
       "      <td>2</td>\n",
       "      <td>0</td>\n",
       "      <td>8</td>\n",
       "      <td>0</td>\n",
       "      <td>2</td>\n",
       "      <td>9</td>\n",
       "      <td>NaN</td>\n",
       "      <td>NaN</td>\n",
       "      <td>NaN</td>\n",
       "    </tr>\n",
       "    <tr>\n",
       "      <th>12</th>\n",
       "      <td>分析二组</td>\n",
       "      <td>宋少宇</td>\n",
       "      <td>9-3</td>\n",
       "      <td>0</td>\n",
       "      <td>0</td>\n",
       "      <td>0</td>\n",
       "      <td>0</td>\n",
       "      <td>0</td>\n",
       "      <td>0</td>\n",
       "      <td>0</td>\n",
       "      <td>0</td>\n",
       "      <td>17</td>\n",
       "      <td>9</td>\n",
       "      <td>NaN</td>\n",
       "      <td>NaN</td>\n",
       "      <td>NaN</td>\n",
       "    </tr>\n",
       "    <tr>\n",
       "      <th>13</th>\n",
       "      <td>分析二组</td>\n",
       "      <td>王霞</td>\n",
       "      <td>9-3</td>\n",
       "      <td>0</td>\n",
       "      <td>0</td>\n",
       "      <td>1</td>\n",
       "      <td>0</td>\n",
       "      <td>3</td>\n",
       "      <td>4</td>\n",
       "      <td>2</td>\n",
       "      <td>2</td>\n",
       "      <td>11</td>\n",
       "      <td>9</td>\n",
       "      <td>NaN</td>\n",
       "      <td>NaN</td>\n",
       "      <td>NaN</td>\n",
       "    </tr>\n",
       "    <tr>\n",
       "      <th>14</th>\n",
       "      <td>分析二组</td>\n",
       "      <td>闻少楠</td>\n",
       "      <td>9-3</td>\n",
       "      <td>1</td>\n",
       "      <td>0</td>\n",
       "      <td>0</td>\n",
       "      <td>0</td>\n",
       "      <td>2</td>\n",
       "      <td>0</td>\n",
       "      <td>5</td>\n",
       "      <td>0</td>\n",
       "      <td>5</td>\n",
       "      <td>9</td>\n",
       "      <td>NaN</td>\n",
       "      <td>NaN</td>\n",
       "      <td>NaN</td>\n",
       "    </tr>\n",
       "    <tr>\n",
       "      <th>15</th>\n",
       "      <td>分析二组</td>\n",
       "      <td>杨宇</td>\n",
       "      <td>9-3</td>\n",
       "      <td>1</td>\n",
       "      <td>1</td>\n",
       "      <td>0</td>\n",
       "      <td>2</td>\n",
       "      <td>6</td>\n",
       "      <td>0</td>\n",
       "      <td>6</td>\n",
       "      <td>0</td>\n",
       "      <td>14</td>\n",
       "      <td>9</td>\n",
       "      <td>NaN</td>\n",
       "      <td>NaN</td>\n",
       "      <td>NaN</td>\n",
       "    </tr>\n",
       "    <tr>\n",
       "      <th>16</th>\n",
       "      <td>个性化组</td>\n",
       "      <td>赵倩</td>\n",
       "      <td>9-3</td>\n",
       "      <td>0</td>\n",
       "      <td>0</td>\n",
       "      <td>0</td>\n",
       "      <td>0</td>\n",
       "      <td>5</td>\n",
       "      <td>0</td>\n",
       "      <td>0</td>\n",
       "      <td>5</td>\n",
       "      <td>0</td>\n",
       "      <td>9</td>\n",
       "      <td>NaN</td>\n",
       "      <td>NaN</td>\n",
       "      <td>NaN</td>\n",
       "    </tr>\n",
       "    <tr>\n",
       "      <th>17</th>\n",
       "      <td>个性化组</td>\n",
       "      <td>朱慧萍</td>\n",
       "      <td>9-3</td>\n",
       "      <td>0</td>\n",
       "      <td>0</td>\n",
       "      <td>0</td>\n",
       "      <td>0</td>\n",
       "      <td>5</td>\n",
       "      <td>0</td>\n",
       "      <td>0</td>\n",
       "      <td>5</td>\n",
       "      <td>0</td>\n",
       "      <td>9</td>\n",
       "      <td>NaN</td>\n",
       "      <td>NaN</td>\n",
       "      <td>NaN</td>\n",
       "    </tr>\n",
       "    <tr>\n",
       "      <th>0</th>\n",
       "      <td>分析一组</td>\n",
       "      <td>昶吉阳</td>\n",
       "      <td>9-4</td>\n",
       "      <td>2</td>\n",
       "      <td>4</td>\n",
       "      <td>0</td>\n",
       "      <td>0</td>\n",
       "      <td>0</td>\n",
       "      <td>0</td>\n",
       "      <td>1</td>\n",
       "      <td>4</td>\n",
       "      <td>8</td>\n",
       "      <td>9</td>\n",
       "      <td>NaN</td>\n",
       "      <td>NaN</td>\n",
       "      <td>NaN</td>\n",
       "    </tr>\n",
       "    <tr>\n",
       "      <th>1</th>\n",
       "      <td>分析二组</td>\n",
       "      <td>陈碧雯</td>\n",
       "      <td>9-4</td>\n",
       "      <td>3</td>\n",
       "      <td>0</td>\n",
       "      <td>0</td>\n",
       "      <td>0</td>\n",
       "      <td>1</td>\n",
       "      <td>0</td>\n",
       "      <td>2</td>\n",
       "      <td>2</td>\n",
       "      <td>7</td>\n",
       "      <td>9</td>\n",
       "      <td>NaN</td>\n",
       "      <td>NaN</td>\n",
       "      <td>NaN</td>\n",
       "    </tr>\n",
       "    <tr>\n",
       "      <th>2</th>\n",
       "      <td>分析一组</td>\n",
       "      <td>陈鹏燕</td>\n",
       "      <td>9-4</td>\n",
       "      <td>0</td>\n",
       "      <td>0</td>\n",
       "      <td>0</td>\n",
       "      <td>0</td>\n",
       "      <td>4</td>\n",
       "      <td>1</td>\n",
       "      <td>3</td>\n",
       "      <td>0</td>\n",
       "      <td>1</td>\n",
       "      <td>9</td>\n",
       "      <td>NaN</td>\n",
       "      <td>NaN</td>\n",
       "      <td>NaN</td>\n",
       "    </tr>\n",
       "    <tr>\n",
       "      <th>3</th>\n",
       "      <td>分析二组</td>\n",
       "      <td>段利强</td>\n",
       "      <td>9-4</td>\n",
       "      <td>0</td>\n",
       "      <td>0</td>\n",
       "      <td>0</td>\n",
       "      <td>0</td>\n",
       "      <td>1</td>\n",
       "      <td>0</td>\n",
       "      <td>1</td>\n",
       "      <td>0</td>\n",
       "      <td>4</td>\n",
       "      <td>9</td>\n",
       "      <td>NaN</td>\n",
       "      <td>NaN</td>\n",
       "      <td>NaN</td>\n",
       "    </tr>\n",
       "    <tr>\n",
       "      <th>4</th>\n",
       "      <td>个性化组</td>\n",
       "      <td>冯敬岩</td>\n",
       "      <td>9-4</td>\n",
       "      <td>0</td>\n",
       "      <td>0</td>\n",
       "      <td>0</td>\n",
       "      <td>0</td>\n",
       "      <td>2</td>\n",
       "      <td>5</td>\n",
       "      <td>0</td>\n",
       "      <td>2</td>\n",
       "      <td>0</td>\n",
       "      <td>9</td>\n",
       "      <td>NaN</td>\n",
       "      <td>NaN</td>\n",
       "      <td>NaN</td>\n",
       "    </tr>\n",
       "    <tr>\n",
       "      <th>5</th>\n",
       "      <td>分析二组</td>\n",
       "      <td>何胜</td>\n",
       "      <td>9-4</td>\n",
       "      <td>2</td>\n",
       "      <td>1</td>\n",
       "      <td>1</td>\n",
       "      <td>0</td>\n",
       "      <td>1</td>\n",
       "      <td>3</td>\n",
       "      <td>5</td>\n",
       "      <td>2</td>\n",
       "      <td>6</td>\n",
       "      <td>9</td>\n",
       "      <td>NaN</td>\n",
       "      <td>NaN</td>\n",
       "      <td>NaN</td>\n",
       "    </tr>\n",
       "    <tr>\n",
       "      <th>6</th>\n",
       "      <td>分析一组</td>\n",
       "      <td>解飞</td>\n",
       "      <td>9-4</td>\n",
       "      <td>0</td>\n",
       "      <td>0</td>\n",
       "      <td>0</td>\n",
       "      <td>0</td>\n",
       "      <td>0</td>\n",
       "      <td>2</td>\n",
       "      <td>2</td>\n",
       "      <td>1</td>\n",
       "      <td>5</td>\n",
       "      <td>9</td>\n",
       "      <td>NaN</td>\n",
       "      <td>NaN</td>\n",
       "      <td>NaN</td>\n",
       "    </tr>\n",
       "    <tr>\n",
       "      <th>7</th>\n",
       "      <td>个性化组</td>\n",
       "      <td>靳甜甜</td>\n",
       "      <td>9-4</td>\n",
       "      <td>0</td>\n",
       "      <td>0</td>\n",
       "      <td>0</td>\n",
       "      <td>0</td>\n",
       "      <td>0</td>\n",
       "      <td>0</td>\n",
       "      <td>0</td>\n",
       "      <td>0</td>\n",
       "      <td>0</td>\n",
       "      <td>9</td>\n",
       "      <td>NaN</td>\n",
       "      <td>NaN</td>\n",
       "      <td>NaN</td>\n",
       "    </tr>\n",
       "    <tr>\n",
       "      <th>8</th>\n",
       "      <td>分析二组</td>\n",
       "      <td>李晓波</td>\n",
       "      <td>9-4</td>\n",
       "      <td>0</td>\n",
       "      <td>0</td>\n",
       "      <td>0</td>\n",
       "      <td>0</td>\n",
       "      <td>0</td>\n",
       "      <td>0</td>\n",
       "      <td>0</td>\n",
       "      <td>0</td>\n",
       "      <td>0</td>\n",
       "      <td>9</td>\n",
       "      <td>NaN</td>\n",
       "      <td>NaN</td>\n",
       "      <td>NaN</td>\n",
       "    </tr>\n",
       "    <tr>\n",
       "      <th>9</th>\n",
       "      <td>分析二组</td>\n",
       "      <td>刘梦苑</td>\n",
       "      <td>9-4</td>\n",
       "      <td>1</td>\n",
       "      <td>0</td>\n",
       "      <td>1</td>\n",
       "      <td>0</td>\n",
       "      <td>2</td>\n",
       "      <td>1</td>\n",
       "      <td>4</td>\n",
       "      <td>0</td>\n",
       "      <td>14</td>\n",
       "      <td>9</td>\n",
       "      <td>NaN</td>\n",
       "      <td>NaN</td>\n",
       "      <td>NaN</td>\n",
       "    </tr>\n",
       "    <tr>\n",
       "      <th>10</th>\n",
       "      <td>分析一组</td>\n",
       "      <td>刘永强</td>\n",
       "      <td>9-4</td>\n",
       "      <td>0</td>\n",
       "      <td>0</td>\n",
       "      <td>0</td>\n",
       "      <td>0</td>\n",
       "      <td>0</td>\n",
       "      <td>1</td>\n",
       "      <td>0</td>\n",
       "      <td>0</td>\n",
       "      <td>3</td>\n",
       "      <td>9</td>\n",
       "      <td>NaN</td>\n",
       "      <td>NaN</td>\n",
       "      <td>NaN</td>\n",
       "    </tr>\n",
       "    <tr>\n",
       "      <th>11</th>\n",
       "      <td>分析二组</td>\n",
       "      <td>马潇</td>\n",
       "      <td>9-4</td>\n",
       "      <td>0</td>\n",
       "      <td>3</td>\n",
       "      <td>2</td>\n",
       "      <td>0</td>\n",
       "      <td>0</td>\n",
       "      <td>3</td>\n",
       "      <td>6</td>\n",
       "      <td>2</td>\n",
       "      <td>2</td>\n",
       "      <td>9</td>\n",
       "      <td>NaN</td>\n",
       "      <td>NaN</td>\n",
       "      <td>NaN</td>\n",
       "    </tr>\n",
       "    <tr>\n",
       "      <th>12</th>\n",
       "      <td>分析二组</td>\n",
       "      <td>宋少宇</td>\n",
       "      <td>9-4</td>\n",
       "      <td>0</td>\n",
       "      <td>0</td>\n",
       "      <td>0</td>\n",
       "      <td>0</td>\n",
       "      <td>0</td>\n",
       "      <td>0</td>\n",
       "      <td>0</td>\n",
       "      <td>0</td>\n",
       "      <td>19</td>\n",
       "      <td>9</td>\n",
       "      <td>NaN</td>\n",
       "      <td>NaN</td>\n",
       "      <td>NaN</td>\n",
       "    </tr>\n",
       "    <tr>\n",
       "      <th>13</th>\n",
       "      <td>分析二组</td>\n",
       "      <td>王霞</td>\n",
       "      <td>9-4</td>\n",
       "      <td>1</td>\n",
       "      <td>1</td>\n",
       "      <td>0</td>\n",
       "      <td>0</td>\n",
       "      <td>2</td>\n",
       "      <td>3</td>\n",
       "      <td>3</td>\n",
       "      <td>2</td>\n",
       "      <td>12</td>\n",
       "      <td>9</td>\n",
       "      <td>NaN</td>\n",
       "      <td>NaN</td>\n",
       "      <td>NaN</td>\n",
       "    </tr>\n",
       "    <tr>\n",
       "      <th>14</th>\n",
       "      <td>分析二组</td>\n",
       "      <td>闻少楠</td>\n",
       "      <td>9-4</td>\n",
       "      <td>1</td>\n",
       "      <td>1</td>\n",
       "      <td>0</td>\n",
       "      <td>0</td>\n",
       "      <td>2</td>\n",
       "      <td>2</td>\n",
       "      <td>5</td>\n",
       "      <td>1</td>\n",
       "      <td>3</td>\n",
       "      <td>9</td>\n",
       "      <td>NaN</td>\n",
       "      <td>NaN</td>\n",
       "      <td>NaN</td>\n",
       "    </tr>\n",
       "    <tr>\n",
       "      <th>15</th>\n",
       "      <td>分析二组</td>\n",
       "      <td>杨宇</td>\n",
       "      <td>9-4</td>\n",
       "      <td>0</td>\n",
       "      <td>4</td>\n",
       "      <td>0</td>\n",
       "      <td>0</td>\n",
       "      <td>1</td>\n",
       "      <td>2</td>\n",
       "      <td>2</td>\n",
       "      <td>2</td>\n",
       "      <td>12</td>\n",
       "      <td>9</td>\n",
       "      <td>NaN</td>\n",
       "      <td>NaN</td>\n",
       "      <td>NaN</td>\n",
       "    </tr>\n",
       "    <tr>\n",
       "      <th>16</th>\n",
       "      <td>个性化组</td>\n",
       "      <td>赵倩</td>\n",
       "      <td>9-4</td>\n",
       "      <td>0</td>\n",
       "      <td>0</td>\n",
       "      <td>0</td>\n",
       "      <td>0</td>\n",
       "      <td>9</td>\n",
       "      <td>6</td>\n",
       "      <td>0</td>\n",
       "      <td>1</td>\n",
       "      <td>0</td>\n",
       "      <td>9</td>\n",
       "      <td>NaN</td>\n",
       "      <td>NaN</td>\n",
       "      <td>NaN</td>\n",
       "    </tr>\n",
       "    <tr>\n",
       "      <th>17</th>\n",
       "      <td>个性化组</td>\n",
       "      <td>朱慧萍</td>\n",
       "      <td>9-4</td>\n",
       "      <td>0</td>\n",
       "      <td>0</td>\n",
       "      <td>0</td>\n",
       "      <td>0</td>\n",
       "      <td>3</td>\n",
       "      <td>1</td>\n",
       "      <td>0</td>\n",
       "      <td>7</td>\n",
       "      <td>0</td>\n",
       "      <td>9</td>\n",
       "      <td>NaN</td>\n",
       "      <td>NaN</td>\n",
       "      <td>NaN</td>\n",
       "    </tr>\n",
       "  </tbody>\n",
       "</table>\n",
       "<p>86 rows × 16 columns</p>\n",
       "</div>"
      ],
      "text/plain": [
       "      组别   人员 日期（格式“月-周次”）  完成流水线项目数  完成非流水线项目数  完成只分析项目数  完成联合分析项目数  完成个性化数  \\\n",
       "0   分析一组  施毓芷         10-1         0          0         0          0       0   \n",
       "1   分析一组  闻少楠         10-1         2          1         0          0       4   \n",
       "2   分析一组   杨宇         10-1         1          2         0          0       0   \n",
       "3   分析一组  刘永强         10-1         0          0         0          0       1   \n",
       "4   分析一组  刘梦苑         10-1         2          3         2          2       3   \n",
       "5   分析二组   何胜         10-1         2          2         1          0       3   \n",
       "6   分析二组  陈碧雯         10-1         0          0         0          0       3   \n",
       "7   分析二组   王霞         10-1         4          0         2          0       2   \n",
       "8   分析二组   卢楠         10-1         0          0         0          0       0   \n",
       "9   个性化组  冯敬岩         10-1         0          0         0          0       3   \n",
       "10  个性化组  朱慧萍         10-1         0          1         0          0       1   \n",
       "11  个性化组   赵倩         10-1         0          0         0          0       3   \n",
       "12  个性化组   解飞         10-1         0          0         0          0       1   \n",
       "13  个性化组  宋少宇         10-1         0          0         0          0       0   \n",
       "0   分析一组  昶吉阳          9-1         0          1         0          2       2   \n",
       "1   分析二组  陈碧雯          9-1         0          2         1          0       0   \n",
       "2   分析一组  陈鹏燕          9-1         0          1         0          0       2   \n",
       "3   分析二组  段利强          9-1         1          1         0          0       0   \n",
       "4   个性化组  冯敬岩          9-1         0          0         0          0       6   \n",
       "5   分析二组   何胜          9-1         0          1         1          0       5   \n",
       "6   分析一组   解飞          9-1         0          0         0          0       0   \n",
       "7   个性化组  靳甜甜          9-1         0          0         0          0       0   \n",
       "8   分析二组  李晓波          9-1         0          0         0          0       0   \n",
       "9   分析二组  刘梦苑          9-1         1          0         0          0       2   \n",
       "10  分析一组  刘永强          9-1         1          1         0          0       1   \n",
       "11  分析二组   马潇          9-1         1          1         0          0       1   \n",
       "12  分析二组  宋少宇          9-1         3          1         0          2       0   \n",
       "13  分析二组   王霞          9-1         0          0         0          0       0   \n",
       "14  分析二组  闻少楠          9-1         3          1         0          0       0   \n",
       "15  分析二组   杨宇          9-1         0          0         0          0       0   \n",
       "..   ...  ...          ...       ...        ...       ...        ...     ...   \n",
       "6   分析一组   解飞          9-3         0          3         1          1       0   \n",
       "7   个性化组  靳甜甜          9-3         0          0         0          0       0   \n",
       "8   分析二组  李晓波          9-3         0          0         0          0       0   \n",
       "9   分析二组  刘梦苑          9-3         1          0         0          0       1   \n",
       "10  分析一组  刘永强          9-3         0          0         0          0       0   \n",
       "11  分析二组   马潇          9-3         0          5         0          0       2   \n",
       "12  分析二组  宋少宇          9-3         0          0         0          0       0   \n",
       "13  分析二组   王霞          9-3         0          0         1          0       3   \n",
       "14  分析二组  闻少楠          9-3         1          0         0          0       2   \n",
       "15  分析二组   杨宇          9-3         1          1         0          2       6   \n",
       "16  个性化组   赵倩          9-3         0          0         0          0       5   \n",
       "17  个性化组  朱慧萍          9-3         0          0         0          0       5   \n",
       "0   分析一组  昶吉阳          9-4         2          4         0          0       0   \n",
       "1   分析二组  陈碧雯          9-4         3          0         0          0       1   \n",
       "2   分析一组  陈鹏燕          9-4         0          0         0          0       4   \n",
       "3   分析二组  段利强          9-4         0          0         0          0       1   \n",
       "4   个性化组  冯敬岩          9-4         0          0         0          0       2   \n",
       "5   分析二组   何胜          9-4         2          1         1          0       1   \n",
       "6   分析一组   解飞          9-4         0          0         0          0       0   \n",
       "7   个性化组  靳甜甜          9-4         0          0         0          0       0   \n",
       "8   分析二组  李晓波          9-4         0          0         0          0       0   \n",
       "9   分析二组  刘梦苑          9-4         1          0         1          0       2   \n",
       "10  分析一组  刘永强          9-4         0          0         0          0       0   \n",
       "11  分析二组   马潇          9-4         0          3         2          0       0   \n",
       "12  分析二组  宋少宇          9-4         0          0         0          0       0   \n",
       "13  分析二组   王霞          9-4         1          1         0          0       2   \n",
       "14  分析二组  闻少楠          9-4         1          1         0          0       2   \n",
       "15  分析二组   杨宇          9-4         0          4         0          0       1   \n",
       "16  个性化组   赵倩          9-4         0          0         0          0       9   \n",
       "17  个性化组  朱慧萍          9-4         0          0         0          0       3   \n",
       "\n",
       "    接入个性化数  在线标准分析项目数  在线个性化项目数  未下机项目数  month  完成商业项目数  完成项目总数  在线项目总数  \n",
       "0        0          0         0       0     10      NaN     NaN     NaN  \n",
       "1        4          5         2       8     10      NaN     NaN     NaN  \n",
       "2        4          2         4      16     10      NaN     NaN     NaN  \n",
       "3        1          2         2       4     10      NaN     NaN     NaN  \n",
       "4        8          7         5       9     10      NaN     NaN     NaN  \n",
       "5        3          4         2       8     10      NaN     NaN     NaN  \n",
       "6        1          3         0      10     10      NaN     NaN     NaN  \n",
       "7        5          3         3      13     10      NaN     NaN     NaN  \n",
       "8        0          1         0       1     10      NaN     NaN     NaN  \n",
       "9        7          0         5       0     10      NaN     NaN     NaN  \n",
       "10       3          0         2       2     10      NaN     NaN     NaN  \n",
       "11       9          0         7       0     10      NaN     NaN     NaN  \n",
       "12       3          2         2       5     10      NaN     NaN     NaN  \n",
       "13       6          1         5       5     10      NaN     NaN     NaN  \n",
       "0        1          1         1      13      9      NaN     NaN     NaN  \n",
       "1        3          3         1       9      9      NaN     NaN     NaN  \n",
       "2        3          0         3      11      9      NaN     NaN     NaN  \n",
       "3        0          4         2       8      9      NaN     NaN     NaN  \n",
       "4        7          0         2       0      9      NaN     NaN     NaN  \n",
       "5        4          2         1      11      9      NaN     NaN     NaN  \n",
       "6        0          3         0       4      9      NaN     NaN     NaN  \n",
       "7        0          0         0       0      9      NaN     NaN     NaN  \n",
       "8        0          0         0       0      9      NaN     NaN     NaN  \n",
       "9        2          3         2      10      9      NaN     NaN     NaN  \n",
       "10       1          1         0       0      9      NaN     NaN     NaN  \n",
       "11       1          2         2      13      9      NaN     NaN     NaN  \n",
       "12       1          7         1      17      9      NaN     NaN     NaN  \n",
       "13       2          1         2       9      9      NaN     NaN     NaN  \n",
       "14       0          3         1       8      9      NaN     NaN     NaN  \n",
       "15       1          2         4      14      9      NaN     NaN     NaN  \n",
       "..     ...        ...       ...     ...    ...      ...     ...     ...  \n",
       "6        0          0         0       5      9      NaN     NaN     NaN  \n",
       "7        0          0         0       0      9      NaN     NaN     NaN  \n",
       "8        0          0         0       0      9      NaN     NaN     NaN  \n",
       "9        3          5         0      16      9      NaN     NaN     NaN  \n",
       "10       3          0         0       3      9      NaN     NaN     NaN  \n",
       "11       0          8         0       2      9      NaN     NaN     NaN  \n",
       "12       0          0         0      17      9      NaN     NaN     NaN  \n",
       "13       4          2         2      11      9      NaN     NaN     NaN  \n",
       "14       0          5         0       5      9      NaN     NaN     NaN  \n",
       "15       0          6         0      14      9      NaN     NaN     NaN  \n",
       "16       0          0         5       0      9      NaN     NaN     NaN  \n",
       "17       0          0         5       0      9      NaN     NaN     NaN  \n",
       "0        0          1         4       8      9      NaN     NaN     NaN  \n",
       "1        0          2         2       7      9      NaN     NaN     NaN  \n",
       "2        1          3         0       1      9      NaN     NaN     NaN  \n",
       "3        0          1         0       4      9      NaN     NaN     NaN  \n",
       "4        5          0         2       0      9      NaN     NaN     NaN  \n",
       "5        3          5         2       6      9      NaN     NaN     NaN  \n",
       "6        2          2         1       5      9      NaN     NaN     NaN  \n",
       "7        0          0         0       0      9      NaN     NaN     NaN  \n",
       "8        0          0         0       0      9      NaN     NaN     NaN  \n",
       "9        1          4         0      14      9      NaN     NaN     NaN  \n",
       "10       1          0         0       3      9      NaN     NaN     NaN  \n",
       "11       3          6         2       2      9      NaN     NaN     NaN  \n",
       "12       0          0         0      19      9      NaN     NaN     NaN  \n",
       "13       3          3         2      12      9      NaN     NaN     NaN  \n",
       "14       2          5         1       3      9      NaN     NaN     NaN  \n",
       "15       2          2         2      12      9      NaN     NaN     NaN  \n",
       "16       6          0         1       0      9      NaN     NaN     NaN  \n",
       "17       1          0         7       0      9      NaN     NaN     NaN  \n",
       "\n",
       "[86 rows x 16 columns]"
      ]
     },
     "execution_count": 5,
     "metadata": {},
     "output_type": "execute_result"
    }
   ],
   "source": [
    "### show NA after first running\n",
    "myModule.upgrade_df(all_df1, [ ['完成商业项目数',['完成流水线项目数','完成非流水线项目数','完成只分析项目数','完成联合分析项目数'],'+']])\n",
    "myModule.upgrade_df(all_df1, [ ['完成项目总数',['完成商业项目数','完成个性化数'],'+'] , \n",
    "                               ['在线项目总数',['在线标准分析项目数','在线个性化项目数'],'+']])\n",
    "#all_dict2 = myModule.read_xlsx(all_files , 1 ) ##\n",
    "#all_df1.drop([])\n",
    "all_df1\n"
   ]
  },
  {
   "cell_type": "code",
   "execution_count": null,
   "metadata": {},
   "outputs": [],
   "source": []
  },
  {
   "cell_type": "code",
   "execution_count": 8,
   "metadata": {},
   "outputs": [
    {
     "name": "stderr",
     "output_type": "stream",
     "text": [
      "/mnt/e/jupyter/bin/chart/myModule.py:74: SettingWithCopyWarning:\n",
      "\n",
      "\n",
      "A value is trying to be set on a copy of a slice from a DataFrame\n",
      "\n",
      "See the caveats in the documentation: http://pandas.pydata.org/pandas-docs/stable/indexing.html#indexing-view-versus-copy\n",
      "\n"
     ]
    },
    {
     "data": {
      "text/html": [
       "<div>\n",
       "<style scoped>\n",
       "    .dataframe tbody tr th:only-of-type {\n",
       "        vertical-align: middle;\n",
       "    }\n",
       "\n",
       "    .dataframe tbody tr th {\n",
       "        vertical-align: top;\n",
       "    }\n",
       "\n",
       "    .dataframe thead th {\n",
       "        text-align: right;\n",
       "    }\n",
       "</style>\n",
       "<table border=\"1\" class=\"dataframe\">\n",
       "  <thead>\n",
       "    <tr style=\"text-align: right;\">\n",
       "      <th></th>\n",
       "      <th>组别</th>\n",
       "      <th>人员</th>\n",
       "      <th>日期（格式“月-周次”）</th>\n",
       "      <th>完成流水线项目数</th>\n",
       "      <th>完成非流水线项目数</th>\n",
       "      <th>完成只分析项目数</th>\n",
       "      <th>完成联合分析项目数</th>\n",
       "      <th>完成个性化数</th>\n",
       "      <th>接入个性化数</th>\n",
       "      <th>在线标准分析项目数</th>\n",
       "      <th>在线个性化项目数</th>\n",
       "      <th>未下机项目数</th>\n",
       "      <th>month</th>\n",
       "      <th>完成商业项目数</th>\n",
       "      <th>完成项目总数</th>\n",
       "      <th>在线项目总数</th>\n",
       "    </tr>\n",
       "  </thead>\n",
       "  <tbody>\n",
       "    <tr>\n",
       "      <th>0</th>\n",
       "      <td>分析一组</td>\n",
       "      <td>施毓芷</td>\n",
       "      <td>10-1</td>\n",
       "      <td>0</td>\n",
       "      <td>0</td>\n",
       "      <td>0</td>\n",
       "      <td>0</td>\n",
       "      <td>0</td>\n",
       "      <td>0</td>\n",
       "      <td>0</td>\n",
       "      <td>0</td>\n",
       "      <td>0</td>\n",
       "      <td>10</td>\n",
       "      <td>0</td>\n",
       "      <td>0</td>\n",
       "      <td>0</td>\n",
       "    </tr>\n",
       "    <tr>\n",
       "      <th>1</th>\n",
       "      <td>分析一组</td>\n",
       "      <td>闻少楠</td>\n",
       "      <td>10-1</td>\n",
       "      <td>2</td>\n",
       "      <td>1</td>\n",
       "      <td>0</td>\n",
       "      <td>0</td>\n",
       "      <td>4</td>\n",
       "      <td>4</td>\n",
       "      <td>5</td>\n",
       "      <td>2</td>\n",
       "      <td>8</td>\n",
       "      <td>10</td>\n",
       "      <td>3</td>\n",
       "      <td>7</td>\n",
       "      <td>7</td>\n",
       "    </tr>\n",
       "    <tr>\n",
       "      <th>2</th>\n",
       "      <td>分析一组</td>\n",
       "      <td>杨宇</td>\n",
       "      <td>10-1</td>\n",
       "      <td>1</td>\n",
       "      <td>2</td>\n",
       "      <td>0</td>\n",
       "      <td>0</td>\n",
       "      <td>0</td>\n",
       "      <td>4</td>\n",
       "      <td>2</td>\n",
       "      <td>4</td>\n",
       "      <td>16</td>\n",
       "      <td>10</td>\n",
       "      <td>3</td>\n",
       "      <td>3</td>\n",
       "      <td>6</td>\n",
       "    </tr>\n",
       "    <tr>\n",
       "      <th>3</th>\n",
       "      <td>分析一组</td>\n",
       "      <td>刘永强</td>\n",
       "      <td>10-1</td>\n",
       "      <td>0</td>\n",
       "      <td>0</td>\n",
       "      <td>0</td>\n",
       "      <td>0</td>\n",
       "      <td>1</td>\n",
       "      <td>1</td>\n",
       "      <td>2</td>\n",
       "      <td>2</td>\n",
       "      <td>4</td>\n",
       "      <td>10</td>\n",
       "      <td>0</td>\n",
       "      <td>1</td>\n",
       "      <td>4</td>\n",
       "    </tr>\n",
       "    <tr>\n",
       "      <th>4</th>\n",
       "      <td>分析一组</td>\n",
       "      <td>刘梦苑</td>\n",
       "      <td>10-1</td>\n",
       "      <td>2</td>\n",
       "      <td>3</td>\n",
       "      <td>2</td>\n",
       "      <td>2</td>\n",
       "      <td>3</td>\n",
       "      <td>8</td>\n",
       "      <td>7</td>\n",
       "      <td>5</td>\n",
       "      <td>9</td>\n",
       "      <td>10</td>\n",
       "      <td>9</td>\n",
       "      <td>12</td>\n",
       "      <td>12</td>\n",
       "    </tr>\n",
       "  </tbody>\n",
       "</table>\n",
       "</div>"
      ],
      "text/plain": [
       "     组别   人员 日期（格式“月-周次”）  完成流水线项目数  完成非流水线项目数  完成只分析项目数  完成联合分析项目数  完成个性化数  \\\n",
       "0  分析一组  施毓芷         10-1         0          0         0          0       0   \n",
       "1  分析一组  闻少楠         10-1         2          1         0          0       4   \n",
       "2  分析一组   杨宇         10-1         1          2         0          0       0   \n",
       "3  分析一组  刘永强         10-1         0          0         0          0       1   \n",
       "4  分析一组  刘梦苑         10-1         2          3         2          2       3   \n",
       "\n",
       "   接入个性化数  在线标准分析项目数  在线个性化项目数  未下机项目数  month  完成商业项目数  完成项目总数  在线项目总数  \n",
       "0       0          0         0       0     10        0       0       0  \n",
       "1       4          5         2       8     10        3       7       7  \n",
       "2       4          2         4      16     10        3       3       6  \n",
       "3       1          2         2       4     10        0       1       4  \n",
       "4       8          7         5       9     10        9      12      12  "
      ]
     },
     "execution_count": 8,
     "metadata": {},
     "output_type": "execute_result"
    }
   ],
   "source": [
    "myModule.upgrade_df(all_df1, [ ['完成商业项目数',['完成流水线项目数','完成非流水线项目数','完成只分析项目数','完成联合分析项目数'],'+']])\n",
    "myModule.upgrade_df(all_df1, [ ['完成项目总数',['完成商业项目数','完成个性化数'],'+'] , \n",
    "                               ['在线项目总数',['在线标准分析项目数','在线个性化项目数'],'+']])\n",
    "all_df1 = all_df1.astype({'完成商业项目数':'int','完成项目总数':'int','在线项目总数':'int'})\n",
    "#all_dict2 = myModule.read_xlsx(all_files , 1 ) ##\n",
    "#all_df1.drop([])\n",
    "all_df1.loc[all_df1['日期（格式“月-周次”）']=='10-1'].head()"
   ]
  },
  {
   "cell_type": "markdown",
   "metadata": {},
   "source": [
    "# 人员情况"
   ]
  },
  {
   "cell_type": "markdown",
   "metadata": {},
   "source": [
    "## 分析组整体人员情况"
   ]
  },
  {
   "cell_type": "code",
   "execution_count": 33,
   "metadata": {
    "scrolled": false
   },
   "outputs": [
    {
     "data": {
      "text/html": [
       "<script>requirejs.config({paths: { 'plotly': ['https://cdn.plot.ly/plotly-latest.min']},});if(!window.Plotly) {{require(['plotly'],function(plotly) {window.Plotly=plotly;});}}</script>"
      ],
      "text/vnd.plotly.v1+html": [
       "<script>requirejs.config({paths: { 'plotly': ['https://cdn.plot.ly/plotly-latest.min']},});if(!window.Plotly) {{require(['plotly'],function(plotly) {window.Plotly=plotly;});}}</script>"
      ]
     },
     "metadata": {},
     "output_type": "display_data"
    },
    {
     "name": "stdout",
     "output_type": "stream",
     "text": [
      "Index(['9-1', '9-2', '9-3', '9-4', '10-1'], dtype='object', name='日期（格式“月-周次”）')\n"
     ]
    },
    {
     "data": {
      "application/vnd.plotly.v1+json": {
       "data": [
        {
         "name": "人员",
         "type": "bar",
         "uid": "e1e1d2e0-d1b3-11e8-83d9-a81e84e6c740",
         "x": [
          "9-1",
          "9-2",
          "9-3",
          "9-4",
          "10-1"
         ],
         "y": [
          18,
          18,
          18,
          18,
          14
         ]
        }
       ],
       "layout": {
        "title": "人员周趋势图",
        "xaxis": {
         "mirror": "all",
         "nticks": 20,
         "showgrid": true,
         "showline": true,
         "title": "周",
         "type": "category",
         "zeroline": true
        },
        "yaxis": {
         "mirror": "all",
         "nticks": 20,
         "showgrid": true,
         "showline": true,
         "title": "人员",
         "zeroline": true
        }
       }
      },
      "text/html": [
       "<div id=\"96d6e261-c1bb-4d78-a4ba-eba4fc874eec\" style=\"height: 525px; width: 100%;\" class=\"plotly-graph-div\"></div><script type=\"text/javascript\">require([\"plotly\"], function(Plotly) { window.PLOTLYENV=window.PLOTLYENV || {};window.PLOTLYENV.BASE_URL=\"https://plot.ly\";Plotly.newPlot(\"96d6e261-c1bb-4d78-a4ba-eba4fc874eec\", [{\"name\": \"\\u4eba\\u5458\", \"x\": [\"9-1\", \"9-2\", \"9-3\", \"9-4\", \"10-1\"], \"y\": [18, 18, 18, 18, 14], \"type\": \"bar\", \"uid\": \"e1e1d2e0-d1b3-11e8-83d9-a81e84e6c740\"}], {\"title\": \"\\u4eba\\u5458\\u5468\\u8d8b\\u52bf\\u56fe\", \"xaxis\": {\"mirror\": \"all\", \"nticks\": 20, \"showgrid\": true, \"showline\": true, \"title\": \"\\u5468\", \"type\": \"category\", \"zeroline\": true}, \"yaxis\": {\"mirror\": \"all\", \"nticks\": 20, \"showgrid\": true, \"showline\": true, \"title\": \"\\u4eba\\u5458\", \"zeroline\": true}}, {\"showLink\": true, \"linkText\": \"Export to plot.ly\"})});</script>"
      ],
      "text/vnd.plotly.v1+html": [
       "<div id=\"96d6e261-c1bb-4d78-a4ba-eba4fc874eec\" style=\"height: 525px; width: 100%;\" class=\"plotly-graph-div\"></div><script type=\"text/javascript\">require([\"plotly\"], function(Plotly) { window.PLOTLYENV=window.PLOTLYENV || {};window.PLOTLYENV.BASE_URL=\"https://plot.ly\";Plotly.newPlot(\"96d6e261-c1bb-4d78-a4ba-eba4fc874eec\", [{\"name\": \"\\u4eba\\u5458\", \"x\": [\"9-1\", \"9-2\", \"9-3\", \"9-4\", \"10-1\"], \"y\": [18, 18, 18, 18, 14], \"type\": \"bar\", \"uid\": \"e1e1d2e0-d1b3-11e8-83d9-a81e84e6c740\"}], {\"title\": \"\\u4eba\\u5458\\u5468\\u8d8b\\u52bf\\u56fe\", \"xaxis\": {\"mirror\": \"all\", \"nticks\": 20, \"showgrid\": true, \"showline\": true, \"title\": \"\\u5468\", \"type\": \"category\", \"zeroline\": true}, \"yaxis\": {\"mirror\": \"all\", \"nticks\": 20, \"showgrid\": true, \"showline\": true, \"title\": \"\\u4eba\\u5458\", \"zeroline\": true}}, {\"showLink\": true, \"linkText\": \"Export to plot.ly\"})});</script>"
      ]
     },
     "metadata": {},
     "output_type": "display_data"
    }
   ],
   "source": [
    "ss = myModule.format(all_df1 ,\"日期（格式“月-周次”）\" ,['人员'])\n",
    "ss.groupby('count')\n",
    "myModule.sort_by_index(ss.groupby('count'))\n",
    "tt = myModule.myPlot(myModule.sort_by_index(ss.groupby('count')))\n",
    "tt.plot('bar')"
   ]
  },
  {
   "cell_type": "code",
   "execution_count": 34,
   "metadata": {
    "scrolled": false
   },
   "outputs": [
    {
     "name": "stdout",
     "output_type": "stream",
     "text": [
      "Int64Index([9, 10], dtype='int64', name='month')\n"
     ]
    },
    {
     "data": {
      "application/vnd.plotly.v1+json": {
       "data": [
        {
         "name": "人员",
         "type": "bar",
         "uid": "f99a9e9e-d1b3-11e8-83d9-a81e84e6c740",
         "x": [
          9,
          10
         ],
         "y": [
          18,
          14
         ]
        }
       ],
       "layout": {
        "title": "人员月趋势图",
        "xaxis": {
         "mirror": "all",
         "nticks": 20,
         "showgrid": true,
         "showline": true,
         "title": "月",
         "type": "category",
         "zeroline": true
        },
        "yaxis": {
         "mirror": "all",
         "nticks": 20,
         "showgrid": true,
         "showline": true,
         "title": "人员",
         "zeroline": true
        }
       }
      },
      "text/html": [
       "<div id=\"fcff511c-dad8-48fd-b8a7-ac795678246e\" style=\"height: 525px; width: 100%;\" class=\"plotly-graph-div\"></div><script type=\"text/javascript\">require([\"plotly\"], function(Plotly) { window.PLOTLYENV=window.PLOTLYENV || {};window.PLOTLYENV.BASE_URL=\"https://plot.ly\";Plotly.newPlot(\"fcff511c-dad8-48fd-b8a7-ac795678246e\", [{\"name\": \"\\u4eba\\u5458\", \"x\": [9, 10], \"y\": [18, 14], \"type\": \"bar\", \"uid\": \"f99a9e9e-d1b3-11e8-83d9-a81e84e6c740\"}], {\"title\": \"\\u4eba\\u5458\\u6708\\u8d8b\\u52bf\\u56fe\", \"xaxis\": {\"mirror\": \"all\", \"nticks\": 20, \"showgrid\": true, \"showline\": true, \"title\": \"\\u6708\", \"type\": \"category\", \"zeroline\": true}, \"yaxis\": {\"mirror\": \"all\", \"nticks\": 20, \"showgrid\": true, \"showline\": true, \"title\": \"\\u4eba\\u5458\", \"zeroline\": true}}, {\"showLink\": true, \"linkText\": \"Export to plot.ly\"})});</script>"
      ],
      "text/vnd.plotly.v1+html": [
       "<div id=\"fcff511c-dad8-48fd-b8a7-ac795678246e\" style=\"height: 525px; width: 100%;\" class=\"plotly-graph-div\"></div><script type=\"text/javascript\">require([\"plotly\"], function(Plotly) { window.PLOTLYENV=window.PLOTLYENV || {};window.PLOTLYENV.BASE_URL=\"https://plot.ly\";Plotly.newPlot(\"fcff511c-dad8-48fd-b8a7-ac795678246e\", [{\"name\": \"\\u4eba\\u5458\", \"x\": [9, 10], \"y\": [18, 14], \"type\": \"bar\", \"uid\": \"f99a9e9e-d1b3-11e8-83d9-a81e84e6c740\"}], {\"title\": \"\\u4eba\\u5458\\u6708\\u8d8b\\u52bf\\u56fe\", \"xaxis\": {\"mirror\": \"all\", \"nticks\": 20, \"showgrid\": true, \"showline\": true, \"title\": \"\\u6708\", \"type\": \"category\", \"zeroline\": true}, \"yaxis\": {\"mirror\": \"all\", \"nticks\": 20, \"showgrid\": true, \"showline\": true, \"title\": \"\\u4eba\\u5458\", \"zeroline\": true}}, {\"showLink\": true, \"linkText\": \"Export to plot.ly\"})});</script>"
      ]
     },
     "metadata": {},
     "output_type": "display_data"
    }
   ],
   "source": [
    "ss = myModule.format(all_df1 ,\"month\" ,['人员'] )\n",
    "ss.get_average_by('日期（格式“月-周次”）')\n",
    "tt = myModule.myPlot(ss.groupby(\"count\") )# ,\"日期（格式“月-周次”）\" ,['人员'])\n",
    "tt.plot('bar',tag='月')"
   ]
  },
  {
   "cell_type": "markdown",
   "metadata": {},
   "source": [
    "## 各组人员情况"
   ]
  },
  {
   "cell_type": "code",
   "execution_count": 35,
   "metadata": {},
   "outputs": [
    {
     "data": {
      "application/vnd.plotly.v1+json": {
       "data": [
        {
         "name": "人员(个性化组)",
         "type": "bar",
         "uid": "fd124752-d1b3-11e8-83d9-a81e84e6c740",
         "x": [
          "10-1",
          "9-1",
          "9-2",
          "9-3",
          "9-4"
         ],
         "y": [
          5,
          4,
          4,
          4,
          4
         ]
        },
        {
         "name": "人员(分析一组)",
         "type": "bar",
         "uid": "fd124b44-d1b3-11e8-83d9-a81e84e6c740",
         "x": [
          "10-1",
          "9-1",
          "9-2",
          "9-3",
          "9-4"
         ],
         "y": [
          5,
          4,
          4,
          4,
          4
         ]
        },
        {
         "name": "人员(分析二组)",
         "type": "bar",
         "uid": "fd124d92-d1b3-11e8-83d9-a81e84e6c740",
         "x": [
          "10-1",
          "9-1",
          "9-2",
          "9-3",
          "9-4"
         ],
         "y": [
          4,
          10,
          10,
          10,
          10
         ]
        }
       ],
       "layout": {
        "barmode": "stack",
        "title": "人员周趋势图",
        "xaxis": {
         "mirror": "all",
         "nticks": 20,
         "showgrid": true,
         "showline": true,
         "title": "周",
         "type": "category",
         "zeroline": true
        },
        "yaxis": {
         "mirror": "all",
         "nticks": 20,
         "showgrid": true,
         "showline": true,
         "title": "人员",
         "zeroline": true
        }
       }
      },
      "text/html": [
       "<div id=\"8200e980-de20-4f5a-ad6b-7ab480930c37\" style=\"height: 525px; width: 100%;\" class=\"plotly-graph-div\"></div><script type=\"text/javascript\">require([\"plotly\"], function(Plotly) { window.PLOTLYENV=window.PLOTLYENV || {};window.PLOTLYENV.BASE_URL=\"https://plot.ly\";Plotly.newPlot(\"8200e980-de20-4f5a-ad6b-7ab480930c37\", [{\"name\": \"\\u4eba\\u5458(\\u4e2a\\u6027\\u5316\\u7ec4)\", \"x\": [\"10-1\", \"9-1\", \"9-2\", \"9-3\", \"9-4\"], \"y\": [5, 4, 4, 4, 4], \"type\": \"bar\", \"uid\": \"fd124752-d1b3-11e8-83d9-a81e84e6c740\"}, {\"name\": \"\\u4eba\\u5458(\\u5206\\u6790\\u4e00\\u7ec4)\", \"x\": [\"10-1\", \"9-1\", \"9-2\", \"9-3\", \"9-4\"], \"y\": [5, 4, 4, 4, 4], \"type\": \"bar\", \"uid\": \"fd124b44-d1b3-11e8-83d9-a81e84e6c740\"}, {\"name\": \"\\u4eba\\u5458(\\u5206\\u6790\\u4e8c\\u7ec4)\", \"x\": [\"10-1\", \"9-1\", \"9-2\", \"9-3\", \"9-4\"], \"y\": [4, 10, 10, 10, 10], \"type\": \"bar\", \"uid\": \"fd124d92-d1b3-11e8-83d9-a81e84e6c740\"}], {\"barmode\": \"stack\", \"title\": \"\\u4eba\\u5458\\u5468\\u8d8b\\u52bf\\u56fe\", \"xaxis\": {\"mirror\": \"all\", \"nticks\": 20, \"showgrid\": true, \"showline\": true, \"title\": \"\\u5468\", \"type\": \"category\", \"zeroline\": true}, \"yaxis\": {\"mirror\": \"all\", \"nticks\": 20, \"showgrid\": true, \"showline\": true, \"title\": \"\\u4eba\\u5458\", \"zeroline\": true}}, {\"showLink\": true, \"linkText\": \"Export to plot.ly\"})});</script>"
      ],
      "text/vnd.plotly.v1+html": [
       "<div id=\"8200e980-de20-4f5a-ad6b-7ab480930c37\" style=\"height: 525px; width: 100%;\" class=\"plotly-graph-div\"></div><script type=\"text/javascript\">require([\"plotly\"], function(Plotly) { window.PLOTLYENV=window.PLOTLYENV || {};window.PLOTLYENV.BASE_URL=\"https://plot.ly\";Plotly.newPlot(\"8200e980-de20-4f5a-ad6b-7ab480930c37\", [{\"name\": \"\\u4eba\\u5458(\\u4e2a\\u6027\\u5316\\u7ec4)\", \"x\": [\"10-1\", \"9-1\", \"9-2\", \"9-3\", \"9-4\"], \"y\": [5, 4, 4, 4, 4], \"type\": \"bar\", \"uid\": \"fd124752-d1b3-11e8-83d9-a81e84e6c740\"}, {\"name\": \"\\u4eba\\u5458(\\u5206\\u6790\\u4e00\\u7ec4)\", \"x\": [\"10-1\", \"9-1\", \"9-2\", \"9-3\", \"9-4\"], \"y\": [5, 4, 4, 4, 4], \"type\": \"bar\", \"uid\": \"fd124b44-d1b3-11e8-83d9-a81e84e6c740\"}, {\"name\": \"\\u4eba\\u5458(\\u5206\\u6790\\u4e8c\\u7ec4)\", \"x\": [\"10-1\", \"9-1\", \"9-2\", \"9-3\", \"9-4\"], \"y\": [4, 10, 10, 10, 10], \"type\": \"bar\", \"uid\": \"fd124d92-d1b3-11e8-83d9-a81e84e6c740\"}], {\"barmode\": \"stack\", \"title\": \"\\u4eba\\u5458\\u5468\\u8d8b\\u52bf\\u56fe\", \"xaxis\": {\"mirror\": \"all\", \"nticks\": 20, \"showgrid\": true, \"showline\": true, \"title\": \"\\u5468\", \"type\": \"category\", \"zeroline\": true}, \"yaxis\": {\"mirror\": \"all\", \"nticks\": 20, \"showgrid\": true, \"showline\": true, \"title\": \"\\u4eba\\u5458\", \"zeroline\": true}}, {\"showLink\": true, \"linkText\": \"Export to plot.ly\"})});</script>"
      ]
     },
     "metadata": {},
     "output_type": "display_data"
    }
   ],
   "source": [
    "ss = myModule.format(all_df1 ,\"日期（格式“月-周次”）\" ,['人员'])\n",
    "ss.add_group('组别')\n",
    "myModule.myPlot(ss.groupby('count')).plot('stack_bar')"
   ]
  },
  {
   "cell_type": "markdown",
   "metadata": {},
   "source": [
    "# 产能情况"
   ]
  },
  {
   "cell_type": "markdown",
   "metadata": {},
   "source": [
    "## 总完成项目数情况"
   ]
  },
  {
   "cell_type": "markdown",
   "metadata": {},
   "source": [
    "### 分析组完成项目数"
   ]
  },
  {
   "cell_type": "code",
   "execution_count": 37,
   "metadata": {},
   "outputs": [
    {
     "name": "stdout",
     "output_type": "stream",
     "text": [
      "Index(['10-1', '9-1', '9-2', '9-3', '9-4'], dtype='object', name='日期（格式“月-周次”）')\n",
      "Index(['10-1', '9-1', '9-2', '9-3', '9-4'], dtype='object', name='日期（格式“月-周次”）')\n"
     ]
    },
    {
     "data": {
      "application/vnd.plotly.v1+json": {
       "data": [
        {
         "name": "完成商业项目数",
         "type": "bar",
         "uid": "21754162-d1b4-11e8-83d9-a81e84e6c740",
         "x": [
          "10-1",
          "9-1",
          "9-2",
          "9-3",
          "9-4"
         ],
         "y": [
          27,
          26,
          40,
          23,
          28
         ]
        },
        {
         "name": "完成个性化数",
         "type": "bar",
         "uid": "21754eaa-d1b4-11e8-83d9-a81e84e6c740",
         "x": [
          "10-1",
          "9-1",
          "9-2",
          "9-3",
          "9-4"
         ],
         "y": [
          24,
          31,
          39,
          41,
          28
         ]
        }
       ],
       "layout": {
        "barmode": "stack",
        "title": "完成商业项目数&完成个性化数周趋势图",
        "xaxis": {
         "mirror": "all",
         "nticks": 20,
         "showgrid": true,
         "showline": true,
         "title": "周",
         "type": "category",
         "zeroline": true
        },
        "yaxis": {
         "mirror": "all",
         "nticks": 20,
         "showgrid": true,
         "showline": true,
         "title": "完成商业项目数&完成个性化数",
         "zeroline": true
        }
       }
      },
      "text/html": [
       "<div id=\"c44cc725-9e14-4dfd-88e7-71974b5c2b3f\" style=\"height: 525px; width: 100%;\" class=\"plotly-graph-div\"></div><script type=\"text/javascript\">require([\"plotly\"], function(Plotly) { window.PLOTLYENV=window.PLOTLYENV || {};window.PLOTLYENV.BASE_URL=\"https://plot.ly\";Plotly.newPlot(\"c44cc725-9e14-4dfd-88e7-71974b5c2b3f\", [{\"name\": \"\\u5b8c\\u6210\\u5546\\u4e1a\\u9879\\u76ee\\u6570\", \"x\": [\"10-1\", \"9-1\", \"9-2\", \"9-3\", \"9-4\"], \"y\": [27, 26, 40, 23, 28], \"type\": \"bar\", \"uid\": \"21754162-d1b4-11e8-83d9-a81e84e6c740\"}, {\"name\": \"\\u5b8c\\u6210\\u4e2a\\u6027\\u5316\\u6570\", \"x\": [\"10-1\", \"9-1\", \"9-2\", \"9-3\", \"9-4\"], \"y\": [24, 31, 39, 41, 28], \"type\": \"bar\", \"uid\": \"21754eaa-d1b4-11e8-83d9-a81e84e6c740\"}], {\"barmode\": \"stack\", \"title\": \"\\u5b8c\\u6210\\u5546\\u4e1a\\u9879\\u76ee\\u6570&\\u5b8c\\u6210\\u4e2a\\u6027\\u5316\\u6570\\u5468\\u8d8b\\u52bf\\u56fe\", \"xaxis\": {\"mirror\": \"all\", \"nticks\": 20, \"showgrid\": true, \"showline\": true, \"title\": \"\\u5468\", \"type\": \"category\", \"zeroline\": true}, \"yaxis\": {\"mirror\": \"all\", \"nticks\": 20, \"showgrid\": true, \"showline\": true, \"title\": \"\\u5b8c\\u6210\\u5546\\u4e1a\\u9879\\u76ee\\u6570&\\u5b8c\\u6210\\u4e2a\\u6027\\u5316\\u6570\", \"zeroline\": true}}, {\"showLink\": true, \"linkText\": \"Export to plot.ly\"})});</script>"
      ],
      "text/vnd.plotly.v1+html": [
       "<div id=\"c44cc725-9e14-4dfd-88e7-71974b5c2b3f\" style=\"height: 525px; width: 100%;\" class=\"plotly-graph-div\"></div><script type=\"text/javascript\">require([\"plotly\"], function(Plotly) { window.PLOTLYENV=window.PLOTLYENV || {};window.PLOTLYENV.BASE_URL=\"https://plot.ly\";Plotly.newPlot(\"c44cc725-9e14-4dfd-88e7-71974b5c2b3f\", [{\"name\": \"\\u5b8c\\u6210\\u5546\\u4e1a\\u9879\\u76ee\\u6570\", \"x\": [\"10-1\", \"9-1\", \"9-2\", \"9-3\", \"9-4\"], \"y\": [27, 26, 40, 23, 28], \"type\": \"bar\", \"uid\": \"21754162-d1b4-11e8-83d9-a81e84e6c740\"}, {\"name\": \"\\u5b8c\\u6210\\u4e2a\\u6027\\u5316\\u6570\", \"x\": [\"10-1\", \"9-1\", \"9-2\", \"9-3\", \"9-4\"], \"y\": [24, 31, 39, 41, 28], \"type\": \"bar\", \"uid\": \"21754eaa-d1b4-11e8-83d9-a81e84e6c740\"}], {\"barmode\": \"stack\", \"title\": \"\\u5b8c\\u6210\\u5546\\u4e1a\\u9879\\u76ee\\u6570&\\u5b8c\\u6210\\u4e2a\\u6027\\u5316\\u6570\\u5468\\u8d8b\\u52bf\\u56fe\", \"xaxis\": {\"mirror\": \"all\", \"nticks\": 20, \"showgrid\": true, \"showline\": true, \"title\": \"\\u5468\", \"type\": \"category\", \"zeroline\": true}, \"yaxis\": {\"mirror\": \"all\", \"nticks\": 20, \"showgrid\": true, \"showline\": true, \"title\": \"\\u5b8c\\u6210\\u5546\\u4e1a\\u9879\\u76ee\\u6570&\\u5b8c\\u6210\\u4e2a\\u6027\\u5316\\u6570\", \"zeroline\": true}}, {\"showLink\": true, \"linkText\": \"Export to plot.ly\"})});</script>"
      ]
     },
     "metadata": {},
     "output_type": "display_data"
    },
    {
     "name": "stdout",
     "output_type": "stream",
     "text": [
      "Int64Index([9, 10], dtype='int64', name='month')\n",
      "Int64Index([9, 10], dtype='int64', name='month')\n"
     ]
    },
    {
     "data": {
      "application/vnd.plotly.v1+json": {
       "data": [
        {
         "name": "完成商业项目数",
         "type": "bar",
         "uid": "217fc466-d1b4-11e8-83d9-a81e84e6c740",
         "x": [
          9,
          10
         ],
         "y": [
          117,
          27
         ]
        },
        {
         "name": "完成个性化数",
         "type": "bar",
         "uid": "217fcec0-d1b4-11e8-83d9-a81e84e6c740",
         "x": [
          9,
          10
         ],
         "y": [
          139,
          24
         ]
        }
       ],
       "layout": {
        "barmode": "stack",
        "title": "完成商业项目数&完成个性化数月趋势图",
        "xaxis": {
         "mirror": "all",
         "nticks": 20,
         "showgrid": true,
         "showline": true,
         "title": "月",
         "type": "category",
         "zeroline": true
        },
        "yaxis": {
         "mirror": "all",
         "nticks": 20,
         "showgrid": true,
         "showline": true,
         "title": "完成商业项目数&完成个性化数",
         "zeroline": true
        }
       }
      },
      "text/html": [
       "<div id=\"70a4101e-c0ae-4bda-bb0b-e73aa210664f\" style=\"height: 525px; width: 100%;\" class=\"plotly-graph-div\"></div><script type=\"text/javascript\">require([\"plotly\"], function(Plotly) { window.PLOTLYENV=window.PLOTLYENV || {};window.PLOTLYENV.BASE_URL=\"https://plot.ly\";Plotly.newPlot(\"70a4101e-c0ae-4bda-bb0b-e73aa210664f\", [{\"name\": \"\\u5b8c\\u6210\\u5546\\u4e1a\\u9879\\u76ee\\u6570\", \"x\": [9, 10], \"y\": [117, 27], \"type\": \"bar\", \"uid\": \"217fc466-d1b4-11e8-83d9-a81e84e6c740\"}, {\"name\": \"\\u5b8c\\u6210\\u4e2a\\u6027\\u5316\\u6570\", \"x\": [9, 10], \"y\": [139, 24], \"type\": \"bar\", \"uid\": \"217fcec0-d1b4-11e8-83d9-a81e84e6c740\"}], {\"barmode\": \"stack\", \"title\": \"\\u5b8c\\u6210\\u5546\\u4e1a\\u9879\\u76ee\\u6570&\\u5b8c\\u6210\\u4e2a\\u6027\\u5316\\u6570\\u6708\\u8d8b\\u52bf\\u56fe\", \"xaxis\": {\"mirror\": \"all\", \"nticks\": 20, \"showgrid\": true, \"showline\": true, \"title\": \"\\u6708\", \"type\": \"category\", \"zeroline\": true}, \"yaxis\": {\"mirror\": \"all\", \"nticks\": 20, \"showgrid\": true, \"showline\": true, \"title\": \"\\u5b8c\\u6210\\u5546\\u4e1a\\u9879\\u76ee\\u6570&\\u5b8c\\u6210\\u4e2a\\u6027\\u5316\\u6570\", \"zeroline\": true}}, {\"showLink\": true, \"linkText\": \"Export to plot.ly\"})});</script>"
      ],
      "text/vnd.plotly.v1+html": [
       "<div id=\"70a4101e-c0ae-4bda-bb0b-e73aa210664f\" style=\"height: 525px; width: 100%;\" class=\"plotly-graph-div\"></div><script type=\"text/javascript\">require([\"plotly\"], function(Plotly) { window.PLOTLYENV=window.PLOTLYENV || {};window.PLOTLYENV.BASE_URL=\"https://plot.ly\";Plotly.newPlot(\"70a4101e-c0ae-4bda-bb0b-e73aa210664f\", [{\"name\": \"\\u5b8c\\u6210\\u5546\\u4e1a\\u9879\\u76ee\\u6570\", \"x\": [9, 10], \"y\": [117, 27], \"type\": \"bar\", \"uid\": \"217fc466-d1b4-11e8-83d9-a81e84e6c740\"}, {\"name\": \"\\u5b8c\\u6210\\u4e2a\\u6027\\u5316\\u6570\", \"x\": [9, 10], \"y\": [139, 24], \"type\": \"bar\", \"uid\": \"217fcec0-d1b4-11e8-83d9-a81e84e6c740\"}], {\"barmode\": \"stack\", \"title\": \"\\u5b8c\\u6210\\u5546\\u4e1a\\u9879\\u76ee\\u6570&\\u5b8c\\u6210\\u4e2a\\u6027\\u5316\\u6570\\u6708\\u8d8b\\u52bf\\u56fe\", \"xaxis\": {\"mirror\": \"all\", \"nticks\": 20, \"showgrid\": true, \"showline\": true, \"title\": \"\\u6708\", \"type\": \"category\", \"zeroline\": true}, \"yaxis\": {\"mirror\": \"all\", \"nticks\": 20, \"showgrid\": true, \"showline\": true, \"title\": \"\\u5b8c\\u6210\\u5546\\u4e1a\\u9879\\u76ee\\u6570&\\u5b8c\\u6210\\u4e2a\\u6027\\u5316\\u6570\", \"zeroline\": true}}, {\"showLink\": true, \"linkText\": \"Export to plot.ly\"})});</script>"
      ]
     },
     "metadata": {},
     "output_type": "display_data"
    }
   ],
   "source": [
    "ss = myModule.format(all_df1 ,\"日期（格式“月-周次”）\" ,['完成商业项目数','完成个性化数'])\n",
    "myModule.myPlot(ss.groupby('sum')).plot('stack_bar')\n",
    "ss = myModule.format(all_df1 ,\"month\" ,['完成商业项目数','完成个性化数'])\n",
    "myModule.myPlot(ss.groupby('sum')).plot('stack_bar',\"月\")"
   ]
  },
  {
   "cell_type": "markdown",
   "metadata": {},
   "source": [
    "### 项目组成情况"
   ]
  },
  {
   "cell_type": "code",
   "execution_count": 38,
   "metadata": {
    "scrolled": true
   },
   "outputs": [
    {
     "name": "stdout",
     "output_type": "stream",
     "text": [
      "Index(['10-1', '9-1', '9-2', '9-3', '9-4'], dtype='object', name='日期（格式“月-周次”）')\n",
      "Index(['10-1', '9-1', '9-2', '9-3', '9-4'], dtype='object', name='日期（格式“月-周次”）')\n",
      "Index(['10-1', '9-1', '9-2', '9-3', '9-4'], dtype='object', name='日期（格式“月-周次”）')\n",
      "Index(['10-1', '9-1', '9-2', '9-3', '9-4'], dtype='object', name='日期（格式“月-周次”）')\n"
     ]
    },
    {
     "data": {
      "application/vnd.plotly.v1+json": {
       "data": [
        {
         "name": "完成非流水线项目数",
         "type": "bar",
         "uid": "227caf6e-d1b4-11e8-83d9-a81e84e6c740",
         "x": [
          "10-1",
          "9-1",
          "9-2",
          "9-3",
          "9-4"
         ],
         "y": [
          9,
          10,
          14,
          10,
          14
         ]
        },
        {
         "name": "完成联合分析项目数",
         "type": "bar",
         "uid": "227cb66c-d1b4-11e8-83d9-a81e84e6c740",
         "x": [
          "10-1",
          "9-1",
          "9-2",
          "9-3",
          "9-4"
         ],
         "y": [
          2,
          4,
          3,
          3,
          0
         ]
        },
        {
         "name": "完成流水线项目数",
         "type": "bar",
         "uid": "227cbdb0-d1b4-11e8-83d9-a81e84e6c740",
         "x": [
          "10-1",
          "9-1",
          "9-2",
          "9-3",
          "9-4"
         ],
         "y": [
          11,
          10,
          14,
          4,
          10
         ]
        },
        {
         "name": "完成只分析项目数",
         "type": "bar",
         "uid": "227cc1c0-d1b4-11e8-83d9-a81e84e6c740",
         "x": [
          "10-1",
          "9-1",
          "9-2",
          "9-3",
          "9-4"
         ],
         "y": [
          5,
          2,
          9,
          6,
          4
         ]
        }
       ],
       "layout": {
        "barmode": "stack",
        "title": "项目组成情况",
        "xaxis": {
         "mirror": "all",
         "nticks": 20,
         "showgrid": true,
         "showline": true,
         "title": "周",
         "type": "category",
         "zeroline": true
        },
        "yaxis": {
         "mirror": "all",
         "nticks": 20,
         "showgrid": true,
         "showline": true,
         "title": "完成非流水线项目数&完成联合分析项目数&完成流水线项目数&完成只分析项目数",
         "zeroline": true
        }
       }
      },
      "text/html": [
       "<div id=\"95d9b92a-4013-42f1-bfd3-128aa26fd3f0\" style=\"height: 525px; width: 100%;\" class=\"plotly-graph-div\"></div><script type=\"text/javascript\">require([\"plotly\"], function(Plotly) { window.PLOTLYENV=window.PLOTLYENV || {};window.PLOTLYENV.BASE_URL=\"https://plot.ly\";Plotly.newPlot(\"95d9b92a-4013-42f1-bfd3-128aa26fd3f0\", [{\"name\": \"\\u5b8c\\u6210\\u975e\\u6d41\\u6c34\\u7ebf\\u9879\\u76ee\\u6570\", \"x\": [\"10-1\", \"9-1\", \"9-2\", \"9-3\", \"9-4\"], \"y\": [9, 10, 14, 10, 14], \"type\": \"bar\", \"uid\": \"227caf6e-d1b4-11e8-83d9-a81e84e6c740\"}, {\"name\": \"\\u5b8c\\u6210\\u8054\\u5408\\u5206\\u6790\\u9879\\u76ee\\u6570\", \"x\": [\"10-1\", \"9-1\", \"9-2\", \"9-3\", \"9-4\"], \"y\": [2, 4, 3, 3, 0], \"type\": \"bar\", \"uid\": \"227cb66c-d1b4-11e8-83d9-a81e84e6c740\"}, {\"name\": \"\\u5b8c\\u6210\\u6d41\\u6c34\\u7ebf\\u9879\\u76ee\\u6570\", \"x\": [\"10-1\", \"9-1\", \"9-2\", \"9-3\", \"9-4\"], \"y\": [11, 10, 14, 4, 10], \"type\": \"bar\", \"uid\": \"227cbdb0-d1b4-11e8-83d9-a81e84e6c740\"}, {\"name\": \"\\u5b8c\\u6210\\u53ea\\u5206\\u6790\\u9879\\u76ee\\u6570\", \"x\": [\"10-1\", \"9-1\", \"9-2\", \"9-3\", \"9-4\"], \"y\": [5, 2, 9, 6, 4], \"type\": \"bar\", \"uid\": \"227cc1c0-d1b4-11e8-83d9-a81e84e6c740\"}], {\"barmode\": \"stack\", \"title\": \"\\u9879\\u76ee\\u7ec4\\u6210\\u60c5\\u51b5\", \"xaxis\": {\"mirror\": \"all\", \"nticks\": 20, \"showgrid\": true, \"showline\": true, \"title\": \"\\u5468\", \"type\": \"category\", \"zeroline\": true}, \"yaxis\": {\"mirror\": \"all\", \"nticks\": 20, \"showgrid\": true, \"showline\": true, \"title\": \"\\u5b8c\\u6210\\u975e\\u6d41\\u6c34\\u7ebf\\u9879\\u76ee\\u6570&\\u5b8c\\u6210\\u8054\\u5408\\u5206\\u6790\\u9879\\u76ee\\u6570&\\u5b8c\\u6210\\u6d41\\u6c34\\u7ebf\\u9879\\u76ee\\u6570&\\u5b8c\\u6210\\u53ea\\u5206\\u6790\\u9879\\u76ee\\u6570\", \"zeroline\": true}}, {\"showLink\": true, \"linkText\": \"Export to plot.ly\"})});</script>"
      ],
      "text/vnd.plotly.v1+html": [
       "<div id=\"95d9b92a-4013-42f1-bfd3-128aa26fd3f0\" style=\"height: 525px; width: 100%;\" class=\"plotly-graph-div\"></div><script type=\"text/javascript\">require([\"plotly\"], function(Plotly) { window.PLOTLYENV=window.PLOTLYENV || {};window.PLOTLYENV.BASE_URL=\"https://plot.ly\";Plotly.newPlot(\"95d9b92a-4013-42f1-bfd3-128aa26fd3f0\", [{\"name\": \"\\u5b8c\\u6210\\u975e\\u6d41\\u6c34\\u7ebf\\u9879\\u76ee\\u6570\", \"x\": [\"10-1\", \"9-1\", \"9-2\", \"9-3\", \"9-4\"], \"y\": [9, 10, 14, 10, 14], \"type\": \"bar\", \"uid\": \"227caf6e-d1b4-11e8-83d9-a81e84e6c740\"}, {\"name\": \"\\u5b8c\\u6210\\u8054\\u5408\\u5206\\u6790\\u9879\\u76ee\\u6570\", \"x\": [\"10-1\", \"9-1\", \"9-2\", \"9-3\", \"9-4\"], \"y\": [2, 4, 3, 3, 0], \"type\": \"bar\", \"uid\": \"227cb66c-d1b4-11e8-83d9-a81e84e6c740\"}, {\"name\": \"\\u5b8c\\u6210\\u6d41\\u6c34\\u7ebf\\u9879\\u76ee\\u6570\", \"x\": [\"10-1\", \"9-1\", \"9-2\", \"9-3\", \"9-4\"], \"y\": [11, 10, 14, 4, 10], \"type\": \"bar\", \"uid\": \"227cbdb0-d1b4-11e8-83d9-a81e84e6c740\"}, {\"name\": \"\\u5b8c\\u6210\\u53ea\\u5206\\u6790\\u9879\\u76ee\\u6570\", \"x\": [\"10-1\", \"9-1\", \"9-2\", \"9-3\", \"9-4\"], \"y\": [5, 2, 9, 6, 4], \"type\": \"bar\", \"uid\": \"227cc1c0-d1b4-11e8-83d9-a81e84e6c740\"}], {\"barmode\": \"stack\", \"title\": \"\\u9879\\u76ee\\u7ec4\\u6210\\u60c5\\u51b5\", \"xaxis\": {\"mirror\": \"all\", \"nticks\": 20, \"showgrid\": true, \"showline\": true, \"title\": \"\\u5468\", \"type\": \"category\", \"zeroline\": true}, \"yaxis\": {\"mirror\": \"all\", \"nticks\": 20, \"showgrid\": true, \"showline\": true, \"title\": \"\\u5b8c\\u6210\\u975e\\u6d41\\u6c34\\u7ebf\\u9879\\u76ee\\u6570&\\u5b8c\\u6210\\u8054\\u5408\\u5206\\u6790\\u9879\\u76ee\\u6570&\\u5b8c\\u6210\\u6d41\\u6c34\\u7ebf\\u9879\\u76ee\\u6570&\\u5b8c\\u6210\\u53ea\\u5206\\u6790\\u9879\\u76ee\\u6570\", \"zeroline\": true}}, {\"showLink\": true, \"linkText\": \"Export to plot.ly\"})});</script>"
      ]
     },
     "metadata": {},
     "output_type": "display_data"
    },
    {
     "name": "stdout",
     "output_type": "stream",
     "text": [
      "Int64Index([9, 10], dtype='int64', name='month')\n",
      "Int64Index([9, 10], dtype='int64', name='month')\n",
      "Int64Index([9, 10], dtype='int64', name='month')\n",
      "Int64Index([9, 10], dtype='int64', name='month')\n"
     ]
    },
    {
     "data": {
      "application/vnd.plotly.v1+json": {
       "data": [
        {
         "name": "完成非流水线项目数",
         "type": "bar",
         "uid": "2286bc98-d1b4-11e8-83d9-a81e84e6c740",
         "x": [
          9,
          10
         ],
         "y": [
          48,
          9
         ]
        },
        {
         "name": "完成联合分析项目数",
         "type": "bar",
         "uid": "2286c0da-d1b4-11e8-83d9-a81e84e6c740",
         "x": [
          9,
          10
         ],
         "y": [
          10,
          2
         ]
        },
        {
         "name": "完成流水线项目数",
         "type": "bar",
         "uid": "2286d264-d1b4-11e8-83d9-a81e84e6c740",
         "x": [
          9,
          10
         ],
         "y": [
          38,
          11
         ]
        },
        {
         "name": "完成只分析项目数",
         "type": "bar",
         "uid": "2286d4f8-d1b4-11e8-83d9-a81e84e6c740",
         "x": [
          9,
          10
         ],
         "y": [
          21,
          5
         ]
        }
       ],
       "layout": {
        "barmode": "stack",
        "title": "项目组成情况",
        "xaxis": {
         "mirror": "all",
         "nticks": 20,
         "showgrid": true,
         "showline": true,
         "title": "月",
         "type": "category",
         "zeroline": true
        },
        "yaxis": {
         "mirror": "all",
         "nticks": 20,
         "showgrid": true,
         "showline": true,
         "title": "完成非流水线项目数&完成联合分析项目数&完成流水线项目数&完成只分析项目数",
         "zeroline": true
        }
       }
      },
      "text/html": [
       "<div id=\"9b939253-ea04-4bd7-b9f3-185ad7cdc000\" style=\"height: 525px; width: 100%;\" class=\"plotly-graph-div\"></div><script type=\"text/javascript\">require([\"plotly\"], function(Plotly) { window.PLOTLYENV=window.PLOTLYENV || {};window.PLOTLYENV.BASE_URL=\"https://plot.ly\";Plotly.newPlot(\"9b939253-ea04-4bd7-b9f3-185ad7cdc000\", [{\"name\": \"\\u5b8c\\u6210\\u975e\\u6d41\\u6c34\\u7ebf\\u9879\\u76ee\\u6570\", \"x\": [9, 10], \"y\": [48, 9], \"type\": \"bar\", \"uid\": \"2286bc98-d1b4-11e8-83d9-a81e84e6c740\"}, {\"name\": \"\\u5b8c\\u6210\\u8054\\u5408\\u5206\\u6790\\u9879\\u76ee\\u6570\", \"x\": [9, 10], \"y\": [10, 2], \"type\": \"bar\", \"uid\": \"2286c0da-d1b4-11e8-83d9-a81e84e6c740\"}, {\"name\": \"\\u5b8c\\u6210\\u6d41\\u6c34\\u7ebf\\u9879\\u76ee\\u6570\", \"x\": [9, 10], \"y\": [38, 11], \"type\": \"bar\", \"uid\": \"2286d264-d1b4-11e8-83d9-a81e84e6c740\"}, {\"name\": \"\\u5b8c\\u6210\\u53ea\\u5206\\u6790\\u9879\\u76ee\\u6570\", \"x\": [9, 10], \"y\": [21, 5], \"type\": \"bar\", \"uid\": \"2286d4f8-d1b4-11e8-83d9-a81e84e6c740\"}], {\"barmode\": \"stack\", \"title\": \"\\u9879\\u76ee\\u7ec4\\u6210\\u60c5\\u51b5\", \"xaxis\": {\"mirror\": \"all\", \"nticks\": 20, \"showgrid\": true, \"showline\": true, \"title\": \"\\u6708\", \"type\": \"category\", \"zeroline\": true}, \"yaxis\": {\"mirror\": \"all\", \"nticks\": 20, \"showgrid\": true, \"showline\": true, \"title\": \"\\u5b8c\\u6210\\u975e\\u6d41\\u6c34\\u7ebf\\u9879\\u76ee\\u6570&\\u5b8c\\u6210\\u8054\\u5408\\u5206\\u6790\\u9879\\u76ee\\u6570&\\u5b8c\\u6210\\u6d41\\u6c34\\u7ebf\\u9879\\u76ee\\u6570&\\u5b8c\\u6210\\u53ea\\u5206\\u6790\\u9879\\u76ee\\u6570\", \"zeroline\": true}}, {\"showLink\": true, \"linkText\": \"Export to plot.ly\"})});</script>"
      ],
      "text/vnd.plotly.v1+html": [
       "<div id=\"9b939253-ea04-4bd7-b9f3-185ad7cdc000\" style=\"height: 525px; width: 100%;\" class=\"plotly-graph-div\"></div><script type=\"text/javascript\">require([\"plotly\"], function(Plotly) { window.PLOTLYENV=window.PLOTLYENV || {};window.PLOTLYENV.BASE_URL=\"https://plot.ly\";Plotly.newPlot(\"9b939253-ea04-4bd7-b9f3-185ad7cdc000\", [{\"name\": \"\\u5b8c\\u6210\\u975e\\u6d41\\u6c34\\u7ebf\\u9879\\u76ee\\u6570\", \"x\": [9, 10], \"y\": [48, 9], \"type\": \"bar\", \"uid\": \"2286bc98-d1b4-11e8-83d9-a81e84e6c740\"}, {\"name\": \"\\u5b8c\\u6210\\u8054\\u5408\\u5206\\u6790\\u9879\\u76ee\\u6570\", \"x\": [9, 10], \"y\": [10, 2], \"type\": \"bar\", \"uid\": \"2286c0da-d1b4-11e8-83d9-a81e84e6c740\"}, {\"name\": \"\\u5b8c\\u6210\\u6d41\\u6c34\\u7ebf\\u9879\\u76ee\\u6570\", \"x\": [9, 10], \"y\": [38, 11], \"type\": \"bar\", \"uid\": \"2286d264-d1b4-11e8-83d9-a81e84e6c740\"}, {\"name\": \"\\u5b8c\\u6210\\u53ea\\u5206\\u6790\\u9879\\u76ee\\u6570\", \"x\": [9, 10], \"y\": [21, 5], \"type\": \"bar\", \"uid\": \"2286d4f8-d1b4-11e8-83d9-a81e84e6c740\"}], {\"barmode\": \"stack\", \"title\": \"\\u9879\\u76ee\\u7ec4\\u6210\\u60c5\\u51b5\", \"xaxis\": {\"mirror\": \"all\", \"nticks\": 20, \"showgrid\": true, \"showline\": true, \"title\": \"\\u6708\", \"type\": \"category\", \"zeroline\": true}, \"yaxis\": {\"mirror\": \"all\", \"nticks\": 20, \"showgrid\": true, \"showline\": true, \"title\": \"\\u5b8c\\u6210\\u975e\\u6d41\\u6c34\\u7ebf\\u9879\\u76ee\\u6570&\\u5b8c\\u6210\\u8054\\u5408\\u5206\\u6790\\u9879\\u76ee\\u6570&\\u5b8c\\u6210\\u6d41\\u6c34\\u7ebf\\u9879\\u76ee\\u6570&\\u5b8c\\u6210\\u53ea\\u5206\\u6790\\u9879\\u76ee\\u6570\", \"zeroline\": true}}, {\"showLink\": true, \"linkText\": \"Export to plot.ly\"})});</script>"
      ]
     },
     "metadata": {},
     "output_type": "display_data"
    }
   ],
   "source": [
    "ss = myModule.format(all_df1 ,\"日期（格式“月-周次”）\" ,['完成流水线项目数','完成非流水线项目数','完成只分析项目数','完成联合分析项目数'])\n",
    "myModule.myPlot(ss.groupby('sum')).plot('stack_bar',fig_title='项目组成情况')\n",
    "ss = myModule.format(all_df1 ,\"month\" ,['完成流水线项目数','完成非流水线项目数','完成只分析项目数','完成联合分析项目数'])\n",
    "myModule.myPlot(ss.groupby('sum')).plot('stack_bar',\"月\",fig_title='项目组成情况')"
   ]
  },
  {
   "cell_type": "markdown",
   "metadata": {},
   "source": [
    "### 各组总完成项目趋势图"
   ]
  },
  {
   "cell_type": "code",
   "execution_count": 49,
   "metadata": {},
   "outputs": [
    {
     "data": {
      "text/plain": [
       "        组别    日期（格式“月-周次”）\n",
       "完成项目总数  个性化组  10-1             9\n",
       "              9-1             18\n",
       "              9-2             14\n",
       "              9-3             13\n",
       "              9-4             14\n",
       "        分析一组  10-1            23\n",
       "              9-1             11\n",
       "              9-2             15\n",
       "              9-3              9\n",
       "              9-4             10\n",
       "        分析二组  10-1            19\n",
       "              9-1             28\n",
       "              9-2             50\n",
       "              9-3             42\n",
       "              9-4             32\n",
       "dtype: int64"
      ]
     },
     "execution_count": 49,
     "metadata": {},
     "output_type": "execute_result"
    }
   ],
   "source": [
    "ss = myModule.format(all_df1 ,\"日期（格式“月-周次”）\" ,['完成项目总数'])\n",
    "ss.add_group('组别')\n",
    "#ss.get_average_by('人员')\n",
    "tt = ss.groupby('sum')\n",
    "tt\n",
    "#myModule.myPlot(ss.groupby('sum')).plot('line')\n",
    "#ss = myModule.format(all_df1 ,\"month\" ,['完成项目总数'])\n",
    "#ss.add_group('组别')\n",
    "#ss.get_average_by('人员')\n",
    "#myModule.myPlot(ss.groupby('sum')).plot('line',\"月\")"
   ]
  },
  {
   "cell_type": "code",
   "execution_count": null,
   "metadata": {
    "collapsed": true
   },
   "outputs": [],
   "source": []
  },
  {
   "cell_type": "markdown",
   "metadata": {},
   "source": [
    "### 各组完成组成比例展示"
   ]
  },
  {
   "cell_type": "code",
   "execution_count": 153,
   "metadata": {},
   "outputs": [
    {
     "data": {
      "application/vnd.plotly.v1+json": {
       "data": [
        {
         "line": {
          "dash": "solid"
         },
         "name": "完成个性化数(分析一组)",
         "type": "scatter",
         "uid": "68aef4f9-d1af-11e8-8ddb-a41f72875c19",
         "x": [
          "10-1",
          "9-1",
          "9-2",
          "9-3",
          "9-4"
         ],
         "y": [
          1.6,
          1.25,
          1,
          0.75,
          1
         ]
        },
        {
         "line": {
          "dash": "dot"
         },
         "name": "完成个性化数(分析二组)",
         "type": "scatter",
         "uid": "68aef4fa-d1af-11e8-8ddb-a41f72875c19",
         "x": [
          "10-1",
          "9-1",
          "9-2",
          "9-3",
          "9-4"
         ],
         "y": [
          2,
          0.8,
          2.1,
          2.5,
          1
         ]
        },
        {
         "line": {
          "dash": "dash"
         },
         "name": "完成个性化数(个性化组)",
         "type": "scatter",
         "uid": "68aef4fb-d1af-11e8-8ddb-a41f72875c19",
         "x": [
          "10-1",
          "9-1",
          "9-2",
          "9-3",
          "9-4"
         ],
         "y": [
          1.6,
          4.5,
          3.5,
          3.25,
          3.5
         ]
        },
        {
         "line": {
          "dash": "solid"
         },
         "name": "完成商业项目数(分析一组)",
         "type": "scatter",
         "uid": "68aef4fc-d1af-11e8-8ddb-a41f72875c19",
         "x": [
          "10-1",
          "9-1",
          "9-2",
          "9-3",
          "9-4"
         ],
         "y": [
          3,
          1.5,
          2.75,
          1.5,
          1.5
         ]
        },
        {
         "line": {
          "dash": "dot"
         },
         "name": "完成商业项目数(分析二组)",
         "type": "scatter",
         "uid": "68aef4fd-d1af-11e8-8ddb-a41f72875c19",
         "x": [
          "10-1",
          "9-1",
          "9-2",
          "9-3",
          "9-4"
         ],
         "y": [
          2.75,
          2,
          2.9,
          1.7,
          2.2
         ]
        },
        {
         "line": {
          "dash": "dash"
         },
         "name": "完成商业项目数(个性化组)",
         "type": "scatter",
         "uid": "68aef4fe-d1af-11e8-8ddb-a41f72875c19",
         "x": [
          "10-1",
          "9-1",
          "9-2",
          "9-3",
          "9-4"
         ],
         "y": [
          0.2,
          0,
          0,
          0,
          0
         ]
        }
       ],
       "layout": {
        "title": "完成个性化数&完成商业项目数周趋势图",
        "xaxis": {
         "mirror": "all",
         "nticks": 20,
         "showgrid": true,
         "showline": true,
         "title": "周",
         "zeroline": true
        },
        "yaxis": {
         "mirror": "all",
         "nticks": 20,
         "showgrid": true,
         "showline": true,
         "title": "完成个性化数&完成商业项目数",
         "zeroline": true
        }
       }
      },
      "text/html": [
       "<div id=\"cd737cb6-058f-4924-ba8a-1f6c4ab7fcee\" style=\"height: 525px; width: 100%;\" class=\"plotly-graph-div\"></div><script type=\"text/javascript\">require([\"plotly\"], function(Plotly) { window.PLOTLYENV=window.PLOTLYENV || {};window.PLOTLYENV.BASE_URL=\"https://plot.ly\";Plotly.newPlot(\"cd737cb6-058f-4924-ba8a-1f6c4ab7fcee\", [{\"line\": {\"dash\": \"solid\"}, \"name\": \"\\u5b8c\\u6210\\u4e2a\\u6027\\u5316\\u6570(\\u5206\\u6790\\u4e00\\u7ec4)\", \"x\": [\"10-1\", \"9-1\", \"9-2\", \"9-3\", \"9-4\"], \"y\": [1.6, 1.25, 1.0, 0.75, 1.0], \"type\": \"scatter\", \"uid\": \"68aef4f9-d1af-11e8-8ddb-a41f72875c19\"}, {\"line\": {\"dash\": \"dot\"}, \"name\": \"\\u5b8c\\u6210\\u4e2a\\u6027\\u5316\\u6570(\\u5206\\u6790\\u4e8c\\u7ec4)\", \"x\": [\"10-1\", \"9-1\", \"9-2\", \"9-3\", \"9-4\"], \"y\": [2.0, 0.8, 2.1, 2.5, 1.0], \"type\": \"scatter\", \"uid\": \"68aef4fa-d1af-11e8-8ddb-a41f72875c19\"}, {\"line\": {\"dash\": \"dash\"}, \"name\": \"\\u5b8c\\u6210\\u4e2a\\u6027\\u5316\\u6570(\\u4e2a\\u6027\\u5316\\u7ec4)\", \"x\": [\"10-1\", \"9-1\", \"9-2\", \"9-3\", \"9-4\"], \"y\": [1.6, 4.5, 3.5, 3.25, 3.5], \"type\": \"scatter\", \"uid\": \"68aef4fb-d1af-11e8-8ddb-a41f72875c19\"}, {\"line\": {\"dash\": \"solid\"}, \"name\": \"\\u5b8c\\u6210\\u5546\\u4e1a\\u9879\\u76ee\\u6570(\\u5206\\u6790\\u4e00\\u7ec4)\", \"x\": [\"10-1\", \"9-1\", \"9-2\", \"9-3\", \"9-4\"], \"y\": [3.0, 1.5, 2.75, 1.5, 1.5], \"type\": \"scatter\", \"uid\": \"68aef4fc-d1af-11e8-8ddb-a41f72875c19\"}, {\"line\": {\"dash\": \"dot\"}, \"name\": \"\\u5b8c\\u6210\\u5546\\u4e1a\\u9879\\u76ee\\u6570(\\u5206\\u6790\\u4e8c\\u7ec4)\", \"x\": [\"10-1\", \"9-1\", \"9-2\", \"9-3\", \"9-4\"], \"y\": [2.75, 2.0, 2.9, 1.7, 2.2], \"type\": \"scatter\", \"uid\": \"68aef4fd-d1af-11e8-8ddb-a41f72875c19\"}, {\"line\": {\"dash\": \"dash\"}, \"name\": \"\\u5b8c\\u6210\\u5546\\u4e1a\\u9879\\u76ee\\u6570(\\u4e2a\\u6027\\u5316\\u7ec4)\", \"x\": [\"10-1\", \"9-1\", \"9-2\", \"9-3\", \"9-4\"], \"y\": [0.2, 0.0, 0.0, 0.0, 0.0], \"type\": \"scatter\", \"uid\": \"68aef4fe-d1af-11e8-8ddb-a41f72875c19\"}], {\"title\": \"\\u5b8c\\u6210\\u4e2a\\u6027\\u5316\\u6570&\\u5b8c\\u6210\\u5546\\u4e1a\\u9879\\u76ee\\u6570\\u5468\\u8d8b\\u52bf\\u56fe\", \"xaxis\": {\"mirror\": \"all\", \"nticks\": 20, \"showgrid\": true, \"showline\": true, \"title\": \"\\u5468\", \"zeroline\": true}, \"yaxis\": {\"mirror\": \"all\", \"nticks\": 20, \"showgrid\": true, \"showline\": true, \"title\": \"\\u5b8c\\u6210\\u4e2a\\u6027\\u5316\\u6570&\\u5b8c\\u6210\\u5546\\u4e1a\\u9879\\u76ee\\u6570\", \"zeroline\": true}}, {\"showLink\": true, \"linkText\": \"Export to plot.ly\"})});</script>"
      ],
      "text/vnd.plotly.v1+html": [
       "<div id=\"cd737cb6-058f-4924-ba8a-1f6c4ab7fcee\" style=\"height: 525px; width: 100%;\" class=\"plotly-graph-div\"></div><script type=\"text/javascript\">require([\"plotly\"], function(Plotly) { window.PLOTLYENV=window.PLOTLYENV || {};window.PLOTLYENV.BASE_URL=\"https://plot.ly\";Plotly.newPlot(\"cd737cb6-058f-4924-ba8a-1f6c4ab7fcee\", [{\"line\": {\"dash\": \"solid\"}, \"name\": \"\\u5b8c\\u6210\\u4e2a\\u6027\\u5316\\u6570(\\u5206\\u6790\\u4e00\\u7ec4)\", \"x\": [\"10-1\", \"9-1\", \"9-2\", \"9-3\", \"9-4\"], \"y\": [1.6, 1.25, 1.0, 0.75, 1.0], \"type\": \"scatter\", \"uid\": \"68aef4f9-d1af-11e8-8ddb-a41f72875c19\"}, {\"line\": {\"dash\": \"dot\"}, \"name\": \"\\u5b8c\\u6210\\u4e2a\\u6027\\u5316\\u6570(\\u5206\\u6790\\u4e8c\\u7ec4)\", \"x\": [\"10-1\", \"9-1\", \"9-2\", \"9-3\", \"9-4\"], \"y\": [2.0, 0.8, 2.1, 2.5, 1.0], \"type\": \"scatter\", \"uid\": \"68aef4fa-d1af-11e8-8ddb-a41f72875c19\"}, {\"line\": {\"dash\": \"dash\"}, \"name\": \"\\u5b8c\\u6210\\u4e2a\\u6027\\u5316\\u6570(\\u4e2a\\u6027\\u5316\\u7ec4)\", \"x\": [\"10-1\", \"9-1\", \"9-2\", \"9-3\", \"9-4\"], \"y\": [1.6, 4.5, 3.5, 3.25, 3.5], \"type\": \"scatter\", \"uid\": \"68aef4fb-d1af-11e8-8ddb-a41f72875c19\"}, {\"line\": {\"dash\": \"solid\"}, \"name\": \"\\u5b8c\\u6210\\u5546\\u4e1a\\u9879\\u76ee\\u6570(\\u5206\\u6790\\u4e00\\u7ec4)\", \"x\": [\"10-1\", \"9-1\", \"9-2\", \"9-3\", \"9-4\"], \"y\": [3.0, 1.5, 2.75, 1.5, 1.5], \"type\": \"scatter\", \"uid\": \"68aef4fc-d1af-11e8-8ddb-a41f72875c19\"}, {\"line\": {\"dash\": \"dot\"}, \"name\": \"\\u5b8c\\u6210\\u5546\\u4e1a\\u9879\\u76ee\\u6570(\\u5206\\u6790\\u4e8c\\u7ec4)\", \"x\": [\"10-1\", \"9-1\", \"9-2\", \"9-3\", \"9-4\"], \"y\": [2.75, 2.0, 2.9, 1.7, 2.2], \"type\": \"scatter\", \"uid\": \"68aef4fd-d1af-11e8-8ddb-a41f72875c19\"}, {\"line\": {\"dash\": \"dash\"}, \"name\": \"\\u5b8c\\u6210\\u5546\\u4e1a\\u9879\\u76ee\\u6570(\\u4e2a\\u6027\\u5316\\u7ec4)\", \"x\": [\"10-1\", \"9-1\", \"9-2\", \"9-3\", \"9-4\"], \"y\": [0.2, 0.0, 0.0, 0.0, 0.0], \"type\": \"scatter\", \"uid\": \"68aef4fe-d1af-11e8-8ddb-a41f72875c19\"}], {\"title\": \"\\u5b8c\\u6210\\u4e2a\\u6027\\u5316\\u6570&\\u5b8c\\u6210\\u5546\\u4e1a\\u9879\\u76ee\\u6570\\u5468\\u8d8b\\u52bf\\u56fe\", \"xaxis\": {\"mirror\": \"all\", \"nticks\": 20, \"showgrid\": true, \"showline\": true, \"title\": \"\\u5468\", \"zeroline\": true}, \"yaxis\": {\"mirror\": \"all\", \"nticks\": 20, \"showgrid\": true, \"showline\": true, \"title\": \"\\u5b8c\\u6210\\u4e2a\\u6027\\u5316\\u6570&\\u5b8c\\u6210\\u5546\\u4e1a\\u9879\\u76ee\\u6570\", \"zeroline\": true}}, {\"showLink\": true, \"linkText\": \"Export to plot.ly\"})});</script>"
      ]
     },
     "metadata": {},
     "output_type": "display_data"
    }
   ],
   "source": [
    "ss = myModule.format(all_df1 ,\"日期（格式“月-周次”）\" ,['完成商业项目数','完成个性化数'])\n",
    "ss.add_group('组别')\n",
    "ss.get_average_by('人员')\n",
    "myModule.myPlot(ss.groupby('sum')).plot('line')\n",
    "#ss = myModule.format(all_df1 ,\"month\" ,['完成商业项目数','完成个性化数'])\n",
    "#ss.add_group('组别')\n",
    "#myModule.myPlot(ss.groupby('sum')).plot('line',\"月\")"
   ]
  },
  {
   "cell_type": "markdown",
   "metadata": {},
   "source": [
    "## 人均完成情况"
   ]
  },
  {
   "cell_type": "markdown",
   "metadata": {},
   "source": [
    "### 分析组人均产能情况"
   ]
  },
  {
   "cell_type": "code",
   "execution_count": 154,
   "metadata": {},
   "outputs": [
    {
     "data": {
      "application/vnd.plotly.v1+json": {
       "data": [
        {
         "name": "完成个性化数",
         "type": "scatter",
         "uid": "68aef4ff-d1af-11e8-8ddb-a41f72875c19",
         "x": [
          "10-1",
          "9-1",
          "9-2",
          "9-3",
          "9-4"
         ],
         "y": [
          1.7142857142857142,
          1.7222222222222223,
          2.1666666666666665,
          2.2777777777777777,
          1.5555555555555556
         ]
        },
        {
         "name": "完成商业项目数",
         "type": "scatter",
         "uid": "68aef500-d1af-11e8-8ddb-a41f72875c19",
         "x": [
          "10-1",
          "9-1",
          "9-2",
          "9-3",
          "9-4"
         ],
         "y": [
          1.9285714285714286,
          1.4444444444444444,
          2.2222222222222223,
          1.2777777777777777,
          1.5555555555555556
         ]
        },
        {
         "name": "完成项目总数",
         "type": "scatter",
         "uid": "68aef501-d1af-11e8-8ddb-a41f72875c19",
         "x": [
          "10-1",
          "9-1",
          "9-2",
          "9-3",
          "9-4"
         ],
         "y": [
          3.642857142857143,
          3.1666666666666665,
          4.388888888888889,
          3.5555555555555554,
          3.111111111111111
         ]
        }
       ],
       "layout": {
        "title": "完成个性化数&完成商业项目数&完成项目总数周趋势图",
        "xaxis": {
         "mirror": "all",
         "nticks": 20,
         "showgrid": true,
         "showline": true,
         "title": "周",
         "zeroline": true
        },
        "yaxis": {
         "mirror": "all",
         "nticks": 20,
         "showgrid": true,
         "showline": true,
         "title": "完成个性化数&完成商业项目数&完成项目总数",
         "zeroline": true
        }
       }
      },
      "text/html": [
       "<div id=\"cc9dbe35-5c40-421f-a2e1-ae65653371e7\" style=\"height: 525px; width: 100%;\" class=\"plotly-graph-div\"></div><script type=\"text/javascript\">require([\"plotly\"], function(Plotly) { window.PLOTLYENV=window.PLOTLYENV || {};window.PLOTLYENV.BASE_URL=\"https://plot.ly\";Plotly.newPlot(\"cc9dbe35-5c40-421f-a2e1-ae65653371e7\", [{\"name\": \"\\u5b8c\\u6210\\u4e2a\\u6027\\u5316\\u6570\", \"x\": [\"10-1\", \"9-1\", \"9-2\", \"9-3\", \"9-4\"], \"y\": [1.7142857142857142, 1.7222222222222223, 2.1666666666666665, 2.2777777777777777, 1.5555555555555556], \"type\": \"scatter\", \"uid\": \"68aef4ff-d1af-11e8-8ddb-a41f72875c19\"}, {\"name\": \"\\u5b8c\\u6210\\u5546\\u4e1a\\u9879\\u76ee\\u6570\", \"x\": [\"10-1\", \"9-1\", \"9-2\", \"9-3\", \"9-4\"], \"y\": [1.9285714285714286, 1.4444444444444444, 2.2222222222222223, 1.2777777777777777, 1.5555555555555556], \"type\": \"scatter\", \"uid\": \"68aef500-d1af-11e8-8ddb-a41f72875c19\"}, {\"name\": \"\\u5b8c\\u6210\\u9879\\u76ee\\u603b\\u6570\", \"x\": [\"10-1\", \"9-1\", \"9-2\", \"9-3\", \"9-4\"], \"y\": [3.642857142857143, 3.1666666666666665, 4.388888888888889, 3.5555555555555554, 3.111111111111111], \"type\": \"scatter\", \"uid\": \"68aef501-d1af-11e8-8ddb-a41f72875c19\"}], {\"title\": \"\\u5b8c\\u6210\\u4e2a\\u6027\\u5316\\u6570&\\u5b8c\\u6210\\u5546\\u4e1a\\u9879\\u76ee\\u6570&\\u5b8c\\u6210\\u9879\\u76ee\\u603b\\u6570\\u5468\\u8d8b\\u52bf\\u56fe\", \"xaxis\": {\"mirror\": \"all\", \"nticks\": 20, \"showgrid\": true, \"showline\": true, \"title\": \"\\u5468\", \"zeroline\": true}, \"yaxis\": {\"mirror\": \"all\", \"nticks\": 20, \"showgrid\": true, \"showline\": true, \"title\": \"\\u5b8c\\u6210\\u4e2a\\u6027\\u5316\\u6570&\\u5b8c\\u6210\\u5546\\u4e1a\\u9879\\u76ee\\u6570&\\u5b8c\\u6210\\u9879\\u76ee\\u603b\\u6570\", \"zeroline\": true}}, {\"showLink\": true, \"linkText\": \"Export to plot.ly\"})});</script>"
      ],
      "text/vnd.plotly.v1+html": [
       "<div id=\"cc9dbe35-5c40-421f-a2e1-ae65653371e7\" style=\"height: 525px; width: 100%;\" class=\"plotly-graph-div\"></div><script type=\"text/javascript\">require([\"plotly\"], function(Plotly) { window.PLOTLYENV=window.PLOTLYENV || {};window.PLOTLYENV.BASE_URL=\"https://plot.ly\";Plotly.newPlot(\"cc9dbe35-5c40-421f-a2e1-ae65653371e7\", [{\"name\": \"\\u5b8c\\u6210\\u4e2a\\u6027\\u5316\\u6570\", \"x\": [\"10-1\", \"9-1\", \"9-2\", \"9-3\", \"9-4\"], \"y\": [1.7142857142857142, 1.7222222222222223, 2.1666666666666665, 2.2777777777777777, 1.5555555555555556], \"type\": \"scatter\", \"uid\": \"68aef4ff-d1af-11e8-8ddb-a41f72875c19\"}, {\"name\": \"\\u5b8c\\u6210\\u5546\\u4e1a\\u9879\\u76ee\\u6570\", \"x\": [\"10-1\", \"9-1\", \"9-2\", \"9-3\", \"9-4\"], \"y\": [1.9285714285714286, 1.4444444444444444, 2.2222222222222223, 1.2777777777777777, 1.5555555555555556], \"type\": \"scatter\", \"uid\": \"68aef500-d1af-11e8-8ddb-a41f72875c19\"}, {\"name\": \"\\u5b8c\\u6210\\u9879\\u76ee\\u603b\\u6570\", \"x\": [\"10-1\", \"9-1\", \"9-2\", \"9-3\", \"9-4\"], \"y\": [3.642857142857143, 3.1666666666666665, 4.388888888888889, 3.5555555555555554, 3.111111111111111], \"type\": \"scatter\", \"uid\": \"68aef501-d1af-11e8-8ddb-a41f72875c19\"}], {\"title\": \"\\u5b8c\\u6210\\u4e2a\\u6027\\u5316\\u6570&\\u5b8c\\u6210\\u5546\\u4e1a\\u9879\\u76ee\\u6570&\\u5b8c\\u6210\\u9879\\u76ee\\u603b\\u6570\\u5468\\u8d8b\\u52bf\\u56fe\", \"xaxis\": {\"mirror\": \"all\", \"nticks\": 20, \"showgrid\": true, \"showline\": true, \"title\": \"\\u5468\", \"zeroline\": true}, \"yaxis\": {\"mirror\": \"all\", \"nticks\": 20, \"showgrid\": true, \"showline\": true, \"title\": \"\\u5b8c\\u6210\\u4e2a\\u6027\\u5316\\u6570&\\u5b8c\\u6210\\u5546\\u4e1a\\u9879\\u76ee\\u6570&\\u5b8c\\u6210\\u9879\\u76ee\\u603b\\u6570\", \"zeroline\": true}}, {\"showLink\": true, \"linkText\": \"Export to plot.ly\"})});</script>"
      ]
     },
     "metadata": {},
     "output_type": "display_data"
    }
   ],
   "source": [
    "ss = myModule.format(all_df1 ,\"日期（格式“月-周次”）\" ,['完成项目总数','完成商业项目数','完成个性化数'])\n",
    "ss.get_average_by('人员')\n",
    "myModule.myPlot(ss.groupby('sum')).df\n",
    "myModule.myPlot(ss.groupby('sum')).plot('line')\n",
    "#ss = myModule.format(all_df1 ,\"month\" ,['完成项目总数','完成商业项目数','完成个性化数'])\n",
    "#ss.get_average_by('人员')\n",
    "#myModule.myPlot(ss.groupby('sum')).plot('line')"
   ]
  },
  {
   "cell_type": "markdown",
   "metadata": {},
   "source": [
    "### 各组人均完成项目数情况"
   ]
  },
  {
   "cell_type": "code",
   "execution_count": 155,
   "metadata": {},
   "outputs": [
    {
     "data": {
      "application/vnd.plotly.v1+json": {
       "data": [
        {
         "line": {
          "dash": "solid"
         },
         "name": "完成项目总数(分析一组)",
         "type": "scatter",
         "uid": "68aef502-d1af-11e8-8ddb-a41f72875c19",
         "x": [
          "10-1",
          "9-1",
          "9-2",
          "9-3",
          "9-4"
         ],
         "y": [
          4.6,
          2.75,
          3.75,
          2.25,
          2.5
         ]
        },
        {
         "line": {
          "dash": "dot"
         },
         "name": "完成项目总数(分析二组)",
         "type": "scatter",
         "uid": "68aef503-d1af-11e8-8ddb-a41f72875c19",
         "x": [
          "10-1",
          "9-1",
          "9-2",
          "9-3",
          "9-4"
         ],
         "y": [
          4.75,
          2.8,
          5,
          4.2,
          3.2
         ]
        },
        {
         "line": {
          "dash": "dash"
         },
         "name": "完成项目总数(个性化组)",
         "type": "scatter",
         "uid": "68aef504-d1af-11e8-8ddb-a41f72875c19",
         "x": [
          "10-1",
          "9-1",
          "9-2",
          "9-3",
          "9-4"
         ],
         "y": [
          1.8,
          4.5,
          3.5,
          3.25,
          3.5
         ]
        }
       ],
       "layout": {
        "title": "完成项目总数周趋势图",
        "xaxis": {
         "mirror": "all",
         "nticks": 20,
         "showgrid": true,
         "showline": true,
         "title": "周",
         "zeroline": true
        },
        "yaxis": {
         "mirror": "all",
         "nticks": 20,
         "showgrid": true,
         "showline": true,
         "title": "完成项目总数",
         "zeroline": true
        }
       }
      },
      "text/html": [
       "<div id=\"b83ea489-cbb7-42b0-9bdf-a69e6f124f6c\" style=\"height: 525px; width: 100%;\" class=\"plotly-graph-div\"></div><script type=\"text/javascript\">require([\"plotly\"], function(Plotly) { window.PLOTLYENV=window.PLOTLYENV || {};window.PLOTLYENV.BASE_URL=\"https://plot.ly\";Plotly.newPlot(\"b83ea489-cbb7-42b0-9bdf-a69e6f124f6c\", [{\"line\": {\"dash\": \"solid\"}, \"name\": \"\\u5b8c\\u6210\\u9879\\u76ee\\u603b\\u6570(\\u5206\\u6790\\u4e00\\u7ec4)\", \"x\": [\"10-1\", \"9-1\", \"9-2\", \"9-3\", \"9-4\"], \"y\": [4.6, 2.75, 3.75, 2.25, 2.5], \"type\": \"scatter\", \"uid\": \"68aef502-d1af-11e8-8ddb-a41f72875c19\"}, {\"line\": {\"dash\": \"dot\"}, \"name\": \"\\u5b8c\\u6210\\u9879\\u76ee\\u603b\\u6570(\\u5206\\u6790\\u4e8c\\u7ec4)\", \"x\": [\"10-1\", \"9-1\", \"9-2\", \"9-3\", \"9-4\"], \"y\": [4.75, 2.8, 5.0, 4.2, 3.2], \"type\": \"scatter\", \"uid\": \"68aef503-d1af-11e8-8ddb-a41f72875c19\"}, {\"line\": {\"dash\": \"dash\"}, \"name\": \"\\u5b8c\\u6210\\u9879\\u76ee\\u603b\\u6570(\\u4e2a\\u6027\\u5316\\u7ec4)\", \"x\": [\"10-1\", \"9-1\", \"9-2\", \"9-3\", \"9-4\"], \"y\": [1.8, 4.5, 3.5, 3.25, 3.5], \"type\": \"scatter\", \"uid\": \"68aef504-d1af-11e8-8ddb-a41f72875c19\"}], {\"title\": \"\\u5b8c\\u6210\\u9879\\u76ee\\u603b\\u6570\\u5468\\u8d8b\\u52bf\\u56fe\", \"xaxis\": {\"mirror\": \"all\", \"nticks\": 20, \"showgrid\": true, \"showline\": true, \"title\": \"\\u5468\", \"zeroline\": true}, \"yaxis\": {\"mirror\": \"all\", \"nticks\": 20, \"showgrid\": true, \"showline\": true, \"title\": \"\\u5b8c\\u6210\\u9879\\u76ee\\u603b\\u6570\", \"zeroline\": true}}, {\"showLink\": true, \"linkText\": \"Export to plot.ly\"})});</script>"
      ],
      "text/vnd.plotly.v1+html": [
       "<div id=\"b83ea489-cbb7-42b0-9bdf-a69e6f124f6c\" style=\"height: 525px; width: 100%;\" class=\"plotly-graph-div\"></div><script type=\"text/javascript\">require([\"plotly\"], function(Plotly) { window.PLOTLYENV=window.PLOTLYENV || {};window.PLOTLYENV.BASE_URL=\"https://plot.ly\";Plotly.newPlot(\"b83ea489-cbb7-42b0-9bdf-a69e6f124f6c\", [{\"line\": {\"dash\": \"solid\"}, \"name\": \"\\u5b8c\\u6210\\u9879\\u76ee\\u603b\\u6570(\\u5206\\u6790\\u4e00\\u7ec4)\", \"x\": [\"10-1\", \"9-1\", \"9-2\", \"9-3\", \"9-4\"], \"y\": [4.6, 2.75, 3.75, 2.25, 2.5], \"type\": \"scatter\", \"uid\": \"68aef502-d1af-11e8-8ddb-a41f72875c19\"}, {\"line\": {\"dash\": \"dot\"}, \"name\": \"\\u5b8c\\u6210\\u9879\\u76ee\\u603b\\u6570(\\u5206\\u6790\\u4e8c\\u7ec4)\", \"x\": [\"10-1\", \"9-1\", \"9-2\", \"9-3\", \"9-4\"], \"y\": [4.75, 2.8, 5.0, 4.2, 3.2], \"type\": \"scatter\", \"uid\": \"68aef503-d1af-11e8-8ddb-a41f72875c19\"}, {\"line\": {\"dash\": \"dash\"}, \"name\": \"\\u5b8c\\u6210\\u9879\\u76ee\\u603b\\u6570(\\u4e2a\\u6027\\u5316\\u7ec4)\", \"x\": [\"10-1\", \"9-1\", \"9-2\", \"9-3\", \"9-4\"], \"y\": [1.8, 4.5, 3.5, 3.25, 3.5], \"type\": \"scatter\", \"uid\": \"68aef504-d1af-11e8-8ddb-a41f72875c19\"}], {\"title\": \"\\u5b8c\\u6210\\u9879\\u76ee\\u603b\\u6570\\u5468\\u8d8b\\u52bf\\u56fe\", \"xaxis\": {\"mirror\": \"all\", \"nticks\": 20, \"showgrid\": true, \"showline\": true, \"title\": \"\\u5468\", \"zeroline\": true}, \"yaxis\": {\"mirror\": \"all\", \"nticks\": 20, \"showgrid\": true, \"showline\": true, \"title\": \"\\u5b8c\\u6210\\u9879\\u76ee\\u603b\\u6570\", \"zeroline\": true}}, {\"showLink\": true, \"linkText\": \"Export to plot.ly\"})});</script>"
      ]
     },
     "metadata": {},
     "output_type": "display_data"
    }
   ],
   "source": [
    "ss = myModule.format(all_df1 ,\"日期（格式“月-周次”）\" ,['完成项目总数'])\n",
    "ss.add_group('组别')\n",
    "ss.get_average_by('人员')\n",
    "#ss.df\n",
    "myModule.myPlot(ss.groupby('sum')).df\n",
    "myModule.myPlot(ss.groupby('sum')).plot('line')\n",
    "#ss = myModule.format(all_df1 ,\"month\" ,['完成项目总数'])\n",
    "#ss.add_group('组别')\n",
    "#ss.get_average_by('人员')\n",
    "#myModule.myPlot(ss.groupby('sum')).plot('line','月')"
   ]
  },
  {
   "cell_type": "markdown",
   "metadata": {},
   "source": [
    "## 具体人员效能情况"
   ]
  },
  {
   "cell_type": "code",
   "execution_count": 156,
   "metadata": {},
   "outputs": [
    {
     "data": {
      "application/vnd.plotly.v1+json": {
       "data": [
        {
         "name": "完成项目总数",
         "type": "scatter",
         "uid": "68aef505-d1af-11e8-8ddb-a41f72875c19",
         "x": [
          "10-1",
          "9-1",
          "9-2",
          "9-3",
          "9-4"
         ],
         "y": [
          51,
          57,
          79,
          64,
          56
         ]
        }
       ],
       "layout": {
        "title": "完成项目总数周趋势图",
        "xaxis": {
         "mirror": "all",
         "nticks": 20,
         "showgrid": true,
         "showline": true,
         "title": "周",
         "zeroline": true
        },
        "yaxis": {
         "mirror": "all",
         "nticks": 20,
         "showgrid": true,
         "showline": true,
         "title": "完成项目总数",
         "zeroline": true
        }
       }
      },
      "text/html": [
       "<div id=\"ae4223d6-f87e-4bea-b8e1-7e57e6e484ea\" style=\"height: 525px; width: 100%;\" class=\"plotly-graph-div\"></div><script type=\"text/javascript\">require([\"plotly\"], function(Plotly) { window.PLOTLYENV=window.PLOTLYENV || {};window.PLOTLYENV.BASE_URL=\"https://plot.ly\";Plotly.newPlot(\"ae4223d6-f87e-4bea-b8e1-7e57e6e484ea\", [{\"name\": \"\\u5b8c\\u6210\\u9879\\u76ee\\u603b\\u6570\", \"x\": [\"10-1\", \"9-1\", \"9-2\", \"9-3\", \"9-4\"], \"y\": [51, 57, 79, 64, 56], \"type\": \"scatter\", \"uid\": \"68aef505-d1af-11e8-8ddb-a41f72875c19\"}], {\"title\": \"\\u5b8c\\u6210\\u9879\\u76ee\\u603b\\u6570\\u5468\\u8d8b\\u52bf\\u56fe\", \"xaxis\": {\"mirror\": \"all\", \"nticks\": 20, \"showgrid\": true, \"showline\": true, \"title\": \"\\u5468\", \"zeroline\": true}, \"yaxis\": {\"mirror\": \"all\", \"nticks\": 20, \"showgrid\": true, \"showline\": true, \"title\": \"\\u5b8c\\u6210\\u9879\\u76ee\\u603b\\u6570\", \"zeroline\": true}}, {\"showLink\": true, \"linkText\": \"Export to plot.ly\"})});</script>"
      ],
      "text/vnd.plotly.v1+html": [
       "<div id=\"ae4223d6-f87e-4bea-b8e1-7e57e6e484ea\" style=\"height: 525px; width: 100%;\" class=\"plotly-graph-div\"></div><script type=\"text/javascript\">require([\"plotly\"], function(Plotly) { window.PLOTLYENV=window.PLOTLYENV || {};window.PLOTLYENV.BASE_URL=\"https://plot.ly\";Plotly.newPlot(\"ae4223d6-f87e-4bea-b8e1-7e57e6e484ea\", [{\"name\": \"\\u5b8c\\u6210\\u9879\\u76ee\\u603b\\u6570\", \"x\": [\"10-1\", \"9-1\", \"9-2\", \"9-3\", \"9-4\"], \"y\": [51, 57, 79, 64, 56], \"type\": \"scatter\", \"uid\": \"68aef505-d1af-11e8-8ddb-a41f72875c19\"}], {\"title\": \"\\u5b8c\\u6210\\u9879\\u76ee\\u603b\\u6570\\u5468\\u8d8b\\u52bf\\u56fe\", \"xaxis\": {\"mirror\": \"all\", \"nticks\": 20, \"showgrid\": true, \"showline\": true, \"title\": \"\\u5468\", \"zeroline\": true}, \"yaxis\": {\"mirror\": \"all\", \"nticks\": 20, \"showgrid\": true, \"showline\": true, \"title\": \"\\u5b8c\\u6210\\u9879\\u76ee\\u603b\\u6570\", \"zeroline\": true}}, {\"showLink\": true, \"linkText\": \"Export to plot.ly\"})});</script>"
      ]
     },
     "metadata": {},
     "output_type": "display_data"
    },
    {
     "data": {
      "application/vnd.plotly.v1+json": {
       "data": [
        {
         "name": "完成项目总数",
         "type": "scatter",
         "uid": "68aef506-d1af-11e8-8ddb-a41f72875c19",
         "x": [
          9,
          10
         ],
         "y": [
          256,
          51
         ]
        }
       ],
       "layout": {
        "title": "完成项目总数月趋势图",
        "xaxis": {
         "mirror": "all",
         "nticks": 20,
         "showgrid": true,
         "showline": true,
         "title": "月",
         "zeroline": true
        },
        "yaxis": {
         "mirror": "all",
         "nticks": 20,
         "showgrid": true,
         "showline": true,
         "title": "完成项目总数",
         "zeroline": true
        }
       }
      },
      "text/html": [
       "<div id=\"b2c8a2d7-1784-4e4f-b6f5-ed0095b7aa1f\" style=\"height: 525px; width: 100%;\" class=\"plotly-graph-div\"></div><script type=\"text/javascript\">require([\"plotly\"], function(Plotly) { window.PLOTLYENV=window.PLOTLYENV || {};window.PLOTLYENV.BASE_URL=\"https://plot.ly\";Plotly.newPlot(\"b2c8a2d7-1784-4e4f-b6f5-ed0095b7aa1f\", [{\"name\": \"\\u5b8c\\u6210\\u9879\\u76ee\\u603b\\u6570\", \"x\": [9, 10], \"y\": [256, 51], \"type\": \"scatter\", \"uid\": \"68aef506-d1af-11e8-8ddb-a41f72875c19\"}], {\"title\": \"\\u5b8c\\u6210\\u9879\\u76ee\\u603b\\u6570\\u6708\\u8d8b\\u52bf\\u56fe\", \"xaxis\": {\"mirror\": \"all\", \"nticks\": 20, \"showgrid\": true, \"showline\": true, \"title\": \"\\u6708\", \"zeroline\": true}, \"yaxis\": {\"mirror\": \"all\", \"nticks\": 20, \"showgrid\": true, \"showline\": true, \"title\": \"\\u5b8c\\u6210\\u9879\\u76ee\\u603b\\u6570\", \"zeroline\": true}}, {\"showLink\": true, \"linkText\": \"Export to plot.ly\"})});</script>"
      ],
      "text/vnd.plotly.v1+html": [
       "<div id=\"b2c8a2d7-1784-4e4f-b6f5-ed0095b7aa1f\" style=\"height: 525px; width: 100%;\" class=\"plotly-graph-div\"></div><script type=\"text/javascript\">require([\"plotly\"], function(Plotly) { window.PLOTLYENV=window.PLOTLYENV || {};window.PLOTLYENV.BASE_URL=\"https://plot.ly\";Plotly.newPlot(\"b2c8a2d7-1784-4e4f-b6f5-ed0095b7aa1f\", [{\"name\": \"\\u5b8c\\u6210\\u9879\\u76ee\\u603b\\u6570\", \"x\": [9, 10], \"y\": [256, 51], \"type\": \"scatter\", \"uid\": \"68aef506-d1af-11e8-8ddb-a41f72875c19\"}], {\"title\": \"\\u5b8c\\u6210\\u9879\\u76ee\\u603b\\u6570\\u6708\\u8d8b\\u52bf\\u56fe\", \"xaxis\": {\"mirror\": \"all\", \"nticks\": 20, \"showgrid\": true, \"showline\": true, \"title\": \"\\u6708\", \"zeroline\": true}, \"yaxis\": {\"mirror\": \"all\", \"nticks\": 20, \"showgrid\": true, \"showline\": true, \"title\": \"\\u5b8c\\u6210\\u9879\\u76ee\\u603b\\u6570\", \"zeroline\": true}}, {\"showLink\": true, \"linkText\": \"Export to plot.ly\"})});</script>"
      ]
     },
     "metadata": {},
     "output_type": "display_data"
    }
   ],
   "source": [
    "ss = myModule.format(all_df1 ,\"日期（格式“月-周次”）\" ,['完成项目总数'])\n",
    "#ss.add_group('人员')\n",
    "#ss.get_average_by('人员')\n",
    "myModule.myPlot(ss.groupby('sum')).plot('line')\n",
    "ss = myModule.format(all_df1 ,\"month\" ,['完成项目总数'])\n",
    "#ss.add_group('人员')\n",
    "#ss.get_average_by('人员')\n",
    "myModule.myPlot(ss.groupby('sum')).plot('line','月')"
   ]
  },
  {
   "cell_type": "markdown",
   "metadata": {},
   "source": [
    "### 优秀人员"
   ]
  },
  {
   "cell_type": "markdown",
   "metadata": {},
   "source": [
    "* 总完成项目数目位于上四位分数"
   ]
  },
  {
   "cell_type": "code",
   "execution_count": 157,
   "metadata": {},
   "outputs": [
    {
     "data": {
      "text/html": [
       "<div>\n",
       "<style scoped>\n",
       "    .dataframe tbody tr th:only-of-type {\n",
       "        vertical-align: middle;\n",
       "    }\n",
       "\n",
       "    .dataframe tbody tr th {\n",
       "        vertical-align: top;\n",
       "    }\n",
       "\n",
       "    .dataframe thead th {\n",
       "        text-align: right;\n",
       "    }\n",
       "</style>\n",
       "<table border=\"1\" class=\"dataframe\">\n",
       "  <thead>\n",
       "    <tr style=\"text-align: right;\">\n",
       "      <th></th>\n",
       "      <th>完成个性化数</th>\n",
       "    </tr>\n",
       "    <tr>\n",
       "      <th>人员</th>\n",
       "      <th></th>\n",
       "    </tr>\n",
       "  </thead>\n",
       "  <tbody>\n",
       "    <tr>\n",
       "      <th>卢楠</th>\n",
       "      <td>0</td>\n",
       "    </tr>\n",
       "    <tr>\n",
       "      <th>施毓芷</th>\n",
       "      <td>0</td>\n",
       "    </tr>\n",
       "    <tr>\n",
       "      <th>李晓波</th>\n",
       "      <td>0</td>\n",
       "    </tr>\n",
       "    <tr>\n",
       "      <th>靳甜甜</th>\n",
       "      <td>0</td>\n",
       "    </tr>\n",
       "    <tr>\n",
       "      <th>宋少宇</th>\n",
       "      <td>1</td>\n",
       "    </tr>\n",
       "    <tr>\n",
       "      <th>解飞</th>\n",
       "      <td>1</td>\n",
       "    </tr>\n",
       "    <tr>\n",
       "      <th>刘永强</th>\n",
       "      <td>2</td>\n",
       "    </tr>\n",
       "    <tr>\n",
       "      <th>昶吉阳</th>\n",
       "      <td>3</td>\n",
       "    </tr>\n",
       "    <tr>\n",
       "      <th>马潇</th>\n",
       "      <td>6</td>\n",
       "    </tr>\n",
       "    <tr>\n",
       "      <th>段利强</th>\n",
       "      <td>7</td>\n",
       "    </tr>\n",
       "    <tr>\n",
       "      <th>杨宇</th>\n",
       "      <td>9</td>\n",
       "    </tr>\n",
       "    <tr>\n",
       "      <th>王霞</th>\n",
       "      <td>9</td>\n",
       "    </tr>\n",
       "    <tr>\n",
       "      <th>闻少楠</th>\n",
       "      <td>9</td>\n",
       "    </tr>\n",
       "    <tr>\n",
       "      <th>陈碧雯</th>\n",
       "      <td>11</td>\n",
       "    </tr>\n",
       "    <tr>\n",
       "      <th>刘梦苑</th>\n",
       "      <td>12</td>\n",
       "    </tr>\n",
       "    <tr>\n",
       "      <th>陈鹏燕</th>\n",
       "      <td>12</td>\n",
       "    </tr>\n",
       "  </tbody>\n",
       "</table>\n",
       "</div>"
      ],
      "text/plain": [
       "     完成个性化数\n",
       "人员         \n",
       "卢楠        0\n",
       "施毓芷       0\n",
       "李晓波       0\n",
       "靳甜甜       0\n",
       "宋少宇       1\n",
       "解飞        1\n",
       "刘永强       2\n",
       "昶吉阳       3\n",
       "马潇        6\n",
       "段利强       7\n",
       "杨宇        9\n",
       "王霞        9\n",
       "闻少楠       9\n",
       "陈碧雯      11\n",
       "刘梦苑      12\n",
       "陈鹏燕      12"
      ]
     },
     "execution_count": 157,
     "metadata": {},
     "output_type": "execute_result"
    }
   ],
   "source": [
    "myModule.get_rank(all_df1 , '人员' ,'完成个性化数', quantile=0.8, compare='<' )"
   ]
  },
  {
   "cell_type": "markdown",
   "metadata": {},
   "source": [
    "* 近3期，总完成项目数位于上四分位数"
   ]
  },
  {
   "cell_type": "code",
   "execution_count": 158,
   "metadata": {},
   "outputs": [
    {
     "data": {
      "text/html": [
       "<div>\n",
       "<style scoped>\n",
       "    .dataframe tbody tr th:only-of-type {\n",
       "        vertical-align: middle;\n",
       "    }\n",
       "\n",
       "    .dataframe tbody tr th {\n",
       "        vertical-align: top;\n",
       "    }\n",
       "\n",
       "    .dataframe thead th {\n",
       "        text-align: right;\n",
       "    }\n",
       "</style>\n",
       "<table border=\"1\" class=\"dataframe\">\n",
       "  <thead>\n",
       "    <tr style=\"text-align: right;\">\n",
       "      <th></th>\n",
       "      <th>完成项目总数</th>\n",
       "    </tr>\n",
       "    <tr>\n",
       "      <th>人员</th>\n",
       "      <th></th>\n",
       "    </tr>\n",
       "  </thead>\n",
       "  <tbody>\n",
       "    <tr>\n",
       "      <th>杨宇</th>\n",
       "      <td>24</td>\n",
       "    </tr>\n",
       "    <tr>\n",
       "      <th>陈碧雯</th>\n",
       "      <td>21</td>\n",
       "    </tr>\n",
       "    <tr>\n",
       "      <th>赵倩</th>\n",
       "      <td>20</td>\n",
       "    </tr>\n",
       "    <tr>\n",
       "      <th>马潇</th>\n",
       "      <td>19</td>\n",
       "    </tr>\n",
       "    <tr>\n",
       "      <th>何胜</th>\n",
       "      <td>18</td>\n",
       "    </tr>\n",
       "  </tbody>\n",
       "</table>\n",
       "</div>"
      ],
      "text/plain": [
       "     完成项目总数\n",
       "人员         \n",
       "杨宇       24\n",
       "陈碧雯      21\n",
       "赵倩       20\n",
       "马潇       19\n",
       "何胜       18"
      ]
     },
     "execution_count": 158,
     "metadata": {},
     "output_type": "execute_result"
    }
   ],
   "source": [
    "myModule.get_rank(all_df1 , '人员' ,'完成项目总数', 3, quantile=0.75, compare='>')"
   ]
  },
  {
   "cell_type": "code",
   "execution_count": 159,
   "metadata": {},
   "outputs": [
    {
     "data": {
      "text/html": [
       "<div>\n",
       "<style scoped>\n",
       "    .dataframe tbody tr th:only-of-type {\n",
       "        vertical-align: middle;\n",
       "    }\n",
       "\n",
       "    .dataframe tbody tr th {\n",
       "        vertical-align: top;\n",
       "    }\n",
       "\n",
       "    .dataframe thead th {\n",
       "        text-align: right;\n",
       "    }\n",
       "</style>\n",
       "<table border=\"1\" class=\"dataframe\">\n",
       "  <thead>\n",
       "    <tr style=\"text-align: right;\">\n",
       "      <th>日期（格式“月-周次”）</th>\n",
       "      <th>9-2</th>\n",
       "      <th>9-3</th>\n",
       "      <th>9-4</th>\n",
       "    </tr>\n",
       "    <tr>\n",
       "      <th>人员</th>\n",
       "      <th></th>\n",
       "      <th></th>\n",
       "      <th></th>\n",
       "    </tr>\n",
       "  </thead>\n",
       "  <tbody>\n",
       "    <tr>\n",
       "      <th>何胜</th>\n",
       "      <td>6.0</td>\n",
       "      <td>7.0</td>\n",
       "      <td>5.0</td>\n",
       "    </tr>\n",
       "    <tr>\n",
       "      <th>杨宇</th>\n",
       "      <td>9.0</td>\n",
       "      <td>10.0</td>\n",
       "      <td>5.0</td>\n",
       "    </tr>\n",
       "    <tr>\n",
       "      <th>赵倩</th>\n",
       "      <td>6.0</td>\n",
       "      <td>5.0</td>\n",
       "      <td>9.0</td>\n",
       "    </tr>\n",
       "    <tr>\n",
       "      <th>马潇</th>\n",
       "      <td>7.0</td>\n",
       "      <td>7.0</td>\n",
       "      <td>5.0</td>\n",
       "    </tr>\n",
       "  </tbody>\n",
       "</table>\n",
       "</div>"
      ],
      "text/plain": [
       "日期（格式“月-周次”）  9-2   9-3  9-4\n",
       "人员                          \n",
       "何胜            6.0   7.0  5.0\n",
       "杨宇            9.0  10.0  5.0\n",
       "赵倩            6.0   5.0  9.0\n",
       "马潇            7.0   7.0  5.0"
      ]
     },
     "execution_count": 159,
     "metadata": {},
     "output_type": "execute_result"
    }
   ],
   "source": [
    "myModule.get_trend(all_df1 , '人员' ,'完成项目总数', 3, quantile=0.75, compare='>')"
   ]
  },
  {
   "cell_type": "code",
   "execution_count": 160,
   "metadata": {},
   "outputs": [
    {
     "data": {
      "text/html": [
       "<div>\n",
       "<style scoped>\n",
       "    .dataframe tbody tr th:only-of-type {\n",
       "        vertical-align: middle;\n",
       "    }\n",
       "\n",
       "    .dataframe tbody tr th {\n",
       "        vertical-align: top;\n",
       "    }\n",
       "\n",
       "    .dataframe thead th {\n",
       "        text-align: right;\n",
       "    }\n",
       "</style>\n",
       "<table border=\"1\" class=\"dataframe\">\n",
       "  <thead>\n",
       "    <tr style=\"text-align: right;\">\n",
       "      <th>日期（格式“月-周次”）</th>\n",
       "      <th>9-2</th>\n",
       "      <th>9-3</th>\n",
       "      <th>9-4</th>\n",
       "    </tr>\n",
       "    <tr>\n",
       "      <th>人员</th>\n",
       "      <th></th>\n",
       "      <th></th>\n",
       "      <th></th>\n",
       "    </tr>\n",
       "  </thead>\n",
       "  <tbody>\n",
       "  </tbody>\n",
       "</table>\n",
       "</div>"
      ],
      "text/plain": [
       "Empty DataFrame\n",
       "Columns: [9-2, 9-3, 9-4]\n",
       "Index: []"
      ]
     },
     "execution_count": 160,
     "metadata": {},
     "output_type": "execute_result"
    }
   ],
   "source": [
    "myModule.get_trend(all_df1 , '人员' ,'完成项目总数', 3, quantile=0.5, compare='>',trend=True)"
   ]
  },
  {
   "cell_type": "markdown",
   "metadata": {},
   "source": [
    "### 待激励人员\n",
    "* 总完成项目数目位于下四位分数 or \n",
    "* 近3期，总完成项目数位于下四分位数"
   ]
  },
  {
   "cell_type": "code",
   "execution_count": 161,
   "metadata": {},
   "outputs": [
    {
     "data": {
      "text/html": [
       "<div>\n",
       "<style scoped>\n",
       "    .dataframe tbody tr th:only-of-type {\n",
       "        vertical-align: middle;\n",
       "    }\n",
       "\n",
       "    .dataframe tbody tr th {\n",
       "        vertical-align: top;\n",
       "    }\n",
       "\n",
       "    .dataframe thead th {\n",
       "        text-align: right;\n",
       "    }\n",
       "</style>\n",
       "<table border=\"1\" class=\"dataframe\">\n",
       "  <thead>\n",
       "    <tr style=\"text-align: right;\">\n",
       "      <th></th>\n",
       "      <th>完成项目总数</th>\n",
       "    </tr>\n",
       "    <tr>\n",
       "      <th>人员</th>\n",
       "      <th></th>\n",
       "    </tr>\n",
       "  </thead>\n",
       "  <tbody>\n",
       "    <tr>\n",
       "      <th>卢楠</th>\n",
       "      <td>0</td>\n",
       "    </tr>\n",
       "    <tr>\n",
       "      <th>施毓芷</th>\n",
       "      <td>0</td>\n",
       "    </tr>\n",
       "    <tr>\n",
       "      <th>李晓波</th>\n",
       "      <td>0</td>\n",
       "    </tr>\n",
       "    <tr>\n",
       "      <th>靳甜甜</th>\n",
       "      <td>0</td>\n",
       "    </tr>\n",
       "  </tbody>\n",
       "</table>\n",
       "</div>"
      ],
      "text/plain": [
       "     完成项目总数\n",
       "人员         \n",
       "卢楠        0\n",
       "施毓芷       0\n",
       "李晓波       0\n",
       "靳甜甜       0"
      ]
     },
     "execution_count": 161,
     "metadata": {},
     "output_type": "execute_result"
    }
   ],
   "source": [
    "myModule.get_rank(all_df1 , '人员' ,'完成项目总数', quantile=0.2, compare='<' )"
   ]
  },
  {
   "cell_type": "code",
   "execution_count": 162,
   "metadata": {},
   "outputs": [
    {
     "data": {
      "text/html": [
       "<div>\n",
       "<style scoped>\n",
       "    .dataframe tbody tr th:only-of-type {\n",
       "        vertical-align: middle;\n",
       "    }\n",
       "\n",
       "    .dataframe tbody tr th {\n",
       "        vertical-align: top;\n",
       "    }\n",
       "\n",
       "    .dataframe thead th {\n",
       "        text-align: right;\n",
       "    }\n",
       "</style>\n",
       "<table border=\"1\" class=\"dataframe\">\n",
       "  <thead>\n",
       "    <tr style=\"text-align: right;\">\n",
       "      <th></th>\n",
       "      <th>完成项目总数</th>\n",
       "    </tr>\n",
       "    <tr>\n",
       "      <th>人员</th>\n",
       "      <th></th>\n",
       "    </tr>\n",
       "  </thead>\n",
       "  <tbody>\n",
       "    <tr>\n",
       "      <th>李晓波</th>\n",
       "      <td>0</td>\n",
       "    </tr>\n",
       "    <tr>\n",
       "      <th>靳甜甜</th>\n",
       "      <td>0</td>\n",
       "    </tr>\n",
       "    <tr>\n",
       "      <th>刘永强</th>\n",
       "      <td>2</td>\n",
       "    </tr>\n",
       "    <tr>\n",
       "      <th>宋少宇</th>\n",
       "      <td>3</td>\n",
       "    </tr>\n",
       "  </tbody>\n",
       "</table>\n",
       "</div>"
      ],
      "text/plain": [
       "     完成项目总数\n",
       "人员         \n",
       "李晓波       0\n",
       "靳甜甜       0\n",
       "刘永强       2\n",
       "宋少宇       3"
      ]
     },
     "execution_count": 162,
     "metadata": {},
     "output_type": "execute_result"
    }
   ],
   "source": [
    "myModule.get_rank(all_df1 , '人员' ,'完成项目总数', 3, quantile=0.2, compare='<')"
   ]
  },
  {
   "cell_type": "markdown",
   "metadata": {},
   "source": [
    "# 下期项目情况预测"
   ]
  },
  {
   "cell_type": "markdown",
   "metadata": {},
   "source": [
    "## 整体商业项目趋势图\n",
    "* 完成项目数： 本周完成的项目\n",
    "* 总在线项目： 下机正在分析项目 和 未完成个性化分析\n",
    "* 未下机项目： 未下机项目"
   ]
  },
  {
   "cell_type": "code",
   "execution_count": 163,
   "metadata": {},
   "outputs": [
    {
     "data": {
      "application/vnd.plotly.v1+json": {
       "data": [
        {
         "name": "在线项目总数",
         "type": "scatter",
         "uid": "68aef507-d1af-11e8-8ddb-a41f72875c19",
         "x": [
          "10-1",
          "9-1",
          "9-2",
          "9-3",
          "9-4"
         ],
         "y": [
          69,
          59,
          58,
          57,
          60
         ]
        },
        {
         "name": "完成项目总数",
         "type": "scatter",
         "uid": "68aef508-d1af-11e8-8ddb-a41f72875c19",
         "x": [
          "10-1",
          "9-1",
          "9-2",
          "9-3",
          "9-4"
         ],
         "y": [
          51,
          57,
          79,
          64,
          56
         ]
        }
       ],
       "layout": {
        "title": "在线项目总数&完成项目总数周趋势图",
        "xaxis": {
         "mirror": "all",
         "nticks": 20,
         "showgrid": true,
         "showline": true,
         "title": "周",
         "zeroline": true
        },
        "yaxis": {
         "mirror": "all",
         "nticks": 20,
         "showgrid": true,
         "showline": true,
         "title": "在线项目总数&完成项目总数",
         "zeroline": true
        }
       }
      },
      "text/html": [
       "<div id=\"08d66d18-1bf9-463a-b69d-c113855f3345\" style=\"height: 525px; width: 100%;\" class=\"plotly-graph-div\"></div><script type=\"text/javascript\">require([\"plotly\"], function(Plotly) { window.PLOTLYENV=window.PLOTLYENV || {};window.PLOTLYENV.BASE_URL=\"https://plot.ly\";Plotly.newPlot(\"08d66d18-1bf9-463a-b69d-c113855f3345\", [{\"name\": \"\\u5728\\u7ebf\\u9879\\u76ee\\u603b\\u6570\", \"x\": [\"10-1\", \"9-1\", \"9-2\", \"9-3\", \"9-4\"], \"y\": [69, 59, 58, 57, 60], \"type\": \"scatter\", \"uid\": \"68aef507-d1af-11e8-8ddb-a41f72875c19\"}, {\"name\": \"\\u5b8c\\u6210\\u9879\\u76ee\\u603b\\u6570\", \"x\": [\"10-1\", \"9-1\", \"9-2\", \"9-3\", \"9-4\"], \"y\": [51, 57, 79, 64, 56], \"type\": \"scatter\", \"uid\": \"68aef508-d1af-11e8-8ddb-a41f72875c19\"}], {\"title\": \"\\u5728\\u7ebf\\u9879\\u76ee\\u603b\\u6570&\\u5b8c\\u6210\\u9879\\u76ee\\u603b\\u6570\\u5468\\u8d8b\\u52bf\\u56fe\", \"xaxis\": {\"mirror\": \"all\", \"nticks\": 20, \"showgrid\": true, \"showline\": true, \"title\": \"\\u5468\", \"zeroline\": true}, \"yaxis\": {\"mirror\": \"all\", \"nticks\": 20, \"showgrid\": true, \"showline\": true, \"title\": \"\\u5728\\u7ebf\\u9879\\u76ee\\u603b\\u6570&\\u5b8c\\u6210\\u9879\\u76ee\\u603b\\u6570\", \"zeroline\": true}}, {\"showLink\": true, \"linkText\": \"Export to plot.ly\"})});</script>"
      ],
      "text/vnd.plotly.v1+html": [
       "<div id=\"08d66d18-1bf9-463a-b69d-c113855f3345\" style=\"height: 525px; width: 100%;\" class=\"plotly-graph-div\"></div><script type=\"text/javascript\">require([\"plotly\"], function(Plotly) { window.PLOTLYENV=window.PLOTLYENV || {};window.PLOTLYENV.BASE_URL=\"https://plot.ly\";Plotly.newPlot(\"08d66d18-1bf9-463a-b69d-c113855f3345\", [{\"name\": \"\\u5728\\u7ebf\\u9879\\u76ee\\u603b\\u6570\", \"x\": [\"10-1\", \"9-1\", \"9-2\", \"9-3\", \"9-4\"], \"y\": [69, 59, 58, 57, 60], \"type\": \"scatter\", \"uid\": \"68aef507-d1af-11e8-8ddb-a41f72875c19\"}, {\"name\": \"\\u5b8c\\u6210\\u9879\\u76ee\\u603b\\u6570\", \"x\": [\"10-1\", \"9-1\", \"9-2\", \"9-3\", \"9-4\"], \"y\": [51, 57, 79, 64, 56], \"type\": \"scatter\", \"uid\": \"68aef508-d1af-11e8-8ddb-a41f72875c19\"}], {\"title\": \"\\u5728\\u7ebf\\u9879\\u76ee\\u603b\\u6570&\\u5b8c\\u6210\\u9879\\u76ee\\u603b\\u6570\\u5468\\u8d8b\\u52bf\\u56fe\", \"xaxis\": {\"mirror\": \"all\", \"nticks\": 20, \"showgrid\": true, \"showline\": true, \"title\": \"\\u5468\", \"zeroline\": true}, \"yaxis\": {\"mirror\": \"all\", \"nticks\": 20, \"showgrid\": true, \"showline\": true, \"title\": \"\\u5728\\u7ebf\\u9879\\u76ee\\u603b\\u6570&\\u5b8c\\u6210\\u9879\\u76ee\\u603b\\u6570\", \"zeroline\": true}}, {\"showLink\": true, \"linkText\": \"Export to plot.ly\"})});</script>"
      ]
     },
     "metadata": {},
     "output_type": "display_data"
    }
   ],
   "source": [
    "ss = myModule.format(all_df1 ,\"日期（格式“月-周次”）\" ,['完成项目总数','在线项目总数' ])\n",
    "#ss.add_group('组别')\n",
    "#ss.get_average_by('人员')\n",
    "myModule.myPlot(ss.groupby('sum')).plot('line')\n",
    "#ss = myModule.format(all_df1 ,\"month\" ,['完成项目总数','在线项目总数'])\n",
    "#ss.add_group('组别')\n",
    "#ss.get_average_by('人员')\n",
    "#myModule.myPlot(ss.groupby('sum')).plot('line','月')"
   ]
  },
  {
   "cell_type": "markdown",
   "metadata": {},
   "source": [
    "## 总在线项目数\n",
    "* 把这个数字做到sheet1中，sheet2中尽量不留数字"
   ]
  },
  {
   "cell_type": "markdown",
   "metadata": {},
   "source": [
    "### 在线项目情况"
   ]
  },
  {
   "cell_type": "code",
   "execution_count": 164,
   "metadata": {},
   "outputs": [
    {
     "data": {
      "application/vnd.plotly.v1+json": {
       "data": [
        {
         "name": "在线项目总数",
         "type": "scatter",
         "uid": "69dd9846-d1af-11e8-8ddb-a41f72875c19",
         "x": [
          "10-1",
          "9-1",
          "9-2",
          "9-3",
          "9-4"
         ],
         "y": [
          69,
          59,
          58,
          57,
          60
         ]
        }
       ],
       "layout": {
        "title": "在线项目总数周趋势图",
        "xaxis": {
         "mirror": "all",
         "nticks": 20,
         "showgrid": true,
         "showline": true,
         "title": "周",
         "zeroline": true
        },
        "yaxis": {
         "mirror": "all",
         "nticks": 20,
         "showgrid": true,
         "showline": true,
         "title": "在线项目总数",
         "zeroline": true
        }
       }
      },
      "text/html": [
       "<div id=\"f64c966b-b861-4672-9e0d-98569318a3a0\" style=\"height: 525px; width: 100%;\" class=\"plotly-graph-div\"></div><script type=\"text/javascript\">require([\"plotly\"], function(Plotly) { window.PLOTLYENV=window.PLOTLYENV || {};window.PLOTLYENV.BASE_URL=\"https://plot.ly\";Plotly.newPlot(\"f64c966b-b861-4672-9e0d-98569318a3a0\", [{\"name\": \"\\u5728\\u7ebf\\u9879\\u76ee\\u603b\\u6570\", \"x\": [\"10-1\", \"9-1\", \"9-2\", \"9-3\", \"9-4\"], \"y\": [69, 59, 58, 57, 60], \"type\": \"scatter\", \"uid\": \"69dd9846-d1af-11e8-8ddb-a41f72875c19\"}], {\"title\": \"\\u5728\\u7ebf\\u9879\\u76ee\\u603b\\u6570\\u5468\\u8d8b\\u52bf\\u56fe\", \"xaxis\": {\"mirror\": \"all\", \"nticks\": 20, \"showgrid\": true, \"showline\": true, \"title\": \"\\u5468\", \"zeroline\": true}, \"yaxis\": {\"mirror\": \"all\", \"nticks\": 20, \"showgrid\": true, \"showline\": true, \"title\": \"\\u5728\\u7ebf\\u9879\\u76ee\\u603b\\u6570\", \"zeroline\": true}}, {\"showLink\": true, \"linkText\": \"Export to plot.ly\"})});</script>"
      ],
      "text/vnd.plotly.v1+html": [
       "<div id=\"f64c966b-b861-4672-9e0d-98569318a3a0\" style=\"height: 525px; width: 100%;\" class=\"plotly-graph-div\"></div><script type=\"text/javascript\">require([\"plotly\"], function(Plotly) { window.PLOTLYENV=window.PLOTLYENV || {};window.PLOTLYENV.BASE_URL=\"https://plot.ly\";Plotly.newPlot(\"f64c966b-b861-4672-9e0d-98569318a3a0\", [{\"name\": \"\\u5728\\u7ebf\\u9879\\u76ee\\u603b\\u6570\", \"x\": [\"10-1\", \"9-1\", \"9-2\", \"9-3\", \"9-4\"], \"y\": [69, 59, 58, 57, 60], \"type\": \"scatter\", \"uid\": \"69dd9846-d1af-11e8-8ddb-a41f72875c19\"}], {\"title\": \"\\u5728\\u7ebf\\u9879\\u76ee\\u603b\\u6570\\u5468\\u8d8b\\u52bf\\u56fe\", \"xaxis\": {\"mirror\": \"all\", \"nticks\": 20, \"showgrid\": true, \"showline\": true, \"title\": \"\\u5468\", \"zeroline\": true}, \"yaxis\": {\"mirror\": \"all\", \"nticks\": 20, \"showgrid\": true, \"showline\": true, \"title\": \"\\u5728\\u7ebf\\u9879\\u76ee\\u603b\\u6570\", \"zeroline\": true}}, {\"showLink\": true, \"linkText\": \"Export to plot.ly\"})});</script>"
      ]
     },
     "metadata": {},
     "output_type": "display_data"
    },
    {
     "data": {
      "application/vnd.plotly.v1+json": {
       "data": [
        {
         "name": "在线项目总数",
         "type": "scatter",
         "uid": "69dd9847-d1af-11e8-8ddb-a41f72875c19",
         "x": [
          9,
          10
         ],
         "y": [
          234,
          69
         ]
        },
        {
         "name": "完成项目总数",
         "type": "scatter",
         "uid": "69dd9848-d1af-11e8-8ddb-a41f72875c19",
         "x": [
          9,
          10
         ],
         "y": [
          256,
          51
         ]
        }
       ],
       "layout": {
        "title": "在线项目总数&完成项目总数月趋势图",
        "xaxis": {
         "mirror": "all",
         "nticks": 20,
         "showgrid": true,
         "showline": true,
         "title": "月",
         "zeroline": true
        },
        "yaxis": {
         "mirror": "all",
         "nticks": 20,
         "showgrid": true,
         "showline": true,
         "title": "在线项目总数&完成项目总数",
         "zeroline": true
        }
       }
      },
      "text/html": [
       "<div id=\"32a44351-0a29-405c-a140-c9a85199c80f\" style=\"height: 525px; width: 100%;\" class=\"plotly-graph-div\"></div><script type=\"text/javascript\">require([\"plotly\"], function(Plotly) { window.PLOTLYENV=window.PLOTLYENV || {};window.PLOTLYENV.BASE_URL=\"https://plot.ly\";Plotly.newPlot(\"32a44351-0a29-405c-a140-c9a85199c80f\", [{\"name\": \"\\u5728\\u7ebf\\u9879\\u76ee\\u603b\\u6570\", \"x\": [9, 10], \"y\": [234, 69], \"type\": \"scatter\", \"uid\": \"69dd9847-d1af-11e8-8ddb-a41f72875c19\"}, {\"name\": \"\\u5b8c\\u6210\\u9879\\u76ee\\u603b\\u6570\", \"x\": [9, 10], \"y\": [256, 51], \"type\": \"scatter\", \"uid\": \"69dd9848-d1af-11e8-8ddb-a41f72875c19\"}], {\"title\": \"\\u5728\\u7ebf\\u9879\\u76ee\\u603b\\u6570&\\u5b8c\\u6210\\u9879\\u76ee\\u603b\\u6570\\u6708\\u8d8b\\u52bf\\u56fe\", \"xaxis\": {\"mirror\": \"all\", \"nticks\": 20, \"showgrid\": true, \"showline\": true, \"title\": \"\\u6708\", \"zeroline\": true}, \"yaxis\": {\"mirror\": \"all\", \"nticks\": 20, \"showgrid\": true, \"showline\": true, \"title\": \"\\u5728\\u7ebf\\u9879\\u76ee\\u603b\\u6570&\\u5b8c\\u6210\\u9879\\u76ee\\u603b\\u6570\", \"zeroline\": true}}, {\"showLink\": true, \"linkText\": \"Export to plot.ly\"})});</script>"
      ],
      "text/vnd.plotly.v1+html": [
       "<div id=\"32a44351-0a29-405c-a140-c9a85199c80f\" style=\"height: 525px; width: 100%;\" class=\"plotly-graph-div\"></div><script type=\"text/javascript\">require([\"plotly\"], function(Plotly) { window.PLOTLYENV=window.PLOTLYENV || {};window.PLOTLYENV.BASE_URL=\"https://plot.ly\";Plotly.newPlot(\"32a44351-0a29-405c-a140-c9a85199c80f\", [{\"name\": \"\\u5728\\u7ebf\\u9879\\u76ee\\u603b\\u6570\", \"x\": [9, 10], \"y\": [234, 69], \"type\": \"scatter\", \"uid\": \"69dd9847-d1af-11e8-8ddb-a41f72875c19\"}, {\"name\": \"\\u5b8c\\u6210\\u9879\\u76ee\\u603b\\u6570\", \"x\": [9, 10], \"y\": [256, 51], \"type\": \"scatter\", \"uid\": \"69dd9848-d1af-11e8-8ddb-a41f72875c19\"}], {\"title\": \"\\u5728\\u7ebf\\u9879\\u76ee\\u603b\\u6570&\\u5b8c\\u6210\\u9879\\u76ee\\u603b\\u6570\\u6708\\u8d8b\\u52bf\\u56fe\", \"xaxis\": {\"mirror\": \"all\", \"nticks\": 20, \"showgrid\": true, \"showline\": true, \"title\": \"\\u6708\", \"zeroline\": true}, \"yaxis\": {\"mirror\": \"all\", \"nticks\": 20, \"showgrid\": true, \"showline\": true, \"title\": \"\\u5728\\u7ebf\\u9879\\u76ee\\u603b\\u6570&\\u5b8c\\u6210\\u9879\\u76ee\\u603b\\u6570\", \"zeroline\": true}}, {\"showLink\": true, \"linkText\": \"Export to plot.ly\"})});</script>"
      ]
     },
     "metadata": {},
     "output_type": "display_data"
    }
   ],
   "source": [
    "ss = myModule.format(all_df1 ,\"日期（格式“月-周次”）\" ,['在线项目总数' ])\n",
    "#ss.add_group('组别')\n",
    "#ss.get_average_by('人员')\n",
    "myModule.myPlot(ss.groupby('sum')).plot('line')\n",
    "ss = myModule.format(all_df1 ,\"month\" ,['完成项目总数','在线项目总数'])\n",
    "#ss.add_group('组别')\n",
    "#ss.get_average_by('人员')\n",
    "myModule.myPlot(ss.groupby('sum')).plot('line','月')"
   ]
  },
  {
   "cell_type": "markdown",
   "metadata": {},
   "source": [
    "### 人均在线项目情况"
   ]
  },
  {
   "cell_type": "code",
   "execution_count": 165,
   "metadata": {},
   "outputs": [
    {
     "data": {
      "application/vnd.plotly.v1+json": {
       "data": [
        {
         "line": {
          "dash": "solid"
         },
         "name": "在线项目总数(分析一组)",
         "type": "scatter",
         "uid": "69dd9849-d1af-11e8-8ddb-a41f72875c19",
         "x": [
          "10-1",
          "9-1",
          "9-2",
          "9-3",
          "9-4"
         ],
         "y": [
          5.8,
          2.25,
          2.25,
          2,
          2.75
         ]
        },
        {
         "line": {
          "dash": "dot"
         },
         "name": "在线项目总数(分析二组)",
         "type": "scatter",
         "uid": "69dd984a-d1af-11e8-8ddb-a41f72875c19",
         "x": [
          "10-1",
          "9-1",
          "9-2",
          "9-3",
          "9-4"
         ],
         "y": [
          4,
          4.3,
          4.2,
          3.9,
          3.9
         ]
        },
        {
         "line": {
          "dash": "dash"
         },
         "name": "在线项目总数(个性化组)",
         "type": "scatter",
         "uid": "69dd984b-d1af-11e8-8ddb-a41f72875c19",
         "x": [
          "10-1",
          "9-1",
          "9-2",
          "9-3",
          "9-4"
         ],
         "y": [
          4.8,
          1.75,
          1.75,
          2.5,
          2.5
         ]
        }
       ],
       "layout": {
        "title": "在线项目总数周趋势图",
        "xaxis": {
         "mirror": "all",
         "nticks": 20,
         "showgrid": true,
         "showline": true,
         "title": "周",
         "zeroline": true
        },
        "yaxis": {
         "mirror": "all",
         "nticks": 20,
         "showgrid": true,
         "showline": true,
         "title": "在线项目总数",
         "zeroline": true
        }
       }
      },
      "text/html": [
       "<div id=\"88df0736-36f4-41f7-8232-fb53fb71e398\" style=\"height: 525px; width: 100%;\" class=\"plotly-graph-div\"></div><script type=\"text/javascript\">require([\"plotly\"], function(Plotly) { window.PLOTLYENV=window.PLOTLYENV || {};window.PLOTLYENV.BASE_URL=\"https://plot.ly\";Plotly.newPlot(\"88df0736-36f4-41f7-8232-fb53fb71e398\", [{\"line\": {\"dash\": \"solid\"}, \"name\": \"\\u5728\\u7ebf\\u9879\\u76ee\\u603b\\u6570(\\u5206\\u6790\\u4e00\\u7ec4)\", \"x\": [\"10-1\", \"9-1\", \"9-2\", \"9-3\", \"9-4\"], \"y\": [5.8, 2.25, 2.25, 2.0, 2.75], \"type\": \"scatter\", \"uid\": \"69dd9849-d1af-11e8-8ddb-a41f72875c19\"}, {\"line\": {\"dash\": \"dot\"}, \"name\": \"\\u5728\\u7ebf\\u9879\\u76ee\\u603b\\u6570(\\u5206\\u6790\\u4e8c\\u7ec4)\", \"x\": [\"10-1\", \"9-1\", \"9-2\", \"9-3\", \"9-4\"], \"y\": [4.0, 4.3, 4.2, 3.9, 3.9], \"type\": \"scatter\", \"uid\": \"69dd984a-d1af-11e8-8ddb-a41f72875c19\"}, {\"line\": {\"dash\": \"dash\"}, \"name\": \"\\u5728\\u7ebf\\u9879\\u76ee\\u603b\\u6570(\\u4e2a\\u6027\\u5316\\u7ec4)\", \"x\": [\"10-1\", \"9-1\", \"9-2\", \"9-3\", \"9-4\"], \"y\": [4.8, 1.75, 1.75, 2.5, 2.5], \"type\": \"scatter\", \"uid\": \"69dd984b-d1af-11e8-8ddb-a41f72875c19\"}], {\"title\": \"\\u5728\\u7ebf\\u9879\\u76ee\\u603b\\u6570\\u5468\\u8d8b\\u52bf\\u56fe\", \"xaxis\": {\"mirror\": \"all\", \"nticks\": 20, \"showgrid\": true, \"showline\": true, \"title\": \"\\u5468\", \"zeroline\": true}, \"yaxis\": {\"mirror\": \"all\", \"nticks\": 20, \"showgrid\": true, \"showline\": true, \"title\": \"\\u5728\\u7ebf\\u9879\\u76ee\\u603b\\u6570\", \"zeroline\": true}}, {\"showLink\": true, \"linkText\": \"Export to plot.ly\"})});</script>"
      ],
      "text/vnd.plotly.v1+html": [
       "<div id=\"88df0736-36f4-41f7-8232-fb53fb71e398\" style=\"height: 525px; width: 100%;\" class=\"plotly-graph-div\"></div><script type=\"text/javascript\">require([\"plotly\"], function(Plotly) { window.PLOTLYENV=window.PLOTLYENV || {};window.PLOTLYENV.BASE_URL=\"https://plot.ly\";Plotly.newPlot(\"88df0736-36f4-41f7-8232-fb53fb71e398\", [{\"line\": {\"dash\": \"solid\"}, \"name\": \"\\u5728\\u7ebf\\u9879\\u76ee\\u603b\\u6570(\\u5206\\u6790\\u4e00\\u7ec4)\", \"x\": [\"10-1\", \"9-1\", \"9-2\", \"9-3\", \"9-4\"], \"y\": [5.8, 2.25, 2.25, 2.0, 2.75], \"type\": \"scatter\", \"uid\": \"69dd9849-d1af-11e8-8ddb-a41f72875c19\"}, {\"line\": {\"dash\": \"dot\"}, \"name\": \"\\u5728\\u7ebf\\u9879\\u76ee\\u603b\\u6570(\\u5206\\u6790\\u4e8c\\u7ec4)\", \"x\": [\"10-1\", \"9-1\", \"9-2\", \"9-3\", \"9-4\"], \"y\": [4.0, 4.3, 4.2, 3.9, 3.9], \"type\": \"scatter\", \"uid\": \"69dd984a-d1af-11e8-8ddb-a41f72875c19\"}, {\"line\": {\"dash\": \"dash\"}, \"name\": \"\\u5728\\u7ebf\\u9879\\u76ee\\u603b\\u6570(\\u4e2a\\u6027\\u5316\\u7ec4)\", \"x\": [\"10-1\", \"9-1\", \"9-2\", \"9-3\", \"9-4\"], \"y\": [4.8, 1.75, 1.75, 2.5, 2.5], \"type\": \"scatter\", \"uid\": \"69dd984b-d1af-11e8-8ddb-a41f72875c19\"}], {\"title\": \"\\u5728\\u7ebf\\u9879\\u76ee\\u603b\\u6570\\u5468\\u8d8b\\u52bf\\u56fe\", \"xaxis\": {\"mirror\": \"all\", \"nticks\": 20, \"showgrid\": true, \"showline\": true, \"title\": \"\\u5468\", \"zeroline\": true}, \"yaxis\": {\"mirror\": \"all\", \"nticks\": 20, \"showgrid\": true, \"showline\": true, \"title\": \"\\u5728\\u7ebf\\u9879\\u76ee\\u603b\\u6570\", \"zeroline\": true}}, {\"showLink\": true, \"linkText\": \"Export to plot.ly\"})});</script>"
      ]
     },
     "metadata": {},
     "output_type": "display_data"
    },
    {
     "data": {
      "application/vnd.plotly.v1+json": {
       "data": [
        {
         "line": {
          "dash": "solid"
         },
         "name": "在线项目总数(分析一组)",
         "type": "scatter",
         "uid": "69dd984c-d1af-11e8-8ddb-a41f72875c19",
         "x": [
          9,
          10
         ],
         "y": [
          9.25,
          5.8
         ]
        },
        {
         "line": {
          "dash": "dot"
         },
         "name": "在线项目总数(分析二组)",
         "type": "scatter",
         "uid": "69dd984d-d1af-11e8-8ddb-a41f72875c19",
         "x": [
          9,
          10
         ],
         "y": [
          16.3,
          4
         ]
        },
        {
         "line": {
          "dash": "dash"
         },
         "name": "在线项目总数(个性化组)",
         "type": "scatter",
         "uid": "69dd984e-d1af-11e8-8ddb-a41f72875c19",
         "x": [
          9,
          10
         ],
         "y": [
          8.5,
          4.8
         ]
        },
        {
         "line": {
          "dash": "solid"
         },
         "name": "完成项目总数(分析一组)",
         "type": "scatter",
         "uid": "69dd984f-d1af-11e8-8ddb-a41f72875c19",
         "x": [
          9,
          10
         ],
         "y": [
          11.25,
          4.6
         ]
        },
        {
         "line": {
          "dash": "dot"
         },
         "name": "完成项目总数(分析二组)",
         "type": "scatter",
         "uid": "69dd9850-d1af-11e8-8ddb-a41f72875c19",
         "x": [
          9,
          10
         ],
         "y": [
          15.2,
          4.75
         ]
        },
        {
         "line": {
          "dash": "dash"
         },
         "name": "完成项目总数(个性化组)",
         "type": "scatter",
         "uid": "69dd9851-d1af-11e8-8ddb-a41f72875c19",
         "x": [
          9,
          10
         ],
         "y": [
          14.75,
          1.8
         ]
        }
       ],
       "layout": {
        "title": "在线项目总数&完成项目总数月趋势图",
        "xaxis": {
         "mirror": "all",
         "nticks": 20,
         "showgrid": true,
         "showline": true,
         "title": "月",
         "zeroline": true
        },
        "yaxis": {
         "mirror": "all",
         "nticks": 20,
         "showgrid": true,
         "showline": true,
         "title": "在线项目总数&完成项目总数",
         "zeroline": true
        }
       }
      },
      "text/html": [
       "<div id=\"2e71f8c0-677a-47e7-9b95-ce2b6c645180\" style=\"height: 525px; width: 100%;\" class=\"plotly-graph-div\"></div><script type=\"text/javascript\">require([\"plotly\"], function(Plotly) { window.PLOTLYENV=window.PLOTLYENV || {};window.PLOTLYENV.BASE_URL=\"https://plot.ly\";Plotly.newPlot(\"2e71f8c0-677a-47e7-9b95-ce2b6c645180\", [{\"line\": {\"dash\": \"solid\"}, \"name\": \"\\u5728\\u7ebf\\u9879\\u76ee\\u603b\\u6570(\\u5206\\u6790\\u4e00\\u7ec4)\", \"x\": [9, 10], \"y\": [9.25, 5.8], \"type\": \"scatter\", \"uid\": \"69dd984c-d1af-11e8-8ddb-a41f72875c19\"}, {\"line\": {\"dash\": \"dot\"}, \"name\": \"\\u5728\\u7ebf\\u9879\\u76ee\\u603b\\u6570(\\u5206\\u6790\\u4e8c\\u7ec4)\", \"x\": [9, 10], \"y\": [16.3, 4.0], \"type\": \"scatter\", \"uid\": \"69dd984d-d1af-11e8-8ddb-a41f72875c19\"}, {\"line\": {\"dash\": \"dash\"}, \"name\": \"\\u5728\\u7ebf\\u9879\\u76ee\\u603b\\u6570(\\u4e2a\\u6027\\u5316\\u7ec4)\", \"x\": [9, 10], \"y\": [8.5, 4.8], \"type\": \"scatter\", \"uid\": \"69dd984e-d1af-11e8-8ddb-a41f72875c19\"}, {\"line\": {\"dash\": \"solid\"}, \"name\": \"\\u5b8c\\u6210\\u9879\\u76ee\\u603b\\u6570(\\u5206\\u6790\\u4e00\\u7ec4)\", \"x\": [9, 10], \"y\": [11.25, 4.6], \"type\": \"scatter\", \"uid\": \"69dd984f-d1af-11e8-8ddb-a41f72875c19\"}, {\"line\": {\"dash\": \"dot\"}, \"name\": \"\\u5b8c\\u6210\\u9879\\u76ee\\u603b\\u6570(\\u5206\\u6790\\u4e8c\\u7ec4)\", \"x\": [9, 10], \"y\": [15.2, 4.75], \"type\": \"scatter\", \"uid\": \"69dd9850-d1af-11e8-8ddb-a41f72875c19\"}, {\"line\": {\"dash\": \"dash\"}, \"name\": \"\\u5b8c\\u6210\\u9879\\u76ee\\u603b\\u6570(\\u4e2a\\u6027\\u5316\\u7ec4)\", \"x\": [9, 10], \"y\": [14.75, 1.8], \"type\": \"scatter\", \"uid\": \"69dd9851-d1af-11e8-8ddb-a41f72875c19\"}], {\"title\": \"\\u5728\\u7ebf\\u9879\\u76ee\\u603b\\u6570&\\u5b8c\\u6210\\u9879\\u76ee\\u603b\\u6570\\u6708\\u8d8b\\u52bf\\u56fe\", \"xaxis\": {\"mirror\": \"all\", \"nticks\": 20, \"showgrid\": true, \"showline\": true, \"title\": \"\\u6708\", \"zeroline\": true}, \"yaxis\": {\"mirror\": \"all\", \"nticks\": 20, \"showgrid\": true, \"showline\": true, \"title\": \"\\u5728\\u7ebf\\u9879\\u76ee\\u603b\\u6570&\\u5b8c\\u6210\\u9879\\u76ee\\u603b\\u6570\", \"zeroline\": true}}, {\"showLink\": true, \"linkText\": \"Export to plot.ly\"})});</script>"
      ],
      "text/vnd.plotly.v1+html": [
       "<div id=\"2e71f8c0-677a-47e7-9b95-ce2b6c645180\" style=\"height: 525px; width: 100%;\" class=\"plotly-graph-div\"></div><script type=\"text/javascript\">require([\"plotly\"], function(Plotly) { window.PLOTLYENV=window.PLOTLYENV || {};window.PLOTLYENV.BASE_URL=\"https://plot.ly\";Plotly.newPlot(\"2e71f8c0-677a-47e7-9b95-ce2b6c645180\", [{\"line\": {\"dash\": \"solid\"}, \"name\": \"\\u5728\\u7ebf\\u9879\\u76ee\\u603b\\u6570(\\u5206\\u6790\\u4e00\\u7ec4)\", \"x\": [9, 10], \"y\": [9.25, 5.8], \"type\": \"scatter\", \"uid\": \"69dd984c-d1af-11e8-8ddb-a41f72875c19\"}, {\"line\": {\"dash\": \"dot\"}, \"name\": \"\\u5728\\u7ebf\\u9879\\u76ee\\u603b\\u6570(\\u5206\\u6790\\u4e8c\\u7ec4)\", \"x\": [9, 10], \"y\": [16.3, 4.0], \"type\": \"scatter\", \"uid\": \"69dd984d-d1af-11e8-8ddb-a41f72875c19\"}, {\"line\": {\"dash\": \"dash\"}, \"name\": \"\\u5728\\u7ebf\\u9879\\u76ee\\u603b\\u6570(\\u4e2a\\u6027\\u5316\\u7ec4)\", \"x\": [9, 10], \"y\": [8.5, 4.8], \"type\": \"scatter\", \"uid\": \"69dd984e-d1af-11e8-8ddb-a41f72875c19\"}, {\"line\": {\"dash\": \"solid\"}, \"name\": \"\\u5b8c\\u6210\\u9879\\u76ee\\u603b\\u6570(\\u5206\\u6790\\u4e00\\u7ec4)\", \"x\": [9, 10], \"y\": [11.25, 4.6], \"type\": \"scatter\", \"uid\": \"69dd984f-d1af-11e8-8ddb-a41f72875c19\"}, {\"line\": {\"dash\": \"dot\"}, \"name\": \"\\u5b8c\\u6210\\u9879\\u76ee\\u603b\\u6570(\\u5206\\u6790\\u4e8c\\u7ec4)\", \"x\": [9, 10], \"y\": [15.2, 4.75], \"type\": \"scatter\", \"uid\": \"69dd9850-d1af-11e8-8ddb-a41f72875c19\"}, {\"line\": {\"dash\": \"dash\"}, \"name\": \"\\u5b8c\\u6210\\u9879\\u76ee\\u603b\\u6570(\\u4e2a\\u6027\\u5316\\u7ec4)\", \"x\": [9, 10], \"y\": [14.75, 1.8], \"type\": \"scatter\", \"uid\": \"69dd9851-d1af-11e8-8ddb-a41f72875c19\"}], {\"title\": \"\\u5728\\u7ebf\\u9879\\u76ee\\u603b\\u6570&\\u5b8c\\u6210\\u9879\\u76ee\\u603b\\u6570\\u6708\\u8d8b\\u52bf\\u56fe\", \"xaxis\": {\"mirror\": \"all\", \"nticks\": 20, \"showgrid\": true, \"showline\": true, \"title\": \"\\u6708\", \"zeroline\": true}, \"yaxis\": {\"mirror\": \"all\", \"nticks\": 20, \"showgrid\": true, \"showline\": true, \"title\": \"\\u5728\\u7ebf\\u9879\\u76ee\\u603b\\u6570&\\u5b8c\\u6210\\u9879\\u76ee\\u603b\\u6570\", \"zeroline\": true}}, {\"showLink\": true, \"linkText\": \"Export to plot.ly\"})});</script>"
      ]
     },
     "metadata": {},
     "output_type": "display_data"
    }
   ],
   "source": [
    "ss = myModule.format(all_df1 ,\"日期（格式“月-周次”）\" ,['在线项目总数' ])\n",
    "ss.add_group('组别')\n",
    "ss.get_average_by('人员')\n",
    "myModule.myPlot(ss.groupby('sum')).plot('line')\n",
    "ss = myModule.format(all_df1 ,\"month\" ,['完成项目总数','在线项目总数'])\n",
    "ss.add_group('组别')\n",
    "ss.get_average_by('人员')\n",
    "myModule.myPlot(ss.groupby('sum')).plot('line','月')"
   ]
  },
  {
   "cell_type": "markdown",
   "metadata": {},
   "source": [
    "## 未下机商业项目数"
   ]
  },
  {
   "cell_type": "code",
   "execution_count": 166,
   "metadata": {},
   "outputs": [
    {
     "data": {
      "application/vnd.plotly.v1+json": {
       "data": [
        {
         "name": "未下机项目数",
         "type": "scatter",
         "uid": "69dd9852-d1af-11e8-8ddb-a41f72875c19",
         "x": [
          "10-1",
          "9-1",
          "9-2",
          "9-3",
          "9-4"
         ],
         "y": [
          81,
          127,
          115,
          121,
          96
         ]
        }
       ],
       "layout": {
        "title": "未下机项目数周趋势图",
        "xaxis": {
         "mirror": "all",
         "nticks": 20,
         "showgrid": true,
         "showline": true,
         "title": "周",
         "zeroline": true
        },
        "yaxis": {
         "mirror": "all",
         "nticks": 20,
         "showgrid": true,
         "showline": true,
         "title": "未下机项目数",
         "zeroline": true
        }
       }
      },
      "text/html": [
       "<div id=\"a32879a7-ee54-4372-9eb7-de4fb4be9edb\" style=\"height: 525px; width: 100%;\" class=\"plotly-graph-div\"></div><script type=\"text/javascript\">require([\"plotly\"], function(Plotly) { window.PLOTLYENV=window.PLOTLYENV || {};window.PLOTLYENV.BASE_URL=\"https://plot.ly\";Plotly.newPlot(\"a32879a7-ee54-4372-9eb7-de4fb4be9edb\", [{\"name\": \"\\u672a\\u4e0b\\u673a\\u9879\\u76ee\\u6570\", \"x\": [\"10-1\", \"9-1\", \"9-2\", \"9-3\", \"9-4\"], \"y\": [81, 127, 115, 121, 96], \"type\": \"scatter\", \"uid\": \"69dd9852-d1af-11e8-8ddb-a41f72875c19\"}], {\"title\": \"\\u672a\\u4e0b\\u673a\\u9879\\u76ee\\u6570\\u5468\\u8d8b\\u52bf\\u56fe\", \"xaxis\": {\"mirror\": \"all\", \"nticks\": 20, \"showgrid\": true, \"showline\": true, \"title\": \"\\u5468\", \"zeroline\": true}, \"yaxis\": {\"mirror\": \"all\", \"nticks\": 20, \"showgrid\": true, \"showline\": true, \"title\": \"\\u672a\\u4e0b\\u673a\\u9879\\u76ee\\u6570\", \"zeroline\": true}}, {\"showLink\": true, \"linkText\": \"Export to plot.ly\"})});</script>"
      ],
      "text/vnd.plotly.v1+html": [
       "<div id=\"a32879a7-ee54-4372-9eb7-de4fb4be9edb\" style=\"height: 525px; width: 100%;\" class=\"plotly-graph-div\"></div><script type=\"text/javascript\">require([\"plotly\"], function(Plotly) { window.PLOTLYENV=window.PLOTLYENV || {};window.PLOTLYENV.BASE_URL=\"https://plot.ly\";Plotly.newPlot(\"a32879a7-ee54-4372-9eb7-de4fb4be9edb\", [{\"name\": \"\\u672a\\u4e0b\\u673a\\u9879\\u76ee\\u6570\", \"x\": [\"10-1\", \"9-1\", \"9-2\", \"9-3\", \"9-4\"], \"y\": [81, 127, 115, 121, 96], \"type\": \"scatter\", \"uid\": \"69dd9852-d1af-11e8-8ddb-a41f72875c19\"}], {\"title\": \"\\u672a\\u4e0b\\u673a\\u9879\\u76ee\\u6570\\u5468\\u8d8b\\u52bf\\u56fe\", \"xaxis\": {\"mirror\": \"all\", \"nticks\": 20, \"showgrid\": true, \"showline\": true, \"title\": \"\\u5468\", \"zeroline\": true}, \"yaxis\": {\"mirror\": \"all\", \"nticks\": 20, \"showgrid\": true, \"showline\": true, \"title\": \"\\u672a\\u4e0b\\u673a\\u9879\\u76ee\\u6570\", \"zeroline\": true}}, {\"showLink\": true, \"linkText\": \"Export to plot.ly\"})});</script>"
      ]
     },
     "metadata": {},
     "output_type": "display_data"
    },
    {
     "data": {
      "application/vnd.plotly.v1+json": {
       "data": [
        {
         "name": "未下机项目数",
         "type": "scatter",
         "uid": "69dd9853-d1af-11e8-8ddb-a41f72875c19",
         "x": [
          9,
          10
         ],
         "y": [
          459,
          81
         ]
        }
       ],
       "layout": {
        "title": "未下机项目数月趋势图",
        "xaxis": {
         "mirror": "all",
         "nticks": 20,
         "showgrid": true,
         "showline": true,
         "title": "月",
         "zeroline": true
        },
        "yaxis": {
         "mirror": "all",
         "nticks": 20,
         "showgrid": true,
         "showline": true,
         "title": "未下机项目数",
         "zeroline": true
        }
       }
      },
      "text/html": [
       "<div id=\"c97bc558-f05d-4298-860f-5d62ed0d45b7\" style=\"height: 525px; width: 100%;\" class=\"plotly-graph-div\"></div><script type=\"text/javascript\">require([\"plotly\"], function(Plotly) { window.PLOTLYENV=window.PLOTLYENV || {};window.PLOTLYENV.BASE_URL=\"https://plot.ly\";Plotly.newPlot(\"c97bc558-f05d-4298-860f-5d62ed0d45b7\", [{\"name\": \"\\u672a\\u4e0b\\u673a\\u9879\\u76ee\\u6570\", \"x\": [9, 10], \"y\": [459, 81], \"type\": \"scatter\", \"uid\": \"69dd9853-d1af-11e8-8ddb-a41f72875c19\"}], {\"title\": \"\\u672a\\u4e0b\\u673a\\u9879\\u76ee\\u6570\\u6708\\u8d8b\\u52bf\\u56fe\", \"xaxis\": {\"mirror\": \"all\", \"nticks\": 20, \"showgrid\": true, \"showline\": true, \"title\": \"\\u6708\", \"zeroline\": true}, \"yaxis\": {\"mirror\": \"all\", \"nticks\": 20, \"showgrid\": true, \"showline\": true, \"title\": \"\\u672a\\u4e0b\\u673a\\u9879\\u76ee\\u6570\", \"zeroline\": true}}, {\"showLink\": true, \"linkText\": \"Export to plot.ly\"})});</script>"
      ],
      "text/vnd.plotly.v1+html": [
       "<div id=\"c97bc558-f05d-4298-860f-5d62ed0d45b7\" style=\"height: 525px; width: 100%;\" class=\"plotly-graph-div\"></div><script type=\"text/javascript\">require([\"plotly\"], function(Plotly) { window.PLOTLYENV=window.PLOTLYENV || {};window.PLOTLYENV.BASE_URL=\"https://plot.ly\";Plotly.newPlot(\"c97bc558-f05d-4298-860f-5d62ed0d45b7\", [{\"name\": \"\\u672a\\u4e0b\\u673a\\u9879\\u76ee\\u6570\", \"x\": [9, 10], \"y\": [459, 81], \"type\": \"scatter\", \"uid\": \"69dd9853-d1af-11e8-8ddb-a41f72875c19\"}], {\"title\": \"\\u672a\\u4e0b\\u673a\\u9879\\u76ee\\u6570\\u6708\\u8d8b\\u52bf\\u56fe\", \"xaxis\": {\"mirror\": \"all\", \"nticks\": 20, \"showgrid\": true, \"showline\": true, \"title\": \"\\u6708\", \"zeroline\": true}, \"yaxis\": {\"mirror\": \"all\", \"nticks\": 20, \"showgrid\": true, \"showline\": true, \"title\": \"\\u672a\\u4e0b\\u673a\\u9879\\u76ee\\u6570\", \"zeroline\": true}}, {\"showLink\": true, \"linkText\": \"Export to plot.ly\"})});</script>"
      ]
     },
     "metadata": {},
     "output_type": "display_data"
    }
   ],
   "source": [
    "ss = myModule.format(all_df1 ,\"日期（格式“月-周次”）\" ,['未下机项目数' ])\n",
    "#ss.add_group('组别')\n",
    "#ss.get_average_by('人员')\n",
    "myModule.myPlot(ss.groupby('sum')).plot('line')\n",
    "ss = myModule.format(all_df1 ,\"month\" ,['未下机项目数' ])\n",
    "#ss.add_group('组别')\n",
    "#ss.get_average_by('人员')\n",
    "myModule.myPlot(ss.groupby('sum')).plot('line','月')"
   ]
  },
  {
   "cell_type": "markdown",
   "metadata": {},
   "source": [
    "# 项目质量情况"
   ]
  },
  {
   "cell_type": "markdown",
   "metadata": {},
   "source": [
    "## 项目周期情况"
   ]
  },
  {
   "cell_type": "markdown",
   "metadata": {},
   "source": [
    "### 延期项目数"
   ]
  },
  {
   "cell_type": "code",
   "execution_count": 167,
   "metadata": {},
   "outputs": [
    {
     "data": {
      "application/vnd.plotly.v1+json": {
       "data": [
        {
         "name": "延期个性化项目数",
         "type": "scatter",
         "uid": "69dd9854-d1af-11e8-8ddb-a41f72875c19",
         "x": [
          "10-1",
          "9-1",
          "9-2",
          "9-3",
          "9-4"
         ],
         "y": [
          0,
          3,
          0,
          0,
          1
         ]
        },
        {
         "name": "延期商业项目数",
         "type": "scatter",
         "uid": "69dd9855-d1af-11e8-8ddb-a41f72875c19",
         "x": [
          "10-1",
          "9-1",
          "9-2",
          "9-3",
          "9-4"
         ],
         "y": [
          2,
          0,
          0,
          1,
          1
         ]
        }
       ],
       "layout": {
        "title": "延期个性化项目数&延期商业项目数周趋势图",
        "xaxis": {
         "mirror": "all",
         "nticks": 20,
         "showgrid": true,
         "showline": true,
         "title": "周",
         "zeroline": true
        },
        "yaxis": {
         "mirror": "all",
         "nticks": 20,
         "showgrid": true,
         "showline": true,
         "title": "延期个性化项目数&延期商业项目数",
         "zeroline": true
        }
       }
      },
      "text/html": [
       "<div id=\"44c02524-4a4d-4a81-8ba9-25cf1816386e\" style=\"height: 525px; width: 100%;\" class=\"plotly-graph-div\"></div><script type=\"text/javascript\">require([\"plotly\"], function(Plotly) { window.PLOTLYENV=window.PLOTLYENV || {};window.PLOTLYENV.BASE_URL=\"https://plot.ly\";Plotly.newPlot(\"44c02524-4a4d-4a81-8ba9-25cf1816386e\", [{\"name\": \"\\u5ef6\\u671f\\u4e2a\\u6027\\u5316\\u9879\\u76ee\\u6570\", \"x\": [\"10-1\", \"9-1\", \"9-2\", \"9-3\", \"9-4\"], \"y\": [0, 3, 0, 0, 1], \"type\": \"scatter\", \"uid\": \"69dd9854-d1af-11e8-8ddb-a41f72875c19\"}, {\"name\": \"\\u5ef6\\u671f\\u5546\\u4e1a\\u9879\\u76ee\\u6570\", \"x\": [\"10-1\", \"9-1\", \"9-2\", \"9-3\", \"9-4\"], \"y\": [2, 0, 0, 1, 1], \"type\": \"scatter\", \"uid\": \"69dd9855-d1af-11e8-8ddb-a41f72875c19\"}], {\"title\": \"\\u5ef6\\u671f\\u4e2a\\u6027\\u5316\\u9879\\u76ee\\u6570&\\u5ef6\\u671f\\u5546\\u4e1a\\u9879\\u76ee\\u6570\\u5468\\u8d8b\\u52bf\\u56fe\", \"xaxis\": {\"mirror\": \"all\", \"nticks\": 20, \"showgrid\": true, \"showline\": true, \"title\": \"\\u5468\", \"zeroline\": true}, \"yaxis\": {\"mirror\": \"all\", \"nticks\": 20, \"showgrid\": true, \"showline\": true, \"title\": \"\\u5ef6\\u671f\\u4e2a\\u6027\\u5316\\u9879\\u76ee\\u6570&\\u5ef6\\u671f\\u5546\\u4e1a\\u9879\\u76ee\\u6570\", \"zeroline\": true}}, {\"showLink\": true, \"linkText\": \"Export to plot.ly\"})});</script>"
      ],
      "text/vnd.plotly.v1+html": [
       "<div id=\"44c02524-4a4d-4a81-8ba9-25cf1816386e\" style=\"height: 525px; width: 100%;\" class=\"plotly-graph-div\"></div><script type=\"text/javascript\">require([\"plotly\"], function(Plotly) { window.PLOTLYENV=window.PLOTLYENV || {};window.PLOTLYENV.BASE_URL=\"https://plot.ly\";Plotly.newPlot(\"44c02524-4a4d-4a81-8ba9-25cf1816386e\", [{\"name\": \"\\u5ef6\\u671f\\u4e2a\\u6027\\u5316\\u9879\\u76ee\\u6570\", \"x\": [\"10-1\", \"9-1\", \"9-2\", \"9-3\", \"9-4\"], \"y\": [0, 3, 0, 0, 1], \"type\": \"scatter\", \"uid\": \"69dd9854-d1af-11e8-8ddb-a41f72875c19\"}, {\"name\": \"\\u5ef6\\u671f\\u5546\\u4e1a\\u9879\\u76ee\\u6570\", \"x\": [\"10-1\", \"9-1\", \"9-2\", \"9-3\", \"9-4\"], \"y\": [2, 0, 0, 1, 1], \"type\": \"scatter\", \"uid\": \"69dd9855-d1af-11e8-8ddb-a41f72875c19\"}], {\"title\": \"\\u5ef6\\u671f\\u4e2a\\u6027\\u5316\\u9879\\u76ee\\u6570&\\u5ef6\\u671f\\u5546\\u4e1a\\u9879\\u76ee\\u6570\\u5468\\u8d8b\\u52bf\\u56fe\", \"xaxis\": {\"mirror\": \"all\", \"nticks\": 20, \"showgrid\": true, \"showline\": true, \"title\": \"\\u5468\", \"zeroline\": true}, \"yaxis\": {\"mirror\": \"all\", \"nticks\": 20, \"showgrid\": true, \"showline\": true, \"title\": \"\\u5ef6\\u671f\\u4e2a\\u6027\\u5316\\u9879\\u76ee\\u6570&\\u5ef6\\u671f\\u5546\\u4e1a\\u9879\\u76ee\\u6570\", \"zeroline\": true}}, {\"showLink\": true, \"linkText\": \"Export to plot.ly\"})});</script>"
      ]
     },
     "metadata": {},
     "output_type": "display_data"
    },
    {
     "data": {
      "application/vnd.plotly.v1+json": {
       "data": [
        {
         "name": "延期个性化项目数",
         "type": "scatter",
         "uid": "69dd9856-d1af-11e8-8ddb-a41f72875c19",
         "x": [
          9,
          10
         ],
         "y": [
          4,
          0
         ]
        },
        {
         "name": "延期商业项目数",
         "type": "scatter",
         "uid": "69dd9857-d1af-11e8-8ddb-a41f72875c19",
         "x": [
          9,
          10
         ],
         "y": [
          2,
          2
         ]
        }
       ],
       "layout": {
        "title": "延期个性化项目数&延期商业项目数月趋势图",
        "xaxis": {
         "mirror": "all",
         "nticks": 20,
         "showgrid": true,
         "showline": true,
         "title": "月",
         "zeroline": true
        },
        "yaxis": {
         "mirror": "all",
         "nticks": 20,
         "showgrid": true,
         "showline": true,
         "title": "延期个性化项目数&延期商业项目数",
         "zeroline": true
        }
       }
      },
      "text/html": [
       "<div id=\"4fdbd0ad-3ceb-4590-b318-177bf945f50f\" style=\"height: 525px; width: 100%;\" class=\"plotly-graph-div\"></div><script type=\"text/javascript\">require([\"plotly\"], function(Plotly) { window.PLOTLYENV=window.PLOTLYENV || {};window.PLOTLYENV.BASE_URL=\"https://plot.ly\";Plotly.newPlot(\"4fdbd0ad-3ceb-4590-b318-177bf945f50f\", [{\"name\": \"\\u5ef6\\u671f\\u4e2a\\u6027\\u5316\\u9879\\u76ee\\u6570\", \"x\": [9, 10], \"y\": [4, 0], \"type\": \"scatter\", \"uid\": \"69dd9856-d1af-11e8-8ddb-a41f72875c19\"}, {\"name\": \"\\u5ef6\\u671f\\u5546\\u4e1a\\u9879\\u76ee\\u6570\", \"x\": [9, 10], \"y\": [2, 2], \"type\": \"scatter\", \"uid\": \"69dd9857-d1af-11e8-8ddb-a41f72875c19\"}], {\"title\": \"\\u5ef6\\u671f\\u4e2a\\u6027\\u5316\\u9879\\u76ee\\u6570&\\u5ef6\\u671f\\u5546\\u4e1a\\u9879\\u76ee\\u6570\\u6708\\u8d8b\\u52bf\\u56fe\", \"xaxis\": {\"mirror\": \"all\", \"nticks\": 20, \"showgrid\": true, \"showline\": true, \"title\": \"\\u6708\", \"zeroline\": true}, \"yaxis\": {\"mirror\": \"all\", \"nticks\": 20, \"showgrid\": true, \"showline\": true, \"title\": \"\\u5ef6\\u671f\\u4e2a\\u6027\\u5316\\u9879\\u76ee\\u6570&\\u5ef6\\u671f\\u5546\\u4e1a\\u9879\\u76ee\\u6570\", \"zeroline\": true}}, {\"showLink\": true, \"linkText\": \"Export to plot.ly\"})});</script>"
      ],
      "text/vnd.plotly.v1+html": [
       "<div id=\"4fdbd0ad-3ceb-4590-b318-177bf945f50f\" style=\"height: 525px; width: 100%;\" class=\"plotly-graph-div\"></div><script type=\"text/javascript\">require([\"plotly\"], function(Plotly) { window.PLOTLYENV=window.PLOTLYENV || {};window.PLOTLYENV.BASE_URL=\"https://plot.ly\";Plotly.newPlot(\"4fdbd0ad-3ceb-4590-b318-177bf945f50f\", [{\"name\": \"\\u5ef6\\u671f\\u4e2a\\u6027\\u5316\\u9879\\u76ee\\u6570\", \"x\": [9, 10], \"y\": [4, 0], \"type\": \"scatter\", \"uid\": \"69dd9856-d1af-11e8-8ddb-a41f72875c19\"}, {\"name\": \"\\u5ef6\\u671f\\u5546\\u4e1a\\u9879\\u76ee\\u6570\", \"x\": [9, 10], \"y\": [2, 2], \"type\": \"scatter\", \"uid\": \"69dd9857-d1af-11e8-8ddb-a41f72875c19\"}], {\"title\": \"\\u5ef6\\u671f\\u4e2a\\u6027\\u5316\\u9879\\u76ee\\u6570&\\u5ef6\\u671f\\u5546\\u4e1a\\u9879\\u76ee\\u6570\\u6708\\u8d8b\\u52bf\\u56fe\", \"xaxis\": {\"mirror\": \"all\", \"nticks\": 20, \"showgrid\": true, \"showline\": true, \"title\": \"\\u6708\", \"zeroline\": true}, \"yaxis\": {\"mirror\": \"all\", \"nticks\": 20, \"showgrid\": true, \"showline\": true, \"title\": \"\\u5ef6\\u671f\\u4e2a\\u6027\\u5316\\u9879\\u76ee\\u6570&\\u5ef6\\u671f\\u5546\\u4e1a\\u9879\\u76ee\\u6570\", \"zeroline\": true}}, {\"showLink\": true, \"linkText\": \"Export to plot.ly\"})});</script>"
      ]
     },
     "metadata": {},
     "output_type": "display_data"
    }
   ],
   "source": [
    "ss = myModule.format(all_df2 ,\"日期（格式“月-周次”）\" ,['延期商业项目数','延期个性化项目数' ])\n",
    "#ss.add_group('组别')\n",
    "#ss.get_average_by('人员')\n",
    "myModule.myPlot(ss.groupby('sum')).plot('line')\n",
    "ss = myModule.format(all_df2 ,\"month\" ,['延期商业项目数','延期个性化项目数' ])\n",
    "#ss.add_group('组别')\n",
    "#ss.get_average_by('人员')\n",
    "myModule.myPlot(ss.groupby('sum')).plot('line','月')"
   ]
  },
  {
   "cell_type": "markdown",
   "metadata": {},
   "source": [
    "### 项目执行延期率"
   ]
  },
  {
   "cell_type": "code",
   "execution_count": 168,
   "metadata": {},
   "outputs": [
    {
     "ename": "AttributeError",
     "evalue": "module 'myModule' has no attribute 'plot'",
     "output_type": "error",
     "traceback": [
      "\u001b[0;31m---------------------------------------------------------------------------\u001b[0m",
      "\u001b[0;31mAttributeError\u001b[0m                            Traceback (most recent call last)",
      "\u001b[0;32m<ipython-input-168-44b8ee2efb04>\u001b[0m in \u001b[0;36m<module>\u001b[0;34m()\u001b[0m\n\u001b[1;32m      2\u001b[0m              \u001b[0;34m'个性化项目延期率'\u001b[0m\u001b[0;34m:\u001b[0m\u001b[0;34m[\u001b[0m\u001b[0;34m'延期个性化项目数'\u001b[0m\u001b[0;34m,\u001b[0m \u001b[0;34m'总个性化数'\u001b[0m\u001b[0;34m]\u001b[0m\u001b[0;34m,\u001b[0m\u001b[0;34m\u001b[0m\u001b[0m\n\u001b[1;32m      3\u001b[0m              '总延期率':['总延期项目数', '总项目数']}\n\u001b[0;32m----> 4\u001b[0;31m \u001b[0mmyModule\u001b[0m\u001b[0;34m.\u001b[0m\u001b[0mplot\u001b[0m\u001b[0;34m(\u001b[0m \u001b[0mall_dict\u001b[0m\u001b[0;34m,\u001b[0m \u001b[0mdata_dict\u001b[0m\u001b[0;34m,\u001b[0m \u001b[0;34m'人员'\u001b[0m \u001b[0;34m,\u001b[0m  \u001b[0;34m'line'\u001b[0m \u001b[0;34m,\u001b[0m \u001b[0mtotal\u001b[0m\u001b[0;34m=\u001b[0m\u001b[0;32mTrue\u001b[0m \u001b[0;34m,\u001b[0m\u001b[0mtime_list\u001b[0m \u001b[0;34m=\u001b[0m \u001b[0mtime_list\u001b[0m\u001b[0;34m)\u001b[0m\u001b[0;34m\u001b[0m\u001b[0m\n\u001b[0m\u001b[1;32m      5\u001b[0m \u001b[0mmyModule\u001b[0m\u001b[0;34m.\u001b[0m\u001b[0mplot\u001b[0m\u001b[0;34m(\u001b[0m \u001b[0mall_dict\u001b[0m\u001b[0;34m,\u001b[0m \u001b[0mdata_dict\u001b[0m\u001b[0;34m,\u001b[0m \u001b[0;34m'组别'\u001b[0m \u001b[0;34m,\u001b[0m  \u001b[0;34m'line'\u001b[0m \u001b[0;34m,\u001b[0m\u001b[0mtime_list\u001b[0m \u001b[0;34m=\u001b[0m \u001b[0mtime_list\u001b[0m\u001b[0;34m)\u001b[0m\u001b[0;34m\u001b[0m\u001b[0m\n",
      "\u001b[0;31mAttributeError\u001b[0m: module 'myModule' has no attribute 'plot'"
     ]
    }
   ],
   "source": [
    "data_dict = {'商业项目延期率':['延期商业项目数', '总商业项目数'], \n",
    "             '个性化项目延期率':['延期个性化项目数', '总个性化数'],\n",
    "             '总延期率':['总延期项目数', '总项目数']}\n",
    "myModule.plot( all_dict, data_dict, '人员' ,  'line' , total=True ,time_list = time_list)\n",
    "myModule.plot( all_dict, data_dict, '组别' ,  'line' ,time_list = time_list)"
   ]
  },
  {
   "cell_type": "markdown",
   "metadata": {},
   "source": [
    "## 项目过程执行情况"
   ]
  },
  {
   "cell_type": "markdown",
   "metadata": {},
   "source": [
    "### 反馈延期数"
   ]
  },
  {
   "cell_type": "code",
   "execution_count": null,
   "metadata": {},
   "outputs": [],
   "source": [
    "ss = myModule.format(all_df2 ,\"日期（格式“月-周次”）\" ,['24h内未完成数据反馈项目数' ])\n",
    "#ss.add_group('组别')\n",
    "#ss.get_average_by('人员')\n",
    "myModule.myPlot(ss.groupby('sum')).plot('line')\n",
    "ss = myModule.format(all_df2 ,\"month\" ,['24h内未完成数据反馈项目数' ])\n",
    "#ss.add_group('组别')\n",
    "#ss.get_average_by('人员')\n",
    "myModule.myPlot(ss.groupby('sum')).plot('line','月')"
   ]
  },
  {
   "cell_type": "markdown",
   "metadata": {},
   "source": [
    "### 反馈延期率"
   ]
  },
  {
   "cell_type": "code",
   "execution_count": null,
   "metadata": {},
   "outputs": [],
   "source": [
    "ss = myModule.format(all_df2 ,\"日期（格式“月-周次”）\",['24h内未完成数据反馈项目数','下机项目数'])\n",
    "ss.df\n",
    "#tt = ss.get_total_ratio([['反馈延期率' ,'24h内未完成数据反馈项目数' , '下机项目数','/']] )\n",
    "#myModule.myPlot(tt).plot('line')\n",
    "#ss.add_group('组别')\n",
    "#ss.get_average_by('人员')\n",
    "#myModule.myPlot(ss.groupby('sum')).plot('line')\n",
    "#ss = myModule.format(all_df2 ,\"month\" ,['24h内未完成数据反馈项目数' ])\n",
    "#ss.add_group('组别')\n",
    "#ss.get_average_by('人员')\n",
    "#myModule.myPlot(ss.groupby('sum')).plot('line','月')"
   ]
  },
  {
   "cell_type": "markdown",
   "metadata": {},
   "source": [
    "## 交付延期率"
   ]
  },
  {
   "cell_type": "markdown",
   "metadata": {},
   "source": [
    "### 分析组交付延期率"
   ]
  },
  {
   "cell_type": "code",
   "execution_count": null,
   "metadata": {},
   "outputs": [],
   "source": [
    "ss = myModule.format(all_df2 ,\"日期（格式“月-周次”）\" ,['24h内未完成数据交付项目数','待交付项目数' ])\n",
    "#ss.add_group('组别')\n",
    "#ss.get_average_by('人员')\n",
    "tt = ss.get_total_ratio([['各组交付延期率' ,'24h内未完成数据交付项目数','待交付项目数','/']] )\n",
    "myModule.myPlot(tt).plot('line')"
   ]
  },
  {
   "cell_type": "markdown",
   "metadata": {},
   "source": [
    "### 各组交付延期率"
   ]
  },
  {
   "cell_type": "code",
   "execution_count": null,
   "metadata": {},
   "outputs": [],
   "source": [
    "ss = myModule.format(all_df2 ,\"日期（格式“月-周次”）\" ,['24h内未完成数据交付项目数','待交付项目数' ])\n",
    "ss.add_group('组别')\n",
    "#ss.get_average_by('人员')\n",
    "tt = ss.get_total_ratio([['各组交付延期率' ,'24h内未完成数据交付项目数','待交付项目数','/']] )\n",
    "myModule.myPlot(tt).plot('line')"
   ]
  },
  {
   "cell_type": "code",
   "execution_count": null,
   "metadata": {
    "collapsed": true
   },
   "outputs": [],
   "source": []
  }
 ],
 "metadata": {
  "hide_input": false,
  "kernelspec": {
   "display_name": "Python 3",
   "language": "python",
   "name": "python3"
  },
  "language_info": {
   "codemirror_mode": {
    "name": "ipython",
    "version": 3
   },
   "file_extension": ".py",
   "mimetype": "text/x-python",
   "name": "python",
   "nbconvert_exporter": "python",
   "pygments_lexer": "ipython3",
   "version": "3.6.6"
  },
  "toc": {
   "base_numbering": 1,
   "nav_menu": {
    "height": "247px",
    "width": "215px"
   },
   "number_sections": true,
   "sideBar": true,
   "skip_h1_title": false,
   "title_cell": "Table of Contents",
   "title_sidebar": "Contents",
   "toc_cell": false,
   "toc_position": {
    "height": "calc(100% - 180px)",
    "left": "10px",
    "top": "150px",
    "width": "245px"
   },
   "toc_section_display": true,
   "toc_window_display": true
  }
 },
 "nbformat": 4,
 "nbformat_minor": 2
}
