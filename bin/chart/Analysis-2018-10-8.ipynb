{
 "cells": [
  {
   "cell_type": "markdown",
   "metadata": {},
   "source": [
    "tobedone：每组人均产能，表格的规整和简化"
   ]
  },
  {
   "cell_type": "code",
   "execution_count": 139,
   "metadata": {
    "collapsed": false
   },
   "outputs": [
    {
     "name": "stdout",
     "output_type": "stream",
     "text": [
      "The autoreload extension is already loaded. To reload it, use:\n",
      "  %reload_ext autoreload\n"
     ]
    }
   ],
   "source": [
    "%load_ext autoreload\n",
    "%autoreload 2"
   ]
  },
  {
   "cell_type": "code",
   "execution_count": 140,
   "metadata": {
    "collapsed": false,
    "scrolled": true
   },
   "outputs": [
    {
     "data": {
      "text/html": [
       "<script>requirejs.config({paths: { 'plotly': ['https://cdn.plot.ly/plotly-latest.min']},});if(!window.Plotly) {{require(['plotly'],function(plotly) {window.Plotly=plotly;});}}</script>"
      ],
      "text/vnd.plotly.v1+html": [
       "<script>requirejs.config({paths: { 'plotly': ['https://cdn.plot.ly/plotly-latest.min']},});if(!window.Plotly) {{require(['plotly'],function(plotly) {window.Plotly=plotly;});}}</script>"
      ]
     },
     "metadata": {},
     "output_type": "display_data"
    }
   ],
   "source": [
    "import sys\n",
    "sys.path.append('./')\n",
    "import myModule\n",
    "import imp\n",
    "imp.reload(myModule)\n",
    "time_list=['week']"
   ]
  },
  {
   "cell_type": "code",
   "execution_count": 141,
   "metadata": {
    "collapsed": false,
    "scrolled": true
   },
   "outputs": [],
   "source": [
    "import os\n",
    "bindir = os.path.dirname(os.getcwd())\n",
    "pathway = bindir + '/../data/Analysis/'\n",
    "all_files , title = myModule.get_title(pathway, 0)   ##给路径\n",
    "all_df1  = myModule.read_xlsx(all_files , 0 )## read all files sheet1\n",
    "all_df2  = myModule.read_xlsx(all_files , 1 )\n",
    "all_df3  = myModule.read_xlsx(all_files , 2 )"
   ]
  },
  {
   "cell_type": "markdown",
   "metadata": {},
   "source": [
    "# 人员情况"
   ]
  },
  {
   "cell_type": "code",
   "execution_count": 142,
   "metadata": {
    "collapsed": false
   },
   "outputs": [],
   "source": [
    "### show NA after first running\n",
    "myModule.upgrade_df(all_df1, [ ['完成商业项目数',['完成流水线项目数','完成非流水线项目数','完成只分析项目数','完成联合分析项目数'],'+']])\n",
    "myModule.upgrade_df(all_df1, [ ['完成项目总数',['完成商业项目数','完成个性化数'],'+'] , \n",
    "                               ['在线项目总数',['在线标准分析项目数','在线个性化项目数'],'+']])\n",
    "#all_dict2 = myModule.read_xlsx(all_files , 1 ) ##\n",
    "all_df1 = all_df1[all_df1['人员'] != '李晓波']\n",
    "all_df1 = all_df1[all_df1['人员'] != '靳甜甜']\n",
    "#all_df1[all_df1['日期（格式“月-周次”）'] == '10-5']"
   ]
  },
  {
   "cell_type": "markdown",
   "metadata": {},
   "source": [
    "## 分析组整体人员情况"
   ]
  },
  {
   "cell_type": "code",
   "execution_count": 143,
   "metadata": {
    "collapsed": false,
    "scrolled": false
   },
   "outputs": [
    {
     "data": {
      "application/vnd.plotly.v1+json": {
       "data": [
        {
         "name": "人员",
         "type": "bar",
         "uid": "b9a686ba-e638-11e8-8ddb-a41f72875c19",
         "x": [
          "9-1",
          "9-2",
          "9-3",
          "9-4",
          "10-2",
          "10-3",
          "10-4",
          "10-5",
          "11-1"
         ],
         "y": [
          16,
          16,
          16,
          16,
          14,
          14,
          14,
          20,
          20
         ]
        }
       ],
       "layout": {
        "title": "人员周趋势图",
        "xaxis": {
         "mirror": "all",
         "nticks": 20,
         "showgrid": true,
         "showline": true,
         "title": "周",
         "type": "category",
         "zeroline": true
        },
        "yaxis": {
         "mirror": "all",
         "nticks": 20,
         "showgrid": true,
         "showline": true,
         "title": "人员",
         "zeroline": true
        }
       }
      },
      "text/html": [
       "<div id=\"e6b9c9c0-cab3-413b-b089-e54781f1b3e8\" style=\"height: 525px; width: 100%;\" class=\"plotly-graph-div\"></div><script type=\"text/javascript\">require([\"plotly\"], function(Plotly) { window.PLOTLYENV=window.PLOTLYENV || {};window.PLOTLYENV.BASE_URL=\"https://plot.ly\";Plotly.newPlot(\"e6b9c9c0-cab3-413b-b089-e54781f1b3e8\", [{\"name\": \"\\u4eba\\u5458\", \"x\": [\"9-1\", \"9-2\", \"9-3\", \"9-4\", \"10-2\", \"10-3\", \"10-4\", \"10-5\", \"11-1\"], \"y\": [16, 16, 16, 16, 14, 14, 14, 20, 20], \"type\": \"bar\", \"uid\": \"b9a686ba-e638-11e8-8ddb-a41f72875c19\"}], {\"title\": \"\\u4eba\\u5458\\u5468\\u8d8b\\u52bf\\u56fe\", \"xaxis\": {\"mirror\": \"all\", \"nticks\": 20, \"showgrid\": true, \"showline\": true, \"title\": \"\\u5468\", \"type\": \"category\", \"zeroline\": true}, \"yaxis\": {\"mirror\": \"all\", \"nticks\": 20, \"showgrid\": true, \"showline\": true, \"title\": \"\\u4eba\\u5458\", \"zeroline\": true}}, {\"showLink\": true, \"linkText\": \"Export to plot.ly\"})});</script>"
      ],
      "text/vnd.plotly.v1+html": [
       "<div id=\"e6b9c9c0-cab3-413b-b089-e54781f1b3e8\" style=\"height: 525px; width: 100%;\" class=\"plotly-graph-div\"></div><script type=\"text/javascript\">require([\"plotly\"], function(Plotly) { window.PLOTLYENV=window.PLOTLYENV || {};window.PLOTLYENV.BASE_URL=\"https://plot.ly\";Plotly.newPlot(\"e6b9c9c0-cab3-413b-b089-e54781f1b3e8\", [{\"name\": \"\\u4eba\\u5458\", \"x\": [\"9-1\", \"9-2\", \"9-3\", \"9-4\", \"10-2\", \"10-3\", \"10-4\", \"10-5\", \"11-1\"], \"y\": [16, 16, 16, 16, 14, 14, 14, 20, 20], \"type\": \"bar\", \"uid\": \"b9a686ba-e638-11e8-8ddb-a41f72875c19\"}], {\"title\": \"\\u4eba\\u5458\\u5468\\u8d8b\\u52bf\\u56fe\", \"xaxis\": {\"mirror\": \"all\", \"nticks\": 20, \"showgrid\": true, \"showline\": true, \"title\": \"\\u5468\", \"type\": \"category\", \"zeroline\": true}, \"yaxis\": {\"mirror\": \"all\", \"nticks\": 20, \"showgrid\": true, \"showline\": true, \"title\": \"\\u4eba\\u5458\", \"zeroline\": true}}, {\"showLink\": true, \"linkText\": \"Export to plot.ly\"})});</script>"
      ]
     },
     "metadata": {},
     "output_type": "display_data"
    }
   ],
   "source": [
    "ss = myModule.format(all_df1 ,\"日期（格式“月-周次”）\" ,['人员'])\n",
    "ss.groupby('count')\n",
    "myModule.sort_by_index(ss.groupby('count'))\n",
    "tt = myModule.myPlot(myModule.sort_by_index(ss.groupby('count')))\n",
    "tt.plot('bar')"
   ]
  },
  {
   "cell_type": "code",
   "execution_count": 144,
   "metadata": {
    "collapsed": false,
    "scrolled": false
   },
   "outputs": [
    {
     "data": {
      "application/vnd.plotly.v1+json": {
       "data": [
        {
         "name": "人员",
         "type": "bar",
         "uid": "b9a686bb-e638-11e8-8ddb-a41f72875c19",
         "x": [
          9,
          10,
          11
         ],
         "y": [
          16,
          15.5,
          20
         ]
        }
       ],
       "layout": {
        "title": "人员月趋势图",
        "xaxis": {
         "mirror": "all",
         "nticks": 20,
         "showgrid": true,
         "showline": true,
         "title": "月",
         "type": "category",
         "zeroline": true
        },
        "yaxis": {
         "mirror": "all",
         "nticks": 20,
         "showgrid": true,
         "showline": true,
         "title": "人员",
         "zeroline": true
        }
       }
      },
      "text/html": [
       "<div id=\"45c150d4-42aa-4f21-b513-161702df9fcc\" style=\"height: 525px; width: 100%;\" class=\"plotly-graph-div\"></div><script type=\"text/javascript\">require([\"plotly\"], function(Plotly) { window.PLOTLYENV=window.PLOTLYENV || {};window.PLOTLYENV.BASE_URL=\"https://plot.ly\";Plotly.newPlot(\"45c150d4-42aa-4f21-b513-161702df9fcc\", [{\"name\": \"\\u4eba\\u5458\", \"x\": [9, 10, 11], \"y\": [16.0, 15.5, 20.0], \"type\": \"bar\", \"uid\": \"b9a686bb-e638-11e8-8ddb-a41f72875c19\"}], {\"title\": \"\\u4eba\\u5458\\u6708\\u8d8b\\u52bf\\u56fe\", \"xaxis\": {\"mirror\": \"all\", \"nticks\": 20, \"showgrid\": true, \"showline\": true, \"title\": \"\\u6708\", \"type\": \"category\", \"zeroline\": true}, \"yaxis\": {\"mirror\": \"all\", \"nticks\": 20, \"showgrid\": true, \"showline\": true, \"title\": \"\\u4eba\\u5458\", \"zeroline\": true}}, {\"showLink\": true, \"linkText\": \"Export to plot.ly\"})});</script>"
      ],
      "text/vnd.plotly.v1+html": [
       "<div id=\"45c150d4-42aa-4f21-b513-161702df9fcc\" style=\"height: 525px; width: 100%;\" class=\"plotly-graph-div\"></div><script type=\"text/javascript\">require([\"plotly\"], function(Plotly) { window.PLOTLYENV=window.PLOTLYENV || {};window.PLOTLYENV.BASE_URL=\"https://plot.ly\";Plotly.newPlot(\"45c150d4-42aa-4f21-b513-161702df9fcc\", [{\"name\": \"\\u4eba\\u5458\", \"x\": [9, 10, 11], \"y\": [16.0, 15.5, 20.0], \"type\": \"bar\", \"uid\": \"b9a686bb-e638-11e8-8ddb-a41f72875c19\"}], {\"title\": \"\\u4eba\\u5458\\u6708\\u8d8b\\u52bf\\u56fe\", \"xaxis\": {\"mirror\": \"all\", \"nticks\": 20, \"showgrid\": true, \"showline\": true, \"title\": \"\\u6708\", \"type\": \"category\", \"zeroline\": true}, \"yaxis\": {\"mirror\": \"all\", \"nticks\": 20, \"showgrid\": true, \"showline\": true, \"title\": \"\\u4eba\\u5458\", \"zeroline\": true}}, {\"showLink\": true, \"linkText\": \"Export to plot.ly\"})});</script>"
      ]
     },
     "metadata": {},
     "output_type": "display_data"
    }
   ],
   "source": [
    "ss = myModule.format(all_df1 ,\"month\" ,['人员'] )\n",
    "ss.get_average_by('日期（格式“月-周次”）')\n",
    "tt = myModule.myPlot(ss.groupby(\"count\") )# ,\"日期（格式“月-周次”）\" ,['人员'])\n",
    "tt.plot('bar',tag='月')"
   ]
  },
  {
   "cell_type": "markdown",
   "metadata": {},
   "source": [
    "## 各组人员情况"
   ]
  },
  {
   "cell_type": "code",
   "execution_count": 145,
   "metadata": {
    "collapsed": false
   },
   "outputs": [
    {
     "data": {
      "application/vnd.plotly.v1+json": {
       "data": [
        {
         "name": "人员(个性化组)",
         "type": "bar",
         "uid": "b9a686bc-e638-11e8-8ddb-a41f72875c19",
         "x": [
          "9-1",
          "9-2",
          "9-3",
          "9-4",
          "10-2",
          "10-3",
          "10-4",
          "10-5",
          "11-1"
         ],
         "y": [
          3,
          3,
          3,
          3,
          5,
          5,
          5,
          5,
          5
         ]
        },
        {
         "name": "人员(义乌组)",
         "type": "bar",
         "uid": "b9a686bd-e638-11e8-8ddb-a41f72875c19",
         "x": [
          "9-1",
          "9-2",
          "9-3",
          "9-4",
          "10-2",
          "10-3",
          "10-4",
          "10-5",
          "11-1"
         ],
         "y": [
          null,
          null,
          null,
          null,
          null,
          null,
          null,
          6,
          6
         ]
        },
        {
         "name": "人员(分析一组)",
         "type": "bar",
         "uid": "b9a686be-e638-11e8-8ddb-a41f72875c19",
         "x": [
          "9-1",
          "9-2",
          "9-3",
          "9-4",
          "10-2",
          "10-3",
          "10-4",
          "10-5",
          "11-1"
         ],
         "y": [
          4,
          4,
          4,
          4,
          5,
          5,
          5,
          5,
          5
         ]
        },
        {
         "name": "人员(分析二组)",
         "type": "bar",
         "uid": "b9a686bf-e638-11e8-8ddb-a41f72875c19",
         "x": [
          "9-1",
          "9-2",
          "9-3",
          "9-4",
          "10-2",
          "10-3",
          "10-4",
          "10-5",
          "11-1"
         ],
         "y": [
          9,
          9,
          9,
          9,
          4,
          4,
          4,
          4,
          4
         ]
        }
       ],
       "layout": {
        "barmode": "stack",
        "title": "人员周趋势图",
        "xaxis": {
         "mirror": "all",
         "nticks": 20,
         "showgrid": true,
         "showline": true,
         "title": "周",
         "type": "category",
         "zeroline": true
        },
        "yaxis": {
         "mirror": "all",
         "nticks": 20,
         "showgrid": true,
         "showline": true,
         "title": "人员",
         "zeroline": true
        }
       }
      },
      "text/html": [
       "<div id=\"915978d6-4fa9-41f3-8dd1-708048663459\" style=\"height: 525px; width: 100%;\" class=\"plotly-graph-div\"></div><script type=\"text/javascript\">require([\"plotly\"], function(Plotly) { window.PLOTLYENV=window.PLOTLYENV || {};window.PLOTLYENV.BASE_URL=\"https://plot.ly\";Plotly.newPlot(\"915978d6-4fa9-41f3-8dd1-708048663459\", [{\"name\": \"\\u4eba\\u5458(\\u4e2a\\u6027\\u5316\\u7ec4)\", \"x\": [\"9-1\", \"9-2\", \"9-3\", \"9-4\", \"10-2\", \"10-3\", \"10-4\", \"10-5\", \"11-1\"], \"y\": [3.0, 3.0, 3.0, 3.0, 5.0, 5.0, 5.0, 5.0, 5.0], \"type\": \"bar\", \"uid\": \"b9a686bc-e638-11e8-8ddb-a41f72875c19\"}, {\"name\": \"\\u4eba\\u5458(\\u4e49\\u4e4c\\u7ec4)\", \"x\": [\"9-1\", \"9-2\", \"9-3\", \"9-4\", \"10-2\", \"10-3\", \"10-4\", \"10-5\", \"11-1\"], \"y\": [null, null, null, null, null, null, null, 6.0, 6.0], \"type\": \"bar\", \"uid\": \"b9a686bd-e638-11e8-8ddb-a41f72875c19\"}, {\"name\": \"\\u4eba\\u5458(\\u5206\\u6790\\u4e00\\u7ec4)\", \"x\": [\"9-1\", \"9-2\", \"9-3\", \"9-4\", \"10-2\", \"10-3\", \"10-4\", \"10-5\", \"11-1\"], \"y\": [4.0, 4.0, 4.0, 4.0, 5.0, 5.0, 5.0, 5.0, 5.0], \"type\": \"bar\", \"uid\": \"b9a686be-e638-11e8-8ddb-a41f72875c19\"}, {\"name\": \"\\u4eba\\u5458(\\u5206\\u6790\\u4e8c\\u7ec4)\", \"x\": [\"9-1\", \"9-2\", \"9-3\", \"9-4\", \"10-2\", \"10-3\", \"10-4\", \"10-5\", \"11-1\"], \"y\": [9.0, 9.0, 9.0, 9.0, 4.0, 4.0, 4.0, 4.0, 4.0], \"type\": \"bar\", \"uid\": \"b9a686bf-e638-11e8-8ddb-a41f72875c19\"}], {\"barmode\": \"stack\", \"title\": \"\\u4eba\\u5458\\u5468\\u8d8b\\u52bf\\u56fe\", \"xaxis\": {\"mirror\": \"all\", \"nticks\": 20, \"showgrid\": true, \"showline\": true, \"title\": \"\\u5468\", \"type\": \"category\", \"zeroline\": true}, \"yaxis\": {\"mirror\": \"all\", \"nticks\": 20, \"showgrid\": true, \"showline\": true, \"title\": \"\\u4eba\\u5458\", \"zeroline\": true}}, {\"showLink\": true, \"linkText\": \"Export to plot.ly\"})});</script>"
      ],
      "text/vnd.plotly.v1+html": [
       "<div id=\"915978d6-4fa9-41f3-8dd1-708048663459\" style=\"height: 525px; width: 100%;\" class=\"plotly-graph-div\"></div><script type=\"text/javascript\">require([\"plotly\"], function(Plotly) { window.PLOTLYENV=window.PLOTLYENV || {};window.PLOTLYENV.BASE_URL=\"https://plot.ly\";Plotly.newPlot(\"915978d6-4fa9-41f3-8dd1-708048663459\", [{\"name\": \"\\u4eba\\u5458(\\u4e2a\\u6027\\u5316\\u7ec4)\", \"x\": [\"9-1\", \"9-2\", \"9-3\", \"9-4\", \"10-2\", \"10-3\", \"10-4\", \"10-5\", \"11-1\"], \"y\": [3.0, 3.0, 3.0, 3.0, 5.0, 5.0, 5.0, 5.0, 5.0], \"type\": \"bar\", \"uid\": \"b9a686bc-e638-11e8-8ddb-a41f72875c19\"}, {\"name\": \"\\u4eba\\u5458(\\u4e49\\u4e4c\\u7ec4)\", \"x\": [\"9-1\", \"9-2\", \"9-3\", \"9-4\", \"10-2\", \"10-3\", \"10-4\", \"10-5\", \"11-1\"], \"y\": [null, null, null, null, null, null, null, 6.0, 6.0], \"type\": \"bar\", \"uid\": \"b9a686bd-e638-11e8-8ddb-a41f72875c19\"}, {\"name\": \"\\u4eba\\u5458(\\u5206\\u6790\\u4e00\\u7ec4)\", \"x\": [\"9-1\", \"9-2\", \"9-3\", \"9-4\", \"10-2\", \"10-3\", \"10-4\", \"10-5\", \"11-1\"], \"y\": [4.0, 4.0, 4.0, 4.0, 5.0, 5.0, 5.0, 5.0, 5.0], \"type\": \"bar\", \"uid\": \"b9a686be-e638-11e8-8ddb-a41f72875c19\"}, {\"name\": \"\\u4eba\\u5458(\\u5206\\u6790\\u4e8c\\u7ec4)\", \"x\": [\"9-1\", \"9-2\", \"9-3\", \"9-4\", \"10-2\", \"10-3\", \"10-4\", \"10-5\", \"11-1\"], \"y\": [9.0, 9.0, 9.0, 9.0, 4.0, 4.0, 4.0, 4.0, 4.0], \"type\": \"bar\", \"uid\": \"b9a686bf-e638-11e8-8ddb-a41f72875c19\"}], {\"barmode\": \"stack\", \"title\": \"\\u4eba\\u5458\\u5468\\u8d8b\\u52bf\\u56fe\", \"xaxis\": {\"mirror\": \"all\", \"nticks\": 20, \"showgrid\": true, \"showline\": true, \"title\": \"\\u5468\", \"type\": \"category\", \"zeroline\": true}, \"yaxis\": {\"mirror\": \"all\", \"nticks\": 20, \"showgrid\": true, \"showline\": true, \"title\": \"\\u4eba\\u5458\", \"zeroline\": true}}, {\"showLink\": true, \"linkText\": \"Export to plot.ly\"})});</script>"
      ]
     },
     "metadata": {},
     "output_type": "display_data"
    }
   ],
   "source": [
    "ss = myModule.format(all_df1 ,\"日期（格式“月-周次”）\" ,['人员'])\n",
    "ss.add_group('组别')\n",
    "myModule.myPlot(myModule.sort_by_index(ss.groupby('count'))).plot('stack_bar')"
   ]
  },
  {
   "cell_type": "markdown",
   "metadata": {},
   "source": [
    "# 产能情况"
   ]
  },
  {
   "cell_type": "markdown",
   "metadata": {},
   "source": [
    "## 总完成项目数情况"
   ]
  },
  {
   "cell_type": "markdown",
   "metadata": {},
   "source": [
    "### 分析组完成项目数"
   ]
  },
  {
   "cell_type": "code",
   "execution_count": 146,
   "metadata": {
    "collapsed": false
   },
   "outputs": [
    {
     "data": {
      "application/vnd.plotly.v1+json": {
       "data": [
        {
         "name": "完成商业项目数",
         "type": "bar",
         "uid": "b9a686c0-e638-11e8-8ddb-a41f72875c19",
         "x": [
          "9-1",
          "9-2",
          "9-3",
          "9-4",
          "10-2",
          "10-3",
          "10-4",
          "10-5",
          "11-1"
         ],
         "y": [
          26,
          40,
          23,
          28,
          27,
          27,
          26,
          55,
          51
         ]
        },
        {
         "name": "完成个性化数",
         "type": "bar",
         "uid": "b9a686c1-e638-11e8-8ddb-a41f72875c19",
         "x": [
          "9-1",
          "9-2",
          "9-3",
          "9-4",
          "10-2",
          "10-3",
          "10-4",
          "10-5",
          "11-1"
         ],
         "y": [
          31,
          39,
          41,
          28,
          24,
          39,
          37,
          43,
          44
         ]
        }
       ],
       "layout": {
        "barmode": "stack",
        "title": "每周完成项目情况",
        "xaxis": {
         "mirror": "all",
         "nticks": 20,
         "showgrid": true,
         "showline": true,
         "title": "周",
         "type": "category",
         "zeroline": true
        },
        "yaxis": {
         "mirror": "all",
         "nticks": 20,
         "showgrid": true,
         "showline": true,
         "title": "完成商业项目数&完成个性化数",
         "zeroline": true
        }
       }
      },
      "text/html": [
       "<div id=\"8b8020e9-eb56-495e-86e7-82e8203590d5\" style=\"height: 525px; width: 100%;\" class=\"plotly-graph-div\"></div><script type=\"text/javascript\">require([\"plotly\"], function(Plotly) { window.PLOTLYENV=window.PLOTLYENV || {};window.PLOTLYENV.BASE_URL=\"https://plot.ly\";Plotly.newPlot(\"8b8020e9-eb56-495e-86e7-82e8203590d5\", [{\"name\": \"\\u5b8c\\u6210\\u5546\\u4e1a\\u9879\\u76ee\\u6570\", \"x\": [\"9-1\", \"9-2\", \"9-3\", \"9-4\", \"10-2\", \"10-3\", \"10-4\", \"10-5\", \"11-1\"], \"y\": [26.0, 40.0, 23.0, 28.0, 27.0, 27.0, 26.0, 55.0, 51.0], \"type\": \"bar\", \"uid\": \"b9a686c0-e638-11e8-8ddb-a41f72875c19\"}, {\"name\": \"\\u5b8c\\u6210\\u4e2a\\u6027\\u5316\\u6570\", \"x\": [\"9-1\", \"9-2\", \"9-3\", \"9-4\", \"10-2\", \"10-3\", \"10-4\", \"10-5\", \"11-1\"], \"y\": [31, 39, 41, 28, 24, 39, 37, 43, 44], \"type\": \"bar\", \"uid\": \"b9a686c1-e638-11e8-8ddb-a41f72875c19\"}], {\"barmode\": \"stack\", \"title\": \"\\u6bcf\\u5468\\u5b8c\\u6210\\u9879\\u76ee\\u60c5\\u51b5\", \"xaxis\": {\"mirror\": \"all\", \"nticks\": 20, \"showgrid\": true, \"showline\": true, \"title\": \"\\u5468\", \"type\": \"category\", \"zeroline\": true}, \"yaxis\": {\"mirror\": \"all\", \"nticks\": 20, \"showgrid\": true, \"showline\": true, \"title\": \"\\u5b8c\\u6210\\u5546\\u4e1a\\u9879\\u76ee\\u6570&\\u5b8c\\u6210\\u4e2a\\u6027\\u5316\\u6570\", \"zeroline\": true}}, {\"showLink\": true, \"linkText\": \"Export to plot.ly\"})});</script>"
      ],
      "text/vnd.plotly.v1+html": [
       "<div id=\"8b8020e9-eb56-495e-86e7-82e8203590d5\" style=\"height: 525px; width: 100%;\" class=\"plotly-graph-div\"></div><script type=\"text/javascript\">require([\"plotly\"], function(Plotly) { window.PLOTLYENV=window.PLOTLYENV || {};window.PLOTLYENV.BASE_URL=\"https://plot.ly\";Plotly.newPlot(\"8b8020e9-eb56-495e-86e7-82e8203590d5\", [{\"name\": \"\\u5b8c\\u6210\\u5546\\u4e1a\\u9879\\u76ee\\u6570\", \"x\": [\"9-1\", \"9-2\", \"9-3\", \"9-4\", \"10-2\", \"10-3\", \"10-4\", \"10-5\", \"11-1\"], \"y\": [26.0, 40.0, 23.0, 28.0, 27.0, 27.0, 26.0, 55.0, 51.0], \"type\": \"bar\", \"uid\": \"b9a686c0-e638-11e8-8ddb-a41f72875c19\"}, {\"name\": \"\\u5b8c\\u6210\\u4e2a\\u6027\\u5316\\u6570\", \"x\": [\"9-1\", \"9-2\", \"9-3\", \"9-4\", \"10-2\", \"10-3\", \"10-4\", \"10-5\", \"11-1\"], \"y\": [31, 39, 41, 28, 24, 39, 37, 43, 44], \"type\": \"bar\", \"uid\": \"b9a686c1-e638-11e8-8ddb-a41f72875c19\"}], {\"barmode\": \"stack\", \"title\": \"\\u6bcf\\u5468\\u5b8c\\u6210\\u9879\\u76ee\\u60c5\\u51b5\", \"xaxis\": {\"mirror\": \"all\", \"nticks\": 20, \"showgrid\": true, \"showline\": true, \"title\": \"\\u5468\", \"type\": \"category\", \"zeroline\": true}, \"yaxis\": {\"mirror\": \"all\", \"nticks\": 20, \"showgrid\": true, \"showline\": true, \"title\": \"\\u5b8c\\u6210\\u5546\\u4e1a\\u9879\\u76ee\\u6570&\\u5b8c\\u6210\\u4e2a\\u6027\\u5316\\u6570\", \"zeroline\": true}}, {\"showLink\": true, \"linkText\": \"Export to plot.ly\"})});</script>"
      ]
     },
     "metadata": {},
     "output_type": "display_data"
    },
    {
     "data": {
      "application/vnd.plotly.v1+json": {
       "data": [
        {
         "name": "完成商业项目数",
         "type": "bar",
         "uid": "b9a686c2-e638-11e8-8ddb-a41f72875c19",
         "x": [
          9,
          10,
          11
         ],
         "y": [
          117,
          135,
          51
         ]
        },
        {
         "name": "完成个性化数",
         "type": "bar",
         "uid": "b9a686c3-e638-11e8-8ddb-a41f72875c19",
         "x": [
          9,
          10,
          11
         ],
         "y": [
          139,
          143,
          44
         ]
        }
       ],
       "layout": {
        "barmode": "stack",
        "title": "每月完成项目情况",
        "xaxis": {
         "mirror": "all",
         "nticks": 20,
         "showgrid": true,
         "showline": true,
         "title": "月",
         "type": "category",
         "zeroline": true
        },
        "yaxis": {
         "mirror": "all",
         "nticks": 20,
         "showgrid": true,
         "showline": true,
         "title": "完成商业项目数&完成个性化数",
         "zeroline": true
        }
       }
      },
      "text/html": [
       "<div id=\"260b5f29-67c7-4be6-8d28-1cdf0776c13a\" style=\"height: 525px; width: 100%;\" class=\"plotly-graph-div\"></div><script type=\"text/javascript\">require([\"plotly\"], function(Plotly) { window.PLOTLYENV=window.PLOTLYENV || {};window.PLOTLYENV.BASE_URL=\"https://plot.ly\";Plotly.newPlot(\"260b5f29-67c7-4be6-8d28-1cdf0776c13a\", [{\"name\": \"\\u5b8c\\u6210\\u5546\\u4e1a\\u9879\\u76ee\\u6570\", \"x\": [9, 10, 11], \"y\": [117.0, 135.0, 51.0], \"type\": \"bar\", \"uid\": \"b9a686c2-e638-11e8-8ddb-a41f72875c19\"}, {\"name\": \"\\u5b8c\\u6210\\u4e2a\\u6027\\u5316\\u6570\", \"x\": [9, 10, 11], \"y\": [139, 143, 44], \"type\": \"bar\", \"uid\": \"b9a686c3-e638-11e8-8ddb-a41f72875c19\"}], {\"barmode\": \"stack\", \"title\": \"\\u6bcf\\u6708\\u5b8c\\u6210\\u9879\\u76ee\\u60c5\\u51b5\", \"xaxis\": {\"mirror\": \"all\", \"nticks\": 20, \"showgrid\": true, \"showline\": true, \"title\": \"\\u6708\", \"type\": \"category\", \"zeroline\": true}, \"yaxis\": {\"mirror\": \"all\", \"nticks\": 20, \"showgrid\": true, \"showline\": true, \"title\": \"\\u5b8c\\u6210\\u5546\\u4e1a\\u9879\\u76ee\\u6570&\\u5b8c\\u6210\\u4e2a\\u6027\\u5316\\u6570\", \"zeroline\": true}}, {\"showLink\": true, \"linkText\": \"Export to plot.ly\"})});</script>"
      ],
      "text/vnd.plotly.v1+html": [
       "<div id=\"260b5f29-67c7-4be6-8d28-1cdf0776c13a\" style=\"height: 525px; width: 100%;\" class=\"plotly-graph-div\"></div><script type=\"text/javascript\">require([\"plotly\"], function(Plotly) { window.PLOTLYENV=window.PLOTLYENV || {};window.PLOTLYENV.BASE_URL=\"https://plot.ly\";Plotly.newPlot(\"260b5f29-67c7-4be6-8d28-1cdf0776c13a\", [{\"name\": \"\\u5b8c\\u6210\\u5546\\u4e1a\\u9879\\u76ee\\u6570\", \"x\": [9, 10, 11], \"y\": [117.0, 135.0, 51.0], \"type\": \"bar\", \"uid\": \"b9a686c2-e638-11e8-8ddb-a41f72875c19\"}, {\"name\": \"\\u5b8c\\u6210\\u4e2a\\u6027\\u5316\\u6570\", \"x\": [9, 10, 11], \"y\": [139, 143, 44], \"type\": \"bar\", \"uid\": \"b9a686c3-e638-11e8-8ddb-a41f72875c19\"}], {\"barmode\": \"stack\", \"title\": \"\\u6bcf\\u6708\\u5b8c\\u6210\\u9879\\u76ee\\u60c5\\u51b5\", \"xaxis\": {\"mirror\": \"all\", \"nticks\": 20, \"showgrid\": true, \"showline\": true, \"title\": \"\\u6708\", \"type\": \"category\", \"zeroline\": true}, \"yaxis\": {\"mirror\": \"all\", \"nticks\": 20, \"showgrid\": true, \"showline\": true, \"title\": \"\\u5b8c\\u6210\\u5546\\u4e1a\\u9879\\u76ee\\u6570&\\u5b8c\\u6210\\u4e2a\\u6027\\u5316\\u6570\", \"zeroline\": true}}, {\"showLink\": true, \"linkText\": \"Export to plot.ly\"})});</script>"
      ]
     },
     "metadata": {},
     "output_type": "display_data"
    }
   ],
   "source": [
    "ss = myModule.format(all_df1 ,\"日期（格式“月-周次”）\" ,['完成商业项目数','完成个性化数'])\n",
    "myModule.myPlot(myModule.sort_by_index(ss.groupby('sum'))).plot('stack_bar',fig_title='每周完成项目情况')\n",
    "ss = myModule.format(all_df1 ,\"month\" ,['完成商业项目数','完成个性化数'])\n",
    "myModule.myPlot(ss.groupby('sum')).plot('stack_bar',\"月\",fig_title='每月完成项目情况')"
   ]
  },
  {
   "cell_type": "code",
   "execution_count": null,
   "metadata": {
    "collapsed": true
   },
   "outputs": [],
   "source": []
  },
  {
   "cell_type": "markdown",
   "metadata": {},
   "source": [
    "### 完成商业项目趋势"
   ]
  },
  {
   "cell_type": "code",
   "execution_count": 147,
   "metadata": {
    "collapsed": false
   },
   "outputs": [
    {
     "data": {
      "application/vnd.plotly.v1+json": {
       "data": [
        {
         "name": "完成项目总数",
         "type": "scatter",
         "uid": "b9a686c4-e638-11e8-8ddb-a41f72875c19",
         "x": [
          "9-1",
          "9-2",
          "9-3",
          "9-4",
          "10-2",
          "10-3",
          "10-4",
          "10-5",
          "11-1"
         ],
         "y": [
          57,
          79,
          64,
          56,
          51,
          66,
          63,
          98,
          95
         ]
        }
       ],
       "layout": {
        "title": "完成项目总数周趋势图",
        "xaxis": {
         "mirror": "all",
         "nticks": 20,
         "showgrid": true,
         "showline": true,
         "title": "周",
         "type": "category",
         "zeroline": true
        },
        "yaxis": {
         "mirror": "all",
         "nticks": 20,
         "showgrid": true,
         "showline": true,
         "title": "完成项目总数",
         "zeroline": true
        }
       }
      },
      "text/html": [
       "<div id=\"c95f58ee-cdcd-4f64-8a0a-16857ae036b0\" style=\"height: 525px; width: 100%;\" class=\"plotly-graph-div\"></div><script type=\"text/javascript\">require([\"plotly\"], function(Plotly) { window.PLOTLYENV=window.PLOTLYENV || {};window.PLOTLYENV.BASE_URL=\"https://plot.ly\";Plotly.newPlot(\"c95f58ee-cdcd-4f64-8a0a-16857ae036b0\", [{\"name\": \"\\u5b8c\\u6210\\u9879\\u76ee\\u603b\\u6570\", \"x\": [\"9-1\", \"9-2\", \"9-3\", \"9-4\", \"10-2\", \"10-3\", \"10-4\", \"10-5\", \"11-1\"], \"y\": [57.0, 79.0, 64.0, 56.0, 51.0, 66.0, 63.0, 98.0, 95.0], \"type\": \"scatter\", \"uid\": \"b9a686c4-e638-11e8-8ddb-a41f72875c19\"}], {\"title\": \"\\u5b8c\\u6210\\u9879\\u76ee\\u603b\\u6570\\u5468\\u8d8b\\u52bf\\u56fe\", \"xaxis\": {\"mirror\": \"all\", \"nticks\": 20, \"showgrid\": true, \"showline\": true, \"title\": \"\\u5468\", \"type\": \"category\", \"zeroline\": true}, \"yaxis\": {\"mirror\": \"all\", \"nticks\": 20, \"showgrid\": true, \"showline\": true, \"title\": \"\\u5b8c\\u6210\\u9879\\u76ee\\u603b\\u6570\", \"zeroline\": true}}, {\"showLink\": true, \"linkText\": \"Export to plot.ly\"})});</script>"
      ],
      "text/vnd.plotly.v1+html": [
       "<div id=\"c95f58ee-cdcd-4f64-8a0a-16857ae036b0\" style=\"height: 525px; width: 100%;\" class=\"plotly-graph-div\"></div><script type=\"text/javascript\">require([\"plotly\"], function(Plotly) { window.PLOTLYENV=window.PLOTLYENV || {};window.PLOTLYENV.BASE_URL=\"https://plot.ly\";Plotly.newPlot(\"c95f58ee-cdcd-4f64-8a0a-16857ae036b0\", [{\"name\": \"\\u5b8c\\u6210\\u9879\\u76ee\\u603b\\u6570\", \"x\": [\"9-1\", \"9-2\", \"9-3\", \"9-4\", \"10-2\", \"10-3\", \"10-4\", \"10-5\", \"11-1\"], \"y\": [57.0, 79.0, 64.0, 56.0, 51.0, 66.0, 63.0, 98.0, 95.0], \"type\": \"scatter\", \"uid\": \"b9a686c4-e638-11e8-8ddb-a41f72875c19\"}], {\"title\": \"\\u5b8c\\u6210\\u9879\\u76ee\\u603b\\u6570\\u5468\\u8d8b\\u52bf\\u56fe\", \"xaxis\": {\"mirror\": \"all\", \"nticks\": 20, \"showgrid\": true, \"showline\": true, \"title\": \"\\u5468\", \"type\": \"category\", \"zeroline\": true}, \"yaxis\": {\"mirror\": \"all\", \"nticks\": 20, \"showgrid\": true, \"showline\": true, \"title\": \"\\u5b8c\\u6210\\u9879\\u76ee\\u603b\\u6570\", \"zeroline\": true}}, {\"showLink\": true, \"linkText\": \"Export to plot.ly\"})});</script>"
      ]
     },
     "metadata": {},
     "output_type": "display_data"
    }
   ],
   "source": [
    "#ss = myModule.format(all_df1 ,\"日期（格式“月-周次”）\" ,['完成项目总数','在线项目总数' ])\n",
    "ss = myModule.format(all_df1 ,\"日期（格式“月-周次”）\" ,['完成项目总数'])\n",
    "#ss.add_group('组别')\n",
    "#ss.get_average_by('人员')\n",
    "myModule.myPlot(myModule.sort_by_index(ss.groupby('sum'))).plot('line')\n",
    "#ss = myModule.format(all_df1 ,\"month\" ,['完成项目总数','在线项目总数'])\n",
    "#ss.add_group('组别')\n",
    "#ss.get_average_by('人员')\n",
    "#myModule.myPlot(ss.groupby('sum')).plot('line','月')"
   ]
  },
  {
   "cell_type": "markdown",
   "metadata": {},
   "source": [
    "### 项目组成情况"
   ]
  },
  {
   "cell_type": "code",
   "execution_count": 148,
   "metadata": {
    "collapsed": false,
    "scrolled": false
   },
   "outputs": [
    {
     "data": {
      "application/vnd.plotly.v1+json": {
       "data": [
        {
         "name": "完成流水线项目数",
         "type": "bar",
         "uid": "b9a686c5-e638-11e8-8ddb-a41f72875c19",
         "x": [
          "9-1",
          "9-2",
          "9-3",
          "9-4",
          "10-2",
          "10-3",
          "10-4",
          "10-5",
          "11-1"
         ],
         "y": [
          10,
          14,
          4,
          10,
          11,
          9,
          8,
          26,
          23
         ]
        },
        {
         "name": "完成联合分析项目数",
         "type": "bar",
         "uid": "b9a686c6-e638-11e8-8ddb-a41f72875c19",
         "x": [
          "9-1",
          "9-2",
          "9-3",
          "9-4",
          "10-2",
          "10-3",
          "10-4",
          "10-5",
          "11-1"
         ],
         "y": [
          4,
          3,
          3,
          0,
          2,
          4,
          1,
          3,
          4
         ]
        },
        {
         "name": "完成非流水线项目数",
         "type": "bar",
         "uid": "b9a686c7-e638-11e8-8ddb-a41f72875c19",
         "x": [
          "9-1",
          "9-2",
          "9-3",
          "9-4",
          "10-2",
          "10-3",
          "10-4",
          "10-5",
          "11-1"
         ],
         "y": [
          10,
          14,
          10,
          14,
          9,
          8,
          10,
          12,
          12
         ]
        },
        {
         "name": "完成只分析项目数",
         "type": "bar",
         "uid": "b9a686c8-e638-11e8-8ddb-a41f72875c19",
         "x": [
          "9-1",
          "9-2",
          "9-3",
          "9-4",
          "10-2",
          "10-3",
          "10-4",
          "10-5",
          "11-1"
         ],
         "y": [
          2,
          9,
          6,
          4,
          5,
          6,
          7,
          14,
          12
         ]
        }
       ],
       "layout": {
        "barmode": "stack",
        "title": "每周项目组成情况",
        "xaxis": {
         "mirror": "all",
         "nticks": 20,
         "showgrid": true,
         "showline": true,
         "title": "周",
         "type": "category",
         "zeroline": true
        },
        "yaxis": {
         "mirror": "all",
         "nticks": 20,
         "showgrid": true,
         "showline": true,
         "title": "完成流水线项目数&完成联合分析项目数&完成非流水线项目数&完成只分析项目数",
         "zeroline": true
        }
       }
      },
      "text/html": [
       "<div id=\"addfe6f2-7f8a-4a12-87be-af073c6bde89\" style=\"height: 525px; width: 100%;\" class=\"plotly-graph-div\"></div><script type=\"text/javascript\">require([\"plotly\"], function(Plotly) { window.PLOTLYENV=window.PLOTLYENV || {};window.PLOTLYENV.BASE_URL=\"https://plot.ly\";Plotly.newPlot(\"addfe6f2-7f8a-4a12-87be-af073c6bde89\", [{\"name\": \"\\u5b8c\\u6210\\u6d41\\u6c34\\u7ebf\\u9879\\u76ee\\u6570\", \"x\": [\"9-1\", \"9-2\", \"9-3\", \"9-4\", \"10-2\", \"10-3\", \"10-4\", \"10-5\", \"11-1\"], \"y\": [10, 14, 4, 10, 11, 9, 8, 26, 23], \"type\": \"bar\", \"uid\": \"b9a686c5-e638-11e8-8ddb-a41f72875c19\"}, {\"name\": \"\\u5b8c\\u6210\\u8054\\u5408\\u5206\\u6790\\u9879\\u76ee\\u6570\", \"x\": [\"9-1\", \"9-2\", \"9-3\", \"9-4\", \"10-2\", \"10-3\", \"10-4\", \"10-5\", \"11-1\"], \"y\": [4.0, 3.0, 3.0, 0.0, 2.0, 4.0, 1.0, 3.0, 4.0], \"type\": \"bar\", \"uid\": \"b9a686c6-e638-11e8-8ddb-a41f72875c19\"}, {\"name\": \"\\u5b8c\\u6210\\u975e\\u6d41\\u6c34\\u7ebf\\u9879\\u76ee\\u6570\", \"x\": [\"9-1\", \"9-2\", \"9-3\", \"9-4\", \"10-2\", \"10-3\", \"10-4\", \"10-5\", \"11-1\"], \"y\": [10, 14, 10, 14, 9, 8, 10, 12, 12], \"type\": \"bar\", \"uid\": \"b9a686c7-e638-11e8-8ddb-a41f72875c19\"}, {\"name\": \"\\u5b8c\\u6210\\u53ea\\u5206\\u6790\\u9879\\u76ee\\u6570\", \"x\": [\"9-1\", \"9-2\", \"9-3\", \"9-4\", \"10-2\", \"10-3\", \"10-4\", \"10-5\", \"11-1\"], \"y\": [2, 9, 6, 4, 5, 6, 7, 14, 12], \"type\": \"bar\", \"uid\": \"b9a686c8-e638-11e8-8ddb-a41f72875c19\"}], {\"barmode\": \"stack\", \"title\": \"\\u6bcf\\u5468\\u9879\\u76ee\\u7ec4\\u6210\\u60c5\\u51b5\", \"xaxis\": {\"mirror\": \"all\", \"nticks\": 20, \"showgrid\": true, \"showline\": true, \"title\": \"\\u5468\", \"type\": \"category\", \"zeroline\": true}, \"yaxis\": {\"mirror\": \"all\", \"nticks\": 20, \"showgrid\": true, \"showline\": true, \"title\": \"\\u5b8c\\u6210\\u6d41\\u6c34\\u7ebf\\u9879\\u76ee\\u6570&\\u5b8c\\u6210\\u8054\\u5408\\u5206\\u6790\\u9879\\u76ee\\u6570&\\u5b8c\\u6210\\u975e\\u6d41\\u6c34\\u7ebf\\u9879\\u76ee\\u6570&\\u5b8c\\u6210\\u53ea\\u5206\\u6790\\u9879\\u76ee\\u6570\", \"zeroline\": true}}, {\"showLink\": true, \"linkText\": \"Export to plot.ly\"})});</script>"
      ],
      "text/vnd.plotly.v1+html": [
       "<div id=\"addfe6f2-7f8a-4a12-87be-af073c6bde89\" style=\"height: 525px; width: 100%;\" class=\"plotly-graph-div\"></div><script type=\"text/javascript\">require([\"plotly\"], function(Plotly) { window.PLOTLYENV=window.PLOTLYENV || {};window.PLOTLYENV.BASE_URL=\"https://plot.ly\";Plotly.newPlot(\"addfe6f2-7f8a-4a12-87be-af073c6bde89\", [{\"name\": \"\\u5b8c\\u6210\\u6d41\\u6c34\\u7ebf\\u9879\\u76ee\\u6570\", \"x\": [\"9-1\", \"9-2\", \"9-3\", \"9-4\", \"10-2\", \"10-3\", \"10-4\", \"10-5\", \"11-1\"], \"y\": [10, 14, 4, 10, 11, 9, 8, 26, 23], \"type\": \"bar\", \"uid\": \"b9a686c5-e638-11e8-8ddb-a41f72875c19\"}, {\"name\": \"\\u5b8c\\u6210\\u8054\\u5408\\u5206\\u6790\\u9879\\u76ee\\u6570\", \"x\": [\"9-1\", \"9-2\", \"9-3\", \"9-4\", \"10-2\", \"10-3\", \"10-4\", \"10-5\", \"11-1\"], \"y\": [4.0, 3.0, 3.0, 0.0, 2.0, 4.0, 1.0, 3.0, 4.0], \"type\": \"bar\", \"uid\": \"b9a686c6-e638-11e8-8ddb-a41f72875c19\"}, {\"name\": \"\\u5b8c\\u6210\\u975e\\u6d41\\u6c34\\u7ebf\\u9879\\u76ee\\u6570\", \"x\": [\"9-1\", \"9-2\", \"9-3\", \"9-4\", \"10-2\", \"10-3\", \"10-4\", \"10-5\", \"11-1\"], \"y\": [10, 14, 10, 14, 9, 8, 10, 12, 12], \"type\": \"bar\", \"uid\": \"b9a686c7-e638-11e8-8ddb-a41f72875c19\"}, {\"name\": \"\\u5b8c\\u6210\\u53ea\\u5206\\u6790\\u9879\\u76ee\\u6570\", \"x\": [\"9-1\", \"9-2\", \"9-3\", \"9-4\", \"10-2\", \"10-3\", \"10-4\", \"10-5\", \"11-1\"], \"y\": [2, 9, 6, 4, 5, 6, 7, 14, 12], \"type\": \"bar\", \"uid\": \"b9a686c8-e638-11e8-8ddb-a41f72875c19\"}], {\"barmode\": \"stack\", \"title\": \"\\u6bcf\\u5468\\u9879\\u76ee\\u7ec4\\u6210\\u60c5\\u51b5\", \"xaxis\": {\"mirror\": \"all\", \"nticks\": 20, \"showgrid\": true, \"showline\": true, \"title\": \"\\u5468\", \"type\": \"category\", \"zeroline\": true}, \"yaxis\": {\"mirror\": \"all\", \"nticks\": 20, \"showgrid\": true, \"showline\": true, \"title\": \"\\u5b8c\\u6210\\u6d41\\u6c34\\u7ebf\\u9879\\u76ee\\u6570&\\u5b8c\\u6210\\u8054\\u5408\\u5206\\u6790\\u9879\\u76ee\\u6570&\\u5b8c\\u6210\\u975e\\u6d41\\u6c34\\u7ebf\\u9879\\u76ee\\u6570&\\u5b8c\\u6210\\u53ea\\u5206\\u6790\\u9879\\u76ee\\u6570\", \"zeroline\": true}}, {\"showLink\": true, \"linkText\": \"Export to plot.ly\"})});</script>"
      ]
     },
     "metadata": {},
     "output_type": "display_data"
    },
    {
     "data": {
      "application/vnd.plotly.v1+json": {
       "data": [
        {
         "name": "完成流水线项目数",
         "type": "bar",
         "uid": "b9a686c9-e638-11e8-8ddb-a41f72875c19",
         "x": [
          9,
          10,
          11
         ],
         "y": [
          38,
          54,
          23
         ]
        },
        {
         "name": "完成联合分析项目数",
         "type": "bar",
         "uid": "b9a686ca-e638-11e8-8ddb-a41f72875c19",
         "x": [
          9,
          10,
          11
         ],
         "y": [
          10,
          10,
          4
         ]
        },
        {
         "name": "完成非流水线项目数",
         "type": "bar",
         "uid": "b9a686cb-e638-11e8-8ddb-a41f72875c19",
         "x": [
          9,
          10,
          11
         ],
         "y": [
          48,
          39,
          12
         ]
        },
        {
         "name": "完成只分析项目数",
         "type": "bar",
         "uid": "b9a686cc-e638-11e8-8ddb-a41f72875c19",
         "x": [
          9,
          10,
          11
         ],
         "y": [
          21,
          32,
          12
         ]
        }
       ],
       "layout": {
        "barmode": "stack",
        "title": "每月项目组成情况",
        "xaxis": {
         "mirror": "all",
         "nticks": 20,
         "showgrid": true,
         "showline": true,
         "title": "月",
         "type": "category",
         "zeroline": true
        },
        "yaxis": {
         "mirror": "all",
         "nticks": 20,
         "showgrid": true,
         "showline": true,
         "title": "完成流水线项目数&完成联合分析项目数&完成非流水线项目数&完成只分析项目数",
         "zeroline": true
        }
       }
      },
      "text/html": [
       "<div id=\"c67abfe9-d17e-490f-8f3c-6f666c1e9361\" style=\"height: 525px; width: 100%;\" class=\"plotly-graph-div\"></div><script type=\"text/javascript\">require([\"plotly\"], function(Plotly) { window.PLOTLYENV=window.PLOTLYENV || {};window.PLOTLYENV.BASE_URL=\"https://plot.ly\";Plotly.newPlot(\"c67abfe9-d17e-490f-8f3c-6f666c1e9361\", [{\"name\": \"\\u5b8c\\u6210\\u6d41\\u6c34\\u7ebf\\u9879\\u76ee\\u6570\", \"x\": [9, 10, 11], \"y\": [38, 54, 23], \"type\": \"bar\", \"uid\": \"b9a686c9-e638-11e8-8ddb-a41f72875c19\"}, {\"name\": \"\\u5b8c\\u6210\\u8054\\u5408\\u5206\\u6790\\u9879\\u76ee\\u6570\", \"x\": [9, 10, 11], \"y\": [10.0, 10.0, 4.0], \"type\": \"bar\", \"uid\": \"b9a686ca-e638-11e8-8ddb-a41f72875c19\"}, {\"name\": \"\\u5b8c\\u6210\\u975e\\u6d41\\u6c34\\u7ebf\\u9879\\u76ee\\u6570\", \"x\": [9, 10, 11], \"y\": [48, 39, 12], \"type\": \"bar\", \"uid\": \"b9a686cb-e638-11e8-8ddb-a41f72875c19\"}, {\"name\": \"\\u5b8c\\u6210\\u53ea\\u5206\\u6790\\u9879\\u76ee\\u6570\", \"x\": [9, 10, 11], \"y\": [21, 32, 12], \"type\": \"bar\", \"uid\": \"b9a686cc-e638-11e8-8ddb-a41f72875c19\"}], {\"barmode\": \"stack\", \"title\": \"\\u6bcf\\u6708\\u9879\\u76ee\\u7ec4\\u6210\\u60c5\\u51b5\", \"xaxis\": {\"mirror\": \"all\", \"nticks\": 20, \"showgrid\": true, \"showline\": true, \"title\": \"\\u6708\", \"type\": \"category\", \"zeroline\": true}, \"yaxis\": {\"mirror\": \"all\", \"nticks\": 20, \"showgrid\": true, \"showline\": true, \"title\": \"\\u5b8c\\u6210\\u6d41\\u6c34\\u7ebf\\u9879\\u76ee\\u6570&\\u5b8c\\u6210\\u8054\\u5408\\u5206\\u6790\\u9879\\u76ee\\u6570&\\u5b8c\\u6210\\u975e\\u6d41\\u6c34\\u7ebf\\u9879\\u76ee\\u6570&\\u5b8c\\u6210\\u53ea\\u5206\\u6790\\u9879\\u76ee\\u6570\", \"zeroline\": true}}, {\"showLink\": true, \"linkText\": \"Export to plot.ly\"})});</script>"
      ],
      "text/vnd.plotly.v1+html": [
       "<div id=\"c67abfe9-d17e-490f-8f3c-6f666c1e9361\" style=\"height: 525px; width: 100%;\" class=\"plotly-graph-div\"></div><script type=\"text/javascript\">require([\"plotly\"], function(Plotly) { window.PLOTLYENV=window.PLOTLYENV || {};window.PLOTLYENV.BASE_URL=\"https://plot.ly\";Plotly.newPlot(\"c67abfe9-d17e-490f-8f3c-6f666c1e9361\", [{\"name\": \"\\u5b8c\\u6210\\u6d41\\u6c34\\u7ebf\\u9879\\u76ee\\u6570\", \"x\": [9, 10, 11], \"y\": [38, 54, 23], \"type\": \"bar\", \"uid\": \"b9a686c9-e638-11e8-8ddb-a41f72875c19\"}, {\"name\": \"\\u5b8c\\u6210\\u8054\\u5408\\u5206\\u6790\\u9879\\u76ee\\u6570\", \"x\": [9, 10, 11], \"y\": [10.0, 10.0, 4.0], \"type\": \"bar\", \"uid\": \"b9a686ca-e638-11e8-8ddb-a41f72875c19\"}, {\"name\": \"\\u5b8c\\u6210\\u975e\\u6d41\\u6c34\\u7ebf\\u9879\\u76ee\\u6570\", \"x\": [9, 10, 11], \"y\": [48, 39, 12], \"type\": \"bar\", \"uid\": \"b9a686cb-e638-11e8-8ddb-a41f72875c19\"}, {\"name\": \"\\u5b8c\\u6210\\u53ea\\u5206\\u6790\\u9879\\u76ee\\u6570\", \"x\": [9, 10, 11], \"y\": [21, 32, 12], \"type\": \"bar\", \"uid\": \"b9a686cc-e638-11e8-8ddb-a41f72875c19\"}], {\"barmode\": \"stack\", \"title\": \"\\u6bcf\\u6708\\u9879\\u76ee\\u7ec4\\u6210\\u60c5\\u51b5\", \"xaxis\": {\"mirror\": \"all\", \"nticks\": 20, \"showgrid\": true, \"showline\": true, \"title\": \"\\u6708\", \"type\": \"category\", \"zeroline\": true}, \"yaxis\": {\"mirror\": \"all\", \"nticks\": 20, \"showgrid\": true, \"showline\": true, \"title\": \"\\u5b8c\\u6210\\u6d41\\u6c34\\u7ebf\\u9879\\u76ee\\u6570&\\u5b8c\\u6210\\u8054\\u5408\\u5206\\u6790\\u9879\\u76ee\\u6570&\\u5b8c\\u6210\\u975e\\u6d41\\u6c34\\u7ebf\\u9879\\u76ee\\u6570&\\u5b8c\\u6210\\u53ea\\u5206\\u6790\\u9879\\u76ee\\u6570\", \"zeroline\": true}}, {\"showLink\": true, \"linkText\": \"Export to plot.ly\"})});</script>"
      ]
     },
     "metadata": {},
     "output_type": "display_data"
    }
   ],
   "source": [
    "ss = myModule.format(all_df1 ,\"日期（格式“月-周次”）\" ,['完成流水线项目数','完成非流水线项目数','完成只分析项目数','完成联合分析项目数'])\n",
    "myModule.myPlot(myModule.sort_by_index(ss.groupby('sum'))).plot('stack_bar',fig_title='每周项目组成情况')\n",
    "ss = myModule.format(all_df1 ,\"month\" ,['完成流水线项目数','完成非流水线项目数','完成只分析项目数','完成联合分析项目数'])\n",
    "myModule.myPlot(ss.groupby('sum')).plot('stack_bar',\"月\",fig_title='每月项目组成情况')"
   ]
  },
  {
   "cell_type": "markdown",
   "metadata": {},
   "source": [
    "### 各组总完成项目趋势图"
   ]
  },
  {
   "cell_type": "code",
   "execution_count": 149,
   "metadata": {
    "collapsed": false
   },
   "outputs": [
    {
     "data": {
      "application/vnd.plotly.v1+json": {
       "data": [
        {
         "line": {
          "dash": "solid"
         },
         "name": "完成项目总数(个性化组)",
         "type": "scatter",
         "uid": "b9a686cd-e638-11e8-8ddb-a41f72875c19",
         "x": [
          "9-1",
          "9-2",
          "9-3",
          "9-4",
          "10-2",
          "10-3",
          "10-4",
          "10-5",
          "11-1"
         ],
         "y": [
          18,
          14,
          13,
          14,
          9,
          18,
          26,
          28,
          26
         ]
        },
        {
         "line": {
          "dash": "dot"
         },
         "name": "完成项目总数(义乌组)",
         "type": "scatter",
         "uid": "b9a686ce-e638-11e8-8ddb-a41f72875c19",
         "x": [
          "9-1",
          "9-2",
          "9-3",
          "9-4",
          "10-2",
          "10-3",
          "10-4",
          "10-5",
          "11-1"
         ],
         "y": [
          null,
          null,
          null,
          null,
          null,
          null,
          null,
          18,
          18
         ]
        },
        {
         "line": {
          "dash": "dash"
         },
         "name": "完成项目总数(分析一组)",
         "type": "scatter",
         "uid": "b9a686cf-e638-11e8-8ddb-a41f72875c19",
         "x": [
          "9-1",
          "9-2",
          "9-3",
          "9-4",
          "10-2",
          "10-3",
          "10-4",
          "10-5",
          "11-1"
         ],
         "y": [
          11,
          15,
          9,
          10,
          23,
          29,
          21,
          29,
          26
         ]
        },
        {
         "line": {
          "dash": "longdash"
         },
         "name": "完成项目总数(分析二组)",
         "type": "scatter",
         "uid": "b9a686d0-e638-11e8-8ddb-a41f72875c19",
         "x": [
          "9-1",
          "9-2",
          "9-3",
          "9-4",
          "10-2",
          "10-3",
          "10-4",
          "10-5",
          "11-1"
         ],
         "y": [
          28,
          50,
          42,
          32,
          19,
          19,
          16,
          23,
          25
         ]
        }
       ],
       "layout": {
        "title": "各组完成项目周趋势",
        "xaxis": {
         "mirror": "all",
         "nticks": 20,
         "showgrid": true,
         "showline": true,
         "title": "周",
         "type": "category",
         "zeroline": true
        },
        "yaxis": {
         "mirror": "all",
         "nticks": 20,
         "showgrid": true,
         "showline": true,
         "title": "完成项目总数",
         "zeroline": true
        }
       }
      },
      "text/html": [
       "<div id=\"02f8d9eb-9412-4bdf-9e32-72cc685558e6\" style=\"height: 525px; width: 100%;\" class=\"plotly-graph-div\"></div><script type=\"text/javascript\">require([\"plotly\"], function(Plotly) { window.PLOTLYENV=window.PLOTLYENV || {};window.PLOTLYENV.BASE_URL=\"https://plot.ly\";Plotly.newPlot(\"02f8d9eb-9412-4bdf-9e32-72cc685558e6\", [{\"line\": {\"dash\": \"solid\"}, \"name\": \"\\u5b8c\\u6210\\u9879\\u76ee\\u603b\\u6570(\\u4e2a\\u6027\\u5316\\u7ec4)\", \"x\": [\"9-1\", \"9-2\", \"9-3\", \"9-4\", \"10-2\", \"10-3\", \"10-4\", \"10-5\", \"11-1\"], \"y\": [18.0, 14.0, 13.0, 14.0, 9.0, 18.0, 26.0, 28.0, 26.0], \"type\": \"scatter\", \"uid\": \"b9a686cd-e638-11e8-8ddb-a41f72875c19\"}, {\"line\": {\"dash\": \"dot\"}, \"name\": \"\\u5b8c\\u6210\\u9879\\u76ee\\u603b\\u6570(\\u4e49\\u4e4c\\u7ec4)\", \"x\": [\"9-1\", \"9-2\", \"9-3\", \"9-4\", \"10-2\", \"10-3\", \"10-4\", \"10-5\", \"11-1\"], \"y\": [null, null, null, null, null, null, null, 18.0, 18.0], \"type\": \"scatter\", \"uid\": \"b9a686ce-e638-11e8-8ddb-a41f72875c19\"}, {\"line\": {\"dash\": \"dash\"}, \"name\": \"\\u5b8c\\u6210\\u9879\\u76ee\\u603b\\u6570(\\u5206\\u6790\\u4e00\\u7ec4)\", \"x\": [\"9-1\", \"9-2\", \"9-3\", \"9-4\", \"10-2\", \"10-3\", \"10-4\", \"10-5\", \"11-1\"], \"y\": [11.0, 15.0, 9.0, 10.0, 23.0, 29.0, 21.0, 29.0, 26.0], \"type\": \"scatter\", \"uid\": \"b9a686cf-e638-11e8-8ddb-a41f72875c19\"}, {\"line\": {\"dash\": \"longdash\"}, \"name\": \"\\u5b8c\\u6210\\u9879\\u76ee\\u603b\\u6570(\\u5206\\u6790\\u4e8c\\u7ec4)\", \"x\": [\"9-1\", \"9-2\", \"9-3\", \"9-4\", \"10-2\", \"10-3\", \"10-4\", \"10-5\", \"11-1\"], \"y\": [28.0, 50.0, 42.0, 32.0, 19.0, 19.0, 16.0, 23.0, 25.0], \"type\": \"scatter\", \"uid\": \"b9a686d0-e638-11e8-8ddb-a41f72875c19\"}], {\"title\": \"\\u5404\\u7ec4\\u5b8c\\u6210\\u9879\\u76ee\\u5468\\u8d8b\\u52bf\", \"xaxis\": {\"mirror\": \"all\", \"nticks\": 20, \"showgrid\": true, \"showline\": true, \"title\": \"\\u5468\", \"type\": \"category\", \"zeroline\": true}, \"yaxis\": {\"mirror\": \"all\", \"nticks\": 20, \"showgrid\": true, \"showline\": true, \"title\": \"\\u5b8c\\u6210\\u9879\\u76ee\\u603b\\u6570\", \"zeroline\": true}}, {\"showLink\": true, \"linkText\": \"Export to plot.ly\"})});</script>"
      ],
      "text/vnd.plotly.v1+html": [
       "<div id=\"02f8d9eb-9412-4bdf-9e32-72cc685558e6\" style=\"height: 525px; width: 100%;\" class=\"plotly-graph-div\"></div><script type=\"text/javascript\">require([\"plotly\"], function(Plotly) { window.PLOTLYENV=window.PLOTLYENV || {};window.PLOTLYENV.BASE_URL=\"https://plot.ly\";Plotly.newPlot(\"02f8d9eb-9412-4bdf-9e32-72cc685558e6\", [{\"line\": {\"dash\": \"solid\"}, \"name\": \"\\u5b8c\\u6210\\u9879\\u76ee\\u603b\\u6570(\\u4e2a\\u6027\\u5316\\u7ec4)\", \"x\": [\"9-1\", \"9-2\", \"9-3\", \"9-4\", \"10-2\", \"10-3\", \"10-4\", \"10-5\", \"11-1\"], \"y\": [18.0, 14.0, 13.0, 14.0, 9.0, 18.0, 26.0, 28.0, 26.0], \"type\": \"scatter\", \"uid\": \"b9a686cd-e638-11e8-8ddb-a41f72875c19\"}, {\"line\": {\"dash\": \"dot\"}, \"name\": \"\\u5b8c\\u6210\\u9879\\u76ee\\u603b\\u6570(\\u4e49\\u4e4c\\u7ec4)\", \"x\": [\"9-1\", \"9-2\", \"9-3\", \"9-4\", \"10-2\", \"10-3\", \"10-4\", \"10-5\", \"11-1\"], \"y\": [null, null, null, null, null, null, null, 18.0, 18.0], \"type\": \"scatter\", \"uid\": \"b9a686ce-e638-11e8-8ddb-a41f72875c19\"}, {\"line\": {\"dash\": \"dash\"}, \"name\": \"\\u5b8c\\u6210\\u9879\\u76ee\\u603b\\u6570(\\u5206\\u6790\\u4e00\\u7ec4)\", \"x\": [\"9-1\", \"9-2\", \"9-3\", \"9-4\", \"10-2\", \"10-3\", \"10-4\", \"10-5\", \"11-1\"], \"y\": [11.0, 15.0, 9.0, 10.0, 23.0, 29.0, 21.0, 29.0, 26.0], \"type\": \"scatter\", \"uid\": \"b9a686cf-e638-11e8-8ddb-a41f72875c19\"}, {\"line\": {\"dash\": \"longdash\"}, \"name\": \"\\u5b8c\\u6210\\u9879\\u76ee\\u603b\\u6570(\\u5206\\u6790\\u4e8c\\u7ec4)\", \"x\": [\"9-1\", \"9-2\", \"9-3\", \"9-4\", \"10-2\", \"10-3\", \"10-4\", \"10-5\", \"11-1\"], \"y\": [28.0, 50.0, 42.0, 32.0, 19.0, 19.0, 16.0, 23.0, 25.0], \"type\": \"scatter\", \"uid\": \"b9a686d0-e638-11e8-8ddb-a41f72875c19\"}], {\"title\": \"\\u5404\\u7ec4\\u5b8c\\u6210\\u9879\\u76ee\\u5468\\u8d8b\\u52bf\", \"xaxis\": {\"mirror\": \"all\", \"nticks\": 20, \"showgrid\": true, \"showline\": true, \"title\": \"\\u5468\", \"type\": \"category\", \"zeroline\": true}, \"yaxis\": {\"mirror\": \"all\", \"nticks\": 20, \"showgrid\": true, \"showline\": true, \"title\": \"\\u5b8c\\u6210\\u9879\\u76ee\\u603b\\u6570\", \"zeroline\": true}}, {\"showLink\": true, \"linkText\": \"Export to plot.ly\"})});</script>"
      ]
     },
     "metadata": {},
     "output_type": "display_data"
    }
   ],
   "source": [
    "ss = myModule.format(all_df1 ,\"日期（格式“月-周次”）\" ,['完成项目总数'])\n",
    "ss.add_group('组别')\n",
    "#ss.get_average_by('人员')\n",
    "tt = myModule.sort_by_index(ss.groupby('sum'))\n",
    "tt\n",
    "myModule.myPlot(myModule.sort_by_index(ss.groupby('sum'))).plot('line',fig_title='各组完成项目周趋势')\n",
    "#ss = myModule.format(all_df1 ,\"month\" ,['完成项目总数'])\n",
    "#ss.add_group('组别')\n",
    "#ss.get_average_by('人员')\n",
    "#myModule.myPlot(ss.groupby('sum')).plot('line',\"月\")"
   ]
  },
  {
   "cell_type": "markdown",
   "metadata": {},
   "source": [
    "### 各组完成组成比例展示"
   ]
  },
  {
   "cell_type": "code",
   "execution_count": 150,
   "metadata": {
    "collapsed": false,
    "scrolled": true
   },
   "outputs": [
    {
     "data": {
      "application/vnd.plotly.v1+json": {
       "data": [
        {
         "line": {
          "dash": "solid"
         },
         "name": "完成商业项目数(个性化组)",
         "type": "scatter",
         "uid": "b9a686d1-e638-11e8-8ddb-a41f72875c19",
         "x": [
          "9-1",
          "9-2",
          "9-3",
          "9-4",
          "10-2",
          "10-3",
          "10-4",
          "10-5",
          "11-1"
         ],
         "y": [
          0,
          0,
          0,
          0,
          1,
          1,
          2,
          4,
          8
         ]
        },
        {
         "line": {
          "dash": "dot"
         },
         "name": "完成商业项目数(义乌组)",
         "type": "scatter",
         "uid": "b9a686d2-e638-11e8-8ddb-a41f72875c19",
         "x": [
          "9-1",
          "9-2",
          "9-3",
          "9-4",
          "10-2",
          "10-3",
          "10-4",
          "10-5",
          "11-1"
         ],
         "y": [
          null,
          null,
          null,
          null,
          null,
          null,
          null,
          13,
          12
         ]
        },
        {
         "line": {
          "dash": "dash"
         },
         "name": "完成商业项目数(分析一组)",
         "type": "scatter",
         "uid": "b9a686d3-e638-11e8-8ddb-a41f72875c19",
         "x": [
          "9-1",
          "9-2",
          "9-3",
          "9-4",
          "10-2",
          "10-3",
          "10-4",
          "10-5",
          "11-1"
         ],
         "y": [
          6,
          11,
          6,
          6,
          15,
          13,
          14,
          23,
          20
         ]
        },
        {
         "line": {
          "dash": "longdash"
         },
         "name": "完成商业项目数(分析二组)",
         "type": "scatter",
         "uid": "b9a686d4-e638-11e8-8ddb-a41f72875c19",
         "x": [
          "9-1",
          "9-2",
          "9-3",
          "9-4",
          "10-2",
          "10-3",
          "10-4",
          "10-5",
          "11-1"
         ],
         "y": [
          20,
          29,
          17,
          22,
          11,
          13,
          10,
          15,
          11
         ]
        },
        {
         "line": {
          "dash": "solid"
         },
         "name": "完成个性化数(个性化组)",
         "type": "scatter",
         "uid": "b9a686d5-e638-11e8-8ddb-a41f72875c19",
         "x": [
          "9-1",
          "9-2",
          "9-3",
          "9-4",
          "10-2",
          "10-3",
          "10-4",
          "10-5",
          "11-1"
         ],
         "y": [
          18,
          14,
          13,
          14,
          8,
          17,
          24,
          24,
          18
         ]
        },
        {
         "line": {
          "dash": "dot"
         },
         "name": "完成个性化数(义乌组)",
         "type": "scatter",
         "uid": "b9a686d6-e638-11e8-8ddb-a41f72875c19",
         "x": [
          "9-1",
          "9-2",
          "9-3",
          "9-4",
          "10-2",
          "10-3",
          "10-4",
          "10-5",
          "11-1"
         ],
         "y": [
          null,
          null,
          null,
          null,
          null,
          null,
          null,
          5,
          6
         ]
        },
        {
         "line": {
          "dash": "dash"
         },
         "name": "完成个性化数(分析一组)",
         "type": "scatter",
         "uid": "b9a686d7-e638-11e8-8ddb-a41f72875c19",
         "x": [
          "9-1",
          "9-2",
          "9-3",
          "9-4",
          "10-2",
          "10-3",
          "10-4",
          "10-5",
          "11-1"
         ],
         "y": [
          5,
          4,
          3,
          4,
          8,
          16,
          7,
          6,
          6
         ]
        },
        {
         "line": {
          "dash": "longdash"
         },
         "name": "完成个性化数(分析二组)",
         "type": "scatter",
         "uid": "b9a686d8-e638-11e8-8ddb-a41f72875c19",
         "x": [
          "9-1",
          "9-2",
          "9-3",
          "9-4",
          "10-2",
          "10-3",
          "10-4",
          "10-5",
          "11-1"
         ],
         "y": [
          8,
          21,
          25,
          10,
          8,
          6,
          6,
          8,
          14
         ]
        }
       ],
       "layout": {
        "title": "各组完成商业和个性化项目周趋势",
        "xaxis": {
         "mirror": "all",
         "nticks": 20,
         "showgrid": true,
         "showline": true,
         "title": "周",
         "type": "category",
         "zeroline": true
        },
        "yaxis": {
         "mirror": "all",
         "nticks": 20,
         "showgrid": true,
         "showline": true,
         "title": "完成商业项目数&完成个性化数",
         "zeroline": true
        }
       }
      },
      "text/html": [
       "<div id=\"162cbd92-26dd-4bf1-8670-9f10e15a2569\" style=\"height: 525px; width: 100%;\" class=\"plotly-graph-div\"></div><script type=\"text/javascript\">require([\"plotly\"], function(Plotly) { window.PLOTLYENV=window.PLOTLYENV || {};window.PLOTLYENV.BASE_URL=\"https://plot.ly\";Plotly.newPlot(\"162cbd92-26dd-4bf1-8670-9f10e15a2569\", [{\"line\": {\"dash\": \"solid\"}, \"name\": \"\\u5b8c\\u6210\\u5546\\u4e1a\\u9879\\u76ee\\u6570(\\u4e2a\\u6027\\u5316\\u7ec4)\", \"x\": [\"9-1\", \"9-2\", \"9-3\", \"9-4\", \"10-2\", \"10-3\", \"10-4\", \"10-5\", \"11-1\"], \"y\": [0.0, 0.0, 0.0, 0.0, 1.0, 1.0, 2.0, 4.0, 8.0], \"type\": \"scatter\", \"uid\": \"b9a686d1-e638-11e8-8ddb-a41f72875c19\"}, {\"line\": {\"dash\": \"dot\"}, \"name\": \"\\u5b8c\\u6210\\u5546\\u4e1a\\u9879\\u76ee\\u6570(\\u4e49\\u4e4c\\u7ec4)\", \"x\": [\"9-1\", \"9-2\", \"9-3\", \"9-4\", \"10-2\", \"10-3\", \"10-4\", \"10-5\", \"11-1\"], \"y\": [null, null, null, null, null, null, null, 13.0, 12.0], \"type\": \"scatter\", \"uid\": \"b9a686d2-e638-11e8-8ddb-a41f72875c19\"}, {\"line\": {\"dash\": \"dash\"}, \"name\": \"\\u5b8c\\u6210\\u5546\\u4e1a\\u9879\\u76ee\\u6570(\\u5206\\u6790\\u4e00\\u7ec4)\", \"x\": [\"9-1\", \"9-2\", \"9-3\", \"9-4\", \"10-2\", \"10-3\", \"10-4\", \"10-5\", \"11-1\"], \"y\": [6.0, 11.0, 6.0, 6.0, 15.0, 13.0, 14.0, 23.0, 20.0], \"type\": \"scatter\", \"uid\": \"b9a686d3-e638-11e8-8ddb-a41f72875c19\"}, {\"line\": {\"dash\": \"longdash\"}, \"name\": \"\\u5b8c\\u6210\\u5546\\u4e1a\\u9879\\u76ee\\u6570(\\u5206\\u6790\\u4e8c\\u7ec4)\", \"x\": [\"9-1\", \"9-2\", \"9-3\", \"9-4\", \"10-2\", \"10-3\", \"10-4\", \"10-5\", \"11-1\"], \"y\": [20.0, 29.0, 17.0, 22.0, 11.0, 13.0, 10.0, 15.0, 11.0], \"type\": \"scatter\", \"uid\": \"b9a686d4-e638-11e8-8ddb-a41f72875c19\"}, {\"line\": {\"dash\": \"solid\"}, \"name\": \"\\u5b8c\\u6210\\u4e2a\\u6027\\u5316\\u6570(\\u4e2a\\u6027\\u5316\\u7ec4)\", \"x\": [\"9-1\", \"9-2\", \"9-3\", \"9-4\", \"10-2\", \"10-3\", \"10-4\", \"10-5\", \"11-1\"], \"y\": [18.0, 14.0, 13.0, 14.0, 8.0, 17.0, 24.0, 24.0, 18.0], \"type\": \"scatter\", \"uid\": \"b9a686d5-e638-11e8-8ddb-a41f72875c19\"}, {\"line\": {\"dash\": \"dot\"}, \"name\": \"\\u5b8c\\u6210\\u4e2a\\u6027\\u5316\\u6570(\\u4e49\\u4e4c\\u7ec4)\", \"x\": [\"9-1\", \"9-2\", \"9-3\", \"9-4\", \"10-2\", \"10-3\", \"10-4\", \"10-5\", \"11-1\"], \"y\": [null, null, null, null, null, null, null, 5.0, 6.0], \"type\": \"scatter\", \"uid\": \"b9a686d6-e638-11e8-8ddb-a41f72875c19\"}, {\"line\": {\"dash\": \"dash\"}, \"name\": \"\\u5b8c\\u6210\\u4e2a\\u6027\\u5316\\u6570(\\u5206\\u6790\\u4e00\\u7ec4)\", \"x\": [\"9-1\", \"9-2\", \"9-3\", \"9-4\", \"10-2\", \"10-3\", \"10-4\", \"10-5\", \"11-1\"], \"y\": [5.0, 4.0, 3.0, 4.0, 8.0, 16.0, 7.0, 6.0, 6.0], \"type\": \"scatter\", \"uid\": \"b9a686d7-e638-11e8-8ddb-a41f72875c19\"}, {\"line\": {\"dash\": \"longdash\"}, \"name\": \"\\u5b8c\\u6210\\u4e2a\\u6027\\u5316\\u6570(\\u5206\\u6790\\u4e8c\\u7ec4)\", \"x\": [\"9-1\", \"9-2\", \"9-3\", \"9-4\", \"10-2\", \"10-3\", \"10-4\", \"10-5\", \"11-1\"], \"y\": [8.0, 21.0, 25.0, 10.0, 8.0, 6.0, 6.0, 8.0, 14.0], \"type\": \"scatter\", \"uid\": \"b9a686d8-e638-11e8-8ddb-a41f72875c19\"}], {\"title\": \"\\u5404\\u7ec4\\u5b8c\\u6210\\u5546\\u4e1a\\u548c\\u4e2a\\u6027\\u5316\\u9879\\u76ee\\u5468\\u8d8b\\u52bf\", \"xaxis\": {\"mirror\": \"all\", \"nticks\": 20, \"showgrid\": true, \"showline\": true, \"title\": \"\\u5468\", \"type\": \"category\", \"zeroline\": true}, \"yaxis\": {\"mirror\": \"all\", \"nticks\": 20, \"showgrid\": true, \"showline\": true, \"title\": \"\\u5b8c\\u6210\\u5546\\u4e1a\\u9879\\u76ee\\u6570&\\u5b8c\\u6210\\u4e2a\\u6027\\u5316\\u6570\", \"zeroline\": true}}, {\"showLink\": true, \"linkText\": \"Export to plot.ly\"})});</script>"
      ],
      "text/vnd.plotly.v1+html": [
       "<div id=\"162cbd92-26dd-4bf1-8670-9f10e15a2569\" style=\"height: 525px; width: 100%;\" class=\"plotly-graph-div\"></div><script type=\"text/javascript\">require([\"plotly\"], function(Plotly) { window.PLOTLYENV=window.PLOTLYENV || {};window.PLOTLYENV.BASE_URL=\"https://plot.ly\";Plotly.newPlot(\"162cbd92-26dd-4bf1-8670-9f10e15a2569\", [{\"line\": {\"dash\": \"solid\"}, \"name\": \"\\u5b8c\\u6210\\u5546\\u4e1a\\u9879\\u76ee\\u6570(\\u4e2a\\u6027\\u5316\\u7ec4)\", \"x\": [\"9-1\", \"9-2\", \"9-3\", \"9-4\", \"10-2\", \"10-3\", \"10-4\", \"10-5\", \"11-1\"], \"y\": [0.0, 0.0, 0.0, 0.0, 1.0, 1.0, 2.0, 4.0, 8.0], \"type\": \"scatter\", \"uid\": \"b9a686d1-e638-11e8-8ddb-a41f72875c19\"}, {\"line\": {\"dash\": \"dot\"}, \"name\": \"\\u5b8c\\u6210\\u5546\\u4e1a\\u9879\\u76ee\\u6570(\\u4e49\\u4e4c\\u7ec4)\", \"x\": [\"9-1\", \"9-2\", \"9-3\", \"9-4\", \"10-2\", \"10-3\", \"10-4\", \"10-5\", \"11-1\"], \"y\": [null, null, null, null, null, null, null, 13.0, 12.0], \"type\": \"scatter\", \"uid\": \"b9a686d2-e638-11e8-8ddb-a41f72875c19\"}, {\"line\": {\"dash\": \"dash\"}, \"name\": \"\\u5b8c\\u6210\\u5546\\u4e1a\\u9879\\u76ee\\u6570(\\u5206\\u6790\\u4e00\\u7ec4)\", \"x\": [\"9-1\", \"9-2\", \"9-3\", \"9-4\", \"10-2\", \"10-3\", \"10-4\", \"10-5\", \"11-1\"], \"y\": [6.0, 11.0, 6.0, 6.0, 15.0, 13.0, 14.0, 23.0, 20.0], \"type\": \"scatter\", \"uid\": \"b9a686d3-e638-11e8-8ddb-a41f72875c19\"}, {\"line\": {\"dash\": \"longdash\"}, \"name\": \"\\u5b8c\\u6210\\u5546\\u4e1a\\u9879\\u76ee\\u6570(\\u5206\\u6790\\u4e8c\\u7ec4)\", \"x\": [\"9-1\", \"9-2\", \"9-3\", \"9-4\", \"10-2\", \"10-3\", \"10-4\", \"10-5\", \"11-1\"], \"y\": [20.0, 29.0, 17.0, 22.0, 11.0, 13.0, 10.0, 15.0, 11.0], \"type\": \"scatter\", \"uid\": \"b9a686d4-e638-11e8-8ddb-a41f72875c19\"}, {\"line\": {\"dash\": \"solid\"}, \"name\": \"\\u5b8c\\u6210\\u4e2a\\u6027\\u5316\\u6570(\\u4e2a\\u6027\\u5316\\u7ec4)\", \"x\": [\"9-1\", \"9-2\", \"9-3\", \"9-4\", \"10-2\", \"10-3\", \"10-4\", \"10-5\", \"11-1\"], \"y\": [18.0, 14.0, 13.0, 14.0, 8.0, 17.0, 24.0, 24.0, 18.0], \"type\": \"scatter\", \"uid\": \"b9a686d5-e638-11e8-8ddb-a41f72875c19\"}, {\"line\": {\"dash\": \"dot\"}, \"name\": \"\\u5b8c\\u6210\\u4e2a\\u6027\\u5316\\u6570(\\u4e49\\u4e4c\\u7ec4)\", \"x\": [\"9-1\", \"9-2\", \"9-3\", \"9-4\", \"10-2\", \"10-3\", \"10-4\", \"10-5\", \"11-1\"], \"y\": [null, null, null, null, null, null, null, 5.0, 6.0], \"type\": \"scatter\", \"uid\": \"b9a686d6-e638-11e8-8ddb-a41f72875c19\"}, {\"line\": {\"dash\": \"dash\"}, \"name\": \"\\u5b8c\\u6210\\u4e2a\\u6027\\u5316\\u6570(\\u5206\\u6790\\u4e00\\u7ec4)\", \"x\": [\"9-1\", \"9-2\", \"9-3\", \"9-4\", \"10-2\", \"10-3\", \"10-4\", \"10-5\", \"11-1\"], \"y\": [5.0, 4.0, 3.0, 4.0, 8.0, 16.0, 7.0, 6.0, 6.0], \"type\": \"scatter\", \"uid\": \"b9a686d7-e638-11e8-8ddb-a41f72875c19\"}, {\"line\": {\"dash\": \"longdash\"}, \"name\": \"\\u5b8c\\u6210\\u4e2a\\u6027\\u5316\\u6570(\\u5206\\u6790\\u4e8c\\u7ec4)\", \"x\": [\"9-1\", \"9-2\", \"9-3\", \"9-4\", \"10-2\", \"10-3\", \"10-4\", \"10-5\", \"11-1\"], \"y\": [8.0, 21.0, 25.0, 10.0, 8.0, 6.0, 6.0, 8.0, 14.0], \"type\": \"scatter\", \"uid\": \"b9a686d8-e638-11e8-8ddb-a41f72875c19\"}], {\"title\": \"\\u5404\\u7ec4\\u5b8c\\u6210\\u5546\\u4e1a\\u548c\\u4e2a\\u6027\\u5316\\u9879\\u76ee\\u5468\\u8d8b\\u52bf\", \"xaxis\": {\"mirror\": \"all\", \"nticks\": 20, \"showgrid\": true, \"showline\": true, \"title\": \"\\u5468\", \"type\": \"category\", \"zeroline\": true}, \"yaxis\": {\"mirror\": \"all\", \"nticks\": 20, \"showgrid\": true, \"showline\": true, \"title\": \"\\u5b8c\\u6210\\u5546\\u4e1a\\u9879\\u76ee\\u6570&\\u5b8c\\u6210\\u4e2a\\u6027\\u5316\\u6570\", \"zeroline\": true}}, {\"showLink\": true, \"linkText\": \"Export to plot.ly\"})});</script>"
      ]
     },
     "metadata": {},
     "output_type": "display_data"
    }
   ],
   "source": [
    "ss = myModule.format(all_df1 ,\"日期（格式“月-周次”）\" ,['完成商业项目数','完成个性化数'])\n",
    "ss.add_group('组别')\n",
    "#ss.get_average_by('人员')\n",
    "myModule.myPlot(myModule.sort_by_index(ss.groupby('sum'))).plot('line',fig_title='各组完成商业和个性化项目周趋势')\n",
    "#ss = myModule.format(all_df1 ,\"month\" ,['完成商业项目数','完成个性化数'])\n",
    "#ss.add_group('组别')\n",
    "#myModule.myPlot(ss.groupby('sum')).plot('line',\"月\")"
   ]
  },
  {
   "cell_type": "markdown",
   "metadata": {},
   "source": [
    "## 人均完成情况"
   ]
  },
  {
   "cell_type": "markdown",
   "metadata": {},
   "source": [
    "### 分析组人均产能情况"
   ]
  },
  {
   "cell_type": "code",
   "execution_count": 151,
   "metadata": {
    "collapsed": false
   },
   "outputs": [
    {
     "data": {
      "application/vnd.plotly.v1+json": {
       "data": [
        {
         "name": "完成商业项目数",
         "type": "scatter",
         "uid": "b9a686d9-e638-11e8-8ddb-a41f72875c19",
         "x": [
          "9-1",
          "9-2",
          "9-3",
          "9-4",
          "10-2",
          "10-3",
          "10-4",
          "10-5",
          "11-1"
         ],
         "y": [
          1.625,
          2.5,
          1.4375,
          1.75,
          1.9285714285714286,
          1.9285714285714286,
          1.8571428571428572,
          2.75,
          2.55
         ]
        },
        {
         "name": "完成个性化数",
         "type": "scatter",
         "uid": "b9a686da-e638-11e8-8ddb-a41f72875c19",
         "x": [
          "9-1",
          "9-2",
          "9-3",
          "9-4",
          "10-2",
          "10-3",
          "10-4",
          "10-5",
          "11-1"
         ],
         "y": [
          1.9375,
          2.4375,
          2.5625,
          1.75,
          1.7142857142857142,
          2.7857142857142856,
          2.642857142857143,
          2.15,
          2.2
         ]
        },
        {
         "name": "完成项目总数",
         "type": "scatter",
         "uid": "b9a686db-e638-11e8-8ddb-a41f72875c19",
         "x": [
          "9-1",
          "9-2",
          "9-3",
          "9-4",
          "10-2",
          "10-3",
          "10-4",
          "10-5",
          "11-1"
         ],
         "y": [
          3.5625,
          4.9375,
          4,
          3.5,
          3.642857142857143,
          4.714285714285714,
          4.5,
          4.9,
          4.75
         ]
        }
       ],
       "layout": {
        "title": "总人均完成项目情况",
        "xaxis": {
         "mirror": "all",
         "nticks": 20,
         "showgrid": true,
         "showline": true,
         "title": "周",
         "type": "category",
         "zeroline": true
        },
        "yaxis": {
         "mirror": "all",
         "nticks": 20,
         "showgrid": true,
         "showline": true,
         "title": "完成商业项目数&完成个性化数&完成项目总数",
         "zeroline": true
        }
       }
      },
      "text/html": [
       "<div id=\"332c3efe-a5d9-4407-a523-c1bc9816e74e\" style=\"height: 525px; width: 100%;\" class=\"plotly-graph-div\"></div><script type=\"text/javascript\">require([\"plotly\"], function(Plotly) { window.PLOTLYENV=window.PLOTLYENV || {};window.PLOTLYENV.BASE_URL=\"https://plot.ly\";Plotly.newPlot(\"332c3efe-a5d9-4407-a523-c1bc9816e74e\", [{\"name\": \"\\u5b8c\\u6210\\u5546\\u4e1a\\u9879\\u76ee\\u6570\", \"x\": [\"9-1\", \"9-2\", \"9-3\", \"9-4\", \"10-2\", \"10-3\", \"10-4\", \"10-5\", \"11-1\"], \"y\": [1.625, 2.5, 1.4375, 1.75, 1.9285714285714286, 1.9285714285714286, 1.8571428571428572, 2.75, 2.55], \"type\": \"scatter\", \"uid\": \"b9a686d9-e638-11e8-8ddb-a41f72875c19\"}, {\"name\": \"\\u5b8c\\u6210\\u4e2a\\u6027\\u5316\\u6570\", \"x\": [\"9-1\", \"9-2\", \"9-3\", \"9-4\", \"10-2\", \"10-3\", \"10-4\", \"10-5\", \"11-1\"], \"y\": [1.9375, 2.4375, 2.5625, 1.75, 1.7142857142857142, 2.7857142857142856, 2.642857142857143, 2.15, 2.2], \"type\": \"scatter\", \"uid\": \"b9a686da-e638-11e8-8ddb-a41f72875c19\"}, {\"name\": \"\\u5b8c\\u6210\\u9879\\u76ee\\u603b\\u6570\", \"x\": [\"9-1\", \"9-2\", \"9-3\", \"9-4\", \"10-2\", \"10-3\", \"10-4\", \"10-5\", \"11-1\"], \"y\": [3.5625, 4.9375, 4.0, 3.5, 3.642857142857143, 4.714285714285714, 4.5, 4.9, 4.75], \"type\": \"scatter\", \"uid\": \"b9a686db-e638-11e8-8ddb-a41f72875c19\"}], {\"title\": \"\\u603b\\u4eba\\u5747\\u5b8c\\u6210\\u9879\\u76ee\\u60c5\\u51b5\", \"xaxis\": {\"mirror\": \"all\", \"nticks\": 20, \"showgrid\": true, \"showline\": true, \"title\": \"\\u5468\", \"type\": \"category\", \"zeroline\": true}, \"yaxis\": {\"mirror\": \"all\", \"nticks\": 20, \"showgrid\": true, \"showline\": true, \"title\": \"\\u5b8c\\u6210\\u5546\\u4e1a\\u9879\\u76ee\\u6570&\\u5b8c\\u6210\\u4e2a\\u6027\\u5316\\u6570&\\u5b8c\\u6210\\u9879\\u76ee\\u603b\\u6570\", \"zeroline\": true}}, {\"showLink\": true, \"linkText\": \"Export to plot.ly\"})});</script>"
      ],
      "text/vnd.plotly.v1+html": [
       "<div id=\"332c3efe-a5d9-4407-a523-c1bc9816e74e\" style=\"height: 525px; width: 100%;\" class=\"plotly-graph-div\"></div><script type=\"text/javascript\">require([\"plotly\"], function(Plotly) { window.PLOTLYENV=window.PLOTLYENV || {};window.PLOTLYENV.BASE_URL=\"https://plot.ly\";Plotly.newPlot(\"332c3efe-a5d9-4407-a523-c1bc9816e74e\", [{\"name\": \"\\u5b8c\\u6210\\u5546\\u4e1a\\u9879\\u76ee\\u6570\", \"x\": [\"9-1\", \"9-2\", \"9-3\", \"9-4\", \"10-2\", \"10-3\", \"10-4\", \"10-5\", \"11-1\"], \"y\": [1.625, 2.5, 1.4375, 1.75, 1.9285714285714286, 1.9285714285714286, 1.8571428571428572, 2.75, 2.55], \"type\": \"scatter\", \"uid\": \"b9a686d9-e638-11e8-8ddb-a41f72875c19\"}, {\"name\": \"\\u5b8c\\u6210\\u4e2a\\u6027\\u5316\\u6570\", \"x\": [\"9-1\", \"9-2\", \"9-3\", \"9-4\", \"10-2\", \"10-3\", \"10-4\", \"10-5\", \"11-1\"], \"y\": [1.9375, 2.4375, 2.5625, 1.75, 1.7142857142857142, 2.7857142857142856, 2.642857142857143, 2.15, 2.2], \"type\": \"scatter\", \"uid\": \"b9a686da-e638-11e8-8ddb-a41f72875c19\"}, {\"name\": \"\\u5b8c\\u6210\\u9879\\u76ee\\u603b\\u6570\", \"x\": [\"9-1\", \"9-2\", \"9-3\", \"9-4\", \"10-2\", \"10-3\", \"10-4\", \"10-5\", \"11-1\"], \"y\": [3.5625, 4.9375, 4.0, 3.5, 3.642857142857143, 4.714285714285714, 4.5, 4.9, 4.75], \"type\": \"scatter\", \"uid\": \"b9a686db-e638-11e8-8ddb-a41f72875c19\"}], {\"title\": \"\\u603b\\u4eba\\u5747\\u5b8c\\u6210\\u9879\\u76ee\\u60c5\\u51b5\", \"xaxis\": {\"mirror\": \"all\", \"nticks\": 20, \"showgrid\": true, \"showline\": true, \"title\": \"\\u5468\", \"type\": \"category\", \"zeroline\": true}, \"yaxis\": {\"mirror\": \"all\", \"nticks\": 20, \"showgrid\": true, \"showline\": true, \"title\": \"\\u5b8c\\u6210\\u5546\\u4e1a\\u9879\\u76ee\\u6570&\\u5b8c\\u6210\\u4e2a\\u6027\\u5316\\u6570&\\u5b8c\\u6210\\u9879\\u76ee\\u603b\\u6570\", \"zeroline\": true}}, {\"showLink\": true, \"linkText\": \"Export to plot.ly\"})});</script>"
      ]
     },
     "metadata": {},
     "output_type": "display_data"
    }
   ],
   "source": [
    "ss = myModule.format(all_df1 ,\"日期（格式“月-周次”）\" ,['完成项目总数','完成商业项目数','完成个性化数'])\n",
    "ss.get_average_by('人员')\n",
    "myModule.myPlot(ss.groupby('sum')).df\n",
    "myModule.myPlot(myModule.sort_by_index(ss.groupby('sum'))).plot('line',fig_title='总人均完成项目情况')\n",
    "#ss = myModule.format(all_df1 ,\"month\" ,['完成项目总数','完成商业项目数','完成个性化数'])\n",
    "#ss.get_average_by('人员')\n",
    "#myModule.myPlot(ss.groupby('sum')).plot('line')"
   ]
  },
  {
   "cell_type": "markdown",
   "metadata": {},
   "source": [
    "### 各组人均完成项目数情况"
   ]
  },
  {
   "cell_type": "code",
   "execution_count": 152,
   "metadata": {
    "collapsed": false
   },
   "outputs": [
    {
     "data": {
      "application/vnd.plotly.v1+json": {
       "data": [
        {
         "line": {
          "dash": "solid"
         },
         "name": "完成项目总数(个性化组)",
         "type": "scatter",
         "uid": "b9a686dc-e638-11e8-8ddb-a41f72875c19",
         "x": [
          "9-1",
          "9-2",
          "9-3",
          "9-4",
          "10-2",
          "10-3",
          "10-4",
          "10-5",
          "11-1"
         ],
         "y": [
          6,
          4.666666666666667,
          4.333333333333333,
          4.666666666666667,
          1.8,
          3.6,
          5.2,
          5.6,
          5.2
         ]
        },
        {
         "line": {
          "dash": "dot"
         },
         "name": "完成项目总数(义乌组)",
         "type": "scatter",
         "uid": "b9a686dd-e638-11e8-8ddb-a41f72875c19",
         "x": [
          "9-1",
          "9-2",
          "9-3",
          "9-4",
          "10-2",
          "10-3",
          "10-4",
          "10-5",
          "11-1"
         ],
         "y": [
          null,
          null,
          null,
          null,
          null,
          null,
          null,
          3,
          3
         ]
        },
        {
         "line": {
          "dash": "dash"
         },
         "name": "完成项目总数(分析一组)",
         "type": "scatter",
         "uid": "b9a686de-e638-11e8-8ddb-a41f72875c19",
         "x": [
          "9-1",
          "9-2",
          "9-3",
          "9-4",
          "10-2",
          "10-3",
          "10-4",
          "10-5",
          "11-1"
         ],
         "y": [
          2.75,
          3.75,
          2.25,
          2.5,
          4.6,
          5.8,
          4.2,
          5.8,
          5.2
         ]
        },
        {
         "line": {
          "dash": "longdash"
         },
         "name": "完成项目总数(分析二组)",
         "type": "scatter",
         "uid": "b9a686df-e638-11e8-8ddb-a41f72875c19",
         "x": [
          "9-1",
          "9-2",
          "9-3",
          "9-4",
          "10-2",
          "10-3",
          "10-4",
          "10-5",
          "11-1"
         ],
         "y": [
          3.111111111111111,
          5.555555555555555,
          4.666666666666667,
          3.5555555555555554,
          4.75,
          4.75,
          4,
          5.75,
          6.25
         ]
        }
       ],
       "layout": {
        "title": "各组人均完成项目情况",
        "xaxis": {
         "mirror": "all",
         "nticks": 20,
         "showgrid": true,
         "showline": true,
         "title": "周",
         "type": "category",
         "zeroline": true
        },
        "yaxis": {
         "mirror": "all",
         "nticks": 20,
         "showgrid": true,
         "showline": true,
         "title": "完成项目总数",
         "zeroline": true
        }
       }
      },
      "text/html": [
       "<div id=\"2958093a-cb94-4c7b-a102-09e6e23ceb98\" style=\"height: 525px; width: 100%;\" class=\"plotly-graph-div\"></div><script type=\"text/javascript\">require([\"plotly\"], function(Plotly) { window.PLOTLYENV=window.PLOTLYENV || {};window.PLOTLYENV.BASE_URL=\"https://plot.ly\";Plotly.newPlot(\"2958093a-cb94-4c7b-a102-09e6e23ceb98\", [{\"line\": {\"dash\": \"solid\"}, \"name\": \"\\u5b8c\\u6210\\u9879\\u76ee\\u603b\\u6570(\\u4e2a\\u6027\\u5316\\u7ec4)\", \"x\": [\"9-1\", \"9-2\", \"9-3\", \"9-4\", \"10-2\", \"10-3\", \"10-4\", \"10-5\", \"11-1\"], \"y\": [6.0, 4.666666666666667, 4.333333333333333, 4.666666666666667, 1.8, 3.6, 5.2, 5.6, 5.2], \"type\": \"scatter\", \"uid\": \"b9a686dc-e638-11e8-8ddb-a41f72875c19\"}, {\"line\": {\"dash\": \"dot\"}, \"name\": \"\\u5b8c\\u6210\\u9879\\u76ee\\u603b\\u6570(\\u4e49\\u4e4c\\u7ec4)\", \"x\": [\"9-1\", \"9-2\", \"9-3\", \"9-4\", \"10-2\", \"10-3\", \"10-4\", \"10-5\", \"11-1\"], \"y\": [null, null, null, null, null, null, null, 3.0, 3.0], \"type\": \"scatter\", \"uid\": \"b9a686dd-e638-11e8-8ddb-a41f72875c19\"}, {\"line\": {\"dash\": \"dash\"}, \"name\": \"\\u5b8c\\u6210\\u9879\\u76ee\\u603b\\u6570(\\u5206\\u6790\\u4e00\\u7ec4)\", \"x\": [\"9-1\", \"9-2\", \"9-3\", \"9-4\", \"10-2\", \"10-3\", \"10-4\", \"10-5\", \"11-1\"], \"y\": [2.75, 3.75, 2.25, 2.5, 4.6, 5.8, 4.2, 5.8, 5.2], \"type\": \"scatter\", \"uid\": \"b9a686de-e638-11e8-8ddb-a41f72875c19\"}, {\"line\": {\"dash\": \"longdash\"}, \"name\": \"\\u5b8c\\u6210\\u9879\\u76ee\\u603b\\u6570(\\u5206\\u6790\\u4e8c\\u7ec4)\", \"x\": [\"9-1\", \"9-2\", \"9-3\", \"9-4\", \"10-2\", \"10-3\", \"10-4\", \"10-5\", \"11-1\"], \"y\": [3.111111111111111, 5.555555555555555, 4.666666666666667, 3.5555555555555554, 4.75, 4.75, 4.0, 5.75, 6.25], \"type\": \"scatter\", \"uid\": \"b9a686df-e638-11e8-8ddb-a41f72875c19\"}], {\"title\": \"\\u5404\\u7ec4\\u4eba\\u5747\\u5b8c\\u6210\\u9879\\u76ee\\u60c5\\u51b5\", \"xaxis\": {\"mirror\": \"all\", \"nticks\": 20, \"showgrid\": true, \"showline\": true, \"title\": \"\\u5468\", \"type\": \"category\", \"zeroline\": true}, \"yaxis\": {\"mirror\": \"all\", \"nticks\": 20, \"showgrid\": true, \"showline\": true, \"title\": \"\\u5b8c\\u6210\\u9879\\u76ee\\u603b\\u6570\", \"zeroline\": true}}, {\"showLink\": true, \"linkText\": \"Export to plot.ly\"})});</script>"
      ],
      "text/vnd.plotly.v1+html": [
       "<div id=\"2958093a-cb94-4c7b-a102-09e6e23ceb98\" style=\"height: 525px; width: 100%;\" class=\"plotly-graph-div\"></div><script type=\"text/javascript\">require([\"plotly\"], function(Plotly) { window.PLOTLYENV=window.PLOTLYENV || {};window.PLOTLYENV.BASE_URL=\"https://plot.ly\";Plotly.newPlot(\"2958093a-cb94-4c7b-a102-09e6e23ceb98\", [{\"line\": {\"dash\": \"solid\"}, \"name\": \"\\u5b8c\\u6210\\u9879\\u76ee\\u603b\\u6570(\\u4e2a\\u6027\\u5316\\u7ec4)\", \"x\": [\"9-1\", \"9-2\", \"9-3\", \"9-4\", \"10-2\", \"10-3\", \"10-4\", \"10-5\", \"11-1\"], \"y\": [6.0, 4.666666666666667, 4.333333333333333, 4.666666666666667, 1.8, 3.6, 5.2, 5.6, 5.2], \"type\": \"scatter\", \"uid\": \"b9a686dc-e638-11e8-8ddb-a41f72875c19\"}, {\"line\": {\"dash\": \"dot\"}, \"name\": \"\\u5b8c\\u6210\\u9879\\u76ee\\u603b\\u6570(\\u4e49\\u4e4c\\u7ec4)\", \"x\": [\"9-1\", \"9-2\", \"9-3\", \"9-4\", \"10-2\", \"10-3\", \"10-4\", \"10-5\", \"11-1\"], \"y\": [null, null, null, null, null, null, null, 3.0, 3.0], \"type\": \"scatter\", \"uid\": \"b9a686dd-e638-11e8-8ddb-a41f72875c19\"}, {\"line\": {\"dash\": \"dash\"}, \"name\": \"\\u5b8c\\u6210\\u9879\\u76ee\\u603b\\u6570(\\u5206\\u6790\\u4e00\\u7ec4)\", \"x\": [\"9-1\", \"9-2\", \"9-3\", \"9-4\", \"10-2\", \"10-3\", \"10-4\", \"10-5\", \"11-1\"], \"y\": [2.75, 3.75, 2.25, 2.5, 4.6, 5.8, 4.2, 5.8, 5.2], \"type\": \"scatter\", \"uid\": \"b9a686de-e638-11e8-8ddb-a41f72875c19\"}, {\"line\": {\"dash\": \"longdash\"}, \"name\": \"\\u5b8c\\u6210\\u9879\\u76ee\\u603b\\u6570(\\u5206\\u6790\\u4e8c\\u7ec4)\", \"x\": [\"9-1\", \"9-2\", \"9-3\", \"9-4\", \"10-2\", \"10-3\", \"10-4\", \"10-5\", \"11-1\"], \"y\": [3.111111111111111, 5.555555555555555, 4.666666666666667, 3.5555555555555554, 4.75, 4.75, 4.0, 5.75, 6.25], \"type\": \"scatter\", \"uid\": \"b9a686df-e638-11e8-8ddb-a41f72875c19\"}], {\"title\": \"\\u5404\\u7ec4\\u4eba\\u5747\\u5b8c\\u6210\\u9879\\u76ee\\u60c5\\u51b5\", \"xaxis\": {\"mirror\": \"all\", \"nticks\": 20, \"showgrid\": true, \"showline\": true, \"title\": \"\\u5468\", \"type\": \"category\", \"zeroline\": true}, \"yaxis\": {\"mirror\": \"all\", \"nticks\": 20, \"showgrid\": true, \"showline\": true, \"title\": \"\\u5b8c\\u6210\\u9879\\u76ee\\u603b\\u6570\", \"zeroline\": true}}, {\"showLink\": true, \"linkText\": \"Export to plot.ly\"})});</script>"
      ]
     },
     "metadata": {},
     "output_type": "display_data"
    }
   ],
   "source": [
    "ss = myModule.format(all_df1 ,\"日期（格式“月-周次”）\" ,['完成项目总数'])\n",
    "ss.add_group('组别')\n",
    "ss.get_average_by('人员')\n",
    "#ss.df\n",
    "myModule.myPlot(ss.groupby('sum')).df\n",
    "myModule.myPlot(myModule.sort_by_index(ss.groupby('sum'))).plot('line',fig_title='各组人均完成项目情况')\n",
    "#ss = myModule.format(all_df1 ,\"month\" ,['完成项目总数'])\n",
    "#ss.add_group('组别')\n",
    "#ss.get_average_by('人员')\n",
    "#myModule.myPlot(ss.groupby('sum')).plot('line','月')"
   ]
  },
  {
   "cell_type": "markdown",
   "metadata": {},
   "source": [
    "## 具体人员效能情况"
   ]
  },
  {
   "cell_type": "code",
   "execution_count": 153,
   "metadata": {
    "collapsed": false
   },
   "outputs": [],
   "source": [
    "#ss = myModule.format(all_df1 ,\"日期（格式“月-周次”）\" ,['完成项目总数'])\n",
    "##ss.add_group('人员')\n",
    "##ss.get_average_by('人员')\n",
    "#myModule.myPlot(myModule.sort_by_index(ss.groupby('sum'))).plot('line')\n",
    "#ss = myModule.format(all_df1 ,\"month\" ,['完成项目总数'])\n",
    "##ss.add_group('人员')\n",
    "##ss.get_average_by('人员')\n",
    "#myModule.myPlot(ss.groupby('sum')).plot('line','月')"
   ]
  },
  {
   "cell_type": "markdown",
   "metadata": {},
   "source": [
    "### 优秀人员"
   ]
  },
  {
   "cell_type": "markdown",
   "metadata": {},
   "source": [
    "* 总完成项目数目位于上四位分数"
   ]
  },
  {
   "cell_type": "code",
   "execution_count": 154,
   "metadata": {
    "collapsed": false
   },
   "outputs": [
    {
     "data": {
      "text/html": [
       "<div>\n",
       "<style scoped>\n",
       "    .dataframe tbody tr th:only-of-type {\n",
       "        vertical-align: middle;\n",
       "    }\n",
       "\n",
       "    .dataframe tbody tr th {\n",
       "        vertical-align: top;\n",
       "    }\n",
       "\n",
       "    .dataframe thead th {\n",
       "        text-align: right;\n",
       "    }\n",
       "</style>\n",
       "<table border=\"1\" class=\"dataframe\">\n",
       "  <thead>\n",
       "    <tr style=\"text-align: right;\">\n",
       "      <th></th>\n",
       "      <th>完成项目总数</th>\n",
       "    </tr>\n",
       "    <tr>\n",
       "      <th>人员</th>\n",
       "      <th></th>\n",
       "    </tr>\n",
       "  </thead>\n",
       "  <tbody>\n",
       "    <tr>\n",
       "      <th>陈碧雯</th>\n",
       "      <td>56.0</td>\n",
       "    </tr>\n",
       "    <tr>\n",
       "      <th>何胜</th>\n",
       "      <td>54.0</td>\n",
       "    </tr>\n",
       "    <tr>\n",
       "      <th>闻少楠</th>\n",
       "      <td>54.0</td>\n",
       "    </tr>\n",
       "    <tr>\n",
       "      <th>刘梦苑</th>\n",
       "      <td>52.0</td>\n",
       "    </tr>\n",
       "    <tr>\n",
       "      <th>杨宇</th>\n",
       "      <td>48.0</td>\n",
       "    </tr>\n",
       "    <tr>\n",
       "      <th>赵倩</th>\n",
       "      <td>47.0</td>\n",
       "    </tr>\n",
       "  </tbody>\n",
       "</table>\n",
       "</div>"
      ],
      "text/plain": [
       "     完成项目总数\n",
       "人员         \n",
       "陈碧雯    56.0\n",
       "何胜     54.0\n",
       "闻少楠    54.0\n",
       "刘梦苑    52.0\n",
       "杨宇     48.0\n",
       "赵倩     47.0"
      ]
     },
     "execution_count": 154,
     "metadata": {},
     "output_type": "execute_result"
    }
   ],
   "source": [
    "myModule.get_rank(all_df1 , '人员' ,'完成项目总数', quantile=0.75, compare='>')\n",
    "#myModule.get_rank(all_df1 , '人员' ,'完成项目总数', 3, quantile=0.75, compare='>',sort_index=True)"
   ]
  },
  {
   "cell_type": "markdown",
   "metadata": {},
   "source": [
    "* 总完成个性化项目数位于上四分位数"
   ]
  },
  {
   "cell_type": "code",
   "execution_count": 155,
   "metadata": {
    "collapsed": false
   },
   "outputs": [
    {
     "data": {
      "text/html": [
       "<div>\n",
       "<style scoped>\n",
       "    .dataframe tbody tr th:only-of-type {\n",
       "        vertical-align: middle;\n",
       "    }\n",
       "\n",
       "    .dataframe tbody tr th {\n",
       "        vertical-align: top;\n",
       "    }\n",
       "\n",
       "    .dataframe thead th {\n",
       "        text-align: right;\n",
       "    }\n",
       "</style>\n",
       "<table border=\"1\" class=\"dataframe\">\n",
       "  <thead>\n",
       "    <tr style=\"text-align: right;\">\n",
       "      <th></th>\n",
       "      <th>完成个性化数</th>\n",
       "    </tr>\n",
       "    <tr>\n",
       "      <th>人员</th>\n",
       "      <th></th>\n",
       "    </tr>\n",
       "  </thead>\n",
       "  <tbody>\n",
       "    <tr>\n",
       "      <th>赵倩</th>\n",
       "      <td>47</td>\n",
       "    </tr>\n",
       "    <tr>\n",
       "      <th>冯敬岩</th>\n",
       "      <td>45</td>\n",
       "    </tr>\n",
       "    <tr>\n",
       "      <th>朱慧萍</th>\n",
       "      <td>36</td>\n",
       "    </tr>\n",
       "    <tr>\n",
       "      <th>何胜</th>\n",
       "      <td>26</td>\n",
       "    </tr>\n",
       "    <tr>\n",
       "      <th>刘梦苑</th>\n",
       "      <td>24</td>\n",
       "    </tr>\n",
       "    <tr>\n",
       "      <th>陈碧雯</th>\n",
       "      <td>22</td>\n",
       "    </tr>\n",
       "  </tbody>\n",
       "</table>\n",
       "</div>"
      ],
      "text/plain": [
       "     完成个性化数\n",
       "人员         \n",
       "赵倩       47\n",
       "冯敬岩      45\n",
       "朱慧萍      36\n",
       "何胜       26\n",
       "刘梦苑      24\n",
       "陈碧雯      22"
      ]
     },
     "execution_count": 155,
     "metadata": {},
     "output_type": "execute_result"
    }
   ],
   "source": [
    "\n",
    "myModule.get_rank(all_df1 , '人员' ,'完成个性化数', quantile=0.75, compare='>' )"
   ]
  },
  {
   "cell_type": "markdown",
   "metadata": {},
   "source": [
    "* 近4周完成项目持续优异人员"
   ]
  },
  {
   "cell_type": "code",
   "execution_count": 156,
   "metadata": {
    "collapsed": false
   },
   "outputs": [
    {
     "data": {
      "text/html": [
       "<div>\n",
       "<style scoped>\n",
       "    .dataframe tbody tr th:only-of-type {\n",
       "        vertical-align: middle;\n",
       "    }\n",
       "\n",
       "    .dataframe tbody tr th {\n",
       "        vertical-align: top;\n",
       "    }\n",
       "\n",
       "    .dataframe thead th {\n",
       "        text-align: right;\n",
       "    }\n",
       "</style>\n",
       "<table border=\"1\" class=\"dataframe\">\n",
       "  <thead>\n",
       "    <tr style=\"text-align: right;\">\n",
       "      <th>日期（格式“月-周次”）</th>\n",
       "      <th>10-3</th>\n",
       "      <th>10-4</th>\n",
       "      <th>10-5</th>\n",
       "      <th>11-1</th>\n",
       "    </tr>\n",
       "    <tr>\n",
       "      <th>人员</th>\n",
       "      <th></th>\n",
       "      <th></th>\n",
       "      <th></th>\n",
       "      <th></th>\n",
       "    </tr>\n",
       "  </thead>\n",
       "  <tbody>\n",
       "    <tr>\n",
       "      <th>闻少楠</th>\n",
       "      <td>8.0</td>\n",
       "      <td>9.0</td>\n",
       "      <td>9.0</td>\n",
       "      <td>8.0</td>\n",
       "    </tr>\n",
       "  </tbody>\n",
       "</table>\n",
       "</div>"
      ],
      "text/plain": [
       "日期（格式“月-周次”）  10-3  10-4  10-5  11-1\n",
       "人员                                  \n",
       "闻少楠            8.0   9.0   9.0   8.0"
      ]
     },
     "execution_count": 156,
     "metadata": {},
     "output_type": "execute_result"
    }
   ],
   "source": [
    "myModule.get_trend(all_df1 , '人员' ,'完成项目总数', 4, quantile=0.75, compare='>', sort_index=True)"
   ]
  },
  {
   "cell_type": "code",
   "execution_count": 157,
   "metadata": {
    "collapsed": false
   },
   "outputs": [],
   "source": [
    "#myModule.get_trend(all_df1 , '人员' ,'完成项目总数', 4, quantile=1, compare='<',trend=True , sort_index=True)\n",
    "#myModule.get_trend(all_df1 , '人员' ,'完成项目总数', 4, quantile=0.5, compare='<' , sort_index=True)"
   ]
  },
  {
   "cell_type": "markdown",
   "metadata": {},
   "source": [
    "### 待激励人员\n",
    "* 总完成项目数目位于下四位分数"
   ]
  },
  {
   "cell_type": "code",
   "execution_count": 158,
   "metadata": {
    "collapsed": false
   },
   "outputs": [
    {
     "data": {
      "text/html": [
       "<div>\n",
       "<style scoped>\n",
       "    .dataframe tbody tr th:only-of-type {\n",
       "        vertical-align: middle;\n",
       "    }\n",
       "\n",
       "    .dataframe tbody tr th {\n",
       "        vertical-align: top;\n",
       "    }\n",
       "\n",
       "    .dataframe thead th {\n",
       "        text-align: right;\n",
       "    }\n",
       "</style>\n",
       "<table border=\"1\" class=\"dataframe\">\n",
       "  <thead>\n",
       "    <tr style=\"text-align: right;\">\n",
       "      <th></th>\n",
       "      <th>完成项目总数</th>\n",
       "    </tr>\n",
       "    <tr>\n",
       "      <th>人员</th>\n",
       "      <th></th>\n",
       "    </tr>\n",
       "  </thead>\n",
       "  <tbody>\n",
       "    <tr>\n",
       "      <th>高剑</th>\n",
       "      <td>2.0</td>\n",
       "    </tr>\n",
       "    <tr>\n",
       "      <th>沈恩惠</th>\n",
       "      <td>4.0</td>\n",
       "    </tr>\n",
       "    <tr>\n",
       "      <th>车天栋</th>\n",
       "      <td>4.0</td>\n",
       "    </tr>\n",
       "    <tr>\n",
       "      <th>卢楠</th>\n",
       "      <td>8.0</td>\n",
       "    </tr>\n",
       "    <tr>\n",
       "      <th>林文文</th>\n",
       "      <td>8.0</td>\n",
       "    </tr>\n",
       "  </tbody>\n",
       "</table>\n",
       "</div>"
      ],
      "text/plain": [
       "     完成项目总数\n",
       "人员         \n",
       "高剑      2.0\n",
       "沈恩惠     4.0\n",
       "车天栋     4.0\n",
       "卢楠      8.0\n",
       "林文文     8.0"
      ]
     },
     "execution_count": 158,
     "metadata": {},
     "output_type": "execute_result"
    }
   ],
   "source": [
    "myModule.get_rank(all_df1 , '人员' ,'完成项目总数', quantile=0.2, compare='<' )"
   ]
  },
  {
   "cell_type": "markdown",
   "metadata": {},
   "source": [
    "* 总完成个性化项目数位于下四分位数"
   ]
  },
  {
   "cell_type": "code",
   "execution_count": 159,
   "metadata": {
    "collapsed": false
   },
   "outputs": [
    {
     "data": {
      "text/html": [
       "<div>\n",
       "<style scoped>\n",
       "    .dataframe tbody tr th:only-of-type {\n",
       "        vertical-align: middle;\n",
       "    }\n",
       "\n",
       "    .dataframe tbody tr th {\n",
       "        vertical-align: top;\n",
       "    }\n",
       "\n",
       "    .dataframe thead th {\n",
       "        text-align: right;\n",
       "    }\n",
       "</style>\n",
       "<table border=\"1\" class=\"dataframe\">\n",
       "  <thead>\n",
       "    <tr style=\"text-align: right;\">\n",
       "      <th></th>\n",
       "      <th>完成个性化数</th>\n",
       "    </tr>\n",
       "    <tr>\n",
       "      <th>人员</th>\n",
       "      <th></th>\n",
       "    </tr>\n",
       "  </thead>\n",
       "  <tbody>\n",
       "    <tr>\n",
       "      <th>卢楠</th>\n",
       "      <td>0</td>\n",
       "    </tr>\n",
       "    <tr>\n",
       "      <th>沈恩惠</th>\n",
       "      <td>0</td>\n",
       "    </tr>\n",
       "    <tr>\n",
       "      <th>高剑</th>\n",
       "      <td>0</td>\n",
       "    </tr>\n",
       "    <tr>\n",
       "      <th>施毓芷</th>\n",
       "      <td>1</td>\n",
       "    </tr>\n",
       "    <tr>\n",
       "      <th>沈立群</th>\n",
       "      <td>2</td>\n",
       "    </tr>\n",
       "    <tr>\n",
       "      <th>车天栋</th>\n",
       "      <td>2</td>\n",
       "    </tr>\n",
       "  </tbody>\n",
       "</table>\n",
       "</div>"
      ],
      "text/plain": [
       "     完成个性化数\n",
       "人员         \n",
       "卢楠        0\n",
       "沈恩惠       0\n",
       "高剑        0\n",
       "施毓芷       1\n",
       "沈立群       2\n",
       "车天栋       2"
      ]
     },
     "execution_count": 159,
     "metadata": {},
     "output_type": "execute_result"
    }
   ],
   "source": [
    "myModule.get_rank(all_df1 , '人员' ,'完成个性化数',  quantile=0.2, compare='<',sort_index=True)"
   ]
  },
  {
   "cell_type": "markdown",
   "metadata": {},
   "source": [
    "* 近4周完成项目待鼓励人员"
   ]
  },
  {
   "cell_type": "code",
   "execution_count": 160,
   "metadata": {
    "collapsed": false
   },
   "outputs": [
    {
     "data": {
      "text/html": [
       "<div>\n",
       "<style scoped>\n",
       "    .dataframe tbody tr th:only-of-type {\n",
       "        vertical-align: middle;\n",
       "    }\n",
       "\n",
       "    .dataframe tbody tr th {\n",
       "        vertical-align: top;\n",
       "    }\n",
       "\n",
       "    .dataframe thead th {\n",
       "        text-align: right;\n",
       "    }\n",
       "</style>\n",
       "<table border=\"1\" class=\"dataframe\">\n",
       "  <thead>\n",
       "    <tr style=\"text-align: right;\">\n",
       "      <th>日期（格式“月-周次”）</th>\n",
       "      <th>10-3</th>\n",
       "      <th>10-4</th>\n",
       "      <th>10-5</th>\n",
       "      <th>11-1</th>\n",
       "    </tr>\n",
       "    <tr>\n",
       "      <th>人员</th>\n",
       "      <th></th>\n",
       "      <th></th>\n",
       "      <th></th>\n",
       "      <th></th>\n",
       "    </tr>\n",
       "  </thead>\n",
       "  <tbody>\n",
       "    <tr>\n",
       "      <th>卢楠</th>\n",
       "      <td>1.0</td>\n",
       "      <td>1.0</td>\n",
       "      <td>4.0</td>\n",
       "      <td>2.0</td>\n",
       "    </tr>\n",
       "    <tr>\n",
       "      <th>施毓芷</th>\n",
       "      <td>0.0</td>\n",
       "      <td>4.0</td>\n",
       "      <td>3.0</td>\n",
       "      <td>2.0</td>\n",
       "    </tr>\n",
       "  </tbody>\n",
       "</table>\n",
       "</div>"
      ],
      "text/plain": [
       "日期（格式“月-周次”）  10-3  10-4  10-5  11-1\n",
       "人员                                  \n",
       "卢楠             1.0   1.0   4.0   2.0\n",
       "施毓芷            0.0   4.0   3.0   2.0"
      ]
     },
     "execution_count": 160,
     "metadata": {},
     "output_type": "execute_result"
    }
   ],
   "source": [
    "#myModule.get_trend(all_df1 , '人员' ,'完成项目总数', 4, quantile=1, compare='<',trend=True , sort_index=True)\n",
    "myModule.get_trend(all_df1 , '人员' ,'完成项目总数', 4, quantile=0.5, compare='<' , sort_index=True)"
   ]
  },
  {
   "cell_type": "markdown",
   "metadata": {},
   "source": [
    "# 下期项目情况预测"
   ]
  },
  {
   "cell_type": "markdown",
   "metadata": {},
   "source": [
    "* 总在线项目： 下机正在分析项目 和 未完成个性化分析\n",
    "* 未下机项目： 未下机项目"
   ]
  },
  {
   "cell_type": "markdown",
   "metadata": {},
   "source": [
    "## 总在线项目数"
   ]
  },
  {
   "cell_type": "markdown",
   "metadata": {},
   "source": [
    "### 在线项目情况"
   ]
  },
  {
   "cell_type": "code",
   "execution_count": 161,
   "metadata": {
    "collapsed": false
   },
   "outputs": [
    {
     "data": {
      "application/vnd.plotly.v1+json": {
       "data": [
        {
         "name": "在线项目总数",
         "type": "scatter",
         "uid": "bacd6540-e638-11e8-8ddb-a41f72875c19",
         "x": [
          "9-1",
          "9-2",
          "9-3",
          "9-4",
          "10-2",
          "10-3",
          "10-4",
          "10-5",
          "11-1"
         ],
         "y": [
          59,
          58,
          57,
          60,
          69,
          81,
          77,
          86,
          77
         ]
        }
       ],
       "layout": {
        "title": "总在线项目周趋势",
        "xaxis": {
         "mirror": "all",
         "nticks": 20,
         "showgrid": true,
         "showline": true,
         "title": "周",
         "type": "category",
         "zeroline": true
        },
        "yaxis": {
         "mirror": "all",
         "nticks": 20,
         "showgrid": true,
         "showline": true,
         "title": "在线项目总数",
         "zeroline": true
        }
       }
      },
      "text/html": [
       "<div id=\"dd00553d-7cc3-40bb-9472-06b2097b9ba5\" style=\"height: 525px; width: 100%;\" class=\"plotly-graph-div\"></div><script type=\"text/javascript\">require([\"plotly\"], function(Plotly) { window.PLOTLYENV=window.PLOTLYENV || {};window.PLOTLYENV.BASE_URL=\"https://plot.ly\";Plotly.newPlot(\"dd00553d-7cc3-40bb-9472-06b2097b9ba5\", [{\"name\": \"\\u5728\\u7ebf\\u9879\\u76ee\\u603b\\u6570\", \"x\": [\"9-1\", \"9-2\", \"9-3\", \"9-4\", \"10-2\", \"10-3\", \"10-4\", \"10-5\", \"11-1\"], \"y\": [59, 58, 57, 60, 69, 81, 77, 86, 77], \"type\": \"scatter\", \"uid\": \"bacd6540-e638-11e8-8ddb-a41f72875c19\"}], {\"title\": \"\\u603b\\u5728\\u7ebf\\u9879\\u76ee\\u5468\\u8d8b\\u52bf\", \"xaxis\": {\"mirror\": \"all\", \"nticks\": 20, \"showgrid\": true, \"showline\": true, \"title\": \"\\u5468\", \"type\": \"category\", \"zeroline\": true}, \"yaxis\": {\"mirror\": \"all\", \"nticks\": 20, \"showgrid\": true, \"showline\": true, \"title\": \"\\u5728\\u7ebf\\u9879\\u76ee\\u603b\\u6570\", \"zeroline\": true}}, {\"showLink\": true, \"linkText\": \"Export to plot.ly\"})});</script>"
      ],
      "text/vnd.plotly.v1+html": [
       "<div id=\"dd00553d-7cc3-40bb-9472-06b2097b9ba5\" style=\"height: 525px; width: 100%;\" class=\"plotly-graph-div\"></div><script type=\"text/javascript\">require([\"plotly\"], function(Plotly) { window.PLOTLYENV=window.PLOTLYENV || {};window.PLOTLYENV.BASE_URL=\"https://plot.ly\";Plotly.newPlot(\"dd00553d-7cc3-40bb-9472-06b2097b9ba5\", [{\"name\": \"\\u5728\\u7ebf\\u9879\\u76ee\\u603b\\u6570\", \"x\": [\"9-1\", \"9-2\", \"9-3\", \"9-4\", \"10-2\", \"10-3\", \"10-4\", \"10-5\", \"11-1\"], \"y\": [59, 58, 57, 60, 69, 81, 77, 86, 77], \"type\": \"scatter\", \"uid\": \"bacd6540-e638-11e8-8ddb-a41f72875c19\"}], {\"title\": \"\\u603b\\u5728\\u7ebf\\u9879\\u76ee\\u5468\\u8d8b\\u52bf\", \"xaxis\": {\"mirror\": \"all\", \"nticks\": 20, \"showgrid\": true, \"showline\": true, \"title\": \"\\u5468\", \"type\": \"category\", \"zeroline\": true}, \"yaxis\": {\"mirror\": \"all\", \"nticks\": 20, \"showgrid\": true, \"showline\": true, \"title\": \"\\u5728\\u7ebf\\u9879\\u76ee\\u603b\\u6570\", \"zeroline\": true}}, {\"showLink\": true, \"linkText\": \"Export to plot.ly\"})});</script>"
      ]
     },
     "metadata": {},
     "output_type": "display_data"
    },
    {
     "data": {
      "application/vnd.plotly.v1+json": {
       "data": [
        {
         "line": {
          "dash": "solid"
         },
         "name": "在线项目总数(个性化组)",
         "type": "scatter",
         "uid": "bacd6541-e638-11e8-8ddb-a41f72875c19",
         "x": [
          "9-1",
          "9-2",
          "9-3",
          "9-4",
          "10-2",
          "10-3",
          "10-4",
          "10-5",
          "11-1"
         ],
         "y": [
          7,
          7,
          10,
          10,
          24,
          28,
          27,
          24,
          11
         ]
        },
        {
         "line": {
          "dash": "dot"
         },
         "name": "在线项目总数(义乌组)",
         "type": "scatter",
         "uid": "bacd6542-e638-11e8-8ddb-a41f72875c19",
         "x": [
          "9-1",
          "9-2",
          "9-3",
          "9-4",
          "10-2",
          "10-3",
          "10-4",
          "10-5",
          "11-1"
         ],
         "y": [
          null,
          null,
          null,
          null,
          null,
          null,
          null,
          9,
          9
         ]
        },
        {
         "line": {
          "dash": "dash"
         },
         "name": "在线项目总数(分析一组)",
         "type": "scatter",
         "uid": "bacd6543-e638-11e8-8ddb-a41f72875c19",
         "x": [
          "9-1",
          "9-2",
          "9-3",
          "9-4",
          "10-2",
          "10-3",
          "10-4",
          "10-5",
          "11-1"
         ],
         "y": [
          9,
          9,
          8,
          11,
          29,
          36,
          29,
          26,
          33
         ]
        },
        {
         "line": {
          "dash": "longdash"
         },
         "name": "在线项目总数(分析二组)",
         "type": "scatter",
         "uid": "bacd6544-e638-11e8-8ddb-a41f72875c19",
         "x": [
          "9-1",
          "9-2",
          "9-3",
          "9-4",
          "10-2",
          "10-3",
          "10-4",
          "10-5",
          "11-1"
         ],
         "y": [
          43,
          42,
          39,
          39,
          16,
          17,
          21,
          27,
          24
         ]
        }
       ],
       "layout": {
        "title": "各组总在线项目周趋势",
        "xaxis": {
         "mirror": "all",
         "nticks": 20,
         "showgrid": true,
         "showline": true,
         "title": "周",
         "type": "category",
         "zeroline": true
        },
        "yaxis": {
         "mirror": "all",
         "nticks": 20,
         "showgrid": true,
         "showline": true,
         "title": "在线项目总数",
         "zeroline": true
        }
       }
      },
      "text/html": [
       "<div id=\"2f04c0a6-b79b-4321-8f91-bead2e9dd51a\" style=\"height: 525px; width: 100%;\" class=\"plotly-graph-div\"></div><script type=\"text/javascript\">require([\"plotly\"], function(Plotly) { window.PLOTLYENV=window.PLOTLYENV || {};window.PLOTLYENV.BASE_URL=\"https://plot.ly\";Plotly.newPlot(\"2f04c0a6-b79b-4321-8f91-bead2e9dd51a\", [{\"line\": {\"dash\": \"solid\"}, \"name\": \"\\u5728\\u7ebf\\u9879\\u76ee\\u603b\\u6570(\\u4e2a\\u6027\\u5316\\u7ec4)\", \"x\": [\"9-1\", \"9-2\", \"9-3\", \"9-4\", \"10-2\", \"10-3\", \"10-4\", \"10-5\", \"11-1\"], \"y\": [7.0, 7.0, 10.0, 10.0, 24.0, 28.0, 27.0, 24.0, 11.0], \"type\": \"scatter\", \"uid\": \"bacd6541-e638-11e8-8ddb-a41f72875c19\"}, {\"line\": {\"dash\": \"dot\"}, \"name\": \"\\u5728\\u7ebf\\u9879\\u76ee\\u603b\\u6570(\\u4e49\\u4e4c\\u7ec4)\", \"x\": [\"9-1\", \"9-2\", \"9-3\", \"9-4\", \"10-2\", \"10-3\", \"10-4\", \"10-5\", \"11-1\"], \"y\": [null, null, null, null, null, null, null, 9.0, 9.0], \"type\": \"scatter\", \"uid\": \"bacd6542-e638-11e8-8ddb-a41f72875c19\"}, {\"line\": {\"dash\": \"dash\"}, \"name\": \"\\u5728\\u7ebf\\u9879\\u76ee\\u603b\\u6570(\\u5206\\u6790\\u4e00\\u7ec4)\", \"x\": [\"9-1\", \"9-2\", \"9-3\", \"9-4\", \"10-2\", \"10-3\", \"10-4\", \"10-5\", \"11-1\"], \"y\": [9.0, 9.0, 8.0, 11.0, 29.0, 36.0, 29.0, 26.0, 33.0], \"type\": \"scatter\", \"uid\": \"bacd6543-e638-11e8-8ddb-a41f72875c19\"}, {\"line\": {\"dash\": \"longdash\"}, \"name\": \"\\u5728\\u7ebf\\u9879\\u76ee\\u603b\\u6570(\\u5206\\u6790\\u4e8c\\u7ec4)\", \"x\": [\"9-1\", \"9-2\", \"9-3\", \"9-4\", \"10-2\", \"10-3\", \"10-4\", \"10-5\", \"11-1\"], \"y\": [43.0, 42.0, 39.0, 39.0, 16.0, 17.0, 21.0, 27.0, 24.0], \"type\": \"scatter\", \"uid\": \"bacd6544-e638-11e8-8ddb-a41f72875c19\"}], {\"title\": \"\\u5404\\u7ec4\\u603b\\u5728\\u7ebf\\u9879\\u76ee\\u5468\\u8d8b\\u52bf\", \"xaxis\": {\"mirror\": \"all\", \"nticks\": 20, \"showgrid\": true, \"showline\": true, \"title\": \"\\u5468\", \"type\": \"category\", \"zeroline\": true}, \"yaxis\": {\"mirror\": \"all\", \"nticks\": 20, \"showgrid\": true, \"showline\": true, \"title\": \"\\u5728\\u7ebf\\u9879\\u76ee\\u603b\\u6570\", \"zeroline\": true}}, {\"showLink\": true, \"linkText\": \"Export to plot.ly\"})});</script>"
      ],
      "text/vnd.plotly.v1+html": [
       "<div id=\"2f04c0a6-b79b-4321-8f91-bead2e9dd51a\" style=\"height: 525px; width: 100%;\" class=\"plotly-graph-div\"></div><script type=\"text/javascript\">require([\"plotly\"], function(Plotly) { window.PLOTLYENV=window.PLOTLYENV || {};window.PLOTLYENV.BASE_URL=\"https://plot.ly\";Plotly.newPlot(\"2f04c0a6-b79b-4321-8f91-bead2e9dd51a\", [{\"line\": {\"dash\": \"solid\"}, \"name\": \"\\u5728\\u7ebf\\u9879\\u76ee\\u603b\\u6570(\\u4e2a\\u6027\\u5316\\u7ec4)\", \"x\": [\"9-1\", \"9-2\", \"9-3\", \"9-4\", \"10-2\", \"10-3\", \"10-4\", \"10-5\", \"11-1\"], \"y\": [7.0, 7.0, 10.0, 10.0, 24.0, 28.0, 27.0, 24.0, 11.0], \"type\": \"scatter\", \"uid\": \"bacd6541-e638-11e8-8ddb-a41f72875c19\"}, {\"line\": {\"dash\": \"dot\"}, \"name\": \"\\u5728\\u7ebf\\u9879\\u76ee\\u603b\\u6570(\\u4e49\\u4e4c\\u7ec4)\", \"x\": [\"9-1\", \"9-2\", \"9-3\", \"9-4\", \"10-2\", \"10-3\", \"10-4\", \"10-5\", \"11-1\"], \"y\": [null, null, null, null, null, null, null, 9.0, 9.0], \"type\": \"scatter\", \"uid\": \"bacd6542-e638-11e8-8ddb-a41f72875c19\"}, {\"line\": {\"dash\": \"dash\"}, \"name\": \"\\u5728\\u7ebf\\u9879\\u76ee\\u603b\\u6570(\\u5206\\u6790\\u4e00\\u7ec4)\", \"x\": [\"9-1\", \"9-2\", \"9-3\", \"9-4\", \"10-2\", \"10-3\", \"10-4\", \"10-5\", \"11-1\"], \"y\": [9.0, 9.0, 8.0, 11.0, 29.0, 36.0, 29.0, 26.0, 33.0], \"type\": \"scatter\", \"uid\": \"bacd6543-e638-11e8-8ddb-a41f72875c19\"}, {\"line\": {\"dash\": \"longdash\"}, \"name\": \"\\u5728\\u7ebf\\u9879\\u76ee\\u603b\\u6570(\\u5206\\u6790\\u4e8c\\u7ec4)\", \"x\": [\"9-1\", \"9-2\", \"9-3\", \"9-4\", \"10-2\", \"10-3\", \"10-4\", \"10-5\", \"11-1\"], \"y\": [43.0, 42.0, 39.0, 39.0, 16.0, 17.0, 21.0, 27.0, 24.0], \"type\": \"scatter\", \"uid\": \"bacd6544-e638-11e8-8ddb-a41f72875c19\"}], {\"title\": \"\\u5404\\u7ec4\\u603b\\u5728\\u7ebf\\u9879\\u76ee\\u5468\\u8d8b\\u52bf\", \"xaxis\": {\"mirror\": \"all\", \"nticks\": 20, \"showgrid\": true, \"showline\": true, \"title\": \"\\u5468\", \"type\": \"category\", \"zeroline\": true}, \"yaxis\": {\"mirror\": \"all\", \"nticks\": 20, \"showgrid\": true, \"showline\": true, \"title\": \"\\u5728\\u7ebf\\u9879\\u76ee\\u603b\\u6570\", \"zeroline\": true}}, {\"showLink\": true, \"linkText\": \"Export to plot.ly\"})});</script>"
      ]
     },
     "metadata": {},
     "output_type": "display_data"
    }
   ],
   "source": [
    "ss = myModule.format(all_df1 ,\"日期（格式“月-周次”）\" ,['在线项目总数' ])\n",
    "#ss.add_group('组别')\n",
    "#ss.get_average_by('人员')\n",
    "myModule.myPlot(myModule.sort_by_index(ss.groupby('sum'))).plot('line',fig_title='总在线项目周趋势')\n",
    "ss = myModule.format(all_df1 ,\"日期（格式“月-周次”）\" ,['在线项目总数'])\n",
    "ss.add_group('组别')\n",
    "#ss.get_average_by('人员')\n",
    "myModule.myPlot(myModule.sort_by_index(ss.groupby('sum'))).plot('line',fig_title='各组总在线项目周趋势')"
   ]
  },
  {
   "cell_type": "markdown",
   "metadata": {},
   "source": [
    "### 人均在线项目情况"
   ]
  },
  {
   "cell_type": "code",
   "execution_count": 162,
   "metadata": {
    "collapsed": false
   },
   "outputs": [
    {
     "data": {
      "application/vnd.plotly.v1+json": {
       "data": [
        {
         "name": "在线项目总数",
         "type": "scatter",
         "uid": "bacd6545-e638-11e8-8ddb-a41f72875c19",
         "x": [
          "9-1",
          "9-2",
          "9-3",
          "9-4",
          "10-2",
          "10-3",
          "10-4",
          "10-5",
          "11-1"
         ],
         "y": [
          59,
          58,
          57,
          60,
          69,
          81,
          77,
          86,
          77
         ]
        }
       ],
       "layout": {
        "title": "总人均在线项目周趋势",
        "xaxis": {
         "mirror": "all",
         "nticks": 20,
         "showgrid": true,
         "showline": true,
         "title": "周",
         "type": "category",
         "zeroline": true
        },
        "yaxis": {
         "mirror": "all",
         "nticks": 20,
         "showgrid": true,
         "showline": true,
         "title": "在线项目总数",
         "zeroline": true
        }
       }
      },
      "text/html": [
       "<div id=\"51b8ab90-e32e-4713-a1e9-b12909fdf2f5\" style=\"height: 525px; width: 100%;\" class=\"plotly-graph-div\"></div><script type=\"text/javascript\">require([\"plotly\"], function(Plotly) { window.PLOTLYENV=window.PLOTLYENV || {};window.PLOTLYENV.BASE_URL=\"https://plot.ly\";Plotly.newPlot(\"51b8ab90-e32e-4713-a1e9-b12909fdf2f5\", [{\"name\": \"\\u5728\\u7ebf\\u9879\\u76ee\\u603b\\u6570\", \"x\": [\"9-1\", \"9-2\", \"9-3\", \"9-4\", \"10-2\", \"10-3\", \"10-4\", \"10-5\", \"11-1\"], \"y\": [59, 58, 57, 60, 69, 81, 77, 86, 77], \"type\": \"scatter\", \"uid\": \"bacd6545-e638-11e8-8ddb-a41f72875c19\"}], {\"title\": \"\\u603b\\u4eba\\u5747\\u5728\\u7ebf\\u9879\\u76ee\\u5468\\u8d8b\\u52bf\", \"xaxis\": {\"mirror\": \"all\", \"nticks\": 20, \"showgrid\": true, \"showline\": true, \"title\": \"\\u5468\", \"type\": \"category\", \"zeroline\": true}, \"yaxis\": {\"mirror\": \"all\", \"nticks\": 20, \"showgrid\": true, \"showline\": true, \"title\": \"\\u5728\\u7ebf\\u9879\\u76ee\\u603b\\u6570\", \"zeroline\": true}}, {\"showLink\": true, \"linkText\": \"Export to plot.ly\"})});</script>"
      ],
      "text/vnd.plotly.v1+html": [
       "<div id=\"51b8ab90-e32e-4713-a1e9-b12909fdf2f5\" style=\"height: 525px; width: 100%;\" class=\"plotly-graph-div\"></div><script type=\"text/javascript\">require([\"plotly\"], function(Plotly) { window.PLOTLYENV=window.PLOTLYENV || {};window.PLOTLYENV.BASE_URL=\"https://plot.ly\";Plotly.newPlot(\"51b8ab90-e32e-4713-a1e9-b12909fdf2f5\", [{\"name\": \"\\u5728\\u7ebf\\u9879\\u76ee\\u603b\\u6570\", \"x\": [\"9-1\", \"9-2\", \"9-3\", \"9-4\", \"10-2\", \"10-3\", \"10-4\", \"10-5\", \"11-1\"], \"y\": [59, 58, 57, 60, 69, 81, 77, 86, 77], \"type\": \"scatter\", \"uid\": \"bacd6545-e638-11e8-8ddb-a41f72875c19\"}], {\"title\": \"\\u603b\\u4eba\\u5747\\u5728\\u7ebf\\u9879\\u76ee\\u5468\\u8d8b\\u52bf\", \"xaxis\": {\"mirror\": \"all\", \"nticks\": 20, \"showgrid\": true, \"showline\": true, \"title\": \"\\u5468\", \"type\": \"category\", \"zeroline\": true}, \"yaxis\": {\"mirror\": \"all\", \"nticks\": 20, \"showgrid\": true, \"showline\": true, \"title\": \"\\u5728\\u7ebf\\u9879\\u76ee\\u603b\\u6570\", \"zeroline\": true}}, {\"showLink\": true, \"linkText\": \"Export to plot.ly\"})});</script>"
      ]
     },
     "metadata": {},
     "output_type": "display_data"
    },
    {
     "data": {
      "application/vnd.plotly.v1+json": {
       "data": [
        {
         "line": {
          "dash": "solid"
         },
         "name": "在线项目总数(个性化组)",
         "type": "scatter",
         "uid": "bacd6546-e638-11e8-8ddb-a41f72875c19",
         "x": [
          "9-1",
          "9-2",
          "9-3",
          "9-4",
          "10-2",
          "10-3",
          "10-4",
          "10-5",
          "11-1"
         ],
         "y": [
          2.3333333333333335,
          2.3333333333333335,
          3.3333333333333335,
          3.3333333333333335,
          4.8,
          5.6,
          5.4,
          4.8,
          2.2
         ]
        },
        {
         "line": {
          "dash": "dot"
         },
         "name": "在线项目总数(义乌组)",
         "type": "scatter",
         "uid": "bacd6547-e638-11e8-8ddb-a41f72875c19",
         "x": [
          "9-1",
          "9-2",
          "9-3",
          "9-4",
          "10-2",
          "10-3",
          "10-4",
          "10-5",
          "11-1"
         ],
         "y": [
          null,
          null,
          null,
          null,
          null,
          null,
          null,
          1.5,
          1.5
         ]
        },
        {
         "line": {
          "dash": "dash"
         },
         "name": "在线项目总数(分析一组)",
         "type": "scatter",
         "uid": "bacd6548-e638-11e8-8ddb-a41f72875c19",
         "x": [
          "9-1",
          "9-2",
          "9-3",
          "9-4",
          "10-2",
          "10-3",
          "10-4",
          "10-5",
          "11-1"
         ],
         "y": [
          2.25,
          2.25,
          2,
          2.75,
          5.8,
          7.2,
          5.8,
          5.2,
          6.6
         ]
        },
        {
         "line": {
          "dash": "longdash"
         },
         "name": "在线项目总数(分析二组)",
         "type": "scatter",
         "uid": "bacd6549-e638-11e8-8ddb-a41f72875c19",
         "x": [
          "9-1",
          "9-2",
          "9-3",
          "9-4",
          "10-2",
          "10-3",
          "10-4",
          "10-5",
          "11-1"
         ],
         "y": [
          4.777777777777778,
          4.666666666666667,
          4.333333333333333,
          4.333333333333333,
          4,
          4.25,
          5.25,
          6.75,
          6
         ]
        }
       ],
       "layout": {
        "title": "各组总人均在线项目周趋势",
        "xaxis": {
         "mirror": "all",
         "nticks": 20,
         "showgrid": true,
         "showline": true,
         "title": "周",
         "type": "category",
         "zeroline": true
        },
        "yaxis": {
         "mirror": "all",
         "nticks": 20,
         "showgrid": true,
         "showline": true,
         "title": "在线项目总数",
         "zeroline": true
        }
       }
      },
      "text/html": [
       "<div id=\"e238ddf5-2af5-4bab-ba2e-75bb57d6af1c\" style=\"height: 525px; width: 100%;\" class=\"plotly-graph-div\"></div><script type=\"text/javascript\">require([\"plotly\"], function(Plotly) { window.PLOTLYENV=window.PLOTLYENV || {};window.PLOTLYENV.BASE_URL=\"https://plot.ly\";Plotly.newPlot(\"e238ddf5-2af5-4bab-ba2e-75bb57d6af1c\", [{\"line\": {\"dash\": \"solid\"}, \"name\": \"\\u5728\\u7ebf\\u9879\\u76ee\\u603b\\u6570(\\u4e2a\\u6027\\u5316\\u7ec4)\", \"x\": [\"9-1\", \"9-2\", \"9-3\", \"9-4\", \"10-2\", \"10-3\", \"10-4\", \"10-5\", \"11-1\"], \"y\": [2.3333333333333335, 2.3333333333333335, 3.3333333333333335, 3.3333333333333335, 4.8, 5.6, 5.4, 4.8, 2.2], \"type\": \"scatter\", \"uid\": \"bacd6546-e638-11e8-8ddb-a41f72875c19\"}, {\"line\": {\"dash\": \"dot\"}, \"name\": \"\\u5728\\u7ebf\\u9879\\u76ee\\u603b\\u6570(\\u4e49\\u4e4c\\u7ec4)\", \"x\": [\"9-1\", \"9-2\", \"9-3\", \"9-4\", \"10-2\", \"10-3\", \"10-4\", \"10-5\", \"11-1\"], \"y\": [null, null, null, null, null, null, null, 1.5, 1.5], \"type\": \"scatter\", \"uid\": \"bacd6547-e638-11e8-8ddb-a41f72875c19\"}, {\"line\": {\"dash\": \"dash\"}, \"name\": \"\\u5728\\u7ebf\\u9879\\u76ee\\u603b\\u6570(\\u5206\\u6790\\u4e00\\u7ec4)\", \"x\": [\"9-1\", \"9-2\", \"9-3\", \"9-4\", \"10-2\", \"10-3\", \"10-4\", \"10-5\", \"11-1\"], \"y\": [2.25, 2.25, 2.0, 2.75, 5.8, 7.2, 5.8, 5.2, 6.6], \"type\": \"scatter\", \"uid\": \"bacd6548-e638-11e8-8ddb-a41f72875c19\"}, {\"line\": {\"dash\": \"longdash\"}, \"name\": \"\\u5728\\u7ebf\\u9879\\u76ee\\u603b\\u6570(\\u5206\\u6790\\u4e8c\\u7ec4)\", \"x\": [\"9-1\", \"9-2\", \"9-3\", \"9-4\", \"10-2\", \"10-3\", \"10-4\", \"10-5\", \"11-1\"], \"y\": [4.777777777777778, 4.666666666666667, 4.333333333333333, 4.333333333333333, 4.0, 4.25, 5.25, 6.75, 6.0], \"type\": \"scatter\", \"uid\": \"bacd6549-e638-11e8-8ddb-a41f72875c19\"}], {\"title\": \"\\u5404\\u7ec4\\u603b\\u4eba\\u5747\\u5728\\u7ebf\\u9879\\u76ee\\u5468\\u8d8b\\u52bf\", \"xaxis\": {\"mirror\": \"all\", \"nticks\": 20, \"showgrid\": true, \"showline\": true, \"title\": \"\\u5468\", \"type\": \"category\", \"zeroline\": true}, \"yaxis\": {\"mirror\": \"all\", \"nticks\": 20, \"showgrid\": true, \"showline\": true, \"title\": \"\\u5728\\u7ebf\\u9879\\u76ee\\u603b\\u6570\", \"zeroline\": true}}, {\"showLink\": true, \"linkText\": \"Export to plot.ly\"})});</script>"
      ],
      "text/vnd.plotly.v1+html": [
       "<div id=\"e238ddf5-2af5-4bab-ba2e-75bb57d6af1c\" style=\"height: 525px; width: 100%;\" class=\"plotly-graph-div\"></div><script type=\"text/javascript\">require([\"plotly\"], function(Plotly) { window.PLOTLYENV=window.PLOTLYENV || {};window.PLOTLYENV.BASE_URL=\"https://plot.ly\";Plotly.newPlot(\"e238ddf5-2af5-4bab-ba2e-75bb57d6af1c\", [{\"line\": {\"dash\": \"solid\"}, \"name\": \"\\u5728\\u7ebf\\u9879\\u76ee\\u603b\\u6570(\\u4e2a\\u6027\\u5316\\u7ec4)\", \"x\": [\"9-1\", \"9-2\", \"9-3\", \"9-4\", \"10-2\", \"10-3\", \"10-4\", \"10-5\", \"11-1\"], \"y\": [2.3333333333333335, 2.3333333333333335, 3.3333333333333335, 3.3333333333333335, 4.8, 5.6, 5.4, 4.8, 2.2], \"type\": \"scatter\", \"uid\": \"bacd6546-e638-11e8-8ddb-a41f72875c19\"}, {\"line\": {\"dash\": \"dot\"}, \"name\": \"\\u5728\\u7ebf\\u9879\\u76ee\\u603b\\u6570(\\u4e49\\u4e4c\\u7ec4)\", \"x\": [\"9-1\", \"9-2\", \"9-3\", \"9-4\", \"10-2\", \"10-3\", \"10-4\", \"10-5\", \"11-1\"], \"y\": [null, null, null, null, null, null, null, 1.5, 1.5], \"type\": \"scatter\", \"uid\": \"bacd6547-e638-11e8-8ddb-a41f72875c19\"}, {\"line\": {\"dash\": \"dash\"}, \"name\": \"\\u5728\\u7ebf\\u9879\\u76ee\\u603b\\u6570(\\u5206\\u6790\\u4e00\\u7ec4)\", \"x\": [\"9-1\", \"9-2\", \"9-3\", \"9-4\", \"10-2\", \"10-3\", \"10-4\", \"10-5\", \"11-1\"], \"y\": [2.25, 2.25, 2.0, 2.75, 5.8, 7.2, 5.8, 5.2, 6.6], \"type\": \"scatter\", \"uid\": \"bacd6548-e638-11e8-8ddb-a41f72875c19\"}, {\"line\": {\"dash\": \"longdash\"}, \"name\": \"\\u5728\\u7ebf\\u9879\\u76ee\\u603b\\u6570(\\u5206\\u6790\\u4e8c\\u7ec4)\", \"x\": [\"9-1\", \"9-2\", \"9-3\", \"9-4\", \"10-2\", \"10-3\", \"10-4\", \"10-5\", \"11-1\"], \"y\": [4.777777777777778, 4.666666666666667, 4.333333333333333, 4.333333333333333, 4.0, 4.25, 5.25, 6.75, 6.0], \"type\": \"scatter\", \"uid\": \"bacd6549-e638-11e8-8ddb-a41f72875c19\"}], {\"title\": \"\\u5404\\u7ec4\\u603b\\u4eba\\u5747\\u5728\\u7ebf\\u9879\\u76ee\\u5468\\u8d8b\\u52bf\", \"xaxis\": {\"mirror\": \"all\", \"nticks\": 20, \"showgrid\": true, \"showline\": true, \"title\": \"\\u5468\", \"type\": \"category\", \"zeroline\": true}, \"yaxis\": {\"mirror\": \"all\", \"nticks\": 20, \"showgrid\": true, \"showline\": true, \"title\": \"\\u5728\\u7ebf\\u9879\\u76ee\\u603b\\u6570\", \"zeroline\": true}}, {\"showLink\": true, \"linkText\": \"Export to plot.ly\"})});</script>"
      ]
     },
     "metadata": {},
     "output_type": "display_data"
    }
   ],
   "source": [
    "ss = myModule.format(all_df1 ,\"日期（格式“月-周次”）\" ,['在线项目总数' ])\n",
    "#ss.add_group('组别')\n",
    "#ss.get_average_by('人员')\n",
    "myModule.myPlot(myModule.sort_by_index(ss.groupby('sum'))).plot('line',fig_title='总人均在线项目周趋势')\n",
    "ss = myModule.format(all_df1 ,\"日期（格式“月-周次”）\" ,['在线项目总数'])\n",
    "ss.add_group('组别')\n",
    "ss.get_average_by('人员')\n",
    "myModule.myPlot(myModule.sort_by_index(ss.groupby('sum'))).plot('line',fig_title='各组总人均在线项目周趋势')"
   ]
  },
  {
   "cell_type": "markdown",
   "metadata": {},
   "source": [
    "## 未下机商业项目数"
   ]
  },
  {
   "cell_type": "markdown",
   "metadata": {},
   "source": [
    "* 总未下机商业项目数"
   ]
  },
  {
   "cell_type": "code",
   "execution_count": 163,
   "metadata": {
    "collapsed": false
   },
   "outputs": [
    {
     "data": {
      "application/vnd.plotly.v1+json": {
       "data": [
        {
         "name": "未下机项目数",
         "type": "scatter",
         "uid": "bacd654a-e638-11e8-8ddb-a41f72875c19",
         "x": [
          "9-1",
          "9-2",
          "9-3",
          "9-4",
          "10-2",
          "10-3",
          "10-4",
          "10-5",
          "11-1"
         ],
         "y": [
          127,
          115,
          121,
          96,
          81,
          81,
          86,
          134,
          164
         ]
        }
       ],
       "layout": {
        "title": "总未下机项目周趋势",
        "xaxis": {
         "mirror": "all",
         "nticks": 20,
         "showgrid": true,
         "showline": true,
         "title": "周",
         "type": "category",
         "zeroline": true
        },
        "yaxis": {
         "mirror": "all",
         "nticks": 20,
         "showgrid": true,
         "showline": true,
         "title": "未下机项目数",
         "zeroline": true
        }
       }
      },
      "text/html": [
       "<div id=\"55fa8be3-9a17-47ea-bdff-0556efa2a423\" style=\"height: 525px; width: 100%;\" class=\"plotly-graph-div\"></div><script type=\"text/javascript\">require([\"plotly\"], function(Plotly) { window.PLOTLYENV=window.PLOTLYENV || {};window.PLOTLYENV.BASE_URL=\"https://plot.ly\";Plotly.newPlot(\"55fa8be3-9a17-47ea-bdff-0556efa2a423\", [{\"name\": \"\\u672a\\u4e0b\\u673a\\u9879\\u76ee\\u6570\", \"x\": [\"9-1\", \"9-2\", \"9-3\", \"9-4\", \"10-2\", \"10-3\", \"10-4\", \"10-5\", \"11-1\"], \"y\": [127, 115, 121, 96, 81, 81, 86, 134, 164], \"type\": \"scatter\", \"uid\": \"bacd654a-e638-11e8-8ddb-a41f72875c19\"}], {\"title\": \"\\u603b\\u672a\\u4e0b\\u673a\\u9879\\u76ee\\u5468\\u8d8b\\u52bf\", \"xaxis\": {\"mirror\": \"all\", \"nticks\": 20, \"showgrid\": true, \"showline\": true, \"title\": \"\\u5468\", \"type\": \"category\", \"zeroline\": true}, \"yaxis\": {\"mirror\": \"all\", \"nticks\": 20, \"showgrid\": true, \"showline\": true, \"title\": \"\\u672a\\u4e0b\\u673a\\u9879\\u76ee\\u6570\", \"zeroline\": true}}, {\"showLink\": true, \"linkText\": \"Export to plot.ly\"})});</script>"
      ],
      "text/vnd.plotly.v1+html": [
       "<div id=\"55fa8be3-9a17-47ea-bdff-0556efa2a423\" style=\"height: 525px; width: 100%;\" class=\"plotly-graph-div\"></div><script type=\"text/javascript\">require([\"plotly\"], function(Plotly) { window.PLOTLYENV=window.PLOTLYENV || {};window.PLOTLYENV.BASE_URL=\"https://plot.ly\";Plotly.newPlot(\"55fa8be3-9a17-47ea-bdff-0556efa2a423\", [{\"name\": \"\\u672a\\u4e0b\\u673a\\u9879\\u76ee\\u6570\", \"x\": [\"9-1\", \"9-2\", \"9-3\", \"9-4\", \"10-2\", \"10-3\", \"10-4\", \"10-5\", \"11-1\"], \"y\": [127, 115, 121, 96, 81, 81, 86, 134, 164], \"type\": \"scatter\", \"uid\": \"bacd654a-e638-11e8-8ddb-a41f72875c19\"}], {\"title\": \"\\u603b\\u672a\\u4e0b\\u673a\\u9879\\u76ee\\u5468\\u8d8b\\u52bf\", \"xaxis\": {\"mirror\": \"all\", \"nticks\": 20, \"showgrid\": true, \"showline\": true, \"title\": \"\\u5468\", \"type\": \"category\", \"zeroline\": true}, \"yaxis\": {\"mirror\": \"all\", \"nticks\": 20, \"showgrid\": true, \"showline\": true, \"title\": \"\\u672a\\u4e0b\\u673a\\u9879\\u76ee\\u6570\", \"zeroline\": true}}, {\"showLink\": true, \"linkText\": \"Export to plot.ly\"})});</script>"
      ]
     },
     "metadata": {},
     "output_type": "display_data"
    }
   ],
   "source": [
    "ss = myModule.format(all_df1 ,\"日期（格式“月-周次”）\" ,['未下机项目数' ])\n",
    "#ss.add_group('组别')\n",
    "#ss.get_average_by('人员')\n",
    "myModule.myPlot(myModule.sort_by_index(ss.groupby('sum'))).plot('line',fig_title='总未下机项目周趋势')"
   ]
  },
  {
   "cell_type": "markdown",
   "metadata": {},
   "source": [
    "* 各组未下机商业项目数"
   ]
  },
  {
   "cell_type": "code",
   "execution_count": 164,
   "metadata": {
    "collapsed": false
   },
   "outputs": [
    {
     "data": {
      "application/vnd.plotly.v1+json": {
       "data": [
        {
         "line": {
          "dash": "solid"
         },
         "name": "未下机项目数(个性化组)",
         "type": "scatter",
         "uid": "bacd654b-e638-11e8-8ddb-a41f72875c19",
         "x": [
          "9-1",
          "9-2",
          "9-3",
          "9-4",
          "10-2",
          "10-3",
          "10-4",
          "10-5",
          "11-1"
         ],
         "y": [
          0,
          0,
          0,
          0,
          12,
          5,
          6,
          3,
          3
         ]
        },
        {
         "line": {
          "dash": "dot"
         },
         "name": "未下机项目数(义乌组)",
         "type": "scatter",
         "uid": "bacd654c-e638-11e8-8ddb-a41f72875c19",
         "x": [
          "9-1",
          "9-2",
          "9-3",
          "9-4",
          "10-2",
          "10-3",
          "10-4",
          "10-5",
          "11-1"
         ],
         "y": [
          null,
          null,
          null,
          null,
          null,
          null,
          null,
          36,
          61
         ]
        },
        {
         "line": {
          "dash": "dash"
         },
         "name": "未下机项目数(分析一组)",
         "type": "scatter",
         "uid": "bacd654d-e638-11e8-8ddb-a41f72875c19",
         "x": [
          "9-1",
          "9-2",
          "9-3",
          "9-4",
          "10-2",
          "10-3",
          "10-4",
          "10-5",
          "11-1"
         ],
         "y": [
          28,
          28,
          33,
          17,
          37,
          47,
          40,
          50,
          46
         ]
        },
        {
         "line": {
          "dash": "longdash"
         },
         "name": "未下机项目数(分析二组)",
         "type": "scatter",
         "uid": "bacd654e-e638-11e8-8ddb-a41f72875c19",
         "x": [
          "9-1",
          "9-2",
          "9-3",
          "9-4",
          "10-2",
          "10-3",
          "10-4",
          "10-5",
          "11-1"
         ],
         "y": [
          99,
          87,
          88,
          79,
          32,
          29,
          40,
          45,
          54
         ]
        }
       ],
       "layout": {
        "title": "各组总未下机项目周趋势",
        "xaxis": {
         "mirror": "all",
         "nticks": 20,
         "showgrid": true,
         "showline": true,
         "title": "周",
         "type": "category",
         "zeroline": true
        },
        "yaxis": {
         "mirror": "all",
         "nticks": 20,
         "showgrid": true,
         "showline": true,
         "title": "未下机项目数",
         "zeroline": true
        }
       }
      },
      "text/html": [
       "<div id=\"6761ffcf-d629-4d8f-817a-3057693c3946\" style=\"height: 525px; width: 100%;\" class=\"plotly-graph-div\"></div><script type=\"text/javascript\">require([\"plotly\"], function(Plotly) { window.PLOTLYENV=window.PLOTLYENV || {};window.PLOTLYENV.BASE_URL=\"https://plot.ly\";Plotly.newPlot(\"6761ffcf-d629-4d8f-817a-3057693c3946\", [{\"line\": {\"dash\": \"solid\"}, \"name\": \"\\u672a\\u4e0b\\u673a\\u9879\\u76ee\\u6570(\\u4e2a\\u6027\\u5316\\u7ec4)\", \"x\": [\"9-1\", \"9-2\", \"9-3\", \"9-4\", \"10-2\", \"10-3\", \"10-4\", \"10-5\", \"11-1\"], \"y\": [0.0, 0.0, 0.0, 0.0, 12.0, 5.0, 6.0, 3.0, 3.0], \"type\": \"scatter\", \"uid\": \"bacd654b-e638-11e8-8ddb-a41f72875c19\"}, {\"line\": {\"dash\": \"dot\"}, \"name\": \"\\u672a\\u4e0b\\u673a\\u9879\\u76ee\\u6570(\\u4e49\\u4e4c\\u7ec4)\", \"x\": [\"9-1\", \"9-2\", \"9-3\", \"9-4\", \"10-2\", \"10-3\", \"10-4\", \"10-5\", \"11-1\"], \"y\": [null, null, null, null, null, null, null, 36.0, 61.0], \"type\": \"scatter\", \"uid\": \"bacd654c-e638-11e8-8ddb-a41f72875c19\"}, {\"line\": {\"dash\": \"dash\"}, \"name\": \"\\u672a\\u4e0b\\u673a\\u9879\\u76ee\\u6570(\\u5206\\u6790\\u4e00\\u7ec4)\", \"x\": [\"9-1\", \"9-2\", \"9-3\", \"9-4\", \"10-2\", \"10-3\", \"10-4\", \"10-5\", \"11-1\"], \"y\": [28.0, 28.0, 33.0, 17.0, 37.0, 47.0, 40.0, 50.0, 46.0], \"type\": \"scatter\", \"uid\": \"bacd654d-e638-11e8-8ddb-a41f72875c19\"}, {\"line\": {\"dash\": \"longdash\"}, \"name\": \"\\u672a\\u4e0b\\u673a\\u9879\\u76ee\\u6570(\\u5206\\u6790\\u4e8c\\u7ec4)\", \"x\": [\"9-1\", \"9-2\", \"9-3\", \"9-4\", \"10-2\", \"10-3\", \"10-4\", \"10-5\", \"11-1\"], \"y\": [99.0, 87.0, 88.0, 79.0, 32.0, 29.0, 40.0, 45.0, 54.0], \"type\": \"scatter\", \"uid\": \"bacd654e-e638-11e8-8ddb-a41f72875c19\"}], {\"title\": \"\\u5404\\u7ec4\\u603b\\u672a\\u4e0b\\u673a\\u9879\\u76ee\\u5468\\u8d8b\\u52bf\", \"xaxis\": {\"mirror\": \"all\", \"nticks\": 20, \"showgrid\": true, \"showline\": true, \"title\": \"\\u5468\", \"type\": \"category\", \"zeroline\": true}, \"yaxis\": {\"mirror\": \"all\", \"nticks\": 20, \"showgrid\": true, \"showline\": true, \"title\": \"\\u672a\\u4e0b\\u673a\\u9879\\u76ee\\u6570\", \"zeroline\": true}}, {\"showLink\": true, \"linkText\": \"Export to plot.ly\"})});</script>"
      ],
      "text/vnd.plotly.v1+html": [
       "<div id=\"6761ffcf-d629-4d8f-817a-3057693c3946\" style=\"height: 525px; width: 100%;\" class=\"plotly-graph-div\"></div><script type=\"text/javascript\">require([\"plotly\"], function(Plotly) { window.PLOTLYENV=window.PLOTLYENV || {};window.PLOTLYENV.BASE_URL=\"https://plot.ly\";Plotly.newPlot(\"6761ffcf-d629-4d8f-817a-3057693c3946\", [{\"line\": {\"dash\": \"solid\"}, \"name\": \"\\u672a\\u4e0b\\u673a\\u9879\\u76ee\\u6570(\\u4e2a\\u6027\\u5316\\u7ec4)\", \"x\": [\"9-1\", \"9-2\", \"9-3\", \"9-4\", \"10-2\", \"10-3\", \"10-4\", \"10-5\", \"11-1\"], \"y\": [0.0, 0.0, 0.0, 0.0, 12.0, 5.0, 6.0, 3.0, 3.0], \"type\": \"scatter\", \"uid\": \"bacd654b-e638-11e8-8ddb-a41f72875c19\"}, {\"line\": {\"dash\": \"dot\"}, \"name\": \"\\u672a\\u4e0b\\u673a\\u9879\\u76ee\\u6570(\\u4e49\\u4e4c\\u7ec4)\", \"x\": [\"9-1\", \"9-2\", \"9-3\", \"9-4\", \"10-2\", \"10-3\", \"10-4\", \"10-5\", \"11-1\"], \"y\": [null, null, null, null, null, null, null, 36.0, 61.0], \"type\": \"scatter\", \"uid\": \"bacd654c-e638-11e8-8ddb-a41f72875c19\"}, {\"line\": {\"dash\": \"dash\"}, \"name\": \"\\u672a\\u4e0b\\u673a\\u9879\\u76ee\\u6570(\\u5206\\u6790\\u4e00\\u7ec4)\", \"x\": [\"9-1\", \"9-2\", \"9-3\", \"9-4\", \"10-2\", \"10-3\", \"10-4\", \"10-5\", \"11-1\"], \"y\": [28.0, 28.0, 33.0, 17.0, 37.0, 47.0, 40.0, 50.0, 46.0], \"type\": \"scatter\", \"uid\": \"bacd654d-e638-11e8-8ddb-a41f72875c19\"}, {\"line\": {\"dash\": \"longdash\"}, \"name\": \"\\u672a\\u4e0b\\u673a\\u9879\\u76ee\\u6570(\\u5206\\u6790\\u4e8c\\u7ec4)\", \"x\": [\"9-1\", \"9-2\", \"9-3\", \"9-4\", \"10-2\", \"10-3\", \"10-4\", \"10-5\", \"11-1\"], \"y\": [99.0, 87.0, 88.0, 79.0, 32.0, 29.0, 40.0, 45.0, 54.0], \"type\": \"scatter\", \"uid\": \"bacd654e-e638-11e8-8ddb-a41f72875c19\"}], {\"title\": \"\\u5404\\u7ec4\\u603b\\u672a\\u4e0b\\u673a\\u9879\\u76ee\\u5468\\u8d8b\\u52bf\", \"xaxis\": {\"mirror\": \"all\", \"nticks\": 20, \"showgrid\": true, \"showline\": true, \"title\": \"\\u5468\", \"type\": \"category\", \"zeroline\": true}, \"yaxis\": {\"mirror\": \"all\", \"nticks\": 20, \"showgrid\": true, \"showline\": true, \"title\": \"\\u672a\\u4e0b\\u673a\\u9879\\u76ee\\u6570\", \"zeroline\": true}}, {\"showLink\": true, \"linkText\": \"Export to plot.ly\"})});</script>"
      ]
     },
     "metadata": {},
     "output_type": "display_data"
    }
   ],
   "source": [
    "ss = myModule.format(all_df1 ,\"日期（格式“月-周次”）\" ,['未下机项目数' ])\n",
    "ss.add_group('组别')\n",
    "#ss.get_average_by('人员')\n",
    "myModule.myPlot(myModule.sort_by_index(ss.groupby('sum'))).plot('line',fig_title='各组总未下机项目周趋势')"
   ]
  },
  {
   "cell_type": "markdown",
   "metadata": {},
   "source": [
    "# 项目质量情况"
   ]
  },
  {
   "cell_type": "markdown",
   "metadata": {},
   "source": [
    "## 项目周期情况"
   ]
  },
  {
   "cell_type": "markdown",
   "metadata": {},
   "source": [
    "### 延期项目数"
   ]
  },
  {
   "cell_type": "code",
   "execution_count": 165,
   "metadata": {
    "collapsed": false
   },
   "outputs": [
    {
     "data": {
      "application/vnd.plotly.v1+json": {
       "data": [
        {
         "name": "延期个性化项目数",
         "type": "scatter",
         "uid": "bacd654f-e638-11e8-8ddb-a41f72875c19",
         "x": [
          "9-1",
          "9-2",
          "9-3",
          "9-4",
          "10-2",
          "10-3",
          "10-4",
          "10-5",
          "11-1"
         ],
         "y": [
          3,
          0,
          0,
          1,
          0,
          0,
          0,
          0,
          1
         ]
        },
        {
         "name": "延期商业项目数",
         "type": "scatter",
         "uid": "bacd6550-e638-11e8-8ddb-a41f72875c19",
         "x": [
          "9-1",
          "9-2",
          "9-3",
          "9-4",
          "10-2",
          "10-3",
          "10-4",
          "10-5",
          "11-1"
         ],
         "y": [
          0,
          0,
          1,
          1,
          2,
          0,
          0,
          1,
          2
         ]
        }
       ],
       "layout": {
        "title": "总延期项目周趋势",
        "xaxis": {
         "mirror": "all",
         "nticks": 20,
         "showgrid": true,
         "showline": true,
         "title": "周",
         "type": "category",
         "zeroline": true
        },
        "yaxis": {
         "mirror": "all",
         "nticks": 20,
         "showgrid": true,
         "showline": true,
         "title": "延期个性化项目数&延期商业项目数",
         "zeroline": true
        }
       }
      },
      "text/html": [
       "<div id=\"00db1fcb-3169-4e0b-9870-bfa65b57a5a0\" style=\"height: 525px; width: 100%;\" class=\"plotly-graph-div\"></div><script type=\"text/javascript\">require([\"plotly\"], function(Plotly) { window.PLOTLYENV=window.PLOTLYENV || {};window.PLOTLYENV.BASE_URL=\"https://plot.ly\";Plotly.newPlot(\"00db1fcb-3169-4e0b-9870-bfa65b57a5a0\", [{\"name\": \"\\u5ef6\\u671f\\u4e2a\\u6027\\u5316\\u9879\\u76ee\\u6570\", \"x\": [\"9-1\", \"9-2\", \"9-3\", \"9-4\", \"10-2\", \"10-3\", \"10-4\", \"10-5\", \"11-1\"], \"y\": [3, 0, 0, 1, 0, 0, 0, 0, 1], \"type\": \"scatter\", \"uid\": \"bacd654f-e638-11e8-8ddb-a41f72875c19\"}, {\"name\": \"\\u5ef6\\u671f\\u5546\\u4e1a\\u9879\\u76ee\\u6570\", \"x\": [\"9-1\", \"9-2\", \"9-3\", \"9-4\", \"10-2\", \"10-3\", \"10-4\", \"10-5\", \"11-1\"], \"y\": [0, 0, 1, 1, 2, 0, 0, 1, 2], \"type\": \"scatter\", \"uid\": \"bacd6550-e638-11e8-8ddb-a41f72875c19\"}], {\"title\": \"\\u603b\\u5ef6\\u671f\\u9879\\u76ee\\u5468\\u8d8b\\u52bf\", \"xaxis\": {\"mirror\": \"all\", \"nticks\": 20, \"showgrid\": true, \"showline\": true, \"title\": \"\\u5468\", \"type\": \"category\", \"zeroline\": true}, \"yaxis\": {\"mirror\": \"all\", \"nticks\": 20, \"showgrid\": true, \"showline\": true, \"title\": \"\\u5ef6\\u671f\\u4e2a\\u6027\\u5316\\u9879\\u76ee\\u6570&\\u5ef6\\u671f\\u5546\\u4e1a\\u9879\\u76ee\\u6570\", \"zeroline\": true}}, {\"showLink\": true, \"linkText\": \"Export to plot.ly\"})});</script>"
      ],
      "text/vnd.plotly.v1+html": [
       "<div id=\"00db1fcb-3169-4e0b-9870-bfa65b57a5a0\" style=\"height: 525px; width: 100%;\" class=\"plotly-graph-div\"></div><script type=\"text/javascript\">require([\"plotly\"], function(Plotly) { window.PLOTLYENV=window.PLOTLYENV || {};window.PLOTLYENV.BASE_URL=\"https://plot.ly\";Plotly.newPlot(\"00db1fcb-3169-4e0b-9870-bfa65b57a5a0\", [{\"name\": \"\\u5ef6\\u671f\\u4e2a\\u6027\\u5316\\u9879\\u76ee\\u6570\", \"x\": [\"9-1\", \"9-2\", \"9-3\", \"9-4\", \"10-2\", \"10-3\", \"10-4\", \"10-5\", \"11-1\"], \"y\": [3, 0, 0, 1, 0, 0, 0, 0, 1], \"type\": \"scatter\", \"uid\": \"bacd654f-e638-11e8-8ddb-a41f72875c19\"}, {\"name\": \"\\u5ef6\\u671f\\u5546\\u4e1a\\u9879\\u76ee\\u6570\", \"x\": [\"9-1\", \"9-2\", \"9-3\", \"9-4\", \"10-2\", \"10-3\", \"10-4\", \"10-5\", \"11-1\"], \"y\": [0, 0, 1, 1, 2, 0, 0, 1, 2], \"type\": \"scatter\", \"uid\": \"bacd6550-e638-11e8-8ddb-a41f72875c19\"}], {\"title\": \"\\u603b\\u5ef6\\u671f\\u9879\\u76ee\\u5468\\u8d8b\\u52bf\", \"xaxis\": {\"mirror\": \"all\", \"nticks\": 20, \"showgrid\": true, \"showline\": true, \"title\": \"\\u5468\", \"type\": \"category\", \"zeroline\": true}, \"yaxis\": {\"mirror\": \"all\", \"nticks\": 20, \"showgrid\": true, \"showline\": true, \"title\": \"\\u5ef6\\u671f\\u4e2a\\u6027\\u5316\\u9879\\u76ee\\u6570&\\u5ef6\\u671f\\u5546\\u4e1a\\u9879\\u76ee\\u6570\", \"zeroline\": true}}, {\"showLink\": true, \"linkText\": \"Export to plot.ly\"})});</script>"
      ]
     },
     "metadata": {},
     "output_type": "display_data"
    },
    {
     "data": {
      "application/vnd.plotly.v1+json": {
       "data": [
        {
         "name": "延期个性化项目数",
         "type": "scatter",
         "uid": "bacd6551-e638-11e8-8ddb-a41f72875c19",
         "x": [
          9,
          10,
          11
         ],
         "y": [
          4,
          0,
          1
         ]
        },
        {
         "name": "延期商业项目数",
         "type": "scatter",
         "uid": "bacd6552-e638-11e8-8ddb-a41f72875c19",
         "x": [
          9,
          10,
          11
         ],
         "y": [
          2,
          3,
          2
         ]
        }
       ],
       "layout": {
        "title": "总延期项目月趋势",
        "xaxis": {
         "mirror": "all",
         "nticks": 20,
         "showgrid": true,
         "showline": true,
         "title": "月",
         "type": "category",
         "zeroline": true
        },
        "yaxis": {
         "mirror": "all",
         "nticks": 20,
         "showgrid": true,
         "showline": true,
         "title": "延期个性化项目数&延期商业项目数",
         "zeroline": true
        }
       }
      },
      "text/html": [
       "<div id=\"f1e4cfdc-fe13-4c69-87bb-4f13b1e6c655\" style=\"height: 525px; width: 100%;\" class=\"plotly-graph-div\"></div><script type=\"text/javascript\">require([\"plotly\"], function(Plotly) { window.PLOTLYENV=window.PLOTLYENV || {};window.PLOTLYENV.BASE_URL=\"https://plot.ly\";Plotly.newPlot(\"f1e4cfdc-fe13-4c69-87bb-4f13b1e6c655\", [{\"name\": \"\\u5ef6\\u671f\\u4e2a\\u6027\\u5316\\u9879\\u76ee\\u6570\", \"x\": [9, 10, 11], \"y\": [4, 0, 1], \"type\": \"scatter\", \"uid\": \"bacd6551-e638-11e8-8ddb-a41f72875c19\"}, {\"name\": \"\\u5ef6\\u671f\\u5546\\u4e1a\\u9879\\u76ee\\u6570\", \"x\": [9, 10, 11], \"y\": [2, 3, 2], \"type\": \"scatter\", \"uid\": \"bacd6552-e638-11e8-8ddb-a41f72875c19\"}], {\"title\": \"\\u603b\\u5ef6\\u671f\\u9879\\u76ee\\u6708\\u8d8b\\u52bf\", \"xaxis\": {\"mirror\": \"all\", \"nticks\": 20, \"showgrid\": true, \"showline\": true, \"title\": \"\\u6708\", \"type\": \"category\", \"zeroline\": true}, \"yaxis\": {\"mirror\": \"all\", \"nticks\": 20, \"showgrid\": true, \"showline\": true, \"title\": \"\\u5ef6\\u671f\\u4e2a\\u6027\\u5316\\u9879\\u76ee\\u6570&\\u5ef6\\u671f\\u5546\\u4e1a\\u9879\\u76ee\\u6570\", \"zeroline\": true}}, {\"showLink\": true, \"linkText\": \"Export to plot.ly\"})});</script>"
      ],
      "text/vnd.plotly.v1+html": [
       "<div id=\"f1e4cfdc-fe13-4c69-87bb-4f13b1e6c655\" style=\"height: 525px; width: 100%;\" class=\"plotly-graph-div\"></div><script type=\"text/javascript\">require([\"plotly\"], function(Plotly) { window.PLOTLYENV=window.PLOTLYENV || {};window.PLOTLYENV.BASE_URL=\"https://plot.ly\";Plotly.newPlot(\"f1e4cfdc-fe13-4c69-87bb-4f13b1e6c655\", [{\"name\": \"\\u5ef6\\u671f\\u4e2a\\u6027\\u5316\\u9879\\u76ee\\u6570\", \"x\": [9, 10, 11], \"y\": [4, 0, 1], \"type\": \"scatter\", \"uid\": \"bacd6551-e638-11e8-8ddb-a41f72875c19\"}, {\"name\": \"\\u5ef6\\u671f\\u5546\\u4e1a\\u9879\\u76ee\\u6570\", \"x\": [9, 10, 11], \"y\": [2, 3, 2], \"type\": \"scatter\", \"uid\": \"bacd6552-e638-11e8-8ddb-a41f72875c19\"}], {\"title\": \"\\u603b\\u5ef6\\u671f\\u9879\\u76ee\\u6708\\u8d8b\\u52bf\", \"xaxis\": {\"mirror\": \"all\", \"nticks\": 20, \"showgrid\": true, \"showline\": true, \"title\": \"\\u6708\", \"type\": \"category\", \"zeroline\": true}, \"yaxis\": {\"mirror\": \"all\", \"nticks\": 20, \"showgrid\": true, \"showline\": true, \"title\": \"\\u5ef6\\u671f\\u4e2a\\u6027\\u5316\\u9879\\u76ee\\u6570&\\u5ef6\\u671f\\u5546\\u4e1a\\u9879\\u76ee\\u6570\", \"zeroline\": true}}, {\"showLink\": true, \"linkText\": \"Export to plot.ly\"})});</script>"
      ]
     },
     "metadata": {},
     "output_type": "display_data"
    }
   ],
   "source": [
    "ss = myModule.format(all_df2 ,\"日期（格式“月-周次”）\" ,['延期商业项目数','延期个性化项目数' ])\n",
    "#ss.add_group('组别')\n",
    "#ss.get_average_by('人员')\n",
    "myModule.myPlot(myModule.sort_by_index(ss.groupby('sum'))).plot('line',fig_title='总延期项目周趋势')\n",
    "ss = myModule.format(all_df2 ,\"month\" ,['延期商业项目数','延期个性化项目数' ])\n",
    "#ss.add_group('组别')\n",
    "#ss.get_average_by('人员')\n",
    "myModule.myPlot(ss.groupby('sum')).plot('line','月',fig_title='总延期项目月趋势')"
   ]
  },
  {
   "cell_type": "markdown",
   "metadata": {},
   "source": [
    "### 项目执行延期率"
   ]
  },
  {
   "cell_type": "code",
   "execution_count": 166,
   "metadata": {
    "collapsed": false
   },
   "outputs": [],
   "source": [
    "#data_dict = {'商业项目延期率':['延期商业项目数', '总商业项目数'], \n",
    "#             '个性化项目延期率':['延期个性化项目数', '总个性化数'],\n",
    "#             '总延期率':['总延期项目数', '总项目数']}\n",
    "#myModule.plot( all_dict, data_dict, '人员' ,  'line' , total=True ,time_list = time_list)\n",
    "#myModule.plot( all_dict, data_dict, '组别' ,  'line' ,time_list = time_list)"
   ]
  },
  {
   "cell_type": "markdown",
   "metadata": {},
   "source": [
    "## 项目过程执行情况"
   ]
  },
  {
   "cell_type": "markdown",
   "metadata": {},
   "source": [
    "### 反馈延期数"
   ]
  },
  {
   "cell_type": "code",
   "execution_count": 167,
   "metadata": {
    "collapsed": false
   },
   "outputs": [
    {
     "data": {
      "application/vnd.plotly.v1+json": {
       "data": [
        {
         "name": "24h内未完成数据反馈项目数",
         "type": "scatter",
         "uid": "bacd6553-e638-11e8-8ddb-a41f72875c19",
         "x": [
          "9-1",
          "9-2",
          "9-3",
          "9-4",
          "10-2",
          "10-3",
          "10-4",
          "10-5",
          "11-1"
         ],
         "y": [
          0,
          0,
          1,
          3,
          1,
          3,
          0,
          4,
          14
         ]
        }
       ],
       "layout": {
        "title": "数据反馈延期个数周趋势",
        "xaxis": {
         "mirror": "all",
         "nticks": 20,
         "showgrid": true,
         "showline": true,
         "title": "周",
         "type": "category",
         "zeroline": true
        },
        "yaxis": {
         "mirror": "all",
         "nticks": 20,
         "showgrid": true,
         "showline": true,
         "title": "24h内未完成数据反馈项目数",
         "zeroline": true
        }
       }
      },
      "text/html": [
       "<div id=\"7214efac-f33a-44a2-85a4-e6e34ced8f78\" style=\"height: 525px; width: 100%;\" class=\"plotly-graph-div\"></div><script type=\"text/javascript\">require([\"plotly\"], function(Plotly) { window.PLOTLYENV=window.PLOTLYENV || {};window.PLOTLYENV.BASE_URL=\"https://plot.ly\";Plotly.newPlot(\"7214efac-f33a-44a2-85a4-e6e34ced8f78\", [{\"name\": \"24h\\u5185\\u672a\\u5b8c\\u6210\\u6570\\u636e\\u53cd\\u9988\\u9879\\u76ee\\u6570\", \"x\": [\"9-1\", \"9-2\", \"9-3\", \"9-4\", \"10-2\", \"10-3\", \"10-4\", \"10-5\", \"11-1\"], \"y\": [0, 0, 1, 3, 1, 3, 0, 4, 14], \"type\": \"scatter\", \"uid\": \"bacd6553-e638-11e8-8ddb-a41f72875c19\"}], {\"title\": \"\\u6570\\u636e\\u53cd\\u9988\\u5ef6\\u671f\\u4e2a\\u6570\\u5468\\u8d8b\\u52bf\", \"xaxis\": {\"mirror\": \"all\", \"nticks\": 20, \"showgrid\": true, \"showline\": true, \"title\": \"\\u5468\", \"type\": \"category\", \"zeroline\": true}, \"yaxis\": {\"mirror\": \"all\", \"nticks\": 20, \"showgrid\": true, \"showline\": true, \"title\": \"24h\\u5185\\u672a\\u5b8c\\u6210\\u6570\\u636e\\u53cd\\u9988\\u9879\\u76ee\\u6570\", \"zeroline\": true}}, {\"showLink\": true, \"linkText\": \"Export to plot.ly\"})});</script>"
      ],
      "text/vnd.plotly.v1+html": [
       "<div id=\"7214efac-f33a-44a2-85a4-e6e34ced8f78\" style=\"height: 525px; width: 100%;\" class=\"plotly-graph-div\"></div><script type=\"text/javascript\">require([\"plotly\"], function(Plotly) { window.PLOTLYENV=window.PLOTLYENV || {};window.PLOTLYENV.BASE_URL=\"https://plot.ly\";Plotly.newPlot(\"7214efac-f33a-44a2-85a4-e6e34ced8f78\", [{\"name\": \"24h\\u5185\\u672a\\u5b8c\\u6210\\u6570\\u636e\\u53cd\\u9988\\u9879\\u76ee\\u6570\", \"x\": [\"9-1\", \"9-2\", \"9-3\", \"9-4\", \"10-2\", \"10-3\", \"10-4\", \"10-5\", \"11-1\"], \"y\": [0, 0, 1, 3, 1, 3, 0, 4, 14], \"type\": \"scatter\", \"uid\": \"bacd6553-e638-11e8-8ddb-a41f72875c19\"}], {\"title\": \"\\u6570\\u636e\\u53cd\\u9988\\u5ef6\\u671f\\u4e2a\\u6570\\u5468\\u8d8b\\u52bf\", \"xaxis\": {\"mirror\": \"all\", \"nticks\": 20, \"showgrid\": true, \"showline\": true, \"title\": \"\\u5468\", \"type\": \"category\", \"zeroline\": true}, \"yaxis\": {\"mirror\": \"all\", \"nticks\": 20, \"showgrid\": true, \"showline\": true, \"title\": \"24h\\u5185\\u672a\\u5b8c\\u6210\\u6570\\u636e\\u53cd\\u9988\\u9879\\u76ee\\u6570\", \"zeroline\": true}}, {\"showLink\": true, \"linkText\": \"Export to plot.ly\"})});</script>"
      ]
     },
     "metadata": {},
     "output_type": "display_data"
    },
    {
     "data": {
      "application/vnd.plotly.v1+json": {
       "data": [
        {
         "name": "24h内未完成数据反馈项目数",
         "type": "scatter",
         "uid": "bacd6554-e638-11e8-8ddb-a41f72875c19",
         "x": [
          9,
          10,
          11
         ],
         "y": [
          4,
          8,
          14
         ]
        }
       ],
       "layout": {
        "title": "数据反馈延期个数月趋势",
        "xaxis": {
         "mirror": "all",
         "nticks": 20,
         "showgrid": true,
         "showline": true,
         "title": "月",
         "type": "category",
         "zeroline": true
        },
        "yaxis": {
         "mirror": "all",
         "nticks": 20,
         "showgrid": true,
         "showline": true,
         "title": "24h内未完成数据反馈项目数",
         "zeroline": true
        }
       }
      },
      "text/html": [
       "<div id=\"f3aa5c88-ca61-48b5-83e1-5544edcca4c8\" style=\"height: 525px; width: 100%;\" class=\"plotly-graph-div\"></div><script type=\"text/javascript\">require([\"plotly\"], function(Plotly) { window.PLOTLYENV=window.PLOTLYENV || {};window.PLOTLYENV.BASE_URL=\"https://plot.ly\";Plotly.newPlot(\"f3aa5c88-ca61-48b5-83e1-5544edcca4c8\", [{\"name\": \"24h\\u5185\\u672a\\u5b8c\\u6210\\u6570\\u636e\\u53cd\\u9988\\u9879\\u76ee\\u6570\", \"x\": [9, 10, 11], \"y\": [4, 8, 14], \"type\": \"scatter\", \"uid\": \"bacd6554-e638-11e8-8ddb-a41f72875c19\"}], {\"title\": \"\\u6570\\u636e\\u53cd\\u9988\\u5ef6\\u671f\\u4e2a\\u6570\\u6708\\u8d8b\\u52bf\", \"xaxis\": {\"mirror\": \"all\", \"nticks\": 20, \"showgrid\": true, \"showline\": true, \"title\": \"\\u6708\", \"type\": \"category\", \"zeroline\": true}, \"yaxis\": {\"mirror\": \"all\", \"nticks\": 20, \"showgrid\": true, \"showline\": true, \"title\": \"24h\\u5185\\u672a\\u5b8c\\u6210\\u6570\\u636e\\u53cd\\u9988\\u9879\\u76ee\\u6570\", \"zeroline\": true}}, {\"showLink\": true, \"linkText\": \"Export to plot.ly\"})});</script>"
      ],
      "text/vnd.plotly.v1+html": [
       "<div id=\"f3aa5c88-ca61-48b5-83e1-5544edcca4c8\" style=\"height: 525px; width: 100%;\" class=\"plotly-graph-div\"></div><script type=\"text/javascript\">require([\"plotly\"], function(Plotly) { window.PLOTLYENV=window.PLOTLYENV || {};window.PLOTLYENV.BASE_URL=\"https://plot.ly\";Plotly.newPlot(\"f3aa5c88-ca61-48b5-83e1-5544edcca4c8\", [{\"name\": \"24h\\u5185\\u672a\\u5b8c\\u6210\\u6570\\u636e\\u53cd\\u9988\\u9879\\u76ee\\u6570\", \"x\": [9, 10, 11], \"y\": [4, 8, 14], \"type\": \"scatter\", \"uid\": \"bacd6554-e638-11e8-8ddb-a41f72875c19\"}], {\"title\": \"\\u6570\\u636e\\u53cd\\u9988\\u5ef6\\u671f\\u4e2a\\u6570\\u6708\\u8d8b\\u52bf\", \"xaxis\": {\"mirror\": \"all\", \"nticks\": 20, \"showgrid\": true, \"showline\": true, \"title\": \"\\u6708\", \"type\": \"category\", \"zeroline\": true}, \"yaxis\": {\"mirror\": \"all\", \"nticks\": 20, \"showgrid\": true, \"showline\": true, \"title\": \"24h\\u5185\\u672a\\u5b8c\\u6210\\u6570\\u636e\\u53cd\\u9988\\u9879\\u76ee\\u6570\", \"zeroline\": true}}, {\"showLink\": true, \"linkText\": \"Export to plot.ly\"})});</script>"
      ]
     },
     "metadata": {},
     "output_type": "display_data"
    }
   ],
   "source": [
    "ss = myModule.format(all_df2 ,\"日期（格式“月-周次”）\" ,['24h内未完成数据反馈项目数' ])\n",
    "#ss.add_group('组别')\n",
    "#ss.get_average_by('人员')\n",
    "myModule.myPlot(myModule.sort_by_index(ss.groupby('sum'))).plot('line',fig_title='数据反馈延期个数周趋势')\n",
    "ss = myModule.format(all_df2 ,\"month\" ,['24h内未完成数据反馈项目数' ])\n",
    "#ss.add_group('组别')\n",
    "#ss.get_average_by('人员')\n",
    "myModule.myPlot(ss.groupby('sum')).plot('line','月',fig_title='数据反馈延期个数月趋势')"
   ]
  },
  {
   "cell_type": "markdown",
   "metadata": {},
   "source": [
    "### 反馈延期率"
   ]
  },
  {
   "cell_type": "code",
   "execution_count": 168,
   "metadata": {
    "collapsed": false
   },
   "outputs": [
    {
     "data": {
      "application/vnd.plotly.v1+json": {
       "data": [
        {
         "name": "反馈延期率",
         "type": "scatter",
         "uid": "bacd6555-e638-11e8-8ddb-a41f72875c19",
         "x": [
          "9-1",
          "9-2",
          "9-3",
          "9-4",
          "10-2",
          "10-3",
          "10-4",
          "10-5",
          "11-1"
         ],
         "y": [
          0,
          0,
          0.03125,
          0.0967741935483871,
          0.03125,
          0.1875,
          0,
          0.10810810810810811,
          0.13333333333333333
         ]
        }
       ],
       "layout": {
        "title": "反馈延期率周趋势图",
        "xaxis": {
         "mirror": "all",
         "nticks": 20,
         "showgrid": true,
         "showline": true,
         "title": "周",
         "type": "category",
         "zeroline": true
        },
        "yaxis": {
         "mirror": "all",
         "nticks": 20,
         "showgrid": true,
         "showline": true,
         "title": "反馈延期率",
         "zeroline": true
        }
       }
      },
      "text/html": [
       "<div id=\"31aa6f69-6b8d-41f0-ae3a-3ed00959d09b\" style=\"height: 525px; width: 100%;\" class=\"plotly-graph-div\"></div><script type=\"text/javascript\">require([\"plotly\"], function(Plotly) { window.PLOTLYENV=window.PLOTLYENV || {};window.PLOTLYENV.BASE_URL=\"https://plot.ly\";Plotly.newPlot(\"31aa6f69-6b8d-41f0-ae3a-3ed00959d09b\", [{\"name\": \"\\u53cd\\u9988\\u5ef6\\u671f\\u7387\", \"x\": [\"9-1\", \"9-2\", \"9-3\", \"9-4\", \"10-2\", \"10-3\", \"10-4\", \"10-5\", \"11-1\"], \"y\": [0.0, 0.0, 0.03125, 0.0967741935483871, 0.03125, 0.1875, 0.0, 0.10810810810810811, 0.13333333333333333], \"type\": \"scatter\", \"uid\": \"bacd6555-e638-11e8-8ddb-a41f72875c19\"}], {\"title\": \"\\u53cd\\u9988\\u5ef6\\u671f\\u7387\\u5468\\u8d8b\\u52bf\\u56fe\", \"xaxis\": {\"mirror\": \"all\", \"nticks\": 20, \"showgrid\": true, \"showline\": true, \"title\": \"\\u5468\", \"type\": \"category\", \"zeroline\": true}, \"yaxis\": {\"mirror\": \"all\", \"nticks\": 20, \"showgrid\": true, \"showline\": true, \"title\": \"\\u53cd\\u9988\\u5ef6\\u671f\\u7387\", \"zeroline\": true}}, {\"showLink\": true, \"linkText\": \"Export to plot.ly\"})});</script>"
      ],
      "text/vnd.plotly.v1+html": [
       "<div id=\"31aa6f69-6b8d-41f0-ae3a-3ed00959d09b\" style=\"height: 525px; width: 100%;\" class=\"plotly-graph-div\"></div><script type=\"text/javascript\">require([\"plotly\"], function(Plotly) { window.PLOTLYENV=window.PLOTLYENV || {};window.PLOTLYENV.BASE_URL=\"https://plot.ly\";Plotly.newPlot(\"31aa6f69-6b8d-41f0-ae3a-3ed00959d09b\", [{\"name\": \"\\u53cd\\u9988\\u5ef6\\u671f\\u7387\", \"x\": [\"9-1\", \"9-2\", \"9-3\", \"9-4\", \"10-2\", \"10-3\", \"10-4\", \"10-5\", \"11-1\"], \"y\": [0.0, 0.0, 0.03125, 0.0967741935483871, 0.03125, 0.1875, 0.0, 0.10810810810810811, 0.13333333333333333], \"type\": \"scatter\", \"uid\": \"bacd6555-e638-11e8-8ddb-a41f72875c19\"}], {\"title\": \"\\u53cd\\u9988\\u5ef6\\u671f\\u7387\\u5468\\u8d8b\\u52bf\\u56fe\", \"xaxis\": {\"mirror\": \"all\", \"nticks\": 20, \"showgrid\": true, \"showline\": true, \"title\": \"\\u5468\", \"type\": \"category\", \"zeroline\": true}, \"yaxis\": {\"mirror\": \"all\", \"nticks\": 20, \"showgrid\": true, \"showline\": true, \"title\": \"\\u53cd\\u9988\\u5ef6\\u671f\\u7387\", \"zeroline\": true}}, {\"showLink\": true, \"linkText\": \"Export to plot.ly\"})});</script>"
      ]
     },
     "metadata": {},
     "output_type": "display_data"
    }
   ],
   "source": [
    "ss = myModule.format(all_df2 ,\"日期（格式“月-周次”）\",['24h内未完成数据反馈项目数','下机项目数'])\n",
    "ss.df\n",
    "tt = ss.get_total_ratio([['反馈延期率' ,'24h内未完成数据反馈项目数' , '下机项目数','/']] )\n",
    "myModule.myPlot(myModule.sort_by_index(tt)).plot('line')\n",
    "#ss.add_group('组别')\n",
    "#ss.get_average_by('人员')\n",
    "#myModule.myPlot(ss.groupby('sum')).plot('line')\n",
    "#ss = myModule.format(all_df2 ,\"month\" ,['24h内未完成数据反馈项目数' ])\n",
    "#ss.add_group('组别')\n",
    "#ss.get_average_by('人员')\n",
    "#myModule.myPlot(ss.groupby('sum')).plot('line','月')"
   ]
  },
  {
   "cell_type": "markdown",
   "metadata": {},
   "source": [
    "## 交付延期率"
   ]
  },
  {
   "cell_type": "markdown",
   "metadata": {},
   "source": [
    "### 分析组交付延期率"
   ]
  },
  {
   "cell_type": "code",
   "execution_count": 169,
   "metadata": {
    "collapsed": false
   },
   "outputs": [
    {
     "data": {
      "application/vnd.plotly.v1+json": {
       "data": [
        {
         "name": "各组交付延期率",
         "type": "scatter",
         "uid": "bacd6556-e638-11e8-8ddb-a41f72875c19",
         "x": [
          "9-1",
          "9-2",
          "9-3",
          "9-4",
          "10-2",
          "10-3",
          "10-4",
          "10-5",
          "11-1"
         ],
         "y": [
          0,
          0,
          0,
          0,
          0,
          0,
          0,
          0,
          0.075
         ]
        }
       ],
       "layout": {
        "title": "数据交付延期率周趋势",
        "xaxis": {
         "mirror": "all",
         "nticks": 20,
         "showgrid": true,
         "showline": true,
         "title": "周",
         "type": "category",
         "zeroline": true
        },
        "yaxis": {
         "mirror": "all",
         "nticks": 20,
         "showgrid": true,
         "showline": true,
         "title": "各组交付延期率",
         "zeroline": true
        }
       }
      },
      "text/html": [
       "<div id=\"e3205595-ac23-413f-bbf0-8f4a74b3b684\" style=\"height: 525px; width: 100%;\" class=\"plotly-graph-div\"></div><script type=\"text/javascript\">require([\"plotly\"], function(Plotly) { window.PLOTLYENV=window.PLOTLYENV || {};window.PLOTLYENV.BASE_URL=\"https://plot.ly\";Plotly.newPlot(\"e3205595-ac23-413f-bbf0-8f4a74b3b684\", [{\"name\": \"\\u5404\\u7ec4\\u4ea4\\u4ed8\\u5ef6\\u671f\\u7387\", \"x\": [\"9-1\", \"9-2\", \"9-3\", \"9-4\", \"10-2\", \"10-3\", \"10-4\", \"10-5\", \"11-1\"], \"y\": [0.0, 0.0, 0.0, 0.0, 0.0, 0.0, 0.0, 0.0, 0.075], \"type\": \"scatter\", \"uid\": \"bacd6556-e638-11e8-8ddb-a41f72875c19\"}], {\"title\": \"\\u6570\\u636e\\u4ea4\\u4ed8\\u5ef6\\u671f\\u7387\\u5468\\u8d8b\\u52bf\", \"xaxis\": {\"mirror\": \"all\", \"nticks\": 20, \"showgrid\": true, \"showline\": true, \"title\": \"\\u5468\", \"type\": \"category\", \"zeroline\": true}, \"yaxis\": {\"mirror\": \"all\", \"nticks\": 20, \"showgrid\": true, \"showline\": true, \"title\": \"\\u5404\\u7ec4\\u4ea4\\u4ed8\\u5ef6\\u671f\\u7387\", \"zeroline\": true}}, {\"showLink\": true, \"linkText\": \"Export to plot.ly\"})});</script>"
      ],
      "text/vnd.plotly.v1+html": [
       "<div id=\"e3205595-ac23-413f-bbf0-8f4a74b3b684\" style=\"height: 525px; width: 100%;\" class=\"plotly-graph-div\"></div><script type=\"text/javascript\">require([\"plotly\"], function(Plotly) { window.PLOTLYENV=window.PLOTLYENV || {};window.PLOTLYENV.BASE_URL=\"https://plot.ly\";Plotly.newPlot(\"e3205595-ac23-413f-bbf0-8f4a74b3b684\", [{\"name\": \"\\u5404\\u7ec4\\u4ea4\\u4ed8\\u5ef6\\u671f\\u7387\", \"x\": [\"9-1\", \"9-2\", \"9-3\", \"9-4\", \"10-2\", \"10-3\", \"10-4\", \"10-5\", \"11-1\"], \"y\": [0.0, 0.0, 0.0, 0.0, 0.0, 0.0, 0.0, 0.0, 0.075], \"type\": \"scatter\", \"uid\": \"bacd6556-e638-11e8-8ddb-a41f72875c19\"}], {\"title\": \"\\u6570\\u636e\\u4ea4\\u4ed8\\u5ef6\\u671f\\u7387\\u5468\\u8d8b\\u52bf\", \"xaxis\": {\"mirror\": \"all\", \"nticks\": 20, \"showgrid\": true, \"showline\": true, \"title\": \"\\u5468\", \"type\": \"category\", \"zeroline\": true}, \"yaxis\": {\"mirror\": \"all\", \"nticks\": 20, \"showgrid\": true, \"showline\": true, \"title\": \"\\u5404\\u7ec4\\u4ea4\\u4ed8\\u5ef6\\u671f\\u7387\", \"zeroline\": true}}, {\"showLink\": true, \"linkText\": \"Export to plot.ly\"})});</script>"
      ]
     },
     "metadata": {},
     "output_type": "display_data"
    }
   ],
   "source": [
    "ss = myModule.format(all_df2 ,\"日期（格式“月-周次”）\" ,['24h内未完成数据交付项目数','待交付项目数' ])\n",
    "#ss.add_group('组别')\n",
    "#ss.get_average_by('人员')\n",
    "tt = ss.get_total_ratio([['各组交付延期率' ,'24h内未完成数据交付项目数','待交付项目数','/']] )\n",
    "myModule.myPlot(myModule.sort_by_index(tt)).plot('line',fig_title='数据交付延期率周趋势')"
   ]
  },
  {
   "cell_type": "markdown",
   "metadata": {},
   "source": [
    "### 各组交付延期率"
   ]
  },
  {
   "cell_type": "code",
   "execution_count": 170,
   "metadata": {
    "collapsed": false
   },
   "outputs": [
    {
     "data": {
      "application/vnd.plotly.v1+json": {
       "data": [
        {
         "line": {
          "dash": "solid"
         },
         "name": "各组交付延期率(个性化组)",
         "type": "scatter",
         "uid": "bacd6557-e638-11e8-8ddb-a41f72875c19",
         "x": [
          "9-1",
          "9-2",
          "9-3",
          "9-4",
          "10-2",
          "10-3",
          "10-4",
          "10-5",
          "11-1"
         ],
         "y": [
          0,
          null,
          0,
          null,
          null,
          0,
          0,
          0,
          0.5
         ]
        },
        {
         "line": {
          "dash": "dot"
         },
         "name": "各组交付延期率(义乌组)",
         "type": "scatter",
         "uid": "bacd6558-e638-11e8-8ddb-a41f72875c19",
         "x": [
          "9-1",
          "9-2",
          "9-3",
          "9-4",
          "10-2",
          "10-3",
          "10-4",
          "10-5",
          "11-1"
         ],
         "y": [
          null,
          null,
          null,
          null,
          null,
          null,
          null,
          0,
          0
         ]
        },
        {
         "line": {
          "dash": "dash"
         },
         "name": "各组交付延期率(分析一组)",
         "type": "scatter",
         "uid": "bacd6559-e638-11e8-8ddb-a41f72875c19",
         "x": [
          "9-1",
          "9-2",
          "9-3",
          "9-4",
          "10-2",
          "10-3",
          "10-4",
          "10-5",
          "11-1"
         ],
         "y": [
          0,
          0,
          0,
          0,
          0,
          0,
          0,
          0,
          0.6666666666666666
         ]
        },
        {
         "line": {
          "dash": "longdash"
         },
         "name": "各组交付延期率(分析二组)",
         "type": "scatter",
         "uid": "bacd655a-e638-11e8-8ddb-a41f72875c19",
         "x": [
          "9-1",
          "9-2",
          "9-3",
          "9-4",
          "10-2",
          "10-3",
          "10-4",
          "10-5",
          "11-1"
         ],
         "y": [
          0,
          0,
          0,
          0,
          0,
          null,
          0,
          0,
          0
         ]
        }
       ],
       "layout": {
        "title": "各组数据交付延期率周趋势",
        "xaxis": {
         "mirror": "all",
         "nticks": 20,
         "showgrid": true,
         "showline": true,
         "title": "周",
         "type": "category",
         "zeroline": true
        },
        "yaxis": {
         "mirror": "all",
         "nticks": 20,
         "showgrid": true,
         "showline": true,
         "title": "各组交付延期率",
         "zeroline": true
        }
       }
      },
      "text/html": [
       "<div id=\"c5dfe7ac-88fb-4be0-aead-b3f367fe8c4f\" style=\"height: 525px; width: 100%;\" class=\"plotly-graph-div\"></div><script type=\"text/javascript\">require([\"plotly\"], function(Plotly) { window.PLOTLYENV=window.PLOTLYENV || {};window.PLOTLYENV.BASE_URL=\"https://plot.ly\";Plotly.newPlot(\"c5dfe7ac-88fb-4be0-aead-b3f367fe8c4f\", [{\"line\": {\"dash\": \"solid\"}, \"name\": \"\\u5404\\u7ec4\\u4ea4\\u4ed8\\u5ef6\\u671f\\u7387(\\u4e2a\\u6027\\u5316\\u7ec4)\", \"x\": [\"9-1\", \"9-2\", \"9-3\", \"9-4\", \"10-2\", \"10-3\", \"10-4\", \"10-5\", \"11-1\"], \"y\": [0.0, null, 0.0, null, null, 0.0, 0.0, 0.0, 0.5], \"type\": \"scatter\", \"uid\": \"bacd6557-e638-11e8-8ddb-a41f72875c19\"}, {\"line\": {\"dash\": \"dot\"}, \"name\": \"\\u5404\\u7ec4\\u4ea4\\u4ed8\\u5ef6\\u671f\\u7387(\\u4e49\\u4e4c\\u7ec4)\", \"x\": [\"9-1\", \"9-2\", \"9-3\", \"9-4\", \"10-2\", \"10-3\", \"10-4\", \"10-5\", \"11-1\"], \"y\": [null, null, null, null, null, null, null, 0.0, 0.0], \"type\": \"scatter\", \"uid\": \"bacd6558-e638-11e8-8ddb-a41f72875c19\"}, {\"line\": {\"dash\": \"dash\"}, \"name\": \"\\u5404\\u7ec4\\u4ea4\\u4ed8\\u5ef6\\u671f\\u7387(\\u5206\\u6790\\u4e00\\u7ec4)\", \"x\": [\"9-1\", \"9-2\", \"9-3\", \"9-4\", \"10-2\", \"10-3\", \"10-4\", \"10-5\", \"11-1\"], \"y\": [0.0, 0.0, 0.0, 0.0, 0.0, 0.0, 0.0, 0.0, 0.6666666666666666], \"type\": \"scatter\", \"uid\": \"bacd6559-e638-11e8-8ddb-a41f72875c19\"}, {\"line\": {\"dash\": \"longdash\"}, \"name\": \"\\u5404\\u7ec4\\u4ea4\\u4ed8\\u5ef6\\u671f\\u7387(\\u5206\\u6790\\u4e8c\\u7ec4)\", \"x\": [\"9-1\", \"9-2\", \"9-3\", \"9-4\", \"10-2\", \"10-3\", \"10-4\", \"10-5\", \"11-1\"], \"y\": [0.0, 0.0, 0.0, 0.0, 0.0, null, 0.0, 0.0, 0.0], \"type\": \"scatter\", \"uid\": \"bacd655a-e638-11e8-8ddb-a41f72875c19\"}], {\"title\": \"\\u5404\\u7ec4\\u6570\\u636e\\u4ea4\\u4ed8\\u5ef6\\u671f\\u7387\\u5468\\u8d8b\\u52bf\", \"xaxis\": {\"mirror\": \"all\", \"nticks\": 20, \"showgrid\": true, \"showline\": true, \"title\": \"\\u5468\", \"type\": \"category\", \"zeroline\": true}, \"yaxis\": {\"mirror\": \"all\", \"nticks\": 20, \"showgrid\": true, \"showline\": true, \"title\": \"\\u5404\\u7ec4\\u4ea4\\u4ed8\\u5ef6\\u671f\\u7387\", \"zeroline\": true}}, {\"showLink\": true, \"linkText\": \"Export to plot.ly\"})});</script>"
      ],
      "text/vnd.plotly.v1+html": [
       "<div id=\"c5dfe7ac-88fb-4be0-aead-b3f367fe8c4f\" style=\"height: 525px; width: 100%;\" class=\"plotly-graph-div\"></div><script type=\"text/javascript\">require([\"plotly\"], function(Plotly) { window.PLOTLYENV=window.PLOTLYENV || {};window.PLOTLYENV.BASE_URL=\"https://plot.ly\";Plotly.newPlot(\"c5dfe7ac-88fb-4be0-aead-b3f367fe8c4f\", [{\"line\": {\"dash\": \"solid\"}, \"name\": \"\\u5404\\u7ec4\\u4ea4\\u4ed8\\u5ef6\\u671f\\u7387(\\u4e2a\\u6027\\u5316\\u7ec4)\", \"x\": [\"9-1\", \"9-2\", \"9-3\", \"9-4\", \"10-2\", \"10-3\", \"10-4\", \"10-5\", \"11-1\"], \"y\": [0.0, null, 0.0, null, null, 0.0, 0.0, 0.0, 0.5], \"type\": \"scatter\", \"uid\": \"bacd6557-e638-11e8-8ddb-a41f72875c19\"}, {\"line\": {\"dash\": \"dot\"}, \"name\": \"\\u5404\\u7ec4\\u4ea4\\u4ed8\\u5ef6\\u671f\\u7387(\\u4e49\\u4e4c\\u7ec4)\", \"x\": [\"9-1\", \"9-2\", \"9-3\", \"9-4\", \"10-2\", \"10-3\", \"10-4\", \"10-5\", \"11-1\"], \"y\": [null, null, null, null, null, null, null, 0.0, 0.0], \"type\": \"scatter\", \"uid\": \"bacd6558-e638-11e8-8ddb-a41f72875c19\"}, {\"line\": {\"dash\": \"dash\"}, \"name\": \"\\u5404\\u7ec4\\u4ea4\\u4ed8\\u5ef6\\u671f\\u7387(\\u5206\\u6790\\u4e00\\u7ec4)\", \"x\": [\"9-1\", \"9-2\", \"9-3\", \"9-4\", \"10-2\", \"10-3\", \"10-4\", \"10-5\", \"11-1\"], \"y\": [0.0, 0.0, 0.0, 0.0, 0.0, 0.0, 0.0, 0.0, 0.6666666666666666], \"type\": \"scatter\", \"uid\": \"bacd6559-e638-11e8-8ddb-a41f72875c19\"}, {\"line\": {\"dash\": \"longdash\"}, \"name\": \"\\u5404\\u7ec4\\u4ea4\\u4ed8\\u5ef6\\u671f\\u7387(\\u5206\\u6790\\u4e8c\\u7ec4)\", \"x\": [\"9-1\", \"9-2\", \"9-3\", \"9-4\", \"10-2\", \"10-3\", \"10-4\", \"10-5\", \"11-1\"], \"y\": [0.0, 0.0, 0.0, 0.0, 0.0, null, 0.0, 0.0, 0.0], \"type\": \"scatter\", \"uid\": \"bacd655a-e638-11e8-8ddb-a41f72875c19\"}], {\"title\": \"\\u5404\\u7ec4\\u6570\\u636e\\u4ea4\\u4ed8\\u5ef6\\u671f\\u7387\\u5468\\u8d8b\\u52bf\", \"xaxis\": {\"mirror\": \"all\", \"nticks\": 20, \"showgrid\": true, \"showline\": true, \"title\": \"\\u5468\", \"type\": \"category\", \"zeroline\": true}, \"yaxis\": {\"mirror\": \"all\", \"nticks\": 20, \"showgrid\": true, \"showline\": true, \"title\": \"\\u5404\\u7ec4\\u4ea4\\u4ed8\\u5ef6\\u671f\\u7387\", \"zeroline\": true}}, {\"showLink\": true, \"linkText\": \"Export to plot.ly\"})});</script>"
      ]
     },
     "metadata": {},
     "output_type": "display_data"
    }
   ],
   "source": [
    "ss = myModule.format(all_df2 ,\"日期（格式“月-周次”）\" ,['24h内未完成数据交付项目数','待交付项目数' ])\n",
    "ss.add_group('组别')\n",
    "#ss.get_average_by('人员')\n",
    "tt = ss.get_total_ratio([['各组交付延期率' ,'24h内未完成数据交付项目数','待交付项目数','/']] )\n",
    "myModule.myPlot(myModule.sort_by_index(tt)).plot('line',fig_title='各组数据交付延期率周趋势')"
   ]
  },
  {
   "cell_type": "code",
   "execution_count": null,
   "metadata": {
    "collapsed": true
   },
   "outputs": [],
   "source": []
  }
 ],
 "metadata": {
  "hide_input": false,
  "kernelspec": {
   "display_name": "Python 3",
   "language": "python",
   "name": "python3"
  },
  "language_info": {
   "codemirror_mode": {
    "name": "ipython",
    "version": 3
   },
   "file_extension": ".py",
   "mimetype": "text/x-python",
   "name": "python",
   "nbconvert_exporter": "python",
   "pygments_lexer": "ipython3",
   "version": "3.6.0"
  },
  "toc": {
   "base_numbering": 1,
   "nav_menu": {
    "height": "247px",
    "width": "215px"
   },
   "number_sections": true,
   "sideBar": true,
   "skip_h1_title": false,
   "title_cell": "Table of Contents",
   "title_sidebar": "Contents",
   "toc_cell": false,
   "toc_position": {
    "height": "calc(100% - 180px)",
    "left": "10px",
    "top": "150px",
    "width": "245px"
   },
   "toc_section_display": true,
   "toc_window_display": true
  }
 },
 "nbformat": 4,
 "nbformat_minor": 2
}
