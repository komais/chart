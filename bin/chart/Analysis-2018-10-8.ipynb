{
 "cells": [
  {
   "cell_type": "markdown",
   "metadata": {},
   "source": [
    "tobedone：每组人均产能，表格的规整和简化"
   ]
  },
  {
   "cell_type": "code",
   "execution_count": 32,
   "metadata": {
    "collapsed": false
   },
   "outputs": [
    {
     "name": "stdout",
     "output_type": "stream",
     "text": [
      "The autoreload extension is already loaded. To reload it, use:\n",
      "  %reload_ext autoreload\n"
     ]
    }
   ],
   "source": [
    "%load_ext autoreload\n",
    "%autoreload 2"
   ]
  },
  {
   "cell_type": "code",
   "execution_count": 33,
   "metadata": {
    "collapsed": false,
    "scrolled": true
   },
   "outputs": [
    {
     "data": {
      "text/html": [
       "<script>requirejs.config({paths: { 'plotly': ['https://cdn.plot.ly/plotly-latest.min']},});if(!window.Plotly) {{require(['plotly'],function(plotly) {window.Plotly=plotly;});}}</script>"
      ],
      "text/vnd.plotly.v1+html": [
       "<script>requirejs.config({paths: { 'plotly': ['https://cdn.plot.ly/plotly-latest.min']},});if(!window.Plotly) {{require(['plotly'],function(plotly) {window.Plotly=plotly;});}}</script>"
      ]
     },
     "metadata": {},
     "output_type": "display_data"
    }
   ],
   "source": [
    "import sys\n",
    "sys.path.append('./')\n",
    "import myModule\n",
    "import imp\n",
    "imp.reload(myModule)\n",
    "time_list=['week']"
   ]
  },
  {
   "cell_type": "code",
   "execution_count": 34,
   "metadata": {
    "collapsed": false,
    "scrolled": true
   },
   "outputs": [],
   "source": [
    "import os\n",
    "bindir = os.path.dirname(os.getcwd())\n",
    "pathway = bindir + '/../data/Analysis/'\n",
    "all_files , title = myModule.get_title(pathway, 0)   ##给路径\n",
    "all_df1  = myModule.read_xlsx(all_files , 0 )## read all files sheet1\n",
    "all_df2  = myModule.read_xlsx(all_files , 1 )\n",
    "all_df3  = myModule.read_xlsx(all_files , 2 )"
   ]
  },
  {
   "cell_type": "code",
   "execution_count": 35,
   "metadata": {
    "collapsed": false
   },
   "outputs": [
    {
     "data": {
      "text/html": [
       "<div>\n",
       "<style scoped>\n",
       "    .dataframe tbody tr th:only-of-type {\n",
       "        vertical-align: middle;\n",
       "    }\n",
       "\n",
       "    .dataframe tbody tr th {\n",
       "        vertical-align: top;\n",
       "    }\n",
       "\n",
       "    .dataframe thead th {\n",
       "        text-align: right;\n",
       "    }\n",
       "</style>\n",
       "<table border=\"1\" class=\"dataframe\">\n",
       "  <thead>\n",
       "    <tr style=\"text-align: right;\">\n",
       "      <th></th>\n",
       "      <th>组别</th>\n",
       "      <th>人员</th>\n",
       "      <th>日期（格式“月-周次”）</th>\n",
       "      <th>完成流水线项目数</th>\n",
       "      <th>完成非流水线项目数</th>\n",
       "      <th>完成只分析项目数</th>\n",
       "      <th>完成联合分析项目数</th>\n",
       "      <th>完成个性化数</th>\n",
       "      <th>接入个性化数</th>\n",
       "      <th>在线标准分析项目数</th>\n",
       "      <th>在线个性化项目数</th>\n",
       "      <th>未下机项目数</th>\n",
       "      <th>month</th>\n",
       "      <th>完成商业项目数</th>\n",
       "      <th>完成项目总数</th>\n",
       "      <th>在线项目总数</th>\n",
       "    </tr>\n",
       "  </thead>\n",
       "  <tbody>\n",
       "    <tr>\n",
       "      <th>0</th>\n",
       "      <td>分析一组</td>\n",
       "      <td>施毓芷</td>\n",
       "      <td>10-3</td>\n",
       "      <td>0</td>\n",
       "      <td>0</td>\n",
       "      <td>0</td>\n",
       "      <td>0</td>\n",
       "      <td>0</td>\n",
       "      <td>1</td>\n",
       "      <td>7</td>\n",
       "      <td>1</td>\n",
       "      <td>7</td>\n",
       "      <td>10</td>\n",
       "      <td>0</td>\n",
       "      <td>0</td>\n",
       "      <td>8</td>\n",
       "    </tr>\n",
       "    <tr>\n",
       "      <th>1</th>\n",
       "      <td>分析一组</td>\n",
       "      <td>闻少楠</td>\n",
       "      <td>10-3</td>\n",
       "      <td>2</td>\n",
       "      <td>1</td>\n",
       "      <td>1</td>\n",
       "      <td>0</td>\n",
       "      <td>4</td>\n",
       "      <td>3</td>\n",
       "      <td>6</td>\n",
       "      <td>3</td>\n",
       "      <td>12</td>\n",
       "      <td>10</td>\n",
       "      <td>4</td>\n",
       "      <td>8</td>\n",
       "      <td>9</td>\n",
       "    </tr>\n",
       "    <tr>\n",
       "      <th>2</th>\n",
       "      <td>分析一组</td>\n",
       "      <td>杨宇</td>\n",
       "      <td>10-3</td>\n",
       "      <td>1</td>\n",
       "      <td>1</td>\n",
       "      <td>0</td>\n",
       "      <td>0</td>\n",
       "      <td>3</td>\n",
       "      <td>2</td>\n",
       "      <td>7</td>\n",
       "      <td>2</td>\n",
       "      <td>12</td>\n",
       "      <td>10</td>\n",
       "      <td>2</td>\n",
       "      <td>5</td>\n",
       "      <td>9</td>\n",
       "    </tr>\n",
       "    <tr>\n",
       "      <th>3</th>\n",
       "      <td>分析一组</td>\n",
       "      <td>刘永强</td>\n",
       "      <td>10-3</td>\n",
       "      <td>0</td>\n",
       "      <td>3</td>\n",
       "      <td>1</td>\n",
       "      <td>0</td>\n",
       "      <td>1</td>\n",
       "      <td>1</td>\n",
       "      <td>2</td>\n",
       "      <td>2</td>\n",
       "      <td>2</td>\n",
       "      <td>10</td>\n",
       "      <td>4</td>\n",
       "      <td>5</td>\n",
       "      <td>4</td>\n",
       "    </tr>\n",
       "    <tr>\n",
       "      <th>4</th>\n",
       "      <td>分析一组</td>\n",
       "      <td>刘梦苑</td>\n",
       "      <td>10-3</td>\n",
       "      <td>0</td>\n",
       "      <td>2</td>\n",
       "      <td>0</td>\n",
       "      <td>1</td>\n",
       "      <td>8</td>\n",
       "      <td>1</td>\n",
       "      <td>5</td>\n",
       "      <td>1</td>\n",
       "      <td>14</td>\n",
       "      <td>10</td>\n",
       "      <td>3</td>\n",
       "      <td>11</td>\n",
       "      <td>6</td>\n",
       "    </tr>\n",
       "  </tbody>\n",
       "</table>\n",
       "</div>"
      ],
      "text/plain": [
       "     组别   人员 日期（格式“月-周次”）  完成流水线项目数  完成非流水线项目数  完成只分析项目数  完成联合分析项目数  完成个性化数  \\\n",
       "0  分析一组  施毓芷         10-3         0          0         0          0       0   \n",
       "1  分析一组  闻少楠         10-3         2          1         1          0       4   \n",
       "2  分析一组   杨宇         10-3         1          1         0          0       3   \n",
       "3  分析一组  刘永强         10-3         0          3         1          0       1   \n",
       "4  分析一组  刘梦苑         10-3         0          2         0          1       8   \n",
       "\n",
       "   接入个性化数  在线标准分析项目数  在线个性化项目数  未下机项目数  month  完成商业项目数  完成项目总数  在线项目总数  \n",
       "0       1          7         1       7     10        0       0       8  \n",
       "1       3          6         3      12     10        4       8       9  \n",
       "2       2          7         2      12     10        2       5       9  \n",
       "3       1          2         2       2     10        4       5       4  \n",
       "4       1          5         1      14     10        3      11       6  "
      ]
     },
     "execution_count": 35,
     "metadata": {},
     "output_type": "execute_result"
    }
   ],
   "source": [
    "### show NA after first running\n",
    "myModule.upgrade_df(all_df1, [ ['完成商业项目数',['完成流水线项目数','完成非流水线项目数','完成只分析项目数','完成联合分析项目数'],'+']])\n",
    "myModule.upgrade_df(all_df1, [ ['完成项目总数',['完成商业项目数','完成个性化数'],'+'] , \n",
    "                               ['在线项目总数',['在线标准分析项目数','在线个性化项目数'],'+']])\n",
    "#all_dict2 = myModule.read_xlsx(all_files , 1 ) ##\n",
    "#all_df1.drop([])\n",
    "all_df1.loc[all_df1['日期（格式“月-周次”）']=='10-3'].head()\n"
   ]
  },
  {
   "cell_type": "markdown",
   "metadata": {},
   "source": [
    "# 人员情况"
   ]
  },
  {
   "cell_type": "markdown",
   "metadata": {},
   "source": [
    "## 分析组整体人员情况"
   ]
  },
  {
   "cell_type": "code",
   "execution_count": 36,
   "metadata": {
    "collapsed": false,
    "scrolled": false
   },
   "outputs": [
    {
     "data": {
      "application/vnd.plotly.v1+json": {
       "data": [
        {
         "name": "人员",
         "type": "bar",
         "uid": "52257f5c-d745-11e8-8ddb-a41f72875c19",
         "x": [
          "9-1",
          "9-2",
          "9-3",
          "9-4",
          "10-2",
          "10-3"
         ],
         "y": [
          18,
          18,
          18,
          18,
          14,
          14
         ]
        }
       ],
       "layout": {
        "title": "人员周趋势图",
        "xaxis": {
         "mirror": "all",
         "nticks": 20,
         "showgrid": true,
         "showline": true,
         "title": "周",
         "type": "category",
         "zeroline": true
        },
        "yaxis": {
         "mirror": "all",
         "nticks": 20,
         "showgrid": true,
         "showline": true,
         "title": "人员",
         "zeroline": true
        }
       }
      },
      "text/html": [
       "<div id=\"c909d385-4a00-4415-9400-6c2bf4cc8ef1\" style=\"height: 525px; width: 100%;\" class=\"plotly-graph-div\"></div><script type=\"text/javascript\">require([\"plotly\"], function(Plotly) { window.PLOTLYENV=window.PLOTLYENV || {};window.PLOTLYENV.BASE_URL=\"https://plot.ly\";Plotly.newPlot(\"c909d385-4a00-4415-9400-6c2bf4cc8ef1\", [{\"name\": \"\\u4eba\\u5458\", \"x\": [\"9-1\", \"9-2\", \"9-3\", \"9-4\", \"10-2\", \"10-3\"], \"y\": [18, 18, 18, 18, 14, 14], \"type\": \"bar\", \"uid\": \"52257f5c-d745-11e8-8ddb-a41f72875c19\"}], {\"title\": \"\\u4eba\\u5458\\u5468\\u8d8b\\u52bf\\u56fe\", \"xaxis\": {\"mirror\": \"all\", \"nticks\": 20, \"showgrid\": true, \"showline\": true, \"title\": \"\\u5468\", \"type\": \"category\", \"zeroline\": true}, \"yaxis\": {\"mirror\": \"all\", \"nticks\": 20, \"showgrid\": true, \"showline\": true, \"title\": \"\\u4eba\\u5458\", \"zeroline\": true}}, {\"showLink\": true, \"linkText\": \"Export to plot.ly\"})});</script>"
      ],
      "text/vnd.plotly.v1+html": [
       "<div id=\"c909d385-4a00-4415-9400-6c2bf4cc8ef1\" style=\"height: 525px; width: 100%;\" class=\"plotly-graph-div\"></div><script type=\"text/javascript\">require([\"plotly\"], function(Plotly) { window.PLOTLYENV=window.PLOTLYENV || {};window.PLOTLYENV.BASE_URL=\"https://plot.ly\";Plotly.newPlot(\"c909d385-4a00-4415-9400-6c2bf4cc8ef1\", [{\"name\": \"\\u4eba\\u5458\", \"x\": [\"9-1\", \"9-2\", \"9-3\", \"9-4\", \"10-2\", \"10-3\"], \"y\": [18, 18, 18, 18, 14, 14], \"type\": \"bar\", \"uid\": \"52257f5c-d745-11e8-8ddb-a41f72875c19\"}], {\"title\": \"\\u4eba\\u5458\\u5468\\u8d8b\\u52bf\\u56fe\", \"xaxis\": {\"mirror\": \"all\", \"nticks\": 20, \"showgrid\": true, \"showline\": true, \"title\": \"\\u5468\", \"type\": \"category\", \"zeroline\": true}, \"yaxis\": {\"mirror\": \"all\", \"nticks\": 20, \"showgrid\": true, \"showline\": true, \"title\": \"\\u4eba\\u5458\", \"zeroline\": true}}, {\"showLink\": true, \"linkText\": \"Export to plot.ly\"})});</script>"
      ]
     },
     "metadata": {},
     "output_type": "display_data"
    }
   ],
   "source": [
    "ss = myModule.format(all_df1 ,\"日期（格式“月-周次”）\" ,['人员'])\n",
    "ss.groupby('count')\n",
    "myModule.sort_by_index(ss.groupby('count'))\n",
    "tt = myModule.myPlot(myModule.sort_by_index(ss.groupby('count')))\n",
    "tt.plot('bar')"
   ]
  },
  {
   "cell_type": "code",
   "execution_count": 37,
   "metadata": {
    "collapsed": false,
    "scrolled": false
   },
   "outputs": [
    {
     "data": {
      "application/vnd.plotly.v1+json": {
       "data": [
        {
         "name": "人员",
         "type": "bar",
         "uid": "52257f5d-d745-11e8-8ddb-a41f72875c19",
         "x": [
          9,
          10
         ],
         "y": [
          18,
          14
         ]
        }
       ],
       "layout": {
        "title": "人员月趋势图",
        "xaxis": {
         "mirror": "all",
         "nticks": 20,
         "showgrid": true,
         "showline": true,
         "title": "月",
         "type": "category",
         "zeroline": true
        },
        "yaxis": {
         "mirror": "all",
         "nticks": 20,
         "showgrid": true,
         "showline": true,
         "title": "人员",
         "zeroline": true
        }
       }
      },
      "text/html": [
       "<div id=\"5418756b-8263-456a-82de-1a33bbc7ccf2\" style=\"height: 525px; width: 100%;\" class=\"plotly-graph-div\"></div><script type=\"text/javascript\">require([\"plotly\"], function(Plotly) { window.PLOTLYENV=window.PLOTLYENV || {};window.PLOTLYENV.BASE_URL=\"https://plot.ly\";Plotly.newPlot(\"5418756b-8263-456a-82de-1a33bbc7ccf2\", [{\"name\": \"\\u4eba\\u5458\", \"x\": [9, 10], \"y\": [18, 14], \"type\": \"bar\", \"uid\": \"52257f5d-d745-11e8-8ddb-a41f72875c19\"}], {\"title\": \"\\u4eba\\u5458\\u6708\\u8d8b\\u52bf\\u56fe\", \"xaxis\": {\"mirror\": \"all\", \"nticks\": 20, \"showgrid\": true, \"showline\": true, \"title\": \"\\u6708\", \"type\": \"category\", \"zeroline\": true}, \"yaxis\": {\"mirror\": \"all\", \"nticks\": 20, \"showgrid\": true, \"showline\": true, \"title\": \"\\u4eba\\u5458\", \"zeroline\": true}}, {\"showLink\": true, \"linkText\": \"Export to plot.ly\"})});</script>"
      ],
      "text/vnd.plotly.v1+html": [
       "<div id=\"5418756b-8263-456a-82de-1a33bbc7ccf2\" style=\"height: 525px; width: 100%;\" class=\"plotly-graph-div\"></div><script type=\"text/javascript\">require([\"plotly\"], function(Plotly) { window.PLOTLYENV=window.PLOTLYENV || {};window.PLOTLYENV.BASE_URL=\"https://plot.ly\";Plotly.newPlot(\"5418756b-8263-456a-82de-1a33bbc7ccf2\", [{\"name\": \"\\u4eba\\u5458\", \"x\": [9, 10], \"y\": [18, 14], \"type\": \"bar\", \"uid\": \"52257f5d-d745-11e8-8ddb-a41f72875c19\"}], {\"title\": \"\\u4eba\\u5458\\u6708\\u8d8b\\u52bf\\u56fe\", \"xaxis\": {\"mirror\": \"all\", \"nticks\": 20, \"showgrid\": true, \"showline\": true, \"title\": \"\\u6708\", \"type\": \"category\", \"zeroline\": true}, \"yaxis\": {\"mirror\": \"all\", \"nticks\": 20, \"showgrid\": true, \"showline\": true, \"title\": \"\\u4eba\\u5458\", \"zeroline\": true}}, {\"showLink\": true, \"linkText\": \"Export to plot.ly\"})});</script>"
      ]
     },
     "metadata": {},
     "output_type": "display_data"
    }
   ],
   "source": [
    "ss = myModule.format(all_df1 ,\"month\" ,['人员'] )\n",
    "ss.get_average_by('日期（格式“月-周次”）')\n",
    "tt = myModule.myPlot(ss.groupby(\"count\") )# ,\"日期（格式“月-周次”）\" ,['人员'])\n",
    "tt.plot('bar',tag='月')"
   ]
  },
  {
   "cell_type": "markdown",
   "metadata": {},
   "source": [
    "## 各组人员情况"
   ]
  },
  {
   "cell_type": "code",
   "execution_count": 38,
   "metadata": {
    "collapsed": false
   },
   "outputs": [
    {
     "data": {
      "application/vnd.plotly.v1+json": {
       "data": [
        {
         "name": "人员(个性化组)",
         "type": "bar",
         "uid": "52257f5e-d745-11e8-8ddb-a41f72875c19",
         "x": [
          "9-1",
          "9-2",
          "9-3",
          "9-4",
          "10-2",
          "10-3"
         ],
         "y": [
          4,
          4,
          4,
          4,
          5,
          5
         ]
        },
        {
         "name": "人员(分析二组)",
         "type": "bar",
         "uid": "52257f5f-d745-11e8-8ddb-a41f72875c19",
         "x": [
          "9-1",
          "9-2",
          "9-3",
          "9-4",
          "10-2",
          "10-3"
         ],
         "y": [
          10,
          10,
          10,
          10,
          4,
          4
         ]
        },
        {
         "name": "人员(分析一组)",
         "type": "bar",
         "uid": "52257f60-d745-11e8-8ddb-a41f72875c19",
         "x": [
          "9-1",
          "9-2",
          "9-3",
          "9-4",
          "10-2",
          "10-3"
         ],
         "y": [
          4,
          4,
          4,
          4,
          5,
          5
         ]
        }
       ],
       "layout": {
        "barmode": "stack",
        "title": "人员周趋势图",
        "xaxis": {
         "mirror": "all",
         "nticks": 20,
         "showgrid": true,
         "showline": true,
         "title": "周",
         "type": "category",
         "zeroline": true
        },
        "yaxis": {
         "mirror": "all",
         "nticks": 20,
         "showgrid": true,
         "showline": true,
         "title": "人员",
         "zeroline": true
        }
       }
      },
      "text/html": [
       "<div id=\"f68c0326-5676-4f84-8c0b-9bffbac4a00d\" style=\"height: 525px; width: 100%;\" class=\"plotly-graph-div\"></div><script type=\"text/javascript\">require([\"plotly\"], function(Plotly) { window.PLOTLYENV=window.PLOTLYENV || {};window.PLOTLYENV.BASE_URL=\"https://plot.ly\";Plotly.newPlot(\"f68c0326-5676-4f84-8c0b-9bffbac4a00d\", [{\"name\": \"\\u4eba\\u5458(\\u4e2a\\u6027\\u5316\\u7ec4)\", \"x\": [\"9-1\", \"9-2\", \"9-3\", \"9-4\", \"10-2\", \"10-3\"], \"y\": [4, 4, 4, 4, 5, 5], \"type\": \"bar\", \"uid\": \"52257f5e-d745-11e8-8ddb-a41f72875c19\"}, {\"name\": \"\\u4eba\\u5458(\\u5206\\u6790\\u4e8c\\u7ec4)\", \"x\": [\"9-1\", \"9-2\", \"9-3\", \"9-4\", \"10-2\", \"10-3\"], \"y\": [10, 10, 10, 10, 4, 4], \"type\": \"bar\", \"uid\": \"52257f5f-d745-11e8-8ddb-a41f72875c19\"}, {\"name\": \"\\u4eba\\u5458(\\u5206\\u6790\\u4e00\\u7ec4)\", \"x\": [\"9-1\", \"9-2\", \"9-3\", \"9-4\", \"10-2\", \"10-3\"], \"y\": [4, 4, 4, 4, 5, 5], \"type\": \"bar\", \"uid\": \"52257f60-d745-11e8-8ddb-a41f72875c19\"}], {\"barmode\": \"stack\", \"title\": \"\\u4eba\\u5458\\u5468\\u8d8b\\u52bf\\u56fe\", \"xaxis\": {\"mirror\": \"all\", \"nticks\": 20, \"showgrid\": true, \"showline\": true, \"title\": \"\\u5468\", \"type\": \"category\", \"zeroline\": true}, \"yaxis\": {\"mirror\": \"all\", \"nticks\": 20, \"showgrid\": true, \"showline\": true, \"title\": \"\\u4eba\\u5458\", \"zeroline\": true}}, {\"showLink\": true, \"linkText\": \"Export to plot.ly\"})});</script>"
      ],
      "text/vnd.plotly.v1+html": [
       "<div id=\"f68c0326-5676-4f84-8c0b-9bffbac4a00d\" style=\"height: 525px; width: 100%;\" class=\"plotly-graph-div\"></div><script type=\"text/javascript\">require([\"plotly\"], function(Plotly) { window.PLOTLYENV=window.PLOTLYENV || {};window.PLOTLYENV.BASE_URL=\"https://plot.ly\";Plotly.newPlot(\"f68c0326-5676-4f84-8c0b-9bffbac4a00d\", [{\"name\": \"\\u4eba\\u5458(\\u4e2a\\u6027\\u5316\\u7ec4)\", \"x\": [\"9-1\", \"9-2\", \"9-3\", \"9-4\", \"10-2\", \"10-3\"], \"y\": [4, 4, 4, 4, 5, 5], \"type\": \"bar\", \"uid\": \"52257f5e-d745-11e8-8ddb-a41f72875c19\"}, {\"name\": \"\\u4eba\\u5458(\\u5206\\u6790\\u4e8c\\u7ec4)\", \"x\": [\"9-1\", \"9-2\", \"9-3\", \"9-4\", \"10-2\", \"10-3\"], \"y\": [10, 10, 10, 10, 4, 4], \"type\": \"bar\", \"uid\": \"52257f5f-d745-11e8-8ddb-a41f72875c19\"}, {\"name\": \"\\u4eba\\u5458(\\u5206\\u6790\\u4e00\\u7ec4)\", \"x\": [\"9-1\", \"9-2\", \"9-3\", \"9-4\", \"10-2\", \"10-3\"], \"y\": [4, 4, 4, 4, 5, 5], \"type\": \"bar\", \"uid\": \"52257f60-d745-11e8-8ddb-a41f72875c19\"}], {\"barmode\": \"stack\", \"title\": \"\\u4eba\\u5458\\u5468\\u8d8b\\u52bf\\u56fe\", \"xaxis\": {\"mirror\": \"all\", \"nticks\": 20, \"showgrid\": true, \"showline\": true, \"title\": \"\\u5468\", \"type\": \"category\", \"zeroline\": true}, \"yaxis\": {\"mirror\": \"all\", \"nticks\": 20, \"showgrid\": true, \"showline\": true, \"title\": \"\\u4eba\\u5458\", \"zeroline\": true}}, {\"showLink\": true, \"linkText\": \"Export to plot.ly\"})});</script>"
      ]
     },
     "metadata": {},
     "output_type": "display_data"
    }
   ],
   "source": [
    "ss = myModule.format(all_df1 ,\"日期（格式“月-周次”）\" ,['人员'])\n",
    "ss.add_group('组别')\n",
    "myModule.myPlot(myModule.sort_by_index(ss.groupby('count'))).plot('stack_bar')"
   ]
  },
  {
   "cell_type": "markdown",
   "metadata": {},
   "source": [
    "# 产能情况"
   ]
  },
  {
   "cell_type": "markdown",
   "metadata": {},
   "source": [
    "## 总完成项目数情况"
   ]
  },
  {
   "cell_type": "markdown",
   "metadata": {},
   "source": [
    "### 分析组完成项目数"
   ]
  },
  {
   "cell_type": "code",
   "execution_count": 39,
   "metadata": {
    "collapsed": false
   },
   "outputs": [
    {
     "data": {
      "application/vnd.plotly.v1+json": {
       "data": [
        {
         "name": "完成个性化数",
         "type": "bar",
         "uid": "52257f61-d745-11e8-8ddb-a41f72875c19",
         "x": [
          "9-1",
          "9-2",
          "9-3",
          "9-4",
          "10-2",
          "10-3"
         ],
         "y": [
          31,
          39,
          41,
          28,
          24,
          39
         ]
        },
        {
         "name": "完成商业项目数",
         "type": "bar",
         "uid": "52257f62-d745-11e8-8ddb-a41f72875c19",
         "x": [
          "9-1",
          "9-2",
          "9-3",
          "9-4",
          "10-2",
          "10-3"
         ],
         "y": [
          26,
          40,
          23,
          28,
          27,
          27
         ]
        }
       ],
       "layout": {
        "barmode": "stack",
        "title": "完成个性化数&完成商业项目数周趋势图",
        "xaxis": {
         "mirror": "all",
         "nticks": 20,
         "showgrid": true,
         "showline": true,
         "title": "周",
         "type": "category",
         "zeroline": true
        },
        "yaxis": {
         "mirror": "all",
         "nticks": 20,
         "showgrid": true,
         "showline": true,
         "title": "完成个性化数&完成商业项目数",
         "zeroline": true
        }
       }
      },
      "text/html": [
       "<div id=\"febfbb51-ca82-4712-8fe3-ae0b4b3433c6\" style=\"height: 525px; width: 100%;\" class=\"plotly-graph-div\"></div><script type=\"text/javascript\">require([\"plotly\"], function(Plotly) { window.PLOTLYENV=window.PLOTLYENV || {};window.PLOTLYENV.BASE_URL=\"https://plot.ly\";Plotly.newPlot(\"febfbb51-ca82-4712-8fe3-ae0b4b3433c6\", [{\"name\": \"\\u5b8c\\u6210\\u4e2a\\u6027\\u5316\\u6570\", \"x\": [\"9-1\", \"9-2\", \"9-3\", \"9-4\", \"10-2\", \"10-3\"], \"y\": [31, 39, 41, 28, 24, 39], \"type\": \"bar\", \"uid\": \"52257f61-d745-11e8-8ddb-a41f72875c19\"}, {\"name\": \"\\u5b8c\\u6210\\u5546\\u4e1a\\u9879\\u76ee\\u6570\", \"x\": [\"9-1\", \"9-2\", \"9-3\", \"9-4\", \"10-2\", \"10-3\"], \"y\": [26, 40, 23, 28, 27, 27], \"type\": \"bar\", \"uid\": \"52257f62-d745-11e8-8ddb-a41f72875c19\"}], {\"barmode\": \"stack\", \"title\": \"\\u5b8c\\u6210\\u4e2a\\u6027\\u5316\\u6570&\\u5b8c\\u6210\\u5546\\u4e1a\\u9879\\u76ee\\u6570\\u5468\\u8d8b\\u52bf\\u56fe\", \"xaxis\": {\"mirror\": \"all\", \"nticks\": 20, \"showgrid\": true, \"showline\": true, \"title\": \"\\u5468\", \"type\": \"category\", \"zeroline\": true}, \"yaxis\": {\"mirror\": \"all\", \"nticks\": 20, \"showgrid\": true, \"showline\": true, \"title\": \"\\u5b8c\\u6210\\u4e2a\\u6027\\u5316\\u6570&\\u5b8c\\u6210\\u5546\\u4e1a\\u9879\\u76ee\\u6570\", \"zeroline\": true}}, {\"showLink\": true, \"linkText\": \"Export to plot.ly\"})});</script>"
      ],
      "text/vnd.plotly.v1+html": [
       "<div id=\"febfbb51-ca82-4712-8fe3-ae0b4b3433c6\" style=\"height: 525px; width: 100%;\" class=\"plotly-graph-div\"></div><script type=\"text/javascript\">require([\"plotly\"], function(Plotly) { window.PLOTLYENV=window.PLOTLYENV || {};window.PLOTLYENV.BASE_URL=\"https://plot.ly\";Plotly.newPlot(\"febfbb51-ca82-4712-8fe3-ae0b4b3433c6\", [{\"name\": \"\\u5b8c\\u6210\\u4e2a\\u6027\\u5316\\u6570\", \"x\": [\"9-1\", \"9-2\", \"9-3\", \"9-4\", \"10-2\", \"10-3\"], \"y\": [31, 39, 41, 28, 24, 39], \"type\": \"bar\", \"uid\": \"52257f61-d745-11e8-8ddb-a41f72875c19\"}, {\"name\": \"\\u5b8c\\u6210\\u5546\\u4e1a\\u9879\\u76ee\\u6570\", \"x\": [\"9-1\", \"9-2\", \"9-3\", \"9-4\", \"10-2\", \"10-3\"], \"y\": [26, 40, 23, 28, 27, 27], \"type\": \"bar\", \"uid\": \"52257f62-d745-11e8-8ddb-a41f72875c19\"}], {\"barmode\": \"stack\", \"title\": \"\\u5b8c\\u6210\\u4e2a\\u6027\\u5316\\u6570&\\u5b8c\\u6210\\u5546\\u4e1a\\u9879\\u76ee\\u6570\\u5468\\u8d8b\\u52bf\\u56fe\", \"xaxis\": {\"mirror\": \"all\", \"nticks\": 20, \"showgrid\": true, \"showline\": true, \"title\": \"\\u5468\", \"type\": \"category\", \"zeroline\": true}, \"yaxis\": {\"mirror\": \"all\", \"nticks\": 20, \"showgrid\": true, \"showline\": true, \"title\": \"\\u5b8c\\u6210\\u4e2a\\u6027\\u5316\\u6570&\\u5b8c\\u6210\\u5546\\u4e1a\\u9879\\u76ee\\u6570\", \"zeroline\": true}}, {\"showLink\": true, \"linkText\": \"Export to plot.ly\"})});</script>"
      ]
     },
     "metadata": {},
     "output_type": "display_data"
    },
    {
     "data": {
      "application/vnd.plotly.v1+json": {
       "data": [
        {
         "name": "完成个性化数",
         "type": "bar",
         "uid": "52257f63-d745-11e8-8ddb-a41f72875c19",
         "x": [
          9,
          10
         ],
         "y": [
          139,
          63
         ]
        },
        {
         "name": "完成商业项目数",
         "type": "bar",
         "uid": "52257f64-d745-11e8-8ddb-a41f72875c19",
         "x": [
          9,
          10
         ],
         "y": [
          117,
          54
         ]
        }
       ],
       "layout": {
        "barmode": "stack",
        "title": "完成个性化数&完成商业项目数月趋势图",
        "xaxis": {
         "mirror": "all",
         "nticks": 20,
         "showgrid": true,
         "showline": true,
         "title": "月",
         "type": "category",
         "zeroline": true
        },
        "yaxis": {
         "mirror": "all",
         "nticks": 20,
         "showgrid": true,
         "showline": true,
         "title": "完成个性化数&完成商业项目数",
         "zeroline": true
        }
       }
      },
      "text/html": [
       "<div id=\"72e7caf8-e31c-40da-975f-9f442e5ca902\" style=\"height: 525px; width: 100%;\" class=\"plotly-graph-div\"></div><script type=\"text/javascript\">require([\"plotly\"], function(Plotly) { window.PLOTLYENV=window.PLOTLYENV || {};window.PLOTLYENV.BASE_URL=\"https://plot.ly\";Plotly.newPlot(\"72e7caf8-e31c-40da-975f-9f442e5ca902\", [{\"name\": \"\\u5b8c\\u6210\\u4e2a\\u6027\\u5316\\u6570\", \"x\": [9, 10], \"y\": [139, 63], \"type\": \"bar\", \"uid\": \"52257f63-d745-11e8-8ddb-a41f72875c19\"}, {\"name\": \"\\u5b8c\\u6210\\u5546\\u4e1a\\u9879\\u76ee\\u6570\", \"x\": [9, 10], \"y\": [117, 54], \"type\": \"bar\", \"uid\": \"52257f64-d745-11e8-8ddb-a41f72875c19\"}], {\"barmode\": \"stack\", \"title\": \"\\u5b8c\\u6210\\u4e2a\\u6027\\u5316\\u6570&\\u5b8c\\u6210\\u5546\\u4e1a\\u9879\\u76ee\\u6570\\u6708\\u8d8b\\u52bf\\u56fe\", \"xaxis\": {\"mirror\": \"all\", \"nticks\": 20, \"showgrid\": true, \"showline\": true, \"title\": \"\\u6708\", \"type\": \"category\", \"zeroline\": true}, \"yaxis\": {\"mirror\": \"all\", \"nticks\": 20, \"showgrid\": true, \"showline\": true, \"title\": \"\\u5b8c\\u6210\\u4e2a\\u6027\\u5316\\u6570&\\u5b8c\\u6210\\u5546\\u4e1a\\u9879\\u76ee\\u6570\", \"zeroline\": true}}, {\"showLink\": true, \"linkText\": \"Export to plot.ly\"})});</script>"
      ],
      "text/vnd.plotly.v1+html": [
       "<div id=\"72e7caf8-e31c-40da-975f-9f442e5ca902\" style=\"height: 525px; width: 100%;\" class=\"plotly-graph-div\"></div><script type=\"text/javascript\">require([\"plotly\"], function(Plotly) { window.PLOTLYENV=window.PLOTLYENV || {};window.PLOTLYENV.BASE_URL=\"https://plot.ly\";Plotly.newPlot(\"72e7caf8-e31c-40da-975f-9f442e5ca902\", [{\"name\": \"\\u5b8c\\u6210\\u4e2a\\u6027\\u5316\\u6570\", \"x\": [9, 10], \"y\": [139, 63], \"type\": \"bar\", \"uid\": \"52257f63-d745-11e8-8ddb-a41f72875c19\"}, {\"name\": \"\\u5b8c\\u6210\\u5546\\u4e1a\\u9879\\u76ee\\u6570\", \"x\": [9, 10], \"y\": [117, 54], \"type\": \"bar\", \"uid\": \"52257f64-d745-11e8-8ddb-a41f72875c19\"}], {\"barmode\": \"stack\", \"title\": \"\\u5b8c\\u6210\\u4e2a\\u6027\\u5316\\u6570&\\u5b8c\\u6210\\u5546\\u4e1a\\u9879\\u76ee\\u6570\\u6708\\u8d8b\\u52bf\\u56fe\", \"xaxis\": {\"mirror\": \"all\", \"nticks\": 20, \"showgrid\": true, \"showline\": true, \"title\": \"\\u6708\", \"type\": \"category\", \"zeroline\": true}, \"yaxis\": {\"mirror\": \"all\", \"nticks\": 20, \"showgrid\": true, \"showline\": true, \"title\": \"\\u5b8c\\u6210\\u4e2a\\u6027\\u5316\\u6570&\\u5b8c\\u6210\\u5546\\u4e1a\\u9879\\u76ee\\u6570\", \"zeroline\": true}}, {\"showLink\": true, \"linkText\": \"Export to plot.ly\"})});</script>"
      ]
     },
     "metadata": {},
     "output_type": "display_data"
    }
   ],
   "source": [
    "ss = myModule.format(all_df1 ,\"日期（格式“月-周次”）\" ,['完成商业项目数','完成个性化数'])\n",
    "myModule.myPlot(myModule.sort_by_index(ss.groupby('sum'))).plot('stack_bar')\n",
    "ss = myModule.format(all_df1 ,\"month\" ,['完成商业项目数','完成个性化数'])\n",
    "myModule.myPlot(ss.groupby('sum')).plot('stack_bar',\"月\")"
   ]
  },
  {
   "cell_type": "markdown",
   "metadata": {},
   "source": [
    "### 项目组成情况"
   ]
  },
  {
   "cell_type": "code",
   "execution_count": 40,
   "metadata": {
    "collapsed": false,
    "scrolled": false
   },
   "outputs": [
    {
     "data": {
      "application/vnd.plotly.v1+json": {
       "data": [
        {
         "name": "完成联合分析项目数",
         "type": "bar",
         "uid": "52257f65-d745-11e8-8ddb-a41f72875c19",
         "x": [
          "9-1",
          "9-2",
          "9-3",
          "9-4",
          "10-2",
          "10-3"
         ],
         "y": [
          4,
          3,
          3,
          0,
          2,
          4
         ]
        },
        {
         "name": "完成只分析项目数",
         "type": "bar",
         "uid": "52257f66-d745-11e8-8ddb-a41f72875c19",
         "x": [
          "9-1",
          "9-2",
          "9-3",
          "9-4",
          "10-2",
          "10-3"
         ],
         "y": [
          2,
          9,
          6,
          4,
          5,
          6
         ]
        },
        {
         "name": "完成非流水线项目数",
         "type": "bar",
         "uid": "52257f67-d745-11e8-8ddb-a41f72875c19",
         "x": [
          "9-1",
          "9-2",
          "9-3",
          "9-4",
          "10-2",
          "10-3"
         ],
         "y": [
          10,
          14,
          10,
          14,
          9,
          8
         ]
        },
        {
         "name": "完成流水线项目数",
         "type": "bar",
         "uid": "52257f68-d745-11e8-8ddb-a41f72875c19",
         "x": [
          "9-1",
          "9-2",
          "9-3",
          "9-4",
          "10-2",
          "10-3"
         ],
         "y": [
          10,
          14,
          4,
          10,
          11,
          9
         ]
        }
       ],
       "layout": {
        "barmode": "stack",
        "title": "项目组成情况",
        "xaxis": {
         "mirror": "all",
         "nticks": 20,
         "showgrid": true,
         "showline": true,
         "title": "周",
         "type": "category",
         "zeroline": true
        },
        "yaxis": {
         "mirror": "all",
         "nticks": 20,
         "showgrid": true,
         "showline": true,
         "title": "完成联合分析项目数&完成只分析项目数&完成非流水线项目数&完成流水线项目数",
         "zeroline": true
        }
       }
      },
      "text/html": [
       "<div id=\"ada88d9e-20e6-49ad-afc6-1f7b93f12b1f\" style=\"height: 525px; width: 100%;\" class=\"plotly-graph-div\"></div><script type=\"text/javascript\">require([\"plotly\"], function(Plotly) { window.PLOTLYENV=window.PLOTLYENV || {};window.PLOTLYENV.BASE_URL=\"https://plot.ly\";Plotly.newPlot(\"ada88d9e-20e6-49ad-afc6-1f7b93f12b1f\", [{\"name\": \"\\u5b8c\\u6210\\u8054\\u5408\\u5206\\u6790\\u9879\\u76ee\\u6570\", \"x\": [\"9-1\", \"9-2\", \"9-3\", \"9-4\", \"10-2\", \"10-3\"], \"y\": [4, 3, 3, 0, 2, 4], \"type\": \"bar\", \"uid\": \"52257f65-d745-11e8-8ddb-a41f72875c19\"}, {\"name\": \"\\u5b8c\\u6210\\u53ea\\u5206\\u6790\\u9879\\u76ee\\u6570\", \"x\": [\"9-1\", \"9-2\", \"9-3\", \"9-4\", \"10-2\", \"10-3\"], \"y\": [2, 9, 6, 4, 5, 6], \"type\": \"bar\", \"uid\": \"52257f66-d745-11e8-8ddb-a41f72875c19\"}, {\"name\": \"\\u5b8c\\u6210\\u975e\\u6d41\\u6c34\\u7ebf\\u9879\\u76ee\\u6570\", \"x\": [\"9-1\", \"9-2\", \"9-3\", \"9-4\", \"10-2\", \"10-3\"], \"y\": [10, 14, 10, 14, 9, 8], \"type\": \"bar\", \"uid\": \"52257f67-d745-11e8-8ddb-a41f72875c19\"}, {\"name\": \"\\u5b8c\\u6210\\u6d41\\u6c34\\u7ebf\\u9879\\u76ee\\u6570\", \"x\": [\"9-1\", \"9-2\", \"9-3\", \"9-4\", \"10-2\", \"10-3\"], \"y\": [10, 14, 4, 10, 11, 9], \"type\": \"bar\", \"uid\": \"52257f68-d745-11e8-8ddb-a41f72875c19\"}], {\"barmode\": \"stack\", \"title\": \"\\u9879\\u76ee\\u7ec4\\u6210\\u60c5\\u51b5\", \"xaxis\": {\"mirror\": \"all\", \"nticks\": 20, \"showgrid\": true, \"showline\": true, \"title\": \"\\u5468\", \"type\": \"category\", \"zeroline\": true}, \"yaxis\": {\"mirror\": \"all\", \"nticks\": 20, \"showgrid\": true, \"showline\": true, \"title\": \"\\u5b8c\\u6210\\u8054\\u5408\\u5206\\u6790\\u9879\\u76ee\\u6570&\\u5b8c\\u6210\\u53ea\\u5206\\u6790\\u9879\\u76ee\\u6570&\\u5b8c\\u6210\\u975e\\u6d41\\u6c34\\u7ebf\\u9879\\u76ee\\u6570&\\u5b8c\\u6210\\u6d41\\u6c34\\u7ebf\\u9879\\u76ee\\u6570\", \"zeroline\": true}}, {\"showLink\": true, \"linkText\": \"Export to plot.ly\"})});</script>"
      ],
      "text/vnd.plotly.v1+html": [
       "<div id=\"ada88d9e-20e6-49ad-afc6-1f7b93f12b1f\" style=\"height: 525px; width: 100%;\" class=\"plotly-graph-div\"></div><script type=\"text/javascript\">require([\"plotly\"], function(Plotly) { window.PLOTLYENV=window.PLOTLYENV || {};window.PLOTLYENV.BASE_URL=\"https://plot.ly\";Plotly.newPlot(\"ada88d9e-20e6-49ad-afc6-1f7b93f12b1f\", [{\"name\": \"\\u5b8c\\u6210\\u8054\\u5408\\u5206\\u6790\\u9879\\u76ee\\u6570\", \"x\": [\"9-1\", \"9-2\", \"9-3\", \"9-4\", \"10-2\", \"10-3\"], \"y\": [4, 3, 3, 0, 2, 4], \"type\": \"bar\", \"uid\": \"52257f65-d745-11e8-8ddb-a41f72875c19\"}, {\"name\": \"\\u5b8c\\u6210\\u53ea\\u5206\\u6790\\u9879\\u76ee\\u6570\", \"x\": [\"9-1\", \"9-2\", \"9-3\", \"9-4\", \"10-2\", \"10-3\"], \"y\": [2, 9, 6, 4, 5, 6], \"type\": \"bar\", \"uid\": \"52257f66-d745-11e8-8ddb-a41f72875c19\"}, {\"name\": \"\\u5b8c\\u6210\\u975e\\u6d41\\u6c34\\u7ebf\\u9879\\u76ee\\u6570\", \"x\": [\"9-1\", \"9-2\", \"9-3\", \"9-4\", \"10-2\", \"10-3\"], \"y\": [10, 14, 10, 14, 9, 8], \"type\": \"bar\", \"uid\": \"52257f67-d745-11e8-8ddb-a41f72875c19\"}, {\"name\": \"\\u5b8c\\u6210\\u6d41\\u6c34\\u7ebf\\u9879\\u76ee\\u6570\", \"x\": [\"9-1\", \"9-2\", \"9-3\", \"9-4\", \"10-2\", \"10-3\"], \"y\": [10, 14, 4, 10, 11, 9], \"type\": \"bar\", \"uid\": \"52257f68-d745-11e8-8ddb-a41f72875c19\"}], {\"barmode\": \"stack\", \"title\": \"\\u9879\\u76ee\\u7ec4\\u6210\\u60c5\\u51b5\", \"xaxis\": {\"mirror\": \"all\", \"nticks\": 20, \"showgrid\": true, \"showline\": true, \"title\": \"\\u5468\", \"type\": \"category\", \"zeroline\": true}, \"yaxis\": {\"mirror\": \"all\", \"nticks\": 20, \"showgrid\": true, \"showline\": true, \"title\": \"\\u5b8c\\u6210\\u8054\\u5408\\u5206\\u6790\\u9879\\u76ee\\u6570&\\u5b8c\\u6210\\u53ea\\u5206\\u6790\\u9879\\u76ee\\u6570&\\u5b8c\\u6210\\u975e\\u6d41\\u6c34\\u7ebf\\u9879\\u76ee\\u6570&\\u5b8c\\u6210\\u6d41\\u6c34\\u7ebf\\u9879\\u76ee\\u6570\", \"zeroline\": true}}, {\"showLink\": true, \"linkText\": \"Export to plot.ly\"})});</script>"
      ]
     },
     "metadata": {},
     "output_type": "display_data"
    },
    {
     "data": {
      "application/vnd.plotly.v1+json": {
       "data": [
        {
         "name": "完成联合分析项目数",
         "type": "bar",
         "uid": "52257f69-d745-11e8-8ddb-a41f72875c19",
         "x": [
          9,
          10
         ],
         "y": [
          10,
          6
         ]
        },
        {
         "name": "完成只分析项目数",
         "type": "bar",
         "uid": "52257f6a-d745-11e8-8ddb-a41f72875c19",
         "x": [
          9,
          10
         ],
         "y": [
          21,
          11
         ]
        },
        {
         "name": "完成非流水线项目数",
         "type": "bar",
         "uid": "52257f6b-d745-11e8-8ddb-a41f72875c19",
         "x": [
          9,
          10
         ],
         "y": [
          48,
          17
         ]
        },
        {
         "name": "完成流水线项目数",
         "type": "bar",
         "uid": "52257f6c-d745-11e8-8ddb-a41f72875c19",
         "x": [
          9,
          10
         ],
         "y": [
          38,
          20
         ]
        }
       ],
       "layout": {
        "barmode": "stack",
        "title": "项目组成情况",
        "xaxis": {
         "mirror": "all",
         "nticks": 20,
         "showgrid": true,
         "showline": true,
         "title": "月",
         "type": "category",
         "zeroline": true
        },
        "yaxis": {
         "mirror": "all",
         "nticks": 20,
         "showgrid": true,
         "showline": true,
         "title": "完成联合分析项目数&完成只分析项目数&完成非流水线项目数&完成流水线项目数",
         "zeroline": true
        }
       }
      },
      "text/html": [
       "<div id=\"6cf028b7-f681-4e70-b4fe-c96b941f6723\" style=\"height: 525px; width: 100%;\" class=\"plotly-graph-div\"></div><script type=\"text/javascript\">require([\"plotly\"], function(Plotly) { window.PLOTLYENV=window.PLOTLYENV || {};window.PLOTLYENV.BASE_URL=\"https://plot.ly\";Plotly.newPlot(\"6cf028b7-f681-4e70-b4fe-c96b941f6723\", [{\"name\": \"\\u5b8c\\u6210\\u8054\\u5408\\u5206\\u6790\\u9879\\u76ee\\u6570\", \"x\": [9, 10], \"y\": [10, 6], \"type\": \"bar\", \"uid\": \"52257f69-d745-11e8-8ddb-a41f72875c19\"}, {\"name\": \"\\u5b8c\\u6210\\u53ea\\u5206\\u6790\\u9879\\u76ee\\u6570\", \"x\": [9, 10], \"y\": [21, 11], \"type\": \"bar\", \"uid\": \"52257f6a-d745-11e8-8ddb-a41f72875c19\"}, {\"name\": \"\\u5b8c\\u6210\\u975e\\u6d41\\u6c34\\u7ebf\\u9879\\u76ee\\u6570\", \"x\": [9, 10], \"y\": [48, 17], \"type\": \"bar\", \"uid\": \"52257f6b-d745-11e8-8ddb-a41f72875c19\"}, {\"name\": \"\\u5b8c\\u6210\\u6d41\\u6c34\\u7ebf\\u9879\\u76ee\\u6570\", \"x\": [9, 10], \"y\": [38, 20], \"type\": \"bar\", \"uid\": \"52257f6c-d745-11e8-8ddb-a41f72875c19\"}], {\"barmode\": \"stack\", \"title\": \"\\u9879\\u76ee\\u7ec4\\u6210\\u60c5\\u51b5\", \"xaxis\": {\"mirror\": \"all\", \"nticks\": 20, \"showgrid\": true, \"showline\": true, \"title\": \"\\u6708\", \"type\": \"category\", \"zeroline\": true}, \"yaxis\": {\"mirror\": \"all\", \"nticks\": 20, \"showgrid\": true, \"showline\": true, \"title\": \"\\u5b8c\\u6210\\u8054\\u5408\\u5206\\u6790\\u9879\\u76ee\\u6570&\\u5b8c\\u6210\\u53ea\\u5206\\u6790\\u9879\\u76ee\\u6570&\\u5b8c\\u6210\\u975e\\u6d41\\u6c34\\u7ebf\\u9879\\u76ee\\u6570&\\u5b8c\\u6210\\u6d41\\u6c34\\u7ebf\\u9879\\u76ee\\u6570\", \"zeroline\": true}}, {\"showLink\": true, \"linkText\": \"Export to plot.ly\"})});</script>"
      ],
      "text/vnd.plotly.v1+html": [
       "<div id=\"6cf028b7-f681-4e70-b4fe-c96b941f6723\" style=\"height: 525px; width: 100%;\" class=\"plotly-graph-div\"></div><script type=\"text/javascript\">require([\"plotly\"], function(Plotly) { window.PLOTLYENV=window.PLOTLYENV || {};window.PLOTLYENV.BASE_URL=\"https://plot.ly\";Plotly.newPlot(\"6cf028b7-f681-4e70-b4fe-c96b941f6723\", [{\"name\": \"\\u5b8c\\u6210\\u8054\\u5408\\u5206\\u6790\\u9879\\u76ee\\u6570\", \"x\": [9, 10], \"y\": [10, 6], \"type\": \"bar\", \"uid\": \"52257f69-d745-11e8-8ddb-a41f72875c19\"}, {\"name\": \"\\u5b8c\\u6210\\u53ea\\u5206\\u6790\\u9879\\u76ee\\u6570\", \"x\": [9, 10], \"y\": [21, 11], \"type\": \"bar\", \"uid\": \"52257f6a-d745-11e8-8ddb-a41f72875c19\"}, {\"name\": \"\\u5b8c\\u6210\\u975e\\u6d41\\u6c34\\u7ebf\\u9879\\u76ee\\u6570\", \"x\": [9, 10], \"y\": [48, 17], \"type\": \"bar\", \"uid\": \"52257f6b-d745-11e8-8ddb-a41f72875c19\"}, {\"name\": \"\\u5b8c\\u6210\\u6d41\\u6c34\\u7ebf\\u9879\\u76ee\\u6570\", \"x\": [9, 10], \"y\": [38, 20], \"type\": \"bar\", \"uid\": \"52257f6c-d745-11e8-8ddb-a41f72875c19\"}], {\"barmode\": \"stack\", \"title\": \"\\u9879\\u76ee\\u7ec4\\u6210\\u60c5\\u51b5\", \"xaxis\": {\"mirror\": \"all\", \"nticks\": 20, \"showgrid\": true, \"showline\": true, \"title\": \"\\u6708\", \"type\": \"category\", \"zeroline\": true}, \"yaxis\": {\"mirror\": \"all\", \"nticks\": 20, \"showgrid\": true, \"showline\": true, \"title\": \"\\u5b8c\\u6210\\u8054\\u5408\\u5206\\u6790\\u9879\\u76ee\\u6570&\\u5b8c\\u6210\\u53ea\\u5206\\u6790\\u9879\\u76ee\\u6570&\\u5b8c\\u6210\\u975e\\u6d41\\u6c34\\u7ebf\\u9879\\u76ee\\u6570&\\u5b8c\\u6210\\u6d41\\u6c34\\u7ebf\\u9879\\u76ee\\u6570\", \"zeroline\": true}}, {\"showLink\": true, \"linkText\": \"Export to plot.ly\"})});</script>"
      ]
     },
     "metadata": {},
     "output_type": "display_data"
    }
   ],
   "source": [
    "ss = myModule.format(all_df1 ,\"日期（格式“月-周次”）\" ,['完成流水线项目数','完成非流水线项目数','完成只分析项目数','完成联合分析项目数'])\n",
    "myModule.myPlot(myModule.sort_by_index(ss.groupby('sum'))).plot('stack_bar',fig_title='项目组成情况')\n",
    "ss = myModule.format(all_df1 ,\"month\" ,['完成流水线项目数','完成非流水线项目数','完成只分析项目数','完成联合分析项目数'])\n",
    "myModule.myPlot(ss.groupby('sum')).plot('stack_bar',\"月\",fig_title='项目组成情况')"
   ]
  },
  {
   "cell_type": "markdown",
   "metadata": {},
   "source": [
    "### 各组总完成项目趋势图"
   ]
  },
  {
   "cell_type": "code",
   "execution_count": 41,
   "metadata": {
    "collapsed": false
   },
   "outputs": [
    {
     "data": {
      "application/vnd.plotly.v1+json": {
       "data": [
        {
         "line": {
          "dash": "solid"
         },
         "name": "完成项目总数(个性化组)",
         "type": "scatter",
         "uid": "52257f6d-d745-11e8-8ddb-a41f72875c19",
         "x": [
          "9-1",
          "9-2",
          "9-3",
          "9-4",
          "10-2",
          "10-3"
         ],
         "y": [
          18,
          14,
          13,
          14,
          9,
          18
         ]
        },
        {
         "line": {
          "dash": "dot"
         },
         "name": "完成项目总数(分析二组)",
         "type": "scatter",
         "uid": "52257f6e-d745-11e8-8ddb-a41f72875c19",
         "x": [
          "9-1",
          "9-2",
          "9-3",
          "9-4",
          "10-2",
          "10-3"
         ],
         "y": [
          28,
          50,
          42,
          32,
          19,
          19
         ]
        },
        {
         "line": {
          "dash": "dash"
         },
         "name": "完成项目总数(分析一组)",
         "type": "scatter",
         "uid": "52257f6f-d745-11e8-8ddb-a41f72875c19",
         "x": [
          "9-1",
          "9-2",
          "9-3",
          "9-4",
          "10-2",
          "10-3"
         ],
         "y": [
          11,
          15,
          9,
          10,
          23,
          29
         ]
        }
       ],
       "layout": {
        "title": "完成项目总数周趋势图",
        "xaxis": {
         "mirror": "all",
         "nticks": 20,
         "showgrid": true,
         "showline": true,
         "title": "周",
         "type": "category",
         "zeroline": true
        },
        "yaxis": {
         "mirror": "all",
         "nticks": 20,
         "showgrid": true,
         "showline": true,
         "title": "完成项目总数",
         "zeroline": true
        }
       }
      },
      "text/html": [
       "<div id=\"7b89b53d-9e64-4709-83d9-c09045f472f7\" style=\"height: 525px; width: 100%;\" class=\"plotly-graph-div\"></div><script type=\"text/javascript\">require([\"plotly\"], function(Plotly) { window.PLOTLYENV=window.PLOTLYENV || {};window.PLOTLYENV.BASE_URL=\"https://plot.ly\";Plotly.newPlot(\"7b89b53d-9e64-4709-83d9-c09045f472f7\", [{\"line\": {\"dash\": \"solid\"}, \"name\": \"\\u5b8c\\u6210\\u9879\\u76ee\\u603b\\u6570(\\u4e2a\\u6027\\u5316\\u7ec4)\", \"x\": [\"9-1\", \"9-2\", \"9-3\", \"9-4\", \"10-2\", \"10-3\"], \"y\": [18, 14, 13, 14, 9, 18], \"type\": \"scatter\", \"uid\": \"52257f6d-d745-11e8-8ddb-a41f72875c19\"}, {\"line\": {\"dash\": \"dot\"}, \"name\": \"\\u5b8c\\u6210\\u9879\\u76ee\\u603b\\u6570(\\u5206\\u6790\\u4e8c\\u7ec4)\", \"x\": [\"9-1\", \"9-2\", \"9-3\", \"9-4\", \"10-2\", \"10-3\"], \"y\": [28, 50, 42, 32, 19, 19], \"type\": \"scatter\", \"uid\": \"52257f6e-d745-11e8-8ddb-a41f72875c19\"}, {\"line\": {\"dash\": \"dash\"}, \"name\": \"\\u5b8c\\u6210\\u9879\\u76ee\\u603b\\u6570(\\u5206\\u6790\\u4e00\\u7ec4)\", \"x\": [\"9-1\", \"9-2\", \"9-3\", \"9-4\", \"10-2\", \"10-3\"], \"y\": [11, 15, 9, 10, 23, 29], \"type\": \"scatter\", \"uid\": \"52257f6f-d745-11e8-8ddb-a41f72875c19\"}], {\"title\": \"\\u5b8c\\u6210\\u9879\\u76ee\\u603b\\u6570\\u5468\\u8d8b\\u52bf\\u56fe\", \"xaxis\": {\"mirror\": \"all\", \"nticks\": 20, \"showgrid\": true, \"showline\": true, \"title\": \"\\u5468\", \"type\": \"category\", \"zeroline\": true}, \"yaxis\": {\"mirror\": \"all\", \"nticks\": 20, \"showgrid\": true, \"showline\": true, \"title\": \"\\u5b8c\\u6210\\u9879\\u76ee\\u603b\\u6570\", \"zeroline\": true}}, {\"showLink\": true, \"linkText\": \"Export to plot.ly\"})});</script>"
      ],
      "text/vnd.plotly.v1+html": [
       "<div id=\"7b89b53d-9e64-4709-83d9-c09045f472f7\" style=\"height: 525px; width: 100%;\" class=\"plotly-graph-div\"></div><script type=\"text/javascript\">require([\"plotly\"], function(Plotly) { window.PLOTLYENV=window.PLOTLYENV || {};window.PLOTLYENV.BASE_URL=\"https://plot.ly\";Plotly.newPlot(\"7b89b53d-9e64-4709-83d9-c09045f472f7\", [{\"line\": {\"dash\": \"solid\"}, \"name\": \"\\u5b8c\\u6210\\u9879\\u76ee\\u603b\\u6570(\\u4e2a\\u6027\\u5316\\u7ec4)\", \"x\": [\"9-1\", \"9-2\", \"9-3\", \"9-4\", \"10-2\", \"10-3\"], \"y\": [18, 14, 13, 14, 9, 18], \"type\": \"scatter\", \"uid\": \"52257f6d-d745-11e8-8ddb-a41f72875c19\"}, {\"line\": {\"dash\": \"dot\"}, \"name\": \"\\u5b8c\\u6210\\u9879\\u76ee\\u603b\\u6570(\\u5206\\u6790\\u4e8c\\u7ec4)\", \"x\": [\"9-1\", \"9-2\", \"9-3\", \"9-4\", \"10-2\", \"10-3\"], \"y\": [28, 50, 42, 32, 19, 19], \"type\": \"scatter\", \"uid\": \"52257f6e-d745-11e8-8ddb-a41f72875c19\"}, {\"line\": {\"dash\": \"dash\"}, \"name\": \"\\u5b8c\\u6210\\u9879\\u76ee\\u603b\\u6570(\\u5206\\u6790\\u4e00\\u7ec4)\", \"x\": [\"9-1\", \"9-2\", \"9-3\", \"9-4\", \"10-2\", \"10-3\"], \"y\": [11, 15, 9, 10, 23, 29], \"type\": \"scatter\", \"uid\": \"52257f6f-d745-11e8-8ddb-a41f72875c19\"}], {\"title\": \"\\u5b8c\\u6210\\u9879\\u76ee\\u603b\\u6570\\u5468\\u8d8b\\u52bf\\u56fe\", \"xaxis\": {\"mirror\": \"all\", \"nticks\": 20, \"showgrid\": true, \"showline\": true, \"title\": \"\\u5468\", \"type\": \"category\", \"zeroline\": true}, \"yaxis\": {\"mirror\": \"all\", \"nticks\": 20, \"showgrid\": true, \"showline\": true, \"title\": \"\\u5b8c\\u6210\\u9879\\u76ee\\u603b\\u6570\", \"zeroline\": true}}, {\"showLink\": true, \"linkText\": \"Export to plot.ly\"})});</script>"
      ]
     },
     "metadata": {},
     "output_type": "display_data"
    }
   ],
   "source": [
    "ss = myModule.format(all_df1 ,\"日期（格式“月-周次”）\" ,['完成项目总数'])\n",
    "ss.add_group('组别')\n",
    "#ss.get_average_by('人员')\n",
    "tt = myModule.sort_by_index(ss.groupby('sum'))\n",
    "tt\n",
    "myModule.myPlot(myModule.sort_by_index(ss.groupby('sum'))).plot('line')\n",
    "#ss = myModule.format(all_df1 ,\"month\" ,['完成项目总数'])\n",
    "#ss.add_group('组别')\n",
    "#ss.get_average_by('人员')\n",
    "#myModule.myPlot(ss.groupby('sum')).plot('line',\"月\")"
   ]
  },
  {
   "cell_type": "markdown",
   "metadata": {},
   "source": [
    "### 各组完成组成比例展示"
   ]
  },
  {
   "cell_type": "code",
   "execution_count": 42,
   "metadata": {
    "collapsed": false
   },
   "outputs": [
    {
     "data": {
      "application/vnd.plotly.v1+json": {
       "data": [
        {
         "line": {
          "dash": "solid"
         },
         "name": "完成个性化数(个性化组)",
         "type": "scatter",
         "uid": "52257f70-d745-11e8-8ddb-a41f72875c19",
         "x": [
          "9-1",
          "9-2",
          "9-3",
          "9-4",
          "10-2",
          "10-3"
         ],
         "y": [
          18,
          14,
          13,
          14,
          8,
          17
         ]
        },
        {
         "line": {
          "dash": "dot"
         },
         "name": "完成个性化数(分析二组)",
         "type": "scatter",
         "uid": "52257f71-d745-11e8-8ddb-a41f72875c19",
         "x": [
          "9-1",
          "9-2",
          "9-3",
          "9-4",
          "10-2",
          "10-3"
         ],
         "y": [
          8,
          21,
          25,
          10,
          8,
          6
         ]
        },
        {
         "line": {
          "dash": "dash"
         },
         "name": "完成个性化数(分析一组)",
         "type": "scatter",
         "uid": "52257f72-d745-11e8-8ddb-a41f72875c19",
         "x": [
          "9-1",
          "9-2",
          "9-3",
          "9-4",
          "10-2",
          "10-3"
         ],
         "y": [
          5,
          4,
          3,
          4,
          8,
          16
         ]
        },
        {
         "line": {
          "dash": "solid"
         },
         "name": "完成商业项目数(个性化组)",
         "type": "scatter",
         "uid": "52257f73-d745-11e8-8ddb-a41f72875c19",
         "x": [
          "9-1",
          "9-2",
          "9-3",
          "9-4",
          "10-2",
          "10-3"
         ],
         "y": [
          0,
          0,
          0,
          0,
          1,
          1
         ]
        },
        {
         "line": {
          "dash": "dot"
         },
         "name": "完成商业项目数(分析二组)",
         "type": "scatter",
         "uid": "52257f74-d745-11e8-8ddb-a41f72875c19",
         "x": [
          "9-1",
          "9-2",
          "9-3",
          "9-4",
          "10-2",
          "10-3"
         ],
         "y": [
          20,
          29,
          17,
          22,
          11,
          13
         ]
        },
        {
         "line": {
          "dash": "dash"
         },
         "name": "完成商业项目数(分析一组)",
         "type": "scatter",
         "uid": "52257f75-d745-11e8-8ddb-a41f72875c19",
         "x": [
          "9-1",
          "9-2",
          "9-3",
          "9-4",
          "10-2",
          "10-3"
         ],
         "y": [
          6,
          11,
          6,
          6,
          15,
          13
         ]
        }
       ],
       "layout": {
        "title": "完成个性化数&完成商业项目数周趋势图",
        "xaxis": {
         "mirror": "all",
         "nticks": 20,
         "showgrid": true,
         "showline": true,
         "title": "周",
         "type": "category",
         "zeroline": true
        },
        "yaxis": {
         "mirror": "all",
         "nticks": 20,
         "showgrid": true,
         "showline": true,
         "title": "完成个性化数&完成商业项目数",
         "zeroline": true
        }
       }
      },
      "text/html": [
       "<div id=\"0eb0e34b-754a-4e7f-af2f-3ebac852359b\" style=\"height: 525px; width: 100%;\" class=\"plotly-graph-div\"></div><script type=\"text/javascript\">require([\"plotly\"], function(Plotly) { window.PLOTLYENV=window.PLOTLYENV || {};window.PLOTLYENV.BASE_URL=\"https://plot.ly\";Plotly.newPlot(\"0eb0e34b-754a-4e7f-af2f-3ebac852359b\", [{\"line\": {\"dash\": \"solid\"}, \"name\": \"\\u5b8c\\u6210\\u4e2a\\u6027\\u5316\\u6570(\\u4e2a\\u6027\\u5316\\u7ec4)\", \"x\": [\"9-1\", \"9-2\", \"9-3\", \"9-4\", \"10-2\", \"10-3\"], \"y\": [18, 14, 13, 14, 8, 17], \"type\": \"scatter\", \"uid\": \"52257f70-d745-11e8-8ddb-a41f72875c19\"}, {\"line\": {\"dash\": \"dot\"}, \"name\": \"\\u5b8c\\u6210\\u4e2a\\u6027\\u5316\\u6570(\\u5206\\u6790\\u4e8c\\u7ec4)\", \"x\": [\"9-1\", \"9-2\", \"9-3\", \"9-4\", \"10-2\", \"10-3\"], \"y\": [8, 21, 25, 10, 8, 6], \"type\": \"scatter\", \"uid\": \"52257f71-d745-11e8-8ddb-a41f72875c19\"}, {\"line\": {\"dash\": \"dash\"}, \"name\": \"\\u5b8c\\u6210\\u4e2a\\u6027\\u5316\\u6570(\\u5206\\u6790\\u4e00\\u7ec4)\", \"x\": [\"9-1\", \"9-2\", \"9-3\", \"9-4\", \"10-2\", \"10-3\"], \"y\": [5, 4, 3, 4, 8, 16], \"type\": \"scatter\", \"uid\": \"52257f72-d745-11e8-8ddb-a41f72875c19\"}, {\"line\": {\"dash\": \"solid\"}, \"name\": \"\\u5b8c\\u6210\\u5546\\u4e1a\\u9879\\u76ee\\u6570(\\u4e2a\\u6027\\u5316\\u7ec4)\", \"x\": [\"9-1\", \"9-2\", \"9-3\", \"9-4\", \"10-2\", \"10-3\"], \"y\": [0, 0, 0, 0, 1, 1], \"type\": \"scatter\", \"uid\": \"52257f73-d745-11e8-8ddb-a41f72875c19\"}, {\"line\": {\"dash\": \"dot\"}, \"name\": \"\\u5b8c\\u6210\\u5546\\u4e1a\\u9879\\u76ee\\u6570(\\u5206\\u6790\\u4e8c\\u7ec4)\", \"x\": [\"9-1\", \"9-2\", \"9-3\", \"9-4\", \"10-2\", \"10-3\"], \"y\": [20, 29, 17, 22, 11, 13], \"type\": \"scatter\", \"uid\": \"52257f74-d745-11e8-8ddb-a41f72875c19\"}, {\"line\": {\"dash\": \"dash\"}, \"name\": \"\\u5b8c\\u6210\\u5546\\u4e1a\\u9879\\u76ee\\u6570(\\u5206\\u6790\\u4e00\\u7ec4)\", \"x\": [\"9-1\", \"9-2\", \"9-3\", \"9-4\", \"10-2\", \"10-3\"], \"y\": [6, 11, 6, 6, 15, 13], \"type\": \"scatter\", \"uid\": \"52257f75-d745-11e8-8ddb-a41f72875c19\"}], {\"title\": \"\\u5b8c\\u6210\\u4e2a\\u6027\\u5316\\u6570&\\u5b8c\\u6210\\u5546\\u4e1a\\u9879\\u76ee\\u6570\\u5468\\u8d8b\\u52bf\\u56fe\", \"xaxis\": {\"mirror\": \"all\", \"nticks\": 20, \"showgrid\": true, \"showline\": true, \"title\": \"\\u5468\", \"type\": \"category\", \"zeroline\": true}, \"yaxis\": {\"mirror\": \"all\", \"nticks\": 20, \"showgrid\": true, \"showline\": true, \"title\": \"\\u5b8c\\u6210\\u4e2a\\u6027\\u5316\\u6570&\\u5b8c\\u6210\\u5546\\u4e1a\\u9879\\u76ee\\u6570\", \"zeroline\": true}}, {\"showLink\": true, \"linkText\": \"Export to plot.ly\"})});</script>"
      ],
      "text/vnd.plotly.v1+html": [
       "<div id=\"0eb0e34b-754a-4e7f-af2f-3ebac852359b\" style=\"height: 525px; width: 100%;\" class=\"plotly-graph-div\"></div><script type=\"text/javascript\">require([\"plotly\"], function(Plotly) { window.PLOTLYENV=window.PLOTLYENV || {};window.PLOTLYENV.BASE_URL=\"https://plot.ly\";Plotly.newPlot(\"0eb0e34b-754a-4e7f-af2f-3ebac852359b\", [{\"line\": {\"dash\": \"solid\"}, \"name\": \"\\u5b8c\\u6210\\u4e2a\\u6027\\u5316\\u6570(\\u4e2a\\u6027\\u5316\\u7ec4)\", \"x\": [\"9-1\", \"9-2\", \"9-3\", \"9-4\", \"10-2\", \"10-3\"], \"y\": [18, 14, 13, 14, 8, 17], \"type\": \"scatter\", \"uid\": \"52257f70-d745-11e8-8ddb-a41f72875c19\"}, {\"line\": {\"dash\": \"dot\"}, \"name\": \"\\u5b8c\\u6210\\u4e2a\\u6027\\u5316\\u6570(\\u5206\\u6790\\u4e8c\\u7ec4)\", \"x\": [\"9-1\", \"9-2\", \"9-3\", \"9-4\", \"10-2\", \"10-3\"], \"y\": [8, 21, 25, 10, 8, 6], \"type\": \"scatter\", \"uid\": \"52257f71-d745-11e8-8ddb-a41f72875c19\"}, {\"line\": {\"dash\": \"dash\"}, \"name\": \"\\u5b8c\\u6210\\u4e2a\\u6027\\u5316\\u6570(\\u5206\\u6790\\u4e00\\u7ec4)\", \"x\": [\"9-1\", \"9-2\", \"9-3\", \"9-4\", \"10-2\", \"10-3\"], \"y\": [5, 4, 3, 4, 8, 16], \"type\": \"scatter\", \"uid\": \"52257f72-d745-11e8-8ddb-a41f72875c19\"}, {\"line\": {\"dash\": \"solid\"}, \"name\": \"\\u5b8c\\u6210\\u5546\\u4e1a\\u9879\\u76ee\\u6570(\\u4e2a\\u6027\\u5316\\u7ec4)\", \"x\": [\"9-1\", \"9-2\", \"9-3\", \"9-4\", \"10-2\", \"10-3\"], \"y\": [0, 0, 0, 0, 1, 1], \"type\": \"scatter\", \"uid\": \"52257f73-d745-11e8-8ddb-a41f72875c19\"}, {\"line\": {\"dash\": \"dot\"}, \"name\": \"\\u5b8c\\u6210\\u5546\\u4e1a\\u9879\\u76ee\\u6570(\\u5206\\u6790\\u4e8c\\u7ec4)\", \"x\": [\"9-1\", \"9-2\", \"9-3\", \"9-4\", \"10-2\", \"10-3\"], \"y\": [20, 29, 17, 22, 11, 13], \"type\": \"scatter\", \"uid\": \"52257f74-d745-11e8-8ddb-a41f72875c19\"}, {\"line\": {\"dash\": \"dash\"}, \"name\": \"\\u5b8c\\u6210\\u5546\\u4e1a\\u9879\\u76ee\\u6570(\\u5206\\u6790\\u4e00\\u7ec4)\", \"x\": [\"9-1\", \"9-2\", \"9-3\", \"9-4\", \"10-2\", \"10-3\"], \"y\": [6, 11, 6, 6, 15, 13], \"type\": \"scatter\", \"uid\": \"52257f75-d745-11e8-8ddb-a41f72875c19\"}], {\"title\": \"\\u5b8c\\u6210\\u4e2a\\u6027\\u5316\\u6570&\\u5b8c\\u6210\\u5546\\u4e1a\\u9879\\u76ee\\u6570\\u5468\\u8d8b\\u52bf\\u56fe\", \"xaxis\": {\"mirror\": \"all\", \"nticks\": 20, \"showgrid\": true, \"showline\": true, \"title\": \"\\u5468\", \"type\": \"category\", \"zeroline\": true}, \"yaxis\": {\"mirror\": \"all\", \"nticks\": 20, \"showgrid\": true, \"showline\": true, \"title\": \"\\u5b8c\\u6210\\u4e2a\\u6027\\u5316\\u6570&\\u5b8c\\u6210\\u5546\\u4e1a\\u9879\\u76ee\\u6570\", \"zeroline\": true}}, {\"showLink\": true, \"linkText\": \"Export to plot.ly\"})});</script>"
      ]
     },
     "metadata": {},
     "output_type": "display_data"
    }
   ],
   "source": [
    "ss = myModule.format(all_df1 ,\"日期（格式“月-周次”）\" ,['完成商业项目数','完成个性化数'])\n",
    "ss.add_group('组别')\n",
    "#ss.get_average_by('人员')\n",
    "myModule.myPlot(myModule.sort_by_index(ss.groupby('sum'))).plot('line')\n",
    "#ss = myModule.format(all_df1 ,\"month\" ,['完成商业项目数','完成个性化数'])\n",
    "#ss.add_group('组别')\n",
    "#myModule.myPlot(ss.groupby('sum')).plot('line',\"月\")"
   ]
  },
  {
   "cell_type": "markdown",
   "metadata": {},
   "source": [
    "## 人均完成情况"
   ]
  },
  {
   "cell_type": "markdown",
   "metadata": {},
   "source": [
    "### 分析组人均产能情况"
   ]
  },
  {
   "cell_type": "code",
   "execution_count": 43,
   "metadata": {
    "collapsed": false
   },
   "outputs": [
    {
     "data": {
      "application/vnd.plotly.v1+json": {
       "data": [
        {
         "name": "完成个性化数",
         "type": "scatter",
         "uid": "52257f76-d745-11e8-8ddb-a41f72875c19",
         "x": [
          "9-1",
          "9-2",
          "9-3",
          "9-4",
          "10-2",
          "10-3"
         ],
         "y": [
          1.7222222222222223,
          2.1666666666666665,
          2.2777777777777777,
          1.5555555555555556,
          1.7142857142857142,
          2.7857142857142856
         ]
        },
        {
         "name": "完成项目总数",
         "type": "scatter",
         "uid": "52257f77-d745-11e8-8ddb-a41f72875c19",
         "x": [
          "9-1",
          "9-2",
          "9-3",
          "9-4",
          "10-2",
          "10-3"
         ],
         "y": [
          3.1666666666666665,
          4.388888888888889,
          3.5555555555555554,
          3.111111111111111,
          3.642857142857143,
          4.714285714285714
         ]
        },
        {
         "name": "完成商业项目数",
         "type": "scatter",
         "uid": "52257f78-d745-11e8-8ddb-a41f72875c19",
         "x": [
          "9-1",
          "9-2",
          "9-3",
          "9-4",
          "10-2",
          "10-3"
         ],
         "y": [
          1.4444444444444444,
          2.2222222222222223,
          1.2777777777777777,
          1.5555555555555556,
          1.9285714285714286,
          1.9285714285714286
         ]
        }
       ],
       "layout": {
        "title": "完成个性化数&完成项目总数&完成商业项目数周趋势图",
        "xaxis": {
         "mirror": "all",
         "nticks": 20,
         "showgrid": true,
         "showline": true,
         "title": "周",
         "type": "category",
         "zeroline": true
        },
        "yaxis": {
         "mirror": "all",
         "nticks": 20,
         "showgrid": true,
         "showline": true,
         "title": "完成个性化数&完成项目总数&完成商业项目数",
         "zeroline": true
        }
       }
      },
      "text/html": [
       "<div id=\"e2f5dc86-ede4-494f-b465-93a2c045c527\" style=\"height: 525px; width: 100%;\" class=\"plotly-graph-div\"></div><script type=\"text/javascript\">require([\"plotly\"], function(Plotly) { window.PLOTLYENV=window.PLOTLYENV || {};window.PLOTLYENV.BASE_URL=\"https://plot.ly\";Plotly.newPlot(\"e2f5dc86-ede4-494f-b465-93a2c045c527\", [{\"name\": \"\\u5b8c\\u6210\\u4e2a\\u6027\\u5316\\u6570\", \"x\": [\"9-1\", \"9-2\", \"9-3\", \"9-4\", \"10-2\", \"10-3\"], \"y\": [1.7222222222222223, 2.1666666666666665, 2.2777777777777777, 1.5555555555555556, 1.7142857142857142, 2.7857142857142856], \"type\": \"scatter\", \"uid\": \"52257f76-d745-11e8-8ddb-a41f72875c19\"}, {\"name\": \"\\u5b8c\\u6210\\u9879\\u76ee\\u603b\\u6570\", \"x\": [\"9-1\", \"9-2\", \"9-3\", \"9-4\", \"10-2\", \"10-3\"], \"y\": [3.1666666666666665, 4.388888888888889, 3.5555555555555554, 3.111111111111111, 3.642857142857143, 4.714285714285714], \"type\": \"scatter\", \"uid\": \"52257f77-d745-11e8-8ddb-a41f72875c19\"}, {\"name\": \"\\u5b8c\\u6210\\u5546\\u4e1a\\u9879\\u76ee\\u6570\", \"x\": [\"9-1\", \"9-2\", \"9-3\", \"9-4\", \"10-2\", \"10-3\"], \"y\": [1.4444444444444444, 2.2222222222222223, 1.2777777777777777, 1.5555555555555556, 1.9285714285714286, 1.9285714285714286], \"type\": \"scatter\", \"uid\": \"52257f78-d745-11e8-8ddb-a41f72875c19\"}], {\"title\": \"\\u5b8c\\u6210\\u4e2a\\u6027\\u5316\\u6570&\\u5b8c\\u6210\\u9879\\u76ee\\u603b\\u6570&\\u5b8c\\u6210\\u5546\\u4e1a\\u9879\\u76ee\\u6570\\u5468\\u8d8b\\u52bf\\u56fe\", \"xaxis\": {\"mirror\": \"all\", \"nticks\": 20, \"showgrid\": true, \"showline\": true, \"title\": \"\\u5468\", \"type\": \"category\", \"zeroline\": true}, \"yaxis\": {\"mirror\": \"all\", \"nticks\": 20, \"showgrid\": true, \"showline\": true, \"title\": \"\\u5b8c\\u6210\\u4e2a\\u6027\\u5316\\u6570&\\u5b8c\\u6210\\u9879\\u76ee\\u603b\\u6570&\\u5b8c\\u6210\\u5546\\u4e1a\\u9879\\u76ee\\u6570\", \"zeroline\": true}}, {\"showLink\": true, \"linkText\": \"Export to plot.ly\"})});</script>"
      ],
      "text/vnd.plotly.v1+html": [
       "<div id=\"e2f5dc86-ede4-494f-b465-93a2c045c527\" style=\"height: 525px; width: 100%;\" class=\"plotly-graph-div\"></div><script type=\"text/javascript\">require([\"plotly\"], function(Plotly) { window.PLOTLYENV=window.PLOTLYENV || {};window.PLOTLYENV.BASE_URL=\"https://plot.ly\";Plotly.newPlot(\"e2f5dc86-ede4-494f-b465-93a2c045c527\", [{\"name\": \"\\u5b8c\\u6210\\u4e2a\\u6027\\u5316\\u6570\", \"x\": [\"9-1\", \"9-2\", \"9-3\", \"9-4\", \"10-2\", \"10-3\"], \"y\": [1.7222222222222223, 2.1666666666666665, 2.2777777777777777, 1.5555555555555556, 1.7142857142857142, 2.7857142857142856], \"type\": \"scatter\", \"uid\": \"52257f76-d745-11e8-8ddb-a41f72875c19\"}, {\"name\": \"\\u5b8c\\u6210\\u9879\\u76ee\\u603b\\u6570\", \"x\": [\"9-1\", \"9-2\", \"9-3\", \"9-4\", \"10-2\", \"10-3\"], \"y\": [3.1666666666666665, 4.388888888888889, 3.5555555555555554, 3.111111111111111, 3.642857142857143, 4.714285714285714], \"type\": \"scatter\", \"uid\": \"52257f77-d745-11e8-8ddb-a41f72875c19\"}, {\"name\": \"\\u5b8c\\u6210\\u5546\\u4e1a\\u9879\\u76ee\\u6570\", \"x\": [\"9-1\", \"9-2\", \"9-3\", \"9-4\", \"10-2\", \"10-3\"], \"y\": [1.4444444444444444, 2.2222222222222223, 1.2777777777777777, 1.5555555555555556, 1.9285714285714286, 1.9285714285714286], \"type\": \"scatter\", \"uid\": \"52257f78-d745-11e8-8ddb-a41f72875c19\"}], {\"title\": \"\\u5b8c\\u6210\\u4e2a\\u6027\\u5316\\u6570&\\u5b8c\\u6210\\u9879\\u76ee\\u603b\\u6570&\\u5b8c\\u6210\\u5546\\u4e1a\\u9879\\u76ee\\u6570\\u5468\\u8d8b\\u52bf\\u56fe\", \"xaxis\": {\"mirror\": \"all\", \"nticks\": 20, \"showgrid\": true, \"showline\": true, \"title\": \"\\u5468\", \"type\": \"category\", \"zeroline\": true}, \"yaxis\": {\"mirror\": \"all\", \"nticks\": 20, \"showgrid\": true, \"showline\": true, \"title\": \"\\u5b8c\\u6210\\u4e2a\\u6027\\u5316\\u6570&\\u5b8c\\u6210\\u9879\\u76ee\\u603b\\u6570&\\u5b8c\\u6210\\u5546\\u4e1a\\u9879\\u76ee\\u6570\", \"zeroline\": true}}, {\"showLink\": true, \"linkText\": \"Export to plot.ly\"})});</script>"
      ]
     },
     "metadata": {},
     "output_type": "display_data"
    }
   ],
   "source": [
    "ss = myModule.format(all_df1 ,\"日期（格式“月-周次”）\" ,['完成项目总数','完成商业项目数','完成个性化数'])\n",
    "ss.get_average_by('人员')\n",
    "myModule.myPlot(ss.groupby('sum')).df\n",
    "myModule.myPlot(myModule.sort_by_index(ss.groupby('sum'))).plot('line')\n",
    "#ss = myModule.format(all_df1 ,\"month\" ,['完成项目总数','完成商业项目数','完成个性化数'])\n",
    "#ss.get_average_by('人员')\n",
    "#myModule.myPlot(ss.groupby('sum')).plot('line')"
   ]
  },
  {
   "cell_type": "markdown",
   "metadata": {},
   "source": [
    "### 各组人均完成项目数情况"
   ]
  },
  {
   "cell_type": "code",
   "execution_count": 44,
   "metadata": {
    "collapsed": false
   },
   "outputs": [
    {
     "data": {
      "application/vnd.plotly.v1+json": {
       "data": [
        {
         "line": {
          "dash": "solid"
         },
         "name": "完成项目总数(个性化组)",
         "type": "scatter",
         "uid": "52257f79-d745-11e8-8ddb-a41f72875c19",
         "x": [
          "9-1",
          "9-2",
          "9-3",
          "9-4",
          "10-2",
          "10-3"
         ],
         "y": [
          4.5,
          3.5,
          3.25,
          3.5,
          1.8,
          3.6
         ]
        },
        {
         "line": {
          "dash": "dot"
         },
         "name": "完成项目总数(分析二组)",
         "type": "scatter",
         "uid": "52257f7a-d745-11e8-8ddb-a41f72875c19",
         "x": [
          "9-1",
          "9-2",
          "9-3",
          "9-4",
          "10-2",
          "10-3"
         ],
         "y": [
          2.8,
          5,
          4.2,
          3.2,
          4.75,
          4.75
         ]
        },
        {
         "line": {
          "dash": "dash"
         },
         "name": "完成项目总数(分析一组)",
         "type": "scatter",
         "uid": "52257f7b-d745-11e8-8ddb-a41f72875c19",
         "x": [
          "9-1",
          "9-2",
          "9-3",
          "9-4",
          "10-2",
          "10-3"
         ],
         "y": [
          2.75,
          3.75,
          2.25,
          2.5,
          4.6,
          5.8
         ]
        }
       ],
       "layout": {
        "title": "完成项目总数周趋势图",
        "xaxis": {
         "mirror": "all",
         "nticks": 20,
         "showgrid": true,
         "showline": true,
         "title": "周",
         "type": "category",
         "zeroline": true
        },
        "yaxis": {
         "mirror": "all",
         "nticks": 20,
         "showgrid": true,
         "showline": true,
         "title": "完成项目总数",
         "zeroline": true
        }
       }
      },
      "text/html": [
       "<div id=\"fb04f90f-4661-4d9f-b5c8-37bebb9033c7\" style=\"height: 525px; width: 100%;\" class=\"plotly-graph-div\"></div><script type=\"text/javascript\">require([\"plotly\"], function(Plotly) { window.PLOTLYENV=window.PLOTLYENV || {};window.PLOTLYENV.BASE_URL=\"https://plot.ly\";Plotly.newPlot(\"fb04f90f-4661-4d9f-b5c8-37bebb9033c7\", [{\"line\": {\"dash\": \"solid\"}, \"name\": \"\\u5b8c\\u6210\\u9879\\u76ee\\u603b\\u6570(\\u4e2a\\u6027\\u5316\\u7ec4)\", \"x\": [\"9-1\", \"9-2\", \"9-3\", \"9-4\", \"10-2\", \"10-3\"], \"y\": [4.5, 3.5, 3.25, 3.5, 1.8, 3.6], \"type\": \"scatter\", \"uid\": \"52257f79-d745-11e8-8ddb-a41f72875c19\"}, {\"line\": {\"dash\": \"dot\"}, \"name\": \"\\u5b8c\\u6210\\u9879\\u76ee\\u603b\\u6570(\\u5206\\u6790\\u4e8c\\u7ec4)\", \"x\": [\"9-1\", \"9-2\", \"9-3\", \"9-4\", \"10-2\", \"10-3\"], \"y\": [2.8, 5.0, 4.2, 3.2, 4.75, 4.75], \"type\": \"scatter\", \"uid\": \"52257f7a-d745-11e8-8ddb-a41f72875c19\"}, {\"line\": {\"dash\": \"dash\"}, \"name\": \"\\u5b8c\\u6210\\u9879\\u76ee\\u603b\\u6570(\\u5206\\u6790\\u4e00\\u7ec4)\", \"x\": [\"9-1\", \"9-2\", \"9-3\", \"9-4\", \"10-2\", \"10-3\"], \"y\": [2.75, 3.75, 2.25, 2.5, 4.6, 5.8], \"type\": \"scatter\", \"uid\": \"52257f7b-d745-11e8-8ddb-a41f72875c19\"}], {\"title\": \"\\u5b8c\\u6210\\u9879\\u76ee\\u603b\\u6570\\u5468\\u8d8b\\u52bf\\u56fe\", \"xaxis\": {\"mirror\": \"all\", \"nticks\": 20, \"showgrid\": true, \"showline\": true, \"title\": \"\\u5468\", \"type\": \"category\", \"zeroline\": true}, \"yaxis\": {\"mirror\": \"all\", \"nticks\": 20, \"showgrid\": true, \"showline\": true, \"title\": \"\\u5b8c\\u6210\\u9879\\u76ee\\u603b\\u6570\", \"zeroline\": true}}, {\"showLink\": true, \"linkText\": \"Export to plot.ly\"})});</script>"
      ],
      "text/vnd.plotly.v1+html": [
       "<div id=\"fb04f90f-4661-4d9f-b5c8-37bebb9033c7\" style=\"height: 525px; width: 100%;\" class=\"plotly-graph-div\"></div><script type=\"text/javascript\">require([\"plotly\"], function(Plotly) { window.PLOTLYENV=window.PLOTLYENV || {};window.PLOTLYENV.BASE_URL=\"https://plot.ly\";Plotly.newPlot(\"fb04f90f-4661-4d9f-b5c8-37bebb9033c7\", [{\"line\": {\"dash\": \"solid\"}, \"name\": \"\\u5b8c\\u6210\\u9879\\u76ee\\u603b\\u6570(\\u4e2a\\u6027\\u5316\\u7ec4)\", \"x\": [\"9-1\", \"9-2\", \"9-3\", \"9-4\", \"10-2\", \"10-3\"], \"y\": [4.5, 3.5, 3.25, 3.5, 1.8, 3.6], \"type\": \"scatter\", \"uid\": \"52257f79-d745-11e8-8ddb-a41f72875c19\"}, {\"line\": {\"dash\": \"dot\"}, \"name\": \"\\u5b8c\\u6210\\u9879\\u76ee\\u603b\\u6570(\\u5206\\u6790\\u4e8c\\u7ec4)\", \"x\": [\"9-1\", \"9-2\", \"9-3\", \"9-4\", \"10-2\", \"10-3\"], \"y\": [2.8, 5.0, 4.2, 3.2, 4.75, 4.75], \"type\": \"scatter\", \"uid\": \"52257f7a-d745-11e8-8ddb-a41f72875c19\"}, {\"line\": {\"dash\": \"dash\"}, \"name\": \"\\u5b8c\\u6210\\u9879\\u76ee\\u603b\\u6570(\\u5206\\u6790\\u4e00\\u7ec4)\", \"x\": [\"9-1\", \"9-2\", \"9-3\", \"9-4\", \"10-2\", \"10-3\"], \"y\": [2.75, 3.75, 2.25, 2.5, 4.6, 5.8], \"type\": \"scatter\", \"uid\": \"52257f7b-d745-11e8-8ddb-a41f72875c19\"}], {\"title\": \"\\u5b8c\\u6210\\u9879\\u76ee\\u603b\\u6570\\u5468\\u8d8b\\u52bf\\u56fe\", \"xaxis\": {\"mirror\": \"all\", \"nticks\": 20, \"showgrid\": true, \"showline\": true, \"title\": \"\\u5468\", \"type\": \"category\", \"zeroline\": true}, \"yaxis\": {\"mirror\": \"all\", \"nticks\": 20, \"showgrid\": true, \"showline\": true, \"title\": \"\\u5b8c\\u6210\\u9879\\u76ee\\u603b\\u6570\", \"zeroline\": true}}, {\"showLink\": true, \"linkText\": \"Export to plot.ly\"})});</script>"
      ]
     },
     "metadata": {},
     "output_type": "display_data"
    }
   ],
   "source": [
    "ss = myModule.format(all_df1 ,\"日期（格式“月-周次”）\" ,['完成项目总数'])\n",
    "ss.add_group('组别')\n",
    "ss.get_average_by('人员')\n",
    "#ss.df\n",
    "myModule.myPlot(ss.groupby('sum')).df\n",
    "myModule.myPlot(myModule.sort_by_index(ss.groupby('sum'))).plot('line')\n",
    "#ss = myModule.format(all_df1 ,\"month\" ,['完成项目总数'])\n",
    "#ss.add_group('组别')\n",
    "#ss.get_average_by('人员')\n",
    "#myModule.myPlot(ss.groupby('sum')).plot('line','月')"
   ]
  },
  {
   "cell_type": "markdown",
   "metadata": {},
   "source": [
    "## 具体人员效能情况"
   ]
  },
  {
   "cell_type": "code",
   "execution_count": 45,
   "metadata": {
    "collapsed": false
   },
   "outputs": [
    {
     "data": {
      "application/vnd.plotly.v1+json": {
       "data": [
        {
         "name": "完成项目总数",
         "type": "scatter",
         "uid": "52257f7c-d745-11e8-8ddb-a41f72875c19",
         "x": [
          "9-1",
          "9-2",
          "9-3",
          "9-4",
          "10-2",
          "10-3"
         ],
         "y": [
          57,
          79,
          64,
          56,
          51,
          66
         ]
        }
       ],
       "layout": {
        "title": "完成项目总数周趋势图",
        "xaxis": {
         "mirror": "all",
         "nticks": 20,
         "showgrid": true,
         "showline": true,
         "title": "周",
         "type": "category",
         "zeroline": true
        },
        "yaxis": {
         "mirror": "all",
         "nticks": 20,
         "showgrid": true,
         "showline": true,
         "title": "完成项目总数",
         "zeroline": true
        }
       }
      },
      "text/html": [
       "<div id=\"9e6d0b18-2972-461a-8a5e-c6badb990ddf\" style=\"height: 525px; width: 100%;\" class=\"plotly-graph-div\"></div><script type=\"text/javascript\">require([\"plotly\"], function(Plotly) { window.PLOTLYENV=window.PLOTLYENV || {};window.PLOTLYENV.BASE_URL=\"https://plot.ly\";Plotly.newPlot(\"9e6d0b18-2972-461a-8a5e-c6badb990ddf\", [{\"name\": \"\\u5b8c\\u6210\\u9879\\u76ee\\u603b\\u6570\", \"x\": [\"9-1\", \"9-2\", \"9-3\", \"9-4\", \"10-2\", \"10-3\"], \"y\": [57, 79, 64, 56, 51, 66], \"type\": \"scatter\", \"uid\": \"52257f7c-d745-11e8-8ddb-a41f72875c19\"}], {\"title\": \"\\u5b8c\\u6210\\u9879\\u76ee\\u603b\\u6570\\u5468\\u8d8b\\u52bf\\u56fe\", \"xaxis\": {\"mirror\": \"all\", \"nticks\": 20, \"showgrid\": true, \"showline\": true, \"title\": \"\\u5468\", \"type\": \"category\", \"zeroline\": true}, \"yaxis\": {\"mirror\": \"all\", \"nticks\": 20, \"showgrid\": true, \"showline\": true, \"title\": \"\\u5b8c\\u6210\\u9879\\u76ee\\u603b\\u6570\", \"zeroline\": true}}, {\"showLink\": true, \"linkText\": \"Export to plot.ly\"})});</script>"
      ],
      "text/vnd.plotly.v1+html": [
       "<div id=\"9e6d0b18-2972-461a-8a5e-c6badb990ddf\" style=\"height: 525px; width: 100%;\" class=\"plotly-graph-div\"></div><script type=\"text/javascript\">require([\"plotly\"], function(Plotly) { window.PLOTLYENV=window.PLOTLYENV || {};window.PLOTLYENV.BASE_URL=\"https://plot.ly\";Plotly.newPlot(\"9e6d0b18-2972-461a-8a5e-c6badb990ddf\", [{\"name\": \"\\u5b8c\\u6210\\u9879\\u76ee\\u603b\\u6570\", \"x\": [\"9-1\", \"9-2\", \"9-3\", \"9-4\", \"10-2\", \"10-3\"], \"y\": [57, 79, 64, 56, 51, 66], \"type\": \"scatter\", \"uid\": \"52257f7c-d745-11e8-8ddb-a41f72875c19\"}], {\"title\": \"\\u5b8c\\u6210\\u9879\\u76ee\\u603b\\u6570\\u5468\\u8d8b\\u52bf\\u56fe\", \"xaxis\": {\"mirror\": \"all\", \"nticks\": 20, \"showgrid\": true, \"showline\": true, \"title\": \"\\u5468\", \"type\": \"category\", \"zeroline\": true}, \"yaxis\": {\"mirror\": \"all\", \"nticks\": 20, \"showgrid\": true, \"showline\": true, \"title\": \"\\u5b8c\\u6210\\u9879\\u76ee\\u603b\\u6570\", \"zeroline\": true}}, {\"showLink\": true, \"linkText\": \"Export to plot.ly\"})});</script>"
      ]
     },
     "metadata": {},
     "output_type": "display_data"
    },
    {
     "data": {
      "application/vnd.plotly.v1+json": {
       "data": [
        {
         "name": "完成项目总数",
         "type": "scatter",
         "uid": "52257f7d-d745-11e8-8ddb-a41f72875c19",
         "x": [
          9,
          10
         ],
         "y": [
          256,
          117
         ]
        }
       ],
       "layout": {
        "title": "完成项目总数月趋势图",
        "xaxis": {
         "mirror": "all",
         "nticks": 20,
         "showgrid": true,
         "showline": true,
         "title": "月",
         "type": "category",
         "zeroline": true
        },
        "yaxis": {
         "mirror": "all",
         "nticks": 20,
         "showgrid": true,
         "showline": true,
         "title": "完成项目总数",
         "zeroline": true
        }
       }
      },
      "text/html": [
       "<div id=\"53acadbf-e80c-40ea-8db2-33d891aacca7\" style=\"height: 525px; width: 100%;\" class=\"plotly-graph-div\"></div><script type=\"text/javascript\">require([\"plotly\"], function(Plotly) { window.PLOTLYENV=window.PLOTLYENV || {};window.PLOTLYENV.BASE_URL=\"https://plot.ly\";Plotly.newPlot(\"53acadbf-e80c-40ea-8db2-33d891aacca7\", [{\"name\": \"\\u5b8c\\u6210\\u9879\\u76ee\\u603b\\u6570\", \"x\": [9, 10], \"y\": [256, 117], \"type\": \"scatter\", \"uid\": \"52257f7d-d745-11e8-8ddb-a41f72875c19\"}], {\"title\": \"\\u5b8c\\u6210\\u9879\\u76ee\\u603b\\u6570\\u6708\\u8d8b\\u52bf\\u56fe\", \"xaxis\": {\"mirror\": \"all\", \"nticks\": 20, \"showgrid\": true, \"showline\": true, \"title\": \"\\u6708\", \"type\": \"category\", \"zeroline\": true}, \"yaxis\": {\"mirror\": \"all\", \"nticks\": 20, \"showgrid\": true, \"showline\": true, \"title\": \"\\u5b8c\\u6210\\u9879\\u76ee\\u603b\\u6570\", \"zeroline\": true}}, {\"showLink\": true, \"linkText\": \"Export to plot.ly\"})});</script>"
      ],
      "text/vnd.plotly.v1+html": [
       "<div id=\"53acadbf-e80c-40ea-8db2-33d891aacca7\" style=\"height: 525px; width: 100%;\" class=\"plotly-graph-div\"></div><script type=\"text/javascript\">require([\"plotly\"], function(Plotly) { window.PLOTLYENV=window.PLOTLYENV || {};window.PLOTLYENV.BASE_URL=\"https://plot.ly\";Plotly.newPlot(\"53acadbf-e80c-40ea-8db2-33d891aacca7\", [{\"name\": \"\\u5b8c\\u6210\\u9879\\u76ee\\u603b\\u6570\", \"x\": [9, 10], \"y\": [256, 117], \"type\": \"scatter\", \"uid\": \"52257f7d-d745-11e8-8ddb-a41f72875c19\"}], {\"title\": \"\\u5b8c\\u6210\\u9879\\u76ee\\u603b\\u6570\\u6708\\u8d8b\\u52bf\\u56fe\", \"xaxis\": {\"mirror\": \"all\", \"nticks\": 20, \"showgrid\": true, \"showline\": true, \"title\": \"\\u6708\", \"type\": \"category\", \"zeroline\": true}, \"yaxis\": {\"mirror\": \"all\", \"nticks\": 20, \"showgrid\": true, \"showline\": true, \"title\": \"\\u5b8c\\u6210\\u9879\\u76ee\\u603b\\u6570\", \"zeroline\": true}}, {\"showLink\": true, \"linkText\": \"Export to plot.ly\"})});</script>"
      ]
     },
     "metadata": {},
     "output_type": "display_data"
    }
   ],
   "source": [
    "ss = myModule.format(all_df1 ,\"日期（格式“月-周次”）\" ,['完成项目总数'])\n",
    "#ss.add_group('人员')\n",
    "#ss.get_average_by('人员')\n",
    "myModule.myPlot(myModule.sort_by_index(ss.groupby('sum'))).plot('line')\n",
    "ss = myModule.format(all_df1 ,\"month\" ,['完成项目总数'])\n",
    "#ss.add_group('人员')\n",
    "#ss.get_average_by('人员')\n",
    "myModule.myPlot(ss.groupby('sum')).plot('line','月')"
   ]
  },
  {
   "cell_type": "markdown",
   "metadata": {},
   "source": [
    "### 优秀人员"
   ]
  },
  {
   "cell_type": "markdown",
   "metadata": {},
   "source": [
    "* 总完成项目数目位于上四位分数"
   ]
  },
  {
   "cell_type": "code",
   "execution_count": 46,
   "metadata": {
    "collapsed": false
   },
   "outputs": [
    {
     "data": {
      "text/html": [
       "<div>\n",
       "<style scoped>\n",
       "    .dataframe tbody tr th:only-of-type {\n",
       "        vertical-align: middle;\n",
       "    }\n",
       "\n",
       "    .dataframe tbody tr th {\n",
       "        vertical-align: top;\n",
       "    }\n",
       "\n",
       "    .dataframe thead th {\n",
       "        text-align: right;\n",
       "    }\n",
       "</style>\n",
       "<table border=\"1\" class=\"dataframe\">\n",
       "  <thead>\n",
       "    <tr style=\"text-align: right;\">\n",
       "      <th></th>\n",
       "      <th>完成个性化数</th>\n",
       "    </tr>\n",
       "    <tr>\n",
       "      <th>人员</th>\n",
       "      <th></th>\n",
       "    </tr>\n",
       "  </thead>\n",
       "  <tbody>\n",
       "    <tr>\n",
       "      <th>赵倩</th>\n",
       "      <td>33</td>\n",
       "    </tr>\n",
       "    <tr>\n",
       "      <th>朱慧萍</th>\n",
       "      <td>23</td>\n",
       "    </tr>\n",
       "    <tr>\n",
       "      <th>冯敬岩</th>\n",
       "      <td>22</td>\n",
       "    </tr>\n",
       "    <tr>\n",
       "      <th>刘梦苑</th>\n",
       "      <td>20</td>\n",
       "    </tr>\n",
       "  </tbody>\n",
       "</table>\n",
       "</div>"
      ],
      "text/plain": [
       "     完成个性化数\n",
       "人员         \n",
       "赵倩       33\n",
       "朱慧萍      23\n",
       "冯敬岩      22\n",
       "刘梦苑      20"
      ]
     },
     "execution_count": 46,
     "metadata": {},
     "output_type": "execute_result"
    }
   ],
   "source": [
    "myModule.get_rank(all_df1 , '人员' ,'完成个性化数', quantile=0.8, compare='>' )"
   ]
  },
  {
   "cell_type": "markdown",
   "metadata": {},
   "source": [
    "* 近3期，总完成项目数位于上四分位数"
   ]
  },
  {
   "cell_type": "code",
   "execution_count": 47,
   "metadata": {
    "collapsed": false
   },
   "outputs": [
    {
     "data": {
      "text/html": [
       "<div>\n",
       "<style scoped>\n",
       "    .dataframe tbody tr th:only-of-type {\n",
       "        vertical-align: middle;\n",
       "    }\n",
       "\n",
       "    .dataframe tbody tr th {\n",
       "        vertical-align: top;\n",
       "    }\n",
       "\n",
       "    .dataframe thead th {\n",
       "        text-align: right;\n",
       "    }\n",
       "</style>\n",
       "<table border=\"1\" class=\"dataframe\">\n",
       "  <thead>\n",
       "    <tr style=\"text-align: right;\">\n",
       "      <th></th>\n",
       "      <th>完成项目总数</th>\n",
       "    </tr>\n",
       "    <tr>\n",
       "      <th>人员</th>\n",
       "      <th></th>\n",
       "    </tr>\n",
       "  </thead>\n",
       "  <tbody>\n",
       "    <tr>\n",
       "      <th>刘梦苑</th>\n",
       "      <td>27</td>\n",
       "    </tr>\n",
       "    <tr>\n",
       "      <th>何胜</th>\n",
       "      <td>19</td>\n",
       "    </tr>\n",
       "    <tr>\n",
       "      <th>闻少楠</th>\n",
       "      <td>19</td>\n",
       "    </tr>\n",
       "    <tr>\n",
       "      <th>王霞</th>\n",
       "      <td>17</td>\n",
       "    </tr>\n",
       "    <tr>\n",
       "      <th>赵倩</th>\n",
       "      <td>16</td>\n",
       "    </tr>\n",
       "  </tbody>\n",
       "</table>\n",
       "</div>"
      ],
      "text/plain": [
       "     完成项目总数\n",
       "人员         \n",
       "刘梦苑      27\n",
       "何胜       19\n",
       "闻少楠      19\n",
       "王霞       17\n",
       "赵倩       16"
      ]
     },
     "execution_count": 47,
     "metadata": {},
     "output_type": "execute_result"
    }
   ],
   "source": [
    "myModule.get_rank(all_df1 , '人员' ,'完成项目总数', 3, quantile=0.75, compare='>',sort_index=True)"
   ]
  },
  {
   "cell_type": "code",
   "execution_count": 48,
   "metadata": {
    "collapsed": false
   },
   "outputs": [
    {
     "data": {
      "text/html": [
       "<div>\n",
       "<style scoped>\n",
       "    .dataframe tbody tr th:only-of-type {\n",
       "        vertical-align: middle;\n",
       "    }\n",
       "\n",
       "    .dataframe tbody tr th {\n",
       "        vertical-align: top;\n",
       "    }\n",
       "\n",
       "    .dataframe thead th {\n",
       "        text-align: right;\n",
       "    }\n",
       "</style>\n",
       "<table border=\"1\" class=\"dataframe\">\n",
       "  <thead>\n",
       "    <tr style=\"text-align: right;\">\n",
       "      <th>日期（格式“月-周次”）</th>\n",
       "      <th>9-4</th>\n",
       "      <th>10-2</th>\n",
       "      <th>10-3</th>\n",
       "    </tr>\n",
       "    <tr>\n",
       "      <th>人员</th>\n",
       "      <th></th>\n",
       "      <th></th>\n",
       "      <th></th>\n",
       "    </tr>\n",
       "  </thead>\n",
       "  <tbody>\n",
       "    <tr>\n",
       "      <th>何胜</th>\n",
       "      <td>5.0</td>\n",
       "      <td>8.0</td>\n",
       "      <td>6.0</td>\n",
       "    </tr>\n",
       "  </tbody>\n",
       "</table>\n",
       "</div>"
      ],
      "text/plain": [
       "日期（格式“月-周次”）  9-4  10-2  10-3\n",
       "人员                           \n",
       "何胜            5.0   8.0   6.0"
      ]
     },
     "execution_count": 48,
     "metadata": {},
     "output_type": "execute_result"
    }
   ],
   "source": [
    "myModule.get_trend(all_df1 , '人员' ,'完成项目总数', 3, quantile=0.75, compare='>', sort_index=True)"
   ]
  },
  {
   "cell_type": "code",
   "execution_count": 49,
   "metadata": {
    "collapsed": false
   },
   "outputs": [
    {
     "data": {
      "text/html": [
       "<div>\n",
       "<style scoped>\n",
       "    .dataframe tbody tr th:only-of-type {\n",
       "        vertical-align: middle;\n",
       "    }\n",
       "\n",
       "    .dataframe tbody tr th {\n",
       "        vertical-align: top;\n",
       "    }\n",
       "\n",
       "    .dataframe thead th {\n",
       "        text-align: right;\n",
       "    }\n",
       "</style>\n",
       "<table border=\"1\" class=\"dataframe\">\n",
       "  <thead>\n",
       "    <tr style=\"text-align: right;\">\n",
       "      <th>日期（格式“月-周次”）</th>\n",
       "      <th>9-4</th>\n",
       "      <th>10-2</th>\n",
       "      <th>10-3</th>\n",
       "    </tr>\n",
       "    <tr>\n",
       "      <th>人员</th>\n",
       "      <th></th>\n",
       "      <th></th>\n",
       "      <th></th>\n",
       "    </tr>\n",
       "  </thead>\n",
       "  <tbody>\n",
       "    <tr>\n",
       "      <th>宋少宇</th>\n",
       "      <td>0.0</td>\n",
       "      <td>0.0</td>\n",
       "      <td>0.0</td>\n",
       "    </tr>\n",
       "  </tbody>\n",
       "</table>\n",
       "</div>"
      ],
      "text/plain": [
       "日期（格式“月-周次”）  9-4  10-2  10-3\n",
       "人员                           \n",
       "宋少宇           0.0   0.0   0.0"
      ]
     },
     "execution_count": 49,
     "metadata": {},
     "output_type": "execute_result"
    }
   ],
   "source": [
    "myModule.get_trend(all_df1 , '人员' ,'完成项目总数', 3, quantile=0.5, compare='<',trend=True , sort_index=True)"
   ]
  },
  {
   "cell_type": "markdown",
   "metadata": {},
   "source": [
    "### 待激励人员\n",
    "* 总完成项目数目位于下四位分数 or \n",
    "* 近3期，总完成项目数位于下四分位数"
   ]
  },
  {
   "cell_type": "code",
   "execution_count": 50,
   "metadata": {
    "collapsed": false
   },
   "outputs": [
    {
     "data": {
      "text/html": [
       "<div>\n",
       "<style scoped>\n",
       "    .dataframe tbody tr th:only-of-type {\n",
       "        vertical-align: middle;\n",
       "    }\n",
       "\n",
       "    .dataframe tbody tr th {\n",
       "        vertical-align: top;\n",
       "    }\n",
       "\n",
       "    .dataframe thead th {\n",
       "        text-align: right;\n",
       "    }\n",
       "</style>\n",
       "<table border=\"1\" class=\"dataframe\">\n",
       "  <thead>\n",
       "    <tr style=\"text-align: right;\">\n",
       "      <th></th>\n",
       "      <th>完成项目总数</th>\n",
       "    </tr>\n",
       "    <tr>\n",
       "      <th>人员</th>\n",
       "      <th></th>\n",
       "    </tr>\n",
       "  </thead>\n",
       "  <tbody>\n",
       "    <tr>\n",
       "      <th>施毓芷</th>\n",
       "      <td>0</td>\n",
       "    </tr>\n",
       "    <tr>\n",
       "      <th>李晓波</th>\n",
       "      <td>0</td>\n",
       "    </tr>\n",
       "    <tr>\n",
       "      <th>靳甜甜</th>\n",
       "      <td>0</td>\n",
       "    </tr>\n",
       "    <tr>\n",
       "      <th>卢楠</th>\n",
       "      <td>1</td>\n",
       "    </tr>\n",
       "  </tbody>\n",
       "</table>\n",
       "</div>"
      ],
      "text/plain": [
       "     完成项目总数\n",
       "人员         \n",
       "施毓芷       0\n",
       "李晓波       0\n",
       "靳甜甜       0\n",
       "卢楠        1"
      ]
     },
     "execution_count": 50,
     "metadata": {},
     "output_type": "execute_result"
    }
   ],
   "source": [
    "myModule.get_rank(all_df1 , '人员' ,'完成项目总数', quantile=0.2, compare='<' )"
   ]
  },
  {
   "cell_type": "code",
   "execution_count": 51,
   "metadata": {
    "collapsed": false
   },
   "outputs": [
    {
     "data": {
      "text/html": [
       "<div>\n",
       "<style scoped>\n",
       "    .dataframe tbody tr th:only-of-type {\n",
       "        vertical-align: middle;\n",
       "    }\n",
       "\n",
       "    .dataframe tbody tr th {\n",
       "        vertical-align: top;\n",
       "    }\n",
       "\n",
       "    .dataframe thead th {\n",
       "        text-align: right;\n",
       "    }\n",
       "</style>\n",
       "<table border=\"1\" class=\"dataframe\">\n",
       "  <thead>\n",
       "    <tr style=\"text-align: right;\">\n",
       "      <th></th>\n",
       "      <th>完成项目总数</th>\n",
       "    </tr>\n",
       "    <tr>\n",
       "      <th>人员</th>\n",
       "      <th></th>\n",
       "    </tr>\n",
       "  </thead>\n",
       "  <tbody>\n",
       "    <tr>\n",
       "      <th>宋少宇</th>\n",
       "      <td>0</td>\n",
       "    </tr>\n",
       "    <tr>\n",
       "      <th>施毓芷</th>\n",
       "      <td>0</td>\n",
       "    </tr>\n",
       "    <tr>\n",
       "      <th>卢楠</th>\n",
       "      <td>1</td>\n",
       "    </tr>\n",
       "  </tbody>\n",
       "</table>\n",
       "</div>"
      ],
      "text/plain": [
       "     完成项目总数\n",
       "人员         \n",
       "宋少宇       0\n",
       "施毓芷       0\n",
       "卢楠        1"
      ]
     },
     "execution_count": 51,
     "metadata": {},
     "output_type": "execute_result"
    }
   ],
   "source": [
    "myModule.get_rank(all_df1 , '人员' ,'完成项目总数', 2, quantile=0.2, compare='<',sort_index=True)"
   ]
  },
  {
   "cell_type": "markdown",
   "metadata": {},
   "source": [
    "# 下期项目情况预测"
   ]
  },
  {
   "cell_type": "markdown",
   "metadata": {},
   "source": [
    "## 整体商业项目趋势图\n",
    "* 完成项目数： 本周完成的项目\n",
    "* 总在线项目： 下机正在分析项目 和 未完成个性化分析\n",
    "* 未下机项目： 未下机项目"
   ]
  },
  {
   "cell_type": "code",
   "execution_count": 52,
   "metadata": {
    "collapsed": false
   },
   "outputs": [
    {
     "data": {
      "application/vnd.plotly.v1+json": {
       "data": [
        {
         "name": "完成项目总数",
         "type": "scatter",
         "uid": "533f45b2-d745-11e8-8ddb-a41f72875c19",
         "x": [
          "9-1",
          "9-2",
          "9-3",
          "9-4",
          "10-2",
          "10-3"
         ],
         "y": [
          57,
          79,
          64,
          56,
          51,
          66
         ]
        },
        {
         "name": "在线项目总数",
         "type": "scatter",
         "uid": "533f45b3-d745-11e8-8ddb-a41f72875c19",
         "x": [
          "9-1",
          "9-2",
          "9-3",
          "9-4",
          "10-2",
          "10-3"
         ],
         "y": [
          59,
          58,
          57,
          60,
          69,
          81
         ]
        }
       ],
       "layout": {
        "title": "完成项目总数&在线项目总数周趋势图",
        "xaxis": {
         "mirror": "all",
         "nticks": 20,
         "showgrid": true,
         "showline": true,
         "title": "周",
         "type": "category",
         "zeroline": true
        },
        "yaxis": {
         "mirror": "all",
         "nticks": 20,
         "showgrid": true,
         "showline": true,
         "title": "完成项目总数&在线项目总数",
         "zeroline": true
        }
       }
      },
      "text/html": [
       "<div id=\"f8112015-44ab-401c-9144-7ca6ebb4b1d6\" style=\"height: 525px; width: 100%;\" class=\"plotly-graph-div\"></div><script type=\"text/javascript\">require([\"plotly\"], function(Plotly) { window.PLOTLYENV=window.PLOTLYENV || {};window.PLOTLYENV.BASE_URL=\"https://plot.ly\";Plotly.newPlot(\"f8112015-44ab-401c-9144-7ca6ebb4b1d6\", [{\"name\": \"\\u5b8c\\u6210\\u9879\\u76ee\\u603b\\u6570\", \"x\": [\"9-1\", \"9-2\", \"9-3\", \"9-4\", \"10-2\", \"10-3\"], \"y\": [57, 79, 64, 56, 51, 66], \"type\": \"scatter\", \"uid\": \"533f45b2-d745-11e8-8ddb-a41f72875c19\"}, {\"name\": \"\\u5728\\u7ebf\\u9879\\u76ee\\u603b\\u6570\", \"x\": [\"9-1\", \"9-2\", \"9-3\", \"9-4\", \"10-2\", \"10-3\"], \"y\": [59, 58, 57, 60, 69, 81], \"type\": \"scatter\", \"uid\": \"533f45b3-d745-11e8-8ddb-a41f72875c19\"}], {\"title\": \"\\u5b8c\\u6210\\u9879\\u76ee\\u603b\\u6570&\\u5728\\u7ebf\\u9879\\u76ee\\u603b\\u6570\\u5468\\u8d8b\\u52bf\\u56fe\", \"xaxis\": {\"mirror\": \"all\", \"nticks\": 20, \"showgrid\": true, \"showline\": true, \"title\": \"\\u5468\", \"type\": \"category\", \"zeroline\": true}, \"yaxis\": {\"mirror\": \"all\", \"nticks\": 20, \"showgrid\": true, \"showline\": true, \"title\": \"\\u5b8c\\u6210\\u9879\\u76ee\\u603b\\u6570&\\u5728\\u7ebf\\u9879\\u76ee\\u603b\\u6570\", \"zeroline\": true}}, {\"showLink\": true, \"linkText\": \"Export to plot.ly\"})});</script>"
      ],
      "text/vnd.plotly.v1+html": [
       "<div id=\"f8112015-44ab-401c-9144-7ca6ebb4b1d6\" style=\"height: 525px; width: 100%;\" class=\"plotly-graph-div\"></div><script type=\"text/javascript\">require([\"plotly\"], function(Plotly) { window.PLOTLYENV=window.PLOTLYENV || {};window.PLOTLYENV.BASE_URL=\"https://plot.ly\";Plotly.newPlot(\"f8112015-44ab-401c-9144-7ca6ebb4b1d6\", [{\"name\": \"\\u5b8c\\u6210\\u9879\\u76ee\\u603b\\u6570\", \"x\": [\"9-1\", \"9-2\", \"9-3\", \"9-4\", \"10-2\", \"10-3\"], \"y\": [57, 79, 64, 56, 51, 66], \"type\": \"scatter\", \"uid\": \"533f45b2-d745-11e8-8ddb-a41f72875c19\"}, {\"name\": \"\\u5728\\u7ebf\\u9879\\u76ee\\u603b\\u6570\", \"x\": [\"9-1\", \"9-2\", \"9-3\", \"9-4\", \"10-2\", \"10-3\"], \"y\": [59, 58, 57, 60, 69, 81], \"type\": \"scatter\", \"uid\": \"533f45b3-d745-11e8-8ddb-a41f72875c19\"}], {\"title\": \"\\u5b8c\\u6210\\u9879\\u76ee\\u603b\\u6570&\\u5728\\u7ebf\\u9879\\u76ee\\u603b\\u6570\\u5468\\u8d8b\\u52bf\\u56fe\", \"xaxis\": {\"mirror\": \"all\", \"nticks\": 20, \"showgrid\": true, \"showline\": true, \"title\": \"\\u5468\", \"type\": \"category\", \"zeroline\": true}, \"yaxis\": {\"mirror\": \"all\", \"nticks\": 20, \"showgrid\": true, \"showline\": true, \"title\": \"\\u5b8c\\u6210\\u9879\\u76ee\\u603b\\u6570&\\u5728\\u7ebf\\u9879\\u76ee\\u603b\\u6570\", \"zeroline\": true}}, {\"showLink\": true, \"linkText\": \"Export to plot.ly\"})});</script>"
      ]
     },
     "metadata": {},
     "output_type": "display_data"
    }
   ],
   "source": [
    "ss = myModule.format(all_df1 ,\"日期（格式“月-周次”）\" ,['完成项目总数','在线项目总数' ])\n",
    "#ss.add_group('组别')\n",
    "#ss.get_average_by('人员')\n",
    "myModule.myPlot(myModule.sort_by_index(ss.groupby('sum'))).plot('line')\n",
    "#ss = myModule.format(all_df1 ,\"month\" ,['完成项目总数','在线项目总数'])\n",
    "#ss.add_group('组别')\n",
    "#ss.get_average_by('人员')\n",
    "#myModule.myPlot(ss.groupby('sum')).plot('line','月')"
   ]
  },
  {
   "cell_type": "markdown",
   "metadata": {},
   "source": [
    "## 总在线项目数"
   ]
  },
  {
   "cell_type": "markdown",
   "metadata": {},
   "source": [
    "### 在线项目情况"
   ]
  },
  {
   "cell_type": "code",
   "execution_count": 53,
   "metadata": {
    "collapsed": false
   },
   "outputs": [
    {
     "data": {
      "application/vnd.plotly.v1+json": {
       "data": [
        {
         "name": "在线项目总数",
         "type": "scatter",
         "uid": "533f45b4-d745-11e8-8ddb-a41f72875c19",
         "x": [
          "9-1",
          "9-2",
          "9-3",
          "9-4",
          "10-2",
          "10-3"
         ],
         "y": [
          59,
          58,
          57,
          60,
          69,
          81
         ]
        }
       ],
       "layout": {
        "title": "在线项目总数周趋势图",
        "xaxis": {
         "mirror": "all",
         "nticks": 20,
         "showgrid": true,
         "showline": true,
         "title": "周",
         "type": "category",
         "zeroline": true
        },
        "yaxis": {
         "mirror": "all",
         "nticks": 20,
         "showgrid": true,
         "showline": true,
         "title": "在线项目总数",
         "zeroline": true
        }
       }
      },
      "text/html": [
       "<div id=\"89eb12f8-fb7b-4d6b-b35d-e0312389b33a\" style=\"height: 525px; width: 100%;\" class=\"plotly-graph-div\"></div><script type=\"text/javascript\">require([\"plotly\"], function(Plotly) { window.PLOTLYENV=window.PLOTLYENV || {};window.PLOTLYENV.BASE_URL=\"https://plot.ly\";Plotly.newPlot(\"89eb12f8-fb7b-4d6b-b35d-e0312389b33a\", [{\"name\": \"\\u5728\\u7ebf\\u9879\\u76ee\\u603b\\u6570\", \"x\": [\"9-1\", \"9-2\", \"9-3\", \"9-4\", \"10-2\", \"10-3\"], \"y\": [59, 58, 57, 60, 69, 81], \"type\": \"scatter\", \"uid\": \"533f45b4-d745-11e8-8ddb-a41f72875c19\"}], {\"title\": \"\\u5728\\u7ebf\\u9879\\u76ee\\u603b\\u6570\\u5468\\u8d8b\\u52bf\\u56fe\", \"xaxis\": {\"mirror\": \"all\", \"nticks\": 20, \"showgrid\": true, \"showline\": true, \"title\": \"\\u5468\", \"type\": \"category\", \"zeroline\": true}, \"yaxis\": {\"mirror\": \"all\", \"nticks\": 20, \"showgrid\": true, \"showline\": true, \"title\": \"\\u5728\\u7ebf\\u9879\\u76ee\\u603b\\u6570\", \"zeroline\": true}}, {\"showLink\": true, \"linkText\": \"Export to plot.ly\"})});</script>"
      ],
      "text/vnd.plotly.v1+html": [
       "<div id=\"89eb12f8-fb7b-4d6b-b35d-e0312389b33a\" style=\"height: 525px; width: 100%;\" class=\"plotly-graph-div\"></div><script type=\"text/javascript\">require([\"plotly\"], function(Plotly) { window.PLOTLYENV=window.PLOTLYENV || {};window.PLOTLYENV.BASE_URL=\"https://plot.ly\";Plotly.newPlot(\"89eb12f8-fb7b-4d6b-b35d-e0312389b33a\", [{\"name\": \"\\u5728\\u7ebf\\u9879\\u76ee\\u603b\\u6570\", \"x\": [\"9-1\", \"9-2\", \"9-3\", \"9-4\", \"10-2\", \"10-3\"], \"y\": [59, 58, 57, 60, 69, 81], \"type\": \"scatter\", \"uid\": \"533f45b4-d745-11e8-8ddb-a41f72875c19\"}], {\"title\": \"\\u5728\\u7ebf\\u9879\\u76ee\\u603b\\u6570\\u5468\\u8d8b\\u52bf\\u56fe\", \"xaxis\": {\"mirror\": \"all\", \"nticks\": 20, \"showgrid\": true, \"showline\": true, \"title\": \"\\u5468\", \"type\": \"category\", \"zeroline\": true}, \"yaxis\": {\"mirror\": \"all\", \"nticks\": 20, \"showgrid\": true, \"showline\": true, \"title\": \"\\u5728\\u7ebf\\u9879\\u76ee\\u603b\\u6570\", \"zeroline\": true}}, {\"showLink\": true, \"linkText\": \"Export to plot.ly\"})});</script>"
      ]
     },
     "metadata": {},
     "output_type": "display_data"
    },
    {
     "data": {
      "application/vnd.plotly.v1+json": {
       "data": [
        {
         "name": "完成项目总数",
         "type": "scatter",
         "uid": "533f45b5-d745-11e8-8ddb-a41f72875c19",
         "x": [
          9,
          10
         ],
         "y": [
          256,
          117
         ]
        },
        {
         "name": "在线项目总数",
         "type": "scatter",
         "uid": "533f45b6-d745-11e8-8ddb-a41f72875c19",
         "x": [
          9,
          10
         ],
         "y": [
          234,
          150
         ]
        }
       ],
       "layout": {
        "title": "完成项目总数&在线项目总数月趋势图",
        "xaxis": {
         "mirror": "all",
         "nticks": 20,
         "showgrid": true,
         "showline": true,
         "title": "月",
         "type": "category",
         "zeroline": true
        },
        "yaxis": {
         "mirror": "all",
         "nticks": 20,
         "showgrid": true,
         "showline": true,
         "title": "完成项目总数&在线项目总数",
         "zeroline": true
        }
       }
      },
      "text/html": [
       "<div id=\"d13c0d85-6d0d-4e2b-858d-d118258a019a\" style=\"height: 525px; width: 100%;\" class=\"plotly-graph-div\"></div><script type=\"text/javascript\">require([\"plotly\"], function(Plotly) { window.PLOTLYENV=window.PLOTLYENV || {};window.PLOTLYENV.BASE_URL=\"https://plot.ly\";Plotly.newPlot(\"d13c0d85-6d0d-4e2b-858d-d118258a019a\", [{\"name\": \"\\u5b8c\\u6210\\u9879\\u76ee\\u603b\\u6570\", \"x\": [9, 10], \"y\": [256, 117], \"type\": \"scatter\", \"uid\": \"533f45b5-d745-11e8-8ddb-a41f72875c19\"}, {\"name\": \"\\u5728\\u7ebf\\u9879\\u76ee\\u603b\\u6570\", \"x\": [9, 10], \"y\": [234, 150], \"type\": \"scatter\", \"uid\": \"533f45b6-d745-11e8-8ddb-a41f72875c19\"}], {\"title\": \"\\u5b8c\\u6210\\u9879\\u76ee\\u603b\\u6570&\\u5728\\u7ebf\\u9879\\u76ee\\u603b\\u6570\\u6708\\u8d8b\\u52bf\\u56fe\", \"xaxis\": {\"mirror\": \"all\", \"nticks\": 20, \"showgrid\": true, \"showline\": true, \"title\": \"\\u6708\", \"type\": \"category\", \"zeroline\": true}, \"yaxis\": {\"mirror\": \"all\", \"nticks\": 20, \"showgrid\": true, \"showline\": true, \"title\": \"\\u5b8c\\u6210\\u9879\\u76ee\\u603b\\u6570&\\u5728\\u7ebf\\u9879\\u76ee\\u603b\\u6570\", \"zeroline\": true}}, {\"showLink\": true, \"linkText\": \"Export to plot.ly\"})});</script>"
      ],
      "text/vnd.plotly.v1+html": [
       "<div id=\"d13c0d85-6d0d-4e2b-858d-d118258a019a\" style=\"height: 525px; width: 100%;\" class=\"plotly-graph-div\"></div><script type=\"text/javascript\">require([\"plotly\"], function(Plotly) { window.PLOTLYENV=window.PLOTLYENV || {};window.PLOTLYENV.BASE_URL=\"https://plot.ly\";Plotly.newPlot(\"d13c0d85-6d0d-4e2b-858d-d118258a019a\", [{\"name\": \"\\u5b8c\\u6210\\u9879\\u76ee\\u603b\\u6570\", \"x\": [9, 10], \"y\": [256, 117], \"type\": \"scatter\", \"uid\": \"533f45b5-d745-11e8-8ddb-a41f72875c19\"}, {\"name\": \"\\u5728\\u7ebf\\u9879\\u76ee\\u603b\\u6570\", \"x\": [9, 10], \"y\": [234, 150], \"type\": \"scatter\", \"uid\": \"533f45b6-d745-11e8-8ddb-a41f72875c19\"}], {\"title\": \"\\u5b8c\\u6210\\u9879\\u76ee\\u603b\\u6570&\\u5728\\u7ebf\\u9879\\u76ee\\u603b\\u6570\\u6708\\u8d8b\\u52bf\\u56fe\", \"xaxis\": {\"mirror\": \"all\", \"nticks\": 20, \"showgrid\": true, \"showline\": true, \"title\": \"\\u6708\", \"type\": \"category\", \"zeroline\": true}, \"yaxis\": {\"mirror\": \"all\", \"nticks\": 20, \"showgrid\": true, \"showline\": true, \"title\": \"\\u5b8c\\u6210\\u9879\\u76ee\\u603b\\u6570&\\u5728\\u7ebf\\u9879\\u76ee\\u603b\\u6570\", \"zeroline\": true}}, {\"showLink\": true, \"linkText\": \"Export to plot.ly\"})});</script>"
      ]
     },
     "metadata": {},
     "output_type": "display_data"
    }
   ],
   "source": [
    "ss = myModule.format(all_df1 ,\"日期（格式“月-周次”）\" ,['在线项目总数' ])\n",
    "#ss.add_group('组别')\n",
    "#ss.get_average_by('人员')\n",
    "myModule.myPlot(myModule.sort_by_index(ss.groupby('sum'))).plot('line')\n",
    "ss = myModule.format(all_df1 ,\"month\" ,['完成项目总数','在线项目总数'])\n",
    "#ss.add_group('组别')\n",
    "#ss.get_average_by('人员')\n",
    "myModule.myPlot(ss.groupby('sum')).plot('line','月')"
   ]
  },
  {
   "cell_type": "markdown",
   "metadata": {},
   "source": [
    "### 人均在线项目情况"
   ]
  },
  {
   "cell_type": "code",
   "execution_count": 54,
   "metadata": {
    "collapsed": false
   },
   "outputs": [
    {
     "data": {
      "application/vnd.plotly.v1+json": {
       "data": [
        {
         "line": {
          "dash": "solid"
         },
         "name": "在线项目总数(个性化组)",
         "type": "scatter",
         "uid": "533f45b7-d745-11e8-8ddb-a41f72875c19",
         "x": [
          "9-1",
          "9-2",
          "9-3",
          "9-4",
          "10-2",
          "10-3"
         ],
         "y": [
          1.75,
          1.75,
          2.5,
          2.5,
          4.8,
          5.6
         ]
        },
        {
         "line": {
          "dash": "dot"
         },
         "name": "在线项目总数(分析二组)",
         "type": "scatter",
         "uid": "533f45b8-d745-11e8-8ddb-a41f72875c19",
         "x": [
          "9-1",
          "9-2",
          "9-3",
          "9-4",
          "10-2",
          "10-3"
         ],
         "y": [
          4.3,
          4.2,
          3.9,
          3.9,
          4,
          4.25
         ]
        },
        {
         "line": {
          "dash": "dash"
         },
         "name": "在线项目总数(分析一组)",
         "type": "scatter",
         "uid": "533f45b9-d745-11e8-8ddb-a41f72875c19",
         "x": [
          "9-1",
          "9-2",
          "9-3",
          "9-4",
          "10-2",
          "10-3"
         ],
         "y": [
          2.25,
          2.25,
          2,
          2.75,
          5.8,
          7.2
         ]
        }
       ],
       "layout": {
        "title": "在线项目总数周趋势图",
        "xaxis": {
         "mirror": "all",
         "nticks": 20,
         "showgrid": true,
         "showline": true,
         "title": "周",
         "type": "category",
         "zeroline": true
        },
        "yaxis": {
         "mirror": "all",
         "nticks": 20,
         "showgrid": true,
         "showline": true,
         "title": "在线项目总数",
         "zeroline": true
        }
       }
      },
      "text/html": [
       "<div id=\"44038dc9-2289-4b45-9934-726578e4dde2\" style=\"height: 525px; width: 100%;\" class=\"plotly-graph-div\"></div><script type=\"text/javascript\">require([\"plotly\"], function(Plotly) { window.PLOTLYENV=window.PLOTLYENV || {};window.PLOTLYENV.BASE_URL=\"https://plot.ly\";Plotly.newPlot(\"44038dc9-2289-4b45-9934-726578e4dde2\", [{\"line\": {\"dash\": \"solid\"}, \"name\": \"\\u5728\\u7ebf\\u9879\\u76ee\\u603b\\u6570(\\u4e2a\\u6027\\u5316\\u7ec4)\", \"x\": [\"9-1\", \"9-2\", \"9-3\", \"9-4\", \"10-2\", \"10-3\"], \"y\": [1.75, 1.75, 2.5, 2.5, 4.8, 5.6], \"type\": \"scatter\", \"uid\": \"533f45b7-d745-11e8-8ddb-a41f72875c19\"}, {\"line\": {\"dash\": \"dot\"}, \"name\": \"\\u5728\\u7ebf\\u9879\\u76ee\\u603b\\u6570(\\u5206\\u6790\\u4e8c\\u7ec4)\", \"x\": [\"9-1\", \"9-2\", \"9-3\", \"9-4\", \"10-2\", \"10-3\"], \"y\": [4.3, 4.2, 3.9, 3.9, 4.0, 4.25], \"type\": \"scatter\", \"uid\": \"533f45b8-d745-11e8-8ddb-a41f72875c19\"}, {\"line\": {\"dash\": \"dash\"}, \"name\": \"\\u5728\\u7ebf\\u9879\\u76ee\\u603b\\u6570(\\u5206\\u6790\\u4e00\\u7ec4)\", \"x\": [\"9-1\", \"9-2\", \"9-3\", \"9-4\", \"10-2\", \"10-3\"], \"y\": [2.25, 2.25, 2.0, 2.75, 5.8, 7.2], \"type\": \"scatter\", \"uid\": \"533f45b9-d745-11e8-8ddb-a41f72875c19\"}], {\"title\": \"\\u5728\\u7ebf\\u9879\\u76ee\\u603b\\u6570\\u5468\\u8d8b\\u52bf\\u56fe\", \"xaxis\": {\"mirror\": \"all\", \"nticks\": 20, \"showgrid\": true, \"showline\": true, \"title\": \"\\u5468\", \"type\": \"category\", \"zeroline\": true}, \"yaxis\": {\"mirror\": \"all\", \"nticks\": 20, \"showgrid\": true, \"showline\": true, \"title\": \"\\u5728\\u7ebf\\u9879\\u76ee\\u603b\\u6570\", \"zeroline\": true}}, {\"showLink\": true, \"linkText\": \"Export to plot.ly\"})});</script>"
      ],
      "text/vnd.plotly.v1+html": [
       "<div id=\"44038dc9-2289-4b45-9934-726578e4dde2\" style=\"height: 525px; width: 100%;\" class=\"plotly-graph-div\"></div><script type=\"text/javascript\">require([\"plotly\"], function(Plotly) { window.PLOTLYENV=window.PLOTLYENV || {};window.PLOTLYENV.BASE_URL=\"https://plot.ly\";Plotly.newPlot(\"44038dc9-2289-4b45-9934-726578e4dde2\", [{\"line\": {\"dash\": \"solid\"}, \"name\": \"\\u5728\\u7ebf\\u9879\\u76ee\\u603b\\u6570(\\u4e2a\\u6027\\u5316\\u7ec4)\", \"x\": [\"9-1\", \"9-2\", \"9-3\", \"9-4\", \"10-2\", \"10-3\"], \"y\": [1.75, 1.75, 2.5, 2.5, 4.8, 5.6], \"type\": \"scatter\", \"uid\": \"533f45b7-d745-11e8-8ddb-a41f72875c19\"}, {\"line\": {\"dash\": \"dot\"}, \"name\": \"\\u5728\\u7ebf\\u9879\\u76ee\\u603b\\u6570(\\u5206\\u6790\\u4e8c\\u7ec4)\", \"x\": [\"9-1\", \"9-2\", \"9-3\", \"9-4\", \"10-2\", \"10-3\"], \"y\": [4.3, 4.2, 3.9, 3.9, 4.0, 4.25], \"type\": \"scatter\", \"uid\": \"533f45b8-d745-11e8-8ddb-a41f72875c19\"}, {\"line\": {\"dash\": \"dash\"}, \"name\": \"\\u5728\\u7ebf\\u9879\\u76ee\\u603b\\u6570(\\u5206\\u6790\\u4e00\\u7ec4)\", \"x\": [\"9-1\", \"9-2\", \"9-3\", \"9-4\", \"10-2\", \"10-3\"], \"y\": [2.25, 2.25, 2.0, 2.75, 5.8, 7.2], \"type\": \"scatter\", \"uid\": \"533f45b9-d745-11e8-8ddb-a41f72875c19\"}], {\"title\": \"\\u5728\\u7ebf\\u9879\\u76ee\\u603b\\u6570\\u5468\\u8d8b\\u52bf\\u56fe\", \"xaxis\": {\"mirror\": \"all\", \"nticks\": 20, \"showgrid\": true, \"showline\": true, \"title\": \"\\u5468\", \"type\": \"category\", \"zeroline\": true}, \"yaxis\": {\"mirror\": \"all\", \"nticks\": 20, \"showgrid\": true, \"showline\": true, \"title\": \"\\u5728\\u7ebf\\u9879\\u76ee\\u603b\\u6570\", \"zeroline\": true}}, {\"showLink\": true, \"linkText\": \"Export to plot.ly\"})});</script>"
      ]
     },
     "metadata": {},
     "output_type": "display_data"
    },
    {
     "data": {
      "application/vnd.plotly.v1+json": {
       "data": [
        {
         "line": {
          "dash": "solid"
         },
         "name": "完成项目总数(个性化组)",
         "type": "scatter",
         "uid": "533f45ba-d745-11e8-8ddb-a41f72875c19",
         "x": [
          9,
          10
         ],
         "y": [
          14.75,
          5.4
         ]
        },
        {
         "line": {
          "dash": "dot"
         },
         "name": "完成项目总数(分析二组)",
         "type": "scatter",
         "uid": "533f45bb-d745-11e8-8ddb-a41f72875c19",
         "x": [
          9,
          10
         ],
         "y": [
          15.2,
          9.5
         ]
        },
        {
         "line": {
          "dash": "dash"
         },
         "name": "完成项目总数(分析一组)",
         "type": "scatter",
         "uid": "533f45bc-d745-11e8-8ddb-a41f72875c19",
         "x": [
          9,
          10
         ],
         "y": [
          11.25,
          10.4
         ]
        },
        {
         "line": {
          "dash": "solid"
         },
         "name": "在线项目总数(个性化组)",
         "type": "scatter",
         "uid": "533f45bd-d745-11e8-8ddb-a41f72875c19",
         "x": [
          9,
          10
         ],
         "y": [
          8.5,
          10.4
         ]
        },
        {
         "line": {
          "dash": "dot"
         },
         "name": "在线项目总数(分析二组)",
         "type": "scatter",
         "uid": "533f45be-d745-11e8-8ddb-a41f72875c19",
         "x": [
          9,
          10
         ],
         "y": [
          16.3,
          8.25
         ]
        },
        {
         "line": {
          "dash": "dash"
         },
         "name": "在线项目总数(分析一组)",
         "type": "scatter",
         "uid": "533f45bf-d745-11e8-8ddb-a41f72875c19",
         "x": [
          9,
          10
         ],
         "y": [
          9.25,
          13
         ]
        }
       ],
       "layout": {
        "title": "完成项目总数&在线项目总数月趋势图",
        "xaxis": {
         "mirror": "all",
         "nticks": 20,
         "showgrid": true,
         "showline": true,
         "title": "月",
         "type": "category",
         "zeroline": true
        },
        "yaxis": {
         "mirror": "all",
         "nticks": 20,
         "showgrid": true,
         "showline": true,
         "title": "完成项目总数&在线项目总数",
         "zeroline": true
        }
       }
      },
      "text/html": [
       "<div id=\"907fe3f9-0006-463b-8f3f-336c7ff9abdf\" style=\"height: 525px; width: 100%;\" class=\"plotly-graph-div\"></div><script type=\"text/javascript\">require([\"plotly\"], function(Plotly) { window.PLOTLYENV=window.PLOTLYENV || {};window.PLOTLYENV.BASE_URL=\"https://plot.ly\";Plotly.newPlot(\"907fe3f9-0006-463b-8f3f-336c7ff9abdf\", [{\"line\": {\"dash\": \"solid\"}, \"name\": \"\\u5b8c\\u6210\\u9879\\u76ee\\u603b\\u6570(\\u4e2a\\u6027\\u5316\\u7ec4)\", \"x\": [9, 10], \"y\": [14.75, 5.4], \"type\": \"scatter\", \"uid\": \"533f45ba-d745-11e8-8ddb-a41f72875c19\"}, {\"line\": {\"dash\": \"dot\"}, \"name\": \"\\u5b8c\\u6210\\u9879\\u76ee\\u603b\\u6570(\\u5206\\u6790\\u4e8c\\u7ec4)\", \"x\": [9, 10], \"y\": [15.2, 9.5], \"type\": \"scatter\", \"uid\": \"533f45bb-d745-11e8-8ddb-a41f72875c19\"}, {\"line\": {\"dash\": \"dash\"}, \"name\": \"\\u5b8c\\u6210\\u9879\\u76ee\\u603b\\u6570(\\u5206\\u6790\\u4e00\\u7ec4)\", \"x\": [9, 10], \"y\": [11.25, 10.4], \"type\": \"scatter\", \"uid\": \"533f45bc-d745-11e8-8ddb-a41f72875c19\"}, {\"line\": {\"dash\": \"solid\"}, \"name\": \"\\u5728\\u7ebf\\u9879\\u76ee\\u603b\\u6570(\\u4e2a\\u6027\\u5316\\u7ec4)\", \"x\": [9, 10], \"y\": [8.5, 10.4], \"type\": \"scatter\", \"uid\": \"533f45bd-d745-11e8-8ddb-a41f72875c19\"}, {\"line\": {\"dash\": \"dot\"}, \"name\": \"\\u5728\\u7ebf\\u9879\\u76ee\\u603b\\u6570(\\u5206\\u6790\\u4e8c\\u7ec4)\", \"x\": [9, 10], \"y\": [16.3, 8.25], \"type\": \"scatter\", \"uid\": \"533f45be-d745-11e8-8ddb-a41f72875c19\"}, {\"line\": {\"dash\": \"dash\"}, \"name\": \"\\u5728\\u7ebf\\u9879\\u76ee\\u603b\\u6570(\\u5206\\u6790\\u4e00\\u7ec4)\", \"x\": [9, 10], \"y\": [9.25, 13.0], \"type\": \"scatter\", \"uid\": \"533f45bf-d745-11e8-8ddb-a41f72875c19\"}], {\"title\": \"\\u5b8c\\u6210\\u9879\\u76ee\\u603b\\u6570&\\u5728\\u7ebf\\u9879\\u76ee\\u603b\\u6570\\u6708\\u8d8b\\u52bf\\u56fe\", \"xaxis\": {\"mirror\": \"all\", \"nticks\": 20, \"showgrid\": true, \"showline\": true, \"title\": \"\\u6708\", \"type\": \"category\", \"zeroline\": true}, \"yaxis\": {\"mirror\": \"all\", \"nticks\": 20, \"showgrid\": true, \"showline\": true, \"title\": \"\\u5b8c\\u6210\\u9879\\u76ee\\u603b\\u6570&\\u5728\\u7ebf\\u9879\\u76ee\\u603b\\u6570\", \"zeroline\": true}}, {\"showLink\": true, \"linkText\": \"Export to plot.ly\"})});</script>"
      ],
      "text/vnd.plotly.v1+html": [
       "<div id=\"907fe3f9-0006-463b-8f3f-336c7ff9abdf\" style=\"height: 525px; width: 100%;\" class=\"plotly-graph-div\"></div><script type=\"text/javascript\">require([\"plotly\"], function(Plotly) { window.PLOTLYENV=window.PLOTLYENV || {};window.PLOTLYENV.BASE_URL=\"https://plot.ly\";Plotly.newPlot(\"907fe3f9-0006-463b-8f3f-336c7ff9abdf\", [{\"line\": {\"dash\": \"solid\"}, \"name\": \"\\u5b8c\\u6210\\u9879\\u76ee\\u603b\\u6570(\\u4e2a\\u6027\\u5316\\u7ec4)\", \"x\": [9, 10], \"y\": [14.75, 5.4], \"type\": \"scatter\", \"uid\": \"533f45ba-d745-11e8-8ddb-a41f72875c19\"}, {\"line\": {\"dash\": \"dot\"}, \"name\": \"\\u5b8c\\u6210\\u9879\\u76ee\\u603b\\u6570(\\u5206\\u6790\\u4e8c\\u7ec4)\", \"x\": [9, 10], \"y\": [15.2, 9.5], \"type\": \"scatter\", \"uid\": \"533f45bb-d745-11e8-8ddb-a41f72875c19\"}, {\"line\": {\"dash\": \"dash\"}, \"name\": \"\\u5b8c\\u6210\\u9879\\u76ee\\u603b\\u6570(\\u5206\\u6790\\u4e00\\u7ec4)\", \"x\": [9, 10], \"y\": [11.25, 10.4], \"type\": \"scatter\", \"uid\": \"533f45bc-d745-11e8-8ddb-a41f72875c19\"}, {\"line\": {\"dash\": \"solid\"}, \"name\": \"\\u5728\\u7ebf\\u9879\\u76ee\\u603b\\u6570(\\u4e2a\\u6027\\u5316\\u7ec4)\", \"x\": [9, 10], \"y\": [8.5, 10.4], \"type\": \"scatter\", \"uid\": \"533f45bd-d745-11e8-8ddb-a41f72875c19\"}, {\"line\": {\"dash\": \"dot\"}, \"name\": \"\\u5728\\u7ebf\\u9879\\u76ee\\u603b\\u6570(\\u5206\\u6790\\u4e8c\\u7ec4)\", \"x\": [9, 10], \"y\": [16.3, 8.25], \"type\": \"scatter\", \"uid\": \"533f45be-d745-11e8-8ddb-a41f72875c19\"}, {\"line\": {\"dash\": \"dash\"}, \"name\": \"\\u5728\\u7ebf\\u9879\\u76ee\\u603b\\u6570(\\u5206\\u6790\\u4e00\\u7ec4)\", \"x\": [9, 10], \"y\": [9.25, 13.0], \"type\": \"scatter\", \"uid\": \"533f45bf-d745-11e8-8ddb-a41f72875c19\"}], {\"title\": \"\\u5b8c\\u6210\\u9879\\u76ee\\u603b\\u6570&\\u5728\\u7ebf\\u9879\\u76ee\\u603b\\u6570\\u6708\\u8d8b\\u52bf\\u56fe\", \"xaxis\": {\"mirror\": \"all\", \"nticks\": 20, \"showgrid\": true, \"showline\": true, \"title\": \"\\u6708\", \"type\": \"category\", \"zeroline\": true}, \"yaxis\": {\"mirror\": \"all\", \"nticks\": 20, \"showgrid\": true, \"showline\": true, \"title\": \"\\u5b8c\\u6210\\u9879\\u76ee\\u603b\\u6570&\\u5728\\u7ebf\\u9879\\u76ee\\u603b\\u6570\", \"zeroline\": true}}, {\"showLink\": true, \"linkText\": \"Export to plot.ly\"})});</script>"
      ]
     },
     "metadata": {},
     "output_type": "display_data"
    }
   ],
   "source": [
    "ss = myModule.format(all_df1 ,\"日期（格式“月-周次”）\" ,['在线项目总数' ])\n",
    "ss.add_group('组别')\n",
    "ss.get_average_by('人员')\n",
    "myModule.myPlot(myModule.sort_by_index(ss.groupby('sum'))).plot('line')\n",
    "ss = myModule.format(all_df1 ,\"month\" ,['完成项目总数','在线项目总数'])\n",
    "ss.add_group('组别')\n",
    "ss.get_average_by('人员')\n",
    "myModule.myPlot(ss.groupby('sum')).plot('line','月')"
   ]
  },
  {
   "cell_type": "markdown",
   "metadata": {},
   "source": [
    "## 未下机商业项目数"
   ]
  },
  {
   "cell_type": "code",
   "execution_count": 55,
   "metadata": {
    "collapsed": false
   },
   "outputs": [
    {
     "data": {
      "application/vnd.plotly.v1+json": {
       "data": [
        {
         "name": "未下机项目数",
         "type": "scatter",
         "uid": "533f45c0-d745-11e8-8ddb-a41f72875c19",
         "x": [
          "9-1",
          "9-2",
          "9-3",
          "9-4",
          "10-2",
          "10-3"
         ],
         "y": [
          127,
          115,
          121,
          96,
          81,
          81
         ]
        }
       ],
       "layout": {
        "title": "未下机项目数周趋势图",
        "xaxis": {
         "mirror": "all",
         "nticks": 20,
         "showgrid": true,
         "showline": true,
         "title": "周",
         "type": "category",
         "zeroline": true
        },
        "yaxis": {
         "mirror": "all",
         "nticks": 20,
         "showgrid": true,
         "showline": true,
         "title": "未下机项目数",
         "zeroline": true
        }
       }
      },
      "text/html": [
       "<div id=\"b8542ba3-deab-4e9d-a704-1a124cc301f8\" style=\"height: 525px; width: 100%;\" class=\"plotly-graph-div\"></div><script type=\"text/javascript\">require([\"plotly\"], function(Plotly) { window.PLOTLYENV=window.PLOTLYENV || {};window.PLOTLYENV.BASE_URL=\"https://plot.ly\";Plotly.newPlot(\"b8542ba3-deab-4e9d-a704-1a124cc301f8\", [{\"name\": \"\\u672a\\u4e0b\\u673a\\u9879\\u76ee\\u6570\", \"x\": [\"9-1\", \"9-2\", \"9-3\", \"9-4\", \"10-2\", \"10-3\"], \"y\": [127, 115, 121, 96, 81, 81], \"type\": \"scatter\", \"uid\": \"533f45c0-d745-11e8-8ddb-a41f72875c19\"}], {\"title\": \"\\u672a\\u4e0b\\u673a\\u9879\\u76ee\\u6570\\u5468\\u8d8b\\u52bf\\u56fe\", \"xaxis\": {\"mirror\": \"all\", \"nticks\": 20, \"showgrid\": true, \"showline\": true, \"title\": \"\\u5468\", \"type\": \"category\", \"zeroline\": true}, \"yaxis\": {\"mirror\": \"all\", \"nticks\": 20, \"showgrid\": true, \"showline\": true, \"title\": \"\\u672a\\u4e0b\\u673a\\u9879\\u76ee\\u6570\", \"zeroline\": true}}, {\"showLink\": true, \"linkText\": \"Export to plot.ly\"})});</script>"
      ],
      "text/vnd.plotly.v1+html": [
       "<div id=\"b8542ba3-deab-4e9d-a704-1a124cc301f8\" style=\"height: 525px; width: 100%;\" class=\"plotly-graph-div\"></div><script type=\"text/javascript\">require([\"plotly\"], function(Plotly) { window.PLOTLYENV=window.PLOTLYENV || {};window.PLOTLYENV.BASE_URL=\"https://plot.ly\";Plotly.newPlot(\"b8542ba3-deab-4e9d-a704-1a124cc301f8\", [{\"name\": \"\\u672a\\u4e0b\\u673a\\u9879\\u76ee\\u6570\", \"x\": [\"9-1\", \"9-2\", \"9-3\", \"9-4\", \"10-2\", \"10-3\"], \"y\": [127, 115, 121, 96, 81, 81], \"type\": \"scatter\", \"uid\": \"533f45c0-d745-11e8-8ddb-a41f72875c19\"}], {\"title\": \"\\u672a\\u4e0b\\u673a\\u9879\\u76ee\\u6570\\u5468\\u8d8b\\u52bf\\u56fe\", \"xaxis\": {\"mirror\": \"all\", \"nticks\": 20, \"showgrid\": true, \"showline\": true, \"title\": \"\\u5468\", \"type\": \"category\", \"zeroline\": true}, \"yaxis\": {\"mirror\": \"all\", \"nticks\": 20, \"showgrid\": true, \"showline\": true, \"title\": \"\\u672a\\u4e0b\\u673a\\u9879\\u76ee\\u6570\", \"zeroline\": true}}, {\"showLink\": true, \"linkText\": \"Export to plot.ly\"})});</script>"
      ]
     },
     "metadata": {},
     "output_type": "display_data"
    },
    {
     "data": {
      "application/vnd.plotly.v1+json": {
       "data": [
        {
         "name": "未下机项目数",
         "type": "scatter",
         "uid": "533f45c1-d745-11e8-8ddb-a41f72875c19",
         "x": [
          9,
          10
         ],
         "y": [
          459,
          162
         ]
        }
       ],
       "layout": {
        "title": "未下机项目数月趋势图",
        "xaxis": {
         "mirror": "all",
         "nticks": 20,
         "showgrid": true,
         "showline": true,
         "title": "月",
         "type": "category",
         "zeroline": true
        },
        "yaxis": {
         "mirror": "all",
         "nticks": 20,
         "showgrid": true,
         "showline": true,
         "title": "未下机项目数",
         "zeroline": true
        }
       }
      },
      "text/html": [
       "<div id=\"c6a6e6b4-6c63-4b6c-a1e9-eb2675ae74da\" style=\"height: 525px; width: 100%;\" class=\"plotly-graph-div\"></div><script type=\"text/javascript\">require([\"plotly\"], function(Plotly) { window.PLOTLYENV=window.PLOTLYENV || {};window.PLOTLYENV.BASE_URL=\"https://plot.ly\";Plotly.newPlot(\"c6a6e6b4-6c63-4b6c-a1e9-eb2675ae74da\", [{\"name\": \"\\u672a\\u4e0b\\u673a\\u9879\\u76ee\\u6570\", \"x\": [9, 10], \"y\": [459, 162], \"type\": \"scatter\", \"uid\": \"533f45c1-d745-11e8-8ddb-a41f72875c19\"}], {\"title\": \"\\u672a\\u4e0b\\u673a\\u9879\\u76ee\\u6570\\u6708\\u8d8b\\u52bf\\u56fe\", \"xaxis\": {\"mirror\": \"all\", \"nticks\": 20, \"showgrid\": true, \"showline\": true, \"title\": \"\\u6708\", \"type\": \"category\", \"zeroline\": true}, \"yaxis\": {\"mirror\": \"all\", \"nticks\": 20, \"showgrid\": true, \"showline\": true, \"title\": \"\\u672a\\u4e0b\\u673a\\u9879\\u76ee\\u6570\", \"zeroline\": true}}, {\"showLink\": true, \"linkText\": \"Export to plot.ly\"})});</script>"
      ],
      "text/vnd.plotly.v1+html": [
       "<div id=\"c6a6e6b4-6c63-4b6c-a1e9-eb2675ae74da\" style=\"height: 525px; width: 100%;\" class=\"plotly-graph-div\"></div><script type=\"text/javascript\">require([\"plotly\"], function(Plotly) { window.PLOTLYENV=window.PLOTLYENV || {};window.PLOTLYENV.BASE_URL=\"https://plot.ly\";Plotly.newPlot(\"c6a6e6b4-6c63-4b6c-a1e9-eb2675ae74da\", [{\"name\": \"\\u672a\\u4e0b\\u673a\\u9879\\u76ee\\u6570\", \"x\": [9, 10], \"y\": [459, 162], \"type\": \"scatter\", \"uid\": \"533f45c1-d745-11e8-8ddb-a41f72875c19\"}], {\"title\": \"\\u672a\\u4e0b\\u673a\\u9879\\u76ee\\u6570\\u6708\\u8d8b\\u52bf\\u56fe\", \"xaxis\": {\"mirror\": \"all\", \"nticks\": 20, \"showgrid\": true, \"showline\": true, \"title\": \"\\u6708\", \"type\": \"category\", \"zeroline\": true}, \"yaxis\": {\"mirror\": \"all\", \"nticks\": 20, \"showgrid\": true, \"showline\": true, \"title\": \"\\u672a\\u4e0b\\u673a\\u9879\\u76ee\\u6570\", \"zeroline\": true}}, {\"showLink\": true, \"linkText\": \"Export to plot.ly\"})});</script>"
      ]
     },
     "metadata": {},
     "output_type": "display_data"
    }
   ],
   "source": [
    "ss = myModule.format(all_df1 ,\"日期（格式“月-周次”）\" ,['未下机项目数' ])\n",
    "#ss.add_group('组别')\n",
    "#ss.get_average_by('人员')\n",
    "myModule.myPlot(myModule.sort_by_index(ss.groupby('sum'))).plot('line')\n",
    "ss = myModule.format(all_df1 ,\"month\" ,['未下机项目数' ])\n",
    "#ss.add_group('组别')\n",
    "#ss.get_average_by('人员')\n",
    "myModule.myPlot(ss.groupby('sum')).plot('line','月')"
   ]
  },
  {
   "cell_type": "markdown",
   "metadata": {},
   "source": [
    "# 项目质量情况"
   ]
  },
  {
   "cell_type": "markdown",
   "metadata": {},
   "source": [
    "## 项目周期情况"
   ]
  },
  {
   "cell_type": "markdown",
   "metadata": {},
   "source": [
    "### 延期项目数"
   ]
  },
  {
   "cell_type": "code",
   "execution_count": 56,
   "metadata": {
    "collapsed": false
   },
   "outputs": [
    {
     "data": {
      "application/vnd.plotly.v1+json": {
       "data": [
        {
         "name": "延期个性化项目数",
         "type": "scatter",
         "uid": "533f45c2-d745-11e8-8ddb-a41f72875c19",
         "x": [
          "9-1",
          "9-2",
          "9-3",
          "9-4",
          "10-2",
          "10-3"
         ],
         "y": [
          3,
          0,
          0,
          1,
          0,
          0
         ]
        },
        {
         "name": "延期商业项目数",
         "type": "scatter",
         "uid": "533f45c3-d745-11e8-8ddb-a41f72875c19",
         "x": [
          "9-1",
          "9-2",
          "9-3",
          "9-4",
          "10-2",
          "10-3"
         ],
         "y": [
          0,
          0,
          1,
          1,
          2,
          0
         ]
        }
       ],
       "layout": {
        "title": "延期个性化项目数&延期商业项目数周趋势图",
        "xaxis": {
         "mirror": "all",
         "nticks": 20,
         "showgrid": true,
         "showline": true,
         "title": "周",
         "type": "category",
         "zeroline": true
        },
        "yaxis": {
         "mirror": "all",
         "nticks": 20,
         "showgrid": true,
         "showline": true,
         "title": "延期个性化项目数&延期商业项目数",
         "zeroline": true
        }
       }
      },
      "text/html": [
       "<div id=\"931ec393-efc4-4837-88aa-d6bccd69387b\" style=\"height: 525px; width: 100%;\" class=\"plotly-graph-div\"></div><script type=\"text/javascript\">require([\"plotly\"], function(Plotly) { window.PLOTLYENV=window.PLOTLYENV || {};window.PLOTLYENV.BASE_URL=\"https://plot.ly\";Plotly.newPlot(\"931ec393-efc4-4837-88aa-d6bccd69387b\", [{\"name\": \"\\u5ef6\\u671f\\u4e2a\\u6027\\u5316\\u9879\\u76ee\\u6570\", \"x\": [\"9-1\", \"9-2\", \"9-3\", \"9-4\", \"10-2\", \"10-3\"], \"y\": [3, 0, 0, 1, 0, 0], \"type\": \"scatter\", \"uid\": \"533f45c2-d745-11e8-8ddb-a41f72875c19\"}, {\"name\": \"\\u5ef6\\u671f\\u5546\\u4e1a\\u9879\\u76ee\\u6570\", \"x\": [\"9-1\", \"9-2\", \"9-3\", \"9-4\", \"10-2\", \"10-3\"], \"y\": [0, 0, 1, 1, 2, 0], \"type\": \"scatter\", \"uid\": \"533f45c3-d745-11e8-8ddb-a41f72875c19\"}], {\"title\": \"\\u5ef6\\u671f\\u4e2a\\u6027\\u5316\\u9879\\u76ee\\u6570&\\u5ef6\\u671f\\u5546\\u4e1a\\u9879\\u76ee\\u6570\\u5468\\u8d8b\\u52bf\\u56fe\", \"xaxis\": {\"mirror\": \"all\", \"nticks\": 20, \"showgrid\": true, \"showline\": true, \"title\": \"\\u5468\", \"type\": \"category\", \"zeroline\": true}, \"yaxis\": {\"mirror\": \"all\", \"nticks\": 20, \"showgrid\": true, \"showline\": true, \"title\": \"\\u5ef6\\u671f\\u4e2a\\u6027\\u5316\\u9879\\u76ee\\u6570&\\u5ef6\\u671f\\u5546\\u4e1a\\u9879\\u76ee\\u6570\", \"zeroline\": true}}, {\"showLink\": true, \"linkText\": \"Export to plot.ly\"})});</script>"
      ],
      "text/vnd.plotly.v1+html": [
       "<div id=\"931ec393-efc4-4837-88aa-d6bccd69387b\" style=\"height: 525px; width: 100%;\" class=\"plotly-graph-div\"></div><script type=\"text/javascript\">require([\"plotly\"], function(Plotly) { window.PLOTLYENV=window.PLOTLYENV || {};window.PLOTLYENV.BASE_URL=\"https://plot.ly\";Plotly.newPlot(\"931ec393-efc4-4837-88aa-d6bccd69387b\", [{\"name\": \"\\u5ef6\\u671f\\u4e2a\\u6027\\u5316\\u9879\\u76ee\\u6570\", \"x\": [\"9-1\", \"9-2\", \"9-3\", \"9-4\", \"10-2\", \"10-3\"], \"y\": [3, 0, 0, 1, 0, 0], \"type\": \"scatter\", \"uid\": \"533f45c2-d745-11e8-8ddb-a41f72875c19\"}, {\"name\": \"\\u5ef6\\u671f\\u5546\\u4e1a\\u9879\\u76ee\\u6570\", \"x\": [\"9-1\", \"9-2\", \"9-3\", \"9-4\", \"10-2\", \"10-3\"], \"y\": [0, 0, 1, 1, 2, 0], \"type\": \"scatter\", \"uid\": \"533f45c3-d745-11e8-8ddb-a41f72875c19\"}], {\"title\": \"\\u5ef6\\u671f\\u4e2a\\u6027\\u5316\\u9879\\u76ee\\u6570&\\u5ef6\\u671f\\u5546\\u4e1a\\u9879\\u76ee\\u6570\\u5468\\u8d8b\\u52bf\\u56fe\", \"xaxis\": {\"mirror\": \"all\", \"nticks\": 20, \"showgrid\": true, \"showline\": true, \"title\": \"\\u5468\", \"type\": \"category\", \"zeroline\": true}, \"yaxis\": {\"mirror\": \"all\", \"nticks\": 20, \"showgrid\": true, \"showline\": true, \"title\": \"\\u5ef6\\u671f\\u4e2a\\u6027\\u5316\\u9879\\u76ee\\u6570&\\u5ef6\\u671f\\u5546\\u4e1a\\u9879\\u76ee\\u6570\", \"zeroline\": true}}, {\"showLink\": true, \"linkText\": \"Export to plot.ly\"})});</script>"
      ]
     },
     "metadata": {},
     "output_type": "display_data"
    },
    {
     "data": {
      "application/vnd.plotly.v1+json": {
       "data": [
        {
         "name": "延期个性化项目数",
         "type": "scatter",
         "uid": "533f45c4-d745-11e8-8ddb-a41f72875c19",
         "x": [
          9,
          10
         ],
         "y": [
          4,
          0
         ]
        },
        {
         "name": "延期商业项目数",
         "type": "scatter",
         "uid": "533f45c5-d745-11e8-8ddb-a41f72875c19",
         "x": [
          9,
          10
         ],
         "y": [
          2,
          2
         ]
        }
       ],
       "layout": {
        "title": "延期个性化项目数&延期商业项目数月趋势图",
        "xaxis": {
         "mirror": "all",
         "nticks": 20,
         "showgrid": true,
         "showline": true,
         "title": "月",
         "type": "category",
         "zeroline": true
        },
        "yaxis": {
         "mirror": "all",
         "nticks": 20,
         "showgrid": true,
         "showline": true,
         "title": "延期个性化项目数&延期商业项目数",
         "zeroline": true
        }
       }
      },
      "text/html": [
       "<div id=\"cd5566dd-4233-4d25-adf8-694f016809e6\" style=\"height: 525px; width: 100%;\" class=\"plotly-graph-div\"></div><script type=\"text/javascript\">require([\"plotly\"], function(Plotly) { window.PLOTLYENV=window.PLOTLYENV || {};window.PLOTLYENV.BASE_URL=\"https://plot.ly\";Plotly.newPlot(\"cd5566dd-4233-4d25-adf8-694f016809e6\", [{\"name\": \"\\u5ef6\\u671f\\u4e2a\\u6027\\u5316\\u9879\\u76ee\\u6570\", \"x\": [9, 10], \"y\": [4, 0], \"type\": \"scatter\", \"uid\": \"533f45c4-d745-11e8-8ddb-a41f72875c19\"}, {\"name\": \"\\u5ef6\\u671f\\u5546\\u4e1a\\u9879\\u76ee\\u6570\", \"x\": [9, 10], \"y\": [2, 2], \"type\": \"scatter\", \"uid\": \"533f45c5-d745-11e8-8ddb-a41f72875c19\"}], {\"title\": \"\\u5ef6\\u671f\\u4e2a\\u6027\\u5316\\u9879\\u76ee\\u6570&\\u5ef6\\u671f\\u5546\\u4e1a\\u9879\\u76ee\\u6570\\u6708\\u8d8b\\u52bf\\u56fe\", \"xaxis\": {\"mirror\": \"all\", \"nticks\": 20, \"showgrid\": true, \"showline\": true, \"title\": \"\\u6708\", \"type\": \"category\", \"zeroline\": true}, \"yaxis\": {\"mirror\": \"all\", \"nticks\": 20, \"showgrid\": true, \"showline\": true, \"title\": \"\\u5ef6\\u671f\\u4e2a\\u6027\\u5316\\u9879\\u76ee\\u6570&\\u5ef6\\u671f\\u5546\\u4e1a\\u9879\\u76ee\\u6570\", \"zeroline\": true}}, {\"showLink\": true, \"linkText\": \"Export to plot.ly\"})});</script>"
      ],
      "text/vnd.plotly.v1+html": [
       "<div id=\"cd5566dd-4233-4d25-adf8-694f016809e6\" style=\"height: 525px; width: 100%;\" class=\"plotly-graph-div\"></div><script type=\"text/javascript\">require([\"plotly\"], function(Plotly) { window.PLOTLYENV=window.PLOTLYENV || {};window.PLOTLYENV.BASE_URL=\"https://plot.ly\";Plotly.newPlot(\"cd5566dd-4233-4d25-adf8-694f016809e6\", [{\"name\": \"\\u5ef6\\u671f\\u4e2a\\u6027\\u5316\\u9879\\u76ee\\u6570\", \"x\": [9, 10], \"y\": [4, 0], \"type\": \"scatter\", \"uid\": \"533f45c4-d745-11e8-8ddb-a41f72875c19\"}, {\"name\": \"\\u5ef6\\u671f\\u5546\\u4e1a\\u9879\\u76ee\\u6570\", \"x\": [9, 10], \"y\": [2, 2], \"type\": \"scatter\", \"uid\": \"533f45c5-d745-11e8-8ddb-a41f72875c19\"}], {\"title\": \"\\u5ef6\\u671f\\u4e2a\\u6027\\u5316\\u9879\\u76ee\\u6570&\\u5ef6\\u671f\\u5546\\u4e1a\\u9879\\u76ee\\u6570\\u6708\\u8d8b\\u52bf\\u56fe\", \"xaxis\": {\"mirror\": \"all\", \"nticks\": 20, \"showgrid\": true, \"showline\": true, \"title\": \"\\u6708\", \"type\": \"category\", \"zeroline\": true}, \"yaxis\": {\"mirror\": \"all\", \"nticks\": 20, \"showgrid\": true, \"showline\": true, \"title\": \"\\u5ef6\\u671f\\u4e2a\\u6027\\u5316\\u9879\\u76ee\\u6570&\\u5ef6\\u671f\\u5546\\u4e1a\\u9879\\u76ee\\u6570\", \"zeroline\": true}}, {\"showLink\": true, \"linkText\": \"Export to plot.ly\"})});</script>"
      ]
     },
     "metadata": {},
     "output_type": "display_data"
    }
   ],
   "source": [
    "ss = myModule.format(all_df2 ,\"日期（格式“月-周次”）\" ,['延期商业项目数','延期个性化项目数' ])\n",
    "#ss.add_group('组别')\n",
    "#ss.get_average_by('人员')\n",
    "myModule.myPlot(myModule.sort_by_index(ss.groupby('sum'))).plot('line')\n",
    "ss = myModule.format(all_df2 ,\"month\" ,['延期商业项目数','延期个性化项目数' ])\n",
    "#ss.add_group('组别')\n",
    "#ss.get_average_by('人员')\n",
    "myModule.myPlot(ss.groupby('sum')).plot('line','月')"
   ]
  },
  {
   "cell_type": "markdown",
   "metadata": {},
   "source": [
    "### 项目执行延期率"
   ]
  },
  {
   "cell_type": "code",
   "execution_count": 57,
   "metadata": {
    "collapsed": false
   },
   "outputs": [],
   "source": [
    "#data_dict = {'商业项目延期率':['延期商业项目数', '总商业项目数'], \n",
    "#             '个性化项目延期率':['延期个性化项目数', '总个性化数'],\n",
    "#             '总延期率':['总延期项目数', '总项目数']}\n",
    "#myModule.plot( all_dict, data_dict, '人员' ,  'line' , total=True ,time_list = time_list)\n",
    "#myModule.plot( all_dict, data_dict, '组别' ,  'line' ,time_list = time_list)"
   ]
  },
  {
   "cell_type": "markdown",
   "metadata": {},
   "source": [
    "## 项目过程执行情况"
   ]
  },
  {
   "cell_type": "markdown",
   "metadata": {},
   "source": [
    "### 反馈延期数"
   ]
  },
  {
   "cell_type": "code",
   "execution_count": 58,
   "metadata": {
    "collapsed": false
   },
   "outputs": [
    {
     "data": {
      "application/vnd.plotly.v1+json": {
       "data": [
        {
         "name": "24h内未完成数据反馈项目数",
         "type": "scatter",
         "uid": "533f45c6-d745-11e8-8ddb-a41f72875c19",
         "x": [
          "9-1",
          "9-2",
          "9-3",
          "9-4",
          "10-2",
          "10-3"
         ],
         "y": [
          0,
          0,
          1,
          3,
          1,
          3
         ]
        }
       ],
       "layout": {
        "title": "24h内未完成数据反馈项目数周趋势图",
        "xaxis": {
         "mirror": "all",
         "nticks": 20,
         "showgrid": true,
         "showline": true,
         "title": "周",
         "type": "category",
         "zeroline": true
        },
        "yaxis": {
         "mirror": "all",
         "nticks": 20,
         "showgrid": true,
         "showline": true,
         "title": "24h内未完成数据反馈项目数",
         "zeroline": true
        }
       }
      },
      "text/html": [
       "<div id=\"5232a8d2-b2a9-46cb-9454-932966be97f0\" style=\"height: 525px; width: 100%;\" class=\"plotly-graph-div\"></div><script type=\"text/javascript\">require([\"plotly\"], function(Plotly) { window.PLOTLYENV=window.PLOTLYENV || {};window.PLOTLYENV.BASE_URL=\"https://plot.ly\";Plotly.newPlot(\"5232a8d2-b2a9-46cb-9454-932966be97f0\", [{\"name\": \"24h\\u5185\\u672a\\u5b8c\\u6210\\u6570\\u636e\\u53cd\\u9988\\u9879\\u76ee\\u6570\", \"x\": [\"9-1\", \"9-2\", \"9-3\", \"9-4\", \"10-2\", \"10-3\"], \"y\": [0, 0, 1, 3, 1, 3], \"type\": \"scatter\", \"uid\": \"533f45c6-d745-11e8-8ddb-a41f72875c19\"}], {\"title\": \"24h\\u5185\\u672a\\u5b8c\\u6210\\u6570\\u636e\\u53cd\\u9988\\u9879\\u76ee\\u6570\\u5468\\u8d8b\\u52bf\\u56fe\", \"xaxis\": {\"mirror\": \"all\", \"nticks\": 20, \"showgrid\": true, \"showline\": true, \"title\": \"\\u5468\", \"type\": \"category\", \"zeroline\": true}, \"yaxis\": {\"mirror\": \"all\", \"nticks\": 20, \"showgrid\": true, \"showline\": true, \"title\": \"24h\\u5185\\u672a\\u5b8c\\u6210\\u6570\\u636e\\u53cd\\u9988\\u9879\\u76ee\\u6570\", \"zeroline\": true}}, {\"showLink\": true, \"linkText\": \"Export to plot.ly\"})});</script>"
      ],
      "text/vnd.plotly.v1+html": [
       "<div id=\"5232a8d2-b2a9-46cb-9454-932966be97f0\" style=\"height: 525px; width: 100%;\" class=\"plotly-graph-div\"></div><script type=\"text/javascript\">require([\"plotly\"], function(Plotly) { window.PLOTLYENV=window.PLOTLYENV || {};window.PLOTLYENV.BASE_URL=\"https://plot.ly\";Plotly.newPlot(\"5232a8d2-b2a9-46cb-9454-932966be97f0\", [{\"name\": \"24h\\u5185\\u672a\\u5b8c\\u6210\\u6570\\u636e\\u53cd\\u9988\\u9879\\u76ee\\u6570\", \"x\": [\"9-1\", \"9-2\", \"9-3\", \"9-4\", \"10-2\", \"10-3\"], \"y\": [0, 0, 1, 3, 1, 3], \"type\": \"scatter\", \"uid\": \"533f45c6-d745-11e8-8ddb-a41f72875c19\"}], {\"title\": \"24h\\u5185\\u672a\\u5b8c\\u6210\\u6570\\u636e\\u53cd\\u9988\\u9879\\u76ee\\u6570\\u5468\\u8d8b\\u52bf\\u56fe\", \"xaxis\": {\"mirror\": \"all\", \"nticks\": 20, \"showgrid\": true, \"showline\": true, \"title\": \"\\u5468\", \"type\": \"category\", \"zeroline\": true}, \"yaxis\": {\"mirror\": \"all\", \"nticks\": 20, \"showgrid\": true, \"showline\": true, \"title\": \"24h\\u5185\\u672a\\u5b8c\\u6210\\u6570\\u636e\\u53cd\\u9988\\u9879\\u76ee\\u6570\", \"zeroline\": true}}, {\"showLink\": true, \"linkText\": \"Export to plot.ly\"})});</script>"
      ]
     },
     "metadata": {},
     "output_type": "display_data"
    },
    {
     "data": {
      "application/vnd.plotly.v1+json": {
       "data": [
        {
         "name": "24h内未完成数据反馈项目数",
         "type": "scatter",
         "uid": "533f45c7-d745-11e8-8ddb-a41f72875c19",
         "x": [
          9,
          10
         ],
         "y": [
          4,
          4
         ]
        }
       ],
       "layout": {
        "title": "24h内未完成数据反馈项目数月趋势图",
        "xaxis": {
         "mirror": "all",
         "nticks": 20,
         "showgrid": true,
         "showline": true,
         "title": "月",
         "type": "category",
         "zeroline": true
        },
        "yaxis": {
         "mirror": "all",
         "nticks": 20,
         "showgrid": true,
         "showline": true,
         "title": "24h内未完成数据反馈项目数",
         "zeroline": true
        }
       }
      },
      "text/html": [
       "<div id=\"6d7f7ca3-b233-4310-9ebf-d6974d804f6b\" style=\"height: 525px; width: 100%;\" class=\"plotly-graph-div\"></div><script type=\"text/javascript\">require([\"plotly\"], function(Plotly) { window.PLOTLYENV=window.PLOTLYENV || {};window.PLOTLYENV.BASE_URL=\"https://plot.ly\";Plotly.newPlot(\"6d7f7ca3-b233-4310-9ebf-d6974d804f6b\", [{\"name\": \"24h\\u5185\\u672a\\u5b8c\\u6210\\u6570\\u636e\\u53cd\\u9988\\u9879\\u76ee\\u6570\", \"x\": [9, 10], \"y\": [4, 4], \"type\": \"scatter\", \"uid\": \"533f45c7-d745-11e8-8ddb-a41f72875c19\"}], {\"title\": \"24h\\u5185\\u672a\\u5b8c\\u6210\\u6570\\u636e\\u53cd\\u9988\\u9879\\u76ee\\u6570\\u6708\\u8d8b\\u52bf\\u56fe\", \"xaxis\": {\"mirror\": \"all\", \"nticks\": 20, \"showgrid\": true, \"showline\": true, \"title\": \"\\u6708\", \"type\": \"category\", \"zeroline\": true}, \"yaxis\": {\"mirror\": \"all\", \"nticks\": 20, \"showgrid\": true, \"showline\": true, \"title\": \"24h\\u5185\\u672a\\u5b8c\\u6210\\u6570\\u636e\\u53cd\\u9988\\u9879\\u76ee\\u6570\", \"zeroline\": true}}, {\"showLink\": true, \"linkText\": \"Export to plot.ly\"})});</script>"
      ],
      "text/vnd.plotly.v1+html": [
       "<div id=\"6d7f7ca3-b233-4310-9ebf-d6974d804f6b\" style=\"height: 525px; width: 100%;\" class=\"plotly-graph-div\"></div><script type=\"text/javascript\">require([\"plotly\"], function(Plotly) { window.PLOTLYENV=window.PLOTLYENV || {};window.PLOTLYENV.BASE_URL=\"https://plot.ly\";Plotly.newPlot(\"6d7f7ca3-b233-4310-9ebf-d6974d804f6b\", [{\"name\": \"24h\\u5185\\u672a\\u5b8c\\u6210\\u6570\\u636e\\u53cd\\u9988\\u9879\\u76ee\\u6570\", \"x\": [9, 10], \"y\": [4, 4], \"type\": \"scatter\", \"uid\": \"533f45c7-d745-11e8-8ddb-a41f72875c19\"}], {\"title\": \"24h\\u5185\\u672a\\u5b8c\\u6210\\u6570\\u636e\\u53cd\\u9988\\u9879\\u76ee\\u6570\\u6708\\u8d8b\\u52bf\\u56fe\", \"xaxis\": {\"mirror\": \"all\", \"nticks\": 20, \"showgrid\": true, \"showline\": true, \"title\": \"\\u6708\", \"type\": \"category\", \"zeroline\": true}, \"yaxis\": {\"mirror\": \"all\", \"nticks\": 20, \"showgrid\": true, \"showline\": true, \"title\": \"24h\\u5185\\u672a\\u5b8c\\u6210\\u6570\\u636e\\u53cd\\u9988\\u9879\\u76ee\\u6570\", \"zeroline\": true}}, {\"showLink\": true, \"linkText\": \"Export to plot.ly\"})});</script>"
      ]
     },
     "metadata": {},
     "output_type": "display_data"
    }
   ],
   "source": [
    "ss = myModule.format(all_df2 ,\"日期（格式“月-周次”）\" ,['24h内未完成数据反馈项目数' ])\n",
    "#ss.add_group('组别')\n",
    "#ss.get_average_by('人员')\n",
    "myModule.myPlot(myModule.sort_by_index(ss.groupby('sum'))).plot('line')\n",
    "ss = myModule.format(all_df2 ,\"month\" ,['24h内未完成数据反馈项目数' ])\n",
    "#ss.add_group('组别')\n",
    "#ss.get_average_by('人员')\n",
    "myModule.myPlot(ss.groupby('sum')).plot('line','月')"
   ]
  },
  {
   "cell_type": "markdown",
   "metadata": {},
   "source": [
    "### 反馈延期率"
   ]
  },
  {
   "cell_type": "code",
   "execution_count": 59,
   "metadata": {
    "collapsed": false
   },
   "outputs": [
    {
     "data": {
      "application/vnd.plotly.v1+json": {
       "data": [
        {
         "name": "反馈延期率",
         "type": "scatter",
         "uid": "533f45c8-d745-11e8-8ddb-a41f72875c19",
         "x": [
          "9-1",
          "9-2",
          "9-3",
          "9-4",
          "10-2",
          "10-3"
         ],
         "y": [
          0,
          0,
          0.03125,
          0.0967741935483871,
          0.03125,
          0.1875
         ]
        }
       ],
       "layout": {
        "title": "反馈延期率周趋势图",
        "xaxis": {
         "mirror": "all",
         "nticks": 20,
         "showgrid": true,
         "showline": true,
         "title": "周",
         "type": "category",
         "zeroline": true
        },
        "yaxis": {
         "mirror": "all",
         "nticks": 20,
         "showgrid": true,
         "showline": true,
         "title": "反馈延期率",
         "zeroline": true
        }
       }
      },
      "text/html": [
       "<div id=\"1120b7f9-52e9-4309-b869-f94d5d82a831\" style=\"height: 525px; width: 100%;\" class=\"plotly-graph-div\"></div><script type=\"text/javascript\">require([\"plotly\"], function(Plotly) { window.PLOTLYENV=window.PLOTLYENV || {};window.PLOTLYENV.BASE_URL=\"https://plot.ly\";Plotly.newPlot(\"1120b7f9-52e9-4309-b869-f94d5d82a831\", [{\"name\": \"\\u53cd\\u9988\\u5ef6\\u671f\\u7387\", \"x\": [\"9-1\", \"9-2\", \"9-3\", \"9-4\", \"10-2\", \"10-3\"], \"y\": [0.0, 0.0, 0.03125, 0.0967741935483871, 0.03125, 0.1875], \"type\": \"scatter\", \"uid\": \"533f45c8-d745-11e8-8ddb-a41f72875c19\"}], {\"title\": \"\\u53cd\\u9988\\u5ef6\\u671f\\u7387\\u5468\\u8d8b\\u52bf\\u56fe\", \"xaxis\": {\"mirror\": \"all\", \"nticks\": 20, \"showgrid\": true, \"showline\": true, \"title\": \"\\u5468\", \"type\": \"category\", \"zeroline\": true}, \"yaxis\": {\"mirror\": \"all\", \"nticks\": 20, \"showgrid\": true, \"showline\": true, \"title\": \"\\u53cd\\u9988\\u5ef6\\u671f\\u7387\", \"zeroline\": true}}, {\"showLink\": true, \"linkText\": \"Export to plot.ly\"})});</script>"
      ],
      "text/vnd.plotly.v1+html": [
       "<div id=\"1120b7f9-52e9-4309-b869-f94d5d82a831\" style=\"height: 525px; width: 100%;\" class=\"plotly-graph-div\"></div><script type=\"text/javascript\">require([\"plotly\"], function(Plotly) { window.PLOTLYENV=window.PLOTLYENV || {};window.PLOTLYENV.BASE_URL=\"https://plot.ly\";Plotly.newPlot(\"1120b7f9-52e9-4309-b869-f94d5d82a831\", [{\"name\": \"\\u53cd\\u9988\\u5ef6\\u671f\\u7387\", \"x\": [\"9-1\", \"9-2\", \"9-3\", \"9-4\", \"10-2\", \"10-3\"], \"y\": [0.0, 0.0, 0.03125, 0.0967741935483871, 0.03125, 0.1875], \"type\": \"scatter\", \"uid\": \"533f45c8-d745-11e8-8ddb-a41f72875c19\"}], {\"title\": \"\\u53cd\\u9988\\u5ef6\\u671f\\u7387\\u5468\\u8d8b\\u52bf\\u56fe\", \"xaxis\": {\"mirror\": \"all\", \"nticks\": 20, \"showgrid\": true, \"showline\": true, \"title\": \"\\u5468\", \"type\": \"category\", \"zeroline\": true}, \"yaxis\": {\"mirror\": \"all\", \"nticks\": 20, \"showgrid\": true, \"showline\": true, \"title\": \"\\u53cd\\u9988\\u5ef6\\u671f\\u7387\", \"zeroline\": true}}, {\"showLink\": true, \"linkText\": \"Export to plot.ly\"})});</script>"
      ]
     },
     "metadata": {},
     "output_type": "display_data"
    }
   ],
   "source": [
    "ss = myModule.format(all_df2 ,\"日期（格式“月-周次”）\",['24h内未完成数据反馈项目数','下机项目数'])\n",
    "ss.df\n",
    "tt = ss.get_total_ratio([['反馈延期率' ,'24h内未完成数据反馈项目数' , '下机项目数','/']] )\n",
    "myModule.myPlot(myModule.sort_by_index(tt)).plot('line')\n",
    "#ss.add_group('组别')\n",
    "#ss.get_average_by('人员')\n",
    "#myModule.myPlot(ss.groupby('sum')).plot('line')\n",
    "#ss = myModule.format(all_df2 ,\"month\" ,['24h内未完成数据反馈项目数' ])\n",
    "#ss.add_group('组别')\n",
    "#ss.get_average_by('人员')\n",
    "#myModule.myPlot(ss.groupby('sum')).plot('line','月')"
   ]
  },
  {
   "cell_type": "markdown",
   "metadata": {},
   "source": [
    "## 交付延期率"
   ]
  },
  {
   "cell_type": "markdown",
   "metadata": {},
   "source": [
    "### 分析组交付延期率"
   ]
  },
  {
   "cell_type": "code",
   "execution_count": 60,
   "metadata": {
    "collapsed": false
   },
   "outputs": [
    {
     "data": {
      "application/vnd.plotly.v1+json": {
       "data": [
        {
         "name": "各组交付延期率",
         "type": "scatter",
         "uid": "533f45c9-d745-11e8-8ddb-a41f72875c19",
         "x": [
          "9-1",
          "9-2",
          "9-3",
          "9-4",
          "10-2",
          "10-3"
         ],
         "y": [
          0,
          0,
          0,
          0,
          0,
          0
         ]
        }
       ],
       "layout": {
        "title": "各组交付延期率周趋势图",
        "xaxis": {
         "mirror": "all",
         "nticks": 20,
         "showgrid": true,
         "showline": true,
         "title": "周",
         "type": "category",
         "zeroline": true
        },
        "yaxis": {
         "mirror": "all",
         "nticks": 20,
         "showgrid": true,
         "showline": true,
         "title": "各组交付延期率",
         "zeroline": true
        }
       }
      },
      "text/html": [
       "<div id=\"9e161432-496d-47ee-9c44-98f4c074ed16\" style=\"height: 525px; width: 100%;\" class=\"plotly-graph-div\"></div><script type=\"text/javascript\">require([\"plotly\"], function(Plotly) { window.PLOTLYENV=window.PLOTLYENV || {};window.PLOTLYENV.BASE_URL=\"https://plot.ly\";Plotly.newPlot(\"9e161432-496d-47ee-9c44-98f4c074ed16\", [{\"name\": \"\\u5404\\u7ec4\\u4ea4\\u4ed8\\u5ef6\\u671f\\u7387\", \"x\": [\"9-1\", \"9-2\", \"9-3\", \"9-4\", \"10-2\", \"10-3\"], \"y\": [0.0, 0.0, 0.0, 0.0, 0.0, 0.0], \"type\": \"scatter\", \"uid\": \"533f45c9-d745-11e8-8ddb-a41f72875c19\"}], {\"title\": \"\\u5404\\u7ec4\\u4ea4\\u4ed8\\u5ef6\\u671f\\u7387\\u5468\\u8d8b\\u52bf\\u56fe\", \"xaxis\": {\"mirror\": \"all\", \"nticks\": 20, \"showgrid\": true, \"showline\": true, \"title\": \"\\u5468\", \"type\": \"category\", \"zeroline\": true}, \"yaxis\": {\"mirror\": \"all\", \"nticks\": 20, \"showgrid\": true, \"showline\": true, \"title\": \"\\u5404\\u7ec4\\u4ea4\\u4ed8\\u5ef6\\u671f\\u7387\", \"zeroline\": true}}, {\"showLink\": true, \"linkText\": \"Export to plot.ly\"})});</script>"
      ],
      "text/vnd.plotly.v1+html": [
       "<div id=\"9e161432-496d-47ee-9c44-98f4c074ed16\" style=\"height: 525px; width: 100%;\" class=\"plotly-graph-div\"></div><script type=\"text/javascript\">require([\"plotly\"], function(Plotly) { window.PLOTLYENV=window.PLOTLYENV || {};window.PLOTLYENV.BASE_URL=\"https://plot.ly\";Plotly.newPlot(\"9e161432-496d-47ee-9c44-98f4c074ed16\", [{\"name\": \"\\u5404\\u7ec4\\u4ea4\\u4ed8\\u5ef6\\u671f\\u7387\", \"x\": [\"9-1\", \"9-2\", \"9-3\", \"9-4\", \"10-2\", \"10-3\"], \"y\": [0.0, 0.0, 0.0, 0.0, 0.0, 0.0], \"type\": \"scatter\", \"uid\": \"533f45c9-d745-11e8-8ddb-a41f72875c19\"}], {\"title\": \"\\u5404\\u7ec4\\u4ea4\\u4ed8\\u5ef6\\u671f\\u7387\\u5468\\u8d8b\\u52bf\\u56fe\", \"xaxis\": {\"mirror\": \"all\", \"nticks\": 20, \"showgrid\": true, \"showline\": true, \"title\": \"\\u5468\", \"type\": \"category\", \"zeroline\": true}, \"yaxis\": {\"mirror\": \"all\", \"nticks\": 20, \"showgrid\": true, \"showline\": true, \"title\": \"\\u5404\\u7ec4\\u4ea4\\u4ed8\\u5ef6\\u671f\\u7387\", \"zeroline\": true}}, {\"showLink\": true, \"linkText\": \"Export to plot.ly\"})});</script>"
      ]
     },
     "metadata": {},
     "output_type": "display_data"
    }
   ],
   "source": [
    "ss = myModule.format(all_df2 ,\"日期（格式“月-周次”）\" ,['24h内未完成数据交付项目数','待交付项目数' ])\n",
    "#ss.add_group('组别')\n",
    "#ss.get_average_by('人员')\n",
    "tt = ss.get_total_ratio([['各组交付延期率' ,'24h内未完成数据交付项目数','待交付项目数','/']] )\n",
    "myModule.myPlot(myModule.sort_by_index(tt)).plot('line')"
   ]
  },
  {
   "cell_type": "markdown",
   "metadata": {},
   "source": [
    "### 各组交付延期率"
   ]
  },
  {
   "cell_type": "code",
   "execution_count": 61,
   "metadata": {
    "collapsed": false
   },
   "outputs": [
    {
     "data": {
      "application/vnd.plotly.v1+json": {
       "data": [
        {
         "line": {
          "dash": "solid"
         },
         "name": "各组交付延期率(个性化组)",
         "type": "scatter",
         "uid": "533f45ca-d745-11e8-8ddb-a41f72875c19",
         "x": [
          "9-1",
          "9-2",
          "9-3",
          "9-4",
          "10-2",
          "10-3"
         ],
         "y": [
          0,
          null,
          0,
          null,
          null,
          0
         ]
        },
        {
         "line": {
          "dash": "dot"
         },
         "name": "各组交付延期率(分析二组)",
         "type": "scatter",
         "uid": "533f45cb-d745-11e8-8ddb-a41f72875c19",
         "x": [
          "9-1",
          "9-2",
          "9-3",
          "9-4",
          "10-2",
          "10-3"
         ],
         "y": [
          0,
          0,
          0,
          0,
          0,
          null
         ]
        },
        {
         "line": {
          "dash": "dash"
         },
         "name": "各组交付延期率(分析一组)",
         "type": "scatter",
         "uid": "533f45cc-d745-11e8-8ddb-a41f72875c19",
         "x": [
          "9-1",
          "9-2",
          "9-3",
          "9-4",
          "10-2",
          "10-3"
         ],
         "y": [
          0,
          0,
          0,
          0,
          0,
          0
         ]
        }
       ],
       "layout": {
        "title": "各组交付延期率周趋势图",
        "xaxis": {
         "mirror": "all",
         "nticks": 20,
         "showgrid": true,
         "showline": true,
         "title": "周",
         "type": "category",
         "zeroline": true
        },
        "yaxis": {
         "mirror": "all",
         "nticks": 20,
         "showgrid": true,
         "showline": true,
         "title": "各组交付延期率",
         "zeroline": true
        }
       }
      },
      "text/html": [
       "<div id=\"9aff23a9-90bb-4429-b6c7-1f69576fe1dd\" style=\"height: 525px; width: 100%;\" class=\"plotly-graph-div\"></div><script type=\"text/javascript\">require([\"plotly\"], function(Plotly) { window.PLOTLYENV=window.PLOTLYENV || {};window.PLOTLYENV.BASE_URL=\"https://plot.ly\";Plotly.newPlot(\"9aff23a9-90bb-4429-b6c7-1f69576fe1dd\", [{\"line\": {\"dash\": \"solid\"}, \"name\": \"\\u5404\\u7ec4\\u4ea4\\u4ed8\\u5ef6\\u671f\\u7387(\\u4e2a\\u6027\\u5316\\u7ec4)\", \"x\": [\"9-1\", \"9-2\", \"9-3\", \"9-4\", \"10-2\", \"10-3\"], \"y\": [0.0, null, 0.0, null, null, 0.0], \"type\": \"scatter\", \"uid\": \"533f45ca-d745-11e8-8ddb-a41f72875c19\"}, {\"line\": {\"dash\": \"dot\"}, \"name\": \"\\u5404\\u7ec4\\u4ea4\\u4ed8\\u5ef6\\u671f\\u7387(\\u5206\\u6790\\u4e8c\\u7ec4)\", \"x\": [\"9-1\", \"9-2\", \"9-3\", \"9-4\", \"10-2\", \"10-3\"], \"y\": [0.0, 0.0, 0.0, 0.0, 0.0, null], \"type\": \"scatter\", \"uid\": \"533f45cb-d745-11e8-8ddb-a41f72875c19\"}, {\"line\": {\"dash\": \"dash\"}, \"name\": \"\\u5404\\u7ec4\\u4ea4\\u4ed8\\u5ef6\\u671f\\u7387(\\u5206\\u6790\\u4e00\\u7ec4)\", \"x\": [\"9-1\", \"9-2\", \"9-3\", \"9-4\", \"10-2\", \"10-3\"], \"y\": [0.0, 0.0, 0.0, 0.0, 0.0, 0.0], \"type\": \"scatter\", \"uid\": \"533f45cc-d745-11e8-8ddb-a41f72875c19\"}], {\"title\": \"\\u5404\\u7ec4\\u4ea4\\u4ed8\\u5ef6\\u671f\\u7387\\u5468\\u8d8b\\u52bf\\u56fe\", \"xaxis\": {\"mirror\": \"all\", \"nticks\": 20, \"showgrid\": true, \"showline\": true, \"title\": \"\\u5468\", \"type\": \"category\", \"zeroline\": true}, \"yaxis\": {\"mirror\": \"all\", \"nticks\": 20, \"showgrid\": true, \"showline\": true, \"title\": \"\\u5404\\u7ec4\\u4ea4\\u4ed8\\u5ef6\\u671f\\u7387\", \"zeroline\": true}}, {\"showLink\": true, \"linkText\": \"Export to plot.ly\"})});</script>"
      ],
      "text/vnd.plotly.v1+html": [
       "<div id=\"9aff23a9-90bb-4429-b6c7-1f69576fe1dd\" style=\"height: 525px; width: 100%;\" class=\"plotly-graph-div\"></div><script type=\"text/javascript\">require([\"plotly\"], function(Plotly) { window.PLOTLYENV=window.PLOTLYENV || {};window.PLOTLYENV.BASE_URL=\"https://plot.ly\";Plotly.newPlot(\"9aff23a9-90bb-4429-b6c7-1f69576fe1dd\", [{\"line\": {\"dash\": \"solid\"}, \"name\": \"\\u5404\\u7ec4\\u4ea4\\u4ed8\\u5ef6\\u671f\\u7387(\\u4e2a\\u6027\\u5316\\u7ec4)\", \"x\": [\"9-1\", \"9-2\", \"9-3\", \"9-4\", \"10-2\", \"10-3\"], \"y\": [0.0, null, 0.0, null, null, 0.0], \"type\": \"scatter\", \"uid\": \"533f45ca-d745-11e8-8ddb-a41f72875c19\"}, {\"line\": {\"dash\": \"dot\"}, \"name\": \"\\u5404\\u7ec4\\u4ea4\\u4ed8\\u5ef6\\u671f\\u7387(\\u5206\\u6790\\u4e8c\\u7ec4)\", \"x\": [\"9-1\", \"9-2\", \"9-3\", \"9-4\", \"10-2\", \"10-3\"], \"y\": [0.0, 0.0, 0.0, 0.0, 0.0, null], \"type\": \"scatter\", \"uid\": \"533f45cb-d745-11e8-8ddb-a41f72875c19\"}, {\"line\": {\"dash\": \"dash\"}, \"name\": \"\\u5404\\u7ec4\\u4ea4\\u4ed8\\u5ef6\\u671f\\u7387(\\u5206\\u6790\\u4e00\\u7ec4)\", \"x\": [\"9-1\", \"9-2\", \"9-3\", \"9-4\", \"10-2\", \"10-3\"], \"y\": [0.0, 0.0, 0.0, 0.0, 0.0, 0.0], \"type\": \"scatter\", \"uid\": \"533f45cc-d745-11e8-8ddb-a41f72875c19\"}], {\"title\": \"\\u5404\\u7ec4\\u4ea4\\u4ed8\\u5ef6\\u671f\\u7387\\u5468\\u8d8b\\u52bf\\u56fe\", \"xaxis\": {\"mirror\": \"all\", \"nticks\": 20, \"showgrid\": true, \"showline\": true, \"title\": \"\\u5468\", \"type\": \"category\", \"zeroline\": true}, \"yaxis\": {\"mirror\": \"all\", \"nticks\": 20, \"showgrid\": true, \"showline\": true, \"title\": \"\\u5404\\u7ec4\\u4ea4\\u4ed8\\u5ef6\\u671f\\u7387\", \"zeroline\": true}}, {\"showLink\": true, \"linkText\": \"Export to plot.ly\"})});</script>"
      ]
     },
     "metadata": {},
     "output_type": "display_data"
    }
   ],
   "source": [
    "ss = myModule.format(all_df2 ,\"日期（格式“月-周次”）\" ,['24h内未完成数据交付项目数','待交付项目数' ])\n",
    "ss.add_group('组别')\n",
    "#ss.get_average_by('人员')\n",
    "tt = ss.get_total_ratio([['各组交付延期率' ,'24h内未完成数据交付项目数','待交付项目数','/']] )\n",
    "myModule.myPlot(myModule.sort_by_index(tt)).plot('line')"
   ]
  },
  {
   "cell_type": "code",
   "execution_count": null,
   "metadata": {
    "collapsed": true
   },
   "outputs": [],
   "source": []
  }
 ],
 "metadata": {
  "hide_input": false,
  "kernelspec": {
   "display_name": "Python 3",
   "language": "python",
   "name": "python3"
  },
  "language_info": {
   "codemirror_mode": {
    "name": "ipython",
    "version": 3
   },
   "file_extension": ".py",
   "mimetype": "text/x-python",
   "name": "python",
   "nbconvert_exporter": "python",
   "pygments_lexer": "ipython3",
   "version": "3.6.0"
  },
  "toc": {
   "base_numbering": 1,
   "nav_menu": {
    "height": "247px",
    "width": "215px"
   },
   "number_sections": true,
   "sideBar": true,
   "skip_h1_title": false,
   "title_cell": "Table of Contents",
   "title_sidebar": "Contents",
   "toc_cell": false,
   "toc_position": {
    "height": "calc(100% - 180px)",
    "left": "10px",
    "top": "150px",
    "width": "245px"
   },
   "toc_section_display": true,
   "toc_window_display": true
  }
 },
 "nbformat": 4,
 "nbformat_minor": 2
}
