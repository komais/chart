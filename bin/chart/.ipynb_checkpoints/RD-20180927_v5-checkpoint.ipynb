{
 "cells": [
  {
   "cell_type": "code",
   "execution_count": 1,
   "metadata": {
    "hide_input": false
   },
   "outputs": [
    {
     "name": "stdout",
     "output_type": "stream",
     "text": [
      "The history saving thread hit an unexpected error (DatabaseError('database disk image is malformed',)).History will not be written to the database.\n"
     ]
    },
    {
     "name": "stderr",
     "output_type": "stream",
     "text": [
      "/usr/lib/python3.6/importlib/_bootstrap.py:219: RuntimeWarning: numpy.dtype size changed, may indicate binary incompatibility. Expected 96, got 88\n",
      "  return f(*args, **kwds)\n",
      "/usr/lib/python3.6/importlib/_bootstrap.py:219: RuntimeWarning: numpy.dtype size changed, may indicate binary incompatibility. Expected 96, got 88\n",
      "  return f(*args, **kwds)\n"
     ]
    },
    {
     "data": {
      "text/html": [
       "<script>requirejs.config({paths: { 'plotly': ['https://cdn.plot.ly/plotly-latest.min']},});if(!window.Plotly) {{require(['plotly'],function(plotly) {window.Plotly=plotly;});}}</script>"
      ],
      "text/vnd.plotly.v1+html": [
       "<script>requirejs.config({paths: { 'plotly': ['https://cdn.plot.ly/plotly-latest.min']},});if(!window.Plotly) {{require(['plotly'],function(plotly) {window.Plotly=plotly;});}}</script>"
      ]
     },
     "metadata": {},
     "output_type": "display_data"
    }
   ],
   "source": [
    "%load_ext autoreload\n",
    "%autoreload 2\n",
    "import sys\n",
    "sys.path.append('./')\n",
    "import myModule"
   ]
  },
  {
   "cell_type": "code",
   "execution_count": 2,
   "metadata": {},
   "outputs": [
    {
     "data": {
      "text/html": [
       "<script>requirejs.config({paths: { 'plotly': ['https://cdn.plot.ly/plotly-latest.min']},});if(!window.Plotly) {{require(['plotly'],function(plotly) {window.Plotly=plotly;});}}</script>"
      ],
      "text/vnd.plotly.v1+html": [
       "<script>requirejs.config({paths: { 'plotly': ['https://cdn.plot.ly/plotly-latest.min']},});if(!window.Plotly) {{require(['plotly'],function(plotly) {window.Plotly=plotly;});}}</script>"
      ]
     },
     "metadata": {},
     "output_type": "display_data"
    },
    {
     "data": {
      "text/plain": [
       "<module 'myModule' from '/mnt/e/jupyter/bin/chart/myModule.py'>"
      ]
     },
     "execution_count": 2,
     "metadata": {},
     "output_type": "execute_result"
    }
   ],
   "source": [
    "import imp\n",
    "imp.reload(myModule)"
   ]
  },
  {
   "cell_type": "markdown",
   "metadata": {},
   "source": [
    "# 研发组人员情况"
   ]
  },
  {
   "cell_type": "code",
   "execution_count": 3,
   "metadata": {},
   "outputs": [
    {
     "name": "stdout",
     "output_type": "stream",
     "text": [
      "['/mnt/e/jupyter/data/RD/仪表盘-研发组-8-3.xlsx', '/mnt/e/jupyter/data/RD/仪表盘-研发组-8-4.xlsx', '/mnt/e/jupyter/data/RD/仪表盘-研发组-9-1.xlsx', '/mnt/e/jupyter/data/RD/仪表盘-研发组-9-2.xlsx', '/mnt/e/jupyter/data/RD/仪表盘-研发组-9-3.xlsx']\n"
     ]
    }
   ],
   "source": [
    "#路径末尾不能包含斜线\n",
    "pathway = r\"/mnt/e/jupyter/data/RD\"\n",
    "all_files , title = myModule.get_title(pathway , 0)##给路径\n",
    "print(all_files)\n",
    "all_dict = myModule.read_xlsx(all_files, 0 ) ## 读取所有文件的sheet1\n",
    "all_dict_1 = myModule.read_xlsx(all_files, 1 )  ## 读取所有文件的sheet2\n",
    "\n",
    "\n",
    "new_files=[]\n",
    "import xlrd  \n",
    "for file in all_files:\n",
    "    b = xlrd.open_workbook(file)\n",
    "    count = len(b.sheets()) #sheet数量\n",
    "    if count == 3:\n",
    "        new_files+=[file]\n",
    "all_dict_2 = myModule.read_xlsx(new_files, 2 )  ## 读取所有文件的sheet3"
   ]
  },
  {
   "cell_type": "markdown",
   "metadata": {
    "hide_input": true
   },
   "source": [
    "## 整体情况"
   ]
  },
  {
   "cell_type": "markdown",
   "metadata": {},
   "source": [
    "### 下单整体情况"
   ]
  },
  {
   "cell_type": "markdown",
   "metadata": {},
   "source": [
    "\n",
    "#### 总下单数和完成下单数\n"
   ]
  },
  {
   "cell_type": "code",
   "execution_count": 4,
   "metadata": {},
   "outputs": [
    {
     "data": {
      "application/vnd.plotly.v1+json": {
       "data": [
        {
         "name": "总下单数",
         "type": "scatter",
         "uid": "479bf7d8-c204-11e8-ad45-a81e84e6c740",
         "x": [
          "8-3",
          "8-4",
          "9-1",
          "9-2",
          "9-3"
         ],
         "y": [
          90,
          111,
          102,
          97,
          83
         ]
        },
        {
         "name": "完成下单数",
         "type": "scatter",
         "uid": "479bfbf2-c204-11e8-ad45-a81e84e6c740",
         "x": [
          "8-3",
          "8-4",
          "9-1",
          "9-2",
          "9-3"
         ],
         "y": [
          75,
          103,
          97,
          88,
          80
         ]
        }
       ],
       "layout": {
        "title": "总下单数&完成下单数周趋势图",
        "xaxis": {
         "mirror": "all",
         "nticks": 20,
         "showgrid": true,
         "showline": true,
         "title": "周",
         "zeroline": true
        },
        "yaxis": {
         "mirror": "all",
         "nticks": 20,
         "showgrid": true,
         "showline": true,
         "title": "总下单数&完成下单数",
         "zeroline": true
        }
       }
      },
      "text/html": [
       "<div id=\"de9b6602-d380-4b97-8105-ea988930735a\" style=\"height: 525px; width: 100%;\" class=\"plotly-graph-div\"></div><script type=\"text/javascript\">require([\"plotly\"], function(Plotly) { window.PLOTLYENV=window.PLOTLYENV || {};window.PLOTLYENV.BASE_URL=\"https://plot.ly\";\n",
       "        Plotly.plot(\n",
       "            'de9b6602-d380-4b97-8105-ea988930735a',\n",
       "            [{\"name\": \"\\u603b\\u4e0b\\u5355\\u6570\", \"x\": [\"8-3\", \"8-4\", \"9-1\", \"9-2\", \"9-3\"], \"y\": [90.0, 111.0, 102.0, 97.0, 83.0], \"type\": \"scatter\", \"uid\": \"479bf7d8-c204-11e8-ad45-a81e84e6c740\"}, {\"name\": \"\\u5b8c\\u6210\\u4e0b\\u5355\\u6570\", \"x\": [\"8-3\", \"8-4\", \"9-1\", \"9-2\", \"9-3\"], \"y\": [75.0, 103.0, 97.0, 88.0, 80.0], \"type\": \"scatter\", \"uid\": \"479bfbf2-c204-11e8-ad45-a81e84e6c740\"}],\n",
       "            {\"title\": \"\\u603b\\u4e0b\\u5355\\u6570&\\u5b8c\\u6210\\u4e0b\\u5355\\u6570\\u5468\\u8d8b\\u52bf\\u56fe\", \"xaxis\": {\"mirror\": \"all\", \"nticks\": 20, \"showgrid\": true, \"showline\": true, \"title\": \"\\u5468\", \"zeroline\": true}, \"yaxis\": {\"mirror\": \"all\", \"nticks\": 20, \"showgrid\": true, \"showline\": true, \"title\": \"\\u603b\\u4e0b\\u5355\\u6570&\\u5b8c\\u6210\\u4e0b\\u5355\\u6570\", \"zeroline\": true}},\n",
       "            {\"showLink\": true, \"linkText\": \"Export to plot.ly\"}\n",
       "        ).then(function () {return Plotly.addFrames('de9b6602-d380-4b97-8105-ea988930735a',{});}).then(function(){Plotly.animate('de9b6602-d380-4b97-8105-ea988930735a');})\n",
       "        });</script>"
      ],
      "text/vnd.plotly.v1+html": [
       "<div id=\"de9b6602-d380-4b97-8105-ea988930735a\" style=\"height: 525px; width: 100%;\" class=\"plotly-graph-div\"></div><script type=\"text/javascript\">require([\"plotly\"], function(Plotly) { window.PLOTLYENV=window.PLOTLYENV || {};window.PLOTLYENV.BASE_URL=\"https://plot.ly\";\n",
       "        Plotly.plot(\n",
       "            'de9b6602-d380-4b97-8105-ea988930735a',\n",
       "            [{\"name\": \"\\u603b\\u4e0b\\u5355\\u6570\", \"x\": [\"8-3\", \"8-4\", \"9-1\", \"9-2\", \"9-3\"], \"y\": [90.0, 111.0, 102.0, 97.0, 83.0], \"type\": \"scatter\", \"uid\": \"479bf7d8-c204-11e8-ad45-a81e84e6c740\"}, {\"name\": \"\\u5b8c\\u6210\\u4e0b\\u5355\\u6570\", \"x\": [\"8-3\", \"8-4\", \"9-1\", \"9-2\", \"9-3\"], \"y\": [75.0, 103.0, 97.0, 88.0, 80.0], \"type\": \"scatter\", \"uid\": \"479bfbf2-c204-11e8-ad45-a81e84e6c740\"}],\n",
       "            {\"title\": \"\\u603b\\u4e0b\\u5355\\u6570&\\u5b8c\\u6210\\u4e0b\\u5355\\u6570\\u5468\\u8d8b\\u52bf\\u56fe\", \"xaxis\": {\"mirror\": \"all\", \"nticks\": 20, \"showgrid\": true, \"showline\": true, \"title\": \"\\u5468\", \"zeroline\": true}, \"yaxis\": {\"mirror\": \"all\", \"nticks\": 20, \"showgrid\": true, \"showline\": true, \"title\": \"\\u603b\\u4e0b\\u5355\\u6570&\\u5b8c\\u6210\\u4e0b\\u5355\\u6570\", \"zeroline\": true}},\n",
       "            {\"showLink\": true, \"linkText\": \"Export to plot.ly\"}\n",
       "        ).then(function () {return Plotly.addFrames('de9b6602-d380-4b97-8105-ea988930735a',{});}).then(function(){Plotly.animate('de9b6602-d380-4b97-8105-ea988930735a');})\n",
       "        });</script>"
      ]
     },
     "metadata": {},
     "output_type": "display_data"
    },
    {
     "data": {
      "application/vnd.plotly.v1+json": {
       "data": [
        {
         "name": "总下单数",
         "type": "scatter",
         "uid": "47a83b4c-c204-11e8-ad45-a81e84e6c740",
         "x": [
          "8",
          "9"
         ],
         "y": [
          201,
          282
         ]
        },
        {
         "name": "完成下单数",
         "type": "scatter",
         "uid": "47a83ea8-c204-11e8-ad45-a81e84e6c740",
         "x": [
          "8",
          "9"
         ],
         "y": [
          178,
          265
         ]
        }
       ],
       "layout": {
        "title": "总下单数&完成下单数月趋势图",
        "xaxis": {
         "mirror": "all",
         "nticks": 20,
         "showgrid": true,
         "showline": true,
         "title": "月",
         "zeroline": true
        },
        "yaxis": {
         "mirror": "all",
         "nticks": 20,
         "showgrid": true,
         "showline": true,
         "title": "总下单数&完成下单数",
         "zeroline": true
        }
       }
      },
      "text/html": [
       "<div id=\"263ecc91-52b8-4905-8061-9987e32b7232\" style=\"height: 525px; width: 100%;\" class=\"plotly-graph-div\"></div><script type=\"text/javascript\">require([\"plotly\"], function(Plotly) { window.PLOTLYENV=window.PLOTLYENV || {};window.PLOTLYENV.BASE_URL=\"https://plot.ly\";\n",
       "        Plotly.plot(\n",
       "            '263ecc91-52b8-4905-8061-9987e32b7232',\n",
       "            [{\"name\": \"\\u603b\\u4e0b\\u5355\\u6570\", \"x\": [\"8\", \"9\"], \"y\": [201.0, 282.0], \"type\": \"scatter\", \"uid\": \"47a83b4c-c204-11e8-ad45-a81e84e6c740\"}, {\"name\": \"\\u5b8c\\u6210\\u4e0b\\u5355\\u6570\", \"x\": [\"8\", \"9\"], \"y\": [178.0, 265.0], \"type\": \"scatter\", \"uid\": \"47a83ea8-c204-11e8-ad45-a81e84e6c740\"}],\n",
       "            {\"title\": \"\\u603b\\u4e0b\\u5355\\u6570&\\u5b8c\\u6210\\u4e0b\\u5355\\u6570\\u6708\\u8d8b\\u52bf\\u56fe\", \"xaxis\": {\"mirror\": \"all\", \"nticks\": 20, \"showgrid\": true, \"showline\": true, \"title\": \"\\u6708\", \"zeroline\": true}, \"yaxis\": {\"mirror\": \"all\", \"nticks\": 20, \"showgrid\": true, \"showline\": true, \"title\": \"\\u603b\\u4e0b\\u5355\\u6570&\\u5b8c\\u6210\\u4e0b\\u5355\\u6570\", \"zeroline\": true}},\n",
       "            {\"showLink\": true, \"linkText\": \"Export to plot.ly\"}\n",
       "        ).then(function () {return Plotly.addFrames('263ecc91-52b8-4905-8061-9987e32b7232',{});}).then(function(){Plotly.animate('263ecc91-52b8-4905-8061-9987e32b7232');})\n",
       "        });</script>"
      ],
      "text/vnd.plotly.v1+html": [
       "<div id=\"263ecc91-52b8-4905-8061-9987e32b7232\" style=\"height: 525px; width: 100%;\" class=\"plotly-graph-div\"></div><script type=\"text/javascript\">require([\"plotly\"], function(Plotly) { window.PLOTLYENV=window.PLOTLYENV || {};window.PLOTLYENV.BASE_URL=\"https://plot.ly\";\n",
       "        Plotly.plot(\n",
       "            '263ecc91-52b8-4905-8061-9987e32b7232',\n",
       "            [{\"name\": \"\\u603b\\u4e0b\\u5355\\u6570\", \"x\": [\"8\", \"9\"], \"y\": [201.0, 282.0], \"type\": \"scatter\", \"uid\": \"47a83b4c-c204-11e8-ad45-a81e84e6c740\"}, {\"name\": \"\\u5b8c\\u6210\\u4e0b\\u5355\\u6570\", \"x\": [\"8\", \"9\"], \"y\": [178.0, 265.0], \"type\": \"scatter\", \"uid\": \"47a83ea8-c204-11e8-ad45-a81e84e6c740\"}],\n",
       "            {\"title\": \"\\u603b\\u4e0b\\u5355\\u6570&\\u5b8c\\u6210\\u4e0b\\u5355\\u6570\\u6708\\u8d8b\\u52bf\\u56fe\", \"xaxis\": {\"mirror\": \"all\", \"nticks\": 20, \"showgrid\": true, \"showline\": true, \"title\": \"\\u6708\", \"zeroline\": true}, \"yaxis\": {\"mirror\": \"all\", \"nticks\": 20, \"showgrid\": true, \"showline\": true, \"title\": \"\\u603b\\u4e0b\\u5355\\u6570&\\u5b8c\\u6210\\u4e0b\\u5355\\u6570\", \"zeroline\": true}},\n",
       "            {\"showLink\": true, \"linkText\": \"Export to plot.ly\"}\n",
       "        ).then(function () {return Plotly.addFrames('263ecc91-52b8-4905-8061-9987e32b7232',{});}).then(function(){Plotly.animate('263ecc91-52b8-4905-8061-9987e32b7232');})\n",
       "        });</script>"
      ]
     },
     "metadata": {},
     "output_type": "display_data"
    }
   ],
   "source": [
    "data_dict = {'总下单数':['总下单数'],'完成下单数':['完成下单数']}\n",
    "myModule.plot( all_dict, data_dict, '负责人' ,  'line', all='all' )"
   ]
  },
  {
   "cell_type": "markdown",
   "metadata": {
    "hide_input": true
   },
   "source": [
    "### 高质量报告"
   ]
  },
  {
   "cell_type": "markdown",
   "metadata": {},
   "source": [
    "#### 应交高质量报告数和提交高质量报告数"
   ]
  },
  {
   "cell_type": "code",
   "execution_count": 53,
   "metadata": {},
   "outputs": [
    {
     "data": {
      "application/vnd.plotly.v1+json": {
       "data": [
        {
         "name": "应交高质量报告数",
         "type": "scatter",
         "uid": "e809c0e2-c202-11e8-935c-509a4c0f1ffc",
         "x": [
          "8-3",
          "8-4",
          "9-1",
          "9-2",
          "9-3"
         ],
         "y": [
          9,
          7,
          17,
          8,
          4
         ]
        },
        {
         "name": "提交高质量报告数",
         "type": "scatter",
         "uid": "e809c0e3-c202-11e8-96a8-509a4c0f1ffc",
         "x": [
          "8-3",
          "8-4",
          "9-1",
          "9-2",
          "9-3"
         ],
         "y": [
          9,
          7,
          17,
          6,
          5
         ]
        }
       ],
       "layout": {
        "title": "应交高质量报告数&提交高质量报告数周趋势图",
        "xaxis": {
         "mirror": "all",
         "nticks": 20,
         "showgrid": true,
         "showline": true,
         "title": "周",
         "zeroline": true
        },
        "yaxis": {
         "mirror": "all",
         "nticks": 20,
         "showgrid": true,
         "showline": true,
         "title": "应交高质量报告数&提交高质量报告数",
         "zeroline": true
        }
       }
      },
      "text/html": [
       "<div id=\"498b820e-16da-40f6-b5a0-fcb3601acc40\" style=\"height: 525px; width: 100%;\" class=\"plotly-graph-div\"></div><script type=\"text/javascript\">require([\"plotly\"], function(Plotly) { window.PLOTLYENV=window.PLOTLYENV || {};window.PLOTLYENV.BASE_URL=\"https://plot.ly\";\n",
       "        Plotly.plot(\n",
       "            '498b820e-16da-40f6-b5a0-fcb3601acc40',\n",
       "            [{\"name\": \"\\u5e94\\u4ea4\\u9ad8\\u8d28\\u91cf\\u62a5\\u544a\\u6570\", \"x\": [\"8-3\", \"8-4\", \"9-1\", \"9-2\", \"9-3\"], \"y\": [9.0, 7.0, 17.0, 8.0, 4.0], \"type\": \"scatter\", \"uid\": \"e809c0e2-c202-11e8-935c-509a4c0f1ffc\"}, {\"name\": \"\\u63d0\\u4ea4\\u9ad8\\u8d28\\u91cf\\u62a5\\u544a\\u6570\", \"x\": [\"8-3\", \"8-4\", \"9-1\", \"9-2\", \"9-3\"], \"y\": [9.0, 7.0, 17.0, 6.0, 5.0], \"type\": \"scatter\", \"uid\": \"e809c0e3-c202-11e8-96a8-509a4c0f1ffc\"}],\n",
       "            {\"title\": \"\\u5e94\\u4ea4\\u9ad8\\u8d28\\u91cf\\u62a5\\u544a\\u6570&\\u63d0\\u4ea4\\u9ad8\\u8d28\\u91cf\\u62a5\\u544a\\u6570\\u5468\\u8d8b\\u52bf\\u56fe\", \"xaxis\": {\"mirror\": \"all\", \"nticks\": 20, \"showgrid\": true, \"showline\": true, \"title\": \"\\u5468\", \"zeroline\": true}, \"yaxis\": {\"mirror\": \"all\", \"nticks\": 20, \"showgrid\": true, \"showline\": true, \"title\": \"\\u5e94\\u4ea4\\u9ad8\\u8d28\\u91cf\\u62a5\\u544a\\u6570&\\u63d0\\u4ea4\\u9ad8\\u8d28\\u91cf\\u62a5\\u544a\\u6570\", \"zeroline\": true}},\n",
       "            {\"showLink\": true, \"linkText\": \"Export to plot.ly\"}\n",
       "        ).then(function () {return Plotly.addFrames('498b820e-16da-40f6-b5a0-fcb3601acc40',{});}).then(function(){Plotly.animate('498b820e-16da-40f6-b5a0-fcb3601acc40');})\n",
       "        });</script>"
      ],
      "text/vnd.plotly.v1+html": [
       "<div id=\"498b820e-16da-40f6-b5a0-fcb3601acc40\" style=\"height: 525px; width: 100%;\" class=\"plotly-graph-div\"></div><script type=\"text/javascript\">require([\"plotly\"], function(Plotly) { window.PLOTLYENV=window.PLOTLYENV || {};window.PLOTLYENV.BASE_URL=\"https://plot.ly\";\n",
       "        Plotly.plot(\n",
       "            '498b820e-16da-40f6-b5a0-fcb3601acc40',\n",
       "            [{\"name\": \"\\u5e94\\u4ea4\\u9ad8\\u8d28\\u91cf\\u62a5\\u544a\\u6570\", \"x\": [\"8-3\", \"8-4\", \"9-1\", \"9-2\", \"9-3\"], \"y\": [9.0, 7.0, 17.0, 8.0, 4.0], \"type\": \"scatter\", \"uid\": \"e809c0e2-c202-11e8-935c-509a4c0f1ffc\"}, {\"name\": \"\\u63d0\\u4ea4\\u9ad8\\u8d28\\u91cf\\u62a5\\u544a\\u6570\", \"x\": [\"8-3\", \"8-4\", \"9-1\", \"9-2\", \"9-3\"], \"y\": [9.0, 7.0, 17.0, 6.0, 5.0], \"type\": \"scatter\", \"uid\": \"e809c0e3-c202-11e8-96a8-509a4c0f1ffc\"}],\n",
       "            {\"title\": \"\\u5e94\\u4ea4\\u9ad8\\u8d28\\u91cf\\u62a5\\u544a\\u6570&\\u63d0\\u4ea4\\u9ad8\\u8d28\\u91cf\\u62a5\\u544a\\u6570\\u5468\\u8d8b\\u52bf\\u56fe\", \"xaxis\": {\"mirror\": \"all\", \"nticks\": 20, \"showgrid\": true, \"showline\": true, \"title\": \"\\u5468\", \"zeroline\": true}, \"yaxis\": {\"mirror\": \"all\", \"nticks\": 20, \"showgrid\": true, \"showline\": true, \"title\": \"\\u5e94\\u4ea4\\u9ad8\\u8d28\\u91cf\\u62a5\\u544a\\u6570&\\u63d0\\u4ea4\\u9ad8\\u8d28\\u91cf\\u62a5\\u544a\\u6570\", \"zeroline\": true}},\n",
       "            {\"showLink\": true, \"linkText\": \"Export to plot.ly\"}\n",
       "        ).then(function () {return Plotly.addFrames('498b820e-16da-40f6-b5a0-fcb3601acc40',{});}).then(function(){Plotly.animate('498b820e-16da-40f6-b5a0-fcb3601acc40');})\n",
       "        });</script>"
      ]
     },
     "metadata": {},
     "output_type": "display_data"
    },
    {
     "data": {
      "application/vnd.plotly.v1+json": {
       "data": [
        {
         "name": "应交高质量报告数",
         "type": "scatter",
         "uid": "e8124c62-c202-11e8-8274-509a4c0f1ffc",
         "x": [
          "8",
          "9"
         ],
         "y": [
          16,
          29
         ]
        },
        {
         "name": "提交高质量报告数",
         "type": "scatter",
         "uid": "e8124c63-c202-11e8-88b6-509a4c0f1ffc",
         "x": [
          "8",
          "9"
         ],
         "y": [
          16,
          28
         ]
        }
       ],
       "layout": {
        "title": "应交高质量报告数&提交高质量报告数月趋势图",
        "xaxis": {
         "mirror": "all",
         "nticks": 20,
         "showgrid": true,
         "showline": true,
         "title": "月",
         "zeroline": true
        },
        "yaxis": {
         "mirror": "all",
         "nticks": 20,
         "showgrid": true,
         "showline": true,
         "title": "应交高质量报告数&提交高质量报告数",
         "zeroline": true
        }
       }
      },
      "text/html": [
       "<div id=\"6c4a6fc2-b3ba-48f1-ba68-2ad7e23c02a0\" style=\"height: 525px; width: 100%;\" class=\"plotly-graph-div\"></div><script type=\"text/javascript\">require([\"plotly\"], function(Plotly) { window.PLOTLYENV=window.PLOTLYENV || {};window.PLOTLYENV.BASE_URL=\"https://plot.ly\";\n",
       "        Plotly.plot(\n",
       "            '6c4a6fc2-b3ba-48f1-ba68-2ad7e23c02a0',\n",
       "            [{\"name\": \"\\u5e94\\u4ea4\\u9ad8\\u8d28\\u91cf\\u62a5\\u544a\\u6570\", \"x\": [\"8\", \"9\"], \"y\": [16.0, 29.0], \"type\": \"scatter\", \"uid\": \"e8124c62-c202-11e8-8274-509a4c0f1ffc\"}, {\"name\": \"\\u63d0\\u4ea4\\u9ad8\\u8d28\\u91cf\\u62a5\\u544a\\u6570\", \"x\": [\"8\", \"9\"], \"y\": [16.0, 28.0], \"type\": \"scatter\", \"uid\": \"e8124c63-c202-11e8-88b6-509a4c0f1ffc\"}],\n",
       "            {\"title\": \"\\u5e94\\u4ea4\\u9ad8\\u8d28\\u91cf\\u62a5\\u544a\\u6570&\\u63d0\\u4ea4\\u9ad8\\u8d28\\u91cf\\u62a5\\u544a\\u6570\\u6708\\u8d8b\\u52bf\\u56fe\", \"xaxis\": {\"mirror\": \"all\", \"nticks\": 20, \"showgrid\": true, \"showline\": true, \"title\": \"\\u6708\", \"zeroline\": true}, \"yaxis\": {\"mirror\": \"all\", \"nticks\": 20, \"showgrid\": true, \"showline\": true, \"title\": \"\\u5e94\\u4ea4\\u9ad8\\u8d28\\u91cf\\u62a5\\u544a\\u6570&\\u63d0\\u4ea4\\u9ad8\\u8d28\\u91cf\\u62a5\\u544a\\u6570\", \"zeroline\": true}},\n",
       "            {\"showLink\": true, \"linkText\": \"Export to plot.ly\"}\n",
       "        ).then(function () {return Plotly.addFrames('6c4a6fc2-b3ba-48f1-ba68-2ad7e23c02a0',{});}).then(function(){Plotly.animate('6c4a6fc2-b3ba-48f1-ba68-2ad7e23c02a0');})\n",
       "        });</script>"
      ],
      "text/vnd.plotly.v1+html": [
       "<div id=\"6c4a6fc2-b3ba-48f1-ba68-2ad7e23c02a0\" style=\"height: 525px; width: 100%;\" class=\"plotly-graph-div\"></div><script type=\"text/javascript\">require([\"plotly\"], function(Plotly) { window.PLOTLYENV=window.PLOTLYENV || {};window.PLOTLYENV.BASE_URL=\"https://plot.ly\";\n",
       "        Plotly.plot(\n",
       "            '6c4a6fc2-b3ba-48f1-ba68-2ad7e23c02a0',\n",
       "            [{\"name\": \"\\u5e94\\u4ea4\\u9ad8\\u8d28\\u91cf\\u62a5\\u544a\\u6570\", \"x\": [\"8\", \"9\"], \"y\": [16.0, 29.0], \"type\": \"scatter\", \"uid\": \"e8124c62-c202-11e8-8274-509a4c0f1ffc\"}, {\"name\": \"\\u63d0\\u4ea4\\u9ad8\\u8d28\\u91cf\\u62a5\\u544a\\u6570\", \"x\": [\"8\", \"9\"], \"y\": [16.0, 28.0], \"type\": \"scatter\", \"uid\": \"e8124c63-c202-11e8-88b6-509a4c0f1ffc\"}],\n",
       "            {\"title\": \"\\u5e94\\u4ea4\\u9ad8\\u8d28\\u91cf\\u62a5\\u544a\\u6570&\\u63d0\\u4ea4\\u9ad8\\u8d28\\u91cf\\u62a5\\u544a\\u6570\\u6708\\u8d8b\\u52bf\\u56fe\", \"xaxis\": {\"mirror\": \"all\", \"nticks\": 20, \"showgrid\": true, \"showline\": true, \"title\": \"\\u6708\", \"zeroline\": true}, \"yaxis\": {\"mirror\": \"all\", \"nticks\": 20, \"showgrid\": true, \"showline\": true, \"title\": \"\\u5e94\\u4ea4\\u9ad8\\u8d28\\u91cf\\u62a5\\u544a\\u6570&\\u63d0\\u4ea4\\u9ad8\\u8d28\\u91cf\\u62a5\\u544a\\u6570\", \"zeroline\": true}},\n",
       "            {\"showLink\": true, \"linkText\": \"Export to plot.ly\"}\n",
       "        ).then(function () {return Plotly.addFrames('6c4a6fc2-b3ba-48f1-ba68-2ad7e23c02a0',{});}).then(function(){Plotly.animate('6c4a6fc2-b3ba-48f1-ba68-2ad7e23c02a0');})\n",
       "        });</script>"
      ]
     },
     "metadata": {},
     "output_type": "display_data"
    }
   ],
   "source": [
    "data_dict = {'应交高质量报告数':['应交高质量报告数'], '提交高质量报告数':['提交高质量报告数']}\n",
    "myModule.plot( all_dict, data_dict, '负责人' ,  'line' , all='all')"
   ]
  },
  {
   "cell_type": "markdown",
   "metadata": {
    "hide_input": true
   },
   "source": [
    "### 甘特图情况"
   ]
  },
  {
   "cell_type": "markdown",
   "metadata": {},
   "source": [
    "#### 季度开发项目数、如期完成项目数、延期完成、开发中的项目数、延期项目数和暂停项目数"
   ]
  },
  {
   "cell_type": "code",
   "execution_count": 54,
   "metadata": {},
   "outputs": [
    {
     "data": {
      "application/vnd.plotly.v1+json": {
       "data": [
        {
         "name": "季度开发项目数",
         "type": "scatter",
         "uid": "e88d6fd2-c202-11e8-af0b-509a4c0f1ffc",
         "x": [
          "8-3",
          "8-4",
          "9-1",
          "9-2",
          "9-3"
         ],
         "y": [
          313,
          350,
          357,
          308,
          250
         ]
        },
        {
         "name": "如期完成项目数",
         "type": "scatter",
         "uid": "e88d6fd3-c202-11e8-8f87-509a4c0f1ffc",
         "x": [
          "8-3",
          "8-4",
          "9-1",
          "9-2",
          "9-3"
         ],
         "y": [
          197,
          216,
          228,
          219,
          176
         ]
        },
        {
         "name": "延期完成",
         "type": "scatter",
         "uid": "e88d6fd4-c202-11e8-8e67-509a4c0f1ffc",
         "x": [
          "8-3",
          "8-4",
          "9-1",
          "9-2",
          "9-3"
         ],
         "y": [
          15,
          18,
          22,
          8,
          22
         ]
        },
        {
         "name": "开发中的项目数",
         "type": "scatter",
         "uid": "e88d6fd5-c202-11e8-b30b-509a4c0f1ffc",
         "x": [
          "8-3",
          "8-4",
          "9-1",
          "9-2",
          "9-3"
         ],
         "y": [
          73,
          90,
          66,
          48,
          26
         ]
        },
        {
         "name": "延期项目数",
         "type": "scatter",
         "uid": "e88d6fd6-c202-11e8-ab6a-509a4c0f1ffc",
         "x": [
          "8-3",
          "8-4",
          "9-1",
          "9-2",
          "9-3"
         ],
         "y": [
          11,
          13,
          26,
          20,
          10
         ]
        },
        {
         "name": "暂停项目数",
         "type": "scatter",
         "uid": "e88d6fd7-c202-11e8-b2c2-509a4c0f1ffc",
         "x": [
          "8-3",
          "8-4",
          "9-1",
          "9-2",
          "9-3"
         ],
         "y": [
          15,
          15,
          21,
          18,
          33
         ]
        }
       ],
       "layout": {
        "title": "季度开发项目数&如期完成项目数&延期完成&开发中的项目数&延期项目数&暂停项目数周趋势图",
        "xaxis": {
         "mirror": "all",
         "nticks": 20,
         "showgrid": true,
         "showline": true,
         "title": "周",
         "zeroline": true
        },
        "yaxis": {
         "mirror": "all",
         "nticks": 20,
         "showgrid": true,
         "showline": true,
         "title": "季度开发项目数&如期完成项目数&延期完成&开发中的项目数&延期项目数&暂停项目数",
         "zeroline": true
        }
       }
      },
      "text/html": [
       "<div id=\"31dc60c1-b75f-46e9-b7cf-c262a527c44c\" style=\"height: 525px; width: 100%;\" class=\"plotly-graph-div\"></div><script type=\"text/javascript\">require([\"plotly\"], function(Plotly) { window.PLOTLYENV=window.PLOTLYENV || {};window.PLOTLYENV.BASE_URL=\"https://plot.ly\";\n",
       "        Plotly.plot(\n",
       "            '31dc60c1-b75f-46e9-b7cf-c262a527c44c',\n",
       "            [{\"name\": \"\\u5b63\\u5ea6\\u5f00\\u53d1\\u9879\\u76ee\\u6570\", \"x\": [\"8-3\", \"8-4\", \"9-1\", \"9-2\", \"9-3\"], \"y\": [313.0, 350.0, 357.0, 308.0, 250.0], \"type\": \"scatter\", \"uid\": \"e88d6fd2-c202-11e8-af0b-509a4c0f1ffc\"}, {\"name\": \"\\u5982\\u671f\\u5b8c\\u6210\\u9879\\u76ee\\u6570\", \"x\": [\"8-3\", \"8-4\", \"9-1\", \"9-2\", \"9-3\"], \"y\": [197.0, 216.0, 228.0, 219.0, 176.0], \"type\": \"scatter\", \"uid\": \"e88d6fd3-c202-11e8-8f87-509a4c0f1ffc\"}, {\"name\": \"\\u5ef6\\u671f\\u5b8c\\u6210\", \"x\": [\"8-3\", \"8-4\", \"9-1\", \"9-2\", \"9-3\"], \"y\": [15.0, 18.0, 22.0, 8.0, 22.0], \"type\": \"scatter\", \"uid\": \"e88d6fd4-c202-11e8-8e67-509a4c0f1ffc\"}, {\"name\": \"\\u5f00\\u53d1\\u4e2d\\u7684\\u9879\\u76ee\\u6570\", \"x\": [\"8-3\", \"8-4\", \"9-1\", \"9-2\", \"9-3\"], \"y\": [73.0, 90.0, 66.0, 48.0, 26.0], \"type\": \"scatter\", \"uid\": \"e88d6fd5-c202-11e8-b30b-509a4c0f1ffc\"}, {\"name\": \"\\u5ef6\\u671f\\u9879\\u76ee\\u6570\", \"x\": [\"8-3\", \"8-4\", \"9-1\", \"9-2\", \"9-3\"], \"y\": [11.0, 13.0, 26.0, 20.0, 10.0], \"type\": \"scatter\", \"uid\": \"e88d6fd6-c202-11e8-ab6a-509a4c0f1ffc\"}, {\"name\": \"\\u6682\\u505c\\u9879\\u76ee\\u6570\", \"x\": [\"8-3\", \"8-4\", \"9-1\", \"9-2\", \"9-3\"], \"y\": [15.0, 15.0, 21.0, 18.0, 33.0], \"type\": \"scatter\", \"uid\": \"e88d6fd7-c202-11e8-b2c2-509a4c0f1ffc\"}],\n",
       "            {\"title\": \"\\u5b63\\u5ea6\\u5f00\\u53d1\\u9879\\u76ee\\u6570&\\u5982\\u671f\\u5b8c\\u6210\\u9879\\u76ee\\u6570&\\u5ef6\\u671f\\u5b8c\\u6210&\\u5f00\\u53d1\\u4e2d\\u7684\\u9879\\u76ee\\u6570&\\u5ef6\\u671f\\u9879\\u76ee\\u6570&\\u6682\\u505c\\u9879\\u76ee\\u6570\\u5468\\u8d8b\\u52bf\\u56fe\", \"xaxis\": {\"mirror\": \"all\", \"nticks\": 20, \"showgrid\": true, \"showline\": true, \"title\": \"\\u5468\", \"zeroline\": true}, \"yaxis\": {\"mirror\": \"all\", \"nticks\": 20, \"showgrid\": true, \"showline\": true, \"title\": \"\\u5b63\\u5ea6\\u5f00\\u53d1\\u9879\\u76ee\\u6570&\\u5982\\u671f\\u5b8c\\u6210\\u9879\\u76ee\\u6570&\\u5ef6\\u671f\\u5b8c\\u6210&\\u5f00\\u53d1\\u4e2d\\u7684\\u9879\\u76ee\\u6570&\\u5ef6\\u671f\\u9879\\u76ee\\u6570&\\u6682\\u505c\\u9879\\u76ee\\u6570\", \"zeroline\": true}},\n",
       "            {\"showLink\": true, \"linkText\": \"Export to plot.ly\"}\n",
       "        ).then(function () {return Plotly.addFrames('31dc60c1-b75f-46e9-b7cf-c262a527c44c',{});}).then(function(){Plotly.animate('31dc60c1-b75f-46e9-b7cf-c262a527c44c');})\n",
       "        });</script>"
      ],
      "text/vnd.plotly.v1+html": [
       "<div id=\"31dc60c1-b75f-46e9-b7cf-c262a527c44c\" style=\"height: 525px; width: 100%;\" class=\"plotly-graph-div\"></div><script type=\"text/javascript\">require([\"plotly\"], function(Plotly) { window.PLOTLYENV=window.PLOTLYENV || {};window.PLOTLYENV.BASE_URL=\"https://plot.ly\";\n",
       "        Plotly.plot(\n",
       "            '31dc60c1-b75f-46e9-b7cf-c262a527c44c',\n",
       "            [{\"name\": \"\\u5b63\\u5ea6\\u5f00\\u53d1\\u9879\\u76ee\\u6570\", \"x\": [\"8-3\", \"8-4\", \"9-1\", \"9-2\", \"9-3\"], \"y\": [313.0, 350.0, 357.0, 308.0, 250.0], \"type\": \"scatter\", \"uid\": \"e88d6fd2-c202-11e8-af0b-509a4c0f1ffc\"}, {\"name\": \"\\u5982\\u671f\\u5b8c\\u6210\\u9879\\u76ee\\u6570\", \"x\": [\"8-3\", \"8-4\", \"9-1\", \"9-2\", \"9-3\"], \"y\": [197.0, 216.0, 228.0, 219.0, 176.0], \"type\": \"scatter\", \"uid\": \"e88d6fd3-c202-11e8-8f87-509a4c0f1ffc\"}, {\"name\": \"\\u5ef6\\u671f\\u5b8c\\u6210\", \"x\": [\"8-3\", \"8-4\", \"9-1\", \"9-2\", \"9-3\"], \"y\": [15.0, 18.0, 22.0, 8.0, 22.0], \"type\": \"scatter\", \"uid\": \"e88d6fd4-c202-11e8-8e67-509a4c0f1ffc\"}, {\"name\": \"\\u5f00\\u53d1\\u4e2d\\u7684\\u9879\\u76ee\\u6570\", \"x\": [\"8-3\", \"8-4\", \"9-1\", \"9-2\", \"9-3\"], \"y\": [73.0, 90.0, 66.0, 48.0, 26.0], \"type\": \"scatter\", \"uid\": \"e88d6fd5-c202-11e8-b30b-509a4c0f1ffc\"}, {\"name\": \"\\u5ef6\\u671f\\u9879\\u76ee\\u6570\", \"x\": [\"8-3\", \"8-4\", \"9-1\", \"9-2\", \"9-3\"], \"y\": [11.0, 13.0, 26.0, 20.0, 10.0], \"type\": \"scatter\", \"uid\": \"e88d6fd6-c202-11e8-ab6a-509a4c0f1ffc\"}, {\"name\": \"\\u6682\\u505c\\u9879\\u76ee\\u6570\", \"x\": [\"8-3\", \"8-4\", \"9-1\", \"9-2\", \"9-3\"], \"y\": [15.0, 15.0, 21.0, 18.0, 33.0], \"type\": \"scatter\", \"uid\": \"e88d6fd7-c202-11e8-b2c2-509a4c0f1ffc\"}],\n",
       "            {\"title\": \"\\u5b63\\u5ea6\\u5f00\\u53d1\\u9879\\u76ee\\u6570&\\u5982\\u671f\\u5b8c\\u6210\\u9879\\u76ee\\u6570&\\u5ef6\\u671f\\u5b8c\\u6210&\\u5f00\\u53d1\\u4e2d\\u7684\\u9879\\u76ee\\u6570&\\u5ef6\\u671f\\u9879\\u76ee\\u6570&\\u6682\\u505c\\u9879\\u76ee\\u6570\\u5468\\u8d8b\\u52bf\\u56fe\", \"xaxis\": {\"mirror\": \"all\", \"nticks\": 20, \"showgrid\": true, \"showline\": true, \"title\": \"\\u5468\", \"zeroline\": true}, \"yaxis\": {\"mirror\": \"all\", \"nticks\": 20, \"showgrid\": true, \"showline\": true, \"title\": \"\\u5b63\\u5ea6\\u5f00\\u53d1\\u9879\\u76ee\\u6570&\\u5982\\u671f\\u5b8c\\u6210\\u9879\\u76ee\\u6570&\\u5ef6\\u671f\\u5b8c\\u6210&\\u5f00\\u53d1\\u4e2d\\u7684\\u9879\\u76ee\\u6570&\\u5ef6\\u671f\\u9879\\u76ee\\u6570&\\u6682\\u505c\\u9879\\u76ee\\u6570\", \"zeroline\": true}},\n",
       "            {\"showLink\": true, \"linkText\": \"Export to plot.ly\"}\n",
       "        ).then(function () {return Plotly.addFrames('31dc60c1-b75f-46e9-b7cf-c262a527c44c',{});}).then(function(){Plotly.animate('31dc60c1-b75f-46e9-b7cf-c262a527c44c');})\n",
       "        });</script>"
      ]
     },
     "metadata": {},
     "output_type": "display_data"
    },
    {
     "data": {
      "application/vnd.plotly.v1+json": {
       "data": [
        {
         "name": "季度开发项目数",
         "type": "scatter",
         "uid": "e89a8f34-c202-11e8-afab-509a4c0f1ffc",
         "x": [
          "8",
          "9"
         ],
         "y": [
          663,
          915
         ]
        },
        {
         "name": "如期完成项目数",
         "type": "scatter",
         "uid": "e89a8f35-c202-11e8-ac94-509a4c0f1ffc",
         "x": [
          "8",
          "9"
         ],
         "y": [
          413,
          623
         ]
        },
        {
         "name": "延期完成",
         "type": "scatter",
         "uid": "e89a8f36-c202-11e8-8f40-509a4c0f1ffc",
         "x": [
          "8",
          "9"
         ],
         "y": [
          33,
          52
         ]
        },
        {
         "name": "开发中的项目数",
         "type": "scatter",
         "uid": "e89a8f37-c202-11e8-b14c-509a4c0f1ffc",
         "x": [
          "8",
          "9"
         ],
         "y": [
          163,
          140
         ]
        },
        {
         "name": "延期项目数",
         "type": "scatter",
         "uid": "e89a8f38-c202-11e8-b8a4-509a4c0f1ffc",
         "x": [
          "8",
          "9"
         ],
         "y": [
          24,
          56
         ]
        },
        {
         "name": "暂停项目数",
         "type": "scatter",
         "uid": "e89a8f39-c202-11e8-a04a-509a4c0f1ffc",
         "x": [
          "8",
          "9"
         ],
         "y": [
          30,
          72
         ]
        }
       ],
       "layout": {
        "title": "季度开发项目数&如期完成项目数&延期完成&开发中的项目数&延期项目数&暂停项目数月趋势图",
        "xaxis": {
         "mirror": "all",
         "nticks": 20,
         "showgrid": true,
         "showline": true,
         "title": "月",
         "zeroline": true
        },
        "yaxis": {
         "mirror": "all",
         "nticks": 20,
         "showgrid": true,
         "showline": true,
         "title": "季度开发项目数&如期完成项目数&延期完成&开发中的项目数&延期项目数&暂停项目数",
         "zeroline": true
        }
       }
      },
      "text/html": [
       "<div id=\"59372f4a-b757-467a-ae17-c76b65abe213\" style=\"height: 525px; width: 100%;\" class=\"plotly-graph-div\"></div><script type=\"text/javascript\">require([\"plotly\"], function(Plotly) { window.PLOTLYENV=window.PLOTLYENV || {};window.PLOTLYENV.BASE_URL=\"https://plot.ly\";\n",
       "        Plotly.plot(\n",
       "            '59372f4a-b757-467a-ae17-c76b65abe213',\n",
       "            [{\"name\": \"\\u5b63\\u5ea6\\u5f00\\u53d1\\u9879\\u76ee\\u6570\", \"x\": [\"8\", \"9\"], \"y\": [663.0, 915.0], \"type\": \"scatter\", \"uid\": \"e89a8f34-c202-11e8-afab-509a4c0f1ffc\"}, {\"name\": \"\\u5982\\u671f\\u5b8c\\u6210\\u9879\\u76ee\\u6570\", \"x\": [\"8\", \"9\"], \"y\": [413.0, 623.0], \"type\": \"scatter\", \"uid\": \"e89a8f35-c202-11e8-ac94-509a4c0f1ffc\"}, {\"name\": \"\\u5ef6\\u671f\\u5b8c\\u6210\", \"x\": [\"8\", \"9\"], \"y\": [33.0, 52.0], \"type\": \"scatter\", \"uid\": \"e89a8f36-c202-11e8-8f40-509a4c0f1ffc\"}, {\"name\": \"\\u5f00\\u53d1\\u4e2d\\u7684\\u9879\\u76ee\\u6570\", \"x\": [\"8\", \"9\"], \"y\": [163.0, 140.0], \"type\": \"scatter\", \"uid\": \"e89a8f37-c202-11e8-b14c-509a4c0f1ffc\"}, {\"name\": \"\\u5ef6\\u671f\\u9879\\u76ee\\u6570\", \"x\": [\"8\", \"9\"], \"y\": [24.0, 56.0], \"type\": \"scatter\", \"uid\": \"e89a8f38-c202-11e8-b8a4-509a4c0f1ffc\"}, {\"name\": \"\\u6682\\u505c\\u9879\\u76ee\\u6570\", \"x\": [\"8\", \"9\"], \"y\": [30.0, 72.0], \"type\": \"scatter\", \"uid\": \"e89a8f39-c202-11e8-a04a-509a4c0f1ffc\"}],\n",
       "            {\"title\": \"\\u5b63\\u5ea6\\u5f00\\u53d1\\u9879\\u76ee\\u6570&\\u5982\\u671f\\u5b8c\\u6210\\u9879\\u76ee\\u6570&\\u5ef6\\u671f\\u5b8c\\u6210&\\u5f00\\u53d1\\u4e2d\\u7684\\u9879\\u76ee\\u6570&\\u5ef6\\u671f\\u9879\\u76ee\\u6570&\\u6682\\u505c\\u9879\\u76ee\\u6570\\u6708\\u8d8b\\u52bf\\u56fe\", \"xaxis\": {\"mirror\": \"all\", \"nticks\": 20, \"showgrid\": true, \"showline\": true, \"title\": \"\\u6708\", \"zeroline\": true}, \"yaxis\": {\"mirror\": \"all\", \"nticks\": 20, \"showgrid\": true, \"showline\": true, \"title\": \"\\u5b63\\u5ea6\\u5f00\\u53d1\\u9879\\u76ee\\u6570&\\u5982\\u671f\\u5b8c\\u6210\\u9879\\u76ee\\u6570&\\u5ef6\\u671f\\u5b8c\\u6210&\\u5f00\\u53d1\\u4e2d\\u7684\\u9879\\u76ee\\u6570&\\u5ef6\\u671f\\u9879\\u76ee\\u6570&\\u6682\\u505c\\u9879\\u76ee\\u6570\", \"zeroline\": true}},\n",
       "            {\"showLink\": true, \"linkText\": \"Export to plot.ly\"}\n",
       "        ).then(function () {return Plotly.addFrames('59372f4a-b757-467a-ae17-c76b65abe213',{});}).then(function(){Plotly.animate('59372f4a-b757-467a-ae17-c76b65abe213');})\n",
       "        });</script>"
      ],
      "text/vnd.plotly.v1+html": [
       "<div id=\"59372f4a-b757-467a-ae17-c76b65abe213\" style=\"height: 525px; width: 100%;\" class=\"plotly-graph-div\"></div><script type=\"text/javascript\">require([\"plotly\"], function(Plotly) { window.PLOTLYENV=window.PLOTLYENV || {};window.PLOTLYENV.BASE_URL=\"https://plot.ly\";\n",
       "        Plotly.plot(\n",
       "            '59372f4a-b757-467a-ae17-c76b65abe213',\n",
       "            [{\"name\": \"\\u5b63\\u5ea6\\u5f00\\u53d1\\u9879\\u76ee\\u6570\", \"x\": [\"8\", \"9\"], \"y\": [663.0, 915.0], \"type\": \"scatter\", \"uid\": \"e89a8f34-c202-11e8-afab-509a4c0f1ffc\"}, {\"name\": \"\\u5982\\u671f\\u5b8c\\u6210\\u9879\\u76ee\\u6570\", \"x\": [\"8\", \"9\"], \"y\": [413.0, 623.0], \"type\": \"scatter\", \"uid\": \"e89a8f35-c202-11e8-ac94-509a4c0f1ffc\"}, {\"name\": \"\\u5ef6\\u671f\\u5b8c\\u6210\", \"x\": [\"8\", \"9\"], \"y\": [33.0, 52.0], \"type\": \"scatter\", \"uid\": \"e89a8f36-c202-11e8-8f40-509a4c0f1ffc\"}, {\"name\": \"\\u5f00\\u53d1\\u4e2d\\u7684\\u9879\\u76ee\\u6570\", \"x\": [\"8\", \"9\"], \"y\": [163.0, 140.0], \"type\": \"scatter\", \"uid\": \"e89a8f37-c202-11e8-b14c-509a4c0f1ffc\"}, {\"name\": \"\\u5ef6\\u671f\\u9879\\u76ee\\u6570\", \"x\": [\"8\", \"9\"], \"y\": [24.0, 56.0], \"type\": \"scatter\", \"uid\": \"e89a8f38-c202-11e8-b8a4-509a4c0f1ffc\"}, {\"name\": \"\\u6682\\u505c\\u9879\\u76ee\\u6570\", \"x\": [\"8\", \"9\"], \"y\": [30.0, 72.0], \"type\": \"scatter\", \"uid\": \"e89a8f39-c202-11e8-a04a-509a4c0f1ffc\"}],\n",
       "            {\"title\": \"\\u5b63\\u5ea6\\u5f00\\u53d1\\u9879\\u76ee\\u6570&\\u5982\\u671f\\u5b8c\\u6210\\u9879\\u76ee\\u6570&\\u5ef6\\u671f\\u5b8c\\u6210&\\u5f00\\u53d1\\u4e2d\\u7684\\u9879\\u76ee\\u6570&\\u5ef6\\u671f\\u9879\\u76ee\\u6570&\\u6682\\u505c\\u9879\\u76ee\\u6570\\u6708\\u8d8b\\u52bf\\u56fe\", \"xaxis\": {\"mirror\": \"all\", \"nticks\": 20, \"showgrid\": true, \"showline\": true, \"title\": \"\\u6708\", \"zeroline\": true}, \"yaxis\": {\"mirror\": \"all\", \"nticks\": 20, \"showgrid\": true, \"showline\": true, \"title\": \"\\u5b63\\u5ea6\\u5f00\\u53d1\\u9879\\u76ee\\u6570&\\u5982\\u671f\\u5b8c\\u6210\\u9879\\u76ee\\u6570&\\u5ef6\\u671f\\u5b8c\\u6210&\\u5f00\\u53d1\\u4e2d\\u7684\\u9879\\u76ee\\u6570&\\u5ef6\\u671f\\u9879\\u76ee\\u6570&\\u6682\\u505c\\u9879\\u76ee\\u6570\", \"zeroline\": true}},\n",
       "            {\"showLink\": true, \"linkText\": \"Export to plot.ly\"}\n",
       "        ).then(function () {return Plotly.addFrames('59372f4a-b757-467a-ae17-c76b65abe213',{});}).then(function(){Plotly.animate('59372f4a-b757-467a-ae17-c76b65abe213');})\n",
       "        });</script>"
      ]
     },
     "metadata": {},
     "output_type": "display_data"
    }
   ],
   "source": [
    "data_dict = {'季度开发项目数': ['季度开发项目数'], '如期完成项目数': ['如期完成项目数'], '延期完成': ['延期完成'],\\\n",
    "             '开发中的项目数': ['开发中的项目数'], '延期项目数': ['延期项目数'], '暂停项目数': ['暂停项目数']}\n",
    "myModule.plot( all_dict, data_dict, '负责人' ,  'line' , all='all')"
   ]
  },
  {
   "cell_type": "markdown",
   "metadata": {
    "hide_input": true
   },
   "source": [
    "### 个人成长指数"
   ]
  },
  {
   "cell_type": "markdown",
   "metadata": {},
   "source": [
    "#### 电话会议次数、软著撰写完成数、专利撰写完成数、外出技术支持数、客户来访接待数和文章数"
   ]
  },
  {
   "cell_type": "code",
   "execution_count": 55,
   "metadata": {},
   "outputs": [
    {
     "data": {
      "application/vnd.plotly.v1+json": {
       "data": [
        {
         "name": "电话会议次数",
         "type": "scatter",
         "uid": "e90dc362-c202-11e8-b667-509a4c0f1ffc",
         "x": [
          "8-3",
          "8-4",
          "9-1",
          "9-2",
          "9-3"
         ],
         "y": [
          9,
          5,
          5,
          8,
          8
         ]
        },
        {
         "name": "外出技术支持数",
         "type": "scatter",
         "uid": "e90dc363-c202-11e8-afbb-509a4c0f1ffc",
         "x": [
          "8-3",
          "8-4",
          "9-1",
          "9-2",
          "9-3"
         ],
         "y": [
          0,
          0,
          0,
          0,
          0
         ]
        },
        {
         "name": "客户来访接待数",
         "type": "scatter",
         "uid": "e90dc364-c202-11e8-b7f9-509a4c0f1ffc",
         "x": [
          "8-3",
          "8-4",
          "9-1",
          "9-2",
          "9-3"
         ],
         "y": [
          3,
          0,
          0,
          0,
          1
         ]
        }
       ],
       "layout": {
        "title": "电话会议次数&外出技术支持数&客户来访接待数周趋势图",
        "xaxis": {
         "mirror": "all",
         "nticks": 20,
         "showgrid": true,
         "showline": true,
         "title": "周",
         "zeroline": true
        },
        "yaxis": {
         "mirror": "all",
         "nticks": 20,
         "showgrid": true,
         "showline": true,
         "title": "电话会议次数&外出技术支持数&客户来访接待数",
         "zeroline": true
        }
       }
      },
      "text/html": [
       "<div id=\"e64b2e03-6839-49c5-a380-2ad39477df38\" style=\"height: 525px; width: 100%;\" class=\"plotly-graph-div\"></div><script type=\"text/javascript\">require([\"plotly\"], function(Plotly) { window.PLOTLYENV=window.PLOTLYENV || {};window.PLOTLYENV.BASE_URL=\"https://plot.ly\";\n",
       "        Plotly.plot(\n",
       "            'e64b2e03-6839-49c5-a380-2ad39477df38',\n",
       "            [{\"name\": \"\\u7535\\u8bdd\\u4f1a\\u8bae\\u6b21\\u6570\", \"x\": [\"8-3\", \"8-4\", \"9-1\", \"9-2\", \"9-3\"], \"y\": [9.0, 5.0, 5.0, 8.0, 8.0], \"type\": \"scatter\", \"uid\": \"e90dc362-c202-11e8-b667-509a4c0f1ffc\"}, {\"name\": \"\\u5916\\u51fa\\u6280\\u672f\\u652f\\u6301\\u6570\", \"x\": [\"8-3\", \"8-4\", \"9-1\", \"9-2\", \"9-3\"], \"y\": [0.0, 0.0, 0.0, 0.0, 0.0], \"type\": \"scatter\", \"uid\": \"e90dc363-c202-11e8-afbb-509a4c0f1ffc\"}, {\"name\": \"\\u5ba2\\u6237\\u6765\\u8bbf\\u63a5\\u5f85\\u6570\", \"x\": [\"8-3\", \"8-4\", \"9-1\", \"9-2\", \"9-3\"], \"y\": [3.0, 0.0, 0.0, 0.0, 1.0], \"type\": \"scatter\", \"uid\": \"e90dc364-c202-11e8-b7f9-509a4c0f1ffc\"}],\n",
       "            {\"title\": \"\\u7535\\u8bdd\\u4f1a\\u8bae\\u6b21\\u6570&\\u5916\\u51fa\\u6280\\u672f\\u652f\\u6301\\u6570&\\u5ba2\\u6237\\u6765\\u8bbf\\u63a5\\u5f85\\u6570\\u5468\\u8d8b\\u52bf\\u56fe\", \"xaxis\": {\"mirror\": \"all\", \"nticks\": 20, \"showgrid\": true, \"showline\": true, \"title\": \"\\u5468\", \"zeroline\": true}, \"yaxis\": {\"mirror\": \"all\", \"nticks\": 20, \"showgrid\": true, \"showline\": true, \"title\": \"\\u7535\\u8bdd\\u4f1a\\u8bae\\u6b21\\u6570&\\u5916\\u51fa\\u6280\\u672f\\u652f\\u6301\\u6570&\\u5ba2\\u6237\\u6765\\u8bbf\\u63a5\\u5f85\\u6570\", \"zeroline\": true}},\n",
       "            {\"showLink\": true, \"linkText\": \"Export to plot.ly\"}\n",
       "        ).then(function () {return Plotly.addFrames('e64b2e03-6839-49c5-a380-2ad39477df38',{});}).then(function(){Plotly.animate('e64b2e03-6839-49c5-a380-2ad39477df38');})\n",
       "        });</script>"
      ],
      "text/vnd.plotly.v1+html": [
       "<div id=\"e64b2e03-6839-49c5-a380-2ad39477df38\" style=\"height: 525px; width: 100%;\" class=\"plotly-graph-div\"></div><script type=\"text/javascript\">require([\"plotly\"], function(Plotly) { window.PLOTLYENV=window.PLOTLYENV || {};window.PLOTLYENV.BASE_URL=\"https://plot.ly\";\n",
       "        Plotly.plot(\n",
       "            'e64b2e03-6839-49c5-a380-2ad39477df38',\n",
       "            [{\"name\": \"\\u7535\\u8bdd\\u4f1a\\u8bae\\u6b21\\u6570\", \"x\": [\"8-3\", \"8-4\", \"9-1\", \"9-2\", \"9-3\"], \"y\": [9.0, 5.0, 5.0, 8.0, 8.0], \"type\": \"scatter\", \"uid\": \"e90dc362-c202-11e8-b667-509a4c0f1ffc\"}, {\"name\": \"\\u5916\\u51fa\\u6280\\u672f\\u652f\\u6301\\u6570\", \"x\": [\"8-3\", \"8-4\", \"9-1\", \"9-2\", \"9-3\"], \"y\": [0.0, 0.0, 0.0, 0.0, 0.0], \"type\": \"scatter\", \"uid\": \"e90dc363-c202-11e8-afbb-509a4c0f1ffc\"}, {\"name\": \"\\u5ba2\\u6237\\u6765\\u8bbf\\u63a5\\u5f85\\u6570\", \"x\": [\"8-3\", \"8-4\", \"9-1\", \"9-2\", \"9-3\"], \"y\": [3.0, 0.0, 0.0, 0.0, 1.0], \"type\": \"scatter\", \"uid\": \"e90dc364-c202-11e8-b7f9-509a4c0f1ffc\"}],\n",
       "            {\"title\": \"\\u7535\\u8bdd\\u4f1a\\u8bae\\u6b21\\u6570&\\u5916\\u51fa\\u6280\\u672f\\u652f\\u6301\\u6570&\\u5ba2\\u6237\\u6765\\u8bbf\\u63a5\\u5f85\\u6570\\u5468\\u8d8b\\u52bf\\u56fe\", \"xaxis\": {\"mirror\": \"all\", \"nticks\": 20, \"showgrid\": true, \"showline\": true, \"title\": \"\\u5468\", \"zeroline\": true}, \"yaxis\": {\"mirror\": \"all\", \"nticks\": 20, \"showgrid\": true, \"showline\": true, \"title\": \"\\u7535\\u8bdd\\u4f1a\\u8bae\\u6b21\\u6570&\\u5916\\u51fa\\u6280\\u672f\\u652f\\u6301\\u6570&\\u5ba2\\u6237\\u6765\\u8bbf\\u63a5\\u5f85\\u6570\", \"zeroline\": true}},\n",
       "            {\"showLink\": true, \"linkText\": \"Export to plot.ly\"}\n",
       "        ).then(function () {return Plotly.addFrames('e64b2e03-6839-49c5-a380-2ad39477df38',{});}).then(function(){Plotly.animate('e64b2e03-6839-49c5-a380-2ad39477df38');})\n",
       "        });</script>"
      ]
     },
     "metadata": {},
     "output_type": "display_data"
    },
    {
     "data": {
      "application/vnd.plotly.v1+json": {
       "data": [
        {
         "name": "电话会议次数",
         "type": "scatter",
         "uid": "e91823a2-c202-11e8-9cb8-509a4c0f1ffc",
         "x": [
          "8",
          "9"
         ],
         "y": [
          14,
          21
         ]
        },
        {
         "name": "外出技术支持数",
         "type": "scatter",
         "uid": "e91823a3-c202-11e8-9a2c-509a4c0f1ffc",
         "x": [
          "8",
          "9"
         ],
         "y": [
          0,
          0
         ]
        },
        {
         "name": "客户来访接待数",
         "type": "scatter",
         "uid": "e91823a4-c202-11e8-92d3-509a4c0f1ffc",
         "x": [
          "8",
          "9"
         ],
         "y": [
          3,
          1
         ]
        }
       ],
       "layout": {
        "title": "电话会议次数&外出技术支持数&客户来访接待数月趋势图",
        "xaxis": {
         "mirror": "all",
         "nticks": 20,
         "showgrid": true,
         "showline": true,
         "title": "月",
         "zeroline": true
        },
        "yaxis": {
         "mirror": "all",
         "nticks": 20,
         "showgrid": true,
         "showline": true,
         "title": "电话会议次数&外出技术支持数&客户来访接待数",
         "zeroline": true
        }
       }
      },
      "text/html": [
       "<div id=\"2dd073c7-b719-4afe-84ca-09e28f870b4e\" style=\"height: 525px; width: 100%;\" class=\"plotly-graph-div\"></div><script type=\"text/javascript\">require([\"plotly\"], function(Plotly) { window.PLOTLYENV=window.PLOTLYENV || {};window.PLOTLYENV.BASE_URL=\"https://plot.ly\";\n",
       "        Plotly.plot(\n",
       "            '2dd073c7-b719-4afe-84ca-09e28f870b4e',\n",
       "            [{\"name\": \"\\u7535\\u8bdd\\u4f1a\\u8bae\\u6b21\\u6570\", \"x\": [\"8\", \"9\"], \"y\": [14.0, 21.0], \"type\": \"scatter\", \"uid\": \"e91823a2-c202-11e8-9cb8-509a4c0f1ffc\"}, {\"name\": \"\\u5916\\u51fa\\u6280\\u672f\\u652f\\u6301\\u6570\", \"x\": [\"8\", \"9\"], \"y\": [0.0, 0.0], \"type\": \"scatter\", \"uid\": \"e91823a3-c202-11e8-9a2c-509a4c0f1ffc\"}, {\"name\": \"\\u5ba2\\u6237\\u6765\\u8bbf\\u63a5\\u5f85\\u6570\", \"x\": [\"8\", \"9\"], \"y\": [3.0, 1.0], \"type\": \"scatter\", \"uid\": \"e91823a4-c202-11e8-92d3-509a4c0f1ffc\"}],\n",
       "            {\"title\": \"\\u7535\\u8bdd\\u4f1a\\u8bae\\u6b21\\u6570&\\u5916\\u51fa\\u6280\\u672f\\u652f\\u6301\\u6570&\\u5ba2\\u6237\\u6765\\u8bbf\\u63a5\\u5f85\\u6570\\u6708\\u8d8b\\u52bf\\u56fe\", \"xaxis\": {\"mirror\": \"all\", \"nticks\": 20, \"showgrid\": true, \"showline\": true, \"title\": \"\\u6708\", \"zeroline\": true}, \"yaxis\": {\"mirror\": \"all\", \"nticks\": 20, \"showgrid\": true, \"showline\": true, \"title\": \"\\u7535\\u8bdd\\u4f1a\\u8bae\\u6b21\\u6570&\\u5916\\u51fa\\u6280\\u672f\\u652f\\u6301\\u6570&\\u5ba2\\u6237\\u6765\\u8bbf\\u63a5\\u5f85\\u6570\", \"zeroline\": true}},\n",
       "            {\"showLink\": true, \"linkText\": \"Export to plot.ly\"}\n",
       "        ).then(function () {return Plotly.addFrames('2dd073c7-b719-4afe-84ca-09e28f870b4e',{});}).then(function(){Plotly.animate('2dd073c7-b719-4afe-84ca-09e28f870b4e');})\n",
       "        });</script>"
      ],
      "text/vnd.plotly.v1+html": [
       "<div id=\"2dd073c7-b719-4afe-84ca-09e28f870b4e\" style=\"height: 525px; width: 100%;\" class=\"plotly-graph-div\"></div><script type=\"text/javascript\">require([\"plotly\"], function(Plotly) { window.PLOTLYENV=window.PLOTLYENV || {};window.PLOTLYENV.BASE_URL=\"https://plot.ly\";\n",
       "        Plotly.plot(\n",
       "            '2dd073c7-b719-4afe-84ca-09e28f870b4e',\n",
       "            [{\"name\": \"\\u7535\\u8bdd\\u4f1a\\u8bae\\u6b21\\u6570\", \"x\": [\"8\", \"9\"], \"y\": [14.0, 21.0], \"type\": \"scatter\", \"uid\": \"e91823a2-c202-11e8-9cb8-509a4c0f1ffc\"}, {\"name\": \"\\u5916\\u51fa\\u6280\\u672f\\u652f\\u6301\\u6570\", \"x\": [\"8\", \"9\"], \"y\": [0.0, 0.0], \"type\": \"scatter\", \"uid\": \"e91823a3-c202-11e8-9a2c-509a4c0f1ffc\"}, {\"name\": \"\\u5ba2\\u6237\\u6765\\u8bbf\\u63a5\\u5f85\\u6570\", \"x\": [\"8\", \"9\"], \"y\": [3.0, 1.0], \"type\": \"scatter\", \"uid\": \"e91823a4-c202-11e8-92d3-509a4c0f1ffc\"}],\n",
       "            {\"title\": \"\\u7535\\u8bdd\\u4f1a\\u8bae\\u6b21\\u6570&\\u5916\\u51fa\\u6280\\u672f\\u652f\\u6301\\u6570&\\u5ba2\\u6237\\u6765\\u8bbf\\u63a5\\u5f85\\u6570\\u6708\\u8d8b\\u52bf\\u56fe\", \"xaxis\": {\"mirror\": \"all\", \"nticks\": 20, \"showgrid\": true, \"showline\": true, \"title\": \"\\u6708\", \"zeroline\": true}, \"yaxis\": {\"mirror\": \"all\", \"nticks\": 20, \"showgrid\": true, \"showline\": true, \"title\": \"\\u7535\\u8bdd\\u4f1a\\u8bae\\u6b21\\u6570&\\u5916\\u51fa\\u6280\\u672f\\u652f\\u6301\\u6570&\\u5ba2\\u6237\\u6765\\u8bbf\\u63a5\\u5f85\\u6570\", \"zeroline\": true}},\n",
       "            {\"showLink\": true, \"linkText\": \"Export to plot.ly\"}\n",
       "        ).then(function () {return Plotly.addFrames('2dd073c7-b719-4afe-84ca-09e28f870b4e',{});}).then(function(){Plotly.animate('2dd073c7-b719-4afe-84ca-09e28f870b4e');})\n",
       "        });</script>"
      ]
     },
     "metadata": {},
     "output_type": "display_data"
    }
   ],
   "source": [
    "data_dict = {'电话会议次数': ['电话会议次数'],  \\\n",
    "             '外出技术支持数': ['外出技术支持数'], '客户来访接待数': ['客户来访接待数']}\n",
    "myModule.plot( all_dict, data_dict, '负责人' ,  'line' , all='all')"
   ]
  },
  {
   "cell_type": "markdown",
   "metadata": {
    "hide_input": true
   },
   "source": [
    "## 各组情况"
   ]
  },
  {
   "cell_type": "markdown",
   "metadata": {},
   "source": [
    "### 下单整体情况"
   ]
  },
  {
   "cell_type": "markdown",
   "metadata": {},
   "source": [
    "\n",
    "#### 总下单数和完成下单数\n"
   ]
  },
  {
   "cell_type": "code",
   "execution_count": 56,
   "metadata": {},
   "outputs": [
    {
     "data": {
      "application/vnd.plotly.v1+json": {
       "data": [
        {
         "name": "生物学DNA组_总下单数",
         "type": "scatter",
         "uid": "e96cfa62-c202-11e8-91b0-509a4c0f1ffc",
         "x": [
          "8-3",
          "8-4",
          "9-1",
          "9-2",
          "9-3"
         ],
         "y": [
          28,
          35,
          37,
          36,
          20
         ]
        },
        {
         "name": "生物学DNA组_完成下单数",
         "type": "scatter",
         "uid": "e96cfa63-c202-11e8-a02e-509a4c0f1ffc",
         "x": [
          "8-3",
          "8-4",
          "9-1",
          "9-2",
          "9-3"
         ],
         "y": [
          19,
          31,
          40,
          31,
          19
         ]
        },
        {
         "name": "蛋白和医学组_总下单数",
         "type": "scatter",
         "uid": "e96cfa64-c202-11e8-b66e-509a4c0f1ffc",
         "x": [
          "8-3",
          "8-4",
          "9-1",
          "9-2",
          "9-3"
         ],
         "y": [
          35,
          48,
          37,
          33,
          54
         ]
        },
        {
         "name": "蛋白和医学组_完成下单数",
         "type": "scatter",
         "uid": "e96cfa65-c202-11e8-bb05-509a4c0f1ffc",
         "x": [
          "8-3",
          "8-4",
          "9-1",
          "9-2",
          "9-3"
         ],
         "y": [
          33,
          47,
          34,
          30,
          52
         ]
        },
        {
         "name": "转录调控组_总下单数",
         "type": "scatter",
         "uid": "e96cfa66-c202-11e8-a400-509a4c0f1ffc",
         "x": [
          "8-3",
          "8-4",
          "9-1",
          "9-2",
          "9-3"
         ],
         "y": [
          27,
          28,
          28,
          28,
          9
         ]
        },
        {
         "name": "转录调控组_完成下单数",
         "type": "scatter",
         "uid": "e96cfa67-c202-11e8-aff2-509a4c0f1ffc",
         "x": [
          "8-3",
          "8-4",
          "9-1",
          "9-2",
          "9-3"
         ],
         "y": [
          23,
          25,
          23,
          27,
          9
         ]
        }
       ],
       "layout": {
        "title": "总下单数&完成下单数周趋势图",
        "xaxis": {
         "mirror": "all",
         "nticks": 20,
         "showgrid": true,
         "showline": true,
         "title": "周",
         "zeroline": true
        },
        "yaxis": {
         "mirror": "all",
         "nticks": 20,
         "showgrid": true,
         "showline": true,
         "title": "总下单数&完成下单数",
         "zeroline": true
        }
       }
      },
      "text/html": [
       "<div id=\"29958af3-f83c-4b72-bb36-74685750b1c5\" style=\"height: 525px; width: 100%;\" class=\"plotly-graph-div\"></div><script type=\"text/javascript\">require([\"plotly\"], function(Plotly) { window.PLOTLYENV=window.PLOTLYENV || {};window.PLOTLYENV.BASE_URL=\"https://plot.ly\";\n",
       "        Plotly.plot(\n",
       "            '29958af3-f83c-4b72-bb36-74685750b1c5',\n",
       "            [{\"name\": \"\\u751f\\u7269\\u5b66DNA\\u7ec4_\\u603b\\u4e0b\\u5355\\u6570\", \"x\": [\"8-3\", \"8-4\", \"9-1\", \"9-2\", \"9-3\"], \"y\": [28.0, 35.0, 37.0, 36.0, 20.0], \"type\": \"scatter\", \"uid\": \"e96cfa62-c202-11e8-91b0-509a4c0f1ffc\"}, {\"name\": \"\\u751f\\u7269\\u5b66DNA\\u7ec4_\\u5b8c\\u6210\\u4e0b\\u5355\\u6570\", \"x\": [\"8-3\", \"8-4\", \"9-1\", \"9-2\", \"9-3\"], \"y\": [19.0, 31.0, 40.0, 31.0, 19.0], \"type\": \"scatter\", \"uid\": \"e96cfa63-c202-11e8-a02e-509a4c0f1ffc\"}, {\"name\": \"\\u86cb\\u767d\\u548c\\u533b\\u5b66\\u7ec4_\\u603b\\u4e0b\\u5355\\u6570\", \"x\": [\"8-3\", \"8-4\", \"9-1\", \"9-2\", \"9-3\"], \"y\": [35.0, 48.0, 37.0, 33.0, 54.0], \"type\": \"scatter\", \"uid\": \"e96cfa64-c202-11e8-b66e-509a4c0f1ffc\"}, {\"name\": \"\\u86cb\\u767d\\u548c\\u533b\\u5b66\\u7ec4_\\u5b8c\\u6210\\u4e0b\\u5355\\u6570\", \"x\": [\"8-3\", \"8-4\", \"9-1\", \"9-2\", \"9-3\"], \"y\": [33.0, 47.0, 34.0, 30.0, 52.0], \"type\": \"scatter\", \"uid\": \"e96cfa65-c202-11e8-bb05-509a4c0f1ffc\"}, {\"name\": \"\\u8f6c\\u5f55\\u8c03\\u63a7\\u7ec4_\\u603b\\u4e0b\\u5355\\u6570\", \"x\": [\"8-3\", \"8-4\", \"9-1\", \"9-2\", \"9-3\"], \"y\": [27.0, 28.0, 28.0, 28.0, 9.0], \"type\": \"scatter\", \"uid\": \"e96cfa66-c202-11e8-a400-509a4c0f1ffc\"}, {\"name\": \"\\u8f6c\\u5f55\\u8c03\\u63a7\\u7ec4_\\u5b8c\\u6210\\u4e0b\\u5355\\u6570\", \"x\": [\"8-3\", \"8-4\", \"9-1\", \"9-2\", \"9-3\"], \"y\": [23.0, 25.0, 23.0, 27.0, 9.0], \"type\": \"scatter\", \"uid\": \"e96cfa67-c202-11e8-aff2-509a4c0f1ffc\"}],\n",
       "            {\"title\": \"\\u603b\\u4e0b\\u5355\\u6570&\\u5b8c\\u6210\\u4e0b\\u5355\\u6570\\u5468\\u8d8b\\u52bf\\u56fe\", \"xaxis\": {\"mirror\": \"all\", \"nticks\": 20, \"showgrid\": true, \"showline\": true, \"title\": \"\\u5468\", \"zeroline\": true}, \"yaxis\": {\"mirror\": \"all\", \"nticks\": 20, \"showgrid\": true, \"showline\": true, \"title\": \"\\u603b\\u4e0b\\u5355\\u6570&\\u5b8c\\u6210\\u4e0b\\u5355\\u6570\", \"zeroline\": true}},\n",
       "            {\"showLink\": true, \"linkText\": \"Export to plot.ly\"}\n",
       "        ).then(function () {return Plotly.addFrames('29958af3-f83c-4b72-bb36-74685750b1c5',{});}).then(function(){Plotly.animate('29958af3-f83c-4b72-bb36-74685750b1c5');})\n",
       "        });</script>"
      ],
      "text/vnd.plotly.v1+html": [
       "<div id=\"29958af3-f83c-4b72-bb36-74685750b1c5\" style=\"height: 525px; width: 100%;\" class=\"plotly-graph-div\"></div><script type=\"text/javascript\">require([\"plotly\"], function(Plotly) { window.PLOTLYENV=window.PLOTLYENV || {};window.PLOTLYENV.BASE_URL=\"https://plot.ly\";\n",
       "        Plotly.plot(\n",
       "            '29958af3-f83c-4b72-bb36-74685750b1c5',\n",
       "            [{\"name\": \"\\u751f\\u7269\\u5b66DNA\\u7ec4_\\u603b\\u4e0b\\u5355\\u6570\", \"x\": [\"8-3\", \"8-4\", \"9-1\", \"9-2\", \"9-3\"], \"y\": [28.0, 35.0, 37.0, 36.0, 20.0], \"type\": \"scatter\", \"uid\": \"e96cfa62-c202-11e8-91b0-509a4c0f1ffc\"}, {\"name\": \"\\u751f\\u7269\\u5b66DNA\\u7ec4_\\u5b8c\\u6210\\u4e0b\\u5355\\u6570\", \"x\": [\"8-3\", \"8-4\", \"9-1\", \"9-2\", \"9-3\"], \"y\": [19.0, 31.0, 40.0, 31.0, 19.0], \"type\": \"scatter\", \"uid\": \"e96cfa63-c202-11e8-a02e-509a4c0f1ffc\"}, {\"name\": \"\\u86cb\\u767d\\u548c\\u533b\\u5b66\\u7ec4_\\u603b\\u4e0b\\u5355\\u6570\", \"x\": [\"8-3\", \"8-4\", \"9-1\", \"9-2\", \"9-3\"], \"y\": [35.0, 48.0, 37.0, 33.0, 54.0], \"type\": \"scatter\", \"uid\": \"e96cfa64-c202-11e8-b66e-509a4c0f1ffc\"}, {\"name\": \"\\u86cb\\u767d\\u548c\\u533b\\u5b66\\u7ec4_\\u5b8c\\u6210\\u4e0b\\u5355\\u6570\", \"x\": [\"8-3\", \"8-4\", \"9-1\", \"9-2\", \"9-3\"], \"y\": [33.0, 47.0, 34.0, 30.0, 52.0], \"type\": \"scatter\", \"uid\": \"e96cfa65-c202-11e8-bb05-509a4c0f1ffc\"}, {\"name\": \"\\u8f6c\\u5f55\\u8c03\\u63a7\\u7ec4_\\u603b\\u4e0b\\u5355\\u6570\", \"x\": [\"8-3\", \"8-4\", \"9-1\", \"9-2\", \"9-3\"], \"y\": [27.0, 28.0, 28.0, 28.0, 9.0], \"type\": \"scatter\", \"uid\": \"e96cfa66-c202-11e8-a400-509a4c0f1ffc\"}, {\"name\": \"\\u8f6c\\u5f55\\u8c03\\u63a7\\u7ec4_\\u5b8c\\u6210\\u4e0b\\u5355\\u6570\", \"x\": [\"8-3\", \"8-4\", \"9-1\", \"9-2\", \"9-3\"], \"y\": [23.0, 25.0, 23.0, 27.0, 9.0], \"type\": \"scatter\", \"uid\": \"e96cfa67-c202-11e8-aff2-509a4c0f1ffc\"}],\n",
       "            {\"title\": \"\\u603b\\u4e0b\\u5355\\u6570&\\u5b8c\\u6210\\u4e0b\\u5355\\u6570\\u5468\\u8d8b\\u52bf\\u56fe\", \"xaxis\": {\"mirror\": \"all\", \"nticks\": 20, \"showgrid\": true, \"showline\": true, \"title\": \"\\u5468\", \"zeroline\": true}, \"yaxis\": {\"mirror\": \"all\", \"nticks\": 20, \"showgrid\": true, \"showline\": true, \"title\": \"\\u603b\\u4e0b\\u5355\\u6570&\\u5b8c\\u6210\\u4e0b\\u5355\\u6570\", \"zeroline\": true}},\n",
       "            {\"showLink\": true, \"linkText\": \"Export to plot.ly\"}\n",
       "        ).then(function () {return Plotly.addFrames('29958af3-f83c-4b72-bb36-74685750b1c5',{});}).then(function(){Plotly.animate('29958af3-f83c-4b72-bb36-74685750b1c5');})\n",
       "        });</script>"
      ]
     },
     "metadata": {},
     "output_type": "display_data"
    },
    {
     "data": {
      "application/vnd.plotly.v1+json": {
       "data": [
        {
         "name": "生物学DNA组_总下单数",
         "type": "scatter",
         "uid": "e97c1592-c202-11e8-a877-509a4c0f1ffc",
         "x": [
          "8",
          "9"
         ],
         "y": [
          63,
          93
         ]
        },
        {
         "name": "生物学DNA组_完成下单数",
         "type": "scatter",
         "uid": "e97c1593-c202-11e8-a872-509a4c0f1ffc",
         "x": [
          "8",
          "9"
         ],
         "y": [
          50,
          90
         ]
        },
        {
         "name": "蛋白和医学组_总下单数",
         "type": "scatter",
         "uid": "e97c1594-c202-11e8-8bb0-509a4c0f1ffc",
         "x": [
          "8",
          "9"
         ],
         "y": [
          83,
          124
         ]
        },
        {
         "name": "蛋白和医学组_完成下单数",
         "type": "scatter",
         "uid": "e97c1595-c202-11e8-826a-509a4c0f1ffc",
         "x": [
          "8",
          "9"
         ],
         "y": [
          80,
          116
         ]
        },
        {
         "name": "转录调控组_总下单数",
         "type": "scatter",
         "uid": "e97c1596-c202-11e8-b825-509a4c0f1ffc",
         "x": [
          "8",
          "9"
         ],
         "y": [
          55,
          65
         ]
        },
        {
         "name": "转录调控组_完成下单数",
         "type": "scatter",
         "uid": "e97c1597-c202-11e8-b4b3-509a4c0f1ffc",
         "x": [
          "8",
          "9"
         ],
         "y": [
          48,
          59
         ]
        }
       ],
       "layout": {
        "title": "总下单数&完成下单数月趋势图",
        "xaxis": {
         "mirror": "all",
         "nticks": 20,
         "showgrid": true,
         "showline": true,
         "title": "月",
         "zeroline": true
        },
        "yaxis": {
         "mirror": "all",
         "nticks": 20,
         "showgrid": true,
         "showline": true,
         "title": "总下单数&完成下单数",
         "zeroline": true
        }
       }
      },
      "text/html": [
       "<div id=\"d918cc14-0568-4872-9ca4-b373e6897211\" style=\"height: 525px; width: 100%;\" class=\"plotly-graph-div\"></div><script type=\"text/javascript\">require([\"plotly\"], function(Plotly) { window.PLOTLYENV=window.PLOTLYENV || {};window.PLOTLYENV.BASE_URL=\"https://plot.ly\";\n",
       "        Plotly.plot(\n",
       "            'd918cc14-0568-4872-9ca4-b373e6897211',\n",
       "            [{\"name\": \"\\u751f\\u7269\\u5b66DNA\\u7ec4_\\u603b\\u4e0b\\u5355\\u6570\", \"x\": [\"8\", \"9\"], \"y\": [63.0, 93.0], \"type\": \"scatter\", \"uid\": \"e97c1592-c202-11e8-a877-509a4c0f1ffc\"}, {\"name\": \"\\u751f\\u7269\\u5b66DNA\\u7ec4_\\u5b8c\\u6210\\u4e0b\\u5355\\u6570\", \"x\": [\"8\", \"9\"], \"y\": [50.0, 90.0], \"type\": \"scatter\", \"uid\": \"e97c1593-c202-11e8-a872-509a4c0f1ffc\"}, {\"name\": \"\\u86cb\\u767d\\u548c\\u533b\\u5b66\\u7ec4_\\u603b\\u4e0b\\u5355\\u6570\", \"x\": [\"8\", \"9\"], \"y\": [83.0, 124.0], \"type\": \"scatter\", \"uid\": \"e97c1594-c202-11e8-8bb0-509a4c0f1ffc\"}, {\"name\": \"\\u86cb\\u767d\\u548c\\u533b\\u5b66\\u7ec4_\\u5b8c\\u6210\\u4e0b\\u5355\\u6570\", \"x\": [\"8\", \"9\"], \"y\": [80.0, 116.0], \"type\": \"scatter\", \"uid\": \"e97c1595-c202-11e8-826a-509a4c0f1ffc\"}, {\"name\": \"\\u8f6c\\u5f55\\u8c03\\u63a7\\u7ec4_\\u603b\\u4e0b\\u5355\\u6570\", \"x\": [\"8\", \"9\"], \"y\": [55.0, 65.0], \"type\": \"scatter\", \"uid\": \"e97c1596-c202-11e8-b825-509a4c0f1ffc\"}, {\"name\": \"\\u8f6c\\u5f55\\u8c03\\u63a7\\u7ec4_\\u5b8c\\u6210\\u4e0b\\u5355\\u6570\", \"x\": [\"8\", \"9\"], \"y\": [48.0, 59.0], \"type\": \"scatter\", \"uid\": \"e97c1597-c202-11e8-b4b3-509a4c0f1ffc\"}],\n",
       "            {\"title\": \"\\u603b\\u4e0b\\u5355\\u6570&\\u5b8c\\u6210\\u4e0b\\u5355\\u6570\\u6708\\u8d8b\\u52bf\\u56fe\", \"xaxis\": {\"mirror\": \"all\", \"nticks\": 20, \"showgrid\": true, \"showline\": true, \"title\": \"\\u6708\", \"zeroline\": true}, \"yaxis\": {\"mirror\": \"all\", \"nticks\": 20, \"showgrid\": true, \"showline\": true, \"title\": \"\\u603b\\u4e0b\\u5355\\u6570&\\u5b8c\\u6210\\u4e0b\\u5355\\u6570\", \"zeroline\": true}},\n",
       "            {\"showLink\": true, \"linkText\": \"Export to plot.ly\"}\n",
       "        ).then(function () {return Plotly.addFrames('d918cc14-0568-4872-9ca4-b373e6897211',{});}).then(function(){Plotly.animate('d918cc14-0568-4872-9ca4-b373e6897211');})\n",
       "        });</script>"
      ],
      "text/vnd.plotly.v1+html": [
       "<div id=\"d918cc14-0568-4872-9ca4-b373e6897211\" style=\"height: 525px; width: 100%;\" class=\"plotly-graph-div\"></div><script type=\"text/javascript\">require([\"plotly\"], function(Plotly) { window.PLOTLYENV=window.PLOTLYENV || {};window.PLOTLYENV.BASE_URL=\"https://plot.ly\";\n",
       "        Plotly.plot(\n",
       "            'd918cc14-0568-4872-9ca4-b373e6897211',\n",
       "            [{\"name\": \"\\u751f\\u7269\\u5b66DNA\\u7ec4_\\u603b\\u4e0b\\u5355\\u6570\", \"x\": [\"8\", \"9\"], \"y\": [63.0, 93.0], \"type\": \"scatter\", \"uid\": \"e97c1592-c202-11e8-a877-509a4c0f1ffc\"}, {\"name\": \"\\u751f\\u7269\\u5b66DNA\\u7ec4_\\u5b8c\\u6210\\u4e0b\\u5355\\u6570\", \"x\": [\"8\", \"9\"], \"y\": [50.0, 90.0], \"type\": \"scatter\", \"uid\": \"e97c1593-c202-11e8-a872-509a4c0f1ffc\"}, {\"name\": \"\\u86cb\\u767d\\u548c\\u533b\\u5b66\\u7ec4_\\u603b\\u4e0b\\u5355\\u6570\", \"x\": [\"8\", \"9\"], \"y\": [83.0, 124.0], \"type\": \"scatter\", \"uid\": \"e97c1594-c202-11e8-8bb0-509a4c0f1ffc\"}, {\"name\": \"\\u86cb\\u767d\\u548c\\u533b\\u5b66\\u7ec4_\\u5b8c\\u6210\\u4e0b\\u5355\\u6570\", \"x\": [\"8\", \"9\"], \"y\": [80.0, 116.0], \"type\": \"scatter\", \"uid\": \"e97c1595-c202-11e8-826a-509a4c0f1ffc\"}, {\"name\": \"\\u8f6c\\u5f55\\u8c03\\u63a7\\u7ec4_\\u603b\\u4e0b\\u5355\\u6570\", \"x\": [\"8\", \"9\"], \"y\": [55.0, 65.0], \"type\": \"scatter\", \"uid\": \"e97c1596-c202-11e8-b825-509a4c0f1ffc\"}, {\"name\": \"\\u8f6c\\u5f55\\u8c03\\u63a7\\u7ec4_\\u5b8c\\u6210\\u4e0b\\u5355\\u6570\", \"x\": [\"8\", \"9\"], \"y\": [48.0, 59.0], \"type\": \"scatter\", \"uid\": \"e97c1597-c202-11e8-b4b3-509a4c0f1ffc\"}],\n",
       "            {\"title\": \"\\u603b\\u4e0b\\u5355\\u6570&\\u5b8c\\u6210\\u4e0b\\u5355\\u6570\\u6708\\u8d8b\\u52bf\\u56fe\", \"xaxis\": {\"mirror\": \"all\", \"nticks\": 20, \"showgrid\": true, \"showline\": true, \"title\": \"\\u6708\", \"zeroline\": true}, \"yaxis\": {\"mirror\": \"all\", \"nticks\": 20, \"showgrid\": true, \"showline\": true, \"title\": \"\\u603b\\u4e0b\\u5355\\u6570&\\u5b8c\\u6210\\u4e0b\\u5355\\u6570\", \"zeroline\": true}},\n",
       "            {\"showLink\": true, \"linkText\": \"Export to plot.ly\"}\n",
       "        ).then(function () {return Plotly.addFrames('d918cc14-0568-4872-9ca4-b373e6897211',{});}).then(function(){Plotly.animate('d918cc14-0568-4872-9ca4-b373e6897211');})\n",
       "        });</script>"
      ]
     },
     "metadata": {},
     "output_type": "display_data"
    }
   ],
   "source": [
    "data_dict = {'总下单数':['总下单数'],'完成下单数':['完成下单数']}\n",
    "myModule.plot( all_dict, data_dict, '组别' ,  'line', all='' )"
   ]
  },
  {
   "cell_type": "markdown",
   "metadata": {
    "hide_input": true
   },
   "source": [
    "### 高质量报告"
   ]
  },
  {
   "cell_type": "markdown",
   "metadata": {},
   "source": [
    "#### 应交高质量报告数和提交高质量报告数"
   ]
  },
  {
   "cell_type": "code",
   "execution_count": 57,
   "metadata": {},
   "outputs": [
    {
     "data": {
      "application/vnd.plotly.v1+json": {
       "data": [
        {
         "name": "生物学DNA组_应交高质量报告数",
         "type": "scatter",
         "uid": "e9ca0e82-c202-11e8-9c65-509a4c0f1ffc",
         "x": [
          "8-3",
          "8-4",
          "9-1",
          "9-2",
          "9-3"
         ],
         "y": [
          1,
          2,
          11,
          1,
          0
         ]
        },
        {
         "name": "生物学DNA组_提交高质量报告数",
         "type": "scatter",
         "uid": "e9ca3592-c202-11e8-84fd-509a4c0f1ffc",
         "x": [
          "8-3",
          "8-4",
          "9-1",
          "9-2",
          "9-3"
         ],
         "y": [
          1,
          2,
          11,
          1,
          1
         ]
        },
        {
         "name": "蛋白和医学组_应交高质量报告数",
         "type": "scatter",
         "uid": "e9ca3593-c202-11e8-80bb-509a4c0f1ffc",
         "x": [
          "8-3",
          "8-4",
          "9-1",
          "9-2",
          "9-3"
         ],
         "y": [
          3,
          4,
          3,
          0,
          0
         ]
        },
        {
         "name": "蛋白和医学组_提交高质量报告数",
         "type": "scatter",
         "uid": "e9ca3594-c202-11e8-945e-509a4c0f1ffc",
         "x": [
          "8-3",
          "8-4",
          "9-1",
          "9-2",
          "9-3"
         ],
         "y": [
          3,
          4,
          3,
          0,
          0
         ]
        },
        {
         "name": "转录调控组_应交高质量报告数",
         "type": "scatter",
         "uid": "e9ca3595-c202-11e8-943c-509a4c0f1ffc",
         "x": [
          "8-3",
          "8-4",
          "9-1",
          "9-2",
          "9-3"
         ],
         "y": [
          5,
          1,
          3,
          7,
          4
         ]
        },
        {
         "name": "转录调控组_提交高质量报告数",
         "type": "scatter",
         "uid": "e9ca3596-c202-11e8-9227-509a4c0f1ffc",
         "x": [
          "8-3",
          "8-4",
          "9-1",
          "9-2",
          "9-3"
         ],
         "y": [
          5,
          1,
          3,
          5,
          4
         ]
        }
       ],
       "layout": {
        "title": "应交高质量报告数&提交高质量报告数周趋势图",
        "xaxis": {
         "mirror": "all",
         "nticks": 20,
         "showgrid": true,
         "showline": true,
         "title": "周",
         "zeroline": true
        },
        "yaxis": {
         "mirror": "all",
         "nticks": 20,
         "showgrid": true,
         "showline": true,
         "title": "应交高质量报告数&提交高质量报告数",
         "zeroline": true
        }
       }
      },
      "text/html": [
       "<div id=\"2c7817da-79c4-4e33-81ce-c107fba4c04a\" style=\"height: 525px; width: 100%;\" class=\"plotly-graph-div\"></div><script type=\"text/javascript\">require([\"plotly\"], function(Plotly) { window.PLOTLYENV=window.PLOTLYENV || {};window.PLOTLYENV.BASE_URL=\"https://plot.ly\";\n",
       "        Plotly.plot(\n",
       "            '2c7817da-79c4-4e33-81ce-c107fba4c04a',\n",
       "            [{\"name\": \"\\u751f\\u7269\\u5b66DNA\\u7ec4_\\u5e94\\u4ea4\\u9ad8\\u8d28\\u91cf\\u62a5\\u544a\\u6570\", \"x\": [\"8-3\", \"8-4\", \"9-1\", \"9-2\", \"9-3\"], \"y\": [1.0, 2.0, 11.0, 1.0, 0.0], \"type\": \"scatter\", \"uid\": \"e9ca0e82-c202-11e8-9c65-509a4c0f1ffc\"}, {\"name\": \"\\u751f\\u7269\\u5b66DNA\\u7ec4_\\u63d0\\u4ea4\\u9ad8\\u8d28\\u91cf\\u62a5\\u544a\\u6570\", \"x\": [\"8-3\", \"8-4\", \"9-1\", \"9-2\", \"9-3\"], \"y\": [1.0, 2.0, 11.0, 1.0, 1.0], \"type\": \"scatter\", \"uid\": \"e9ca3592-c202-11e8-84fd-509a4c0f1ffc\"}, {\"name\": \"\\u86cb\\u767d\\u548c\\u533b\\u5b66\\u7ec4_\\u5e94\\u4ea4\\u9ad8\\u8d28\\u91cf\\u62a5\\u544a\\u6570\", \"x\": [\"8-3\", \"8-4\", \"9-1\", \"9-2\", \"9-3\"], \"y\": [3.0, 4.0, 3.0, 0.0, 0.0], \"type\": \"scatter\", \"uid\": \"e9ca3593-c202-11e8-80bb-509a4c0f1ffc\"}, {\"name\": \"\\u86cb\\u767d\\u548c\\u533b\\u5b66\\u7ec4_\\u63d0\\u4ea4\\u9ad8\\u8d28\\u91cf\\u62a5\\u544a\\u6570\", \"x\": [\"8-3\", \"8-4\", \"9-1\", \"9-2\", \"9-3\"], \"y\": [3.0, 4.0, 3.0, 0.0, 0.0], \"type\": \"scatter\", \"uid\": \"e9ca3594-c202-11e8-945e-509a4c0f1ffc\"}, {\"name\": \"\\u8f6c\\u5f55\\u8c03\\u63a7\\u7ec4_\\u5e94\\u4ea4\\u9ad8\\u8d28\\u91cf\\u62a5\\u544a\\u6570\", \"x\": [\"8-3\", \"8-4\", \"9-1\", \"9-2\", \"9-3\"], \"y\": [5.0, 1.0, 3.0, 7.0, 4.0], \"type\": \"scatter\", \"uid\": \"e9ca3595-c202-11e8-943c-509a4c0f1ffc\"}, {\"name\": \"\\u8f6c\\u5f55\\u8c03\\u63a7\\u7ec4_\\u63d0\\u4ea4\\u9ad8\\u8d28\\u91cf\\u62a5\\u544a\\u6570\", \"x\": [\"8-3\", \"8-4\", \"9-1\", \"9-2\", \"9-3\"], \"y\": [5.0, 1.0, 3.0, 5.0, 4.0], \"type\": \"scatter\", \"uid\": \"e9ca3596-c202-11e8-9227-509a4c0f1ffc\"}],\n",
       "            {\"title\": \"\\u5e94\\u4ea4\\u9ad8\\u8d28\\u91cf\\u62a5\\u544a\\u6570&\\u63d0\\u4ea4\\u9ad8\\u8d28\\u91cf\\u62a5\\u544a\\u6570\\u5468\\u8d8b\\u52bf\\u56fe\", \"xaxis\": {\"mirror\": \"all\", \"nticks\": 20, \"showgrid\": true, \"showline\": true, \"title\": \"\\u5468\", \"zeroline\": true}, \"yaxis\": {\"mirror\": \"all\", \"nticks\": 20, \"showgrid\": true, \"showline\": true, \"title\": \"\\u5e94\\u4ea4\\u9ad8\\u8d28\\u91cf\\u62a5\\u544a\\u6570&\\u63d0\\u4ea4\\u9ad8\\u8d28\\u91cf\\u62a5\\u544a\\u6570\", \"zeroline\": true}},\n",
       "            {\"showLink\": true, \"linkText\": \"Export to plot.ly\"}\n",
       "        ).then(function () {return Plotly.addFrames('2c7817da-79c4-4e33-81ce-c107fba4c04a',{});}).then(function(){Plotly.animate('2c7817da-79c4-4e33-81ce-c107fba4c04a');})\n",
       "        });</script>"
      ],
      "text/vnd.plotly.v1+html": [
       "<div id=\"2c7817da-79c4-4e33-81ce-c107fba4c04a\" style=\"height: 525px; width: 100%;\" class=\"plotly-graph-div\"></div><script type=\"text/javascript\">require([\"plotly\"], function(Plotly) { window.PLOTLYENV=window.PLOTLYENV || {};window.PLOTLYENV.BASE_URL=\"https://plot.ly\";\n",
       "        Plotly.plot(\n",
       "            '2c7817da-79c4-4e33-81ce-c107fba4c04a',\n",
       "            [{\"name\": \"\\u751f\\u7269\\u5b66DNA\\u7ec4_\\u5e94\\u4ea4\\u9ad8\\u8d28\\u91cf\\u62a5\\u544a\\u6570\", \"x\": [\"8-3\", \"8-4\", \"9-1\", \"9-2\", \"9-3\"], \"y\": [1.0, 2.0, 11.0, 1.0, 0.0], \"type\": \"scatter\", \"uid\": \"e9ca0e82-c202-11e8-9c65-509a4c0f1ffc\"}, {\"name\": \"\\u751f\\u7269\\u5b66DNA\\u7ec4_\\u63d0\\u4ea4\\u9ad8\\u8d28\\u91cf\\u62a5\\u544a\\u6570\", \"x\": [\"8-3\", \"8-4\", \"9-1\", \"9-2\", \"9-3\"], \"y\": [1.0, 2.0, 11.0, 1.0, 1.0], \"type\": \"scatter\", \"uid\": \"e9ca3592-c202-11e8-84fd-509a4c0f1ffc\"}, {\"name\": \"\\u86cb\\u767d\\u548c\\u533b\\u5b66\\u7ec4_\\u5e94\\u4ea4\\u9ad8\\u8d28\\u91cf\\u62a5\\u544a\\u6570\", \"x\": [\"8-3\", \"8-4\", \"9-1\", \"9-2\", \"9-3\"], \"y\": [3.0, 4.0, 3.0, 0.0, 0.0], \"type\": \"scatter\", \"uid\": \"e9ca3593-c202-11e8-80bb-509a4c0f1ffc\"}, {\"name\": \"\\u86cb\\u767d\\u548c\\u533b\\u5b66\\u7ec4_\\u63d0\\u4ea4\\u9ad8\\u8d28\\u91cf\\u62a5\\u544a\\u6570\", \"x\": [\"8-3\", \"8-4\", \"9-1\", \"9-2\", \"9-3\"], \"y\": [3.0, 4.0, 3.0, 0.0, 0.0], \"type\": \"scatter\", \"uid\": \"e9ca3594-c202-11e8-945e-509a4c0f1ffc\"}, {\"name\": \"\\u8f6c\\u5f55\\u8c03\\u63a7\\u7ec4_\\u5e94\\u4ea4\\u9ad8\\u8d28\\u91cf\\u62a5\\u544a\\u6570\", \"x\": [\"8-3\", \"8-4\", \"9-1\", \"9-2\", \"9-3\"], \"y\": [5.0, 1.0, 3.0, 7.0, 4.0], \"type\": \"scatter\", \"uid\": \"e9ca3595-c202-11e8-943c-509a4c0f1ffc\"}, {\"name\": \"\\u8f6c\\u5f55\\u8c03\\u63a7\\u7ec4_\\u63d0\\u4ea4\\u9ad8\\u8d28\\u91cf\\u62a5\\u544a\\u6570\", \"x\": [\"8-3\", \"8-4\", \"9-1\", \"9-2\", \"9-3\"], \"y\": [5.0, 1.0, 3.0, 5.0, 4.0], \"type\": \"scatter\", \"uid\": \"e9ca3596-c202-11e8-9227-509a4c0f1ffc\"}],\n",
       "            {\"title\": \"\\u5e94\\u4ea4\\u9ad8\\u8d28\\u91cf\\u62a5\\u544a\\u6570&\\u63d0\\u4ea4\\u9ad8\\u8d28\\u91cf\\u62a5\\u544a\\u6570\\u5468\\u8d8b\\u52bf\\u56fe\", \"xaxis\": {\"mirror\": \"all\", \"nticks\": 20, \"showgrid\": true, \"showline\": true, \"title\": \"\\u5468\", \"zeroline\": true}, \"yaxis\": {\"mirror\": \"all\", \"nticks\": 20, \"showgrid\": true, \"showline\": true, \"title\": \"\\u5e94\\u4ea4\\u9ad8\\u8d28\\u91cf\\u62a5\\u544a\\u6570&\\u63d0\\u4ea4\\u9ad8\\u8d28\\u91cf\\u62a5\\u544a\\u6570\", \"zeroline\": true}},\n",
       "            {\"showLink\": true, \"linkText\": \"Export to plot.ly\"}\n",
       "        ).then(function () {return Plotly.addFrames('2c7817da-79c4-4e33-81ce-c107fba4c04a',{});}).then(function(){Plotly.animate('2c7817da-79c4-4e33-81ce-c107fba4c04a');})\n",
       "        });</script>"
      ]
     },
     "metadata": {},
     "output_type": "display_data"
    },
    {
     "data": {
      "application/vnd.plotly.v1+json": {
       "data": [
        {
         "name": "生物学DNA组_应交高质量报告数",
         "type": "scatter",
         "uid": "e9d950c2-c202-11e8-a18b-509a4c0f1ffc",
         "x": [
          "8",
          "9"
         ],
         "y": [
          3,
          12
         ]
        },
        {
         "name": "生物学DNA组_提交高质量报告数",
         "type": "scatter",
         "uid": "e9d950c3-c202-11e8-b613-509a4c0f1ffc",
         "x": [
          "8",
          "9"
         ],
         "y": [
          3,
          13
         ]
        },
        {
         "name": "蛋白和医学组_应交高质量报告数",
         "type": "scatter",
         "uid": "e9d950c4-c202-11e8-af0f-509a4c0f1ffc",
         "x": [
          "8",
          "9"
         ],
         "y": [
          7,
          3
         ]
        },
        {
         "name": "蛋白和医学组_提交高质量报告数",
         "type": "scatter",
         "uid": "e9d950c5-c202-11e8-9bc2-509a4c0f1ffc",
         "x": [
          "8",
          "9"
         ],
         "y": [
          7,
          3
         ]
        },
        {
         "name": "转录调控组_应交高质量报告数",
         "type": "scatter",
         "uid": "e9d950c6-c202-11e8-ac09-509a4c0f1ffc",
         "x": [
          "8",
          "9"
         ],
         "y": [
          6,
          14
         ]
        },
        {
         "name": "转录调控组_提交高质量报告数",
         "type": "scatter",
         "uid": "e9d950c7-c202-11e8-a6a8-509a4c0f1ffc",
         "x": [
          "8",
          "9"
         ],
         "y": [
          6,
          12
         ]
        }
       ],
       "layout": {
        "title": "应交高质量报告数&提交高质量报告数月趋势图",
        "xaxis": {
         "mirror": "all",
         "nticks": 20,
         "showgrid": true,
         "showline": true,
         "title": "月",
         "zeroline": true
        },
        "yaxis": {
         "mirror": "all",
         "nticks": 20,
         "showgrid": true,
         "showline": true,
         "title": "应交高质量报告数&提交高质量报告数",
         "zeroline": true
        }
       }
      },
      "text/html": [
       "<div id=\"34ba3701-49cb-4127-9b99-4ef08f59fde7\" style=\"height: 525px; width: 100%;\" class=\"plotly-graph-div\"></div><script type=\"text/javascript\">require([\"plotly\"], function(Plotly) { window.PLOTLYENV=window.PLOTLYENV || {};window.PLOTLYENV.BASE_URL=\"https://plot.ly\";\n",
       "        Plotly.plot(\n",
       "            '34ba3701-49cb-4127-9b99-4ef08f59fde7',\n",
       "            [{\"name\": \"\\u751f\\u7269\\u5b66DNA\\u7ec4_\\u5e94\\u4ea4\\u9ad8\\u8d28\\u91cf\\u62a5\\u544a\\u6570\", \"x\": [\"8\", \"9\"], \"y\": [3.0, 12.0], \"type\": \"scatter\", \"uid\": \"e9d950c2-c202-11e8-a18b-509a4c0f1ffc\"}, {\"name\": \"\\u751f\\u7269\\u5b66DNA\\u7ec4_\\u63d0\\u4ea4\\u9ad8\\u8d28\\u91cf\\u62a5\\u544a\\u6570\", \"x\": [\"8\", \"9\"], \"y\": [3.0, 13.0], \"type\": \"scatter\", \"uid\": \"e9d950c3-c202-11e8-b613-509a4c0f1ffc\"}, {\"name\": \"\\u86cb\\u767d\\u548c\\u533b\\u5b66\\u7ec4_\\u5e94\\u4ea4\\u9ad8\\u8d28\\u91cf\\u62a5\\u544a\\u6570\", \"x\": [\"8\", \"9\"], \"y\": [7.0, 3.0], \"type\": \"scatter\", \"uid\": \"e9d950c4-c202-11e8-af0f-509a4c0f1ffc\"}, {\"name\": \"\\u86cb\\u767d\\u548c\\u533b\\u5b66\\u7ec4_\\u63d0\\u4ea4\\u9ad8\\u8d28\\u91cf\\u62a5\\u544a\\u6570\", \"x\": [\"8\", \"9\"], \"y\": [7.0, 3.0], \"type\": \"scatter\", \"uid\": \"e9d950c5-c202-11e8-9bc2-509a4c0f1ffc\"}, {\"name\": \"\\u8f6c\\u5f55\\u8c03\\u63a7\\u7ec4_\\u5e94\\u4ea4\\u9ad8\\u8d28\\u91cf\\u62a5\\u544a\\u6570\", \"x\": [\"8\", \"9\"], \"y\": [6.0, 14.0], \"type\": \"scatter\", \"uid\": \"e9d950c6-c202-11e8-ac09-509a4c0f1ffc\"}, {\"name\": \"\\u8f6c\\u5f55\\u8c03\\u63a7\\u7ec4_\\u63d0\\u4ea4\\u9ad8\\u8d28\\u91cf\\u62a5\\u544a\\u6570\", \"x\": [\"8\", \"9\"], \"y\": [6.0, 12.0], \"type\": \"scatter\", \"uid\": \"e9d950c7-c202-11e8-a6a8-509a4c0f1ffc\"}],\n",
       "            {\"title\": \"\\u5e94\\u4ea4\\u9ad8\\u8d28\\u91cf\\u62a5\\u544a\\u6570&\\u63d0\\u4ea4\\u9ad8\\u8d28\\u91cf\\u62a5\\u544a\\u6570\\u6708\\u8d8b\\u52bf\\u56fe\", \"xaxis\": {\"mirror\": \"all\", \"nticks\": 20, \"showgrid\": true, \"showline\": true, \"title\": \"\\u6708\", \"zeroline\": true}, \"yaxis\": {\"mirror\": \"all\", \"nticks\": 20, \"showgrid\": true, \"showline\": true, \"title\": \"\\u5e94\\u4ea4\\u9ad8\\u8d28\\u91cf\\u62a5\\u544a\\u6570&\\u63d0\\u4ea4\\u9ad8\\u8d28\\u91cf\\u62a5\\u544a\\u6570\", \"zeroline\": true}},\n",
       "            {\"showLink\": true, \"linkText\": \"Export to plot.ly\"}\n",
       "        ).then(function () {return Plotly.addFrames('34ba3701-49cb-4127-9b99-4ef08f59fde7',{});}).then(function(){Plotly.animate('34ba3701-49cb-4127-9b99-4ef08f59fde7');})\n",
       "        });</script>"
      ],
      "text/vnd.plotly.v1+html": [
       "<div id=\"34ba3701-49cb-4127-9b99-4ef08f59fde7\" style=\"height: 525px; width: 100%;\" class=\"plotly-graph-div\"></div><script type=\"text/javascript\">require([\"plotly\"], function(Plotly) { window.PLOTLYENV=window.PLOTLYENV || {};window.PLOTLYENV.BASE_URL=\"https://plot.ly\";\n",
       "        Plotly.plot(\n",
       "            '34ba3701-49cb-4127-9b99-4ef08f59fde7',\n",
       "            [{\"name\": \"\\u751f\\u7269\\u5b66DNA\\u7ec4_\\u5e94\\u4ea4\\u9ad8\\u8d28\\u91cf\\u62a5\\u544a\\u6570\", \"x\": [\"8\", \"9\"], \"y\": [3.0, 12.0], \"type\": \"scatter\", \"uid\": \"e9d950c2-c202-11e8-a18b-509a4c0f1ffc\"}, {\"name\": \"\\u751f\\u7269\\u5b66DNA\\u7ec4_\\u63d0\\u4ea4\\u9ad8\\u8d28\\u91cf\\u62a5\\u544a\\u6570\", \"x\": [\"8\", \"9\"], \"y\": [3.0, 13.0], \"type\": \"scatter\", \"uid\": \"e9d950c3-c202-11e8-b613-509a4c0f1ffc\"}, {\"name\": \"\\u86cb\\u767d\\u548c\\u533b\\u5b66\\u7ec4_\\u5e94\\u4ea4\\u9ad8\\u8d28\\u91cf\\u62a5\\u544a\\u6570\", \"x\": [\"8\", \"9\"], \"y\": [7.0, 3.0], \"type\": \"scatter\", \"uid\": \"e9d950c4-c202-11e8-af0f-509a4c0f1ffc\"}, {\"name\": \"\\u86cb\\u767d\\u548c\\u533b\\u5b66\\u7ec4_\\u63d0\\u4ea4\\u9ad8\\u8d28\\u91cf\\u62a5\\u544a\\u6570\", \"x\": [\"8\", \"9\"], \"y\": [7.0, 3.0], \"type\": \"scatter\", \"uid\": \"e9d950c5-c202-11e8-9bc2-509a4c0f1ffc\"}, {\"name\": \"\\u8f6c\\u5f55\\u8c03\\u63a7\\u7ec4_\\u5e94\\u4ea4\\u9ad8\\u8d28\\u91cf\\u62a5\\u544a\\u6570\", \"x\": [\"8\", \"9\"], \"y\": [6.0, 14.0], \"type\": \"scatter\", \"uid\": \"e9d950c6-c202-11e8-ac09-509a4c0f1ffc\"}, {\"name\": \"\\u8f6c\\u5f55\\u8c03\\u63a7\\u7ec4_\\u63d0\\u4ea4\\u9ad8\\u8d28\\u91cf\\u62a5\\u544a\\u6570\", \"x\": [\"8\", \"9\"], \"y\": [6.0, 12.0], \"type\": \"scatter\", \"uid\": \"e9d950c7-c202-11e8-a6a8-509a4c0f1ffc\"}],\n",
       "            {\"title\": \"\\u5e94\\u4ea4\\u9ad8\\u8d28\\u91cf\\u62a5\\u544a\\u6570&\\u63d0\\u4ea4\\u9ad8\\u8d28\\u91cf\\u62a5\\u544a\\u6570\\u6708\\u8d8b\\u52bf\\u56fe\", \"xaxis\": {\"mirror\": \"all\", \"nticks\": 20, \"showgrid\": true, \"showline\": true, \"title\": \"\\u6708\", \"zeroline\": true}, \"yaxis\": {\"mirror\": \"all\", \"nticks\": 20, \"showgrid\": true, \"showline\": true, \"title\": \"\\u5e94\\u4ea4\\u9ad8\\u8d28\\u91cf\\u62a5\\u544a\\u6570&\\u63d0\\u4ea4\\u9ad8\\u8d28\\u91cf\\u62a5\\u544a\\u6570\", \"zeroline\": true}},\n",
       "            {\"showLink\": true, \"linkText\": \"Export to plot.ly\"}\n",
       "        ).then(function () {return Plotly.addFrames('34ba3701-49cb-4127-9b99-4ef08f59fde7',{});}).then(function(){Plotly.animate('34ba3701-49cb-4127-9b99-4ef08f59fde7');})\n",
       "        });</script>"
      ]
     },
     "metadata": {},
     "output_type": "display_data"
    }
   ],
   "source": [
    "data_dict = {'应交高质量报告数':['应交高质量报告数'], '提交高质量报告数':['提交高质量报告数']}\n",
    "myModule.plot( all_dict, data_dict, '组别' ,  'line' , all='')"
   ]
  },
  {
   "cell_type": "markdown",
   "metadata": {
    "hide_input": true
   },
   "source": [
    "### 甘特图情况"
   ]
  },
  {
   "cell_type": "markdown",
   "metadata": {},
   "source": [
    "#### 季度开发项目数、如期完成项目数、延期完成、开发中的项目数、延期项目数和暂停项目数"
   ]
  },
  {
   "cell_type": "code",
   "execution_count": 58,
   "metadata": {},
   "outputs": [
    {
     "data": {
      "application/vnd.plotly.v1+json": {
       "data": [
        {
         "name": "生物学DNA组_季度开发项目数",
         "type": "scatter",
         "uid": "ea357a82-c202-11e8-acd9-509a4c0f1ffc",
         "x": [
          "8-3",
          "8-4",
          "9-1",
          "9-2",
          "9-3"
         ],
         "y": [
          30,
          56,
          56,
          53,
          38
         ]
        },
        {
         "name": "生物学DNA组_如期完成项目数",
         "type": "scatter",
         "uid": "ea357a83-c202-11e8-a648-509a4c0f1ffc",
         "x": [
          "8-3",
          "8-4",
          "9-1",
          "9-2",
          "9-3"
         ],
         "y": [
          14,
          20,
          22,
          22,
          12
         ]
        },
        {
         "name": "生物学DNA组_延期完成",
         "type": "scatter",
         "uid": "ea357a84-c202-11e8-ba2f-509a4c0f1ffc",
         "x": [
          "8-3",
          "8-4",
          "9-1",
          "9-2",
          "9-3"
         ],
         "y": [
          3,
          5,
          6,
          4,
          9
         ]
        },
        {
         "name": "生物学DNA组_开发中的项目数",
         "type": "scatter",
         "uid": "ea357a85-c202-11e8-bef7-509a4c0f1ffc",
         "x": [
          "8-3",
          "8-4",
          "9-1",
          "9-2",
          "9-3"
         ],
         "y": [
          11,
          26,
          16,
          16,
          9
         ]
        },
        {
         "name": "生物学DNA组_延期项目数",
         "type": "scatter",
         "uid": "ea357a86-c202-11e8-bbdc-509a4c0f1ffc",
         "x": [
          "8-3",
          "8-4",
          "9-1",
          "9-2",
          "9-3"
         ],
         "y": [
          4,
          6,
          10,
          10,
          4
         ]
        },
        {
         "name": "生物学DNA组_暂停项目数",
         "type": "scatter",
         "uid": "ea357a87-c202-11e8-bb6c-509a4c0f1ffc",
         "x": [
          "8-3",
          "8-4",
          "9-1",
          "9-2",
          "9-3"
         ],
         "y": [
          0,
          0,
          3,
          4,
          4
         ]
        },
        {
         "name": "蛋白和医学组_季度开发项目数",
         "type": "scatter",
         "uid": "ea357a88-c202-11e8-917b-509a4c0f1ffc",
         "x": [
          "8-3",
          "8-4",
          "9-1",
          "9-2",
          "9-3"
         ],
         "y": [
          207,
          207,
          207,
          185,
          197
         ]
        },
        {
         "name": "蛋白和医学组_如期完成项目数",
         "type": "scatter",
         "uid": "ea357a89-c202-11e8-b7e0-509a4c0f1ffc",
         "x": [
          "8-3",
          "8-4",
          "9-1",
          "9-2",
          "9-3"
         ],
         "y": [
          123,
          125,
          129,
          135,
          155
         ]
        },
        {
         "name": "蛋白和医学组_延期完成",
         "type": "scatter",
         "uid": "ea357a8a-c202-11e8-9667-509a4c0f1ffc",
         "x": [
          "8-3",
          "8-4",
          "9-1",
          "9-2",
          "9-3"
         ],
         "y": [
          8,
          9,
          11,
          3,
          13
         ]
        },
        {
         "name": "蛋白和医学组_开发中的项目数",
         "type": "scatter",
         "uid": "ea357a8b-c202-11e8-a573-509a4c0f1ffc",
         "x": [
          "8-3",
          "8-4",
          "9-1",
          "9-2",
          "9-3"
         ],
         "y": [
          56,
          53,
          39,
          26,
          10
         ]
        },
        {
         "name": "蛋白和医学组_延期项目数",
         "type": "scatter",
         "uid": "ea357a8c-c202-11e8-9e5f-509a4c0f1ffc",
         "x": [
          "8-3",
          "8-4",
          "9-1",
          "9-2",
          "9-3"
         ],
         "y": [
          7,
          7,
          15,
          9,
          6
         ]
        },
        {
         "name": "蛋白和医学组_暂停项目数",
         "type": "scatter",
         "uid": "ea357a8d-c202-11e8-b8b8-509a4c0f1ffc",
         "x": [
          "8-3",
          "8-4",
          "9-1",
          "9-2",
          "9-3"
         ],
         "y": [
          13,
          13,
          13,
          13,
          17
         ]
        },
        {
         "name": "转录调控组_季度开发项目数",
         "type": "scatter",
         "uid": "ea357a8e-c202-11e8-af56-509a4c0f1ffc",
         "x": [
          "8-3",
          "8-4",
          "9-1",
          "9-2",
          "9-3"
         ],
         "y": [
          76,
          87,
          94,
          70,
          15
         ]
        },
        {
         "name": "转录调控组_如期完成项目数",
         "type": "scatter",
         "uid": "ea357a8f-c202-11e8-8122-509a4c0f1ffc",
         "x": [
          "8-3",
          "8-4",
          "9-1",
          "9-2",
          "9-3"
         ],
         "y": [
          60,
          71,
          77,
          62,
          9
         ]
        },
        {
         "name": "转录调控组_延期完成",
         "type": "scatter",
         "uid": "ea357a90-c202-11e8-8b70-509a4c0f1ffc",
         "x": [
          "8-3",
          "8-4",
          "9-1",
          "9-2",
          "9-3"
         ],
         "y": [
          4,
          4,
          5,
          1,
          0
         ]
        },
        {
         "name": "转录调控组_开发中的项目数",
         "type": "scatter",
         "uid": "ea357a91-c202-11e8-8bb4-509a4c0f1ffc",
         "x": [
          "8-3",
          "8-4",
          "9-1",
          "9-2",
          "9-3"
         ],
         "y": [
          6,
          11,
          11,
          6,
          7
         ]
        },
        {
         "name": "转录调控组_延期项目数",
         "type": "scatter",
         "uid": "ea357a92-c202-11e8-9053-509a4c0f1ffc",
         "x": [
          "8-3",
          "8-4",
          "9-1",
          "9-2",
          "9-3"
         ],
         "y": [
          0,
          0,
          1,
          1,
          0
         ]
        },
        {
         "name": "转录调控组_暂停项目数",
         "type": "scatter",
         "uid": "ea357a93-c202-11e8-871f-509a4c0f1ffc",
         "x": [
          "8-3",
          "8-4",
          "9-1",
          "9-2",
          "9-3"
         ],
         "y": [
          2,
          2,
          5,
          1,
          12
         ]
        }
       ],
       "layout": {
        "title": "季度开发项目数&如期完成项目数&延期完成&开发中的项目数&延期项目数&暂停项目数周趋势图",
        "xaxis": {
         "mirror": "all",
         "nticks": 20,
         "showgrid": true,
         "showline": true,
         "title": "周",
         "zeroline": true
        },
        "yaxis": {
         "mirror": "all",
         "nticks": 20,
         "showgrid": true,
         "showline": true,
         "title": "季度开发项目数&如期完成项目数&延期完成&开发中的项目数&延期项目数&暂停项目数",
         "zeroline": true
        }
       }
      },
      "text/html": [
       "<div id=\"2e480af5-1f4e-4973-98c1-4b62dd30fec8\" style=\"height: 525px; width: 100%;\" class=\"plotly-graph-div\"></div><script type=\"text/javascript\">require([\"plotly\"], function(Plotly) { window.PLOTLYENV=window.PLOTLYENV || {};window.PLOTLYENV.BASE_URL=\"https://plot.ly\";\n",
       "        Plotly.plot(\n",
       "            '2e480af5-1f4e-4973-98c1-4b62dd30fec8',\n",
       "            [{\"name\": \"\\u751f\\u7269\\u5b66DNA\\u7ec4_\\u5b63\\u5ea6\\u5f00\\u53d1\\u9879\\u76ee\\u6570\", \"x\": [\"8-3\", \"8-4\", \"9-1\", \"9-2\", \"9-3\"], \"y\": [30.0, 56.0, 56.0, 53.0, 38.0], \"type\": \"scatter\", \"uid\": \"ea357a82-c202-11e8-acd9-509a4c0f1ffc\"}, {\"name\": \"\\u751f\\u7269\\u5b66DNA\\u7ec4_\\u5982\\u671f\\u5b8c\\u6210\\u9879\\u76ee\\u6570\", \"x\": [\"8-3\", \"8-4\", \"9-1\", \"9-2\", \"9-3\"], \"y\": [14.0, 20.0, 22.0, 22.0, 12.0], \"type\": \"scatter\", \"uid\": \"ea357a83-c202-11e8-a648-509a4c0f1ffc\"}, {\"name\": \"\\u751f\\u7269\\u5b66DNA\\u7ec4_\\u5ef6\\u671f\\u5b8c\\u6210\", \"x\": [\"8-3\", \"8-4\", \"9-1\", \"9-2\", \"9-3\"], \"y\": [3.0, 5.0, 6.0, 4.0, 9.0], \"type\": \"scatter\", \"uid\": \"ea357a84-c202-11e8-ba2f-509a4c0f1ffc\"}, {\"name\": \"\\u751f\\u7269\\u5b66DNA\\u7ec4_\\u5f00\\u53d1\\u4e2d\\u7684\\u9879\\u76ee\\u6570\", \"x\": [\"8-3\", \"8-4\", \"9-1\", \"9-2\", \"9-3\"], \"y\": [11.0, 26.0, 16.0, 16.0, 9.0], \"type\": \"scatter\", \"uid\": \"ea357a85-c202-11e8-bef7-509a4c0f1ffc\"}, {\"name\": \"\\u751f\\u7269\\u5b66DNA\\u7ec4_\\u5ef6\\u671f\\u9879\\u76ee\\u6570\", \"x\": [\"8-3\", \"8-4\", \"9-1\", \"9-2\", \"9-3\"], \"y\": [4.0, 6.0, 10.0, 10.0, 4.0], \"type\": \"scatter\", \"uid\": \"ea357a86-c202-11e8-bbdc-509a4c0f1ffc\"}, {\"name\": \"\\u751f\\u7269\\u5b66DNA\\u7ec4_\\u6682\\u505c\\u9879\\u76ee\\u6570\", \"x\": [\"8-3\", \"8-4\", \"9-1\", \"9-2\", \"9-3\"], \"y\": [0.0, 0.0, 3.0, 4.0, 4.0], \"type\": \"scatter\", \"uid\": \"ea357a87-c202-11e8-bb6c-509a4c0f1ffc\"}, {\"name\": \"\\u86cb\\u767d\\u548c\\u533b\\u5b66\\u7ec4_\\u5b63\\u5ea6\\u5f00\\u53d1\\u9879\\u76ee\\u6570\", \"x\": [\"8-3\", \"8-4\", \"9-1\", \"9-2\", \"9-3\"], \"y\": [207.0, 207.0, 207.0, 185.0, 197.0], \"type\": \"scatter\", \"uid\": \"ea357a88-c202-11e8-917b-509a4c0f1ffc\"}, {\"name\": \"\\u86cb\\u767d\\u548c\\u533b\\u5b66\\u7ec4_\\u5982\\u671f\\u5b8c\\u6210\\u9879\\u76ee\\u6570\", \"x\": [\"8-3\", \"8-4\", \"9-1\", \"9-2\", \"9-3\"], \"y\": [123.0, 125.0, 129.0, 135.0, 155.0], \"type\": \"scatter\", \"uid\": \"ea357a89-c202-11e8-b7e0-509a4c0f1ffc\"}, {\"name\": \"\\u86cb\\u767d\\u548c\\u533b\\u5b66\\u7ec4_\\u5ef6\\u671f\\u5b8c\\u6210\", \"x\": [\"8-3\", \"8-4\", \"9-1\", \"9-2\", \"9-3\"], \"y\": [8.0, 9.0, 11.0, 3.0, 13.0], \"type\": \"scatter\", \"uid\": \"ea357a8a-c202-11e8-9667-509a4c0f1ffc\"}, {\"name\": \"\\u86cb\\u767d\\u548c\\u533b\\u5b66\\u7ec4_\\u5f00\\u53d1\\u4e2d\\u7684\\u9879\\u76ee\\u6570\", \"x\": [\"8-3\", \"8-4\", \"9-1\", \"9-2\", \"9-3\"], \"y\": [56.0, 53.0, 39.0, 26.0, 10.0], \"type\": \"scatter\", \"uid\": \"ea357a8b-c202-11e8-a573-509a4c0f1ffc\"}, {\"name\": \"\\u86cb\\u767d\\u548c\\u533b\\u5b66\\u7ec4_\\u5ef6\\u671f\\u9879\\u76ee\\u6570\", \"x\": [\"8-3\", \"8-4\", \"9-1\", \"9-2\", \"9-3\"], \"y\": [7.0, 7.0, 15.0, 9.0, 6.0], \"type\": \"scatter\", \"uid\": \"ea357a8c-c202-11e8-9e5f-509a4c0f1ffc\"}, {\"name\": \"\\u86cb\\u767d\\u548c\\u533b\\u5b66\\u7ec4_\\u6682\\u505c\\u9879\\u76ee\\u6570\", \"x\": [\"8-3\", \"8-4\", \"9-1\", \"9-2\", \"9-3\"], \"y\": [13.0, 13.0, 13.0, 13.0, 17.0], \"type\": \"scatter\", \"uid\": \"ea357a8d-c202-11e8-b8b8-509a4c0f1ffc\"}, {\"name\": \"\\u8f6c\\u5f55\\u8c03\\u63a7\\u7ec4_\\u5b63\\u5ea6\\u5f00\\u53d1\\u9879\\u76ee\\u6570\", \"x\": [\"8-3\", \"8-4\", \"9-1\", \"9-2\", \"9-3\"], \"y\": [76.0, 87.0, 94.0, 70.0, 15.0], \"type\": \"scatter\", \"uid\": \"ea357a8e-c202-11e8-af56-509a4c0f1ffc\"}, {\"name\": \"\\u8f6c\\u5f55\\u8c03\\u63a7\\u7ec4_\\u5982\\u671f\\u5b8c\\u6210\\u9879\\u76ee\\u6570\", \"x\": [\"8-3\", \"8-4\", \"9-1\", \"9-2\", \"9-3\"], \"y\": [60.0, 71.0, 77.0, 62.0, 9.0], \"type\": \"scatter\", \"uid\": \"ea357a8f-c202-11e8-8122-509a4c0f1ffc\"}, {\"name\": \"\\u8f6c\\u5f55\\u8c03\\u63a7\\u7ec4_\\u5ef6\\u671f\\u5b8c\\u6210\", \"x\": [\"8-3\", \"8-4\", \"9-1\", \"9-2\", \"9-3\"], \"y\": [4.0, 4.0, 5.0, 1.0, 0.0], \"type\": \"scatter\", \"uid\": \"ea357a90-c202-11e8-8b70-509a4c0f1ffc\"}, {\"name\": \"\\u8f6c\\u5f55\\u8c03\\u63a7\\u7ec4_\\u5f00\\u53d1\\u4e2d\\u7684\\u9879\\u76ee\\u6570\", \"x\": [\"8-3\", \"8-4\", \"9-1\", \"9-2\", \"9-3\"], \"y\": [6.0, 11.0, 11.0, 6.0, 7.0], \"type\": \"scatter\", \"uid\": \"ea357a91-c202-11e8-8bb4-509a4c0f1ffc\"}, {\"name\": \"\\u8f6c\\u5f55\\u8c03\\u63a7\\u7ec4_\\u5ef6\\u671f\\u9879\\u76ee\\u6570\", \"x\": [\"8-3\", \"8-4\", \"9-1\", \"9-2\", \"9-3\"], \"y\": [0.0, 0.0, 1.0, 1.0, 0.0], \"type\": \"scatter\", \"uid\": \"ea357a92-c202-11e8-9053-509a4c0f1ffc\"}, {\"name\": \"\\u8f6c\\u5f55\\u8c03\\u63a7\\u7ec4_\\u6682\\u505c\\u9879\\u76ee\\u6570\", \"x\": [\"8-3\", \"8-4\", \"9-1\", \"9-2\", \"9-3\"], \"y\": [2.0, 2.0, 5.0, 1.0, 12.0], \"type\": \"scatter\", \"uid\": \"ea357a93-c202-11e8-871f-509a4c0f1ffc\"}],\n",
       "            {\"title\": \"\\u5b63\\u5ea6\\u5f00\\u53d1\\u9879\\u76ee\\u6570&\\u5982\\u671f\\u5b8c\\u6210\\u9879\\u76ee\\u6570&\\u5ef6\\u671f\\u5b8c\\u6210&\\u5f00\\u53d1\\u4e2d\\u7684\\u9879\\u76ee\\u6570&\\u5ef6\\u671f\\u9879\\u76ee\\u6570&\\u6682\\u505c\\u9879\\u76ee\\u6570\\u5468\\u8d8b\\u52bf\\u56fe\", \"xaxis\": {\"mirror\": \"all\", \"nticks\": 20, \"showgrid\": true, \"showline\": true, \"title\": \"\\u5468\", \"zeroline\": true}, \"yaxis\": {\"mirror\": \"all\", \"nticks\": 20, \"showgrid\": true, \"showline\": true, \"title\": \"\\u5b63\\u5ea6\\u5f00\\u53d1\\u9879\\u76ee\\u6570&\\u5982\\u671f\\u5b8c\\u6210\\u9879\\u76ee\\u6570&\\u5ef6\\u671f\\u5b8c\\u6210&\\u5f00\\u53d1\\u4e2d\\u7684\\u9879\\u76ee\\u6570&\\u5ef6\\u671f\\u9879\\u76ee\\u6570&\\u6682\\u505c\\u9879\\u76ee\\u6570\", \"zeroline\": true}},\n",
       "            {\"showLink\": true, \"linkText\": \"Export to plot.ly\"}\n",
       "        ).then(function () {return Plotly.addFrames('2e480af5-1f4e-4973-98c1-4b62dd30fec8',{});}).then(function(){Plotly.animate('2e480af5-1f4e-4973-98c1-4b62dd30fec8');})\n",
       "        });</script>"
      ],
      "text/vnd.plotly.v1+html": [
       "<div id=\"2e480af5-1f4e-4973-98c1-4b62dd30fec8\" style=\"height: 525px; width: 100%;\" class=\"plotly-graph-div\"></div><script type=\"text/javascript\">require([\"plotly\"], function(Plotly) { window.PLOTLYENV=window.PLOTLYENV || {};window.PLOTLYENV.BASE_URL=\"https://plot.ly\";\n",
       "        Plotly.plot(\n",
       "            '2e480af5-1f4e-4973-98c1-4b62dd30fec8',\n",
       "            [{\"name\": \"\\u751f\\u7269\\u5b66DNA\\u7ec4_\\u5b63\\u5ea6\\u5f00\\u53d1\\u9879\\u76ee\\u6570\", \"x\": [\"8-3\", \"8-4\", \"9-1\", \"9-2\", \"9-3\"], \"y\": [30.0, 56.0, 56.0, 53.0, 38.0], \"type\": \"scatter\", \"uid\": \"ea357a82-c202-11e8-acd9-509a4c0f1ffc\"}, {\"name\": \"\\u751f\\u7269\\u5b66DNA\\u7ec4_\\u5982\\u671f\\u5b8c\\u6210\\u9879\\u76ee\\u6570\", \"x\": [\"8-3\", \"8-4\", \"9-1\", \"9-2\", \"9-3\"], \"y\": [14.0, 20.0, 22.0, 22.0, 12.0], \"type\": \"scatter\", \"uid\": \"ea357a83-c202-11e8-a648-509a4c0f1ffc\"}, {\"name\": \"\\u751f\\u7269\\u5b66DNA\\u7ec4_\\u5ef6\\u671f\\u5b8c\\u6210\", \"x\": [\"8-3\", \"8-4\", \"9-1\", \"9-2\", \"9-3\"], \"y\": [3.0, 5.0, 6.0, 4.0, 9.0], \"type\": \"scatter\", \"uid\": \"ea357a84-c202-11e8-ba2f-509a4c0f1ffc\"}, {\"name\": \"\\u751f\\u7269\\u5b66DNA\\u7ec4_\\u5f00\\u53d1\\u4e2d\\u7684\\u9879\\u76ee\\u6570\", \"x\": [\"8-3\", \"8-4\", \"9-1\", \"9-2\", \"9-3\"], \"y\": [11.0, 26.0, 16.0, 16.0, 9.0], \"type\": \"scatter\", \"uid\": \"ea357a85-c202-11e8-bef7-509a4c0f1ffc\"}, {\"name\": \"\\u751f\\u7269\\u5b66DNA\\u7ec4_\\u5ef6\\u671f\\u9879\\u76ee\\u6570\", \"x\": [\"8-3\", \"8-4\", \"9-1\", \"9-2\", \"9-3\"], \"y\": [4.0, 6.0, 10.0, 10.0, 4.0], \"type\": \"scatter\", \"uid\": \"ea357a86-c202-11e8-bbdc-509a4c0f1ffc\"}, {\"name\": \"\\u751f\\u7269\\u5b66DNA\\u7ec4_\\u6682\\u505c\\u9879\\u76ee\\u6570\", \"x\": [\"8-3\", \"8-4\", \"9-1\", \"9-2\", \"9-3\"], \"y\": [0.0, 0.0, 3.0, 4.0, 4.0], \"type\": \"scatter\", \"uid\": \"ea357a87-c202-11e8-bb6c-509a4c0f1ffc\"}, {\"name\": \"\\u86cb\\u767d\\u548c\\u533b\\u5b66\\u7ec4_\\u5b63\\u5ea6\\u5f00\\u53d1\\u9879\\u76ee\\u6570\", \"x\": [\"8-3\", \"8-4\", \"9-1\", \"9-2\", \"9-3\"], \"y\": [207.0, 207.0, 207.0, 185.0, 197.0], \"type\": \"scatter\", \"uid\": \"ea357a88-c202-11e8-917b-509a4c0f1ffc\"}, {\"name\": \"\\u86cb\\u767d\\u548c\\u533b\\u5b66\\u7ec4_\\u5982\\u671f\\u5b8c\\u6210\\u9879\\u76ee\\u6570\", \"x\": [\"8-3\", \"8-4\", \"9-1\", \"9-2\", \"9-3\"], \"y\": [123.0, 125.0, 129.0, 135.0, 155.0], \"type\": \"scatter\", \"uid\": \"ea357a89-c202-11e8-b7e0-509a4c0f1ffc\"}, {\"name\": \"\\u86cb\\u767d\\u548c\\u533b\\u5b66\\u7ec4_\\u5ef6\\u671f\\u5b8c\\u6210\", \"x\": [\"8-3\", \"8-4\", \"9-1\", \"9-2\", \"9-3\"], \"y\": [8.0, 9.0, 11.0, 3.0, 13.0], \"type\": \"scatter\", \"uid\": \"ea357a8a-c202-11e8-9667-509a4c0f1ffc\"}, {\"name\": \"\\u86cb\\u767d\\u548c\\u533b\\u5b66\\u7ec4_\\u5f00\\u53d1\\u4e2d\\u7684\\u9879\\u76ee\\u6570\", \"x\": [\"8-3\", \"8-4\", \"9-1\", \"9-2\", \"9-3\"], \"y\": [56.0, 53.0, 39.0, 26.0, 10.0], \"type\": \"scatter\", \"uid\": \"ea357a8b-c202-11e8-a573-509a4c0f1ffc\"}, {\"name\": \"\\u86cb\\u767d\\u548c\\u533b\\u5b66\\u7ec4_\\u5ef6\\u671f\\u9879\\u76ee\\u6570\", \"x\": [\"8-3\", \"8-4\", \"9-1\", \"9-2\", \"9-3\"], \"y\": [7.0, 7.0, 15.0, 9.0, 6.0], \"type\": \"scatter\", \"uid\": \"ea357a8c-c202-11e8-9e5f-509a4c0f1ffc\"}, {\"name\": \"\\u86cb\\u767d\\u548c\\u533b\\u5b66\\u7ec4_\\u6682\\u505c\\u9879\\u76ee\\u6570\", \"x\": [\"8-3\", \"8-4\", \"9-1\", \"9-2\", \"9-3\"], \"y\": [13.0, 13.0, 13.0, 13.0, 17.0], \"type\": \"scatter\", \"uid\": \"ea357a8d-c202-11e8-b8b8-509a4c0f1ffc\"}, {\"name\": \"\\u8f6c\\u5f55\\u8c03\\u63a7\\u7ec4_\\u5b63\\u5ea6\\u5f00\\u53d1\\u9879\\u76ee\\u6570\", \"x\": [\"8-3\", \"8-4\", \"9-1\", \"9-2\", \"9-3\"], \"y\": [76.0, 87.0, 94.0, 70.0, 15.0], \"type\": \"scatter\", \"uid\": \"ea357a8e-c202-11e8-af56-509a4c0f1ffc\"}, {\"name\": \"\\u8f6c\\u5f55\\u8c03\\u63a7\\u7ec4_\\u5982\\u671f\\u5b8c\\u6210\\u9879\\u76ee\\u6570\", \"x\": [\"8-3\", \"8-4\", \"9-1\", \"9-2\", \"9-3\"], \"y\": [60.0, 71.0, 77.0, 62.0, 9.0], \"type\": \"scatter\", \"uid\": \"ea357a8f-c202-11e8-8122-509a4c0f1ffc\"}, {\"name\": \"\\u8f6c\\u5f55\\u8c03\\u63a7\\u7ec4_\\u5ef6\\u671f\\u5b8c\\u6210\", \"x\": [\"8-3\", \"8-4\", \"9-1\", \"9-2\", \"9-3\"], \"y\": [4.0, 4.0, 5.0, 1.0, 0.0], \"type\": \"scatter\", \"uid\": \"ea357a90-c202-11e8-8b70-509a4c0f1ffc\"}, {\"name\": \"\\u8f6c\\u5f55\\u8c03\\u63a7\\u7ec4_\\u5f00\\u53d1\\u4e2d\\u7684\\u9879\\u76ee\\u6570\", \"x\": [\"8-3\", \"8-4\", \"9-1\", \"9-2\", \"9-3\"], \"y\": [6.0, 11.0, 11.0, 6.0, 7.0], \"type\": \"scatter\", \"uid\": \"ea357a91-c202-11e8-8bb4-509a4c0f1ffc\"}, {\"name\": \"\\u8f6c\\u5f55\\u8c03\\u63a7\\u7ec4_\\u5ef6\\u671f\\u9879\\u76ee\\u6570\", \"x\": [\"8-3\", \"8-4\", \"9-1\", \"9-2\", \"9-3\"], \"y\": [0.0, 0.0, 1.0, 1.0, 0.0], \"type\": \"scatter\", \"uid\": \"ea357a92-c202-11e8-9053-509a4c0f1ffc\"}, {\"name\": \"\\u8f6c\\u5f55\\u8c03\\u63a7\\u7ec4_\\u6682\\u505c\\u9879\\u76ee\\u6570\", \"x\": [\"8-3\", \"8-4\", \"9-1\", \"9-2\", \"9-3\"], \"y\": [2.0, 2.0, 5.0, 1.0, 12.0], \"type\": \"scatter\", \"uid\": \"ea357a93-c202-11e8-871f-509a4c0f1ffc\"}],\n",
       "            {\"title\": \"\\u5b63\\u5ea6\\u5f00\\u53d1\\u9879\\u76ee\\u6570&\\u5982\\u671f\\u5b8c\\u6210\\u9879\\u76ee\\u6570&\\u5ef6\\u671f\\u5b8c\\u6210&\\u5f00\\u53d1\\u4e2d\\u7684\\u9879\\u76ee\\u6570&\\u5ef6\\u671f\\u9879\\u76ee\\u6570&\\u6682\\u505c\\u9879\\u76ee\\u6570\\u5468\\u8d8b\\u52bf\\u56fe\", \"xaxis\": {\"mirror\": \"all\", \"nticks\": 20, \"showgrid\": true, \"showline\": true, \"title\": \"\\u5468\", \"zeroline\": true}, \"yaxis\": {\"mirror\": \"all\", \"nticks\": 20, \"showgrid\": true, \"showline\": true, \"title\": \"\\u5b63\\u5ea6\\u5f00\\u53d1\\u9879\\u76ee\\u6570&\\u5982\\u671f\\u5b8c\\u6210\\u9879\\u76ee\\u6570&\\u5ef6\\u671f\\u5b8c\\u6210&\\u5f00\\u53d1\\u4e2d\\u7684\\u9879\\u76ee\\u6570&\\u5ef6\\u671f\\u9879\\u76ee\\u6570&\\u6682\\u505c\\u9879\\u76ee\\u6570\", \"zeroline\": true}},\n",
       "            {\"showLink\": true, \"linkText\": \"Export to plot.ly\"}\n",
       "        ).then(function () {return Plotly.addFrames('2e480af5-1f4e-4973-98c1-4b62dd30fec8',{});}).then(function(){Plotly.animate('2e480af5-1f4e-4973-98c1-4b62dd30fec8');})\n",
       "        });</script>"
      ]
     },
     "metadata": {},
     "output_type": "display_data"
    },
    {
     "data": {
      "application/vnd.plotly.v1+json": {
       "data": [
        {
         "name": "生物学DNA组_季度开发项目数",
         "type": "scatter",
         "uid": "ea638f62-c202-11e8-aa3f-509a4c0f1ffc",
         "x": [
          "8",
          "9"
         ],
         "y": [
          86,
          147
         ]
        },
        {
         "name": "生物学DNA组_如期完成项目数",
         "type": "scatter",
         "uid": "ea638f63-c202-11e8-a5fb-509a4c0f1ffc",
         "x": [
          "8",
          "9"
         ],
         "y": [
          34,
          56
         ]
        },
        {
         "name": "生物学DNA组_延期完成",
         "type": "scatter",
         "uid": "ea638f64-c202-11e8-b41b-509a4c0f1ffc",
         "x": [
          "8",
          "9"
         ],
         "y": [
          8,
          19
         ]
        },
        {
         "name": "生物学DNA组_开发中的项目数",
         "type": "scatter",
         "uid": "ea638f65-c202-11e8-8f88-509a4c0f1ffc",
         "x": [
          "8",
          "9"
         ],
         "y": [
          37,
          41
         ]
        },
        {
         "name": "生物学DNA组_延期项目数",
         "type": "scatter",
         "uid": "ea638f66-c202-11e8-b07c-509a4c0f1ffc",
         "x": [
          "8",
          "9"
         ],
         "y": [
          10,
          24
         ]
        },
        {
         "name": "生物学DNA组_暂停项目数",
         "type": "scatter",
         "uid": "ea63b674-c202-11e8-9ed0-509a4c0f1ffc",
         "x": [
          "8",
          "9"
         ],
         "y": [
          0,
          11
         ]
        },
        {
         "name": "蛋白和医学组_季度开发项目数",
         "type": "scatter",
         "uid": "ea63b675-c202-11e8-85d1-509a4c0f1ffc",
         "x": [
          "8",
          "9"
         ],
         "y": [
          414,
          589
         ]
        },
        {
         "name": "蛋白和医学组_如期完成项目数",
         "type": "scatter",
         "uid": "ea63b676-c202-11e8-b4f8-509a4c0f1ffc",
         "x": [
          "8",
          "9"
         ],
         "y": [
          248,
          419
         ]
        },
        {
         "name": "蛋白和医学组_延期完成",
         "type": "scatter",
         "uid": "ea63b677-c202-11e8-856b-509a4c0f1ffc",
         "x": [
          "8",
          "9"
         ],
         "y": [
          17,
          27
         ]
        },
        {
         "name": "蛋白和医学组_开发中的项目数",
         "type": "scatter",
         "uid": "ea63b678-c202-11e8-9cf0-509a4c0f1ffc",
         "x": [
          "8",
          "9"
         ],
         "y": [
          109,
          75
         ]
        },
        {
         "name": "蛋白和医学组_延期项目数",
         "type": "scatter",
         "uid": "ea63b679-c202-11e8-97a7-509a4c0f1ffc",
         "x": [
          "8",
          "9"
         ],
         "y": [
          14,
          30
         ]
        },
        {
         "name": "蛋白和医学组_暂停项目数",
         "type": "scatter",
         "uid": "ea63b67a-c202-11e8-bc51-509a4c0f1ffc",
         "x": [
          "8",
          "9"
         ],
         "y": [
          26,
          43
         ]
        },
        {
         "name": "转录调控组_季度开发项目数",
         "type": "scatter",
         "uid": "ea63b67b-c202-11e8-aa45-509a4c0f1ffc",
         "x": [
          "8",
          "9"
         ],
         "y": [
          163,
          179
         ]
        },
        {
         "name": "转录调控组_如期完成项目数",
         "type": "scatter",
         "uid": "ea63b67c-c202-11e8-9cc1-509a4c0f1ffc",
         "x": [
          "8",
          "9"
         ],
         "y": [
          131,
          148
         ]
        },
        {
         "name": "转录调控组_延期完成",
         "type": "scatter",
         "uid": "ea63b67d-c202-11e8-8f0e-509a4c0f1ffc",
         "x": [
          "8",
          "9"
         ],
         "y": [
          8,
          6
         ]
        },
        {
         "name": "转录调控组_开发中的项目数",
         "type": "scatter",
         "uid": "ea63b67e-c202-11e8-a705-509a4c0f1ffc",
         "x": [
          "8",
          "9"
         ],
         "y": [
          17,
          24
         ]
        },
        {
         "name": "转录调控组_延期项目数",
         "type": "scatter",
         "uid": "ea63b67f-c202-11e8-bcac-509a4c0f1ffc",
         "x": [
          "8",
          "9"
         ],
         "y": [
          0,
          2
         ]
        },
        {
         "name": "转录调控组_暂停项目数",
         "type": "scatter",
         "uid": "ea63b680-c202-11e8-b14d-509a4c0f1ffc",
         "x": [
          "8",
          "9"
         ],
         "y": [
          4,
          18
         ]
        }
       ],
       "layout": {
        "title": "季度开发项目数&如期完成项目数&延期完成&开发中的项目数&延期项目数&暂停项目数月趋势图",
        "xaxis": {
         "mirror": "all",
         "nticks": 20,
         "showgrid": true,
         "showline": true,
         "title": "月",
         "zeroline": true
        },
        "yaxis": {
         "mirror": "all",
         "nticks": 20,
         "showgrid": true,
         "showline": true,
         "title": "季度开发项目数&如期完成项目数&延期完成&开发中的项目数&延期项目数&暂停项目数",
         "zeroline": true
        }
       }
      },
      "text/html": [
       "<div id=\"0d813e20-384d-4485-913a-7c2e3c73a1ca\" style=\"height: 525px; width: 100%;\" class=\"plotly-graph-div\"></div><script type=\"text/javascript\">require([\"plotly\"], function(Plotly) { window.PLOTLYENV=window.PLOTLYENV || {};window.PLOTLYENV.BASE_URL=\"https://plot.ly\";\n",
       "        Plotly.plot(\n",
       "            '0d813e20-384d-4485-913a-7c2e3c73a1ca',\n",
       "            [{\"name\": \"\\u751f\\u7269\\u5b66DNA\\u7ec4_\\u5b63\\u5ea6\\u5f00\\u53d1\\u9879\\u76ee\\u6570\", \"x\": [\"8\", \"9\"], \"y\": [86.0, 147.0], \"type\": \"scatter\", \"uid\": \"ea638f62-c202-11e8-aa3f-509a4c0f1ffc\"}, {\"name\": \"\\u751f\\u7269\\u5b66DNA\\u7ec4_\\u5982\\u671f\\u5b8c\\u6210\\u9879\\u76ee\\u6570\", \"x\": [\"8\", \"9\"], \"y\": [34.0, 56.0], \"type\": \"scatter\", \"uid\": \"ea638f63-c202-11e8-a5fb-509a4c0f1ffc\"}, {\"name\": \"\\u751f\\u7269\\u5b66DNA\\u7ec4_\\u5ef6\\u671f\\u5b8c\\u6210\", \"x\": [\"8\", \"9\"], \"y\": [8.0, 19.0], \"type\": \"scatter\", \"uid\": \"ea638f64-c202-11e8-b41b-509a4c0f1ffc\"}, {\"name\": \"\\u751f\\u7269\\u5b66DNA\\u7ec4_\\u5f00\\u53d1\\u4e2d\\u7684\\u9879\\u76ee\\u6570\", \"x\": [\"8\", \"9\"], \"y\": [37.0, 41.0], \"type\": \"scatter\", \"uid\": \"ea638f65-c202-11e8-8f88-509a4c0f1ffc\"}, {\"name\": \"\\u751f\\u7269\\u5b66DNA\\u7ec4_\\u5ef6\\u671f\\u9879\\u76ee\\u6570\", \"x\": [\"8\", \"9\"], \"y\": [10.0, 24.0], \"type\": \"scatter\", \"uid\": \"ea638f66-c202-11e8-b07c-509a4c0f1ffc\"}, {\"name\": \"\\u751f\\u7269\\u5b66DNA\\u7ec4_\\u6682\\u505c\\u9879\\u76ee\\u6570\", \"x\": [\"8\", \"9\"], \"y\": [0.0, 11.0], \"type\": \"scatter\", \"uid\": \"ea63b674-c202-11e8-9ed0-509a4c0f1ffc\"}, {\"name\": \"\\u86cb\\u767d\\u548c\\u533b\\u5b66\\u7ec4_\\u5b63\\u5ea6\\u5f00\\u53d1\\u9879\\u76ee\\u6570\", \"x\": [\"8\", \"9\"], \"y\": [414.0, 589.0], \"type\": \"scatter\", \"uid\": \"ea63b675-c202-11e8-85d1-509a4c0f1ffc\"}, {\"name\": \"\\u86cb\\u767d\\u548c\\u533b\\u5b66\\u7ec4_\\u5982\\u671f\\u5b8c\\u6210\\u9879\\u76ee\\u6570\", \"x\": [\"8\", \"9\"], \"y\": [248.0, 419.0], \"type\": \"scatter\", \"uid\": \"ea63b676-c202-11e8-b4f8-509a4c0f1ffc\"}, {\"name\": \"\\u86cb\\u767d\\u548c\\u533b\\u5b66\\u7ec4_\\u5ef6\\u671f\\u5b8c\\u6210\", \"x\": [\"8\", \"9\"], \"y\": [17.0, 27.0], \"type\": \"scatter\", \"uid\": \"ea63b677-c202-11e8-856b-509a4c0f1ffc\"}, {\"name\": \"\\u86cb\\u767d\\u548c\\u533b\\u5b66\\u7ec4_\\u5f00\\u53d1\\u4e2d\\u7684\\u9879\\u76ee\\u6570\", \"x\": [\"8\", \"9\"], \"y\": [109.0, 75.0], \"type\": \"scatter\", \"uid\": \"ea63b678-c202-11e8-9cf0-509a4c0f1ffc\"}, {\"name\": \"\\u86cb\\u767d\\u548c\\u533b\\u5b66\\u7ec4_\\u5ef6\\u671f\\u9879\\u76ee\\u6570\", \"x\": [\"8\", \"9\"], \"y\": [14.0, 30.0], \"type\": \"scatter\", \"uid\": \"ea63b679-c202-11e8-97a7-509a4c0f1ffc\"}, {\"name\": \"\\u86cb\\u767d\\u548c\\u533b\\u5b66\\u7ec4_\\u6682\\u505c\\u9879\\u76ee\\u6570\", \"x\": [\"8\", \"9\"], \"y\": [26.0, 43.0], \"type\": \"scatter\", \"uid\": \"ea63b67a-c202-11e8-bc51-509a4c0f1ffc\"}, {\"name\": \"\\u8f6c\\u5f55\\u8c03\\u63a7\\u7ec4_\\u5b63\\u5ea6\\u5f00\\u53d1\\u9879\\u76ee\\u6570\", \"x\": [\"8\", \"9\"], \"y\": [163.0, 179.0], \"type\": \"scatter\", \"uid\": \"ea63b67b-c202-11e8-aa45-509a4c0f1ffc\"}, {\"name\": \"\\u8f6c\\u5f55\\u8c03\\u63a7\\u7ec4_\\u5982\\u671f\\u5b8c\\u6210\\u9879\\u76ee\\u6570\", \"x\": [\"8\", \"9\"], \"y\": [131.0, 148.0], \"type\": \"scatter\", \"uid\": \"ea63b67c-c202-11e8-9cc1-509a4c0f1ffc\"}, {\"name\": \"\\u8f6c\\u5f55\\u8c03\\u63a7\\u7ec4_\\u5ef6\\u671f\\u5b8c\\u6210\", \"x\": [\"8\", \"9\"], \"y\": [8.0, 6.0], \"type\": \"scatter\", \"uid\": \"ea63b67d-c202-11e8-8f0e-509a4c0f1ffc\"}, {\"name\": \"\\u8f6c\\u5f55\\u8c03\\u63a7\\u7ec4_\\u5f00\\u53d1\\u4e2d\\u7684\\u9879\\u76ee\\u6570\", \"x\": [\"8\", \"9\"], \"y\": [17.0, 24.0], \"type\": \"scatter\", \"uid\": \"ea63b67e-c202-11e8-a705-509a4c0f1ffc\"}, {\"name\": \"\\u8f6c\\u5f55\\u8c03\\u63a7\\u7ec4_\\u5ef6\\u671f\\u9879\\u76ee\\u6570\", \"x\": [\"8\", \"9\"], \"y\": [0.0, 2.0], \"type\": \"scatter\", \"uid\": \"ea63b67f-c202-11e8-bcac-509a4c0f1ffc\"}, {\"name\": \"\\u8f6c\\u5f55\\u8c03\\u63a7\\u7ec4_\\u6682\\u505c\\u9879\\u76ee\\u6570\", \"x\": [\"8\", \"9\"], \"y\": [4.0, 18.0], \"type\": \"scatter\", \"uid\": \"ea63b680-c202-11e8-b14d-509a4c0f1ffc\"}],\n",
       "            {\"title\": \"\\u5b63\\u5ea6\\u5f00\\u53d1\\u9879\\u76ee\\u6570&\\u5982\\u671f\\u5b8c\\u6210\\u9879\\u76ee\\u6570&\\u5ef6\\u671f\\u5b8c\\u6210&\\u5f00\\u53d1\\u4e2d\\u7684\\u9879\\u76ee\\u6570&\\u5ef6\\u671f\\u9879\\u76ee\\u6570&\\u6682\\u505c\\u9879\\u76ee\\u6570\\u6708\\u8d8b\\u52bf\\u56fe\", \"xaxis\": {\"mirror\": \"all\", \"nticks\": 20, \"showgrid\": true, \"showline\": true, \"title\": \"\\u6708\", \"zeroline\": true}, \"yaxis\": {\"mirror\": \"all\", \"nticks\": 20, \"showgrid\": true, \"showline\": true, \"title\": \"\\u5b63\\u5ea6\\u5f00\\u53d1\\u9879\\u76ee\\u6570&\\u5982\\u671f\\u5b8c\\u6210\\u9879\\u76ee\\u6570&\\u5ef6\\u671f\\u5b8c\\u6210&\\u5f00\\u53d1\\u4e2d\\u7684\\u9879\\u76ee\\u6570&\\u5ef6\\u671f\\u9879\\u76ee\\u6570&\\u6682\\u505c\\u9879\\u76ee\\u6570\", \"zeroline\": true}},\n",
       "            {\"showLink\": true, \"linkText\": \"Export to plot.ly\"}\n",
       "        ).then(function () {return Plotly.addFrames('0d813e20-384d-4485-913a-7c2e3c73a1ca',{});}).then(function(){Plotly.animate('0d813e20-384d-4485-913a-7c2e3c73a1ca');})\n",
       "        });</script>"
      ],
      "text/vnd.plotly.v1+html": [
       "<div id=\"0d813e20-384d-4485-913a-7c2e3c73a1ca\" style=\"height: 525px; width: 100%;\" class=\"plotly-graph-div\"></div><script type=\"text/javascript\">require([\"plotly\"], function(Plotly) { window.PLOTLYENV=window.PLOTLYENV || {};window.PLOTLYENV.BASE_URL=\"https://plot.ly\";\n",
       "        Plotly.plot(\n",
       "            '0d813e20-384d-4485-913a-7c2e3c73a1ca',\n",
       "            [{\"name\": \"\\u751f\\u7269\\u5b66DNA\\u7ec4_\\u5b63\\u5ea6\\u5f00\\u53d1\\u9879\\u76ee\\u6570\", \"x\": [\"8\", \"9\"], \"y\": [86.0, 147.0], \"type\": \"scatter\", \"uid\": \"ea638f62-c202-11e8-aa3f-509a4c0f1ffc\"}, {\"name\": \"\\u751f\\u7269\\u5b66DNA\\u7ec4_\\u5982\\u671f\\u5b8c\\u6210\\u9879\\u76ee\\u6570\", \"x\": [\"8\", \"9\"], \"y\": [34.0, 56.0], \"type\": \"scatter\", \"uid\": \"ea638f63-c202-11e8-a5fb-509a4c0f1ffc\"}, {\"name\": \"\\u751f\\u7269\\u5b66DNA\\u7ec4_\\u5ef6\\u671f\\u5b8c\\u6210\", \"x\": [\"8\", \"9\"], \"y\": [8.0, 19.0], \"type\": \"scatter\", \"uid\": \"ea638f64-c202-11e8-b41b-509a4c0f1ffc\"}, {\"name\": \"\\u751f\\u7269\\u5b66DNA\\u7ec4_\\u5f00\\u53d1\\u4e2d\\u7684\\u9879\\u76ee\\u6570\", \"x\": [\"8\", \"9\"], \"y\": [37.0, 41.0], \"type\": \"scatter\", \"uid\": \"ea638f65-c202-11e8-8f88-509a4c0f1ffc\"}, {\"name\": \"\\u751f\\u7269\\u5b66DNA\\u7ec4_\\u5ef6\\u671f\\u9879\\u76ee\\u6570\", \"x\": [\"8\", \"9\"], \"y\": [10.0, 24.0], \"type\": \"scatter\", \"uid\": \"ea638f66-c202-11e8-b07c-509a4c0f1ffc\"}, {\"name\": \"\\u751f\\u7269\\u5b66DNA\\u7ec4_\\u6682\\u505c\\u9879\\u76ee\\u6570\", \"x\": [\"8\", \"9\"], \"y\": [0.0, 11.0], \"type\": \"scatter\", \"uid\": \"ea63b674-c202-11e8-9ed0-509a4c0f1ffc\"}, {\"name\": \"\\u86cb\\u767d\\u548c\\u533b\\u5b66\\u7ec4_\\u5b63\\u5ea6\\u5f00\\u53d1\\u9879\\u76ee\\u6570\", \"x\": [\"8\", \"9\"], \"y\": [414.0, 589.0], \"type\": \"scatter\", \"uid\": \"ea63b675-c202-11e8-85d1-509a4c0f1ffc\"}, {\"name\": \"\\u86cb\\u767d\\u548c\\u533b\\u5b66\\u7ec4_\\u5982\\u671f\\u5b8c\\u6210\\u9879\\u76ee\\u6570\", \"x\": [\"8\", \"9\"], \"y\": [248.0, 419.0], \"type\": \"scatter\", \"uid\": \"ea63b676-c202-11e8-b4f8-509a4c0f1ffc\"}, {\"name\": \"\\u86cb\\u767d\\u548c\\u533b\\u5b66\\u7ec4_\\u5ef6\\u671f\\u5b8c\\u6210\", \"x\": [\"8\", \"9\"], \"y\": [17.0, 27.0], \"type\": \"scatter\", \"uid\": \"ea63b677-c202-11e8-856b-509a4c0f1ffc\"}, {\"name\": \"\\u86cb\\u767d\\u548c\\u533b\\u5b66\\u7ec4_\\u5f00\\u53d1\\u4e2d\\u7684\\u9879\\u76ee\\u6570\", \"x\": [\"8\", \"9\"], \"y\": [109.0, 75.0], \"type\": \"scatter\", \"uid\": \"ea63b678-c202-11e8-9cf0-509a4c0f1ffc\"}, {\"name\": \"\\u86cb\\u767d\\u548c\\u533b\\u5b66\\u7ec4_\\u5ef6\\u671f\\u9879\\u76ee\\u6570\", \"x\": [\"8\", \"9\"], \"y\": [14.0, 30.0], \"type\": \"scatter\", \"uid\": \"ea63b679-c202-11e8-97a7-509a4c0f1ffc\"}, {\"name\": \"\\u86cb\\u767d\\u548c\\u533b\\u5b66\\u7ec4_\\u6682\\u505c\\u9879\\u76ee\\u6570\", \"x\": [\"8\", \"9\"], \"y\": [26.0, 43.0], \"type\": \"scatter\", \"uid\": \"ea63b67a-c202-11e8-bc51-509a4c0f1ffc\"}, {\"name\": \"\\u8f6c\\u5f55\\u8c03\\u63a7\\u7ec4_\\u5b63\\u5ea6\\u5f00\\u53d1\\u9879\\u76ee\\u6570\", \"x\": [\"8\", \"9\"], \"y\": [163.0, 179.0], \"type\": \"scatter\", \"uid\": \"ea63b67b-c202-11e8-aa45-509a4c0f1ffc\"}, {\"name\": \"\\u8f6c\\u5f55\\u8c03\\u63a7\\u7ec4_\\u5982\\u671f\\u5b8c\\u6210\\u9879\\u76ee\\u6570\", \"x\": [\"8\", \"9\"], \"y\": [131.0, 148.0], \"type\": \"scatter\", \"uid\": \"ea63b67c-c202-11e8-9cc1-509a4c0f1ffc\"}, {\"name\": \"\\u8f6c\\u5f55\\u8c03\\u63a7\\u7ec4_\\u5ef6\\u671f\\u5b8c\\u6210\", \"x\": [\"8\", \"9\"], \"y\": [8.0, 6.0], \"type\": \"scatter\", \"uid\": \"ea63b67d-c202-11e8-8f0e-509a4c0f1ffc\"}, {\"name\": \"\\u8f6c\\u5f55\\u8c03\\u63a7\\u7ec4_\\u5f00\\u53d1\\u4e2d\\u7684\\u9879\\u76ee\\u6570\", \"x\": [\"8\", \"9\"], \"y\": [17.0, 24.0], \"type\": \"scatter\", \"uid\": \"ea63b67e-c202-11e8-a705-509a4c0f1ffc\"}, {\"name\": \"\\u8f6c\\u5f55\\u8c03\\u63a7\\u7ec4_\\u5ef6\\u671f\\u9879\\u76ee\\u6570\", \"x\": [\"8\", \"9\"], \"y\": [0.0, 2.0], \"type\": \"scatter\", \"uid\": \"ea63b67f-c202-11e8-bcac-509a4c0f1ffc\"}, {\"name\": \"\\u8f6c\\u5f55\\u8c03\\u63a7\\u7ec4_\\u6682\\u505c\\u9879\\u76ee\\u6570\", \"x\": [\"8\", \"9\"], \"y\": [4.0, 18.0], \"type\": \"scatter\", \"uid\": \"ea63b680-c202-11e8-b14d-509a4c0f1ffc\"}],\n",
       "            {\"title\": \"\\u5b63\\u5ea6\\u5f00\\u53d1\\u9879\\u76ee\\u6570&\\u5982\\u671f\\u5b8c\\u6210\\u9879\\u76ee\\u6570&\\u5ef6\\u671f\\u5b8c\\u6210&\\u5f00\\u53d1\\u4e2d\\u7684\\u9879\\u76ee\\u6570&\\u5ef6\\u671f\\u9879\\u76ee\\u6570&\\u6682\\u505c\\u9879\\u76ee\\u6570\\u6708\\u8d8b\\u52bf\\u56fe\", \"xaxis\": {\"mirror\": \"all\", \"nticks\": 20, \"showgrid\": true, \"showline\": true, \"title\": \"\\u6708\", \"zeroline\": true}, \"yaxis\": {\"mirror\": \"all\", \"nticks\": 20, \"showgrid\": true, \"showline\": true, \"title\": \"\\u5b63\\u5ea6\\u5f00\\u53d1\\u9879\\u76ee\\u6570&\\u5982\\u671f\\u5b8c\\u6210\\u9879\\u76ee\\u6570&\\u5ef6\\u671f\\u5b8c\\u6210&\\u5f00\\u53d1\\u4e2d\\u7684\\u9879\\u76ee\\u6570&\\u5ef6\\u671f\\u9879\\u76ee\\u6570&\\u6682\\u505c\\u9879\\u76ee\\u6570\", \"zeroline\": true}},\n",
       "            {\"showLink\": true, \"linkText\": \"Export to plot.ly\"}\n",
       "        ).then(function () {return Plotly.addFrames('0d813e20-384d-4485-913a-7c2e3c73a1ca',{});}).then(function(){Plotly.animate('0d813e20-384d-4485-913a-7c2e3c73a1ca');})\n",
       "        });</script>"
      ]
     },
     "metadata": {},
     "output_type": "display_data"
    }
   ],
   "source": [
    "data_dict = {'季度开发项目数': ['季度开发项目数'], '如期完成项目数': ['如期完成项目数'], '延期完成': ['延期完成'],\\\n",
    "             '开发中的项目数': ['开发中的项目数'], '延期项目数': ['延期项目数'], '暂停项目数': ['暂停项目数']}\n",
    "myModule.plot( all_dict, data_dict, '组别' ,  'line' , all='')"
   ]
  },
  {
   "cell_type": "markdown",
   "metadata": {
    "hide_input": true
   },
   "source": [
    "### 个人成长指数"
   ]
  },
  {
   "cell_type": "markdown",
   "metadata": {},
   "source": [
    "#### 电话会议次数、软著撰写完成数、专利撰写完成数、外出技术支持数、客户来访接待数和文章数"
   ]
  },
  {
   "cell_type": "code",
   "execution_count": 59,
   "metadata": {},
   "outputs": [
    {
     "data": {
      "application/vnd.plotly.v1+json": {
       "data": [
        {
         "name": "生物学DNA组_电话会议次数",
         "type": "scatter",
         "uid": "eac5ac92-c202-11e8-bb1e-509a4c0f1ffc",
         "x": [
          "8-3",
          "8-4",
          "9-1",
          "9-2",
          "9-3"
         ],
         "y": [
          1,
          3,
          4,
          3,
          3
         ]
        },
        {
         "name": "生物学DNA组_外出技术支持数",
         "type": "scatter",
         "uid": "eac5ac93-c202-11e8-83b4-509a4c0f1ffc",
         "x": [
          "8-3",
          "8-4",
          "9-1",
          "9-2",
          "9-3"
         ],
         "y": [
          0,
          0,
          0,
          0,
          0
         ]
        },
        {
         "name": "生物学DNA组_客户来访接待数",
         "type": "scatter",
         "uid": "eac5ac94-c202-11e8-90be-509a4c0f1ffc",
         "x": [
          "8-3",
          "8-4",
          "9-1",
          "9-2",
          "9-3"
         ],
         "y": [
          1,
          0,
          0,
          0,
          1
         ]
        },
        {
         "name": "蛋白和医学组_电话会议次数",
         "type": "scatter",
         "uid": "eac5ac95-c202-11e8-b6bb-509a4c0f1ffc",
         "x": [
          "8-3",
          "8-4",
          "9-1",
          "9-2",
          "9-3"
         ],
         "y": [
          4,
          0,
          0,
          2,
          3
         ]
        },
        {
         "name": "蛋白和医学组_外出技术支持数",
         "type": "scatter",
         "uid": "eac5ac96-c202-11e8-a1a3-509a4c0f1ffc",
         "x": [
          "8-3",
          "8-4",
          "9-1",
          "9-2",
          "9-3"
         ],
         "y": [
          0,
          0,
          0,
          0,
          0
         ]
        },
        {
         "name": "蛋白和医学组_客户来访接待数",
         "type": "scatter",
         "uid": "eac5ac97-c202-11e8-beec-509a4c0f1ffc",
         "x": [
          "8-3",
          "8-4",
          "9-1",
          "9-2",
          "9-3"
         ],
         "y": [
          2,
          0,
          0,
          0,
          0
         ]
        },
        {
         "name": "转录调控组_电话会议次数",
         "type": "scatter",
         "uid": "eac5ac98-c202-11e8-940f-509a4c0f1ffc",
         "x": [
          "8-3",
          "8-4",
          "9-1",
          "9-2",
          "9-3"
         ],
         "y": [
          4,
          2,
          1,
          3,
          2
         ]
        },
        {
         "name": "转录调控组_外出技术支持数",
         "type": "scatter",
         "uid": "eac5ac99-c202-11e8-8c7f-509a4c0f1ffc",
         "x": [
          "8-3",
          "8-4",
          "9-1",
          "9-2",
          "9-3"
         ],
         "y": [
          0,
          0,
          0,
          0,
          0
         ]
        },
        {
         "name": "转录调控组_客户来访接待数",
         "type": "scatter",
         "uid": "eac5ac9a-c202-11e8-8e2c-509a4c0f1ffc",
         "x": [
          "8-3",
          "8-4",
          "9-1",
          "9-2",
          "9-3"
         ],
         "y": [
          0,
          0,
          0,
          0,
          0
         ]
        }
       ],
       "layout": {
        "title": "电话会议次数&外出技术支持数&客户来访接待数周趋势图",
        "xaxis": {
         "mirror": "all",
         "nticks": 20,
         "showgrid": true,
         "showline": true,
         "title": "周",
         "zeroline": true
        },
        "yaxis": {
         "mirror": "all",
         "nticks": 20,
         "showgrid": true,
         "showline": true,
         "title": "电话会议次数&外出技术支持数&客户来访接待数",
         "zeroline": true
        }
       }
      },
      "text/html": [
       "<div id=\"c8d869b5-01ae-45fd-b7b3-a796b6b178af\" style=\"height: 525px; width: 100%;\" class=\"plotly-graph-div\"></div><script type=\"text/javascript\">require([\"plotly\"], function(Plotly) { window.PLOTLYENV=window.PLOTLYENV || {};window.PLOTLYENV.BASE_URL=\"https://plot.ly\";\n",
       "        Plotly.plot(\n",
       "            'c8d869b5-01ae-45fd-b7b3-a796b6b178af',\n",
       "            [{\"name\": \"\\u751f\\u7269\\u5b66DNA\\u7ec4_\\u7535\\u8bdd\\u4f1a\\u8bae\\u6b21\\u6570\", \"x\": [\"8-3\", \"8-4\", \"9-1\", \"9-2\", \"9-3\"], \"y\": [1.0, 3.0, 4.0, 3.0, 3.0], \"type\": \"scatter\", \"uid\": \"eac5ac92-c202-11e8-bb1e-509a4c0f1ffc\"}, {\"name\": \"\\u751f\\u7269\\u5b66DNA\\u7ec4_\\u5916\\u51fa\\u6280\\u672f\\u652f\\u6301\\u6570\", \"x\": [\"8-3\", \"8-4\", \"9-1\", \"9-2\", \"9-3\"], \"y\": [0.0, 0.0, 0.0, 0.0, 0.0], \"type\": \"scatter\", \"uid\": \"eac5ac93-c202-11e8-83b4-509a4c0f1ffc\"}, {\"name\": \"\\u751f\\u7269\\u5b66DNA\\u7ec4_\\u5ba2\\u6237\\u6765\\u8bbf\\u63a5\\u5f85\\u6570\", \"x\": [\"8-3\", \"8-4\", \"9-1\", \"9-2\", \"9-3\"], \"y\": [1.0, 0.0, 0.0, 0.0, 1.0], \"type\": \"scatter\", \"uid\": \"eac5ac94-c202-11e8-90be-509a4c0f1ffc\"}, {\"name\": \"\\u86cb\\u767d\\u548c\\u533b\\u5b66\\u7ec4_\\u7535\\u8bdd\\u4f1a\\u8bae\\u6b21\\u6570\", \"x\": [\"8-3\", \"8-4\", \"9-1\", \"9-2\", \"9-3\"], \"y\": [4.0, 0.0, 0.0, 2.0, 3.0], \"type\": \"scatter\", \"uid\": \"eac5ac95-c202-11e8-b6bb-509a4c0f1ffc\"}, {\"name\": \"\\u86cb\\u767d\\u548c\\u533b\\u5b66\\u7ec4_\\u5916\\u51fa\\u6280\\u672f\\u652f\\u6301\\u6570\", \"x\": [\"8-3\", \"8-4\", \"9-1\", \"9-2\", \"9-3\"], \"y\": [0.0, 0.0, 0.0, 0.0, 0.0], \"type\": \"scatter\", \"uid\": \"eac5ac96-c202-11e8-a1a3-509a4c0f1ffc\"}, {\"name\": \"\\u86cb\\u767d\\u548c\\u533b\\u5b66\\u7ec4_\\u5ba2\\u6237\\u6765\\u8bbf\\u63a5\\u5f85\\u6570\", \"x\": [\"8-3\", \"8-4\", \"9-1\", \"9-2\", \"9-3\"], \"y\": [2.0, 0.0, 0.0, 0.0, 0.0], \"type\": \"scatter\", \"uid\": \"eac5ac97-c202-11e8-beec-509a4c0f1ffc\"}, {\"name\": \"\\u8f6c\\u5f55\\u8c03\\u63a7\\u7ec4_\\u7535\\u8bdd\\u4f1a\\u8bae\\u6b21\\u6570\", \"x\": [\"8-3\", \"8-4\", \"9-1\", \"9-2\", \"9-3\"], \"y\": [4.0, 2.0, 1.0, 3.0, 2.0], \"type\": \"scatter\", \"uid\": \"eac5ac98-c202-11e8-940f-509a4c0f1ffc\"}, {\"name\": \"\\u8f6c\\u5f55\\u8c03\\u63a7\\u7ec4_\\u5916\\u51fa\\u6280\\u672f\\u652f\\u6301\\u6570\", \"x\": [\"8-3\", \"8-4\", \"9-1\", \"9-2\", \"9-3\"], \"y\": [0.0, 0.0, 0.0, 0.0, 0.0], \"type\": \"scatter\", \"uid\": \"eac5ac99-c202-11e8-8c7f-509a4c0f1ffc\"}, {\"name\": \"\\u8f6c\\u5f55\\u8c03\\u63a7\\u7ec4_\\u5ba2\\u6237\\u6765\\u8bbf\\u63a5\\u5f85\\u6570\", \"x\": [\"8-3\", \"8-4\", \"9-1\", \"9-2\", \"9-3\"], \"y\": [0.0, 0.0, 0.0, 0.0, 0.0], \"type\": \"scatter\", \"uid\": \"eac5ac9a-c202-11e8-8e2c-509a4c0f1ffc\"}],\n",
       "            {\"title\": \"\\u7535\\u8bdd\\u4f1a\\u8bae\\u6b21\\u6570&\\u5916\\u51fa\\u6280\\u672f\\u652f\\u6301\\u6570&\\u5ba2\\u6237\\u6765\\u8bbf\\u63a5\\u5f85\\u6570\\u5468\\u8d8b\\u52bf\\u56fe\", \"xaxis\": {\"mirror\": \"all\", \"nticks\": 20, \"showgrid\": true, \"showline\": true, \"title\": \"\\u5468\", \"zeroline\": true}, \"yaxis\": {\"mirror\": \"all\", \"nticks\": 20, \"showgrid\": true, \"showline\": true, \"title\": \"\\u7535\\u8bdd\\u4f1a\\u8bae\\u6b21\\u6570&\\u5916\\u51fa\\u6280\\u672f\\u652f\\u6301\\u6570&\\u5ba2\\u6237\\u6765\\u8bbf\\u63a5\\u5f85\\u6570\", \"zeroline\": true}},\n",
       "            {\"showLink\": true, \"linkText\": \"Export to plot.ly\"}\n",
       "        ).then(function () {return Plotly.addFrames('c8d869b5-01ae-45fd-b7b3-a796b6b178af',{});}).then(function(){Plotly.animate('c8d869b5-01ae-45fd-b7b3-a796b6b178af');})\n",
       "        });</script>"
      ],
      "text/vnd.plotly.v1+html": [
       "<div id=\"c8d869b5-01ae-45fd-b7b3-a796b6b178af\" style=\"height: 525px; width: 100%;\" class=\"plotly-graph-div\"></div><script type=\"text/javascript\">require([\"plotly\"], function(Plotly) { window.PLOTLYENV=window.PLOTLYENV || {};window.PLOTLYENV.BASE_URL=\"https://plot.ly\";\n",
       "        Plotly.plot(\n",
       "            'c8d869b5-01ae-45fd-b7b3-a796b6b178af',\n",
       "            [{\"name\": \"\\u751f\\u7269\\u5b66DNA\\u7ec4_\\u7535\\u8bdd\\u4f1a\\u8bae\\u6b21\\u6570\", \"x\": [\"8-3\", \"8-4\", \"9-1\", \"9-2\", \"9-3\"], \"y\": [1.0, 3.0, 4.0, 3.0, 3.0], \"type\": \"scatter\", \"uid\": \"eac5ac92-c202-11e8-bb1e-509a4c0f1ffc\"}, {\"name\": \"\\u751f\\u7269\\u5b66DNA\\u7ec4_\\u5916\\u51fa\\u6280\\u672f\\u652f\\u6301\\u6570\", \"x\": [\"8-3\", \"8-4\", \"9-1\", \"9-2\", \"9-3\"], \"y\": [0.0, 0.0, 0.0, 0.0, 0.0], \"type\": \"scatter\", \"uid\": \"eac5ac93-c202-11e8-83b4-509a4c0f1ffc\"}, {\"name\": \"\\u751f\\u7269\\u5b66DNA\\u7ec4_\\u5ba2\\u6237\\u6765\\u8bbf\\u63a5\\u5f85\\u6570\", \"x\": [\"8-3\", \"8-4\", \"9-1\", \"9-2\", \"9-3\"], \"y\": [1.0, 0.0, 0.0, 0.0, 1.0], \"type\": \"scatter\", \"uid\": \"eac5ac94-c202-11e8-90be-509a4c0f1ffc\"}, {\"name\": \"\\u86cb\\u767d\\u548c\\u533b\\u5b66\\u7ec4_\\u7535\\u8bdd\\u4f1a\\u8bae\\u6b21\\u6570\", \"x\": [\"8-3\", \"8-4\", \"9-1\", \"9-2\", \"9-3\"], \"y\": [4.0, 0.0, 0.0, 2.0, 3.0], \"type\": \"scatter\", \"uid\": \"eac5ac95-c202-11e8-b6bb-509a4c0f1ffc\"}, {\"name\": \"\\u86cb\\u767d\\u548c\\u533b\\u5b66\\u7ec4_\\u5916\\u51fa\\u6280\\u672f\\u652f\\u6301\\u6570\", \"x\": [\"8-3\", \"8-4\", \"9-1\", \"9-2\", \"9-3\"], \"y\": [0.0, 0.0, 0.0, 0.0, 0.0], \"type\": \"scatter\", \"uid\": \"eac5ac96-c202-11e8-a1a3-509a4c0f1ffc\"}, {\"name\": \"\\u86cb\\u767d\\u548c\\u533b\\u5b66\\u7ec4_\\u5ba2\\u6237\\u6765\\u8bbf\\u63a5\\u5f85\\u6570\", \"x\": [\"8-3\", \"8-4\", \"9-1\", \"9-2\", \"9-3\"], \"y\": [2.0, 0.0, 0.0, 0.0, 0.0], \"type\": \"scatter\", \"uid\": \"eac5ac97-c202-11e8-beec-509a4c0f1ffc\"}, {\"name\": \"\\u8f6c\\u5f55\\u8c03\\u63a7\\u7ec4_\\u7535\\u8bdd\\u4f1a\\u8bae\\u6b21\\u6570\", \"x\": [\"8-3\", \"8-4\", \"9-1\", \"9-2\", \"9-3\"], \"y\": [4.0, 2.0, 1.0, 3.0, 2.0], \"type\": \"scatter\", \"uid\": \"eac5ac98-c202-11e8-940f-509a4c0f1ffc\"}, {\"name\": \"\\u8f6c\\u5f55\\u8c03\\u63a7\\u7ec4_\\u5916\\u51fa\\u6280\\u672f\\u652f\\u6301\\u6570\", \"x\": [\"8-3\", \"8-4\", \"9-1\", \"9-2\", \"9-3\"], \"y\": [0.0, 0.0, 0.0, 0.0, 0.0], \"type\": \"scatter\", \"uid\": \"eac5ac99-c202-11e8-8c7f-509a4c0f1ffc\"}, {\"name\": \"\\u8f6c\\u5f55\\u8c03\\u63a7\\u7ec4_\\u5ba2\\u6237\\u6765\\u8bbf\\u63a5\\u5f85\\u6570\", \"x\": [\"8-3\", \"8-4\", \"9-1\", \"9-2\", \"9-3\"], \"y\": [0.0, 0.0, 0.0, 0.0, 0.0], \"type\": \"scatter\", \"uid\": \"eac5ac9a-c202-11e8-8e2c-509a4c0f1ffc\"}],\n",
       "            {\"title\": \"\\u7535\\u8bdd\\u4f1a\\u8bae\\u6b21\\u6570&\\u5916\\u51fa\\u6280\\u672f\\u652f\\u6301\\u6570&\\u5ba2\\u6237\\u6765\\u8bbf\\u63a5\\u5f85\\u6570\\u5468\\u8d8b\\u52bf\\u56fe\", \"xaxis\": {\"mirror\": \"all\", \"nticks\": 20, \"showgrid\": true, \"showline\": true, \"title\": \"\\u5468\", \"zeroline\": true}, \"yaxis\": {\"mirror\": \"all\", \"nticks\": 20, \"showgrid\": true, \"showline\": true, \"title\": \"\\u7535\\u8bdd\\u4f1a\\u8bae\\u6b21\\u6570&\\u5916\\u51fa\\u6280\\u672f\\u652f\\u6301\\u6570&\\u5ba2\\u6237\\u6765\\u8bbf\\u63a5\\u5f85\\u6570\", \"zeroline\": true}},\n",
       "            {\"showLink\": true, \"linkText\": \"Export to plot.ly\"}\n",
       "        ).then(function () {return Plotly.addFrames('c8d869b5-01ae-45fd-b7b3-a796b6b178af',{});}).then(function(){Plotly.animate('c8d869b5-01ae-45fd-b7b3-a796b6b178af');})\n",
       "        });</script>"
      ]
     },
     "metadata": {},
     "output_type": "display_data"
    },
    {
     "data": {
      "application/vnd.plotly.v1+json": {
       "data": [
        {
         "name": "生物学DNA组_电话会议次数",
         "type": "scatter",
         "uid": "ead8e674-c202-11e8-b33a-509a4c0f1ffc",
         "x": [
          "8",
          "9"
         ],
         "y": [
          4,
          10
         ]
        },
        {
         "name": "生物学DNA组_外出技术支持数",
         "type": "scatter",
         "uid": "ead8e675-c202-11e8-98b3-509a4c0f1ffc",
         "x": [
          "8",
          "9"
         ],
         "y": [
          0,
          0
         ]
        },
        {
         "name": "生物学DNA组_客户来访接待数",
         "type": "scatter",
         "uid": "ead8e676-c202-11e8-b18d-509a4c0f1ffc",
         "x": [
          "8",
          "9"
         ],
         "y": [
          1,
          1
         ]
        },
        {
         "name": "蛋白和医学组_电话会议次数",
         "type": "scatter",
         "uid": "ead8e677-c202-11e8-80cf-509a4c0f1ffc",
         "x": [
          "8",
          "9"
         ],
         "y": [
          4,
          5
         ]
        },
        {
         "name": "蛋白和医学组_外出技术支持数",
         "type": "scatter",
         "uid": "ead8e678-c202-11e8-82d4-509a4c0f1ffc",
         "x": [
          "8",
          "9"
         ],
         "y": [
          0,
          0
         ]
        },
        {
         "name": "蛋白和医学组_客户来访接待数",
         "type": "scatter",
         "uid": "ead8e679-c202-11e8-9fd7-509a4c0f1ffc",
         "x": [
          "8",
          "9"
         ],
         "y": [
          2,
          0
         ]
        },
        {
         "name": "转录调控组_电话会议次数",
         "type": "scatter",
         "uid": "ead8e67a-c202-11e8-a703-509a4c0f1ffc",
         "x": [
          "8",
          "9"
         ],
         "y": [
          6,
          6
         ]
        },
        {
         "name": "转录调控组_外出技术支持数",
         "type": "scatter",
         "uid": "ead8e67b-c202-11e8-995a-509a4c0f1ffc",
         "x": [
          "8",
          "9"
         ],
         "y": [
          0,
          0
         ]
        },
        {
         "name": "转录调控组_客户来访接待数",
         "type": "scatter",
         "uid": "ead8e67c-c202-11e8-903d-509a4c0f1ffc",
         "x": [
          "8",
          "9"
         ],
         "y": [
          0,
          0
         ]
        }
       ],
       "layout": {
        "title": "电话会议次数&外出技术支持数&客户来访接待数月趋势图",
        "xaxis": {
         "mirror": "all",
         "nticks": 20,
         "showgrid": true,
         "showline": true,
         "title": "月",
         "zeroline": true
        },
        "yaxis": {
         "mirror": "all",
         "nticks": 20,
         "showgrid": true,
         "showline": true,
         "title": "电话会议次数&外出技术支持数&客户来访接待数",
         "zeroline": true
        }
       }
      },
      "text/html": [
       "<div id=\"16696704-2cf0-41d9-9396-dd0556673d19\" style=\"height: 525px; width: 100%;\" class=\"plotly-graph-div\"></div><script type=\"text/javascript\">require([\"plotly\"], function(Plotly) { window.PLOTLYENV=window.PLOTLYENV || {};window.PLOTLYENV.BASE_URL=\"https://plot.ly\";\n",
       "        Plotly.plot(\n",
       "            '16696704-2cf0-41d9-9396-dd0556673d19',\n",
       "            [{\"name\": \"\\u751f\\u7269\\u5b66DNA\\u7ec4_\\u7535\\u8bdd\\u4f1a\\u8bae\\u6b21\\u6570\", \"x\": [\"8\", \"9\"], \"y\": [4.0, 10.0], \"type\": \"scatter\", \"uid\": \"ead8e674-c202-11e8-b33a-509a4c0f1ffc\"}, {\"name\": \"\\u751f\\u7269\\u5b66DNA\\u7ec4_\\u5916\\u51fa\\u6280\\u672f\\u652f\\u6301\\u6570\", \"x\": [\"8\", \"9\"], \"y\": [0.0, 0.0], \"type\": \"scatter\", \"uid\": \"ead8e675-c202-11e8-98b3-509a4c0f1ffc\"}, {\"name\": \"\\u751f\\u7269\\u5b66DNA\\u7ec4_\\u5ba2\\u6237\\u6765\\u8bbf\\u63a5\\u5f85\\u6570\", \"x\": [\"8\", \"9\"], \"y\": [1.0, 1.0], \"type\": \"scatter\", \"uid\": \"ead8e676-c202-11e8-b18d-509a4c0f1ffc\"}, {\"name\": \"\\u86cb\\u767d\\u548c\\u533b\\u5b66\\u7ec4_\\u7535\\u8bdd\\u4f1a\\u8bae\\u6b21\\u6570\", \"x\": [\"8\", \"9\"], \"y\": [4.0, 5.0], \"type\": \"scatter\", \"uid\": \"ead8e677-c202-11e8-80cf-509a4c0f1ffc\"}, {\"name\": \"\\u86cb\\u767d\\u548c\\u533b\\u5b66\\u7ec4_\\u5916\\u51fa\\u6280\\u672f\\u652f\\u6301\\u6570\", \"x\": [\"8\", \"9\"], \"y\": [0.0, 0.0], \"type\": \"scatter\", \"uid\": \"ead8e678-c202-11e8-82d4-509a4c0f1ffc\"}, {\"name\": \"\\u86cb\\u767d\\u548c\\u533b\\u5b66\\u7ec4_\\u5ba2\\u6237\\u6765\\u8bbf\\u63a5\\u5f85\\u6570\", \"x\": [\"8\", \"9\"], \"y\": [2.0, 0.0], \"type\": \"scatter\", \"uid\": \"ead8e679-c202-11e8-9fd7-509a4c0f1ffc\"}, {\"name\": \"\\u8f6c\\u5f55\\u8c03\\u63a7\\u7ec4_\\u7535\\u8bdd\\u4f1a\\u8bae\\u6b21\\u6570\", \"x\": [\"8\", \"9\"], \"y\": [6.0, 6.0], \"type\": \"scatter\", \"uid\": \"ead8e67a-c202-11e8-a703-509a4c0f1ffc\"}, {\"name\": \"\\u8f6c\\u5f55\\u8c03\\u63a7\\u7ec4_\\u5916\\u51fa\\u6280\\u672f\\u652f\\u6301\\u6570\", \"x\": [\"8\", \"9\"], \"y\": [0.0, 0.0], \"type\": \"scatter\", \"uid\": \"ead8e67b-c202-11e8-995a-509a4c0f1ffc\"}, {\"name\": \"\\u8f6c\\u5f55\\u8c03\\u63a7\\u7ec4_\\u5ba2\\u6237\\u6765\\u8bbf\\u63a5\\u5f85\\u6570\", \"x\": [\"8\", \"9\"], \"y\": [0.0, 0.0], \"type\": \"scatter\", \"uid\": \"ead8e67c-c202-11e8-903d-509a4c0f1ffc\"}],\n",
       "            {\"title\": \"\\u7535\\u8bdd\\u4f1a\\u8bae\\u6b21\\u6570&\\u5916\\u51fa\\u6280\\u672f\\u652f\\u6301\\u6570&\\u5ba2\\u6237\\u6765\\u8bbf\\u63a5\\u5f85\\u6570\\u6708\\u8d8b\\u52bf\\u56fe\", \"xaxis\": {\"mirror\": \"all\", \"nticks\": 20, \"showgrid\": true, \"showline\": true, \"title\": \"\\u6708\", \"zeroline\": true}, \"yaxis\": {\"mirror\": \"all\", \"nticks\": 20, \"showgrid\": true, \"showline\": true, \"title\": \"\\u7535\\u8bdd\\u4f1a\\u8bae\\u6b21\\u6570&\\u5916\\u51fa\\u6280\\u672f\\u652f\\u6301\\u6570&\\u5ba2\\u6237\\u6765\\u8bbf\\u63a5\\u5f85\\u6570\", \"zeroline\": true}},\n",
       "            {\"showLink\": true, \"linkText\": \"Export to plot.ly\"}\n",
       "        ).then(function () {return Plotly.addFrames('16696704-2cf0-41d9-9396-dd0556673d19',{});}).then(function(){Plotly.animate('16696704-2cf0-41d9-9396-dd0556673d19');})\n",
       "        });</script>"
      ],
      "text/vnd.plotly.v1+html": [
       "<div id=\"16696704-2cf0-41d9-9396-dd0556673d19\" style=\"height: 525px; width: 100%;\" class=\"plotly-graph-div\"></div><script type=\"text/javascript\">require([\"plotly\"], function(Plotly) { window.PLOTLYENV=window.PLOTLYENV || {};window.PLOTLYENV.BASE_URL=\"https://plot.ly\";\n",
       "        Plotly.plot(\n",
       "            '16696704-2cf0-41d9-9396-dd0556673d19',\n",
       "            [{\"name\": \"\\u751f\\u7269\\u5b66DNA\\u7ec4_\\u7535\\u8bdd\\u4f1a\\u8bae\\u6b21\\u6570\", \"x\": [\"8\", \"9\"], \"y\": [4.0, 10.0], \"type\": \"scatter\", \"uid\": \"ead8e674-c202-11e8-b33a-509a4c0f1ffc\"}, {\"name\": \"\\u751f\\u7269\\u5b66DNA\\u7ec4_\\u5916\\u51fa\\u6280\\u672f\\u652f\\u6301\\u6570\", \"x\": [\"8\", \"9\"], \"y\": [0.0, 0.0], \"type\": \"scatter\", \"uid\": \"ead8e675-c202-11e8-98b3-509a4c0f1ffc\"}, {\"name\": \"\\u751f\\u7269\\u5b66DNA\\u7ec4_\\u5ba2\\u6237\\u6765\\u8bbf\\u63a5\\u5f85\\u6570\", \"x\": [\"8\", \"9\"], \"y\": [1.0, 1.0], \"type\": \"scatter\", \"uid\": \"ead8e676-c202-11e8-b18d-509a4c0f1ffc\"}, {\"name\": \"\\u86cb\\u767d\\u548c\\u533b\\u5b66\\u7ec4_\\u7535\\u8bdd\\u4f1a\\u8bae\\u6b21\\u6570\", \"x\": [\"8\", \"9\"], \"y\": [4.0, 5.0], \"type\": \"scatter\", \"uid\": \"ead8e677-c202-11e8-80cf-509a4c0f1ffc\"}, {\"name\": \"\\u86cb\\u767d\\u548c\\u533b\\u5b66\\u7ec4_\\u5916\\u51fa\\u6280\\u672f\\u652f\\u6301\\u6570\", \"x\": [\"8\", \"9\"], \"y\": [0.0, 0.0], \"type\": \"scatter\", \"uid\": \"ead8e678-c202-11e8-82d4-509a4c0f1ffc\"}, {\"name\": \"\\u86cb\\u767d\\u548c\\u533b\\u5b66\\u7ec4_\\u5ba2\\u6237\\u6765\\u8bbf\\u63a5\\u5f85\\u6570\", \"x\": [\"8\", \"9\"], \"y\": [2.0, 0.0], \"type\": \"scatter\", \"uid\": \"ead8e679-c202-11e8-9fd7-509a4c0f1ffc\"}, {\"name\": \"\\u8f6c\\u5f55\\u8c03\\u63a7\\u7ec4_\\u7535\\u8bdd\\u4f1a\\u8bae\\u6b21\\u6570\", \"x\": [\"8\", \"9\"], \"y\": [6.0, 6.0], \"type\": \"scatter\", \"uid\": \"ead8e67a-c202-11e8-a703-509a4c0f1ffc\"}, {\"name\": \"\\u8f6c\\u5f55\\u8c03\\u63a7\\u7ec4_\\u5916\\u51fa\\u6280\\u672f\\u652f\\u6301\\u6570\", \"x\": [\"8\", \"9\"], \"y\": [0.0, 0.0], \"type\": \"scatter\", \"uid\": \"ead8e67b-c202-11e8-995a-509a4c0f1ffc\"}, {\"name\": \"\\u8f6c\\u5f55\\u8c03\\u63a7\\u7ec4_\\u5ba2\\u6237\\u6765\\u8bbf\\u63a5\\u5f85\\u6570\", \"x\": [\"8\", \"9\"], \"y\": [0.0, 0.0], \"type\": \"scatter\", \"uid\": \"ead8e67c-c202-11e8-903d-509a4c0f1ffc\"}],\n",
       "            {\"title\": \"\\u7535\\u8bdd\\u4f1a\\u8bae\\u6b21\\u6570&\\u5916\\u51fa\\u6280\\u672f\\u652f\\u6301\\u6570&\\u5ba2\\u6237\\u6765\\u8bbf\\u63a5\\u5f85\\u6570\\u6708\\u8d8b\\u52bf\\u56fe\", \"xaxis\": {\"mirror\": \"all\", \"nticks\": 20, \"showgrid\": true, \"showline\": true, \"title\": \"\\u6708\", \"zeroline\": true}, \"yaxis\": {\"mirror\": \"all\", \"nticks\": 20, \"showgrid\": true, \"showline\": true, \"title\": \"\\u7535\\u8bdd\\u4f1a\\u8bae\\u6b21\\u6570&\\u5916\\u51fa\\u6280\\u672f\\u652f\\u6301\\u6570&\\u5ba2\\u6237\\u6765\\u8bbf\\u63a5\\u5f85\\u6570\", \"zeroline\": true}},\n",
       "            {\"showLink\": true, \"linkText\": \"Export to plot.ly\"}\n",
       "        ).then(function () {return Plotly.addFrames('16696704-2cf0-41d9-9396-dd0556673d19',{});}).then(function(){Plotly.animate('16696704-2cf0-41d9-9396-dd0556673d19');})\n",
       "        });</script>"
      ]
     },
     "metadata": {},
     "output_type": "display_data"
    }
   ],
   "source": [
    "data_dict = {'电话会议次数': ['电话会议次数'], \\\n",
    "             '外出技术支持数': ['外出技术支持数'], '客户来访接待数': ['客户来访接待数']}\n",
    "myModule.plot( all_dict, data_dict, '组别' ,  'line' , all='')"
   ]
  },
  {
   "cell_type": "markdown",
   "metadata": {
    "hide_input": true
   },
   "source": [
    "## 个人情况"
   ]
  },
  {
   "cell_type": "markdown",
   "metadata": {},
   "source": [
    "### 下单情况"
   ]
  },
  {
   "cell_type": "markdown",
   "metadata": {},
   "source": [
    "\n",
    "#### 总下单数和完成下单数\n"
   ]
  },
  {
   "cell_type": "code",
   "execution_count": 60,
   "metadata": {},
   "outputs": [
    {
     "data": {
      "application/vnd.plotly.v1+json": {
       "data": [
        {
         "name": "刘江_总下单数",
         "type": "scatter",
         "uid": "eb8e2cb4-c202-11e8-aaab-509a4c0f1ffc",
         "x": [
          "8-3",
          "8-4",
          "9-1",
          "9-2",
          "9-3"
         ],
         "y": [
          7,
          8,
          7,
          8,
          5
         ]
        },
        {
         "name": "刘江_完成下单数",
         "type": "scatter",
         "uid": "eb8e2cb5-c202-11e8-97c3-509a4c0f1ffc",
         "x": [
          "8-3",
          "8-4",
          "9-1",
          "9-2",
          "9-3"
         ],
         "y": [
          4,
          10,
          7,
          7,
          5
         ]
        },
        {
         "name": "苏彦勋_总下单数",
         "type": "scatter",
         "uid": "eb8e2cb6-c202-11e8-a445-509a4c0f1ffc",
         "x": [
          "8-3",
          "8-4",
          "9-1",
          "9-2",
          "9-3"
         ],
         "y": [
          4,
          6,
          5,
          6,
          9
         ]
        },
        {
         "name": "苏彦勋_完成下单数",
         "type": "scatter",
         "uid": "eb8e2cb7-c202-11e8-b7ca-509a4c0f1ffc",
         "x": [
          "8-3",
          "8-4",
          "9-1",
          "9-2",
          "9-3"
         ],
         "y": [
          4,
          6,
          5,
          5,
          9
         ]
        },
        {
         "name": "姚盟成_总下单数",
         "type": "scatter",
         "uid": "eb8e2cb8-c202-11e8-aca6-509a4c0f1ffc",
         "x": [
          "8-3",
          "8-4",
          "9-1",
          "9-2",
          "9-3"
         ],
         "y": [
          4,
          4,
          4,
          5,
          4
         ]
        },
        {
         "name": "姚盟成_完成下单数",
         "type": "scatter",
         "uid": "eb8e2cb9-c202-11e8-a47f-509a4c0f1ffc",
         "x": [
          "8-3",
          "8-4",
          "9-1",
          "9-2",
          "9-3"
         ],
         "y": [
          4,
          3,
          4,
          5,
          4
         ]
        },
        {
         "name": "宋迎楠_总下单数",
         "type": "scatter",
         "uid": "eb8e2cba-c202-11e8-b579-509a4c0f1ffc",
         "x": [
          "8-3",
          "8-4",
          "9-1"
         ],
         "y": [
          4,
          3,
          4
         ]
        },
        {
         "name": "宋迎楠_完成下单数",
         "type": "scatter",
         "uid": "eb8e2cbb-c202-11e8-a848-509a4c0f1ffc",
         "x": [
          "8-3",
          "8-4",
          "9-1"
         ],
         "y": [
          3,
          3,
          4
         ]
        },
        {
         "name": "杨伟飞_总下单数",
         "type": "scatter",
         "uid": "eb8e2cbc-c202-11e8-823b-509a4c0f1ffc",
         "x": [
          "8-3",
          "8-4",
          "9-1",
          "9-2",
          "9-3"
         ],
         "y": [
          3,
          6,
          4,
          6,
          7
         ]
        },
        {
         "name": "杨伟飞_完成下单数",
         "type": "scatter",
         "uid": "eb8e2cbd-c202-11e8-9f64-509a4c0f1ffc",
         "x": [
          "8-3",
          "8-4",
          "9-1",
          "9-2",
          "9-3"
         ],
         "y": [
          1,
          5,
          8,
          5,
          7
         ]
        },
        {
         "name": "韩少怀_总下单数",
         "type": "scatter",
         "uid": "eb8e2cbe-c202-11e8-8f06-509a4c0f1ffc",
         "x": [
          "8-3",
          "8-4",
          "9-1",
          "9-2"
         ],
         "y": [
          3,
          4,
          4,
          5
         ]
        },
        {
         "name": "韩少怀_完成下单数",
         "type": "scatter",
         "uid": "eb8e2cbf-c202-11e8-b46a-509a4c0f1ffc",
         "x": [
          "8-3",
          "8-4",
          "9-1",
          "9-2"
         ],
         "y": [
          3,
          4,
          4,
          5
         ]
        },
        {
         "name": "于勇一_总下单数",
         "type": "scatter",
         "uid": "eb8e2cc0-c202-11e8-85ee-509a4c0f1ffc",
         "x": [
          "8-3",
          "8-4",
          "9-1",
          "9-2",
          "9-3"
         ],
         "y": [
          3,
          4,
          5,
          4,
          6
         ]
        },
        {
         "name": "于勇一_完成下单数",
         "type": "scatter",
         "uid": "eb8e2cc1-c202-11e8-be49-509a4c0f1ffc",
         "x": [
          "8-3",
          "8-4",
          "9-1",
          "9-2",
          "9-3"
         ],
         "y": [
          3,
          2,
          4,
          2,
          7
         ]
        },
        {
         "name": "李华云_总下单数",
         "type": "scatter",
         "uid": "eb8e2cc2-c202-11e8-97a1-509a4c0f1ffc",
         "x": [
          "8-3",
          "8-4",
          "9-1",
          "9-2",
          "9-3"
         ],
         "y": [
          5,
          3,
          5,
          5,
          5
         ]
        },
        {
         "name": "李华云_完成下单数",
         "type": "scatter",
         "uid": "eb8e2cc3-c202-11e8-8322-509a4c0f1ffc",
         "x": [
          "8-3",
          "8-4",
          "9-1",
          "9-2",
          "9-3"
         ],
         "y": [
          4,
          3,
          4,
          5,
          5
         ]
        },
        {
         "name": "刘慧玲_总下单数",
         "type": "scatter",
         "uid": "eb8e2cc4-c202-11e8-8eb9-509a4c0f1ffc",
         "x": [
          "8-3",
          "8-4",
          "9-1"
         ],
         "y": [
          4,
          4,
          5
         ]
        },
        {
         "name": "刘慧玲_完成下单数",
         "type": "scatter",
         "uid": "eb8e2cc5-c202-11e8-ae01-509a4c0f1ffc",
         "x": [
          "8-3",
          "8-4",
          "9-1"
         ],
         "y": [
          3,
          3,
          4
         ]
        },
        {
         "name": "孟昊_总下单数",
         "type": "scatter",
         "uid": "eb8e2cc6-c202-11e8-9027-509a4c0f1ffc",
         "x": [
          "8-3",
          "8-4",
          "9-1",
          "9-2",
          "9-3"
         ],
         "y": [
          4,
          4,
          2,
          3,
          5
         ]
        },
        {
         "name": "孟昊_完成下单数",
         "type": "scatter",
         "uid": "eb8e2cc7-c202-11e8-a29e-509a4c0f1ffc",
         "x": [
          "8-3",
          "8-4",
          "9-1",
          "9-2",
          "9-3"
         ],
         "y": [
          4,
          4,
          2,
          2,
          5
         ]
        },
        {
         "name": "于慧_总下单数",
         "type": "scatter",
         "uid": "eb8e2cc8-c202-11e8-8756-509a4c0f1ffc",
         "x": [
          "8-3",
          "8-4",
          "9-1",
          "9-2",
          "9-3"
         ],
         "y": [
          0,
          7,
          2,
          3,
          7
         ]
        },
        {
         "name": "于慧_完成下单数",
         "type": "scatter",
         "uid": "eb8e2cc9-c202-11e8-b041-509a4c0f1ffc",
         "x": [
          "8-3",
          "8-4",
          "9-1",
          "9-2",
          "9-3"
         ],
         "y": [
          0,
          7,
          1,
          3,
          7
         ]
        },
        {
         "name": "赵玥_总下单数",
         "type": "scatter",
         "uid": "eb8e2cca-c202-11e8-a684-509a4c0f1ffc",
         "x": [
          "8-3",
          "8-4",
          "9-1",
          "9-2"
         ],
         "y": [
          6,
          4,
          6,
          4
         ]
        },
        {
         "name": "赵玥_完成下单数",
         "type": "scatter",
         "uid": "eb8e2ccb-c202-11e8-8b8e-509a4c0f1ffc",
         "x": [
          "8-3",
          "8-4",
          "9-1",
          "9-2"
         ],
         "y": [
          6,
          4,
          4,
          4
         ]
        },
        {
         "name": "封彦杰_总下单数",
         "type": "scatter",
         "uid": "eb8e2ccc-c202-11e8-b217-509a4c0f1ffc",
         "x": [
          "8-3",
          "8-4",
          "9-1",
          "9-2",
          "9-3"
         ],
         "y": [
          9,
          6,
          5,
          4,
          8
         ]
        },
        {
         "name": "封彦杰_完成下单数",
         "type": "scatter",
         "uid": "eb8e2ccd-c202-11e8-be23-509a4c0f1ffc",
         "x": [
          "8-3",
          "8-4",
          "9-1",
          "9-2",
          "9-3"
         ],
         "y": [
          9,
          6,
          5,
          3,
          8
         ]
        },
        {
         "name": "谢德健_总下单数",
         "type": "scatter",
         "uid": "eb8e2cce-c202-11e8-81d3-509a4c0f1ffc",
         "x": [
          "8-3",
          "8-4",
          "9-2",
          "9-3"
         ],
         "y": [
          2,
          4,
          4,
          5
         ]
        },
        {
         "name": "谢德健_完成下单数",
         "type": "scatter",
         "uid": "eb8e2ccf-c202-11e8-9976-509a4c0f1ffc",
         "x": [
          "8-3",
          "8-4",
          "9-2",
          "9-3"
         ],
         "y": [
          1,
          4,
          3,
          5
         ]
        },
        {
         "name": "周杨_总下单数",
         "type": "scatter",
         "uid": "eb8e2cd0-c202-11e8-8e3c-509a4c0f1ffc",
         "x": [
          "8-3",
          "8-4",
          "9-1",
          "9-2",
          "9-3"
         ],
         "y": [
          2,
          6,
          4,
          4,
          7
         ]
        },
        {
         "name": "周杨_完成下单数",
         "type": "scatter",
         "uid": "eb8e2cd1-c202-11e8-9685-509a4c0f1ffc",
         "x": [
          "8-3",
          "8-4",
          "9-1",
          "9-2",
          "9-3"
         ],
         "y": [
          2,
          5,
          4,
          4,
          7
         ]
        },
        {
         "name": "张守伟_总下单数",
         "type": "scatter",
         "uid": "eb8e2cd2-c202-11e8-9af9-509a4c0f1ffc",
         "x": [
          "8-3",
          "8-4",
          "9-1",
          "9-2"
         ],
         "y": [
          4,
          4,
          4,
          3
         ]
        },
        {
         "name": "张守伟_完成下单数",
         "type": "scatter",
         "uid": "eb8e2cd3-c202-11e8-a392-509a4c0f1ffc",
         "x": [
          "8-3",
          "8-4",
          "9-1",
          "9-2"
         ],
         "y": [
          3,
          4,
          3,
          3
         ]
        },
        {
         "name": "路慧萍_总下单数",
         "type": "scatter",
         "uid": "eb8e2cd4-c202-11e8-a0f2-509a4c0f1ffc",
         "x": [
          "8-3",
          "8-4",
          "9-1",
          "9-2",
          "9-3"
         ],
         "y": [
          5,
          8,
          7,
          5,
          7
         ]
        },
        {
         "name": "路慧萍_完成下单数",
         "type": "scatter",
         "uid": "eb8e2cd5-c202-11e8-8889-509a4c0f1ffc",
         "x": [
          "8-3",
          "8-4",
          "9-1",
          "9-2",
          "9-3"
         ],
         "y": [
          5,
          8,
          6,
          5,
          5
         ]
        },
        {
         "name": "占伟_总下单数",
         "type": "scatter",
         "uid": "eb8e2cd6-c202-11e8-afa3-509a4c0f1ffc",
         "x": [
          "8-3",
          "8-4",
          "9-1",
          "9-2"
         ],
         "y": [
          4,
          6,
          7,
          8
         ]
        },
        {
         "name": "占伟_完成下单数",
         "type": "scatter",
         "uid": "eb8e2cd7-c202-11e8-9977-509a4c0f1ffc",
         "x": [
          "8-3",
          "8-4",
          "9-1",
          "9-2"
         ],
         "y": [
          2,
          3,
          7,
          8
         ]
        },
        {
         "name": "王宁_总下单数",
         "type": "scatter",
         "uid": "eb8e53c2-c202-11e8-b39c-509a4c0f1ffc",
         "x": [
          "8-3",
          "8-4",
          "9-1"
         ],
         "y": [
          6,
          6,
          6
         ]
        },
        {
         "name": "王宁_完成下单数",
         "type": "scatter",
         "uid": "eb8e53c3-c202-11e8-9cfa-509a4c0f1ffc",
         "x": [
          "8-3",
          "8-4",
          "9-1"
         ],
         "y": [
          6,
          6,
          7
         ]
        },
        {
         "name": "李庆原_总下单数",
         "type": "scatter",
         "uid": "eb8e53c4-c202-11e8-905d-509a4c0f1ffc",
         "x": [
          "8-3",
          "8-4",
          "9-1",
          "9-2",
          "9-3"
         ],
         "y": [
          2,
          5,
          3,
          3,
          6
         ]
        },
        {
         "name": "李庆原_完成下单数",
         "type": "scatter",
         "uid": "eb8e53c5-c202-11e8-affc-509a4c0f1ffc",
         "x": [
          "8-3",
          "8-4",
          "9-1",
          "9-2",
          "9-3"
         ],
         "y": [
          2,
          5,
          3,
          3,
          6
         ]
        },
        {
         "name": "范旭宁_总下单数",
         "type": "scatter",
         "uid": "eb8e53c6-c202-11e8-988e-509a4c0f1ffc",
         "x": [
          "8-3",
          "8-4",
          "9-1",
          "9-2"
         ],
         "y": [
          4,
          4,
          5,
          7
         ]
        },
        {
         "name": "范旭宁_完成下单数",
         "type": "scatter",
         "uid": "eb8e53c7-c202-11e8-952a-509a4c0f1ffc",
         "x": [
          "8-3",
          "8-4",
          "9-1",
          "9-2"
         ],
         "y": [
          3,
          3,
          4,
          7
         ]
        },
        {
         "name": "马潇_总下单数",
         "type": "scatter",
         "uid": "eb8e53c8-c202-11e8-9684-509a4c0f1ffc",
         "x": [
          "8-3",
          "8-4",
          "9-1",
          "9-2"
         ],
         "y": [
          5,
          3,
          4,
          5
         ]
        },
        {
         "name": "马潇_完成下单数",
         "type": "scatter",
         "uid": "eb8e53c9-c202-11e8-ae80-509a4c0f1ffc",
         "x": [
          "8-3",
          "8-4",
          "9-1",
          "9-2"
         ],
         "y": [
          3,
          3,
          4,
          5
         ]
        },
        {
         "name": "任雪_总下单数",
         "type": "scatter",
         "uid": "eb8e53ca-c202-11e8-afc1-509a4c0f1ffc",
         "x": [
          "8-4",
          "9-1",
          "9-2",
          "9-3"
         ],
         "y": [
          2,
          4,
          5,
          2
         ]
        },
        {
         "name": "任雪_完成下单数",
         "type": "scatter",
         "uid": "eb8e53cb-c202-11e8-8ec6-509a4c0f1ffc",
         "x": [
          "8-4",
          "9-1",
          "9-2",
          "9-3"
         ],
         "y": [
          2,
          3,
          4,
          0
         ]
        }
       ],
       "layout": {
        "title": "总下单数&完成下单数周趋势图",
        "xaxis": {
         "mirror": "all",
         "nticks": 20,
         "showgrid": true,
         "showline": true,
         "title": "周",
         "zeroline": true
        },
        "yaxis": {
         "mirror": "all",
         "nticks": 20,
         "showgrid": true,
         "showline": true,
         "title": "总下单数&完成下单数",
         "zeroline": true
        }
       }
      },
      "text/html": [
       "<div id=\"b682994e-9e4f-494a-a094-cca4abf5df08\" style=\"height: 525px; width: 100%;\" class=\"plotly-graph-div\"></div><script type=\"text/javascript\">require([\"plotly\"], function(Plotly) { window.PLOTLYENV=window.PLOTLYENV || {};window.PLOTLYENV.BASE_URL=\"https://plot.ly\";\n",
       "        Plotly.plot(\n",
       "            'b682994e-9e4f-494a-a094-cca4abf5df08',\n",
       "            [{\"name\": \"\\u5218\\u6c5f_\\u603b\\u4e0b\\u5355\\u6570\", \"x\": [\"8-3\", \"8-4\", \"9-1\", \"9-2\", \"9-3\"], \"y\": [7.0, 8.0, 7.0, 8.0, 5.0], \"type\": \"scatter\", \"uid\": \"eb8e2cb4-c202-11e8-aaab-509a4c0f1ffc\"}, {\"name\": \"\\u5218\\u6c5f_\\u5b8c\\u6210\\u4e0b\\u5355\\u6570\", \"x\": [\"8-3\", \"8-4\", \"9-1\", \"9-2\", \"9-3\"], \"y\": [4.0, 10.0, 7.0, 7.0, 5.0], \"type\": \"scatter\", \"uid\": \"eb8e2cb5-c202-11e8-97c3-509a4c0f1ffc\"}, {\"name\": \"\\u82cf\\u5f66\\u52cb_\\u603b\\u4e0b\\u5355\\u6570\", \"x\": [\"8-3\", \"8-4\", \"9-1\", \"9-2\", \"9-3\"], \"y\": [4.0, 6.0, 5.0, 6.0, 9.0], \"type\": \"scatter\", \"uid\": \"eb8e2cb6-c202-11e8-a445-509a4c0f1ffc\"}, {\"name\": \"\\u82cf\\u5f66\\u52cb_\\u5b8c\\u6210\\u4e0b\\u5355\\u6570\", \"x\": [\"8-3\", \"8-4\", \"9-1\", \"9-2\", \"9-3\"], \"y\": [4.0, 6.0, 5.0, 5.0, 9.0], \"type\": \"scatter\", \"uid\": \"eb8e2cb7-c202-11e8-b7ca-509a4c0f1ffc\"}, {\"name\": \"\\u59da\\u76df\\u6210_\\u603b\\u4e0b\\u5355\\u6570\", \"x\": [\"8-3\", \"8-4\", \"9-1\", \"9-2\", \"9-3\"], \"y\": [4.0, 4.0, 4.0, 5.0, 4.0], \"type\": \"scatter\", \"uid\": \"eb8e2cb8-c202-11e8-aca6-509a4c0f1ffc\"}, {\"name\": \"\\u59da\\u76df\\u6210_\\u5b8c\\u6210\\u4e0b\\u5355\\u6570\", \"x\": [\"8-3\", \"8-4\", \"9-1\", \"9-2\", \"9-3\"], \"y\": [4.0, 3.0, 4.0, 5.0, 4.0], \"type\": \"scatter\", \"uid\": \"eb8e2cb9-c202-11e8-a47f-509a4c0f1ffc\"}, {\"name\": \"\\u5b8b\\u8fce\\u6960_\\u603b\\u4e0b\\u5355\\u6570\", \"x\": [\"8-3\", \"8-4\", \"9-1\"], \"y\": [4.0, 3.0, 4.0], \"type\": \"scatter\", \"uid\": \"eb8e2cba-c202-11e8-b579-509a4c0f1ffc\"}, {\"name\": \"\\u5b8b\\u8fce\\u6960_\\u5b8c\\u6210\\u4e0b\\u5355\\u6570\", \"x\": [\"8-3\", \"8-4\", \"9-1\"], \"y\": [3.0, 3.0, 4.0], \"type\": \"scatter\", \"uid\": \"eb8e2cbb-c202-11e8-a848-509a4c0f1ffc\"}, {\"name\": \"\\u6768\\u4f1f\\u98de_\\u603b\\u4e0b\\u5355\\u6570\", \"x\": [\"8-3\", \"8-4\", \"9-1\", \"9-2\", \"9-3\"], \"y\": [3.0, 6.0, 4.0, 6.0, 7.0], \"type\": \"scatter\", \"uid\": \"eb8e2cbc-c202-11e8-823b-509a4c0f1ffc\"}, {\"name\": \"\\u6768\\u4f1f\\u98de_\\u5b8c\\u6210\\u4e0b\\u5355\\u6570\", \"x\": [\"8-3\", \"8-4\", \"9-1\", \"9-2\", \"9-3\"], \"y\": [1.0, 5.0, 8.0, 5.0, 7.0], \"type\": \"scatter\", \"uid\": \"eb8e2cbd-c202-11e8-9f64-509a4c0f1ffc\"}, {\"name\": \"\\u97e9\\u5c11\\u6000_\\u603b\\u4e0b\\u5355\\u6570\", \"x\": [\"8-3\", \"8-4\", \"9-1\", \"9-2\"], \"y\": [3.0, 4.0, 4.0, 5.0], \"type\": \"scatter\", \"uid\": \"eb8e2cbe-c202-11e8-8f06-509a4c0f1ffc\"}, {\"name\": \"\\u97e9\\u5c11\\u6000_\\u5b8c\\u6210\\u4e0b\\u5355\\u6570\", \"x\": [\"8-3\", \"8-4\", \"9-1\", \"9-2\"], \"y\": [3.0, 4.0, 4.0, 5.0], \"type\": \"scatter\", \"uid\": \"eb8e2cbf-c202-11e8-b46a-509a4c0f1ffc\"}, {\"name\": \"\\u4e8e\\u52c7\\u4e00_\\u603b\\u4e0b\\u5355\\u6570\", \"x\": [\"8-3\", \"8-4\", \"9-1\", \"9-2\", \"9-3\"], \"y\": [3.0, 4.0, 5.0, 4.0, 6.0], \"type\": \"scatter\", \"uid\": \"eb8e2cc0-c202-11e8-85ee-509a4c0f1ffc\"}, {\"name\": \"\\u4e8e\\u52c7\\u4e00_\\u5b8c\\u6210\\u4e0b\\u5355\\u6570\", \"x\": [\"8-3\", \"8-4\", \"9-1\", \"9-2\", \"9-3\"], \"y\": [3.0, 2.0, 4.0, 2.0, 7.0], \"type\": \"scatter\", \"uid\": \"eb8e2cc1-c202-11e8-be49-509a4c0f1ffc\"}, {\"name\": \"\\u674e\\u534e\\u4e91_\\u603b\\u4e0b\\u5355\\u6570\", \"x\": [\"8-3\", \"8-4\", \"9-1\", \"9-2\", \"9-3\"], \"y\": [5.0, 3.0, 5.0, 5.0, 5.0], \"type\": \"scatter\", \"uid\": \"eb8e2cc2-c202-11e8-97a1-509a4c0f1ffc\"}, {\"name\": \"\\u674e\\u534e\\u4e91_\\u5b8c\\u6210\\u4e0b\\u5355\\u6570\", \"x\": [\"8-3\", \"8-4\", \"9-1\", \"9-2\", \"9-3\"], \"y\": [4.0, 3.0, 4.0, 5.0, 5.0], \"type\": \"scatter\", \"uid\": \"eb8e2cc3-c202-11e8-8322-509a4c0f1ffc\"}, {\"name\": \"\\u5218\\u6167\\u73b2_\\u603b\\u4e0b\\u5355\\u6570\", \"x\": [\"8-3\", \"8-4\", \"9-1\"], \"y\": [4.0, 4.0, 5.0], \"type\": \"scatter\", \"uid\": \"eb8e2cc4-c202-11e8-8eb9-509a4c0f1ffc\"}, {\"name\": \"\\u5218\\u6167\\u73b2_\\u5b8c\\u6210\\u4e0b\\u5355\\u6570\", \"x\": [\"8-3\", \"8-4\", \"9-1\"], \"y\": [3.0, 3.0, 4.0], \"type\": \"scatter\", \"uid\": \"eb8e2cc5-c202-11e8-ae01-509a4c0f1ffc\"}, {\"name\": \"\\u5b5f\\u660a_\\u603b\\u4e0b\\u5355\\u6570\", \"x\": [\"8-3\", \"8-4\", \"9-1\", \"9-2\", \"9-3\"], \"y\": [4.0, 4.0, 2.0, 3.0, 5.0], \"type\": \"scatter\", \"uid\": \"eb8e2cc6-c202-11e8-9027-509a4c0f1ffc\"}, {\"name\": \"\\u5b5f\\u660a_\\u5b8c\\u6210\\u4e0b\\u5355\\u6570\", \"x\": [\"8-3\", \"8-4\", \"9-1\", \"9-2\", \"9-3\"], \"y\": [4.0, 4.0, 2.0, 2.0, 5.0], \"type\": \"scatter\", \"uid\": \"eb8e2cc7-c202-11e8-a29e-509a4c0f1ffc\"}, {\"name\": \"\\u4e8e\\u6167_\\u603b\\u4e0b\\u5355\\u6570\", \"x\": [\"8-3\", \"8-4\", \"9-1\", \"9-2\", \"9-3\"], \"y\": [0.0, 7.0, 2.0, 3.0, 7.0], \"type\": \"scatter\", \"uid\": \"eb8e2cc8-c202-11e8-8756-509a4c0f1ffc\"}, {\"name\": \"\\u4e8e\\u6167_\\u5b8c\\u6210\\u4e0b\\u5355\\u6570\", \"x\": [\"8-3\", \"8-4\", \"9-1\", \"9-2\", \"9-3\"], \"y\": [0.0, 7.0, 1.0, 3.0, 7.0], \"type\": \"scatter\", \"uid\": \"eb8e2cc9-c202-11e8-b041-509a4c0f1ffc\"}, {\"name\": \"\\u8d75\\u73a5_\\u603b\\u4e0b\\u5355\\u6570\", \"x\": [\"8-3\", \"8-4\", \"9-1\", \"9-2\"], \"y\": [6.0, 4.0, 6.0, 4.0], \"type\": \"scatter\", \"uid\": \"eb8e2cca-c202-11e8-a684-509a4c0f1ffc\"}, {\"name\": \"\\u8d75\\u73a5_\\u5b8c\\u6210\\u4e0b\\u5355\\u6570\", \"x\": [\"8-3\", \"8-4\", \"9-1\", \"9-2\"], \"y\": [6.0, 4.0, 4.0, 4.0], \"type\": \"scatter\", \"uid\": \"eb8e2ccb-c202-11e8-8b8e-509a4c0f1ffc\"}, {\"name\": \"\\u5c01\\u5f66\\u6770_\\u603b\\u4e0b\\u5355\\u6570\", \"x\": [\"8-3\", \"8-4\", \"9-1\", \"9-2\", \"9-3\"], \"y\": [9.0, 6.0, 5.0, 4.0, 8.0], \"type\": \"scatter\", \"uid\": \"eb8e2ccc-c202-11e8-b217-509a4c0f1ffc\"}, {\"name\": \"\\u5c01\\u5f66\\u6770_\\u5b8c\\u6210\\u4e0b\\u5355\\u6570\", \"x\": [\"8-3\", \"8-4\", \"9-1\", \"9-2\", \"9-3\"], \"y\": [9.0, 6.0, 5.0, 3.0, 8.0], \"type\": \"scatter\", \"uid\": \"eb8e2ccd-c202-11e8-be23-509a4c0f1ffc\"}, {\"name\": \"\\u8c22\\u5fb7\\u5065_\\u603b\\u4e0b\\u5355\\u6570\", \"x\": [\"8-3\", \"8-4\", \"9-2\", \"9-3\"], \"y\": [2.0, 4.0, 4.0, 5.0], \"type\": \"scatter\", \"uid\": \"eb8e2cce-c202-11e8-81d3-509a4c0f1ffc\"}, {\"name\": \"\\u8c22\\u5fb7\\u5065_\\u5b8c\\u6210\\u4e0b\\u5355\\u6570\", \"x\": [\"8-3\", \"8-4\", \"9-2\", \"9-3\"], \"y\": [1.0, 4.0, 3.0, 5.0], \"type\": \"scatter\", \"uid\": \"eb8e2ccf-c202-11e8-9976-509a4c0f1ffc\"}, {\"name\": \"\\u5468\\u6768_\\u603b\\u4e0b\\u5355\\u6570\", \"x\": [\"8-3\", \"8-4\", \"9-1\", \"9-2\", \"9-3\"], \"y\": [2.0, 6.0, 4.0, 4.0, 7.0], \"type\": \"scatter\", \"uid\": \"eb8e2cd0-c202-11e8-8e3c-509a4c0f1ffc\"}, {\"name\": \"\\u5468\\u6768_\\u5b8c\\u6210\\u4e0b\\u5355\\u6570\", \"x\": [\"8-3\", \"8-4\", \"9-1\", \"9-2\", \"9-3\"], \"y\": [2.0, 5.0, 4.0, 4.0, 7.0], \"type\": \"scatter\", \"uid\": \"eb8e2cd1-c202-11e8-9685-509a4c0f1ffc\"}, {\"name\": \"\\u5f20\\u5b88\\u4f1f_\\u603b\\u4e0b\\u5355\\u6570\", \"x\": [\"8-3\", \"8-4\", \"9-1\", \"9-2\"], \"y\": [4.0, 4.0, 4.0, 3.0], \"type\": \"scatter\", \"uid\": \"eb8e2cd2-c202-11e8-9af9-509a4c0f1ffc\"}, {\"name\": \"\\u5f20\\u5b88\\u4f1f_\\u5b8c\\u6210\\u4e0b\\u5355\\u6570\", \"x\": [\"8-3\", \"8-4\", \"9-1\", \"9-2\"], \"y\": [3.0, 4.0, 3.0, 3.0], \"type\": \"scatter\", \"uid\": \"eb8e2cd3-c202-11e8-a392-509a4c0f1ffc\"}, {\"name\": \"\\u8def\\u6167\\u840d_\\u603b\\u4e0b\\u5355\\u6570\", \"x\": [\"8-3\", \"8-4\", \"9-1\", \"9-2\", \"9-3\"], \"y\": [5.0, 8.0, 7.0, 5.0, 7.0], \"type\": \"scatter\", \"uid\": \"eb8e2cd4-c202-11e8-a0f2-509a4c0f1ffc\"}, {\"name\": \"\\u8def\\u6167\\u840d_\\u5b8c\\u6210\\u4e0b\\u5355\\u6570\", \"x\": [\"8-3\", \"8-4\", \"9-1\", \"9-2\", \"9-3\"], \"y\": [5.0, 8.0, 6.0, 5.0, 5.0], \"type\": \"scatter\", \"uid\": \"eb8e2cd5-c202-11e8-8889-509a4c0f1ffc\"}, {\"name\": \"\\u5360\\u4f1f_\\u603b\\u4e0b\\u5355\\u6570\", \"x\": [\"8-3\", \"8-4\", \"9-1\", \"9-2\"], \"y\": [4.0, 6.0, 7.0, 8.0], \"type\": \"scatter\", \"uid\": \"eb8e2cd6-c202-11e8-afa3-509a4c0f1ffc\"}, {\"name\": \"\\u5360\\u4f1f_\\u5b8c\\u6210\\u4e0b\\u5355\\u6570\", \"x\": [\"8-3\", \"8-4\", \"9-1\", \"9-2\"], \"y\": [2.0, 3.0, 7.0, 8.0], \"type\": \"scatter\", \"uid\": \"eb8e2cd7-c202-11e8-9977-509a4c0f1ffc\"}, {\"name\": \"\\u738b\\u5b81_\\u603b\\u4e0b\\u5355\\u6570\", \"x\": [\"8-3\", \"8-4\", \"9-1\"], \"y\": [6.0, 6.0, 6.0], \"type\": \"scatter\", \"uid\": \"eb8e53c2-c202-11e8-b39c-509a4c0f1ffc\"}, {\"name\": \"\\u738b\\u5b81_\\u5b8c\\u6210\\u4e0b\\u5355\\u6570\", \"x\": [\"8-3\", \"8-4\", \"9-1\"], \"y\": [6.0, 6.0, 7.0], \"type\": \"scatter\", \"uid\": \"eb8e53c3-c202-11e8-9cfa-509a4c0f1ffc\"}, {\"name\": \"\\u674e\\u5e86\\u539f_\\u603b\\u4e0b\\u5355\\u6570\", \"x\": [\"8-3\", \"8-4\", \"9-1\", \"9-2\", \"9-3\"], \"y\": [2.0, 5.0, 3.0, 3.0, 6.0], \"type\": \"scatter\", \"uid\": \"eb8e53c4-c202-11e8-905d-509a4c0f1ffc\"}, {\"name\": \"\\u674e\\u5e86\\u539f_\\u5b8c\\u6210\\u4e0b\\u5355\\u6570\", \"x\": [\"8-3\", \"8-4\", \"9-1\", \"9-2\", \"9-3\"], \"y\": [2.0, 5.0, 3.0, 3.0, 6.0], \"type\": \"scatter\", \"uid\": \"eb8e53c5-c202-11e8-affc-509a4c0f1ffc\"}, {\"name\": \"\\u8303\\u65ed\\u5b81_\\u603b\\u4e0b\\u5355\\u6570\", \"x\": [\"8-3\", \"8-4\", \"9-1\", \"9-2\"], \"y\": [4.0, 4.0, 5.0, 7.0], \"type\": \"scatter\", \"uid\": \"eb8e53c6-c202-11e8-988e-509a4c0f1ffc\"}, {\"name\": \"\\u8303\\u65ed\\u5b81_\\u5b8c\\u6210\\u4e0b\\u5355\\u6570\", \"x\": [\"8-3\", \"8-4\", \"9-1\", \"9-2\"], \"y\": [3.0, 3.0, 4.0, 7.0], \"type\": \"scatter\", \"uid\": \"eb8e53c7-c202-11e8-952a-509a4c0f1ffc\"}, {\"name\": \"\\u9a6c\\u6f47_\\u603b\\u4e0b\\u5355\\u6570\", \"x\": [\"8-3\", \"8-4\", \"9-1\", \"9-2\"], \"y\": [5.0, 3.0, 4.0, 5.0], \"type\": \"scatter\", \"uid\": \"eb8e53c8-c202-11e8-9684-509a4c0f1ffc\"}, {\"name\": \"\\u9a6c\\u6f47_\\u5b8c\\u6210\\u4e0b\\u5355\\u6570\", \"x\": [\"8-3\", \"8-4\", \"9-1\", \"9-2\"], \"y\": [3.0, 3.0, 4.0, 5.0], \"type\": \"scatter\", \"uid\": \"eb8e53c9-c202-11e8-ae80-509a4c0f1ffc\"}, {\"name\": \"\\u4efb\\u96ea_\\u603b\\u4e0b\\u5355\\u6570\", \"x\": [\"8-4\", \"9-1\", \"9-2\", \"9-3\"], \"y\": [2.0, 4.0, 5.0, 2.0], \"type\": \"scatter\", \"uid\": \"eb8e53ca-c202-11e8-afc1-509a4c0f1ffc\"}, {\"name\": \"\\u4efb\\u96ea_\\u5b8c\\u6210\\u4e0b\\u5355\\u6570\", \"x\": [\"8-4\", \"9-1\", \"9-2\", \"9-3\"], \"y\": [2.0, 3.0, 4.0, 0.0], \"type\": \"scatter\", \"uid\": \"eb8e53cb-c202-11e8-8ec6-509a4c0f1ffc\"}],\n",
       "            {\"title\": \"\\u603b\\u4e0b\\u5355\\u6570&\\u5b8c\\u6210\\u4e0b\\u5355\\u6570\\u5468\\u8d8b\\u52bf\\u56fe\", \"xaxis\": {\"mirror\": \"all\", \"nticks\": 20, \"showgrid\": true, \"showline\": true, \"title\": \"\\u5468\", \"zeroline\": true}, \"yaxis\": {\"mirror\": \"all\", \"nticks\": 20, \"showgrid\": true, \"showline\": true, \"title\": \"\\u603b\\u4e0b\\u5355\\u6570&\\u5b8c\\u6210\\u4e0b\\u5355\\u6570\", \"zeroline\": true}},\n",
       "            {\"showLink\": true, \"linkText\": \"Export to plot.ly\"}\n",
       "        ).then(function () {return Plotly.addFrames('b682994e-9e4f-494a-a094-cca4abf5df08',{});}).then(function(){Plotly.animate('b682994e-9e4f-494a-a094-cca4abf5df08');})\n",
       "        });</script>"
      ],
      "text/vnd.plotly.v1+html": [
       "<div id=\"b682994e-9e4f-494a-a094-cca4abf5df08\" style=\"height: 525px; width: 100%;\" class=\"plotly-graph-div\"></div><script type=\"text/javascript\">require([\"plotly\"], function(Plotly) { window.PLOTLYENV=window.PLOTLYENV || {};window.PLOTLYENV.BASE_URL=\"https://plot.ly\";\n",
       "        Plotly.plot(\n",
       "            'b682994e-9e4f-494a-a094-cca4abf5df08',\n",
       "            [{\"name\": \"\\u5218\\u6c5f_\\u603b\\u4e0b\\u5355\\u6570\", \"x\": [\"8-3\", \"8-4\", \"9-1\", \"9-2\", \"9-3\"], \"y\": [7.0, 8.0, 7.0, 8.0, 5.0], \"type\": \"scatter\", \"uid\": \"eb8e2cb4-c202-11e8-aaab-509a4c0f1ffc\"}, {\"name\": \"\\u5218\\u6c5f_\\u5b8c\\u6210\\u4e0b\\u5355\\u6570\", \"x\": [\"8-3\", \"8-4\", \"9-1\", \"9-2\", \"9-3\"], \"y\": [4.0, 10.0, 7.0, 7.0, 5.0], \"type\": \"scatter\", \"uid\": \"eb8e2cb5-c202-11e8-97c3-509a4c0f1ffc\"}, {\"name\": \"\\u82cf\\u5f66\\u52cb_\\u603b\\u4e0b\\u5355\\u6570\", \"x\": [\"8-3\", \"8-4\", \"9-1\", \"9-2\", \"9-3\"], \"y\": [4.0, 6.0, 5.0, 6.0, 9.0], \"type\": \"scatter\", \"uid\": \"eb8e2cb6-c202-11e8-a445-509a4c0f1ffc\"}, {\"name\": \"\\u82cf\\u5f66\\u52cb_\\u5b8c\\u6210\\u4e0b\\u5355\\u6570\", \"x\": [\"8-3\", \"8-4\", \"9-1\", \"9-2\", \"9-3\"], \"y\": [4.0, 6.0, 5.0, 5.0, 9.0], \"type\": \"scatter\", \"uid\": \"eb8e2cb7-c202-11e8-b7ca-509a4c0f1ffc\"}, {\"name\": \"\\u59da\\u76df\\u6210_\\u603b\\u4e0b\\u5355\\u6570\", \"x\": [\"8-3\", \"8-4\", \"9-1\", \"9-2\", \"9-3\"], \"y\": [4.0, 4.0, 4.0, 5.0, 4.0], \"type\": \"scatter\", \"uid\": \"eb8e2cb8-c202-11e8-aca6-509a4c0f1ffc\"}, {\"name\": \"\\u59da\\u76df\\u6210_\\u5b8c\\u6210\\u4e0b\\u5355\\u6570\", \"x\": [\"8-3\", \"8-4\", \"9-1\", \"9-2\", \"9-3\"], \"y\": [4.0, 3.0, 4.0, 5.0, 4.0], \"type\": \"scatter\", \"uid\": \"eb8e2cb9-c202-11e8-a47f-509a4c0f1ffc\"}, {\"name\": \"\\u5b8b\\u8fce\\u6960_\\u603b\\u4e0b\\u5355\\u6570\", \"x\": [\"8-3\", \"8-4\", \"9-1\"], \"y\": [4.0, 3.0, 4.0], \"type\": \"scatter\", \"uid\": \"eb8e2cba-c202-11e8-b579-509a4c0f1ffc\"}, {\"name\": \"\\u5b8b\\u8fce\\u6960_\\u5b8c\\u6210\\u4e0b\\u5355\\u6570\", \"x\": [\"8-3\", \"8-4\", \"9-1\"], \"y\": [3.0, 3.0, 4.0], \"type\": \"scatter\", \"uid\": \"eb8e2cbb-c202-11e8-a848-509a4c0f1ffc\"}, {\"name\": \"\\u6768\\u4f1f\\u98de_\\u603b\\u4e0b\\u5355\\u6570\", \"x\": [\"8-3\", \"8-4\", \"9-1\", \"9-2\", \"9-3\"], \"y\": [3.0, 6.0, 4.0, 6.0, 7.0], \"type\": \"scatter\", \"uid\": \"eb8e2cbc-c202-11e8-823b-509a4c0f1ffc\"}, {\"name\": \"\\u6768\\u4f1f\\u98de_\\u5b8c\\u6210\\u4e0b\\u5355\\u6570\", \"x\": [\"8-3\", \"8-4\", \"9-1\", \"9-2\", \"9-3\"], \"y\": [1.0, 5.0, 8.0, 5.0, 7.0], \"type\": \"scatter\", \"uid\": \"eb8e2cbd-c202-11e8-9f64-509a4c0f1ffc\"}, {\"name\": \"\\u97e9\\u5c11\\u6000_\\u603b\\u4e0b\\u5355\\u6570\", \"x\": [\"8-3\", \"8-4\", \"9-1\", \"9-2\"], \"y\": [3.0, 4.0, 4.0, 5.0], \"type\": \"scatter\", \"uid\": \"eb8e2cbe-c202-11e8-8f06-509a4c0f1ffc\"}, {\"name\": \"\\u97e9\\u5c11\\u6000_\\u5b8c\\u6210\\u4e0b\\u5355\\u6570\", \"x\": [\"8-3\", \"8-4\", \"9-1\", \"9-2\"], \"y\": [3.0, 4.0, 4.0, 5.0], \"type\": \"scatter\", \"uid\": \"eb8e2cbf-c202-11e8-b46a-509a4c0f1ffc\"}, {\"name\": \"\\u4e8e\\u52c7\\u4e00_\\u603b\\u4e0b\\u5355\\u6570\", \"x\": [\"8-3\", \"8-4\", \"9-1\", \"9-2\", \"9-3\"], \"y\": [3.0, 4.0, 5.0, 4.0, 6.0], \"type\": \"scatter\", \"uid\": \"eb8e2cc0-c202-11e8-85ee-509a4c0f1ffc\"}, {\"name\": \"\\u4e8e\\u52c7\\u4e00_\\u5b8c\\u6210\\u4e0b\\u5355\\u6570\", \"x\": [\"8-3\", \"8-4\", \"9-1\", \"9-2\", \"9-3\"], \"y\": [3.0, 2.0, 4.0, 2.0, 7.0], \"type\": \"scatter\", \"uid\": \"eb8e2cc1-c202-11e8-be49-509a4c0f1ffc\"}, {\"name\": \"\\u674e\\u534e\\u4e91_\\u603b\\u4e0b\\u5355\\u6570\", \"x\": [\"8-3\", \"8-4\", \"9-1\", \"9-2\", \"9-3\"], \"y\": [5.0, 3.0, 5.0, 5.0, 5.0], \"type\": \"scatter\", \"uid\": \"eb8e2cc2-c202-11e8-97a1-509a4c0f1ffc\"}, {\"name\": \"\\u674e\\u534e\\u4e91_\\u5b8c\\u6210\\u4e0b\\u5355\\u6570\", \"x\": [\"8-3\", \"8-4\", \"9-1\", \"9-2\", \"9-3\"], \"y\": [4.0, 3.0, 4.0, 5.0, 5.0], \"type\": \"scatter\", \"uid\": \"eb8e2cc3-c202-11e8-8322-509a4c0f1ffc\"}, {\"name\": \"\\u5218\\u6167\\u73b2_\\u603b\\u4e0b\\u5355\\u6570\", \"x\": [\"8-3\", \"8-4\", \"9-1\"], \"y\": [4.0, 4.0, 5.0], \"type\": \"scatter\", \"uid\": \"eb8e2cc4-c202-11e8-8eb9-509a4c0f1ffc\"}, {\"name\": \"\\u5218\\u6167\\u73b2_\\u5b8c\\u6210\\u4e0b\\u5355\\u6570\", \"x\": [\"8-3\", \"8-4\", \"9-1\"], \"y\": [3.0, 3.0, 4.0], \"type\": \"scatter\", \"uid\": \"eb8e2cc5-c202-11e8-ae01-509a4c0f1ffc\"}, {\"name\": \"\\u5b5f\\u660a_\\u603b\\u4e0b\\u5355\\u6570\", \"x\": [\"8-3\", \"8-4\", \"9-1\", \"9-2\", \"9-3\"], \"y\": [4.0, 4.0, 2.0, 3.0, 5.0], \"type\": \"scatter\", \"uid\": \"eb8e2cc6-c202-11e8-9027-509a4c0f1ffc\"}, {\"name\": \"\\u5b5f\\u660a_\\u5b8c\\u6210\\u4e0b\\u5355\\u6570\", \"x\": [\"8-3\", \"8-4\", \"9-1\", \"9-2\", \"9-3\"], \"y\": [4.0, 4.0, 2.0, 2.0, 5.0], \"type\": \"scatter\", \"uid\": \"eb8e2cc7-c202-11e8-a29e-509a4c0f1ffc\"}, {\"name\": \"\\u4e8e\\u6167_\\u603b\\u4e0b\\u5355\\u6570\", \"x\": [\"8-3\", \"8-4\", \"9-1\", \"9-2\", \"9-3\"], \"y\": [0.0, 7.0, 2.0, 3.0, 7.0], \"type\": \"scatter\", \"uid\": \"eb8e2cc8-c202-11e8-8756-509a4c0f1ffc\"}, {\"name\": \"\\u4e8e\\u6167_\\u5b8c\\u6210\\u4e0b\\u5355\\u6570\", \"x\": [\"8-3\", \"8-4\", \"9-1\", \"9-2\", \"9-3\"], \"y\": [0.0, 7.0, 1.0, 3.0, 7.0], \"type\": \"scatter\", \"uid\": \"eb8e2cc9-c202-11e8-b041-509a4c0f1ffc\"}, {\"name\": \"\\u8d75\\u73a5_\\u603b\\u4e0b\\u5355\\u6570\", \"x\": [\"8-3\", \"8-4\", \"9-1\", \"9-2\"], \"y\": [6.0, 4.0, 6.0, 4.0], \"type\": \"scatter\", \"uid\": \"eb8e2cca-c202-11e8-a684-509a4c0f1ffc\"}, {\"name\": \"\\u8d75\\u73a5_\\u5b8c\\u6210\\u4e0b\\u5355\\u6570\", \"x\": [\"8-3\", \"8-4\", \"9-1\", \"9-2\"], \"y\": [6.0, 4.0, 4.0, 4.0], \"type\": \"scatter\", \"uid\": \"eb8e2ccb-c202-11e8-8b8e-509a4c0f1ffc\"}, {\"name\": \"\\u5c01\\u5f66\\u6770_\\u603b\\u4e0b\\u5355\\u6570\", \"x\": [\"8-3\", \"8-4\", \"9-1\", \"9-2\", \"9-3\"], \"y\": [9.0, 6.0, 5.0, 4.0, 8.0], \"type\": \"scatter\", \"uid\": \"eb8e2ccc-c202-11e8-b217-509a4c0f1ffc\"}, {\"name\": \"\\u5c01\\u5f66\\u6770_\\u5b8c\\u6210\\u4e0b\\u5355\\u6570\", \"x\": [\"8-3\", \"8-4\", \"9-1\", \"9-2\", \"9-3\"], \"y\": [9.0, 6.0, 5.0, 3.0, 8.0], \"type\": \"scatter\", \"uid\": \"eb8e2ccd-c202-11e8-be23-509a4c0f1ffc\"}, {\"name\": \"\\u8c22\\u5fb7\\u5065_\\u603b\\u4e0b\\u5355\\u6570\", \"x\": [\"8-3\", \"8-4\", \"9-2\", \"9-3\"], \"y\": [2.0, 4.0, 4.0, 5.0], \"type\": \"scatter\", \"uid\": \"eb8e2cce-c202-11e8-81d3-509a4c0f1ffc\"}, {\"name\": \"\\u8c22\\u5fb7\\u5065_\\u5b8c\\u6210\\u4e0b\\u5355\\u6570\", \"x\": [\"8-3\", \"8-4\", \"9-2\", \"9-3\"], \"y\": [1.0, 4.0, 3.0, 5.0], \"type\": \"scatter\", \"uid\": \"eb8e2ccf-c202-11e8-9976-509a4c0f1ffc\"}, {\"name\": \"\\u5468\\u6768_\\u603b\\u4e0b\\u5355\\u6570\", \"x\": [\"8-3\", \"8-4\", \"9-1\", \"9-2\", \"9-3\"], \"y\": [2.0, 6.0, 4.0, 4.0, 7.0], \"type\": \"scatter\", \"uid\": \"eb8e2cd0-c202-11e8-8e3c-509a4c0f1ffc\"}, {\"name\": \"\\u5468\\u6768_\\u5b8c\\u6210\\u4e0b\\u5355\\u6570\", \"x\": [\"8-3\", \"8-4\", \"9-1\", \"9-2\", \"9-3\"], \"y\": [2.0, 5.0, 4.0, 4.0, 7.0], \"type\": \"scatter\", \"uid\": \"eb8e2cd1-c202-11e8-9685-509a4c0f1ffc\"}, {\"name\": \"\\u5f20\\u5b88\\u4f1f_\\u603b\\u4e0b\\u5355\\u6570\", \"x\": [\"8-3\", \"8-4\", \"9-1\", \"9-2\"], \"y\": [4.0, 4.0, 4.0, 3.0], \"type\": \"scatter\", \"uid\": \"eb8e2cd2-c202-11e8-9af9-509a4c0f1ffc\"}, {\"name\": \"\\u5f20\\u5b88\\u4f1f_\\u5b8c\\u6210\\u4e0b\\u5355\\u6570\", \"x\": [\"8-3\", \"8-4\", \"9-1\", \"9-2\"], \"y\": [3.0, 4.0, 3.0, 3.0], \"type\": \"scatter\", \"uid\": \"eb8e2cd3-c202-11e8-a392-509a4c0f1ffc\"}, {\"name\": \"\\u8def\\u6167\\u840d_\\u603b\\u4e0b\\u5355\\u6570\", \"x\": [\"8-3\", \"8-4\", \"9-1\", \"9-2\", \"9-3\"], \"y\": [5.0, 8.0, 7.0, 5.0, 7.0], \"type\": \"scatter\", \"uid\": \"eb8e2cd4-c202-11e8-a0f2-509a4c0f1ffc\"}, {\"name\": \"\\u8def\\u6167\\u840d_\\u5b8c\\u6210\\u4e0b\\u5355\\u6570\", \"x\": [\"8-3\", \"8-4\", \"9-1\", \"9-2\", \"9-3\"], \"y\": [5.0, 8.0, 6.0, 5.0, 5.0], \"type\": \"scatter\", \"uid\": \"eb8e2cd5-c202-11e8-8889-509a4c0f1ffc\"}, {\"name\": \"\\u5360\\u4f1f_\\u603b\\u4e0b\\u5355\\u6570\", \"x\": [\"8-3\", \"8-4\", \"9-1\", \"9-2\"], \"y\": [4.0, 6.0, 7.0, 8.0], \"type\": \"scatter\", \"uid\": \"eb8e2cd6-c202-11e8-afa3-509a4c0f1ffc\"}, {\"name\": \"\\u5360\\u4f1f_\\u5b8c\\u6210\\u4e0b\\u5355\\u6570\", \"x\": [\"8-3\", \"8-4\", \"9-1\", \"9-2\"], \"y\": [2.0, 3.0, 7.0, 8.0], \"type\": \"scatter\", \"uid\": \"eb8e2cd7-c202-11e8-9977-509a4c0f1ffc\"}, {\"name\": \"\\u738b\\u5b81_\\u603b\\u4e0b\\u5355\\u6570\", \"x\": [\"8-3\", \"8-4\", \"9-1\"], \"y\": [6.0, 6.0, 6.0], \"type\": \"scatter\", \"uid\": \"eb8e53c2-c202-11e8-b39c-509a4c0f1ffc\"}, {\"name\": \"\\u738b\\u5b81_\\u5b8c\\u6210\\u4e0b\\u5355\\u6570\", \"x\": [\"8-3\", \"8-4\", \"9-1\"], \"y\": [6.0, 6.0, 7.0], \"type\": \"scatter\", \"uid\": \"eb8e53c3-c202-11e8-9cfa-509a4c0f1ffc\"}, {\"name\": \"\\u674e\\u5e86\\u539f_\\u603b\\u4e0b\\u5355\\u6570\", \"x\": [\"8-3\", \"8-4\", \"9-1\", \"9-2\", \"9-3\"], \"y\": [2.0, 5.0, 3.0, 3.0, 6.0], \"type\": \"scatter\", \"uid\": \"eb8e53c4-c202-11e8-905d-509a4c0f1ffc\"}, {\"name\": \"\\u674e\\u5e86\\u539f_\\u5b8c\\u6210\\u4e0b\\u5355\\u6570\", \"x\": [\"8-3\", \"8-4\", \"9-1\", \"9-2\", \"9-3\"], \"y\": [2.0, 5.0, 3.0, 3.0, 6.0], \"type\": \"scatter\", \"uid\": \"eb8e53c5-c202-11e8-affc-509a4c0f1ffc\"}, {\"name\": \"\\u8303\\u65ed\\u5b81_\\u603b\\u4e0b\\u5355\\u6570\", \"x\": [\"8-3\", \"8-4\", \"9-1\", \"9-2\"], \"y\": [4.0, 4.0, 5.0, 7.0], \"type\": \"scatter\", \"uid\": \"eb8e53c6-c202-11e8-988e-509a4c0f1ffc\"}, {\"name\": \"\\u8303\\u65ed\\u5b81_\\u5b8c\\u6210\\u4e0b\\u5355\\u6570\", \"x\": [\"8-3\", \"8-4\", \"9-1\", \"9-2\"], \"y\": [3.0, 3.0, 4.0, 7.0], \"type\": \"scatter\", \"uid\": \"eb8e53c7-c202-11e8-952a-509a4c0f1ffc\"}, {\"name\": \"\\u9a6c\\u6f47_\\u603b\\u4e0b\\u5355\\u6570\", \"x\": [\"8-3\", \"8-4\", \"9-1\", \"9-2\"], \"y\": [5.0, 3.0, 4.0, 5.0], \"type\": \"scatter\", \"uid\": \"eb8e53c8-c202-11e8-9684-509a4c0f1ffc\"}, {\"name\": \"\\u9a6c\\u6f47_\\u5b8c\\u6210\\u4e0b\\u5355\\u6570\", \"x\": [\"8-3\", \"8-4\", \"9-1\", \"9-2\"], \"y\": [3.0, 3.0, 4.0, 5.0], \"type\": \"scatter\", \"uid\": \"eb8e53c9-c202-11e8-ae80-509a4c0f1ffc\"}, {\"name\": \"\\u4efb\\u96ea_\\u603b\\u4e0b\\u5355\\u6570\", \"x\": [\"8-4\", \"9-1\", \"9-2\", \"9-3\"], \"y\": [2.0, 4.0, 5.0, 2.0], \"type\": \"scatter\", \"uid\": \"eb8e53ca-c202-11e8-afc1-509a4c0f1ffc\"}, {\"name\": \"\\u4efb\\u96ea_\\u5b8c\\u6210\\u4e0b\\u5355\\u6570\", \"x\": [\"8-4\", \"9-1\", \"9-2\", \"9-3\"], \"y\": [2.0, 3.0, 4.0, 0.0], \"type\": \"scatter\", \"uid\": \"eb8e53cb-c202-11e8-8ec6-509a4c0f1ffc\"}],\n",
       "            {\"title\": \"\\u603b\\u4e0b\\u5355\\u6570&\\u5b8c\\u6210\\u4e0b\\u5355\\u6570\\u5468\\u8d8b\\u52bf\\u56fe\", \"xaxis\": {\"mirror\": \"all\", \"nticks\": 20, \"showgrid\": true, \"showline\": true, \"title\": \"\\u5468\", \"zeroline\": true}, \"yaxis\": {\"mirror\": \"all\", \"nticks\": 20, \"showgrid\": true, \"showline\": true, \"title\": \"\\u603b\\u4e0b\\u5355\\u6570&\\u5b8c\\u6210\\u4e0b\\u5355\\u6570\", \"zeroline\": true}},\n",
       "            {\"showLink\": true, \"linkText\": \"Export to plot.ly\"}\n",
       "        ).then(function () {return Plotly.addFrames('b682994e-9e4f-494a-a094-cca4abf5df08',{});}).then(function(){Plotly.animate('b682994e-9e4f-494a-a094-cca4abf5df08');})\n",
       "        });</script>"
      ]
     },
     "metadata": {},
     "output_type": "display_data"
    },
    {
     "data": {
      "application/vnd.plotly.v1+json": {
       "data": [
        {
         "name": "于勇一_总下单数",
         "type": "scatter",
         "uid": "ebd60b22-c202-11e8-9dc7-509a4c0f1ffc",
         "x": [
          "8",
          "9"
         ],
         "y": [
          7,
          15
         ]
        },
        {
         "name": "于勇一_完成下单数",
         "type": "scatter",
         "uid": "ebd60b23-c202-11e8-a7db-509a4c0f1ffc",
         "x": [
          "8",
          "9"
         ],
         "y": [
          5,
          13
         ]
        },
        {
         "name": "于慧_总下单数",
         "type": "scatter",
         "uid": "ebd60b24-c202-11e8-bc46-509a4c0f1ffc",
         "x": [
          "8",
          "9"
         ],
         "y": [
          7,
          12
         ]
        },
        {
         "name": "于慧_完成下单数",
         "type": "scatter",
         "uid": "ebd60b25-c202-11e8-9dba-509a4c0f1ffc",
         "x": [
          "8",
          "9"
         ],
         "y": [
          7,
          11
         ]
        },
        {
         "name": "任雪_总下单数",
         "type": "scatter",
         "uid": "ebd60b26-c202-11e8-a7b9-509a4c0f1ffc",
         "x": [
          "8",
          "9"
         ],
         "y": [
          null,
          11
         ]
        },
        {
         "name": "任雪_完成下单数",
         "type": "scatter",
         "uid": "ebd60b27-c202-11e8-92a5-509a4c0f1ffc",
         "x": [
          "8",
          "9"
         ],
         "y": [
          null,
          7
         ]
        },
        {
         "name": "刘慧玲_总下单数",
         "type": "scatter",
         "uid": "ebd60b28-c202-11e8-85db-509a4c0f1ffc",
         "x": [
          "8",
          "9"
         ],
         "y": [
          8,
          null
         ]
        },
        {
         "name": "刘慧玲_完成下单数",
         "type": "scatter",
         "uid": "ebd60b29-c202-11e8-8806-509a4c0f1ffc",
         "x": [
          "8",
          "9"
         ],
         "y": [
          6,
          null
         ]
        },
        {
         "name": "刘江_总下单数",
         "type": "scatter",
         "uid": "ebd60b2a-c202-11e8-a371-509a4c0f1ffc",
         "x": [
          "8",
          "9"
         ],
         "y": [
          15,
          20
         ]
        },
        {
         "name": "刘江_完成下单数",
         "type": "scatter",
         "uid": "ebd60b2b-c202-11e8-acc9-509a4c0f1ffc",
         "x": [
          "8",
          "9"
         ],
         "y": [
          14,
          19
         ]
        },
        {
         "name": "占伟_总下单数",
         "type": "scatter",
         "uid": "ebd60b2c-c202-11e8-86e2-509a4c0f1ffc",
         "x": [
          "8",
          "9"
         ],
         "y": [
          10,
          null
         ]
        },
        {
         "name": "占伟_完成下单数",
         "type": "scatter",
         "uid": "ebd60b2d-c202-11e8-b1e1-509a4c0f1ffc",
         "x": [
          "8",
          "9"
         ],
         "y": [
          5,
          null
         ]
        },
        {
         "name": "周杨_总下单数",
         "type": "scatter",
         "uid": "ebd60b2e-c202-11e8-a636-509a4c0f1ffc",
         "x": [
          "8",
          "9"
         ],
         "y": [
          8,
          15
         ]
        },
        {
         "name": "周杨_完成下单数",
         "type": "scatter",
         "uid": "ebd60b2f-c202-11e8-91d1-509a4c0f1ffc",
         "x": [
          "8",
          "9"
         ],
         "y": [
          7,
          15
         ]
        },
        {
         "name": "姚盟成_总下单数",
         "type": "scatter",
         "uid": "ebd60b30-c202-11e8-b8e7-509a4c0f1ffc",
         "x": [
          "8",
          "9"
         ],
         "y": [
          8,
          13
         ]
        },
        {
         "name": "姚盟成_完成下单数",
         "type": "scatter",
         "uid": "ebd60b31-c202-11e8-bdec-509a4c0f1ffc",
         "x": [
          "8",
          "9"
         ],
         "y": [
          7,
          13
         ]
        },
        {
         "name": "孟昊_总下单数",
         "type": "scatter",
         "uid": "ebd60b32-c202-11e8-9553-509a4c0f1ffc",
         "x": [
          "8",
          "9"
         ],
         "y": [
          8,
          10
         ]
        },
        {
         "name": "孟昊_完成下单数",
         "type": "scatter",
         "uid": "ebd60b33-c202-11e8-abdc-509a4c0f1ffc",
         "x": [
          "8",
          "9"
         ],
         "y": [
          8,
          9
         ]
        },
        {
         "name": "宋迎楠_总下单数",
         "type": "scatter",
         "uid": "ebd60b34-c202-11e8-8f3e-509a4c0f1ffc",
         "x": [
          "8",
          "9"
         ],
         "y": [
          7,
          null
         ]
        },
        {
         "name": "宋迎楠_完成下单数",
         "type": "scatter",
         "uid": "ebd60b35-c202-11e8-b88f-509a4c0f1ffc",
         "x": [
          "8",
          "9"
         ],
         "y": [
          6,
          null
         ]
        },
        {
         "name": "封彦杰_总下单数",
         "type": "scatter",
         "uid": "ebd60b36-c202-11e8-bb64-509a4c0f1ffc",
         "x": [
          "8",
          "9"
         ],
         "y": [
          15,
          17
         ]
        },
        {
         "name": "封彦杰_完成下单数",
         "type": "scatter",
         "uid": "ebd60b37-c202-11e8-ab24-509a4c0f1ffc",
         "x": [
          "8",
          "9"
         ],
         "y": [
          15,
          16
         ]
        },
        {
         "name": "张守伟_总下单数",
         "type": "scatter",
         "uid": "ebd60b38-c202-11e8-89f9-509a4c0f1ffc",
         "x": [
          "8",
          "9"
         ],
         "y": [
          8,
          null
         ]
        },
        {
         "name": "张守伟_完成下单数",
         "type": "scatter",
         "uid": "ebd60b39-c202-11e8-813c-509a4c0f1ffc",
         "x": [
          "8",
          "9"
         ],
         "y": [
          7,
          null
         ]
        },
        {
         "name": "李华云_总下单数",
         "type": "scatter",
         "uid": "ebd60b3a-c202-11e8-b305-509a4c0f1ffc",
         "x": [
          "8",
          "9"
         ],
         "y": [
          8,
          15
         ]
        },
        {
         "name": "李华云_完成下单数",
         "type": "scatter",
         "uid": "ebd60b3b-c202-11e8-b6b3-509a4c0f1ffc",
         "x": [
          "8",
          "9"
         ],
         "y": [
          7,
          14
         ]
        },
        {
         "name": "李庆原_总下单数",
         "type": "scatter",
         "uid": "ebd60b3c-c202-11e8-ba4e-509a4c0f1ffc",
         "x": [
          "8",
          "9"
         ],
         "y": [
          7,
          12
         ]
        },
        {
         "name": "李庆原_完成下单数",
         "type": "scatter",
         "uid": "ebd60b3d-c202-11e8-a9bd-509a4c0f1ffc",
         "x": [
          "8",
          "9"
         ],
         "y": [
          7,
          12
         ]
        },
        {
         "name": "杨伟飞_总下单数",
         "type": "scatter",
         "uid": "ebd60b3e-c202-11e8-b513-509a4c0f1ffc",
         "x": [
          "8",
          "9"
         ],
         "y": [
          9,
          17
         ]
        },
        {
         "name": "杨伟飞_完成下单数",
         "type": "scatter",
         "uid": "ebd60b3f-c202-11e8-a993-509a4c0f1ffc",
         "x": [
          "8",
          "9"
         ],
         "y": [
          6,
          20
         ]
        },
        {
         "name": "王宁_总下单数",
         "type": "scatter",
         "uid": "ebd60b40-c202-11e8-8b69-509a4c0f1ffc",
         "x": [
          "8",
          "9"
         ],
         "y": [
          12,
          null
         ]
        },
        {
         "name": "王宁_完成下单数",
         "type": "scatter",
         "uid": "ebd60b41-c202-11e8-b3a4-509a4c0f1ffc",
         "x": [
          "8",
          "9"
         ],
         "y": [
          12,
          null
         ]
        },
        {
         "name": "苏彦勋_总下单数",
         "type": "scatter",
         "uid": "ebd60b42-c202-11e8-8e45-509a4c0f1ffc",
         "x": [
          "8",
          "9"
         ],
         "y": [
          10,
          20
         ]
        },
        {
         "name": "苏彦勋_完成下单数",
         "type": "scatter",
         "uid": "ebd60b43-c202-11e8-abf7-509a4c0f1ffc",
         "x": [
          "8",
          "9"
         ],
         "y": [
          10,
          19
         ]
        },
        {
         "name": "范旭宁_总下单数",
         "type": "scatter",
         "uid": "ebd60b44-c202-11e8-a789-509a4c0f1ffc",
         "x": [
          "8",
          "9"
         ],
         "y": [
          8,
          null
         ]
        },
        {
         "name": "范旭宁_完成下单数",
         "type": "scatter",
         "uid": "ebd60b45-c202-11e8-b852-509a4c0f1ffc",
         "x": [
          "8",
          "9"
         ],
         "y": [
          6,
          null
         ]
        },
        {
         "name": "谢德健_总下单数",
         "type": "scatter",
         "uid": "ebd60b46-c202-11e8-b0e2-509a4c0f1ffc",
         "x": [
          "8",
          "9"
         ],
         "y": [
          6,
          null
         ]
        },
        {
         "name": "谢德健_完成下单数",
         "type": "scatter",
         "uid": "ebd60b47-c202-11e8-a172-509a4c0f1ffc",
         "x": [
          "8",
          "9"
         ],
         "y": [
          5,
          null
         ]
        },
        {
         "name": "赵玥_总下单数",
         "type": "scatter",
         "uid": "ebd60b48-c202-11e8-944b-509a4c0f1ffc",
         "x": [
          "8",
          "9"
         ],
         "y": [
          10,
          null
         ]
        },
        {
         "name": "赵玥_完成下单数",
         "type": "scatter",
         "uid": "ebd60b49-c202-11e8-94dc-509a4c0f1ffc",
         "x": [
          "8",
          "9"
         ],
         "y": [
          10,
          null
         ]
        },
        {
         "name": "路慧萍_总下单数",
         "type": "scatter",
         "uid": "ebd60b4a-c202-11e8-bec5-509a4c0f1ffc",
         "x": [
          "8",
          "9"
         ],
         "y": [
          13,
          19
         ]
        },
        {
         "name": "路慧萍_完成下单数",
         "type": "scatter",
         "uid": "ebd60b4b-c202-11e8-9c91-509a4c0f1ffc",
         "x": [
          "8",
          "9"
         ],
         "y": [
          13,
          16
         ]
        },
        {
         "name": "韩少怀_总下单数",
         "type": "scatter",
         "uid": "ebd60b4c-c202-11e8-86c4-509a4c0f1ffc",
         "x": [
          "8",
          "9"
         ],
         "y": [
          7,
          null
         ]
        },
        {
         "name": "韩少怀_完成下单数",
         "type": "scatter",
         "uid": "ebd60b4d-c202-11e8-afc8-509a4c0f1ffc",
         "x": [
          "8",
          "9"
         ],
         "y": [
          7,
          null
         ]
        },
        {
         "name": "马潇_总下单数",
         "type": "scatter",
         "uid": "ebd60b4e-c202-11e8-aeb0-509a4c0f1ffc",
         "x": [
          "8",
          "9"
         ],
         "y": [
          8,
          null
         ]
        },
        {
         "name": "马潇_完成下单数",
         "type": "scatter",
         "uid": "ebd60b4f-c202-11e8-9542-509a4c0f1ffc",
         "x": [
          "8",
          "9"
         ],
         "y": [
          6,
          null
         ]
        }
       ],
       "layout": {
        "title": "总下单数&完成下单数月趋势图",
        "xaxis": {
         "mirror": "all",
         "nticks": 20,
         "showgrid": true,
         "showline": true,
         "title": "月",
         "zeroline": true
        },
        "yaxis": {
         "mirror": "all",
         "nticks": 20,
         "showgrid": true,
         "showline": true,
         "title": "总下单数&完成下单数",
         "zeroline": true
        }
       }
      },
      "text/html": [
       "<div id=\"51db47f0-c16e-43cf-871e-9699cf8f9c36\" style=\"height: 525px; width: 100%;\" class=\"plotly-graph-div\"></div><script type=\"text/javascript\">require([\"plotly\"], function(Plotly) { window.PLOTLYENV=window.PLOTLYENV || {};window.PLOTLYENV.BASE_URL=\"https://plot.ly\";\n",
       "        Plotly.plot(\n",
       "            '51db47f0-c16e-43cf-871e-9699cf8f9c36',\n",
       "            [{\"name\": \"\\u4e8e\\u52c7\\u4e00_\\u603b\\u4e0b\\u5355\\u6570\", \"x\": [\"8\", \"9\"], \"y\": [7.0, 15.0], \"type\": \"scatter\", \"uid\": \"ebd60b22-c202-11e8-9dc7-509a4c0f1ffc\"}, {\"name\": \"\\u4e8e\\u52c7\\u4e00_\\u5b8c\\u6210\\u4e0b\\u5355\\u6570\", \"x\": [\"8\", \"9\"], \"y\": [5.0, 13.0], \"type\": \"scatter\", \"uid\": \"ebd60b23-c202-11e8-a7db-509a4c0f1ffc\"}, {\"name\": \"\\u4e8e\\u6167_\\u603b\\u4e0b\\u5355\\u6570\", \"x\": [\"8\", \"9\"], \"y\": [7.0, 12.0], \"type\": \"scatter\", \"uid\": \"ebd60b24-c202-11e8-bc46-509a4c0f1ffc\"}, {\"name\": \"\\u4e8e\\u6167_\\u5b8c\\u6210\\u4e0b\\u5355\\u6570\", \"x\": [\"8\", \"9\"], \"y\": [7.0, 11.0], \"type\": \"scatter\", \"uid\": \"ebd60b25-c202-11e8-9dba-509a4c0f1ffc\"}, {\"name\": \"\\u4efb\\u96ea_\\u603b\\u4e0b\\u5355\\u6570\", \"x\": [\"8\", \"9\"], \"y\": [null, 11.0], \"type\": \"scatter\", \"uid\": \"ebd60b26-c202-11e8-a7b9-509a4c0f1ffc\"}, {\"name\": \"\\u4efb\\u96ea_\\u5b8c\\u6210\\u4e0b\\u5355\\u6570\", \"x\": [\"8\", \"9\"], \"y\": [null, 7.0], \"type\": \"scatter\", \"uid\": \"ebd60b27-c202-11e8-92a5-509a4c0f1ffc\"}, {\"name\": \"\\u5218\\u6167\\u73b2_\\u603b\\u4e0b\\u5355\\u6570\", \"x\": [\"8\", \"9\"], \"y\": [8.0, null], \"type\": \"scatter\", \"uid\": \"ebd60b28-c202-11e8-85db-509a4c0f1ffc\"}, {\"name\": \"\\u5218\\u6167\\u73b2_\\u5b8c\\u6210\\u4e0b\\u5355\\u6570\", \"x\": [\"8\", \"9\"], \"y\": [6.0, null], \"type\": \"scatter\", \"uid\": \"ebd60b29-c202-11e8-8806-509a4c0f1ffc\"}, {\"name\": \"\\u5218\\u6c5f_\\u603b\\u4e0b\\u5355\\u6570\", \"x\": [\"8\", \"9\"], \"y\": [15.0, 20.0], \"type\": \"scatter\", \"uid\": \"ebd60b2a-c202-11e8-a371-509a4c0f1ffc\"}, {\"name\": \"\\u5218\\u6c5f_\\u5b8c\\u6210\\u4e0b\\u5355\\u6570\", \"x\": [\"8\", \"9\"], \"y\": [14.0, 19.0], \"type\": \"scatter\", \"uid\": \"ebd60b2b-c202-11e8-acc9-509a4c0f1ffc\"}, {\"name\": \"\\u5360\\u4f1f_\\u603b\\u4e0b\\u5355\\u6570\", \"x\": [\"8\", \"9\"], \"y\": [10.0, null], \"type\": \"scatter\", \"uid\": \"ebd60b2c-c202-11e8-86e2-509a4c0f1ffc\"}, {\"name\": \"\\u5360\\u4f1f_\\u5b8c\\u6210\\u4e0b\\u5355\\u6570\", \"x\": [\"8\", \"9\"], \"y\": [5.0, null], \"type\": \"scatter\", \"uid\": \"ebd60b2d-c202-11e8-b1e1-509a4c0f1ffc\"}, {\"name\": \"\\u5468\\u6768_\\u603b\\u4e0b\\u5355\\u6570\", \"x\": [\"8\", \"9\"], \"y\": [8.0, 15.0], \"type\": \"scatter\", \"uid\": \"ebd60b2e-c202-11e8-a636-509a4c0f1ffc\"}, {\"name\": \"\\u5468\\u6768_\\u5b8c\\u6210\\u4e0b\\u5355\\u6570\", \"x\": [\"8\", \"9\"], \"y\": [7.0, 15.0], \"type\": \"scatter\", \"uid\": \"ebd60b2f-c202-11e8-91d1-509a4c0f1ffc\"}, {\"name\": \"\\u59da\\u76df\\u6210_\\u603b\\u4e0b\\u5355\\u6570\", \"x\": [\"8\", \"9\"], \"y\": [8.0, 13.0], \"type\": \"scatter\", \"uid\": \"ebd60b30-c202-11e8-b8e7-509a4c0f1ffc\"}, {\"name\": \"\\u59da\\u76df\\u6210_\\u5b8c\\u6210\\u4e0b\\u5355\\u6570\", \"x\": [\"8\", \"9\"], \"y\": [7.0, 13.0], \"type\": \"scatter\", \"uid\": \"ebd60b31-c202-11e8-bdec-509a4c0f1ffc\"}, {\"name\": \"\\u5b5f\\u660a_\\u603b\\u4e0b\\u5355\\u6570\", \"x\": [\"8\", \"9\"], \"y\": [8.0, 10.0], \"type\": \"scatter\", \"uid\": \"ebd60b32-c202-11e8-9553-509a4c0f1ffc\"}, {\"name\": \"\\u5b5f\\u660a_\\u5b8c\\u6210\\u4e0b\\u5355\\u6570\", \"x\": [\"8\", \"9\"], \"y\": [8.0, 9.0], \"type\": \"scatter\", \"uid\": \"ebd60b33-c202-11e8-abdc-509a4c0f1ffc\"}, {\"name\": \"\\u5b8b\\u8fce\\u6960_\\u603b\\u4e0b\\u5355\\u6570\", \"x\": [\"8\", \"9\"], \"y\": [7.0, null], \"type\": \"scatter\", \"uid\": \"ebd60b34-c202-11e8-8f3e-509a4c0f1ffc\"}, {\"name\": \"\\u5b8b\\u8fce\\u6960_\\u5b8c\\u6210\\u4e0b\\u5355\\u6570\", \"x\": [\"8\", \"9\"], \"y\": [6.0, null], \"type\": \"scatter\", \"uid\": \"ebd60b35-c202-11e8-b88f-509a4c0f1ffc\"}, {\"name\": \"\\u5c01\\u5f66\\u6770_\\u603b\\u4e0b\\u5355\\u6570\", \"x\": [\"8\", \"9\"], \"y\": [15.0, 17.0], \"type\": \"scatter\", \"uid\": \"ebd60b36-c202-11e8-bb64-509a4c0f1ffc\"}, {\"name\": \"\\u5c01\\u5f66\\u6770_\\u5b8c\\u6210\\u4e0b\\u5355\\u6570\", \"x\": [\"8\", \"9\"], \"y\": [15.0, 16.0], \"type\": \"scatter\", \"uid\": \"ebd60b37-c202-11e8-ab24-509a4c0f1ffc\"}, {\"name\": \"\\u5f20\\u5b88\\u4f1f_\\u603b\\u4e0b\\u5355\\u6570\", \"x\": [\"8\", \"9\"], \"y\": [8.0, null], \"type\": \"scatter\", \"uid\": \"ebd60b38-c202-11e8-89f9-509a4c0f1ffc\"}, {\"name\": \"\\u5f20\\u5b88\\u4f1f_\\u5b8c\\u6210\\u4e0b\\u5355\\u6570\", \"x\": [\"8\", \"9\"], \"y\": [7.0, null], \"type\": \"scatter\", \"uid\": \"ebd60b39-c202-11e8-813c-509a4c0f1ffc\"}, {\"name\": \"\\u674e\\u534e\\u4e91_\\u603b\\u4e0b\\u5355\\u6570\", \"x\": [\"8\", \"9\"], \"y\": [8.0, 15.0], \"type\": \"scatter\", \"uid\": \"ebd60b3a-c202-11e8-b305-509a4c0f1ffc\"}, {\"name\": \"\\u674e\\u534e\\u4e91_\\u5b8c\\u6210\\u4e0b\\u5355\\u6570\", \"x\": [\"8\", \"9\"], \"y\": [7.0, 14.0], \"type\": \"scatter\", \"uid\": \"ebd60b3b-c202-11e8-b6b3-509a4c0f1ffc\"}, {\"name\": \"\\u674e\\u5e86\\u539f_\\u603b\\u4e0b\\u5355\\u6570\", \"x\": [\"8\", \"9\"], \"y\": [7.0, 12.0], \"type\": \"scatter\", \"uid\": \"ebd60b3c-c202-11e8-ba4e-509a4c0f1ffc\"}, {\"name\": \"\\u674e\\u5e86\\u539f_\\u5b8c\\u6210\\u4e0b\\u5355\\u6570\", \"x\": [\"8\", \"9\"], \"y\": [7.0, 12.0], \"type\": \"scatter\", \"uid\": \"ebd60b3d-c202-11e8-a9bd-509a4c0f1ffc\"}, {\"name\": \"\\u6768\\u4f1f\\u98de_\\u603b\\u4e0b\\u5355\\u6570\", \"x\": [\"8\", \"9\"], \"y\": [9.0, 17.0], \"type\": \"scatter\", \"uid\": \"ebd60b3e-c202-11e8-b513-509a4c0f1ffc\"}, {\"name\": \"\\u6768\\u4f1f\\u98de_\\u5b8c\\u6210\\u4e0b\\u5355\\u6570\", \"x\": [\"8\", \"9\"], \"y\": [6.0, 20.0], \"type\": \"scatter\", \"uid\": \"ebd60b3f-c202-11e8-a993-509a4c0f1ffc\"}, {\"name\": \"\\u738b\\u5b81_\\u603b\\u4e0b\\u5355\\u6570\", \"x\": [\"8\", \"9\"], \"y\": [12.0, null], \"type\": \"scatter\", \"uid\": \"ebd60b40-c202-11e8-8b69-509a4c0f1ffc\"}, {\"name\": \"\\u738b\\u5b81_\\u5b8c\\u6210\\u4e0b\\u5355\\u6570\", \"x\": [\"8\", \"9\"], \"y\": [12.0, null], \"type\": \"scatter\", \"uid\": \"ebd60b41-c202-11e8-b3a4-509a4c0f1ffc\"}, {\"name\": \"\\u82cf\\u5f66\\u52cb_\\u603b\\u4e0b\\u5355\\u6570\", \"x\": [\"8\", \"9\"], \"y\": [10.0, 20.0], \"type\": \"scatter\", \"uid\": \"ebd60b42-c202-11e8-8e45-509a4c0f1ffc\"}, {\"name\": \"\\u82cf\\u5f66\\u52cb_\\u5b8c\\u6210\\u4e0b\\u5355\\u6570\", \"x\": [\"8\", \"9\"], \"y\": [10.0, 19.0], \"type\": \"scatter\", \"uid\": \"ebd60b43-c202-11e8-abf7-509a4c0f1ffc\"}, {\"name\": \"\\u8303\\u65ed\\u5b81_\\u603b\\u4e0b\\u5355\\u6570\", \"x\": [\"8\", \"9\"], \"y\": [8.0, null], \"type\": \"scatter\", \"uid\": \"ebd60b44-c202-11e8-a789-509a4c0f1ffc\"}, {\"name\": \"\\u8303\\u65ed\\u5b81_\\u5b8c\\u6210\\u4e0b\\u5355\\u6570\", \"x\": [\"8\", \"9\"], \"y\": [6.0, null], \"type\": \"scatter\", \"uid\": \"ebd60b45-c202-11e8-b852-509a4c0f1ffc\"}, {\"name\": \"\\u8c22\\u5fb7\\u5065_\\u603b\\u4e0b\\u5355\\u6570\", \"x\": [\"8\", \"9\"], \"y\": [6.0, null], \"type\": \"scatter\", \"uid\": \"ebd60b46-c202-11e8-b0e2-509a4c0f1ffc\"}, {\"name\": \"\\u8c22\\u5fb7\\u5065_\\u5b8c\\u6210\\u4e0b\\u5355\\u6570\", \"x\": [\"8\", \"9\"], \"y\": [5.0, null], \"type\": \"scatter\", \"uid\": \"ebd60b47-c202-11e8-a172-509a4c0f1ffc\"}, {\"name\": \"\\u8d75\\u73a5_\\u603b\\u4e0b\\u5355\\u6570\", \"x\": [\"8\", \"9\"], \"y\": [10.0, null], \"type\": \"scatter\", \"uid\": \"ebd60b48-c202-11e8-944b-509a4c0f1ffc\"}, {\"name\": \"\\u8d75\\u73a5_\\u5b8c\\u6210\\u4e0b\\u5355\\u6570\", \"x\": [\"8\", \"9\"], \"y\": [10.0, null], \"type\": \"scatter\", \"uid\": \"ebd60b49-c202-11e8-94dc-509a4c0f1ffc\"}, {\"name\": \"\\u8def\\u6167\\u840d_\\u603b\\u4e0b\\u5355\\u6570\", \"x\": [\"8\", \"9\"], \"y\": [13.0, 19.0], \"type\": \"scatter\", \"uid\": \"ebd60b4a-c202-11e8-bec5-509a4c0f1ffc\"}, {\"name\": \"\\u8def\\u6167\\u840d_\\u5b8c\\u6210\\u4e0b\\u5355\\u6570\", \"x\": [\"8\", \"9\"], \"y\": [13.0, 16.0], \"type\": \"scatter\", \"uid\": \"ebd60b4b-c202-11e8-9c91-509a4c0f1ffc\"}, {\"name\": \"\\u97e9\\u5c11\\u6000_\\u603b\\u4e0b\\u5355\\u6570\", \"x\": [\"8\", \"9\"], \"y\": [7.0, null], \"type\": \"scatter\", \"uid\": \"ebd60b4c-c202-11e8-86c4-509a4c0f1ffc\"}, {\"name\": \"\\u97e9\\u5c11\\u6000_\\u5b8c\\u6210\\u4e0b\\u5355\\u6570\", \"x\": [\"8\", \"9\"], \"y\": [7.0, null], \"type\": \"scatter\", \"uid\": \"ebd60b4d-c202-11e8-afc8-509a4c0f1ffc\"}, {\"name\": \"\\u9a6c\\u6f47_\\u603b\\u4e0b\\u5355\\u6570\", \"x\": [\"8\", \"9\"], \"y\": [8.0, null], \"type\": \"scatter\", \"uid\": \"ebd60b4e-c202-11e8-aeb0-509a4c0f1ffc\"}, {\"name\": \"\\u9a6c\\u6f47_\\u5b8c\\u6210\\u4e0b\\u5355\\u6570\", \"x\": [\"8\", \"9\"], \"y\": [6.0, null], \"type\": \"scatter\", \"uid\": \"ebd60b4f-c202-11e8-9542-509a4c0f1ffc\"}],\n",
       "            {\"title\": \"\\u603b\\u4e0b\\u5355\\u6570&\\u5b8c\\u6210\\u4e0b\\u5355\\u6570\\u6708\\u8d8b\\u52bf\\u56fe\", \"xaxis\": {\"mirror\": \"all\", \"nticks\": 20, \"showgrid\": true, \"showline\": true, \"title\": \"\\u6708\", \"zeroline\": true}, \"yaxis\": {\"mirror\": \"all\", \"nticks\": 20, \"showgrid\": true, \"showline\": true, \"title\": \"\\u603b\\u4e0b\\u5355\\u6570&\\u5b8c\\u6210\\u4e0b\\u5355\\u6570\", \"zeroline\": true}},\n",
       "            {\"showLink\": true, \"linkText\": \"Export to plot.ly\"}\n",
       "        ).then(function () {return Plotly.addFrames('51db47f0-c16e-43cf-871e-9699cf8f9c36',{});}).then(function(){Plotly.animate('51db47f0-c16e-43cf-871e-9699cf8f9c36');})\n",
       "        });</script>"
      ],
      "text/vnd.plotly.v1+html": [
       "<div id=\"51db47f0-c16e-43cf-871e-9699cf8f9c36\" style=\"height: 525px; width: 100%;\" class=\"plotly-graph-div\"></div><script type=\"text/javascript\">require([\"plotly\"], function(Plotly) { window.PLOTLYENV=window.PLOTLYENV || {};window.PLOTLYENV.BASE_URL=\"https://plot.ly\";\n",
       "        Plotly.plot(\n",
       "            '51db47f0-c16e-43cf-871e-9699cf8f9c36',\n",
       "            [{\"name\": \"\\u4e8e\\u52c7\\u4e00_\\u603b\\u4e0b\\u5355\\u6570\", \"x\": [\"8\", \"9\"], \"y\": [7.0, 15.0], \"type\": \"scatter\", \"uid\": \"ebd60b22-c202-11e8-9dc7-509a4c0f1ffc\"}, {\"name\": \"\\u4e8e\\u52c7\\u4e00_\\u5b8c\\u6210\\u4e0b\\u5355\\u6570\", \"x\": [\"8\", \"9\"], \"y\": [5.0, 13.0], \"type\": \"scatter\", \"uid\": \"ebd60b23-c202-11e8-a7db-509a4c0f1ffc\"}, {\"name\": \"\\u4e8e\\u6167_\\u603b\\u4e0b\\u5355\\u6570\", \"x\": [\"8\", \"9\"], \"y\": [7.0, 12.0], \"type\": \"scatter\", \"uid\": \"ebd60b24-c202-11e8-bc46-509a4c0f1ffc\"}, {\"name\": \"\\u4e8e\\u6167_\\u5b8c\\u6210\\u4e0b\\u5355\\u6570\", \"x\": [\"8\", \"9\"], \"y\": [7.0, 11.0], \"type\": \"scatter\", \"uid\": \"ebd60b25-c202-11e8-9dba-509a4c0f1ffc\"}, {\"name\": \"\\u4efb\\u96ea_\\u603b\\u4e0b\\u5355\\u6570\", \"x\": [\"8\", \"9\"], \"y\": [null, 11.0], \"type\": \"scatter\", \"uid\": \"ebd60b26-c202-11e8-a7b9-509a4c0f1ffc\"}, {\"name\": \"\\u4efb\\u96ea_\\u5b8c\\u6210\\u4e0b\\u5355\\u6570\", \"x\": [\"8\", \"9\"], \"y\": [null, 7.0], \"type\": \"scatter\", \"uid\": \"ebd60b27-c202-11e8-92a5-509a4c0f1ffc\"}, {\"name\": \"\\u5218\\u6167\\u73b2_\\u603b\\u4e0b\\u5355\\u6570\", \"x\": [\"8\", \"9\"], \"y\": [8.0, null], \"type\": \"scatter\", \"uid\": \"ebd60b28-c202-11e8-85db-509a4c0f1ffc\"}, {\"name\": \"\\u5218\\u6167\\u73b2_\\u5b8c\\u6210\\u4e0b\\u5355\\u6570\", \"x\": [\"8\", \"9\"], \"y\": [6.0, null], \"type\": \"scatter\", \"uid\": \"ebd60b29-c202-11e8-8806-509a4c0f1ffc\"}, {\"name\": \"\\u5218\\u6c5f_\\u603b\\u4e0b\\u5355\\u6570\", \"x\": [\"8\", \"9\"], \"y\": [15.0, 20.0], \"type\": \"scatter\", \"uid\": \"ebd60b2a-c202-11e8-a371-509a4c0f1ffc\"}, {\"name\": \"\\u5218\\u6c5f_\\u5b8c\\u6210\\u4e0b\\u5355\\u6570\", \"x\": [\"8\", \"9\"], \"y\": [14.0, 19.0], \"type\": \"scatter\", \"uid\": \"ebd60b2b-c202-11e8-acc9-509a4c0f1ffc\"}, {\"name\": \"\\u5360\\u4f1f_\\u603b\\u4e0b\\u5355\\u6570\", \"x\": [\"8\", \"9\"], \"y\": [10.0, null], \"type\": \"scatter\", \"uid\": \"ebd60b2c-c202-11e8-86e2-509a4c0f1ffc\"}, {\"name\": \"\\u5360\\u4f1f_\\u5b8c\\u6210\\u4e0b\\u5355\\u6570\", \"x\": [\"8\", \"9\"], \"y\": [5.0, null], \"type\": \"scatter\", \"uid\": \"ebd60b2d-c202-11e8-b1e1-509a4c0f1ffc\"}, {\"name\": \"\\u5468\\u6768_\\u603b\\u4e0b\\u5355\\u6570\", \"x\": [\"8\", \"9\"], \"y\": [8.0, 15.0], \"type\": \"scatter\", \"uid\": \"ebd60b2e-c202-11e8-a636-509a4c0f1ffc\"}, {\"name\": \"\\u5468\\u6768_\\u5b8c\\u6210\\u4e0b\\u5355\\u6570\", \"x\": [\"8\", \"9\"], \"y\": [7.0, 15.0], \"type\": \"scatter\", \"uid\": \"ebd60b2f-c202-11e8-91d1-509a4c0f1ffc\"}, {\"name\": \"\\u59da\\u76df\\u6210_\\u603b\\u4e0b\\u5355\\u6570\", \"x\": [\"8\", \"9\"], \"y\": [8.0, 13.0], \"type\": \"scatter\", \"uid\": \"ebd60b30-c202-11e8-b8e7-509a4c0f1ffc\"}, {\"name\": \"\\u59da\\u76df\\u6210_\\u5b8c\\u6210\\u4e0b\\u5355\\u6570\", \"x\": [\"8\", \"9\"], \"y\": [7.0, 13.0], \"type\": \"scatter\", \"uid\": \"ebd60b31-c202-11e8-bdec-509a4c0f1ffc\"}, {\"name\": \"\\u5b5f\\u660a_\\u603b\\u4e0b\\u5355\\u6570\", \"x\": [\"8\", \"9\"], \"y\": [8.0, 10.0], \"type\": \"scatter\", \"uid\": \"ebd60b32-c202-11e8-9553-509a4c0f1ffc\"}, {\"name\": \"\\u5b5f\\u660a_\\u5b8c\\u6210\\u4e0b\\u5355\\u6570\", \"x\": [\"8\", \"9\"], \"y\": [8.0, 9.0], \"type\": \"scatter\", \"uid\": \"ebd60b33-c202-11e8-abdc-509a4c0f1ffc\"}, {\"name\": \"\\u5b8b\\u8fce\\u6960_\\u603b\\u4e0b\\u5355\\u6570\", \"x\": [\"8\", \"9\"], \"y\": [7.0, null], \"type\": \"scatter\", \"uid\": \"ebd60b34-c202-11e8-8f3e-509a4c0f1ffc\"}, {\"name\": \"\\u5b8b\\u8fce\\u6960_\\u5b8c\\u6210\\u4e0b\\u5355\\u6570\", \"x\": [\"8\", \"9\"], \"y\": [6.0, null], \"type\": \"scatter\", \"uid\": \"ebd60b35-c202-11e8-b88f-509a4c0f1ffc\"}, {\"name\": \"\\u5c01\\u5f66\\u6770_\\u603b\\u4e0b\\u5355\\u6570\", \"x\": [\"8\", \"9\"], \"y\": [15.0, 17.0], \"type\": \"scatter\", \"uid\": \"ebd60b36-c202-11e8-bb64-509a4c0f1ffc\"}, {\"name\": \"\\u5c01\\u5f66\\u6770_\\u5b8c\\u6210\\u4e0b\\u5355\\u6570\", \"x\": [\"8\", \"9\"], \"y\": [15.0, 16.0], \"type\": \"scatter\", \"uid\": \"ebd60b37-c202-11e8-ab24-509a4c0f1ffc\"}, {\"name\": \"\\u5f20\\u5b88\\u4f1f_\\u603b\\u4e0b\\u5355\\u6570\", \"x\": [\"8\", \"9\"], \"y\": [8.0, null], \"type\": \"scatter\", \"uid\": \"ebd60b38-c202-11e8-89f9-509a4c0f1ffc\"}, {\"name\": \"\\u5f20\\u5b88\\u4f1f_\\u5b8c\\u6210\\u4e0b\\u5355\\u6570\", \"x\": [\"8\", \"9\"], \"y\": [7.0, null], \"type\": \"scatter\", \"uid\": \"ebd60b39-c202-11e8-813c-509a4c0f1ffc\"}, {\"name\": \"\\u674e\\u534e\\u4e91_\\u603b\\u4e0b\\u5355\\u6570\", \"x\": [\"8\", \"9\"], \"y\": [8.0, 15.0], \"type\": \"scatter\", \"uid\": \"ebd60b3a-c202-11e8-b305-509a4c0f1ffc\"}, {\"name\": \"\\u674e\\u534e\\u4e91_\\u5b8c\\u6210\\u4e0b\\u5355\\u6570\", \"x\": [\"8\", \"9\"], \"y\": [7.0, 14.0], \"type\": \"scatter\", \"uid\": \"ebd60b3b-c202-11e8-b6b3-509a4c0f1ffc\"}, {\"name\": \"\\u674e\\u5e86\\u539f_\\u603b\\u4e0b\\u5355\\u6570\", \"x\": [\"8\", \"9\"], \"y\": [7.0, 12.0], \"type\": \"scatter\", \"uid\": \"ebd60b3c-c202-11e8-ba4e-509a4c0f1ffc\"}, {\"name\": \"\\u674e\\u5e86\\u539f_\\u5b8c\\u6210\\u4e0b\\u5355\\u6570\", \"x\": [\"8\", \"9\"], \"y\": [7.0, 12.0], \"type\": \"scatter\", \"uid\": \"ebd60b3d-c202-11e8-a9bd-509a4c0f1ffc\"}, {\"name\": \"\\u6768\\u4f1f\\u98de_\\u603b\\u4e0b\\u5355\\u6570\", \"x\": [\"8\", \"9\"], \"y\": [9.0, 17.0], \"type\": \"scatter\", \"uid\": \"ebd60b3e-c202-11e8-b513-509a4c0f1ffc\"}, {\"name\": \"\\u6768\\u4f1f\\u98de_\\u5b8c\\u6210\\u4e0b\\u5355\\u6570\", \"x\": [\"8\", \"9\"], \"y\": [6.0, 20.0], \"type\": \"scatter\", \"uid\": \"ebd60b3f-c202-11e8-a993-509a4c0f1ffc\"}, {\"name\": \"\\u738b\\u5b81_\\u603b\\u4e0b\\u5355\\u6570\", \"x\": [\"8\", \"9\"], \"y\": [12.0, null], \"type\": \"scatter\", \"uid\": \"ebd60b40-c202-11e8-8b69-509a4c0f1ffc\"}, {\"name\": \"\\u738b\\u5b81_\\u5b8c\\u6210\\u4e0b\\u5355\\u6570\", \"x\": [\"8\", \"9\"], \"y\": [12.0, null], \"type\": \"scatter\", \"uid\": \"ebd60b41-c202-11e8-b3a4-509a4c0f1ffc\"}, {\"name\": \"\\u82cf\\u5f66\\u52cb_\\u603b\\u4e0b\\u5355\\u6570\", \"x\": [\"8\", \"9\"], \"y\": [10.0, 20.0], \"type\": \"scatter\", \"uid\": \"ebd60b42-c202-11e8-8e45-509a4c0f1ffc\"}, {\"name\": \"\\u82cf\\u5f66\\u52cb_\\u5b8c\\u6210\\u4e0b\\u5355\\u6570\", \"x\": [\"8\", \"9\"], \"y\": [10.0, 19.0], \"type\": \"scatter\", \"uid\": \"ebd60b43-c202-11e8-abf7-509a4c0f1ffc\"}, {\"name\": \"\\u8303\\u65ed\\u5b81_\\u603b\\u4e0b\\u5355\\u6570\", \"x\": [\"8\", \"9\"], \"y\": [8.0, null], \"type\": \"scatter\", \"uid\": \"ebd60b44-c202-11e8-a789-509a4c0f1ffc\"}, {\"name\": \"\\u8303\\u65ed\\u5b81_\\u5b8c\\u6210\\u4e0b\\u5355\\u6570\", \"x\": [\"8\", \"9\"], \"y\": [6.0, null], \"type\": \"scatter\", \"uid\": \"ebd60b45-c202-11e8-b852-509a4c0f1ffc\"}, {\"name\": \"\\u8c22\\u5fb7\\u5065_\\u603b\\u4e0b\\u5355\\u6570\", \"x\": [\"8\", \"9\"], \"y\": [6.0, null], \"type\": \"scatter\", \"uid\": \"ebd60b46-c202-11e8-b0e2-509a4c0f1ffc\"}, {\"name\": \"\\u8c22\\u5fb7\\u5065_\\u5b8c\\u6210\\u4e0b\\u5355\\u6570\", \"x\": [\"8\", \"9\"], \"y\": [5.0, null], \"type\": \"scatter\", \"uid\": \"ebd60b47-c202-11e8-a172-509a4c0f1ffc\"}, {\"name\": \"\\u8d75\\u73a5_\\u603b\\u4e0b\\u5355\\u6570\", \"x\": [\"8\", \"9\"], \"y\": [10.0, null], \"type\": \"scatter\", \"uid\": \"ebd60b48-c202-11e8-944b-509a4c0f1ffc\"}, {\"name\": \"\\u8d75\\u73a5_\\u5b8c\\u6210\\u4e0b\\u5355\\u6570\", \"x\": [\"8\", \"9\"], \"y\": [10.0, null], \"type\": \"scatter\", \"uid\": \"ebd60b49-c202-11e8-94dc-509a4c0f1ffc\"}, {\"name\": \"\\u8def\\u6167\\u840d_\\u603b\\u4e0b\\u5355\\u6570\", \"x\": [\"8\", \"9\"], \"y\": [13.0, 19.0], \"type\": \"scatter\", \"uid\": \"ebd60b4a-c202-11e8-bec5-509a4c0f1ffc\"}, {\"name\": \"\\u8def\\u6167\\u840d_\\u5b8c\\u6210\\u4e0b\\u5355\\u6570\", \"x\": [\"8\", \"9\"], \"y\": [13.0, 16.0], \"type\": \"scatter\", \"uid\": \"ebd60b4b-c202-11e8-9c91-509a4c0f1ffc\"}, {\"name\": \"\\u97e9\\u5c11\\u6000_\\u603b\\u4e0b\\u5355\\u6570\", \"x\": [\"8\", \"9\"], \"y\": [7.0, null], \"type\": \"scatter\", \"uid\": \"ebd60b4c-c202-11e8-86c4-509a4c0f1ffc\"}, {\"name\": \"\\u97e9\\u5c11\\u6000_\\u5b8c\\u6210\\u4e0b\\u5355\\u6570\", \"x\": [\"8\", \"9\"], \"y\": [7.0, null], \"type\": \"scatter\", \"uid\": \"ebd60b4d-c202-11e8-afc8-509a4c0f1ffc\"}, {\"name\": \"\\u9a6c\\u6f47_\\u603b\\u4e0b\\u5355\\u6570\", \"x\": [\"8\", \"9\"], \"y\": [8.0, null], \"type\": \"scatter\", \"uid\": \"ebd60b4e-c202-11e8-aeb0-509a4c0f1ffc\"}, {\"name\": \"\\u9a6c\\u6f47_\\u5b8c\\u6210\\u4e0b\\u5355\\u6570\", \"x\": [\"8\", \"9\"], \"y\": [6.0, null], \"type\": \"scatter\", \"uid\": \"ebd60b4f-c202-11e8-9542-509a4c0f1ffc\"}],\n",
       "            {\"title\": \"\\u603b\\u4e0b\\u5355\\u6570&\\u5b8c\\u6210\\u4e0b\\u5355\\u6570\\u6708\\u8d8b\\u52bf\\u56fe\", \"xaxis\": {\"mirror\": \"all\", \"nticks\": 20, \"showgrid\": true, \"showline\": true, \"title\": \"\\u6708\", \"zeroline\": true}, \"yaxis\": {\"mirror\": \"all\", \"nticks\": 20, \"showgrid\": true, \"showline\": true, \"title\": \"\\u603b\\u4e0b\\u5355\\u6570&\\u5b8c\\u6210\\u4e0b\\u5355\\u6570\", \"zeroline\": true}},\n",
       "            {\"showLink\": true, \"linkText\": \"Export to plot.ly\"}\n",
       "        ).then(function () {return Plotly.addFrames('51db47f0-c16e-43cf-871e-9699cf8f9c36',{});}).then(function(){Plotly.animate('51db47f0-c16e-43cf-871e-9699cf8f9c36');})\n",
       "        });</script>"
      ]
     },
     "metadata": {},
     "output_type": "display_data"
    }
   ],
   "source": [
    "data_dict = {'总下单数':['总下单数'],'完成下单数':['完成下单数']}\n",
    "myModule.plot( all_dict, data_dict, '负责人' ,  'line', all='' )"
   ]
  },
  {
   "cell_type": "markdown",
   "metadata": {},
   "source": [
    "### 高质量报告"
   ]
  },
  {
   "cell_type": "markdown",
   "metadata": {},
   "source": [
    "#### 应交高质量报告数和提交高质量报告数"
   ]
  },
  {
   "cell_type": "code",
   "execution_count": 85,
   "metadata": {},
   "outputs": [
    {
     "data": {
      "application/vnd.plotly.v1+json": {
       "data": [
        {
         "name": "刘江_应交高质量报告数",
         "type": "scatter",
         "uid": "2cec2ef4-c203-11e8-b927-509a4c0f1ffc",
         "x": [
          "8-3",
          "8-4",
          "9-1",
          "9-2",
          "9-3"
         ],
         "y": [
          0,
          0,
          3,
          0,
          0
         ]
        },
        {
         "name": "刘江_提交高质量报告数",
         "type": "scatter",
         "uid": "2cec2ef5-c203-11e8-8eb5-509a4c0f1ffc",
         "x": [
          "8-3",
          "8-4",
          "9-1",
          "9-2",
          "9-3"
         ],
         "y": [
          0,
          0,
          3,
          0,
          1
         ]
        },
        {
         "name": "苏彦勋_应交高质量报告数",
         "type": "scatter",
         "uid": "2cec2ef6-c203-11e8-b5ac-509a4c0f1ffc",
         "x": [
          "8-3",
          "8-4",
          "9-1",
          "9-2",
          "9-3"
         ],
         "y": [
          0,
          1,
          1,
          0,
          0
         ]
        },
        {
         "name": "苏彦勋_提交高质量报告数",
         "type": "scatter",
         "uid": "2cec2ef7-c203-11e8-8ccf-509a4c0f1ffc",
         "x": [
          "8-3",
          "8-4",
          "9-1",
          "9-2",
          "9-3"
         ],
         "y": [
          0,
          1,
          1,
          0,
          0
         ]
        },
        {
         "name": "姚盟成_应交高质量报告数",
         "type": "scatter",
         "uid": "2cec2ef8-c203-11e8-9ffd-509a4c0f1ffc",
         "x": [
          "8-3",
          "8-4",
          "9-1",
          "9-2",
          "9-3"
         ],
         "y": [
          2,
          0,
          0,
          1,
          0
         ]
        },
        {
         "name": "姚盟成_提交高质量报告数",
         "type": "scatter",
         "uid": "2cec2ef9-c203-11e8-88c8-509a4c0f1ffc",
         "x": [
          "8-3",
          "8-4",
          "9-1",
          "9-2",
          "9-3"
         ],
         "y": [
          2,
          0,
          0,
          1,
          0
         ]
        },
        {
         "name": "宋迎楠_应交高质量报告数",
         "type": "scatter",
         "uid": "2cec2efa-c203-11e8-9da2-509a4c0f1ffc",
         "x": [
          "8-3",
          "8-4",
          "9-1"
         ],
         "y": [
          2,
          0,
          0
         ]
        },
        {
         "name": "宋迎楠_提交高质量报告数",
         "type": "scatter",
         "uid": "2cec2efb-c203-11e8-9acd-509a4c0f1ffc",
         "x": [
          "8-3",
          "8-4",
          "9-1"
         ],
         "y": [
          2,
          0,
          0
         ]
        },
        {
         "name": "杨伟飞_应交高质量报告数",
         "type": "scatter",
         "uid": "2cec2efc-c203-11e8-a59e-509a4c0f1ffc",
         "x": [
          "8-3",
          "8-4",
          "9-1",
          "9-2",
          "9-3"
         ],
         "y": [
          0,
          0,
          2,
          1,
          0
         ]
        },
        {
         "name": "杨伟飞_提交高质量报告数",
         "type": "scatter",
         "uid": "2cec2efd-c203-11e8-a221-509a4c0f1ffc",
         "x": [
          "8-3",
          "8-4",
          "9-1",
          "9-2",
          "9-3"
         ],
         "y": [
          0,
          0,
          2,
          1,
          0
         ]
        },
        {
         "name": "韩少怀_应交高质量报告数",
         "type": "scatter",
         "uid": "2cec2efe-c203-11e8-9e10-509a4c0f1ffc",
         "x": [
          "8-3",
          "8-4",
          "9-1",
          "9-2"
         ],
         "y": [
          0,
          1,
          0,
          1
         ]
        },
        {
         "name": "韩少怀_提交高质量报告数",
         "type": "scatter",
         "uid": "2cec2eff-c203-11e8-b09f-509a4c0f1ffc",
         "x": [
          "8-3",
          "8-4",
          "9-1",
          "9-2"
         ],
         "y": [
          0,
          1,
          0,
          1
         ]
        },
        {
         "name": "于勇一_应交高质量报告数",
         "type": "scatter",
         "uid": "2cec2f00-c203-11e8-8621-509a4c0f1ffc",
         "x": [
          "8-3",
          "8-4",
          "9-1",
          "9-2",
          "9-3"
         ],
         "y": [
          0,
          1,
          2,
          0,
          0
         ]
        },
        {
         "name": "于勇一_提交高质量报告数",
         "type": "scatter",
         "uid": "2cec2f01-c203-11e8-a94d-509a4c0f1ffc",
         "x": [
          "8-3",
          "8-4",
          "9-1",
          "9-2",
          "9-3"
         ],
         "y": [
          0,
          1,
          2,
          0,
          0
         ]
        },
        {
         "name": "李华云_应交高质量报告数",
         "type": "scatter",
         "uid": "2cec2f02-c203-11e8-a681-509a4c0f1ffc",
         "x": [
          "8-3",
          "8-4",
          "9-1",
          "9-2",
          "9-3"
         ],
         "y": [
          0,
          0,
          0,
          0,
          0
         ]
        },
        {
         "name": "李华云_提交高质量报告数",
         "type": "scatter",
         "uid": "2cec2f03-c203-11e8-b0d4-509a4c0f1ffc",
         "x": [
          "8-3",
          "8-4",
          "9-1",
          "9-2",
          "9-3"
         ],
         "y": [
          0,
          0,
          0,
          0,
          0
         ]
        },
        {
         "name": "刘慧玲_应交高质量报告数",
         "type": "scatter",
         "uid": "2cec2f04-c203-11e8-8e85-509a4c0f1ffc",
         "x": [
          "8-3",
          "8-4",
          "9-1"
         ],
         "y": [
          2,
          0,
          0
         ]
        },
        {
         "name": "刘慧玲_提交高质量报告数",
         "type": "scatter",
         "uid": "2cec2f05-c203-11e8-ad0e-509a4c0f1ffc",
         "x": [
          "8-3",
          "8-4",
          "9-1"
         ],
         "y": [
          2,
          0,
          0
         ]
        },
        {
         "name": "孟昊_应交高质量报告数",
         "type": "scatter",
         "uid": "2cec2f06-c203-11e8-8d87-509a4c0f1ffc",
         "x": [
          "8-3",
          "8-4",
          "9-1",
          "9-2",
          "9-3"
         ],
         "y": [
          0,
          0,
          0,
          0,
          0
         ]
        },
        {
         "name": "孟昊_提交高质量报告数",
         "type": "scatter",
         "uid": "2cec2f07-c203-11e8-8e26-509a4c0f1ffc",
         "x": [
          "8-3",
          "8-4",
          "9-1",
          "9-2",
          "9-3"
         ],
         "y": [
          0,
          0,
          0,
          0,
          0
         ]
        },
        {
         "name": "于慧_应交高质量报告数",
         "type": "scatter",
         "uid": "2cec2f08-c203-11e8-abd1-509a4c0f1ffc",
         "x": [
          "8-3",
          "8-4",
          "9-1",
          "9-2",
          "9-3"
         ],
         "y": [
          0,
          1,
          0,
          0,
          0
         ]
        },
        {
         "name": "于慧_提交高质量报告数",
         "type": "scatter",
         "uid": "2cec2f09-c203-11e8-9a4b-509a4c0f1ffc",
         "x": [
          "8-3",
          "8-4",
          "9-1",
          "9-2",
          "9-3"
         ],
         "y": [
          0,
          1,
          0,
          0,
          0
         ]
        },
        {
         "name": "赵玥_应交高质量报告数",
         "type": "scatter",
         "uid": "2cec2f0a-c203-11e8-8f70-509a4c0f1ffc",
         "x": [
          "8-3",
          "8-4",
          "9-1",
          "9-2"
         ],
         "y": [
          0,
          0,
          2,
          1
         ]
        },
        {
         "name": "赵玥_提交高质量报告数",
         "type": "scatter",
         "uid": "2cec2f0b-c203-11e8-b815-509a4c0f1ffc",
         "x": [
          "8-3",
          "8-4",
          "9-1",
          "9-2"
         ],
         "y": [
          0,
          0,
          2,
          1
         ]
        },
        {
         "name": "封彦杰_应交高质量报告数",
         "type": "scatter",
         "uid": "2cec2f0c-c203-11e8-a1d9-509a4c0f1ffc",
         "x": [
          "8-3",
          "8-4",
          "9-1",
          "9-2",
          "9-3"
         ],
         "y": [
          0,
          0,
          1,
          0,
          0
         ]
        },
        {
         "name": "封彦杰_提交高质量报告数",
         "type": "scatter",
         "uid": "2cec2f0d-c203-11e8-a021-509a4c0f1ffc",
         "x": [
          "8-3",
          "8-4",
          "9-1",
          "9-2",
          "9-3"
         ],
         "y": [
          0,
          0,
          1,
          0,
          0
         ]
        },
        {
         "name": "谢德健_应交高质量报告数",
         "type": "scatter",
         "uid": "2cec2f0e-c203-11e8-a326-509a4c0f1ffc",
         "x": [
          "8-3",
          "8-4",
          "9-2",
          "9-3"
         ],
         "y": [
          0,
          0,
          2,
          4
         ]
        },
        {
         "name": "谢德健_提交高质量报告数",
         "type": "scatter",
         "uid": "2cec2f0f-c203-11e8-a28e-509a4c0f1ffc",
         "x": [
          "8-3",
          "8-4",
          "9-2",
          "9-3"
         ],
         "y": [
          0,
          0,
          1,
          4
         ]
        },
        {
         "name": "周杨_应交高质量报告数",
         "type": "scatter",
         "uid": "2cec2f10-c203-11e8-aa83-509a4c0f1ffc",
         "x": [
          "8-3",
          "8-4",
          "9-1",
          "9-2",
          "9-3"
         ],
         "y": [
          0,
          2,
          0,
          0,
          0
         ]
        },
        {
         "name": "周杨_提交高质量报告数",
         "type": "scatter",
         "uid": "2cec5602-c203-11e8-8448-509a4c0f1ffc",
         "x": [
          "8-3",
          "8-4",
          "9-1",
          "9-2",
          "9-3"
         ],
         "y": [
          0,
          2,
          0,
          0,
          0
         ]
        },
        {
         "name": "张守伟_应交高质量报告数",
         "type": "scatter",
         "uid": "2cec5603-c203-11e8-8a9b-509a4c0f1ffc",
         "x": [
          "8-3",
          "8-4",
          "9-1",
          "9-2"
         ],
         "y": [
          1,
          0,
          0,
          0
         ]
        },
        {
         "name": "张守伟_提交高质量报告数",
         "type": "scatter",
         "uid": "2cec5604-c203-11e8-ad84-509a4c0f1ffc",
         "x": [
          "8-3",
          "8-4",
          "9-1",
          "9-2"
         ],
         "y": [
          1,
          0,
          0,
          0
         ]
        },
        {
         "name": "路慧萍_应交高质量报告数",
         "type": "scatter",
         "uid": "2cec5605-c203-11e8-ab1f-509a4c0f1ffc",
         "x": [
          "8-3",
          "8-4",
          "9-1",
          "9-2",
          "9-3"
         ],
         "y": [
          1,
          0,
          0,
          0,
          0
         ]
        },
        {
         "name": "路慧萍_提交高质量报告数",
         "type": "scatter",
         "uid": "2cec5606-c203-11e8-add0-509a4c0f1ffc",
         "x": [
          "8-3",
          "8-4",
          "9-1",
          "9-2",
          "9-3"
         ],
         "y": [
          1,
          0,
          0,
          0,
          0
         ]
        },
        {
         "name": "占伟_应交高质量报告数",
         "type": "scatter",
         "uid": "2cec5607-c203-11e8-8f83-509a4c0f1ffc",
         "x": [
          "8-3",
          "8-4",
          "9-1",
          "9-2"
         ],
         "y": [
          1,
          0,
          2,
          0
         ]
        },
        {
         "name": "占伟_提交高质量报告数",
         "type": "scatter",
         "uid": "2cec5608-c203-11e8-a9b8-509a4c0f1ffc",
         "x": [
          "8-3",
          "8-4",
          "9-1",
          "9-2"
         ],
         "y": [
          1,
          0,
          2,
          0
         ]
        },
        {
         "name": "王宁_应交高质量报告数",
         "type": "scatter",
         "uid": "2cec5609-c203-11e8-a00c-509a4c0f1ffc",
         "x": [
          "8-3",
          "8-4",
          "9-1"
         ],
         "y": [
          0,
          1,
          0
         ]
        },
        {
         "name": "王宁_提交高质量报告数",
         "type": "scatter",
         "uid": "2cec560a-c203-11e8-8ac5-509a4c0f1ffc",
         "x": [
          "8-3",
          "8-4",
          "9-1"
         ],
         "y": [
          0,
          1,
          0
         ]
        },
        {
         "name": "李庆原_应交高质量报告数",
         "type": "scatter",
         "uid": "2cec560b-c203-11e8-abdf-509a4c0f1ffc",
         "x": [
          "8-3",
          "8-4",
          "9-1",
          "9-2",
          "9-3"
         ],
         "y": [
          0,
          0,
          1,
          0,
          0
         ]
        },
        {
         "name": "李庆原_提交高质量报告数",
         "type": "scatter",
         "uid": "2cec560c-c203-11e8-a3a3-509a4c0f1ffc",
         "x": [
          "8-3",
          "8-4",
          "9-1",
          "9-2",
          "9-3"
         ],
         "y": [
          0,
          0,
          1,
          0,
          0
         ]
        },
        {
         "name": "范旭宁_应交高质量报告数",
         "type": "scatter",
         "uid": "2cec560d-c203-11e8-a241-509a4c0f1ffc",
         "x": [
          "8-3",
          "8-4",
          "9-1",
          "9-2"
         ],
         "y": [
          0,
          0,
          1,
          2
         ]
        },
        {
         "name": "范旭宁_提交高质量报告数",
         "type": "scatter",
         "uid": "2cec560e-c203-11e8-a5a8-509a4c0f1ffc",
         "x": [
          "8-3",
          "8-4",
          "9-1",
          "9-2"
         ],
         "y": [
          0,
          0,
          1,
          1
         ]
        },
        {
         "name": "马潇_应交高质量报告数",
         "type": "scatter",
         "uid": "2cec560f-c203-11e8-8827-509a4c0f1ffc",
         "x": [
          "8-3",
          "8-4",
          "9-1",
          "9-2"
         ],
         "y": [
          0,
          0,
          0,
          0
         ]
        },
        {
         "name": "马潇_提交高质量报告数",
         "type": "scatter",
         "uid": "2cec5610-c203-11e8-883d-509a4c0f1ffc",
         "x": [
          "8-3",
          "8-4",
          "9-1",
          "9-2"
         ],
         "y": [
          0,
          0,
          0,
          0
         ]
        },
        {
         "name": "任雪_应交高质量报告数",
         "type": "scatter",
         "uid": "2cec5611-c203-11e8-93ee-509a4c0f1ffc",
         "x": [
          "8-4",
          "9-1",
          "9-2",
          "9-3"
         ],
         "y": [
          0,
          2,
          0,
          0
         ]
        },
        {
         "name": "任雪_提交高质量报告数",
         "type": "scatter",
         "uid": "2cec5612-c203-11e8-b7fc-509a4c0f1ffc",
         "x": [
          "8-4",
          "9-1",
          "9-2",
          "9-3"
         ],
         "y": [
          0,
          2,
          0,
          0
         ]
        }
       ],
       "layout": {
        "title": "应交高质量报告数&提交高质量报告数周趋势图",
        "xaxis": {
         "mirror": "all",
         "nticks": 20,
         "showgrid": true,
         "showline": true,
         "title": "周",
         "zeroline": true
        },
        "yaxis": {
         "mirror": "all",
         "nticks": 20,
         "showgrid": true,
         "showline": true,
         "title": "应交高质量报告数&提交高质量报告数",
         "zeroline": true
        }
       }
      },
      "text/html": [
       "<div id=\"8b9247b3-ba9f-42af-8bb7-3cec54fbd6af\" style=\"height: 525px; width: 100%;\" class=\"plotly-graph-div\"></div><script type=\"text/javascript\">require([\"plotly\"], function(Plotly) { window.PLOTLYENV=window.PLOTLYENV || {};window.PLOTLYENV.BASE_URL=\"https://plot.ly\";\n",
       "        Plotly.plot(\n",
       "            '8b9247b3-ba9f-42af-8bb7-3cec54fbd6af',\n",
       "            [{\"name\": \"\\u5218\\u6c5f_\\u5e94\\u4ea4\\u9ad8\\u8d28\\u91cf\\u62a5\\u544a\\u6570\", \"x\": [\"8-3\", \"8-4\", \"9-1\", \"9-2\", \"9-3\"], \"y\": [0.0, 0.0, 3.0, 0.0, 0.0], \"type\": \"scatter\", \"uid\": \"2cec2ef4-c203-11e8-b927-509a4c0f1ffc\"}, {\"name\": \"\\u5218\\u6c5f_\\u63d0\\u4ea4\\u9ad8\\u8d28\\u91cf\\u62a5\\u544a\\u6570\", \"x\": [\"8-3\", \"8-4\", \"9-1\", \"9-2\", \"9-3\"], \"y\": [0.0, 0.0, 3.0, 0.0, 1.0], \"type\": \"scatter\", \"uid\": \"2cec2ef5-c203-11e8-8eb5-509a4c0f1ffc\"}, {\"name\": \"\\u82cf\\u5f66\\u52cb_\\u5e94\\u4ea4\\u9ad8\\u8d28\\u91cf\\u62a5\\u544a\\u6570\", \"x\": [\"8-3\", \"8-4\", \"9-1\", \"9-2\", \"9-3\"], \"y\": [0.0, 1.0, 1.0, 0.0, 0.0], \"type\": \"scatter\", \"uid\": \"2cec2ef6-c203-11e8-b5ac-509a4c0f1ffc\"}, {\"name\": \"\\u82cf\\u5f66\\u52cb_\\u63d0\\u4ea4\\u9ad8\\u8d28\\u91cf\\u62a5\\u544a\\u6570\", \"x\": [\"8-3\", \"8-4\", \"9-1\", \"9-2\", \"9-3\"], \"y\": [0.0, 1.0, 1.0, 0.0, 0.0], \"type\": \"scatter\", \"uid\": \"2cec2ef7-c203-11e8-8ccf-509a4c0f1ffc\"}, {\"name\": \"\\u59da\\u76df\\u6210_\\u5e94\\u4ea4\\u9ad8\\u8d28\\u91cf\\u62a5\\u544a\\u6570\", \"x\": [\"8-3\", \"8-4\", \"9-1\", \"9-2\", \"9-3\"], \"y\": [2.0, 0.0, 0.0, 1.0, 0.0], \"type\": \"scatter\", \"uid\": \"2cec2ef8-c203-11e8-9ffd-509a4c0f1ffc\"}, {\"name\": \"\\u59da\\u76df\\u6210_\\u63d0\\u4ea4\\u9ad8\\u8d28\\u91cf\\u62a5\\u544a\\u6570\", \"x\": [\"8-3\", \"8-4\", \"9-1\", \"9-2\", \"9-3\"], \"y\": [2.0, 0.0, 0.0, 1.0, 0.0], \"type\": \"scatter\", \"uid\": \"2cec2ef9-c203-11e8-88c8-509a4c0f1ffc\"}, {\"name\": \"\\u5b8b\\u8fce\\u6960_\\u5e94\\u4ea4\\u9ad8\\u8d28\\u91cf\\u62a5\\u544a\\u6570\", \"x\": [\"8-3\", \"8-4\", \"9-1\"], \"y\": [2.0, 0.0, 0.0], \"type\": \"scatter\", \"uid\": \"2cec2efa-c203-11e8-9da2-509a4c0f1ffc\"}, {\"name\": \"\\u5b8b\\u8fce\\u6960_\\u63d0\\u4ea4\\u9ad8\\u8d28\\u91cf\\u62a5\\u544a\\u6570\", \"x\": [\"8-3\", \"8-4\", \"9-1\"], \"y\": [2.0, 0.0, 0.0], \"type\": \"scatter\", \"uid\": \"2cec2efb-c203-11e8-9acd-509a4c0f1ffc\"}, {\"name\": \"\\u6768\\u4f1f\\u98de_\\u5e94\\u4ea4\\u9ad8\\u8d28\\u91cf\\u62a5\\u544a\\u6570\", \"x\": [\"8-3\", \"8-4\", \"9-1\", \"9-2\", \"9-3\"], \"y\": [0.0, 0.0, 2.0, 1.0, 0.0], \"type\": \"scatter\", \"uid\": \"2cec2efc-c203-11e8-a59e-509a4c0f1ffc\"}, {\"name\": \"\\u6768\\u4f1f\\u98de_\\u63d0\\u4ea4\\u9ad8\\u8d28\\u91cf\\u62a5\\u544a\\u6570\", \"x\": [\"8-3\", \"8-4\", \"9-1\", \"9-2\", \"9-3\"], \"y\": [0.0, 0.0, 2.0, 1.0, 0.0], \"type\": \"scatter\", \"uid\": \"2cec2efd-c203-11e8-a221-509a4c0f1ffc\"}, {\"name\": \"\\u97e9\\u5c11\\u6000_\\u5e94\\u4ea4\\u9ad8\\u8d28\\u91cf\\u62a5\\u544a\\u6570\", \"x\": [\"8-3\", \"8-4\", \"9-1\", \"9-2\"], \"y\": [0.0, 1.0, 0.0, 1.0], \"type\": \"scatter\", \"uid\": \"2cec2efe-c203-11e8-9e10-509a4c0f1ffc\"}, {\"name\": \"\\u97e9\\u5c11\\u6000_\\u63d0\\u4ea4\\u9ad8\\u8d28\\u91cf\\u62a5\\u544a\\u6570\", \"x\": [\"8-3\", \"8-4\", \"9-1\", \"9-2\"], \"y\": [0.0, 1.0, 0.0, 1.0], \"type\": \"scatter\", \"uid\": \"2cec2eff-c203-11e8-b09f-509a4c0f1ffc\"}, {\"name\": \"\\u4e8e\\u52c7\\u4e00_\\u5e94\\u4ea4\\u9ad8\\u8d28\\u91cf\\u62a5\\u544a\\u6570\", \"x\": [\"8-3\", \"8-4\", \"9-1\", \"9-2\", \"9-3\"], \"y\": [0.0, 1.0, 2.0, 0.0, 0.0], \"type\": \"scatter\", \"uid\": \"2cec2f00-c203-11e8-8621-509a4c0f1ffc\"}, {\"name\": \"\\u4e8e\\u52c7\\u4e00_\\u63d0\\u4ea4\\u9ad8\\u8d28\\u91cf\\u62a5\\u544a\\u6570\", \"x\": [\"8-3\", \"8-4\", \"9-1\", \"9-2\", \"9-3\"], \"y\": [0.0, 1.0, 2.0, 0.0, 0.0], \"type\": \"scatter\", \"uid\": \"2cec2f01-c203-11e8-a94d-509a4c0f1ffc\"}, {\"name\": \"\\u674e\\u534e\\u4e91_\\u5e94\\u4ea4\\u9ad8\\u8d28\\u91cf\\u62a5\\u544a\\u6570\", \"x\": [\"8-3\", \"8-4\", \"9-1\", \"9-2\", \"9-3\"], \"y\": [0.0, 0.0, 0.0, 0.0, 0.0], \"type\": \"scatter\", \"uid\": \"2cec2f02-c203-11e8-a681-509a4c0f1ffc\"}, {\"name\": \"\\u674e\\u534e\\u4e91_\\u63d0\\u4ea4\\u9ad8\\u8d28\\u91cf\\u62a5\\u544a\\u6570\", \"x\": [\"8-3\", \"8-4\", \"9-1\", \"9-2\", \"9-3\"], \"y\": [0.0, 0.0, 0.0, 0.0, 0.0], \"type\": \"scatter\", \"uid\": \"2cec2f03-c203-11e8-b0d4-509a4c0f1ffc\"}, {\"name\": \"\\u5218\\u6167\\u73b2_\\u5e94\\u4ea4\\u9ad8\\u8d28\\u91cf\\u62a5\\u544a\\u6570\", \"x\": [\"8-3\", \"8-4\", \"9-1\"], \"y\": [2.0, 0.0, 0.0], \"type\": \"scatter\", \"uid\": \"2cec2f04-c203-11e8-8e85-509a4c0f1ffc\"}, {\"name\": \"\\u5218\\u6167\\u73b2_\\u63d0\\u4ea4\\u9ad8\\u8d28\\u91cf\\u62a5\\u544a\\u6570\", \"x\": [\"8-3\", \"8-4\", \"9-1\"], \"y\": [2.0, 0.0, 0.0], \"type\": \"scatter\", \"uid\": \"2cec2f05-c203-11e8-ad0e-509a4c0f1ffc\"}, {\"name\": \"\\u5b5f\\u660a_\\u5e94\\u4ea4\\u9ad8\\u8d28\\u91cf\\u62a5\\u544a\\u6570\", \"x\": [\"8-3\", \"8-4\", \"9-1\", \"9-2\", \"9-3\"], \"y\": [0.0, 0.0, 0.0, 0.0, 0.0], \"type\": \"scatter\", \"uid\": \"2cec2f06-c203-11e8-8d87-509a4c0f1ffc\"}, {\"name\": \"\\u5b5f\\u660a_\\u63d0\\u4ea4\\u9ad8\\u8d28\\u91cf\\u62a5\\u544a\\u6570\", \"x\": [\"8-3\", \"8-4\", \"9-1\", \"9-2\", \"9-3\"], \"y\": [0.0, 0.0, 0.0, 0.0, 0.0], \"type\": \"scatter\", \"uid\": \"2cec2f07-c203-11e8-8e26-509a4c0f1ffc\"}, {\"name\": \"\\u4e8e\\u6167_\\u5e94\\u4ea4\\u9ad8\\u8d28\\u91cf\\u62a5\\u544a\\u6570\", \"x\": [\"8-3\", \"8-4\", \"9-1\", \"9-2\", \"9-3\"], \"y\": [0.0, 1.0, 0.0, 0.0, 0.0], \"type\": \"scatter\", \"uid\": \"2cec2f08-c203-11e8-abd1-509a4c0f1ffc\"}, {\"name\": \"\\u4e8e\\u6167_\\u63d0\\u4ea4\\u9ad8\\u8d28\\u91cf\\u62a5\\u544a\\u6570\", \"x\": [\"8-3\", \"8-4\", \"9-1\", \"9-2\", \"9-3\"], \"y\": [0.0, 1.0, 0.0, 0.0, 0.0], \"type\": \"scatter\", \"uid\": \"2cec2f09-c203-11e8-9a4b-509a4c0f1ffc\"}, {\"name\": \"\\u8d75\\u73a5_\\u5e94\\u4ea4\\u9ad8\\u8d28\\u91cf\\u62a5\\u544a\\u6570\", \"x\": [\"8-3\", \"8-4\", \"9-1\", \"9-2\"], \"y\": [0.0, 0.0, 2.0, 1.0], \"type\": \"scatter\", \"uid\": \"2cec2f0a-c203-11e8-8f70-509a4c0f1ffc\"}, {\"name\": \"\\u8d75\\u73a5_\\u63d0\\u4ea4\\u9ad8\\u8d28\\u91cf\\u62a5\\u544a\\u6570\", \"x\": [\"8-3\", \"8-4\", \"9-1\", \"9-2\"], \"y\": [0.0, 0.0, 2.0, 1.0], \"type\": \"scatter\", \"uid\": \"2cec2f0b-c203-11e8-b815-509a4c0f1ffc\"}, {\"name\": \"\\u5c01\\u5f66\\u6770_\\u5e94\\u4ea4\\u9ad8\\u8d28\\u91cf\\u62a5\\u544a\\u6570\", \"x\": [\"8-3\", \"8-4\", \"9-1\", \"9-2\", \"9-3\"], \"y\": [0.0, 0.0, 1.0, 0.0, 0.0], \"type\": \"scatter\", \"uid\": \"2cec2f0c-c203-11e8-a1d9-509a4c0f1ffc\"}, {\"name\": \"\\u5c01\\u5f66\\u6770_\\u63d0\\u4ea4\\u9ad8\\u8d28\\u91cf\\u62a5\\u544a\\u6570\", \"x\": [\"8-3\", \"8-4\", \"9-1\", \"9-2\", \"9-3\"], \"y\": [0.0, 0.0, 1.0, 0.0, 0.0], \"type\": \"scatter\", \"uid\": \"2cec2f0d-c203-11e8-a021-509a4c0f1ffc\"}, {\"name\": \"\\u8c22\\u5fb7\\u5065_\\u5e94\\u4ea4\\u9ad8\\u8d28\\u91cf\\u62a5\\u544a\\u6570\", \"x\": [\"8-3\", \"8-4\", \"9-2\", \"9-3\"], \"y\": [0.0, 0.0, 2.0, 4.0], \"type\": \"scatter\", \"uid\": \"2cec2f0e-c203-11e8-a326-509a4c0f1ffc\"}, {\"name\": \"\\u8c22\\u5fb7\\u5065_\\u63d0\\u4ea4\\u9ad8\\u8d28\\u91cf\\u62a5\\u544a\\u6570\", \"x\": [\"8-3\", \"8-4\", \"9-2\", \"9-3\"], \"y\": [0.0, 0.0, 1.0, 4.0], \"type\": \"scatter\", \"uid\": \"2cec2f0f-c203-11e8-a28e-509a4c0f1ffc\"}, {\"name\": \"\\u5468\\u6768_\\u5e94\\u4ea4\\u9ad8\\u8d28\\u91cf\\u62a5\\u544a\\u6570\", \"x\": [\"8-3\", \"8-4\", \"9-1\", \"9-2\", \"9-3\"], \"y\": [0.0, 2.0, 0.0, 0.0, 0.0], \"type\": \"scatter\", \"uid\": \"2cec2f10-c203-11e8-aa83-509a4c0f1ffc\"}, {\"name\": \"\\u5468\\u6768_\\u63d0\\u4ea4\\u9ad8\\u8d28\\u91cf\\u62a5\\u544a\\u6570\", \"x\": [\"8-3\", \"8-4\", \"9-1\", \"9-2\", \"9-3\"], \"y\": [0.0, 2.0, 0.0, 0.0, 0.0], \"type\": \"scatter\", \"uid\": \"2cec5602-c203-11e8-8448-509a4c0f1ffc\"}, {\"name\": \"\\u5f20\\u5b88\\u4f1f_\\u5e94\\u4ea4\\u9ad8\\u8d28\\u91cf\\u62a5\\u544a\\u6570\", \"x\": [\"8-3\", \"8-4\", \"9-1\", \"9-2\"], \"y\": [1.0, 0.0, 0.0, 0.0], \"type\": \"scatter\", \"uid\": \"2cec5603-c203-11e8-8a9b-509a4c0f1ffc\"}, {\"name\": \"\\u5f20\\u5b88\\u4f1f_\\u63d0\\u4ea4\\u9ad8\\u8d28\\u91cf\\u62a5\\u544a\\u6570\", \"x\": [\"8-3\", \"8-4\", \"9-1\", \"9-2\"], \"y\": [1.0, 0.0, 0.0, 0.0], \"type\": \"scatter\", \"uid\": \"2cec5604-c203-11e8-ad84-509a4c0f1ffc\"}, {\"name\": \"\\u8def\\u6167\\u840d_\\u5e94\\u4ea4\\u9ad8\\u8d28\\u91cf\\u62a5\\u544a\\u6570\", \"x\": [\"8-3\", \"8-4\", \"9-1\", \"9-2\", \"9-3\"], \"y\": [1.0, 0.0, 0.0, 0.0, 0.0], \"type\": \"scatter\", \"uid\": \"2cec5605-c203-11e8-ab1f-509a4c0f1ffc\"}, {\"name\": \"\\u8def\\u6167\\u840d_\\u63d0\\u4ea4\\u9ad8\\u8d28\\u91cf\\u62a5\\u544a\\u6570\", \"x\": [\"8-3\", \"8-4\", \"9-1\", \"9-2\", \"9-3\"], \"y\": [1.0, 0.0, 0.0, 0.0, 0.0], \"type\": \"scatter\", \"uid\": \"2cec5606-c203-11e8-add0-509a4c0f1ffc\"}, {\"name\": \"\\u5360\\u4f1f_\\u5e94\\u4ea4\\u9ad8\\u8d28\\u91cf\\u62a5\\u544a\\u6570\", \"x\": [\"8-3\", \"8-4\", \"9-1\", \"9-2\"], \"y\": [1.0, 0.0, 2.0, 0.0], \"type\": \"scatter\", \"uid\": \"2cec5607-c203-11e8-8f83-509a4c0f1ffc\"}, {\"name\": \"\\u5360\\u4f1f_\\u63d0\\u4ea4\\u9ad8\\u8d28\\u91cf\\u62a5\\u544a\\u6570\", \"x\": [\"8-3\", \"8-4\", \"9-1\", \"9-2\"], \"y\": [1.0, 0.0, 2.0, 0.0], \"type\": \"scatter\", \"uid\": \"2cec5608-c203-11e8-a9b8-509a4c0f1ffc\"}, {\"name\": \"\\u738b\\u5b81_\\u5e94\\u4ea4\\u9ad8\\u8d28\\u91cf\\u62a5\\u544a\\u6570\", \"x\": [\"8-3\", \"8-4\", \"9-1\"], \"y\": [0.0, 1.0, 0.0], \"type\": \"scatter\", \"uid\": \"2cec5609-c203-11e8-a00c-509a4c0f1ffc\"}, {\"name\": \"\\u738b\\u5b81_\\u63d0\\u4ea4\\u9ad8\\u8d28\\u91cf\\u62a5\\u544a\\u6570\", \"x\": [\"8-3\", \"8-4\", \"9-1\"], \"y\": [0.0, 1.0, 0.0], \"type\": \"scatter\", \"uid\": \"2cec560a-c203-11e8-8ac5-509a4c0f1ffc\"}, {\"name\": \"\\u674e\\u5e86\\u539f_\\u5e94\\u4ea4\\u9ad8\\u8d28\\u91cf\\u62a5\\u544a\\u6570\", \"x\": [\"8-3\", \"8-4\", \"9-1\", \"9-2\", \"9-3\"], \"y\": [0.0, 0.0, 1.0, 0.0, 0.0], \"type\": \"scatter\", \"uid\": \"2cec560b-c203-11e8-abdf-509a4c0f1ffc\"}, {\"name\": \"\\u674e\\u5e86\\u539f_\\u63d0\\u4ea4\\u9ad8\\u8d28\\u91cf\\u62a5\\u544a\\u6570\", \"x\": [\"8-3\", \"8-4\", \"9-1\", \"9-2\", \"9-3\"], \"y\": [0.0, 0.0, 1.0, 0.0, 0.0], \"type\": \"scatter\", \"uid\": \"2cec560c-c203-11e8-a3a3-509a4c0f1ffc\"}, {\"name\": \"\\u8303\\u65ed\\u5b81_\\u5e94\\u4ea4\\u9ad8\\u8d28\\u91cf\\u62a5\\u544a\\u6570\", \"x\": [\"8-3\", \"8-4\", \"9-1\", \"9-2\"], \"y\": [0.0, 0.0, 1.0, 2.0], \"type\": \"scatter\", \"uid\": \"2cec560d-c203-11e8-a241-509a4c0f1ffc\"}, {\"name\": \"\\u8303\\u65ed\\u5b81_\\u63d0\\u4ea4\\u9ad8\\u8d28\\u91cf\\u62a5\\u544a\\u6570\", \"x\": [\"8-3\", \"8-4\", \"9-1\", \"9-2\"], \"y\": [0.0, 0.0, 1.0, 1.0], \"type\": \"scatter\", \"uid\": \"2cec560e-c203-11e8-a5a8-509a4c0f1ffc\"}, {\"name\": \"\\u9a6c\\u6f47_\\u5e94\\u4ea4\\u9ad8\\u8d28\\u91cf\\u62a5\\u544a\\u6570\", \"x\": [\"8-3\", \"8-4\", \"9-1\", \"9-2\"], \"y\": [0.0, 0.0, 0.0, 0.0], \"type\": \"scatter\", \"uid\": \"2cec560f-c203-11e8-8827-509a4c0f1ffc\"}, {\"name\": \"\\u9a6c\\u6f47_\\u63d0\\u4ea4\\u9ad8\\u8d28\\u91cf\\u62a5\\u544a\\u6570\", \"x\": [\"8-3\", \"8-4\", \"9-1\", \"9-2\"], \"y\": [0.0, 0.0, 0.0, 0.0], \"type\": \"scatter\", \"uid\": \"2cec5610-c203-11e8-883d-509a4c0f1ffc\"}, {\"name\": \"\\u4efb\\u96ea_\\u5e94\\u4ea4\\u9ad8\\u8d28\\u91cf\\u62a5\\u544a\\u6570\", \"x\": [\"8-4\", \"9-1\", \"9-2\", \"9-3\"], \"y\": [0.0, 2.0, 0.0, 0.0], \"type\": \"scatter\", \"uid\": \"2cec5611-c203-11e8-93ee-509a4c0f1ffc\"}, {\"name\": \"\\u4efb\\u96ea_\\u63d0\\u4ea4\\u9ad8\\u8d28\\u91cf\\u62a5\\u544a\\u6570\", \"x\": [\"8-4\", \"9-1\", \"9-2\", \"9-3\"], \"y\": [0.0, 2.0, 0.0, 0.0], \"type\": \"scatter\", \"uid\": \"2cec5612-c203-11e8-b7fc-509a4c0f1ffc\"}],\n",
       "            {\"title\": \"\\u5e94\\u4ea4\\u9ad8\\u8d28\\u91cf\\u62a5\\u544a\\u6570&\\u63d0\\u4ea4\\u9ad8\\u8d28\\u91cf\\u62a5\\u544a\\u6570\\u5468\\u8d8b\\u52bf\\u56fe\", \"xaxis\": {\"mirror\": \"all\", \"nticks\": 20, \"showgrid\": true, \"showline\": true, \"title\": \"\\u5468\", \"zeroline\": true}, \"yaxis\": {\"mirror\": \"all\", \"nticks\": 20, \"showgrid\": true, \"showline\": true, \"title\": \"\\u5e94\\u4ea4\\u9ad8\\u8d28\\u91cf\\u62a5\\u544a\\u6570&\\u63d0\\u4ea4\\u9ad8\\u8d28\\u91cf\\u62a5\\u544a\\u6570\", \"zeroline\": true}},\n",
       "            {\"showLink\": true, \"linkText\": \"Export to plot.ly\"}\n",
       "        ).then(function () {return Plotly.addFrames('8b9247b3-ba9f-42af-8bb7-3cec54fbd6af',{});}).then(function(){Plotly.animate('8b9247b3-ba9f-42af-8bb7-3cec54fbd6af');})\n",
       "        });</script>"
      ],
      "text/vnd.plotly.v1+html": [
       "<div id=\"8b9247b3-ba9f-42af-8bb7-3cec54fbd6af\" style=\"height: 525px; width: 100%;\" class=\"plotly-graph-div\"></div><script type=\"text/javascript\">require([\"plotly\"], function(Plotly) { window.PLOTLYENV=window.PLOTLYENV || {};window.PLOTLYENV.BASE_URL=\"https://plot.ly\";\n",
       "        Plotly.plot(\n",
       "            '8b9247b3-ba9f-42af-8bb7-3cec54fbd6af',\n",
       "            [{\"name\": \"\\u5218\\u6c5f_\\u5e94\\u4ea4\\u9ad8\\u8d28\\u91cf\\u62a5\\u544a\\u6570\", \"x\": [\"8-3\", \"8-4\", \"9-1\", \"9-2\", \"9-3\"], \"y\": [0.0, 0.0, 3.0, 0.0, 0.0], \"type\": \"scatter\", \"uid\": \"2cec2ef4-c203-11e8-b927-509a4c0f1ffc\"}, {\"name\": \"\\u5218\\u6c5f_\\u63d0\\u4ea4\\u9ad8\\u8d28\\u91cf\\u62a5\\u544a\\u6570\", \"x\": [\"8-3\", \"8-4\", \"9-1\", \"9-2\", \"9-3\"], \"y\": [0.0, 0.0, 3.0, 0.0, 1.0], \"type\": \"scatter\", \"uid\": \"2cec2ef5-c203-11e8-8eb5-509a4c0f1ffc\"}, {\"name\": \"\\u82cf\\u5f66\\u52cb_\\u5e94\\u4ea4\\u9ad8\\u8d28\\u91cf\\u62a5\\u544a\\u6570\", \"x\": [\"8-3\", \"8-4\", \"9-1\", \"9-2\", \"9-3\"], \"y\": [0.0, 1.0, 1.0, 0.0, 0.0], \"type\": \"scatter\", \"uid\": \"2cec2ef6-c203-11e8-b5ac-509a4c0f1ffc\"}, {\"name\": \"\\u82cf\\u5f66\\u52cb_\\u63d0\\u4ea4\\u9ad8\\u8d28\\u91cf\\u62a5\\u544a\\u6570\", \"x\": [\"8-3\", \"8-4\", \"9-1\", \"9-2\", \"9-3\"], \"y\": [0.0, 1.0, 1.0, 0.0, 0.0], \"type\": \"scatter\", \"uid\": \"2cec2ef7-c203-11e8-8ccf-509a4c0f1ffc\"}, {\"name\": \"\\u59da\\u76df\\u6210_\\u5e94\\u4ea4\\u9ad8\\u8d28\\u91cf\\u62a5\\u544a\\u6570\", \"x\": [\"8-3\", \"8-4\", \"9-1\", \"9-2\", \"9-3\"], \"y\": [2.0, 0.0, 0.0, 1.0, 0.0], \"type\": \"scatter\", \"uid\": \"2cec2ef8-c203-11e8-9ffd-509a4c0f1ffc\"}, {\"name\": \"\\u59da\\u76df\\u6210_\\u63d0\\u4ea4\\u9ad8\\u8d28\\u91cf\\u62a5\\u544a\\u6570\", \"x\": [\"8-3\", \"8-4\", \"9-1\", \"9-2\", \"9-3\"], \"y\": [2.0, 0.0, 0.0, 1.0, 0.0], \"type\": \"scatter\", \"uid\": \"2cec2ef9-c203-11e8-88c8-509a4c0f1ffc\"}, {\"name\": \"\\u5b8b\\u8fce\\u6960_\\u5e94\\u4ea4\\u9ad8\\u8d28\\u91cf\\u62a5\\u544a\\u6570\", \"x\": [\"8-3\", \"8-4\", \"9-1\"], \"y\": [2.0, 0.0, 0.0], \"type\": \"scatter\", \"uid\": \"2cec2efa-c203-11e8-9da2-509a4c0f1ffc\"}, {\"name\": \"\\u5b8b\\u8fce\\u6960_\\u63d0\\u4ea4\\u9ad8\\u8d28\\u91cf\\u62a5\\u544a\\u6570\", \"x\": [\"8-3\", \"8-4\", \"9-1\"], \"y\": [2.0, 0.0, 0.0], \"type\": \"scatter\", \"uid\": \"2cec2efb-c203-11e8-9acd-509a4c0f1ffc\"}, {\"name\": \"\\u6768\\u4f1f\\u98de_\\u5e94\\u4ea4\\u9ad8\\u8d28\\u91cf\\u62a5\\u544a\\u6570\", \"x\": [\"8-3\", \"8-4\", \"9-1\", \"9-2\", \"9-3\"], \"y\": [0.0, 0.0, 2.0, 1.0, 0.0], \"type\": \"scatter\", \"uid\": \"2cec2efc-c203-11e8-a59e-509a4c0f1ffc\"}, {\"name\": \"\\u6768\\u4f1f\\u98de_\\u63d0\\u4ea4\\u9ad8\\u8d28\\u91cf\\u62a5\\u544a\\u6570\", \"x\": [\"8-3\", \"8-4\", \"9-1\", \"9-2\", \"9-3\"], \"y\": [0.0, 0.0, 2.0, 1.0, 0.0], \"type\": \"scatter\", \"uid\": \"2cec2efd-c203-11e8-a221-509a4c0f1ffc\"}, {\"name\": \"\\u97e9\\u5c11\\u6000_\\u5e94\\u4ea4\\u9ad8\\u8d28\\u91cf\\u62a5\\u544a\\u6570\", \"x\": [\"8-3\", \"8-4\", \"9-1\", \"9-2\"], \"y\": [0.0, 1.0, 0.0, 1.0], \"type\": \"scatter\", \"uid\": \"2cec2efe-c203-11e8-9e10-509a4c0f1ffc\"}, {\"name\": \"\\u97e9\\u5c11\\u6000_\\u63d0\\u4ea4\\u9ad8\\u8d28\\u91cf\\u62a5\\u544a\\u6570\", \"x\": [\"8-3\", \"8-4\", \"9-1\", \"9-2\"], \"y\": [0.0, 1.0, 0.0, 1.0], \"type\": \"scatter\", \"uid\": \"2cec2eff-c203-11e8-b09f-509a4c0f1ffc\"}, {\"name\": \"\\u4e8e\\u52c7\\u4e00_\\u5e94\\u4ea4\\u9ad8\\u8d28\\u91cf\\u62a5\\u544a\\u6570\", \"x\": [\"8-3\", \"8-4\", \"9-1\", \"9-2\", \"9-3\"], \"y\": [0.0, 1.0, 2.0, 0.0, 0.0], \"type\": \"scatter\", \"uid\": \"2cec2f00-c203-11e8-8621-509a4c0f1ffc\"}, {\"name\": \"\\u4e8e\\u52c7\\u4e00_\\u63d0\\u4ea4\\u9ad8\\u8d28\\u91cf\\u62a5\\u544a\\u6570\", \"x\": [\"8-3\", \"8-4\", \"9-1\", \"9-2\", \"9-3\"], \"y\": [0.0, 1.0, 2.0, 0.0, 0.0], \"type\": \"scatter\", \"uid\": \"2cec2f01-c203-11e8-a94d-509a4c0f1ffc\"}, {\"name\": \"\\u674e\\u534e\\u4e91_\\u5e94\\u4ea4\\u9ad8\\u8d28\\u91cf\\u62a5\\u544a\\u6570\", \"x\": [\"8-3\", \"8-4\", \"9-1\", \"9-2\", \"9-3\"], \"y\": [0.0, 0.0, 0.0, 0.0, 0.0], \"type\": \"scatter\", \"uid\": \"2cec2f02-c203-11e8-a681-509a4c0f1ffc\"}, {\"name\": \"\\u674e\\u534e\\u4e91_\\u63d0\\u4ea4\\u9ad8\\u8d28\\u91cf\\u62a5\\u544a\\u6570\", \"x\": [\"8-3\", \"8-4\", \"9-1\", \"9-2\", \"9-3\"], \"y\": [0.0, 0.0, 0.0, 0.0, 0.0], \"type\": \"scatter\", \"uid\": \"2cec2f03-c203-11e8-b0d4-509a4c0f1ffc\"}, {\"name\": \"\\u5218\\u6167\\u73b2_\\u5e94\\u4ea4\\u9ad8\\u8d28\\u91cf\\u62a5\\u544a\\u6570\", \"x\": [\"8-3\", \"8-4\", \"9-1\"], \"y\": [2.0, 0.0, 0.0], \"type\": \"scatter\", \"uid\": \"2cec2f04-c203-11e8-8e85-509a4c0f1ffc\"}, {\"name\": \"\\u5218\\u6167\\u73b2_\\u63d0\\u4ea4\\u9ad8\\u8d28\\u91cf\\u62a5\\u544a\\u6570\", \"x\": [\"8-3\", \"8-4\", \"9-1\"], \"y\": [2.0, 0.0, 0.0], \"type\": \"scatter\", \"uid\": \"2cec2f05-c203-11e8-ad0e-509a4c0f1ffc\"}, {\"name\": \"\\u5b5f\\u660a_\\u5e94\\u4ea4\\u9ad8\\u8d28\\u91cf\\u62a5\\u544a\\u6570\", \"x\": [\"8-3\", \"8-4\", \"9-1\", \"9-2\", \"9-3\"], \"y\": [0.0, 0.0, 0.0, 0.0, 0.0], \"type\": \"scatter\", \"uid\": \"2cec2f06-c203-11e8-8d87-509a4c0f1ffc\"}, {\"name\": \"\\u5b5f\\u660a_\\u63d0\\u4ea4\\u9ad8\\u8d28\\u91cf\\u62a5\\u544a\\u6570\", \"x\": [\"8-3\", \"8-4\", \"9-1\", \"9-2\", \"9-3\"], \"y\": [0.0, 0.0, 0.0, 0.0, 0.0], \"type\": \"scatter\", \"uid\": \"2cec2f07-c203-11e8-8e26-509a4c0f1ffc\"}, {\"name\": \"\\u4e8e\\u6167_\\u5e94\\u4ea4\\u9ad8\\u8d28\\u91cf\\u62a5\\u544a\\u6570\", \"x\": [\"8-3\", \"8-4\", \"9-1\", \"9-2\", \"9-3\"], \"y\": [0.0, 1.0, 0.0, 0.0, 0.0], \"type\": \"scatter\", \"uid\": \"2cec2f08-c203-11e8-abd1-509a4c0f1ffc\"}, {\"name\": \"\\u4e8e\\u6167_\\u63d0\\u4ea4\\u9ad8\\u8d28\\u91cf\\u62a5\\u544a\\u6570\", \"x\": [\"8-3\", \"8-4\", \"9-1\", \"9-2\", \"9-3\"], \"y\": [0.0, 1.0, 0.0, 0.0, 0.0], \"type\": \"scatter\", \"uid\": \"2cec2f09-c203-11e8-9a4b-509a4c0f1ffc\"}, {\"name\": \"\\u8d75\\u73a5_\\u5e94\\u4ea4\\u9ad8\\u8d28\\u91cf\\u62a5\\u544a\\u6570\", \"x\": [\"8-3\", \"8-4\", \"9-1\", \"9-2\"], \"y\": [0.0, 0.0, 2.0, 1.0], \"type\": \"scatter\", \"uid\": \"2cec2f0a-c203-11e8-8f70-509a4c0f1ffc\"}, {\"name\": \"\\u8d75\\u73a5_\\u63d0\\u4ea4\\u9ad8\\u8d28\\u91cf\\u62a5\\u544a\\u6570\", \"x\": [\"8-3\", \"8-4\", \"9-1\", \"9-2\"], \"y\": [0.0, 0.0, 2.0, 1.0], \"type\": \"scatter\", \"uid\": \"2cec2f0b-c203-11e8-b815-509a4c0f1ffc\"}, {\"name\": \"\\u5c01\\u5f66\\u6770_\\u5e94\\u4ea4\\u9ad8\\u8d28\\u91cf\\u62a5\\u544a\\u6570\", \"x\": [\"8-3\", \"8-4\", \"9-1\", \"9-2\", \"9-3\"], \"y\": [0.0, 0.0, 1.0, 0.0, 0.0], \"type\": \"scatter\", \"uid\": \"2cec2f0c-c203-11e8-a1d9-509a4c0f1ffc\"}, {\"name\": \"\\u5c01\\u5f66\\u6770_\\u63d0\\u4ea4\\u9ad8\\u8d28\\u91cf\\u62a5\\u544a\\u6570\", \"x\": [\"8-3\", \"8-4\", \"9-1\", \"9-2\", \"9-3\"], \"y\": [0.0, 0.0, 1.0, 0.0, 0.0], \"type\": \"scatter\", \"uid\": \"2cec2f0d-c203-11e8-a021-509a4c0f1ffc\"}, {\"name\": \"\\u8c22\\u5fb7\\u5065_\\u5e94\\u4ea4\\u9ad8\\u8d28\\u91cf\\u62a5\\u544a\\u6570\", \"x\": [\"8-3\", \"8-4\", \"9-2\", \"9-3\"], \"y\": [0.0, 0.0, 2.0, 4.0], \"type\": \"scatter\", \"uid\": \"2cec2f0e-c203-11e8-a326-509a4c0f1ffc\"}, {\"name\": \"\\u8c22\\u5fb7\\u5065_\\u63d0\\u4ea4\\u9ad8\\u8d28\\u91cf\\u62a5\\u544a\\u6570\", \"x\": [\"8-3\", \"8-4\", \"9-2\", \"9-3\"], \"y\": [0.0, 0.0, 1.0, 4.0], \"type\": \"scatter\", \"uid\": \"2cec2f0f-c203-11e8-a28e-509a4c0f1ffc\"}, {\"name\": \"\\u5468\\u6768_\\u5e94\\u4ea4\\u9ad8\\u8d28\\u91cf\\u62a5\\u544a\\u6570\", \"x\": [\"8-3\", \"8-4\", \"9-1\", \"9-2\", \"9-3\"], \"y\": [0.0, 2.0, 0.0, 0.0, 0.0], \"type\": \"scatter\", \"uid\": \"2cec2f10-c203-11e8-aa83-509a4c0f1ffc\"}, {\"name\": \"\\u5468\\u6768_\\u63d0\\u4ea4\\u9ad8\\u8d28\\u91cf\\u62a5\\u544a\\u6570\", \"x\": [\"8-3\", \"8-4\", \"9-1\", \"9-2\", \"9-3\"], \"y\": [0.0, 2.0, 0.0, 0.0, 0.0], \"type\": \"scatter\", \"uid\": \"2cec5602-c203-11e8-8448-509a4c0f1ffc\"}, {\"name\": \"\\u5f20\\u5b88\\u4f1f_\\u5e94\\u4ea4\\u9ad8\\u8d28\\u91cf\\u62a5\\u544a\\u6570\", \"x\": [\"8-3\", \"8-4\", \"9-1\", \"9-2\"], \"y\": [1.0, 0.0, 0.0, 0.0], \"type\": \"scatter\", \"uid\": \"2cec5603-c203-11e8-8a9b-509a4c0f1ffc\"}, {\"name\": \"\\u5f20\\u5b88\\u4f1f_\\u63d0\\u4ea4\\u9ad8\\u8d28\\u91cf\\u62a5\\u544a\\u6570\", \"x\": [\"8-3\", \"8-4\", \"9-1\", \"9-2\"], \"y\": [1.0, 0.0, 0.0, 0.0], \"type\": \"scatter\", \"uid\": \"2cec5604-c203-11e8-ad84-509a4c0f1ffc\"}, {\"name\": \"\\u8def\\u6167\\u840d_\\u5e94\\u4ea4\\u9ad8\\u8d28\\u91cf\\u62a5\\u544a\\u6570\", \"x\": [\"8-3\", \"8-4\", \"9-1\", \"9-2\", \"9-3\"], \"y\": [1.0, 0.0, 0.0, 0.0, 0.0], \"type\": \"scatter\", \"uid\": \"2cec5605-c203-11e8-ab1f-509a4c0f1ffc\"}, {\"name\": \"\\u8def\\u6167\\u840d_\\u63d0\\u4ea4\\u9ad8\\u8d28\\u91cf\\u62a5\\u544a\\u6570\", \"x\": [\"8-3\", \"8-4\", \"9-1\", \"9-2\", \"9-3\"], \"y\": [1.0, 0.0, 0.0, 0.0, 0.0], \"type\": \"scatter\", \"uid\": \"2cec5606-c203-11e8-add0-509a4c0f1ffc\"}, {\"name\": \"\\u5360\\u4f1f_\\u5e94\\u4ea4\\u9ad8\\u8d28\\u91cf\\u62a5\\u544a\\u6570\", \"x\": [\"8-3\", \"8-4\", \"9-1\", \"9-2\"], \"y\": [1.0, 0.0, 2.0, 0.0], \"type\": \"scatter\", \"uid\": \"2cec5607-c203-11e8-8f83-509a4c0f1ffc\"}, {\"name\": \"\\u5360\\u4f1f_\\u63d0\\u4ea4\\u9ad8\\u8d28\\u91cf\\u62a5\\u544a\\u6570\", \"x\": [\"8-3\", \"8-4\", \"9-1\", \"9-2\"], \"y\": [1.0, 0.0, 2.0, 0.0], \"type\": \"scatter\", \"uid\": \"2cec5608-c203-11e8-a9b8-509a4c0f1ffc\"}, {\"name\": \"\\u738b\\u5b81_\\u5e94\\u4ea4\\u9ad8\\u8d28\\u91cf\\u62a5\\u544a\\u6570\", \"x\": [\"8-3\", \"8-4\", \"9-1\"], \"y\": [0.0, 1.0, 0.0], \"type\": \"scatter\", \"uid\": \"2cec5609-c203-11e8-a00c-509a4c0f1ffc\"}, {\"name\": \"\\u738b\\u5b81_\\u63d0\\u4ea4\\u9ad8\\u8d28\\u91cf\\u62a5\\u544a\\u6570\", \"x\": [\"8-3\", \"8-4\", \"9-1\"], \"y\": [0.0, 1.0, 0.0], \"type\": \"scatter\", \"uid\": \"2cec560a-c203-11e8-8ac5-509a4c0f1ffc\"}, {\"name\": \"\\u674e\\u5e86\\u539f_\\u5e94\\u4ea4\\u9ad8\\u8d28\\u91cf\\u62a5\\u544a\\u6570\", \"x\": [\"8-3\", \"8-4\", \"9-1\", \"9-2\", \"9-3\"], \"y\": [0.0, 0.0, 1.0, 0.0, 0.0], \"type\": \"scatter\", \"uid\": \"2cec560b-c203-11e8-abdf-509a4c0f1ffc\"}, {\"name\": \"\\u674e\\u5e86\\u539f_\\u63d0\\u4ea4\\u9ad8\\u8d28\\u91cf\\u62a5\\u544a\\u6570\", \"x\": [\"8-3\", \"8-4\", \"9-1\", \"9-2\", \"9-3\"], \"y\": [0.0, 0.0, 1.0, 0.0, 0.0], \"type\": \"scatter\", \"uid\": \"2cec560c-c203-11e8-a3a3-509a4c0f1ffc\"}, {\"name\": \"\\u8303\\u65ed\\u5b81_\\u5e94\\u4ea4\\u9ad8\\u8d28\\u91cf\\u62a5\\u544a\\u6570\", \"x\": [\"8-3\", \"8-4\", \"9-1\", \"9-2\"], \"y\": [0.0, 0.0, 1.0, 2.0], \"type\": \"scatter\", \"uid\": \"2cec560d-c203-11e8-a241-509a4c0f1ffc\"}, {\"name\": \"\\u8303\\u65ed\\u5b81_\\u63d0\\u4ea4\\u9ad8\\u8d28\\u91cf\\u62a5\\u544a\\u6570\", \"x\": [\"8-3\", \"8-4\", \"9-1\", \"9-2\"], \"y\": [0.0, 0.0, 1.0, 1.0], \"type\": \"scatter\", \"uid\": \"2cec560e-c203-11e8-a5a8-509a4c0f1ffc\"}, {\"name\": \"\\u9a6c\\u6f47_\\u5e94\\u4ea4\\u9ad8\\u8d28\\u91cf\\u62a5\\u544a\\u6570\", \"x\": [\"8-3\", \"8-4\", \"9-1\", \"9-2\"], \"y\": [0.0, 0.0, 0.0, 0.0], \"type\": \"scatter\", \"uid\": \"2cec560f-c203-11e8-8827-509a4c0f1ffc\"}, {\"name\": \"\\u9a6c\\u6f47_\\u63d0\\u4ea4\\u9ad8\\u8d28\\u91cf\\u62a5\\u544a\\u6570\", \"x\": [\"8-3\", \"8-4\", \"9-1\", \"9-2\"], \"y\": [0.0, 0.0, 0.0, 0.0], \"type\": \"scatter\", \"uid\": \"2cec5610-c203-11e8-883d-509a4c0f1ffc\"}, {\"name\": \"\\u4efb\\u96ea_\\u5e94\\u4ea4\\u9ad8\\u8d28\\u91cf\\u62a5\\u544a\\u6570\", \"x\": [\"8-4\", \"9-1\", \"9-2\", \"9-3\"], \"y\": [0.0, 2.0, 0.0, 0.0], \"type\": \"scatter\", \"uid\": \"2cec5611-c203-11e8-93ee-509a4c0f1ffc\"}, {\"name\": \"\\u4efb\\u96ea_\\u63d0\\u4ea4\\u9ad8\\u8d28\\u91cf\\u62a5\\u544a\\u6570\", \"x\": [\"8-4\", \"9-1\", \"9-2\", \"9-3\"], \"y\": [0.0, 2.0, 0.0, 0.0], \"type\": \"scatter\", \"uid\": \"2cec5612-c203-11e8-b7fc-509a4c0f1ffc\"}],\n",
       "            {\"title\": \"\\u5e94\\u4ea4\\u9ad8\\u8d28\\u91cf\\u62a5\\u544a\\u6570&\\u63d0\\u4ea4\\u9ad8\\u8d28\\u91cf\\u62a5\\u544a\\u6570\\u5468\\u8d8b\\u52bf\\u56fe\", \"xaxis\": {\"mirror\": \"all\", \"nticks\": 20, \"showgrid\": true, \"showline\": true, \"title\": \"\\u5468\", \"zeroline\": true}, \"yaxis\": {\"mirror\": \"all\", \"nticks\": 20, \"showgrid\": true, \"showline\": true, \"title\": \"\\u5e94\\u4ea4\\u9ad8\\u8d28\\u91cf\\u62a5\\u544a\\u6570&\\u63d0\\u4ea4\\u9ad8\\u8d28\\u91cf\\u62a5\\u544a\\u6570\", \"zeroline\": true}},\n",
       "            {\"showLink\": true, \"linkText\": \"Export to plot.ly\"}\n",
       "        ).then(function () {return Plotly.addFrames('8b9247b3-ba9f-42af-8bb7-3cec54fbd6af',{});}).then(function(){Plotly.animate('8b9247b3-ba9f-42af-8bb7-3cec54fbd6af');})\n",
       "        });</script>"
      ]
     },
     "metadata": {},
     "output_type": "display_data"
    },
    {
     "data": {
      "application/vnd.plotly.v1+json": {
       "data": [
        {
         "name": "于勇一_应交高质量报告数",
         "type": "scatter",
         "uid": "2d432892-c203-11e8-8265-509a4c0f1ffc",
         "x": [
          "8",
          "9"
         ],
         "y": [
          1,
          2
         ]
        },
        {
         "name": "于勇一_提交高质量报告数",
         "type": "scatter",
         "uid": "2d432893-c203-11e8-a536-509a4c0f1ffc",
         "x": [
          "8",
          "9"
         ],
         "y": [
          1,
          2
         ]
        },
        {
         "name": "于慧_应交高质量报告数",
         "type": "scatter",
         "uid": "2d432894-c203-11e8-9578-509a4c0f1ffc",
         "x": [
          "8",
          "9"
         ],
         "y": [
          1,
          0
         ]
        },
        {
         "name": "于慧_提交高质量报告数",
         "type": "scatter",
         "uid": "2d432895-c203-11e8-8489-509a4c0f1ffc",
         "x": [
          "8",
          "9"
         ],
         "y": [
          1,
          0
         ]
        },
        {
         "name": "任雪_应交高质量报告数",
         "type": "scatter",
         "uid": "2d432896-c203-11e8-a2e5-509a4c0f1ffc",
         "x": [
          "8",
          "9"
         ],
         "y": [
          null,
          2
         ]
        },
        {
         "name": "任雪_提交高质量报告数",
         "type": "scatter",
         "uid": "2d432897-c203-11e8-9f71-509a4c0f1ffc",
         "x": [
          "8",
          "9"
         ],
         "y": [
          null,
          2
         ]
        },
        {
         "name": "刘慧玲_应交高质量报告数",
         "type": "scatter",
         "uid": "2d432898-c203-11e8-a969-509a4c0f1ffc",
         "x": [
          "8",
          "9"
         ],
         "y": [
          2,
          null
         ]
        },
        {
         "name": "刘慧玲_提交高质量报告数",
         "type": "scatter",
         "uid": "2d432899-c203-11e8-b376-509a4c0f1ffc",
         "x": [
          "8",
          "9"
         ],
         "y": [
          2,
          null
         ]
        },
        {
         "name": "刘江_应交高质量报告数",
         "type": "scatter",
         "uid": "2d434fa2-c203-11e8-abed-509a4c0f1ffc",
         "x": [
          "8",
          "9"
         ],
         "y": [
          0,
          3
         ]
        },
        {
         "name": "刘江_提交高质量报告数",
         "type": "scatter",
         "uid": "2d434fa3-c203-11e8-909c-509a4c0f1ffc",
         "x": [
          "8",
          "9"
         ],
         "y": [
          0,
          4
         ]
        },
        {
         "name": "占伟_应交高质量报告数",
         "type": "scatter",
         "uid": "2d434fa4-c203-11e8-bd99-509a4c0f1ffc",
         "x": [
          "8",
          "9"
         ],
         "y": [
          1,
          null
         ]
        },
        {
         "name": "占伟_提交高质量报告数",
         "type": "scatter",
         "uid": "2d434fa5-c203-11e8-885e-509a4c0f1ffc",
         "x": [
          "8",
          "9"
         ],
         "y": [
          1,
          null
         ]
        },
        {
         "name": "周杨_应交高质量报告数",
         "type": "scatter",
         "uid": "2d434fa6-c203-11e8-b698-509a4c0f1ffc",
         "x": [
          "8",
          "9"
         ],
         "y": [
          2,
          0
         ]
        },
        {
         "name": "周杨_提交高质量报告数",
         "type": "scatter",
         "uid": "2d434fa7-c203-11e8-a1a1-509a4c0f1ffc",
         "x": [
          "8",
          "9"
         ],
         "y": [
          2,
          0
         ]
        },
        {
         "name": "姚盟成_应交高质量报告数",
         "type": "scatter",
         "uid": "2d434fa8-c203-11e8-9f60-509a4c0f1ffc",
         "x": [
          "8",
          "9"
         ],
         "y": [
          2,
          1
         ]
        },
        {
         "name": "姚盟成_提交高质量报告数",
         "type": "scatter",
         "uid": "2d434fa9-c203-11e8-819e-509a4c0f1ffc",
         "x": [
          "8",
          "9"
         ],
         "y": [
          2,
          1
         ]
        },
        {
         "name": "孟昊_应交高质量报告数",
         "type": "scatter",
         "uid": "2d434faa-c203-11e8-89eb-509a4c0f1ffc",
         "x": [
          "8",
          "9"
         ],
         "y": [
          0,
          0
         ]
        },
        {
         "name": "孟昊_提交高质量报告数",
         "type": "scatter",
         "uid": "2d434fab-c203-11e8-8cd6-509a4c0f1ffc",
         "x": [
          "8",
          "9"
         ],
         "y": [
          0,
          0
         ]
        },
        {
         "name": "宋迎楠_应交高质量报告数",
         "type": "scatter",
         "uid": "2d434fac-c203-11e8-9e72-509a4c0f1ffc",
         "x": [
          "8",
          "9"
         ],
         "y": [
          2,
          null
         ]
        },
        {
         "name": "宋迎楠_提交高质量报告数",
         "type": "scatter",
         "uid": "2d434fad-c203-11e8-b861-509a4c0f1ffc",
         "x": [
          "8",
          "9"
         ],
         "y": [
          2,
          null
         ]
        },
        {
         "name": "封彦杰_应交高质量报告数",
         "type": "scatter",
         "uid": "2d434fae-c203-11e8-8d41-509a4c0f1ffc",
         "x": [
          "8",
          "9"
         ],
         "y": [
          0,
          1
         ]
        },
        {
         "name": "封彦杰_提交高质量报告数",
         "type": "scatter",
         "uid": "2d434faf-c203-11e8-9fef-509a4c0f1ffc",
         "x": [
          "8",
          "9"
         ],
         "y": [
          0,
          1
         ]
        },
        {
         "name": "张守伟_应交高质量报告数",
         "type": "scatter",
         "uid": "2d434fb0-c203-11e8-bf73-509a4c0f1ffc",
         "x": [
          "8",
          "9"
         ],
         "y": [
          1,
          null
         ]
        },
        {
         "name": "张守伟_提交高质量报告数",
         "type": "scatter",
         "uid": "2d434fb1-c203-11e8-9cc5-509a4c0f1ffc",
         "x": [
          "8",
          "9"
         ],
         "y": [
          1,
          null
         ]
        },
        {
         "name": "李华云_应交高质量报告数",
         "type": "scatter",
         "uid": "2d434fb2-c203-11e8-b774-509a4c0f1ffc",
         "x": [
          "8",
          "9"
         ],
         "y": [
          0,
          0
         ]
        },
        {
         "name": "李华云_提交高质量报告数",
         "type": "scatter",
         "uid": "2d434fb3-c203-11e8-aa87-509a4c0f1ffc",
         "x": [
          "8",
          "9"
         ],
         "y": [
          0,
          0
         ]
        },
        {
         "name": "李庆原_应交高质量报告数",
         "type": "scatter",
         "uid": "2d434fb4-c203-11e8-88fe-509a4c0f1ffc",
         "x": [
          "8",
          "9"
         ],
         "y": [
          0,
          1
         ]
        },
        {
         "name": "李庆原_提交高质量报告数",
         "type": "scatter",
         "uid": "2d434fb5-c203-11e8-8861-509a4c0f1ffc",
         "x": [
          "8",
          "9"
         ],
         "y": [
          0,
          1
         ]
        },
        {
         "name": "杨伟飞_应交高质量报告数",
         "type": "scatter",
         "uid": "2d434fb6-c203-11e8-acbb-509a4c0f1ffc",
         "x": [
          "8",
          "9"
         ],
         "y": [
          0,
          3
         ]
        },
        {
         "name": "杨伟飞_提交高质量报告数",
         "type": "scatter",
         "uid": "2d434fb7-c203-11e8-b84e-509a4c0f1ffc",
         "x": [
          "8",
          "9"
         ],
         "y": [
          0,
          3
         ]
        },
        {
         "name": "王宁_应交高质量报告数",
         "type": "scatter",
         "uid": "2d434fb8-c203-11e8-ab53-509a4c0f1ffc",
         "x": [
          "8",
          "9"
         ],
         "y": [
          1,
          null
         ]
        },
        {
         "name": "王宁_提交高质量报告数",
         "type": "scatter",
         "uid": "2d434fb9-c203-11e8-b16e-509a4c0f1ffc",
         "x": [
          "8",
          "9"
         ],
         "y": [
          1,
          null
         ]
        },
        {
         "name": "苏彦勋_应交高质量报告数",
         "type": "scatter",
         "uid": "2d434fba-c203-11e8-97f2-509a4c0f1ffc",
         "x": [
          "8",
          "9"
         ],
         "y": [
          1,
          1
         ]
        },
        {
         "name": "苏彦勋_提交高质量报告数",
         "type": "scatter",
         "uid": "2d434fbb-c203-11e8-9bc7-509a4c0f1ffc",
         "x": [
          "8",
          "9"
         ],
         "y": [
          1,
          1
         ]
        },
        {
         "name": "范旭宁_应交高质量报告数",
         "type": "scatter",
         "uid": "2d434fbc-c203-11e8-bd8c-509a4c0f1ffc",
         "x": [
          "8",
          "9"
         ],
         "y": [
          0,
          null
         ]
        },
        {
         "name": "范旭宁_提交高质量报告数",
         "type": "scatter",
         "uid": "2d434fbd-c203-11e8-a248-509a4c0f1ffc",
         "x": [
          "8",
          "9"
         ],
         "y": [
          0,
          null
         ]
        },
        {
         "name": "谢德健_应交高质量报告数",
         "type": "scatter",
         "uid": "2d434fbe-c203-11e8-ba44-509a4c0f1ffc",
         "x": [
          "8",
          "9"
         ],
         "y": [
          0,
          null
         ]
        },
        {
         "name": "谢德健_提交高质量报告数",
         "type": "scatter",
         "uid": "2d434fbf-c203-11e8-9929-509a4c0f1ffc",
         "x": [
          "8",
          "9"
         ],
         "y": [
          0,
          null
         ]
        },
        {
         "name": "赵玥_应交高质量报告数",
         "type": "scatter",
         "uid": "2d434fc0-c203-11e8-880f-509a4c0f1ffc",
         "x": [
          "8",
          "9"
         ],
         "y": [
          0,
          null
         ]
        },
        {
         "name": "赵玥_提交高质量报告数",
         "type": "scatter",
         "uid": "2d434fc1-c203-11e8-80d9-509a4c0f1ffc",
         "x": [
          "8",
          "9"
         ],
         "y": [
          0,
          null
         ]
        },
        {
         "name": "路慧萍_应交高质量报告数",
         "type": "scatter",
         "uid": "2d434fc2-c203-11e8-95c0-509a4c0f1ffc",
         "x": [
          "8",
          "9"
         ],
         "y": [
          1,
          0
         ]
        },
        {
         "name": "路慧萍_提交高质量报告数",
         "type": "scatter",
         "uid": "2d434fc3-c203-11e8-a753-509a4c0f1ffc",
         "x": [
          "8",
          "9"
         ],
         "y": [
          1,
          0
         ]
        },
        {
         "name": "韩少怀_应交高质量报告数",
         "type": "scatter",
         "uid": "2d434fc4-c203-11e8-8031-509a4c0f1ffc",
         "x": [
          "8",
          "9"
         ],
         "y": [
          1,
          null
         ]
        },
        {
         "name": "韩少怀_提交高质量报告数",
         "type": "scatter",
         "uid": "2d434fc5-c203-11e8-838d-509a4c0f1ffc",
         "x": [
          "8",
          "9"
         ],
         "y": [
          1,
          null
         ]
        },
        {
         "name": "马潇_应交高质量报告数",
         "type": "scatter",
         "uid": "2d434fc6-c203-11e8-b683-509a4c0f1ffc",
         "x": [
          "8",
          "9"
         ],
         "y": [
          0,
          null
         ]
        },
        {
         "name": "马潇_提交高质量报告数",
         "type": "scatter",
         "uid": "2d434fc7-c203-11e8-aa38-509a4c0f1ffc",
         "x": [
          "8",
          "9"
         ],
         "y": [
          0,
          null
         ]
        }
       ],
       "layout": {
        "title": "应交高质量报告数&提交高质量报告数月趋势图",
        "xaxis": {
         "mirror": "all",
         "nticks": 20,
         "showgrid": true,
         "showline": true,
         "title": "月",
         "zeroline": true
        },
        "yaxis": {
         "mirror": "all",
         "nticks": 20,
         "showgrid": true,
         "showline": true,
         "title": "应交高质量报告数&提交高质量报告数",
         "zeroline": true
        }
       }
      },
      "text/html": [
       "<div id=\"6c8fd972-010e-4516-9122-07045b0ef619\" style=\"height: 525px; width: 100%;\" class=\"plotly-graph-div\"></div><script type=\"text/javascript\">require([\"plotly\"], function(Plotly) { window.PLOTLYENV=window.PLOTLYENV || {};window.PLOTLYENV.BASE_URL=\"https://plot.ly\";\n",
       "        Plotly.plot(\n",
       "            '6c8fd972-010e-4516-9122-07045b0ef619',\n",
       "            [{\"name\": \"\\u4e8e\\u52c7\\u4e00_\\u5e94\\u4ea4\\u9ad8\\u8d28\\u91cf\\u62a5\\u544a\\u6570\", \"x\": [\"8\", \"9\"], \"y\": [1.0, 2.0], \"type\": \"scatter\", \"uid\": \"2d432892-c203-11e8-8265-509a4c0f1ffc\"}, {\"name\": \"\\u4e8e\\u52c7\\u4e00_\\u63d0\\u4ea4\\u9ad8\\u8d28\\u91cf\\u62a5\\u544a\\u6570\", \"x\": [\"8\", \"9\"], \"y\": [1.0, 2.0], \"type\": \"scatter\", \"uid\": \"2d432893-c203-11e8-a536-509a4c0f1ffc\"}, {\"name\": \"\\u4e8e\\u6167_\\u5e94\\u4ea4\\u9ad8\\u8d28\\u91cf\\u62a5\\u544a\\u6570\", \"x\": [\"8\", \"9\"], \"y\": [1.0, 0.0], \"type\": \"scatter\", \"uid\": \"2d432894-c203-11e8-9578-509a4c0f1ffc\"}, {\"name\": \"\\u4e8e\\u6167_\\u63d0\\u4ea4\\u9ad8\\u8d28\\u91cf\\u62a5\\u544a\\u6570\", \"x\": [\"8\", \"9\"], \"y\": [1.0, 0.0], \"type\": \"scatter\", \"uid\": \"2d432895-c203-11e8-8489-509a4c0f1ffc\"}, {\"name\": \"\\u4efb\\u96ea_\\u5e94\\u4ea4\\u9ad8\\u8d28\\u91cf\\u62a5\\u544a\\u6570\", \"x\": [\"8\", \"9\"], \"y\": [null, 2.0], \"type\": \"scatter\", \"uid\": \"2d432896-c203-11e8-a2e5-509a4c0f1ffc\"}, {\"name\": \"\\u4efb\\u96ea_\\u63d0\\u4ea4\\u9ad8\\u8d28\\u91cf\\u62a5\\u544a\\u6570\", \"x\": [\"8\", \"9\"], \"y\": [null, 2.0], \"type\": \"scatter\", \"uid\": \"2d432897-c203-11e8-9f71-509a4c0f1ffc\"}, {\"name\": \"\\u5218\\u6167\\u73b2_\\u5e94\\u4ea4\\u9ad8\\u8d28\\u91cf\\u62a5\\u544a\\u6570\", \"x\": [\"8\", \"9\"], \"y\": [2.0, null], \"type\": \"scatter\", \"uid\": \"2d432898-c203-11e8-a969-509a4c0f1ffc\"}, {\"name\": \"\\u5218\\u6167\\u73b2_\\u63d0\\u4ea4\\u9ad8\\u8d28\\u91cf\\u62a5\\u544a\\u6570\", \"x\": [\"8\", \"9\"], \"y\": [2.0, null], \"type\": \"scatter\", \"uid\": \"2d432899-c203-11e8-b376-509a4c0f1ffc\"}, {\"name\": \"\\u5218\\u6c5f_\\u5e94\\u4ea4\\u9ad8\\u8d28\\u91cf\\u62a5\\u544a\\u6570\", \"x\": [\"8\", \"9\"], \"y\": [0.0, 3.0], \"type\": \"scatter\", \"uid\": \"2d434fa2-c203-11e8-abed-509a4c0f1ffc\"}, {\"name\": \"\\u5218\\u6c5f_\\u63d0\\u4ea4\\u9ad8\\u8d28\\u91cf\\u62a5\\u544a\\u6570\", \"x\": [\"8\", \"9\"], \"y\": [0.0, 4.0], \"type\": \"scatter\", \"uid\": \"2d434fa3-c203-11e8-909c-509a4c0f1ffc\"}, {\"name\": \"\\u5360\\u4f1f_\\u5e94\\u4ea4\\u9ad8\\u8d28\\u91cf\\u62a5\\u544a\\u6570\", \"x\": [\"8\", \"9\"], \"y\": [1.0, null], \"type\": \"scatter\", \"uid\": \"2d434fa4-c203-11e8-bd99-509a4c0f1ffc\"}, {\"name\": \"\\u5360\\u4f1f_\\u63d0\\u4ea4\\u9ad8\\u8d28\\u91cf\\u62a5\\u544a\\u6570\", \"x\": [\"8\", \"9\"], \"y\": [1.0, null], \"type\": \"scatter\", \"uid\": \"2d434fa5-c203-11e8-885e-509a4c0f1ffc\"}, {\"name\": \"\\u5468\\u6768_\\u5e94\\u4ea4\\u9ad8\\u8d28\\u91cf\\u62a5\\u544a\\u6570\", \"x\": [\"8\", \"9\"], \"y\": [2.0, 0.0], \"type\": \"scatter\", \"uid\": \"2d434fa6-c203-11e8-b698-509a4c0f1ffc\"}, {\"name\": \"\\u5468\\u6768_\\u63d0\\u4ea4\\u9ad8\\u8d28\\u91cf\\u62a5\\u544a\\u6570\", \"x\": [\"8\", \"9\"], \"y\": [2.0, 0.0], \"type\": \"scatter\", \"uid\": \"2d434fa7-c203-11e8-a1a1-509a4c0f1ffc\"}, {\"name\": \"\\u59da\\u76df\\u6210_\\u5e94\\u4ea4\\u9ad8\\u8d28\\u91cf\\u62a5\\u544a\\u6570\", \"x\": [\"8\", \"9\"], \"y\": [2.0, 1.0], \"type\": \"scatter\", \"uid\": \"2d434fa8-c203-11e8-9f60-509a4c0f1ffc\"}, {\"name\": \"\\u59da\\u76df\\u6210_\\u63d0\\u4ea4\\u9ad8\\u8d28\\u91cf\\u62a5\\u544a\\u6570\", \"x\": [\"8\", \"9\"], \"y\": [2.0, 1.0], \"type\": \"scatter\", \"uid\": \"2d434fa9-c203-11e8-819e-509a4c0f1ffc\"}, {\"name\": \"\\u5b5f\\u660a_\\u5e94\\u4ea4\\u9ad8\\u8d28\\u91cf\\u62a5\\u544a\\u6570\", \"x\": [\"8\", \"9\"], \"y\": [0.0, 0.0], \"type\": \"scatter\", \"uid\": \"2d434faa-c203-11e8-89eb-509a4c0f1ffc\"}, {\"name\": \"\\u5b5f\\u660a_\\u63d0\\u4ea4\\u9ad8\\u8d28\\u91cf\\u62a5\\u544a\\u6570\", \"x\": [\"8\", \"9\"], \"y\": [0.0, 0.0], \"type\": \"scatter\", \"uid\": \"2d434fab-c203-11e8-8cd6-509a4c0f1ffc\"}, {\"name\": \"\\u5b8b\\u8fce\\u6960_\\u5e94\\u4ea4\\u9ad8\\u8d28\\u91cf\\u62a5\\u544a\\u6570\", \"x\": [\"8\", \"9\"], \"y\": [2.0, null], \"type\": \"scatter\", \"uid\": \"2d434fac-c203-11e8-9e72-509a4c0f1ffc\"}, {\"name\": \"\\u5b8b\\u8fce\\u6960_\\u63d0\\u4ea4\\u9ad8\\u8d28\\u91cf\\u62a5\\u544a\\u6570\", \"x\": [\"8\", \"9\"], \"y\": [2.0, null], \"type\": \"scatter\", \"uid\": \"2d434fad-c203-11e8-b861-509a4c0f1ffc\"}, {\"name\": \"\\u5c01\\u5f66\\u6770_\\u5e94\\u4ea4\\u9ad8\\u8d28\\u91cf\\u62a5\\u544a\\u6570\", \"x\": [\"8\", \"9\"], \"y\": [0.0, 1.0], \"type\": \"scatter\", \"uid\": \"2d434fae-c203-11e8-8d41-509a4c0f1ffc\"}, {\"name\": \"\\u5c01\\u5f66\\u6770_\\u63d0\\u4ea4\\u9ad8\\u8d28\\u91cf\\u62a5\\u544a\\u6570\", \"x\": [\"8\", \"9\"], \"y\": [0.0, 1.0], \"type\": \"scatter\", \"uid\": \"2d434faf-c203-11e8-9fef-509a4c0f1ffc\"}, {\"name\": \"\\u5f20\\u5b88\\u4f1f_\\u5e94\\u4ea4\\u9ad8\\u8d28\\u91cf\\u62a5\\u544a\\u6570\", \"x\": [\"8\", \"9\"], \"y\": [1.0, null], \"type\": \"scatter\", \"uid\": \"2d434fb0-c203-11e8-bf73-509a4c0f1ffc\"}, {\"name\": \"\\u5f20\\u5b88\\u4f1f_\\u63d0\\u4ea4\\u9ad8\\u8d28\\u91cf\\u62a5\\u544a\\u6570\", \"x\": [\"8\", \"9\"], \"y\": [1.0, null], \"type\": \"scatter\", \"uid\": \"2d434fb1-c203-11e8-9cc5-509a4c0f1ffc\"}, {\"name\": \"\\u674e\\u534e\\u4e91_\\u5e94\\u4ea4\\u9ad8\\u8d28\\u91cf\\u62a5\\u544a\\u6570\", \"x\": [\"8\", \"9\"], \"y\": [0.0, 0.0], \"type\": \"scatter\", \"uid\": \"2d434fb2-c203-11e8-b774-509a4c0f1ffc\"}, {\"name\": \"\\u674e\\u534e\\u4e91_\\u63d0\\u4ea4\\u9ad8\\u8d28\\u91cf\\u62a5\\u544a\\u6570\", \"x\": [\"8\", \"9\"], \"y\": [0.0, 0.0], \"type\": \"scatter\", \"uid\": \"2d434fb3-c203-11e8-aa87-509a4c0f1ffc\"}, {\"name\": \"\\u674e\\u5e86\\u539f_\\u5e94\\u4ea4\\u9ad8\\u8d28\\u91cf\\u62a5\\u544a\\u6570\", \"x\": [\"8\", \"9\"], \"y\": [0.0, 1.0], \"type\": \"scatter\", \"uid\": \"2d434fb4-c203-11e8-88fe-509a4c0f1ffc\"}, {\"name\": \"\\u674e\\u5e86\\u539f_\\u63d0\\u4ea4\\u9ad8\\u8d28\\u91cf\\u62a5\\u544a\\u6570\", \"x\": [\"8\", \"9\"], \"y\": [0.0, 1.0], \"type\": \"scatter\", \"uid\": \"2d434fb5-c203-11e8-8861-509a4c0f1ffc\"}, {\"name\": \"\\u6768\\u4f1f\\u98de_\\u5e94\\u4ea4\\u9ad8\\u8d28\\u91cf\\u62a5\\u544a\\u6570\", \"x\": [\"8\", \"9\"], \"y\": [0.0, 3.0], \"type\": \"scatter\", \"uid\": \"2d434fb6-c203-11e8-acbb-509a4c0f1ffc\"}, {\"name\": \"\\u6768\\u4f1f\\u98de_\\u63d0\\u4ea4\\u9ad8\\u8d28\\u91cf\\u62a5\\u544a\\u6570\", \"x\": [\"8\", \"9\"], \"y\": [0.0, 3.0], \"type\": \"scatter\", \"uid\": \"2d434fb7-c203-11e8-b84e-509a4c0f1ffc\"}, {\"name\": \"\\u738b\\u5b81_\\u5e94\\u4ea4\\u9ad8\\u8d28\\u91cf\\u62a5\\u544a\\u6570\", \"x\": [\"8\", \"9\"], \"y\": [1.0, null], \"type\": \"scatter\", \"uid\": \"2d434fb8-c203-11e8-ab53-509a4c0f1ffc\"}, {\"name\": \"\\u738b\\u5b81_\\u63d0\\u4ea4\\u9ad8\\u8d28\\u91cf\\u62a5\\u544a\\u6570\", \"x\": [\"8\", \"9\"], \"y\": [1.0, null], \"type\": \"scatter\", \"uid\": \"2d434fb9-c203-11e8-b16e-509a4c0f1ffc\"}, {\"name\": \"\\u82cf\\u5f66\\u52cb_\\u5e94\\u4ea4\\u9ad8\\u8d28\\u91cf\\u62a5\\u544a\\u6570\", \"x\": [\"8\", \"9\"], \"y\": [1.0, 1.0], \"type\": \"scatter\", \"uid\": \"2d434fba-c203-11e8-97f2-509a4c0f1ffc\"}, {\"name\": \"\\u82cf\\u5f66\\u52cb_\\u63d0\\u4ea4\\u9ad8\\u8d28\\u91cf\\u62a5\\u544a\\u6570\", \"x\": [\"8\", \"9\"], \"y\": [1.0, 1.0], \"type\": \"scatter\", \"uid\": \"2d434fbb-c203-11e8-9bc7-509a4c0f1ffc\"}, {\"name\": \"\\u8303\\u65ed\\u5b81_\\u5e94\\u4ea4\\u9ad8\\u8d28\\u91cf\\u62a5\\u544a\\u6570\", \"x\": [\"8\", \"9\"], \"y\": [0.0, null], \"type\": \"scatter\", \"uid\": \"2d434fbc-c203-11e8-bd8c-509a4c0f1ffc\"}, {\"name\": \"\\u8303\\u65ed\\u5b81_\\u63d0\\u4ea4\\u9ad8\\u8d28\\u91cf\\u62a5\\u544a\\u6570\", \"x\": [\"8\", \"9\"], \"y\": [0.0, null], \"type\": \"scatter\", \"uid\": \"2d434fbd-c203-11e8-a248-509a4c0f1ffc\"}, {\"name\": \"\\u8c22\\u5fb7\\u5065_\\u5e94\\u4ea4\\u9ad8\\u8d28\\u91cf\\u62a5\\u544a\\u6570\", \"x\": [\"8\", \"9\"], \"y\": [0.0, null], \"type\": \"scatter\", \"uid\": \"2d434fbe-c203-11e8-ba44-509a4c0f1ffc\"}, {\"name\": \"\\u8c22\\u5fb7\\u5065_\\u63d0\\u4ea4\\u9ad8\\u8d28\\u91cf\\u62a5\\u544a\\u6570\", \"x\": [\"8\", \"9\"], \"y\": [0.0, null], \"type\": \"scatter\", \"uid\": \"2d434fbf-c203-11e8-9929-509a4c0f1ffc\"}, {\"name\": \"\\u8d75\\u73a5_\\u5e94\\u4ea4\\u9ad8\\u8d28\\u91cf\\u62a5\\u544a\\u6570\", \"x\": [\"8\", \"9\"], \"y\": [0.0, null], \"type\": \"scatter\", \"uid\": \"2d434fc0-c203-11e8-880f-509a4c0f1ffc\"}, {\"name\": \"\\u8d75\\u73a5_\\u63d0\\u4ea4\\u9ad8\\u8d28\\u91cf\\u62a5\\u544a\\u6570\", \"x\": [\"8\", \"9\"], \"y\": [0.0, null], \"type\": \"scatter\", \"uid\": \"2d434fc1-c203-11e8-80d9-509a4c0f1ffc\"}, {\"name\": \"\\u8def\\u6167\\u840d_\\u5e94\\u4ea4\\u9ad8\\u8d28\\u91cf\\u62a5\\u544a\\u6570\", \"x\": [\"8\", \"9\"], \"y\": [1.0, 0.0], \"type\": \"scatter\", \"uid\": \"2d434fc2-c203-11e8-95c0-509a4c0f1ffc\"}, {\"name\": \"\\u8def\\u6167\\u840d_\\u63d0\\u4ea4\\u9ad8\\u8d28\\u91cf\\u62a5\\u544a\\u6570\", \"x\": [\"8\", \"9\"], \"y\": [1.0, 0.0], \"type\": \"scatter\", \"uid\": \"2d434fc3-c203-11e8-a753-509a4c0f1ffc\"}, {\"name\": \"\\u97e9\\u5c11\\u6000_\\u5e94\\u4ea4\\u9ad8\\u8d28\\u91cf\\u62a5\\u544a\\u6570\", \"x\": [\"8\", \"9\"], \"y\": [1.0, null], \"type\": \"scatter\", \"uid\": \"2d434fc4-c203-11e8-8031-509a4c0f1ffc\"}, {\"name\": \"\\u97e9\\u5c11\\u6000_\\u63d0\\u4ea4\\u9ad8\\u8d28\\u91cf\\u62a5\\u544a\\u6570\", \"x\": [\"8\", \"9\"], \"y\": [1.0, null], \"type\": \"scatter\", \"uid\": \"2d434fc5-c203-11e8-838d-509a4c0f1ffc\"}, {\"name\": \"\\u9a6c\\u6f47_\\u5e94\\u4ea4\\u9ad8\\u8d28\\u91cf\\u62a5\\u544a\\u6570\", \"x\": [\"8\", \"9\"], \"y\": [0.0, null], \"type\": \"scatter\", \"uid\": \"2d434fc6-c203-11e8-b683-509a4c0f1ffc\"}, {\"name\": \"\\u9a6c\\u6f47_\\u63d0\\u4ea4\\u9ad8\\u8d28\\u91cf\\u62a5\\u544a\\u6570\", \"x\": [\"8\", \"9\"], \"y\": [0.0, null], \"type\": \"scatter\", \"uid\": \"2d434fc7-c203-11e8-aa38-509a4c0f1ffc\"}],\n",
       "            {\"title\": \"\\u5e94\\u4ea4\\u9ad8\\u8d28\\u91cf\\u62a5\\u544a\\u6570&\\u63d0\\u4ea4\\u9ad8\\u8d28\\u91cf\\u62a5\\u544a\\u6570\\u6708\\u8d8b\\u52bf\\u56fe\", \"xaxis\": {\"mirror\": \"all\", \"nticks\": 20, \"showgrid\": true, \"showline\": true, \"title\": \"\\u6708\", \"zeroline\": true}, \"yaxis\": {\"mirror\": \"all\", \"nticks\": 20, \"showgrid\": true, \"showline\": true, \"title\": \"\\u5e94\\u4ea4\\u9ad8\\u8d28\\u91cf\\u62a5\\u544a\\u6570&\\u63d0\\u4ea4\\u9ad8\\u8d28\\u91cf\\u62a5\\u544a\\u6570\", \"zeroline\": true}},\n",
       "            {\"showLink\": true, \"linkText\": \"Export to plot.ly\"}\n",
       "        ).then(function () {return Plotly.addFrames('6c8fd972-010e-4516-9122-07045b0ef619',{});}).then(function(){Plotly.animate('6c8fd972-010e-4516-9122-07045b0ef619');})\n",
       "        });</script>"
      ],
      "text/vnd.plotly.v1+html": [
       "<div id=\"6c8fd972-010e-4516-9122-07045b0ef619\" style=\"height: 525px; width: 100%;\" class=\"plotly-graph-div\"></div><script type=\"text/javascript\">require([\"plotly\"], function(Plotly) { window.PLOTLYENV=window.PLOTLYENV || {};window.PLOTLYENV.BASE_URL=\"https://plot.ly\";\n",
       "        Plotly.plot(\n",
       "            '6c8fd972-010e-4516-9122-07045b0ef619',\n",
       "            [{\"name\": \"\\u4e8e\\u52c7\\u4e00_\\u5e94\\u4ea4\\u9ad8\\u8d28\\u91cf\\u62a5\\u544a\\u6570\", \"x\": [\"8\", \"9\"], \"y\": [1.0, 2.0], \"type\": \"scatter\", \"uid\": \"2d432892-c203-11e8-8265-509a4c0f1ffc\"}, {\"name\": \"\\u4e8e\\u52c7\\u4e00_\\u63d0\\u4ea4\\u9ad8\\u8d28\\u91cf\\u62a5\\u544a\\u6570\", \"x\": [\"8\", \"9\"], \"y\": [1.0, 2.0], \"type\": \"scatter\", \"uid\": \"2d432893-c203-11e8-a536-509a4c0f1ffc\"}, {\"name\": \"\\u4e8e\\u6167_\\u5e94\\u4ea4\\u9ad8\\u8d28\\u91cf\\u62a5\\u544a\\u6570\", \"x\": [\"8\", \"9\"], \"y\": [1.0, 0.0], \"type\": \"scatter\", \"uid\": \"2d432894-c203-11e8-9578-509a4c0f1ffc\"}, {\"name\": \"\\u4e8e\\u6167_\\u63d0\\u4ea4\\u9ad8\\u8d28\\u91cf\\u62a5\\u544a\\u6570\", \"x\": [\"8\", \"9\"], \"y\": [1.0, 0.0], \"type\": \"scatter\", \"uid\": \"2d432895-c203-11e8-8489-509a4c0f1ffc\"}, {\"name\": \"\\u4efb\\u96ea_\\u5e94\\u4ea4\\u9ad8\\u8d28\\u91cf\\u62a5\\u544a\\u6570\", \"x\": [\"8\", \"9\"], \"y\": [null, 2.0], \"type\": \"scatter\", \"uid\": \"2d432896-c203-11e8-a2e5-509a4c0f1ffc\"}, {\"name\": \"\\u4efb\\u96ea_\\u63d0\\u4ea4\\u9ad8\\u8d28\\u91cf\\u62a5\\u544a\\u6570\", \"x\": [\"8\", \"9\"], \"y\": [null, 2.0], \"type\": \"scatter\", \"uid\": \"2d432897-c203-11e8-9f71-509a4c0f1ffc\"}, {\"name\": \"\\u5218\\u6167\\u73b2_\\u5e94\\u4ea4\\u9ad8\\u8d28\\u91cf\\u62a5\\u544a\\u6570\", \"x\": [\"8\", \"9\"], \"y\": [2.0, null], \"type\": \"scatter\", \"uid\": \"2d432898-c203-11e8-a969-509a4c0f1ffc\"}, {\"name\": \"\\u5218\\u6167\\u73b2_\\u63d0\\u4ea4\\u9ad8\\u8d28\\u91cf\\u62a5\\u544a\\u6570\", \"x\": [\"8\", \"9\"], \"y\": [2.0, null], \"type\": \"scatter\", \"uid\": \"2d432899-c203-11e8-b376-509a4c0f1ffc\"}, {\"name\": \"\\u5218\\u6c5f_\\u5e94\\u4ea4\\u9ad8\\u8d28\\u91cf\\u62a5\\u544a\\u6570\", \"x\": [\"8\", \"9\"], \"y\": [0.0, 3.0], \"type\": \"scatter\", \"uid\": \"2d434fa2-c203-11e8-abed-509a4c0f1ffc\"}, {\"name\": \"\\u5218\\u6c5f_\\u63d0\\u4ea4\\u9ad8\\u8d28\\u91cf\\u62a5\\u544a\\u6570\", \"x\": [\"8\", \"9\"], \"y\": [0.0, 4.0], \"type\": \"scatter\", \"uid\": \"2d434fa3-c203-11e8-909c-509a4c0f1ffc\"}, {\"name\": \"\\u5360\\u4f1f_\\u5e94\\u4ea4\\u9ad8\\u8d28\\u91cf\\u62a5\\u544a\\u6570\", \"x\": [\"8\", \"9\"], \"y\": [1.0, null], \"type\": \"scatter\", \"uid\": \"2d434fa4-c203-11e8-bd99-509a4c0f1ffc\"}, {\"name\": \"\\u5360\\u4f1f_\\u63d0\\u4ea4\\u9ad8\\u8d28\\u91cf\\u62a5\\u544a\\u6570\", \"x\": [\"8\", \"9\"], \"y\": [1.0, null], \"type\": \"scatter\", \"uid\": \"2d434fa5-c203-11e8-885e-509a4c0f1ffc\"}, {\"name\": \"\\u5468\\u6768_\\u5e94\\u4ea4\\u9ad8\\u8d28\\u91cf\\u62a5\\u544a\\u6570\", \"x\": [\"8\", \"9\"], \"y\": [2.0, 0.0], \"type\": \"scatter\", \"uid\": \"2d434fa6-c203-11e8-b698-509a4c0f1ffc\"}, {\"name\": \"\\u5468\\u6768_\\u63d0\\u4ea4\\u9ad8\\u8d28\\u91cf\\u62a5\\u544a\\u6570\", \"x\": [\"8\", \"9\"], \"y\": [2.0, 0.0], \"type\": \"scatter\", \"uid\": \"2d434fa7-c203-11e8-a1a1-509a4c0f1ffc\"}, {\"name\": \"\\u59da\\u76df\\u6210_\\u5e94\\u4ea4\\u9ad8\\u8d28\\u91cf\\u62a5\\u544a\\u6570\", \"x\": [\"8\", \"9\"], \"y\": [2.0, 1.0], \"type\": \"scatter\", \"uid\": \"2d434fa8-c203-11e8-9f60-509a4c0f1ffc\"}, {\"name\": \"\\u59da\\u76df\\u6210_\\u63d0\\u4ea4\\u9ad8\\u8d28\\u91cf\\u62a5\\u544a\\u6570\", \"x\": [\"8\", \"9\"], \"y\": [2.0, 1.0], \"type\": \"scatter\", \"uid\": \"2d434fa9-c203-11e8-819e-509a4c0f1ffc\"}, {\"name\": \"\\u5b5f\\u660a_\\u5e94\\u4ea4\\u9ad8\\u8d28\\u91cf\\u62a5\\u544a\\u6570\", \"x\": [\"8\", \"9\"], \"y\": [0.0, 0.0], \"type\": \"scatter\", \"uid\": \"2d434faa-c203-11e8-89eb-509a4c0f1ffc\"}, {\"name\": \"\\u5b5f\\u660a_\\u63d0\\u4ea4\\u9ad8\\u8d28\\u91cf\\u62a5\\u544a\\u6570\", \"x\": [\"8\", \"9\"], \"y\": [0.0, 0.0], \"type\": \"scatter\", \"uid\": \"2d434fab-c203-11e8-8cd6-509a4c0f1ffc\"}, {\"name\": \"\\u5b8b\\u8fce\\u6960_\\u5e94\\u4ea4\\u9ad8\\u8d28\\u91cf\\u62a5\\u544a\\u6570\", \"x\": [\"8\", \"9\"], \"y\": [2.0, null], \"type\": \"scatter\", \"uid\": \"2d434fac-c203-11e8-9e72-509a4c0f1ffc\"}, {\"name\": \"\\u5b8b\\u8fce\\u6960_\\u63d0\\u4ea4\\u9ad8\\u8d28\\u91cf\\u62a5\\u544a\\u6570\", \"x\": [\"8\", \"9\"], \"y\": [2.0, null], \"type\": \"scatter\", \"uid\": \"2d434fad-c203-11e8-b861-509a4c0f1ffc\"}, {\"name\": \"\\u5c01\\u5f66\\u6770_\\u5e94\\u4ea4\\u9ad8\\u8d28\\u91cf\\u62a5\\u544a\\u6570\", \"x\": [\"8\", \"9\"], \"y\": [0.0, 1.0], \"type\": \"scatter\", \"uid\": \"2d434fae-c203-11e8-8d41-509a4c0f1ffc\"}, {\"name\": \"\\u5c01\\u5f66\\u6770_\\u63d0\\u4ea4\\u9ad8\\u8d28\\u91cf\\u62a5\\u544a\\u6570\", \"x\": [\"8\", \"9\"], \"y\": [0.0, 1.0], \"type\": \"scatter\", \"uid\": \"2d434faf-c203-11e8-9fef-509a4c0f1ffc\"}, {\"name\": \"\\u5f20\\u5b88\\u4f1f_\\u5e94\\u4ea4\\u9ad8\\u8d28\\u91cf\\u62a5\\u544a\\u6570\", \"x\": [\"8\", \"9\"], \"y\": [1.0, null], \"type\": \"scatter\", \"uid\": \"2d434fb0-c203-11e8-bf73-509a4c0f1ffc\"}, {\"name\": \"\\u5f20\\u5b88\\u4f1f_\\u63d0\\u4ea4\\u9ad8\\u8d28\\u91cf\\u62a5\\u544a\\u6570\", \"x\": [\"8\", \"9\"], \"y\": [1.0, null], \"type\": \"scatter\", \"uid\": \"2d434fb1-c203-11e8-9cc5-509a4c0f1ffc\"}, {\"name\": \"\\u674e\\u534e\\u4e91_\\u5e94\\u4ea4\\u9ad8\\u8d28\\u91cf\\u62a5\\u544a\\u6570\", \"x\": [\"8\", \"9\"], \"y\": [0.0, 0.0], \"type\": \"scatter\", \"uid\": \"2d434fb2-c203-11e8-b774-509a4c0f1ffc\"}, {\"name\": \"\\u674e\\u534e\\u4e91_\\u63d0\\u4ea4\\u9ad8\\u8d28\\u91cf\\u62a5\\u544a\\u6570\", \"x\": [\"8\", \"9\"], \"y\": [0.0, 0.0], \"type\": \"scatter\", \"uid\": \"2d434fb3-c203-11e8-aa87-509a4c0f1ffc\"}, {\"name\": \"\\u674e\\u5e86\\u539f_\\u5e94\\u4ea4\\u9ad8\\u8d28\\u91cf\\u62a5\\u544a\\u6570\", \"x\": [\"8\", \"9\"], \"y\": [0.0, 1.0], \"type\": \"scatter\", \"uid\": \"2d434fb4-c203-11e8-88fe-509a4c0f1ffc\"}, {\"name\": \"\\u674e\\u5e86\\u539f_\\u63d0\\u4ea4\\u9ad8\\u8d28\\u91cf\\u62a5\\u544a\\u6570\", \"x\": [\"8\", \"9\"], \"y\": [0.0, 1.0], \"type\": \"scatter\", \"uid\": \"2d434fb5-c203-11e8-8861-509a4c0f1ffc\"}, {\"name\": \"\\u6768\\u4f1f\\u98de_\\u5e94\\u4ea4\\u9ad8\\u8d28\\u91cf\\u62a5\\u544a\\u6570\", \"x\": [\"8\", \"9\"], \"y\": [0.0, 3.0], \"type\": \"scatter\", \"uid\": \"2d434fb6-c203-11e8-acbb-509a4c0f1ffc\"}, {\"name\": \"\\u6768\\u4f1f\\u98de_\\u63d0\\u4ea4\\u9ad8\\u8d28\\u91cf\\u62a5\\u544a\\u6570\", \"x\": [\"8\", \"9\"], \"y\": [0.0, 3.0], \"type\": \"scatter\", \"uid\": \"2d434fb7-c203-11e8-b84e-509a4c0f1ffc\"}, {\"name\": \"\\u738b\\u5b81_\\u5e94\\u4ea4\\u9ad8\\u8d28\\u91cf\\u62a5\\u544a\\u6570\", \"x\": [\"8\", \"9\"], \"y\": [1.0, null], \"type\": \"scatter\", \"uid\": \"2d434fb8-c203-11e8-ab53-509a4c0f1ffc\"}, {\"name\": \"\\u738b\\u5b81_\\u63d0\\u4ea4\\u9ad8\\u8d28\\u91cf\\u62a5\\u544a\\u6570\", \"x\": [\"8\", \"9\"], \"y\": [1.0, null], \"type\": \"scatter\", \"uid\": \"2d434fb9-c203-11e8-b16e-509a4c0f1ffc\"}, {\"name\": \"\\u82cf\\u5f66\\u52cb_\\u5e94\\u4ea4\\u9ad8\\u8d28\\u91cf\\u62a5\\u544a\\u6570\", \"x\": [\"8\", \"9\"], \"y\": [1.0, 1.0], \"type\": \"scatter\", \"uid\": \"2d434fba-c203-11e8-97f2-509a4c0f1ffc\"}, {\"name\": \"\\u82cf\\u5f66\\u52cb_\\u63d0\\u4ea4\\u9ad8\\u8d28\\u91cf\\u62a5\\u544a\\u6570\", \"x\": [\"8\", \"9\"], \"y\": [1.0, 1.0], \"type\": \"scatter\", \"uid\": \"2d434fbb-c203-11e8-9bc7-509a4c0f1ffc\"}, {\"name\": \"\\u8303\\u65ed\\u5b81_\\u5e94\\u4ea4\\u9ad8\\u8d28\\u91cf\\u62a5\\u544a\\u6570\", \"x\": [\"8\", \"9\"], \"y\": [0.0, null], \"type\": \"scatter\", \"uid\": \"2d434fbc-c203-11e8-bd8c-509a4c0f1ffc\"}, {\"name\": \"\\u8303\\u65ed\\u5b81_\\u63d0\\u4ea4\\u9ad8\\u8d28\\u91cf\\u62a5\\u544a\\u6570\", \"x\": [\"8\", \"9\"], \"y\": [0.0, null], \"type\": \"scatter\", \"uid\": \"2d434fbd-c203-11e8-a248-509a4c0f1ffc\"}, {\"name\": \"\\u8c22\\u5fb7\\u5065_\\u5e94\\u4ea4\\u9ad8\\u8d28\\u91cf\\u62a5\\u544a\\u6570\", \"x\": [\"8\", \"9\"], \"y\": [0.0, null], \"type\": \"scatter\", \"uid\": \"2d434fbe-c203-11e8-ba44-509a4c0f1ffc\"}, {\"name\": \"\\u8c22\\u5fb7\\u5065_\\u63d0\\u4ea4\\u9ad8\\u8d28\\u91cf\\u62a5\\u544a\\u6570\", \"x\": [\"8\", \"9\"], \"y\": [0.0, null], \"type\": \"scatter\", \"uid\": \"2d434fbf-c203-11e8-9929-509a4c0f1ffc\"}, {\"name\": \"\\u8d75\\u73a5_\\u5e94\\u4ea4\\u9ad8\\u8d28\\u91cf\\u62a5\\u544a\\u6570\", \"x\": [\"8\", \"9\"], \"y\": [0.0, null], \"type\": \"scatter\", \"uid\": \"2d434fc0-c203-11e8-880f-509a4c0f1ffc\"}, {\"name\": \"\\u8d75\\u73a5_\\u63d0\\u4ea4\\u9ad8\\u8d28\\u91cf\\u62a5\\u544a\\u6570\", \"x\": [\"8\", \"9\"], \"y\": [0.0, null], \"type\": \"scatter\", \"uid\": \"2d434fc1-c203-11e8-80d9-509a4c0f1ffc\"}, {\"name\": \"\\u8def\\u6167\\u840d_\\u5e94\\u4ea4\\u9ad8\\u8d28\\u91cf\\u62a5\\u544a\\u6570\", \"x\": [\"8\", \"9\"], \"y\": [1.0, 0.0], \"type\": \"scatter\", \"uid\": \"2d434fc2-c203-11e8-95c0-509a4c0f1ffc\"}, {\"name\": \"\\u8def\\u6167\\u840d_\\u63d0\\u4ea4\\u9ad8\\u8d28\\u91cf\\u62a5\\u544a\\u6570\", \"x\": [\"8\", \"9\"], \"y\": [1.0, 0.0], \"type\": \"scatter\", \"uid\": \"2d434fc3-c203-11e8-a753-509a4c0f1ffc\"}, {\"name\": \"\\u97e9\\u5c11\\u6000_\\u5e94\\u4ea4\\u9ad8\\u8d28\\u91cf\\u62a5\\u544a\\u6570\", \"x\": [\"8\", \"9\"], \"y\": [1.0, null], \"type\": \"scatter\", \"uid\": \"2d434fc4-c203-11e8-8031-509a4c0f1ffc\"}, {\"name\": \"\\u97e9\\u5c11\\u6000_\\u63d0\\u4ea4\\u9ad8\\u8d28\\u91cf\\u62a5\\u544a\\u6570\", \"x\": [\"8\", \"9\"], \"y\": [1.0, null], \"type\": \"scatter\", \"uid\": \"2d434fc5-c203-11e8-838d-509a4c0f1ffc\"}, {\"name\": \"\\u9a6c\\u6f47_\\u5e94\\u4ea4\\u9ad8\\u8d28\\u91cf\\u62a5\\u544a\\u6570\", \"x\": [\"8\", \"9\"], \"y\": [0.0, null], \"type\": \"scatter\", \"uid\": \"2d434fc6-c203-11e8-b683-509a4c0f1ffc\"}, {\"name\": \"\\u9a6c\\u6f47_\\u63d0\\u4ea4\\u9ad8\\u8d28\\u91cf\\u62a5\\u544a\\u6570\", \"x\": [\"8\", \"9\"], \"y\": [0.0, null], \"type\": \"scatter\", \"uid\": \"2d434fc7-c203-11e8-aa38-509a4c0f1ffc\"}],\n",
       "            {\"title\": \"\\u5e94\\u4ea4\\u9ad8\\u8d28\\u91cf\\u62a5\\u544a\\u6570&\\u63d0\\u4ea4\\u9ad8\\u8d28\\u91cf\\u62a5\\u544a\\u6570\\u6708\\u8d8b\\u52bf\\u56fe\", \"xaxis\": {\"mirror\": \"all\", \"nticks\": 20, \"showgrid\": true, \"showline\": true, \"title\": \"\\u6708\", \"zeroline\": true}, \"yaxis\": {\"mirror\": \"all\", \"nticks\": 20, \"showgrid\": true, \"showline\": true, \"title\": \"\\u5e94\\u4ea4\\u9ad8\\u8d28\\u91cf\\u62a5\\u544a\\u6570&\\u63d0\\u4ea4\\u9ad8\\u8d28\\u91cf\\u62a5\\u544a\\u6570\", \"zeroline\": true}},\n",
       "            {\"showLink\": true, \"linkText\": \"Export to plot.ly\"}\n",
       "        ).then(function () {return Plotly.addFrames('6c8fd972-010e-4516-9122-07045b0ef619',{});}).then(function(){Plotly.animate('6c8fd972-010e-4516-9122-07045b0ef619');})\n",
       "        });</script>"
      ]
     },
     "metadata": {},
     "output_type": "display_data"
    }
   ],
   "source": [
    "data_dict = {'应交高质量报告数':['应交高质量报告数'], '提交高质量报告数':['提交高质量报告数']}\n",
    "myModule.plot( all_dict, data_dict, '负责人' ,  'line' , all='')"
   ]
  },
  {
   "cell_type": "markdown",
   "metadata": {},
   "source": [
    "### 甘特图情况"
   ]
  },
  {
   "cell_type": "markdown",
   "metadata": {},
   "source": [
    "#### 季度开发项目数、如期完成项目数、延期完成、开发中的项目数、延期项目数和暂停项目数"
   ]
  },
  {
   "cell_type": "code",
   "execution_count": 62,
   "metadata": {},
   "outputs": [
    {
     "data": {
      "application/vnd.plotly.v1+json": {
       "data": [
        {
         "name": "刘江_季度开发项目数",
         "type": "scatter",
         "uid": "ee21a8d2-c202-11e8-a16a-509a4c0f1ffc",
         "x": [
          "8-3",
          "8-4",
          "9-1",
          "9-2",
          "9-3"
         ],
         "y": [
          3,
          3,
          3,
          0,
          3
         ]
        },
        {
         "name": "刘江_如期完成项目数",
         "type": "scatter",
         "uid": "ee21a8d3-c202-11e8-b270-509a4c0f1ffc",
         "x": [
          "8-3",
          "8-4",
          "9-1",
          "9-2",
          "9-3"
         ],
         "y": [
          0,
          0,
          0,
          0,
          0
         ]
        },
        {
         "name": "刘江_延期完成",
         "type": "scatter",
         "uid": "ee21a8d4-c202-11e8-9334-509a4c0f1ffc",
         "x": [
          "8-3",
          "8-4",
          "9-1",
          "9-2",
          "9-3"
         ],
         "y": [
          0,
          1,
          2,
          0,
          2
         ]
        },
        {
         "name": "刘江_开发中的项目数",
         "type": "scatter",
         "uid": "ee21a8d5-c202-11e8-9840-509a4c0f1ffc",
         "x": [
          "8-3",
          "8-4",
          "9-1",
          "9-2",
          "9-3"
         ],
         "y": [
          3,
          2,
          1,
          1,
          1
         ]
        },
        {
         "name": "刘江_延期项目数",
         "type": "scatter",
         "uid": "ee21a8d6-c202-11e8-b9b3-509a4c0f1ffc",
         "x": [
          "8-3",
          "8-4",
          "9-1",
          "9-2",
          "9-3"
         ],
         "y": [
          0,
          0,
          0,
          0,
          0
         ]
        },
        {
         "name": "刘江_暂停项目数",
         "type": "scatter",
         "uid": "ee21a8d7-c202-11e8-ac3a-509a4c0f1ffc",
         "x": [
          "8-3",
          "8-4",
          "9-1",
          "9-2",
          "9-3"
         ],
         "y": [
          0,
          0,
          0,
          1,
          0
         ]
        },
        {
         "name": "苏彦勋_季度开发项目数",
         "type": "scatter",
         "uid": "ee21a8d8-c202-11e8-9f88-509a4c0f1ffc",
         "x": [
          "8-3",
          "8-4",
          "9-1",
          "9-2",
          "9-3"
         ],
         "y": [
          33,
          33,
          33,
          33,
          33
         ]
        },
        {
         "name": "苏彦勋_如期完成项目数",
         "type": "scatter",
         "uid": "ee21a8d9-c202-11e8-9cc8-509a4c0f1ffc",
         "x": [
          "8-3",
          "8-4",
          "9-1",
          "9-2",
          "9-3"
         ],
         "y": [
          20,
          21,
          22,
          25,
          25
         ]
        },
        {
         "name": "苏彦勋_延期完成",
         "type": "scatter",
         "uid": "ee21a8da-c202-11e8-96ae-509a4c0f1ffc",
         "x": [
          "8-3",
          "8-4",
          "9-1",
          "9-2",
          "9-3"
         ],
         "y": [
          0,
          0,
          0,
          0,
          0
         ]
        },
        {
         "name": "苏彦勋_开发中的项目数",
         "type": "scatter",
         "uid": "ee21a8db-c202-11e8-a988-509a4c0f1ffc",
         "x": [
          "8-3",
          "8-4",
          "9-1",
          "9-2",
          "9-3"
         ],
         "y": [
          5,
          4,
          3,
          0,
          0
         ]
        },
        {
         "name": "苏彦勋_延期项目数",
         "type": "scatter",
         "uid": "ee21a8dc-c202-11e8-8eae-509a4c0f1ffc",
         "x": [
          "8-3",
          "8-4",
          "9-1",
          "9-2",
          "9-3"
         ],
         "y": [
          0,
          0,
          0,
          0,
          0
         ]
        },
        {
         "name": "苏彦勋_暂停项目数",
         "type": "scatter",
         "uid": "ee21a8dd-c202-11e8-9cce-509a4c0f1ffc",
         "x": [
          "8-3",
          "8-4",
          "9-1",
          "9-2",
          "9-3"
         ],
         "y": [
          8,
          8,
          8,
          8,
          8
         ]
        },
        {
         "name": "姚盟成_季度开发项目数",
         "type": "scatter",
         "uid": "ee21a8de-c202-11e8-8d83-509a4c0f1ffc",
         "x": [
          "8-3",
          "8-4",
          "9-1",
          "9-2",
          "9-3"
         ],
         "y": [
          9,
          9,
          9,
          9,
          9
         ]
        },
        {
         "name": "姚盟成_如期完成项目数",
         "type": "scatter",
         "uid": "ee21a8df-c202-11e8-953b-509a4c0f1ffc",
         "x": [
          "8-3",
          "8-4",
          "9-1",
          "9-2",
          "9-3"
         ],
         "y": [
          3,
          3,
          3,
          3,
          3
         ]
        },
        {
         "name": "姚盟成_延期完成",
         "type": "scatter",
         "uid": "ee21a8e0-c202-11e8-887e-509a4c0f1ffc",
         "x": [
          "8-3",
          "8-4",
          "9-1",
          "9-2",
          "9-3"
         ],
         "y": [
          0,
          0,
          0,
          0,
          0
         ]
        },
        {
         "name": "姚盟成_开发中的项目数",
         "type": "scatter",
         "uid": "ee21a8e1-c202-11e8-b42a-509a4c0f1ffc",
         "x": [
          "8-3",
          "8-4",
          "9-1",
          "9-2",
          "9-3"
         ],
         "y": [
          1,
          2,
          3,
          2,
          7
         ]
        },
        {
         "name": "姚盟成_延期项目数",
         "type": "scatter",
         "uid": "ee21a8e2-c202-11e8-b495-509a4c0f1ffc",
         "x": [
          "8-3",
          "8-4",
          "9-1",
          "9-2",
          "9-3"
         ],
         "y": [
          0,
          0,
          0,
          0,
          0
         ]
        },
        {
         "name": "姚盟成_暂停项目数",
         "type": "scatter",
         "uid": "ee21cfe2-c202-11e8-b007-509a4c0f1ffc",
         "x": [
          "8-3",
          "8-4",
          "9-1",
          "9-2",
          "9-3"
         ],
         "y": [
          0,
          0,
          0,
          0,
          12
         ]
        },
        {
         "name": "宋迎楠_季度开发项目数",
         "type": "scatter",
         "uid": "ee21cfe3-c202-11e8-bf42-509a4c0f1ffc",
         "x": [
          "8-3",
          "8-4",
          "9-1"
         ],
         "y": [
          23,
          23,
          23
         ]
        },
        {
         "name": "宋迎楠_如期完成项目数",
         "type": "scatter",
         "uid": "ee21cfe4-c202-11e8-9fb6-509a4c0f1ffc",
         "x": [
          "8-3",
          "8-4",
          "9-1"
         ],
         "y": [
          0,
          0,
          0
         ]
        },
        {
         "name": "宋迎楠_延期完成",
         "type": "scatter",
         "uid": "ee21cfe5-c202-11e8-b8d6-509a4c0f1ffc",
         "x": [
          "8-3",
          "8-4",
          "9-1"
         ],
         "y": [
          8,
          9,
          10
         ]
        },
        {
         "name": "宋迎楠_开发中的项目数",
         "type": "scatter",
         "uid": "ee21cfe6-c202-11e8-856e-509a4c0f1ffc",
         "x": [
          "8-3",
          "8-4",
          "9-1"
         ],
         "y": [
          14,
          13,
          7
         ]
        },
        {
         "name": "宋迎楠_延期项目数",
         "type": "scatter",
         "uid": "ee21cfe7-c202-11e8-b1d1-509a4c0f1ffc",
         "x": [
          "8-3",
          "8-4",
          "9-1"
         ],
         "y": [
          1,
          1,
          6
         ]
        },
        {
         "name": "宋迎楠_暂停项目数",
         "type": "scatter",
         "uid": "ee21cfe8-c202-11e8-b769-509a4c0f1ffc",
         "x": [
          "8-3",
          "8-4",
          "9-1"
         ],
         "y": [
          0,
          0,
          0
         ]
        },
        {
         "name": "杨伟飞_季度开发项目数",
         "type": "scatter",
         "uid": "ee21cfe9-c202-11e8-9153-509a4c0f1ffc",
         "x": [
          "8-3",
          "8-4",
          "9-1",
          "9-2",
          "9-3"
         ],
         "y": [
          8,
          8,
          8,
          8,
          8
         ]
        },
        {
         "name": "杨伟飞_如期完成项目数",
         "type": "scatter",
         "uid": "ee21cfea-c202-11e8-b485-509a4c0f1ffc",
         "x": [
          "8-3",
          "8-4",
          "9-1",
          "9-2",
          "9-3"
         ],
         "y": [
          2,
          2,
          4,
          4,
          4
         ]
        },
        {
         "name": "杨伟飞_延期完成",
         "type": "scatter",
         "uid": "ee21cfeb-c202-11e8-a514-509a4c0f1ffc",
         "x": [
          "8-3",
          "8-4",
          "9-1",
          "9-2",
          "9-3"
         ],
         "y": [
          1,
          2,
          2,
          2,
          2
         ]
        },
        {
         "name": "杨伟飞_开发中的项目数",
         "type": "scatter",
         "uid": "ee21cfec-c202-11e8-854c-509a4c0f1ffc",
         "x": [
          "8-3",
          "8-4",
          "9-1",
          "9-2",
          "9-3"
         ],
         "y": [
          5,
          4,
          2,
          2,
          2
         ]
        },
        {
         "name": "杨伟飞_延期项目数",
         "type": "scatter",
         "uid": "ee21cfed-c202-11e8-9dac-509a4c0f1ffc",
         "x": [
          "8-3",
          "8-4",
          "9-1",
          "9-2",
          "9-3"
         ],
         "y": [
          0,
          0,
          0,
          0,
          0
         ]
        },
        {
         "name": "杨伟飞_暂停项目数",
         "type": "scatter",
         "uid": "ee21cfee-c202-11e8-b3f7-509a4c0f1ffc",
         "x": [
          "8-3",
          "8-4",
          "9-1",
          "9-2",
          "9-3"
         ],
         "y": [
          0,
          0,
          0,
          0,
          0
         ]
        },
        {
         "name": "韩少怀_季度开发项目数",
         "type": "scatter",
         "uid": "ee21cfef-c202-11e8-ab03-509a4c0f1ffc",
         "x": [
          "8-3",
          "8-4",
          "9-1",
          "9-2"
         ],
         "y": [
          7,
          7,
          7,
          6
         ]
        },
        {
         "name": "韩少怀_如期完成项目数",
         "type": "scatter",
         "uid": "ee21cff0-c202-11e8-99b0-509a4c0f1ffc",
         "x": [
          "8-3",
          "8-4",
          "9-1",
          "9-2"
         ],
         "y": [
          5,
          5,
          6,
          5
         ]
        },
        {
         "name": "韩少怀_延期完成",
         "type": "scatter",
         "uid": "ee21cff1-c202-11e8-8c78-509a4c0f1ffc",
         "x": [
          "8-3",
          "8-4",
          "9-1",
          "9-2"
         ],
         "y": [
          0,
          0,
          0,
          0
         ]
        },
        {
         "name": "韩少怀_开发中的项目数",
         "type": "scatter",
         "uid": "ee21cff2-c202-11e8-9ba5-509a4c0f1ffc",
         "x": [
          "8-3",
          "8-4",
          "9-1",
          "9-2"
         ],
         "y": [
          1,
          2,
          1,
          1
         ]
        },
        {
         "name": "韩少怀_延期项目数",
         "type": "scatter",
         "uid": "ee21cff3-c202-11e8-97e8-509a4c0f1ffc",
         "x": [
          "8-3",
          "8-4",
          "9-1",
          "9-2"
         ],
         "y": [
          0,
          0,
          0,
          0
         ]
        },
        {
         "name": "韩少怀_暂停项目数",
         "type": "scatter",
         "uid": "ee21cff4-c202-11e8-b0c4-509a4c0f1ffc",
         "x": [
          "8-3",
          "8-4",
          "9-1",
          "9-2"
         ],
         "y": [
          0,
          0,
          0,
          0
         ]
        },
        {
         "name": "于勇一_季度开发项目数",
         "type": "scatter",
         "uid": "ee21cff5-c202-11e8-aa55-509a4c0f1ffc",
         "x": [
          "8-3",
          "8-4",
          "9-1",
          "9-2",
          "9-3"
         ],
         "y": [
          0,
          0,
          0,
          0,
          0
         ]
        },
        {
         "name": "于勇一_如期完成项目数",
         "type": "scatter",
         "uid": "ee21cff6-c202-11e8-ae19-509a4c0f1ffc",
         "x": [
          "8-3",
          "8-4",
          "9-1",
          "9-2",
          "9-3"
         ],
         "y": [
          0,
          0,
          0,
          0,
          0
         ]
        },
        {
         "name": "于勇一_延期完成",
         "type": "scatter",
         "uid": "ee21cff7-c202-11e8-bf31-509a4c0f1ffc",
         "x": [
          "8-3",
          "8-4",
          "9-1",
          "9-2",
          "9-3"
         ],
         "y": [
          0,
          0,
          0,
          0,
          0
         ]
        },
        {
         "name": "于勇一_开发中的项目数",
         "type": "scatter",
         "uid": "ee21cff8-c202-11e8-9789-509a4c0f1ffc",
         "x": [
          "8-3",
          "8-4",
          "9-1",
          "9-2",
          "9-3"
         ],
         "y": [
          0,
          0,
          0,
          0,
          0
         ]
        },
        {
         "name": "于勇一_延期项目数",
         "type": "scatter",
         "uid": "ee21cff9-c202-11e8-a671-509a4c0f1ffc",
         "x": [
          "8-3",
          "8-4",
          "9-1",
          "9-2",
          "9-3"
         ],
         "y": [
          0,
          0,
          0,
          0,
          0
         ]
        },
        {
         "name": "于勇一_暂停项目数",
         "type": "scatter",
         "uid": "ee21cffa-c202-11e8-82e6-509a4c0f1ffc",
         "x": [
          "8-3",
          "8-4",
          "9-1",
          "9-2",
          "9-3"
         ],
         "y": [
          0,
          0,
          0,
          0,
          0
         ]
        },
        {
         "name": "李华云_季度开发项目数",
         "type": "scatter",
         "uid": "ee21cffb-c202-11e8-ae35-509a4c0f1ffc",
         "x": [
          "8-3",
          "8-4",
          "9-1",
          "9-2",
          "9-3"
         ],
         "y": [
          35,
          35,
          35,
          35,
          47
         ]
        },
        {
         "name": "李华云_如期完成项目数",
         "type": "scatter",
         "uid": "ee21cffc-c202-11e8-9009-509a4c0f1ffc",
         "x": [
          "8-3",
          "8-4",
          "9-1",
          "9-2",
          "9-3"
         ],
         "y": [
          5,
          5,
          5,
          5,
          22
         ]
        },
        {
         "name": "李华云_延期完成",
         "type": "scatter",
         "uid": "ee21cffd-c202-11e8-8586-509a4c0f1ffc",
         "x": [
          "8-3",
          "8-4",
          "9-1",
          "9-2",
          "9-3"
         ],
         "y": [
          0,
          0,
          1,
          3,
          13
         ]
        },
        {
         "name": "李华云_开发中的项目数",
         "type": "scatter",
         "uid": "ee21cffe-c202-11e8-ba08-509a4c0f1ffc",
         "x": [
          "8-3",
          "8-4",
          "9-1",
          "9-2",
          "9-3"
         ],
         "y": [
          24,
          24,
          20,
          18,
          3
         ]
        },
        {
         "name": "李华云_延期项目数",
         "type": "scatter",
         "uid": "ee21cfff-c202-11e8-b89f-509a4c0f1ffc",
         "x": [
          "8-3",
          "8-4",
          "9-1",
          "9-2",
          "9-3"
         ],
         "y": [
          6,
          6,
          9,
          9,
          6
         ]
        },
        {
         "name": "李华云_暂停项目数",
         "type": "scatter",
         "uid": "ee21d000-c202-11e8-a258-509a4c0f1ffc",
         "x": [
          "8-3",
          "8-4",
          "9-1",
          "9-2",
          "9-3"
         ],
         "y": [
          0,
          0,
          0,
          0,
          3
         ]
        },
        {
         "name": "刘慧玲_季度开发项目数",
         "type": "scatter",
         "uid": "ee21d001-c202-11e8-a997-509a4c0f1ffc",
         "x": [
          "8-3",
          "8-4",
          "9-1"
         ],
         "y": [
          8,
          8,
          9
         ]
        },
        {
         "name": "刘慧玲_如期完成项目数",
         "type": "scatter",
         "uid": "ee21d002-c202-11e8-96ef-509a4c0f1ffc",
         "x": [
          "8-3",
          "8-4",
          "9-1"
         ],
         "y": [
          3,
          3,
          3
         ]
        },
        {
         "name": "刘慧玲_延期完成",
         "type": "scatter",
         "uid": "ee21d003-c202-11e8-8f6e-509a4c0f1ffc",
         "x": [
          "8-3",
          "8-4",
          "9-1"
         ],
         "y": [
          1,
          1,
          1
         ]
        },
        {
         "name": "刘慧玲_开发中的项目数",
         "type": "scatter",
         "uid": "ee21d004-c202-11e8-a75c-509a4c0f1ffc",
         "x": [
          "8-3",
          "8-4",
          "9-1"
         ],
         "y": [
          2,
          2,
          1
         ]
        },
        {
         "name": "刘慧玲_延期项目数",
         "type": "scatter",
         "uid": "ee21d005-c202-11e8-b218-509a4c0f1ffc",
         "x": [
          "8-3",
          "8-4",
          "9-1"
         ],
         "y": [
          0,
          0,
          0
         ]
        },
        {
         "name": "刘慧玲_暂停项目数",
         "type": "scatter",
         "uid": "ee21d006-c202-11e8-b9e7-509a4c0f1ffc",
         "x": [
          "8-3",
          "8-4",
          "9-1"
         ],
         "y": [
          2,
          2,
          4
         ]
        },
        {
         "name": "孟昊_季度开发项目数",
         "type": "scatter",
         "uid": "ee21d007-c202-11e8-bd8b-509a4c0f1ffc",
         "x": [
          "8-3",
          "8-4",
          "9-1",
          "9-2",
          "9-3"
         ],
         "y": [
          43,
          43,
          43,
          43,
          43
         ]
        },
        {
         "name": "孟昊_如期完成项目数",
         "type": "scatter",
         "uid": "ee21d008-c202-11e8-9d75-509a4c0f1ffc",
         "x": [
          "8-3",
          "8-4",
          "9-1",
          "9-2",
          "9-3"
         ],
         "y": [
          38,
          38,
          38,
          39,
          39
         ]
        },
        {
         "name": "孟昊_延期完成",
         "type": "scatter",
         "uid": "ee21d009-c202-11e8-8c3a-509a4c0f1ffc",
         "x": [
          "8-3",
          "8-4",
          "9-1",
          "9-2",
          "9-3"
         ],
         "y": [
          0,
          0,
          0,
          0,
          0
         ]
        },
        {
         "name": "孟昊_开发中的项目数",
         "type": "scatter",
         "uid": "ee21d00a-c202-11e8-be1a-509a4c0f1ffc",
         "x": [
          "8-3",
          "8-4",
          "9-1",
          "9-2",
          "9-3"
         ],
         "y": [
          2,
          2,
          2,
          2,
          2
         ]
        },
        {
         "name": "孟昊_延期项目数",
         "type": "scatter",
         "uid": "ee21d00b-c202-11e8-9bb5-509a4c0f1ffc",
         "x": [
          "8-3",
          "8-4",
          "9-1",
          "9-2",
          "9-3"
         ],
         "y": [
          0,
          0,
          0,
          0,
          0
         ]
        },
        {
         "name": "孟昊_暂停项目数",
         "type": "scatter",
         "uid": "ee21d00c-c202-11e8-b555-509a4c0f1ffc",
         "x": [
          "8-3",
          "8-4",
          "9-1",
          "9-2",
          "9-3"
         ],
         "y": [
          3,
          3,
          3,
          3,
          3
         ]
        },
        {
         "name": "于慧_季度开发项目数",
         "type": "scatter",
         "uid": "ee21d00d-c202-11e8-99ab-509a4c0f1ffc",
         "x": [
          "8-3",
          "8-4",
          "9-1",
          "9-2",
          "9-3"
         ],
         "y": [
          36,
          36,
          36,
          37,
          37
         ]
        },
        {
         "name": "于慧_如期完成项目数",
         "type": "scatter",
         "uid": "ee21d00e-c202-11e8-8cd7-509a4c0f1ffc",
         "x": [
          "8-3",
          "8-4",
          "9-1",
          "9-2",
          "9-3"
         ],
         "y": [
          32,
          33,
          34,
          35,
          35
         ]
        },
        {
         "name": "于慧_延期完成",
         "type": "scatter",
         "uid": "ee21d00f-c202-11e8-a44a-509a4c0f1ffc",
         "x": [
          "8-3",
          "8-4",
          "9-1",
          "9-2",
          "9-3"
         ],
         "y": [
          0,
          0,
          0,
          0,
          0
         ]
        },
        {
         "name": "于慧_开发中的项目数",
         "type": "scatter",
         "uid": "ee21d010-c202-11e8-8a5e-509a4c0f1ffc",
         "x": [
          "8-3",
          "8-4",
          "9-1",
          "9-2",
          "9-3"
         ],
         "y": [
          4,
          3,
          2,
          2,
          2
         ]
        },
        {
         "name": "于慧_延期项目数",
         "type": "scatter",
         "uid": "ee21d011-c202-11e8-b915-509a4c0f1ffc",
         "x": [
          "8-3",
          "8-4",
          "9-1",
          "9-2",
          "9-3"
         ],
         "y": [
          0,
          0,
          0,
          0,
          0
         ]
        },
        {
         "name": "于慧_暂停项目数",
         "type": "scatter",
         "uid": "ee21d012-c202-11e8-81a2-509a4c0f1ffc",
         "x": [
          "8-3",
          "8-4",
          "9-1",
          "9-2",
          "9-3"
         ],
         "y": [
          0,
          0,
          0,
          0,
          0
         ]
        },
        {
         "name": "赵玥_季度开发项目数",
         "type": "scatter",
         "uid": "ee21d013-c202-11e8-80e8-509a4c0f1ffc",
         "x": [
          "8-3",
          "8-4",
          "9-1",
          "9-2"
         ],
         "y": [
          21,
          22,
          21,
          22
         ]
        },
        {
         "name": "赵玥_如期完成项目数",
         "type": "scatter",
         "uid": "ee21d014-c202-11e8-a2dd-509a4c0f1ffc",
         "x": [
          "8-3",
          "8-4",
          "9-1",
          "9-2"
         ],
         "y": [
          20,
          21,
          20,
          21
         ]
        },
        {
         "name": "赵玥_延期完成",
         "type": "scatter",
         "uid": "ee21d015-c202-11e8-8db6-509a4c0f1ffc",
         "x": [
          "8-3",
          "8-4",
          "9-1",
          "9-2"
         ],
         "y": [
          1,
          1,
          1,
          1
         ]
        },
        {
         "name": "赵玥_开发中的项目数",
         "type": "scatter",
         "uid": "ee21d016-c202-11e8-8e63-509a4c0f1ffc",
         "x": [
          "8-3",
          "8-4",
          "9-1",
          "9-2"
         ],
         "y": [
          0,
          2,
          3,
          1
         ]
        },
        {
         "name": "赵玥_延期项目数",
         "type": "scatter",
         "uid": "ee21f6f4-c202-11e8-b4ba-509a4c0f1ffc",
         "x": [
          "8-3",
          "8-4",
          "9-1",
          "9-2"
         ],
         "y": [
          0,
          0,
          1,
          1
         ]
        },
        {
         "name": "赵玥_暂停项目数",
         "type": "scatter",
         "uid": "ee21f6f5-c202-11e8-8818-509a4c0f1ffc",
         "x": [
          "8-3",
          "8-4",
          "9-1",
          "9-2"
         ],
         "y": [
          0,
          0,
          1,
          1
         ]
        },
        {
         "name": "封彦杰_季度开发项目数",
         "type": "scatter",
         "uid": "ee21f6f6-c202-11e8-9077-509a4c0f1ffc",
         "x": [
          "8-3",
          "8-4",
          "9-1",
          "9-2",
          "9-3"
         ],
         "y": [
          5,
          5,
          5,
          5,
          5
         ]
        },
        {
         "name": "封彦杰_如期完成项目数",
         "type": "scatter",
         "uid": "ee21f6f7-c202-11e8-a6c7-509a4c0f1ffc",
         "x": [
          "8-3",
          "8-4",
          "9-1",
          "9-2",
          "9-3"
         ],
         "y": [
          0,
          0,
          2,
          2,
          2
         ]
        },
        {
         "name": "封彦杰_延期完成",
         "type": "scatter",
         "uid": "ee21f6f8-c202-11e8-a0e8-509a4c0f1ffc",
         "x": [
          "8-3",
          "8-4",
          "9-1",
          "9-2",
          "9-3"
         ],
         "y": [
          0,
          0,
          0,
          0,
          0
         ]
        },
        {
         "name": "封彦杰_开发中的项目数",
         "type": "scatter",
         "uid": "ee21f6f9-c202-11e8-82f4-509a4c0f1ffc",
         "x": [
          "8-3",
          "8-4",
          "9-1",
          "9-2",
          "9-3"
         ],
         "y": [
          4,
          4,
          2,
          2,
          3
         ]
        },
        {
         "name": "封彦杰_延期项目数",
         "type": "scatter",
         "uid": "ee21f6fa-c202-11e8-9705-509a4c0f1ffc",
         "x": [
          "8-3",
          "8-4",
          "9-1",
          "9-2",
          "9-3"
         ],
         "y": [
          0,
          0,
          0,
          0,
          0
         ]
        },
        {
         "name": "封彦杰_暂停项目数",
         "type": "scatter",
         "uid": "ee21f6fb-c202-11e8-a07b-509a4c0f1ffc",
         "x": [
          "8-3",
          "8-4",
          "9-1",
          "9-2",
          "9-3"
         ],
         "y": [
          1,
          1,
          1,
          1,
          0
         ]
        },
        {
         "name": "谢德健_季度开发项目数",
         "type": "scatter",
         "uid": "ee21f6fc-c202-11e8-95bf-509a4c0f1ffc",
         "x": [
          "8-3",
          "8-4",
          "9-2",
          "9-3"
         ],
         "y": [
          0,
          0,
          6,
          6
         ]
        },
        {
         "name": "谢德健_如期完成项目数",
         "type": "scatter",
         "uid": "ee21f6fd-c202-11e8-b06a-509a4c0f1ffc",
         "x": [
          "8-3",
          "8-4",
          "9-2",
          "9-3"
         ],
         "y": [
          0,
          0,
          6,
          6
         ]
        },
        {
         "name": "谢德健_延期完成",
         "type": "scatter",
         "uid": "ee21f6fe-c202-11e8-a1a9-509a4c0f1ffc",
         "x": [
          "8-3",
          "8-4",
          "9-2",
          "9-3"
         ],
         "y": [
          0,
          0,
          0,
          0
         ]
        },
        {
         "name": "谢德健_开发中的项目数",
         "type": "scatter",
         "uid": "ee21f6ff-c202-11e8-9dcd-509a4c0f1ffc",
         "x": [
          "8-3",
          "8-4",
          "9-2",
          "9-3"
         ],
         "y": [
          0,
          0,
          0,
          0
         ]
        },
        {
         "name": "谢德健_延期项目数",
         "type": "scatter",
         "uid": "ee21f700-c202-11e8-97b2-509a4c0f1ffc",
         "x": [
          "8-3",
          "8-4",
          "9-2",
          "9-3"
         ],
         "y": [
          0,
          0,
          0,
          0
         ]
        },
        {
         "name": "谢德健_暂停项目数",
         "type": "scatter",
         "uid": "ee21f701-c202-11e8-b996-509a4c0f1ffc",
         "x": [
          "8-3",
          "8-4",
          "9-2",
          "9-3"
         ],
         "y": [
          0,
          0,
          0,
          0
         ]
        },
        {
         "name": "周杨_季度开发项目数",
         "type": "scatter",
         "uid": "ee21f702-c202-11e8-b1f8-509a4c0f1ffc",
         "x": [
          "8-3",
          "8-4",
          "9-1",
          "9-2",
          "9-3"
         ],
         "y": [
          32,
          32,
          32,
          32,
          32
         ]
        },
        {
         "name": "周杨_如期完成项目数",
         "type": "scatter",
         "uid": "ee21f703-c202-11e8-8ce6-509a4c0f1ffc",
         "x": [
          "8-3",
          "8-4",
          "9-1",
          "9-2",
          "9-3"
         ],
         "y": [
          28,
          28,
          28,
          29,
          32
         ]
        },
        {
         "name": "周杨_延期完成",
         "type": "scatter",
         "uid": "ee21f704-c202-11e8-bbea-509a4c0f1ffc",
         "x": [
          "8-3",
          "8-4",
          "9-1",
          "9-2",
          "9-3"
         ],
         "y": [
          0,
          0,
          0,
          0,
          0
         ]
        },
        {
         "name": "周杨_开发中的项目数",
         "type": "scatter",
         "uid": "ee21f705-c202-11e8-b2cc-509a4c0f1ffc",
         "x": [
          "8-3",
          "8-4",
          "9-1",
          "9-2",
          "9-3"
         ],
         "y": [
          3,
          3,
          3,
          2,
          0
         ]
        },
        {
         "name": "周杨_延期项目数",
         "type": "scatter",
         "uid": "ee21f706-c202-11e8-8a09-509a4c0f1ffc",
         "x": [
          "8-3",
          "8-4",
          "9-1",
          "9-2",
          "9-3"
         ],
         "y": [
          0,
          0,
          0,
          0,
          0
         ]
        },
        {
         "name": "周杨_暂停项目数",
         "type": "scatter",
         "uid": "ee21f707-c202-11e8-a863-509a4c0f1ffc",
         "x": [
          "8-3",
          "8-4",
          "9-1",
          "9-2",
          "9-3"
         ],
         "y": [
          1,
          1,
          1,
          1,
          1
         ]
        },
        {
         "name": "张守伟_季度开发项目数",
         "type": "scatter",
         "uid": "ee21f708-c202-11e8-bbbc-509a4c0f1ffc",
         "x": [
          "8-3",
          "8-4",
          "9-1",
          "9-2"
         ],
         "y": [
          13,
          16,
          18,
          20
         ]
        },
        {
         "name": "张守伟_如期完成项目数",
         "type": "scatter",
         "uid": "ee21f709-c202-11e8-85fc-509a4c0f1ffc",
         "x": [
          "8-3",
          "8-4",
          "9-1",
          "9-2"
         ],
         "y": [
          13,
          16,
          18,
          20
         ]
        },
        {
         "name": "张守伟_延期完成",
         "type": "scatter",
         "uid": "ee21f70a-c202-11e8-a570-509a4c0f1ffc",
         "x": [
          "8-3",
          "8-4",
          "9-1",
          "9-2"
         ],
         "y": [
          0,
          0,
          0,
          0
         ]
        },
        {
         "name": "张守伟_开发中的项目数",
         "type": "scatter",
         "uid": "ee21f70b-c202-11e8-8931-509a4c0f1ffc",
         "x": [
          "8-3",
          "8-4",
          "9-1",
          "9-2"
         ],
         "y": [
          2,
          2,
          2,
          2
         ]
        },
        {
         "name": "张守伟_延期项目数",
         "type": "scatter",
         "uid": "ee21f70c-c202-11e8-a564-509a4c0f1ffc",
         "x": [
          "8-3",
          "8-4",
          "9-1",
          "9-2"
         ],
         "y": [
          0,
          0,
          0,
          0
         ]
        },
        {
         "name": "张守伟_暂停项目数",
         "type": "scatter",
         "uid": "ee21f70d-c202-11e8-a853-509a4c0f1ffc",
         "x": [
          "8-3",
          "8-4",
          "9-1",
          "9-2"
         ],
         "y": [
          0,
          0,
          0,
          0
         ]
        },
        {
         "name": "路慧萍_季度开发项目数",
         "type": "scatter",
         "uid": "ee21f70e-c202-11e8-a49f-509a4c0f1ffc",
         "x": [
          "8-3",
          "8-4",
          "9-1",
          "9-2",
          "9-3"
         ],
         "y": [
          0,
          0,
          0,
          0,
          0
         ]
        },
        {
         "name": "路慧萍_如期完成项目数",
         "type": "scatter",
         "uid": "ee21f70f-c202-11e8-8ddb-509a4c0f1ffc",
         "x": [
          "8-3",
          "8-4",
          "9-1",
          "9-2",
          "9-3"
         ],
         "y": [
          0,
          0,
          0,
          0,
          0
         ]
        },
        {
         "name": "路慧萍_延期完成",
         "type": "scatter",
         "uid": "ee21f710-c202-11e8-835d-509a4c0f1ffc",
         "x": [
          "8-3",
          "8-4",
          "9-1",
          "9-2",
          "9-3"
         ],
         "y": [
          0,
          0,
          0,
          0,
          0
         ]
        },
        {
         "name": "路慧萍_开发中的项目数",
         "type": "scatter",
         "uid": "ee21f711-c202-11e8-bbc8-509a4c0f1ffc",
         "x": [
          "8-3",
          "8-4",
          "9-1",
          "9-2",
          "9-3"
         ],
         "y": [
          0,
          0,
          0,
          0,
          0
         ]
        },
        {
         "name": "路慧萍_延期项目数",
         "type": "scatter",
         "uid": "ee21f712-c202-11e8-bf1d-509a4c0f1ffc",
         "x": [
          "8-3",
          "8-4",
          "9-1",
          "9-2",
          "9-3"
         ],
         "y": [
          0,
          0,
          0,
          0,
          0
         ]
        },
        {
         "name": "路慧萍_暂停项目数",
         "type": "scatter",
         "uid": "ee21f713-c202-11e8-a47a-509a4c0f1ffc",
         "x": [
          "8-3",
          "8-4",
          "9-1",
          "9-2",
          "9-3"
         ],
         "y": [
          0,
          0,
          0,
          0,
          2
         ]
        },
        {
         "name": "占伟_季度开发项目数",
         "type": "scatter",
         "uid": "ee21f714-c202-11e8-8d4f-509a4c0f1ffc",
         "x": [
          "8-3",
          "8-4",
          "9-1",
          "9-2"
         ],
         "y": [
          19,
          18,
          18,
          18
         ]
        },
        {
         "name": "占伟_如期完成项目数",
         "type": "scatter",
         "uid": "ee21f715-c202-11e8-b016-509a4c0f1ffc",
         "x": [
          "8-3",
          "8-4",
          "9-1",
          "9-2"
         ],
         "y": [
          12,
          10,
          10,
          10
         ]
        },
        {
         "name": "占伟_延期完成",
         "type": "scatter",
         "uid": "ee21f716-c202-11e8-93ca-509a4c0f1ffc",
         "x": [
          "8-3",
          "8-4",
          "9-1",
          "9-2"
         ],
         "y": [
          2,
          1,
          1,
          1
         ]
        },
        {
         "name": "占伟_开发中的项目数",
         "type": "scatter",
         "uid": "ee21f717-c202-11e8-bd56-509a4c0f1ffc",
         "x": [
          "8-3",
          "8-4",
          "9-1",
          "9-2"
         ],
         "y": [
          2,
          5,
          5,
          5
         ]
        },
        {
         "name": "占伟_延期项目数",
         "type": "scatter",
         "uid": "ee21f718-c202-11e8-a173-509a4c0f1ffc",
         "x": [
          "8-3",
          "8-4",
          "9-1",
          "9-2"
         ],
         "y": [
          3,
          3,
          3,
          3
         ]
        },
        {
         "name": "占伟_暂停项目数",
         "type": "scatter",
         "uid": "ee21f719-c202-11e8-a77b-509a4c0f1ffc",
         "x": [
          "8-3",
          "8-4",
          "9-1",
          "9-2"
         ],
         "y": [
          0,
          0,
          0,
          0
         ]
        },
        {
         "name": "王宁_季度开发项目数",
         "type": "scatter",
         "uid": "ee21f71a-c202-11e8-9048-509a4c0f1ffc",
         "x": [
          "8-3",
          "8-4",
          "9-1"
         ],
         "y": [
          0,
          0,
          0
         ]
        },
        {
         "name": "王宁_如期完成项目数",
         "type": "scatter",
         "uid": "ee21f71b-c202-11e8-8b54-509a4c0f1ffc",
         "x": [
          "8-3",
          "8-4",
          "9-1"
         ],
         "y": [
          0,
          0,
          0
         ]
        },
        {
         "name": "王宁_延期完成",
         "type": "scatter",
         "uid": "ee21f71c-c202-11e8-b8fa-509a4c0f1ffc",
         "x": [
          "8-3",
          "8-4",
          "9-1"
         ],
         "y": [
          0,
          0,
          0
         ]
        },
        {
         "name": "王宁_开发中的项目数",
         "type": "scatter",
         "uid": "ee21f71d-c202-11e8-bc37-509a4c0f1ffc",
         "x": [
          "8-3",
          "8-4",
          "9-1"
         ],
         "y": [
          0,
          0,
          0
         ]
        },
        {
         "name": "王宁_延期项目数",
         "type": "scatter",
         "uid": "ee21f71e-c202-11e8-860b-509a4c0f1ffc",
         "x": [
          "8-3",
          "8-4",
          "9-1"
         ],
         "y": [
          0,
          0,
          0
         ]
        },
        {
         "name": "王宁_暂停项目数",
         "type": "scatter",
         "uid": "ee21f71f-c202-11e8-ae69-509a4c0f1ffc",
         "x": [
          "8-3",
          "8-4",
          "9-1"
         ],
         "y": [
          0,
          0,
          0
         ]
        },
        {
         "name": "李庆原_季度开发项目数",
         "type": "scatter",
         "uid": "ee21f720-c202-11e8-a2bd-509a4c0f1ffc",
         "x": [
          "8-3",
          "8-4",
          "9-1",
          "9-2",
          "9-3"
         ],
         "y": [
          0,
          0,
          0,
          0,
          0
         ]
        },
        {
         "name": "李庆原_如期完成项目数",
         "type": "scatter",
         "uid": "ee21f721-c202-11e8-92ae-509a4c0f1ffc",
         "x": [
          "8-3",
          "8-4",
          "9-1",
          "9-2",
          "9-3"
         ],
         "y": [
          0,
          0,
          0,
          0,
          0
         ]
        },
        {
         "name": "李庆原_延期完成",
         "type": "scatter",
         "uid": "ee21f722-c202-11e8-a168-509a4c0f1ffc",
         "x": [
          "8-3",
          "8-4",
          "9-1",
          "9-2",
          "9-3"
         ],
         "y": [
          0,
          0,
          0,
          0,
          0
         ]
        },
        {
         "name": "李庆原_开发中的项目数",
         "type": "scatter",
         "uid": "ee21f723-c202-11e8-a9c8-509a4c0f1ffc",
         "x": [
          "8-3",
          "8-4",
          "9-1",
          "9-2",
          "9-3"
         ],
         "y": [
          0,
          0,
          0,
          0,
          0
         ]
        },
        {
         "name": "李庆原_延期项目数",
         "type": "scatter",
         "uid": "ee21f724-c202-11e8-a45b-509a4c0f1ffc",
         "x": [
          "8-3",
          "8-4",
          "9-1",
          "9-2",
          "9-3"
         ],
         "y": [
          0,
          0,
          0,
          0,
          0
         ]
        },
        {
         "name": "李庆原_暂停项目数",
         "type": "scatter",
         "uid": "ee21f725-c202-11e8-9bec-509a4c0f1ffc",
         "x": [
          "8-3",
          "8-4",
          "9-1",
          "9-2",
          "9-3"
         ],
         "y": [
          0,
          0,
          0,
          0,
          0
         ]
        },
        {
         "name": "范旭宁_季度开发项目数",
         "type": "scatter",
         "uid": "ee21f726-c202-11e8-b1a5-509a4c0f1ffc",
         "x": [
          "8-3",
          "8-4",
          "9-1",
          "9-2"
         ],
         "y": [
          18,
          25,
          30,
          7
         ]
        },
        {
         "name": "范旭宁_如期完成项目数",
         "type": "scatter",
         "uid": "ee21f727-c202-11e8-9d63-509a4c0f1ffc",
         "x": [
          "8-3",
          "8-4",
          "9-1",
          "9-2"
         ],
         "y": [
          16,
          23,
          27,
          7
         ]
        },
        {
         "name": "范旭宁_延期完成",
         "type": "scatter",
         "uid": "ee21f728-c202-11e8-81c0-509a4c0f1ffc",
         "x": [
          "8-3",
          "8-4",
          "9-1",
          "9-2"
         ],
         "y": [
          2,
          2,
          3,
          0
         ]
        },
        {
         "name": "范旭宁_开发中的项目数",
         "type": "scatter",
         "uid": "ee21f729-c202-11e8-bb06-509a4c0f1ffc",
         "x": [
          "8-3",
          "8-4",
          "9-1",
          "9-2"
         ],
         "y": [
          0,
          1,
          1,
          0
         ]
        },
        {
         "name": "范旭宁_延期项目数",
         "type": "scatter",
         "uid": "ee21f72a-c202-11e8-aee4-509a4c0f1ffc",
         "x": [
          "8-3",
          "8-4",
          "9-1",
          "9-2"
         ],
         "y": [
          0,
          0,
          0,
          0
         ]
        },
        {
         "name": "范旭宁_暂停项目数",
         "type": "scatter",
         "uid": "ee21f72b-c202-11e8-b321-509a4c0f1ffc",
         "x": [
          "8-3",
          "8-4",
          "9-1",
          "9-2"
         ],
         "y": [
          0,
          0,
          0,
          0
         ]
        },
        {
         "name": "马潇_季度开发项目数",
         "type": "scatter",
         "uid": "ee21f72c-c202-11e8-859d-509a4c0f1ffc",
         "x": [
          "8-3",
          "8-4",
          "9-1",
          "9-2"
         ],
         "y": [
          0,
          0,
          0,
          0
         ]
        },
        {
         "name": "马潇_如期完成项目数",
         "type": "scatter",
         "uid": "ee221e02-c202-11e8-b3fd-509a4c0f1ffc",
         "x": [
          "8-3",
          "8-4",
          "9-1",
          "9-2"
         ],
         "y": [
          0,
          0,
          0,
          0
         ]
        },
        {
         "name": "马潇_延期完成",
         "type": "scatter",
         "uid": "ee221e03-c202-11e8-9ef2-509a4c0f1ffc",
         "x": [
          "8-3",
          "8-4",
          "9-1",
          "9-2"
         ],
         "y": [
          0,
          0,
          0,
          0
         ]
        },
        {
         "name": "马潇_开发中的项目数",
         "type": "scatter",
         "uid": "ee221e04-c202-11e8-9eed-509a4c0f1ffc",
         "x": [
          "8-3",
          "8-4",
          "9-1",
          "9-2"
         ],
         "y": [
          1,
          0,
          0,
          0
         ]
        },
        {
         "name": "马潇_延期项目数",
         "type": "scatter",
         "uid": "ee221e05-c202-11e8-b6a6-509a4c0f1ffc",
         "x": [
          "8-3",
          "8-4",
          "9-1",
          "9-2"
         ],
         "y": [
          1,
          0,
          0,
          0
         ]
        },
        {
         "name": "马潇_暂停项目数",
         "type": "scatter",
         "uid": "ee221e06-c202-11e8-8459-509a4c0f1ffc",
         "x": [
          "8-3",
          "8-4",
          "9-1",
          "9-2"
         ],
         "y": [
          0,
          0,
          0,
          0
         ]
        },
        {
         "name": "任雪_季度开发项目数",
         "type": "scatter",
         "uid": "ee221e07-c202-11e8-8d80-509a4c0f1ffc",
         "x": [
          "8-4",
          "9-1",
          "9-2",
          "9-3"
         ],
         "y": [
          27,
          27,
          27,
          27
         ]
        },
        {
         "name": "任雪_如期完成项目数",
         "type": "scatter",
         "uid": "ee221e08-c202-11e8-8896-509a4c0f1ffc",
         "x": [
          "8-4",
          "9-1",
          "9-2",
          "9-3"
         ],
         "y": [
          8,
          8,
          8,
          8
         ]
        },
        {
         "name": "任雪_延期完成",
         "type": "scatter",
         "uid": "ee221e09-c202-11e8-8781-509a4c0f1ffc",
         "x": [
          "8-4",
          "9-1",
          "9-2",
          "9-3"
         ],
         "y": [
          1,
          1,
          1,
          5
         ]
        },
        {
         "name": "任雪_开发中的项目数",
         "type": "scatter",
         "uid": "ee221e0a-c202-11e8-ae5d-509a4c0f1ffc",
         "x": [
          "8-4",
          "9-1",
          "9-2",
          "9-3"
         ],
         "y": [
          15,
          8,
          8,
          6
         ]
        },
        {
         "name": "任雪_延期项目数",
         "type": "scatter",
         "uid": "ee221e0b-c202-11e8-9c0d-509a4c0f1ffc",
         "x": [
          "8-4",
          "9-1",
          "9-2",
          "9-3"
         ],
         "y": [
          3,
          7,
          7,
          4
         ]
        },
        {
         "name": "任雪_暂停项目数",
         "type": "scatter",
         "uid": "ee221e0c-c202-11e8-a365-509a4c0f1ffc",
         "x": [
          "8-4",
          "9-1",
          "9-2",
          "9-3"
         ],
         "y": [
          0,
          3,
          3,
          4
         ]
        }
       ],
       "layout": {
        "title": "季度开发项目数&如期完成项目数&延期完成&开发中的项目数&延期项目数&暂停项目数周趋势图",
        "xaxis": {
         "mirror": "all",
         "nticks": 20,
         "showgrid": true,
         "showline": true,
         "title": "周",
         "zeroline": true
        },
        "yaxis": {
         "mirror": "all",
         "nticks": 20,
         "showgrid": true,
         "showline": true,
         "title": "季度开发项目数&如期完成项目数&延期完成&开发中的项目数&延期项目数&暂停项目数",
         "zeroline": true
        }
       }
      },
      "text/html": [
       "<div id=\"17bd787d-664e-404a-b641-062dab993b3d\" style=\"height: 525px; width: 100%;\" class=\"plotly-graph-div\"></div><script type=\"text/javascript\">require([\"plotly\"], function(Plotly) { window.PLOTLYENV=window.PLOTLYENV || {};window.PLOTLYENV.BASE_URL=\"https://plot.ly\";\n",
       "        Plotly.plot(\n",
       "            '17bd787d-664e-404a-b641-062dab993b3d',\n",
       "            [{\"name\": \"\\u5218\\u6c5f_\\u5b63\\u5ea6\\u5f00\\u53d1\\u9879\\u76ee\\u6570\", \"x\": [\"8-3\", \"8-4\", \"9-1\", \"9-2\", \"9-3\"], \"y\": [3.0, 3.0, 3.0, 0.0, 3.0], \"type\": \"scatter\", \"uid\": \"ee21a8d2-c202-11e8-a16a-509a4c0f1ffc\"}, {\"name\": \"\\u5218\\u6c5f_\\u5982\\u671f\\u5b8c\\u6210\\u9879\\u76ee\\u6570\", \"x\": [\"8-3\", \"8-4\", \"9-1\", \"9-2\", \"9-3\"], \"y\": [0.0, 0.0, 0.0, 0.0, 0.0], \"type\": \"scatter\", \"uid\": \"ee21a8d3-c202-11e8-b270-509a4c0f1ffc\"}, {\"name\": \"\\u5218\\u6c5f_\\u5ef6\\u671f\\u5b8c\\u6210\", \"x\": [\"8-3\", \"8-4\", \"9-1\", \"9-2\", \"9-3\"], \"y\": [0.0, 1.0, 2.0, 0.0, 2.0], \"type\": \"scatter\", \"uid\": \"ee21a8d4-c202-11e8-9334-509a4c0f1ffc\"}, {\"name\": \"\\u5218\\u6c5f_\\u5f00\\u53d1\\u4e2d\\u7684\\u9879\\u76ee\\u6570\", \"x\": [\"8-3\", \"8-4\", \"9-1\", \"9-2\", \"9-3\"], \"y\": [3.0, 2.0, 1.0, 1.0, 1.0], \"type\": \"scatter\", \"uid\": \"ee21a8d5-c202-11e8-9840-509a4c0f1ffc\"}, {\"name\": \"\\u5218\\u6c5f_\\u5ef6\\u671f\\u9879\\u76ee\\u6570\", \"x\": [\"8-3\", \"8-4\", \"9-1\", \"9-2\", \"9-3\"], \"y\": [0.0, 0.0, 0.0, 0.0, 0.0], \"type\": \"scatter\", \"uid\": \"ee21a8d6-c202-11e8-b9b3-509a4c0f1ffc\"}, {\"name\": \"\\u5218\\u6c5f_\\u6682\\u505c\\u9879\\u76ee\\u6570\", \"x\": [\"8-3\", \"8-4\", \"9-1\", \"9-2\", \"9-3\"], \"y\": [0.0, 0.0, 0.0, 1.0, 0.0], \"type\": \"scatter\", \"uid\": \"ee21a8d7-c202-11e8-ac3a-509a4c0f1ffc\"}, {\"name\": \"\\u82cf\\u5f66\\u52cb_\\u5b63\\u5ea6\\u5f00\\u53d1\\u9879\\u76ee\\u6570\", \"x\": [\"8-3\", \"8-4\", \"9-1\", \"9-2\", \"9-3\"], \"y\": [33.0, 33.0, 33.0, 33.0, 33.0], \"type\": \"scatter\", \"uid\": \"ee21a8d8-c202-11e8-9f88-509a4c0f1ffc\"}, {\"name\": \"\\u82cf\\u5f66\\u52cb_\\u5982\\u671f\\u5b8c\\u6210\\u9879\\u76ee\\u6570\", \"x\": [\"8-3\", \"8-4\", \"9-1\", \"9-2\", \"9-3\"], \"y\": [20.0, 21.0, 22.0, 25.0, 25.0], \"type\": \"scatter\", \"uid\": \"ee21a8d9-c202-11e8-9cc8-509a4c0f1ffc\"}, {\"name\": \"\\u82cf\\u5f66\\u52cb_\\u5ef6\\u671f\\u5b8c\\u6210\", \"x\": [\"8-3\", \"8-4\", \"9-1\", \"9-2\", \"9-3\"], \"y\": [0.0, 0.0, 0.0, 0.0, 0.0], \"type\": \"scatter\", \"uid\": \"ee21a8da-c202-11e8-96ae-509a4c0f1ffc\"}, {\"name\": \"\\u82cf\\u5f66\\u52cb_\\u5f00\\u53d1\\u4e2d\\u7684\\u9879\\u76ee\\u6570\", \"x\": [\"8-3\", \"8-4\", \"9-1\", \"9-2\", \"9-3\"], \"y\": [5.0, 4.0, 3.0, 0.0, 0.0], \"type\": \"scatter\", \"uid\": \"ee21a8db-c202-11e8-a988-509a4c0f1ffc\"}, {\"name\": \"\\u82cf\\u5f66\\u52cb_\\u5ef6\\u671f\\u9879\\u76ee\\u6570\", \"x\": [\"8-3\", \"8-4\", \"9-1\", \"9-2\", \"9-3\"], \"y\": [0.0, 0.0, 0.0, 0.0, 0.0], \"type\": \"scatter\", \"uid\": \"ee21a8dc-c202-11e8-8eae-509a4c0f1ffc\"}, {\"name\": \"\\u82cf\\u5f66\\u52cb_\\u6682\\u505c\\u9879\\u76ee\\u6570\", \"x\": [\"8-3\", \"8-4\", \"9-1\", \"9-2\", \"9-3\"], \"y\": [8.0, 8.0, 8.0, 8.0, 8.0], \"type\": \"scatter\", \"uid\": \"ee21a8dd-c202-11e8-9cce-509a4c0f1ffc\"}, {\"name\": \"\\u59da\\u76df\\u6210_\\u5b63\\u5ea6\\u5f00\\u53d1\\u9879\\u76ee\\u6570\", \"x\": [\"8-3\", \"8-4\", \"9-1\", \"9-2\", \"9-3\"], \"y\": [9.0, 9.0, 9.0, 9.0, 9.0], \"type\": \"scatter\", \"uid\": \"ee21a8de-c202-11e8-8d83-509a4c0f1ffc\"}, {\"name\": \"\\u59da\\u76df\\u6210_\\u5982\\u671f\\u5b8c\\u6210\\u9879\\u76ee\\u6570\", \"x\": [\"8-3\", \"8-4\", \"9-1\", \"9-2\", \"9-3\"], \"y\": [3.0, 3.0, 3.0, 3.0, 3.0], \"type\": \"scatter\", \"uid\": \"ee21a8df-c202-11e8-953b-509a4c0f1ffc\"}, {\"name\": \"\\u59da\\u76df\\u6210_\\u5ef6\\u671f\\u5b8c\\u6210\", \"x\": [\"8-3\", \"8-4\", \"9-1\", \"9-2\", \"9-3\"], \"y\": [0.0, 0.0, 0.0, 0.0, 0.0], \"type\": \"scatter\", \"uid\": \"ee21a8e0-c202-11e8-887e-509a4c0f1ffc\"}, {\"name\": \"\\u59da\\u76df\\u6210_\\u5f00\\u53d1\\u4e2d\\u7684\\u9879\\u76ee\\u6570\", \"x\": [\"8-3\", \"8-4\", \"9-1\", \"9-2\", \"9-3\"], \"y\": [1.0, 2.0, 3.0, 2.0, 7.0], \"type\": \"scatter\", \"uid\": \"ee21a8e1-c202-11e8-b42a-509a4c0f1ffc\"}, {\"name\": \"\\u59da\\u76df\\u6210_\\u5ef6\\u671f\\u9879\\u76ee\\u6570\", \"x\": [\"8-3\", \"8-4\", \"9-1\", \"9-2\", \"9-3\"], \"y\": [0.0, 0.0, 0.0, 0.0, 0.0], \"type\": \"scatter\", \"uid\": \"ee21a8e2-c202-11e8-b495-509a4c0f1ffc\"}, {\"name\": \"\\u59da\\u76df\\u6210_\\u6682\\u505c\\u9879\\u76ee\\u6570\", \"x\": [\"8-3\", \"8-4\", \"9-1\", \"9-2\", \"9-3\"], \"y\": [0.0, 0.0, 0.0, 0.0, 12.0], \"type\": \"scatter\", \"uid\": \"ee21cfe2-c202-11e8-b007-509a4c0f1ffc\"}, {\"name\": \"\\u5b8b\\u8fce\\u6960_\\u5b63\\u5ea6\\u5f00\\u53d1\\u9879\\u76ee\\u6570\", \"x\": [\"8-3\", \"8-4\", \"9-1\"], \"y\": [23.0, 23.0, 23.0], \"type\": \"scatter\", \"uid\": \"ee21cfe3-c202-11e8-bf42-509a4c0f1ffc\"}, {\"name\": \"\\u5b8b\\u8fce\\u6960_\\u5982\\u671f\\u5b8c\\u6210\\u9879\\u76ee\\u6570\", \"x\": [\"8-3\", \"8-4\", \"9-1\"], \"y\": [0.0, 0.0, 0.0], \"type\": \"scatter\", \"uid\": \"ee21cfe4-c202-11e8-9fb6-509a4c0f1ffc\"}, {\"name\": \"\\u5b8b\\u8fce\\u6960_\\u5ef6\\u671f\\u5b8c\\u6210\", \"x\": [\"8-3\", \"8-4\", \"9-1\"], \"y\": [8.0, 9.0, 10.0], \"type\": \"scatter\", \"uid\": \"ee21cfe5-c202-11e8-b8d6-509a4c0f1ffc\"}, {\"name\": \"\\u5b8b\\u8fce\\u6960_\\u5f00\\u53d1\\u4e2d\\u7684\\u9879\\u76ee\\u6570\", \"x\": [\"8-3\", \"8-4\", \"9-1\"], \"y\": [14.0, 13.0, 7.0], \"type\": \"scatter\", \"uid\": \"ee21cfe6-c202-11e8-856e-509a4c0f1ffc\"}, {\"name\": \"\\u5b8b\\u8fce\\u6960_\\u5ef6\\u671f\\u9879\\u76ee\\u6570\", \"x\": [\"8-3\", \"8-4\", \"9-1\"], \"y\": [1.0, 1.0, 6.0], \"type\": \"scatter\", \"uid\": \"ee21cfe7-c202-11e8-b1d1-509a4c0f1ffc\"}, {\"name\": \"\\u5b8b\\u8fce\\u6960_\\u6682\\u505c\\u9879\\u76ee\\u6570\", \"x\": [\"8-3\", \"8-4\", \"9-1\"], \"y\": [0.0, 0.0, 0.0], \"type\": \"scatter\", \"uid\": \"ee21cfe8-c202-11e8-b769-509a4c0f1ffc\"}, {\"name\": \"\\u6768\\u4f1f\\u98de_\\u5b63\\u5ea6\\u5f00\\u53d1\\u9879\\u76ee\\u6570\", \"x\": [\"8-3\", \"8-4\", \"9-1\", \"9-2\", \"9-3\"], \"y\": [8.0, 8.0, 8.0, 8.0, 8.0], \"type\": \"scatter\", \"uid\": \"ee21cfe9-c202-11e8-9153-509a4c0f1ffc\"}, {\"name\": \"\\u6768\\u4f1f\\u98de_\\u5982\\u671f\\u5b8c\\u6210\\u9879\\u76ee\\u6570\", \"x\": [\"8-3\", \"8-4\", \"9-1\", \"9-2\", \"9-3\"], \"y\": [2.0, 2.0, 4.0, 4.0, 4.0], \"type\": \"scatter\", \"uid\": \"ee21cfea-c202-11e8-b485-509a4c0f1ffc\"}, {\"name\": \"\\u6768\\u4f1f\\u98de_\\u5ef6\\u671f\\u5b8c\\u6210\", \"x\": [\"8-3\", \"8-4\", \"9-1\", \"9-2\", \"9-3\"], \"y\": [1.0, 2.0, 2.0, 2.0, 2.0], \"type\": \"scatter\", \"uid\": \"ee21cfeb-c202-11e8-a514-509a4c0f1ffc\"}, {\"name\": \"\\u6768\\u4f1f\\u98de_\\u5f00\\u53d1\\u4e2d\\u7684\\u9879\\u76ee\\u6570\", \"x\": [\"8-3\", \"8-4\", \"9-1\", \"9-2\", \"9-3\"], \"y\": [5.0, 4.0, 2.0, 2.0, 2.0], \"type\": \"scatter\", \"uid\": \"ee21cfec-c202-11e8-854c-509a4c0f1ffc\"}, {\"name\": \"\\u6768\\u4f1f\\u98de_\\u5ef6\\u671f\\u9879\\u76ee\\u6570\", \"x\": [\"8-3\", \"8-4\", \"9-1\", \"9-2\", \"9-3\"], \"y\": [0.0, 0.0, 0.0, 0.0, 0.0], \"type\": \"scatter\", \"uid\": \"ee21cfed-c202-11e8-9dac-509a4c0f1ffc\"}, {\"name\": \"\\u6768\\u4f1f\\u98de_\\u6682\\u505c\\u9879\\u76ee\\u6570\", \"x\": [\"8-3\", \"8-4\", \"9-1\", \"9-2\", \"9-3\"], \"y\": [0.0, 0.0, 0.0, 0.0, 0.0], \"type\": \"scatter\", \"uid\": \"ee21cfee-c202-11e8-b3f7-509a4c0f1ffc\"}, {\"name\": \"\\u97e9\\u5c11\\u6000_\\u5b63\\u5ea6\\u5f00\\u53d1\\u9879\\u76ee\\u6570\", \"x\": [\"8-3\", \"8-4\", \"9-1\", \"9-2\"], \"y\": [7.0, 7.0, 7.0, 6.0], \"type\": \"scatter\", \"uid\": \"ee21cfef-c202-11e8-ab03-509a4c0f1ffc\"}, {\"name\": \"\\u97e9\\u5c11\\u6000_\\u5982\\u671f\\u5b8c\\u6210\\u9879\\u76ee\\u6570\", \"x\": [\"8-3\", \"8-4\", \"9-1\", \"9-2\"], \"y\": [5.0, 5.0, 6.0, 5.0], \"type\": \"scatter\", \"uid\": \"ee21cff0-c202-11e8-99b0-509a4c0f1ffc\"}, {\"name\": \"\\u97e9\\u5c11\\u6000_\\u5ef6\\u671f\\u5b8c\\u6210\", \"x\": [\"8-3\", \"8-4\", \"9-1\", \"9-2\"], \"y\": [0.0, 0.0, 0.0, 0.0], \"type\": \"scatter\", \"uid\": \"ee21cff1-c202-11e8-8c78-509a4c0f1ffc\"}, {\"name\": \"\\u97e9\\u5c11\\u6000_\\u5f00\\u53d1\\u4e2d\\u7684\\u9879\\u76ee\\u6570\", \"x\": [\"8-3\", \"8-4\", \"9-1\", \"9-2\"], \"y\": [1.0, 2.0, 1.0, 1.0], \"type\": \"scatter\", \"uid\": \"ee21cff2-c202-11e8-9ba5-509a4c0f1ffc\"}, {\"name\": \"\\u97e9\\u5c11\\u6000_\\u5ef6\\u671f\\u9879\\u76ee\\u6570\", \"x\": [\"8-3\", \"8-4\", \"9-1\", \"9-2\"], \"y\": [0.0, 0.0, 0.0, 0.0], \"type\": \"scatter\", \"uid\": \"ee21cff3-c202-11e8-97e8-509a4c0f1ffc\"}, {\"name\": \"\\u97e9\\u5c11\\u6000_\\u6682\\u505c\\u9879\\u76ee\\u6570\", \"x\": [\"8-3\", \"8-4\", \"9-1\", \"9-2\"], \"y\": [0.0, 0.0, 0.0, 0.0], \"type\": \"scatter\", \"uid\": \"ee21cff4-c202-11e8-b0c4-509a4c0f1ffc\"}, {\"name\": \"\\u4e8e\\u52c7\\u4e00_\\u5b63\\u5ea6\\u5f00\\u53d1\\u9879\\u76ee\\u6570\", \"x\": [\"8-3\", \"8-4\", \"9-1\", \"9-2\", \"9-3\"], \"y\": [0.0, 0.0, 0.0, 0.0, 0.0], \"type\": \"scatter\", \"uid\": \"ee21cff5-c202-11e8-aa55-509a4c0f1ffc\"}, {\"name\": \"\\u4e8e\\u52c7\\u4e00_\\u5982\\u671f\\u5b8c\\u6210\\u9879\\u76ee\\u6570\", \"x\": [\"8-3\", \"8-4\", \"9-1\", \"9-2\", \"9-3\"], \"y\": [0.0, 0.0, 0.0, 0.0, 0.0], \"type\": \"scatter\", \"uid\": \"ee21cff6-c202-11e8-ae19-509a4c0f1ffc\"}, {\"name\": \"\\u4e8e\\u52c7\\u4e00_\\u5ef6\\u671f\\u5b8c\\u6210\", \"x\": [\"8-3\", \"8-4\", \"9-1\", \"9-2\", \"9-3\"], \"y\": [0.0, 0.0, 0.0, 0.0, 0.0], \"type\": \"scatter\", \"uid\": \"ee21cff7-c202-11e8-bf31-509a4c0f1ffc\"}, {\"name\": \"\\u4e8e\\u52c7\\u4e00_\\u5f00\\u53d1\\u4e2d\\u7684\\u9879\\u76ee\\u6570\", \"x\": [\"8-3\", \"8-4\", \"9-1\", \"9-2\", \"9-3\"], \"y\": [0.0, 0.0, 0.0, 0.0, 0.0], \"type\": \"scatter\", \"uid\": \"ee21cff8-c202-11e8-9789-509a4c0f1ffc\"}, {\"name\": \"\\u4e8e\\u52c7\\u4e00_\\u5ef6\\u671f\\u9879\\u76ee\\u6570\", \"x\": [\"8-3\", \"8-4\", \"9-1\", \"9-2\", \"9-3\"], \"y\": [0.0, 0.0, 0.0, 0.0, 0.0], \"type\": \"scatter\", \"uid\": \"ee21cff9-c202-11e8-a671-509a4c0f1ffc\"}, {\"name\": \"\\u4e8e\\u52c7\\u4e00_\\u6682\\u505c\\u9879\\u76ee\\u6570\", \"x\": [\"8-3\", \"8-4\", \"9-1\", \"9-2\", \"9-3\"], \"y\": [0.0, 0.0, 0.0, 0.0, 0.0], \"type\": \"scatter\", \"uid\": \"ee21cffa-c202-11e8-82e6-509a4c0f1ffc\"}, {\"name\": \"\\u674e\\u534e\\u4e91_\\u5b63\\u5ea6\\u5f00\\u53d1\\u9879\\u76ee\\u6570\", \"x\": [\"8-3\", \"8-4\", \"9-1\", \"9-2\", \"9-3\"], \"y\": [35.0, 35.0, 35.0, 35.0, 47.0], \"type\": \"scatter\", \"uid\": \"ee21cffb-c202-11e8-ae35-509a4c0f1ffc\"}, {\"name\": \"\\u674e\\u534e\\u4e91_\\u5982\\u671f\\u5b8c\\u6210\\u9879\\u76ee\\u6570\", \"x\": [\"8-3\", \"8-4\", \"9-1\", \"9-2\", \"9-3\"], \"y\": [5.0, 5.0, 5.0, 5.0, 22.0], \"type\": \"scatter\", \"uid\": \"ee21cffc-c202-11e8-9009-509a4c0f1ffc\"}, {\"name\": \"\\u674e\\u534e\\u4e91_\\u5ef6\\u671f\\u5b8c\\u6210\", \"x\": [\"8-3\", \"8-4\", \"9-1\", \"9-2\", \"9-3\"], \"y\": [0.0, 0.0, 1.0, 3.0, 13.0], \"type\": \"scatter\", \"uid\": \"ee21cffd-c202-11e8-8586-509a4c0f1ffc\"}, {\"name\": \"\\u674e\\u534e\\u4e91_\\u5f00\\u53d1\\u4e2d\\u7684\\u9879\\u76ee\\u6570\", \"x\": [\"8-3\", \"8-4\", \"9-1\", \"9-2\", \"9-3\"], \"y\": [24.0, 24.0, 20.0, 18.0, 3.0], \"type\": \"scatter\", \"uid\": \"ee21cffe-c202-11e8-ba08-509a4c0f1ffc\"}, {\"name\": \"\\u674e\\u534e\\u4e91_\\u5ef6\\u671f\\u9879\\u76ee\\u6570\", \"x\": [\"8-3\", \"8-4\", \"9-1\", \"9-2\", \"9-3\"], \"y\": [6.0, 6.0, 9.0, 9.0, 6.0], \"type\": \"scatter\", \"uid\": \"ee21cfff-c202-11e8-b89f-509a4c0f1ffc\"}, {\"name\": \"\\u674e\\u534e\\u4e91_\\u6682\\u505c\\u9879\\u76ee\\u6570\", \"x\": [\"8-3\", \"8-4\", \"9-1\", \"9-2\", \"9-3\"], \"y\": [0.0, 0.0, 0.0, 0.0, 3.0], \"type\": \"scatter\", \"uid\": \"ee21d000-c202-11e8-a258-509a4c0f1ffc\"}, {\"name\": \"\\u5218\\u6167\\u73b2_\\u5b63\\u5ea6\\u5f00\\u53d1\\u9879\\u76ee\\u6570\", \"x\": [\"8-3\", \"8-4\", \"9-1\"], \"y\": [8.0, 8.0, 9.0], \"type\": \"scatter\", \"uid\": \"ee21d001-c202-11e8-a997-509a4c0f1ffc\"}, {\"name\": \"\\u5218\\u6167\\u73b2_\\u5982\\u671f\\u5b8c\\u6210\\u9879\\u76ee\\u6570\", \"x\": [\"8-3\", \"8-4\", \"9-1\"], \"y\": [3.0, 3.0, 3.0], \"type\": \"scatter\", \"uid\": \"ee21d002-c202-11e8-96ef-509a4c0f1ffc\"}, {\"name\": \"\\u5218\\u6167\\u73b2_\\u5ef6\\u671f\\u5b8c\\u6210\", \"x\": [\"8-3\", \"8-4\", \"9-1\"], \"y\": [1.0, 1.0, 1.0], \"type\": \"scatter\", \"uid\": \"ee21d003-c202-11e8-8f6e-509a4c0f1ffc\"}, {\"name\": \"\\u5218\\u6167\\u73b2_\\u5f00\\u53d1\\u4e2d\\u7684\\u9879\\u76ee\\u6570\", \"x\": [\"8-3\", \"8-4\", \"9-1\"], \"y\": [2.0, 2.0, 1.0], \"type\": \"scatter\", \"uid\": \"ee21d004-c202-11e8-a75c-509a4c0f1ffc\"}, {\"name\": \"\\u5218\\u6167\\u73b2_\\u5ef6\\u671f\\u9879\\u76ee\\u6570\", \"x\": [\"8-3\", \"8-4\", \"9-1\"], \"y\": [0.0, 0.0, 0.0], \"type\": \"scatter\", \"uid\": \"ee21d005-c202-11e8-b218-509a4c0f1ffc\"}, {\"name\": \"\\u5218\\u6167\\u73b2_\\u6682\\u505c\\u9879\\u76ee\\u6570\", \"x\": [\"8-3\", \"8-4\", \"9-1\"], \"y\": [2.0, 2.0, 4.0], \"type\": \"scatter\", \"uid\": \"ee21d006-c202-11e8-b9e7-509a4c0f1ffc\"}, {\"name\": \"\\u5b5f\\u660a_\\u5b63\\u5ea6\\u5f00\\u53d1\\u9879\\u76ee\\u6570\", \"x\": [\"8-3\", \"8-4\", \"9-1\", \"9-2\", \"9-3\"], \"y\": [43.0, 43.0, 43.0, 43.0, 43.0], \"type\": \"scatter\", \"uid\": \"ee21d007-c202-11e8-bd8b-509a4c0f1ffc\"}, {\"name\": \"\\u5b5f\\u660a_\\u5982\\u671f\\u5b8c\\u6210\\u9879\\u76ee\\u6570\", \"x\": [\"8-3\", \"8-4\", \"9-1\", \"9-2\", \"9-3\"], \"y\": [38.0, 38.0, 38.0, 39.0, 39.0], \"type\": \"scatter\", \"uid\": \"ee21d008-c202-11e8-9d75-509a4c0f1ffc\"}, {\"name\": \"\\u5b5f\\u660a_\\u5ef6\\u671f\\u5b8c\\u6210\", \"x\": [\"8-3\", \"8-4\", \"9-1\", \"9-2\", \"9-3\"], \"y\": [0.0, 0.0, 0.0, 0.0, 0.0], \"type\": \"scatter\", \"uid\": \"ee21d009-c202-11e8-8c3a-509a4c0f1ffc\"}, {\"name\": \"\\u5b5f\\u660a_\\u5f00\\u53d1\\u4e2d\\u7684\\u9879\\u76ee\\u6570\", \"x\": [\"8-3\", \"8-4\", \"9-1\", \"9-2\", \"9-3\"], \"y\": [2.0, 2.0, 2.0, 2.0, 2.0], \"type\": \"scatter\", \"uid\": \"ee21d00a-c202-11e8-be1a-509a4c0f1ffc\"}, {\"name\": \"\\u5b5f\\u660a_\\u5ef6\\u671f\\u9879\\u76ee\\u6570\", \"x\": [\"8-3\", \"8-4\", \"9-1\", \"9-2\", \"9-3\"], \"y\": [0.0, 0.0, 0.0, 0.0, 0.0], \"type\": \"scatter\", \"uid\": \"ee21d00b-c202-11e8-9bb5-509a4c0f1ffc\"}, {\"name\": \"\\u5b5f\\u660a_\\u6682\\u505c\\u9879\\u76ee\\u6570\", \"x\": [\"8-3\", \"8-4\", \"9-1\", \"9-2\", \"9-3\"], \"y\": [3.0, 3.0, 3.0, 3.0, 3.0], \"type\": \"scatter\", \"uid\": \"ee21d00c-c202-11e8-b555-509a4c0f1ffc\"}, {\"name\": \"\\u4e8e\\u6167_\\u5b63\\u5ea6\\u5f00\\u53d1\\u9879\\u76ee\\u6570\", \"x\": [\"8-3\", \"8-4\", \"9-1\", \"9-2\", \"9-3\"], \"y\": [36.0, 36.0, 36.0, 37.0, 37.0], \"type\": \"scatter\", \"uid\": \"ee21d00d-c202-11e8-99ab-509a4c0f1ffc\"}, {\"name\": \"\\u4e8e\\u6167_\\u5982\\u671f\\u5b8c\\u6210\\u9879\\u76ee\\u6570\", \"x\": [\"8-3\", \"8-4\", \"9-1\", \"9-2\", \"9-3\"], \"y\": [32.0, 33.0, 34.0, 35.0, 35.0], \"type\": \"scatter\", \"uid\": \"ee21d00e-c202-11e8-8cd7-509a4c0f1ffc\"}, {\"name\": \"\\u4e8e\\u6167_\\u5ef6\\u671f\\u5b8c\\u6210\", \"x\": [\"8-3\", \"8-4\", \"9-1\", \"9-2\", \"9-3\"], \"y\": [0.0, 0.0, 0.0, 0.0, 0.0], \"type\": \"scatter\", \"uid\": \"ee21d00f-c202-11e8-a44a-509a4c0f1ffc\"}, {\"name\": \"\\u4e8e\\u6167_\\u5f00\\u53d1\\u4e2d\\u7684\\u9879\\u76ee\\u6570\", \"x\": [\"8-3\", \"8-4\", \"9-1\", \"9-2\", \"9-3\"], \"y\": [4.0, 3.0, 2.0, 2.0, 2.0], \"type\": \"scatter\", \"uid\": \"ee21d010-c202-11e8-8a5e-509a4c0f1ffc\"}, {\"name\": \"\\u4e8e\\u6167_\\u5ef6\\u671f\\u9879\\u76ee\\u6570\", \"x\": [\"8-3\", \"8-4\", \"9-1\", \"9-2\", \"9-3\"], \"y\": [0.0, 0.0, 0.0, 0.0, 0.0], \"type\": \"scatter\", \"uid\": \"ee21d011-c202-11e8-b915-509a4c0f1ffc\"}, {\"name\": \"\\u4e8e\\u6167_\\u6682\\u505c\\u9879\\u76ee\\u6570\", \"x\": [\"8-3\", \"8-4\", \"9-1\", \"9-2\", \"9-3\"], \"y\": [0.0, 0.0, 0.0, 0.0, 0.0], \"type\": \"scatter\", \"uid\": \"ee21d012-c202-11e8-81a2-509a4c0f1ffc\"}, {\"name\": \"\\u8d75\\u73a5_\\u5b63\\u5ea6\\u5f00\\u53d1\\u9879\\u76ee\\u6570\", \"x\": [\"8-3\", \"8-4\", \"9-1\", \"9-2\"], \"y\": [21.0, 22.0, 21.0, 22.0], \"type\": \"scatter\", \"uid\": \"ee21d013-c202-11e8-80e8-509a4c0f1ffc\"}, {\"name\": \"\\u8d75\\u73a5_\\u5982\\u671f\\u5b8c\\u6210\\u9879\\u76ee\\u6570\", \"x\": [\"8-3\", \"8-4\", \"9-1\", \"9-2\"], \"y\": [20.0, 21.0, 20.0, 21.0], \"type\": \"scatter\", \"uid\": \"ee21d014-c202-11e8-a2dd-509a4c0f1ffc\"}, {\"name\": \"\\u8d75\\u73a5_\\u5ef6\\u671f\\u5b8c\\u6210\", \"x\": [\"8-3\", \"8-4\", \"9-1\", \"9-2\"], \"y\": [1.0, 1.0, 1.0, 1.0], \"type\": \"scatter\", \"uid\": \"ee21d015-c202-11e8-8db6-509a4c0f1ffc\"}, {\"name\": \"\\u8d75\\u73a5_\\u5f00\\u53d1\\u4e2d\\u7684\\u9879\\u76ee\\u6570\", \"x\": [\"8-3\", \"8-4\", \"9-1\", \"9-2\"], \"y\": [0.0, 2.0, 3.0, 1.0], \"type\": \"scatter\", \"uid\": \"ee21d016-c202-11e8-8e63-509a4c0f1ffc\"}, {\"name\": \"\\u8d75\\u73a5_\\u5ef6\\u671f\\u9879\\u76ee\\u6570\", \"x\": [\"8-3\", \"8-4\", \"9-1\", \"9-2\"], \"y\": [0.0, 0.0, 1.0, 1.0], \"type\": \"scatter\", \"uid\": \"ee21f6f4-c202-11e8-b4ba-509a4c0f1ffc\"}, {\"name\": \"\\u8d75\\u73a5_\\u6682\\u505c\\u9879\\u76ee\\u6570\", \"x\": [\"8-3\", \"8-4\", \"9-1\", \"9-2\"], \"y\": [0.0, 0.0, 1.0, 1.0], \"type\": \"scatter\", \"uid\": \"ee21f6f5-c202-11e8-8818-509a4c0f1ffc\"}, {\"name\": \"\\u5c01\\u5f66\\u6770_\\u5b63\\u5ea6\\u5f00\\u53d1\\u9879\\u76ee\\u6570\", \"x\": [\"8-3\", \"8-4\", \"9-1\", \"9-2\", \"9-3\"], \"y\": [5.0, 5.0, 5.0, 5.0, 5.0], \"type\": \"scatter\", \"uid\": \"ee21f6f6-c202-11e8-9077-509a4c0f1ffc\"}, {\"name\": \"\\u5c01\\u5f66\\u6770_\\u5982\\u671f\\u5b8c\\u6210\\u9879\\u76ee\\u6570\", \"x\": [\"8-3\", \"8-4\", \"9-1\", \"9-2\", \"9-3\"], \"y\": [0.0, 0.0, 2.0, 2.0, 2.0], \"type\": \"scatter\", \"uid\": \"ee21f6f7-c202-11e8-a6c7-509a4c0f1ffc\"}, {\"name\": \"\\u5c01\\u5f66\\u6770_\\u5ef6\\u671f\\u5b8c\\u6210\", \"x\": [\"8-3\", \"8-4\", \"9-1\", \"9-2\", \"9-3\"], \"y\": [0.0, 0.0, 0.0, 0.0, 0.0], \"type\": \"scatter\", \"uid\": \"ee21f6f8-c202-11e8-a0e8-509a4c0f1ffc\"}, {\"name\": \"\\u5c01\\u5f66\\u6770_\\u5f00\\u53d1\\u4e2d\\u7684\\u9879\\u76ee\\u6570\", \"x\": [\"8-3\", \"8-4\", \"9-1\", \"9-2\", \"9-3\"], \"y\": [4.0, 4.0, 2.0, 2.0, 3.0], \"type\": \"scatter\", \"uid\": \"ee21f6f9-c202-11e8-82f4-509a4c0f1ffc\"}, {\"name\": \"\\u5c01\\u5f66\\u6770_\\u5ef6\\u671f\\u9879\\u76ee\\u6570\", \"x\": [\"8-3\", \"8-4\", \"9-1\", \"9-2\", \"9-3\"], \"y\": [0.0, 0.0, 0.0, 0.0, 0.0], \"type\": \"scatter\", \"uid\": \"ee21f6fa-c202-11e8-9705-509a4c0f1ffc\"}, {\"name\": \"\\u5c01\\u5f66\\u6770_\\u6682\\u505c\\u9879\\u76ee\\u6570\", \"x\": [\"8-3\", \"8-4\", \"9-1\", \"9-2\", \"9-3\"], \"y\": [1.0, 1.0, 1.0, 1.0, 0.0], \"type\": \"scatter\", \"uid\": \"ee21f6fb-c202-11e8-a07b-509a4c0f1ffc\"}, {\"name\": \"\\u8c22\\u5fb7\\u5065_\\u5b63\\u5ea6\\u5f00\\u53d1\\u9879\\u76ee\\u6570\", \"x\": [\"8-3\", \"8-4\", \"9-2\", \"9-3\"], \"y\": [0.0, 0.0, 6.0, 6.0], \"type\": \"scatter\", \"uid\": \"ee21f6fc-c202-11e8-95bf-509a4c0f1ffc\"}, {\"name\": \"\\u8c22\\u5fb7\\u5065_\\u5982\\u671f\\u5b8c\\u6210\\u9879\\u76ee\\u6570\", \"x\": [\"8-3\", \"8-4\", \"9-2\", \"9-3\"], \"y\": [0.0, 0.0, 6.0, 6.0], \"type\": \"scatter\", \"uid\": \"ee21f6fd-c202-11e8-b06a-509a4c0f1ffc\"}, {\"name\": \"\\u8c22\\u5fb7\\u5065_\\u5ef6\\u671f\\u5b8c\\u6210\", \"x\": [\"8-3\", \"8-4\", \"9-2\", \"9-3\"], \"y\": [0.0, 0.0, 0.0, 0.0], \"type\": \"scatter\", \"uid\": \"ee21f6fe-c202-11e8-a1a9-509a4c0f1ffc\"}, {\"name\": \"\\u8c22\\u5fb7\\u5065_\\u5f00\\u53d1\\u4e2d\\u7684\\u9879\\u76ee\\u6570\", \"x\": [\"8-3\", \"8-4\", \"9-2\", \"9-3\"], \"y\": [0.0, 0.0, 0.0, 0.0], \"type\": \"scatter\", \"uid\": \"ee21f6ff-c202-11e8-9dcd-509a4c0f1ffc\"}, {\"name\": \"\\u8c22\\u5fb7\\u5065_\\u5ef6\\u671f\\u9879\\u76ee\\u6570\", \"x\": [\"8-3\", \"8-4\", \"9-2\", \"9-3\"], \"y\": [0.0, 0.0, 0.0, 0.0], \"type\": \"scatter\", \"uid\": \"ee21f700-c202-11e8-97b2-509a4c0f1ffc\"}, {\"name\": \"\\u8c22\\u5fb7\\u5065_\\u6682\\u505c\\u9879\\u76ee\\u6570\", \"x\": [\"8-3\", \"8-4\", \"9-2\", \"9-3\"], \"y\": [0.0, 0.0, 0.0, 0.0], \"type\": \"scatter\", \"uid\": \"ee21f701-c202-11e8-b996-509a4c0f1ffc\"}, {\"name\": \"\\u5468\\u6768_\\u5b63\\u5ea6\\u5f00\\u53d1\\u9879\\u76ee\\u6570\", \"x\": [\"8-3\", \"8-4\", \"9-1\", \"9-2\", \"9-3\"], \"y\": [32.0, 32.0, 32.0, 32.0, 32.0], \"type\": \"scatter\", \"uid\": \"ee21f702-c202-11e8-b1f8-509a4c0f1ffc\"}, {\"name\": \"\\u5468\\u6768_\\u5982\\u671f\\u5b8c\\u6210\\u9879\\u76ee\\u6570\", \"x\": [\"8-3\", \"8-4\", \"9-1\", \"9-2\", \"9-3\"], \"y\": [28.0, 28.0, 28.0, 29.0, 32.0], \"type\": \"scatter\", \"uid\": \"ee21f703-c202-11e8-8ce6-509a4c0f1ffc\"}, {\"name\": \"\\u5468\\u6768_\\u5ef6\\u671f\\u5b8c\\u6210\", \"x\": [\"8-3\", \"8-4\", \"9-1\", \"9-2\", \"9-3\"], \"y\": [0.0, 0.0, 0.0, 0.0, 0.0], \"type\": \"scatter\", \"uid\": \"ee21f704-c202-11e8-bbea-509a4c0f1ffc\"}, {\"name\": \"\\u5468\\u6768_\\u5f00\\u53d1\\u4e2d\\u7684\\u9879\\u76ee\\u6570\", \"x\": [\"8-3\", \"8-4\", \"9-1\", \"9-2\", \"9-3\"], \"y\": [3.0, 3.0, 3.0, 2.0, 0.0], \"type\": \"scatter\", \"uid\": \"ee21f705-c202-11e8-b2cc-509a4c0f1ffc\"}, {\"name\": \"\\u5468\\u6768_\\u5ef6\\u671f\\u9879\\u76ee\\u6570\", \"x\": [\"8-3\", \"8-4\", \"9-1\", \"9-2\", \"9-3\"], \"y\": [0.0, 0.0, 0.0, 0.0, 0.0], \"type\": \"scatter\", \"uid\": \"ee21f706-c202-11e8-8a09-509a4c0f1ffc\"}, {\"name\": \"\\u5468\\u6768_\\u6682\\u505c\\u9879\\u76ee\\u6570\", \"x\": [\"8-3\", \"8-4\", \"9-1\", \"9-2\", \"9-3\"], \"y\": [1.0, 1.0, 1.0, 1.0, 1.0], \"type\": \"scatter\", \"uid\": \"ee21f707-c202-11e8-a863-509a4c0f1ffc\"}, {\"name\": \"\\u5f20\\u5b88\\u4f1f_\\u5b63\\u5ea6\\u5f00\\u53d1\\u9879\\u76ee\\u6570\", \"x\": [\"8-3\", \"8-4\", \"9-1\", \"9-2\"], \"y\": [13.0, 16.0, 18.0, 20.0], \"type\": \"scatter\", \"uid\": \"ee21f708-c202-11e8-bbbc-509a4c0f1ffc\"}, {\"name\": \"\\u5f20\\u5b88\\u4f1f_\\u5982\\u671f\\u5b8c\\u6210\\u9879\\u76ee\\u6570\", \"x\": [\"8-3\", \"8-4\", \"9-1\", \"9-2\"], \"y\": [13.0, 16.0, 18.0, 20.0], \"type\": \"scatter\", \"uid\": \"ee21f709-c202-11e8-85fc-509a4c0f1ffc\"}, {\"name\": \"\\u5f20\\u5b88\\u4f1f_\\u5ef6\\u671f\\u5b8c\\u6210\", \"x\": [\"8-3\", \"8-4\", \"9-1\", \"9-2\"], \"y\": [0.0, 0.0, 0.0, 0.0], \"type\": \"scatter\", \"uid\": \"ee21f70a-c202-11e8-a570-509a4c0f1ffc\"}, {\"name\": \"\\u5f20\\u5b88\\u4f1f_\\u5f00\\u53d1\\u4e2d\\u7684\\u9879\\u76ee\\u6570\", \"x\": [\"8-3\", \"8-4\", \"9-1\", \"9-2\"], \"y\": [2.0, 2.0, 2.0, 2.0], \"type\": \"scatter\", \"uid\": \"ee21f70b-c202-11e8-8931-509a4c0f1ffc\"}, {\"name\": \"\\u5f20\\u5b88\\u4f1f_\\u5ef6\\u671f\\u9879\\u76ee\\u6570\", \"x\": [\"8-3\", \"8-4\", \"9-1\", \"9-2\"], \"y\": [0.0, 0.0, 0.0, 0.0], \"type\": \"scatter\", \"uid\": \"ee21f70c-c202-11e8-a564-509a4c0f1ffc\"}, {\"name\": \"\\u5f20\\u5b88\\u4f1f_\\u6682\\u505c\\u9879\\u76ee\\u6570\", \"x\": [\"8-3\", \"8-4\", \"9-1\", \"9-2\"], \"y\": [0.0, 0.0, 0.0, 0.0], \"type\": \"scatter\", \"uid\": \"ee21f70d-c202-11e8-a853-509a4c0f1ffc\"}, {\"name\": \"\\u8def\\u6167\\u840d_\\u5b63\\u5ea6\\u5f00\\u53d1\\u9879\\u76ee\\u6570\", \"x\": [\"8-3\", \"8-4\", \"9-1\", \"9-2\", \"9-3\"], \"y\": [0.0, 0.0, 0.0, 0.0, 0.0], \"type\": \"scatter\", \"uid\": \"ee21f70e-c202-11e8-a49f-509a4c0f1ffc\"}, {\"name\": \"\\u8def\\u6167\\u840d_\\u5982\\u671f\\u5b8c\\u6210\\u9879\\u76ee\\u6570\", \"x\": [\"8-3\", \"8-4\", \"9-1\", \"9-2\", \"9-3\"], \"y\": [0.0, 0.0, 0.0, 0.0, 0.0], \"type\": \"scatter\", \"uid\": \"ee21f70f-c202-11e8-8ddb-509a4c0f1ffc\"}, {\"name\": \"\\u8def\\u6167\\u840d_\\u5ef6\\u671f\\u5b8c\\u6210\", \"x\": [\"8-3\", \"8-4\", \"9-1\", \"9-2\", \"9-3\"], \"y\": [0.0, 0.0, 0.0, 0.0, 0.0], \"type\": \"scatter\", \"uid\": \"ee21f710-c202-11e8-835d-509a4c0f1ffc\"}, {\"name\": \"\\u8def\\u6167\\u840d_\\u5f00\\u53d1\\u4e2d\\u7684\\u9879\\u76ee\\u6570\", \"x\": [\"8-3\", \"8-4\", \"9-1\", \"9-2\", \"9-3\"], \"y\": [0.0, 0.0, 0.0, 0.0, 0.0], \"type\": \"scatter\", \"uid\": \"ee21f711-c202-11e8-bbc8-509a4c0f1ffc\"}, {\"name\": \"\\u8def\\u6167\\u840d_\\u5ef6\\u671f\\u9879\\u76ee\\u6570\", \"x\": [\"8-3\", \"8-4\", \"9-1\", \"9-2\", \"9-3\"], \"y\": [0.0, 0.0, 0.0, 0.0, 0.0], \"type\": \"scatter\", \"uid\": \"ee21f712-c202-11e8-bf1d-509a4c0f1ffc\"}, {\"name\": \"\\u8def\\u6167\\u840d_\\u6682\\u505c\\u9879\\u76ee\\u6570\", \"x\": [\"8-3\", \"8-4\", \"9-1\", \"9-2\", \"9-3\"], \"y\": [0.0, 0.0, 0.0, 0.0, 2.0], \"type\": \"scatter\", \"uid\": \"ee21f713-c202-11e8-a47a-509a4c0f1ffc\"}, {\"name\": \"\\u5360\\u4f1f_\\u5b63\\u5ea6\\u5f00\\u53d1\\u9879\\u76ee\\u6570\", \"x\": [\"8-3\", \"8-4\", \"9-1\", \"9-2\"], \"y\": [19.0, 18.0, 18.0, 18.0], \"type\": \"scatter\", \"uid\": \"ee21f714-c202-11e8-8d4f-509a4c0f1ffc\"}, {\"name\": \"\\u5360\\u4f1f_\\u5982\\u671f\\u5b8c\\u6210\\u9879\\u76ee\\u6570\", \"x\": [\"8-3\", \"8-4\", \"9-1\", \"9-2\"], \"y\": [12.0, 10.0, 10.0, 10.0], \"type\": \"scatter\", \"uid\": \"ee21f715-c202-11e8-b016-509a4c0f1ffc\"}, {\"name\": \"\\u5360\\u4f1f_\\u5ef6\\u671f\\u5b8c\\u6210\", \"x\": [\"8-3\", \"8-4\", \"9-1\", \"9-2\"], \"y\": [2.0, 1.0, 1.0, 1.0], \"type\": \"scatter\", \"uid\": \"ee21f716-c202-11e8-93ca-509a4c0f1ffc\"}, {\"name\": \"\\u5360\\u4f1f_\\u5f00\\u53d1\\u4e2d\\u7684\\u9879\\u76ee\\u6570\", \"x\": [\"8-3\", \"8-4\", \"9-1\", \"9-2\"], \"y\": [2.0, 5.0, 5.0, 5.0], \"type\": \"scatter\", \"uid\": \"ee21f717-c202-11e8-bd56-509a4c0f1ffc\"}, {\"name\": \"\\u5360\\u4f1f_\\u5ef6\\u671f\\u9879\\u76ee\\u6570\", \"x\": [\"8-3\", \"8-4\", \"9-1\", \"9-2\"], \"y\": [3.0, 3.0, 3.0, 3.0], \"type\": \"scatter\", \"uid\": \"ee21f718-c202-11e8-a173-509a4c0f1ffc\"}, {\"name\": \"\\u5360\\u4f1f_\\u6682\\u505c\\u9879\\u76ee\\u6570\", \"x\": [\"8-3\", \"8-4\", \"9-1\", \"9-2\"], \"y\": [0.0, 0.0, 0.0, 0.0], \"type\": \"scatter\", \"uid\": \"ee21f719-c202-11e8-a77b-509a4c0f1ffc\"}, {\"name\": \"\\u738b\\u5b81_\\u5b63\\u5ea6\\u5f00\\u53d1\\u9879\\u76ee\\u6570\", \"x\": [\"8-3\", \"8-4\", \"9-1\"], \"y\": [0.0, 0.0, 0.0], \"type\": \"scatter\", \"uid\": \"ee21f71a-c202-11e8-9048-509a4c0f1ffc\"}, {\"name\": \"\\u738b\\u5b81_\\u5982\\u671f\\u5b8c\\u6210\\u9879\\u76ee\\u6570\", \"x\": [\"8-3\", \"8-4\", \"9-1\"], \"y\": [0.0, 0.0, 0.0], \"type\": \"scatter\", \"uid\": \"ee21f71b-c202-11e8-8b54-509a4c0f1ffc\"}, {\"name\": \"\\u738b\\u5b81_\\u5ef6\\u671f\\u5b8c\\u6210\", \"x\": [\"8-3\", \"8-4\", \"9-1\"], \"y\": [0.0, 0.0, 0.0], \"type\": \"scatter\", \"uid\": \"ee21f71c-c202-11e8-b8fa-509a4c0f1ffc\"}, {\"name\": \"\\u738b\\u5b81_\\u5f00\\u53d1\\u4e2d\\u7684\\u9879\\u76ee\\u6570\", \"x\": [\"8-3\", \"8-4\", \"9-1\"], \"y\": [0.0, 0.0, 0.0], \"type\": \"scatter\", \"uid\": \"ee21f71d-c202-11e8-bc37-509a4c0f1ffc\"}, {\"name\": \"\\u738b\\u5b81_\\u5ef6\\u671f\\u9879\\u76ee\\u6570\", \"x\": [\"8-3\", \"8-4\", \"9-1\"], \"y\": [0.0, 0.0, 0.0], \"type\": \"scatter\", \"uid\": \"ee21f71e-c202-11e8-860b-509a4c0f1ffc\"}, {\"name\": \"\\u738b\\u5b81_\\u6682\\u505c\\u9879\\u76ee\\u6570\", \"x\": [\"8-3\", \"8-4\", \"9-1\"], \"y\": [0.0, 0.0, 0.0], \"type\": \"scatter\", \"uid\": \"ee21f71f-c202-11e8-ae69-509a4c0f1ffc\"}, {\"name\": \"\\u674e\\u5e86\\u539f_\\u5b63\\u5ea6\\u5f00\\u53d1\\u9879\\u76ee\\u6570\", \"x\": [\"8-3\", \"8-4\", \"9-1\", \"9-2\", \"9-3\"], \"y\": [0.0, 0.0, 0.0, 0.0, 0.0], \"type\": \"scatter\", \"uid\": \"ee21f720-c202-11e8-a2bd-509a4c0f1ffc\"}, {\"name\": \"\\u674e\\u5e86\\u539f_\\u5982\\u671f\\u5b8c\\u6210\\u9879\\u76ee\\u6570\", \"x\": [\"8-3\", \"8-4\", \"9-1\", \"9-2\", \"9-3\"], \"y\": [0.0, 0.0, 0.0, 0.0, 0.0], \"type\": \"scatter\", \"uid\": \"ee21f721-c202-11e8-92ae-509a4c0f1ffc\"}, {\"name\": \"\\u674e\\u5e86\\u539f_\\u5ef6\\u671f\\u5b8c\\u6210\", \"x\": [\"8-3\", \"8-4\", \"9-1\", \"9-2\", \"9-3\"], \"y\": [0.0, 0.0, 0.0, 0.0, 0.0], \"type\": \"scatter\", \"uid\": \"ee21f722-c202-11e8-a168-509a4c0f1ffc\"}, {\"name\": \"\\u674e\\u5e86\\u539f_\\u5f00\\u53d1\\u4e2d\\u7684\\u9879\\u76ee\\u6570\", \"x\": [\"8-3\", \"8-4\", \"9-1\", \"9-2\", \"9-3\"], \"y\": [0.0, 0.0, 0.0, 0.0, 0.0], \"type\": \"scatter\", \"uid\": \"ee21f723-c202-11e8-a9c8-509a4c0f1ffc\"}, {\"name\": \"\\u674e\\u5e86\\u539f_\\u5ef6\\u671f\\u9879\\u76ee\\u6570\", \"x\": [\"8-3\", \"8-4\", \"9-1\", \"9-2\", \"9-3\"], \"y\": [0.0, 0.0, 0.0, 0.0, 0.0], \"type\": \"scatter\", \"uid\": \"ee21f724-c202-11e8-a45b-509a4c0f1ffc\"}, {\"name\": \"\\u674e\\u5e86\\u539f_\\u6682\\u505c\\u9879\\u76ee\\u6570\", \"x\": [\"8-3\", \"8-4\", \"9-1\", \"9-2\", \"9-3\"], \"y\": [0.0, 0.0, 0.0, 0.0, 0.0], \"type\": \"scatter\", \"uid\": \"ee21f725-c202-11e8-9bec-509a4c0f1ffc\"}, {\"name\": \"\\u8303\\u65ed\\u5b81_\\u5b63\\u5ea6\\u5f00\\u53d1\\u9879\\u76ee\\u6570\", \"x\": [\"8-3\", \"8-4\", \"9-1\", \"9-2\"], \"y\": [18.0, 25.0, 30.0, 7.0], \"type\": \"scatter\", \"uid\": \"ee21f726-c202-11e8-b1a5-509a4c0f1ffc\"}, {\"name\": \"\\u8303\\u65ed\\u5b81_\\u5982\\u671f\\u5b8c\\u6210\\u9879\\u76ee\\u6570\", \"x\": [\"8-3\", \"8-4\", \"9-1\", \"9-2\"], \"y\": [16.0, 23.0, 27.0, 7.0], \"type\": \"scatter\", \"uid\": \"ee21f727-c202-11e8-9d63-509a4c0f1ffc\"}, {\"name\": \"\\u8303\\u65ed\\u5b81_\\u5ef6\\u671f\\u5b8c\\u6210\", \"x\": [\"8-3\", \"8-4\", \"9-1\", \"9-2\"], \"y\": [2.0, 2.0, 3.0, 0.0], \"type\": \"scatter\", \"uid\": \"ee21f728-c202-11e8-81c0-509a4c0f1ffc\"}, {\"name\": \"\\u8303\\u65ed\\u5b81_\\u5f00\\u53d1\\u4e2d\\u7684\\u9879\\u76ee\\u6570\", \"x\": [\"8-3\", \"8-4\", \"9-1\", \"9-2\"], \"y\": [0.0, 1.0, 1.0, 0.0], \"type\": \"scatter\", \"uid\": \"ee21f729-c202-11e8-bb06-509a4c0f1ffc\"}, {\"name\": \"\\u8303\\u65ed\\u5b81_\\u5ef6\\u671f\\u9879\\u76ee\\u6570\", \"x\": [\"8-3\", \"8-4\", \"9-1\", \"9-2\"], \"y\": [0.0, 0.0, 0.0, 0.0], \"type\": \"scatter\", \"uid\": \"ee21f72a-c202-11e8-aee4-509a4c0f1ffc\"}, {\"name\": \"\\u8303\\u65ed\\u5b81_\\u6682\\u505c\\u9879\\u76ee\\u6570\", \"x\": [\"8-3\", \"8-4\", \"9-1\", \"9-2\"], \"y\": [0.0, 0.0, 0.0, 0.0], \"type\": \"scatter\", \"uid\": \"ee21f72b-c202-11e8-b321-509a4c0f1ffc\"}, {\"name\": \"\\u9a6c\\u6f47_\\u5b63\\u5ea6\\u5f00\\u53d1\\u9879\\u76ee\\u6570\", \"x\": [\"8-3\", \"8-4\", \"9-1\", \"9-2\"], \"y\": [0.0, 0.0, 0.0, 0.0], \"type\": \"scatter\", \"uid\": \"ee21f72c-c202-11e8-859d-509a4c0f1ffc\"}, {\"name\": \"\\u9a6c\\u6f47_\\u5982\\u671f\\u5b8c\\u6210\\u9879\\u76ee\\u6570\", \"x\": [\"8-3\", \"8-4\", \"9-1\", \"9-2\"], \"y\": [0.0, 0.0, 0.0, 0.0], \"type\": \"scatter\", \"uid\": \"ee221e02-c202-11e8-b3fd-509a4c0f1ffc\"}, {\"name\": \"\\u9a6c\\u6f47_\\u5ef6\\u671f\\u5b8c\\u6210\", \"x\": [\"8-3\", \"8-4\", \"9-1\", \"9-2\"], \"y\": [0.0, 0.0, 0.0, 0.0], \"type\": \"scatter\", \"uid\": \"ee221e03-c202-11e8-9ef2-509a4c0f1ffc\"}, {\"name\": \"\\u9a6c\\u6f47_\\u5f00\\u53d1\\u4e2d\\u7684\\u9879\\u76ee\\u6570\", \"x\": [\"8-3\", \"8-4\", \"9-1\", \"9-2\"], \"y\": [1.0, 0.0, 0.0, 0.0], \"type\": \"scatter\", \"uid\": \"ee221e04-c202-11e8-9eed-509a4c0f1ffc\"}, {\"name\": \"\\u9a6c\\u6f47_\\u5ef6\\u671f\\u9879\\u76ee\\u6570\", \"x\": [\"8-3\", \"8-4\", \"9-1\", \"9-2\"], \"y\": [1.0, 0.0, 0.0, 0.0], \"type\": \"scatter\", \"uid\": \"ee221e05-c202-11e8-b6a6-509a4c0f1ffc\"}, {\"name\": \"\\u9a6c\\u6f47_\\u6682\\u505c\\u9879\\u76ee\\u6570\", \"x\": [\"8-3\", \"8-4\", \"9-1\", \"9-2\"], \"y\": [0.0, 0.0, 0.0, 0.0], \"type\": \"scatter\", \"uid\": \"ee221e06-c202-11e8-8459-509a4c0f1ffc\"}, {\"name\": \"\\u4efb\\u96ea_\\u5b63\\u5ea6\\u5f00\\u53d1\\u9879\\u76ee\\u6570\", \"x\": [\"8-4\", \"9-1\", \"9-2\", \"9-3\"], \"y\": [27.0, 27.0, 27.0, 27.0], \"type\": \"scatter\", \"uid\": \"ee221e07-c202-11e8-8d80-509a4c0f1ffc\"}, {\"name\": \"\\u4efb\\u96ea_\\u5982\\u671f\\u5b8c\\u6210\\u9879\\u76ee\\u6570\", \"x\": [\"8-4\", \"9-1\", \"9-2\", \"9-3\"], \"y\": [8.0, 8.0, 8.0, 8.0], \"type\": \"scatter\", \"uid\": \"ee221e08-c202-11e8-8896-509a4c0f1ffc\"}, {\"name\": \"\\u4efb\\u96ea_\\u5ef6\\u671f\\u5b8c\\u6210\", \"x\": [\"8-4\", \"9-1\", \"9-2\", \"9-3\"], \"y\": [1.0, 1.0, 1.0, 5.0], \"type\": \"scatter\", \"uid\": \"ee221e09-c202-11e8-8781-509a4c0f1ffc\"}, {\"name\": \"\\u4efb\\u96ea_\\u5f00\\u53d1\\u4e2d\\u7684\\u9879\\u76ee\\u6570\", \"x\": [\"8-4\", \"9-1\", \"9-2\", \"9-3\"], \"y\": [15.0, 8.0, 8.0, 6.0], \"type\": \"scatter\", \"uid\": \"ee221e0a-c202-11e8-ae5d-509a4c0f1ffc\"}, {\"name\": \"\\u4efb\\u96ea_\\u5ef6\\u671f\\u9879\\u76ee\\u6570\", \"x\": [\"8-4\", \"9-1\", \"9-2\", \"9-3\"], \"y\": [3.0, 7.0, 7.0, 4.0], \"type\": \"scatter\", \"uid\": \"ee221e0b-c202-11e8-9c0d-509a4c0f1ffc\"}, {\"name\": \"\\u4efb\\u96ea_\\u6682\\u505c\\u9879\\u76ee\\u6570\", \"x\": [\"8-4\", \"9-1\", \"9-2\", \"9-3\"], \"y\": [0.0, 3.0, 3.0, 4.0], \"type\": \"scatter\", \"uid\": \"ee221e0c-c202-11e8-a365-509a4c0f1ffc\"}],\n",
       "            {\"title\": \"\\u5b63\\u5ea6\\u5f00\\u53d1\\u9879\\u76ee\\u6570&\\u5982\\u671f\\u5b8c\\u6210\\u9879\\u76ee\\u6570&\\u5ef6\\u671f\\u5b8c\\u6210&\\u5f00\\u53d1\\u4e2d\\u7684\\u9879\\u76ee\\u6570&\\u5ef6\\u671f\\u9879\\u76ee\\u6570&\\u6682\\u505c\\u9879\\u76ee\\u6570\\u5468\\u8d8b\\u52bf\\u56fe\", \"xaxis\": {\"mirror\": \"all\", \"nticks\": 20, \"showgrid\": true, \"showline\": true, \"title\": \"\\u5468\", \"zeroline\": true}, \"yaxis\": {\"mirror\": \"all\", \"nticks\": 20, \"showgrid\": true, \"showline\": true, \"title\": \"\\u5b63\\u5ea6\\u5f00\\u53d1\\u9879\\u76ee\\u6570&\\u5982\\u671f\\u5b8c\\u6210\\u9879\\u76ee\\u6570&\\u5ef6\\u671f\\u5b8c\\u6210&\\u5f00\\u53d1\\u4e2d\\u7684\\u9879\\u76ee\\u6570&\\u5ef6\\u671f\\u9879\\u76ee\\u6570&\\u6682\\u505c\\u9879\\u76ee\\u6570\", \"zeroline\": true}},\n",
       "            {\"showLink\": true, \"linkText\": \"Export to plot.ly\"}\n",
       "        ).then(function () {return Plotly.addFrames('17bd787d-664e-404a-b641-062dab993b3d',{});}).then(function(){Plotly.animate('17bd787d-664e-404a-b641-062dab993b3d');})\n",
       "        });</script>"
      ],
      "text/vnd.plotly.v1+html": [
       "<div id=\"17bd787d-664e-404a-b641-062dab993b3d\" style=\"height: 525px; width: 100%;\" class=\"plotly-graph-div\"></div><script type=\"text/javascript\">require([\"plotly\"], function(Plotly) { window.PLOTLYENV=window.PLOTLYENV || {};window.PLOTLYENV.BASE_URL=\"https://plot.ly\";\n",
       "        Plotly.plot(\n",
       "            '17bd787d-664e-404a-b641-062dab993b3d',\n",
       "            [{\"name\": \"\\u5218\\u6c5f_\\u5b63\\u5ea6\\u5f00\\u53d1\\u9879\\u76ee\\u6570\", \"x\": [\"8-3\", \"8-4\", \"9-1\", \"9-2\", \"9-3\"], \"y\": [3.0, 3.0, 3.0, 0.0, 3.0], \"type\": \"scatter\", \"uid\": \"ee21a8d2-c202-11e8-a16a-509a4c0f1ffc\"}, {\"name\": \"\\u5218\\u6c5f_\\u5982\\u671f\\u5b8c\\u6210\\u9879\\u76ee\\u6570\", \"x\": [\"8-3\", \"8-4\", \"9-1\", \"9-2\", \"9-3\"], \"y\": [0.0, 0.0, 0.0, 0.0, 0.0], \"type\": \"scatter\", \"uid\": \"ee21a8d3-c202-11e8-b270-509a4c0f1ffc\"}, {\"name\": \"\\u5218\\u6c5f_\\u5ef6\\u671f\\u5b8c\\u6210\", \"x\": [\"8-3\", \"8-4\", \"9-1\", \"9-2\", \"9-3\"], \"y\": [0.0, 1.0, 2.0, 0.0, 2.0], \"type\": \"scatter\", \"uid\": \"ee21a8d4-c202-11e8-9334-509a4c0f1ffc\"}, {\"name\": \"\\u5218\\u6c5f_\\u5f00\\u53d1\\u4e2d\\u7684\\u9879\\u76ee\\u6570\", \"x\": [\"8-3\", \"8-4\", \"9-1\", \"9-2\", \"9-3\"], \"y\": [3.0, 2.0, 1.0, 1.0, 1.0], \"type\": \"scatter\", \"uid\": \"ee21a8d5-c202-11e8-9840-509a4c0f1ffc\"}, {\"name\": \"\\u5218\\u6c5f_\\u5ef6\\u671f\\u9879\\u76ee\\u6570\", \"x\": [\"8-3\", \"8-4\", \"9-1\", \"9-2\", \"9-3\"], \"y\": [0.0, 0.0, 0.0, 0.0, 0.0], \"type\": \"scatter\", \"uid\": \"ee21a8d6-c202-11e8-b9b3-509a4c0f1ffc\"}, {\"name\": \"\\u5218\\u6c5f_\\u6682\\u505c\\u9879\\u76ee\\u6570\", \"x\": [\"8-3\", \"8-4\", \"9-1\", \"9-2\", \"9-3\"], \"y\": [0.0, 0.0, 0.0, 1.0, 0.0], \"type\": \"scatter\", \"uid\": \"ee21a8d7-c202-11e8-ac3a-509a4c0f1ffc\"}, {\"name\": \"\\u82cf\\u5f66\\u52cb_\\u5b63\\u5ea6\\u5f00\\u53d1\\u9879\\u76ee\\u6570\", \"x\": [\"8-3\", \"8-4\", \"9-1\", \"9-2\", \"9-3\"], \"y\": [33.0, 33.0, 33.0, 33.0, 33.0], \"type\": \"scatter\", \"uid\": \"ee21a8d8-c202-11e8-9f88-509a4c0f1ffc\"}, {\"name\": \"\\u82cf\\u5f66\\u52cb_\\u5982\\u671f\\u5b8c\\u6210\\u9879\\u76ee\\u6570\", \"x\": [\"8-3\", \"8-4\", \"9-1\", \"9-2\", \"9-3\"], \"y\": [20.0, 21.0, 22.0, 25.0, 25.0], \"type\": \"scatter\", \"uid\": \"ee21a8d9-c202-11e8-9cc8-509a4c0f1ffc\"}, {\"name\": \"\\u82cf\\u5f66\\u52cb_\\u5ef6\\u671f\\u5b8c\\u6210\", \"x\": [\"8-3\", \"8-4\", \"9-1\", \"9-2\", \"9-3\"], \"y\": [0.0, 0.0, 0.0, 0.0, 0.0], \"type\": \"scatter\", \"uid\": \"ee21a8da-c202-11e8-96ae-509a4c0f1ffc\"}, {\"name\": \"\\u82cf\\u5f66\\u52cb_\\u5f00\\u53d1\\u4e2d\\u7684\\u9879\\u76ee\\u6570\", \"x\": [\"8-3\", \"8-4\", \"9-1\", \"9-2\", \"9-3\"], \"y\": [5.0, 4.0, 3.0, 0.0, 0.0], \"type\": \"scatter\", \"uid\": \"ee21a8db-c202-11e8-a988-509a4c0f1ffc\"}, {\"name\": \"\\u82cf\\u5f66\\u52cb_\\u5ef6\\u671f\\u9879\\u76ee\\u6570\", \"x\": [\"8-3\", \"8-4\", \"9-1\", \"9-2\", \"9-3\"], \"y\": [0.0, 0.0, 0.0, 0.0, 0.0], \"type\": \"scatter\", \"uid\": \"ee21a8dc-c202-11e8-8eae-509a4c0f1ffc\"}, {\"name\": \"\\u82cf\\u5f66\\u52cb_\\u6682\\u505c\\u9879\\u76ee\\u6570\", \"x\": [\"8-3\", \"8-4\", \"9-1\", \"9-2\", \"9-3\"], \"y\": [8.0, 8.0, 8.0, 8.0, 8.0], \"type\": \"scatter\", \"uid\": \"ee21a8dd-c202-11e8-9cce-509a4c0f1ffc\"}, {\"name\": \"\\u59da\\u76df\\u6210_\\u5b63\\u5ea6\\u5f00\\u53d1\\u9879\\u76ee\\u6570\", \"x\": [\"8-3\", \"8-4\", \"9-1\", \"9-2\", \"9-3\"], \"y\": [9.0, 9.0, 9.0, 9.0, 9.0], \"type\": \"scatter\", \"uid\": \"ee21a8de-c202-11e8-8d83-509a4c0f1ffc\"}, {\"name\": \"\\u59da\\u76df\\u6210_\\u5982\\u671f\\u5b8c\\u6210\\u9879\\u76ee\\u6570\", \"x\": [\"8-3\", \"8-4\", \"9-1\", \"9-2\", \"9-3\"], \"y\": [3.0, 3.0, 3.0, 3.0, 3.0], \"type\": \"scatter\", \"uid\": \"ee21a8df-c202-11e8-953b-509a4c0f1ffc\"}, {\"name\": \"\\u59da\\u76df\\u6210_\\u5ef6\\u671f\\u5b8c\\u6210\", \"x\": [\"8-3\", \"8-4\", \"9-1\", \"9-2\", \"9-3\"], \"y\": [0.0, 0.0, 0.0, 0.0, 0.0], \"type\": \"scatter\", \"uid\": \"ee21a8e0-c202-11e8-887e-509a4c0f1ffc\"}, {\"name\": \"\\u59da\\u76df\\u6210_\\u5f00\\u53d1\\u4e2d\\u7684\\u9879\\u76ee\\u6570\", \"x\": [\"8-3\", \"8-4\", \"9-1\", \"9-2\", \"9-3\"], \"y\": [1.0, 2.0, 3.0, 2.0, 7.0], \"type\": \"scatter\", \"uid\": \"ee21a8e1-c202-11e8-b42a-509a4c0f1ffc\"}, {\"name\": \"\\u59da\\u76df\\u6210_\\u5ef6\\u671f\\u9879\\u76ee\\u6570\", \"x\": [\"8-3\", \"8-4\", \"9-1\", \"9-2\", \"9-3\"], \"y\": [0.0, 0.0, 0.0, 0.0, 0.0], \"type\": \"scatter\", \"uid\": \"ee21a8e2-c202-11e8-b495-509a4c0f1ffc\"}, {\"name\": \"\\u59da\\u76df\\u6210_\\u6682\\u505c\\u9879\\u76ee\\u6570\", \"x\": [\"8-3\", \"8-4\", \"9-1\", \"9-2\", \"9-3\"], \"y\": [0.0, 0.0, 0.0, 0.0, 12.0], \"type\": \"scatter\", \"uid\": \"ee21cfe2-c202-11e8-b007-509a4c0f1ffc\"}, {\"name\": \"\\u5b8b\\u8fce\\u6960_\\u5b63\\u5ea6\\u5f00\\u53d1\\u9879\\u76ee\\u6570\", \"x\": [\"8-3\", \"8-4\", \"9-1\"], \"y\": [23.0, 23.0, 23.0], \"type\": \"scatter\", \"uid\": \"ee21cfe3-c202-11e8-bf42-509a4c0f1ffc\"}, {\"name\": \"\\u5b8b\\u8fce\\u6960_\\u5982\\u671f\\u5b8c\\u6210\\u9879\\u76ee\\u6570\", \"x\": [\"8-3\", \"8-4\", \"9-1\"], \"y\": [0.0, 0.0, 0.0], \"type\": \"scatter\", \"uid\": \"ee21cfe4-c202-11e8-9fb6-509a4c0f1ffc\"}, {\"name\": \"\\u5b8b\\u8fce\\u6960_\\u5ef6\\u671f\\u5b8c\\u6210\", \"x\": [\"8-3\", \"8-4\", \"9-1\"], \"y\": [8.0, 9.0, 10.0], \"type\": \"scatter\", \"uid\": \"ee21cfe5-c202-11e8-b8d6-509a4c0f1ffc\"}, {\"name\": \"\\u5b8b\\u8fce\\u6960_\\u5f00\\u53d1\\u4e2d\\u7684\\u9879\\u76ee\\u6570\", \"x\": [\"8-3\", \"8-4\", \"9-1\"], \"y\": [14.0, 13.0, 7.0], \"type\": \"scatter\", \"uid\": \"ee21cfe6-c202-11e8-856e-509a4c0f1ffc\"}, {\"name\": \"\\u5b8b\\u8fce\\u6960_\\u5ef6\\u671f\\u9879\\u76ee\\u6570\", \"x\": [\"8-3\", \"8-4\", \"9-1\"], \"y\": [1.0, 1.0, 6.0], \"type\": \"scatter\", \"uid\": \"ee21cfe7-c202-11e8-b1d1-509a4c0f1ffc\"}, {\"name\": \"\\u5b8b\\u8fce\\u6960_\\u6682\\u505c\\u9879\\u76ee\\u6570\", \"x\": [\"8-3\", \"8-4\", \"9-1\"], \"y\": [0.0, 0.0, 0.0], \"type\": \"scatter\", \"uid\": \"ee21cfe8-c202-11e8-b769-509a4c0f1ffc\"}, {\"name\": \"\\u6768\\u4f1f\\u98de_\\u5b63\\u5ea6\\u5f00\\u53d1\\u9879\\u76ee\\u6570\", \"x\": [\"8-3\", \"8-4\", \"9-1\", \"9-2\", \"9-3\"], \"y\": [8.0, 8.0, 8.0, 8.0, 8.0], \"type\": \"scatter\", \"uid\": \"ee21cfe9-c202-11e8-9153-509a4c0f1ffc\"}, {\"name\": \"\\u6768\\u4f1f\\u98de_\\u5982\\u671f\\u5b8c\\u6210\\u9879\\u76ee\\u6570\", \"x\": [\"8-3\", \"8-4\", \"9-1\", \"9-2\", \"9-3\"], \"y\": [2.0, 2.0, 4.0, 4.0, 4.0], \"type\": \"scatter\", \"uid\": \"ee21cfea-c202-11e8-b485-509a4c0f1ffc\"}, {\"name\": \"\\u6768\\u4f1f\\u98de_\\u5ef6\\u671f\\u5b8c\\u6210\", \"x\": [\"8-3\", \"8-4\", \"9-1\", \"9-2\", \"9-3\"], \"y\": [1.0, 2.0, 2.0, 2.0, 2.0], \"type\": \"scatter\", \"uid\": \"ee21cfeb-c202-11e8-a514-509a4c0f1ffc\"}, {\"name\": \"\\u6768\\u4f1f\\u98de_\\u5f00\\u53d1\\u4e2d\\u7684\\u9879\\u76ee\\u6570\", \"x\": [\"8-3\", \"8-4\", \"9-1\", \"9-2\", \"9-3\"], \"y\": [5.0, 4.0, 2.0, 2.0, 2.0], \"type\": \"scatter\", \"uid\": \"ee21cfec-c202-11e8-854c-509a4c0f1ffc\"}, {\"name\": \"\\u6768\\u4f1f\\u98de_\\u5ef6\\u671f\\u9879\\u76ee\\u6570\", \"x\": [\"8-3\", \"8-4\", \"9-1\", \"9-2\", \"9-3\"], \"y\": [0.0, 0.0, 0.0, 0.0, 0.0], \"type\": \"scatter\", \"uid\": \"ee21cfed-c202-11e8-9dac-509a4c0f1ffc\"}, {\"name\": \"\\u6768\\u4f1f\\u98de_\\u6682\\u505c\\u9879\\u76ee\\u6570\", \"x\": [\"8-3\", \"8-4\", \"9-1\", \"9-2\", \"9-3\"], \"y\": [0.0, 0.0, 0.0, 0.0, 0.0], \"type\": \"scatter\", \"uid\": \"ee21cfee-c202-11e8-b3f7-509a4c0f1ffc\"}, {\"name\": \"\\u97e9\\u5c11\\u6000_\\u5b63\\u5ea6\\u5f00\\u53d1\\u9879\\u76ee\\u6570\", \"x\": [\"8-3\", \"8-4\", \"9-1\", \"9-2\"], \"y\": [7.0, 7.0, 7.0, 6.0], \"type\": \"scatter\", \"uid\": \"ee21cfef-c202-11e8-ab03-509a4c0f1ffc\"}, {\"name\": \"\\u97e9\\u5c11\\u6000_\\u5982\\u671f\\u5b8c\\u6210\\u9879\\u76ee\\u6570\", \"x\": [\"8-3\", \"8-4\", \"9-1\", \"9-2\"], \"y\": [5.0, 5.0, 6.0, 5.0], \"type\": \"scatter\", \"uid\": \"ee21cff0-c202-11e8-99b0-509a4c0f1ffc\"}, {\"name\": \"\\u97e9\\u5c11\\u6000_\\u5ef6\\u671f\\u5b8c\\u6210\", \"x\": [\"8-3\", \"8-4\", \"9-1\", \"9-2\"], \"y\": [0.0, 0.0, 0.0, 0.0], \"type\": \"scatter\", \"uid\": \"ee21cff1-c202-11e8-8c78-509a4c0f1ffc\"}, {\"name\": \"\\u97e9\\u5c11\\u6000_\\u5f00\\u53d1\\u4e2d\\u7684\\u9879\\u76ee\\u6570\", \"x\": [\"8-3\", \"8-4\", \"9-1\", \"9-2\"], \"y\": [1.0, 2.0, 1.0, 1.0], \"type\": \"scatter\", \"uid\": \"ee21cff2-c202-11e8-9ba5-509a4c0f1ffc\"}, {\"name\": \"\\u97e9\\u5c11\\u6000_\\u5ef6\\u671f\\u9879\\u76ee\\u6570\", \"x\": [\"8-3\", \"8-4\", \"9-1\", \"9-2\"], \"y\": [0.0, 0.0, 0.0, 0.0], \"type\": \"scatter\", \"uid\": \"ee21cff3-c202-11e8-97e8-509a4c0f1ffc\"}, {\"name\": \"\\u97e9\\u5c11\\u6000_\\u6682\\u505c\\u9879\\u76ee\\u6570\", \"x\": [\"8-3\", \"8-4\", \"9-1\", \"9-2\"], \"y\": [0.0, 0.0, 0.0, 0.0], \"type\": \"scatter\", \"uid\": \"ee21cff4-c202-11e8-b0c4-509a4c0f1ffc\"}, {\"name\": \"\\u4e8e\\u52c7\\u4e00_\\u5b63\\u5ea6\\u5f00\\u53d1\\u9879\\u76ee\\u6570\", \"x\": [\"8-3\", \"8-4\", \"9-1\", \"9-2\", \"9-3\"], \"y\": [0.0, 0.0, 0.0, 0.0, 0.0], \"type\": \"scatter\", \"uid\": \"ee21cff5-c202-11e8-aa55-509a4c0f1ffc\"}, {\"name\": \"\\u4e8e\\u52c7\\u4e00_\\u5982\\u671f\\u5b8c\\u6210\\u9879\\u76ee\\u6570\", \"x\": [\"8-3\", \"8-4\", \"9-1\", \"9-2\", \"9-3\"], \"y\": [0.0, 0.0, 0.0, 0.0, 0.0], \"type\": \"scatter\", \"uid\": \"ee21cff6-c202-11e8-ae19-509a4c0f1ffc\"}, {\"name\": \"\\u4e8e\\u52c7\\u4e00_\\u5ef6\\u671f\\u5b8c\\u6210\", \"x\": [\"8-3\", \"8-4\", \"9-1\", \"9-2\", \"9-3\"], \"y\": [0.0, 0.0, 0.0, 0.0, 0.0], \"type\": \"scatter\", \"uid\": \"ee21cff7-c202-11e8-bf31-509a4c0f1ffc\"}, {\"name\": \"\\u4e8e\\u52c7\\u4e00_\\u5f00\\u53d1\\u4e2d\\u7684\\u9879\\u76ee\\u6570\", \"x\": [\"8-3\", \"8-4\", \"9-1\", \"9-2\", \"9-3\"], \"y\": [0.0, 0.0, 0.0, 0.0, 0.0], \"type\": \"scatter\", \"uid\": \"ee21cff8-c202-11e8-9789-509a4c0f1ffc\"}, {\"name\": \"\\u4e8e\\u52c7\\u4e00_\\u5ef6\\u671f\\u9879\\u76ee\\u6570\", \"x\": [\"8-3\", \"8-4\", \"9-1\", \"9-2\", \"9-3\"], \"y\": [0.0, 0.0, 0.0, 0.0, 0.0], \"type\": \"scatter\", \"uid\": \"ee21cff9-c202-11e8-a671-509a4c0f1ffc\"}, {\"name\": \"\\u4e8e\\u52c7\\u4e00_\\u6682\\u505c\\u9879\\u76ee\\u6570\", \"x\": [\"8-3\", \"8-4\", \"9-1\", \"9-2\", \"9-3\"], \"y\": [0.0, 0.0, 0.0, 0.0, 0.0], \"type\": \"scatter\", \"uid\": \"ee21cffa-c202-11e8-82e6-509a4c0f1ffc\"}, {\"name\": \"\\u674e\\u534e\\u4e91_\\u5b63\\u5ea6\\u5f00\\u53d1\\u9879\\u76ee\\u6570\", \"x\": [\"8-3\", \"8-4\", \"9-1\", \"9-2\", \"9-3\"], \"y\": [35.0, 35.0, 35.0, 35.0, 47.0], \"type\": \"scatter\", \"uid\": \"ee21cffb-c202-11e8-ae35-509a4c0f1ffc\"}, {\"name\": \"\\u674e\\u534e\\u4e91_\\u5982\\u671f\\u5b8c\\u6210\\u9879\\u76ee\\u6570\", \"x\": [\"8-3\", \"8-4\", \"9-1\", \"9-2\", \"9-3\"], \"y\": [5.0, 5.0, 5.0, 5.0, 22.0], \"type\": \"scatter\", \"uid\": \"ee21cffc-c202-11e8-9009-509a4c0f1ffc\"}, {\"name\": \"\\u674e\\u534e\\u4e91_\\u5ef6\\u671f\\u5b8c\\u6210\", \"x\": [\"8-3\", \"8-4\", \"9-1\", \"9-2\", \"9-3\"], \"y\": [0.0, 0.0, 1.0, 3.0, 13.0], \"type\": \"scatter\", \"uid\": \"ee21cffd-c202-11e8-8586-509a4c0f1ffc\"}, {\"name\": \"\\u674e\\u534e\\u4e91_\\u5f00\\u53d1\\u4e2d\\u7684\\u9879\\u76ee\\u6570\", \"x\": [\"8-3\", \"8-4\", \"9-1\", \"9-2\", \"9-3\"], \"y\": [24.0, 24.0, 20.0, 18.0, 3.0], \"type\": \"scatter\", \"uid\": \"ee21cffe-c202-11e8-ba08-509a4c0f1ffc\"}, {\"name\": \"\\u674e\\u534e\\u4e91_\\u5ef6\\u671f\\u9879\\u76ee\\u6570\", \"x\": [\"8-3\", \"8-4\", \"9-1\", \"9-2\", \"9-3\"], \"y\": [6.0, 6.0, 9.0, 9.0, 6.0], \"type\": \"scatter\", \"uid\": \"ee21cfff-c202-11e8-b89f-509a4c0f1ffc\"}, {\"name\": \"\\u674e\\u534e\\u4e91_\\u6682\\u505c\\u9879\\u76ee\\u6570\", \"x\": [\"8-3\", \"8-4\", \"9-1\", \"9-2\", \"9-3\"], \"y\": [0.0, 0.0, 0.0, 0.0, 3.0], \"type\": \"scatter\", \"uid\": \"ee21d000-c202-11e8-a258-509a4c0f1ffc\"}, {\"name\": \"\\u5218\\u6167\\u73b2_\\u5b63\\u5ea6\\u5f00\\u53d1\\u9879\\u76ee\\u6570\", \"x\": [\"8-3\", \"8-4\", \"9-1\"], \"y\": [8.0, 8.0, 9.0], \"type\": \"scatter\", \"uid\": \"ee21d001-c202-11e8-a997-509a4c0f1ffc\"}, {\"name\": \"\\u5218\\u6167\\u73b2_\\u5982\\u671f\\u5b8c\\u6210\\u9879\\u76ee\\u6570\", \"x\": [\"8-3\", \"8-4\", \"9-1\"], \"y\": [3.0, 3.0, 3.0], \"type\": \"scatter\", \"uid\": \"ee21d002-c202-11e8-96ef-509a4c0f1ffc\"}, {\"name\": \"\\u5218\\u6167\\u73b2_\\u5ef6\\u671f\\u5b8c\\u6210\", \"x\": [\"8-3\", \"8-4\", \"9-1\"], \"y\": [1.0, 1.0, 1.0], \"type\": \"scatter\", \"uid\": \"ee21d003-c202-11e8-8f6e-509a4c0f1ffc\"}, {\"name\": \"\\u5218\\u6167\\u73b2_\\u5f00\\u53d1\\u4e2d\\u7684\\u9879\\u76ee\\u6570\", \"x\": [\"8-3\", \"8-4\", \"9-1\"], \"y\": [2.0, 2.0, 1.0], \"type\": \"scatter\", \"uid\": \"ee21d004-c202-11e8-a75c-509a4c0f1ffc\"}, {\"name\": \"\\u5218\\u6167\\u73b2_\\u5ef6\\u671f\\u9879\\u76ee\\u6570\", \"x\": [\"8-3\", \"8-4\", \"9-1\"], \"y\": [0.0, 0.0, 0.0], \"type\": \"scatter\", \"uid\": \"ee21d005-c202-11e8-b218-509a4c0f1ffc\"}, {\"name\": \"\\u5218\\u6167\\u73b2_\\u6682\\u505c\\u9879\\u76ee\\u6570\", \"x\": [\"8-3\", \"8-4\", \"9-1\"], \"y\": [2.0, 2.0, 4.0], \"type\": \"scatter\", \"uid\": \"ee21d006-c202-11e8-b9e7-509a4c0f1ffc\"}, {\"name\": \"\\u5b5f\\u660a_\\u5b63\\u5ea6\\u5f00\\u53d1\\u9879\\u76ee\\u6570\", \"x\": [\"8-3\", \"8-4\", \"9-1\", \"9-2\", \"9-3\"], \"y\": [43.0, 43.0, 43.0, 43.0, 43.0], \"type\": \"scatter\", \"uid\": \"ee21d007-c202-11e8-bd8b-509a4c0f1ffc\"}, {\"name\": \"\\u5b5f\\u660a_\\u5982\\u671f\\u5b8c\\u6210\\u9879\\u76ee\\u6570\", \"x\": [\"8-3\", \"8-4\", \"9-1\", \"9-2\", \"9-3\"], \"y\": [38.0, 38.0, 38.0, 39.0, 39.0], \"type\": \"scatter\", \"uid\": \"ee21d008-c202-11e8-9d75-509a4c0f1ffc\"}, {\"name\": \"\\u5b5f\\u660a_\\u5ef6\\u671f\\u5b8c\\u6210\", \"x\": [\"8-3\", \"8-4\", \"9-1\", \"9-2\", \"9-3\"], \"y\": [0.0, 0.0, 0.0, 0.0, 0.0], \"type\": \"scatter\", \"uid\": \"ee21d009-c202-11e8-8c3a-509a4c0f1ffc\"}, {\"name\": \"\\u5b5f\\u660a_\\u5f00\\u53d1\\u4e2d\\u7684\\u9879\\u76ee\\u6570\", \"x\": [\"8-3\", \"8-4\", \"9-1\", \"9-2\", \"9-3\"], \"y\": [2.0, 2.0, 2.0, 2.0, 2.0], \"type\": \"scatter\", \"uid\": \"ee21d00a-c202-11e8-be1a-509a4c0f1ffc\"}, {\"name\": \"\\u5b5f\\u660a_\\u5ef6\\u671f\\u9879\\u76ee\\u6570\", \"x\": [\"8-3\", \"8-4\", \"9-1\", \"9-2\", \"9-3\"], \"y\": [0.0, 0.0, 0.0, 0.0, 0.0], \"type\": \"scatter\", \"uid\": \"ee21d00b-c202-11e8-9bb5-509a4c0f1ffc\"}, {\"name\": \"\\u5b5f\\u660a_\\u6682\\u505c\\u9879\\u76ee\\u6570\", \"x\": [\"8-3\", \"8-4\", \"9-1\", \"9-2\", \"9-3\"], \"y\": [3.0, 3.0, 3.0, 3.0, 3.0], \"type\": \"scatter\", \"uid\": \"ee21d00c-c202-11e8-b555-509a4c0f1ffc\"}, {\"name\": \"\\u4e8e\\u6167_\\u5b63\\u5ea6\\u5f00\\u53d1\\u9879\\u76ee\\u6570\", \"x\": [\"8-3\", \"8-4\", \"9-1\", \"9-2\", \"9-3\"], \"y\": [36.0, 36.0, 36.0, 37.0, 37.0], \"type\": \"scatter\", \"uid\": \"ee21d00d-c202-11e8-99ab-509a4c0f1ffc\"}, {\"name\": \"\\u4e8e\\u6167_\\u5982\\u671f\\u5b8c\\u6210\\u9879\\u76ee\\u6570\", \"x\": [\"8-3\", \"8-4\", \"9-1\", \"9-2\", \"9-3\"], \"y\": [32.0, 33.0, 34.0, 35.0, 35.0], \"type\": \"scatter\", \"uid\": \"ee21d00e-c202-11e8-8cd7-509a4c0f1ffc\"}, {\"name\": \"\\u4e8e\\u6167_\\u5ef6\\u671f\\u5b8c\\u6210\", \"x\": [\"8-3\", \"8-4\", \"9-1\", \"9-2\", \"9-3\"], \"y\": [0.0, 0.0, 0.0, 0.0, 0.0], \"type\": \"scatter\", \"uid\": \"ee21d00f-c202-11e8-a44a-509a4c0f1ffc\"}, {\"name\": \"\\u4e8e\\u6167_\\u5f00\\u53d1\\u4e2d\\u7684\\u9879\\u76ee\\u6570\", \"x\": [\"8-3\", \"8-4\", \"9-1\", \"9-2\", \"9-3\"], \"y\": [4.0, 3.0, 2.0, 2.0, 2.0], \"type\": \"scatter\", \"uid\": \"ee21d010-c202-11e8-8a5e-509a4c0f1ffc\"}, {\"name\": \"\\u4e8e\\u6167_\\u5ef6\\u671f\\u9879\\u76ee\\u6570\", \"x\": [\"8-3\", \"8-4\", \"9-1\", \"9-2\", \"9-3\"], \"y\": [0.0, 0.0, 0.0, 0.0, 0.0], \"type\": \"scatter\", \"uid\": \"ee21d011-c202-11e8-b915-509a4c0f1ffc\"}, {\"name\": \"\\u4e8e\\u6167_\\u6682\\u505c\\u9879\\u76ee\\u6570\", \"x\": [\"8-3\", \"8-4\", \"9-1\", \"9-2\", \"9-3\"], \"y\": [0.0, 0.0, 0.0, 0.0, 0.0], \"type\": \"scatter\", \"uid\": \"ee21d012-c202-11e8-81a2-509a4c0f1ffc\"}, {\"name\": \"\\u8d75\\u73a5_\\u5b63\\u5ea6\\u5f00\\u53d1\\u9879\\u76ee\\u6570\", \"x\": [\"8-3\", \"8-4\", \"9-1\", \"9-2\"], \"y\": [21.0, 22.0, 21.0, 22.0], \"type\": \"scatter\", \"uid\": \"ee21d013-c202-11e8-80e8-509a4c0f1ffc\"}, {\"name\": \"\\u8d75\\u73a5_\\u5982\\u671f\\u5b8c\\u6210\\u9879\\u76ee\\u6570\", \"x\": [\"8-3\", \"8-4\", \"9-1\", \"9-2\"], \"y\": [20.0, 21.0, 20.0, 21.0], \"type\": \"scatter\", \"uid\": \"ee21d014-c202-11e8-a2dd-509a4c0f1ffc\"}, {\"name\": \"\\u8d75\\u73a5_\\u5ef6\\u671f\\u5b8c\\u6210\", \"x\": [\"8-3\", \"8-4\", \"9-1\", \"9-2\"], \"y\": [1.0, 1.0, 1.0, 1.0], \"type\": \"scatter\", \"uid\": \"ee21d015-c202-11e8-8db6-509a4c0f1ffc\"}, {\"name\": \"\\u8d75\\u73a5_\\u5f00\\u53d1\\u4e2d\\u7684\\u9879\\u76ee\\u6570\", \"x\": [\"8-3\", \"8-4\", \"9-1\", \"9-2\"], \"y\": [0.0, 2.0, 3.0, 1.0], \"type\": \"scatter\", \"uid\": \"ee21d016-c202-11e8-8e63-509a4c0f1ffc\"}, {\"name\": \"\\u8d75\\u73a5_\\u5ef6\\u671f\\u9879\\u76ee\\u6570\", \"x\": [\"8-3\", \"8-4\", \"9-1\", \"9-2\"], \"y\": [0.0, 0.0, 1.0, 1.0], \"type\": \"scatter\", \"uid\": \"ee21f6f4-c202-11e8-b4ba-509a4c0f1ffc\"}, {\"name\": \"\\u8d75\\u73a5_\\u6682\\u505c\\u9879\\u76ee\\u6570\", \"x\": [\"8-3\", \"8-4\", \"9-1\", \"9-2\"], \"y\": [0.0, 0.0, 1.0, 1.0], \"type\": \"scatter\", \"uid\": \"ee21f6f5-c202-11e8-8818-509a4c0f1ffc\"}, {\"name\": \"\\u5c01\\u5f66\\u6770_\\u5b63\\u5ea6\\u5f00\\u53d1\\u9879\\u76ee\\u6570\", \"x\": [\"8-3\", \"8-4\", \"9-1\", \"9-2\", \"9-3\"], \"y\": [5.0, 5.0, 5.0, 5.0, 5.0], \"type\": \"scatter\", \"uid\": \"ee21f6f6-c202-11e8-9077-509a4c0f1ffc\"}, {\"name\": \"\\u5c01\\u5f66\\u6770_\\u5982\\u671f\\u5b8c\\u6210\\u9879\\u76ee\\u6570\", \"x\": [\"8-3\", \"8-4\", \"9-1\", \"9-2\", \"9-3\"], \"y\": [0.0, 0.0, 2.0, 2.0, 2.0], \"type\": \"scatter\", \"uid\": \"ee21f6f7-c202-11e8-a6c7-509a4c0f1ffc\"}, {\"name\": \"\\u5c01\\u5f66\\u6770_\\u5ef6\\u671f\\u5b8c\\u6210\", \"x\": [\"8-3\", \"8-4\", \"9-1\", \"9-2\", \"9-3\"], \"y\": [0.0, 0.0, 0.0, 0.0, 0.0], \"type\": \"scatter\", \"uid\": \"ee21f6f8-c202-11e8-a0e8-509a4c0f1ffc\"}, {\"name\": \"\\u5c01\\u5f66\\u6770_\\u5f00\\u53d1\\u4e2d\\u7684\\u9879\\u76ee\\u6570\", \"x\": [\"8-3\", \"8-4\", \"9-1\", \"9-2\", \"9-3\"], \"y\": [4.0, 4.0, 2.0, 2.0, 3.0], \"type\": \"scatter\", \"uid\": \"ee21f6f9-c202-11e8-82f4-509a4c0f1ffc\"}, {\"name\": \"\\u5c01\\u5f66\\u6770_\\u5ef6\\u671f\\u9879\\u76ee\\u6570\", \"x\": [\"8-3\", \"8-4\", \"9-1\", \"9-2\", \"9-3\"], \"y\": [0.0, 0.0, 0.0, 0.0, 0.0], \"type\": \"scatter\", \"uid\": \"ee21f6fa-c202-11e8-9705-509a4c0f1ffc\"}, {\"name\": \"\\u5c01\\u5f66\\u6770_\\u6682\\u505c\\u9879\\u76ee\\u6570\", \"x\": [\"8-3\", \"8-4\", \"9-1\", \"9-2\", \"9-3\"], \"y\": [1.0, 1.0, 1.0, 1.0, 0.0], \"type\": \"scatter\", \"uid\": \"ee21f6fb-c202-11e8-a07b-509a4c0f1ffc\"}, {\"name\": \"\\u8c22\\u5fb7\\u5065_\\u5b63\\u5ea6\\u5f00\\u53d1\\u9879\\u76ee\\u6570\", \"x\": [\"8-3\", \"8-4\", \"9-2\", \"9-3\"], \"y\": [0.0, 0.0, 6.0, 6.0], \"type\": \"scatter\", \"uid\": \"ee21f6fc-c202-11e8-95bf-509a4c0f1ffc\"}, {\"name\": \"\\u8c22\\u5fb7\\u5065_\\u5982\\u671f\\u5b8c\\u6210\\u9879\\u76ee\\u6570\", \"x\": [\"8-3\", \"8-4\", \"9-2\", \"9-3\"], \"y\": [0.0, 0.0, 6.0, 6.0], \"type\": \"scatter\", \"uid\": \"ee21f6fd-c202-11e8-b06a-509a4c0f1ffc\"}, {\"name\": \"\\u8c22\\u5fb7\\u5065_\\u5ef6\\u671f\\u5b8c\\u6210\", \"x\": [\"8-3\", \"8-4\", \"9-2\", \"9-3\"], \"y\": [0.0, 0.0, 0.0, 0.0], \"type\": \"scatter\", \"uid\": \"ee21f6fe-c202-11e8-a1a9-509a4c0f1ffc\"}, {\"name\": \"\\u8c22\\u5fb7\\u5065_\\u5f00\\u53d1\\u4e2d\\u7684\\u9879\\u76ee\\u6570\", \"x\": [\"8-3\", \"8-4\", \"9-2\", \"9-3\"], \"y\": [0.0, 0.0, 0.0, 0.0], \"type\": \"scatter\", \"uid\": \"ee21f6ff-c202-11e8-9dcd-509a4c0f1ffc\"}, {\"name\": \"\\u8c22\\u5fb7\\u5065_\\u5ef6\\u671f\\u9879\\u76ee\\u6570\", \"x\": [\"8-3\", \"8-4\", \"9-2\", \"9-3\"], \"y\": [0.0, 0.0, 0.0, 0.0], \"type\": \"scatter\", \"uid\": \"ee21f700-c202-11e8-97b2-509a4c0f1ffc\"}, {\"name\": \"\\u8c22\\u5fb7\\u5065_\\u6682\\u505c\\u9879\\u76ee\\u6570\", \"x\": [\"8-3\", \"8-4\", \"9-2\", \"9-3\"], \"y\": [0.0, 0.0, 0.0, 0.0], \"type\": \"scatter\", \"uid\": \"ee21f701-c202-11e8-b996-509a4c0f1ffc\"}, {\"name\": \"\\u5468\\u6768_\\u5b63\\u5ea6\\u5f00\\u53d1\\u9879\\u76ee\\u6570\", \"x\": [\"8-3\", \"8-4\", \"9-1\", \"9-2\", \"9-3\"], \"y\": [32.0, 32.0, 32.0, 32.0, 32.0], \"type\": \"scatter\", \"uid\": \"ee21f702-c202-11e8-b1f8-509a4c0f1ffc\"}, {\"name\": \"\\u5468\\u6768_\\u5982\\u671f\\u5b8c\\u6210\\u9879\\u76ee\\u6570\", \"x\": [\"8-3\", \"8-4\", \"9-1\", \"9-2\", \"9-3\"], \"y\": [28.0, 28.0, 28.0, 29.0, 32.0], \"type\": \"scatter\", \"uid\": \"ee21f703-c202-11e8-8ce6-509a4c0f1ffc\"}, {\"name\": \"\\u5468\\u6768_\\u5ef6\\u671f\\u5b8c\\u6210\", \"x\": [\"8-3\", \"8-4\", \"9-1\", \"9-2\", \"9-3\"], \"y\": [0.0, 0.0, 0.0, 0.0, 0.0], \"type\": \"scatter\", \"uid\": \"ee21f704-c202-11e8-bbea-509a4c0f1ffc\"}, {\"name\": \"\\u5468\\u6768_\\u5f00\\u53d1\\u4e2d\\u7684\\u9879\\u76ee\\u6570\", \"x\": [\"8-3\", \"8-4\", \"9-1\", \"9-2\", \"9-3\"], \"y\": [3.0, 3.0, 3.0, 2.0, 0.0], \"type\": \"scatter\", \"uid\": \"ee21f705-c202-11e8-b2cc-509a4c0f1ffc\"}, {\"name\": \"\\u5468\\u6768_\\u5ef6\\u671f\\u9879\\u76ee\\u6570\", \"x\": [\"8-3\", \"8-4\", \"9-1\", \"9-2\", \"9-3\"], \"y\": [0.0, 0.0, 0.0, 0.0, 0.0], \"type\": \"scatter\", \"uid\": \"ee21f706-c202-11e8-8a09-509a4c0f1ffc\"}, {\"name\": \"\\u5468\\u6768_\\u6682\\u505c\\u9879\\u76ee\\u6570\", \"x\": [\"8-3\", \"8-4\", \"9-1\", \"9-2\", \"9-3\"], \"y\": [1.0, 1.0, 1.0, 1.0, 1.0], \"type\": \"scatter\", \"uid\": \"ee21f707-c202-11e8-a863-509a4c0f1ffc\"}, {\"name\": \"\\u5f20\\u5b88\\u4f1f_\\u5b63\\u5ea6\\u5f00\\u53d1\\u9879\\u76ee\\u6570\", \"x\": [\"8-3\", \"8-4\", \"9-1\", \"9-2\"], \"y\": [13.0, 16.0, 18.0, 20.0], \"type\": \"scatter\", \"uid\": \"ee21f708-c202-11e8-bbbc-509a4c0f1ffc\"}, {\"name\": \"\\u5f20\\u5b88\\u4f1f_\\u5982\\u671f\\u5b8c\\u6210\\u9879\\u76ee\\u6570\", \"x\": [\"8-3\", \"8-4\", \"9-1\", \"9-2\"], \"y\": [13.0, 16.0, 18.0, 20.0], \"type\": \"scatter\", \"uid\": \"ee21f709-c202-11e8-85fc-509a4c0f1ffc\"}, {\"name\": \"\\u5f20\\u5b88\\u4f1f_\\u5ef6\\u671f\\u5b8c\\u6210\", \"x\": [\"8-3\", \"8-4\", \"9-1\", \"9-2\"], \"y\": [0.0, 0.0, 0.0, 0.0], \"type\": \"scatter\", \"uid\": \"ee21f70a-c202-11e8-a570-509a4c0f1ffc\"}, {\"name\": \"\\u5f20\\u5b88\\u4f1f_\\u5f00\\u53d1\\u4e2d\\u7684\\u9879\\u76ee\\u6570\", \"x\": [\"8-3\", \"8-4\", \"9-1\", \"9-2\"], \"y\": [2.0, 2.0, 2.0, 2.0], \"type\": \"scatter\", \"uid\": \"ee21f70b-c202-11e8-8931-509a4c0f1ffc\"}, {\"name\": \"\\u5f20\\u5b88\\u4f1f_\\u5ef6\\u671f\\u9879\\u76ee\\u6570\", \"x\": [\"8-3\", \"8-4\", \"9-1\", \"9-2\"], \"y\": [0.0, 0.0, 0.0, 0.0], \"type\": \"scatter\", \"uid\": \"ee21f70c-c202-11e8-a564-509a4c0f1ffc\"}, {\"name\": \"\\u5f20\\u5b88\\u4f1f_\\u6682\\u505c\\u9879\\u76ee\\u6570\", \"x\": [\"8-3\", \"8-4\", \"9-1\", \"9-2\"], \"y\": [0.0, 0.0, 0.0, 0.0], \"type\": \"scatter\", \"uid\": \"ee21f70d-c202-11e8-a853-509a4c0f1ffc\"}, {\"name\": \"\\u8def\\u6167\\u840d_\\u5b63\\u5ea6\\u5f00\\u53d1\\u9879\\u76ee\\u6570\", \"x\": [\"8-3\", \"8-4\", \"9-1\", \"9-2\", \"9-3\"], \"y\": [0.0, 0.0, 0.0, 0.0, 0.0], \"type\": \"scatter\", \"uid\": \"ee21f70e-c202-11e8-a49f-509a4c0f1ffc\"}, {\"name\": \"\\u8def\\u6167\\u840d_\\u5982\\u671f\\u5b8c\\u6210\\u9879\\u76ee\\u6570\", \"x\": [\"8-3\", \"8-4\", \"9-1\", \"9-2\", \"9-3\"], \"y\": [0.0, 0.0, 0.0, 0.0, 0.0], \"type\": \"scatter\", \"uid\": \"ee21f70f-c202-11e8-8ddb-509a4c0f1ffc\"}, {\"name\": \"\\u8def\\u6167\\u840d_\\u5ef6\\u671f\\u5b8c\\u6210\", \"x\": [\"8-3\", \"8-4\", \"9-1\", \"9-2\", \"9-3\"], \"y\": [0.0, 0.0, 0.0, 0.0, 0.0], \"type\": \"scatter\", \"uid\": \"ee21f710-c202-11e8-835d-509a4c0f1ffc\"}, {\"name\": \"\\u8def\\u6167\\u840d_\\u5f00\\u53d1\\u4e2d\\u7684\\u9879\\u76ee\\u6570\", \"x\": [\"8-3\", \"8-4\", \"9-1\", \"9-2\", \"9-3\"], \"y\": [0.0, 0.0, 0.0, 0.0, 0.0], \"type\": \"scatter\", \"uid\": \"ee21f711-c202-11e8-bbc8-509a4c0f1ffc\"}, {\"name\": \"\\u8def\\u6167\\u840d_\\u5ef6\\u671f\\u9879\\u76ee\\u6570\", \"x\": [\"8-3\", \"8-4\", \"9-1\", \"9-2\", \"9-3\"], \"y\": [0.0, 0.0, 0.0, 0.0, 0.0], \"type\": \"scatter\", \"uid\": \"ee21f712-c202-11e8-bf1d-509a4c0f1ffc\"}, {\"name\": \"\\u8def\\u6167\\u840d_\\u6682\\u505c\\u9879\\u76ee\\u6570\", \"x\": [\"8-3\", \"8-4\", \"9-1\", \"9-2\", \"9-3\"], \"y\": [0.0, 0.0, 0.0, 0.0, 2.0], \"type\": \"scatter\", \"uid\": \"ee21f713-c202-11e8-a47a-509a4c0f1ffc\"}, {\"name\": \"\\u5360\\u4f1f_\\u5b63\\u5ea6\\u5f00\\u53d1\\u9879\\u76ee\\u6570\", \"x\": [\"8-3\", \"8-4\", \"9-1\", \"9-2\"], \"y\": [19.0, 18.0, 18.0, 18.0], \"type\": \"scatter\", \"uid\": \"ee21f714-c202-11e8-8d4f-509a4c0f1ffc\"}, {\"name\": \"\\u5360\\u4f1f_\\u5982\\u671f\\u5b8c\\u6210\\u9879\\u76ee\\u6570\", \"x\": [\"8-3\", \"8-4\", \"9-1\", \"9-2\"], \"y\": [12.0, 10.0, 10.0, 10.0], \"type\": \"scatter\", \"uid\": \"ee21f715-c202-11e8-b016-509a4c0f1ffc\"}, {\"name\": \"\\u5360\\u4f1f_\\u5ef6\\u671f\\u5b8c\\u6210\", \"x\": [\"8-3\", \"8-4\", \"9-1\", \"9-2\"], \"y\": [2.0, 1.0, 1.0, 1.0], \"type\": \"scatter\", \"uid\": \"ee21f716-c202-11e8-93ca-509a4c0f1ffc\"}, {\"name\": \"\\u5360\\u4f1f_\\u5f00\\u53d1\\u4e2d\\u7684\\u9879\\u76ee\\u6570\", \"x\": [\"8-3\", \"8-4\", \"9-1\", \"9-2\"], \"y\": [2.0, 5.0, 5.0, 5.0], \"type\": \"scatter\", \"uid\": \"ee21f717-c202-11e8-bd56-509a4c0f1ffc\"}, {\"name\": \"\\u5360\\u4f1f_\\u5ef6\\u671f\\u9879\\u76ee\\u6570\", \"x\": [\"8-3\", \"8-4\", \"9-1\", \"9-2\"], \"y\": [3.0, 3.0, 3.0, 3.0], \"type\": \"scatter\", \"uid\": \"ee21f718-c202-11e8-a173-509a4c0f1ffc\"}, {\"name\": \"\\u5360\\u4f1f_\\u6682\\u505c\\u9879\\u76ee\\u6570\", \"x\": [\"8-3\", \"8-4\", \"9-1\", \"9-2\"], \"y\": [0.0, 0.0, 0.0, 0.0], \"type\": \"scatter\", \"uid\": \"ee21f719-c202-11e8-a77b-509a4c0f1ffc\"}, {\"name\": \"\\u738b\\u5b81_\\u5b63\\u5ea6\\u5f00\\u53d1\\u9879\\u76ee\\u6570\", \"x\": [\"8-3\", \"8-4\", \"9-1\"], \"y\": [0.0, 0.0, 0.0], \"type\": \"scatter\", \"uid\": \"ee21f71a-c202-11e8-9048-509a4c0f1ffc\"}, {\"name\": \"\\u738b\\u5b81_\\u5982\\u671f\\u5b8c\\u6210\\u9879\\u76ee\\u6570\", \"x\": [\"8-3\", \"8-4\", \"9-1\"], \"y\": [0.0, 0.0, 0.0], \"type\": \"scatter\", \"uid\": \"ee21f71b-c202-11e8-8b54-509a4c0f1ffc\"}, {\"name\": \"\\u738b\\u5b81_\\u5ef6\\u671f\\u5b8c\\u6210\", \"x\": [\"8-3\", \"8-4\", \"9-1\"], \"y\": [0.0, 0.0, 0.0], \"type\": \"scatter\", \"uid\": \"ee21f71c-c202-11e8-b8fa-509a4c0f1ffc\"}, {\"name\": \"\\u738b\\u5b81_\\u5f00\\u53d1\\u4e2d\\u7684\\u9879\\u76ee\\u6570\", \"x\": [\"8-3\", \"8-4\", \"9-1\"], \"y\": [0.0, 0.0, 0.0], \"type\": \"scatter\", \"uid\": \"ee21f71d-c202-11e8-bc37-509a4c0f1ffc\"}, {\"name\": \"\\u738b\\u5b81_\\u5ef6\\u671f\\u9879\\u76ee\\u6570\", \"x\": [\"8-3\", \"8-4\", \"9-1\"], \"y\": [0.0, 0.0, 0.0], \"type\": \"scatter\", \"uid\": \"ee21f71e-c202-11e8-860b-509a4c0f1ffc\"}, {\"name\": \"\\u738b\\u5b81_\\u6682\\u505c\\u9879\\u76ee\\u6570\", \"x\": [\"8-3\", \"8-4\", \"9-1\"], \"y\": [0.0, 0.0, 0.0], \"type\": \"scatter\", \"uid\": \"ee21f71f-c202-11e8-ae69-509a4c0f1ffc\"}, {\"name\": \"\\u674e\\u5e86\\u539f_\\u5b63\\u5ea6\\u5f00\\u53d1\\u9879\\u76ee\\u6570\", \"x\": [\"8-3\", \"8-4\", \"9-1\", \"9-2\", \"9-3\"], \"y\": [0.0, 0.0, 0.0, 0.0, 0.0], \"type\": \"scatter\", \"uid\": \"ee21f720-c202-11e8-a2bd-509a4c0f1ffc\"}, {\"name\": \"\\u674e\\u5e86\\u539f_\\u5982\\u671f\\u5b8c\\u6210\\u9879\\u76ee\\u6570\", \"x\": [\"8-3\", \"8-4\", \"9-1\", \"9-2\", \"9-3\"], \"y\": [0.0, 0.0, 0.0, 0.0, 0.0], \"type\": \"scatter\", \"uid\": \"ee21f721-c202-11e8-92ae-509a4c0f1ffc\"}, {\"name\": \"\\u674e\\u5e86\\u539f_\\u5ef6\\u671f\\u5b8c\\u6210\", \"x\": [\"8-3\", \"8-4\", \"9-1\", \"9-2\", \"9-3\"], \"y\": [0.0, 0.0, 0.0, 0.0, 0.0], \"type\": \"scatter\", \"uid\": \"ee21f722-c202-11e8-a168-509a4c0f1ffc\"}, {\"name\": \"\\u674e\\u5e86\\u539f_\\u5f00\\u53d1\\u4e2d\\u7684\\u9879\\u76ee\\u6570\", \"x\": [\"8-3\", \"8-4\", \"9-1\", \"9-2\", \"9-3\"], \"y\": [0.0, 0.0, 0.0, 0.0, 0.0], \"type\": \"scatter\", \"uid\": \"ee21f723-c202-11e8-a9c8-509a4c0f1ffc\"}, {\"name\": \"\\u674e\\u5e86\\u539f_\\u5ef6\\u671f\\u9879\\u76ee\\u6570\", \"x\": [\"8-3\", \"8-4\", \"9-1\", \"9-2\", \"9-3\"], \"y\": [0.0, 0.0, 0.0, 0.0, 0.0], \"type\": \"scatter\", \"uid\": \"ee21f724-c202-11e8-a45b-509a4c0f1ffc\"}, {\"name\": \"\\u674e\\u5e86\\u539f_\\u6682\\u505c\\u9879\\u76ee\\u6570\", \"x\": [\"8-3\", \"8-4\", \"9-1\", \"9-2\", \"9-3\"], \"y\": [0.0, 0.0, 0.0, 0.0, 0.0], \"type\": \"scatter\", \"uid\": \"ee21f725-c202-11e8-9bec-509a4c0f1ffc\"}, {\"name\": \"\\u8303\\u65ed\\u5b81_\\u5b63\\u5ea6\\u5f00\\u53d1\\u9879\\u76ee\\u6570\", \"x\": [\"8-3\", \"8-4\", \"9-1\", \"9-2\"], \"y\": [18.0, 25.0, 30.0, 7.0], \"type\": \"scatter\", \"uid\": \"ee21f726-c202-11e8-b1a5-509a4c0f1ffc\"}, {\"name\": \"\\u8303\\u65ed\\u5b81_\\u5982\\u671f\\u5b8c\\u6210\\u9879\\u76ee\\u6570\", \"x\": [\"8-3\", \"8-4\", \"9-1\", \"9-2\"], \"y\": [16.0, 23.0, 27.0, 7.0], \"type\": \"scatter\", \"uid\": \"ee21f727-c202-11e8-9d63-509a4c0f1ffc\"}, {\"name\": \"\\u8303\\u65ed\\u5b81_\\u5ef6\\u671f\\u5b8c\\u6210\", \"x\": [\"8-3\", \"8-4\", \"9-1\", \"9-2\"], \"y\": [2.0, 2.0, 3.0, 0.0], \"type\": \"scatter\", \"uid\": \"ee21f728-c202-11e8-81c0-509a4c0f1ffc\"}, {\"name\": \"\\u8303\\u65ed\\u5b81_\\u5f00\\u53d1\\u4e2d\\u7684\\u9879\\u76ee\\u6570\", \"x\": [\"8-3\", \"8-4\", \"9-1\", \"9-2\"], \"y\": [0.0, 1.0, 1.0, 0.0], \"type\": \"scatter\", \"uid\": \"ee21f729-c202-11e8-bb06-509a4c0f1ffc\"}, {\"name\": \"\\u8303\\u65ed\\u5b81_\\u5ef6\\u671f\\u9879\\u76ee\\u6570\", \"x\": [\"8-3\", \"8-4\", \"9-1\", \"9-2\"], \"y\": [0.0, 0.0, 0.0, 0.0], \"type\": \"scatter\", \"uid\": \"ee21f72a-c202-11e8-aee4-509a4c0f1ffc\"}, {\"name\": \"\\u8303\\u65ed\\u5b81_\\u6682\\u505c\\u9879\\u76ee\\u6570\", \"x\": [\"8-3\", \"8-4\", \"9-1\", \"9-2\"], \"y\": [0.0, 0.0, 0.0, 0.0], \"type\": \"scatter\", \"uid\": \"ee21f72b-c202-11e8-b321-509a4c0f1ffc\"}, {\"name\": \"\\u9a6c\\u6f47_\\u5b63\\u5ea6\\u5f00\\u53d1\\u9879\\u76ee\\u6570\", \"x\": [\"8-3\", \"8-4\", \"9-1\", \"9-2\"], \"y\": [0.0, 0.0, 0.0, 0.0], \"type\": \"scatter\", \"uid\": \"ee21f72c-c202-11e8-859d-509a4c0f1ffc\"}, {\"name\": \"\\u9a6c\\u6f47_\\u5982\\u671f\\u5b8c\\u6210\\u9879\\u76ee\\u6570\", \"x\": [\"8-3\", \"8-4\", \"9-1\", \"9-2\"], \"y\": [0.0, 0.0, 0.0, 0.0], \"type\": \"scatter\", \"uid\": \"ee221e02-c202-11e8-b3fd-509a4c0f1ffc\"}, {\"name\": \"\\u9a6c\\u6f47_\\u5ef6\\u671f\\u5b8c\\u6210\", \"x\": [\"8-3\", \"8-4\", \"9-1\", \"9-2\"], \"y\": [0.0, 0.0, 0.0, 0.0], \"type\": \"scatter\", \"uid\": \"ee221e03-c202-11e8-9ef2-509a4c0f1ffc\"}, {\"name\": \"\\u9a6c\\u6f47_\\u5f00\\u53d1\\u4e2d\\u7684\\u9879\\u76ee\\u6570\", \"x\": [\"8-3\", \"8-4\", \"9-1\", \"9-2\"], \"y\": [1.0, 0.0, 0.0, 0.0], \"type\": \"scatter\", \"uid\": \"ee221e04-c202-11e8-9eed-509a4c0f1ffc\"}, {\"name\": \"\\u9a6c\\u6f47_\\u5ef6\\u671f\\u9879\\u76ee\\u6570\", \"x\": [\"8-3\", \"8-4\", \"9-1\", \"9-2\"], \"y\": [1.0, 0.0, 0.0, 0.0], \"type\": \"scatter\", \"uid\": \"ee221e05-c202-11e8-b6a6-509a4c0f1ffc\"}, {\"name\": \"\\u9a6c\\u6f47_\\u6682\\u505c\\u9879\\u76ee\\u6570\", \"x\": [\"8-3\", \"8-4\", \"9-1\", \"9-2\"], \"y\": [0.0, 0.0, 0.0, 0.0], \"type\": \"scatter\", \"uid\": \"ee221e06-c202-11e8-8459-509a4c0f1ffc\"}, {\"name\": \"\\u4efb\\u96ea_\\u5b63\\u5ea6\\u5f00\\u53d1\\u9879\\u76ee\\u6570\", \"x\": [\"8-4\", \"9-1\", \"9-2\", \"9-3\"], \"y\": [27.0, 27.0, 27.0, 27.0], \"type\": \"scatter\", \"uid\": \"ee221e07-c202-11e8-8d80-509a4c0f1ffc\"}, {\"name\": \"\\u4efb\\u96ea_\\u5982\\u671f\\u5b8c\\u6210\\u9879\\u76ee\\u6570\", \"x\": [\"8-4\", \"9-1\", \"9-2\", \"9-3\"], \"y\": [8.0, 8.0, 8.0, 8.0], \"type\": \"scatter\", \"uid\": \"ee221e08-c202-11e8-8896-509a4c0f1ffc\"}, {\"name\": \"\\u4efb\\u96ea_\\u5ef6\\u671f\\u5b8c\\u6210\", \"x\": [\"8-4\", \"9-1\", \"9-2\", \"9-3\"], \"y\": [1.0, 1.0, 1.0, 5.0], \"type\": \"scatter\", \"uid\": \"ee221e09-c202-11e8-8781-509a4c0f1ffc\"}, {\"name\": \"\\u4efb\\u96ea_\\u5f00\\u53d1\\u4e2d\\u7684\\u9879\\u76ee\\u6570\", \"x\": [\"8-4\", \"9-1\", \"9-2\", \"9-3\"], \"y\": [15.0, 8.0, 8.0, 6.0], \"type\": \"scatter\", \"uid\": \"ee221e0a-c202-11e8-ae5d-509a4c0f1ffc\"}, {\"name\": \"\\u4efb\\u96ea_\\u5ef6\\u671f\\u9879\\u76ee\\u6570\", \"x\": [\"8-4\", \"9-1\", \"9-2\", \"9-3\"], \"y\": [3.0, 7.0, 7.0, 4.0], \"type\": \"scatter\", \"uid\": \"ee221e0b-c202-11e8-9c0d-509a4c0f1ffc\"}, {\"name\": \"\\u4efb\\u96ea_\\u6682\\u505c\\u9879\\u76ee\\u6570\", \"x\": [\"8-4\", \"9-1\", \"9-2\", \"9-3\"], \"y\": [0.0, 3.0, 3.0, 4.0], \"type\": \"scatter\", \"uid\": \"ee221e0c-c202-11e8-a365-509a4c0f1ffc\"}],\n",
       "            {\"title\": \"\\u5b63\\u5ea6\\u5f00\\u53d1\\u9879\\u76ee\\u6570&\\u5982\\u671f\\u5b8c\\u6210\\u9879\\u76ee\\u6570&\\u5ef6\\u671f\\u5b8c\\u6210&\\u5f00\\u53d1\\u4e2d\\u7684\\u9879\\u76ee\\u6570&\\u5ef6\\u671f\\u9879\\u76ee\\u6570&\\u6682\\u505c\\u9879\\u76ee\\u6570\\u5468\\u8d8b\\u52bf\\u56fe\", \"xaxis\": {\"mirror\": \"all\", \"nticks\": 20, \"showgrid\": true, \"showline\": true, \"title\": \"\\u5468\", \"zeroline\": true}, \"yaxis\": {\"mirror\": \"all\", \"nticks\": 20, \"showgrid\": true, \"showline\": true, \"title\": \"\\u5b63\\u5ea6\\u5f00\\u53d1\\u9879\\u76ee\\u6570&\\u5982\\u671f\\u5b8c\\u6210\\u9879\\u76ee\\u6570&\\u5ef6\\u671f\\u5b8c\\u6210&\\u5f00\\u53d1\\u4e2d\\u7684\\u9879\\u76ee\\u6570&\\u5ef6\\u671f\\u9879\\u76ee\\u6570&\\u6682\\u505c\\u9879\\u76ee\\u6570\", \"zeroline\": true}},\n",
       "            {\"showLink\": true, \"linkText\": \"Export to plot.ly\"}\n",
       "        ).then(function () {return Plotly.addFrames('17bd787d-664e-404a-b641-062dab993b3d',{});}).then(function(){Plotly.animate('17bd787d-664e-404a-b641-062dab993b3d');})\n",
       "        });</script>"
      ]
     },
     "metadata": {},
     "output_type": "display_data"
    },
    {
     "data": {
      "application/vnd.plotly.v1+json": {
       "data": [
        {
         "name": "于勇一_季度开发项目数",
         "type": "scatter",
         "uid": "eee1c482-c202-11e8-844a-509a4c0f1ffc",
         "x": [
          "8",
          "9"
         ],
         "y": [
          0,
          0
         ]
        },
        {
         "name": "于勇一_如期完成项目数",
         "type": "scatter",
         "uid": "eee1c483-c202-11e8-83ac-509a4c0f1ffc",
         "x": [
          "8",
          "9"
         ],
         "y": [
          0,
          0
         ]
        },
        {
         "name": "于勇一_延期完成",
         "type": "scatter",
         "uid": "eee1c484-c202-11e8-8ef8-509a4c0f1ffc",
         "x": [
          "8",
          "9"
         ],
         "y": [
          0,
          0
         ]
        },
        {
         "name": "于勇一_开发中的项目数",
         "type": "scatter",
         "uid": "eee1c485-c202-11e8-b652-509a4c0f1ffc",
         "x": [
          "8",
          "9"
         ],
         "y": [
          0,
          0
         ]
        },
        {
         "name": "于勇一_延期项目数",
         "type": "scatter",
         "uid": "eee1c486-c202-11e8-ae4f-509a4c0f1ffc",
         "x": [
          "8",
          "9"
         ],
         "y": [
          0,
          0
         ]
        },
        {
         "name": "于勇一_暂停项目数",
         "type": "scatter",
         "uid": "eee1c487-c202-11e8-b8eb-509a4c0f1ffc",
         "x": [
          "8",
          "9"
         ],
         "y": [
          0,
          0
         ]
        },
        {
         "name": "于慧_季度开发项目数",
         "type": "scatter",
         "uid": "eee1c488-c202-11e8-a315-509a4c0f1ffc",
         "x": [
          "8",
          "9"
         ],
         "y": [
          72,
          110
         ]
        },
        {
         "name": "于慧_如期完成项目数",
         "type": "scatter",
         "uid": "eee1c489-c202-11e8-a520-509a4c0f1ffc",
         "x": [
          "8",
          "9"
         ],
         "y": [
          65,
          104
         ]
        },
        {
         "name": "于慧_延期完成",
         "type": "scatter",
         "uid": "eee1c48a-c202-11e8-8cc7-509a4c0f1ffc",
         "x": [
          "8",
          "9"
         ],
         "y": [
          0,
          0
         ]
        },
        {
         "name": "于慧_开发中的项目数",
         "type": "scatter",
         "uid": "eee1c48b-c202-11e8-be8b-509a4c0f1ffc",
         "x": [
          "8",
          "9"
         ],
         "y": [
          7,
          6
         ]
        },
        {
         "name": "于慧_延期项目数",
         "type": "scatter",
         "uid": "eee1eb92-c202-11e8-9e26-509a4c0f1ffc",
         "x": [
          "8",
          "9"
         ],
         "y": [
          0,
          0
         ]
        },
        {
         "name": "于慧_暂停项目数",
         "type": "scatter",
         "uid": "eee1eb93-c202-11e8-b240-509a4c0f1ffc",
         "x": [
          "8",
          "9"
         ],
         "y": [
          0,
          0
         ]
        },
        {
         "name": "任雪_季度开发项目数",
         "type": "scatter",
         "uid": "eee1eb94-c202-11e8-8f2d-509a4c0f1ffc",
         "x": [
          "8",
          "9"
         ],
         "y": [
          null,
          81
         ]
        },
        {
         "name": "任雪_如期完成项目数",
         "type": "scatter",
         "uid": "eee1eb95-c202-11e8-9392-509a4c0f1ffc",
         "x": [
          "8",
          "9"
         ],
         "y": [
          null,
          24
         ]
        },
        {
         "name": "任雪_延期完成",
         "type": "scatter",
         "uid": "eee1eb96-c202-11e8-ab04-509a4c0f1ffc",
         "x": [
          "8",
          "9"
         ],
         "y": [
          null,
          7
         ]
        },
        {
         "name": "任雪_开发中的项目数",
         "type": "scatter",
         "uid": "eee1eb97-c202-11e8-bbe1-509a4c0f1ffc",
         "x": [
          "8",
          "9"
         ],
         "y": [
          null,
          22
         ]
        },
        {
         "name": "任雪_延期项目数",
         "type": "scatter",
         "uid": "eee1eb98-c202-11e8-9ce1-509a4c0f1ffc",
         "x": [
          "8",
          "9"
         ],
         "y": [
          null,
          18
         ]
        },
        {
         "name": "任雪_暂停项目数",
         "type": "scatter",
         "uid": "eee1eb99-c202-11e8-b82f-509a4c0f1ffc",
         "x": [
          "8",
          "9"
         ],
         "y": [
          null,
          10
         ]
        },
        {
         "name": "刘慧玲_季度开发项目数",
         "type": "scatter",
         "uid": "eee1eb9a-c202-11e8-a8a7-509a4c0f1ffc",
         "x": [
          "8",
          "9"
         ],
         "y": [
          16,
          null
         ]
        },
        {
         "name": "刘慧玲_如期完成项目数",
         "type": "scatter",
         "uid": "eee1eb9b-c202-11e8-9ad4-509a4c0f1ffc",
         "x": [
          "8",
          "9"
         ],
         "y": [
          6,
          null
         ]
        },
        {
         "name": "刘慧玲_延期完成",
         "type": "scatter",
         "uid": "eee1eb9c-c202-11e8-a075-509a4c0f1ffc",
         "x": [
          "8",
          "9"
         ],
         "y": [
          2,
          null
         ]
        },
        {
         "name": "刘慧玲_开发中的项目数",
         "type": "scatter",
         "uid": "eee1eb9d-c202-11e8-9cdd-509a4c0f1ffc",
         "x": [
          "8",
          "9"
         ],
         "y": [
          4,
          null
         ]
        },
        {
         "name": "刘慧玲_延期项目数",
         "type": "scatter",
         "uid": "eee1eb9e-c202-11e8-9e28-509a4c0f1ffc",
         "x": [
          "8",
          "9"
         ],
         "y": [
          0,
          null
         ]
        },
        {
         "name": "刘慧玲_暂停项目数",
         "type": "scatter",
         "uid": "eee1eb9f-c202-11e8-a2de-509a4c0f1ffc",
         "x": [
          "8",
          "9"
         ],
         "y": [
          4,
          null
         ]
        },
        {
         "name": "刘江_季度开发项目数",
         "type": "scatter",
         "uid": "eee1eba0-c202-11e8-ab44-509a4c0f1ffc",
         "x": [
          "8",
          "9"
         ],
         "y": [
          6,
          6
         ]
        },
        {
         "name": "刘江_如期完成项目数",
         "type": "scatter",
         "uid": "eee1eba1-c202-11e8-b50c-509a4c0f1ffc",
         "x": [
          "8",
          "9"
         ],
         "y": [
          0,
          0
         ]
        },
        {
         "name": "刘江_延期完成",
         "type": "scatter",
         "uid": "eee1eba2-c202-11e8-9f55-509a4c0f1ffc",
         "x": [
          "8",
          "9"
         ],
         "y": [
          1,
          4
         ]
        },
        {
         "name": "刘江_开发中的项目数",
         "type": "scatter",
         "uid": "eee1eba3-c202-11e8-88c2-509a4c0f1ffc",
         "x": [
          "8",
          "9"
         ],
         "y": [
          5,
          3
         ]
        },
        {
         "name": "刘江_延期项目数",
         "type": "scatter",
         "uid": "eee1eba4-c202-11e8-9cd1-509a4c0f1ffc",
         "x": [
          "8",
          "9"
         ],
         "y": [
          0,
          0
         ]
        },
        {
         "name": "刘江_暂停项目数",
         "type": "scatter",
         "uid": "eee1eba5-c202-11e8-97a2-509a4c0f1ffc",
         "x": [
          "8",
          "9"
         ],
         "y": [
          0,
          1
         ]
        },
        {
         "name": "占伟_季度开发项目数",
         "type": "scatter",
         "uid": "eee1eba6-c202-11e8-a331-509a4c0f1ffc",
         "x": [
          "8",
          "9"
         ],
         "y": [
          37,
          null
         ]
        },
        {
         "name": "占伟_如期完成项目数",
         "type": "scatter",
         "uid": "eee1eba7-c202-11e8-8184-509a4c0f1ffc",
         "x": [
          "8",
          "9"
         ],
         "y": [
          22,
          null
         ]
        },
        {
         "name": "占伟_延期完成",
         "type": "scatter",
         "uid": "eee1eba8-c202-11e8-8282-509a4c0f1ffc",
         "x": [
          "8",
          "9"
         ],
         "y": [
          3,
          null
         ]
        },
        {
         "name": "占伟_开发中的项目数",
         "type": "scatter",
         "uid": "eee1eba9-c202-11e8-aa4b-509a4c0f1ffc",
         "x": [
          "8",
          "9"
         ],
         "y": [
          7,
          null
         ]
        },
        {
         "name": "占伟_延期项目数",
         "type": "scatter",
         "uid": "eee1ebaa-c202-11e8-93dd-509a4c0f1ffc",
         "x": [
          "8",
          "9"
         ],
         "y": [
          6,
          null
         ]
        },
        {
         "name": "占伟_暂停项目数",
         "type": "scatter",
         "uid": "eee1ebab-c202-11e8-9c90-509a4c0f1ffc",
         "x": [
          "8",
          "9"
         ],
         "y": [
          0,
          null
         ]
        },
        {
         "name": "周杨_季度开发项目数",
         "type": "scatter",
         "uid": "eee1ebac-c202-11e8-8bf4-509a4c0f1ffc",
         "x": [
          "8",
          "9"
         ],
         "y": [
          64,
          96
         ]
        },
        {
         "name": "周杨_如期完成项目数",
         "type": "scatter",
         "uid": "eee1ebad-c202-11e8-81d5-509a4c0f1ffc",
         "x": [
          "8",
          "9"
         ],
         "y": [
          56,
          89
         ]
        },
        {
         "name": "周杨_延期完成",
         "type": "scatter",
         "uid": "eee1ebae-c202-11e8-a523-509a4c0f1ffc",
         "x": [
          "8",
          "9"
         ],
         "y": [
          0,
          0
         ]
        },
        {
         "name": "周杨_开发中的项目数",
         "type": "scatter",
         "uid": "eee1ebaf-c202-11e8-ab5f-509a4c0f1ffc",
         "x": [
          "8",
          "9"
         ],
         "y": [
          6,
          5
         ]
        },
        {
         "name": "周杨_延期项目数",
         "type": "scatter",
         "uid": "eee1ebb0-c202-11e8-8ae9-509a4c0f1ffc",
         "x": [
          "8",
          "9"
         ],
         "y": [
          0,
          0
         ]
        },
        {
         "name": "周杨_暂停项目数",
         "type": "scatter",
         "uid": "eee1ebb1-c202-11e8-8f74-509a4c0f1ffc",
         "x": [
          "8",
          "9"
         ],
         "y": [
          2,
          3
         ]
        },
        {
         "name": "姚盟成_季度开发项目数",
         "type": "scatter",
         "uid": "eee1ebb2-c202-11e8-94ed-509a4c0f1ffc",
         "x": [
          "8",
          "9"
         ],
         "y": [
          18,
          27
         ]
        },
        {
         "name": "姚盟成_如期完成项目数",
         "type": "scatter",
         "uid": "eee1ebb3-c202-11e8-846b-509a4c0f1ffc",
         "x": [
          "8",
          "9"
         ],
         "y": [
          6,
          9
         ]
        },
        {
         "name": "姚盟成_延期完成",
         "type": "scatter",
         "uid": "eee1ebb4-c202-11e8-8641-509a4c0f1ffc",
         "x": [
          "8",
          "9"
         ],
         "y": [
          0,
          0
         ]
        },
        {
         "name": "姚盟成_开发中的项目数",
         "type": "scatter",
         "uid": "eee1ebb5-c202-11e8-9355-509a4c0f1ffc",
         "x": [
          "8",
          "9"
         ],
         "y": [
          3,
          12
         ]
        },
        {
         "name": "姚盟成_延期项目数",
         "type": "scatter",
         "uid": "eee1ebb6-c202-11e8-9e2b-509a4c0f1ffc",
         "x": [
          "8",
          "9"
         ],
         "y": [
          0,
          0
         ]
        },
        {
         "name": "姚盟成_暂停项目数",
         "type": "scatter",
         "uid": "eee1ebb7-c202-11e8-9bd6-509a4c0f1ffc",
         "x": [
          "8",
          "9"
         ],
         "y": [
          0,
          12
         ]
        },
        {
         "name": "孟昊_季度开发项目数",
         "type": "scatter",
         "uid": "eee1ebb8-c202-11e8-afe2-509a4c0f1ffc",
         "x": [
          "8",
          "9"
         ],
         "y": [
          86,
          129
         ]
        },
        {
         "name": "孟昊_如期完成项目数",
         "type": "scatter",
         "uid": "eee1ebb9-c202-11e8-8c7a-509a4c0f1ffc",
         "x": [
          "8",
          "9"
         ],
         "y": [
          76,
          116
         ]
        },
        {
         "name": "孟昊_延期完成",
         "type": "scatter",
         "uid": "eee1ebba-c202-11e8-a6cf-509a4c0f1ffc",
         "x": [
          "8",
          "9"
         ],
         "y": [
          0,
          0
         ]
        },
        {
         "name": "孟昊_开发中的项目数",
         "type": "scatter",
         "uid": "eee1ebbb-c202-11e8-8356-509a4c0f1ffc",
         "x": [
          "8",
          "9"
         ],
         "y": [
          4,
          6
         ]
        },
        {
         "name": "孟昊_延期项目数",
         "type": "scatter",
         "uid": "eee1ebbc-c202-11e8-9569-509a4c0f1ffc",
         "x": [
          "8",
          "9"
         ],
         "y": [
          0,
          0
         ]
        },
        {
         "name": "孟昊_暂停项目数",
         "type": "scatter",
         "uid": "eee1ebbd-c202-11e8-9a83-509a4c0f1ffc",
         "x": [
          "8",
          "9"
         ],
         "y": [
          6,
          9
         ]
        },
        {
         "name": "宋迎楠_季度开发项目数",
         "type": "scatter",
         "uid": "eee1ebbe-c202-11e8-a7d7-509a4c0f1ffc",
         "x": [
          "8",
          "9"
         ],
         "y": [
          46,
          null
         ]
        },
        {
         "name": "宋迎楠_如期完成项目数",
         "type": "scatter",
         "uid": "eee1ebbf-c202-11e8-8676-509a4c0f1ffc",
         "x": [
          "8",
          "9"
         ],
         "y": [
          0,
          null
         ]
        },
        {
         "name": "宋迎楠_延期完成",
         "type": "scatter",
         "uid": "eee1ebc0-c202-11e8-8685-509a4c0f1ffc",
         "x": [
          "8",
          "9"
         ],
         "y": [
          17,
          null
         ]
        },
        {
         "name": "宋迎楠_开发中的项目数",
         "type": "scatter",
         "uid": "eee1ebc1-c202-11e8-872f-509a4c0f1ffc",
         "x": [
          "8",
          "9"
         ],
         "y": [
          27,
          null
         ]
        },
        {
         "name": "宋迎楠_延期项目数",
         "type": "scatter",
         "uid": "eee1ebc2-c202-11e8-bbbf-509a4c0f1ffc",
         "x": [
          "8",
          "9"
         ],
         "y": [
          2,
          null
         ]
        },
        {
         "name": "宋迎楠_暂停项目数",
         "type": "scatter",
         "uid": "eee1ebc3-c202-11e8-a998-509a4c0f1ffc",
         "x": [
          "8",
          "9"
         ],
         "y": [
          0,
          null
         ]
        },
        {
         "name": "封彦杰_季度开发项目数",
         "type": "scatter",
         "uid": "eee1ebc4-c202-11e8-b5c2-509a4c0f1ffc",
         "x": [
          "8",
          "9"
         ],
         "y": [
          10,
          15
         ]
        },
        {
         "name": "封彦杰_如期完成项目数",
         "type": "scatter",
         "uid": "eee1ebc5-c202-11e8-8112-509a4c0f1ffc",
         "x": [
          "8",
          "9"
         ],
         "y": [
          0,
          6
         ]
        },
        {
         "name": "封彦杰_延期完成",
         "type": "scatter",
         "uid": "eee1ebc6-c202-11e8-b2f1-509a4c0f1ffc",
         "x": [
          "8",
          "9"
         ],
         "y": [
          0,
          0
         ]
        },
        {
         "name": "封彦杰_开发中的项目数",
         "type": "scatter",
         "uid": "eee1ebc7-c202-11e8-a771-509a4c0f1ffc",
         "x": [
          "8",
          "9"
         ],
         "y": [
          8,
          7
         ]
        },
        {
         "name": "封彦杰_延期项目数",
         "type": "scatter",
         "uid": "eee1ebc8-c202-11e8-8b5d-509a4c0f1ffc",
         "x": [
          "8",
          "9"
         ],
         "y": [
          0,
          0
         ]
        },
        {
         "name": "封彦杰_暂停项目数",
         "type": "scatter",
         "uid": "eee1ebc9-c202-11e8-9193-509a4c0f1ffc",
         "x": [
          "8",
          "9"
         ],
         "y": [
          2,
          2
         ]
        },
        {
         "name": "张守伟_季度开发项目数",
         "type": "scatter",
         "uid": "eee1ebca-c202-11e8-a786-509a4c0f1ffc",
         "x": [
          "8",
          "9"
         ],
         "y": [
          29,
          null
         ]
        },
        {
         "name": "张守伟_如期完成项目数",
         "type": "scatter",
         "uid": "eee1ebcb-c202-11e8-b478-509a4c0f1ffc",
         "x": [
          "8",
          "9"
         ],
         "y": [
          29,
          null
         ]
        },
        {
         "name": "张守伟_延期完成",
         "type": "scatter",
         "uid": "eee1ebcc-c202-11e8-8fa5-509a4c0f1ffc",
         "x": [
          "8",
          "9"
         ],
         "y": [
          0,
          null
         ]
        },
        {
         "name": "张守伟_开发中的项目数",
         "type": "scatter",
         "uid": "eee1ebcd-c202-11e8-90c7-509a4c0f1ffc",
         "x": [
          "8",
          "9"
         ],
         "y": [
          4,
          null
         ]
        },
        {
         "name": "张守伟_延期项目数",
         "type": "scatter",
         "uid": "eee212a2-c202-11e8-a6de-509a4c0f1ffc",
         "x": [
          "8",
          "9"
         ],
         "y": [
          0,
          null
         ]
        },
        {
         "name": "张守伟_暂停项目数",
         "type": "scatter",
         "uid": "eee212a3-c202-11e8-8b77-509a4c0f1ffc",
         "x": [
          "8",
          "9"
         ],
         "y": [
          0,
          null
         ]
        },
        {
         "name": "李华云_季度开发项目数",
         "type": "scatter",
         "uid": "eee212a4-c202-11e8-89c8-509a4c0f1ffc",
         "x": [
          "8",
          "9"
         ],
         "y": [
          70,
          117
         ]
        },
        {
         "name": "李华云_如期完成项目数",
         "type": "scatter",
         "uid": "eee212a5-c202-11e8-9822-509a4c0f1ffc",
         "x": [
          "8",
          "9"
         ],
         "y": [
          10,
          32
         ]
        },
        {
         "name": "李华云_延期完成",
         "type": "scatter",
         "uid": "eee212a6-c202-11e8-967b-509a4c0f1ffc",
         "x": [
          "8",
          "9"
         ],
         "y": [
          0,
          17
         ]
        },
        {
         "name": "李华云_开发中的项目数",
         "type": "scatter",
         "uid": "eee212a7-c202-11e8-bc75-509a4c0f1ffc",
         "x": [
          "8",
          "9"
         ],
         "y": [
          48,
          41
         ]
        },
        {
         "name": "李华云_延期项目数",
         "type": "scatter",
         "uid": "eee212a8-c202-11e8-95f4-509a4c0f1ffc",
         "x": [
          "8",
          "9"
         ],
         "y": [
          12,
          24
         ]
        },
        {
         "name": "李华云_暂停项目数",
         "type": "scatter",
         "uid": "eee212a9-c202-11e8-80ef-509a4c0f1ffc",
         "x": [
          "8",
          "9"
         ],
         "y": [
          0,
          3
         ]
        },
        {
         "name": "李庆原_季度开发项目数",
         "type": "scatter",
         "uid": "eee212aa-c202-11e8-9e70-509a4c0f1ffc",
         "x": [
          "8",
          "9"
         ],
         "y": [
          0,
          0
         ]
        },
        {
         "name": "李庆原_如期完成项目数",
         "type": "scatter",
         "uid": "eee212ab-c202-11e8-b97f-509a4c0f1ffc",
         "x": [
          "8",
          "9"
         ],
         "y": [
          0,
          0
         ]
        },
        {
         "name": "李庆原_延期完成",
         "type": "scatter",
         "uid": "eee212ac-c202-11e8-a8d1-509a4c0f1ffc",
         "x": [
          "8",
          "9"
         ],
         "y": [
          0,
          0
         ]
        },
        {
         "name": "李庆原_开发中的项目数",
         "type": "scatter",
         "uid": "eee212ad-c202-11e8-85ce-509a4c0f1ffc",
         "x": [
          "8",
          "9"
         ],
         "y": [
          0,
          0
         ]
        },
        {
         "name": "李庆原_延期项目数",
         "type": "scatter",
         "uid": "eee212ae-c202-11e8-99fb-509a4c0f1ffc",
         "x": [
          "8",
          "9"
         ],
         "y": [
          0,
          0
         ]
        },
        {
         "name": "李庆原_暂停项目数",
         "type": "scatter",
         "uid": "eee212af-c202-11e8-be04-509a4c0f1ffc",
         "x": [
          "8",
          "9"
         ],
         "y": [
          0,
          0
         ]
        },
        {
         "name": "杨伟飞_季度开发项目数",
         "type": "scatter",
         "uid": "eee212b0-c202-11e8-b660-509a4c0f1ffc",
         "x": [
          "8",
          "9"
         ],
         "y": [
          16,
          24
         ]
        },
        {
         "name": "杨伟飞_如期完成项目数",
         "type": "scatter",
         "uid": "eee212b1-c202-11e8-b96b-509a4c0f1ffc",
         "x": [
          "8",
          "9"
         ],
         "y": [
          4,
          12
         ]
        },
        {
         "name": "杨伟飞_延期完成",
         "type": "scatter",
         "uid": "eee212b2-c202-11e8-80c1-509a4c0f1ffc",
         "x": [
          "8",
          "9"
         ],
         "y": [
          3,
          6
         ]
        },
        {
         "name": "杨伟飞_开发中的项目数",
         "type": "scatter",
         "uid": "eee212b3-c202-11e8-8f66-509a4c0f1ffc",
         "x": [
          "8",
          "9"
         ],
         "y": [
          9,
          6
         ]
        },
        {
         "name": "杨伟飞_延期项目数",
         "type": "scatter",
         "uid": "eee212b4-c202-11e8-9eab-509a4c0f1ffc",
         "x": [
          "8",
          "9"
         ],
         "y": [
          0,
          0
         ]
        },
        {
         "name": "杨伟飞_暂停项目数",
         "type": "scatter",
         "uid": "eee212b5-c202-11e8-a2d0-509a4c0f1ffc",
         "x": [
          "8",
          "9"
         ],
         "y": [
          0,
          0
         ]
        },
        {
         "name": "王宁_季度开发项目数",
         "type": "scatter",
         "uid": "eee212b6-c202-11e8-be43-509a4c0f1ffc",
         "x": [
          "8",
          "9"
         ],
         "y": [
          0,
          null
         ]
        },
        {
         "name": "王宁_如期完成项目数",
         "type": "scatter",
         "uid": "eee212b7-c202-11e8-87ce-509a4c0f1ffc",
         "x": [
          "8",
          "9"
         ],
         "y": [
          0,
          null
         ]
        },
        {
         "name": "王宁_延期完成",
         "type": "scatter",
         "uid": "eee212b8-c202-11e8-80c1-509a4c0f1ffc",
         "x": [
          "8",
          "9"
         ],
         "y": [
          0,
          null
         ]
        },
        {
         "name": "王宁_开发中的项目数",
         "type": "scatter",
         "uid": "eee212b9-c202-11e8-89c2-509a4c0f1ffc",
         "x": [
          "8",
          "9"
         ],
         "y": [
          0,
          null
         ]
        },
        {
         "name": "王宁_延期项目数",
         "type": "scatter",
         "uid": "eee212ba-c202-11e8-9bb9-509a4c0f1ffc",
         "x": [
          "8",
          "9"
         ],
         "y": [
          0,
          null
         ]
        },
        {
         "name": "王宁_暂停项目数",
         "type": "scatter",
         "uid": "eee212bb-c202-11e8-97cb-509a4c0f1ffc",
         "x": [
          "8",
          "9"
         ],
         "y": [
          0,
          null
         ]
        },
        {
         "name": "苏彦勋_季度开发项目数",
         "type": "scatter",
         "uid": "eee212bc-c202-11e8-a997-509a4c0f1ffc",
         "x": [
          "8",
          "9"
         ],
         "y": [
          66,
          99
         ]
        },
        {
         "name": "苏彦勋_如期完成项目数",
         "type": "scatter",
         "uid": "eee212bd-c202-11e8-9afd-509a4c0f1ffc",
         "x": [
          "8",
          "9"
         ],
         "y": [
          41,
          72
         ]
        },
        {
         "name": "苏彦勋_延期完成",
         "type": "scatter",
         "uid": "eee212be-c202-11e8-b23a-509a4c0f1ffc",
         "x": [
          "8",
          "9"
         ],
         "y": [
          0,
          0
         ]
        },
        {
         "name": "苏彦勋_开发中的项目数",
         "type": "scatter",
         "uid": "eee212bf-c202-11e8-9c24-509a4c0f1ffc",
         "x": [
          "8",
          "9"
         ],
         "y": [
          9,
          3
         ]
        },
        {
         "name": "苏彦勋_延期项目数",
         "type": "scatter",
         "uid": "eee212c0-c202-11e8-bcfe-509a4c0f1ffc",
         "x": [
          "8",
          "9"
         ],
         "y": [
          0,
          0
         ]
        },
        {
         "name": "苏彦勋_暂停项目数",
         "type": "scatter",
         "uid": "eee212c1-c202-11e8-95a7-509a4c0f1ffc",
         "x": [
          "8",
          "9"
         ],
         "y": [
          16,
          24
         ]
        },
        {
         "name": "范旭宁_季度开发项目数",
         "type": "scatter",
         "uid": "eee212c2-c202-11e8-8b6e-509a4c0f1ffc",
         "x": [
          "8",
          "9"
         ],
         "y": [
          43,
          null
         ]
        },
        {
         "name": "范旭宁_如期完成项目数",
         "type": "scatter",
         "uid": "eee212c3-c202-11e8-8260-509a4c0f1ffc",
         "x": [
          "8",
          "9"
         ],
         "y": [
          39,
          null
         ]
        },
        {
         "name": "范旭宁_延期完成",
         "type": "scatter",
         "uid": "eee212c4-c202-11e8-901c-509a4c0f1ffc",
         "x": [
          "8",
          "9"
         ],
         "y": [
          4,
          null
         ]
        },
        {
         "name": "范旭宁_开发中的项目数",
         "type": "scatter",
         "uid": "eee212c5-c202-11e8-8ffe-509a4c0f1ffc",
         "x": [
          "8",
          "9"
         ],
         "y": [
          1,
          null
         ]
        },
        {
         "name": "范旭宁_延期项目数",
         "type": "scatter",
         "uid": "eee212c6-c202-11e8-844c-509a4c0f1ffc",
         "x": [
          "8",
          "9"
         ],
         "y": [
          0,
          null
         ]
        },
        {
         "name": "范旭宁_暂停项目数",
         "type": "scatter",
         "uid": "eee212c7-c202-11e8-9ced-509a4c0f1ffc",
         "x": [
          "8",
          "9"
         ],
         "y": [
          0,
          null
         ]
        },
        {
         "name": "谢德健_季度开发项目数",
         "type": "scatter",
         "uid": "eee212c8-c202-11e8-89b9-509a4c0f1ffc",
         "x": [
          "8",
          "9"
         ],
         "y": [
          0,
          null
         ]
        },
        {
         "name": "谢德健_如期完成项目数",
         "type": "scatter",
         "uid": "eee212c9-c202-11e8-9e09-509a4c0f1ffc",
         "x": [
          "8",
          "9"
         ],
         "y": [
          0,
          null
         ]
        },
        {
         "name": "谢德健_延期完成",
         "type": "scatter",
         "uid": "eee212ca-c202-11e8-b89d-509a4c0f1ffc",
         "x": [
          "8",
          "9"
         ],
         "y": [
          0,
          null
         ]
        },
        {
         "name": "谢德健_开发中的项目数",
         "type": "scatter",
         "uid": "eee212cb-c202-11e8-8b9b-509a4c0f1ffc",
         "x": [
          "8",
          "9"
         ],
         "y": [
          0,
          null
         ]
        },
        {
         "name": "谢德健_延期项目数",
         "type": "scatter",
         "uid": "eee212cc-c202-11e8-91f8-509a4c0f1ffc",
         "x": [
          "8",
          "9"
         ],
         "y": [
          0,
          null
         ]
        },
        {
         "name": "谢德健_暂停项目数",
         "type": "scatter",
         "uid": "eee212cd-c202-11e8-9850-509a4c0f1ffc",
         "x": [
          "8",
          "9"
         ],
         "y": [
          0,
          null
         ]
        },
        {
         "name": "赵玥_季度开发项目数",
         "type": "scatter",
         "uid": "eee212ce-c202-11e8-aaa5-509a4c0f1ffc",
         "x": [
          "8",
          "9"
         ],
         "y": [
          43,
          null
         ]
        },
        {
         "name": "赵玥_如期完成项目数",
         "type": "scatter",
         "uid": "eee212cf-c202-11e8-ad17-509a4c0f1ffc",
         "x": [
          "8",
          "9"
         ],
         "y": [
          41,
          null
         ]
        },
        {
         "name": "赵玥_延期完成",
         "type": "scatter",
         "uid": "eee212d0-c202-11e8-94a6-509a4c0f1ffc",
         "x": [
          "8",
          "9"
         ],
         "y": [
          2,
          null
         ]
        },
        {
         "name": "赵玥_开发中的项目数",
         "type": "scatter",
         "uid": "eee212d1-c202-11e8-921e-509a4c0f1ffc",
         "x": [
          "8",
          "9"
         ],
         "y": [
          2,
          null
         ]
        },
        {
         "name": "赵玥_延期项目数",
         "type": "scatter",
         "uid": "eee212d2-c202-11e8-91de-509a4c0f1ffc",
         "x": [
          "8",
          "9"
         ],
         "y": [
          0,
          null
         ]
        },
        {
         "name": "赵玥_暂停项目数",
         "type": "scatter",
         "uid": "eee212d3-c202-11e8-a98f-509a4c0f1ffc",
         "x": [
          "8",
          "9"
         ],
         "y": [
          0,
          null
         ]
        },
        {
         "name": "路慧萍_季度开发项目数",
         "type": "scatter",
         "uid": "eee212d4-c202-11e8-88fd-509a4c0f1ffc",
         "x": [
          "8",
          "9"
         ],
         "y": [
          0,
          0
         ]
        },
        {
         "name": "路慧萍_如期完成项目数",
         "type": "scatter",
         "uid": "eee212d5-c202-11e8-aa03-509a4c0f1ffc",
         "x": [
          "8",
          "9"
         ],
         "y": [
          0,
          0
         ]
        },
        {
         "name": "路慧萍_延期完成",
         "type": "scatter",
         "uid": "eee212d6-c202-11e8-82b7-509a4c0f1ffc",
         "x": [
          "8",
          "9"
         ],
         "y": [
          0,
          0
         ]
        },
        {
         "name": "路慧萍_开发中的项目数",
         "type": "scatter",
         "uid": "eee212d7-c202-11e8-93e8-509a4c0f1ffc",
         "x": [
          "8",
          "9"
         ],
         "y": [
          0,
          0
         ]
        },
        {
         "name": "路慧萍_延期项目数",
         "type": "scatter",
         "uid": "eee212d8-c202-11e8-845f-509a4c0f1ffc",
         "x": [
          "8",
          "9"
         ],
         "y": [
          0,
          0
         ]
        },
        {
         "name": "路慧萍_暂停项目数",
         "type": "scatter",
         "uid": "eee212d9-c202-11e8-9aaf-509a4c0f1ffc",
         "x": [
          "8",
          "9"
         ],
         "y": [
          0,
          2
         ]
        },
        {
         "name": "韩少怀_季度开发项目数",
         "type": "scatter",
         "uid": "eee212da-c202-11e8-ba26-509a4c0f1ffc",
         "x": [
          "8",
          "9"
         ],
         "y": [
          14,
          null
         ]
        },
        {
         "name": "韩少怀_如期完成项目数",
         "type": "scatter",
         "uid": "eee212db-c202-11e8-8a7f-509a4c0f1ffc",
         "x": [
          "8",
          "9"
         ],
         "y": [
          10,
          null
         ]
        },
        {
         "name": "韩少怀_延期完成",
         "type": "scatter",
         "uid": "eee212dc-c202-11e8-891e-509a4c0f1ffc",
         "x": [
          "8",
          "9"
         ],
         "y": [
          0,
          null
         ]
        },
        {
         "name": "韩少怀_开发中的项目数",
         "type": "scatter",
         "uid": "eee212dd-c202-11e8-ba19-509a4c0f1ffc",
         "x": [
          "8",
          "9"
         ],
         "y": [
          3,
          null
         ]
        },
        {
         "name": "韩少怀_延期项目数",
         "type": "scatter",
         "uid": "eee212de-c202-11e8-a17a-509a4c0f1ffc",
         "x": [
          "8",
          "9"
         ],
         "y": [
          0,
          null
         ]
        },
        {
         "name": "韩少怀_暂停项目数",
         "type": "scatter",
         "uid": "eee239b4-c202-11e8-b620-509a4c0f1ffc",
         "x": [
          "8",
          "9"
         ],
         "y": [
          0,
          null
         ]
        },
        {
         "name": "马潇_季度开发项目数",
         "type": "scatter",
         "uid": "eee239b5-c202-11e8-b6c2-509a4c0f1ffc",
         "x": [
          "8",
          "9"
         ],
         "y": [
          0,
          null
         ]
        },
        {
         "name": "马潇_如期完成项目数",
         "type": "scatter",
         "uid": "eee239b6-c202-11e8-862f-509a4c0f1ffc",
         "x": [
          "8",
          "9"
         ],
         "y": [
          0,
          null
         ]
        },
        {
         "name": "马潇_延期完成",
         "type": "scatter",
         "uid": "eee239b7-c202-11e8-862a-509a4c0f1ffc",
         "x": [
          "8",
          "9"
         ],
         "y": [
          0,
          null
         ]
        },
        {
         "name": "马潇_开发中的项目数",
         "type": "scatter",
         "uid": "eee239b8-c202-11e8-a4ab-509a4c0f1ffc",
         "x": [
          "8",
          "9"
         ],
         "y": [
          1,
          null
         ]
        },
        {
         "name": "马潇_延期项目数",
         "type": "scatter",
         "uid": "eee239b9-c202-11e8-b281-509a4c0f1ffc",
         "x": [
          "8",
          "9"
         ],
         "y": [
          1,
          null
         ]
        },
        {
         "name": "马潇_暂停项目数",
         "type": "scatter",
         "uid": "eee239ba-c202-11e8-9e4f-509a4c0f1ffc",
         "x": [
          "8",
          "9"
         ],
         "y": [
          0,
          null
         ]
        }
       ],
       "layout": {
        "title": "季度开发项目数&如期完成项目数&延期完成&开发中的项目数&延期项目数&暂停项目数月趋势图",
        "xaxis": {
         "mirror": "all",
         "nticks": 20,
         "showgrid": true,
         "showline": true,
         "title": "月",
         "zeroline": true
        },
        "yaxis": {
         "mirror": "all",
         "nticks": 20,
         "showgrid": true,
         "showline": true,
         "title": "季度开发项目数&如期完成项目数&延期完成&开发中的项目数&延期项目数&暂停项目数",
         "zeroline": true
        }
       }
      },
      "text/html": [
       "<div id=\"a52904b6-af41-4ae5-b57d-84da3c1a4af8\" style=\"height: 525px; width: 100%;\" class=\"plotly-graph-div\"></div><script type=\"text/javascript\">require([\"plotly\"], function(Plotly) { window.PLOTLYENV=window.PLOTLYENV || {};window.PLOTLYENV.BASE_URL=\"https://plot.ly\";\n",
       "        Plotly.plot(\n",
       "            'a52904b6-af41-4ae5-b57d-84da3c1a4af8',\n",
       "            [{\"name\": \"\\u4e8e\\u52c7\\u4e00_\\u5b63\\u5ea6\\u5f00\\u53d1\\u9879\\u76ee\\u6570\", \"x\": [\"8\", \"9\"], \"y\": [0.0, 0.0], \"type\": \"scatter\", \"uid\": \"eee1c482-c202-11e8-844a-509a4c0f1ffc\"}, {\"name\": \"\\u4e8e\\u52c7\\u4e00_\\u5982\\u671f\\u5b8c\\u6210\\u9879\\u76ee\\u6570\", \"x\": [\"8\", \"9\"], \"y\": [0.0, 0.0], \"type\": \"scatter\", \"uid\": \"eee1c483-c202-11e8-83ac-509a4c0f1ffc\"}, {\"name\": \"\\u4e8e\\u52c7\\u4e00_\\u5ef6\\u671f\\u5b8c\\u6210\", \"x\": [\"8\", \"9\"], \"y\": [0.0, 0.0], \"type\": \"scatter\", \"uid\": \"eee1c484-c202-11e8-8ef8-509a4c0f1ffc\"}, {\"name\": \"\\u4e8e\\u52c7\\u4e00_\\u5f00\\u53d1\\u4e2d\\u7684\\u9879\\u76ee\\u6570\", \"x\": [\"8\", \"9\"], \"y\": [0.0, 0.0], \"type\": \"scatter\", \"uid\": \"eee1c485-c202-11e8-b652-509a4c0f1ffc\"}, {\"name\": \"\\u4e8e\\u52c7\\u4e00_\\u5ef6\\u671f\\u9879\\u76ee\\u6570\", \"x\": [\"8\", \"9\"], \"y\": [0.0, 0.0], \"type\": \"scatter\", \"uid\": \"eee1c486-c202-11e8-ae4f-509a4c0f1ffc\"}, {\"name\": \"\\u4e8e\\u52c7\\u4e00_\\u6682\\u505c\\u9879\\u76ee\\u6570\", \"x\": [\"8\", \"9\"], \"y\": [0.0, 0.0], \"type\": \"scatter\", \"uid\": \"eee1c487-c202-11e8-b8eb-509a4c0f1ffc\"}, {\"name\": \"\\u4e8e\\u6167_\\u5b63\\u5ea6\\u5f00\\u53d1\\u9879\\u76ee\\u6570\", \"x\": [\"8\", \"9\"], \"y\": [72.0, 110.0], \"type\": \"scatter\", \"uid\": \"eee1c488-c202-11e8-a315-509a4c0f1ffc\"}, {\"name\": \"\\u4e8e\\u6167_\\u5982\\u671f\\u5b8c\\u6210\\u9879\\u76ee\\u6570\", \"x\": [\"8\", \"9\"], \"y\": [65.0, 104.0], \"type\": \"scatter\", \"uid\": \"eee1c489-c202-11e8-a520-509a4c0f1ffc\"}, {\"name\": \"\\u4e8e\\u6167_\\u5ef6\\u671f\\u5b8c\\u6210\", \"x\": [\"8\", \"9\"], \"y\": [0.0, 0.0], \"type\": \"scatter\", \"uid\": \"eee1c48a-c202-11e8-8cc7-509a4c0f1ffc\"}, {\"name\": \"\\u4e8e\\u6167_\\u5f00\\u53d1\\u4e2d\\u7684\\u9879\\u76ee\\u6570\", \"x\": [\"8\", \"9\"], \"y\": [7.0, 6.0], \"type\": \"scatter\", \"uid\": \"eee1c48b-c202-11e8-be8b-509a4c0f1ffc\"}, {\"name\": \"\\u4e8e\\u6167_\\u5ef6\\u671f\\u9879\\u76ee\\u6570\", \"x\": [\"8\", \"9\"], \"y\": [0.0, 0.0], \"type\": \"scatter\", \"uid\": \"eee1eb92-c202-11e8-9e26-509a4c0f1ffc\"}, {\"name\": \"\\u4e8e\\u6167_\\u6682\\u505c\\u9879\\u76ee\\u6570\", \"x\": [\"8\", \"9\"], \"y\": [0.0, 0.0], \"type\": \"scatter\", \"uid\": \"eee1eb93-c202-11e8-b240-509a4c0f1ffc\"}, {\"name\": \"\\u4efb\\u96ea_\\u5b63\\u5ea6\\u5f00\\u53d1\\u9879\\u76ee\\u6570\", \"x\": [\"8\", \"9\"], \"y\": [null, 81.0], \"type\": \"scatter\", \"uid\": \"eee1eb94-c202-11e8-8f2d-509a4c0f1ffc\"}, {\"name\": \"\\u4efb\\u96ea_\\u5982\\u671f\\u5b8c\\u6210\\u9879\\u76ee\\u6570\", \"x\": [\"8\", \"9\"], \"y\": [null, 24.0], \"type\": \"scatter\", \"uid\": \"eee1eb95-c202-11e8-9392-509a4c0f1ffc\"}, {\"name\": \"\\u4efb\\u96ea_\\u5ef6\\u671f\\u5b8c\\u6210\", \"x\": [\"8\", \"9\"], \"y\": [null, 7.0], \"type\": \"scatter\", \"uid\": \"eee1eb96-c202-11e8-ab04-509a4c0f1ffc\"}, {\"name\": \"\\u4efb\\u96ea_\\u5f00\\u53d1\\u4e2d\\u7684\\u9879\\u76ee\\u6570\", \"x\": [\"8\", \"9\"], \"y\": [null, 22.0], \"type\": \"scatter\", \"uid\": \"eee1eb97-c202-11e8-bbe1-509a4c0f1ffc\"}, {\"name\": \"\\u4efb\\u96ea_\\u5ef6\\u671f\\u9879\\u76ee\\u6570\", \"x\": [\"8\", \"9\"], \"y\": [null, 18.0], \"type\": \"scatter\", \"uid\": \"eee1eb98-c202-11e8-9ce1-509a4c0f1ffc\"}, {\"name\": \"\\u4efb\\u96ea_\\u6682\\u505c\\u9879\\u76ee\\u6570\", \"x\": [\"8\", \"9\"], \"y\": [null, 10.0], \"type\": \"scatter\", \"uid\": \"eee1eb99-c202-11e8-b82f-509a4c0f1ffc\"}, {\"name\": \"\\u5218\\u6167\\u73b2_\\u5b63\\u5ea6\\u5f00\\u53d1\\u9879\\u76ee\\u6570\", \"x\": [\"8\", \"9\"], \"y\": [16.0, null], \"type\": \"scatter\", \"uid\": \"eee1eb9a-c202-11e8-a8a7-509a4c0f1ffc\"}, {\"name\": \"\\u5218\\u6167\\u73b2_\\u5982\\u671f\\u5b8c\\u6210\\u9879\\u76ee\\u6570\", \"x\": [\"8\", \"9\"], \"y\": [6.0, null], \"type\": \"scatter\", \"uid\": \"eee1eb9b-c202-11e8-9ad4-509a4c0f1ffc\"}, {\"name\": \"\\u5218\\u6167\\u73b2_\\u5ef6\\u671f\\u5b8c\\u6210\", \"x\": [\"8\", \"9\"], \"y\": [2.0, null], \"type\": \"scatter\", \"uid\": \"eee1eb9c-c202-11e8-a075-509a4c0f1ffc\"}, {\"name\": \"\\u5218\\u6167\\u73b2_\\u5f00\\u53d1\\u4e2d\\u7684\\u9879\\u76ee\\u6570\", \"x\": [\"8\", \"9\"], \"y\": [4.0, null], \"type\": \"scatter\", \"uid\": \"eee1eb9d-c202-11e8-9cdd-509a4c0f1ffc\"}, {\"name\": \"\\u5218\\u6167\\u73b2_\\u5ef6\\u671f\\u9879\\u76ee\\u6570\", \"x\": [\"8\", \"9\"], \"y\": [0.0, null], \"type\": \"scatter\", \"uid\": \"eee1eb9e-c202-11e8-9e28-509a4c0f1ffc\"}, {\"name\": \"\\u5218\\u6167\\u73b2_\\u6682\\u505c\\u9879\\u76ee\\u6570\", \"x\": [\"8\", \"9\"], \"y\": [4.0, null], \"type\": \"scatter\", \"uid\": \"eee1eb9f-c202-11e8-a2de-509a4c0f1ffc\"}, {\"name\": \"\\u5218\\u6c5f_\\u5b63\\u5ea6\\u5f00\\u53d1\\u9879\\u76ee\\u6570\", \"x\": [\"8\", \"9\"], \"y\": [6.0, 6.0], \"type\": \"scatter\", \"uid\": \"eee1eba0-c202-11e8-ab44-509a4c0f1ffc\"}, {\"name\": \"\\u5218\\u6c5f_\\u5982\\u671f\\u5b8c\\u6210\\u9879\\u76ee\\u6570\", \"x\": [\"8\", \"9\"], \"y\": [0.0, 0.0], \"type\": \"scatter\", \"uid\": \"eee1eba1-c202-11e8-b50c-509a4c0f1ffc\"}, {\"name\": \"\\u5218\\u6c5f_\\u5ef6\\u671f\\u5b8c\\u6210\", \"x\": [\"8\", \"9\"], \"y\": [1.0, 4.0], \"type\": \"scatter\", \"uid\": \"eee1eba2-c202-11e8-9f55-509a4c0f1ffc\"}, {\"name\": \"\\u5218\\u6c5f_\\u5f00\\u53d1\\u4e2d\\u7684\\u9879\\u76ee\\u6570\", \"x\": [\"8\", \"9\"], \"y\": [5.0, 3.0], \"type\": \"scatter\", \"uid\": \"eee1eba3-c202-11e8-88c2-509a4c0f1ffc\"}, {\"name\": \"\\u5218\\u6c5f_\\u5ef6\\u671f\\u9879\\u76ee\\u6570\", \"x\": [\"8\", \"9\"], \"y\": [0.0, 0.0], \"type\": \"scatter\", \"uid\": \"eee1eba4-c202-11e8-9cd1-509a4c0f1ffc\"}, {\"name\": \"\\u5218\\u6c5f_\\u6682\\u505c\\u9879\\u76ee\\u6570\", \"x\": [\"8\", \"9\"], \"y\": [0.0, 1.0], \"type\": \"scatter\", \"uid\": \"eee1eba5-c202-11e8-97a2-509a4c0f1ffc\"}, {\"name\": \"\\u5360\\u4f1f_\\u5b63\\u5ea6\\u5f00\\u53d1\\u9879\\u76ee\\u6570\", \"x\": [\"8\", \"9\"], \"y\": [37.0, null], \"type\": \"scatter\", \"uid\": \"eee1eba6-c202-11e8-a331-509a4c0f1ffc\"}, {\"name\": \"\\u5360\\u4f1f_\\u5982\\u671f\\u5b8c\\u6210\\u9879\\u76ee\\u6570\", \"x\": [\"8\", \"9\"], \"y\": [22.0, null], \"type\": \"scatter\", \"uid\": \"eee1eba7-c202-11e8-8184-509a4c0f1ffc\"}, {\"name\": \"\\u5360\\u4f1f_\\u5ef6\\u671f\\u5b8c\\u6210\", \"x\": [\"8\", \"9\"], \"y\": [3.0, null], \"type\": \"scatter\", \"uid\": \"eee1eba8-c202-11e8-8282-509a4c0f1ffc\"}, {\"name\": \"\\u5360\\u4f1f_\\u5f00\\u53d1\\u4e2d\\u7684\\u9879\\u76ee\\u6570\", \"x\": [\"8\", \"9\"], \"y\": [7.0, null], \"type\": \"scatter\", \"uid\": \"eee1eba9-c202-11e8-aa4b-509a4c0f1ffc\"}, {\"name\": \"\\u5360\\u4f1f_\\u5ef6\\u671f\\u9879\\u76ee\\u6570\", \"x\": [\"8\", \"9\"], \"y\": [6.0, null], \"type\": \"scatter\", \"uid\": \"eee1ebaa-c202-11e8-93dd-509a4c0f1ffc\"}, {\"name\": \"\\u5360\\u4f1f_\\u6682\\u505c\\u9879\\u76ee\\u6570\", \"x\": [\"8\", \"9\"], \"y\": [0.0, null], \"type\": \"scatter\", \"uid\": \"eee1ebab-c202-11e8-9c90-509a4c0f1ffc\"}, {\"name\": \"\\u5468\\u6768_\\u5b63\\u5ea6\\u5f00\\u53d1\\u9879\\u76ee\\u6570\", \"x\": [\"8\", \"9\"], \"y\": [64.0, 96.0], \"type\": \"scatter\", \"uid\": \"eee1ebac-c202-11e8-8bf4-509a4c0f1ffc\"}, {\"name\": \"\\u5468\\u6768_\\u5982\\u671f\\u5b8c\\u6210\\u9879\\u76ee\\u6570\", \"x\": [\"8\", \"9\"], \"y\": [56.0, 89.0], \"type\": \"scatter\", \"uid\": \"eee1ebad-c202-11e8-81d5-509a4c0f1ffc\"}, {\"name\": \"\\u5468\\u6768_\\u5ef6\\u671f\\u5b8c\\u6210\", \"x\": [\"8\", \"9\"], \"y\": [0.0, 0.0], \"type\": \"scatter\", \"uid\": \"eee1ebae-c202-11e8-a523-509a4c0f1ffc\"}, {\"name\": \"\\u5468\\u6768_\\u5f00\\u53d1\\u4e2d\\u7684\\u9879\\u76ee\\u6570\", \"x\": [\"8\", \"9\"], \"y\": [6.0, 5.0], \"type\": \"scatter\", \"uid\": \"eee1ebaf-c202-11e8-ab5f-509a4c0f1ffc\"}, {\"name\": \"\\u5468\\u6768_\\u5ef6\\u671f\\u9879\\u76ee\\u6570\", \"x\": [\"8\", \"9\"], \"y\": [0.0, 0.0], \"type\": \"scatter\", \"uid\": \"eee1ebb0-c202-11e8-8ae9-509a4c0f1ffc\"}, {\"name\": \"\\u5468\\u6768_\\u6682\\u505c\\u9879\\u76ee\\u6570\", \"x\": [\"8\", \"9\"], \"y\": [2.0, 3.0], \"type\": \"scatter\", \"uid\": \"eee1ebb1-c202-11e8-8f74-509a4c0f1ffc\"}, {\"name\": \"\\u59da\\u76df\\u6210_\\u5b63\\u5ea6\\u5f00\\u53d1\\u9879\\u76ee\\u6570\", \"x\": [\"8\", \"9\"], \"y\": [18.0, 27.0], \"type\": \"scatter\", \"uid\": \"eee1ebb2-c202-11e8-94ed-509a4c0f1ffc\"}, {\"name\": \"\\u59da\\u76df\\u6210_\\u5982\\u671f\\u5b8c\\u6210\\u9879\\u76ee\\u6570\", \"x\": [\"8\", \"9\"], \"y\": [6.0, 9.0], \"type\": \"scatter\", \"uid\": \"eee1ebb3-c202-11e8-846b-509a4c0f1ffc\"}, {\"name\": \"\\u59da\\u76df\\u6210_\\u5ef6\\u671f\\u5b8c\\u6210\", \"x\": [\"8\", \"9\"], \"y\": [0.0, 0.0], \"type\": \"scatter\", \"uid\": \"eee1ebb4-c202-11e8-8641-509a4c0f1ffc\"}, {\"name\": \"\\u59da\\u76df\\u6210_\\u5f00\\u53d1\\u4e2d\\u7684\\u9879\\u76ee\\u6570\", \"x\": [\"8\", \"9\"], \"y\": [3.0, 12.0], \"type\": \"scatter\", \"uid\": \"eee1ebb5-c202-11e8-9355-509a4c0f1ffc\"}, {\"name\": \"\\u59da\\u76df\\u6210_\\u5ef6\\u671f\\u9879\\u76ee\\u6570\", \"x\": [\"8\", \"9\"], \"y\": [0.0, 0.0], \"type\": \"scatter\", \"uid\": \"eee1ebb6-c202-11e8-9e2b-509a4c0f1ffc\"}, {\"name\": \"\\u59da\\u76df\\u6210_\\u6682\\u505c\\u9879\\u76ee\\u6570\", \"x\": [\"8\", \"9\"], \"y\": [0.0, 12.0], \"type\": \"scatter\", \"uid\": \"eee1ebb7-c202-11e8-9bd6-509a4c0f1ffc\"}, {\"name\": \"\\u5b5f\\u660a_\\u5b63\\u5ea6\\u5f00\\u53d1\\u9879\\u76ee\\u6570\", \"x\": [\"8\", \"9\"], \"y\": [86.0, 129.0], \"type\": \"scatter\", \"uid\": \"eee1ebb8-c202-11e8-afe2-509a4c0f1ffc\"}, {\"name\": \"\\u5b5f\\u660a_\\u5982\\u671f\\u5b8c\\u6210\\u9879\\u76ee\\u6570\", \"x\": [\"8\", \"9\"], \"y\": [76.0, 116.0], \"type\": \"scatter\", \"uid\": \"eee1ebb9-c202-11e8-8c7a-509a4c0f1ffc\"}, {\"name\": \"\\u5b5f\\u660a_\\u5ef6\\u671f\\u5b8c\\u6210\", \"x\": [\"8\", \"9\"], \"y\": [0.0, 0.0], \"type\": \"scatter\", \"uid\": \"eee1ebba-c202-11e8-a6cf-509a4c0f1ffc\"}, {\"name\": \"\\u5b5f\\u660a_\\u5f00\\u53d1\\u4e2d\\u7684\\u9879\\u76ee\\u6570\", \"x\": [\"8\", \"9\"], \"y\": [4.0, 6.0], \"type\": \"scatter\", \"uid\": \"eee1ebbb-c202-11e8-8356-509a4c0f1ffc\"}, {\"name\": \"\\u5b5f\\u660a_\\u5ef6\\u671f\\u9879\\u76ee\\u6570\", \"x\": [\"8\", \"9\"], \"y\": [0.0, 0.0], \"type\": \"scatter\", \"uid\": \"eee1ebbc-c202-11e8-9569-509a4c0f1ffc\"}, {\"name\": \"\\u5b5f\\u660a_\\u6682\\u505c\\u9879\\u76ee\\u6570\", \"x\": [\"8\", \"9\"], \"y\": [6.0, 9.0], \"type\": \"scatter\", \"uid\": \"eee1ebbd-c202-11e8-9a83-509a4c0f1ffc\"}, {\"name\": \"\\u5b8b\\u8fce\\u6960_\\u5b63\\u5ea6\\u5f00\\u53d1\\u9879\\u76ee\\u6570\", \"x\": [\"8\", \"9\"], \"y\": [46.0, null], \"type\": \"scatter\", \"uid\": \"eee1ebbe-c202-11e8-a7d7-509a4c0f1ffc\"}, {\"name\": \"\\u5b8b\\u8fce\\u6960_\\u5982\\u671f\\u5b8c\\u6210\\u9879\\u76ee\\u6570\", \"x\": [\"8\", \"9\"], \"y\": [0.0, null], \"type\": \"scatter\", \"uid\": \"eee1ebbf-c202-11e8-8676-509a4c0f1ffc\"}, {\"name\": \"\\u5b8b\\u8fce\\u6960_\\u5ef6\\u671f\\u5b8c\\u6210\", \"x\": [\"8\", \"9\"], \"y\": [17.0, null], \"type\": \"scatter\", \"uid\": \"eee1ebc0-c202-11e8-8685-509a4c0f1ffc\"}, {\"name\": \"\\u5b8b\\u8fce\\u6960_\\u5f00\\u53d1\\u4e2d\\u7684\\u9879\\u76ee\\u6570\", \"x\": [\"8\", \"9\"], \"y\": [27.0, null], \"type\": \"scatter\", \"uid\": \"eee1ebc1-c202-11e8-872f-509a4c0f1ffc\"}, {\"name\": \"\\u5b8b\\u8fce\\u6960_\\u5ef6\\u671f\\u9879\\u76ee\\u6570\", \"x\": [\"8\", \"9\"], \"y\": [2.0, null], \"type\": \"scatter\", \"uid\": \"eee1ebc2-c202-11e8-bbbf-509a4c0f1ffc\"}, {\"name\": \"\\u5b8b\\u8fce\\u6960_\\u6682\\u505c\\u9879\\u76ee\\u6570\", \"x\": [\"8\", \"9\"], \"y\": [0.0, null], \"type\": \"scatter\", \"uid\": \"eee1ebc3-c202-11e8-a998-509a4c0f1ffc\"}, {\"name\": \"\\u5c01\\u5f66\\u6770_\\u5b63\\u5ea6\\u5f00\\u53d1\\u9879\\u76ee\\u6570\", \"x\": [\"8\", \"9\"], \"y\": [10.0, 15.0], \"type\": \"scatter\", \"uid\": \"eee1ebc4-c202-11e8-b5c2-509a4c0f1ffc\"}, {\"name\": \"\\u5c01\\u5f66\\u6770_\\u5982\\u671f\\u5b8c\\u6210\\u9879\\u76ee\\u6570\", \"x\": [\"8\", \"9\"], \"y\": [0.0, 6.0], \"type\": \"scatter\", \"uid\": \"eee1ebc5-c202-11e8-8112-509a4c0f1ffc\"}, {\"name\": \"\\u5c01\\u5f66\\u6770_\\u5ef6\\u671f\\u5b8c\\u6210\", \"x\": [\"8\", \"9\"], \"y\": [0.0, 0.0], \"type\": \"scatter\", \"uid\": \"eee1ebc6-c202-11e8-b2f1-509a4c0f1ffc\"}, {\"name\": \"\\u5c01\\u5f66\\u6770_\\u5f00\\u53d1\\u4e2d\\u7684\\u9879\\u76ee\\u6570\", \"x\": [\"8\", \"9\"], \"y\": [8.0, 7.0], \"type\": \"scatter\", \"uid\": \"eee1ebc7-c202-11e8-a771-509a4c0f1ffc\"}, {\"name\": \"\\u5c01\\u5f66\\u6770_\\u5ef6\\u671f\\u9879\\u76ee\\u6570\", \"x\": [\"8\", \"9\"], \"y\": [0.0, 0.0], \"type\": \"scatter\", \"uid\": \"eee1ebc8-c202-11e8-8b5d-509a4c0f1ffc\"}, {\"name\": \"\\u5c01\\u5f66\\u6770_\\u6682\\u505c\\u9879\\u76ee\\u6570\", \"x\": [\"8\", \"9\"], \"y\": [2.0, 2.0], \"type\": \"scatter\", \"uid\": \"eee1ebc9-c202-11e8-9193-509a4c0f1ffc\"}, {\"name\": \"\\u5f20\\u5b88\\u4f1f_\\u5b63\\u5ea6\\u5f00\\u53d1\\u9879\\u76ee\\u6570\", \"x\": [\"8\", \"9\"], \"y\": [29.0, null], \"type\": \"scatter\", \"uid\": \"eee1ebca-c202-11e8-a786-509a4c0f1ffc\"}, {\"name\": \"\\u5f20\\u5b88\\u4f1f_\\u5982\\u671f\\u5b8c\\u6210\\u9879\\u76ee\\u6570\", \"x\": [\"8\", \"9\"], \"y\": [29.0, null], \"type\": \"scatter\", \"uid\": \"eee1ebcb-c202-11e8-b478-509a4c0f1ffc\"}, {\"name\": \"\\u5f20\\u5b88\\u4f1f_\\u5ef6\\u671f\\u5b8c\\u6210\", \"x\": [\"8\", \"9\"], \"y\": [0.0, null], \"type\": \"scatter\", \"uid\": \"eee1ebcc-c202-11e8-8fa5-509a4c0f1ffc\"}, {\"name\": \"\\u5f20\\u5b88\\u4f1f_\\u5f00\\u53d1\\u4e2d\\u7684\\u9879\\u76ee\\u6570\", \"x\": [\"8\", \"9\"], \"y\": [4.0, null], \"type\": \"scatter\", \"uid\": \"eee1ebcd-c202-11e8-90c7-509a4c0f1ffc\"}, {\"name\": \"\\u5f20\\u5b88\\u4f1f_\\u5ef6\\u671f\\u9879\\u76ee\\u6570\", \"x\": [\"8\", \"9\"], \"y\": [0.0, null], \"type\": \"scatter\", \"uid\": \"eee212a2-c202-11e8-a6de-509a4c0f1ffc\"}, {\"name\": \"\\u5f20\\u5b88\\u4f1f_\\u6682\\u505c\\u9879\\u76ee\\u6570\", \"x\": [\"8\", \"9\"], \"y\": [0.0, null], \"type\": \"scatter\", \"uid\": \"eee212a3-c202-11e8-8b77-509a4c0f1ffc\"}, {\"name\": \"\\u674e\\u534e\\u4e91_\\u5b63\\u5ea6\\u5f00\\u53d1\\u9879\\u76ee\\u6570\", \"x\": [\"8\", \"9\"], \"y\": [70.0, 117.0], \"type\": \"scatter\", \"uid\": \"eee212a4-c202-11e8-89c8-509a4c0f1ffc\"}, {\"name\": \"\\u674e\\u534e\\u4e91_\\u5982\\u671f\\u5b8c\\u6210\\u9879\\u76ee\\u6570\", \"x\": [\"8\", \"9\"], \"y\": [10.0, 32.0], \"type\": \"scatter\", \"uid\": \"eee212a5-c202-11e8-9822-509a4c0f1ffc\"}, {\"name\": \"\\u674e\\u534e\\u4e91_\\u5ef6\\u671f\\u5b8c\\u6210\", \"x\": [\"8\", \"9\"], \"y\": [0.0, 17.0], \"type\": \"scatter\", \"uid\": \"eee212a6-c202-11e8-967b-509a4c0f1ffc\"}, {\"name\": \"\\u674e\\u534e\\u4e91_\\u5f00\\u53d1\\u4e2d\\u7684\\u9879\\u76ee\\u6570\", \"x\": [\"8\", \"9\"], \"y\": [48.0, 41.0], \"type\": \"scatter\", \"uid\": \"eee212a7-c202-11e8-bc75-509a4c0f1ffc\"}, {\"name\": \"\\u674e\\u534e\\u4e91_\\u5ef6\\u671f\\u9879\\u76ee\\u6570\", \"x\": [\"8\", \"9\"], \"y\": [12.0, 24.0], \"type\": \"scatter\", \"uid\": \"eee212a8-c202-11e8-95f4-509a4c0f1ffc\"}, {\"name\": \"\\u674e\\u534e\\u4e91_\\u6682\\u505c\\u9879\\u76ee\\u6570\", \"x\": [\"8\", \"9\"], \"y\": [0.0, 3.0], \"type\": \"scatter\", \"uid\": \"eee212a9-c202-11e8-80ef-509a4c0f1ffc\"}, {\"name\": \"\\u674e\\u5e86\\u539f_\\u5b63\\u5ea6\\u5f00\\u53d1\\u9879\\u76ee\\u6570\", \"x\": [\"8\", \"9\"], \"y\": [0.0, 0.0], \"type\": \"scatter\", \"uid\": \"eee212aa-c202-11e8-9e70-509a4c0f1ffc\"}, {\"name\": \"\\u674e\\u5e86\\u539f_\\u5982\\u671f\\u5b8c\\u6210\\u9879\\u76ee\\u6570\", \"x\": [\"8\", \"9\"], \"y\": [0.0, 0.0], \"type\": \"scatter\", \"uid\": \"eee212ab-c202-11e8-b97f-509a4c0f1ffc\"}, {\"name\": \"\\u674e\\u5e86\\u539f_\\u5ef6\\u671f\\u5b8c\\u6210\", \"x\": [\"8\", \"9\"], \"y\": [0.0, 0.0], \"type\": \"scatter\", \"uid\": \"eee212ac-c202-11e8-a8d1-509a4c0f1ffc\"}, {\"name\": \"\\u674e\\u5e86\\u539f_\\u5f00\\u53d1\\u4e2d\\u7684\\u9879\\u76ee\\u6570\", \"x\": [\"8\", \"9\"], \"y\": [0.0, 0.0], \"type\": \"scatter\", \"uid\": \"eee212ad-c202-11e8-85ce-509a4c0f1ffc\"}, {\"name\": \"\\u674e\\u5e86\\u539f_\\u5ef6\\u671f\\u9879\\u76ee\\u6570\", \"x\": [\"8\", \"9\"], \"y\": [0.0, 0.0], \"type\": \"scatter\", \"uid\": \"eee212ae-c202-11e8-99fb-509a4c0f1ffc\"}, {\"name\": \"\\u674e\\u5e86\\u539f_\\u6682\\u505c\\u9879\\u76ee\\u6570\", \"x\": [\"8\", \"9\"], \"y\": [0.0, 0.0], \"type\": \"scatter\", \"uid\": \"eee212af-c202-11e8-be04-509a4c0f1ffc\"}, {\"name\": \"\\u6768\\u4f1f\\u98de_\\u5b63\\u5ea6\\u5f00\\u53d1\\u9879\\u76ee\\u6570\", \"x\": [\"8\", \"9\"], \"y\": [16.0, 24.0], \"type\": \"scatter\", \"uid\": \"eee212b0-c202-11e8-b660-509a4c0f1ffc\"}, {\"name\": \"\\u6768\\u4f1f\\u98de_\\u5982\\u671f\\u5b8c\\u6210\\u9879\\u76ee\\u6570\", \"x\": [\"8\", \"9\"], \"y\": [4.0, 12.0], \"type\": \"scatter\", \"uid\": \"eee212b1-c202-11e8-b96b-509a4c0f1ffc\"}, {\"name\": \"\\u6768\\u4f1f\\u98de_\\u5ef6\\u671f\\u5b8c\\u6210\", \"x\": [\"8\", \"9\"], \"y\": [3.0, 6.0], \"type\": \"scatter\", \"uid\": \"eee212b2-c202-11e8-80c1-509a4c0f1ffc\"}, {\"name\": \"\\u6768\\u4f1f\\u98de_\\u5f00\\u53d1\\u4e2d\\u7684\\u9879\\u76ee\\u6570\", \"x\": [\"8\", \"9\"], \"y\": [9.0, 6.0], \"type\": \"scatter\", \"uid\": \"eee212b3-c202-11e8-8f66-509a4c0f1ffc\"}, {\"name\": \"\\u6768\\u4f1f\\u98de_\\u5ef6\\u671f\\u9879\\u76ee\\u6570\", \"x\": [\"8\", \"9\"], \"y\": [0.0, 0.0], \"type\": \"scatter\", \"uid\": \"eee212b4-c202-11e8-9eab-509a4c0f1ffc\"}, {\"name\": \"\\u6768\\u4f1f\\u98de_\\u6682\\u505c\\u9879\\u76ee\\u6570\", \"x\": [\"8\", \"9\"], \"y\": [0.0, 0.0], \"type\": \"scatter\", \"uid\": \"eee212b5-c202-11e8-a2d0-509a4c0f1ffc\"}, {\"name\": \"\\u738b\\u5b81_\\u5b63\\u5ea6\\u5f00\\u53d1\\u9879\\u76ee\\u6570\", \"x\": [\"8\", \"9\"], \"y\": [0.0, null], \"type\": \"scatter\", \"uid\": \"eee212b6-c202-11e8-be43-509a4c0f1ffc\"}, {\"name\": \"\\u738b\\u5b81_\\u5982\\u671f\\u5b8c\\u6210\\u9879\\u76ee\\u6570\", \"x\": [\"8\", \"9\"], \"y\": [0.0, null], \"type\": \"scatter\", \"uid\": \"eee212b7-c202-11e8-87ce-509a4c0f1ffc\"}, {\"name\": \"\\u738b\\u5b81_\\u5ef6\\u671f\\u5b8c\\u6210\", \"x\": [\"8\", \"9\"], \"y\": [0.0, null], \"type\": \"scatter\", \"uid\": \"eee212b8-c202-11e8-80c1-509a4c0f1ffc\"}, {\"name\": \"\\u738b\\u5b81_\\u5f00\\u53d1\\u4e2d\\u7684\\u9879\\u76ee\\u6570\", \"x\": [\"8\", \"9\"], \"y\": [0.0, null], \"type\": \"scatter\", \"uid\": \"eee212b9-c202-11e8-89c2-509a4c0f1ffc\"}, {\"name\": \"\\u738b\\u5b81_\\u5ef6\\u671f\\u9879\\u76ee\\u6570\", \"x\": [\"8\", \"9\"], \"y\": [0.0, null], \"type\": \"scatter\", \"uid\": \"eee212ba-c202-11e8-9bb9-509a4c0f1ffc\"}, {\"name\": \"\\u738b\\u5b81_\\u6682\\u505c\\u9879\\u76ee\\u6570\", \"x\": [\"8\", \"9\"], \"y\": [0.0, null], \"type\": \"scatter\", \"uid\": \"eee212bb-c202-11e8-97cb-509a4c0f1ffc\"}, {\"name\": \"\\u82cf\\u5f66\\u52cb_\\u5b63\\u5ea6\\u5f00\\u53d1\\u9879\\u76ee\\u6570\", \"x\": [\"8\", \"9\"], \"y\": [66.0, 99.0], \"type\": \"scatter\", \"uid\": \"eee212bc-c202-11e8-a997-509a4c0f1ffc\"}, {\"name\": \"\\u82cf\\u5f66\\u52cb_\\u5982\\u671f\\u5b8c\\u6210\\u9879\\u76ee\\u6570\", \"x\": [\"8\", \"9\"], \"y\": [41.0, 72.0], \"type\": \"scatter\", \"uid\": \"eee212bd-c202-11e8-9afd-509a4c0f1ffc\"}, {\"name\": \"\\u82cf\\u5f66\\u52cb_\\u5ef6\\u671f\\u5b8c\\u6210\", \"x\": [\"8\", \"9\"], \"y\": [0.0, 0.0], \"type\": \"scatter\", \"uid\": \"eee212be-c202-11e8-b23a-509a4c0f1ffc\"}, {\"name\": \"\\u82cf\\u5f66\\u52cb_\\u5f00\\u53d1\\u4e2d\\u7684\\u9879\\u76ee\\u6570\", \"x\": [\"8\", \"9\"], \"y\": [9.0, 3.0], \"type\": \"scatter\", \"uid\": \"eee212bf-c202-11e8-9c24-509a4c0f1ffc\"}, {\"name\": \"\\u82cf\\u5f66\\u52cb_\\u5ef6\\u671f\\u9879\\u76ee\\u6570\", \"x\": [\"8\", \"9\"], \"y\": [0.0, 0.0], \"type\": \"scatter\", \"uid\": \"eee212c0-c202-11e8-bcfe-509a4c0f1ffc\"}, {\"name\": \"\\u82cf\\u5f66\\u52cb_\\u6682\\u505c\\u9879\\u76ee\\u6570\", \"x\": [\"8\", \"9\"], \"y\": [16.0, 24.0], \"type\": \"scatter\", \"uid\": \"eee212c1-c202-11e8-95a7-509a4c0f1ffc\"}, {\"name\": \"\\u8303\\u65ed\\u5b81_\\u5b63\\u5ea6\\u5f00\\u53d1\\u9879\\u76ee\\u6570\", \"x\": [\"8\", \"9\"], \"y\": [43.0, null], \"type\": \"scatter\", \"uid\": \"eee212c2-c202-11e8-8b6e-509a4c0f1ffc\"}, {\"name\": \"\\u8303\\u65ed\\u5b81_\\u5982\\u671f\\u5b8c\\u6210\\u9879\\u76ee\\u6570\", \"x\": [\"8\", \"9\"], \"y\": [39.0, null], \"type\": \"scatter\", \"uid\": \"eee212c3-c202-11e8-8260-509a4c0f1ffc\"}, {\"name\": \"\\u8303\\u65ed\\u5b81_\\u5ef6\\u671f\\u5b8c\\u6210\", \"x\": [\"8\", \"9\"], \"y\": [4.0, null], \"type\": \"scatter\", \"uid\": \"eee212c4-c202-11e8-901c-509a4c0f1ffc\"}, {\"name\": \"\\u8303\\u65ed\\u5b81_\\u5f00\\u53d1\\u4e2d\\u7684\\u9879\\u76ee\\u6570\", \"x\": [\"8\", \"9\"], \"y\": [1.0, null], \"type\": \"scatter\", \"uid\": \"eee212c5-c202-11e8-8ffe-509a4c0f1ffc\"}, {\"name\": \"\\u8303\\u65ed\\u5b81_\\u5ef6\\u671f\\u9879\\u76ee\\u6570\", \"x\": [\"8\", \"9\"], \"y\": [0.0, null], \"type\": \"scatter\", \"uid\": \"eee212c6-c202-11e8-844c-509a4c0f1ffc\"}, {\"name\": \"\\u8303\\u65ed\\u5b81_\\u6682\\u505c\\u9879\\u76ee\\u6570\", \"x\": [\"8\", \"9\"], \"y\": [0.0, null], \"type\": \"scatter\", \"uid\": \"eee212c7-c202-11e8-9ced-509a4c0f1ffc\"}, {\"name\": \"\\u8c22\\u5fb7\\u5065_\\u5b63\\u5ea6\\u5f00\\u53d1\\u9879\\u76ee\\u6570\", \"x\": [\"8\", \"9\"], \"y\": [0.0, null], \"type\": \"scatter\", \"uid\": \"eee212c8-c202-11e8-89b9-509a4c0f1ffc\"}, {\"name\": \"\\u8c22\\u5fb7\\u5065_\\u5982\\u671f\\u5b8c\\u6210\\u9879\\u76ee\\u6570\", \"x\": [\"8\", \"9\"], \"y\": [0.0, null], \"type\": \"scatter\", \"uid\": \"eee212c9-c202-11e8-9e09-509a4c0f1ffc\"}, {\"name\": \"\\u8c22\\u5fb7\\u5065_\\u5ef6\\u671f\\u5b8c\\u6210\", \"x\": [\"8\", \"9\"], \"y\": [0.0, null], \"type\": \"scatter\", \"uid\": \"eee212ca-c202-11e8-b89d-509a4c0f1ffc\"}, {\"name\": \"\\u8c22\\u5fb7\\u5065_\\u5f00\\u53d1\\u4e2d\\u7684\\u9879\\u76ee\\u6570\", \"x\": [\"8\", \"9\"], \"y\": [0.0, null], \"type\": \"scatter\", \"uid\": \"eee212cb-c202-11e8-8b9b-509a4c0f1ffc\"}, {\"name\": \"\\u8c22\\u5fb7\\u5065_\\u5ef6\\u671f\\u9879\\u76ee\\u6570\", \"x\": [\"8\", \"9\"], \"y\": [0.0, null], \"type\": \"scatter\", \"uid\": \"eee212cc-c202-11e8-91f8-509a4c0f1ffc\"}, {\"name\": \"\\u8c22\\u5fb7\\u5065_\\u6682\\u505c\\u9879\\u76ee\\u6570\", \"x\": [\"8\", \"9\"], \"y\": [0.0, null], \"type\": \"scatter\", \"uid\": \"eee212cd-c202-11e8-9850-509a4c0f1ffc\"}, {\"name\": \"\\u8d75\\u73a5_\\u5b63\\u5ea6\\u5f00\\u53d1\\u9879\\u76ee\\u6570\", \"x\": [\"8\", \"9\"], \"y\": [43.0, null], \"type\": \"scatter\", \"uid\": \"eee212ce-c202-11e8-aaa5-509a4c0f1ffc\"}, {\"name\": \"\\u8d75\\u73a5_\\u5982\\u671f\\u5b8c\\u6210\\u9879\\u76ee\\u6570\", \"x\": [\"8\", \"9\"], \"y\": [41.0, null], \"type\": \"scatter\", \"uid\": \"eee212cf-c202-11e8-ad17-509a4c0f1ffc\"}, {\"name\": \"\\u8d75\\u73a5_\\u5ef6\\u671f\\u5b8c\\u6210\", \"x\": [\"8\", \"9\"], \"y\": [2.0, null], \"type\": \"scatter\", \"uid\": \"eee212d0-c202-11e8-94a6-509a4c0f1ffc\"}, {\"name\": \"\\u8d75\\u73a5_\\u5f00\\u53d1\\u4e2d\\u7684\\u9879\\u76ee\\u6570\", \"x\": [\"8\", \"9\"], \"y\": [2.0, null], \"type\": \"scatter\", \"uid\": \"eee212d1-c202-11e8-921e-509a4c0f1ffc\"}, {\"name\": \"\\u8d75\\u73a5_\\u5ef6\\u671f\\u9879\\u76ee\\u6570\", \"x\": [\"8\", \"9\"], \"y\": [0.0, null], \"type\": \"scatter\", \"uid\": \"eee212d2-c202-11e8-91de-509a4c0f1ffc\"}, {\"name\": \"\\u8d75\\u73a5_\\u6682\\u505c\\u9879\\u76ee\\u6570\", \"x\": [\"8\", \"9\"], \"y\": [0.0, null], \"type\": \"scatter\", \"uid\": \"eee212d3-c202-11e8-a98f-509a4c0f1ffc\"}, {\"name\": \"\\u8def\\u6167\\u840d_\\u5b63\\u5ea6\\u5f00\\u53d1\\u9879\\u76ee\\u6570\", \"x\": [\"8\", \"9\"], \"y\": [0.0, 0.0], \"type\": \"scatter\", \"uid\": \"eee212d4-c202-11e8-88fd-509a4c0f1ffc\"}, {\"name\": \"\\u8def\\u6167\\u840d_\\u5982\\u671f\\u5b8c\\u6210\\u9879\\u76ee\\u6570\", \"x\": [\"8\", \"9\"], \"y\": [0.0, 0.0], \"type\": \"scatter\", \"uid\": \"eee212d5-c202-11e8-aa03-509a4c0f1ffc\"}, {\"name\": \"\\u8def\\u6167\\u840d_\\u5ef6\\u671f\\u5b8c\\u6210\", \"x\": [\"8\", \"9\"], \"y\": [0.0, 0.0], \"type\": \"scatter\", \"uid\": \"eee212d6-c202-11e8-82b7-509a4c0f1ffc\"}, {\"name\": \"\\u8def\\u6167\\u840d_\\u5f00\\u53d1\\u4e2d\\u7684\\u9879\\u76ee\\u6570\", \"x\": [\"8\", \"9\"], \"y\": [0.0, 0.0], \"type\": \"scatter\", \"uid\": \"eee212d7-c202-11e8-93e8-509a4c0f1ffc\"}, {\"name\": \"\\u8def\\u6167\\u840d_\\u5ef6\\u671f\\u9879\\u76ee\\u6570\", \"x\": [\"8\", \"9\"], \"y\": [0.0, 0.0], \"type\": \"scatter\", \"uid\": \"eee212d8-c202-11e8-845f-509a4c0f1ffc\"}, {\"name\": \"\\u8def\\u6167\\u840d_\\u6682\\u505c\\u9879\\u76ee\\u6570\", \"x\": [\"8\", \"9\"], \"y\": [0.0, 2.0], \"type\": \"scatter\", \"uid\": \"eee212d9-c202-11e8-9aaf-509a4c0f1ffc\"}, {\"name\": \"\\u97e9\\u5c11\\u6000_\\u5b63\\u5ea6\\u5f00\\u53d1\\u9879\\u76ee\\u6570\", \"x\": [\"8\", \"9\"], \"y\": [14.0, null], \"type\": \"scatter\", \"uid\": \"eee212da-c202-11e8-ba26-509a4c0f1ffc\"}, {\"name\": \"\\u97e9\\u5c11\\u6000_\\u5982\\u671f\\u5b8c\\u6210\\u9879\\u76ee\\u6570\", \"x\": [\"8\", \"9\"], \"y\": [10.0, null], \"type\": \"scatter\", \"uid\": \"eee212db-c202-11e8-8a7f-509a4c0f1ffc\"}, {\"name\": \"\\u97e9\\u5c11\\u6000_\\u5ef6\\u671f\\u5b8c\\u6210\", \"x\": [\"8\", \"9\"], \"y\": [0.0, null], \"type\": \"scatter\", \"uid\": \"eee212dc-c202-11e8-891e-509a4c0f1ffc\"}, {\"name\": \"\\u97e9\\u5c11\\u6000_\\u5f00\\u53d1\\u4e2d\\u7684\\u9879\\u76ee\\u6570\", \"x\": [\"8\", \"9\"], \"y\": [3.0, null], \"type\": \"scatter\", \"uid\": \"eee212dd-c202-11e8-ba19-509a4c0f1ffc\"}, {\"name\": \"\\u97e9\\u5c11\\u6000_\\u5ef6\\u671f\\u9879\\u76ee\\u6570\", \"x\": [\"8\", \"9\"], \"y\": [0.0, null], \"type\": \"scatter\", \"uid\": \"eee212de-c202-11e8-a17a-509a4c0f1ffc\"}, {\"name\": \"\\u97e9\\u5c11\\u6000_\\u6682\\u505c\\u9879\\u76ee\\u6570\", \"x\": [\"8\", \"9\"], \"y\": [0.0, null], \"type\": \"scatter\", \"uid\": \"eee239b4-c202-11e8-b620-509a4c0f1ffc\"}, {\"name\": \"\\u9a6c\\u6f47_\\u5b63\\u5ea6\\u5f00\\u53d1\\u9879\\u76ee\\u6570\", \"x\": [\"8\", \"9\"], \"y\": [0.0, null], \"type\": \"scatter\", \"uid\": \"eee239b5-c202-11e8-b6c2-509a4c0f1ffc\"}, {\"name\": \"\\u9a6c\\u6f47_\\u5982\\u671f\\u5b8c\\u6210\\u9879\\u76ee\\u6570\", \"x\": [\"8\", \"9\"], \"y\": [0.0, null], \"type\": \"scatter\", \"uid\": \"eee239b6-c202-11e8-862f-509a4c0f1ffc\"}, {\"name\": \"\\u9a6c\\u6f47_\\u5ef6\\u671f\\u5b8c\\u6210\", \"x\": [\"8\", \"9\"], \"y\": [0.0, null], \"type\": \"scatter\", \"uid\": \"eee239b7-c202-11e8-862a-509a4c0f1ffc\"}, {\"name\": \"\\u9a6c\\u6f47_\\u5f00\\u53d1\\u4e2d\\u7684\\u9879\\u76ee\\u6570\", \"x\": [\"8\", \"9\"], \"y\": [1.0, null], \"type\": \"scatter\", \"uid\": \"eee239b8-c202-11e8-a4ab-509a4c0f1ffc\"}, {\"name\": \"\\u9a6c\\u6f47_\\u5ef6\\u671f\\u9879\\u76ee\\u6570\", \"x\": [\"8\", \"9\"], \"y\": [1.0, null], \"type\": \"scatter\", \"uid\": \"eee239b9-c202-11e8-b281-509a4c0f1ffc\"}, {\"name\": \"\\u9a6c\\u6f47_\\u6682\\u505c\\u9879\\u76ee\\u6570\", \"x\": [\"8\", \"9\"], \"y\": [0.0, null], \"type\": \"scatter\", \"uid\": \"eee239ba-c202-11e8-9e4f-509a4c0f1ffc\"}],\n",
       "            {\"title\": \"\\u5b63\\u5ea6\\u5f00\\u53d1\\u9879\\u76ee\\u6570&\\u5982\\u671f\\u5b8c\\u6210\\u9879\\u76ee\\u6570&\\u5ef6\\u671f\\u5b8c\\u6210&\\u5f00\\u53d1\\u4e2d\\u7684\\u9879\\u76ee\\u6570&\\u5ef6\\u671f\\u9879\\u76ee\\u6570&\\u6682\\u505c\\u9879\\u76ee\\u6570\\u6708\\u8d8b\\u52bf\\u56fe\", \"xaxis\": {\"mirror\": \"all\", \"nticks\": 20, \"showgrid\": true, \"showline\": true, \"title\": \"\\u6708\", \"zeroline\": true}, \"yaxis\": {\"mirror\": \"all\", \"nticks\": 20, \"showgrid\": true, \"showline\": true, \"title\": \"\\u5b63\\u5ea6\\u5f00\\u53d1\\u9879\\u76ee\\u6570&\\u5982\\u671f\\u5b8c\\u6210\\u9879\\u76ee\\u6570&\\u5ef6\\u671f\\u5b8c\\u6210&\\u5f00\\u53d1\\u4e2d\\u7684\\u9879\\u76ee\\u6570&\\u5ef6\\u671f\\u9879\\u76ee\\u6570&\\u6682\\u505c\\u9879\\u76ee\\u6570\", \"zeroline\": true}},\n",
       "            {\"showLink\": true, \"linkText\": \"Export to plot.ly\"}\n",
       "        ).then(function () {return Plotly.addFrames('a52904b6-af41-4ae5-b57d-84da3c1a4af8',{});}).then(function(){Plotly.animate('a52904b6-af41-4ae5-b57d-84da3c1a4af8');})\n",
       "        });</script>"
      ],
      "text/vnd.plotly.v1+html": [
       "<div id=\"a52904b6-af41-4ae5-b57d-84da3c1a4af8\" style=\"height: 525px; width: 100%;\" class=\"plotly-graph-div\"></div><script type=\"text/javascript\">require([\"plotly\"], function(Plotly) { window.PLOTLYENV=window.PLOTLYENV || {};window.PLOTLYENV.BASE_URL=\"https://plot.ly\";\n",
       "        Plotly.plot(\n",
       "            'a52904b6-af41-4ae5-b57d-84da3c1a4af8',\n",
       "            [{\"name\": \"\\u4e8e\\u52c7\\u4e00_\\u5b63\\u5ea6\\u5f00\\u53d1\\u9879\\u76ee\\u6570\", \"x\": [\"8\", \"9\"], \"y\": [0.0, 0.0], \"type\": \"scatter\", \"uid\": \"eee1c482-c202-11e8-844a-509a4c0f1ffc\"}, {\"name\": \"\\u4e8e\\u52c7\\u4e00_\\u5982\\u671f\\u5b8c\\u6210\\u9879\\u76ee\\u6570\", \"x\": [\"8\", \"9\"], \"y\": [0.0, 0.0], \"type\": \"scatter\", \"uid\": \"eee1c483-c202-11e8-83ac-509a4c0f1ffc\"}, {\"name\": \"\\u4e8e\\u52c7\\u4e00_\\u5ef6\\u671f\\u5b8c\\u6210\", \"x\": [\"8\", \"9\"], \"y\": [0.0, 0.0], \"type\": \"scatter\", \"uid\": \"eee1c484-c202-11e8-8ef8-509a4c0f1ffc\"}, {\"name\": \"\\u4e8e\\u52c7\\u4e00_\\u5f00\\u53d1\\u4e2d\\u7684\\u9879\\u76ee\\u6570\", \"x\": [\"8\", \"9\"], \"y\": [0.0, 0.0], \"type\": \"scatter\", \"uid\": \"eee1c485-c202-11e8-b652-509a4c0f1ffc\"}, {\"name\": \"\\u4e8e\\u52c7\\u4e00_\\u5ef6\\u671f\\u9879\\u76ee\\u6570\", \"x\": [\"8\", \"9\"], \"y\": [0.0, 0.0], \"type\": \"scatter\", \"uid\": \"eee1c486-c202-11e8-ae4f-509a4c0f1ffc\"}, {\"name\": \"\\u4e8e\\u52c7\\u4e00_\\u6682\\u505c\\u9879\\u76ee\\u6570\", \"x\": [\"8\", \"9\"], \"y\": [0.0, 0.0], \"type\": \"scatter\", \"uid\": \"eee1c487-c202-11e8-b8eb-509a4c0f1ffc\"}, {\"name\": \"\\u4e8e\\u6167_\\u5b63\\u5ea6\\u5f00\\u53d1\\u9879\\u76ee\\u6570\", \"x\": [\"8\", \"9\"], \"y\": [72.0, 110.0], \"type\": \"scatter\", \"uid\": \"eee1c488-c202-11e8-a315-509a4c0f1ffc\"}, {\"name\": \"\\u4e8e\\u6167_\\u5982\\u671f\\u5b8c\\u6210\\u9879\\u76ee\\u6570\", \"x\": [\"8\", \"9\"], \"y\": [65.0, 104.0], \"type\": \"scatter\", \"uid\": \"eee1c489-c202-11e8-a520-509a4c0f1ffc\"}, {\"name\": \"\\u4e8e\\u6167_\\u5ef6\\u671f\\u5b8c\\u6210\", \"x\": [\"8\", \"9\"], \"y\": [0.0, 0.0], \"type\": \"scatter\", \"uid\": \"eee1c48a-c202-11e8-8cc7-509a4c0f1ffc\"}, {\"name\": \"\\u4e8e\\u6167_\\u5f00\\u53d1\\u4e2d\\u7684\\u9879\\u76ee\\u6570\", \"x\": [\"8\", \"9\"], \"y\": [7.0, 6.0], \"type\": \"scatter\", \"uid\": \"eee1c48b-c202-11e8-be8b-509a4c0f1ffc\"}, {\"name\": \"\\u4e8e\\u6167_\\u5ef6\\u671f\\u9879\\u76ee\\u6570\", \"x\": [\"8\", \"9\"], \"y\": [0.0, 0.0], \"type\": \"scatter\", \"uid\": \"eee1eb92-c202-11e8-9e26-509a4c0f1ffc\"}, {\"name\": \"\\u4e8e\\u6167_\\u6682\\u505c\\u9879\\u76ee\\u6570\", \"x\": [\"8\", \"9\"], \"y\": [0.0, 0.0], \"type\": \"scatter\", \"uid\": \"eee1eb93-c202-11e8-b240-509a4c0f1ffc\"}, {\"name\": \"\\u4efb\\u96ea_\\u5b63\\u5ea6\\u5f00\\u53d1\\u9879\\u76ee\\u6570\", \"x\": [\"8\", \"9\"], \"y\": [null, 81.0], \"type\": \"scatter\", \"uid\": \"eee1eb94-c202-11e8-8f2d-509a4c0f1ffc\"}, {\"name\": \"\\u4efb\\u96ea_\\u5982\\u671f\\u5b8c\\u6210\\u9879\\u76ee\\u6570\", \"x\": [\"8\", \"9\"], \"y\": [null, 24.0], \"type\": \"scatter\", \"uid\": \"eee1eb95-c202-11e8-9392-509a4c0f1ffc\"}, {\"name\": \"\\u4efb\\u96ea_\\u5ef6\\u671f\\u5b8c\\u6210\", \"x\": [\"8\", \"9\"], \"y\": [null, 7.0], \"type\": \"scatter\", \"uid\": \"eee1eb96-c202-11e8-ab04-509a4c0f1ffc\"}, {\"name\": \"\\u4efb\\u96ea_\\u5f00\\u53d1\\u4e2d\\u7684\\u9879\\u76ee\\u6570\", \"x\": [\"8\", \"9\"], \"y\": [null, 22.0], \"type\": \"scatter\", \"uid\": \"eee1eb97-c202-11e8-bbe1-509a4c0f1ffc\"}, {\"name\": \"\\u4efb\\u96ea_\\u5ef6\\u671f\\u9879\\u76ee\\u6570\", \"x\": [\"8\", \"9\"], \"y\": [null, 18.0], \"type\": \"scatter\", \"uid\": \"eee1eb98-c202-11e8-9ce1-509a4c0f1ffc\"}, {\"name\": \"\\u4efb\\u96ea_\\u6682\\u505c\\u9879\\u76ee\\u6570\", \"x\": [\"8\", \"9\"], \"y\": [null, 10.0], \"type\": \"scatter\", \"uid\": \"eee1eb99-c202-11e8-b82f-509a4c0f1ffc\"}, {\"name\": \"\\u5218\\u6167\\u73b2_\\u5b63\\u5ea6\\u5f00\\u53d1\\u9879\\u76ee\\u6570\", \"x\": [\"8\", \"9\"], \"y\": [16.0, null], \"type\": \"scatter\", \"uid\": \"eee1eb9a-c202-11e8-a8a7-509a4c0f1ffc\"}, {\"name\": \"\\u5218\\u6167\\u73b2_\\u5982\\u671f\\u5b8c\\u6210\\u9879\\u76ee\\u6570\", \"x\": [\"8\", \"9\"], \"y\": [6.0, null], \"type\": \"scatter\", \"uid\": \"eee1eb9b-c202-11e8-9ad4-509a4c0f1ffc\"}, {\"name\": \"\\u5218\\u6167\\u73b2_\\u5ef6\\u671f\\u5b8c\\u6210\", \"x\": [\"8\", \"9\"], \"y\": [2.0, null], \"type\": \"scatter\", \"uid\": \"eee1eb9c-c202-11e8-a075-509a4c0f1ffc\"}, {\"name\": \"\\u5218\\u6167\\u73b2_\\u5f00\\u53d1\\u4e2d\\u7684\\u9879\\u76ee\\u6570\", \"x\": [\"8\", \"9\"], \"y\": [4.0, null], \"type\": \"scatter\", \"uid\": \"eee1eb9d-c202-11e8-9cdd-509a4c0f1ffc\"}, {\"name\": \"\\u5218\\u6167\\u73b2_\\u5ef6\\u671f\\u9879\\u76ee\\u6570\", \"x\": [\"8\", \"9\"], \"y\": [0.0, null], \"type\": \"scatter\", \"uid\": \"eee1eb9e-c202-11e8-9e28-509a4c0f1ffc\"}, {\"name\": \"\\u5218\\u6167\\u73b2_\\u6682\\u505c\\u9879\\u76ee\\u6570\", \"x\": [\"8\", \"9\"], \"y\": [4.0, null], \"type\": \"scatter\", \"uid\": \"eee1eb9f-c202-11e8-a2de-509a4c0f1ffc\"}, {\"name\": \"\\u5218\\u6c5f_\\u5b63\\u5ea6\\u5f00\\u53d1\\u9879\\u76ee\\u6570\", \"x\": [\"8\", \"9\"], \"y\": [6.0, 6.0], \"type\": \"scatter\", \"uid\": \"eee1eba0-c202-11e8-ab44-509a4c0f1ffc\"}, {\"name\": \"\\u5218\\u6c5f_\\u5982\\u671f\\u5b8c\\u6210\\u9879\\u76ee\\u6570\", \"x\": [\"8\", \"9\"], \"y\": [0.0, 0.0], \"type\": \"scatter\", \"uid\": \"eee1eba1-c202-11e8-b50c-509a4c0f1ffc\"}, {\"name\": \"\\u5218\\u6c5f_\\u5ef6\\u671f\\u5b8c\\u6210\", \"x\": [\"8\", \"9\"], \"y\": [1.0, 4.0], \"type\": \"scatter\", \"uid\": \"eee1eba2-c202-11e8-9f55-509a4c0f1ffc\"}, {\"name\": \"\\u5218\\u6c5f_\\u5f00\\u53d1\\u4e2d\\u7684\\u9879\\u76ee\\u6570\", \"x\": [\"8\", \"9\"], \"y\": [5.0, 3.0], \"type\": \"scatter\", \"uid\": \"eee1eba3-c202-11e8-88c2-509a4c0f1ffc\"}, {\"name\": \"\\u5218\\u6c5f_\\u5ef6\\u671f\\u9879\\u76ee\\u6570\", \"x\": [\"8\", \"9\"], \"y\": [0.0, 0.0], \"type\": \"scatter\", \"uid\": \"eee1eba4-c202-11e8-9cd1-509a4c0f1ffc\"}, {\"name\": \"\\u5218\\u6c5f_\\u6682\\u505c\\u9879\\u76ee\\u6570\", \"x\": [\"8\", \"9\"], \"y\": [0.0, 1.0], \"type\": \"scatter\", \"uid\": \"eee1eba5-c202-11e8-97a2-509a4c0f1ffc\"}, {\"name\": \"\\u5360\\u4f1f_\\u5b63\\u5ea6\\u5f00\\u53d1\\u9879\\u76ee\\u6570\", \"x\": [\"8\", \"9\"], \"y\": [37.0, null], \"type\": \"scatter\", \"uid\": \"eee1eba6-c202-11e8-a331-509a4c0f1ffc\"}, {\"name\": \"\\u5360\\u4f1f_\\u5982\\u671f\\u5b8c\\u6210\\u9879\\u76ee\\u6570\", \"x\": [\"8\", \"9\"], \"y\": [22.0, null], \"type\": \"scatter\", \"uid\": \"eee1eba7-c202-11e8-8184-509a4c0f1ffc\"}, {\"name\": \"\\u5360\\u4f1f_\\u5ef6\\u671f\\u5b8c\\u6210\", \"x\": [\"8\", \"9\"], \"y\": [3.0, null], \"type\": \"scatter\", \"uid\": \"eee1eba8-c202-11e8-8282-509a4c0f1ffc\"}, {\"name\": \"\\u5360\\u4f1f_\\u5f00\\u53d1\\u4e2d\\u7684\\u9879\\u76ee\\u6570\", \"x\": [\"8\", \"9\"], \"y\": [7.0, null], \"type\": \"scatter\", \"uid\": \"eee1eba9-c202-11e8-aa4b-509a4c0f1ffc\"}, {\"name\": \"\\u5360\\u4f1f_\\u5ef6\\u671f\\u9879\\u76ee\\u6570\", \"x\": [\"8\", \"9\"], \"y\": [6.0, null], \"type\": \"scatter\", \"uid\": \"eee1ebaa-c202-11e8-93dd-509a4c0f1ffc\"}, {\"name\": \"\\u5360\\u4f1f_\\u6682\\u505c\\u9879\\u76ee\\u6570\", \"x\": [\"8\", \"9\"], \"y\": [0.0, null], \"type\": \"scatter\", \"uid\": \"eee1ebab-c202-11e8-9c90-509a4c0f1ffc\"}, {\"name\": \"\\u5468\\u6768_\\u5b63\\u5ea6\\u5f00\\u53d1\\u9879\\u76ee\\u6570\", \"x\": [\"8\", \"9\"], \"y\": [64.0, 96.0], \"type\": \"scatter\", \"uid\": \"eee1ebac-c202-11e8-8bf4-509a4c0f1ffc\"}, {\"name\": \"\\u5468\\u6768_\\u5982\\u671f\\u5b8c\\u6210\\u9879\\u76ee\\u6570\", \"x\": [\"8\", \"9\"], \"y\": [56.0, 89.0], \"type\": \"scatter\", \"uid\": \"eee1ebad-c202-11e8-81d5-509a4c0f1ffc\"}, {\"name\": \"\\u5468\\u6768_\\u5ef6\\u671f\\u5b8c\\u6210\", \"x\": [\"8\", \"9\"], \"y\": [0.0, 0.0], \"type\": \"scatter\", \"uid\": \"eee1ebae-c202-11e8-a523-509a4c0f1ffc\"}, {\"name\": \"\\u5468\\u6768_\\u5f00\\u53d1\\u4e2d\\u7684\\u9879\\u76ee\\u6570\", \"x\": [\"8\", \"9\"], \"y\": [6.0, 5.0], \"type\": \"scatter\", \"uid\": \"eee1ebaf-c202-11e8-ab5f-509a4c0f1ffc\"}, {\"name\": \"\\u5468\\u6768_\\u5ef6\\u671f\\u9879\\u76ee\\u6570\", \"x\": [\"8\", \"9\"], \"y\": [0.0, 0.0], \"type\": \"scatter\", \"uid\": \"eee1ebb0-c202-11e8-8ae9-509a4c0f1ffc\"}, {\"name\": \"\\u5468\\u6768_\\u6682\\u505c\\u9879\\u76ee\\u6570\", \"x\": [\"8\", \"9\"], \"y\": [2.0, 3.0], \"type\": \"scatter\", \"uid\": \"eee1ebb1-c202-11e8-8f74-509a4c0f1ffc\"}, {\"name\": \"\\u59da\\u76df\\u6210_\\u5b63\\u5ea6\\u5f00\\u53d1\\u9879\\u76ee\\u6570\", \"x\": [\"8\", \"9\"], \"y\": [18.0, 27.0], \"type\": \"scatter\", \"uid\": \"eee1ebb2-c202-11e8-94ed-509a4c0f1ffc\"}, {\"name\": \"\\u59da\\u76df\\u6210_\\u5982\\u671f\\u5b8c\\u6210\\u9879\\u76ee\\u6570\", \"x\": [\"8\", \"9\"], \"y\": [6.0, 9.0], \"type\": \"scatter\", \"uid\": \"eee1ebb3-c202-11e8-846b-509a4c0f1ffc\"}, {\"name\": \"\\u59da\\u76df\\u6210_\\u5ef6\\u671f\\u5b8c\\u6210\", \"x\": [\"8\", \"9\"], \"y\": [0.0, 0.0], \"type\": \"scatter\", \"uid\": \"eee1ebb4-c202-11e8-8641-509a4c0f1ffc\"}, {\"name\": \"\\u59da\\u76df\\u6210_\\u5f00\\u53d1\\u4e2d\\u7684\\u9879\\u76ee\\u6570\", \"x\": [\"8\", \"9\"], \"y\": [3.0, 12.0], \"type\": \"scatter\", \"uid\": \"eee1ebb5-c202-11e8-9355-509a4c0f1ffc\"}, {\"name\": \"\\u59da\\u76df\\u6210_\\u5ef6\\u671f\\u9879\\u76ee\\u6570\", \"x\": [\"8\", \"9\"], \"y\": [0.0, 0.0], \"type\": \"scatter\", \"uid\": \"eee1ebb6-c202-11e8-9e2b-509a4c0f1ffc\"}, {\"name\": \"\\u59da\\u76df\\u6210_\\u6682\\u505c\\u9879\\u76ee\\u6570\", \"x\": [\"8\", \"9\"], \"y\": [0.0, 12.0], \"type\": \"scatter\", \"uid\": \"eee1ebb7-c202-11e8-9bd6-509a4c0f1ffc\"}, {\"name\": \"\\u5b5f\\u660a_\\u5b63\\u5ea6\\u5f00\\u53d1\\u9879\\u76ee\\u6570\", \"x\": [\"8\", \"9\"], \"y\": [86.0, 129.0], \"type\": \"scatter\", \"uid\": \"eee1ebb8-c202-11e8-afe2-509a4c0f1ffc\"}, {\"name\": \"\\u5b5f\\u660a_\\u5982\\u671f\\u5b8c\\u6210\\u9879\\u76ee\\u6570\", \"x\": [\"8\", \"9\"], \"y\": [76.0, 116.0], \"type\": \"scatter\", \"uid\": \"eee1ebb9-c202-11e8-8c7a-509a4c0f1ffc\"}, {\"name\": \"\\u5b5f\\u660a_\\u5ef6\\u671f\\u5b8c\\u6210\", \"x\": [\"8\", \"9\"], \"y\": [0.0, 0.0], \"type\": \"scatter\", \"uid\": \"eee1ebba-c202-11e8-a6cf-509a4c0f1ffc\"}, {\"name\": \"\\u5b5f\\u660a_\\u5f00\\u53d1\\u4e2d\\u7684\\u9879\\u76ee\\u6570\", \"x\": [\"8\", \"9\"], \"y\": [4.0, 6.0], \"type\": \"scatter\", \"uid\": \"eee1ebbb-c202-11e8-8356-509a4c0f1ffc\"}, {\"name\": \"\\u5b5f\\u660a_\\u5ef6\\u671f\\u9879\\u76ee\\u6570\", \"x\": [\"8\", \"9\"], \"y\": [0.0, 0.0], \"type\": \"scatter\", \"uid\": \"eee1ebbc-c202-11e8-9569-509a4c0f1ffc\"}, {\"name\": \"\\u5b5f\\u660a_\\u6682\\u505c\\u9879\\u76ee\\u6570\", \"x\": [\"8\", \"9\"], \"y\": [6.0, 9.0], \"type\": \"scatter\", \"uid\": \"eee1ebbd-c202-11e8-9a83-509a4c0f1ffc\"}, {\"name\": \"\\u5b8b\\u8fce\\u6960_\\u5b63\\u5ea6\\u5f00\\u53d1\\u9879\\u76ee\\u6570\", \"x\": [\"8\", \"9\"], \"y\": [46.0, null], \"type\": \"scatter\", \"uid\": \"eee1ebbe-c202-11e8-a7d7-509a4c0f1ffc\"}, {\"name\": \"\\u5b8b\\u8fce\\u6960_\\u5982\\u671f\\u5b8c\\u6210\\u9879\\u76ee\\u6570\", \"x\": [\"8\", \"9\"], \"y\": [0.0, null], \"type\": \"scatter\", \"uid\": \"eee1ebbf-c202-11e8-8676-509a4c0f1ffc\"}, {\"name\": \"\\u5b8b\\u8fce\\u6960_\\u5ef6\\u671f\\u5b8c\\u6210\", \"x\": [\"8\", \"9\"], \"y\": [17.0, null], \"type\": \"scatter\", \"uid\": \"eee1ebc0-c202-11e8-8685-509a4c0f1ffc\"}, {\"name\": \"\\u5b8b\\u8fce\\u6960_\\u5f00\\u53d1\\u4e2d\\u7684\\u9879\\u76ee\\u6570\", \"x\": [\"8\", \"9\"], \"y\": [27.0, null], \"type\": \"scatter\", \"uid\": \"eee1ebc1-c202-11e8-872f-509a4c0f1ffc\"}, {\"name\": \"\\u5b8b\\u8fce\\u6960_\\u5ef6\\u671f\\u9879\\u76ee\\u6570\", \"x\": [\"8\", \"9\"], \"y\": [2.0, null], \"type\": \"scatter\", \"uid\": \"eee1ebc2-c202-11e8-bbbf-509a4c0f1ffc\"}, {\"name\": \"\\u5b8b\\u8fce\\u6960_\\u6682\\u505c\\u9879\\u76ee\\u6570\", \"x\": [\"8\", \"9\"], \"y\": [0.0, null], \"type\": \"scatter\", \"uid\": \"eee1ebc3-c202-11e8-a998-509a4c0f1ffc\"}, {\"name\": \"\\u5c01\\u5f66\\u6770_\\u5b63\\u5ea6\\u5f00\\u53d1\\u9879\\u76ee\\u6570\", \"x\": [\"8\", \"9\"], \"y\": [10.0, 15.0], \"type\": \"scatter\", \"uid\": \"eee1ebc4-c202-11e8-b5c2-509a4c0f1ffc\"}, {\"name\": \"\\u5c01\\u5f66\\u6770_\\u5982\\u671f\\u5b8c\\u6210\\u9879\\u76ee\\u6570\", \"x\": [\"8\", \"9\"], \"y\": [0.0, 6.0], \"type\": \"scatter\", \"uid\": \"eee1ebc5-c202-11e8-8112-509a4c0f1ffc\"}, {\"name\": \"\\u5c01\\u5f66\\u6770_\\u5ef6\\u671f\\u5b8c\\u6210\", \"x\": [\"8\", \"9\"], \"y\": [0.0, 0.0], \"type\": \"scatter\", \"uid\": \"eee1ebc6-c202-11e8-b2f1-509a4c0f1ffc\"}, {\"name\": \"\\u5c01\\u5f66\\u6770_\\u5f00\\u53d1\\u4e2d\\u7684\\u9879\\u76ee\\u6570\", \"x\": [\"8\", \"9\"], \"y\": [8.0, 7.0], \"type\": \"scatter\", \"uid\": \"eee1ebc7-c202-11e8-a771-509a4c0f1ffc\"}, {\"name\": \"\\u5c01\\u5f66\\u6770_\\u5ef6\\u671f\\u9879\\u76ee\\u6570\", \"x\": [\"8\", \"9\"], \"y\": [0.0, 0.0], \"type\": \"scatter\", \"uid\": \"eee1ebc8-c202-11e8-8b5d-509a4c0f1ffc\"}, {\"name\": \"\\u5c01\\u5f66\\u6770_\\u6682\\u505c\\u9879\\u76ee\\u6570\", \"x\": [\"8\", \"9\"], \"y\": [2.0, 2.0], \"type\": \"scatter\", \"uid\": \"eee1ebc9-c202-11e8-9193-509a4c0f1ffc\"}, {\"name\": \"\\u5f20\\u5b88\\u4f1f_\\u5b63\\u5ea6\\u5f00\\u53d1\\u9879\\u76ee\\u6570\", \"x\": [\"8\", \"9\"], \"y\": [29.0, null], \"type\": \"scatter\", \"uid\": \"eee1ebca-c202-11e8-a786-509a4c0f1ffc\"}, {\"name\": \"\\u5f20\\u5b88\\u4f1f_\\u5982\\u671f\\u5b8c\\u6210\\u9879\\u76ee\\u6570\", \"x\": [\"8\", \"9\"], \"y\": [29.0, null], \"type\": \"scatter\", \"uid\": \"eee1ebcb-c202-11e8-b478-509a4c0f1ffc\"}, {\"name\": \"\\u5f20\\u5b88\\u4f1f_\\u5ef6\\u671f\\u5b8c\\u6210\", \"x\": [\"8\", \"9\"], \"y\": [0.0, null], \"type\": \"scatter\", \"uid\": \"eee1ebcc-c202-11e8-8fa5-509a4c0f1ffc\"}, {\"name\": \"\\u5f20\\u5b88\\u4f1f_\\u5f00\\u53d1\\u4e2d\\u7684\\u9879\\u76ee\\u6570\", \"x\": [\"8\", \"9\"], \"y\": [4.0, null], \"type\": \"scatter\", \"uid\": \"eee1ebcd-c202-11e8-90c7-509a4c0f1ffc\"}, {\"name\": \"\\u5f20\\u5b88\\u4f1f_\\u5ef6\\u671f\\u9879\\u76ee\\u6570\", \"x\": [\"8\", \"9\"], \"y\": [0.0, null], \"type\": \"scatter\", \"uid\": \"eee212a2-c202-11e8-a6de-509a4c0f1ffc\"}, {\"name\": \"\\u5f20\\u5b88\\u4f1f_\\u6682\\u505c\\u9879\\u76ee\\u6570\", \"x\": [\"8\", \"9\"], \"y\": [0.0, null], \"type\": \"scatter\", \"uid\": \"eee212a3-c202-11e8-8b77-509a4c0f1ffc\"}, {\"name\": \"\\u674e\\u534e\\u4e91_\\u5b63\\u5ea6\\u5f00\\u53d1\\u9879\\u76ee\\u6570\", \"x\": [\"8\", \"9\"], \"y\": [70.0, 117.0], \"type\": \"scatter\", \"uid\": \"eee212a4-c202-11e8-89c8-509a4c0f1ffc\"}, {\"name\": \"\\u674e\\u534e\\u4e91_\\u5982\\u671f\\u5b8c\\u6210\\u9879\\u76ee\\u6570\", \"x\": [\"8\", \"9\"], \"y\": [10.0, 32.0], \"type\": \"scatter\", \"uid\": \"eee212a5-c202-11e8-9822-509a4c0f1ffc\"}, {\"name\": \"\\u674e\\u534e\\u4e91_\\u5ef6\\u671f\\u5b8c\\u6210\", \"x\": [\"8\", \"9\"], \"y\": [0.0, 17.0], \"type\": \"scatter\", \"uid\": \"eee212a6-c202-11e8-967b-509a4c0f1ffc\"}, {\"name\": \"\\u674e\\u534e\\u4e91_\\u5f00\\u53d1\\u4e2d\\u7684\\u9879\\u76ee\\u6570\", \"x\": [\"8\", \"9\"], \"y\": [48.0, 41.0], \"type\": \"scatter\", \"uid\": \"eee212a7-c202-11e8-bc75-509a4c0f1ffc\"}, {\"name\": \"\\u674e\\u534e\\u4e91_\\u5ef6\\u671f\\u9879\\u76ee\\u6570\", \"x\": [\"8\", \"9\"], \"y\": [12.0, 24.0], \"type\": \"scatter\", \"uid\": \"eee212a8-c202-11e8-95f4-509a4c0f1ffc\"}, {\"name\": \"\\u674e\\u534e\\u4e91_\\u6682\\u505c\\u9879\\u76ee\\u6570\", \"x\": [\"8\", \"9\"], \"y\": [0.0, 3.0], \"type\": \"scatter\", \"uid\": \"eee212a9-c202-11e8-80ef-509a4c0f1ffc\"}, {\"name\": \"\\u674e\\u5e86\\u539f_\\u5b63\\u5ea6\\u5f00\\u53d1\\u9879\\u76ee\\u6570\", \"x\": [\"8\", \"9\"], \"y\": [0.0, 0.0], \"type\": \"scatter\", \"uid\": \"eee212aa-c202-11e8-9e70-509a4c0f1ffc\"}, {\"name\": \"\\u674e\\u5e86\\u539f_\\u5982\\u671f\\u5b8c\\u6210\\u9879\\u76ee\\u6570\", \"x\": [\"8\", \"9\"], \"y\": [0.0, 0.0], \"type\": \"scatter\", \"uid\": \"eee212ab-c202-11e8-b97f-509a4c0f1ffc\"}, {\"name\": \"\\u674e\\u5e86\\u539f_\\u5ef6\\u671f\\u5b8c\\u6210\", \"x\": [\"8\", \"9\"], \"y\": [0.0, 0.0], \"type\": \"scatter\", \"uid\": \"eee212ac-c202-11e8-a8d1-509a4c0f1ffc\"}, {\"name\": \"\\u674e\\u5e86\\u539f_\\u5f00\\u53d1\\u4e2d\\u7684\\u9879\\u76ee\\u6570\", \"x\": [\"8\", \"9\"], \"y\": [0.0, 0.0], \"type\": \"scatter\", \"uid\": \"eee212ad-c202-11e8-85ce-509a4c0f1ffc\"}, {\"name\": \"\\u674e\\u5e86\\u539f_\\u5ef6\\u671f\\u9879\\u76ee\\u6570\", \"x\": [\"8\", \"9\"], \"y\": [0.0, 0.0], \"type\": \"scatter\", \"uid\": \"eee212ae-c202-11e8-99fb-509a4c0f1ffc\"}, {\"name\": \"\\u674e\\u5e86\\u539f_\\u6682\\u505c\\u9879\\u76ee\\u6570\", \"x\": [\"8\", \"9\"], \"y\": [0.0, 0.0], \"type\": \"scatter\", \"uid\": \"eee212af-c202-11e8-be04-509a4c0f1ffc\"}, {\"name\": \"\\u6768\\u4f1f\\u98de_\\u5b63\\u5ea6\\u5f00\\u53d1\\u9879\\u76ee\\u6570\", \"x\": [\"8\", \"9\"], \"y\": [16.0, 24.0], \"type\": \"scatter\", \"uid\": \"eee212b0-c202-11e8-b660-509a4c0f1ffc\"}, {\"name\": \"\\u6768\\u4f1f\\u98de_\\u5982\\u671f\\u5b8c\\u6210\\u9879\\u76ee\\u6570\", \"x\": [\"8\", \"9\"], \"y\": [4.0, 12.0], \"type\": \"scatter\", \"uid\": \"eee212b1-c202-11e8-b96b-509a4c0f1ffc\"}, {\"name\": \"\\u6768\\u4f1f\\u98de_\\u5ef6\\u671f\\u5b8c\\u6210\", \"x\": [\"8\", \"9\"], \"y\": [3.0, 6.0], \"type\": \"scatter\", \"uid\": \"eee212b2-c202-11e8-80c1-509a4c0f1ffc\"}, {\"name\": \"\\u6768\\u4f1f\\u98de_\\u5f00\\u53d1\\u4e2d\\u7684\\u9879\\u76ee\\u6570\", \"x\": [\"8\", \"9\"], \"y\": [9.0, 6.0], \"type\": \"scatter\", \"uid\": \"eee212b3-c202-11e8-8f66-509a4c0f1ffc\"}, {\"name\": \"\\u6768\\u4f1f\\u98de_\\u5ef6\\u671f\\u9879\\u76ee\\u6570\", \"x\": [\"8\", \"9\"], \"y\": [0.0, 0.0], \"type\": \"scatter\", \"uid\": \"eee212b4-c202-11e8-9eab-509a4c0f1ffc\"}, {\"name\": \"\\u6768\\u4f1f\\u98de_\\u6682\\u505c\\u9879\\u76ee\\u6570\", \"x\": [\"8\", \"9\"], \"y\": [0.0, 0.0], \"type\": \"scatter\", \"uid\": \"eee212b5-c202-11e8-a2d0-509a4c0f1ffc\"}, {\"name\": \"\\u738b\\u5b81_\\u5b63\\u5ea6\\u5f00\\u53d1\\u9879\\u76ee\\u6570\", \"x\": [\"8\", \"9\"], \"y\": [0.0, null], \"type\": \"scatter\", \"uid\": \"eee212b6-c202-11e8-be43-509a4c0f1ffc\"}, {\"name\": \"\\u738b\\u5b81_\\u5982\\u671f\\u5b8c\\u6210\\u9879\\u76ee\\u6570\", \"x\": [\"8\", \"9\"], \"y\": [0.0, null], \"type\": \"scatter\", \"uid\": \"eee212b7-c202-11e8-87ce-509a4c0f1ffc\"}, {\"name\": \"\\u738b\\u5b81_\\u5ef6\\u671f\\u5b8c\\u6210\", \"x\": [\"8\", \"9\"], \"y\": [0.0, null], \"type\": \"scatter\", \"uid\": \"eee212b8-c202-11e8-80c1-509a4c0f1ffc\"}, {\"name\": \"\\u738b\\u5b81_\\u5f00\\u53d1\\u4e2d\\u7684\\u9879\\u76ee\\u6570\", \"x\": [\"8\", \"9\"], \"y\": [0.0, null], \"type\": \"scatter\", \"uid\": \"eee212b9-c202-11e8-89c2-509a4c0f1ffc\"}, {\"name\": \"\\u738b\\u5b81_\\u5ef6\\u671f\\u9879\\u76ee\\u6570\", \"x\": [\"8\", \"9\"], \"y\": [0.0, null], \"type\": \"scatter\", \"uid\": \"eee212ba-c202-11e8-9bb9-509a4c0f1ffc\"}, {\"name\": \"\\u738b\\u5b81_\\u6682\\u505c\\u9879\\u76ee\\u6570\", \"x\": [\"8\", \"9\"], \"y\": [0.0, null], \"type\": \"scatter\", \"uid\": \"eee212bb-c202-11e8-97cb-509a4c0f1ffc\"}, {\"name\": \"\\u82cf\\u5f66\\u52cb_\\u5b63\\u5ea6\\u5f00\\u53d1\\u9879\\u76ee\\u6570\", \"x\": [\"8\", \"9\"], \"y\": [66.0, 99.0], \"type\": \"scatter\", \"uid\": \"eee212bc-c202-11e8-a997-509a4c0f1ffc\"}, {\"name\": \"\\u82cf\\u5f66\\u52cb_\\u5982\\u671f\\u5b8c\\u6210\\u9879\\u76ee\\u6570\", \"x\": [\"8\", \"9\"], \"y\": [41.0, 72.0], \"type\": \"scatter\", \"uid\": \"eee212bd-c202-11e8-9afd-509a4c0f1ffc\"}, {\"name\": \"\\u82cf\\u5f66\\u52cb_\\u5ef6\\u671f\\u5b8c\\u6210\", \"x\": [\"8\", \"9\"], \"y\": [0.0, 0.0], \"type\": \"scatter\", \"uid\": \"eee212be-c202-11e8-b23a-509a4c0f1ffc\"}, {\"name\": \"\\u82cf\\u5f66\\u52cb_\\u5f00\\u53d1\\u4e2d\\u7684\\u9879\\u76ee\\u6570\", \"x\": [\"8\", \"9\"], \"y\": [9.0, 3.0], \"type\": \"scatter\", \"uid\": \"eee212bf-c202-11e8-9c24-509a4c0f1ffc\"}, {\"name\": \"\\u82cf\\u5f66\\u52cb_\\u5ef6\\u671f\\u9879\\u76ee\\u6570\", \"x\": [\"8\", \"9\"], \"y\": [0.0, 0.0], \"type\": \"scatter\", \"uid\": \"eee212c0-c202-11e8-bcfe-509a4c0f1ffc\"}, {\"name\": \"\\u82cf\\u5f66\\u52cb_\\u6682\\u505c\\u9879\\u76ee\\u6570\", \"x\": [\"8\", \"9\"], \"y\": [16.0, 24.0], \"type\": \"scatter\", \"uid\": \"eee212c1-c202-11e8-95a7-509a4c0f1ffc\"}, {\"name\": \"\\u8303\\u65ed\\u5b81_\\u5b63\\u5ea6\\u5f00\\u53d1\\u9879\\u76ee\\u6570\", \"x\": [\"8\", \"9\"], \"y\": [43.0, null], \"type\": \"scatter\", \"uid\": \"eee212c2-c202-11e8-8b6e-509a4c0f1ffc\"}, {\"name\": \"\\u8303\\u65ed\\u5b81_\\u5982\\u671f\\u5b8c\\u6210\\u9879\\u76ee\\u6570\", \"x\": [\"8\", \"9\"], \"y\": [39.0, null], \"type\": \"scatter\", \"uid\": \"eee212c3-c202-11e8-8260-509a4c0f1ffc\"}, {\"name\": \"\\u8303\\u65ed\\u5b81_\\u5ef6\\u671f\\u5b8c\\u6210\", \"x\": [\"8\", \"9\"], \"y\": [4.0, null], \"type\": \"scatter\", \"uid\": \"eee212c4-c202-11e8-901c-509a4c0f1ffc\"}, {\"name\": \"\\u8303\\u65ed\\u5b81_\\u5f00\\u53d1\\u4e2d\\u7684\\u9879\\u76ee\\u6570\", \"x\": [\"8\", \"9\"], \"y\": [1.0, null], \"type\": \"scatter\", \"uid\": \"eee212c5-c202-11e8-8ffe-509a4c0f1ffc\"}, {\"name\": \"\\u8303\\u65ed\\u5b81_\\u5ef6\\u671f\\u9879\\u76ee\\u6570\", \"x\": [\"8\", \"9\"], \"y\": [0.0, null], \"type\": \"scatter\", \"uid\": \"eee212c6-c202-11e8-844c-509a4c0f1ffc\"}, {\"name\": \"\\u8303\\u65ed\\u5b81_\\u6682\\u505c\\u9879\\u76ee\\u6570\", \"x\": [\"8\", \"9\"], \"y\": [0.0, null], \"type\": \"scatter\", \"uid\": \"eee212c7-c202-11e8-9ced-509a4c0f1ffc\"}, {\"name\": \"\\u8c22\\u5fb7\\u5065_\\u5b63\\u5ea6\\u5f00\\u53d1\\u9879\\u76ee\\u6570\", \"x\": [\"8\", \"9\"], \"y\": [0.0, null], \"type\": \"scatter\", \"uid\": \"eee212c8-c202-11e8-89b9-509a4c0f1ffc\"}, {\"name\": \"\\u8c22\\u5fb7\\u5065_\\u5982\\u671f\\u5b8c\\u6210\\u9879\\u76ee\\u6570\", \"x\": [\"8\", \"9\"], \"y\": [0.0, null], \"type\": \"scatter\", \"uid\": \"eee212c9-c202-11e8-9e09-509a4c0f1ffc\"}, {\"name\": \"\\u8c22\\u5fb7\\u5065_\\u5ef6\\u671f\\u5b8c\\u6210\", \"x\": [\"8\", \"9\"], \"y\": [0.0, null], \"type\": \"scatter\", \"uid\": \"eee212ca-c202-11e8-b89d-509a4c0f1ffc\"}, {\"name\": \"\\u8c22\\u5fb7\\u5065_\\u5f00\\u53d1\\u4e2d\\u7684\\u9879\\u76ee\\u6570\", \"x\": [\"8\", \"9\"], \"y\": [0.0, null], \"type\": \"scatter\", \"uid\": \"eee212cb-c202-11e8-8b9b-509a4c0f1ffc\"}, {\"name\": \"\\u8c22\\u5fb7\\u5065_\\u5ef6\\u671f\\u9879\\u76ee\\u6570\", \"x\": [\"8\", \"9\"], \"y\": [0.0, null], \"type\": \"scatter\", \"uid\": \"eee212cc-c202-11e8-91f8-509a4c0f1ffc\"}, {\"name\": \"\\u8c22\\u5fb7\\u5065_\\u6682\\u505c\\u9879\\u76ee\\u6570\", \"x\": [\"8\", \"9\"], \"y\": [0.0, null], \"type\": \"scatter\", \"uid\": \"eee212cd-c202-11e8-9850-509a4c0f1ffc\"}, {\"name\": \"\\u8d75\\u73a5_\\u5b63\\u5ea6\\u5f00\\u53d1\\u9879\\u76ee\\u6570\", \"x\": [\"8\", \"9\"], \"y\": [43.0, null], \"type\": \"scatter\", \"uid\": \"eee212ce-c202-11e8-aaa5-509a4c0f1ffc\"}, {\"name\": \"\\u8d75\\u73a5_\\u5982\\u671f\\u5b8c\\u6210\\u9879\\u76ee\\u6570\", \"x\": [\"8\", \"9\"], \"y\": [41.0, null], \"type\": \"scatter\", \"uid\": \"eee212cf-c202-11e8-ad17-509a4c0f1ffc\"}, {\"name\": \"\\u8d75\\u73a5_\\u5ef6\\u671f\\u5b8c\\u6210\", \"x\": [\"8\", \"9\"], \"y\": [2.0, null], \"type\": \"scatter\", \"uid\": \"eee212d0-c202-11e8-94a6-509a4c0f1ffc\"}, {\"name\": \"\\u8d75\\u73a5_\\u5f00\\u53d1\\u4e2d\\u7684\\u9879\\u76ee\\u6570\", \"x\": [\"8\", \"9\"], \"y\": [2.0, null], \"type\": \"scatter\", \"uid\": \"eee212d1-c202-11e8-921e-509a4c0f1ffc\"}, {\"name\": \"\\u8d75\\u73a5_\\u5ef6\\u671f\\u9879\\u76ee\\u6570\", \"x\": [\"8\", \"9\"], \"y\": [0.0, null], \"type\": \"scatter\", \"uid\": \"eee212d2-c202-11e8-91de-509a4c0f1ffc\"}, {\"name\": \"\\u8d75\\u73a5_\\u6682\\u505c\\u9879\\u76ee\\u6570\", \"x\": [\"8\", \"9\"], \"y\": [0.0, null], \"type\": \"scatter\", \"uid\": \"eee212d3-c202-11e8-a98f-509a4c0f1ffc\"}, {\"name\": \"\\u8def\\u6167\\u840d_\\u5b63\\u5ea6\\u5f00\\u53d1\\u9879\\u76ee\\u6570\", \"x\": [\"8\", \"9\"], \"y\": [0.0, 0.0], \"type\": \"scatter\", \"uid\": \"eee212d4-c202-11e8-88fd-509a4c0f1ffc\"}, {\"name\": \"\\u8def\\u6167\\u840d_\\u5982\\u671f\\u5b8c\\u6210\\u9879\\u76ee\\u6570\", \"x\": [\"8\", \"9\"], \"y\": [0.0, 0.0], \"type\": \"scatter\", \"uid\": \"eee212d5-c202-11e8-aa03-509a4c0f1ffc\"}, {\"name\": \"\\u8def\\u6167\\u840d_\\u5ef6\\u671f\\u5b8c\\u6210\", \"x\": [\"8\", \"9\"], \"y\": [0.0, 0.0], \"type\": \"scatter\", \"uid\": \"eee212d6-c202-11e8-82b7-509a4c0f1ffc\"}, {\"name\": \"\\u8def\\u6167\\u840d_\\u5f00\\u53d1\\u4e2d\\u7684\\u9879\\u76ee\\u6570\", \"x\": [\"8\", \"9\"], \"y\": [0.0, 0.0], \"type\": \"scatter\", \"uid\": \"eee212d7-c202-11e8-93e8-509a4c0f1ffc\"}, {\"name\": \"\\u8def\\u6167\\u840d_\\u5ef6\\u671f\\u9879\\u76ee\\u6570\", \"x\": [\"8\", \"9\"], \"y\": [0.0, 0.0], \"type\": \"scatter\", \"uid\": \"eee212d8-c202-11e8-845f-509a4c0f1ffc\"}, {\"name\": \"\\u8def\\u6167\\u840d_\\u6682\\u505c\\u9879\\u76ee\\u6570\", \"x\": [\"8\", \"9\"], \"y\": [0.0, 2.0], \"type\": \"scatter\", \"uid\": \"eee212d9-c202-11e8-9aaf-509a4c0f1ffc\"}, {\"name\": \"\\u97e9\\u5c11\\u6000_\\u5b63\\u5ea6\\u5f00\\u53d1\\u9879\\u76ee\\u6570\", \"x\": [\"8\", \"9\"], \"y\": [14.0, null], \"type\": \"scatter\", \"uid\": \"eee212da-c202-11e8-ba26-509a4c0f1ffc\"}, {\"name\": \"\\u97e9\\u5c11\\u6000_\\u5982\\u671f\\u5b8c\\u6210\\u9879\\u76ee\\u6570\", \"x\": [\"8\", \"9\"], \"y\": [10.0, null], \"type\": \"scatter\", \"uid\": \"eee212db-c202-11e8-8a7f-509a4c0f1ffc\"}, {\"name\": \"\\u97e9\\u5c11\\u6000_\\u5ef6\\u671f\\u5b8c\\u6210\", \"x\": [\"8\", \"9\"], \"y\": [0.0, null], \"type\": \"scatter\", \"uid\": \"eee212dc-c202-11e8-891e-509a4c0f1ffc\"}, {\"name\": \"\\u97e9\\u5c11\\u6000_\\u5f00\\u53d1\\u4e2d\\u7684\\u9879\\u76ee\\u6570\", \"x\": [\"8\", \"9\"], \"y\": [3.0, null], \"type\": \"scatter\", \"uid\": \"eee212dd-c202-11e8-ba19-509a4c0f1ffc\"}, {\"name\": \"\\u97e9\\u5c11\\u6000_\\u5ef6\\u671f\\u9879\\u76ee\\u6570\", \"x\": [\"8\", \"9\"], \"y\": [0.0, null], \"type\": \"scatter\", \"uid\": \"eee212de-c202-11e8-a17a-509a4c0f1ffc\"}, {\"name\": \"\\u97e9\\u5c11\\u6000_\\u6682\\u505c\\u9879\\u76ee\\u6570\", \"x\": [\"8\", \"9\"], \"y\": [0.0, null], \"type\": \"scatter\", \"uid\": \"eee239b4-c202-11e8-b620-509a4c0f1ffc\"}, {\"name\": \"\\u9a6c\\u6f47_\\u5b63\\u5ea6\\u5f00\\u53d1\\u9879\\u76ee\\u6570\", \"x\": [\"8\", \"9\"], \"y\": [0.0, null], \"type\": \"scatter\", \"uid\": \"eee239b5-c202-11e8-b6c2-509a4c0f1ffc\"}, {\"name\": \"\\u9a6c\\u6f47_\\u5982\\u671f\\u5b8c\\u6210\\u9879\\u76ee\\u6570\", \"x\": [\"8\", \"9\"], \"y\": [0.0, null], \"type\": \"scatter\", \"uid\": \"eee239b6-c202-11e8-862f-509a4c0f1ffc\"}, {\"name\": \"\\u9a6c\\u6f47_\\u5ef6\\u671f\\u5b8c\\u6210\", \"x\": [\"8\", \"9\"], \"y\": [0.0, null], \"type\": \"scatter\", \"uid\": \"eee239b7-c202-11e8-862a-509a4c0f1ffc\"}, {\"name\": \"\\u9a6c\\u6f47_\\u5f00\\u53d1\\u4e2d\\u7684\\u9879\\u76ee\\u6570\", \"x\": [\"8\", \"9\"], \"y\": [1.0, null], \"type\": \"scatter\", \"uid\": \"eee239b8-c202-11e8-a4ab-509a4c0f1ffc\"}, {\"name\": \"\\u9a6c\\u6f47_\\u5ef6\\u671f\\u9879\\u76ee\\u6570\", \"x\": [\"8\", \"9\"], \"y\": [1.0, null], \"type\": \"scatter\", \"uid\": \"eee239b9-c202-11e8-b281-509a4c0f1ffc\"}, {\"name\": \"\\u9a6c\\u6f47_\\u6682\\u505c\\u9879\\u76ee\\u6570\", \"x\": [\"8\", \"9\"], \"y\": [0.0, null], \"type\": \"scatter\", \"uid\": \"eee239ba-c202-11e8-9e4f-509a4c0f1ffc\"}],\n",
       "            {\"title\": \"\\u5b63\\u5ea6\\u5f00\\u53d1\\u9879\\u76ee\\u6570&\\u5982\\u671f\\u5b8c\\u6210\\u9879\\u76ee\\u6570&\\u5ef6\\u671f\\u5b8c\\u6210&\\u5f00\\u53d1\\u4e2d\\u7684\\u9879\\u76ee\\u6570&\\u5ef6\\u671f\\u9879\\u76ee\\u6570&\\u6682\\u505c\\u9879\\u76ee\\u6570\\u6708\\u8d8b\\u52bf\\u56fe\", \"xaxis\": {\"mirror\": \"all\", \"nticks\": 20, \"showgrid\": true, \"showline\": true, \"title\": \"\\u6708\", \"zeroline\": true}, \"yaxis\": {\"mirror\": \"all\", \"nticks\": 20, \"showgrid\": true, \"showline\": true, \"title\": \"\\u5b63\\u5ea6\\u5f00\\u53d1\\u9879\\u76ee\\u6570&\\u5982\\u671f\\u5b8c\\u6210\\u9879\\u76ee\\u6570&\\u5ef6\\u671f\\u5b8c\\u6210&\\u5f00\\u53d1\\u4e2d\\u7684\\u9879\\u76ee\\u6570&\\u5ef6\\u671f\\u9879\\u76ee\\u6570&\\u6682\\u505c\\u9879\\u76ee\\u6570\", \"zeroline\": true}},\n",
       "            {\"showLink\": true, \"linkText\": \"Export to plot.ly\"}\n",
       "        ).then(function () {return Plotly.addFrames('a52904b6-af41-4ae5-b57d-84da3c1a4af8',{});}).then(function(){Plotly.animate('a52904b6-af41-4ae5-b57d-84da3c1a4af8');})\n",
       "        });</script>"
      ]
     },
     "metadata": {},
     "output_type": "display_data"
    }
   ],
   "source": [
    "data_dict = {'季度开发项目数': ['季度开发项目数'], '如期完成项目数': ['如期完成项目数'], '延期完成': ['延期完成'],\\\n",
    "             '开发中的项目数': ['开发中的项目数'], '延期项目数': ['延期项目数'], '暂停项目数': ['暂停项目数']}\n",
    "myModule.plot( all_dict, data_dict, '负责人' ,  'line' , all='')"
   ]
  },
  {
   "cell_type": "markdown",
   "metadata": {},
   "source": [
    "### 个人成长指数"
   ]
  },
  {
   "cell_type": "markdown",
   "metadata": {},
   "source": [
    "#### 电话会议次数、软著撰写完成数、专利撰写完成数、外出技术支持数、客户来访接待数和文章数"
   ]
  },
  {
   "cell_type": "code",
   "execution_count": 63,
   "metadata": {},
   "outputs": [
    {
     "data": {
      "application/vnd.plotly.v1+json": {
       "data": [
        {
         "name": "刘江_电话会议次数",
         "type": "scatter",
         "uid": "efd217f4-c202-11e8-8e4a-509a4c0f1ffc",
         "x": [
          "8-3",
          "8-4",
          "9-1",
          "9-2",
          "9-3"
         ],
         "y": [
          1,
          1,
          1,
          1,
          1
         ]
        },
        {
         "name": "刘江_外出技术支持数",
         "type": "scatter",
         "uid": "efd217f5-c202-11e8-b48a-509a4c0f1ffc",
         "x": [
          "8-3",
          "8-4",
          "9-1",
          "9-2",
          "9-3"
         ],
         "y": [
          0,
          0,
          0,
          0,
          0
         ]
        },
        {
         "name": "刘江_客户来访接待数",
         "type": "scatter",
         "uid": "efd217f6-c202-11e8-816a-509a4c0f1ffc",
         "x": [
          "8-3",
          "8-4",
          "9-1",
          "9-2",
          "9-3"
         ],
         "y": [
          1,
          0,
          0,
          0,
          0
         ]
        },
        {
         "name": "苏彦勋_电话会议次数",
         "type": "scatter",
         "uid": "efd217f7-c202-11e8-b4ca-509a4c0f1ffc",
         "x": [
          "8-3",
          "8-4",
          "9-1",
          "9-2",
          "9-3"
         ],
         "y": [
          0,
          0,
          0,
          0,
          0
         ]
        },
        {
         "name": "苏彦勋_外出技术支持数",
         "type": "scatter",
         "uid": "efd217f8-c202-11e8-9372-509a4c0f1ffc",
         "x": [
          "8-3",
          "8-4",
          "9-1",
          "9-2",
          "9-3"
         ],
         "y": [
          0,
          0,
          0,
          0,
          0
         ]
        },
        {
         "name": "苏彦勋_客户来访接待数",
         "type": "scatter",
         "uid": "efd217f9-c202-11e8-b71a-509a4c0f1ffc",
         "x": [
          "8-3",
          "8-4",
          "9-1",
          "9-2",
          "9-3"
         ],
         "y": [
          0,
          0,
          0,
          0,
          0
         ]
        },
        {
         "name": "姚盟成_电话会议次数",
         "type": "scatter",
         "uid": "efd217fa-c202-11e8-8ccd-509a4c0f1ffc",
         "x": [
          "8-3",
          "8-4",
          "9-1",
          "9-2",
          "9-3"
         ],
         "y": [
          0,
          1,
          1,
          0,
          1
         ]
        },
        {
         "name": "姚盟成_外出技术支持数",
         "type": "scatter",
         "uid": "efd217fb-c202-11e8-a330-509a4c0f1ffc",
         "x": [
          "8-3",
          "8-4",
          "9-1",
          "9-2",
          "9-3"
         ],
         "y": [
          0,
          0,
          0,
          0,
          0
         ]
        },
        {
         "name": "姚盟成_客户来访接待数",
         "type": "scatter",
         "uid": "efd217fc-c202-11e8-95ff-509a4c0f1ffc",
         "x": [
          "8-3",
          "8-4",
          "9-1",
          "9-2",
          "9-3"
         ],
         "y": [
          0,
          0,
          0,
          0,
          0
         ]
        },
        {
         "name": "宋迎楠_电话会议次数",
         "type": "scatter",
         "uid": "efd217fd-c202-11e8-a2f1-509a4c0f1ffc",
         "x": [
          "8-3",
          "8-4",
          "9-1"
         ],
         "y": [
          0,
          0,
          0
         ]
        },
        {
         "name": "宋迎楠_外出技术支持数",
         "type": "scatter",
         "uid": "efd217fe-c202-11e8-b0be-509a4c0f1ffc",
         "x": [
          "8-3",
          "8-4",
          "9-1"
         ],
         "y": [
          0,
          0,
          0
         ]
        },
        {
         "name": "宋迎楠_客户来访接待数",
         "type": "scatter",
         "uid": "efd217ff-c202-11e8-8927-509a4c0f1ffc",
         "x": [
          "8-3",
          "8-4",
          "9-1"
         ],
         "y": [
          0,
          0,
          0
         ]
        },
        {
         "name": "杨伟飞_电话会议次数",
         "type": "scatter",
         "uid": "efd21800-c202-11e8-8c61-509a4c0f1ffc",
         "x": [
          "8-3",
          "8-4",
          "9-1",
          "9-2",
          "9-3"
         ],
         "y": [
          0,
          0,
          1,
          1,
          2
         ]
        },
        {
         "name": "杨伟飞_外出技术支持数",
         "type": "scatter",
         "uid": "efd21801-c202-11e8-adce-509a4c0f1ffc",
         "x": [
          "8-3",
          "8-4",
          "9-1",
          "9-2",
          "9-3"
         ],
         "y": [
          0,
          0,
          0,
          0,
          0
         ]
        },
        {
         "name": "杨伟飞_客户来访接待数",
         "type": "scatter",
         "uid": "efd21802-c202-11e8-83ab-509a4c0f1ffc",
         "x": [
          "8-3",
          "8-4",
          "9-1",
          "9-2",
          "9-3"
         ],
         "y": [
          0,
          0,
          0,
          0,
          0
         ]
        },
        {
         "name": "韩少怀_电话会议次数",
         "type": "scatter",
         "uid": "efd21803-c202-11e8-ad2d-509a4c0f1ffc",
         "x": [
          "8-3",
          "8-4",
          "9-1",
          "9-2"
         ],
         "y": [
          0,
          0,
          0,
          0
         ]
        },
        {
         "name": "韩少怀_外出技术支持数",
         "type": "scatter",
         "uid": "efd21804-c202-11e8-abf4-509a4c0f1ffc",
         "x": [
          "8-3",
          "8-4",
          "9-1",
          "9-2"
         ],
         "y": [
          0,
          0,
          0,
          0
         ]
        },
        {
         "name": "韩少怀_客户来访接待数",
         "type": "scatter",
         "uid": "efd21805-c202-11e8-83e8-509a4c0f1ffc",
         "x": [
          "8-3",
          "8-4",
          "9-1",
          "9-2"
         ],
         "y": [
          0,
          0,
          0,
          0
         ]
        },
        {
         "name": "于勇一_电话会议次数",
         "type": "scatter",
         "uid": "efd21806-c202-11e8-9530-509a4c0f1ffc",
         "x": [
          "8-3",
          "8-4",
          "9-1",
          "9-2",
          "9-3"
         ],
         "y": [
          0,
          0,
          0,
          0,
          0
         ]
        },
        {
         "name": "于勇一_外出技术支持数",
         "type": "scatter",
         "uid": "efd21807-c202-11e8-9205-509a4c0f1ffc",
         "x": [
          "8-3",
          "8-4",
          "9-1",
          "9-2",
          "9-3"
         ],
         "y": [
          0,
          0,
          0,
          0,
          0
         ]
        },
        {
         "name": "于勇一_客户来访接待数",
         "type": "scatter",
         "uid": "efd21808-c202-11e8-bfc8-509a4c0f1ffc",
         "x": [
          "8-3",
          "8-4",
          "9-1",
          "9-2",
          "9-3"
         ],
         "y": [
          0,
          0,
          0,
          0,
          0
         ]
        },
        {
         "name": "李华云_电话会议次数",
         "type": "scatter",
         "uid": "efd23f02-c202-11e8-893a-509a4c0f1ffc",
         "x": [
          "8-3",
          "8-4",
          "9-1",
          "9-2",
          "9-3"
         ],
         "y": [
          0,
          0,
          0,
          0,
          1
         ]
        },
        {
         "name": "李华云_外出技术支持数",
         "type": "scatter",
         "uid": "efd23f03-c202-11e8-a466-509a4c0f1ffc",
         "x": [
          "8-3",
          "8-4",
          "9-1",
          "9-2",
          "9-3"
         ],
         "y": [
          0,
          0,
          0,
          0,
          0
         ]
        },
        {
         "name": "李华云_客户来访接待数",
         "type": "scatter",
         "uid": "efd23f04-c202-11e8-8d60-509a4c0f1ffc",
         "x": [
          "8-3",
          "8-4",
          "9-1",
          "9-2",
          "9-3"
         ],
         "y": [
          0,
          0,
          0,
          0,
          0
         ]
        },
        {
         "name": "刘慧玲_电话会议次数",
         "type": "scatter",
         "uid": "efd23f05-c202-11e8-b46e-509a4c0f1ffc",
         "x": [
          "8-3",
          "8-4",
          "9-1"
         ],
         "y": [
          0,
          0,
          0
         ]
        },
        {
         "name": "刘慧玲_外出技术支持数",
         "type": "scatter",
         "uid": "efd23f06-c202-11e8-a08b-509a4c0f1ffc",
         "x": [
          "8-3",
          "8-4",
          "9-1"
         ],
         "y": [
          0,
          0,
          0
         ]
        },
        {
         "name": "刘慧玲_客户来访接待数",
         "type": "scatter",
         "uid": "efd23f07-c202-11e8-9b08-509a4c0f1ffc",
         "x": [
          "8-3",
          "8-4",
          "9-1"
         ],
         "y": [
          0,
          0,
          0
         ]
        },
        {
         "name": "孟昊_电话会议次数",
         "type": "scatter",
         "uid": "efd23f08-c202-11e8-a703-509a4c0f1ffc",
         "x": [
          "8-3",
          "8-4",
          "9-1",
          "9-2",
          "9-3"
         ],
         "y": [
          0,
          0,
          0,
          0,
          0
         ]
        },
        {
         "name": "孟昊_外出技术支持数",
         "type": "scatter",
         "uid": "efd23f09-c202-11e8-8561-509a4c0f1ffc",
         "x": [
          "8-3",
          "8-4",
          "9-1",
          "9-2",
          "9-3"
         ],
         "y": [
          0,
          0,
          0,
          0,
          0
         ]
        },
        {
         "name": "孟昊_客户来访接待数",
         "type": "scatter",
         "uid": "efd23f0a-c202-11e8-a9da-509a4c0f1ffc",
         "x": [
          "8-3",
          "8-4",
          "9-1",
          "9-2",
          "9-3"
         ],
         "y": [
          0,
          0,
          0,
          0,
          0
         ]
        },
        {
         "name": "于慧_电话会议次数",
         "type": "scatter",
         "uid": "efd23f0b-c202-11e8-8a75-509a4c0f1ffc",
         "x": [
          "8-3",
          "8-4",
          "9-1",
          "9-2",
          "9-3"
         ],
         "y": [
          0,
          0,
          0,
          0,
          0
         ]
        },
        {
         "name": "于慧_外出技术支持数",
         "type": "scatter",
         "uid": "efd23f0c-c202-11e8-aabf-509a4c0f1ffc",
         "x": [
          "8-3",
          "8-4",
          "9-1",
          "9-2",
          "9-3"
         ],
         "y": [
          0,
          0,
          0,
          0,
          0
         ]
        },
        {
         "name": "于慧_客户来访接待数",
         "type": "scatter",
         "uid": "efd23f0d-c202-11e8-a34a-509a4c0f1ffc",
         "x": [
          "8-3",
          "8-4",
          "9-1",
          "9-2",
          "9-3"
         ],
         "y": [
          0,
          0,
          0,
          0,
          0
         ]
        },
        {
         "name": "赵玥_电话会议次数",
         "type": "scatter",
         "uid": "efd23f0e-c202-11e8-8422-509a4c0f1ffc",
         "x": [
          "8-3",
          "8-4",
          "9-1",
          "9-2"
         ],
         "y": [
          2,
          0,
          0,
          2
         ]
        },
        {
         "name": "赵玥_外出技术支持数",
         "type": "scatter",
         "uid": "efd23f0f-c202-11e8-8a14-509a4c0f1ffc",
         "x": [
          "8-3",
          "8-4",
          "9-1",
          "9-2"
         ],
         "y": [
          0,
          0,
          0,
          0
         ]
        },
        {
         "name": "赵玥_客户来访接待数",
         "type": "scatter",
         "uid": "efd23f10-c202-11e8-83ee-509a4c0f1ffc",
         "x": [
          "8-3",
          "8-4",
          "9-1",
          "9-2"
         ],
         "y": [
          0,
          0,
          0,
          0
         ]
        },
        {
         "name": "封彦杰_电话会议次数",
         "type": "scatter",
         "uid": "efd23f11-c202-11e8-8058-509a4c0f1ffc",
         "x": [
          "8-3",
          "8-4",
          "9-1",
          "9-2",
          "9-3"
         ],
         "y": [
          0,
          0,
          0,
          1,
          1
         ]
        },
        {
         "name": "封彦杰_外出技术支持数",
         "type": "scatter",
         "uid": "efd23f12-c202-11e8-bbc2-509a4c0f1ffc",
         "x": [
          "8-3",
          "8-4",
          "9-1",
          "9-2",
          "9-3"
         ],
         "y": [
          0,
          0,
          0,
          0,
          0
         ]
        },
        {
         "name": "封彦杰_客户来访接待数",
         "type": "scatter",
         "uid": "efd23f13-c202-11e8-a1b8-509a4c0f1ffc",
         "x": [
          "8-3",
          "8-4",
          "9-1",
          "9-2",
          "9-3"
         ],
         "y": [
          0,
          0,
          0,
          0,
          0
         ]
        },
        {
         "name": "谢德健_电话会议次数",
         "type": "scatter",
         "uid": "efd23f14-c202-11e8-84f2-509a4c0f1ffc",
         "x": [
          "8-3",
          "8-4",
          "9-2",
          "9-3"
         ],
         "y": [
          2,
          1,
          1,
          1
         ]
        },
        {
         "name": "谢德健_外出技术支持数",
         "type": "scatter",
         "uid": "efd23f15-c202-11e8-b444-509a4c0f1ffc",
         "x": [
          "8-3",
          "8-4",
          "9-2",
          "9-3"
         ],
         "y": [
          0,
          0,
          0,
          0
         ]
        },
        {
         "name": "谢德健_客户来访接待数",
         "type": "scatter",
         "uid": "efd23f16-c202-11e8-9c4c-509a4c0f1ffc",
         "x": [
          "8-3",
          "8-4",
          "9-2",
          "9-3"
         ],
         "y": [
          0,
          0,
          0,
          0
         ]
        },
        {
         "name": "周杨_电话会议次数",
         "type": "scatter",
         "uid": "efd23f17-c202-11e8-8805-509a4c0f1ffc",
         "x": [
          "8-3",
          "8-4",
          "9-1",
          "9-2",
          "9-3"
         ],
         "y": [
          1,
          0,
          0,
          0,
          0
         ]
        },
        {
         "name": "周杨_外出技术支持数",
         "type": "scatter",
         "uid": "efd23f18-c202-11e8-8884-509a4c0f1ffc",
         "x": [
          "8-3",
          "8-4",
          "9-1",
          "9-2",
          "9-3"
         ],
         "y": [
          0,
          0,
          0,
          0,
          0
         ]
        },
        {
         "name": "周杨_客户来访接待数",
         "type": "scatter",
         "uid": "efd23f19-c202-11e8-9b59-509a4c0f1ffc",
         "x": [
          "8-3",
          "8-4",
          "9-1",
          "9-2",
          "9-3"
         ],
         "y": [
          0,
          0,
          0,
          0,
          0
         ]
        },
        {
         "name": "张守伟_电话会议次数",
         "type": "scatter",
         "uid": "efd23f1a-c202-11e8-be78-509a4c0f1ffc",
         "x": [
          "8-3",
          "8-4",
          "9-1",
          "9-2"
         ],
         "y": [
          0,
          0,
          0,
          0
         ]
        },
        {
         "name": "张守伟_外出技术支持数",
         "type": "scatter",
         "uid": "efd23f1b-c202-11e8-a9db-509a4c0f1ffc",
         "x": [
          "8-3",
          "8-4",
          "9-1",
          "9-2"
         ],
         "y": [
          0,
          0,
          0,
          0
         ]
        },
        {
         "name": "张守伟_客户来访接待数",
         "type": "scatter",
         "uid": "efd23f1c-c202-11e8-b6ce-509a4c0f1ffc",
         "x": [
          "8-3",
          "8-4",
          "9-1",
          "9-2"
         ],
         "y": [
          0,
          0,
          0,
          0
         ]
        },
        {
         "name": "路慧萍_电话会议次数",
         "type": "scatter",
         "uid": "efd23f1d-c202-11e8-8d0c-509a4c0f1ffc",
         "x": [
          "8-3",
          "8-4",
          "9-1",
          "9-2",
          "9-3"
         ],
         "y": [
          1,
          0,
          0,
          0,
          0
         ]
        },
        {
         "name": "路慧萍_外出技术支持数",
         "type": "scatter",
         "uid": "efd23f1e-c202-11e8-812a-509a4c0f1ffc",
         "x": [
          "8-3",
          "8-4",
          "9-1",
          "9-2",
          "9-3"
         ],
         "y": [
          0,
          0,
          0,
          0,
          0
         ]
        },
        {
         "name": "路慧萍_客户来访接待数",
         "type": "scatter",
         "uid": "efd23f1f-c202-11e8-8a20-509a4c0f1ffc",
         "x": [
          "8-3",
          "8-4",
          "9-1",
          "9-2",
          "9-3"
         ],
         "y": [
          1,
          0,
          0,
          0,
          0
         ]
        },
        {
         "name": "占伟_电话会议次数",
         "type": "scatter",
         "uid": "efd23f20-c202-11e8-929f-509a4c0f1ffc",
         "x": [
          "8-3",
          "8-4",
          "9-1",
          "9-2"
         ],
         "y": [
          0,
          1,
          2,
          1
         ]
        },
        {
         "name": "占伟_外出技术支持数",
         "type": "scatter",
         "uid": "efd23f21-c202-11e8-ba57-509a4c0f1ffc",
         "x": [
          "8-3",
          "8-4",
          "9-1",
          "9-2"
         ],
         "y": [
          0,
          0,
          0,
          0
         ]
        },
        {
         "name": "占伟_客户来访接待数",
         "type": "scatter",
         "uid": "efd23f22-c202-11e8-8985-509a4c0f1ffc",
         "x": [
          "8-3",
          "8-4",
          "9-1",
          "9-2"
         ],
         "y": [
          0,
          0,
          0,
          0
         ]
        },
        {
         "name": "王宁_电话会议次数",
         "type": "scatter",
         "uid": "efd23f23-c202-11e8-8cc8-509a4c0f1ffc",
         "x": [
          "8-3",
          "8-4",
          "9-1"
         ],
         "y": [
          0,
          1,
          0
         ]
        },
        {
         "name": "王宁_外出技术支持数",
         "type": "scatter",
         "uid": "efd23f24-c202-11e8-bdbc-509a4c0f1ffc",
         "x": [
          "8-3",
          "8-4",
          "9-1"
         ],
         "y": [
          0,
          0,
          0
         ]
        },
        {
         "name": "王宁_客户来访接待数",
         "type": "scatter",
         "uid": "efd23f25-c202-11e8-89c1-509a4c0f1ffc",
         "x": [
          "8-3",
          "8-4",
          "9-1"
         ],
         "y": [
          0,
          0,
          0
         ]
        },
        {
         "name": "李庆原_电话会议次数",
         "type": "scatter",
         "uid": "efd23f26-c202-11e8-8fb0-509a4c0f1ffc",
         "x": [
          "8-3",
          "8-4",
          "9-1",
          "9-2",
          "9-3"
         ],
         "y": [
          2,
          0,
          0,
          1,
          1
         ]
        },
        {
         "name": "李庆原_外出技术支持数",
         "type": "scatter",
         "uid": "efd23f27-c202-11e8-94aa-509a4c0f1ffc",
         "x": [
          "8-3",
          "8-4",
          "9-1",
          "9-2",
          "9-3"
         ],
         "y": [
          0,
          0,
          0,
          0,
          0
         ]
        },
        {
         "name": "李庆原_客户来访接待数",
         "type": "scatter",
         "uid": "efd23f28-c202-11e8-aca1-509a4c0f1ffc",
         "x": [
          "8-3",
          "8-4",
          "9-1",
          "9-2",
          "9-3"
         ],
         "y": [
          1,
          0,
          0,
          0,
          0
         ]
        },
        {
         "name": "范旭宁_电话会议次数",
         "type": "scatter",
         "uid": "efd23f29-c202-11e8-8cc9-509a4c0f1ffc",
         "x": [
          "8-3",
          "8-4",
          "9-1",
          "9-2"
         ],
         "y": [
          0,
          0,
          0,
          0
         ]
        },
        {
         "name": "范旭宁_外出技术支持数",
         "type": "scatter",
         "uid": "efd23f2a-c202-11e8-810c-509a4c0f1ffc",
         "x": [
          "8-3",
          "8-4",
          "9-1",
          "9-2"
         ],
         "y": [
          0,
          0,
          0,
          0
         ]
        },
        {
         "name": "范旭宁_客户来访接待数",
         "type": "scatter",
         "uid": "efd23f2b-c202-11e8-85c5-509a4c0f1ffc",
         "x": [
          "8-3",
          "8-4",
          "9-1",
          "9-2"
         ],
         "y": [
          0,
          0,
          0,
          0
         ]
        },
        {
         "name": "马潇_电话会议次数",
         "type": "scatter",
         "uid": "efd23f2c-c202-11e8-bb31-509a4c0f1ffc",
         "x": [
          "8-3",
          "8-4",
          "9-1",
          "9-2"
         ],
         "y": [
          0,
          0,
          0,
          0
         ]
        },
        {
         "name": "马潇_外出技术支持数",
         "type": "scatter",
         "uid": "efd23f2d-c202-11e8-a967-509a4c0f1ffc",
         "x": [
          "8-3",
          "8-4",
          "9-1",
          "9-2"
         ],
         "y": [
          0,
          0,
          0,
          0
         ]
        },
        {
         "name": "马潇_客户来访接待数",
         "type": "scatter",
         "uid": "efd26612-c202-11e8-8235-509a4c0f1ffc",
         "x": [
          "8-3",
          "8-4",
          "9-1",
          "9-2"
         ],
         "y": [
          0,
          0,
          0,
          0
         ]
        },
        {
         "name": "任雪_电话会议次数",
         "type": "scatter",
         "uid": "efd26613-c202-11e8-aba1-509a4c0f1ffc",
         "x": [
          "8-4",
          "9-1",
          "9-2",
          "9-3"
         ],
         "y": [
          0,
          0,
          0,
          0
         ]
        },
        {
         "name": "任雪_外出技术支持数",
         "type": "scatter",
         "uid": "efd26614-c202-11e8-a0a9-509a4c0f1ffc",
         "x": [
          "8-4",
          "9-1",
          "9-2",
          "9-3"
         ],
         "y": [
          0,
          0,
          0,
          0
         ]
        },
        {
         "name": "任雪_客户来访接待数",
         "type": "scatter",
         "uid": "efd26615-c202-11e8-bd16-509a4c0f1ffc",
         "x": [
          "8-4",
          "9-1",
          "9-2",
          "9-3"
         ],
         "y": [
          0,
          0,
          0,
          1
         ]
        }
       ],
       "layout": {
        "title": "电话会议次数&外出技术支持数&客户来访接待数周趋势图",
        "xaxis": {
         "mirror": "all",
         "nticks": 20,
         "showgrid": true,
         "showline": true,
         "title": "周",
         "zeroline": true
        },
        "yaxis": {
         "mirror": "all",
         "nticks": 20,
         "showgrid": true,
         "showline": true,
         "title": "电话会议次数&外出技术支持数&客户来访接待数",
         "zeroline": true
        }
       }
      },
      "text/html": [
       "<div id=\"13f35871-e2d6-4f94-994f-172ad64bfc47\" style=\"height: 525px; width: 100%;\" class=\"plotly-graph-div\"></div><script type=\"text/javascript\">require([\"plotly\"], function(Plotly) { window.PLOTLYENV=window.PLOTLYENV || {};window.PLOTLYENV.BASE_URL=\"https://plot.ly\";\n",
       "        Plotly.plot(\n",
       "            '13f35871-e2d6-4f94-994f-172ad64bfc47',\n",
       "            [{\"name\": \"\\u5218\\u6c5f_\\u7535\\u8bdd\\u4f1a\\u8bae\\u6b21\\u6570\", \"x\": [\"8-3\", \"8-4\", \"9-1\", \"9-2\", \"9-3\"], \"y\": [1.0, 1.0, 1.0, 1.0, 1.0], \"type\": \"scatter\", \"uid\": \"efd217f4-c202-11e8-8e4a-509a4c0f1ffc\"}, {\"name\": \"\\u5218\\u6c5f_\\u5916\\u51fa\\u6280\\u672f\\u652f\\u6301\\u6570\", \"x\": [\"8-3\", \"8-4\", \"9-1\", \"9-2\", \"9-3\"], \"y\": [0.0, 0.0, 0.0, 0.0, 0.0], \"type\": \"scatter\", \"uid\": \"efd217f5-c202-11e8-b48a-509a4c0f1ffc\"}, {\"name\": \"\\u5218\\u6c5f_\\u5ba2\\u6237\\u6765\\u8bbf\\u63a5\\u5f85\\u6570\", \"x\": [\"8-3\", \"8-4\", \"9-1\", \"9-2\", \"9-3\"], \"y\": [1.0, 0.0, 0.0, 0.0, 0.0], \"type\": \"scatter\", \"uid\": \"efd217f6-c202-11e8-816a-509a4c0f1ffc\"}, {\"name\": \"\\u82cf\\u5f66\\u52cb_\\u7535\\u8bdd\\u4f1a\\u8bae\\u6b21\\u6570\", \"x\": [\"8-3\", \"8-4\", \"9-1\", \"9-2\", \"9-3\"], \"y\": [0.0, 0.0, 0.0, 0.0, 0.0], \"type\": \"scatter\", \"uid\": \"efd217f7-c202-11e8-b4ca-509a4c0f1ffc\"}, {\"name\": \"\\u82cf\\u5f66\\u52cb_\\u5916\\u51fa\\u6280\\u672f\\u652f\\u6301\\u6570\", \"x\": [\"8-3\", \"8-4\", \"9-1\", \"9-2\", \"9-3\"], \"y\": [0.0, 0.0, 0.0, 0.0, 0.0], \"type\": \"scatter\", \"uid\": \"efd217f8-c202-11e8-9372-509a4c0f1ffc\"}, {\"name\": \"\\u82cf\\u5f66\\u52cb_\\u5ba2\\u6237\\u6765\\u8bbf\\u63a5\\u5f85\\u6570\", \"x\": [\"8-3\", \"8-4\", \"9-1\", \"9-2\", \"9-3\"], \"y\": [0.0, 0.0, 0.0, 0.0, 0.0], \"type\": \"scatter\", \"uid\": \"efd217f9-c202-11e8-b71a-509a4c0f1ffc\"}, {\"name\": \"\\u59da\\u76df\\u6210_\\u7535\\u8bdd\\u4f1a\\u8bae\\u6b21\\u6570\", \"x\": [\"8-3\", \"8-4\", \"9-1\", \"9-2\", \"9-3\"], \"y\": [0.0, 1.0, 1.0, 0.0, 1.0], \"type\": \"scatter\", \"uid\": \"efd217fa-c202-11e8-8ccd-509a4c0f1ffc\"}, {\"name\": \"\\u59da\\u76df\\u6210_\\u5916\\u51fa\\u6280\\u672f\\u652f\\u6301\\u6570\", \"x\": [\"8-3\", \"8-4\", \"9-1\", \"9-2\", \"9-3\"], \"y\": [0.0, 0.0, 0.0, 0.0, 0.0], \"type\": \"scatter\", \"uid\": \"efd217fb-c202-11e8-a330-509a4c0f1ffc\"}, {\"name\": \"\\u59da\\u76df\\u6210_\\u5ba2\\u6237\\u6765\\u8bbf\\u63a5\\u5f85\\u6570\", \"x\": [\"8-3\", \"8-4\", \"9-1\", \"9-2\", \"9-3\"], \"y\": [0.0, 0.0, 0.0, 0.0, 0.0], \"type\": \"scatter\", \"uid\": \"efd217fc-c202-11e8-95ff-509a4c0f1ffc\"}, {\"name\": \"\\u5b8b\\u8fce\\u6960_\\u7535\\u8bdd\\u4f1a\\u8bae\\u6b21\\u6570\", \"x\": [\"8-3\", \"8-4\", \"9-1\"], \"y\": [0.0, 0.0, 0.0], \"type\": \"scatter\", \"uid\": \"efd217fd-c202-11e8-a2f1-509a4c0f1ffc\"}, {\"name\": \"\\u5b8b\\u8fce\\u6960_\\u5916\\u51fa\\u6280\\u672f\\u652f\\u6301\\u6570\", \"x\": [\"8-3\", \"8-4\", \"9-1\"], \"y\": [0.0, 0.0, 0.0], \"type\": \"scatter\", \"uid\": \"efd217fe-c202-11e8-b0be-509a4c0f1ffc\"}, {\"name\": \"\\u5b8b\\u8fce\\u6960_\\u5ba2\\u6237\\u6765\\u8bbf\\u63a5\\u5f85\\u6570\", \"x\": [\"8-3\", \"8-4\", \"9-1\"], \"y\": [0.0, 0.0, 0.0], \"type\": \"scatter\", \"uid\": \"efd217ff-c202-11e8-8927-509a4c0f1ffc\"}, {\"name\": \"\\u6768\\u4f1f\\u98de_\\u7535\\u8bdd\\u4f1a\\u8bae\\u6b21\\u6570\", \"x\": [\"8-3\", \"8-4\", \"9-1\", \"9-2\", \"9-3\"], \"y\": [0.0, 0.0, 1.0, 1.0, 2.0], \"type\": \"scatter\", \"uid\": \"efd21800-c202-11e8-8c61-509a4c0f1ffc\"}, {\"name\": \"\\u6768\\u4f1f\\u98de_\\u5916\\u51fa\\u6280\\u672f\\u652f\\u6301\\u6570\", \"x\": [\"8-3\", \"8-4\", \"9-1\", \"9-2\", \"9-3\"], \"y\": [0.0, 0.0, 0.0, 0.0, 0.0], \"type\": \"scatter\", \"uid\": \"efd21801-c202-11e8-adce-509a4c0f1ffc\"}, {\"name\": \"\\u6768\\u4f1f\\u98de_\\u5ba2\\u6237\\u6765\\u8bbf\\u63a5\\u5f85\\u6570\", \"x\": [\"8-3\", \"8-4\", \"9-1\", \"9-2\", \"9-3\"], \"y\": [0.0, 0.0, 0.0, 0.0, 0.0], \"type\": \"scatter\", \"uid\": \"efd21802-c202-11e8-83ab-509a4c0f1ffc\"}, {\"name\": \"\\u97e9\\u5c11\\u6000_\\u7535\\u8bdd\\u4f1a\\u8bae\\u6b21\\u6570\", \"x\": [\"8-3\", \"8-4\", \"9-1\", \"9-2\"], \"y\": [0.0, 0.0, 0.0, 0.0], \"type\": \"scatter\", \"uid\": \"efd21803-c202-11e8-ad2d-509a4c0f1ffc\"}, {\"name\": \"\\u97e9\\u5c11\\u6000_\\u5916\\u51fa\\u6280\\u672f\\u652f\\u6301\\u6570\", \"x\": [\"8-3\", \"8-4\", \"9-1\", \"9-2\"], \"y\": [0.0, 0.0, 0.0, 0.0], \"type\": \"scatter\", \"uid\": \"efd21804-c202-11e8-abf4-509a4c0f1ffc\"}, {\"name\": \"\\u97e9\\u5c11\\u6000_\\u5ba2\\u6237\\u6765\\u8bbf\\u63a5\\u5f85\\u6570\", \"x\": [\"8-3\", \"8-4\", \"9-1\", \"9-2\"], \"y\": [0.0, 0.0, 0.0, 0.0], \"type\": \"scatter\", \"uid\": \"efd21805-c202-11e8-83e8-509a4c0f1ffc\"}, {\"name\": \"\\u4e8e\\u52c7\\u4e00_\\u7535\\u8bdd\\u4f1a\\u8bae\\u6b21\\u6570\", \"x\": [\"8-3\", \"8-4\", \"9-1\", \"9-2\", \"9-3\"], \"y\": [0.0, 0.0, 0.0, 0.0, 0.0], \"type\": \"scatter\", \"uid\": \"efd21806-c202-11e8-9530-509a4c0f1ffc\"}, {\"name\": \"\\u4e8e\\u52c7\\u4e00_\\u5916\\u51fa\\u6280\\u672f\\u652f\\u6301\\u6570\", \"x\": [\"8-3\", \"8-4\", \"9-1\", \"9-2\", \"9-3\"], \"y\": [0.0, 0.0, 0.0, 0.0, 0.0], \"type\": \"scatter\", \"uid\": \"efd21807-c202-11e8-9205-509a4c0f1ffc\"}, {\"name\": \"\\u4e8e\\u52c7\\u4e00_\\u5ba2\\u6237\\u6765\\u8bbf\\u63a5\\u5f85\\u6570\", \"x\": [\"8-3\", \"8-4\", \"9-1\", \"9-2\", \"9-3\"], \"y\": [0.0, 0.0, 0.0, 0.0, 0.0], \"type\": \"scatter\", \"uid\": \"efd21808-c202-11e8-bfc8-509a4c0f1ffc\"}, {\"name\": \"\\u674e\\u534e\\u4e91_\\u7535\\u8bdd\\u4f1a\\u8bae\\u6b21\\u6570\", \"x\": [\"8-3\", \"8-4\", \"9-1\", \"9-2\", \"9-3\"], \"y\": [0.0, 0.0, 0.0, 0.0, 1.0], \"type\": \"scatter\", \"uid\": \"efd23f02-c202-11e8-893a-509a4c0f1ffc\"}, {\"name\": \"\\u674e\\u534e\\u4e91_\\u5916\\u51fa\\u6280\\u672f\\u652f\\u6301\\u6570\", \"x\": [\"8-3\", \"8-4\", \"9-1\", \"9-2\", \"9-3\"], \"y\": [0.0, 0.0, 0.0, 0.0, 0.0], \"type\": \"scatter\", \"uid\": \"efd23f03-c202-11e8-a466-509a4c0f1ffc\"}, {\"name\": \"\\u674e\\u534e\\u4e91_\\u5ba2\\u6237\\u6765\\u8bbf\\u63a5\\u5f85\\u6570\", \"x\": [\"8-3\", \"8-4\", \"9-1\", \"9-2\", \"9-3\"], \"y\": [0.0, 0.0, 0.0, 0.0, 0.0], \"type\": \"scatter\", \"uid\": \"efd23f04-c202-11e8-8d60-509a4c0f1ffc\"}, {\"name\": \"\\u5218\\u6167\\u73b2_\\u7535\\u8bdd\\u4f1a\\u8bae\\u6b21\\u6570\", \"x\": [\"8-3\", \"8-4\", \"9-1\"], \"y\": [0.0, 0.0, 0.0], \"type\": \"scatter\", \"uid\": \"efd23f05-c202-11e8-b46e-509a4c0f1ffc\"}, {\"name\": \"\\u5218\\u6167\\u73b2_\\u5916\\u51fa\\u6280\\u672f\\u652f\\u6301\\u6570\", \"x\": [\"8-3\", \"8-4\", \"9-1\"], \"y\": [0.0, 0.0, 0.0], \"type\": \"scatter\", \"uid\": \"efd23f06-c202-11e8-a08b-509a4c0f1ffc\"}, {\"name\": \"\\u5218\\u6167\\u73b2_\\u5ba2\\u6237\\u6765\\u8bbf\\u63a5\\u5f85\\u6570\", \"x\": [\"8-3\", \"8-4\", \"9-1\"], \"y\": [0.0, 0.0, 0.0], \"type\": \"scatter\", \"uid\": \"efd23f07-c202-11e8-9b08-509a4c0f1ffc\"}, {\"name\": \"\\u5b5f\\u660a_\\u7535\\u8bdd\\u4f1a\\u8bae\\u6b21\\u6570\", \"x\": [\"8-3\", \"8-4\", \"9-1\", \"9-2\", \"9-3\"], \"y\": [0.0, 0.0, 0.0, 0.0, 0.0], \"type\": \"scatter\", \"uid\": \"efd23f08-c202-11e8-a703-509a4c0f1ffc\"}, {\"name\": \"\\u5b5f\\u660a_\\u5916\\u51fa\\u6280\\u672f\\u652f\\u6301\\u6570\", \"x\": [\"8-3\", \"8-4\", \"9-1\", \"9-2\", \"9-3\"], \"y\": [0.0, 0.0, 0.0, 0.0, 0.0], \"type\": \"scatter\", \"uid\": \"efd23f09-c202-11e8-8561-509a4c0f1ffc\"}, {\"name\": \"\\u5b5f\\u660a_\\u5ba2\\u6237\\u6765\\u8bbf\\u63a5\\u5f85\\u6570\", \"x\": [\"8-3\", \"8-4\", \"9-1\", \"9-2\", \"9-3\"], \"y\": [0.0, 0.0, 0.0, 0.0, 0.0], \"type\": \"scatter\", \"uid\": \"efd23f0a-c202-11e8-a9da-509a4c0f1ffc\"}, {\"name\": \"\\u4e8e\\u6167_\\u7535\\u8bdd\\u4f1a\\u8bae\\u6b21\\u6570\", \"x\": [\"8-3\", \"8-4\", \"9-1\", \"9-2\", \"9-3\"], \"y\": [0.0, 0.0, 0.0, 0.0, 0.0], \"type\": \"scatter\", \"uid\": \"efd23f0b-c202-11e8-8a75-509a4c0f1ffc\"}, {\"name\": \"\\u4e8e\\u6167_\\u5916\\u51fa\\u6280\\u672f\\u652f\\u6301\\u6570\", \"x\": [\"8-3\", \"8-4\", \"9-1\", \"9-2\", \"9-3\"], \"y\": [0.0, 0.0, 0.0, 0.0, 0.0], \"type\": \"scatter\", \"uid\": \"efd23f0c-c202-11e8-aabf-509a4c0f1ffc\"}, {\"name\": \"\\u4e8e\\u6167_\\u5ba2\\u6237\\u6765\\u8bbf\\u63a5\\u5f85\\u6570\", \"x\": [\"8-3\", \"8-4\", \"9-1\", \"9-2\", \"9-3\"], \"y\": [0.0, 0.0, 0.0, 0.0, 0.0], \"type\": \"scatter\", \"uid\": \"efd23f0d-c202-11e8-a34a-509a4c0f1ffc\"}, {\"name\": \"\\u8d75\\u73a5_\\u7535\\u8bdd\\u4f1a\\u8bae\\u6b21\\u6570\", \"x\": [\"8-3\", \"8-4\", \"9-1\", \"9-2\"], \"y\": [2.0, 0.0, 0.0, 2.0], \"type\": \"scatter\", \"uid\": \"efd23f0e-c202-11e8-8422-509a4c0f1ffc\"}, {\"name\": \"\\u8d75\\u73a5_\\u5916\\u51fa\\u6280\\u672f\\u652f\\u6301\\u6570\", \"x\": [\"8-3\", \"8-4\", \"9-1\", \"9-2\"], \"y\": [0.0, 0.0, 0.0, 0.0], \"type\": \"scatter\", \"uid\": \"efd23f0f-c202-11e8-8a14-509a4c0f1ffc\"}, {\"name\": \"\\u8d75\\u73a5_\\u5ba2\\u6237\\u6765\\u8bbf\\u63a5\\u5f85\\u6570\", \"x\": [\"8-3\", \"8-4\", \"9-1\", \"9-2\"], \"y\": [0.0, 0.0, 0.0, 0.0], \"type\": \"scatter\", \"uid\": \"efd23f10-c202-11e8-83ee-509a4c0f1ffc\"}, {\"name\": \"\\u5c01\\u5f66\\u6770_\\u7535\\u8bdd\\u4f1a\\u8bae\\u6b21\\u6570\", \"x\": [\"8-3\", \"8-4\", \"9-1\", \"9-2\", \"9-3\"], \"y\": [0.0, 0.0, 0.0, 1.0, 1.0], \"type\": \"scatter\", \"uid\": \"efd23f11-c202-11e8-8058-509a4c0f1ffc\"}, {\"name\": \"\\u5c01\\u5f66\\u6770_\\u5916\\u51fa\\u6280\\u672f\\u652f\\u6301\\u6570\", \"x\": [\"8-3\", \"8-4\", \"9-1\", \"9-2\", \"9-3\"], \"y\": [0.0, 0.0, 0.0, 0.0, 0.0], \"type\": \"scatter\", \"uid\": \"efd23f12-c202-11e8-bbc2-509a4c0f1ffc\"}, {\"name\": \"\\u5c01\\u5f66\\u6770_\\u5ba2\\u6237\\u6765\\u8bbf\\u63a5\\u5f85\\u6570\", \"x\": [\"8-3\", \"8-4\", \"9-1\", \"9-2\", \"9-3\"], \"y\": [0.0, 0.0, 0.0, 0.0, 0.0], \"type\": \"scatter\", \"uid\": \"efd23f13-c202-11e8-a1b8-509a4c0f1ffc\"}, {\"name\": \"\\u8c22\\u5fb7\\u5065_\\u7535\\u8bdd\\u4f1a\\u8bae\\u6b21\\u6570\", \"x\": [\"8-3\", \"8-4\", \"9-2\", \"9-3\"], \"y\": [2.0, 1.0, 1.0, 1.0], \"type\": \"scatter\", \"uid\": \"efd23f14-c202-11e8-84f2-509a4c0f1ffc\"}, {\"name\": \"\\u8c22\\u5fb7\\u5065_\\u5916\\u51fa\\u6280\\u672f\\u652f\\u6301\\u6570\", \"x\": [\"8-3\", \"8-4\", \"9-2\", \"9-3\"], \"y\": [0.0, 0.0, 0.0, 0.0], \"type\": \"scatter\", \"uid\": \"efd23f15-c202-11e8-b444-509a4c0f1ffc\"}, {\"name\": \"\\u8c22\\u5fb7\\u5065_\\u5ba2\\u6237\\u6765\\u8bbf\\u63a5\\u5f85\\u6570\", \"x\": [\"8-3\", \"8-4\", \"9-2\", \"9-3\"], \"y\": [0.0, 0.0, 0.0, 0.0], \"type\": \"scatter\", \"uid\": \"efd23f16-c202-11e8-9c4c-509a4c0f1ffc\"}, {\"name\": \"\\u5468\\u6768_\\u7535\\u8bdd\\u4f1a\\u8bae\\u6b21\\u6570\", \"x\": [\"8-3\", \"8-4\", \"9-1\", \"9-2\", \"9-3\"], \"y\": [1.0, 0.0, 0.0, 0.0, 0.0], \"type\": \"scatter\", \"uid\": \"efd23f17-c202-11e8-8805-509a4c0f1ffc\"}, {\"name\": \"\\u5468\\u6768_\\u5916\\u51fa\\u6280\\u672f\\u652f\\u6301\\u6570\", \"x\": [\"8-3\", \"8-4\", \"9-1\", \"9-2\", \"9-3\"], \"y\": [0.0, 0.0, 0.0, 0.0, 0.0], \"type\": \"scatter\", \"uid\": \"efd23f18-c202-11e8-8884-509a4c0f1ffc\"}, {\"name\": \"\\u5468\\u6768_\\u5ba2\\u6237\\u6765\\u8bbf\\u63a5\\u5f85\\u6570\", \"x\": [\"8-3\", \"8-4\", \"9-1\", \"9-2\", \"9-3\"], \"y\": [0.0, 0.0, 0.0, 0.0, 0.0], \"type\": \"scatter\", \"uid\": \"efd23f19-c202-11e8-9b59-509a4c0f1ffc\"}, {\"name\": \"\\u5f20\\u5b88\\u4f1f_\\u7535\\u8bdd\\u4f1a\\u8bae\\u6b21\\u6570\", \"x\": [\"8-3\", \"8-4\", \"9-1\", \"9-2\"], \"y\": [0.0, 0.0, 0.0, 0.0], \"type\": \"scatter\", \"uid\": \"efd23f1a-c202-11e8-be78-509a4c0f1ffc\"}, {\"name\": \"\\u5f20\\u5b88\\u4f1f_\\u5916\\u51fa\\u6280\\u672f\\u652f\\u6301\\u6570\", \"x\": [\"8-3\", \"8-4\", \"9-1\", \"9-2\"], \"y\": [0.0, 0.0, 0.0, 0.0], \"type\": \"scatter\", \"uid\": \"efd23f1b-c202-11e8-a9db-509a4c0f1ffc\"}, {\"name\": \"\\u5f20\\u5b88\\u4f1f_\\u5ba2\\u6237\\u6765\\u8bbf\\u63a5\\u5f85\\u6570\", \"x\": [\"8-3\", \"8-4\", \"9-1\", \"9-2\"], \"y\": [0.0, 0.0, 0.0, 0.0], \"type\": \"scatter\", \"uid\": \"efd23f1c-c202-11e8-b6ce-509a4c0f1ffc\"}, {\"name\": \"\\u8def\\u6167\\u840d_\\u7535\\u8bdd\\u4f1a\\u8bae\\u6b21\\u6570\", \"x\": [\"8-3\", \"8-4\", \"9-1\", \"9-2\", \"9-3\"], \"y\": [1.0, 0.0, 0.0, 0.0, 0.0], \"type\": \"scatter\", \"uid\": \"efd23f1d-c202-11e8-8d0c-509a4c0f1ffc\"}, {\"name\": \"\\u8def\\u6167\\u840d_\\u5916\\u51fa\\u6280\\u672f\\u652f\\u6301\\u6570\", \"x\": [\"8-3\", \"8-4\", \"9-1\", \"9-2\", \"9-3\"], \"y\": [0.0, 0.0, 0.0, 0.0, 0.0], \"type\": \"scatter\", \"uid\": \"efd23f1e-c202-11e8-812a-509a4c0f1ffc\"}, {\"name\": \"\\u8def\\u6167\\u840d_\\u5ba2\\u6237\\u6765\\u8bbf\\u63a5\\u5f85\\u6570\", \"x\": [\"8-3\", \"8-4\", \"9-1\", \"9-2\", \"9-3\"], \"y\": [1.0, 0.0, 0.0, 0.0, 0.0], \"type\": \"scatter\", \"uid\": \"efd23f1f-c202-11e8-8a20-509a4c0f1ffc\"}, {\"name\": \"\\u5360\\u4f1f_\\u7535\\u8bdd\\u4f1a\\u8bae\\u6b21\\u6570\", \"x\": [\"8-3\", \"8-4\", \"9-1\", \"9-2\"], \"y\": [0.0, 1.0, 2.0, 1.0], \"type\": \"scatter\", \"uid\": \"efd23f20-c202-11e8-929f-509a4c0f1ffc\"}, {\"name\": \"\\u5360\\u4f1f_\\u5916\\u51fa\\u6280\\u672f\\u652f\\u6301\\u6570\", \"x\": [\"8-3\", \"8-4\", \"9-1\", \"9-2\"], \"y\": [0.0, 0.0, 0.0, 0.0], \"type\": \"scatter\", \"uid\": \"efd23f21-c202-11e8-ba57-509a4c0f1ffc\"}, {\"name\": \"\\u5360\\u4f1f_\\u5ba2\\u6237\\u6765\\u8bbf\\u63a5\\u5f85\\u6570\", \"x\": [\"8-3\", \"8-4\", \"9-1\", \"9-2\"], \"y\": [0.0, 0.0, 0.0, 0.0], \"type\": \"scatter\", \"uid\": \"efd23f22-c202-11e8-8985-509a4c0f1ffc\"}, {\"name\": \"\\u738b\\u5b81_\\u7535\\u8bdd\\u4f1a\\u8bae\\u6b21\\u6570\", \"x\": [\"8-3\", \"8-4\", \"9-1\"], \"y\": [0.0, 1.0, 0.0], \"type\": \"scatter\", \"uid\": \"efd23f23-c202-11e8-8cc8-509a4c0f1ffc\"}, {\"name\": \"\\u738b\\u5b81_\\u5916\\u51fa\\u6280\\u672f\\u652f\\u6301\\u6570\", \"x\": [\"8-3\", \"8-4\", \"9-1\"], \"y\": [0.0, 0.0, 0.0], \"type\": \"scatter\", \"uid\": \"efd23f24-c202-11e8-bdbc-509a4c0f1ffc\"}, {\"name\": \"\\u738b\\u5b81_\\u5ba2\\u6237\\u6765\\u8bbf\\u63a5\\u5f85\\u6570\", \"x\": [\"8-3\", \"8-4\", \"9-1\"], \"y\": [0.0, 0.0, 0.0], \"type\": \"scatter\", \"uid\": \"efd23f25-c202-11e8-89c1-509a4c0f1ffc\"}, {\"name\": \"\\u674e\\u5e86\\u539f_\\u7535\\u8bdd\\u4f1a\\u8bae\\u6b21\\u6570\", \"x\": [\"8-3\", \"8-4\", \"9-1\", \"9-2\", \"9-3\"], \"y\": [2.0, 0.0, 0.0, 1.0, 1.0], \"type\": \"scatter\", \"uid\": \"efd23f26-c202-11e8-8fb0-509a4c0f1ffc\"}, {\"name\": \"\\u674e\\u5e86\\u539f_\\u5916\\u51fa\\u6280\\u672f\\u652f\\u6301\\u6570\", \"x\": [\"8-3\", \"8-4\", \"9-1\", \"9-2\", \"9-3\"], \"y\": [0.0, 0.0, 0.0, 0.0, 0.0], \"type\": \"scatter\", \"uid\": \"efd23f27-c202-11e8-94aa-509a4c0f1ffc\"}, {\"name\": \"\\u674e\\u5e86\\u539f_\\u5ba2\\u6237\\u6765\\u8bbf\\u63a5\\u5f85\\u6570\", \"x\": [\"8-3\", \"8-4\", \"9-1\", \"9-2\", \"9-3\"], \"y\": [1.0, 0.0, 0.0, 0.0, 0.0], \"type\": \"scatter\", \"uid\": \"efd23f28-c202-11e8-aca1-509a4c0f1ffc\"}, {\"name\": \"\\u8303\\u65ed\\u5b81_\\u7535\\u8bdd\\u4f1a\\u8bae\\u6b21\\u6570\", \"x\": [\"8-3\", \"8-4\", \"9-1\", \"9-2\"], \"y\": [0.0, 0.0, 0.0, 0.0], \"type\": \"scatter\", \"uid\": \"efd23f29-c202-11e8-8cc9-509a4c0f1ffc\"}, {\"name\": \"\\u8303\\u65ed\\u5b81_\\u5916\\u51fa\\u6280\\u672f\\u652f\\u6301\\u6570\", \"x\": [\"8-3\", \"8-4\", \"9-1\", \"9-2\"], \"y\": [0.0, 0.0, 0.0, 0.0], \"type\": \"scatter\", \"uid\": \"efd23f2a-c202-11e8-810c-509a4c0f1ffc\"}, {\"name\": \"\\u8303\\u65ed\\u5b81_\\u5ba2\\u6237\\u6765\\u8bbf\\u63a5\\u5f85\\u6570\", \"x\": [\"8-3\", \"8-4\", \"9-1\", \"9-2\"], \"y\": [0.0, 0.0, 0.0, 0.0], \"type\": \"scatter\", \"uid\": \"efd23f2b-c202-11e8-85c5-509a4c0f1ffc\"}, {\"name\": \"\\u9a6c\\u6f47_\\u7535\\u8bdd\\u4f1a\\u8bae\\u6b21\\u6570\", \"x\": [\"8-3\", \"8-4\", \"9-1\", \"9-2\"], \"y\": [0.0, 0.0, 0.0, 0.0], \"type\": \"scatter\", \"uid\": \"efd23f2c-c202-11e8-bb31-509a4c0f1ffc\"}, {\"name\": \"\\u9a6c\\u6f47_\\u5916\\u51fa\\u6280\\u672f\\u652f\\u6301\\u6570\", \"x\": [\"8-3\", \"8-4\", \"9-1\", \"9-2\"], \"y\": [0.0, 0.0, 0.0, 0.0], \"type\": \"scatter\", \"uid\": \"efd23f2d-c202-11e8-a967-509a4c0f1ffc\"}, {\"name\": \"\\u9a6c\\u6f47_\\u5ba2\\u6237\\u6765\\u8bbf\\u63a5\\u5f85\\u6570\", \"x\": [\"8-3\", \"8-4\", \"9-1\", \"9-2\"], \"y\": [0.0, 0.0, 0.0, 0.0], \"type\": \"scatter\", \"uid\": \"efd26612-c202-11e8-8235-509a4c0f1ffc\"}, {\"name\": \"\\u4efb\\u96ea_\\u7535\\u8bdd\\u4f1a\\u8bae\\u6b21\\u6570\", \"x\": [\"8-4\", \"9-1\", \"9-2\", \"9-3\"], \"y\": [0.0, 0.0, 0.0, 0.0], \"type\": \"scatter\", \"uid\": \"efd26613-c202-11e8-aba1-509a4c0f1ffc\"}, {\"name\": \"\\u4efb\\u96ea_\\u5916\\u51fa\\u6280\\u672f\\u652f\\u6301\\u6570\", \"x\": [\"8-4\", \"9-1\", \"9-2\", \"9-3\"], \"y\": [0.0, 0.0, 0.0, 0.0], \"type\": \"scatter\", \"uid\": \"efd26614-c202-11e8-a0a9-509a4c0f1ffc\"}, {\"name\": \"\\u4efb\\u96ea_\\u5ba2\\u6237\\u6765\\u8bbf\\u63a5\\u5f85\\u6570\", \"x\": [\"8-4\", \"9-1\", \"9-2\", \"9-3\"], \"y\": [0.0, 0.0, 0.0, 1.0], \"type\": \"scatter\", \"uid\": \"efd26615-c202-11e8-bd16-509a4c0f1ffc\"}],\n",
       "            {\"title\": \"\\u7535\\u8bdd\\u4f1a\\u8bae\\u6b21\\u6570&\\u5916\\u51fa\\u6280\\u672f\\u652f\\u6301\\u6570&\\u5ba2\\u6237\\u6765\\u8bbf\\u63a5\\u5f85\\u6570\\u5468\\u8d8b\\u52bf\\u56fe\", \"xaxis\": {\"mirror\": \"all\", \"nticks\": 20, \"showgrid\": true, \"showline\": true, \"title\": \"\\u5468\", \"zeroline\": true}, \"yaxis\": {\"mirror\": \"all\", \"nticks\": 20, \"showgrid\": true, \"showline\": true, \"title\": \"\\u7535\\u8bdd\\u4f1a\\u8bae\\u6b21\\u6570&\\u5916\\u51fa\\u6280\\u672f\\u652f\\u6301\\u6570&\\u5ba2\\u6237\\u6765\\u8bbf\\u63a5\\u5f85\\u6570\", \"zeroline\": true}},\n",
       "            {\"showLink\": true, \"linkText\": \"Export to plot.ly\"}\n",
       "        ).then(function () {return Plotly.addFrames('13f35871-e2d6-4f94-994f-172ad64bfc47',{});}).then(function(){Plotly.animate('13f35871-e2d6-4f94-994f-172ad64bfc47');})\n",
       "        });</script>"
      ],
      "text/vnd.plotly.v1+html": [
       "<div id=\"13f35871-e2d6-4f94-994f-172ad64bfc47\" style=\"height: 525px; width: 100%;\" class=\"plotly-graph-div\"></div><script type=\"text/javascript\">require([\"plotly\"], function(Plotly) { window.PLOTLYENV=window.PLOTLYENV || {};window.PLOTLYENV.BASE_URL=\"https://plot.ly\";\n",
       "        Plotly.plot(\n",
       "            '13f35871-e2d6-4f94-994f-172ad64bfc47',\n",
       "            [{\"name\": \"\\u5218\\u6c5f_\\u7535\\u8bdd\\u4f1a\\u8bae\\u6b21\\u6570\", \"x\": [\"8-3\", \"8-4\", \"9-1\", \"9-2\", \"9-3\"], \"y\": [1.0, 1.0, 1.0, 1.0, 1.0], \"type\": \"scatter\", \"uid\": \"efd217f4-c202-11e8-8e4a-509a4c0f1ffc\"}, {\"name\": \"\\u5218\\u6c5f_\\u5916\\u51fa\\u6280\\u672f\\u652f\\u6301\\u6570\", \"x\": [\"8-3\", \"8-4\", \"9-1\", \"9-2\", \"9-3\"], \"y\": [0.0, 0.0, 0.0, 0.0, 0.0], \"type\": \"scatter\", \"uid\": \"efd217f5-c202-11e8-b48a-509a4c0f1ffc\"}, {\"name\": \"\\u5218\\u6c5f_\\u5ba2\\u6237\\u6765\\u8bbf\\u63a5\\u5f85\\u6570\", \"x\": [\"8-3\", \"8-4\", \"9-1\", \"9-2\", \"9-3\"], \"y\": [1.0, 0.0, 0.0, 0.0, 0.0], \"type\": \"scatter\", \"uid\": \"efd217f6-c202-11e8-816a-509a4c0f1ffc\"}, {\"name\": \"\\u82cf\\u5f66\\u52cb_\\u7535\\u8bdd\\u4f1a\\u8bae\\u6b21\\u6570\", \"x\": [\"8-3\", \"8-4\", \"9-1\", \"9-2\", \"9-3\"], \"y\": [0.0, 0.0, 0.0, 0.0, 0.0], \"type\": \"scatter\", \"uid\": \"efd217f7-c202-11e8-b4ca-509a4c0f1ffc\"}, {\"name\": \"\\u82cf\\u5f66\\u52cb_\\u5916\\u51fa\\u6280\\u672f\\u652f\\u6301\\u6570\", \"x\": [\"8-3\", \"8-4\", \"9-1\", \"9-2\", \"9-3\"], \"y\": [0.0, 0.0, 0.0, 0.0, 0.0], \"type\": \"scatter\", \"uid\": \"efd217f8-c202-11e8-9372-509a4c0f1ffc\"}, {\"name\": \"\\u82cf\\u5f66\\u52cb_\\u5ba2\\u6237\\u6765\\u8bbf\\u63a5\\u5f85\\u6570\", \"x\": [\"8-3\", \"8-4\", \"9-1\", \"9-2\", \"9-3\"], \"y\": [0.0, 0.0, 0.0, 0.0, 0.0], \"type\": \"scatter\", \"uid\": \"efd217f9-c202-11e8-b71a-509a4c0f1ffc\"}, {\"name\": \"\\u59da\\u76df\\u6210_\\u7535\\u8bdd\\u4f1a\\u8bae\\u6b21\\u6570\", \"x\": [\"8-3\", \"8-4\", \"9-1\", \"9-2\", \"9-3\"], \"y\": [0.0, 1.0, 1.0, 0.0, 1.0], \"type\": \"scatter\", \"uid\": \"efd217fa-c202-11e8-8ccd-509a4c0f1ffc\"}, {\"name\": \"\\u59da\\u76df\\u6210_\\u5916\\u51fa\\u6280\\u672f\\u652f\\u6301\\u6570\", \"x\": [\"8-3\", \"8-4\", \"9-1\", \"9-2\", \"9-3\"], \"y\": [0.0, 0.0, 0.0, 0.0, 0.0], \"type\": \"scatter\", \"uid\": \"efd217fb-c202-11e8-a330-509a4c0f1ffc\"}, {\"name\": \"\\u59da\\u76df\\u6210_\\u5ba2\\u6237\\u6765\\u8bbf\\u63a5\\u5f85\\u6570\", \"x\": [\"8-3\", \"8-4\", \"9-1\", \"9-2\", \"9-3\"], \"y\": [0.0, 0.0, 0.0, 0.0, 0.0], \"type\": \"scatter\", \"uid\": \"efd217fc-c202-11e8-95ff-509a4c0f1ffc\"}, {\"name\": \"\\u5b8b\\u8fce\\u6960_\\u7535\\u8bdd\\u4f1a\\u8bae\\u6b21\\u6570\", \"x\": [\"8-3\", \"8-4\", \"9-1\"], \"y\": [0.0, 0.0, 0.0], \"type\": \"scatter\", \"uid\": \"efd217fd-c202-11e8-a2f1-509a4c0f1ffc\"}, {\"name\": \"\\u5b8b\\u8fce\\u6960_\\u5916\\u51fa\\u6280\\u672f\\u652f\\u6301\\u6570\", \"x\": [\"8-3\", \"8-4\", \"9-1\"], \"y\": [0.0, 0.0, 0.0], \"type\": \"scatter\", \"uid\": \"efd217fe-c202-11e8-b0be-509a4c0f1ffc\"}, {\"name\": \"\\u5b8b\\u8fce\\u6960_\\u5ba2\\u6237\\u6765\\u8bbf\\u63a5\\u5f85\\u6570\", \"x\": [\"8-3\", \"8-4\", \"9-1\"], \"y\": [0.0, 0.0, 0.0], \"type\": \"scatter\", \"uid\": \"efd217ff-c202-11e8-8927-509a4c0f1ffc\"}, {\"name\": \"\\u6768\\u4f1f\\u98de_\\u7535\\u8bdd\\u4f1a\\u8bae\\u6b21\\u6570\", \"x\": [\"8-3\", \"8-4\", \"9-1\", \"9-2\", \"9-3\"], \"y\": [0.0, 0.0, 1.0, 1.0, 2.0], \"type\": \"scatter\", \"uid\": \"efd21800-c202-11e8-8c61-509a4c0f1ffc\"}, {\"name\": \"\\u6768\\u4f1f\\u98de_\\u5916\\u51fa\\u6280\\u672f\\u652f\\u6301\\u6570\", \"x\": [\"8-3\", \"8-4\", \"9-1\", \"9-2\", \"9-3\"], \"y\": [0.0, 0.0, 0.0, 0.0, 0.0], \"type\": \"scatter\", \"uid\": \"efd21801-c202-11e8-adce-509a4c0f1ffc\"}, {\"name\": \"\\u6768\\u4f1f\\u98de_\\u5ba2\\u6237\\u6765\\u8bbf\\u63a5\\u5f85\\u6570\", \"x\": [\"8-3\", \"8-4\", \"9-1\", \"9-2\", \"9-3\"], \"y\": [0.0, 0.0, 0.0, 0.0, 0.0], \"type\": \"scatter\", \"uid\": \"efd21802-c202-11e8-83ab-509a4c0f1ffc\"}, {\"name\": \"\\u97e9\\u5c11\\u6000_\\u7535\\u8bdd\\u4f1a\\u8bae\\u6b21\\u6570\", \"x\": [\"8-3\", \"8-4\", \"9-1\", \"9-2\"], \"y\": [0.0, 0.0, 0.0, 0.0], \"type\": \"scatter\", \"uid\": \"efd21803-c202-11e8-ad2d-509a4c0f1ffc\"}, {\"name\": \"\\u97e9\\u5c11\\u6000_\\u5916\\u51fa\\u6280\\u672f\\u652f\\u6301\\u6570\", \"x\": [\"8-3\", \"8-4\", \"9-1\", \"9-2\"], \"y\": [0.0, 0.0, 0.0, 0.0], \"type\": \"scatter\", \"uid\": \"efd21804-c202-11e8-abf4-509a4c0f1ffc\"}, {\"name\": \"\\u97e9\\u5c11\\u6000_\\u5ba2\\u6237\\u6765\\u8bbf\\u63a5\\u5f85\\u6570\", \"x\": [\"8-3\", \"8-4\", \"9-1\", \"9-2\"], \"y\": [0.0, 0.0, 0.0, 0.0], \"type\": \"scatter\", \"uid\": \"efd21805-c202-11e8-83e8-509a4c0f1ffc\"}, {\"name\": \"\\u4e8e\\u52c7\\u4e00_\\u7535\\u8bdd\\u4f1a\\u8bae\\u6b21\\u6570\", \"x\": [\"8-3\", \"8-4\", \"9-1\", \"9-2\", \"9-3\"], \"y\": [0.0, 0.0, 0.0, 0.0, 0.0], \"type\": \"scatter\", \"uid\": \"efd21806-c202-11e8-9530-509a4c0f1ffc\"}, {\"name\": \"\\u4e8e\\u52c7\\u4e00_\\u5916\\u51fa\\u6280\\u672f\\u652f\\u6301\\u6570\", \"x\": [\"8-3\", \"8-4\", \"9-1\", \"9-2\", \"9-3\"], \"y\": [0.0, 0.0, 0.0, 0.0, 0.0], \"type\": \"scatter\", \"uid\": \"efd21807-c202-11e8-9205-509a4c0f1ffc\"}, {\"name\": \"\\u4e8e\\u52c7\\u4e00_\\u5ba2\\u6237\\u6765\\u8bbf\\u63a5\\u5f85\\u6570\", \"x\": [\"8-3\", \"8-4\", \"9-1\", \"9-2\", \"9-3\"], \"y\": [0.0, 0.0, 0.0, 0.0, 0.0], \"type\": \"scatter\", \"uid\": \"efd21808-c202-11e8-bfc8-509a4c0f1ffc\"}, {\"name\": \"\\u674e\\u534e\\u4e91_\\u7535\\u8bdd\\u4f1a\\u8bae\\u6b21\\u6570\", \"x\": [\"8-3\", \"8-4\", \"9-1\", \"9-2\", \"9-3\"], \"y\": [0.0, 0.0, 0.0, 0.0, 1.0], \"type\": \"scatter\", \"uid\": \"efd23f02-c202-11e8-893a-509a4c0f1ffc\"}, {\"name\": \"\\u674e\\u534e\\u4e91_\\u5916\\u51fa\\u6280\\u672f\\u652f\\u6301\\u6570\", \"x\": [\"8-3\", \"8-4\", \"9-1\", \"9-2\", \"9-3\"], \"y\": [0.0, 0.0, 0.0, 0.0, 0.0], \"type\": \"scatter\", \"uid\": \"efd23f03-c202-11e8-a466-509a4c0f1ffc\"}, {\"name\": \"\\u674e\\u534e\\u4e91_\\u5ba2\\u6237\\u6765\\u8bbf\\u63a5\\u5f85\\u6570\", \"x\": [\"8-3\", \"8-4\", \"9-1\", \"9-2\", \"9-3\"], \"y\": [0.0, 0.0, 0.0, 0.0, 0.0], \"type\": \"scatter\", \"uid\": \"efd23f04-c202-11e8-8d60-509a4c0f1ffc\"}, {\"name\": \"\\u5218\\u6167\\u73b2_\\u7535\\u8bdd\\u4f1a\\u8bae\\u6b21\\u6570\", \"x\": [\"8-3\", \"8-4\", \"9-1\"], \"y\": [0.0, 0.0, 0.0], \"type\": \"scatter\", \"uid\": \"efd23f05-c202-11e8-b46e-509a4c0f1ffc\"}, {\"name\": \"\\u5218\\u6167\\u73b2_\\u5916\\u51fa\\u6280\\u672f\\u652f\\u6301\\u6570\", \"x\": [\"8-3\", \"8-4\", \"9-1\"], \"y\": [0.0, 0.0, 0.0], \"type\": \"scatter\", \"uid\": \"efd23f06-c202-11e8-a08b-509a4c0f1ffc\"}, {\"name\": \"\\u5218\\u6167\\u73b2_\\u5ba2\\u6237\\u6765\\u8bbf\\u63a5\\u5f85\\u6570\", \"x\": [\"8-3\", \"8-4\", \"9-1\"], \"y\": [0.0, 0.0, 0.0], \"type\": \"scatter\", \"uid\": \"efd23f07-c202-11e8-9b08-509a4c0f1ffc\"}, {\"name\": \"\\u5b5f\\u660a_\\u7535\\u8bdd\\u4f1a\\u8bae\\u6b21\\u6570\", \"x\": [\"8-3\", \"8-4\", \"9-1\", \"9-2\", \"9-3\"], \"y\": [0.0, 0.0, 0.0, 0.0, 0.0], \"type\": \"scatter\", \"uid\": \"efd23f08-c202-11e8-a703-509a4c0f1ffc\"}, {\"name\": \"\\u5b5f\\u660a_\\u5916\\u51fa\\u6280\\u672f\\u652f\\u6301\\u6570\", \"x\": [\"8-3\", \"8-4\", \"9-1\", \"9-2\", \"9-3\"], \"y\": [0.0, 0.0, 0.0, 0.0, 0.0], \"type\": \"scatter\", \"uid\": \"efd23f09-c202-11e8-8561-509a4c0f1ffc\"}, {\"name\": \"\\u5b5f\\u660a_\\u5ba2\\u6237\\u6765\\u8bbf\\u63a5\\u5f85\\u6570\", \"x\": [\"8-3\", \"8-4\", \"9-1\", \"9-2\", \"9-3\"], \"y\": [0.0, 0.0, 0.0, 0.0, 0.0], \"type\": \"scatter\", \"uid\": \"efd23f0a-c202-11e8-a9da-509a4c0f1ffc\"}, {\"name\": \"\\u4e8e\\u6167_\\u7535\\u8bdd\\u4f1a\\u8bae\\u6b21\\u6570\", \"x\": [\"8-3\", \"8-4\", \"9-1\", \"9-2\", \"9-3\"], \"y\": [0.0, 0.0, 0.0, 0.0, 0.0], \"type\": \"scatter\", \"uid\": \"efd23f0b-c202-11e8-8a75-509a4c0f1ffc\"}, {\"name\": \"\\u4e8e\\u6167_\\u5916\\u51fa\\u6280\\u672f\\u652f\\u6301\\u6570\", \"x\": [\"8-3\", \"8-4\", \"9-1\", \"9-2\", \"9-3\"], \"y\": [0.0, 0.0, 0.0, 0.0, 0.0], \"type\": \"scatter\", \"uid\": \"efd23f0c-c202-11e8-aabf-509a4c0f1ffc\"}, {\"name\": \"\\u4e8e\\u6167_\\u5ba2\\u6237\\u6765\\u8bbf\\u63a5\\u5f85\\u6570\", \"x\": [\"8-3\", \"8-4\", \"9-1\", \"9-2\", \"9-3\"], \"y\": [0.0, 0.0, 0.0, 0.0, 0.0], \"type\": \"scatter\", \"uid\": \"efd23f0d-c202-11e8-a34a-509a4c0f1ffc\"}, {\"name\": \"\\u8d75\\u73a5_\\u7535\\u8bdd\\u4f1a\\u8bae\\u6b21\\u6570\", \"x\": [\"8-3\", \"8-4\", \"9-1\", \"9-2\"], \"y\": [2.0, 0.0, 0.0, 2.0], \"type\": \"scatter\", \"uid\": \"efd23f0e-c202-11e8-8422-509a4c0f1ffc\"}, {\"name\": \"\\u8d75\\u73a5_\\u5916\\u51fa\\u6280\\u672f\\u652f\\u6301\\u6570\", \"x\": [\"8-3\", \"8-4\", \"9-1\", \"9-2\"], \"y\": [0.0, 0.0, 0.0, 0.0], \"type\": \"scatter\", \"uid\": \"efd23f0f-c202-11e8-8a14-509a4c0f1ffc\"}, {\"name\": \"\\u8d75\\u73a5_\\u5ba2\\u6237\\u6765\\u8bbf\\u63a5\\u5f85\\u6570\", \"x\": [\"8-3\", \"8-4\", \"9-1\", \"9-2\"], \"y\": [0.0, 0.0, 0.0, 0.0], \"type\": \"scatter\", \"uid\": \"efd23f10-c202-11e8-83ee-509a4c0f1ffc\"}, {\"name\": \"\\u5c01\\u5f66\\u6770_\\u7535\\u8bdd\\u4f1a\\u8bae\\u6b21\\u6570\", \"x\": [\"8-3\", \"8-4\", \"9-1\", \"9-2\", \"9-3\"], \"y\": [0.0, 0.0, 0.0, 1.0, 1.0], \"type\": \"scatter\", \"uid\": \"efd23f11-c202-11e8-8058-509a4c0f1ffc\"}, {\"name\": \"\\u5c01\\u5f66\\u6770_\\u5916\\u51fa\\u6280\\u672f\\u652f\\u6301\\u6570\", \"x\": [\"8-3\", \"8-4\", \"9-1\", \"9-2\", \"9-3\"], \"y\": [0.0, 0.0, 0.0, 0.0, 0.0], \"type\": \"scatter\", \"uid\": \"efd23f12-c202-11e8-bbc2-509a4c0f1ffc\"}, {\"name\": \"\\u5c01\\u5f66\\u6770_\\u5ba2\\u6237\\u6765\\u8bbf\\u63a5\\u5f85\\u6570\", \"x\": [\"8-3\", \"8-4\", \"9-1\", \"9-2\", \"9-3\"], \"y\": [0.0, 0.0, 0.0, 0.0, 0.0], \"type\": \"scatter\", \"uid\": \"efd23f13-c202-11e8-a1b8-509a4c0f1ffc\"}, {\"name\": \"\\u8c22\\u5fb7\\u5065_\\u7535\\u8bdd\\u4f1a\\u8bae\\u6b21\\u6570\", \"x\": [\"8-3\", \"8-4\", \"9-2\", \"9-3\"], \"y\": [2.0, 1.0, 1.0, 1.0], \"type\": \"scatter\", \"uid\": \"efd23f14-c202-11e8-84f2-509a4c0f1ffc\"}, {\"name\": \"\\u8c22\\u5fb7\\u5065_\\u5916\\u51fa\\u6280\\u672f\\u652f\\u6301\\u6570\", \"x\": [\"8-3\", \"8-4\", \"9-2\", \"9-3\"], \"y\": [0.0, 0.0, 0.0, 0.0], \"type\": \"scatter\", \"uid\": \"efd23f15-c202-11e8-b444-509a4c0f1ffc\"}, {\"name\": \"\\u8c22\\u5fb7\\u5065_\\u5ba2\\u6237\\u6765\\u8bbf\\u63a5\\u5f85\\u6570\", \"x\": [\"8-3\", \"8-4\", \"9-2\", \"9-3\"], \"y\": [0.0, 0.0, 0.0, 0.0], \"type\": \"scatter\", \"uid\": \"efd23f16-c202-11e8-9c4c-509a4c0f1ffc\"}, {\"name\": \"\\u5468\\u6768_\\u7535\\u8bdd\\u4f1a\\u8bae\\u6b21\\u6570\", \"x\": [\"8-3\", \"8-4\", \"9-1\", \"9-2\", \"9-3\"], \"y\": [1.0, 0.0, 0.0, 0.0, 0.0], \"type\": \"scatter\", \"uid\": \"efd23f17-c202-11e8-8805-509a4c0f1ffc\"}, {\"name\": \"\\u5468\\u6768_\\u5916\\u51fa\\u6280\\u672f\\u652f\\u6301\\u6570\", \"x\": [\"8-3\", \"8-4\", \"9-1\", \"9-2\", \"9-3\"], \"y\": [0.0, 0.0, 0.0, 0.0, 0.0], \"type\": \"scatter\", \"uid\": \"efd23f18-c202-11e8-8884-509a4c0f1ffc\"}, {\"name\": \"\\u5468\\u6768_\\u5ba2\\u6237\\u6765\\u8bbf\\u63a5\\u5f85\\u6570\", \"x\": [\"8-3\", \"8-4\", \"9-1\", \"9-2\", \"9-3\"], \"y\": [0.0, 0.0, 0.0, 0.0, 0.0], \"type\": \"scatter\", \"uid\": \"efd23f19-c202-11e8-9b59-509a4c0f1ffc\"}, {\"name\": \"\\u5f20\\u5b88\\u4f1f_\\u7535\\u8bdd\\u4f1a\\u8bae\\u6b21\\u6570\", \"x\": [\"8-3\", \"8-4\", \"9-1\", \"9-2\"], \"y\": [0.0, 0.0, 0.0, 0.0], \"type\": \"scatter\", \"uid\": \"efd23f1a-c202-11e8-be78-509a4c0f1ffc\"}, {\"name\": \"\\u5f20\\u5b88\\u4f1f_\\u5916\\u51fa\\u6280\\u672f\\u652f\\u6301\\u6570\", \"x\": [\"8-3\", \"8-4\", \"9-1\", \"9-2\"], \"y\": [0.0, 0.0, 0.0, 0.0], \"type\": \"scatter\", \"uid\": \"efd23f1b-c202-11e8-a9db-509a4c0f1ffc\"}, {\"name\": \"\\u5f20\\u5b88\\u4f1f_\\u5ba2\\u6237\\u6765\\u8bbf\\u63a5\\u5f85\\u6570\", \"x\": [\"8-3\", \"8-4\", \"9-1\", \"9-2\"], \"y\": [0.0, 0.0, 0.0, 0.0], \"type\": \"scatter\", \"uid\": \"efd23f1c-c202-11e8-b6ce-509a4c0f1ffc\"}, {\"name\": \"\\u8def\\u6167\\u840d_\\u7535\\u8bdd\\u4f1a\\u8bae\\u6b21\\u6570\", \"x\": [\"8-3\", \"8-4\", \"9-1\", \"9-2\", \"9-3\"], \"y\": [1.0, 0.0, 0.0, 0.0, 0.0], \"type\": \"scatter\", \"uid\": \"efd23f1d-c202-11e8-8d0c-509a4c0f1ffc\"}, {\"name\": \"\\u8def\\u6167\\u840d_\\u5916\\u51fa\\u6280\\u672f\\u652f\\u6301\\u6570\", \"x\": [\"8-3\", \"8-4\", \"9-1\", \"9-2\", \"9-3\"], \"y\": [0.0, 0.0, 0.0, 0.0, 0.0], \"type\": \"scatter\", \"uid\": \"efd23f1e-c202-11e8-812a-509a4c0f1ffc\"}, {\"name\": \"\\u8def\\u6167\\u840d_\\u5ba2\\u6237\\u6765\\u8bbf\\u63a5\\u5f85\\u6570\", \"x\": [\"8-3\", \"8-4\", \"9-1\", \"9-2\", \"9-3\"], \"y\": [1.0, 0.0, 0.0, 0.0, 0.0], \"type\": \"scatter\", \"uid\": \"efd23f1f-c202-11e8-8a20-509a4c0f1ffc\"}, {\"name\": \"\\u5360\\u4f1f_\\u7535\\u8bdd\\u4f1a\\u8bae\\u6b21\\u6570\", \"x\": [\"8-3\", \"8-4\", \"9-1\", \"9-2\"], \"y\": [0.0, 1.0, 2.0, 1.0], \"type\": \"scatter\", \"uid\": \"efd23f20-c202-11e8-929f-509a4c0f1ffc\"}, {\"name\": \"\\u5360\\u4f1f_\\u5916\\u51fa\\u6280\\u672f\\u652f\\u6301\\u6570\", \"x\": [\"8-3\", \"8-4\", \"9-1\", \"9-2\"], \"y\": [0.0, 0.0, 0.0, 0.0], \"type\": \"scatter\", \"uid\": \"efd23f21-c202-11e8-ba57-509a4c0f1ffc\"}, {\"name\": \"\\u5360\\u4f1f_\\u5ba2\\u6237\\u6765\\u8bbf\\u63a5\\u5f85\\u6570\", \"x\": [\"8-3\", \"8-4\", \"9-1\", \"9-2\"], \"y\": [0.0, 0.0, 0.0, 0.0], \"type\": \"scatter\", \"uid\": \"efd23f22-c202-11e8-8985-509a4c0f1ffc\"}, {\"name\": \"\\u738b\\u5b81_\\u7535\\u8bdd\\u4f1a\\u8bae\\u6b21\\u6570\", \"x\": [\"8-3\", \"8-4\", \"9-1\"], \"y\": [0.0, 1.0, 0.0], \"type\": \"scatter\", \"uid\": \"efd23f23-c202-11e8-8cc8-509a4c0f1ffc\"}, {\"name\": \"\\u738b\\u5b81_\\u5916\\u51fa\\u6280\\u672f\\u652f\\u6301\\u6570\", \"x\": [\"8-3\", \"8-4\", \"9-1\"], \"y\": [0.0, 0.0, 0.0], \"type\": \"scatter\", \"uid\": \"efd23f24-c202-11e8-bdbc-509a4c0f1ffc\"}, {\"name\": \"\\u738b\\u5b81_\\u5ba2\\u6237\\u6765\\u8bbf\\u63a5\\u5f85\\u6570\", \"x\": [\"8-3\", \"8-4\", \"9-1\"], \"y\": [0.0, 0.0, 0.0], \"type\": \"scatter\", \"uid\": \"efd23f25-c202-11e8-89c1-509a4c0f1ffc\"}, {\"name\": \"\\u674e\\u5e86\\u539f_\\u7535\\u8bdd\\u4f1a\\u8bae\\u6b21\\u6570\", \"x\": [\"8-3\", \"8-4\", \"9-1\", \"9-2\", \"9-3\"], \"y\": [2.0, 0.0, 0.0, 1.0, 1.0], \"type\": \"scatter\", \"uid\": \"efd23f26-c202-11e8-8fb0-509a4c0f1ffc\"}, {\"name\": \"\\u674e\\u5e86\\u539f_\\u5916\\u51fa\\u6280\\u672f\\u652f\\u6301\\u6570\", \"x\": [\"8-3\", \"8-4\", \"9-1\", \"9-2\", \"9-3\"], \"y\": [0.0, 0.0, 0.0, 0.0, 0.0], \"type\": \"scatter\", \"uid\": \"efd23f27-c202-11e8-94aa-509a4c0f1ffc\"}, {\"name\": \"\\u674e\\u5e86\\u539f_\\u5ba2\\u6237\\u6765\\u8bbf\\u63a5\\u5f85\\u6570\", \"x\": [\"8-3\", \"8-4\", \"9-1\", \"9-2\", \"9-3\"], \"y\": [1.0, 0.0, 0.0, 0.0, 0.0], \"type\": \"scatter\", \"uid\": \"efd23f28-c202-11e8-aca1-509a4c0f1ffc\"}, {\"name\": \"\\u8303\\u65ed\\u5b81_\\u7535\\u8bdd\\u4f1a\\u8bae\\u6b21\\u6570\", \"x\": [\"8-3\", \"8-4\", \"9-1\", \"9-2\"], \"y\": [0.0, 0.0, 0.0, 0.0], \"type\": \"scatter\", \"uid\": \"efd23f29-c202-11e8-8cc9-509a4c0f1ffc\"}, {\"name\": \"\\u8303\\u65ed\\u5b81_\\u5916\\u51fa\\u6280\\u672f\\u652f\\u6301\\u6570\", \"x\": [\"8-3\", \"8-4\", \"9-1\", \"9-2\"], \"y\": [0.0, 0.0, 0.0, 0.0], \"type\": \"scatter\", \"uid\": \"efd23f2a-c202-11e8-810c-509a4c0f1ffc\"}, {\"name\": \"\\u8303\\u65ed\\u5b81_\\u5ba2\\u6237\\u6765\\u8bbf\\u63a5\\u5f85\\u6570\", \"x\": [\"8-3\", \"8-4\", \"9-1\", \"9-2\"], \"y\": [0.0, 0.0, 0.0, 0.0], \"type\": \"scatter\", \"uid\": \"efd23f2b-c202-11e8-85c5-509a4c0f1ffc\"}, {\"name\": \"\\u9a6c\\u6f47_\\u7535\\u8bdd\\u4f1a\\u8bae\\u6b21\\u6570\", \"x\": [\"8-3\", \"8-4\", \"9-1\", \"9-2\"], \"y\": [0.0, 0.0, 0.0, 0.0], \"type\": \"scatter\", \"uid\": \"efd23f2c-c202-11e8-bb31-509a4c0f1ffc\"}, {\"name\": \"\\u9a6c\\u6f47_\\u5916\\u51fa\\u6280\\u672f\\u652f\\u6301\\u6570\", \"x\": [\"8-3\", \"8-4\", \"9-1\", \"9-2\"], \"y\": [0.0, 0.0, 0.0, 0.0], \"type\": \"scatter\", \"uid\": \"efd23f2d-c202-11e8-a967-509a4c0f1ffc\"}, {\"name\": \"\\u9a6c\\u6f47_\\u5ba2\\u6237\\u6765\\u8bbf\\u63a5\\u5f85\\u6570\", \"x\": [\"8-3\", \"8-4\", \"9-1\", \"9-2\"], \"y\": [0.0, 0.0, 0.0, 0.0], \"type\": \"scatter\", \"uid\": \"efd26612-c202-11e8-8235-509a4c0f1ffc\"}, {\"name\": \"\\u4efb\\u96ea_\\u7535\\u8bdd\\u4f1a\\u8bae\\u6b21\\u6570\", \"x\": [\"8-4\", \"9-1\", \"9-2\", \"9-3\"], \"y\": [0.0, 0.0, 0.0, 0.0], \"type\": \"scatter\", \"uid\": \"efd26613-c202-11e8-aba1-509a4c0f1ffc\"}, {\"name\": \"\\u4efb\\u96ea_\\u5916\\u51fa\\u6280\\u672f\\u652f\\u6301\\u6570\", \"x\": [\"8-4\", \"9-1\", \"9-2\", \"9-3\"], \"y\": [0.0, 0.0, 0.0, 0.0], \"type\": \"scatter\", \"uid\": \"efd26614-c202-11e8-a0a9-509a4c0f1ffc\"}, {\"name\": \"\\u4efb\\u96ea_\\u5ba2\\u6237\\u6765\\u8bbf\\u63a5\\u5f85\\u6570\", \"x\": [\"8-4\", \"9-1\", \"9-2\", \"9-3\"], \"y\": [0.0, 0.0, 0.0, 1.0], \"type\": \"scatter\", \"uid\": \"efd26615-c202-11e8-bd16-509a4c0f1ffc\"}],\n",
       "            {\"title\": \"\\u7535\\u8bdd\\u4f1a\\u8bae\\u6b21\\u6570&\\u5916\\u51fa\\u6280\\u672f\\u652f\\u6301\\u6570&\\u5ba2\\u6237\\u6765\\u8bbf\\u63a5\\u5f85\\u6570\\u5468\\u8d8b\\u52bf\\u56fe\", \"xaxis\": {\"mirror\": \"all\", \"nticks\": 20, \"showgrid\": true, \"showline\": true, \"title\": \"\\u5468\", \"zeroline\": true}, \"yaxis\": {\"mirror\": \"all\", \"nticks\": 20, \"showgrid\": true, \"showline\": true, \"title\": \"\\u7535\\u8bdd\\u4f1a\\u8bae\\u6b21\\u6570&\\u5916\\u51fa\\u6280\\u672f\\u652f\\u6301\\u6570&\\u5ba2\\u6237\\u6765\\u8bbf\\u63a5\\u5f85\\u6570\", \"zeroline\": true}},\n",
       "            {\"showLink\": true, \"linkText\": \"Export to plot.ly\"}\n",
       "        ).then(function () {return Plotly.addFrames('13f35871-e2d6-4f94-994f-172ad64bfc47',{});}).then(function(){Plotly.animate('13f35871-e2d6-4f94-994f-172ad64bfc47');})\n",
       "        });</script>"
      ]
     },
     "metadata": {},
     "output_type": "display_data"
    },
    {
     "data": {
      "application/vnd.plotly.v1+json": {
       "data": [
        {
         "name": "于勇一_电话会议次数",
         "type": "scatter",
         "uid": "f0398c52-c202-11e8-9799-509a4c0f1ffc",
         "x": [
          "8",
          "9"
         ],
         "y": [
          0,
          0
         ]
        },
        {
         "name": "于勇一_外出技术支持数",
         "type": "scatter",
         "uid": "f0398c53-c202-11e8-af03-509a4c0f1ffc",
         "x": [
          "8",
          "9"
         ],
         "y": [
          0,
          0
         ]
        },
        {
         "name": "于勇一_客户来访接待数",
         "type": "scatter",
         "uid": "f0398c54-c202-11e8-8a36-509a4c0f1ffc",
         "x": [
          "8",
          "9"
         ],
         "y": [
          0,
          0
         ]
        },
        {
         "name": "于慧_电话会议次数",
         "type": "scatter",
         "uid": "f0398c55-c202-11e8-9cf8-509a4c0f1ffc",
         "x": [
          "8",
          "9"
         ],
         "y": [
          0,
          0
         ]
        },
        {
         "name": "于慧_外出技术支持数",
         "type": "scatter",
         "uid": "f0398c56-c202-11e8-af44-509a4c0f1ffc",
         "x": [
          "8",
          "9"
         ],
         "y": [
          0,
          0
         ]
        },
        {
         "name": "于慧_客户来访接待数",
         "type": "scatter",
         "uid": "f0398c57-c202-11e8-a1fe-509a4c0f1ffc",
         "x": [
          "8",
          "9"
         ],
         "y": [
          0,
          0
         ]
        },
        {
         "name": "任雪_电话会议次数",
         "type": "scatter",
         "uid": "f0398c58-c202-11e8-893e-509a4c0f1ffc",
         "x": [
          "8",
          "9"
         ],
         "y": [
          null,
          0
         ]
        },
        {
         "name": "任雪_外出技术支持数",
         "type": "scatter",
         "uid": "f0398c59-c202-11e8-938d-509a4c0f1ffc",
         "x": [
          "8",
          "9"
         ],
         "y": [
          null,
          0
         ]
        },
        {
         "name": "任雪_客户来访接待数",
         "type": "scatter",
         "uid": "f0398c5a-c202-11e8-a50d-509a4c0f1ffc",
         "x": [
          "8",
          "9"
         ],
         "y": [
          null,
          1
         ]
        },
        {
         "name": "刘慧玲_电话会议次数",
         "type": "scatter",
         "uid": "f0398c5b-c202-11e8-a45d-509a4c0f1ffc",
         "x": [
          "8",
          "9"
         ],
         "y": [
          0,
          null
         ]
        },
        {
         "name": "刘慧玲_外出技术支持数",
         "type": "scatter",
         "uid": "f0398c5c-c202-11e8-8727-509a4c0f1ffc",
         "x": [
          "8",
          "9"
         ],
         "y": [
          0,
          null
         ]
        },
        {
         "name": "刘慧玲_客户来访接待数",
         "type": "scatter",
         "uid": "f0398c5d-c202-11e8-ba17-509a4c0f1ffc",
         "x": [
          "8",
          "9"
         ],
         "y": [
          0,
          null
         ]
        },
        {
         "name": "刘江_电话会议次数",
         "type": "scatter",
         "uid": "f0398c5e-c202-11e8-acfe-509a4c0f1ffc",
         "x": [
          "8",
          "9"
         ],
         "y": [
          2,
          3
         ]
        },
        {
         "name": "刘江_外出技术支持数",
         "type": "scatter",
         "uid": "f0398c5f-c202-11e8-8dd5-509a4c0f1ffc",
         "x": [
          "8",
          "9"
         ],
         "y": [
          0,
          0
         ]
        },
        {
         "name": "刘江_客户来访接待数",
         "type": "scatter",
         "uid": "f0398c60-c202-11e8-9e45-509a4c0f1ffc",
         "x": [
          "8",
          "9"
         ],
         "y": [
          1,
          0
         ]
        },
        {
         "name": "占伟_电话会议次数",
         "type": "scatter",
         "uid": "f0398c61-c202-11e8-ba93-509a4c0f1ffc",
         "x": [
          "8",
          "9"
         ],
         "y": [
          1,
          null
         ]
        },
        {
         "name": "占伟_外出技术支持数",
         "type": "scatter",
         "uid": "f0398c62-c202-11e8-8994-509a4c0f1ffc",
         "x": [
          "8",
          "9"
         ],
         "y": [
          0,
          null
         ]
        },
        {
         "name": "占伟_客户来访接待数",
         "type": "scatter",
         "uid": "f0398c63-c202-11e8-b956-509a4c0f1ffc",
         "x": [
          "8",
          "9"
         ],
         "y": [
          0,
          null
         ]
        },
        {
         "name": "周杨_电话会议次数",
         "type": "scatter",
         "uid": "f0398c64-c202-11e8-9640-509a4c0f1ffc",
         "x": [
          "8",
          "9"
         ],
         "y": [
          1,
          0
         ]
        },
        {
         "name": "周杨_外出技术支持数",
         "type": "scatter",
         "uid": "f0398c65-c202-11e8-80c7-509a4c0f1ffc",
         "x": [
          "8",
          "9"
         ],
         "y": [
          0,
          0
         ]
        },
        {
         "name": "周杨_客户来访接待数",
         "type": "scatter",
         "uid": "f0398c66-c202-11e8-b4c2-509a4c0f1ffc",
         "x": [
          "8",
          "9"
         ],
         "y": [
          0,
          0
         ]
        },
        {
         "name": "姚盟成_电话会议次数",
         "type": "scatter",
         "uid": "f0398c67-c202-11e8-b066-509a4c0f1ffc",
         "x": [
          "8",
          "9"
         ],
         "y": [
          1,
          2
         ]
        },
        {
         "name": "姚盟成_外出技术支持数",
         "type": "scatter",
         "uid": "f0398c68-c202-11e8-9aee-509a4c0f1ffc",
         "x": [
          "8",
          "9"
         ],
         "y": [
          0,
          0
         ]
        },
        {
         "name": "姚盟成_客户来访接待数",
         "type": "scatter",
         "uid": "f0398c69-c202-11e8-980a-509a4c0f1ffc",
         "x": [
          "8",
          "9"
         ],
         "y": [
          0,
          0
         ]
        },
        {
         "name": "孟昊_电话会议次数",
         "type": "scatter",
         "uid": "f0398c6a-c202-11e8-b370-509a4c0f1ffc",
         "x": [
          "8",
          "9"
         ],
         "y": [
          0,
          0
         ]
        },
        {
         "name": "孟昊_外出技术支持数",
         "type": "scatter",
         "uid": "f039b362-c202-11e8-aa33-509a4c0f1ffc",
         "x": [
          "8",
          "9"
         ],
         "y": [
          0,
          0
         ]
        },
        {
         "name": "孟昊_客户来访接待数",
         "type": "scatter",
         "uid": "f039b363-c202-11e8-8d42-509a4c0f1ffc",
         "x": [
          "8",
          "9"
         ],
         "y": [
          0,
          0
         ]
        },
        {
         "name": "宋迎楠_电话会议次数",
         "type": "scatter",
         "uid": "f039b364-c202-11e8-a2af-509a4c0f1ffc",
         "x": [
          "8",
          "9"
         ],
         "y": [
          0,
          null
         ]
        },
        {
         "name": "宋迎楠_外出技术支持数",
         "type": "scatter",
         "uid": "f039b365-c202-11e8-9ca0-509a4c0f1ffc",
         "x": [
          "8",
          "9"
         ],
         "y": [
          0,
          null
         ]
        },
        {
         "name": "宋迎楠_客户来访接待数",
         "type": "scatter",
         "uid": "f039b366-c202-11e8-afaa-509a4c0f1ffc",
         "x": [
          "8",
          "9"
         ],
         "y": [
          0,
          null
         ]
        },
        {
         "name": "封彦杰_电话会议次数",
         "type": "scatter",
         "uid": "f039b367-c202-11e8-894c-509a4c0f1ffc",
         "x": [
          "8",
          "9"
         ],
         "y": [
          0,
          2
         ]
        },
        {
         "name": "封彦杰_外出技术支持数",
         "type": "scatter",
         "uid": "f039b368-c202-11e8-bc45-509a4c0f1ffc",
         "x": [
          "8",
          "9"
         ],
         "y": [
          0,
          0
         ]
        },
        {
         "name": "封彦杰_客户来访接待数",
         "type": "scatter",
         "uid": "f039b369-c202-11e8-ae6d-509a4c0f1ffc",
         "x": [
          "8",
          "9"
         ],
         "y": [
          0,
          0
         ]
        },
        {
         "name": "张守伟_电话会议次数",
         "type": "scatter",
         "uid": "f039b36a-c202-11e8-a4cb-509a4c0f1ffc",
         "x": [
          "8",
          "9"
         ],
         "y": [
          0,
          null
         ]
        },
        {
         "name": "张守伟_外出技术支持数",
         "type": "scatter",
         "uid": "f039b36b-c202-11e8-b825-509a4c0f1ffc",
         "x": [
          "8",
          "9"
         ],
         "y": [
          0,
          null
         ]
        },
        {
         "name": "张守伟_客户来访接待数",
         "type": "scatter",
         "uid": "f039b36c-c202-11e8-bde4-509a4c0f1ffc",
         "x": [
          "8",
          "9"
         ],
         "y": [
          0,
          null
         ]
        },
        {
         "name": "李华云_电话会议次数",
         "type": "scatter",
         "uid": "f039b36d-c202-11e8-8caf-509a4c0f1ffc",
         "x": [
          "8",
          "9"
         ],
         "y": [
          0,
          1
         ]
        },
        {
         "name": "李华云_外出技术支持数",
         "type": "scatter",
         "uid": "f039b36e-c202-11e8-9d8b-509a4c0f1ffc",
         "x": [
          "8",
          "9"
         ],
         "y": [
          0,
          0
         ]
        },
        {
         "name": "李华云_客户来访接待数",
         "type": "scatter",
         "uid": "f039b36f-c202-11e8-9b14-509a4c0f1ffc",
         "x": [
          "8",
          "9"
         ],
         "y": [
          0,
          0
         ]
        },
        {
         "name": "李庆原_电话会议次数",
         "type": "scatter",
         "uid": "f039b370-c202-11e8-852b-509a4c0f1ffc",
         "x": [
          "8",
          "9"
         ],
         "y": [
          2,
          2
         ]
        },
        {
         "name": "李庆原_外出技术支持数",
         "type": "scatter",
         "uid": "f039b371-c202-11e8-af5e-509a4c0f1ffc",
         "x": [
          "8",
          "9"
         ],
         "y": [
          0,
          0
         ]
        },
        {
         "name": "李庆原_客户来访接待数",
         "type": "scatter",
         "uid": "f039b372-c202-11e8-ab5e-509a4c0f1ffc",
         "x": [
          "8",
          "9"
         ],
         "y": [
          1,
          0
         ]
        },
        {
         "name": "杨伟飞_电话会议次数",
         "type": "scatter",
         "uid": "f039b373-c202-11e8-8408-509a4c0f1ffc",
         "x": [
          "8",
          "9"
         ],
         "y": [
          0,
          4
         ]
        },
        {
         "name": "杨伟飞_外出技术支持数",
         "type": "scatter",
         "uid": "f039b374-c202-11e8-a1af-509a4c0f1ffc",
         "x": [
          "8",
          "9"
         ],
         "y": [
          0,
          0
         ]
        },
        {
         "name": "杨伟飞_客户来访接待数",
         "type": "scatter",
         "uid": "f039b375-c202-11e8-b94f-509a4c0f1ffc",
         "x": [
          "8",
          "9"
         ],
         "y": [
          0,
          0
         ]
        },
        {
         "name": "王宁_电话会议次数",
         "type": "scatter",
         "uid": "f039b376-c202-11e8-b271-509a4c0f1ffc",
         "x": [
          "8",
          "9"
         ],
         "y": [
          1,
          null
         ]
        },
        {
         "name": "王宁_外出技术支持数",
         "type": "scatter",
         "uid": "f039b377-c202-11e8-be8d-509a4c0f1ffc",
         "x": [
          "8",
          "9"
         ],
         "y": [
          0,
          null
         ]
        },
        {
         "name": "王宁_客户来访接待数",
         "type": "scatter",
         "uid": "f039b378-c202-11e8-8364-509a4c0f1ffc",
         "x": [
          "8",
          "9"
         ],
         "y": [
          0,
          null
         ]
        },
        {
         "name": "苏彦勋_电话会议次数",
         "type": "scatter",
         "uid": "f039b379-c202-11e8-9d6a-509a4c0f1ffc",
         "x": [
          "8",
          "9"
         ],
         "y": [
          0,
          0
         ]
        },
        {
         "name": "苏彦勋_外出技术支持数",
         "type": "scatter",
         "uid": "f039b37a-c202-11e8-921e-509a4c0f1ffc",
         "x": [
          "8",
          "9"
         ],
         "y": [
          0,
          0
         ]
        },
        {
         "name": "苏彦勋_客户来访接待数",
         "type": "scatter",
         "uid": "f039b37b-c202-11e8-80a4-509a4c0f1ffc",
         "x": [
          "8",
          "9"
         ],
         "y": [
          0,
          0
         ]
        },
        {
         "name": "范旭宁_电话会议次数",
         "type": "scatter",
         "uid": "f039b37c-c202-11e8-8638-509a4c0f1ffc",
         "x": [
          "8",
          "9"
         ],
         "y": [
          0,
          null
         ]
        },
        {
         "name": "范旭宁_外出技术支持数",
         "type": "scatter",
         "uid": "f039b37d-c202-11e8-8d09-509a4c0f1ffc",
         "x": [
          "8",
          "9"
         ],
         "y": [
          0,
          null
         ]
        },
        {
         "name": "范旭宁_客户来访接待数",
         "type": "scatter",
         "uid": "f039b37e-c202-11e8-9b54-509a4c0f1ffc",
         "x": [
          "8",
          "9"
         ],
         "y": [
          0,
          null
         ]
        },
        {
         "name": "谢德健_电话会议次数",
         "type": "scatter",
         "uid": "f039b37f-c202-11e8-8da8-509a4c0f1ffc",
         "x": [
          "8",
          "9"
         ],
         "y": [
          3,
          null
         ]
        },
        {
         "name": "谢德健_外出技术支持数",
         "type": "scatter",
         "uid": "f039b380-c202-11e8-8b8c-509a4c0f1ffc",
         "x": [
          "8",
          "9"
         ],
         "y": [
          0,
          null
         ]
        },
        {
         "name": "谢德健_客户来访接待数",
         "type": "scatter",
         "uid": "f039b381-c202-11e8-bbba-509a4c0f1ffc",
         "x": [
          "8",
          "9"
         ],
         "y": [
          0,
          null
         ]
        },
        {
         "name": "赵玥_电话会议次数",
         "type": "scatter",
         "uid": "f039b382-c202-11e8-b16a-509a4c0f1ffc",
         "x": [
          "8",
          "9"
         ],
         "y": [
          2,
          null
         ]
        },
        {
         "name": "赵玥_外出技术支持数",
         "type": "scatter",
         "uid": "f039b383-c202-11e8-8063-509a4c0f1ffc",
         "x": [
          "8",
          "9"
         ],
         "y": [
          0,
          null
         ]
        },
        {
         "name": "赵玥_客户来访接待数",
         "type": "scatter",
         "uid": "f039b384-c202-11e8-933d-509a4c0f1ffc",
         "x": [
          "8",
          "9"
         ],
         "y": [
          0,
          null
         ]
        },
        {
         "name": "路慧萍_电话会议次数",
         "type": "scatter",
         "uid": "f039b385-c202-11e8-b0d9-509a4c0f1ffc",
         "x": [
          "8",
          "9"
         ],
         "y": [
          1,
          0
         ]
        },
        {
         "name": "路慧萍_外出技术支持数",
         "type": "scatter",
         "uid": "f039b386-c202-11e8-8ab9-509a4c0f1ffc",
         "x": [
          "8",
          "9"
         ],
         "y": [
          0,
          0
         ]
        },
        {
         "name": "路慧萍_客户来访接待数",
         "type": "scatter",
         "uid": "f039b387-c202-11e8-a597-509a4c0f1ffc",
         "x": [
          "8",
          "9"
         ],
         "y": [
          1,
          0
         ]
        },
        {
         "name": "韩少怀_电话会议次数",
         "type": "scatter",
         "uid": "f039b388-c202-11e8-b46b-509a4c0f1ffc",
         "x": [
          "8",
          "9"
         ],
         "y": [
          0,
          null
         ]
        },
        {
         "name": "韩少怀_外出技术支持数",
         "type": "scatter",
         "uid": "f039b389-c202-11e8-8af9-509a4c0f1ffc",
         "x": [
          "8",
          "9"
         ],
         "y": [
          0,
          null
         ]
        },
        {
         "name": "韩少怀_客户来访接待数",
         "type": "scatter",
         "uid": "f039b38a-c202-11e8-8443-509a4c0f1ffc",
         "x": [
          "8",
          "9"
         ],
         "y": [
          0,
          null
         ]
        },
        {
         "name": "马潇_电话会议次数",
         "type": "scatter",
         "uid": "f039b38b-c202-11e8-9407-509a4c0f1ffc",
         "x": [
          "8",
          "9"
         ],
         "y": [
          0,
          null
         ]
        },
        {
         "name": "马潇_外出技术支持数",
         "type": "scatter",
         "uid": "f039b38c-c202-11e8-96c8-509a4c0f1ffc",
         "x": [
          "8",
          "9"
         ],
         "y": [
          0,
          null
         ]
        },
        {
         "name": "马潇_客户来访接待数",
         "type": "scatter",
         "uid": "f039b38d-c202-11e8-9daf-509a4c0f1ffc",
         "x": [
          "8",
          "9"
         ],
         "y": [
          0,
          null
         ]
        }
       ],
       "layout": {
        "title": "电话会议次数&外出技术支持数&客户来访接待数月趋势图",
        "xaxis": {
         "mirror": "all",
         "nticks": 20,
         "showgrid": true,
         "showline": true,
         "title": "月",
         "zeroline": true
        },
        "yaxis": {
         "mirror": "all",
         "nticks": 20,
         "showgrid": true,
         "showline": true,
         "title": "电话会议次数&外出技术支持数&客户来访接待数",
         "zeroline": true
        }
       }
      },
      "text/html": [
       "<div id=\"6259daaf-e70c-4ce4-b16b-d1bfbc2bd4d1\" style=\"height: 525px; width: 100%;\" class=\"plotly-graph-div\"></div><script type=\"text/javascript\">require([\"plotly\"], function(Plotly) { window.PLOTLYENV=window.PLOTLYENV || {};window.PLOTLYENV.BASE_URL=\"https://plot.ly\";\n",
       "        Plotly.plot(\n",
       "            '6259daaf-e70c-4ce4-b16b-d1bfbc2bd4d1',\n",
       "            [{\"name\": \"\\u4e8e\\u52c7\\u4e00_\\u7535\\u8bdd\\u4f1a\\u8bae\\u6b21\\u6570\", \"x\": [\"8\", \"9\"], \"y\": [0.0, 0.0], \"type\": \"scatter\", \"uid\": \"f0398c52-c202-11e8-9799-509a4c0f1ffc\"}, {\"name\": \"\\u4e8e\\u52c7\\u4e00_\\u5916\\u51fa\\u6280\\u672f\\u652f\\u6301\\u6570\", \"x\": [\"8\", \"9\"], \"y\": [0.0, 0.0], \"type\": \"scatter\", \"uid\": \"f0398c53-c202-11e8-af03-509a4c0f1ffc\"}, {\"name\": \"\\u4e8e\\u52c7\\u4e00_\\u5ba2\\u6237\\u6765\\u8bbf\\u63a5\\u5f85\\u6570\", \"x\": [\"8\", \"9\"], \"y\": [0.0, 0.0], \"type\": \"scatter\", \"uid\": \"f0398c54-c202-11e8-8a36-509a4c0f1ffc\"}, {\"name\": \"\\u4e8e\\u6167_\\u7535\\u8bdd\\u4f1a\\u8bae\\u6b21\\u6570\", \"x\": [\"8\", \"9\"], \"y\": [0.0, 0.0], \"type\": \"scatter\", \"uid\": \"f0398c55-c202-11e8-9cf8-509a4c0f1ffc\"}, {\"name\": \"\\u4e8e\\u6167_\\u5916\\u51fa\\u6280\\u672f\\u652f\\u6301\\u6570\", \"x\": [\"8\", \"9\"], \"y\": [0.0, 0.0], \"type\": \"scatter\", \"uid\": \"f0398c56-c202-11e8-af44-509a4c0f1ffc\"}, {\"name\": \"\\u4e8e\\u6167_\\u5ba2\\u6237\\u6765\\u8bbf\\u63a5\\u5f85\\u6570\", \"x\": [\"8\", \"9\"], \"y\": [0.0, 0.0], \"type\": \"scatter\", \"uid\": \"f0398c57-c202-11e8-a1fe-509a4c0f1ffc\"}, {\"name\": \"\\u4efb\\u96ea_\\u7535\\u8bdd\\u4f1a\\u8bae\\u6b21\\u6570\", \"x\": [\"8\", \"9\"], \"y\": [null, 0.0], \"type\": \"scatter\", \"uid\": \"f0398c58-c202-11e8-893e-509a4c0f1ffc\"}, {\"name\": \"\\u4efb\\u96ea_\\u5916\\u51fa\\u6280\\u672f\\u652f\\u6301\\u6570\", \"x\": [\"8\", \"9\"], \"y\": [null, 0.0], \"type\": \"scatter\", \"uid\": \"f0398c59-c202-11e8-938d-509a4c0f1ffc\"}, {\"name\": \"\\u4efb\\u96ea_\\u5ba2\\u6237\\u6765\\u8bbf\\u63a5\\u5f85\\u6570\", \"x\": [\"8\", \"9\"], \"y\": [null, 1.0], \"type\": \"scatter\", \"uid\": \"f0398c5a-c202-11e8-a50d-509a4c0f1ffc\"}, {\"name\": \"\\u5218\\u6167\\u73b2_\\u7535\\u8bdd\\u4f1a\\u8bae\\u6b21\\u6570\", \"x\": [\"8\", \"9\"], \"y\": [0.0, null], \"type\": \"scatter\", \"uid\": \"f0398c5b-c202-11e8-a45d-509a4c0f1ffc\"}, {\"name\": \"\\u5218\\u6167\\u73b2_\\u5916\\u51fa\\u6280\\u672f\\u652f\\u6301\\u6570\", \"x\": [\"8\", \"9\"], \"y\": [0.0, null], \"type\": \"scatter\", \"uid\": \"f0398c5c-c202-11e8-8727-509a4c0f1ffc\"}, {\"name\": \"\\u5218\\u6167\\u73b2_\\u5ba2\\u6237\\u6765\\u8bbf\\u63a5\\u5f85\\u6570\", \"x\": [\"8\", \"9\"], \"y\": [0.0, null], \"type\": \"scatter\", \"uid\": \"f0398c5d-c202-11e8-ba17-509a4c0f1ffc\"}, {\"name\": \"\\u5218\\u6c5f_\\u7535\\u8bdd\\u4f1a\\u8bae\\u6b21\\u6570\", \"x\": [\"8\", \"9\"], \"y\": [2.0, 3.0], \"type\": \"scatter\", \"uid\": \"f0398c5e-c202-11e8-acfe-509a4c0f1ffc\"}, {\"name\": \"\\u5218\\u6c5f_\\u5916\\u51fa\\u6280\\u672f\\u652f\\u6301\\u6570\", \"x\": [\"8\", \"9\"], \"y\": [0.0, 0.0], \"type\": \"scatter\", \"uid\": \"f0398c5f-c202-11e8-8dd5-509a4c0f1ffc\"}, {\"name\": \"\\u5218\\u6c5f_\\u5ba2\\u6237\\u6765\\u8bbf\\u63a5\\u5f85\\u6570\", \"x\": [\"8\", \"9\"], \"y\": [1.0, 0.0], \"type\": \"scatter\", \"uid\": \"f0398c60-c202-11e8-9e45-509a4c0f1ffc\"}, {\"name\": \"\\u5360\\u4f1f_\\u7535\\u8bdd\\u4f1a\\u8bae\\u6b21\\u6570\", \"x\": [\"8\", \"9\"], \"y\": [1.0, null], \"type\": \"scatter\", \"uid\": \"f0398c61-c202-11e8-ba93-509a4c0f1ffc\"}, {\"name\": \"\\u5360\\u4f1f_\\u5916\\u51fa\\u6280\\u672f\\u652f\\u6301\\u6570\", \"x\": [\"8\", \"9\"], \"y\": [0.0, null], \"type\": \"scatter\", \"uid\": \"f0398c62-c202-11e8-8994-509a4c0f1ffc\"}, {\"name\": \"\\u5360\\u4f1f_\\u5ba2\\u6237\\u6765\\u8bbf\\u63a5\\u5f85\\u6570\", \"x\": [\"8\", \"9\"], \"y\": [0.0, null], \"type\": \"scatter\", \"uid\": \"f0398c63-c202-11e8-b956-509a4c0f1ffc\"}, {\"name\": \"\\u5468\\u6768_\\u7535\\u8bdd\\u4f1a\\u8bae\\u6b21\\u6570\", \"x\": [\"8\", \"9\"], \"y\": [1.0, 0.0], \"type\": \"scatter\", \"uid\": \"f0398c64-c202-11e8-9640-509a4c0f1ffc\"}, {\"name\": \"\\u5468\\u6768_\\u5916\\u51fa\\u6280\\u672f\\u652f\\u6301\\u6570\", \"x\": [\"8\", \"9\"], \"y\": [0.0, 0.0], \"type\": \"scatter\", \"uid\": \"f0398c65-c202-11e8-80c7-509a4c0f1ffc\"}, {\"name\": \"\\u5468\\u6768_\\u5ba2\\u6237\\u6765\\u8bbf\\u63a5\\u5f85\\u6570\", \"x\": [\"8\", \"9\"], \"y\": [0.0, 0.0], \"type\": \"scatter\", \"uid\": \"f0398c66-c202-11e8-b4c2-509a4c0f1ffc\"}, {\"name\": \"\\u59da\\u76df\\u6210_\\u7535\\u8bdd\\u4f1a\\u8bae\\u6b21\\u6570\", \"x\": [\"8\", \"9\"], \"y\": [1.0, 2.0], \"type\": \"scatter\", \"uid\": \"f0398c67-c202-11e8-b066-509a4c0f1ffc\"}, {\"name\": \"\\u59da\\u76df\\u6210_\\u5916\\u51fa\\u6280\\u672f\\u652f\\u6301\\u6570\", \"x\": [\"8\", \"9\"], \"y\": [0.0, 0.0], \"type\": \"scatter\", \"uid\": \"f0398c68-c202-11e8-9aee-509a4c0f1ffc\"}, {\"name\": \"\\u59da\\u76df\\u6210_\\u5ba2\\u6237\\u6765\\u8bbf\\u63a5\\u5f85\\u6570\", \"x\": [\"8\", \"9\"], \"y\": [0.0, 0.0], \"type\": \"scatter\", \"uid\": \"f0398c69-c202-11e8-980a-509a4c0f1ffc\"}, {\"name\": \"\\u5b5f\\u660a_\\u7535\\u8bdd\\u4f1a\\u8bae\\u6b21\\u6570\", \"x\": [\"8\", \"9\"], \"y\": [0.0, 0.0], \"type\": \"scatter\", \"uid\": \"f0398c6a-c202-11e8-b370-509a4c0f1ffc\"}, {\"name\": \"\\u5b5f\\u660a_\\u5916\\u51fa\\u6280\\u672f\\u652f\\u6301\\u6570\", \"x\": [\"8\", \"9\"], \"y\": [0.0, 0.0], \"type\": \"scatter\", \"uid\": \"f039b362-c202-11e8-aa33-509a4c0f1ffc\"}, {\"name\": \"\\u5b5f\\u660a_\\u5ba2\\u6237\\u6765\\u8bbf\\u63a5\\u5f85\\u6570\", \"x\": [\"8\", \"9\"], \"y\": [0.0, 0.0], \"type\": \"scatter\", \"uid\": \"f039b363-c202-11e8-8d42-509a4c0f1ffc\"}, {\"name\": \"\\u5b8b\\u8fce\\u6960_\\u7535\\u8bdd\\u4f1a\\u8bae\\u6b21\\u6570\", \"x\": [\"8\", \"9\"], \"y\": [0.0, null], \"type\": \"scatter\", \"uid\": \"f039b364-c202-11e8-a2af-509a4c0f1ffc\"}, {\"name\": \"\\u5b8b\\u8fce\\u6960_\\u5916\\u51fa\\u6280\\u672f\\u652f\\u6301\\u6570\", \"x\": [\"8\", \"9\"], \"y\": [0.0, null], \"type\": \"scatter\", \"uid\": \"f039b365-c202-11e8-9ca0-509a4c0f1ffc\"}, {\"name\": \"\\u5b8b\\u8fce\\u6960_\\u5ba2\\u6237\\u6765\\u8bbf\\u63a5\\u5f85\\u6570\", \"x\": [\"8\", \"9\"], \"y\": [0.0, null], \"type\": \"scatter\", \"uid\": \"f039b366-c202-11e8-afaa-509a4c0f1ffc\"}, {\"name\": \"\\u5c01\\u5f66\\u6770_\\u7535\\u8bdd\\u4f1a\\u8bae\\u6b21\\u6570\", \"x\": [\"8\", \"9\"], \"y\": [0.0, 2.0], \"type\": \"scatter\", \"uid\": \"f039b367-c202-11e8-894c-509a4c0f1ffc\"}, {\"name\": \"\\u5c01\\u5f66\\u6770_\\u5916\\u51fa\\u6280\\u672f\\u652f\\u6301\\u6570\", \"x\": [\"8\", \"9\"], \"y\": [0.0, 0.0], \"type\": \"scatter\", \"uid\": \"f039b368-c202-11e8-bc45-509a4c0f1ffc\"}, {\"name\": \"\\u5c01\\u5f66\\u6770_\\u5ba2\\u6237\\u6765\\u8bbf\\u63a5\\u5f85\\u6570\", \"x\": [\"8\", \"9\"], \"y\": [0.0, 0.0], \"type\": \"scatter\", \"uid\": \"f039b369-c202-11e8-ae6d-509a4c0f1ffc\"}, {\"name\": \"\\u5f20\\u5b88\\u4f1f_\\u7535\\u8bdd\\u4f1a\\u8bae\\u6b21\\u6570\", \"x\": [\"8\", \"9\"], \"y\": [0.0, null], \"type\": \"scatter\", \"uid\": \"f039b36a-c202-11e8-a4cb-509a4c0f1ffc\"}, {\"name\": \"\\u5f20\\u5b88\\u4f1f_\\u5916\\u51fa\\u6280\\u672f\\u652f\\u6301\\u6570\", \"x\": [\"8\", \"9\"], \"y\": [0.0, null], \"type\": \"scatter\", \"uid\": \"f039b36b-c202-11e8-b825-509a4c0f1ffc\"}, {\"name\": \"\\u5f20\\u5b88\\u4f1f_\\u5ba2\\u6237\\u6765\\u8bbf\\u63a5\\u5f85\\u6570\", \"x\": [\"8\", \"9\"], \"y\": [0.0, null], \"type\": \"scatter\", \"uid\": \"f039b36c-c202-11e8-bde4-509a4c0f1ffc\"}, {\"name\": \"\\u674e\\u534e\\u4e91_\\u7535\\u8bdd\\u4f1a\\u8bae\\u6b21\\u6570\", \"x\": [\"8\", \"9\"], \"y\": [0.0, 1.0], \"type\": \"scatter\", \"uid\": \"f039b36d-c202-11e8-8caf-509a4c0f1ffc\"}, {\"name\": \"\\u674e\\u534e\\u4e91_\\u5916\\u51fa\\u6280\\u672f\\u652f\\u6301\\u6570\", \"x\": [\"8\", \"9\"], \"y\": [0.0, 0.0], \"type\": \"scatter\", \"uid\": \"f039b36e-c202-11e8-9d8b-509a4c0f1ffc\"}, {\"name\": \"\\u674e\\u534e\\u4e91_\\u5ba2\\u6237\\u6765\\u8bbf\\u63a5\\u5f85\\u6570\", \"x\": [\"8\", \"9\"], \"y\": [0.0, 0.0], \"type\": \"scatter\", \"uid\": \"f039b36f-c202-11e8-9b14-509a4c0f1ffc\"}, {\"name\": \"\\u674e\\u5e86\\u539f_\\u7535\\u8bdd\\u4f1a\\u8bae\\u6b21\\u6570\", \"x\": [\"8\", \"9\"], \"y\": [2.0, 2.0], \"type\": \"scatter\", \"uid\": \"f039b370-c202-11e8-852b-509a4c0f1ffc\"}, {\"name\": \"\\u674e\\u5e86\\u539f_\\u5916\\u51fa\\u6280\\u672f\\u652f\\u6301\\u6570\", \"x\": [\"8\", \"9\"], \"y\": [0.0, 0.0], \"type\": \"scatter\", \"uid\": \"f039b371-c202-11e8-af5e-509a4c0f1ffc\"}, {\"name\": \"\\u674e\\u5e86\\u539f_\\u5ba2\\u6237\\u6765\\u8bbf\\u63a5\\u5f85\\u6570\", \"x\": [\"8\", \"9\"], \"y\": [1.0, 0.0], \"type\": \"scatter\", \"uid\": \"f039b372-c202-11e8-ab5e-509a4c0f1ffc\"}, {\"name\": \"\\u6768\\u4f1f\\u98de_\\u7535\\u8bdd\\u4f1a\\u8bae\\u6b21\\u6570\", \"x\": [\"8\", \"9\"], \"y\": [0.0, 4.0], \"type\": \"scatter\", \"uid\": \"f039b373-c202-11e8-8408-509a4c0f1ffc\"}, {\"name\": \"\\u6768\\u4f1f\\u98de_\\u5916\\u51fa\\u6280\\u672f\\u652f\\u6301\\u6570\", \"x\": [\"8\", \"9\"], \"y\": [0.0, 0.0], \"type\": \"scatter\", \"uid\": \"f039b374-c202-11e8-a1af-509a4c0f1ffc\"}, {\"name\": \"\\u6768\\u4f1f\\u98de_\\u5ba2\\u6237\\u6765\\u8bbf\\u63a5\\u5f85\\u6570\", \"x\": [\"8\", \"9\"], \"y\": [0.0, 0.0], \"type\": \"scatter\", \"uid\": \"f039b375-c202-11e8-b94f-509a4c0f1ffc\"}, {\"name\": \"\\u738b\\u5b81_\\u7535\\u8bdd\\u4f1a\\u8bae\\u6b21\\u6570\", \"x\": [\"8\", \"9\"], \"y\": [1.0, null], \"type\": \"scatter\", \"uid\": \"f039b376-c202-11e8-b271-509a4c0f1ffc\"}, {\"name\": \"\\u738b\\u5b81_\\u5916\\u51fa\\u6280\\u672f\\u652f\\u6301\\u6570\", \"x\": [\"8\", \"9\"], \"y\": [0.0, null], \"type\": \"scatter\", \"uid\": \"f039b377-c202-11e8-be8d-509a4c0f1ffc\"}, {\"name\": \"\\u738b\\u5b81_\\u5ba2\\u6237\\u6765\\u8bbf\\u63a5\\u5f85\\u6570\", \"x\": [\"8\", \"9\"], \"y\": [0.0, null], \"type\": \"scatter\", \"uid\": \"f039b378-c202-11e8-8364-509a4c0f1ffc\"}, {\"name\": \"\\u82cf\\u5f66\\u52cb_\\u7535\\u8bdd\\u4f1a\\u8bae\\u6b21\\u6570\", \"x\": [\"8\", \"9\"], \"y\": [0.0, 0.0], \"type\": \"scatter\", \"uid\": \"f039b379-c202-11e8-9d6a-509a4c0f1ffc\"}, {\"name\": \"\\u82cf\\u5f66\\u52cb_\\u5916\\u51fa\\u6280\\u672f\\u652f\\u6301\\u6570\", \"x\": [\"8\", \"9\"], \"y\": [0.0, 0.0], \"type\": \"scatter\", \"uid\": \"f039b37a-c202-11e8-921e-509a4c0f1ffc\"}, {\"name\": \"\\u82cf\\u5f66\\u52cb_\\u5ba2\\u6237\\u6765\\u8bbf\\u63a5\\u5f85\\u6570\", \"x\": [\"8\", \"9\"], \"y\": [0.0, 0.0], \"type\": \"scatter\", \"uid\": \"f039b37b-c202-11e8-80a4-509a4c0f1ffc\"}, {\"name\": \"\\u8303\\u65ed\\u5b81_\\u7535\\u8bdd\\u4f1a\\u8bae\\u6b21\\u6570\", \"x\": [\"8\", \"9\"], \"y\": [0.0, null], \"type\": \"scatter\", \"uid\": \"f039b37c-c202-11e8-8638-509a4c0f1ffc\"}, {\"name\": \"\\u8303\\u65ed\\u5b81_\\u5916\\u51fa\\u6280\\u672f\\u652f\\u6301\\u6570\", \"x\": [\"8\", \"9\"], \"y\": [0.0, null], \"type\": \"scatter\", \"uid\": \"f039b37d-c202-11e8-8d09-509a4c0f1ffc\"}, {\"name\": \"\\u8303\\u65ed\\u5b81_\\u5ba2\\u6237\\u6765\\u8bbf\\u63a5\\u5f85\\u6570\", \"x\": [\"8\", \"9\"], \"y\": [0.0, null], \"type\": \"scatter\", \"uid\": \"f039b37e-c202-11e8-9b54-509a4c0f1ffc\"}, {\"name\": \"\\u8c22\\u5fb7\\u5065_\\u7535\\u8bdd\\u4f1a\\u8bae\\u6b21\\u6570\", \"x\": [\"8\", \"9\"], \"y\": [3.0, null], \"type\": \"scatter\", \"uid\": \"f039b37f-c202-11e8-8da8-509a4c0f1ffc\"}, {\"name\": \"\\u8c22\\u5fb7\\u5065_\\u5916\\u51fa\\u6280\\u672f\\u652f\\u6301\\u6570\", \"x\": [\"8\", \"9\"], \"y\": [0.0, null], \"type\": \"scatter\", \"uid\": \"f039b380-c202-11e8-8b8c-509a4c0f1ffc\"}, {\"name\": \"\\u8c22\\u5fb7\\u5065_\\u5ba2\\u6237\\u6765\\u8bbf\\u63a5\\u5f85\\u6570\", \"x\": [\"8\", \"9\"], \"y\": [0.0, null], \"type\": \"scatter\", \"uid\": \"f039b381-c202-11e8-bbba-509a4c0f1ffc\"}, {\"name\": \"\\u8d75\\u73a5_\\u7535\\u8bdd\\u4f1a\\u8bae\\u6b21\\u6570\", \"x\": [\"8\", \"9\"], \"y\": [2.0, null], \"type\": \"scatter\", \"uid\": \"f039b382-c202-11e8-b16a-509a4c0f1ffc\"}, {\"name\": \"\\u8d75\\u73a5_\\u5916\\u51fa\\u6280\\u672f\\u652f\\u6301\\u6570\", \"x\": [\"8\", \"9\"], \"y\": [0.0, null], \"type\": \"scatter\", \"uid\": \"f039b383-c202-11e8-8063-509a4c0f1ffc\"}, {\"name\": \"\\u8d75\\u73a5_\\u5ba2\\u6237\\u6765\\u8bbf\\u63a5\\u5f85\\u6570\", \"x\": [\"8\", \"9\"], \"y\": [0.0, null], \"type\": \"scatter\", \"uid\": \"f039b384-c202-11e8-933d-509a4c0f1ffc\"}, {\"name\": \"\\u8def\\u6167\\u840d_\\u7535\\u8bdd\\u4f1a\\u8bae\\u6b21\\u6570\", \"x\": [\"8\", \"9\"], \"y\": [1.0, 0.0], \"type\": \"scatter\", \"uid\": \"f039b385-c202-11e8-b0d9-509a4c0f1ffc\"}, {\"name\": \"\\u8def\\u6167\\u840d_\\u5916\\u51fa\\u6280\\u672f\\u652f\\u6301\\u6570\", \"x\": [\"8\", \"9\"], \"y\": [0.0, 0.0], \"type\": \"scatter\", \"uid\": \"f039b386-c202-11e8-8ab9-509a4c0f1ffc\"}, {\"name\": \"\\u8def\\u6167\\u840d_\\u5ba2\\u6237\\u6765\\u8bbf\\u63a5\\u5f85\\u6570\", \"x\": [\"8\", \"9\"], \"y\": [1.0, 0.0], \"type\": \"scatter\", \"uid\": \"f039b387-c202-11e8-a597-509a4c0f1ffc\"}, {\"name\": \"\\u97e9\\u5c11\\u6000_\\u7535\\u8bdd\\u4f1a\\u8bae\\u6b21\\u6570\", \"x\": [\"8\", \"9\"], \"y\": [0.0, null], \"type\": \"scatter\", \"uid\": \"f039b388-c202-11e8-b46b-509a4c0f1ffc\"}, {\"name\": \"\\u97e9\\u5c11\\u6000_\\u5916\\u51fa\\u6280\\u672f\\u652f\\u6301\\u6570\", \"x\": [\"8\", \"9\"], \"y\": [0.0, null], \"type\": \"scatter\", \"uid\": \"f039b389-c202-11e8-8af9-509a4c0f1ffc\"}, {\"name\": \"\\u97e9\\u5c11\\u6000_\\u5ba2\\u6237\\u6765\\u8bbf\\u63a5\\u5f85\\u6570\", \"x\": [\"8\", \"9\"], \"y\": [0.0, null], \"type\": \"scatter\", \"uid\": \"f039b38a-c202-11e8-8443-509a4c0f1ffc\"}, {\"name\": \"\\u9a6c\\u6f47_\\u7535\\u8bdd\\u4f1a\\u8bae\\u6b21\\u6570\", \"x\": [\"8\", \"9\"], \"y\": [0.0, null], \"type\": \"scatter\", \"uid\": \"f039b38b-c202-11e8-9407-509a4c0f1ffc\"}, {\"name\": \"\\u9a6c\\u6f47_\\u5916\\u51fa\\u6280\\u672f\\u652f\\u6301\\u6570\", \"x\": [\"8\", \"9\"], \"y\": [0.0, null], \"type\": \"scatter\", \"uid\": \"f039b38c-c202-11e8-96c8-509a4c0f1ffc\"}, {\"name\": \"\\u9a6c\\u6f47_\\u5ba2\\u6237\\u6765\\u8bbf\\u63a5\\u5f85\\u6570\", \"x\": [\"8\", \"9\"], \"y\": [0.0, null], \"type\": \"scatter\", \"uid\": \"f039b38d-c202-11e8-9daf-509a4c0f1ffc\"}],\n",
       "            {\"title\": \"\\u7535\\u8bdd\\u4f1a\\u8bae\\u6b21\\u6570&\\u5916\\u51fa\\u6280\\u672f\\u652f\\u6301\\u6570&\\u5ba2\\u6237\\u6765\\u8bbf\\u63a5\\u5f85\\u6570\\u6708\\u8d8b\\u52bf\\u56fe\", \"xaxis\": {\"mirror\": \"all\", \"nticks\": 20, \"showgrid\": true, \"showline\": true, \"title\": \"\\u6708\", \"zeroline\": true}, \"yaxis\": {\"mirror\": \"all\", \"nticks\": 20, \"showgrid\": true, \"showline\": true, \"title\": \"\\u7535\\u8bdd\\u4f1a\\u8bae\\u6b21\\u6570&\\u5916\\u51fa\\u6280\\u672f\\u652f\\u6301\\u6570&\\u5ba2\\u6237\\u6765\\u8bbf\\u63a5\\u5f85\\u6570\", \"zeroline\": true}},\n",
       "            {\"showLink\": true, \"linkText\": \"Export to plot.ly\"}\n",
       "        ).then(function () {return Plotly.addFrames('6259daaf-e70c-4ce4-b16b-d1bfbc2bd4d1',{});}).then(function(){Plotly.animate('6259daaf-e70c-4ce4-b16b-d1bfbc2bd4d1');})\n",
       "        });</script>"
      ],
      "text/vnd.plotly.v1+html": [
       "<div id=\"6259daaf-e70c-4ce4-b16b-d1bfbc2bd4d1\" style=\"height: 525px; width: 100%;\" class=\"plotly-graph-div\"></div><script type=\"text/javascript\">require([\"plotly\"], function(Plotly) { window.PLOTLYENV=window.PLOTLYENV || {};window.PLOTLYENV.BASE_URL=\"https://plot.ly\";\n",
       "        Plotly.plot(\n",
       "            '6259daaf-e70c-4ce4-b16b-d1bfbc2bd4d1',\n",
       "            [{\"name\": \"\\u4e8e\\u52c7\\u4e00_\\u7535\\u8bdd\\u4f1a\\u8bae\\u6b21\\u6570\", \"x\": [\"8\", \"9\"], \"y\": [0.0, 0.0], \"type\": \"scatter\", \"uid\": \"f0398c52-c202-11e8-9799-509a4c0f1ffc\"}, {\"name\": \"\\u4e8e\\u52c7\\u4e00_\\u5916\\u51fa\\u6280\\u672f\\u652f\\u6301\\u6570\", \"x\": [\"8\", \"9\"], \"y\": [0.0, 0.0], \"type\": \"scatter\", \"uid\": \"f0398c53-c202-11e8-af03-509a4c0f1ffc\"}, {\"name\": \"\\u4e8e\\u52c7\\u4e00_\\u5ba2\\u6237\\u6765\\u8bbf\\u63a5\\u5f85\\u6570\", \"x\": [\"8\", \"9\"], \"y\": [0.0, 0.0], \"type\": \"scatter\", \"uid\": \"f0398c54-c202-11e8-8a36-509a4c0f1ffc\"}, {\"name\": \"\\u4e8e\\u6167_\\u7535\\u8bdd\\u4f1a\\u8bae\\u6b21\\u6570\", \"x\": [\"8\", \"9\"], \"y\": [0.0, 0.0], \"type\": \"scatter\", \"uid\": \"f0398c55-c202-11e8-9cf8-509a4c0f1ffc\"}, {\"name\": \"\\u4e8e\\u6167_\\u5916\\u51fa\\u6280\\u672f\\u652f\\u6301\\u6570\", \"x\": [\"8\", \"9\"], \"y\": [0.0, 0.0], \"type\": \"scatter\", \"uid\": \"f0398c56-c202-11e8-af44-509a4c0f1ffc\"}, {\"name\": \"\\u4e8e\\u6167_\\u5ba2\\u6237\\u6765\\u8bbf\\u63a5\\u5f85\\u6570\", \"x\": [\"8\", \"9\"], \"y\": [0.0, 0.0], \"type\": \"scatter\", \"uid\": \"f0398c57-c202-11e8-a1fe-509a4c0f1ffc\"}, {\"name\": \"\\u4efb\\u96ea_\\u7535\\u8bdd\\u4f1a\\u8bae\\u6b21\\u6570\", \"x\": [\"8\", \"9\"], \"y\": [null, 0.0], \"type\": \"scatter\", \"uid\": \"f0398c58-c202-11e8-893e-509a4c0f1ffc\"}, {\"name\": \"\\u4efb\\u96ea_\\u5916\\u51fa\\u6280\\u672f\\u652f\\u6301\\u6570\", \"x\": [\"8\", \"9\"], \"y\": [null, 0.0], \"type\": \"scatter\", \"uid\": \"f0398c59-c202-11e8-938d-509a4c0f1ffc\"}, {\"name\": \"\\u4efb\\u96ea_\\u5ba2\\u6237\\u6765\\u8bbf\\u63a5\\u5f85\\u6570\", \"x\": [\"8\", \"9\"], \"y\": [null, 1.0], \"type\": \"scatter\", \"uid\": \"f0398c5a-c202-11e8-a50d-509a4c0f1ffc\"}, {\"name\": \"\\u5218\\u6167\\u73b2_\\u7535\\u8bdd\\u4f1a\\u8bae\\u6b21\\u6570\", \"x\": [\"8\", \"9\"], \"y\": [0.0, null], \"type\": \"scatter\", \"uid\": \"f0398c5b-c202-11e8-a45d-509a4c0f1ffc\"}, {\"name\": \"\\u5218\\u6167\\u73b2_\\u5916\\u51fa\\u6280\\u672f\\u652f\\u6301\\u6570\", \"x\": [\"8\", \"9\"], \"y\": [0.0, null], \"type\": \"scatter\", \"uid\": \"f0398c5c-c202-11e8-8727-509a4c0f1ffc\"}, {\"name\": \"\\u5218\\u6167\\u73b2_\\u5ba2\\u6237\\u6765\\u8bbf\\u63a5\\u5f85\\u6570\", \"x\": [\"8\", \"9\"], \"y\": [0.0, null], \"type\": \"scatter\", \"uid\": \"f0398c5d-c202-11e8-ba17-509a4c0f1ffc\"}, {\"name\": \"\\u5218\\u6c5f_\\u7535\\u8bdd\\u4f1a\\u8bae\\u6b21\\u6570\", \"x\": [\"8\", \"9\"], \"y\": [2.0, 3.0], \"type\": \"scatter\", \"uid\": \"f0398c5e-c202-11e8-acfe-509a4c0f1ffc\"}, {\"name\": \"\\u5218\\u6c5f_\\u5916\\u51fa\\u6280\\u672f\\u652f\\u6301\\u6570\", \"x\": [\"8\", \"9\"], \"y\": [0.0, 0.0], \"type\": \"scatter\", \"uid\": \"f0398c5f-c202-11e8-8dd5-509a4c0f1ffc\"}, {\"name\": \"\\u5218\\u6c5f_\\u5ba2\\u6237\\u6765\\u8bbf\\u63a5\\u5f85\\u6570\", \"x\": [\"8\", \"9\"], \"y\": [1.0, 0.0], \"type\": \"scatter\", \"uid\": \"f0398c60-c202-11e8-9e45-509a4c0f1ffc\"}, {\"name\": \"\\u5360\\u4f1f_\\u7535\\u8bdd\\u4f1a\\u8bae\\u6b21\\u6570\", \"x\": [\"8\", \"9\"], \"y\": [1.0, null], \"type\": \"scatter\", \"uid\": \"f0398c61-c202-11e8-ba93-509a4c0f1ffc\"}, {\"name\": \"\\u5360\\u4f1f_\\u5916\\u51fa\\u6280\\u672f\\u652f\\u6301\\u6570\", \"x\": [\"8\", \"9\"], \"y\": [0.0, null], \"type\": \"scatter\", \"uid\": \"f0398c62-c202-11e8-8994-509a4c0f1ffc\"}, {\"name\": \"\\u5360\\u4f1f_\\u5ba2\\u6237\\u6765\\u8bbf\\u63a5\\u5f85\\u6570\", \"x\": [\"8\", \"9\"], \"y\": [0.0, null], \"type\": \"scatter\", \"uid\": \"f0398c63-c202-11e8-b956-509a4c0f1ffc\"}, {\"name\": \"\\u5468\\u6768_\\u7535\\u8bdd\\u4f1a\\u8bae\\u6b21\\u6570\", \"x\": [\"8\", \"9\"], \"y\": [1.0, 0.0], \"type\": \"scatter\", \"uid\": \"f0398c64-c202-11e8-9640-509a4c0f1ffc\"}, {\"name\": \"\\u5468\\u6768_\\u5916\\u51fa\\u6280\\u672f\\u652f\\u6301\\u6570\", \"x\": [\"8\", \"9\"], \"y\": [0.0, 0.0], \"type\": \"scatter\", \"uid\": \"f0398c65-c202-11e8-80c7-509a4c0f1ffc\"}, {\"name\": \"\\u5468\\u6768_\\u5ba2\\u6237\\u6765\\u8bbf\\u63a5\\u5f85\\u6570\", \"x\": [\"8\", \"9\"], \"y\": [0.0, 0.0], \"type\": \"scatter\", \"uid\": \"f0398c66-c202-11e8-b4c2-509a4c0f1ffc\"}, {\"name\": \"\\u59da\\u76df\\u6210_\\u7535\\u8bdd\\u4f1a\\u8bae\\u6b21\\u6570\", \"x\": [\"8\", \"9\"], \"y\": [1.0, 2.0], \"type\": \"scatter\", \"uid\": \"f0398c67-c202-11e8-b066-509a4c0f1ffc\"}, {\"name\": \"\\u59da\\u76df\\u6210_\\u5916\\u51fa\\u6280\\u672f\\u652f\\u6301\\u6570\", \"x\": [\"8\", \"9\"], \"y\": [0.0, 0.0], \"type\": \"scatter\", \"uid\": \"f0398c68-c202-11e8-9aee-509a4c0f1ffc\"}, {\"name\": \"\\u59da\\u76df\\u6210_\\u5ba2\\u6237\\u6765\\u8bbf\\u63a5\\u5f85\\u6570\", \"x\": [\"8\", \"9\"], \"y\": [0.0, 0.0], \"type\": \"scatter\", \"uid\": \"f0398c69-c202-11e8-980a-509a4c0f1ffc\"}, {\"name\": \"\\u5b5f\\u660a_\\u7535\\u8bdd\\u4f1a\\u8bae\\u6b21\\u6570\", \"x\": [\"8\", \"9\"], \"y\": [0.0, 0.0], \"type\": \"scatter\", \"uid\": \"f0398c6a-c202-11e8-b370-509a4c0f1ffc\"}, {\"name\": \"\\u5b5f\\u660a_\\u5916\\u51fa\\u6280\\u672f\\u652f\\u6301\\u6570\", \"x\": [\"8\", \"9\"], \"y\": [0.0, 0.0], \"type\": \"scatter\", \"uid\": \"f039b362-c202-11e8-aa33-509a4c0f1ffc\"}, {\"name\": \"\\u5b5f\\u660a_\\u5ba2\\u6237\\u6765\\u8bbf\\u63a5\\u5f85\\u6570\", \"x\": [\"8\", \"9\"], \"y\": [0.0, 0.0], \"type\": \"scatter\", \"uid\": \"f039b363-c202-11e8-8d42-509a4c0f1ffc\"}, {\"name\": \"\\u5b8b\\u8fce\\u6960_\\u7535\\u8bdd\\u4f1a\\u8bae\\u6b21\\u6570\", \"x\": [\"8\", \"9\"], \"y\": [0.0, null], \"type\": \"scatter\", \"uid\": \"f039b364-c202-11e8-a2af-509a4c0f1ffc\"}, {\"name\": \"\\u5b8b\\u8fce\\u6960_\\u5916\\u51fa\\u6280\\u672f\\u652f\\u6301\\u6570\", \"x\": [\"8\", \"9\"], \"y\": [0.0, null], \"type\": \"scatter\", \"uid\": \"f039b365-c202-11e8-9ca0-509a4c0f1ffc\"}, {\"name\": \"\\u5b8b\\u8fce\\u6960_\\u5ba2\\u6237\\u6765\\u8bbf\\u63a5\\u5f85\\u6570\", \"x\": [\"8\", \"9\"], \"y\": [0.0, null], \"type\": \"scatter\", \"uid\": \"f039b366-c202-11e8-afaa-509a4c0f1ffc\"}, {\"name\": \"\\u5c01\\u5f66\\u6770_\\u7535\\u8bdd\\u4f1a\\u8bae\\u6b21\\u6570\", \"x\": [\"8\", \"9\"], \"y\": [0.0, 2.0], \"type\": \"scatter\", \"uid\": \"f039b367-c202-11e8-894c-509a4c0f1ffc\"}, {\"name\": \"\\u5c01\\u5f66\\u6770_\\u5916\\u51fa\\u6280\\u672f\\u652f\\u6301\\u6570\", \"x\": [\"8\", \"9\"], \"y\": [0.0, 0.0], \"type\": \"scatter\", \"uid\": \"f039b368-c202-11e8-bc45-509a4c0f1ffc\"}, {\"name\": \"\\u5c01\\u5f66\\u6770_\\u5ba2\\u6237\\u6765\\u8bbf\\u63a5\\u5f85\\u6570\", \"x\": [\"8\", \"9\"], \"y\": [0.0, 0.0], \"type\": \"scatter\", \"uid\": \"f039b369-c202-11e8-ae6d-509a4c0f1ffc\"}, {\"name\": \"\\u5f20\\u5b88\\u4f1f_\\u7535\\u8bdd\\u4f1a\\u8bae\\u6b21\\u6570\", \"x\": [\"8\", \"9\"], \"y\": [0.0, null], \"type\": \"scatter\", \"uid\": \"f039b36a-c202-11e8-a4cb-509a4c0f1ffc\"}, {\"name\": \"\\u5f20\\u5b88\\u4f1f_\\u5916\\u51fa\\u6280\\u672f\\u652f\\u6301\\u6570\", \"x\": [\"8\", \"9\"], \"y\": [0.0, null], \"type\": \"scatter\", \"uid\": \"f039b36b-c202-11e8-b825-509a4c0f1ffc\"}, {\"name\": \"\\u5f20\\u5b88\\u4f1f_\\u5ba2\\u6237\\u6765\\u8bbf\\u63a5\\u5f85\\u6570\", \"x\": [\"8\", \"9\"], \"y\": [0.0, null], \"type\": \"scatter\", \"uid\": \"f039b36c-c202-11e8-bde4-509a4c0f1ffc\"}, {\"name\": \"\\u674e\\u534e\\u4e91_\\u7535\\u8bdd\\u4f1a\\u8bae\\u6b21\\u6570\", \"x\": [\"8\", \"9\"], \"y\": [0.0, 1.0], \"type\": \"scatter\", \"uid\": \"f039b36d-c202-11e8-8caf-509a4c0f1ffc\"}, {\"name\": \"\\u674e\\u534e\\u4e91_\\u5916\\u51fa\\u6280\\u672f\\u652f\\u6301\\u6570\", \"x\": [\"8\", \"9\"], \"y\": [0.0, 0.0], \"type\": \"scatter\", \"uid\": \"f039b36e-c202-11e8-9d8b-509a4c0f1ffc\"}, {\"name\": \"\\u674e\\u534e\\u4e91_\\u5ba2\\u6237\\u6765\\u8bbf\\u63a5\\u5f85\\u6570\", \"x\": [\"8\", \"9\"], \"y\": [0.0, 0.0], \"type\": \"scatter\", \"uid\": \"f039b36f-c202-11e8-9b14-509a4c0f1ffc\"}, {\"name\": \"\\u674e\\u5e86\\u539f_\\u7535\\u8bdd\\u4f1a\\u8bae\\u6b21\\u6570\", \"x\": [\"8\", \"9\"], \"y\": [2.0, 2.0], \"type\": \"scatter\", \"uid\": \"f039b370-c202-11e8-852b-509a4c0f1ffc\"}, {\"name\": \"\\u674e\\u5e86\\u539f_\\u5916\\u51fa\\u6280\\u672f\\u652f\\u6301\\u6570\", \"x\": [\"8\", \"9\"], \"y\": [0.0, 0.0], \"type\": \"scatter\", \"uid\": \"f039b371-c202-11e8-af5e-509a4c0f1ffc\"}, {\"name\": \"\\u674e\\u5e86\\u539f_\\u5ba2\\u6237\\u6765\\u8bbf\\u63a5\\u5f85\\u6570\", \"x\": [\"8\", \"9\"], \"y\": [1.0, 0.0], \"type\": \"scatter\", \"uid\": \"f039b372-c202-11e8-ab5e-509a4c0f1ffc\"}, {\"name\": \"\\u6768\\u4f1f\\u98de_\\u7535\\u8bdd\\u4f1a\\u8bae\\u6b21\\u6570\", \"x\": [\"8\", \"9\"], \"y\": [0.0, 4.0], \"type\": \"scatter\", \"uid\": \"f039b373-c202-11e8-8408-509a4c0f1ffc\"}, {\"name\": \"\\u6768\\u4f1f\\u98de_\\u5916\\u51fa\\u6280\\u672f\\u652f\\u6301\\u6570\", \"x\": [\"8\", \"9\"], \"y\": [0.0, 0.0], \"type\": \"scatter\", \"uid\": \"f039b374-c202-11e8-a1af-509a4c0f1ffc\"}, {\"name\": \"\\u6768\\u4f1f\\u98de_\\u5ba2\\u6237\\u6765\\u8bbf\\u63a5\\u5f85\\u6570\", \"x\": [\"8\", \"9\"], \"y\": [0.0, 0.0], \"type\": \"scatter\", \"uid\": \"f039b375-c202-11e8-b94f-509a4c0f1ffc\"}, {\"name\": \"\\u738b\\u5b81_\\u7535\\u8bdd\\u4f1a\\u8bae\\u6b21\\u6570\", \"x\": [\"8\", \"9\"], \"y\": [1.0, null], \"type\": \"scatter\", \"uid\": \"f039b376-c202-11e8-b271-509a4c0f1ffc\"}, {\"name\": \"\\u738b\\u5b81_\\u5916\\u51fa\\u6280\\u672f\\u652f\\u6301\\u6570\", \"x\": [\"8\", \"9\"], \"y\": [0.0, null], \"type\": \"scatter\", \"uid\": \"f039b377-c202-11e8-be8d-509a4c0f1ffc\"}, {\"name\": \"\\u738b\\u5b81_\\u5ba2\\u6237\\u6765\\u8bbf\\u63a5\\u5f85\\u6570\", \"x\": [\"8\", \"9\"], \"y\": [0.0, null], \"type\": \"scatter\", \"uid\": \"f039b378-c202-11e8-8364-509a4c0f1ffc\"}, {\"name\": \"\\u82cf\\u5f66\\u52cb_\\u7535\\u8bdd\\u4f1a\\u8bae\\u6b21\\u6570\", \"x\": [\"8\", \"9\"], \"y\": [0.0, 0.0], \"type\": \"scatter\", \"uid\": \"f039b379-c202-11e8-9d6a-509a4c0f1ffc\"}, {\"name\": \"\\u82cf\\u5f66\\u52cb_\\u5916\\u51fa\\u6280\\u672f\\u652f\\u6301\\u6570\", \"x\": [\"8\", \"9\"], \"y\": [0.0, 0.0], \"type\": \"scatter\", \"uid\": \"f039b37a-c202-11e8-921e-509a4c0f1ffc\"}, {\"name\": \"\\u82cf\\u5f66\\u52cb_\\u5ba2\\u6237\\u6765\\u8bbf\\u63a5\\u5f85\\u6570\", \"x\": [\"8\", \"9\"], \"y\": [0.0, 0.0], \"type\": \"scatter\", \"uid\": \"f039b37b-c202-11e8-80a4-509a4c0f1ffc\"}, {\"name\": \"\\u8303\\u65ed\\u5b81_\\u7535\\u8bdd\\u4f1a\\u8bae\\u6b21\\u6570\", \"x\": [\"8\", \"9\"], \"y\": [0.0, null], \"type\": \"scatter\", \"uid\": \"f039b37c-c202-11e8-8638-509a4c0f1ffc\"}, {\"name\": \"\\u8303\\u65ed\\u5b81_\\u5916\\u51fa\\u6280\\u672f\\u652f\\u6301\\u6570\", \"x\": [\"8\", \"9\"], \"y\": [0.0, null], \"type\": \"scatter\", \"uid\": \"f039b37d-c202-11e8-8d09-509a4c0f1ffc\"}, {\"name\": \"\\u8303\\u65ed\\u5b81_\\u5ba2\\u6237\\u6765\\u8bbf\\u63a5\\u5f85\\u6570\", \"x\": [\"8\", \"9\"], \"y\": [0.0, null], \"type\": \"scatter\", \"uid\": \"f039b37e-c202-11e8-9b54-509a4c0f1ffc\"}, {\"name\": \"\\u8c22\\u5fb7\\u5065_\\u7535\\u8bdd\\u4f1a\\u8bae\\u6b21\\u6570\", \"x\": [\"8\", \"9\"], \"y\": [3.0, null], \"type\": \"scatter\", \"uid\": \"f039b37f-c202-11e8-8da8-509a4c0f1ffc\"}, {\"name\": \"\\u8c22\\u5fb7\\u5065_\\u5916\\u51fa\\u6280\\u672f\\u652f\\u6301\\u6570\", \"x\": [\"8\", \"9\"], \"y\": [0.0, null], \"type\": \"scatter\", \"uid\": \"f039b380-c202-11e8-8b8c-509a4c0f1ffc\"}, {\"name\": \"\\u8c22\\u5fb7\\u5065_\\u5ba2\\u6237\\u6765\\u8bbf\\u63a5\\u5f85\\u6570\", \"x\": [\"8\", \"9\"], \"y\": [0.0, null], \"type\": \"scatter\", \"uid\": \"f039b381-c202-11e8-bbba-509a4c0f1ffc\"}, {\"name\": \"\\u8d75\\u73a5_\\u7535\\u8bdd\\u4f1a\\u8bae\\u6b21\\u6570\", \"x\": [\"8\", \"9\"], \"y\": [2.0, null], \"type\": \"scatter\", \"uid\": \"f039b382-c202-11e8-b16a-509a4c0f1ffc\"}, {\"name\": \"\\u8d75\\u73a5_\\u5916\\u51fa\\u6280\\u672f\\u652f\\u6301\\u6570\", \"x\": [\"8\", \"9\"], \"y\": [0.0, null], \"type\": \"scatter\", \"uid\": \"f039b383-c202-11e8-8063-509a4c0f1ffc\"}, {\"name\": \"\\u8d75\\u73a5_\\u5ba2\\u6237\\u6765\\u8bbf\\u63a5\\u5f85\\u6570\", \"x\": [\"8\", \"9\"], \"y\": [0.0, null], \"type\": \"scatter\", \"uid\": \"f039b384-c202-11e8-933d-509a4c0f1ffc\"}, {\"name\": \"\\u8def\\u6167\\u840d_\\u7535\\u8bdd\\u4f1a\\u8bae\\u6b21\\u6570\", \"x\": [\"8\", \"9\"], \"y\": [1.0, 0.0], \"type\": \"scatter\", \"uid\": \"f039b385-c202-11e8-b0d9-509a4c0f1ffc\"}, {\"name\": \"\\u8def\\u6167\\u840d_\\u5916\\u51fa\\u6280\\u672f\\u652f\\u6301\\u6570\", \"x\": [\"8\", \"9\"], \"y\": [0.0, 0.0], \"type\": \"scatter\", \"uid\": \"f039b386-c202-11e8-8ab9-509a4c0f1ffc\"}, {\"name\": \"\\u8def\\u6167\\u840d_\\u5ba2\\u6237\\u6765\\u8bbf\\u63a5\\u5f85\\u6570\", \"x\": [\"8\", \"9\"], \"y\": [1.0, 0.0], \"type\": \"scatter\", \"uid\": \"f039b387-c202-11e8-a597-509a4c0f1ffc\"}, {\"name\": \"\\u97e9\\u5c11\\u6000_\\u7535\\u8bdd\\u4f1a\\u8bae\\u6b21\\u6570\", \"x\": [\"8\", \"9\"], \"y\": [0.0, null], \"type\": \"scatter\", \"uid\": \"f039b388-c202-11e8-b46b-509a4c0f1ffc\"}, {\"name\": \"\\u97e9\\u5c11\\u6000_\\u5916\\u51fa\\u6280\\u672f\\u652f\\u6301\\u6570\", \"x\": [\"8\", \"9\"], \"y\": [0.0, null], \"type\": \"scatter\", \"uid\": \"f039b389-c202-11e8-8af9-509a4c0f1ffc\"}, {\"name\": \"\\u97e9\\u5c11\\u6000_\\u5ba2\\u6237\\u6765\\u8bbf\\u63a5\\u5f85\\u6570\", \"x\": [\"8\", \"9\"], \"y\": [0.0, null], \"type\": \"scatter\", \"uid\": \"f039b38a-c202-11e8-8443-509a4c0f1ffc\"}, {\"name\": \"\\u9a6c\\u6f47_\\u7535\\u8bdd\\u4f1a\\u8bae\\u6b21\\u6570\", \"x\": [\"8\", \"9\"], \"y\": [0.0, null], \"type\": \"scatter\", \"uid\": \"f039b38b-c202-11e8-9407-509a4c0f1ffc\"}, {\"name\": \"\\u9a6c\\u6f47_\\u5916\\u51fa\\u6280\\u672f\\u652f\\u6301\\u6570\", \"x\": [\"8\", \"9\"], \"y\": [0.0, null], \"type\": \"scatter\", \"uid\": \"f039b38c-c202-11e8-96c8-509a4c0f1ffc\"}, {\"name\": \"\\u9a6c\\u6f47_\\u5ba2\\u6237\\u6765\\u8bbf\\u63a5\\u5f85\\u6570\", \"x\": [\"8\", \"9\"], \"y\": [0.0, null], \"type\": \"scatter\", \"uid\": \"f039b38d-c202-11e8-9daf-509a4c0f1ffc\"}],\n",
       "            {\"title\": \"\\u7535\\u8bdd\\u4f1a\\u8bae\\u6b21\\u6570&\\u5916\\u51fa\\u6280\\u672f\\u652f\\u6301\\u6570&\\u5ba2\\u6237\\u6765\\u8bbf\\u63a5\\u5f85\\u6570\\u6708\\u8d8b\\u52bf\\u56fe\", \"xaxis\": {\"mirror\": \"all\", \"nticks\": 20, \"showgrid\": true, \"showline\": true, \"title\": \"\\u6708\", \"zeroline\": true}, \"yaxis\": {\"mirror\": \"all\", \"nticks\": 20, \"showgrid\": true, \"showline\": true, \"title\": \"\\u7535\\u8bdd\\u4f1a\\u8bae\\u6b21\\u6570&\\u5916\\u51fa\\u6280\\u672f\\u652f\\u6301\\u6570&\\u5ba2\\u6237\\u6765\\u8bbf\\u63a5\\u5f85\\u6570\", \"zeroline\": true}},\n",
       "            {\"showLink\": true, \"linkText\": \"Export to plot.ly\"}\n",
       "        ).then(function () {return Plotly.addFrames('6259daaf-e70c-4ce4-b16b-d1bfbc2bd4d1',{});}).then(function(){Plotly.animate('6259daaf-e70c-4ce4-b16b-d1bfbc2bd4d1');})\n",
       "        });</script>"
      ]
     },
     "metadata": {},
     "output_type": "display_data"
    }
   ],
   "source": [
    "data_dict = {'电话会议次数': ['电话会议次数'],\\\n",
    "             '外出技术支持数': ['外出技术支持数'], '客户来访接待数': ['客户来访接待数']}\n",
    "myModule.plot( all_dict, data_dict, '负责人' ,  'line' , all='')"
   ]
  },
  {
   "cell_type": "markdown",
   "metadata": {},
   "source": [
    "# 研发组产品情况"
   ]
  },
  {
   "cell_type": "markdown",
   "metadata": {
    "hide_input": true
   },
   "source": [
    "## 整体情况"
   ]
  },
  {
   "cell_type": "markdown",
   "metadata": {},
   "source": [
    "### 转产情况"
   ]
  },
  {
   "cell_type": "markdown",
   "metadata": {},
   "source": [
    "#### 转产通过数、一次转产通过数和通过率"
   ]
  },
  {
   "cell_type": "code",
   "execution_count": 64,
   "metadata": {},
   "outputs": [
    {
     "data": {
      "application/vnd.plotly.v1+json": {
       "data": [
        {
         "name": "转产通过数",
         "type": "scatter",
         "uid": "f0895a02-c202-11e8-88f1-509a4c0f1ffc",
         "x": [
          "8-3",
          "8-4",
          "9-1",
          "9-2",
          "9-3"
         ],
         "y": [
          2,
          6,
          2,
          0,
          1
         ]
        },
        {
         "name": "一次转产通过数",
         "type": "scatter",
         "uid": "f0895a03-c202-11e8-85b3-509a4c0f1ffc",
         "x": [
          "8-3",
          "8-4",
          "9-1",
          "9-2",
          "9-3"
         ],
         "y": [
          2,
          6,
          2,
          0,
          1
         ]
        },
        {
         "name": "通过率",
         "type": "scatter",
         "uid": "f0895a04-c202-11e8-8b00-509a4c0f1ffc",
         "x": [
          "8-3",
          "8-4",
          "9-1",
          "9-2",
          "9-3"
         ],
         "y": [
          1,
          1,
          1,
          null,
          1
         ]
        }
       ],
       "layout": {
        "title": "转产通过数&一次转产通过数&通过率周趋势图",
        "xaxis": {
         "mirror": "all",
         "nticks": 20,
         "showgrid": true,
         "showline": true,
         "title": "周",
         "zeroline": true
        },
        "yaxis": {
         "mirror": "all",
         "nticks": 20,
         "showgrid": true,
         "showline": true,
         "title": "转产通过数&一次转产通过数&通过率",
         "zeroline": true
        }
       }
      },
      "text/html": [
       "<div id=\"e971c2c7-e70e-4f0d-b10a-192c9459c7df\" style=\"height: 525px; width: 100%;\" class=\"plotly-graph-div\"></div><script type=\"text/javascript\">require([\"plotly\"], function(Plotly) { window.PLOTLYENV=window.PLOTLYENV || {};window.PLOTLYENV.BASE_URL=\"https://plot.ly\";\n",
       "        Plotly.plot(\n",
       "            'e971c2c7-e70e-4f0d-b10a-192c9459c7df',\n",
       "            [{\"name\": \"\\u8f6c\\u4ea7\\u901a\\u8fc7\\u6570\", \"x\": [\"8-3\", \"8-4\", \"9-1\", \"9-2\", \"9-3\"], \"y\": [2.0, 6.0, 2.0, 0.0, 1.0], \"type\": \"scatter\", \"uid\": \"f0895a02-c202-11e8-88f1-509a4c0f1ffc\"}, {\"name\": \"\\u4e00\\u6b21\\u8f6c\\u4ea7\\u901a\\u8fc7\\u6570\", \"x\": [\"8-3\", \"8-4\", \"9-1\", \"9-2\", \"9-3\"], \"y\": [2.0, 6.0, 2.0, 0.0, 1.0], \"type\": \"scatter\", \"uid\": \"f0895a03-c202-11e8-85b3-509a4c0f1ffc\"}, {\"name\": \"\\u901a\\u8fc7\\u7387\", \"x\": [\"8-3\", \"8-4\", \"9-1\", \"9-2\", \"9-3\"], \"y\": [1.0, 1.0, 1.0, null, 1.0], \"type\": \"scatter\", \"uid\": \"f0895a04-c202-11e8-8b00-509a4c0f1ffc\"}],\n",
       "            {\"title\": \"\\u8f6c\\u4ea7\\u901a\\u8fc7\\u6570&\\u4e00\\u6b21\\u8f6c\\u4ea7\\u901a\\u8fc7\\u6570&\\u901a\\u8fc7\\u7387\\u5468\\u8d8b\\u52bf\\u56fe\", \"xaxis\": {\"mirror\": \"all\", \"nticks\": 20, \"showgrid\": true, \"showline\": true, \"title\": \"\\u5468\", \"zeroline\": true}, \"yaxis\": {\"mirror\": \"all\", \"nticks\": 20, \"showgrid\": true, \"showline\": true, \"title\": \"\\u8f6c\\u4ea7\\u901a\\u8fc7\\u6570&\\u4e00\\u6b21\\u8f6c\\u4ea7\\u901a\\u8fc7\\u6570&\\u901a\\u8fc7\\u7387\", \"zeroline\": true}},\n",
       "            {\"showLink\": true, \"linkText\": \"Export to plot.ly\"}\n",
       "        ).then(function () {return Plotly.addFrames('e971c2c7-e70e-4f0d-b10a-192c9459c7df',{});}).then(function(){Plotly.animate('e971c2c7-e70e-4f0d-b10a-192c9459c7df');})\n",
       "        });</script>"
      ],
      "text/vnd.plotly.v1+html": [
       "<div id=\"e971c2c7-e70e-4f0d-b10a-192c9459c7df\" style=\"height: 525px; width: 100%;\" class=\"plotly-graph-div\"></div><script type=\"text/javascript\">require([\"plotly\"], function(Plotly) { window.PLOTLYENV=window.PLOTLYENV || {};window.PLOTLYENV.BASE_URL=\"https://plot.ly\";\n",
       "        Plotly.plot(\n",
       "            'e971c2c7-e70e-4f0d-b10a-192c9459c7df',\n",
       "            [{\"name\": \"\\u8f6c\\u4ea7\\u901a\\u8fc7\\u6570\", \"x\": [\"8-3\", \"8-4\", \"9-1\", \"9-2\", \"9-3\"], \"y\": [2.0, 6.0, 2.0, 0.0, 1.0], \"type\": \"scatter\", \"uid\": \"f0895a02-c202-11e8-88f1-509a4c0f1ffc\"}, {\"name\": \"\\u4e00\\u6b21\\u8f6c\\u4ea7\\u901a\\u8fc7\\u6570\", \"x\": [\"8-3\", \"8-4\", \"9-1\", \"9-2\", \"9-3\"], \"y\": [2.0, 6.0, 2.0, 0.0, 1.0], \"type\": \"scatter\", \"uid\": \"f0895a03-c202-11e8-85b3-509a4c0f1ffc\"}, {\"name\": \"\\u901a\\u8fc7\\u7387\", \"x\": [\"8-3\", \"8-4\", \"9-1\", \"9-2\", \"9-3\"], \"y\": [1.0, 1.0, 1.0, null, 1.0], \"type\": \"scatter\", \"uid\": \"f0895a04-c202-11e8-8b00-509a4c0f1ffc\"}],\n",
       "            {\"title\": \"\\u8f6c\\u4ea7\\u901a\\u8fc7\\u6570&\\u4e00\\u6b21\\u8f6c\\u4ea7\\u901a\\u8fc7\\u6570&\\u901a\\u8fc7\\u7387\\u5468\\u8d8b\\u52bf\\u56fe\", \"xaxis\": {\"mirror\": \"all\", \"nticks\": 20, \"showgrid\": true, \"showline\": true, \"title\": \"\\u5468\", \"zeroline\": true}, \"yaxis\": {\"mirror\": \"all\", \"nticks\": 20, \"showgrid\": true, \"showline\": true, \"title\": \"\\u8f6c\\u4ea7\\u901a\\u8fc7\\u6570&\\u4e00\\u6b21\\u8f6c\\u4ea7\\u901a\\u8fc7\\u6570&\\u901a\\u8fc7\\u7387\", \"zeroline\": true}},\n",
       "            {\"showLink\": true, \"linkText\": \"Export to plot.ly\"}\n",
       "        ).then(function () {return Plotly.addFrames('e971c2c7-e70e-4f0d-b10a-192c9459c7df',{});}).then(function(){Plotly.animate('e971c2c7-e70e-4f0d-b10a-192c9459c7df');})\n",
       "        });</script>"
      ]
     },
     "metadata": {},
     "output_type": "display_data"
    },
    {
     "data": {
      "application/vnd.plotly.v1+json": {
       "data": [
        {
         "name": "转产通过数",
         "type": "scatter",
         "uid": "f0931e02-c202-11e8-be25-509a4c0f1ffc",
         "x": [
          "8",
          "9"
         ],
         "y": [
          8,
          3
         ]
        },
        {
         "name": "一次转产通过数",
         "type": "scatter",
         "uid": "f0931e03-c202-11e8-8015-509a4c0f1ffc",
         "x": [
          "8",
          "9"
         ],
         "y": [
          8,
          3
         ]
        },
        {
         "name": "通过率",
         "type": "scatter",
         "uid": "f0931e04-c202-11e8-a6c8-509a4c0f1ffc",
         "x": [
          "8",
          "9"
         ],
         "y": [
          1,
          1
         ]
        }
       ],
       "layout": {
        "title": "转产通过数&一次转产通过数&通过率月趋势图",
        "xaxis": {
         "mirror": "all",
         "nticks": 20,
         "showgrid": true,
         "showline": true,
         "title": "月",
         "zeroline": true
        },
        "yaxis": {
         "mirror": "all",
         "nticks": 20,
         "showgrid": true,
         "showline": true,
         "title": "转产通过数&一次转产通过数&通过率",
         "zeroline": true
        }
       }
      },
      "text/html": [
       "<div id=\"e90301b2-b3e3-4fa3-807e-0400623b7d2c\" style=\"height: 525px; width: 100%;\" class=\"plotly-graph-div\"></div><script type=\"text/javascript\">require([\"plotly\"], function(Plotly) { window.PLOTLYENV=window.PLOTLYENV || {};window.PLOTLYENV.BASE_URL=\"https://plot.ly\";\n",
       "        Plotly.plot(\n",
       "            'e90301b2-b3e3-4fa3-807e-0400623b7d2c',\n",
       "            [{\"name\": \"\\u8f6c\\u4ea7\\u901a\\u8fc7\\u6570\", \"x\": [\"8\", \"9\"], \"y\": [8.0, 3.0], \"type\": \"scatter\", \"uid\": \"f0931e02-c202-11e8-be25-509a4c0f1ffc\"}, {\"name\": \"\\u4e00\\u6b21\\u8f6c\\u4ea7\\u901a\\u8fc7\\u6570\", \"x\": [\"8\", \"9\"], \"y\": [8.0, 3.0], \"type\": \"scatter\", \"uid\": \"f0931e03-c202-11e8-8015-509a4c0f1ffc\"}, {\"name\": \"\\u901a\\u8fc7\\u7387\", \"x\": [\"8\", \"9\"], \"y\": [1.0, 1.0], \"type\": \"scatter\", \"uid\": \"f0931e04-c202-11e8-a6c8-509a4c0f1ffc\"}],\n",
       "            {\"title\": \"\\u8f6c\\u4ea7\\u901a\\u8fc7\\u6570&\\u4e00\\u6b21\\u8f6c\\u4ea7\\u901a\\u8fc7\\u6570&\\u901a\\u8fc7\\u7387\\u6708\\u8d8b\\u52bf\\u56fe\", \"xaxis\": {\"mirror\": \"all\", \"nticks\": 20, \"showgrid\": true, \"showline\": true, \"title\": \"\\u6708\", \"zeroline\": true}, \"yaxis\": {\"mirror\": \"all\", \"nticks\": 20, \"showgrid\": true, \"showline\": true, \"title\": \"\\u8f6c\\u4ea7\\u901a\\u8fc7\\u6570&\\u4e00\\u6b21\\u8f6c\\u4ea7\\u901a\\u8fc7\\u6570&\\u901a\\u8fc7\\u7387\", \"zeroline\": true}},\n",
       "            {\"showLink\": true, \"linkText\": \"Export to plot.ly\"}\n",
       "        ).then(function () {return Plotly.addFrames('e90301b2-b3e3-4fa3-807e-0400623b7d2c',{});}).then(function(){Plotly.animate('e90301b2-b3e3-4fa3-807e-0400623b7d2c');})\n",
       "        });</script>"
      ],
      "text/vnd.plotly.v1+html": [
       "<div id=\"e90301b2-b3e3-4fa3-807e-0400623b7d2c\" style=\"height: 525px; width: 100%;\" class=\"plotly-graph-div\"></div><script type=\"text/javascript\">require([\"plotly\"], function(Plotly) { window.PLOTLYENV=window.PLOTLYENV || {};window.PLOTLYENV.BASE_URL=\"https://plot.ly\";\n",
       "        Plotly.plot(\n",
       "            'e90301b2-b3e3-4fa3-807e-0400623b7d2c',\n",
       "            [{\"name\": \"\\u8f6c\\u4ea7\\u901a\\u8fc7\\u6570\", \"x\": [\"8\", \"9\"], \"y\": [8.0, 3.0], \"type\": \"scatter\", \"uid\": \"f0931e02-c202-11e8-be25-509a4c0f1ffc\"}, {\"name\": \"\\u4e00\\u6b21\\u8f6c\\u4ea7\\u901a\\u8fc7\\u6570\", \"x\": [\"8\", \"9\"], \"y\": [8.0, 3.0], \"type\": \"scatter\", \"uid\": \"f0931e03-c202-11e8-8015-509a4c0f1ffc\"}, {\"name\": \"\\u901a\\u8fc7\\u7387\", \"x\": [\"8\", \"9\"], \"y\": [1.0, 1.0], \"type\": \"scatter\", \"uid\": \"f0931e04-c202-11e8-a6c8-509a4c0f1ffc\"}],\n",
       "            {\"title\": \"\\u8f6c\\u4ea7\\u901a\\u8fc7\\u6570&\\u4e00\\u6b21\\u8f6c\\u4ea7\\u901a\\u8fc7\\u6570&\\u901a\\u8fc7\\u7387\\u6708\\u8d8b\\u52bf\\u56fe\", \"xaxis\": {\"mirror\": \"all\", \"nticks\": 20, \"showgrid\": true, \"showline\": true, \"title\": \"\\u6708\", \"zeroline\": true}, \"yaxis\": {\"mirror\": \"all\", \"nticks\": 20, \"showgrid\": true, \"showline\": true, \"title\": \"\\u8f6c\\u4ea7\\u901a\\u8fc7\\u6570&\\u4e00\\u6b21\\u8f6c\\u4ea7\\u901a\\u8fc7\\u6570&\\u901a\\u8fc7\\u7387\", \"zeroline\": true}},\n",
       "            {\"showLink\": true, \"linkText\": \"Export to plot.ly\"}\n",
       "        ).then(function () {return Plotly.addFrames('e90301b2-b3e3-4fa3-807e-0400623b7d2c',{});}).then(function(){Plotly.animate('e90301b2-b3e3-4fa3-807e-0400623b7d2c');})\n",
       "        });</script>"
      ]
     },
     "metadata": {},
     "output_type": "display_data"
    }
   ],
   "source": [
    "data_dict = {'转产通过数': ['转产通过数'], '一次转产通过数': ['一次转产通过数'], '通过率': ['一次转产通过数','转产通过数']}\n",
    "myModule.plot( all_dict_1, data_dict, '负责人' ,  'line', all='all' )"
   ]
  },
  {
   "cell_type": "markdown",
   "metadata": {},
   "source": [
    "### bug情况"
   ]
  },
  {
   "cell_type": "markdown",
   "metadata": {},
   "source": [
    "#### 应完成BUG数和完成BUG修复数"
   ]
  },
  {
   "cell_type": "code",
   "execution_count": 65,
   "metadata": {},
   "outputs": [
    {
     "data": {
      "application/vnd.plotly.v1+json": {
       "data": [
        {
         "name": "应完成BUG数",
         "type": "scatter",
         "uid": "f0df1b22-c202-11e8-bf76-509a4c0f1ffc",
         "x": [
          "8-3",
          "8-4",
          "9-1",
          "9-2",
          "9-3"
         ],
         "y": [
          1,
          3,
          0,
          3,
          4
         ]
        },
        {
         "name": "完成BUG修复数",
         "type": "scatter",
         "uid": "f0df1b23-c202-11e8-aec8-509a4c0f1ffc",
         "x": [
          "8-3",
          "8-4",
          "9-1",
          "9-2",
          "9-3"
         ],
         "y": [
          1,
          4,
          0,
          1,
          4
         ]
        }
       ],
       "layout": {
        "title": "应完成BUG数&完成BUG修复数周趋势图",
        "xaxis": {
         "mirror": "all",
         "nticks": 20,
         "showgrid": true,
         "showline": true,
         "title": "周",
         "zeroline": true
        },
        "yaxis": {
         "mirror": "all",
         "nticks": 20,
         "showgrid": true,
         "showline": true,
         "title": "应完成BUG数&完成BUG修复数",
         "zeroline": true
        }
       }
      },
      "text/html": [
       "<div id=\"ab56e20e-30d3-453e-b548-ba66814a3af6\" style=\"height: 525px; width: 100%;\" class=\"plotly-graph-div\"></div><script type=\"text/javascript\">require([\"plotly\"], function(Plotly) { window.PLOTLYENV=window.PLOTLYENV || {};window.PLOTLYENV.BASE_URL=\"https://plot.ly\";\n",
       "        Plotly.plot(\n",
       "            'ab56e20e-30d3-453e-b548-ba66814a3af6',\n",
       "            [{\"name\": \"\\u5e94\\u5b8c\\u6210BUG\\u6570\", \"x\": [\"8-3\", \"8-4\", \"9-1\", \"9-2\", \"9-3\"], \"y\": [1.0, 3.0, 0.0, 3.0, 4.0], \"type\": \"scatter\", \"uid\": \"f0df1b22-c202-11e8-bf76-509a4c0f1ffc\"}, {\"name\": \"\\u5b8c\\u6210BUG\\u4fee\\u590d\\u6570\", \"x\": [\"8-3\", \"8-4\", \"9-1\", \"9-2\", \"9-3\"], \"y\": [1.0, 4.0, 0.0, 1.0, 4.0], \"type\": \"scatter\", \"uid\": \"f0df1b23-c202-11e8-aec8-509a4c0f1ffc\"}],\n",
       "            {\"title\": \"\\u5e94\\u5b8c\\u6210BUG\\u6570&\\u5b8c\\u6210BUG\\u4fee\\u590d\\u6570\\u5468\\u8d8b\\u52bf\\u56fe\", \"xaxis\": {\"mirror\": \"all\", \"nticks\": 20, \"showgrid\": true, \"showline\": true, \"title\": \"\\u5468\", \"zeroline\": true}, \"yaxis\": {\"mirror\": \"all\", \"nticks\": 20, \"showgrid\": true, \"showline\": true, \"title\": \"\\u5e94\\u5b8c\\u6210BUG\\u6570&\\u5b8c\\u6210BUG\\u4fee\\u590d\\u6570\", \"zeroline\": true}},\n",
       "            {\"showLink\": true, \"linkText\": \"Export to plot.ly\"}\n",
       "        ).then(function () {return Plotly.addFrames('ab56e20e-30d3-453e-b548-ba66814a3af6',{});}).then(function(){Plotly.animate('ab56e20e-30d3-453e-b548-ba66814a3af6');})\n",
       "        });</script>"
      ],
      "text/vnd.plotly.v1+html": [
       "<div id=\"ab56e20e-30d3-453e-b548-ba66814a3af6\" style=\"height: 525px; width: 100%;\" class=\"plotly-graph-div\"></div><script type=\"text/javascript\">require([\"plotly\"], function(Plotly) { window.PLOTLYENV=window.PLOTLYENV || {};window.PLOTLYENV.BASE_URL=\"https://plot.ly\";\n",
       "        Plotly.plot(\n",
       "            'ab56e20e-30d3-453e-b548-ba66814a3af6',\n",
       "            [{\"name\": \"\\u5e94\\u5b8c\\u6210BUG\\u6570\", \"x\": [\"8-3\", \"8-4\", \"9-1\", \"9-2\", \"9-3\"], \"y\": [1.0, 3.0, 0.0, 3.0, 4.0], \"type\": \"scatter\", \"uid\": \"f0df1b22-c202-11e8-bf76-509a4c0f1ffc\"}, {\"name\": \"\\u5b8c\\u6210BUG\\u4fee\\u590d\\u6570\", \"x\": [\"8-3\", \"8-4\", \"9-1\", \"9-2\", \"9-3\"], \"y\": [1.0, 4.0, 0.0, 1.0, 4.0], \"type\": \"scatter\", \"uid\": \"f0df1b23-c202-11e8-aec8-509a4c0f1ffc\"}],\n",
       "            {\"title\": \"\\u5e94\\u5b8c\\u6210BUG\\u6570&\\u5b8c\\u6210BUG\\u4fee\\u590d\\u6570\\u5468\\u8d8b\\u52bf\\u56fe\", \"xaxis\": {\"mirror\": \"all\", \"nticks\": 20, \"showgrid\": true, \"showline\": true, \"title\": \"\\u5468\", \"zeroline\": true}, \"yaxis\": {\"mirror\": \"all\", \"nticks\": 20, \"showgrid\": true, \"showline\": true, \"title\": \"\\u5e94\\u5b8c\\u6210BUG\\u6570&\\u5b8c\\u6210BUG\\u4fee\\u590d\\u6570\", \"zeroline\": true}},\n",
       "            {\"showLink\": true, \"linkText\": \"Export to plot.ly\"}\n",
       "        ).then(function () {return Plotly.addFrames('ab56e20e-30d3-453e-b548-ba66814a3af6',{});}).then(function(){Plotly.animate('ab56e20e-30d3-453e-b548-ba66814a3af6');})\n",
       "        });</script>"
      ]
     },
     "metadata": {},
     "output_type": "display_data"
    },
    {
     "data": {
      "application/vnd.plotly.v1+json": {
       "data": [
        {
         "name": "应完成BUG数",
         "type": "scatter",
         "uid": "f0e77f92-c202-11e8-8a31-509a4c0f1ffc",
         "x": [
          "8",
          "9"
         ],
         "y": [
          4,
          7
         ]
        },
        {
         "name": "完成BUG修复数",
         "type": "scatter",
         "uid": "f0e77f93-c202-11e8-89e3-509a4c0f1ffc",
         "x": [
          "8",
          "9"
         ],
         "y": [
          5,
          5
         ]
        }
       ],
       "layout": {
        "title": "应完成BUG数&完成BUG修复数月趋势图",
        "xaxis": {
         "mirror": "all",
         "nticks": 20,
         "showgrid": true,
         "showline": true,
         "title": "月",
         "zeroline": true
        },
        "yaxis": {
         "mirror": "all",
         "nticks": 20,
         "showgrid": true,
         "showline": true,
         "title": "应完成BUG数&完成BUG修复数",
         "zeroline": true
        }
       }
      },
      "text/html": [
       "<div id=\"1ff4c36d-e288-4459-8ff4-8f264482fdb4\" style=\"height: 525px; width: 100%;\" class=\"plotly-graph-div\"></div><script type=\"text/javascript\">require([\"plotly\"], function(Plotly) { window.PLOTLYENV=window.PLOTLYENV || {};window.PLOTLYENV.BASE_URL=\"https://plot.ly\";\n",
       "        Plotly.plot(\n",
       "            '1ff4c36d-e288-4459-8ff4-8f264482fdb4',\n",
       "            [{\"name\": \"\\u5e94\\u5b8c\\u6210BUG\\u6570\", \"x\": [\"8\", \"9\"], \"y\": [4.0, 7.0], \"type\": \"scatter\", \"uid\": \"f0e77f92-c202-11e8-8a31-509a4c0f1ffc\"}, {\"name\": \"\\u5b8c\\u6210BUG\\u4fee\\u590d\\u6570\", \"x\": [\"8\", \"9\"], \"y\": [5.0, 5.0], \"type\": \"scatter\", \"uid\": \"f0e77f93-c202-11e8-89e3-509a4c0f1ffc\"}],\n",
       "            {\"title\": \"\\u5e94\\u5b8c\\u6210BUG\\u6570&\\u5b8c\\u6210BUG\\u4fee\\u590d\\u6570\\u6708\\u8d8b\\u52bf\\u56fe\", \"xaxis\": {\"mirror\": \"all\", \"nticks\": 20, \"showgrid\": true, \"showline\": true, \"title\": \"\\u6708\", \"zeroline\": true}, \"yaxis\": {\"mirror\": \"all\", \"nticks\": 20, \"showgrid\": true, \"showline\": true, \"title\": \"\\u5e94\\u5b8c\\u6210BUG\\u6570&\\u5b8c\\u6210BUG\\u4fee\\u590d\\u6570\", \"zeroline\": true}},\n",
       "            {\"showLink\": true, \"linkText\": \"Export to plot.ly\"}\n",
       "        ).then(function () {return Plotly.addFrames('1ff4c36d-e288-4459-8ff4-8f264482fdb4',{});}).then(function(){Plotly.animate('1ff4c36d-e288-4459-8ff4-8f264482fdb4');})\n",
       "        });</script>"
      ],
      "text/vnd.plotly.v1+html": [
       "<div id=\"1ff4c36d-e288-4459-8ff4-8f264482fdb4\" style=\"height: 525px; width: 100%;\" class=\"plotly-graph-div\"></div><script type=\"text/javascript\">require([\"plotly\"], function(Plotly) { window.PLOTLYENV=window.PLOTLYENV || {};window.PLOTLYENV.BASE_URL=\"https://plot.ly\";\n",
       "        Plotly.plot(\n",
       "            '1ff4c36d-e288-4459-8ff4-8f264482fdb4',\n",
       "            [{\"name\": \"\\u5e94\\u5b8c\\u6210BUG\\u6570\", \"x\": [\"8\", \"9\"], \"y\": [4.0, 7.0], \"type\": \"scatter\", \"uid\": \"f0e77f92-c202-11e8-8a31-509a4c0f1ffc\"}, {\"name\": \"\\u5b8c\\u6210BUG\\u4fee\\u590d\\u6570\", \"x\": [\"8\", \"9\"], \"y\": [5.0, 5.0], \"type\": \"scatter\", \"uid\": \"f0e77f93-c202-11e8-89e3-509a4c0f1ffc\"}],\n",
       "            {\"title\": \"\\u5e94\\u5b8c\\u6210BUG\\u6570&\\u5b8c\\u6210BUG\\u4fee\\u590d\\u6570\\u6708\\u8d8b\\u52bf\\u56fe\", \"xaxis\": {\"mirror\": \"all\", \"nticks\": 20, \"showgrid\": true, \"showline\": true, \"title\": \"\\u6708\", \"zeroline\": true}, \"yaxis\": {\"mirror\": \"all\", \"nticks\": 20, \"showgrid\": true, \"showline\": true, \"title\": \"\\u5e94\\u5b8c\\u6210BUG\\u6570&\\u5b8c\\u6210BUG\\u4fee\\u590d\\u6570\", \"zeroline\": true}},\n",
       "            {\"showLink\": true, \"linkText\": \"Export to plot.ly\"}\n",
       "        ).then(function () {return Plotly.addFrames('1ff4c36d-e288-4459-8ff4-8f264482fdb4',{});}).then(function(){Plotly.animate('1ff4c36d-e288-4459-8ff4-8f264482fdb4');})\n",
       "        });</script>"
      ]
     },
     "metadata": {},
     "output_type": "display_data"
    }
   ],
   "source": [
    "data_dict = {'应完成BUG数': ['应完成BUG数'], '完成BUG修复数': ['完成BUG修复数']}\n",
    "myModule.plot( all_dict_1, data_dict, '负责人' ,  'line', all='all' )"
   ]
  },
  {
   "cell_type": "markdown",
   "metadata": {
    "hide_input": true
   },
   "source": [
    "## 各组情况"
   ]
  },
  {
   "cell_type": "markdown",
   "metadata": {},
   "source": [
    "### 转产情况"
   ]
  },
  {
   "cell_type": "markdown",
   "metadata": {},
   "source": [
    "#### 转产通过数、一次转产通过数和通过率"
   ]
  },
  {
   "cell_type": "code",
   "execution_count": 66,
   "metadata": {},
   "outputs": [
    {
     "data": {
      "application/vnd.plotly.v1+json": {
       "data": [
        {
         "name": "生物学DNA组_转产通过数",
         "type": "scatter",
         "uid": "f133f1e2-c202-11e8-98a9-509a4c0f1ffc",
         "x": [
          "8-3",
          "8-4",
          "9-1",
          "9-2",
          "9-3"
         ],
         "y": [
          0,
          0,
          1,
          0,
          0
         ]
        },
        {
         "name": "生物学DNA组_一次转产通过数",
         "type": "scatter",
         "uid": "f133f1e3-c202-11e8-946b-509a4c0f1ffc",
         "x": [
          "8-3",
          "8-4",
          "9-1",
          "9-2",
          "9-3"
         ],
         "y": [
          0,
          0,
          1,
          0,
          0
         ]
        },
        {
         "name": "生物学DNA组_通过率",
         "type": "scatter",
         "uid": "f133f1e4-c202-11e8-9e04-509a4c0f1ffc",
         "x": [
          "8-3",
          "8-4",
          "9-1",
          "9-2",
          "9-3"
         ],
         "y": [
          null,
          null,
          1,
          null,
          null
         ]
        },
        {
         "name": "蛋白和医学组_转产通过数",
         "type": "scatter",
         "uid": "f133f1e5-c202-11e8-8aaf-509a4c0f1ffc",
         "x": [
          "8-3",
          "8-4",
          "9-1",
          "9-2",
          "9-3"
         ],
         "y": [
          2,
          2,
          1,
          0,
          1
         ]
        },
        {
         "name": "蛋白和医学组_一次转产通过数",
         "type": "scatter",
         "uid": "f133f1e6-c202-11e8-8338-509a4c0f1ffc",
         "x": [
          "8-3",
          "8-4",
          "9-1",
          "9-2",
          "9-3"
         ],
         "y": [
          2,
          2,
          1,
          0,
          1
         ]
        },
        {
         "name": "蛋白和医学组_通过率",
         "type": "scatter",
         "uid": "f133f1e7-c202-11e8-8185-509a4c0f1ffc",
         "x": [
          "8-3",
          "8-4",
          "9-1",
          "9-2",
          "9-3"
         ],
         "y": [
          1,
          1,
          1,
          null,
          1
         ]
        },
        {
         "name": "调控研发组_转产通过数",
         "type": "scatter",
         "uid": "f133f1e8-c202-11e8-bca5-509a4c0f1ffc",
         "x": [
          "8-4"
         ],
         "y": [
          4
         ]
        },
        {
         "name": "调控研发组_一次转产通过数",
         "type": "scatter",
         "uid": "f133f1e9-c202-11e8-8ae9-509a4c0f1ffc",
         "x": [
          "8-4"
         ],
         "y": [
          4
         ]
        },
        {
         "name": "调控研发组_通过率",
         "type": "scatter",
         "uid": "f133f1ea-c202-11e8-9bb3-509a4c0f1ffc",
         "x": [
          "8-4"
         ],
         "y": [
          1
         ]
        }
       ],
       "layout": {
        "title": "转产通过数&一次转产通过数&通过率周趋势图",
        "xaxis": {
         "mirror": "all",
         "nticks": 20,
         "showgrid": true,
         "showline": true,
         "title": "周",
         "zeroline": true
        },
        "yaxis": {
         "mirror": "all",
         "nticks": 20,
         "showgrid": true,
         "showline": true,
         "title": "转产通过数&一次转产通过数&通过率",
         "zeroline": true
        }
       }
      },
      "text/html": [
       "<div id=\"5a12fdd8-3f27-487d-a0f8-48a06f5d9da9\" style=\"height: 525px; width: 100%;\" class=\"plotly-graph-div\"></div><script type=\"text/javascript\">require([\"plotly\"], function(Plotly) { window.PLOTLYENV=window.PLOTLYENV || {};window.PLOTLYENV.BASE_URL=\"https://plot.ly\";\n",
       "        Plotly.plot(\n",
       "            '5a12fdd8-3f27-487d-a0f8-48a06f5d9da9',\n",
       "            [{\"name\": \"\\u751f\\u7269\\u5b66DNA\\u7ec4_\\u8f6c\\u4ea7\\u901a\\u8fc7\\u6570\", \"x\": [\"8-3\", \"8-4\", \"9-1\", \"9-2\", \"9-3\"], \"y\": [0.0, 0.0, 1.0, 0.0, 0.0], \"type\": \"scatter\", \"uid\": \"f133f1e2-c202-11e8-98a9-509a4c0f1ffc\"}, {\"name\": \"\\u751f\\u7269\\u5b66DNA\\u7ec4_\\u4e00\\u6b21\\u8f6c\\u4ea7\\u901a\\u8fc7\\u6570\", \"x\": [\"8-3\", \"8-4\", \"9-1\", \"9-2\", \"9-3\"], \"y\": [0.0, 0.0, 1.0, 0.0, 0.0], \"type\": \"scatter\", \"uid\": \"f133f1e3-c202-11e8-946b-509a4c0f1ffc\"}, {\"name\": \"\\u751f\\u7269\\u5b66DNA\\u7ec4_\\u901a\\u8fc7\\u7387\", \"x\": [\"8-3\", \"8-4\", \"9-1\", \"9-2\", \"9-3\"], \"y\": [null, null, 1.0, null, null], \"type\": \"scatter\", \"uid\": \"f133f1e4-c202-11e8-9e04-509a4c0f1ffc\"}, {\"name\": \"\\u86cb\\u767d\\u548c\\u533b\\u5b66\\u7ec4_\\u8f6c\\u4ea7\\u901a\\u8fc7\\u6570\", \"x\": [\"8-3\", \"8-4\", \"9-1\", \"9-2\", \"9-3\"], \"y\": [2.0, 2.0, 1.0, 0.0, 1.0], \"type\": \"scatter\", \"uid\": \"f133f1e5-c202-11e8-8aaf-509a4c0f1ffc\"}, {\"name\": \"\\u86cb\\u767d\\u548c\\u533b\\u5b66\\u7ec4_\\u4e00\\u6b21\\u8f6c\\u4ea7\\u901a\\u8fc7\\u6570\", \"x\": [\"8-3\", \"8-4\", \"9-1\", \"9-2\", \"9-3\"], \"y\": [2.0, 2.0, 1.0, 0.0, 1.0], \"type\": \"scatter\", \"uid\": \"f133f1e6-c202-11e8-8338-509a4c0f1ffc\"}, {\"name\": \"\\u86cb\\u767d\\u548c\\u533b\\u5b66\\u7ec4_\\u901a\\u8fc7\\u7387\", \"x\": [\"8-3\", \"8-4\", \"9-1\", \"9-2\", \"9-3\"], \"y\": [1.0, 1.0, 1.0, null, 1.0], \"type\": \"scatter\", \"uid\": \"f133f1e7-c202-11e8-8185-509a4c0f1ffc\"}, {\"name\": \"\\u8c03\\u63a7\\u7814\\u53d1\\u7ec4_\\u8f6c\\u4ea7\\u901a\\u8fc7\\u6570\", \"x\": [\"8-4\"], \"y\": [4.0], \"type\": \"scatter\", \"uid\": \"f133f1e8-c202-11e8-bca5-509a4c0f1ffc\"}, {\"name\": \"\\u8c03\\u63a7\\u7814\\u53d1\\u7ec4_\\u4e00\\u6b21\\u8f6c\\u4ea7\\u901a\\u8fc7\\u6570\", \"x\": [\"8-4\"], \"y\": [4.0], \"type\": \"scatter\", \"uid\": \"f133f1e9-c202-11e8-8ae9-509a4c0f1ffc\"}, {\"name\": \"\\u8c03\\u63a7\\u7814\\u53d1\\u7ec4_\\u901a\\u8fc7\\u7387\", \"x\": [\"8-4\"], \"y\": [1.0], \"type\": \"scatter\", \"uid\": \"f133f1ea-c202-11e8-9bb3-509a4c0f1ffc\"}],\n",
       "            {\"title\": \"\\u8f6c\\u4ea7\\u901a\\u8fc7\\u6570&\\u4e00\\u6b21\\u8f6c\\u4ea7\\u901a\\u8fc7\\u6570&\\u901a\\u8fc7\\u7387\\u5468\\u8d8b\\u52bf\\u56fe\", \"xaxis\": {\"mirror\": \"all\", \"nticks\": 20, \"showgrid\": true, \"showline\": true, \"title\": \"\\u5468\", \"zeroline\": true}, \"yaxis\": {\"mirror\": \"all\", \"nticks\": 20, \"showgrid\": true, \"showline\": true, \"title\": \"\\u8f6c\\u4ea7\\u901a\\u8fc7\\u6570&\\u4e00\\u6b21\\u8f6c\\u4ea7\\u901a\\u8fc7\\u6570&\\u901a\\u8fc7\\u7387\", \"zeroline\": true}},\n",
       "            {\"showLink\": true, \"linkText\": \"Export to plot.ly\"}\n",
       "        ).then(function () {return Plotly.addFrames('5a12fdd8-3f27-487d-a0f8-48a06f5d9da9',{});}).then(function(){Plotly.animate('5a12fdd8-3f27-487d-a0f8-48a06f5d9da9');})\n",
       "        });</script>"
      ],
      "text/vnd.plotly.v1+html": [
       "<div id=\"5a12fdd8-3f27-487d-a0f8-48a06f5d9da9\" style=\"height: 525px; width: 100%;\" class=\"plotly-graph-div\"></div><script type=\"text/javascript\">require([\"plotly\"], function(Plotly) { window.PLOTLYENV=window.PLOTLYENV || {};window.PLOTLYENV.BASE_URL=\"https://plot.ly\";\n",
       "        Plotly.plot(\n",
       "            '5a12fdd8-3f27-487d-a0f8-48a06f5d9da9',\n",
       "            [{\"name\": \"\\u751f\\u7269\\u5b66DNA\\u7ec4_\\u8f6c\\u4ea7\\u901a\\u8fc7\\u6570\", \"x\": [\"8-3\", \"8-4\", \"9-1\", \"9-2\", \"9-3\"], \"y\": [0.0, 0.0, 1.0, 0.0, 0.0], \"type\": \"scatter\", \"uid\": \"f133f1e2-c202-11e8-98a9-509a4c0f1ffc\"}, {\"name\": \"\\u751f\\u7269\\u5b66DNA\\u7ec4_\\u4e00\\u6b21\\u8f6c\\u4ea7\\u901a\\u8fc7\\u6570\", \"x\": [\"8-3\", \"8-4\", \"9-1\", \"9-2\", \"9-3\"], \"y\": [0.0, 0.0, 1.0, 0.0, 0.0], \"type\": \"scatter\", \"uid\": \"f133f1e3-c202-11e8-946b-509a4c0f1ffc\"}, {\"name\": \"\\u751f\\u7269\\u5b66DNA\\u7ec4_\\u901a\\u8fc7\\u7387\", \"x\": [\"8-3\", \"8-4\", \"9-1\", \"9-2\", \"9-3\"], \"y\": [null, null, 1.0, null, null], \"type\": \"scatter\", \"uid\": \"f133f1e4-c202-11e8-9e04-509a4c0f1ffc\"}, {\"name\": \"\\u86cb\\u767d\\u548c\\u533b\\u5b66\\u7ec4_\\u8f6c\\u4ea7\\u901a\\u8fc7\\u6570\", \"x\": [\"8-3\", \"8-4\", \"9-1\", \"9-2\", \"9-3\"], \"y\": [2.0, 2.0, 1.0, 0.0, 1.0], \"type\": \"scatter\", \"uid\": \"f133f1e5-c202-11e8-8aaf-509a4c0f1ffc\"}, {\"name\": \"\\u86cb\\u767d\\u548c\\u533b\\u5b66\\u7ec4_\\u4e00\\u6b21\\u8f6c\\u4ea7\\u901a\\u8fc7\\u6570\", \"x\": [\"8-3\", \"8-4\", \"9-1\", \"9-2\", \"9-3\"], \"y\": [2.0, 2.0, 1.0, 0.0, 1.0], \"type\": \"scatter\", \"uid\": \"f133f1e6-c202-11e8-8338-509a4c0f1ffc\"}, {\"name\": \"\\u86cb\\u767d\\u548c\\u533b\\u5b66\\u7ec4_\\u901a\\u8fc7\\u7387\", \"x\": [\"8-3\", \"8-4\", \"9-1\", \"9-2\", \"9-3\"], \"y\": [1.0, 1.0, 1.0, null, 1.0], \"type\": \"scatter\", \"uid\": \"f133f1e7-c202-11e8-8185-509a4c0f1ffc\"}, {\"name\": \"\\u8c03\\u63a7\\u7814\\u53d1\\u7ec4_\\u8f6c\\u4ea7\\u901a\\u8fc7\\u6570\", \"x\": [\"8-4\"], \"y\": [4.0], \"type\": \"scatter\", \"uid\": \"f133f1e8-c202-11e8-bca5-509a4c0f1ffc\"}, {\"name\": \"\\u8c03\\u63a7\\u7814\\u53d1\\u7ec4_\\u4e00\\u6b21\\u8f6c\\u4ea7\\u901a\\u8fc7\\u6570\", \"x\": [\"8-4\"], \"y\": [4.0], \"type\": \"scatter\", \"uid\": \"f133f1e9-c202-11e8-8ae9-509a4c0f1ffc\"}, {\"name\": \"\\u8c03\\u63a7\\u7814\\u53d1\\u7ec4_\\u901a\\u8fc7\\u7387\", \"x\": [\"8-4\"], \"y\": [1.0], \"type\": \"scatter\", \"uid\": \"f133f1ea-c202-11e8-9bb3-509a4c0f1ffc\"}],\n",
       "            {\"title\": \"\\u8f6c\\u4ea7\\u901a\\u8fc7\\u6570&\\u4e00\\u6b21\\u8f6c\\u4ea7\\u901a\\u8fc7\\u6570&\\u901a\\u8fc7\\u7387\\u5468\\u8d8b\\u52bf\\u56fe\", \"xaxis\": {\"mirror\": \"all\", \"nticks\": 20, \"showgrid\": true, \"showline\": true, \"title\": \"\\u5468\", \"zeroline\": true}, \"yaxis\": {\"mirror\": \"all\", \"nticks\": 20, \"showgrid\": true, \"showline\": true, \"title\": \"\\u8f6c\\u4ea7\\u901a\\u8fc7\\u6570&\\u4e00\\u6b21\\u8f6c\\u4ea7\\u901a\\u8fc7\\u6570&\\u901a\\u8fc7\\u7387\", \"zeroline\": true}},\n",
       "            {\"showLink\": true, \"linkText\": \"Export to plot.ly\"}\n",
       "        ).then(function () {return Plotly.addFrames('5a12fdd8-3f27-487d-a0f8-48a06f5d9da9',{});}).then(function(){Plotly.animate('5a12fdd8-3f27-487d-a0f8-48a06f5d9da9');})\n",
       "        });</script>"
      ]
     },
     "metadata": {},
     "output_type": "display_data"
    },
    {
     "data": {
      "application/vnd.plotly.v1+json": {
       "data": [
        {
         "name": "生物学DNA组_转产通过数",
         "type": "scatter",
         "uid": "f1461a52-c202-11e8-ade7-509a4c0f1ffc",
         "x": [
          "8",
          "9"
         ],
         "y": [
          0,
          1
         ]
        },
        {
         "name": "生物学DNA组_一次转产通过数",
         "type": "scatter",
         "uid": "f1461a53-c202-11e8-8745-509a4c0f1ffc",
         "x": [
          "8",
          "9"
         ],
         "y": [
          0,
          1
         ]
        },
        {
         "name": "生物学DNA组_通过率",
         "type": "scatter",
         "uid": "f1461a54-c202-11e8-b039-509a4c0f1ffc",
         "x": [
          "8",
          "9"
         ],
         "y": [
          null,
          1
         ]
        },
        {
         "name": "蛋白和医学组_转产通过数",
         "type": "scatter",
         "uid": "f1461a55-c202-11e8-89c1-509a4c0f1ffc",
         "x": [
          "8",
          "9"
         ],
         "y": [
          4,
          2
         ]
        },
        {
         "name": "蛋白和医学组_一次转产通过数",
         "type": "scatter",
         "uid": "f1461a56-c202-11e8-87f4-509a4c0f1ffc",
         "x": [
          "8",
          "9"
         ],
         "y": [
          4,
          2
         ]
        },
        {
         "name": "蛋白和医学组_通过率",
         "type": "scatter",
         "uid": "f1461a57-c202-11e8-9408-509a4c0f1ffc",
         "x": [
          "8",
          "9"
         ],
         "y": [
          1,
          1
         ]
        },
        {
         "name": "调控研发组_转产通过数",
         "type": "scatter",
         "uid": "f1461a58-c202-11e8-8316-509a4c0f1ffc",
         "x": [
          "8"
         ],
         "y": [
          null
         ]
        },
        {
         "name": "调控研发组_一次转产通过数",
         "type": "scatter",
         "uid": "f1461a59-c202-11e8-8698-509a4c0f1ffc",
         "x": [
          "8"
         ],
         "y": [
          null
         ]
        },
        {
         "name": "调控研发组_通过率",
         "type": "scatter",
         "uid": "f1461a5a-c202-11e8-87ea-509a4c0f1ffc",
         "x": [
          "8"
         ],
         "y": [
          null
         ]
        }
       ],
       "layout": {
        "title": "转产通过数&一次转产通过数&通过率月趋势图",
        "xaxis": {
         "mirror": "all",
         "nticks": 20,
         "showgrid": true,
         "showline": true,
         "title": "月",
         "zeroline": true
        },
        "yaxis": {
         "mirror": "all",
         "nticks": 20,
         "showgrid": true,
         "showline": true,
         "title": "转产通过数&一次转产通过数&通过率",
         "zeroline": true
        }
       }
      },
      "text/html": [
       "<div id=\"b8469612-84dd-4950-8523-8d8c93d26bab\" style=\"height: 525px; width: 100%;\" class=\"plotly-graph-div\"></div><script type=\"text/javascript\">require([\"plotly\"], function(Plotly) { window.PLOTLYENV=window.PLOTLYENV || {};window.PLOTLYENV.BASE_URL=\"https://plot.ly\";\n",
       "        Plotly.plot(\n",
       "            'b8469612-84dd-4950-8523-8d8c93d26bab',\n",
       "            [{\"name\": \"\\u751f\\u7269\\u5b66DNA\\u7ec4_\\u8f6c\\u4ea7\\u901a\\u8fc7\\u6570\", \"x\": [\"8\", \"9\"], \"y\": [0.0, 1.0], \"type\": \"scatter\", \"uid\": \"f1461a52-c202-11e8-ade7-509a4c0f1ffc\"}, {\"name\": \"\\u751f\\u7269\\u5b66DNA\\u7ec4_\\u4e00\\u6b21\\u8f6c\\u4ea7\\u901a\\u8fc7\\u6570\", \"x\": [\"8\", \"9\"], \"y\": [0.0, 1.0], \"type\": \"scatter\", \"uid\": \"f1461a53-c202-11e8-8745-509a4c0f1ffc\"}, {\"name\": \"\\u751f\\u7269\\u5b66DNA\\u7ec4_\\u901a\\u8fc7\\u7387\", \"x\": [\"8\", \"9\"], \"y\": [null, 1.0], \"type\": \"scatter\", \"uid\": \"f1461a54-c202-11e8-b039-509a4c0f1ffc\"}, {\"name\": \"\\u86cb\\u767d\\u548c\\u533b\\u5b66\\u7ec4_\\u8f6c\\u4ea7\\u901a\\u8fc7\\u6570\", \"x\": [\"8\", \"9\"], \"y\": [4.0, 2.0], \"type\": \"scatter\", \"uid\": \"f1461a55-c202-11e8-89c1-509a4c0f1ffc\"}, {\"name\": \"\\u86cb\\u767d\\u548c\\u533b\\u5b66\\u7ec4_\\u4e00\\u6b21\\u8f6c\\u4ea7\\u901a\\u8fc7\\u6570\", \"x\": [\"8\", \"9\"], \"y\": [4.0, 2.0], \"type\": \"scatter\", \"uid\": \"f1461a56-c202-11e8-87f4-509a4c0f1ffc\"}, {\"name\": \"\\u86cb\\u767d\\u548c\\u533b\\u5b66\\u7ec4_\\u901a\\u8fc7\\u7387\", \"x\": [\"8\", \"9\"], \"y\": [1.0, 1.0], \"type\": \"scatter\", \"uid\": \"f1461a57-c202-11e8-9408-509a4c0f1ffc\"}, {\"name\": \"\\u8c03\\u63a7\\u7814\\u53d1\\u7ec4_\\u8f6c\\u4ea7\\u901a\\u8fc7\\u6570\", \"x\": [\"8\"], \"y\": [null], \"type\": \"scatter\", \"uid\": \"f1461a58-c202-11e8-8316-509a4c0f1ffc\"}, {\"name\": \"\\u8c03\\u63a7\\u7814\\u53d1\\u7ec4_\\u4e00\\u6b21\\u8f6c\\u4ea7\\u901a\\u8fc7\\u6570\", \"x\": [\"8\"], \"y\": [null], \"type\": \"scatter\", \"uid\": \"f1461a59-c202-11e8-8698-509a4c0f1ffc\"}, {\"name\": \"\\u8c03\\u63a7\\u7814\\u53d1\\u7ec4_\\u901a\\u8fc7\\u7387\", \"x\": [\"8\"], \"y\": [null], \"type\": \"scatter\", \"uid\": \"f1461a5a-c202-11e8-87ea-509a4c0f1ffc\"}],\n",
       "            {\"title\": \"\\u8f6c\\u4ea7\\u901a\\u8fc7\\u6570&\\u4e00\\u6b21\\u8f6c\\u4ea7\\u901a\\u8fc7\\u6570&\\u901a\\u8fc7\\u7387\\u6708\\u8d8b\\u52bf\\u56fe\", \"xaxis\": {\"mirror\": \"all\", \"nticks\": 20, \"showgrid\": true, \"showline\": true, \"title\": \"\\u6708\", \"zeroline\": true}, \"yaxis\": {\"mirror\": \"all\", \"nticks\": 20, \"showgrid\": true, \"showline\": true, \"title\": \"\\u8f6c\\u4ea7\\u901a\\u8fc7\\u6570&\\u4e00\\u6b21\\u8f6c\\u4ea7\\u901a\\u8fc7\\u6570&\\u901a\\u8fc7\\u7387\", \"zeroline\": true}},\n",
       "            {\"showLink\": true, \"linkText\": \"Export to plot.ly\"}\n",
       "        ).then(function () {return Plotly.addFrames('b8469612-84dd-4950-8523-8d8c93d26bab',{});}).then(function(){Plotly.animate('b8469612-84dd-4950-8523-8d8c93d26bab');})\n",
       "        });</script>"
      ],
      "text/vnd.plotly.v1+html": [
       "<div id=\"b8469612-84dd-4950-8523-8d8c93d26bab\" style=\"height: 525px; width: 100%;\" class=\"plotly-graph-div\"></div><script type=\"text/javascript\">require([\"plotly\"], function(Plotly) { window.PLOTLYENV=window.PLOTLYENV || {};window.PLOTLYENV.BASE_URL=\"https://plot.ly\";\n",
       "        Plotly.plot(\n",
       "            'b8469612-84dd-4950-8523-8d8c93d26bab',\n",
       "            [{\"name\": \"\\u751f\\u7269\\u5b66DNA\\u7ec4_\\u8f6c\\u4ea7\\u901a\\u8fc7\\u6570\", \"x\": [\"8\", \"9\"], \"y\": [0.0, 1.0], \"type\": \"scatter\", \"uid\": \"f1461a52-c202-11e8-ade7-509a4c0f1ffc\"}, {\"name\": \"\\u751f\\u7269\\u5b66DNA\\u7ec4_\\u4e00\\u6b21\\u8f6c\\u4ea7\\u901a\\u8fc7\\u6570\", \"x\": [\"8\", \"9\"], \"y\": [0.0, 1.0], \"type\": \"scatter\", \"uid\": \"f1461a53-c202-11e8-8745-509a4c0f1ffc\"}, {\"name\": \"\\u751f\\u7269\\u5b66DNA\\u7ec4_\\u901a\\u8fc7\\u7387\", \"x\": [\"8\", \"9\"], \"y\": [null, 1.0], \"type\": \"scatter\", \"uid\": \"f1461a54-c202-11e8-b039-509a4c0f1ffc\"}, {\"name\": \"\\u86cb\\u767d\\u548c\\u533b\\u5b66\\u7ec4_\\u8f6c\\u4ea7\\u901a\\u8fc7\\u6570\", \"x\": [\"8\", \"9\"], \"y\": [4.0, 2.0], \"type\": \"scatter\", \"uid\": \"f1461a55-c202-11e8-89c1-509a4c0f1ffc\"}, {\"name\": \"\\u86cb\\u767d\\u548c\\u533b\\u5b66\\u7ec4_\\u4e00\\u6b21\\u8f6c\\u4ea7\\u901a\\u8fc7\\u6570\", \"x\": [\"8\", \"9\"], \"y\": [4.0, 2.0], \"type\": \"scatter\", \"uid\": \"f1461a56-c202-11e8-87f4-509a4c0f1ffc\"}, {\"name\": \"\\u86cb\\u767d\\u548c\\u533b\\u5b66\\u7ec4_\\u901a\\u8fc7\\u7387\", \"x\": [\"8\", \"9\"], \"y\": [1.0, 1.0], \"type\": \"scatter\", \"uid\": \"f1461a57-c202-11e8-9408-509a4c0f1ffc\"}, {\"name\": \"\\u8c03\\u63a7\\u7814\\u53d1\\u7ec4_\\u8f6c\\u4ea7\\u901a\\u8fc7\\u6570\", \"x\": [\"8\"], \"y\": [null], \"type\": \"scatter\", \"uid\": \"f1461a58-c202-11e8-8316-509a4c0f1ffc\"}, {\"name\": \"\\u8c03\\u63a7\\u7814\\u53d1\\u7ec4_\\u4e00\\u6b21\\u8f6c\\u4ea7\\u901a\\u8fc7\\u6570\", \"x\": [\"8\"], \"y\": [null], \"type\": \"scatter\", \"uid\": \"f1461a59-c202-11e8-8698-509a4c0f1ffc\"}, {\"name\": \"\\u8c03\\u63a7\\u7814\\u53d1\\u7ec4_\\u901a\\u8fc7\\u7387\", \"x\": [\"8\"], \"y\": [null], \"type\": \"scatter\", \"uid\": \"f1461a5a-c202-11e8-87ea-509a4c0f1ffc\"}],\n",
       "            {\"title\": \"\\u8f6c\\u4ea7\\u901a\\u8fc7\\u6570&\\u4e00\\u6b21\\u8f6c\\u4ea7\\u901a\\u8fc7\\u6570&\\u901a\\u8fc7\\u7387\\u6708\\u8d8b\\u52bf\\u56fe\", \"xaxis\": {\"mirror\": \"all\", \"nticks\": 20, \"showgrid\": true, \"showline\": true, \"title\": \"\\u6708\", \"zeroline\": true}, \"yaxis\": {\"mirror\": \"all\", \"nticks\": 20, \"showgrid\": true, \"showline\": true, \"title\": \"\\u8f6c\\u4ea7\\u901a\\u8fc7\\u6570&\\u4e00\\u6b21\\u8f6c\\u4ea7\\u901a\\u8fc7\\u6570&\\u901a\\u8fc7\\u7387\", \"zeroline\": true}},\n",
       "            {\"showLink\": true, \"linkText\": \"Export to plot.ly\"}\n",
       "        ).then(function () {return Plotly.addFrames('b8469612-84dd-4950-8523-8d8c93d26bab',{});}).then(function(){Plotly.animate('b8469612-84dd-4950-8523-8d8c93d26bab');})\n",
       "        });</script>"
      ]
     },
     "metadata": {},
     "output_type": "display_data"
    }
   ],
   "source": [
    "data_dict = {'转产通过数': ['转产通过数'], '一次转产通过数': ['一次转产通过数'], '通过率': ['一次转产通过数','转产通过数']}\n",
    "myModule.plot( all_dict_1, data_dict, '组别' ,  'line', all='' )"
   ]
  },
  {
   "cell_type": "markdown",
   "metadata": {},
   "source": [
    "### bug情况"
   ]
  },
  {
   "cell_type": "markdown",
   "metadata": {},
   "source": [
    "#### 应完成BUG数和完成BUG修复数"
   ]
  },
  {
   "cell_type": "code",
   "execution_count": 67,
   "metadata": {},
   "outputs": [
    {
     "data": {
      "application/vnd.plotly.v1+json": {
       "data": [
        {
         "name": "生物学DNA组_应完成BUG数",
         "type": "scatter",
         "uid": "f19e9a92-c202-11e8-9d31-509a4c0f1ffc",
         "x": [
          "8-3",
          "8-4",
          "9-1",
          "9-2",
          "9-3"
         ],
         "y": [
          0,
          0,
          0,
          1,
          1
         ]
        },
        {
         "name": "生物学DNA组_完成BUG修复数",
         "type": "scatter",
         "uid": "f19e9a93-c202-11e8-967a-509a4c0f1ffc",
         "x": [
          "8-3",
          "8-4",
          "9-1",
          "9-2",
          "9-3"
         ],
         "y": [
          0,
          1,
          0,
          1,
          1
         ]
        },
        {
         "name": "蛋白和医学组_应完成BUG数",
         "type": "scatter",
         "uid": "f19e9a94-c202-11e8-9c41-509a4c0f1ffc",
         "x": [
          "8-3",
          "8-4",
          "9-1",
          "9-2",
          "9-3"
         ],
         "y": [
          1,
          2,
          0,
          2,
          3
         ]
        },
        {
         "name": "蛋白和医学组_完成BUG修复数",
         "type": "scatter",
         "uid": "f19e9a95-c202-11e8-8262-509a4c0f1ffc",
         "x": [
          "8-3",
          "8-4",
          "9-1",
          "9-2",
          "9-3"
         ],
         "y": [
          1,
          1,
          0,
          0,
          3
         ]
        },
        {
         "name": "调控研发组_应完成BUG数",
         "type": "scatter",
         "uid": "f19e9a96-c202-11e8-a22d-509a4c0f1ffc",
         "x": [
          "8-4"
         ],
         "y": [
          1
         ]
        },
        {
         "name": "调控研发组_完成BUG修复数",
         "type": "scatter",
         "uid": "f19e9a97-c202-11e8-b613-509a4c0f1ffc",
         "x": [
          "8-4"
         ],
         "y": [
          2
         ]
        }
       ],
       "layout": {
        "title": "应完成BUG数&完成BUG修复数周趋势图",
        "xaxis": {
         "mirror": "all",
         "nticks": 20,
         "showgrid": true,
         "showline": true,
         "title": "周",
         "zeroline": true
        },
        "yaxis": {
         "mirror": "all",
         "nticks": 20,
         "showgrid": true,
         "showline": true,
         "title": "应完成BUG数&完成BUG修复数",
         "zeroline": true
        }
       }
      },
      "text/html": [
       "<div id=\"6cb321c3-3f39-4100-93ae-0842b2e58bfd\" style=\"height: 525px; width: 100%;\" class=\"plotly-graph-div\"></div><script type=\"text/javascript\">require([\"plotly\"], function(Plotly) { window.PLOTLYENV=window.PLOTLYENV || {};window.PLOTLYENV.BASE_URL=\"https://plot.ly\";\n",
       "        Plotly.plot(\n",
       "            '6cb321c3-3f39-4100-93ae-0842b2e58bfd',\n",
       "            [{\"name\": \"\\u751f\\u7269\\u5b66DNA\\u7ec4_\\u5e94\\u5b8c\\u6210BUG\\u6570\", \"x\": [\"8-3\", \"8-4\", \"9-1\", \"9-2\", \"9-3\"], \"y\": [0.0, 0.0, 0.0, 1.0, 1.0], \"type\": \"scatter\", \"uid\": \"f19e9a92-c202-11e8-9d31-509a4c0f1ffc\"}, {\"name\": \"\\u751f\\u7269\\u5b66DNA\\u7ec4_\\u5b8c\\u6210BUG\\u4fee\\u590d\\u6570\", \"x\": [\"8-3\", \"8-4\", \"9-1\", \"9-2\", \"9-3\"], \"y\": [0.0, 1.0, 0.0, 1.0, 1.0], \"type\": \"scatter\", \"uid\": \"f19e9a93-c202-11e8-967a-509a4c0f1ffc\"}, {\"name\": \"\\u86cb\\u767d\\u548c\\u533b\\u5b66\\u7ec4_\\u5e94\\u5b8c\\u6210BUG\\u6570\", \"x\": [\"8-3\", \"8-4\", \"9-1\", \"9-2\", \"9-3\"], \"y\": [1.0, 2.0, 0.0, 2.0, 3.0], \"type\": \"scatter\", \"uid\": \"f19e9a94-c202-11e8-9c41-509a4c0f1ffc\"}, {\"name\": \"\\u86cb\\u767d\\u548c\\u533b\\u5b66\\u7ec4_\\u5b8c\\u6210BUG\\u4fee\\u590d\\u6570\", \"x\": [\"8-3\", \"8-4\", \"9-1\", \"9-2\", \"9-3\"], \"y\": [1.0, 1.0, 0.0, 0.0, 3.0], \"type\": \"scatter\", \"uid\": \"f19e9a95-c202-11e8-8262-509a4c0f1ffc\"}, {\"name\": \"\\u8c03\\u63a7\\u7814\\u53d1\\u7ec4_\\u5e94\\u5b8c\\u6210BUG\\u6570\", \"x\": [\"8-4\"], \"y\": [1.0], \"type\": \"scatter\", \"uid\": \"f19e9a96-c202-11e8-a22d-509a4c0f1ffc\"}, {\"name\": \"\\u8c03\\u63a7\\u7814\\u53d1\\u7ec4_\\u5b8c\\u6210BUG\\u4fee\\u590d\\u6570\", \"x\": [\"8-4\"], \"y\": [2.0], \"type\": \"scatter\", \"uid\": \"f19e9a97-c202-11e8-b613-509a4c0f1ffc\"}],\n",
       "            {\"title\": \"\\u5e94\\u5b8c\\u6210BUG\\u6570&\\u5b8c\\u6210BUG\\u4fee\\u590d\\u6570\\u5468\\u8d8b\\u52bf\\u56fe\", \"xaxis\": {\"mirror\": \"all\", \"nticks\": 20, \"showgrid\": true, \"showline\": true, \"title\": \"\\u5468\", \"zeroline\": true}, \"yaxis\": {\"mirror\": \"all\", \"nticks\": 20, \"showgrid\": true, \"showline\": true, \"title\": \"\\u5e94\\u5b8c\\u6210BUG\\u6570&\\u5b8c\\u6210BUG\\u4fee\\u590d\\u6570\", \"zeroline\": true}},\n",
       "            {\"showLink\": true, \"linkText\": \"Export to plot.ly\"}\n",
       "        ).then(function () {return Plotly.addFrames('6cb321c3-3f39-4100-93ae-0842b2e58bfd',{});}).then(function(){Plotly.animate('6cb321c3-3f39-4100-93ae-0842b2e58bfd');})\n",
       "        });</script>"
      ],
      "text/vnd.plotly.v1+html": [
       "<div id=\"6cb321c3-3f39-4100-93ae-0842b2e58bfd\" style=\"height: 525px; width: 100%;\" class=\"plotly-graph-div\"></div><script type=\"text/javascript\">require([\"plotly\"], function(Plotly) { window.PLOTLYENV=window.PLOTLYENV || {};window.PLOTLYENV.BASE_URL=\"https://plot.ly\";\n",
       "        Plotly.plot(\n",
       "            '6cb321c3-3f39-4100-93ae-0842b2e58bfd',\n",
       "            [{\"name\": \"\\u751f\\u7269\\u5b66DNA\\u7ec4_\\u5e94\\u5b8c\\u6210BUG\\u6570\", \"x\": [\"8-3\", \"8-4\", \"9-1\", \"9-2\", \"9-3\"], \"y\": [0.0, 0.0, 0.0, 1.0, 1.0], \"type\": \"scatter\", \"uid\": \"f19e9a92-c202-11e8-9d31-509a4c0f1ffc\"}, {\"name\": \"\\u751f\\u7269\\u5b66DNA\\u7ec4_\\u5b8c\\u6210BUG\\u4fee\\u590d\\u6570\", \"x\": [\"8-3\", \"8-4\", \"9-1\", \"9-2\", \"9-3\"], \"y\": [0.0, 1.0, 0.0, 1.0, 1.0], \"type\": \"scatter\", \"uid\": \"f19e9a93-c202-11e8-967a-509a4c0f1ffc\"}, {\"name\": \"\\u86cb\\u767d\\u548c\\u533b\\u5b66\\u7ec4_\\u5e94\\u5b8c\\u6210BUG\\u6570\", \"x\": [\"8-3\", \"8-4\", \"9-1\", \"9-2\", \"9-3\"], \"y\": [1.0, 2.0, 0.0, 2.0, 3.0], \"type\": \"scatter\", \"uid\": \"f19e9a94-c202-11e8-9c41-509a4c0f1ffc\"}, {\"name\": \"\\u86cb\\u767d\\u548c\\u533b\\u5b66\\u7ec4_\\u5b8c\\u6210BUG\\u4fee\\u590d\\u6570\", \"x\": [\"8-3\", \"8-4\", \"9-1\", \"9-2\", \"9-3\"], \"y\": [1.0, 1.0, 0.0, 0.0, 3.0], \"type\": \"scatter\", \"uid\": \"f19e9a95-c202-11e8-8262-509a4c0f1ffc\"}, {\"name\": \"\\u8c03\\u63a7\\u7814\\u53d1\\u7ec4_\\u5e94\\u5b8c\\u6210BUG\\u6570\", \"x\": [\"8-4\"], \"y\": [1.0], \"type\": \"scatter\", \"uid\": \"f19e9a96-c202-11e8-a22d-509a4c0f1ffc\"}, {\"name\": \"\\u8c03\\u63a7\\u7814\\u53d1\\u7ec4_\\u5b8c\\u6210BUG\\u4fee\\u590d\\u6570\", \"x\": [\"8-4\"], \"y\": [2.0], \"type\": \"scatter\", \"uid\": \"f19e9a97-c202-11e8-b613-509a4c0f1ffc\"}],\n",
       "            {\"title\": \"\\u5e94\\u5b8c\\u6210BUG\\u6570&\\u5b8c\\u6210BUG\\u4fee\\u590d\\u6570\\u5468\\u8d8b\\u52bf\\u56fe\", \"xaxis\": {\"mirror\": \"all\", \"nticks\": 20, \"showgrid\": true, \"showline\": true, \"title\": \"\\u5468\", \"zeroline\": true}, \"yaxis\": {\"mirror\": \"all\", \"nticks\": 20, \"showgrid\": true, \"showline\": true, \"title\": \"\\u5e94\\u5b8c\\u6210BUG\\u6570&\\u5b8c\\u6210BUG\\u4fee\\u590d\\u6570\", \"zeroline\": true}},\n",
       "            {\"showLink\": true, \"linkText\": \"Export to plot.ly\"}\n",
       "        ).then(function () {return Plotly.addFrames('6cb321c3-3f39-4100-93ae-0842b2e58bfd',{});}).then(function(){Plotly.animate('6cb321c3-3f39-4100-93ae-0842b2e58bfd');})\n",
       "        });</script>"
      ]
     },
     "metadata": {},
     "output_type": "display_data"
    },
    {
     "data": {
      "application/vnd.plotly.v1+json": {
       "data": [
        {
         "name": "生物学DNA组_应完成BUG数",
         "type": "scatter",
         "uid": "f1ad67a2-c202-11e8-8195-509a4c0f1ffc",
         "x": [
          "8",
          "9"
         ],
         "y": [
          0,
          2
         ]
        },
        {
         "name": "生物学DNA组_完成BUG修复数",
         "type": "scatter",
         "uid": "f1ad67a3-c202-11e8-974f-509a4c0f1ffc",
         "x": [
          "8",
          "9"
         ],
         "y": [
          1,
          2
         ]
        },
        {
         "name": "蛋白和医学组_应完成BUG数",
         "type": "scatter",
         "uid": "f1ad67a4-c202-11e8-8278-509a4c0f1ffc",
         "x": [
          "8",
          "9"
         ],
         "y": [
          3,
          5
         ]
        },
        {
         "name": "蛋白和医学组_完成BUG修复数",
         "type": "scatter",
         "uid": "f1ad67a5-c202-11e8-b389-509a4c0f1ffc",
         "x": [
          "8",
          "9"
         ],
         "y": [
          2,
          3
         ]
        },
        {
         "name": "调控研发组_应完成BUG数",
         "type": "scatter",
         "uid": "f1ad67a6-c202-11e8-a206-509a4c0f1ffc",
         "x": [
          "8"
         ],
         "y": [
          null
         ]
        },
        {
         "name": "调控研发组_完成BUG修复数",
         "type": "scatter",
         "uid": "f1ad67a7-c202-11e8-be9c-509a4c0f1ffc",
         "x": [
          "8"
         ],
         "y": [
          null
         ]
        }
       ],
       "layout": {
        "title": "应完成BUG数&完成BUG修复数月趋势图",
        "xaxis": {
         "mirror": "all",
         "nticks": 20,
         "showgrid": true,
         "showline": true,
         "title": "月",
         "zeroline": true
        },
        "yaxis": {
         "mirror": "all",
         "nticks": 20,
         "showgrid": true,
         "showline": true,
         "title": "应完成BUG数&完成BUG修复数",
         "zeroline": true
        }
       }
      },
      "text/html": [
       "<div id=\"4aa32f64-dfab-4275-9474-4529a25d43db\" style=\"height: 525px; width: 100%;\" class=\"plotly-graph-div\"></div><script type=\"text/javascript\">require([\"plotly\"], function(Plotly) { window.PLOTLYENV=window.PLOTLYENV || {};window.PLOTLYENV.BASE_URL=\"https://plot.ly\";\n",
       "        Plotly.plot(\n",
       "            '4aa32f64-dfab-4275-9474-4529a25d43db',\n",
       "            [{\"name\": \"\\u751f\\u7269\\u5b66DNA\\u7ec4_\\u5e94\\u5b8c\\u6210BUG\\u6570\", \"x\": [\"8\", \"9\"], \"y\": [0.0, 2.0], \"type\": \"scatter\", \"uid\": \"f1ad67a2-c202-11e8-8195-509a4c0f1ffc\"}, {\"name\": \"\\u751f\\u7269\\u5b66DNA\\u7ec4_\\u5b8c\\u6210BUG\\u4fee\\u590d\\u6570\", \"x\": [\"8\", \"9\"], \"y\": [1.0, 2.0], \"type\": \"scatter\", \"uid\": \"f1ad67a3-c202-11e8-974f-509a4c0f1ffc\"}, {\"name\": \"\\u86cb\\u767d\\u548c\\u533b\\u5b66\\u7ec4_\\u5e94\\u5b8c\\u6210BUG\\u6570\", \"x\": [\"8\", \"9\"], \"y\": [3.0, 5.0], \"type\": \"scatter\", \"uid\": \"f1ad67a4-c202-11e8-8278-509a4c0f1ffc\"}, {\"name\": \"\\u86cb\\u767d\\u548c\\u533b\\u5b66\\u7ec4_\\u5b8c\\u6210BUG\\u4fee\\u590d\\u6570\", \"x\": [\"8\", \"9\"], \"y\": [2.0, 3.0], \"type\": \"scatter\", \"uid\": \"f1ad67a5-c202-11e8-b389-509a4c0f1ffc\"}, {\"name\": \"\\u8c03\\u63a7\\u7814\\u53d1\\u7ec4_\\u5e94\\u5b8c\\u6210BUG\\u6570\", \"x\": [\"8\"], \"y\": [null], \"type\": \"scatter\", \"uid\": \"f1ad67a6-c202-11e8-a206-509a4c0f1ffc\"}, {\"name\": \"\\u8c03\\u63a7\\u7814\\u53d1\\u7ec4_\\u5b8c\\u6210BUG\\u4fee\\u590d\\u6570\", \"x\": [\"8\"], \"y\": [null], \"type\": \"scatter\", \"uid\": \"f1ad67a7-c202-11e8-be9c-509a4c0f1ffc\"}],\n",
       "            {\"title\": \"\\u5e94\\u5b8c\\u6210BUG\\u6570&\\u5b8c\\u6210BUG\\u4fee\\u590d\\u6570\\u6708\\u8d8b\\u52bf\\u56fe\", \"xaxis\": {\"mirror\": \"all\", \"nticks\": 20, \"showgrid\": true, \"showline\": true, \"title\": \"\\u6708\", \"zeroline\": true}, \"yaxis\": {\"mirror\": \"all\", \"nticks\": 20, \"showgrid\": true, \"showline\": true, \"title\": \"\\u5e94\\u5b8c\\u6210BUG\\u6570&\\u5b8c\\u6210BUG\\u4fee\\u590d\\u6570\", \"zeroline\": true}},\n",
       "            {\"showLink\": true, \"linkText\": \"Export to plot.ly\"}\n",
       "        ).then(function () {return Plotly.addFrames('4aa32f64-dfab-4275-9474-4529a25d43db',{});}).then(function(){Plotly.animate('4aa32f64-dfab-4275-9474-4529a25d43db');})\n",
       "        });</script>"
      ],
      "text/vnd.plotly.v1+html": [
       "<div id=\"4aa32f64-dfab-4275-9474-4529a25d43db\" style=\"height: 525px; width: 100%;\" class=\"plotly-graph-div\"></div><script type=\"text/javascript\">require([\"plotly\"], function(Plotly) { window.PLOTLYENV=window.PLOTLYENV || {};window.PLOTLYENV.BASE_URL=\"https://plot.ly\";\n",
       "        Plotly.plot(\n",
       "            '4aa32f64-dfab-4275-9474-4529a25d43db',\n",
       "            [{\"name\": \"\\u751f\\u7269\\u5b66DNA\\u7ec4_\\u5e94\\u5b8c\\u6210BUG\\u6570\", \"x\": [\"8\", \"9\"], \"y\": [0.0, 2.0], \"type\": \"scatter\", \"uid\": \"f1ad67a2-c202-11e8-8195-509a4c0f1ffc\"}, {\"name\": \"\\u751f\\u7269\\u5b66DNA\\u7ec4_\\u5b8c\\u6210BUG\\u4fee\\u590d\\u6570\", \"x\": [\"8\", \"9\"], \"y\": [1.0, 2.0], \"type\": \"scatter\", \"uid\": \"f1ad67a3-c202-11e8-974f-509a4c0f1ffc\"}, {\"name\": \"\\u86cb\\u767d\\u548c\\u533b\\u5b66\\u7ec4_\\u5e94\\u5b8c\\u6210BUG\\u6570\", \"x\": [\"8\", \"9\"], \"y\": [3.0, 5.0], \"type\": \"scatter\", \"uid\": \"f1ad67a4-c202-11e8-8278-509a4c0f1ffc\"}, {\"name\": \"\\u86cb\\u767d\\u548c\\u533b\\u5b66\\u7ec4_\\u5b8c\\u6210BUG\\u4fee\\u590d\\u6570\", \"x\": [\"8\", \"9\"], \"y\": [2.0, 3.0], \"type\": \"scatter\", \"uid\": \"f1ad67a5-c202-11e8-b389-509a4c0f1ffc\"}, {\"name\": \"\\u8c03\\u63a7\\u7814\\u53d1\\u7ec4_\\u5e94\\u5b8c\\u6210BUG\\u6570\", \"x\": [\"8\"], \"y\": [null], \"type\": \"scatter\", \"uid\": \"f1ad67a6-c202-11e8-a206-509a4c0f1ffc\"}, {\"name\": \"\\u8c03\\u63a7\\u7814\\u53d1\\u7ec4_\\u5b8c\\u6210BUG\\u4fee\\u590d\\u6570\", \"x\": [\"8\"], \"y\": [null], \"type\": \"scatter\", \"uid\": \"f1ad67a7-c202-11e8-be9c-509a4c0f1ffc\"}],\n",
       "            {\"title\": \"\\u5e94\\u5b8c\\u6210BUG\\u6570&\\u5b8c\\u6210BUG\\u4fee\\u590d\\u6570\\u6708\\u8d8b\\u52bf\\u56fe\", \"xaxis\": {\"mirror\": \"all\", \"nticks\": 20, \"showgrid\": true, \"showline\": true, \"title\": \"\\u6708\", \"zeroline\": true}, \"yaxis\": {\"mirror\": \"all\", \"nticks\": 20, \"showgrid\": true, \"showline\": true, \"title\": \"\\u5e94\\u5b8c\\u6210BUG\\u6570&\\u5b8c\\u6210BUG\\u4fee\\u590d\\u6570\", \"zeroline\": true}},\n",
       "            {\"showLink\": true, \"linkText\": \"Export to plot.ly\"}\n",
       "        ).then(function () {return Plotly.addFrames('4aa32f64-dfab-4275-9474-4529a25d43db',{});}).then(function(){Plotly.animate('4aa32f64-dfab-4275-9474-4529a25d43db');})\n",
       "        });</script>"
      ]
     },
     "metadata": {},
     "output_type": "display_data"
    }
   ],
   "source": [
    "data_dict = {'应完成BUG数': ['应完成BUG数'], '完成BUG修复数': ['完成BUG修复数']}\n",
    "myModule.plot( all_dict_1, data_dict, '组别' ,  'line', all='' )"
   ]
  },
  {
   "cell_type": "markdown",
   "metadata": {
    "hide_input": true
   },
   "source": [
    "## 个人情况"
   ]
  },
  {
   "cell_type": "markdown",
   "metadata": {},
   "source": [
    "### 转产情况"
   ]
  },
  {
   "cell_type": "markdown",
   "metadata": {},
   "source": [
    "#### 转产通过数、一次转产通过数和通过率"
   ]
  },
  {
   "cell_type": "code",
   "execution_count": 68,
   "metadata": {},
   "outputs": [
    {
     "data": {
      "application/vnd.plotly.v1+json": {
       "data": [
        {
         "name": "刘江_转产通过数",
         "type": "scatter",
         "uid": "f21c2f02-c202-11e8-a884-509a4c0f1ffc",
         "x": [
          "8-3",
          "8-4",
          "9-1",
          "9-2",
          "9-3"
         ],
         "y": [
          0,
          0,
          1,
          0,
          0
         ]
        },
        {
         "name": "刘江_一次转产通过数",
         "type": "scatter",
         "uid": "f21c2f03-c202-11e8-bf27-509a4c0f1ffc",
         "x": [
          "8-3",
          "8-4",
          "9-1",
          "9-2",
          "9-3"
         ],
         "y": [
          0,
          0,
          1,
          0,
          0
         ]
        },
        {
         "name": "刘江_通过率",
         "type": "scatter",
         "uid": "f21c2f04-c202-11e8-9e2c-509a4c0f1ffc",
         "x": [
          "8-3",
          "8-4",
          "9-1",
          "9-2",
          "9-3"
         ],
         "y": [
          null,
          null,
          1,
          null,
          null
         ]
        },
        {
         "name": "任雪_转产通过数",
         "type": "scatter",
         "uid": "f21c2f05-c202-11e8-b94d-509a4c0f1ffc",
         "x": [
          "8-3",
          "8-4",
          "9-1",
          "9-2",
          "9-3"
         ],
         "y": [
          0,
          0,
          0,
          0,
          0
         ]
        },
        {
         "name": "任雪_一次转产通过数",
         "type": "scatter",
         "uid": "f21c2f06-c202-11e8-9ba2-509a4c0f1ffc",
         "x": [
          "8-3",
          "8-4",
          "9-1",
          "9-2",
          "9-3"
         ],
         "y": [
          0,
          0,
          0,
          0,
          0
         ]
        },
        {
         "name": "任雪_通过率",
         "type": "scatter",
         "uid": "f21c2f07-c202-11e8-903e-509a4c0f1ffc",
         "x": [
          "8-3",
          "8-4",
          "9-1",
          "9-2",
          "9-3"
         ],
         "y": [
          null,
          null,
          null,
          null,
          null
         ]
        },
        {
         "name": "苏彦勋_转产通过数",
         "type": "scatter",
         "uid": "f21c2f08-c202-11e8-bb8b-509a4c0f1ffc",
         "x": [
          "8-3"
         ],
         "y": [
          1
         ]
        },
        {
         "name": "苏彦勋_一次转产通过数",
         "type": "scatter",
         "uid": "f21c2f09-c202-11e8-a6ca-509a4c0f1ffc",
         "x": [
          "8-3"
         ],
         "y": [
          1
         ]
        },
        {
         "name": "苏彦勋_通过率",
         "type": "scatter",
         "uid": "f21c2f0a-c202-11e8-b9ce-509a4c0f1ffc",
         "x": [
          "8-3"
         ],
         "y": [
          1
         ]
        },
        {
         "name": "封彦杰_转产通过数",
         "type": "scatter",
         "uid": "f21c2f0b-c202-11e8-93c0-509a4c0f1ffc",
         "x": [
          "8-3",
          "8-4",
          "9-2",
          "9-3"
         ],
         "y": [
          0,
          0,
          0,
          0
         ]
        },
        {
         "name": "封彦杰_一次转产通过数",
         "type": "scatter",
         "uid": "f21c2f0c-c202-11e8-b7a6-509a4c0f1ffc",
         "x": [
          "8-3",
          "8-4",
          "9-2",
          "9-3"
         ],
         "y": [
          0,
          0,
          0,
          0
         ]
        },
        {
         "name": "封彦杰_通过率",
         "type": "scatter",
         "uid": "f21c2f0d-c202-11e8-9f42-509a4c0f1ffc",
         "x": [
          "8-3",
          "8-4",
          "9-2",
          "9-3"
         ],
         "y": [
          null,
          null,
          null,
          null
         ]
        },
        {
         "name": "孟昊_转产通过数",
         "type": "scatter",
         "uid": "f21c2f0e-c202-11e8-b31f-509a4c0f1ffc",
         "x": [
          "8-3",
          "9-1"
         ],
         "y": [
          1,
          1
         ]
        },
        {
         "name": "孟昊_一次转产通过数",
         "type": "scatter",
         "uid": "f21c2f0f-c202-11e8-93c4-509a4c0f1ffc",
         "x": [
          "8-3",
          "9-1"
         ],
         "y": [
          1,
          1
         ]
        },
        {
         "name": "孟昊_通过率",
         "type": "scatter",
         "uid": "f21c2f10-c202-11e8-bac6-509a4c0f1ffc",
         "x": [
          "8-3",
          "9-1"
         ],
         "y": [
          1,
          1
         ]
        },
        {
         "name": "韩少怀_转产通过数",
         "type": "scatter",
         "uid": "f21c2f11-c202-11e8-9218-509a4c0f1ffc",
         "x": [
          "8-4"
         ],
         "y": [
          0
         ]
        },
        {
         "name": "韩少怀_一次转产通过数",
         "type": "scatter",
         "uid": "f21c2f12-c202-11e8-b64d-509a4c0f1ffc",
         "x": [
          "8-4"
         ],
         "y": [
          0
         ]
        },
        {
         "name": "韩少怀_通过率",
         "type": "scatter",
         "uid": "f21c2f13-c202-11e8-bca2-509a4c0f1ffc",
         "x": [
          "8-4"
         ],
         "y": [
          null
         ]
        },
        {
         "name": "李华云_转产通过数",
         "type": "scatter",
         "uid": "f21c2f14-c202-11e8-8514-509a4c0f1ffc",
         "x": [
          "8-4",
          "9-3"
         ],
         "y": [
          2,
          1
         ]
        },
        {
         "name": "李华云_一次转产通过数",
         "type": "scatter",
         "uid": "f21c2f15-c202-11e8-8148-509a4c0f1ffc",
         "x": [
          "8-4",
          "9-3"
         ],
         "y": [
          2,
          1
         ]
        },
        {
         "name": "李华云_通过率",
         "type": "scatter",
         "uid": "f21c2f16-c202-11e8-9e96-509a4c0f1ffc",
         "x": [
          "8-4",
          "9-3"
         ],
         "y": [
          1,
          1
         ]
        },
        {
         "name": "刘慧玲_转产通过数",
         "type": "scatter",
         "uid": "f21c2f17-c202-11e8-b376-509a4c0f1ffc",
         "x": [
          "8-4"
         ],
         "y": [
          1
         ]
        },
        {
         "name": "刘慧玲_一次转产通过数",
         "type": "scatter",
         "uid": "f21c2f18-c202-11e8-9e42-509a4c0f1ffc",
         "x": [
          "8-4"
         ],
         "y": [
          1
         ]
        },
        {
         "name": "刘慧玲_通过率",
         "type": "scatter",
         "uid": "f21c2f19-c202-11e8-8527-509a4c0f1ffc",
         "x": [
          "8-4"
         ],
         "y": [
          1
         ]
        },
        {
         "name": "姚盟成_转产通过数",
         "type": "scatter",
         "uid": "f21c2f1a-c202-11e8-b839-509a4c0f1ffc",
         "x": [
          "8-4"
         ],
         "y": [
          1
         ]
        },
        {
         "name": "姚盟成_一次转产通过数",
         "type": "scatter",
         "uid": "f21c2f1b-c202-11e8-b1f0-509a4c0f1ffc",
         "x": [
          "8-4"
         ],
         "y": [
          1
         ]
        },
        {
         "name": "姚盟成_通过率",
         "type": "scatter",
         "uid": "f21c2f1c-c202-11e8-aff1-509a4c0f1ffc",
         "x": [
          "8-4"
         ],
         "y": [
          1
         ]
        },
        {
         "name": "范旭宁_转产通过数",
         "type": "scatter",
         "uid": "f21c2f1d-c202-11e8-94dc-509a4c0f1ffc",
         "x": [
          "8-4"
         ],
         "y": [
          2
         ]
        },
        {
         "name": "范旭宁_一次转产通过数",
         "type": "scatter",
         "uid": "f21c2f1e-c202-11e8-b56d-509a4c0f1ffc",
         "x": [
          "8-4"
         ],
         "y": [
          2
         ]
        },
        {
         "name": "范旭宁_通过率",
         "type": "scatter",
         "uid": "f21c2f1f-c202-11e8-8d9d-509a4c0f1ffc",
         "x": [
          "8-4"
         ],
         "y": [
          1
         ]
        }
       ],
       "layout": {
        "title": "转产通过数&一次转产通过数&通过率周趋势图",
        "xaxis": {
         "mirror": "all",
         "nticks": 20,
         "showgrid": true,
         "showline": true,
         "title": "周",
         "zeroline": true
        },
        "yaxis": {
         "mirror": "all",
         "nticks": 20,
         "showgrid": true,
         "showline": true,
         "title": "转产通过数&一次转产通过数&通过率",
         "zeroline": true
        }
       }
      },
      "text/html": [
       "<div id=\"1fad71de-ff26-4a2e-8eda-45ba9c1b5be4\" style=\"height: 525px; width: 100%;\" class=\"plotly-graph-div\"></div><script type=\"text/javascript\">require([\"plotly\"], function(Plotly) { window.PLOTLYENV=window.PLOTLYENV || {};window.PLOTLYENV.BASE_URL=\"https://plot.ly\";\n",
       "        Plotly.plot(\n",
       "            '1fad71de-ff26-4a2e-8eda-45ba9c1b5be4',\n",
       "            [{\"name\": \"\\u5218\\u6c5f_\\u8f6c\\u4ea7\\u901a\\u8fc7\\u6570\", \"x\": [\"8-3\", \"8-4\", \"9-1\", \"9-2\", \"9-3\"], \"y\": [0.0, 0.0, 1.0, 0.0, 0.0], \"type\": \"scatter\", \"uid\": \"f21c2f02-c202-11e8-a884-509a4c0f1ffc\"}, {\"name\": \"\\u5218\\u6c5f_\\u4e00\\u6b21\\u8f6c\\u4ea7\\u901a\\u8fc7\\u6570\", \"x\": [\"8-3\", \"8-4\", \"9-1\", \"9-2\", \"9-3\"], \"y\": [0.0, 0.0, 1.0, 0.0, 0.0], \"type\": \"scatter\", \"uid\": \"f21c2f03-c202-11e8-bf27-509a4c0f1ffc\"}, {\"name\": \"\\u5218\\u6c5f_\\u901a\\u8fc7\\u7387\", \"x\": [\"8-3\", \"8-4\", \"9-1\", \"9-2\", \"9-3\"], \"y\": [null, null, 1.0, null, null], \"type\": \"scatter\", \"uid\": \"f21c2f04-c202-11e8-9e2c-509a4c0f1ffc\"}, {\"name\": \"\\u4efb\\u96ea_\\u8f6c\\u4ea7\\u901a\\u8fc7\\u6570\", \"x\": [\"8-3\", \"8-4\", \"9-1\", \"9-2\", \"9-3\"], \"y\": [0.0, 0.0, 0.0, 0.0, 0.0], \"type\": \"scatter\", \"uid\": \"f21c2f05-c202-11e8-b94d-509a4c0f1ffc\"}, {\"name\": \"\\u4efb\\u96ea_\\u4e00\\u6b21\\u8f6c\\u4ea7\\u901a\\u8fc7\\u6570\", \"x\": [\"8-3\", \"8-4\", \"9-1\", \"9-2\", \"9-3\"], \"y\": [0.0, 0.0, 0.0, 0.0, 0.0], \"type\": \"scatter\", \"uid\": \"f21c2f06-c202-11e8-9ba2-509a4c0f1ffc\"}, {\"name\": \"\\u4efb\\u96ea_\\u901a\\u8fc7\\u7387\", \"x\": [\"8-3\", \"8-4\", \"9-1\", \"9-2\", \"9-3\"], \"y\": [null, null, null, null, null], \"type\": \"scatter\", \"uid\": \"f21c2f07-c202-11e8-903e-509a4c0f1ffc\"}, {\"name\": \"\\u82cf\\u5f66\\u52cb_\\u8f6c\\u4ea7\\u901a\\u8fc7\\u6570\", \"x\": [\"8-3\"], \"y\": [1.0], \"type\": \"scatter\", \"uid\": \"f21c2f08-c202-11e8-bb8b-509a4c0f1ffc\"}, {\"name\": \"\\u82cf\\u5f66\\u52cb_\\u4e00\\u6b21\\u8f6c\\u4ea7\\u901a\\u8fc7\\u6570\", \"x\": [\"8-3\"], \"y\": [1.0], \"type\": \"scatter\", \"uid\": \"f21c2f09-c202-11e8-a6ca-509a4c0f1ffc\"}, {\"name\": \"\\u82cf\\u5f66\\u52cb_\\u901a\\u8fc7\\u7387\", \"x\": [\"8-3\"], \"y\": [1.0], \"type\": \"scatter\", \"uid\": \"f21c2f0a-c202-11e8-b9ce-509a4c0f1ffc\"}, {\"name\": \"\\u5c01\\u5f66\\u6770_\\u8f6c\\u4ea7\\u901a\\u8fc7\\u6570\", \"x\": [\"8-3\", \"8-4\", \"9-2\", \"9-3\"], \"y\": [0.0, 0.0, 0.0, 0.0], \"type\": \"scatter\", \"uid\": \"f21c2f0b-c202-11e8-93c0-509a4c0f1ffc\"}, {\"name\": \"\\u5c01\\u5f66\\u6770_\\u4e00\\u6b21\\u8f6c\\u4ea7\\u901a\\u8fc7\\u6570\", \"x\": [\"8-3\", \"8-4\", \"9-2\", \"9-3\"], \"y\": [0.0, 0.0, 0.0, 0.0], \"type\": \"scatter\", \"uid\": \"f21c2f0c-c202-11e8-b7a6-509a4c0f1ffc\"}, {\"name\": \"\\u5c01\\u5f66\\u6770_\\u901a\\u8fc7\\u7387\", \"x\": [\"8-3\", \"8-4\", \"9-2\", \"9-3\"], \"y\": [null, null, null, null], \"type\": \"scatter\", \"uid\": \"f21c2f0d-c202-11e8-9f42-509a4c0f1ffc\"}, {\"name\": \"\\u5b5f\\u660a_\\u8f6c\\u4ea7\\u901a\\u8fc7\\u6570\", \"x\": [\"8-3\", \"9-1\"], \"y\": [1.0, 1.0], \"type\": \"scatter\", \"uid\": \"f21c2f0e-c202-11e8-b31f-509a4c0f1ffc\"}, {\"name\": \"\\u5b5f\\u660a_\\u4e00\\u6b21\\u8f6c\\u4ea7\\u901a\\u8fc7\\u6570\", \"x\": [\"8-3\", \"9-1\"], \"y\": [1.0, 1.0], \"type\": \"scatter\", \"uid\": \"f21c2f0f-c202-11e8-93c4-509a4c0f1ffc\"}, {\"name\": \"\\u5b5f\\u660a_\\u901a\\u8fc7\\u7387\", \"x\": [\"8-3\", \"9-1\"], \"y\": [1.0, 1.0], \"type\": \"scatter\", \"uid\": \"f21c2f10-c202-11e8-bac6-509a4c0f1ffc\"}, {\"name\": \"\\u97e9\\u5c11\\u6000_\\u8f6c\\u4ea7\\u901a\\u8fc7\\u6570\", \"x\": [\"8-4\"], \"y\": [0.0], \"type\": \"scatter\", \"uid\": \"f21c2f11-c202-11e8-9218-509a4c0f1ffc\"}, {\"name\": \"\\u97e9\\u5c11\\u6000_\\u4e00\\u6b21\\u8f6c\\u4ea7\\u901a\\u8fc7\\u6570\", \"x\": [\"8-4\"], \"y\": [0.0], \"type\": \"scatter\", \"uid\": \"f21c2f12-c202-11e8-b64d-509a4c0f1ffc\"}, {\"name\": \"\\u97e9\\u5c11\\u6000_\\u901a\\u8fc7\\u7387\", \"x\": [\"8-4\"], \"y\": [null], \"type\": \"scatter\", \"uid\": \"f21c2f13-c202-11e8-bca2-509a4c0f1ffc\"}, {\"name\": \"\\u674e\\u534e\\u4e91_\\u8f6c\\u4ea7\\u901a\\u8fc7\\u6570\", \"x\": [\"8-4\", \"9-3\"], \"y\": [2.0, 1.0], \"type\": \"scatter\", \"uid\": \"f21c2f14-c202-11e8-8514-509a4c0f1ffc\"}, {\"name\": \"\\u674e\\u534e\\u4e91_\\u4e00\\u6b21\\u8f6c\\u4ea7\\u901a\\u8fc7\\u6570\", \"x\": [\"8-4\", \"9-3\"], \"y\": [2.0, 1.0], \"type\": \"scatter\", \"uid\": \"f21c2f15-c202-11e8-8148-509a4c0f1ffc\"}, {\"name\": \"\\u674e\\u534e\\u4e91_\\u901a\\u8fc7\\u7387\", \"x\": [\"8-4\", \"9-3\"], \"y\": [1.0, 1.0], \"type\": \"scatter\", \"uid\": \"f21c2f16-c202-11e8-9e96-509a4c0f1ffc\"}, {\"name\": \"\\u5218\\u6167\\u73b2_\\u8f6c\\u4ea7\\u901a\\u8fc7\\u6570\", \"x\": [\"8-4\"], \"y\": [1.0], \"type\": \"scatter\", \"uid\": \"f21c2f17-c202-11e8-b376-509a4c0f1ffc\"}, {\"name\": \"\\u5218\\u6167\\u73b2_\\u4e00\\u6b21\\u8f6c\\u4ea7\\u901a\\u8fc7\\u6570\", \"x\": [\"8-4\"], \"y\": [1.0], \"type\": \"scatter\", \"uid\": \"f21c2f18-c202-11e8-9e42-509a4c0f1ffc\"}, {\"name\": \"\\u5218\\u6167\\u73b2_\\u901a\\u8fc7\\u7387\", \"x\": [\"8-4\"], \"y\": [1.0], \"type\": \"scatter\", \"uid\": \"f21c2f19-c202-11e8-8527-509a4c0f1ffc\"}, {\"name\": \"\\u59da\\u76df\\u6210_\\u8f6c\\u4ea7\\u901a\\u8fc7\\u6570\", \"x\": [\"8-4\"], \"y\": [1.0], \"type\": \"scatter\", \"uid\": \"f21c2f1a-c202-11e8-b839-509a4c0f1ffc\"}, {\"name\": \"\\u59da\\u76df\\u6210_\\u4e00\\u6b21\\u8f6c\\u4ea7\\u901a\\u8fc7\\u6570\", \"x\": [\"8-4\"], \"y\": [1.0], \"type\": \"scatter\", \"uid\": \"f21c2f1b-c202-11e8-b1f0-509a4c0f1ffc\"}, {\"name\": \"\\u59da\\u76df\\u6210_\\u901a\\u8fc7\\u7387\", \"x\": [\"8-4\"], \"y\": [1.0], \"type\": \"scatter\", \"uid\": \"f21c2f1c-c202-11e8-aff1-509a4c0f1ffc\"}, {\"name\": \"\\u8303\\u65ed\\u5b81_\\u8f6c\\u4ea7\\u901a\\u8fc7\\u6570\", \"x\": [\"8-4\"], \"y\": [2.0], \"type\": \"scatter\", \"uid\": \"f21c2f1d-c202-11e8-94dc-509a4c0f1ffc\"}, {\"name\": \"\\u8303\\u65ed\\u5b81_\\u4e00\\u6b21\\u8f6c\\u4ea7\\u901a\\u8fc7\\u6570\", \"x\": [\"8-4\"], \"y\": [2.0], \"type\": \"scatter\", \"uid\": \"f21c2f1e-c202-11e8-b56d-509a4c0f1ffc\"}, {\"name\": \"\\u8303\\u65ed\\u5b81_\\u901a\\u8fc7\\u7387\", \"x\": [\"8-4\"], \"y\": [1.0], \"type\": \"scatter\", \"uid\": \"f21c2f1f-c202-11e8-8d9d-509a4c0f1ffc\"}],\n",
       "            {\"title\": \"\\u8f6c\\u4ea7\\u901a\\u8fc7\\u6570&\\u4e00\\u6b21\\u8f6c\\u4ea7\\u901a\\u8fc7\\u6570&\\u901a\\u8fc7\\u7387\\u5468\\u8d8b\\u52bf\\u56fe\", \"xaxis\": {\"mirror\": \"all\", \"nticks\": 20, \"showgrid\": true, \"showline\": true, \"title\": \"\\u5468\", \"zeroline\": true}, \"yaxis\": {\"mirror\": \"all\", \"nticks\": 20, \"showgrid\": true, \"showline\": true, \"title\": \"\\u8f6c\\u4ea7\\u901a\\u8fc7\\u6570&\\u4e00\\u6b21\\u8f6c\\u4ea7\\u901a\\u8fc7\\u6570&\\u901a\\u8fc7\\u7387\", \"zeroline\": true}},\n",
       "            {\"showLink\": true, \"linkText\": \"Export to plot.ly\"}\n",
       "        ).then(function () {return Plotly.addFrames('1fad71de-ff26-4a2e-8eda-45ba9c1b5be4',{});}).then(function(){Plotly.animate('1fad71de-ff26-4a2e-8eda-45ba9c1b5be4');})\n",
       "        });</script>"
      ],
      "text/vnd.plotly.v1+html": [
       "<div id=\"1fad71de-ff26-4a2e-8eda-45ba9c1b5be4\" style=\"height: 525px; width: 100%;\" class=\"plotly-graph-div\"></div><script type=\"text/javascript\">require([\"plotly\"], function(Plotly) { window.PLOTLYENV=window.PLOTLYENV || {};window.PLOTLYENV.BASE_URL=\"https://plot.ly\";\n",
       "        Plotly.plot(\n",
       "            '1fad71de-ff26-4a2e-8eda-45ba9c1b5be4',\n",
       "            [{\"name\": \"\\u5218\\u6c5f_\\u8f6c\\u4ea7\\u901a\\u8fc7\\u6570\", \"x\": [\"8-3\", \"8-4\", \"9-1\", \"9-2\", \"9-3\"], \"y\": [0.0, 0.0, 1.0, 0.0, 0.0], \"type\": \"scatter\", \"uid\": \"f21c2f02-c202-11e8-a884-509a4c0f1ffc\"}, {\"name\": \"\\u5218\\u6c5f_\\u4e00\\u6b21\\u8f6c\\u4ea7\\u901a\\u8fc7\\u6570\", \"x\": [\"8-3\", \"8-4\", \"9-1\", \"9-2\", \"9-3\"], \"y\": [0.0, 0.0, 1.0, 0.0, 0.0], \"type\": \"scatter\", \"uid\": \"f21c2f03-c202-11e8-bf27-509a4c0f1ffc\"}, {\"name\": \"\\u5218\\u6c5f_\\u901a\\u8fc7\\u7387\", \"x\": [\"8-3\", \"8-4\", \"9-1\", \"9-2\", \"9-3\"], \"y\": [null, null, 1.0, null, null], \"type\": \"scatter\", \"uid\": \"f21c2f04-c202-11e8-9e2c-509a4c0f1ffc\"}, {\"name\": \"\\u4efb\\u96ea_\\u8f6c\\u4ea7\\u901a\\u8fc7\\u6570\", \"x\": [\"8-3\", \"8-4\", \"9-1\", \"9-2\", \"9-3\"], \"y\": [0.0, 0.0, 0.0, 0.0, 0.0], \"type\": \"scatter\", \"uid\": \"f21c2f05-c202-11e8-b94d-509a4c0f1ffc\"}, {\"name\": \"\\u4efb\\u96ea_\\u4e00\\u6b21\\u8f6c\\u4ea7\\u901a\\u8fc7\\u6570\", \"x\": [\"8-3\", \"8-4\", \"9-1\", \"9-2\", \"9-3\"], \"y\": [0.0, 0.0, 0.0, 0.0, 0.0], \"type\": \"scatter\", \"uid\": \"f21c2f06-c202-11e8-9ba2-509a4c0f1ffc\"}, {\"name\": \"\\u4efb\\u96ea_\\u901a\\u8fc7\\u7387\", \"x\": [\"8-3\", \"8-4\", \"9-1\", \"9-2\", \"9-3\"], \"y\": [null, null, null, null, null], \"type\": \"scatter\", \"uid\": \"f21c2f07-c202-11e8-903e-509a4c0f1ffc\"}, {\"name\": \"\\u82cf\\u5f66\\u52cb_\\u8f6c\\u4ea7\\u901a\\u8fc7\\u6570\", \"x\": [\"8-3\"], \"y\": [1.0], \"type\": \"scatter\", \"uid\": \"f21c2f08-c202-11e8-bb8b-509a4c0f1ffc\"}, {\"name\": \"\\u82cf\\u5f66\\u52cb_\\u4e00\\u6b21\\u8f6c\\u4ea7\\u901a\\u8fc7\\u6570\", \"x\": [\"8-3\"], \"y\": [1.0], \"type\": \"scatter\", \"uid\": \"f21c2f09-c202-11e8-a6ca-509a4c0f1ffc\"}, {\"name\": \"\\u82cf\\u5f66\\u52cb_\\u901a\\u8fc7\\u7387\", \"x\": [\"8-3\"], \"y\": [1.0], \"type\": \"scatter\", \"uid\": \"f21c2f0a-c202-11e8-b9ce-509a4c0f1ffc\"}, {\"name\": \"\\u5c01\\u5f66\\u6770_\\u8f6c\\u4ea7\\u901a\\u8fc7\\u6570\", \"x\": [\"8-3\", \"8-4\", \"9-2\", \"9-3\"], \"y\": [0.0, 0.0, 0.0, 0.0], \"type\": \"scatter\", \"uid\": \"f21c2f0b-c202-11e8-93c0-509a4c0f1ffc\"}, {\"name\": \"\\u5c01\\u5f66\\u6770_\\u4e00\\u6b21\\u8f6c\\u4ea7\\u901a\\u8fc7\\u6570\", \"x\": [\"8-3\", \"8-4\", \"9-2\", \"9-3\"], \"y\": [0.0, 0.0, 0.0, 0.0], \"type\": \"scatter\", \"uid\": \"f21c2f0c-c202-11e8-b7a6-509a4c0f1ffc\"}, {\"name\": \"\\u5c01\\u5f66\\u6770_\\u901a\\u8fc7\\u7387\", \"x\": [\"8-3\", \"8-4\", \"9-2\", \"9-3\"], \"y\": [null, null, null, null], \"type\": \"scatter\", \"uid\": \"f21c2f0d-c202-11e8-9f42-509a4c0f1ffc\"}, {\"name\": \"\\u5b5f\\u660a_\\u8f6c\\u4ea7\\u901a\\u8fc7\\u6570\", \"x\": [\"8-3\", \"9-1\"], \"y\": [1.0, 1.0], \"type\": \"scatter\", \"uid\": \"f21c2f0e-c202-11e8-b31f-509a4c0f1ffc\"}, {\"name\": \"\\u5b5f\\u660a_\\u4e00\\u6b21\\u8f6c\\u4ea7\\u901a\\u8fc7\\u6570\", \"x\": [\"8-3\", \"9-1\"], \"y\": [1.0, 1.0], \"type\": \"scatter\", \"uid\": \"f21c2f0f-c202-11e8-93c4-509a4c0f1ffc\"}, {\"name\": \"\\u5b5f\\u660a_\\u901a\\u8fc7\\u7387\", \"x\": [\"8-3\", \"9-1\"], \"y\": [1.0, 1.0], \"type\": \"scatter\", \"uid\": \"f21c2f10-c202-11e8-bac6-509a4c0f1ffc\"}, {\"name\": \"\\u97e9\\u5c11\\u6000_\\u8f6c\\u4ea7\\u901a\\u8fc7\\u6570\", \"x\": [\"8-4\"], \"y\": [0.0], \"type\": \"scatter\", \"uid\": \"f21c2f11-c202-11e8-9218-509a4c0f1ffc\"}, {\"name\": \"\\u97e9\\u5c11\\u6000_\\u4e00\\u6b21\\u8f6c\\u4ea7\\u901a\\u8fc7\\u6570\", \"x\": [\"8-4\"], \"y\": [0.0], \"type\": \"scatter\", \"uid\": \"f21c2f12-c202-11e8-b64d-509a4c0f1ffc\"}, {\"name\": \"\\u97e9\\u5c11\\u6000_\\u901a\\u8fc7\\u7387\", \"x\": [\"8-4\"], \"y\": [null], \"type\": \"scatter\", \"uid\": \"f21c2f13-c202-11e8-bca2-509a4c0f1ffc\"}, {\"name\": \"\\u674e\\u534e\\u4e91_\\u8f6c\\u4ea7\\u901a\\u8fc7\\u6570\", \"x\": [\"8-4\", \"9-3\"], \"y\": [2.0, 1.0], \"type\": \"scatter\", \"uid\": \"f21c2f14-c202-11e8-8514-509a4c0f1ffc\"}, {\"name\": \"\\u674e\\u534e\\u4e91_\\u4e00\\u6b21\\u8f6c\\u4ea7\\u901a\\u8fc7\\u6570\", \"x\": [\"8-4\", \"9-3\"], \"y\": [2.0, 1.0], \"type\": \"scatter\", \"uid\": \"f21c2f15-c202-11e8-8148-509a4c0f1ffc\"}, {\"name\": \"\\u674e\\u534e\\u4e91_\\u901a\\u8fc7\\u7387\", \"x\": [\"8-4\", \"9-3\"], \"y\": [1.0, 1.0], \"type\": \"scatter\", \"uid\": \"f21c2f16-c202-11e8-9e96-509a4c0f1ffc\"}, {\"name\": \"\\u5218\\u6167\\u73b2_\\u8f6c\\u4ea7\\u901a\\u8fc7\\u6570\", \"x\": [\"8-4\"], \"y\": [1.0], \"type\": \"scatter\", \"uid\": \"f21c2f17-c202-11e8-b376-509a4c0f1ffc\"}, {\"name\": \"\\u5218\\u6167\\u73b2_\\u4e00\\u6b21\\u8f6c\\u4ea7\\u901a\\u8fc7\\u6570\", \"x\": [\"8-4\"], \"y\": [1.0], \"type\": \"scatter\", \"uid\": \"f21c2f18-c202-11e8-9e42-509a4c0f1ffc\"}, {\"name\": \"\\u5218\\u6167\\u73b2_\\u901a\\u8fc7\\u7387\", \"x\": [\"8-4\"], \"y\": [1.0], \"type\": \"scatter\", \"uid\": \"f21c2f19-c202-11e8-8527-509a4c0f1ffc\"}, {\"name\": \"\\u59da\\u76df\\u6210_\\u8f6c\\u4ea7\\u901a\\u8fc7\\u6570\", \"x\": [\"8-4\"], \"y\": [1.0], \"type\": \"scatter\", \"uid\": \"f21c2f1a-c202-11e8-b839-509a4c0f1ffc\"}, {\"name\": \"\\u59da\\u76df\\u6210_\\u4e00\\u6b21\\u8f6c\\u4ea7\\u901a\\u8fc7\\u6570\", \"x\": [\"8-4\"], \"y\": [1.0], \"type\": \"scatter\", \"uid\": \"f21c2f1b-c202-11e8-b1f0-509a4c0f1ffc\"}, {\"name\": \"\\u59da\\u76df\\u6210_\\u901a\\u8fc7\\u7387\", \"x\": [\"8-4\"], \"y\": [1.0], \"type\": \"scatter\", \"uid\": \"f21c2f1c-c202-11e8-aff1-509a4c0f1ffc\"}, {\"name\": \"\\u8303\\u65ed\\u5b81_\\u8f6c\\u4ea7\\u901a\\u8fc7\\u6570\", \"x\": [\"8-4\"], \"y\": [2.0], \"type\": \"scatter\", \"uid\": \"f21c2f1d-c202-11e8-94dc-509a4c0f1ffc\"}, {\"name\": \"\\u8303\\u65ed\\u5b81_\\u4e00\\u6b21\\u8f6c\\u4ea7\\u901a\\u8fc7\\u6570\", \"x\": [\"8-4\"], \"y\": [2.0], \"type\": \"scatter\", \"uid\": \"f21c2f1e-c202-11e8-b56d-509a4c0f1ffc\"}, {\"name\": \"\\u8303\\u65ed\\u5b81_\\u901a\\u8fc7\\u7387\", \"x\": [\"8-4\"], \"y\": [1.0], \"type\": \"scatter\", \"uid\": \"f21c2f1f-c202-11e8-8d9d-509a4c0f1ffc\"}],\n",
       "            {\"title\": \"\\u8f6c\\u4ea7\\u901a\\u8fc7\\u6570&\\u4e00\\u6b21\\u8f6c\\u4ea7\\u901a\\u8fc7\\u6570&\\u901a\\u8fc7\\u7387\\u5468\\u8d8b\\u52bf\\u56fe\", \"xaxis\": {\"mirror\": \"all\", \"nticks\": 20, \"showgrid\": true, \"showline\": true, \"title\": \"\\u5468\", \"zeroline\": true}, \"yaxis\": {\"mirror\": \"all\", \"nticks\": 20, \"showgrid\": true, \"showline\": true, \"title\": \"\\u8f6c\\u4ea7\\u901a\\u8fc7\\u6570&\\u4e00\\u6b21\\u8f6c\\u4ea7\\u901a\\u8fc7\\u6570&\\u901a\\u8fc7\\u7387\", \"zeroline\": true}},\n",
       "            {\"showLink\": true, \"linkText\": \"Export to plot.ly\"}\n",
       "        ).then(function () {return Plotly.addFrames('1fad71de-ff26-4a2e-8eda-45ba9c1b5be4',{});}).then(function(){Plotly.animate('1fad71de-ff26-4a2e-8eda-45ba9c1b5be4');})\n",
       "        });</script>"
      ]
     },
     "metadata": {},
     "output_type": "display_data"
    },
    {
     "data": {
      "application/vnd.plotly.v1+json": {
       "data": [
        {
         "name": "任雪_转产通过数",
         "type": "scatter",
         "uid": "f252a852-c202-11e8-98b8-509a4c0f1ffc",
         "x": [
          "8",
          "9"
         ],
         "y": [
          0,
          0
         ]
        },
        {
         "name": "任雪_一次转产通过数",
         "type": "scatter",
         "uid": "f252a853-c202-11e8-994d-509a4c0f1ffc",
         "x": [
          "8",
          "9"
         ],
         "y": [
          0,
          0
         ]
        },
        {
         "name": "任雪_通过率",
         "type": "scatter",
         "uid": "f252a854-c202-11e8-abdd-509a4c0f1ffc",
         "x": [
          "8",
          "9"
         ],
         "y": [
          null,
          null
         ]
        },
        {
         "name": "刘慧玲_转产通过数",
         "type": "scatter",
         "uid": "f252a855-c202-11e8-859f-509a4c0f1ffc",
         "x": [
          "8"
         ],
         "y": [
          null
         ]
        },
        {
         "name": "刘慧玲_一次转产通过数",
         "type": "scatter",
         "uid": "f252a856-c202-11e8-b39d-509a4c0f1ffc",
         "x": [
          "8"
         ],
         "y": [
          null
         ]
        },
        {
         "name": "刘慧玲_通过率",
         "type": "scatter",
         "uid": "f252a857-c202-11e8-bdc9-509a4c0f1ffc",
         "x": [
          "8"
         ],
         "y": [
          null
         ]
        },
        {
         "name": "刘江_转产通过数",
         "type": "scatter",
         "uid": "f252a858-c202-11e8-9e92-509a4c0f1ffc",
         "x": [
          "8",
          "9"
         ],
         "y": [
          0,
          1
         ]
        },
        {
         "name": "刘江_一次转产通过数",
         "type": "scatter",
         "uid": "f252a859-c202-11e8-bf56-509a4c0f1ffc",
         "x": [
          "8",
          "9"
         ],
         "y": [
          0,
          1
         ]
        },
        {
         "name": "刘江_通过率",
         "type": "scatter",
         "uid": "f252a85a-c202-11e8-a40d-509a4c0f1ffc",
         "x": [
          "8",
          "9"
         ],
         "y": [
          null,
          1
         ]
        },
        {
         "name": "姚盟成_转产通过数",
         "type": "scatter",
         "uid": "f252a85b-c202-11e8-b894-509a4c0f1ffc",
         "x": [
          "8"
         ],
         "y": [
          null
         ]
        },
        {
         "name": "姚盟成_一次转产通过数",
         "type": "scatter",
         "uid": "f252a85c-c202-11e8-a0d5-509a4c0f1ffc",
         "x": [
          "8"
         ],
         "y": [
          null
         ]
        },
        {
         "name": "姚盟成_通过率",
         "type": "scatter",
         "uid": "f252a85d-c202-11e8-bd89-509a4c0f1ffc",
         "x": [
          "8"
         ],
         "y": [
          null
         ]
        },
        {
         "name": "孟昊_转产通过数",
         "type": "scatter",
         "uid": "f252a85e-c202-11e8-bfc0-509a4c0f1ffc",
         "x": [
          "8",
          "9"
         ],
         "y": [
          null,
          null
         ]
        },
        {
         "name": "孟昊_一次转产通过数",
         "type": "scatter",
         "uid": "f252a85f-c202-11e8-8ec3-509a4c0f1ffc",
         "x": [
          "8",
          "9"
         ],
         "y": [
          null,
          null
         ]
        },
        {
         "name": "孟昊_通过率",
         "type": "scatter",
         "uid": "f252a860-c202-11e8-bab4-509a4c0f1ffc",
         "x": [
          "8",
          "9"
         ],
         "y": [
          null,
          null
         ]
        },
        {
         "name": "封彦杰_转产通过数",
         "type": "scatter",
         "uid": "f252a861-c202-11e8-991e-509a4c0f1ffc",
         "x": [
          "8",
          "9"
         ],
         "y": [
          0,
          null
         ]
        },
        {
         "name": "封彦杰_一次转产通过数",
         "type": "scatter",
         "uid": "f252a862-c202-11e8-aac7-509a4c0f1ffc",
         "x": [
          "8",
          "9"
         ],
         "y": [
          0,
          null
         ]
        },
        {
         "name": "封彦杰_通过率",
         "type": "scatter",
         "uid": "f252a863-c202-11e8-aeb3-509a4c0f1ffc",
         "x": [
          "8",
          "9"
         ],
         "y": [
          null,
          null
         ]
        },
        {
         "name": "李华云_转产通过数",
         "type": "scatter",
         "uid": "f252a864-c202-11e8-81ef-509a4c0f1ffc",
         "x": [
          "8",
          "9"
         ],
         "y": [
          null,
          null
         ]
        },
        {
         "name": "李华云_一次转产通过数",
         "type": "scatter",
         "uid": "f252a865-c202-11e8-891a-509a4c0f1ffc",
         "x": [
          "8",
          "9"
         ],
         "y": [
          null,
          null
         ]
        },
        {
         "name": "李华云_通过率",
         "type": "scatter",
         "uid": "f252a866-c202-11e8-8803-509a4c0f1ffc",
         "x": [
          "8",
          "9"
         ],
         "y": [
          null,
          null
         ]
        },
        {
         "name": "苏彦勋_转产通过数",
         "type": "scatter",
         "uid": "f252a867-c202-11e8-8451-509a4c0f1ffc",
         "x": [
          "8"
         ],
         "y": [
          null
         ]
        },
        {
         "name": "苏彦勋_一次转产通过数",
         "type": "scatter",
         "uid": "f252a868-c202-11e8-a407-509a4c0f1ffc",
         "x": [
          "8"
         ],
         "y": [
          null
         ]
        },
        {
         "name": "苏彦勋_通过率",
         "type": "scatter",
         "uid": "f252a869-c202-11e8-8602-509a4c0f1ffc",
         "x": [
          "8"
         ],
         "y": [
          null
         ]
        },
        {
         "name": "范旭宁_转产通过数",
         "type": "scatter",
         "uid": "f252a86a-c202-11e8-ac13-509a4c0f1ffc",
         "x": [
          "8"
         ],
         "y": [
          null
         ]
        },
        {
         "name": "范旭宁_一次转产通过数",
         "type": "scatter",
         "uid": "f252a86b-c202-11e8-a009-509a4c0f1ffc",
         "x": [
          "8"
         ],
         "y": [
          null
         ]
        },
        {
         "name": "范旭宁_通过率",
         "type": "scatter",
         "uid": "f252a86c-c202-11e8-bc76-509a4c0f1ffc",
         "x": [
          "8"
         ],
         "y": [
          null
         ]
        },
        {
         "name": "韩少怀_转产通过数",
         "type": "scatter",
         "uid": "f252a86d-c202-11e8-9c35-509a4c0f1ffc",
         "x": [
          "8"
         ],
         "y": [
          null
         ]
        },
        {
         "name": "韩少怀_一次转产通过数",
         "type": "scatter",
         "uid": "f252a86e-c202-11e8-9ea4-509a4c0f1ffc",
         "x": [
          "8"
         ],
         "y": [
          null
         ]
        },
        {
         "name": "韩少怀_通过率",
         "type": "scatter",
         "uid": "f252a86f-c202-11e8-8aea-509a4c0f1ffc",
         "x": [
          "8"
         ],
         "y": [
          null
         ]
        }
       ],
       "layout": {
        "title": "转产通过数&一次转产通过数&通过率月趋势图",
        "xaxis": {
         "mirror": "all",
         "nticks": 20,
         "showgrid": true,
         "showline": true,
         "title": "月",
         "zeroline": true
        },
        "yaxis": {
         "mirror": "all",
         "nticks": 20,
         "showgrid": true,
         "showline": true,
         "title": "转产通过数&一次转产通过数&通过率",
         "zeroline": true
        }
       }
      },
      "text/html": [
       "<div id=\"afa6f966-db34-41e2-af1a-d73eed7b3e1a\" style=\"height: 525px; width: 100%;\" class=\"plotly-graph-div\"></div><script type=\"text/javascript\">require([\"plotly\"], function(Plotly) { window.PLOTLYENV=window.PLOTLYENV || {};window.PLOTLYENV.BASE_URL=\"https://plot.ly\";\n",
       "        Plotly.plot(\n",
       "            'afa6f966-db34-41e2-af1a-d73eed7b3e1a',\n",
       "            [{\"name\": \"\\u4efb\\u96ea_\\u8f6c\\u4ea7\\u901a\\u8fc7\\u6570\", \"x\": [\"8\", \"9\"], \"y\": [0.0, 0.0], \"type\": \"scatter\", \"uid\": \"f252a852-c202-11e8-98b8-509a4c0f1ffc\"}, {\"name\": \"\\u4efb\\u96ea_\\u4e00\\u6b21\\u8f6c\\u4ea7\\u901a\\u8fc7\\u6570\", \"x\": [\"8\", \"9\"], \"y\": [0.0, 0.0], \"type\": \"scatter\", \"uid\": \"f252a853-c202-11e8-994d-509a4c0f1ffc\"}, {\"name\": \"\\u4efb\\u96ea_\\u901a\\u8fc7\\u7387\", \"x\": [\"8\", \"9\"], \"y\": [null, null], \"type\": \"scatter\", \"uid\": \"f252a854-c202-11e8-abdd-509a4c0f1ffc\"}, {\"name\": \"\\u5218\\u6167\\u73b2_\\u8f6c\\u4ea7\\u901a\\u8fc7\\u6570\", \"x\": [\"8\"], \"y\": [null], \"type\": \"scatter\", \"uid\": \"f252a855-c202-11e8-859f-509a4c0f1ffc\"}, {\"name\": \"\\u5218\\u6167\\u73b2_\\u4e00\\u6b21\\u8f6c\\u4ea7\\u901a\\u8fc7\\u6570\", \"x\": [\"8\"], \"y\": [null], \"type\": \"scatter\", \"uid\": \"f252a856-c202-11e8-b39d-509a4c0f1ffc\"}, {\"name\": \"\\u5218\\u6167\\u73b2_\\u901a\\u8fc7\\u7387\", \"x\": [\"8\"], \"y\": [null], \"type\": \"scatter\", \"uid\": \"f252a857-c202-11e8-bdc9-509a4c0f1ffc\"}, {\"name\": \"\\u5218\\u6c5f_\\u8f6c\\u4ea7\\u901a\\u8fc7\\u6570\", \"x\": [\"8\", \"9\"], \"y\": [0.0, 1.0], \"type\": \"scatter\", \"uid\": \"f252a858-c202-11e8-9e92-509a4c0f1ffc\"}, {\"name\": \"\\u5218\\u6c5f_\\u4e00\\u6b21\\u8f6c\\u4ea7\\u901a\\u8fc7\\u6570\", \"x\": [\"8\", \"9\"], \"y\": [0.0, 1.0], \"type\": \"scatter\", \"uid\": \"f252a859-c202-11e8-bf56-509a4c0f1ffc\"}, {\"name\": \"\\u5218\\u6c5f_\\u901a\\u8fc7\\u7387\", \"x\": [\"8\", \"9\"], \"y\": [null, 1.0], \"type\": \"scatter\", \"uid\": \"f252a85a-c202-11e8-a40d-509a4c0f1ffc\"}, {\"name\": \"\\u59da\\u76df\\u6210_\\u8f6c\\u4ea7\\u901a\\u8fc7\\u6570\", \"x\": [\"8\"], \"y\": [null], \"type\": \"scatter\", \"uid\": \"f252a85b-c202-11e8-b894-509a4c0f1ffc\"}, {\"name\": \"\\u59da\\u76df\\u6210_\\u4e00\\u6b21\\u8f6c\\u4ea7\\u901a\\u8fc7\\u6570\", \"x\": [\"8\"], \"y\": [null], \"type\": \"scatter\", \"uid\": \"f252a85c-c202-11e8-a0d5-509a4c0f1ffc\"}, {\"name\": \"\\u59da\\u76df\\u6210_\\u901a\\u8fc7\\u7387\", \"x\": [\"8\"], \"y\": [null], \"type\": \"scatter\", \"uid\": \"f252a85d-c202-11e8-bd89-509a4c0f1ffc\"}, {\"name\": \"\\u5b5f\\u660a_\\u8f6c\\u4ea7\\u901a\\u8fc7\\u6570\", \"x\": [\"8\", \"9\"], \"y\": [null, null], \"type\": \"scatter\", \"uid\": \"f252a85e-c202-11e8-bfc0-509a4c0f1ffc\"}, {\"name\": \"\\u5b5f\\u660a_\\u4e00\\u6b21\\u8f6c\\u4ea7\\u901a\\u8fc7\\u6570\", \"x\": [\"8\", \"9\"], \"y\": [null, null], \"type\": \"scatter\", \"uid\": \"f252a85f-c202-11e8-8ec3-509a4c0f1ffc\"}, {\"name\": \"\\u5b5f\\u660a_\\u901a\\u8fc7\\u7387\", \"x\": [\"8\", \"9\"], \"y\": [null, null], \"type\": \"scatter\", \"uid\": \"f252a860-c202-11e8-bab4-509a4c0f1ffc\"}, {\"name\": \"\\u5c01\\u5f66\\u6770_\\u8f6c\\u4ea7\\u901a\\u8fc7\\u6570\", \"x\": [\"8\", \"9\"], \"y\": [0.0, null], \"type\": \"scatter\", \"uid\": \"f252a861-c202-11e8-991e-509a4c0f1ffc\"}, {\"name\": \"\\u5c01\\u5f66\\u6770_\\u4e00\\u6b21\\u8f6c\\u4ea7\\u901a\\u8fc7\\u6570\", \"x\": [\"8\", \"9\"], \"y\": [0.0, null], \"type\": \"scatter\", \"uid\": \"f252a862-c202-11e8-aac7-509a4c0f1ffc\"}, {\"name\": \"\\u5c01\\u5f66\\u6770_\\u901a\\u8fc7\\u7387\", \"x\": [\"8\", \"9\"], \"y\": [null, null], \"type\": \"scatter\", \"uid\": \"f252a863-c202-11e8-aeb3-509a4c0f1ffc\"}, {\"name\": \"\\u674e\\u534e\\u4e91_\\u8f6c\\u4ea7\\u901a\\u8fc7\\u6570\", \"x\": [\"8\", \"9\"], \"y\": [null, null], \"type\": \"scatter\", \"uid\": \"f252a864-c202-11e8-81ef-509a4c0f1ffc\"}, {\"name\": \"\\u674e\\u534e\\u4e91_\\u4e00\\u6b21\\u8f6c\\u4ea7\\u901a\\u8fc7\\u6570\", \"x\": [\"8\", \"9\"], \"y\": [null, null], \"type\": \"scatter\", \"uid\": \"f252a865-c202-11e8-891a-509a4c0f1ffc\"}, {\"name\": \"\\u674e\\u534e\\u4e91_\\u901a\\u8fc7\\u7387\", \"x\": [\"8\", \"9\"], \"y\": [null, null], \"type\": \"scatter\", \"uid\": \"f252a866-c202-11e8-8803-509a4c0f1ffc\"}, {\"name\": \"\\u82cf\\u5f66\\u52cb_\\u8f6c\\u4ea7\\u901a\\u8fc7\\u6570\", \"x\": [\"8\"], \"y\": [null], \"type\": \"scatter\", \"uid\": \"f252a867-c202-11e8-8451-509a4c0f1ffc\"}, {\"name\": \"\\u82cf\\u5f66\\u52cb_\\u4e00\\u6b21\\u8f6c\\u4ea7\\u901a\\u8fc7\\u6570\", \"x\": [\"8\"], \"y\": [null], \"type\": \"scatter\", \"uid\": \"f252a868-c202-11e8-a407-509a4c0f1ffc\"}, {\"name\": \"\\u82cf\\u5f66\\u52cb_\\u901a\\u8fc7\\u7387\", \"x\": [\"8\"], \"y\": [null], \"type\": \"scatter\", \"uid\": \"f252a869-c202-11e8-8602-509a4c0f1ffc\"}, {\"name\": \"\\u8303\\u65ed\\u5b81_\\u8f6c\\u4ea7\\u901a\\u8fc7\\u6570\", \"x\": [\"8\"], \"y\": [null], \"type\": \"scatter\", \"uid\": \"f252a86a-c202-11e8-ac13-509a4c0f1ffc\"}, {\"name\": \"\\u8303\\u65ed\\u5b81_\\u4e00\\u6b21\\u8f6c\\u4ea7\\u901a\\u8fc7\\u6570\", \"x\": [\"8\"], \"y\": [null], \"type\": \"scatter\", \"uid\": \"f252a86b-c202-11e8-a009-509a4c0f1ffc\"}, {\"name\": \"\\u8303\\u65ed\\u5b81_\\u901a\\u8fc7\\u7387\", \"x\": [\"8\"], \"y\": [null], \"type\": \"scatter\", \"uid\": \"f252a86c-c202-11e8-bc76-509a4c0f1ffc\"}, {\"name\": \"\\u97e9\\u5c11\\u6000_\\u8f6c\\u4ea7\\u901a\\u8fc7\\u6570\", \"x\": [\"8\"], \"y\": [null], \"type\": \"scatter\", \"uid\": \"f252a86d-c202-11e8-9c35-509a4c0f1ffc\"}, {\"name\": \"\\u97e9\\u5c11\\u6000_\\u4e00\\u6b21\\u8f6c\\u4ea7\\u901a\\u8fc7\\u6570\", \"x\": [\"8\"], \"y\": [null], \"type\": \"scatter\", \"uid\": \"f252a86e-c202-11e8-9ea4-509a4c0f1ffc\"}, {\"name\": \"\\u97e9\\u5c11\\u6000_\\u901a\\u8fc7\\u7387\", \"x\": [\"8\"], \"y\": [null], \"type\": \"scatter\", \"uid\": \"f252a86f-c202-11e8-8aea-509a4c0f1ffc\"}],\n",
       "            {\"title\": \"\\u8f6c\\u4ea7\\u901a\\u8fc7\\u6570&\\u4e00\\u6b21\\u8f6c\\u4ea7\\u901a\\u8fc7\\u6570&\\u901a\\u8fc7\\u7387\\u6708\\u8d8b\\u52bf\\u56fe\", \"xaxis\": {\"mirror\": \"all\", \"nticks\": 20, \"showgrid\": true, \"showline\": true, \"title\": \"\\u6708\", \"zeroline\": true}, \"yaxis\": {\"mirror\": \"all\", \"nticks\": 20, \"showgrid\": true, \"showline\": true, \"title\": \"\\u8f6c\\u4ea7\\u901a\\u8fc7\\u6570&\\u4e00\\u6b21\\u8f6c\\u4ea7\\u901a\\u8fc7\\u6570&\\u901a\\u8fc7\\u7387\", \"zeroline\": true}},\n",
       "            {\"showLink\": true, \"linkText\": \"Export to plot.ly\"}\n",
       "        ).then(function () {return Plotly.addFrames('afa6f966-db34-41e2-af1a-d73eed7b3e1a',{});}).then(function(){Plotly.animate('afa6f966-db34-41e2-af1a-d73eed7b3e1a');})\n",
       "        });</script>"
      ],
      "text/vnd.plotly.v1+html": [
       "<div id=\"afa6f966-db34-41e2-af1a-d73eed7b3e1a\" style=\"height: 525px; width: 100%;\" class=\"plotly-graph-div\"></div><script type=\"text/javascript\">require([\"plotly\"], function(Plotly) { window.PLOTLYENV=window.PLOTLYENV || {};window.PLOTLYENV.BASE_URL=\"https://plot.ly\";\n",
       "        Plotly.plot(\n",
       "            'afa6f966-db34-41e2-af1a-d73eed7b3e1a',\n",
       "            [{\"name\": \"\\u4efb\\u96ea_\\u8f6c\\u4ea7\\u901a\\u8fc7\\u6570\", \"x\": [\"8\", \"9\"], \"y\": [0.0, 0.0], \"type\": \"scatter\", \"uid\": \"f252a852-c202-11e8-98b8-509a4c0f1ffc\"}, {\"name\": \"\\u4efb\\u96ea_\\u4e00\\u6b21\\u8f6c\\u4ea7\\u901a\\u8fc7\\u6570\", \"x\": [\"8\", \"9\"], \"y\": [0.0, 0.0], \"type\": \"scatter\", \"uid\": \"f252a853-c202-11e8-994d-509a4c0f1ffc\"}, {\"name\": \"\\u4efb\\u96ea_\\u901a\\u8fc7\\u7387\", \"x\": [\"8\", \"9\"], \"y\": [null, null], \"type\": \"scatter\", \"uid\": \"f252a854-c202-11e8-abdd-509a4c0f1ffc\"}, {\"name\": \"\\u5218\\u6167\\u73b2_\\u8f6c\\u4ea7\\u901a\\u8fc7\\u6570\", \"x\": [\"8\"], \"y\": [null], \"type\": \"scatter\", \"uid\": \"f252a855-c202-11e8-859f-509a4c0f1ffc\"}, {\"name\": \"\\u5218\\u6167\\u73b2_\\u4e00\\u6b21\\u8f6c\\u4ea7\\u901a\\u8fc7\\u6570\", \"x\": [\"8\"], \"y\": [null], \"type\": \"scatter\", \"uid\": \"f252a856-c202-11e8-b39d-509a4c0f1ffc\"}, {\"name\": \"\\u5218\\u6167\\u73b2_\\u901a\\u8fc7\\u7387\", \"x\": [\"8\"], \"y\": [null], \"type\": \"scatter\", \"uid\": \"f252a857-c202-11e8-bdc9-509a4c0f1ffc\"}, {\"name\": \"\\u5218\\u6c5f_\\u8f6c\\u4ea7\\u901a\\u8fc7\\u6570\", \"x\": [\"8\", \"9\"], \"y\": [0.0, 1.0], \"type\": \"scatter\", \"uid\": \"f252a858-c202-11e8-9e92-509a4c0f1ffc\"}, {\"name\": \"\\u5218\\u6c5f_\\u4e00\\u6b21\\u8f6c\\u4ea7\\u901a\\u8fc7\\u6570\", \"x\": [\"8\", \"9\"], \"y\": [0.0, 1.0], \"type\": \"scatter\", \"uid\": \"f252a859-c202-11e8-bf56-509a4c0f1ffc\"}, {\"name\": \"\\u5218\\u6c5f_\\u901a\\u8fc7\\u7387\", \"x\": [\"8\", \"9\"], \"y\": [null, 1.0], \"type\": \"scatter\", \"uid\": \"f252a85a-c202-11e8-a40d-509a4c0f1ffc\"}, {\"name\": \"\\u59da\\u76df\\u6210_\\u8f6c\\u4ea7\\u901a\\u8fc7\\u6570\", \"x\": [\"8\"], \"y\": [null], \"type\": \"scatter\", \"uid\": \"f252a85b-c202-11e8-b894-509a4c0f1ffc\"}, {\"name\": \"\\u59da\\u76df\\u6210_\\u4e00\\u6b21\\u8f6c\\u4ea7\\u901a\\u8fc7\\u6570\", \"x\": [\"8\"], \"y\": [null], \"type\": \"scatter\", \"uid\": \"f252a85c-c202-11e8-a0d5-509a4c0f1ffc\"}, {\"name\": \"\\u59da\\u76df\\u6210_\\u901a\\u8fc7\\u7387\", \"x\": [\"8\"], \"y\": [null], \"type\": \"scatter\", \"uid\": \"f252a85d-c202-11e8-bd89-509a4c0f1ffc\"}, {\"name\": \"\\u5b5f\\u660a_\\u8f6c\\u4ea7\\u901a\\u8fc7\\u6570\", \"x\": [\"8\", \"9\"], \"y\": [null, null], \"type\": \"scatter\", \"uid\": \"f252a85e-c202-11e8-bfc0-509a4c0f1ffc\"}, {\"name\": \"\\u5b5f\\u660a_\\u4e00\\u6b21\\u8f6c\\u4ea7\\u901a\\u8fc7\\u6570\", \"x\": [\"8\", \"9\"], \"y\": [null, null], \"type\": \"scatter\", \"uid\": \"f252a85f-c202-11e8-8ec3-509a4c0f1ffc\"}, {\"name\": \"\\u5b5f\\u660a_\\u901a\\u8fc7\\u7387\", \"x\": [\"8\", \"9\"], \"y\": [null, null], \"type\": \"scatter\", \"uid\": \"f252a860-c202-11e8-bab4-509a4c0f1ffc\"}, {\"name\": \"\\u5c01\\u5f66\\u6770_\\u8f6c\\u4ea7\\u901a\\u8fc7\\u6570\", \"x\": [\"8\", \"9\"], \"y\": [0.0, null], \"type\": \"scatter\", \"uid\": \"f252a861-c202-11e8-991e-509a4c0f1ffc\"}, {\"name\": \"\\u5c01\\u5f66\\u6770_\\u4e00\\u6b21\\u8f6c\\u4ea7\\u901a\\u8fc7\\u6570\", \"x\": [\"8\", \"9\"], \"y\": [0.0, null], \"type\": \"scatter\", \"uid\": \"f252a862-c202-11e8-aac7-509a4c0f1ffc\"}, {\"name\": \"\\u5c01\\u5f66\\u6770_\\u901a\\u8fc7\\u7387\", \"x\": [\"8\", \"9\"], \"y\": [null, null], \"type\": \"scatter\", \"uid\": \"f252a863-c202-11e8-aeb3-509a4c0f1ffc\"}, {\"name\": \"\\u674e\\u534e\\u4e91_\\u8f6c\\u4ea7\\u901a\\u8fc7\\u6570\", \"x\": [\"8\", \"9\"], \"y\": [null, null], \"type\": \"scatter\", \"uid\": \"f252a864-c202-11e8-81ef-509a4c0f1ffc\"}, {\"name\": \"\\u674e\\u534e\\u4e91_\\u4e00\\u6b21\\u8f6c\\u4ea7\\u901a\\u8fc7\\u6570\", \"x\": [\"8\", \"9\"], \"y\": [null, null], \"type\": \"scatter\", \"uid\": \"f252a865-c202-11e8-891a-509a4c0f1ffc\"}, {\"name\": \"\\u674e\\u534e\\u4e91_\\u901a\\u8fc7\\u7387\", \"x\": [\"8\", \"9\"], \"y\": [null, null], \"type\": \"scatter\", \"uid\": \"f252a866-c202-11e8-8803-509a4c0f1ffc\"}, {\"name\": \"\\u82cf\\u5f66\\u52cb_\\u8f6c\\u4ea7\\u901a\\u8fc7\\u6570\", \"x\": [\"8\"], \"y\": [null], \"type\": \"scatter\", \"uid\": \"f252a867-c202-11e8-8451-509a4c0f1ffc\"}, {\"name\": \"\\u82cf\\u5f66\\u52cb_\\u4e00\\u6b21\\u8f6c\\u4ea7\\u901a\\u8fc7\\u6570\", \"x\": [\"8\"], \"y\": [null], \"type\": \"scatter\", \"uid\": \"f252a868-c202-11e8-a407-509a4c0f1ffc\"}, {\"name\": \"\\u82cf\\u5f66\\u52cb_\\u901a\\u8fc7\\u7387\", \"x\": [\"8\"], \"y\": [null], \"type\": \"scatter\", \"uid\": \"f252a869-c202-11e8-8602-509a4c0f1ffc\"}, {\"name\": \"\\u8303\\u65ed\\u5b81_\\u8f6c\\u4ea7\\u901a\\u8fc7\\u6570\", \"x\": [\"8\"], \"y\": [null], \"type\": \"scatter\", \"uid\": \"f252a86a-c202-11e8-ac13-509a4c0f1ffc\"}, {\"name\": \"\\u8303\\u65ed\\u5b81_\\u4e00\\u6b21\\u8f6c\\u4ea7\\u901a\\u8fc7\\u6570\", \"x\": [\"8\"], \"y\": [null], \"type\": \"scatter\", \"uid\": \"f252a86b-c202-11e8-a009-509a4c0f1ffc\"}, {\"name\": \"\\u8303\\u65ed\\u5b81_\\u901a\\u8fc7\\u7387\", \"x\": [\"8\"], \"y\": [null], \"type\": \"scatter\", \"uid\": \"f252a86c-c202-11e8-bc76-509a4c0f1ffc\"}, {\"name\": \"\\u97e9\\u5c11\\u6000_\\u8f6c\\u4ea7\\u901a\\u8fc7\\u6570\", \"x\": [\"8\"], \"y\": [null], \"type\": \"scatter\", \"uid\": \"f252a86d-c202-11e8-9c35-509a4c0f1ffc\"}, {\"name\": \"\\u97e9\\u5c11\\u6000_\\u4e00\\u6b21\\u8f6c\\u4ea7\\u901a\\u8fc7\\u6570\", \"x\": [\"8\"], \"y\": [null], \"type\": \"scatter\", \"uid\": \"f252a86e-c202-11e8-9ea4-509a4c0f1ffc\"}, {\"name\": \"\\u97e9\\u5c11\\u6000_\\u901a\\u8fc7\\u7387\", \"x\": [\"8\"], \"y\": [null], \"type\": \"scatter\", \"uid\": \"f252a86f-c202-11e8-8aea-509a4c0f1ffc\"}],\n",
       "            {\"title\": \"\\u8f6c\\u4ea7\\u901a\\u8fc7\\u6570&\\u4e00\\u6b21\\u8f6c\\u4ea7\\u901a\\u8fc7\\u6570&\\u901a\\u8fc7\\u7387\\u6708\\u8d8b\\u52bf\\u56fe\", \"xaxis\": {\"mirror\": \"all\", \"nticks\": 20, \"showgrid\": true, \"showline\": true, \"title\": \"\\u6708\", \"zeroline\": true}, \"yaxis\": {\"mirror\": \"all\", \"nticks\": 20, \"showgrid\": true, \"showline\": true, \"title\": \"\\u8f6c\\u4ea7\\u901a\\u8fc7\\u6570&\\u4e00\\u6b21\\u8f6c\\u4ea7\\u901a\\u8fc7\\u6570&\\u901a\\u8fc7\\u7387\", \"zeroline\": true}},\n",
       "            {\"showLink\": true, \"linkText\": \"Export to plot.ly\"}\n",
       "        ).then(function () {return Plotly.addFrames('afa6f966-db34-41e2-af1a-d73eed7b3e1a',{});}).then(function(){Plotly.animate('afa6f966-db34-41e2-af1a-d73eed7b3e1a');})\n",
       "        });</script>"
      ]
     },
     "metadata": {},
     "output_type": "display_data"
    }
   ],
   "source": [
    "data_dict = {'转产通过数': ['转产通过数'], '一次转产通过数': ['一次转产通过数'], '通过率': ['一次转产通过数','转产通过数']}\n",
    "myModule.plot( all_dict_1, data_dict, '负责人' ,  'line', all='' )"
   ]
  },
  {
   "cell_type": "markdown",
   "metadata": {},
   "source": [
    "### bug情况"
   ]
  },
  {
   "cell_type": "markdown",
   "metadata": {},
   "source": [
    "#### 应完成BUG数和完成BUG修复数"
   ]
  },
  {
   "cell_type": "code",
   "execution_count": 69,
   "metadata": {},
   "outputs": [
    {
     "data": {
      "application/vnd.plotly.v1+json": {
       "data": [
        {
         "name": "刘江_应完成BUG数",
         "type": "scatter",
         "uid": "f2c1bdd2-c202-11e8-aa7b-509a4c0f1ffc",
         "x": [
          "8-3",
          "8-4",
          "9-1",
          "9-2",
          "9-3"
         ],
         "y": [
          0,
          0,
          0,
          0,
          0
         ]
        },
        {
         "name": "刘江_完成BUG修复数",
         "type": "scatter",
         "uid": "f2c1bdd3-c202-11e8-a165-509a4c0f1ffc",
         "x": [
          "8-3",
          "8-4",
          "9-1",
          "9-2",
          "9-3"
         ],
         "y": [
          0,
          0,
          0,
          0,
          0
         ]
        },
        {
         "name": "任雪_应完成BUG数",
         "type": "scatter",
         "uid": "f2c1bdd4-c202-11e8-8a53-509a4c0f1ffc",
         "x": [
          "8-3",
          "8-4",
          "9-1",
          "9-2",
          "9-3"
         ],
         "y": [
          0,
          0,
          0,
          1,
          1
         ]
        },
        {
         "name": "任雪_完成BUG修复数",
         "type": "scatter",
         "uid": "f2c1bdd5-c202-11e8-a9f7-509a4c0f1ffc",
         "x": [
          "8-3",
          "8-4",
          "9-1",
          "9-2",
          "9-3"
         ],
         "y": [
          0,
          1,
          0,
          1,
          1
         ]
        },
        {
         "name": "苏彦勋_应完成BUG数",
         "type": "scatter",
         "uid": "f2c1bdd6-c202-11e8-9096-509a4c0f1ffc",
         "x": [
          "8-3"
         ],
         "y": [
          1
         ]
        },
        {
         "name": "苏彦勋_完成BUG修复数",
         "type": "scatter",
         "uid": "f2c1bdd7-c202-11e8-a564-509a4c0f1ffc",
         "x": [
          "8-3"
         ],
         "y": [
          0
         ]
        },
        {
         "name": "封彦杰_应完成BUG数",
         "type": "scatter",
         "uid": "f2c1bdd8-c202-11e8-a3f3-509a4c0f1ffc",
         "x": [
          "8-3",
          "8-4",
          "9-2",
          "9-3"
         ],
         "y": [
          0,
          2,
          2,
          3
         ]
        },
        {
         "name": "封彦杰_完成BUG修复数",
         "type": "scatter",
         "uid": "f2c1bdd9-c202-11e8-80a0-509a4c0f1ffc",
         "x": [
          "8-3",
          "8-4",
          "9-2",
          "9-3"
         ],
         "y": [
          1,
          1,
          0,
          3
         ]
        },
        {
         "name": "孟昊_应完成BUG数",
         "type": "scatter",
         "uid": "f2c1bdda-c202-11e8-a79d-509a4c0f1ffc",
         "x": [
          "8-3",
          "9-1"
         ],
         "y": [
          0,
          0
         ]
        },
        {
         "name": "孟昊_完成BUG修复数",
         "type": "scatter",
         "uid": "f2c1bddb-c202-11e8-a71c-509a4c0f1ffc",
         "x": [
          "8-3",
          "9-1"
         ],
         "y": [
          0,
          0
         ]
        },
        {
         "name": "韩少怀_应完成BUG数",
         "type": "scatter",
         "uid": "f2c1bddc-c202-11e8-9b35-509a4c0f1ffc",
         "x": [
          "8-4"
         ],
         "y": [
          0
         ]
        },
        {
         "name": "韩少怀_完成BUG修复数",
         "type": "scatter",
         "uid": "f2c1bddd-c202-11e8-80bc-509a4c0f1ffc",
         "x": [
          "8-4"
         ],
         "y": [
          2
         ]
        },
        {
         "name": "李华云_应完成BUG数",
         "type": "scatter",
         "uid": "f2c1bdde-c202-11e8-8be8-509a4c0f1ffc",
         "x": [
          "8-4",
          "9-3"
         ],
         "y": [
          0,
          0
         ]
        },
        {
         "name": "李华云_完成BUG修复数",
         "type": "scatter",
         "uid": "f2c1bddf-c202-11e8-a557-509a4c0f1ffc",
         "x": [
          "8-4",
          "9-3"
         ],
         "y": [
          0,
          0
         ]
        },
        {
         "name": "刘慧玲_应完成BUG数",
         "type": "scatter",
         "uid": "f2c1bde0-c202-11e8-89de-509a4c0f1ffc",
         "x": [
          "8-4"
         ],
         "y": [
          0
         ]
        },
        {
         "name": "刘慧玲_完成BUG修复数",
         "type": "scatter",
         "uid": "f2c1bde1-c202-11e8-a99e-509a4c0f1ffc",
         "x": [
          "8-4"
         ],
         "y": [
          0
         ]
        },
        {
         "name": "姚盟成_应完成BUG数",
         "type": "scatter",
         "uid": "f2c1bde2-c202-11e8-a366-509a4c0f1ffc",
         "x": [
          "8-4"
         ],
         "y": [
          0
         ]
        },
        {
         "name": "姚盟成_完成BUG修复数",
         "type": "scatter",
         "uid": "f2c1bde3-c202-11e8-a9ed-509a4c0f1ffc",
         "x": [
          "8-4"
         ],
         "y": [
          0
         ]
        },
        {
         "name": "范旭宁_应完成BUG数",
         "type": "scatter",
         "uid": "f2c1bde4-c202-11e8-810d-509a4c0f1ffc",
         "x": [
          "8-4"
         ],
         "y": [
          1
         ]
        },
        {
         "name": "范旭宁_完成BUG修复数",
         "type": "scatter",
         "uid": "f2c1bde5-c202-11e8-9344-509a4c0f1ffc",
         "x": [
          "8-4"
         ],
         "y": [
          0
         ]
        }
       ],
       "layout": {
        "title": "应完成BUG数&完成BUG修复数周趋势图",
        "xaxis": {
         "mirror": "all",
         "nticks": 20,
         "showgrid": true,
         "showline": true,
         "title": "周",
         "zeroline": true
        },
        "yaxis": {
         "mirror": "all",
         "nticks": 20,
         "showgrid": true,
         "showline": true,
         "title": "应完成BUG数&完成BUG修复数",
         "zeroline": true
        }
       }
      },
      "text/html": [
       "<div id=\"ac208304-471c-4bd0-9c5e-d1bcb0aaec35\" style=\"height: 525px; width: 100%;\" class=\"plotly-graph-div\"></div><script type=\"text/javascript\">require([\"plotly\"], function(Plotly) { window.PLOTLYENV=window.PLOTLYENV || {};window.PLOTLYENV.BASE_URL=\"https://plot.ly\";\n",
       "        Plotly.plot(\n",
       "            'ac208304-471c-4bd0-9c5e-d1bcb0aaec35',\n",
       "            [{\"name\": \"\\u5218\\u6c5f_\\u5e94\\u5b8c\\u6210BUG\\u6570\", \"x\": [\"8-3\", \"8-4\", \"9-1\", \"9-2\", \"9-3\"], \"y\": [0.0, 0.0, 0.0, 0.0, 0.0], \"type\": \"scatter\", \"uid\": \"f2c1bdd2-c202-11e8-aa7b-509a4c0f1ffc\"}, {\"name\": \"\\u5218\\u6c5f_\\u5b8c\\u6210BUG\\u4fee\\u590d\\u6570\", \"x\": [\"8-3\", \"8-4\", \"9-1\", \"9-2\", \"9-3\"], \"y\": [0.0, 0.0, 0.0, 0.0, 0.0], \"type\": \"scatter\", \"uid\": \"f2c1bdd3-c202-11e8-a165-509a4c0f1ffc\"}, {\"name\": \"\\u4efb\\u96ea_\\u5e94\\u5b8c\\u6210BUG\\u6570\", \"x\": [\"8-3\", \"8-4\", \"9-1\", \"9-2\", \"9-3\"], \"y\": [0.0, 0.0, 0.0, 1.0, 1.0], \"type\": \"scatter\", \"uid\": \"f2c1bdd4-c202-11e8-8a53-509a4c0f1ffc\"}, {\"name\": \"\\u4efb\\u96ea_\\u5b8c\\u6210BUG\\u4fee\\u590d\\u6570\", \"x\": [\"8-3\", \"8-4\", \"9-1\", \"9-2\", \"9-3\"], \"y\": [0.0, 1.0, 0.0, 1.0, 1.0], \"type\": \"scatter\", \"uid\": \"f2c1bdd5-c202-11e8-a9f7-509a4c0f1ffc\"}, {\"name\": \"\\u82cf\\u5f66\\u52cb_\\u5e94\\u5b8c\\u6210BUG\\u6570\", \"x\": [\"8-3\"], \"y\": [1.0], \"type\": \"scatter\", \"uid\": \"f2c1bdd6-c202-11e8-9096-509a4c0f1ffc\"}, {\"name\": \"\\u82cf\\u5f66\\u52cb_\\u5b8c\\u6210BUG\\u4fee\\u590d\\u6570\", \"x\": [\"8-3\"], \"y\": [0.0], \"type\": \"scatter\", \"uid\": \"f2c1bdd7-c202-11e8-a564-509a4c0f1ffc\"}, {\"name\": \"\\u5c01\\u5f66\\u6770_\\u5e94\\u5b8c\\u6210BUG\\u6570\", \"x\": [\"8-3\", \"8-4\", \"9-2\", \"9-3\"], \"y\": [0.0, 2.0, 2.0, 3.0], \"type\": \"scatter\", \"uid\": \"f2c1bdd8-c202-11e8-a3f3-509a4c0f1ffc\"}, {\"name\": \"\\u5c01\\u5f66\\u6770_\\u5b8c\\u6210BUG\\u4fee\\u590d\\u6570\", \"x\": [\"8-3\", \"8-4\", \"9-2\", \"9-3\"], \"y\": [1.0, 1.0, 0.0, 3.0], \"type\": \"scatter\", \"uid\": \"f2c1bdd9-c202-11e8-80a0-509a4c0f1ffc\"}, {\"name\": \"\\u5b5f\\u660a_\\u5e94\\u5b8c\\u6210BUG\\u6570\", \"x\": [\"8-3\", \"9-1\"], \"y\": [0.0, 0.0], \"type\": \"scatter\", \"uid\": \"f2c1bdda-c202-11e8-a79d-509a4c0f1ffc\"}, {\"name\": \"\\u5b5f\\u660a_\\u5b8c\\u6210BUG\\u4fee\\u590d\\u6570\", \"x\": [\"8-3\", \"9-1\"], \"y\": [0.0, 0.0], \"type\": \"scatter\", \"uid\": \"f2c1bddb-c202-11e8-a71c-509a4c0f1ffc\"}, {\"name\": \"\\u97e9\\u5c11\\u6000_\\u5e94\\u5b8c\\u6210BUG\\u6570\", \"x\": [\"8-4\"], \"y\": [0.0], \"type\": \"scatter\", \"uid\": \"f2c1bddc-c202-11e8-9b35-509a4c0f1ffc\"}, {\"name\": \"\\u97e9\\u5c11\\u6000_\\u5b8c\\u6210BUG\\u4fee\\u590d\\u6570\", \"x\": [\"8-4\"], \"y\": [2.0], \"type\": \"scatter\", \"uid\": \"f2c1bddd-c202-11e8-80bc-509a4c0f1ffc\"}, {\"name\": \"\\u674e\\u534e\\u4e91_\\u5e94\\u5b8c\\u6210BUG\\u6570\", \"x\": [\"8-4\", \"9-3\"], \"y\": [0.0, 0.0], \"type\": \"scatter\", \"uid\": \"f2c1bdde-c202-11e8-8be8-509a4c0f1ffc\"}, {\"name\": \"\\u674e\\u534e\\u4e91_\\u5b8c\\u6210BUG\\u4fee\\u590d\\u6570\", \"x\": [\"8-4\", \"9-3\"], \"y\": [0.0, 0.0], \"type\": \"scatter\", \"uid\": \"f2c1bddf-c202-11e8-a557-509a4c0f1ffc\"}, {\"name\": \"\\u5218\\u6167\\u73b2_\\u5e94\\u5b8c\\u6210BUG\\u6570\", \"x\": [\"8-4\"], \"y\": [0.0], \"type\": \"scatter\", \"uid\": \"f2c1bde0-c202-11e8-89de-509a4c0f1ffc\"}, {\"name\": \"\\u5218\\u6167\\u73b2_\\u5b8c\\u6210BUG\\u4fee\\u590d\\u6570\", \"x\": [\"8-4\"], \"y\": [0.0], \"type\": \"scatter\", \"uid\": \"f2c1bde1-c202-11e8-a99e-509a4c0f1ffc\"}, {\"name\": \"\\u59da\\u76df\\u6210_\\u5e94\\u5b8c\\u6210BUG\\u6570\", \"x\": [\"8-4\"], \"y\": [0.0], \"type\": \"scatter\", \"uid\": \"f2c1bde2-c202-11e8-a366-509a4c0f1ffc\"}, {\"name\": \"\\u59da\\u76df\\u6210_\\u5b8c\\u6210BUG\\u4fee\\u590d\\u6570\", \"x\": [\"8-4\"], \"y\": [0.0], \"type\": \"scatter\", \"uid\": \"f2c1bde3-c202-11e8-a9ed-509a4c0f1ffc\"}, {\"name\": \"\\u8303\\u65ed\\u5b81_\\u5e94\\u5b8c\\u6210BUG\\u6570\", \"x\": [\"8-4\"], \"y\": [1.0], \"type\": \"scatter\", \"uid\": \"f2c1bde4-c202-11e8-810d-509a4c0f1ffc\"}, {\"name\": \"\\u8303\\u65ed\\u5b81_\\u5b8c\\u6210BUG\\u4fee\\u590d\\u6570\", \"x\": [\"8-4\"], \"y\": [0.0], \"type\": \"scatter\", \"uid\": \"f2c1bde5-c202-11e8-9344-509a4c0f1ffc\"}],\n",
       "            {\"title\": \"\\u5e94\\u5b8c\\u6210BUG\\u6570&\\u5b8c\\u6210BUG\\u4fee\\u590d\\u6570\\u5468\\u8d8b\\u52bf\\u56fe\", \"xaxis\": {\"mirror\": \"all\", \"nticks\": 20, \"showgrid\": true, \"showline\": true, \"title\": \"\\u5468\", \"zeroline\": true}, \"yaxis\": {\"mirror\": \"all\", \"nticks\": 20, \"showgrid\": true, \"showline\": true, \"title\": \"\\u5e94\\u5b8c\\u6210BUG\\u6570&\\u5b8c\\u6210BUG\\u4fee\\u590d\\u6570\", \"zeroline\": true}},\n",
       "            {\"showLink\": true, \"linkText\": \"Export to plot.ly\"}\n",
       "        ).then(function () {return Plotly.addFrames('ac208304-471c-4bd0-9c5e-d1bcb0aaec35',{});}).then(function(){Plotly.animate('ac208304-471c-4bd0-9c5e-d1bcb0aaec35');})\n",
       "        });</script>"
      ],
      "text/vnd.plotly.v1+html": [
       "<div id=\"ac208304-471c-4bd0-9c5e-d1bcb0aaec35\" style=\"height: 525px; width: 100%;\" class=\"plotly-graph-div\"></div><script type=\"text/javascript\">require([\"plotly\"], function(Plotly) { window.PLOTLYENV=window.PLOTLYENV || {};window.PLOTLYENV.BASE_URL=\"https://plot.ly\";\n",
       "        Plotly.plot(\n",
       "            'ac208304-471c-4bd0-9c5e-d1bcb0aaec35',\n",
       "            [{\"name\": \"\\u5218\\u6c5f_\\u5e94\\u5b8c\\u6210BUG\\u6570\", \"x\": [\"8-3\", \"8-4\", \"9-1\", \"9-2\", \"9-3\"], \"y\": [0.0, 0.0, 0.0, 0.0, 0.0], \"type\": \"scatter\", \"uid\": \"f2c1bdd2-c202-11e8-aa7b-509a4c0f1ffc\"}, {\"name\": \"\\u5218\\u6c5f_\\u5b8c\\u6210BUG\\u4fee\\u590d\\u6570\", \"x\": [\"8-3\", \"8-4\", \"9-1\", \"9-2\", \"9-3\"], \"y\": [0.0, 0.0, 0.0, 0.0, 0.0], \"type\": \"scatter\", \"uid\": \"f2c1bdd3-c202-11e8-a165-509a4c0f1ffc\"}, {\"name\": \"\\u4efb\\u96ea_\\u5e94\\u5b8c\\u6210BUG\\u6570\", \"x\": [\"8-3\", \"8-4\", \"9-1\", \"9-2\", \"9-3\"], \"y\": [0.0, 0.0, 0.0, 1.0, 1.0], \"type\": \"scatter\", \"uid\": \"f2c1bdd4-c202-11e8-8a53-509a4c0f1ffc\"}, {\"name\": \"\\u4efb\\u96ea_\\u5b8c\\u6210BUG\\u4fee\\u590d\\u6570\", \"x\": [\"8-3\", \"8-4\", \"9-1\", \"9-2\", \"9-3\"], \"y\": [0.0, 1.0, 0.0, 1.0, 1.0], \"type\": \"scatter\", \"uid\": \"f2c1bdd5-c202-11e8-a9f7-509a4c0f1ffc\"}, {\"name\": \"\\u82cf\\u5f66\\u52cb_\\u5e94\\u5b8c\\u6210BUG\\u6570\", \"x\": [\"8-3\"], \"y\": [1.0], \"type\": \"scatter\", \"uid\": \"f2c1bdd6-c202-11e8-9096-509a4c0f1ffc\"}, {\"name\": \"\\u82cf\\u5f66\\u52cb_\\u5b8c\\u6210BUG\\u4fee\\u590d\\u6570\", \"x\": [\"8-3\"], \"y\": [0.0], \"type\": \"scatter\", \"uid\": \"f2c1bdd7-c202-11e8-a564-509a4c0f1ffc\"}, {\"name\": \"\\u5c01\\u5f66\\u6770_\\u5e94\\u5b8c\\u6210BUG\\u6570\", \"x\": [\"8-3\", \"8-4\", \"9-2\", \"9-3\"], \"y\": [0.0, 2.0, 2.0, 3.0], \"type\": \"scatter\", \"uid\": \"f2c1bdd8-c202-11e8-a3f3-509a4c0f1ffc\"}, {\"name\": \"\\u5c01\\u5f66\\u6770_\\u5b8c\\u6210BUG\\u4fee\\u590d\\u6570\", \"x\": [\"8-3\", \"8-4\", \"9-2\", \"9-3\"], \"y\": [1.0, 1.0, 0.0, 3.0], \"type\": \"scatter\", \"uid\": \"f2c1bdd9-c202-11e8-80a0-509a4c0f1ffc\"}, {\"name\": \"\\u5b5f\\u660a_\\u5e94\\u5b8c\\u6210BUG\\u6570\", \"x\": [\"8-3\", \"9-1\"], \"y\": [0.0, 0.0], \"type\": \"scatter\", \"uid\": \"f2c1bdda-c202-11e8-a79d-509a4c0f1ffc\"}, {\"name\": \"\\u5b5f\\u660a_\\u5b8c\\u6210BUG\\u4fee\\u590d\\u6570\", \"x\": [\"8-3\", \"9-1\"], \"y\": [0.0, 0.0], \"type\": \"scatter\", \"uid\": \"f2c1bddb-c202-11e8-a71c-509a4c0f1ffc\"}, {\"name\": \"\\u97e9\\u5c11\\u6000_\\u5e94\\u5b8c\\u6210BUG\\u6570\", \"x\": [\"8-4\"], \"y\": [0.0], \"type\": \"scatter\", \"uid\": \"f2c1bddc-c202-11e8-9b35-509a4c0f1ffc\"}, {\"name\": \"\\u97e9\\u5c11\\u6000_\\u5b8c\\u6210BUG\\u4fee\\u590d\\u6570\", \"x\": [\"8-4\"], \"y\": [2.0], \"type\": \"scatter\", \"uid\": \"f2c1bddd-c202-11e8-80bc-509a4c0f1ffc\"}, {\"name\": \"\\u674e\\u534e\\u4e91_\\u5e94\\u5b8c\\u6210BUG\\u6570\", \"x\": [\"8-4\", \"9-3\"], \"y\": [0.0, 0.0], \"type\": \"scatter\", \"uid\": \"f2c1bdde-c202-11e8-8be8-509a4c0f1ffc\"}, {\"name\": \"\\u674e\\u534e\\u4e91_\\u5b8c\\u6210BUG\\u4fee\\u590d\\u6570\", \"x\": [\"8-4\", \"9-3\"], \"y\": [0.0, 0.0], \"type\": \"scatter\", \"uid\": \"f2c1bddf-c202-11e8-a557-509a4c0f1ffc\"}, {\"name\": \"\\u5218\\u6167\\u73b2_\\u5e94\\u5b8c\\u6210BUG\\u6570\", \"x\": [\"8-4\"], \"y\": [0.0], \"type\": \"scatter\", \"uid\": \"f2c1bde0-c202-11e8-89de-509a4c0f1ffc\"}, {\"name\": \"\\u5218\\u6167\\u73b2_\\u5b8c\\u6210BUG\\u4fee\\u590d\\u6570\", \"x\": [\"8-4\"], \"y\": [0.0], \"type\": \"scatter\", \"uid\": \"f2c1bde1-c202-11e8-a99e-509a4c0f1ffc\"}, {\"name\": \"\\u59da\\u76df\\u6210_\\u5e94\\u5b8c\\u6210BUG\\u6570\", \"x\": [\"8-4\"], \"y\": [0.0], \"type\": \"scatter\", \"uid\": \"f2c1bde2-c202-11e8-a366-509a4c0f1ffc\"}, {\"name\": \"\\u59da\\u76df\\u6210_\\u5b8c\\u6210BUG\\u4fee\\u590d\\u6570\", \"x\": [\"8-4\"], \"y\": [0.0], \"type\": \"scatter\", \"uid\": \"f2c1bde3-c202-11e8-a9ed-509a4c0f1ffc\"}, {\"name\": \"\\u8303\\u65ed\\u5b81_\\u5e94\\u5b8c\\u6210BUG\\u6570\", \"x\": [\"8-4\"], \"y\": [1.0], \"type\": \"scatter\", \"uid\": \"f2c1bde4-c202-11e8-810d-509a4c0f1ffc\"}, {\"name\": \"\\u8303\\u65ed\\u5b81_\\u5b8c\\u6210BUG\\u4fee\\u590d\\u6570\", \"x\": [\"8-4\"], \"y\": [0.0], \"type\": \"scatter\", \"uid\": \"f2c1bde5-c202-11e8-9344-509a4c0f1ffc\"}],\n",
       "            {\"title\": \"\\u5e94\\u5b8c\\u6210BUG\\u6570&\\u5b8c\\u6210BUG\\u4fee\\u590d\\u6570\\u5468\\u8d8b\\u52bf\\u56fe\", \"xaxis\": {\"mirror\": \"all\", \"nticks\": 20, \"showgrid\": true, \"showline\": true, \"title\": \"\\u5468\", \"zeroline\": true}, \"yaxis\": {\"mirror\": \"all\", \"nticks\": 20, \"showgrid\": true, \"showline\": true, \"title\": \"\\u5e94\\u5b8c\\u6210BUG\\u6570&\\u5b8c\\u6210BUG\\u4fee\\u590d\\u6570\", \"zeroline\": true}},\n",
       "            {\"showLink\": true, \"linkText\": \"Export to plot.ly\"}\n",
       "        ).then(function () {return Plotly.addFrames('ac208304-471c-4bd0-9c5e-d1bcb0aaec35',{});}).then(function(){Plotly.animate('ac208304-471c-4bd0-9c5e-d1bcb0aaec35');})\n",
       "        });</script>"
      ]
     },
     "metadata": {},
     "output_type": "display_data"
    },
    {
     "data": {
      "application/vnd.plotly.v1+json": {
       "data": [
        {
         "name": "任雪_应完成BUG数",
         "type": "scatter",
         "uid": "f2e2da62-c202-11e8-b6da-509a4c0f1ffc",
         "x": [
          "8",
          "9"
         ],
         "y": [
          0,
          2
         ]
        },
        {
         "name": "任雪_完成BUG修复数",
         "type": "scatter",
         "uid": "f2e2da63-c202-11e8-b582-509a4c0f1ffc",
         "x": [
          "8",
          "9"
         ],
         "y": [
          1,
          2
         ]
        },
        {
         "name": "刘慧玲_应完成BUG数",
         "type": "scatter",
         "uid": "f2e2da64-c202-11e8-8368-509a4c0f1ffc",
         "x": [
          "8"
         ],
         "y": [
          null
         ]
        },
        {
         "name": "刘慧玲_完成BUG修复数",
         "type": "scatter",
         "uid": "f2e2da65-c202-11e8-beb9-509a4c0f1ffc",
         "x": [
          "8"
         ],
         "y": [
          null
         ]
        },
        {
         "name": "刘江_应完成BUG数",
         "type": "scatter",
         "uid": "f2e2da66-c202-11e8-9f9e-509a4c0f1ffc",
         "x": [
          "8",
          "9"
         ],
         "y": [
          0,
          0
         ]
        },
        {
         "name": "刘江_完成BUG修复数",
         "type": "scatter",
         "uid": "f2e2da67-c202-11e8-ab4a-509a4c0f1ffc",
         "x": [
          "8",
          "9"
         ],
         "y": [
          0,
          0
         ]
        },
        {
         "name": "姚盟成_应完成BUG数",
         "type": "scatter",
         "uid": "f2e2da68-c202-11e8-847f-509a4c0f1ffc",
         "x": [
          "8"
         ],
         "y": [
          null
         ]
        },
        {
         "name": "姚盟成_完成BUG修复数",
         "type": "scatter",
         "uid": "f2e2da69-c202-11e8-b4eb-509a4c0f1ffc",
         "x": [
          "8"
         ],
         "y": [
          null
         ]
        },
        {
         "name": "孟昊_应完成BUG数",
         "type": "scatter",
         "uid": "f2e2da6a-c202-11e8-977b-509a4c0f1ffc",
         "x": [
          "8",
          "9"
         ],
         "y": [
          null,
          null
         ]
        },
        {
         "name": "孟昊_完成BUG修复数",
         "type": "scatter",
         "uid": "f2e2da6b-c202-11e8-9665-509a4c0f1ffc",
         "x": [
          "8",
          "9"
         ],
         "y": [
          null,
          null
         ]
        },
        {
         "name": "封彦杰_应完成BUG数",
         "type": "scatter",
         "uid": "f2e2da6c-c202-11e8-8ec1-509a4c0f1ffc",
         "x": [
          "8",
          "9"
         ],
         "y": [
          2,
          null
         ]
        },
        {
         "name": "封彦杰_完成BUG修复数",
         "type": "scatter",
         "uid": "f2e30174-c202-11e8-bf37-509a4c0f1ffc",
         "x": [
          "8",
          "9"
         ],
         "y": [
          2,
          null
         ]
        },
        {
         "name": "李华云_应完成BUG数",
         "type": "scatter",
         "uid": "f2e30175-c202-11e8-8672-509a4c0f1ffc",
         "x": [
          "8",
          "9"
         ],
         "y": [
          null,
          null
         ]
        },
        {
         "name": "李华云_完成BUG修复数",
         "type": "scatter",
         "uid": "f2e30176-c202-11e8-8e5d-509a4c0f1ffc",
         "x": [
          "8",
          "9"
         ],
         "y": [
          null,
          null
         ]
        },
        {
         "name": "苏彦勋_应完成BUG数",
         "type": "scatter",
         "uid": "f2e30177-c202-11e8-a5fe-509a4c0f1ffc",
         "x": [
          "8"
         ],
         "y": [
          null
         ]
        },
        {
         "name": "苏彦勋_完成BUG修复数",
         "type": "scatter",
         "uid": "f2e30178-c202-11e8-a3cb-509a4c0f1ffc",
         "x": [
          "8"
         ],
         "y": [
          null
         ]
        },
        {
         "name": "范旭宁_应完成BUG数",
         "type": "scatter",
         "uid": "f2e30179-c202-11e8-9855-509a4c0f1ffc",
         "x": [
          "8"
         ],
         "y": [
          null
         ]
        },
        {
         "name": "范旭宁_完成BUG修复数",
         "type": "scatter",
         "uid": "f2e3017a-c202-11e8-b026-509a4c0f1ffc",
         "x": [
          "8"
         ],
         "y": [
          null
         ]
        },
        {
         "name": "韩少怀_应完成BUG数",
         "type": "scatter",
         "uid": "f2e3017b-c202-11e8-8db0-509a4c0f1ffc",
         "x": [
          "8"
         ],
         "y": [
          null
         ]
        },
        {
         "name": "韩少怀_完成BUG修复数",
         "type": "scatter",
         "uid": "f2e3017c-c202-11e8-824d-509a4c0f1ffc",
         "x": [
          "8"
         ],
         "y": [
          null
         ]
        }
       ],
       "layout": {
        "title": "应完成BUG数&完成BUG修复数月趋势图",
        "xaxis": {
         "mirror": "all",
         "nticks": 20,
         "showgrid": true,
         "showline": true,
         "title": "月",
         "zeroline": true
        },
        "yaxis": {
         "mirror": "all",
         "nticks": 20,
         "showgrid": true,
         "showline": true,
         "title": "应完成BUG数&完成BUG修复数",
         "zeroline": true
        }
       }
      },
      "text/html": [
       "<div id=\"b8cc39a3-b587-4564-b053-4b9f5b6d93a4\" style=\"height: 525px; width: 100%;\" class=\"plotly-graph-div\"></div><script type=\"text/javascript\">require([\"plotly\"], function(Plotly) { window.PLOTLYENV=window.PLOTLYENV || {};window.PLOTLYENV.BASE_URL=\"https://plot.ly\";\n",
       "        Plotly.plot(\n",
       "            'b8cc39a3-b587-4564-b053-4b9f5b6d93a4',\n",
       "            [{\"name\": \"\\u4efb\\u96ea_\\u5e94\\u5b8c\\u6210BUG\\u6570\", \"x\": [\"8\", \"9\"], \"y\": [0.0, 2.0], \"type\": \"scatter\", \"uid\": \"f2e2da62-c202-11e8-b6da-509a4c0f1ffc\"}, {\"name\": \"\\u4efb\\u96ea_\\u5b8c\\u6210BUG\\u4fee\\u590d\\u6570\", \"x\": [\"8\", \"9\"], \"y\": [1.0, 2.0], \"type\": \"scatter\", \"uid\": \"f2e2da63-c202-11e8-b582-509a4c0f1ffc\"}, {\"name\": \"\\u5218\\u6167\\u73b2_\\u5e94\\u5b8c\\u6210BUG\\u6570\", \"x\": [\"8\"], \"y\": [null], \"type\": \"scatter\", \"uid\": \"f2e2da64-c202-11e8-8368-509a4c0f1ffc\"}, {\"name\": \"\\u5218\\u6167\\u73b2_\\u5b8c\\u6210BUG\\u4fee\\u590d\\u6570\", \"x\": [\"8\"], \"y\": [null], \"type\": \"scatter\", \"uid\": \"f2e2da65-c202-11e8-beb9-509a4c0f1ffc\"}, {\"name\": \"\\u5218\\u6c5f_\\u5e94\\u5b8c\\u6210BUG\\u6570\", \"x\": [\"8\", \"9\"], \"y\": [0.0, 0.0], \"type\": \"scatter\", \"uid\": \"f2e2da66-c202-11e8-9f9e-509a4c0f1ffc\"}, {\"name\": \"\\u5218\\u6c5f_\\u5b8c\\u6210BUG\\u4fee\\u590d\\u6570\", \"x\": [\"8\", \"9\"], \"y\": [0.0, 0.0], \"type\": \"scatter\", \"uid\": \"f2e2da67-c202-11e8-ab4a-509a4c0f1ffc\"}, {\"name\": \"\\u59da\\u76df\\u6210_\\u5e94\\u5b8c\\u6210BUG\\u6570\", \"x\": [\"8\"], \"y\": [null], \"type\": \"scatter\", \"uid\": \"f2e2da68-c202-11e8-847f-509a4c0f1ffc\"}, {\"name\": \"\\u59da\\u76df\\u6210_\\u5b8c\\u6210BUG\\u4fee\\u590d\\u6570\", \"x\": [\"8\"], \"y\": [null], \"type\": \"scatter\", \"uid\": \"f2e2da69-c202-11e8-b4eb-509a4c0f1ffc\"}, {\"name\": \"\\u5b5f\\u660a_\\u5e94\\u5b8c\\u6210BUG\\u6570\", \"x\": [\"8\", \"9\"], \"y\": [null, null], \"type\": \"scatter\", \"uid\": \"f2e2da6a-c202-11e8-977b-509a4c0f1ffc\"}, {\"name\": \"\\u5b5f\\u660a_\\u5b8c\\u6210BUG\\u4fee\\u590d\\u6570\", \"x\": [\"8\", \"9\"], \"y\": [null, null], \"type\": \"scatter\", \"uid\": \"f2e2da6b-c202-11e8-9665-509a4c0f1ffc\"}, {\"name\": \"\\u5c01\\u5f66\\u6770_\\u5e94\\u5b8c\\u6210BUG\\u6570\", \"x\": [\"8\", \"9\"], \"y\": [2.0, null], \"type\": \"scatter\", \"uid\": \"f2e2da6c-c202-11e8-8ec1-509a4c0f1ffc\"}, {\"name\": \"\\u5c01\\u5f66\\u6770_\\u5b8c\\u6210BUG\\u4fee\\u590d\\u6570\", \"x\": [\"8\", \"9\"], \"y\": [2.0, null], \"type\": \"scatter\", \"uid\": \"f2e30174-c202-11e8-bf37-509a4c0f1ffc\"}, {\"name\": \"\\u674e\\u534e\\u4e91_\\u5e94\\u5b8c\\u6210BUG\\u6570\", \"x\": [\"8\", \"9\"], \"y\": [null, null], \"type\": \"scatter\", \"uid\": \"f2e30175-c202-11e8-8672-509a4c0f1ffc\"}, {\"name\": \"\\u674e\\u534e\\u4e91_\\u5b8c\\u6210BUG\\u4fee\\u590d\\u6570\", \"x\": [\"8\", \"9\"], \"y\": [null, null], \"type\": \"scatter\", \"uid\": \"f2e30176-c202-11e8-8e5d-509a4c0f1ffc\"}, {\"name\": \"\\u82cf\\u5f66\\u52cb_\\u5e94\\u5b8c\\u6210BUG\\u6570\", \"x\": [\"8\"], \"y\": [null], \"type\": \"scatter\", \"uid\": \"f2e30177-c202-11e8-a5fe-509a4c0f1ffc\"}, {\"name\": \"\\u82cf\\u5f66\\u52cb_\\u5b8c\\u6210BUG\\u4fee\\u590d\\u6570\", \"x\": [\"8\"], \"y\": [null], \"type\": \"scatter\", \"uid\": \"f2e30178-c202-11e8-a3cb-509a4c0f1ffc\"}, {\"name\": \"\\u8303\\u65ed\\u5b81_\\u5e94\\u5b8c\\u6210BUG\\u6570\", \"x\": [\"8\"], \"y\": [null], \"type\": \"scatter\", \"uid\": \"f2e30179-c202-11e8-9855-509a4c0f1ffc\"}, {\"name\": \"\\u8303\\u65ed\\u5b81_\\u5b8c\\u6210BUG\\u4fee\\u590d\\u6570\", \"x\": [\"8\"], \"y\": [null], \"type\": \"scatter\", \"uid\": \"f2e3017a-c202-11e8-b026-509a4c0f1ffc\"}, {\"name\": \"\\u97e9\\u5c11\\u6000_\\u5e94\\u5b8c\\u6210BUG\\u6570\", \"x\": [\"8\"], \"y\": [null], \"type\": \"scatter\", \"uid\": \"f2e3017b-c202-11e8-8db0-509a4c0f1ffc\"}, {\"name\": \"\\u97e9\\u5c11\\u6000_\\u5b8c\\u6210BUG\\u4fee\\u590d\\u6570\", \"x\": [\"8\"], \"y\": [null], \"type\": \"scatter\", \"uid\": \"f2e3017c-c202-11e8-824d-509a4c0f1ffc\"}],\n",
       "            {\"title\": \"\\u5e94\\u5b8c\\u6210BUG\\u6570&\\u5b8c\\u6210BUG\\u4fee\\u590d\\u6570\\u6708\\u8d8b\\u52bf\\u56fe\", \"xaxis\": {\"mirror\": \"all\", \"nticks\": 20, \"showgrid\": true, \"showline\": true, \"title\": \"\\u6708\", \"zeroline\": true}, \"yaxis\": {\"mirror\": \"all\", \"nticks\": 20, \"showgrid\": true, \"showline\": true, \"title\": \"\\u5e94\\u5b8c\\u6210BUG\\u6570&\\u5b8c\\u6210BUG\\u4fee\\u590d\\u6570\", \"zeroline\": true}},\n",
       "            {\"showLink\": true, \"linkText\": \"Export to plot.ly\"}\n",
       "        ).then(function () {return Plotly.addFrames('b8cc39a3-b587-4564-b053-4b9f5b6d93a4',{});}).then(function(){Plotly.animate('b8cc39a3-b587-4564-b053-4b9f5b6d93a4');})\n",
       "        });</script>"
      ],
      "text/vnd.plotly.v1+html": [
       "<div id=\"b8cc39a3-b587-4564-b053-4b9f5b6d93a4\" style=\"height: 525px; width: 100%;\" class=\"plotly-graph-div\"></div><script type=\"text/javascript\">require([\"plotly\"], function(Plotly) { window.PLOTLYENV=window.PLOTLYENV || {};window.PLOTLYENV.BASE_URL=\"https://plot.ly\";\n",
       "        Plotly.plot(\n",
       "            'b8cc39a3-b587-4564-b053-4b9f5b6d93a4',\n",
       "            [{\"name\": \"\\u4efb\\u96ea_\\u5e94\\u5b8c\\u6210BUG\\u6570\", \"x\": [\"8\", \"9\"], \"y\": [0.0, 2.0], \"type\": \"scatter\", \"uid\": \"f2e2da62-c202-11e8-b6da-509a4c0f1ffc\"}, {\"name\": \"\\u4efb\\u96ea_\\u5b8c\\u6210BUG\\u4fee\\u590d\\u6570\", \"x\": [\"8\", \"9\"], \"y\": [1.0, 2.0], \"type\": \"scatter\", \"uid\": \"f2e2da63-c202-11e8-b582-509a4c0f1ffc\"}, {\"name\": \"\\u5218\\u6167\\u73b2_\\u5e94\\u5b8c\\u6210BUG\\u6570\", \"x\": [\"8\"], \"y\": [null], \"type\": \"scatter\", \"uid\": \"f2e2da64-c202-11e8-8368-509a4c0f1ffc\"}, {\"name\": \"\\u5218\\u6167\\u73b2_\\u5b8c\\u6210BUG\\u4fee\\u590d\\u6570\", \"x\": [\"8\"], \"y\": [null], \"type\": \"scatter\", \"uid\": \"f2e2da65-c202-11e8-beb9-509a4c0f1ffc\"}, {\"name\": \"\\u5218\\u6c5f_\\u5e94\\u5b8c\\u6210BUG\\u6570\", \"x\": [\"8\", \"9\"], \"y\": [0.0, 0.0], \"type\": \"scatter\", \"uid\": \"f2e2da66-c202-11e8-9f9e-509a4c0f1ffc\"}, {\"name\": \"\\u5218\\u6c5f_\\u5b8c\\u6210BUG\\u4fee\\u590d\\u6570\", \"x\": [\"8\", \"9\"], \"y\": [0.0, 0.0], \"type\": \"scatter\", \"uid\": \"f2e2da67-c202-11e8-ab4a-509a4c0f1ffc\"}, {\"name\": \"\\u59da\\u76df\\u6210_\\u5e94\\u5b8c\\u6210BUG\\u6570\", \"x\": [\"8\"], \"y\": [null], \"type\": \"scatter\", \"uid\": \"f2e2da68-c202-11e8-847f-509a4c0f1ffc\"}, {\"name\": \"\\u59da\\u76df\\u6210_\\u5b8c\\u6210BUG\\u4fee\\u590d\\u6570\", \"x\": [\"8\"], \"y\": [null], \"type\": \"scatter\", \"uid\": \"f2e2da69-c202-11e8-b4eb-509a4c0f1ffc\"}, {\"name\": \"\\u5b5f\\u660a_\\u5e94\\u5b8c\\u6210BUG\\u6570\", \"x\": [\"8\", \"9\"], \"y\": [null, null], \"type\": \"scatter\", \"uid\": \"f2e2da6a-c202-11e8-977b-509a4c0f1ffc\"}, {\"name\": \"\\u5b5f\\u660a_\\u5b8c\\u6210BUG\\u4fee\\u590d\\u6570\", \"x\": [\"8\", \"9\"], \"y\": [null, null], \"type\": \"scatter\", \"uid\": \"f2e2da6b-c202-11e8-9665-509a4c0f1ffc\"}, {\"name\": \"\\u5c01\\u5f66\\u6770_\\u5e94\\u5b8c\\u6210BUG\\u6570\", \"x\": [\"8\", \"9\"], \"y\": [2.0, null], \"type\": \"scatter\", \"uid\": \"f2e2da6c-c202-11e8-8ec1-509a4c0f1ffc\"}, {\"name\": \"\\u5c01\\u5f66\\u6770_\\u5b8c\\u6210BUG\\u4fee\\u590d\\u6570\", \"x\": [\"8\", \"9\"], \"y\": [2.0, null], \"type\": \"scatter\", \"uid\": \"f2e30174-c202-11e8-bf37-509a4c0f1ffc\"}, {\"name\": \"\\u674e\\u534e\\u4e91_\\u5e94\\u5b8c\\u6210BUG\\u6570\", \"x\": [\"8\", \"9\"], \"y\": [null, null], \"type\": \"scatter\", \"uid\": \"f2e30175-c202-11e8-8672-509a4c0f1ffc\"}, {\"name\": \"\\u674e\\u534e\\u4e91_\\u5b8c\\u6210BUG\\u4fee\\u590d\\u6570\", \"x\": [\"8\", \"9\"], \"y\": [null, null], \"type\": \"scatter\", \"uid\": \"f2e30176-c202-11e8-8e5d-509a4c0f1ffc\"}, {\"name\": \"\\u82cf\\u5f66\\u52cb_\\u5e94\\u5b8c\\u6210BUG\\u6570\", \"x\": [\"8\"], \"y\": [null], \"type\": \"scatter\", \"uid\": \"f2e30177-c202-11e8-a5fe-509a4c0f1ffc\"}, {\"name\": \"\\u82cf\\u5f66\\u52cb_\\u5b8c\\u6210BUG\\u4fee\\u590d\\u6570\", \"x\": [\"8\"], \"y\": [null], \"type\": \"scatter\", \"uid\": \"f2e30178-c202-11e8-a3cb-509a4c0f1ffc\"}, {\"name\": \"\\u8303\\u65ed\\u5b81_\\u5e94\\u5b8c\\u6210BUG\\u6570\", \"x\": [\"8\"], \"y\": [null], \"type\": \"scatter\", \"uid\": \"f2e30179-c202-11e8-9855-509a4c0f1ffc\"}, {\"name\": \"\\u8303\\u65ed\\u5b81_\\u5b8c\\u6210BUG\\u4fee\\u590d\\u6570\", \"x\": [\"8\"], \"y\": [null], \"type\": \"scatter\", \"uid\": \"f2e3017a-c202-11e8-b026-509a4c0f1ffc\"}, {\"name\": \"\\u97e9\\u5c11\\u6000_\\u5e94\\u5b8c\\u6210BUG\\u6570\", \"x\": [\"8\"], \"y\": [null], \"type\": \"scatter\", \"uid\": \"f2e3017b-c202-11e8-8db0-509a4c0f1ffc\"}, {\"name\": \"\\u97e9\\u5c11\\u6000_\\u5b8c\\u6210BUG\\u4fee\\u590d\\u6570\", \"x\": [\"8\"], \"y\": [null], \"type\": \"scatter\", \"uid\": \"f2e3017c-c202-11e8-824d-509a4c0f1ffc\"}],\n",
       "            {\"title\": \"\\u5e94\\u5b8c\\u6210BUG\\u6570&\\u5b8c\\u6210BUG\\u4fee\\u590d\\u6570\\u6708\\u8d8b\\u52bf\\u56fe\", \"xaxis\": {\"mirror\": \"all\", \"nticks\": 20, \"showgrid\": true, \"showline\": true, \"title\": \"\\u6708\", \"zeroline\": true}, \"yaxis\": {\"mirror\": \"all\", \"nticks\": 20, \"showgrid\": true, \"showline\": true, \"title\": \"\\u5e94\\u5b8c\\u6210BUG\\u6570&\\u5b8c\\u6210BUG\\u4fee\\u590d\\u6570\", \"zeroline\": true}},\n",
       "            {\"showLink\": true, \"linkText\": \"Export to plot.ly\"}\n",
       "        ).then(function () {return Plotly.addFrames('b8cc39a3-b587-4564-b053-4b9f5b6d93a4',{});}).then(function(){Plotly.animate('b8cc39a3-b587-4564-b053-4b9f5b6d93a4');})\n",
       "        });</script>"
      ]
     },
     "metadata": {},
     "output_type": "display_data"
    }
   ],
   "source": [
    "data_dict = {'应完成BUG数': ['应完成BUG数'], '完成BUG修复数': ['完成BUG修复数']}\n",
    "myModule.plot( all_dict_1, data_dict, '负责人' ,  'line', all='' )"
   ]
  },
  {
   "cell_type": "markdown",
   "metadata": {},
   "source": [
    "# 商业项目情况"
   ]
  },
  {
   "cell_type": "markdown",
   "metadata": {
    "hide_input": true
   },
   "source": [
    "## 整体情况"
   ]
  },
  {
   "cell_type": "markdown",
   "metadata": {},
   "source": [
    "### 完成商业项目数"
   ]
  },
  {
   "cell_type": "code",
   "execution_count": 70,
   "metadata": {},
   "outputs": [
    {
     "data": {
      "application/vnd.plotly.v1+json": {
       "data": [
        {
         "name": "完成商业项目数",
         "type": "scatter",
         "uid": "f32ed782-c202-11e8-9ede-509a4c0f1ffc",
         "x": [
          "9-2",
          "9-3"
         ],
         "y": [
          14,
          8
         ]
        },
        {
         "name": "完成个性化数",
         "type": "scatter",
         "uid": "f32ed783-c202-11e8-9ede-509a4c0f1ffc",
         "x": [
          "9-2",
          "9-3"
         ],
         "y": [
          15,
          6
         ]
        }
       ],
       "layout": {
        "title": "完成商业项目数&完成个性化数周趋势图",
        "xaxis": {
         "mirror": "all",
         "nticks": 20,
         "showgrid": true,
         "showline": true,
         "title": "周",
         "zeroline": true
        },
        "yaxis": {
         "mirror": "all",
         "nticks": 20,
         "showgrid": true,
         "showline": true,
         "title": "完成商业项目数&完成个性化数",
         "zeroline": true
        }
       }
      },
      "text/html": [
       "<div id=\"a96d351c-58e4-4876-8930-1ddf2b86954e\" style=\"height: 525px; width: 100%;\" class=\"plotly-graph-div\"></div><script type=\"text/javascript\">require([\"plotly\"], function(Plotly) { window.PLOTLYENV=window.PLOTLYENV || {};window.PLOTLYENV.BASE_URL=\"https://plot.ly\";\n",
       "        Plotly.plot(\n",
       "            'a96d351c-58e4-4876-8930-1ddf2b86954e',\n",
       "            [{\"name\": \"\\u5b8c\\u6210\\u5546\\u4e1a\\u9879\\u76ee\\u6570\", \"x\": [\"9-2\", \"9-3\"], \"y\": [14.0, 8.0], \"type\": \"scatter\", \"uid\": \"f32ed782-c202-11e8-9ede-509a4c0f1ffc\"}, {\"name\": \"\\u5b8c\\u6210\\u4e2a\\u6027\\u5316\\u6570\", \"x\": [\"9-2\", \"9-3\"], \"y\": [15.0, 6.0], \"type\": \"scatter\", \"uid\": \"f32ed783-c202-11e8-9ede-509a4c0f1ffc\"}],\n",
       "            {\"title\": \"\\u5b8c\\u6210\\u5546\\u4e1a\\u9879\\u76ee\\u6570&\\u5b8c\\u6210\\u4e2a\\u6027\\u5316\\u6570\\u5468\\u8d8b\\u52bf\\u56fe\", \"xaxis\": {\"mirror\": \"all\", \"nticks\": 20, \"showgrid\": true, \"showline\": true, \"title\": \"\\u5468\", \"zeroline\": true}, \"yaxis\": {\"mirror\": \"all\", \"nticks\": 20, \"showgrid\": true, \"showline\": true, \"title\": \"\\u5b8c\\u6210\\u5546\\u4e1a\\u9879\\u76ee\\u6570&\\u5b8c\\u6210\\u4e2a\\u6027\\u5316\\u6570\", \"zeroline\": true}},\n",
       "            {\"showLink\": true, \"linkText\": \"Export to plot.ly\"}\n",
       "        ).then(function () {return Plotly.addFrames('a96d351c-58e4-4876-8930-1ddf2b86954e',{});}).then(function(){Plotly.animate('a96d351c-58e4-4876-8930-1ddf2b86954e');})\n",
       "        });</script>"
      ],
      "text/vnd.plotly.v1+html": [
       "<div id=\"a96d351c-58e4-4876-8930-1ddf2b86954e\" style=\"height: 525px; width: 100%;\" class=\"plotly-graph-div\"></div><script type=\"text/javascript\">require([\"plotly\"], function(Plotly) { window.PLOTLYENV=window.PLOTLYENV || {};window.PLOTLYENV.BASE_URL=\"https://plot.ly\";\n",
       "        Plotly.plot(\n",
       "            'a96d351c-58e4-4876-8930-1ddf2b86954e',\n",
       "            [{\"name\": \"\\u5b8c\\u6210\\u5546\\u4e1a\\u9879\\u76ee\\u6570\", \"x\": [\"9-2\", \"9-3\"], \"y\": [14.0, 8.0], \"type\": \"scatter\", \"uid\": \"f32ed782-c202-11e8-9ede-509a4c0f1ffc\"}, {\"name\": \"\\u5b8c\\u6210\\u4e2a\\u6027\\u5316\\u6570\", \"x\": [\"9-2\", \"9-3\"], \"y\": [15.0, 6.0], \"type\": \"scatter\", \"uid\": \"f32ed783-c202-11e8-9ede-509a4c0f1ffc\"}],\n",
       "            {\"title\": \"\\u5b8c\\u6210\\u5546\\u4e1a\\u9879\\u76ee\\u6570&\\u5b8c\\u6210\\u4e2a\\u6027\\u5316\\u6570\\u5468\\u8d8b\\u52bf\\u56fe\", \"xaxis\": {\"mirror\": \"all\", \"nticks\": 20, \"showgrid\": true, \"showline\": true, \"title\": \"\\u5468\", \"zeroline\": true}, \"yaxis\": {\"mirror\": \"all\", \"nticks\": 20, \"showgrid\": true, \"showline\": true, \"title\": \"\\u5b8c\\u6210\\u5546\\u4e1a\\u9879\\u76ee\\u6570&\\u5b8c\\u6210\\u4e2a\\u6027\\u5316\\u6570\", \"zeroline\": true}},\n",
       "            {\"showLink\": true, \"linkText\": \"Export to plot.ly\"}\n",
       "        ).then(function () {return Plotly.addFrames('a96d351c-58e4-4876-8930-1ddf2b86954e',{});}).then(function(){Plotly.animate('a96d351c-58e4-4876-8930-1ddf2b86954e');})\n",
       "        });</script>"
      ]
     },
     "metadata": {},
     "output_type": "display_data"
    },
    {
     "data": {
      "application/vnd.plotly.v1+json": {
       "data": [
        {
         "name": "完成商业项目数",
         "type": "scatter",
         "uid": "f3417522-c202-11e8-8801-509a4c0f1ffc",
         "x": [
          "9"
         ],
         "y": [
          22
         ]
        },
        {
         "name": "完成个性化数",
         "type": "scatter",
         "uid": "f3417523-c202-11e8-820a-509a4c0f1ffc",
         "x": [
          "9"
         ],
         "y": [
          21
         ]
        }
       ],
       "layout": {
        "title": "完成商业项目数&完成个性化数月趋势图",
        "xaxis": {
         "mirror": "all",
         "nticks": 20,
         "showgrid": true,
         "showline": true,
         "title": "月",
         "zeroline": true
        },
        "yaxis": {
         "mirror": "all",
         "nticks": 20,
         "showgrid": true,
         "showline": true,
         "title": "完成商业项目数&完成个性化数",
         "zeroline": true
        }
       }
      },
      "text/html": [
       "<div id=\"37d4ca50-1413-480a-8786-c3d6ab8c3fda\" style=\"height: 525px; width: 100%;\" class=\"plotly-graph-div\"></div><script type=\"text/javascript\">require([\"plotly\"], function(Plotly) { window.PLOTLYENV=window.PLOTLYENV || {};window.PLOTLYENV.BASE_URL=\"https://plot.ly\";\n",
       "        Plotly.plot(\n",
       "            '37d4ca50-1413-480a-8786-c3d6ab8c3fda',\n",
       "            [{\"name\": \"\\u5b8c\\u6210\\u5546\\u4e1a\\u9879\\u76ee\\u6570\", \"x\": [\"9\"], \"y\": [22.0], \"type\": \"scatter\", \"uid\": \"f3417522-c202-11e8-8801-509a4c0f1ffc\"}, {\"name\": \"\\u5b8c\\u6210\\u4e2a\\u6027\\u5316\\u6570\", \"x\": [\"9\"], \"y\": [21.0], \"type\": \"scatter\", \"uid\": \"f3417523-c202-11e8-820a-509a4c0f1ffc\"}],\n",
       "            {\"title\": \"\\u5b8c\\u6210\\u5546\\u4e1a\\u9879\\u76ee\\u6570&\\u5b8c\\u6210\\u4e2a\\u6027\\u5316\\u6570\\u6708\\u8d8b\\u52bf\\u56fe\", \"xaxis\": {\"mirror\": \"all\", \"nticks\": 20, \"showgrid\": true, \"showline\": true, \"title\": \"\\u6708\", \"zeroline\": true}, \"yaxis\": {\"mirror\": \"all\", \"nticks\": 20, \"showgrid\": true, \"showline\": true, \"title\": \"\\u5b8c\\u6210\\u5546\\u4e1a\\u9879\\u76ee\\u6570&\\u5b8c\\u6210\\u4e2a\\u6027\\u5316\\u6570\", \"zeroline\": true}},\n",
       "            {\"showLink\": true, \"linkText\": \"Export to plot.ly\"}\n",
       "        ).then(function () {return Plotly.addFrames('37d4ca50-1413-480a-8786-c3d6ab8c3fda',{});}).then(function(){Plotly.animate('37d4ca50-1413-480a-8786-c3d6ab8c3fda');})\n",
       "        });</script>"
      ],
      "text/vnd.plotly.v1+html": [
       "<div id=\"37d4ca50-1413-480a-8786-c3d6ab8c3fda\" style=\"height: 525px; width: 100%;\" class=\"plotly-graph-div\"></div><script type=\"text/javascript\">require([\"plotly\"], function(Plotly) { window.PLOTLYENV=window.PLOTLYENV || {};window.PLOTLYENV.BASE_URL=\"https://plot.ly\";\n",
       "        Plotly.plot(\n",
       "            '37d4ca50-1413-480a-8786-c3d6ab8c3fda',\n",
       "            [{\"name\": \"\\u5b8c\\u6210\\u5546\\u4e1a\\u9879\\u76ee\\u6570\", \"x\": [\"9\"], \"y\": [22.0], \"type\": \"scatter\", \"uid\": \"f3417522-c202-11e8-8801-509a4c0f1ffc\"}, {\"name\": \"\\u5b8c\\u6210\\u4e2a\\u6027\\u5316\\u6570\", \"x\": [\"9\"], \"y\": [21.0], \"type\": \"scatter\", \"uid\": \"f3417523-c202-11e8-820a-509a4c0f1ffc\"}],\n",
       "            {\"title\": \"\\u5b8c\\u6210\\u5546\\u4e1a\\u9879\\u76ee\\u6570&\\u5b8c\\u6210\\u4e2a\\u6027\\u5316\\u6570\\u6708\\u8d8b\\u52bf\\u56fe\", \"xaxis\": {\"mirror\": \"all\", \"nticks\": 20, \"showgrid\": true, \"showline\": true, \"title\": \"\\u6708\", \"zeroline\": true}, \"yaxis\": {\"mirror\": \"all\", \"nticks\": 20, \"showgrid\": true, \"showline\": true, \"title\": \"\\u5b8c\\u6210\\u5546\\u4e1a\\u9879\\u76ee\\u6570&\\u5b8c\\u6210\\u4e2a\\u6027\\u5316\\u6570\", \"zeroline\": true}},\n",
       "            {\"showLink\": true, \"linkText\": \"Export to plot.ly\"}\n",
       "        ).then(function () {return Plotly.addFrames('37d4ca50-1413-480a-8786-c3d6ab8c3fda',{});}).then(function(){Plotly.animate('37d4ca50-1413-480a-8786-c3d6ab8c3fda');})\n",
       "        });</script>"
      ]
     },
     "metadata": {},
     "output_type": "display_data"
    }
   ],
   "source": [
    "data_dict = {'完成商业项目数':['完成商业项目数'],'完成个性化数':['完成个性化数']}\n",
    "myModule.plot( all_dict_2, data_dict, '负责人','line' , all='all')"
   ]
  },
  {
   "cell_type": "markdown",
   "metadata": {},
   "source": [
    "### 延期项目数"
   ]
  },
  {
   "cell_type": "code",
   "execution_count": 71,
   "metadata": {},
   "outputs": [
    {
     "data": {
      "application/vnd.plotly.v1+json": {
       "data": [
        {
         "name": "延期商业项目数",
         "type": "scatter",
         "uid": "f385f834-c202-11e8-bbce-509a4c0f1ffc",
         "x": [
          "9-2",
          "9-3"
         ],
         "y": [
          0,
          0
         ]
        },
        {
         "name": "延期个性化项目数",
         "type": "scatter",
         "uid": "f385f835-c202-11e8-8552-509a4c0f1ffc",
         "x": [
          "9-2",
          "9-3"
         ],
         "y": [
          1,
          0
         ]
        }
       ],
       "layout": {
        "title": "延期商业项目数&延期个性化项目数周趋势图",
        "xaxis": {
         "mirror": "all",
         "nticks": 20,
         "showgrid": true,
         "showline": true,
         "title": "周",
         "zeroline": true
        },
        "yaxis": {
         "mirror": "all",
         "nticks": 20,
         "showgrid": true,
         "showline": true,
         "title": "延期商业项目数&延期个性化项目数",
         "zeroline": true
        }
       }
      },
      "text/html": [
       "<div id=\"e3889d2a-d618-4b50-a33c-d07d9cc1db28\" style=\"height: 525px; width: 100%;\" class=\"plotly-graph-div\"></div><script type=\"text/javascript\">require([\"plotly\"], function(Plotly) { window.PLOTLYENV=window.PLOTLYENV || {};window.PLOTLYENV.BASE_URL=\"https://plot.ly\";\n",
       "        Plotly.plot(\n",
       "            'e3889d2a-d618-4b50-a33c-d07d9cc1db28',\n",
       "            [{\"name\": \"\\u5ef6\\u671f\\u5546\\u4e1a\\u9879\\u76ee\\u6570\", \"x\": [\"9-2\", \"9-3\"], \"y\": [0.0, 0.0], \"type\": \"scatter\", \"uid\": \"f385f834-c202-11e8-bbce-509a4c0f1ffc\"}, {\"name\": \"\\u5ef6\\u671f\\u4e2a\\u6027\\u5316\\u9879\\u76ee\\u6570\", \"x\": [\"9-2\", \"9-3\"], \"y\": [1.0, 0.0], \"type\": \"scatter\", \"uid\": \"f385f835-c202-11e8-8552-509a4c0f1ffc\"}],\n",
       "            {\"title\": \"\\u5ef6\\u671f\\u5546\\u4e1a\\u9879\\u76ee\\u6570&\\u5ef6\\u671f\\u4e2a\\u6027\\u5316\\u9879\\u76ee\\u6570\\u5468\\u8d8b\\u52bf\\u56fe\", \"xaxis\": {\"mirror\": \"all\", \"nticks\": 20, \"showgrid\": true, \"showline\": true, \"title\": \"\\u5468\", \"zeroline\": true}, \"yaxis\": {\"mirror\": \"all\", \"nticks\": 20, \"showgrid\": true, \"showline\": true, \"title\": \"\\u5ef6\\u671f\\u5546\\u4e1a\\u9879\\u76ee\\u6570&\\u5ef6\\u671f\\u4e2a\\u6027\\u5316\\u9879\\u76ee\\u6570\", \"zeroline\": true}},\n",
       "            {\"showLink\": true, \"linkText\": \"Export to plot.ly\"}\n",
       "        ).then(function () {return Plotly.addFrames('e3889d2a-d618-4b50-a33c-d07d9cc1db28',{});}).then(function(){Plotly.animate('e3889d2a-d618-4b50-a33c-d07d9cc1db28');})\n",
       "        });</script>"
      ],
      "text/vnd.plotly.v1+html": [
       "<div id=\"e3889d2a-d618-4b50-a33c-d07d9cc1db28\" style=\"height: 525px; width: 100%;\" class=\"plotly-graph-div\"></div><script type=\"text/javascript\">require([\"plotly\"], function(Plotly) { window.PLOTLYENV=window.PLOTLYENV || {};window.PLOTLYENV.BASE_URL=\"https://plot.ly\";\n",
       "        Plotly.plot(\n",
       "            'e3889d2a-d618-4b50-a33c-d07d9cc1db28',\n",
       "            [{\"name\": \"\\u5ef6\\u671f\\u5546\\u4e1a\\u9879\\u76ee\\u6570\", \"x\": [\"9-2\", \"9-3\"], \"y\": [0.0, 0.0], \"type\": \"scatter\", \"uid\": \"f385f834-c202-11e8-bbce-509a4c0f1ffc\"}, {\"name\": \"\\u5ef6\\u671f\\u4e2a\\u6027\\u5316\\u9879\\u76ee\\u6570\", \"x\": [\"9-2\", \"9-3\"], \"y\": [1.0, 0.0], \"type\": \"scatter\", \"uid\": \"f385f835-c202-11e8-8552-509a4c0f1ffc\"}],\n",
       "            {\"title\": \"\\u5ef6\\u671f\\u5546\\u4e1a\\u9879\\u76ee\\u6570&\\u5ef6\\u671f\\u4e2a\\u6027\\u5316\\u9879\\u76ee\\u6570\\u5468\\u8d8b\\u52bf\\u56fe\", \"xaxis\": {\"mirror\": \"all\", \"nticks\": 20, \"showgrid\": true, \"showline\": true, \"title\": \"\\u5468\", \"zeroline\": true}, \"yaxis\": {\"mirror\": \"all\", \"nticks\": 20, \"showgrid\": true, \"showline\": true, \"title\": \"\\u5ef6\\u671f\\u5546\\u4e1a\\u9879\\u76ee\\u6570&\\u5ef6\\u671f\\u4e2a\\u6027\\u5316\\u9879\\u76ee\\u6570\", \"zeroline\": true}},\n",
       "            {\"showLink\": true, \"linkText\": \"Export to plot.ly\"}\n",
       "        ).then(function () {return Plotly.addFrames('e3889d2a-d618-4b50-a33c-d07d9cc1db28',{});}).then(function(){Plotly.animate('e3889d2a-d618-4b50-a33c-d07d9cc1db28');})\n",
       "        });</script>"
      ]
     },
     "metadata": {},
     "output_type": "display_data"
    },
    {
     "data": {
      "application/vnd.plotly.v1+json": {
       "data": [
        {
         "name": "延期商业项目数",
         "type": "scatter",
         "uid": "f38d9952-c202-11e8-8933-509a4c0f1ffc",
         "x": [
          "9"
         ],
         "y": [
          0
         ]
        },
        {
         "name": "延期个性化项目数",
         "type": "scatter",
         "uid": "f38dc062-c202-11e8-a08f-509a4c0f1ffc",
         "x": [
          "9"
         ],
         "y": [
          1
         ]
        }
       ],
       "layout": {
        "title": "延期商业项目数&延期个性化项目数月趋势图",
        "xaxis": {
         "mirror": "all",
         "nticks": 20,
         "showgrid": true,
         "showline": true,
         "title": "月",
         "zeroline": true
        },
        "yaxis": {
         "mirror": "all",
         "nticks": 20,
         "showgrid": true,
         "showline": true,
         "title": "延期商业项目数&延期个性化项目数",
         "zeroline": true
        }
       }
      },
      "text/html": [
       "<div id=\"c7825cec-b1b3-4a73-b13e-a20be10630c4\" style=\"height: 525px; width: 100%;\" class=\"plotly-graph-div\"></div><script type=\"text/javascript\">require([\"plotly\"], function(Plotly) { window.PLOTLYENV=window.PLOTLYENV || {};window.PLOTLYENV.BASE_URL=\"https://plot.ly\";\n",
       "        Plotly.plot(\n",
       "            'c7825cec-b1b3-4a73-b13e-a20be10630c4',\n",
       "            [{\"name\": \"\\u5ef6\\u671f\\u5546\\u4e1a\\u9879\\u76ee\\u6570\", \"x\": [\"9\"], \"y\": [0.0], \"type\": \"scatter\", \"uid\": \"f38d9952-c202-11e8-8933-509a4c0f1ffc\"}, {\"name\": \"\\u5ef6\\u671f\\u4e2a\\u6027\\u5316\\u9879\\u76ee\\u6570\", \"x\": [\"9\"], \"y\": [1.0], \"type\": \"scatter\", \"uid\": \"f38dc062-c202-11e8-a08f-509a4c0f1ffc\"}],\n",
       "            {\"title\": \"\\u5ef6\\u671f\\u5546\\u4e1a\\u9879\\u76ee\\u6570&\\u5ef6\\u671f\\u4e2a\\u6027\\u5316\\u9879\\u76ee\\u6570\\u6708\\u8d8b\\u52bf\\u56fe\", \"xaxis\": {\"mirror\": \"all\", \"nticks\": 20, \"showgrid\": true, \"showline\": true, \"title\": \"\\u6708\", \"zeroline\": true}, \"yaxis\": {\"mirror\": \"all\", \"nticks\": 20, \"showgrid\": true, \"showline\": true, \"title\": \"\\u5ef6\\u671f\\u5546\\u4e1a\\u9879\\u76ee\\u6570&\\u5ef6\\u671f\\u4e2a\\u6027\\u5316\\u9879\\u76ee\\u6570\", \"zeroline\": true}},\n",
       "            {\"showLink\": true, \"linkText\": \"Export to plot.ly\"}\n",
       "        ).then(function () {return Plotly.addFrames('c7825cec-b1b3-4a73-b13e-a20be10630c4',{});}).then(function(){Plotly.animate('c7825cec-b1b3-4a73-b13e-a20be10630c4');})\n",
       "        });</script>"
      ],
      "text/vnd.plotly.v1+html": [
       "<div id=\"c7825cec-b1b3-4a73-b13e-a20be10630c4\" style=\"height: 525px; width: 100%;\" class=\"plotly-graph-div\"></div><script type=\"text/javascript\">require([\"plotly\"], function(Plotly) { window.PLOTLYENV=window.PLOTLYENV || {};window.PLOTLYENV.BASE_URL=\"https://plot.ly\";\n",
       "        Plotly.plot(\n",
       "            'c7825cec-b1b3-4a73-b13e-a20be10630c4',\n",
       "            [{\"name\": \"\\u5ef6\\u671f\\u5546\\u4e1a\\u9879\\u76ee\\u6570\", \"x\": [\"9\"], \"y\": [0.0], \"type\": \"scatter\", \"uid\": \"f38d9952-c202-11e8-8933-509a4c0f1ffc\"}, {\"name\": \"\\u5ef6\\u671f\\u4e2a\\u6027\\u5316\\u9879\\u76ee\\u6570\", \"x\": [\"9\"], \"y\": [1.0], \"type\": \"scatter\", \"uid\": \"f38dc062-c202-11e8-a08f-509a4c0f1ffc\"}],\n",
       "            {\"title\": \"\\u5ef6\\u671f\\u5546\\u4e1a\\u9879\\u76ee\\u6570&\\u5ef6\\u671f\\u4e2a\\u6027\\u5316\\u9879\\u76ee\\u6570\\u6708\\u8d8b\\u52bf\\u56fe\", \"xaxis\": {\"mirror\": \"all\", \"nticks\": 20, \"showgrid\": true, \"showline\": true, \"title\": \"\\u6708\", \"zeroline\": true}, \"yaxis\": {\"mirror\": \"all\", \"nticks\": 20, \"showgrid\": true, \"showline\": true, \"title\": \"\\u5ef6\\u671f\\u5546\\u4e1a\\u9879\\u76ee\\u6570&\\u5ef6\\u671f\\u4e2a\\u6027\\u5316\\u9879\\u76ee\\u6570\", \"zeroline\": true}},\n",
       "            {\"showLink\": true, \"linkText\": \"Export to plot.ly\"}\n",
       "        ).then(function () {return Plotly.addFrames('c7825cec-b1b3-4a73-b13e-a20be10630c4',{});}).then(function(){Plotly.animate('c7825cec-b1b3-4a73-b13e-a20be10630c4');})\n",
       "        });</script>"
      ]
     },
     "metadata": {},
     "output_type": "display_data"
    }
   ],
   "source": [
    "data_dict = {'延期商业项目数':['延期商业项目数'],'延期个性化项目数':['延期个性化项目数']}\n",
    "myModule.plot( all_dict_2, data_dict, '负责人','line' , all='all')"
   ]
  },
  {
   "cell_type": "markdown",
   "metadata": {},
   "source": [
    "### 反馈延期数"
   ]
  },
  {
   "cell_type": "code",
   "execution_count": 72,
   "metadata": {},
   "outputs": [
    {
     "data": {
      "application/vnd.plotly.v1+json": {
       "data": [
        {
         "name": "24h内未完成数据反馈项目数",
         "type": "scatter",
         "uid": "f3d63b12-c202-11e8-83a4-509a4c0f1ffc",
         "x": [
          "9-2",
          "9-3"
         ],
         "y": [
          1,
          0
         ]
        },
        {
         "name": "反馈延期个性化数",
         "type": "scatter",
         "uid": "f3d63b13-c202-11e8-9872-509a4c0f1ffc",
         "x": [
          "9-2",
          "9-3"
         ],
         "y": [
          1,
          0
         ]
        }
       ],
       "layout": {
        "title": "24h内未完成数据反馈项目数&反馈延期个性化数周趋势图",
        "xaxis": {
         "mirror": "all",
         "nticks": 20,
         "showgrid": true,
         "showline": true,
         "title": "周",
         "zeroline": true
        },
        "yaxis": {
         "mirror": "all",
         "nticks": 20,
         "showgrid": true,
         "showline": true,
         "title": "24h内未完成数据反馈项目数&反馈延期个性化数",
         "zeroline": true
        }
       }
      },
      "text/html": [
       "<div id=\"c480f4b2-34df-464e-a2fb-ad10b8d0d80b\" style=\"height: 525px; width: 100%;\" class=\"plotly-graph-div\"></div><script type=\"text/javascript\">require([\"plotly\"], function(Plotly) { window.PLOTLYENV=window.PLOTLYENV || {};window.PLOTLYENV.BASE_URL=\"https://plot.ly\";\n",
       "        Plotly.plot(\n",
       "            'c480f4b2-34df-464e-a2fb-ad10b8d0d80b',\n",
       "            [{\"name\": \"24h\\u5185\\u672a\\u5b8c\\u6210\\u6570\\u636e\\u53cd\\u9988\\u9879\\u76ee\\u6570\", \"x\": [\"9-2\", \"9-3\"], \"y\": [1.0, 0.0], \"type\": \"scatter\", \"uid\": \"f3d63b12-c202-11e8-83a4-509a4c0f1ffc\"}, {\"name\": \"\\u53cd\\u9988\\u5ef6\\u671f\\u4e2a\\u6027\\u5316\\u6570\", \"x\": [\"9-2\", \"9-3\"], \"y\": [1.0, 0.0], \"type\": \"scatter\", \"uid\": \"f3d63b13-c202-11e8-9872-509a4c0f1ffc\"}],\n",
       "            {\"title\": \"24h\\u5185\\u672a\\u5b8c\\u6210\\u6570\\u636e\\u53cd\\u9988\\u9879\\u76ee\\u6570&\\u53cd\\u9988\\u5ef6\\u671f\\u4e2a\\u6027\\u5316\\u6570\\u5468\\u8d8b\\u52bf\\u56fe\", \"xaxis\": {\"mirror\": \"all\", \"nticks\": 20, \"showgrid\": true, \"showline\": true, \"title\": \"\\u5468\", \"zeroline\": true}, \"yaxis\": {\"mirror\": \"all\", \"nticks\": 20, \"showgrid\": true, \"showline\": true, \"title\": \"24h\\u5185\\u672a\\u5b8c\\u6210\\u6570\\u636e\\u53cd\\u9988\\u9879\\u76ee\\u6570&\\u53cd\\u9988\\u5ef6\\u671f\\u4e2a\\u6027\\u5316\\u6570\", \"zeroline\": true}},\n",
       "            {\"showLink\": true, \"linkText\": \"Export to plot.ly\"}\n",
       "        ).then(function () {return Plotly.addFrames('c480f4b2-34df-464e-a2fb-ad10b8d0d80b',{});}).then(function(){Plotly.animate('c480f4b2-34df-464e-a2fb-ad10b8d0d80b');})\n",
       "        });</script>"
      ],
      "text/vnd.plotly.v1+html": [
       "<div id=\"c480f4b2-34df-464e-a2fb-ad10b8d0d80b\" style=\"height: 525px; width: 100%;\" class=\"plotly-graph-div\"></div><script type=\"text/javascript\">require([\"plotly\"], function(Plotly) { window.PLOTLYENV=window.PLOTLYENV || {};window.PLOTLYENV.BASE_URL=\"https://plot.ly\";\n",
       "        Plotly.plot(\n",
       "            'c480f4b2-34df-464e-a2fb-ad10b8d0d80b',\n",
       "            [{\"name\": \"24h\\u5185\\u672a\\u5b8c\\u6210\\u6570\\u636e\\u53cd\\u9988\\u9879\\u76ee\\u6570\", \"x\": [\"9-2\", \"9-3\"], \"y\": [1.0, 0.0], \"type\": \"scatter\", \"uid\": \"f3d63b12-c202-11e8-83a4-509a4c0f1ffc\"}, {\"name\": \"\\u53cd\\u9988\\u5ef6\\u671f\\u4e2a\\u6027\\u5316\\u6570\", \"x\": [\"9-2\", \"9-3\"], \"y\": [1.0, 0.0], \"type\": \"scatter\", \"uid\": \"f3d63b13-c202-11e8-9872-509a4c0f1ffc\"}],\n",
       "            {\"title\": \"24h\\u5185\\u672a\\u5b8c\\u6210\\u6570\\u636e\\u53cd\\u9988\\u9879\\u76ee\\u6570&\\u53cd\\u9988\\u5ef6\\u671f\\u4e2a\\u6027\\u5316\\u6570\\u5468\\u8d8b\\u52bf\\u56fe\", \"xaxis\": {\"mirror\": \"all\", \"nticks\": 20, \"showgrid\": true, \"showline\": true, \"title\": \"\\u5468\", \"zeroline\": true}, \"yaxis\": {\"mirror\": \"all\", \"nticks\": 20, \"showgrid\": true, \"showline\": true, \"title\": \"24h\\u5185\\u672a\\u5b8c\\u6210\\u6570\\u636e\\u53cd\\u9988\\u9879\\u76ee\\u6570&\\u53cd\\u9988\\u5ef6\\u671f\\u4e2a\\u6027\\u5316\\u6570\", \"zeroline\": true}},\n",
       "            {\"showLink\": true, \"linkText\": \"Export to plot.ly\"}\n",
       "        ).then(function () {return Plotly.addFrames('c480f4b2-34df-464e-a2fb-ad10b8d0d80b',{});}).then(function(){Plotly.animate('c480f4b2-34df-464e-a2fb-ad10b8d0d80b');})\n",
       "        });</script>"
      ]
     },
     "metadata": {},
     "output_type": "display_data"
    },
    {
     "data": {
      "application/vnd.plotly.v1+json": {
       "data": [
        {
         "name": "24h内未完成数据反馈项目数",
         "type": "scatter",
         "uid": "f3de0342-c202-11e8-855a-509a4c0f1ffc",
         "x": [
          "9"
         ],
         "y": [
          1
         ]
        },
        {
         "name": "反馈延期个性化数",
         "type": "scatter",
         "uid": "f3de0343-c202-11e8-bc11-509a4c0f1ffc",
         "x": [
          "9"
         ],
         "y": [
          1
         ]
        }
       ],
       "layout": {
        "title": "24h内未完成数据反馈项目数&反馈延期个性化数月趋势图",
        "xaxis": {
         "mirror": "all",
         "nticks": 20,
         "showgrid": true,
         "showline": true,
         "title": "月",
         "zeroline": true
        },
        "yaxis": {
         "mirror": "all",
         "nticks": 20,
         "showgrid": true,
         "showline": true,
         "title": "24h内未完成数据反馈项目数&反馈延期个性化数",
         "zeroline": true
        }
       }
      },
      "text/html": [
       "<div id=\"f1d07417-6b1a-4756-bafb-e4f249f6aa40\" style=\"height: 525px; width: 100%;\" class=\"plotly-graph-div\"></div><script type=\"text/javascript\">require([\"plotly\"], function(Plotly) { window.PLOTLYENV=window.PLOTLYENV || {};window.PLOTLYENV.BASE_URL=\"https://plot.ly\";\n",
       "        Plotly.plot(\n",
       "            'f1d07417-6b1a-4756-bafb-e4f249f6aa40',\n",
       "            [{\"name\": \"24h\\u5185\\u672a\\u5b8c\\u6210\\u6570\\u636e\\u53cd\\u9988\\u9879\\u76ee\\u6570\", \"x\": [\"9\"], \"y\": [1.0], \"type\": \"scatter\", \"uid\": \"f3de0342-c202-11e8-855a-509a4c0f1ffc\"}, {\"name\": \"\\u53cd\\u9988\\u5ef6\\u671f\\u4e2a\\u6027\\u5316\\u6570\", \"x\": [\"9\"], \"y\": [1.0], \"type\": \"scatter\", \"uid\": \"f3de0343-c202-11e8-bc11-509a4c0f1ffc\"}],\n",
       "            {\"title\": \"24h\\u5185\\u672a\\u5b8c\\u6210\\u6570\\u636e\\u53cd\\u9988\\u9879\\u76ee\\u6570&\\u53cd\\u9988\\u5ef6\\u671f\\u4e2a\\u6027\\u5316\\u6570\\u6708\\u8d8b\\u52bf\\u56fe\", \"xaxis\": {\"mirror\": \"all\", \"nticks\": 20, \"showgrid\": true, \"showline\": true, \"title\": \"\\u6708\", \"zeroline\": true}, \"yaxis\": {\"mirror\": \"all\", \"nticks\": 20, \"showgrid\": true, \"showline\": true, \"title\": \"24h\\u5185\\u672a\\u5b8c\\u6210\\u6570\\u636e\\u53cd\\u9988\\u9879\\u76ee\\u6570&\\u53cd\\u9988\\u5ef6\\u671f\\u4e2a\\u6027\\u5316\\u6570\", \"zeroline\": true}},\n",
       "            {\"showLink\": true, \"linkText\": \"Export to plot.ly\"}\n",
       "        ).then(function () {return Plotly.addFrames('f1d07417-6b1a-4756-bafb-e4f249f6aa40',{});}).then(function(){Plotly.animate('f1d07417-6b1a-4756-bafb-e4f249f6aa40');})\n",
       "        });</script>"
      ],
      "text/vnd.plotly.v1+html": [
       "<div id=\"f1d07417-6b1a-4756-bafb-e4f249f6aa40\" style=\"height: 525px; width: 100%;\" class=\"plotly-graph-div\"></div><script type=\"text/javascript\">require([\"plotly\"], function(Plotly) { window.PLOTLYENV=window.PLOTLYENV || {};window.PLOTLYENV.BASE_URL=\"https://plot.ly\";\n",
       "        Plotly.plot(\n",
       "            'f1d07417-6b1a-4756-bafb-e4f249f6aa40',\n",
       "            [{\"name\": \"24h\\u5185\\u672a\\u5b8c\\u6210\\u6570\\u636e\\u53cd\\u9988\\u9879\\u76ee\\u6570\", \"x\": [\"9\"], \"y\": [1.0], \"type\": \"scatter\", \"uid\": \"f3de0342-c202-11e8-855a-509a4c0f1ffc\"}, {\"name\": \"\\u53cd\\u9988\\u5ef6\\u671f\\u4e2a\\u6027\\u5316\\u6570\", \"x\": [\"9\"], \"y\": [1.0], \"type\": \"scatter\", \"uid\": \"f3de0343-c202-11e8-bc11-509a4c0f1ffc\"}],\n",
       "            {\"title\": \"24h\\u5185\\u672a\\u5b8c\\u6210\\u6570\\u636e\\u53cd\\u9988\\u9879\\u76ee\\u6570&\\u53cd\\u9988\\u5ef6\\u671f\\u4e2a\\u6027\\u5316\\u6570\\u6708\\u8d8b\\u52bf\\u56fe\", \"xaxis\": {\"mirror\": \"all\", \"nticks\": 20, \"showgrid\": true, \"showline\": true, \"title\": \"\\u6708\", \"zeroline\": true}, \"yaxis\": {\"mirror\": \"all\", \"nticks\": 20, \"showgrid\": true, \"showline\": true, \"title\": \"24h\\u5185\\u672a\\u5b8c\\u6210\\u6570\\u636e\\u53cd\\u9988\\u9879\\u76ee\\u6570&\\u53cd\\u9988\\u5ef6\\u671f\\u4e2a\\u6027\\u5316\\u6570\", \"zeroline\": true}},\n",
       "            {\"showLink\": true, \"linkText\": \"Export to plot.ly\"}\n",
       "        ).then(function () {return Plotly.addFrames('f1d07417-6b1a-4756-bafb-e4f249f6aa40',{});}).then(function(){Plotly.animate('f1d07417-6b1a-4756-bafb-e4f249f6aa40');})\n",
       "        });</script>"
      ]
     },
     "metadata": {},
     "output_type": "display_data"
    }
   ],
   "source": [
    "data_dict = {'24h内未完成数据反馈项目数':['24h内未完成数据反馈项目数'],'反馈延期个性化数':['反馈延期个性化数']}\n",
    "myModule.plot( all_dict_2, data_dict, '负责人','line' , all='all')"
   ]
  },
  {
   "cell_type": "markdown",
   "metadata": {},
   "source": [
    "### 延期率"
   ]
  },
  {
   "cell_type": "code",
   "execution_count": 73,
   "metadata": {},
   "outputs": [
    {
     "data": {
      "application/vnd.plotly.v1+json": {
       "data": [
        {
         "name": "商业项目延期率",
         "type": "scatter",
         "uid": "f42aeac2-c202-11e8-ac6a-509a4c0f1ffc",
         "x": [
          "9-2",
          "9-3"
         ],
         "y": [
          0,
          0
         ]
        },
        {
         "name": "个性化项目延期率",
         "type": "scatter",
         "uid": "f42b11d2-c202-11e8-a60f-509a4c0f1ffc",
         "x": [
          "9-2",
          "9-3"
         ],
         "y": [
          0.0625,
          0
         ]
        },
        {
         "name": "总延期率",
         "type": "scatter",
         "uid": "f42b11d3-c202-11e8-bfc7-509a4c0f1ffc",
         "x": [
          "9-2",
          "9-3"
         ],
         "y": [
          0.03333333333333333,
          0
         ]
        }
       ],
       "layout": {
        "title": "商业项目延期率&个性化项目延期率&总延期率周趋势图",
        "xaxis": {
         "mirror": "all",
         "nticks": 20,
         "showgrid": true,
         "showline": true,
         "title": "周",
         "zeroline": true
        },
        "yaxis": {
         "mirror": "all",
         "nticks": 20,
         "showgrid": true,
         "showline": true,
         "title": "商业项目延期率&个性化项目延期率&总延期率",
         "zeroline": true
        }
       }
      },
      "text/html": [
       "<div id=\"28ac82e8-53dc-40e0-bc26-3b847955717c\" style=\"height: 525px; width: 100%;\" class=\"plotly-graph-div\"></div><script type=\"text/javascript\">require([\"plotly\"], function(Plotly) { window.PLOTLYENV=window.PLOTLYENV || {};window.PLOTLYENV.BASE_URL=\"https://plot.ly\";\n",
       "        Plotly.plot(\n",
       "            '28ac82e8-53dc-40e0-bc26-3b847955717c',\n",
       "            [{\"name\": \"\\u5546\\u4e1a\\u9879\\u76ee\\u5ef6\\u671f\\u7387\", \"x\": [\"9-2\", \"9-3\"], \"y\": [0.0, 0.0], \"type\": \"scatter\", \"uid\": \"f42aeac2-c202-11e8-ac6a-509a4c0f1ffc\"}, {\"name\": \"\\u4e2a\\u6027\\u5316\\u9879\\u76ee\\u5ef6\\u671f\\u7387\", \"x\": [\"9-2\", \"9-3\"], \"y\": [0.0625, 0.0], \"type\": \"scatter\", \"uid\": \"f42b11d2-c202-11e8-a60f-509a4c0f1ffc\"}, {\"name\": \"\\u603b\\u5ef6\\u671f\\u7387\", \"x\": [\"9-2\", \"9-3\"], \"y\": [0.03333333333333333, 0.0], \"type\": \"scatter\", \"uid\": \"f42b11d3-c202-11e8-bfc7-509a4c0f1ffc\"}],\n",
       "            {\"title\": \"\\u5546\\u4e1a\\u9879\\u76ee\\u5ef6\\u671f\\u7387&\\u4e2a\\u6027\\u5316\\u9879\\u76ee\\u5ef6\\u671f\\u7387&\\u603b\\u5ef6\\u671f\\u7387\\u5468\\u8d8b\\u52bf\\u56fe\", \"xaxis\": {\"mirror\": \"all\", \"nticks\": 20, \"showgrid\": true, \"showline\": true, \"title\": \"\\u5468\", \"zeroline\": true}, \"yaxis\": {\"mirror\": \"all\", \"nticks\": 20, \"showgrid\": true, \"showline\": true, \"title\": \"\\u5546\\u4e1a\\u9879\\u76ee\\u5ef6\\u671f\\u7387&\\u4e2a\\u6027\\u5316\\u9879\\u76ee\\u5ef6\\u671f\\u7387&\\u603b\\u5ef6\\u671f\\u7387\", \"zeroline\": true}},\n",
       "            {\"showLink\": true, \"linkText\": \"Export to plot.ly\"}\n",
       "        ).then(function () {return Plotly.addFrames('28ac82e8-53dc-40e0-bc26-3b847955717c',{});}).then(function(){Plotly.animate('28ac82e8-53dc-40e0-bc26-3b847955717c');})\n",
       "        });</script>"
      ],
      "text/vnd.plotly.v1+html": [
       "<div id=\"28ac82e8-53dc-40e0-bc26-3b847955717c\" style=\"height: 525px; width: 100%;\" class=\"plotly-graph-div\"></div><script type=\"text/javascript\">require([\"plotly\"], function(Plotly) { window.PLOTLYENV=window.PLOTLYENV || {};window.PLOTLYENV.BASE_URL=\"https://plot.ly\";\n",
       "        Plotly.plot(\n",
       "            '28ac82e8-53dc-40e0-bc26-3b847955717c',\n",
       "            [{\"name\": \"\\u5546\\u4e1a\\u9879\\u76ee\\u5ef6\\u671f\\u7387\", \"x\": [\"9-2\", \"9-3\"], \"y\": [0.0, 0.0], \"type\": \"scatter\", \"uid\": \"f42aeac2-c202-11e8-ac6a-509a4c0f1ffc\"}, {\"name\": \"\\u4e2a\\u6027\\u5316\\u9879\\u76ee\\u5ef6\\u671f\\u7387\", \"x\": [\"9-2\", \"9-3\"], \"y\": [0.0625, 0.0], \"type\": \"scatter\", \"uid\": \"f42b11d2-c202-11e8-a60f-509a4c0f1ffc\"}, {\"name\": \"\\u603b\\u5ef6\\u671f\\u7387\", \"x\": [\"9-2\", \"9-3\"], \"y\": [0.03333333333333333, 0.0], \"type\": \"scatter\", \"uid\": \"f42b11d3-c202-11e8-bfc7-509a4c0f1ffc\"}],\n",
       "            {\"title\": \"\\u5546\\u4e1a\\u9879\\u76ee\\u5ef6\\u671f\\u7387&\\u4e2a\\u6027\\u5316\\u9879\\u76ee\\u5ef6\\u671f\\u7387&\\u603b\\u5ef6\\u671f\\u7387\\u5468\\u8d8b\\u52bf\\u56fe\", \"xaxis\": {\"mirror\": \"all\", \"nticks\": 20, \"showgrid\": true, \"showline\": true, \"title\": \"\\u5468\", \"zeroline\": true}, \"yaxis\": {\"mirror\": \"all\", \"nticks\": 20, \"showgrid\": true, \"showline\": true, \"title\": \"\\u5546\\u4e1a\\u9879\\u76ee\\u5ef6\\u671f\\u7387&\\u4e2a\\u6027\\u5316\\u9879\\u76ee\\u5ef6\\u671f\\u7387&\\u603b\\u5ef6\\u671f\\u7387\", \"zeroline\": true}},\n",
       "            {\"showLink\": true, \"linkText\": \"Export to plot.ly\"}\n",
       "        ).then(function () {return Plotly.addFrames('28ac82e8-53dc-40e0-bc26-3b847955717c',{});}).then(function(){Plotly.animate('28ac82e8-53dc-40e0-bc26-3b847955717c');})\n",
       "        });</script>"
      ]
     },
     "metadata": {},
     "output_type": "display_data"
    },
    {
     "data": {
      "application/vnd.plotly.v1+json": {
       "data": [
        {
         "name": "商业项目延期率",
         "type": "scatter",
         "uid": "f43487b4-c202-11e8-a25f-509a4c0f1ffc",
         "x": [
          "9"
         ],
         "y": [
          0
         ]
        },
        {
         "name": "个性化项目延期率",
         "type": "scatter",
         "uid": "f43487b5-c202-11e8-9284-509a4c0f1ffc",
         "x": [
          "9"
         ],
         "y": [
          0.047619047619047616
         ]
        },
        {
         "name": "总延期率",
         "type": "scatter",
         "uid": "f43487b6-c202-11e8-a574-509a4c0f1ffc",
         "x": [
          "9"
         ],
         "y": [
          0.0196078431372549
         ]
        }
       ],
       "layout": {
        "title": "商业项目延期率&个性化项目延期率&总延期率月趋势图",
        "xaxis": {
         "mirror": "all",
         "nticks": 20,
         "showgrid": true,
         "showline": true,
         "title": "月",
         "zeroline": true
        },
        "yaxis": {
         "mirror": "all",
         "nticks": 20,
         "showgrid": true,
         "showline": true,
         "title": "商业项目延期率&个性化项目延期率&总延期率",
         "zeroline": true
        }
       }
      },
      "text/html": [
       "<div id=\"835979ca-dafc-42c8-b208-bebf430954de\" style=\"height: 525px; width: 100%;\" class=\"plotly-graph-div\"></div><script type=\"text/javascript\">require([\"plotly\"], function(Plotly) { window.PLOTLYENV=window.PLOTLYENV || {};window.PLOTLYENV.BASE_URL=\"https://plot.ly\";\n",
       "        Plotly.plot(\n",
       "            '835979ca-dafc-42c8-b208-bebf430954de',\n",
       "            [{\"name\": \"\\u5546\\u4e1a\\u9879\\u76ee\\u5ef6\\u671f\\u7387\", \"x\": [\"9\"], \"y\": [0.0], \"type\": \"scatter\", \"uid\": \"f43487b4-c202-11e8-a25f-509a4c0f1ffc\"}, {\"name\": \"\\u4e2a\\u6027\\u5316\\u9879\\u76ee\\u5ef6\\u671f\\u7387\", \"x\": [\"9\"], \"y\": [0.047619047619047616], \"type\": \"scatter\", \"uid\": \"f43487b5-c202-11e8-9284-509a4c0f1ffc\"}, {\"name\": \"\\u603b\\u5ef6\\u671f\\u7387\", \"x\": [\"9\"], \"y\": [0.0196078431372549], \"type\": \"scatter\", \"uid\": \"f43487b6-c202-11e8-a574-509a4c0f1ffc\"}],\n",
       "            {\"title\": \"\\u5546\\u4e1a\\u9879\\u76ee\\u5ef6\\u671f\\u7387&\\u4e2a\\u6027\\u5316\\u9879\\u76ee\\u5ef6\\u671f\\u7387&\\u603b\\u5ef6\\u671f\\u7387\\u6708\\u8d8b\\u52bf\\u56fe\", \"xaxis\": {\"mirror\": \"all\", \"nticks\": 20, \"showgrid\": true, \"showline\": true, \"title\": \"\\u6708\", \"zeroline\": true}, \"yaxis\": {\"mirror\": \"all\", \"nticks\": 20, \"showgrid\": true, \"showline\": true, \"title\": \"\\u5546\\u4e1a\\u9879\\u76ee\\u5ef6\\u671f\\u7387&\\u4e2a\\u6027\\u5316\\u9879\\u76ee\\u5ef6\\u671f\\u7387&\\u603b\\u5ef6\\u671f\\u7387\", \"zeroline\": true}},\n",
       "            {\"showLink\": true, \"linkText\": \"Export to plot.ly\"}\n",
       "        ).then(function () {return Plotly.addFrames('835979ca-dafc-42c8-b208-bebf430954de',{});}).then(function(){Plotly.animate('835979ca-dafc-42c8-b208-bebf430954de');})\n",
       "        });</script>"
      ],
      "text/vnd.plotly.v1+html": [
       "<div id=\"835979ca-dafc-42c8-b208-bebf430954de\" style=\"height: 525px; width: 100%;\" class=\"plotly-graph-div\"></div><script type=\"text/javascript\">require([\"plotly\"], function(Plotly) { window.PLOTLYENV=window.PLOTLYENV || {};window.PLOTLYENV.BASE_URL=\"https://plot.ly\";\n",
       "        Plotly.plot(\n",
       "            '835979ca-dafc-42c8-b208-bebf430954de',\n",
       "            [{\"name\": \"\\u5546\\u4e1a\\u9879\\u76ee\\u5ef6\\u671f\\u7387\", \"x\": [\"9\"], \"y\": [0.0], \"type\": \"scatter\", \"uid\": \"f43487b4-c202-11e8-a25f-509a4c0f1ffc\"}, {\"name\": \"\\u4e2a\\u6027\\u5316\\u9879\\u76ee\\u5ef6\\u671f\\u7387\", \"x\": [\"9\"], \"y\": [0.047619047619047616], \"type\": \"scatter\", \"uid\": \"f43487b5-c202-11e8-9284-509a4c0f1ffc\"}, {\"name\": \"\\u603b\\u5ef6\\u671f\\u7387\", \"x\": [\"9\"], \"y\": [0.0196078431372549], \"type\": \"scatter\", \"uid\": \"f43487b6-c202-11e8-a574-509a4c0f1ffc\"}],\n",
       "            {\"title\": \"\\u5546\\u4e1a\\u9879\\u76ee\\u5ef6\\u671f\\u7387&\\u4e2a\\u6027\\u5316\\u9879\\u76ee\\u5ef6\\u671f\\u7387&\\u603b\\u5ef6\\u671f\\u7387\\u6708\\u8d8b\\u52bf\\u56fe\", \"xaxis\": {\"mirror\": \"all\", \"nticks\": 20, \"showgrid\": true, \"showline\": true, \"title\": \"\\u6708\", \"zeroline\": true}, \"yaxis\": {\"mirror\": \"all\", \"nticks\": 20, \"showgrid\": true, \"showline\": true, \"title\": \"\\u5546\\u4e1a\\u9879\\u76ee\\u5ef6\\u671f\\u7387&\\u4e2a\\u6027\\u5316\\u9879\\u76ee\\u5ef6\\u671f\\u7387&\\u603b\\u5ef6\\u671f\\u7387\", \"zeroline\": true}},\n",
       "            {\"showLink\": true, \"linkText\": \"Export to plot.ly\"}\n",
       "        ).then(function () {return Plotly.addFrames('835979ca-dafc-42c8-b208-bebf430954de',{});}).then(function(){Plotly.animate('835979ca-dafc-42c8-b208-bebf430954de');})\n",
       "        });</script>"
      ]
     },
     "metadata": {},
     "output_type": "display_data"
    }
   ],
   "source": [
    "data_dict = {'商业项目延期率':['延期商业项目数', '总商业项目数'], '个性化项目延期率':['延期个性化项目数', '总个性化数'],'总延期率':['总延期项目数', '总项目数']}\n",
    "myModule.plot( all_dict_2, data_dict, '负责人' ,  'line' , all='all')"
   ]
  },
  {
   "cell_type": "markdown",
   "metadata": {},
   "source": [
    "### 反馈延期率"
   ]
  },
  {
   "cell_type": "code",
   "execution_count": 74,
   "metadata": {},
   "outputs": [
    {
     "data": {
      "application/vnd.plotly.v1+json": {
       "data": [
        {
         "name": "数据反馈延期率",
         "type": "scatter",
         "uid": "f47d7792-c202-11e8-96ed-509a4c0f1ffc",
         "x": [
          "9-2",
          "9-3"
         ],
         "y": [
          0.029411764705882353,
          0
         ]
        },
        {
         "name": "个性化反馈延期率",
         "type": "scatter",
         "uid": "f47d7793-c202-11e8-9cdb-509a4c0f1ffc",
         "x": [
          "9-2",
          "9-3"
         ],
         "y": [
          0.1,
          0
         ]
        }
       ],
       "layout": {
        "title": "数据反馈延期率&个性化反馈延期率周趋势图",
        "xaxis": {
         "mirror": "all",
         "nticks": 20,
         "showgrid": true,
         "showline": true,
         "title": "周",
         "zeroline": true
        },
        "yaxis": {
         "mirror": "all",
         "nticks": 20,
         "showgrid": true,
         "showline": true,
         "title": "数据反馈延期率&个性化反馈延期率",
         "zeroline": true
        }
       }
      },
      "text/html": [
       "<div id=\"b0f4c219-d27c-45f2-b797-aa826aed1b01\" style=\"height: 525px; width: 100%;\" class=\"plotly-graph-div\"></div><script type=\"text/javascript\">require([\"plotly\"], function(Plotly) { window.PLOTLYENV=window.PLOTLYENV || {};window.PLOTLYENV.BASE_URL=\"https://plot.ly\";\n",
       "        Plotly.plot(\n",
       "            'b0f4c219-d27c-45f2-b797-aa826aed1b01',\n",
       "            [{\"name\": \"\\u6570\\u636e\\u53cd\\u9988\\u5ef6\\u671f\\u7387\", \"x\": [\"9-2\", \"9-3\"], \"y\": [0.029411764705882353, 0.0], \"type\": \"scatter\", \"uid\": \"f47d7792-c202-11e8-96ed-509a4c0f1ffc\"}, {\"name\": \"\\u4e2a\\u6027\\u5316\\u53cd\\u9988\\u5ef6\\u671f\\u7387\", \"x\": [\"9-2\", \"9-3\"], \"y\": [0.1, 0.0], \"type\": \"scatter\", \"uid\": \"f47d7793-c202-11e8-9cdb-509a4c0f1ffc\"}],\n",
       "            {\"title\": \"\\u6570\\u636e\\u53cd\\u9988\\u5ef6\\u671f\\u7387&\\u4e2a\\u6027\\u5316\\u53cd\\u9988\\u5ef6\\u671f\\u7387\\u5468\\u8d8b\\u52bf\\u56fe\", \"xaxis\": {\"mirror\": \"all\", \"nticks\": 20, \"showgrid\": true, \"showline\": true, \"title\": \"\\u5468\", \"zeroline\": true}, \"yaxis\": {\"mirror\": \"all\", \"nticks\": 20, \"showgrid\": true, \"showline\": true, \"title\": \"\\u6570\\u636e\\u53cd\\u9988\\u5ef6\\u671f\\u7387&\\u4e2a\\u6027\\u5316\\u53cd\\u9988\\u5ef6\\u671f\\u7387\", \"zeroline\": true}},\n",
       "            {\"showLink\": true, \"linkText\": \"Export to plot.ly\"}\n",
       "        ).then(function () {return Plotly.addFrames('b0f4c219-d27c-45f2-b797-aa826aed1b01',{});}).then(function(){Plotly.animate('b0f4c219-d27c-45f2-b797-aa826aed1b01');})\n",
       "        });</script>"
      ],
      "text/vnd.plotly.v1+html": [
       "<div id=\"b0f4c219-d27c-45f2-b797-aa826aed1b01\" style=\"height: 525px; width: 100%;\" class=\"plotly-graph-div\"></div><script type=\"text/javascript\">require([\"plotly\"], function(Plotly) { window.PLOTLYENV=window.PLOTLYENV || {};window.PLOTLYENV.BASE_URL=\"https://plot.ly\";\n",
       "        Plotly.plot(\n",
       "            'b0f4c219-d27c-45f2-b797-aa826aed1b01',\n",
       "            [{\"name\": \"\\u6570\\u636e\\u53cd\\u9988\\u5ef6\\u671f\\u7387\", \"x\": [\"9-2\", \"9-3\"], \"y\": [0.029411764705882353, 0.0], \"type\": \"scatter\", \"uid\": \"f47d7792-c202-11e8-96ed-509a4c0f1ffc\"}, {\"name\": \"\\u4e2a\\u6027\\u5316\\u53cd\\u9988\\u5ef6\\u671f\\u7387\", \"x\": [\"9-2\", \"9-3\"], \"y\": [0.1, 0.0], \"type\": \"scatter\", \"uid\": \"f47d7793-c202-11e8-9cdb-509a4c0f1ffc\"}],\n",
       "            {\"title\": \"\\u6570\\u636e\\u53cd\\u9988\\u5ef6\\u671f\\u7387&\\u4e2a\\u6027\\u5316\\u53cd\\u9988\\u5ef6\\u671f\\u7387\\u5468\\u8d8b\\u52bf\\u56fe\", \"xaxis\": {\"mirror\": \"all\", \"nticks\": 20, \"showgrid\": true, \"showline\": true, \"title\": \"\\u5468\", \"zeroline\": true}, \"yaxis\": {\"mirror\": \"all\", \"nticks\": 20, \"showgrid\": true, \"showline\": true, \"title\": \"\\u6570\\u636e\\u53cd\\u9988\\u5ef6\\u671f\\u7387&\\u4e2a\\u6027\\u5316\\u53cd\\u9988\\u5ef6\\u671f\\u7387\", \"zeroline\": true}},\n",
       "            {\"showLink\": true, \"linkText\": \"Export to plot.ly\"}\n",
       "        ).then(function () {return Plotly.addFrames('b0f4c219-d27c-45f2-b797-aa826aed1b01',{});}).then(function(){Plotly.animate('b0f4c219-d27c-45f2-b797-aa826aed1b01');})\n",
       "        });</script>"
      ]
     },
     "metadata": {},
     "output_type": "display_data"
    },
    {
     "data": {
      "application/vnd.plotly.v1+json": {
       "data": [
        {
         "name": "数据反馈延期率",
         "type": "scatter",
         "uid": "f485b4f4-c202-11e8-a491-509a4c0f1ffc",
         "x": [
          "9"
         ],
         "y": [
          0.022222222222222223
         ]
        },
        {
         "name": "个性化反馈延期率",
         "type": "scatter",
         "uid": "f485b4f5-c202-11e8-8633-509a4c0f1ffc",
         "x": [
          "9"
         ],
         "y": [
          0.06666666666666667
         ]
        }
       ],
       "layout": {
        "title": "数据反馈延期率&个性化反馈延期率月趋势图",
        "xaxis": {
         "mirror": "all",
         "nticks": 20,
         "showgrid": true,
         "showline": true,
         "title": "月",
         "zeroline": true
        },
        "yaxis": {
         "mirror": "all",
         "nticks": 20,
         "showgrid": true,
         "showline": true,
         "title": "数据反馈延期率&个性化反馈延期率",
         "zeroline": true
        }
       }
      },
      "text/html": [
       "<div id=\"0293f797-08ab-4135-ae4b-c06ef6ef5a8e\" style=\"height: 525px; width: 100%;\" class=\"plotly-graph-div\"></div><script type=\"text/javascript\">require([\"plotly\"], function(Plotly) { window.PLOTLYENV=window.PLOTLYENV || {};window.PLOTLYENV.BASE_URL=\"https://plot.ly\";\n",
       "        Plotly.plot(\n",
       "            '0293f797-08ab-4135-ae4b-c06ef6ef5a8e',\n",
       "            [{\"name\": \"\\u6570\\u636e\\u53cd\\u9988\\u5ef6\\u671f\\u7387\", \"x\": [\"9\"], \"y\": [0.022222222222222223], \"type\": \"scatter\", \"uid\": \"f485b4f4-c202-11e8-a491-509a4c0f1ffc\"}, {\"name\": \"\\u4e2a\\u6027\\u5316\\u53cd\\u9988\\u5ef6\\u671f\\u7387\", \"x\": [\"9\"], \"y\": [0.06666666666666667], \"type\": \"scatter\", \"uid\": \"f485b4f5-c202-11e8-8633-509a4c0f1ffc\"}],\n",
       "            {\"title\": \"\\u6570\\u636e\\u53cd\\u9988\\u5ef6\\u671f\\u7387&\\u4e2a\\u6027\\u5316\\u53cd\\u9988\\u5ef6\\u671f\\u7387\\u6708\\u8d8b\\u52bf\\u56fe\", \"xaxis\": {\"mirror\": \"all\", \"nticks\": 20, \"showgrid\": true, \"showline\": true, \"title\": \"\\u6708\", \"zeroline\": true}, \"yaxis\": {\"mirror\": \"all\", \"nticks\": 20, \"showgrid\": true, \"showline\": true, \"title\": \"\\u6570\\u636e\\u53cd\\u9988\\u5ef6\\u671f\\u7387&\\u4e2a\\u6027\\u5316\\u53cd\\u9988\\u5ef6\\u671f\\u7387\", \"zeroline\": true}},\n",
       "            {\"showLink\": true, \"linkText\": \"Export to plot.ly\"}\n",
       "        ).then(function () {return Plotly.addFrames('0293f797-08ab-4135-ae4b-c06ef6ef5a8e',{});}).then(function(){Plotly.animate('0293f797-08ab-4135-ae4b-c06ef6ef5a8e');})\n",
       "        });</script>"
      ],
      "text/vnd.plotly.v1+html": [
       "<div id=\"0293f797-08ab-4135-ae4b-c06ef6ef5a8e\" style=\"height: 525px; width: 100%;\" class=\"plotly-graph-div\"></div><script type=\"text/javascript\">require([\"plotly\"], function(Plotly) { window.PLOTLYENV=window.PLOTLYENV || {};window.PLOTLYENV.BASE_URL=\"https://plot.ly\";\n",
       "        Plotly.plot(\n",
       "            '0293f797-08ab-4135-ae4b-c06ef6ef5a8e',\n",
       "            [{\"name\": \"\\u6570\\u636e\\u53cd\\u9988\\u5ef6\\u671f\\u7387\", \"x\": [\"9\"], \"y\": [0.022222222222222223], \"type\": \"scatter\", \"uid\": \"f485b4f4-c202-11e8-a491-509a4c0f1ffc\"}, {\"name\": \"\\u4e2a\\u6027\\u5316\\u53cd\\u9988\\u5ef6\\u671f\\u7387\", \"x\": [\"9\"], \"y\": [0.06666666666666667], \"type\": \"scatter\", \"uid\": \"f485b4f5-c202-11e8-8633-509a4c0f1ffc\"}],\n",
       "            {\"title\": \"\\u6570\\u636e\\u53cd\\u9988\\u5ef6\\u671f\\u7387&\\u4e2a\\u6027\\u5316\\u53cd\\u9988\\u5ef6\\u671f\\u7387\\u6708\\u8d8b\\u52bf\\u56fe\", \"xaxis\": {\"mirror\": \"all\", \"nticks\": 20, \"showgrid\": true, \"showline\": true, \"title\": \"\\u6708\", \"zeroline\": true}, \"yaxis\": {\"mirror\": \"all\", \"nticks\": 20, \"showgrid\": true, \"showline\": true, \"title\": \"\\u6570\\u636e\\u53cd\\u9988\\u5ef6\\u671f\\u7387&\\u4e2a\\u6027\\u5316\\u53cd\\u9988\\u5ef6\\u671f\\u7387\", \"zeroline\": true}},\n",
       "            {\"showLink\": true, \"linkText\": \"Export to plot.ly\"}\n",
       "        ).then(function () {return Plotly.addFrames('0293f797-08ab-4135-ae4b-c06ef6ef5a8e',{});}).then(function(){Plotly.animate('0293f797-08ab-4135-ae4b-c06ef6ef5a8e');})\n",
       "        });</script>"
      ]
     },
     "metadata": {},
     "output_type": "display_data"
    }
   ],
   "source": [
    "data_dict = {'数据反馈延期率':['24h内未完成数据反馈项目数', '下机项目数'], '个性化反馈延期率':['反馈延期个性化数', '接入个性化数']}\n",
    "myModule.plot( all_dict_2, data_dict, '负责人' ,  'line' , all='all')"
   ]
  },
  {
   "cell_type": "markdown",
   "metadata": {},
   "source": [
    "### 交付延期率"
   ]
  },
  {
   "cell_type": "code",
   "execution_count": 75,
   "metadata": {},
   "outputs": [
    {
     "data": {
      "application/vnd.plotly.v1+json": {
       "data": [
        {
         "name": "交付延期率",
         "type": "scatter",
         "uid": "f4cd4542-c202-11e8-8a24-509a4c0f1ffc",
         "x": [
          "9-2",
          "9-3"
         ],
         "y": [
          0,
          0
         ]
        }
       ],
       "layout": {
        "title": "交付延期率周趋势图",
        "xaxis": {
         "mirror": "all",
         "nticks": 20,
         "showgrid": true,
         "showline": true,
         "title": "周",
         "zeroline": true
        },
        "yaxis": {
         "mirror": "all",
         "nticks": 20,
         "showgrid": true,
         "showline": true,
         "title": "交付延期率",
         "zeroline": true
        }
       }
      },
      "text/html": [
       "<div id=\"e0b06445-018c-4c4f-ba48-a539c5a3025a\" style=\"height: 525px; width: 100%;\" class=\"plotly-graph-div\"></div><script type=\"text/javascript\">require([\"plotly\"], function(Plotly) { window.PLOTLYENV=window.PLOTLYENV || {};window.PLOTLYENV.BASE_URL=\"https://plot.ly\";\n",
       "        Plotly.plot(\n",
       "            'e0b06445-018c-4c4f-ba48-a539c5a3025a',\n",
       "            [{\"name\": \"\\u4ea4\\u4ed8\\u5ef6\\u671f\\u7387\", \"x\": [\"9-2\", \"9-3\"], \"y\": [0.0, 0.0], \"type\": \"scatter\", \"uid\": \"f4cd4542-c202-11e8-8a24-509a4c0f1ffc\"}],\n",
       "            {\"title\": \"\\u4ea4\\u4ed8\\u5ef6\\u671f\\u7387\\u5468\\u8d8b\\u52bf\\u56fe\", \"xaxis\": {\"mirror\": \"all\", \"nticks\": 20, \"showgrid\": true, \"showline\": true, \"title\": \"\\u5468\", \"zeroline\": true}, \"yaxis\": {\"mirror\": \"all\", \"nticks\": 20, \"showgrid\": true, \"showline\": true, \"title\": \"\\u4ea4\\u4ed8\\u5ef6\\u671f\\u7387\", \"zeroline\": true}},\n",
       "            {\"showLink\": true, \"linkText\": \"Export to plot.ly\"}\n",
       "        ).then(function () {return Plotly.addFrames('e0b06445-018c-4c4f-ba48-a539c5a3025a',{});}).then(function(){Plotly.animate('e0b06445-018c-4c4f-ba48-a539c5a3025a');})\n",
       "        });</script>"
      ],
      "text/vnd.plotly.v1+html": [
       "<div id=\"e0b06445-018c-4c4f-ba48-a539c5a3025a\" style=\"height: 525px; width: 100%;\" class=\"plotly-graph-div\"></div><script type=\"text/javascript\">require([\"plotly\"], function(Plotly) { window.PLOTLYENV=window.PLOTLYENV || {};window.PLOTLYENV.BASE_URL=\"https://plot.ly\";\n",
       "        Plotly.plot(\n",
       "            'e0b06445-018c-4c4f-ba48-a539c5a3025a',\n",
       "            [{\"name\": \"\\u4ea4\\u4ed8\\u5ef6\\u671f\\u7387\", \"x\": [\"9-2\", \"9-3\"], \"y\": [0.0, 0.0], \"type\": \"scatter\", \"uid\": \"f4cd4542-c202-11e8-8a24-509a4c0f1ffc\"}],\n",
       "            {\"title\": \"\\u4ea4\\u4ed8\\u5ef6\\u671f\\u7387\\u5468\\u8d8b\\u52bf\\u56fe\", \"xaxis\": {\"mirror\": \"all\", \"nticks\": 20, \"showgrid\": true, \"showline\": true, \"title\": \"\\u5468\", \"zeroline\": true}, \"yaxis\": {\"mirror\": \"all\", \"nticks\": 20, \"showgrid\": true, \"showline\": true, \"title\": \"\\u4ea4\\u4ed8\\u5ef6\\u671f\\u7387\", \"zeroline\": true}},\n",
       "            {\"showLink\": true, \"linkText\": \"Export to plot.ly\"}\n",
       "        ).then(function () {return Plotly.addFrames('e0b06445-018c-4c4f-ba48-a539c5a3025a',{});}).then(function(){Plotly.animate('e0b06445-018c-4c4f-ba48-a539c5a3025a');})\n",
       "        });</script>"
      ]
     },
     "metadata": {},
     "output_type": "display_data"
    },
    {
     "data": {
      "application/vnd.plotly.v1+json": {
       "data": [
        {
         "name": "交付延期率",
         "type": "scatter",
         "uid": "f4d44a22-c202-11e8-b159-509a4c0f1ffc",
         "x": [
          "9"
         ],
         "y": [
          0
         ]
        }
       ],
       "layout": {
        "title": "交付延期率月趋势图",
        "xaxis": {
         "mirror": "all",
         "nticks": 20,
         "showgrid": true,
         "showline": true,
         "title": "月",
         "zeroline": true
        },
        "yaxis": {
         "mirror": "all",
         "nticks": 20,
         "showgrid": true,
         "showline": true,
         "title": "交付延期率",
         "zeroline": true
        }
       }
      },
      "text/html": [
       "<div id=\"c37b89e5-f6b1-4160-9e36-850960cd38cd\" style=\"height: 525px; width: 100%;\" class=\"plotly-graph-div\"></div><script type=\"text/javascript\">require([\"plotly\"], function(Plotly) { window.PLOTLYENV=window.PLOTLYENV || {};window.PLOTLYENV.BASE_URL=\"https://plot.ly\";\n",
       "        Plotly.plot(\n",
       "            'c37b89e5-f6b1-4160-9e36-850960cd38cd',\n",
       "            [{\"name\": \"\\u4ea4\\u4ed8\\u5ef6\\u671f\\u7387\", \"x\": [\"9\"], \"y\": [0.0], \"type\": \"scatter\", \"uid\": \"f4d44a22-c202-11e8-b159-509a4c0f1ffc\"}],\n",
       "            {\"title\": \"\\u4ea4\\u4ed8\\u5ef6\\u671f\\u7387\\u6708\\u8d8b\\u52bf\\u56fe\", \"xaxis\": {\"mirror\": \"all\", \"nticks\": 20, \"showgrid\": true, \"showline\": true, \"title\": \"\\u6708\", \"zeroline\": true}, \"yaxis\": {\"mirror\": \"all\", \"nticks\": 20, \"showgrid\": true, \"showline\": true, \"title\": \"\\u4ea4\\u4ed8\\u5ef6\\u671f\\u7387\", \"zeroline\": true}},\n",
       "            {\"showLink\": true, \"linkText\": \"Export to plot.ly\"}\n",
       "        ).then(function () {return Plotly.addFrames('c37b89e5-f6b1-4160-9e36-850960cd38cd',{});}).then(function(){Plotly.animate('c37b89e5-f6b1-4160-9e36-850960cd38cd');})\n",
       "        });</script>"
      ],
      "text/vnd.plotly.v1+html": [
       "<div id=\"c37b89e5-f6b1-4160-9e36-850960cd38cd\" style=\"height: 525px; width: 100%;\" class=\"plotly-graph-div\"></div><script type=\"text/javascript\">require([\"plotly\"], function(Plotly) { window.PLOTLYENV=window.PLOTLYENV || {};window.PLOTLYENV.BASE_URL=\"https://plot.ly\";\n",
       "        Plotly.plot(\n",
       "            'c37b89e5-f6b1-4160-9e36-850960cd38cd',\n",
       "            [{\"name\": \"\\u4ea4\\u4ed8\\u5ef6\\u671f\\u7387\", \"x\": [\"9\"], \"y\": [0.0], \"type\": \"scatter\", \"uid\": \"f4d44a22-c202-11e8-b159-509a4c0f1ffc\"}],\n",
       "            {\"title\": \"\\u4ea4\\u4ed8\\u5ef6\\u671f\\u7387\\u6708\\u8d8b\\u52bf\\u56fe\", \"xaxis\": {\"mirror\": \"all\", \"nticks\": 20, \"showgrid\": true, \"showline\": true, \"title\": \"\\u6708\", \"zeroline\": true}, \"yaxis\": {\"mirror\": \"all\", \"nticks\": 20, \"showgrid\": true, \"showline\": true, \"title\": \"\\u4ea4\\u4ed8\\u5ef6\\u671f\\u7387\", \"zeroline\": true}},\n",
       "            {\"showLink\": true, \"linkText\": \"Export to plot.ly\"}\n",
       "        ).then(function () {return Plotly.addFrames('c37b89e5-f6b1-4160-9e36-850960cd38cd',{});}).then(function(){Plotly.animate('c37b89e5-f6b1-4160-9e36-850960cd38cd');})\n",
       "        });</script>"
      ]
     },
     "metadata": {},
     "output_type": "display_data"
    }
   ],
   "source": [
    "data_dict = {'交付延期率':['24h内未完成数据交付项目数', '待交付项目数']}\n",
    "myModule.plot( all_dict_2, data_dict, '负责人' ,  'line' , all='all')"
   ]
  },
  {
   "cell_type": "markdown",
   "metadata": {
    "hide_input": true
   },
   "source": [
    "## 各组情况"
   ]
  },
  {
   "cell_type": "markdown",
   "metadata": {},
   "source": [
    "### 各组完成商业项目数"
   ]
  },
  {
   "cell_type": "code",
   "execution_count": 76,
   "metadata": {},
   "outputs": [
    {
     "data": {
      "application/vnd.plotly.v1+json": {
       "data": [
        {
         "name": "生物学DNA组_完成商业项目数",
         "type": "scatter",
         "uid": "f51e9992-c202-11e8-a241-509a4c0f1ffc",
         "x": [
          "9-2",
          "9-3"
         ],
         "y": [
          13,
          6
         ]
        },
        {
         "name": "生物学DNA组_完成个性化数",
         "type": "scatter",
         "uid": "f51e9993-c202-11e8-932b-509a4c0f1ffc",
         "x": [
          "9-2",
          "9-3"
         ],
         "y": [
          12,
          2
         ]
        },
        {
         "name": "蛋白和医学组_完成商业项目数",
         "type": "scatter",
         "uid": "f51e9994-c202-11e8-a815-509a4c0f1ffc",
         "x": [
          "9-2",
          "9-3"
         ],
         "y": [
          1,
          2
         ]
        },
        {
         "name": "蛋白和医学组_完成个性化数",
         "type": "scatter",
         "uid": "f51e9995-c202-11e8-a603-509a4c0f1ffc",
         "x": [
          "9-2",
          "9-3"
         ],
         "y": [
          1,
          2
         ]
        },
        {
         "name": "转录调控组_完成商业项目数",
         "type": "scatter",
         "uid": "f51e9996-c202-11e8-b251-509a4c0f1ffc",
         "x": [
          "9-2",
          "9-3"
         ],
         "y": [
          0,
          0
         ]
        },
        {
         "name": "转录调控组_完成个性化数",
         "type": "scatter",
         "uid": "f51e9997-c202-11e8-adb3-509a4c0f1ffc",
         "x": [
          "9-2",
          "9-3"
         ],
         "y": [
          2,
          2
         ]
        }
       ],
       "layout": {
        "title": "完成商业项目数&完成个性化数周趋势图",
        "xaxis": {
         "mirror": "all",
         "nticks": 20,
         "showgrid": true,
         "showline": true,
         "title": "周",
         "zeroline": true
        },
        "yaxis": {
         "mirror": "all",
         "nticks": 20,
         "showgrid": true,
         "showline": true,
         "title": "完成商业项目数&完成个性化数",
         "zeroline": true
        }
       }
      },
      "text/html": [
       "<div id=\"87cd1560-6bf9-4951-a205-fe9aae647eb5\" style=\"height: 525px; width: 100%;\" class=\"plotly-graph-div\"></div><script type=\"text/javascript\">require([\"plotly\"], function(Plotly) { window.PLOTLYENV=window.PLOTLYENV || {};window.PLOTLYENV.BASE_URL=\"https://plot.ly\";\n",
       "        Plotly.plot(\n",
       "            '87cd1560-6bf9-4951-a205-fe9aae647eb5',\n",
       "            [{\"name\": \"\\u751f\\u7269\\u5b66DNA\\u7ec4_\\u5b8c\\u6210\\u5546\\u4e1a\\u9879\\u76ee\\u6570\", \"x\": [\"9-2\", \"9-3\"], \"y\": [13.0, 6.0], \"type\": \"scatter\", \"uid\": \"f51e9992-c202-11e8-a241-509a4c0f1ffc\"}, {\"name\": \"\\u751f\\u7269\\u5b66DNA\\u7ec4_\\u5b8c\\u6210\\u4e2a\\u6027\\u5316\\u6570\", \"x\": [\"9-2\", \"9-3\"], \"y\": [12.0, 2.0], \"type\": \"scatter\", \"uid\": \"f51e9993-c202-11e8-932b-509a4c0f1ffc\"}, {\"name\": \"\\u86cb\\u767d\\u548c\\u533b\\u5b66\\u7ec4_\\u5b8c\\u6210\\u5546\\u4e1a\\u9879\\u76ee\\u6570\", \"x\": [\"9-2\", \"9-3\"], \"y\": [1.0, 2.0], \"type\": \"scatter\", \"uid\": \"f51e9994-c202-11e8-a815-509a4c0f1ffc\"}, {\"name\": \"\\u86cb\\u767d\\u548c\\u533b\\u5b66\\u7ec4_\\u5b8c\\u6210\\u4e2a\\u6027\\u5316\\u6570\", \"x\": [\"9-2\", \"9-3\"], \"y\": [1.0, 2.0], \"type\": \"scatter\", \"uid\": \"f51e9995-c202-11e8-a603-509a4c0f1ffc\"}, {\"name\": \"\\u8f6c\\u5f55\\u8c03\\u63a7\\u7ec4_\\u5b8c\\u6210\\u5546\\u4e1a\\u9879\\u76ee\\u6570\", \"x\": [\"9-2\", \"9-3\"], \"y\": [0.0, 0.0], \"type\": \"scatter\", \"uid\": \"f51e9996-c202-11e8-b251-509a4c0f1ffc\"}, {\"name\": \"\\u8f6c\\u5f55\\u8c03\\u63a7\\u7ec4_\\u5b8c\\u6210\\u4e2a\\u6027\\u5316\\u6570\", \"x\": [\"9-2\", \"9-3\"], \"y\": [2.0, 2.0], \"type\": \"scatter\", \"uid\": \"f51e9997-c202-11e8-adb3-509a4c0f1ffc\"}],\n",
       "            {\"title\": \"\\u5b8c\\u6210\\u5546\\u4e1a\\u9879\\u76ee\\u6570&\\u5b8c\\u6210\\u4e2a\\u6027\\u5316\\u6570\\u5468\\u8d8b\\u52bf\\u56fe\", \"xaxis\": {\"mirror\": \"all\", \"nticks\": 20, \"showgrid\": true, \"showline\": true, \"title\": \"\\u5468\", \"zeroline\": true}, \"yaxis\": {\"mirror\": \"all\", \"nticks\": 20, \"showgrid\": true, \"showline\": true, \"title\": \"\\u5b8c\\u6210\\u5546\\u4e1a\\u9879\\u76ee\\u6570&\\u5b8c\\u6210\\u4e2a\\u6027\\u5316\\u6570\", \"zeroline\": true}},\n",
       "            {\"showLink\": true, \"linkText\": \"Export to plot.ly\"}\n",
       "        ).then(function () {return Plotly.addFrames('87cd1560-6bf9-4951-a205-fe9aae647eb5',{});}).then(function(){Plotly.animate('87cd1560-6bf9-4951-a205-fe9aae647eb5');})\n",
       "        });</script>"
      ],
      "text/vnd.plotly.v1+html": [
       "<div id=\"87cd1560-6bf9-4951-a205-fe9aae647eb5\" style=\"height: 525px; width: 100%;\" class=\"plotly-graph-div\"></div><script type=\"text/javascript\">require([\"plotly\"], function(Plotly) { window.PLOTLYENV=window.PLOTLYENV || {};window.PLOTLYENV.BASE_URL=\"https://plot.ly\";\n",
       "        Plotly.plot(\n",
       "            '87cd1560-6bf9-4951-a205-fe9aae647eb5',\n",
       "            [{\"name\": \"\\u751f\\u7269\\u5b66DNA\\u7ec4_\\u5b8c\\u6210\\u5546\\u4e1a\\u9879\\u76ee\\u6570\", \"x\": [\"9-2\", \"9-3\"], \"y\": [13.0, 6.0], \"type\": \"scatter\", \"uid\": \"f51e9992-c202-11e8-a241-509a4c0f1ffc\"}, {\"name\": \"\\u751f\\u7269\\u5b66DNA\\u7ec4_\\u5b8c\\u6210\\u4e2a\\u6027\\u5316\\u6570\", \"x\": [\"9-2\", \"9-3\"], \"y\": [12.0, 2.0], \"type\": \"scatter\", \"uid\": \"f51e9993-c202-11e8-932b-509a4c0f1ffc\"}, {\"name\": \"\\u86cb\\u767d\\u548c\\u533b\\u5b66\\u7ec4_\\u5b8c\\u6210\\u5546\\u4e1a\\u9879\\u76ee\\u6570\", \"x\": [\"9-2\", \"9-3\"], \"y\": [1.0, 2.0], \"type\": \"scatter\", \"uid\": \"f51e9994-c202-11e8-a815-509a4c0f1ffc\"}, {\"name\": \"\\u86cb\\u767d\\u548c\\u533b\\u5b66\\u7ec4_\\u5b8c\\u6210\\u4e2a\\u6027\\u5316\\u6570\", \"x\": [\"9-2\", \"9-3\"], \"y\": [1.0, 2.0], \"type\": \"scatter\", \"uid\": \"f51e9995-c202-11e8-a603-509a4c0f1ffc\"}, {\"name\": \"\\u8f6c\\u5f55\\u8c03\\u63a7\\u7ec4_\\u5b8c\\u6210\\u5546\\u4e1a\\u9879\\u76ee\\u6570\", \"x\": [\"9-2\", \"9-3\"], \"y\": [0.0, 0.0], \"type\": \"scatter\", \"uid\": \"f51e9996-c202-11e8-b251-509a4c0f1ffc\"}, {\"name\": \"\\u8f6c\\u5f55\\u8c03\\u63a7\\u7ec4_\\u5b8c\\u6210\\u4e2a\\u6027\\u5316\\u6570\", \"x\": [\"9-2\", \"9-3\"], \"y\": [2.0, 2.0], \"type\": \"scatter\", \"uid\": \"f51e9997-c202-11e8-adb3-509a4c0f1ffc\"}],\n",
       "            {\"title\": \"\\u5b8c\\u6210\\u5546\\u4e1a\\u9879\\u76ee\\u6570&\\u5b8c\\u6210\\u4e2a\\u6027\\u5316\\u6570\\u5468\\u8d8b\\u52bf\\u56fe\", \"xaxis\": {\"mirror\": \"all\", \"nticks\": 20, \"showgrid\": true, \"showline\": true, \"title\": \"\\u5468\", \"zeroline\": true}, \"yaxis\": {\"mirror\": \"all\", \"nticks\": 20, \"showgrid\": true, \"showline\": true, \"title\": \"\\u5b8c\\u6210\\u5546\\u4e1a\\u9879\\u76ee\\u6570&\\u5b8c\\u6210\\u4e2a\\u6027\\u5316\\u6570\", \"zeroline\": true}},\n",
       "            {\"showLink\": true, \"linkText\": \"Export to plot.ly\"}\n",
       "        ).then(function () {return Plotly.addFrames('87cd1560-6bf9-4951-a205-fe9aae647eb5',{});}).then(function(){Plotly.animate('87cd1560-6bf9-4951-a205-fe9aae647eb5');})\n",
       "        });</script>"
      ]
     },
     "metadata": {},
     "output_type": "display_data"
    },
    {
     "data": {
      "application/vnd.plotly.v1+json": {
       "data": [
        {
         "name": "生物学DNA组_完成商业项目数",
         "type": "scatter",
         "uid": "f5335a12-c202-11e8-bee0-509a4c0f1ffc",
         "x": [
          "9"
         ],
         "y": [
          19
         ]
        },
        {
         "name": "生物学DNA组_完成个性化数",
         "type": "scatter",
         "uid": "f5335a13-c202-11e8-964d-509a4c0f1ffc",
         "x": [
          "9"
         ],
         "y": [
          14
         ]
        },
        {
         "name": "蛋白和医学组_完成商业项目数",
         "type": "scatter",
         "uid": "f5335a14-c202-11e8-a61e-509a4c0f1ffc",
         "x": [
          "9"
         ],
         "y": [
          3
         ]
        },
        {
         "name": "蛋白和医学组_完成个性化数",
         "type": "scatter",
         "uid": "f5335a15-c202-11e8-bf48-509a4c0f1ffc",
         "x": [
          "9"
         ],
         "y": [
          3
         ]
        },
        {
         "name": "转录调控组_完成商业项目数",
         "type": "scatter",
         "uid": "f5335a16-c202-11e8-81c5-509a4c0f1ffc",
         "x": [
          "9"
         ],
         "y": [
          0
         ]
        },
        {
         "name": "转录调控组_完成个性化数",
         "type": "scatter",
         "uid": "f5335a17-c202-11e8-999a-509a4c0f1ffc",
         "x": [
          "9"
         ],
         "y": [
          4
         ]
        }
       ],
       "layout": {
        "title": "完成商业项目数&完成个性化数月趋势图",
        "xaxis": {
         "mirror": "all",
         "nticks": 20,
         "showgrid": true,
         "showline": true,
         "title": "月",
         "zeroline": true
        },
        "yaxis": {
         "mirror": "all",
         "nticks": 20,
         "showgrid": true,
         "showline": true,
         "title": "完成商业项目数&完成个性化数",
         "zeroline": true
        }
       }
      },
      "text/html": [
       "<div id=\"7622f6bf-3827-4037-b8ba-16007414c0f2\" style=\"height: 525px; width: 100%;\" class=\"plotly-graph-div\"></div><script type=\"text/javascript\">require([\"plotly\"], function(Plotly) { window.PLOTLYENV=window.PLOTLYENV || {};window.PLOTLYENV.BASE_URL=\"https://plot.ly\";\n",
       "        Plotly.plot(\n",
       "            '7622f6bf-3827-4037-b8ba-16007414c0f2',\n",
       "            [{\"name\": \"\\u751f\\u7269\\u5b66DNA\\u7ec4_\\u5b8c\\u6210\\u5546\\u4e1a\\u9879\\u76ee\\u6570\", \"x\": [\"9\"], \"y\": [19.0], \"type\": \"scatter\", \"uid\": \"f5335a12-c202-11e8-bee0-509a4c0f1ffc\"}, {\"name\": \"\\u751f\\u7269\\u5b66DNA\\u7ec4_\\u5b8c\\u6210\\u4e2a\\u6027\\u5316\\u6570\", \"x\": [\"9\"], \"y\": [14.0], \"type\": \"scatter\", \"uid\": \"f5335a13-c202-11e8-964d-509a4c0f1ffc\"}, {\"name\": \"\\u86cb\\u767d\\u548c\\u533b\\u5b66\\u7ec4_\\u5b8c\\u6210\\u5546\\u4e1a\\u9879\\u76ee\\u6570\", \"x\": [\"9\"], \"y\": [3.0], \"type\": \"scatter\", \"uid\": \"f5335a14-c202-11e8-a61e-509a4c0f1ffc\"}, {\"name\": \"\\u86cb\\u767d\\u548c\\u533b\\u5b66\\u7ec4_\\u5b8c\\u6210\\u4e2a\\u6027\\u5316\\u6570\", \"x\": [\"9\"], \"y\": [3.0], \"type\": \"scatter\", \"uid\": \"f5335a15-c202-11e8-bf48-509a4c0f1ffc\"}, {\"name\": \"\\u8f6c\\u5f55\\u8c03\\u63a7\\u7ec4_\\u5b8c\\u6210\\u5546\\u4e1a\\u9879\\u76ee\\u6570\", \"x\": [\"9\"], \"y\": [0.0], \"type\": \"scatter\", \"uid\": \"f5335a16-c202-11e8-81c5-509a4c0f1ffc\"}, {\"name\": \"\\u8f6c\\u5f55\\u8c03\\u63a7\\u7ec4_\\u5b8c\\u6210\\u4e2a\\u6027\\u5316\\u6570\", \"x\": [\"9\"], \"y\": [4.0], \"type\": \"scatter\", \"uid\": \"f5335a17-c202-11e8-999a-509a4c0f1ffc\"}],\n",
       "            {\"title\": \"\\u5b8c\\u6210\\u5546\\u4e1a\\u9879\\u76ee\\u6570&\\u5b8c\\u6210\\u4e2a\\u6027\\u5316\\u6570\\u6708\\u8d8b\\u52bf\\u56fe\", \"xaxis\": {\"mirror\": \"all\", \"nticks\": 20, \"showgrid\": true, \"showline\": true, \"title\": \"\\u6708\", \"zeroline\": true}, \"yaxis\": {\"mirror\": \"all\", \"nticks\": 20, \"showgrid\": true, \"showline\": true, \"title\": \"\\u5b8c\\u6210\\u5546\\u4e1a\\u9879\\u76ee\\u6570&\\u5b8c\\u6210\\u4e2a\\u6027\\u5316\\u6570\", \"zeroline\": true}},\n",
       "            {\"showLink\": true, \"linkText\": \"Export to plot.ly\"}\n",
       "        ).then(function () {return Plotly.addFrames('7622f6bf-3827-4037-b8ba-16007414c0f2',{});}).then(function(){Plotly.animate('7622f6bf-3827-4037-b8ba-16007414c0f2');})\n",
       "        });</script>"
      ],
      "text/vnd.plotly.v1+html": [
       "<div id=\"7622f6bf-3827-4037-b8ba-16007414c0f2\" style=\"height: 525px; width: 100%;\" class=\"plotly-graph-div\"></div><script type=\"text/javascript\">require([\"plotly\"], function(Plotly) { window.PLOTLYENV=window.PLOTLYENV || {};window.PLOTLYENV.BASE_URL=\"https://plot.ly\";\n",
       "        Plotly.plot(\n",
       "            '7622f6bf-3827-4037-b8ba-16007414c0f2',\n",
       "            [{\"name\": \"\\u751f\\u7269\\u5b66DNA\\u7ec4_\\u5b8c\\u6210\\u5546\\u4e1a\\u9879\\u76ee\\u6570\", \"x\": [\"9\"], \"y\": [19.0], \"type\": \"scatter\", \"uid\": \"f5335a12-c202-11e8-bee0-509a4c0f1ffc\"}, {\"name\": \"\\u751f\\u7269\\u5b66DNA\\u7ec4_\\u5b8c\\u6210\\u4e2a\\u6027\\u5316\\u6570\", \"x\": [\"9\"], \"y\": [14.0], \"type\": \"scatter\", \"uid\": \"f5335a13-c202-11e8-964d-509a4c0f1ffc\"}, {\"name\": \"\\u86cb\\u767d\\u548c\\u533b\\u5b66\\u7ec4_\\u5b8c\\u6210\\u5546\\u4e1a\\u9879\\u76ee\\u6570\", \"x\": [\"9\"], \"y\": [3.0], \"type\": \"scatter\", \"uid\": \"f5335a14-c202-11e8-a61e-509a4c0f1ffc\"}, {\"name\": \"\\u86cb\\u767d\\u548c\\u533b\\u5b66\\u7ec4_\\u5b8c\\u6210\\u4e2a\\u6027\\u5316\\u6570\", \"x\": [\"9\"], \"y\": [3.0], \"type\": \"scatter\", \"uid\": \"f5335a15-c202-11e8-bf48-509a4c0f1ffc\"}, {\"name\": \"\\u8f6c\\u5f55\\u8c03\\u63a7\\u7ec4_\\u5b8c\\u6210\\u5546\\u4e1a\\u9879\\u76ee\\u6570\", \"x\": [\"9\"], \"y\": [0.0], \"type\": \"scatter\", \"uid\": \"f5335a16-c202-11e8-81c5-509a4c0f1ffc\"}, {\"name\": \"\\u8f6c\\u5f55\\u8c03\\u63a7\\u7ec4_\\u5b8c\\u6210\\u4e2a\\u6027\\u5316\\u6570\", \"x\": [\"9\"], \"y\": [4.0], \"type\": \"scatter\", \"uid\": \"f5335a17-c202-11e8-999a-509a4c0f1ffc\"}],\n",
       "            {\"title\": \"\\u5b8c\\u6210\\u5546\\u4e1a\\u9879\\u76ee\\u6570&\\u5b8c\\u6210\\u4e2a\\u6027\\u5316\\u6570\\u6708\\u8d8b\\u52bf\\u56fe\", \"xaxis\": {\"mirror\": \"all\", \"nticks\": 20, \"showgrid\": true, \"showline\": true, \"title\": \"\\u6708\", \"zeroline\": true}, \"yaxis\": {\"mirror\": \"all\", \"nticks\": 20, \"showgrid\": true, \"showline\": true, \"title\": \"\\u5b8c\\u6210\\u5546\\u4e1a\\u9879\\u76ee\\u6570&\\u5b8c\\u6210\\u4e2a\\u6027\\u5316\\u6570\", \"zeroline\": true}},\n",
       "            {\"showLink\": true, \"linkText\": \"Export to plot.ly\"}\n",
       "        ).then(function () {return Plotly.addFrames('7622f6bf-3827-4037-b8ba-16007414c0f2',{});}).then(function(){Plotly.animate('7622f6bf-3827-4037-b8ba-16007414c0f2');})\n",
       "        });</script>"
      ]
     },
     "metadata": {},
     "output_type": "display_data"
    }
   ],
   "source": [
    "data_dict = {'完成商业项目数':['完成商业项目数'],'完成个性化数':['完成个性化数']}\n",
    "myModule.plot( all_dict_2, data_dict, '组别','line' , all='group')"
   ]
  },
  {
   "cell_type": "markdown",
   "metadata": {},
   "source": [
    "### 各组延期项目数"
   ]
  },
  {
   "cell_type": "code",
   "execution_count": 77,
   "metadata": {},
   "outputs": [
    {
     "data": {
      "application/vnd.plotly.v1+json": {
       "data": [
        {
         "name": "生物学DNA组_延期商业项目数",
         "type": "scatter",
         "uid": "f581ef42-c202-11e8-9aba-509a4c0f1ffc",
         "x": [
          "9-2",
          "9-3"
         ],
         "y": [
          0,
          0
         ]
        },
        {
         "name": "生物学DNA组_延期个性化项目数",
         "type": "scatter",
         "uid": "f581ef43-c202-11e8-8c3d-509a4c0f1ffc",
         "x": [
          "9-2",
          "9-3"
         ],
         "y": [
          0,
          0
         ]
        },
        {
         "name": "蛋白和医学组_延期商业项目数",
         "type": "scatter",
         "uid": "f581ef44-c202-11e8-ae87-509a4c0f1ffc",
         "x": [
          "9-2",
          "9-3"
         ],
         "y": [
          0,
          0
         ]
        },
        {
         "name": "蛋白和医学组_延期个性化项目数",
         "type": "scatter",
         "uid": "f581ef45-c202-11e8-93be-509a4c0f1ffc",
         "x": [
          "9-2",
          "9-3"
         ],
         "y": [
          0,
          0
         ]
        },
        {
         "name": "转录调控组_延期商业项目数",
         "type": "scatter",
         "uid": "f581ef46-c202-11e8-8ff3-509a4c0f1ffc",
         "x": [
          "9-2",
          "9-3"
         ],
         "y": [
          0,
          0
         ]
        },
        {
         "name": "转录调控组_延期个性化项目数",
         "type": "scatter",
         "uid": "f581ef47-c202-11e8-9cfa-509a4c0f1ffc",
         "x": [
          "9-2",
          "9-3"
         ],
         "y": [
          1,
          0
         ]
        }
       ],
       "layout": {
        "title": "延期商业项目数&延期个性化项目数周趋势图",
        "xaxis": {
         "mirror": "all",
         "nticks": 20,
         "showgrid": true,
         "showline": true,
         "title": "周",
         "zeroline": true
        },
        "yaxis": {
         "mirror": "all",
         "nticks": 20,
         "showgrid": true,
         "showline": true,
         "title": "延期商业项目数&延期个性化项目数",
         "zeroline": true
        }
       }
      },
      "text/html": [
       "<div id=\"26baef79-c69f-48e7-ac2a-b3f5220ee230\" style=\"height: 525px; width: 100%;\" class=\"plotly-graph-div\"></div><script type=\"text/javascript\">require([\"plotly\"], function(Plotly) { window.PLOTLYENV=window.PLOTLYENV || {};window.PLOTLYENV.BASE_URL=\"https://plot.ly\";\n",
       "        Plotly.plot(\n",
       "            '26baef79-c69f-48e7-ac2a-b3f5220ee230',\n",
       "            [{\"name\": \"\\u751f\\u7269\\u5b66DNA\\u7ec4_\\u5ef6\\u671f\\u5546\\u4e1a\\u9879\\u76ee\\u6570\", \"x\": [\"9-2\", \"9-3\"], \"y\": [0.0, 0.0], \"type\": \"scatter\", \"uid\": \"f581ef42-c202-11e8-9aba-509a4c0f1ffc\"}, {\"name\": \"\\u751f\\u7269\\u5b66DNA\\u7ec4_\\u5ef6\\u671f\\u4e2a\\u6027\\u5316\\u9879\\u76ee\\u6570\", \"x\": [\"9-2\", \"9-3\"], \"y\": [0.0, 0.0], \"type\": \"scatter\", \"uid\": \"f581ef43-c202-11e8-8c3d-509a4c0f1ffc\"}, {\"name\": \"\\u86cb\\u767d\\u548c\\u533b\\u5b66\\u7ec4_\\u5ef6\\u671f\\u5546\\u4e1a\\u9879\\u76ee\\u6570\", \"x\": [\"9-2\", \"9-3\"], \"y\": [0.0, 0.0], \"type\": \"scatter\", \"uid\": \"f581ef44-c202-11e8-ae87-509a4c0f1ffc\"}, {\"name\": \"\\u86cb\\u767d\\u548c\\u533b\\u5b66\\u7ec4_\\u5ef6\\u671f\\u4e2a\\u6027\\u5316\\u9879\\u76ee\\u6570\", \"x\": [\"9-2\", \"9-3\"], \"y\": [0.0, 0.0], \"type\": \"scatter\", \"uid\": \"f581ef45-c202-11e8-93be-509a4c0f1ffc\"}, {\"name\": \"\\u8f6c\\u5f55\\u8c03\\u63a7\\u7ec4_\\u5ef6\\u671f\\u5546\\u4e1a\\u9879\\u76ee\\u6570\", \"x\": [\"9-2\", \"9-3\"], \"y\": [0.0, 0.0], \"type\": \"scatter\", \"uid\": \"f581ef46-c202-11e8-8ff3-509a4c0f1ffc\"}, {\"name\": \"\\u8f6c\\u5f55\\u8c03\\u63a7\\u7ec4_\\u5ef6\\u671f\\u4e2a\\u6027\\u5316\\u9879\\u76ee\\u6570\", \"x\": [\"9-2\", \"9-3\"], \"y\": [1.0, 0.0], \"type\": \"scatter\", \"uid\": \"f581ef47-c202-11e8-9cfa-509a4c0f1ffc\"}],\n",
       "            {\"title\": \"\\u5ef6\\u671f\\u5546\\u4e1a\\u9879\\u76ee\\u6570&\\u5ef6\\u671f\\u4e2a\\u6027\\u5316\\u9879\\u76ee\\u6570\\u5468\\u8d8b\\u52bf\\u56fe\", \"xaxis\": {\"mirror\": \"all\", \"nticks\": 20, \"showgrid\": true, \"showline\": true, \"title\": \"\\u5468\", \"zeroline\": true}, \"yaxis\": {\"mirror\": \"all\", \"nticks\": 20, \"showgrid\": true, \"showline\": true, \"title\": \"\\u5ef6\\u671f\\u5546\\u4e1a\\u9879\\u76ee\\u6570&\\u5ef6\\u671f\\u4e2a\\u6027\\u5316\\u9879\\u76ee\\u6570\", \"zeroline\": true}},\n",
       "            {\"showLink\": true, \"linkText\": \"Export to plot.ly\"}\n",
       "        ).then(function () {return Plotly.addFrames('26baef79-c69f-48e7-ac2a-b3f5220ee230',{});}).then(function(){Plotly.animate('26baef79-c69f-48e7-ac2a-b3f5220ee230');})\n",
       "        });</script>"
      ],
      "text/vnd.plotly.v1+html": [
       "<div id=\"26baef79-c69f-48e7-ac2a-b3f5220ee230\" style=\"height: 525px; width: 100%;\" class=\"plotly-graph-div\"></div><script type=\"text/javascript\">require([\"plotly\"], function(Plotly) { window.PLOTLYENV=window.PLOTLYENV || {};window.PLOTLYENV.BASE_URL=\"https://plot.ly\";\n",
       "        Plotly.plot(\n",
       "            '26baef79-c69f-48e7-ac2a-b3f5220ee230',\n",
       "            [{\"name\": \"\\u751f\\u7269\\u5b66DNA\\u7ec4_\\u5ef6\\u671f\\u5546\\u4e1a\\u9879\\u76ee\\u6570\", \"x\": [\"9-2\", \"9-3\"], \"y\": [0.0, 0.0], \"type\": \"scatter\", \"uid\": \"f581ef42-c202-11e8-9aba-509a4c0f1ffc\"}, {\"name\": \"\\u751f\\u7269\\u5b66DNA\\u7ec4_\\u5ef6\\u671f\\u4e2a\\u6027\\u5316\\u9879\\u76ee\\u6570\", \"x\": [\"9-2\", \"9-3\"], \"y\": [0.0, 0.0], \"type\": \"scatter\", \"uid\": \"f581ef43-c202-11e8-8c3d-509a4c0f1ffc\"}, {\"name\": \"\\u86cb\\u767d\\u548c\\u533b\\u5b66\\u7ec4_\\u5ef6\\u671f\\u5546\\u4e1a\\u9879\\u76ee\\u6570\", \"x\": [\"9-2\", \"9-3\"], \"y\": [0.0, 0.0], \"type\": \"scatter\", \"uid\": \"f581ef44-c202-11e8-ae87-509a4c0f1ffc\"}, {\"name\": \"\\u86cb\\u767d\\u548c\\u533b\\u5b66\\u7ec4_\\u5ef6\\u671f\\u4e2a\\u6027\\u5316\\u9879\\u76ee\\u6570\", \"x\": [\"9-2\", \"9-3\"], \"y\": [0.0, 0.0], \"type\": \"scatter\", \"uid\": \"f581ef45-c202-11e8-93be-509a4c0f1ffc\"}, {\"name\": \"\\u8f6c\\u5f55\\u8c03\\u63a7\\u7ec4_\\u5ef6\\u671f\\u5546\\u4e1a\\u9879\\u76ee\\u6570\", \"x\": [\"9-2\", \"9-3\"], \"y\": [0.0, 0.0], \"type\": \"scatter\", \"uid\": \"f581ef46-c202-11e8-8ff3-509a4c0f1ffc\"}, {\"name\": \"\\u8f6c\\u5f55\\u8c03\\u63a7\\u7ec4_\\u5ef6\\u671f\\u4e2a\\u6027\\u5316\\u9879\\u76ee\\u6570\", \"x\": [\"9-2\", \"9-3\"], \"y\": [1.0, 0.0], \"type\": \"scatter\", \"uid\": \"f581ef47-c202-11e8-9cfa-509a4c0f1ffc\"}],\n",
       "            {\"title\": \"\\u5ef6\\u671f\\u5546\\u4e1a\\u9879\\u76ee\\u6570&\\u5ef6\\u671f\\u4e2a\\u6027\\u5316\\u9879\\u76ee\\u6570\\u5468\\u8d8b\\u52bf\\u56fe\", \"xaxis\": {\"mirror\": \"all\", \"nticks\": 20, \"showgrid\": true, \"showline\": true, \"title\": \"\\u5468\", \"zeroline\": true}, \"yaxis\": {\"mirror\": \"all\", \"nticks\": 20, \"showgrid\": true, \"showline\": true, \"title\": \"\\u5ef6\\u671f\\u5546\\u4e1a\\u9879\\u76ee\\u6570&\\u5ef6\\u671f\\u4e2a\\u6027\\u5316\\u9879\\u76ee\\u6570\", \"zeroline\": true}},\n",
       "            {\"showLink\": true, \"linkText\": \"Export to plot.ly\"}\n",
       "        ).then(function () {return Plotly.addFrames('26baef79-c69f-48e7-ac2a-b3f5220ee230',{});}).then(function(){Plotly.animate('26baef79-c69f-48e7-ac2a-b3f5220ee230');})\n",
       "        });</script>"
      ]
     },
     "metadata": {},
     "output_type": "display_data"
    }
   ],
   "source": [
    "new_dict = myModule.select_data(all_dict_2 ,['延期商业项目数','延期个性化项目数'],'组别' )     ## choose colunms and groups \n",
    "tt = myModule.transformat_data(new_dict , 'week'  )  ## week or month ??\n",
    "#[ myModule.get_ratio(tt[i] , '比例' , '24h内未完成数据交付项目数' , '待交付项目数') for i in tt ]  ## caculate ratio \n",
    "myModule.plot_target_items(tt ,['延期商业项目数','延期个性化项目数'], 'line')   ##choose colomn which shows and plot type "
   ]
  },
  {
   "cell_type": "markdown",
   "metadata": {},
   "source": [
    "### 各组反馈延期数"
   ]
  },
  {
   "cell_type": "code",
   "execution_count": 78,
   "metadata": {},
   "outputs": [
    {
     "data": {
      "application/vnd.plotly.v1+json": {
       "data": [
        {
         "name": "生物学DNA组",
         "type": "scatter",
         "uid": "f5cc65c2-c202-11e8-9fd6-509a4c0f1ffc",
         "x": [
          "9-2",
          "9-3"
         ],
         "y": [
          0,
          0
         ]
        },
        {
         "name": "蛋白和医学组",
         "type": "scatter",
         "uid": "f5cc65c3-c202-11e8-82ca-509a4c0f1ffc",
         "x": [
          "9-2",
          "9-3"
         ],
         "y": [
          0,
          0
         ]
        },
        {
         "name": "转录调控组",
         "type": "scatter",
         "uid": "f5cc65c4-c202-11e8-9011-509a4c0f1ffc",
         "x": [
          "9-2",
          "9-3"
         ],
         "y": [
          1,
          0
         ]
        }
       ],
       "layout": {
        "title": "反馈延期数",
        "xaxis": {
         "mirror": "all",
         "nticks": 20,
         "showgrid": true,
         "showline": true,
         "title": "周",
         "zeroline": true
        },
        "yaxis": {
         "mirror": "all",
         "nticks": 20,
         "showgrid": true,
         "showline": true,
         "title": "24h内未完成数据反馈项目数",
         "zeroline": true
        }
       }
      },
      "text/html": [
       "<div id=\"1f6f4c7d-5ce4-4210-bf0d-689ef0f7a0d4\" style=\"height: 525px; width: 100%;\" class=\"plotly-graph-div\"></div><script type=\"text/javascript\">require([\"plotly\"], function(Plotly) { window.PLOTLYENV=window.PLOTLYENV || {};window.PLOTLYENV.BASE_URL=\"https://plot.ly\";\n",
       "        Plotly.plot(\n",
       "            '1f6f4c7d-5ce4-4210-bf0d-689ef0f7a0d4',\n",
       "            [{\"name\": \"\\u751f\\u7269\\u5b66DNA\\u7ec4\", \"x\": [\"9-2\", \"9-3\"], \"y\": [0.0, 0.0], \"type\": \"scatter\", \"uid\": \"f5cc65c2-c202-11e8-9fd6-509a4c0f1ffc\"}, {\"name\": \"\\u86cb\\u767d\\u548c\\u533b\\u5b66\\u7ec4\", \"x\": [\"9-2\", \"9-3\"], \"y\": [0.0, 0.0], \"type\": \"scatter\", \"uid\": \"f5cc65c3-c202-11e8-82ca-509a4c0f1ffc\"}, {\"name\": \"\\u8f6c\\u5f55\\u8c03\\u63a7\\u7ec4\", \"x\": [\"9-2\", \"9-3\"], \"y\": [1.0, 0.0], \"type\": \"scatter\", \"uid\": \"f5cc65c4-c202-11e8-9011-509a4c0f1ffc\"}],\n",
       "            {\"title\": \"\\u53cd\\u9988\\u5ef6\\u671f\\u6570\", \"xaxis\": {\"mirror\": \"all\", \"nticks\": 20, \"showgrid\": true, \"showline\": true, \"title\": \"\\u5468\", \"zeroline\": true}, \"yaxis\": {\"mirror\": \"all\", \"nticks\": 20, \"showgrid\": true, \"showline\": true, \"title\": \"24h\\u5185\\u672a\\u5b8c\\u6210\\u6570\\u636e\\u53cd\\u9988\\u9879\\u76ee\\u6570\", \"zeroline\": true}},\n",
       "            {\"showLink\": true, \"linkText\": \"Export to plot.ly\"}\n",
       "        ).then(function () {return Plotly.addFrames('1f6f4c7d-5ce4-4210-bf0d-689ef0f7a0d4',{});}).then(function(){Plotly.animate('1f6f4c7d-5ce4-4210-bf0d-689ef0f7a0d4');})\n",
       "        });</script>"
      ],
      "text/vnd.plotly.v1+html": [
       "<div id=\"1f6f4c7d-5ce4-4210-bf0d-689ef0f7a0d4\" style=\"height: 525px; width: 100%;\" class=\"plotly-graph-div\"></div><script type=\"text/javascript\">require([\"plotly\"], function(Plotly) { window.PLOTLYENV=window.PLOTLYENV || {};window.PLOTLYENV.BASE_URL=\"https://plot.ly\";\n",
       "        Plotly.plot(\n",
       "            '1f6f4c7d-5ce4-4210-bf0d-689ef0f7a0d4',\n",
       "            [{\"name\": \"\\u751f\\u7269\\u5b66DNA\\u7ec4\", \"x\": [\"9-2\", \"9-3\"], \"y\": [0.0, 0.0], \"type\": \"scatter\", \"uid\": \"f5cc65c2-c202-11e8-9fd6-509a4c0f1ffc\"}, {\"name\": \"\\u86cb\\u767d\\u548c\\u533b\\u5b66\\u7ec4\", \"x\": [\"9-2\", \"9-3\"], \"y\": [0.0, 0.0], \"type\": \"scatter\", \"uid\": \"f5cc65c3-c202-11e8-82ca-509a4c0f1ffc\"}, {\"name\": \"\\u8f6c\\u5f55\\u8c03\\u63a7\\u7ec4\", \"x\": [\"9-2\", \"9-3\"], \"y\": [1.0, 0.0], \"type\": \"scatter\", \"uid\": \"f5cc65c4-c202-11e8-9011-509a4c0f1ffc\"}],\n",
       "            {\"title\": \"\\u53cd\\u9988\\u5ef6\\u671f\\u6570\", \"xaxis\": {\"mirror\": \"all\", \"nticks\": 20, \"showgrid\": true, \"showline\": true, \"title\": \"\\u5468\", \"zeroline\": true}, \"yaxis\": {\"mirror\": \"all\", \"nticks\": 20, \"showgrid\": true, \"showline\": true, \"title\": \"24h\\u5185\\u672a\\u5b8c\\u6210\\u6570\\u636e\\u53cd\\u9988\\u9879\\u76ee\\u6570\", \"zeroline\": true}},\n",
       "            {\"showLink\": true, \"linkText\": \"Export to plot.ly\"}\n",
       "        ).then(function () {return Plotly.addFrames('1f6f4c7d-5ce4-4210-bf0d-689ef0f7a0d4',{});}).then(function(){Plotly.animate('1f6f4c7d-5ce4-4210-bf0d-689ef0f7a0d4');})\n",
       "        });</script>"
      ]
     },
     "metadata": {},
     "output_type": "display_data"
    }
   ],
   "source": [
    "new_dict = myModule.select_data(all_dict_2 ,['24h内未完成数据反馈项目数','反馈延期个性化数'],'组别' )     ## choose colunms and groups \n",
    "tt = myModule.transformat_data(new_dict , 'week'  )  ## week or month ?? \n",
    "myModule.plot_target_items(tt ,['24h内未完成数据反馈项目数'], 'line',fig_title = '反馈延期数') "
   ]
  },
  {
   "cell_type": "markdown",
   "metadata": {},
   "source": [
    "### 各组延期率"
   ]
  },
  {
   "cell_type": "code",
   "execution_count": 79,
   "metadata": {},
   "outputs": [
    {
     "data": {
      "application/vnd.plotly.v1+json": {
       "data": [
        {
         "name": "商业项目延期率",
         "type": "scatter",
         "uid": "f6104c92-c202-11e8-9fbc-509a4c0f1ffc",
         "x": [
          "9-2",
          "9-3"
         ],
         "y": [
          0,
          0
         ]
        },
        {
         "name": "个性化项目延期率",
         "type": "scatter",
         "uid": "f6104c93-c202-11e8-8d0f-509a4c0f1ffc",
         "x": [
          "9-2",
          "9-3"
         ],
         "y": [
          0.0625,
          0
         ]
        },
        {
         "name": "总延期率",
         "type": "scatter",
         "uid": "f6104c94-c202-11e8-b2b6-509a4c0f1ffc",
         "x": [
          "9-2",
          "9-3"
         ],
         "y": [
          0.03333333333333333,
          0
         ]
        }
       ],
       "layout": {
        "title": "商业项目延期率&个性化项目延期率&总延期率周趋势图",
        "xaxis": {
         "mirror": "all",
         "nticks": 20,
         "showgrid": true,
         "showline": true,
         "title": "周",
         "zeroline": true
        },
        "yaxis": {
         "mirror": "all",
         "nticks": 20,
         "showgrid": true,
         "showline": true,
         "title": "商业项目延期率&个性化项目延期率&总延期率",
         "zeroline": true
        }
       }
      },
      "text/html": [
       "<div id=\"b91fda27-7dbd-4bf6-9446-45a63caeee31\" style=\"height: 525px; width: 100%;\" class=\"plotly-graph-div\"></div><script type=\"text/javascript\">require([\"plotly\"], function(Plotly) { window.PLOTLYENV=window.PLOTLYENV || {};window.PLOTLYENV.BASE_URL=\"https://plot.ly\";\n",
       "        Plotly.plot(\n",
       "            'b91fda27-7dbd-4bf6-9446-45a63caeee31',\n",
       "            [{\"name\": \"\\u5546\\u4e1a\\u9879\\u76ee\\u5ef6\\u671f\\u7387\", \"x\": [\"9-2\", \"9-3\"], \"y\": [0.0, 0.0], \"type\": \"scatter\", \"uid\": \"f6104c92-c202-11e8-9fbc-509a4c0f1ffc\"}, {\"name\": \"\\u4e2a\\u6027\\u5316\\u9879\\u76ee\\u5ef6\\u671f\\u7387\", \"x\": [\"9-2\", \"9-3\"], \"y\": [0.0625, 0.0], \"type\": \"scatter\", \"uid\": \"f6104c93-c202-11e8-8d0f-509a4c0f1ffc\"}, {\"name\": \"\\u603b\\u5ef6\\u671f\\u7387\", \"x\": [\"9-2\", \"9-3\"], \"y\": [0.03333333333333333, 0.0], \"type\": \"scatter\", \"uid\": \"f6104c94-c202-11e8-b2b6-509a4c0f1ffc\"}],\n",
       "            {\"title\": \"\\u5546\\u4e1a\\u9879\\u76ee\\u5ef6\\u671f\\u7387&\\u4e2a\\u6027\\u5316\\u9879\\u76ee\\u5ef6\\u671f\\u7387&\\u603b\\u5ef6\\u671f\\u7387\\u5468\\u8d8b\\u52bf\\u56fe\", \"xaxis\": {\"mirror\": \"all\", \"nticks\": 20, \"showgrid\": true, \"showline\": true, \"title\": \"\\u5468\", \"zeroline\": true}, \"yaxis\": {\"mirror\": \"all\", \"nticks\": 20, \"showgrid\": true, \"showline\": true, \"title\": \"\\u5546\\u4e1a\\u9879\\u76ee\\u5ef6\\u671f\\u7387&\\u4e2a\\u6027\\u5316\\u9879\\u76ee\\u5ef6\\u671f\\u7387&\\u603b\\u5ef6\\u671f\\u7387\", \"zeroline\": true}},\n",
       "            {\"showLink\": true, \"linkText\": \"Export to plot.ly\"}\n",
       "        ).then(function () {return Plotly.addFrames('b91fda27-7dbd-4bf6-9446-45a63caeee31',{});}).then(function(){Plotly.animate('b91fda27-7dbd-4bf6-9446-45a63caeee31');})\n",
       "        });</script>"
      ],
      "text/vnd.plotly.v1+html": [
       "<div id=\"b91fda27-7dbd-4bf6-9446-45a63caeee31\" style=\"height: 525px; width: 100%;\" class=\"plotly-graph-div\"></div><script type=\"text/javascript\">require([\"plotly\"], function(Plotly) { window.PLOTLYENV=window.PLOTLYENV || {};window.PLOTLYENV.BASE_URL=\"https://plot.ly\";\n",
       "        Plotly.plot(\n",
       "            'b91fda27-7dbd-4bf6-9446-45a63caeee31',\n",
       "            [{\"name\": \"\\u5546\\u4e1a\\u9879\\u76ee\\u5ef6\\u671f\\u7387\", \"x\": [\"9-2\", \"9-3\"], \"y\": [0.0, 0.0], \"type\": \"scatter\", \"uid\": \"f6104c92-c202-11e8-9fbc-509a4c0f1ffc\"}, {\"name\": \"\\u4e2a\\u6027\\u5316\\u9879\\u76ee\\u5ef6\\u671f\\u7387\", \"x\": [\"9-2\", \"9-3\"], \"y\": [0.0625, 0.0], \"type\": \"scatter\", \"uid\": \"f6104c93-c202-11e8-8d0f-509a4c0f1ffc\"}, {\"name\": \"\\u603b\\u5ef6\\u671f\\u7387\", \"x\": [\"9-2\", \"9-3\"], \"y\": [0.03333333333333333, 0.0], \"type\": \"scatter\", \"uid\": \"f6104c94-c202-11e8-b2b6-509a4c0f1ffc\"}],\n",
       "            {\"title\": \"\\u5546\\u4e1a\\u9879\\u76ee\\u5ef6\\u671f\\u7387&\\u4e2a\\u6027\\u5316\\u9879\\u76ee\\u5ef6\\u671f\\u7387&\\u603b\\u5ef6\\u671f\\u7387\\u5468\\u8d8b\\u52bf\\u56fe\", \"xaxis\": {\"mirror\": \"all\", \"nticks\": 20, \"showgrid\": true, \"showline\": true, \"title\": \"\\u5468\", \"zeroline\": true}, \"yaxis\": {\"mirror\": \"all\", \"nticks\": 20, \"showgrid\": true, \"showline\": true, \"title\": \"\\u5546\\u4e1a\\u9879\\u76ee\\u5ef6\\u671f\\u7387&\\u4e2a\\u6027\\u5316\\u9879\\u76ee\\u5ef6\\u671f\\u7387&\\u603b\\u5ef6\\u671f\\u7387\", \"zeroline\": true}},\n",
       "            {\"showLink\": true, \"linkText\": \"Export to plot.ly\"}\n",
       "        ).then(function () {return Plotly.addFrames('b91fda27-7dbd-4bf6-9446-45a63caeee31',{});}).then(function(){Plotly.animate('b91fda27-7dbd-4bf6-9446-45a63caeee31');})\n",
       "        });</script>"
      ]
     },
     "metadata": {},
     "output_type": "display_data"
    },
    {
     "data": {
      "application/vnd.plotly.v1+json": {
       "data": [
        {
         "name": "商业项目延期率",
         "type": "scatter",
         "uid": "f61aacd2-c202-11e8-8438-509a4c0f1ffc",
         "x": [
          "9"
         ],
         "y": [
          0
         ]
        },
        {
         "name": "个性化项目延期率",
         "type": "scatter",
         "uid": "f61aacd3-c202-11e8-b6ad-509a4c0f1ffc",
         "x": [
          "9"
         ],
         "y": [
          0.047619047619047616
         ]
        },
        {
         "name": "总延期率",
         "type": "scatter",
         "uid": "f61aacd4-c202-11e8-b95c-509a4c0f1ffc",
         "x": [
          "9"
         ],
         "y": [
          0.0196078431372549
         ]
        }
       ],
       "layout": {
        "title": "商业项目延期率&个性化项目延期率&总延期率月趋势图",
        "xaxis": {
         "mirror": "all",
         "nticks": 20,
         "showgrid": true,
         "showline": true,
         "title": "月",
         "zeroline": true
        },
        "yaxis": {
         "mirror": "all",
         "nticks": 20,
         "showgrid": true,
         "showline": true,
         "title": "商业项目延期率&个性化项目延期率&总延期率",
         "zeroline": true
        }
       }
      },
      "text/html": [
       "<div id=\"9e189bf7-a894-447c-a2e9-cb6dea8ef19c\" style=\"height: 525px; width: 100%;\" class=\"plotly-graph-div\"></div><script type=\"text/javascript\">require([\"plotly\"], function(Plotly) { window.PLOTLYENV=window.PLOTLYENV || {};window.PLOTLYENV.BASE_URL=\"https://plot.ly\";\n",
       "        Plotly.plot(\n",
       "            '9e189bf7-a894-447c-a2e9-cb6dea8ef19c',\n",
       "            [{\"name\": \"\\u5546\\u4e1a\\u9879\\u76ee\\u5ef6\\u671f\\u7387\", \"x\": [\"9\"], \"y\": [0.0], \"type\": \"scatter\", \"uid\": \"f61aacd2-c202-11e8-8438-509a4c0f1ffc\"}, {\"name\": \"\\u4e2a\\u6027\\u5316\\u9879\\u76ee\\u5ef6\\u671f\\u7387\", \"x\": [\"9\"], \"y\": [0.047619047619047616], \"type\": \"scatter\", \"uid\": \"f61aacd3-c202-11e8-b6ad-509a4c0f1ffc\"}, {\"name\": \"\\u603b\\u5ef6\\u671f\\u7387\", \"x\": [\"9\"], \"y\": [0.0196078431372549], \"type\": \"scatter\", \"uid\": \"f61aacd4-c202-11e8-b95c-509a4c0f1ffc\"}],\n",
       "            {\"title\": \"\\u5546\\u4e1a\\u9879\\u76ee\\u5ef6\\u671f\\u7387&\\u4e2a\\u6027\\u5316\\u9879\\u76ee\\u5ef6\\u671f\\u7387&\\u603b\\u5ef6\\u671f\\u7387\\u6708\\u8d8b\\u52bf\\u56fe\", \"xaxis\": {\"mirror\": \"all\", \"nticks\": 20, \"showgrid\": true, \"showline\": true, \"title\": \"\\u6708\", \"zeroline\": true}, \"yaxis\": {\"mirror\": \"all\", \"nticks\": 20, \"showgrid\": true, \"showline\": true, \"title\": \"\\u5546\\u4e1a\\u9879\\u76ee\\u5ef6\\u671f\\u7387&\\u4e2a\\u6027\\u5316\\u9879\\u76ee\\u5ef6\\u671f\\u7387&\\u603b\\u5ef6\\u671f\\u7387\", \"zeroline\": true}},\n",
       "            {\"showLink\": true, \"linkText\": \"Export to plot.ly\"}\n",
       "        ).then(function () {return Plotly.addFrames('9e189bf7-a894-447c-a2e9-cb6dea8ef19c',{});}).then(function(){Plotly.animate('9e189bf7-a894-447c-a2e9-cb6dea8ef19c');})\n",
       "        });</script>"
      ],
      "text/vnd.plotly.v1+html": [
       "<div id=\"9e189bf7-a894-447c-a2e9-cb6dea8ef19c\" style=\"height: 525px; width: 100%;\" class=\"plotly-graph-div\"></div><script type=\"text/javascript\">require([\"plotly\"], function(Plotly) { window.PLOTLYENV=window.PLOTLYENV || {};window.PLOTLYENV.BASE_URL=\"https://plot.ly\";\n",
       "        Plotly.plot(\n",
       "            '9e189bf7-a894-447c-a2e9-cb6dea8ef19c',\n",
       "            [{\"name\": \"\\u5546\\u4e1a\\u9879\\u76ee\\u5ef6\\u671f\\u7387\", \"x\": [\"9\"], \"y\": [0.0], \"type\": \"scatter\", \"uid\": \"f61aacd2-c202-11e8-8438-509a4c0f1ffc\"}, {\"name\": \"\\u4e2a\\u6027\\u5316\\u9879\\u76ee\\u5ef6\\u671f\\u7387\", \"x\": [\"9\"], \"y\": [0.047619047619047616], \"type\": \"scatter\", \"uid\": \"f61aacd3-c202-11e8-b6ad-509a4c0f1ffc\"}, {\"name\": \"\\u603b\\u5ef6\\u671f\\u7387\", \"x\": [\"9\"], \"y\": [0.0196078431372549], \"type\": \"scatter\", \"uid\": \"f61aacd4-c202-11e8-b95c-509a4c0f1ffc\"}],\n",
       "            {\"title\": \"\\u5546\\u4e1a\\u9879\\u76ee\\u5ef6\\u671f\\u7387&\\u4e2a\\u6027\\u5316\\u9879\\u76ee\\u5ef6\\u671f\\u7387&\\u603b\\u5ef6\\u671f\\u7387\\u6708\\u8d8b\\u52bf\\u56fe\", \"xaxis\": {\"mirror\": \"all\", \"nticks\": 20, \"showgrid\": true, \"showline\": true, \"title\": \"\\u6708\", \"zeroline\": true}, \"yaxis\": {\"mirror\": \"all\", \"nticks\": 20, \"showgrid\": true, \"showline\": true, \"title\": \"\\u5546\\u4e1a\\u9879\\u76ee\\u5ef6\\u671f\\u7387&\\u4e2a\\u6027\\u5316\\u9879\\u76ee\\u5ef6\\u671f\\u7387&\\u603b\\u5ef6\\u671f\\u7387\", \"zeroline\": true}},\n",
       "            {\"showLink\": true, \"linkText\": \"Export to plot.ly\"}\n",
       "        ).then(function () {return Plotly.addFrames('9e189bf7-a894-447c-a2e9-cb6dea8ef19c',{});}).then(function(){Plotly.animate('9e189bf7-a894-447c-a2e9-cb6dea8ef19c');})\n",
       "        });</script>"
      ]
     },
     "metadata": {},
     "output_type": "display_data"
    }
   ],
   "source": [
    "data_dict = {'商业项目延期率':['延期商业项目数', '总商业项目数'], '个性化项目延期率':['延期个性化项目数', '总个性化数'],'总延期率':['总延期项目数', '总项目数']}\n",
    "myModule.plot( all_dict_2, data_dict, '组别' ,  'line' , all='all')"
   ]
  },
  {
   "cell_type": "markdown",
   "metadata": {},
   "source": [
    "### 各组反馈延期率"
   ]
  },
  {
   "cell_type": "code",
   "execution_count": 80,
   "metadata": {},
   "outputs": [
    {
     "data": {
      "application/vnd.plotly.v1+json": {
       "data": [
        {
         "name": "数据反馈延期率",
         "type": "scatter",
         "uid": "f6683092-c202-11e8-bb72-509a4c0f1ffc",
         "x": [
          "9-2",
          "9-3"
         ],
         "y": [
          0.029411764705882353,
          0
         ]
        },
        {
         "name": "个性化反馈延期率",
         "type": "scatter",
         "uid": "f6683093-c202-11e8-a21b-509a4c0f1ffc",
         "x": [
          "9-2",
          "9-3"
         ],
         "y": [
          0.1,
          0
         ]
        }
       ],
       "layout": {
        "title": "数据反馈延期率&个性化反馈延期率周趋势图",
        "xaxis": {
         "mirror": "all",
         "nticks": 20,
         "showgrid": true,
         "showline": true,
         "title": "周",
         "zeroline": true
        },
        "yaxis": {
         "mirror": "all",
         "nticks": 20,
         "showgrid": true,
         "showline": true,
         "title": "数据反馈延期率&个性化反馈延期率",
         "zeroline": true
        }
       }
      },
      "text/html": [
       "<div id=\"5c66bad8-66cc-4774-a141-a67c8ccf5424\" style=\"height: 525px; width: 100%;\" class=\"plotly-graph-div\"></div><script type=\"text/javascript\">require([\"plotly\"], function(Plotly) { window.PLOTLYENV=window.PLOTLYENV || {};window.PLOTLYENV.BASE_URL=\"https://plot.ly\";\n",
       "        Plotly.plot(\n",
       "            '5c66bad8-66cc-4774-a141-a67c8ccf5424',\n",
       "            [{\"name\": \"\\u6570\\u636e\\u53cd\\u9988\\u5ef6\\u671f\\u7387\", \"x\": [\"9-2\", \"9-3\"], \"y\": [0.029411764705882353, 0.0], \"type\": \"scatter\", \"uid\": \"f6683092-c202-11e8-bb72-509a4c0f1ffc\"}, {\"name\": \"\\u4e2a\\u6027\\u5316\\u53cd\\u9988\\u5ef6\\u671f\\u7387\", \"x\": [\"9-2\", \"9-3\"], \"y\": [0.1, 0.0], \"type\": \"scatter\", \"uid\": \"f6683093-c202-11e8-a21b-509a4c0f1ffc\"}],\n",
       "            {\"title\": \"\\u6570\\u636e\\u53cd\\u9988\\u5ef6\\u671f\\u7387&\\u4e2a\\u6027\\u5316\\u53cd\\u9988\\u5ef6\\u671f\\u7387\\u5468\\u8d8b\\u52bf\\u56fe\", \"xaxis\": {\"mirror\": \"all\", \"nticks\": 20, \"showgrid\": true, \"showline\": true, \"title\": \"\\u5468\", \"zeroline\": true}, \"yaxis\": {\"mirror\": \"all\", \"nticks\": 20, \"showgrid\": true, \"showline\": true, \"title\": \"\\u6570\\u636e\\u53cd\\u9988\\u5ef6\\u671f\\u7387&\\u4e2a\\u6027\\u5316\\u53cd\\u9988\\u5ef6\\u671f\\u7387\", \"zeroline\": true}},\n",
       "            {\"showLink\": true, \"linkText\": \"Export to plot.ly\"}\n",
       "        ).then(function () {return Plotly.addFrames('5c66bad8-66cc-4774-a141-a67c8ccf5424',{});}).then(function(){Plotly.animate('5c66bad8-66cc-4774-a141-a67c8ccf5424');})\n",
       "        });</script>"
      ],
      "text/vnd.plotly.v1+html": [
       "<div id=\"5c66bad8-66cc-4774-a141-a67c8ccf5424\" style=\"height: 525px; width: 100%;\" class=\"plotly-graph-div\"></div><script type=\"text/javascript\">require([\"plotly\"], function(Plotly) { window.PLOTLYENV=window.PLOTLYENV || {};window.PLOTLYENV.BASE_URL=\"https://plot.ly\";\n",
       "        Plotly.plot(\n",
       "            '5c66bad8-66cc-4774-a141-a67c8ccf5424',\n",
       "            [{\"name\": \"\\u6570\\u636e\\u53cd\\u9988\\u5ef6\\u671f\\u7387\", \"x\": [\"9-2\", \"9-3\"], \"y\": [0.029411764705882353, 0.0], \"type\": \"scatter\", \"uid\": \"f6683092-c202-11e8-bb72-509a4c0f1ffc\"}, {\"name\": \"\\u4e2a\\u6027\\u5316\\u53cd\\u9988\\u5ef6\\u671f\\u7387\", \"x\": [\"9-2\", \"9-3\"], \"y\": [0.1, 0.0], \"type\": \"scatter\", \"uid\": \"f6683093-c202-11e8-a21b-509a4c0f1ffc\"}],\n",
       "            {\"title\": \"\\u6570\\u636e\\u53cd\\u9988\\u5ef6\\u671f\\u7387&\\u4e2a\\u6027\\u5316\\u53cd\\u9988\\u5ef6\\u671f\\u7387\\u5468\\u8d8b\\u52bf\\u56fe\", \"xaxis\": {\"mirror\": \"all\", \"nticks\": 20, \"showgrid\": true, \"showline\": true, \"title\": \"\\u5468\", \"zeroline\": true}, \"yaxis\": {\"mirror\": \"all\", \"nticks\": 20, \"showgrid\": true, \"showline\": true, \"title\": \"\\u6570\\u636e\\u53cd\\u9988\\u5ef6\\u671f\\u7387&\\u4e2a\\u6027\\u5316\\u53cd\\u9988\\u5ef6\\u671f\\u7387\", \"zeroline\": true}},\n",
       "            {\"showLink\": true, \"linkText\": \"Export to plot.ly\"}\n",
       "        ).then(function () {return Plotly.addFrames('5c66bad8-66cc-4774-a141-a67c8ccf5424',{});}).then(function(){Plotly.animate('5c66bad8-66cc-4774-a141-a67c8ccf5424');})\n",
       "        });</script>"
      ]
     },
     "metadata": {},
     "output_type": "display_data"
    },
    {
     "data": {
      "application/vnd.plotly.v1+json": {
       "data": [
        {
         "name": "数据反馈延期率",
         "type": "scatter",
         "uid": "f6710a34-c202-11e8-8567-509a4c0f1ffc",
         "x": [
          "9"
         ],
         "y": [
          0.022222222222222223
         ]
        },
        {
         "name": "个性化反馈延期率",
         "type": "scatter",
         "uid": "f6710a35-c202-11e8-8db4-509a4c0f1ffc",
         "x": [
          "9"
         ],
         "y": [
          0.06666666666666667
         ]
        }
       ],
       "layout": {
        "title": "数据反馈延期率&个性化反馈延期率月趋势图",
        "xaxis": {
         "mirror": "all",
         "nticks": 20,
         "showgrid": true,
         "showline": true,
         "title": "月",
         "zeroline": true
        },
        "yaxis": {
         "mirror": "all",
         "nticks": 20,
         "showgrid": true,
         "showline": true,
         "title": "数据反馈延期率&个性化反馈延期率",
         "zeroline": true
        }
       }
      },
      "text/html": [
       "<div id=\"c82108e6-c3cb-42cd-9ecb-9ede2f219509\" style=\"height: 525px; width: 100%;\" class=\"plotly-graph-div\"></div><script type=\"text/javascript\">require([\"plotly\"], function(Plotly) { window.PLOTLYENV=window.PLOTLYENV || {};window.PLOTLYENV.BASE_URL=\"https://plot.ly\";\n",
       "        Plotly.plot(\n",
       "            'c82108e6-c3cb-42cd-9ecb-9ede2f219509',\n",
       "            [{\"name\": \"\\u6570\\u636e\\u53cd\\u9988\\u5ef6\\u671f\\u7387\", \"x\": [\"9\"], \"y\": [0.022222222222222223], \"type\": \"scatter\", \"uid\": \"f6710a34-c202-11e8-8567-509a4c0f1ffc\"}, {\"name\": \"\\u4e2a\\u6027\\u5316\\u53cd\\u9988\\u5ef6\\u671f\\u7387\", \"x\": [\"9\"], \"y\": [0.06666666666666667], \"type\": \"scatter\", \"uid\": \"f6710a35-c202-11e8-8db4-509a4c0f1ffc\"}],\n",
       "            {\"title\": \"\\u6570\\u636e\\u53cd\\u9988\\u5ef6\\u671f\\u7387&\\u4e2a\\u6027\\u5316\\u53cd\\u9988\\u5ef6\\u671f\\u7387\\u6708\\u8d8b\\u52bf\\u56fe\", \"xaxis\": {\"mirror\": \"all\", \"nticks\": 20, \"showgrid\": true, \"showline\": true, \"title\": \"\\u6708\", \"zeroline\": true}, \"yaxis\": {\"mirror\": \"all\", \"nticks\": 20, \"showgrid\": true, \"showline\": true, \"title\": \"\\u6570\\u636e\\u53cd\\u9988\\u5ef6\\u671f\\u7387&\\u4e2a\\u6027\\u5316\\u53cd\\u9988\\u5ef6\\u671f\\u7387\", \"zeroline\": true}},\n",
       "            {\"showLink\": true, \"linkText\": \"Export to plot.ly\"}\n",
       "        ).then(function () {return Plotly.addFrames('c82108e6-c3cb-42cd-9ecb-9ede2f219509',{});}).then(function(){Plotly.animate('c82108e6-c3cb-42cd-9ecb-9ede2f219509');})\n",
       "        });</script>"
      ],
      "text/vnd.plotly.v1+html": [
       "<div id=\"c82108e6-c3cb-42cd-9ecb-9ede2f219509\" style=\"height: 525px; width: 100%;\" class=\"plotly-graph-div\"></div><script type=\"text/javascript\">require([\"plotly\"], function(Plotly) { window.PLOTLYENV=window.PLOTLYENV || {};window.PLOTLYENV.BASE_URL=\"https://plot.ly\";\n",
       "        Plotly.plot(\n",
       "            'c82108e6-c3cb-42cd-9ecb-9ede2f219509',\n",
       "            [{\"name\": \"\\u6570\\u636e\\u53cd\\u9988\\u5ef6\\u671f\\u7387\", \"x\": [\"9\"], \"y\": [0.022222222222222223], \"type\": \"scatter\", \"uid\": \"f6710a34-c202-11e8-8567-509a4c0f1ffc\"}, {\"name\": \"\\u4e2a\\u6027\\u5316\\u53cd\\u9988\\u5ef6\\u671f\\u7387\", \"x\": [\"9\"], \"y\": [0.06666666666666667], \"type\": \"scatter\", \"uid\": \"f6710a35-c202-11e8-8db4-509a4c0f1ffc\"}],\n",
       "            {\"title\": \"\\u6570\\u636e\\u53cd\\u9988\\u5ef6\\u671f\\u7387&\\u4e2a\\u6027\\u5316\\u53cd\\u9988\\u5ef6\\u671f\\u7387\\u6708\\u8d8b\\u52bf\\u56fe\", \"xaxis\": {\"mirror\": \"all\", \"nticks\": 20, \"showgrid\": true, \"showline\": true, \"title\": \"\\u6708\", \"zeroline\": true}, \"yaxis\": {\"mirror\": \"all\", \"nticks\": 20, \"showgrid\": true, \"showline\": true, \"title\": \"\\u6570\\u636e\\u53cd\\u9988\\u5ef6\\u671f\\u7387&\\u4e2a\\u6027\\u5316\\u53cd\\u9988\\u5ef6\\u671f\\u7387\", \"zeroline\": true}},\n",
       "            {\"showLink\": true, \"linkText\": \"Export to plot.ly\"}\n",
       "        ).then(function () {return Plotly.addFrames('c82108e6-c3cb-42cd-9ecb-9ede2f219509',{});}).then(function(){Plotly.animate('c82108e6-c3cb-42cd-9ecb-9ede2f219509');})\n",
       "        });</script>"
      ]
     },
     "metadata": {},
     "output_type": "display_data"
    }
   ],
   "source": [
    "data_dict = {'数据反馈延期率':['24h内未完成数据反馈项目数', '下机项目数'], '个性化反馈延期率':['反馈延期个性化数', '接入个性化数']}\n",
    "myModule.plot( all_dict_2, data_dict, '组别' ,  'line' , all='all')"
   ]
  },
  {
   "cell_type": "markdown",
   "metadata": {},
   "source": [
    "### 各组交付延期率"
   ]
  },
  {
   "cell_type": "code",
   "execution_count": 81,
   "metadata": {},
   "outputs": [
    {
     "data": {
      "application/vnd.plotly.v1+json": {
       "data": [
        {
         "name": "交付延期率",
         "type": "scatter",
         "uid": "f6b36a62-c202-11e8-aaab-509a4c0f1ffc",
         "x": [
          "9-2",
          "9-3"
         ],
         "y": [
          0,
          0
         ]
        }
       ],
       "layout": {
        "title": "交付延期率周趋势图",
        "xaxis": {
         "mirror": "all",
         "nticks": 20,
         "showgrid": true,
         "showline": true,
         "title": "周",
         "zeroline": true
        },
        "yaxis": {
         "mirror": "all",
         "nticks": 20,
         "showgrid": true,
         "showline": true,
         "title": "交付延期率",
         "zeroline": true
        }
       }
      },
      "text/html": [
       "<div id=\"f542a89e-a408-475c-b3d6-79bfc4077237\" style=\"height: 525px; width: 100%;\" class=\"plotly-graph-div\"></div><script type=\"text/javascript\">require([\"plotly\"], function(Plotly) { window.PLOTLYENV=window.PLOTLYENV || {};window.PLOTLYENV.BASE_URL=\"https://plot.ly\";\n",
       "        Plotly.plot(\n",
       "            'f542a89e-a408-475c-b3d6-79bfc4077237',\n",
       "            [{\"name\": \"\\u4ea4\\u4ed8\\u5ef6\\u671f\\u7387\", \"x\": [\"9-2\", \"9-3\"], \"y\": [0.0, 0.0], \"type\": \"scatter\", \"uid\": \"f6b36a62-c202-11e8-aaab-509a4c0f1ffc\"}],\n",
       "            {\"title\": \"\\u4ea4\\u4ed8\\u5ef6\\u671f\\u7387\\u5468\\u8d8b\\u52bf\\u56fe\", \"xaxis\": {\"mirror\": \"all\", \"nticks\": 20, \"showgrid\": true, \"showline\": true, \"title\": \"\\u5468\", \"zeroline\": true}, \"yaxis\": {\"mirror\": \"all\", \"nticks\": 20, \"showgrid\": true, \"showline\": true, \"title\": \"\\u4ea4\\u4ed8\\u5ef6\\u671f\\u7387\", \"zeroline\": true}},\n",
       "            {\"showLink\": true, \"linkText\": \"Export to plot.ly\"}\n",
       "        ).then(function () {return Plotly.addFrames('f542a89e-a408-475c-b3d6-79bfc4077237',{});}).then(function(){Plotly.animate('f542a89e-a408-475c-b3d6-79bfc4077237');})\n",
       "        });</script>"
      ],
      "text/vnd.plotly.v1+html": [
       "<div id=\"f542a89e-a408-475c-b3d6-79bfc4077237\" style=\"height: 525px; width: 100%;\" class=\"plotly-graph-div\"></div><script type=\"text/javascript\">require([\"plotly\"], function(Plotly) { window.PLOTLYENV=window.PLOTLYENV || {};window.PLOTLYENV.BASE_URL=\"https://plot.ly\";\n",
       "        Plotly.plot(\n",
       "            'f542a89e-a408-475c-b3d6-79bfc4077237',\n",
       "            [{\"name\": \"\\u4ea4\\u4ed8\\u5ef6\\u671f\\u7387\", \"x\": [\"9-2\", \"9-3\"], \"y\": [0.0, 0.0], \"type\": \"scatter\", \"uid\": \"f6b36a62-c202-11e8-aaab-509a4c0f1ffc\"}],\n",
       "            {\"title\": \"\\u4ea4\\u4ed8\\u5ef6\\u671f\\u7387\\u5468\\u8d8b\\u52bf\\u56fe\", \"xaxis\": {\"mirror\": \"all\", \"nticks\": 20, \"showgrid\": true, \"showline\": true, \"title\": \"\\u5468\", \"zeroline\": true}, \"yaxis\": {\"mirror\": \"all\", \"nticks\": 20, \"showgrid\": true, \"showline\": true, \"title\": \"\\u4ea4\\u4ed8\\u5ef6\\u671f\\u7387\", \"zeroline\": true}},\n",
       "            {\"showLink\": true, \"linkText\": \"Export to plot.ly\"}\n",
       "        ).then(function () {return Plotly.addFrames('f542a89e-a408-475c-b3d6-79bfc4077237',{});}).then(function(){Plotly.animate('f542a89e-a408-475c-b3d6-79bfc4077237');})\n",
       "        });</script>"
      ]
     },
     "metadata": {},
     "output_type": "display_data"
    },
    {
     "data": {
      "application/vnd.plotly.v1+json": {
       "data": [
        {
         "name": "交付延期率",
         "type": "scatter",
         "uid": "f6ba2122-c202-11e8-97fd-509a4c0f1ffc",
         "x": [
          "9"
         ],
         "y": [
          0
         ]
        }
       ],
       "layout": {
        "title": "交付延期率月趋势图",
        "xaxis": {
         "mirror": "all",
         "nticks": 20,
         "showgrid": true,
         "showline": true,
         "title": "月",
         "zeroline": true
        },
        "yaxis": {
         "mirror": "all",
         "nticks": 20,
         "showgrid": true,
         "showline": true,
         "title": "交付延期率",
         "zeroline": true
        }
       }
      },
      "text/html": [
       "<div id=\"60985e33-6a3b-4a01-9766-297e3a16902a\" style=\"height: 525px; width: 100%;\" class=\"plotly-graph-div\"></div><script type=\"text/javascript\">require([\"plotly\"], function(Plotly) { window.PLOTLYENV=window.PLOTLYENV || {};window.PLOTLYENV.BASE_URL=\"https://plot.ly\";\n",
       "        Plotly.plot(\n",
       "            '60985e33-6a3b-4a01-9766-297e3a16902a',\n",
       "            [{\"name\": \"\\u4ea4\\u4ed8\\u5ef6\\u671f\\u7387\", \"x\": [\"9\"], \"y\": [0.0], \"type\": \"scatter\", \"uid\": \"f6ba2122-c202-11e8-97fd-509a4c0f1ffc\"}],\n",
       "            {\"title\": \"\\u4ea4\\u4ed8\\u5ef6\\u671f\\u7387\\u6708\\u8d8b\\u52bf\\u56fe\", \"xaxis\": {\"mirror\": \"all\", \"nticks\": 20, \"showgrid\": true, \"showline\": true, \"title\": \"\\u6708\", \"zeroline\": true}, \"yaxis\": {\"mirror\": \"all\", \"nticks\": 20, \"showgrid\": true, \"showline\": true, \"title\": \"\\u4ea4\\u4ed8\\u5ef6\\u671f\\u7387\", \"zeroline\": true}},\n",
       "            {\"showLink\": true, \"linkText\": \"Export to plot.ly\"}\n",
       "        ).then(function () {return Plotly.addFrames('60985e33-6a3b-4a01-9766-297e3a16902a',{});}).then(function(){Plotly.animate('60985e33-6a3b-4a01-9766-297e3a16902a');})\n",
       "        });</script>"
      ],
      "text/vnd.plotly.v1+html": [
       "<div id=\"60985e33-6a3b-4a01-9766-297e3a16902a\" style=\"height: 525px; width: 100%;\" class=\"plotly-graph-div\"></div><script type=\"text/javascript\">require([\"plotly\"], function(Plotly) { window.PLOTLYENV=window.PLOTLYENV || {};window.PLOTLYENV.BASE_URL=\"https://plot.ly\";\n",
       "        Plotly.plot(\n",
       "            '60985e33-6a3b-4a01-9766-297e3a16902a',\n",
       "            [{\"name\": \"\\u4ea4\\u4ed8\\u5ef6\\u671f\\u7387\", \"x\": [\"9\"], \"y\": [0.0], \"type\": \"scatter\", \"uid\": \"f6ba2122-c202-11e8-97fd-509a4c0f1ffc\"}],\n",
       "            {\"title\": \"\\u4ea4\\u4ed8\\u5ef6\\u671f\\u7387\\u6708\\u8d8b\\u52bf\\u56fe\", \"xaxis\": {\"mirror\": \"all\", \"nticks\": 20, \"showgrid\": true, \"showline\": true, \"title\": \"\\u6708\", \"zeroline\": true}, \"yaxis\": {\"mirror\": \"all\", \"nticks\": 20, \"showgrid\": true, \"showline\": true, \"title\": \"\\u4ea4\\u4ed8\\u5ef6\\u671f\\u7387\", \"zeroline\": true}},\n",
       "            {\"showLink\": true, \"linkText\": \"Export to plot.ly\"}\n",
       "        ).then(function () {return Plotly.addFrames('60985e33-6a3b-4a01-9766-297e3a16902a',{});}).then(function(){Plotly.animate('60985e33-6a3b-4a01-9766-297e3a16902a');})\n",
       "        });</script>"
      ]
     },
     "metadata": {},
     "output_type": "display_data"
    }
   ],
   "source": [
    "data_dict = {'交付延期率':['24h内未完成数据交付项目数', '待交付项目数']}\n",
    "myModule.plot( all_dict_2, data_dict, '组别' ,  'line' , all='all')"
   ]
  },
  {
   "cell_type": "markdown",
   "metadata": {
    "hide_input": true
   },
   "source": [
    "## 个人完成项目统计"
   ]
  },
  {
   "cell_type": "markdown",
   "metadata": {},
   "source": [
    "### 个人完成商业项目数"
   ]
  },
  {
   "cell_type": "code",
   "execution_count": 82,
   "metadata": {},
   "outputs": [
    {
     "data": {
      "application/vnd.plotly.v1+json": {
       "data": [
        {
         "name": "刘江_完成商业项目数",
         "type": "scatter",
         "uid": "f72f2a12-c202-11e8-a8f8-509a4c0f1ffc",
         "x": [
          "9-2",
          "9-3"
         ],
         "y": [
          2,
          0
         ]
        },
        {
         "name": "刘江_完成个性化数",
         "type": "scatter",
         "uid": "f72f2a13-c202-11e8-a65a-509a4c0f1ffc",
         "x": [
          "9-2",
          "9-3"
         ],
         "y": [
          4,
          1
         ]
        },
        {
         "name": "于慧_完成商业项目数",
         "type": "scatter",
         "uid": "f72f2a14-c202-11e8-8c3d-509a4c0f1ffc",
         "x": [
          "9-2",
          "9-3"
         ],
         "y": [
          0,
          1
         ]
        },
        {
         "name": "于慧_完成个性化数",
         "type": "scatter",
         "uid": "f72f2a15-c202-11e8-9d66-509a4c0f1ffc",
         "x": [
          "9-2",
          "9-3"
         ],
         "y": [
          1,
          1
         ]
        },
        {
         "name": "占伟_完成商业项目数",
         "type": "scatter",
         "uid": "f72f2a16-c202-11e8-8e2b-509a4c0f1ffc",
         "x": [
          "9-2"
         ],
         "y": [
          6
         ]
        },
        {
         "name": "占伟_完成个性化数",
         "type": "scatter",
         "uid": "f72f2a17-c202-11e8-8fa7-509a4c0f1ffc",
         "x": [
          "9-2"
         ],
         "y": [
          2
         ]
        },
        {
         "name": "任雪_完成商业项目数",
         "type": "scatter",
         "uid": "f72f2a18-c202-11e8-90e5-509a4c0f1ffc",
         "x": [
          "9-2"
         ],
         "y": [
          0
         ]
        },
        {
         "name": "任雪_完成个性化数",
         "type": "scatter",
         "uid": "f72f2a19-c202-11e8-a798-509a4c0f1ffc",
         "x": [
          "9-2"
         ],
         "y": [
          0
         ]
        },
        {
         "name": "赵玥_完成商业项目数",
         "type": "scatter",
         "uid": "f72f2a1a-c202-11e8-bd12-509a4c0f1ffc",
         "x": [
          "9-2"
         ],
         "y": [
          0
         ]
        },
        {
         "name": "赵玥_完成个性化数",
         "type": "scatter",
         "uid": "f72f2a1b-c202-11e8-b1cb-509a4c0f1ffc",
         "x": [
          "9-2"
         ],
         "y": [
          2
         ]
        },
        {
         "name": "李庆原_完成商业项目数",
         "type": "scatter",
         "uid": "f72f2a1c-c202-11e8-9d12-509a4c0f1ffc",
         "x": [
          "9-2"
         ],
         "y": [
          0
         ]
        },
        {
         "name": "李庆原_完成个性化数",
         "type": "scatter",
         "uid": "f72f2a1d-c202-11e8-bfa8-509a4c0f1ffc",
         "x": [
          "9-2"
         ],
         "y": [
          0
         ]
        },
        {
         "name": "于勇一_完成商业项目数",
         "type": "scatter",
         "uid": "f72f2a1e-c202-11e8-8b08-509a4c0f1ffc",
         "x": [
          "9-2",
          "9-3"
         ],
         "y": [
          1,
          5
         ]
        },
        {
         "name": "于勇一_完成个性化数",
         "type": "scatter",
         "uid": "f72f2a1f-c202-11e8-92d3-509a4c0f1ffc",
         "x": [
          "9-2",
          "9-3"
         ],
         "y": [
          0,
          0
         ]
        },
        {
         "name": "苏彦勋_完成商业项目数",
         "type": "scatter",
         "uid": "f72f2a20-c202-11e8-a171-509a4c0f1ffc",
         "x": [
          "9-2",
          "9-3"
         ],
         "y": [
          0,
          1
         ]
        },
        {
         "name": "苏彦勋_完成个性化数",
         "type": "scatter",
         "uid": "f72f2a21-c202-11e8-9130-509a4c0f1ffc",
         "x": [
          "9-2",
          "9-3"
         ],
         "y": [
          0,
          0
         ]
        },
        {
         "name": "封彦杰_完成商业项目数",
         "type": "scatter",
         "uid": "f72f2a22-c202-11e8-9bff-509a4c0f1ffc",
         "x": [
          "9-2"
         ],
         "y": [
          0
         ]
        },
        {
         "name": "封彦杰_完成个性化数",
         "type": "scatter",
         "uid": "f72f2a23-c202-11e8-9ec1-509a4c0f1ffc",
         "x": [
          "9-2"
         ],
         "y": [
          0
         ]
        },
        {
         "name": "马潇_完成商业项目数",
         "type": "scatter",
         "uid": "f72f2a24-c202-11e8-9e6d-509a4c0f1ffc",
         "x": [
          "9-2"
         ],
         "y": [
          4
         ]
        },
        {
         "name": "马潇_完成个性化数",
         "type": "scatter",
         "uid": "f72f2a25-c202-11e8-b0d5-509a4c0f1ffc",
         "x": [
          "9-2"
         ],
         "y": [
          3
         ]
        },
        {
         "name": "杨伟飞_完成商业项目数",
         "type": "scatter",
         "uid": "f72f2a26-c202-11e8-91ee-509a4c0f1ffc",
         "x": [
          "9-2",
          "9-3"
         ],
         "y": [
          0,
          1
         ]
        },
        {
         "name": "杨伟飞_完成个性化数",
         "type": "scatter",
         "uid": "f72f2a27-c202-11e8-a268-509a4c0f1ffc",
         "x": [
          "9-2",
          "9-3"
         ],
         "y": [
          3,
          1
         ]
        },
        {
         "name": "路慧萍_完成商业项目数",
         "type": "scatter",
         "uid": "f72f2a28-c202-11e8-ac5c-509a4c0f1ffc",
         "x": [
          "9-2"
         ],
         "y": [
          1
         ]
        },
        {
         "name": "路慧萍_完成个性化数",
         "type": "scatter",
         "uid": "f72f2a29-c202-11e8-817d-509a4c0f1ffc",
         "x": [
          "9-2"
         ],
         "y": [
          0
         ]
        },
        {
         "name": "孟昊_完成商业项目数",
         "type": "scatter",
         "uid": "f72f2a2a-c202-11e8-bc9c-509a4c0f1ffc",
         "x": [
          "9-2"
         ],
         "y": [
          0
         ]
        },
        {
         "name": "孟昊_完成个性化数",
         "type": "scatter",
         "uid": "f72f2a2b-c202-11e8-a266-509a4c0f1ffc",
         "x": [
          "9-2"
         ],
         "y": [
          0
         ]
        },
        {
         "name": "李华云_完成商业项目数",
         "type": "scatter",
         "uid": "f72f2a2c-c202-11e8-8797-509a4c0f1ffc",
         "x": [
          "9-3"
         ],
         "y": [
          0
         ]
        },
        {
         "name": "李华云_完成个性化数",
         "type": "scatter",
         "uid": "f72f2a2d-c202-11e8-bed6-509a4c0f1ffc",
         "x": [
          "9-3"
         ],
         "y": [
          1
         ]
        },
        {
         "name": "谢德健_完成商业项目数",
         "type": "scatter",
         "uid": "f72f2a2e-c202-11e8-9044-509a4c0f1ffc",
         "x": [
          "9-3"
         ],
         "y": [
          0
         ]
        },
        {
         "name": "谢德健_完成个性化数",
         "type": "scatter",
         "uid": "f72f2a2f-c202-11e8-8d36-509a4c0f1ffc",
         "x": [
          "9-3"
         ],
         "y": [
          2
         ]
        }
       ],
       "layout": {
        "title": "完成商业项目数&完成个性化数周趋势图",
        "xaxis": {
         "mirror": "all",
         "nticks": 20,
         "showgrid": true,
         "showline": true,
         "title": "周",
         "zeroline": true
        },
        "yaxis": {
         "mirror": "all",
         "nticks": 20,
         "showgrid": true,
         "showline": true,
         "title": "完成商业项目数&完成个性化数",
         "zeroline": true
        }
       }
      },
      "text/html": [
       "<div id=\"e2333565-7806-4296-bf0b-a97abd7943b3\" style=\"height: 525px; width: 100%;\" class=\"plotly-graph-div\"></div><script type=\"text/javascript\">require([\"plotly\"], function(Plotly) { window.PLOTLYENV=window.PLOTLYENV || {};window.PLOTLYENV.BASE_URL=\"https://plot.ly\";\n",
       "        Plotly.plot(\n",
       "            'e2333565-7806-4296-bf0b-a97abd7943b3',\n",
       "            [{\"name\": \"\\u5218\\u6c5f_\\u5b8c\\u6210\\u5546\\u4e1a\\u9879\\u76ee\\u6570\", \"x\": [\"9-2\", \"9-3\"], \"y\": [2.0, 0.0], \"type\": \"scatter\", \"uid\": \"f72f2a12-c202-11e8-a8f8-509a4c0f1ffc\"}, {\"name\": \"\\u5218\\u6c5f_\\u5b8c\\u6210\\u4e2a\\u6027\\u5316\\u6570\", \"x\": [\"9-2\", \"9-3\"], \"y\": [4.0, 1.0], \"type\": \"scatter\", \"uid\": \"f72f2a13-c202-11e8-a65a-509a4c0f1ffc\"}, {\"name\": \"\\u4e8e\\u6167_\\u5b8c\\u6210\\u5546\\u4e1a\\u9879\\u76ee\\u6570\", \"x\": [\"9-2\", \"9-3\"], \"y\": [0.0, 1.0], \"type\": \"scatter\", \"uid\": \"f72f2a14-c202-11e8-8c3d-509a4c0f1ffc\"}, {\"name\": \"\\u4e8e\\u6167_\\u5b8c\\u6210\\u4e2a\\u6027\\u5316\\u6570\", \"x\": [\"9-2\", \"9-3\"], \"y\": [1.0, 1.0], \"type\": \"scatter\", \"uid\": \"f72f2a15-c202-11e8-9d66-509a4c0f1ffc\"}, {\"name\": \"\\u5360\\u4f1f_\\u5b8c\\u6210\\u5546\\u4e1a\\u9879\\u76ee\\u6570\", \"x\": [\"9-2\"], \"y\": [6.0], \"type\": \"scatter\", \"uid\": \"f72f2a16-c202-11e8-8e2b-509a4c0f1ffc\"}, {\"name\": \"\\u5360\\u4f1f_\\u5b8c\\u6210\\u4e2a\\u6027\\u5316\\u6570\", \"x\": [\"9-2\"], \"y\": [2.0], \"type\": \"scatter\", \"uid\": \"f72f2a17-c202-11e8-8fa7-509a4c0f1ffc\"}, {\"name\": \"\\u4efb\\u96ea_\\u5b8c\\u6210\\u5546\\u4e1a\\u9879\\u76ee\\u6570\", \"x\": [\"9-2\"], \"y\": [0.0], \"type\": \"scatter\", \"uid\": \"f72f2a18-c202-11e8-90e5-509a4c0f1ffc\"}, {\"name\": \"\\u4efb\\u96ea_\\u5b8c\\u6210\\u4e2a\\u6027\\u5316\\u6570\", \"x\": [\"9-2\"], \"y\": [0.0], \"type\": \"scatter\", \"uid\": \"f72f2a19-c202-11e8-a798-509a4c0f1ffc\"}, {\"name\": \"\\u8d75\\u73a5_\\u5b8c\\u6210\\u5546\\u4e1a\\u9879\\u76ee\\u6570\", \"x\": [\"9-2\"], \"y\": [0.0], \"type\": \"scatter\", \"uid\": \"f72f2a1a-c202-11e8-bd12-509a4c0f1ffc\"}, {\"name\": \"\\u8d75\\u73a5_\\u5b8c\\u6210\\u4e2a\\u6027\\u5316\\u6570\", \"x\": [\"9-2\"], \"y\": [2.0], \"type\": \"scatter\", \"uid\": \"f72f2a1b-c202-11e8-b1cb-509a4c0f1ffc\"}, {\"name\": \"\\u674e\\u5e86\\u539f_\\u5b8c\\u6210\\u5546\\u4e1a\\u9879\\u76ee\\u6570\", \"x\": [\"9-2\"], \"y\": [0.0], \"type\": \"scatter\", \"uid\": \"f72f2a1c-c202-11e8-9d12-509a4c0f1ffc\"}, {\"name\": \"\\u674e\\u5e86\\u539f_\\u5b8c\\u6210\\u4e2a\\u6027\\u5316\\u6570\", \"x\": [\"9-2\"], \"y\": [0.0], \"type\": \"scatter\", \"uid\": \"f72f2a1d-c202-11e8-bfa8-509a4c0f1ffc\"}, {\"name\": \"\\u4e8e\\u52c7\\u4e00_\\u5b8c\\u6210\\u5546\\u4e1a\\u9879\\u76ee\\u6570\", \"x\": [\"9-2\", \"9-3\"], \"y\": [1.0, 5.0], \"type\": \"scatter\", \"uid\": \"f72f2a1e-c202-11e8-8b08-509a4c0f1ffc\"}, {\"name\": \"\\u4e8e\\u52c7\\u4e00_\\u5b8c\\u6210\\u4e2a\\u6027\\u5316\\u6570\", \"x\": [\"9-2\", \"9-3\"], \"y\": [0.0, 0.0], \"type\": \"scatter\", \"uid\": \"f72f2a1f-c202-11e8-92d3-509a4c0f1ffc\"}, {\"name\": \"\\u82cf\\u5f66\\u52cb_\\u5b8c\\u6210\\u5546\\u4e1a\\u9879\\u76ee\\u6570\", \"x\": [\"9-2\", \"9-3\"], \"y\": [0.0, 1.0], \"type\": \"scatter\", \"uid\": \"f72f2a20-c202-11e8-a171-509a4c0f1ffc\"}, {\"name\": \"\\u82cf\\u5f66\\u52cb_\\u5b8c\\u6210\\u4e2a\\u6027\\u5316\\u6570\", \"x\": [\"9-2\", \"9-3\"], \"y\": [0.0, 0.0], \"type\": \"scatter\", \"uid\": \"f72f2a21-c202-11e8-9130-509a4c0f1ffc\"}, {\"name\": \"\\u5c01\\u5f66\\u6770_\\u5b8c\\u6210\\u5546\\u4e1a\\u9879\\u76ee\\u6570\", \"x\": [\"9-2\"], \"y\": [0.0], \"type\": \"scatter\", \"uid\": \"f72f2a22-c202-11e8-9bff-509a4c0f1ffc\"}, {\"name\": \"\\u5c01\\u5f66\\u6770_\\u5b8c\\u6210\\u4e2a\\u6027\\u5316\\u6570\", \"x\": [\"9-2\"], \"y\": [0.0], \"type\": \"scatter\", \"uid\": \"f72f2a23-c202-11e8-9ec1-509a4c0f1ffc\"}, {\"name\": \"\\u9a6c\\u6f47_\\u5b8c\\u6210\\u5546\\u4e1a\\u9879\\u76ee\\u6570\", \"x\": [\"9-2\"], \"y\": [4.0], \"type\": \"scatter\", \"uid\": \"f72f2a24-c202-11e8-9e6d-509a4c0f1ffc\"}, {\"name\": \"\\u9a6c\\u6f47_\\u5b8c\\u6210\\u4e2a\\u6027\\u5316\\u6570\", \"x\": [\"9-2\"], \"y\": [3.0], \"type\": \"scatter\", \"uid\": \"f72f2a25-c202-11e8-b0d5-509a4c0f1ffc\"}, {\"name\": \"\\u6768\\u4f1f\\u98de_\\u5b8c\\u6210\\u5546\\u4e1a\\u9879\\u76ee\\u6570\", \"x\": [\"9-2\", \"9-3\"], \"y\": [0.0, 1.0], \"type\": \"scatter\", \"uid\": \"f72f2a26-c202-11e8-91ee-509a4c0f1ffc\"}, {\"name\": \"\\u6768\\u4f1f\\u98de_\\u5b8c\\u6210\\u4e2a\\u6027\\u5316\\u6570\", \"x\": [\"9-2\", \"9-3\"], \"y\": [3.0, 1.0], \"type\": \"scatter\", \"uid\": \"f72f2a27-c202-11e8-a268-509a4c0f1ffc\"}, {\"name\": \"\\u8def\\u6167\\u840d_\\u5b8c\\u6210\\u5546\\u4e1a\\u9879\\u76ee\\u6570\", \"x\": [\"9-2\"], \"y\": [1.0], \"type\": \"scatter\", \"uid\": \"f72f2a28-c202-11e8-ac5c-509a4c0f1ffc\"}, {\"name\": \"\\u8def\\u6167\\u840d_\\u5b8c\\u6210\\u4e2a\\u6027\\u5316\\u6570\", \"x\": [\"9-2\"], \"y\": [0.0], \"type\": \"scatter\", \"uid\": \"f72f2a29-c202-11e8-817d-509a4c0f1ffc\"}, {\"name\": \"\\u5b5f\\u660a_\\u5b8c\\u6210\\u5546\\u4e1a\\u9879\\u76ee\\u6570\", \"x\": [\"9-2\"], \"y\": [0.0], \"type\": \"scatter\", \"uid\": \"f72f2a2a-c202-11e8-bc9c-509a4c0f1ffc\"}, {\"name\": \"\\u5b5f\\u660a_\\u5b8c\\u6210\\u4e2a\\u6027\\u5316\\u6570\", \"x\": [\"9-2\"], \"y\": [0.0], \"type\": \"scatter\", \"uid\": \"f72f2a2b-c202-11e8-a266-509a4c0f1ffc\"}, {\"name\": \"\\u674e\\u534e\\u4e91_\\u5b8c\\u6210\\u5546\\u4e1a\\u9879\\u76ee\\u6570\", \"x\": [\"9-3\"], \"y\": [0.0], \"type\": \"scatter\", \"uid\": \"f72f2a2c-c202-11e8-8797-509a4c0f1ffc\"}, {\"name\": \"\\u674e\\u534e\\u4e91_\\u5b8c\\u6210\\u4e2a\\u6027\\u5316\\u6570\", \"x\": [\"9-3\"], \"y\": [1.0], \"type\": \"scatter\", \"uid\": \"f72f2a2d-c202-11e8-bed6-509a4c0f1ffc\"}, {\"name\": \"\\u8c22\\u5fb7\\u5065_\\u5b8c\\u6210\\u5546\\u4e1a\\u9879\\u76ee\\u6570\", \"x\": [\"9-3\"], \"y\": [0.0], \"type\": \"scatter\", \"uid\": \"f72f2a2e-c202-11e8-9044-509a4c0f1ffc\"}, {\"name\": \"\\u8c22\\u5fb7\\u5065_\\u5b8c\\u6210\\u4e2a\\u6027\\u5316\\u6570\", \"x\": [\"9-3\"], \"y\": [2.0], \"type\": \"scatter\", \"uid\": \"f72f2a2f-c202-11e8-8d36-509a4c0f1ffc\"}],\n",
       "            {\"title\": \"\\u5b8c\\u6210\\u5546\\u4e1a\\u9879\\u76ee\\u6570&\\u5b8c\\u6210\\u4e2a\\u6027\\u5316\\u6570\\u5468\\u8d8b\\u52bf\\u56fe\", \"xaxis\": {\"mirror\": \"all\", \"nticks\": 20, \"showgrid\": true, \"showline\": true, \"title\": \"\\u5468\", \"zeroline\": true}, \"yaxis\": {\"mirror\": \"all\", \"nticks\": 20, \"showgrid\": true, \"showline\": true, \"title\": \"\\u5b8c\\u6210\\u5546\\u4e1a\\u9879\\u76ee\\u6570&\\u5b8c\\u6210\\u4e2a\\u6027\\u5316\\u6570\", \"zeroline\": true}},\n",
       "            {\"showLink\": true, \"linkText\": \"Export to plot.ly\"}\n",
       "        ).then(function () {return Plotly.addFrames('e2333565-7806-4296-bf0b-a97abd7943b3',{});}).then(function(){Plotly.animate('e2333565-7806-4296-bf0b-a97abd7943b3');})\n",
       "        });</script>"
      ],
      "text/vnd.plotly.v1+html": [
       "<div id=\"e2333565-7806-4296-bf0b-a97abd7943b3\" style=\"height: 525px; width: 100%;\" class=\"plotly-graph-div\"></div><script type=\"text/javascript\">require([\"plotly\"], function(Plotly) { window.PLOTLYENV=window.PLOTLYENV || {};window.PLOTLYENV.BASE_URL=\"https://plot.ly\";\n",
       "        Plotly.plot(\n",
       "            'e2333565-7806-4296-bf0b-a97abd7943b3',\n",
       "            [{\"name\": \"\\u5218\\u6c5f_\\u5b8c\\u6210\\u5546\\u4e1a\\u9879\\u76ee\\u6570\", \"x\": [\"9-2\", \"9-3\"], \"y\": [2.0, 0.0], \"type\": \"scatter\", \"uid\": \"f72f2a12-c202-11e8-a8f8-509a4c0f1ffc\"}, {\"name\": \"\\u5218\\u6c5f_\\u5b8c\\u6210\\u4e2a\\u6027\\u5316\\u6570\", \"x\": [\"9-2\", \"9-3\"], \"y\": [4.0, 1.0], \"type\": \"scatter\", \"uid\": \"f72f2a13-c202-11e8-a65a-509a4c0f1ffc\"}, {\"name\": \"\\u4e8e\\u6167_\\u5b8c\\u6210\\u5546\\u4e1a\\u9879\\u76ee\\u6570\", \"x\": [\"9-2\", \"9-3\"], \"y\": [0.0, 1.0], \"type\": \"scatter\", \"uid\": \"f72f2a14-c202-11e8-8c3d-509a4c0f1ffc\"}, {\"name\": \"\\u4e8e\\u6167_\\u5b8c\\u6210\\u4e2a\\u6027\\u5316\\u6570\", \"x\": [\"9-2\", \"9-3\"], \"y\": [1.0, 1.0], \"type\": \"scatter\", \"uid\": \"f72f2a15-c202-11e8-9d66-509a4c0f1ffc\"}, {\"name\": \"\\u5360\\u4f1f_\\u5b8c\\u6210\\u5546\\u4e1a\\u9879\\u76ee\\u6570\", \"x\": [\"9-2\"], \"y\": [6.0], \"type\": \"scatter\", \"uid\": \"f72f2a16-c202-11e8-8e2b-509a4c0f1ffc\"}, {\"name\": \"\\u5360\\u4f1f_\\u5b8c\\u6210\\u4e2a\\u6027\\u5316\\u6570\", \"x\": [\"9-2\"], \"y\": [2.0], \"type\": \"scatter\", \"uid\": \"f72f2a17-c202-11e8-8fa7-509a4c0f1ffc\"}, {\"name\": \"\\u4efb\\u96ea_\\u5b8c\\u6210\\u5546\\u4e1a\\u9879\\u76ee\\u6570\", \"x\": [\"9-2\"], \"y\": [0.0], \"type\": \"scatter\", \"uid\": \"f72f2a18-c202-11e8-90e5-509a4c0f1ffc\"}, {\"name\": \"\\u4efb\\u96ea_\\u5b8c\\u6210\\u4e2a\\u6027\\u5316\\u6570\", \"x\": [\"9-2\"], \"y\": [0.0], \"type\": \"scatter\", \"uid\": \"f72f2a19-c202-11e8-a798-509a4c0f1ffc\"}, {\"name\": \"\\u8d75\\u73a5_\\u5b8c\\u6210\\u5546\\u4e1a\\u9879\\u76ee\\u6570\", \"x\": [\"9-2\"], \"y\": [0.0], \"type\": \"scatter\", \"uid\": \"f72f2a1a-c202-11e8-bd12-509a4c0f1ffc\"}, {\"name\": \"\\u8d75\\u73a5_\\u5b8c\\u6210\\u4e2a\\u6027\\u5316\\u6570\", \"x\": [\"9-2\"], \"y\": [2.0], \"type\": \"scatter\", \"uid\": \"f72f2a1b-c202-11e8-b1cb-509a4c0f1ffc\"}, {\"name\": \"\\u674e\\u5e86\\u539f_\\u5b8c\\u6210\\u5546\\u4e1a\\u9879\\u76ee\\u6570\", \"x\": [\"9-2\"], \"y\": [0.0], \"type\": \"scatter\", \"uid\": \"f72f2a1c-c202-11e8-9d12-509a4c0f1ffc\"}, {\"name\": \"\\u674e\\u5e86\\u539f_\\u5b8c\\u6210\\u4e2a\\u6027\\u5316\\u6570\", \"x\": [\"9-2\"], \"y\": [0.0], \"type\": \"scatter\", \"uid\": \"f72f2a1d-c202-11e8-bfa8-509a4c0f1ffc\"}, {\"name\": \"\\u4e8e\\u52c7\\u4e00_\\u5b8c\\u6210\\u5546\\u4e1a\\u9879\\u76ee\\u6570\", \"x\": [\"9-2\", \"9-3\"], \"y\": [1.0, 5.0], \"type\": \"scatter\", \"uid\": \"f72f2a1e-c202-11e8-8b08-509a4c0f1ffc\"}, {\"name\": \"\\u4e8e\\u52c7\\u4e00_\\u5b8c\\u6210\\u4e2a\\u6027\\u5316\\u6570\", \"x\": [\"9-2\", \"9-3\"], \"y\": [0.0, 0.0], \"type\": \"scatter\", \"uid\": \"f72f2a1f-c202-11e8-92d3-509a4c0f1ffc\"}, {\"name\": \"\\u82cf\\u5f66\\u52cb_\\u5b8c\\u6210\\u5546\\u4e1a\\u9879\\u76ee\\u6570\", \"x\": [\"9-2\", \"9-3\"], \"y\": [0.0, 1.0], \"type\": \"scatter\", \"uid\": \"f72f2a20-c202-11e8-a171-509a4c0f1ffc\"}, {\"name\": \"\\u82cf\\u5f66\\u52cb_\\u5b8c\\u6210\\u4e2a\\u6027\\u5316\\u6570\", \"x\": [\"9-2\", \"9-3\"], \"y\": [0.0, 0.0], \"type\": \"scatter\", \"uid\": \"f72f2a21-c202-11e8-9130-509a4c0f1ffc\"}, {\"name\": \"\\u5c01\\u5f66\\u6770_\\u5b8c\\u6210\\u5546\\u4e1a\\u9879\\u76ee\\u6570\", \"x\": [\"9-2\"], \"y\": [0.0], \"type\": \"scatter\", \"uid\": \"f72f2a22-c202-11e8-9bff-509a4c0f1ffc\"}, {\"name\": \"\\u5c01\\u5f66\\u6770_\\u5b8c\\u6210\\u4e2a\\u6027\\u5316\\u6570\", \"x\": [\"9-2\"], \"y\": [0.0], \"type\": \"scatter\", \"uid\": \"f72f2a23-c202-11e8-9ec1-509a4c0f1ffc\"}, {\"name\": \"\\u9a6c\\u6f47_\\u5b8c\\u6210\\u5546\\u4e1a\\u9879\\u76ee\\u6570\", \"x\": [\"9-2\"], \"y\": [4.0], \"type\": \"scatter\", \"uid\": \"f72f2a24-c202-11e8-9e6d-509a4c0f1ffc\"}, {\"name\": \"\\u9a6c\\u6f47_\\u5b8c\\u6210\\u4e2a\\u6027\\u5316\\u6570\", \"x\": [\"9-2\"], \"y\": [3.0], \"type\": \"scatter\", \"uid\": \"f72f2a25-c202-11e8-b0d5-509a4c0f1ffc\"}, {\"name\": \"\\u6768\\u4f1f\\u98de_\\u5b8c\\u6210\\u5546\\u4e1a\\u9879\\u76ee\\u6570\", \"x\": [\"9-2\", \"9-3\"], \"y\": [0.0, 1.0], \"type\": \"scatter\", \"uid\": \"f72f2a26-c202-11e8-91ee-509a4c0f1ffc\"}, {\"name\": \"\\u6768\\u4f1f\\u98de_\\u5b8c\\u6210\\u4e2a\\u6027\\u5316\\u6570\", \"x\": [\"9-2\", \"9-3\"], \"y\": [3.0, 1.0], \"type\": \"scatter\", \"uid\": \"f72f2a27-c202-11e8-a268-509a4c0f1ffc\"}, {\"name\": \"\\u8def\\u6167\\u840d_\\u5b8c\\u6210\\u5546\\u4e1a\\u9879\\u76ee\\u6570\", \"x\": [\"9-2\"], \"y\": [1.0], \"type\": \"scatter\", \"uid\": \"f72f2a28-c202-11e8-ac5c-509a4c0f1ffc\"}, {\"name\": \"\\u8def\\u6167\\u840d_\\u5b8c\\u6210\\u4e2a\\u6027\\u5316\\u6570\", \"x\": [\"9-2\"], \"y\": [0.0], \"type\": \"scatter\", \"uid\": \"f72f2a29-c202-11e8-817d-509a4c0f1ffc\"}, {\"name\": \"\\u5b5f\\u660a_\\u5b8c\\u6210\\u5546\\u4e1a\\u9879\\u76ee\\u6570\", \"x\": [\"9-2\"], \"y\": [0.0], \"type\": \"scatter\", \"uid\": \"f72f2a2a-c202-11e8-bc9c-509a4c0f1ffc\"}, {\"name\": \"\\u5b5f\\u660a_\\u5b8c\\u6210\\u4e2a\\u6027\\u5316\\u6570\", \"x\": [\"9-2\"], \"y\": [0.0], \"type\": \"scatter\", \"uid\": \"f72f2a2b-c202-11e8-a266-509a4c0f1ffc\"}, {\"name\": \"\\u674e\\u534e\\u4e91_\\u5b8c\\u6210\\u5546\\u4e1a\\u9879\\u76ee\\u6570\", \"x\": [\"9-3\"], \"y\": [0.0], \"type\": \"scatter\", \"uid\": \"f72f2a2c-c202-11e8-8797-509a4c0f1ffc\"}, {\"name\": \"\\u674e\\u534e\\u4e91_\\u5b8c\\u6210\\u4e2a\\u6027\\u5316\\u6570\", \"x\": [\"9-3\"], \"y\": [1.0], \"type\": \"scatter\", \"uid\": \"f72f2a2d-c202-11e8-bed6-509a4c0f1ffc\"}, {\"name\": \"\\u8c22\\u5fb7\\u5065_\\u5b8c\\u6210\\u5546\\u4e1a\\u9879\\u76ee\\u6570\", \"x\": [\"9-3\"], \"y\": [0.0], \"type\": \"scatter\", \"uid\": \"f72f2a2e-c202-11e8-9044-509a4c0f1ffc\"}, {\"name\": \"\\u8c22\\u5fb7\\u5065_\\u5b8c\\u6210\\u4e2a\\u6027\\u5316\\u6570\", \"x\": [\"9-3\"], \"y\": [2.0], \"type\": \"scatter\", \"uid\": \"f72f2a2f-c202-11e8-8d36-509a4c0f1ffc\"}],\n",
       "            {\"title\": \"\\u5b8c\\u6210\\u5546\\u4e1a\\u9879\\u76ee\\u6570&\\u5b8c\\u6210\\u4e2a\\u6027\\u5316\\u6570\\u5468\\u8d8b\\u52bf\\u56fe\", \"xaxis\": {\"mirror\": \"all\", \"nticks\": 20, \"showgrid\": true, \"showline\": true, \"title\": \"\\u5468\", \"zeroline\": true}, \"yaxis\": {\"mirror\": \"all\", \"nticks\": 20, \"showgrid\": true, \"showline\": true, \"title\": \"\\u5b8c\\u6210\\u5546\\u4e1a\\u9879\\u76ee\\u6570&\\u5b8c\\u6210\\u4e2a\\u6027\\u5316\\u6570\", \"zeroline\": true}},\n",
       "            {\"showLink\": true, \"linkText\": \"Export to plot.ly\"}\n",
       "        ).then(function () {return Plotly.addFrames('e2333565-7806-4296-bf0b-a97abd7943b3',{});}).then(function(){Plotly.animate('e2333565-7806-4296-bf0b-a97abd7943b3');})\n",
       "        });</script>"
      ]
     },
     "metadata": {},
     "output_type": "display_data"
    },
    {
     "data": {
      "application/vnd.plotly.v1+json": {
       "data": [
        {
         "name": "于勇一_完成商业项目数",
         "type": "scatter",
         "uid": "f75d3ef4-c202-11e8-8310-509a4c0f1ffc",
         "x": [
          "9"
         ],
         "y": [
          6
         ]
        },
        {
         "name": "于勇一_完成个性化数",
         "type": "scatter",
         "uid": "f75d3ef5-c202-11e8-ba1e-509a4c0f1ffc",
         "x": [
          "9"
         ],
         "y": [
          0
         ]
        },
        {
         "name": "于慧_完成商业项目数",
         "type": "scatter",
         "uid": "f75d3ef6-c202-11e8-8ee4-509a4c0f1ffc",
         "x": [
          "9"
         ],
         "y": [
          1
         ]
        },
        {
         "name": "于慧_完成个性化数",
         "type": "scatter",
         "uid": "f75d3ef7-c202-11e8-a7ad-509a4c0f1ffc",
         "x": [
          "9"
         ],
         "y": [
          2
         ]
        },
        {
         "name": "任雪_完成商业项目数",
         "type": "scatter",
         "uid": "f75d3ef8-c202-11e8-b452-509a4c0f1ffc",
         "x": [
          "9"
         ],
         "y": [
          null
         ]
        },
        {
         "name": "任雪_完成个性化数",
         "type": "scatter",
         "uid": "f75d3ef9-c202-11e8-a120-509a4c0f1ffc",
         "x": [
          "9"
         ],
         "y": [
          null
         ]
        },
        {
         "name": "刘江_完成商业项目数",
         "type": "scatter",
         "uid": "f75d3efa-c202-11e8-a311-509a4c0f1ffc",
         "x": [
          "9"
         ],
         "y": [
          2
         ]
        },
        {
         "name": "刘江_完成个性化数",
         "type": "scatter",
         "uid": "f75d3efb-c202-11e8-8ff4-509a4c0f1ffc",
         "x": [
          "9"
         ],
         "y": [
          5
         ]
        },
        {
         "name": "占伟_完成商业项目数",
         "type": "scatter",
         "uid": "f75d3efc-c202-11e8-a89d-509a4c0f1ffc",
         "x": [
          "9"
         ],
         "y": [
          null
         ]
        },
        {
         "name": "占伟_完成个性化数",
         "type": "scatter",
         "uid": "f75d3efd-c202-11e8-ac32-509a4c0f1ffc",
         "x": [
          "9"
         ],
         "y": [
          null
         ]
        },
        {
         "name": "孟昊_完成商业项目数",
         "type": "scatter",
         "uid": "f75d3efe-c202-11e8-9a51-509a4c0f1ffc",
         "x": [
          "9"
         ],
         "y": [
          null
         ]
        },
        {
         "name": "孟昊_完成个性化数",
         "type": "scatter",
         "uid": "f75d3eff-c202-11e8-bc72-509a4c0f1ffc",
         "x": [
          "9"
         ],
         "y": [
          null
         ]
        },
        {
         "name": "封彦杰_完成商业项目数",
         "type": "scatter",
         "uid": "f75d3f00-c202-11e8-9da8-509a4c0f1ffc",
         "x": [
          "9"
         ],
         "y": [
          null
         ]
        },
        {
         "name": "封彦杰_完成个性化数",
         "type": "scatter",
         "uid": "f75d3f01-c202-11e8-8c1e-509a4c0f1ffc",
         "x": [
          "9"
         ],
         "y": [
          null
         ]
        },
        {
         "name": "李华云_完成商业项目数",
         "type": "scatter",
         "uid": "f75d3f02-c202-11e8-ab1e-509a4c0f1ffc",
         "x": [
          "9"
         ],
         "y": [
          null
         ]
        },
        {
         "name": "李华云_完成个性化数",
         "type": "scatter",
         "uid": "f75d3f03-c202-11e8-bbf4-509a4c0f1ffc",
         "x": [
          "9"
         ],
         "y": [
          null
         ]
        },
        {
         "name": "李庆原_完成商业项目数",
         "type": "scatter",
         "uid": "f75d3f04-c202-11e8-b746-509a4c0f1ffc",
         "x": [
          "9"
         ],
         "y": [
          null
         ]
        },
        {
         "name": "李庆原_完成个性化数",
         "type": "scatter",
         "uid": "f75d3f05-c202-11e8-97b2-509a4c0f1ffc",
         "x": [
          "9"
         ],
         "y": [
          null
         ]
        },
        {
         "name": "杨伟飞_完成商业项目数",
         "type": "scatter",
         "uid": "f75d3f06-c202-11e8-8813-509a4c0f1ffc",
         "x": [
          "9"
         ],
         "y": [
          1
         ]
        },
        {
         "name": "杨伟飞_完成个性化数",
         "type": "scatter",
         "uid": "f75d3f07-c202-11e8-9820-509a4c0f1ffc",
         "x": [
          "9"
         ],
         "y": [
          4
         ]
        },
        {
         "name": "苏彦勋_完成商业项目数",
         "type": "scatter",
         "uid": "f75d3f08-c202-11e8-876b-509a4c0f1ffc",
         "x": [
          "9"
         ],
         "y": [
          1
         ]
        },
        {
         "name": "苏彦勋_完成个性化数",
         "type": "scatter",
         "uid": "f75d3f09-c202-11e8-a33b-509a4c0f1ffc",
         "x": [
          "9"
         ],
         "y": [
          0
         ]
        },
        {
         "name": "谢德健_完成商业项目数",
         "type": "scatter",
         "uid": "f75d3f0a-c202-11e8-86a8-509a4c0f1ffc",
         "x": [
          "9"
         ],
         "y": [
          null
         ]
        },
        {
         "name": "谢德健_完成个性化数",
         "type": "scatter",
         "uid": "f75d3f0b-c202-11e8-9a5a-509a4c0f1ffc",
         "x": [
          "9"
         ],
         "y": [
          null
         ]
        },
        {
         "name": "赵玥_完成商业项目数",
         "type": "scatter",
         "uid": "f75d6602-c202-11e8-82e0-509a4c0f1ffc",
         "x": [
          "9"
         ],
         "y": [
          null
         ]
        },
        {
         "name": "赵玥_完成个性化数",
         "type": "scatter",
         "uid": "f75d6603-c202-11e8-9538-509a4c0f1ffc",
         "x": [
          "9"
         ],
         "y": [
          null
         ]
        },
        {
         "name": "路慧萍_完成商业项目数",
         "type": "scatter",
         "uid": "f75d6604-c202-11e8-a851-509a4c0f1ffc",
         "x": [
          "9"
         ],
         "y": [
          null
         ]
        },
        {
         "name": "路慧萍_完成个性化数",
         "type": "scatter",
         "uid": "f75d6605-c202-11e8-8c5f-509a4c0f1ffc",
         "x": [
          "9"
         ],
         "y": [
          null
         ]
        },
        {
         "name": "马潇_完成商业项目数",
         "type": "scatter",
         "uid": "f75d6606-c202-11e8-91db-509a4c0f1ffc",
         "x": [
          "9"
         ],
         "y": [
          null
         ]
        },
        {
         "name": "马潇_完成个性化数",
         "type": "scatter",
         "uid": "f75d6607-c202-11e8-88e8-509a4c0f1ffc",
         "x": [
          "9"
         ],
         "y": [
          null
         ]
        }
       ],
       "layout": {
        "title": "完成商业项目数&完成个性化数月趋势图",
        "xaxis": {
         "mirror": "all",
         "nticks": 20,
         "showgrid": true,
         "showline": true,
         "title": "月",
         "zeroline": true
        },
        "yaxis": {
         "mirror": "all",
         "nticks": 20,
         "showgrid": true,
         "showline": true,
         "title": "完成商业项目数&完成个性化数",
         "zeroline": true
        }
       }
      },
      "text/html": [
       "<div id=\"ab0fc427-d8ee-4a56-ad47-a16fdf06712c\" style=\"height: 525px; width: 100%;\" class=\"plotly-graph-div\"></div><script type=\"text/javascript\">require([\"plotly\"], function(Plotly) { window.PLOTLYENV=window.PLOTLYENV || {};window.PLOTLYENV.BASE_URL=\"https://plot.ly\";\n",
       "        Plotly.plot(\n",
       "            'ab0fc427-d8ee-4a56-ad47-a16fdf06712c',\n",
       "            [{\"name\": \"\\u4e8e\\u52c7\\u4e00_\\u5b8c\\u6210\\u5546\\u4e1a\\u9879\\u76ee\\u6570\", \"x\": [\"9\"], \"y\": [6.0], \"type\": \"scatter\", \"uid\": \"f75d3ef4-c202-11e8-8310-509a4c0f1ffc\"}, {\"name\": \"\\u4e8e\\u52c7\\u4e00_\\u5b8c\\u6210\\u4e2a\\u6027\\u5316\\u6570\", \"x\": [\"9\"], \"y\": [0.0], \"type\": \"scatter\", \"uid\": \"f75d3ef5-c202-11e8-ba1e-509a4c0f1ffc\"}, {\"name\": \"\\u4e8e\\u6167_\\u5b8c\\u6210\\u5546\\u4e1a\\u9879\\u76ee\\u6570\", \"x\": [\"9\"], \"y\": [1.0], \"type\": \"scatter\", \"uid\": \"f75d3ef6-c202-11e8-8ee4-509a4c0f1ffc\"}, {\"name\": \"\\u4e8e\\u6167_\\u5b8c\\u6210\\u4e2a\\u6027\\u5316\\u6570\", \"x\": [\"9\"], \"y\": [2.0], \"type\": \"scatter\", \"uid\": \"f75d3ef7-c202-11e8-a7ad-509a4c0f1ffc\"}, {\"name\": \"\\u4efb\\u96ea_\\u5b8c\\u6210\\u5546\\u4e1a\\u9879\\u76ee\\u6570\", \"x\": [\"9\"], \"y\": [null], \"type\": \"scatter\", \"uid\": \"f75d3ef8-c202-11e8-b452-509a4c0f1ffc\"}, {\"name\": \"\\u4efb\\u96ea_\\u5b8c\\u6210\\u4e2a\\u6027\\u5316\\u6570\", \"x\": [\"9\"], \"y\": [null], \"type\": \"scatter\", \"uid\": \"f75d3ef9-c202-11e8-a120-509a4c0f1ffc\"}, {\"name\": \"\\u5218\\u6c5f_\\u5b8c\\u6210\\u5546\\u4e1a\\u9879\\u76ee\\u6570\", \"x\": [\"9\"], \"y\": [2.0], \"type\": \"scatter\", \"uid\": \"f75d3efa-c202-11e8-a311-509a4c0f1ffc\"}, {\"name\": \"\\u5218\\u6c5f_\\u5b8c\\u6210\\u4e2a\\u6027\\u5316\\u6570\", \"x\": [\"9\"], \"y\": [5.0], \"type\": \"scatter\", \"uid\": \"f75d3efb-c202-11e8-8ff4-509a4c0f1ffc\"}, {\"name\": \"\\u5360\\u4f1f_\\u5b8c\\u6210\\u5546\\u4e1a\\u9879\\u76ee\\u6570\", \"x\": [\"9\"], \"y\": [null], \"type\": \"scatter\", \"uid\": \"f75d3efc-c202-11e8-a89d-509a4c0f1ffc\"}, {\"name\": \"\\u5360\\u4f1f_\\u5b8c\\u6210\\u4e2a\\u6027\\u5316\\u6570\", \"x\": [\"9\"], \"y\": [null], \"type\": \"scatter\", \"uid\": \"f75d3efd-c202-11e8-ac32-509a4c0f1ffc\"}, {\"name\": \"\\u5b5f\\u660a_\\u5b8c\\u6210\\u5546\\u4e1a\\u9879\\u76ee\\u6570\", \"x\": [\"9\"], \"y\": [null], \"type\": \"scatter\", \"uid\": \"f75d3efe-c202-11e8-9a51-509a4c0f1ffc\"}, {\"name\": \"\\u5b5f\\u660a_\\u5b8c\\u6210\\u4e2a\\u6027\\u5316\\u6570\", \"x\": [\"9\"], \"y\": [null], \"type\": \"scatter\", \"uid\": \"f75d3eff-c202-11e8-bc72-509a4c0f1ffc\"}, {\"name\": \"\\u5c01\\u5f66\\u6770_\\u5b8c\\u6210\\u5546\\u4e1a\\u9879\\u76ee\\u6570\", \"x\": [\"9\"], \"y\": [null], \"type\": \"scatter\", \"uid\": \"f75d3f00-c202-11e8-9da8-509a4c0f1ffc\"}, {\"name\": \"\\u5c01\\u5f66\\u6770_\\u5b8c\\u6210\\u4e2a\\u6027\\u5316\\u6570\", \"x\": [\"9\"], \"y\": [null], \"type\": \"scatter\", \"uid\": \"f75d3f01-c202-11e8-8c1e-509a4c0f1ffc\"}, {\"name\": \"\\u674e\\u534e\\u4e91_\\u5b8c\\u6210\\u5546\\u4e1a\\u9879\\u76ee\\u6570\", \"x\": [\"9\"], \"y\": [null], \"type\": \"scatter\", \"uid\": \"f75d3f02-c202-11e8-ab1e-509a4c0f1ffc\"}, {\"name\": \"\\u674e\\u534e\\u4e91_\\u5b8c\\u6210\\u4e2a\\u6027\\u5316\\u6570\", \"x\": [\"9\"], \"y\": [null], \"type\": \"scatter\", \"uid\": \"f75d3f03-c202-11e8-bbf4-509a4c0f1ffc\"}, {\"name\": \"\\u674e\\u5e86\\u539f_\\u5b8c\\u6210\\u5546\\u4e1a\\u9879\\u76ee\\u6570\", \"x\": [\"9\"], \"y\": [null], \"type\": \"scatter\", \"uid\": \"f75d3f04-c202-11e8-b746-509a4c0f1ffc\"}, {\"name\": \"\\u674e\\u5e86\\u539f_\\u5b8c\\u6210\\u4e2a\\u6027\\u5316\\u6570\", \"x\": [\"9\"], \"y\": [null], \"type\": \"scatter\", \"uid\": \"f75d3f05-c202-11e8-97b2-509a4c0f1ffc\"}, {\"name\": \"\\u6768\\u4f1f\\u98de_\\u5b8c\\u6210\\u5546\\u4e1a\\u9879\\u76ee\\u6570\", \"x\": [\"9\"], \"y\": [1.0], \"type\": \"scatter\", \"uid\": \"f75d3f06-c202-11e8-8813-509a4c0f1ffc\"}, {\"name\": \"\\u6768\\u4f1f\\u98de_\\u5b8c\\u6210\\u4e2a\\u6027\\u5316\\u6570\", \"x\": [\"9\"], \"y\": [4.0], \"type\": \"scatter\", \"uid\": \"f75d3f07-c202-11e8-9820-509a4c0f1ffc\"}, {\"name\": \"\\u82cf\\u5f66\\u52cb_\\u5b8c\\u6210\\u5546\\u4e1a\\u9879\\u76ee\\u6570\", \"x\": [\"9\"], \"y\": [1.0], \"type\": \"scatter\", \"uid\": \"f75d3f08-c202-11e8-876b-509a4c0f1ffc\"}, {\"name\": \"\\u82cf\\u5f66\\u52cb_\\u5b8c\\u6210\\u4e2a\\u6027\\u5316\\u6570\", \"x\": [\"9\"], \"y\": [0.0], \"type\": \"scatter\", \"uid\": \"f75d3f09-c202-11e8-a33b-509a4c0f1ffc\"}, {\"name\": \"\\u8c22\\u5fb7\\u5065_\\u5b8c\\u6210\\u5546\\u4e1a\\u9879\\u76ee\\u6570\", \"x\": [\"9\"], \"y\": [null], \"type\": \"scatter\", \"uid\": \"f75d3f0a-c202-11e8-86a8-509a4c0f1ffc\"}, {\"name\": \"\\u8c22\\u5fb7\\u5065_\\u5b8c\\u6210\\u4e2a\\u6027\\u5316\\u6570\", \"x\": [\"9\"], \"y\": [null], \"type\": \"scatter\", \"uid\": \"f75d3f0b-c202-11e8-9a5a-509a4c0f1ffc\"}, {\"name\": \"\\u8d75\\u73a5_\\u5b8c\\u6210\\u5546\\u4e1a\\u9879\\u76ee\\u6570\", \"x\": [\"9\"], \"y\": [null], \"type\": \"scatter\", \"uid\": \"f75d6602-c202-11e8-82e0-509a4c0f1ffc\"}, {\"name\": \"\\u8d75\\u73a5_\\u5b8c\\u6210\\u4e2a\\u6027\\u5316\\u6570\", \"x\": [\"9\"], \"y\": [null], \"type\": \"scatter\", \"uid\": \"f75d6603-c202-11e8-9538-509a4c0f1ffc\"}, {\"name\": \"\\u8def\\u6167\\u840d_\\u5b8c\\u6210\\u5546\\u4e1a\\u9879\\u76ee\\u6570\", \"x\": [\"9\"], \"y\": [null], \"type\": \"scatter\", \"uid\": \"f75d6604-c202-11e8-a851-509a4c0f1ffc\"}, {\"name\": \"\\u8def\\u6167\\u840d_\\u5b8c\\u6210\\u4e2a\\u6027\\u5316\\u6570\", \"x\": [\"9\"], \"y\": [null], \"type\": \"scatter\", \"uid\": \"f75d6605-c202-11e8-8c5f-509a4c0f1ffc\"}, {\"name\": \"\\u9a6c\\u6f47_\\u5b8c\\u6210\\u5546\\u4e1a\\u9879\\u76ee\\u6570\", \"x\": [\"9\"], \"y\": [null], \"type\": \"scatter\", \"uid\": \"f75d6606-c202-11e8-91db-509a4c0f1ffc\"}, {\"name\": \"\\u9a6c\\u6f47_\\u5b8c\\u6210\\u4e2a\\u6027\\u5316\\u6570\", \"x\": [\"9\"], \"y\": [null], \"type\": \"scatter\", \"uid\": \"f75d6607-c202-11e8-88e8-509a4c0f1ffc\"}],\n",
       "            {\"title\": \"\\u5b8c\\u6210\\u5546\\u4e1a\\u9879\\u76ee\\u6570&\\u5b8c\\u6210\\u4e2a\\u6027\\u5316\\u6570\\u6708\\u8d8b\\u52bf\\u56fe\", \"xaxis\": {\"mirror\": \"all\", \"nticks\": 20, \"showgrid\": true, \"showline\": true, \"title\": \"\\u6708\", \"zeroline\": true}, \"yaxis\": {\"mirror\": \"all\", \"nticks\": 20, \"showgrid\": true, \"showline\": true, \"title\": \"\\u5b8c\\u6210\\u5546\\u4e1a\\u9879\\u76ee\\u6570&\\u5b8c\\u6210\\u4e2a\\u6027\\u5316\\u6570\", \"zeroline\": true}},\n",
       "            {\"showLink\": true, \"linkText\": \"Export to plot.ly\"}\n",
       "        ).then(function () {return Plotly.addFrames('ab0fc427-d8ee-4a56-ad47-a16fdf06712c',{});}).then(function(){Plotly.animate('ab0fc427-d8ee-4a56-ad47-a16fdf06712c');})\n",
       "        });</script>"
      ],
      "text/vnd.plotly.v1+html": [
       "<div id=\"ab0fc427-d8ee-4a56-ad47-a16fdf06712c\" style=\"height: 525px; width: 100%;\" class=\"plotly-graph-div\"></div><script type=\"text/javascript\">require([\"plotly\"], function(Plotly) { window.PLOTLYENV=window.PLOTLYENV || {};window.PLOTLYENV.BASE_URL=\"https://plot.ly\";\n",
       "        Plotly.plot(\n",
       "            'ab0fc427-d8ee-4a56-ad47-a16fdf06712c',\n",
       "            [{\"name\": \"\\u4e8e\\u52c7\\u4e00_\\u5b8c\\u6210\\u5546\\u4e1a\\u9879\\u76ee\\u6570\", \"x\": [\"9\"], \"y\": [6.0], \"type\": \"scatter\", \"uid\": \"f75d3ef4-c202-11e8-8310-509a4c0f1ffc\"}, {\"name\": \"\\u4e8e\\u52c7\\u4e00_\\u5b8c\\u6210\\u4e2a\\u6027\\u5316\\u6570\", \"x\": [\"9\"], \"y\": [0.0], \"type\": \"scatter\", \"uid\": \"f75d3ef5-c202-11e8-ba1e-509a4c0f1ffc\"}, {\"name\": \"\\u4e8e\\u6167_\\u5b8c\\u6210\\u5546\\u4e1a\\u9879\\u76ee\\u6570\", \"x\": [\"9\"], \"y\": [1.0], \"type\": \"scatter\", \"uid\": \"f75d3ef6-c202-11e8-8ee4-509a4c0f1ffc\"}, {\"name\": \"\\u4e8e\\u6167_\\u5b8c\\u6210\\u4e2a\\u6027\\u5316\\u6570\", \"x\": [\"9\"], \"y\": [2.0], \"type\": \"scatter\", \"uid\": \"f75d3ef7-c202-11e8-a7ad-509a4c0f1ffc\"}, {\"name\": \"\\u4efb\\u96ea_\\u5b8c\\u6210\\u5546\\u4e1a\\u9879\\u76ee\\u6570\", \"x\": [\"9\"], \"y\": [null], \"type\": \"scatter\", \"uid\": \"f75d3ef8-c202-11e8-b452-509a4c0f1ffc\"}, {\"name\": \"\\u4efb\\u96ea_\\u5b8c\\u6210\\u4e2a\\u6027\\u5316\\u6570\", \"x\": [\"9\"], \"y\": [null], \"type\": \"scatter\", \"uid\": \"f75d3ef9-c202-11e8-a120-509a4c0f1ffc\"}, {\"name\": \"\\u5218\\u6c5f_\\u5b8c\\u6210\\u5546\\u4e1a\\u9879\\u76ee\\u6570\", \"x\": [\"9\"], \"y\": [2.0], \"type\": \"scatter\", \"uid\": \"f75d3efa-c202-11e8-a311-509a4c0f1ffc\"}, {\"name\": \"\\u5218\\u6c5f_\\u5b8c\\u6210\\u4e2a\\u6027\\u5316\\u6570\", \"x\": [\"9\"], \"y\": [5.0], \"type\": \"scatter\", \"uid\": \"f75d3efb-c202-11e8-8ff4-509a4c0f1ffc\"}, {\"name\": \"\\u5360\\u4f1f_\\u5b8c\\u6210\\u5546\\u4e1a\\u9879\\u76ee\\u6570\", \"x\": [\"9\"], \"y\": [null], \"type\": \"scatter\", \"uid\": \"f75d3efc-c202-11e8-a89d-509a4c0f1ffc\"}, {\"name\": \"\\u5360\\u4f1f_\\u5b8c\\u6210\\u4e2a\\u6027\\u5316\\u6570\", \"x\": [\"9\"], \"y\": [null], \"type\": \"scatter\", \"uid\": \"f75d3efd-c202-11e8-ac32-509a4c0f1ffc\"}, {\"name\": \"\\u5b5f\\u660a_\\u5b8c\\u6210\\u5546\\u4e1a\\u9879\\u76ee\\u6570\", \"x\": [\"9\"], \"y\": [null], \"type\": \"scatter\", \"uid\": \"f75d3efe-c202-11e8-9a51-509a4c0f1ffc\"}, {\"name\": \"\\u5b5f\\u660a_\\u5b8c\\u6210\\u4e2a\\u6027\\u5316\\u6570\", \"x\": [\"9\"], \"y\": [null], \"type\": \"scatter\", \"uid\": \"f75d3eff-c202-11e8-bc72-509a4c0f1ffc\"}, {\"name\": \"\\u5c01\\u5f66\\u6770_\\u5b8c\\u6210\\u5546\\u4e1a\\u9879\\u76ee\\u6570\", \"x\": [\"9\"], \"y\": [null], \"type\": \"scatter\", \"uid\": \"f75d3f00-c202-11e8-9da8-509a4c0f1ffc\"}, {\"name\": \"\\u5c01\\u5f66\\u6770_\\u5b8c\\u6210\\u4e2a\\u6027\\u5316\\u6570\", \"x\": [\"9\"], \"y\": [null], \"type\": \"scatter\", \"uid\": \"f75d3f01-c202-11e8-8c1e-509a4c0f1ffc\"}, {\"name\": \"\\u674e\\u534e\\u4e91_\\u5b8c\\u6210\\u5546\\u4e1a\\u9879\\u76ee\\u6570\", \"x\": [\"9\"], \"y\": [null], \"type\": \"scatter\", \"uid\": \"f75d3f02-c202-11e8-ab1e-509a4c0f1ffc\"}, {\"name\": \"\\u674e\\u534e\\u4e91_\\u5b8c\\u6210\\u4e2a\\u6027\\u5316\\u6570\", \"x\": [\"9\"], \"y\": [null], \"type\": \"scatter\", \"uid\": \"f75d3f03-c202-11e8-bbf4-509a4c0f1ffc\"}, {\"name\": \"\\u674e\\u5e86\\u539f_\\u5b8c\\u6210\\u5546\\u4e1a\\u9879\\u76ee\\u6570\", \"x\": [\"9\"], \"y\": [null], \"type\": \"scatter\", \"uid\": \"f75d3f04-c202-11e8-b746-509a4c0f1ffc\"}, {\"name\": \"\\u674e\\u5e86\\u539f_\\u5b8c\\u6210\\u4e2a\\u6027\\u5316\\u6570\", \"x\": [\"9\"], \"y\": [null], \"type\": \"scatter\", \"uid\": \"f75d3f05-c202-11e8-97b2-509a4c0f1ffc\"}, {\"name\": \"\\u6768\\u4f1f\\u98de_\\u5b8c\\u6210\\u5546\\u4e1a\\u9879\\u76ee\\u6570\", \"x\": [\"9\"], \"y\": [1.0], \"type\": \"scatter\", \"uid\": \"f75d3f06-c202-11e8-8813-509a4c0f1ffc\"}, {\"name\": \"\\u6768\\u4f1f\\u98de_\\u5b8c\\u6210\\u4e2a\\u6027\\u5316\\u6570\", \"x\": [\"9\"], \"y\": [4.0], \"type\": \"scatter\", \"uid\": \"f75d3f07-c202-11e8-9820-509a4c0f1ffc\"}, {\"name\": \"\\u82cf\\u5f66\\u52cb_\\u5b8c\\u6210\\u5546\\u4e1a\\u9879\\u76ee\\u6570\", \"x\": [\"9\"], \"y\": [1.0], \"type\": \"scatter\", \"uid\": \"f75d3f08-c202-11e8-876b-509a4c0f1ffc\"}, {\"name\": \"\\u82cf\\u5f66\\u52cb_\\u5b8c\\u6210\\u4e2a\\u6027\\u5316\\u6570\", \"x\": [\"9\"], \"y\": [0.0], \"type\": \"scatter\", \"uid\": \"f75d3f09-c202-11e8-a33b-509a4c0f1ffc\"}, {\"name\": \"\\u8c22\\u5fb7\\u5065_\\u5b8c\\u6210\\u5546\\u4e1a\\u9879\\u76ee\\u6570\", \"x\": [\"9\"], \"y\": [null], \"type\": \"scatter\", \"uid\": \"f75d3f0a-c202-11e8-86a8-509a4c0f1ffc\"}, {\"name\": \"\\u8c22\\u5fb7\\u5065_\\u5b8c\\u6210\\u4e2a\\u6027\\u5316\\u6570\", \"x\": [\"9\"], \"y\": [null], \"type\": \"scatter\", \"uid\": \"f75d3f0b-c202-11e8-9a5a-509a4c0f1ffc\"}, {\"name\": \"\\u8d75\\u73a5_\\u5b8c\\u6210\\u5546\\u4e1a\\u9879\\u76ee\\u6570\", \"x\": [\"9\"], \"y\": [null], \"type\": \"scatter\", \"uid\": \"f75d6602-c202-11e8-82e0-509a4c0f1ffc\"}, {\"name\": \"\\u8d75\\u73a5_\\u5b8c\\u6210\\u4e2a\\u6027\\u5316\\u6570\", \"x\": [\"9\"], \"y\": [null], \"type\": \"scatter\", \"uid\": \"f75d6603-c202-11e8-9538-509a4c0f1ffc\"}, {\"name\": \"\\u8def\\u6167\\u840d_\\u5b8c\\u6210\\u5546\\u4e1a\\u9879\\u76ee\\u6570\", \"x\": [\"9\"], \"y\": [null], \"type\": \"scatter\", \"uid\": \"f75d6604-c202-11e8-a851-509a4c0f1ffc\"}, {\"name\": \"\\u8def\\u6167\\u840d_\\u5b8c\\u6210\\u4e2a\\u6027\\u5316\\u6570\", \"x\": [\"9\"], \"y\": [null], \"type\": \"scatter\", \"uid\": \"f75d6605-c202-11e8-8c5f-509a4c0f1ffc\"}, {\"name\": \"\\u9a6c\\u6f47_\\u5b8c\\u6210\\u5546\\u4e1a\\u9879\\u76ee\\u6570\", \"x\": [\"9\"], \"y\": [null], \"type\": \"scatter\", \"uid\": \"f75d6606-c202-11e8-91db-509a4c0f1ffc\"}, {\"name\": \"\\u9a6c\\u6f47_\\u5b8c\\u6210\\u4e2a\\u6027\\u5316\\u6570\", \"x\": [\"9\"], \"y\": [null], \"type\": \"scatter\", \"uid\": \"f75d6607-c202-11e8-88e8-509a4c0f1ffc\"}],\n",
       "            {\"title\": \"\\u5b8c\\u6210\\u5546\\u4e1a\\u9879\\u76ee\\u6570&\\u5b8c\\u6210\\u4e2a\\u6027\\u5316\\u6570\\u6708\\u8d8b\\u52bf\\u56fe\", \"xaxis\": {\"mirror\": \"all\", \"nticks\": 20, \"showgrid\": true, \"showline\": true, \"title\": \"\\u6708\", \"zeroline\": true}, \"yaxis\": {\"mirror\": \"all\", \"nticks\": 20, \"showgrid\": true, \"showline\": true, \"title\": \"\\u5b8c\\u6210\\u5546\\u4e1a\\u9879\\u76ee\\u6570&\\u5b8c\\u6210\\u4e2a\\u6027\\u5316\\u6570\", \"zeroline\": true}},\n",
       "            {\"showLink\": true, \"linkText\": \"Export to plot.ly\"}\n",
       "        ).then(function () {return Plotly.addFrames('ab0fc427-d8ee-4a56-ad47-a16fdf06712c',{});}).then(function(){Plotly.animate('ab0fc427-d8ee-4a56-ad47-a16fdf06712c');})\n",
       "        });</script>"
      ]
     },
     "metadata": {},
     "output_type": "display_data"
    }
   ],
   "source": [
    "data_dict = {'完成商业项目数':['完成商业项目数'],'完成个性化数':['完成个性化数']}\n",
    "myModule.plot( all_dict_2, data_dict, '负责人','line' )"
   ]
  },
  {
   "cell_type": "markdown",
   "metadata": {},
   "source": [
    "### 个人延期项目数"
   ]
  },
  {
   "cell_type": "code",
   "execution_count": 83,
   "metadata": {},
   "outputs": [
    {
     "data": {
      "application/vnd.plotly.v1+json": {
       "data": [
        {
         "name": "刘江_延期商业项目数",
         "type": "scatter",
         "uid": "f7d8d792-c202-11e8-bdae-509a4c0f1ffc",
         "x": [
          "9-2",
          "9-3"
         ],
         "y": [
          0,
          0
         ]
        },
        {
         "name": "刘江_延期个性化项目数",
         "type": "scatter",
         "uid": "f7d8d793-c202-11e8-ad61-509a4c0f1ffc",
         "x": [
          "9-2",
          "9-3"
         ],
         "y": [
          0,
          0
         ]
        },
        {
         "name": "于慧_延期商业项目数",
         "type": "scatter",
         "uid": "f7d8d794-c202-11e8-9d77-509a4c0f1ffc",
         "x": [
          "9-2",
          "9-3"
         ],
         "y": [
          0,
          0
         ]
        },
        {
         "name": "于慧_延期个性化项目数",
         "type": "scatter",
         "uid": "f7d8d795-c202-11e8-942d-509a4c0f1ffc",
         "x": [
          "9-2",
          "9-3"
         ],
         "y": [
          0,
          0
         ]
        },
        {
         "name": "占伟_延期商业项目数",
         "type": "scatter",
         "uid": "f7d8d796-c202-11e8-aca7-509a4c0f1ffc",
         "x": [
          "9-2"
         ],
         "y": [
          0
         ]
        },
        {
         "name": "占伟_延期个性化项目数",
         "type": "scatter",
         "uid": "f7d8d797-c202-11e8-97fe-509a4c0f1ffc",
         "x": [
          "9-2"
         ],
         "y": [
          0
         ]
        },
        {
         "name": "任雪_延期商业项目数",
         "type": "scatter",
         "uid": "f7d8d798-c202-11e8-ab5a-509a4c0f1ffc",
         "x": [
          "9-2"
         ],
         "y": [
          0
         ]
        },
        {
         "name": "任雪_延期个性化项目数",
         "type": "scatter",
         "uid": "f7d8d799-c202-11e8-a1e4-509a4c0f1ffc",
         "x": [
          "9-2"
         ],
         "y": [
          0
         ]
        },
        {
         "name": "赵玥_延期商业项目数",
         "type": "scatter",
         "uid": "f7d8d79a-c202-11e8-a3ee-509a4c0f1ffc",
         "x": [
          "9-2"
         ],
         "y": [
          0
         ]
        },
        {
         "name": "赵玥_延期个性化项目数",
         "type": "scatter",
         "uid": "f7d8d79b-c202-11e8-a143-509a4c0f1ffc",
         "x": [
          "9-2"
         ],
         "y": [
          1
         ]
        },
        {
         "name": "李庆原_延期商业项目数",
         "type": "scatter",
         "uid": "f7d8d79c-c202-11e8-8cd7-509a4c0f1ffc",
         "x": [
          "9-2"
         ],
         "y": [
          0
         ]
        },
        {
         "name": "李庆原_延期个性化项目数",
         "type": "scatter",
         "uid": "f7d8d79d-c202-11e8-9319-509a4c0f1ffc",
         "x": [
          "9-2"
         ],
         "y": [
          0
         ]
        },
        {
         "name": "于勇一_延期商业项目数",
         "type": "scatter",
         "uid": "f7d8d79e-c202-11e8-b282-509a4c0f1ffc",
         "x": [
          "9-2",
          "9-3"
         ],
         "y": [
          0,
          0
         ]
        },
        {
         "name": "于勇一_延期个性化项目数",
         "type": "scatter",
         "uid": "f7d8d79f-c202-11e8-bb39-509a4c0f1ffc",
         "x": [
          "9-2",
          "9-3"
         ],
         "y": [
          0,
          0
         ]
        },
        {
         "name": "苏彦勋_延期商业项目数",
         "type": "scatter",
         "uid": "f7d8fea2-c202-11e8-a362-509a4c0f1ffc",
         "x": [
          "9-2",
          "9-3"
         ],
         "y": [
          0,
          0
         ]
        },
        {
         "name": "苏彦勋_延期个性化项目数",
         "type": "scatter",
         "uid": "f7d8fea3-c202-11e8-ab61-509a4c0f1ffc",
         "x": [
          "9-2",
          "9-3"
         ],
         "y": [
          0,
          0
         ]
        },
        {
         "name": "封彦杰_延期商业项目数",
         "type": "scatter",
         "uid": "f7d8fea4-c202-11e8-8d18-509a4c0f1ffc",
         "x": [
          "9-2"
         ],
         "y": [
          0
         ]
        },
        {
         "name": "封彦杰_延期个性化项目数",
         "type": "scatter",
         "uid": "f7d8fea5-c202-11e8-ac99-509a4c0f1ffc",
         "x": [
          "9-2"
         ],
         "y": [
          0
         ]
        },
        {
         "name": "马潇_延期商业项目数",
         "type": "scatter",
         "uid": "f7d8fea6-c202-11e8-a718-509a4c0f1ffc",
         "x": [
          "9-2"
         ],
         "y": [
          0
         ]
        },
        {
         "name": "马潇_延期个性化项目数",
         "type": "scatter",
         "uid": "f7d8fea7-c202-11e8-a175-509a4c0f1ffc",
         "x": [
          "9-2"
         ],
         "y": [
          0
         ]
        },
        {
         "name": "杨伟飞_延期商业项目数",
         "type": "scatter",
         "uid": "f7d8fea8-c202-11e8-99b7-509a4c0f1ffc",
         "x": [
          "9-2",
          "9-3"
         ],
         "y": [
          0,
          0
         ]
        },
        {
         "name": "杨伟飞_延期个性化项目数",
         "type": "scatter",
         "uid": "f7d8fea9-c202-11e8-a654-509a4c0f1ffc",
         "x": [
          "9-2",
          "9-3"
         ],
         "y": [
          0,
          0
         ]
        },
        {
         "name": "路慧萍_延期商业项目数",
         "type": "scatter",
         "uid": "f7d8feaa-c202-11e8-8092-509a4c0f1ffc",
         "x": [
          "9-2"
         ],
         "y": [
          0
         ]
        },
        {
         "name": "路慧萍_延期个性化项目数",
         "type": "scatter",
         "uid": "f7d8feab-c202-11e8-8cee-509a4c0f1ffc",
         "x": [
          "9-2"
         ],
         "y": [
          0
         ]
        },
        {
         "name": "孟昊_延期商业项目数",
         "type": "scatter",
         "uid": "f7d8feac-c202-11e8-b625-509a4c0f1ffc",
         "x": [
          "9-2"
         ],
         "y": [
          0
         ]
        },
        {
         "name": "孟昊_延期个性化项目数",
         "type": "scatter",
         "uid": "f7d8fead-c202-11e8-921f-509a4c0f1ffc",
         "x": [
          "9-2"
         ],
         "y": [
          0
         ]
        },
        {
         "name": "李华云_延期商业项目数",
         "type": "scatter",
         "uid": "f7d8feae-c202-11e8-862f-509a4c0f1ffc",
         "x": [
          "9-3"
         ],
         "y": [
          0
         ]
        },
        {
         "name": "李华云_延期个性化项目数",
         "type": "scatter",
         "uid": "f7d8feaf-c202-11e8-8e48-509a4c0f1ffc",
         "x": [
          "9-3"
         ],
         "y": [
          0
         ]
        },
        {
         "name": "谢德健_延期商业项目数",
         "type": "scatter",
         "uid": "f7d8feb0-c202-11e8-a4db-509a4c0f1ffc",
         "x": [
          "9-3"
         ],
         "y": [
          0
         ]
        },
        {
         "name": "谢德健_延期个性化项目数",
         "type": "scatter",
         "uid": "f7d8feb1-c202-11e8-8be9-509a4c0f1ffc",
         "x": [
          "9-3"
         ],
         "y": [
          0
         ]
        }
       ],
       "layout": {
        "title": "延期商业项目数&延期个性化项目数周趋势图",
        "xaxis": {
         "mirror": "all",
         "nticks": 20,
         "showgrid": true,
         "showline": true,
         "title": "周",
         "zeroline": true
        },
        "yaxis": {
         "mirror": "all",
         "nticks": 20,
         "showgrid": true,
         "showline": true,
         "title": "延期商业项目数&延期个性化项目数",
         "zeroline": true
        }
       }
      },
      "text/html": [
       "<div id=\"49d4471c-6977-4ad0-812f-cf7643187aca\" style=\"height: 525px; width: 100%;\" class=\"plotly-graph-div\"></div><script type=\"text/javascript\">require([\"plotly\"], function(Plotly) { window.PLOTLYENV=window.PLOTLYENV || {};window.PLOTLYENV.BASE_URL=\"https://plot.ly\";\n",
       "        Plotly.plot(\n",
       "            '49d4471c-6977-4ad0-812f-cf7643187aca',\n",
       "            [{\"name\": \"\\u5218\\u6c5f_\\u5ef6\\u671f\\u5546\\u4e1a\\u9879\\u76ee\\u6570\", \"x\": [\"9-2\", \"9-3\"], \"y\": [0.0, 0.0], \"type\": \"scatter\", \"uid\": \"f7d8d792-c202-11e8-bdae-509a4c0f1ffc\"}, {\"name\": \"\\u5218\\u6c5f_\\u5ef6\\u671f\\u4e2a\\u6027\\u5316\\u9879\\u76ee\\u6570\", \"x\": [\"9-2\", \"9-3\"], \"y\": [0.0, 0.0], \"type\": \"scatter\", \"uid\": \"f7d8d793-c202-11e8-ad61-509a4c0f1ffc\"}, {\"name\": \"\\u4e8e\\u6167_\\u5ef6\\u671f\\u5546\\u4e1a\\u9879\\u76ee\\u6570\", \"x\": [\"9-2\", \"9-3\"], \"y\": [0.0, 0.0], \"type\": \"scatter\", \"uid\": \"f7d8d794-c202-11e8-9d77-509a4c0f1ffc\"}, {\"name\": \"\\u4e8e\\u6167_\\u5ef6\\u671f\\u4e2a\\u6027\\u5316\\u9879\\u76ee\\u6570\", \"x\": [\"9-2\", \"9-3\"], \"y\": [0.0, 0.0], \"type\": \"scatter\", \"uid\": \"f7d8d795-c202-11e8-942d-509a4c0f1ffc\"}, {\"name\": \"\\u5360\\u4f1f_\\u5ef6\\u671f\\u5546\\u4e1a\\u9879\\u76ee\\u6570\", \"x\": [\"9-2\"], \"y\": [0.0], \"type\": \"scatter\", \"uid\": \"f7d8d796-c202-11e8-aca7-509a4c0f1ffc\"}, {\"name\": \"\\u5360\\u4f1f_\\u5ef6\\u671f\\u4e2a\\u6027\\u5316\\u9879\\u76ee\\u6570\", \"x\": [\"9-2\"], \"y\": [0.0], \"type\": \"scatter\", \"uid\": \"f7d8d797-c202-11e8-97fe-509a4c0f1ffc\"}, {\"name\": \"\\u4efb\\u96ea_\\u5ef6\\u671f\\u5546\\u4e1a\\u9879\\u76ee\\u6570\", \"x\": [\"9-2\"], \"y\": [0.0], \"type\": \"scatter\", \"uid\": \"f7d8d798-c202-11e8-ab5a-509a4c0f1ffc\"}, {\"name\": \"\\u4efb\\u96ea_\\u5ef6\\u671f\\u4e2a\\u6027\\u5316\\u9879\\u76ee\\u6570\", \"x\": [\"9-2\"], \"y\": [0.0], \"type\": \"scatter\", \"uid\": \"f7d8d799-c202-11e8-a1e4-509a4c0f1ffc\"}, {\"name\": \"\\u8d75\\u73a5_\\u5ef6\\u671f\\u5546\\u4e1a\\u9879\\u76ee\\u6570\", \"x\": [\"9-2\"], \"y\": [0.0], \"type\": \"scatter\", \"uid\": \"f7d8d79a-c202-11e8-a3ee-509a4c0f1ffc\"}, {\"name\": \"\\u8d75\\u73a5_\\u5ef6\\u671f\\u4e2a\\u6027\\u5316\\u9879\\u76ee\\u6570\", \"x\": [\"9-2\"], \"y\": [1.0], \"type\": \"scatter\", \"uid\": \"f7d8d79b-c202-11e8-a143-509a4c0f1ffc\"}, {\"name\": \"\\u674e\\u5e86\\u539f_\\u5ef6\\u671f\\u5546\\u4e1a\\u9879\\u76ee\\u6570\", \"x\": [\"9-2\"], \"y\": [0.0], \"type\": \"scatter\", \"uid\": \"f7d8d79c-c202-11e8-8cd7-509a4c0f1ffc\"}, {\"name\": \"\\u674e\\u5e86\\u539f_\\u5ef6\\u671f\\u4e2a\\u6027\\u5316\\u9879\\u76ee\\u6570\", \"x\": [\"9-2\"], \"y\": [0.0], \"type\": \"scatter\", \"uid\": \"f7d8d79d-c202-11e8-9319-509a4c0f1ffc\"}, {\"name\": \"\\u4e8e\\u52c7\\u4e00_\\u5ef6\\u671f\\u5546\\u4e1a\\u9879\\u76ee\\u6570\", \"x\": [\"9-2\", \"9-3\"], \"y\": [0.0, 0.0], \"type\": \"scatter\", \"uid\": \"f7d8d79e-c202-11e8-b282-509a4c0f1ffc\"}, {\"name\": \"\\u4e8e\\u52c7\\u4e00_\\u5ef6\\u671f\\u4e2a\\u6027\\u5316\\u9879\\u76ee\\u6570\", \"x\": [\"9-2\", \"9-3\"], \"y\": [0.0, 0.0], \"type\": \"scatter\", \"uid\": \"f7d8d79f-c202-11e8-bb39-509a4c0f1ffc\"}, {\"name\": \"\\u82cf\\u5f66\\u52cb_\\u5ef6\\u671f\\u5546\\u4e1a\\u9879\\u76ee\\u6570\", \"x\": [\"9-2\", \"9-3\"], \"y\": [0.0, 0.0], \"type\": \"scatter\", \"uid\": \"f7d8fea2-c202-11e8-a362-509a4c0f1ffc\"}, {\"name\": \"\\u82cf\\u5f66\\u52cb_\\u5ef6\\u671f\\u4e2a\\u6027\\u5316\\u9879\\u76ee\\u6570\", \"x\": [\"9-2\", \"9-3\"], \"y\": [0.0, 0.0], \"type\": \"scatter\", \"uid\": \"f7d8fea3-c202-11e8-ab61-509a4c0f1ffc\"}, {\"name\": \"\\u5c01\\u5f66\\u6770_\\u5ef6\\u671f\\u5546\\u4e1a\\u9879\\u76ee\\u6570\", \"x\": [\"9-2\"], \"y\": [0.0], \"type\": \"scatter\", \"uid\": \"f7d8fea4-c202-11e8-8d18-509a4c0f1ffc\"}, {\"name\": \"\\u5c01\\u5f66\\u6770_\\u5ef6\\u671f\\u4e2a\\u6027\\u5316\\u9879\\u76ee\\u6570\", \"x\": [\"9-2\"], \"y\": [0.0], \"type\": \"scatter\", \"uid\": \"f7d8fea5-c202-11e8-ac99-509a4c0f1ffc\"}, {\"name\": \"\\u9a6c\\u6f47_\\u5ef6\\u671f\\u5546\\u4e1a\\u9879\\u76ee\\u6570\", \"x\": [\"9-2\"], \"y\": [0.0], \"type\": \"scatter\", \"uid\": \"f7d8fea6-c202-11e8-a718-509a4c0f1ffc\"}, {\"name\": \"\\u9a6c\\u6f47_\\u5ef6\\u671f\\u4e2a\\u6027\\u5316\\u9879\\u76ee\\u6570\", \"x\": [\"9-2\"], \"y\": [0.0], \"type\": \"scatter\", \"uid\": \"f7d8fea7-c202-11e8-a175-509a4c0f1ffc\"}, {\"name\": \"\\u6768\\u4f1f\\u98de_\\u5ef6\\u671f\\u5546\\u4e1a\\u9879\\u76ee\\u6570\", \"x\": [\"9-2\", \"9-3\"], \"y\": [0.0, 0.0], \"type\": \"scatter\", \"uid\": \"f7d8fea8-c202-11e8-99b7-509a4c0f1ffc\"}, {\"name\": \"\\u6768\\u4f1f\\u98de_\\u5ef6\\u671f\\u4e2a\\u6027\\u5316\\u9879\\u76ee\\u6570\", \"x\": [\"9-2\", \"9-3\"], \"y\": [0.0, 0.0], \"type\": \"scatter\", \"uid\": \"f7d8fea9-c202-11e8-a654-509a4c0f1ffc\"}, {\"name\": \"\\u8def\\u6167\\u840d_\\u5ef6\\u671f\\u5546\\u4e1a\\u9879\\u76ee\\u6570\", \"x\": [\"9-2\"], \"y\": [0.0], \"type\": \"scatter\", \"uid\": \"f7d8feaa-c202-11e8-8092-509a4c0f1ffc\"}, {\"name\": \"\\u8def\\u6167\\u840d_\\u5ef6\\u671f\\u4e2a\\u6027\\u5316\\u9879\\u76ee\\u6570\", \"x\": [\"9-2\"], \"y\": [0.0], \"type\": \"scatter\", \"uid\": \"f7d8feab-c202-11e8-8cee-509a4c0f1ffc\"}, {\"name\": \"\\u5b5f\\u660a_\\u5ef6\\u671f\\u5546\\u4e1a\\u9879\\u76ee\\u6570\", \"x\": [\"9-2\"], \"y\": [0.0], \"type\": \"scatter\", \"uid\": \"f7d8feac-c202-11e8-b625-509a4c0f1ffc\"}, {\"name\": \"\\u5b5f\\u660a_\\u5ef6\\u671f\\u4e2a\\u6027\\u5316\\u9879\\u76ee\\u6570\", \"x\": [\"9-2\"], \"y\": [0.0], \"type\": \"scatter\", \"uid\": \"f7d8fead-c202-11e8-921f-509a4c0f1ffc\"}, {\"name\": \"\\u674e\\u534e\\u4e91_\\u5ef6\\u671f\\u5546\\u4e1a\\u9879\\u76ee\\u6570\", \"x\": [\"9-3\"], \"y\": [0.0], \"type\": \"scatter\", \"uid\": \"f7d8feae-c202-11e8-862f-509a4c0f1ffc\"}, {\"name\": \"\\u674e\\u534e\\u4e91_\\u5ef6\\u671f\\u4e2a\\u6027\\u5316\\u9879\\u76ee\\u6570\", \"x\": [\"9-3\"], \"y\": [0.0], \"type\": \"scatter\", \"uid\": \"f7d8feaf-c202-11e8-8e48-509a4c0f1ffc\"}, {\"name\": \"\\u8c22\\u5fb7\\u5065_\\u5ef6\\u671f\\u5546\\u4e1a\\u9879\\u76ee\\u6570\", \"x\": [\"9-3\"], \"y\": [0.0], \"type\": \"scatter\", \"uid\": \"f7d8feb0-c202-11e8-a4db-509a4c0f1ffc\"}, {\"name\": \"\\u8c22\\u5fb7\\u5065_\\u5ef6\\u671f\\u4e2a\\u6027\\u5316\\u9879\\u76ee\\u6570\", \"x\": [\"9-3\"], \"y\": [0.0], \"type\": \"scatter\", \"uid\": \"f7d8feb1-c202-11e8-8be9-509a4c0f1ffc\"}],\n",
       "            {\"title\": \"\\u5ef6\\u671f\\u5546\\u4e1a\\u9879\\u76ee\\u6570&\\u5ef6\\u671f\\u4e2a\\u6027\\u5316\\u9879\\u76ee\\u6570\\u5468\\u8d8b\\u52bf\\u56fe\", \"xaxis\": {\"mirror\": \"all\", \"nticks\": 20, \"showgrid\": true, \"showline\": true, \"title\": \"\\u5468\", \"zeroline\": true}, \"yaxis\": {\"mirror\": \"all\", \"nticks\": 20, \"showgrid\": true, \"showline\": true, \"title\": \"\\u5ef6\\u671f\\u5546\\u4e1a\\u9879\\u76ee\\u6570&\\u5ef6\\u671f\\u4e2a\\u6027\\u5316\\u9879\\u76ee\\u6570\", \"zeroline\": true}},\n",
       "            {\"showLink\": true, \"linkText\": \"Export to plot.ly\"}\n",
       "        ).then(function () {return Plotly.addFrames('49d4471c-6977-4ad0-812f-cf7643187aca',{});}).then(function(){Plotly.animate('49d4471c-6977-4ad0-812f-cf7643187aca');})\n",
       "        });</script>"
      ],
      "text/vnd.plotly.v1+html": [
       "<div id=\"49d4471c-6977-4ad0-812f-cf7643187aca\" style=\"height: 525px; width: 100%;\" class=\"plotly-graph-div\"></div><script type=\"text/javascript\">require([\"plotly\"], function(Plotly) { window.PLOTLYENV=window.PLOTLYENV || {};window.PLOTLYENV.BASE_URL=\"https://plot.ly\";\n",
       "        Plotly.plot(\n",
       "            '49d4471c-6977-4ad0-812f-cf7643187aca',\n",
       "            [{\"name\": \"\\u5218\\u6c5f_\\u5ef6\\u671f\\u5546\\u4e1a\\u9879\\u76ee\\u6570\", \"x\": [\"9-2\", \"9-3\"], \"y\": [0.0, 0.0], \"type\": \"scatter\", \"uid\": \"f7d8d792-c202-11e8-bdae-509a4c0f1ffc\"}, {\"name\": \"\\u5218\\u6c5f_\\u5ef6\\u671f\\u4e2a\\u6027\\u5316\\u9879\\u76ee\\u6570\", \"x\": [\"9-2\", \"9-3\"], \"y\": [0.0, 0.0], \"type\": \"scatter\", \"uid\": \"f7d8d793-c202-11e8-ad61-509a4c0f1ffc\"}, {\"name\": \"\\u4e8e\\u6167_\\u5ef6\\u671f\\u5546\\u4e1a\\u9879\\u76ee\\u6570\", \"x\": [\"9-2\", \"9-3\"], \"y\": [0.0, 0.0], \"type\": \"scatter\", \"uid\": \"f7d8d794-c202-11e8-9d77-509a4c0f1ffc\"}, {\"name\": \"\\u4e8e\\u6167_\\u5ef6\\u671f\\u4e2a\\u6027\\u5316\\u9879\\u76ee\\u6570\", \"x\": [\"9-2\", \"9-3\"], \"y\": [0.0, 0.0], \"type\": \"scatter\", \"uid\": \"f7d8d795-c202-11e8-942d-509a4c0f1ffc\"}, {\"name\": \"\\u5360\\u4f1f_\\u5ef6\\u671f\\u5546\\u4e1a\\u9879\\u76ee\\u6570\", \"x\": [\"9-2\"], \"y\": [0.0], \"type\": \"scatter\", \"uid\": \"f7d8d796-c202-11e8-aca7-509a4c0f1ffc\"}, {\"name\": \"\\u5360\\u4f1f_\\u5ef6\\u671f\\u4e2a\\u6027\\u5316\\u9879\\u76ee\\u6570\", \"x\": [\"9-2\"], \"y\": [0.0], \"type\": \"scatter\", \"uid\": \"f7d8d797-c202-11e8-97fe-509a4c0f1ffc\"}, {\"name\": \"\\u4efb\\u96ea_\\u5ef6\\u671f\\u5546\\u4e1a\\u9879\\u76ee\\u6570\", \"x\": [\"9-2\"], \"y\": [0.0], \"type\": \"scatter\", \"uid\": \"f7d8d798-c202-11e8-ab5a-509a4c0f1ffc\"}, {\"name\": \"\\u4efb\\u96ea_\\u5ef6\\u671f\\u4e2a\\u6027\\u5316\\u9879\\u76ee\\u6570\", \"x\": [\"9-2\"], \"y\": [0.0], \"type\": \"scatter\", \"uid\": \"f7d8d799-c202-11e8-a1e4-509a4c0f1ffc\"}, {\"name\": \"\\u8d75\\u73a5_\\u5ef6\\u671f\\u5546\\u4e1a\\u9879\\u76ee\\u6570\", \"x\": [\"9-2\"], \"y\": [0.0], \"type\": \"scatter\", \"uid\": \"f7d8d79a-c202-11e8-a3ee-509a4c0f1ffc\"}, {\"name\": \"\\u8d75\\u73a5_\\u5ef6\\u671f\\u4e2a\\u6027\\u5316\\u9879\\u76ee\\u6570\", \"x\": [\"9-2\"], \"y\": [1.0], \"type\": \"scatter\", \"uid\": \"f7d8d79b-c202-11e8-a143-509a4c0f1ffc\"}, {\"name\": \"\\u674e\\u5e86\\u539f_\\u5ef6\\u671f\\u5546\\u4e1a\\u9879\\u76ee\\u6570\", \"x\": [\"9-2\"], \"y\": [0.0], \"type\": \"scatter\", \"uid\": \"f7d8d79c-c202-11e8-8cd7-509a4c0f1ffc\"}, {\"name\": \"\\u674e\\u5e86\\u539f_\\u5ef6\\u671f\\u4e2a\\u6027\\u5316\\u9879\\u76ee\\u6570\", \"x\": [\"9-2\"], \"y\": [0.0], \"type\": \"scatter\", \"uid\": \"f7d8d79d-c202-11e8-9319-509a4c0f1ffc\"}, {\"name\": \"\\u4e8e\\u52c7\\u4e00_\\u5ef6\\u671f\\u5546\\u4e1a\\u9879\\u76ee\\u6570\", \"x\": [\"9-2\", \"9-3\"], \"y\": [0.0, 0.0], \"type\": \"scatter\", \"uid\": \"f7d8d79e-c202-11e8-b282-509a4c0f1ffc\"}, {\"name\": \"\\u4e8e\\u52c7\\u4e00_\\u5ef6\\u671f\\u4e2a\\u6027\\u5316\\u9879\\u76ee\\u6570\", \"x\": [\"9-2\", \"9-3\"], \"y\": [0.0, 0.0], \"type\": \"scatter\", \"uid\": \"f7d8d79f-c202-11e8-bb39-509a4c0f1ffc\"}, {\"name\": \"\\u82cf\\u5f66\\u52cb_\\u5ef6\\u671f\\u5546\\u4e1a\\u9879\\u76ee\\u6570\", \"x\": [\"9-2\", \"9-3\"], \"y\": [0.0, 0.0], \"type\": \"scatter\", \"uid\": \"f7d8fea2-c202-11e8-a362-509a4c0f1ffc\"}, {\"name\": \"\\u82cf\\u5f66\\u52cb_\\u5ef6\\u671f\\u4e2a\\u6027\\u5316\\u9879\\u76ee\\u6570\", \"x\": [\"9-2\", \"9-3\"], \"y\": [0.0, 0.0], \"type\": \"scatter\", \"uid\": \"f7d8fea3-c202-11e8-ab61-509a4c0f1ffc\"}, {\"name\": \"\\u5c01\\u5f66\\u6770_\\u5ef6\\u671f\\u5546\\u4e1a\\u9879\\u76ee\\u6570\", \"x\": [\"9-2\"], \"y\": [0.0], \"type\": \"scatter\", \"uid\": \"f7d8fea4-c202-11e8-8d18-509a4c0f1ffc\"}, {\"name\": \"\\u5c01\\u5f66\\u6770_\\u5ef6\\u671f\\u4e2a\\u6027\\u5316\\u9879\\u76ee\\u6570\", \"x\": [\"9-2\"], \"y\": [0.0], \"type\": \"scatter\", \"uid\": \"f7d8fea5-c202-11e8-ac99-509a4c0f1ffc\"}, {\"name\": \"\\u9a6c\\u6f47_\\u5ef6\\u671f\\u5546\\u4e1a\\u9879\\u76ee\\u6570\", \"x\": [\"9-2\"], \"y\": [0.0], \"type\": \"scatter\", \"uid\": \"f7d8fea6-c202-11e8-a718-509a4c0f1ffc\"}, {\"name\": \"\\u9a6c\\u6f47_\\u5ef6\\u671f\\u4e2a\\u6027\\u5316\\u9879\\u76ee\\u6570\", \"x\": [\"9-2\"], \"y\": [0.0], \"type\": \"scatter\", \"uid\": \"f7d8fea7-c202-11e8-a175-509a4c0f1ffc\"}, {\"name\": \"\\u6768\\u4f1f\\u98de_\\u5ef6\\u671f\\u5546\\u4e1a\\u9879\\u76ee\\u6570\", \"x\": [\"9-2\", \"9-3\"], \"y\": [0.0, 0.0], \"type\": \"scatter\", \"uid\": \"f7d8fea8-c202-11e8-99b7-509a4c0f1ffc\"}, {\"name\": \"\\u6768\\u4f1f\\u98de_\\u5ef6\\u671f\\u4e2a\\u6027\\u5316\\u9879\\u76ee\\u6570\", \"x\": [\"9-2\", \"9-3\"], \"y\": [0.0, 0.0], \"type\": \"scatter\", \"uid\": \"f7d8fea9-c202-11e8-a654-509a4c0f1ffc\"}, {\"name\": \"\\u8def\\u6167\\u840d_\\u5ef6\\u671f\\u5546\\u4e1a\\u9879\\u76ee\\u6570\", \"x\": [\"9-2\"], \"y\": [0.0], \"type\": \"scatter\", \"uid\": \"f7d8feaa-c202-11e8-8092-509a4c0f1ffc\"}, {\"name\": \"\\u8def\\u6167\\u840d_\\u5ef6\\u671f\\u4e2a\\u6027\\u5316\\u9879\\u76ee\\u6570\", \"x\": [\"9-2\"], \"y\": [0.0], \"type\": \"scatter\", \"uid\": \"f7d8feab-c202-11e8-8cee-509a4c0f1ffc\"}, {\"name\": \"\\u5b5f\\u660a_\\u5ef6\\u671f\\u5546\\u4e1a\\u9879\\u76ee\\u6570\", \"x\": [\"9-2\"], \"y\": [0.0], \"type\": \"scatter\", \"uid\": \"f7d8feac-c202-11e8-b625-509a4c0f1ffc\"}, {\"name\": \"\\u5b5f\\u660a_\\u5ef6\\u671f\\u4e2a\\u6027\\u5316\\u9879\\u76ee\\u6570\", \"x\": [\"9-2\"], \"y\": [0.0], \"type\": \"scatter\", \"uid\": \"f7d8fead-c202-11e8-921f-509a4c0f1ffc\"}, {\"name\": \"\\u674e\\u534e\\u4e91_\\u5ef6\\u671f\\u5546\\u4e1a\\u9879\\u76ee\\u6570\", \"x\": [\"9-3\"], \"y\": [0.0], \"type\": \"scatter\", \"uid\": \"f7d8feae-c202-11e8-862f-509a4c0f1ffc\"}, {\"name\": \"\\u674e\\u534e\\u4e91_\\u5ef6\\u671f\\u4e2a\\u6027\\u5316\\u9879\\u76ee\\u6570\", \"x\": [\"9-3\"], \"y\": [0.0], \"type\": \"scatter\", \"uid\": \"f7d8feaf-c202-11e8-8e48-509a4c0f1ffc\"}, {\"name\": \"\\u8c22\\u5fb7\\u5065_\\u5ef6\\u671f\\u5546\\u4e1a\\u9879\\u76ee\\u6570\", \"x\": [\"9-3\"], \"y\": [0.0], \"type\": \"scatter\", \"uid\": \"f7d8feb0-c202-11e8-a4db-509a4c0f1ffc\"}, {\"name\": \"\\u8c22\\u5fb7\\u5065_\\u5ef6\\u671f\\u4e2a\\u6027\\u5316\\u9879\\u76ee\\u6570\", \"x\": [\"9-3\"], \"y\": [0.0], \"type\": \"scatter\", \"uid\": \"f7d8feb1-c202-11e8-8be9-509a4c0f1ffc\"}],\n",
       "            {\"title\": \"\\u5ef6\\u671f\\u5546\\u4e1a\\u9879\\u76ee\\u6570&\\u5ef6\\u671f\\u4e2a\\u6027\\u5316\\u9879\\u76ee\\u6570\\u5468\\u8d8b\\u52bf\\u56fe\", \"xaxis\": {\"mirror\": \"all\", \"nticks\": 20, \"showgrid\": true, \"showline\": true, \"title\": \"\\u5468\", \"zeroline\": true}, \"yaxis\": {\"mirror\": \"all\", \"nticks\": 20, \"showgrid\": true, \"showline\": true, \"title\": \"\\u5ef6\\u671f\\u5546\\u4e1a\\u9879\\u76ee\\u6570&\\u5ef6\\u671f\\u4e2a\\u6027\\u5316\\u9879\\u76ee\\u6570\", \"zeroline\": true}},\n",
       "            {\"showLink\": true, \"linkText\": \"Export to plot.ly\"}\n",
       "        ).then(function () {return Plotly.addFrames('49d4471c-6977-4ad0-812f-cf7643187aca',{});}).then(function(){Plotly.animate('49d4471c-6977-4ad0-812f-cf7643187aca');})\n",
       "        });</script>"
      ]
     },
     "metadata": {},
     "output_type": "display_data"
    },
    {
     "data": {
      "application/vnd.plotly.v1+json": {
       "data": [
        {
         "name": "于勇一_延期商业项目数",
         "type": "scatter",
         "uid": "f804a282-c202-11e8-9570-509a4c0f1ffc",
         "x": [
          "9"
         ],
         "y": [
          0
         ]
        },
        {
         "name": "于勇一_延期个性化项目数",
         "type": "scatter",
         "uid": "f804a283-c202-11e8-85e8-509a4c0f1ffc",
         "x": [
          "9"
         ],
         "y": [
          0
         ]
        },
        {
         "name": "于慧_延期商业项目数",
         "type": "scatter",
         "uid": "f804a284-c202-11e8-b024-509a4c0f1ffc",
         "x": [
          "9"
         ],
         "y": [
          0
         ]
        },
        {
         "name": "于慧_延期个性化项目数",
         "type": "scatter",
         "uid": "f804a285-c202-11e8-9e5b-509a4c0f1ffc",
         "x": [
          "9"
         ],
         "y": [
          0
         ]
        },
        {
         "name": "任雪_延期商业项目数",
         "type": "scatter",
         "uid": "f804a286-c202-11e8-a596-509a4c0f1ffc",
         "x": [
          "9"
         ],
         "y": [
          null
         ]
        },
        {
         "name": "任雪_延期个性化项目数",
         "type": "scatter",
         "uid": "f804a287-c202-11e8-9b6a-509a4c0f1ffc",
         "x": [
          "9"
         ],
         "y": [
          null
         ]
        },
        {
         "name": "刘江_延期商业项目数",
         "type": "scatter",
         "uid": "f804c992-c202-11e8-9a6f-509a4c0f1ffc",
         "x": [
          "9"
         ],
         "y": [
          0
         ]
        },
        {
         "name": "刘江_延期个性化项目数",
         "type": "scatter",
         "uid": "f804c993-c202-11e8-803c-509a4c0f1ffc",
         "x": [
          "9"
         ],
         "y": [
          0
         ]
        },
        {
         "name": "占伟_延期商业项目数",
         "type": "scatter",
         "uid": "f804c994-c202-11e8-a79b-509a4c0f1ffc",
         "x": [
          "9"
         ],
         "y": [
          null
         ]
        },
        {
         "name": "占伟_延期个性化项目数",
         "type": "scatter",
         "uid": "f804c995-c202-11e8-b0a2-509a4c0f1ffc",
         "x": [
          "9"
         ],
         "y": [
          null
         ]
        },
        {
         "name": "孟昊_延期商业项目数",
         "type": "scatter",
         "uid": "f804c996-c202-11e8-8e50-509a4c0f1ffc",
         "x": [
          "9"
         ],
         "y": [
          null
         ]
        },
        {
         "name": "孟昊_延期个性化项目数",
         "type": "scatter",
         "uid": "f804c997-c202-11e8-ba68-509a4c0f1ffc",
         "x": [
          "9"
         ],
         "y": [
          null
         ]
        },
        {
         "name": "封彦杰_延期商业项目数",
         "type": "scatter",
         "uid": "f804c998-c202-11e8-b816-509a4c0f1ffc",
         "x": [
          "9"
         ],
         "y": [
          null
         ]
        },
        {
         "name": "封彦杰_延期个性化项目数",
         "type": "scatter",
         "uid": "f804c999-c202-11e8-b438-509a4c0f1ffc",
         "x": [
          "9"
         ],
         "y": [
          null
         ]
        },
        {
         "name": "李华云_延期商业项目数",
         "type": "scatter",
         "uid": "f804c99a-c202-11e8-9b89-509a4c0f1ffc",
         "x": [
          "9"
         ],
         "y": [
          null
         ]
        },
        {
         "name": "李华云_延期个性化项目数",
         "type": "scatter",
         "uid": "f804c99b-c202-11e8-bf3b-509a4c0f1ffc",
         "x": [
          "9"
         ],
         "y": [
          null
         ]
        },
        {
         "name": "李庆原_延期商业项目数",
         "type": "scatter",
         "uid": "f804c99c-c202-11e8-9c27-509a4c0f1ffc",
         "x": [
          "9"
         ],
         "y": [
          null
         ]
        },
        {
         "name": "李庆原_延期个性化项目数",
         "type": "scatter",
         "uid": "f804c99d-c202-11e8-9ddf-509a4c0f1ffc",
         "x": [
          "9"
         ],
         "y": [
          null
         ]
        },
        {
         "name": "杨伟飞_延期商业项目数",
         "type": "scatter",
         "uid": "f804c99e-c202-11e8-909d-509a4c0f1ffc",
         "x": [
          "9"
         ],
         "y": [
          0
         ]
        },
        {
         "name": "杨伟飞_延期个性化项目数",
         "type": "scatter",
         "uid": "f804c99f-c202-11e8-a0de-509a4c0f1ffc",
         "x": [
          "9"
         ],
         "y": [
          0
         ]
        },
        {
         "name": "苏彦勋_延期商业项目数",
         "type": "scatter",
         "uid": "f804c9a0-c202-11e8-885c-509a4c0f1ffc",
         "x": [
          "9"
         ],
         "y": [
          0
         ]
        },
        {
         "name": "苏彦勋_延期个性化项目数",
         "type": "scatter",
         "uid": "f804c9a1-c202-11e8-9585-509a4c0f1ffc",
         "x": [
          "9"
         ],
         "y": [
          0
         ]
        },
        {
         "name": "谢德健_延期商业项目数",
         "type": "scatter",
         "uid": "f804c9a2-c202-11e8-b710-509a4c0f1ffc",
         "x": [
          "9"
         ],
         "y": [
          null
         ]
        },
        {
         "name": "谢德健_延期个性化项目数",
         "type": "scatter",
         "uid": "f804c9a3-c202-11e8-94e9-509a4c0f1ffc",
         "x": [
          "9"
         ],
         "y": [
          null
         ]
        },
        {
         "name": "赵玥_延期商业项目数",
         "type": "scatter",
         "uid": "f804c9a4-c202-11e8-bac8-509a4c0f1ffc",
         "x": [
          "9"
         ],
         "y": [
          null
         ]
        },
        {
         "name": "赵玥_延期个性化项目数",
         "type": "scatter",
         "uid": "f804c9a5-c202-11e8-9be8-509a4c0f1ffc",
         "x": [
          "9"
         ],
         "y": [
          null
         ]
        },
        {
         "name": "路慧萍_延期商业项目数",
         "type": "scatter",
         "uid": "f804c9a6-c202-11e8-889d-509a4c0f1ffc",
         "x": [
          "9"
         ],
         "y": [
          null
         ]
        },
        {
         "name": "路慧萍_延期个性化项目数",
         "type": "scatter",
         "uid": "f804c9a7-c202-11e8-83ff-509a4c0f1ffc",
         "x": [
          "9"
         ],
         "y": [
          null
         ]
        },
        {
         "name": "马潇_延期商业项目数",
         "type": "scatter",
         "uid": "f804c9a8-c202-11e8-b7af-509a4c0f1ffc",
         "x": [
          "9"
         ],
         "y": [
          null
         ]
        },
        {
         "name": "马潇_延期个性化项目数",
         "type": "scatter",
         "uid": "f804c9a9-c202-11e8-acaf-509a4c0f1ffc",
         "x": [
          "9"
         ],
         "y": [
          null
         ]
        }
       ],
       "layout": {
        "title": "延期商业项目数&延期个性化项目数月趋势图",
        "xaxis": {
         "mirror": "all",
         "nticks": 20,
         "showgrid": true,
         "showline": true,
         "title": "月",
         "zeroline": true
        },
        "yaxis": {
         "mirror": "all",
         "nticks": 20,
         "showgrid": true,
         "showline": true,
         "title": "延期商业项目数&延期个性化项目数",
         "zeroline": true
        }
       }
      },
      "text/html": [
       "<div id=\"605eb4e5-c616-4b96-9cf7-62f6306c1b56\" style=\"height: 525px; width: 100%;\" class=\"plotly-graph-div\"></div><script type=\"text/javascript\">require([\"plotly\"], function(Plotly) { window.PLOTLYENV=window.PLOTLYENV || {};window.PLOTLYENV.BASE_URL=\"https://plot.ly\";\n",
       "        Plotly.plot(\n",
       "            '605eb4e5-c616-4b96-9cf7-62f6306c1b56',\n",
       "            [{\"name\": \"\\u4e8e\\u52c7\\u4e00_\\u5ef6\\u671f\\u5546\\u4e1a\\u9879\\u76ee\\u6570\", \"x\": [\"9\"], \"y\": [0.0], \"type\": \"scatter\", \"uid\": \"f804a282-c202-11e8-9570-509a4c0f1ffc\"}, {\"name\": \"\\u4e8e\\u52c7\\u4e00_\\u5ef6\\u671f\\u4e2a\\u6027\\u5316\\u9879\\u76ee\\u6570\", \"x\": [\"9\"], \"y\": [0.0], \"type\": \"scatter\", \"uid\": \"f804a283-c202-11e8-85e8-509a4c0f1ffc\"}, {\"name\": \"\\u4e8e\\u6167_\\u5ef6\\u671f\\u5546\\u4e1a\\u9879\\u76ee\\u6570\", \"x\": [\"9\"], \"y\": [0.0], \"type\": \"scatter\", \"uid\": \"f804a284-c202-11e8-b024-509a4c0f1ffc\"}, {\"name\": \"\\u4e8e\\u6167_\\u5ef6\\u671f\\u4e2a\\u6027\\u5316\\u9879\\u76ee\\u6570\", \"x\": [\"9\"], \"y\": [0.0], \"type\": \"scatter\", \"uid\": \"f804a285-c202-11e8-9e5b-509a4c0f1ffc\"}, {\"name\": \"\\u4efb\\u96ea_\\u5ef6\\u671f\\u5546\\u4e1a\\u9879\\u76ee\\u6570\", \"x\": [\"9\"], \"y\": [null], \"type\": \"scatter\", \"uid\": \"f804a286-c202-11e8-a596-509a4c0f1ffc\"}, {\"name\": \"\\u4efb\\u96ea_\\u5ef6\\u671f\\u4e2a\\u6027\\u5316\\u9879\\u76ee\\u6570\", \"x\": [\"9\"], \"y\": [null], \"type\": \"scatter\", \"uid\": \"f804a287-c202-11e8-9b6a-509a4c0f1ffc\"}, {\"name\": \"\\u5218\\u6c5f_\\u5ef6\\u671f\\u5546\\u4e1a\\u9879\\u76ee\\u6570\", \"x\": [\"9\"], \"y\": [0.0], \"type\": \"scatter\", \"uid\": \"f804c992-c202-11e8-9a6f-509a4c0f1ffc\"}, {\"name\": \"\\u5218\\u6c5f_\\u5ef6\\u671f\\u4e2a\\u6027\\u5316\\u9879\\u76ee\\u6570\", \"x\": [\"9\"], \"y\": [0.0], \"type\": \"scatter\", \"uid\": \"f804c993-c202-11e8-803c-509a4c0f1ffc\"}, {\"name\": \"\\u5360\\u4f1f_\\u5ef6\\u671f\\u5546\\u4e1a\\u9879\\u76ee\\u6570\", \"x\": [\"9\"], \"y\": [null], \"type\": \"scatter\", \"uid\": \"f804c994-c202-11e8-a79b-509a4c0f1ffc\"}, {\"name\": \"\\u5360\\u4f1f_\\u5ef6\\u671f\\u4e2a\\u6027\\u5316\\u9879\\u76ee\\u6570\", \"x\": [\"9\"], \"y\": [null], \"type\": \"scatter\", \"uid\": \"f804c995-c202-11e8-b0a2-509a4c0f1ffc\"}, {\"name\": \"\\u5b5f\\u660a_\\u5ef6\\u671f\\u5546\\u4e1a\\u9879\\u76ee\\u6570\", \"x\": [\"9\"], \"y\": [null], \"type\": \"scatter\", \"uid\": \"f804c996-c202-11e8-8e50-509a4c0f1ffc\"}, {\"name\": \"\\u5b5f\\u660a_\\u5ef6\\u671f\\u4e2a\\u6027\\u5316\\u9879\\u76ee\\u6570\", \"x\": [\"9\"], \"y\": [null], \"type\": \"scatter\", \"uid\": \"f804c997-c202-11e8-ba68-509a4c0f1ffc\"}, {\"name\": \"\\u5c01\\u5f66\\u6770_\\u5ef6\\u671f\\u5546\\u4e1a\\u9879\\u76ee\\u6570\", \"x\": [\"9\"], \"y\": [null], \"type\": \"scatter\", \"uid\": \"f804c998-c202-11e8-b816-509a4c0f1ffc\"}, {\"name\": \"\\u5c01\\u5f66\\u6770_\\u5ef6\\u671f\\u4e2a\\u6027\\u5316\\u9879\\u76ee\\u6570\", \"x\": [\"9\"], \"y\": [null], \"type\": \"scatter\", \"uid\": \"f804c999-c202-11e8-b438-509a4c0f1ffc\"}, {\"name\": \"\\u674e\\u534e\\u4e91_\\u5ef6\\u671f\\u5546\\u4e1a\\u9879\\u76ee\\u6570\", \"x\": [\"9\"], \"y\": [null], \"type\": \"scatter\", \"uid\": \"f804c99a-c202-11e8-9b89-509a4c0f1ffc\"}, {\"name\": \"\\u674e\\u534e\\u4e91_\\u5ef6\\u671f\\u4e2a\\u6027\\u5316\\u9879\\u76ee\\u6570\", \"x\": [\"9\"], \"y\": [null], \"type\": \"scatter\", \"uid\": \"f804c99b-c202-11e8-bf3b-509a4c0f1ffc\"}, {\"name\": \"\\u674e\\u5e86\\u539f_\\u5ef6\\u671f\\u5546\\u4e1a\\u9879\\u76ee\\u6570\", \"x\": [\"9\"], \"y\": [null], \"type\": \"scatter\", \"uid\": \"f804c99c-c202-11e8-9c27-509a4c0f1ffc\"}, {\"name\": \"\\u674e\\u5e86\\u539f_\\u5ef6\\u671f\\u4e2a\\u6027\\u5316\\u9879\\u76ee\\u6570\", \"x\": [\"9\"], \"y\": [null], \"type\": \"scatter\", \"uid\": \"f804c99d-c202-11e8-9ddf-509a4c0f1ffc\"}, {\"name\": \"\\u6768\\u4f1f\\u98de_\\u5ef6\\u671f\\u5546\\u4e1a\\u9879\\u76ee\\u6570\", \"x\": [\"9\"], \"y\": [0.0], \"type\": \"scatter\", \"uid\": \"f804c99e-c202-11e8-909d-509a4c0f1ffc\"}, {\"name\": \"\\u6768\\u4f1f\\u98de_\\u5ef6\\u671f\\u4e2a\\u6027\\u5316\\u9879\\u76ee\\u6570\", \"x\": [\"9\"], \"y\": [0.0], \"type\": \"scatter\", \"uid\": \"f804c99f-c202-11e8-a0de-509a4c0f1ffc\"}, {\"name\": \"\\u82cf\\u5f66\\u52cb_\\u5ef6\\u671f\\u5546\\u4e1a\\u9879\\u76ee\\u6570\", \"x\": [\"9\"], \"y\": [0.0], \"type\": \"scatter\", \"uid\": \"f804c9a0-c202-11e8-885c-509a4c0f1ffc\"}, {\"name\": \"\\u82cf\\u5f66\\u52cb_\\u5ef6\\u671f\\u4e2a\\u6027\\u5316\\u9879\\u76ee\\u6570\", \"x\": [\"9\"], \"y\": [0.0], \"type\": \"scatter\", \"uid\": \"f804c9a1-c202-11e8-9585-509a4c0f1ffc\"}, {\"name\": \"\\u8c22\\u5fb7\\u5065_\\u5ef6\\u671f\\u5546\\u4e1a\\u9879\\u76ee\\u6570\", \"x\": [\"9\"], \"y\": [null], \"type\": \"scatter\", \"uid\": \"f804c9a2-c202-11e8-b710-509a4c0f1ffc\"}, {\"name\": \"\\u8c22\\u5fb7\\u5065_\\u5ef6\\u671f\\u4e2a\\u6027\\u5316\\u9879\\u76ee\\u6570\", \"x\": [\"9\"], \"y\": [null], \"type\": \"scatter\", \"uid\": \"f804c9a3-c202-11e8-94e9-509a4c0f1ffc\"}, {\"name\": \"\\u8d75\\u73a5_\\u5ef6\\u671f\\u5546\\u4e1a\\u9879\\u76ee\\u6570\", \"x\": [\"9\"], \"y\": [null], \"type\": \"scatter\", \"uid\": \"f804c9a4-c202-11e8-bac8-509a4c0f1ffc\"}, {\"name\": \"\\u8d75\\u73a5_\\u5ef6\\u671f\\u4e2a\\u6027\\u5316\\u9879\\u76ee\\u6570\", \"x\": [\"9\"], \"y\": [null], \"type\": \"scatter\", \"uid\": \"f804c9a5-c202-11e8-9be8-509a4c0f1ffc\"}, {\"name\": \"\\u8def\\u6167\\u840d_\\u5ef6\\u671f\\u5546\\u4e1a\\u9879\\u76ee\\u6570\", \"x\": [\"9\"], \"y\": [null], \"type\": \"scatter\", \"uid\": \"f804c9a6-c202-11e8-889d-509a4c0f1ffc\"}, {\"name\": \"\\u8def\\u6167\\u840d_\\u5ef6\\u671f\\u4e2a\\u6027\\u5316\\u9879\\u76ee\\u6570\", \"x\": [\"9\"], \"y\": [null], \"type\": \"scatter\", \"uid\": \"f804c9a7-c202-11e8-83ff-509a4c0f1ffc\"}, {\"name\": \"\\u9a6c\\u6f47_\\u5ef6\\u671f\\u5546\\u4e1a\\u9879\\u76ee\\u6570\", \"x\": [\"9\"], \"y\": [null], \"type\": \"scatter\", \"uid\": \"f804c9a8-c202-11e8-b7af-509a4c0f1ffc\"}, {\"name\": \"\\u9a6c\\u6f47_\\u5ef6\\u671f\\u4e2a\\u6027\\u5316\\u9879\\u76ee\\u6570\", \"x\": [\"9\"], \"y\": [null], \"type\": \"scatter\", \"uid\": \"f804c9a9-c202-11e8-acaf-509a4c0f1ffc\"}],\n",
       "            {\"title\": \"\\u5ef6\\u671f\\u5546\\u4e1a\\u9879\\u76ee\\u6570&\\u5ef6\\u671f\\u4e2a\\u6027\\u5316\\u9879\\u76ee\\u6570\\u6708\\u8d8b\\u52bf\\u56fe\", \"xaxis\": {\"mirror\": \"all\", \"nticks\": 20, \"showgrid\": true, \"showline\": true, \"title\": \"\\u6708\", \"zeroline\": true}, \"yaxis\": {\"mirror\": \"all\", \"nticks\": 20, \"showgrid\": true, \"showline\": true, \"title\": \"\\u5ef6\\u671f\\u5546\\u4e1a\\u9879\\u76ee\\u6570&\\u5ef6\\u671f\\u4e2a\\u6027\\u5316\\u9879\\u76ee\\u6570\", \"zeroline\": true}},\n",
       "            {\"showLink\": true, \"linkText\": \"Export to plot.ly\"}\n",
       "        ).then(function () {return Plotly.addFrames('605eb4e5-c616-4b96-9cf7-62f6306c1b56',{});}).then(function(){Plotly.animate('605eb4e5-c616-4b96-9cf7-62f6306c1b56');})\n",
       "        });</script>"
      ],
      "text/vnd.plotly.v1+html": [
       "<div id=\"605eb4e5-c616-4b96-9cf7-62f6306c1b56\" style=\"height: 525px; width: 100%;\" class=\"plotly-graph-div\"></div><script type=\"text/javascript\">require([\"plotly\"], function(Plotly) { window.PLOTLYENV=window.PLOTLYENV || {};window.PLOTLYENV.BASE_URL=\"https://plot.ly\";\n",
       "        Plotly.plot(\n",
       "            '605eb4e5-c616-4b96-9cf7-62f6306c1b56',\n",
       "            [{\"name\": \"\\u4e8e\\u52c7\\u4e00_\\u5ef6\\u671f\\u5546\\u4e1a\\u9879\\u76ee\\u6570\", \"x\": [\"9\"], \"y\": [0.0], \"type\": \"scatter\", \"uid\": \"f804a282-c202-11e8-9570-509a4c0f1ffc\"}, {\"name\": \"\\u4e8e\\u52c7\\u4e00_\\u5ef6\\u671f\\u4e2a\\u6027\\u5316\\u9879\\u76ee\\u6570\", \"x\": [\"9\"], \"y\": [0.0], \"type\": \"scatter\", \"uid\": \"f804a283-c202-11e8-85e8-509a4c0f1ffc\"}, {\"name\": \"\\u4e8e\\u6167_\\u5ef6\\u671f\\u5546\\u4e1a\\u9879\\u76ee\\u6570\", \"x\": [\"9\"], \"y\": [0.0], \"type\": \"scatter\", \"uid\": \"f804a284-c202-11e8-b024-509a4c0f1ffc\"}, {\"name\": \"\\u4e8e\\u6167_\\u5ef6\\u671f\\u4e2a\\u6027\\u5316\\u9879\\u76ee\\u6570\", \"x\": [\"9\"], \"y\": [0.0], \"type\": \"scatter\", \"uid\": \"f804a285-c202-11e8-9e5b-509a4c0f1ffc\"}, {\"name\": \"\\u4efb\\u96ea_\\u5ef6\\u671f\\u5546\\u4e1a\\u9879\\u76ee\\u6570\", \"x\": [\"9\"], \"y\": [null], \"type\": \"scatter\", \"uid\": \"f804a286-c202-11e8-a596-509a4c0f1ffc\"}, {\"name\": \"\\u4efb\\u96ea_\\u5ef6\\u671f\\u4e2a\\u6027\\u5316\\u9879\\u76ee\\u6570\", \"x\": [\"9\"], \"y\": [null], \"type\": \"scatter\", \"uid\": \"f804a287-c202-11e8-9b6a-509a4c0f1ffc\"}, {\"name\": \"\\u5218\\u6c5f_\\u5ef6\\u671f\\u5546\\u4e1a\\u9879\\u76ee\\u6570\", \"x\": [\"9\"], \"y\": [0.0], \"type\": \"scatter\", \"uid\": \"f804c992-c202-11e8-9a6f-509a4c0f1ffc\"}, {\"name\": \"\\u5218\\u6c5f_\\u5ef6\\u671f\\u4e2a\\u6027\\u5316\\u9879\\u76ee\\u6570\", \"x\": [\"9\"], \"y\": [0.0], \"type\": \"scatter\", \"uid\": \"f804c993-c202-11e8-803c-509a4c0f1ffc\"}, {\"name\": \"\\u5360\\u4f1f_\\u5ef6\\u671f\\u5546\\u4e1a\\u9879\\u76ee\\u6570\", \"x\": [\"9\"], \"y\": [null], \"type\": \"scatter\", \"uid\": \"f804c994-c202-11e8-a79b-509a4c0f1ffc\"}, {\"name\": \"\\u5360\\u4f1f_\\u5ef6\\u671f\\u4e2a\\u6027\\u5316\\u9879\\u76ee\\u6570\", \"x\": [\"9\"], \"y\": [null], \"type\": \"scatter\", \"uid\": \"f804c995-c202-11e8-b0a2-509a4c0f1ffc\"}, {\"name\": \"\\u5b5f\\u660a_\\u5ef6\\u671f\\u5546\\u4e1a\\u9879\\u76ee\\u6570\", \"x\": [\"9\"], \"y\": [null], \"type\": \"scatter\", \"uid\": \"f804c996-c202-11e8-8e50-509a4c0f1ffc\"}, {\"name\": \"\\u5b5f\\u660a_\\u5ef6\\u671f\\u4e2a\\u6027\\u5316\\u9879\\u76ee\\u6570\", \"x\": [\"9\"], \"y\": [null], \"type\": \"scatter\", \"uid\": \"f804c997-c202-11e8-ba68-509a4c0f1ffc\"}, {\"name\": \"\\u5c01\\u5f66\\u6770_\\u5ef6\\u671f\\u5546\\u4e1a\\u9879\\u76ee\\u6570\", \"x\": [\"9\"], \"y\": [null], \"type\": \"scatter\", \"uid\": \"f804c998-c202-11e8-b816-509a4c0f1ffc\"}, {\"name\": \"\\u5c01\\u5f66\\u6770_\\u5ef6\\u671f\\u4e2a\\u6027\\u5316\\u9879\\u76ee\\u6570\", \"x\": [\"9\"], \"y\": [null], \"type\": \"scatter\", \"uid\": \"f804c999-c202-11e8-b438-509a4c0f1ffc\"}, {\"name\": \"\\u674e\\u534e\\u4e91_\\u5ef6\\u671f\\u5546\\u4e1a\\u9879\\u76ee\\u6570\", \"x\": [\"9\"], \"y\": [null], \"type\": \"scatter\", \"uid\": \"f804c99a-c202-11e8-9b89-509a4c0f1ffc\"}, {\"name\": \"\\u674e\\u534e\\u4e91_\\u5ef6\\u671f\\u4e2a\\u6027\\u5316\\u9879\\u76ee\\u6570\", \"x\": [\"9\"], \"y\": [null], \"type\": \"scatter\", \"uid\": \"f804c99b-c202-11e8-bf3b-509a4c0f1ffc\"}, {\"name\": \"\\u674e\\u5e86\\u539f_\\u5ef6\\u671f\\u5546\\u4e1a\\u9879\\u76ee\\u6570\", \"x\": [\"9\"], \"y\": [null], \"type\": \"scatter\", \"uid\": \"f804c99c-c202-11e8-9c27-509a4c0f1ffc\"}, {\"name\": \"\\u674e\\u5e86\\u539f_\\u5ef6\\u671f\\u4e2a\\u6027\\u5316\\u9879\\u76ee\\u6570\", \"x\": [\"9\"], \"y\": [null], \"type\": \"scatter\", \"uid\": \"f804c99d-c202-11e8-9ddf-509a4c0f1ffc\"}, {\"name\": \"\\u6768\\u4f1f\\u98de_\\u5ef6\\u671f\\u5546\\u4e1a\\u9879\\u76ee\\u6570\", \"x\": [\"9\"], \"y\": [0.0], \"type\": \"scatter\", \"uid\": \"f804c99e-c202-11e8-909d-509a4c0f1ffc\"}, {\"name\": \"\\u6768\\u4f1f\\u98de_\\u5ef6\\u671f\\u4e2a\\u6027\\u5316\\u9879\\u76ee\\u6570\", \"x\": [\"9\"], \"y\": [0.0], \"type\": \"scatter\", \"uid\": \"f804c99f-c202-11e8-a0de-509a4c0f1ffc\"}, {\"name\": \"\\u82cf\\u5f66\\u52cb_\\u5ef6\\u671f\\u5546\\u4e1a\\u9879\\u76ee\\u6570\", \"x\": [\"9\"], \"y\": [0.0], \"type\": \"scatter\", \"uid\": \"f804c9a0-c202-11e8-885c-509a4c0f1ffc\"}, {\"name\": \"\\u82cf\\u5f66\\u52cb_\\u5ef6\\u671f\\u4e2a\\u6027\\u5316\\u9879\\u76ee\\u6570\", \"x\": [\"9\"], \"y\": [0.0], \"type\": \"scatter\", \"uid\": \"f804c9a1-c202-11e8-9585-509a4c0f1ffc\"}, {\"name\": \"\\u8c22\\u5fb7\\u5065_\\u5ef6\\u671f\\u5546\\u4e1a\\u9879\\u76ee\\u6570\", \"x\": [\"9\"], \"y\": [null], \"type\": \"scatter\", \"uid\": \"f804c9a2-c202-11e8-b710-509a4c0f1ffc\"}, {\"name\": \"\\u8c22\\u5fb7\\u5065_\\u5ef6\\u671f\\u4e2a\\u6027\\u5316\\u9879\\u76ee\\u6570\", \"x\": [\"9\"], \"y\": [null], \"type\": \"scatter\", \"uid\": \"f804c9a3-c202-11e8-94e9-509a4c0f1ffc\"}, {\"name\": \"\\u8d75\\u73a5_\\u5ef6\\u671f\\u5546\\u4e1a\\u9879\\u76ee\\u6570\", \"x\": [\"9\"], \"y\": [null], \"type\": \"scatter\", \"uid\": \"f804c9a4-c202-11e8-bac8-509a4c0f1ffc\"}, {\"name\": \"\\u8d75\\u73a5_\\u5ef6\\u671f\\u4e2a\\u6027\\u5316\\u9879\\u76ee\\u6570\", \"x\": [\"9\"], \"y\": [null], \"type\": \"scatter\", \"uid\": \"f804c9a5-c202-11e8-9be8-509a4c0f1ffc\"}, {\"name\": \"\\u8def\\u6167\\u840d_\\u5ef6\\u671f\\u5546\\u4e1a\\u9879\\u76ee\\u6570\", \"x\": [\"9\"], \"y\": [null], \"type\": \"scatter\", \"uid\": \"f804c9a6-c202-11e8-889d-509a4c0f1ffc\"}, {\"name\": \"\\u8def\\u6167\\u840d_\\u5ef6\\u671f\\u4e2a\\u6027\\u5316\\u9879\\u76ee\\u6570\", \"x\": [\"9\"], \"y\": [null], \"type\": \"scatter\", \"uid\": \"f804c9a7-c202-11e8-83ff-509a4c0f1ffc\"}, {\"name\": \"\\u9a6c\\u6f47_\\u5ef6\\u671f\\u5546\\u4e1a\\u9879\\u76ee\\u6570\", \"x\": [\"9\"], \"y\": [null], \"type\": \"scatter\", \"uid\": \"f804c9a8-c202-11e8-b7af-509a4c0f1ffc\"}, {\"name\": \"\\u9a6c\\u6f47_\\u5ef6\\u671f\\u4e2a\\u6027\\u5316\\u9879\\u76ee\\u6570\", \"x\": [\"9\"], \"y\": [null], \"type\": \"scatter\", \"uid\": \"f804c9a9-c202-11e8-acaf-509a4c0f1ffc\"}],\n",
       "            {\"title\": \"\\u5ef6\\u671f\\u5546\\u4e1a\\u9879\\u76ee\\u6570&\\u5ef6\\u671f\\u4e2a\\u6027\\u5316\\u9879\\u76ee\\u6570\\u6708\\u8d8b\\u52bf\\u56fe\", \"xaxis\": {\"mirror\": \"all\", \"nticks\": 20, \"showgrid\": true, \"showline\": true, \"title\": \"\\u6708\", \"zeroline\": true}, \"yaxis\": {\"mirror\": \"all\", \"nticks\": 20, \"showgrid\": true, \"showline\": true, \"title\": \"\\u5ef6\\u671f\\u5546\\u4e1a\\u9879\\u76ee\\u6570&\\u5ef6\\u671f\\u4e2a\\u6027\\u5316\\u9879\\u76ee\\u6570\", \"zeroline\": true}},\n",
       "            {\"showLink\": true, \"linkText\": \"Export to plot.ly\"}\n",
       "        ).then(function () {return Plotly.addFrames('605eb4e5-c616-4b96-9cf7-62f6306c1b56',{});}).then(function(){Plotly.animate('605eb4e5-c616-4b96-9cf7-62f6306c1b56');})\n",
       "        });</script>"
      ]
     },
     "metadata": {},
     "output_type": "display_data"
    }
   ],
   "source": [
    "data_dict = {'延期商业项目数':['延期商业项目数'],'延期个性化项目数':['延期个性化项目数']}\n",
    "myModule.plot( all_dict_2, data_dict, '负责人','line' )"
   ]
  },
  {
   "cell_type": "markdown",
   "metadata": {},
   "source": [
    "### 个人反馈延期数"
   ]
  },
  {
   "cell_type": "code",
   "execution_count": 84,
   "metadata": {},
   "outputs": [
    {
     "data": {
      "application/vnd.plotly.v1+json": {
       "data": [
        {
         "name": "刘江",
         "type": "scatter",
         "uid": "f8758cc2-c202-11e8-96c6-509a4c0f1ffc",
         "x": [
          "9-2",
          "9-3"
         ],
         "y": [
          0,
          0
         ]
        },
        {
         "name": "于慧",
         "type": "scatter",
         "uid": "f8758cc3-c202-11e8-a7bc-509a4c0f1ffc",
         "x": [
          "9-2",
          "9-3"
         ],
         "y": [
          0,
          0
         ]
        },
        {
         "name": "占伟",
         "type": "scatter",
         "uid": "f8758cc4-c202-11e8-9e45-509a4c0f1ffc",
         "x": [
          "9-2"
         ],
         "y": [
          0
         ]
        },
        {
         "name": "任雪",
         "type": "scatter",
         "uid": "f8758cc5-c202-11e8-9391-509a4c0f1ffc",
         "x": [
          "9-2"
         ],
         "y": [
          0
         ]
        },
        {
         "name": "赵玥",
         "type": "scatter",
         "uid": "f8758cc6-c202-11e8-9ef0-509a4c0f1ffc",
         "x": [
          "9-2"
         ],
         "y": [
          1
         ]
        },
        {
         "name": "李庆原",
         "type": "scatter",
         "uid": "f8758cc7-c202-11e8-89e5-509a4c0f1ffc",
         "x": [
          "9-2"
         ],
         "y": [
          0
         ]
        },
        {
         "name": "于勇一",
         "type": "scatter",
         "uid": "f8758cc8-c202-11e8-a721-509a4c0f1ffc",
         "x": [
          "9-2",
          "9-3"
         ],
         "y": [
          0,
          0
         ]
        },
        {
         "name": "苏彦勋",
         "type": "scatter",
         "uid": "f8758cc9-c202-11e8-ad09-509a4c0f1ffc",
         "x": [
          "9-2",
          "9-3"
         ],
         "y": [
          0,
          0
         ]
        },
        {
         "name": "封彦杰",
         "type": "scatter",
         "uid": "f8758cca-c202-11e8-aa62-509a4c0f1ffc",
         "x": [
          "9-2"
         ],
         "y": [
          0
         ]
        },
        {
         "name": "马潇",
         "type": "scatter",
         "uid": "f8758ccb-c202-11e8-b126-509a4c0f1ffc",
         "x": [
          "9-2"
         ],
         "y": [
          0
         ]
        },
        {
         "name": "杨伟飞",
         "type": "scatter",
         "uid": "f8758ccc-c202-11e8-b5e9-509a4c0f1ffc",
         "x": [
          "9-2",
          "9-3"
         ],
         "y": [
          0,
          0
         ]
        },
        {
         "name": "路慧萍",
         "type": "scatter",
         "uid": "f8758ccd-c202-11e8-a36a-509a4c0f1ffc",
         "x": [
          "9-2"
         ],
         "y": [
          0
         ]
        },
        {
         "name": "孟昊",
         "type": "scatter",
         "uid": "f8758cce-c202-11e8-aae7-509a4c0f1ffc",
         "x": [
          "9-2"
         ],
         "y": [
          0
         ]
        },
        {
         "name": "李华云",
         "type": "scatter",
         "uid": "f8758ccf-c202-11e8-b486-509a4c0f1ffc",
         "x": [
          "9-3"
         ],
         "y": [
          0
         ]
        },
        {
         "name": "谢德健",
         "type": "scatter",
         "uid": "f8758cd0-c202-11e8-8321-509a4c0f1ffc",
         "x": [
          "9-3"
         ],
         "y": [
          0
         ]
        }
       ],
       "layout": {
        "title": "反馈延期数",
        "xaxis": {
         "mirror": "all",
         "nticks": 20,
         "showgrid": true,
         "showline": true,
         "title": "周",
         "zeroline": true
        },
        "yaxis": {
         "mirror": "all",
         "nticks": 20,
         "showgrid": true,
         "showline": true,
         "title": "24h内未完成数据反馈项目数",
         "zeroline": true
        }
       }
      },
      "text/html": [
       "<div id=\"8685274c-7aee-461a-b428-7c79acf39601\" style=\"height: 525px; width: 100%;\" class=\"plotly-graph-div\"></div><script type=\"text/javascript\">require([\"plotly\"], function(Plotly) { window.PLOTLYENV=window.PLOTLYENV || {};window.PLOTLYENV.BASE_URL=\"https://plot.ly\";\n",
       "        Plotly.plot(\n",
       "            '8685274c-7aee-461a-b428-7c79acf39601',\n",
       "            [{\"name\": \"\\u5218\\u6c5f\", \"x\": [\"9-2\", \"9-3\"], \"y\": [0.0, 0.0], \"type\": \"scatter\", \"uid\": \"f8758cc2-c202-11e8-96c6-509a4c0f1ffc\"}, {\"name\": \"\\u4e8e\\u6167\", \"x\": [\"9-2\", \"9-3\"], \"y\": [0.0, 0.0], \"type\": \"scatter\", \"uid\": \"f8758cc3-c202-11e8-a7bc-509a4c0f1ffc\"}, {\"name\": \"\\u5360\\u4f1f\", \"x\": [\"9-2\"], \"y\": [0.0], \"type\": \"scatter\", \"uid\": \"f8758cc4-c202-11e8-9e45-509a4c0f1ffc\"}, {\"name\": \"\\u4efb\\u96ea\", \"x\": [\"9-2\"], \"y\": [0.0], \"type\": \"scatter\", \"uid\": \"f8758cc5-c202-11e8-9391-509a4c0f1ffc\"}, {\"name\": \"\\u8d75\\u73a5\", \"x\": [\"9-2\"], \"y\": [1.0], \"type\": \"scatter\", \"uid\": \"f8758cc6-c202-11e8-9ef0-509a4c0f1ffc\"}, {\"name\": \"\\u674e\\u5e86\\u539f\", \"x\": [\"9-2\"], \"y\": [0.0], \"type\": \"scatter\", \"uid\": \"f8758cc7-c202-11e8-89e5-509a4c0f1ffc\"}, {\"name\": \"\\u4e8e\\u52c7\\u4e00\", \"x\": [\"9-2\", \"9-3\"], \"y\": [0.0, 0.0], \"type\": \"scatter\", \"uid\": \"f8758cc8-c202-11e8-a721-509a4c0f1ffc\"}, {\"name\": \"\\u82cf\\u5f66\\u52cb\", \"x\": [\"9-2\", \"9-3\"], \"y\": [0.0, 0.0], \"type\": \"scatter\", \"uid\": \"f8758cc9-c202-11e8-ad09-509a4c0f1ffc\"}, {\"name\": \"\\u5c01\\u5f66\\u6770\", \"x\": [\"9-2\"], \"y\": [0.0], \"type\": \"scatter\", \"uid\": \"f8758cca-c202-11e8-aa62-509a4c0f1ffc\"}, {\"name\": \"\\u9a6c\\u6f47\", \"x\": [\"9-2\"], \"y\": [0.0], \"type\": \"scatter\", \"uid\": \"f8758ccb-c202-11e8-b126-509a4c0f1ffc\"}, {\"name\": \"\\u6768\\u4f1f\\u98de\", \"x\": [\"9-2\", \"9-3\"], \"y\": [0.0, 0.0], \"type\": \"scatter\", \"uid\": \"f8758ccc-c202-11e8-b5e9-509a4c0f1ffc\"}, {\"name\": \"\\u8def\\u6167\\u840d\", \"x\": [\"9-2\"], \"y\": [0.0], \"type\": \"scatter\", \"uid\": \"f8758ccd-c202-11e8-a36a-509a4c0f1ffc\"}, {\"name\": \"\\u5b5f\\u660a\", \"x\": [\"9-2\"], \"y\": [0.0], \"type\": \"scatter\", \"uid\": \"f8758cce-c202-11e8-aae7-509a4c0f1ffc\"}, {\"name\": \"\\u674e\\u534e\\u4e91\", \"x\": [\"9-3\"], \"y\": [0.0], \"type\": \"scatter\", \"uid\": \"f8758ccf-c202-11e8-b486-509a4c0f1ffc\"}, {\"name\": \"\\u8c22\\u5fb7\\u5065\", \"x\": [\"9-3\"], \"y\": [0.0], \"type\": \"scatter\", \"uid\": \"f8758cd0-c202-11e8-8321-509a4c0f1ffc\"}],\n",
       "            {\"title\": \"\\u53cd\\u9988\\u5ef6\\u671f\\u6570\", \"xaxis\": {\"mirror\": \"all\", \"nticks\": 20, \"showgrid\": true, \"showline\": true, \"title\": \"\\u5468\", \"zeroline\": true}, \"yaxis\": {\"mirror\": \"all\", \"nticks\": 20, \"showgrid\": true, \"showline\": true, \"title\": \"24h\\u5185\\u672a\\u5b8c\\u6210\\u6570\\u636e\\u53cd\\u9988\\u9879\\u76ee\\u6570\", \"zeroline\": true}},\n",
       "            {\"showLink\": true, \"linkText\": \"Export to plot.ly\"}\n",
       "        ).then(function () {return Plotly.addFrames('8685274c-7aee-461a-b428-7c79acf39601',{});}).then(function(){Plotly.animate('8685274c-7aee-461a-b428-7c79acf39601');})\n",
       "        });</script>"
      ],
      "text/vnd.plotly.v1+html": [
       "<div id=\"8685274c-7aee-461a-b428-7c79acf39601\" style=\"height: 525px; width: 100%;\" class=\"plotly-graph-div\"></div><script type=\"text/javascript\">require([\"plotly\"], function(Plotly) { window.PLOTLYENV=window.PLOTLYENV || {};window.PLOTLYENV.BASE_URL=\"https://plot.ly\";\n",
       "        Plotly.plot(\n",
       "            '8685274c-7aee-461a-b428-7c79acf39601',\n",
       "            [{\"name\": \"\\u5218\\u6c5f\", \"x\": [\"9-2\", \"9-3\"], \"y\": [0.0, 0.0], \"type\": \"scatter\", \"uid\": \"f8758cc2-c202-11e8-96c6-509a4c0f1ffc\"}, {\"name\": \"\\u4e8e\\u6167\", \"x\": [\"9-2\", \"9-3\"], \"y\": [0.0, 0.0], \"type\": \"scatter\", \"uid\": \"f8758cc3-c202-11e8-a7bc-509a4c0f1ffc\"}, {\"name\": \"\\u5360\\u4f1f\", \"x\": [\"9-2\"], \"y\": [0.0], \"type\": \"scatter\", \"uid\": \"f8758cc4-c202-11e8-9e45-509a4c0f1ffc\"}, {\"name\": \"\\u4efb\\u96ea\", \"x\": [\"9-2\"], \"y\": [0.0], \"type\": \"scatter\", \"uid\": \"f8758cc5-c202-11e8-9391-509a4c0f1ffc\"}, {\"name\": \"\\u8d75\\u73a5\", \"x\": [\"9-2\"], \"y\": [1.0], \"type\": \"scatter\", \"uid\": \"f8758cc6-c202-11e8-9ef0-509a4c0f1ffc\"}, {\"name\": \"\\u674e\\u5e86\\u539f\", \"x\": [\"9-2\"], \"y\": [0.0], \"type\": \"scatter\", \"uid\": \"f8758cc7-c202-11e8-89e5-509a4c0f1ffc\"}, {\"name\": \"\\u4e8e\\u52c7\\u4e00\", \"x\": [\"9-2\", \"9-3\"], \"y\": [0.0, 0.0], \"type\": \"scatter\", \"uid\": \"f8758cc8-c202-11e8-a721-509a4c0f1ffc\"}, {\"name\": \"\\u82cf\\u5f66\\u52cb\", \"x\": [\"9-2\", \"9-3\"], \"y\": [0.0, 0.0], \"type\": \"scatter\", \"uid\": \"f8758cc9-c202-11e8-ad09-509a4c0f1ffc\"}, {\"name\": \"\\u5c01\\u5f66\\u6770\", \"x\": [\"9-2\"], \"y\": [0.0], \"type\": \"scatter\", \"uid\": \"f8758cca-c202-11e8-aa62-509a4c0f1ffc\"}, {\"name\": \"\\u9a6c\\u6f47\", \"x\": [\"9-2\"], \"y\": [0.0], \"type\": \"scatter\", \"uid\": \"f8758ccb-c202-11e8-b126-509a4c0f1ffc\"}, {\"name\": \"\\u6768\\u4f1f\\u98de\", \"x\": [\"9-2\", \"9-3\"], \"y\": [0.0, 0.0], \"type\": \"scatter\", \"uid\": \"f8758ccc-c202-11e8-b5e9-509a4c0f1ffc\"}, {\"name\": \"\\u8def\\u6167\\u840d\", \"x\": [\"9-2\"], \"y\": [0.0], \"type\": \"scatter\", \"uid\": \"f8758ccd-c202-11e8-a36a-509a4c0f1ffc\"}, {\"name\": \"\\u5b5f\\u660a\", \"x\": [\"9-2\"], \"y\": [0.0], \"type\": \"scatter\", \"uid\": \"f8758cce-c202-11e8-aae7-509a4c0f1ffc\"}, {\"name\": \"\\u674e\\u534e\\u4e91\", \"x\": [\"9-3\"], \"y\": [0.0], \"type\": \"scatter\", \"uid\": \"f8758ccf-c202-11e8-b486-509a4c0f1ffc\"}, {\"name\": \"\\u8c22\\u5fb7\\u5065\", \"x\": [\"9-3\"], \"y\": [0.0], \"type\": \"scatter\", \"uid\": \"f8758cd0-c202-11e8-8321-509a4c0f1ffc\"}],\n",
       "            {\"title\": \"\\u53cd\\u9988\\u5ef6\\u671f\\u6570\", \"xaxis\": {\"mirror\": \"all\", \"nticks\": 20, \"showgrid\": true, \"showline\": true, \"title\": \"\\u5468\", \"zeroline\": true}, \"yaxis\": {\"mirror\": \"all\", \"nticks\": 20, \"showgrid\": true, \"showline\": true, \"title\": \"24h\\u5185\\u672a\\u5b8c\\u6210\\u6570\\u636e\\u53cd\\u9988\\u9879\\u76ee\\u6570\", \"zeroline\": true}},\n",
       "            {\"showLink\": true, \"linkText\": \"Export to plot.ly\"}\n",
       "        ).then(function () {return Plotly.addFrames('8685274c-7aee-461a-b428-7c79acf39601',{});}).then(function(){Plotly.animate('8685274c-7aee-461a-b428-7c79acf39601');})\n",
       "        });</script>"
      ]
     },
     "metadata": {},
     "output_type": "display_data"
    }
   ],
   "source": [
    "new_dict = myModule.select_data(all_dict_2 ,['24h内未完成数据反馈项目数','反馈延期个性化数'],'负责人' )     ## choose colunms and groups \n",
    "tt = myModule.transformat_data(new_dict , 'week'  )  ## week or month ?? \n",
    "myModule.plot_target_items(tt ,['24h内未完成数据反馈项目数'], 'line',fig_title = '反馈延期数') "
   ]
  },
  {
   "cell_type": "code",
   "execution_count": null,
   "metadata": {
    "collapsed": true
   },
   "outputs": [],
   "source": []
  }
 ],
 "metadata": {
  "celltoolbar": "Raw Cell Format",
  "hide_input": false,
  "kernelspec": {
   "display_name": "Python 3",
   "language": "python",
   "name": "python3"
  },
  "language_info": {
   "codemirror_mode": {
    "name": "ipython",
    "version": 3
   },
   "file_extension": ".py",
   "mimetype": "text/x-python",
   "name": "python",
   "nbconvert_exporter": "python",
   "pygments_lexer": "ipython3",
   "version": "3.6.6"
  },
  "toc": {
   "base_numbering": 1,
   "nav_menu": {},
   "number_sections": true,
   "sideBar": true,
   "skip_h1_title": false,
   "title_cell": "Table of Contents",
   "title_sidebar": "Contents",
   "toc_cell": false,
   "toc_position": {
    "height": "513.333px",
    "left": "419px",
    "top": "110.926px",
    "width": "271px"
   },
   "toc_section_display": true,
   "toc_window_display": true
  }
 },
 "nbformat": 4,
 "nbformat_minor": 2
}
