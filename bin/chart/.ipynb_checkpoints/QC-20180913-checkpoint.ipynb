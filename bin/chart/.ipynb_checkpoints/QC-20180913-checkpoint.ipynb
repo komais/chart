{
 "cells": [
  {
   "cell_type": "code",
   "execution_count": 1,
   "metadata": {},
   "outputs": [
    {
     "name": "stderr",
     "output_type": "stream",
     "text": [
      "UsageError: Line magic function `%autoreload` not found.\n"
     ]
    }
   ],
   "source": [
    "%load_ext autoreload\n",
    "%autoreload 2"
   ]
  },
  {
   "cell_type": "code",
   "execution_count": 27,
   "metadata": {
    "hide_input": false
   },
   "outputs": [],
   "source": [
    "import sys\n",
    "sys.path.append('./')\n",
    "import myModule\n",
    "import pandas as pd "
   ]
  },
  {
   "cell_type": "code",
   "execution_count": 28,
   "metadata": {},
   "outputs": [],
   "source": [
    "import imp\n",
    "#imp.reload(myModule)"
   ]
  },
  {
   "cell_type": "code",
   "execution_count": 29,
   "metadata": {},
   "outputs": [],
   "source": [
    "pathway = r\"/mnt/e/jupyter/data/QC\"\n",
    "all_files , title = myModule.get_title(pathway , 0)##给路径\n",
    "all_dict = myModule.read_xlsx(all_files, 0 ) ## read all files\n"
   ]
  },
  {
   "cell_type": "markdown",
   "metadata": {},
   "source": [
    "# QC分析组整体情况\n",
    "* 总结\n",
    "  * test"
   ]
  },
  {
   "cell_type": "markdown",
   "metadata": {
    "hide_input": true
   },
   "source": [
    "## 过滤项目整体情况"
   ]
  },
  {
   "cell_type": "markdown",
   "metadata": {},
   "source": [
    "### 产能"
   ]
  },
  {
   "cell_type": "markdown",
   "metadata": {},
   "source": [
    "\n",
    "#### 下机批次数和下机项目数\n"
   ]
  },
  {
   "cell_type": "code",
   "execution_count": 30,
   "metadata": {
    "scrolled": false
   },
   "outputs": [
    {
     "data": {
      "application/vnd.plotly.v1+json": {
       "data": [
        {
         "name": "下机批次数",
         "type": "scatter",
         "uid": "cebdb0b2-bbe2-11e8-adcf-a81e84e6c740",
         "x": [
          "8-1",
          "8-2",
          "8-3",
          "8-4",
          "8-5",
          "9-1",
          "9-2"
         ],
         "y": [
          118,
          181,
          165,
          161,
          100,
          199,
          124
         ]
        },
        {
         "name": "下机项目数",
         "type": "scatter",
         "uid": "cebdb454-bbe2-11e8-adcf-a81e84e6c740",
         "x": [
          "8-1",
          "8-2",
          "8-3",
          "8-4",
          "8-5",
          "9-1",
          "9-2"
         ],
         "y": [
          94,
          146,
          135,
          136,
          85,
          174,
          103
         ]
        }
       ],
       "layout": {
        "title": "下机批次数&下机项目数周趋势图",
        "xaxis": {
         "mirror": "all",
         "nticks": 20,
         "showgrid": true,
         "showline": true,
         "title": "周",
         "zeroline": true
        },
        "yaxis": {
         "mirror": "all",
         "nticks": 20,
         "showgrid": true,
         "showline": true,
         "title": "下机批次数&下机项目数",
         "zeroline": true
        }
       }
      },
      "text/html": [
       "<div id=\"75641cbc-cc2d-4e60-8d2c-10b2d522b2b1\" style=\"height: 525px; width: 100%;\" class=\"plotly-graph-div\"></div><script type=\"text/javascript\">require([\"plotly\"], function(Plotly) { window.PLOTLYENV=window.PLOTLYENV || {};window.PLOTLYENV.BASE_URL=\"https://plot.ly\";\n",
       "        Plotly.plot(\n",
       "            '75641cbc-cc2d-4e60-8d2c-10b2d522b2b1',\n",
       "            [{\"name\": \"\\u4e0b\\u673a\\u6279\\u6b21\\u6570\", \"x\": [\"8-1\", \"8-2\", \"8-3\", \"8-4\", \"8-5\", \"9-1\", \"9-2\"], \"y\": [118.0, 181.0, 165.0, 161.0, 100.0, 199.0, 124.0], \"type\": \"scatter\", \"uid\": \"cebdb0b2-bbe2-11e8-adcf-a81e84e6c740\"}, {\"name\": \"\\u4e0b\\u673a\\u9879\\u76ee\\u6570\", \"x\": [\"8-1\", \"8-2\", \"8-3\", \"8-4\", \"8-5\", \"9-1\", \"9-2\"], \"y\": [94.0, 146.0, 135.0, 136.0, 85.0, 174.0, 103.0], \"type\": \"scatter\", \"uid\": \"cebdb454-bbe2-11e8-adcf-a81e84e6c740\"}],\n",
       "            {\"title\": \"\\u4e0b\\u673a\\u6279\\u6b21\\u6570&\\u4e0b\\u673a\\u9879\\u76ee\\u6570\\u5468\\u8d8b\\u52bf\\u56fe\", \"xaxis\": {\"mirror\": \"all\", \"nticks\": 20, \"showgrid\": true, \"showline\": true, \"title\": \"\\u5468\", \"zeroline\": true}, \"yaxis\": {\"mirror\": \"all\", \"nticks\": 20, \"showgrid\": true, \"showline\": true, \"title\": \"\\u4e0b\\u673a\\u6279\\u6b21\\u6570&\\u4e0b\\u673a\\u9879\\u76ee\\u6570\", \"zeroline\": true}},\n",
       "            {\"showLink\": true, \"linkText\": \"Export to plot.ly\"}\n",
       "        ).then(function () {return Plotly.addFrames('75641cbc-cc2d-4e60-8d2c-10b2d522b2b1',{});}).then(function(){Plotly.animate('75641cbc-cc2d-4e60-8d2c-10b2d522b2b1');})\n",
       "        });</script>"
      ],
      "text/vnd.plotly.v1+html": [
       "<div id=\"75641cbc-cc2d-4e60-8d2c-10b2d522b2b1\" style=\"height: 525px; width: 100%;\" class=\"plotly-graph-div\"></div><script type=\"text/javascript\">require([\"plotly\"], function(Plotly) { window.PLOTLYENV=window.PLOTLYENV || {};window.PLOTLYENV.BASE_URL=\"https://plot.ly\";\n",
       "        Plotly.plot(\n",
       "            '75641cbc-cc2d-4e60-8d2c-10b2d522b2b1',\n",
       "            [{\"name\": \"\\u4e0b\\u673a\\u6279\\u6b21\\u6570\", \"x\": [\"8-1\", \"8-2\", \"8-3\", \"8-4\", \"8-5\", \"9-1\", \"9-2\"], \"y\": [118.0, 181.0, 165.0, 161.0, 100.0, 199.0, 124.0], \"type\": \"scatter\", \"uid\": \"cebdb0b2-bbe2-11e8-adcf-a81e84e6c740\"}, {\"name\": \"\\u4e0b\\u673a\\u9879\\u76ee\\u6570\", \"x\": [\"8-1\", \"8-2\", \"8-3\", \"8-4\", \"8-5\", \"9-1\", \"9-2\"], \"y\": [94.0, 146.0, 135.0, 136.0, 85.0, 174.0, 103.0], \"type\": \"scatter\", \"uid\": \"cebdb454-bbe2-11e8-adcf-a81e84e6c740\"}],\n",
       "            {\"title\": \"\\u4e0b\\u673a\\u6279\\u6b21\\u6570&\\u4e0b\\u673a\\u9879\\u76ee\\u6570\\u5468\\u8d8b\\u52bf\\u56fe\", \"xaxis\": {\"mirror\": \"all\", \"nticks\": 20, \"showgrid\": true, \"showline\": true, \"title\": \"\\u5468\", \"zeroline\": true}, \"yaxis\": {\"mirror\": \"all\", \"nticks\": 20, \"showgrid\": true, \"showline\": true, \"title\": \"\\u4e0b\\u673a\\u6279\\u6b21\\u6570&\\u4e0b\\u673a\\u9879\\u76ee\\u6570\", \"zeroline\": true}},\n",
       "            {\"showLink\": true, \"linkText\": \"Export to plot.ly\"}\n",
       "        ).then(function () {return Plotly.addFrames('75641cbc-cc2d-4e60-8d2c-10b2d522b2b1',{});}).then(function(){Plotly.animate('75641cbc-cc2d-4e60-8d2c-10b2d522b2b1');})\n",
       "        });</script>"
      ]
     },
     "metadata": {},
     "output_type": "display_data"
    },
    {
     "data": {
      "application/vnd.plotly.v1+json": {
       "data": [
        {
         "name": "下机批次数",
         "type": "scatter",
         "uid": "ced6f950-bbe2-11e8-adcf-a81e84e6c740",
         "x": [
          "8",
          "9"
         ],
         "y": [
          725,
          323
         ]
        },
        {
         "name": "下机项目数",
         "type": "scatter",
         "uid": "ced70148-bbe2-11e8-adcf-a81e84e6c740",
         "x": [
          "8",
          "9"
         ],
         "y": [
          596,
          277
         ]
        }
       ],
       "layout": {
        "title": "下机批次数&下机项目数月趋势图",
        "xaxis": {
         "mirror": "all",
         "nticks": 20,
         "showgrid": true,
         "showline": true,
         "title": "月",
         "zeroline": true
        },
        "yaxis": {
         "mirror": "all",
         "nticks": 20,
         "showgrid": true,
         "showline": true,
         "title": "下机批次数&下机项目数",
         "zeroline": true
        }
       }
      },
      "text/html": [
       "<div id=\"d72909ab-c7d5-4858-80ef-995e8d9250f2\" style=\"height: 525px; width: 100%;\" class=\"plotly-graph-div\"></div><script type=\"text/javascript\">require([\"plotly\"], function(Plotly) { window.PLOTLYENV=window.PLOTLYENV || {};window.PLOTLYENV.BASE_URL=\"https://plot.ly\";\n",
       "        Plotly.plot(\n",
       "            'd72909ab-c7d5-4858-80ef-995e8d9250f2',\n",
       "            [{\"name\": \"\\u4e0b\\u673a\\u6279\\u6b21\\u6570\", \"x\": [\"8\", \"9\"], \"y\": [725.0, 323.0], \"type\": \"scatter\", \"uid\": \"ced6f950-bbe2-11e8-adcf-a81e84e6c740\"}, {\"name\": \"\\u4e0b\\u673a\\u9879\\u76ee\\u6570\", \"x\": [\"8\", \"9\"], \"y\": [596.0, 277.0], \"type\": \"scatter\", \"uid\": \"ced70148-bbe2-11e8-adcf-a81e84e6c740\"}],\n",
       "            {\"title\": \"\\u4e0b\\u673a\\u6279\\u6b21\\u6570&\\u4e0b\\u673a\\u9879\\u76ee\\u6570\\u6708\\u8d8b\\u52bf\\u56fe\", \"xaxis\": {\"mirror\": \"all\", \"nticks\": 20, \"showgrid\": true, \"showline\": true, \"title\": \"\\u6708\", \"zeroline\": true}, \"yaxis\": {\"mirror\": \"all\", \"nticks\": 20, \"showgrid\": true, \"showline\": true, \"title\": \"\\u4e0b\\u673a\\u6279\\u6b21\\u6570&\\u4e0b\\u673a\\u9879\\u76ee\\u6570\", \"zeroline\": true}},\n",
       "            {\"showLink\": true, \"linkText\": \"Export to plot.ly\"}\n",
       "        ).then(function () {return Plotly.addFrames('d72909ab-c7d5-4858-80ef-995e8d9250f2',{});}).then(function(){Plotly.animate('d72909ab-c7d5-4858-80ef-995e8d9250f2');})\n",
       "        });</script>"
      ],
      "text/vnd.plotly.v1+html": [
       "<div id=\"d72909ab-c7d5-4858-80ef-995e8d9250f2\" style=\"height: 525px; width: 100%;\" class=\"plotly-graph-div\"></div><script type=\"text/javascript\">require([\"plotly\"], function(Plotly) { window.PLOTLYENV=window.PLOTLYENV || {};window.PLOTLYENV.BASE_URL=\"https://plot.ly\";\n",
       "        Plotly.plot(\n",
       "            'd72909ab-c7d5-4858-80ef-995e8d9250f2',\n",
       "            [{\"name\": \"\\u4e0b\\u673a\\u6279\\u6b21\\u6570\", \"x\": [\"8\", \"9\"], \"y\": [725.0, 323.0], \"type\": \"scatter\", \"uid\": \"ced6f950-bbe2-11e8-adcf-a81e84e6c740\"}, {\"name\": \"\\u4e0b\\u673a\\u9879\\u76ee\\u6570\", \"x\": [\"8\", \"9\"], \"y\": [596.0, 277.0], \"type\": \"scatter\", \"uid\": \"ced70148-bbe2-11e8-adcf-a81e84e6c740\"}],\n",
       "            {\"title\": \"\\u4e0b\\u673a\\u6279\\u6b21\\u6570&\\u4e0b\\u673a\\u9879\\u76ee\\u6570\\u6708\\u8d8b\\u52bf\\u56fe\", \"xaxis\": {\"mirror\": \"all\", \"nticks\": 20, \"showgrid\": true, \"showline\": true, \"title\": \"\\u6708\", \"zeroline\": true}, \"yaxis\": {\"mirror\": \"all\", \"nticks\": 20, \"showgrid\": true, \"showline\": true, \"title\": \"\\u4e0b\\u673a\\u6279\\u6b21\\u6570&\\u4e0b\\u673a\\u9879\\u76ee\\u6570\", \"zeroline\": true}},\n",
       "            {\"showLink\": true, \"linkText\": \"Export to plot.ly\"}\n",
       "        ).then(function () {return Plotly.addFrames('d72909ab-c7d5-4858-80ef-995e8d9250f2',{});}).then(function(){Plotly.animate('d72909ab-c7d5-4858-80ef-995e8d9250f2');})\n",
       "        });</script>"
      ]
     },
     "metadata": {},
     "output_type": "display_data"
    }
   ],
   "source": [
    "data_dict = {'下机批次数':['下机批次数'],'下机项目数':['下机项目数']}\n",
    "myModule.plot( all_dict, data_dict, '人员' ,  'line', all='all' )"
   ]
  },
  {
   "cell_type": "markdown",
   "metadata": {},
   "source": [
    "#### 下机批次比"
   ]
  },
  {
   "cell_type": "code",
   "execution_count": 31,
   "metadata": {
    "scrolled": false
   },
   "outputs": [
    {
     "data": {
      "application/vnd.plotly.v1+json": {
       "data": [
        {
         "name": "下机批次比",
         "type": "scatter",
         "uid": "cf053f9a-bbe2-11e8-adcf-a81e84e6c740",
         "x": [
          "8-1",
          "8-2",
          "8-3",
          "8-4",
          "8-5",
          "9-1",
          "9-2"
         ],
         "y": [
          1.2553191489361701,
          1.2397260273972603,
          1.2222222222222223,
          1.1838235294117647,
          1.1764705882352942,
          1.1436781609195403,
          1.203883495145631
         ]
        }
       ],
       "layout": {
        "title": "下机批次比周趋势图",
        "xaxis": {
         "mirror": "all",
         "nticks": 20,
         "showgrid": true,
         "showline": true,
         "title": "周",
         "zeroline": true
        },
        "yaxis": {
         "mirror": "all",
         "nticks": 20,
         "showgrid": true,
         "showline": true,
         "title": "下机批次比",
         "zeroline": true
        }
       }
      },
      "text/html": [
       "<div id=\"25a2c6ae-2d60-43d1-8879-53eb7164f9f1\" style=\"height: 525px; width: 100%;\" class=\"plotly-graph-div\"></div><script type=\"text/javascript\">require([\"plotly\"], function(Plotly) { window.PLOTLYENV=window.PLOTLYENV || {};window.PLOTLYENV.BASE_URL=\"https://plot.ly\";\n",
       "        Plotly.plot(\n",
       "            '25a2c6ae-2d60-43d1-8879-53eb7164f9f1',\n",
       "            [{\"name\": \"\\u4e0b\\u673a\\u6279\\u6b21\\u6bd4\", \"x\": [\"8-1\", \"8-2\", \"8-3\", \"8-4\", \"8-5\", \"9-1\", \"9-2\"], \"y\": [1.2553191489361701, 1.2397260273972603, 1.2222222222222223, 1.1838235294117647, 1.1764705882352942, 1.1436781609195403, 1.203883495145631], \"type\": \"scatter\", \"uid\": \"cf053f9a-bbe2-11e8-adcf-a81e84e6c740\"}],\n",
       "            {\"title\": \"\\u4e0b\\u673a\\u6279\\u6b21\\u6bd4\\u5468\\u8d8b\\u52bf\\u56fe\", \"xaxis\": {\"mirror\": \"all\", \"nticks\": 20, \"showgrid\": true, \"showline\": true, \"title\": \"\\u5468\", \"zeroline\": true}, \"yaxis\": {\"mirror\": \"all\", \"nticks\": 20, \"showgrid\": true, \"showline\": true, \"title\": \"\\u4e0b\\u673a\\u6279\\u6b21\\u6bd4\", \"zeroline\": true}},\n",
       "            {\"showLink\": true, \"linkText\": \"Export to plot.ly\"}\n",
       "        ).then(function () {return Plotly.addFrames('25a2c6ae-2d60-43d1-8879-53eb7164f9f1',{});}).then(function(){Plotly.animate('25a2c6ae-2d60-43d1-8879-53eb7164f9f1');})\n",
       "        });</script>"
      ],
      "text/vnd.plotly.v1+html": [
       "<div id=\"25a2c6ae-2d60-43d1-8879-53eb7164f9f1\" style=\"height: 525px; width: 100%;\" class=\"plotly-graph-div\"></div><script type=\"text/javascript\">require([\"plotly\"], function(Plotly) { window.PLOTLYENV=window.PLOTLYENV || {};window.PLOTLYENV.BASE_URL=\"https://plot.ly\";\n",
       "        Plotly.plot(\n",
       "            '25a2c6ae-2d60-43d1-8879-53eb7164f9f1',\n",
       "            [{\"name\": \"\\u4e0b\\u673a\\u6279\\u6b21\\u6bd4\", \"x\": [\"8-1\", \"8-2\", \"8-3\", \"8-4\", \"8-5\", \"9-1\", \"9-2\"], \"y\": [1.2553191489361701, 1.2397260273972603, 1.2222222222222223, 1.1838235294117647, 1.1764705882352942, 1.1436781609195403, 1.203883495145631], \"type\": \"scatter\", \"uid\": \"cf053f9a-bbe2-11e8-adcf-a81e84e6c740\"}],\n",
       "            {\"title\": \"\\u4e0b\\u673a\\u6279\\u6b21\\u6bd4\\u5468\\u8d8b\\u52bf\\u56fe\", \"xaxis\": {\"mirror\": \"all\", \"nticks\": 20, \"showgrid\": true, \"showline\": true, \"title\": \"\\u5468\", \"zeroline\": true}, \"yaxis\": {\"mirror\": \"all\", \"nticks\": 20, \"showgrid\": true, \"showline\": true, \"title\": \"\\u4e0b\\u673a\\u6279\\u6b21\\u6bd4\", \"zeroline\": true}},\n",
       "            {\"showLink\": true, \"linkText\": \"Export to plot.ly\"}\n",
       "        ).then(function () {return Plotly.addFrames('25a2c6ae-2d60-43d1-8879-53eb7164f9f1',{});}).then(function(){Plotly.animate('25a2c6ae-2d60-43d1-8879-53eb7164f9f1');})\n",
       "        });</script>"
      ]
     },
     "metadata": {},
     "output_type": "display_data"
    },
    {
     "data": {
      "application/vnd.plotly.v1+json": {
       "data": [
        {
         "name": "下机批次比",
         "type": "scatter",
         "uid": "cf1105aa-bbe2-11e8-adcf-a81e84e6c740",
         "x": [
          "8",
          "9"
         ],
         "y": [
          1.2164429530201342,
          1.1660649819494584
         ]
        }
       ],
       "layout": {
        "title": "下机批次比月趋势图",
        "xaxis": {
         "mirror": "all",
         "nticks": 20,
         "showgrid": true,
         "showline": true,
         "title": "月",
         "zeroline": true
        },
        "yaxis": {
         "mirror": "all",
         "nticks": 20,
         "showgrid": true,
         "showline": true,
         "title": "下机批次比",
         "zeroline": true
        }
       }
      },
      "text/html": [
       "<div id=\"720372b3-6ab5-48ff-9c93-b8e5778e7387\" style=\"height: 525px; width: 100%;\" class=\"plotly-graph-div\"></div><script type=\"text/javascript\">require([\"plotly\"], function(Plotly) { window.PLOTLYENV=window.PLOTLYENV || {};window.PLOTLYENV.BASE_URL=\"https://plot.ly\";\n",
       "        Plotly.plot(\n",
       "            '720372b3-6ab5-48ff-9c93-b8e5778e7387',\n",
       "            [{\"name\": \"\\u4e0b\\u673a\\u6279\\u6b21\\u6bd4\", \"x\": [\"8\", \"9\"], \"y\": [1.2164429530201342, 1.1660649819494584], \"type\": \"scatter\", \"uid\": \"cf1105aa-bbe2-11e8-adcf-a81e84e6c740\"}],\n",
       "            {\"title\": \"\\u4e0b\\u673a\\u6279\\u6b21\\u6bd4\\u6708\\u8d8b\\u52bf\\u56fe\", \"xaxis\": {\"mirror\": \"all\", \"nticks\": 20, \"showgrid\": true, \"showline\": true, \"title\": \"\\u6708\", \"zeroline\": true}, \"yaxis\": {\"mirror\": \"all\", \"nticks\": 20, \"showgrid\": true, \"showline\": true, \"title\": \"\\u4e0b\\u673a\\u6279\\u6b21\\u6bd4\", \"zeroline\": true}},\n",
       "            {\"showLink\": true, \"linkText\": \"Export to plot.ly\"}\n",
       "        ).then(function () {return Plotly.addFrames('720372b3-6ab5-48ff-9c93-b8e5778e7387',{});}).then(function(){Plotly.animate('720372b3-6ab5-48ff-9c93-b8e5778e7387');})\n",
       "        });</script>"
      ],
      "text/vnd.plotly.v1+html": [
       "<div id=\"720372b3-6ab5-48ff-9c93-b8e5778e7387\" style=\"height: 525px; width: 100%;\" class=\"plotly-graph-div\"></div><script type=\"text/javascript\">require([\"plotly\"], function(Plotly) { window.PLOTLYENV=window.PLOTLYENV || {};window.PLOTLYENV.BASE_URL=\"https://plot.ly\";\n",
       "        Plotly.plot(\n",
       "            '720372b3-6ab5-48ff-9c93-b8e5778e7387',\n",
       "            [{\"name\": \"\\u4e0b\\u673a\\u6279\\u6b21\\u6bd4\", \"x\": [\"8\", \"9\"], \"y\": [1.2164429530201342, 1.1660649819494584], \"type\": \"scatter\", \"uid\": \"cf1105aa-bbe2-11e8-adcf-a81e84e6c740\"}],\n",
       "            {\"title\": \"\\u4e0b\\u673a\\u6279\\u6b21\\u6bd4\\u6708\\u8d8b\\u52bf\\u56fe\", \"xaxis\": {\"mirror\": \"all\", \"nticks\": 20, \"showgrid\": true, \"showline\": true, \"title\": \"\\u6708\", \"zeroline\": true}, \"yaxis\": {\"mirror\": \"all\", \"nticks\": 20, \"showgrid\": true, \"showline\": true, \"title\": \"\\u4e0b\\u673a\\u6279\\u6b21\\u6bd4\", \"zeroline\": true}},\n",
       "            {\"showLink\": true, \"linkText\": \"Export to plot.ly\"}\n",
       "        ).then(function () {return Plotly.addFrames('720372b3-6ab5-48ff-9c93-b8e5778e7387',{});}).then(function(){Plotly.animate('720372b3-6ab5-48ff-9c93-b8e5778e7387');})\n",
       "        });</script>"
      ]
     },
     "metadata": {},
     "output_type": "display_data"
    }
   ],
   "source": [
    "data_dict = {'下机批次比':['下机批次数','下机项目数']}\n",
    "myModule.plot( all_dict, data_dict, '人员' ,  'line' , all='all')"
   ]
  },
  {
   "cell_type": "markdown",
   "metadata": {
    "hide_input": true
   },
   "source": [
    "### 效率"
   ]
  },
  {
   "cell_type": "markdown",
   "metadata": {},
   "source": [
    "#### 反馈及时率和数据交付及时率"
   ]
  },
  {
   "cell_type": "code",
   "execution_count": 32,
   "metadata": {
    "scrolled": false
   },
   "outputs": [
    {
     "data": {
      "application/vnd.plotly.v1+json": {
       "data": [
        {
         "name": "反馈及时率",
         "type": "scatter",
         "uid": "cf450d1e-bbe2-11e8-adcf-a81e84e6c740",
         "x": [
          "8-1",
          "8-2",
          "8-3",
          "8-4",
          "8-5",
          "9-1",
          "9-2"
         ],
         "y": [
          0.9661016949152542,
          0.9668508287292817,
          0.9878787878787879,
          0.968944099378882,
          0.93,
          0.9849246231155779,
          0.9274193548387096
         ]
        },
        {
         "name": "数据及时交付率",
         "type": "scatter",
         "uid": "cf45126e-bbe2-11e8-adcf-a81e84e6c740",
         "x": [
          "8-1",
          "8-2",
          "8-3",
          "8-4",
          "8-5",
          "9-1",
          "9-2"
         ],
         "y": [
          1,
          1,
          1,
          1,
          1,
          1,
          1
         ]
        }
       ],
       "layout": {
        "title": "反馈及时率&数据及时交付率周趋势图",
        "xaxis": {
         "mirror": "all",
         "nticks": 20,
         "showgrid": true,
         "showline": true,
         "title": "周",
         "zeroline": true
        },
        "yaxis": {
         "mirror": "all",
         "nticks": 20,
         "showgrid": true,
         "showline": true,
         "title": "反馈及时率&数据及时交付率",
         "zeroline": true
        }
       }
      },
      "text/html": [
       "<div id=\"bf7a790c-c122-4df0-b76d-630bfecab948\" style=\"height: 525px; width: 100%;\" class=\"plotly-graph-div\"></div><script type=\"text/javascript\">require([\"plotly\"], function(Plotly) { window.PLOTLYENV=window.PLOTLYENV || {};window.PLOTLYENV.BASE_URL=\"https://plot.ly\";\n",
       "        Plotly.plot(\n",
       "            'bf7a790c-c122-4df0-b76d-630bfecab948',\n",
       "            [{\"name\": \"\\u53cd\\u9988\\u53ca\\u65f6\\u7387\", \"x\": [\"8-1\", \"8-2\", \"8-3\", \"8-4\", \"8-5\", \"9-1\", \"9-2\"], \"y\": [0.9661016949152542, 0.9668508287292817, 0.9878787878787879, 0.968944099378882, 0.93, 0.9849246231155779, 0.9274193548387096], \"type\": \"scatter\", \"uid\": \"cf450d1e-bbe2-11e8-adcf-a81e84e6c740\"}, {\"name\": \"\\u6570\\u636e\\u53ca\\u65f6\\u4ea4\\u4ed8\\u7387\", \"x\": [\"8-1\", \"8-2\", \"8-3\", \"8-4\", \"8-5\", \"9-1\", \"9-2\"], \"y\": [1.0, 1.0, 1.0, 1.0, 1.0, 1.0, 1.0], \"type\": \"scatter\", \"uid\": \"cf45126e-bbe2-11e8-adcf-a81e84e6c740\"}],\n",
       "            {\"title\": \"\\u53cd\\u9988\\u53ca\\u65f6\\u7387&\\u6570\\u636e\\u53ca\\u65f6\\u4ea4\\u4ed8\\u7387\\u5468\\u8d8b\\u52bf\\u56fe\", \"xaxis\": {\"mirror\": \"all\", \"nticks\": 20, \"showgrid\": true, \"showline\": true, \"title\": \"\\u5468\", \"zeroline\": true}, \"yaxis\": {\"mirror\": \"all\", \"nticks\": 20, \"showgrid\": true, \"showline\": true, \"title\": \"\\u53cd\\u9988\\u53ca\\u65f6\\u7387&\\u6570\\u636e\\u53ca\\u65f6\\u4ea4\\u4ed8\\u7387\", \"zeroline\": true}},\n",
       "            {\"showLink\": true, \"linkText\": \"Export to plot.ly\"}\n",
       "        ).then(function () {return Plotly.addFrames('bf7a790c-c122-4df0-b76d-630bfecab948',{});}).then(function(){Plotly.animate('bf7a790c-c122-4df0-b76d-630bfecab948');})\n",
       "        });</script>"
      ],
      "text/vnd.plotly.v1+html": [
       "<div id=\"bf7a790c-c122-4df0-b76d-630bfecab948\" style=\"height: 525px; width: 100%;\" class=\"plotly-graph-div\"></div><script type=\"text/javascript\">require([\"plotly\"], function(Plotly) { window.PLOTLYENV=window.PLOTLYENV || {};window.PLOTLYENV.BASE_URL=\"https://plot.ly\";\n",
       "        Plotly.plot(\n",
       "            'bf7a790c-c122-4df0-b76d-630bfecab948',\n",
       "            [{\"name\": \"\\u53cd\\u9988\\u53ca\\u65f6\\u7387\", \"x\": [\"8-1\", \"8-2\", \"8-3\", \"8-4\", \"8-5\", \"9-1\", \"9-2\"], \"y\": [0.9661016949152542, 0.9668508287292817, 0.9878787878787879, 0.968944099378882, 0.93, 0.9849246231155779, 0.9274193548387096], \"type\": \"scatter\", \"uid\": \"cf450d1e-bbe2-11e8-adcf-a81e84e6c740\"}, {\"name\": \"\\u6570\\u636e\\u53ca\\u65f6\\u4ea4\\u4ed8\\u7387\", \"x\": [\"8-1\", \"8-2\", \"8-3\", \"8-4\", \"8-5\", \"9-1\", \"9-2\"], \"y\": [1.0, 1.0, 1.0, 1.0, 1.0, 1.0, 1.0], \"type\": \"scatter\", \"uid\": \"cf45126e-bbe2-11e8-adcf-a81e84e6c740\"}],\n",
       "            {\"title\": \"\\u53cd\\u9988\\u53ca\\u65f6\\u7387&\\u6570\\u636e\\u53ca\\u65f6\\u4ea4\\u4ed8\\u7387\\u5468\\u8d8b\\u52bf\\u56fe\", \"xaxis\": {\"mirror\": \"all\", \"nticks\": 20, \"showgrid\": true, \"showline\": true, \"title\": \"\\u5468\", \"zeroline\": true}, \"yaxis\": {\"mirror\": \"all\", \"nticks\": 20, \"showgrid\": true, \"showline\": true, \"title\": \"\\u53cd\\u9988\\u53ca\\u65f6\\u7387&\\u6570\\u636e\\u53ca\\u65f6\\u4ea4\\u4ed8\\u7387\", \"zeroline\": true}},\n",
       "            {\"showLink\": true, \"linkText\": \"Export to plot.ly\"}\n",
       "        ).then(function () {return Plotly.addFrames('bf7a790c-c122-4df0-b76d-630bfecab948',{});}).then(function(){Plotly.animate('bf7a790c-c122-4df0-b76d-630bfecab948');})\n",
       "        });</script>"
      ]
     },
     "metadata": {},
     "output_type": "display_data"
    },
    {
     "data": {
      "application/vnd.plotly.v1+json": {
       "data": [
        {
         "name": "反馈及时率",
         "type": "scatter",
         "uid": "cf56372e-bbe2-11e8-adcf-a81e84e6c740",
         "x": [
          "8",
          "9"
         ],
         "y": [
          0.9668965517241379,
          0.9628482972136223
         ]
        },
        {
         "name": "数据及时交付率",
         "type": "scatter",
         "uid": "cf563a9e-bbe2-11e8-adcf-a81e84e6c740",
         "x": [
          "8",
          "9"
         ],
         "y": [
          1,
          1
         ]
        }
       ],
       "layout": {
        "title": "反馈及时率&数据及时交付率月趋势图",
        "xaxis": {
         "mirror": "all",
         "nticks": 20,
         "showgrid": true,
         "showline": true,
         "title": "月",
         "zeroline": true
        },
        "yaxis": {
         "mirror": "all",
         "nticks": 20,
         "showgrid": true,
         "showline": true,
         "title": "反馈及时率&数据及时交付率",
         "zeroline": true
        }
       }
      },
      "text/html": [
       "<div id=\"1e73adfd-8f30-41fe-966c-a22179019f77\" style=\"height: 525px; width: 100%;\" class=\"plotly-graph-div\"></div><script type=\"text/javascript\">require([\"plotly\"], function(Plotly) { window.PLOTLYENV=window.PLOTLYENV || {};window.PLOTLYENV.BASE_URL=\"https://plot.ly\";\n",
       "        Plotly.plot(\n",
       "            '1e73adfd-8f30-41fe-966c-a22179019f77',\n",
       "            [{\"name\": \"\\u53cd\\u9988\\u53ca\\u65f6\\u7387\", \"x\": [\"8\", \"9\"], \"y\": [0.9668965517241379, 0.9628482972136223], \"type\": \"scatter\", \"uid\": \"cf56372e-bbe2-11e8-adcf-a81e84e6c740\"}, {\"name\": \"\\u6570\\u636e\\u53ca\\u65f6\\u4ea4\\u4ed8\\u7387\", \"x\": [\"8\", \"9\"], \"y\": [1.0, 1.0], \"type\": \"scatter\", \"uid\": \"cf563a9e-bbe2-11e8-adcf-a81e84e6c740\"}],\n",
       "            {\"title\": \"\\u53cd\\u9988\\u53ca\\u65f6\\u7387&\\u6570\\u636e\\u53ca\\u65f6\\u4ea4\\u4ed8\\u7387\\u6708\\u8d8b\\u52bf\\u56fe\", \"xaxis\": {\"mirror\": \"all\", \"nticks\": 20, \"showgrid\": true, \"showline\": true, \"title\": \"\\u6708\", \"zeroline\": true}, \"yaxis\": {\"mirror\": \"all\", \"nticks\": 20, \"showgrid\": true, \"showline\": true, \"title\": \"\\u53cd\\u9988\\u53ca\\u65f6\\u7387&\\u6570\\u636e\\u53ca\\u65f6\\u4ea4\\u4ed8\\u7387\", \"zeroline\": true}},\n",
       "            {\"showLink\": true, \"linkText\": \"Export to plot.ly\"}\n",
       "        ).then(function () {return Plotly.addFrames('1e73adfd-8f30-41fe-966c-a22179019f77',{});}).then(function(){Plotly.animate('1e73adfd-8f30-41fe-966c-a22179019f77');})\n",
       "        });</script>"
      ],
      "text/vnd.plotly.v1+html": [
       "<div id=\"1e73adfd-8f30-41fe-966c-a22179019f77\" style=\"height: 525px; width: 100%;\" class=\"plotly-graph-div\"></div><script type=\"text/javascript\">require([\"plotly\"], function(Plotly) { window.PLOTLYENV=window.PLOTLYENV || {};window.PLOTLYENV.BASE_URL=\"https://plot.ly\";\n",
       "        Plotly.plot(\n",
       "            '1e73adfd-8f30-41fe-966c-a22179019f77',\n",
       "            [{\"name\": \"\\u53cd\\u9988\\u53ca\\u65f6\\u7387\", \"x\": [\"8\", \"9\"], \"y\": [0.9668965517241379, 0.9628482972136223], \"type\": \"scatter\", \"uid\": \"cf56372e-bbe2-11e8-adcf-a81e84e6c740\"}, {\"name\": \"\\u6570\\u636e\\u53ca\\u65f6\\u4ea4\\u4ed8\\u7387\", \"x\": [\"8\", \"9\"], \"y\": [1.0, 1.0], \"type\": \"scatter\", \"uid\": \"cf563a9e-bbe2-11e8-adcf-a81e84e6c740\"}],\n",
       "            {\"title\": \"\\u53cd\\u9988\\u53ca\\u65f6\\u7387&\\u6570\\u636e\\u53ca\\u65f6\\u4ea4\\u4ed8\\u7387\\u6708\\u8d8b\\u52bf\\u56fe\", \"xaxis\": {\"mirror\": \"all\", \"nticks\": 20, \"showgrid\": true, \"showline\": true, \"title\": \"\\u6708\", \"zeroline\": true}, \"yaxis\": {\"mirror\": \"all\", \"nticks\": 20, \"showgrid\": true, \"showline\": true, \"title\": \"\\u53cd\\u9988\\u53ca\\u65f6\\u7387&\\u6570\\u636e\\u53ca\\u65f6\\u4ea4\\u4ed8\\u7387\", \"zeroline\": true}},\n",
       "            {\"showLink\": true, \"linkText\": \"Export to plot.ly\"}\n",
       "        ).then(function () {return Plotly.addFrames('1e73adfd-8f30-41fe-966c-a22179019f77',{});}).then(function(){Plotly.animate('1e73adfd-8f30-41fe-966c-a22179019f77');})\n",
       "        });</script>"
      ]
     },
     "metadata": {},
     "output_type": "display_data"
    }
   ],
   "source": [
    "data_dict = {'反馈及时率':['及时反馈数','下机批次数'], '数据及时交付率':['数据及时交付数','数据交付总数']}\n",
    "myModule.plot( all_dict, data_dict, '人员' ,  'line' , all='all')"
   ]
  },
  {
   "cell_type": "markdown",
   "metadata": {},
   "source": [
    "#### 24h拆分过滤率和48h拆分过滤率"
   ]
  },
  {
   "cell_type": "code",
   "execution_count": 33,
   "metadata": {},
   "outputs": [
    {
     "data": {
      "application/vnd.plotly.v1+json": {
       "data": [
        {
         "name": "24h拆分过滤率",
         "type": "scatter",
         "uid": "cf92ebd8-bbe2-11e8-adcf-a81e84e6c740",
         "x": [
          "8-1",
          "8-2",
          "8-3",
          "8-4",
          "8-5",
          "9-1",
          "9-2"
         ],
         "y": [
          0.6271186440677966,
          0.5359116022099447,
          0.6787878787878788,
          0.9192546583850931,
          0.71,
          0.7286432160804021,
          0.782258064516129
         ]
        },
        {
         "name": "48h拆分过滤率",
         "type": "scatter",
         "uid": "cf92f088-bbe2-11e8-adcf-a81e84e6c740",
         "x": [
          "8-1",
          "8-2",
          "8-3",
          "8-4",
          "8-5",
          "9-1",
          "9-2"
         ],
         "y": [
          0.923728813559322,
          0.8121546961325967,
          0.9757575757575757,
          0.9751552795031055,
          0.79,
          0.8492462311557789,
          0.9516129032258065
         ]
        }
       ],
       "layout": {
        "title": "24h拆分过滤率&48h拆分过滤率周趋势图",
        "xaxis": {
         "mirror": "all",
         "nticks": 20,
         "showgrid": true,
         "showline": true,
         "title": "周",
         "zeroline": true
        },
        "yaxis": {
         "mirror": "all",
         "nticks": 20,
         "showgrid": true,
         "showline": true,
         "title": "24h拆分过滤率&48h拆分过滤率",
         "zeroline": true
        }
       }
      },
      "text/html": [
       "<div id=\"77e7a87b-242d-497d-8587-37f818d40680\" style=\"height: 525px; width: 100%;\" class=\"plotly-graph-div\"></div><script type=\"text/javascript\">require([\"plotly\"], function(Plotly) { window.PLOTLYENV=window.PLOTLYENV || {};window.PLOTLYENV.BASE_URL=\"https://plot.ly\";\n",
       "        Plotly.plot(\n",
       "            '77e7a87b-242d-497d-8587-37f818d40680',\n",
       "            [{\"name\": \"24h\\u62c6\\u5206\\u8fc7\\u6ee4\\u7387\", \"x\": [\"8-1\", \"8-2\", \"8-3\", \"8-4\", \"8-5\", \"9-1\", \"9-2\"], \"y\": [0.6271186440677966, 0.5359116022099447, 0.6787878787878788, 0.9192546583850931, 0.71, 0.7286432160804021, 0.782258064516129], \"type\": \"scatter\", \"uid\": \"cf92ebd8-bbe2-11e8-adcf-a81e84e6c740\"}, {\"name\": \"48h\\u62c6\\u5206\\u8fc7\\u6ee4\\u7387\", \"x\": [\"8-1\", \"8-2\", \"8-3\", \"8-4\", \"8-5\", \"9-1\", \"9-2\"], \"y\": [0.923728813559322, 0.8121546961325967, 0.9757575757575757, 0.9751552795031055, 0.79, 0.8492462311557789, 0.9516129032258065], \"type\": \"scatter\", \"uid\": \"cf92f088-bbe2-11e8-adcf-a81e84e6c740\"}],\n",
       "            {\"title\": \"24h\\u62c6\\u5206\\u8fc7\\u6ee4\\u7387&48h\\u62c6\\u5206\\u8fc7\\u6ee4\\u7387\\u5468\\u8d8b\\u52bf\\u56fe\", \"xaxis\": {\"mirror\": \"all\", \"nticks\": 20, \"showgrid\": true, \"showline\": true, \"title\": \"\\u5468\", \"zeroline\": true}, \"yaxis\": {\"mirror\": \"all\", \"nticks\": 20, \"showgrid\": true, \"showline\": true, \"title\": \"24h\\u62c6\\u5206\\u8fc7\\u6ee4\\u7387&48h\\u62c6\\u5206\\u8fc7\\u6ee4\\u7387\", \"zeroline\": true}},\n",
       "            {\"showLink\": true, \"linkText\": \"Export to plot.ly\"}\n",
       "        ).then(function () {return Plotly.addFrames('77e7a87b-242d-497d-8587-37f818d40680',{});}).then(function(){Plotly.animate('77e7a87b-242d-497d-8587-37f818d40680');})\n",
       "        });</script>"
      ],
      "text/vnd.plotly.v1+html": [
       "<div id=\"77e7a87b-242d-497d-8587-37f818d40680\" style=\"height: 525px; width: 100%;\" class=\"plotly-graph-div\"></div><script type=\"text/javascript\">require([\"plotly\"], function(Plotly) { window.PLOTLYENV=window.PLOTLYENV || {};window.PLOTLYENV.BASE_URL=\"https://plot.ly\";\n",
       "        Plotly.plot(\n",
       "            '77e7a87b-242d-497d-8587-37f818d40680',\n",
       "            [{\"name\": \"24h\\u62c6\\u5206\\u8fc7\\u6ee4\\u7387\", \"x\": [\"8-1\", \"8-2\", \"8-3\", \"8-4\", \"8-5\", \"9-1\", \"9-2\"], \"y\": [0.6271186440677966, 0.5359116022099447, 0.6787878787878788, 0.9192546583850931, 0.71, 0.7286432160804021, 0.782258064516129], \"type\": \"scatter\", \"uid\": \"cf92ebd8-bbe2-11e8-adcf-a81e84e6c740\"}, {\"name\": \"48h\\u62c6\\u5206\\u8fc7\\u6ee4\\u7387\", \"x\": [\"8-1\", \"8-2\", \"8-3\", \"8-4\", \"8-5\", \"9-1\", \"9-2\"], \"y\": [0.923728813559322, 0.8121546961325967, 0.9757575757575757, 0.9751552795031055, 0.79, 0.8492462311557789, 0.9516129032258065], \"type\": \"scatter\", \"uid\": \"cf92f088-bbe2-11e8-adcf-a81e84e6c740\"}],\n",
       "            {\"title\": \"24h\\u62c6\\u5206\\u8fc7\\u6ee4\\u7387&48h\\u62c6\\u5206\\u8fc7\\u6ee4\\u7387\\u5468\\u8d8b\\u52bf\\u56fe\", \"xaxis\": {\"mirror\": \"all\", \"nticks\": 20, \"showgrid\": true, \"showline\": true, \"title\": \"\\u5468\", \"zeroline\": true}, \"yaxis\": {\"mirror\": \"all\", \"nticks\": 20, \"showgrid\": true, \"showline\": true, \"title\": \"24h\\u62c6\\u5206\\u8fc7\\u6ee4\\u7387&48h\\u62c6\\u5206\\u8fc7\\u6ee4\\u7387\", \"zeroline\": true}},\n",
       "            {\"showLink\": true, \"linkText\": \"Export to plot.ly\"}\n",
       "        ).then(function () {return Plotly.addFrames('77e7a87b-242d-497d-8587-37f818d40680',{});}).then(function(){Plotly.animate('77e7a87b-242d-497d-8587-37f818d40680');})\n",
       "        });</script>"
      ]
     },
     "metadata": {},
     "output_type": "display_data"
    },
    {
     "data": {
      "application/vnd.plotly.v1+json": {
       "data": [
        {
         "name": "24h拆分过滤率",
         "type": "scatter",
         "uid": "cfa9a314-bbe2-11e8-adcf-a81e84e6c740",
         "x": [
          "8",
          "9"
         ],
         "y": [
          0.6924137931034483,
          0.7492260061919505
         ]
        },
        {
         "name": "48h拆分过滤率",
         "type": "scatter",
         "uid": "cfa9a954-bbe2-11e8-adcf-a81e84e6c740",
         "x": [
          "8",
          "9"
         ],
         "y": [
          0.9006896551724138,
          0.8885448916408669
         ]
        }
       ],
       "layout": {
        "title": "24h拆分过滤率&48h拆分过滤率月趋势图",
        "xaxis": {
         "mirror": "all",
         "nticks": 20,
         "showgrid": true,
         "showline": true,
         "title": "月",
         "zeroline": true
        },
        "yaxis": {
         "mirror": "all",
         "nticks": 20,
         "showgrid": true,
         "showline": true,
         "title": "24h拆分过滤率&48h拆分过滤率",
         "zeroline": true
        }
       }
      },
      "text/html": [
       "<div id=\"d7012527-662d-4a8c-8daf-86b606f9caea\" style=\"height: 525px; width: 100%;\" class=\"plotly-graph-div\"></div><script type=\"text/javascript\">require([\"plotly\"], function(Plotly) { window.PLOTLYENV=window.PLOTLYENV || {};window.PLOTLYENV.BASE_URL=\"https://plot.ly\";\n",
       "        Plotly.plot(\n",
       "            'd7012527-662d-4a8c-8daf-86b606f9caea',\n",
       "            [{\"name\": \"24h\\u62c6\\u5206\\u8fc7\\u6ee4\\u7387\", \"x\": [\"8\", \"9\"], \"y\": [0.6924137931034483, 0.7492260061919505], \"type\": \"scatter\", \"uid\": \"cfa9a314-bbe2-11e8-adcf-a81e84e6c740\"}, {\"name\": \"48h\\u62c6\\u5206\\u8fc7\\u6ee4\\u7387\", \"x\": [\"8\", \"9\"], \"y\": [0.9006896551724138, 0.8885448916408669], \"type\": \"scatter\", \"uid\": \"cfa9a954-bbe2-11e8-adcf-a81e84e6c740\"}],\n",
       "            {\"title\": \"24h\\u62c6\\u5206\\u8fc7\\u6ee4\\u7387&48h\\u62c6\\u5206\\u8fc7\\u6ee4\\u7387\\u6708\\u8d8b\\u52bf\\u56fe\", \"xaxis\": {\"mirror\": \"all\", \"nticks\": 20, \"showgrid\": true, \"showline\": true, \"title\": \"\\u6708\", \"zeroline\": true}, \"yaxis\": {\"mirror\": \"all\", \"nticks\": 20, \"showgrid\": true, \"showline\": true, \"title\": \"24h\\u62c6\\u5206\\u8fc7\\u6ee4\\u7387&48h\\u62c6\\u5206\\u8fc7\\u6ee4\\u7387\", \"zeroline\": true}},\n",
       "            {\"showLink\": true, \"linkText\": \"Export to plot.ly\"}\n",
       "        ).then(function () {return Plotly.addFrames('d7012527-662d-4a8c-8daf-86b606f9caea',{});}).then(function(){Plotly.animate('d7012527-662d-4a8c-8daf-86b606f9caea');})\n",
       "        });</script>"
      ],
      "text/vnd.plotly.v1+html": [
       "<div id=\"d7012527-662d-4a8c-8daf-86b606f9caea\" style=\"height: 525px; width: 100%;\" class=\"plotly-graph-div\"></div><script type=\"text/javascript\">require([\"plotly\"], function(Plotly) { window.PLOTLYENV=window.PLOTLYENV || {};window.PLOTLYENV.BASE_URL=\"https://plot.ly\";\n",
       "        Plotly.plot(\n",
       "            'd7012527-662d-4a8c-8daf-86b606f9caea',\n",
       "            [{\"name\": \"24h\\u62c6\\u5206\\u8fc7\\u6ee4\\u7387\", \"x\": [\"8\", \"9\"], \"y\": [0.6924137931034483, 0.7492260061919505], \"type\": \"scatter\", \"uid\": \"cfa9a314-bbe2-11e8-adcf-a81e84e6c740\"}, {\"name\": \"48h\\u62c6\\u5206\\u8fc7\\u6ee4\\u7387\", \"x\": [\"8\", \"9\"], \"y\": [0.9006896551724138, 0.8885448916408669], \"type\": \"scatter\", \"uid\": \"cfa9a954-bbe2-11e8-adcf-a81e84e6c740\"}],\n",
       "            {\"title\": \"24h\\u62c6\\u5206\\u8fc7\\u6ee4\\u7387&48h\\u62c6\\u5206\\u8fc7\\u6ee4\\u7387\\u6708\\u8d8b\\u52bf\\u56fe\", \"xaxis\": {\"mirror\": \"all\", \"nticks\": 20, \"showgrid\": true, \"showline\": true, \"title\": \"\\u6708\", \"zeroline\": true}, \"yaxis\": {\"mirror\": \"all\", \"nticks\": 20, \"showgrid\": true, \"showline\": true, \"title\": \"24h\\u62c6\\u5206\\u8fc7\\u6ee4\\u7387&48h\\u62c6\\u5206\\u8fc7\\u6ee4\\u7387\", \"zeroline\": true}},\n",
       "            {\"showLink\": true, \"linkText\": \"Export to plot.ly\"}\n",
       "        ).then(function () {return Plotly.addFrames('d7012527-662d-4a8c-8daf-86b606f9caea',{});}).then(function(){Plotly.animate('d7012527-662d-4a8c-8daf-86b606f9caea');})\n",
       "        });</script>"
      ]
     },
     "metadata": {},
     "output_type": "display_data"
    }
   ],
   "source": [
    "data_dict = {'24h拆分过滤率':['24h完成批次数', '下机批次数'], '48h拆分过滤率':['48h完成批次数', '下机批次数']}\n",
    "myModule.plot( all_dict, data_dict, '人员' ,  'line' , all='all')"
   ]
  },
  {
   "cell_type": "markdown",
   "metadata": {},
   "source": [
    "#### 平均反馈时长"
   ]
  },
  {
   "cell_type": "code",
   "execution_count": 34,
   "metadata": {},
   "outputs": [
    {
     "data": {
      "application/vnd.plotly.v1+json": {
       "data": [
        {
         "name": "平均反馈时长",
         "type": "scatter",
         "uid": "d0077cb4-bbe2-11e8-adcf-a81e84e6c740",
         "x": [
          "8-1",
          "8-2",
          "8-3",
          "8-4",
          "8-5",
          "9-1",
          "9-2"
         ],
         "y": [
          6.40728813559322,
          4.446298342541437,
          5.337454545454545,
          4.985962732919255,
          6.498000000000001,
          9.664371859296482,
          7.4699193548387095
         ]
        }
       ],
       "layout": {
        "title": "平均反馈时长周趋势图",
        "xaxis": {
         "mirror": "all",
         "nticks": 20,
         "showgrid": true,
         "showline": true,
         "title": "周",
         "zeroline": true
        },
        "yaxis": {
         "mirror": "all",
         "nticks": 20,
         "showgrid": true,
         "showline": true,
         "title": "平均反馈时长",
         "zeroline": true
        }
       }
      },
      "text/html": [
       "<div id=\"8d170be5-b687-4cd8-8935-f76143fe12c6\" style=\"height: 525px; width: 100%;\" class=\"plotly-graph-div\"></div><script type=\"text/javascript\">require([\"plotly\"], function(Plotly) { window.PLOTLYENV=window.PLOTLYENV || {};window.PLOTLYENV.BASE_URL=\"https://plot.ly\";\n",
       "        Plotly.plot(\n",
       "            '8d170be5-b687-4cd8-8935-f76143fe12c6',\n",
       "            [{\"name\": \"\\u5e73\\u5747\\u53cd\\u9988\\u65f6\\u957f\", \"x\": [\"8-1\", \"8-2\", \"8-3\", \"8-4\", \"8-5\", \"9-1\", \"9-2\"], \"y\": [6.40728813559322, 4.446298342541437, 5.337454545454545, 4.985962732919255, 6.498000000000001, 9.664371859296482, 7.4699193548387095], \"type\": \"scatter\", \"uid\": \"d0077cb4-bbe2-11e8-adcf-a81e84e6c740\"}],\n",
       "            {\"title\": \"\\u5e73\\u5747\\u53cd\\u9988\\u65f6\\u957f\\u5468\\u8d8b\\u52bf\\u56fe\", \"xaxis\": {\"mirror\": \"all\", \"nticks\": 20, \"showgrid\": true, \"showline\": true, \"title\": \"\\u5468\", \"zeroline\": true}, \"yaxis\": {\"mirror\": \"all\", \"nticks\": 20, \"showgrid\": true, \"showline\": true, \"title\": \"\\u5e73\\u5747\\u53cd\\u9988\\u65f6\\u957f\", \"zeroline\": true}},\n",
       "            {\"showLink\": true, \"linkText\": \"Export to plot.ly\"}\n",
       "        ).then(function () {return Plotly.addFrames('8d170be5-b687-4cd8-8935-f76143fe12c6',{});}).then(function(){Plotly.animate('8d170be5-b687-4cd8-8935-f76143fe12c6');})\n",
       "        });</script>"
      ],
      "text/vnd.plotly.v1+html": [
       "<div id=\"8d170be5-b687-4cd8-8935-f76143fe12c6\" style=\"height: 525px; width: 100%;\" class=\"plotly-graph-div\"></div><script type=\"text/javascript\">require([\"plotly\"], function(Plotly) { window.PLOTLYENV=window.PLOTLYENV || {};window.PLOTLYENV.BASE_URL=\"https://plot.ly\";\n",
       "        Plotly.plot(\n",
       "            '8d170be5-b687-4cd8-8935-f76143fe12c6',\n",
       "            [{\"name\": \"\\u5e73\\u5747\\u53cd\\u9988\\u65f6\\u957f\", \"x\": [\"8-1\", \"8-2\", \"8-3\", \"8-4\", \"8-5\", \"9-1\", \"9-2\"], \"y\": [6.40728813559322, 4.446298342541437, 5.337454545454545, 4.985962732919255, 6.498000000000001, 9.664371859296482, 7.4699193548387095], \"type\": \"scatter\", \"uid\": \"d0077cb4-bbe2-11e8-adcf-a81e84e6c740\"}],\n",
       "            {\"title\": \"\\u5e73\\u5747\\u53cd\\u9988\\u65f6\\u957f\\u5468\\u8d8b\\u52bf\\u56fe\", \"xaxis\": {\"mirror\": \"all\", \"nticks\": 20, \"showgrid\": true, \"showline\": true, \"title\": \"\\u5468\", \"zeroline\": true}, \"yaxis\": {\"mirror\": \"all\", \"nticks\": 20, \"showgrid\": true, \"showline\": true, \"title\": \"\\u5e73\\u5747\\u53cd\\u9988\\u65f6\\u957f\", \"zeroline\": true}},\n",
       "            {\"showLink\": true, \"linkText\": \"Export to plot.ly\"}\n",
       "        ).then(function () {return Plotly.addFrames('8d170be5-b687-4cd8-8935-f76143fe12c6',{});}).then(function(){Plotly.animate('8d170be5-b687-4cd8-8935-f76143fe12c6');})\n",
       "        });</script>"
      ]
     },
     "metadata": {},
     "output_type": "display_data"
    },
    {
     "data": {
      "application/vnd.plotly.v1+json": {
       "data": [
        {
         "name": "平均反馈时长",
         "type": "scatter",
         "uid": "d019b456-bbe2-11e8-adcf-a81e84e6c740",
         "x": [
          "8",
          "9"
         ],
         "y": [
          5.371117241379311,
          8.821919504643963
         ]
        }
       ],
       "layout": {
        "title": "平均反馈时长月趋势图",
        "xaxis": {
         "mirror": "all",
         "nticks": 20,
         "showgrid": true,
         "showline": true,
         "title": "月",
         "zeroline": true
        },
        "yaxis": {
         "mirror": "all",
         "nticks": 20,
         "showgrid": true,
         "showline": true,
         "title": "平均反馈时长",
         "zeroline": true
        }
       }
      },
      "text/html": [
       "<div id=\"2245e735-326e-4dde-81d3-6a51175e3e4e\" style=\"height: 525px; width: 100%;\" class=\"plotly-graph-div\"></div><script type=\"text/javascript\">require([\"plotly\"], function(Plotly) { window.PLOTLYENV=window.PLOTLYENV || {};window.PLOTLYENV.BASE_URL=\"https://plot.ly\";\n",
       "        Plotly.plot(\n",
       "            '2245e735-326e-4dde-81d3-6a51175e3e4e',\n",
       "            [{\"name\": \"\\u5e73\\u5747\\u53cd\\u9988\\u65f6\\u957f\", \"x\": [\"8\", \"9\"], \"y\": [5.371117241379311, 8.821919504643963], \"type\": \"scatter\", \"uid\": \"d019b456-bbe2-11e8-adcf-a81e84e6c740\"}],\n",
       "            {\"title\": \"\\u5e73\\u5747\\u53cd\\u9988\\u65f6\\u957f\\u6708\\u8d8b\\u52bf\\u56fe\", \"xaxis\": {\"mirror\": \"all\", \"nticks\": 20, \"showgrid\": true, \"showline\": true, \"title\": \"\\u6708\", \"zeroline\": true}, \"yaxis\": {\"mirror\": \"all\", \"nticks\": 20, \"showgrid\": true, \"showline\": true, \"title\": \"\\u5e73\\u5747\\u53cd\\u9988\\u65f6\\u957f\", \"zeroline\": true}},\n",
       "            {\"showLink\": true, \"linkText\": \"Export to plot.ly\"}\n",
       "        ).then(function () {return Plotly.addFrames('2245e735-326e-4dde-81d3-6a51175e3e4e',{});}).then(function(){Plotly.animate('2245e735-326e-4dde-81d3-6a51175e3e4e');})\n",
       "        });</script>"
      ],
      "text/vnd.plotly.v1+html": [
       "<div id=\"2245e735-326e-4dde-81d3-6a51175e3e4e\" style=\"height: 525px; width: 100%;\" class=\"plotly-graph-div\"></div><script type=\"text/javascript\">require([\"plotly\"], function(Plotly) { window.PLOTLYENV=window.PLOTLYENV || {};window.PLOTLYENV.BASE_URL=\"https://plot.ly\";\n",
       "        Plotly.plot(\n",
       "            '2245e735-326e-4dde-81d3-6a51175e3e4e',\n",
       "            [{\"name\": \"\\u5e73\\u5747\\u53cd\\u9988\\u65f6\\u957f\", \"x\": [\"8\", \"9\"], \"y\": [5.371117241379311, 8.821919504643963], \"type\": \"scatter\", \"uid\": \"d019b456-bbe2-11e8-adcf-a81e84e6c740\"}],\n",
       "            {\"title\": \"\\u5e73\\u5747\\u53cd\\u9988\\u65f6\\u957f\\u6708\\u8d8b\\u52bf\\u56fe\", \"xaxis\": {\"mirror\": \"all\", \"nticks\": 20, \"showgrid\": true, \"showline\": true, \"title\": \"\\u6708\", \"zeroline\": true}, \"yaxis\": {\"mirror\": \"all\", \"nticks\": 20, \"showgrid\": true, \"showline\": true, \"title\": \"\\u5e73\\u5747\\u53cd\\u9988\\u65f6\\u957f\", \"zeroline\": true}},\n",
       "            {\"showLink\": true, \"linkText\": \"Export to plot.ly\"}\n",
       "        ).then(function () {return Plotly.addFrames('2245e735-326e-4dde-81d3-6a51175e3e4e',{});}).then(function(){Plotly.animate('2245e735-326e-4dde-81d3-6a51175e3e4e');})\n",
       "        });</script>"
      ]
     },
     "metadata": {},
     "output_type": "display_data"
    }
   ],
   "source": [
    "data_dict = {'平均反馈时长':['反馈总时长','下机批次数']}\n",
    "myModule.plot( all_dict, data_dict, '人员' ,  'line' , all='all')"
   ]
  },
  {
   "cell_type": "markdown",
   "metadata": {},
   "source": [
    "### 异常"
   ]
  },
  {
   "cell_type": "markdown",
   "metadata": {},
   "source": [
    "#### 个性化拆分"
   ]
  },
  {
   "cell_type": "code",
   "execution_count": 35,
   "metadata": {
    "scrolled": false
   },
   "outputs": [
    {
     "data": {
      "application/vnd.plotly.v1+json": {
       "data": [
        {
         "name": "个性化数",
         "type": "bar",
         "uid": "d0613d62-bbe2-11e8-adcf-a81e84e6c740",
         "x": [
          "8-1",
          "8-2",
          "8-3",
          "8-4",
          "8-5",
          "9-1",
          "9-2"
         ],
         "y": [
          0,
          0,
          0,
          0,
          0,
          0,
          0
         ]
        }
       ],
       "layout": {
        "title": "个性化数周趋势图",
        "xaxis": {
         "mirror": "all",
         "nticks": 20,
         "showgrid": true,
         "showline": true,
         "title": "周",
         "zeroline": true
        },
        "yaxis": {
         "mirror": "all",
         "nticks": 20,
         "showgrid": true,
         "showline": true,
         "title": "个性化数",
         "zeroline": true
        }
       }
      },
      "text/html": [
       "<div id=\"929783a1-a119-4164-8957-5b31ac81f4d3\" style=\"height: 525px; width: 100%;\" class=\"plotly-graph-div\"></div><script type=\"text/javascript\">require([\"plotly\"], function(Plotly) { window.PLOTLYENV=window.PLOTLYENV || {};window.PLOTLYENV.BASE_URL=\"https://plot.ly\";\n",
       "        Plotly.plot(\n",
       "            '929783a1-a119-4164-8957-5b31ac81f4d3',\n",
       "            [{\"name\": \"\\u4e2a\\u6027\\u5316\\u6570\", \"x\": [\"8-1\", \"8-2\", \"8-3\", \"8-4\", \"8-5\", \"9-1\", \"9-2\"], \"y\": [0.0, 0.0, 0.0, 0.0, 0.0, 0.0, 0.0], \"type\": \"bar\", \"uid\": \"d0613d62-bbe2-11e8-adcf-a81e84e6c740\"}],\n",
       "            {\"title\": \"\\u4e2a\\u6027\\u5316\\u6570\\u5468\\u8d8b\\u52bf\\u56fe\", \"xaxis\": {\"mirror\": \"all\", \"nticks\": 20, \"showgrid\": true, \"showline\": true, \"title\": \"\\u5468\", \"zeroline\": true}, \"yaxis\": {\"mirror\": \"all\", \"nticks\": 20, \"showgrid\": true, \"showline\": true, \"title\": \"\\u4e2a\\u6027\\u5316\\u6570\", \"zeroline\": true}},\n",
       "            {\"showLink\": true, \"linkText\": \"Export to plot.ly\"}\n",
       "        ).then(function () {return Plotly.addFrames('929783a1-a119-4164-8957-5b31ac81f4d3',{});}).then(function(){Plotly.animate('929783a1-a119-4164-8957-5b31ac81f4d3');})\n",
       "        });</script>"
      ],
      "text/vnd.plotly.v1+html": [
       "<div id=\"929783a1-a119-4164-8957-5b31ac81f4d3\" style=\"height: 525px; width: 100%;\" class=\"plotly-graph-div\"></div><script type=\"text/javascript\">require([\"plotly\"], function(Plotly) { window.PLOTLYENV=window.PLOTLYENV || {};window.PLOTLYENV.BASE_URL=\"https://plot.ly\";\n",
       "        Plotly.plot(\n",
       "            '929783a1-a119-4164-8957-5b31ac81f4d3',\n",
       "            [{\"name\": \"\\u4e2a\\u6027\\u5316\\u6570\", \"x\": [\"8-1\", \"8-2\", \"8-3\", \"8-4\", \"8-5\", \"9-1\", \"9-2\"], \"y\": [0.0, 0.0, 0.0, 0.0, 0.0, 0.0, 0.0], \"type\": \"bar\", \"uid\": \"d0613d62-bbe2-11e8-adcf-a81e84e6c740\"}],\n",
       "            {\"title\": \"\\u4e2a\\u6027\\u5316\\u6570\\u5468\\u8d8b\\u52bf\\u56fe\", \"xaxis\": {\"mirror\": \"all\", \"nticks\": 20, \"showgrid\": true, \"showline\": true, \"title\": \"\\u5468\", \"zeroline\": true}, \"yaxis\": {\"mirror\": \"all\", \"nticks\": 20, \"showgrid\": true, \"showline\": true, \"title\": \"\\u4e2a\\u6027\\u5316\\u6570\", \"zeroline\": true}},\n",
       "            {\"showLink\": true, \"linkText\": \"Export to plot.ly\"}\n",
       "        ).then(function () {return Plotly.addFrames('929783a1-a119-4164-8957-5b31ac81f4d3',{});}).then(function(){Plotly.animate('929783a1-a119-4164-8957-5b31ac81f4d3');})\n",
       "        });</script>"
      ]
     },
     "metadata": {},
     "output_type": "display_data"
    },
    {
     "data": {
      "application/vnd.plotly.v1+json": {
       "data": [
        {
         "name": "个性化数",
         "type": "bar",
         "uid": "d076ab0c-bbe2-11e8-adcf-a81e84e6c740",
         "x": [
          "8",
          "9"
         ],
         "y": [
          0,
          0
         ]
        }
       ],
       "layout": {
        "title": "个性化数月趋势图",
        "xaxis": {
         "mirror": "all",
         "nticks": 20,
         "showgrid": true,
         "showline": true,
         "title": "月",
         "zeroline": true
        },
        "yaxis": {
         "mirror": "all",
         "nticks": 20,
         "showgrid": true,
         "showline": true,
         "title": "个性化数",
         "zeroline": true
        }
       }
      },
      "text/html": [
       "<div id=\"a552737d-30a5-4f6d-bf29-5174cad6cf02\" style=\"height: 525px; width: 100%;\" class=\"plotly-graph-div\"></div><script type=\"text/javascript\">require([\"plotly\"], function(Plotly) { window.PLOTLYENV=window.PLOTLYENV || {};window.PLOTLYENV.BASE_URL=\"https://plot.ly\";\n",
       "        Plotly.plot(\n",
       "            'a552737d-30a5-4f6d-bf29-5174cad6cf02',\n",
       "            [{\"name\": \"\\u4e2a\\u6027\\u5316\\u6570\", \"x\": [\"8\", \"9\"], \"y\": [0.0, 0.0], \"type\": \"bar\", \"uid\": \"d076ab0c-bbe2-11e8-adcf-a81e84e6c740\"}],\n",
       "            {\"title\": \"\\u4e2a\\u6027\\u5316\\u6570\\u6708\\u8d8b\\u52bf\\u56fe\", \"xaxis\": {\"mirror\": \"all\", \"nticks\": 20, \"showgrid\": true, \"showline\": true, \"title\": \"\\u6708\", \"zeroline\": true}, \"yaxis\": {\"mirror\": \"all\", \"nticks\": 20, \"showgrid\": true, \"showline\": true, \"title\": \"\\u4e2a\\u6027\\u5316\\u6570\", \"zeroline\": true}},\n",
       "            {\"showLink\": true, \"linkText\": \"Export to plot.ly\"}\n",
       "        ).then(function () {return Plotly.addFrames('a552737d-30a5-4f6d-bf29-5174cad6cf02',{});}).then(function(){Plotly.animate('a552737d-30a5-4f6d-bf29-5174cad6cf02');})\n",
       "        });</script>"
      ],
      "text/vnd.plotly.v1+html": [
       "<div id=\"a552737d-30a5-4f6d-bf29-5174cad6cf02\" style=\"height: 525px; width: 100%;\" class=\"plotly-graph-div\"></div><script type=\"text/javascript\">require([\"plotly\"], function(Plotly) { window.PLOTLYENV=window.PLOTLYENV || {};window.PLOTLYENV.BASE_URL=\"https://plot.ly\";\n",
       "        Plotly.plot(\n",
       "            'a552737d-30a5-4f6d-bf29-5174cad6cf02',\n",
       "            [{\"name\": \"\\u4e2a\\u6027\\u5316\\u6570\", \"x\": [\"8\", \"9\"], \"y\": [0.0, 0.0], \"type\": \"bar\", \"uid\": \"d076ab0c-bbe2-11e8-adcf-a81e84e6c740\"}],\n",
       "            {\"title\": \"\\u4e2a\\u6027\\u5316\\u6570\\u6708\\u8d8b\\u52bf\\u56fe\", \"xaxis\": {\"mirror\": \"all\", \"nticks\": 20, \"showgrid\": true, \"showline\": true, \"title\": \"\\u6708\", \"zeroline\": true}, \"yaxis\": {\"mirror\": \"all\", \"nticks\": 20, \"showgrid\": true, \"showline\": true, \"title\": \"\\u4e2a\\u6027\\u5316\\u6570\", \"zeroline\": true}},\n",
       "            {\"showLink\": true, \"linkText\": \"Export to plot.ly\"}\n",
       "        ).then(function () {return Plotly.addFrames('a552737d-30a5-4f6d-bf29-5174cad6cf02',{});}).then(function(){Plotly.animate('a552737d-30a5-4f6d-bf29-5174cad6cf02');})\n",
       "        });</script>"
      ]
     },
     "metadata": {},
     "output_type": "display_data"
    }
   ],
   "source": [
    "data_dict = {'个性化数':['个性化数']}\n",
    "myModule.plot( all_dict, data_dict, '人员' ,  'bar' , all='all')"
   ]
  },
  {
   "cell_type": "markdown",
   "metadata": {},
   "source": [
    "#### lims异常数和下单错误数"
   ]
  },
  {
   "cell_type": "code",
   "execution_count": 36,
   "metadata": {},
   "outputs": [
    {
     "data": {
      "application/vnd.plotly.v1+json": {
       "data": [
        {
         "name": "lims异常数",
         "type": "scatter",
         "uid": "d0d15af2-bbe2-11e8-adcf-a81e84e6c740",
         "x": [
          "8-1",
          "8-2",
          "8-3",
          "8-4",
          "8-5",
          "9-1",
          "9-2"
         ],
         "y": [
          2,
          2,
          2,
          1,
          2,
          1,
          0
         ]
        },
        {
         "name": "下单错误数",
         "type": "scatter",
         "uid": "d0d16042-bbe2-11e8-adcf-a81e84e6c740",
         "x": [
          "8-1",
          "8-2",
          "8-3",
          "8-4",
          "8-5",
          "9-1",
          "9-2"
         ],
         "y": [
          1,
          0,
          6,
          1,
          1,
          1,
          1
         ]
        }
       ],
       "layout": {
        "title": "lims异常数&下单错误数周趋势图",
        "xaxis": {
         "mirror": "all",
         "nticks": 20,
         "showgrid": true,
         "showline": true,
         "title": "周",
         "zeroline": true
        },
        "yaxis": {
         "mirror": "all",
         "nticks": 20,
         "showgrid": true,
         "showline": true,
         "title": "lims异常数&下单错误数",
         "zeroline": true
        }
       }
      },
      "text/html": [
       "<div id=\"ac4fadcb-c25b-4ff8-b72f-5dbf610bfd98\" style=\"height: 525px; width: 100%;\" class=\"plotly-graph-div\"></div><script type=\"text/javascript\">require([\"plotly\"], function(Plotly) { window.PLOTLYENV=window.PLOTLYENV || {};window.PLOTLYENV.BASE_URL=\"https://plot.ly\";\n",
       "        Plotly.plot(\n",
       "            'ac4fadcb-c25b-4ff8-b72f-5dbf610bfd98',\n",
       "            [{\"name\": \"lims\\u5f02\\u5e38\\u6570\", \"x\": [\"8-1\", \"8-2\", \"8-3\", \"8-4\", \"8-5\", \"9-1\", \"9-2\"], \"y\": [2.0, 2.0, 2.0, 1.0, 2.0, 1.0, 0.0], \"type\": \"scatter\", \"uid\": \"d0d15af2-bbe2-11e8-adcf-a81e84e6c740\"}, {\"name\": \"\\u4e0b\\u5355\\u9519\\u8bef\\u6570\", \"x\": [\"8-1\", \"8-2\", \"8-3\", \"8-4\", \"8-5\", \"9-1\", \"9-2\"], \"y\": [1.0, 0.0, 6.0, 1.0, 1.0, 1.0, 1.0], \"type\": \"scatter\", \"uid\": \"d0d16042-bbe2-11e8-adcf-a81e84e6c740\"}],\n",
       "            {\"title\": \"lims\\u5f02\\u5e38\\u6570&\\u4e0b\\u5355\\u9519\\u8bef\\u6570\\u5468\\u8d8b\\u52bf\\u56fe\", \"xaxis\": {\"mirror\": \"all\", \"nticks\": 20, \"showgrid\": true, \"showline\": true, \"title\": \"\\u5468\", \"zeroline\": true}, \"yaxis\": {\"mirror\": \"all\", \"nticks\": 20, \"showgrid\": true, \"showline\": true, \"title\": \"lims\\u5f02\\u5e38\\u6570&\\u4e0b\\u5355\\u9519\\u8bef\\u6570\", \"zeroline\": true}},\n",
       "            {\"showLink\": true, \"linkText\": \"Export to plot.ly\"}\n",
       "        ).then(function () {return Plotly.addFrames('ac4fadcb-c25b-4ff8-b72f-5dbf610bfd98',{});}).then(function(){Plotly.animate('ac4fadcb-c25b-4ff8-b72f-5dbf610bfd98');})\n",
       "        });</script>"
      ],
      "text/vnd.plotly.v1+html": [
       "<div id=\"ac4fadcb-c25b-4ff8-b72f-5dbf610bfd98\" style=\"height: 525px; width: 100%;\" class=\"plotly-graph-div\"></div><script type=\"text/javascript\">require([\"plotly\"], function(Plotly) { window.PLOTLYENV=window.PLOTLYENV || {};window.PLOTLYENV.BASE_URL=\"https://plot.ly\";\n",
       "        Plotly.plot(\n",
       "            'ac4fadcb-c25b-4ff8-b72f-5dbf610bfd98',\n",
       "            [{\"name\": \"lims\\u5f02\\u5e38\\u6570\", \"x\": [\"8-1\", \"8-2\", \"8-3\", \"8-4\", \"8-5\", \"9-1\", \"9-2\"], \"y\": [2.0, 2.0, 2.0, 1.0, 2.0, 1.0, 0.0], \"type\": \"scatter\", \"uid\": \"d0d15af2-bbe2-11e8-adcf-a81e84e6c740\"}, {\"name\": \"\\u4e0b\\u5355\\u9519\\u8bef\\u6570\", \"x\": [\"8-1\", \"8-2\", \"8-3\", \"8-4\", \"8-5\", \"9-1\", \"9-2\"], \"y\": [1.0, 0.0, 6.0, 1.0, 1.0, 1.0, 1.0], \"type\": \"scatter\", \"uid\": \"d0d16042-bbe2-11e8-adcf-a81e84e6c740\"}],\n",
       "            {\"title\": \"lims\\u5f02\\u5e38\\u6570&\\u4e0b\\u5355\\u9519\\u8bef\\u6570\\u5468\\u8d8b\\u52bf\\u56fe\", \"xaxis\": {\"mirror\": \"all\", \"nticks\": 20, \"showgrid\": true, \"showline\": true, \"title\": \"\\u5468\", \"zeroline\": true}, \"yaxis\": {\"mirror\": \"all\", \"nticks\": 20, \"showgrid\": true, \"showline\": true, \"title\": \"lims\\u5f02\\u5e38\\u6570&\\u4e0b\\u5355\\u9519\\u8bef\\u6570\", \"zeroline\": true}},\n",
       "            {\"showLink\": true, \"linkText\": \"Export to plot.ly\"}\n",
       "        ).then(function () {return Plotly.addFrames('ac4fadcb-c25b-4ff8-b72f-5dbf610bfd98',{});}).then(function(){Plotly.animate('ac4fadcb-c25b-4ff8-b72f-5dbf610bfd98');})\n",
       "        });</script>"
      ]
     },
     "metadata": {},
     "output_type": "display_data"
    },
    {
     "data": {
      "application/vnd.plotly.v1+json": {
       "data": [
        {
         "name": "lims异常数",
         "type": "scatter",
         "uid": "d0ec22b0-bbe2-11e8-adcf-a81e84e6c740",
         "x": [
          "8",
          "9"
         ],
         "y": [
          9,
          1
         ]
        },
        {
         "name": "下单错误数",
         "type": "scatter",
         "uid": "d0ec29a4-bbe2-11e8-adcf-a81e84e6c740",
         "x": [
          "8",
          "9"
         ],
         "y": [
          9,
          2
         ]
        }
       ],
       "layout": {
        "title": "lims异常数&下单错误数月趋势图",
        "xaxis": {
         "mirror": "all",
         "nticks": 20,
         "showgrid": true,
         "showline": true,
         "title": "月",
         "zeroline": true
        },
        "yaxis": {
         "mirror": "all",
         "nticks": 20,
         "showgrid": true,
         "showline": true,
         "title": "lims异常数&下单错误数",
         "zeroline": true
        }
       }
      },
      "text/html": [
       "<div id=\"217a314e-7d06-4cda-b624-f10cff1569de\" style=\"height: 525px; width: 100%;\" class=\"plotly-graph-div\"></div><script type=\"text/javascript\">require([\"plotly\"], function(Plotly) { window.PLOTLYENV=window.PLOTLYENV || {};window.PLOTLYENV.BASE_URL=\"https://plot.ly\";\n",
       "        Plotly.plot(\n",
       "            '217a314e-7d06-4cda-b624-f10cff1569de',\n",
       "            [{\"name\": \"lims\\u5f02\\u5e38\\u6570\", \"x\": [\"8\", \"9\"], \"y\": [9.0, 1.0], \"type\": \"scatter\", \"uid\": \"d0ec22b0-bbe2-11e8-adcf-a81e84e6c740\"}, {\"name\": \"\\u4e0b\\u5355\\u9519\\u8bef\\u6570\", \"x\": [\"8\", \"9\"], \"y\": [9.0, 2.0], \"type\": \"scatter\", \"uid\": \"d0ec29a4-bbe2-11e8-adcf-a81e84e6c740\"}],\n",
       "            {\"title\": \"lims\\u5f02\\u5e38\\u6570&\\u4e0b\\u5355\\u9519\\u8bef\\u6570\\u6708\\u8d8b\\u52bf\\u56fe\", \"xaxis\": {\"mirror\": \"all\", \"nticks\": 20, \"showgrid\": true, \"showline\": true, \"title\": \"\\u6708\", \"zeroline\": true}, \"yaxis\": {\"mirror\": \"all\", \"nticks\": 20, \"showgrid\": true, \"showline\": true, \"title\": \"lims\\u5f02\\u5e38\\u6570&\\u4e0b\\u5355\\u9519\\u8bef\\u6570\", \"zeroline\": true}},\n",
       "            {\"showLink\": true, \"linkText\": \"Export to plot.ly\"}\n",
       "        ).then(function () {return Plotly.addFrames('217a314e-7d06-4cda-b624-f10cff1569de',{});}).then(function(){Plotly.animate('217a314e-7d06-4cda-b624-f10cff1569de');})\n",
       "        });</script>"
      ],
      "text/vnd.plotly.v1+html": [
       "<div id=\"217a314e-7d06-4cda-b624-f10cff1569de\" style=\"height: 525px; width: 100%;\" class=\"plotly-graph-div\"></div><script type=\"text/javascript\">require([\"plotly\"], function(Plotly) { window.PLOTLYENV=window.PLOTLYENV || {};window.PLOTLYENV.BASE_URL=\"https://plot.ly\";\n",
       "        Plotly.plot(\n",
       "            '217a314e-7d06-4cda-b624-f10cff1569de',\n",
       "            [{\"name\": \"lims\\u5f02\\u5e38\\u6570\", \"x\": [\"8\", \"9\"], \"y\": [9.0, 1.0], \"type\": \"scatter\", \"uid\": \"d0ec22b0-bbe2-11e8-adcf-a81e84e6c740\"}, {\"name\": \"\\u4e0b\\u5355\\u9519\\u8bef\\u6570\", \"x\": [\"8\", \"9\"], \"y\": [9.0, 2.0], \"type\": \"scatter\", \"uid\": \"d0ec29a4-bbe2-11e8-adcf-a81e84e6c740\"}],\n",
       "            {\"title\": \"lims\\u5f02\\u5e38\\u6570&\\u4e0b\\u5355\\u9519\\u8bef\\u6570\\u6708\\u8d8b\\u52bf\\u56fe\", \"xaxis\": {\"mirror\": \"all\", \"nticks\": 20, \"showgrid\": true, \"showline\": true, \"title\": \"\\u6708\", \"zeroline\": true}, \"yaxis\": {\"mirror\": \"all\", \"nticks\": 20, \"showgrid\": true, \"showline\": true, \"title\": \"lims\\u5f02\\u5e38\\u6570&\\u4e0b\\u5355\\u9519\\u8bef\\u6570\", \"zeroline\": true}},\n",
       "            {\"showLink\": true, \"linkText\": \"Export to plot.ly\"}\n",
       "        ).then(function () {return Plotly.addFrames('217a314e-7d06-4cda-b624-f10cff1569de',{});}).then(function(){Plotly.animate('217a314e-7d06-4cda-b624-f10cff1569de');})\n",
       "        });</script>"
      ]
     },
     "metadata": {},
     "output_type": "display_data"
    }
   ],
   "source": [
    "data_dict = {'lims异常数':['lims异常数'], '下单错误数':['下单错误数']}\n",
    "myModule.plot( all_dict, data_dict, '人员' ,  'line' , all='all')"
   ]
  },
  {
   "cell_type": "markdown",
   "metadata": {},
   "source": [
    "#### 过滤流程异常数"
   ]
  },
  {
   "cell_type": "code",
   "execution_count": 37,
   "metadata": {},
   "outputs": [
    {
     "data": {
      "application/vnd.plotly.v1+json": {
       "data": [
        {
         "name": "过滤流程异常数",
         "type": "scatter",
         "uid": "d11ca3f4-bbe2-11e8-adcf-a81e84e6c740",
         "x": [
          "8-1",
          "8-2",
          "8-3",
          "8-4",
          "8-5",
          "9-1",
          "9-2"
         ],
         "y": [
          0,
          1,
          0,
          0,
          2,
          1,
          0
         ]
        }
       ],
       "layout": {
        "title": "过滤流程异常数周趋势图",
        "xaxis": {
         "mirror": "all",
         "nticks": 20,
         "showgrid": true,
         "showline": true,
         "title": "周",
         "zeroline": true
        },
        "yaxis": {
         "mirror": "all",
         "nticks": 20,
         "showgrid": true,
         "showline": true,
         "title": "过滤流程异常数",
         "zeroline": true
        }
       }
      },
      "text/html": [
       "<div id=\"ce843352-66a8-4096-a2b6-cb7a686602cd\" style=\"height: 525px; width: 100%;\" class=\"plotly-graph-div\"></div><script type=\"text/javascript\">require([\"plotly\"], function(Plotly) { window.PLOTLYENV=window.PLOTLYENV || {};window.PLOTLYENV.BASE_URL=\"https://plot.ly\";\n",
       "        Plotly.plot(\n",
       "            'ce843352-66a8-4096-a2b6-cb7a686602cd',\n",
       "            [{\"name\": \"\\u8fc7\\u6ee4\\u6d41\\u7a0b\\u5f02\\u5e38\\u6570\", \"x\": [\"8-1\", \"8-2\", \"8-3\", \"8-4\", \"8-5\", \"9-1\", \"9-2\"], \"y\": [0.0, 1.0, 0.0, 0.0, 2.0, 1.0, 0.0], \"type\": \"scatter\", \"uid\": \"d11ca3f4-bbe2-11e8-adcf-a81e84e6c740\"}],\n",
       "            {\"title\": \"\\u8fc7\\u6ee4\\u6d41\\u7a0b\\u5f02\\u5e38\\u6570\\u5468\\u8d8b\\u52bf\\u56fe\", \"xaxis\": {\"mirror\": \"all\", \"nticks\": 20, \"showgrid\": true, \"showline\": true, \"title\": \"\\u5468\", \"zeroline\": true}, \"yaxis\": {\"mirror\": \"all\", \"nticks\": 20, \"showgrid\": true, \"showline\": true, \"title\": \"\\u8fc7\\u6ee4\\u6d41\\u7a0b\\u5f02\\u5e38\\u6570\", \"zeroline\": true}},\n",
       "            {\"showLink\": true, \"linkText\": \"Export to plot.ly\"}\n",
       "        ).then(function () {return Plotly.addFrames('ce843352-66a8-4096-a2b6-cb7a686602cd',{});}).then(function(){Plotly.animate('ce843352-66a8-4096-a2b6-cb7a686602cd');})\n",
       "        });</script>"
      ],
      "text/vnd.plotly.v1+html": [
       "<div id=\"ce843352-66a8-4096-a2b6-cb7a686602cd\" style=\"height: 525px; width: 100%;\" class=\"plotly-graph-div\"></div><script type=\"text/javascript\">require([\"plotly\"], function(Plotly) { window.PLOTLYENV=window.PLOTLYENV || {};window.PLOTLYENV.BASE_URL=\"https://plot.ly\";\n",
       "        Plotly.plot(\n",
       "            'ce843352-66a8-4096-a2b6-cb7a686602cd',\n",
       "            [{\"name\": \"\\u8fc7\\u6ee4\\u6d41\\u7a0b\\u5f02\\u5e38\\u6570\", \"x\": [\"8-1\", \"8-2\", \"8-3\", \"8-4\", \"8-5\", \"9-1\", \"9-2\"], \"y\": [0.0, 1.0, 0.0, 0.0, 2.0, 1.0, 0.0], \"type\": \"scatter\", \"uid\": \"d11ca3f4-bbe2-11e8-adcf-a81e84e6c740\"}],\n",
       "            {\"title\": \"\\u8fc7\\u6ee4\\u6d41\\u7a0b\\u5f02\\u5e38\\u6570\\u5468\\u8d8b\\u52bf\\u56fe\", \"xaxis\": {\"mirror\": \"all\", \"nticks\": 20, \"showgrid\": true, \"showline\": true, \"title\": \"\\u5468\", \"zeroline\": true}, \"yaxis\": {\"mirror\": \"all\", \"nticks\": 20, \"showgrid\": true, \"showline\": true, \"title\": \"\\u8fc7\\u6ee4\\u6d41\\u7a0b\\u5f02\\u5e38\\u6570\", \"zeroline\": true}},\n",
       "            {\"showLink\": true, \"linkText\": \"Export to plot.ly\"}\n",
       "        ).then(function () {return Plotly.addFrames('ce843352-66a8-4096-a2b6-cb7a686602cd',{});}).then(function(){Plotly.animate('ce843352-66a8-4096-a2b6-cb7a686602cd');})\n",
       "        });</script>"
      ]
     },
     "metadata": {},
     "output_type": "display_data"
    },
    {
     "data": {
      "application/vnd.plotly.v1+json": {
       "data": [
        {
         "name": "过滤流程异常数",
         "type": "scatter",
         "uid": "d1293e0c-bbe2-11e8-adcf-a81e84e6c740",
         "x": [
          "8",
          "9"
         ],
         "y": [
          3,
          1
         ]
        }
       ],
       "layout": {
        "title": "过滤流程异常数月趋势图",
        "xaxis": {
         "mirror": "all",
         "nticks": 20,
         "showgrid": true,
         "showline": true,
         "title": "月",
         "zeroline": true
        },
        "yaxis": {
         "mirror": "all",
         "nticks": 20,
         "showgrid": true,
         "showline": true,
         "title": "过滤流程异常数",
         "zeroline": true
        }
       }
      },
      "text/html": [
       "<div id=\"92c8c101-c1ca-4bbd-9fea-36bbe1b37fce\" style=\"height: 525px; width: 100%;\" class=\"plotly-graph-div\"></div><script type=\"text/javascript\">require([\"plotly\"], function(Plotly) { window.PLOTLYENV=window.PLOTLYENV || {};window.PLOTLYENV.BASE_URL=\"https://plot.ly\";\n",
       "        Plotly.plot(\n",
       "            '92c8c101-c1ca-4bbd-9fea-36bbe1b37fce',\n",
       "            [{\"name\": \"\\u8fc7\\u6ee4\\u6d41\\u7a0b\\u5f02\\u5e38\\u6570\", \"x\": [\"8\", \"9\"], \"y\": [3.0, 1.0], \"type\": \"scatter\", \"uid\": \"d1293e0c-bbe2-11e8-adcf-a81e84e6c740\"}],\n",
       "            {\"title\": \"\\u8fc7\\u6ee4\\u6d41\\u7a0b\\u5f02\\u5e38\\u6570\\u6708\\u8d8b\\u52bf\\u56fe\", \"xaxis\": {\"mirror\": \"all\", \"nticks\": 20, \"showgrid\": true, \"showline\": true, \"title\": \"\\u6708\", \"zeroline\": true}, \"yaxis\": {\"mirror\": \"all\", \"nticks\": 20, \"showgrid\": true, \"showline\": true, \"title\": \"\\u8fc7\\u6ee4\\u6d41\\u7a0b\\u5f02\\u5e38\\u6570\", \"zeroline\": true}},\n",
       "            {\"showLink\": true, \"linkText\": \"Export to plot.ly\"}\n",
       "        ).then(function () {return Plotly.addFrames('92c8c101-c1ca-4bbd-9fea-36bbe1b37fce',{});}).then(function(){Plotly.animate('92c8c101-c1ca-4bbd-9fea-36bbe1b37fce');})\n",
       "        });</script>"
      ],
      "text/vnd.plotly.v1+html": [
       "<div id=\"92c8c101-c1ca-4bbd-9fea-36bbe1b37fce\" style=\"height: 525px; width: 100%;\" class=\"plotly-graph-div\"></div><script type=\"text/javascript\">require([\"plotly\"], function(Plotly) { window.PLOTLYENV=window.PLOTLYENV || {};window.PLOTLYENV.BASE_URL=\"https://plot.ly\";\n",
       "        Plotly.plot(\n",
       "            '92c8c101-c1ca-4bbd-9fea-36bbe1b37fce',\n",
       "            [{\"name\": \"\\u8fc7\\u6ee4\\u6d41\\u7a0b\\u5f02\\u5e38\\u6570\", \"x\": [\"8\", \"9\"], \"y\": [3.0, 1.0], \"type\": \"scatter\", \"uid\": \"d1293e0c-bbe2-11e8-adcf-a81e84e6c740\"}],\n",
       "            {\"title\": \"\\u8fc7\\u6ee4\\u6d41\\u7a0b\\u5f02\\u5e38\\u6570\\u6708\\u8d8b\\u52bf\\u56fe\", \"xaxis\": {\"mirror\": \"all\", \"nticks\": 20, \"showgrid\": true, \"showline\": true, \"title\": \"\\u6708\", \"zeroline\": true}, \"yaxis\": {\"mirror\": \"all\", \"nticks\": 20, \"showgrid\": true, \"showline\": true, \"title\": \"\\u8fc7\\u6ee4\\u6d41\\u7a0b\\u5f02\\u5e38\\u6570\", \"zeroline\": true}},\n",
       "            {\"showLink\": true, \"linkText\": \"Export to plot.ly\"}\n",
       "        ).then(function () {return Plotly.addFrames('92c8c101-c1ca-4bbd-9fea-36bbe1b37fce',{});}).then(function(){Plotly.animate('92c8c101-c1ca-4bbd-9fea-36bbe1b37fce');})\n",
       "        });</script>"
      ]
     },
     "metadata": {},
     "output_type": "display_data"
    }
   ],
   "source": [
    "data_dict = {'过滤流程异常数':['过滤流程异常数']}\n",
    "myModule.plot( all_dict, data_dict, '人员' ,  'line' , all='all')"
   ]
  },
  {
   "cell_type": "markdown",
   "metadata": {},
   "source": [
    "## 芯片拆分整体情况"
   ]
  },
  {
   "cell_type": "code",
   "execution_count": 38,
   "metadata": {},
   "outputs": [],
   "source": [
    "all_files , title = myModule.get_title(pathway, 1 )##给路径\n",
    "all_dict = myModule.read_xlsx(all_files, 1 ) ## read all files"
   ]
  },
  {
   "cell_type": "markdown",
   "metadata": {},
   "source": [
    "### 产能"
   ]
  },
  {
   "cell_type": "markdown",
   "metadata": {},
   "source": [
    "#### 芯片总数和不通过芯片数"
   ]
  },
  {
   "cell_type": "code",
   "execution_count": 39,
   "metadata": {},
   "outputs": [
    {
     "data": {
      "application/vnd.plotly.v1+json": {
       "data": [
        {
         "name": "芯片总数",
         "type": "scatter",
         "uid": "d160702a-bbe2-11e8-adcf-a81e84e6c740",
         "x": [
          "8-1",
          "8-2",
          "8-3",
          "8-4",
          "8-5",
          "9-1",
          "9-2"
         ],
         "y": [
          27,
          37,
          29,
          33,
          22,
          29,
          26
         ]
        },
        {
         "name": "不通过芯片数",
         "type": "scatter",
         "uid": "d160734a-bbe2-11e8-adcf-a81e84e6c740",
         "x": [
          "8-1",
          "8-2",
          "8-3",
          "8-4",
          "8-5",
          "9-1",
          "9-2"
         ],
         "y": [
          13,
          22,
          20,
          14,
          14,
          15,
          8
         ]
        }
       ],
       "layout": {
        "title": "芯片总数&不通过芯片数周趋势图",
        "xaxis": {
         "mirror": "all",
         "nticks": 20,
         "showgrid": true,
         "showline": true,
         "title": "周",
         "zeroline": true
        },
        "yaxis": {
         "mirror": "all",
         "nticks": 20,
         "showgrid": true,
         "showline": true,
         "title": "芯片总数&不通过芯片数",
         "zeroline": true
        }
       }
      },
      "text/html": [
       "<div id=\"97d79965-633a-4d03-80aa-b826b43b746c\" style=\"height: 525px; width: 100%;\" class=\"plotly-graph-div\"></div><script type=\"text/javascript\">require([\"plotly\"], function(Plotly) { window.PLOTLYENV=window.PLOTLYENV || {};window.PLOTLYENV.BASE_URL=\"https://plot.ly\";\n",
       "        Plotly.plot(\n",
       "            '97d79965-633a-4d03-80aa-b826b43b746c',\n",
       "            [{\"name\": \"\\u82af\\u7247\\u603b\\u6570\", \"x\": [\"8-1\", \"8-2\", \"8-3\", \"8-4\", \"8-5\", \"9-1\", \"9-2\"], \"y\": [27.0, 37.0, 29.0, 33.0, 22.0, 29.0, 26.0], \"type\": \"scatter\", \"uid\": \"d160702a-bbe2-11e8-adcf-a81e84e6c740\"}, {\"name\": \"\\u4e0d\\u901a\\u8fc7\\u82af\\u7247\\u6570\", \"x\": [\"8-1\", \"8-2\", \"8-3\", \"8-4\", \"8-5\", \"9-1\", \"9-2\"], \"y\": [13.0, 22.0, 20.0, 14.0, 14.0, 15.0, 8.0], \"type\": \"scatter\", \"uid\": \"d160734a-bbe2-11e8-adcf-a81e84e6c740\"}],\n",
       "            {\"title\": \"\\u82af\\u7247\\u603b\\u6570&\\u4e0d\\u901a\\u8fc7\\u82af\\u7247\\u6570\\u5468\\u8d8b\\u52bf\\u56fe\", \"xaxis\": {\"mirror\": \"all\", \"nticks\": 20, \"showgrid\": true, \"showline\": true, \"title\": \"\\u5468\", \"zeroline\": true}, \"yaxis\": {\"mirror\": \"all\", \"nticks\": 20, \"showgrid\": true, \"showline\": true, \"title\": \"\\u82af\\u7247\\u603b\\u6570&\\u4e0d\\u901a\\u8fc7\\u82af\\u7247\\u6570\", \"zeroline\": true}},\n",
       "            {\"showLink\": true, \"linkText\": \"Export to plot.ly\"}\n",
       "        ).then(function () {return Plotly.addFrames('97d79965-633a-4d03-80aa-b826b43b746c',{});}).then(function(){Plotly.animate('97d79965-633a-4d03-80aa-b826b43b746c');})\n",
       "        });</script>"
      ],
      "text/vnd.plotly.v1+html": [
       "<div id=\"97d79965-633a-4d03-80aa-b826b43b746c\" style=\"height: 525px; width: 100%;\" class=\"plotly-graph-div\"></div><script type=\"text/javascript\">require([\"plotly\"], function(Plotly) { window.PLOTLYENV=window.PLOTLYENV || {};window.PLOTLYENV.BASE_URL=\"https://plot.ly\";\n",
       "        Plotly.plot(\n",
       "            '97d79965-633a-4d03-80aa-b826b43b746c',\n",
       "            [{\"name\": \"\\u82af\\u7247\\u603b\\u6570\", \"x\": [\"8-1\", \"8-2\", \"8-3\", \"8-4\", \"8-5\", \"9-1\", \"9-2\"], \"y\": [27.0, 37.0, 29.0, 33.0, 22.0, 29.0, 26.0], \"type\": \"scatter\", \"uid\": \"d160702a-bbe2-11e8-adcf-a81e84e6c740\"}, {\"name\": \"\\u4e0d\\u901a\\u8fc7\\u82af\\u7247\\u6570\", \"x\": [\"8-1\", \"8-2\", \"8-3\", \"8-4\", \"8-5\", \"9-1\", \"9-2\"], \"y\": [13.0, 22.0, 20.0, 14.0, 14.0, 15.0, 8.0], \"type\": \"scatter\", \"uid\": \"d160734a-bbe2-11e8-adcf-a81e84e6c740\"}],\n",
       "            {\"title\": \"\\u82af\\u7247\\u603b\\u6570&\\u4e0d\\u901a\\u8fc7\\u82af\\u7247\\u6570\\u5468\\u8d8b\\u52bf\\u56fe\", \"xaxis\": {\"mirror\": \"all\", \"nticks\": 20, \"showgrid\": true, \"showline\": true, \"title\": \"\\u5468\", \"zeroline\": true}, \"yaxis\": {\"mirror\": \"all\", \"nticks\": 20, \"showgrid\": true, \"showline\": true, \"title\": \"\\u82af\\u7247\\u603b\\u6570&\\u4e0d\\u901a\\u8fc7\\u82af\\u7247\\u6570\", \"zeroline\": true}},\n",
       "            {\"showLink\": true, \"linkText\": \"Export to plot.ly\"}\n",
       "        ).then(function () {return Plotly.addFrames('97d79965-633a-4d03-80aa-b826b43b746c',{});}).then(function(){Plotly.animate('97d79965-633a-4d03-80aa-b826b43b746c');})\n",
       "        });</script>"
      ]
     },
     "metadata": {},
     "output_type": "display_data"
    },
    {
     "data": {
      "application/vnd.plotly.v1+json": {
       "data": [
        {
         "name": "芯片总数",
         "type": "scatter",
         "uid": "d16d4c6e-bbe2-11e8-adcf-a81e84e6c740",
         "x": [
          "8",
          "9"
         ],
         "y": [
          148,
          55
         ]
        },
        {
         "name": "不通过芯片数",
         "type": "scatter",
         "uid": "d16d54de-bbe2-11e8-adcf-a81e84e6c740",
         "x": [
          "8",
          "9"
         ],
         "y": [
          83,
          23
         ]
        }
       ],
       "layout": {
        "title": "芯片总数&不通过芯片数月趋势图",
        "xaxis": {
         "mirror": "all",
         "nticks": 20,
         "showgrid": true,
         "showline": true,
         "title": "月",
         "zeroline": true
        },
        "yaxis": {
         "mirror": "all",
         "nticks": 20,
         "showgrid": true,
         "showline": true,
         "title": "芯片总数&不通过芯片数",
         "zeroline": true
        }
       }
      },
      "text/html": [
       "<div id=\"7ead71d4-858c-4c4e-bdc5-0f4cb40683e9\" style=\"height: 525px; width: 100%;\" class=\"plotly-graph-div\"></div><script type=\"text/javascript\">require([\"plotly\"], function(Plotly) { window.PLOTLYENV=window.PLOTLYENV || {};window.PLOTLYENV.BASE_URL=\"https://plot.ly\";\n",
       "        Plotly.plot(\n",
       "            '7ead71d4-858c-4c4e-bdc5-0f4cb40683e9',\n",
       "            [{\"name\": \"\\u82af\\u7247\\u603b\\u6570\", \"x\": [\"8\", \"9\"], \"y\": [148.0, 55.0], \"type\": \"scatter\", \"uid\": \"d16d4c6e-bbe2-11e8-adcf-a81e84e6c740\"}, {\"name\": \"\\u4e0d\\u901a\\u8fc7\\u82af\\u7247\\u6570\", \"x\": [\"8\", \"9\"], \"y\": [83.0, 23.0], \"type\": \"scatter\", \"uid\": \"d16d54de-bbe2-11e8-adcf-a81e84e6c740\"}],\n",
       "            {\"title\": \"\\u82af\\u7247\\u603b\\u6570&\\u4e0d\\u901a\\u8fc7\\u82af\\u7247\\u6570\\u6708\\u8d8b\\u52bf\\u56fe\", \"xaxis\": {\"mirror\": \"all\", \"nticks\": 20, \"showgrid\": true, \"showline\": true, \"title\": \"\\u6708\", \"zeroline\": true}, \"yaxis\": {\"mirror\": \"all\", \"nticks\": 20, \"showgrid\": true, \"showline\": true, \"title\": \"\\u82af\\u7247\\u603b\\u6570&\\u4e0d\\u901a\\u8fc7\\u82af\\u7247\\u6570\", \"zeroline\": true}},\n",
       "            {\"showLink\": true, \"linkText\": \"Export to plot.ly\"}\n",
       "        ).then(function () {return Plotly.addFrames('7ead71d4-858c-4c4e-bdc5-0f4cb40683e9',{});}).then(function(){Plotly.animate('7ead71d4-858c-4c4e-bdc5-0f4cb40683e9');})\n",
       "        });</script>"
      ],
      "text/vnd.plotly.v1+html": [
       "<div id=\"7ead71d4-858c-4c4e-bdc5-0f4cb40683e9\" style=\"height: 525px; width: 100%;\" class=\"plotly-graph-div\"></div><script type=\"text/javascript\">require([\"plotly\"], function(Plotly) { window.PLOTLYENV=window.PLOTLYENV || {};window.PLOTLYENV.BASE_URL=\"https://plot.ly\";\n",
       "        Plotly.plot(\n",
       "            '7ead71d4-858c-4c4e-bdc5-0f4cb40683e9',\n",
       "            [{\"name\": \"\\u82af\\u7247\\u603b\\u6570\", \"x\": [\"8\", \"9\"], \"y\": [148.0, 55.0], \"type\": \"scatter\", \"uid\": \"d16d4c6e-bbe2-11e8-adcf-a81e84e6c740\"}, {\"name\": \"\\u4e0d\\u901a\\u8fc7\\u82af\\u7247\\u6570\", \"x\": [\"8\", \"9\"], \"y\": [83.0, 23.0], \"type\": \"scatter\", \"uid\": \"d16d54de-bbe2-11e8-adcf-a81e84e6c740\"}],\n",
       "            {\"title\": \"\\u82af\\u7247\\u603b\\u6570&\\u4e0d\\u901a\\u8fc7\\u82af\\u7247\\u6570\\u6708\\u8d8b\\u52bf\\u56fe\", \"xaxis\": {\"mirror\": \"all\", \"nticks\": 20, \"showgrid\": true, \"showline\": true, \"title\": \"\\u6708\", \"zeroline\": true}, \"yaxis\": {\"mirror\": \"all\", \"nticks\": 20, \"showgrid\": true, \"showline\": true, \"title\": \"\\u82af\\u7247\\u603b\\u6570&\\u4e0d\\u901a\\u8fc7\\u82af\\u7247\\u6570\", \"zeroline\": true}},\n",
       "            {\"showLink\": true, \"linkText\": \"Export to plot.ly\"}\n",
       "        ).then(function () {return Plotly.addFrames('7ead71d4-858c-4c4e-bdc5-0f4cb40683e9',{});}).then(function(){Plotly.animate('7ead71d4-858c-4c4e-bdc5-0f4cb40683e9');})\n",
       "        });</script>"
      ]
     },
     "metadata": {},
     "output_type": "display_data"
    }
   ],
   "source": [
    "data_dict = {'芯片总数':['芯片总数'], '不通过芯片数':['不通过芯片数']}\n",
    "myModule.plot( all_dict, data_dict, '人员', 'line', all='all')"
   ]
  },
  {
   "cell_type": "markdown",
   "metadata": {},
   "source": [
    "### 效率"
   ]
  },
  {
   "cell_type": "markdown",
   "metadata": {},
   "source": [
    "#### 不合格率"
   ]
  },
  {
   "cell_type": "code",
   "execution_count": 40,
   "metadata": {},
   "outputs": [
    {
     "data": {
      "application/vnd.plotly.v1+json": {
       "data": [
        {
         "name": "不合格率",
         "type": "scatter",
         "uid": "d18c8264-bbe2-11e8-adcf-a81e84e6c740",
         "x": [
          "8-1",
          "8-2",
          "8-3",
          "8-4",
          "8-5",
          "9-1",
          "9-2"
         ],
         "y": [
          0.48148148148148145,
          0.5945945945945946,
          0.6896551724137931,
          0.42424242424242425,
          0.6363636363636364,
          0.5172413793103449,
          0.3076923076923077
         ]
        }
       ],
       "layout": {
        "title": "不合格率周趋势图",
        "xaxis": {
         "mirror": "all",
         "nticks": 20,
         "showgrid": true,
         "showline": true,
         "title": "周",
         "zeroline": true
        },
        "yaxis": {
         "mirror": "all",
         "nticks": 20,
         "showgrid": true,
         "showline": true,
         "title": "不合格率",
         "zeroline": true
        }
       }
      },
      "text/html": [
       "<div id=\"94d15e2b-0eb2-44bc-b402-a3deb80d00b1\" style=\"height: 525px; width: 100%;\" class=\"plotly-graph-div\"></div><script type=\"text/javascript\">require([\"plotly\"], function(Plotly) { window.PLOTLYENV=window.PLOTLYENV || {};window.PLOTLYENV.BASE_URL=\"https://plot.ly\";\n",
       "        Plotly.plot(\n",
       "            '94d15e2b-0eb2-44bc-b402-a3deb80d00b1',\n",
       "            [{\"name\": \"\\u4e0d\\u5408\\u683c\\u7387\", \"x\": [\"8-1\", \"8-2\", \"8-3\", \"8-4\", \"8-5\", \"9-1\", \"9-2\"], \"y\": [0.48148148148148145, 0.5945945945945946, 0.6896551724137931, 0.42424242424242425, 0.6363636363636364, 0.5172413793103449, 0.3076923076923077], \"type\": \"scatter\", \"uid\": \"d18c8264-bbe2-11e8-adcf-a81e84e6c740\"}],\n",
       "            {\"title\": \"\\u4e0d\\u5408\\u683c\\u7387\\u5468\\u8d8b\\u52bf\\u56fe\", \"xaxis\": {\"mirror\": \"all\", \"nticks\": 20, \"showgrid\": true, \"showline\": true, \"title\": \"\\u5468\", \"zeroline\": true}, \"yaxis\": {\"mirror\": \"all\", \"nticks\": 20, \"showgrid\": true, \"showline\": true, \"title\": \"\\u4e0d\\u5408\\u683c\\u7387\", \"zeroline\": true}},\n",
       "            {\"showLink\": true, \"linkText\": \"Export to plot.ly\"}\n",
       "        ).then(function () {return Plotly.addFrames('94d15e2b-0eb2-44bc-b402-a3deb80d00b1',{});}).then(function(){Plotly.animate('94d15e2b-0eb2-44bc-b402-a3deb80d00b1');})\n",
       "        });</script>"
      ],
      "text/vnd.plotly.v1+html": [
       "<div id=\"94d15e2b-0eb2-44bc-b402-a3deb80d00b1\" style=\"height: 525px; width: 100%;\" class=\"plotly-graph-div\"></div><script type=\"text/javascript\">require([\"plotly\"], function(Plotly) { window.PLOTLYENV=window.PLOTLYENV || {};window.PLOTLYENV.BASE_URL=\"https://plot.ly\";\n",
       "        Plotly.plot(\n",
       "            '94d15e2b-0eb2-44bc-b402-a3deb80d00b1',\n",
       "            [{\"name\": \"\\u4e0d\\u5408\\u683c\\u7387\", \"x\": [\"8-1\", \"8-2\", \"8-3\", \"8-4\", \"8-5\", \"9-1\", \"9-2\"], \"y\": [0.48148148148148145, 0.5945945945945946, 0.6896551724137931, 0.42424242424242425, 0.6363636363636364, 0.5172413793103449, 0.3076923076923077], \"type\": \"scatter\", \"uid\": \"d18c8264-bbe2-11e8-adcf-a81e84e6c740\"}],\n",
       "            {\"title\": \"\\u4e0d\\u5408\\u683c\\u7387\\u5468\\u8d8b\\u52bf\\u56fe\", \"xaxis\": {\"mirror\": \"all\", \"nticks\": 20, \"showgrid\": true, \"showline\": true, \"title\": \"\\u5468\", \"zeroline\": true}, \"yaxis\": {\"mirror\": \"all\", \"nticks\": 20, \"showgrid\": true, \"showline\": true, \"title\": \"\\u4e0d\\u5408\\u683c\\u7387\", \"zeroline\": true}},\n",
       "            {\"showLink\": true, \"linkText\": \"Export to plot.ly\"}\n",
       "        ).then(function () {return Plotly.addFrames('94d15e2b-0eb2-44bc-b402-a3deb80d00b1',{});}).then(function(){Plotly.animate('94d15e2b-0eb2-44bc-b402-a3deb80d00b1');})\n",
       "        });</script>"
      ]
     },
     "metadata": {},
     "output_type": "display_data"
    },
    {
     "data": {
      "application/vnd.plotly.v1+json": {
       "data": [
        {
         "name": "不合格率",
         "type": "scatter",
         "uid": "d1981fd4-bbe2-11e8-adcf-a81e84e6c740",
         "x": [
          "8",
          "9"
         ],
         "y": [
          0.5608108108108109,
          0.41818181818181815
         ]
        }
       ],
       "layout": {
        "title": "不合格率月趋势图",
        "xaxis": {
         "mirror": "all",
         "nticks": 20,
         "showgrid": true,
         "showline": true,
         "title": "月",
         "zeroline": true
        },
        "yaxis": {
         "mirror": "all",
         "nticks": 20,
         "showgrid": true,
         "showline": true,
         "title": "不合格率",
         "zeroline": true
        }
       }
      },
      "text/html": [
       "<div id=\"1398c1d9-e441-4ca1-9f3e-6b5dd82ef135\" style=\"height: 525px; width: 100%;\" class=\"plotly-graph-div\"></div><script type=\"text/javascript\">require([\"plotly\"], function(Plotly) { window.PLOTLYENV=window.PLOTLYENV || {};window.PLOTLYENV.BASE_URL=\"https://plot.ly\";\n",
       "        Plotly.plot(\n",
       "            '1398c1d9-e441-4ca1-9f3e-6b5dd82ef135',\n",
       "            [{\"name\": \"\\u4e0d\\u5408\\u683c\\u7387\", \"x\": [\"8\", \"9\"], \"y\": [0.5608108108108109, 0.41818181818181815], \"type\": \"scatter\", \"uid\": \"d1981fd4-bbe2-11e8-adcf-a81e84e6c740\"}],\n",
       "            {\"title\": \"\\u4e0d\\u5408\\u683c\\u7387\\u6708\\u8d8b\\u52bf\\u56fe\", \"xaxis\": {\"mirror\": \"all\", \"nticks\": 20, \"showgrid\": true, \"showline\": true, \"title\": \"\\u6708\", \"zeroline\": true}, \"yaxis\": {\"mirror\": \"all\", \"nticks\": 20, \"showgrid\": true, \"showline\": true, \"title\": \"\\u4e0d\\u5408\\u683c\\u7387\", \"zeroline\": true}},\n",
       "            {\"showLink\": true, \"linkText\": \"Export to plot.ly\"}\n",
       "        ).then(function () {return Plotly.addFrames('1398c1d9-e441-4ca1-9f3e-6b5dd82ef135',{});}).then(function(){Plotly.animate('1398c1d9-e441-4ca1-9f3e-6b5dd82ef135');})\n",
       "        });</script>"
      ],
      "text/vnd.plotly.v1+html": [
       "<div id=\"1398c1d9-e441-4ca1-9f3e-6b5dd82ef135\" style=\"height: 525px; width: 100%;\" class=\"plotly-graph-div\"></div><script type=\"text/javascript\">require([\"plotly\"], function(Plotly) { window.PLOTLYENV=window.PLOTLYENV || {};window.PLOTLYENV.BASE_URL=\"https://plot.ly\";\n",
       "        Plotly.plot(\n",
       "            '1398c1d9-e441-4ca1-9f3e-6b5dd82ef135',\n",
       "            [{\"name\": \"\\u4e0d\\u5408\\u683c\\u7387\", \"x\": [\"8\", \"9\"], \"y\": [0.5608108108108109, 0.41818181818181815], \"type\": \"scatter\", \"uid\": \"d1981fd4-bbe2-11e8-adcf-a81e84e6c740\"}],\n",
       "            {\"title\": \"\\u4e0d\\u5408\\u683c\\u7387\\u6708\\u8d8b\\u52bf\\u56fe\", \"xaxis\": {\"mirror\": \"all\", \"nticks\": 20, \"showgrid\": true, \"showline\": true, \"title\": \"\\u6708\", \"zeroline\": true}, \"yaxis\": {\"mirror\": \"all\", \"nticks\": 20, \"showgrid\": true, \"showline\": true, \"title\": \"\\u4e0d\\u5408\\u683c\\u7387\", \"zeroline\": true}},\n",
       "            {\"showLink\": true, \"linkText\": \"Export to plot.ly\"}\n",
       "        ).then(function () {return Plotly.addFrames('1398c1d9-e441-4ca1-9f3e-6b5dd82ef135',{});}).then(function(){Plotly.animate('1398c1d9-e441-4ca1-9f3e-6b5dd82ef135');})\n",
       "        });</script>"
      ]
     },
     "metadata": {},
     "output_type": "display_data"
    }
   ],
   "source": [
    "data_dict = {'不合格率':['不通过芯片数', '芯片总数']}\n",
    "myModule.plot( all_dict, data_dict, '人员' ,  'line' , all='all')"
   ]
  },
  {
   "cell_type": "markdown",
   "metadata": {},
   "source": [
    "#### 通过率情况"
   ]
  },
  {
   "cell_type": "code",
   "execution_count": 41,
   "metadata": {
    "scrolled": false
   },
   "outputs": [
    {
     "data": {
      "application/vnd.plotly.v1+json": {
       "data": [
        {
         "name": "8h通过率",
         "type": "scatter",
         "uid": "d1c29962-bbe2-11e8-adcf-a81e84e6c740",
         "x": [
          "8-1",
          "8-2",
          "8-3",
          "8-4",
          "8-5",
          "9-1",
          "9-2"
         ],
         "y": [
          0.3333333333333333,
          0.40540540540540543,
          0.5517241379310345,
          0.6060606060606061,
          0.5,
          0.6206896551724138,
          0.6538461538461539
         ]
        },
        {
         "name": "24h通过率",
         "type": "scatter",
         "uid": "d1c29ea8-bbe2-11e8-adcf-a81e84e6c740",
         "x": [
          "8-1",
          "8-2",
          "8-3",
          "8-4",
          "8-5",
          "9-1",
          "9-2"
         ],
         "y": [
          0.6296296296296297,
          0.5135135135135135,
          0.7586206896551724,
          0.8484848484848485,
          0.7272727272727273,
          0.5862068965517241,
          0.6923076923076923
         ]
        },
        {
         "name": "48h通过率",
         "type": "scatter",
         "uid": "d1c2a2ae-bbe2-11e8-adcf-a81e84e6c740",
         "x": [
          "8-1",
          "8-2",
          "8-3",
          "8-4",
          "8-5",
          "9-1",
          "9-2"
         ],
         "y": [
          0.8518518518518519,
          0.7567567567567568,
          0.896551724137931,
          0.9393939393939394,
          0.8636363636363636,
          0.7931034482758621,
          0.8461538461538461
         ]
        },
        {
         "name": "24h通过率标线",
         "type": "scatter",
         "uid": "d1c2a664-bbe2-11e8-adcf-a81e84e6c740",
         "x": [
          "8-1",
          "8-2",
          "8-3",
          "8-4",
          "8-5",
          "9-1",
          "9-2"
         ],
         "y": [
          0.75,
          0.75,
          0.75,
          0.75,
          0.75,
          0.75,
          0.75
         ]
        },
        {
         "name": "48h通过率标线",
         "type": "scatter",
         "uid": "d1c2a9de-bbe2-11e8-adcf-a81e84e6c740",
         "x": [
          "8-1",
          "8-2",
          "8-3",
          "8-4",
          "8-5",
          "9-1",
          "9-2"
         ],
         "y": [
          0.9,
          0.9,
          0.9,
          0.9,
          0.9,
          0.9,
          0.9
         ]
        }
       ],
       "layout": {
        "title": "8h通过率&24h通过率&48h通过率&24h通过率标线&48h通过率标线周趋势图",
        "xaxis": {
         "mirror": "all",
         "nticks": 20,
         "showgrid": true,
         "showline": true,
         "title": "周",
         "zeroline": true
        },
        "yaxis": {
         "mirror": "all",
         "nticks": 20,
         "showgrid": true,
         "showline": true,
         "title": "8h通过率&24h通过率&48h通过率&24h通过率标线&48h通过率标线",
         "zeroline": true
        }
       }
      },
      "text/html": [
       "<div id=\"0d59b715-cc80-483e-acb8-cb65a6ed74ed\" style=\"height: 525px; width: 100%;\" class=\"plotly-graph-div\"></div><script type=\"text/javascript\">require([\"plotly\"], function(Plotly) { window.PLOTLYENV=window.PLOTLYENV || {};window.PLOTLYENV.BASE_URL=\"https://plot.ly\";\n",
       "        Plotly.plot(\n",
       "            '0d59b715-cc80-483e-acb8-cb65a6ed74ed',\n",
       "            [{\"name\": \"8h\\u901a\\u8fc7\\u7387\", \"x\": [\"8-1\", \"8-2\", \"8-3\", \"8-4\", \"8-5\", \"9-1\", \"9-2\"], \"y\": [0.3333333333333333, 0.40540540540540543, 0.5517241379310345, 0.6060606060606061, 0.5, 0.6206896551724138, 0.6538461538461539], \"type\": \"scatter\", \"uid\": \"d1c29962-bbe2-11e8-adcf-a81e84e6c740\"}, {\"name\": \"24h\\u901a\\u8fc7\\u7387\", \"x\": [\"8-1\", \"8-2\", \"8-3\", \"8-4\", \"8-5\", \"9-1\", \"9-2\"], \"y\": [0.6296296296296297, 0.5135135135135135, 0.7586206896551724, 0.8484848484848485, 0.7272727272727273, 0.5862068965517241, 0.6923076923076923], \"type\": \"scatter\", \"uid\": \"d1c29ea8-bbe2-11e8-adcf-a81e84e6c740\"}, {\"name\": \"48h\\u901a\\u8fc7\\u7387\", \"x\": [\"8-1\", \"8-2\", \"8-3\", \"8-4\", \"8-5\", \"9-1\", \"9-2\"], \"y\": [0.8518518518518519, 0.7567567567567568, 0.896551724137931, 0.9393939393939394, 0.8636363636363636, 0.7931034482758621, 0.8461538461538461], \"type\": \"scatter\", \"uid\": \"d1c2a2ae-bbe2-11e8-adcf-a81e84e6c740\"}, {\"name\": \"24h\\u901a\\u8fc7\\u7387\\u6807\\u7ebf\", \"x\": [\"8-1\", \"8-2\", \"8-3\", \"8-4\", \"8-5\", \"9-1\", \"9-2\"], \"y\": [0.75, 0.75, 0.75, 0.75, 0.75, 0.75, 0.75], \"type\": \"scatter\", \"uid\": \"d1c2a664-bbe2-11e8-adcf-a81e84e6c740\"}, {\"name\": \"48h\\u901a\\u8fc7\\u7387\\u6807\\u7ebf\", \"x\": [\"8-1\", \"8-2\", \"8-3\", \"8-4\", \"8-5\", \"9-1\", \"9-2\"], \"y\": [0.9, 0.9, 0.9, 0.9, 0.9, 0.9, 0.9], \"type\": \"scatter\", \"uid\": \"d1c2a9de-bbe2-11e8-adcf-a81e84e6c740\"}],\n",
       "            {\"title\": \"8h\\u901a\\u8fc7\\u7387&24h\\u901a\\u8fc7\\u7387&48h\\u901a\\u8fc7\\u7387&24h\\u901a\\u8fc7\\u7387\\u6807\\u7ebf&48h\\u901a\\u8fc7\\u7387\\u6807\\u7ebf\\u5468\\u8d8b\\u52bf\\u56fe\", \"xaxis\": {\"mirror\": \"all\", \"nticks\": 20, \"showgrid\": true, \"showline\": true, \"title\": \"\\u5468\", \"zeroline\": true}, \"yaxis\": {\"mirror\": \"all\", \"nticks\": 20, \"showgrid\": true, \"showline\": true, \"title\": \"8h\\u901a\\u8fc7\\u7387&24h\\u901a\\u8fc7\\u7387&48h\\u901a\\u8fc7\\u7387&24h\\u901a\\u8fc7\\u7387\\u6807\\u7ebf&48h\\u901a\\u8fc7\\u7387\\u6807\\u7ebf\", \"zeroline\": true}},\n",
       "            {\"showLink\": true, \"linkText\": \"Export to plot.ly\"}\n",
       "        ).then(function () {return Plotly.addFrames('0d59b715-cc80-483e-acb8-cb65a6ed74ed',{});}).then(function(){Plotly.animate('0d59b715-cc80-483e-acb8-cb65a6ed74ed');})\n",
       "        });</script>"
      ],
      "text/vnd.plotly.v1+html": [
       "<div id=\"0d59b715-cc80-483e-acb8-cb65a6ed74ed\" style=\"height: 525px; width: 100%;\" class=\"plotly-graph-div\"></div><script type=\"text/javascript\">require([\"plotly\"], function(Plotly) { window.PLOTLYENV=window.PLOTLYENV || {};window.PLOTLYENV.BASE_URL=\"https://plot.ly\";\n",
       "        Plotly.plot(\n",
       "            '0d59b715-cc80-483e-acb8-cb65a6ed74ed',\n",
       "            [{\"name\": \"8h\\u901a\\u8fc7\\u7387\", \"x\": [\"8-1\", \"8-2\", \"8-3\", \"8-4\", \"8-5\", \"9-1\", \"9-2\"], \"y\": [0.3333333333333333, 0.40540540540540543, 0.5517241379310345, 0.6060606060606061, 0.5, 0.6206896551724138, 0.6538461538461539], \"type\": \"scatter\", \"uid\": \"d1c29962-bbe2-11e8-adcf-a81e84e6c740\"}, {\"name\": \"24h\\u901a\\u8fc7\\u7387\", \"x\": [\"8-1\", \"8-2\", \"8-3\", \"8-4\", \"8-5\", \"9-1\", \"9-2\"], \"y\": [0.6296296296296297, 0.5135135135135135, 0.7586206896551724, 0.8484848484848485, 0.7272727272727273, 0.5862068965517241, 0.6923076923076923], \"type\": \"scatter\", \"uid\": \"d1c29ea8-bbe2-11e8-adcf-a81e84e6c740\"}, {\"name\": \"48h\\u901a\\u8fc7\\u7387\", \"x\": [\"8-1\", \"8-2\", \"8-3\", \"8-4\", \"8-5\", \"9-1\", \"9-2\"], \"y\": [0.8518518518518519, 0.7567567567567568, 0.896551724137931, 0.9393939393939394, 0.8636363636363636, 0.7931034482758621, 0.8461538461538461], \"type\": \"scatter\", \"uid\": \"d1c2a2ae-bbe2-11e8-adcf-a81e84e6c740\"}, {\"name\": \"24h\\u901a\\u8fc7\\u7387\\u6807\\u7ebf\", \"x\": [\"8-1\", \"8-2\", \"8-3\", \"8-4\", \"8-5\", \"9-1\", \"9-2\"], \"y\": [0.75, 0.75, 0.75, 0.75, 0.75, 0.75, 0.75], \"type\": \"scatter\", \"uid\": \"d1c2a664-bbe2-11e8-adcf-a81e84e6c740\"}, {\"name\": \"48h\\u901a\\u8fc7\\u7387\\u6807\\u7ebf\", \"x\": [\"8-1\", \"8-2\", \"8-3\", \"8-4\", \"8-5\", \"9-1\", \"9-2\"], \"y\": [0.9, 0.9, 0.9, 0.9, 0.9, 0.9, 0.9], \"type\": \"scatter\", \"uid\": \"d1c2a9de-bbe2-11e8-adcf-a81e84e6c740\"}],\n",
       "            {\"title\": \"8h\\u901a\\u8fc7\\u7387&24h\\u901a\\u8fc7\\u7387&48h\\u901a\\u8fc7\\u7387&24h\\u901a\\u8fc7\\u7387\\u6807\\u7ebf&48h\\u901a\\u8fc7\\u7387\\u6807\\u7ebf\\u5468\\u8d8b\\u52bf\\u56fe\", \"xaxis\": {\"mirror\": \"all\", \"nticks\": 20, \"showgrid\": true, \"showline\": true, \"title\": \"\\u5468\", \"zeroline\": true}, \"yaxis\": {\"mirror\": \"all\", \"nticks\": 20, \"showgrid\": true, \"showline\": true, \"title\": \"8h\\u901a\\u8fc7\\u7387&24h\\u901a\\u8fc7\\u7387&48h\\u901a\\u8fc7\\u7387&24h\\u901a\\u8fc7\\u7387\\u6807\\u7ebf&48h\\u901a\\u8fc7\\u7387\\u6807\\u7ebf\", \"zeroline\": true}},\n",
       "            {\"showLink\": true, \"linkText\": \"Export to plot.ly\"}\n",
       "        ).then(function () {return Plotly.addFrames('0d59b715-cc80-483e-acb8-cb65a6ed74ed',{});}).then(function(){Plotly.animate('0d59b715-cc80-483e-acb8-cb65a6ed74ed');})\n",
       "        });</script>"
      ]
     },
     "metadata": {},
     "output_type": "display_data"
    },
    {
     "data": {
      "application/vnd.plotly.v1+json": {
       "data": [
        {
         "name": "8h通过率",
         "type": "scatter",
         "uid": "d1d6c81a-bbe2-11e8-adcf-a81e84e6c740",
         "x": [
          "8",
          "9"
         ],
         "y": [
          0.4797297297297297,
          0.6363636363636364
         ]
        },
        {
         "name": "24h通过率",
         "type": "scatter",
         "uid": "d1d6cc48-bbe2-11e8-adcf-a81e84e6c740",
         "x": [
          "8",
          "9"
         ],
         "y": [
          0.6891891891891891,
          0.6363636363636364
         ]
        },
        {
         "name": "48h通过率",
         "type": "scatter",
         "uid": "d1d6cf40-bbe2-11e8-adcf-a81e84e6c740",
         "x": [
          "8",
          "9"
         ],
         "y": [
          0.8581081081081081,
          0.8181818181818182
         ]
        },
        {
         "name": "24h通过率标线",
         "type": "scatter",
         "uid": "d1d6d1f2-bbe2-11e8-adcf-a81e84e6c740",
         "x": [
          "8",
          "9"
         ],
         "y": [
          3.75,
          1.5
         ]
        },
        {
         "name": "48h通过率标线",
         "type": "scatter",
         "uid": "d1d6d486-bbe2-11e8-adcf-a81e84e6c740",
         "x": [
          "8",
          "9"
         ],
         "y": [
          4.5,
          1.8
         ]
        }
       ],
       "layout": {
        "title": "8h通过率&24h通过率&48h通过率&24h通过率标线&48h通过率标线月趋势图",
        "xaxis": {
         "mirror": "all",
         "nticks": 20,
         "showgrid": true,
         "showline": true,
         "title": "月",
         "zeroline": true
        },
        "yaxis": {
         "mirror": "all",
         "nticks": 20,
         "showgrid": true,
         "showline": true,
         "title": "8h通过率&24h通过率&48h通过率&24h通过率标线&48h通过率标线",
         "zeroline": true
        }
       }
      },
      "text/html": [
       "<div id=\"a112c127-d6fd-45e8-a046-a6ec894bd0d4\" style=\"height: 525px; width: 100%;\" class=\"plotly-graph-div\"></div><script type=\"text/javascript\">require([\"plotly\"], function(Plotly) { window.PLOTLYENV=window.PLOTLYENV || {};window.PLOTLYENV.BASE_URL=\"https://plot.ly\";\n",
       "        Plotly.plot(\n",
       "            'a112c127-d6fd-45e8-a046-a6ec894bd0d4',\n",
       "            [{\"name\": \"8h\\u901a\\u8fc7\\u7387\", \"x\": [\"8\", \"9\"], \"y\": [0.4797297297297297, 0.6363636363636364], \"type\": \"scatter\", \"uid\": \"d1d6c81a-bbe2-11e8-adcf-a81e84e6c740\"}, {\"name\": \"24h\\u901a\\u8fc7\\u7387\", \"x\": [\"8\", \"9\"], \"y\": [0.6891891891891891, 0.6363636363636364], \"type\": \"scatter\", \"uid\": \"d1d6cc48-bbe2-11e8-adcf-a81e84e6c740\"}, {\"name\": \"48h\\u901a\\u8fc7\\u7387\", \"x\": [\"8\", \"9\"], \"y\": [0.8581081081081081, 0.8181818181818182], \"type\": \"scatter\", \"uid\": \"d1d6cf40-bbe2-11e8-adcf-a81e84e6c740\"}, {\"name\": \"24h\\u901a\\u8fc7\\u7387\\u6807\\u7ebf\", \"x\": [\"8\", \"9\"], \"y\": [3.75, 1.5], \"type\": \"scatter\", \"uid\": \"d1d6d1f2-bbe2-11e8-adcf-a81e84e6c740\"}, {\"name\": \"48h\\u901a\\u8fc7\\u7387\\u6807\\u7ebf\", \"x\": [\"8\", \"9\"], \"y\": [4.5, 1.8], \"type\": \"scatter\", \"uid\": \"d1d6d486-bbe2-11e8-adcf-a81e84e6c740\"}],\n",
       "            {\"title\": \"8h\\u901a\\u8fc7\\u7387&24h\\u901a\\u8fc7\\u7387&48h\\u901a\\u8fc7\\u7387&24h\\u901a\\u8fc7\\u7387\\u6807\\u7ebf&48h\\u901a\\u8fc7\\u7387\\u6807\\u7ebf\\u6708\\u8d8b\\u52bf\\u56fe\", \"xaxis\": {\"mirror\": \"all\", \"nticks\": 20, \"showgrid\": true, \"showline\": true, \"title\": \"\\u6708\", \"zeroline\": true}, \"yaxis\": {\"mirror\": \"all\", \"nticks\": 20, \"showgrid\": true, \"showline\": true, \"title\": \"8h\\u901a\\u8fc7\\u7387&24h\\u901a\\u8fc7\\u7387&48h\\u901a\\u8fc7\\u7387&24h\\u901a\\u8fc7\\u7387\\u6807\\u7ebf&48h\\u901a\\u8fc7\\u7387\\u6807\\u7ebf\", \"zeroline\": true}},\n",
       "            {\"showLink\": true, \"linkText\": \"Export to plot.ly\"}\n",
       "        ).then(function () {return Plotly.addFrames('a112c127-d6fd-45e8-a046-a6ec894bd0d4',{});}).then(function(){Plotly.animate('a112c127-d6fd-45e8-a046-a6ec894bd0d4');})\n",
       "        });</script>"
      ],
      "text/vnd.plotly.v1+html": [
       "<div id=\"a112c127-d6fd-45e8-a046-a6ec894bd0d4\" style=\"height: 525px; width: 100%;\" class=\"plotly-graph-div\"></div><script type=\"text/javascript\">require([\"plotly\"], function(Plotly) { window.PLOTLYENV=window.PLOTLYENV || {};window.PLOTLYENV.BASE_URL=\"https://plot.ly\";\n",
       "        Plotly.plot(\n",
       "            'a112c127-d6fd-45e8-a046-a6ec894bd0d4',\n",
       "            [{\"name\": \"8h\\u901a\\u8fc7\\u7387\", \"x\": [\"8\", \"9\"], \"y\": [0.4797297297297297, 0.6363636363636364], \"type\": \"scatter\", \"uid\": \"d1d6c81a-bbe2-11e8-adcf-a81e84e6c740\"}, {\"name\": \"24h\\u901a\\u8fc7\\u7387\", \"x\": [\"8\", \"9\"], \"y\": [0.6891891891891891, 0.6363636363636364], \"type\": \"scatter\", \"uid\": \"d1d6cc48-bbe2-11e8-adcf-a81e84e6c740\"}, {\"name\": \"48h\\u901a\\u8fc7\\u7387\", \"x\": [\"8\", \"9\"], \"y\": [0.8581081081081081, 0.8181818181818182], \"type\": \"scatter\", \"uid\": \"d1d6cf40-bbe2-11e8-adcf-a81e84e6c740\"}, {\"name\": \"24h\\u901a\\u8fc7\\u7387\\u6807\\u7ebf\", \"x\": [\"8\", \"9\"], \"y\": [3.75, 1.5], \"type\": \"scatter\", \"uid\": \"d1d6d1f2-bbe2-11e8-adcf-a81e84e6c740\"}, {\"name\": \"48h\\u901a\\u8fc7\\u7387\\u6807\\u7ebf\", \"x\": [\"8\", \"9\"], \"y\": [4.5, 1.8], \"type\": \"scatter\", \"uid\": \"d1d6d486-bbe2-11e8-adcf-a81e84e6c740\"}],\n",
       "            {\"title\": \"8h\\u901a\\u8fc7\\u7387&24h\\u901a\\u8fc7\\u7387&48h\\u901a\\u8fc7\\u7387&24h\\u901a\\u8fc7\\u7387\\u6807\\u7ebf&48h\\u901a\\u8fc7\\u7387\\u6807\\u7ebf\\u6708\\u8d8b\\u52bf\\u56fe\", \"xaxis\": {\"mirror\": \"all\", \"nticks\": 20, \"showgrid\": true, \"showline\": true, \"title\": \"\\u6708\", \"zeroline\": true}, \"yaxis\": {\"mirror\": \"all\", \"nticks\": 20, \"showgrid\": true, \"showline\": true, \"title\": \"8h\\u901a\\u8fc7\\u7387&24h\\u901a\\u8fc7\\u7387&48h\\u901a\\u8fc7\\u7387&24h\\u901a\\u8fc7\\u7387\\u6807\\u7ebf&48h\\u901a\\u8fc7\\u7387\\u6807\\u7ebf\", \"zeroline\": true}},\n",
       "            {\"showLink\": true, \"linkText\": \"Export to plot.ly\"}\n",
       "        ).then(function () {return Plotly.addFrames('a112c127-d6fd-45e8-a046-a6ec894bd0d4',{});}).then(function(){Plotly.animate('a112c127-d6fd-45e8-a046-a6ec894bd0d4');})\n",
       "        });</script>"
      ]
     },
     "metadata": {},
     "output_type": "display_data"
    }
   ],
   "source": [
    "data_dict = {'8h通过率':['8h通过芯片数', '芯片总数'], '24h通过率':['24h通过芯片数', '芯片总数'],\n",
    "             '48h通过率':['48h通过芯片数', '芯片总数'], '24h通过率标线':['24h通过率标线'], '48h通过率标线':['48h通过率标线']}\n",
    "myModule.plot( all_dict, data_dict, '人员' ,  'line' , all='all')"
   ]
  },
  {
   "cell_type": "markdown",
   "metadata": {},
   "source": [
    "#### 平均通过时长，一次通过平均时长，非一次通过平均时长，通过时长Q80"
   ]
  },
  {
   "cell_type": "code",
   "execution_count": 42,
   "metadata": {
    "scrolled": false
   },
   "outputs": [
    {
     "data": {
      "application/vnd.plotly.v1+json": {
       "data": [
        {
         "name": "平均通过时长",
         "type": "scatter",
         "uid": "d1fd7618-bbe2-11e8-adcf-a81e84e6c740",
         "x": [
          "8-1",
          "8-2",
          "8-3",
          "8-4",
          "8-5",
          "9-1",
          "9-2"
         ],
         "y": [
          21.03,
          32.65,
          16.84,
          10.54,
          23.82,
          15.1,
          22.28
         ]
        },
        {
         "name": "一次通过平均时长",
         "type": "scatter",
         "uid": "d1fd794c-bbe2-11e8-adcf-a81e84e6c740",
         "x": [
          "8-1",
          "8-2",
          "8-3",
          "8-4",
          "8-5",
          "9-1",
          "9-2"
         ],
         "y": [
          11.95,
          6.68,
          3.81,
          5.41,
          3.11,
          2.07,
          6.43
         ]
        },
        {
         "name": "非一次通过平均时长",
         "type": "scatter",
         "uid": "d1fd7ba4-bbe2-11e8-adcf-a81e84e6c740",
         "x": [
          "8-1",
          "8-2",
          "8-3",
          "8-4",
          "8-5",
          "9-1",
          "9-2"
         ],
         "y": [
          30.81,
          50.36,
          22.7,
          20.81,
          35.65,
          24.46,
          37.75
         ]
        },
        {
         "name": "通过时长Q80",
         "type": "scatter",
         "uid": "d1fd7db6-bbe2-11e8-adcf-a81e84e6c740",
         "x": [
          "8-1",
          "8-2",
          "8-3",
          "8-4",
          "8-5",
          "9-1",
          "9-2"
         ],
         "y": [
          35.07,
          59.13,
          33.87,
          27.27,
          29.73,
          24.2,
          31.5
         ]
        }
       ],
       "layout": {
        "title": "平均通过时长&一次通过平均时长&非一次通过平均时长&通过时长Q80周趋势图",
        "xaxis": {
         "mirror": "all",
         "nticks": 20,
         "showgrid": true,
         "showline": true,
         "title": "周",
         "zeroline": true
        },
        "yaxis": {
         "mirror": "all",
         "nticks": 20,
         "showgrid": true,
         "showline": true,
         "title": "平均通过时长&一次通过平均时长&非一次通过平均时长&通过时长Q80",
         "zeroline": true
        }
       }
      },
      "text/html": [
       "<div id=\"56e93d44-0b70-421b-9aa0-bf9a780f35b7\" style=\"height: 525px; width: 100%;\" class=\"plotly-graph-div\"></div><script type=\"text/javascript\">require([\"plotly\"], function(Plotly) { window.PLOTLYENV=window.PLOTLYENV || {};window.PLOTLYENV.BASE_URL=\"https://plot.ly\";\n",
       "        Plotly.plot(\n",
       "            '56e93d44-0b70-421b-9aa0-bf9a780f35b7',\n",
       "            [{\"name\": \"\\u5e73\\u5747\\u901a\\u8fc7\\u65f6\\u957f\", \"x\": [\"8-1\", \"8-2\", \"8-3\", \"8-4\", \"8-5\", \"9-1\", \"9-2\"], \"y\": [21.03, 32.65, 16.84, 10.54, 23.82, 15.1, 22.28], \"type\": \"scatter\", \"uid\": \"d1fd7618-bbe2-11e8-adcf-a81e84e6c740\"}, {\"name\": \"\\u4e00\\u6b21\\u901a\\u8fc7\\u5e73\\u5747\\u65f6\\u957f\", \"x\": [\"8-1\", \"8-2\", \"8-3\", \"8-4\", \"8-5\", \"9-1\", \"9-2\"], \"y\": [11.95, 6.68, 3.81, 5.41, 3.11, 2.07, 6.43], \"type\": \"scatter\", \"uid\": \"d1fd794c-bbe2-11e8-adcf-a81e84e6c740\"}, {\"name\": \"\\u975e\\u4e00\\u6b21\\u901a\\u8fc7\\u5e73\\u5747\\u65f6\\u957f\", \"x\": [\"8-1\", \"8-2\", \"8-3\", \"8-4\", \"8-5\", \"9-1\", \"9-2\"], \"y\": [30.81, 50.36, 22.7, 20.81, 35.65, 24.46, 37.75], \"type\": \"scatter\", \"uid\": \"d1fd7ba4-bbe2-11e8-adcf-a81e84e6c740\"}, {\"name\": \"\\u901a\\u8fc7\\u65f6\\u957fQ80\", \"x\": [\"8-1\", \"8-2\", \"8-3\", \"8-4\", \"8-5\", \"9-1\", \"9-2\"], \"y\": [35.07, 59.13, 33.87, 27.27, 29.73, 24.2, 31.5], \"type\": \"scatter\", \"uid\": \"d1fd7db6-bbe2-11e8-adcf-a81e84e6c740\"}],\n",
       "            {\"title\": \"\\u5e73\\u5747\\u901a\\u8fc7\\u65f6\\u957f&\\u4e00\\u6b21\\u901a\\u8fc7\\u5e73\\u5747\\u65f6\\u957f&\\u975e\\u4e00\\u6b21\\u901a\\u8fc7\\u5e73\\u5747\\u65f6\\u957f&\\u901a\\u8fc7\\u65f6\\u957fQ80\\u5468\\u8d8b\\u52bf\\u56fe\", \"xaxis\": {\"mirror\": \"all\", \"nticks\": 20, \"showgrid\": true, \"showline\": true, \"title\": \"\\u5468\", \"zeroline\": true}, \"yaxis\": {\"mirror\": \"all\", \"nticks\": 20, \"showgrid\": true, \"showline\": true, \"title\": \"\\u5e73\\u5747\\u901a\\u8fc7\\u65f6\\u957f&\\u4e00\\u6b21\\u901a\\u8fc7\\u5e73\\u5747\\u65f6\\u957f&\\u975e\\u4e00\\u6b21\\u901a\\u8fc7\\u5e73\\u5747\\u65f6\\u957f&\\u901a\\u8fc7\\u65f6\\u957fQ80\", \"zeroline\": true}},\n",
       "            {\"showLink\": true, \"linkText\": \"Export to plot.ly\"}\n",
       "        ).then(function () {return Plotly.addFrames('56e93d44-0b70-421b-9aa0-bf9a780f35b7',{});}).then(function(){Plotly.animate('56e93d44-0b70-421b-9aa0-bf9a780f35b7');})\n",
       "        });</script>"
      ],
      "text/vnd.plotly.v1+html": [
       "<div id=\"56e93d44-0b70-421b-9aa0-bf9a780f35b7\" style=\"height: 525px; width: 100%;\" class=\"plotly-graph-div\"></div><script type=\"text/javascript\">require([\"plotly\"], function(Plotly) { window.PLOTLYENV=window.PLOTLYENV || {};window.PLOTLYENV.BASE_URL=\"https://plot.ly\";\n",
       "        Plotly.plot(\n",
       "            '56e93d44-0b70-421b-9aa0-bf9a780f35b7',\n",
       "            [{\"name\": \"\\u5e73\\u5747\\u901a\\u8fc7\\u65f6\\u957f\", \"x\": [\"8-1\", \"8-2\", \"8-3\", \"8-4\", \"8-5\", \"9-1\", \"9-2\"], \"y\": [21.03, 32.65, 16.84, 10.54, 23.82, 15.1, 22.28], \"type\": \"scatter\", \"uid\": \"d1fd7618-bbe2-11e8-adcf-a81e84e6c740\"}, {\"name\": \"\\u4e00\\u6b21\\u901a\\u8fc7\\u5e73\\u5747\\u65f6\\u957f\", \"x\": [\"8-1\", \"8-2\", \"8-3\", \"8-4\", \"8-5\", \"9-1\", \"9-2\"], \"y\": [11.95, 6.68, 3.81, 5.41, 3.11, 2.07, 6.43], \"type\": \"scatter\", \"uid\": \"d1fd794c-bbe2-11e8-adcf-a81e84e6c740\"}, {\"name\": \"\\u975e\\u4e00\\u6b21\\u901a\\u8fc7\\u5e73\\u5747\\u65f6\\u957f\", \"x\": [\"8-1\", \"8-2\", \"8-3\", \"8-4\", \"8-5\", \"9-1\", \"9-2\"], \"y\": [30.81, 50.36, 22.7, 20.81, 35.65, 24.46, 37.75], \"type\": \"scatter\", \"uid\": \"d1fd7ba4-bbe2-11e8-adcf-a81e84e6c740\"}, {\"name\": \"\\u901a\\u8fc7\\u65f6\\u957fQ80\", \"x\": [\"8-1\", \"8-2\", \"8-3\", \"8-4\", \"8-5\", \"9-1\", \"9-2\"], \"y\": [35.07, 59.13, 33.87, 27.27, 29.73, 24.2, 31.5], \"type\": \"scatter\", \"uid\": \"d1fd7db6-bbe2-11e8-adcf-a81e84e6c740\"}],\n",
       "            {\"title\": \"\\u5e73\\u5747\\u901a\\u8fc7\\u65f6\\u957f&\\u4e00\\u6b21\\u901a\\u8fc7\\u5e73\\u5747\\u65f6\\u957f&\\u975e\\u4e00\\u6b21\\u901a\\u8fc7\\u5e73\\u5747\\u65f6\\u957f&\\u901a\\u8fc7\\u65f6\\u957fQ80\\u5468\\u8d8b\\u52bf\\u56fe\", \"xaxis\": {\"mirror\": \"all\", \"nticks\": 20, \"showgrid\": true, \"showline\": true, \"title\": \"\\u5468\", \"zeroline\": true}, \"yaxis\": {\"mirror\": \"all\", \"nticks\": 20, \"showgrid\": true, \"showline\": true, \"title\": \"\\u5e73\\u5747\\u901a\\u8fc7\\u65f6\\u957f&\\u4e00\\u6b21\\u901a\\u8fc7\\u5e73\\u5747\\u65f6\\u957f&\\u975e\\u4e00\\u6b21\\u901a\\u8fc7\\u5e73\\u5747\\u65f6\\u957f&\\u901a\\u8fc7\\u65f6\\u957fQ80\", \"zeroline\": true}},\n",
       "            {\"showLink\": true, \"linkText\": \"Export to plot.ly\"}\n",
       "        ).then(function () {return Plotly.addFrames('56e93d44-0b70-421b-9aa0-bf9a780f35b7',{});}).then(function(){Plotly.animate('56e93d44-0b70-421b-9aa0-bf9a780f35b7');})\n",
       "        });</script>"
      ]
     },
     "metadata": {},
     "output_type": "display_data"
    },
    {
     "data": {
      "application/vnd.plotly.v1+json": {
       "data": [
        {
         "name": "平均通过时长",
         "type": "scatter",
         "uid": "d2177d2e-bbe2-11e8-adcf-a81e84e6c740",
         "x": [
          "8",
          "9"
         ],
         "y": [
          104.88,
          37.38
         ]
        },
        {
         "name": "一次通过平均时长",
         "type": "scatter",
         "uid": "d21782ce-bbe2-11e8-adcf-a81e84e6c740",
         "x": [
          "8",
          "9"
         ],
         "y": [
          30.959999999999997,
          8.5
         ]
        },
        {
         "name": "非一次通过平均时长",
         "type": "scatter",
         "uid": "d217868e-bbe2-11e8-adcf-a81e84e6c740",
         "x": [
          "8",
          "9"
         ],
         "y": [
          160.33,
          62.21
         ]
        },
        {
         "name": "通过时长Q80",
         "type": "scatter",
         "uid": "d2178ee0-bbe2-11e8-adcf-a81e84e6c740",
         "x": [
          "8",
          "9"
         ],
         "y": [
          185.07,
          55.7
         ]
        }
       ],
       "layout": {
        "title": "平均通过时长&一次通过平均时长&非一次通过平均时长&通过时长Q80月趋势图",
        "xaxis": {
         "mirror": "all",
         "nticks": 20,
         "showgrid": true,
         "showline": true,
         "title": "月",
         "zeroline": true
        },
        "yaxis": {
         "mirror": "all",
         "nticks": 20,
         "showgrid": true,
         "showline": true,
         "title": "平均通过时长&一次通过平均时长&非一次通过平均时长&通过时长Q80",
         "zeroline": true
        }
       }
      },
      "text/html": [
       "<div id=\"eadc3256-7444-489a-8cd0-b7117b7471d5\" style=\"height: 525px; width: 100%;\" class=\"plotly-graph-div\"></div><script type=\"text/javascript\">require([\"plotly\"], function(Plotly) { window.PLOTLYENV=window.PLOTLYENV || {};window.PLOTLYENV.BASE_URL=\"https://plot.ly\";\n",
       "        Plotly.plot(\n",
       "            'eadc3256-7444-489a-8cd0-b7117b7471d5',\n",
       "            [{\"name\": \"\\u5e73\\u5747\\u901a\\u8fc7\\u65f6\\u957f\", \"x\": [\"8\", \"9\"], \"y\": [104.88, 37.38], \"type\": \"scatter\", \"uid\": \"d2177d2e-bbe2-11e8-adcf-a81e84e6c740\"}, {\"name\": \"\\u4e00\\u6b21\\u901a\\u8fc7\\u5e73\\u5747\\u65f6\\u957f\", \"x\": [\"8\", \"9\"], \"y\": [30.959999999999997, 8.5], \"type\": \"scatter\", \"uid\": \"d21782ce-bbe2-11e8-adcf-a81e84e6c740\"}, {\"name\": \"\\u975e\\u4e00\\u6b21\\u901a\\u8fc7\\u5e73\\u5747\\u65f6\\u957f\", \"x\": [\"8\", \"9\"], \"y\": [160.33, 62.21], \"type\": \"scatter\", \"uid\": \"d217868e-bbe2-11e8-adcf-a81e84e6c740\"}, {\"name\": \"\\u901a\\u8fc7\\u65f6\\u957fQ80\", \"x\": [\"8\", \"9\"], \"y\": [185.07, 55.7], \"type\": \"scatter\", \"uid\": \"d2178ee0-bbe2-11e8-adcf-a81e84e6c740\"}],\n",
       "            {\"title\": \"\\u5e73\\u5747\\u901a\\u8fc7\\u65f6\\u957f&\\u4e00\\u6b21\\u901a\\u8fc7\\u5e73\\u5747\\u65f6\\u957f&\\u975e\\u4e00\\u6b21\\u901a\\u8fc7\\u5e73\\u5747\\u65f6\\u957f&\\u901a\\u8fc7\\u65f6\\u957fQ80\\u6708\\u8d8b\\u52bf\\u56fe\", \"xaxis\": {\"mirror\": \"all\", \"nticks\": 20, \"showgrid\": true, \"showline\": true, \"title\": \"\\u6708\", \"zeroline\": true}, \"yaxis\": {\"mirror\": \"all\", \"nticks\": 20, \"showgrid\": true, \"showline\": true, \"title\": \"\\u5e73\\u5747\\u901a\\u8fc7\\u65f6\\u957f&\\u4e00\\u6b21\\u901a\\u8fc7\\u5e73\\u5747\\u65f6\\u957f&\\u975e\\u4e00\\u6b21\\u901a\\u8fc7\\u5e73\\u5747\\u65f6\\u957f&\\u901a\\u8fc7\\u65f6\\u957fQ80\", \"zeroline\": true}},\n",
       "            {\"showLink\": true, \"linkText\": \"Export to plot.ly\"}\n",
       "        ).then(function () {return Plotly.addFrames('eadc3256-7444-489a-8cd0-b7117b7471d5',{});}).then(function(){Plotly.animate('eadc3256-7444-489a-8cd0-b7117b7471d5');})\n",
       "        });</script>"
      ],
      "text/vnd.plotly.v1+html": [
       "<div id=\"eadc3256-7444-489a-8cd0-b7117b7471d5\" style=\"height: 525px; width: 100%;\" class=\"plotly-graph-div\"></div><script type=\"text/javascript\">require([\"plotly\"], function(Plotly) { window.PLOTLYENV=window.PLOTLYENV || {};window.PLOTLYENV.BASE_URL=\"https://plot.ly\";\n",
       "        Plotly.plot(\n",
       "            'eadc3256-7444-489a-8cd0-b7117b7471d5',\n",
       "            [{\"name\": \"\\u5e73\\u5747\\u901a\\u8fc7\\u65f6\\u957f\", \"x\": [\"8\", \"9\"], \"y\": [104.88, 37.38], \"type\": \"scatter\", \"uid\": \"d2177d2e-bbe2-11e8-adcf-a81e84e6c740\"}, {\"name\": \"\\u4e00\\u6b21\\u901a\\u8fc7\\u5e73\\u5747\\u65f6\\u957f\", \"x\": [\"8\", \"9\"], \"y\": [30.959999999999997, 8.5], \"type\": \"scatter\", \"uid\": \"d21782ce-bbe2-11e8-adcf-a81e84e6c740\"}, {\"name\": \"\\u975e\\u4e00\\u6b21\\u901a\\u8fc7\\u5e73\\u5747\\u65f6\\u957f\", \"x\": [\"8\", \"9\"], \"y\": [160.33, 62.21], \"type\": \"scatter\", \"uid\": \"d217868e-bbe2-11e8-adcf-a81e84e6c740\"}, {\"name\": \"\\u901a\\u8fc7\\u65f6\\u957fQ80\", \"x\": [\"8\", \"9\"], \"y\": [185.07, 55.7], \"type\": \"scatter\", \"uid\": \"d2178ee0-bbe2-11e8-adcf-a81e84e6c740\"}],\n",
       "            {\"title\": \"\\u5e73\\u5747\\u901a\\u8fc7\\u65f6\\u957f&\\u4e00\\u6b21\\u901a\\u8fc7\\u5e73\\u5747\\u65f6\\u957f&\\u975e\\u4e00\\u6b21\\u901a\\u8fc7\\u5e73\\u5747\\u65f6\\u957f&\\u901a\\u8fc7\\u65f6\\u957fQ80\\u6708\\u8d8b\\u52bf\\u56fe\", \"xaxis\": {\"mirror\": \"all\", \"nticks\": 20, \"showgrid\": true, \"showline\": true, \"title\": \"\\u6708\", \"zeroline\": true}, \"yaxis\": {\"mirror\": \"all\", \"nticks\": 20, \"showgrid\": true, \"showline\": true, \"title\": \"\\u5e73\\u5747\\u901a\\u8fc7\\u65f6\\u957f&\\u4e00\\u6b21\\u901a\\u8fc7\\u5e73\\u5747\\u65f6\\u957f&\\u975e\\u4e00\\u6b21\\u901a\\u8fc7\\u5e73\\u5747\\u65f6\\u957f&\\u901a\\u8fc7\\u65f6\\u957fQ80\", \"zeroline\": true}},\n",
       "            {\"showLink\": true, \"linkText\": \"Export to plot.ly\"}\n",
       "        ).then(function () {return Plotly.addFrames('eadc3256-7444-489a-8cd0-b7117b7471d5',{});}).then(function(){Plotly.animate('eadc3256-7444-489a-8cd0-b7117b7471d5');})\n",
       "        });</script>"
      ]
     },
     "metadata": {},
     "output_type": "display_data"
    }
   ],
   "source": [
    "data_dict = {'平均通过时长':['平均通过时长'], '一次通过平均时长':['一次通过平均时长'], \n",
    "             '非一次通过平均时长':['非一次通过平均时长'],'通过时长Q80':['通过时长Q80']}\n",
    "myModule.plot( all_dict, data_dict, '人员' ,  'line' , all='all')"
   ]
  },
  {
   "cell_type": "markdown",
   "metadata": {},
   "source": [
    "#### 一次通过平均时长，xten一次通过时长，NovaS4一次通过时长"
   ]
  },
  {
   "cell_type": "code",
   "execution_count": 43,
   "metadata": {
    "scrolled": false
   },
   "outputs": [
    {
     "data": {
      "application/vnd.plotly.v1+json": {
       "data": [
        {
         "name": "一次通过平均时长",
         "type": "scatter",
         "uid": "d23ed518-bbe2-11e8-adcf-a81e84e6c740",
         "x": [
          "8-1",
          "8-2",
          "8-3",
          "8-4",
          "8-5",
          "9-1",
          "9-2"
         ],
         "y": [
          11.95,
          6.68,
          3.81,
          5.41,
          3.11,
          2.07,
          6.43
         ]
        },
        {
         "name": "xten一次通过时长",
         "type": "scatter",
         "uid": "d23ed8c4-bbe2-11e8-adcf-a81e84e6c740",
         "x": [
          "8-1",
          "8-2",
          "8-3",
          "8-4",
          "8-5",
          "9-1",
          "9-2"
         ],
         "y": [
          5.74,
          6.69,
          3.34,
          3.78,
          2.97,
          3.58,
          4.77
         ]
        },
        {
         "name": "NovaS4一次通过时长",
         "type": "scatter",
         "uid": "d23edb1c-bbe2-11e8-adcf-a81e84e6c740",
         "x": [
          "8-1",
          "8-2",
          "8-3",
          "8-4",
          "8-5",
          "9-1",
          "9-2"
         ],
         "y": [
          13.29,
          4.73,
          10.54,
          10.54,
          0,
          14.88,
          9.9
         ]
        }
       ],
       "layout": {
        "title": "一次通过平均时长&xten一次通过时长&NovaS4一次通过时长周趋势图",
        "xaxis": {
         "mirror": "all",
         "nticks": 20,
         "showgrid": true,
         "showline": true,
         "title": "周",
         "zeroline": true
        },
        "yaxis": {
         "mirror": "all",
         "nticks": 20,
         "showgrid": true,
         "showline": true,
         "title": "一次通过平均时长&xten一次通过时长&NovaS4一次通过时长",
         "zeroline": true
        }
       }
      },
      "text/html": [
       "<div id=\"108f8dbc-668c-4f5a-8077-1073b7561740\" style=\"height: 525px; width: 100%;\" class=\"plotly-graph-div\"></div><script type=\"text/javascript\">require([\"plotly\"], function(Plotly) { window.PLOTLYENV=window.PLOTLYENV || {};window.PLOTLYENV.BASE_URL=\"https://plot.ly\";\n",
       "        Plotly.plot(\n",
       "            '108f8dbc-668c-4f5a-8077-1073b7561740',\n",
       "            [{\"name\": \"\\u4e00\\u6b21\\u901a\\u8fc7\\u5e73\\u5747\\u65f6\\u957f\", \"x\": [\"8-1\", \"8-2\", \"8-3\", \"8-4\", \"8-5\", \"9-1\", \"9-2\"], \"y\": [11.95, 6.68, 3.81, 5.41, 3.11, 2.07, 6.43], \"type\": \"scatter\", \"uid\": \"d23ed518-bbe2-11e8-adcf-a81e84e6c740\"}, {\"name\": \"xten\\u4e00\\u6b21\\u901a\\u8fc7\\u65f6\\u957f\", \"x\": [\"8-1\", \"8-2\", \"8-3\", \"8-4\", \"8-5\", \"9-1\", \"9-2\"], \"y\": [5.74, 6.69, 3.34, 3.78, 2.97, 3.58, 4.77], \"type\": \"scatter\", \"uid\": \"d23ed8c4-bbe2-11e8-adcf-a81e84e6c740\"}, {\"name\": \"NovaS4\\u4e00\\u6b21\\u901a\\u8fc7\\u65f6\\u957f\", \"x\": [\"8-1\", \"8-2\", \"8-3\", \"8-4\", \"8-5\", \"9-1\", \"9-2\"], \"y\": [13.29, 4.73, 10.54, 10.54, 0.0, 14.88, 9.9], \"type\": \"scatter\", \"uid\": \"d23edb1c-bbe2-11e8-adcf-a81e84e6c740\"}],\n",
       "            {\"title\": \"\\u4e00\\u6b21\\u901a\\u8fc7\\u5e73\\u5747\\u65f6\\u957f&xten\\u4e00\\u6b21\\u901a\\u8fc7\\u65f6\\u957f&NovaS4\\u4e00\\u6b21\\u901a\\u8fc7\\u65f6\\u957f\\u5468\\u8d8b\\u52bf\\u56fe\", \"xaxis\": {\"mirror\": \"all\", \"nticks\": 20, \"showgrid\": true, \"showline\": true, \"title\": \"\\u5468\", \"zeroline\": true}, \"yaxis\": {\"mirror\": \"all\", \"nticks\": 20, \"showgrid\": true, \"showline\": true, \"title\": \"\\u4e00\\u6b21\\u901a\\u8fc7\\u5e73\\u5747\\u65f6\\u957f&xten\\u4e00\\u6b21\\u901a\\u8fc7\\u65f6\\u957f&NovaS4\\u4e00\\u6b21\\u901a\\u8fc7\\u65f6\\u957f\", \"zeroline\": true}},\n",
       "            {\"showLink\": true, \"linkText\": \"Export to plot.ly\"}\n",
       "        ).then(function () {return Plotly.addFrames('108f8dbc-668c-4f5a-8077-1073b7561740',{});}).then(function(){Plotly.animate('108f8dbc-668c-4f5a-8077-1073b7561740');})\n",
       "        });</script>"
      ],
      "text/vnd.plotly.v1+html": [
       "<div id=\"108f8dbc-668c-4f5a-8077-1073b7561740\" style=\"height: 525px; width: 100%;\" class=\"plotly-graph-div\"></div><script type=\"text/javascript\">require([\"plotly\"], function(Plotly) { window.PLOTLYENV=window.PLOTLYENV || {};window.PLOTLYENV.BASE_URL=\"https://plot.ly\";\n",
       "        Plotly.plot(\n",
       "            '108f8dbc-668c-4f5a-8077-1073b7561740',\n",
       "            [{\"name\": \"\\u4e00\\u6b21\\u901a\\u8fc7\\u5e73\\u5747\\u65f6\\u957f\", \"x\": [\"8-1\", \"8-2\", \"8-3\", \"8-4\", \"8-5\", \"9-1\", \"9-2\"], \"y\": [11.95, 6.68, 3.81, 5.41, 3.11, 2.07, 6.43], \"type\": \"scatter\", \"uid\": \"d23ed518-bbe2-11e8-adcf-a81e84e6c740\"}, {\"name\": \"xten\\u4e00\\u6b21\\u901a\\u8fc7\\u65f6\\u957f\", \"x\": [\"8-1\", \"8-2\", \"8-3\", \"8-4\", \"8-5\", \"9-1\", \"9-2\"], \"y\": [5.74, 6.69, 3.34, 3.78, 2.97, 3.58, 4.77], \"type\": \"scatter\", \"uid\": \"d23ed8c4-bbe2-11e8-adcf-a81e84e6c740\"}, {\"name\": \"NovaS4\\u4e00\\u6b21\\u901a\\u8fc7\\u65f6\\u957f\", \"x\": [\"8-1\", \"8-2\", \"8-3\", \"8-4\", \"8-5\", \"9-1\", \"9-2\"], \"y\": [13.29, 4.73, 10.54, 10.54, 0.0, 14.88, 9.9], \"type\": \"scatter\", \"uid\": \"d23edb1c-bbe2-11e8-adcf-a81e84e6c740\"}],\n",
       "            {\"title\": \"\\u4e00\\u6b21\\u901a\\u8fc7\\u5e73\\u5747\\u65f6\\u957f&xten\\u4e00\\u6b21\\u901a\\u8fc7\\u65f6\\u957f&NovaS4\\u4e00\\u6b21\\u901a\\u8fc7\\u65f6\\u957f\\u5468\\u8d8b\\u52bf\\u56fe\", \"xaxis\": {\"mirror\": \"all\", \"nticks\": 20, \"showgrid\": true, \"showline\": true, \"title\": \"\\u5468\", \"zeroline\": true}, \"yaxis\": {\"mirror\": \"all\", \"nticks\": 20, \"showgrid\": true, \"showline\": true, \"title\": \"\\u4e00\\u6b21\\u901a\\u8fc7\\u5e73\\u5747\\u65f6\\u957f&xten\\u4e00\\u6b21\\u901a\\u8fc7\\u65f6\\u957f&NovaS4\\u4e00\\u6b21\\u901a\\u8fc7\\u65f6\\u957f\", \"zeroline\": true}},\n",
       "            {\"showLink\": true, \"linkText\": \"Export to plot.ly\"}\n",
       "        ).then(function () {return Plotly.addFrames('108f8dbc-668c-4f5a-8077-1073b7561740',{});}).then(function(){Plotly.animate('108f8dbc-668c-4f5a-8077-1073b7561740');})\n",
       "        });</script>"
      ]
     },
     "metadata": {},
     "output_type": "display_data"
    },
    {
     "data": {
      "application/vnd.plotly.v1+json": {
       "data": [
        {
         "name": "一次通过平均时长",
         "type": "scatter",
         "uid": "d24e471e-bbe2-11e8-adcf-a81e84e6c740",
         "x": [
          "8",
          "9"
         ],
         "y": [
          30.959999999999997,
          8.5
         ]
        },
        {
         "name": "xten一次通过时长",
         "type": "scatter",
         "uid": "d24e4b06-bbe2-11e8-adcf-a81e84e6c740",
         "x": [
          "8",
          "9"
         ],
         "y": [
          22.52,
          8.35
         ]
        },
        {
         "name": "NovaS4一次通过时长",
         "type": "scatter",
         "uid": "d24e4d86-bbe2-11e8-adcf-a81e84e6c740",
         "x": [
          "8",
          "9"
         ],
         "y": [
          39.099999999999994,
          24.78
         ]
        }
       ],
       "layout": {
        "title": "一次通过平均时长&xten一次通过时长&NovaS4一次通过时长月趋势图",
        "xaxis": {
         "mirror": "all",
         "nticks": 20,
         "showgrid": true,
         "showline": true,
         "title": "月",
         "zeroline": true
        },
        "yaxis": {
         "mirror": "all",
         "nticks": 20,
         "showgrid": true,
         "showline": true,
         "title": "一次通过平均时长&xten一次通过时长&NovaS4一次通过时长",
         "zeroline": true
        }
       }
      },
      "text/html": [
       "<div id=\"4a0abf78-8c0f-4278-88e1-2c934f2a03ea\" style=\"height: 525px; width: 100%;\" class=\"plotly-graph-div\"></div><script type=\"text/javascript\">require([\"plotly\"], function(Plotly) { window.PLOTLYENV=window.PLOTLYENV || {};window.PLOTLYENV.BASE_URL=\"https://plot.ly\";\n",
       "        Plotly.plot(\n",
       "            '4a0abf78-8c0f-4278-88e1-2c934f2a03ea',\n",
       "            [{\"name\": \"\\u4e00\\u6b21\\u901a\\u8fc7\\u5e73\\u5747\\u65f6\\u957f\", \"x\": [\"8\", \"9\"], \"y\": [30.959999999999997, 8.5], \"type\": \"scatter\", \"uid\": \"d24e471e-bbe2-11e8-adcf-a81e84e6c740\"}, {\"name\": \"xten\\u4e00\\u6b21\\u901a\\u8fc7\\u65f6\\u957f\", \"x\": [\"8\", \"9\"], \"y\": [22.52, 8.35], \"type\": \"scatter\", \"uid\": \"d24e4b06-bbe2-11e8-adcf-a81e84e6c740\"}, {\"name\": \"NovaS4\\u4e00\\u6b21\\u901a\\u8fc7\\u65f6\\u957f\", \"x\": [\"8\", \"9\"], \"y\": [39.099999999999994, 24.78], \"type\": \"scatter\", \"uid\": \"d24e4d86-bbe2-11e8-adcf-a81e84e6c740\"}],\n",
       "            {\"title\": \"\\u4e00\\u6b21\\u901a\\u8fc7\\u5e73\\u5747\\u65f6\\u957f&xten\\u4e00\\u6b21\\u901a\\u8fc7\\u65f6\\u957f&NovaS4\\u4e00\\u6b21\\u901a\\u8fc7\\u65f6\\u957f\\u6708\\u8d8b\\u52bf\\u56fe\", \"xaxis\": {\"mirror\": \"all\", \"nticks\": 20, \"showgrid\": true, \"showline\": true, \"title\": \"\\u6708\", \"zeroline\": true}, \"yaxis\": {\"mirror\": \"all\", \"nticks\": 20, \"showgrid\": true, \"showline\": true, \"title\": \"\\u4e00\\u6b21\\u901a\\u8fc7\\u5e73\\u5747\\u65f6\\u957f&xten\\u4e00\\u6b21\\u901a\\u8fc7\\u65f6\\u957f&NovaS4\\u4e00\\u6b21\\u901a\\u8fc7\\u65f6\\u957f\", \"zeroline\": true}},\n",
       "            {\"showLink\": true, \"linkText\": \"Export to plot.ly\"}\n",
       "        ).then(function () {return Plotly.addFrames('4a0abf78-8c0f-4278-88e1-2c934f2a03ea',{});}).then(function(){Plotly.animate('4a0abf78-8c0f-4278-88e1-2c934f2a03ea');})\n",
       "        });</script>"
      ],
      "text/vnd.plotly.v1+html": [
       "<div id=\"4a0abf78-8c0f-4278-88e1-2c934f2a03ea\" style=\"height: 525px; width: 100%;\" class=\"plotly-graph-div\"></div><script type=\"text/javascript\">require([\"plotly\"], function(Plotly) { window.PLOTLYENV=window.PLOTLYENV || {};window.PLOTLYENV.BASE_URL=\"https://plot.ly\";\n",
       "        Plotly.plot(\n",
       "            '4a0abf78-8c0f-4278-88e1-2c934f2a03ea',\n",
       "            [{\"name\": \"\\u4e00\\u6b21\\u901a\\u8fc7\\u5e73\\u5747\\u65f6\\u957f\", \"x\": [\"8\", \"9\"], \"y\": [30.959999999999997, 8.5], \"type\": \"scatter\", \"uid\": \"d24e471e-bbe2-11e8-adcf-a81e84e6c740\"}, {\"name\": \"xten\\u4e00\\u6b21\\u901a\\u8fc7\\u65f6\\u957f\", \"x\": [\"8\", \"9\"], \"y\": [22.52, 8.35], \"type\": \"scatter\", \"uid\": \"d24e4b06-bbe2-11e8-adcf-a81e84e6c740\"}, {\"name\": \"NovaS4\\u4e00\\u6b21\\u901a\\u8fc7\\u65f6\\u957f\", \"x\": [\"8\", \"9\"], \"y\": [39.099999999999994, 24.78], \"type\": \"scatter\", \"uid\": \"d24e4d86-bbe2-11e8-adcf-a81e84e6c740\"}],\n",
       "            {\"title\": \"\\u4e00\\u6b21\\u901a\\u8fc7\\u5e73\\u5747\\u65f6\\u957f&xten\\u4e00\\u6b21\\u901a\\u8fc7\\u65f6\\u957f&NovaS4\\u4e00\\u6b21\\u901a\\u8fc7\\u65f6\\u957f\\u6708\\u8d8b\\u52bf\\u56fe\", \"xaxis\": {\"mirror\": \"all\", \"nticks\": 20, \"showgrid\": true, \"showline\": true, \"title\": \"\\u6708\", \"zeroline\": true}, \"yaxis\": {\"mirror\": \"all\", \"nticks\": 20, \"showgrid\": true, \"showline\": true, \"title\": \"\\u4e00\\u6b21\\u901a\\u8fc7\\u5e73\\u5747\\u65f6\\u957f&xten\\u4e00\\u6b21\\u901a\\u8fc7\\u65f6\\u957f&NovaS4\\u4e00\\u6b21\\u901a\\u8fc7\\u65f6\\u957f\", \"zeroline\": true}},\n",
       "            {\"showLink\": true, \"linkText\": \"Export to plot.ly\"}\n",
       "        ).then(function () {return Plotly.addFrames('4a0abf78-8c0f-4278-88e1-2c934f2a03ea',{});}).then(function(){Plotly.animate('4a0abf78-8c0f-4278-88e1-2c934f2a03ea');})\n",
       "        });</script>"
      ]
     },
     "metadata": {},
     "output_type": "display_data"
    }
   ],
   "source": [
    "data_dict = {'一次通过平均时长':['一次通过平均时长'], 'xten一次通过时长':['xten一次通过时长'],\n",
    "             'NovaS4一次通过时长':['NovaS4一次通过时长']}\n",
    "myModule.plot( all_dict, data_dict, '人员' ,  'line' , all='all')"
   ]
  },
  {
   "cell_type": "markdown",
   "metadata": {},
   "source": [
    "### 异常"
   ]
  },
  {
   "cell_type": "markdown",
   "metadata": {},
   "source": [
    "####  测序异常，外来index错误，自建库index错误，lims系统错误，个性化拆分数"
   ]
  },
  {
   "cell_type": "code",
   "execution_count": 44,
   "metadata": {},
   "outputs": [
    {
     "data": {
      "application/vnd.plotly.v1+json": {
       "data": [
        {
         "name": "测序异常",
         "type": "scatter",
         "uid": "d27adbee-bbe2-11e8-adcf-a81e84e6c740",
         "x": [
          "8-1",
          "8-2",
          "8-3",
          "8-4",
          "8-5",
          "9-1",
          "9-2"
         ],
         "y": [
          10,
          17,
          19,
          12,
          11,
          10,
          6
         ]
        },
        {
         "name": "外来Index错误",
         "type": "scatter",
         "uid": "d27ae29c-bbe2-11e8-adcf-a81e84e6c740",
         "x": [
          "8-1",
          "8-2",
          "8-3",
          "8-4",
          "8-5",
          "9-1",
          "9-2"
         ],
         "y": [
          2,
          8,
          4,
          4,
          2,
          8,
          3
         ]
        },
        {
         "name": "自建库Index错误",
         "type": "scatter",
         "uid": "d27ae7ce-bbe2-11e8-adcf-a81e84e6c740",
         "x": [
          "8-1",
          "8-2",
          "8-3",
          "8-4",
          "8-5",
          "9-1",
          "9-2"
         ],
         "y": [
          0,
          2,
          0,
          2,
          2,
          1,
          0
         ]
        },
        {
         "name": "lims系统错误",
         "type": "scatter",
         "uid": "d27aec7e-bbe2-11e8-adcf-a81e84e6c740",
         "x": [
          "8-1",
          "8-2",
          "8-3",
          "8-4",
          "8-5",
          "9-1",
          "9-2"
         ],
         "y": [
          2,
          3,
          0,
          0,
          1,
          0,
          0
         ]
        },
        {
         "name": "个性化拆分数",
         "type": "scatter",
         "uid": "d27af11a-bbe2-11e8-adcf-a81e84e6c740",
         "x": [
          "8-1",
          "8-2",
          "8-3",
          "8-4",
          "8-5",
          "9-1",
          "9-2"
         ],
         "y": [
          3,
          1,
          0,
          2,
          3,
          1,
          0
         ]
        }
       ],
       "layout": {
        "title": "测序异常&外来Index错误&自建库Index错误&lims系统错误&个性化拆分数周趋势图",
        "xaxis": {
         "mirror": "all",
         "nticks": 20,
         "showgrid": true,
         "showline": true,
         "title": "周",
         "zeroline": true
        },
        "yaxis": {
         "mirror": "all",
         "nticks": 20,
         "showgrid": true,
         "showline": true,
         "title": "测序异常&外来Index错误&自建库Index错误&lims系统错误&个性化拆分数",
         "zeroline": true
        }
       }
      },
      "text/html": [
       "<div id=\"7e55a0cd-b38a-4043-adc4-dfbb8a8c3f8d\" style=\"height: 525px; width: 100%;\" class=\"plotly-graph-div\"></div><script type=\"text/javascript\">require([\"plotly\"], function(Plotly) { window.PLOTLYENV=window.PLOTLYENV || {};window.PLOTLYENV.BASE_URL=\"https://plot.ly\";\n",
       "        Plotly.plot(\n",
       "            '7e55a0cd-b38a-4043-adc4-dfbb8a8c3f8d',\n",
       "            [{\"name\": \"\\u6d4b\\u5e8f\\u5f02\\u5e38\", \"x\": [\"8-1\", \"8-2\", \"8-3\", \"8-4\", \"8-5\", \"9-1\", \"9-2\"], \"y\": [10.0, 17.0, 19.0, 12.0, 11.0, 10.0, 6.0], \"type\": \"scatter\", \"uid\": \"d27adbee-bbe2-11e8-adcf-a81e84e6c740\"}, {\"name\": \"\\u5916\\u6765Index\\u9519\\u8bef\", \"x\": [\"8-1\", \"8-2\", \"8-3\", \"8-4\", \"8-5\", \"9-1\", \"9-2\"], \"y\": [2.0, 8.0, 4.0, 4.0, 2.0, 8.0, 3.0], \"type\": \"scatter\", \"uid\": \"d27ae29c-bbe2-11e8-adcf-a81e84e6c740\"}, {\"name\": \"\\u81ea\\u5efa\\u5e93Index\\u9519\\u8bef\", \"x\": [\"8-1\", \"8-2\", \"8-3\", \"8-4\", \"8-5\", \"9-1\", \"9-2\"], \"y\": [0.0, 2.0, 0.0, 2.0, 2.0, 1.0, 0.0], \"type\": \"scatter\", \"uid\": \"d27ae7ce-bbe2-11e8-adcf-a81e84e6c740\"}, {\"name\": \"lims\\u7cfb\\u7edf\\u9519\\u8bef\", \"x\": [\"8-1\", \"8-2\", \"8-3\", \"8-4\", \"8-5\", \"9-1\", \"9-2\"], \"y\": [2.0, 3.0, 0.0, 0.0, 1.0, 0.0, 0.0], \"type\": \"scatter\", \"uid\": \"d27aec7e-bbe2-11e8-adcf-a81e84e6c740\"}, {\"name\": \"\\u4e2a\\u6027\\u5316\\u62c6\\u5206\\u6570\", \"x\": [\"8-1\", \"8-2\", \"8-3\", \"8-4\", \"8-5\", \"9-1\", \"9-2\"], \"y\": [3.0, 1.0, 0.0, 2.0, 3.0, 1.0, 0.0], \"type\": \"scatter\", \"uid\": \"d27af11a-bbe2-11e8-adcf-a81e84e6c740\"}],\n",
       "            {\"title\": \"\\u6d4b\\u5e8f\\u5f02\\u5e38&\\u5916\\u6765Index\\u9519\\u8bef&\\u81ea\\u5efa\\u5e93Index\\u9519\\u8bef&lims\\u7cfb\\u7edf\\u9519\\u8bef&\\u4e2a\\u6027\\u5316\\u62c6\\u5206\\u6570\\u5468\\u8d8b\\u52bf\\u56fe\", \"xaxis\": {\"mirror\": \"all\", \"nticks\": 20, \"showgrid\": true, \"showline\": true, \"title\": \"\\u5468\", \"zeroline\": true}, \"yaxis\": {\"mirror\": \"all\", \"nticks\": 20, \"showgrid\": true, \"showline\": true, \"title\": \"\\u6d4b\\u5e8f\\u5f02\\u5e38&\\u5916\\u6765Index\\u9519\\u8bef&\\u81ea\\u5efa\\u5e93Index\\u9519\\u8bef&lims\\u7cfb\\u7edf\\u9519\\u8bef&\\u4e2a\\u6027\\u5316\\u62c6\\u5206\\u6570\", \"zeroline\": true}},\n",
       "            {\"showLink\": true, \"linkText\": \"Export to plot.ly\"}\n",
       "        ).then(function () {return Plotly.addFrames('7e55a0cd-b38a-4043-adc4-dfbb8a8c3f8d',{});}).then(function(){Plotly.animate('7e55a0cd-b38a-4043-adc4-dfbb8a8c3f8d');})\n",
       "        });</script>"
      ],
      "text/vnd.plotly.v1+html": [
       "<div id=\"7e55a0cd-b38a-4043-adc4-dfbb8a8c3f8d\" style=\"height: 525px; width: 100%;\" class=\"plotly-graph-div\"></div><script type=\"text/javascript\">require([\"plotly\"], function(Plotly) { window.PLOTLYENV=window.PLOTLYENV || {};window.PLOTLYENV.BASE_URL=\"https://plot.ly\";\n",
       "        Plotly.plot(\n",
       "            '7e55a0cd-b38a-4043-adc4-dfbb8a8c3f8d',\n",
       "            [{\"name\": \"\\u6d4b\\u5e8f\\u5f02\\u5e38\", \"x\": [\"8-1\", \"8-2\", \"8-3\", \"8-4\", \"8-5\", \"9-1\", \"9-2\"], \"y\": [10.0, 17.0, 19.0, 12.0, 11.0, 10.0, 6.0], \"type\": \"scatter\", \"uid\": \"d27adbee-bbe2-11e8-adcf-a81e84e6c740\"}, {\"name\": \"\\u5916\\u6765Index\\u9519\\u8bef\", \"x\": [\"8-1\", \"8-2\", \"8-3\", \"8-4\", \"8-5\", \"9-1\", \"9-2\"], \"y\": [2.0, 8.0, 4.0, 4.0, 2.0, 8.0, 3.0], \"type\": \"scatter\", \"uid\": \"d27ae29c-bbe2-11e8-adcf-a81e84e6c740\"}, {\"name\": \"\\u81ea\\u5efa\\u5e93Index\\u9519\\u8bef\", \"x\": [\"8-1\", \"8-2\", \"8-3\", \"8-4\", \"8-5\", \"9-1\", \"9-2\"], \"y\": [0.0, 2.0, 0.0, 2.0, 2.0, 1.0, 0.0], \"type\": \"scatter\", \"uid\": \"d27ae7ce-bbe2-11e8-adcf-a81e84e6c740\"}, {\"name\": \"lims\\u7cfb\\u7edf\\u9519\\u8bef\", \"x\": [\"8-1\", \"8-2\", \"8-3\", \"8-4\", \"8-5\", \"9-1\", \"9-2\"], \"y\": [2.0, 3.0, 0.0, 0.0, 1.0, 0.0, 0.0], \"type\": \"scatter\", \"uid\": \"d27aec7e-bbe2-11e8-adcf-a81e84e6c740\"}, {\"name\": \"\\u4e2a\\u6027\\u5316\\u62c6\\u5206\\u6570\", \"x\": [\"8-1\", \"8-2\", \"8-3\", \"8-4\", \"8-5\", \"9-1\", \"9-2\"], \"y\": [3.0, 1.0, 0.0, 2.0, 3.0, 1.0, 0.0], \"type\": \"scatter\", \"uid\": \"d27af11a-bbe2-11e8-adcf-a81e84e6c740\"}],\n",
       "            {\"title\": \"\\u6d4b\\u5e8f\\u5f02\\u5e38&\\u5916\\u6765Index\\u9519\\u8bef&\\u81ea\\u5efa\\u5e93Index\\u9519\\u8bef&lims\\u7cfb\\u7edf\\u9519\\u8bef&\\u4e2a\\u6027\\u5316\\u62c6\\u5206\\u6570\\u5468\\u8d8b\\u52bf\\u56fe\", \"xaxis\": {\"mirror\": \"all\", \"nticks\": 20, \"showgrid\": true, \"showline\": true, \"title\": \"\\u5468\", \"zeroline\": true}, \"yaxis\": {\"mirror\": \"all\", \"nticks\": 20, \"showgrid\": true, \"showline\": true, \"title\": \"\\u6d4b\\u5e8f\\u5f02\\u5e38&\\u5916\\u6765Index\\u9519\\u8bef&\\u81ea\\u5efa\\u5e93Index\\u9519\\u8bef&lims\\u7cfb\\u7edf\\u9519\\u8bef&\\u4e2a\\u6027\\u5316\\u62c6\\u5206\\u6570\", \"zeroline\": true}},\n",
       "            {\"showLink\": true, \"linkText\": \"Export to plot.ly\"}\n",
       "        ).then(function () {return Plotly.addFrames('7e55a0cd-b38a-4043-adc4-dfbb8a8c3f8d',{});}).then(function(){Plotly.animate('7e55a0cd-b38a-4043-adc4-dfbb8a8c3f8d');})\n",
       "        });</script>"
      ]
     },
     "metadata": {},
     "output_type": "display_data"
    },
    {
     "data": {
      "application/vnd.plotly.v1+json": {
       "data": [
        {
         "name": "测序异常",
         "type": "scatter",
         "uid": "d291f856-bbe2-11e8-adcf-a81e84e6c740",
         "x": [
          "8",
          "9"
         ],
         "y": [
          69,
          16
         ]
        },
        {
         "name": "外来Index错误",
         "type": "scatter",
         "uid": "d291fd2e-bbe2-11e8-adcf-a81e84e6c740",
         "x": [
          "8",
          "9"
         ],
         "y": [
          20,
          11
         ]
        },
        {
         "name": "自建库Index错误",
         "type": "scatter",
         "uid": "d2920058-bbe2-11e8-adcf-a81e84e6c740",
         "x": [
          "8",
          "9"
         ],
         "y": [
          6,
          1
         ]
        },
        {
         "name": "lims系统错误",
         "type": "scatter",
         "uid": "d292033c-bbe2-11e8-adcf-a81e84e6c740",
         "x": [
          "8",
          "9"
         ],
         "y": [
          6,
          0
         ]
        },
        {
         "name": "个性化拆分数",
         "type": "scatter",
         "uid": "d292060c-bbe2-11e8-adcf-a81e84e6c740",
         "x": [
          "8",
          "9"
         ],
         "y": [
          9,
          1
         ]
        }
       ],
       "layout": {
        "title": "测序异常&外来Index错误&自建库Index错误&lims系统错误&个性化拆分数月趋势图",
        "xaxis": {
         "mirror": "all",
         "nticks": 20,
         "showgrid": true,
         "showline": true,
         "title": "月",
         "zeroline": true
        },
        "yaxis": {
         "mirror": "all",
         "nticks": 20,
         "showgrid": true,
         "showline": true,
         "title": "测序异常&外来Index错误&自建库Index错误&lims系统错误&个性化拆分数",
         "zeroline": true
        }
       }
      },
      "text/html": [
       "<div id=\"fe0771f0-7fec-4948-ad43-7d43f50e4d4b\" style=\"height: 525px; width: 100%;\" class=\"plotly-graph-div\"></div><script type=\"text/javascript\">require([\"plotly\"], function(Plotly) { window.PLOTLYENV=window.PLOTLYENV || {};window.PLOTLYENV.BASE_URL=\"https://plot.ly\";\n",
       "        Plotly.plot(\n",
       "            'fe0771f0-7fec-4948-ad43-7d43f50e4d4b',\n",
       "            [{\"name\": \"\\u6d4b\\u5e8f\\u5f02\\u5e38\", \"x\": [\"8\", \"9\"], \"y\": [69.0, 16.0], \"type\": \"scatter\", \"uid\": \"d291f856-bbe2-11e8-adcf-a81e84e6c740\"}, {\"name\": \"\\u5916\\u6765Index\\u9519\\u8bef\", \"x\": [\"8\", \"9\"], \"y\": [20.0, 11.0], \"type\": \"scatter\", \"uid\": \"d291fd2e-bbe2-11e8-adcf-a81e84e6c740\"}, {\"name\": \"\\u81ea\\u5efa\\u5e93Index\\u9519\\u8bef\", \"x\": [\"8\", \"9\"], \"y\": [6.0, 1.0], \"type\": \"scatter\", \"uid\": \"d2920058-bbe2-11e8-adcf-a81e84e6c740\"}, {\"name\": \"lims\\u7cfb\\u7edf\\u9519\\u8bef\", \"x\": [\"8\", \"9\"], \"y\": [6.0, 0.0], \"type\": \"scatter\", \"uid\": \"d292033c-bbe2-11e8-adcf-a81e84e6c740\"}, {\"name\": \"\\u4e2a\\u6027\\u5316\\u62c6\\u5206\\u6570\", \"x\": [\"8\", \"9\"], \"y\": [9.0, 1.0], \"type\": \"scatter\", \"uid\": \"d292060c-bbe2-11e8-adcf-a81e84e6c740\"}],\n",
       "            {\"title\": \"\\u6d4b\\u5e8f\\u5f02\\u5e38&\\u5916\\u6765Index\\u9519\\u8bef&\\u81ea\\u5efa\\u5e93Index\\u9519\\u8bef&lims\\u7cfb\\u7edf\\u9519\\u8bef&\\u4e2a\\u6027\\u5316\\u62c6\\u5206\\u6570\\u6708\\u8d8b\\u52bf\\u56fe\", \"xaxis\": {\"mirror\": \"all\", \"nticks\": 20, \"showgrid\": true, \"showline\": true, \"title\": \"\\u6708\", \"zeroline\": true}, \"yaxis\": {\"mirror\": \"all\", \"nticks\": 20, \"showgrid\": true, \"showline\": true, \"title\": \"\\u6d4b\\u5e8f\\u5f02\\u5e38&\\u5916\\u6765Index\\u9519\\u8bef&\\u81ea\\u5efa\\u5e93Index\\u9519\\u8bef&lims\\u7cfb\\u7edf\\u9519\\u8bef&\\u4e2a\\u6027\\u5316\\u62c6\\u5206\\u6570\", \"zeroline\": true}},\n",
       "            {\"showLink\": true, \"linkText\": \"Export to plot.ly\"}\n",
       "        ).then(function () {return Plotly.addFrames('fe0771f0-7fec-4948-ad43-7d43f50e4d4b',{});}).then(function(){Plotly.animate('fe0771f0-7fec-4948-ad43-7d43f50e4d4b');})\n",
       "        });</script>"
      ],
      "text/vnd.plotly.v1+html": [
       "<div id=\"fe0771f0-7fec-4948-ad43-7d43f50e4d4b\" style=\"height: 525px; width: 100%;\" class=\"plotly-graph-div\"></div><script type=\"text/javascript\">require([\"plotly\"], function(Plotly) { window.PLOTLYENV=window.PLOTLYENV || {};window.PLOTLYENV.BASE_URL=\"https://plot.ly\";\n",
       "        Plotly.plot(\n",
       "            'fe0771f0-7fec-4948-ad43-7d43f50e4d4b',\n",
       "            [{\"name\": \"\\u6d4b\\u5e8f\\u5f02\\u5e38\", \"x\": [\"8\", \"9\"], \"y\": [69.0, 16.0], \"type\": \"scatter\", \"uid\": \"d291f856-bbe2-11e8-adcf-a81e84e6c740\"}, {\"name\": \"\\u5916\\u6765Index\\u9519\\u8bef\", \"x\": [\"8\", \"9\"], \"y\": [20.0, 11.0], \"type\": \"scatter\", \"uid\": \"d291fd2e-bbe2-11e8-adcf-a81e84e6c740\"}, {\"name\": \"\\u81ea\\u5efa\\u5e93Index\\u9519\\u8bef\", \"x\": [\"8\", \"9\"], \"y\": [6.0, 1.0], \"type\": \"scatter\", \"uid\": \"d2920058-bbe2-11e8-adcf-a81e84e6c740\"}, {\"name\": \"lims\\u7cfb\\u7edf\\u9519\\u8bef\", \"x\": [\"8\", \"9\"], \"y\": [6.0, 0.0], \"type\": \"scatter\", \"uid\": \"d292033c-bbe2-11e8-adcf-a81e84e6c740\"}, {\"name\": \"\\u4e2a\\u6027\\u5316\\u62c6\\u5206\\u6570\", \"x\": [\"8\", \"9\"], \"y\": [9.0, 1.0], \"type\": \"scatter\", \"uid\": \"d292060c-bbe2-11e8-adcf-a81e84e6c740\"}],\n",
       "            {\"title\": \"\\u6d4b\\u5e8f\\u5f02\\u5e38&\\u5916\\u6765Index\\u9519\\u8bef&\\u81ea\\u5efa\\u5e93Index\\u9519\\u8bef&lims\\u7cfb\\u7edf\\u9519\\u8bef&\\u4e2a\\u6027\\u5316\\u62c6\\u5206\\u6570\\u6708\\u8d8b\\u52bf\\u56fe\", \"xaxis\": {\"mirror\": \"all\", \"nticks\": 20, \"showgrid\": true, \"showline\": true, \"title\": \"\\u6708\", \"zeroline\": true}, \"yaxis\": {\"mirror\": \"all\", \"nticks\": 20, \"showgrid\": true, \"showline\": true, \"title\": \"\\u6d4b\\u5e8f\\u5f02\\u5e38&\\u5916\\u6765Index\\u9519\\u8bef&\\u81ea\\u5efa\\u5e93Index\\u9519\\u8bef&lims\\u7cfb\\u7edf\\u9519\\u8bef&\\u4e2a\\u6027\\u5316\\u62c6\\u5206\\u6570\", \"zeroline\": true}},\n",
       "            {\"showLink\": true, \"linkText\": \"Export to plot.ly\"}\n",
       "        ).then(function () {return Plotly.addFrames('fe0771f0-7fec-4948-ad43-7d43f50e4d4b',{});}).then(function(){Plotly.animate('fe0771f0-7fec-4948-ad43-7d43f50e4d4b');})\n",
       "        });</script>"
      ]
     },
     "metadata": {},
     "output_type": "display_data"
    }
   ],
   "source": [
    "data_dict = {'测序异常':['测序异常'], '外来Index错误':['外来Index错误'], '自建库Index错误':['自建库Index错误'], \n",
    "             'lims系统错误':['lims系统错误'], '个性化拆分数':['个性化拆分数']}\n",
    "myModule.plot( all_dict, data_dict, '人员' ,  'line' , all='all')"
   ]
  },
  {
   "cell_type": "markdown",
   "metadata": {},
   "source": [
    "#### 拆分流程异常数，延期处理"
   ]
  },
  {
   "cell_type": "code",
   "execution_count": 45,
   "metadata": {},
   "outputs": [
    {
     "data": {
      "application/vnd.plotly.v1+json": {
       "data": [
        {
         "name": "拆分流程异常数",
         "type": "scatter",
         "uid": "d2b872c4-bbe2-11e8-adcf-a81e84e6c740",
         "x": [
          "8-1",
          "8-2",
          "8-3",
          "8-4",
          "8-5",
          "9-1",
          "9-2"
         ],
         "y": [
          2,
          0,
          1,
          0,
          4,
          2,
          0
         ]
        },
        {
         "name": "处理延期",
         "type": "scatter",
         "uid": "d2b87954-bbe2-11e8-adcf-a81e84e6c740",
         "x": [
          "8-1",
          "8-2",
          "8-3",
          "8-4",
          "8-5",
          "9-1",
          "9-2"
         ],
         "y": [
          0,
          0,
          0,
          0,
          0,
          0,
          0
         ]
        }
       ],
       "layout": {
        "title": "拆分流程异常数&处理延期周趋势图",
        "xaxis": {
         "mirror": "all",
         "nticks": 20,
         "showgrid": true,
         "showline": true,
         "title": "周",
         "zeroline": true
        },
        "yaxis": {
         "mirror": "all",
         "nticks": 20,
         "showgrid": true,
         "showline": true,
         "title": "拆分流程异常数&处理延期",
         "zeroline": true
        }
       }
      },
      "text/html": [
       "<div id=\"8c95655b-61b3-425c-b2c9-9863ea489cd4\" style=\"height: 525px; width: 100%;\" class=\"plotly-graph-div\"></div><script type=\"text/javascript\">require([\"plotly\"], function(Plotly) { window.PLOTLYENV=window.PLOTLYENV || {};window.PLOTLYENV.BASE_URL=\"https://plot.ly\";\n",
       "        Plotly.plot(\n",
       "            '8c95655b-61b3-425c-b2c9-9863ea489cd4',\n",
       "            [{\"name\": \"\\u62c6\\u5206\\u6d41\\u7a0b\\u5f02\\u5e38\\u6570\", \"x\": [\"8-1\", \"8-2\", \"8-3\", \"8-4\", \"8-5\", \"9-1\", \"9-2\"], \"y\": [2.0, 0.0, 1.0, 0.0, 4.0, 2.0, 0.0], \"type\": \"scatter\", \"uid\": \"d2b872c4-bbe2-11e8-adcf-a81e84e6c740\"}, {\"name\": \"\\u5904\\u7406\\u5ef6\\u671f\", \"x\": [\"8-1\", \"8-2\", \"8-3\", \"8-4\", \"8-5\", \"9-1\", \"9-2\"], \"y\": [0.0, 0.0, 0.0, 0.0, 0.0, 0.0, 0.0], \"type\": \"scatter\", \"uid\": \"d2b87954-bbe2-11e8-adcf-a81e84e6c740\"}],\n",
       "            {\"title\": \"\\u62c6\\u5206\\u6d41\\u7a0b\\u5f02\\u5e38\\u6570&\\u5904\\u7406\\u5ef6\\u671f\\u5468\\u8d8b\\u52bf\\u56fe\", \"xaxis\": {\"mirror\": \"all\", \"nticks\": 20, \"showgrid\": true, \"showline\": true, \"title\": \"\\u5468\", \"zeroline\": true}, \"yaxis\": {\"mirror\": \"all\", \"nticks\": 20, \"showgrid\": true, \"showline\": true, \"title\": \"\\u62c6\\u5206\\u6d41\\u7a0b\\u5f02\\u5e38\\u6570&\\u5904\\u7406\\u5ef6\\u671f\", \"zeroline\": true}},\n",
       "            {\"showLink\": true, \"linkText\": \"Export to plot.ly\"}\n",
       "        ).then(function () {return Plotly.addFrames('8c95655b-61b3-425c-b2c9-9863ea489cd4',{});}).then(function(){Plotly.animate('8c95655b-61b3-425c-b2c9-9863ea489cd4');})\n",
       "        });</script>"
      ],
      "text/vnd.plotly.v1+html": [
       "<div id=\"8c95655b-61b3-425c-b2c9-9863ea489cd4\" style=\"height: 525px; width: 100%;\" class=\"plotly-graph-div\"></div><script type=\"text/javascript\">require([\"plotly\"], function(Plotly) { window.PLOTLYENV=window.PLOTLYENV || {};window.PLOTLYENV.BASE_URL=\"https://plot.ly\";\n",
       "        Plotly.plot(\n",
       "            '8c95655b-61b3-425c-b2c9-9863ea489cd4',\n",
       "            [{\"name\": \"\\u62c6\\u5206\\u6d41\\u7a0b\\u5f02\\u5e38\\u6570\", \"x\": [\"8-1\", \"8-2\", \"8-3\", \"8-4\", \"8-5\", \"9-1\", \"9-2\"], \"y\": [2.0, 0.0, 1.0, 0.0, 4.0, 2.0, 0.0], \"type\": \"scatter\", \"uid\": \"d2b872c4-bbe2-11e8-adcf-a81e84e6c740\"}, {\"name\": \"\\u5904\\u7406\\u5ef6\\u671f\", \"x\": [\"8-1\", \"8-2\", \"8-3\", \"8-4\", \"8-5\", \"9-1\", \"9-2\"], \"y\": [0.0, 0.0, 0.0, 0.0, 0.0, 0.0, 0.0], \"type\": \"scatter\", \"uid\": \"d2b87954-bbe2-11e8-adcf-a81e84e6c740\"}],\n",
       "            {\"title\": \"\\u62c6\\u5206\\u6d41\\u7a0b\\u5f02\\u5e38\\u6570&\\u5904\\u7406\\u5ef6\\u671f\\u5468\\u8d8b\\u52bf\\u56fe\", \"xaxis\": {\"mirror\": \"all\", \"nticks\": 20, \"showgrid\": true, \"showline\": true, \"title\": \"\\u5468\", \"zeroline\": true}, \"yaxis\": {\"mirror\": \"all\", \"nticks\": 20, \"showgrid\": true, \"showline\": true, \"title\": \"\\u62c6\\u5206\\u6d41\\u7a0b\\u5f02\\u5e38\\u6570&\\u5904\\u7406\\u5ef6\\u671f\", \"zeroline\": true}},\n",
       "            {\"showLink\": true, \"linkText\": \"Export to plot.ly\"}\n",
       "        ).then(function () {return Plotly.addFrames('8c95655b-61b3-425c-b2c9-9863ea489cd4',{});}).then(function(){Plotly.animate('8c95655b-61b3-425c-b2c9-9863ea489cd4');})\n",
       "        });</script>"
      ]
     },
     "metadata": {},
     "output_type": "display_data"
    },
    {
     "data": {
      "application/vnd.plotly.v1+json": {
       "data": [
        {
         "name": "拆分流程异常数",
         "type": "scatter",
         "uid": "d2c7aeec-bbe2-11e8-adcf-a81e84e6c740",
         "x": [
          "8",
          "9"
         ],
         "y": [
          7,
          2
         ]
        },
        {
         "name": "处理延期",
         "type": "scatter",
         "uid": "d2c7b374-bbe2-11e8-adcf-a81e84e6c740",
         "x": [
          "8",
          "9"
         ],
         "y": [
          0,
          0
         ]
        }
       ],
       "layout": {
        "title": "拆分流程异常数&处理延期月趋势图",
        "xaxis": {
         "mirror": "all",
         "nticks": 20,
         "showgrid": true,
         "showline": true,
         "title": "月",
         "zeroline": true
        },
        "yaxis": {
         "mirror": "all",
         "nticks": 20,
         "showgrid": true,
         "showline": true,
         "title": "拆分流程异常数&处理延期",
         "zeroline": true
        }
       }
      },
      "text/html": [
       "<div id=\"33c9305f-420c-41b9-b9a5-9af7ecc5aba5\" style=\"height: 525px; width: 100%;\" class=\"plotly-graph-div\"></div><script type=\"text/javascript\">require([\"plotly\"], function(Plotly) { window.PLOTLYENV=window.PLOTLYENV || {};window.PLOTLYENV.BASE_URL=\"https://plot.ly\";\n",
       "        Plotly.plot(\n",
       "            '33c9305f-420c-41b9-b9a5-9af7ecc5aba5',\n",
       "            [{\"name\": \"\\u62c6\\u5206\\u6d41\\u7a0b\\u5f02\\u5e38\\u6570\", \"x\": [\"8\", \"9\"], \"y\": [7.0, 2.0], \"type\": \"scatter\", \"uid\": \"d2c7aeec-bbe2-11e8-adcf-a81e84e6c740\"}, {\"name\": \"\\u5904\\u7406\\u5ef6\\u671f\", \"x\": [\"8\", \"9\"], \"y\": [0.0, 0.0], \"type\": \"scatter\", \"uid\": \"d2c7b374-bbe2-11e8-adcf-a81e84e6c740\"}],\n",
       "            {\"title\": \"\\u62c6\\u5206\\u6d41\\u7a0b\\u5f02\\u5e38\\u6570&\\u5904\\u7406\\u5ef6\\u671f\\u6708\\u8d8b\\u52bf\\u56fe\", \"xaxis\": {\"mirror\": \"all\", \"nticks\": 20, \"showgrid\": true, \"showline\": true, \"title\": \"\\u6708\", \"zeroline\": true}, \"yaxis\": {\"mirror\": \"all\", \"nticks\": 20, \"showgrid\": true, \"showline\": true, \"title\": \"\\u62c6\\u5206\\u6d41\\u7a0b\\u5f02\\u5e38\\u6570&\\u5904\\u7406\\u5ef6\\u671f\", \"zeroline\": true}},\n",
       "            {\"showLink\": true, \"linkText\": \"Export to plot.ly\"}\n",
       "        ).then(function () {return Plotly.addFrames('33c9305f-420c-41b9-b9a5-9af7ecc5aba5',{});}).then(function(){Plotly.animate('33c9305f-420c-41b9-b9a5-9af7ecc5aba5');})\n",
       "        });</script>"
      ],
      "text/vnd.plotly.v1+html": [
       "<div id=\"33c9305f-420c-41b9-b9a5-9af7ecc5aba5\" style=\"height: 525px; width: 100%;\" class=\"plotly-graph-div\"></div><script type=\"text/javascript\">require([\"plotly\"], function(Plotly) { window.PLOTLYENV=window.PLOTLYENV || {};window.PLOTLYENV.BASE_URL=\"https://plot.ly\";\n",
       "        Plotly.plot(\n",
       "            '33c9305f-420c-41b9-b9a5-9af7ecc5aba5',\n",
       "            [{\"name\": \"\\u62c6\\u5206\\u6d41\\u7a0b\\u5f02\\u5e38\\u6570\", \"x\": [\"8\", \"9\"], \"y\": [7.0, 2.0], \"type\": \"scatter\", \"uid\": \"d2c7aeec-bbe2-11e8-adcf-a81e84e6c740\"}, {\"name\": \"\\u5904\\u7406\\u5ef6\\u671f\", \"x\": [\"8\", \"9\"], \"y\": [0.0, 0.0], \"type\": \"scatter\", \"uid\": \"d2c7b374-bbe2-11e8-adcf-a81e84e6c740\"}],\n",
       "            {\"title\": \"\\u62c6\\u5206\\u6d41\\u7a0b\\u5f02\\u5e38\\u6570&\\u5904\\u7406\\u5ef6\\u671f\\u6708\\u8d8b\\u52bf\\u56fe\", \"xaxis\": {\"mirror\": \"all\", \"nticks\": 20, \"showgrid\": true, \"showline\": true, \"title\": \"\\u6708\", \"zeroline\": true}, \"yaxis\": {\"mirror\": \"all\", \"nticks\": 20, \"showgrid\": true, \"showline\": true, \"title\": \"\\u62c6\\u5206\\u6d41\\u7a0b\\u5f02\\u5e38\\u6570&\\u5904\\u7406\\u5ef6\\u671f\", \"zeroline\": true}},\n",
       "            {\"showLink\": true, \"linkText\": \"Export to plot.ly\"}\n",
       "        ).then(function () {return Plotly.addFrames('33c9305f-420c-41b9-b9a5-9af7ecc5aba5',{});}).then(function(){Plotly.animate('33c9305f-420c-41b9-b9a5-9af7ecc5aba5');})\n",
       "        });</script>"
      ]
     },
     "metadata": {},
     "output_type": "display_data"
    }
   ],
   "source": [
    "data_dict = {'拆分流程异常数':['拆分流程异常数'], '处理延期':['处理延期']}\n",
    "myModule.plot( all_dict, data_dict, '人员' ,  'line' , all='all')"
   ]
  },
  {
   "cell_type": "code",
   "execution_count": 46,
   "metadata": {},
   "outputs": [],
   "source": [
    "all_files , title = myModule.get_title(pathway , 0 ) ##给路径\n",
    "all_dict = myModule.read_xlsx(all_files, 0 ) ## read all files"
   ]
  },
  {
   "cell_type": "markdown",
   "metadata": {},
   "source": [
    "# 过滤项目个人情况"
   ]
  },
  {
   "cell_type": "markdown",
   "metadata": {},
   "source": [
    "## 产能"
   ]
  },
  {
   "cell_type": "markdown",
   "metadata": {},
   "source": [
    "### 下机批次"
   ]
  },
  {
   "cell_type": "code",
   "execution_count": 47,
   "metadata": {},
   "outputs": [
    {
     "data": {
      "application/vnd.plotly.v1+json": {
       "data": [
        {
         "name": "卢楠_下机批次数",
         "type": "scatter",
         "uid": "d322c28c-bbe2-11e8-adcf-a81e84e6c740",
         "x": [
          "8-1",
          "8-2",
          "8-3",
          "8-4",
          "8-5",
          "9-1",
          "9-2"
         ],
         "y": [
          36,
          47,
          23,
          13,
          3,
          2,
          3
         ]
        },
        {
         "name": "卢楠_下机项目数",
         "type": "scatter",
         "uid": "d322c980-bbe2-11e8-adcf-a81e84e6c740",
         "x": [
          "8-1",
          "8-2",
          "8-3",
          "8-4",
          "8-5",
          "9-1",
          "9-2"
         ],
         "y": [
          26,
          34,
          21,
          13,
          2,
          1,
          2
         ]
        },
        {
         "name": "冷雪_下机批次数",
         "type": "scatter",
         "uid": "d322ce76-bbe2-11e8-adcf-a81e84e6c740",
         "x": [
          "8-1",
          "8-2",
          "8-3",
          "8-4",
          "8-5",
          "9-1",
          "9-2"
         ],
         "y": [
          38,
          58,
          66,
          28,
          5,
          58,
          76
         ]
        },
        {
         "name": "冷雪_下机项目数",
         "type": "scatter",
         "uid": "d322d20e-bbe2-11e8-adcf-a81e84e6c740",
         "x": [
          "8-1",
          "8-2",
          "8-3",
          "8-4",
          "8-5",
          "9-1",
          "9-2"
         ],
         "y": [
          31,
          49,
          51,
          26,
          2,
          54,
          63
         ]
        },
        {
         "name": "张悦_下机批次数",
         "type": "scatter",
         "uid": "d322d506-bbe2-11e8-adcf-a81e84e6c740",
         "x": [
          "8-1",
          "8-2",
          "8-3",
          "8-4",
          "8-5",
          "9-1",
          "9-2"
         ],
         "y": [
          2,
          2,
          1,
          1,
          7,
          4,
          0
         ]
        },
        {
         "name": "张悦_下机项目数",
         "type": "scatter",
         "uid": "d322d7e0-bbe2-11e8-adcf-a81e84e6c740",
         "x": [
          "8-1",
          "8-2",
          "8-3",
          "8-4",
          "8-5",
          "9-1",
          "9-2"
         ],
         "y": [
          1,
          1,
          1,
          1,
          5,
          2,
          0
         ]
        },
        {
         "name": "屈昂_下机批次数",
         "type": "scatter",
         "uid": "d322daa6-bbe2-11e8-adcf-a81e84e6c740",
         "x": [
          "8-1",
          "8-2",
          "8-3",
          "8-4",
          "8-5",
          "9-1",
          "9-2"
         ],
         "y": [
          42,
          74,
          75,
          119,
          85,
          135,
          45
         ]
        },
        {
         "name": "屈昂_下机项目数",
         "type": "scatter",
         "uid": "d322dd58-bbe2-11e8-adcf-a81e84e6c740",
         "x": [
          "8-1",
          "8-2",
          "8-3",
          "8-4",
          "8-5",
          "9-1",
          "9-2"
         ],
         "y": [
          36,
          62,
          62,
          96,
          76,
          117,
          38
         ]
        }
       ],
       "layout": {
        "title": "下机批次数&下机项目数周趋势图",
        "xaxis": {
         "mirror": "all",
         "nticks": 20,
         "showgrid": true,
         "showline": true,
         "title": "周",
         "zeroline": true
        },
        "yaxis": {
         "mirror": "all",
         "nticks": 20,
         "showgrid": true,
         "showline": true,
         "title": "下机批次数&下机项目数",
         "zeroline": true
        }
       }
      },
      "text/html": [
       "<div id=\"c0e7e013-8067-49cb-9b25-85050b5ea6fe\" style=\"height: 525px; width: 100%;\" class=\"plotly-graph-div\"></div><script type=\"text/javascript\">require([\"plotly\"], function(Plotly) { window.PLOTLYENV=window.PLOTLYENV || {};window.PLOTLYENV.BASE_URL=\"https://plot.ly\";\n",
       "        Plotly.plot(\n",
       "            'c0e7e013-8067-49cb-9b25-85050b5ea6fe',\n",
       "            [{\"name\": \"\\u5362\\u6960_\\u4e0b\\u673a\\u6279\\u6b21\\u6570\", \"x\": [\"8-1\", \"8-2\", \"8-3\", \"8-4\", \"8-5\", \"9-1\", \"9-2\"], \"y\": [36.0, 47.0, 23.0, 13.0, 3.0, 2.0, 3.0], \"type\": \"scatter\", \"uid\": \"d322c28c-bbe2-11e8-adcf-a81e84e6c740\"}, {\"name\": \"\\u5362\\u6960_\\u4e0b\\u673a\\u9879\\u76ee\\u6570\", \"x\": [\"8-1\", \"8-2\", \"8-3\", \"8-4\", \"8-5\", \"9-1\", \"9-2\"], \"y\": [26.0, 34.0, 21.0, 13.0, 2.0, 1.0, 2.0], \"type\": \"scatter\", \"uid\": \"d322c980-bbe2-11e8-adcf-a81e84e6c740\"}, {\"name\": \"\\u51b7\\u96ea_\\u4e0b\\u673a\\u6279\\u6b21\\u6570\", \"x\": [\"8-1\", \"8-2\", \"8-3\", \"8-4\", \"8-5\", \"9-1\", \"9-2\"], \"y\": [38.0, 58.0, 66.0, 28.0, 5.0, 58.0, 76.0], \"type\": \"scatter\", \"uid\": \"d322ce76-bbe2-11e8-adcf-a81e84e6c740\"}, {\"name\": \"\\u51b7\\u96ea_\\u4e0b\\u673a\\u9879\\u76ee\\u6570\", \"x\": [\"8-1\", \"8-2\", \"8-3\", \"8-4\", \"8-5\", \"9-1\", \"9-2\"], \"y\": [31.0, 49.0, 51.0, 26.0, 2.0, 54.0, 63.0], \"type\": \"scatter\", \"uid\": \"d322d20e-bbe2-11e8-adcf-a81e84e6c740\"}, {\"name\": \"\\u5f20\\u60a6_\\u4e0b\\u673a\\u6279\\u6b21\\u6570\", \"x\": [\"8-1\", \"8-2\", \"8-3\", \"8-4\", \"8-5\", \"9-1\", \"9-2\"], \"y\": [2.0, 2.0, 1.0, 1.0, 7.0, 4.0, 0.0], \"type\": \"scatter\", \"uid\": \"d322d506-bbe2-11e8-adcf-a81e84e6c740\"}, {\"name\": \"\\u5f20\\u60a6_\\u4e0b\\u673a\\u9879\\u76ee\\u6570\", \"x\": [\"8-1\", \"8-2\", \"8-3\", \"8-4\", \"8-5\", \"9-1\", \"9-2\"], \"y\": [1.0, 1.0, 1.0, 1.0, 5.0, 2.0, 0.0], \"type\": \"scatter\", \"uid\": \"d322d7e0-bbe2-11e8-adcf-a81e84e6c740\"}, {\"name\": \"\\u5c48\\u6602_\\u4e0b\\u673a\\u6279\\u6b21\\u6570\", \"x\": [\"8-1\", \"8-2\", \"8-3\", \"8-4\", \"8-5\", \"9-1\", \"9-2\"], \"y\": [42.0, 74.0, 75.0, 119.0, 85.0, 135.0, 45.0], \"type\": \"scatter\", \"uid\": \"d322daa6-bbe2-11e8-adcf-a81e84e6c740\"}, {\"name\": \"\\u5c48\\u6602_\\u4e0b\\u673a\\u9879\\u76ee\\u6570\", \"x\": [\"8-1\", \"8-2\", \"8-3\", \"8-4\", \"8-5\", \"9-1\", \"9-2\"], \"y\": [36.0, 62.0, 62.0, 96.0, 76.0, 117.0, 38.0], \"type\": \"scatter\", \"uid\": \"d322dd58-bbe2-11e8-adcf-a81e84e6c740\"}],\n",
       "            {\"title\": \"\\u4e0b\\u673a\\u6279\\u6b21\\u6570&\\u4e0b\\u673a\\u9879\\u76ee\\u6570\\u5468\\u8d8b\\u52bf\\u56fe\", \"xaxis\": {\"mirror\": \"all\", \"nticks\": 20, \"showgrid\": true, \"showline\": true, \"title\": \"\\u5468\", \"zeroline\": true}, \"yaxis\": {\"mirror\": \"all\", \"nticks\": 20, \"showgrid\": true, \"showline\": true, \"title\": \"\\u4e0b\\u673a\\u6279\\u6b21\\u6570&\\u4e0b\\u673a\\u9879\\u76ee\\u6570\", \"zeroline\": true}},\n",
       "            {\"showLink\": true, \"linkText\": \"Export to plot.ly\"}\n",
       "        ).then(function () {return Plotly.addFrames('c0e7e013-8067-49cb-9b25-85050b5ea6fe',{});}).then(function(){Plotly.animate('c0e7e013-8067-49cb-9b25-85050b5ea6fe');})\n",
       "        });</script>"
      ],
      "text/vnd.plotly.v1+html": [
       "<div id=\"c0e7e013-8067-49cb-9b25-85050b5ea6fe\" style=\"height: 525px; width: 100%;\" class=\"plotly-graph-div\"></div><script type=\"text/javascript\">require([\"plotly\"], function(Plotly) { window.PLOTLYENV=window.PLOTLYENV || {};window.PLOTLYENV.BASE_URL=\"https://plot.ly\";\n",
       "        Plotly.plot(\n",
       "            'c0e7e013-8067-49cb-9b25-85050b5ea6fe',\n",
       "            [{\"name\": \"\\u5362\\u6960_\\u4e0b\\u673a\\u6279\\u6b21\\u6570\", \"x\": [\"8-1\", \"8-2\", \"8-3\", \"8-4\", \"8-5\", \"9-1\", \"9-2\"], \"y\": [36.0, 47.0, 23.0, 13.0, 3.0, 2.0, 3.0], \"type\": \"scatter\", \"uid\": \"d322c28c-bbe2-11e8-adcf-a81e84e6c740\"}, {\"name\": \"\\u5362\\u6960_\\u4e0b\\u673a\\u9879\\u76ee\\u6570\", \"x\": [\"8-1\", \"8-2\", \"8-3\", \"8-4\", \"8-5\", \"9-1\", \"9-2\"], \"y\": [26.0, 34.0, 21.0, 13.0, 2.0, 1.0, 2.0], \"type\": \"scatter\", \"uid\": \"d322c980-bbe2-11e8-adcf-a81e84e6c740\"}, {\"name\": \"\\u51b7\\u96ea_\\u4e0b\\u673a\\u6279\\u6b21\\u6570\", \"x\": [\"8-1\", \"8-2\", \"8-3\", \"8-4\", \"8-5\", \"9-1\", \"9-2\"], \"y\": [38.0, 58.0, 66.0, 28.0, 5.0, 58.0, 76.0], \"type\": \"scatter\", \"uid\": \"d322ce76-bbe2-11e8-adcf-a81e84e6c740\"}, {\"name\": \"\\u51b7\\u96ea_\\u4e0b\\u673a\\u9879\\u76ee\\u6570\", \"x\": [\"8-1\", \"8-2\", \"8-3\", \"8-4\", \"8-5\", \"9-1\", \"9-2\"], \"y\": [31.0, 49.0, 51.0, 26.0, 2.0, 54.0, 63.0], \"type\": \"scatter\", \"uid\": \"d322d20e-bbe2-11e8-adcf-a81e84e6c740\"}, {\"name\": \"\\u5f20\\u60a6_\\u4e0b\\u673a\\u6279\\u6b21\\u6570\", \"x\": [\"8-1\", \"8-2\", \"8-3\", \"8-4\", \"8-5\", \"9-1\", \"9-2\"], \"y\": [2.0, 2.0, 1.0, 1.0, 7.0, 4.0, 0.0], \"type\": \"scatter\", \"uid\": \"d322d506-bbe2-11e8-adcf-a81e84e6c740\"}, {\"name\": \"\\u5f20\\u60a6_\\u4e0b\\u673a\\u9879\\u76ee\\u6570\", \"x\": [\"8-1\", \"8-2\", \"8-3\", \"8-4\", \"8-5\", \"9-1\", \"9-2\"], \"y\": [1.0, 1.0, 1.0, 1.0, 5.0, 2.0, 0.0], \"type\": \"scatter\", \"uid\": \"d322d7e0-bbe2-11e8-adcf-a81e84e6c740\"}, {\"name\": \"\\u5c48\\u6602_\\u4e0b\\u673a\\u6279\\u6b21\\u6570\", \"x\": [\"8-1\", \"8-2\", \"8-3\", \"8-4\", \"8-5\", \"9-1\", \"9-2\"], \"y\": [42.0, 74.0, 75.0, 119.0, 85.0, 135.0, 45.0], \"type\": \"scatter\", \"uid\": \"d322daa6-bbe2-11e8-adcf-a81e84e6c740\"}, {\"name\": \"\\u5c48\\u6602_\\u4e0b\\u673a\\u9879\\u76ee\\u6570\", \"x\": [\"8-1\", \"8-2\", \"8-3\", \"8-4\", \"8-5\", \"9-1\", \"9-2\"], \"y\": [36.0, 62.0, 62.0, 96.0, 76.0, 117.0, 38.0], \"type\": \"scatter\", \"uid\": \"d322dd58-bbe2-11e8-adcf-a81e84e6c740\"}],\n",
       "            {\"title\": \"\\u4e0b\\u673a\\u6279\\u6b21\\u6570&\\u4e0b\\u673a\\u9879\\u76ee\\u6570\\u5468\\u8d8b\\u52bf\\u56fe\", \"xaxis\": {\"mirror\": \"all\", \"nticks\": 20, \"showgrid\": true, \"showline\": true, \"title\": \"\\u5468\", \"zeroline\": true}, \"yaxis\": {\"mirror\": \"all\", \"nticks\": 20, \"showgrid\": true, \"showline\": true, \"title\": \"\\u4e0b\\u673a\\u6279\\u6b21\\u6570&\\u4e0b\\u673a\\u9879\\u76ee\\u6570\", \"zeroline\": true}},\n",
       "            {\"showLink\": true, \"linkText\": \"Export to plot.ly\"}\n",
       "        ).then(function () {return Plotly.addFrames('c0e7e013-8067-49cb-9b25-85050b5ea6fe',{});}).then(function(){Plotly.animate('c0e7e013-8067-49cb-9b25-85050b5ea6fe');})\n",
       "        });</script>"
      ]
     },
     "metadata": {},
     "output_type": "display_data"
    },
    {
     "data": {
      "application/vnd.plotly.v1+json": {
       "data": [
        {
         "name": "卢楠_下机批次数",
         "type": "scatter",
         "uid": "d34c5cfa-bbe2-11e8-adcf-a81e84e6c740",
         "x": [
          "8",
          "9"
         ],
         "y": [
          122,
          5
         ]
        },
        {
         "name": "卢楠_下机项目数",
         "type": "scatter",
         "uid": "d34c618c-bbe2-11e8-adcf-a81e84e6c740",
         "x": [
          "8",
          "9"
         ],
         "y": [
          96,
          3
         ]
        },
        {
         "name": "冷雪_下机批次数",
         "type": "scatter",
         "uid": "d34c64d4-bbe2-11e8-adcf-a81e84e6c740",
         "x": [
          "8",
          "9"
         ],
         "y": [
          195,
          134
         ]
        },
        {
         "name": "冷雪_下机项目数",
         "type": "scatter",
         "uid": "d34c67cc-bbe2-11e8-adcf-a81e84e6c740",
         "x": [
          "8",
          "9"
         ],
         "y": [
          159,
          117
         ]
        },
        {
         "name": "张悦_下机批次数",
         "type": "scatter",
         "uid": "d34c6ab0-bbe2-11e8-adcf-a81e84e6c740",
         "x": [
          "8",
          "9"
         ],
         "y": [
          13,
          4
         ]
        },
        {
         "name": "张悦_下机项目数",
         "type": "scatter",
         "uid": "d34c6d80-bbe2-11e8-adcf-a81e84e6c740",
         "x": [
          "8",
          "9"
         ],
         "y": [
          9,
          2
         ]
        },
        {
         "name": "屈昂_下机批次数",
         "type": "scatter",
         "uid": "d34c7046-bbe2-11e8-adcf-a81e84e6c740",
         "x": [
          "8",
          "9"
         ],
         "y": [
          395,
          180
         ]
        },
        {
         "name": "屈昂_下机项目数",
         "type": "scatter",
         "uid": "d34c7320-bbe2-11e8-adcf-a81e84e6c740",
         "x": [
          "8",
          "9"
         ],
         "y": [
          332,
          155
         ]
        }
       ],
       "layout": {
        "title": "下机批次数&下机项目数月趋势图",
        "xaxis": {
         "mirror": "all",
         "nticks": 20,
         "showgrid": true,
         "showline": true,
         "title": "月",
         "zeroline": true
        },
        "yaxis": {
         "mirror": "all",
         "nticks": 20,
         "showgrid": true,
         "showline": true,
         "title": "下机批次数&下机项目数",
         "zeroline": true
        }
       }
      },
      "text/html": [
       "<div id=\"8bbb09ab-aba2-4701-aca1-6783dcab3a92\" style=\"height: 525px; width: 100%;\" class=\"plotly-graph-div\"></div><script type=\"text/javascript\">require([\"plotly\"], function(Plotly) { window.PLOTLYENV=window.PLOTLYENV || {};window.PLOTLYENV.BASE_URL=\"https://plot.ly\";\n",
       "        Plotly.plot(\n",
       "            '8bbb09ab-aba2-4701-aca1-6783dcab3a92',\n",
       "            [{\"name\": \"\\u5362\\u6960_\\u4e0b\\u673a\\u6279\\u6b21\\u6570\", \"x\": [\"8\", \"9\"], \"y\": [122.0, 5.0], \"type\": \"scatter\", \"uid\": \"d34c5cfa-bbe2-11e8-adcf-a81e84e6c740\"}, {\"name\": \"\\u5362\\u6960_\\u4e0b\\u673a\\u9879\\u76ee\\u6570\", \"x\": [\"8\", \"9\"], \"y\": [96.0, 3.0], \"type\": \"scatter\", \"uid\": \"d34c618c-bbe2-11e8-adcf-a81e84e6c740\"}, {\"name\": \"\\u51b7\\u96ea_\\u4e0b\\u673a\\u6279\\u6b21\\u6570\", \"x\": [\"8\", \"9\"], \"y\": [195.0, 134.0], \"type\": \"scatter\", \"uid\": \"d34c64d4-bbe2-11e8-adcf-a81e84e6c740\"}, {\"name\": \"\\u51b7\\u96ea_\\u4e0b\\u673a\\u9879\\u76ee\\u6570\", \"x\": [\"8\", \"9\"], \"y\": [159.0, 117.0], \"type\": \"scatter\", \"uid\": \"d34c67cc-bbe2-11e8-adcf-a81e84e6c740\"}, {\"name\": \"\\u5f20\\u60a6_\\u4e0b\\u673a\\u6279\\u6b21\\u6570\", \"x\": [\"8\", \"9\"], \"y\": [13.0, 4.0], \"type\": \"scatter\", \"uid\": \"d34c6ab0-bbe2-11e8-adcf-a81e84e6c740\"}, {\"name\": \"\\u5f20\\u60a6_\\u4e0b\\u673a\\u9879\\u76ee\\u6570\", \"x\": [\"8\", \"9\"], \"y\": [9.0, 2.0], \"type\": \"scatter\", \"uid\": \"d34c6d80-bbe2-11e8-adcf-a81e84e6c740\"}, {\"name\": \"\\u5c48\\u6602_\\u4e0b\\u673a\\u6279\\u6b21\\u6570\", \"x\": [\"8\", \"9\"], \"y\": [395.0, 180.0], \"type\": \"scatter\", \"uid\": \"d34c7046-bbe2-11e8-adcf-a81e84e6c740\"}, {\"name\": \"\\u5c48\\u6602_\\u4e0b\\u673a\\u9879\\u76ee\\u6570\", \"x\": [\"8\", \"9\"], \"y\": [332.0, 155.0], \"type\": \"scatter\", \"uid\": \"d34c7320-bbe2-11e8-adcf-a81e84e6c740\"}],\n",
       "            {\"title\": \"\\u4e0b\\u673a\\u6279\\u6b21\\u6570&\\u4e0b\\u673a\\u9879\\u76ee\\u6570\\u6708\\u8d8b\\u52bf\\u56fe\", \"xaxis\": {\"mirror\": \"all\", \"nticks\": 20, \"showgrid\": true, \"showline\": true, \"title\": \"\\u6708\", \"zeroline\": true}, \"yaxis\": {\"mirror\": \"all\", \"nticks\": 20, \"showgrid\": true, \"showline\": true, \"title\": \"\\u4e0b\\u673a\\u6279\\u6b21\\u6570&\\u4e0b\\u673a\\u9879\\u76ee\\u6570\", \"zeroline\": true}},\n",
       "            {\"showLink\": true, \"linkText\": \"Export to plot.ly\"}\n",
       "        ).then(function () {return Plotly.addFrames('8bbb09ab-aba2-4701-aca1-6783dcab3a92',{});}).then(function(){Plotly.animate('8bbb09ab-aba2-4701-aca1-6783dcab3a92');})\n",
       "        });</script>"
      ],
      "text/vnd.plotly.v1+html": [
       "<div id=\"8bbb09ab-aba2-4701-aca1-6783dcab3a92\" style=\"height: 525px; width: 100%;\" class=\"plotly-graph-div\"></div><script type=\"text/javascript\">require([\"plotly\"], function(Plotly) { window.PLOTLYENV=window.PLOTLYENV || {};window.PLOTLYENV.BASE_URL=\"https://plot.ly\";\n",
       "        Plotly.plot(\n",
       "            '8bbb09ab-aba2-4701-aca1-6783dcab3a92',\n",
       "            [{\"name\": \"\\u5362\\u6960_\\u4e0b\\u673a\\u6279\\u6b21\\u6570\", \"x\": [\"8\", \"9\"], \"y\": [122.0, 5.0], \"type\": \"scatter\", \"uid\": \"d34c5cfa-bbe2-11e8-adcf-a81e84e6c740\"}, {\"name\": \"\\u5362\\u6960_\\u4e0b\\u673a\\u9879\\u76ee\\u6570\", \"x\": [\"8\", \"9\"], \"y\": [96.0, 3.0], \"type\": \"scatter\", \"uid\": \"d34c618c-bbe2-11e8-adcf-a81e84e6c740\"}, {\"name\": \"\\u51b7\\u96ea_\\u4e0b\\u673a\\u6279\\u6b21\\u6570\", \"x\": [\"8\", \"9\"], \"y\": [195.0, 134.0], \"type\": \"scatter\", \"uid\": \"d34c64d4-bbe2-11e8-adcf-a81e84e6c740\"}, {\"name\": \"\\u51b7\\u96ea_\\u4e0b\\u673a\\u9879\\u76ee\\u6570\", \"x\": [\"8\", \"9\"], \"y\": [159.0, 117.0], \"type\": \"scatter\", \"uid\": \"d34c67cc-bbe2-11e8-adcf-a81e84e6c740\"}, {\"name\": \"\\u5f20\\u60a6_\\u4e0b\\u673a\\u6279\\u6b21\\u6570\", \"x\": [\"8\", \"9\"], \"y\": [13.0, 4.0], \"type\": \"scatter\", \"uid\": \"d34c6ab0-bbe2-11e8-adcf-a81e84e6c740\"}, {\"name\": \"\\u5f20\\u60a6_\\u4e0b\\u673a\\u9879\\u76ee\\u6570\", \"x\": [\"8\", \"9\"], \"y\": [9.0, 2.0], \"type\": \"scatter\", \"uid\": \"d34c6d80-bbe2-11e8-adcf-a81e84e6c740\"}, {\"name\": \"\\u5c48\\u6602_\\u4e0b\\u673a\\u6279\\u6b21\\u6570\", \"x\": [\"8\", \"9\"], \"y\": [395.0, 180.0], \"type\": \"scatter\", \"uid\": \"d34c7046-bbe2-11e8-adcf-a81e84e6c740\"}, {\"name\": \"\\u5c48\\u6602_\\u4e0b\\u673a\\u9879\\u76ee\\u6570\", \"x\": [\"8\", \"9\"], \"y\": [332.0, 155.0], \"type\": \"scatter\", \"uid\": \"d34c7320-bbe2-11e8-adcf-a81e84e6c740\"}],\n",
       "            {\"title\": \"\\u4e0b\\u673a\\u6279\\u6b21\\u6570&\\u4e0b\\u673a\\u9879\\u76ee\\u6570\\u6708\\u8d8b\\u52bf\\u56fe\", \"xaxis\": {\"mirror\": \"all\", \"nticks\": 20, \"showgrid\": true, \"showline\": true, \"title\": \"\\u6708\", \"zeroline\": true}, \"yaxis\": {\"mirror\": \"all\", \"nticks\": 20, \"showgrid\": true, \"showline\": true, \"title\": \"\\u4e0b\\u673a\\u6279\\u6b21\\u6570&\\u4e0b\\u673a\\u9879\\u76ee\\u6570\", \"zeroline\": true}},\n",
       "            {\"showLink\": true, \"linkText\": \"Export to plot.ly\"}\n",
       "        ).then(function () {return Plotly.addFrames('8bbb09ab-aba2-4701-aca1-6783dcab3a92',{});}).then(function(){Plotly.animate('8bbb09ab-aba2-4701-aca1-6783dcab3a92');})\n",
       "        });</script>"
      ]
     },
     "metadata": {},
     "output_type": "display_data"
    }
   ],
   "source": [
    "data_dict = {'下机批次数':['下机批次数'],'下机项目数':['下机项目数']}\n",
    "myModule.plot( all_dict, data_dict, '人员' ,  'line' )"
   ]
  },
  {
   "cell_type": "markdown",
   "metadata": {},
   "source": [
    "## 效率"
   ]
  },
  {
   "cell_type": "markdown",
   "metadata": {},
   "source": [
    "### 反馈及时率和数据及时交付率"
   ]
  },
  {
   "cell_type": "code",
   "execution_count": 48,
   "metadata": {},
   "outputs": [
    {
     "data": {
      "application/vnd.plotly.v1+json": {
       "data": [
        {
         "name": "卢楠_反馈及时率",
         "type": "scatter",
         "uid": "d39914f0-bbe2-11e8-adcf-a81e84e6c740",
         "x": [
          "8-1",
          "8-2",
          "8-3",
          "8-4",
          "8-5",
          "9-1",
          "9-2"
         ],
         "y": [
          1,
          0.9574468085106383,
          0.9565217391304348,
          1,
          1,
          1,
          1
         ]
        },
        {
         "name": "卢楠_数据及时交付率",
         "type": "scatter",
         "uid": "d3991824-bbe2-11e8-adcf-a81e84e6c740",
         "x": [
          "8-1",
          "8-2",
          "8-3",
          "8-4",
          "8-5",
          "9-1",
          "9-2"
         ],
         "y": [
          1,
          1,
          1,
          1,
          1,
          1,
          1
         ]
        },
        {
         "name": "冷雪_反馈及时率",
         "type": "scatter",
         "uid": "d3991ab8-bbe2-11e8-adcf-a81e84e6c740",
         "x": [
          "8-1",
          "8-2",
          "8-3",
          "8-4",
          "8-5",
          "9-1",
          "9-2"
         ],
         "y": [
          0.9210526315789473,
          0.9655172413793104,
          1,
          1,
          1,
          0.9827586206896551,
          0.8947368421052632
         ]
        },
        {
         "name": "冷雪_数据及时交付率",
         "type": "scatter",
         "uid": "d3991cde-bbe2-11e8-adcf-a81e84e6c740",
         "x": [
          "8-1",
          "8-2",
          "8-3",
          "8-4",
          "8-5",
          "9-1",
          "9-2"
         ],
         "y": [
          1,
          1,
          1,
          1,
          1,
          1,
          1
         ]
        },
        {
         "name": "张悦_反馈及时率",
         "type": "scatter",
         "uid": "d3991edc-bbe2-11e8-adcf-a81e84e6c740",
         "x": [
          "8-1",
          "8-2",
          "8-3",
          "8-4",
          "8-5",
          "9-1",
          "9-2"
         ],
         "y": [
          1,
          1,
          1,
          1,
          1,
          1,
          null
         ]
        },
        {
         "name": "张悦_数据及时交付率",
         "type": "scatter",
         "uid": "d39920da-bbe2-11e8-adcf-a81e84e6c740",
         "x": [
          "8-1",
          "8-2",
          "8-3",
          "8-4",
          "8-5",
          "9-1",
          "9-2"
         ],
         "y": [
          1,
          1,
          1,
          1,
          1,
          1,
          null
         ]
        },
        {
         "name": "屈昂_反馈及时率",
         "type": "scatter",
         "uid": "d39922ce-bbe2-11e8-adcf-a81e84e6c740",
         "x": [
          "8-1",
          "8-2",
          "8-3",
          "8-4",
          "8-5",
          "9-1",
          "9-2"
         ],
         "y": [
          0.9761904761904762,
          0.972972972972973,
          0.9866666666666667,
          0.957983193277311,
          0.9176470588235294,
          0.9851851851851852,
          0.9777777777777777
         ]
        },
        {
         "name": "屈昂_数据及时交付率",
         "type": "scatter",
         "uid": "d39924b8-bbe2-11e8-adcf-a81e84e6c740",
         "x": [
          "8-1",
          "8-2",
          "8-3",
          "8-4",
          "8-5",
          "9-1",
          "9-2"
         ],
         "y": [
          1,
          1,
          1,
          1,
          1,
          1,
          1
         ]
        }
       ],
       "layout": {
        "title": "反馈及时率&数据及时交付率周趋势图",
        "xaxis": {
         "mirror": "all",
         "nticks": 20,
         "showgrid": true,
         "showline": true,
         "title": "周",
         "zeroline": true
        },
        "yaxis": {
         "mirror": "all",
         "nticks": 20,
         "showgrid": true,
         "showline": true,
         "title": "反馈及时率&数据及时交付率",
         "zeroline": true
        }
       }
      },
      "text/html": [
       "<div id=\"bbcc68c6-7b16-4cbd-b55e-3ca2530e2626\" style=\"height: 525px; width: 100%;\" class=\"plotly-graph-div\"></div><script type=\"text/javascript\">require([\"plotly\"], function(Plotly) { window.PLOTLYENV=window.PLOTLYENV || {};window.PLOTLYENV.BASE_URL=\"https://plot.ly\";\n",
       "        Plotly.plot(\n",
       "            'bbcc68c6-7b16-4cbd-b55e-3ca2530e2626',\n",
       "            [{\"name\": \"\\u5362\\u6960_\\u53cd\\u9988\\u53ca\\u65f6\\u7387\", \"x\": [\"8-1\", \"8-2\", \"8-3\", \"8-4\", \"8-5\", \"9-1\", \"9-2\"], \"y\": [1.0, 0.9574468085106383, 0.9565217391304348, 1.0, 1.0, 1.0, 1.0], \"type\": \"scatter\", \"uid\": \"d39914f0-bbe2-11e8-adcf-a81e84e6c740\"}, {\"name\": \"\\u5362\\u6960_\\u6570\\u636e\\u53ca\\u65f6\\u4ea4\\u4ed8\\u7387\", \"x\": [\"8-1\", \"8-2\", \"8-3\", \"8-4\", \"8-5\", \"9-1\", \"9-2\"], \"y\": [1.0, 1.0, 1.0, 1.0, 1.0, 1.0, 1.0], \"type\": \"scatter\", \"uid\": \"d3991824-bbe2-11e8-adcf-a81e84e6c740\"}, {\"name\": \"\\u51b7\\u96ea_\\u53cd\\u9988\\u53ca\\u65f6\\u7387\", \"x\": [\"8-1\", \"8-2\", \"8-3\", \"8-4\", \"8-5\", \"9-1\", \"9-2\"], \"y\": [0.9210526315789473, 0.9655172413793104, 1.0, 1.0, 1.0, 0.9827586206896551, 0.8947368421052632], \"type\": \"scatter\", \"uid\": \"d3991ab8-bbe2-11e8-adcf-a81e84e6c740\"}, {\"name\": \"\\u51b7\\u96ea_\\u6570\\u636e\\u53ca\\u65f6\\u4ea4\\u4ed8\\u7387\", \"x\": [\"8-1\", \"8-2\", \"8-3\", \"8-4\", \"8-5\", \"9-1\", \"9-2\"], \"y\": [1.0, 1.0, 1.0, 1.0, 1.0, 1.0, 1.0], \"type\": \"scatter\", \"uid\": \"d3991cde-bbe2-11e8-adcf-a81e84e6c740\"}, {\"name\": \"\\u5f20\\u60a6_\\u53cd\\u9988\\u53ca\\u65f6\\u7387\", \"x\": [\"8-1\", \"8-2\", \"8-3\", \"8-4\", \"8-5\", \"9-1\", \"9-2\"], \"y\": [1.0, 1.0, 1.0, 1.0, 1.0, 1.0, null], \"type\": \"scatter\", \"uid\": \"d3991edc-bbe2-11e8-adcf-a81e84e6c740\"}, {\"name\": \"\\u5f20\\u60a6_\\u6570\\u636e\\u53ca\\u65f6\\u4ea4\\u4ed8\\u7387\", \"x\": [\"8-1\", \"8-2\", \"8-3\", \"8-4\", \"8-5\", \"9-1\", \"9-2\"], \"y\": [1.0, 1.0, 1.0, 1.0, 1.0, 1.0, null], \"type\": \"scatter\", \"uid\": \"d39920da-bbe2-11e8-adcf-a81e84e6c740\"}, {\"name\": \"\\u5c48\\u6602_\\u53cd\\u9988\\u53ca\\u65f6\\u7387\", \"x\": [\"8-1\", \"8-2\", \"8-3\", \"8-4\", \"8-5\", \"9-1\", \"9-2\"], \"y\": [0.9761904761904762, 0.972972972972973, 0.9866666666666667, 0.957983193277311, 0.9176470588235294, 0.9851851851851852, 0.9777777777777777], \"type\": \"scatter\", \"uid\": \"d39922ce-bbe2-11e8-adcf-a81e84e6c740\"}, {\"name\": \"\\u5c48\\u6602_\\u6570\\u636e\\u53ca\\u65f6\\u4ea4\\u4ed8\\u7387\", \"x\": [\"8-1\", \"8-2\", \"8-3\", \"8-4\", \"8-5\", \"9-1\", \"9-2\"], \"y\": [1.0, 1.0, 1.0, 1.0, 1.0, 1.0, 1.0], \"type\": \"scatter\", \"uid\": \"d39924b8-bbe2-11e8-adcf-a81e84e6c740\"}],\n",
       "            {\"title\": \"\\u53cd\\u9988\\u53ca\\u65f6\\u7387&\\u6570\\u636e\\u53ca\\u65f6\\u4ea4\\u4ed8\\u7387\\u5468\\u8d8b\\u52bf\\u56fe\", \"xaxis\": {\"mirror\": \"all\", \"nticks\": 20, \"showgrid\": true, \"showline\": true, \"title\": \"\\u5468\", \"zeroline\": true}, \"yaxis\": {\"mirror\": \"all\", \"nticks\": 20, \"showgrid\": true, \"showline\": true, \"title\": \"\\u53cd\\u9988\\u53ca\\u65f6\\u7387&\\u6570\\u636e\\u53ca\\u65f6\\u4ea4\\u4ed8\\u7387\", \"zeroline\": true}},\n",
       "            {\"showLink\": true, \"linkText\": \"Export to plot.ly\"}\n",
       "        ).then(function () {return Plotly.addFrames('bbcc68c6-7b16-4cbd-b55e-3ca2530e2626',{});}).then(function(){Plotly.animate('bbcc68c6-7b16-4cbd-b55e-3ca2530e2626');})\n",
       "        });</script>"
      ],
      "text/vnd.plotly.v1+html": [
       "<div id=\"bbcc68c6-7b16-4cbd-b55e-3ca2530e2626\" style=\"height: 525px; width: 100%;\" class=\"plotly-graph-div\"></div><script type=\"text/javascript\">require([\"plotly\"], function(Plotly) { window.PLOTLYENV=window.PLOTLYENV || {};window.PLOTLYENV.BASE_URL=\"https://plot.ly\";\n",
       "        Plotly.plot(\n",
       "            'bbcc68c6-7b16-4cbd-b55e-3ca2530e2626',\n",
       "            [{\"name\": \"\\u5362\\u6960_\\u53cd\\u9988\\u53ca\\u65f6\\u7387\", \"x\": [\"8-1\", \"8-2\", \"8-3\", \"8-4\", \"8-5\", \"9-1\", \"9-2\"], \"y\": [1.0, 0.9574468085106383, 0.9565217391304348, 1.0, 1.0, 1.0, 1.0], \"type\": \"scatter\", \"uid\": \"d39914f0-bbe2-11e8-adcf-a81e84e6c740\"}, {\"name\": \"\\u5362\\u6960_\\u6570\\u636e\\u53ca\\u65f6\\u4ea4\\u4ed8\\u7387\", \"x\": [\"8-1\", \"8-2\", \"8-3\", \"8-4\", \"8-5\", \"9-1\", \"9-2\"], \"y\": [1.0, 1.0, 1.0, 1.0, 1.0, 1.0, 1.0], \"type\": \"scatter\", \"uid\": \"d3991824-bbe2-11e8-adcf-a81e84e6c740\"}, {\"name\": \"\\u51b7\\u96ea_\\u53cd\\u9988\\u53ca\\u65f6\\u7387\", \"x\": [\"8-1\", \"8-2\", \"8-3\", \"8-4\", \"8-5\", \"9-1\", \"9-2\"], \"y\": [0.9210526315789473, 0.9655172413793104, 1.0, 1.0, 1.0, 0.9827586206896551, 0.8947368421052632], \"type\": \"scatter\", \"uid\": \"d3991ab8-bbe2-11e8-adcf-a81e84e6c740\"}, {\"name\": \"\\u51b7\\u96ea_\\u6570\\u636e\\u53ca\\u65f6\\u4ea4\\u4ed8\\u7387\", \"x\": [\"8-1\", \"8-2\", \"8-3\", \"8-4\", \"8-5\", \"9-1\", \"9-2\"], \"y\": [1.0, 1.0, 1.0, 1.0, 1.0, 1.0, 1.0], \"type\": \"scatter\", \"uid\": \"d3991cde-bbe2-11e8-adcf-a81e84e6c740\"}, {\"name\": \"\\u5f20\\u60a6_\\u53cd\\u9988\\u53ca\\u65f6\\u7387\", \"x\": [\"8-1\", \"8-2\", \"8-3\", \"8-4\", \"8-5\", \"9-1\", \"9-2\"], \"y\": [1.0, 1.0, 1.0, 1.0, 1.0, 1.0, null], \"type\": \"scatter\", \"uid\": \"d3991edc-bbe2-11e8-adcf-a81e84e6c740\"}, {\"name\": \"\\u5f20\\u60a6_\\u6570\\u636e\\u53ca\\u65f6\\u4ea4\\u4ed8\\u7387\", \"x\": [\"8-1\", \"8-2\", \"8-3\", \"8-4\", \"8-5\", \"9-1\", \"9-2\"], \"y\": [1.0, 1.0, 1.0, 1.0, 1.0, 1.0, null], \"type\": \"scatter\", \"uid\": \"d39920da-bbe2-11e8-adcf-a81e84e6c740\"}, {\"name\": \"\\u5c48\\u6602_\\u53cd\\u9988\\u53ca\\u65f6\\u7387\", \"x\": [\"8-1\", \"8-2\", \"8-3\", \"8-4\", \"8-5\", \"9-1\", \"9-2\"], \"y\": [0.9761904761904762, 0.972972972972973, 0.9866666666666667, 0.957983193277311, 0.9176470588235294, 0.9851851851851852, 0.9777777777777777], \"type\": \"scatter\", \"uid\": \"d39922ce-bbe2-11e8-adcf-a81e84e6c740\"}, {\"name\": \"\\u5c48\\u6602_\\u6570\\u636e\\u53ca\\u65f6\\u4ea4\\u4ed8\\u7387\", \"x\": [\"8-1\", \"8-2\", \"8-3\", \"8-4\", \"8-5\", \"9-1\", \"9-2\"], \"y\": [1.0, 1.0, 1.0, 1.0, 1.0, 1.0, 1.0], \"type\": \"scatter\", \"uid\": \"d39924b8-bbe2-11e8-adcf-a81e84e6c740\"}],\n",
       "            {\"title\": \"\\u53cd\\u9988\\u53ca\\u65f6\\u7387&\\u6570\\u636e\\u53ca\\u65f6\\u4ea4\\u4ed8\\u7387\\u5468\\u8d8b\\u52bf\\u56fe\", \"xaxis\": {\"mirror\": \"all\", \"nticks\": 20, \"showgrid\": true, \"showline\": true, \"title\": \"\\u5468\", \"zeroline\": true}, \"yaxis\": {\"mirror\": \"all\", \"nticks\": 20, \"showgrid\": true, \"showline\": true, \"title\": \"\\u53cd\\u9988\\u53ca\\u65f6\\u7387&\\u6570\\u636e\\u53ca\\u65f6\\u4ea4\\u4ed8\\u7387\", \"zeroline\": true}},\n",
       "            {\"showLink\": true, \"linkText\": \"Export to plot.ly\"}\n",
       "        ).then(function () {return Plotly.addFrames('bbcc68c6-7b16-4cbd-b55e-3ca2530e2626',{});}).then(function(){Plotly.animate('bbcc68c6-7b16-4cbd-b55e-3ca2530e2626');})\n",
       "        });</script>"
      ]
     },
     "metadata": {},
     "output_type": "display_data"
    },
    {
     "data": {
      "application/vnd.plotly.v1+json": {
       "data": [
        {
         "name": "卢楠_反馈及时率",
         "type": "scatter",
         "uid": "d3bb902a-bbe2-11e8-adcf-a81e84e6c740",
         "x": [
          "8",
          "9"
         ],
         "y": [
          0.9754098360655737,
          1
         ]
        },
        {
         "name": "卢楠_数据及时交付率",
         "type": "scatter",
         "uid": "d3bb93cc-bbe2-11e8-adcf-a81e84e6c740",
         "x": [
          "8",
          "9"
         ],
         "y": [
          1,
          1
         ]
        },
        {
         "name": "冷雪_反馈及时率",
         "type": "scatter",
         "uid": "d3bb9638-bbe2-11e8-adcf-a81e84e6c740",
         "x": [
          "8",
          "9"
         ],
         "y": [
          0.9743589743589743,
          0.9328358208955224
         ]
        },
        {
         "name": "冷雪_数据及时交付率",
         "type": "scatter",
         "uid": "d3bb9854-bbe2-11e8-adcf-a81e84e6c740",
         "x": [
          "8",
          "9"
         ],
         "y": [
          1,
          1
         ]
        },
        {
         "name": "张悦_反馈及时率",
         "type": "scatter",
         "uid": "d3bb9aa2-bbe2-11e8-adcf-a81e84e6c740",
         "x": [
          "8",
          "9"
         ],
         "y": [
          1,
          1
         ]
        },
        {
         "name": "张悦_数据及时交付率",
         "type": "scatter",
         "uid": "d3bb9cb4-bbe2-11e8-adcf-a81e84e6c740",
         "x": [
          "8",
          "9"
         ],
         "y": [
          1,
          1
         ]
        },
        {
         "name": "屈昂_反馈及时率",
         "type": "scatter",
         "uid": "d3bb9ebc-bbe2-11e8-adcf-a81e84e6c740",
         "x": [
          "8",
          "9"
         ],
         "y": [
          0.959493670886076,
          0.9833333333333333
         ]
        },
        {
         "name": "屈昂_数据及时交付率",
         "type": "scatter",
         "uid": "d3bba0b0-bbe2-11e8-adcf-a81e84e6c740",
         "x": [
          "8",
          "9"
         ],
         "y": [
          1,
          1
         ]
        }
       ],
       "layout": {
        "title": "反馈及时率&数据及时交付率月趋势图",
        "xaxis": {
         "mirror": "all",
         "nticks": 20,
         "showgrid": true,
         "showline": true,
         "title": "月",
         "zeroline": true
        },
        "yaxis": {
         "mirror": "all",
         "nticks": 20,
         "showgrid": true,
         "showline": true,
         "title": "反馈及时率&数据及时交付率",
         "zeroline": true
        }
       }
      },
      "text/html": [
       "<div id=\"a8d08b06-f0ae-4f99-b014-c605935fb839\" style=\"height: 525px; width: 100%;\" class=\"plotly-graph-div\"></div><script type=\"text/javascript\">require([\"plotly\"], function(Plotly) { window.PLOTLYENV=window.PLOTLYENV || {};window.PLOTLYENV.BASE_URL=\"https://plot.ly\";\n",
       "        Plotly.plot(\n",
       "            'a8d08b06-f0ae-4f99-b014-c605935fb839',\n",
       "            [{\"name\": \"\\u5362\\u6960_\\u53cd\\u9988\\u53ca\\u65f6\\u7387\", \"x\": [\"8\", \"9\"], \"y\": [0.9754098360655737, 1.0], \"type\": \"scatter\", \"uid\": \"d3bb902a-bbe2-11e8-adcf-a81e84e6c740\"}, {\"name\": \"\\u5362\\u6960_\\u6570\\u636e\\u53ca\\u65f6\\u4ea4\\u4ed8\\u7387\", \"x\": [\"8\", \"9\"], \"y\": [1.0, 1.0], \"type\": \"scatter\", \"uid\": \"d3bb93cc-bbe2-11e8-adcf-a81e84e6c740\"}, {\"name\": \"\\u51b7\\u96ea_\\u53cd\\u9988\\u53ca\\u65f6\\u7387\", \"x\": [\"8\", \"9\"], \"y\": [0.9743589743589743, 0.9328358208955224], \"type\": \"scatter\", \"uid\": \"d3bb9638-bbe2-11e8-adcf-a81e84e6c740\"}, {\"name\": \"\\u51b7\\u96ea_\\u6570\\u636e\\u53ca\\u65f6\\u4ea4\\u4ed8\\u7387\", \"x\": [\"8\", \"9\"], \"y\": [1.0, 1.0], \"type\": \"scatter\", \"uid\": \"d3bb9854-bbe2-11e8-adcf-a81e84e6c740\"}, {\"name\": \"\\u5f20\\u60a6_\\u53cd\\u9988\\u53ca\\u65f6\\u7387\", \"x\": [\"8\", \"9\"], \"y\": [1.0, 1.0], \"type\": \"scatter\", \"uid\": \"d3bb9aa2-bbe2-11e8-adcf-a81e84e6c740\"}, {\"name\": \"\\u5f20\\u60a6_\\u6570\\u636e\\u53ca\\u65f6\\u4ea4\\u4ed8\\u7387\", \"x\": [\"8\", \"9\"], \"y\": [1.0, 1.0], \"type\": \"scatter\", \"uid\": \"d3bb9cb4-bbe2-11e8-adcf-a81e84e6c740\"}, {\"name\": \"\\u5c48\\u6602_\\u53cd\\u9988\\u53ca\\u65f6\\u7387\", \"x\": [\"8\", \"9\"], \"y\": [0.959493670886076, 0.9833333333333333], \"type\": \"scatter\", \"uid\": \"d3bb9ebc-bbe2-11e8-adcf-a81e84e6c740\"}, {\"name\": \"\\u5c48\\u6602_\\u6570\\u636e\\u53ca\\u65f6\\u4ea4\\u4ed8\\u7387\", \"x\": [\"8\", \"9\"], \"y\": [1.0, 1.0], \"type\": \"scatter\", \"uid\": \"d3bba0b0-bbe2-11e8-adcf-a81e84e6c740\"}],\n",
       "            {\"title\": \"\\u53cd\\u9988\\u53ca\\u65f6\\u7387&\\u6570\\u636e\\u53ca\\u65f6\\u4ea4\\u4ed8\\u7387\\u6708\\u8d8b\\u52bf\\u56fe\", \"xaxis\": {\"mirror\": \"all\", \"nticks\": 20, \"showgrid\": true, \"showline\": true, \"title\": \"\\u6708\", \"zeroline\": true}, \"yaxis\": {\"mirror\": \"all\", \"nticks\": 20, \"showgrid\": true, \"showline\": true, \"title\": \"\\u53cd\\u9988\\u53ca\\u65f6\\u7387&\\u6570\\u636e\\u53ca\\u65f6\\u4ea4\\u4ed8\\u7387\", \"zeroline\": true}},\n",
       "            {\"showLink\": true, \"linkText\": \"Export to plot.ly\"}\n",
       "        ).then(function () {return Plotly.addFrames('a8d08b06-f0ae-4f99-b014-c605935fb839',{});}).then(function(){Plotly.animate('a8d08b06-f0ae-4f99-b014-c605935fb839');})\n",
       "        });</script>"
      ],
      "text/vnd.plotly.v1+html": [
       "<div id=\"a8d08b06-f0ae-4f99-b014-c605935fb839\" style=\"height: 525px; width: 100%;\" class=\"plotly-graph-div\"></div><script type=\"text/javascript\">require([\"plotly\"], function(Plotly) { window.PLOTLYENV=window.PLOTLYENV || {};window.PLOTLYENV.BASE_URL=\"https://plot.ly\";\n",
       "        Plotly.plot(\n",
       "            'a8d08b06-f0ae-4f99-b014-c605935fb839',\n",
       "            [{\"name\": \"\\u5362\\u6960_\\u53cd\\u9988\\u53ca\\u65f6\\u7387\", \"x\": [\"8\", \"9\"], \"y\": [0.9754098360655737, 1.0], \"type\": \"scatter\", \"uid\": \"d3bb902a-bbe2-11e8-adcf-a81e84e6c740\"}, {\"name\": \"\\u5362\\u6960_\\u6570\\u636e\\u53ca\\u65f6\\u4ea4\\u4ed8\\u7387\", \"x\": [\"8\", \"9\"], \"y\": [1.0, 1.0], \"type\": \"scatter\", \"uid\": \"d3bb93cc-bbe2-11e8-adcf-a81e84e6c740\"}, {\"name\": \"\\u51b7\\u96ea_\\u53cd\\u9988\\u53ca\\u65f6\\u7387\", \"x\": [\"8\", \"9\"], \"y\": [0.9743589743589743, 0.9328358208955224], \"type\": \"scatter\", \"uid\": \"d3bb9638-bbe2-11e8-adcf-a81e84e6c740\"}, {\"name\": \"\\u51b7\\u96ea_\\u6570\\u636e\\u53ca\\u65f6\\u4ea4\\u4ed8\\u7387\", \"x\": [\"8\", \"9\"], \"y\": [1.0, 1.0], \"type\": \"scatter\", \"uid\": \"d3bb9854-bbe2-11e8-adcf-a81e84e6c740\"}, {\"name\": \"\\u5f20\\u60a6_\\u53cd\\u9988\\u53ca\\u65f6\\u7387\", \"x\": [\"8\", \"9\"], \"y\": [1.0, 1.0], \"type\": \"scatter\", \"uid\": \"d3bb9aa2-bbe2-11e8-adcf-a81e84e6c740\"}, {\"name\": \"\\u5f20\\u60a6_\\u6570\\u636e\\u53ca\\u65f6\\u4ea4\\u4ed8\\u7387\", \"x\": [\"8\", \"9\"], \"y\": [1.0, 1.0], \"type\": \"scatter\", \"uid\": \"d3bb9cb4-bbe2-11e8-adcf-a81e84e6c740\"}, {\"name\": \"\\u5c48\\u6602_\\u53cd\\u9988\\u53ca\\u65f6\\u7387\", \"x\": [\"8\", \"9\"], \"y\": [0.959493670886076, 0.9833333333333333], \"type\": \"scatter\", \"uid\": \"d3bb9ebc-bbe2-11e8-adcf-a81e84e6c740\"}, {\"name\": \"\\u5c48\\u6602_\\u6570\\u636e\\u53ca\\u65f6\\u4ea4\\u4ed8\\u7387\", \"x\": [\"8\", \"9\"], \"y\": [1.0, 1.0], \"type\": \"scatter\", \"uid\": \"d3bba0b0-bbe2-11e8-adcf-a81e84e6c740\"}],\n",
       "            {\"title\": \"\\u53cd\\u9988\\u53ca\\u65f6\\u7387&\\u6570\\u636e\\u53ca\\u65f6\\u4ea4\\u4ed8\\u7387\\u6708\\u8d8b\\u52bf\\u56fe\", \"xaxis\": {\"mirror\": \"all\", \"nticks\": 20, \"showgrid\": true, \"showline\": true, \"title\": \"\\u6708\", \"zeroline\": true}, \"yaxis\": {\"mirror\": \"all\", \"nticks\": 20, \"showgrid\": true, \"showline\": true, \"title\": \"\\u53cd\\u9988\\u53ca\\u65f6\\u7387&\\u6570\\u636e\\u53ca\\u65f6\\u4ea4\\u4ed8\\u7387\", \"zeroline\": true}},\n",
       "            {\"showLink\": true, \"linkText\": \"Export to plot.ly\"}\n",
       "        ).then(function () {return Plotly.addFrames('a8d08b06-f0ae-4f99-b014-c605935fb839',{});}).then(function(){Plotly.animate('a8d08b06-f0ae-4f99-b014-c605935fb839');})\n",
       "        });</script>"
      ]
     },
     "metadata": {},
     "output_type": "display_data"
    }
   ],
   "source": [
    "data_dict = {'反馈及时率':['及时反馈数','下机批次数'], '数据及时交付率':['数据及时交付数','数据交付总数']}\n",
    "myModule.plot( all_dict, data_dict, '人员' ,  'line' )"
   ]
  },
  {
   "cell_type": "markdown",
   "metadata": {},
   "source": [
    "### 24h拆分过滤率和28h拆分过滤率"
   ]
  },
  {
   "cell_type": "code",
   "execution_count": 49,
   "metadata": {},
   "outputs": [
    {
     "data": {
      "application/vnd.plotly.v1+json": {
       "data": [
        {
         "name": "卢楠_24h拆分过滤率",
         "type": "scatter",
         "uid": "d408cb9c-bbe2-11e8-adcf-a81e84e6c740",
         "x": [
          "8-1",
          "8-2",
          "8-3",
          "8-4",
          "8-5",
          "9-1",
          "9-2"
         ],
         "y": [
          0.6944444444444444,
          0.425531914893617,
          0.6086956521739131,
          1,
          1,
          1,
          0.6666666666666666
         ]
        },
        {
         "name": "卢楠_48h拆分过滤率",
         "type": "scatter",
         "uid": "d408d13c-bbe2-11e8-adcf-a81e84e6c740",
         "x": [
          "8-1",
          "8-2",
          "8-3",
          "8-4",
          "8-5",
          "9-1",
          "9-2"
         ],
         "y": [
          0.9444444444444444,
          0.723404255319149,
          0.9565217391304348,
          1,
          1,
          1,
          1
         ]
        },
        {
         "name": "冷雪_24h拆分过滤率",
         "type": "scatter",
         "uid": "d408d75e-bbe2-11e8-adcf-a81e84e6c740",
         "x": [
          "8-1",
          "8-2",
          "8-3",
          "8-4",
          "8-5",
          "9-1",
          "9-2"
         ],
         "y": [
          0.5789473684210527,
          0.603448275862069,
          0.7121212121212122,
          0.9642857142857143,
          0.4,
          0.8620689655172413,
          0.7368421052631579
         ]
        },
        {
         "name": "冷雪_48h拆分过滤率",
         "type": "scatter",
         "uid": "d408dc90-bbe2-11e8-adcf-a81e84e6c740",
         "x": [
          "8-1",
          "8-2",
          "8-3",
          "8-4",
          "8-5",
          "9-1",
          "9-2"
         ],
         "y": [
          0.868421052631579,
          0.8103448275862069,
          1,
          1,
          0.6,
          0.9655172413793104,
          0.9210526315789473
         ]
        },
        {
         "name": "张悦_24h拆分过滤率",
         "type": "scatter",
         "uid": "d408e186-bbe2-11e8-adcf-a81e84e6c740",
         "x": [
          "8-1",
          "8-2",
          "8-3",
          "8-4",
          "8-5",
          "9-1",
          "9-2"
         ],
         "y": [
          0,
          0.5,
          0,
          1,
          0.8571428571428571,
          0.75,
          null
         ]
        },
        {
         "name": "张悦_48h拆分过滤率",
         "type": "scatter",
         "uid": "d408e6b8-bbe2-11e8-adcf-a81e84e6c740",
         "x": [
          "8-1",
          "8-2",
          "8-3",
          "8-4",
          "8-5",
          "9-1",
          "9-2"
         ],
         "y": [
          1,
          1,
          1,
          1,
          1,
          1,
          null
         ]
        },
        {
         "name": "屈昂_24h拆分过滤率",
         "type": "scatter",
         "uid": "d408eb4a-bbe2-11e8-adcf-a81e84e6c740",
         "x": [
          "8-1",
          "8-2",
          "8-3",
          "8-4",
          "8-5",
          "9-1",
          "9-2"
         ],
         "y": [
          0.6428571428571429,
          0.5540540540540541,
          0.68,
          0.8991596638655462,
          0.7058823529411765,
          0.6666666666666666,
          0.8666666666666667
         ]
        },
        {
         "name": "屈昂_48h拆分过滤率",
         "type": "scatter",
         "uid": "d408f022-bbe2-11e8-adcf-a81e84e6c740",
         "x": [
          "8-1",
          "8-2",
          "8-3",
          "8-4",
          "8-5",
          "9-1",
          "9-2"
         ],
         "y": [
          0.9523809523809523,
          0.8648648648648649,
          0.96,
          0.9663865546218487,
          0.7764705882352941,
          0.7925925925925926,
          1
         ]
        }
       ],
       "layout": {
        "title": "24h拆分过滤率&48h拆分过滤率周趋势图",
        "xaxis": {
         "mirror": "all",
         "nticks": 20,
         "showgrid": true,
         "showline": true,
         "title": "周",
         "zeroline": true
        },
        "yaxis": {
         "mirror": "all",
         "nticks": 20,
         "showgrid": true,
         "showline": true,
         "title": "24h拆分过滤率&48h拆分过滤率",
         "zeroline": true
        }
       }
      },
      "text/html": [
       "<div id=\"aba4df4a-1ba2-4f2a-a4dc-aeab0c081401\" style=\"height: 525px; width: 100%;\" class=\"plotly-graph-div\"></div><script type=\"text/javascript\">require([\"plotly\"], function(Plotly) { window.PLOTLYENV=window.PLOTLYENV || {};window.PLOTLYENV.BASE_URL=\"https://plot.ly\";\n",
       "        Plotly.plot(\n",
       "            'aba4df4a-1ba2-4f2a-a4dc-aeab0c081401',\n",
       "            [{\"name\": \"\\u5362\\u6960_24h\\u62c6\\u5206\\u8fc7\\u6ee4\\u7387\", \"x\": [\"8-1\", \"8-2\", \"8-3\", \"8-4\", \"8-5\", \"9-1\", \"9-2\"], \"y\": [0.6944444444444444, 0.425531914893617, 0.6086956521739131, 1.0, 1.0, 1.0, 0.6666666666666666], \"type\": \"scatter\", \"uid\": \"d408cb9c-bbe2-11e8-adcf-a81e84e6c740\"}, {\"name\": \"\\u5362\\u6960_48h\\u62c6\\u5206\\u8fc7\\u6ee4\\u7387\", \"x\": [\"8-1\", \"8-2\", \"8-3\", \"8-4\", \"8-5\", \"9-1\", \"9-2\"], \"y\": [0.9444444444444444, 0.723404255319149, 0.9565217391304348, 1.0, 1.0, 1.0, 1.0], \"type\": \"scatter\", \"uid\": \"d408d13c-bbe2-11e8-adcf-a81e84e6c740\"}, {\"name\": \"\\u51b7\\u96ea_24h\\u62c6\\u5206\\u8fc7\\u6ee4\\u7387\", \"x\": [\"8-1\", \"8-2\", \"8-3\", \"8-4\", \"8-5\", \"9-1\", \"9-2\"], \"y\": [0.5789473684210527, 0.603448275862069, 0.7121212121212122, 0.9642857142857143, 0.4, 0.8620689655172413, 0.7368421052631579], \"type\": \"scatter\", \"uid\": \"d408d75e-bbe2-11e8-adcf-a81e84e6c740\"}, {\"name\": \"\\u51b7\\u96ea_48h\\u62c6\\u5206\\u8fc7\\u6ee4\\u7387\", \"x\": [\"8-1\", \"8-2\", \"8-3\", \"8-4\", \"8-5\", \"9-1\", \"9-2\"], \"y\": [0.868421052631579, 0.8103448275862069, 1.0, 1.0, 0.6, 0.9655172413793104, 0.9210526315789473], \"type\": \"scatter\", \"uid\": \"d408dc90-bbe2-11e8-adcf-a81e84e6c740\"}, {\"name\": \"\\u5f20\\u60a6_24h\\u62c6\\u5206\\u8fc7\\u6ee4\\u7387\", \"x\": [\"8-1\", \"8-2\", \"8-3\", \"8-4\", \"8-5\", \"9-1\", \"9-2\"], \"y\": [0.0, 0.5, 0.0, 1.0, 0.8571428571428571, 0.75, null], \"type\": \"scatter\", \"uid\": \"d408e186-bbe2-11e8-adcf-a81e84e6c740\"}, {\"name\": \"\\u5f20\\u60a6_48h\\u62c6\\u5206\\u8fc7\\u6ee4\\u7387\", \"x\": [\"8-1\", \"8-2\", \"8-3\", \"8-4\", \"8-5\", \"9-1\", \"9-2\"], \"y\": [1.0, 1.0, 1.0, 1.0, 1.0, 1.0, null], \"type\": \"scatter\", \"uid\": \"d408e6b8-bbe2-11e8-adcf-a81e84e6c740\"}, {\"name\": \"\\u5c48\\u6602_24h\\u62c6\\u5206\\u8fc7\\u6ee4\\u7387\", \"x\": [\"8-1\", \"8-2\", \"8-3\", \"8-4\", \"8-5\", \"9-1\", \"9-2\"], \"y\": [0.6428571428571429, 0.5540540540540541, 0.68, 0.8991596638655462, 0.7058823529411765, 0.6666666666666666, 0.8666666666666667], \"type\": \"scatter\", \"uid\": \"d408eb4a-bbe2-11e8-adcf-a81e84e6c740\"}, {\"name\": \"\\u5c48\\u6602_48h\\u62c6\\u5206\\u8fc7\\u6ee4\\u7387\", \"x\": [\"8-1\", \"8-2\", \"8-3\", \"8-4\", \"8-5\", \"9-1\", \"9-2\"], \"y\": [0.9523809523809523, 0.8648648648648649, 0.96, 0.9663865546218487, 0.7764705882352941, 0.7925925925925926, 1.0], \"type\": \"scatter\", \"uid\": \"d408f022-bbe2-11e8-adcf-a81e84e6c740\"}],\n",
       "            {\"title\": \"24h\\u62c6\\u5206\\u8fc7\\u6ee4\\u7387&48h\\u62c6\\u5206\\u8fc7\\u6ee4\\u7387\\u5468\\u8d8b\\u52bf\\u56fe\", \"xaxis\": {\"mirror\": \"all\", \"nticks\": 20, \"showgrid\": true, \"showline\": true, \"title\": \"\\u5468\", \"zeroline\": true}, \"yaxis\": {\"mirror\": \"all\", \"nticks\": 20, \"showgrid\": true, \"showline\": true, \"title\": \"24h\\u62c6\\u5206\\u8fc7\\u6ee4\\u7387&48h\\u62c6\\u5206\\u8fc7\\u6ee4\\u7387\", \"zeroline\": true}},\n",
       "            {\"showLink\": true, \"linkText\": \"Export to plot.ly\"}\n",
       "        ).then(function () {return Plotly.addFrames('aba4df4a-1ba2-4f2a-a4dc-aeab0c081401',{});}).then(function(){Plotly.animate('aba4df4a-1ba2-4f2a-a4dc-aeab0c081401');})\n",
       "        });</script>"
      ],
      "text/vnd.plotly.v1+html": [
       "<div id=\"aba4df4a-1ba2-4f2a-a4dc-aeab0c081401\" style=\"height: 525px; width: 100%;\" class=\"plotly-graph-div\"></div><script type=\"text/javascript\">require([\"plotly\"], function(Plotly) { window.PLOTLYENV=window.PLOTLYENV || {};window.PLOTLYENV.BASE_URL=\"https://plot.ly\";\n",
       "        Plotly.plot(\n",
       "            'aba4df4a-1ba2-4f2a-a4dc-aeab0c081401',\n",
       "            [{\"name\": \"\\u5362\\u6960_24h\\u62c6\\u5206\\u8fc7\\u6ee4\\u7387\", \"x\": [\"8-1\", \"8-2\", \"8-3\", \"8-4\", \"8-5\", \"9-1\", \"9-2\"], \"y\": [0.6944444444444444, 0.425531914893617, 0.6086956521739131, 1.0, 1.0, 1.0, 0.6666666666666666], \"type\": \"scatter\", \"uid\": \"d408cb9c-bbe2-11e8-adcf-a81e84e6c740\"}, {\"name\": \"\\u5362\\u6960_48h\\u62c6\\u5206\\u8fc7\\u6ee4\\u7387\", \"x\": [\"8-1\", \"8-2\", \"8-3\", \"8-4\", \"8-5\", \"9-1\", \"9-2\"], \"y\": [0.9444444444444444, 0.723404255319149, 0.9565217391304348, 1.0, 1.0, 1.0, 1.0], \"type\": \"scatter\", \"uid\": \"d408d13c-bbe2-11e8-adcf-a81e84e6c740\"}, {\"name\": \"\\u51b7\\u96ea_24h\\u62c6\\u5206\\u8fc7\\u6ee4\\u7387\", \"x\": [\"8-1\", \"8-2\", \"8-3\", \"8-4\", \"8-5\", \"9-1\", \"9-2\"], \"y\": [0.5789473684210527, 0.603448275862069, 0.7121212121212122, 0.9642857142857143, 0.4, 0.8620689655172413, 0.7368421052631579], \"type\": \"scatter\", \"uid\": \"d408d75e-bbe2-11e8-adcf-a81e84e6c740\"}, {\"name\": \"\\u51b7\\u96ea_48h\\u62c6\\u5206\\u8fc7\\u6ee4\\u7387\", \"x\": [\"8-1\", \"8-2\", \"8-3\", \"8-4\", \"8-5\", \"9-1\", \"9-2\"], \"y\": [0.868421052631579, 0.8103448275862069, 1.0, 1.0, 0.6, 0.9655172413793104, 0.9210526315789473], \"type\": \"scatter\", \"uid\": \"d408dc90-bbe2-11e8-adcf-a81e84e6c740\"}, {\"name\": \"\\u5f20\\u60a6_24h\\u62c6\\u5206\\u8fc7\\u6ee4\\u7387\", \"x\": [\"8-1\", \"8-2\", \"8-3\", \"8-4\", \"8-5\", \"9-1\", \"9-2\"], \"y\": [0.0, 0.5, 0.0, 1.0, 0.8571428571428571, 0.75, null], \"type\": \"scatter\", \"uid\": \"d408e186-bbe2-11e8-adcf-a81e84e6c740\"}, {\"name\": \"\\u5f20\\u60a6_48h\\u62c6\\u5206\\u8fc7\\u6ee4\\u7387\", \"x\": [\"8-1\", \"8-2\", \"8-3\", \"8-4\", \"8-5\", \"9-1\", \"9-2\"], \"y\": [1.0, 1.0, 1.0, 1.0, 1.0, 1.0, null], \"type\": \"scatter\", \"uid\": \"d408e6b8-bbe2-11e8-adcf-a81e84e6c740\"}, {\"name\": \"\\u5c48\\u6602_24h\\u62c6\\u5206\\u8fc7\\u6ee4\\u7387\", \"x\": [\"8-1\", \"8-2\", \"8-3\", \"8-4\", \"8-5\", \"9-1\", \"9-2\"], \"y\": [0.6428571428571429, 0.5540540540540541, 0.68, 0.8991596638655462, 0.7058823529411765, 0.6666666666666666, 0.8666666666666667], \"type\": \"scatter\", \"uid\": \"d408eb4a-bbe2-11e8-adcf-a81e84e6c740\"}, {\"name\": \"\\u5c48\\u6602_48h\\u62c6\\u5206\\u8fc7\\u6ee4\\u7387\", \"x\": [\"8-1\", \"8-2\", \"8-3\", \"8-4\", \"8-5\", \"9-1\", \"9-2\"], \"y\": [0.9523809523809523, 0.8648648648648649, 0.96, 0.9663865546218487, 0.7764705882352941, 0.7925925925925926, 1.0], \"type\": \"scatter\", \"uid\": \"d408f022-bbe2-11e8-adcf-a81e84e6c740\"}],\n",
       "            {\"title\": \"24h\\u62c6\\u5206\\u8fc7\\u6ee4\\u7387&48h\\u62c6\\u5206\\u8fc7\\u6ee4\\u7387\\u5468\\u8d8b\\u52bf\\u56fe\", \"xaxis\": {\"mirror\": \"all\", \"nticks\": 20, \"showgrid\": true, \"showline\": true, \"title\": \"\\u5468\", \"zeroline\": true}, \"yaxis\": {\"mirror\": \"all\", \"nticks\": 20, \"showgrid\": true, \"showline\": true, \"title\": \"24h\\u62c6\\u5206\\u8fc7\\u6ee4\\u7387&48h\\u62c6\\u5206\\u8fc7\\u6ee4\\u7387\", \"zeroline\": true}},\n",
       "            {\"showLink\": true, \"linkText\": \"Export to plot.ly\"}\n",
       "        ).then(function () {return Plotly.addFrames('aba4df4a-1ba2-4f2a-a4dc-aeab0c081401',{});}).then(function(){Plotly.animate('aba4df4a-1ba2-4f2a-a4dc-aeab0c081401');})\n",
       "        });</script>"
      ]
     },
     "metadata": {},
     "output_type": "display_data"
    },
    {
     "data": {
      "application/vnd.plotly.v1+json": {
       "data": [
        {
         "name": "卢楠_24h拆分过滤率",
         "type": "scatter",
         "uid": "d42733de-bbe2-11e8-adcf-a81e84e6c740",
         "x": [
          "8",
          "9"
         ],
         "y": [
          0.6147540983606558,
          0.8
         ]
        },
        {
         "name": "卢楠_48h拆分过滤率",
         "type": "scatter",
         "uid": "d42738ca-bbe2-11e8-adcf-a81e84e6c740",
         "x": [
          "8",
          "9"
         ],
         "y": [
          0.8688524590163934,
          1
         ]
        },
        {
         "name": "冷雪_24h拆分过滤率",
         "type": "scatter",
         "uid": "d4273bb8-bbe2-11e8-adcf-a81e84e6c740",
         "x": [
          "8",
          "9"
         ],
         "y": [
          0.6820512820512821,
          0.7910447761194029
         ]
        },
        {
         "name": "冷雪_48h拆分过滤率",
         "type": "scatter",
         "uid": "d4273dde-bbe2-11e8-adcf-a81e84e6c740",
         "x": [
          "8",
          "9"
         ],
         "y": [
          0.9076923076923077,
          0.9402985074626866
         ]
        },
        {
         "name": "张悦_24h拆分过滤率",
         "type": "scatter",
         "uid": "d4273fe6-bbe2-11e8-adcf-a81e84e6c740",
         "x": [
          "8",
          "9"
         ],
         "y": [
          0.6153846153846154,
          0.75
         ]
        },
        {
         "name": "张悦_48h拆分过滤率",
         "type": "scatter",
         "uid": "d42741da-bbe2-11e8-adcf-a81e84e6c740",
         "x": [
          "8",
          "9"
         ],
         "y": [
          1,
          1
         ]
        },
        {
         "name": "屈昂_24h拆分过滤率",
         "type": "scatter",
         "uid": "d42743ce-bbe2-11e8-adcf-a81e84e6c740",
         "x": [
          "8",
          "9"
         ],
         "y": [
          0.7240506329113924,
          0.7166666666666667
         ]
        },
        {
         "name": "屈昂_48h拆分过滤率",
         "type": "scatter",
         "uid": "d42745c2-bbe2-11e8-adcf-a81e84e6c740",
         "x": [
          "8",
          "9"
         ],
         "y": [
          0.9037974683544304,
          0.8444444444444444
         ]
        }
       ],
       "layout": {
        "title": "24h拆分过滤率&48h拆分过滤率月趋势图",
        "xaxis": {
         "mirror": "all",
         "nticks": 20,
         "showgrid": true,
         "showline": true,
         "title": "月",
         "zeroline": true
        },
        "yaxis": {
         "mirror": "all",
         "nticks": 20,
         "showgrid": true,
         "showline": true,
         "title": "24h拆分过滤率&48h拆分过滤率",
         "zeroline": true
        }
       }
      },
      "text/html": [
       "<div id=\"c576dc3b-c065-4ef2-8c1b-3b2e7bb2a884\" style=\"height: 525px; width: 100%;\" class=\"plotly-graph-div\"></div><script type=\"text/javascript\">require([\"plotly\"], function(Plotly) { window.PLOTLYENV=window.PLOTLYENV || {};window.PLOTLYENV.BASE_URL=\"https://plot.ly\";\n",
       "        Plotly.plot(\n",
       "            'c576dc3b-c065-4ef2-8c1b-3b2e7bb2a884',\n",
       "            [{\"name\": \"\\u5362\\u6960_24h\\u62c6\\u5206\\u8fc7\\u6ee4\\u7387\", \"x\": [\"8\", \"9\"], \"y\": [0.6147540983606558, 0.8], \"type\": \"scatter\", \"uid\": \"d42733de-bbe2-11e8-adcf-a81e84e6c740\"}, {\"name\": \"\\u5362\\u6960_48h\\u62c6\\u5206\\u8fc7\\u6ee4\\u7387\", \"x\": [\"8\", \"9\"], \"y\": [0.8688524590163934, 1.0], \"type\": \"scatter\", \"uid\": \"d42738ca-bbe2-11e8-adcf-a81e84e6c740\"}, {\"name\": \"\\u51b7\\u96ea_24h\\u62c6\\u5206\\u8fc7\\u6ee4\\u7387\", \"x\": [\"8\", \"9\"], \"y\": [0.6820512820512821, 0.7910447761194029], \"type\": \"scatter\", \"uid\": \"d4273bb8-bbe2-11e8-adcf-a81e84e6c740\"}, {\"name\": \"\\u51b7\\u96ea_48h\\u62c6\\u5206\\u8fc7\\u6ee4\\u7387\", \"x\": [\"8\", \"9\"], \"y\": [0.9076923076923077, 0.9402985074626866], \"type\": \"scatter\", \"uid\": \"d4273dde-bbe2-11e8-adcf-a81e84e6c740\"}, {\"name\": \"\\u5f20\\u60a6_24h\\u62c6\\u5206\\u8fc7\\u6ee4\\u7387\", \"x\": [\"8\", \"9\"], \"y\": [0.6153846153846154, 0.75], \"type\": \"scatter\", \"uid\": \"d4273fe6-bbe2-11e8-adcf-a81e84e6c740\"}, {\"name\": \"\\u5f20\\u60a6_48h\\u62c6\\u5206\\u8fc7\\u6ee4\\u7387\", \"x\": [\"8\", \"9\"], \"y\": [1.0, 1.0], \"type\": \"scatter\", \"uid\": \"d42741da-bbe2-11e8-adcf-a81e84e6c740\"}, {\"name\": \"\\u5c48\\u6602_24h\\u62c6\\u5206\\u8fc7\\u6ee4\\u7387\", \"x\": [\"8\", \"9\"], \"y\": [0.7240506329113924, 0.7166666666666667], \"type\": \"scatter\", \"uid\": \"d42743ce-bbe2-11e8-adcf-a81e84e6c740\"}, {\"name\": \"\\u5c48\\u6602_48h\\u62c6\\u5206\\u8fc7\\u6ee4\\u7387\", \"x\": [\"8\", \"9\"], \"y\": [0.9037974683544304, 0.8444444444444444], \"type\": \"scatter\", \"uid\": \"d42745c2-bbe2-11e8-adcf-a81e84e6c740\"}],\n",
       "            {\"title\": \"24h\\u62c6\\u5206\\u8fc7\\u6ee4\\u7387&48h\\u62c6\\u5206\\u8fc7\\u6ee4\\u7387\\u6708\\u8d8b\\u52bf\\u56fe\", \"xaxis\": {\"mirror\": \"all\", \"nticks\": 20, \"showgrid\": true, \"showline\": true, \"title\": \"\\u6708\", \"zeroline\": true}, \"yaxis\": {\"mirror\": \"all\", \"nticks\": 20, \"showgrid\": true, \"showline\": true, \"title\": \"24h\\u62c6\\u5206\\u8fc7\\u6ee4\\u7387&48h\\u62c6\\u5206\\u8fc7\\u6ee4\\u7387\", \"zeroline\": true}},\n",
       "            {\"showLink\": true, \"linkText\": \"Export to plot.ly\"}\n",
       "        ).then(function () {return Plotly.addFrames('c576dc3b-c065-4ef2-8c1b-3b2e7bb2a884',{});}).then(function(){Plotly.animate('c576dc3b-c065-4ef2-8c1b-3b2e7bb2a884');})\n",
       "        });</script>"
      ],
      "text/vnd.plotly.v1+html": [
       "<div id=\"c576dc3b-c065-4ef2-8c1b-3b2e7bb2a884\" style=\"height: 525px; width: 100%;\" class=\"plotly-graph-div\"></div><script type=\"text/javascript\">require([\"plotly\"], function(Plotly) { window.PLOTLYENV=window.PLOTLYENV || {};window.PLOTLYENV.BASE_URL=\"https://plot.ly\";\n",
       "        Plotly.plot(\n",
       "            'c576dc3b-c065-4ef2-8c1b-3b2e7bb2a884',\n",
       "            [{\"name\": \"\\u5362\\u6960_24h\\u62c6\\u5206\\u8fc7\\u6ee4\\u7387\", \"x\": [\"8\", \"9\"], \"y\": [0.6147540983606558, 0.8], \"type\": \"scatter\", \"uid\": \"d42733de-bbe2-11e8-adcf-a81e84e6c740\"}, {\"name\": \"\\u5362\\u6960_48h\\u62c6\\u5206\\u8fc7\\u6ee4\\u7387\", \"x\": [\"8\", \"9\"], \"y\": [0.8688524590163934, 1.0], \"type\": \"scatter\", \"uid\": \"d42738ca-bbe2-11e8-adcf-a81e84e6c740\"}, {\"name\": \"\\u51b7\\u96ea_24h\\u62c6\\u5206\\u8fc7\\u6ee4\\u7387\", \"x\": [\"8\", \"9\"], \"y\": [0.6820512820512821, 0.7910447761194029], \"type\": \"scatter\", \"uid\": \"d4273bb8-bbe2-11e8-adcf-a81e84e6c740\"}, {\"name\": \"\\u51b7\\u96ea_48h\\u62c6\\u5206\\u8fc7\\u6ee4\\u7387\", \"x\": [\"8\", \"9\"], \"y\": [0.9076923076923077, 0.9402985074626866], \"type\": \"scatter\", \"uid\": \"d4273dde-bbe2-11e8-adcf-a81e84e6c740\"}, {\"name\": \"\\u5f20\\u60a6_24h\\u62c6\\u5206\\u8fc7\\u6ee4\\u7387\", \"x\": [\"8\", \"9\"], \"y\": [0.6153846153846154, 0.75], \"type\": \"scatter\", \"uid\": \"d4273fe6-bbe2-11e8-adcf-a81e84e6c740\"}, {\"name\": \"\\u5f20\\u60a6_48h\\u62c6\\u5206\\u8fc7\\u6ee4\\u7387\", \"x\": [\"8\", \"9\"], \"y\": [1.0, 1.0], \"type\": \"scatter\", \"uid\": \"d42741da-bbe2-11e8-adcf-a81e84e6c740\"}, {\"name\": \"\\u5c48\\u6602_24h\\u62c6\\u5206\\u8fc7\\u6ee4\\u7387\", \"x\": [\"8\", \"9\"], \"y\": [0.7240506329113924, 0.7166666666666667], \"type\": \"scatter\", \"uid\": \"d42743ce-bbe2-11e8-adcf-a81e84e6c740\"}, {\"name\": \"\\u5c48\\u6602_48h\\u62c6\\u5206\\u8fc7\\u6ee4\\u7387\", \"x\": [\"8\", \"9\"], \"y\": [0.9037974683544304, 0.8444444444444444], \"type\": \"scatter\", \"uid\": \"d42745c2-bbe2-11e8-adcf-a81e84e6c740\"}],\n",
       "            {\"title\": \"24h\\u62c6\\u5206\\u8fc7\\u6ee4\\u7387&48h\\u62c6\\u5206\\u8fc7\\u6ee4\\u7387\\u6708\\u8d8b\\u52bf\\u56fe\", \"xaxis\": {\"mirror\": \"all\", \"nticks\": 20, \"showgrid\": true, \"showline\": true, \"title\": \"\\u6708\", \"zeroline\": true}, \"yaxis\": {\"mirror\": \"all\", \"nticks\": 20, \"showgrid\": true, \"showline\": true, \"title\": \"24h\\u62c6\\u5206\\u8fc7\\u6ee4\\u7387&48h\\u62c6\\u5206\\u8fc7\\u6ee4\\u7387\", \"zeroline\": true}},\n",
       "            {\"showLink\": true, \"linkText\": \"Export to plot.ly\"}\n",
       "        ).then(function () {return Plotly.addFrames('c576dc3b-c065-4ef2-8c1b-3b2e7bb2a884',{});}).then(function(){Plotly.animate('c576dc3b-c065-4ef2-8c1b-3b2e7bb2a884');})\n",
       "        });</script>"
      ]
     },
     "metadata": {},
     "output_type": "display_data"
    }
   ],
   "source": [
    "data_dict = {'24h拆分过滤率':['24h完成批次数', '下机批次数'], '48h拆分过滤率':['48h完成批次数', '下机批次数']}\n",
    "myModule.plot( all_dict, data_dict, '人员' ,  'line' )"
   ]
  },
  {
   "cell_type": "markdown",
   "metadata": {},
   "source": [
    "### 平均反馈时长和反馈时长Q80"
   ]
  },
  {
   "cell_type": "code",
   "execution_count": 50,
   "metadata": {},
   "outputs": [
    {
     "data": {
      "application/vnd.plotly.v1+json": {
       "data": [
        {
         "name": "卢楠_平均反馈时长",
         "type": "scatter",
         "uid": "d47d4184-bbe2-11e8-adcf-a81e84e6c740",
         "x": [
          "8-1",
          "8-2",
          "8-3",
          "8-4",
          "8-5",
          "9-1",
          "9-2"
         ],
         "y": [
          5.77,
          5,
          8.6,
          5.199999999999999,
          1.7300000000000002,
          7.2,
          14.409999999999998
         ]
        },
        {
         "name": "卢楠_反馈时长Q80",
         "type": "scatter",
         "uid": "d47d4760-bbe2-11e8-adcf-a81e84e6c740",
         "x": [
          "8-1",
          "8-2",
          "8-3",
          "8-4",
          "8-5",
          "9-1",
          "9-2"
         ],
         "y": [
          7.58,
          4.61,
          18.53,
          5.89,
          1.85,
          2.18,
          15.12
         ]
        },
        {
         "name": "冷雪_平均反馈时长",
         "type": "scatter",
         "uid": "d47d4b70-bbe2-11e8-adcf-a81e84e6c740",
         "x": [
          "8-1",
          "8-2",
          "8-3",
          "8-4",
          "8-5",
          "9-1",
          "9-2"
         ],
         "y": [
          7.090000000000001,
          3.9827586206896552,
          4.95,
          3.38,
          3.69,
          9.81,
          7.658947368421053
         ]
        },
        {
         "name": "冷雪_反馈时长Q80",
         "type": "scatter",
         "uid": "d47d4f26-bbe2-11e8-adcf-a81e84e6c740",
         "x": [
          "8-1",
          "8-2",
          "8-3",
          "8-4",
          "8-5",
          "9-1",
          "9-2"
         ],
         "y": [
          7.59,
          4.66,
          5.63,
          3.23,
          6.49,
          13.99,
          10.5
         ]
        },
        {
         "name": "张悦_平均反馈时长",
         "type": "scatter",
         "uid": "d47d52b4-bbe2-11e8-adcf-a81e84e6c740",
         "x": [
          "8-1",
          "8-2",
          "8-3",
          "8-4",
          "8-5",
          "9-1",
          "9-2"
         ],
         "y": [
          14.51,
          3.26,
          18.68,
          1.47,
          2.7600000000000002,
          5.22,
          null
         ]
        },
        {
         "name": "张悦_反馈时长Q80",
         "type": "scatter",
         "uid": "d47d5638-bbe2-11e8-adcf-a81e84e6c740",
         "x": [
          "8-1",
          "8-2",
          "8-3",
          "8-4",
          "8-5",
          "9-1",
          "9-2"
         ],
         "y": [
          5.54,
          2.28,
          18.68,
          1.47,
          2.11,
          3.31,
          0
         ]
        },
        {
         "name": "屈昂_平均反馈时长",
         "type": "scatter",
         "uid": "d47d59a8-bbe2-11e8-adcf-a81e84e6c740",
         "x": [
          "8-1",
          "8-2",
          "8-3",
          "8-4",
          "8-5",
          "9-1",
          "9-2"
         ],
         "y": [
          5.95,
          4.49,
          4.5,
          5.37,
          7.139294117647059,
          9.77,
          6.688
         ]
        },
        {
         "name": "屈昂_反馈时长Q80",
         "type": "scatter",
         "uid": "d47d5d22-bbe2-11e8-adcf-a81e84e6c740",
         "x": [
          "8-1",
          "8-2",
          "8-3",
          "8-4",
          "8-5",
          "9-1",
          "9-2"
         ],
         "y": [
          5.79,
          5.35,
          5.31,
          5.19,
          11.12,
          16,
          9.89
         ]
        }
       ],
       "layout": {
        "title": "平均反馈时长&反馈时长Q80周趋势图",
        "xaxis": {
         "mirror": "all",
         "nticks": 20,
         "showgrid": true,
         "showline": true,
         "title": "周",
         "zeroline": true
        },
        "yaxis": {
         "mirror": "all",
         "nticks": 20,
         "showgrid": true,
         "showline": true,
         "title": "平均反馈时长&反馈时长Q80",
         "zeroline": true
        }
       }
      },
      "text/html": [
       "<div id=\"49021856-be88-4f4a-bc03-b536b7184e84\" style=\"height: 525px; width: 100%;\" class=\"plotly-graph-div\"></div><script type=\"text/javascript\">require([\"plotly\"], function(Plotly) { window.PLOTLYENV=window.PLOTLYENV || {};window.PLOTLYENV.BASE_URL=\"https://plot.ly\";\n",
       "        Plotly.plot(\n",
       "            '49021856-be88-4f4a-bc03-b536b7184e84',\n",
       "            [{\"name\": \"\\u5362\\u6960_\\u5e73\\u5747\\u53cd\\u9988\\u65f6\\u957f\", \"x\": [\"8-1\", \"8-2\", \"8-3\", \"8-4\", \"8-5\", \"9-1\", \"9-2\"], \"y\": [5.77, 5.0, 8.6, 5.199999999999999, 1.7300000000000002, 7.2, 14.409999999999998], \"type\": \"scatter\", \"uid\": \"d47d4184-bbe2-11e8-adcf-a81e84e6c740\"}, {\"name\": \"\\u5362\\u6960_\\u53cd\\u9988\\u65f6\\u957fQ80\", \"x\": [\"8-1\", \"8-2\", \"8-3\", \"8-4\", \"8-5\", \"9-1\", \"9-2\"], \"y\": [7.58, 4.61, 18.53, 5.89, 1.85, 2.18, 15.12], \"type\": \"scatter\", \"uid\": \"d47d4760-bbe2-11e8-adcf-a81e84e6c740\"}, {\"name\": \"\\u51b7\\u96ea_\\u5e73\\u5747\\u53cd\\u9988\\u65f6\\u957f\", \"x\": [\"8-1\", \"8-2\", \"8-3\", \"8-4\", \"8-5\", \"9-1\", \"9-2\"], \"y\": [7.090000000000001, 3.9827586206896552, 4.95, 3.38, 3.69, 9.81, 7.658947368421053], \"type\": \"scatter\", \"uid\": \"d47d4b70-bbe2-11e8-adcf-a81e84e6c740\"}, {\"name\": \"\\u51b7\\u96ea_\\u53cd\\u9988\\u65f6\\u957fQ80\", \"x\": [\"8-1\", \"8-2\", \"8-3\", \"8-4\", \"8-5\", \"9-1\", \"9-2\"], \"y\": [7.59, 4.66, 5.63, 3.23, 6.49, 13.99, 10.5], \"type\": \"scatter\", \"uid\": \"d47d4f26-bbe2-11e8-adcf-a81e84e6c740\"}, {\"name\": \"\\u5f20\\u60a6_\\u5e73\\u5747\\u53cd\\u9988\\u65f6\\u957f\", \"x\": [\"8-1\", \"8-2\", \"8-3\", \"8-4\", \"8-5\", \"9-1\", \"9-2\"], \"y\": [14.51, 3.26, 18.68, 1.47, 2.7600000000000002, 5.22, null], \"type\": \"scatter\", \"uid\": \"d47d52b4-bbe2-11e8-adcf-a81e84e6c740\"}, {\"name\": \"\\u5f20\\u60a6_\\u53cd\\u9988\\u65f6\\u957fQ80\", \"x\": [\"8-1\", \"8-2\", \"8-3\", \"8-4\", \"8-5\", \"9-1\", \"9-2\"], \"y\": [5.54, 2.28, 18.68, 1.47, 2.11, 3.31, 0.0], \"type\": \"scatter\", \"uid\": \"d47d5638-bbe2-11e8-adcf-a81e84e6c740\"}, {\"name\": \"\\u5c48\\u6602_\\u5e73\\u5747\\u53cd\\u9988\\u65f6\\u957f\", \"x\": [\"8-1\", \"8-2\", \"8-3\", \"8-4\", \"8-5\", \"9-1\", \"9-2\"], \"y\": [5.95, 4.49, 4.5, 5.37, 7.139294117647059, 9.77, 6.688], \"type\": \"scatter\", \"uid\": \"d47d59a8-bbe2-11e8-adcf-a81e84e6c740\"}, {\"name\": \"\\u5c48\\u6602_\\u53cd\\u9988\\u65f6\\u957fQ80\", \"x\": [\"8-1\", \"8-2\", \"8-3\", \"8-4\", \"8-5\", \"9-1\", \"9-2\"], \"y\": [5.79, 5.35, 5.31, 5.19, 11.12, 16.0, 9.89], \"type\": \"scatter\", \"uid\": \"d47d5d22-bbe2-11e8-adcf-a81e84e6c740\"}],\n",
       "            {\"title\": \"\\u5e73\\u5747\\u53cd\\u9988\\u65f6\\u957f&\\u53cd\\u9988\\u65f6\\u957fQ80\\u5468\\u8d8b\\u52bf\\u56fe\", \"xaxis\": {\"mirror\": \"all\", \"nticks\": 20, \"showgrid\": true, \"showline\": true, \"title\": \"\\u5468\", \"zeroline\": true}, \"yaxis\": {\"mirror\": \"all\", \"nticks\": 20, \"showgrid\": true, \"showline\": true, \"title\": \"\\u5e73\\u5747\\u53cd\\u9988\\u65f6\\u957f&\\u53cd\\u9988\\u65f6\\u957fQ80\", \"zeroline\": true}},\n",
       "            {\"showLink\": true, \"linkText\": \"Export to plot.ly\"}\n",
       "        ).then(function () {return Plotly.addFrames('49021856-be88-4f4a-bc03-b536b7184e84',{});}).then(function(){Plotly.animate('49021856-be88-4f4a-bc03-b536b7184e84');})\n",
       "        });</script>"
      ],
      "text/vnd.plotly.v1+html": [
       "<div id=\"49021856-be88-4f4a-bc03-b536b7184e84\" style=\"height: 525px; width: 100%;\" class=\"plotly-graph-div\"></div><script type=\"text/javascript\">require([\"plotly\"], function(Plotly) { window.PLOTLYENV=window.PLOTLYENV || {};window.PLOTLYENV.BASE_URL=\"https://plot.ly\";\n",
       "        Plotly.plot(\n",
       "            '49021856-be88-4f4a-bc03-b536b7184e84',\n",
       "            [{\"name\": \"\\u5362\\u6960_\\u5e73\\u5747\\u53cd\\u9988\\u65f6\\u957f\", \"x\": [\"8-1\", \"8-2\", \"8-3\", \"8-4\", \"8-5\", \"9-1\", \"9-2\"], \"y\": [5.77, 5.0, 8.6, 5.199999999999999, 1.7300000000000002, 7.2, 14.409999999999998], \"type\": \"scatter\", \"uid\": \"d47d4184-bbe2-11e8-adcf-a81e84e6c740\"}, {\"name\": \"\\u5362\\u6960_\\u53cd\\u9988\\u65f6\\u957fQ80\", \"x\": [\"8-1\", \"8-2\", \"8-3\", \"8-4\", \"8-5\", \"9-1\", \"9-2\"], \"y\": [7.58, 4.61, 18.53, 5.89, 1.85, 2.18, 15.12], \"type\": \"scatter\", \"uid\": \"d47d4760-bbe2-11e8-adcf-a81e84e6c740\"}, {\"name\": \"\\u51b7\\u96ea_\\u5e73\\u5747\\u53cd\\u9988\\u65f6\\u957f\", \"x\": [\"8-1\", \"8-2\", \"8-3\", \"8-4\", \"8-5\", \"9-1\", \"9-2\"], \"y\": [7.090000000000001, 3.9827586206896552, 4.95, 3.38, 3.69, 9.81, 7.658947368421053], \"type\": \"scatter\", \"uid\": \"d47d4b70-bbe2-11e8-adcf-a81e84e6c740\"}, {\"name\": \"\\u51b7\\u96ea_\\u53cd\\u9988\\u65f6\\u957fQ80\", \"x\": [\"8-1\", \"8-2\", \"8-3\", \"8-4\", \"8-5\", \"9-1\", \"9-2\"], \"y\": [7.59, 4.66, 5.63, 3.23, 6.49, 13.99, 10.5], \"type\": \"scatter\", \"uid\": \"d47d4f26-bbe2-11e8-adcf-a81e84e6c740\"}, {\"name\": \"\\u5f20\\u60a6_\\u5e73\\u5747\\u53cd\\u9988\\u65f6\\u957f\", \"x\": [\"8-1\", \"8-2\", \"8-3\", \"8-4\", \"8-5\", \"9-1\", \"9-2\"], \"y\": [14.51, 3.26, 18.68, 1.47, 2.7600000000000002, 5.22, null], \"type\": \"scatter\", \"uid\": \"d47d52b4-bbe2-11e8-adcf-a81e84e6c740\"}, {\"name\": \"\\u5f20\\u60a6_\\u53cd\\u9988\\u65f6\\u957fQ80\", \"x\": [\"8-1\", \"8-2\", \"8-3\", \"8-4\", \"8-5\", \"9-1\", \"9-2\"], \"y\": [5.54, 2.28, 18.68, 1.47, 2.11, 3.31, 0.0], \"type\": \"scatter\", \"uid\": \"d47d5638-bbe2-11e8-adcf-a81e84e6c740\"}, {\"name\": \"\\u5c48\\u6602_\\u5e73\\u5747\\u53cd\\u9988\\u65f6\\u957f\", \"x\": [\"8-1\", \"8-2\", \"8-3\", \"8-4\", \"8-5\", \"9-1\", \"9-2\"], \"y\": [5.95, 4.49, 4.5, 5.37, 7.139294117647059, 9.77, 6.688], \"type\": \"scatter\", \"uid\": \"d47d59a8-bbe2-11e8-adcf-a81e84e6c740\"}, {\"name\": \"\\u5c48\\u6602_\\u53cd\\u9988\\u65f6\\u957fQ80\", \"x\": [\"8-1\", \"8-2\", \"8-3\", \"8-4\", \"8-5\", \"9-1\", \"9-2\"], \"y\": [5.79, 5.35, 5.31, 5.19, 11.12, 16.0, 9.89], \"type\": \"scatter\", \"uid\": \"d47d5d22-bbe2-11e8-adcf-a81e84e6c740\"}],\n",
       "            {\"title\": \"\\u5e73\\u5747\\u53cd\\u9988\\u65f6\\u957f&\\u53cd\\u9988\\u65f6\\u957fQ80\\u5468\\u8d8b\\u52bf\\u56fe\", \"xaxis\": {\"mirror\": \"all\", \"nticks\": 20, \"showgrid\": true, \"showline\": true, \"title\": \"\\u5468\", \"zeroline\": true}, \"yaxis\": {\"mirror\": \"all\", \"nticks\": 20, \"showgrid\": true, \"showline\": true, \"title\": \"\\u5e73\\u5747\\u53cd\\u9988\\u65f6\\u957f&\\u53cd\\u9988\\u65f6\\u957fQ80\", \"zeroline\": true}},\n",
       "            {\"showLink\": true, \"linkText\": \"Export to plot.ly\"}\n",
       "        ).then(function () {return Plotly.addFrames('49021856-be88-4f4a-bc03-b536b7184e84',{});}).then(function(){Plotly.animate('49021856-be88-4f4a-bc03-b536b7184e84');})\n",
       "        });</script>"
      ]
     },
     "metadata": {},
     "output_type": "display_data"
    },
    {
     "data": {
      "application/vnd.plotly.v1+json": {
       "data": [
        {
         "name": "卢楠_平均反馈时长",
         "type": "scatter",
         "uid": "d49aa666-bbe2-11e8-adcf-a81e84e6c740",
         "x": [
          "8",
          "9"
         ],
         "y": [
          5.846803278688525,
          11.526
         ]
        },
        {
         "name": "卢楠_反馈时长Q80",
         "type": "scatter",
         "uid": "d49ab23c-bbe2-11e8-adcf-a81e84e6c740",
         "x": [
          "8",
          "9"
         ],
         "y": [
          38.46,
          17.3
         ]
        },
        {
         "name": "冷雪_平均反馈时长",
         "type": "scatter",
         "uid": "d49ab638-bbe2-11e8-adcf-a81e84e6c740",
         "x": [
          "8",
          "9"
         ],
         "y": [
          4.821589743589744,
          8.59
         ]
        },
        {
         "name": "冷雪_反馈时长Q80",
         "type": "scatter",
         "uid": "d49ab8c2-bbe2-11e8-adcf-a81e84e6c740",
         "x": [
          "8",
          "9"
         ],
         "y": [
          27.6,
          24.490000000000002
         ]
        },
        {
         "name": "张悦_平均反馈时长",
         "type": "scatter",
         "uid": "d49abb1a-bbe2-11e8-adcf-a81e84e6c740",
         "x": [
          "8",
          "9"
         ],
         "y": [
          5.77,
          5.22
         ]
        },
        {
         "name": "张悦_反馈时长Q80",
         "type": "scatter",
         "uid": "d49abd22-bbe2-11e8-adcf-a81e84e6c740",
         "x": [
          "8",
          "9"
         ],
         "y": [
          30.08,
          3.31
         ]
        },
        {
         "name": "屈昂_平均反馈时长",
         "type": "scatter",
         "uid": "d49abf34-bbe2-11e8-adcf-a81e84e6c740",
         "x": [
          "8",
          "9"
         ],
         "y": [
          5.482354430379747,
          8.999500000000001
         ]
        },
        {
         "name": "屈昂_反馈时长Q80",
         "type": "scatter",
         "uid": "d49ac128-bbe2-11e8-adcf-a81e84e6c740",
         "x": [
          "8",
          "9"
         ],
         "y": [
          32.76,
          25.89
         ]
        }
       ],
       "layout": {
        "title": "平均反馈时长&反馈时长Q80月趋势图",
        "xaxis": {
         "mirror": "all",
         "nticks": 20,
         "showgrid": true,
         "showline": true,
         "title": "月",
         "zeroline": true
        },
        "yaxis": {
         "mirror": "all",
         "nticks": 20,
         "showgrid": true,
         "showline": true,
         "title": "平均反馈时长&反馈时长Q80",
         "zeroline": true
        }
       }
      },
      "text/html": [
       "<div id=\"5ed1ef59-c5bc-4d75-9bd2-5f6d47325db6\" style=\"height: 525px; width: 100%;\" class=\"plotly-graph-div\"></div><script type=\"text/javascript\">require([\"plotly\"], function(Plotly) { window.PLOTLYENV=window.PLOTLYENV || {};window.PLOTLYENV.BASE_URL=\"https://plot.ly\";\n",
       "        Plotly.plot(\n",
       "            '5ed1ef59-c5bc-4d75-9bd2-5f6d47325db6',\n",
       "            [{\"name\": \"\\u5362\\u6960_\\u5e73\\u5747\\u53cd\\u9988\\u65f6\\u957f\", \"x\": [\"8\", \"9\"], \"y\": [5.846803278688525, 11.526], \"type\": \"scatter\", \"uid\": \"d49aa666-bbe2-11e8-adcf-a81e84e6c740\"}, {\"name\": \"\\u5362\\u6960_\\u53cd\\u9988\\u65f6\\u957fQ80\", \"x\": [\"8\", \"9\"], \"y\": [38.46, 17.3], \"type\": \"scatter\", \"uid\": \"d49ab23c-bbe2-11e8-adcf-a81e84e6c740\"}, {\"name\": \"\\u51b7\\u96ea_\\u5e73\\u5747\\u53cd\\u9988\\u65f6\\u957f\", \"x\": [\"8\", \"9\"], \"y\": [4.821589743589744, 8.59], \"type\": \"scatter\", \"uid\": \"d49ab638-bbe2-11e8-adcf-a81e84e6c740\"}, {\"name\": \"\\u51b7\\u96ea_\\u53cd\\u9988\\u65f6\\u957fQ80\", \"x\": [\"8\", \"9\"], \"y\": [27.6, 24.490000000000002], \"type\": \"scatter\", \"uid\": \"d49ab8c2-bbe2-11e8-adcf-a81e84e6c740\"}, {\"name\": \"\\u5f20\\u60a6_\\u5e73\\u5747\\u53cd\\u9988\\u65f6\\u957f\", \"x\": [\"8\", \"9\"], \"y\": [5.77, 5.22], \"type\": \"scatter\", \"uid\": \"d49abb1a-bbe2-11e8-adcf-a81e84e6c740\"}, {\"name\": \"\\u5f20\\u60a6_\\u53cd\\u9988\\u65f6\\u957fQ80\", \"x\": [\"8\", \"9\"], \"y\": [30.08, 3.31], \"type\": \"scatter\", \"uid\": \"d49abd22-bbe2-11e8-adcf-a81e84e6c740\"}, {\"name\": \"\\u5c48\\u6602_\\u5e73\\u5747\\u53cd\\u9988\\u65f6\\u957f\", \"x\": [\"8\", \"9\"], \"y\": [5.482354430379747, 8.999500000000001], \"type\": \"scatter\", \"uid\": \"d49abf34-bbe2-11e8-adcf-a81e84e6c740\"}, {\"name\": \"\\u5c48\\u6602_\\u53cd\\u9988\\u65f6\\u957fQ80\", \"x\": [\"8\", \"9\"], \"y\": [32.76, 25.89], \"type\": \"scatter\", \"uid\": \"d49ac128-bbe2-11e8-adcf-a81e84e6c740\"}],\n",
       "            {\"title\": \"\\u5e73\\u5747\\u53cd\\u9988\\u65f6\\u957f&\\u53cd\\u9988\\u65f6\\u957fQ80\\u6708\\u8d8b\\u52bf\\u56fe\", \"xaxis\": {\"mirror\": \"all\", \"nticks\": 20, \"showgrid\": true, \"showline\": true, \"title\": \"\\u6708\", \"zeroline\": true}, \"yaxis\": {\"mirror\": \"all\", \"nticks\": 20, \"showgrid\": true, \"showline\": true, \"title\": \"\\u5e73\\u5747\\u53cd\\u9988\\u65f6\\u957f&\\u53cd\\u9988\\u65f6\\u957fQ80\", \"zeroline\": true}},\n",
       "            {\"showLink\": true, \"linkText\": \"Export to plot.ly\"}\n",
       "        ).then(function () {return Plotly.addFrames('5ed1ef59-c5bc-4d75-9bd2-5f6d47325db6',{});}).then(function(){Plotly.animate('5ed1ef59-c5bc-4d75-9bd2-5f6d47325db6');})\n",
       "        });</script>"
      ],
      "text/vnd.plotly.v1+html": [
       "<div id=\"5ed1ef59-c5bc-4d75-9bd2-5f6d47325db6\" style=\"height: 525px; width: 100%;\" class=\"plotly-graph-div\"></div><script type=\"text/javascript\">require([\"plotly\"], function(Plotly) { window.PLOTLYENV=window.PLOTLYENV || {};window.PLOTLYENV.BASE_URL=\"https://plot.ly\";\n",
       "        Plotly.plot(\n",
       "            '5ed1ef59-c5bc-4d75-9bd2-5f6d47325db6',\n",
       "            [{\"name\": \"\\u5362\\u6960_\\u5e73\\u5747\\u53cd\\u9988\\u65f6\\u957f\", \"x\": [\"8\", \"9\"], \"y\": [5.846803278688525, 11.526], \"type\": \"scatter\", \"uid\": \"d49aa666-bbe2-11e8-adcf-a81e84e6c740\"}, {\"name\": \"\\u5362\\u6960_\\u53cd\\u9988\\u65f6\\u957fQ80\", \"x\": [\"8\", \"9\"], \"y\": [38.46, 17.3], \"type\": \"scatter\", \"uid\": \"d49ab23c-bbe2-11e8-adcf-a81e84e6c740\"}, {\"name\": \"\\u51b7\\u96ea_\\u5e73\\u5747\\u53cd\\u9988\\u65f6\\u957f\", \"x\": [\"8\", \"9\"], \"y\": [4.821589743589744, 8.59], \"type\": \"scatter\", \"uid\": \"d49ab638-bbe2-11e8-adcf-a81e84e6c740\"}, {\"name\": \"\\u51b7\\u96ea_\\u53cd\\u9988\\u65f6\\u957fQ80\", \"x\": [\"8\", \"9\"], \"y\": [27.6, 24.490000000000002], \"type\": \"scatter\", \"uid\": \"d49ab8c2-bbe2-11e8-adcf-a81e84e6c740\"}, {\"name\": \"\\u5f20\\u60a6_\\u5e73\\u5747\\u53cd\\u9988\\u65f6\\u957f\", \"x\": [\"8\", \"9\"], \"y\": [5.77, 5.22], \"type\": \"scatter\", \"uid\": \"d49abb1a-bbe2-11e8-adcf-a81e84e6c740\"}, {\"name\": \"\\u5f20\\u60a6_\\u53cd\\u9988\\u65f6\\u957fQ80\", \"x\": [\"8\", \"9\"], \"y\": [30.08, 3.31], \"type\": \"scatter\", \"uid\": \"d49abd22-bbe2-11e8-adcf-a81e84e6c740\"}, {\"name\": \"\\u5c48\\u6602_\\u5e73\\u5747\\u53cd\\u9988\\u65f6\\u957f\", \"x\": [\"8\", \"9\"], \"y\": [5.482354430379747, 8.999500000000001], \"type\": \"scatter\", \"uid\": \"d49abf34-bbe2-11e8-adcf-a81e84e6c740\"}, {\"name\": \"\\u5c48\\u6602_\\u53cd\\u9988\\u65f6\\u957fQ80\", \"x\": [\"8\", \"9\"], \"y\": [32.76, 25.89], \"type\": \"scatter\", \"uid\": \"d49ac128-bbe2-11e8-adcf-a81e84e6c740\"}],\n",
       "            {\"title\": \"\\u5e73\\u5747\\u53cd\\u9988\\u65f6\\u957f&\\u53cd\\u9988\\u65f6\\u957fQ80\\u6708\\u8d8b\\u52bf\\u56fe\", \"xaxis\": {\"mirror\": \"all\", \"nticks\": 20, \"showgrid\": true, \"showline\": true, \"title\": \"\\u6708\", \"zeroline\": true}, \"yaxis\": {\"mirror\": \"all\", \"nticks\": 20, \"showgrid\": true, \"showline\": true, \"title\": \"\\u5e73\\u5747\\u53cd\\u9988\\u65f6\\u957f&\\u53cd\\u9988\\u65f6\\u957fQ80\", \"zeroline\": true}},\n",
       "            {\"showLink\": true, \"linkText\": \"Export to plot.ly\"}\n",
       "        ).then(function () {return Plotly.addFrames('5ed1ef59-c5bc-4d75-9bd2-5f6d47325db6',{});}).then(function(){Plotly.animate('5ed1ef59-c5bc-4d75-9bd2-5f6d47325db6');})\n",
       "        });</script>"
      ]
     },
     "metadata": {},
     "output_type": "display_data"
    }
   ],
   "source": [
    "data_dict = {'平均反馈时长':['反馈总时长','下机批次数'], '反馈时长Q80':['反馈时长Q80']}\n",
    "myModule.plot( all_dict, data_dict, '人员' ,  'line' )"
   ]
  },
  {
   "cell_type": "markdown",
   "metadata": {},
   "source": [
    "## 异常"
   ]
  },
  {
   "cell_type": "markdown",
   "metadata": {},
   "source": [
    "### 下机批次比"
   ]
  },
  {
   "cell_type": "code",
   "execution_count": 51,
   "metadata": {},
   "outputs": [
    {
     "data": {
      "application/vnd.plotly.v1+json": {
       "data": [
        {
         "name": "卢楠",
         "type": "scatter",
         "uid": "d4d8996c-bbe2-11e8-adcf-a81e84e6c740",
         "x": [
          "8-1",
          "8-2",
          "8-3",
          "8-4",
          "8-5",
          "9-1",
          "9-2"
         ],
         "y": [
          1.3846153846153846,
          1.3823529411764706,
          1.0952380952380953,
          1,
          1.5,
          2,
          1.5
         ]
        },
        {
         "name": "冷雪",
         "type": "scatter",
         "uid": "d4d89caa-bbe2-11e8-adcf-a81e84e6c740",
         "x": [
          "8-1",
          "8-2",
          "8-3",
          "8-4",
          "8-5",
          "9-1",
          "9-2"
         ],
         "y": [
          1.2258064516129032,
          1.183673469387755,
          1.2941176470588236,
          1.0769230769230769,
          2.5,
          1.0740740740740742,
          1.2063492063492063
         ]
        },
        {
         "name": "张悦",
         "type": "scatter",
         "uid": "d4d89eee-bbe2-11e8-adcf-a81e84e6c740",
         "x": [
          "8-1",
          "8-2",
          "8-3",
          "8-4",
          "8-5",
          "9-1",
          "9-2"
         ],
         "y": [
          2,
          2,
          1,
          1,
          1.4,
          2,
          null
         ]
        },
        {
         "name": "屈昂",
         "type": "scatter",
         "uid": "d4d8a100-bbe2-11e8-adcf-a81e84e6c740",
         "x": [
          "8-1",
          "8-2",
          "8-3",
          "8-4",
          "8-5",
          "9-1",
          "9-2"
         ],
         "y": [
          1.1666666666666667,
          1.1935483870967742,
          1.2096774193548387,
          1.2395833333333333,
          1.118421052631579,
          1.1538461538461537,
          1.1842105263157894
         ]
        }
       ],
       "layout": {
        "title": "下机批次比周趋势图",
        "xaxis": {
         "mirror": "all",
         "nticks": 20,
         "showgrid": true,
         "showline": true,
         "title": "周",
         "zeroline": true
        },
        "yaxis": {
         "mirror": "all",
         "nticks": 20,
         "showgrid": true,
         "showline": true,
         "title": "下机批次比",
         "zeroline": true
        }
       }
      },
      "text/html": [
       "<div id=\"506b9c24-003e-41e8-b365-8e58ddce3de0\" style=\"height: 525px; width: 100%;\" class=\"plotly-graph-div\"></div><script type=\"text/javascript\">require([\"plotly\"], function(Plotly) { window.PLOTLYENV=window.PLOTLYENV || {};window.PLOTLYENV.BASE_URL=\"https://plot.ly\";\n",
       "        Plotly.plot(\n",
       "            '506b9c24-003e-41e8-b365-8e58ddce3de0',\n",
       "            [{\"name\": \"\\u5362\\u6960\", \"x\": [\"8-1\", \"8-2\", \"8-3\", \"8-4\", \"8-5\", \"9-1\", \"9-2\"], \"y\": [1.3846153846153846, 1.3823529411764706, 1.0952380952380953, 1.0, 1.5, 2.0, 1.5], \"type\": \"scatter\", \"uid\": \"d4d8996c-bbe2-11e8-adcf-a81e84e6c740\"}, {\"name\": \"\\u51b7\\u96ea\", \"x\": [\"8-1\", \"8-2\", \"8-3\", \"8-4\", \"8-5\", \"9-1\", \"9-2\"], \"y\": [1.2258064516129032, 1.183673469387755, 1.2941176470588236, 1.0769230769230769, 2.5, 1.0740740740740742, 1.2063492063492063], \"type\": \"scatter\", \"uid\": \"d4d89caa-bbe2-11e8-adcf-a81e84e6c740\"}, {\"name\": \"\\u5f20\\u60a6\", \"x\": [\"8-1\", \"8-2\", \"8-3\", \"8-4\", \"8-5\", \"9-1\", \"9-2\"], \"y\": [2.0, 2.0, 1.0, 1.0, 1.4, 2.0, null], \"type\": \"scatter\", \"uid\": \"d4d89eee-bbe2-11e8-adcf-a81e84e6c740\"}, {\"name\": \"\\u5c48\\u6602\", \"x\": [\"8-1\", \"8-2\", \"8-3\", \"8-4\", \"8-5\", \"9-1\", \"9-2\"], \"y\": [1.1666666666666667, 1.1935483870967742, 1.2096774193548387, 1.2395833333333333, 1.118421052631579, 1.1538461538461537, 1.1842105263157894], \"type\": \"scatter\", \"uid\": \"d4d8a100-bbe2-11e8-adcf-a81e84e6c740\"}],\n",
       "            {\"title\": \"\\u4e0b\\u673a\\u6279\\u6b21\\u6bd4\\u5468\\u8d8b\\u52bf\\u56fe\", \"xaxis\": {\"mirror\": \"all\", \"nticks\": 20, \"showgrid\": true, \"showline\": true, \"title\": \"\\u5468\", \"zeroline\": true}, \"yaxis\": {\"mirror\": \"all\", \"nticks\": 20, \"showgrid\": true, \"showline\": true, \"title\": \"\\u4e0b\\u673a\\u6279\\u6b21\\u6bd4\", \"zeroline\": true}},\n",
       "            {\"showLink\": true, \"linkText\": \"Export to plot.ly\"}\n",
       "        ).then(function () {return Plotly.addFrames('506b9c24-003e-41e8-b365-8e58ddce3de0',{});}).then(function(){Plotly.animate('506b9c24-003e-41e8-b365-8e58ddce3de0');})\n",
       "        });</script>"
      ],
      "text/vnd.plotly.v1+html": [
       "<div id=\"506b9c24-003e-41e8-b365-8e58ddce3de0\" style=\"height: 525px; width: 100%;\" class=\"plotly-graph-div\"></div><script type=\"text/javascript\">require([\"plotly\"], function(Plotly) { window.PLOTLYENV=window.PLOTLYENV || {};window.PLOTLYENV.BASE_URL=\"https://plot.ly\";\n",
       "        Plotly.plot(\n",
       "            '506b9c24-003e-41e8-b365-8e58ddce3de0',\n",
       "            [{\"name\": \"\\u5362\\u6960\", \"x\": [\"8-1\", \"8-2\", \"8-3\", \"8-4\", \"8-5\", \"9-1\", \"9-2\"], \"y\": [1.3846153846153846, 1.3823529411764706, 1.0952380952380953, 1.0, 1.5, 2.0, 1.5], \"type\": \"scatter\", \"uid\": \"d4d8996c-bbe2-11e8-adcf-a81e84e6c740\"}, {\"name\": \"\\u51b7\\u96ea\", \"x\": [\"8-1\", \"8-2\", \"8-3\", \"8-4\", \"8-5\", \"9-1\", \"9-2\"], \"y\": [1.2258064516129032, 1.183673469387755, 1.2941176470588236, 1.0769230769230769, 2.5, 1.0740740740740742, 1.2063492063492063], \"type\": \"scatter\", \"uid\": \"d4d89caa-bbe2-11e8-adcf-a81e84e6c740\"}, {\"name\": \"\\u5f20\\u60a6\", \"x\": [\"8-1\", \"8-2\", \"8-3\", \"8-4\", \"8-5\", \"9-1\", \"9-2\"], \"y\": [2.0, 2.0, 1.0, 1.0, 1.4, 2.0, null], \"type\": \"scatter\", \"uid\": \"d4d89eee-bbe2-11e8-adcf-a81e84e6c740\"}, {\"name\": \"\\u5c48\\u6602\", \"x\": [\"8-1\", \"8-2\", \"8-3\", \"8-4\", \"8-5\", \"9-1\", \"9-2\"], \"y\": [1.1666666666666667, 1.1935483870967742, 1.2096774193548387, 1.2395833333333333, 1.118421052631579, 1.1538461538461537, 1.1842105263157894], \"type\": \"scatter\", \"uid\": \"d4d8a100-bbe2-11e8-adcf-a81e84e6c740\"}],\n",
       "            {\"title\": \"\\u4e0b\\u673a\\u6279\\u6b21\\u6bd4\\u5468\\u8d8b\\u52bf\\u56fe\", \"xaxis\": {\"mirror\": \"all\", \"nticks\": 20, \"showgrid\": true, \"showline\": true, \"title\": \"\\u5468\", \"zeroline\": true}, \"yaxis\": {\"mirror\": \"all\", \"nticks\": 20, \"showgrid\": true, \"showline\": true, \"title\": \"\\u4e0b\\u673a\\u6279\\u6b21\\u6bd4\", \"zeroline\": true}},\n",
       "            {\"showLink\": true, \"linkText\": \"Export to plot.ly\"}\n",
       "        ).then(function () {return Plotly.addFrames('506b9c24-003e-41e8-b365-8e58ddce3de0',{});}).then(function(){Plotly.animate('506b9c24-003e-41e8-b365-8e58ddce3de0');})\n",
       "        });</script>"
      ]
     },
     "metadata": {},
     "output_type": "display_data"
    },
    {
     "data": {
      "application/vnd.plotly.v1+json": {
       "data": [
        {
         "name": "卢楠",
         "type": "scatter",
         "uid": "d4f0a14c-bbe2-11e8-adcf-a81e84e6c740",
         "x": [
          "8",
          "9"
         ],
         "y": [
          1.2708333333333333,
          1.6666666666666667
         ]
        },
        {
         "name": "冷雪",
         "type": "scatter",
         "uid": "d4f0a674-bbe2-11e8-adcf-a81e84e6c740",
         "x": [
          "8",
          "9"
         ],
         "y": [
          1.2264150943396226,
          1.1452991452991452
         ]
        },
        {
         "name": "张悦",
         "type": "scatter",
         "uid": "d4f0a9ee-bbe2-11e8-adcf-a81e84e6c740",
         "x": [
          "8",
          "9"
         ],
         "y": [
          1.4444444444444444,
          2
         ]
        },
        {
         "name": "屈昂",
         "type": "scatter",
         "uid": "d4f0ad22-bbe2-11e8-adcf-a81e84e6c740",
         "x": [
          "8",
          "9"
         ],
         "y": [
          1.1897590361445782,
          1.1612903225806452
         ]
        }
       ],
       "layout": {
        "title": "下机批次比月趋势图",
        "xaxis": {
         "mirror": "all",
         "nticks": 20,
         "showgrid": true,
         "showline": true,
         "title": "月",
         "zeroline": true
        },
        "yaxis": {
         "mirror": "all",
         "nticks": 20,
         "showgrid": true,
         "showline": true,
         "title": "下机批次比",
         "zeroline": true
        }
       }
      },
      "text/html": [
       "<div id=\"24ca20b2-ef07-4131-9696-ae28a974f7fb\" style=\"height: 525px; width: 100%;\" class=\"plotly-graph-div\"></div><script type=\"text/javascript\">require([\"plotly\"], function(Plotly) { window.PLOTLYENV=window.PLOTLYENV || {};window.PLOTLYENV.BASE_URL=\"https://plot.ly\";\n",
       "        Plotly.plot(\n",
       "            '24ca20b2-ef07-4131-9696-ae28a974f7fb',\n",
       "            [{\"name\": \"\\u5362\\u6960\", \"x\": [\"8\", \"9\"], \"y\": [1.2708333333333333, 1.6666666666666667], \"type\": \"scatter\", \"uid\": \"d4f0a14c-bbe2-11e8-adcf-a81e84e6c740\"}, {\"name\": \"\\u51b7\\u96ea\", \"x\": [\"8\", \"9\"], \"y\": [1.2264150943396226, 1.1452991452991452], \"type\": \"scatter\", \"uid\": \"d4f0a674-bbe2-11e8-adcf-a81e84e6c740\"}, {\"name\": \"\\u5f20\\u60a6\", \"x\": [\"8\", \"9\"], \"y\": [1.4444444444444444, 2.0], \"type\": \"scatter\", \"uid\": \"d4f0a9ee-bbe2-11e8-adcf-a81e84e6c740\"}, {\"name\": \"\\u5c48\\u6602\", \"x\": [\"8\", \"9\"], \"y\": [1.1897590361445782, 1.1612903225806452], \"type\": \"scatter\", \"uid\": \"d4f0ad22-bbe2-11e8-adcf-a81e84e6c740\"}],\n",
       "            {\"title\": \"\\u4e0b\\u673a\\u6279\\u6b21\\u6bd4\\u6708\\u8d8b\\u52bf\\u56fe\", \"xaxis\": {\"mirror\": \"all\", \"nticks\": 20, \"showgrid\": true, \"showline\": true, \"title\": \"\\u6708\", \"zeroline\": true}, \"yaxis\": {\"mirror\": \"all\", \"nticks\": 20, \"showgrid\": true, \"showline\": true, \"title\": \"\\u4e0b\\u673a\\u6279\\u6b21\\u6bd4\", \"zeroline\": true}},\n",
       "            {\"showLink\": true, \"linkText\": \"Export to plot.ly\"}\n",
       "        ).then(function () {return Plotly.addFrames('24ca20b2-ef07-4131-9696-ae28a974f7fb',{});}).then(function(){Plotly.animate('24ca20b2-ef07-4131-9696-ae28a974f7fb');})\n",
       "        });</script>"
      ],
      "text/vnd.plotly.v1+html": [
       "<div id=\"24ca20b2-ef07-4131-9696-ae28a974f7fb\" style=\"height: 525px; width: 100%;\" class=\"plotly-graph-div\"></div><script type=\"text/javascript\">require([\"plotly\"], function(Plotly) { window.PLOTLYENV=window.PLOTLYENV || {};window.PLOTLYENV.BASE_URL=\"https://plot.ly\";\n",
       "        Plotly.plot(\n",
       "            '24ca20b2-ef07-4131-9696-ae28a974f7fb',\n",
       "            [{\"name\": \"\\u5362\\u6960\", \"x\": [\"8\", \"9\"], \"y\": [1.2708333333333333, 1.6666666666666667], \"type\": \"scatter\", \"uid\": \"d4f0a14c-bbe2-11e8-adcf-a81e84e6c740\"}, {\"name\": \"\\u51b7\\u96ea\", \"x\": [\"8\", \"9\"], \"y\": [1.2264150943396226, 1.1452991452991452], \"type\": \"scatter\", \"uid\": \"d4f0a674-bbe2-11e8-adcf-a81e84e6c740\"}, {\"name\": \"\\u5f20\\u60a6\", \"x\": [\"8\", \"9\"], \"y\": [1.4444444444444444, 2.0], \"type\": \"scatter\", \"uid\": \"d4f0a9ee-bbe2-11e8-adcf-a81e84e6c740\"}, {\"name\": \"\\u5c48\\u6602\", \"x\": [\"8\", \"9\"], \"y\": [1.1897590361445782, 1.1612903225806452], \"type\": \"scatter\", \"uid\": \"d4f0ad22-bbe2-11e8-adcf-a81e84e6c740\"}],\n",
       "            {\"title\": \"\\u4e0b\\u673a\\u6279\\u6b21\\u6bd4\\u6708\\u8d8b\\u52bf\\u56fe\", \"xaxis\": {\"mirror\": \"all\", \"nticks\": 20, \"showgrid\": true, \"showline\": true, \"title\": \"\\u6708\", \"zeroline\": true}, \"yaxis\": {\"mirror\": \"all\", \"nticks\": 20, \"showgrid\": true, \"showline\": true, \"title\": \"\\u4e0b\\u673a\\u6279\\u6b21\\u6bd4\", \"zeroline\": true}},\n",
       "            {\"showLink\": true, \"linkText\": \"Export to plot.ly\"}\n",
       "        ).then(function () {return Plotly.addFrames('24ca20b2-ef07-4131-9696-ae28a974f7fb',{});}).then(function(){Plotly.animate('24ca20b2-ef07-4131-9696-ae28a974f7fb');})\n",
       "        });</script>"
      ]
     },
     "metadata": {},
     "output_type": "display_data"
    }
   ],
   "source": [
    "data_dict = {'下机批次比':['下机批次数','下机项目数']}\n",
    "myModule.plot( all_dict, data_dict, '人员' ,  'line' )"
   ]
  },
  {
   "cell_type": "markdown",
   "metadata": {
    "collapsed": true
   },
   "source": [
    "### 个性化数"
   ]
  },
  {
   "cell_type": "code",
   "execution_count": 52,
   "metadata": {},
   "outputs": [
    {
     "data": {
      "application/vnd.plotly.v1+json": {
       "data": [
        {
         "name": "卢楠",
         "type": "scatter",
         "uid": "d53904d2-bbe2-11e8-adcf-a81e84e6c740",
         "x": [
          "8-1",
          "8-2",
          "8-3",
          "8-4",
          "8-5",
          "9-1",
          "9-2"
         ],
         "y": [
          0,
          0,
          0,
          0,
          0,
          0,
          0
         ]
        },
        {
         "name": "冷雪",
         "type": "scatter",
         "uid": "d53908ce-bbe2-11e8-adcf-a81e84e6c740",
         "x": [
          "8-1",
          "8-2",
          "8-3",
          "8-4",
          "8-5",
          "9-1",
          "9-2"
         ],
         "y": [
          0,
          0,
          0,
          0,
          0,
          0,
          0
         ]
        },
        {
         "name": "张悦",
         "type": "scatter",
         "uid": "d5390bb2-bbe2-11e8-adcf-a81e84e6c740",
         "x": [
          "8-1",
          "8-2",
          "8-3",
          "8-4",
          "8-5",
          "9-1",
          "9-2"
         ],
         "y": [
          0,
          0,
          0,
          0,
          0,
          0,
          0
         ]
        },
        {
         "name": "屈昂",
         "type": "scatter",
         "uid": "d5390e5a-bbe2-11e8-adcf-a81e84e6c740",
         "x": [
          "8-1",
          "8-2",
          "8-3",
          "8-4",
          "8-5",
          "9-1",
          "9-2"
         ],
         "y": [
          0,
          0,
          0,
          0,
          0,
          0,
          0
         ]
        }
       ],
       "layout": {
        "title": "个性化数周趋势图",
        "xaxis": {
         "mirror": "all",
         "nticks": 20,
         "showgrid": true,
         "showline": true,
         "title": "周",
         "zeroline": true
        },
        "yaxis": {
         "mirror": "all",
         "nticks": 20,
         "showgrid": true,
         "showline": true,
         "title": "个性化数",
         "zeroline": true
        }
       }
      },
      "text/html": [
       "<div id=\"7f8f82b4-5565-47be-af6e-c537bcb54e94\" style=\"height: 525px; width: 100%;\" class=\"plotly-graph-div\"></div><script type=\"text/javascript\">require([\"plotly\"], function(Plotly) { window.PLOTLYENV=window.PLOTLYENV || {};window.PLOTLYENV.BASE_URL=\"https://plot.ly\";\n",
       "        Plotly.plot(\n",
       "            '7f8f82b4-5565-47be-af6e-c537bcb54e94',\n",
       "            [{\"name\": \"\\u5362\\u6960\", \"x\": [\"8-1\", \"8-2\", \"8-3\", \"8-4\", \"8-5\", \"9-1\", \"9-2\"], \"y\": [0.0, 0.0, 0.0, 0.0, 0.0, 0.0, 0.0], \"type\": \"scatter\", \"uid\": \"d53904d2-bbe2-11e8-adcf-a81e84e6c740\"}, {\"name\": \"\\u51b7\\u96ea\", \"x\": [\"8-1\", \"8-2\", \"8-3\", \"8-4\", \"8-5\", \"9-1\", \"9-2\"], \"y\": [0.0, 0.0, 0.0, 0.0, 0.0, 0.0, 0.0], \"type\": \"scatter\", \"uid\": \"d53908ce-bbe2-11e8-adcf-a81e84e6c740\"}, {\"name\": \"\\u5f20\\u60a6\", \"x\": [\"8-1\", \"8-2\", \"8-3\", \"8-4\", \"8-5\", \"9-1\", \"9-2\"], \"y\": [0.0, 0.0, 0.0, 0.0, 0.0, 0.0, 0.0], \"type\": \"scatter\", \"uid\": \"d5390bb2-bbe2-11e8-adcf-a81e84e6c740\"}, {\"name\": \"\\u5c48\\u6602\", \"x\": [\"8-1\", \"8-2\", \"8-3\", \"8-4\", \"8-5\", \"9-1\", \"9-2\"], \"y\": [0.0, 0.0, 0.0, 0.0, 0.0, 0.0, 0.0], \"type\": \"scatter\", \"uid\": \"d5390e5a-bbe2-11e8-adcf-a81e84e6c740\"}],\n",
       "            {\"title\": \"\\u4e2a\\u6027\\u5316\\u6570\\u5468\\u8d8b\\u52bf\\u56fe\", \"xaxis\": {\"mirror\": \"all\", \"nticks\": 20, \"showgrid\": true, \"showline\": true, \"title\": \"\\u5468\", \"zeroline\": true}, \"yaxis\": {\"mirror\": \"all\", \"nticks\": 20, \"showgrid\": true, \"showline\": true, \"title\": \"\\u4e2a\\u6027\\u5316\\u6570\", \"zeroline\": true}},\n",
       "            {\"showLink\": true, \"linkText\": \"Export to plot.ly\"}\n",
       "        ).then(function () {return Plotly.addFrames('7f8f82b4-5565-47be-af6e-c537bcb54e94',{});}).then(function(){Plotly.animate('7f8f82b4-5565-47be-af6e-c537bcb54e94');})\n",
       "        });</script>"
      ],
      "text/vnd.plotly.v1+html": [
       "<div id=\"7f8f82b4-5565-47be-af6e-c537bcb54e94\" style=\"height: 525px; width: 100%;\" class=\"plotly-graph-div\"></div><script type=\"text/javascript\">require([\"plotly\"], function(Plotly) { window.PLOTLYENV=window.PLOTLYENV || {};window.PLOTLYENV.BASE_URL=\"https://plot.ly\";\n",
       "        Plotly.plot(\n",
       "            '7f8f82b4-5565-47be-af6e-c537bcb54e94',\n",
       "            [{\"name\": \"\\u5362\\u6960\", \"x\": [\"8-1\", \"8-2\", \"8-3\", \"8-4\", \"8-5\", \"9-1\", \"9-2\"], \"y\": [0.0, 0.0, 0.0, 0.0, 0.0, 0.0, 0.0], \"type\": \"scatter\", \"uid\": \"d53904d2-bbe2-11e8-adcf-a81e84e6c740\"}, {\"name\": \"\\u51b7\\u96ea\", \"x\": [\"8-1\", \"8-2\", \"8-3\", \"8-4\", \"8-5\", \"9-1\", \"9-2\"], \"y\": [0.0, 0.0, 0.0, 0.0, 0.0, 0.0, 0.0], \"type\": \"scatter\", \"uid\": \"d53908ce-bbe2-11e8-adcf-a81e84e6c740\"}, {\"name\": \"\\u5f20\\u60a6\", \"x\": [\"8-1\", \"8-2\", \"8-3\", \"8-4\", \"8-5\", \"9-1\", \"9-2\"], \"y\": [0.0, 0.0, 0.0, 0.0, 0.0, 0.0, 0.0], \"type\": \"scatter\", \"uid\": \"d5390bb2-bbe2-11e8-adcf-a81e84e6c740\"}, {\"name\": \"\\u5c48\\u6602\", \"x\": [\"8-1\", \"8-2\", \"8-3\", \"8-4\", \"8-5\", \"9-1\", \"9-2\"], \"y\": [0.0, 0.0, 0.0, 0.0, 0.0, 0.0, 0.0], \"type\": \"scatter\", \"uid\": \"d5390e5a-bbe2-11e8-adcf-a81e84e6c740\"}],\n",
       "            {\"title\": \"\\u4e2a\\u6027\\u5316\\u6570\\u5468\\u8d8b\\u52bf\\u56fe\", \"xaxis\": {\"mirror\": \"all\", \"nticks\": 20, \"showgrid\": true, \"showline\": true, \"title\": \"\\u5468\", \"zeroline\": true}, \"yaxis\": {\"mirror\": \"all\", \"nticks\": 20, \"showgrid\": true, \"showline\": true, \"title\": \"\\u4e2a\\u6027\\u5316\\u6570\", \"zeroline\": true}},\n",
       "            {\"showLink\": true, \"linkText\": \"Export to plot.ly\"}\n",
       "        ).then(function () {return Plotly.addFrames('7f8f82b4-5565-47be-af6e-c537bcb54e94',{});}).then(function(){Plotly.animate('7f8f82b4-5565-47be-af6e-c537bcb54e94');})\n",
       "        });</script>"
      ]
     },
     "metadata": {},
     "output_type": "display_data"
    },
    {
     "data": {
      "application/vnd.plotly.v1+json": {
       "data": [
        {
         "name": "卢楠",
         "type": "scatter",
         "uid": "d54dbba2-bbe2-11e8-adcf-a81e84e6c740",
         "x": [
          "8",
          "9"
         ],
         "y": [
          0,
          0
         ]
        },
        {
         "name": "冷雪",
         "type": "scatter",
         "uid": "d54dc188-bbe2-11e8-adcf-a81e84e6c740",
         "x": [
          "8",
          "9"
         ],
         "y": [
          0,
          0
         ]
        },
        {
         "name": "张悦",
         "type": "scatter",
         "uid": "d54dc53e-bbe2-11e8-adcf-a81e84e6c740",
         "x": [
          "8",
          "9"
         ],
         "y": [
          0,
          0
         ]
        },
        {
         "name": "屈昂",
         "type": "scatter",
         "uid": "d54dc84a-bbe2-11e8-adcf-a81e84e6c740",
         "x": [
          "8",
          "9"
         ],
         "y": [
          0,
          0
         ]
        }
       ],
       "layout": {
        "title": "个性化数月趋势图",
        "xaxis": {
         "mirror": "all",
         "nticks": 20,
         "showgrid": true,
         "showline": true,
         "title": "月",
         "zeroline": true
        },
        "yaxis": {
         "mirror": "all",
         "nticks": 20,
         "showgrid": true,
         "showline": true,
         "title": "个性化数",
         "zeroline": true
        }
       }
      },
      "text/html": [
       "<div id=\"7ab9417d-e9a3-4957-9ca4-4b38d9567d46\" style=\"height: 525px; width: 100%;\" class=\"plotly-graph-div\"></div><script type=\"text/javascript\">require([\"plotly\"], function(Plotly) { window.PLOTLYENV=window.PLOTLYENV || {};window.PLOTLYENV.BASE_URL=\"https://plot.ly\";\n",
       "        Plotly.plot(\n",
       "            '7ab9417d-e9a3-4957-9ca4-4b38d9567d46',\n",
       "            [{\"name\": \"\\u5362\\u6960\", \"x\": [\"8\", \"9\"], \"y\": [0.0, 0.0], \"type\": \"scatter\", \"uid\": \"d54dbba2-bbe2-11e8-adcf-a81e84e6c740\"}, {\"name\": \"\\u51b7\\u96ea\", \"x\": [\"8\", \"9\"], \"y\": [0.0, 0.0], \"type\": \"scatter\", \"uid\": \"d54dc188-bbe2-11e8-adcf-a81e84e6c740\"}, {\"name\": \"\\u5f20\\u60a6\", \"x\": [\"8\", \"9\"], \"y\": [0.0, 0.0], \"type\": \"scatter\", \"uid\": \"d54dc53e-bbe2-11e8-adcf-a81e84e6c740\"}, {\"name\": \"\\u5c48\\u6602\", \"x\": [\"8\", \"9\"], \"y\": [0.0, 0.0], \"type\": \"scatter\", \"uid\": \"d54dc84a-bbe2-11e8-adcf-a81e84e6c740\"}],\n",
       "            {\"title\": \"\\u4e2a\\u6027\\u5316\\u6570\\u6708\\u8d8b\\u52bf\\u56fe\", \"xaxis\": {\"mirror\": \"all\", \"nticks\": 20, \"showgrid\": true, \"showline\": true, \"title\": \"\\u6708\", \"zeroline\": true}, \"yaxis\": {\"mirror\": \"all\", \"nticks\": 20, \"showgrid\": true, \"showline\": true, \"title\": \"\\u4e2a\\u6027\\u5316\\u6570\", \"zeroline\": true}},\n",
       "            {\"showLink\": true, \"linkText\": \"Export to plot.ly\"}\n",
       "        ).then(function () {return Plotly.addFrames('7ab9417d-e9a3-4957-9ca4-4b38d9567d46',{});}).then(function(){Plotly.animate('7ab9417d-e9a3-4957-9ca4-4b38d9567d46');})\n",
       "        });</script>"
      ],
      "text/vnd.plotly.v1+html": [
       "<div id=\"7ab9417d-e9a3-4957-9ca4-4b38d9567d46\" style=\"height: 525px; width: 100%;\" class=\"plotly-graph-div\"></div><script type=\"text/javascript\">require([\"plotly\"], function(Plotly) { window.PLOTLYENV=window.PLOTLYENV || {};window.PLOTLYENV.BASE_URL=\"https://plot.ly\";\n",
       "        Plotly.plot(\n",
       "            '7ab9417d-e9a3-4957-9ca4-4b38d9567d46',\n",
       "            [{\"name\": \"\\u5362\\u6960\", \"x\": [\"8\", \"9\"], \"y\": [0.0, 0.0], \"type\": \"scatter\", \"uid\": \"d54dbba2-bbe2-11e8-adcf-a81e84e6c740\"}, {\"name\": \"\\u51b7\\u96ea\", \"x\": [\"8\", \"9\"], \"y\": [0.0, 0.0], \"type\": \"scatter\", \"uid\": \"d54dc188-bbe2-11e8-adcf-a81e84e6c740\"}, {\"name\": \"\\u5f20\\u60a6\", \"x\": [\"8\", \"9\"], \"y\": [0.0, 0.0], \"type\": \"scatter\", \"uid\": \"d54dc53e-bbe2-11e8-adcf-a81e84e6c740\"}, {\"name\": \"\\u5c48\\u6602\", \"x\": [\"8\", \"9\"], \"y\": [0.0, 0.0], \"type\": \"scatter\", \"uid\": \"d54dc84a-bbe2-11e8-adcf-a81e84e6c740\"}],\n",
       "            {\"title\": \"\\u4e2a\\u6027\\u5316\\u6570\\u6708\\u8d8b\\u52bf\\u56fe\", \"xaxis\": {\"mirror\": \"all\", \"nticks\": 20, \"showgrid\": true, \"showline\": true, \"title\": \"\\u6708\", \"zeroline\": true}, \"yaxis\": {\"mirror\": \"all\", \"nticks\": 20, \"showgrid\": true, \"showline\": true, \"title\": \"\\u4e2a\\u6027\\u5316\\u6570\", \"zeroline\": true}},\n",
       "            {\"showLink\": true, \"linkText\": \"Export to plot.ly\"}\n",
       "        ).then(function () {return Plotly.addFrames('7ab9417d-e9a3-4957-9ca4-4b38d9567d46',{});}).then(function(){Plotly.animate('7ab9417d-e9a3-4957-9ca4-4b38d9567d46');})\n",
       "        });</script>"
      ]
     },
     "metadata": {},
     "output_type": "display_data"
    }
   ],
   "source": [
    "data_dict = {'个性化数':['个性化数']}\n",
    "myModule.plot( all_dict, data_dict, '人员' ,  'line' )"
   ]
  }
 ],
 "metadata": {
  "celltoolbar": "Raw Cell Format",
  "hide_input": false,
  "kernelspec": {
   "display_name": "Python 3",
   "language": "python",
   "name": "python3"
  },
  "language_info": {
   "codemirror_mode": {
    "name": "ipython",
    "version": 3
   },
   "file_extension": ".py",
   "mimetype": "text/x-python",
   "name": "python",
   "nbconvert_exporter": "python",
   "pygments_lexer": "ipython3",
   "version": "3.6.6"
  },
  "toc": {
   "base_numbering": 1,
   "nav_menu": {},
   "number_sections": true,
   "sideBar": true,
   "skip_h1_title": false,
   "title_cell": "Table of Contents",
   "title_sidebar": "Contents",
   "toc_cell": false,
   "toc_position": {
    "height": "513.333px",
    "left": "419px",
    "top": "110.926px",
    "width": "326.505px"
   },
   "toc_section_display": true,
   "toc_window_display": true
  }
 },
 "nbformat": 4,
 "nbformat_minor": 2
}
