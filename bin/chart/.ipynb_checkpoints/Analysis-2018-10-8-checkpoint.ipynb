{
 "cells": [
  {
   "cell_type": "markdown",
   "metadata": {},
   "source": [
    "tobedone：每组人均产能，表格的规整和简化"
   ]
  },
  {
   "cell_type": "code",
   "execution_count": 2,
   "metadata": {},
   "outputs": [
    {
     "name": "stdout",
     "output_type": "stream",
     "text": [
      "The autoreload extension is already loaded. To reload it, use:\n",
      "  %reload_ext autoreload\n"
     ]
    }
   ],
   "source": [
    "%load_ext autoreload\n",
    "%autoreload 2"
   ]
  },
  {
   "cell_type": "code",
   "execution_count": 3,
   "metadata": {
    "scrolled": true
   },
   "outputs": [
    {
     "data": {
      "text/html": [
       "<script>requirejs.config({paths: { 'plotly': ['https://cdn.plot.ly/plotly-latest.min']},});if(!window.Plotly) {{require(['plotly'],function(plotly) {window.Plotly=plotly;});}}</script>"
      ],
      "text/vnd.plotly.v1+html": [
       "<script>requirejs.config({paths: { 'plotly': ['https://cdn.plot.ly/plotly-latest.min']},});if(!window.Plotly) {{require(['plotly'],function(plotly) {window.Plotly=plotly;});}}</script>"
      ]
     },
     "metadata": {},
     "output_type": "display_data"
    },
    {
     "data": {
      "text/html": [
       "<script>requirejs.config({paths: { 'plotly': ['https://cdn.plot.ly/plotly-latest.min']},});if(!window.Plotly) {{require(['plotly'],function(plotly) {window.Plotly=plotly;});}}</script>"
      ],
      "text/vnd.plotly.v1+html": [
       "<script>requirejs.config({paths: { 'plotly': ['https://cdn.plot.ly/plotly-latest.min']},});if(!window.Plotly) {{require(['plotly'],function(plotly) {window.Plotly=plotly;});}}</script>"
      ]
     },
     "metadata": {},
     "output_type": "display_data"
    }
   ],
   "source": [
    "import sys\n",
    "sys.path.append('./')\n",
    "import myModule\n",
    "import imp\n",
    "imp.reload(myModule)\n",
    "time_list=['week']"
   ]
  },
  {
   "cell_type": "code",
   "execution_count": 10,
   "metadata": {
    "scrolled": true
   },
   "outputs": [],
   "source": [
    "pathway = '/mnt/e/jupyter/data/Analysis/'\n",
    "all_files , title = myModule.get_title(pathway, 0)   ##给路径\n",
    "all_df1  = myModule.read_xlsx(all_files , 0 )## read all files sheet1\n"
   ]
  },
  {
   "cell_type": "code",
   "execution_count": 26,
   "metadata": {
    "scrolled": false
   },
   "outputs": [
    {
     "name": "stderr",
     "output_type": "stream",
     "text": [
      "/mnt/e/jupyter/bin/chart/myModule.py:73: SettingWithCopyWarning:\n",
      "\n",
      "\n",
      "A value is trying to be set on a copy of a slice from a DataFrame\n",
      "\n",
      "See the caveats in the documentation: http://pandas.pydata.org/pandas-docs/stable/indexing.html#indexing-view-versus-copy\n",
      "\n"
     ]
    },
    {
     "data": {
      "text/html": [
       "<div>\n",
       "<style scoped>\n",
       "    .dataframe tbody tr th:only-of-type {\n",
       "        vertical-align: middle;\n",
       "    }\n",
       "\n",
       "    .dataframe tbody tr th {\n",
       "        vertical-align: top;\n",
       "    }\n",
       "\n",
       "    .dataframe thead th {\n",
       "        text-align: right;\n",
       "    }\n",
       "</style>\n",
       "<table border=\"1\" class=\"dataframe\">\n",
       "  <thead>\n",
       "    <tr style=\"text-align: right;\">\n",
       "      <th></th>\n",
       "      <th>组别</th>\n",
       "      <th>人员</th>\n",
       "      <th>日期（格式“月-周次”）</th>\n",
       "      <th>完成商业项目数</th>\n",
       "      <th>完成个性化数</th>\n",
       "      <th>延期商业项目数</th>\n",
       "      <th>延期个性化项目数</th>\n",
       "      <th>24h内未完成数据反馈项目数</th>\n",
       "      <th>反馈延期个性化数</th>\n",
       "      <th>24h内未完成数据交付项目数</th>\n",
       "      <th>...</th>\n",
       "      <th>完成流水线项目数</th>\n",
       "      <th>完成非流水线项目数</th>\n",
       "      <th>完成只分析项目数</th>\n",
       "      <th>完成联合分析项目数</th>\n",
       "      <th>在线标准分析项目数</th>\n",
       "      <th>在线个性化项目数</th>\n",
       "      <th>未下机项目数</th>\n",
       "      <th>组别.1</th>\n",
       "      <th>完成项目总数</th>\n",
       "      <th>在线项目总数</th>\n",
       "    </tr>\n",
       "  </thead>\n",
       "  <tbody>\n",
       "    <tr>\n",
       "      <th>0</th>\n",
       "      <td>分析二组</td>\n",
       "      <td>李晓波</td>\n",
       "      <td>8-1</td>\n",
       "      <td>0.0</td>\n",
       "      <td>0</td>\n",
       "      <td>0.0</td>\n",
       "      <td>0.0</td>\n",
       "      <td>0.0</td>\n",
       "      <td>0.0</td>\n",
       "      <td>0.0</td>\n",
       "      <td>...</td>\n",
       "      <td>NaN</td>\n",
       "      <td>NaN</td>\n",
       "      <td>NaN</td>\n",
       "      <td>NaN</td>\n",
       "      <td>NaN</td>\n",
       "      <td>NaN</td>\n",
       "      <td>NaN</td>\n",
       "      <td>NaN</td>\n",
       "      <td>0.0</td>\n",
       "      <td>0.0</td>\n",
       "    </tr>\n",
       "    <tr>\n",
       "      <th>1</th>\n",
       "      <td>分析二组</td>\n",
       "      <td>马潇</td>\n",
       "      <td>8-1</td>\n",
       "      <td>3.0</td>\n",
       "      <td>0</td>\n",
       "      <td>0.0</td>\n",
       "      <td>0.0</td>\n",
       "      <td>0.0</td>\n",
       "      <td>0.0</td>\n",
       "      <td>0.0</td>\n",
       "      <td>...</td>\n",
       "      <td>NaN</td>\n",
       "      <td>NaN</td>\n",
       "      <td>NaN</td>\n",
       "      <td>NaN</td>\n",
       "      <td>NaN</td>\n",
       "      <td>NaN</td>\n",
       "      <td>NaN</td>\n",
       "      <td>NaN</td>\n",
       "      <td>3.0</td>\n",
       "      <td>2.0</td>\n",
       "    </tr>\n",
       "    <tr>\n",
       "      <th>2</th>\n",
       "      <td>分析二组</td>\n",
       "      <td>段利强</td>\n",
       "      <td>8-1</td>\n",
       "      <td>0.0</td>\n",
       "      <td>2</td>\n",
       "      <td>0.0</td>\n",
       "      <td>0.0</td>\n",
       "      <td>0.0</td>\n",
       "      <td>0.0</td>\n",
       "      <td>0.0</td>\n",
       "      <td>...</td>\n",
       "      <td>NaN</td>\n",
       "      <td>NaN</td>\n",
       "      <td>NaN</td>\n",
       "      <td>NaN</td>\n",
       "      <td>NaN</td>\n",
       "      <td>NaN</td>\n",
       "      <td>NaN</td>\n",
       "      <td>NaN</td>\n",
       "      <td>2.0</td>\n",
       "      <td>4.0</td>\n",
       "    </tr>\n",
       "    <tr>\n",
       "      <th>3</th>\n",
       "      <td>分析二组</td>\n",
       "      <td>杨宇</td>\n",
       "      <td>8-1</td>\n",
       "      <td>1.0</td>\n",
       "      <td>0</td>\n",
       "      <td>0.0</td>\n",
       "      <td>0.0</td>\n",
       "      <td>0.0</td>\n",
       "      <td>0.0</td>\n",
       "      <td>0.0</td>\n",
       "      <td>...</td>\n",
       "      <td>NaN</td>\n",
       "      <td>NaN</td>\n",
       "      <td>NaN</td>\n",
       "      <td>NaN</td>\n",
       "      <td>NaN</td>\n",
       "      <td>NaN</td>\n",
       "      <td>NaN</td>\n",
       "      <td>NaN</td>\n",
       "      <td>1.0</td>\n",
       "      <td>3.0</td>\n",
       "    </tr>\n",
       "    <tr>\n",
       "      <th>4</th>\n",
       "      <td>分析二组</td>\n",
       "      <td>陈碧雯</td>\n",
       "      <td>8-1</td>\n",
       "      <td>1.0</td>\n",
       "      <td>0</td>\n",
       "      <td>0.0</td>\n",
       "      <td>0.0</td>\n",
       "      <td>0.0</td>\n",
       "      <td>0.0</td>\n",
       "      <td>0.0</td>\n",
       "      <td>...</td>\n",
       "      <td>NaN</td>\n",
       "      <td>NaN</td>\n",
       "      <td>NaN</td>\n",
       "      <td>NaN</td>\n",
       "      <td>NaN</td>\n",
       "      <td>NaN</td>\n",
       "      <td>NaN</td>\n",
       "      <td>NaN</td>\n",
       "      <td>1.0</td>\n",
       "      <td>2.0</td>\n",
       "    </tr>\n",
       "    <tr>\n",
       "      <th>5</th>\n",
       "      <td>分析二组</td>\n",
       "      <td>何胜</td>\n",
       "      <td>8-1</td>\n",
       "      <td>1.0</td>\n",
       "      <td>0</td>\n",
       "      <td>0.0</td>\n",
       "      <td>0.0</td>\n",
       "      <td>0.0</td>\n",
       "      <td>0.0</td>\n",
       "      <td>0.0</td>\n",
       "      <td>...</td>\n",
       "      <td>NaN</td>\n",
       "      <td>NaN</td>\n",
       "      <td>NaN</td>\n",
       "      <td>NaN</td>\n",
       "      <td>NaN</td>\n",
       "      <td>NaN</td>\n",
       "      <td>NaN</td>\n",
       "      <td>NaN</td>\n",
       "      <td>1.0</td>\n",
       "      <td>4.0</td>\n",
       "    </tr>\n",
       "    <tr>\n",
       "      <th>6</th>\n",
       "      <td>分析二组</td>\n",
       "      <td>刘梦苑</td>\n",
       "      <td>8-1</td>\n",
       "      <td>0.0</td>\n",
       "      <td>0</td>\n",
       "      <td>0.0</td>\n",
       "      <td>0.0</td>\n",
       "      <td>0.0</td>\n",
       "      <td>0.0</td>\n",
       "      <td>0.0</td>\n",
       "      <td>...</td>\n",
       "      <td>NaN</td>\n",
       "      <td>NaN</td>\n",
       "      <td>NaN</td>\n",
       "      <td>NaN</td>\n",
       "      <td>NaN</td>\n",
       "      <td>NaN</td>\n",
       "      <td>NaN</td>\n",
       "      <td>NaN</td>\n",
       "      <td>0.0</td>\n",
       "      <td>8.0</td>\n",
       "    </tr>\n",
       "    <tr>\n",
       "      <th>7</th>\n",
       "      <td>分析二组</td>\n",
       "      <td>闻少楠</td>\n",
       "      <td>8-1</td>\n",
       "      <td>2.0</td>\n",
       "      <td>0</td>\n",
       "      <td>0.0</td>\n",
       "      <td>0.0</td>\n",
       "      <td>1.0</td>\n",
       "      <td>0.0</td>\n",
       "      <td>0.0</td>\n",
       "      <td>...</td>\n",
       "      <td>NaN</td>\n",
       "      <td>NaN</td>\n",
       "      <td>NaN</td>\n",
       "      <td>NaN</td>\n",
       "      <td>NaN</td>\n",
       "      <td>NaN</td>\n",
       "      <td>NaN</td>\n",
       "      <td>NaN</td>\n",
       "      <td>2.0</td>\n",
       "      <td>3.0</td>\n",
       "    </tr>\n",
       "    <tr>\n",
       "      <th>8</th>\n",
       "      <td>分析二组</td>\n",
       "      <td>王霞</td>\n",
       "      <td>8-1</td>\n",
       "      <td>0.0</td>\n",
       "      <td>0</td>\n",
       "      <td>0.0</td>\n",
       "      <td>0.0</td>\n",
       "      <td>0.0</td>\n",
       "      <td>0.0</td>\n",
       "      <td>0.0</td>\n",
       "      <td>...</td>\n",
       "      <td>NaN</td>\n",
       "      <td>NaN</td>\n",
       "      <td>NaN</td>\n",
       "      <td>NaN</td>\n",
       "      <td>NaN</td>\n",
       "      <td>NaN</td>\n",
       "      <td>NaN</td>\n",
       "      <td>NaN</td>\n",
       "      <td>0.0</td>\n",
       "      <td>0.0</td>\n",
       "    </tr>\n",
       "    <tr>\n",
       "      <th>9</th>\n",
       "      <td>分析二组</td>\n",
       "      <td>于勇一</td>\n",
       "      <td>8-1</td>\n",
       "      <td>1.0</td>\n",
       "      <td>1</td>\n",
       "      <td>0.0</td>\n",
       "      <td>0.0</td>\n",
       "      <td>0.0</td>\n",
       "      <td>0.0</td>\n",
       "      <td>0.0</td>\n",
       "      <td>...</td>\n",
       "      <td>NaN</td>\n",
       "      <td>NaN</td>\n",
       "      <td>NaN</td>\n",
       "      <td>NaN</td>\n",
       "      <td>NaN</td>\n",
       "      <td>NaN</td>\n",
       "      <td>NaN</td>\n",
       "      <td>NaN</td>\n",
       "      <td>2.0</td>\n",
       "      <td>2.0</td>\n",
       "    </tr>\n",
       "    <tr>\n",
       "      <th>10</th>\n",
       "      <td>分析二组</td>\n",
       "      <td>宋少宇</td>\n",
       "      <td>8-1</td>\n",
       "      <td>4.0</td>\n",
       "      <td>3</td>\n",
       "      <td>0.0</td>\n",
       "      <td>0.0</td>\n",
       "      <td>0.0</td>\n",
       "      <td>0.0</td>\n",
       "      <td>0.0</td>\n",
       "      <td>...</td>\n",
       "      <td>NaN</td>\n",
       "      <td>NaN</td>\n",
       "      <td>NaN</td>\n",
       "      <td>NaN</td>\n",
       "      <td>NaN</td>\n",
       "      <td>NaN</td>\n",
       "      <td>NaN</td>\n",
       "      <td>NaN</td>\n",
       "      <td>7.0</td>\n",
       "      <td>10.0</td>\n",
       "    </tr>\n",
       "    <tr>\n",
       "      <th>11</th>\n",
       "      <td>分析一组</td>\n",
       "      <td>刘永强</td>\n",
       "      <td>8-1</td>\n",
       "      <td>0.0</td>\n",
       "      <td>0</td>\n",
       "      <td>0.0</td>\n",
       "      <td>0.0</td>\n",
       "      <td>0.0</td>\n",
       "      <td>0.0</td>\n",
       "      <td>0.0</td>\n",
       "      <td>...</td>\n",
       "      <td>NaN</td>\n",
       "      <td>NaN</td>\n",
       "      <td>NaN</td>\n",
       "      <td>NaN</td>\n",
       "      <td>NaN</td>\n",
       "      <td>NaN</td>\n",
       "      <td>NaN</td>\n",
       "      <td>NaN</td>\n",
       "      <td>0.0</td>\n",
       "      <td>1.0</td>\n",
       "    </tr>\n",
       "    <tr>\n",
       "      <th>12</th>\n",
       "      <td>分析一组</td>\n",
       "      <td>陈鹏燕</td>\n",
       "      <td>8-1</td>\n",
       "      <td>7.0</td>\n",
       "      <td>4</td>\n",
       "      <td>0.0</td>\n",
       "      <td>0.0</td>\n",
       "      <td>0.0</td>\n",
       "      <td>0.0</td>\n",
       "      <td>0.0</td>\n",
       "      <td>...</td>\n",
       "      <td>NaN</td>\n",
       "      <td>NaN</td>\n",
       "      <td>NaN</td>\n",
       "      <td>NaN</td>\n",
       "      <td>NaN</td>\n",
       "      <td>NaN</td>\n",
       "      <td>NaN</td>\n",
       "      <td>NaN</td>\n",
       "      <td>11.0</td>\n",
       "      <td>11.0</td>\n",
       "    </tr>\n",
       "    <tr>\n",
       "      <th>13</th>\n",
       "      <td>分析一组</td>\n",
       "      <td>昶吉阳</td>\n",
       "      <td>8-1</td>\n",
       "      <td>9.0</td>\n",
       "      <td>4</td>\n",
       "      <td>0.0</td>\n",
       "      <td>0.0</td>\n",
       "      <td>0.0</td>\n",
       "      <td>0.0</td>\n",
       "      <td>0.0</td>\n",
       "      <td>...</td>\n",
       "      <td>NaN</td>\n",
       "      <td>NaN</td>\n",
       "      <td>NaN</td>\n",
       "      <td>NaN</td>\n",
       "      <td>NaN</td>\n",
       "      <td>NaN</td>\n",
       "      <td>NaN</td>\n",
       "      <td>NaN</td>\n",
       "      <td>13.0</td>\n",
       "      <td>13.0</td>\n",
       "    </tr>\n",
       "    <tr>\n",
       "      <th>14</th>\n",
       "      <td>分析一组</td>\n",
       "      <td>解飞</td>\n",
       "      <td>8-1</td>\n",
       "      <td>8.0</td>\n",
       "      <td>1</td>\n",
       "      <td>0.0</td>\n",
       "      <td>0.0</td>\n",
       "      <td>0.0</td>\n",
       "      <td>0.0</td>\n",
       "      <td>0.0</td>\n",
       "      <td>...</td>\n",
       "      <td>NaN</td>\n",
       "      <td>NaN</td>\n",
       "      <td>NaN</td>\n",
       "      <td>NaN</td>\n",
       "      <td>NaN</td>\n",
       "      <td>NaN</td>\n",
       "      <td>NaN</td>\n",
       "      <td>NaN</td>\n",
       "      <td>9.0</td>\n",
       "      <td>11.0</td>\n",
       "    </tr>\n",
       "    <tr>\n",
       "      <th>15</th>\n",
       "      <td>个性化组</td>\n",
       "      <td>靳甜甜</td>\n",
       "      <td>8-1</td>\n",
       "      <td>0.0</td>\n",
       "      <td>0</td>\n",
       "      <td>0.0</td>\n",
       "      <td>0.0</td>\n",
       "      <td>0.0</td>\n",
       "      <td>0.0</td>\n",
       "      <td>0.0</td>\n",
       "      <td>...</td>\n",
       "      <td>NaN</td>\n",
       "      <td>NaN</td>\n",
       "      <td>NaN</td>\n",
       "      <td>NaN</td>\n",
       "      <td>NaN</td>\n",
       "      <td>NaN</td>\n",
       "      <td>NaN</td>\n",
       "      <td>NaN</td>\n",
       "      <td>0.0</td>\n",
       "      <td>0.0</td>\n",
       "    </tr>\n",
       "    <tr>\n",
       "      <th>16</th>\n",
       "      <td>个性化组</td>\n",
       "      <td>冯敬岩</td>\n",
       "      <td>8-1</td>\n",
       "      <td>0.0</td>\n",
       "      <td>2</td>\n",
       "      <td>0.0</td>\n",
       "      <td>0.0</td>\n",
       "      <td>0.0</td>\n",
       "      <td>0.0</td>\n",
       "      <td>0.0</td>\n",
       "      <td>...</td>\n",
       "      <td>NaN</td>\n",
       "      <td>NaN</td>\n",
       "      <td>NaN</td>\n",
       "      <td>NaN</td>\n",
       "      <td>NaN</td>\n",
       "      <td>NaN</td>\n",
       "      <td>NaN</td>\n",
       "      <td>NaN</td>\n",
       "      <td>2.0</td>\n",
       "      <td>6.0</td>\n",
       "    </tr>\n",
       "    <tr>\n",
       "      <th>17</th>\n",
       "      <td>个性化组</td>\n",
       "      <td>赵倩</td>\n",
       "      <td>8-1</td>\n",
       "      <td>0.0</td>\n",
       "      <td>4</td>\n",
       "      <td>0.0</td>\n",
       "      <td>0.0</td>\n",
       "      <td>0.0</td>\n",
       "      <td>0.0</td>\n",
       "      <td>0.0</td>\n",
       "      <td>...</td>\n",
       "      <td>NaN</td>\n",
       "      <td>NaN</td>\n",
       "      <td>NaN</td>\n",
       "      <td>NaN</td>\n",
       "      <td>NaN</td>\n",
       "      <td>NaN</td>\n",
       "      <td>NaN</td>\n",
       "      <td>NaN</td>\n",
       "      <td>4.0</td>\n",
       "      <td>8.0</td>\n",
       "    </tr>\n",
       "    <tr>\n",
       "      <th>18</th>\n",
       "      <td>个性化组</td>\n",
       "      <td>朱慧萍</td>\n",
       "      <td>8-1</td>\n",
       "      <td>1.0</td>\n",
       "      <td>6</td>\n",
       "      <td>0.0</td>\n",
       "      <td>0.0</td>\n",
       "      <td>0.0</td>\n",
       "      <td>0.0</td>\n",
       "      <td>0.0</td>\n",
       "      <td>...</td>\n",
       "      <td>NaN</td>\n",
       "      <td>NaN</td>\n",
       "      <td>NaN</td>\n",
       "      <td>NaN</td>\n",
       "      <td>NaN</td>\n",
       "      <td>NaN</td>\n",
       "      <td>NaN</td>\n",
       "      <td>NaN</td>\n",
       "      <td>7.0</td>\n",
       "      <td>7.0</td>\n",
       "    </tr>\n",
       "    <tr>\n",
       "      <th>0</th>\n",
       "      <td>分析二组</td>\n",
       "      <td>李晓波</td>\n",
       "      <td>8-2</td>\n",
       "      <td>0.0</td>\n",
       "      <td>0</td>\n",
       "      <td>0.0</td>\n",
       "      <td>0.0</td>\n",
       "      <td>0.0</td>\n",
       "      <td>0.0</td>\n",
       "      <td>0.0</td>\n",
       "      <td>...</td>\n",
       "      <td>NaN</td>\n",
       "      <td>NaN</td>\n",
       "      <td>NaN</td>\n",
       "      <td>NaN</td>\n",
       "      <td>NaN</td>\n",
       "      <td>NaN</td>\n",
       "      <td>NaN</td>\n",
       "      <td>NaN</td>\n",
       "      <td>0.0</td>\n",
       "      <td>0.0</td>\n",
       "    </tr>\n",
       "    <tr>\n",
       "      <th>1</th>\n",
       "      <td>分析二组</td>\n",
       "      <td>马潇</td>\n",
       "      <td>8-2</td>\n",
       "      <td>3.0</td>\n",
       "      <td>0</td>\n",
       "      <td>0.0</td>\n",
       "      <td>0.0</td>\n",
       "      <td>0.0</td>\n",
       "      <td>0.0</td>\n",
       "      <td>0.0</td>\n",
       "      <td>...</td>\n",
       "      <td>NaN</td>\n",
       "      <td>NaN</td>\n",
       "      <td>NaN</td>\n",
       "      <td>NaN</td>\n",
       "      <td>NaN</td>\n",
       "      <td>NaN</td>\n",
       "      <td>NaN</td>\n",
       "      <td>NaN</td>\n",
       "      <td>3.0</td>\n",
       "      <td>7.0</td>\n",
       "    </tr>\n",
       "    <tr>\n",
       "      <th>2</th>\n",
       "      <td>分析二组</td>\n",
       "      <td>段利强</td>\n",
       "      <td>8-2</td>\n",
       "      <td>0.0</td>\n",
       "      <td>2</td>\n",
       "      <td>0.0</td>\n",
       "      <td>0.0</td>\n",
       "      <td>0.0</td>\n",
       "      <td>0.0</td>\n",
       "      <td>0.0</td>\n",
       "      <td>...</td>\n",
       "      <td>NaN</td>\n",
       "      <td>NaN</td>\n",
       "      <td>NaN</td>\n",
       "      <td>NaN</td>\n",
       "      <td>NaN</td>\n",
       "      <td>NaN</td>\n",
       "      <td>NaN</td>\n",
       "      <td>NaN</td>\n",
       "      <td>2.0</td>\n",
       "      <td>4.0</td>\n",
       "    </tr>\n",
       "    <tr>\n",
       "      <th>3</th>\n",
       "      <td>分析二组</td>\n",
       "      <td>杨宇</td>\n",
       "      <td>8-2</td>\n",
       "      <td>1.0</td>\n",
       "      <td>0</td>\n",
       "      <td>0.0</td>\n",
       "      <td>0.0</td>\n",
       "      <td>0.0</td>\n",
       "      <td>0.0</td>\n",
       "      <td>0.0</td>\n",
       "      <td>...</td>\n",
       "      <td>NaN</td>\n",
       "      <td>NaN</td>\n",
       "      <td>NaN</td>\n",
       "      <td>NaN</td>\n",
       "      <td>NaN</td>\n",
       "      <td>NaN</td>\n",
       "      <td>NaN</td>\n",
       "      <td>NaN</td>\n",
       "      <td>1.0</td>\n",
       "      <td>5.0</td>\n",
       "    </tr>\n",
       "    <tr>\n",
       "      <th>4</th>\n",
       "      <td>分析二组</td>\n",
       "      <td>陈碧雯</td>\n",
       "      <td>8-2</td>\n",
       "      <td>3.0</td>\n",
       "      <td>0</td>\n",
       "      <td>0.0</td>\n",
       "      <td>0.0</td>\n",
       "      <td>0.0</td>\n",
       "      <td>0.0</td>\n",
       "      <td>0.0</td>\n",
       "      <td>...</td>\n",
       "      <td>NaN</td>\n",
       "      <td>NaN</td>\n",
       "      <td>NaN</td>\n",
       "      <td>NaN</td>\n",
       "      <td>NaN</td>\n",
       "      <td>NaN</td>\n",
       "      <td>NaN</td>\n",
       "      <td>NaN</td>\n",
       "      <td>3.0</td>\n",
       "      <td>3.0</td>\n",
       "    </tr>\n",
       "    <tr>\n",
       "      <th>5</th>\n",
       "      <td>分析二组</td>\n",
       "      <td>何胜</td>\n",
       "      <td>8-2</td>\n",
       "      <td>4.0</td>\n",
       "      <td>0</td>\n",
       "      <td>0.0</td>\n",
       "      <td>0.0</td>\n",
       "      <td>0.0</td>\n",
       "      <td>0.0</td>\n",
       "      <td>0.0</td>\n",
       "      <td>...</td>\n",
       "      <td>NaN</td>\n",
       "      <td>NaN</td>\n",
       "      <td>NaN</td>\n",
       "      <td>NaN</td>\n",
       "      <td>NaN</td>\n",
       "      <td>NaN</td>\n",
       "      <td>NaN</td>\n",
       "      <td>NaN</td>\n",
       "      <td>4.0</td>\n",
       "      <td>2.0</td>\n",
       "    </tr>\n",
       "    <tr>\n",
       "      <th>6</th>\n",
       "      <td>分析二组</td>\n",
       "      <td>刘梦苑</td>\n",
       "      <td>8-2</td>\n",
       "      <td>2.0</td>\n",
       "      <td>1</td>\n",
       "      <td>0.0</td>\n",
       "      <td>0.0</td>\n",
       "      <td>0.0</td>\n",
       "      <td>0.0</td>\n",
       "      <td>0.0</td>\n",
       "      <td>...</td>\n",
       "      <td>NaN</td>\n",
       "      <td>NaN</td>\n",
       "      <td>NaN</td>\n",
       "      <td>NaN</td>\n",
       "      <td>NaN</td>\n",
       "      <td>NaN</td>\n",
       "      <td>NaN</td>\n",
       "      <td>NaN</td>\n",
       "      <td>3.0</td>\n",
       "      <td>10.0</td>\n",
       "    </tr>\n",
       "    <tr>\n",
       "      <th>7</th>\n",
       "      <td>分析二组</td>\n",
       "      <td>闻少楠</td>\n",
       "      <td>8-2</td>\n",
       "      <td>3.0</td>\n",
       "      <td>0</td>\n",
       "      <td>0.0</td>\n",
       "      <td>0.0</td>\n",
       "      <td>0.0</td>\n",
       "      <td>0.0</td>\n",
       "      <td>0.0</td>\n",
       "      <td>...</td>\n",
       "      <td>NaN</td>\n",
       "      <td>NaN</td>\n",
       "      <td>NaN</td>\n",
       "      <td>NaN</td>\n",
       "      <td>NaN</td>\n",
       "      <td>NaN</td>\n",
       "      <td>NaN</td>\n",
       "      <td>NaN</td>\n",
       "      <td>3.0</td>\n",
       "      <td>0.0</td>\n",
       "    </tr>\n",
       "    <tr>\n",
       "      <th>8</th>\n",
       "      <td>分析二组</td>\n",
       "      <td>王霞</td>\n",
       "      <td>8-2</td>\n",
       "      <td>0.0</td>\n",
       "      <td>0</td>\n",
       "      <td>0.0</td>\n",
       "      <td>0.0</td>\n",
       "      <td>0.0</td>\n",
       "      <td>0.0</td>\n",
       "      <td>0.0</td>\n",
       "      <td>...</td>\n",
       "      <td>NaN</td>\n",
       "      <td>NaN</td>\n",
       "      <td>NaN</td>\n",
       "      <td>NaN</td>\n",
       "      <td>NaN</td>\n",
       "      <td>NaN</td>\n",
       "      <td>NaN</td>\n",
       "      <td>NaN</td>\n",
       "      <td>0.0</td>\n",
       "      <td>0.0</td>\n",
       "    </tr>\n",
       "    <tr>\n",
       "      <th>9</th>\n",
       "      <td>分析二组</td>\n",
       "      <td>宋少宇</td>\n",
       "      <td>8-2</td>\n",
       "      <td>2.0</td>\n",
       "      <td>5</td>\n",
       "      <td>0.0</td>\n",
       "      <td>0.0</td>\n",
       "      <td>0.0</td>\n",
       "      <td>0.0</td>\n",
       "      <td>0.0</td>\n",
       "      <td>...</td>\n",
       "      <td>NaN</td>\n",
       "      <td>NaN</td>\n",
       "      <td>NaN</td>\n",
       "      <td>NaN</td>\n",
       "      <td>NaN</td>\n",
       "      <td>NaN</td>\n",
       "      <td>NaN</td>\n",
       "      <td>NaN</td>\n",
       "      <td>7.0</td>\n",
       "      <td>11.0</td>\n",
       "    </tr>\n",
       "    <tr>\n",
       "      <th>10</th>\n",
       "      <td>分析一组</td>\n",
       "      <td>刘永强</td>\n",
       "      <td>8-2</td>\n",
       "      <td>0.0</td>\n",
       "      <td>0</td>\n",
       "      <td>0.0</td>\n",
       "      <td>0.0</td>\n",
       "      <td>0.0</td>\n",
       "      <td>0.0</td>\n",
       "      <td>0.0</td>\n",
       "      <td>...</td>\n",
       "      <td>NaN</td>\n",
       "      <td>NaN</td>\n",
       "      <td>NaN</td>\n",
       "      <td>NaN</td>\n",
       "      <td>NaN</td>\n",
       "      <td>NaN</td>\n",
       "      <td>NaN</td>\n",
       "      <td>NaN</td>\n",
       "      <td>0.0</td>\n",
       "      <td>2.0</td>\n",
       "    </tr>\n",
       "    <tr>\n",
       "      <th>...</th>\n",
       "      <td>...</td>\n",
       "      <td>...</td>\n",
       "      <td>...</td>\n",
       "      <td>...</td>\n",
       "      <td>...</td>\n",
       "      <td>...</td>\n",
       "      <td>...</td>\n",
       "      <td>...</td>\n",
       "      <td>...</td>\n",
       "      <td>...</td>\n",
       "      <td>...</td>\n",
       "      <td>...</td>\n",
       "      <td>...</td>\n",
       "      <td>...</td>\n",
       "      <td>...</td>\n",
       "      <td>...</td>\n",
       "      <td>...</td>\n",
       "      <td>...</td>\n",
       "      <td>...</td>\n",
       "      <td>...</td>\n",
       "      <td>...</td>\n",
       "    </tr>\n",
       "    <tr>\n",
       "      <th>6</th>\n",
       "      <td>分析一组</td>\n",
       "      <td>解飞</td>\n",
       "      <td>9-3</td>\n",
       "      <td>5.0</td>\n",
       "      <td>0</td>\n",
       "      <td>NaN</td>\n",
       "      <td>NaN</td>\n",
       "      <td>NaN</td>\n",
       "      <td>NaN</td>\n",
       "      <td>NaN</td>\n",
       "      <td>...</td>\n",
       "      <td>0.0</td>\n",
       "      <td>3.0</td>\n",
       "      <td>1.0</td>\n",
       "      <td>1.0</td>\n",
       "      <td>0.0</td>\n",
       "      <td>0.0</td>\n",
       "      <td>5.0</td>\n",
       "      <td>分析一组</td>\n",
       "      <td>5.0</td>\n",
       "      <td>NaN</td>\n",
       "    </tr>\n",
       "    <tr>\n",
       "      <th>7</th>\n",
       "      <td>个性化组</td>\n",
       "      <td>靳甜甜</td>\n",
       "      <td>9-3</td>\n",
       "      <td>0.0</td>\n",
       "      <td>0</td>\n",
       "      <td>NaN</td>\n",
       "      <td>NaN</td>\n",
       "      <td>NaN</td>\n",
       "      <td>NaN</td>\n",
       "      <td>NaN</td>\n",
       "      <td>...</td>\n",
       "      <td>0.0</td>\n",
       "      <td>0.0</td>\n",
       "      <td>0.0</td>\n",
       "      <td>0.0</td>\n",
       "      <td>0.0</td>\n",
       "      <td>0.0</td>\n",
       "      <td>0.0</td>\n",
       "      <td>个性化组</td>\n",
       "      <td>0.0</td>\n",
       "      <td>NaN</td>\n",
       "    </tr>\n",
       "    <tr>\n",
       "      <th>8</th>\n",
       "      <td>分析二组</td>\n",
       "      <td>李晓波</td>\n",
       "      <td>9-3</td>\n",
       "      <td>0.0</td>\n",
       "      <td>0</td>\n",
       "      <td>NaN</td>\n",
       "      <td>NaN</td>\n",
       "      <td>NaN</td>\n",
       "      <td>NaN</td>\n",
       "      <td>NaN</td>\n",
       "      <td>...</td>\n",
       "      <td>0.0</td>\n",
       "      <td>0.0</td>\n",
       "      <td>0.0</td>\n",
       "      <td>0.0</td>\n",
       "      <td>0.0</td>\n",
       "      <td>0.0</td>\n",
       "      <td>0.0</td>\n",
       "      <td>分析二组</td>\n",
       "      <td>0.0</td>\n",
       "      <td>NaN</td>\n",
       "    </tr>\n",
       "    <tr>\n",
       "      <th>9</th>\n",
       "      <td>分析二组</td>\n",
       "      <td>刘梦苑</td>\n",
       "      <td>9-3</td>\n",
       "      <td>1.0</td>\n",
       "      <td>1</td>\n",
       "      <td>NaN</td>\n",
       "      <td>NaN</td>\n",
       "      <td>NaN</td>\n",
       "      <td>NaN</td>\n",
       "      <td>NaN</td>\n",
       "      <td>...</td>\n",
       "      <td>1.0</td>\n",
       "      <td>0.0</td>\n",
       "      <td>0.0</td>\n",
       "      <td>0.0</td>\n",
       "      <td>5.0</td>\n",
       "      <td>0.0</td>\n",
       "      <td>16.0</td>\n",
       "      <td>分析二组</td>\n",
       "      <td>2.0</td>\n",
       "      <td>NaN</td>\n",
       "    </tr>\n",
       "    <tr>\n",
       "      <th>10</th>\n",
       "      <td>分析一组</td>\n",
       "      <td>刘永强</td>\n",
       "      <td>9-3</td>\n",
       "      <td>0.0</td>\n",
       "      <td>0</td>\n",
       "      <td>NaN</td>\n",
       "      <td>NaN</td>\n",
       "      <td>NaN</td>\n",
       "      <td>NaN</td>\n",
       "      <td>NaN</td>\n",
       "      <td>...</td>\n",
       "      <td>0.0</td>\n",
       "      <td>0.0</td>\n",
       "      <td>0.0</td>\n",
       "      <td>0.0</td>\n",
       "      <td>0.0</td>\n",
       "      <td>0.0</td>\n",
       "      <td>3.0</td>\n",
       "      <td>分析一组</td>\n",
       "      <td>0.0</td>\n",
       "      <td>NaN</td>\n",
       "    </tr>\n",
       "    <tr>\n",
       "      <th>11</th>\n",
       "      <td>分析二组</td>\n",
       "      <td>马潇</td>\n",
       "      <td>9-3</td>\n",
       "      <td>5.0</td>\n",
       "      <td>2</td>\n",
       "      <td>NaN</td>\n",
       "      <td>NaN</td>\n",
       "      <td>NaN</td>\n",
       "      <td>NaN</td>\n",
       "      <td>NaN</td>\n",
       "      <td>...</td>\n",
       "      <td>0.0</td>\n",
       "      <td>5.0</td>\n",
       "      <td>0.0</td>\n",
       "      <td>0.0</td>\n",
       "      <td>8.0</td>\n",
       "      <td>0.0</td>\n",
       "      <td>2.0</td>\n",
       "      <td>分析二组</td>\n",
       "      <td>7.0</td>\n",
       "      <td>NaN</td>\n",
       "    </tr>\n",
       "    <tr>\n",
       "      <th>12</th>\n",
       "      <td>分析二组</td>\n",
       "      <td>宋少宇</td>\n",
       "      <td>9-3</td>\n",
       "      <td>0.0</td>\n",
       "      <td>0</td>\n",
       "      <td>NaN</td>\n",
       "      <td>NaN</td>\n",
       "      <td>NaN</td>\n",
       "      <td>NaN</td>\n",
       "      <td>NaN</td>\n",
       "      <td>...</td>\n",
       "      <td>0.0</td>\n",
       "      <td>0.0</td>\n",
       "      <td>0.0</td>\n",
       "      <td>0.0</td>\n",
       "      <td>0.0</td>\n",
       "      <td>0.0</td>\n",
       "      <td>17.0</td>\n",
       "      <td>分析二组</td>\n",
       "      <td>0.0</td>\n",
       "      <td>NaN</td>\n",
       "    </tr>\n",
       "    <tr>\n",
       "      <th>13</th>\n",
       "      <td>分析二组</td>\n",
       "      <td>王霞</td>\n",
       "      <td>9-3</td>\n",
       "      <td>1.0</td>\n",
       "      <td>3</td>\n",
       "      <td>NaN</td>\n",
       "      <td>NaN</td>\n",
       "      <td>NaN</td>\n",
       "      <td>NaN</td>\n",
       "      <td>NaN</td>\n",
       "      <td>...</td>\n",
       "      <td>0.0</td>\n",
       "      <td>0.0</td>\n",
       "      <td>1.0</td>\n",
       "      <td>0.0</td>\n",
       "      <td>2.0</td>\n",
       "      <td>2.0</td>\n",
       "      <td>11.0</td>\n",
       "      <td>分析二组</td>\n",
       "      <td>4.0</td>\n",
       "      <td>NaN</td>\n",
       "    </tr>\n",
       "    <tr>\n",
       "      <th>14</th>\n",
       "      <td>分析二组</td>\n",
       "      <td>闻少楠</td>\n",
       "      <td>9-3</td>\n",
       "      <td>1.0</td>\n",
       "      <td>2</td>\n",
       "      <td>NaN</td>\n",
       "      <td>NaN</td>\n",
       "      <td>NaN</td>\n",
       "      <td>NaN</td>\n",
       "      <td>NaN</td>\n",
       "      <td>...</td>\n",
       "      <td>1.0</td>\n",
       "      <td>0.0</td>\n",
       "      <td>0.0</td>\n",
       "      <td>0.0</td>\n",
       "      <td>5.0</td>\n",
       "      <td>0.0</td>\n",
       "      <td>5.0</td>\n",
       "      <td>分析二组</td>\n",
       "      <td>3.0</td>\n",
       "      <td>NaN</td>\n",
       "    </tr>\n",
       "    <tr>\n",
       "      <th>15</th>\n",
       "      <td>分析二组</td>\n",
       "      <td>杨宇</td>\n",
       "      <td>9-3</td>\n",
       "      <td>4.0</td>\n",
       "      <td>6</td>\n",
       "      <td>NaN</td>\n",
       "      <td>NaN</td>\n",
       "      <td>NaN</td>\n",
       "      <td>NaN</td>\n",
       "      <td>NaN</td>\n",
       "      <td>...</td>\n",
       "      <td>1.0</td>\n",
       "      <td>1.0</td>\n",
       "      <td>0.0</td>\n",
       "      <td>2.0</td>\n",
       "      <td>6.0</td>\n",
       "      <td>0.0</td>\n",
       "      <td>14.0</td>\n",
       "      <td>分析二组</td>\n",
       "      <td>10.0</td>\n",
       "      <td>NaN</td>\n",
       "    </tr>\n",
       "    <tr>\n",
       "      <th>16</th>\n",
       "      <td>个性化组</td>\n",
       "      <td>赵倩</td>\n",
       "      <td>9-3</td>\n",
       "      <td>0.0</td>\n",
       "      <td>5</td>\n",
       "      <td>NaN</td>\n",
       "      <td>NaN</td>\n",
       "      <td>NaN</td>\n",
       "      <td>NaN</td>\n",
       "      <td>NaN</td>\n",
       "      <td>...</td>\n",
       "      <td>0.0</td>\n",
       "      <td>0.0</td>\n",
       "      <td>0.0</td>\n",
       "      <td>0.0</td>\n",
       "      <td>0.0</td>\n",
       "      <td>5.0</td>\n",
       "      <td>0.0</td>\n",
       "      <td>个性化组</td>\n",
       "      <td>5.0</td>\n",
       "      <td>NaN</td>\n",
       "    </tr>\n",
       "    <tr>\n",
       "      <th>17</th>\n",
       "      <td>个性化组</td>\n",
       "      <td>朱慧萍</td>\n",
       "      <td>9-3</td>\n",
       "      <td>0.0</td>\n",
       "      <td>5</td>\n",
       "      <td>NaN</td>\n",
       "      <td>NaN</td>\n",
       "      <td>NaN</td>\n",
       "      <td>NaN</td>\n",
       "      <td>NaN</td>\n",
       "      <td>...</td>\n",
       "      <td>0.0</td>\n",
       "      <td>0.0</td>\n",
       "      <td>0.0</td>\n",
       "      <td>0.0</td>\n",
       "      <td>0.0</td>\n",
       "      <td>5.0</td>\n",
       "      <td>0.0</td>\n",
       "      <td>个性化组</td>\n",
       "      <td>5.0</td>\n",
       "      <td>NaN</td>\n",
       "    </tr>\n",
       "    <tr>\n",
       "      <th>0</th>\n",
       "      <td>分析一组</td>\n",
       "      <td>昶吉阳</td>\n",
       "      <td>9-4</td>\n",
       "      <td>6.0</td>\n",
       "      <td>0</td>\n",
       "      <td>NaN</td>\n",
       "      <td>NaN</td>\n",
       "      <td>NaN</td>\n",
       "      <td>NaN</td>\n",
       "      <td>NaN</td>\n",
       "      <td>...</td>\n",
       "      <td>2.0</td>\n",
       "      <td>4.0</td>\n",
       "      <td>0.0</td>\n",
       "      <td>0.0</td>\n",
       "      <td>1.0</td>\n",
       "      <td>4.0</td>\n",
       "      <td>8.0</td>\n",
       "      <td>分析一组</td>\n",
       "      <td>6.0</td>\n",
       "      <td>NaN</td>\n",
       "    </tr>\n",
       "    <tr>\n",
       "      <th>1</th>\n",
       "      <td>分析二组</td>\n",
       "      <td>陈碧雯</td>\n",
       "      <td>9-4</td>\n",
       "      <td>3.0</td>\n",
       "      <td>1</td>\n",
       "      <td>NaN</td>\n",
       "      <td>NaN</td>\n",
       "      <td>NaN</td>\n",
       "      <td>NaN</td>\n",
       "      <td>NaN</td>\n",
       "      <td>...</td>\n",
       "      <td>3.0</td>\n",
       "      <td>0.0</td>\n",
       "      <td>0.0</td>\n",
       "      <td>0.0</td>\n",
       "      <td>2.0</td>\n",
       "      <td>2.0</td>\n",
       "      <td>7.0</td>\n",
       "      <td>分析二组</td>\n",
       "      <td>4.0</td>\n",
       "      <td>NaN</td>\n",
       "    </tr>\n",
       "    <tr>\n",
       "      <th>2</th>\n",
       "      <td>分析一组</td>\n",
       "      <td>陈鹏燕</td>\n",
       "      <td>9-4</td>\n",
       "      <td>0.0</td>\n",
       "      <td>4</td>\n",
       "      <td>NaN</td>\n",
       "      <td>NaN</td>\n",
       "      <td>NaN</td>\n",
       "      <td>NaN</td>\n",
       "      <td>NaN</td>\n",
       "      <td>...</td>\n",
       "      <td>0.0</td>\n",
       "      <td>0.0</td>\n",
       "      <td>0.0</td>\n",
       "      <td>0.0</td>\n",
       "      <td>3.0</td>\n",
       "      <td>0.0</td>\n",
       "      <td>1.0</td>\n",
       "      <td>分析一组</td>\n",
       "      <td>4.0</td>\n",
       "      <td>NaN</td>\n",
       "    </tr>\n",
       "    <tr>\n",
       "      <th>3</th>\n",
       "      <td>分析二组</td>\n",
       "      <td>段利强</td>\n",
       "      <td>9-4</td>\n",
       "      <td>0.0</td>\n",
       "      <td>1</td>\n",
       "      <td>NaN</td>\n",
       "      <td>NaN</td>\n",
       "      <td>NaN</td>\n",
       "      <td>NaN</td>\n",
       "      <td>NaN</td>\n",
       "      <td>...</td>\n",
       "      <td>0.0</td>\n",
       "      <td>0.0</td>\n",
       "      <td>0.0</td>\n",
       "      <td>0.0</td>\n",
       "      <td>1.0</td>\n",
       "      <td>0.0</td>\n",
       "      <td>4.0</td>\n",
       "      <td>分析二组</td>\n",
       "      <td>1.0</td>\n",
       "      <td>NaN</td>\n",
       "    </tr>\n",
       "    <tr>\n",
       "      <th>4</th>\n",
       "      <td>个性化组</td>\n",
       "      <td>冯敬岩</td>\n",
       "      <td>9-4</td>\n",
       "      <td>0.0</td>\n",
       "      <td>2</td>\n",
       "      <td>NaN</td>\n",
       "      <td>NaN</td>\n",
       "      <td>NaN</td>\n",
       "      <td>NaN</td>\n",
       "      <td>NaN</td>\n",
       "      <td>...</td>\n",
       "      <td>0.0</td>\n",
       "      <td>0.0</td>\n",
       "      <td>0.0</td>\n",
       "      <td>0.0</td>\n",
       "      <td>0.0</td>\n",
       "      <td>2.0</td>\n",
       "      <td>0.0</td>\n",
       "      <td>个性化组</td>\n",
       "      <td>2.0</td>\n",
       "      <td>NaN</td>\n",
       "    </tr>\n",
       "    <tr>\n",
       "      <th>5</th>\n",
       "      <td>分析二组</td>\n",
       "      <td>何胜</td>\n",
       "      <td>9-4</td>\n",
       "      <td>4.0</td>\n",
       "      <td>1</td>\n",
       "      <td>NaN</td>\n",
       "      <td>NaN</td>\n",
       "      <td>NaN</td>\n",
       "      <td>NaN</td>\n",
       "      <td>NaN</td>\n",
       "      <td>...</td>\n",
       "      <td>2.0</td>\n",
       "      <td>1.0</td>\n",
       "      <td>1.0</td>\n",
       "      <td>0.0</td>\n",
       "      <td>5.0</td>\n",
       "      <td>2.0</td>\n",
       "      <td>6.0</td>\n",
       "      <td>分析二组</td>\n",
       "      <td>5.0</td>\n",
       "      <td>NaN</td>\n",
       "    </tr>\n",
       "    <tr>\n",
       "      <th>6</th>\n",
       "      <td>分析一组</td>\n",
       "      <td>解飞</td>\n",
       "      <td>9-4</td>\n",
       "      <td>0.0</td>\n",
       "      <td>0</td>\n",
       "      <td>NaN</td>\n",
       "      <td>NaN</td>\n",
       "      <td>NaN</td>\n",
       "      <td>NaN</td>\n",
       "      <td>NaN</td>\n",
       "      <td>...</td>\n",
       "      <td>0.0</td>\n",
       "      <td>0.0</td>\n",
       "      <td>0.0</td>\n",
       "      <td>0.0</td>\n",
       "      <td>2.0</td>\n",
       "      <td>1.0</td>\n",
       "      <td>5.0</td>\n",
       "      <td>分析一组</td>\n",
       "      <td>0.0</td>\n",
       "      <td>NaN</td>\n",
       "    </tr>\n",
       "    <tr>\n",
       "      <th>7</th>\n",
       "      <td>个性化组</td>\n",
       "      <td>靳甜甜</td>\n",
       "      <td>9-4</td>\n",
       "      <td>0.0</td>\n",
       "      <td>0</td>\n",
       "      <td>NaN</td>\n",
       "      <td>NaN</td>\n",
       "      <td>NaN</td>\n",
       "      <td>NaN</td>\n",
       "      <td>NaN</td>\n",
       "      <td>...</td>\n",
       "      <td>0.0</td>\n",
       "      <td>0.0</td>\n",
       "      <td>0.0</td>\n",
       "      <td>0.0</td>\n",
       "      <td>0.0</td>\n",
       "      <td>0.0</td>\n",
       "      <td>0.0</td>\n",
       "      <td>个性化组</td>\n",
       "      <td>0.0</td>\n",
       "      <td>NaN</td>\n",
       "    </tr>\n",
       "    <tr>\n",
       "      <th>8</th>\n",
       "      <td>分析二组</td>\n",
       "      <td>李晓波</td>\n",
       "      <td>9-4</td>\n",
       "      <td>0.0</td>\n",
       "      <td>0</td>\n",
       "      <td>NaN</td>\n",
       "      <td>NaN</td>\n",
       "      <td>NaN</td>\n",
       "      <td>NaN</td>\n",
       "      <td>NaN</td>\n",
       "      <td>...</td>\n",
       "      <td>0.0</td>\n",
       "      <td>0.0</td>\n",
       "      <td>0.0</td>\n",
       "      <td>0.0</td>\n",
       "      <td>0.0</td>\n",
       "      <td>0.0</td>\n",
       "      <td>0.0</td>\n",
       "      <td>分析二组</td>\n",
       "      <td>0.0</td>\n",
       "      <td>NaN</td>\n",
       "    </tr>\n",
       "    <tr>\n",
       "      <th>9</th>\n",
       "      <td>分析二组</td>\n",
       "      <td>刘梦苑</td>\n",
       "      <td>9-4</td>\n",
       "      <td>2.0</td>\n",
       "      <td>2</td>\n",
       "      <td>NaN</td>\n",
       "      <td>NaN</td>\n",
       "      <td>NaN</td>\n",
       "      <td>NaN</td>\n",
       "      <td>NaN</td>\n",
       "      <td>...</td>\n",
       "      <td>1.0</td>\n",
       "      <td>0.0</td>\n",
       "      <td>1.0</td>\n",
       "      <td>0.0</td>\n",
       "      <td>4.0</td>\n",
       "      <td>0.0</td>\n",
       "      <td>14.0</td>\n",
       "      <td>分析二组</td>\n",
       "      <td>4.0</td>\n",
       "      <td>NaN</td>\n",
       "    </tr>\n",
       "    <tr>\n",
       "      <th>10</th>\n",
       "      <td>分析一组</td>\n",
       "      <td>刘永强</td>\n",
       "      <td>9-4</td>\n",
       "      <td>0.0</td>\n",
       "      <td>0</td>\n",
       "      <td>NaN</td>\n",
       "      <td>NaN</td>\n",
       "      <td>NaN</td>\n",
       "      <td>NaN</td>\n",
       "      <td>NaN</td>\n",
       "      <td>...</td>\n",
       "      <td>0.0</td>\n",
       "      <td>0.0</td>\n",
       "      <td>0.0</td>\n",
       "      <td>0.0</td>\n",
       "      <td>0.0</td>\n",
       "      <td>0.0</td>\n",
       "      <td>3.0</td>\n",
       "      <td>分析一组</td>\n",
       "      <td>0.0</td>\n",
       "      <td>NaN</td>\n",
       "    </tr>\n",
       "    <tr>\n",
       "      <th>11</th>\n",
       "      <td>分析二组</td>\n",
       "      <td>马潇</td>\n",
       "      <td>9-4</td>\n",
       "      <td>5.0</td>\n",
       "      <td>0</td>\n",
       "      <td>NaN</td>\n",
       "      <td>NaN</td>\n",
       "      <td>NaN</td>\n",
       "      <td>NaN</td>\n",
       "      <td>NaN</td>\n",
       "      <td>...</td>\n",
       "      <td>0.0</td>\n",
       "      <td>3.0</td>\n",
       "      <td>2.0</td>\n",
       "      <td>0.0</td>\n",
       "      <td>6.0</td>\n",
       "      <td>2.0</td>\n",
       "      <td>2.0</td>\n",
       "      <td>分析二组</td>\n",
       "      <td>5.0</td>\n",
       "      <td>NaN</td>\n",
       "    </tr>\n",
       "    <tr>\n",
       "      <th>12</th>\n",
       "      <td>分析二组</td>\n",
       "      <td>宋少宇</td>\n",
       "      <td>9-4</td>\n",
       "      <td>0.0</td>\n",
       "      <td>0</td>\n",
       "      <td>NaN</td>\n",
       "      <td>NaN</td>\n",
       "      <td>NaN</td>\n",
       "      <td>NaN</td>\n",
       "      <td>NaN</td>\n",
       "      <td>...</td>\n",
       "      <td>0.0</td>\n",
       "      <td>0.0</td>\n",
       "      <td>0.0</td>\n",
       "      <td>0.0</td>\n",
       "      <td>0.0</td>\n",
       "      <td>0.0</td>\n",
       "      <td>19.0</td>\n",
       "      <td>分析二组</td>\n",
       "      <td>0.0</td>\n",
       "      <td>NaN</td>\n",
       "    </tr>\n",
       "    <tr>\n",
       "      <th>13</th>\n",
       "      <td>分析二组</td>\n",
       "      <td>王霞</td>\n",
       "      <td>9-4</td>\n",
       "      <td>2.0</td>\n",
       "      <td>2</td>\n",
       "      <td>NaN</td>\n",
       "      <td>NaN</td>\n",
       "      <td>NaN</td>\n",
       "      <td>NaN</td>\n",
       "      <td>NaN</td>\n",
       "      <td>...</td>\n",
       "      <td>1.0</td>\n",
       "      <td>1.0</td>\n",
       "      <td>0.0</td>\n",
       "      <td>0.0</td>\n",
       "      <td>3.0</td>\n",
       "      <td>2.0</td>\n",
       "      <td>12.0</td>\n",
       "      <td>分析二组</td>\n",
       "      <td>4.0</td>\n",
       "      <td>NaN</td>\n",
       "    </tr>\n",
       "    <tr>\n",
       "      <th>14</th>\n",
       "      <td>分析二组</td>\n",
       "      <td>闻少楠</td>\n",
       "      <td>9-4</td>\n",
       "      <td>2.0</td>\n",
       "      <td>2</td>\n",
       "      <td>NaN</td>\n",
       "      <td>NaN</td>\n",
       "      <td>NaN</td>\n",
       "      <td>NaN</td>\n",
       "      <td>NaN</td>\n",
       "      <td>...</td>\n",
       "      <td>1.0</td>\n",
       "      <td>1.0</td>\n",
       "      <td>0.0</td>\n",
       "      <td>0.0</td>\n",
       "      <td>5.0</td>\n",
       "      <td>1.0</td>\n",
       "      <td>3.0</td>\n",
       "      <td>分析二组</td>\n",
       "      <td>4.0</td>\n",
       "      <td>NaN</td>\n",
       "    </tr>\n",
       "    <tr>\n",
       "      <th>15</th>\n",
       "      <td>分析二组</td>\n",
       "      <td>杨宇</td>\n",
       "      <td>9-4</td>\n",
       "      <td>4.0</td>\n",
       "      <td>1</td>\n",
       "      <td>NaN</td>\n",
       "      <td>NaN</td>\n",
       "      <td>NaN</td>\n",
       "      <td>NaN</td>\n",
       "      <td>NaN</td>\n",
       "      <td>...</td>\n",
       "      <td>0.0</td>\n",
       "      <td>4.0</td>\n",
       "      <td>0.0</td>\n",
       "      <td>0.0</td>\n",
       "      <td>2.0</td>\n",
       "      <td>2.0</td>\n",
       "      <td>12.0</td>\n",
       "      <td>分析二组</td>\n",
       "      <td>5.0</td>\n",
       "      <td>NaN</td>\n",
       "    </tr>\n",
       "    <tr>\n",
       "      <th>16</th>\n",
       "      <td>个性化组</td>\n",
       "      <td>赵倩</td>\n",
       "      <td>9-4</td>\n",
       "      <td>0.0</td>\n",
       "      <td>9</td>\n",
       "      <td>NaN</td>\n",
       "      <td>NaN</td>\n",
       "      <td>NaN</td>\n",
       "      <td>NaN</td>\n",
       "      <td>NaN</td>\n",
       "      <td>...</td>\n",
       "      <td>0.0</td>\n",
       "      <td>0.0</td>\n",
       "      <td>0.0</td>\n",
       "      <td>0.0</td>\n",
       "      <td>0.0</td>\n",
       "      <td>1.0</td>\n",
       "      <td>0.0</td>\n",
       "      <td>个性化组</td>\n",
       "      <td>9.0</td>\n",
       "      <td>NaN</td>\n",
       "    </tr>\n",
       "    <tr>\n",
       "      <th>17</th>\n",
       "      <td>个性化组</td>\n",
       "      <td>朱慧萍</td>\n",
       "      <td>9-4</td>\n",
       "      <td>0.0</td>\n",
       "      <td>3</td>\n",
       "      <td>NaN</td>\n",
       "      <td>NaN</td>\n",
       "      <td>NaN</td>\n",
       "      <td>NaN</td>\n",
       "      <td>NaN</td>\n",
       "      <td>...</td>\n",
       "      <td>0.0</td>\n",
       "      <td>0.0</td>\n",
       "      <td>0.0</td>\n",
       "      <td>0.0</td>\n",
       "      <td>0.0</td>\n",
       "      <td>7.0</td>\n",
       "      <td>0.0</td>\n",
       "      <td>个性化组</td>\n",
       "      <td>3.0</td>\n",
       "      <td>NaN</td>\n",
       "    </tr>\n",
       "  </tbody>\n",
       "</table>\n",
       "<p>145 rows × 28 columns</p>\n",
       "</div>"
      ],
      "text/plain": [
       "      组别   人员 日期（格式“月-周次”）  完成商业项目数  完成个性化数  延期商业项目数  延期个性化项目数  \\\n",
       "0   分析二组  李晓波          8-1      0.0       0      0.0       0.0   \n",
       "1   分析二组   马潇          8-1      3.0       0      0.0       0.0   \n",
       "2   分析二组  段利强          8-1      0.0       2      0.0       0.0   \n",
       "3   分析二组   杨宇          8-1      1.0       0      0.0       0.0   \n",
       "4   分析二组  陈碧雯          8-1      1.0       0      0.0       0.0   \n",
       "5   分析二组   何胜          8-1      1.0       0      0.0       0.0   \n",
       "6   分析二组  刘梦苑          8-1      0.0       0      0.0       0.0   \n",
       "7   分析二组  闻少楠          8-1      2.0       0      0.0       0.0   \n",
       "8   分析二组   王霞          8-1      0.0       0      0.0       0.0   \n",
       "9   分析二组  于勇一          8-1      1.0       1      0.0       0.0   \n",
       "10  分析二组  宋少宇          8-1      4.0       3      0.0       0.0   \n",
       "11  分析一组  刘永强          8-1      0.0       0      0.0       0.0   \n",
       "12  分析一组  陈鹏燕          8-1      7.0       4      0.0       0.0   \n",
       "13  分析一组  昶吉阳          8-1      9.0       4      0.0       0.0   \n",
       "14  分析一组   解飞          8-1      8.0       1      0.0       0.0   \n",
       "15  个性化组  靳甜甜          8-1      0.0       0      0.0       0.0   \n",
       "16  个性化组  冯敬岩          8-1      0.0       2      0.0       0.0   \n",
       "17  个性化组   赵倩          8-1      0.0       4      0.0       0.0   \n",
       "18  个性化组  朱慧萍          8-1      1.0       6      0.0       0.0   \n",
       "0   分析二组  李晓波          8-2      0.0       0      0.0       0.0   \n",
       "1   分析二组   马潇          8-2      3.0       0      0.0       0.0   \n",
       "2   分析二组  段利强          8-2      0.0       2      0.0       0.0   \n",
       "3   分析二组   杨宇          8-2      1.0       0      0.0       0.0   \n",
       "4   分析二组  陈碧雯          8-2      3.0       0      0.0       0.0   \n",
       "5   分析二组   何胜          8-2      4.0       0      0.0       0.0   \n",
       "6   分析二组  刘梦苑          8-2      2.0       1      0.0       0.0   \n",
       "7   分析二组  闻少楠          8-2      3.0       0      0.0       0.0   \n",
       "8   分析二组   王霞          8-2      0.0       0      0.0       0.0   \n",
       "9   分析二组  宋少宇          8-2      2.0       5      0.0       0.0   \n",
       "10  分析一组  刘永强          8-2      0.0       0      0.0       0.0   \n",
       "..   ...  ...          ...      ...     ...      ...       ...   \n",
       "6   分析一组   解飞          9-3      5.0       0      NaN       NaN   \n",
       "7   个性化组  靳甜甜          9-3      0.0       0      NaN       NaN   \n",
       "8   分析二组  李晓波          9-3      0.0       0      NaN       NaN   \n",
       "9   分析二组  刘梦苑          9-3      1.0       1      NaN       NaN   \n",
       "10  分析一组  刘永强          9-3      0.0       0      NaN       NaN   \n",
       "11  分析二组   马潇          9-3      5.0       2      NaN       NaN   \n",
       "12  分析二组  宋少宇          9-3      0.0       0      NaN       NaN   \n",
       "13  分析二组   王霞          9-3      1.0       3      NaN       NaN   \n",
       "14  分析二组  闻少楠          9-3      1.0       2      NaN       NaN   \n",
       "15  分析二组   杨宇          9-3      4.0       6      NaN       NaN   \n",
       "16  个性化组   赵倩          9-3      0.0       5      NaN       NaN   \n",
       "17  个性化组  朱慧萍          9-3      0.0       5      NaN       NaN   \n",
       "0   分析一组  昶吉阳          9-4      6.0       0      NaN       NaN   \n",
       "1   分析二组  陈碧雯          9-4      3.0       1      NaN       NaN   \n",
       "2   分析一组  陈鹏燕          9-4      0.0       4      NaN       NaN   \n",
       "3   分析二组  段利强          9-4      0.0       1      NaN       NaN   \n",
       "4   个性化组  冯敬岩          9-4      0.0       2      NaN       NaN   \n",
       "5   分析二组   何胜          9-4      4.0       1      NaN       NaN   \n",
       "6   分析一组   解飞          9-4      0.0       0      NaN       NaN   \n",
       "7   个性化组  靳甜甜          9-4      0.0       0      NaN       NaN   \n",
       "8   分析二组  李晓波          9-4      0.0       0      NaN       NaN   \n",
       "9   分析二组  刘梦苑          9-4      2.0       2      NaN       NaN   \n",
       "10  分析一组  刘永强          9-4      0.0       0      NaN       NaN   \n",
       "11  分析二组   马潇          9-4      5.0       0      NaN       NaN   \n",
       "12  分析二组  宋少宇          9-4      0.0       0      NaN       NaN   \n",
       "13  分析二组   王霞          9-4      2.0       2      NaN       NaN   \n",
       "14  分析二组  闻少楠          9-4      2.0       2      NaN       NaN   \n",
       "15  分析二组   杨宇          9-4      4.0       1      NaN       NaN   \n",
       "16  个性化组   赵倩          9-4      0.0       9      NaN       NaN   \n",
       "17  个性化组  朱慧萍          9-4      0.0       3      NaN       NaN   \n",
       "\n",
       "    24h内未完成数据反馈项目数  反馈延期个性化数  24h内未完成数据交付项目数   ...    完成流水线项目数  完成非流水线项目数  \\\n",
       "0              0.0       0.0             0.0   ...         NaN        NaN   \n",
       "1              0.0       0.0             0.0   ...         NaN        NaN   \n",
       "2              0.0       0.0             0.0   ...         NaN        NaN   \n",
       "3              0.0       0.0             0.0   ...         NaN        NaN   \n",
       "4              0.0       0.0             0.0   ...         NaN        NaN   \n",
       "5              0.0       0.0             0.0   ...         NaN        NaN   \n",
       "6              0.0       0.0             0.0   ...         NaN        NaN   \n",
       "7              1.0       0.0             0.0   ...         NaN        NaN   \n",
       "8              0.0       0.0             0.0   ...         NaN        NaN   \n",
       "9              0.0       0.0             0.0   ...         NaN        NaN   \n",
       "10             0.0       0.0             0.0   ...         NaN        NaN   \n",
       "11             0.0       0.0             0.0   ...         NaN        NaN   \n",
       "12             0.0       0.0             0.0   ...         NaN        NaN   \n",
       "13             0.0       0.0             0.0   ...         NaN        NaN   \n",
       "14             0.0       0.0             0.0   ...         NaN        NaN   \n",
       "15             0.0       0.0             0.0   ...         NaN        NaN   \n",
       "16             0.0       0.0             0.0   ...         NaN        NaN   \n",
       "17             0.0       0.0             0.0   ...         NaN        NaN   \n",
       "18             0.0       0.0             0.0   ...         NaN        NaN   \n",
       "0              0.0       0.0             0.0   ...         NaN        NaN   \n",
       "1              0.0       0.0             0.0   ...         NaN        NaN   \n",
       "2              0.0       0.0             0.0   ...         NaN        NaN   \n",
       "3              0.0       0.0             0.0   ...         NaN        NaN   \n",
       "4              0.0       0.0             0.0   ...         NaN        NaN   \n",
       "5              0.0       0.0             0.0   ...         NaN        NaN   \n",
       "6              0.0       0.0             0.0   ...         NaN        NaN   \n",
       "7              0.0       0.0             0.0   ...         NaN        NaN   \n",
       "8              0.0       0.0             0.0   ...         NaN        NaN   \n",
       "9              0.0       0.0             0.0   ...         NaN        NaN   \n",
       "10             0.0       0.0             0.0   ...         NaN        NaN   \n",
       "..             ...       ...             ...   ...         ...        ...   \n",
       "6              NaN       NaN             NaN   ...         0.0        3.0   \n",
       "7              NaN       NaN             NaN   ...         0.0        0.0   \n",
       "8              NaN       NaN             NaN   ...         0.0        0.0   \n",
       "9              NaN       NaN             NaN   ...         1.0        0.0   \n",
       "10             NaN       NaN             NaN   ...         0.0        0.0   \n",
       "11             NaN       NaN             NaN   ...         0.0        5.0   \n",
       "12             NaN       NaN             NaN   ...         0.0        0.0   \n",
       "13             NaN       NaN             NaN   ...         0.0        0.0   \n",
       "14             NaN       NaN             NaN   ...         1.0        0.0   \n",
       "15             NaN       NaN             NaN   ...         1.0        1.0   \n",
       "16             NaN       NaN             NaN   ...         0.0        0.0   \n",
       "17             NaN       NaN             NaN   ...         0.0        0.0   \n",
       "0              NaN       NaN             NaN   ...         2.0        4.0   \n",
       "1              NaN       NaN             NaN   ...         3.0        0.0   \n",
       "2              NaN       NaN             NaN   ...         0.0        0.0   \n",
       "3              NaN       NaN             NaN   ...         0.0        0.0   \n",
       "4              NaN       NaN             NaN   ...         0.0        0.0   \n",
       "5              NaN       NaN             NaN   ...         2.0        1.0   \n",
       "6              NaN       NaN             NaN   ...         0.0        0.0   \n",
       "7              NaN       NaN             NaN   ...         0.0        0.0   \n",
       "8              NaN       NaN             NaN   ...         0.0        0.0   \n",
       "9              NaN       NaN             NaN   ...         1.0        0.0   \n",
       "10             NaN       NaN             NaN   ...         0.0        0.0   \n",
       "11             NaN       NaN             NaN   ...         0.0        3.0   \n",
       "12             NaN       NaN             NaN   ...         0.0        0.0   \n",
       "13             NaN       NaN             NaN   ...         1.0        1.0   \n",
       "14             NaN       NaN             NaN   ...         1.0        1.0   \n",
       "15             NaN       NaN             NaN   ...         0.0        4.0   \n",
       "16             NaN       NaN             NaN   ...         0.0        0.0   \n",
       "17             NaN       NaN             NaN   ...         0.0        0.0   \n",
       "\n",
       "    完成只分析项目数  完成联合分析项目数  在线标准分析项目数  在线个性化项目数  未下机项目数  组别.1  完成项目总数  在线项目总数  \n",
       "0        NaN        NaN        NaN       NaN     NaN   NaN     0.0     0.0  \n",
       "1        NaN        NaN        NaN       NaN     NaN   NaN     3.0     2.0  \n",
       "2        NaN        NaN        NaN       NaN     NaN   NaN     2.0     4.0  \n",
       "3        NaN        NaN        NaN       NaN     NaN   NaN     1.0     3.0  \n",
       "4        NaN        NaN        NaN       NaN     NaN   NaN     1.0     2.0  \n",
       "5        NaN        NaN        NaN       NaN     NaN   NaN     1.0     4.0  \n",
       "6        NaN        NaN        NaN       NaN     NaN   NaN     0.0     8.0  \n",
       "7        NaN        NaN        NaN       NaN     NaN   NaN     2.0     3.0  \n",
       "8        NaN        NaN        NaN       NaN     NaN   NaN     0.0     0.0  \n",
       "9        NaN        NaN        NaN       NaN     NaN   NaN     2.0     2.0  \n",
       "10       NaN        NaN        NaN       NaN     NaN   NaN     7.0    10.0  \n",
       "11       NaN        NaN        NaN       NaN     NaN   NaN     0.0     1.0  \n",
       "12       NaN        NaN        NaN       NaN     NaN   NaN    11.0    11.0  \n",
       "13       NaN        NaN        NaN       NaN     NaN   NaN    13.0    13.0  \n",
       "14       NaN        NaN        NaN       NaN     NaN   NaN     9.0    11.0  \n",
       "15       NaN        NaN        NaN       NaN     NaN   NaN     0.0     0.0  \n",
       "16       NaN        NaN        NaN       NaN     NaN   NaN     2.0     6.0  \n",
       "17       NaN        NaN        NaN       NaN     NaN   NaN     4.0     8.0  \n",
       "18       NaN        NaN        NaN       NaN     NaN   NaN     7.0     7.0  \n",
       "0        NaN        NaN        NaN       NaN     NaN   NaN     0.0     0.0  \n",
       "1        NaN        NaN        NaN       NaN     NaN   NaN     3.0     7.0  \n",
       "2        NaN        NaN        NaN       NaN     NaN   NaN     2.0     4.0  \n",
       "3        NaN        NaN        NaN       NaN     NaN   NaN     1.0     5.0  \n",
       "4        NaN        NaN        NaN       NaN     NaN   NaN     3.0     3.0  \n",
       "5        NaN        NaN        NaN       NaN     NaN   NaN     4.0     2.0  \n",
       "6        NaN        NaN        NaN       NaN     NaN   NaN     3.0    10.0  \n",
       "7        NaN        NaN        NaN       NaN     NaN   NaN     3.0     0.0  \n",
       "8        NaN        NaN        NaN       NaN     NaN   NaN     0.0     0.0  \n",
       "9        NaN        NaN        NaN       NaN     NaN   NaN     7.0    11.0  \n",
       "10       NaN        NaN        NaN       NaN     NaN   NaN     0.0     2.0  \n",
       "..       ...        ...        ...       ...     ...   ...     ...     ...  \n",
       "6        1.0        1.0        0.0       0.0     5.0  分析一组     5.0     NaN  \n",
       "7        0.0        0.0        0.0       0.0     0.0  个性化组     0.0     NaN  \n",
       "8        0.0        0.0        0.0       0.0     0.0  分析二组     0.0     NaN  \n",
       "9        0.0        0.0        5.0       0.0    16.0  分析二组     2.0     NaN  \n",
       "10       0.0        0.0        0.0       0.0     3.0  分析一组     0.0     NaN  \n",
       "11       0.0        0.0        8.0       0.0     2.0  分析二组     7.0     NaN  \n",
       "12       0.0        0.0        0.0       0.0    17.0  分析二组     0.0     NaN  \n",
       "13       1.0        0.0        2.0       2.0    11.0  分析二组     4.0     NaN  \n",
       "14       0.0        0.0        5.0       0.0     5.0  分析二组     3.0     NaN  \n",
       "15       0.0        2.0        6.0       0.0    14.0  分析二组    10.0     NaN  \n",
       "16       0.0        0.0        0.0       5.0     0.0  个性化组     5.0     NaN  \n",
       "17       0.0        0.0        0.0       5.0     0.0  个性化组     5.0     NaN  \n",
       "0        0.0        0.0        1.0       4.0     8.0  分析一组     6.0     NaN  \n",
       "1        0.0        0.0        2.0       2.0     7.0  分析二组     4.0     NaN  \n",
       "2        0.0        0.0        3.0       0.0     1.0  分析一组     4.0     NaN  \n",
       "3        0.0        0.0        1.0       0.0     4.0  分析二组     1.0     NaN  \n",
       "4        0.0        0.0        0.0       2.0     0.0  个性化组     2.0     NaN  \n",
       "5        1.0        0.0        5.0       2.0     6.0  分析二组     5.0     NaN  \n",
       "6        0.0        0.0        2.0       1.0     5.0  分析一组     0.0     NaN  \n",
       "7        0.0        0.0        0.0       0.0     0.0  个性化组     0.0     NaN  \n",
       "8        0.0        0.0        0.0       0.0     0.0  分析二组     0.0     NaN  \n",
       "9        1.0        0.0        4.0       0.0    14.0  分析二组     4.0     NaN  \n",
       "10       0.0        0.0        0.0       0.0     3.0  分析一组     0.0     NaN  \n",
       "11       2.0        0.0        6.0       2.0     2.0  分析二组     5.0     NaN  \n",
       "12       0.0        0.0        0.0       0.0    19.0  分析二组     0.0     NaN  \n",
       "13       0.0        0.0        3.0       2.0    12.0  分析二组     4.0     NaN  \n",
       "14       0.0        0.0        5.0       1.0     3.0  分析二组     4.0     NaN  \n",
       "15       0.0        0.0        2.0       2.0    12.0  分析二组     5.0     NaN  \n",
       "16       0.0        0.0        0.0       1.0     0.0  个性化组     9.0     NaN  \n",
       "17       0.0        0.0        0.0       7.0     0.0  个性化组     3.0     NaN  \n",
       "\n",
       "[145 rows x 28 columns]"
      ]
     },
     "execution_count": 26,
     "metadata": {},
     "output_type": "execute_result"
    }
   ],
   "source": [
    "myModule.upgrade_df(all_df1, [ ['完成商业项目数',['完成流水线项目数','完成非流水线项目数','完成只分析项目数','完成联合分析项目数'],'+']])\n",
    "\n",
    "myModule.upgrade_df(all_df1, [ ['完成项目总数',['完成商业项目数','完成个性化数'],'+'] , \n",
    "                               ['在线项目总数',['下机项目数','接入个性化数'],'+']])\n",
    "\n",
    "#all_dict2 = myModule.read_xlsx(all_files , 1 ) ##\n",
    "#all_df1.drop([])\n",
    "all_df1"
   ]
  },
  {
   "cell_type": "markdown",
   "metadata": {},
   "source": [
    "# 人员情况"
   ]
  },
  {
   "cell_type": "markdown",
   "metadata": {},
   "source": [
    "## 分析组整体人员情况"
   ]
  },
  {
   "cell_type": "code",
   "execution_count": 16,
   "metadata": {},
   "outputs": [
    {
     "data": {
      "application/vnd.plotly.v1+json": {
       "data": [
        {
         "name": "人员",
         "type": "bar",
         "uid": "761edf46-cae5-11e8-aa50-a81e84e6c740",
         "x": [
          "8-1",
          "8-2",
          "8-3",
          "8-4",
          "9-1",
          "9-2",
          "9-3",
          "9-4"
         ],
         "y": [
          19,
          18,
          18,
          18,
          18,
          18,
          18,
          18
         ]
        }
       ],
       "layout": {
        "title": "人员周趋势图",
        "xaxis": {
         "mirror": "all",
         "nticks": 20,
         "showgrid": true,
         "showline": true,
         "title": "周",
         "zeroline": true
        },
        "yaxis": {
         "mirror": "all",
         "nticks": 20,
         "showgrid": true,
         "showline": true,
         "title": "人员",
         "zeroline": true
        }
       }
      },
      "text/html": [
       "<div id=\"eeea58ee-e270-4b7f-a620-e65d0f6cfc96\" style=\"height: 525px; width: 100%;\" class=\"plotly-graph-div\"></div><script type=\"text/javascript\">require([\"plotly\"], function(Plotly) { window.PLOTLYENV=window.PLOTLYENV || {};window.PLOTLYENV.BASE_URL=\"https://plot.ly\";Plotly.newPlot(\"eeea58ee-e270-4b7f-a620-e65d0f6cfc96\", [{\"name\": \"\\u4eba\\u5458\", \"x\": [\"8-1\", \"8-2\", \"8-3\", \"8-4\", \"9-1\", \"9-2\", \"9-3\", \"9-4\"], \"y\": [19, 18, 18, 18, 18, 18, 18, 18], \"type\": \"bar\", \"uid\": \"761edf46-cae5-11e8-aa50-a81e84e6c740\"}], {\"title\": \"\\u4eba\\u5458\\u5468\\u8d8b\\u52bf\\u56fe\", \"xaxis\": {\"mirror\": \"all\", \"nticks\": 20, \"showgrid\": true, \"showline\": true, \"title\": \"\\u5468\", \"zeroline\": true}, \"yaxis\": {\"mirror\": \"all\", \"nticks\": 20, \"showgrid\": true, \"showline\": true, \"title\": \"\\u4eba\\u5458\", \"zeroline\": true}}, {\"showLink\": true, \"linkText\": \"Export to plot.ly\"})});</script>"
      ],
      "text/vnd.plotly.v1+html": [
       "<div id=\"eeea58ee-e270-4b7f-a620-e65d0f6cfc96\" style=\"height: 525px; width: 100%;\" class=\"plotly-graph-div\"></div><script type=\"text/javascript\">require([\"plotly\"], function(Plotly) { window.PLOTLYENV=window.PLOTLYENV || {};window.PLOTLYENV.BASE_URL=\"https://plot.ly\";Plotly.newPlot(\"eeea58ee-e270-4b7f-a620-e65d0f6cfc96\", [{\"name\": \"\\u4eba\\u5458\", \"x\": [\"8-1\", \"8-2\", \"8-3\", \"8-4\", \"9-1\", \"9-2\", \"9-3\", \"9-4\"], \"y\": [19, 18, 18, 18, 18, 18, 18, 18], \"type\": \"bar\", \"uid\": \"761edf46-cae5-11e8-aa50-a81e84e6c740\"}], {\"title\": \"\\u4eba\\u5458\\u5468\\u8d8b\\u52bf\\u56fe\", \"xaxis\": {\"mirror\": \"all\", \"nticks\": 20, \"showgrid\": true, \"showline\": true, \"title\": \"\\u5468\", \"zeroline\": true}, \"yaxis\": {\"mirror\": \"all\", \"nticks\": 20, \"showgrid\": true, \"showline\": true, \"title\": \"\\u4eba\\u5458\", \"zeroline\": true}}, {\"showLink\": true, \"linkText\": \"Export to plot.ly\"})});</script>"
      ]
     },
     "metadata": {},
     "output_type": "display_data"
    }
   ],
   "source": [
    "ss = myModule.format(all_df1 ,\"日期（格式“月-周次”）\" ,['人员'])\n",
    "tt = myModule.myPlot(ss.groupby('count'))\n",
    "tt.plot('bar')"
   ]
  },
  {
   "cell_type": "code",
   "execution_count": 17,
   "metadata": {
    "scrolled": false
   },
   "outputs": [
    {
     "data": {
      "application/vnd.plotly.v1+json": {
       "data": [
        {
         "name": "人员",
         "type": "bar",
         "uid": "76c8fc42-cae5-11e8-aa50-a81e84e6c740",
         "x": [
          8,
          9
         ],
         "y": [
          18.25,
          18
         ]
        }
       ],
       "layout": {
        "title": "人员月趋势图",
        "xaxis": {
         "mirror": "all",
         "nticks": 20,
         "showgrid": true,
         "showline": true,
         "title": "月",
         "zeroline": true
        },
        "yaxis": {
         "mirror": "all",
         "nticks": 20,
         "showgrid": true,
         "showline": true,
         "title": "人员",
         "zeroline": true
        }
       }
      },
      "text/html": [
       "<div id=\"dff08b92-1b0a-4418-a6e0-67d309dfdeb8\" style=\"height: 525px; width: 100%;\" class=\"plotly-graph-div\"></div><script type=\"text/javascript\">require([\"plotly\"], function(Plotly) { window.PLOTLYENV=window.PLOTLYENV || {};window.PLOTLYENV.BASE_URL=\"https://plot.ly\";Plotly.newPlot(\"dff08b92-1b0a-4418-a6e0-67d309dfdeb8\", [{\"name\": \"\\u4eba\\u5458\", \"x\": [8, 9], \"y\": [18.25, 18.0], \"type\": \"bar\", \"uid\": \"76c8fc42-cae5-11e8-aa50-a81e84e6c740\"}], {\"title\": \"\\u4eba\\u5458\\u6708\\u8d8b\\u52bf\\u56fe\", \"xaxis\": {\"mirror\": \"all\", \"nticks\": 20, \"showgrid\": true, \"showline\": true, \"title\": \"\\u6708\", \"zeroline\": true}, \"yaxis\": {\"mirror\": \"all\", \"nticks\": 20, \"showgrid\": true, \"showline\": true, \"title\": \"\\u4eba\\u5458\", \"zeroline\": true}}, {\"showLink\": true, \"linkText\": \"Export to plot.ly\"})});</script>"
      ],
      "text/vnd.plotly.v1+html": [
       "<div id=\"dff08b92-1b0a-4418-a6e0-67d309dfdeb8\" style=\"height: 525px; width: 100%;\" class=\"plotly-graph-div\"></div><script type=\"text/javascript\">require([\"plotly\"], function(Plotly) { window.PLOTLYENV=window.PLOTLYENV || {};window.PLOTLYENV.BASE_URL=\"https://plot.ly\";Plotly.newPlot(\"dff08b92-1b0a-4418-a6e0-67d309dfdeb8\", [{\"name\": \"\\u4eba\\u5458\", \"x\": [8, 9], \"y\": [18.25, 18.0], \"type\": \"bar\", \"uid\": \"76c8fc42-cae5-11e8-aa50-a81e84e6c740\"}], {\"title\": \"\\u4eba\\u5458\\u6708\\u8d8b\\u52bf\\u56fe\", \"xaxis\": {\"mirror\": \"all\", \"nticks\": 20, \"showgrid\": true, \"showline\": true, \"title\": \"\\u6708\", \"zeroline\": true}, \"yaxis\": {\"mirror\": \"all\", \"nticks\": 20, \"showgrid\": true, \"showline\": true, \"title\": \"\\u4eba\\u5458\", \"zeroline\": true}}, {\"showLink\": true, \"linkText\": \"Export to plot.ly\"})});</script>"
      ]
     },
     "metadata": {},
     "output_type": "display_data"
    }
   ],
   "source": [
    "ss = myModule.format(all_df1 ,\"month\" ,['人员'] )\n",
    "ss.get_average_by('日期（格式“月-周次”）')\n",
    "tt = myModule.myPlot(ss.groupby(\"count\") )# ,\"日期（格式“月-周次”）\" ,['人员'])\n",
    "tt.plot('bar',tag='月')"
   ]
  },
  {
   "cell_type": "markdown",
   "metadata": {},
   "source": [
    "## 各组人员情况"
   ]
  },
  {
   "cell_type": "code",
   "execution_count": 18,
   "metadata": {},
   "outputs": [
    {
     "data": {
      "application/vnd.plotly.v1+json": {
       "data": [
        {
         "name": "人员(分析一组)",
         "type": "bar",
         "uid": "77f436b8-cae5-11e8-aa50-a81e84e6c740",
         "x": [
          "8-1",
          "8-2",
          "8-3",
          "8-4",
          "9-1",
          "9-2",
          "9-3",
          "9-4"
         ],
         "y": [
          4,
          4,
          4,
          4,
          4,
          4,
          4,
          4
         ]
        },
        {
         "name": "人员(个性化组)",
         "type": "bar",
         "uid": "77f43a50-cae5-11e8-aa50-a81e84e6c740",
         "x": [
          "8-1",
          "8-2",
          "8-3",
          "8-4",
          "9-1",
          "9-2",
          "9-3",
          "9-4"
         ],
         "y": [
          4,
          4,
          4,
          4,
          4,
          4,
          4,
          4
         ]
        },
        {
         "name": "人员(分析二组)",
         "type": "bar",
         "uid": "77f43ca8-cae5-11e8-aa50-a81e84e6c740",
         "x": [
          "8-1",
          "8-2",
          "8-3",
          "8-4",
          "9-1",
          "9-2",
          "9-3",
          "9-4"
         ],
         "y": [
          11,
          10,
          10,
          10,
          10,
          10,
          10,
          10
         ]
        }
       ],
       "layout": {
        "barmode": "stack",
        "title": "人员周趋势图",
        "xaxis": {
         "mirror": "all",
         "nticks": 20,
         "showgrid": true,
         "showline": true,
         "title": "周",
         "zeroline": true
        },
        "yaxis": {
         "mirror": "all",
         "nticks": 20,
         "showgrid": true,
         "showline": true,
         "title": "人员",
         "zeroline": true
        }
       }
      },
      "text/html": [
       "<div id=\"12221d8c-eb44-4be7-9f5b-90d7f257d552\" style=\"height: 525px; width: 100%;\" class=\"plotly-graph-div\"></div><script type=\"text/javascript\">require([\"plotly\"], function(Plotly) { window.PLOTLYENV=window.PLOTLYENV || {};window.PLOTLYENV.BASE_URL=\"https://plot.ly\";Plotly.newPlot(\"12221d8c-eb44-4be7-9f5b-90d7f257d552\", [{\"name\": \"\\u4eba\\u5458(\\u5206\\u6790\\u4e00\\u7ec4)\", \"x\": [\"8-1\", \"8-2\", \"8-3\", \"8-4\", \"9-1\", \"9-2\", \"9-3\", \"9-4\"], \"y\": [4, 4, 4, 4, 4, 4, 4, 4], \"type\": \"bar\", \"uid\": \"77f436b8-cae5-11e8-aa50-a81e84e6c740\"}, {\"name\": \"\\u4eba\\u5458(\\u4e2a\\u6027\\u5316\\u7ec4)\", \"x\": [\"8-1\", \"8-2\", \"8-3\", \"8-4\", \"9-1\", \"9-2\", \"9-3\", \"9-4\"], \"y\": [4, 4, 4, 4, 4, 4, 4, 4], \"type\": \"bar\", \"uid\": \"77f43a50-cae5-11e8-aa50-a81e84e6c740\"}, {\"name\": \"\\u4eba\\u5458(\\u5206\\u6790\\u4e8c\\u7ec4)\", \"x\": [\"8-1\", \"8-2\", \"8-3\", \"8-4\", \"9-1\", \"9-2\", \"9-3\", \"9-4\"], \"y\": [11, 10, 10, 10, 10, 10, 10, 10], \"type\": \"bar\", \"uid\": \"77f43ca8-cae5-11e8-aa50-a81e84e6c740\"}], {\"barmode\": \"stack\", \"title\": \"\\u4eba\\u5458\\u5468\\u8d8b\\u52bf\\u56fe\", \"xaxis\": {\"mirror\": \"all\", \"nticks\": 20, \"showgrid\": true, \"showline\": true, \"title\": \"\\u5468\", \"zeroline\": true}, \"yaxis\": {\"mirror\": \"all\", \"nticks\": 20, \"showgrid\": true, \"showline\": true, \"title\": \"\\u4eba\\u5458\", \"zeroline\": true}}, {\"showLink\": true, \"linkText\": \"Export to plot.ly\"})});</script>"
      ],
      "text/vnd.plotly.v1+html": [
       "<div id=\"12221d8c-eb44-4be7-9f5b-90d7f257d552\" style=\"height: 525px; width: 100%;\" class=\"plotly-graph-div\"></div><script type=\"text/javascript\">require([\"plotly\"], function(Plotly) { window.PLOTLYENV=window.PLOTLYENV || {};window.PLOTLYENV.BASE_URL=\"https://plot.ly\";Plotly.newPlot(\"12221d8c-eb44-4be7-9f5b-90d7f257d552\", [{\"name\": \"\\u4eba\\u5458(\\u5206\\u6790\\u4e00\\u7ec4)\", \"x\": [\"8-1\", \"8-2\", \"8-3\", \"8-4\", \"9-1\", \"9-2\", \"9-3\", \"9-4\"], \"y\": [4, 4, 4, 4, 4, 4, 4, 4], \"type\": \"bar\", \"uid\": \"77f436b8-cae5-11e8-aa50-a81e84e6c740\"}, {\"name\": \"\\u4eba\\u5458(\\u4e2a\\u6027\\u5316\\u7ec4)\", \"x\": [\"8-1\", \"8-2\", \"8-3\", \"8-4\", \"9-1\", \"9-2\", \"9-3\", \"9-4\"], \"y\": [4, 4, 4, 4, 4, 4, 4, 4], \"type\": \"bar\", \"uid\": \"77f43a50-cae5-11e8-aa50-a81e84e6c740\"}, {\"name\": \"\\u4eba\\u5458(\\u5206\\u6790\\u4e8c\\u7ec4)\", \"x\": [\"8-1\", \"8-2\", \"8-3\", \"8-4\", \"9-1\", \"9-2\", \"9-3\", \"9-4\"], \"y\": [11, 10, 10, 10, 10, 10, 10, 10], \"type\": \"bar\", \"uid\": \"77f43ca8-cae5-11e8-aa50-a81e84e6c740\"}], {\"barmode\": \"stack\", \"title\": \"\\u4eba\\u5458\\u5468\\u8d8b\\u52bf\\u56fe\", \"xaxis\": {\"mirror\": \"all\", \"nticks\": 20, \"showgrid\": true, \"showline\": true, \"title\": \"\\u5468\", \"zeroline\": true}, \"yaxis\": {\"mirror\": \"all\", \"nticks\": 20, \"showgrid\": true, \"showline\": true, \"title\": \"\\u4eba\\u5458\", \"zeroline\": true}}, {\"showLink\": true, \"linkText\": \"Export to plot.ly\"})});</script>"
      ]
     },
     "metadata": {},
     "output_type": "display_data"
    }
   ],
   "source": [
    "ss = myModule.format(all_df1 ,\"日期（格式“月-周次”）\" ,['人员'])\n",
    "ss.add_group('组别')\n",
    "myModule.myPlot(ss.groupby('count')).plot('stack_bar')"
   ]
  },
  {
   "cell_type": "markdown",
   "metadata": {},
   "source": [
    "# 产能情况"
   ]
  },
  {
   "cell_type": "markdown",
   "metadata": {},
   "source": [
    "## 总完成项目数情况"
   ]
  },
  {
   "cell_type": "markdown",
   "metadata": {},
   "source": [
    "### 分析组完成项目数"
   ]
  },
  {
   "cell_type": "code",
   "execution_count": 19,
   "metadata": {},
   "outputs": [
    {
     "data": {
      "application/vnd.plotly.v1+json": {
       "data": [
        {
         "name": "完成个性化数",
         "type": "bar",
         "uid": "7a48fef8-cae5-11e8-aa50-a81e84e6c740",
         "x": [
          "8-1",
          "8-2",
          "8-3",
          "8-4",
          "9-1",
          "9-2",
          "9-3",
          "9-4"
         ],
         "y": [
          27,
          35,
          26,
          31,
          31,
          39,
          41,
          28
         ]
        },
        {
         "name": "完成商业项目数",
         "type": "bar",
         "uid": "7a490542-cae5-11e8-aa50-a81e84e6c740",
         "x": [
          "8-1",
          "8-2",
          "8-3",
          "8-4",
          "9-1",
          "9-2",
          "9-3",
          "9-4"
         ],
         "y": [
          38,
          36,
          24,
          30,
          26,
          40,
          23,
          28
         ]
        }
       ],
       "layout": {
        "barmode": "stack",
        "title": "完成个性化数&完成商业项目数周趋势图",
        "xaxis": {
         "mirror": "all",
         "nticks": 20,
         "showgrid": true,
         "showline": true,
         "title": "周",
         "zeroline": true
        },
        "yaxis": {
         "mirror": "all",
         "nticks": 20,
         "showgrid": true,
         "showline": true,
         "title": "完成个性化数&完成商业项目数",
         "zeroline": true
        }
       }
      },
      "text/html": [
       "<div id=\"63b9d809-0735-400a-a67b-28ca36a5e503\" style=\"height: 525px; width: 100%;\" class=\"plotly-graph-div\"></div><script type=\"text/javascript\">require([\"plotly\"], function(Plotly) { window.PLOTLYENV=window.PLOTLYENV || {};window.PLOTLYENV.BASE_URL=\"https://plot.ly\";Plotly.newPlot(\"63b9d809-0735-400a-a67b-28ca36a5e503\", [{\"name\": \"\\u5b8c\\u6210\\u4e2a\\u6027\\u5316\\u6570\", \"x\": [\"8-1\", \"8-2\", \"8-3\", \"8-4\", \"9-1\", \"9-2\", \"9-3\", \"9-4\"], \"y\": [27, 35, 26, 31, 31, 39, 41, 28], \"type\": \"bar\", \"uid\": \"7a48fef8-cae5-11e8-aa50-a81e84e6c740\"}, {\"name\": \"\\u5b8c\\u6210\\u5546\\u4e1a\\u9879\\u76ee\\u6570\", \"x\": [\"8-1\", \"8-2\", \"8-3\", \"8-4\", \"9-1\", \"9-2\", \"9-3\", \"9-4\"], \"y\": [38.0, 36.0, 24.0, 30.0, 26.0, 40.0, 23.0, 28.0], \"type\": \"bar\", \"uid\": \"7a490542-cae5-11e8-aa50-a81e84e6c740\"}], {\"barmode\": \"stack\", \"title\": \"\\u5b8c\\u6210\\u4e2a\\u6027\\u5316\\u6570&\\u5b8c\\u6210\\u5546\\u4e1a\\u9879\\u76ee\\u6570\\u5468\\u8d8b\\u52bf\\u56fe\", \"xaxis\": {\"mirror\": \"all\", \"nticks\": 20, \"showgrid\": true, \"showline\": true, \"title\": \"\\u5468\", \"zeroline\": true}, \"yaxis\": {\"mirror\": \"all\", \"nticks\": 20, \"showgrid\": true, \"showline\": true, \"title\": \"\\u5b8c\\u6210\\u4e2a\\u6027\\u5316\\u6570&\\u5b8c\\u6210\\u5546\\u4e1a\\u9879\\u76ee\\u6570\", \"zeroline\": true}}, {\"showLink\": true, \"linkText\": \"Export to plot.ly\"})});</script>"
      ],
      "text/vnd.plotly.v1+html": [
       "<div id=\"63b9d809-0735-400a-a67b-28ca36a5e503\" style=\"height: 525px; width: 100%;\" class=\"plotly-graph-div\"></div><script type=\"text/javascript\">require([\"plotly\"], function(Plotly) { window.PLOTLYENV=window.PLOTLYENV || {};window.PLOTLYENV.BASE_URL=\"https://plot.ly\";Plotly.newPlot(\"63b9d809-0735-400a-a67b-28ca36a5e503\", [{\"name\": \"\\u5b8c\\u6210\\u4e2a\\u6027\\u5316\\u6570\", \"x\": [\"8-1\", \"8-2\", \"8-3\", \"8-4\", \"9-1\", \"9-2\", \"9-3\", \"9-4\"], \"y\": [27, 35, 26, 31, 31, 39, 41, 28], \"type\": \"bar\", \"uid\": \"7a48fef8-cae5-11e8-aa50-a81e84e6c740\"}, {\"name\": \"\\u5b8c\\u6210\\u5546\\u4e1a\\u9879\\u76ee\\u6570\", \"x\": [\"8-1\", \"8-2\", \"8-3\", \"8-4\", \"9-1\", \"9-2\", \"9-3\", \"9-4\"], \"y\": [38.0, 36.0, 24.0, 30.0, 26.0, 40.0, 23.0, 28.0], \"type\": \"bar\", \"uid\": \"7a490542-cae5-11e8-aa50-a81e84e6c740\"}], {\"barmode\": \"stack\", \"title\": \"\\u5b8c\\u6210\\u4e2a\\u6027\\u5316\\u6570&\\u5b8c\\u6210\\u5546\\u4e1a\\u9879\\u76ee\\u6570\\u5468\\u8d8b\\u52bf\\u56fe\", \"xaxis\": {\"mirror\": \"all\", \"nticks\": 20, \"showgrid\": true, \"showline\": true, \"title\": \"\\u5468\", \"zeroline\": true}, \"yaxis\": {\"mirror\": \"all\", \"nticks\": 20, \"showgrid\": true, \"showline\": true, \"title\": \"\\u5b8c\\u6210\\u4e2a\\u6027\\u5316\\u6570&\\u5b8c\\u6210\\u5546\\u4e1a\\u9879\\u76ee\\u6570\", \"zeroline\": true}}, {\"showLink\": true, \"linkText\": \"Export to plot.ly\"})});</script>"
      ]
     },
     "metadata": {},
     "output_type": "display_data"
    },
    {
     "data": {
      "application/vnd.plotly.v1+json": {
       "data": [
        {
         "name": "完成个性化数",
         "type": "bar",
         "uid": "7a53011e-cae5-11e8-aa50-a81e84e6c740",
         "x": [
          8,
          9
         ],
         "y": [
          119,
          139
         ]
        },
        {
         "name": "完成商业项目数",
         "type": "bar",
         "uid": "7a531b40-cae5-11e8-aa50-a81e84e6c740",
         "x": [
          8,
          9
         ],
         "y": [
          128,
          117
         ]
        }
       ],
       "layout": {
        "barmode": "stack",
        "title": "完成个性化数&完成商业项目数月趋势图",
        "xaxis": {
         "mirror": "all",
         "nticks": 20,
         "showgrid": true,
         "showline": true,
         "title": "月",
         "zeroline": true
        },
        "yaxis": {
         "mirror": "all",
         "nticks": 20,
         "showgrid": true,
         "showline": true,
         "title": "完成个性化数&完成商业项目数",
         "zeroline": true
        }
       }
      },
      "text/html": [
       "<div id=\"f3602bda-6b0e-4607-bab6-a285e131f20a\" style=\"height: 525px; width: 100%;\" class=\"plotly-graph-div\"></div><script type=\"text/javascript\">require([\"plotly\"], function(Plotly) { window.PLOTLYENV=window.PLOTLYENV || {};window.PLOTLYENV.BASE_URL=\"https://plot.ly\";Plotly.newPlot(\"f3602bda-6b0e-4607-bab6-a285e131f20a\", [{\"name\": \"\\u5b8c\\u6210\\u4e2a\\u6027\\u5316\\u6570\", \"x\": [8, 9], \"y\": [119, 139], \"type\": \"bar\", \"uid\": \"7a53011e-cae5-11e8-aa50-a81e84e6c740\"}, {\"name\": \"\\u5b8c\\u6210\\u5546\\u4e1a\\u9879\\u76ee\\u6570\", \"x\": [8, 9], \"y\": [128.0, 117.0], \"type\": \"bar\", \"uid\": \"7a531b40-cae5-11e8-aa50-a81e84e6c740\"}], {\"barmode\": \"stack\", \"title\": \"\\u5b8c\\u6210\\u4e2a\\u6027\\u5316\\u6570&\\u5b8c\\u6210\\u5546\\u4e1a\\u9879\\u76ee\\u6570\\u6708\\u8d8b\\u52bf\\u56fe\", \"xaxis\": {\"mirror\": \"all\", \"nticks\": 20, \"showgrid\": true, \"showline\": true, \"title\": \"\\u6708\", \"zeroline\": true}, \"yaxis\": {\"mirror\": \"all\", \"nticks\": 20, \"showgrid\": true, \"showline\": true, \"title\": \"\\u5b8c\\u6210\\u4e2a\\u6027\\u5316\\u6570&\\u5b8c\\u6210\\u5546\\u4e1a\\u9879\\u76ee\\u6570\", \"zeroline\": true}}, {\"showLink\": true, \"linkText\": \"Export to plot.ly\"})});</script>"
      ],
      "text/vnd.plotly.v1+html": [
       "<div id=\"f3602bda-6b0e-4607-bab6-a285e131f20a\" style=\"height: 525px; width: 100%;\" class=\"plotly-graph-div\"></div><script type=\"text/javascript\">require([\"plotly\"], function(Plotly) { window.PLOTLYENV=window.PLOTLYENV || {};window.PLOTLYENV.BASE_URL=\"https://plot.ly\";Plotly.newPlot(\"f3602bda-6b0e-4607-bab6-a285e131f20a\", [{\"name\": \"\\u5b8c\\u6210\\u4e2a\\u6027\\u5316\\u6570\", \"x\": [8, 9], \"y\": [119, 139], \"type\": \"bar\", \"uid\": \"7a53011e-cae5-11e8-aa50-a81e84e6c740\"}, {\"name\": \"\\u5b8c\\u6210\\u5546\\u4e1a\\u9879\\u76ee\\u6570\", \"x\": [8, 9], \"y\": [128.0, 117.0], \"type\": \"bar\", \"uid\": \"7a531b40-cae5-11e8-aa50-a81e84e6c740\"}], {\"barmode\": \"stack\", \"title\": \"\\u5b8c\\u6210\\u4e2a\\u6027\\u5316\\u6570&\\u5b8c\\u6210\\u5546\\u4e1a\\u9879\\u76ee\\u6570\\u6708\\u8d8b\\u52bf\\u56fe\", \"xaxis\": {\"mirror\": \"all\", \"nticks\": 20, \"showgrid\": true, \"showline\": true, \"title\": \"\\u6708\", \"zeroline\": true}, \"yaxis\": {\"mirror\": \"all\", \"nticks\": 20, \"showgrid\": true, \"showline\": true, \"title\": \"\\u5b8c\\u6210\\u4e2a\\u6027\\u5316\\u6570&\\u5b8c\\u6210\\u5546\\u4e1a\\u9879\\u76ee\\u6570\", \"zeroline\": true}}, {\"showLink\": true, \"linkText\": \"Export to plot.ly\"})});</script>"
      ]
     },
     "metadata": {},
     "output_type": "display_data"
    }
   ],
   "source": [
    "ss = myModule.format(all_df1 ,\"日期（格式“月-周次”）\" ,['完成商业项目数','完成个性化数'])\n",
    "myModule.myPlot(ss.groupby('sum')).plot('stack_bar')\n",
    "ss = myModule.format(all_df1 ,\"month\" ,['完成商业项目数','完成个性化数'])\n",
    "myModule.myPlot(ss.groupby('sum')).plot('stack_bar',\"月\")"
   ]
  },
  {
   "cell_type": "markdown",
   "metadata": {},
   "source": [
    "### 各组总完成项目趋势图"
   ]
  },
  {
   "cell_type": "code",
   "execution_count": 29,
   "metadata": {},
   "outputs": [
    {
     "data": {
      "application/vnd.plotly.v1+json": {
       "data": [
        {
         "line": {
          "dash": "solid"
         },
         "name": "完成项目总数(分析一组)",
         "type": "scatter",
         "uid": "b90e42ec-cae5-11e8-aa50-a81e84e6c740",
         "x": [
          "8-1",
          "8-2",
          "8-3",
          "8-4",
          "9-1",
          "9-2",
          "9-3",
          "9-4"
         ],
         "y": [
          33,
          28,
          20,
          14,
          11,
          15,
          9,
          10
         ]
        },
        {
         "line": {
          "dash": "dot"
         },
         "name": "完成项目总数(个性化组)",
         "type": "scatter",
         "uid": "b90e481e-cae5-11e8-aa50-a81e84e6c740",
         "x": [
          "8-1",
          "8-2",
          "8-3",
          "8-4",
          "9-1",
          "9-2",
          "9-3",
          "9-4"
         ],
         "y": [
          13,
          17,
          9,
          18,
          18,
          14,
          13,
          14
         ]
        },
        {
         "line": {
          "dash": "dash"
         },
         "name": "完成项目总数(分析二组)",
         "type": "scatter",
         "uid": "b90e4bde-cae5-11e8-aa50-a81e84e6c740",
         "x": [
          "8-1",
          "8-2",
          "8-3",
          "8-4",
          "9-1",
          "9-2",
          "9-3",
          "9-4"
         ],
         "y": [
          19,
          26,
          21,
          29,
          28,
          50,
          42,
          32
         ]
        }
       ],
       "layout": {
        "title": "完成项目总数周趋势图",
        "xaxis": {
         "mirror": "all",
         "nticks": 20,
         "showgrid": true,
         "showline": true,
         "title": "周",
         "zeroline": true
        },
        "yaxis": {
         "mirror": "all",
         "nticks": 20,
         "showgrid": true,
         "showline": true,
         "title": "完成项目总数",
         "zeroline": true
        }
       }
      },
      "text/html": [
       "<div id=\"7c7800ec-79f8-4359-a1e0-08d064dc4a3a\" style=\"height: 525px; width: 100%;\" class=\"plotly-graph-div\"></div><script type=\"text/javascript\">require([\"plotly\"], function(Plotly) { window.PLOTLYENV=window.PLOTLYENV || {};window.PLOTLYENV.BASE_URL=\"https://plot.ly\";Plotly.newPlot(\"7c7800ec-79f8-4359-a1e0-08d064dc4a3a\", [{\"line\": {\"dash\": \"solid\"}, \"name\": \"\\u5b8c\\u6210\\u9879\\u76ee\\u603b\\u6570(\\u5206\\u6790\\u4e00\\u7ec4)\", \"x\": [\"8-1\", \"8-2\", \"8-3\", \"8-4\", \"9-1\", \"9-2\", \"9-3\", \"9-4\"], \"y\": [33.0, 28.0, 20.0, 14.0, 11.0, 15.0, 9.0, 10.0], \"type\": \"scatter\", \"uid\": \"b90e42ec-cae5-11e8-aa50-a81e84e6c740\"}, {\"line\": {\"dash\": \"dot\"}, \"name\": \"\\u5b8c\\u6210\\u9879\\u76ee\\u603b\\u6570(\\u4e2a\\u6027\\u5316\\u7ec4)\", \"x\": [\"8-1\", \"8-2\", \"8-3\", \"8-4\", \"9-1\", \"9-2\", \"9-3\", \"9-4\"], \"y\": [13.0, 17.0, 9.0, 18.0, 18.0, 14.0, 13.0, 14.0], \"type\": \"scatter\", \"uid\": \"b90e481e-cae5-11e8-aa50-a81e84e6c740\"}, {\"line\": {\"dash\": \"dash\"}, \"name\": \"\\u5b8c\\u6210\\u9879\\u76ee\\u603b\\u6570(\\u5206\\u6790\\u4e8c\\u7ec4)\", \"x\": [\"8-1\", \"8-2\", \"8-3\", \"8-4\", \"9-1\", \"9-2\", \"9-3\", \"9-4\"], \"y\": [19.0, 26.0, 21.0, 29.0, 28.0, 50.0, 42.0, 32.0], \"type\": \"scatter\", \"uid\": \"b90e4bde-cae5-11e8-aa50-a81e84e6c740\"}], {\"title\": \"\\u5b8c\\u6210\\u9879\\u76ee\\u603b\\u6570\\u5468\\u8d8b\\u52bf\\u56fe\", \"xaxis\": {\"mirror\": \"all\", \"nticks\": 20, \"showgrid\": true, \"showline\": true, \"title\": \"\\u5468\", \"zeroline\": true}, \"yaxis\": {\"mirror\": \"all\", \"nticks\": 20, \"showgrid\": true, \"showline\": true, \"title\": \"\\u5b8c\\u6210\\u9879\\u76ee\\u603b\\u6570\", \"zeroline\": true}}, {\"showLink\": true, \"linkText\": \"Export to plot.ly\"})});</script>"
      ],
      "text/vnd.plotly.v1+html": [
       "<div id=\"7c7800ec-79f8-4359-a1e0-08d064dc4a3a\" style=\"height: 525px; width: 100%;\" class=\"plotly-graph-div\"></div><script type=\"text/javascript\">require([\"plotly\"], function(Plotly) { window.PLOTLYENV=window.PLOTLYENV || {};window.PLOTLYENV.BASE_URL=\"https://plot.ly\";Plotly.newPlot(\"7c7800ec-79f8-4359-a1e0-08d064dc4a3a\", [{\"line\": {\"dash\": \"solid\"}, \"name\": \"\\u5b8c\\u6210\\u9879\\u76ee\\u603b\\u6570(\\u5206\\u6790\\u4e00\\u7ec4)\", \"x\": [\"8-1\", \"8-2\", \"8-3\", \"8-4\", \"9-1\", \"9-2\", \"9-3\", \"9-4\"], \"y\": [33.0, 28.0, 20.0, 14.0, 11.0, 15.0, 9.0, 10.0], \"type\": \"scatter\", \"uid\": \"b90e42ec-cae5-11e8-aa50-a81e84e6c740\"}, {\"line\": {\"dash\": \"dot\"}, \"name\": \"\\u5b8c\\u6210\\u9879\\u76ee\\u603b\\u6570(\\u4e2a\\u6027\\u5316\\u7ec4)\", \"x\": [\"8-1\", \"8-2\", \"8-3\", \"8-4\", \"9-1\", \"9-2\", \"9-3\", \"9-4\"], \"y\": [13.0, 17.0, 9.0, 18.0, 18.0, 14.0, 13.0, 14.0], \"type\": \"scatter\", \"uid\": \"b90e481e-cae5-11e8-aa50-a81e84e6c740\"}, {\"line\": {\"dash\": \"dash\"}, \"name\": \"\\u5b8c\\u6210\\u9879\\u76ee\\u603b\\u6570(\\u5206\\u6790\\u4e8c\\u7ec4)\", \"x\": [\"8-1\", \"8-2\", \"8-3\", \"8-4\", \"9-1\", \"9-2\", \"9-3\", \"9-4\"], \"y\": [19.0, 26.0, 21.0, 29.0, 28.0, 50.0, 42.0, 32.0], \"type\": \"scatter\", \"uid\": \"b90e4bde-cae5-11e8-aa50-a81e84e6c740\"}], {\"title\": \"\\u5b8c\\u6210\\u9879\\u76ee\\u603b\\u6570\\u5468\\u8d8b\\u52bf\\u56fe\", \"xaxis\": {\"mirror\": \"all\", \"nticks\": 20, \"showgrid\": true, \"showline\": true, \"title\": \"\\u5468\", \"zeroline\": true}, \"yaxis\": {\"mirror\": \"all\", \"nticks\": 20, \"showgrid\": true, \"showline\": true, \"title\": \"\\u5b8c\\u6210\\u9879\\u76ee\\u603b\\u6570\", \"zeroline\": true}}, {\"showLink\": true, \"linkText\": \"Export to plot.ly\"})});</script>"
      ]
     },
     "metadata": {},
     "output_type": "display_data"
    },
    {
     "data": {
      "application/vnd.plotly.v1+json": {
       "data": [
        {
         "line": {
          "dash": "solid"
         },
         "name": "完成项目总数(分析一组)",
         "type": "scatter",
         "uid": "b91b1e04-cae5-11e8-aa50-a81e84e6c740",
         "x": [
          8,
          9
         ],
         "y": [
          95,
          45
         ]
        },
        {
         "line": {
          "dash": "dot"
         },
         "name": "完成项目总数(个性化组)",
         "type": "scatter",
         "uid": "b91b26b0-cae5-11e8-aa50-a81e84e6c740",
         "x": [
          8,
          9
         ],
         "y": [
          57,
          59
         ]
        },
        {
         "line": {
          "dash": "dash"
         },
         "name": "完成项目总数(分析二组)",
         "type": "scatter",
         "uid": "b91b2a34-cae5-11e8-aa50-a81e84e6c740",
         "x": [
          8,
          9
         ],
         "y": [
          95,
          152
         ]
        }
       ],
       "layout": {
        "title": "完成项目总数月趋势图",
        "xaxis": {
         "mirror": "all",
         "nticks": 20,
         "showgrid": true,
         "showline": true,
         "title": "月",
         "zeroline": true
        },
        "yaxis": {
         "mirror": "all",
         "nticks": 20,
         "showgrid": true,
         "showline": true,
         "title": "完成项目总数",
         "zeroline": true
        }
       }
      },
      "text/html": [
       "<div id=\"cd5a2750-d38f-4867-9eac-d4a652f72adf\" style=\"height: 525px; width: 100%;\" class=\"plotly-graph-div\"></div><script type=\"text/javascript\">require([\"plotly\"], function(Plotly) { window.PLOTLYENV=window.PLOTLYENV || {};window.PLOTLYENV.BASE_URL=\"https://plot.ly\";Plotly.newPlot(\"cd5a2750-d38f-4867-9eac-d4a652f72adf\", [{\"line\": {\"dash\": \"solid\"}, \"name\": \"\\u5b8c\\u6210\\u9879\\u76ee\\u603b\\u6570(\\u5206\\u6790\\u4e00\\u7ec4)\", \"x\": [8, 9], \"y\": [95.0, 45.0], \"type\": \"scatter\", \"uid\": \"b91b1e04-cae5-11e8-aa50-a81e84e6c740\"}, {\"line\": {\"dash\": \"dot\"}, \"name\": \"\\u5b8c\\u6210\\u9879\\u76ee\\u603b\\u6570(\\u4e2a\\u6027\\u5316\\u7ec4)\", \"x\": [8, 9], \"y\": [57.0, 59.0], \"type\": \"scatter\", \"uid\": \"b91b26b0-cae5-11e8-aa50-a81e84e6c740\"}, {\"line\": {\"dash\": \"dash\"}, \"name\": \"\\u5b8c\\u6210\\u9879\\u76ee\\u603b\\u6570(\\u5206\\u6790\\u4e8c\\u7ec4)\", \"x\": [8, 9], \"y\": [95.0, 152.0], \"type\": \"scatter\", \"uid\": \"b91b2a34-cae5-11e8-aa50-a81e84e6c740\"}], {\"title\": \"\\u5b8c\\u6210\\u9879\\u76ee\\u603b\\u6570\\u6708\\u8d8b\\u52bf\\u56fe\", \"xaxis\": {\"mirror\": \"all\", \"nticks\": 20, \"showgrid\": true, \"showline\": true, \"title\": \"\\u6708\", \"zeroline\": true}, \"yaxis\": {\"mirror\": \"all\", \"nticks\": 20, \"showgrid\": true, \"showline\": true, \"title\": \"\\u5b8c\\u6210\\u9879\\u76ee\\u603b\\u6570\", \"zeroline\": true}}, {\"showLink\": true, \"linkText\": \"Export to plot.ly\"})});</script>"
      ],
      "text/vnd.plotly.v1+html": [
       "<div id=\"cd5a2750-d38f-4867-9eac-d4a652f72adf\" style=\"height: 525px; width: 100%;\" class=\"plotly-graph-div\"></div><script type=\"text/javascript\">require([\"plotly\"], function(Plotly) { window.PLOTLYENV=window.PLOTLYENV || {};window.PLOTLYENV.BASE_URL=\"https://plot.ly\";Plotly.newPlot(\"cd5a2750-d38f-4867-9eac-d4a652f72adf\", [{\"line\": {\"dash\": \"solid\"}, \"name\": \"\\u5b8c\\u6210\\u9879\\u76ee\\u603b\\u6570(\\u5206\\u6790\\u4e00\\u7ec4)\", \"x\": [8, 9], \"y\": [95.0, 45.0], \"type\": \"scatter\", \"uid\": \"b91b1e04-cae5-11e8-aa50-a81e84e6c740\"}, {\"line\": {\"dash\": \"dot\"}, \"name\": \"\\u5b8c\\u6210\\u9879\\u76ee\\u603b\\u6570(\\u4e2a\\u6027\\u5316\\u7ec4)\", \"x\": [8, 9], \"y\": [57.0, 59.0], \"type\": \"scatter\", \"uid\": \"b91b26b0-cae5-11e8-aa50-a81e84e6c740\"}, {\"line\": {\"dash\": \"dash\"}, \"name\": \"\\u5b8c\\u6210\\u9879\\u76ee\\u603b\\u6570(\\u5206\\u6790\\u4e8c\\u7ec4)\", \"x\": [8, 9], \"y\": [95.0, 152.0], \"type\": \"scatter\", \"uid\": \"b91b2a34-cae5-11e8-aa50-a81e84e6c740\"}], {\"title\": \"\\u5b8c\\u6210\\u9879\\u76ee\\u603b\\u6570\\u6708\\u8d8b\\u52bf\\u56fe\", \"xaxis\": {\"mirror\": \"all\", \"nticks\": 20, \"showgrid\": true, \"showline\": true, \"title\": \"\\u6708\", \"zeroline\": true}, \"yaxis\": {\"mirror\": \"all\", \"nticks\": 20, \"showgrid\": true, \"showline\": true, \"title\": \"\\u5b8c\\u6210\\u9879\\u76ee\\u603b\\u6570\", \"zeroline\": true}}, {\"showLink\": true, \"linkText\": \"Export to plot.ly\"})});</script>"
      ]
     },
     "metadata": {},
     "output_type": "display_data"
    }
   ],
   "source": [
    "ss = myModule.format(all_df1 ,\"日期（格式“月-周次”）\" ,['完成项目总数'])\n",
    "ss.add_group('组别')\n",
    "ss.df\n",
    "myModule.myPlot(ss.groupby('sum')).plot('line')\n",
    "ss = myModule.format(all_df1 ,\"month\" ,['完成项目总数'])\n",
    "ss.add_group('组别')\n",
    "myModule.myPlot(ss.groupby('sum')).plot('line',\"月\")"
   ]
  },
  {
   "cell_type": "markdown",
   "metadata": {},
   "source": [
    "### 各组完成组成比例展示"
   ]
  },
  {
   "cell_type": "code",
   "execution_count": 30,
   "metadata": {},
   "outputs": [
    {
     "data": {
      "application/vnd.plotly.v1+json": {
       "data": [
        {
         "line": {
          "dash": "solid"
         },
         "name": "完成个性化数(分析一组)",
         "type": "scatter",
         "uid": "bafe499e-cae5-11e8-aa50-a81e84e6c740",
         "x": [
          "8-1",
          "8-2",
          "8-3",
          "8-4",
          "9-1",
          "9-2",
          "9-3",
          "9-4"
         ],
         "y": [
          9,
          10,
          10,
          4,
          5,
          4,
          3,
          4
         ]
        },
        {
         "line": {
          "dash": "dot"
         },
         "name": "完成个性化数(个性化组)",
         "type": "scatter",
         "uid": "bafe4f52-cae5-11e8-aa50-a81e84e6c740",
         "x": [
          "8-1",
          "8-2",
          "8-3",
          "8-4",
          "9-1",
          "9-2",
          "9-3",
          "9-4"
         ],
         "y": [
          12,
          17,
          9,
          18,
          18,
          14,
          13,
          14
         ]
        },
        {
         "line": {
          "dash": "dash"
         },
         "name": "完成个性化数(分析二组)",
         "type": "scatter",
         "uid": "bafe5394-cae5-11e8-aa50-a81e84e6c740",
         "x": [
          "8-1",
          "8-2",
          "8-3",
          "8-4",
          "9-1",
          "9-2",
          "9-3",
          "9-4"
         ],
         "y": [
          6,
          8,
          7,
          9,
          8,
          21,
          25,
          10
         ]
        },
        {
         "line": {
          "dash": "solid"
         },
         "name": "完成商业项目数(分析一组)",
         "type": "scatter",
         "uid": "bafe575e-cae5-11e8-aa50-a81e84e6c740",
         "x": [
          "8-1",
          "8-2",
          "8-3",
          "8-4",
          "9-1",
          "9-2",
          "9-3",
          "9-4"
         ],
         "y": [
          24,
          18,
          10,
          10,
          6,
          11,
          6,
          6
         ]
        },
        {
         "line": {
          "dash": "dot"
         },
         "name": "完成商业项目数(个性化组)",
         "type": "scatter",
         "uid": "bafe5af6-cae5-11e8-aa50-a81e84e6c740",
         "x": [
          "8-1",
          "8-2",
          "8-3",
          "8-4",
          "9-1",
          "9-2",
          "9-3",
          "9-4"
         ],
         "y": [
          1,
          0,
          0,
          0,
          0,
          0,
          0,
          0
         ]
        },
        {
         "line": {
          "dash": "dash"
         },
         "name": "完成商业项目数(分析二组)",
         "type": "scatter",
         "uid": "bafe5e7a-cae5-11e8-aa50-a81e84e6c740",
         "x": [
          "8-1",
          "8-2",
          "8-3",
          "8-4",
          "9-1",
          "9-2",
          "9-3",
          "9-4"
         ],
         "y": [
          13,
          18,
          14,
          20,
          20,
          29,
          17,
          22
         ]
        }
       ],
       "layout": {
        "title": "完成个性化数&完成商业项目数周趋势图",
        "xaxis": {
         "mirror": "all",
         "nticks": 20,
         "showgrid": true,
         "showline": true,
         "title": "周",
         "zeroline": true
        },
        "yaxis": {
         "mirror": "all",
         "nticks": 20,
         "showgrid": true,
         "showline": true,
         "title": "完成个性化数&完成商业项目数",
         "zeroline": true
        }
       }
      },
      "text/html": [
       "<div id=\"4960677e-87ae-47bc-9268-373af877105f\" style=\"height: 525px; width: 100%;\" class=\"plotly-graph-div\"></div><script type=\"text/javascript\">require([\"plotly\"], function(Plotly) { window.PLOTLYENV=window.PLOTLYENV || {};window.PLOTLYENV.BASE_URL=\"https://plot.ly\";Plotly.newPlot(\"4960677e-87ae-47bc-9268-373af877105f\", [{\"line\": {\"dash\": \"solid\"}, \"name\": \"\\u5b8c\\u6210\\u4e2a\\u6027\\u5316\\u6570(\\u5206\\u6790\\u4e00\\u7ec4)\", \"x\": [\"8-1\", \"8-2\", \"8-3\", \"8-4\", \"9-1\", \"9-2\", \"9-3\", \"9-4\"], \"y\": [9, 10, 10, 4, 5, 4, 3, 4], \"type\": \"scatter\", \"uid\": \"bafe499e-cae5-11e8-aa50-a81e84e6c740\"}, {\"line\": {\"dash\": \"dot\"}, \"name\": \"\\u5b8c\\u6210\\u4e2a\\u6027\\u5316\\u6570(\\u4e2a\\u6027\\u5316\\u7ec4)\", \"x\": [\"8-1\", \"8-2\", \"8-3\", \"8-4\", \"9-1\", \"9-2\", \"9-3\", \"9-4\"], \"y\": [12, 17, 9, 18, 18, 14, 13, 14], \"type\": \"scatter\", \"uid\": \"bafe4f52-cae5-11e8-aa50-a81e84e6c740\"}, {\"line\": {\"dash\": \"dash\"}, \"name\": \"\\u5b8c\\u6210\\u4e2a\\u6027\\u5316\\u6570(\\u5206\\u6790\\u4e8c\\u7ec4)\", \"x\": [\"8-1\", \"8-2\", \"8-3\", \"8-4\", \"9-1\", \"9-2\", \"9-3\", \"9-4\"], \"y\": [6, 8, 7, 9, 8, 21, 25, 10], \"type\": \"scatter\", \"uid\": \"bafe5394-cae5-11e8-aa50-a81e84e6c740\"}, {\"line\": {\"dash\": \"solid\"}, \"name\": \"\\u5b8c\\u6210\\u5546\\u4e1a\\u9879\\u76ee\\u6570(\\u5206\\u6790\\u4e00\\u7ec4)\", \"x\": [\"8-1\", \"8-2\", \"8-3\", \"8-4\", \"9-1\", \"9-2\", \"9-3\", \"9-4\"], \"y\": [24.0, 18.0, 10.0, 10.0, 6.0, 11.0, 6.0, 6.0], \"type\": \"scatter\", \"uid\": \"bafe575e-cae5-11e8-aa50-a81e84e6c740\"}, {\"line\": {\"dash\": \"dot\"}, \"name\": \"\\u5b8c\\u6210\\u5546\\u4e1a\\u9879\\u76ee\\u6570(\\u4e2a\\u6027\\u5316\\u7ec4)\", \"x\": [\"8-1\", \"8-2\", \"8-3\", \"8-4\", \"9-1\", \"9-2\", \"9-3\", \"9-4\"], \"y\": [1.0, 0.0, 0.0, 0.0, 0.0, 0.0, 0.0, 0.0], \"type\": \"scatter\", \"uid\": \"bafe5af6-cae5-11e8-aa50-a81e84e6c740\"}, {\"line\": {\"dash\": \"dash\"}, \"name\": \"\\u5b8c\\u6210\\u5546\\u4e1a\\u9879\\u76ee\\u6570(\\u5206\\u6790\\u4e8c\\u7ec4)\", \"x\": [\"8-1\", \"8-2\", \"8-3\", \"8-4\", \"9-1\", \"9-2\", \"9-3\", \"9-4\"], \"y\": [13.0, 18.0, 14.0, 20.0, 20.0, 29.0, 17.0, 22.0], \"type\": \"scatter\", \"uid\": \"bafe5e7a-cae5-11e8-aa50-a81e84e6c740\"}], {\"title\": \"\\u5b8c\\u6210\\u4e2a\\u6027\\u5316\\u6570&\\u5b8c\\u6210\\u5546\\u4e1a\\u9879\\u76ee\\u6570\\u5468\\u8d8b\\u52bf\\u56fe\", \"xaxis\": {\"mirror\": \"all\", \"nticks\": 20, \"showgrid\": true, \"showline\": true, \"title\": \"\\u5468\", \"zeroline\": true}, \"yaxis\": {\"mirror\": \"all\", \"nticks\": 20, \"showgrid\": true, \"showline\": true, \"title\": \"\\u5b8c\\u6210\\u4e2a\\u6027\\u5316\\u6570&\\u5b8c\\u6210\\u5546\\u4e1a\\u9879\\u76ee\\u6570\", \"zeroline\": true}}, {\"showLink\": true, \"linkText\": \"Export to plot.ly\"})});</script>"
      ],
      "text/vnd.plotly.v1+html": [
       "<div id=\"4960677e-87ae-47bc-9268-373af877105f\" style=\"height: 525px; width: 100%;\" class=\"plotly-graph-div\"></div><script type=\"text/javascript\">require([\"plotly\"], function(Plotly) { window.PLOTLYENV=window.PLOTLYENV || {};window.PLOTLYENV.BASE_URL=\"https://plot.ly\";Plotly.newPlot(\"4960677e-87ae-47bc-9268-373af877105f\", [{\"line\": {\"dash\": \"solid\"}, \"name\": \"\\u5b8c\\u6210\\u4e2a\\u6027\\u5316\\u6570(\\u5206\\u6790\\u4e00\\u7ec4)\", \"x\": [\"8-1\", \"8-2\", \"8-3\", \"8-4\", \"9-1\", \"9-2\", \"9-3\", \"9-4\"], \"y\": [9, 10, 10, 4, 5, 4, 3, 4], \"type\": \"scatter\", \"uid\": \"bafe499e-cae5-11e8-aa50-a81e84e6c740\"}, {\"line\": {\"dash\": \"dot\"}, \"name\": \"\\u5b8c\\u6210\\u4e2a\\u6027\\u5316\\u6570(\\u4e2a\\u6027\\u5316\\u7ec4)\", \"x\": [\"8-1\", \"8-2\", \"8-3\", \"8-4\", \"9-1\", \"9-2\", \"9-3\", \"9-4\"], \"y\": [12, 17, 9, 18, 18, 14, 13, 14], \"type\": \"scatter\", \"uid\": \"bafe4f52-cae5-11e8-aa50-a81e84e6c740\"}, {\"line\": {\"dash\": \"dash\"}, \"name\": \"\\u5b8c\\u6210\\u4e2a\\u6027\\u5316\\u6570(\\u5206\\u6790\\u4e8c\\u7ec4)\", \"x\": [\"8-1\", \"8-2\", \"8-3\", \"8-4\", \"9-1\", \"9-2\", \"9-3\", \"9-4\"], \"y\": [6, 8, 7, 9, 8, 21, 25, 10], \"type\": \"scatter\", \"uid\": \"bafe5394-cae5-11e8-aa50-a81e84e6c740\"}, {\"line\": {\"dash\": \"solid\"}, \"name\": \"\\u5b8c\\u6210\\u5546\\u4e1a\\u9879\\u76ee\\u6570(\\u5206\\u6790\\u4e00\\u7ec4)\", \"x\": [\"8-1\", \"8-2\", \"8-3\", \"8-4\", \"9-1\", \"9-2\", \"9-3\", \"9-4\"], \"y\": [24.0, 18.0, 10.0, 10.0, 6.0, 11.0, 6.0, 6.0], \"type\": \"scatter\", \"uid\": \"bafe575e-cae5-11e8-aa50-a81e84e6c740\"}, {\"line\": {\"dash\": \"dot\"}, \"name\": \"\\u5b8c\\u6210\\u5546\\u4e1a\\u9879\\u76ee\\u6570(\\u4e2a\\u6027\\u5316\\u7ec4)\", \"x\": [\"8-1\", \"8-2\", \"8-3\", \"8-4\", \"9-1\", \"9-2\", \"9-3\", \"9-4\"], \"y\": [1.0, 0.0, 0.0, 0.0, 0.0, 0.0, 0.0, 0.0], \"type\": \"scatter\", \"uid\": \"bafe5af6-cae5-11e8-aa50-a81e84e6c740\"}, {\"line\": {\"dash\": \"dash\"}, \"name\": \"\\u5b8c\\u6210\\u5546\\u4e1a\\u9879\\u76ee\\u6570(\\u5206\\u6790\\u4e8c\\u7ec4)\", \"x\": [\"8-1\", \"8-2\", \"8-3\", \"8-4\", \"9-1\", \"9-2\", \"9-3\", \"9-4\"], \"y\": [13.0, 18.0, 14.0, 20.0, 20.0, 29.0, 17.0, 22.0], \"type\": \"scatter\", \"uid\": \"bafe5e7a-cae5-11e8-aa50-a81e84e6c740\"}], {\"title\": \"\\u5b8c\\u6210\\u4e2a\\u6027\\u5316\\u6570&\\u5b8c\\u6210\\u5546\\u4e1a\\u9879\\u76ee\\u6570\\u5468\\u8d8b\\u52bf\\u56fe\", \"xaxis\": {\"mirror\": \"all\", \"nticks\": 20, \"showgrid\": true, \"showline\": true, \"title\": \"\\u5468\", \"zeroline\": true}, \"yaxis\": {\"mirror\": \"all\", \"nticks\": 20, \"showgrid\": true, \"showline\": true, \"title\": \"\\u5b8c\\u6210\\u4e2a\\u6027\\u5316\\u6570&\\u5b8c\\u6210\\u5546\\u4e1a\\u9879\\u76ee\\u6570\", \"zeroline\": true}}, {\"showLink\": true, \"linkText\": \"Export to plot.ly\"})});</script>"
      ]
     },
     "metadata": {},
     "output_type": "display_data"
    },
    {
     "data": {
      "application/vnd.plotly.v1+json": {
       "data": [
        {
         "line": {
          "dash": "solid"
         },
         "name": "完成个性化数(分析一组)",
         "type": "scatter",
         "uid": "bb0fdf7e-cae5-11e8-aa50-a81e84e6c740",
         "x": [
          8,
          9
         ],
         "y": [
          33,
          16
         ]
        },
        {
         "line": {
          "dash": "dot"
         },
         "name": "完成个性化数(个性化组)",
         "type": "scatter",
         "uid": "bb0fe4a6-cae5-11e8-aa50-a81e84e6c740",
         "x": [
          8,
          9
         ],
         "y": [
          56,
          59
         ]
        },
        {
         "line": {
          "dash": "dash"
         },
         "name": "完成个性化数(分析二组)",
         "type": "scatter",
         "uid": "bb0fe852-cae5-11e8-aa50-a81e84e6c740",
         "x": [
          8,
          9
         ],
         "y": [
          30,
          64
         ]
        },
        {
         "line": {
          "dash": "solid"
         },
         "name": "完成商业项目数(分析一组)",
         "type": "scatter",
         "uid": "bb0febb8-cae5-11e8-aa50-a81e84e6c740",
         "x": [
          8,
          9
         ],
         "y": [
          62,
          29
         ]
        },
        {
         "line": {
          "dash": "dot"
         },
         "name": "完成商业项目数(个性化组)",
         "type": "scatter",
         "uid": "bb0feeec-cae5-11e8-aa50-a81e84e6c740",
         "x": [
          8,
          9
         ],
         "y": [
          1,
          0
         ]
        },
        {
         "line": {
          "dash": "dash"
         },
         "name": "完成商业项目数(分析二组)",
         "type": "scatter",
         "uid": "bb0ff216-cae5-11e8-aa50-a81e84e6c740",
         "x": [
          8,
          9
         ],
         "y": [
          65,
          88
         ]
        }
       ],
       "layout": {
        "title": "完成个性化数&完成商业项目数月趋势图",
        "xaxis": {
         "mirror": "all",
         "nticks": 20,
         "showgrid": true,
         "showline": true,
         "title": "月",
         "zeroline": true
        },
        "yaxis": {
         "mirror": "all",
         "nticks": 20,
         "showgrid": true,
         "showline": true,
         "title": "完成个性化数&完成商业项目数",
         "zeroline": true
        }
       }
      },
      "text/html": [
       "<div id=\"9e9dc7bb-322e-4dcb-be28-f9ce5e3c3580\" style=\"height: 525px; width: 100%;\" class=\"plotly-graph-div\"></div><script type=\"text/javascript\">require([\"plotly\"], function(Plotly) { window.PLOTLYENV=window.PLOTLYENV || {};window.PLOTLYENV.BASE_URL=\"https://plot.ly\";Plotly.newPlot(\"9e9dc7bb-322e-4dcb-be28-f9ce5e3c3580\", [{\"line\": {\"dash\": \"solid\"}, \"name\": \"\\u5b8c\\u6210\\u4e2a\\u6027\\u5316\\u6570(\\u5206\\u6790\\u4e00\\u7ec4)\", \"x\": [8, 9], \"y\": [33, 16], \"type\": \"scatter\", \"uid\": \"bb0fdf7e-cae5-11e8-aa50-a81e84e6c740\"}, {\"line\": {\"dash\": \"dot\"}, \"name\": \"\\u5b8c\\u6210\\u4e2a\\u6027\\u5316\\u6570(\\u4e2a\\u6027\\u5316\\u7ec4)\", \"x\": [8, 9], \"y\": [56, 59], \"type\": \"scatter\", \"uid\": \"bb0fe4a6-cae5-11e8-aa50-a81e84e6c740\"}, {\"line\": {\"dash\": \"dash\"}, \"name\": \"\\u5b8c\\u6210\\u4e2a\\u6027\\u5316\\u6570(\\u5206\\u6790\\u4e8c\\u7ec4)\", \"x\": [8, 9], \"y\": [30, 64], \"type\": \"scatter\", \"uid\": \"bb0fe852-cae5-11e8-aa50-a81e84e6c740\"}, {\"line\": {\"dash\": \"solid\"}, \"name\": \"\\u5b8c\\u6210\\u5546\\u4e1a\\u9879\\u76ee\\u6570(\\u5206\\u6790\\u4e00\\u7ec4)\", \"x\": [8, 9], \"y\": [62.0, 29.0], \"type\": \"scatter\", \"uid\": \"bb0febb8-cae5-11e8-aa50-a81e84e6c740\"}, {\"line\": {\"dash\": \"dot\"}, \"name\": \"\\u5b8c\\u6210\\u5546\\u4e1a\\u9879\\u76ee\\u6570(\\u4e2a\\u6027\\u5316\\u7ec4)\", \"x\": [8, 9], \"y\": [1.0, 0.0], \"type\": \"scatter\", \"uid\": \"bb0feeec-cae5-11e8-aa50-a81e84e6c740\"}, {\"line\": {\"dash\": \"dash\"}, \"name\": \"\\u5b8c\\u6210\\u5546\\u4e1a\\u9879\\u76ee\\u6570(\\u5206\\u6790\\u4e8c\\u7ec4)\", \"x\": [8, 9], \"y\": [65.0, 88.0], \"type\": \"scatter\", \"uid\": \"bb0ff216-cae5-11e8-aa50-a81e84e6c740\"}], {\"title\": \"\\u5b8c\\u6210\\u4e2a\\u6027\\u5316\\u6570&\\u5b8c\\u6210\\u5546\\u4e1a\\u9879\\u76ee\\u6570\\u6708\\u8d8b\\u52bf\\u56fe\", \"xaxis\": {\"mirror\": \"all\", \"nticks\": 20, \"showgrid\": true, \"showline\": true, \"title\": \"\\u6708\", \"zeroline\": true}, \"yaxis\": {\"mirror\": \"all\", \"nticks\": 20, \"showgrid\": true, \"showline\": true, \"title\": \"\\u5b8c\\u6210\\u4e2a\\u6027\\u5316\\u6570&\\u5b8c\\u6210\\u5546\\u4e1a\\u9879\\u76ee\\u6570\", \"zeroline\": true}}, {\"showLink\": true, \"linkText\": \"Export to plot.ly\"})});</script>"
      ],
      "text/vnd.plotly.v1+html": [
       "<div id=\"9e9dc7bb-322e-4dcb-be28-f9ce5e3c3580\" style=\"height: 525px; width: 100%;\" class=\"plotly-graph-div\"></div><script type=\"text/javascript\">require([\"plotly\"], function(Plotly) { window.PLOTLYENV=window.PLOTLYENV || {};window.PLOTLYENV.BASE_URL=\"https://plot.ly\";Plotly.newPlot(\"9e9dc7bb-322e-4dcb-be28-f9ce5e3c3580\", [{\"line\": {\"dash\": \"solid\"}, \"name\": \"\\u5b8c\\u6210\\u4e2a\\u6027\\u5316\\u6570(\\u5206\\u6790\\u4e00\\u7ec4)\", \"x\": [8, 9], \"y\": [33, 16], \"type\": \"scatter\", \"uid\": \"bb0fdf7e-cae5-11e8-aa50-a81e84e6c740\"}, {\"line\": {\"dash\": \"dot\"}, \"name\": \"\\u5b8c\\u6210\\u4e2a\\u6027\\u5316\\u6570(\\u4e2a\\u6027\\u5316\\u7ec4)\", \"x\": [8, 9], \"y\": [56, 59], \"type\": \"scatter\", \"uid\": \"bb0fe4a6-cae5-11e8-aa50-a81e84e6c740\"}, {\"line\": {\"dash\": \"dash\"}, \"name\": \"\\u5b8c\\u6210\\u4e2a\\u6027\\u5316\\u6570(\\u5206\\u6790\\u4e8c\\u7ec4)\", \"x\": [8, 9], \"y\": [30, 64], \"type\": \"scatter\", \"uid\": \"bb0fe852-cae5-11e8-aa50-a81e84e6c740\"}, {\"line\": {\"dash\": \"solid\"}, \"name\": \"\\u5b8c\\u6210\\u5546\\u4e1a\\u9879\\u76ee\\u6570(\\u5206\\u6790\\u4e00\\u7ec4)\", \"x\": [8, 9], \"y\": [62.0, 29.0], \"type\": \"scatter\", \"uid\": \"bb0febb8-cae5-11e8-aa50-a81e84e6c740\"}, {\"line\": {\"dash\": \"dot\"}, \"name\": \"\\u5b8c\\u6210\\u5546\\u4e1a\\u9879\\u76ee\\u6570(\\u4e2a\\u6027\\u5316\\u7ec4)\", \"x\": [8, 9], \"y\": [1.0, 0.0], \"type\": \"scatter\", \"uid\": \"bb0feeec-cae5-11e8-aa50-a81e84e6c740\"}, {\"line\": {\"dash\": \"dash\"}, \"name\": \"\\u5b8c\\u6210\\u5546\\u4e1a\\u9879\\u76ee\\u6570(\\u5206\\u6790\\u4e8c\\u7ec4)\", \"x\": [8, 9], \"y\": [65.0, 88.0], \"type\": \"scatter\", \"uid\": \"bb0ff216-cae5-11e8-aa50-a81e84e6c740\"}], {\"title\": \"\\u5b8c\\u6210\\u4e2a\\u6027\\u5316\\u6570&\\u5b8c\\u6210\\u5546\\u4e1a\\u9879\\u76ee\\u6570\\u6708\\u8d8b\\u52bf\\u56fe\", \"xaxis\": {\"mirror\": \"all\", \"nticks\": 20, \"showgrid\": true, \"showline\": true, \"title\": \"\\u6708\", \"zeroline\": true}, \"yaxis\": {\"mirror\": \"all\", \"nticks\": 20, \"showgrid\": true, \"showline\": true, \"title\": \"\\u5b8c\\u6210\\u4e2a\\u6027\\u5316\\u6570&\\u5b8c\\u6210\\u5546\\u4e1a\\u9879\\u76ee\\u6570\", \"zeroline\": true}}, {\"showLink\": true, \"linkText\": \"Export to plot.ly\"})});</script>"
      ]
     },
     "metadata": {},
     "output_type": "display_data"
    }
   ],
   "source": [
    "ss = myModule.format(all_df1 ,\"日期（格式“月-周次”）\" ,['完成商业项目数','完成个性化数'])\n",
    "ss.add_group('组别')\n",
    "myModule.myPlot(ss.groupby('sum')).plot('line')\n",
    "ss = myModule.format(all_df1 ,\"month\" ,['完成商业项目数','完成个性化数'])\n",
    "ss.add_group('组别')\n",
    "myModule.myPlot(ss.groupby('sum')).plot('line',\"月\")"
   ]
  },
  {
   "cell_type": "markdown",
   "metadata": {},
   "source": [
    "## 人均完成情况"
   ]
  },
  {
   "cell_type": "markdown",
   "metadata": {},
   "source": [
    "### 分析组人均产能情况"
   ]
  },
  {
   "cell_type": "code",
   "execution_count": 31,
   "metadata": {},
   "outputs": [
    {
     "data": {
      "application/vnd.plotly.v1+json": {
       "data": [
        {
         "name": "完成个性化数",
         "type": "scatter",
         "uid": "bdd8ceb4-cae5-11e8-aa50-a81e84e6c740",
         "x": [
          "8-1",
          "8-2",
          "8-3",
          "8-4",
          "9-1",
          "9-2",
          "9-3",
          "9-4"
         ],
         "y": [
          1.4210526315789473,
          1.9444444444444444,
          1.4444444444444444,
          1.7222222222222223,
          1.7222222222222223,
          2.1666666666666665,
          2.2777777777777777,
          1.5555555555555556
         ]
        },
        {
         "name": "完成商业项目数",
         "type": "scatter",
         "uid": "bdd8d26a-cae5-11e8-aa50-a81e84e6c740",
         "x": [
          "8-1",
          "8-2",
          "8-3",
          "8-4",
          "9-1",
          "9-2",
          "9-3",
          "9-4"
         ],
         "y": [
          2,
          2,
          1.3333333333333333,
          1.6666666666666667,
          1.4444444444444444,
          2.2222222222222223,
          1.2777777777777777,
          1.5555555555555556
         ]
        },
        {
         "name": "完成项目总数",
         "type": "scatter",
         "uid": "bdd8d4c2-cae5-11e8-aa50-a81e84e6c740",
         "x": [
          "8-1",
          "8-2",
          "8-3",
          "8-4",
          "9-1",
          "9-2",
          "9-3",
          "9-4"
         ],
         "y": [
          3.4210526315789473,
          3.9444444444444446,
          2.7777777777777777,
          3.388888888888889,
          3.1666666666666665,
          4.388888888888889,
          3.5555555555555554,
          3.111111111111111
         ]
        }
       ],
       "layout": {
        "title": "完成个性化数&完成商业项目数&完成项目总数周趋势图",
        "xaxis": {
         "mirror": "all",
         "nticks": 20,
         "showgrid": true,
         "showline": true,
         "title": "周",
         "zeroline": true
        },
        "yaxis": {
         "mirror": "all",
         "nticks": 20,
         "showgrid": true,
         "showline": true,
         "title": "完成个性化数&完成商业项目数&完成项目总数",
         "zeroline": true
        }
       }
      },
      "text/html": [
       "<div id=\"2380deac-3843-45ef-9493-220b72866098\" style=\"height: 525px; width: 100%;\" class=\"plotly-graph-div\"></div><script type=\"text/javascript\">require([\"plotly\"], function(Plotly) { window.PLOTLYENV=window.PLOTLYENV || {};window.PLOTLYENV.BASE_URL=\"https://plot.ly\";Plotly.newPlot(\"2380deac-3843-45ef-9493-220b72866098\", [{\"name\": \"\\u5b8c\\u6210\\u4e2a\\u6027\\u5316\\u6570\", \"x\": [\"8-1\", \"8-2\", \"8-3\", \"8-4\", \"9-1\", \"9-2\", \"9-3\", \"9-4\"], \"y\": [1.4210526315789473, 1.9444444444444444, 1.4444444444444444, 1.7222222222222223, 1.7222222222222223, 2.1666666666666665, 2.2777777777777777, 1.5555555555555556], \"type\": \"scatter\", \"uid\": \"bdd8ceb4-cae5-11e8-aa50-a81e84e6c740\"}, {\"name\": \"\\u5b8c\\u6210\\u5546\\u4e1a\\u9879\\u76ee\\u6570\", \"x\": [\"8-1\", \"8-2\", \"8-3\", \"8-4\", \"9-1\", \"9-2\", \"9-3\", \"9-4\"], \"y\": [2.0, 2.0, 1.3333333333333333, 1.6666666666666667, 1.4444444444444444, 2.2222222222222223, 1.2777777777777777, 1.5555555555555556], \"type\": \"scatter\", \"uid\": \"bdd8d26a-cae5-11e8-aa50-a81e84e6c740\"}, {\"name\": \"\\u5b8c\\u6210\\u9879\\u76ee\\u603b\\u6570\", \"x\": [\"8-1\", \"8-2\", \"8-3\", \"8-4\", \"9-1\", \"9-2\", \"9-3\", \"9-4\"], \"y\": [3.4210526315789473, 3.9444444444444446, 2.7777777777777777, 3.388888888888889, 3.1666666666666665, 4.388888888888889, 3.5555555555555554, 3.111111111111111], \"type\": \"scatter\", \"uid\": \"bdd8d4c2-cae5-11e8-aa50-a81e84e6c740\"}], {\"title\": \"\\u5b8c\\u6210\\u4e2a\\u6027\\u5316\\u6570&\\u5b8c\\u6210\\u5546\\u4e1a\\u9879\\u76ee\\u6570&\\u5b8c\\u6210\\u9879\\u76ee\\u603b\\u6570\\u5468\\u8d8b\\u52bf\\u56fe\", \"xaxis\": {\"mirror\": \"all\", \"nticks\": 20, \"showgrid\": true, \"showline\": true, \"title\": \"\\u5468\", \"zeroline\": true}, \"yaxis\": {\"mirror\": \"all\", \"nticks\": 20, \"showgrid\": true, \"showline\": true, \"title\": \"\\u5b8c\\u6210\\u4e2a\\u6027\\u5316\\u6570&\\u5b8c\\u6210\\u5546\\u4e1a\\u9879\\u76ee\\u6570&\\u5b8c\\u6210\\u9879\\u76ee\\u603b\\u6570\", \"zeroline\": true}}, {\"showLink\": true, \"linkText\": \"Export to plot.ly\"})});</script>"
      ],
      "text/vnd.plotly.v1+html": [
       "<div id=\"2380deac-3843-45ef-9493-220b72866098\" style=\"height: 525px; width: 100%;\" class=\"plotly-graph-div\"></div><script type=\"text/javascript\">require([\"plotly\"], function(Plotly) { window.PLOTLYENV=window.PLOTLYENV || {};window.PLOTLYENV.BASE_URL=\"https://plot.ly\";Plotly.newPlot(\"2380deac-3843-45ef-9493-220b72866098\", [{\"name\": \"\\u5b8c\\u6210\\u4e2a\\u6027\\u5316\\u6570\", \"x\": [\"8-1\", \"8-2\", \"8-3\", \"8-4\", \"9-1\", \"9-2\", \"9-3\", \"9-4\"], \"y\": [1.4210526315789473, 1.9444444444444444, 1.4444444444444444, 1.7222222222222223, 1.7222222222222223, 2.1666666666666665, 2.2777777777777777, 1.5555555555555556], \"type\": \"scatter\", \"uid\": \"bdd8ceb4-cae5-11e8-aa50-a81e84e6c740\"}, {\"name\": \"\\u5b8c\\u6210\\u5546\\u4e1a\\u9879\\u76ee\\u6570\", \"x\": [\"8-1\", \"8-2\", \"8-3\", \"8-4\", \"9-1\", \"9-2\", \"9-3\", \"9-4\"], \"y\": [2.0, 2.0, 1.3333333333333333, 1.6666666666666667, 1.4444444444444444, 2.2222222222222223, 1.2777777777777777, 1.5555555555555556], \"type\": \"scatter\", \"uid\": \"bdd8d26a-cae5-11e8-aa50-a81e84e6c740\"}, {\"name\": \"\\u5b8c\\u6210\\u9879\\u76ee\\u603b\\u6570\", \"x\": [\"8-1\", \"8-2\", \"8-3\", \"8-4\", \"9-1\", \"9-2\", \"9-3\", \"9-4\"], \"y\": [3.4210526315789473, 3.9444444444444446, 2.7777777777777777, 3.388888888888889, 3.1666666666666665, 4.388888888888889, 3.5555555555555554, 3.111111111111111], \"type\": \"scatter\", \"uid\": \"bdd8d4c2-cae5-11e8-aa50-a81e84e6c740\"}], {\"title\": \"\\u5b8c\\u6210\\u4e2a\\u6027\\u5316\\u6570&\\u5b8c\\u6210\\u5546\\u4e1a\\u9879\\u76ee\\u6570&\\u5b8c\\u6210\\u9879\\u76ee\\u603b\\u6570\\u5468\\u8d8b\\u52bf\\u56fe\", \"xaxis\": {\"mirror\": \"all\", \"nticks\": 20, \"showgrid\": true, \"showline\": true, \"title\": \"\\u5468\", \"zeroline\": true}, \"yaxis\": {\"mirror\": \"all\", \"nticks\": 20, \"showgrid\": true, \"showline\": true, \"title\": \"\\u5b8c\\u6210\\u4e2a\\u6027\\u5316\\u6570&\\u5b8c\\u6210\\u5546\\u4e1a\\u9879\\u76ee\\u6570&\\u5b8c\\u6210\\u9879\\u76ee\\u603b\\u6570\", \"zeroline\": true}}, {\"showLink\": true, \"linkText\": \"Export to plot.ly\"})});</script>"
      ]
     },
     "metadata": {},
     "output_type": "display_data"
    },
    {
     "data": {
      "application/vnd.plotly.v1+json": {
       "data": [
        {
         "name": "完成个性化数",
         "type": "scatter",
         "uid": "bde581d6-cae5-11e8-aa50-a81e84e6c740",
         "x": [
          8,
          9
         ],
         "y": [
          6.2631578947368425,
          7.722222222222222
         ]
        },
        {
         "name": "完成商业项目数",
         "type": "scatter",
         "uid": "bde5899c-cae5-11e8-aa50-a81e84e6c740",
         "x": [
          8,
          9
         ],
         "y": [
          6.7368421052631575,
          6.5
         ]
        },
        {
         "name": "完成项目总数",
         "type": "scatter",
         "uid": "bde58cf8-cae5-11e8-aa50-a81e84e6c740",
         "x": [
          8,
          9
         ],
         "y": [
          13,
          14.222222222222221
         ]
        }
       ],
       "layout": {
        "title": "完成个性化数&完成商业项目数&完成项目总数周趋势图",
        "xaxis": {
         "mirror": "all",
         "nticks": 20,
         "showgrid": true,
         "showline": true,
         "title": "周",
         "zeroline": true
        },
        "yaxis": {
         "mirror": "all",
         "nticks": 20,
         "showgrid": true,
         "showline": true,
         "title": "完成个性化数&完成商业项目数&完成项目总数",
         "zeroline": true
        }
       }
      },
      "text/html": [
       "<div id=\"a7a5e4c5-9f05-4e16-b2ff-09ef32806a86\" style=\"height: 525px; width: 100%;\" class=\"plotly-graph-div\"></div><script type=\"text/javascript\">require([\"plotly\"], function(Plotly) { window.PLOTLYENV=window.PLOTLYENV || {};window.PLOTLYENV.BASE_URL=\"https://plot.ly\";Plotly.newPlot(\"a7a5e4c5-9f05-4e16-b2ff-09ef32806a86\", [{\"name\": \"\\u5b8c\\u6210\\u4e2a\\u6027\\u5316\\u6570\", \"x\": [8, 9], \"y\": [6.2631578947368425, 7.722222222222222], \"type\": \"scatter\", \"uid\": \"bde581d6-cae5-11e8-aa50-a81e84e6c740\"}, {\"name\": \"\\u5b8c\\u6210\\u5546\\u4e1a\\u9879\\u76ee\\u6570\", \"x\": [8, 9], \"y\": [6.7368421052631575, 6.5], \"type\": \"scatter\", \"uid\": \"bde5899c-cae5-11e8-aa50-a81e84e6c740\"}, {\"name\": \"\\u5b8c\\u6210\\u9879\\u76ee\\u603b\\u6570\", \"x\": [8, 9], \"y\": [13.0, 14.222222222222221], \"type\": \"scatter\", \"uid\": \"bde58cf8-cae5-11e8-aa50-a81e84e6c740\"}], {\"title\": \"\\u5b8c\\u6210\\u4e2a\\u6027\\u5316\\u6570&\\u5b8c\\u6210\\u5546\\u4e1a\\u9879\\u76ee\\u6570&\\u5b8c\\u6210\\u9879\\u76ee\\u603b\\u6570\\u5468\\u8d8b\\u52bf\\u56fe\", \"xaxis\": {\"mirror\": \"all\", \"nticks\": 20, \"showgrid\": true, \"showline\": true, \"title\": \"\\u5468\", \"zeroline\": true}, \"yaxis\": {\"mirror\": \"all\", \"nticks\": 20, \"showgrid\": true, \"showline\": true, \"title\": \"\\u5b8c\\u6210\\u4e2a\\u6027\\u5316\\u6570&\\u5b8c\\u6210\\u5546\\u4e1a\\u9879\\u76ee\\u6570&\\u5b8c\\u6210\\u9879\\u76ee\\u603b\\u6570\", \"zeroline\": true}}, {\"showLink\": true, \"linkText\": \"Export to plot.ly\"})});</script>"
      ],
      "text/vnd.plotly.v1+html": [
       "<div id=\"a7a5e4c5-9f05-4e16-b2ff-09ef32806a86\" style=\"height: 525px; width: 100%;\" class=\"plotly-graph-div\"></div><script type=\"text/javascript\">require([\"plotly\"], function(Plotly) { window.PLOTLYENV=window.PLOTLYENV || {};window.PLOTLYENV.BASE_URL=\"https://plot.ly\";Plotly.newPlot(\"a7a5e4c5-9f05-4e16-b2ff-09ef32806a86\", [{\"name\": \"\\u5b8c\\u6210\\u4e2a\\u6027\\u5316\\u6570\", \"x\": [8, 9], \"y\": [6.2631578947368425, 7.722222222222222], \"type\": \"scatter\", \"uid\": \"bde581d6-cae5-11e8-aa50-a81e84e6c740\"}, {\"name\": \"\\u5b8c\\u6210\\u5546\\u4e1a\\u9879\\u76ee\\u6570\", \"x\": [8, 9], \"y\": [6.7368421052631575, 6.5], \"type\": \"scatter\", \"uid\": \"bde5899c-cae5-11e8-aa50-a81e84e6c740\"}, {\"name\": \"\\u5b8c\\u6210\\u9879\\u76ee\\u603b\\u6570\", \"x\": [8, 9], \"y\": [13.0, 14.222222222222221], \"type\": \"scatter\", \"uid\": \"bde58cf8-cae5-11e8-aa50-a81e84e6c740\"}], {\"title\": \"\\u5b8c\\u6210\\u4e2a\\u6027\\u5316\\u6570&\\u5b8c\\u6210\\u5546\\u4e1a\\u9879\\u76ee\\u6570&\\u5b8c\\u6210\\u9879\\u76ee\\u603b\\u6570\\u5468\\u8d8b\\u52bf\\u56fe\", \"xaxis\": {\"mirror\": \"all\", \"nticks\": 20, \"showgrid\": true, \"showline\": true, \"title\": \"\\u5468\", \"zeroline\": true}, \"yaxis\": {\"mirror\": \"all\", \"nticks\": 20, \"showgrid\": true, \"showline\": true, \"title\": \"\\u5b8c\\u6210\\u4e2a\\u6027\\u5316\\u6570&\\u5b8c\\u6210\\u5546\\u4e1a\\u9879\\u76ee\\u6570&\\u5b8c\\u6210\\u9879\\u76ee\\u603b\\u6570\", \"zeroline\": true}}, {\"showLink\": true, \"linkText\": \"Export to plot.ly\"})});</script>"
      ]
     },
     "metadata": {},
     "output_type": "display_data"
    }
   ],
   "source": [
    "ss = myModule.format(all_df1 ,\"日期（格式“月-周次”）\" ,['完成项目总数','完成商业项目数','完成个性化数'])\n",
    "ss.get_average_by('人员')\n",
    "myModule.myPlot(ss.groupby('sum')).plot('line')\n",
    "ss = myModule.format(all_df1 ,\"month\" ,['完成项目总数','完成商业项目数','完成个性化数'])\n",
    "ss.get_average_by('人员')\n",
    "myModule.myPlot(ss.groupby('sum')).plot('line')"
   ]
  },
  {
   "cell_type": "markdown",
   "metadata": {},
   "source": [
    "### 各组人均完成项目数情况"
   ]
  },
  {
   "cell_type": "code",
   "execution_count": 32,
   "metadata": {},
   "outputs": [
    {
     "data": {
      "application/vnd.plotly.v1+json": {
       "data": [
        {
         "line": {
          "dash": "solid"
         },
         "name": "完成项目总数(分析一组)",
         "type": "scatter",
         "uid": "c2380e70-cae5-11e8-aa50-a81e84e6c740",
         "x": [
          "8-1",
          "8-2",
          "8-3",
          "8-4",
          "9-1",
          "9-2",
          "9-3",
          "9-4"
         ],
         "y": [
          8.25,
          7,
          5,
          3.5,
          2.75,
          3.75,
          2.25,
          2.5
         ]
        },
        {
         "line": {
          "dash": "dot"
         },
         "name": "完成项目总数(个性化组)",
         "type": "scatter",
         "uid": "c2381848-cae5-11e8-aa50-a81e84e6c740",
         "x": [
          "8-1",
          "8-2",
          "8-3",
          "8-4",
          "9-1",
          "9-2",
          "9-3",
          "9-4"
         ],
         "y": [
          3.25,
          4.25,
          2.25,
          4.5,
          4.5,
          3.5,
          3.25,
          3.5
         ]
        },
        {
         "line": {
          "dash": "dash"
         },
         "name": "完成项目总数(分析二组)",
         "type": "scatter",
         "uid": "c2381e4c-cae5-11e8-aa50-a81e84e6c740",
         "x": [
          "8-1",
          "8-2",
          "8-3",
          "8-4",
          "9-1",
          "9-2",
          "9-3",
          "9-4"
         ],
         "y": [
          1.7272727272727273,
          2.6,
          2.1,
          2.9,
          2.8,
          5,
          4.2,
          3.2
         ]
        }
       ],
       "layout": {
        "title": "完成项目总数周趋势图",
        "xaxis": {
         "mirror": "all",
         "nticks": 20,
         "showgrid": true,
         "showline": true,
         "title": "周",
         "zeroline": true
        },
        "yaxis": {
         "mirror": "all",
         "nticks": 20,
         "showgrid": true,
         "showline": true,
         "title": "完成项目总数",
         "zeroline": true
        }
       }
      },
      "text/html": [
       "<div id=\"dca5cb61-a1f7-4f15-a108-990805e87bb8\" style=\"height: 525px; width: 100%;\" class=\"plotly-graph-div\"></div><script type=\"text/javascript\">require([\"plotly\"], function(Plotly) { window.PLOTLYENV=window.PLOTLYENV || {};window.PLOTLYENV.BASE_URL=\"https://plot.ly\";Plotly.newPlot(\"dca5cb61-a1f7-4f15-a108-990805e87bb8\", [{\"line\": {\"dash\": \"solid\"}, \"name\": \"\\u5b8c\\u6210\\u9879\\u76ee\\u603b\\u6570(\\u5206\\u6790\\u4e00\\u7ec4)\", \"x\": [\"8-1\", \"8-2\", \"8-3\", \"8-4\", \"9-1\", \"9-2\", \"9-3\", \"9-4\"], \"y\": [8.25, 7.0, 5.0, 3.5, 2.75, 3.75, 2.25, 2.5], \"type\": \"scatter\", \"uid\": \"c2380e70-cae5-11e8-aa50-a81e84e6c740\"}, {\"line\": {\"dash\": \"dot\"}, \"name\": \"\\u5b8c\\u6210\\u9879\\u76ee\\u603b\\u6570(\\u4e2a\\u6027\\u5316\\u7ec4)\", \"x\": [\"8-1\", \"8-2\", \"8-3\", \"8-4\", \"9-1\", \"9-2\", \"9-3\", \"9-4\"], \"y\": [3.25, 4.25, 2.25, 4.5, 4.5, 3.5, 3.25, 3.5], \"type\": \"scatter\", \"uid\": \"c2381848-cae5-11e8-aa50-a81e84e6c740\"}, {\"line\": {\"dash\": \"dash\"}, \"name\": \"\\u5b8c\\u6210\\u9879\\u76ee\\u603b\\u6570(\\u5206\\u6790\\u4e8c\\u7ec4)\", \"x\": [\"8-1\", \"8-2\", \"8-3\", \"8-4\", \"9-1\", \"9-2\", \"9-3\", \"9-4\"], \"y\": [1.7272727272727273, 2.6, 2.1, 2.9, 2.8, 5.0, 4.2, 3.2], \"type\": \"scatter\", \"uid\": \"c2381e4c-cae5-11e8-aa50-a81e84e6c740\"}], {\"title\": \"\\u5b8c\\u6210\\u9879\\u76ee\\u603b\\u6570\\u5468\\u8d8b\\u52bf\\u56fe\", \"xaxis\": {\"mirror\": \"all\", \"nticks\": 20, \"showgrid\": true, \"showline\": true, \"title\": \"\\u5468\", \"zeroline\": true}, \"yaxis\": {\"mirror\": \"all\", \"nticks\": 20, \"showgrid\": true, \"showline\": true, \"title\": \"\\u5b8c\\u6210\\u9879\\u76ee\\u603b\\u6570\", \"zeroline\": true}}, {\"showLink\": true, \"linkText\": \"Export to plot.ly\"})});</script>"
      ],
      "text/vnd.plotly.v1+html": [
       "<div id=\"dca5cb61-a1f7-4f15-a108-990805e87bb8\" style=\"height: 525px; width: 100%;\" class=\"plotly-graph-div\"></div><script type=\"text/javascript\">require([\"plotly\"], function(Plotly) { window.PLOTLYENV=window.PLOTLYENV || {};window.PLOTLYENV.BASE_URL=\"https://plot.ly\";Plotly.newPlot(\"dca5cb61-a1f7-4f15-a108-990805e87bb8\", [{\"line\": {\"dash\": \"solid\"}, \"name\": \"\\u5b8c\\u6210\\u9879\\u76ee\\u603b\\u6570(\\u5206\\u6790\\u4e00\\u7ec4)\", \"x\": [\"8-1\", \"8-2\", \"8-3\", \"8-4\", \"9-1\", \"9-2\", \"9-3\", \"9-4\"], \"y\": [8.25, 7.0, 5.0, 3.5, 2.75, 3.75, 2.25, 2.5], \"type\": \"scatter\", \"uid\": \"c2380e70-cae5-11e8-aa50-a81e84e6c740\"}, {\"line\": {\"dash\": \"dot\"}, \"name\": \"\\u5b8c\\u6210\\u9879\\u76ee\\u603b\\u6570(\\u4e2a\\u6027\\u5316\\u7ec4)\", \"x\": [\"8-1\", \"8-2\", \"8-3\", \"8-4\", \"9-1\", \"9-2\", \"9-3\", \"9-4\"], \"y\": [3.25, 4.25, 2.25, 4.5, 4.5, 3.5, 3.25, 3.5], \"type\": \"scatter\", \"uid\": \"c2381848-cae5-11e8-aa50-a81e84e6c740\"}, {\"line\": {\"dash\": \"dash\"}, \"name\": \"\\u5b8c\\u6210\\u9879\\u76ee\\u603b\\u6570(\\u5206\\u6790\\u4e8c\\u7ec4)\", \"x\": [\"8-1\", \"8-2\", \"8-3\", \"8-4\", \"9-1\", \"9-2\", \"9-3\", \"9-4\"], \"y\": [1.7272727272727273, 2.6, 2.1, 2.9, 2.8, 5.0, 4.2, 3.2], \"type\": \"scatter\", \"uid\": \"c2381e4c-cae5-11e8-aa50-a81e84e6c740\"}], {\"title\": \"\\u5b8c\\u6210\\u9879\\u76ee\\u603b\\u6570\\u5468\\u8d8b\\u52bf\\u56fe\", \"xaxis\": {\"mirror\": \"all\", \"nticks\": 20, \"showgrid\": true, \"showline\": true, \"title\": \"\\u5468\", \"zeroline\": true}, \"yaxis\": {\"mirror\": \"all\", \"nticks\": 20, \"showgrid\": true, \"showline\": true, \"title\": \"\\u5b8c\\u6210\\u9879\\u76ee\\u603b\\u6570\", \"zeroline\": true}}, {\"showLink\": true, \"linkText\": \"Export to plot.ly\"})});</script>"
      ]
     },
     "metadata": {},
     "output_type": "display_data"
    },
    {
     "data": {
      "application/vnd.plotly.v1+json": {
       "data": [
        {
         "line": {
          "dash": "solid"
         },
         "name": "完成项目总数(分析一组)",
         "type": "scatter",
         "uid": "c24ef34c-cae5-11e8-aa50-a81e84e6c740",
         "x": [
          8,
          9
         ],
         "y": [
          23.75,
          11.25
         ]
        },
        {
         "line": {
          "dash": "dot"
         },
         "name": "完成项目总数(个性化组)",
         "type": "scatter",
         "uid": "c24ef748-cae5-11e8-aa50-a81e84e6c740",
         "x": [
          8,
          9
         ],
         "y": [
          14.25,
          14.75
         ]
        },
        {
         "line": {
          "dash": "dash"
         },
         "name": "完成项目总数(分析二组)",
         "type": "scatter",
         "uid": "c24ef9f0-cae5-11e8-aa50-a81e84e6c740",
         "x": [
          8,
          9
         ],
         "y": [
          8.636363636363637,
          15.2
         ]
        }
       ],
       "layout": {
        "title": "完成项目总数月趋势图",
        "xaxis": {
         "mirror": "all",
         "nticks": 20,
         "showgrid": true,
         "showline": true,
         "title": "月",
         "zeroline": true
        },
        "yaxis": {
         "mirror": "all",
         "nticks": 20,
         "showgrid": true,
         "showline": true,
         "title": "完成项目总数",
         "zeroline": true
        }
       }
      },
      "text/html": [
       "<div id=\"5586314c-4025-44aa-a402-1cc478fa5a85\" style=\"height: 525px; width: 100%;\" class=\"plotly-graph-div\"></div><script type=\"text/javascript\">require([\"plotly\"], function(Plotly) { window.PLOTLYENV=window.PLOTLYENV || {};window.PLOTLYENV.BASE_URL=\"https://plot.ly\";Plotly.newPlot(\"5586314c-4025-44aa-a402-1cc478fa5a85\", [{\"line\": {\"dash\": \"solid\"}, \"name\": \"\\u5b8c\\u6210\\u9879\\u76ee\\u603b\\u6570(\\u5206\\u6790\\u4e00\\u7ec4)\", \"x\": [8, 9], \"y\": [23.75, 11.25], \"type\": \"scatter\", \"uid\": \"c24ef34c-cae5-11e8-aa50-a81e84e6c740\"}, {\"line\": {\"dash\": \"dot\"}, \"name\": \"\\u5b8c\\u6210\\u9879\\u76ee\\u603b\\u6570(\\u4e2a\\u6027\\u5316\\u7ec4)\", \"x\": [8, 9], \"y\": [14.25, 14.75], \"type\": \"scatter\", \"uid\": \"c24ef748-cae5-11e8-aa50-a81e84e6c740\"}, {\"line\": {\"dash\": \"dash\"}, \"name\": \"\\u5b8c\\u6210\\u9879\\u76ee\\u603b\\u6570(\\u5206\\u6790\\u4e8c\\u7ec4)\", \"x\": [8, 9], \"y\": [8.636363636363637, 15.2], \"type\": \"scatter\", \"uid\": \"c24ef9f0-cae5-11e8-aa50-a81e84e6c740\"}], {\"title\": \"\\u5b8c\\u6210\\u9879\\u76ee\\u603b\\u6570\\u6708\\u8d8b\\u52bf\\u56fe\", \"xaxis\": {\"mirror\": \"all\", \"nticks\": 20, \"showgrid\": true, \"showline\": true, \"title\": \"\\u6708\", \"zeroline\": true}, \"yaxis\": {\"mirror\": \"all\", \"nticks\": 20, \"showgrid\": true, \"showline\": true, \"title\": \"\\u5b8c\\u6210\\u9879\\u76ee\\u603b\\u6570\", \"zeroline\": true}}, {\"showLink\": true, \"linkText\": \"Export to plot.ly\"})});</script>"
      ],
      "text/vnd.plotly.v1+html": [
       "<div id=\"5586314c-4025-44aa-a402-1cc478fa5a85\" style=\"height: 525px; width: 100%;\" class=\"plotly-graph-div\"></div><script type=\"text/javascript\">require([\"plotly\"], function(Plotly) { window.PLOTLYENV=window.PLOTLYENV || {};window.PLOTLYENV.BASE_URL=\"https://plot.ly\";Plotly.newPlot(\"5586314c-4025-44aa-a402-1cc478fa5a85\", [{\"line\": {\"dash\": \"solid\"}, \"name\": \"\\u5b8c\\u6210\\u9879\\u76ee\\u603b\\u6570(\\u5206\\u6790\\u4e00\\u7ec4)\", \"x\": [8, 9], \"y\": [23.75, 11.25], \"type\": \"scatter\", \"uid\": \"c24ef34c-cae5-11e8-aa50-a81e84e6c740\"}, {\"line\": {\"dash\": \"dot\"}, \"name\": \"\\u5b8c\\u6210\\u9879\\u76ee\\u603b\\u6570(\\u4e2a\\u6027\\u5316\\u7ec4)\", \"x\": [8, 9], \"y\": [14.25, 14.75], \"type\": \"scatter\", \"uid\": \"c24ef748-cae5-11e8-aa50-a81e84e6c740\"}, {\"line\": {\"dash\": \"dash\"}, \"name\": \"\\u5b8c\\u6210\\u9879\\u76ee\\u603b\\u6570(\\u5206\\u6790\\u4e8c\\u7ec4)\", \"x\": [8, 9], \"y\": [8.636363636363637, 15.2], \"type\": \"scatter\", \"uid\": \"c24ef9f0-cae5-11e8-aa50-a81e84e6c740\"}], {\"title\": \"\\u5b8c\\u6210\\u9879\\u76ee\\u603b\\u6570\\u6708\\u8d8b\\u52bf\\u56fe\", \"xaxis\": {\"mirror\": \"all\", \"nticks\": 20, \"showgrid\": true, \"showline\": true, \"title\": \"\\u6708\", \"zeroline\": true}, \"yaxis\": {\"mirror\": \"all\", \"nticks\": 20, \"showgrid\": true, \"showline\": true, \"title\": \"\\u5b8c\\u6210\\u9879\\u76ee\\u603b\\u6570\", \"zeroline\": true}}, {\"showLink\": true, \"linkText\": \"Export to plot.ly\"})});</script>"
      ]
     },
     "metadata": {},
     "output_type": "display_data"
    }
   ],
   "source": [
    "ss = myModule.format(all_df1 ,\"日期（格式“月-周次”）\" ,['完成项目总数'])\n",
    "ss.add_group('组别')\n",
    "ss.get_average_by('人员')\n",
    "myModule.myPlot(ss.groupby('sum')).plot('line')\n",
    "ss = myModule.format(all_df1 ,\"month\" ,['完成项目总数'])\n",
    "ss.add_group('组别')\n",
    "ss.get_average_by('人员')\n",
    "myModule.myPlot(ss.groupby('sum')).plot('line','月')"
   ]
  },
  {
   "cell_type": "markdown",
   "metadata": {},
   "source": [
    "## 具体人员效能情况"
   ]
  },
  {
   "cell_type": "code",
   "execution_count": 33,
   "metadata": {},
   "outputs": [
    {
     "data": {
      "application/vnd.plotly.v1+json": {
       "data": [
        {
         "line": {
          "dash": "solid"
         },
         "name": "完成项目总数(解飞)",
         "type": "scatter",
         "uid": "c70402ba-cae5-11e8-aa50-a81e84e6c740",
         "x": [
          "8-1",
          "8-2",
          "8-3",
          "8-4",
          "9-1",
          "9-2",
          "9-3",
          "9-4"
         ],
         "y": [
          9,
          8,
          5,
          3,
          0,
          0,
          5,
          0
         ]
        },
        {
         "line": {
          "dash": "dot"
         },
         "name": "完成项目总数(王霞)",
         "type": "scatter",
         "uid": "c7040832-cae5-11e8-aa50-a81e84e6c740",
         "x": [
          "8-1",
          "8-2",
          "8-3",
          "8-4",
          "9-1",
          "9-2",
          "9-3",
          "9-4"
         ],
         "y": [
          0,
          0,
          0,
          0,
          0,
          2,
          4,
          4
         ]
        },
        {
         "line": {
          "dash": "dash"
         },
         "name": "完成项目总数(段利强)",
         "type": "scatter",
         "uid": "c7040c4c-cae5-11e8-aa50-a81e84e6c740",
         "x": [
          "8-1",
          "8-2",
          "8-3",
          "8-4",
          "9-1",
          "9-2",
          "9-3",
          "9-4"
         ],
         "y": [
          2,
          2,
          6,
          6,
          2,
          3,
          5,
          1
         ]
        },
        {
         "line": {
          "dash": "longdash"
         },
         "name": "完成项目总数(刘永强)",
         "type": "scatter",
         "uid": "c7041002-cae5-11e8-aa50-a81e84e6c740",
         "x": [
          "8-1",
          "8-2",
          "8-3",
          "8-4",
          "9-1",
          "9-2",
          "9-3",
          "9-4"
         ],
         "y": [
          0,
          0,
          2,
          0,
          3,
          2,
          0,
          0
         ]
        },
        {
         "line": {
          "dash": "dashdot"
         },
         "name": "完成项目总数(冯敬岩)",
         "type": "scatter",
         "uid": "c7041390-cae5-11e8-aa50-a81e84e6c740",
         "x": [
          "8-1",
          "8-2",
          "8-3",
          "8-4",
          "9-1",
          "9-2",
          "9-3",
          "9-4"
         ],
         "y": [
          2,
          5,
          3,
          6,
          6,
          3,
          3,
          2
         ]
        },
        {
         "line": {
          "dash": "longdashdot"
         },
         "name": "完成项目总数(于勇一)",
         "type": "scatter",
         "uid": "c7041728-cae5-11e8-aa50-a81e84e6c740",
         "x": [
          "8-1",
          "8-2",
          "8-3",
          "8-4",
          "9-1",
          "9-2",
          "9-3",
          "9-4"
         ],
         "y": [
          2,
          null,
          null,
          null,
          null,
          null,
          null,
          null
         ]
        },
        {
         "line": {
          "dash": "solid"
         },
         "name": "完成项目总数(李晓波)",
         "type": "scatter",
         "uid": "c7041aa2-cae5-11e8-aa50-a81e84e6c740",
         "x": [
          "8-1",
          "8-2",
          "8-3",
          "8-4",
          "9-1",
          "9-2",
          "9-3",
          "9-4"
         ],
         "y": [
          0,
          0,
          0,
          0,
          0,
          0,
          0,
          0
         ]
        },
        {
         "line": {
          "dash": "dot"
         },
         "name": "完成项目总数(杨宇)",
         "type": "scatter",
         "uid": "c7041e1c-cae5-11e8-aa50-a81e84e6c740",
         "x": [
          "8-1",
          "8-2",
          "8-3",
          "8-4",
          "9-1",
          "9-2",
          "9-3",
          "9-4"
         ],
         "y": [
          1,
          1,
          1,
          6,
          0,
          9,
          10,
          5
         ]
        },
        {
         "line": {
          "dash": "dash"
         },
         "name": "完成项目总数(闻少楠)",
         "type": "scatter",
         "uid": "c7042196-cae5-11e8-aa50-a81e84e6c740",
         "x": [
          "8-1",
          "8-2",
          "8-3",
          "8-4",
          "9-1",
          "9-2",
          "9-3",
          "9-4"
         ],
         "y": [
          2,
          3,
          2,
          3,
          4,
          2,
          3,
          4
         ]
        },
        {
         "line": {
          "dash": "longdash"
         },
         "name": "完成项目总数(昶吉阳)",
         "type": "scatter",
         "uid": "c7042506-cae5-11e8-aa50-a81e84e6c740",
         "x": [
          "8-1",
          "8-2",
          "8-3",
          "8-4",
          "9-1",
          "9-2",
          "9-3",
          "9-4"
         ],
         "y": [
          13,
          9,
          4,
          6,
          5,
          7,
          0,
          6
         ]
        },
        {
         "line": {
          "dash": "dashdot"
         },
         "name": "完成项目总数(陈碧雯)",
         "type": "scatter",
         "uid": "c7042880-cae5-11e8-aa50-a81e84e6c740",
         "x": [
          "8-1",
          "8-2",
          "8-3",
          "8-4",
          "9-1",
          "9-2",
          "9-3",
          "9-4"
         ],
         "y": [
          1,
          3,
          2,
          1,
          3,
          13,
          4,
          4
         ]
        },
        {
         "line": {
          "dash": "longdashdot"
         },
         "name": "完成项目总数(赵倩)",
         "type": "scatter",
         "uid": "c7042bfa-cae5-11e8-aa50-a81e84e6c740",
         "x": [
          "8-1",
          "8-2",
          "8-3",
          "8-4",
          "9-1",
          "9-2",
          "9-3",
          "9-4"
         ],
         "y": [
          4,
          6,
          4,
          7,
          6,
          6,
          5,
          9
         ]
        },
        {
         "line": {
          "dash": "solid"
         },
         "name": "完成项目总数(何胜)",
         "type": "scatter",
         "uid": "c7042f60-cae5-11e8-aa50-a81e84e6c740",
         "x": [
          "8-1",
          "8-2",
          "8-3",
          "8-4",
          "9-1",
          "9-2",
          "9-3",
          "9-4"
         ],
         "y": [
          1,
          4,
          1,
          1,
          7,
          6,
          7,
          5
         ]
        },
        {
         "line": {
          "dash": "dot"
         },
         "name": "完成项目总数(陈鹏燕)",
         "type": "scatter",
         "uid": "c70432c6-cae5-11e8-aa50-a81e84e6c740",
         "x": [
          "8-1",
          "8-2",
          "8-3",
          "8-4",
          "9-1",
          "9-2",
          "9-3",
          "9-4"
         ],
         "y": [
          11,
          11,
          9,
          5,
          3,
          6,
          4,
          4
         ]
        },
        {
         "line": {
          "dash": "dash"
         },
         "name": "完成项目总数(朱慧萍)",
         "type": "scatter",
         "uid": "c7043636-cae5-11e8-aa50-a81e84e6c740",
         "x": [
          "8-1",
          "8-2",
          "8-3",
          "8-4",
          "9-1",
          "9-2",
          "9-3",
          "9-4"
         ],
         "y": [
          7,
          6,
          2,
          5,
          6,
          5,
          5,
          3
         ]
        },
        {
         "line": {
          "dash": "longdash"
         },
         "name": "完成项目总数(刘梦苑)",
         "type": "scatter",
         "uid": "c70439b0-cae5-11e8-aa50-a81e84e6c740",
         "x": [
          "8-1",
          "8-2",
          "8-3",
          "8-4",
          "9-1",
          "9-2",
          "9-3",
          "9-4"
         ],
         "y": [
          0,
          3,
          5,
          0,
          3,
          5,
          2,
          4
         ]
        },
        {
         "line": {
          "dash": "dashdot"
         },
         "name": "完成项目总数(宋少宇)",
         "type": "scatter",
         "uid": "c7043d20-cae5-11e8-aa50-a81e84e6c740",
         "x": [
          "8-1",
          "8-2",
          "8-3",
          "8-4",
          "9-1",
          "9-2",
          "9-3",
          "9-4"
         ],
         "y": [
          7,
          7,
          1,
          4,
          6,
          3,
          0,
          0
         ]
        },
        {
         "line": {
          "dash": "longdashdot"
         },
         "name": "完成项目总数(靳甜甜)",
         "type": "scatter",
         "uid": "c7044086-cae5-11e8-aa50-a81e84e6c740",
         "x": [
          "8-1",
          "8-2",
          "8-3",
          "8-4",
          "9-1",
          "9-2",
          "9-3",
          "9-4"
         ],
         "y": [
          0,
          0,
          0,
          0,
          0,
          0,
          0,
          0
         ]
        },
        {
         "line": {
          "dash": "solid"
         },
         "name": "完成项目总数(马潇)",
         "type": "scatter",
         "uid": "c70443ec-cae5-11e8-aa50-a81e84e6c740",
         "x": [
          "8-1",
          "8-2",
          "8-3",
          "8-4",
          "9-1",
          "9-2",
          "9-3",
          "9-4"
         ],
         "y": [
          3,
          3,
          3,
          8,
          3,
          7,
          7,
          5
         ]
        }
       ],
       "layout": {
        "title": "完成项目总数周趋势图",
        "xaxis": {
         "mirror": "all",
         "nticks": 20,
         "showgrid": true,
         "showline": true,
         "title": "周",
         "zeroline": true
        },
        "yaxis": {
         "mirror": "all",
         "nticks": 20,
         "showgrid": true,
         "showline": true,
         "title": "完成项目总数",
         "zeroline": true
        }
       }
      },
      "text/html": [
       "<div id=\"30c896cb-7635-4f35-90cc-fd186e2d5dde\" style=\"height: 525px; width: 100%;\" class=\"plotly-graph-div\"></div><script type=\"text/javascript\">require([\"plotly\"], function(Plotly) { window.PLOTLYENV=window.PLOTLYENV || {};window.PLOTLYENV.BASE_URL=\"https://plot.ly\";Plotly.newPlot(\"30c896cb-7635-4f35-90cc-fd186e2d5dde\", [{\"line\": {\"dash\": \"solid\"}, \"name\": \"\\u5b8c\\u6210\\u9879\\u76ee\\u603b\\u6570(\\u89e3\\u98de)\", \"x\": [\"8-1\", \"8-2\", \"8-3\", \"8-4\", \"9-1\", \"9-2\", \"9-3\", \"9-4\"], \"y\": [9.0, 8.0, 5.0, 3.0, 0.0, 0.0, 5.0, 0.0], \"type\": \"scatter\", \"uid\": \"c70402ba-cae5-11e8-aa50-a81e84e6c740\"}, {\"line\": {\"dash\": \"dot\"}, \"name\": \"\\u5b8c\\u6210\\u9879\\u76ee\\u603b\\u6570(\\u738b\\u971e)\", \"x\": [\"8-1\", \"8-2\", \"8-3\", \"8-4\", \"9-1\", \"9-2\", \"9-3\", \"9-4\"], \"y\": [0.0, 0.0, 0.0, 0.0, 0.0, 2.0, 4.0, 4.0], \"type\": \"scatter\", \"uid\": \"c7040832-cae5-11e8-aa50-a81e84e6c740\"}, {\"line\": {\"dash\": \"dash\"}, \"name\": \"\\u5b8c\\u6210\\u9879\\u76ee\\u603b\\u6570(\\u6bb5\\u5229\\u5f3a)\", \"x\": [\"8-1\", \"8-2\", \"8-3\", \"8-4\", \"9-1\", \"9-2\", \"9-3\", \"9-4\"], \"y\": [2.0, 2.0, 6.0, 6.0, 2.0, 3.0, 5.0, 1.0], \"type\": \"scatter\", \"uid\": \"c7040c4c-cae5-11e8-aa50-a81e84e6c740\"}, {\"line\": {\"dash\": \"longdash\"}, \"name\": \"\\u5b8c\\u6210\\u9879\\u76ee\\u603b\\u6570(\\u5218\\u6c38\\u5f3a)\", \"x\": [\"8-1\", \"8-2\", \"8-3\", \"8-4\", \"9-1\", \"9-2\", \"9-3\", \"9-4\"], \"y\": [0.0, 0.0, 2.0, 0.0, 3.0, 2.0, 0.0, 0.0], \"type\": \"scatter\", \"uid\": \"c7041002-cae5-11e8-aa50-a81e84e6c740\"}, {\"line\": {\"dash\": \"dashdot\"}, \"name\": \"\\u5b8c\\u6210\\u9879\\u76ee\\u603b\\u6570(\\u51af\\u656c\\u5ca9)\", \"x\": [\"8-1\", \"8-2\", \"8-3\", \"8-4\", \"9-1\", \"9-2\", \"9-3\", \"9-4\"], \"y\": [2.0, 5.0, 3.0, 6.0, 6.0, 3.0, 3.0, 2.0], \"type\": \"scatter\", \"uid\": \"c7041390-cae5-11e8-aa50-a81e84e6c740\"}, {\"line\": {\"dash\": \"longdashdot\"}, \"name\": \"\\u5b8c\\u6210\\u9879\\u76ee\\u603b\\u6570(\\u4e8e\\u52c7\\u4e00)\", \"x\": [\"8-1\", \"8-2\", \"8-3\", \"8-4\", \"9-1\", \"9-2\", \"9-3\", \"9-4\"], \"y\": [2.0, null, null, null, null, null, null, null], \"type\": \"scatter\", \"uid\": \"c7041728-cae5-11e8-aa50-a81e84e6c740\"}, {\"line\": {\"dash\": \"solid\"}, \"name\": \"\\u5b8c\\u6210\\u9879\\u76ee\\u603b\\u6570(\\u674e\\u6653\\u6ce2)\", \"x\": [\"8-1\", \"8-2\", \"8-3\", \"8-4\", \"9-1\", \"9-2\", \"9-3\", \"9-4\"], \"y\": [0.0, 0.0, 0.0, 0.0, 0.0, 0.0, 0.0, 0.0], \"type\": \"scatter\", \"uid\": \"c7041aa2-cae5-11e8-aa50-a81e84e6c740\"}, {\"line\": {\"dash\": \"dot\"}, \"name\": \"\\u5b8c\\u6210\\u9879\\u76ee\\u603b\\u6570(\\u6768\\u5b87)\", \"x\": [\"8-1\", \"8-2\", \"8-3\", \"8-4\", \"9-1\", \"9-2\", \"9-3\", \"9-4\"], \"y\": [1.0, 1.0, 1.0, 6.0, 0.0, 9.0, 10.0, 5.0], \"type\": \"scatter\", \"uid\": \"c7041e1c-cae5-11e8-aa50-a81e84e6c740\"}, {\"line\": {\"dash\": \"dash\"}, \"name\": \"\\u5b8c\\u6210\\u9879\\u76ee\\u603b\\u6570(\\u95fb\\u5c11\\u6960)\", \"x\": [\"8-1\", \"8-2\", \"8-3\", \"8-4\", \"9-1\", \"9-2\", \"9-3\", \"9-4\"], \"y\": [2.0, 3.0, 2.0, 3.0, 4.0, 2.0, 3.0, 4.0], \"type\": \"scatter\", \"uid\": \"c7042196-cae5-11e8-aa50-a81e84e6c740\"}, {\"line\": {\"dash\": \"longdash\"}, \"name\": \"\\u5b8c\\u6210\\u9879\\u76ee\\u603b\\u6570(\\u6636\\u5409\\u9633)\", \"x\": [\"8-1\", \"8-2\", \"8-3\", \"8-4\", \"9-1\", \"9-2\", \"9-3\", \"9-4\"], \"y\": [13.0, 9.0, 4.0, 6.0, 5.0, 7.0, 0.0, 6.0], \"type\": \"scatter\", \"uid\": \"c7042506-cae5-11e8-aa50-a81e84e6c740\"}, {\"line\": {\"dash\": \"dashdot\"}, \"name\": \"\\u5b8c\\u6210\\u9879\\u76ee\\u603b\\u6570(\\u9648\\u78a7\\u96ef)\", \"x\": [\"8-1\", \"8-2\", \"8-3\", \"8-4\", \"9-1\", \"9-2\", \"9-3\", \"9-4\"], \"y\": [1.0, 3.0, 2.0, 1.0, 3.0, 13.0, 4.0, 4.0], \"type\": \"scatter\", \"uid\": \"c7042880-cae5-11e8-aa50-a81e84e6c740\"}, {\"line\": {\"dash\": \"longdashdot\"}, \"name\": \"\\u5b8c\\u6210\\u9879\\u76ee\\u603b\\u6570(\\u8d75\\u5029)\", \"x\": [\"8-1\", \"8-2\", \"8-3\", \"8-4\", \"9-1\", \"9-2\", \"9-3\", \"9-4\"], \"y\": [4.0, 6.0, 4.0, 7.0, 6.0, 6.0, 5.0, 9.0], \"type\": \"scatter\", \"uid\": \"c7042bfa-cae5-11e8-aa50-a81e84e6c740\"}, {\"line\": {\"dash\": \"solid\"}, \"name\": \"\\u5b8c\\u6210\\u9879\\u76ee\\u603b\\u6570(\\u4f55\\u80dc)\", \"x\": [\"8-1\", \"8-2\", \"8-3\", \"8-4\", \"9-1\", \"9-2\", \"9-3\", \"9-4\"], \"y\": [1.0, 4.0, 1.0, 1.0, 7.0, 6.0, 7.0, 5.0], \"type\": \"scatter\", \"uid\": \"c7042f60-cae5-11e8-aa50-a81e84e6c740\"}, {\"line\": {\"dash\": \"dot\"}, \"name\": \"\\u5b8c\\u6210\\u9879\\u76ee\\u603b\\u6570(\\u9648\\u9e4f\\u71d5)\", \"x\": [\"8-1\", \"8-2\", \"8-3\", \"8-4\", \"9-1\", \"9-2\", \"9-3\", \"9-4\"], \"y\": [11.0, 11.0, 9.0, 5.0, 3.0, 6.0, 4.0, 4.0], \"type\": \"scatter\", \"uid\": \"c70432c6-cae5-11e8-aa50-a81e84e6c740\"}, {\"line\": {\"dash\": \"dash\"}, \"name\": \"\\u5b8c\\u6210\\u9879\\u76ee\\u603b\\u6570(\\u6731\\u6167\\u840d)\", \"x\": [\"8-1\", \"8-2\", \"8-3\", \"8-4\", \"9-1\", \"9-2\", \"9-3\", \"9-4\"], \"y\": [7.0, 6.0, 2.0, 5.0, 6.0, 5.0, 5.0, 3.0], \"type\": \"scatter\", \"uid\": \"c7043636-cae5-11e8-aa50-a81e84e6c740\"}, {\"line\": {\"dash\": \"longdash\"}, \"name\": \"\\u5b8c\\u6210\\u9879\\u76ee\\u603b\\u6570(\\u5218\\u68a6\\u82d1)\", \"x\": [\"8-1\", \"8-2\", \"8-3\", \"8-4\", \"9-1\", \"9-2\", \"9-3\", \"9-4\"], \"y\": [0.0, 3.0, 5.0, 0.0, 3.0, 5.0, 2.0, 4.0], \"type\": \"scatter\", \"uid\": \"c70439b0-cae5-11e8-aa50-a81e84e6c740\"}, {\"line\": {\"dash\": \"dashdot\"}, \"name\": \"\\u5b8c\\u6210\\u9879\\u76ee\\u603b\\u6570(\\u5b8b\\u5c11\\u5b87)\", \"x\": [\"8-1\", \"8-2\", \"8-3\", \"8-4\", \"9-1\", \"9-2\", \"9-3\", \"9-4\"], \"y\": [7.0, 7.0, 1.0, 4.0, 6.0, 3.0, 0.0, 0.0], \"type\": \"scatter\", \"uid\": \"c7043d20-cae5-11e8-aa50-a81e84e6c740\"}, {\"line\": {\"dash\": \"longdashdot\"}, \"name\": \"\\u5b8c\\u6210\\u9879\\u76ee\\u603b\\u6570(\\u9773\\u751c\\u751c)\", \"x\": [\"8-1\", \"8-2\", \"8-3\", \"8-4\", \"9-1\", \"9-2\", \"9-3\", \"9-4\"], \"y\": [0.0, 0.0, 0.0, 0.0, 0.0, 0.0, 0.0, 0.0], \"type\": \"scatter\", \"uid\": \"c7044086-cae5-11e8-aa50-a81e84e6c740\"}, {\"line\": {\"dash\": \"solid\"}, \"name\": \"\\u5b8c\\u6210\\u9879\\u76ee\\u603b\\u6570(\\u9a6c\\u6f47)\", \"x\": [\"8-1\", \"8-2\", \"8-3\", \"8-4\", \"9-1\", \"9-2\", \"9-3\", \"9-4\"], \"y\": [3.0, 3.0, 3.0, 8.0, 3.0, 7.0, 7.0, 5.0], \"type\": \"scatter\", \"uid\": \"c70443ec-cae5-11e8-aa50-a81e84e6c740\"}], {\"title\": \"\\u5b8c\\u6210\\u9879\\u76ee\\u603b\\u6570\\u5468\\u8d8b\\u52bf\\u56fe\", \"xaxis\": {\"mirror\": \"all\", \"nticks\": 20, \"showgrid\": true, \"showline\": true, \"title\": \"\\u5468\", \"zeroline\": true}, \"yaxis\": {\"mirror\": \"all\", \"nticks\": 20, \"showgrid\": true, \"showline\": true, \"title\": \"\\u5b8c\\u6210\\u9879\\u76ee\\u603b\\u6570\", \"zeroline\": true}}, {\"showLink\": true, \"linkText\": \"Export to plot.ly\"})});</script>"
      ],
      "text/vnd.plotly.v1+html": [
       "<div id=\"30c896cb-7635-4f35-90cc-fd186e2d5dde\" style=\"height: 525px; width: 100%;\" class=\"plotly-graph-div\"></div><script type=\"text/javascript\">require([\"plotly\"], function(Plotly) { window.PLOTLYENV=window.PLOTLYENV || {};window.PLOTLYENV.BASE_URL=\"https://plot.ly\";Plotly.newPlot(\"30c896cb-7635-4f35-90cc-fd186e2d5dde\", [{\"line\": {\"dash\": \"solid\"}, \"name\": \"\\u5b8c\\u6210\\u9879\\u76ee\\u603b\\u6570(\\u89e3\\u98de)\", \"x\": [\"8-1\", \"8-2\", \"8-3\", \"8-4\", \"9-1\", \"9-2\", \"9-3\", \"9-4\"], \"y\": [9.0, 8.0, 5.0, 3.0, 0.0, 0.0, 5.0, 0.0], \"type\": \"scatter\", \"uid\": \"c70402ba-cae5-11e8-aa50-a81e84e6c740\"}, {\"line\": {\"dash\": \"dot\"}, \"name\": \"\\u5b8c\\u6210\\u9879\\u76ee\\u603b\\u6570(\\u738b\\u971e)\", \"x\": [\"8-1\", \"8-2\", \"8-3\", \"8-4\", \"9-1\", \"9-2\", \"9-3\", \"9-4\"], \"y\": [0.0, 0.0, 0.0, 0.0, 0.0, 2.0, 4.0, 4.0], \"type\": \"scatter\", \"uid\": \"c7040832-cae5-11e8-aa50-a81e84e6c740\"}, {\"line\": {\"dash\": \"dash\"}, \"name\": \"\\u5b8c\\u6210\\u9879\\u76ee\\u603b\\u6570(\\u6bb5\\u5229\\u5f3a)\", \"x\": [\"8-1\", \"8-2\", \"8-3\", \"8-4\", \"9-1\", \"9-2\", \"9-3\", \"9-4\"], \"y\": [2.0, 2.0, 6.0, 6.0, 2.0, 3.0, 5.0, 1.0], \"type\": \"scatter\", \"uid\": \"c7040c4c-cae5-11e8-aa50-a81e84e6c740\"}, {\"line\": {\"dash\": \"longdash\"}, \"name\": \"\\u5b8c\\u6210\\u9879\\u76ee\\u603b\\u6570(\\u5218\\u6c38\\u5f3a)\", \"x\": [\"8-1\", \"8-2\", \"8-3\", \"8-4\", \"9-1\", \"9-2\", \"9-3\", \"9-4\"], \"y\": [0.0, 0.0, 2.0, 0.0, 3.0, 2.0, 0.0, 0.0], \"type\": \"scatter\", \"uid\": \"c7041002-cae5-11e8-aa50-a81e84e6c740\"}, {\"line\": {\"dash\": \"dashdot\"}, \"name\": \"\\u5b8c\\u6210\\u9879\\u76ee\\u603b\\u6570(\\u51af\\u656c\\u5ca9)\", \"x\": [\"8-1\", \"8-2\", \"8-3\", \"8-4\", \"9-1\", \"9-2\", \"9-3\", \"9-4\"], \"y\": [2.0, 5.0, 3.0, 6.0, 6.0, 3.0, 3.0, 2.0], \"type\": \"scatter\", \"uid\": \"c7041390-cae5-11e8-aa50-a81e84e6c740\"}, {\"line\": {\"dash\": \"longdashdot\"}, \"name\": \"\\u5b8c\\u6210\\u9879\\u76ee\\u603b\\u6570(\\u4e8e\\u52c7\\u4e00)\", \"x\": [\"8-1\", \"8-2\", \"8-3\", \"8-4\", \"9-1\", \"9-2\", \"9-3\", \"9-4\"], \"y\": [2.0, null, null, null, null, null, null, null], \"type\": \"scatter\", \"uid\": \"c7041728-cae5-11e8-aa50-a81e84e6c740\"}, {\"line\": {\"dash\": \"solid\"}, \"name\": \"\\u5b8c\\u6210\\u9879\\u76ee\\u603b\\u6570(\\u674e\\u6653\\u6ce2)\", \"x\": [\"8-1\", \"8-2\", \"8-3\", \"8-4\", \"9-1\", \"9-2\", \"9-3\", \"9-4\"], \"y\": [0.0, 0.0, 0.0, 0.0, 0.0, 0.0, 0.0, 0.0], \"type\": \"scatter\", \"uid\": \"c7041aa2-cae5-11e8-aa50-a81e84e6c740\"}, {\"line\": {\"dash\": \"dot\"}, \"name\": \"\\u5b8c\\u6210\\u9879\\u76ee\\u603b\\u6570(\\u6768\\u5b87)\", \"x\": [\"8-1\", \"8-2\", \"8-3\", \"8-4\", \"9-1\", \"9-2\", \"9-3\", \"9-4\"], \"y\": [1.0, 1.0, 1.0, 6.0, 0.0, 9.0, 10.0, 5.0], \"type\": \"scatter\", \"uid\": \"c7041e1c-cae5-11e8-aa50-a81e84e6c740\"}, {\"line\": {\"dash\": \"dash\"}, \"name\": \"\\u5b8c\\u6210\\u9879\\u76ee\\u603b\\u6570(\\u95fb\\u5c11\\u6960)\", \"x\": [\"8-1\", \"8-2\", \"8-3\", \"8-4\", \"9-1\", \"9-2\", \"9-3\", \"9-4\"], \"y\": [2.0, 3.0, 2.0, 3.0, 4.0, 2.0, 3.0, 4.0], \"type\": \"scatter\", \"uid\": \"c7042196-cae5-11e8-aa50-a81e84e6c740\"}, {\"line\": {\"dash\": \"longdash\"}, \"name\": \"\\u5b8c\\u6210\\u9879\\u76ee\\u603b\\u6570(\\u6636\\u5409\\u9633)\", \"x\": [\"8-1\", \"8-2\", \"8-3\", \"8-4\", \"9-1\", \"9-2\", \"9-3\", \"9-4\"], \"y\": [13.0, 9.0, 4.0, 6.0, 5.0, 7.0, 0.0, 6.0], \"type\": \"scatter\", \"uid\": \"c7042506-cae5-11e8-aa50-a81e84e6c740\"}, {\"line\": {\"dash\": \"dashdot\"}, \"name\": \"\\u5b8c\\u6210\\u9879\\u76ee\\u603b\\u6570(\\u9648\\u78a7\\u96ef)\", \"x\": [\"8-1\", \"8-2\", \"8-3\", \"8-4\", \"9-1\", \"9-2\", \"9-3\", \"9-4\"], \"y\": [1.0, 3.0, 2.0, 1.0, 3.0, 13.0, 4.0, 4.0], \"type\": \"scatter\", \"uid\": \"c7042880-cae5-11e8-aa50-a81e84e6c740\"}, {\"line\": {\"dash\": \"longdashdot\"}, \"name\": \"\\u5b8c\\u6210\\u9879\\u76ee\\u603b\\u6570(\\u8d75\\u5029)\", \"x\": [\"8-1\", \"8-2\", \"8-3\", \"8-4\", \"9-1\", \"9-2\", \"9-3\", \"9-4\"], \"y\": [4.0, 6.0, 4.0, 7.0, 6.0, 6.0, 5.0, 9.0], \"type\": \"scatter\", \"uid\": \"c7042bfa-cae5-11e8-aa50-a81e84e6c740\"}, {\"line\": {\"dash\": \"solid\"}, \"name\": \"\\u5b8c\\u6210\\u9879\\u76ee\\u603b\\u6570(\\u4f55\\u80dc)\", \"x\": [\"8-1\", \"8-2\", \"8-3\", \"8-4\", \"9-1\", \"9-2\", \"9-3\", \"9-4\"], \"y\": [1.0, 4.0, 1.0, 1.0, 7.0, 6.0, 7.0, 5.0], \"type\": \"scatter\", \"uid\": \"c7042f60-cae5-11e8-aa50-a81e84e6c740\"}, {\"line\": {\"dash\": \"dot\"}, \"name\": \"\\u5b8c\\u6210\\u9879\\u76ee\\u603b\\u6570(\\u9648\\u9e4f\\u71d5)\", \"x\": [\"8-1\", \"8-2\", \"8-3\", \"8-4\", \"9-1\", \"9-2\", \"9-3\", \"9-4\"], \"y\": [11.0, 11.0, 9.0, 5.0, 3.0, 6.0, 4.0, 4.0], \"type\": \"scatter\", \"uid\": \"c70432c6-cae5-11e8-aa50-a81e84e6c740\"}, {\"line\": {\"dash\": \"dash\"}, \"name\": \"\\u5b8c\\u6210\\u9879\\u76ee\\u603b\\u6570(\\u6731\\u6167\\u840d)\", \"x\": [\"8-1\", \"8-2\", \"8-3\", \"8-4\", \"9-1\", \"9-2\", \"9-3\", \"9-4\"], \"y\": [7.0, 6.0, 2.0, 5.0, 6.0, 5.0, 5.0, 3.0], \"type\": \"scatter\", \"uid\": \"c7043636-cae5-11e8-aa50-a81e84e6c740\"}, {\"line\": {\"dash\": \"longdash\"}, \"name\": \"\\u5b8c\\u6210\\u9879\\u76ee\\u603b\\u6570(\\u5218\\u68a6\\u82d1)\", \"x\": [\"8-1\", \"8-2\", \"8-3\", \"8-4\", \"9-1\", \"9-2\", \"9-3\", \"9-4\"], \"y\": [0.0, 3.0, 5.0, 0.0, 3.0, 5.0, 2.0, 4.0], \"type\": \"scatter\", \"uid\": \"c70439b0-cae5-11e8-aa50-a81e84e6c740\"}, {\"line\": {\"dash\": \"dashdot\"}, \"name\": \"\\u5b8c\\u6210\\u9879\\u76ee\\u603b\\u6570(\\u5b8b\\u5c11\\u5b87)\", \"x\": [\"8-1\", \"8-2\", \"8-3\", \"8-4\", \"9-1\", \"9-2\", \"9-3\", \"9-4\"], \"y\": [7.0, 7.0, 1.0, 4.0, 6.0, 3.0, 0.0, 0.0], \"type\": \"scatter\", \"uid\": \"c7043d20-cae5-11e8-aa50-a81e84e6c740\"}, {\"line\": {\"dash\": \"longdashdot\"}, \"name\": \"\\u5b8c\\u6210\\u9879\\u76ee\\u603b\\u6570(\\u9773\\u751c\\u751c)\", \"x\": [\"8-1\", \"8-2\", \"8-3\", \"8-4\", \"9-1\", \"9-2\", \"9-3\", \"9-4\"], \"y\": [0.0, 0.0, 0.0, 0.0, 0.0, 0.0, 0.0, 0.0], \"type\": \"scatter\", \"uid\": \"c7044086-cae5-11e8-aa50-a81e84e6c740\"}, {\"line\": {\"dash\": \"solid\"}, \"name\": \"\\u5b8c\\u6210\\u9879\\u76ee\\u603b\\u6570(\\u9a6c\\u6f47)\", \"x\": [\"8-1\", \"8-2\", \"8-3\", \"8-4\", \"9-1\", \"9-2\", \"9-3\", \"9-4\"], \"y\": [3.0, 3.0, 3.0, 8.0, 3.0, 7.0, 7.0, 5.0], \"type\": \"scatter\", \"uid\": \"c70443ec-cae5-11e8-aa50-a81e84e6c740\"}], {\"title\": \"\\u5b8c\\u6210\\u9879\\u76ee\\u603b\\u6570\\u5468\\u8d8b\\u52bf\\u56fe\", \"xaxis\": {\"mirror\": \"all\", \"nticks\": 20, \"showgrid\": true, \"showline\": true, \"title\": \"\\u5468\", \"zeroline\": true}, \"yaxis\": {\"mirror\": \"all\", \"nticks\": 20, \"showgrid\": true, \"showline\": true, \"title\": \"\\u5b8c\\u6210\\u9879\\u76ee\\u603b\\u6570\", \"zeroline\": true}}, {\"showLink\": true, \"linkText\": \"Export to plot.ly\"})});</script>"
      ]
     },
     "metadata": {},
     "output_type": "display_data"
    },
    {
     "data": {
      "application/vnd.plotly.v1+json": {
       "data": [
        {
         "line": {
          "dash": "solid"
         },
         "name": "完成项目总数(解飞)",
         "type": "scatter",
         "uid": "c7274ebe-cae5-11e8-aa50-a81e84e6c740",
         "x": [
          8,
          9
         ],
         "y": [
          25,
          5
         ]
        },
        {
         "line": {
          "dash": "dot"
         },
         "name": "完成项目总数(王霞)",
         "type": "scatter",
         "uid": "c72760f2-cae5-11e8-aa50-a81e84e6c740",
         "x": [
          8,
          9
         ],
         "y": [
          0,
          10
         ]
        },
        {
         "line": {
          "dash": "dash"
         },
         "name": "完成项目总数(段利强)",
         "type": "scatter",
         "uid": "c72768a4-cae5-11e8-aa50-a81e84e6c740",
         "x": [
          8,
          9
         ],
         "y": [
          16,
          11
         ]
        },
        {
         "line": {
          "dash": "longdash"
         },
         "name": "完成项目总数(刘永强)",
         "type": "scatter",
         "uid": "c7276d40-cae5-11e8-aa50-a81e84e6c740",
         "x": [
          8,
          9
         ],
         "y": [
          2,
          5
         ]
        },
        {
         "line": {
          "dash": "dashdot"
         },
         "name": "完成项目总数(冯敬岩)",
         "type": "scatter",
         "uid": "c7277132-cae5-11e8-aa50-a81e84e6c740",
         "x": [
          8,
          9
         ],
         "y": [
          16,
          14
         ]
        },
        {
         "line": {
          "dash": "longdashdot"
         },
         "name": "完成项目总数(于勇一)",
         "type": "scatter",
         "uid": "c72774d4-cae5-11e8-aa50-a81e84e6c740",
         "x": [
          8,
          9
         ],
         "y": [
          2,
          null
         ]
        },
        {
         "line": {
          "dash": "solid"
         },
         "name": "完成项目总数(李晓波)",
         "type": "scatter",
         "uid": "c7277858-cae5-11e8-aa50-a81e84e6c740",
         "x": [
          8,
          9
         ],
         "y": [
          0,
          0
         ]
        },
        {
         "line": {
          "dash": "dot"
         },
         "name": "完成项目总数(杨宇)",
         "type": "scatter",
         "uid": "c7277bd2-cae5-11e8-aa50-a81e84e6c740",
         "x": [
          8,
          9
         ],
         "y": [
          9,
          24
         ]
        },
        {
         "line": {
          "dash": "dash"
         },
         "name": "完成项目总数(闻少楠)",
         "type": "scatter",
         "uid": "c72780f0-cae5-11e8-aa50-a81e84e6c740",
         "x": [
          8,
          9
         ],
         "y": [
          10,
          13
         ]
        },
        {
         "line": {
          "dash": "longdash"
         },
         "name": "完成项目总数(昶吉阳)",
         "type": "scatter",
         "uid": "c7278488-cae5-11e8-aa50-a81e84e6c740",
         "x": [
          8,
          9
         ],
         "y": [
          32,
          18
         ]
        },
        {
         "line": {
          "dash": "dashdot"
         },
         "name": "完成项目总数(陈碧雯)",
         "type": "scatter",
         "uid": "c7278802-cae5-11e8-aa50-a81e84e6c740",
         "x": [
          8,
          9
         ],
         "y": [
          7,
          24
         ]
        },
        {
         "line": {
          "dash": "longdashdot"
         },
         "name": "完成项目总数(赵倩)",
         "type": "scatter",
         "uid": "c7278b72-cae5-11e8-aa50-a81e84e6c740",
         "x": [
          8,
          9
         ],
         "y": [
          21,
          26
         ]
        },
        {
         "line": {
          "dash": "solid"
         },
         "name": "完成项目总数(何胜)",
         "type": "scatter",
         "uid": "c7278ee2-cae5-11e8-aa50-a81e84e6c740",
         "x": [
          8,
          9
         ],
         "y": [
          7,
          25
         ]
        },
        {
         "line": {
          "dash": "dot"
         },
         "name": "完成项目总数(陈鹏燕)",
         "type": "scatter",
         "uid": "c7279248-cae5-11e8-aa50-a81e84e6c740",
         "x": [
          8,
          9
         ],
         "y": [
          36,
          17
         ]
        },
        {
         "line": {
          "dash": "dash"
         },
         "name": "完成项目总数(朱慧萍)",
         "type": "scatter",
         "uid": "c72795b8-cae5-11e8-aa50-a81e84e6c740",
         "x": [
          8,
          9
         ],
         "y": [
          20,
          19
         ]
        },
        {
         "line": {
          "dash": "longdash"
         },
         "name": "完成项目总数(刘梦苑)",
         "type": "scatter",
         "uid": "c7279928-cae5-11e8-aa50-a81e84e6c740",
         "x": [
          8,
          9
         ],
         "y": [
          8,
          14
         ]
        },
        {
         "line": {
          "dash": "dashdot"
         },
         "name": "完成项目总数(宋少宇)",
         "type": "scatter",
         "uid": "c7279c8e-cae5-11e8-aa50-a81e84e6c740",
         "x": [
          8,
          9
         ],
         "y": [
          19,
          9
         ]
        },
        {
         "line": {
          "dash": "longdashdot"
         },
         "name": "完成项目总数(靳甜甜)",
         "type": "scatter",
         "uid": "c7279ffe-cae5-11e8-aa50-a81e84e6c740",
         "x": [
          8,
          9
         ],
         "y": [
          0,
          0
         ]
        },
        {
         "line": {
          "dash": "solid"
         },
         "name": "完成项目总数(马潇)",
         "type": "scatter",
         "uid": "c727a36e-cae5-11e8-aa50-a81e84e6c740",
         "x": [
          8,
          9
         ],
         "y": [
          17,
          22
         ]
        }
       ],
       "layout": {
        "title": "完成项目总数月趋势图",
        "xaxis": {
         "mirror": "all",
         "nticks": 20,
         "showgrid": true,
         "showline": true,
         "title": "月",
         "zeroline": true
        },
        "yaxis": {
         "mirror": "all",
         "nticks": 20,
         "showgrid": true,
         "showline": true,
         "title": "完成项目总数",
         "zeroline": true
        }
       }
      },
      "text/html": [
       "<div id=\"9dc5aa68-8ff4-4e18-a690-c7d293a1f164\" style=\"height: 525px; width: 100%;\" class=\"plotly-graph-div\"></div><script type=\"text/javascript\">require([\"plotly\"], function(Plotly) { window.PLOTLYENV=window.PLOTLYENV || {};window.PLOTLYENV.BASE_URL=\"https://plot.ly\";Plotly.newPlot(\"9dc5aa68-8ff4-4e18-a690-c7d293a1f164\", [{\"line\": {\"dash\": \"solid\"}, \"name\": \"\\u5b8c\\u6210\\u9879\\u76ee\\u603b\\u6570(\\u89e3\\u98de)\", \"x\": [8, 9], \"y\": [25.0, 5.0], \"type\": \"scatter\", \"uid\": \"c7274ebe-cae5-11e8-aa50-a81e84e6c740\"}, {\"line\": {\"dash\": \"dot\"}, \"name\": \"\\u5b8c\\u6210\\u9879\\u76ee\\u603b\\u6570(\\u738b\\u971e)\", \"x\": [8, 9], \"y\": [0.0, 10.0], \"type\": \"scatter\", \"uid\": \"c72760f2-cae5-11e8-aa50-a81e84e6c740\"}, {\"line\": {\"dash\": \"dash\"}, \"name\": \"\\u5b8c\\u6210\\u9879\\u76ee\\u603b\\u6570(\\u6bb5\\u5229\\u5f3a)\", \"x\": [8, 9], \"y\": [16.0, 11.0], \"type\": \"scatter\", \"uid\": \"c72768a4-cae5-11e8-aa50-a81e84e6c740\"}, {\"line\": {\"dash\": \"longdash\"}, \"name\": \"\\u5b8c\\u6210\\u9879\\u76ee\\u603b\\u6570(\\u5218\\u6c38\\u5f3a)\", \"x\": [8, 9], \"y\": [2.0, 5.0], \"type\": \"scatter\", \"uid\": \"c7276d40-cae5-11e8-aa50-a81e84e6c740\"}, {\"line\": {\"dash\": \"dashdot\"}, \"name\": \"\\u5b8c\\u6210\\u9879\\u76ee\\u603b\\u6570(\\u51af\\u656c\\u5ca9)\", \"x\": [8, 9], \"y\": [16.0, 14.0], \"type\": \"scatter\", \"uid\": \"c7277132-cae5-11e8-aa50-a81e84e6c740\"}, {\"line\": {\"dash\": \"longdashdot\"}, \"name\": \"\\u5b8c\\u6210\\u9879\\u76ee\\u603b\\u6570(\\u4e8e\\u52c7\\u4e00)\", \"x\": [8, 9], \"y\": [2.0, null], \"type\": \"scatter\", \"uid\": \"c72774d4-cae5-11e8-aa50-a81e84e6c740\"}, {\"line\": {\"dash\": \"solid\"}, \"name\": \"\\u5b8c\\u6210\\u9879\\u76ee\\u603b\\u6570(\\u674e\\u6653\\u6ce2)\", \"x\": [8, 9], \"y\": [0.0, 0.0], \"type\": \"scatter\", \"uid\": \"c7277858-cae5-11e8-aa50-a81e84e6c740\"}, {\"line\": {\"dash\": \"dot\"}, \"name\": \"\\u5b8c\\u6210\\u9879\\u76ee\\u603b\\u6570(\\u6768\\u5b87)\", \"x\": [8, 9], \"y\": [9.0, 24.0], \"type\": \"scatter\", \"uid\": \"c7277bd2-cae5-11e8-aa50-a81e84e6c740\"}, {\"line\": {\"dash\": \"dash\"}, \"name\": \"\\u5b8c\\u6210\\u9879\\u76ee\\u603b\\u6570(\\u95fb\\u5c11\\u6960)\", \"x\": [8, 9], \"y\": [10.0, 13.0], \"type\": \"scatter\", \"uid\": \"c72780f0-cae5-11e8-aa50-a81e84e6c740\"}, {\"line\": {\"dash\": \"longdash\"}, \"name\": \"\\u5b8c\\u6210\\u9879\\u76ee\\u603b\\u6570(\\u6636\\u5409\\u9633)\", \"x\": [8, 9], \"y\": [32.0, 18.0], \"type\": \"scatter\", \"uid\": \"c7278488-cae5-11e8-aa50-a81e84e6c740\"}, {\"line\": {\"dash\": \"dashdot\"}, \"name\": \"\\u5b8c\\u6210\\u9879\\u76ee\\u603b\\u6570(\\u9648\\u78a7\\u96ef)\", \"x\": [8, 9], \"y\": [7.0, 24.0], \"type\": \"scatter\", \"uid\": \"c7278802-cae5-11e8-aa50-a81e84e6c740\"}, {\"line\": {\"dash\": \"longdashdot\"}, \"name\": \"\\u5b8c\\u6210\\u9879\\u76ee\\u603b\\u6570(\\u8d75\\u5029)\", \"x\": [8, 9], \"y\": [21.0, 26.0], \"type\": \"scatter\", \"uid\": \"c7278b72-cae5-11e8-aa50-a81e84e6c740\"}, {\"line\": {\"dash\": \"solid\"}, \"name\": \"\\u5b8c\\u6210\\u9879\\u76ee\\u603b\\u6570(\\u4f55\\u80dc)\", \"x\": [8, 9], \"y\": [7.0, 25.0], \"type\": \"scatter\", \"uid\": \"c7278ee2-cae5-11e8-aa50-a81e84e6c740\"}, {\"line\": {\"dash\": \"dot\"}, \"name\": \"\\u5b8c\\u6210\\u9879\\u76ee\\u603b\\u6570(\\u9648\\u9e4f\\u71d5)\", \"x\": [8, 9], \"y\": [36.0, 17.0], \"type\": \"scatter\", \"uid\": \"c7279248-cae5-11e8-aa50-a81e84e6c740\"}, {\"line\": {\"dash\": \"dash\"}, \"name\": \"\\u5b8c\\u6210\\u9879\\u76ee\\u603b\\u6570(\\u6731\\u6167\\u840d)\", \"x\": [8, 9], \"y\": [20.0, 19.0], \"type\": \"scatter\", \"uid\": \"c72795b8-cae5-11e8-aa50-a81e84e6c740\"}, {\"line\": {\"dash\": \"longdash\"}, \"name\": \"\\u5b8c\\u6210\\u9879\\u76ee\\u603b\\u6570(\\u5218\\u68a6\\u82d1)\", \"x\": [8, 9], \"y\": [8.0, 14.0], \"type\": \"scatter\", \"uid\": \"c7279928-cae5-11e8-aa50-a81e84e6c740\"}, {\"line\": {\"dash\": \"dashdot\"}, \"name\": \"\\u5b8c\\u6210\\u9879\\u76ee\\u603b\\u6570(\\u5b8b\\u5c11\\u5b87)\", \"x\": [8, 9], \"y\": [19.0, 9.0], \"type\": \"scatter\", \"uid\": \"c7279c8e-cae5-11e8-aa50-a81e84e6c740\"}, {\"line\": {\"dash\": \"longdashdot\"}, \"name\": \"\\u5b8c\\u6210\\u9879\\u76ee\\u603b\\u6570(\\u9773\\u751c\\u751c)\", \"x\": [8, 9], \"y\": [0.0, 0.0], \"type\": \"scatter\", \"uid\": \"c7279ffe-cae5-11e8-aa50-a81e84e6c740\"}, {\"line\": {\"dash\": \"solid\"}, \"name\": \"\\u5b8c\\u6210\\u9879\\u76ee\\u603b\\u6570(\\u9a6c\\u6f47)\", \"x\": [8, 9], \"y\": [17.0, 22.0], \"type\": \"scatter\", \"uid\": \"c727a36e-cae5-11e8-aa50-a81e84e6c740\"}], {\"title\": \"\\u5b8c\\u6210\\u9879\\u76ee\\u603b\\u6570\\u6708\\u8d8b\\u52bf\\u56fe\", \"xaxis\": {\"mirror\": \"all\", \"nticks\": 20, \"showgrid\": true, \"showline\": true, \"title\": \"\\u6708\", \"zeroline\": true}, \"yaxis\": {\"mirror\": \"all\", \"nticks\": 20, \"showgrid\": true, \"showline\": true, \"title\": \"\\u5b8c\\u6210\\u9879\\u76ee\\u603b\\u6570\", \"zeroline\": true}}, {\"showLink\": true, \"linkText\": \"Export to plot.ly\"})});</script>"
      ],
      "text/vnd.plotly.v1+html": [
       "<div id=\"9dc5aa68-8ff4-4e18-a690-c7d293a1f164\" style=\"height: 525px; width: 100%;\" class=\"plotly-graph-div\"></div><script type=\"text/javascript\">require([\"plotly\"], function(Plotly) { window.PLOTLYENV=window.PLOTLYENV || {};window.PLOTLYENV.BASE_URL=\"https://plot.ly\";Plotly.newPlot(\"9dc5aa68-8ff4-4e18-a690-c7d293a1f164\", [{\"line\": {\"dash\": \"solid\"}, \"name\": \"\\u5b8c\\u6210\\u9879\\u76ee\\u603b\\u6570(\\u89e3\\u98de)\", \"x\": [8, 9], \"y\": [25.0, 5.0], \"type\": \"scatter\", \"uid\": \"c7274ebe-cae5-11e8-aa50-a81e84e6c740\"}, {\"line\": {\"dash\": \"dot\"}, \"name\": \"\\u5b8c\\u6210\\u9879\\u76ee\\u603b\\u6570(\\u738b\\u971e)\", \"x\": [8, 9], \"y\": [0.0, 10.0], \"type\": \"scatter\", \"uid\": \"c72760f2-cae5-11e8-aa50-a81e84e6c740\"}, {\"line\": {\"dash\": \"dash\"}, \"name\": \"\\u5b8c\\u6210\\u9879\\u76ee\\u603b\\u6570(\\u6bb5\\u5229\\u5f3a)\", \"x\": [8, 9], \"y\": [16.0, 11.0], \"type\": \"scatter\", \"uid\": \"c72768a4-cae5-11e8-aa50-a81e84e6c740\"}, {\"line\": {\"dash\": \"longdash\"}, \"name\": \"\\u5b8c\\u6210\\u9879\\u76ee\\u603b\\u6570(\\u5218\\u6c38\\u5f3a)\", \"x\": [8, 9], \"y\": [2.0, 5.0], \"type\": \"scatter\", \"uid\": \"c7276d40-cae5-11e8-aa50-a81e84e6c740\"}, {\"line\": {\"dash\": \"dashdot\"}, \"name\": \"\\u5b8c\\u6210\\u9879\\u76ee\\u603b\\u6570(\\u51af\\u656c\\u5ca9)\", \"x\": [8, 9], \"y\": [16.0, 14.0], \"type\": \"scatter\", \"uid\": \"c7277132-cae5-11e8-aa50-a81e84e6c740\"}, {\"line\": {\"dash\": \"longdashdot\"}, \"name\": \"\\u5b8c\\u6210\\u9879\\u76ee\\u603b\\u6570(\\u4e8e\\u52c7\\u4e00)\", \"x\": [8, 9], \"y\": [2.0, null], \"type\": \"scatter\", \"uid\": \"c72774d4-cae5-11e8-aa50-a81e84e6c740\"}, {\"line\": {\"dash\": \"solid\"}, \"name\": \"\\u5b8c\\u6210\\u9879\\u76ee\\u603b\\u6570(\\u674e\\u6653\\u6ce2)\", \"x\": [8, 9], \"y\": [0.0, 0.0], \"type\": \"scatter\", \"uid\": \"c7277858-cae5-11e8-aa50-a81e84e6c740\"}, {\"line\": {\"dash\": \"dot\"}, \"name\": \"\\u5b8c\\u6210\\u9879\\u76ee\\u603b\\u6570(\\u6768\\u5b87)\", \"x\": [8, 9], \"y\": [9.0, 24.0], \"type\": \"scatter\", \"uid\": \"c7277bd2-cae5-11e8-aa50-a81e84e6c740\"}, {\"line\": {\"dash\": \"dash\"}, \"name\": \"\\u5b8c\\u6210\\u9879\\u76ee\\u603b\\u6570(\\u95fb\\u5c11\\u6960)\", \"x\": [8, 9], \"y\": [10.0, 13.0], \"type\": \"scatter\", \"uid\": \"c72780f0-cae5-11e8-aa50-a81e84e6c740\"}, {\"line\": {\"dash\": \"longdash\"}, \"name\": \"\\u5b8c\\u6210\\u9879\\u76ee\\u603b\\u6570(\\u6636\\u5409\\u9633)\", \"x\": [8, 9], \"y\": [32.0, 18.0], \"type\": \"scatter\", \"uid\": \"c7278488-cae5-11e8-aa50-a81e84e6c740\"}, {\"line\": {\"dash\": \"dashdot\"}, \"name\": \"\\u5b8c\\u6210\\u9879\\u76ee\\u603b\\u6570(\\u9648\\u78a7\\u96ef)\", \"x\": [8, 9], \"y\": [7.0, 24.0], \"type\": \"scatter\", \"uid\": \"c7278802-cae5-11e8-aa50-a81e84e6c740\"}, {\"line\": {\"dash\": \"longdashdot\"}, \"name\": \"\\u5b8c\\u6210\\u9879\\u76ee\\u603b\\u6570(\\u8d75\\u5029)\", \"x\": [8, 9], \"y\": [21.0, 26.0], \"type\": \"scatter\", \"uid\": \"c7278b72-cae5-11e8-aa50-a81e84e6c740\"}, {\"line\": {\"dash\": \"solid\"}, \"name\": \"\\u5b8c\\u6210\\u9879\\u76ee\\u603b\\u6570(\\u4f55\\u80dc)\", \"x\": [8, 9], \"y\": [7.0, 25.0], \"type\": \"scatter\", \"uid\": \"c7278ee2-cae5-11e8-aa50-a81e84e6c740\"}, {\"line\": {\"dash\": \"dot\"}, \"name\": \"\\u5b8c\\u6210\\u9879\\u76ee\\u603b\\u6570(\\u9648\\u9e4f\\u71d5)\", \"x\": [8, 9], \"y\": [36.0, 17.0], \"type\": \"scatter\", \"uid\": \"c7279248-cae5-11e8-aa50-a81e84e6c740\"}, {\"line\": {\"dash\": \"dash\"}, \"name\": \"\\u5b8c\\u6210\\u9879\\u76ee\\u603b\\u6570(\\u6731\\u6167\\u840d)\", \"x\": [8, 9], \"y\": [20.0, 19.0], \"type\": \"scatter\", \"uid\": \"c72795b8-cae5-11e8-aa50-a81e84e6c740\"}, {\"line\": {\"dash\": \"longdash\"}, \"name\": \"\\u5b8c\\u6210\\u9879\\u76ee\\u603b\\u6570(\\u5218\\u68a6\\u82d1)\", \"x\": [8, 9], \"y\": [8.0, 14.0], \"type\": \"scatter\", \"uid\": \"c7279928-cae5-11e8-aa50-a81e84e6c740\"}, {\"line\": {\"dash\": \"dashdot\"}, \"name\": \"\\u5b8c\\u6210\\u9879\\u76ee\\u603b\\u6570(\\u5b8b\\u5c11\\u5b87)\", \"x\": [8, 9], \"y\": [19.0, 9.0], \"type\": \"scatter\", \"uid\": \"c7279c8e-cae5-11e8-aa50-a81e84e6c740\"}, {\"line\": {\"dash\": \"longdashdot\"}, \"name\": \"\\u5b8c\\u6210\\u9879\\u76ee\\u603b\\u6570(\\u9773\\u751c\\u751c)\", \"x\": [8, 9], \"y\": [0.0, 0.0], \"type\": \"scatter\", \"uid\": \"c7279ffe-cae5-11e8-aa50-a81e84e6c740\"}, {\"line\": {\"dash\": \"solid\"}, \"name\": \"\\u5b8c\\u6210\\u9879\\u76ee\\u603b\\u6570(\\u9a6c\\u6f47)\", \"x\": [8, 9], \"y\": [17.0, 22.0], \"type\": \"scatter\", \"uid\": \"c727a36e-cae5-11e8-aa50-a81e84e6c740\"}], {\"title\": \"\\u5b8c\\u6210\\u9879\\u76ee\\u603b\\u6570\\u6708\\u8d8b\\u52bf\\u56fe\", \"xaxis\": {\"mirror\": \"all\", \"nticks\": 20, \"showgrid\": true, \"showline\": true, \"title\": \"\\u6708\", \"zeroline\": true}, \"yaxis\": {\"mirror\": \"all\", \"nticks\": 20, \"showgrid\": true, \"showline\": true, \"title\": \"\\u5b8c\\u6210\\u9879\\u76ee\\u603b\\u6570\", \"zeroline\": true}}, {\"showLink\": true, \"linkText\": \"Export to plot.ly\"})});</script>"
      ]
     },
     "metadata": {},
     "output_type": "display_data"
    }
   ],
   "source": [
    "ss = myModule.format(all_df1 ,\"日期（格式“月-周次”）\" ,['完成项目总数'])\n",
    "ss.add_group('人员')\n",
    "#ss.get_average_by('人员')\n",
    "myModule.myPlot(ss.groupby('sum')).plot('line')\n",
    "ss = myModule.format(all_df1 ,\"month\" ,['完成项目总数'])\n",
    "ss.add_group('人员')\n",
    "#ss.get_average_by('人员')\n",
    "myModule.myPlot(ss.groupby('sum')).plot('line','月')"
   ]
  },
  {
   "cell_type": "markdown",
   "metadata": {},
   "source": [
    "### 优秀人员"
   ]
  },
  {
   "cell_type": "markdown",
   "metadata": {},
   "source": [
    "* 总完成项目数目位于上四位分数"
   ]
  },
  {
   "cell_type": "code",
   "execution_count": 34,
   "metadata": {},
   "outputs": [
    {
     "data": {
      "text/html": [
       "<div>\n",
       "<style scoped>\n",
       "    .dataframe tbody tr th:only-of-type {\n",
       "        vertical-align: middle;\n",
       "    }\n",
       "\n",
       "    .dataframe tbody tr th {\n",
       "        vertical-align: top;\n",
       "    }\n",
       "\n",
       "    .dataframe thead th {\n",
       "        text-align: right;\n",
       "    }\n",
       "</style>\n",
       "<table border=\"1\" class=\"dataframe\">\n",
       "  <thead>\n",
       "    <tr style=\"text-align: right;\">\n",
       "      <th></th>\n",
       "      <th>完成项目总数</th>\n",
       "    </tr>\n",
       "    <tr>\n",
       "      <th>人员</th>\n",
       "      <th></th>\n",
       "    </tr>\n",
       "  </thead>\n",
       "  <tbody>\n",
       "    <tr>\n",
       "      <th>陈鹏燕</th>\n",
       "      <td>53.0</td>\n",
       "    </tr>\n",
       "    <tr>\n",
       "      <th>昶吉阳</th>\n",
       "      <td>50.0</td>\n",
       "    </tr>\n",
       "    <tr>\n",
       "      <th>赵倩</th>\n",
       "      <td>47.0</td>\n",
       "    </tr>\n",
       "    <tr>\n",
       "      <th>朱慧萍</th>\n",
       "      <td>39.0</td>\n",
       "    </tr>\n",
       "    <tr>\n",
       "      <th>马潇</th>\n",
       "      <td>39.0</td>\n",
       "    </tr>\n",
       "  </tbody>\n",
       "</table>\n",
       "</div>"
      ],
      "text/plain": [
       "     完成项目总数\n",
       "人员         \n",
       "陈鹏燕    53.0\n",
       "昶吉阳    50.0\n",
       "赵倩     47.0\n",
       "朱慧萍    39.0\n",
       "马潇     39.0"
      ]
     },
     "execution_count": 34,
     "metadata": {},
     "output_type": "execute_result"
    }
   ],
   "source": [
    "myModule.get_rank(all_df1 , '人员' ,'完成项目总数', quantile=0.8, compare='>' )"
   ]
  },
  {
   "cell_type": "markdown",
   "metadata": {},
   "source": [
    "* 近3期，总完成项目数位于上四分位数"
   ]
  },
  {
   "cell_type": "code",
   "execution_count": 35,
   "metadata": {},
   "outputs": [
    {
     "data": {
      "text/html": [
       "<div>\n",
       "<style scoped>\n",
       "    .dataframe tbody tr th:only-of-type {\n",
       "        vertical-align: middle;\n",
       "    }\n",
       "\n",
       "    .dataframe tbody tr th {\n",
       "        vertical-align: top;\n",
       "    }\n",
       "\n",
       "    .dataframe thead th {\n",
       "        text-align: right;\n",
       "    }\n",
       "</style>\n",
       "<table border=\"1\" class=\"dataframe\">\n",
       "  <thead>\n",
       "    <tr style=\"text-align: right;\">\n",
       "      <th></th>\n",
       "      <th>完成项目总数</th>\n",
       "    </tr>\n",
       "    <tr>\n",
       "      <th>人员</th>\n",
       "      <th></th>\n",
       "    </tr>\n",
       "  </thead>\n",
       "  <tbody>\n",
       "    <tr>\n",
       "      <th>杨宇</th>\n",
       "      <td>24.0</td>\n",
       "    </tr>\n",
       "    <tr>\n",
       "      <th>陈碧雯</th>\n",
       "      <td>21.0</td>\n",
       "    </tr>\n",
       "    <tr>\n",
       "      <th>赵倩</th>\n",
       "      <td>20.0</td>\n",
       "    </tr>\n",
       "    <tr>\n",
       "      <th>马潇</th>\n",
       "      <td>19.0</td>\n",
       "    </tr>\n",
       "    <tr>\n",
       "      <th>何胜</th>\n",
       "      <td>18.0</td>\n",
       "    </tr>\n",
       "  </tbody>\n",
       "</table>\n",
       "</div>"
      ],
      "text/plain": [
       "     完成项目总数\n",
       "人员         \n",
       "杨宇     24.0\n",
       "陈碧雯    21.0\n",
       "赵倩     20.0\n",
       "马潇     19.0\n",
       "何胜     18.0"
      ]
     },
     "execution_count": 35,
     "metadata": {},
     "output_type": "execute_result"
    }
   ],
   "source": [
    "myModule.get_rank(all_df1 , '人员' ,'完成项目总数', 3, quantile=0.75, compare='>')"
   ]
  },
  {
   "cell_type": "code",
   "execution_count": 36,
   "metadata": {},
   "outputs": [
    {
     "data": {
      "text/html": [
       "<div>\n",
       "<style scoped>\n",
       "    .dataframe tbody tr th:only-of-type {\n",
       "        vertical-align: middle;\n",
       "    }\n",
       "\n",
       "    .dataframe tbody tr th {\n",
       "        vertical-align: top;\n",
       "    }\n",
       "\n",
       "    .dataframe thead th {\n",
       "        text-align: right;\n",
       "    }\n",
       "</style>\n",
       "<table border=\"1\" class=\"dataframe\">\n",
       "  <thead>\n",
       "    <tr style=\"text-align: right;\">\n",
       "      <th>日期（格式“月-周次”）</th>\n",
       "      <th>9-2</th>\n",
       "      <th>9-3</th>\n",
       "      <th>9-4</th>\n",
       "    </tr>\n",
       "    <tr>\n",
       "      <th>人员</th>\n",
       "      <th></th>\n",
       "      <th></th>\n",
       "      <th></th>\n",
       "    </tr>\n",
       "  </thead>\n",
       "  <tbody>\n",
       "    <tr>\n",
       "      <th>何胜</th>\n",
       "      <td>6.0</td>\n",
       "      <td>7.0</td>\n",
       "      <td>5.0</td>\n",
       "    </tr>\n",
       "    <tr>\n",
       "      <th>杨宇</th>\n",
       "      <td>9.0</td>\n",
       "      <td>10.0</td>\n",
       "      <td>5.0</td>\n",
       "    </tr>\n",
       "    <tr>\n",
       "      <th>赵倩</th>\n",
       "      <td>6.0</td>\n",
       "      <td>5.0</td>\n",
       "      <td>9.0</td>\n",
       "    </tr>\n",
       "    <tr>\n",
       "      <th>马潇</th>\n",
       "      <td>7.0</td>\n",
       "      <td>7.0</td>\n",
       "      <td>5.0</td>\n",
       "    </tr>\n",
       "  </tbody>\n",
       "</table>\n",
       "</div>"
      ],
      "text/plain": [
       "日期（格式“月-周次”）  9-2   9-3  9-4\n",
       "人员                          \n",
       "何胜            6.0   7.0  5.0\n",
       "杨宇            9.0  10.0  5.0\n",
       "赵倩            6.0   5.0  9.0\n",
       "马潇            7.0   7.0  5.0"
      ]
     },
     "execution_count": 36,
     "metadata": {},
     "output_type": "execute_result"
    }
   ],
   "source": [
    "myModule.get_trend(all_df1 , '人员' ,'完成项目总数', 3, quantile=0.75, compare='>')"
   ]
  },
  {
   "cell_type": "code",
   "execution_count": 25,
   "metadata": {},
   "outputs": [
    {
     "data": {
      "text/html": [
       "<div>\n",
       "<style scoped>\n",
       "    .dataframe tbody tr th:only-of-type {\n",
       "        vertical-align: middle;\n",
       "    }\n",
       "\n",
       "    .dataframe tbody tr th {\n",
       "        vertical-align: top;\n",
       "    }\n",
       "\n",
       "    .dataframe thead th {\n",
       "        text-align: right;\n",
       "    }\n",
       "</style>\n",
       "<table border=\"1\" class=\"dataframe\">\n",
       "  <thead>\n",
       "    <tr style=\"text-align: right;\">\n",
       "      <th>日期（格式“月-周次”）</th>\n",
       "      <th>9-1</th>\n",
       "      <th>9-2</th>\n",
       "      <th>9-3</th>\n",
       "    </tr>\n",
       "    <tr>\n",
       "      <th>人员</th>\n",
       "      <th></th>\n",
       "      <th></th>\n",
       "      <th></th>\n",
       "    </tr>\n",
       "  </thead>\n",
       "  <tbody>\n",
       "    <tr>\n",
       "      <th>马潇</th>\n",
       "      <td>3.0</td>\n",
       "      <td>7.0</td>\n",
       "      <td>7.0</td>\n",
       "    </tr>\n",
       "  </tbody>\n",
       "</table>\n",
       "</div>"
      ],
      "text/plain": [
       "日期（格式“月-周次”）  9-1  9-2  9-3\n",
       "人员                         \n",
       "马潇            3.0  7.0  7.0"
      ]
     },
     "execution_count": 25,
     "metadata": {},
     "output_type": "execute_result"
    }
   ],
   "source": [
    "myModule.get_trend(all_df1 , '人员' ,'完成项目总数', 3, quantile=0.5, compare='>',trend=True)"
   ]
  },
  {
   "cell_type": "markdown",
   "metadata": {},
   "source": [
    "### 待激励人员\n",
    "* 总完成项目数目位于下四位分数 or \n",
    "* 近3期，总完成项目数位于下四分位数"
   ]
  },
  {
   "cell_type": "code",
   "execution_count": 26,
   "metadata": {},
   "outputs": [
    {
     "data": {
      "text/html": [
       "<div>\n",
       "<style scoped>\n",
       "    .dataframe tbody tr th:only-of-type {\n",
       "        vertical-align: middle;\n",
       "    }\n",
       "\n",
       "    .dataframe tbody tr th {\n",
       "        vertical-align: top;\n",
       "    }\n",
       "\n",
       "    .dataframe thead th {\n",
       "        text-align: right;\n",
       "    }\n",
       "</style>\n",
       "<table border=\"1\" class=\"dataframe\">\n",
       "  <thead>\n",
       "    <tr style=\"text-align: right;\">\n",
       "      <th></th>\n",
       "      <th>完成项目总数</th>\n",
       "    </tr>\n",
       "    <tr>\n",
       "      <th>人员</th>\n",
       "      <th></th>\n",
       "    </tr>\n",
       "  </thead>\n",
       "  <tbody>\n",
       "    <tr>\n",
       "      <th>李晓波</th>\n",
       "      <td>0</td>\n",
       "    </tr>\n",
       "    <tr>\n",
       "      <th>靳甜甜</th>\n",
       "      <td>0</td>\n",
       "    </tr>\n",
       "    <tr>\n",
       "      <th>于勇一</th>\n",
       "      <td>2</td>\n",
       "    </tr>\n",
       "    <tr>\n",
       "      <th>王霞</th>\n",
       "      <td>6</td>\n",
       "    </tr>\n",
       "  </tbody>\n",
       "</table>\n",
       "</div>"
      ],
      "text/plain": [
       "     完成项目总数\n",
       "人员         \n",
       "李晓波       0\n",
       "靳甜甜       0\n",
       "于勇一       2\n",
       "王霞        6"
      ]
     },
     "execution_count": 26,
     "metadata": {},
     "output_type": "execute_result"
    }
   ],
   "source": [
    "myModule.get_rank(all_df1 , '人员' ,'完成项目总数', quantile=0.2, compare='<' )"
   ]
  },
  {
   "cell_type": "code",
   "execution_count": 27,
   "metadata": {},
   "outputs": [
    {
     "data": {
      "text/html": [
       "<div>\n",
       "<style scoped>\n",
       "    .dataframe tbody tr th:only-of-type {\n",
       "        vertical-align: middle;\n",
       "    }\n",
       "\n",
       "    .dataframe tbody tr th {\n",
       "        vertical-align: top;\n",
       "    }\n",
       "\n",
       "    .dataframe thead th {\n",
       "        text-align: right;\n",
       "    }\n",
       "</style>\n",
       "<table border=\"1\" class=\"dataframe\">\n",
       "  <thead>\n",
       "    <tr style=\"text-align: right;\">\n",
       "      <th></th>\n",
       "      <th>完成项目总数</th>\n",
       "    </tr>\n",
       "    <tr>\n",
       "      <th>人员</th>\n",
       "      <th></th>\n",
       "    </tr>\n",
       "  </thead>\n",
       "  <tbody>\n",
       "    <tr>\n",
       "      <th>李晓波</th>\n",
       "      <td>0</td>\n",
       "    </tr>\n",
       "    <tr>\n",
       "      <th>靳甜甜</th>\n",
       "      <td>0</td>\n",
       "    </tr>\n",
       "    <tr>\n",
       "      <th>解飞</th>\n",
       "      <td>4</td>\n",
       "    </tr>\n",
       "    <tr>\n",
       "      <th>刘永强</th>\n",
       "      <td>6</td>\n",
       "    </tr>\n",
       "    <tr>\n",
       "      <th>王霞</th>\n",
       "      <td>6</td>\n",
       "    </tr>\n",
       "  </tbody>\n",
       "</table>\n",
       "</div>"
      ],
      "text/plain": [
       "     完成项目总数\n",
       "人员         \n",
       "李晓波       0\n",
       "靳甜甜       0\n",
       "解飞        4\n",
       "刘永强       6\n",
       "王霞        6"
      ]
     },
     "execution_count": 27,
     "metadata": {},
     "output_type": "execute_result"
    }
   ],
   "source": [
    "myModule.get_rank(all_df1 , '人员' ,'完成项目总数', 3, quantile=0.2, compare='<')"
   ]
  },
  {
   "cell_type": "markdown",
   "metadata": {},
   "source": [
    "# 下期项目情况预测"
   ]
  },
  {
   "cell_type": "markdown",
   "metadata": {},
   "source": [
    "## 整体商业项目趋势图\n",
    "* 完成项目数： 本周完成的项目\n",
    "* 总在线项目： 下机正在分析项目 和 未完成个性化分析\n",
    "* 未下机项目： 未下机项目"
   ]
  },
  {
   "cell_type": "code",
   "execution_count": 28,
   "metadata": {},
   "outputs": [
    {
     "data": {
      "application/vnd.plotly.v1+json": {
       "data": [
        {
         "name": "完成项目总数",
         "type": "scatter",
         "uid": "7b6cfdf4-ca9d-11e8-8df9-a81e84e6c740",
         "x": [
          "8-1",
          "8-2",
          "8-3",
          "8-4",
          "9-1",
          "9-2",
          "9-3"
         ],
         "y": [
          65,
          71,
          50,
          61,
          58,
          80,
          63
         ]
        },
        {
         "name": "在线项目总数",
         "type": "scatter",
         "uid": "7b6d0182-ca9d-11e8-8df9-a81e84e6c740",
         "x": [
          "8-1",
          "8-2",
          "8-3",
          "8-4",
          "9-1",
          "9-2",
          "9-3"
         ],
         "y": [
          95,
          89,
          74,
          91,
          89,
          65,
          46
         ]
        }
       ],
       "layout": {
        "title": "完成项目总数&在线项目总数周趋势图",
        "xaxis": {
         "mirror": "all",
         "nticks": 20,
         "showgrid": true,
         "showline": true,
         "title": "周",
         "zeroline": true
        },
        "yaxis": {
         "mirror": "all",
         "nticks": 20,
         "showgrid": true,
         "showline": true,
         "title": "完成项目总数&在线项目总数",
         "zeroline": true
        }
       }
      },
      "text/html": [
       "<div id=\"97e27883-a637-4489-8387-093525e1cb3a\" style=\"height: 525px; width: 100%;\" class=\"plotly-graph-div\"></div><script type=\"text/javascript\">require([\"plotly\"], function(Plotly) { window.PLOTLYENV=window.PLOTLYENV || {};window.PLOTLYENV.BASE_URL=\"https://plot.ly\";Plotly.newPlot(\"97e27883-a637-4489-8387-093525e1cb3a\", [{\"name\": \"\\u5b8c\\u6210\\u9879\\u76ee\\u603b\\u6570\", \"x\": [\"8-1\", \"8-2\", \"8-3\", \"8-4\", \"9-1\", \"9-2\", \"9-3\"], \"y\": [65, 71, 50, 61, 58, 80, 63], \"type\": \"scatter\", \"uid\": \"7b6cfdf4-ca9d-11e8-8df9-a81e84e6c740\"}, {\"name\": \"\\u5728\\u7ebf\\u9879\\u76ee\\u603b\\u6570\", \"x\": [\"8-1\", \"8-2\", \"8-3\", \"8-4\", \"9-1\", \"9-2\", \"9-3\"], \"y\": [95, 89, 74, 91, 89, 65, 46], \"type\": \"scatter\", \"uid\": \"7b6d0182-ca9d-11e8-8df9-a81e84e6c740\"}], {\"title\": \"\\u5b8c\\u6210\\u9879\\u76ee\\u603b\\u6570&\\u5728\\u7ebf\\u9879\\u76ee\\u603b\\u6570\\u5468\\u8d8b\\u52bf\\u56fe\", \"xaxis\": {\"mirror\": \"all\", \"nticks\": 20, \"showgrid\": true, \"showline\": true, \"title\": \"\\u5468\", \"zeroline\": true}, \"yaxis\": {\"mirror\": \"all\", \"nticks\": 20, \"showgrid\": true, \"showline\": true, \"title\": \"\\u5b8c\\u6210\\u9879\\u76ee\\u603b\\u6570&\\u5728\\u7ebf\\u9879\\u76ee\\u603b\\u6570\", \"zeroline\": true}}, {\"showLink\": true, \"linkText\": \"Export to plot.ly\"})});</script>"
      ],
      "text/vnd.plotly.v1+html": [
       "<div id=\"97e27883-a637-4489-8387-093525e1cb3a\" style=\"height: 525px; width: 100%;\" class=\"plotly-graph-div\"></div><script type=\"text/javascript\">require([\"plotly\"], function(Plotly) { window.PLOTLYENV=window.PLOTLYENV || {};window.PLOTLYENV.BASE_URL=\"https://plot.ly\";Plotly.newPlot(\"97e27883-a637-4489-8387-093525e1cb3a\", [{\"name\": \"\\u5b8c\\u6210\\u9879\\u76ee\\u603b\\u6570\", \"x\": [\"8-1\", \"8-2\", \"8-3\", \"8-4\", \"9-1\", \"9-2\", \"9-3\"], \"y\": [65, 71, 50, 61, 58, 80, 63], \"type\": \"scatter\", \"uid\": \"7b6cfdf4-ca9d-11e8-8df9-a81e84e6c740\"}, {\"name\": \"\\u5728\\u7ebf\\u9879\\u76ee\\u603b\\u6570\", \"x\": [\"8-1\", \"8-2\", \"8-3\", \"8-4\", \"9-1\", \"9-2\", \"9-3\"], \"y\": [95, 89, 74, 91, 89, 65, 46], \"type\": \"scatter\", \"uid\": \"7b6d0182-ca9d-11e8-8df9-a81e84e6c740\"}], {\"title\": \"\\u5b8c\\u6210\\u9879\\u76ee\\u603b\\u6570&\\u5728\\u7ebf\\u9879\\u76ee\\u603b\\u6570\\u5468\\u8d8b\\u52bf\\u56fe\", \"xaxis\": {\"mirror\": \"all\", \"nticks\": 20, \"showgrid\": true, \"showline\": true, \"title\": \"\\u5468\", \"zeroline\": true}, \"yaxis\": {\"mirror\": \"all\", \"nticks\": 20, \"showgrid\": true, \"showline\": true, \"title\": \"\\u5b8c\\u6210\\u9879\\u76ee\\u603b\\u6570&\\u5728\\u7ebf\\u9879\\u76ee\\u603b\\u6570\", \"zeroline\": true}}, {\"showLink\": true, \"linkText\": \"Export to plot.ly\"})});</script>"
      ]
     },
     "metadata": {},
     "output_type": "display_data"
    },
    {
     "data": {
      "application/vnd.plotly.v1+json": {
       "data": [
        {
         "name": "完成项目总数",
         "type": "scatter",
         "uid": "7b7429d0-ca9d-11e8-8df9-a81e84e6c740",
         "x": [
          8,
          9
         ],
         "y": [
          247,
          201
         ]
        },
        {
         "name": "在线项目总数",
         "type": "scatter",
         "uid": "7b7435ba-ca9d-11e8-8df9-a81e84e6c740",
         "x": [
          8,
          9
         ],
         "y": [
          349,
          200
         ]
        }
       ],
       "layout": {
        "title": "完成项目总数&在线项目总数月趋势图",
        "xaxis": {
         "mirror": "all",
         "nticks": 20,
         "showgrid": true,
         "showline": true,
         "title": "月",
         "zeroline": true
        },
        "yaxis": {
         "mirror": "all",
         "nticks": 20,
         "showgrid": true,
         "showline": true,
         "title": "完成项目总数&在线项目总数",
         "zeroline": true
        }
       }
      },
      "text/html": [
       "<div id=\"b96f696e-164c-4e78-ae7c-15e0935c7325\" style=\"height: 525px; width: 100%;\" class=\"plotly-graph-div\"></div><script type=\"text/javascript\">require([\"plotly\"], function(Plotly) { window.PLOTLYENV=window.PLOTLYENV || {};window.PLOTLYENV.BASE_URL=\"https://plot.ly\";Plotly.newPlot(\"b96f696e-164c-4e78-ae7c-15e0935c7325\", [{\"name\": \"\\u5b8c\\u6210\\u9879\\u76ee\\u603b\\u6570\", \"x\": [8, 9], \"y\": [247, 201], \"type\": \"scatter\", \"uid\": \"7b7429d0-ca9d-11e8-8df9-a81e84e6c740\"}, {\"name\": \"\\u5728\\u7ebf\\u9879\\u76ee\\u603b\\u6570\", \"x\": [8, 9], \"y\": [349, 200], \"type\": \"scatter\", \"uid\": \"7b7435ba-ca9d-11e8-8df9-a81e84e6c740\"}], {\"title\": \"\\u5b8c\\u6210\\u9879\\u76ee\\u603b\\u6570&\\u5728\\u7ebf\\u9879\\u76ee\\u603b\\u6570\\u6708\\u8d8b\\u52bf\\u56fe\", \"xaxis\": {\"mirror\": \"all\", \"nticks\": 20, \"showgrid\": true, \"showline\": true, \"title\": \"\\u6708\", \"zeroline\": true}, \"yaxis\": {\"mirror\": \"all\", \"nticks\": 20, \"showgrid\": true, \"showline\": true, \"title\": \"\\u5b8c\\u6210\\u9879\\u76ee\\u603b\\u6570&\\u5728\\u7ebf\\u9879\\u76ee\\u603b\\u6570\", \"zeroline\": true}}, {\"showLink\": true, \"linkText\": \"Export to plot.ly\"})});</script>"
      ],
      "text/vnd.plotly.v1+html": [
       "<div id=\"b96f696e-164c-4e78-ae7c-15e0935c7325\" style=\"height: 525px; width: 100%;\" class=\"plotly-graph-div\"></div><script type=\"text/javascript\">require([\"plotly\"], function(Plotly) { window.PLOTLYENV=window.PLOTLYENV || {};window.PLOTLYENV.BASE_URL=\"https://plot.ly\";Plotly.newPlot(\"b96f696e-164c-4e78-ae7c-15e0935c7325\", [{\"name\": \"\\u5b8c\\u6210\\u9879\\u76ee\\u603b\\u6570\", \"x\": [8, 9], \"y\": [247, 201], \"type\": \"scatter\", \"uid\": \"7b7429d0-ca9d-11e8-8df9-a81e84e6c740\"}, {\"name\": \"\\u5728\\u7ebf\\u9879\\u76ee\\u603b\\u6570\", \"x\": [8, 9], \"y\": [349, 200], \"type\": \"scatter\", \"uid\": \"7b7435ba-ca9d-11e8-8df9-a81e84e6c740\"}], {\"title\": \"\\u5b8c\\u6210\\u9879\\u76ee\\u603b\\u6570&\\u5728\\u7ebf\\u9879\\u76ee\\u603b\\u6570\\u6708\\u8d8b\\u52bf\\u56fe\", \"xaxis\": {\"mirror\": \"all\", \"nticks\": 20, \"showgrid\": true, \"showline\": true, \"title\": \"\\u6708\", \"zeroline\": true}, \"yaxis\": {\"mirror\": \"all\", \"nticks\": 20, \"showgrid\": true, \"showline\": true, \"title\": \"\\u5b8c\\u6210\\u9879\\u76ee\\u603b\\u6570&\\u5728\\u7ebf\\u9879\\u76ee\\u603b\\u6570\", \"zeroline\": true}}, {\"showLink\": true, \"linkText\": \"Export to plot.ly\"})});</script>"
      ]
     },
     "metadata": {},
     "output_type": "display_data"
    }
   ],
   "source": [
    "ss = myModule.format(all_df1 ,\"日期（格式“月-周次”）\" ,['完成项目总数','在线项目总数' ])\n",
    "#ss.add_group('组别')\n",
    "#ss.get_average_by('人员')\n",
    "myModule.myPlot(ss.groupby('sum')).plot('line')\n",
    "ss = myModule.format(all_df1 ,\"month\" ,['完成项目总数','在线项目总数'])\n",
    "#ss.add_group('组别')\n",
    "#ss.get_average_by('人员')\n",
    "myModule.myPlot(ss.groupby('sum')).plot('line','月')"
   ]
  },
  {
   "cell_type": "markdown",
   "metadata": {},
   "source": [
    "## 总在线项目数\n",
    "* 把这个数字做到sheet1中，sheet2中尽量不留数字"
   ]
  },
  {
   "cell_type": "markdown",
   "metadata": {},
   "source": [
    "### 在线项目情况"
   ]
  },
  {
   "cell_type": "code",
   "execution_count": 70,
   "metadata": {},
   "outputs": [
    {
     "data": {
      "application/vnd.plotly.v1+json": {
       "data": [
        {
         "line": {
          "dash": "solid"
         },
         "name": "在线项目总数(分析一组)",
         "type": "scatter",
         "uid": "6f0186d4-c647-11e8-a0cc-a81e84e6c740",
         "x": [
          "8-1",
          "8-2",
          "8-3",
          "8-4",
          "9-1",
          "9-2",
          "9-3"
         ],
         "y": [
          36,
          28,
          19,
          21,
          17,
          12,
          12
         ]
        },
        {
         "line": {
          "dash": "dot"
         },
         "name": "在线项目总数(个性化组)",
         "type": "scatter",
         "uid": "6f018a62-c647-11e8-a0cc-a81e84e6c740",
         "x": [
          "8-1",
          "8-2",
          "8-3",
          "8-4",
          "9-1",
          "9-2",
          "9-3"
         ],
         "y": [
          21,
          19,
          12,
          17,
          15,
          13,
          2
         ]
        },
        {
         "line": {
          "dash": "dash"
         },
         "name": "在线项目总数(分析二组)",
         "type": "scatter",
         "uid": "6f018cba-c647-11e8-a0cc-a81e84e6c740",
         "x": [
          "8-1",
          "8-2",
          "8-3",
          "8-4",
          "9-1",
          "9-2",
          "9-3"
         ],
         "y": [
          38,
          42,
          43,
          53,
          57,
          40,
          32
         ]
        }
       ],
       "layout": {
        "title": "在线项目总数周趋势图",
        "xaxis": {
         "mirror": "all",
         "nticks": 20,
         "showgrid": true,
         "showline": true,
         "title": "周",
         "zeroline": true
        },
        "yaxis": {
         "mirror": "all",
         "nticks": 20,
         "showgrid": true,
         "showline": true,
         "title": "在线项目总数",
         "zeroline": true
        }
       }
      },
      "text/html": [
       "<div id=\"1e267dd3-f93e-4a23-a836-4ea8c7416c7f\" style=\"height: 525px; width: 100%;\" class=\"plotly-graph-div\"></div><script type=\"text/javascript\">require([\"plotly\"], function(Plotly) { window.PLOTLYENV=window.PLOTLYENV || {};window.PLOTLYENV.BASE_URL=\"https://plot.ly\";Plotly.newPlot(\"1e267dd3-f93e-4a23-a836-4ea8c7416c7f\", [{\"line\": {\"dash\": \"solid\"}, \"name\": \"\\u5728\\u7ebf\\u9879\\u76ee\\u603b\\u6570(\\u5206\\u6790\\u4e00\\u7ec4)\", \"x\": [\"8-1\", \"8-2\", \"8-3\", \"8-4\", \"9-1\", \"9-2\", \"9-3\"], \"y\": [36, 28, 19, 21, 17, 12, 12], \"type\": \"scatter\", \"uid\": \"6f0186d4-c647-11e8-a0cc-a81e84e6c740\"}, {\"line\": {\"dash\": \"dot\"}, \"name\": \"\\u5728\\u7ebf\\u9879\\u76ee\\u603b\\u6570(\\u4e2a\\u6027\\u5316\\u7ec4)\", \"x\": [\"8-1\", \"8-2\", \"8-3\", \"8-4\", \"9-1\", \"9-2\", \"9-3\"], \"y\": [21, 19, 12, 17, 15, 13, 2], \"type\": \"scatter\", \"uid\": \"6f018a62-c647-11e8-a0cc-a81e84e6c740\"}, {\"line\": {\"dash\": \"dash\"}, \"name\": \"\\u5728\\u7ebf\\u9879\\u76ee\\u603b\\u6570(\\u5206\\u6790\\u4e8c\\u7ec4)\", \"x\": [\"8-1\", \"8-2\", \"8-3\", \"8-4\", \"9-1\", \"9-2\", \"9-3\"], \"y\": [38, 42, 43, 53, 57, 40, 32], \"type\": \"scatter\", \"uid\": \"6f018cba-c647-11e8-a0cc-a81e84e6c740\"}], {\"title\": \"\\u5728\\u7ebf\\u9879\\u76ee\\u603b\\u6570\\u5468\\u8d8b\\u52bf\\u56fe\", \"xaxis\": {\"mirror\": \"all\", \"nticks\": 20, \"showgrid\": true, \"showline\": true, \"title\": \"\\u5468\", \"zeroline\": true}, \"yaxis\": {\"mirror\": \"all\", \"nticks\": 20, \"showgrid\": true, \"showline\": true, \"title\": \"\\u5728\\u7ebf\\u9879\\u76ee\\u603b\\u6570\", \"zeroline\": true}}, {\"showLink\": true, \"linkText\": \"Export to plot.ly\"})});</script>"
      ],
      "text/vnd.plotly.v1+html": [
       "<div id=\"1e267dd3-f93e-4a23-a836-4ea8c7416c7f\" style=\"height: 525px; width: 100%;\" class=\"plotly-graph-div\"></div><script type=\"text/javascript\">require([\"plotly\"], function(Plotly) { window.PLOTLYENV=window.PLOTLYENV || {};window.PLOTLYENV.BASE_URL=\"https://plot.ly\";Plotly.newPlot(\"1e267dd3-f93e-4a23-a836-4ea8c7416c7f\", [{\"line\": {\"dash\": \"solid\"}, \"name\": \"\\u5728\\u7ebf\\u9879\\u76ee\\u603b\\u6570(\\u5206\\u6790\\u4e00\\u7ec4)\", \"x\": [\"8-1\", \"8-2\", \"8-3\", \"8-4\", \"9-1\", \"9-2\", \"9-3\"], \"y\": [36, 28, 19, 21, 17, 12, 12], \"type\": \"scatter\", \"uid\": \"6f0186d4-c647-11e8-a0cc-a81e84e6c740\"}, {\"line\": {\"dash\": \"dot\"}, \"name\": \"\\u5728\\u7ebf\\u9879\\u76ee\\u603b\\u6570(\\u4e2a\\u6027\\u5316\\u7ec4)\", \"x\": [\"8-1\", \"8-2\", \"8-3\", \"8-4\", \"9-1\", \"9-2\", \"9-3\"], \"y\": [21, 19, 12, 17, 15, 13, 2], \"type\": \"scatter\", \"uid\": \"6f018a62-c647-11e8-a0cc-a81e84e6c740\"}, {\"line\": {\"dash\": \"dash\"}, \"name\": \"\\u5728\\u7ebf\\u9879\\u76ee\\u603b\\u6570(\\u5206\\u6790\\u4e8c\\u7ec4)\", \"x\": [\"8-1\", \"8-2\", \"8-3\", \"8-4\", \"9-1\", \"9-2\", \"9-3\"], \"y\": [38, 42, 43, 53, 57, 40, 32], \"type\": \"scatter\", \"uid\": \"6f018cba-c647-11e8-a0cc-a81e84e6c740\"}], {\"title\": \"\\u5728\\u7ebf\\u9879\\u76ee\\u603b\\u6570\\u5468\\u8d8b\\u52bf\\u56fe\", \"xaxis\": {\"mirror\": \"all\", \"nticks\": 20, \"showgrid\": true, \"showline\": true, \"title\": \"\\u5468\", \"zeroline\": true}, \"yaxis\": {\"mirror\": \"all\", \"nticks\": 20, \"showgrid\": true, \"showline\": true, \"title\": \"\\u5728\\u7ebf\\u9879\\u76ee\\u603b\\u6570\", \"zeroline\": true}}, {\"showLink\": true, \"linkText\": \"Export to plot.ly\"})});</script>"
      ]
     },
     "metadata": {},
     "output_type": "display_data"
    },
    {
     "data": {
      "application/vnd.plotly.v1+json": {
       "data": [
        {
         "line": {
          "dash": "solid"
         },
         "name": "完成项目总数(分析一组)",
         "type": "scatter",
         "uid": "6f0e943c-c647-11e8-a0cc-a81e84e6c740",
         "x": [
          8,
          9
         ],
         "y": [
          95,
          35
         ]
        },
        {
         "line": {
          "dash": "dot"
         },
         "name": "完成项目总数(个性化组)",
         "type": "scatter",
         "uid": "6f0e9af4-c647-11e8-a0cc-a81e84e6c740",
         "x": [
          8,
          9
         ],
         "y": [
          57,
          46
         ]
        },
        {
         "line": {
          "dash": "dash"
         },
         "name": "完成项目总数(分析二组)",
         "type": "scatter",
         "uid": "6f0e9e14-c647-11e8-a0cc-a81e84e6c740",
         "x": [
          8,
          9
         ],
         "y": [
          95,
          120
         ]
        },
        {
         "line": {
          "dash": "solid"
         },
         "name": "在线项目总数(分析一组)",
         "type": "scatter",
         "uid": "6f0ea080-c647-11e8-a0cc-a81e84e6c740",
         "x": [
          8,
          9
         ],
         "y": [
          104,
          41
         ]
        },
        {
         "line": {
          "dash": "dot"
         },
         "name": "在线项目总数(个性化组)",
         "type": "scatter",
         "uid": "6f0ea2a6-c647-11e8-a0cc-a81e84e6c740",
         "x": [
          8,
          9
         ],
         "y": [
          69,
          30
         ]
        },
        {
         "line": {
          "dash": "dash"
         },
         "name": "在线项目总数(分析二组)",
         "type": "scatter",
         "uid": "6f0ea4cc-c647-11e8-a0cc-a81e84e6c740",
         "x": [
          8,
          9
         ],
         "y": [
          176,
          129
         ]
        }
       ],
       "layout": {
        "title": "完成项目总数&在线项目总数月趋势图",
        "xaxis": {
         "mirror": "all",
         "nticks": 20,
         "showgrid": true,
         "showline": true,
         "title": "月",
         "zeroline": true
        },
        "yaxis": {
         "mirror": "all",
         "nticks": 20,
         "showgrid": true,
         "showline": true,
         "title": "完成项目总数&在线项目总数",
         "zeroline": true
        }
       }
      },
      "text/html": [
       "<div id=\"473e1254-29f4-4849-a3f9-df87a27846d9\" style=\"height: 525px; width: 100%;\" class=\"plotly-graph-div\"></div><script type=\"text/javascript\">require([\"plotly\"], function(Plotly) { window.PLOTLYENV=window.PLOTLYENV || {};window.PLOTLYENV.BASE_URL=\"https://plot.ly\";Plotly.newPlot(\"473e1254-29f4-4849-a3f9-df87a27846d9\", [{\"line\": {\"dash\": \"solid\"}, \"name\": \"\\u5b8c\\u6210\\u9879\\u76ee\\u603b\\u6570(\\u5206\\u6790\\u4e00\\u7ec4)\", \"x\": [8, 9], \"y\": [95, 35], \"type\": \"scatter\", \"uid\": \"6f0e943c-c647-11e8-a0cc-a81e84e6c740\"}, {\"line\": {\"dash\": \"dot\"}, \"name\": \"\\u5b8c\\u6210\\u9879\\u76ee\\u603b\\u6570(\\u4e2a\\u6027\\u5316\\u7ec4)\", \"x\": [8, 9], \"y\": [57, 46], \"type\": \"scatter\", \"uid\": \"6f0e9af4-c647-11e8-a0cc-a81e84e6c740\"}, {\"line\": {\"dash\": \"dash\"}, \"name\": \"\\u5b8c\\u6210\\u9879\\u76ee\\u603b\\u6570(\\u5206\\u6790\\u4e8c\\u7ec4)\", \"x\": [8, 9], \"y\": [95, 120], \"type\": \"scatter\", \"uid\": \"6f0e9e14-c647-11e8-a0cc-a81e84e6c740\"}, {\"line\": {\"dash\": \"solid\"}, \"name\": \"\\u5728\\u7ebf\\u9879\\u76ee\\u603b\\u6570(\\u5206\\u6790\\u4e00\\u7ec4)\", \"x\": [8, 9], \"y\": [104, 41], \"type\": \"scatter\", \"uid\": \"6f0ea080-c647-11e8-a0cc-a81e84e6c740\"}, {\"line\": {\"dash\": \"dot\"}, \"name\": \"\\u5728\\u7ebf\\u9879\\u76ee\\u603b\\u6570(\\u4e2a\\u6027\\u5316\\u7ec4)\", \"x\": [8, 9], \"y\": [69, 30], \"type\": \"scatter\", \"uid\": \"6f0ea2a6-c647-11e8-a0cc-a81e84e6c740\"}, {\"line\": {\"dash\": \"dash\"}, \"name\": \"\\u5728\\u7ebf\\u9879\\u76ee\\u603b\\u6570(\\u5206\\u6790\\u4e8c\\u7ec4)\", \"x\": [8, 9], \"y\": [176, 129], \"type\": \"scatter\", \"uid\": \"6f0ea4cc-c647-11e8-a0cc-a81e84e6c740\"}], {\"title\": \"\\u5b8c\\u6210\\u9879\\u76ee\\u603b\\u6570&\\u5728\\u7ebf\\u9879\\u76ee\\u603b\\u6570\\u6708\\u8d8b\\u52bf\\u56fe\", \"xaxis\": {\"mirror\": \"all\", \"nticks\": 20, \"showgrid\": true, \"showline\": true, \"title\": \"\\u6708\", \"zeroline\": true}, \"yaxis\": {\"mirror\": \"all\", \"nticks\": 20, \"showgrid\": true, \"showline\": true, \"title\": \"\\u5b8c\\u6210\\u9879\\u76ee\\u603b\\u6570&\\u5728\\u7ebf\\u9879\\u76ee\\u603b\\u6570\", \"zeroline\": true}}, {\"showLink\": true, \"linkText\": \"Export to plot.ly\"})});</script>"
      ],
      "text/vnd.plotly.v1+html": [
       "<div id=\"473e1254-29f4-4849-a3f9-df87a27846d9\" style=\"height: 525px; width: 100%;\" class=\"plotly-graph-div\"></div><script type=\"text/javascript\">require([\"plotly\"], function(Plotly) { window.PLOTLYENV=window.PLOTLYENV || {};window.PLOTLYENV.BASE_URL=\"https://plot.ly\";Plotly.newPlot(\"473e1254-29f4-4849-a3f9-df87a27846d9\", [{\"line\": {\"dash\": \"solid\"}, \"name\": \"\\u5b8c\\u6210\\u9879\\u76ee\\u603b\\u6570(\\u5206\\u6790\\u4e00\\u7ec4)\", \"x\": [8, 9], \"y\": [95, 35], \"type\": \"scatter\", \"uid\": \"6f0e943c-c647-11e8-a0cc-a81e84e6c740\"}, {\"line\": {\"dash\": \"dot\"}, \"name\": \"\\u5b8c\\u6210\\u9879\\u76ee\\u603b\\u6570(\\u4e2a\\u6027\\u5316\\u7ec4)\", \"x\": [8, 9], \"y\": [57, 46], \"type\": \"scatter\", \"uid\": \"6f0e9af4-c647-11e8-a0cc-a81e84e6c740\"}, {\"line\": {\"dash\": \"dash\"}, \"name\": \"\\u5b8c\\u6210\\u9879\\u76ee\\u603b\\u6570(\\u5206\\u6790\\u4e8c\\u7ec4)\", \"x\": [8, 9], \"y\": [95, 120], \"type\": \"scatter\", \"uid\": \"6f0e9e14-c647-11e8-a0cc-a81e84e6c740\"}, {\"line\": {\"dash\": \"solid\"}, \"name\": \"\\u5728\\u7ebf\\u9879\\u76ee\\u603b\\u6570(\\u5206\\u6790\\u4e00\\u7ec4)\", \"x\": [8, 9], \"y\": [104, 41], \"type\": \"scatter\", \"uid\": \"6f0ea080-c647-11e8-a0cc-a81e84e6c740\"}, {\"line\": {\"dash\": \"dot\"}, \"name\": \"\\u5728\\u7ebf\\u9879\\u76ee\\u603b\\u6570(\\u4e2a\\u6027\\u5316\\u7ec4)\", \"x\": [8, 9], \"y\": [69, 30], \"type\": \"scatter\", \"uid\": \"6f0ea2a6-c647-11e8-a0cc-a81e84e6c740\"}, {\"line\": {\"dash\": \"dash\"}, \"name\": \"\\u5728\\u7ebf\\u9879\\u76ee\\u603b\\u6570(\\u5206\\u6790\\u4e8c\\u7ec4)\", \"x\": [8, 9], \"y\": [176, 129], \"type\": \"scatter\", \"uid\": \"6f0ea4cc-c647-11e8-a0cc-a81e84e6c740\"}], {\"title\": \"\\u5b8c\\u6210\\u9879\\u76ee\\u603b\\u6570&\\u5728\\u7ebf\\u9879\\u76ee\\u603b\\u6570\\u6708\\u8d8b\\u52bf\\u56fe\", \"xaxis\": {\"mirror\": \"all\", \"nticks\": 20, \"showgrid\": true, \"showline\": true, \"title\": \"\\u6708\", \"zeroline\": true}, \"yaxis\": {\"mirror\": \"all\", \"nticks\": 20, \"showgrid\": true, \"showline\": true, \"title\": \"\\u5b8c\\u6210\\u9879\\u76ee\\u603b\\u6570&\\u5728\\u7ebf\\u9879\\u76ee\\u603b\\u6570\", \"zeroline\": true}}, {\"showLink\": true, \"linkText\": \"Export to plot.ly\"})});</script>"
      ]
     },
     "metadata": {},
     "output_type": "display_data"
    }
   ],
   "source": [
    "ss = myModule.format(all_df1 ,\"日期（格式“月-周次”）\" ,['在线项目总数' ])\n",
    "ss.add_group('组别')\n",
    "#ss.get_average_by('人员')\n",
    "myModule.myPlot(ss.groupby('sum')).plot('line')\n",
    "ss = myModule.format(all_df1 ,\"month\" ,['完成项目总数','在线项目总数'])\n",
    "ss.add_group('组别')\n",
    "#ss.get_average_by('人员')\n",
    "myModule.myPlot(ss.groupby('sum')).plot('line','月')"
   ]
  },
  {
   "cell_type": "markdown",
   "metadata": {},
   "source": [
    "### 人均在线项目情况"
   ]
  },
  {
   "cell_type": "code",
   "execution_count": 71,
   "metadata": {},
   "outputs": [
    {
     "data": {
      "application/vnd.plotly.v1+json": {
       "data": [
        {
         "line": {
          "dash": "solid"
         },
         "name": "在线项目总数(分析一组)",
         "type": "scatter",
         "uid": "85881986-c647-11e8-a0cc-a81e84e6c740",
         "x": [
          "8-1",
          "8-2",
          "8-3",
          "8-4",
          "9-1",
          "9-2",
          "9-3"
         ],
         "y": [
          9,
          7,
          4.75,
          5.25,
          4.25,
          3,
          3
         ]
        },
        {
         "line": {
          "dash": "dot"
         },
         "name": "在线项目总数(个性化组)",
         "type": "scatter",
         "uid": "85881cd8-c647-11e8-a0cc-a81e84e6c740",
         "x": [
          "8-1",
          "8-2",
          "8-3",
          "8-4",
          "9-1",
          "9-2",
          "9-3"
         ],
         "y": [
          5.25,
          4.75,
          3,
          4.25,
          3.75,
          3.25,
          0.5
         ]
        },
        {
         "line": {
          "dash": "dash"
         },
         "name": "在线项目总数(分析二组)",
         "type": "scatter",
         "uid": "85881f3a-c647-11e8-a0cc-a81e84e6c740",
         "x": [
          "8-1",
          "8-2",
          "8-3",
          "8-4",
          "9-1",
          "9-2",
          "9-3"
         ],
         "y": [
          3.4545454545454546,
          4.2,
          4.3,
          5.3,
          5.7,
          4,
          3.2
         ]
        }
       ],
       "layout": {
        "title": "在线项目总数周趋势图",
        "xaxis": {
         "mirror": "all",
         "nticks": 20,
         "showgrid": true,
         "showline": true,
         "title": "周",
         "zeroline": true
        },
        "yaxis": {
         "mirror": "all",
         "nticks": 20,
         "showgrid": true,
         "showline": true,
         "title": "在线项目总数",
         "zeroline": true
        }
       }
      },
      "text/html": [
       "<div id=\"828749e7-f644-4082-9405-8825bf2c83b0\" style=\"height: 525px; width: 100%;\" class=\"plotly-graph-div\"></div><script type=\"text/javascript\">require([\"plotly\"], function(Plotly) { window.PLOTLYENV=window.PLOTLYENV || {};window.PLOTLYENV.BASE_URL=\"https://plot.ly\";Plotly.newPlot(\"828749e7-f644-4082-9405-8825bf2c83b0\", [{\"line\": {\"dash\": \"solid\"}, \"name\": \"\\u5728\\u7ebf\\u9879\\u76ee\\u603b\\u6570(\\u5206\\u6790\\u4e00\\u7ec4)\", \"x\": [\"8-1\", \"8-2\", \"8-3\", \"8-4\", \"9-1\", \"9-2\", \"9-3\"], \"y\": [9.0, 7.0, 4.75, 5.25, 4.25, 3.0, 3.0], \"type\": \"scatter\", \"uid\": \"85881986-c647-11e8-a0cc-a81e84e6c740\"}, {\"line\": {\"dash\": \"dot\"}, \"name\": \"\\u5728\\u7ebf\\u9879\\u76ee\\u603b\\u6570(\\u4e2a\\u6027\\u5316\\u7ec4)\", \"x\": [\"8-1\", \"8-2\", \"8-3\", \"8-4\", \"9-1\", \"9-2\", \"9-3\"], \"y\": [5.25, 4.75, 3.0, 4.25, 3.75, 3.25, 0.5], \"type\": \"scatter\", \"uid\": \"85881cd8-c647-11e8-a0cc-a81e84e6c740\"}, {\"line\": {\"dash\": \"dash\"}, \"name\": \"\\u5728\\u7ebf\\u9879\\u76ee\\u603b\\u6570(\\u5206\\u6790\\u4e8c\\u7ec4)\", \"x\": [\"8-1\", \"8-2\", \"8-3\", \"8-4\", \"9-1\", \"9-2\", \"9-3\"], \"y\": [3.4545454545454546, 4.2, 4.3, 5.3, 5.7, 4.0, 3.2], \"type\": \"scatter\", \"uid\": \"85881f3a-c647-11e8-a0cc-a81e84e6c740\"}], {\"title\": \"\\u5728\\u7ebf\\u9879\\u76ee\\u603b\\u6570\\u5468\\u8d8b\\u52bf\\u56fe\", \"xaxis\": {\"mirror\": \"all\", \"nticks\": 20, \"showgrid\": true, \"showline\": true, \"title\": \"\\u5468\", \"zeroline\": true}, \"yaxis\": {\"mirror\": \"all\", \"nticks\": 20, \"showgrid\": true, \"showline\": true, \"title\": \"\\u5728\\u7ebf\\u9879\\u76ee\\u603b\\u6570\", \"zeroline\": true}}, {\"showLink\": true, \"linkText\": \"Export to plot.ly\"})});</script>"
      ],
      "text/vnd.plotly.v1+html": [
       "<div id=\"828749e7-f644-4082-9405-8825bf2c83b0\" style=\"height: 525px; width: 100%;\" class=\"plotly-graph-div\"></div><script type=\"text/javascript\">require([\"plotly\"], function(Plotly) { window.PLOTLYENV=window.PLOTLYENV || {};window.PLOTLYENV.BASE_URL=\"https://plot.ly\";Plotly.newPlot(\"828749e7-f644-4082-9405-8825bf2c83b0\", [{\"line\": {\"dash\": \"solid\"}, \"name\": \"\\u5728\\u7ebf\\u9879\\u76ee\\u603b\\u6570(\\u5206\\u6790\\u4e00\\u7ec4)\", \"x\": [\"8-1\", \"8-2\", \"8-3\", \"8-4\", \"9-1\", \"9-2\", \"9-3\"], \"y\": [9.0, 7.0, 4.75, 5.25, 4.25, 3.0, 3.0], \"type\": \"scatter\", \"uid\": \"85881986-c647-11e8-a0cc-a81e84e6c740\"}, {\"line\": {\"dash\": \"dot\"}, \"name\": \"\\u5728\\u7ebf\\u9879\\u76ee\\u603b\\u6570(\\u4e2a\\u6027\\u5316\\u7ec4)\", \"x\": [\"8-1\", \"8-2\", \"8-3\", \"8-4\", \"9-1\", \"9-2\", \"9-3\"], \"y\": [5.25, 4.75, 3.0, 4.25, 3.75, 3.25, 0.5], \"type\": \"scatter\", \"uid\": \"85881cd8-c647-11e8-a0cc-a81e84e6c740\"}, {\"line\": {\"dash\": \"dash\"}, \"name\": \"\\u5728\\u7ebf\\u9879\\u76ee\\u603b\\u6570(\\u5206\\u6790\\u4e8c\\u7ec4)\", \"x\": [\"8-1\", \"8-2\", \"8-3\", \"8-4\", \"9-1\", \"9-2\", \"9-3\"], \"y\": [3.4545454545454546, 4.2, 4.3, 5.3, 5.7, 4.0, 3.2], \"type\": \"scatter\", \"uid\": \"85881f3a-c647-11e8-a0cc-a81e84e6c740\"}], {\"title\": \"\\u5728\\u7ebf\\u9879\\u76ee\\u603b\\u6570\\u5468\\u8d8b\\u52bf\\u56fe\", \"xaxis\": {\"mirror\": \"all\", \"nticks\": 20, \"showgrid\": true, \"showline\": true, \"title\": \"\\u5468\", \"zeroline\": true}, \"yaxis\": {\"mirror\": \"all\", \"nticks\": 20, \"showgrid\": true, \"showline\": true, \"title\": \"\\u5728\\u7ebf\\u9879\\u76ee\\u603b\\u6570\", \"zeroline\": true}}, {\"showLink\": true, \"linkText\": \"Export to plot.ly\"})});</script>"
      ]
     },
     "metadata": {},
     "output_type": "display_data"
    },
    {
     "data": {
      "application/vnd.plotly.v1+json": {
       "data": [
        {
         "line": {
          "dash": "solid"
         },
         "name": "完成项目总数(分析一组)",
         "type": "scatter",
         "uid": "859fa89e-c647-11e8-a0cc-a81e84e6c740",
         "x": [
          8,
          9
         ],
         "y": [
          23.75,
          8.75
         ]
        },
        {
         "line": {
          "dash": "dot"
         },
         "name": "完成项目总数(个性化组)",
         "type": "scatter",
         "uid": "859fabbe-c647-11e8-a0cc-a81e84e6c740",
         "x": [
          8,
          9
         ],
         "y": [
          14.25,
          11.5
         ]
        },
        {
         "line": {
          "dash": "dash"
         },
         "name": "完成项目总数(分析二组)",
         "type": "scatter",
         "uid": "859fae20-c647-11e8-a0cc-a81e84e6c740",
         "x": [
          8,
          9
         ],
         "y": [
          8.636363636363637,
          12
         ]
        },
        {
         "line": {
          "dash": "solid"
         },
         "name": "在线项目总数(分析一组)",
         "type": "scatter",
         "uid": "859fb028-c647-11e8-a0cc-a81e84e6c740",
         "x": [
          8,
          9
         ],
         "y": [
          26,
          10.25
         ]
        },
        {
         "line": {
          "dash": "dot"
         },
         "name": "在线项目总数(个性化组)",
         "type": "scatter",
         "uid": "859fb226-c647-11e8-a0cc-a81e84e6c740",
         "x": [
          8,
          9
         ],
         "y": [
          17.25,
          7.5
         ]
        },
        {
         "line": {
          "dash": "dash"
         },
         "name": "在线项目总数(分析二组)",
         "type": "scatter",
         "uid": "859fb41a-c647-11e8-a0cc-a81e84e6c740",
         "x": [
          8,
          9
         ],
         "y": [
          16,
          12.9
         ]
        }
       ],
       "layout": {
        "title": "完成项目总数&在线项目总数月趋势图",
        "xaxis": {
         "mirror": "all",
         "nticks": 20,
         "showgrid": true,
         "showline": true,
         "title": "月",
         "zeroline": true
        },
        "yaxis": {
         "mirror": "all",
         "nticks": 20,
         "showgrid": true,
         "showline": true,
         "title": "完成项目总数&在线项目总数",
         "zeroline": true
        }
       }
      },
      "text/html": [
       "<div id=\"c172ef8c-f44d-494a-b7c6-94687b60fe53\" style=\"height: 525px; width: 100%;\" class=\"plotly-graph-div\"></div><script type=\"text/javascript\">require([\"plotly\"], function(Plotly) { window.PLOTLYENV=window.PLOTLYENV || {};window.PLOTLYENV.BASE_URL=\"https://plot.ly\";Plotly.newPlot(\"c172ef8c-f44d-494a-b7c6-94687b60fe53\", [{\"line\": {\"dash\": \"solid\"}, \"name\": \"\\u5b8c\\u6210\\u9879\\u76ee\\u603b\\u6570(\\u5206\\u6790\\u4e00\\u7ec4)\", \"x\": [8, 9], \"y\": [23.75, 8.75], \"type\": \"scatter\", \"uid\": \"859fa89e-c647-11e8-a0cc-a81e84e6c740\"}, {\"line\": {\"dash\": \"dot\"}, \"name\": \"\\u5b8c\\u6210\\u9879\\u76ee\\u603b\\u6570(\\u4e2a\\u6027\\u5316\\u7ec4)\", \"x\": [8, 9], \"y\": [14.25, 11.5], \"type\": \"scatter\", \"uid\": \"859fabbe-c647-11e8-a0cc-a81e84e6c740\"}, {\"line\": {\"dash\": \"dash\"}, \"name\": \"\\u5b8c\\u6210\\u9879\\u76ee\\u603b\\u6570(\\u5206\\u6790\\u4e8c\\u7ec4)\", \"x\": [8, 9], \"y\": [8.636363636363637, 12.0], \"type\": \"scatter\", \"uid\": \"859fae20-c647-11e8-a0cc-a81e84e6c740\"}, {\"line\": {\"dash\": \"solid\"}, \"name\": \"\\u5728\\u7ebf\\u9879\\u76ee\\u603b\\u6570(\\u5206\\u6790\\u4e00\\u7ec4)\", \"x\": [8, 9], \"y\": [26.0, 10.25], \"type\": \"scatter\", \"uid\": \"859fb028-c647-11e8-a0cc-a81e84e6c740\"}, {\"line\": {\"dash\": \"dot\"}, \"name\": \"\\u5728\\u7ebf\\u9879\\u76ee\\u603b\\u6570(\\u4e2a\\u6027\\u5316\\u7ec4)\", \"x\": [8, 9], \"y\": [17.25, 7.5], \"type\": \"scatter\", \"uid\": \"859fb226-c647-11e8-a0cc-a81e84e6c740\"}, {\"line\": {\"dash\": \"dash\"}, \"name\": \"\\u5728\\u7ebf\\u9879\\u76ee\\u603b\\u6570(\\u5206\\u6790\\u4e8c\\u7ec4)\", \"x\": [8, 9], \"y\": [16.0, 12.9], \"type\": \"scatter\", \"uid\": \"859fb41a-c647-11e8-a0cc-a81e84e6c740\"}], {\"title\": \"\\u5b8c\\u6210\\u9879\\u76ee\\u603b\\u6570&\\u5728\\u7ebf\\u9879\\u76ee\\u603b\\u6570\\u6708\\u8d8b\\u52bf\\u56fe\", \"xaxis\": {\"mirror\": \"all\", \"nticks\": 20, \"showgrid\": true, \"showline\": true, \"title\": \"\\u6708\", \"zeroline\": true}, \"yaxis\": {\"mirror\": \"all\", \"nticks\": 20, \"showgrid\": true, \"showline\": true, \"title\": \"\\u5b8c\\u6210\\u9879\\u76ee\\u603b\\u6570&\\u5728\\u7ebf\\u9879\\u76ee\\u603b\\u6570\", \"zeroline\": true}}, {\"showLink\": true, \"linkText\": \"Export to plot.ly\"})});</script>"
      ],
      "text/vnd.plotly.v1+html": [
       "<div id=\"c172ef8c-f44d-494a-b7c6-94687b60fe53\" style=\"height: 525px; width: 100%;\" class=\"plotly-graph-div\"></div><script type=\"text/javascript\">require([\"plotly\"], function(Plotly) { window.PLOTLYENV=window.PLOTLYENV || {};window.PLOTLYENV.BASE_URL=\"https://plot.ly\";Plotly.newPlot(\"c172ef8c-f44d-494a-b7c6-94687b60fe53\", [{\"line\": {\"dash\": \"solid\"}, \"name\": \"\\u5b8c\\u6210\\u9879\\u76ee\\u603b\\u6570(\\u5206\\u6790\\u4e00\\u7ec4)\", \"x\": [8, 9], \"y\": [23.75, 8.75], \"type\": \"scatter\", \"uid\": \"859fa89e-c647-11e8-a0cc-a81e84e6c740\"}, {\"line\": {\"dash\": \"dot\"}, \"name\": \"\\u5b8c\\u6210\\u9879\\u76ee\\u603b\\u6570(\\u4e2a\\u6027\\u5316\\u7ec4)\", \"x\": [8, 9], \"y\": [14.25, 11.5], \"type\": \"scatter\", \"uid\": \"859fabbe-c647-11e8-a0cc-a81e84e6c740\"}, {\"line\": {\"dash\": \"dash\"}, \"name\": \"\\u5b8c\\u6210\\u9879\\u76ee\\u603b\\u6570(\\u5206\\u6790\\u4e8c\\u7ec4)\", \"x\": [8, 9], \"y\": [8.636363636363637, 12.0], \"type\": \"scatter\", \"uid\": \"859fae20-c647-11e8-a0cc-a81e84e6c740\"}, {\"line\": {\"dash\": \"solid\"}, \"name\": \"\\u5728\\u7ebf\\u9879\\u76ee\\u603b\\u6570(\\u5206\\u6790\\u4e00\\u7ec4)\", \"x\": [8, 9], \"y\": [26.0, 10.25], \"type\": \"scatter\", \"uid\": \"859fb028-c647-11e8-a0cc-a81e84e6c740\"}, {\"line\": {\"dash\": \"dot\"}, \"name\": \"\\u5728\\u7ebf\\u9879\\u76ee\\u603b\\u6570(\\u4e2a\\u6027\\u5316\\u7ec4)\", \"x\": [8, 9], \"y\": [17.25, 7.5], \"type\": \"scatter\", \"uid\": \"859fb226-c647-11e8-a0cc-a81e84e6c740\"}, {\"line\": {\"dash\": \"dash\"}, \"name\": \"\\u5728\\u7ebf\\u9879\\u76ee\\u603b\\u6570(\\u5206\\u6790\\u4e8c\\u7ec4)\", \"x\": [8, 9], \"y\": [16.0, 12.9], \"type\": \"scatter\", \"uid\": \"859fb41a-c647-11e8-a0cc-a81e84e6c740\"}], {\"title\": \"\\u5b8c\\u6210\\u9879\\u76ee\\u603b\\u6570&\\u5728\\u7ebf\\u9879\\u76ee\\u603b\\u6570\\u6708\\u8d8b\\u52bf\\u56fe\", \"xaxis\": {\"mirror\": \"all\", \"nticks\": 20, \"showgrid\": true, \"showline\": true, \"title\": \"\\u6708\", \"zeroline\": true}, \"yaxis\": {\"mirror\": \"all\", \"nticks\": 20, \"showgrid\": true, \"showline\": true, \"title\": \"\\u5b8c\\u6210\\u9879\\u76ee\\u603b\\u6570&\\u5728\\u7ebf\\u9879\\u76ee\\u603b\\u6570\", \"zeroline\": true}}, {\"showLink\": true, \"linkText\": \"Export to plot.ly\"})});</script>"
      ]
     },
     "metadata": {},
     "output_type": "display_data"
    }
   ],
   "source": [
    "ss = myModule.format(all_df1 ,\"日期（格式“月-周次”）\" ,['在线项目总数' ])\n",
    "ss.add_group('组别')\n",
    "ss.get_average_by('人员')\n",
    "myModule.myPlot(ss.groupby('sum')).plot('line')\n",
    "ss = myModule.format(all_df1 ,\"month\" ,['完成项目总数','在线项目总数'])\n",
    "ss.add_group('组别')\n",
    "ss.get_average_by('人员')\n",
    "myModule.myPlot(ss.groupby('sum')).plot('line','月')"
   ]
  },
  {
   "cell_type": "markdown",
   "metadata": {},
   "source": [
    "## 未下机商业项目数"
   ]
  },
  {
   "cell_type": "code",
   "execution_count": 88,
   "metadata": {},
   "outputs": [
    {
     "data": {
      "application/vnd.plotly.v1+json": {
       "data": [
        {
         "name": "未下机项目数",
         "type": "scatter",
         "uid": "4ffdfea0-c559-11e8-97d0-a81e84e6c740",
         "x": [
          "8-1",
          "8-2",
          "8-3",
          "8-4",
          "9-1",
          "9-2",
          "9-3"
         ],
         "y": [
          113,
          127,
          144,
          154,
          130,
          115,
          121
         ]
        }
       ],
       "layout": {
        "title": "未下机项目数周趋势图",
        "xaxis": {
         "mirror": "all",
         "nticks": 20,
         "showgrid": true,
         "showline": true,
         "title": "周",
         "zeroline": true
        },
        "yaxis": {
         "mirror": "all",
         "nticks": 20,
         "showgrid": true,
         "showline": true,
         "title": "未下机项目数",
         "zeroline": true
        }
       }
      },
      "text/html": [
       "<div id=\"b2be9da1-c46f-49d2-be10-c0708634eb2b\" style=\"height: 525px; width: 100%;\" class=\"plotly-graph-div\"></div><script type=\"text/javascript\">require([\"plotly\"], function(Plotly) { window.PLOTLYENV=window.PLOTLYENV || {};window.PLOTLYENV.BASE_URL=\"https://plot.ly\";Plotly.newPlot(\"b2be9da1-c46f-49d2-be10-c0708634eb2b\", [{\"name\": \"\\u672a\\u4e0b\\u673a\\u9879\\u76ee\\u6570\", \"x\": [\"8-1\", \"8-2\", \"8-3\", \"8-4\", \"9-1\", \"9-2\", \"9-3\"], \"y\": [113.0, 127.0, 144.0, 154.0, 130.0, 115.0, 121.0], \"type\": \"scatter\", \"uid\": \"4ffdfea0-c559-11e8-97d0-a81e84e6c740\"}], {\"title\": \"\\u672a\\u4e0b\\u673a\\u9879\\u76ee\\u6570\\u5468\\u8d8b\\u52bf\\u56fe\", \"xaxis\": {\"mirror\": \"all\", \"nticks\": 20, \"showgrid\": true, \"showline\": true, \"title\": \"\\u5468\", \"zeroline\": true}, \"yaxis\": {\"mirror\": \"all\", \"nticks\": 20, \"showgrid\": true, \"showline\": true, \"title\": \"\\u672a\\u4e0b\\u673a\\u9879\\u76ee\\u6570\", \"zeroline\": true}}, {\"showLink\": true, \"linkText\": \"Export to plot.ly\"})});</script>"
      ],
      "text/vnd.plotly.v1+html": [
       "<div id=\"b2be9da1-c46f-49d2-be10-c0708634eb2b\" style=\"height: 525px; width: 100%;\" class=\"plotly-graph-div\"></div><script type=\"text/javascript\">require([\"plotly\"], function(Plotly) { window.PLOTLYENV=window.PLOTLYENV || {};window.PLOTLYENV.BASE_URL=\"https://plot.ly\";Plotly.newPlot(\"b2be9da1-c46f-49d2-be10-c0708634eb2b\", [{\"name\": \"\\u672a\\u4e0b\\u673a\\u9879\\u76ee\\u6570\", \"x\": [\"8-1\", \"8-2\", \"8-3\", \"8-4\", \"9-1\", \"9-2\", \"9-3\"], \"y\": [113.0, 127.0, 144.0, 154.0, 130.0, 115.0, 121.0], \"type\": \"scatter\", \"uid\": \"4ffdfea0-c559-11e8-97d0-a81e84e6c740\"}], {\"title\": \"\\u672a\\u4e0b\\u673a\\u9879\\u76ee\\u6570\\u5468\\u8d8b\\u52bf\\u56fe\", \"xaxis\": {\"mirror\": \"all\", \"nticks\": 20, \"showgrid\": true, \"showline\": true, \"title\": \"\\u5468\", \"zeroline\": true}, \"yaxis\": {\"mirror\": \"all\", \"nticks\": 20, \"showgrid\": true, \"showline\": true, \"title\": \"\\u672a\\u4e0b\\u673a\\u9879\\u76ee\\u6570\", \"zeroline\": true}}, {\"showLink\": true, \"linkText\": \"Export to plot.ly\"})});</script>"
      ]
     },
     "metadata": {},
     "output_type": "display_data"
    }
   ],
   "source": [
    "data_dict = {'未下机项目数':['未下机项目数']}\n",
    "myModule.plot( all_dict2, data_dict, '人员','line' ,time_list = time_list, total=True)"
   ]
  },
  {
   "cell_type": "markdown",
   "metadata": {},
   "source": [
    "# 项目质量情况"
   ]
  },
  {
   "cell_type": "markdown",
   "metadata": {},
   "source": [
    "## 项目周期情况"
   ]
  },
  {
   "cell_type": "markdown",
   "metadata": {},
   "source": [
    "### 延期项目数"
   ]
  },
  {
   "cell_type": "code",
   "execution_count": 89,
   "metadata": {},
   "outputs": [
    {
     "data": {
      "application/vnd.plotly.v1+json": {
       "data": [
        {
         "name": "延期商业项目数",
         "type": "bar",
         "uid": "501ebc62-c559-11e8-97d0-a81e84e6c740",
         "x": [
          "8-1",
          "8-2",
          "8-3",
          "8-4",
          "9-1",
          "9-2",
          "9-3"
         ],
         "y": [
          0,
          0,
          1,
          1,
          0,
          0,
          1
         ]
        },
        {
         "name": "延期个性化项目数",
         "type": "bar",
         "uid": "501ebfb4-c559-11e8-97d0-a81e84e6c740",
         "x": [
          "8-1",
          "8-2",
          "8-3",
          "8-4",
          "9-1",
          "9-2",
          "9-3"
         ],
         "y": [
          0,
          1,
          2,
          2,
          3,
          0,
          0
         ]
        }
       ],
       "layout": {
        "barmode": "stack",
        "title": "延期商业项目数&延期个性化项目数周趋势图",
        "xaxis": {
         "mirror": "all",
         "nticks": 20,
         "showgrid": true,
         "showline": true,
         "title": "周",
         "zeroline": true
        },
        "yaxis": {
         "mirror": "all",
         "nticks": 20,
         "showgrid": true,
         "showline": true,
         "title": "延期商业项目数&延期个性化项目数",
         "zeroline": true
        }
       }
      },
      "text/html": [
       "<div id=\"412ad5de-0c25-4685-83c7-0bda7600a8fe\" style=\"height: 525px; width: 100%;\" class=\"plotly-graph-div\"></div><script type=\"text/javascript\">require([\"plotly\"], function(Plotly) { window.PLOTLYENV=window.PLOTLYENV || {};window.PLOTLYENV.BASE_URL=\"https://plot.ly\";Plotly.newPlot(\"412ad5de-0c25-4685-83c7-0bda7600a8fe\", [{\"name\": \"\\u5ef6\\u671f\\u5546\\u4e1a\\u9879\\u76ee\\u6570\", \"x\": [\"8-1\", \"8-2\", \"8-3\", \"8-4\", \"9-1\", \"9-2\", \"9-3\"], \"y\": [0.0, 0.0, 1.0, 1.0, 0.0, 0.0, 1.0], \"type\": \"bar\", \"uid\": \"501ebc62-c559-11e8-97d0-a81e84e6c740\"}, {\"name\": \"\\u5ef6\\u671f\\u4e2a\\u6027\\u5316\\u9879\\u76ee\\u6570\", \"x\": [\"8-1\", \"8-2\", \"8-3\", \"8-4\", \"9-1\", \"9-2\", \"9-3\"], \"y\": [0.0, 1.0, 2.0, 2.0, 3.0, 0.0, 0.0], \"type\": \"bar\", \"uid\": \"501ebfb4-c559-11e8-97d0-a81e84e6c740\"}], {\"barmode\": \"stack\", \"title\": \"\\u5ef6\\u671f\\u5546\\u4e1a\\u9879\\u76ee\\u6570&\\u5ef6\\u671f\\u4e2a\\u6027\\u5316\\u9879\\u76ee\\u6570\\u5468\\u8d8b\\u52bf\\u56fe\", \"xaxis\": {\"mirror\": \"all\", \"nticks\": 20, \"showgrid\": true, \"showline\": true, \"title\": \"\\u5468\", \"zeroline\": true}, \"yaxis\": {\"mirror\": \"all\", \"nticks\": 20, \"showgrid\": true, \"showline\": true, \"title\": \"\\u5ef6\\u671f\\u5546\\u4e1a\\u9879\\u76ee\\u6570&\\u5ef6\\u671f\\u4e2a\\u6027\\u5316\\u9879\\u76ee\\u6570\", \"zeroline\": true}}, {\"showLink\": true, \"linkText\": \"Export to plot.ly\"})});</script>"
      ],
      "text/vnd.plotly.v1+html": [
       "<div id=\"412ad5de-0c25-4685-83c7-0bda7600a8fe\" style=\"height: 525px; width: 100%;\" class=\"plotly-graph-div\"></div><script type=\"text/javascript\">require([\"plotly\"], function(Plotly) { window.PLOTLYENV=window.PLOTLYENV || {};window.PLOTLYENV.BASE_URL=\"https://plot.ly\";Plotly.newPlot(\"412ad5de-0c25-4685-83c7-0bda7600a8fe\", [{\"name\": \"\\u5ef6\\u671f\\u5546\\u4e1a\\u9879\\u76ee\\u6570\", \"x\": [\"8-1\", \"8-2\", \"8-3\", \"8-4\", \"9-1\", \"9-2\", \"9-3\"], \"y\": [0.0, 0.0, 1.0, 1.0, 0.0, 0.0, 1.0], \"type\": \"bar\", \"uid\": \"501ebc62-c559-11e8-97d0-a81e84e6c740\"}, {\"name\": \"\\u5ef6\\u671f\\u4e2a\\u6027\\u5316\\u9879\\u76ee\\u6570\", \"x\": [\"8-1\", \"8-2\", \"8-3\", \"8-4\", \"9-1\", \"9-2\", \"9-3\"], \"y\": [0.0, 1.0, 2.0, 2.0, 3.0, 0.0, 0.0], \"type\": \"bar\", \"uid\": \"501ebfb4-c559-11e8-97d0-a81e84e6c740\"}], {\"barmode\": \"stack\", \"title\": \"\\u5ef6\\u671f\\u5546\\u4e1a\\u9879\\u76ee\\u6570&\\u5ef6\\u671f\\u4e2a\\u6027\\u5316\\u9879\\u76ee\\u6570\\u5468\\u8d8b\\u52bf\\u56fe\", \"xaxis\": {\"mirror\": \"all\", \"nticks\": 20, \"showgrid\": true, \"showline\": true, \"title\": \"\\u5468\", \"zeroline\": true}, \"yaxis\": {\"mirror\": \"all\", \"nticks\": 20, \"showgrid\": true, \"showline\": true, \"title\": \"\\u5ef6\\u671f\\u5546\\u4e1a\\u9879\\u76ee\\u6570&\\u5ef6\\u671f\\u4e2a\\u6027\\u5316\\u9879\\u76ee\\u6570\", \"zeroline\": true}}, {\"showLink\": true, \"linkText\": \"Export to plot.ly\"})});</script>"
      ]
     },
     "metadata": {},
     "output_type": "display_data"
    },
    {
     "data": {
      "application/vnd.plotly.v1+json": {
       "data": [
        {
         "name": "个性化组_延期商业项目数",
         "type": "bar",
         "uid": "5041f812-c559-11e8-97d0-a81e84e6c740",
         "x": [
          "8-1",
          "8-2",
          "8-3",
          "8-4",
          "9-1",
          "9-2",
          "9-3"
         ],
         "y": [
          0,
          0,
          0,
          0,
          0,
          0,
          0
         ]
        },
        {
         "name": "个性化组_延期个性化项目数",
         "type": "bar",
         "uid": "5041feac-c559-11e8-97d0-a81e84e6c740",
         "x": [
          "8-1",
          "8-2",
          "8-3",
          "8-4",
          "9-1",
          "9-2",
          "9-3"
         ],
         "y": [
          0,
          1,
          2,
          0,
          2,
          0,
          0
         ]
        },
        {
         "name": "分析一组_延期商业项目数",
         "type": "bar",
         "uid": "50420258-c559-11e8-97d0-a81e84e6c740",
         "x": [
          "8-1",
          "8-2",
          "8-3",
          "8-4",
          "9-1",
          "9-2",
          "9-3"
         ],
         "y": [
          0,
          0,
          0,
          0,
          0,
          0,
          0
         ]
        },
        {
         "name": "分析一组_延期个性化项目数",
         "type": "bar",
         "uid": "5042085c-c559-11e8-97d0-a81e84e6c740",
         "x": [
          "8-1",
          "8-2",
          "8-3",
          "8-4",
          "9-1",
          "9-2",
          "9-3"
         ],
         "y": [
          0,
          0,
          0,
          0,
          0,
          0,
          0
         ]
        },
        {
         "name": "分析二组_延期商业项目数",
         "type": "bar",
         "uid": "50421054-c559-11e8-97d0-a81e84e6c740",
         "x": [
          "8-1",
          "8-2",
          "8-3",
          "8-4",
          "9-1",
          "9-2",
          "9-3"
         ],
         "y": [
          0,
          0,
          1,
          1,
          0,
          0,
          1
         ]
        },
        {
         "name": "分析二组_延期个性化项目数",
         "type": "bar",
         "uid": "50421856-c559-11e8-97d0-a81e84e6c740",
         "x": [
          "8-1",
          "8-2",
          "8-3",
          "8-4",
          "9-1",
          "9-2",
          "9-3"
         ],
         "y": [
          0,
          0,
          0,
          2,
          1,
          0,
          0
         ]
        }
       ],
       "layout": {
        "barmode": "stack",
        "title": "延期商业项目数&延期个性化项目数周趋势图",
        "xaxis": {
         "mirror": "all",
         "nticks": 20,
         "showgrid": true,
         "showline": true,
         "title": "周",
         "zeroline": true
        },
        "yaxis": {
         "mirror": "all",
         "nticks": 20,
         "showgrid": true,
         "showline": true,
         "title": "延期商业项目数&延期个性化项目数",
         "zeroline": true
        }
       }
      },
      "text/html": [
       "<div id=\"b13561db-9f65-4a47-94fd-7ed72c5dd11e\" style=\"height: 525px; width: 100%;\" class=\"plotly-graph-div\"></div><script type=\"text/javascript\">require([\"plotly\"], function(Plotly) { window.PLOTLYENV=window.PLOTLYENV || {};window.PLOTLYENV.BASE_URL=\"https://plot.ly\";Plotly.newPlot(\"b13561db-9f65-4a47-94fd-7ed72c5dd11e\", [{\"name\": \"\\u4e2a\\u6027\\u5316\\u7ec4_\\u5ef6\\u671f\\u5546\\u4e1a\\u9879\\u76ee\\u6570\", \"x\": [\"8-1\", \"8-2\", \"8-3\", \"8-4\", \"9-1\", \"9-2\", \"9-3\"], \"y\": [0.0, 0.0, 0.0, 0.0, 0.0, 0.0, 0.0], \"type\": \"bar\", \"uid\": \"5041f812-c559-11e8-97d0-a81e84e6c740\"}, {\"name\": \"\\u4e2a\\u6027\\u5316\\u7ec4_\\u5ef6\\u671f\\u4e2a\\u6027\\u5316\\u9879\\u76ee\\u6570\", \"x\": [\"8-1\", \"8-2\", \"8-3\", \"8-4\", \"9-1\", \"9-2\", \"9-3\"], \"y\": [0.0, 1.0, 2.0, 0.0, 2.0, 0.0, 0.0], \"type\": \"bar\", \"uid\": \"5041feac-c559-11e8-97d0-a81e84e6c740\"}, {\"name\": \"\\u5206\\u6790\\u4e00\\u7ec4_\\u5ef6\\u671f\\u5546\\u4e1a\\u9879\\u76ee\\u6570\", \"x\": [\"8-1\", \"8-2\", \"8-3\", \"8-4\", \"9-1\", \"9-2\", \"9-3\"], \"y\": [0.0, 0.0, 0.0, 0.0, 0.0, 0.0, 0.0], \"type\": \"bar\", \"uid\": \"50420258-c559-11e8-97d0-a81e84e6c740\"}, {\"name\": \"\\u5206\\u6790\\u4e00\\u7ec4_\\u5ef6\\u671f\\u4e2a\\u6027\\u5316\\u9879\\u76ee\\u6570\", \"x\": [\"8-1\", \"8-2\", \"8-3\", \"8-4\", \"9-1\", \"9-2\", \"9-3\"], \"y\": [0.0, 0.0, 0.0, 0.0, 0.0, 0.0, 0.0], \"type\": \"bar\", \"uid\": \"5042085c-c559-11e8-97d0-a81e84e6c740\"}, {\"name\": \"\\u5206\\u6790\\u4e8c\\u7ec4_\\u5ef6\\u671f\\u5546\\u4e1a\\u9879\\u76ee\\u6570\", \"x\": [\"8-1\", \"8-2\", \"8-3\", \"8-4\", \"9-1\", \"9-2\", \"9-3\"], \"y\": [0.0, 0.0, 1.0, 1.0, 0.0, 0.0, 1.0], \"type\": \"bar\", \"uid\": \"50421054-c559-11e8-97d0-a81e84e6c740\"}, {\"name\": \"\\u5206\\u6790\\u4e8c\\u7ec4_\\u5ef6\\u671f\\u4e2a\\u6027\\u5316\\u9879\\u76ee\\u6570\", \"x\": [\"8-1\", \"8-2\", \"8-3\", \"8-4\", \"9-1\", \"9-2\", \"9-3\"], \"y\": [0.0, 0.0, 0.0, 2.0, 1.0, 0.0, 0.0], \"type\": \"bar\", \"uid\": \"50421856-c559-11e8-97d0-a81e84e6c740\"}], {\"barmode\": \"stack\", \"title\": \"\\u5ef6\\u671f\\u5546\\u4e1a\\u9879\\u76ee\\u6570&\\u5ef6\\u671f\\u4e2a\\u6027\\u5316\\u9879\\u76ee\\u6570\\u5468\\u8d8b\\u52bf\\u56fe\", \"xaxis\": {\"mirror\": \"all\", \"nticks\": 20, \"showgrid\": true, \"showline\": true, \"title\": \"\\u5468\", \"zeroline\": true}, \"yaxis\": {\"mirror\": \"all\", \"nticks\": 20, \"showgrid\": true, \"showline\": true, \"title\": \"\\u5ef6\\u671f\\u5546\\u4e1a\\u9879\\u76ee\\u6570&\\u5ef6\\u671f\\u4e2a\\u6027\\u5316\\u9879\\u76ee\\u6570\", \"zeroline\": true}}, {\"showLink\": true, \"linkText\": \"Export to plot.ly\"})});</script>"
      ],
      "text/vnd.plotly.v1+html": [
       "<div id=\"b13561db-9f65-4a47-94fd-7ed72c5dd11e\" style=\"height: 525px; width: 100%;\" class=\"plotly-graph-div\"></div><script type=\"text/javascript\">require([\"plotly\"], function(Plotly) { window.PLOTLYENV=window.PLOTLYENV || {};window.PLOTLYENV.BASE_URL=\"https://plot.ly\";Plotly.newPlot(\"b13561db-9f65-4a47-94fd-7ed72c5dd11e\", [{\"name\": \"\\u4e2a\\u6027\\u5316\\u7ec4_\\u5ef6\\u671f\\u5546\\u4e1a\\u9879\\u76ee\\u6570\", \"x\": [\"8-1\", \"8-2\", \"8-3\", \"8-4\", \"9-1\", \"9-2\", \"9-3\"], \"y\": [0.0, 0.0, 0.0, 0.0, 0.0, 0.0, 0.0], \"type\": \"bar\", \"uid\": \"5041f812-c559-11e8-97d0-a81e84e6c740\"}, {\"name\": \"\\u4e2a\\u6027\\u5316\\u7ec4_\\u5ef6\\u671f\\u4e2a\\u6027\\u5316\\u9879\\u76ee\\u6570\", \"x\": [\"8-1\", \"8-2\", \"8-3\", \"8-4\", \"9-1\", \"9-2\", \"9-3\"], \"y\": [0.0, 1.0, 2.0, 0.0, 2.0, 0.0, 0.0], \"type\": \"bar\", \"uid\": \"5041feac-c559-11e8-97d0-a81e84e6c740\"}, {\"name\": \"\\u5206\\u6790\\u4e00\\u7ec4_\\u5ef6\\u671f\\u5546\\u4e1a\\u9879\\u76ee\\u6570\", \"x\": [\"8-1\", \"8-2\", \"8-3\", \"8-4\", \"9-1\", \"9-2\", \"9-3\"], \"y\": [0.0, 0.0, 0.0, 0.0, 0.0, 0.0, 0.0], \"type\": \"bar\", \"uid\": \"50420258-c559-11e8-97d0-a81e84e6c740\"}, {\"name\": \"\\u5206\\u6790\\u4e00\\u7ec4_\\u5ef6\\u671f\\u4e2a\\u6027\\u5316\\u9879\\u76ee\\u6570\", \"x\": [\"8-1\", \"8-2\", \"8-3\", \"8-4\", \"9-1\", \"9-2\", \"9-3\"], \"y\": [0.0, 0.0, 0.0, 0.0, 0.0, 0.0, 0.0], \"type\": \"bar\", \"uid\": \"5042085c-c559-11e8-97d0-a81e84e6c740\"}, {\"name\": \"\\u5206\\u6790\\u4e8c\\u7ec4_\\u5ef6\\u671f\\u5546\\u4e1a\\u9879\\u76ee\\u6570\", \"x\": [\"8-1\", \"8-2\", \"8-3\", \"8-4\", \"9-1\", \"9-2\", \"9-3\"], \"y\": [0.0, 0.0, 1.0, 1.0, 0.0, 0.0, 1.0], \"type\": \"bar\", \"uid\": \"50421054-c559-11e8-97d0-a81e84e6c740\"}, {\"name\": \"\\u5206\\u6790\\u4e8c\\u7ec4_\\u5ef6\\u671f\\u4e2a\\u6027\\u5316\\u9879\\u76ee\\u6570\", \"x\": [\"8-1\", \"8-2\", \"8-3\", \"8-4\", \"9-1\", \"9-2\", \"9-3\"], \"y\": [0.0, 0.0, 0.0, 2.0, 1.0, 0.0, 0.0], \"type\": \"bar\", \"uid\": \"50421856-c559-11e8-97d0-a81e84e6c740\"}], {\"barmode\": \"stack\", \"title\": \"\\u5ef6\\u671f\\u5546\\u4e1a\\u9879\\u76ee\\u6570&\\u5ef6\\u671f\\u4e2a\\u6027\\u5316\\u9879\\u76ee\\u6570\\u5468\\u8d8b\\u52bf\\u56fe\", \"xaxis\": {\"mirror\": \"all\", \"nticks\": 20, \"showgrid\": true, \"showline\": true, \"title\": \"\\u5468\", \"zeroline\": true}, \"yaxis\": {\"mirror\": \"all\", \"nticks\": 20, \"showgrid\": true, \"showline\": true, \"title\": \"\\u5ef6\\u671f\\u5546\\u4e1a\\u9879\\u76ee\\u6570&\\u5ef6\\u671f\\u4e2a\\u6027\\u5316\\u9879\\u76ee\\u6570\", \"zeroline\": true}}, {\"showLink\": true, \"linkText\": \"Export to plot.ly\"})});</script>"
      ]
     },
     "metadata": {},
     "output_type": "display_data"
    }
   ],
   "source": [
    "data_dict = {'延期商业项目数':['延期商业项目数'],'延期个性化项目数':['延期个性化项目数']}\n",
    "myModule.plot( all_dict, data_dict, '人员','stack_bar' , total=True, time_list = time_list)\n",
    "myModule.plot( all_dict, data_dict, '组别','stack_bar' ,time_list = time_list)"
   ]
  },
  {
   "cell_type": "markdown",
   "metadata": {},
   "source": [
    "### 项目执行延期率"
   ]
  },
  {
   "cell_type": "code",
   "execution_count": 90,
   "metadata": {},
   "outputs": [
    {
     "data": {
      "application/vnd.plotly.v1+json": {
       "data": [
        {
         "name": "商业项目延期率",
         "type": "scatter",
         "uid": "506a87a0-c559-11e8-97d0-a81e84e6c740",
         "x": [
          "8-1",
          "8-2",
          "8-3",
          "8-4",
          "9-1",
          "9-2",
          "9-3"
         ],
         "y": [
          0,
          0,
          0.04,
          0.03225806451612903,
          0,
          0,
          0.043478260869565216
         ]
        },
        {
         "name": "个性化项目延期率",
         "type": "scatter",
         "uid": "506a8c0a-c559-11e8-97d0-a81e84e6c740",
         "x": [
          "8-1",
          "8-2",
          "8-3",
          "8-4",
          "9-1",
          "9-2",
          "9-3"
         ],
         "y": [
          0,
          0.027777777777777776,
          0.07142857142857142,
          0.06060606060606061,
          0.08823529411764706,
          0,
          0
         ]
        },
        {
         "name": "总延期率",
         "type": "scatter",
         "uid": "506a8e9e-c559-11e8-97d0-a81e84e6c740",
         "x": [
          "8-1",
          "8-2",
          "8-3",
          "8-4",
          "9-1",
          "9-2",
          "9-3"
         ],
         "y": [
          0,
          0.013888888888888888,
          0.05660377358490566,
          0.046875,
          0.04918032786885246,
          0,
          0.015625
         ]
        }
       ],
       "layout": {
        "title": "商业项目延期率&个性化项目延期率&总延期率周趋势图",
        "xaxis": {
         "mirror": "all",
         "nticks": 20,
         "showgrid": true,
         "showline": true,
         "title": "周",
         "zeroline": true
        },
        "yaxis": {
         "mirror": "all",
         "nticks": 20,
         "showgrid": true,
         "showline": true,
         "title": "商业项目延期率&个性化项目延期率&总延期率",
         "zeroline": true
        }
       }
      },
      "text/html": [
       "<div id=\"e606b6bd-34fc-4a00-9815-7854d4620626\" style=\"height: 525px; width: 100%;\" class=\"plotly-graph-div\"></div><script type=\"text/javascript\">require([\"plotly\"], function(Plotly) { window.PLOTLYENV=window.PLOTLYENV || {};window.PLOTLYENV.BASE_URL=\"https://plot.ly\";Plotly.newPlot(\"e606b6bd-34fc-4a00-9815-7854d4620626\", [{\"name\": \"\\u5546\\u4e1a\\u9879\\u76ee\\u5ef6\\u671f\\u7387\", \"x\": [\"8-1\", \"8-2\", \"8-3\", \"8-4\", \"9-1\", \"9-2\", \"9-3\"], \"y\": [0.0, 0.0, 0.04, 0.03225806451612903, 0.0, 0.0, 0.043478260869565216], \"type\": \"scatter\", \"uid\": \"506a87a0-c559-11e8-97d0-a81e84e6c740\"}, {\"name\": \"\\u4e2a\\u6027\\u5316\\u9879\\u76ee\\u5ef6\\u671f\\u7387\", \"x\": [\"8-1\", \"8-2\", \"8-3\", \"8-4\", \"9-1\", \"9-2\", \"9-3\"], \"y\": [0.0, 0.027777777777777776, 0.07142857142857142, 0.06060606060606061, 0.08823529411764706, 0.0, 0.0], \"type\": \"scatter\", \"uid\": \"506a8c0a-c559-11e8-97d0-a81e84e6c740\"}, {\"name\": \"\\u603b\\u5ef6\\u671f\\u7387\", \"x\": [\"8-1\", \"8-2\", \"8-3\", \"8-4\", \"9-1\", \"9-2\", \"9-3\"], \"y\": [0.0, 0.013888888888888888, 0.05660377358490566, 0.046875, 0.04918032786885246, 0.0, 0.015625], \"type\": \"scatter\", \"uid\": \"506a8e9e-c559-11e8-97d0-a81e84e6c740\"}], {\"title\": \"\\u5546\\u4e1a\\u9879\\u76ee\\u5ef6\\u671f\\u7387&\\u4e2a\\u6027\\u5316\\u9879\\u76ee\\u5ef6\\u671f\\u7387&\\u603b\\u5ef6\\u671f\\u7387\\u5468\\u8d8b\\u52bf\\u56fe\", \"xaxis\": {\"mirror\": \"all\", \"nticks\": 20, \"showgrid\": true, \"showline\": true, \"title\": \"\\u5468\", \"zeroline\": true}, \"yaxis\": {\"mirror\": \"all\", \"nticks\": 20, \"showgrid\": true, \"showline\": true, \"title\": \"\\u5546\\u4e1a\\u9879\\u76ee\\u5ef6\\u671f\\u7387&\\u4e2a\\u6027\\u5316\\u9879\\u76ee\\u5ef6\\u671f\\u7387&\\u603b\\u5ef6\\u671f\\u7387\", \"zeroline\": true}}, {\"showLink\": true, \"linkText\": \"Export to plot.ly\"})});</script>"
      ],
      "text/vnd.plotly.v1+html": [
       "<div id=\"e606b6bd-34fc-4a00-9815-7854d4620626\" style=\"height: 525px; width: 100%;\" class=\"plotly-graph-div\"></div><script type=\"text/javascript\">require([\"plotly\"], function(Plotly) { window.PLOTLYENV=window.PLOTLYENV || {};window.PLOTLYENV.BASE_URL=\"https://plot.ly\";Plotly.newPlot(\"e606b6bd-34fc-4a00-9815-7854d4620626\", [{\"name\": \"\\u5546\\u4e1a\\u9879\\u76ee\\u5ef6\\u671f\\u7387\", \"x\": [\"8-1\", \"8-2\", \"8-3\", \"8-4\", \"9-1\", \"9-2\", \"9-3\"], \"y\": [0.0, 0.0, 0.04, 0.03225806451612903, 0.0, 0.0, 0.043478260869565216], \"type\": \"scatter\", \"uid\": \"506a87a0-c559-11e8-97d0-a81e84e6c740\"}, {\"name\": \"\\u4e2a\\u6027\\u5316\\u9879\\u76ee\\u5ef6\\u671f\\u7387\", \"x\": [\"8-1\", \"8-2\", \"8-3\", \"8-4\", \"9-1\", \"9-2\", \"9-3\"], \"y\": [0.0, 0.027777777777777776, 0.07142857142857142, 0.06060606060606061, 0.08823529411764706, 0.0, 0.0], \"type\": \"scatter\", \"uid\": \"506a8c0a-c559-11e8-97d0-a81e84e6c740\"}, {\"name\": \"\\u603b\\u5ef6\\u671f\\u7387\", \"x\": [\"8-1\", \"8-2\", \"8-3\", \"8-4\", \"9-1\", \"9-2\", \"9-3\"], \"y\": [0.0, 0.013888888888888888, 0.05660377358490566, 0.046875, 0.04918032786885246, 0.0, 0.015625], \"type\": \"scatter\", \"uid\": \"506a8e9e-c559-11e8-97d0-a81e84e6c740\"}], {\"title\": \"\\u5546\\u4e1a\\u9879\\u76ee\\u5ef6\\u671f\\u7387&\\u4e2a\\u6027\\u5316\\u9879\\u76ee\\u5ef6\\u671f\\u7387&\\u603b\\u5ef6\\u671f\\u7387\\u5468\\u8d8b\\u52bf\\u56fe\", \"xaxis\": {\"mirror\": \"all\", \"nticks\": 20, \"showgrid\": true, \"showline\": true, \"title\": \"\\u5468\", \"zeroline\": true}, \"yaxis\": {\"mirror\": \"all\", \"nticks\": 20, \"showgrid\": true, \"showline\": true, \"title\": \"\\u5546\\u4e1a\\u9879\\u76ee\\u5ef6\\u671f\\u7387&\\u4e2a\\u6027\\u5316\\u9879\\u76ee\\u5ef6\\u671f\\u7387&\\u603b\\u5ef6\\u671f\\u7387\", \"zeroline\": true}}, {\"showLink\": true, \"linkText\": \"Export to plot.ly\"})});</script>"
      ]
     },
     "metadata": {},
     "output_type": "display_data"
    },
    {
     "data": {
      "application/vnd.plotly.v1+json": {
       "data": [
        {
         "name": "个性化组_商业项目延期率",
         "type": "scatter",
         "uid": "5090ab92-c559-11e8-97d0-a81e84e6c740",
         "x": [
          "8-1",
          "8-2",
          "8-3",
          "8-4",
          "9-1",
          "9-2",
          "9-3"
         ],
         "y": [
          0,
          null,
          null,
          null,
          null,
          0,
          null
         ]
        },
        {
         "name": "个性化组_个性化项目延期率",
         "type": "scatter",
         "uid": "5090aed0-c559-11e8-97d0-a81e84e6c740",
         "x": [
          "8-1",
          "8-2",
          "8-3",
          "8-4",
          "9-1",
          "9-2",
          "9-3"
         ],
         "y": [
          0,
          0.05555555555555555,
          0.18181818181818182,
          0,
          0.1,
          0,
          0
         ]
        },
        {
         "name": "个性化组_总延期率",
         "type": "scatter",
         "uid": "5090b132-c559-11e8-97d0-a81e84e6c740",
         "x": [
          "8-1",
          "8-2",
          "8-3",
          "8-4",
          "9-1",
          "9-2",
          "9-3"
         ],
         "y": [
          0,
          0.05555555555555555,
          0.18181818181818182,
          0,
          0.1,
          0,
          0
         ]
        },
        {
         "name": "分析一组_商业项目延期率",
         "type": "scatter",
         "uid": "5090b34e-c559-11e8-97d0-a81e84e6c740",
         "x": [
          "8-1",
          "8-2",
          "8-3",
          "8-4",
          "9-1",
          "9-2",
          "9-3"
         ],
         "y": [
          0,
          0,
          0,
          0,
          0,
          0,
          0
         ]
        },
        {
         "name": "分析一组_个性化项目延期率",
         "type": "scatter",
         "uid": "5090b54c-c559-11e8-97d0-a81e84e6c740",
         "x": [
          "8-1",
          "8-2",
          "8-3",
          "8-4",
          "9-1",
          "9-2",
          "9-3"
         ],
         "y": [
          0,
          0,
          0,
          0,
          0,
          0,
          0
         ]
        },
        {
         "name": "分析一组_总延期率",
         "type": "scatter",
         "uid": "5090b74a-c559-11e8-97d0-a81e84e6c740",
         "x": [
          "8-1",
          "8-2",
          "8-3",
          "8-4",
          "9-1",
          "9-2",
          "9-3"
         ],
         "y": [
          0,
          0,
          0,
          0,
          0,
          0,
          0
         ]
        },
        {
         "name": "分析二组_商业项目延期率",
         "type": "scatter",
         "uid": "5090b93e-c559-11e8-97d0-a81e84e6c740",
         "x": [
          "8-1",
          "8-2",
          "8-3",
          "8-4",
          "9-1",
          "9-2",
          "9-3"
         ],
         "y": [
          0,
          0,
          0.06666666666666667,
          0.047619047619047616,
          0,
          0,
          0.05555555555555555
         ]
        },
        {
         "name": "分析二组_个性化项目延期率",
         "type": "scatter",
         "uid": "5090bb32-c559-11e8-97d0-a81e84e6c740",
         "x": [
          "8-1",
          "8-2",
          "8-3",
          "8-4",
          "9-1",
          "9-2",
          "9-3"
         ],
         "y": [
          0,
          0,
          0,
          0.18181818181818182,
          0.1111111111111111,
          0,
          0
         ]
        },
        {
         "name": "分析二组_总延期率",
         "type": "scatter",
         "uid": "5090bd30-c559-11e8-97d0-a81e84e6c740",
         "x": [
          "8-1",
          "8-2",
          "8-3",
          "8-4",
          "9-1",
          "9-2",
          "9-3"
         ],
         "y": [
          0,
          0,
          0.045454545454545456,
          0.09375,
          0.034482758620689655,
          0,
          0.023255813953488372
         ]
        }
       ],
       "layout": {
        "title": "商业项目延期率&个性化项目延期率&总延期率周趋势图",
        "xaxis": {
         "mirror": "all",
         "nticks": 20,
         "showgrid": true,
         "showline": true,
         "title": "周",
         "zeroline": true
        },
        "yaxis": {
         "mirror": "all",
         "nticks": 20,
         "showgrid": true,
         "showline": true,
         "title": "商业项目延期率&个性化项目延期率&总延期率",
         "zeroline": true
        }
       }
      },
      "text/html": [
       "<div id=\"7f9f1b0d-1575-4690-b46a-1c357640fd0e\" style=\"height: 525px; width: 100%;\" class=\"plotly-graph-div\"></div><script type=\"text/javascript\">require([\"plotly\"], function(Plotly) { window.PLOTLYENV=window.PLOTLYENV || {};window.PLOTLYENV.BASE_URL=\"https://plot.ly\";Plotly.newPlot(\"7f9f1b0d-1575-4690-b46a-1c357640fd0e\", [{\"name\": \"\\u4e2a\\u6027\\u5316\\u7ec4_\\u5546\\u4e1a\\u9879\\u76ee\\u5ef6\\u671f\\u7387\", \"x\": [\"8-1\", \"8-2\", \"8-3\", \"8-4\", \"9-1\", \"9-2\", \"9-3\"], \"y\": [0.0, null, null, null, null, 0.0, null], \"type\": \"scatter\", \"uid\": \"5090ab92-c559-11e8-97d0-a81e84e6c740\"}, {\"name\": \"\\u4e2a\\u6027\\u5316\\u7ec4_\\u4e2a\\u6027\\u5316\\u9879\\u76ee\\u5ef6\\u671f\\u7387\", \"x\": [\"8-1\", \"8-2\", \"8-3\", \"8-4\", \"9-1\", \"9-2\", \"9-3\"], \"y\": [0.0, 0.05555555555555555, 0.18181818181818182, 0.0, 0.1, 0.0, 0.0], \"type\": \"scatter\", \"uid\": \"5090aed0-c559-11e8-97d0-a81e84e6c740\"}, {\"name\": \"\\u4e2a\\u6027\\u5316\\u7ec4_\\u603b\\u5ef6\\u671f\\u7387\", \"x\": [\"8-1\", \"8-2\", \"8-3\", \"8-4\", \"9-1\", \"9-2\", \"9-3\"], \"y\": [0.0, 0.05555555555555555, 0.18181818181818182, 0.0, 0.1, 0.0, 0.0], \"type\": \"scatter\", \"uid\": \"5090b132-c559-11e8-97d0-a81e84e6c740\"}, {\"name\": \"\\u5206\\u6790\\u4e00\\u7ec4_\\u5546\\u4e1a\\u9879\\u76ee\\u5ef6\\u671f\\u7387\", \"x\": [\"8-1\", \"8-2\", \"8-3\", \"8-4\", \"9-1\", \"9-2\", \"9-3\"], \"y\": [0.0, 0.0, 0.0, 0.0, 0.0, 0.0, 0.0], \"type\": \"scatter\", \"uid\": \"5090b34e-c559-11e8-97d0-a81e84e6c740\"}, {\"name\": \"\\u5206\\u6790\\u4e00\\u7ec4_\\u4e2a\\u6027\\u5316\\u9879\\u76ee\\u5ef6\\u671f\\u7387\", \"x\": [\"8-1\", \"8-2\", \"8-3\", \"8-4\", \"9-1\", \"9-2\", \"9-3\"], \"y\": [0.0, 0.0, 0.0, 0.0, 0.0, 0.0, 0.0], \"type\": \"scatter\", \"uid\": \"5090b54c-c559-11e8-97d0-a81e84e6c740\"}, {\"name\": \"\\u5206\\u6790\\u4e00\\u7ec4_\\u603b\\u5ef6\\u671f\\u7387\", \"x\": [\"8-1\", \"8-2\", \"8-3\", \"8-4\", \"9-1\", \"9-2\", \"9-3\"], \"y\": [0.0, 0.0, 0.0, 0.0, 0.0, 0.0, 0.0], \"type\": \"scatter\", \"uid\": \"5090b74a-c559-11e8-97d0-a81e84e6c740\"}, {\"name\": \"\\u5206\\u6790\\u4e8c\\u7ec4_\\u5546\\u4e1a\\u9879\\u76ee\\u5ef6\\u671f\\u7387\", \"x\": [\"8-1\", \"8-2\", \"8-3\", \"8-4\", \"9-1\", \"9-2\", \"9-3\"], \"y\": [0.0, 0.0, 0.06666666666666667, 0.047619047619047616, 0.0, 0.0, 0.05555555555555555], \"type\": \"scatter\", \"uid\": \"5090b93e-c559-11e8-97d0-a81e84e6c740\"}, {\"name\": \"\\u5206\\u6790\\u4e8c\\u7ec4_\\u4e2a\\u6027\\u5316\\u9879\\u76ee\\u5ef6\\u671f\\u7387\", \"x\": [\"8-1\", \"8-2\", \"8-3\", \"8-4\", \"9-1\", \"9-2\", \"9-3\"], \"y\": [0.0, 0.0, 0.0, 0.18181818181818182, 0.1111111111111111, 0.0, 0.0], \"type\": \"scatter\", \"uid\": \"5090bb32-c559-11e8-97d0-a81e84e6c740\"}, {\"name\": \"\\u5206\\u6790\\u4e8c\\u7ec4_\\u603b\\u5ef6\\u671f\\u7387\", \"x\": [\"8-1\", \"8-2\", \"8-3\", \"8-4\", \"9-1\", \"9-2\", \"9-3\"], \"y\": [0.0, 0.0, 0.045454545454545456, 0.09375, 0.034482758620689655, 0.0, 0.023255813953488372], \"type\": \"scatter\", \"uid\": \"5090bd30-c559-11e8-97d0-a81e84e6c740\"}], {\"title\": \"\\u5546\\u4e1a\\u9879\\u76ee\\u5ef6\\u671f\\u7387&\\u4e2a\\u6027\\u5316\\u9879\\u76ee\\u5ef6\\u671f\\u7387&\\u603b\\u5ef6\\u671f\\u7387\\u5468\\u8d8b\\u52bf\\u56fe\", \"xaxis\": {\"mirror\": \"all\", \"nticks\": 20, \"showgrid\": true, \"showline\": true, \"title\": \"\\u5468\", \"zeroline\": true}, \"yaxis\": {\"mirror\": \"all\", \"nticks\": 20, \"showgrid\": true, \"showline\": true, \"title\": \"\\u5546\\u4e1a\\u9879\\u76ee\\u5ef6\\u671f\\u7387&\\u4e2a\\u6027\\u5316\\u9879\\u76ee\\u5ef6\\u671f\\u7387&\\u603b\\u5ef6\\u671f\\u7387\", \"zeroline\": true}}, {\"showLink\": true, \"linkText\": \"Export to plot.ly\"})});</script>"
      ],
      "text/vnd.plotly.v1+html": [
       "<div id=\"7f9f1b0d-1575-4690-b46a-1c357640fd0e\" style=\"height: 525px; width: 100%;\" class=\"plotly-graph-div\"></div><script type=\"text/javascript\">require([\"plotly\"], function(Plotly) { window.PLOTLYENV=window.PLOTLYENV || {};window.PLOTLYENV.BASE_URL=\"https://plot.ly\";Plotly.newPlot(\"7f9f1b0d-1575-4690-b46a-1c357640fd0e\", [{\"name\": \"\\u4e2a\\u6027\\u5316\\u7ec4_\\u5546\\u4e1a\\u9879\\u76ee\\u5ef6\\u671f\\u7387\", \"x\": [\"8-1\", \"8-2\", \"8-3\", \"8-4\", \"9-1\", \"9-2\", \"9-3\"], \"y\": [0.0, null, null, null, null, 0.0, null], \"type\": \"scatter\", \"uid\": \"5090ab92-c559-11e8-97d0-a81e84e6c740\"}, {\"name\": \"\\u4e2a\\u6027\\u5316\\u7ec4_\\u4e2a\\u6027\\u5316\\u9879\\u76ee\\u5ef6\\u671f\\u7387\", \"x\": [\"8-1\", \"8-2\", \"8-3\", \"8-4\", \"9-1\", \"9-2\", \"9-3\"], \"y\": [0.0, 0.05555555555555555, 0.18181818181818182, 0.0, 0.1, 0.0, 0.0], \"type\": \"scatter\", \"uid\": \"5090aed0-c559-11e8-97d0-a81e84e6c740\"}, {\"name\": \"\\u4e2a\\u6027\\u5316\\u7ec4_\\u603b\\u5ef6\\u671f\\u7387\", \"x\": [\"8-1\", \"8-2\", \"8-3\", \"8-4\", \"9-1\", \"9-2\", \"9-3\"], \"y\": [0.0, 0.05555555555555555, 0.18181818181818182, 0.0, 0.1, 0.0, 0.0], \"type\": \"scatter\", \"uid\": \"5090b132-c559-11e8-97d0-a81e84e6c740\"}, {\"name\": \"\\u5206\\u6790\\u4e00\\u7ec4_\\u5546\\u4e1a\\u9879\\u76ee\\u5ef6\\u671f\\u7387\", \"x\": [\"8-1\", \"8-2\", \"8-3\", \"8-4\", \"9-1\", \"9-2\", \"9-3\"], \"y\": [0.0, 0.0, 0.0, 0.0, 0.0, 0.0, 0.0], \"type\": \"scatter\", \"uid\": \"5090b34e-c559-11e8-97d0-a81e84e6c740\"}, {\"name\": \"\\u5206\\u6790\\u4e00\\u7ec4_\\u4e2a\\u6027\\u5316\\u9879\\u76ee\\u5ef6\\u671f\\u7387\", \"x\": [\"8-1\", \"8-2\", \"8-3\", \"8-4\", \"9-1\", \"9-2\", \"9-3\"], \"y\": [0.0, 0.0, 0.0, 0.0, 0.0, 0.0, 0.0], \"type\": \"scatter\", \"uid\": \"5090b54c-c559-11e8-97d0-a81e84e6c740\"}, {\"name\": \"\\u5206\\u6790\\u4e00\\u7ec4_\\u603b\\u5ef6\\u671f\\u7387\", \"x\": [\"8-1\", \"8-2\", \"8-3\", \"8-4\", \"9-1\", \"9-2\", \"9-3\"], \"y\": [0.0, 0.0, 0.0, 0.0, 0.0, 0.0, 0.0], \"type\": \"scatter\", \"uid\": \"5090b74a-c559-11e8-97d0-a81e84e6c740\"}, {\"name\": \"\\u5206\\u6790\\u4e8c\\u7ec4_\\u5546\\u4e1a\\u9879\\u76ee\\u5ef6\\u671f\\u7387\", \"x\": [\"8-1\", \"8-2\", \"8-3\", \"8-4\", \"9-1\", \"9-2\", \"9-3\"], \"y\": [0.0, 0.0, 0.06666666666666667, 0.047619047619047616, 0.0, 0.0, 0.05555555555555555], \"type\": \"scatter\", \"uid\": \"5090b93e-c559-11e8-97d0-a81e84e6c740\"}, {\"name\": \"\\u5206\\u6790\\u4e8c\\u7ec4_\\u4e2a\\u6027\\u5316\\u9879\\u76ee\\u5ef6\\u671f\\u7387\", \"x\": [\"8-1\", \"8-2\", \"8-3\", \"8-4\", \"9-1\", \"9-2\", \"9-3\"], \"y\": [0.0, 0.0, 0.0, 0.18181818181818182, 0.1111111111111111, 0.0, 0.0], \"type\": \"scatter\", \"uid\": \"5090bb32-c559-11e8-97d0-a81e84e6c740\"}, {\"name\": \"\\u5206\\u6790\\u4e8c\\u7ec4_\\u603b\\u5ef6\\u671f\\u7387\", \"x\": [\"8-1\", \"8-2\", \"8-3\", \"8-4\", \"9-1\", \"9-2\", \"9-3\"], \"y\": [0.0, 0.0, 0.045454545454545456, 0.09375, 0.034482758620689655, 0.0, 0.023255813953488372], \"type\": \"scatter\", \"uid\": \"5090bd30-c559-11e8-97d0-a81e84e6c740\"}], {\"title\": \"\\u5546\\u4e1a\\u9879\\u76ee\\u5ef6\\u671f\\u7387&\\u4e2a\\u6027\\u5316\\u9879\\u76ee\\u5ef6\\u671f\\u7387&\\u603b\\u5ef6\\u671f\\u7387\\u5468\\u8d8b\\u52bf\\u56fe\", \"xaxis\": {\"mirror\": \"all\", \"nticks\": 20, \"showgrid\": true, \"showline\": true, \"title\": \"\\u5468\", \"zeroline\": true}, \"yaxis\": {\"mirror\": \"all\", \"nticks\": 20, \"showgrid\": true, \"showline\": true, \"title\": \"\\u5546\\u4e1a\\u9879\\u76ee\\u5ef6\\u671f\\u7387&\\u4e2a\\u6027\\u5316\\u9879\\u76ee\\u5ef6\\u671f\\u7387&\\u603b\\u5ef6\\u671f\\u7387\", \"zeroline\": true}}, {\"showLink\": true, \"linkText\": \"Export to plot.ly\"})});</script>"
      ]
     },
     "metadata": {},
     "output_type": "display_data"
    }
   ],
   "source": [
    "data_dict = {'商业项目延期率':['延期商业项目数', '总商业项目数'], \n",
    "             '个性化项目延期率':['延期个性化项目数', '总个性化数'],\n",
    "             '总延期率':['总延期项目数', '总项目数']}\n",
    "myModule.plot( all_dict, data_dict, '人员' ,  'line' , total=True ,time_list = time_list)\n",
    "myModule.plot( all_dict, data_dict, '组别' ,  'line' ,time_list = time_list)"
   ]
  },
  {
   "cell_type": "markdown",
   "metadata": {},
   "source": [
    "## 项目过程执行情况"
   ]
  },
  {
   "cell_type": "markdown",
   "metadata": {},
   "source": [
    "### 反馈延期数"
   ]
  },
  {
   "cell_type": "code",
   "execution_count": 91,
   "metadata": {},
   "outputs": [
    {
     "data": {
      "application/vnd.plotly.v1+json": {
       "data": [
        {
         "name": "24h内未完成数据反馈项目数",
         "type": "bar",
         "uid": "50b557f8-c559-11e8-97d0-a81e84e6c740",
         "x": [
          "8-1",
          "8-2",
          "8-3",
          "8-4",
          "9-1",
          "9-2",
          "9-3"
         ],
         "y": [
          1,
          0,
          0,
          1,
          0,
          0,
          1
         ]
        },
        {
         "name": "反馈延期个性化数",
         "type": "bar",
         "uid": "50b55e74-c559-11e8-97d0-a81e84e6c740",
         "x": [
          "8-1",
          "8-2",
          "8-3",
          "8-4",
          "9-1",
          "9-2",
          "9-3"
         ],
         "y": [
          0,
          1,
          0,
          1,
          2,
          0,
          0
         ]
        }
       ],
       "layout": {
        "barmode": "stack",
        "title": "24h内未完成数据反馈项目数&反馈延期个性化数周趋势图",
        "xaxis": {
         "mirror": "all",
         "nticks": 20,
         "showgrid": true,
         "showline": true,
         "title": "周",
         "zeroline": true
        },
        "yaxis": {
         "mirror": "all",
         "nticks": 20,
         "showgrid": true,
         "showline": true,
         "title": "24h内未完成数据反馈项目数&反馈延期个性化数",
         "zeroline": true
        }
       }
      },
      "text/html": [
       "<div id=\"b53d1004-123b-4d9b-881e-da3711f546c6\" style=\"height: 525px; width: 100%;\" class=\"plotly-graph-div\"></div><script type=\"text/javascript\">require([\"plotly\"], function(Plotly) { window.PLOTLYENV=window.PLOTLYENV || {};window.PLOTLYENV.BASE_URL=\"https://plot.ly\";Plotly.newPlot(\"b53d1004-123b-4d9b-881e-da3711f546c6\", [{\"name\": \"24h\\u5185\\u672a\\u5b8c\\u6210\\u6570\\u636e\\u53cd\\u9988\\u9879\\u76ee\\u6570\", \"x\": [\"8-1\", \"8-2\", \"8-3\", \"8-4\", \"9-1\", \"9-2\", \"9-3\"], \"y\": [1.0, 0.0, 0.0, 1.0, 0.0, 0.0, 1.0], \"type\": \"bar\", \"uid\": \"50b557f8-c559-11e8-97d0-a81e84e6c740\"}, {\"name\": \"\\u53cd\\u9988\\u5ef6\\u671f\\u4e2a\\u6027\\u5316\\u6570\", \"x\": [\"8-1\", \"8-2\", \"8-3\", \"8-4\", \"9-1\", \"9-2\", \"9-3\"], \"y\": [0.0, 1.0, 0.0, 1.0, 2.0, 0.0, 0.0], \"type\": \"bar\", \"uid\": \"50b55e74-c559-11e8-97d0-a81e84e6c740\"}], {\"barmode\": \"stack\", \"title\": \"24h\\u5185\\u672a\\u5b8c\\u6210\\u6570\\u636e\\u53cd\\u9988\\u9879\\u76ee\\u6570&\\u53cd\\u9988\\u5ef6\\u671f\\u4e2a\\u6027\\u5316\\u6570\\u5468\\u8d8b\\u52bf\\u56fe\", \"xaxis\": {\"mirror\": \"all\", \"nticks\": 20, \"showgrid\": true, \"showline\": true, \"title\": \"\\u5468\", \"zeroline\": true}, \"yaxis\": {\"mirror\": \"all\", \"nticks\": 20, \"showgrid\": true, \"showline\": true, \"title\": \"24h\\u5185\\u672a\\u5b8c\\u6210\\u6570\\u636e\\u53cd\\u9988\\u9879\\u76ee\\u6570&\\u53cd\\u9988\\u5ef6\\u671f\\u4e2a\\u6027\\u5316\\u6570\", \"zeroline\": true}}, {\"showLink\": true, \"linkText\": \"Export to plot.ly\"})});</script>"
      ],
      "text/vnd.plotly.v1+html": [
       "<div id=\"b53d1004-123b-4d9b-881e-da3711f546c6\" style=\"height: 525px; width: 100%;\" class=\"plotly-graph-div\"></div><script type=\"text/javascript\">require([\"plotly\"], function(Plotly) { window.PLOTLYENV=window.PLOTLYENV || {};window.PLOTLYENV.BASE_URL=\"https://plot.ly\";Plotly.newPlot(\"b53d1004-123b-4d9b-881e-da3711f546c6\", [{\"name\": \"24h\\u5185\\u672a\\u5b8c\\u6210\\u6570\\u636e\\u53cd\\u9988\\u9879\\u76ee\\u6570\", \"x\": [\"8-1\", \"8-2\", \"8-3\", \"8-4\", \"9-1\", \"9-2\", \"9-3\"], \"y\": [1.0, 0.0, 0.0, 1.0, 0.0, 0.0, 1.0], \"type\": \"bar\", \"uid\": \"50b557f8-c559-11e8-97d0-a81e84e6c740\"}, {\"name\": \"\\u53cd\\u9988\\u5ef6\\u671f\\u4e2a\\u6027\\u5316\\u6570\", \"x\": [\"8-1\", \"8-2\", \"8-3\", \"8-4\", \"9-1\", \"9-2\", \"9-3\"], \"y\": [0.0, 1.0, 0.0, 1.0, 2.0, 0.0, 0.0], \"type\": \"bar\", \"uid\": \"50b55e74-c559-11e8-97d0-a81e84e6c740\"}], {\"barmode\": \"stack\", \"title\": \"24h\\u5185\\u672a\\u5b8c\\u6210\\u6570\\u636e\\u53cd\\u9988\\u9879\\u76ee\\u6570&\\u53cd\\u9988\\u5ef6\\u671f\\u4e2a\\u6027\\u5316\\u6570\\u5468\\u8d8b\\u52bf\\u56fe\", \"xaxis\": {\"mirror\": \"all\", \"nticks\": 20, \"showgrid\": true, \"showline\": true, \"title\": \"\\u5468\", \"zeroline\": true}, \"yaxis\": {\"mirror\": \"all\", \"nticks\": 20, \"showgrid\": true, \"showline\": true, \"title\": \"24h\\u5185\\u672a\\u5b8c\\u6210\\u6570\\u636e\\u53cd\\u9988\\u9879\\u76ee\\u6570&\\u53cd\\u9988\\u5ef6\\u671f\\u4e2a\\u6027\\u5316\\u6570\", \"zeroline\": true}}, {\"showLink\": true, \"linkText\": \"Export to plot.ly\"})});</script>"
      ]
     },
     "metadata": {},
     "output_type": "display_data"
    },
    {
     "data": {
      "application/vnd.plotly.v1+json": {
       "data": [
        {
         "name": "个性化组_24h内未完成数据反馈项目数",
         "type": "bar",
         "uid": "50d0e054-c559-11e8-97d0-a81e84e6c740",
         "x": [
          "8-1",
          "8-2",
          "8-3",
          "8-4",
          "9-1",
          "9-2",
          "9-3"
         ],
         "y": [
          0,
          0,
          0,
          0,
          0,
          0,
          0
         ]
        },
        {
         "name": "个性化组_反馈延期个性化数",
         "type": "bar",
         "uid": "50d0e3b0-c559-11e8-97d0-a81e84e6c740",
         "x": [
          "8-1",
          "8-2",
          "8-3",
          "8-4",
          "9-1",
          "9-2",
          "9-3"
         ],
         "y": [
          0,
          1,
          0,
          0,
          0,
          0,
          0
         ]
        },
        {
         "name": "分析一组_24h内未完成数据反馈项目数",
         "type": "bar",
         "uid": "50d0e5fe-c559-11e8-97d0-a81e84e6c740",
         "x": [
          "8-1",
          "8-2",
          "8-3",
          "8-4",
          "9-1",
          "9-2",
          "9-3"
         ],
         "y": [
          0,
          0,
          0,
          0,
          0,
          0,
          0
         ]
        },
        {
         "name": "分析一组_反馈延期个性化数",
         "type": "bar",
         "uid": "50d0e810-c559-11e8-97d0-a81e84e6c740",
         "x": [
          "8-1",
          "8-2",
          "8-3",
          "8-4",
          "9-1",
          "9-2",
          "9-3"
         ],
         "y": [
          0,
          0,
          0,
          1,
          2,
          0,
          0
         ]
        },
        {
         "name": "分析二组_24h内未完成数据反馈项目数",
         "type": "bar",
         "uid": "50d0ea0e-c559-11e8-97d0-a81e84e6c740",
         "x": [
          "8-1",
          "8-2",
          "8-3",
          "8-4",
          "9-1",
          "9-2",
          "9-3"
         ],
         "y": [
          1,
          0,
          0,
          1,
          0,
          0,
          1
         ]
        },
        {
         "name": "分析二组_反馈延期个性化数",
         "type": "bar",
         "uid": "50d0ebf8-c559-11e8-97d0-a81e84e6c740",
         "x": [
          "8-1",
          "8-2",
          "8-3",
          "8-4",
          "9-1",
          "9-2",
          "9-3"
         ],
         "y": [
          0,
          0,
          0,
          0,
          0,
          0,
          0
         ]
        }
       ],
       "layout": {
        "barmode": "stack",
        "title": "24h内未完成数据反馈项目数&反馈延期个性化数周趋势图",
        "xaxis": {
         "mirror": "all",
         "nticks": 20,
         "showgrid": true,
         "showline": true,
         "title": "周",
         "zeroline": true
        },
        "yaxis": {
         "mirror": "all",
         "nticks": 20,
         "showgrid": true,
         "showline": true,
         "title": "24h内未完成数据反馈项目数&反馈延期个性化数",
         "zeroline": true
        }
       }
      },
      "text/html": [
       "<div id=\"7eab652d-1724-4ff0-ac1b-96d6a95157ae\" style=\"height: 525px; width: 100%;\" class=\"plotly-graph-div\"></div><script type=\"text/javascript\">require([\"plotly\"], function(Plotly) { window.PLOTLYENV=window.PLOTLYENV || {};window.PLOTLYENV.BASE_URL=\"https://plot.ly\";Plotly.newPlot(\"7eab652d-1724-4ff0-ac1b-96d6a95157ae\", [{\"name\": \"\\u4e2a\\u6027\\u5316\\u7ec4_24h\\u5185\\u672a\\u5b8c\\u6210\\u6570\\u636e\\u53cd\\u9988\\u9879\\u76ee\\u6570\", \"x\": [\"8-1\", \"8-2\", \"8-3\", \"8-4\", \"9-1\", \"9-2\", \"9-3\"], \"y\": [0.0, 0.0, 0.0, 0.0, 0.0, 0.0, 0.0], \"type\": \"bar\", \"uid\": \"50d0e054-c559-11e8-97d0-a81e84e6c740\"}, {\"name\": \"\\u4e2a\\u6027\\u5316\\u7ec4_\\u53cd\\u9988\\u5ef6\\u671f\\u4e2a\\u6027\\u5316\\u6570\", \"x\": [\"8-1\", \"8-2\", \"8-3\", \"8-4\", \"9-1\", \"9-2\", \"9-3\"], \"y\": [0.0, 1.0, 0.0, 0.0, 0.0, 0.0, 0.0], \"type\": \"bar\", \"uid\": \"50d0e3b0-c559-11e8-97d0-a81e84e6c740\"}, {\"name\": \"\\u5206\\u6790\\u4e00\\u7ec4_24h\\u5185\\u672a\\u5b8c\\u6210\\u6570\\u636e\\u53cd\\u9988\\u9879\\u76ee\\u6570\", \"x\": [\"8-1\", \"8-2\", \"8-3\", \"8-4\", \"9-1\", \"9-2\", \"9-3\"], \"y\": [0.0, 0.0, 0.0, 0.0, 0.0, 0.0, 0.0], \"type\": \"bar\", \"uid\": \"50d0e5fe-c559-11e8-97d0-a81e84e6c740\"}, {\"name\": \"\\u5206\\u6790\\u4e00\\u7ec4_\\u53cd\\u9988\\u5ef6\\u671f\\u4e2a\\u6027\\u5316\\u6570\", \"x\": [\"8-1\", \"8-2\", \"8-3\", \"8-4\", \"9-1\", \"9-2\", \"9-3\"], \"y\": [0.0, 0.0, 0.0, 1.0, 2.0, 0.0, 0.0], \"type\": \"bar\", \"uid\": \"50d0e810-c559-11e8-97d0-a81e84e6c740\"}, {\"name\": \"\\u5206\\u6790\\u4e8c\\u7ec4_24h\\u5185\\u672a\\u5b8c\\u6210\\u6570\\u636e\\u53cd\\u9988\\u9879\\u76ee\\u6570\", \"x\": [\"8-1\", \"8-2\", \"8-3\", \"8-4\", \"9-1\", \"9-2\", \"9-3\"], \"y\": [1.0, 0.0, 0.0, 1.0, 0.0, 0.0, 1.0], \"type\": \"bar\", \"uid\": \"50d0ea0e-c559-11e8-97d0-a81e84e6c740\"}, {\"name\": \"\\u5206\\u6790\\u4e8c\\u7ec4_\\u53cd\\u9988\\u5ef6\\u671f\\u4e2a\\u6027\\u5316\\u6570\", \"x\": [\"8-1\", \"8-2\", \"8-3\", \"8-4\", \"9-1\", \"9-2\", \"9-3\"], \"y\": [0.0, 0.0, 0.0, 0.0, 0.0, 0.0, 0.0], \"type\": \"bar\", \"uid\": \"50d0ebf8-c559-11e8-97d0-a81e84e6c740\"}], {\"barmode\": \"stack\", \"title\": \"24h\\u5185\\u672a\\u5b8c\\u6210\\u6570\\u636e\\u53cd\\u9988\\u9879\\u76ee\\u6570&\\u53cd\\u9988\\u5ef6\\u671f\\u4e2a\\u6027\\u5316\\u6570\\u5468\\u8d8b\\u52bf\\u56fe\", \"xaxis\": {\"mirror\": \"all\", \"nticks\": 20, \"showgrid\": true, \"showline\": true, \"title\": \"\\u5468\", \"zeroline\": true}, \"yaxis\": {\"mirror\": \"all\", \"nticks\": 20, \"showgrid\": true, \"showline\": true, \"title\": \"24h\\u5185\\u672a\\u5b8c\\u6210\\u6570\\u636e\\u53cd\\u9988\\u9879\\u76ee\\u6570&\\u53cd\\u9988\\u5ef6\\u671f\\u4e2a\\u6027\\u5316\\u6570\", \"zeroline\": true}}, {\"showLink\": true, \"linkText\": \"Export to plot.ly\"})});</script>"
      ],
      "text/vnd.plotly.v1+html": [
       "<div id=\"7eab652d-1724-4ff0-ac1b-96d6a95157ae\" style=\"height: 525px; width: 100%;\" class=\"plotly-graph-div\"></div><script type=\"text/javascript\">require([\"plotly\"], function(Plotly) { window.PLOTLYENV=window.PLOTLYENV || {};window.PLOTLYENV.BASE_URL=\"https://plot.ly\";Plotly.newPlot(\"7eab652d-1724-4ff0-ac1b-96d6a95157ae\", [{\"name\": \"\\u4e2a\\u6027\\u5316\\u7ec4_24h\\u5185\\u672a\\u5b8c\\u6210\\u6570\\u636e\\u53cd\\u9988\\u9879\\u76ee\\u6570\", \"x\": [\"8-1\", \"8-2\", \"8-3\", \"8-4\", \"9-1\", \"9-2\", \"9-3\"], \"y\": [0.0, 0.0, 0.0, 0.0, 0.0, 0.0, 0.0], \"type\": \"bar\", \"uid\": \"50d0e054-c559-11e8-97d0-a81e84e6c740\"}, {\"name\": \"\\u4e2a\\u6027\\u5316\\u7ec4_\\u53cd\\u9988\\u5ef6\\u671f\\u4e2a\\u6027\\u5316\\u6570\", \"x\": [\"8-1\", \"8-2\", \"8-3\", \"8-4\", \"9-1\", \"9-2\", \"9-3\"], \"y\": [0.0, 1.0, 0.0, 0.0, 0.0, 0.0, 0.0], \"type\": \"bar\", \"uid\": \"50d0e3b0-c559-11e8-97d0-a81e84e6c740\"}, {\"name\": \"\\u5206\\u6790\\u4e00\\u7ec4_24h\\u5185\\u672a\\u5b8c\\u6210\\u6570\\u636e\\u53cd\\u9988\\u9879\\u76ee\\u6570\", \"x\": [\"8-1\", \"8-2\", \"8-3\", \"8-4\", \"9-1\", \"9-2\", \"9-3\"], \"y\": [0.0, 0.0, 0.0, 0.0, 0.0, 0.0, 0.0], \"type\": \"bar\", \"uid\": \"50d0e5fe-c559-11e8-97d0-a81e84e6c740\"}, {\"name\": \"\\u5206\\u6790\\u4e00\\u7ec4_\\u53cd\\u9988\\u5ef6\\u671f\\u4e2a\\u6027\\u5316\\u6570\", \"x\": [\"8-1\", \"8-2\", \"8-3\", \"8-4\", \"9-1\", \"9-2\", \"9-3\"], \"y\": [0.0, 0.0, 0.0, 1.0, 2.0, 0.0, 0.0], \"type\": \"bar\", \"uid\": \"50d0e810-c559-11e8-97d0-a81e84e6c740\"}, {\"name\": \"\\u5206\\u6790\\u4e8c\\u7ec4_24h\\u5185\\u672a\\u5b8c\\u6210\\u6570\\u636e\\u53cd\\u9988\\u9879\\u76ee\\u6570\", \"x\": [\"8-1\", \"8-2\", \"8-3\", \"8-4\", \"9-1\", \"9-2\", \"9-3\"], \"y\": [1.0, 0.0, 0.0, 1.0, 0.0, 0.0, 1.0], \"type\": \"bar\", \"uid\": \"50d0ea0e-c559-11e8-97d0-a81e84e6c740\"}, {\"name\": \"\\u5206\\u6790\\u4e8c\\u7ec4_\\u53cd\\u9988\\u5ef6\\u671f\\u4e2a\\u6027\\u5316\\u6570\", \"x\": [\"8-1\", \"8-2\", \"8-3\", \"8-4\", \"9-1\", \"9-2\", \"9-3\"], \"y\": [0.0, 0.0, 0.0, 0.0, 0.0, 0.0, 0.0], \"type\": \"bar\", \"uid\": \"50d0ebf8-c559-11e8-97d0-a81e84e6c740\"}], {\"barmode\": \"stack\", \"title\": \"24h\\u5185\\u672a\\u5b8c\\u6210\\u6570\\u636e\\u53cd\\u9988\\u9879\\u76ee\\u6570&\\u53cd\\u9988\\u5ef6\\u671f\\u4e2a\\u6027\\u5316\\u6570\\u5468\\u8d8b\\u52bf\\u56fe\", \"xaxis\": {\"mirror\": \"all\", \"nticks\": 20, \"showgrid\": true, \"showline\": true, \"title\": \"\\u5468\", \"zeroline\": true}, \"yaxis\": {\"mirror\": \"all\", \"nticks\": 20, \"showgrid\": true, \"showline\": true, \"title\": \"24h\\u5185\\u672a\\u5b8c\\u6210\\u6570\\u636e\\u53cd\\u9988\\u9879\\u76ee\\u6570&\\u53cd\\u9988\\u5ef6\\u671f\\u4e2a\\u6027\\u5316\\u6570\", \"zeroline\": true}}, {\"showLink\": true, \"linkText\": \"Export to plot.ly\"})});</script>"
      ]
     },
     "metadata": {},
     "output_type": "display_data"
    }
   ],
   "source": [
    "data_dict = {'24h内未完成数据反馈项目数':['24h内未完成数据反馈项目数'],\n",
    "             '反馈延期个性化数':['反馈延期个性化数']}\n",
    "myModule.plot( all_dict, data_dict, '人员','stack_bar' , total=True ,time_list = time_list)\n",
    "myModule.plot( all_dict, data_dict, '组别','stack_bar' , time_list = time_list)"
   ]
  },
  {
   "cell_type": "markdown",
   "metadata": {},
   "source": [
    "### 反馈延期率"
   ]
  },
  {
   "cell_type": "code",
   "execution_count": 92,
   "metadata": {},
   "outputs": [
    {
     "data": {
      "application/vnd.plotly.v1+json": {
       "data": [
        {
         "name": "数据反馈延期率",
         "type": "scatter",
         "uid": "50f06ea6-c559-11e8-97d0-a81e84e6c740",
         "x": [
          "8-1",
          "8-2",
          "8-3",
          "8-4",
          "9-1",
          "9-2",
          "9-3"
         ],
         "y": [
          0.01818181818181818,
          0,
          0,
          0.022222222222222223,
          0,
          0,
          0.03125
         ]
        },
        {
         "name": "个性化反馈延期率",
         "type": "scatter",
         "uid": "50f07202-c559-11e8-97d0-a81e84e6c740",
         "x": [
          "8-1",
          "8-2",
          "8-3",
          "8-4",
          "9-1",
          "9-2",
          "9-3"
         ],
         "y": [
          0,
          0.03333333333333333,
          0,
          0.021739130434782608,
          0.058823529411764705,
          0,
          0
         ]
        }
       ],
       "layout": {
        "title": "数据反馈延期率&个性化反馈延期率周趋势图",
        "xaxis": {
         "mirror": "all",
         "nticks": 20,
         "showgrid": true,
         "showline": true,
         "title": "周",
         "zeroline": true
        },
        "yaxis": {
         "mirror": "all",
         "nticks": 20,
         "showgrid": true,
         "showline": true,
         "title": "数据反馈延期率&个性化反馈延期率",
         "zeroline": true
        }
       }
      },
      "text/html": [
       "<div id=\"c2f0be23-97da-4ffe-8a0c-41da45412a59\" style=\"height: 525px; width: 100%;\" class=\"plotly-graph-div\"></div><script type=\"text/javascript\">require([\"plotly\"], function(Plotly) { window.PLOTLYENV=window.PLOTLYENV || {};window.PLOTLYENV.BASE_URL=\"https://plot.ly\";Plotly.newPlot(\"c2f0be23-97da-4ffe-8a0c-41da45412a59\", [{\"name\": \"\\u6570\\u636e\\u53cd\\u9988\\u5ef6\\u671f\\u7387\", \"x\": [\"8-1\", \"8-2\", \"8-3\", \"8-4\", \"9-1\", \"9-2\", \"9-3\"], \"y\": [0.01818181818181818, 0.0, 0.0, 0.022222222222222223, 0.0, 0.0, 0.03125], \"type\": \"scatter\", \"uid\": \"50f06ea6-c559-11e8-97d0-a81e84e6c740\"}, {\"name\": \"\\u4e2a\\u6027\\u5316\\u53cd\\u9988\\u5ef6\\u671f\\u7387\", \"x\": [\"8-1\", \"8-2\", \"8-3\", \"8-4\", \"9-1\", \"9-2\", \"9-3\"], \"y\": [0.0, 0.03333333333333333, 0.0, 0.021739130434782608, 0.058823529411764705, 0.0, 0.0], \"type\": \"scatter\", \"uid\": \"50f07202-c559-11e8-97d0-a81e84e6c740\"}], {\"title\": \"\\u6570\\u636e\\u53cd\\u9988\\u5ef6\\u671f\\u7387&\\u4e2a\\u6027\\u5316\\u53cd\\u9988\\u5ef6\\u671f\\u7387\\u5468\\u8d8b\\u52bf\\u56fe\", \"xaxis\": {\"mirror\": \"all\", \"nticks\": 20, \"showgrid\": true, \"showline\": true, \"title\": \"\\u5468\", \"zeroline\": true}, \"yaxis\": {\"mirror\": \"all\", \"nticks\": 20, \"showgrid\": true, \"showline\": true, \"title\": \"\\u6570\\u636e\\u53cd\\u9988\\u5ef6\\u671f\\u7387&\\u4e2a\\u6027\\u5316\\u53cd\\u9988\\u5ef6\\u671f\\u7387\", \"zeroline\": true}}, {\"showLink\": true, \"linkText\": \"Export to plot.ly\"})});</script>"
      ],
      "text/vnd.plotly.v1+html": [
       "<div id=\"c2f0be23-97da-4ffe-8a0c-41da45412a59\" style=\"height: 525px; width: 100%;\" class=\"plotly-graph-div\"></div><script type=\"text/javascript\">require([\"plotly\"], function(Plotly) { window.PLOTLYENV=window.PLOTLYENV || {};window.PLOTLYENV.BASE_URL=\"https://plot.ly\";Plotly.newPlot(\"c2f0be23-97da-4ffe-8a0c-41da45412a59\", [{\"name\": \"\\u6570\\u636e\\u53cd\\u9988\\u5ef6\\u671f\\u7387\", \"x\": [\"8-1\", \"8-2\", \"8-3\", \"8-4\", \"9-1\", \"9-2\", \"9-3\"], \"y\": [0.01818181818181818, 0.0, 0.0, 0.022222222222222223, 0.0, 0.0, 0.03125], \"type\": \"scatter\", \"uid\": \"50f06ea6-c559-11e8-97d0-a81e84e6c740\"}, {\"name\": \"\\u4e2a\\u6027\\u5316\\u53cd\\u9988\\u5ef6\\u671f\\u7387\", \"x\": [\"8-1\", \"8-2\", \"8-3\", \"8-4\", \"9-1\", \"9-2\", \"9-3\"], \"y\": [0.0, 0.03333333333333333, 0.0, 0.021739130434782608, 0.058823529411764705, 0.0, 0.0], \"type\": \"scatter\", \"uid\": \"50f07202-c559-11e8-97d0-a81e84e6c740\"}], {\"title\": \"\\u6570\\u636e\\u53cd\\u9988\\u5ef6\\u671f\\u7387&\\u4e2a\\u6027\\u5316\\u53cd\\u9988\\u5ef6\\u671f\\u7387\\u5468\\u8d8b\\u52bf\\u56fe\", \"xaxis\": {\"mirror\": \"all\", \"nticks\": 20, \"showgrid\": true, \"showline\": true, \"title\": \"\\u5468\", \"zeroline\": true}, \"yaxis\": {\"mirror\": \"all\", \"nticks\": 20, \"showgrid\": true, \"showline\": true, \"title\": \"\\u6570\\u636e\\u53cd\\u9988\\u5ef6\\u671f\\u7387&\\u4e2a\\u6027\\u5316\\u53cd\\u9988\\u5ef6\\u671f\\u7387\", \"zeroline\": true}}, {\"showLink\": true, \"linkText\": \"Export to plot.ly\"})});</script>"
      ]
     },
     "metadata": {},
     "output_type": "display_data"
    }
   ],
   "source": [
    "data_dict = {'数据反馈延期率':['24h内未完成数据反馈项目数', '下机项目数'], '个性化反馈延期率':['反馈延期个性化数', '接入个性化数']}\n",
    "myModule.plot( all_dict, data_dict, '人员' ,  'line' , total=True,time_list = time_list)"
   ]
  },
  {
   "cell_type": "markdown",
   "metadata": {},
   "source": [
    "## 交付延期率"
   ]
  },
  {
   "cell_type": "markdown",
   "metadata": {},
   "source": [
    "### 分析组交付延期率"
   ]
  },
  {
   "cell_type": "code",
   "execution_count": 93,
   "metadata": {},
   "outputs": [
    {
     "data": {
      "application/vnd.plotly.v1+json": {
       "data": [
        {
         "name": "交付延期率",
         "type": "scatter",
         "uid": "510c99e6-c559-11e8-97d0-a81e84e6c740",
         "x": [
          "8-1",
          "8-2",
          "8-3",
          "8-4",
          "9-1",
          "9-2",
          "9-3"
         ],
         "y": [
          0,
          0,
          0,
          0,
          0,
          0,
          0
         ]
        }
       ],
       "layout": {
        "title": "交付延期率周趋势图",
        "xaxis": {
         "mirror": "all",
         "nticks": 20,
         "showgrid": true,
         "showline": true,
         "title": "周",
         "zeroline": true
        },
        "yaxis": {
         "mirror": "all",
         "nticks": 20,
         "showgrid": true,
         "showline": true,
         "title": "交付延期率",
         "zeroline": true
        }
       }
      },
      "text/html": [
       "<div id=\"454d2e73-681a-493c-93ae-a338e538ca9a\" style=\"height: 525px; width: 100%;\" class=\"plotly-graph-div\"></div><script type=\"text/javascript\">require([\"plotly\"], function(Plotly) { window.PLOTLYENV=window.PLOTLYENV || {};window.PLOTLYENV.BASE_URL=\"https://plot.ly\";Plotly.newPlot(\"454d2e73-681a-493c-93ae-a338e538ca9a\", [{\"name\": \"\\u4ea4\\u4ed8\\u5ef6\\u671f\\u7387\", \"x\": [\"8-1\", \"8-2\", \"8-3\", \"8-4\", \"9-1\", \"9-2\", \"9-3\"], \"y\": [0.0, 0.0, 0.0, 0.0, 0.0, 0.0, 0.0], \"type\": \"scatter\", \"uid\": \"510c99e6-c559-11e8-97d0-a81e84e6c740\"}], {\"title\": \"\\u4ea4\\u4ed8\\u5ef6\\u671f\\u7387\\u5468\\u8d8b\\u52bf\\u56fe\", \"xaxis\": {\"mirror\": \"all\", \"nticks\": 20, \"showgrid\": true, \"showline\": true, \"title\": \"\\u5468\", \"zeroline\": true}, \"yaxis\": {\"mirror\": \"all\", \"nticks\": 20, \"showgrid\": true, \"showline\": true, \"title\": \"\\u4ea4\\u4ed8\\u5ef6\\u671f\\u7387\", \"zeroline\": true}}, {\"showLink\": true, \"linkText\": \"Export to plot.ly\"})});</script>"
      ],
      "text/vnd.plotly.v1+html": [
       "<div id=\"454d2e73-681a-493c-93ae-a338e538ca9a\" style=\"height: 525px; width: 100%;\" class=\"plotly-graph-div\"></div><script type=\"text/javascript\">require([\"plotly\"], function(Plotly) { window.PLOTLYENV=window.PLOTLYENV || {};window.PLOTLYENV.BASE_URL=\"https://plot.ly\";Plotly.newPlot(\"454d2e73-681a-493c-93ae-a338e538ca9a\", [{\"name\": \"\\u4ea4\\u4ed8\\u5ef6\\u671f\\u7387\", \"x\": [\"8-1\", \"8-2\", \"8-3\", \"8-4\", \"9-1\", \"9-2\", \"9-3\"], \"y\": [0.0, 0.0, 0.0, 0.0, 0.0, 0.0, 0.0], \"type\": \"scatter\", \"uid\": \"510c99e6-c559-11e8-97d0-a81e84e6c740\"}], {\"title\": \"\\u4ea4\\u4ed8\\u5ef6\\u671f\\u7387\\u5468\\u8d8b\\u52bf\\u56fe\", \"xaxis\": {\"mirror\": \"all\", \"nticks\": 20, \"showgrid\": true, \"showline\": true, \"title\": \"\\u5468\", \"zeroline\": true}, \"yaxis\": {\"mirror\": \"all\", \"nticks\": 20, \"showgrid\": true, \"showline\": true, \"title\": \"\\u4ea4\\u4ed8\\u5ef6\\u671f\\u7387\", \"zeroline\": true}}, {\"showLink\": true, \"linkText\": \"Export to plot.ly\"})});</script>"
      ]
     },
     "metadata": {},
     "output_type": "display_data"
    }
   ],
   "source": [
    "data_dict = {'交付延期率':['24h内未完成数据交付项目数', '待交付项目数']}\n",
    "myModule.plot( all_dict, data_dict, '人员' ,  'line' , total=True,time_list = time_list)"
   ]
  },
  {
   "cell_type": "markdown",
   "metadata": {},
   "source": [
    "### 各组交付延期率"
   ]
  },
  {
   "cell_type": "code",
   "execution_count": 94,
   "metadata": {},
   "outputs": [
    {
     "data": {
      "application/vnd.plotly.v1+json": {
       "data": [
        {
         "name": "个性化组",
         "type": "scatter",
         "uid": "51334a46-c559-11e8-97d0-a81e84e6c740",
         "x": [
          "8-1",
          "8-2",
          "8-3",
          "8-4",
          "9-1",
          "9-2",
          "9-3"
         ],
         "y": [
          null,
          null,
          null,
          null,
          null,
          null,
          0
         ]
        },
        {
         "name": "分析一组",
         "type": "scatter",
         "uid": "51334dde-c559-11e8-97d0-a81e84e6c740",
         "x": [
          "8-1",
          "8-2",
          "8-3",
          "8-4",
          "9-1",
          "9-2",
          "9-3"
         ],
         "y": [
          0,
          0,
          0,
          0,
          0,
          0,
          0
         ]
        },
        {
         "name": "分析二组",
         "type": "scatter",
         "uid": "51335036-c559-11e8-97d0-a81e84e6c740",
         "x": [
          "8-1",
          "8-2",
          "8-3",
          "8-4",
          "9-1",
          "9-2",
          "9-3"
         ],
         "y": [
          0,
          0,
          0,
          0,
          0,
          0,
          0
         ]
        }
       ],
       "layout": {
        "title": "交付延期率周趋势图",
        "xaxis": {
         "mirror": "all",
         "nticks": 20,
         "showgrid": true,
         "showline": true,
         "title": "周",
         "zeroline": true
        },
        "yaxis": {
         "mirror": "all",
         "nticks": 20,
         "showgrid": true,
         "showline": true,
         "title": "交付延期率",
         "zeroline": true
        }
       }
      },
      "text/html": [
       "<div id=\"563b52e1-34c0-41bf-8033-7323a90a3387\" style=\"height: 525px; width: 100%;\" class=\"plotly-graph-div\"></div><script type=\"text/javascript\">require([\"plotly\"], function(Plotly) { window.PLOTLYENV=window.PLOTLYENV || {};window.PLOTLYENV.BASE_URL=\"https://plot.ly\";Plotly.newPlot(\"563b52e1-34c0-41bf-8033-7323a90a3387\", [{\"name\": \"\\u4e2a\\u6027\\u5316\\u7ec4\", \"x\": [\"8-1\", \"8-2\", \"8-3\", \"8-4\", \"9-1\", \"9-2\", \"9-3\"], \"y\": [null, null, null, null, null, null, 0.0], \"type\": \"scatter\", \"uid\": \"51334a46-c559-11e8-97d0-a81e84e6c740\"}, {\"name\": \"\\u5206\\u6790\\u4e00\\u7ec4\", \"x\": [\"8-1\", \"8-2\", \"8-3\", \"8-4\", \"9-1\", \"9-2\", \"9-3\"], \"y\": [0.0, 0.0, 0.0, 0.0, 0.0, 0.0, 0.0], \"type\": \"scatter\", \"uid\": \"51334dde-c559-11e8-97d0-a81e84e6c740\"}, {\"name\": \"\\u5206\\u6790\\u4e8c\\u7ec4\", \"x\": [\"8-1\", \"8-2\", \"8-3\", \"8-4\", \"9-1\", \"9-2\", \"9-3\"], \"y\": [0.0, 0.0, 0.0, 0.0, 0.0, 0.0, 0.0], \"type\": \"scatter\", \"uid\": \"51335036-c559-11e8-97d0-a81e84e6c740\"}], {\"title\": \"\\u4ea4\\u4ed8\\u5ef6\\u671f\\u7387\\u5468\\u8d8b\\u52bf\\u56fe\", \"xaxis\": {\"mirror\": \"all\", \"nticks\": 20, \"showgrid\": true, \"showline\": true, \"title\": \"\\u5468\", \"zeroline\": true}, \"yaxis\": {\"mirror\": \"all\", \"nticks\": 20, \"showgrid\": true, \"showline\": true, \"title\": \"\\u4ea4\\u4ed8\\u5ef6\\u671f\\u7387\", \"zeroline\": true}}, {\"showLink\": true, \"linkText\": \"Export to plot.ly\"})});</script>"
      ],
      "text/vnd.plotly.v1+html": [
       "<div id=\"563b52e1-34c0-41bf-8033-7323a90a3387\" style=\"height: 525px; width: 100%;\" class=\"plotly-graph-div\"></div><script type=\"text/javascript\">require([\"plotly\"], function(Plotly) { window.PLOTLYENV=window.PLOTLYENV || {};window.PLOTLYENV.BASE_URL=\"https://plot.ly\";Plotly.newPlot(\"563b52e1-34c0-41bf-8033-7323a90a3387\", [{\"name\": \"\\u4e2a\\u6027\\u5316\\u7ec4\", \"x\": [\"8-1\", \"8-2\", \"8-3\", \"8-4\", \"9-1\", \"9-2\", \"9-3\"], \"y\": [null, null, null, null, null, null, 0.0], \"type\": \"scatter\", \"uid\": \"51334a46-c559-11e8-97d0-a81e84e6c740\"}, {\"name\": \"\\u5206\\u6790\\u4e00\\u7ec4\", \"x\": [\"8-1\", \"8-2\", \"8-3\", \"8-4\", \"9-1\", \"9-2\", \"9-3\"], \"y\": [0.0, 0.0, 0.0, 0.0, 0.0, 0.0, 0.0], \"type\": \"scatter\", \"uid\": \"51334dde-c559-11e8-97d0-a81e84e6c740\"}, {\"name\": \"\\u5206\\u6790\\u4e8c\\u7ec4\", \"x\": [\"8-1\", \"8-2\", \"8-3\", \"8-4\", \"9-1\", \"9-2\", \"9-3\"], \"y\": [0.0, 0.0, 0.0, 0.0, 0.0, 0.0, 0.0], \"type\": \"scatter\", \"uid\": \"51335036-c559-11e8-97d0-a81e84e6c740\"}], {\"title\": \"\\u4ea4\\u4ed8\\u5ef6\\u671f\\u7387\\u5468\\u8d8b\\u52bf\\u56fe\", \"xaxis\": {\"mirror\": \"all\", \"nticks\": 20, \"showgrid\": true, \"showline\": true, \"title\": \"\\u5468\", \"zeroline\": true}, \"yaxis\": {\"mirror\": \"all\", \"nticks\": 20, \"showgrid\": true, \"showline\": true, \"title\": \"\\u4ea4\\u4ed8\\u5ef6\\u671f\\u7387\", \"zeroline\": true}}, {\"showLink\": true, \"linkText\": \"Export to plot.ly\"})});</script>"
      ]
     },
     "metadata": {},
     "output_type": "display_data"
    }
   ],
   "source": [
    "data_dict = {'交付延期率':['24h内未完成数据交付项目数', '待交付项目数']}\n",
    "myModule.plot( all_dict, data_dict, '组别' ,  'line' , time_list = time_list)"
   ]
  }
 ],
 "metadata": {
  "hide_input": false,
  "kernelspec": {
   "display_name": "Python 3",
   "language": "python",
   "name": "python3"
  },
  "language_info": {
   "codemirror_mode": {
    "name": "ipython",
    "version": 3
   },
   "file_extension": ".py",
   "mimetype": "text/x-python",
   "name": "python",
   "nbconvert_exporter": "python",
   "pygments_lexer": "ipython3",
   "version": "3.6.6"
  },
  "toc": {
   "base_numbering": 1,
   "nav_menu": {
    "height": "247px",
    "width": "215px"
   },
   "number_sections": true,
   "sideBar": true,
   "skip_h1_title": false,
   "title_cell": "Table of Contents",
   "title_sidebar": "Contents",
   "toc_cell": false,
   "toc_position": {
    "height": "calc(100% - 180px)",
    "left": "10px",
    "top": "150px",
    "width": "245.486px"
   },
   "toc_section_display": true,
   "toc_window_display": true
  },
  "widgets": {
   "application/vnd.jupyter.widget-state+json": {
    "state": {},
    "version_major": 2,
    "version_minor": 0
   }
  }
 },
 "nbformat": 4,
 "nbformat_minor": 2
}
