{
 "cells": [
  {
   "cell_type": "markdown",
   "metadata": {},
   "source": [
    "tobedone：每组人均产能，表格的规整和简化"
   ]
  },
  {
   "cell_type": "code",
   "execution_count": 41,
   "metadata": {
    "collapsed": false
   },
   "outputs": [
    {
     "name": "stdout",
     "output_type": "stream",
     "text": [
      "The autoreload extension is already loaded. To reload it, use:\n",
      "  %reload_ext autoreload\n"
     ]
    }
   ],
   "source": [
    "%load_ext autoreload\n",
    "%autoreload 2"
   ]
  },
  {
   "cell_type": "code",
   "execution_count": 42,
   "metadata": {
    "collapsed": false,
    "scrolled": true
   },
   "outputs": [
    {
     "data": {
      "text/html": [
       "<script>requirejs.config({paths: { 'plotly': ['https://cdn.plot.ly/plotly-latest.min']},});if(!window.Plotly) {{require(['plotly'],function(plotly) {window.Plotly=plotly;});}}</script>"
      ],
      "text/vnd.plotly.v1+html": [
       "<script>requirejs.config({paths: { 'plotly': ['https://cdn.plot.ly/plotly-latest.min']},});if(!window.Plotly) {{require(['plotly'],function(plotly) {window.Plotly=plotly;});}}</script>"
      ]
     },
     "metadata": {},
     "output_type": "display_data"
    }
   ],
   "source": [
    "import sys\n",
    "sys.path.append('./')\n",
    "import myModule\n",
    "import imp\n",
    "imp.reload(myModule)\n",
    "time_list=['week']"
   ]
  },
  {
   "cell_type": "code",
   "execution_count": 43,
   "metadata": {
    "collapsed": false,
    "scrolled": true
   },
   "outputs": [],
   "source": [
    "import os\n",
    "bindir = os.path.dirname(os.getcwd())\n",
    "pathway = bindir + '/../data/Analysis/'\n",
    "all_files , title = myModule.get_title(pathway, 0)   ##给路径\n",
    "all_df1  = myModule.read_xlsx(all_files , 0 )## read all files sheet1\n",
    "all_df2  = myModule.read_xlsx(all_files , 1 )\n",
    "all_df3  = myModule.read_xlsx(all_files , 2 )"
   ]
  },
  {
   "cell_type": "code",
   "execution_count": 44,
   "metadata": {
    "collapsed": false
   },
   "outputs": [
    {
     "data": {
      "text/html": [
       "<div>\n",
       "<style scoped>\n",
       "    .dataframe tbody tr th:only-of-type {\n",
       "        vertical-align: middle;\n",
       "    }\n",
       "\n",
       "    .dataframe tbody tr th {\n",
       "        vertical-align: top;\n",
       "    }\n",
       "\n",
       "    .dataframe thead th {\n",
       "        text-align: right;\n",
       "    }\n",
       "</style>\n",
       "<table border=\"1\" class=\"dataframe\">\n",
       "  <thead>\n",
       "    <tr style=\"text-align: right;\">\n",
       "      <th></th>\n",
       "      <th>组别</th>\n",
       "      <th>人员</th>\n",
       "      <th>日期（格式“月-周次”）</th>\n",
       "      <th>完成流水线项目数</th>\n",
       "      <th>完成非流水线项目数</th>\n",
       "      <th>完成只分析项目数</th>\n",
       "      <th>完成联合分析项目数</th>\n",
       "      <th>完成个性化数</th>\n",
       "      <th>接入个性化数</th>\n",
       "      <th>在线标准分析项目数</th>\n",
       "      <th>在线个性化项目数</th>\n",
       "      <th>未下机项目数</th>\n",
       "      <th>month</th>\n",
       "      <th>完成商业项目数</th>\n",
       "      <th>完成项目总数</th>\n",
       "      <th>在线项目总数</th>\n",
       "    </tr>\n",
       "  </thead>\n",
       "  <tbody>\n",
       "  </tbody>\n",
       "</table>\n",
       "</div>"
      ],
      "text/plain": [
       "Empty DataFrame\n",
       "Columns: [组别, 人员, 日期（格式“月-周次”）, 完成流水线项目数, 完成非流水线项目数, 完成只分析项目数, 完成联合分析项目数, 完成个性化数, 接入个性化数, 在线标准分析项目数, 在线个性化项目数, 未下机项目数, month, 完成商业项目数, 完成项目总数, 在线项目总数]\n",
       "Index: []"
      ]
     },
     "execution_count": 44,
     "metadata": {},
     "output_type": "execute_result"
    }
   ],
   "source": [
    "### show NA after first running\n",
    "myModule.upgrade_df(all_df1, [ ['完成商业项目数',['完成流水线项目数','完成非流水线项目数','完成只分析项目数','完成联合分析项目数'],'+']])\n",
    "myModule.upgrade_df(all_df1, [ ['完成项目总数',['完成商业项目数','完成个性化数'],'+'] , \n",
    "                               ['在线项目总数',['在线标准分析项目数','在线个性化项目数'],'+']])\n",
    "#all_dict2 = myModule.read_xlsx(all_files , 1 ) ##\n",
    "#all_df1.drop([])\n",
    "all_df1.loc[all_df1['日期（格式“月-周次”）']=='10-1'].head()\n"
   ]
  },
  {
   "cell_type": "markdown",
   "metadata": {},
   "source": [
    "# 人员情况"
   ]
  },
  {
   "cell_type": "markdown",
   "metadata": {},
   "source": [
    "## 分析组整体人员情况"
   ]
  },
  {
   "cell_type": "code",
   "execution_count": 45,
   "metadata": {
    "collapsed": false,
    "scrolled": false
   },
   "outputs": [
    {
     "data": {
      "application/vnd.plotly.v1+json": {
       "data": [
        {
         "name": "人员",
         "type": "bar",
         "uid": "4aaabb36-d5ea-11e8-8ddb-a41f72875c19",
         "x": [
          "9-1",
          "9-2",
          "9-3",
          "9-4",
          "10-2",
          "10-3"
         ],
         "y": [
          18,
          18,
          18,
          18,
          14,
          14
         ]
        }
       ],
       "layout": {
        "title": "人员周趋势图",
        "xaxis": {
         "mirror": "all",
         "nticks": 20,
         "showgrid": true,
         "showline": true,
         "title": "周",
         "type": "category",
         "zeroline": true
        },
        "yaxis": {
         "mirror": "all",
         "nticks": 20,
         "showgrid": true,
         "showline": true,
         "title": "人员",
         "zeroline": true
        }
       }
      },
      "text/html": [
       "<div id=\"79196d3d-e111-48b8-a612-98712bb5e148\" style=\"height: 525px; width: 100%;\" class=\"plotly-graph-div\"></div><script type=\"text/javascript\">require([\"plotly\"], function(Plotly) { window.PLOTLYENV=window.PLOTLYENV || {};window.PLOTLYENV.BASE_URL=\"https://plot.ly\";Plotly.newPlot(\"79196d3d-e111-48b8-a612-98712bb5e148\", [{\"name\": \"\\u4eba\\u5458\", \"x\": [\"9-1\", \"9-2\", \"9-3\", \"9-4\", \"10-2\", \"10-3\"], \"y\": [18, 18, 18, 18, 14, 14], \"type\": \"bar\", \"uid\": \"4aaabb36-d5ea-11e8-8ddb-a41f72875c19\"}], {\"title\": \"\\u4eba\\u5458\\u5468\\u8d8b\\u52bf\\u56fe\", \"xaxis\": {\"mirror\": \"all\", \"nticks\": 20, \"showgrid\": true, \"showline\": true, \"title\": \"\\u5468\", \"type\": \"category\", \"zeroline\": true}, \"yaxis\": {\"mirror\": \"all\", \"nticks\": 20, \"showgrid\": true, \"showline\": true, \"title\": \"\\u4eba\\u5458\", \"zeroline\": true}}, {\"showLink\": true, \"linkText\": \"Export to plot.ly\"})});</script>"
      ],
      "text/vnd.plotly.v1+html": [
       "<div id=\"79196d3d-e111-48b8-a612-98712bb5e148\" style=\"height: 525px; width: 100%;\" class=\"plotly-graph-div\"></div><script type=\"text/javascript\">require([\"plotly\"], function(Plotly) { window.PLOTLYENV=window.PLOTLYENV || {};window.PLOTLYENV.BASE_URL=\"https://plot.ly\";Plotly.newPlot(\"79196d3d-e111-48b8-a612-98712bb5e148\", [{\"name\": \"\\u4eba\\u5458\", \"x\": [\"9-1\", \"9-2\", \"9-3\", \"9-4\", \"10-2\", \"10-3\"], \"y\": [18, 18, 18, 18, 14, 14], \"type\": \"bar\", \"uid\": \"4aaabb36-d5ea-11e8-8ddb-a41f72875c19\"}], {\"title\": \"\\u4eba\\u5458\\u5468\\u8d8b\\u52bf\\u56fe\", \"xaxis\": {\"mirror\": \"all\", \"nticks\": 20, \"showgrid\": true, \"showline\": true, \"title\": \"\\u5468\", \"type\": \"category\", \"zeroline\": true}, \"yaxis\": {\"mirror\": \"all\", \"nticks\": 20, \"showgrid\": true, \"showline\": true, \"title\": \"\\u4eba\\u5458\", \"zeroline\": true}}, {\"showLink\": true, \"linkText\": \"Export to plot.ly\"})});</script>"
      ]
     },
     "metadata": {},
     "output_type": "display_data"
    }
   ],
   "source": [
    "ss = myModule.format(all_df1 ,\"日期（格式“月-周次”）\" ,['人员'])\n",
    "ss.groupby('count')\n",
    "myModule.sort_by_index(ss.groupby('count'))\n",
    "tt = myModule.myPlot(myModule.sort_by_index(ss.groupby('count')))\n",
    "tt.plot('bar')"
   ]
  },
  {
   "cell_type": "code",
   "execution_count": 46,
   "metadata": {
    "collapsed": false,
    "scrolled": false
   },
   "outputs": [
    {
     "data": {
      "application/vnd.plotly.v1+json": {
       "data": [
        {
         "name": "人员",
         "type": "bar",
         "uid": "4aaabb37-d5ea-11e8-8ddb-a41f72875c19",
         "x": [
          9,
          10
         ],
         "y": [
          18,
          14
         ]
        }
       ],
       "layout": {
        "title": "人员月趋势图",
        "xaxis": {
         "mirror": "all",
         "nticks": 20,
         "showgrid": true,
         "showline": true,
         "title": "月",
         "type": "category",
         "zeroline": true
        },
        "yaxis": {
         "mirror": "all",
         "nticks": 20,
         "showgrid": true,
         "showline": true,
         "title": "人员",
         "zeroline": true
        }
       }
      },
      "text/html": [
       "<div id=\"613f12f8-b8d1-473c-a9d4-7c87171df6de\" style=\"height: 525px; width: 100%;\" class=\"plotly-graph-div\"></div><script type=\"text/javascript\">require([\"plotly\"], function(Plotly) { window.PLOTLYENV=window.PLOTLYENV || {};window.PLOTLYENV.BASE_URL=\"https://plot.ly\";Plotly.newPlot(\"613f12f8-b8d1-473c-a9d4-7c87171df6de\", [{\"name\": \"\\u4eba\\u5458\", \"x\": [9, 10], \"y\": [18, 14], \"type\": \"bar\", \"uid\": \"4aaabb37-d5ea-11e8-8ddb-a41f72875c19\"}], {\"title\": \"\\u4eba\\u5458\\u6708\\u8d8b\\u52bf\\u56fe\", \"xaxis\": {\"mirror\": \"all\", \"nticks\": 20, \"showgrid\": true, \"showline\": true, \"title\": \"\\u6708\", \"type\": \"category\", \"zeroline\": true}, \"yaxis\": {\"mirror\": \"all\", \"nticks\": 20, \"showgrid\": true, \"showline\": true, \"title\": \"\\u4eba\\u5458\", \"zeroline\": true}}, {\"showLink\": true, \"linkText\": \"Export to plot.ly\"})});</script>"
      ],
      "text/vnd.plotly.v1+html": [
       "<div id=\"613f12f8-b8d1-473c-a9d4-7c87171df6de\" style=\"height: 525px; width: 100%;\" class=\"plotly-graph-div\"></div><script type=\"text/javascript\">require([\"plotly\"], function(Plotly) { window.PLOTLYENV=window.PLOTLYENV || {};window.PLOTLYENV.BASE_URL=\"https://plot.ly\";Plotly.newPlot(\"613f12f8-b8d1-473c-a9d4-7c87171df6de\", [{\"name\": \"\\u4eba\\u5458\", \"x\": [9, 10], \"y\": [18, 14], \"type\": \"bar\", \"uid\": \"4aaabb37-d5ea-11e8-8ddb-a41f72875c19\"}], {\"title\": \"\\u4eba\\u5458\\u6708\\u8d8b\\u52bf\\u56fe\", \"xaxis\": {\"mirror\": \"all\", \"nticks\": 20, \"showgrid\": true, \"showline\": true, \"title\": \"\\u6708\", \"type\": \"category\", \"zeroline\": true}, \"yaxis\": {\"mirror\": \"all\", \"nticks\": 20, \"showgrid\": true, \"showline\": true, \"title\": \"\\u4eba\\u5458\", \"zeroline\": true}}, {\"showLink\": true, \"linkText\": \"Export to plot.ly\"})});</script>"
      ]
     },
     "metadata": {},
     "output_type": "display_data"
    }
   ],
   "source": [
    "ss = myModule.format(all_df1 ,\"month\" ,['人员'] )\n",
    "ss.get_average_by('日期（格式“月-周次”）')\n",
    "tt = myModule.myPlot(ss.groupby(\"count\") )# ,\"日期（格式“月-周次”）\" ,['人员'])\n",
    "tt.plot('bar',tag='月')"
   ]
  },
  {
   "cell_type": "markdown",
   "metadata": {},
   "source": [
    "## 各组人员情况"
   ]
  },
  {
   "cell_type": "code",
   "execution_count": 47,
   "metadata": {
    "collapsed": false
   },
   "outputs": [
    {
     "data": {
      "application/vnd.plotly.v1+json": {
       "data": [
        {
         "name": "人员(分析一组)",
         "type": "bar",
         "uid": "4aaabb38-d5ea-11e8-8ddb-a41f72875c19",
         "x": [
          "9-1",
          "9-2",
          "9-3",
          "9-4",
          "10-2",
          "10-3"
         ],
         "y": [
          4,
          4,
          4,
          4,
          5,
          5
         ]
        },
        {
         "name": "人员(个性化组)",
         "type": "bar",
         "uid": "4aaabb39-d5ea-11e8-8ddb-a41f72875c19",
         "x": [
          "9-1",
          "9-2",
          "9-3",
          "9-4",
          "10-2",
          "10-3"
         ],
         "y": [
          4,
          4,
          4,
          4,
          5,
          5
         ]
        },
        {
         "name": "人员(分析二组)",
         "type": "bar",
         "uid": "4aaabb3a-d5ea-11e8-8ddb-a41f72875c19",
         "x": [
          "9-1",
          "9-2",
          "9-3",
          "9-4",
          "10-2",
          "10-3"
         ],
         "y": [
          10,
          10,
          10,
          10,
          4,
          4
         ]
        }
       ],
       "layout": {
        "barmode": "stack",
        "title": "人员周趋势图",
        "xaxis": {
         "mirror": "all",
         "nticks": 20,
         "showgrid": true,
         "showline": true,
         "title": "周",
         "type": "category",
         "zeroline": true
        },
        "yaxis": {
         "mirror": "all",
         "nticks": 20,
         "showgrid": true,
         "showline": true,
         "title": "人员",
         "zeroline": true
        }
       }
      },
      "text/html": [
       "<div id=\"b9c64642-22dc-4e2d-bbb1-66fcc1a74180\" style=\"height: 525px; width: 100%;\" class=\"plotly-graph-div\"></div><script type=\"text/javascript\">require([\"plotly\"], function(Plotly) { window.PLOTLYENV=window.PLOTLYENV || {};window.PLOTLYENV.BASE_URL=\"https://plot.ly\";Plotly.newPlot(\"b9c64642-22dc-4e2d-bbb1-66fcc1a74180\", [{\"name\": \"\\u4eba\\u5458(\\u5206\\u6790\\u4e00\\u7ec4)\", \"x\": [\"9-1\", \"9-2\", \"9-3\", \"9-4\", \"10-2\", \"10-3\"], \"y\": [4, 4, 4, 4, 5, 5], \"type\": \"bar\", \"uid\": \"4aaabb38-d5ea-11e8-8ddb-a41f72875c19\"}, {\"name\": \"\\u4eba\\u5458(\\u4e2a\\u6027\\u5316\\u7ec4)\", \"x\": [\"9-1\", \"9-2\", \"9-3\", \"9-4\", \"10-2\", \"10-3\"], \"y\": [4, 4, 4, 4, 5, 5], \"type\": \"bar\", \"uid\": \"4aaabb39-d5ea-11e8-8ddb-a41f72875c19\"}, {\"name\": \"\\u4eba\\u5458(\\u5206\\u6790\\u4e8c\\u7ec4)\", \"x\": [\"9-1\", \"9-2\", \"9-3\", \"9-4\", \"10-2\", \"10-3\"], \"y\": [10, 10, 10, 10, 4, 4], \"type\": \"bar\", \"uid\": \"4aaabb3a-d5ea-11e8-8ddb-a41f72875c19\"}], {\"barmode\": \"stack\", \"title\": \"\\u4eba\\u5458\\u5468\\u8d8b\\u52bf\\u56fe\", \"xaxis\": {\"mirror\": \"all\", \"nticks\": 20, \"showgrid\": true, \"showline\": true, \"title\": \"\\u5468\", \"type\": \"category\", \"zeroline\": true}, \"yaxis\": {\"mirror\": \"all\", \"nticks\": 20, \"showgrid\": true, \"showline\": true, \"title\": \"\\u4eba\\u5458\", \"zeroline\": true}}, {\"showLink\": true, \"linkText\": \"Export to plot.ly\"})});</script>"
      ],
      "text/vnd.plotly.v1+html": [
       "<div id=\"b9c64642-22dc-4e2d-bbb1-66fcc1a74180\" style=\"height: 525px; width: 100%;\" class=\"plotly-graph-div\"></div><script type=\"text/javascript\">require([\"plotly\"], function(Plotly) { window.PLOTLYENV=window.PLOTLYENV || {};window.PLOTLYENV.BASE_URL=\"https://plot.ly\";Plotly.newPlot(\"b9c64642-22dc-4e2d-bbb1-66fcc1a74180\", [{\"name\": \"\\u4eba\\u5458(\\u5206\\u6790\\u4e00\\u7ec4)\", \"x\": [\"9-1\", \"9-2\", \"9-3\", \"9-4\", \"10-2\", \"10-3\"], \"y\": [4, 4, 4, 4, 5, 5], \"type\": \"bar\", \"uid\": \"4aaabb38-d5ea-11e8-8ddb-a41f72875c19\"}, {\"name\": \"\\u4eba\\u5458(\\u4e2a\\u6027\\u5316\\u7ec4)\", \"x\": [\"9-1\", \"9-2\", \"9-3\", \"9-4\", \"10-2\", \"10-3\"], \"y\": [4, 4, 4, 4, 5, 5], \"type\": \"bar\", \"uid\": \"4aaabb39-d5ea-11e8-8ddb-a41f72875c19\"}, {\"name\": \"\\u4eba\\u5458(\\u5206\\u6790\\u4e8c\\u7ec4)\", \"x\": [\"9-1\", \"9-2\", \"9-3\", \"9-4\", \"10-2\", \"10-3\"], \"y\": [10, 10, 10, 10, 4, 4], \"type\": \"bar\", \"uid\": \"4aaabb3a-d5ea-11e8-8ddb-a41f72875c19\"}], {\"barmode\": \"stack\", \"title\": \"\\u4eba\\u5458\\u5468\\u8d8b\\u52bf\\u56fe\", \"xaxis\": {\"mirror\": \"all\", \"nticks\": 20, \"showgrid\": true, \"showline\": true, \"title\": \"\\u5468\", \"type\": \"category\", \"zeroline\": true}, \"yaxis\": {\"mirror\": \"all\", \"nticks\": 20, \"showgrid\": true, \"showline\": true, \"title\": \"\\u4eba\\u5458\", \"zeroline\": true}}, {\"showLink\": true, \"linkText\": \"Export to plot.ly\"})});</script>"
      ]
     },
     "metadata": {},
     "output_type": "display_data"
    }
   ],
   "source": [
    "ss = myModule.format(all_df1 ,\"日期（格式“月-周次”）\" ,['人员'])\n",
    "ss.add_group('组别')\n",
    "myModule.myPlot(myModule.sort_by_index(ss.groupby('count'))).plot('stack_bar')"
   ]
  },
  {
   "cell_type": "markdown",
   "metadata": {},
   "source": [
    "# 产能情况"
   ]
  },
  {
   "cell_type": "markdown",
   "metadata": {},
   "source": [
    "## 总完成项目数情况"
   ]
  },
  {
   "cell_type": "markdown",
   "metadata": {},
   "source": [
    "### 分析组完成项目数"
   ]
  },
  {
   "cell_type": "code",
   "execution_count": 48,
   "metadata": {
    "collapsed": false
   },
   "outputs": [
    {
     "data": {
      "application/vnd.plotly.v1+json": {
       "data": [
        {
         "name": "完成商业项目数",
         "type": "bar",
         "uid": "4aaabb3b-d5ea-11e8-8ddb-a41f72875c19",
         "x": [
          "9-1",
          "9-2",
          "9-3",
          "9-4",
          "10-2",
          "10-3"
         ],
         "y": [
          26,
          40,
          23,
          28,
          27,
          27
         ]
        },
        {
         "name": "完成个性化数",
         "type": "bar",
         "uid": "4aaabb3c-d5ea-11e8-8ddb-a41f72875c19",
         "x": [
          "9-1",
          "9-2",
          "9-3",
          "9-4",
          "10-2",
          "10-3"
         ],
         "y": [
          31,
          39,
          41,
          28,
          24,
          39
         ]
        }
       ],
       "layout": {
        "barmode": "stack",
        "title": "完成商业项目数&完成个性化数周趋势图",
        "xaxis": {
         "mirror": "all",
         "nticks": 20,
         "showgrid": true,
         "showline": true,
         "title": "周",
         "type": "category",
         "zeroline": true
        },
        "yaxis": {
         "mirror": "all",
         "nticks": 20,
         "showgrid": true,
         "showline": true,
         "title": "完成商业项目数&完成个性化数",
         "zeroline": true
        }
       }
      },
      "text/html": [
       "<div id=\"3c7b4f31-8699-41d4-a700-392a7e24cd3e\" style=\"height: 525px; width: 100%;\" class=\"plotly-graph-div\"></div><script type=\"text/javascript\">require([\"plotly\"], function(Plotly) { window.PLOTLYENV=window.PLOTLYENV || {};window.PLOTLYENV.BASE_URL=\"https://plot.ly\";Plotly.newPlot(\"3c7b4f31-8699-41d4-a700-392a7e24cd3e\", [{\"name\": \"\\u5b8c\\u6210\\u5546\\u4e1a\\u9879\\u76ee\\u6570\", \"x\": [\"9-1\", \"9-2\", \"9-3\", \"9-4\", \"10-2\", \"10-3\"], \"y\": [26, 40, 23, 28, 27, 27], \"type\": \"bar\", \"uid\": \"4aaabb3b-d5ea-11e8-8ddb-a41f72875c19\"}, {\"name\": \"\\u5b8c\\u6210\\u4e2a\\u6027\\u5316\\u6570\", \"x\": [\"9-1\", \"9-2\", \"9-3\", \"9-4\", \"10-2\", \"10-3\"], \"y\": [31, 39, 41, 28, 24, 39], \"type\": \"bar\", \"uid\": \"4aaabb3c-d5ea-11e8-8ddb-a41f72875c19\"}], {\"barmode\": \"stack\", \"title\": \"\\u5b8c\\u6210\\u5546\\u4e1a\\u9879\\u76ee\\u6570&\\u5b8c\\u6210\\u4e2a\\u6027\\u5316\\u6570\\u5468\\u8d8b\\u52bf\\u56fe\", \"xaxis\": {\"mirror\": \"all\", \"nticks\": 20, \"showgrid\": true, \"showline\": true, \"title\": \"\\u5468\", \"type\": \"category\", \"zeroline\": true}, \"yaxis\": {\"mirror\": \"all\", \"nticks\": 20, \"showgrid\": true, \"showline\": true, \"title\": \"\\u5b8c\\u6210\\u5546\\u4e1a\\u9879\\u76ee\\u6570&\\u5b8c\\u6210\\u4e2a\\u6027\\u5316\\u6570\", \"zeroline\": true}}, {\"showLink\": true, \"linkText\": \"Export to plot.ly\"})});</script>"
      ],
      "text/vnd.plotly.v1+html": [
       "<div id=\"3c7b4f31-8699-41d4-a700-392a7e24cd3e\" style=\"height: 525px; width: 100%;\" class=\"plotly-graph-div\"></div><script type=\"text/javascript\">require([\"plotly\"], function(Plotly) { window.PLOTLYENV=window.PLOTLYENV || {};window.PLOTLYENV.BASE_URL=\"https://plot.ly\";Plotly.newPlot(\"3c7b4f31-8699-41d4-a700-392a7e24cd3e\", [{\"name\": \"\\u5b8c\\u6210\\u5546\\u4e1a\\u9879\\u76ee\\u6570\", \"x\": [\"9-1\", \"9-2\", \"9-3\", \"9-4\", \"10-2\", \"10-3\"], \"y\": [26, 40, 23, 28, 27, 27], \"type\": \"bar\", \"uid\": \"4aaabb3b-d5ea-11e8-8ddb-a41f72875c19\"}, {\"name\": \"\\u5b8c\\u6210\\u4e2a\\u6027\\u5316\\u6570\", \"x\": [\"9-1\", \"9-2\", \"9-3\", \"9-4\", \"10-2\", \"10-3\"], \"y\": [31, 39, 41, 28, 24, 39], \"type\": \"bar\", \"uid\": \"4aaabb3c-d5ea-11e8-8ddb-a41f72875c19\"}], {\"barmode\": \"stack\", \"title\": \"\\u5b8c\\u6210\\u5546\\u4e1a\\u9879\\u76ee\\u6570&\\u5b8c\\u6210\\u4e2a\\u6027\\u5316\\u6570\\u5468\\u8d8b\\u52bf\\u56fe\", \"xaxis\": {\"mirror\": \"all\", \"nticks\": 20, \"showgrid\": true, \"showline\": true, \"title\": \"\\u5468\", \"type\": \"category\", \"zeroline\": true}, \"yaxis\": {\"mirror\": \"all\", \"nticks\": 20, \"showgrid\": true, \"showline\": true, \"title\": \"\\u5b8c\\u6210\\u5546\\u4e1a\\u9879\\u76ee\\u6570&\\u5b8c\\u6210\\u4e2a\\u6027\\u5316\\u6570\", \"zeroline\": true}}, {\"showLink\": true, \"linkText\": \"Export to plot.ly\"})});</script>"
      ]
     },
     "metadata": {},
     "output_type": "display_data"
    },
    {
     "data": {
      "application/vnd.plotly.v1+json": {
       "data": [
        {
         "name": "完成商业项目数",
         "type": "bar",
         "uid": "4aaabb3d-d5ea-11e8-8ddb-a41f72875c19",
         "x": [
          9,
          10
         ],
         "y": [
          117,
          54
         ]
        },
        {
         "name": "完成个性化数",
         "type": "bar",
         "uid": "4aaabb3e-d5ea-11e8-8ddb-a41f72875c19",
         "x": [
          9,
          10
         ],
         "y": [
          139,
          63
         ]
        }
       ],
       "layout": {
        "barmode": "stack",
        "title": "完成商业项目数&完成个性化数月趋势图",
        "xaxis": {
         "mirror": "all",
         "nticks": 20,
         "showgrid": true,
         "showline": true,
         "title": "月",
         "type": "category",
         "zeroline": true
        },
        "yaxis": {
         "mirror": "all",
         "nticks": 20,
         "showgrid": true,
         "showline": true,
         "title": "完成商业项目数&完成个性化数",
         "zeroline": true
        }
       }
      },
      "text/html": [
       "<div id=\"8009d273-8913-4c19-b1ed-060a1403847f\" style=\"height: 525px; width: 100%;\" class=\"plotly-graph-div\"></div><script type=\"text/javascript\">require([\"plotly\"], function(Plotly) { window.PLOTLYENV=window.PLOTLYENV || {};window.PLOTLYENV.BASE_URL=\"https://plot.ly\";Plotly.newPlot(\"8009d273-8913-4c19-b1ed-060a1403847f\", [{\"name\": \"\\u5b8c\\u6210\\u5546\\u4e1a\\u9879\\u76ee\\u6570\", \"x\": [9, 10], \"y\": [117, 54], \"type\": \"bar\", \"uid\": \"4aaabb3d-d5ea-11e8-8ddb-a41f72875c19\"}, {\"name\": \"\\u5b8c\\u6210\\u4e2a\\u6027\\u5316\\u6570\", \"x\": [9, 10], \"y\": [139, 63], \"type\": \"bar\", \"uid\": \"4aaabb3e-d5ea-11e8-8ddb-a41f72875c19\"}], {\"barmode\": \"stack\", \"title\": \"\\u5b8c\\u6210\\u5546\\u4e1a\\u9879\\u76ee\\u6570&\\u5b8c\\u6210\\u4e2a\\u6027\\u5316\\u6570\\u6708\\u8d8b\\u52bf\\u56fe\", \"xaxis\": {\"mirror\": \"all\", \"nticks\": 20, \"showgrid\": true, \"showline\": true, \"title\": \"\\u6708\", \"type\": \"category\", \"zeroline\": true}, \"yaxis\": {\"mirror\": \"all\", \"nticks\": 20, \"showgrid\": true, \"showline\": true, \"title\": \"\\u5b8c\\u6210\\u5546\\u4e1a\\u9879\\u76ee\\u6570&\\u5b8c\\u6210\\u4e2a\\u6027\\u5316\\u6570\", \"zeroline\": true}}, {\"showLink\": true, \"linkText\": \"Export to plot.ly\"})});</script>"
      ],
      "text/vnd.plotly.v1+html": [
       "<div id=\"8009d273-8913-4c19-b1ed-060a1403847f\" style=\"height: 525px; width: 100%;\" class=\"plotly-graph-div\"></div><script type=\"text/javascript\">require([\"plotly\"], function(Plotly) { window.PLOTLYENV=window.PLOTLYENV || {};window.PLOTLYENV.BASE_URL=\"https://plot.ly\";Plotly.newPlot(\"8009d273-8913-4c19-b1ed-060a1403847f\", [{\"name\": \"\\u5b8c\\u6210\\u5546\\u4e1a\\u9879\\u76ee\\u6570\", \"x\": [9, 10], \"y\": [117, 54], \"type\": \"bar\", \"uid\": \"4aaabb3d-d5ea-11e8-8ddb-a41f72875c19\"}, {\"name\": \"\\u5b8c\\u6210\\u4e2a\\u6027\\u5316\\u6570\", \"x\": [9, 10], \"y\": [139, 63], \"type\": \"bar\", \"uid\": \"4aaabb3e-d5ea-11e8-8ddb-a41f72875c19\"}], {\"barmode\": \"stack\", \"title\": \"\\u5b8c\\u6210\\u5546\\u4e1a\\u9879\\u76ee\\u6570&\\u5b8c\\u6210\\u4e2a\\u6027\\u5316\\u6570\\u6708\\u8d8b\\u52bf\\u56fe\", \"xaxis\": {\"mirror\": \"all\", \"nticks\": 20, \"showgrid\": true, \"showline\": true, \"title\": \"\\u6708\", \"type\": \"category\", \"zeroline\": true}, \"yaxis\": {\"mirror\": \"all\", \"nticks\": 20, \"showgrid\": true, \"showline\": true, \"title\": \"\\u5b8c\\u6210\\u5546\\u4e1a\\u9879\\u76ee\\u6570&\\u5b8c\\u6210\\u4e2a\\u6027\\u5316\\u6570\", \"zeroline\": true}}, {\"showLink\": true, \"linkText\": \"Export to plot.ly\"})});</script>"
      ]
     },
     "metadata": {},
     "output_type": "display_data"
    }
   ],
   "source": [
    "ss = myModule.format(all_df1 ,\"日期（格式“月-周次”）\" ,['完成商业项目数','完成个性化数'])\n",
    "myModule.myPlot(myModule.sort_by_index(ss.groupby('sum'))).plot('stack_bar')\n",
    "ss = myModule.format(all_df1 ,\"month\" ,['完成商业项目数','完成个性化数'])\n",
    "myModule.myPlot(ss.groupby('sum')).plot('stack_bar',\"月\")"
   ]
  },
  {
   "cell_type": "markdown",
   "metadata": {},
   "source": [
    "### 项目组成情况"
   ]
  },
  {
   "cell_type": "code",
   "execution_count": 49,
   "metadata": {
    "collapsed": false,
    "scrolled": false
   },
   "outputs": [
    {
     "data": {
      "application/vnd.plotly.v1+json": {
       "data": [
        {
         "name": "完成流水线项目数",
         "type": "bar",
         "uid": "4aaabb3f-d5ea-11e8-8ddb-a41f72875c19",
         "x": [
          "9-1",
          "9-2",
          "9-3",
          "9-4",
          "10-2",
          "10-3"
         ],
         "y": [
          10,
          14,
          4,
          10,
          11,
          9
         ]
        },
        {
         "name": "完成非流水线项目数",
         "type": "bar",
         "uid": "4aaabb40-d5ea-11e8-8ddb-a41f72875c19",
         "x": [
          "9-1",
          "9-2",
          "9-3",
          "9-4",
          "10-2",
          "10-3"
         ],
         "y": [
          10,
          14,
          10,
          14,
          9,
          8
         ]
        },
        {
         "name": "完成只分析项目数",
         "type": "bar",
         "uid": "4aaabb41-d5ea-11e8-8ddb-a41f72875c19",
         "x": [
          "9-1",
          "9-2",
          "9-3",
          "9-4",
          "10-2",
          "10-3"
         ],
         "y": [
          2,
          9,
          6,
          4,
          5,
          6
         ]
        },
        {
         "name": "完成联合分析项目数",
         "type": "bar",
         "uid": "4aaabb42-d5ea-11e8-8ddb-a41f72875c19",
         "x": [
          "9-1",
          "9-2",
          "9-3",
          "9-4",
          "10-2",
          "10-3"
         ],
         "y": [
          4,
          3,
          3,
          0,
          2,
          4
         ]
        }
       ],
       "layout": {
        "barmode": "stack",
        "title": "项目组成情况",
        "xaxis": {
         "mirror": "all",
         "nticks": 20,
         "showgrid": true,
         "showline": true,
         "title": "周",
         "type": "category",
         "zeroline": true
        },
        "yaxis": {
         "mirror": "all",
         "nticks": 20,
         "showgrid": true,
         "showline": true,
         "title": "完成流水线项目数&完成非流水线项目数&完成只分析项目数&完成联合分析项目数",
         "zeroline": true
        }
       }
      },
      "text/html": [
       "<div id=\"91b161fd-5a5c-4923-8683-4f017eb647b9\" style=\"height: 525px; width: 100%;\" class=\"plotly-graph-div\"></div><script type=\"text/javascript\">require([\"plotly\"], function(Plotly) { window.PLOTLYENV=window.PLOTLYENV || {};window.PLOTLYENV.BASE_URL=\"https://plot.ly\";Plotly.newPlot(\"91b161fd-5a5c-4923-8683-4f017eb647b9\", [{\"name\": \"\\u5b8c\\u6210\\u6d41\\u6c34\\u7ebf\\u9879\\u76ee\\u6570\", \"x\": [\"9-1\", \"9-2\", \"9-3\", \"9-4\", \"10-2\", \"10-3\"], \"y\": [10, 14, 4, 10, 11, 9], \"type\": \"bar\", \"uid\": \"4aaabb3f-d5ea-11e8-8ddb-a41f72875c19\"}, {\"name\": \"\\u5b8c\\u6210\\u975e\\u6d41\\u6c34\\u7ebf\\u9879\\u76ee\\u6570\", \"x\": [\"9-1\", \"9-2\", \"9-3\", \"9-4\", \"10-2\", \"10-3\"], \"y\": [10, 14, 10, 14, 9, 8], \"type\": \"bar\", \"uid\": \"4aaabb40-d5ea-11e8-8ddb-a41f72875c19\"}, {\"name\": \"\\u5b8c\\u6210\\u53ea\\u5206\\u6790\\u9879\\u76ee\\u6570\", \"x\": [\"9-1\", \"9-2\", \"9-3\", \"9-4\", \"10-2\", \"10-3\"], \"y\": [2, 9, 6, 4, 5, 6], \"type\": \"bar\", \"uid\": \"4aaabb41-d5ea-11e8-8ddb-a41f72875c19\"}, {\"name\": \"\\u5b8c\\u6210\\u8054\\u5408\\u5206\\u6790\\u9879\\u76ee\\u6570\", \"x\": [\"9-1\", \"9-2\", \"9-3\", \"9-4\", \"10-2\", \"10-3\"], \"y\": [4, 3, 3, 0, 2, 4], \"type\": \"bar\", \"uid\": \"4aaabb42-d5ea-11e8-8ddb-a41f72875c19\"}], {\"barmode\": \"stack\", \"title\": \"\\u9879\\u76ee\\u7ec4\\u6210\\u60c5\\u51b5\", \"xaxis\": {\"mirror\": \"all\", \"nticks\": 20, \"showgrid\": true, \"showline\": true, \"title\": \"\\u5468\", \"type\": \"category\", \"zeroline\": true}, \"yaxis\": {\"mirror\": \"all\", \"nticks\": 20, \"showgrid\": true, \"showline\": true, \"title\": \"\\u5b8c\\u6210\\u6d41\\u6c34\\u7ebf\\u9879\\u76ee\\u6570&\\u5b8c\\u6210\\u975e\\u6d41\\u6c34\\u7ebf\\u9879\\u76ee\\u6570&\\u5b8c\\u6210\\u53ea\\u5206\\u6790\\u9879\\u76ee\\u6570&\\u5b8c\\u6210\\u8054\\u5408\\u5206\\u6790\\u9879\\u76ee\\u6570\", \"zeroline\": true}}, {\"showLink\": true, \"linkText\": \"Export to plot.ly\"})});</script>"
      ],
      "text/vnd.plotly.v1+html": [
       "<div id=\"91b161fd-5a5c-4923-8683-4f017eb647b9\" style=\"height: 525px; width: 100%;\" class=\"plotly-graph-div\"></div><script type=\"text/javascript\">require([\"plotly\"], function(Plotly) { window.PLOTLYENV=window.PLOTLYENV || {};window.PLOTLYENV.BASE_URL=\"https://plot.ly\";Plotly.newPlot(\"91b161fd-5a5c-4923-8683-4f017eb647b9\", [{\"name\": \"\\u5b8c\\u6210\\u6d41\\u6c34\\u7ebf\\u9879\\u76ee\\u6570\", \"x\": [\"9-1\", \"9-2\", \"9-3\", \"9-4\", \"10-2\", \"10-3\"], \"y\": [10, 14, 4, 10, 11, 9], \"type\": \"bar\", \"uid\": \"4aaabb3f-d5ea-11e8-8ddb-a41f72875c19\"}, {\"name\": \"\\u5b8c\\u6210\\u975e\\u6d41\\u6c34\\u7ebf\\u9879\\u76ee\\u6570\", \"x\": [\"9-1\", \"9-2\", \"9-3\", \"9-4\", \"10-2\", \"10-3\"], \"y\": [10, 14, 10, 14, 9, 8], \"type\": \"bar\", \"uid\": \"4aaabb40-d5ea-11e8-8ddb-a41f72875c19\"}, {\"name\": \"\\u5b8c\\u6210\\u53ea\\u5206\\u6790\\u9879\\u76ee\\u6570\", \"x\": [\"9-1\", \"9-2\", \"9-3\", \"9-4\", \"10-2\", \"10-3\"], \"y\": [2, 9, 6, 4, 5, 6], \"type\": \"bar\", \"uid\": \"4aaabb41-d5ea-11e8-8ddb-a41f72875c19\"}, {\"name\": \"\\u5b8c\\u6210\\u8054\\u5408\\u5206\\u6790\\u9879\\u76ee\\u6570\", \"x\": [\"9-1\", \"9-2\", \"9-3\", \"9-4\", \"10-2\", \"10-3\"], \"y\": [4, 3, 3, 0, 2, 4], \"type\": \"bar\", \"uid\": \"4aaabb42-d5ea-11e8-8ddb-a41f72875c19\"}], {\"barmode\": \"stack\", \"title\": \"\\u9879\\u76ee\\u7ec4\\u6210\\u60c5\\u51b5\", \"xaxis\": {\"mirror\": \"all\", \"nticks\": 20, \"showgrid\": true, \"showline\": true, \"title\": \"\\u5468\", \"type\": \"category\", \"zeroline\": true}, \"yaxis\": {\"mirror\": \"all\", \"nticks\": 20, \"showgrid\": true, \"showline\": true, \"title\": \"\\u5b8c\\u6210\\u6d41\\u6c34\\u7ebf\\u9879\\u76ee\\u6570&\\u5b8c\\u6210\\u975e\\u6d41\\u6c34\\u7ebf\\u9879\\u76ee\\u6570&\\u5b8c\\u6210\\u53ea\\u5206\\u6790\\u9879\\u76ee\\u6570&\\u5b8c\\u6210\\u8054\\u5408\\u5206\\u6790\\u9879\\u76ee\\u6570\", \"zeroline\": true}}, {\"showLink\": true, \"linkText\": \"Export to plot.ly\"})});</script>"
      ]
     },
     "metadata": {},
     "output_type": "display_data"
    },
    {
     "data": {
      "application/vnd.plotly.v1+json": {
       "data": [
        {
         "name": "完成流水线项目数",
         "type": "bar",
         "uid": "4aaabb43-d5ea-11e8-8ddb-a41f72875c19",
         "x": [
          9,
          10
         ],
         "y": [
          38,
          20
         ]
        },
        {
         "name": "完成非流水线项目数",
         "type": "bar",
         "uid": "4aaabb44-d5ea-11e8-8ddb-a41f72875c19",
         "x": [
          9,
          10
         ],
         "y": [
          48,
          17
         ]
        },
        {
         "name": "完成只分析项目数",
         "type": "bar",
         "uid": "4aaabb45-d5ea-11e8-8ddb-a41f72875c19",
         "x": [
          9,
          10
         ],
         "y": [
          21,
          11
         ]
        },
        {
         "name": "完成联合分析项目数",
         "type": "bar",
         "uid": "4aaabb46-d5ea-11e8-8ddb-a41f72875c19",
         "x": [
          9,
          10
         ],
         "y": [
          10,
          6
         ]
        }
       ],
       "layout": {
        "barmode": "stack",
        "title": "项目组成情况",
        "xaxis": {
         "mirror": "all",
         "nticks": 20,
         "showgrid": true,
         "showline": true,
         "title": "月",
         "type": "category",
         "zeroline": true
        },
        "yaxis": {
         "mirror": "all",
         "nticks": 20,
         "showgrid": true,
         "showline": true,
         "title": "完成流水线项目数&完成非流水线项目数&完成只分析项目数&完成联合分析项目数",
         "zeroline": true
        }
       }
      },
      "text/html": [
       "<div id=\"dbdb9c87-9fb7-457c-9156-5a91bf0c7fd3\" style=\"height: 525px; width: 100%;\" class=\"plotly-graph-div\"></div><script type=\"text/javascript\">require([\"plotly\"], function(Plotly) { window.PLOTLYENV=window.PLOTLYENV || {};window.PLOTLYENV.BASE_URL=\"https://plot.ly\";Plotly.newPlot(\"dbdb9c87-9fb7-457c-9156-5a91bf0c7fd3\", [{\"name\": \"\\u5b8c\\u6210\\u6d41\\u6c34\\u7ebf\\u9879\\u76ee\\u6570\", \"x\": [9, 10], \"y\": [38, 20], \"type\": \"bar\", \"uid\": \"4aaabb43-d5ea-11e8-8ddb-a41f72875c19\"}, {\"name\": \"\\u5b8c\\u6210\\u975e\\u6d41\\u6c34\\u7ebf\\u9879\\u76ee\\u6570\", \"x\": [9, 10], \"y\": [48, 17], \"type\": \"bar\", \"uid\": \"4aaabb44-d5ea-11e8-8ddb-a41f72875c19\"}, {\"name\": \"\\u5b8c\\u6210\\u53ea\\u5206\\u6790\\u9879\\u76ee\\u6570\", \"x\": [9, 10], \"y\": [21, 11], \"type\": \"bar\", \"uid\": \"4aaabb45-d5ea-11e8-8ddb-a41f72875c19\"}, {\"name\": \"\\u5b8c\\u6210\\u8054\\u5408\\u5206\\u6790\\u9879\\u76ee\\u6570\", \"x\": [9, 10], \"y\": [10, 6], \"type\": \"bar\", \"uid\": \"4aaabb46-d5ea-11e8-8ddb-a41f72875c19\"}], {\"barmode\": \"stack\", \"title\": \"\\u9879\\u76ee\\u7ec4\\u6210\\u60c5\\u51b5\", \"xaxis\": {\"mirror\": \"all\", \"nticks\": 20, \"showgrid\": true, \"showline\": true, \"title\": \"\\u6708\", \"type\": \"category\", \"zeroline\": true}, \"yaxis\": {\"mirror\": \"all\", \"nticks\": 20, \"showgrid\": true, \"showline\": true, \"title\": \"\\u5b8c\\u6210\\u6d41\\u6c34\\u7ebf\\u9879\\u76ee\\u6570&\\u5b8c\\u6210\\u975e\\u6d41\\u6c34\\u7ebf\\u9879\\u76ee\\u6570&\\u5b8c\\u6210\\u53ea\\u5206\\u6790\\u9879\\u76ee\\u6570&\\u5b8c\\u6210\\u8054\\u5408\\u5206\\u6790\\u9879\\u76ee\\u6570\", \"zeroline\": true}}, {\"showLink\": true, \"linkText\": \"Export to plot.ly\"})});</script>"
      ],
      "text/vnd.plotly.v1+html": [
       "<div id=\"dbdb9c87-9fb7-457c-9156-5a91bf0c7fd3\" style=\"height: 525px; width: 100%;\" class=\"plotly-graph-div\"></div><script type=\"text/javascript\">require([\"plotly\"], function(Plotly) { window.PLOTLYENV=window.PLOTLYENV || {};window.PLOTLYENV.BASE_URL=\"https://plot.ly\";Plotly.newPlot(\"dbdb9c87-9fb7-457c-9156-5a91bf0c7fd3\", [{\"name\": \"\\u5b8c\\u6210\\u6d41\\u6c34\\u7ebf\\u9879\\u76ee\\u6570\", \"x\": [9, 10], \"y\": [38, 20], \"type\": \"bar\", \"uid\": \"4aaabb43-d5ea-11e8-8ddb-a41f72875c19\"}, {\"name\": \"\\u5b8c\\u6210\\u975e\\u6d41\\u6c34\\u7ebf\\u9879\\u76ee\\u6570\", \"x\": [9, 10], \"y\": [48, 17], \"type\": \"bar\", \"uid\": \"4aaabb44-d5ea-11e8-8ddb-a41f72875c19\"}, {\"name\": \"\\u5b8c\\u6210\\u53ea\\u5206\\u6790\\u9879\\u76ee\\u6570\", \"x\": [9, 10], \"y\": [21, 11], \"type\": \"bar\", \"uid\": \"4aaabb45-d5ea-11e8-8ddb-a41f72875c19\"}, {\"name\": \"\\u5b8c\\u6210\\u8054\\u5408\\u5206\\u6790\\u9879\\u76ee\\u6570\", \"x\": [9, 10], \"y\": [10, 6], \"type\": \"bar\", \"uid\": \"4aaabb46-d5ea-11e8-8ddb-a41f72875c19\"}], {\"barmode\": \"stack\", \"title\": \"\\u9879\\u76ee\\u7ec4\\u6210\\u60c5\\u51b5\", \"xaxis\": {\"mirror\": \"all\", \"nticks\": 20, \"showgrid\": true, \"showline\": true, \"title\": \"\\u6708\", \"type\": \"category\", \"zeroline\": true}, \"yaxis\": {\"mirror\": \"all\", \"nticks\": 20, \"showgrid\": true, \"showline\": true, \"title\": \"\\u5b8c\\u6210\\u6d41\\u6c34\\u7ebf\\u9879\\u76ee\\u6570&\\u5b8c\\u6210\\u975e\\u6d41\\u6c34\\u7ebf\\u9879\\u76ee\\u6570&\\u5b8c\\u6210\\u53ea\\u5206\\u6790\\u9879\\u76ee\\u6570&\\u5b8c\\u6210\\u8054\\u5408\\u5206\\u6790\\u9879\\u76ee\\u6570\", \"zeroline\": true}}, {\"showLink\": true, \"linkText\": \"Export to plot.ly\"})});</script>"
      ]
     },
     "metadata": {},
     "output_type": "display_data"
    }
   ],
   "source": [
    "ss = myModule.format(all_df1 ,\"日期（格式“月-周次”）\" ,['完成流水线项目数','完成非流水线项目数','完成只分析项目数','完成联合分析项目数'])\n",
    "myModule.myPlot(myModule.sort_by_index(ss.groupby('sum'))).plot('stack_bar',fig_title='项目组成情况')\n",
    "ss = myModule.format(all_df1 ,\"month\" ,['完成流水线项目数','完成非流水线项目数','完成只分析项目数','完成联合分析项目数'])\n",
    "myModule.myPlot(ss.groupby('sum')).plot('stack_bar',\"月\",fig_title='项目组成情况')"
   ]
  },
  {
   "cell_type": "markdown",
   "metadata": {},
   "source": [
    "### 各组总完成项目趋势图"
   ]
  },
  {
   "cell_type": "code",
   "execution_count": 50,
   "metadata": {
    "collapsed": false
   },
   "outputs": [
    {
     "data": {
      "application/vnd.plotly.v1+json": {
       "data": [
        {
         "line": {
          "dash": "solid"
         },
         "name": "完成项目总数(分析一组)",
         "type": "scatter",
         "uid": "4aaabb47-d5ea-11e8-8ddb-a41f72875c19",
         "x": [
          "9-1",
          "9-2",
          "9-3",
          "9-4",
          "10-2",
          "10-3"
         ],
         "y": [
          11,
          15,
          9,
          10,
          23,
          29
         ]
        },
        {
         "line": {
          "dash": "dot"
         },
         "name": "完成项目总数(个性化组)",
         "type": "scatter",
         "uid": "4aaabb48-d5ea-11e8-8ddb-a41f72875c19",
         "x": [
          "9-1",
          "9-2",
          "9-3",
          "9-4",
          "10-2",
          "10-3"
         ],
         "y": [
          18,
          14,
          13,
          14,
          9,
          18
         ]
        },
        {
         "line": {
          "dash": "dash"
         },
         "name": "完成项目总数(分析二组)",
         "type": "scatter",
         "uid": "4aaabb49-d5ea-11e8-8ddb-a41f72875c19",
         "x": [
          "9-1",
          "9-2",
          "9-3",
          "9-4",
          "10-2",
          "10-3"
         ],
         "y": [
          28,
          50,
          42,
          32,
          19,
          19
         ]
        }
       ],
       "layout": {
        "title": "完成项目总数周趋势图",
        "xaxis": {
         "mirror": "all",
         "nticks": 20,
         "showgrid": true,
         "showline": true,
         "title": "周",
         "type": "category",
         "zeroline": true
        },
        "yaxis": {
         "mirror": "all",
         "nticks": 20,
         "showgrid": true,
         "showline": true,
         "title": "完成项目总数",
         "zeroline": true
        }
       }
      },
      "text/html": [
       "<div id=\"6bef013c-ca92-4138-a2e0-9077d93991c6\" style=\"height: 525px; width: 100%;\" class=\"plotly-graph-div\"></div><script type=\"text/javascript\">require([\"plotly\"], function(Plotly) { window.PLOTLYENV=window.PLOTLYENV || {};window.PLOTLYENV.BASE_URL=\"https://plot.ly\";Plotly.newPlot(\"6bef013c-ca92-4138-a2e0-9077d93991c6\", [{\"line\": {\"dash\": \"solid\"}, \"name\": \"\\u5b8c\\u6210\\u9879\\u76ee\\u603b\\u6570(\\u5206\\u6790\\u4e00\\u7ec4)\", \"x\": [\"9-1\", \"9-2\", \"9-3\", \"9-4\", \"10-2\", \"10-3\"], \"y\": [11, 15, 9, 10, 23, 29], \"type\": \"scatter\", \"uid\": \"4aaabb47-d5ea-11e8-8ddb-a41f72875c19\"}, {\"line\": {\"dash\": \"dot\"}, \"name\": \"\\u5b8c\\u6210\\u9879\\u76ee\\u603b\\u6570(\\u4e2a\\u6027\\u5316\\u7ec4)\", \"x\": [\"9-1\", \"9-2\", \"9-3\", \"9-4\", \"10-2\", \"10-3\"], \"y\": [18, 14, 13, 14, 9, 18], \"type\": \"scatter\", \"uid\": \"4aaabb48-d5ea-11e8-8ddb-a41f72875c19\"}, {\"line\": {\"dash\": \"dash\"}, \"name\": \"\\u5b8c\\u6210\\u9879\\u76ee\\u603b\\u6570(\\u5206\\u6790\\u4e8c\\u7ec4)\", \"x\": [\"9-1\", \"9-2\", \"9-3\", \"9-4\", \"10-2\", \"10-3\"], \"y\": [28, 50, 42, 32, 19, 19], \"type\": \"scatter\", \"uid\": \"4aaabb49-d5ea-11e8-8ddb-a41f72875c19\"}], {\"title\": \"\\u5b8c\\u6210\\u9879\\u76ee\\u603b\\u6570\\u5468\\u8d8b\\u52bf\\u56fe\", \"xaxis\": {\"mirror\": \"all\", \"nticks\": 20, \"showgrid\": true, \"showline\": true, \"title\": \"\\u5468\", \"type\": \"category\", \"zeroline\": true}, \"yaxis\": {\"mirror\": \"all\", \"nticks\": 20, \"showgrid\": true, \"showline\": true, \"title\": \"\\u5b8c\\u6210\\u9879\\u76ee\\u603b\\u6570\", \"zeroline\": true}}, {\"showLink\": true, \"linkText\": \"Export to plot.ly\"})});</script>"
      ],
      "text/vnd.plotly.v1+html": [
       "<div id=\"6bef013c-ca92-4138-a2e0-9077d93991c6\" style=\"height: 525px; width: 100%;\" class=\"plotly-graph-div\"></div><script type=\"text/javascript\">require([\"plotly\"], function(Plotly) { window.PLOTLYENV=window.PLOTLYENV || {};window.PLOTLYENV.BASE_URL=\"https://plot.ly\";Plotly.newPlot(\"6bef013c-ca92-4138-a2e0-9077d93991c6\", [{\"line\": {\"dash\": \"solid\"}, \"name\": \"\\u5b8c\\u6210\\u9879\\u76ee\\u603b\\u6570(\\u5206\\u6790\\u4e00\\u7ec4)\", \"x\": [\"9-1\", \"9-2\", \"9-3\", \"9-4\", \"10-2\", \"10-3\"], \"y\": [11, 15, 9, 10, 23, 29], \"type\": \"scatter\", \"uid\": \"4aaabb47-d5ea-11e8-8ddb-a41f72875c19\"}, {\"line\": {\"dash\": \"dot\"}, \"name\": \"\\u5b8c\\u6210\\u9879\\u76ee\\u603b\\u6570(\\u4e2a\\u6027\\u5316\\u7ec4)\", \"x\": [\"9-1\", \"9-2\", \"9-3\", \"9-4\", \"10-2\", \"10-3\"], \"y\": [18, 14, 13, 14, 9, 18], \"type\": \"scatter\", \"uid\": \"4aaabb48-d5ea-11e8-8ddb-a41f72875c19\"}, {\"line\": {\"dash\": \"dash\"}, \"name\": \"\\u5b8c\\u6210\\u9879\\u76ee\\u603b\\u6570(\\u5206\\u6790\\u4e8c\\u7ec4)\", \"x\": [\"9-1\", \"9-2\", \"9-3\", \"9-4\", \"10-2\", \"10-3\"], \"y\": [28, 50, 42, 32, 19, 19], \"type\": \"scatter\", \"uid\": \"4aaabb49-d5ea-11e8-8ddb-a41f72875c19\"}], {\"title\": \"\\u5b8c\\u6210\\u9879\\u76ee\\u603b\\u6570\\u5468\\u8d8b\\u52bf\\u56fe\", \"xaxis\": {\"mirror\": \"all\", \"nticks\": 20, \"showgrid\": true, \"showline\": true, \"title\": \"\\u5468\", \"type\": \"category\", \"zeroline\": true}, \"yaxis\": {\"mirror\": \"all\", \"nticks\": 20, \"showgrid\": true, \"showline\": true, \"title\": \"\\u5b8c\\u6210\\u9879\\u76ee\\u603b\\u6570\", \"zeroline\": true}}, {\"showLink\": true, \"linkText\": \"Export to plot.ly\"})});</script>"
      ]
     },
     "metadata": {},
     "output_type": "display_data"
    }
   ],
   "source": [
    "ss = myModule.format(all_df1 ,\"日期（格式“月-周次”）\" ,['完成项目总数'])\n",
    "ss.add_group('组别')\n",
    "#ss.get_average_by('人员')\n",
    "tt = myModule.sort_by_index(ss.groupby('sum'))\n",
    "tt\n",
    "myModule.myPlot(myModule.sort_by_index(ss.groupby('sum'))).plot('line')\n",
    "#ss = myModule.format(all_df1 ,\"month\" ,['完成项目总数'])\n",
    "#ss.add_group('组别')\n",
    "#ss.get_average_by('人员')\n",
    "#myModule.myPlot(ss.groupby('sum')).plot('line',\"月\")"
   ]
  },
  {
   "cell_type": "markdown",
   "metadata": {},
   "source": [
    "### 各组完成组成比例展示"
   ]
  },
  {
   "cell_type": "code",
   "execution_count": 51,
   "metadata": {
    "collapsed": false
   },
   "outputs": [
    {
     "data": {
      "application/vnd.plotly.v1+json": {
       "data": [
        {
         "line": {
          "dash": "solid"
         },
         "name": "完成商业项目数(分析一组)",
         "type": "scatter",
         "uid": "4aaabb4a-d5ea-11e8-8ddb-a41f72875c19",
         "x": [
          "9-1",
          "9-2",
          "9-3",
          "9-4",
          "10-2",
          "10-3"
         ],
         "y": [
          6,
          11,
          6,
          6,
          15,
          13
         ]
        },
        {
         "line": {
          "dash": "dot"
         },
         "name": "完成商业项目数(个性化组)",
         "type": "scatter",
         "uid": "4aaabb4b-d5ea-11e8-8ddb-a41f72875c19",
         "x": [
          "9-1",
          "9-2",
          "9-3",
          "9-4",
          "10-2",
          "10-3"
         ],
         "y": [
          0,
          0,
          0,
          0,
          1,
          1
         ]
        },
        {
         "line": {
          "dash": "dash"
         },
         "name": "完成商业项目数(分析二组)",
         "type": "scatter",
         "uid": "4aaabb4c-d5ea-11e8-8ddb-a41f72875c19",
         "x": [
          "9-1",
          "9-2",
          "9-3",
          "9-4",
          "10-2",
          "10-3"
         ],
         "y": [
          20,
          29,
          17,
          22,
          11,
          13
         ]
        },
        {
         "line": {
          "dash": "solid"
         },
         "name": "完成个性化数(分析一组)",
         "type": "scatter",
         "uid": "4aaabb4d-d5ea-11e8-8ddb-a41f72875c19",
         "x": [
          "9-1",
          "9-2",
          "9-3",
          "9-4",
          "10-2",
          "10-3"
         ],
         "y": [
          5,
          4,
          3,
          4,
          8,
          16
         ]
        },
        {
         "line": {
          "dash": "dot"
         },
         "name": "完成个性化数(个性化组)",
         "type": "scatter",
         "uid": "4aaabb4e-d5ea-11e8-8ddb-a41f72875c19",
         "x": [
          "9-1",
          "9-2",
          "9-3",
          "9-4",
          "10-2",
          "10-3"
         ],
         "y": [
          18,
          14,
          13,
          14,
          8,
          17
         ]
        },
        {
         "line": {
          "dash": "dash"
         },
         "name": "完成个性化数(分析二组)",
         "type": "scatter",
         "uid": "4aaabb4f-d5ea-11e8-8ddb-a41f72875c19",
         "x": [
          "9-1",
          "9-2",
          "9-3",
          "9-4",
          "10-2",
          "10-3"
         ],
         "y": [
          8,
          21,
          25,
          10,
          8,
          6
         ]
        }
       ],
       "layout": {
        "title": "完成商业项目数&完成个性化数周趋势图",
        "xaxis": {
         "mirror": "all",
         "nticks": 20,
         "showgrid": true,
         "showline": true,
         "title": "周",
         "type": "category",
         "zeroline": true
        },
        "yaxis": {
         "mirror": "all",
         "nticks": 20,
         "showgrid": true,
         "showline": true,
         "title": "完成商业项目数&完成个性化数",
         "zeroline": true
        }
       }
      },
      "text/html": [
       "<div id=\"375b2771-e1f5-49a8-90dc-edf6c7f48578\" style=\"height: 525px; width: 100%;\" class=\"plotly-graph-div\"></div><script type=\"text/javascript\">require([\"plotly\"], function(Plotly) { window.PLOTLYENV=window.PLOTLYENV || {};window.PLOTLYENV.BASE_URL=\"https://plot.ly\";Plotly.newPlot(\"375b2771-e1f5-49a8-90dc-edf6c7f48578\", [{\"line\": {\"dash\": \"solid\"}, \"name\": \"\\u5b8c\\u6210\\u5546\\u4e1a\\u9879\\u76ee\\u6570(\\u5206\\u6790\\u4e00\\u7ec4)\", \"x\": [\"9-1\", \"9-2\", \"9-3\", \"9-4\", \"10-2\", \"10-3\"], \"y\": [6, 11, 6, 6, 15, 13], \"type\": \"scatter\", \"uid\": \"4aaabb4a-d5ea-11e8-8ddb-a41f72875c19\"}, {\"line\": {\"dash\": \"dot\"}, \"name\": \"\\u5b8c\\u6210\\u5546\\u4e1a\\u9879\\u76ee\\u6570(\\u4e2a\\u6027\\u5316\\u7ec4)\", \"x\": [\"9-1\", \"9-2\", \"9-3\", \"9-4\", \"10-2\", \"10-3\"], \"y\": [0, 0, 0, 0, 1, 1], \"type\": \"scatter\", \"uid\": \"4aaabb4b-d5ea-11e8-8ddb-a41f72875c19\"}, {\"line\": {\"dash\": \"dash\"}, \"name\": \"\\u5b8c\\u6210\\u5546\\u4e1a\\u9879\\u76ee\\u6570(\\u5206\\u6790\\u4e8c\\u7ec4)\", \"x\": [\"9-1\", \"9-2\", \"9-3\", \"9-4\", \"10-2\", \"10-3\"], \"y\": [20, 29, 17, 22, 11, 13], \"type\": \"scatter\", \"uid\": \"4aaabb4c-d5ea-11e8-8ddb-a41f72875c19\"}, {\"line\": {\"dash\": \"solid\"}, \"name\": \"\\u5b8c\\u6210\\u4e2a\\u6027\\u5316\\u6570(\\u5206\\u6790\\u4e00\\u7ec4)\", \"x\": [\"9-1\", \"9-2\", \"9-3\", \"9-4\", \"10-2\", \"10-3\"], \"y\": [5, 4, 3, 4, 8, 16], \"type\": \"scatter\", \"uid\": \"4aaabb4d-d5ea-11e8-8ddb-a41f72875c19\"}, {\"line\": {\"dash\": \"dot\"}, \"name\": \"\\u5b8c\\u6210\\u4e2a\\u6027\\u5316\\u6570(\\u4e2a\\u6027\\u5316\\u7ec4)\", \"x\": [\"9-1\", \"9-2\", \"9-3\", \"9-4\", \"10-2\", \"10-3\"], \"y\": [18, 14, 13, 14, 8, 17], \"type\": \"scatter\", \"uid\": \"4aaabb4e-d5ea-11e8-8ddb-a41f72875c19\"}, {\"line\": {\"dash\": \"dash\"}, \"name\": \"\\u5b8c\\u6210\\u4e2a\\u6027\\u5316\\u6570(\\u5206\\u6790\\u4e8c\\u7ec4)\", \"x\": [\"9-1\", \"9-2\", \"9-3\", \"9-4\", \"10-2\", \"10-3\"], \"y\": [8, 21, 25, 10, 8, 6], \"type\": \"scatter\", \"uid\": \"4aaabb4f-d5ea-11e8-8ddb-a41f72875c19\"}], {\"title\": \"\\u5b8c\\u6210\\u5546\\u4e1a\\u9879\\u76ee\\u6570&\\u5b8c\\u6210\\u4e2a\\u6027\\u5316\\u6570\\u5468\\u8d8b\\u52bf\\u56fe\", \"xaxis\": {\"mirror\": \"all\", \"nticks\": 20, \"showgrid\": true, \"showline\": true, \"title\": \"\\u5468\", \"type\": \"category\", \"zeroline\": true}, \"yaxis\": {\"mirror\": \"all\", \"nticks\": 20, \"showgrid\": true, \"showline\": true, \"title\": \"\\u5b8c\\u6210\\u5546\\u4e1a\\u9879\\u76ee\\u6570&\\u5b8c\\u6210\\u4e2a\\u6027\\u5316\\u6570\", \"zeroline\": true}}, {\"showLink\": true, \"linkText\": \"Export to plot.ly\"})});</script>"
      ],
      "text/vnd.plotly.v1+html": [
       "<div id=\"375b2771-e1f5-49a8-90dc-edf6c7f48578\" style=\"height: 525px; width: 100%;\" class=\"plotly-graph-div\"></div><script type=\"text/javascript\">require([\"plotly\"], function(Plotly) { window.PLOTLYENV=window.PLOTLYENV || {};window.PLOTLYENV.BASE_URL=\"https://plot.ly\";Plotly.newPlot(\"375b2771-e1f5-49a8-90dc-edf6c7f48578\", [{\"line\": {\"dash\": \"solid\"}, \"name\": \"\\u5b8c\\u6210\\u5546\\u4e1a\\u9879\\u76ee\\u6570(\\u5206\\u6790\\u4e00\\u7ec4)\", \"x\": [\"9-1\", \"9-2\", \"9-3\", \"9-4\", \"10-2\", \"10-3\"], \"y\": [6, 11, 6, 6, 15, 13], \"type\": \"scatter\", \"uid\": \"4aaabb4a-d5ea-11e8-8ddb-a41f72875c19\"}, {\"line\": {\"dash\": \"dot\"}, \"name\": \"\\u5b8c\\u6210\\u5546\\u4e1a\\u9879\\u76ee\\u6570(\\u4e2a\\u6027\\u5316\\u7ec4)\", \"x\": [\"9-1\", \"9-2\", \"9-3\", \"9-4\", \"10-2\", \"10-3\"], \"y\": [0, 0, 0, 0, 1, 1], \"type\": \"scatter\", \"uid\": \"4aaabb4b-d5ea-11e8-8ddb-a41f72875c19\"}, {\"line\": {\"dash\": \"dash\"}, \"name\": \"\\u5b8c\\u6210\\u5546\\u4e1a\\u9879\\u76ee\\u6570(\\u5206\\u6790\\u4e8c\\u7ec4)\", \"x\": [\"9-1\", \"9-2\", \"9-3\", \"9-4\", \"10-2\", \"10-3\"], \"y\": [20, 29, 17, 22, 11, 13], \"type\": \"scatter\", \"uid\": \"4aaabb4c-d5ea-11e8-8ddb-a41f72875c19\"}, {\"line\": {\"dash\": \"solid\"}, \"name\": \"\\u5b8c\\u6210\\u4e2a\\u6027\\u5316\\u6570(\\u5206\\u6790\\u4e00\\u7ec4)\", \"x\": [\"9-1\", \"9-2\", \"9-3\", \"9-4\", \"10-2\", \"10-3\"], \"y\": [5, 4, 3, 4, 8, 16], \"type\": \"scatter\", \"uid\": \"4aaabb4d-d5ea-11e8-8ddb-a41f72875c19\"}, {\"line\": {\"dash\": \"dot\"}, \"name\": \"\\u5b8c\\u6210\\u4e2a\\u6027\\u5316\\u6570(\\u4e2a\\u6027\\u5316\\u7ec4)\", \"x\": [\"9-1\", \"9-2\", \"9-3\", \"9-4\", \"10-2\", \"10-3\"], \"y\": [18, 14, 13, 14, 8, 17], \"type\": \"scatter\", \"uid\": \"4aaabb4e-d5ea-11e8-8ddb-a41f72875c19\"}, {\"line\": {\"dash\": \"dash\"}, \"name\": \"\\u5b8c\\u6210\\u4e2a\\u6027\\u5316\\u6570(\\u5206\\u6790\\u4e8c\\u7ec4)\", \"x\": [\"9-1\", \"9-2\", \"9-3\", \"9-4\", \"10-2\", \"10-3\"], \"y\": [8, 21, 25, 10, 8, 6], \"type\": \"scatter\", \"uid\": \"4aaabb4f-d5ea-11e8-8ddb-a41f72875c19\"}], {\"title\": \"\\u5b8c\\u6210\\u5546\\u4e1a\\u9879\\u76ee\\u6570&\\u5b8c\\u6210\\u4e2a\\u6027\\u5316\\u6570\\u5468\\u8d8b\\u52bf\\u56fe\", \"xaxis\": {\"mirror\": \"all\", \"nticks\": 20, \"showgrid\": true, \"showline\": true, \"title\": \"\\u5468\", \"type\": \"category\", \"zeroline\": true}, \"yaxis\": {\"mirror\": \"all\", \"nticks\": 20, \"showgrid\": true, \"showline\": true, \"title\": \"\\u5b8c\\u6210\\u5546\\u4e1a\\u9879\\u76ee\\u6570&\\u5b8c\\u6210\\u4e2a\\u6027\\u5316\\u6570\", \"zeroline\": true}}, {\"showLink\": true, \"linkText\": \"Export to plot.ly\"})});</script>"
      ]
     },
     "metadata": {},
     "output_type": "display_data"
    }
   ],
   "source": [
    "ss = myModule.format(all_df1 ,\"日期（格式“月-周次”）\" ,['完成商业项目数','完成个性化数'])\n",
    "ss.add_group('组别')\n",
    "#ss.get_average_by('人员')\n",
    "myModule.myPlot(myModule.sort_by_index(ss.groupby('sum'))).plot('line')\n",
    "#ss = myModule.format(all_df1 ,\"month\" ,['完成商业项目数','完成个性化数'])\n",
    "#ss.add_group('组别')\n",
    "#myModule.myPlot(ss.groupby('sum')).plot('line',\"月\")"
   ]
  },
  {
   "cell_type": "markdown",
   "metadata": {},
   "source": [
    "## 人均完成情况"
   ]
  },
  {
   "cell_type": "markdown",
   "metadata": {},
   "source": [
    "### 分析组人均产能情况"
   ]
  },
  {
   "cell_type": "code",
   "execution_count": 52,
   "metadata": {
    "collapsed": false
   },
   "outputs": [
    {
     "data": {
      "application/vnd.plotly.v1+json": {
       "data": [
        {
         "name": "完成商业项目数",
         "type": "scatter",
         "uid": "4aaabb50-d5ea-11e8-8ddb-a41f72875c19",
         "x": [
          "9-1",
          "9-2",
          "9-3",
          "9-4",
          "10-2",
          "10-3"
         ],
         "y": [
          1.4444444444444444,
          2.2222222222222223,
          1.2777777777777777,
          1.5555555555555556,
          1.9285714285714286,
          1.9285714285714286
         ]
        },
        {
         "name": "完成项目总数",
         "type": "scatter",
         "uid": "4aaabb51-d5ea-11e8-8ddb-a41f72875c19",
         "x": [
          "9-1",
          "9-2",
          "9-3",
          "9-4",
          "10-2",
          "10-3"
         ],
         "y": [
          3.1666666666666665,
          4.388888888888889,
          3.5555555555555554,
          3.111111111111111,
          3.642857142857143,
          4.714285714285714
         ]
        },
        {
         "name": "完成个性化数",
         "type": "scatter",
         "uid": "4aaabb52-d5ea-11e8-8ddb-a41f72875c19",
         "x": [
          "9-1",
          "9-2",
          "9-3",
          "9-4",
          "10-2",
          "10-3"
         ],
         "y": [
          1.7222222222222223,
          2.1666666666666665,
          2.2777777777777777,
          1.5555555555555556,
          1.7142857142857142,
          2.7857142857142856
         ]
        }
       ],
       "layout": {
        "title": "完成商业项目数&完成项目总数&完成个性化数周趋势图",
        "xaxis": {
         "mirror": "all",
         "nticks": 20,
         "showgrid": true,
         "showline": true,
         "title": "周",
         "type": "category",
         "zeroline": true
        },
        "yaxis": {
         "mirror": "all",
         "nticks": 20,
         "showgrid": true,
         "showline": true,
         "title": "完成商业项目数&完成项目总数&完成个性化数",
         "zeroline": true
        }
       }
      },
      "text/html": [
       "<div id=\"6c37674e-95e1-43c5-a8a7-3b6a9f6e85db\" style=\"height: 525px; width: 100%;\" class=\"plotly-graph-div\"></div><script type=\"text/javascript\">require([\"plotly\"], function(Plotly) { window.PLOTLYENV=window.PLOTLYENV || {};window.PLOTLYENV.BASE_URL=\"https://plot.ly\";Plotly.newPlot(\"6c37674e-95e1-43c5-a8a7-3b6a9f6e85db\", [{\"name\": \"\\u5b8c\\u6210\\u5546\\u4e1a\\u9879\\u76ee\\u6570\", \"x\": [\"9-1\", \"9-2\", \"9-3\", \"9-4\", \"10-2\", \"10-3\"], \"y\": [1.4444444444444444, 2.2222222222222223, 1.2777777777777777, 1.5555555555555556, 1.9285714285714286, 1.9285714285714286], \"type\": \"scatter\", \"uid\": \"4aaabb50-d5ea-11e8-8ddb-a41f72875c19\"}, {\"name\": \"\\u5b8c\\u6210\\u9879\\u76ee\\u603b\\u6570\", \"x\": [\"9-1\", \"9-2\", \"9-3\", \"9-4\", \"10-2\", \"10-3\"], \"y\": [3.1666666666666665, 4.388888888888889, 3.5555555555555554, 3.111111111111111, 3.642857142857143, 4.714285714285714], \"type\": \"scatter\", \"uid\": \"4aaabb51-d5ea-11e8-8ddb-a41f72875c19\"}, {\"name\": \"\\u5b8c\\u6210\\u4e2a\\u6027\\u5316\\u6570\", \"x\": [\"9-1\", \"9-2\", \"9-3\", \"9-4\", \"10-2\", \"10-3\"], \"y\": [1.7222222222222223, 2.1666666666666665, 2.2777777777777777, 1.5555555555555556, 1.7142857142857142, 2.7857142857142856], \"type\": \"scatter\", \"uid\": \"4aaabb52-d5ea-11e8-8ddb-a41f72875c19\"}], {\"title\": \"\\u5b8c\\u6210\\u5546\\u4e1a\\u9879\\u76ee\\u6570&\\u5b8c\\u6210\\u9879\\u76ee\\u603b\\u6570&\\u5b8c\\u6210\\u4e2a\\u6027\\u5316\\u6570\\u5468\\u8d8b\\u52bf\\u56fe\", \"xaxis\": {\"mirror\": \"all\", \"nticks\": 20, \"showgrid\": true, \"showline\": true, \"title\": \"\\u5468\", \"type\": \"category\", \"zeroline\": true}, \"yaxis\": {\"mirror\": \"all\", \"nticks\": 20, \"showgrid\": true, \"showline\": true, \"title\": \"\\u5b8c\\u6210\\u5546\\u4e1a\\u9879\\u76ee\\u6570&\\u5b8c\\u6210\\u9879\\u76ee\\u603b\\u6570&\\u5b8c\\u6210\\u4e2a\\u6027\\u5316\\u6570\", \"zeroline\": true}}, {\"showLink\": true, \"linkText\": \"Export to plot.ly\"})});</script>"
      ],
      "text/vnd.plotly.v1+html": [
       "<div id=\"6c37674e-95e1-43c5-a8a7-3b6a9f6e85db\" style=\"height: 525px; width: 100%;\" class=\"plotly-graph-div\"></div><script type=\"text/javascript\">require([\"plotly\"], function(Plotly) { window.PLOTLYENV=window.PLOTLYENV || {};window.PLOTLYENV.BASE_URL=\"https://plot.ly\";Plotly.newPlot(\"6c37674e-95e1-43c5-a8a7-3b6a9f6e85db\", [{\"name\": \"\\u5b8c\\u6210\\u5546\\u4e1a\\u9879\\u76ee\\u6570\", \"x\": [\"9-1\", \"9-2\", \"9-3\", \"9-4\", \"10-2\", \"10-3\"], \"y\": [1.4444444444444444, 2.2222222222222223, 1.2777777777777777, 1.5555555555555556, 1.9285714285714286, 1.9285714285714286], \"type\": \"scatter\", \"uid\": \"4aaabb50-d5ea-11e8-8ddb-a41f72875c19\"}, {\"name\": \"\\u5b8c\\u6210\\u9879\\u76ee\\u603b\\u6570\", \"x\": [\"9-1\", \"9-2\", \"9-3\", \"9-4\", \"10-2\", \"10-3\"], \"y\": [3.1666666666666665, 4.388888888888889, 3.5555555555555554, 3.111111111111111, 3.642857142857143, 4.714285714285714], \"type\": \"scatter\", \"uid\": \"4aaabb51-d5ea-11e8-8ddb-a41f72875c19\"}, {\"name\": \"\\u5b8c\\u6210\\u4e2a\\u6027\\u5316\\u6570\", \"x\": [\"9-1\", \"9-2\", \"9-3\", \"9-4\", \"10-2\", \"10-3\"], \"y\": [1.7222222222222223, 2.1666666666666665, 2.2777777777777777, 1.5555555555555556, 1.7142857142857142, 2.7857142857142856], \"type\": \"scatter\", \"uid\": \"4aaabb52-d5ea-11e8-8ddb-a41f72875c19\"}], {\"title\": \"\\u5b8c\\u6210\\u5546\\u4e1a\\u9879\\u76ee\\u6570&\\u5b8c\\u6210\\u9879\\u76ee\\u603b\\u6570&\\u5b8c\\u6210\\u4e2a\\u6027\\u5316\\u6570\\u5468\\u8d8b\\u52bf\\u56fe\", \"xaxis\": {\"mirror\": \"all\", \"nticks\": 20, \"showgrid\": true, \"showline\": true, \"title\": \"\\u5468\", \"type\": \"category\", \"zeroline\": true}, \"yaxis\": {\"mirror\": \"all\", \"nticks\": 20, \"showgrid\": true, \"showline\": true, \"title\": \"\\u5b8c\\u6210\\u5546\\u4e1a\\u9879\\u76ee\\u6570&\\u5b8c\\u6210\\u9879\\u76ee\\u603b\\u6570&\\u5b8c\\u6210\\u4e2a\\u6027\\u5316\\u6570\", \"zeroline\": true}}, {\"showLink\": true, \"linkText\": \"Export to plot.ly\"})});</script>"
      ]
     },
     "metadata": {},
     "output_type": "display_data"
    }
   ],
   "source": [
    "ss = myModule.format(all_df1 ,\"日期（格式“月-周次”）\" ,['完成项目总数','完成商业项目数','完成个性化数'])\n",
    "ss.get_average_by('人员')\n",
    "myModule.myPlot(ss.groupby('sum')).df\n",
    "myModule.myPlot(myModule.sort_by_index(ss.groupby('sum'))).plot('line')\n",
    "#ss = myModule.format(all_df1 ,\"month\" ,['完成项目总数','完成商业项目数','完成个性化数'])\n",
    "#ss.get_average_by('人员')\n",
    "#myModule.myPlot(ss.groupby('sum')).plot('line')"
   ]
  },
  {
   "cell_type": "markdown",
   "metadata": {},
   "source": [
    "### 各组人均完成项目数情况"
   ]
  },
  {
   "cell_type": "code",
   "execution_count": 53,
   "metadata": {
    "collapsed": false
   },
   "outputs": [
    {
     "data": {
      "application/vnd.plotly.v1+json": {
       "data": [
        {
         "line": {
          "dash": "solid"
         },
         "name": "完成项目总数(分析一组)",
         "type": "scatter",
         "uid": "4aaabb53-d5ea-11e8-8ddb-a41f72875c19",
         "x": [
          "9-1",
          "9-2",
          "9-3",
          "9-4",
          "10-2",
          "10-3"
         ],
         "y": [
          2.75,
          3.75,
          2.25,
          2.5,
          4.6,
          5.8
         ]
        },
        {
         "line": {
          "dash": "dot"
         },
         "name": "完成项目总数(个性化组)",
         "type": "scatter",
         "uid": "4aaabb54-d5ea-11e8-8ddb-a41f72875c19",
         "x": [
          "9-1",
          "9-2",
          "9-3",
          "9-4",
          "10-2",
          "10-3"
         ],
         "y": [
          4.5,
          3.5,
          3.25,
          3.5,
          1.8,
          3.6
         ]
        },
        {
         "line": {
          "dash": "dash"
         },
         "name": "完成项目总数(分析二组)",
         "type": "scatter",
         "uid": "4aaabb55-d5ea-11e8-8ddb-a41f72875c19",
         "x": [
          "9-1",
          "9-2",
          "9-3",
          "9-4",
          "10-2",
          "10-3"
         ],
         "y": [
          2.8,
          5,
          4.2,
          3.2,
          4.75,
          4.75
         ]
        }
       ],
       "layout": {
        "title": "完成项目总数周趋势图",
        "xaxis": {
         "mirror": "all",
         "nticks": 20,
         "showgrid": true,
         "showline": true,
         "title": "周",
         "type": "category",
         "zeroline": true
        },
        "yaxis": {
         "mirror": "all",
         "nticks": 20,
         "showgrid": true,
         "showline": true,
         "title": "完成项目总数",
         "zeroline": true
        }
       }
      },
      "text/html": [
       "<div id=\"8e982551-09ce-4e73-b0d8-f6ae893eabde\" style=\"height: 525px; width: 100%;\" class=\"plotly-graph-div\"></div><script type=\"text/javascript\">require([\"plotly\"], function(Plotly) { window.PLOTLYENV=window.PLOTLYENV || {};window.PLOTLYENV.BASE_URL=\"https://plot.ly\";Plotly.newPlot(\"8e982551-09ce-4e73-b0d8-f6ae893eabde\", [{\"line\": {\"dash\": \"solid\"}, \"name\": \"\\u5b8c\\u6210\\u9879\\u76ee\\u603b\\u6570(\\u5206\\u6790\\u4e00\\u7ec4)\", \"x\": [\"9-1\", \"9-2\", \"9-3\", \"9-4\", \"10-2\", \"10-3\"], \"y\": [2.75, 3.75, 2.25, 2.5, 4.6, 5.8], \"type\": \"scatter\", \"uid\": \"4aaabb53-d5ea-11e8-8ddb-a41f72875c19\"}, {\"line\": {\"dash\": \"dot\"}, \"name\": \"\\u5b8c\\u6210\\u9879\\u76ee\\u603b\\u6570(\\u4e2a\\u6027\\u5316\\u7ec4)\", \"x\": [\"9-1\", \"9-2\", \"9-3\", \"9-4\", \"10-2\", \"10-3\"], \"y\": [4.5, 3.5, 3.25, 3.5, 1.8, 3.6], \"type\": \"scatter\", \"uid\": \"4aaabb54-d5ea-11e8-8ddb-a41f72875c19\"}, {\"line\": {\"dash\": \"dash\"}, \"name\": \"\\u5b8c\\u6210\\u9879\\u76ee\\u603b\\u6570(\\u5206\\u6790\\u4e8c\\u7ec4)\", \"x\": [\"9-1\", \"9-2\", \"9-3\", \"9-4\", \"10-2\", \"10-3\"], \"y\": [2.8, 5.0, 4.2, 3.2, 4.75, 4.75], \"type\": \"scatter\", \"uid\": \"4aaabb55-d5ea-11e8-8ddb-a41f72875c19\"}], {\"title\": \"\\u5b8c\\u6210\\u9879\\u76ee\\u603b\\u6570\\u5468\\u8d8b\\u52bf\\u56fe\", \"xaxis\": {\"mirror\": \"all\", \"nticks\": 20, \"showgrid\": true, \"showline\": true, \"title\": \"\\u5468\", \"type\": \"category\", \"zeroline\": true}, \"yaxis\": {\"mirror\": \"all\", \"nticks\": 20, \"showgrid\": true, \"showline\": true, \"title\": \"\\u5b8c\\u6210\\u9879\\u76ee\\u603b\\u6570\", \"zeroline\": true}}, {\"showLink\": true, \"linkText\": \"Export to plot.ly\"})});</script>"
      ],
      "text/vnd.plotly.v1+html": [
       "<div id=\"8e982551-09ce-4e73-b0d8-f6ae893eabde\" style=\"height: 525px; width: 100%;\" class=\"plotly-graph-div\"></div><script type=\"text/javascript\">require([\"plotly\"], function(Plotly) { window.PLOTLYENV=window.PLOTLYENV || {};window.PLOTLYENV.BASE_URL=\"https://plot.ly\";Plotly.newPlot(\"8e982551-09ce-4e73-b0d8-f6ae893eabde\", [{\"line\": {\"dash\": \"solid\"}, \"name\": \"\\u5b8c\\u6210\\u9879\\u76ee\\u603b\\u6570(\\u5206\\u6790\\u4e00\\u7ec4)\", \"x\": [\"9-1\", \"9-2\", \"9-3\", \"9-4\", \"10-2\", \"10-3\"], \"y\": [2.75, 3.75, 2.25, 2.5, 4.6, 5.8], \"type\": \"scatter\", \"uid\": \"4aaabb53-d5ea-11e8-8ddb-a41f72875c19\"}, {\"line\": {\"dash\": \"dot\"}, \"name\": \"\\u5b8c\\u6210\\u9879\\u76ee\\u603b\\u6570(\\u4e2a\\u6027\\u5316\\u7ec4)\", \"x\": [\"9-1\", \"9-2\", \"9-3\", \"9-4\", \"10-2\", \"10-3\"], \"y\": [4.5, 3.5, 3.25, 3.5, 1.8, 3.6], \"type\": \"scatter\", \"uid\": \"4aaabb54-d5ea-11e8-8ddb-a41f72875c19\"}, {\"line\": {\"dash\": \"dash\"}, \"name\": \"\\u5b8c\\u6210\\u9879\\u76ee\\u603b\\u6570(\\u5206\\u6790\\u4e8c\\u7ec4)\", \"x\": [\"9-1\", \"9-2\", \"9-3\", \"9-4\", \"10-2\", \"10-3\"], \"y\": [2.8, 5.0, 4.2, 3.2, 4.75, 4.75], \"type\": \"scatter\", \"uid\": \"4aaabb55-d5ea-11e8-8ddb-a41f72875c19\"}], {\"title\": \"\\u5b8c\\u6210\\u9879\\u76ee\\u603b\\u6570\\u5468\\u8d8b\\u52bf\\u56fe\", \"xaxis\": {\"mirror\": \"all\", \"nticks\": 20, \"showgrid\": true, \"showline\": true, \"title\": \"\\u5468\", \"type\": \"category\", \"zeroline\": true}, \"yaxis\": {\"mirror\": \"all\", \"nticks\": 20, \"showgrid\": true, \"showline\": true, \"title\": \"\\u5b8c\\u6210\\u9879\\u76ee\\u603b\\u6570\", \"zeroline\": true}}, {\"showLink\": true, \"linkText\": \"Export to plot.ly\"})});</script>"
      ]
     },
     "metadata": {},
     "output_type": "display_data"
    }
   ],
   "source": [
    "ss = myModule.format(all_df1 ,\"日期（格式“月-周次”）\" ,['完成项目总数'])\n",
    "ss.add_group('组别')\n",
    "ss.get_average_by('人员')\n",
    "#ss.df\n",
    "myModule.myPlot(ss.groupby('sum')).df\n",
    "myModule.myPlot(myModule.sort_by_index(ss.groupby('sum'))).plot('line')\n",
    "#ss = myModule.format(all_df1 ,\"month\" ,['完成项目总数'])\n",
    "#ss.add_group('组别')\n",
    "#ss.get_average_by('人员')\n",
    "#myModule.myPlot(ss.groupby('sum')).plot('line','月')"
   ]
  },
  {
   "cell_type": "markdown",
   "metadata": {},
   "source": [
    "## 具体人员效能情况"
   ]
  },
  {
   "cell_type": "code",
   "execution_count": 54,
   "metadata": {
    "collapsed": false
   },
   "outputs": [
    {
     "data": {
      "application/vnd.plotly.v1+json": {
       "data": [
        {
         "name": "完成项目总数",
         "type": "scatter",
         "uid": "4aaabb56-d5ea-11e8-8ddb-a41f72875c19",
         "x": [
          "9-1",
          "9-2",
          "9-3",
          "9-4",
          "10-2",
          "10-3"
         ],
         "y": [
          57,
          79,
          64,
          56,
          51,
          66
         ]
        }
       ],
       "layout": {
        "title": "完成项目总数周趋势图",
        "xaxis": {
         "mirror": "all",
         "nticks": 20,
         "showgrid": true,
         "showline": true,
         "title": "周",
         "type": "category",
         "zeroline": true
        },
        "yaxis": {
         "mirror": "all",
         "nticks": 20,
         "showgrid": true,
         "showline": true,
         "title": "完成项目总数",
         "zeroline": true
        }
       }
      },
      "text/html": [
       "<div id=\"1f8c4042-7792-4020-93b4-79f5a9ff15e6\" style=\"height: 525px; width: 100%;\" class=\"plotly-graph-div\"></div><script type=\"text/javascript\">require([\"plotly\"], function(Plotly) { window.PLOTLYENV=window.PLOTLYENV || {};window.PLOTLYENV.BASE_URL=\"https://plot.ly\";Plotly.newPlot(\"1f8c4042-7792-4020-93b4-79f5a9ff15e6\", [{\"name\": \"\\u5b8c\\u6210\\u9879\\u76ee\\u603b\\u6570\", \"x\": [\"9-1\", \"9-2\", \"9-3\", \"9-4\", \"10-2\", \"10-3\"], \"y\": [57, 79, 64, 56, 51, 66], \"type\": \"scatter\", \"uid\": \"4aaabb56-d5ea-11e8-8ddb-a41f72875c19\"}], {\"title\": \"\\u5b8c\\u6210\\u9879\\u76ee\\u603b\\u6570\\u5468\\u8d8b\\u52bf\\u56fe\", \"xaxis\": {\"mirror\": \"all\", \"nticks\": 20, \"showgrid\": true, \"showline\": true, \"title\": \"\\u5468\", \"type\": \"category\", \"zeroline\": true}, \"yaxis\": {\"mirror\": \"all\", \"nticks\": 20, \"showgrid\": true, \"showline\": true, \"title\": \"\\u5b8c\\u6210\\u9879\\u76ee\\u603b\\u6570\", \"zeroline\": true}}, {\"showLink\": true, \"linkText\": \"Export to plot.ly\"})});</script>"
      ],
      "text/vnd.plotly.v1+html": [
       "<div id=\"1f8c4042-7792-4020-93b4-79f5a9ff15e6\" style=\"height: 525px; width: 100%;\" class=\"plotly-graph-div\"></div><script type=\"text/javascript\">require([\"plotly\"], function(Plotly) { window.PLOTLYENV=window.PLOTLYENV || {};window.PLOTLYENV.BASE_URL=\"https://plot.ly\";Plotly.newPlot(\"1f8c4042-7792-4020-93b4-79f5a9ff15e6\", [{\"name\": \"\\u5b8c\\u6210\\u9879\\u76ee\\u603b\\u6570\", \"x\": [\"9-1\", \"9-2\", \"9-3\", \"9-4\", \"10-2\", \"10-3\"], \"y\": [57, 79, 64, 56, 51, 66], \"type\": \"scatter\", \"uid\": \"4aaabb56-d5ea-11e8-8ddb-a41f72875c19\"}], {\"title\": \"\\u5b8c\\u6210\\u9879\\u76ee\\u603b\\u6570\\u5468\\u8d8b\\u52bf\\u56fe\", \"xaxis\": {\"mirror\": \"all\", \"nticks\": 20, \"showgrid\": true, \"showline\": true, \"title\": \"\\u5468\", \"type\": \"category\", \"zeroline\": true}, \"yaxis\": {\"mirror\": \"all\", \"nticks\": 20, \"showgrid\": true, \"showline\": true, \"title\": \"\\u5b8c\\u6210\\u9879\\u76ee\\u603b\\u6570\", \"zeroline\": true}}, {\"showLink\": true, \"linkText\": \"Export to plot.ly\"})});</script>"
      ]
     },
     "metadata": {},
     "output_type": "display_data"
    },
    {
     "data": {
      "application/vnd.plotly.v1+json": {
       "data": [
        {
         "name": "完成项目总数",
         "type": "scatter",
         "uid": "4aaabb57-d5ea-11e8-8ddb-a41f72875c19",
         "x": [
          9,
          10
         ],
         "y": [
          256,
          117
         ]
        }
       ],
       "layout": {
        "title": "完成项目总数月趋势图",
        "xaxis": {
         "mirror": "all",
         "nticks": 20,
         "showgrid": true,
         "showline": true,
         "title": "月",
         "type": "category",
         "zeroline": true
        },
        "yaxis": {
         "mirror": "all",
         "nticks": 20,
         "showgrid": true,
         "showline": true,
         "title": "完成项目总数",
         "zeroline": true
        }
       }
      },
      "text/html": [
       "<div id=\"4b9bd9fe-1803-45f8-8f0c-03edd575d7ce\" style=\"height: 525px; width: 100%;\" class=\"plotly-graph-div\"></div><script type=\"text/javascript\">require([\"plotly\"], function(Plotly) { window.PLOTLYENV=window.PLOTLYENV || {};window.PLOTLYENV.BASE_URL=\"https://plot.ly\";Plotly.newPlot(\"4b9bd9fe-1803-45f8-8f0c-03edd575d7ce\", [{\"name\": \"\\u5b8c\\u6210\\u9879\\u76ee\\u603b\\u6570\", \"x\": [9, 10], \"y\": [256, 117], \"type\": \"scatter\", \"uid\": \"4aaabb57-d5ea-11e8-8ddb-a41f72875c19\"}], {\"title\": \"\\u5b8c\\u6210\\u9879\\u76ee\\u603b\\u6570\\u6708\\u8d8b\\u52bf\\u56fe\", \"xaxis\": {\"mirror\": \"all\", \"nticks\": 20, \"showgrid\": true, \"showline\": true, \"title\": \"\\u6708\", \"type\": \"category\", \"zeroline\": true}, \"yaxis\": {\"mirror\": \"all\", \"nticks\": 20, \"showgrid\": true, \"showline\": true, \"title\": \"\\u5b8c\\u6210\\u9879\\u76ee\\u603b\\u6570\", \"zeroline\": true}}, {\"showLink\": true, \"linkText\": \"Export to plot.ly\"})});</script>"
      ],
      "text/vnd.plotly.v1+html": [
       "<div id=\"4b9bd9fe-1803-45f8-8f0c-03edd575d7ce\" style=\"height: 525px; width: 100%;\" class=\"plotly-graph-div\"></div><script type=\"text/javascript\">require([\"plotly\"], function(Plotly) { window.PLOTLYENV=window.PLOTLYENV || {};window.PLOTLYENV.BASE_URL=\"https://plot.ly\";Plotly.newPlot(\"4b9bd9fe-1803-45f8-8f0c-03edd575d7ce\", [{\"name\": \"\\u5b8c\\u6210\\u9879\\u76ee\\u603b\\u6570\", \"x\": [9, 10], \"y\": [256, 117], \"type\": \"scatter\", \"uid\": \"4aaabb57-d5ea-11e8-8ddb-a41f72875c19\"}], {\"title\": \"\\u5b8c\\u6210\\u9879\\u76ee\\u603b\\u6570\\u6708\\u8d8b\\u52bf\\u56fe\", \"xaxis\": {\"mirror\": \"all\", \"nticks\": 20, \"showgrid\": true, \"showline\": true, \"title\": \"\\u6708\", \"type\": \"category\", \"zeroline\": true}, \"yaxis\": {\"mirror\": \"all\", \"nticks\": 20, \"showgrid\": true, \"showline\": true, \"title\": \"\\u5b8c\\u6210\\u9879\\u76ee\\u603b\\u6570\", \"zeroline\": true}}, {\"showLink\": true, \"linkText\": \"Export to plot.ly\"})});</script>"
      ]
     },
     "metadata": {},
     "output_type": "display_data"
    }
   ],
   "source": [
    "ss = myModule.format(all_df1 ,\"日期（格式“月-周次”）\" ,['完成项目总数'])\n",
    "#ss.add_group('人员')\n",
    "#ss.get_average_by('人员')\n",
    "myModule.myPlot(myModule.sort_by_index(ss.groupby('sum'))).plot('line')\n",
    "ss = myModule.format(all_df1 ,\"month\" ,['完成项目总数'])\n",
    "#ss.add_group('人员')\n",
    "#ss.get_average_by('人员')\n",
    "myModule.myPlot(ss.groupby('sum')).plot('line','月')"
   ]
  },
  {
   "cell_type": "markdown",
   "metadata": {},
   "source": [
    "### 优秀人员"
   ]
  },
  {
   "cell_type": "markdown",
   "metadata": {},
   "source": [
    "* 总完成项目数目位于上四位分数"
   ]
  },
  {
   "cell_type": "code",
   "execution_count": 55,
   "metadata": {
    "collapsed": false
   },
   "outputs": [
    {
     "data": {
      "text/html": [
       "<div>\n",
       "<style scoped>\n",
       "    .dataframe tbody tr th:only-of-type {\n",
       "        vertical-align: middle;\n",
       "    }\n",
       "\n",
       "    .dataframe tbody tr th {\n",
       "        vertical-align: top;\n",
       "    }\n",
       "\n",
       "    .dataframe thead th {\n",
       "        text-align: right;\n",
       "    }\n",
       "</style>\n",
       "<table border=\"1\" class=\"dataframe\">\n",
       "  <thead>\n",
       "    <tr style=\"text-align: right;\">\n",
       "      <th></th>\n",
       "      <th>完成个性化数</th>\n",
       "    </tr>\n",
       "    <tr>\n",
       "      <th>人员</th>\n",
       "      <th></th>\n",
       "    </tr>\n",
       "  </thead>\n",
       "  <tbody>\n",
       "    <tr>\n",
       "      <th>赵倩</th>\n",
       "      <td>33</td>\n",
       "    </tr>\n",
       "    <tr>\n",
       "      <th>朱慧萍</th>\n",
       "      <td>23</td>\n",
       "    </tr>\n",
       "    <tr>\n",
       "      <th>冯敬岩</th>\n",
       "      <td>22</td>\n",
       "    </tr>\n",
       "    <tr>\n",
       "      <th>刘梦苑</th>\n",
       "      <td>20</td>\n",
       "    </tr>\n",
       "  </tbody>\n",
       "</table>\n",
       "</div>"
      ],
      "text/plain": [
       "     完成个性化数\n",
       "人员         \n",
       "赵倩       33\n",
       "朱慧萍      23\n",
       "冯敬岩      22\n",
       "刘梦苑      20"
      ]
     },
     "execution_count": 55,
     "metadata": {},
     "output_type": "execute_result"
    }
   ],
   "source": [
    "myModule.get_rank(all_df1 , '人员' ,'完成个性化数', quantile=0.8, compare='>' )"
   ]
  },
  {
   "cell_type": "markdown",
   "metadata": {},
   "source": [
    "* 近3期，总完成项目数位于上四分位数"
   ]
  },
  {
   "cell_type": "code",
   "execution_count": 56,
   "metadata": {
    "collapsed": false
   },
   "outputs": [
    {
     "data": {
      "text/html": [
       "<div>\n",
       "<style scoped>\n",
       "    .dataframe tbody tr th:only-of-type {\n",
       "        vertical-align: middle;\n",
       "    }\n",
       "\n",
       "    .dataframe tbody tr th {\n",
       "        vertical-align: top;\n",
       "    }\n",
       "\n",
       "    .dataframe thead th {\n",
       "        text-align: right;\n",
       "    }\n",
       "</style>\n",
       "<table border=\"1\" class=\"dataframe\">\n",
       "  <thead>\n",
       "    <tr style=\"text-align: right;\">\n",
       "      <th></th>\n",
       "      <th>完成项目总数</th>\n",
       "    </tr>\n",
       "    <tr>\n",
       "      <th>人员</th>\n",
       "      <th></th>\n",
       "    </tr>\n",
       "  </thead>\n",
       "  <tbody>\n",
       "    <tr>\n",
       "      <th>刘梦苑</th>\n",
       "      <td>27</td>\n",
       "    </tr>\n",
       "    <tr>\n",
       "      <th>何胜</th>\n",
       "      <td>19</td>\n",
       "    </tr>\n",
       "    <tr>\n",
       "      <th>闻少楠</th>\n",
       "      <td>19</td>\n",
       "    </tr>\n",
       "    <tr>\n",
       "      <th>王霞</th>\n",
       "      <td>17</td>\n",
       "    </tr>\n",
       "    <tr>\n",
       "      <th>赵倩</th>\n",
       "      <td>16</td>\n",
       "    </tr>\n",
       "  </tbody>\n",
       "</table>\n",
       "</div>"
      ],
      "text/plain": [
       "     完成项目总数\n",
       "人员         \n",
       "刘梦苑      27\n",
       "何胜       19\n",
       "闻少楠      19\n",
       "王霞       17\n",
       "赵倩       16"
      ]
     },
     "execution_count": 56,
     "metadata": {},
     "output_type": "execute_result"
    }
   ],
   "source": [
    "myModule.get_rank(all_df1 , '人员' ,'完成项目总数', 3, quantile=0.75, compare='>',sort_index=True)"
   ]
  },
  {
   "cell_type": "code",
   "execution_count": 57,
   "metadata": {
    "collapsed": false
   },
   "outputs": [
    {
     "data": {
      "text/html": [
       "<div>\n",
       "<style scoped>\n",
       "    .dataframe tbody tr th:only-of-type {\n",
       "        vertical-align: middle;\n",
       "    }\n",
       "\n",
       "    .dataframe tbody tr th {\n",
       "        vertical-align: top;\n",
       "    }\n",
       "\n",
       "    .dataframe thead th {\n",
       "        text-align: right;\n",
       "    }\n",
       "</style>\n",
       "<table border=\"1\" class=\"dataframe\">\n",
       "  <thead>\n",
       "    <tr style=\"text-align: right;\">\n",
       "      <th>日期（格式“月-周次”）</th>\n",
       "      <th>9-4</th>\n",
       "      <th>10-2</th>\n",
       "      <th>10-3</th>\n",
       "    </tr>\n",
       "    <tr>\n",
       "      <th>人员</th>\n",
       "      <th></th>\n",
       "      <th></th>\n",
       "      <th></th>\n",
       "    </tr>\n",
       "  </thead>\n",
       "  <tbody>\n",
       "    <tr>\n",
       "      <th>何胜</th>\n",
       "      <td>5.0</td>\n",
       "      <td>8.0</td>\n",
       "      <td>6.0</td>\n",
       "    </tr>\n",
       "  </tbody>\n",
       "</table>\n",
       "</div>"
      ],
      "text/plain": [
       "日期（格式“月-周次”）  9-4  10-2  10-3\n",
       "人员                           \n",
       "何胜            5.0   8.0   6.0"
      ]
     },
     "execution_count": 57,
     "metadata": {},
     "output_type": "execute_result"
    }
   ],
   "source": [
    "myModule.get_trend(all_df1 , '人员' ,'完成项目总数', 3, quantile=0.75, compare='>', sort_index=True)"
   ]
  },
  {
   "cell_type": "code",
   "execution_count": 58,
   "metadata": {
    "collapsed": false
   },
   "outputs": [
    {
     "data": {
      "text/html": [
       "<div>\n",
       "<style scoped>\n",
       "    .dataframe tbody tr th:only-of-type {\n",
       "        vertical-align: middle;\n",
       "    }\n",
       "\n",
       "    .dataframe tbody tr th {\n",
       "        vertical-align: top;\n",
       "    }\n",
       "\n",
       "    .dataframe thead th {\n",
       "        text-align: right;\n",
       "    }\n",
       "</style>\n",
       "<table border=\"1\" class=\"dataframe\">\n",
       "  <thead>\n",
       "    <tr style=\"text-align: right;\">\n",
       "      <th>日期（格式“月-周次”）</th>\n",
       "      <th>9-4</th>\n",
       "      <th>10-2</th>\n",
       "      <th>10-3</th>\n",
       "    </tr>\n",
       "    <tr>\n",
       "      <th>人员</th>\n",
       "      <th></th>\n",
       "      <th></th>\n",
       "      <th></th>\n",
       "    </tr>\n",
       "  </thead>\n",
       "  <tbody>\n",
       "    <tr>\n",
       "      <th>宋少宇</th>\n",
       "      <td>0.0</td>\n",
       "      <td>0.0</td>\n",
       "      <td>0.0</td>\n",
       "    </tr>\n",
       "  </tbody>\n",
       "</table>\n",
       "</div>"
      ],
      "text/plain": [
       "日期（格式“月-周次”）  9-4  10-2  10-3\n",
       "人员                           \n",
       "宋少宇           0.0   0.0   0.0"
      ]
     },
     "execution_count": 58,
     "metadata": {},
     "output_type": "execute_result"
    }
   ],
   "source": [
    "myModule.get_trend(all_df1 , '人员' ,'完成项目总数', 3, quantile=0.5, compare='<',trend=True , sort_index=True)"
   ]
  },
  {
   "cell_type": "markdown",
   "metadata": {},
   "source": [
    "### 待激励人员\n",
    "* 总完成项目数目位于下四位分数 or \n",
    "* 近3期，总完成项目数位于下四分位数"
   ]
  },
  {
   "cell_type": "code",
   "execution_count": 59,
   "metadata": {
    "collapsed": false
   },
   "outputs": [
    {
     "data": {
      "text/html": [
       "<div>\n",
       "<style scoped>\n",
       "    .dataframe tbody tr th:only-of-type {\n",
       "        vertical-align: middle;\n",
       "    }\n",
       "\n",
       "    .dataframe tbody tr th {\n",
       "        vertical-align: top;\n",
       "    }\n",
       "\n",
       "    .dataframe thead th {\n",
       "        text-align: right;\n",
       "    }\n",
       "</style>\n",
       "<table border=\"1\" class=\"dataframe\">\n",
       "  <thead>\n",
       "    <tr style=\"text-align: right;\">\n",
       "      <th></th>\n",
       "      <th>完成项目总数</th>\n",
       "    </tr>\n",
       "    <tr>\n",
       "      <th>人员</th>\n",
       "      <th></th>\n",
       "    </tr>\n",
       "  </thead>\n",
       "  <tbody>\n",
       "    <tr>\n",
       "      <th>施毓芷</th>\n",
       "      <td>0</td>\n",
       "    </tr>\n",
       "    <tr>\n",
       "      <th>李晓波</th>\n",
       "      <td>0</td>\n",
       "    </tr>\n",
       "    <tr>\n",
       "      <th>靳甜甜</th>\n",
       "      <td>0</td>\n",
       "    </tr>\n",
       "    <tr>\n",
       "      <th>卢楠</th>\n",
       "      <td>1</td>\n",
       "    </tr>\n",
       "  </tbody>\n",
       "</table>\n",
       "</div>"
      ],
      "text/plain": [
       "     完成项目总数\n",
       "人员         \n",
       "施毓芷       0\n",
       "李晓波       0\n",
       "靳甜甜       0\n",
       "卢楠        1"
      ]
     },
     "execution_count": 59,
     "metadata": {},
     "output_type": "execute_result"
    }
   ],
   "source": [
    "myModule.get_rank(all_df1 , '人员' ,'完成项目总数', quantile=0.2, compare='<' )"
   ]
  },
  {
   "cell_type": "code",
   "execution_count": 60,
   "metadata": {
    "collapsed": false
   },
   "outputs": [
    {
     "data": {
      "text/html": [
       "<div>\n",
       "<style scoped>\n",
       "    .dataframe tbody tr th:only-of-type {\n",
       "        vertical-align: middle;\n",
       "    }\n",
       "\n",
       "    .dataframe tbody tr th {\n",
       "        vertical-align: top;\n",
       "    }\n",
       "\n",
       "    .dataframe thead th {\n",
       "        text-align: right;\n",
       "    }\n",
       "</style>\n",
       "<table border=\"1\" class=\"dataframe\">\n",
       "  <thead>\n",
       "    <tr style=\"text-align: right;\">\n",
       "      <th></th>\n",
       "      <th>完成项目总数</th>\n",
       "    </tr>\n",
       "    <tr>\n",
       "      <th>人员</th>\n",
       "      <th></th>\n",
       "    </tr>\n",
       "  </thead>\n",
       "  <tbody>\n",
       "    <tr>\n",
       "      <th>宋少宇</th>\n",
       "      <td>0</td>\n",
       "    </tr>\n",
       "    <tr>\n",
       "      <th>施毓芷</th>\n",
       "      <td>0</td>\n",
       "    </tr>\n",
       "    <tr>\n",
       "      <th>卢楠</th>\n",
       "      <td>1</td>\n",
       "    </tr>\n",
       "  </tbody>\n",
       "</table>\n",
       "</div>"
      ],
      "text/plain": [
       "     完成项目总数\n",
       "人员         \n",
       "宋少宇       0\n",
       "施毓芷       0\n",
       "卢楠        1"
      ]
     },
     "execution_count": 60,
     "metadata": {},
     "output_type": "execute_result"
    }
   ],
   "source": [
    "myModule.get_rank(all_df1 , '人员' ,'完成项目总数', 2, quantile=0.2, compare='<',sort_index=True)"
   ]
  },
  {
   "cell_type": "markdown",
   "metadata": {},
   "source": [
    "# 下期项目情况预测"
   ]
  },
  {
   "cell_type": "markdown",
   "metadata": {},
   "source": [
    "## 整体商业项目趋势图\n",
    "* 完成项目数： 本周完成的项目\n",
    "* 总在线项目： 下机正在分析项目 和 未完成个性化分析\n",
    "* 未下机项目： 未下机项目"
   ]
  },
  {
   "cell_type": "code",
   "execution_count": 61,
   "metadata": {
    "collapsed": false
   },
   "outputs": [
    {
     "data": {
      "application/vnd.plotly.v1+json": {
       "data": [
        {
         "name": "完成项目总数",
         "type": "scatter",
         "uid": "4bb918ba-d5ea-11e8-8ddb-a41f72875c19",
         "x": [
          "9-1",
          "9-2",
          "9-3",
          "9-4",
          "10-2",
          "10-3"
         ],
         "y": [
          57,
          79,
          64,
          56,
          51,
          66
         ]
        },
        {
         "name": "在线项目总数",
         "type": "scatter",
         "uid": "4bb918bb-d5ea-11e8-8ddb-a41f72875c19",
         "x": [
          "9-1",
          "9-2",
          "9-3",
          "9-4",
          "10-2",
          "10-3"
         ],
         "y": [
          59,
          58,
          57,
          60,
          69,
          81
         ]
        }
       ],
       "layout": {
        "title": "完成项目总数&在线项目总数周趋势图",
        "xaxis": {
         "mirror": "all",
         "nticks": 20,
         "showgrid": true,
         "showline": true,
         "title": "周",
         "type": "category",
         "zeroline": true
        },
        "yaxis": {
         "mirror": "all",
         "nticks": 20,
         "showgrid": true,
         "showline": true,
         "title": "完成项目总数&在线项目总数",
         "zeroline": true
        }
       }
      },
      "text/html": [
       "<div id=\"73140286-0949-4d46-a2df-2c34a6eb0a50\" style=\"height: 525px; width: 100%;\" class=\"plotly-graph-div\"></div><script type=\"text/javascript\">require([\"plotly\"], function(Plotly) { window.PLOTLYENV=window.PLOTLYENV || {};window.PLOTLYENV.BASE_URL=\"https://plot.ly\";Plotly.newPlot(\"73140286-0949-4d46-a2df-2c34a6eb0a50\", [{\"name\": \"\\u5b8c\\u6210\\u9879\\u76ee\\u603b\\u6570\", \"x\": [\"9-1\", \"9-2\", \"9-3\", \"9-4\", \"10-2\", \"10-3\"], \"y\": [57, 79, 64, 56, 51, 66], \"type\": \"scatter\", \"uid\": \"4bb918ba-d5ea-11e8-8ddb-a41f72875c19\"}, {\"name\": \"\\u5728\\u7ebf\\u9879\\u76ee\\u603b\\u6570\", \"x\": [\"9-1\", \"9-2\", \"9-3\", \"9-4\", \"10-2\", \"10-3\"], \"y\": [59, 58, 57, 60, 69, 81], \"type\": \"scatter\", \"uid\": \"4bb918bb-d5ea-11e8-8ddb-a41f72875c19\"}], {\"title\": \"\\u5b8c\\u6210\\u9879\\u76ee\\u603b\\u6570&\\u5728\\u7ebf\\u9879\\u76ee\\u603b\\u6570\\u5468\\u8d8b\\u52bf\\u56fe\", \"xaxis\": {\"mirror\": \"all\", \"nticks\": 20, \"showgrid\": true, \"showline\": true, \"title\": \"\\u5468\", \"type\": \"category\", \"zeroline\": true}, \"yaxis\": {\"mirror\": \"all\", \"nticks\": 20, \"showgrid\": true, \"showline\": true, \"title\": \"\\u5b8c\\u6210\\u9879\\u76ee\\u603b\\u6570&\\u5728\\u7ebf\\u9879\\u76ee\\u603b\\u6570\", \"zeroline\": true}}, {\"showLink\": true, \"linkText\": \"Export to plot.ly\"})});</script>"
      ],
      "text/vnd.plotly.v1+html": [
       "<div id=\"73140286-0949-4d46-a2df-2c34a6eb0a50\" style=\"height: 525px; width: 100%;\" class=\"plotly-graph-div\"></div><script type=\"text/javascript\">require([\"plotly\"], function(Plotly) { window.PLOTLYENV=window.PLOTLYENV || {};window.PLOTLYENV.BASE_URL=\"https://plot.ly\";Plotly.newPlot(\"73140286-0949-4d46-a2df-2c34a6eb0a50\", [{\"name\": \"\\u5b8c\\u6210\\u9879\\u76ee\\u603b\\u6570\", \"x\": [\"9-1\", \"9-2\", \"9-3\", \"9-4\", \"10-2\", \"10-3\"], \"y\": [57, 79, 64, 56, 51, 66], \"type\": \"scatter\", \"uid\": \"4bb918ba-d5ea-11e8-8ddb-a41f72875c19\"}, {\"name\": \"\\u5728\\u7ebf\\u9879\\u76ee\\u603b\\u6570\", \"x\": [\"9-1\", \"9-2\", \"9-3\", \"9-4\", \"10-2\", \"10-3\"], \"y\": [59, 58, 57, 60, 69, 81], \"type\": \"scatter\", \"uid\": \"4bb918bb-d5ea-11e8-8ddb-a41f72875c19\"}], {\"title\": \"\\u5b8c\\u6210\\u9879\\u76ee\\u603b\\u6570&\\u5728\\u7ebf\\u9879\\u76ee\\u603b\\u6570\\u5468\\u8d8b\\u52bf\\u56fe\", \"xaxis\": {\"mirror\": \"all\", \"nticks\": 20, \"showgrid\": true, \"showline\": true, \"title\": \"\\u5468\", \"type\": \"category\", \"zeroline\": true}, \"yaxis\": {\"mirror\": \"all\", \"nticks\": 20, \"showgrid\": true, \"showline\": true, \"title\": \"\\u5b8c\\u6210\\u9879\\u76ee\\u603b\\u6570&\\u5728\\u7ebf\\u9879\\u76ee\\u603b\\u6570\", \"zeroline\": true}}, {\"showLink\": true, \"linkText\": \"Export to plot.ly\"})});</script>"
      ]
     },
     "metadata": {},
     "output_type": "display_data"
    }
   ],
   "source": [
    "ss = myModule.format(all_df1 ,\"日期（格式“月-周次”）\" ,['完成项目总数','在线项目总数' ])\n",
    "#ss.add_group('组别')\n",
    "#ss.get_average_by('人员')\n",
    "myModule.myPlot(myModule.sort_by_index(ss.groupby('sum'))).plot('line')\n",
    "#ss = myModule.format(all_df1 ,\"month\" ,['完成项目总数','在线项目总数'])\n",
    "#ss.add_group('组别')\n",
    "#ss.get_average_by('人员')\n",
    "#myModule.myPlot(ss.groupby('sum')).plot('line','月')"
   ]
  },
  {
   "cell_type": "markdown",
   "metadata": {},
   "source": [
    "## 总在线项目数"
   ]
  },
  {
   "cell_type": "markdown",
   "metadata": {},
   "source": [
    "### 在线项目情况"
   ]
  },
  {
   "cell_type": "code",
   "execution_count": 62,
   "metadata": {
    "collapsed": false
   },
   "outputs": [
    {
     "data": {
      "application/vnd.plotly.v1+json": {
       "data": [
        {
         "name": "在线项目总数",
         "type": "scatter",
         "uid": "4bb918bc-d5ea-11e8-8ddb-a41f72875c19",
         "x": [
          "9-1",
          "9-2",
          "9-3",
          "9-4",
          "10-2",
          "10-3"
         ],
         "y": [
          59,
          58,
          57,
          60,
          69,
          81
         ]
        }
       ],
       "layout": {
        "title": "在线项目总数周趋势图",
        "xaxis": {
         "mirror": "all",
         "nticks": 20,
         "showgrid": true,
         "showline": true,
         "title": "周",
         "type": "category",
         "zeroline": true
        },
        "yaxis": {
         "mirror": "all",
         "nticks": 20,
         "showgrid": true,
         "showline": true,
         "title": "在线项目总数",
         "zeroline": true
        }
       }
      },
      "text/html": [
       "<div id=\"2f15835c-bfc0-4868-9ab6-b31f9bcd8e43\" style=\"height: 525px; width: 100%;\" class=\"plotly-graph-div\"></div><script type=\"text/javascript\">require([\"plotly\"], function(Plotly) { window.PLOTLYENV=window.PLOTLYENV || {};window.PLOTLYENV.BASE_URL=\"https://plot.ly\";Plotly.newPlot(\"2f15835c-bfc0-4868-9ab6-b31f9bcd8e43\", [{\"name\": \"\\u5728\\u7ebf\\u9879\\u76ee\\u603b\\u6570\", \"x\": [\"9-1\", \"9-2\", \"9-3\", \"9-4\", \"10-2\", \"10-3\"], \"y\": [59, 58, 57, 60, 69, 81], \"type\": \"scatter\", \"uid\": \"4bb918bc-d5ea-11e8-8ddb-a41f72875c19\"}], {\"title\": \"\\u5728\\u7ebf\\u9879\\u76ee\\u603b\\u6570\\u5468\\u8d8b\\u52bf\\u56fe\", \"xaxis\": {\"mirror\": \"all\", \"nticks\": 20, \"showgrid\": true, \"showline\": true, \"title\": \"\\u5468\", \"type\": \"category\", \"zeroline\": true}, \"yaxis\": {\"mirror\": \"all\", \"nticks\": 20, \"showgrid\": true, \"showline\": true, \"title\": \"\\u5728\\u7ebf\\u9879\\u76ee\\u603b\\u6570\", \"zeroline\": true}}, {\"showLink\": true, \"linkText\": \"Export to plot.ly\"})});</script>"
      ],
      "text/vnd.plotly.v1+html": [
       "<div id=\"2f15835c-bfc0-4868-9ab6-b31f9bcd8e43\" style=\"height: 525px; width: 100%;\" class=\"plotly-graph-div\"></div><script type=\"text/javascript\">require([\"plotly\"], function(Plotly) { window.PLOTLYENV=window.PLOTLYENV || {};window.PLOTLYENV.BASE_URL=\"https://plot.ly\";Plotly.newPlot(\"2f15835c-bfc0-4868-9ab6-b31f9bcd8e43\", [{\"name\": \"\\u5728\\u7ebf\\u9879\\u76ee\\u603b\\u6570\", \"x\": [\"9-1\", \"9-2\", \"9-3\", \"9-4\", \"10-2\", \"10-3\"], \"y\": [59, 58, 57, 60, 69, 81], \"type\": \"scatter\", \"uid\": \"4bb918bc-d5ea-11e8-8ddb-a41f72875c19\"}], {\"title\": \"\\u5728\\u7ebf\\u9879\\u76ee\\u603b\\u6570\\u5468\\u8d8b\\u52bf\\u56fe\", \"xaxis\": {\"mirror\": \"all\", \"nticks\": 20, \"showgrid\": true, \"showline\": true, \"title\": \"\\u5468\", \"type\": \"category\", \"zeroline\": true}, \"yaxis\": {\"mirror\": \"all\", \"nticks\": 20, \"showgrid\": true, \"showline\": true, \"title\": \"\\u5728\\u7ebf\\u9879\\u76ee\\u603b\\u6570\", \"zeroline\": true}}, {\"showLink\": true, \"linkText\": \"Export to plot.ly\"})});</script>"
      ]
     },
     "metadata": {},
     "output_type": "display_data"
    },
    {
     "data": {
      "application/vnd.plotly.v1+json": {
       "data": [
        {
         "name": "完成项目总数",
         "type": "scatter",
         "uid": "4bb918bd-d5ea-11e8-8ddb-a41f72875c19",
         "x": [
          9,
          10
         ],
         "y": [
          256,
          117
         ]
        },
        {
         "name": "在线项目总数",
         "type": "scatter",
         "uid": "4bb918be-d5ea-11e8-8ddb-a41f72875c19",
         "x": [
          9,
          10
         ],
         "y": [
          234,
          150
         ]
        }
       ],
       "layout": {
        "title": "完成项目总数&在线项目总数月趋势图",
        "xaxis": {
         "mirror": "all",
         "nticks": 20,
         "showgrid": true,
         "showline": true,
         "title": "月",
         "type": "category",
         "zeroline": true
        },
        "yaxis": {
         "mirror": "all",
         "nticks": 20,
         "showgrid": true,
         "showline": true,
         "title": "完成项目总数&在线项目总数",
         "zeroline": true
        }
       }
      },
      "text/html": [
       "<div id=\"ff800f04-e6c6-414d-a27d-dde47e5740d6\" style=\"height: 525px; width: 100%;\" class=\"plotly-graph-div\"></div><script type=\"text/javascript\">require([\"plotly\"], function(Plotly) { window.PLOTLYENV=window.PLOTLYENV || {};window.PLOTLYENV.BASE_URL=\"https://plot.ly\";Plotly.newPlot(\"ff800f04-e6c6-414d-a27d-dde47e5740d6\", [{\"name\": \"\\u5b8c\\u6210\\u9879\\u76ee\\u603b\\u6570\", \"x\": [9, 10], \"y\": [256, 117], \"type\": \"scatter\", \"uid\": \"4bb918bd-d5ea-11e8-8ddb-a41f72875c19\"}, {\"name\": \"\\u5728\\u7ebf\\u9879\\u76ee\\u603b\\u6570\", \"x\": [9, 10], \"y\": [234, 150], \"type\": \"scatter\", \"uid\": \"4bb918be-d5ea-11e8-8ddb-a41f72875c19\"}], {\"title\": \"\\u5b8c\\u6210\\u9879\\u76ee\\u603b\\u6570&\\u5728\\u7ebf\\u9879\\u76ee\\u603b\\u6570\\u6708\\u8d8b\\u52bf\\u56fe\", \"xaxis\": {\"mirror\": \"all\", \"nticks\": 20, \"showgrid\": true, \"showline\": true, \"title\": \"\\u6708\", \"type\": \"category\", \"zeroline\": true}, \"yaxis\": {\"mirror\": \"all\", \"nticks\": 20, \"showgrid\": true, \"showline\": true, \"title\": \"\\u5b8c\\u6210\\u9879\\u76ee\\u603b\\u6570&\\u5728\\u7ebf\\u9879\\u76ee\\u603b\\u6570\", \"zeroline\": true}}, {\"showLink\": true, \"linkText\": \"Export to plot.ly\"})});</script>"
      ],
      "text/vnd.plotly.v1+html": [
       "<div id=\"ff800f04-e6c6-414d-a27d-dde47e5740d6\" style=\"height: 525px; width: 100%;\" class=\"plotly-graph-div\"></div><script type=\"text/javascript\">require([\"plotly\"], function(Plotly) { window.PLOTLYENV=window.PLOTLYENV || {};window.PLOTLYENV.BASE_URL=\"https://plot.ly\";Plotly.newPlot(\"ff800f04-e6c6-414d-a27d-dde47e5740d6\", [{\"name\": \"\\u5b8c\\u6210\\u9879\\u76ee\\u603b\\u6570\", \"x\": [9, 10], \"y\": [256, 117], \"type\": \"scatter\", \"uid\": \"4bb918bd-d5ea-11e8-8ddb-a41f72875c19\"}, {\"name\": \"\\u5728\\u7ebf\\u9879\\u76ee\\u603b\\u6570\", \"x\": [9, 10], \"y\": [234, 150], \"type\": \"scatter\", \"uid\": \"4bb918be-d5ea-11e8-8ddb-a41f72875c19\"}], {\"title\": \"\\u5b8c\\u6210\\u9879\\u76ee\\u603b\\u6570&\\u5728\\u7ebf\\u9879\\u76ee\\u603b\\u6570\\u6708\\u8d8b\\u52bf\\u56fe\", \"xaxis\": {\"mirror\": \"all\", \"nticks\": 20, \"showgrid\": true, \"showline\": true, \"title\": \"\\u6708\", \"type\": \"category\", \"zeroline\": true}, \"yaxis\": {\"mirror\": \"all\", \"nticks\": 20, \"showgrid\": true, \"showline\": true, \"title\": \"\\u5b8c\\u6210\\u9879\\u76ee\\u603b\\u6570&\\u5728\\u7ebf\\u9879\\u76ee\\u603b\\u6570\", \"zeroline\": true}}, {\"showLink\": true, \"linkText\": \"Export to plot.ly\"})});</script>"
      ]
     },
     "metadata": {},
     "output_type": "display_data"
    }
   ],
   "source": [
    "ss = myModule.format(all_df1 ,\"日期（格式“月-周次”）\" ,['在线项目总数' ])\n",
    "#ss.add_group('组别')\n",
    "#ss.get_average_by('人员')\n",
    "myModule.myPlot(myModule.sort_by_index(ss.groupby('sum'))).plot('line')\n",
    "ss = myModule.format(all_df1 ,\"month\" ,['完成项目总数','在线项目总数'])\n",
    "#ss.add_group('组别')\n",
    "#ss.get_average_by('人员')\n",
    "myModule.myPlot(ss.groupby('sum')).plot('line','月')"
   ]
  },
  {
   "cell_type": "markdown",
   "metadata": {},
   "source": [
    "### 人均在线项目情况"
   ]
  },
  {
   "cell_type": "code",
   "execution_count": 63,
   "metadata": {
    "collapsed": false
   },
   "outputs": [
    {
     "data": {
      "application/vnd.plotly.v1+json": {
       "data": [
        {
         "line": {
          "dash": "solid"
         },
         "name": "在线项目总数(分析一组)",
         "type": "scatter",
         "uid": "4bb918bf-d5ea-11e8-8ddb-a41f72875c19",
         "x": [
          "9-1",
          "9-2",
          "9-3",
          "9-4",
          "10-2",
          "10-3"
         ],
         "y": [
          2.25,
          2.25,
          2,
          2.75,
          5.8,
          7.2
         ]
        },
        {
         "line": {
          "dash": "dot"
         },
         "name": "在线项目总数(个性化组)",
         "type": "scatter",
         "uid": "4bb918c0-d5ea-11e8-8ddb-a41f72875c19",
         "x": [
          "9-1",
          "9-2",
          "9-3",
          "9-4",
          "10-2",
          "10-3"
         ],
         "y": [
          1.75,
          1.75,
          2.5,
          2.5,
          4.8,
          5.6
         ]
        },
        {
         "line": {
          "dash": "dash"
         },
         "name": "在线项目总数(分析二组)",
         "type": "scatter",
         "uid": "4bb918c1-d5ea-11e8-8ddb-a41f72875c19",
         "x": [
          "9-1",
          "9-2",
          "9-3",
          "9-4",
          "10-2",
          "10-3"
         ],
         "y": [
          4.3,
          4.2,
          3.9,
          3.9,
          4,
          4.25
         ]
        }
       ],
       "layout": {
        "title": "在线项目总数周趋势图",
        "xaxis": {
         "mirror": "all",
         "nticks": 20,
         "showgrid": true,
         "showline": true,
         "title": "周",
         "type": "category",
         "zeroline": true
        },
        "yaxis": {
         "mirror": "all",
         "nticks": 20,
         "showgrid": true,
         "showline": true,
         "title": "在线项目总数",
         "zeroline": true
        }
       }
      },
      "text/html": [
       "<div id=\"8b0bdc07-79cc-4779-8488-87e96555bf13\" style=\"height: 525px; width: 100%;\" class=\"plotly-graph-div\"></div><script type=\"text/javascript\">require([\"plotly\"], function(Plotly) { window.PLOTLYENV=window.PLOTLYENV || {};window.PLOTLYENV.BASE_URL=\"https://plot.ly\";Plotly.newPlot(\"8b0bdc07-79cc-4779-8488-87e96555bf13\", [{\"line\": {\"dash\": \"solid\"}, \"name\": \"\\u5728\\u7ebf\\u9879\\u76ee\\u603b\\u6570(\\u5206\\u6790\\u4e00\\u7ec4)\", \"x\": [\"9-1\", \"9-2\", \"9-3\", \"9-4\", \"10-2\", \"10-3\"], \"y\": [2.25, 2.25, 2.0, 2.75, 5.8, 7.2], \"type\": \"scatter\", \"uid\": \"4bb918bf-d5ea-11e8-8ddb-a41f72875c19\"}, {\"line\": {\"dash\": \"dot\"}, \"name\": \"\\u5728\\u7ebf\\u9879\\u76ee\\u603b\\u6570(\\u4e2a\\u6027\\u5316\\u7ec4)\", \"x\": [\"9-1\", \"9-2\", \"9-3\", \"9-4\", \"10-2\", \"10-3\"], \"y\": [1.75, 1.75, 2.5, 2.5, 4.8, 5.6], \"type\": \"scatter\", \"uid\": \"4bb918c0-d5ea-11e8-8ddb-a41f72875c19\"}, {\"line\": {\"dash\": \"dash\"}, \"name\": \"\\u5728\\u7ebf\\u9879\\u76ee\\u603b\\u6570(\\u5206\\u6790\\u4e8c\\u7ec4)\", \"x\": [\"9-1\", \"9-2\", \"9-3\", \"9-4\", \"10-2\", \"10-3\"], \"y\": [4.3, 4.2, 3.9, 3.9, 4.0, 4.25], \"type\": \"scatter\", \"uid\": \"4bb918c1-d5ea-11e8-8ddb-a41f72875c19\"}], {\"title\": \"\\u5728\\u7ebf\\u9879\\u76ee\\u603b\\u6570\\u5468\\u8d8b\\u52bf\\u56fe\", \"xaxis\": {\"mirror\": \"all\", \"nticks\": 20, \"showgrid\": true, \"showline\": true, \"title\": \"\\u5468\", \"type\": \"category\", \"zeroline\": true}, \"yaxis\": {\"mirror\": \"all\", \"nticks\": 20, \"showgrid\": true, \"showline\": true, \"title\": \"\\u5728\\u7ebf\\u9879\\u76ee\\u603b\\u6570\", \"zeroline\": true}}, {\"showLink\": true, \"linkText\": \"Export to plot.ly\"})});</script>"
      ],
      "text/vnd.plotly.v1+html": [
       "<div id=\"8b0bdc07-79cc-4779-8488-87e96555bf13\" style=\"height: 525px; width: 100%;\" class=\"plotly-graph-div\"></div><script type=\"text/javascript\">require([\"plotly\"], function(Plotly) { window.PLOTLYENV=window.PLOTLYENV || {};window.PLOTLYENV.BASE_URL=\"https://plot.ly\";Plotly.newPlot(\"8b0bdc07-79cc-4779-8488-87e96555bf13\", [{\"line\": {\"dash\": \"solid\"}, \"name\": \"\\u5728\\u7ebf\\u9879\\u76ee\\u603b\\u6570(\\u5206\\u6790\\u4e00\\u7ec4)\", \"x\": [\"9-1\", \"9-2\", \"9-3\", \"9-4\", \"10-2\", \"10-3\"], \"y\": [2.25, 2.25, 2.0, 2.75, 5.8, 7.2], \"type\": \"scatter\", \"uid\": \"4bb918bf-d5ea-11e8-8ddb-a41f72875c19\"}, {\"line\": {\"dash\": \"dot\"}, \"name\": \"\\u5728\\u7ebf\\u9879\\u76ee\\u603b\\u6570(\\u4e2a\\u6027\\u5316\\u7ec4)\", \"x\": [\"9-1\", \"9-2\", \"9-3\", \"9-4\", \"10-2\", \"10-3\"], \"y\": [1.75, 1.75, 2.5, 2.5, 4.8, 5.6], \"type\": \"scatter\", \"uid\": \"4bb918c0-d5ea-11e8-8ddb-a41f72875c19\"}, {\"line\": {\"dash\": \"dash\"}, \"name\": \"\\u5728\\u7ebf\\u9879\\u76ee\\u603b\\u6570(\\u5206\\u6790\\u4e8c\\u7ec4)\", \"x\": [\"9-1\", \"9-2\", \"9-3\", \"9-4\", \"10-2\", \"10-3\"], \"y\": [4.3, 4.2, 3.9, 3.9, 4.0, 4.25], \"type\": \"scatter\", \"uid\": \"4bb918c1-d5ea-11e8-8ddb-a41f72875c19\"}], {\"title\": \"\\u5728\\u7ebf\\u9879\\u76ee\\u603b\\u6570\\u5468\\u8d8b\\u52bf\\u56fe\", \"xaxis\": {\"mirror\": \"all\", \"nticks\": 20, \"showgrid\": true, \"showline\": true, \"title\": \"\\u5468\", \"type\": \"category\", \"zeroline\": true}, \"yaxis\": {\"mirror\": \"all\", \"nticks\": 20, \"showgrid\": true, \"showline\": true, \"title\": \"\\u5728\\u7ebf\\u9879\\u76ee\\u603b\\u6570\", \"zeroline\": true}}, {\"showLink\": true, \"linkText\": \"Export to plot.ly\"})});</script>"
      ]
     },
     "metadata": {},
     "output_type": "display_data"
    },
    {
     "data": {
      "application/vnd.plotly.v1+json": {
       "data": [
        {
         "line": {
          "dash": "solid"
         },
         "name": "完成项目总数(分析一组)",
         "type": "scatter",
         "uid": "4bb918c2-d5ea-11e8-8ddb-a41f72875c19",
         "x": [
          9,
          10
         ],
         "y": [
          11.25,
          10.4
         ]
        },
        {
         "line": {
          "dash": "dot"
         },
         "name": "完成项目总数(个性化组)",
         "type": "scatter",
         "uid": "4bb918c3-d5ea-11e8-8ddb-a41f72875c19",
         "x": [
          9,
          10
         ],
         "y": [
          14.75,
          5.4
         ]
        },
        {
         "line": {
          "dash": "dash"
         },
         "name": "完成项目总数(分析二组)",
         "type": "scatter",
         "uid": "4bb918c4-d5ea-11e8-8ddb-a41f72875c19",
         "x": [
          9,
          10
         ],
         "y": [
          15.2,
          9.5
         ]
        },
        {
         "line": {
          "dash": "solid"
         },
         "name": "在线项目总数(分析一组)",
         "type": "scatter",
         "uid": "4bb918c5-d5ea-11e8-8ddb-a41f72875c19",
         "x": [
          9,
          10
         ],
         "y": [
          9.25,
          13
         ]
        },
        {
         "line": {
          "dash": "dot"
         },
         "name": "在线项目总数(个性化组)",
         "type": "scatter",
         "uid": "4bb918c6-d5ea-11e8-8ddb-a41f72875c19",
         "x": [
          9,
          10
         ],
         "y": [
          8.5,
          10.4
         ]
        },
        {
         "line": {
          "dash": "dash"
         },
         "name": "在线项目总数(分析二组)",
         "type": "scatter",
         "uid": "4bb918c7-d5ea-11e8-8ddb-a41f72875c19",
         "x": [
          9,
          10
         ],
         "y": [
          16.3,
          8.25
         ]
        }
       ],
       "layout": {
        "title": "完成项目总数&在线项目总数月趋势图",
        "xaxis": {
         "mirror": "all",
         "nticks": 20,
         "showgrid": true,
         "showline": true,
         "title": "月",
         "type": "category",
         "zeroline": true
        },
        "yaxis": {
         "mirror": "all",
         "nticks": 20,
         "showgrid": true,
         "showline": true,
         "title": "完成项目总数&在线项目总数",
         "zeroline": true
        }
       }
      },
      "text/html": [
       "<div id=\"ade344b2-0e2c-4d3e-bc9d-ada73aee972b\" style=\"height: 525px; width: 100%;\" class=\"plotly-graph-div\"></div><script type=\"text/javascript\">require([\"plotly\"], function(Plotly) { window.PLOTLYENV=window.PLOTLYENV || {};window.PLOTLYENV.BASE_URL=\"https://plot.ly\";Plotly.newPlot(\"ade344b2-0e2c-4d3e-bc9d-ada73aee972b\", [{\"line\": {\"dash\": \"solid\"}, \"name\": \"\\u5b8c\\u6210\\u9879\\u76ee\\u603b\\u6570(\\u5206\\u6790\\u4e00\\u7ec4)\", \"x\": [9, 10], \"y\": [11.25, 10.4], \"type\": \"scatter\", \"uid\": \"4bb918c2-d5ea-11e8-8ddb-a41f72875c19\"}, {\"line\": {\"dash\": \"dot\"}, \"name\": \"\\u5b8c\\u6210\\u9879\\u76ee\\u603b\\u6570(\\u4e2a\\u6027\\u5316\\u7ec4)\", \"x\": [9, 10], \"y\": [14.75, 5.4], \"type\": \"scatter\", \"uid\": \"4bb918c3-d5ea-11e8-8ddb-a41f72875c19\"}, {\"line\": {\"dash\": \"dash\"}, \"name\": \"\\u5b8c\\u6210\\u9879\\u76ee\\u603b\\u6570(\\u5206\\u6790\\u4e8c\\u7ec4)\", \"x\": [9, 10], \"y\": [15.2, 9.5], \"type\": \"scatter\", \"uid\": \"4bb918c4-d5ea-11e8-8ddb-a41f72875c19\"}, {\"line\": {\"dash\": \"solid\"}, \"name\": \"\\u5728\\u7ebf\\u9879\\u76ee\\u603b\\u6570(\\u5206\\u6790\\u4e00\\u7ec4)\", \"x\": [9, 10], \"y\": [9.25, 13.0], \"type\": \"scatter\", \"uid\": \"4bb918c5-d5ea-11e8-8ddb-a41f72875c19\"}, {\"line\": {\"dash\": \"dot\"}, \"name\": \"\\u5728\\u7ebf\\u9879\\u76ee\\u603b\\u6570(\\u4e2a\\u6027\\u5316\\u7ec4)\", \"x\": [9, 10], \"y\": [8.5, 10.4], \"type\": \"scatter\", \"uid\": \"4bb918c6-d5ea-11e8-8ddb-a41f72875c19\"}, {\"line\": {\"dash\": \"dash\"}, \"name\": \"\\u5728\\u7ebf\\u9879\\u76ee\\u603b\\u6570(\\u5206\\u6790\\u4e8c\\u7ec4)\", \"x\": [9, 10], \"y\": [16.3, 8.25], \"type\": \"scatter\", \"uid\": \"4bb918c7-d5ea-11e8-8ddb-a41f72875c19\"}], {\"title\": \"\\u5b8c\\u6210\\u9879\\u76ee\\u603b\\u6570&\\u5728\\u7ebf\\u9879\\u76ee\\u603b\\u6570\\u6708\\u8d8b\\u52bf\\u56fe\", \"xaxis\": {\"mirror\": \"all\", \"nticks\": 20, \"showgrid\": true, \"showline\": true, \"title\": \"\\u6708\", \"type\": \"category\", \"zeroline\": true}, \"yaxis\": {\"mirror\": \"all\", \"nticks\": 20, \"showgrid\": true, \"showline\": true, \"title\": \"\\u5b8c\\u6210\\u9879\\u76ee\\u603b\\u6570&\\u5728\\u7ebf\\u9879\\u76ee\\u603b\\u6570\", \"zeroline\": true}}, {\"showLink\": true, \"linkText\": \"Export to plot.ly\"})});</script>"
      ],
      "text/vnd.plotly.v1+html": [
       "<div id=\"ade344b2-0e2c-4d3e-bc9d-ada73aee972b\" style=\"height: 525px; width: 100%;\" class=\"plotly-graph-div\"></div><script type=\"text/javascript\">require([\"plotly\"], function(Plotly) { window.PLOTLYENV=window.PLOTLYENV || {};window.PLOTLYENV.BASE_URL=\"https://plot.ly\";Plotly.newPlot(\"ade344b2-0e2c-4d3e-bc9d-ada73aee972b\", [{\"line\": {\"dash\": \"solid\"}, \"name\": \"\\u5b8c\\u6210\\u9879\\u76ee\\u603b\\u6570(\\u5206\\u6790\\u4e00\\u7ec4)\", \"x\": [9, 10], \"y\": [11.25, 10.4], \"type\": \"scatter\", \"uid\": \"4bb918c2-d5ea-11e8-8ddb-a41f72875c19\"}, {\"line\": {\"dash\": \"dot\"}, \"name\": \"\\u5b8c\\u6210\\u9879\\u76ee\\u603b\\u6570(\\u4e2a\\u6027\\u5316\\u7ec4)\", \"x\": [9, 10], \"y\": [14.75, 5.4], \"type\": \"scatter\", \"uid\": \"4bb918c3-d5ea-11e8-8ddb-a41f72875c19\"}, {\"line\": {\"dash\": \"dash\"}, \"name\": \"\\u5b8c\\u6210\\u9879\\u76ee\\u603b\\u6570(\\u5206\\u6790\\u4e8c\\u7ec4)\", \"x\": [9, 10], \"y\": [15.2, 9.5], \"type\": \"scatter\", \"uid\": \"4bb918c4-d5ea-11e8-8ddb-a41f72875c19\"}, {\"line\": {\"dash\": \"solid\"}, \"name\": \"\\u5728\\u7ebf\\u9879\\u76ee\\u603b\\u6570(\\u5206\\u6790\\u4e00\\u7ec4)\", \"x\": [9, 10], \"y\": [9.25, 13.0], \"type\": \"scatter\", \"uid\": \"4bb918c5-d5ea-11e8-8ddb-a41f72875c19\"}, {\"line\": {\"dash\": \"dot\"}, \"name\": \"\\u5728\\u7ebf\\u9879\\u76ee\\u603b\\u6570(\\u4e2a\\u6027\\u5316\\u7ec4)\", \"x\": [9, 10], \"y\": [8.5, 10.4], \"type\": \"scatter\", \"uid\": \"4bb918c6-d5ea-11e8-8ddb-a41f72875c19\"}, {\"line\": {\"dash\": \"dash\"}, \"name\": \"\\u5728\\u7ebf\\u9879\\u76ee\\u603b\\u6570(\\u5206\\u6790\\u4e8c\\u7ec4)\", \"x\": [9, 10], \"y\": [16.3, 8.25], \"type\": \"scatter\", \"uid\": \"4bb918c7-d5ea-11e8-8ddb-a41f72875c19\"}], {\"title\": \"\\u5b8c\\u6210\\u9879\\u76ee\\u603b\\u6570&\\u5728\\u7ebf\\u9879\\u76ee\\u603b\\u6570\\u6708\\u8d8b\\u52bf\\u56fe\", \"xaxis\": {\"mirror\": \"all\", \"nticks\": 20, \"showgrid\": true, \"showline\": true, \"title\": \"\\u6708\", \"type\": \"category\", \"zeroline\": true}, \"yaxis\": {\"mirror\": \"all\", \"nticks\": 20, \"showgrid\": true, \"showline\": true, \"title\": \"\\u5b8c\\u6210\\u9879\\u76ee\\u603b\\u6570&\\u5728\\u7ebf\\u9879\\u76ee\\u603b\\u6570\", \"zeroline\": true}}, {\"showLink\": true, \"linkText\": \"Export to plot.ly\"})});</script>"
      ]
     },
     "metadata": {},
     "output_type": "display_data"
    }
   ],
   "source": [
    "ss = myModule.format(all_df1 ,\"日期（格式“月-周次”）\" ,['在线项目总数' ])\n",
    "ss.add_group('组别')\n",
    "ss.get_average_by('人员')\n",
    "myModule.myPlot(myModule.sort_by_index(ss.groupby('sum'))).plot('line')\n",
    "ss = myModule.format(all_df1 ,\"month\" ,['完成项目总数','在线项目总数'])\n",
    "ss.add_group('组别')\n",
    "ss.get_average_by('人员')\n",
    "myModule.myPlot(ss.groupby('sum')).plot('line','月')"
   ]
  },
  {
   "cell_type": "markdown",
   "metadata": {},
   "source": [
    "## 未下机商业项目数"
   ]
  },
  {
   "cell_type": "code",
   "execution_count": 64,
   "metadata": {
    "collapsed": false
   },
   "outputs": [
    {
     "data": {
      "application/vnd.plotly.v1+json": {
       "data": [
        {
         "name": "未下机项目数",
         "type": "scatter",
         "uid": "4bb918c8-d5ea-11e8-8ddb-a41f72875c19",
         "x": [
          "9-1",
          "9-2",
          "9-3",
          "9-4",
          "10-2",
          "10-3"
         ],
         "y": [
          127,
          115,
          121,
          96,
          81,
          81
         ]
        }
       ],
       "layout": {
        "title": "未下机项目数周趋势图",
        "xaxis": {
         "mirror": "all",
         "nticks": 20,
         "showgrid": true,
         "showline": true,
         "title": "周",
         "type": "category",
         "zeroline": true
        },
        "yaxis": {
         "mirror": "all",
         "nticks": 20,
         "showgrid": true,
         "showline": true,
         "title": "未下机项目数",
         "zeroline": true
        }
       }
      },
      "text/html": [
       "<div id=\"4674bb68-eb3c-41f4-bd32-cd351c1a26ee\" style=\"height: 525px; width: 100%;\" class=\"plotly-graph-div\"></div><script type=\"text/javascript\">require([\"plotly\"], function(Plotly) { window.PLOTLYENV=window.PLOTLYENV || {};window.PLOTLYENV.BASE_URL=\"https://plot.ly\";Plotly.newPlot(\"4674bb68-eb3c-41f4-bd32-cd351c1a26ee\", [{\"name\": \"\\u672a\\u4e0b\\u673a\\u9879\\u76ee\\u6570\", \"x\": [\"9-1\", \"9-2\", \"9-3\", \"9-4\", \"10-2\", \"10-3\"], \"y\": [127, 115, 121, 96, 81, 81], \"type\": \"scatter\", \"uid\": \"4bb918c8-d5ea-11e8-8ddb-a41f72875c19\"}], {\"title\": \"\\u672a\\u4e0b\\u673a\\u9879\\u76ee\\u6570\\u5468\\u8d8b\\u52bf\\u56fe\", \"xaxis\": {\"mirror\": \"all\", \"nticks\": 20, \"showgrid\": true, \"showline\": true, \"title\": \"\\u5468\", \"type\": \"category\", \"zeroline\": true}, \"yaxis\": {\"mirror\": \"all\", \"nticks\": 20, \"showgrid\": true, \"showline\": true, \"title\": \"\\u672a\\u4e0b\\u673a\\u9879\\u76ee\\u6570\", \"zeroline\": true}}, {\"showLink\": true, \"linkText\": \"Export to plot.ly\"})});</script>"
      ],
      "text/vnd.plotly.v1+html": [
       "<div id=\"4674bb68-eb3c-41f4-bd32-cd351c1a26ee\" style=\"height: 525px; width: 100%;\" class=\"plotly-graph-div\"></div><script type=\"text/javascript\">require([\"plotly\"], function(Plotly) { window.PLOTLYENV=window.PLOTLYENV || {};window.PLOTLYENV.BASE_URL=\"https://plot.ly\";Plotly.newPlot(\"4674bb68-eb3c-41f4-bd32-cd351c1a26ee\", [{\"name\": \"\\u672a\\u4e0b\\u673a\\u9879\\u76ee\\u6570\", \"x\": [\"9-1\", \"9-2\", \"9-3\", \"9-4\", \"10-2\", \"10-3\"], \"y\": [127, 115, 121, 96, 81, 81], \"type\": \"scatter\", \"uid\": \"4bb918c8-d5ea-11e8-8ddb-a41f72875c19\"}], {\"title\": \"\\u672a\\u4e0b\\u673a\\u9879\\u76ee\\u6570\\u5468\\u8d8b\\u52bf\\u56fe\", \"xaxis\": {\"mirror\": \"all\", \"nticks\": 20, \"showgrid\": true, \"showline\": true, \"title\": \"\\u5468\", \"type\": \"category\", \"zeroline\": true}, \"yaxis\": {\"mirror\": \"all\", \"nticks\": 20, \"showgrid\": true, \"showline\": true, \"title\": \"\\u672a\\u4e0b\\u673a\\u9879\\u76ee\\u6570\", \"zeroline\": true}}, {\"showLink\": true, \"linkText\": \"Export to plot.ly\"})});</script>"
      ]
     },
     "metadata": {},
     "output_type": "display_data"
    },
    {
     "data": {
      "application/vnd.plotly.v1+json": {
       "data": [
        {
         "name": "未下机项目数",
         "type": "scatter",
         "uid": "4bb918c9-d5ea-11e8-8ddb-a41f72875c19",
         "x": [
          9,
          10
         ],
         "y": [
          459,
          162
         ]
        }
       ],
       "layout": {
        "title": "未下机项目数月趋势图",
        "xaxis": {
         "mirror": "all",
         "nticks": 20,
         "showgrid": true,
         "showline": true,
         "title": "月",
         "type": "category",
         "zeroline": true
        },
        "yaxis": {
         "mirror": "all",
         "nticks": 20,
         "showgrid": true,
         "showline": true,
         "title": "未下机项目数",
         "zeroline": true
        }
       }
      },
      "text/html": [
       "<div id=\"4a6bc7b0-47cd-4774-9524-b8b25cc2fb73\" style=\"height: 525px; width: 100%;\" class=\"plotly-graph-div\"></div><script type=\"text/javascript\">require([\"plotly\"], function(Plotly) { window.PLOTLYENV=window.PLOTLYENV || {};window.PLOTLYENV.BASE_URL=\"https://plot.ly\";Plotly.newPlot(\"4a6bc7b0-47cd-4774-9524-b8b25cc2fb73\", [{\"name\": \"\\u672a\\u4e0b\\u673a\\u9879\\u76ee\\u6570\", \"x\": [9, 10], \"y\": [459, 162], \"type\": \"scatter\", \"uid\": \"4bb918c9-d5ea-11e8-8ddb-a41f72875c19\"}], {\"title\": \"\\u672a\\u4e0b\\u673a\\u9879\\u76ee\\u6570\\u6708\\u8d8b\\u52bf\\u56fe\", \"xaxis\": {\"mirror\": \"all\", \"nticks\": 20, \"showgrid\": true, \"showline\": true, \"title\": \"\\u6708\", \"type\": \"category\", \"zeroline\": true}, \"yaxis\": {\"mirror\": \"all\", \"nticks\": 20, \"showgrid\": true, \"showline\": true, \"title\": \"\\u672a\\u4e0b\\u673a\\u9879\\u76ee\\u6570\", \"zeroline\": true}}, {\"showLink\": true, \"linkText\": \"Export to plot.ly\"})});</script>"
      ],
      "text/vnd.plotly.v1+html": [
       "<div id=\"4a6bc7b0-47cd-4774-9524-b8b25cc2fb73\" style=\"height: 525px; width: 100%;\" class=\"plotly-graph-div\"></div><script type=\"text/javascript\">require([\"plotly\"], function(Plotly) { window.PLOTLYENV=window.PLOTLYENV || {};window.PLOTLYENV.BASE_URL=\"https://plot.ly\";Plotly.newPlot(\"4a6bc7b0-47cd-4774-9524-b8b25cc2fb73\", [{\"name\": \"\\u672a\\u4e0b\\u673a\\u9879\\u76ee\\u6570\", \"x\": [9, 10], \"y\": [459, 162], \"type\": \"scatter\", \"uid\": \"4bb918c9-d5ea-11e8-8ddb-a41f72875c19\"}], {\"title\": \"\\u672a\\u4e0b\\u673a\\u9879\\u76ee\\u6570\\u6708\\u8d8b\\u52bf\\u56fe\", \"xaxis\": {\"mirror\": \"all\", \"nticks\": 20, \"showgrid\": true, \"showline\": true, \"title\": \"\\u6708\", \"type\": \"category\", \"zeroline\": true}, \"yaxis\": {\"mirror\": \"all\", \"nticks\": 20, \"showgrid\": true, \"showline\": true, \"title\": \"\\u672a\\u4e0b\\u673a\\u9879\\u76ee\\u6570\", \"zeroline\": true}}, {\"showLink\": true, \"linkText\": \"Export to plot.ly\"})});</script>"
      ]
     },
     "metadata": {},
     "output_type": "display_data"
    }
   ],
   "source": [
    "ss = myModule.format(all_df1 ,\"日期（格式“月-周次”）\" ,['未下机项目数' ])\n",
    "#ss.add_group('组别')\n",
    "#ss.get_average_by('人员')\n",
    "myModule.myPlot(myModule.sort_by_index(ss.groupby('sum'))).plot('line')\n",
    "ss = myModule.format(all_df1 ,\"month\" ,['未下机项目数' ])\n",
    "#ss.add_group('组别')\n",
    "#ss.get_average_by('人员')\n",
    "myModule.myPlot(ss.groupby('sum')).plot('line','月')"
   ]
  },
  {
   "cell_type": "markdown",
   "metadata": {},
   "source": [
    "# 项目质量情况"
   ]
  },
  {
   "cell_type": "markdown",
   "metadata": {},
   "source": [
    "## 项目周期情况"
   ]
  },
  {
   "cell_type": "markdown",
   "metadata": {},
   "source": [
    "### 延期项目数"
   ]
  },
  {
   "cell_type": "code",
   "execution_count": 65,
   "metadata": {
    "collapsed": false
   },
   "outputs": [
    {
     "data": {
      "application/vnd.plotly.v1+json": {
       "data": [
        {
         "name": "延期商业项目数",
         "type": "scatter",
         "uid": "4bb918ca-d5ea-11e8-8ddb-a41f72875c19",
         "x": [
          "9-1",
          "9-2",
          "9-3",
          "9-4",
          "10-2",
          "10-3"
         ],
         "y": [
          0,
          0,
          1,
          1,
          2,
          0
         ]
        },
        {
         "name": "延期个性化项目数",
         "type": "scatter",
         "uid": "4bb918cb-d5ea-11e8-8ddb-a41f72875c19",
         "x": [
          "9-1",
          "9-2",
          "9-3",
          "9-4",
          "10-2",
          "10-3"
         ],
         "y": [
          3,
          0,
          0,
          1,
          0,
          0
         ]
        }
       ],
       "layout": {
        "title": "延期商业项目数&延期个性化项目数周趋势图",
        "xaxis": {
         "mirror": "all",
         "nticks": 20,
         "showgrid": true,
         "showline": true,
         "title": "周",
         "type": "category",
         "zeroline": true
        },
        "yaxis": {
         "mirror": "all",
         "nticks": 20,
         "showgrid": true,
         "showline": true,
         "title": "延期商业项目数&延期个性化项目数",
         "zeroline": true
        }
       }
      },
      "text/html": [
       "<div id=\"05bd1239-9ce6-481b-a2a3-4526995a206b\" style=\"height: 525px; width: 100%;\" class=\"plotly-graph-div\"></div><script type=\"text/javascript\">require([\"plotly\"], function(Plotly) { window.PLOTLYENV=window.PLOTLYENV || {};window.PLOTLYENV.BASE_URL=\"https://plot.ly\";Plotly.newPlot(\"05bd1239-9ce6-481b-a2a3-4526995a206b\", [{\"name\": \"\\u5ef6\\u671f\\u5546\\u4e1a\\u9879\\u76ee\\u6570\", \"x\": [\"9-1\", \"9-2\", \"9-3\", \"9-4\", \"10-2\", \"10-3\"], \"y\": [0, 0, 1, 1, 2, 0], \"type\": \"scatter\", \"uid\": \"4bb918ca-d5ea-11e8-8ddb-a41f72875c19\"}, {\"name\": \"\\u5ef6\\u671f\\u4e2a\\u6027\\u5316\\u9879\\u76ee\\u6570\", \"x\": [\"9-1\", \"9-2\", \"9-3\", \"9-4\", \"10-2\", \"10-3\"], \"y\": [3, 0, 0, 1, 0, 0], \"type\": \"scatter\", \"uid\": \"4bb918cb-d5ea-11e8-8ddb-a41f72875c19\"}], {\"title\": \"\\u5ef6\\u671f\\u5546\\u4e1a\\u9879\\u76ee\\u6570&\\u5ef6\\u671f\\u4e2a\\u6027\\u5316\\u9879\\u76ee\\u6570\\u5468\\u8d8b\\u52bf\\u56fe\", \"xaxis\": {\"mirror\": \"all\", \"nticks\": 20, \"showgrid\": true, \"showline\": true, \"title\": \"\\u5468\", \"type\": \"category\", \"zeroline\": true}, \"yaxis\": {\"mirror\": \"all\", \"nticks\": 20, \"showgrid\": true, \"showline\": true, \"title\": \"\\u5ef6\\u671f\\u5546\\u4e1a\\u9879\\u76ee\\u6570&\\u5ef6\\u671f\\u4e2a\\u6027\\u5316\\u9879\\u76ee\\u6570\", \"zeroline\": true}}, {\"showLink\": true, \"linkText\": \"Export to plot.ly\"})});</script>"
      ],
      "text/vnd.plotly.v1+html": [
       "<div id=\"05bd1239-9ce6-481b-a2a3-4526995a206b\" style=\"height: 525px; width: 100%;\" class=\"plotly-graph-div\"></div><script type=\"text/javascript\">require([\"plotly\"], function(Plotly) { window.PLOTLYENV=window.PLOTLYENV || {};window.PLOTLYENV.BASE_URL=\"https://plot.ly\";Plotly.newPlot(\"05bd1239-9ce6-481b-a2a3-4526995a206b\", [{\"name\": \"\\u5ef6\\u671f\\u5546\\u4e1a\\u9879\\u76ee\\u6570\", \"x\": [\"9-1\", \"9-2\", \"9-3\", \"9-4\", \"10-2\", \"10-3\"], \"y\": [0, 0, 1, 1, 2, 0], \"type\": \"scatter\", \"uid\": \"4bb918ca-d5ea-11e8-8ddb-a41f72875c19\"}, {\"name\": \"\\u5ef6\\u671f\\u4e2a\\u6027\\u5316\\u9879\\u76ee\\u6570\", \"x\": [\"9-1\", \"9-2\", \"9-3\", \"9-4\", \"10-2\", \"10-3\"], \"y\": [3, 0, 0, 1, 0, 0], \"type\": \"scatter\", \"uid\": \"4bb918cb-d5ea-11e8-8ddb-a41f72875c19\"}], {\"title\": \"\\u5ef6\\u671f\\u5546\\u4e1a\\u9879\\u76ee\\u6570&\\u5ef6\\u671f\\u4e2a\\u6027\\u5316\\u9879\\u76ee\\u6570\\u5468\\u8d8b\\u52bf\\u56fe\", \"xaxis\": {\"mirror\": \"all\", \"nticks\": 20, \"showgrid\": true, \"showline\": true, \"title\": \"\\u5468\", \"type\": \"category\", \"zeroline\": true}, \"yaxis\": {\"mirror\": \"all\", \"nticks\": 20, \"showgrid\": true, \"showline\": true, \"title\": \"\\u5ef6\\u671f\\u5546\\u4e1a\\u9879\\u76ee\\u6570&\\u5ef6\\u671f\\u4e2a\\u6027\\u5316\\u9879\\u76ee\\u6570\", \"zeroline\": true}}, {\"showLink\": true, \"linkText\": \"Export to plot.ly\"})});</script>"
      ]
     },
     "metadata": {},
     "output_type": "display_data"
    },
    {
     "data": {
      "application/vnd.plotly.v1+json": {
       "data": [
        {
         "name": "延期商业项目数",
         "type": "scatter",
         "uid": "4bb918cc-d5ea-11e8-8ddb-a41f72875c19",
         "x": [
          9,
          10
         ],
         "y": [
          2,
          2
         ]
        },
        {
         "name": "延期个性化项目数",
         "type": "scatter",
         "uid": "4bb918cd-d5ea-11e8-8ddb-a41f72875c19",
         "x": [
          9,
          10
         ],
         "y": [
          4,
          0
         ]
        }
       ],
       "layout": {
        "title": "延期商业项目数&延期个性化项目数月趋势图",
        "xaxis": {
         "mirror": "all",
         "nticks": 20,
         "showgrid": true,
         "showline": true,
         "title": "月",
         "type": "category",
         "zeroline": true
        },
        "yaxis": {
         "mirror": "all",
         "nticks": 20,
         "showgrid": true,
         "showline": true,
         "title": "延期商业项目数&延期个性化项目数",
         "zeroline": true
        }
       }
      },
      "text/html": [
       "<div id=\"b824b4cd-bf5a-4f34-8315-81065ab3b5df\" style=\"height: 525px; width: 100%;\" class=\"plotly-graph-div\"></div><script type=\"text/javascript\">require([\"plotly\"], function(Plotly) { window.PLOTLYENV=window.PLOTLYENV || {};window.PLOTLYENV.BASE_URL=\"https://plot.ly\";Plotly.newPlot(\"b824b4cd-bf5a-4f34-8315-81065ab3b5df\", [{\"name\": \"\\u5ef6\\u671f\\u5546\\u4e1a\\u9879\\u76ee\\u6570\", \"x\": [9, 10], \"y\": [2, 2], \"type\": \"scatter\", \"uid\": \"4bb918cc-d5ea-11e8-8ddb-a41f72875c19\"}, {\"name\": \"\\u5ef6\\u671f\\u4e2a\\u6027\\u5316\\u9879\\u76ee\\u6570\", \"x\": [9, 10], \"y\": [4, 0], \"type\": \"scatter\", \"uid\": \"4bb918cd-d5ea-11e8-8ddb-a41f72875c19\"}], {\"title\": \"\\u5ef6\\u671f\\u5546\\u4e1a\\u9879\\u76ee\\u6570&\\u5ef6\\u671f\\u4e2a\\u6027\\u5316\\u9879\\u76ee\\u6570\\u6708\\u8d8b\\u52bf\\u56fe\", \"xaxis\": {\"mirror\": \"all\", \"nticks\": 20, \"showgrid\": true, \"showline\": true, \"title\": \"\\u6708\", \"type\": \"category\", \"zeroline\": true}, \"yaxis\": {\"mirror\": \"all\", \"nticks\": 20, \"showgrid\": true, \"showline\": true, \"title\": \"\\u5ef6\\u671f\\u5546\\u4e1a\\u9879\\u76ee\\u6570&\\u5ef6\\u671f\\u4e2a\\u6027\\u5316\\u9879\\u76ee\\u6570\", \"zeroline\": true}}, {\"showLink\": true, \"linkText\": \"Export to plot.ly\"})});</script>"
      ],
      "text/vnd.plotly.v1+html": [
       "<div id=\"b824b4cd-bf5a-4f34-8315-81065ab3b5df\" style=\"height: 525px; width: 100%;\" class=\"plotly-graph-div\"></div><script type=\"text/javascript\">require([\"plotly\"], function(Plotly) { window.PLOTLYENV=window.PLOTLYENV || {};window.PLOTLYENV.BASE_URL=\"https://plot.ly\";Plotly.newPlot(\"b824b4cd-bf5a-4f34-8315-81065ab3b5df\", [{\"name\": \"\\u5ef6\\u671f\\u5546\\u4e1a\\u9879\\u76ee\\u6570\", \"x\": [9, 10], \"y\": [2, 2], \"type\": \"scatter\", \"uid\": \"4bb918cc-d5ea-11e8-8ddb-a41f72875c19\"}, {\"name\": \"\\u5ef6\\u671f\\u4e2a\\u6027\\u5316\\u9879\\u76ee\\u6570\", \"x\": [9, 10], \"y\": [4, 0], \"type\": \"scatter\", \"uid\": \"4bb918cd-d5ea-11e8-8ddb-a41f72875c19\"}], {\"title\": \"\\u5ef6\\u671f\\u5546\\u4e1a\\u9879\\u76ee\\u6570&\\u5ef6\\u671f\\u4e2a\\u6027\\u5316\\u9879\\u76ee\\u6570\\u6708\\u8d8b\\u52bf\\u56fe\", \"xaxis\": {\"mirror\": \"all\", \"nticks\": 20, \"showgrid\": true, \"showline\": true, \"title\": \"\\u6708\", \"type\": \"category\", \"zeroline\": true}, \"yaxis\": {\"mirror\": \"all\", \"nticks\": 20, \"showgrid\": true, \"showline\": true, \"title\": \"\\u5ef6\\u671f\\u5546\\u4e1a\\u9879\\u76ee\\u6570&\\u5ef6\\u671f\\u4e2a\\u6027\\u5316\\u9879\\u76ee\\u6570\", \"zeroline\": true}}, {\"showLink\": true, \"linkText\": \"Export to plot.ly\"})});</script>"
      ]
     },
     "metadata": {},
     "output_type": "display_data"
    }
   ],
   "source": [
    "ss = myModule.format(all_df2 ,\"日期（格式“月-周次”）\" ,['延期商业项目数','延期个性化项目数' ])\n",
    "#ss.add_group('组别')\n",
    "#ss.get_average_by('人员')\n",
    "myModule.myPlot(myModule.sort_by_index(ss.groupby('sum'))).plot('line')\n",
    "ss = myModule.format(all_df2 ,\"month\" ,['延期商业项目数','延期个性化项目数' ])\n",
    "#ss.add_group('组别')\n",
    "#ss.get_average_by('人员')\n",
    "myModule.myPlot(ss.groupby('sum')).plot('line','月')"
   ]
  },
  {
   "cell_type": "markdown",
   "metadata": {},
   "source": [
    "### 项目执行延期率"
   ]
  },
  {
   "cell_type": "code",
   "execution_count": 66,
   "metadata": {
    "collapsed": false
   },
   "outputs": [],
   "source": [
    "#data_dict = {'商业项目延期率':['延期商业项目数', '总商业项目数'], \n",
    "#             '个性化项目延期率':['延期个性化项目数', '总个性化数'],\n",
    "#             '总延期率':['总延期项目数', '总项目数']}\n",
    "#myModule.plot( all_dict, data_dict, '人员' ,  'line' , total=True ,time_list = time_list)\n",
    "#myModule.plot( all_dict, data_dict, '组别' ,  'line' ,time_list = time_list)"
   ]
  },
  {
   "cell_type": "markdown",
   "metadata": {},
   "source": [
    "## 项目过程执行情况"
   ]
  },
  {
   "cell_type": "markdown",
   "metadata": {},
   "source": [
    "### 反馈延期数"
   ]
  },
  {
   "cell_type": "code",
   "execution_count": 67,
   "metadata": {
    "collapsed": false
   },
   "outputs": [
    {
     "data": {
      "application/vnd.plotly.v1+json": {
       "data": [
        {
         "name": "24h内未完成数据反馈项目数",
         "type": "scatter",
         "uid": "4bb918ce-d5ea-11e8-8ddb-a41f72875c19",
         "x": [
          "9-1",
          "9-2",
          "9-3",
          "9-4",
          "10-2",
          "10-3"
         ],
         "y": [
          0,
          0,
          1,
          3,
          1,
          3
         ]
        }
       ],
       "layout": {
        "title": "24h内未完成数据反馈项目数周趋势图",
        "xaxis": {
         "mirror": "all",
         "nticks": 20,
         "showgrid": true,
         "showline": true,
         "title": "周",
         "type": "category",
         "zeroline": true
        },
        "yaxis": {
         "mirror": "all",
         "nticks": 20,
         "showgrid": true,
         "showline": true,
         "title": "24h内未完成数据反馈项目数",
         "zeroline": true
        }
       }
      },
      "text/html": [
       "<div id=\"acb9673d-e18d-461a-884e-e93b4dfe4b4d\" style=\"height: 525px; width: 100%;\" class=\"plotly-graph-div\"></div><script type=\"text/javascript\">require([\"plotly\"], function(Plotly) { window.PLOTLYENV=window.PLOTLYENV || {};window.PLOTLYENV.BASE_URL=\"https://plot.ly\";Plotly.newPlot(\"acb9673d-e18d-461a-884e-e93b4dfe4b4d\", [{\"name\": \"24h\\u5185\\u672a\\u5b8c\\u6210\\u6570\\u636e\\u53cd\\u9988\\u9879\\u76ee\\u6570\", \"x\": [\"9-1\", \"9-2\", \"9-3\", \"9-4\", \"10-2\", \"10-3\"], \"y\": [0, 0, 1, 3, 1, 3], \"type\": \"scatter\", \"uid\": \"4bb918ce-d5ea-11e8-8ddb-a41f72875c19\"}], {\"title\": \"24h\\u5185\\u672a\\u5b8c\\u6210\\u6570\\u636e\\u53cd\\u9988\\u9879\\u76ee\\u6570\\u5468\\u8d8b\\u52bf\\u56fe\", \"xaxis\": {\"mirror\": \"all\", \"nticks\": 20, \"showgrid\": true, \"showline\": true, \"title\": \"\\u5468\", \"type\": \"category\", \"zeroline\": true}, \"yaxis\": {\"mirror\": \"all\", \"nticks\": 20, \"showgrid\": true, \"showline\": true, \"title\": \"24h\\u5185\\u672a\\u5b8c\\u6210\\u6570\\u636e\\u53cd\\u9988\\u9879\\u76ee\\u6570\", \"zeroline\": true}}, {\"showLink\": true, \"linkText\": \"Export to plot.ly\"})});</script>"
      ],
      "text/vnd.plotly.v1+html": [
       "<div id=\"acb9673d-e18d-461a-884e-e93b4dfe4b4d\" style=\"height: 525px; width: 100%;\" class=\"plotly-graph-div\"></div><script type=\"text/javascript\">require([\"plotly\"], function(Plotly) { window.PLOTLYENV=window.PLOTLYENV || {};window.PLOTLYENV.BASE_URL=\"https://plot.ly\";Plotly.newPlot(\"acb9673d-e18d-461a-884e-e93b4dfe4b4d\", [{\"name\": \"24h\\u5185\\u672a\\u5b8c\\u6210\\u6570\\u636e\\u53cd\\u9988\\u9879\\u76ee\\u6570\", \"x\": [\"9-1\", \"9-2\", \"9-3\", \"9-4\", \"10-2\", \"10-3\"], \"y\": [0, 0, 1, 3, 1, 3], \"type\": \"scatter\", \"uid\": \"4bb918ce-d5ea-11e8-8ddb-a41f72875c19\"}], {\"title\": \"24h\\u5185\\u672a\\u5b8c\\u6210\\u6570\\u636e\\u53cd\\u9988\\u9879\\u76ee\\u6570\\u5468\\u8d8b\\u52bf\\u56fe\", \"xaxis\": {\"mirror\": \"all\", \"nticks\": 20, \"showgrid\": true, \"showline\": true, \"title\": \"\\u5468\", \"type\": \"category\", \"zeroline\": true}, \"yaxis\": {\"mirror\": \"all\", \"nticks\": 20, \"showgrid\": true, \"showline\": true, \"title\": \"24h\\u5185\\u672a\\u5b8c\\u6210\\u6570\\u636e\\u53cd\\u9988\\u9879\\u76ee\\u6570\", \"zeroline\": true}}, {\"showLink\": true, \"linkText\": \"Export to plot.ly\"})});</script>"
      ]
     },
     "metadata": {},
     "output_type": "display_data"
    },
    {
     "data": {
      "application/vnd.plotly.v1+json": {
       "data": [
        {
         "name": "24h内未完成数据反馈项目数",
         "type": "scatter",
         "uid": "4bb918cf-d5ea-11e8-8ddb-a41f72875c19",
         "x": [
          9,
          10
         ],
         "y": [
          4,
          4
         ]
        }
       ],
       "layout": {
        "title": "24h内未完成数据反馈项目数月趋势图",
        "xaxis": {
         "mirror": "all",
         "nticks": 20,
         "showgrid": true,
         "showline": true,
         "title": "月",
         "type": "category",
         "zeroline": true
        },
        "yaxis": {
         "mirror": "all",
         "nticks": 20,
         "showgrid": true,
         "showline": true,
         "title": "24h内未完成数据反馈项目数",
         "zeroline": true
        }
       }
      },
      "text/html": [
       "<div id=\"9d246466-6c80-4334-9b3d-61fbac4029fd\" style=\"height: 525px; width: 100%;\" class=\"plotly-graph-div\"></div><script type=\"text/javascript\">require([\"plotly\"], function(Plotly) { window.PLOTLYENV=window.PLOTLYENV || {};window.PLOTLYENV.BASE_URL=\"https://plot.ly\";Plotly.newPlot(\"9d246466-6c80-4334-9b3d-61fbac4029fd\", [{\"name\": \"24h\\u5185\\u672a\\u5b8c\\u6210\\u6570\\u636e\\u53cd\\u9988\\u9879\\u76ee\\u6570\", \"x\": [9, 10], \"y\": [4, 4], \"type\": \"scatter\", \"uid\": \"4bb918cf-d5ea-11e8-8ddb-a41f72875c19\"}], {\"title\": \"24h\\u5185\\u672a\\u5b8c\\u6210\\u6570\\u636e\\u53cd\\u9988\\u9879\\u76ee\\u6570\\u6708\\u8d8b\\u52bf\\u56fe\", \"xaxis\": {\"mirror\": \"all\", \"nticks\": 20, \"showgrid\": true, \"showline\": true, \"title\": \"\\u6708\", \"type\": \"category\", \"zeroline\": true}, \"yaxis\": {\"mirror\": \"all\", \"nticks\": 20, \"showgrid\": true, \"showline\": true, \"title\": \"24h\\u5185\\u672a\\u5b8c\\u6210\\u6570\\u636e\\u53cd\\u9988\\u9879\\u76ee\\u6570\", \"zeroline\": true}}, {\"showLink\": true, \"linkText\": \"Export to plot.ly\"})});</script>"
      ],
      "text/vnd.plotly.v1+html": [
       "<div id=\"9d246466-6c80-4334-9b3d-61fbac4029fd\" style=\"height: 525px; width: 100%;\" class=\"plotly-graph-div\"></div><script type=\"text/javascript\">require([\"plotly\"], function(Plotly) { window.PLOTLYENV=window.PLOTLYENV || {};window.PLOTLYENV.BASE_URL=\"https://plot.ly\";Plotly.newPlot(\"9d246466-6c80-4334-9b3d-61fbac4029fd\", [{\"name\": \"24h\\u5185\\u672a\\u5b8c\\u6210\\u6570\\u636e\\u53cd\\u9988\\u9879\\u76ee\\u6570\", \"x\": [9, 10], \"y\": [4, 4], \"type\": \"scatter\", \"uid\": \"4bb918cf-d5ea-11e8-8ddb-a41f72875c19\"}], {\"title\": \"24h\\u5185\\u672a\\u5b8c\\u6210\\u6570\\u636e\\u53cd\\u9988\\u9879\\u76ee\\u6570\\u6708\\u8d8b\\u52bf\\u56fe\", \"xaxis\": {\"mirror\": \"all\", \"nticks\": 20, \"showgrid\": true, \"showline\": true, \"title\": \"\\u6708\", \"type\": \"category\", \"zeroline\": true}, \"yaxis\": {\"mirror\": \"all\", \"nticks\": 20, \"showgrid\": true, \"showline\": true, \"title\": \"24h\\u5185\\u672a\\u5b8c\\u6210\\u6570\\u636e\\u53cd\\u9988\\u9879\\u76ee\\u6570\", \"zeroline\": true}}, {\"showLink\": true, \"linkText\": \"Export to plot.ly\"})});</script>"
      ]
     },
     "metadata": {},
     "output_type": "display_data"
    }
   ],
   "source": [
    "ss = myModule.format(all_df2 ,\"日期（格式“月-周次”）\" ,['24h内未完成数据反馈项目数' ])\n",
    "#ss.add_group('组别')\n",
    "#ss.get_average_by('人员')\n",
    "myModule.myPlot(myModule.sort_by_index(ss.groupby('sum'))).plot('line')\n",
    "ss = myModule.format(all_df2 ,\"month\" ,['24h内未完成数据反馈项目数' ])\n",
    "#ss.add_group('组别')\n",
    "#ss.get_average_by('人员')\n",
    "myModule.myPlot(ss.groupby('sum')).plot('line','月')"
   ]
  },
  {
   "cell_type": "markdown",
   "metadata": {},
   "source": [
    "### 反馈延期率"
   ]
  },
  {
   "cell_type": "code",
   "execution_count": 68,
   "metadata": {
    "collapsed": false
   },
   "outputs": [
    {
     "data": {
      "application/vnd.plotly.v1+json": {
       "data": [
        {
         "name": "反馈延期率",
         "type": "scatter",
         "uid": "4bb918d0-d5ea-11e8-8ddb-a41f72875c19",
         "x": [
          "9-1",
          "9-2",
          "9-3",
          "9-4",
          "10-2",
          "10-3"
         ],
         "y": [
          0,
          0,
          0.03125,
          0.0967741935483871,
          0.03125,
          0.1875
         ]
        }
       ],
       "layout": {
        "title": "反馈延期率周趋势图",
        "xaxis": {
         "mirror": "all",
         "nticks": 20,
         "showgrid": true,
         "showline": true,
         "title": "周",
         "type": "category",
         "zeroline": true
        },
        "yaxis": {
         "mirror": "all",
         "nticks": 20,
         "showgrid": true,
         "showline": true,
         "title": "反馈延期率",
         "zeroline": true
        }
       }
      },
      "text/html": [
       "<div id=\"5c7c2e20-0cac-4cd9-a0c1-eb9d03072d32\" style=\"height: 525px; width: 100%;\" class=\"plotly-graph-div\"></div><script type=\"text/javascript\">require([\"plotly\"], function(Plotly) { window.PLOTLYENV=window.PLOTLYENV || {};window.PLOTLYENV.BASE_URL=\"https://plot.ly\";Plotly.newPlot(\"5c7c2e20-0cac-4cd9-a0c1-eb9d03072d32\", [{\"name\": \"\\u53cd\\u9988\\u5ef6\\u671f\\u7387\", \"x\": [\"9-1\", \"9-2\", \"9-3\", \"9-4\", \"10-2\", \"10-3\"], \"y\": [0.0, 0.0, 0.03125, 0.0967741935483871, 0.03125, 0.1875], \"type\": \"scatter\", \"uid\": \"4bb918d0-d5ea-11e8-8ddb-a41f72875c19\"}], {\"title\": \"\\u53cd\\u9988\\u5ef6\\u671f\\u7387\\u5468\\u8d8b\\u52bf\\u56fe\", \"xaxis\": {\"mirror\": \"all\", \"nticks\": 20, \"showgrid\": true, \"showline\": true, \"title\": \"\\u5468\", \"type\": \"category\", \"zeroline\": true}, \"yaxis\": {\"mirror\": \"all\", \"nticks\": 20, \"showgrid\": true, \"showline\": true, \"title\": \"\\u53cd\\u9988\\u5ef6\\u671f\\u7387\", \"zeroline\": true}}, {\"showLink\": true, \"linkText\": \"Export to plot.ly\"})});</script>"
      ],
      "text/vnd.plotly.v1+html": [
       "<div id=\"5c7c2e20-0cac-4cd9-a0c1-eb9d03072d32\" style=\"height: 525px; width: 100%;\" class=\"plotly-graph-div\"></div><script type=\"text/javascript\">require([\"plotly\"], function(Plotly) { window.PLOTLYENV=window.PLOTLYENV || {};window.PLOTLYENV.BASE_URL=\"https://plot.ly\";Plotly.newPlot(\"5c7c2e20-0cac-4cd9-a0c1-eb9d03072d32\", [{\"name\": \"\\u53cd\\u9988\\u5ef6\\u671f\\u7387\", \"x\": [\"9-1\", \"9-2\", \"9-3\", \"9-4\", \"10-2\", \"10-3\"], \"y\": [0.0, 0.0, 0.03125, 0.0967741935483871, 0.03125, 0.1875], \"type\": \"scatter\", \"uid\": \"4bb918d0-d5ea-11e8-8ddb-a41f72875c19\"}], {\"title\": \"\\u53cd\\u9988\\u5ef6\\u671f\\u7387\\u5468\\u8d8b\\u52bf\\u56fe\", \"xaxis\": {\"mirror\": \"all\", \"nticks\": 20, \"showgrid\": true, \"showline\": true, \"title\": \"\\u5468\", \"type\": \"category\", \"zeroline\": true}, \"yaxis\": {\"mirror\": \"all\", \"nticks\": 20, \"showgrid\": true, \"showline\": true, \"title\": \"\\u53cd\\u9988\\u5ef6\\u671f\\u7387\", \"zeroline\": true}}, {\"showLink\": true, \"linkText\": \"Export to plot.ly\"})});</script>"
      ]
     },
     "metadata": {},
     "output_type": "display_data"
    }
   ],
   "source": [
    "ss = myModule.format(all_df2 ,\"日期（格式“月-周次”）\",['24h内未完成数据反馈项目数','下机项目数'])\n",
    "ss.df\n",
    "tt = ss.get_total_ratio([['反馈延期率' ,'24h内未完成数据反馈项目数' , '下机项目数','/']] )\n",
    "myModule.myPlot(myModule.sort_by_index(tt)).plot('line')\n",
    "#ss.add_group('组别')\n",
    "#ss.get_average_by('人员')\n",
    "#myModule.myPlot(ss.groupby('sum')).plot('line')\n",
    "#ss = myModule.format(all_df2 ,\"month\" ,['24h内未完成数据反馈项目数' ])\n",
    "#ss.add_group('组别')\n",
    "#ss.get_average_by('人员')\n",
    "#myModule.myPlot(ss.groupby('sum')).plot('line','月')"
   ]
  },
  {
   "cell_type": "markdown",
   "metadata": {},
   "source": [
    "## 交付延期率"
   ]
  },
  {
   "cell_type": "markdown",
   "metadata": {},
   "source": [
    "### 分析组交付延期率"
   ]
  },
  {
   "cell_type": "code",
   "execution_count": 69,
   "metadata": {
    "collapsed": false
   },
   "outputs": [
    {
     "data": {
      "application/vnd.plotly.v1+json": {
       "data": [
        {
         "name": "各组交付延期率",
         "type": "scatter",
         "uid": "4bb918d1-d5ea-11e8-8ddb-a41f72875c19",
         "x": [
          "9-1",
          "9-2",
          "9-3",
          "9-4",
          "10-2",
          "10-3"
         ],
         "y": [
          0,
          0,
          0,
          0,
          0,
          0
         ]
        }
       ],
       "layout": {
        "title": "各组交付延期率周趋势图",
        "xaxis": {
         "mirror": "all",
         "nticks": 20,
         "showgrid": true,
         "showline": true,
         "title": "周",
         "type": "category",
         "zeroline": true
        },
        "yaxis": {
         "mirror": "all",
         "nticks": 20,
         "showgrid": true,
         "showline": true,
         "title": "各组交付延期率",
         "zeroline": true
        }
       }
      },
      "text/html": [
       "<div id=\"f7d253af-2f60-4a42-ba01-d834a47a7164\" style=\"height: 525px; width: 100%;\" class=\"plotly-graph-div\"></div><script type=\"text/javascript\">require([\"plotly\"], function(Plotly) { window.PLOTLYENV=window.PLOTLYENV || {};window.PLOTLYENV.BASE_URL=\"https://plot.ly\";Plotly.newPlot(\"f7d253af-2f60-4a42-ba01-d834a47a7164\", [{\"name\": \"\\u5404\\u7ec4\\u4ea4\\u4ed8\\u5ef6\\u671f\\u7387\", \"x\": [\"9-1\", \"9-2\", \"9-3\", \"9-4\", \"10-2\", \"10-3\"], \"y\": [0.0, 0.0, 0.0, 0.0, 0.0, 0.0], \"type\": \"scatter\", \"uid\": \"4bb918d1-d5ea-11e8-8ddb-a41f72875c19\"}], {\"title\": \"\\u5404\\u7ec4\\u4ea4\\u4ed8\\u5ef6\\u671f\\u7387\\u5468\\u8d8b\\u52bf\\u56fe\", \"xaxis\": {\"mirror\": \"all\", \"nticks\": 20, \"showgrid\": true, \"showline\": true, \"title\": \"\\u5468\", \"type\": \"category\", \"zeroline\": true}, \"yaxis\": {\"mirror\": \"all\", \"nticks\": 20, \"showgrid\": true, \"showline\": true, \"title\": \"\\u5404\\u7ec4\\u4ea4\\u4ed8\\u5ef6\\u671f\\u7387\", \"zeroline\": true}}, {\"showLink\": true, \"linkText\": \"Export to plot.ly\"})});</script>"
      ],
      "text/vnd.plotly.v1+html": [
       "<div id=\"f7d253af-2f60-4a42-ba01-d834a47a7164\" style=\"height: 525px; width: 100%;\" class=\"plotly-graph-div\"></div><script type=\"text/javascript\">require([\"plotly\"], function(Plotly) { window.PLOTLYENV=window.PLOTLYENV || {};window.PLOTLYENV.BASE_URL=\"https://plot.ly\";Plotly.newPlot(\"f7d253af-2f60-4a42-ba01-d834a47a7164\", [{\"name\": \"\\u5404\\u7ec4\\u4ea4\\u4ed8\\u5ef6\\u671f\\u7387\", \"x\": [\"9-1\", \"9-2\", \"9-3\", \"9-4\", \"10-2\", \"10-3\"], \"y\": [0.0, 0.0, 0.0, 0.0, 0.0, 0.0], \"type\": \"scatter\", \"uid\": \"4bb918d1-d5ea-11e8-8ddb-a41f72875c19\"}], {\"title\": \"\\u5404\\u7ec4\\u4ea4\\u4ed8\\u5ef6\\u671f\\u7387\\u5468\\u8d8b\\u52bf\\u56fe\", \"xaxis\": {\"mirror\": \"all\", \"nticks\": 20, \"showgrid\": true, \"showline\": true, \"title\": \"\\u5468\", \"type\": \"category\", \"zeroline\": true}, \"yaxis\": {\"mirror\": \"all\", \"nticks\": 20, \"showgrid\": true, \"showline\": true, \"title\": \"\\u5404\\u7ec4\\u4ea4\\u4ed8\\u5ef6\\u671f\\u7387\", \"zeroline\": true}}, {\"showLink\": true, \"linkText\": \"Export to plot.ly\"})});</script>"
      ]
     },
     "metadata": {},
     "output_type": "display_data"
    }
   ],
   "source": [
    "ss = myModule.format(all_df2 ,\"日期（格式“月-周次”）\" ,['24h内未完成数据交付项目数','待交付项目数' ])\n",
    "#ss.add_group('组别')\n",
    "#ss.get_average_by('人员')\n",
    "tt = ss.get_total_ratio([['各组交付延期率' ,'24h内未完成数据交付项目数','待交付项目数','/']] )\n",
    "myModule.myPlot(myModule.sort_by_index(tt)).plot('line')"
   ]
  },
  {
   "cell_type": "markdown",
   "metadata": {},
   "source": [
    "### 各组交付延期率"
   ]
  },
  {
   "cell_type": "code",
   "execution_count": 70,
   "metadata": {
    "collapsed": false
   },
   "outputs": [
    {
     "data": {
      "application/vnd.plotly.v1+json": {
       "data": [
        {
         "line": {
          "dash": "solid"
         },
         "name": "各组交付延期率(分析一组)",
         "type": "scatter",
         "uid": "4bb918d2-d5ea-11e8-8ddb-a41f72875c19",
         "x": [
          "9-1",
          "9-2",
          "9-3",
          "9-4",
          "10-2",
          "10-3"
         ],
         "y": [
          0,
          0,
          0,
          0,
          0,
          0
         ]
        },
        {
         "line": {
          "dash": "dot"
         },
         "name": "各组交付延期率(个性化组)",
         "type": "scatter",
         "uid": "4bb918d3-d5ea-11e8-8ddb-a41f72875c19",
         "x": [
          "9-1",
          "9-2",
          "9-3",
          "9-4",
          "10-2",
          "10-3"
         ],
         "y": [
          0,
          null,
          0,
          null,
          null,
          0
         ]
        },
        {
         "line": {
          "dash": "dash"
         },
         "name": "各组交付延期率(分析二组)",
         "type": "scatter",
         "uid": "4bb918d4-d5ea-11e8-8ddb-a41f72875c19",
         "x": [
          "9-1",
          "9-2",
          "9-3",
          "9-4",
          "10-2",
          "10-3"
         ],
         "y": [
          0,
          0,
          0,
          0,
          0,
          null
         ]
        }
       ],
       "layout": {
        "title": "各组交付延期率周趋势图",
        "xaxis": {
         "mirror": "all",
         "nticks": 20,
         "showgrid": true,
         "showline": true,
         "title": "周",
         "type": "category",
         "zeroline": true
        },
        "yaxis": {
         "mirror": "all",
         "nticks": 20,
         "showgrid": true,
         "showline": true,
         "title": "各组交付延期率",
         "zeroline": true
        }
       }
      },
      "text/html": [
       "<div id=\"b5cb51c2-66e4-4e31-b85d-d61463e7569e\" style=\"height: 525px; width: 100%;\" class=\"plotly-graph-div\"></div><script type=\"text/javascript\">require([\"plotly\"], function(Plotly) { window.PLOTLYENV=window.PLOTLYENV || {};window.PLOTLYENV.BASE_URL=\"https://plot.ly\";Plotly.newPlot(\"b5cb51c2-66e4-4e31-b85d-d61463e7569e\", [{\"line\": {\"dash\": \"solid\"}, \"name\": \"\\u5404\\u7ec4\\u4ea4\\u4ed8\\u5ef6\\u671f\\u7387(\\u5206\\u6790\\u4e00\\u7ec4)\", \"x\": [\"9-1\", \"9-2\", \"9-3\", \"9-4\", \"10-2\", \"10-3\"], \"y\": [0.0, 0.0, 0.0, 0.0, 0.0, 0.0], \"type\": \"scatter\", \"uid\": \"4bb918d2-d5ea-11e8-8ddb-a41f72875c19\"}, {\"line\": {\"dash\": \"dot\"}, \"name\": \"\\u5404\\u7ec4\\u4ea4\\u4ed8\\u5ef6\\u671f\\u7387(\\u4e2a\\u6027\\u5316\\u7ec4)\", \"x\": [\"9-1\", \"9-2\", \"9-3\", \"9-4\", \"10-2\", \"10-3\"], \"y\": [0.0, null, 0.0, null, null, 0.0], \"type\": \"scatter\", \"uid\": \"4bb918d3-d5ea-11e8-8ddb-a41f72875c19\"}, {\"line\": {\"dash\": \"dash\"}, \"name\": \"\\u5404\\u7ec4\\u4ea4\\u4ed8\\u5ef6\\u671f\\u7387(\\u5206\\u6790\\u4e8c\\u7ec4)\", \"x\": [\"9-1\", \"9-2\", \"9-3\", \"9-4\", \"10-2\", \"10-3\"], \"y\": [0.0, 0.0, 0.0, 0.0, 0.0, null], \"type\": \"scatter\", \"uid\": \"4bb918d4-d5ea-11e8-8ddb-a41f72875c19\"}], {\"title\": \"\\u5404\\u7ec4\\u4ea4\\u4ed8\\u5ef6\\u671f\\u7387\\u5468\\u8d8b\\u52bf\\u56fe\", \"xaxis\": {\"mirror\": \"all\", \"nticks\": 20, \"showgrid\": true, \"showline\": true, \"title\": \"\\u5468\", \"type\": \"category\", \"zeroline\": true}, \"yaxis\": {\"mirror\": \"all\", \"nticks\": 20, \"showgrid\": true, \"showline\": true, \"title\": \"\\u5404\\u7ec4\\u4ea4\\u4ed8\\u5ef6\\u671f\\u7387\", \"zeroline\": true}}, {\"showLink\": true, \"linkText\": \"Export to plot.ly\"})});</script>"
      ],
      "text/vnd.plotly.v1+html": [
       "<div id=\"b5cb51c2-66e4-4e31-b85d-d61463e7569e\" style=\"height: 525px; width: 100%;\" class=\"plotly-graph-div\"></div><script type=\"text/javascript\">require([\"plotly\"], function(Plotly) { window.PLOTLYENV=window.PLOTLYENV || {};window.PLOTLYENV.BASE_URL=\"https://plot.ly\";Plotly.newPlot(\"b5cb51c2-66e4-4e31-b85d-d61463e7569e\", [{\"line\": {\"dash\": \"solid\"}, \"name\": \"\\u5404\\u7ec4\\u4ea4\\u4ed8\\u5ef6\\u671f\\u7387(\\u5206\\u6790\\u4e00\\u7ec4)\", \"x\": [\"9-1\", \"9-2\", \"9-3\", \"9-4\", \"10-2\", \"10-3\"], \"y\": [0.0, 0.0, 0.0, 0.0, 0.0, 0.0], \"type\": \"scatter\", \"uid\": \"4bb918d2-d5ea-11e8-8ddb-a41f72875c19\"}, {\"line\": {\"dash\": \"dot\"}, \"name\": \"\\u5404\\u7ec4\\u4ea4\\u4ed8\\u5ef6\\u671f\\u7387(\\u4e2a\\u6027\\u5316\\u7ec4)\", \"x\": [\"9-1\", \"9-2\", \"9-3\", \"9-4\", \"10-2\", \"10-3\"], \"y\": [0.0, null, 0.0, null, null, 0.0], \"type\": \"scatter\", \"uid\": \"4bb918d3-d5ea-11e8-8ddb-a41f72875c19\"}, {\"line\": {\"dash\": \"dash\"}, \"name\": \"\\u5404\\u7ec4\\u4ea4\\u4ed8\\u5ef6\\u671f\\u7387(\\u5206\\u6790\\u4e8c\\u7ec4)\", \"x\": [\"9-1\", \"9-2\", \"9-3\", \"9-4\", \"10-2\", \"10-3\"], \"y\": [0.0, 0.0, 0.0, 0.0, 0.0, null], \"type\": \"scatter\", \"uid\": \"4bb918d4-d5ea-11e8-8ddb-a41f72875c19\"}], {\"title\": \"\\u5404\\u7ec4\\u4ea4\\u4ed8\\u5ef6\\u671f\\u7387\\u5468\\u8d8b\\u52bf\\u56fe\", \"xaxis\": {\"mirror\": \"all\", \"nticks\": 20, \"showgrid\": true, \"showline\": true, \"title\": \"\\u5468\", \"type\": \"category\", \"zeroline\": true}, \"yaxis\": {\"mirror\": \"all\", \"nticks\": 20, \"showgrid\": true, \"showline\": true, \"title\": \"\\u5404\\u7ec4\\u4ea4\\u4ed8\\u5ef6\\u671f\\u7387\", \"zeroline\": true}}, {\"showLink\": true, \"linkText\": \"Export to plot.ly\"})});</script>"
      ]
     },
     "metadata": {},
     "output_type": "display_data"
    }
   ],
   "source": [
    "ss = myModule.format(all_df2 ,\"日期（格式“月-周次”）\" ,['24h内未完成数据交付项目数','待交付项目数' ])\n",
    "ss.add_group('组别')\n",
    "#ss.get_average_by('人员')\n",
    "tt = ss.get_total_ratio([['各组交付延期率' ,'24h内未完成数据交付项目数','待交付项目数','/']] )\n",
    "myModule.myPlot(myModule.sort_by_index(tt)).plot('line')"
   ]
  },
  {
   "cell_type": "code",
   "execution_count": null,
   "metadata": {
    "collapsed": true
   },
   "outputs": [],
   "source": []
  }
 ],
 "metadata": {
  "hide_input": false,
  "kernelspec": {
   "display_name": "Python 3",
   "language": "python",
   "name": "python3"
  },
  "language_info": {
   "codemirror_mode": {
    "name": "ipython",
    "version": 3
   },
   "file_extension": ".py",
   "mimetype": "text/x-python",
   "name": "python",
   "nbconvert_exporter": "python",
   "pygments_lexer": "ipython3",
   "version": "3.6.0"
  },
  "toc": {
   "base_numbering": 1,
   "nav_menu": {
    "height": "247px",
    "width": "215px"
   },
   "number_sections": true,
   "sideBar": true,
   "skip_h1_title": false,
   "title_cell": "Table of Contents",
   "title_sidebar": "Contents",
   "toc_cell": false,
   "toc_position": {
    "height": "calc(100% - 180px)",
    "left": "10px",
    "top": "150px",
    "width": "245px"
   },
   "toc_section_display": true,
   "toc_window_display": true
  }
 },
 "nbformat": 4,
 "nbformat_minor": 2
}
