{
 "cells": [
  {
   "cell_type": "markdown",
   "metadata": {},
   "source": [
    "tobedone：每组人均产能，表格的规整和简化"
   ]
  },
  {
   "cell_type": "code",
   "execution_count": 131,
   "metadata": {
    "collapsed": false
   },
   "outputs": [
    {
     "name": "stdout",
     "output_type": "stream",
     "text": [
      "The autoreload extension is already loaded. To reload it, use:\n",
      "  %reload_ext autoreload\n"
     ]
    }
   ],
   "source": [
    "%load_ext autoreload\n",
    "%autoreload 2"
   ]
  },
  {
   "cell_type": "code",
   "execution_count": 132,
   "metadata": {
    "collapsed": false,
    "scrolled": true
   },
   "outputs": [
    {
     "data": {
      "text/html": [
       "<script>requirejs.config({paths: { 'plotly': ['https://cdn.plot.ly/plotly-latest.min']},});if(!window.Plotly) {{require(['plotly'],function(plotly) {window.Plotly=plotly;});}}</script>"
      ],
      "text/vnd.plotly.v1+html": [
       "<script>requirejs.config({paths: { 'plotly': ['https://cdn.plot.ly/plotly-latest.min']},});if(!window.Plotly) {{require(['plotly'],function(plotly) {window.Plotly=plotly;});}}</script>"
      ]
     },
     "metadata": {},
     "output_type": "display_data"
    }
   ],
   "source": [
    "import sys\n",
    "sys.path.append('./')\n",
    "import myModule\n",
    "import imp\n",
    "imp.reload(myModule)\n",
    "time_list=['week']"
   ]
  },
  {
   "cell_type": "code",
   "execution_count": 133,
   "metadata": {
    "collapsed": true,
    "scrolled": true
   },
   "outputs": [],
   "source": [
    "import os\n",
    "bindir = os.path.dirname(os.getcwd())\n",
    "pathway = bindir + '/../data/Analysis/'\n",
    "all_files , title = myModule.get_title(pathway, 0)   ##给路径\n",
    "all_df1  = myModule.read_xlsx(all_files , 0 )## read all files sheet1\n",
    "all_df2  = myModule.read_xlsx(all_files , 1 )\n",
    "all_df3  = myModule.read_xlsx(all_files , 2 )"
   ]
  },
  {
   "cell_type": "code",
   "execution_count": 134,
   "metadata": {
    "collapsed": false,
    "scrolled": true
   },
   "outputs": [
    {
     "data": {
      "text/html": [
       "<div>\n",
       "<style scoped>\n",
       "    .dataframe tbody tr th:only-of-type {\n",
       "        vertical-align: middle;\n",
       "    }\n",
       "\n",
       "    .dataframe tbody tr th {\n",
       "        vertical-align: top;\n",
       "    }\n",
       "\n",
       "    .dataframe thead th {\n",
       "        text-align: right;\n",
       "    }\n",
       "</style>\n",
       "<table border=\"1\" class=\"dataframe\">\n",
       "  <thead>\n",
       "    <tr style=\"text-align: right;\">\n",
       "      <th></th>\n",
       "      <th>组别</th>\n",
       "      <th>人员</th>\n",
       "      <th>日期（格式“月-周次”）</th>\n",
       "      <th>完成流水线项目数</th>\n",
       "      <th>完成非流水线项目数</th>\n",
       "      <th>完成只分析项目数</th>\n",
       "      <th>完成联合分析项目数</th>\n",
       "      <th>完成个性化数</th>\n",
       "      <th>接入个性化数</th>\n",
       "      <th>在线标准分析项目数</th>\n",
       "      <th>在线个性化项目数</th>\n",
       "      <th>未下机项目数</th>\n",
       "      <th>month</th>\n",
       "      <th>完成商业项目数</th>\n",
       "      <th>完成项目总数</th>\n",
       "      <th>在线项目总数</th>\n",
       "    </tr>\n",
       "  </thead>\n",
       "  <tbody>\n",
       "    <tr>\n",
       "      <th>0</th>\n",
       "      <td>分析一组</td>\n",
       "      <td>施毓芷</td>\n",
       "      <td>10-1</td>\n",
       "      <td>0</td>\n",
       "      <td>0</td>\n",
       "      <td>0</td>\n",
       "      <td>0</td>\n",
       "      <td>0</td>\n",
       "      <td>0</td>\n",
       "      <td>0</td>\n",
       "      <td>0</td>\n",
       "      <td>0</td>\n",
       "      <td>10</td>\n",
       "      <td>0</td>\n",
       "      <td>0</td>\n",
       "      <td>0</td>\n",
       "    </tr>\n",
       "    <tr>\n",
       "      <th>1</th>\n",
       "      <td>分析一组</td>\n",
       "      <td>闻少楠</td>\n",
       "      <td>10-1</td>\n",
       "      <td>2</td>\n",
       "      <td>1</td>\n",
       "      <td>0</td>\n",
       "      <td>0</td>\n",
       "      <td>4</td>\n",
       "      <td>4</td>\n",
       "      <td>5</td>\n",
       "      <td>2</td>\n",
       "      <td>8</td>\n",
       "      <td>10</td>\n",
       "      <td>3</td>\n",
       "      <td>7</td>\n",
       "      <td>7</td>\n",
       "    </tr>\n",
       "    <tr>\n",
       "      <th>2</th>\n",
       "      <td>分析一组</td>\n",
       "      <td>杨宇</td>\n",
       "      <td>10-1</td>\n",
       "      <td>1</td>\n",
       "      <td>2</td>\n",
       "      <td>0</td>\n",
       "      <td>0</td>\n",
       "      <td>0</td>\n",
       "      <td>4</td>\n",
       "      <td>2</td>\n",
       "      <td>4</td>\n",
       "      <td>16</td>\n",
       "      <td>10</td>\n",
       "      <td>3</td>\n",
       "      <td>3</td>\n",
       "      <td>6</td>\n",
       "    </tr>\n",
       "    <tr>\n",
       "      <th>3</th>\n",
       "      <td>分析一组</td>\n",
       "      <td>刘永强</td>\n",
       "      <td>10-1</td>\n",
       "      <td>0</td>\n",
       "      <td>0</td>\n",
       "      <td>0</td>\n",
       "      <td>0</td>\n",
       "      <td>1</td>\n",
       "      <td>1</td>\n",
       "      <td>2</td>\n",
       "      <td>2</td>\n",
       "      <td>4</td>\n",
       "      <td>10</td>\n",
       "      <td>0</td>\n",
       "      <td>1</td>\n",
       "      <td>4</td>\n",
       "    </tr>\n",
       "    <tr>\n",
       "      <th>4</th>\n",
       "      <td>分析一组</td>\n",
       "      <td>刘梦苑</td>\n",
       "      <td>10-1</td>\n",
       "      <td>2</td>\n",
       "      <td>3</td>\n",
       "      <td>2</td>\n",
       "      <td>2</td>\n",
       "      <td>3</td>\n",
       "      <td>8</td>\n",
       "      <td>7</td>\n",
       "      <td>5</td>\n",
       "      <td>9</td>\n",
       "      <td>10</td>\n",
       "      <td>9</td>\n",
       "      <td>12</td>\n",
       "      <td>12</td>\n",
       "    </tr>\n",
       "  </tbody>\n",
       "</table>\n",
       "</div>"
      ],
      "text/plain": [
       "     组别   人员 日期（格式“月-周次”）  完成流水线项目数  完成非流水线项目数  完成只分析项目数  完成联合分析项目数  完成个性化数  \\\n",
       "0  分析一组  施毓芷         10-1         0          0         0          0       0   \n",
       "1  分析一组  闻少楠         10-1         2          1         0          0       4   \n",
       "2  分析一组   杨宇         10-1         1          2         0          0       0   \n",
       "3  分析一组  刘永强         10-1         0          0         0          0       1   \n",
       "4  分析一组  刘梦苑         10-1         2          3         2          2       3   \n",
       "\n",
       "   接入个性化数  在线标准分析项目数  在线个性化项目数  未下机项目数  month  完成商业项目数  完成项目总数  在线项目总数  \n",
       "0       0          0         0       0     10        0       0       0  \n",
       "1       4          5         2       8     10        3       7       7  \n",
       "2       4          2         4      16     10        3       3       6  \n",
       "3       1          2         2       4     10        0       1       4  \n",
       "4       8          7         5       9     10        9      12      12  "
      ]
     },
     "execution_count": 134,
     "metadata": {},
     "output_type": "execute_result"
    }
   ],
   "source": [
    "### show NA after first running\n",
    "myModule.upgrade_df(all_df1, [ ['完成商业项目数',['完成流水线项目数','完成非流水线项目数','完成只分析项目数','完成联合分析项目数'],'+']])\n",
    "myModule.upgrade_df(all_df1, [ ['完成项目总数',['完成商业项目数','完成个性化数'],'+'] , \n",
    "                               ['在线项目总数',['在线标准分析项目数','在线个性化项目数'],'+']])\n",
    "#all_dict2 = myModule.read_xlsx(all_files , 1 ) ##\n",
    "#all_df1.drop([])\n",
    "all_df1.loc[all_df1['日期（格式“月-周次”）']=='10-1'].head()\n"
   ]
  },
  {
   "cell_type": "markdown",
   "metadata": {},
   "source": [
    "# 人员情况"
   ]
  },
  {
   "cell_type": "markdown",
   "metadata": {},
   "source": [
    "## 分析组整体人员情况"
   ]
  },
  {
   "cell_type": "code",
   "execution_count": 135,
   "metadata": {
    "collapsed": false,
    "scrolled": false
   },
   "outputs": [
    {
     "data": {
      "application/vnd.plotly.v1+json": {
       "data": [
        {
         "name": "人员",
         "type": "bar",
         "uid": "d2202a72-d1b9-11e8-8ddb-a41f72875c19",
         "x": [
          "9-1",
          "9-2",
          "9-3",
          "9-4",
          "10-1"
         ],
         "y": [
          18,
          18,
          18,
          18,
          14
         ]
        }
       ],
       "layout": {
        "title": "人员周趋势图",
        "xaxis": {
         "mirror": "all",
         "nticks": 20,
         "showgrid": true,
         "showline": true,
         "title": "周",
         "type": "category",
         "zeroline": true
        },
        "yaxis": {
         "mirror": "all",
         "nticks": 20,
         "showgrid": true,
         "showline": true,
         "title": "人员",
         "zeroline": true
        }
       }
      },
      "text/html": [
       "<div id=\"e350ee75-1bc9-4920-aeff-ccb345106acd\" style=\"height: 525px; width: 100%;\" class=\"plotly-graph-div\"></div><script type=\"text/javascript\">require([\"plotly\"], function(Plotly) { window.PLOTLYENV=window.PLOTLYENV || {};window.PLOTLYENV.BASE_URL=\"https://plot.ly\";Plotly.newPlot(\"e350ee75-1bc9-4920-aeff-ccb345106acd\", [{\"name\": \"\\u4eba\\u5458\", \"x\": [\"9-1\", \"9-2\", \"9-3\", \"9-4\", \"10-1\"], \"y\": [18, 18, 18, 18, 14], \"type\": \"bar\", \"uid\": \"d2202a72-d1b9-11e8-8ddb-a41f72875c19\"}], {\"title\": \"\\u4eba\\u5458\\u5468\\u8d8b\\u52bf\\u56fe\", \"xaxis\": {\"mirror\": \"all\", \"nticks\": 20, \"showgrid\": true, \"showline\": true, \"title\": \"\\u5468\", \"type\": \"category\", \"zeroline\": true}, \"yaxis\": {\"mirror\": \"all\", \"nticks\": 20, \"showgrid\": true, \"showline\": true, \"title\": \"\\u4eba\\u5458\", \"zeroline\": true}}, {\"showLink\": true, \"linkText\": \"Export to plot.ly\"})});</script>"
      ],
      "text/vnd.plotly.v1+html": [
       "<div id=\"e350ee75-1bc9-4920-aeff-ccb345106acd\" style=\"height: 525px; width: 100%;\" class=\"plotly-graph-div\"></div><script type=\"text/javascript\">require([\"plotly\"], function(Plotly) { window.PLOTLYENV=window.PLOTLYENV || {};window.PLOTLYENV.BASE_URL=\"https://plot.ly\";Plotly.newPlot(\"e350ee75-1bc9-4920-aeff-ccb345106acd\", [{\"name\": \"\\u4eba\\u5458\", \"x\": [\"9-1\", \"9-2\", \"9-3\", \"9-4\", \"10-1\"], \"y\": [18, 18, 18, 18, 14], \"type\": \"bar\", \"uid\": \"d2202a72-d1b9-11e8-8ddb-a41f72875c19\"}], {\"title\": \"\\u4eba\\u5458\\u5468\\u8d8b\\u52bf\\u56fe\", \"xaxis\": {\"mirror\": \"all\", \"nticks\": 20, \"showgrid\": true, \"showline\": true, \"title\": \"\\u5468\", \"type\": \"category\", \"zeroline\": true}, \"yaxis\": {\"mirror\": \"all\", \"nticks\": 20, \"showgrid\": true, \"showline\": true, \"title\": \"\\u4eba\\u5458\", \"zeroline\": true}}, {\"showLink\": true, \"linkText\": \"Export to plot.ly\"})});</script>"
      ]
     },
     "metadata": {},
     "output_type": "display_data"
    }
   ],
   "source": [
    "ss = myModule.format(all_df1 ,\"日期（格式“月-周次”）\" ,['人员'])\n",
    "ss.groupby('count')\n",
    "myModule.sort_by_index(ss.groupby('count'))\n",
    "tt = myModule.myPlot(myModule.sort_by_index(ss.groupby('count')))\n",
    "tt.plot('bar')"
   ]
  },
  {
   "cell_type": "code",
   "execution_count": 136,
   "metadata": {
    "collapsed": false,
    "scrolled": false
   },
   "outputs": [
    {
     "data": {
      "application/vnd.plotly.v1+json": {
       "data": [
        {
         "name": "人员",
         "type": "bar",
         "uid": "d2202a73-d1b9-11e8-8ddb-a41f72875c19",
         "x": [
          9,
          10
         ],
         "y": [
          18,
          14
         ]
        }
       ],
       "layout": {
        "title": "人员月趋势图",
        "xaxis": {
         "mirror": "all",
         "nticks": 20,
         "showgrid": true,
         "showline": true,
         "title": "月",
         "type": "category",
         "zeroline": true
        },
        "yaxis": {
         "mirror": "all",
         "nticks": 20,
         "showgrid": true,
         "showline": true,
         "title": "人员",
         "zeroline": true
        }
       }
      },
      "text/html": [
       "<div id=\"d034435b-8659-4af2-a874-2a7bcfcab2a9\" style=\"height: 525px; width: 100%;\" class=\"plotly-graph-div\"></div><script type=\"text/javascript\">require([\"plotly\"], function(Plotly) { window.PLOTLYENV=window.PLOTLYENV || {};window.PLOTLYENV.BASE_URL=\"https://plot.ly\";Plotly.newPlot(\"d034435b-8659-4af2-a874-2a7bcfcab2a9\", [{\"name\": \"\\u4eba\\u5458\", \"x\": [9, 10], \"y\": [18, 14], \"type\": \"bar\", \"uid\": \"d2202a73-d1b9-11e8-8ddb-a41f72875c19\"}], {\"title\": \"\\u4eba\\u5458\\u6708\\u8d8b\\u52bf\\u56fe\", \"xaxis\": {\"mirror\": \"all\", \"nticks\": 20, \"showgrid\": true, \"showline\": true, \"title\": \"\\u6708\", \"type\": \"category\", \"zeroline\": true}, \"yaxis\": {\"mirror\": \"all\", \"nticks\": 20, \"showgrid\": true, \"showline\": true, \"title\": \"\\u4eba\\u5458\", \"zeroline\": true}}, {\"showLink\": true, \"linkText\": \"Export to plot.ly\"})});</script>"
      ],
      "text/vnd.plotly.v1+html": [
       "<div id=\"d034435b-8659-4af2-a874-2a7bcfcab2a9\" style=\"height: 525px; width: 100%;\" class=\"plotly-graph-div\"></div><script type=\"text/javascript\">require([\"plotly\"], function(Plotly) { window.PLOTLYENV=window.PLOTLYENV || {};window.PLOTLYENV.BASE_URL=\"https://plot.ly\";Plotly.newPlot(\"d034435b-8659-4af2-a874-2a7bcfcab2a9\", [{\"name\": \"\\u4eba\\u5458\", \"x\": [9, 10], \"y\": [18, 14], \"type\": \"bar\", \"uid\": \"d2202a73-d1b9-11e8-8ddb-a41f72875c19\"}], {\"title\": \"\\u4eba\\u5458\\u6708\\u8d8b\\u52bf\\u56fe\", \"xaxis\": {\"mirror\": \"all\", \"nticks\": 20, \"showgrid\": true, \"showline\": true, \"title\": \"\\u6708\", \"type\": \"category\", \"zeroline\": true}, \"yaxis\": {\"mirror\": \"all\", \"nticks\": 20, \"showgrid\": true, \"showline\": true, \"title\": \"\\u4eba\\u5458\", \"zeroline\": true}}, {\"showLink\": true, \"linkText\": \"Export to plot.ly\"})});</script>"
      ]
     },
     "metadata": {},
     "output_type": "display_data"
    }
   ],
   "source": [
    "ss = myModule.format(all_df1 ,\"month\" ,['人员'] )\n",
    "ss.get_average_by('日期（格式“月-周次”）')\n",
    "tt = myModule.myPlot(ss.groupby(\"count\") )# ,\"日期（格式“月-周次”）\" ,['人员'])\n",
    "tt.plot('bar',tag='月')"
   ]
  },
  {
   "cell_type": "markdown",
   "metadata": {},
   "source": [
    "## 各组人员情况"
   ]
  },
  {
   "cell_type": "code",
   "execution_count": 137,
   "metadata": {
    "collapsed": false
   },
   "outputs": [
    {
     "data": {
      "application/vnd.plotly.v1+json": {
       "data": [
        {
         "name": "人员(分析一组)",
         "type": "bar",
         "uid": "d2202a74-d1b9-11e8-8ddb-a41f72875c19",
         "x": [
          "9-1",
          "9-2",
          "9-3",
          "9-4",
          "10-1"
         ],
         "y": [
          4,
          4,
          4,
          4,
          5
         ]
        },
        {
         "name": "人员(个性化组)",
         "type": "bar",
         "uid": "d2202a75-d1b9-11e8-8ddb-a41f72875c19",
         "x": [
          "9-1",
          "9-2",
          "9-3",
          "9-4",
          "10-1"
         ],
         "y": [
          4,
          4,
          4,
          4,
          5
         ]
        },
        {
         "name": "人员(分析二组)",
         "type": "bar",
         "uid": "d2202a76-d1b9-11e8-8ddb-a41f72875c19",
         "x": [
          "9-1",
          "9-2",
          "9-3",
          "9-4",
          "10-1"
         ],
         "y": [
          10,
          10,
          10,
          10,
          4
         ]
        }
       ],
       "layout": {
        "barmode": "stack",
        "title": "人员周趋势图",
        "xaxis": {
         "mirror": "all",
         "nticks": 20,
         "showgrid": true,
         "showline": true,
         "title": "周",
         "type": "category",
         "zeroline": true
        },
        "yaxis": {
         "mirror": "all",
         "nticks": 20,
         "showgrid": true,
         "showline": true,
         "title": "人员",
         "zeroline": true
        }
       }
      },
      "text/html": [
       "<div id=\"f584c674-3a37-4f10-9b3c-725f9bc6fc15\" style=\"height: 525px; width: 100%;\" class=\"plotly-graph-div\"></div><script type=\"text/javascript\">require([\"plotly\"], function(Plotly) { window.PLOTLYENV=window.PLOTLYENV || {};window.PLOTLYENV.BASE_URL=\"https://plot.ly\";Plotly.newPlot(\"f584c674-3a37-4f10-9b3c-725f9bc6fc15\", [{\"name\": \"\\u4eba\\u5458(\\u5206\\u6790\\u4e00\\u7ec4)\", \"x\": [\"9-1\", \"9-2\", \"9-3\", \"9-4\", \"10-1\"], \"y\": [4, 4, 4, 4, 5], \"type\": \"bar\", \"uid\": \"d2202a74-d1b9-11e8-8ddb-a41f72875c19\"}, {\"name\": \"\\u4eba\\u5458(\\u4e2a\\u6027\\u5316\\u7ec4)\", \"x\": [\"9-1\", \"9-2\", \"9-3\", \"9-4\", \"10-1\"], \"y\": [4, 4, 4, 4, 5], \"type\": \"bar\", \"uid\": \"d2202a75-d1b9-11e8-8ddb-a41f72875c19\"}, {\"name\": \"\\u4eba\\u5458(\\u5206\\u6790\\u4e8c\\u7ec4)\", \"x\": [\"9-1\", \"9-2\", \"9-3\", \"9-4\", \"10-1\"], \"y\": [10, 10, 10, 10, 4], \"type\": \"bar\", \"uid\": \"d2202a76-d1b9-11e8-8ddb-a41f72875c19\"}], {\"barmode\": \"stack\", \"title\": \"\\u4eba\\u5458\\u5468\\u8d8b\\u52bf\\u56fe\", \"xaxis\": {\"mirror\": \"all\", \"nticks\": 20, \"showgrid\": true, \"showline\": true, \"title\": \"\\u5468\", \"type\": \"category\", \"zeroline\": true}, \"yaxis\": {\"mirror\": \"all\", \"nticks\": 20, \"showgrid\": true, \"showline\": true, \"title\": \"\\u4eba\\u5458\", \"zeroline\": true}}, {\"showLink\": true, \"linkText\": \"Export to plot.ly\"})});</script>"
      ],
      "text/vnd.plotly.v1+html": [
       "<div id=\"f584c674-3a37-4f10-9b3c-725f9bc6fc15\" style=\"height: 525px; width: 100%;\" class=\"plotly-graph-div\"></div><script type=\"text/javascript\">require([\"plotly\"], function(Plotly) { window.PLOTLYENV=window.PLOTLYENV || {};window.PLOTLYENV.BASE_URL=\"https://plot.ly\";Plotly.newPlot(\"f584c674-3a37-4f10-9b3c-725f9bc6fc15\", [{\"name\": \"\\u4eba\\u5458(\\u5206\\u6790\\u4e00\\u7ec4)\", \"x\": [\"9-1\", \"9-2\", \"9-3\", \"9-4\", \"10-1\"], \"y\": [4, 4, 4, 4, 5], \"type\": \"bar\", \"uid\": \"d2202a74-d1b9-11e8-8ddb-a41f72875c19\"}, {\"name\": \"\\u4eba\\u5458(\\u4e2a\\u6027\\u5316\\u7ec4)\", \"x\": [\"9-1\", \"9-2\", \"9-3\", \"9-4\", \"10-1\"], \"y\": [4, 4, 4, 4, 5], \"type\": \"bar\", \"uid\": \"d2202a75-d1b9-11e8-8ddb-a41f72875c19\"}, {\"name\": \"\\u4eba\\u5458(\\u5206\\u6790\\u4e8c\\u7ec4)\", \"x\": [\"9-1\", \"9-2\", \"9-3\", \"9-4\", \"10-1\"], \"y\": [10, 10, 10, 10, 4], \"type\": \"bar\", \"uid\": \"d2202a76-d1b9-11e8-8ddb-a41f72875c19\"}], {\"barmode\": \"stack\", \"title\": \"\\u4eba\\u5458\\u5468\\u8d8b\\u52bf\\u56fe\", \"xaxis\": {\"mirror\": \"all\", \"nticks\": 20, \"showgrid\": true, \"showline\": true, \"title\": \"\\u5468\", \"type\": \"category\", \"zeroline\": true}, \"yaxis\": {\"mirror\": \"all\", \"nticks\": 20, \"showgrid\": true, \"showline\": true, \"title\": \"\\u4eba\\u5458\", \"zeroline\": true}}, {\"showLink\": true, \"linkText\": \"Export to plot.ly\"})});</script>"
      ]
     },
     "metadata": {},
     "output_type": "display_data"
    }
   ],
   "source": [
    "ss = myModule.format(all_df1 ,\"日期（格式“月-周次”）\" ,['人员'])\n",
    "ss.add_group('组别')\n",
    "myModule.myPlot(myModule.sort_by_index(ss.groupby('count'))).plot('stack_bar')"
   ]
  },
  {
   "cell_type": "markdown",
   "metadata": {},
   "source": [
    "# 产能情况"
   ]
  },
  {
   "cell_type": "markdown",
   "metadata": {},
   "source": [
    "## 总完成项目数情况"
   ]
  },
  {
   "cell_type": "markdown",
   "metadata": {},
   "source": [
    "### 分析组完成项目数"
   ]
  },
  {
   "cell_type": "code",
   "execution_count": 138,
   "metadata": {
    "collapsed": false
   },
   "outputs": [
    {
     "data": {
      "application/vnd.plotly.v1+json": {
       "data": [
        {
         "name": "完成个性化数",
         "type": "bar",
         "uid": "d2202a77-d1b9-11e8-8ddb-a41f72875c19",
         "x": [
          "9-1",
          "9-2",
          "9-3",
          "9-4",
          "10-1"
         ],
         "y": [
          31,
          39,
          41,
          28,
          24
         ]
        },
        {
         "name": "完成商业项目数",
         "type": "bar",
         "uid": "d2202a78-d1b9-11e8-8ddb-a41f72875c19",
         "x": [
          "9-1",
          "9-2",
          "9-3",
          "9-4",
          "10-1"
         ],
         "y": [
          26,
          40,
          23,
          28,
          27
         ]
        }
       ],
       "layout": {
        "barmode": "stack",
        "title": "完成个性化数&完成商业项目数周趋势图",
        "xaxis": {
         "mirror": "all",
         "nticks": 20,
         "showgrid": true,
         "showline": true,
         "title": "周",
         "type": "category",
         "zeroline": true
        },
        "yaxis": {
         "mirror": "all",
         "nticks": 20,
         "showgrid": true,
         "showline": true,
         "title": "完成个性化数&完成商业项目数",
         "zeroline": true
        }
       }
      },
      "text/html": [
       "<div id=\"33d1b51c-5355-4583-ba2f-281e2a016f3b\" style=\"height: 525px; width: 100%;\" class=\"plotly-graph-div\"></div><script type=\"text/javascript\">require([\"plotly\"], function(Plotly) { window.PLOTLYENV=window.PLOTLYENV || {};window.PLOTLYENV.BASE_URL=\"https://plot.ly\";Plotly.newPlot(\"33d1b51c-5355-4583-ba2f-281e2a016f3b\", [{\"name\": \"\\u5b8c\\u6210\\u4e2a\\u6027\\u5316\\u6570\", \"x\": [\"9-1\", \"9-2\", \"9-3\", \"9-4\", \"10-1\"], \"y\": [31, 39, 41, 28, 24], \"type\": \"bar\", \"uid\": \"d2202a77-d1b9-11e8-8ddb-a41f72875c19\"}, {\"name\": \"\\u5b8c\\u6210\\u5546\\u4e1a\\u9879\\u76ee\\u6570\", \"x\": [\"9-1\", \"9-2\", \"9-3\", \"9-4\", \"10-1\"], \"y\": [26, 40, 23, 28, 27], \"type\": \"bar\", \"uid\": \"d2202a78-d1b9-11e8-8ddb-a41f72875c19\"}], {\"barmode\": \"stack\", \"title\": \"\\u5b8c\\u6210\\u4e2a\\u6027\\u5316\\u6570&\\u5b8c\\u6210\\u5546\\u4e1a\\u9879\\u76ee\\u6570\\u5468\\u8d8b\\u52bf\\u56fe\", \"xaxis\": {\"mirror\": \"all\", \"nticks\": 20, \"showgrid\": true, \"showline\": true, \"title\": \"\\u5468\", \"type\": \"category\", \"zeroline\": true}, \"yaxis\": {\"mirror\": \"all\", \"nticks\": 20, \"showgrid\": true, \"showline\": true, \"title\": \"\\u5b8c\\u6210\\u4e2a\\u6027\\u5316\\u6570&\\u5b8c\\u6210\\u5546\\u4e1a\\u9879\\u76ee\\u6570\", \"zeroline\": true}}, {\"showLink\": true, \"linkText\": \"Export to plot.ly\"})});</script>"
      ],
      "text/vnd.plotly.v1+html": [
       "<div id=\"33d1b51c-5355-4583-ba2f-281e2a016f3b\" style=\"height: 525px; width: 100%;\" class=\"plotly-graph-div\"></div><script type=\"text/javascript\">require([\"plotly\"], function(Plotly) { window.PLOTLYENV=window.PLOTLYENV || {};window.PLOTLYENV.BASE_URL=\"https://plot.ly\";Plotly.newPlot(\"33d1b51c-5355-4583-ba2f-281e2a016f3b\", [{\"name\": \"\\u5b8c\\u6210\\u4e2a\\u6027\\u5316\\u6570\", \"x\": [\"9-1\", \"9-2\", \"9-3\", \"9-4\", \"10-1\"], \"y\": [31, 39, 41, 28, 24], \"type\": \"bar\", \"uid\": \"d2202a77-d1b9-11e8-8ddb-a41f72875c19\"}, {\"name\": \"\\u5b8c\\u6210\\u5546\\u4e1a\\u9879\\u76ee\\u6570\", \"x\": [\"9-1\", \"9-2\", \"9-3\", \"9-4\", \"10-1\"], \"y\": [26, 40, 23, 28, 27], \"type\": \"bar\", \"uid\": \"d2202a78-d1b9-11e8-8ddb-a41f72875c19\"}], {\"barmode\": \"stack\", \"title\": \"\\u5b8c\\u6210\\u4e2a\\u6027\\u5316\\u6570&\\u5b8c\\u6210\\u5546\\u4e1a\\u9879\\u76ee\\u6570\\u5468\\u8d8b\\u52bf\\u56fe\", \"xaxis\": {\"mirror\": \"all\", \"nticks\": 20, \"showgrid\": true, \"showline\": true, \"title\": \"\\u5468\", \"type\": \"category\", \"zeroline\": true}, \"yaxis\": {\"mirror\": \"all\", \"nticks\": 20, \"showgrid\": true, \"showline\": true, \"title\": \"\\u5b8c\\u6210\\u4e2a\\u6027\\u5316\\u6570&\\u5b8c\\u6210\\u5546\\u4e1a\\u9879\\u76ee\\u6570\", \"zeroline\": true}}, {\"showLink\": true, \"linkText\": \"Export to plot.ly\"})});</script>"
      ]
     },
     "metadata": {},
     "output_type": "display_data"
    },
    {
     "data": {
      "application/vnd.plotly.v1+json": {
       "data": [
        {
         "name": "完成个性化数",
         "type": "bar",
         "uid": "d2202a79-d1b9-11e8-8ddb-a41f72875c19",
         "x": [
          9,
          10
         ],
         "y": [
          139,
          24
         ]
        },
        {
         "name": "完成商业项目数",
         "type": "bar",
         "uid": "d2202a7a-d1b9-11e8-8ddb-a41f72875c19",
         "x": [
          9,
          10
         ],
         "y": [
          117,
          27
         ]
        }
       ],
       "layout": {
        "barmode": "stack",
        "title": "完成个性化数&完成商业项目数月趋势图",
        "xaxis": {
         "mirror": "all",
         "nticks": 20,
         "showgrid": true,
         "showline": true,
         "title": "月",
         "type": "category",
         "zeroline": true
        },
        "yaxis": {
         "mirror": "all",
         "nticks": 20,
         "showgrid": true,
         "showline": true,
         "title": "完成个性化数&完成商业项目数",
         "zeroline": true
        }
       }
      },
      "text/html": [
       "<div id=\"96393227-3abb-4156-ba20-0306ca2285f5\" style=\"height: 525px; width: 100%;\" class=\"plotly-graph-div\"></div><script type=\"text/javascript\">require([\"plotly\"], function(Plotly) { window.PLOTLYENV=window.PLOTLYENV || {};window.PLOTLYENV.BASE_URL=\"https://plot.ly\";Plotly.newPlot(\"96393227-3abb-4156-ba20-0306ca2285f5\", [{\"name\": \"\\u5b8c\\u6210\\u4e2a\\u6027\\u5316\\u6570\", \"x\": [9, 10], \"y\": [139, 24], \"type\": \"bar\", \"uid\": \"d2202a79-d1b9-11e8-8ddb-a41f72875c19\"}, {\"name\": \"\\u5b8c\\u6210\\u5546\\u4e1a\\u9879\\u76ee\\u6570\", \"x\": [9, 10], \"y\": [117, 27], \"type\": \"bar\", \"uid\": \"d2202a7a-d1b9-11e8-8ddb-a41f72875c19\"}], {\"barmode\": \"stack\", \"title\": \"\\u5b8c\\u6210\\u4e2a\\u6027\\u5316\\u6570&\\u5b8c\\u6210\\u5546\\u4e1a\\u9879\\u76ee\\u6570\\u6708\\u8d8b\\u52bf\\u56fe\", \"xaxis\": {\"mirror\": \"all\", \"nticks\": 20, \"showgrid\": true, \"showline\": true, \"title\": \"\\u6708\", \"type\": \"category\", \"zeroline\": true}, \"yaxis\": {\"mirror\": \"all\", \"nticks\": 20, \"showgrid\": true, \"showline\": true, \"title\": \"\\u5b8c\\u6210\\u4e2a\\u6027\\u5316\\u6570&\\u5b8c\\u6210\\u5546\\u4e1a\\u9879\\u76ee\\u6570\", \"zeroline\": true}}, {\"showLink\": true, \"linkText\": \"Export to plot.ly\"})});</script>"
      ],
      "text/vnd.plotly.v1+html": [
       "<div id=\"96393227-3abb-4156-ba20-0306ca2285f5\" style=\"height: 525px; width: 100%;\" class=\"plotly-graph-div\"></div><script type=\"text/javascript\">require([\"plotly\"], function(Plotly) { window.PLOTLYENV=window.PLOTLYENV || {};window.PLOTLYENV.BASE_URL=\"https://plot.ly\";Plotly.newPlot(\"96393227-3abb-4156-ba20-0306ca2285f5\", [{\"name\": \"\\u5b8c\\u6210\\u4e2a\\u6027\\u5316\\u6570\", \"x\": [9, 10], \"y\": [139, 24], \"type\": \"bar\", \"uid\": \"d2202a79-d1b9-11e8-8ddb-a41f72875c19\"}, {\"name\": \"\\u5b8c\\u6210\\u5546\\u4e1a\\u9879\\u76ee\\u6570\", \"x\": [9, 10], \"y\": [117, 27], \"type\": \"bar\", \"uid\": \"d2202a7a-d1b9-11e8-8ddb-a41f72875c19\"}], {\"barmode\": \"stack\", \"title\": \"\\u5b8c\\u6210\\u4e2a\\u6027\\u5316\\u6570&\\u5b8c\\u6210\\u5546\\u4e1a\\u9879\\u76ee\\u6570\\u6708\\u8d8b\\u52bf\\u56fe\", \"xaxis\": {\"mirror\": \"all\", \"nticks\": 20, \"showgrid\": true, \"showline\": true, \"title\": \"\\u6708\", \"type\": \"category\", \"zeroline\": true}, \"yaxis\": {\"mirror\": \"all\", \"nticks\": 20, \"showgrid\": true, \"showline\": true, \"title\": \"\\u5b8c\\u6210\\u4e2a\\u6027\\u5316\\u6570&\\u5b8c\\u6210\\u5546\\u4e1a\\u9879\\u76ee\\u6570\", \"zeroline\": true}}, {\"showLink\": true, \"linkText\": \"Export to plot.ly\"})});</script>"
      ]
     },
     "metadata": {},
     "output_type": "display_data"
    }
   ],
   "source": [
    "ss = myModule.format(all_df1 ,\"日期（格式“月-周次”）\" ,['完成商业项目数','完成个性化数'])\n",
    "myModule.myPlot(myModule.sort_by_index(ss.groupby('sum'))).plot('stack_bar')\n",
    "ss = myModule.format(all_df1 ,\"month\" ,['完成商业项目数','完成个性化数'])\n",
    "myModule.myPlot(ss.groupby('sum')).plot('stack_bar',\"月\")"
   ]
  },
  {
   "cell_type": "markdown",
   "metadata": {},
   "source": [
    "### 项目组成情况"
   ]
  },
  {
   "cell_type": "code",
   "execution_count": 139,
   "metadata": {
    "collapsed": false,
    "scrolled": true
   },
   "outputs": [
    {
     "data": {
      "application/vnd.plotly.v1+json": {
       "data": [
        {
         "name": "完成非流水线项目数",
         "type": "bar",
         "uid": "d2202a7b-d1b9-11e8-8ddb-a41f72875c19",
         "x": [
          "9-1",
          "9-2",
          "9-3",
          "9-4",
          "10-1"
         ],
         "y": [
          10,
          14,
          10,
          14,
          9
         ]
        },
        {
         "name": "完成联合分析项目数",
         "type": "bar",
         "uid": "d2202a7c-d1b9-11e8-8ddb-a41f72875c19",
         "x": [
          "9-1",
          "9-2",
          "9-3",
          "9-4",
          "10-1"
         ],
         "y": [
          4,
          3,
          3,
          0,
          2
         ]
        },
        {
         "name": "完成只分析项目数",
         "type": "bar",
         "uid": "d2202a7d-d1b9-11e8-8ddb-a41f72875c19",
         "x": [
          "9-1",
          "9-2",
          "9-3",
          "9-4",
          "10-1"
         ],
         "y": [
          2,
          9,
          6,
          4,
          5
         ]
        },
        {
         "name": "完成流水线项目数",
         "type": "bar",
         "uid": "d2202a7e-d1b9-11e8-8ddb-a41f72875c19",
         "x": [
          "9-1",
          "9-2",
          "9-3",
          "9-4",
          "10-1"
         ],
         "y": [
          10,
          14,
          4,
          10,
          11
         ]
        }
       ],
       "layout": {
        "barmode": "stack",
        "title": "项目组成情况",
        "xaxis": {
         "mirror": "all",
         "nticks": 20,
         "showgrid": true,
         "showline": true,
         "title": "周",
         "type": "category",
         "zeroline": true
        },
        "yaxis": {
         "mirror": "all",
         "nticks": 20,
         "showgrid": true,
         "showline": true,
         "title": "完成非流水线项目数&完成联合分析项目数&完成只分析项目数&完成流水线项目数",
         "zeroline": true
        }
       }
      },
      "text/html": [
       "<div id=\"f6612d0b-01fa-4d7d-9999-1a0c02ce39ec\" style=\"height: 525px; width: 100%;\" class=\"plotly-graph-div\"></div><script type=\"text/javascript\">require([\"plotly\"], function(Plotly) { window.PLOTLYENV=window.PLOTLYENV || {};window.PLOTLYENV.BASE_URL=\"https://plot.ly\";Plotly.newPlot(\"f6612d0b-01fa-4d7d-9999-1a0c02ce39ec\", [{\"name\": \"\\u5b8c\\u6210\\u975e\\u6d41\\u6c34\\u7ebf\\u9879\\u76ee\\u6570\", \"x\": [\"9-1\", \"9-2\", \"9-3\", \"9-4\", \"10-1\"], \"y\": [10, 14, 10, 14, 9], \"type\": \"bar\", \"uid\": \"d2202a7b-d1b9-11e8-8ddb-a41f72875c19\"}, {\"name\": \"\\u5b8c\\u6210\\u8054\\u5408\\u5206\\u6790\\u9879\\u76ee\\u6570\", \"x\": [\"9-1\", \"9-2\", \"9-3\", \"9-4\", \"10-1\"], \"y\": [4, 3, 3, 0, 2], \"type\": \"bar\", \"uid\": \"d2202a7c-d1b9-11e8-8ddb-a41f72875c19\"}, {\"name\": \"\\u5b8c\\u6210\\u53ea\\u5206\\u6790\\u9879\\u76ee\\u6570\", \"x\": [\"9-1\", \"9-2\", \"9-3\", \"9-4\", \"10-1\"], \"y\": [2, 9, 6, 4, 5], \"type\": \"bar\", \"uid\": \"d2202a7d-d1b9-11e8-8ddb-a41f72875c19\"}, {\"name\": \"\\u5b8c\\u6210\\u6d41\\u6c34\\u7ebf\\u9879\\u76ee\\u6570\", \"x\": [\"9-1\", \"9-2\", \"9-3\", \"9-4\", \"10-1\"], \"y\": [10, 14, 4, 10, 11], \"type\": \"bar\", \"uid\": \"d2202a7e-d1b9-11e8-8ddb-a41f72875c19\"}], {\"barmode\": \"stack\", \"title\": \"\\u9879\\u76ee\\u7ec4\\u6210\\u60c5\\u51b5\", \"xaxis\": {\"mirror\": \"all\", \"nticks\": 20, \"showgrid\": true, \"showline\": true, \"title\": \"\\u5468\", \"type\": \"category\", \"zeroline\": true}, \"yaxis\": {\"mirror\": \"all\", \"nticks\": 20, \"showgrid\": true, \"showline\": true, \"title\": \"\\u5b8c\\u6210\\u975e\\u6d41\\u6c34\\u7ebf\\u9879\\u76ee\\u6570&\\u5b8c\\u6210\\u8054\\u5408\\u5206\\u6790\\u9879\\u76ee\\u6570&\\u5b8c\\u6210\\u53ea\\u5206\\u6790\\u9879\\u76ee\\u6570&\\u5b8c\\u6210\\u6d41\\u6c34\\u7ebf\\u9879\\u76ee\\u6570\", \"zeroline\": true}}, {\"showLink\": true, \"linkText\": \"Export to plot.ly\"})});</script>"
      ],
      "text/vnd.plotly.v1+html": [
       "<div id=\"f6612d0b-01fa-4d7d-9999-1a0c02ce39ec\" style=\"height: 525px; width: 100%;\" class=\"plotly-graph-div\"></div><script type=\"text/javascript\">require([\"plotly\"], function(Plotly) { window.PLOTLYENV=window.PLOTLYENV || {};window.PLOTLYENV.BASE_URL=\"https://plot.ly\";Plotly.newPlot(\"f6612d0b-01fa-4d7d-9999-1a0c02ce39ec\", [{\"name\": \"\\u5b8c\\u6210\\u975e\\u6d41\\u6c34\\u7ebf\\u9879\\u76ee\\u6570\", \"x\": [\"9-1\", \"9-2\", \"9-3\", \"9-4\", \"10-1\"], \"y\": [10, 14, 10, 14, 9], \"type\": \"bar\", \"uid\": \"d2202a7b-d1b9-11e8-8ddb-a41f72875c19\"}, {\"name\": \"\\u5b8c\\u6210\\u8054\\u5408\\u5206\\u6790\\u9879\\u76ee\\u6570\", \"x\": [\"9-1\", \"9-2\", \"9-3\", \"9-4\", \"10-1\"], \"y\": [4, 3, 3, 0, 2], \"type\": \"bar\", \"uid\": \"d2202a7c-d1b9-11e8-8ddb-a41f72875c19\"}, {\"name\": \"\\u5b8c\\u6210\\u53ea\\u5206\\u6790\\u9879\\u76ee\\u6570\", \"x\": [\"9-1\", \"9-2\", \"9-3\", \"9-4\", \"10-1\"], \"y\": [2, 9, 6, 4, 5], \"type\": \"bar\", \"uid\": \"d2202a7d-d1b9-11e8-8ddb-a41f72875c19\"}, {\"name\": \"\\u5b8c\\u6210\\u6d41\\u6c34\\u7ebf\\u9879\\u76ee\\u6570\", \"x\": [\"9-1\", \"9-2\", \"9-3\", \"9-4\", \"10-1\"], \"y\": [10, 14, 4, 10, 11], \"type\": \"bar\", \"uid\": \"d2202a7e-d1b9-11e8-8ddb-a41f72875c19\"}], {\"barmode\": \"stack\", \"title\": \"\\u9879\\u76ee\\u7ec4\\u6210\\u60c5\\u51b5\", \"xaxis\": {\"mirror\": \"all\", \"nticks\": 20, \"showgrid\": true, \"showline\": true, \"title\": \"\\u5468\", \"type\": \"category\", \"zeroline\": true}, \"yaxis\": {\"mirror\": \"all\", \"nticks\": 20, \"showgrid\": true, \"showline\": true, \"title\": \"\\u5b8c\\u6210\\u975e\\u6d41\\u6c34\\u7ebf\\u9879\\u76ee\\u6570&\\u5b8c\\u6210\\u8054\\u5408\\u5206\\u6790\\u9879\\u76ee\\u6570&\\u5b8c\\u6210\\u53ea\\u5206\\u6790\\u9879\\u76ee\\u6570&\\u5b8c\\u6210\\u6d41\\u6c34\\u7ebf\\u9879\\u76ee\\u6570\", \"zeroline\": true}}, {\"showLink\": true, \"linkText\": \"Export to plot.ly\"})});</script>"
      ]
     },
     "metadata": {},
     "output_type": "display_data"
    },
    {
     "data": {
      "application/vnd.plotly.v1+json": {
       "data": [
        {
         "name": "完成非流水线项目数",
         "type": "bar",
         "uid": "d2202a7f-d1b9-11e8-8ddb-a41f72875c19",
         "x": [
          9,
          10
         ],
         "y": [
          48,
          9
         ]
        },
        {
         "name": "完成联合分析项目数",
         "type": "bar",
         "uid": "d2202a80-d1b9-11e8-8ddb-a41f72875c19",
         "x": [
          9,
          10
         ],
         "y": [
          10,
          2
         ]
        },
        {
         "name": "完成只分析项目数",
         "type": "bar",
         "uid": "d2202a81-d1b9-11e8-8ddb-a41f72875c19",
         "x": [
          9,
          10
         ],
         "y": [
          21,
          5
         ]
        },
        {
         "name": "完成流水线项目数",
         "type": "bar",
         "uid": "d2202a82-d1b9-11e8-8ddb-a41f72875c19",
         "x": [
          9,
          10
         ],
         "y": [
          38,
          11
         ]
        }
       ],
       "layout": {
        "barmode": "stack",
        "title": "项目组成情况",
        "xaxis": {
         "mirror": "all",
         "nticks": 20,
         "showgrid": true,
         "showline": true,
         "title": "月",
         "type": "category",
         "zeroline": true
        },
        "yaxis": {
         "mirror": "all",
         "nticks": 20,
         "showgrid": true,
         "showline": true,
         "title": "完成非流水线项目数&完成联合分析项目数&完成只分析项目数&完成流水线项目数",
         "zeroline": true
        }
       }
      },
      "text/html": [
       "<div id=\"954606ee-79e0-4f3f-bff3-1bb49f136e15\" style=\"height: 525px; width: 100%;\" class=\"plotly-graph-div\"></div><script type=\"text/javascript\">require([\"plotly\"], function(Plotly) { window.PLOTLYENV=window.PLOTLYENV || {};window.PLOTLYENV.BASE_URL=\"https://plot.ly\";Plotly.newPlot(\"954606ee-79e0-4f3f-bff3-1bb49f136e15\", [{\"name\": \"\\u5b8c\\u6210\\u975e\\u6d41\\u6c34\\u7ebf\\u9879\\u76ee\\u6570\", \"x\": [9, 10], \"y\": [48, 9], \"type\": \"bar\", \"uid\": \"d2202a7f-d1b9-11e8-8ddb-a41f72875c19\"}, {\"name\": \"\\u5b8c\\u6210\\u8054\\u5408\\u5206\\u6790\\u9879\\u76ee\\u6570\", \"x\": [9, 10], \"y\": [10, 2], \"type\": \"bar\", \"uid\": \"d2202a80-d1b9-11e8-8ddb-a41f72875c19\"}, {\"name\": \"\\u5b8c\\u6210\\u53ea\\u5206\\u6790\\u9879\\u76ee\\u6570\", \"x\": [9, 10], \"y\": [21, 5], \"type\": \"bar\", \"uid\": \"d2202a81-d1b9-11e8-8ddb-a41f72875c19\"}, {\"name\": \"\\u5b8c\\u6210\\u6d41\\u6c34\\u7ebf\\u9879\\u76ee\\u6570\", \"x\": [9, 10], \"y\": [38, 11], \"type\": \"bar\", \"uid\": \"d2202a82-d1b9-11e8-8ddb-a41f72875c19\"}], {\"barmode\": \"stack\", \"title\": \"\\u9879\\u76ee\\u7ec4\\u6210\\u60c5\\u51b5\", \"xaxis\": {\"mirror\": \"all\", \"nticks\": 20, \"showgrid\": true, \"showline\": true, \"title\": \"\\u6708\", \"type\": \"category\", \"zeroline\": true}, \"yaxis\": {\"mirror\": \"all\", \"nticks\": 20, \"showgrid\": true, \"showline\": true, \"title\": \"\\u5b8c\\u6210\\u975e\\u6d41\\u6c34\\u7ebf\\u9879\\u76ee\\u6570&\\u5b8c\\u6210\\u8054\\u5408\\u5206\\u6790\\u9879\\u76ee\\u6570&\\u5b8c\\u6210\\u53ea\\u5206\\u6790\\u9879\\u76ee\\u6570&\\u5b8c\\u6210\\u6d41\\u6c34\\u7ebf\\u9879\\u76ee\\u6570\", \"zeroline\": true}}, {\"showLink\": true, \"linkText\": \"Export to plot.ly\"})});</script>"
      ],
      "text/vnd.plotly.v1+html": [
       "<div id=\"954606ee-79e0-4f3f-bff3-1bb49f136e15\" style=\"height: 525px; width: 100%;\" class=\"plotly-graph-div\"></div><script type=\"text/javascript\">require([\"plotly\"], function(Plotly) { window.PLOTLYENV=window.PLOTLYENV || {};window.PLOTLYENV.BASE_URL=\"https://plot.ly\";Plotly.newPlot(\"954606ee-79e0-4f3f-bff3-1bb49f136e15\", [{\"name\": \"\\u5b8c\\u6210\\u975e\\u6d41\\u6c34\\u7ebf\\u9879\\u76ee\\u6570\", \"x\": [9, 10], \"y\": [48, 9], \"type\": \"bar\", \"uid\": \"d2202a7f-d1b9-11e8-8ddb-a41f72875c19\"}, {\"name\": \"\\u5b8c\\u6210\\u8054\\u5408\\u5206\\u6790\\u9879\\u76ee\\u6570\", \"x\": [9, 10], \"y\": [10, 2], \"type\": \"bar\", \"uid\": \"d2202a80-d1b9-11e8-8ddb-a41f72875c19\"}, {\"name\": \"\\u5b8c\\u6210\\u53ea\\u5206\\u6790\\u9879\\u76ee\\u6570\", \"x\": [9, 10], \"y\": [21, 5], \"type\": \"bar\", \"uid\": \"d2202a81-d1b9-11e8-8ddb-a41f72875c19\"}, {\"name\": \"\\u5b8c\\u6210\\u6d41\\u6c34\\u7ebf\\u9879\\u76ee\\u6570\", \"x\": [9, 10], \"y\": [38, 11], \"type\": \"bar\", \"uid\": \"d2202a82-d1b9-11e8-8ddb-a41f72875c19\"}], {\"barmode\": \"stack\", \"title\": \"\\u9879\\u76ee\\u7ec4\\u6210\\u60c5\\u51b5\", \"xaxis\": {\"mirror\": \"all\", \"nticks\": 20, \"showgrid\": true, \"showline\": true, \"title\": \"\\u6708\", \"type\": \"category\", \"zeroline\": true}, \"yaxis\": {\"mirror\": \"all\", \"nticks\": 20, \"showgrid\": true, \"showline\": true, \"title\": \"\\u5b8c\\u6210\\u975e\\u6d41\\u6c34\\u7ebf\\u9879\\u76ee\\u6570&\\u5b8c\\u6210\\u8054\\u5408\\u5206\\u6790\\u9879\\u76ee\\u6570&\\u5b8c\\u6210\\u53ea\\u5206\\u6790\\u9879\\u76ee\\u6570&\\u5b8c\\u6210\\u6d41\\u6c34\\u7ebf\\u9879\\u76ee\\u6570\", \"zeroline\": true}}, {\"showLink\": true, \"linkText\": \"Export to plot.ly\"})});</script>"
      ]
     },
     "metadata": {},
     "output_type": "display_data"
    }
   ],
   "source": [
    "ss = myModule.format(all_df1 ,\"日期（格式“月-周次”）\" ,['完成流水线项目数','完成非流水线项目数','完成只分析项目数','完成联合分析项目数'])\n",
    "myModule.myPlot(myModule.sort_by_index(ss.groupby('sum'))).plot('stack_bar',fig_title='项目组成情况')\n",
    "ss = myModule.format(all_df1 ,\"month\" ,['完成流水线项目数','完成非流水线项目数','完成只分析项目数','完成联合分析项目数'])\n",
    "myModule.myPlot(ss.groupby('sum')).plot('stack_bar',\"月\",fig_title='项目组成情况')"
   ]
  },
  {
   "cell_type": "markdown",
   "metadata": {},
   "source": [
    "### 各组总完成项目趋势图"
   ]
  },
  {
   "cell_type": "code",
   "execution_count": 140,
   "metadata": {
    "collapsed": false
   },
   "outputs": [
    {
     "data": {
      "application/vnd.plotly.v1+json": {
       "data": [
        {
         "line": {
          "dash": "solid"
         },
         "name": "完成项目总数(分析一组)",
         "type": "scatter",
         "uid": "d2202a83-d1b9-11e8-8ddb-a41f72875c19",
         "x": [
          "9-1",
          "9-2",
          "9-3",
          "9-4",
          "10-1"
         ],
         "y": [
          11,
          15,
          9,
          10,
          23
         ]
        },
        {
         "line": {
          "dash": "dot"
         },
         "name": "完成项目总数(个性化组)",
         "type": "scatter",
         "uid": "d2202a84-d1b9-11e8-8ddb-a41f72875c19",
         "x": [
          "9-1",
          "9-2",
          "9-3",
          "9-4",
          "10-1"
         ],
         "y": [
          18,
          14,
          13,
          14,
          9
         ]
        },
        {
         "line": {
          "dash": "dash"
         },
         "name": "完成项目总数(分析二组)",
         "type": "scatter",
         "uid": "d2202a85-d1b9-11e8-8ddb-a41f72875c19",
         "x": [
          "9-1",
          "9-2",
          "9-3",
          "9-4",
          "10-1"
         ],
         "y": [
          28,
          50,
          42,
          32,
          19
         ]
        }
       ],
       "layout": {
        "title": "完成项目总数周趋势图",
        "xaxis": {
         "mirror": "all",
         "nticks": 20,
         "showgrid": true,
         "showline": true,
         "title": "周",
         "type": "category",
         "zeroline": true
        },
        "yaxis": {
         "mirror": "all",
         "nticks": 20,
         "showgrid": true,
         "showline": true,
         "title": "完成项目总数",
         "zeroline": true
        }
       }
      },
      "text/html": [
       "<div id=\"0a5bb582-7965-4a65-8933-8ea8148aec7c\" style=\"height: 525px; width: 100%;\" class=\"plotly-graph-div\"></div><script type=\"text/javascript\">require([\"plotly\"], function(Plotly) { window.PLOTLYENV=window.PLOTLYENV || {};window.PLOTLYENV.BASE_URL=\"https://plot.ly\";Plotly.newPlot(\"0a5bb582-7965-4a65-8933-8ea8148aec7c\", [{\"line\": {\"dash\": \"solid\"}, \"name\": \"\\u5b8c\\u6210\\u9879\\u76ee\\u603b\\u6570(\\u5206\\u6790\\u4e00\\u7ec4)\", \"x\": [\"9-1\", \"9-2\", \"9-3\", \"9-4\", \"10-1\"], \"y\": [11, 15, 9, 10, 23], \"type\": \"scatter\", \"uid\": \"d2202a83-d1b9-11e8-8ddb-a41f72875c19\"}, {\"line\": {\"dash\": \"dot\"}, \"name\": \"\\u5b8c\\u6210\\u9879\\u76ee\\u603b\\u6570(\\u4e2a\\u6027\\u5316\\u7ec4)\", \"x\": [\"9-1\", \"9-2\", \"9-3\", \"9-4\", \"10-1\"], \"y\": [18, 14, 13, 14, 9], \"type\": \"scatter\", \"uid\": \"d2202a84-d1b9-11e8-8ddb-a41f72875c19\"}, {\"line\": {\"dash\": \"dash\"}, \"name\": \"\\u5b8c\\u6210\\u9879\\u76ee\\u603b\\u6570(\\u5206\\u6790\\u4e8c\\u7ec4)\", \"x\": [\"9-1\", \"9-2\", \"9-3\", \"9-4\", \"10-1\"], \"y\": [28, 50, 42, 32, 19], \"type\": \"scatter\", \"uid\": \"d2202a85-d1b9-11e8-8ddb-a41f72875c19\"}], {\"title\": \"\\u5b8c\\u6210\\u9879\\u76ee\\u603b\\u6570\\u5468\\u8d8b\\u52bf\\u56fe\", \"xaxis\": {\"mirror\": \"all\", \"nticks\": 20, \"showgrid\": true, \"showline\": true, \"title\": \"\\u5468\", \"type\": \"category\", \"zeroline\": true}, \"yaxis\": {\"mirror\": \"all\", \"nticks\": 20, \"showgrid\": true, \"showline\": true, \"title\": \"\\u5b8c\\u6210\\u9879\\u76ee\\u603b\\u6570\", \"zeroline\": true}}, {\"showLink\": true, \"linkText\": \"Export to plot.ly\"})});</script>"
      ],
      "text/vnd.plotly.v1+html": [
       "<div id=\"0a5bb582-7965-4a65-8933-8ea8148aec7c\" style=\"height: 525px; width: 100%;\" class=\"plotly-graph-div\"></div><script type=\"text/javascript\">require([\"plotly\"], function(Plotly) { window.PLOTLYENV=window.PLOTLYENV || {};window.PLOTLYENV.BASE_URL=\"https://plot.ly\";Plotly.newPlot(\"0a5bb582-7965-4a65-8933-8ea8148aec7c\", [{\"line\": {\"dash\": \"solid\"}, \"name\": \"\\u5b8c\\u6210\\u9879\\u76ee\\u603b\\u6570(\\u5206\\u6790\\u4e00\\u7ec4)\", \"x\": [\"9-1\", \"9-2\", \"9-3\", \"9-4\", \"10-1\"], \"y\": [11, 15, 9, 10, 23], \"type\": \"scatter\", \"uid\": \"d2202a83-d1b9-11e8-8ddb-a41f72875c19\"}, {\"line\": {\"dash\": \"dot\"}, \"name\": \"\\u5b8c\\u6210\\u9879\\u76ee\\u603b\\u6570(\\u4e2a\\u6027\\u5316\\u7ec4)\", \"x\": [\"9-1\", \"9-2\", \"9-3\", \"9-4\", \"10-1\"], \"y\": [18, 14, 13, 14, 9], \"type\": \"scatter\", \"uid\": \"d2202a84-d1b9-11e8-8ddb-a41f72875c19\"}, {\"line\": {\"dash\": \"dash\"}, \"name\": \"\\u5b8c\\u6210\\u9879\\u76ee\\u603b\\u6570(\\u5206\\u6790\\u4e8c\\u7ec4)\", \"x\": [\"9-1\", \"9-2\", \"9-3\", \"9-4\", \"10-1\"], \"y\": [28, 50, 42, 32, 19], \"type\": \"scatter\", \"uid\": \"d2202a85-d1b9-11e8-8ddb-a41f72875c19\"}], {\"title\": \"\\u5b8c\\u6210\\u9879\\u76ee\\u603b\\u6570\\u5468\\u8d8b\\u52bf\\u56fe\", \"xaxis\": {\"mirror\": \"all\", \"nticks\": 20, \"showgrid\": true, \"showline\": true, \"title\": \"\\u5468\", \"type\": \"category\", \"zeroline\": true}, \"yaxis\": {\"mirror\": \"all\", \"nticks\": 20, \"showgrid\": true, \"showline\": true, \"title\": \"\\u5b8c\\u6210\\u9879\\u76ee\\u603b\\u6570\", \"zeroline\": true}}, {\"showLink\": true, \"linkText\": \"Export to plot.ly\"})});</script>"
      ]
     },
     "metadata": {},
     "output_type": "display_data"
    }
   ],
   "source": [
    "ss = myModule.format(all_df1 ,\"日期（格式“月-周次”）\" ,['完成项目总数'])\n",
    "ss.add_group('组别')\n",
    "#ss.get_average_by('人员')\n",
    "tt = myModule.sort_by_index(ss.groupby('sum'))\n",
    "tt\n",
    "myModule.myPlot(myModule.sort_by_index(ss.groupby('sum'))).plot('line')\n",
    "#ss = myModule.format(all_df1 ,\"month\" ,['完成项目总数'])\n",
    "#ss.add_group('组别')\n",
    "#ss.get_average_by('人员')\n",
    "#myModule.myPlot(ss.groupby('sum')).plot('line',\"月\")"
   ]
  },
  {
   "cell_type": "markdown",
   "metadata": {},
   "source": [
    "### 各组完成组成比例展示"
   ]
  },
  {
   "cell_type": "code",
   "execution_count": 141,
   "metadata": {
    "collapsed": false
   },
   "outputs": [
    {
     "data": {
      "application/vnd.plotly.v1+json": {
       "data": [
        {
         "line": {
          "dash": "solid"
         },
         "name": "完成个性化数(分析一组)",
         "type": "scatter",
         "uid": "d2202a86-d1b9-11e8-8ddb-a41f72875c19",
         "x": [
          "9-1",
          "9-2",
          "9-3",
          "9-4",
          "10-1"
         ],
         "y": [
          5,
          4,
          3,
          4,
          8
         ]
        },
        {
         "line": {
          "dash": "dot"
         },
         "name": "完成个性化数(个性化组)",
         "type": "scatter",
         "uid": "d2202a87-d1b9-11e8-8ddb-a41f72875c19",
         "x": [
          "9-1",
          "9-2",
          "9-3",
          "9-4",
          "10-1"
         ],
         "y": [
          18,
          14,
          13,
          14,
          8
         ]
        },
        {
         "line": {
          "dash": "dash"
         },
         "name": "完成个性化数(分析二组)",
         "type": "scatter",
         "uid": "d2202a88-d1b9-11e8-8ddb-a41f72875c19",
         "x": [
          "9-1",
          "9-2",
          "9-3",
          "9-4",
          "10-1"
         ],
         "y": [
          8,
          21,
          25,
          10,
          8
         ]
        },
        {
         "line": {
          "dash": "solid"
         },
         "name": "完成商业项目数(分析一组)",
         "type": "scatter",
         "uid": "d2202a89-d1b9-11e8-8ddb-a41f72875c19",
         "x": [
          "9-1",
          "9-2",
          "9-3",
          "9-4",
          "10-1"
         ],
         "y": [
          6,
          11,
          6,
          6,
          15
         ]
        },
        {
         "line": {
          "dash": "dot"
         },
         "name": "完成商业项目数(个性化组)",
         "type": "scatter",
         "uid": "d2202a8a-d1b9-11e8-8ddb-a41f72875c19",
         "x": [
          "9-1",
          "9-2",
          "9-3",
          "9-4",
          "10-1"
         ],
         "y": [
          0,
          0,
          0,
          0,
          1
         ]
        },
        {
         "line": {
          "dash": "dash"
         },
         "name": "完成商业项目数(分析二组)",
         "type": "scatter",
         "uid": "d2202a8b-d1b9-11e8-8ddb-a41f72875c19",
         "x": [
          "9-1",
          "9-2",
          "9-3",
          "9-4",
          "10-1"
         ],
         "y": [
          20,
          29,
          17,
          22,
          11
         ]
        }
       ],
       "layout": {
        "title": "完成个性化数&完成商业项目数周趋势图",
        "xaxis": {
         "mirror": "all",
         "nticks": 20,
         "showgrid": true,
         "showline": true,
         "title": "周",
         "type": "category",
         "zeroline": true
        },
        "yaxis": {
         "mirror": "all",
         "nticks": 20,
         "showgrid": true,
         "showline": true,
         "title": "完成个性化数&完成商业项目数",
         "zeroline": true
        }
       }
      },
      "text/html": [
       "<div id=\"05351fdf-255e-41f8-a34e-438d66d1fcda\" style=\"height: 525px; width: 100%;\" class=\"plotly-graph-div\"></div><script type=\"text/javascript\">require([\"plotly\"], function(Plotly) { window.PLOTLYENV=window.PLOTLYENV || {};window.PLOTLYENV.BASE_URL=\"https://plot.ly\";Plotly.newPlot(\"05351fdf-255e-41f8-a34e-438d66d1fcda\", [{\"line\": {\"dash\": \"solid\"}, \"name\": \"\\u5b8c\\u6210\\u4e2a\\u6027\\u5316\\u6570(\\u5206\\u6790\\u4e00\\u7ec4)\", \"x\": [\"9-1\", \"9-2\", \"9-3\", \"9-4\", \"10-1\"], \"y\": [5, 4, 3, 4, 8], \"type\": \"scatter\", \"uid\": \"d2202a86-d1b9-11e8-8ddb-a41f72875c19\"}, {\"line\": {\"dash\": \"dot\"}, \"name\": \"\\u5b8c\\u6210\\u4e2a\\u6027\\u5316\\u6570(\\u4e2a\\u6027\\u5316\\u7ec4)\", \"x\": [\"9-1\", \"9-2\", \"9-3\", \"9-4\", \"10-1\"], \"y\": [18, 14, 13, 14, 8], \"type\": \"scatter\", \"uid\": \"d2202a87-d1b9-11e8-8ddb-a41f72875c19\"}, {\"line\": {\"dash\": \"dash\"}, \"name\": \"\\u5b8c\\u6210\\u4e2a\\u6027\\u5316\\u6570(\\u5206\\u6790\\u4e8c\\u7ec4)\", \"x\": [\"9-1\", \"9-2\", \"9-3\", \"9-4\", \"10-1\"], \"y\": [8, 21, 25, 10, 8], \"type\": \"scatter\", \"uid\": \"d2202a88-d1b9-11e8-8ddb-a41f72875c19\"}, {\"line\": {\"dash\": \"solid\"}, \"name\": \"\\u5b8c\\u6210\\u5546\\u4e1a\\u9879\\u76ee\\u6570(\\u5206\\u6790\\u4e00\\u7ec4)\", \"x\": [\"9-1\", \"9-2\", \"9-3\", \"9-4\", \"10-1\"], \"y\": [6, 11, 6, 6, 15], \"type\": \"scatter\", \"uid\": \"d2202a89-d1b9-11e8-8ddb-a41f72875c19\"}, {\"line\": {\"dash\": \"dot\"}, \"name\": \"\\u5b8c\\u6210\\u5546\\u4e1a\\u9879\\u76ee\\u6570(\\u4e2a\\u6027\\u5316\\u7ec4)\", \"x\": [\"9-1\", \"9-2\", \"9-3\", \"9-4\", \"10-1\"], \"y\": [0, 0, 0, 0, 1], \"type\": \"scatter\", \"uid\": \"d2202a8a-d1b9-11e8-8ddb-a41f72875c19\"}, {\"line\": {\"dash\": \"dash\"}, \"name\": \"\\u5b8c\\u6210\\u5546\\u4e1a\\u9879\\u76ee\\u6570(\\u5206\\u6790\\u4e8c\\u7ec4)\", \"x\": [\"9-1\", \"9-2\", \"9-3\", \"9-4\", \"10-1\"], \"y\": [20, 29, 17, 22, 11], \"type\": \"scatter\", \"uid\": \"d2202a8b-d1b9-11e8-8ddb-a41f72875c19\"}], {\"title\": \"\\u5b8c\\u6210\\u4e2a\\u6027\\u5316\\u6570&\\u5b8c\\u6210\\u5546\\u4e1a\\u9879\\u76ee\\u6570\\u5468\\u8d8b\\u52bf\\u56fe\", \"xaxis\": {\"mirror\": \"all\", \"nticks\": 20, \"showgrid\": true, \"showline\": true, \"title\": \"\\u5468\", \"type\": \"category\", \"zeroline\": true}, \"yaxis\": {\"mirror\": \"all\", \"nticks\": 20, \"showgrid\": true, \"showline\": true, \"title\": \"\\u5b8c\\u6210\\u4e2a\\u6027\\u5316\\u6570&\\u5b8c\\u6210\\u5546\\u4e1a\\u9879\\u76ee\\u6570\", \"zeroline\": true}}, {\"showLink\": true, \"linkText\": \"Export to plot.ly\"})});</script>"
      ],
      "text/vnd.plotly.v1+html": [
       "<div id=\"05351fdf-255e-41f8-a34e-438d66d1fcda\" style=\"height: 525px; width: 100%;\" class=\"plotly-graph-div\"></div><script type=\"text/javascript\">require([\"plotly\"], function(Plotly) { window.PLOTLYENV=window.PLOTLYENV || {};window.PLOTLYENV.BASE_URL=\"https://plot.ly\";Plotly.newPlot(\"05351fdf-255e-41f8-a34e-438d66d1fcda\", [{\"line\": {\"dash\": \"solid\"}, \"name\": \"\\u5b8c\\u6210\\u4e2a\\u6027\\u5316\\u6570(\\u5206\\u6790\\u4e00\\u7ec4)\", \"x\": [\"9-1\", \"9-2\", \"9-3\", \"9-4\", \"10-1\"], \"y\": [5, 4, 3, 4, 8], \"type\": \"scatter\", \"uid\": \"d2202a86-d1b9-11e8-8ddb-a41f72875c19\"}, {\"line\": {\"dash\": \"dot\"}, \"name\": \"\\u5b8c\\u6210\\u4e2a\\u6027\\u5316\\u6570(\\u4e2a\\u6027\\u5316\\u7ec4)\", \"x\": [\"9-1\", \"9-2\", \"9-3\", \"9-4\", \"10-1\"], \"y\": [18, 14, 13, 14, 8], \"type\": \"scatter\", \"uid\": \"d2202a87-d1b9-11e8-8ddb-a41f72875c19\"}, {\"line\": {\"dash\": \"dash\"}, \"name\": \"\\u5b8c\\u6210\\u4e2a\\u6027\\u5316\\u6570(\\u5206\\u6790\\u4e8c\\u7ec4)\", \"x\": [\"9-1\", \"9-2\", \"9-3\", \"9-4\", \"10-1\"], \"y\": [8, 21, 25, 10, 8], \"type\": \"scatter\", \"uid\": \"d2202a88-d1b9-11e8-8ddb-a41f72875c19\"}, {\"line\": {\"dash\": \"solid\"}, \"name\": \"\\u5b8c\\u6210\\u5546\\u4e1a\\u9879\\u76ee\\u6570(\\u5206\\u6790\\u4e00\\u7ec4)\", \"x\": [\"9-1\", \"9-2\", \"9-3\", \"9-4\", \"10-1\"], \"y\": [6, 11, 6, 6, 15], \"type\": \"scatter\", \"uid\": \"d2202a89-d1b9-11e8-8ddb-a41f72875c19\"}, {\"line\": {\"dash\": \"dot\"}, \"name\": \"\\u5b8c\\u6210\\u5546\\u4e1a\\u9879\\u76ee\\u6570(\\u4e2a\\u6027\\u5316\\u7ec4)\", \"x\": [\"9-1\", \"9-2\", \"9-3\", \"9-4\", \"10-1\"], \"y\": [0, 0, 0, 0, 1], \"type\": \"scatter\", \"uid\": \"d2202a8a-d1b9-11e8-8ddb-a41f72875c19\"}, {\"line\": {\"dash\": \"dash\"}, \"name\": \"\\u5b8c\\u6210\\u5546\\u4e1a\\u9879\\u76ee\\u6570(\\u5206\\u6790\\u4e8c\\u7ec4)\", \"x\": [\"9-1\", \"9-2\", \"9-3\", \"9-4\", \"10-1\"], \"y\": [20, 29, 17, 22, 11], \"type\": \"scatter\", \"uid\": \"d2202a8b-d1b9-11e8-8ddb-a41f72875c19\"}], {\"title\": \"\\u5b8c\\u6210\\u4e2a\\u6027\\u5316\\u6570&\\u5b8c\\u6210\\u5546\\u4e1a\\u9879\\u76ee\\u6570\\u5468\\u8d8b\\u52bf\\u56fe\", \"xaxis\": {\"mirror\": \"all\", \"nticks\": 20, \"showgrid\": true, \"showline\": true, \"title\": \"\\u5468\", \"type\": \"category\", \"zeroline\": true}, \"yaxis\": {\"mirror\": \"all\", \"nticks\": 20, \"showgrid\": true, \"showline\": true, \"title\": \"\\u5b8c\\u6210\\u4e2a\\u6027\\u5316\\u6570&\\u5b8c\\u6210\\u5546\\u4e1a\\u9879\\u76ee\\u6570\", \"zeroline\": true}}, {\"showLink\": true, \"linkText\": \"Export to plot.ly\"})});</script>"
      ]
     },
     "metadata": {},
     "output_type": "display_data"
    }
   ],
   "source": [
    "ss = myModule.format(all_df1 ,\"日期（格式“月-周次”）\" ,['完成商业项目数','完成个性化数'])\n",
    "ss.add_group('组别')\n",
    "#ss.get_average_by('人员')\n",
    "myModule.myPlot(myModule.sort_by_index(ss.groupby('sum'))).plot('line')\n",
    "#ss = myModule.format(all_df1 ,\"month\" ,['完成商业项目数','完成个性化数'])\n",
    "#ss.add_group('组别')\n",
    "#myModule.myPlot(ss.groupby('sum')).plot('line',\"月\")"
   ]
  },
  {
   "cell_type": "markdown",
   "metadata": {},
   "source": [
    "## 人均完成情况"
   ]
  },
  {
   "cell_type": "markdown",
   "metadata": {},
   "source": [
    "### 分析组人均产能情况"
   ]
  },
  {
   "cell_type": "code",
   "execution_count": 142,
   "metadata": {
    "collapsed": false
   },
   "outputs": [
    {
     "data": {
      "application/vnd.plotly.v1+json": {
       "data": [
        {
         "name": "完成个性化数",
         "type": "scatter",
         "uid": "d2202a8c-d1b9-11e8-8ddb-a41f72875c19",
         "x": [
          "9-1",
          "9-2",
          "9-3",
          "9-4",
          "10-1"
         ],
         "y": [
          1.7222222222222223,
          2.1666666666666665,
          2.2777777777777777,
          1.5555555555555556,
          1.7142857142857142
         ]
        },
        {
         "name": "完成商业项目数",
         "type": "scatter",
         "uid": "d2202a8d-d1b9-11e8-8ddb-a41f72875c19",
         "x": [
          "9-1",
          "9-2",
          "9-3",
          "9-4",
          "10-1"
         ],
         "y": [
          1.4444444444444444,
          2.2222222222222223,
          1.2777777777777777,
          1.5555555555555556,
          1.9285714285714286
         ]
        },
        {
         "name": "完成项目总数",
         "type": "scatter",
         "uid": "d2202a8e-d1b9-11e8-8ddb-a41f72875c19",
         "x": [
          "9-1",
          "9-2",
          "9-3",
          "9-4",
          "10-1"
         ],
         "y": [
          3.1666666666666665,
          4.388888888888889,
          3.5555555555555554,
          3.111111111111111,
          3.642857142857143
         ]
        }
       ],
       "layout": {
        "title": "完成个性化数&完成商业项目数&完成项目总数周趋势图",
        "xaxis": {
         "mirror": "all",
         "nticks": 20,
         "showgrid": true,
         "showline": true,
         "title": "周",
         "type": "category",
         "zeroline": true
        },
        "yaxis": {
         "mirror": "all",
         "nticks": 20,
         "showgrid": true,
         "showline": true,
         "title": "完成个性化数&完成商业项目数&完成项目总数",
         "zeroline": true
        }
       }
      },
      "text/html": [
       "<div id=\"4db46cdf-9d2c-4d14-a9db-fc327f472fbb\" style=\"height: 525px; width: 100%;\" class=\"plotly-graph-div\"></div><script type=\"text/javascript\">require([\"plotly\"], function(Plotly) { window.PLOTLYENV=window.PLOTLYENV || {};window.PLOTLYENV.BASE_URL=\"https://plot.ly\";Plotly.newPlot(\"4db46cdf-9d2c-4d14-a9db-fc327f472fbb\", [{\"name\": \"\\u5b8c\\u6210\\u4e2a\\u6027\\u5316\\u6570\", \"x\": [\"9-1\", \"9-2\", \"9-3\", \"9-4\", \"10-1\"], \"y\": [1.7222222222222223, 2.1666666666666665, 2.2777777777777777, 1.5555555555555556, 1.7142857142857142], \"type\": \"scatter\", \"uid\": \"d2202a8c-d1b9-11e8-8ddb-a41f72875c19\"}, {\"name\": \"\\u5b8c\\u6210\\u5546\\u4e1a\\u9879\\u76ee\\u6570\", \"x\": [\"9-1\", \"9-2\", \"9-3\", \"9-4\", \"10-1\"], \"y\": [1.4444444444444444, 2.2222222222222223, 1.2777777777777777, 1.5555555555555556, 1.9285714285714286], \"type\": \"scatter\", \"uid\": \"d2202a8d-d1b9-11e8-8ddb-a41f72875c19\"}, {\"name\": \"\\u5b8c\\u6210\\u9879\\u76ee\\u603b\\u6570\", \"x\": [\"9-1\", \"9-2\", \"9-3\", \"9-4\", \"10-1\"], \"y\": [3.1666666666666665, 4.388888888888889, 3.5555555555555554, 3.111111111111111, 3.642857142857143], \"type\": \"scatter\", \"uid\": \"d2202a8e-d1b9-11e8-8ddb-a41f72875c19\"}], {\"title\": \"\\u5b8c\\u6210\\u4e2a\\u6027\\u5316\\u6570&\\u5b8c\\u6210\\u5546\\u4e1a\\u9879\\u76ee\\u6570&\\u5b8c\\u6210\\u9879\\u76ee\\u603b\\u6570\\u5468\\u8d8b\\u52bf\\u56fe\", \"xaxis\": {\"mirror\": \"all\", \"nticks\": 20, \"showgrid\": true, \"showline\": true, \"title\": \"\\u5468\", \"type\": \"category\", \"zeroline\": true}, \"yaxis\": {\"mirror\": \"all\", \"nticks\": 20, \"showgrid\": true, \"showline\": true, \"title\": \"\\u5b8c\\u6210\\u4e2a\\u6027\\u5316\\u6570&\\u5b8c\\u6210\\u5546\\u4e1a\\u9879\\u76ee\\u6570&\\u5b8c\\u6210\\u9879\\u76ee\\u603b\\u6570\", \"zeroline\": true}}, {\"showLink\": true, \"linkText\": \"Export to plot.ly\"})});</script>"
      ],
      "text/vnd.plotly.v1+html": [
       "<div id=\"4db46cdf-9d2c-4d14-a9db-fc327f472fbb\" style=\"height: 525px; width: 100%;\" class=\"plotly-graph-div\"></div><script type=\"text/javascript\">require([\"plotly\"], function(Plotly) { window.PLOTLYENV=window.PLOTLYENV || {};window.PLOTLYENV.BASE_URL=\"https://plot.ly\";Plotly.newPlot(\"4db46cdf-9d2c-4d14-a9db-fc327f472fbb\", [{\"name\": \"\\u5b8c\\u6210\\u4e2a\\u6027\\u5316\\u6570\", \"x\": [\"9-1\", \"9-2\", \"9-3\", \"9-4\", \"10-1\"], \"y\": [1.7222222222222223, 2.1666666666666665, 2.2777777777777777, 1.5555555555555556, 1.7142857142857142], \"type\": \"scatter\", \"uid\": \"d2202a8c-d1b9-11e8-8ddb-a41f72875c19\"}, {\"name\": \"\\u5b8c\\u6210\\u5546\\u4e1a\\u9879\\u76ee\\u6570\", \"x\": [\"9-1\", \"9-2\", \"9-3\", \"9-4\", \"10-1\"], \"y\": [1.4444444444444444, 2.2222222222222223, 1.2777777777777777, 1.5555555555555556, 1.9285714285714286], \"type\": \"scatter\", \"uid\": \"d2202a8d-d1b9-11e8-8ddb-a41f72875c19\"}, {\"name\": \"\\u5b8c\\u6210\\u9879\\u76ee\\u603b\\u6570\", \"x\": [\"9-1\", \"9-2\", \"9-3\", \"9-4\", \"10-1\"], \"y\": [3.1666666666666665, 4.388888888888889, 3.5555555555555554, 3.111111111111111, 3.642857142857143], \"type\": \"scatter\", \"uid\": \"d2202a8e-d1b9-11e8-8ddb-a41f72875c19\"}], {\"title\": \"\\u5b8c\\u6210\\u4e2a\\u6027\\u5316\\u6570&\\u5b8c\\u6210\\u5546\\u4e1a\\u9879\\u76ee\\u6570&\\u5b8c\\u6210\\u9879\\u76ee\\u603b\\u6570\\u5468\\u8d8b\\u52bf\\u56fe\", \"xaxis\": {\"mirror\": \"all\", \"nticks\": 20, \"showgrid\": true, \"showline\": true, \"title\": \"\\u5468\", \"type\": \"category\", \"zeroline\": true}, \"yaxis\": {\"mirror\": \"all\", \"nticks\": 20, \"showgrid\": true, \"showline\": true, \"title\": \"\\u5b8c\\u6210\\u4e2a\\u6027\\u5316\\u6570&\\u5b8c\\u6210\\u5546\\u4e1a\\u9879\\u76ee\\u6570&\\u5b8c\\u6210\\u9879\\u76ee\\u603b\\u6570\", \"zeroline\": true}}, {\"showLink\": true, \"linkText\": \"Export to plot.ly\"})});</script>"
      ]
     },
     "metadata": {},
     "output_type": "display_data"
    }
   ],
   "source": [
    "ss = myModule.format(all_df1 ,\"日期（格式“月-周次”）\" ,['完成项目总数','完成商业项目数','完成个性化数'])\n",
    "ss.get_average_by('人员')\n",
    "myModule.myPlot(ss.groupby('sum')).df\n",
    "myModule.myPlot(myModule.sort_by_index(ss.groupby('sum'))).plot('line')\n",
    "#ss = myModule.format(all_df1 ,\"month\" ,['完成项目总数','完成商业项目数','完成个性化数'])\n",
    "#ss.get_average_by('人员')\n",
    "#myModule.myPlot(ss.groupby('sum')).plot('line')"
   ]
  },
  {
   "cell_type": "markdown",
   "metadata": {},
   "source": [
    "### 各组人均完成项目数情况"
   ]
  },
  {
   "cell_type": "code",
   "execution_count": 143,
   "metadata": {
    "collapsed": false
   },
   "outputs": [
    {
     "data": {
      "application/vnd.plotly.v1+json": {
       "data": [
        {
         "line": {
          "dash": "solid"
         },
         "name": "完成项目总数(分析一组)",
         "type": "scatter",
         "uid": "d2d14e24-d1b9-11e8-8ddb-a41f72875c19",
         "x": [
          "9-1",
          "9-2",
          "9-3",
          "9-4",
          "10-1"
         ],
         "y": [
          2.75,
          3.75,
          2.25,
          2.5,
          4.6
         ]
        },
        {
         "line": {
          "dash": "dot"
         },
         "name": "完成项目总数(个性化组)",
         "type": "scatter",
         "uid": "d2d14e25-d1b9-11e8-8ddb-a41f72875c19",
         "x": [
          "9-1",
          "9-2",
          "9-3",
          "9-4",
          "10-1"
         ],
         "y": [
          4.5,
          3.5,
          3.25,
          3.5,
          1.8
         ]
        },
        {
         "line": {
          "dash": "dash"
         },
         "name": "完成项目总数(分析二组)",
         "type": "scatter",
         "uid": "d2d14e26-d1b9-11e8-8ddb-a41f72875c19",
         "x": [
          "9-1",
          "9-2",
          "9-3",
          "9-4",
          "10-1"
         ],
         "y": [
          2.8,
          5,
          4.2,
          3.2,
          4.75
         ]
        }
       ],
       "layout": {
        "title": "完成项目总数周趋势图",
        "xaxis": {
         "mirror": "all",
         "nticks": 20,
         "showgrid": true,
         "showline": true,
         "title": "周",
         "type": "category",
         "zeroline": true
        },
        "yaxis": {
         "mirror": "all",
         "nticks": 20,
         "showgrid": true,
         "showline": true,
         "title": "完成项目总数",
         "zeroline": true
        }
       }
      },
      "text/html": [
       "<div id=\"1aaafc65-1735-470e-8bf3-d6eac86b32e1\" style=\"height: 525px; width: 100%;\" class=\"plotly-graph-div\"></div><script type=\"text/javascript\">require([\"plotly\"], function(Plotly) { window.PLOTLYENV=window.PLOTLYENV || {};window.PLOTLYENV.BASE_URL=\"https://plot.ly\";Plotly.newPlot(\"1aaafc65-1735-470e-8bf3-d6eac86b32e1\", [{\"line\": {\"dash\": \"solid\"}, \"name\": \"\\u5b8c\\u6210\\u9879\\u76ee\\u603b\\u6570(\\u5206\\u6790\\u4e00\\u7ec4)\", \"x\": [\"9-1\", \"9-2\", \"9-3\", \"9-4\", \"10-1\"], \"y\": [2.75, 3.75, 2.25, 2.5, 4.6], \"type\": \"scatter\", \"uid\": \"d2d14e24-d1b9-11e8-8ddb-a41f72875c19\"}, {\"line\": {\"dash\": \"dot\"}, \"name\": \"\\u5b8c\\u6210\\u9879\\u76ee\\u603b\\u6570(\\u4e2a\\u6027\\u5316\\u7ec4)\", \"x\": [\"9-1\", \"9-2\", \"9-3\", \"9-4\", \"10-1\"], \"y\": [4.5, 3.5, 3.25, 3.5, 1.8], \"type\": \"scatter\", \"uid\": \"d2d14e25-d1b9-11e8-8ddb-a41f72875c19\"}, {\"line\": {\"dash\": \"dash\"}, \"name\": \"\\u5b8c\\u6210\\u9879\\u76ee\\u603b\\u6570(\\u5206\\u6790\\u4e8c\\u7ec4)\", \"x\": [\"9-1\", \"9-2\", \"9-3\", \"9-4\", \"10-1\"], \"y\": [2.8, 5.0, 4.2, 3.2, 4.75], \"type\": \"scatter\", \"uid\": \"d2d14e26-d1b9-11e8-8ddb-a41f72875c19\"}], {\"title\": \"\\u5b8c\\u6210\\u9879\\u76ee\\u603b\\u6570\\u5468\\u8d8b\\u52bf\\u56fe\", \"xaxis\": {\"mirror\": \"all\", \"nticks\": 20, \"showgrid\": true, \"showline\": true, \"title\": \"\\u5468\", \"type\": \"category\", \"zeroline\": true}, \"yaxis\": {\"mirror\": \"all\", \"nticks\": 20, \"showgrid\": true, \"showline\": true, \"title\": \"\\u5b8c\\u6210\\u9879\\u76ee\\u603b\\u6570\", \"zeroline\": true}}, {\"showLink\": true, \"linkText\": \"Export to plot.ly\"})});</script>"
      ],
      "text/vnd.plotly.v1+html": [
       "<div id=\"1aaafc65-1735-470e-8bf3-d6eac86b32e1\" style=\"height: 525px; width: 100%;\" class=\"plotly-graph-div\"></div><script type=\"text/javascript\">require([\"plotly\"], function(Plotly) { window.PLOTLYENV=window.PLOTLYENV || {};window.PLOTLYENV.BASE_URL=\"https://plot.ly\";Plotly.newPlot(\"1aaafc65-1735-470e-8bf3-d6eac86b32e1\", [{\"line\": {\"dash\": \"solid\"}, \"name\": \"\\u5b8c\\u6210\\u9879\\u76ee\\u603b\\u6570(\\u5206\\u6790\\u4e00\\u7ec4)\", \"x\": [\"9-1\", \"9-2\", \"9-3\", \"9-4\", \"10-1\"], \"y\": [2.75, 3.75, 2.25, 2.5, 4.6], \"type\": \"scatter\", \"uid\": \"d2d14e24-d1b9-11e8-8ddb-a41f72875c19\"}, {\"line\": {\"dash\": \"dot\"}, \"name\": \"\\u5b8c\\u6210\\u9879\\u76ee\\u603b\\u6570(\\u4e2a\\u6027\\u5316\\u7ec4)\", \"x\": [\"9-1\", \"9-2\", \"9-3\", \"9-4\", \"10-1\"], \"y\": [4.5, 3.5, 3.25, 3.5, 1.8], \"type\": \"scatter\", \"uid\": \"d2d14e25-d1b9-11e8-8ddb-a41f72875c19\"}, {\"line\": {\"dash\": \"dash\"}, \"name\": \"\\u5b8c\\u6210\\u9879\\u76ee\\u603b\\u6570(\\u5206\\u6790\\u4e8c\\u7ec4)\", \"x\": [\"9-1\", \"9-2\", \"9-3\", \"9-4\", \"10-1\"], \"y\": [2.8, 5.0, 4.2, 3.2, 4.75], \"type\": \"scatter\", \"uid\": \"d2d14e26-d1b9-11e8-8ddb-a41f72875c19\"}], {\"title\": \"\\u5b8c\\u6210\\u9879\\u76ee\\u603b\\u6570\\u5468\\u8d8b\\u52bf\\u56fe\", \"xaxis\": {\"mirror\": \"all\", \"nticks\": 20, \"showgrid\": true, \"showline\": true, \"title\": \"\\u5468\", \"type\": \"category\", \"zeroline\": true}, \"yaxis\": {\"mirror\": \"all\", \"nticks\": 20, \"showgrid\": true, \"showline\": true, \"title\": \"\\u5b8c\\u6210\\u9879\\u76ee\\u603b\\u6570\", \"zeroline\": true}}, {\"showLink\": true, \"linkText\": \"Export to plot.ly\"})});</script>"
      ]
     },
     "metadata": {},
     "output_type": "display_data"
    }
   ],
   "source": [
    "ss = myModule.format(all_df1 ,\"日期（格式“月-周次”）\" ,['完成项目总数'])\n",
    "ss.add_group('组别')\n",
    "ss.get_average_by('人员')\n",
    "#ss.df\n",
    "myModule.myPlot(ss.groupby('sum')).df\n",
    "myModule.myPlot(myModule.sort_by_index(ss.groupby('sum'))).plot('line')\n",
    "#ss = myModule.format(all_df1 ,\"month\" ,['完成项目总数'])\n",
    "#ss.add_group('组别')\n",
    "#ss.get_average_by('人员')\n",
    "#myModule.myPlot(ss.groupby('sum')).plot('line','月')"
   ]
  },
  {
   "cell_type": "markdown",
   "metadata": {},
   "source": [
    "## 具体人员效能情况"
   ]
  },
  {
   "cell_type": "code",
   "execution_count": 144,
   "metadata": {
    "collapsed": false
   },
   "outputs": [
    {
     "data": {
      "application/vnd.plotly.v1+json": {
       "data": [
        {
         "name": "完成项目总数",
         "type": "scatter",
         "uid": "d2d14e27-d1b9-11e8-8ddb-a41f72875c19",
         "x": [
          "9-1",
          "9-2",
          "9-3",
          "9-4",
          "10-1"
         ],
         "y": [
          57,
          79,
          64,
          56,
          51
         ]
        }
       ],
       "layout": {
        "title": "完成项目总数周趋势图",
        "xaxis": {
         "mirror": "all",
         "nticks": 20,
         "showgrid": true,
         "showline": true,
         "title": "周",
         "type": "category",
         "zeroline": true
        },
        "yaxis": {
         "mirror": "all",
         "nticks": 20,
         "showgrid": true,
         "showline": true,
         "title": "完成项目总数",
         "zeroline": true
        }
       }
      },
      "text/html": [
       "<div id=\"298cae36-e243-4ee6-847e-400d5f47ee99\" style=\"height: 525px; width: 100%;\" class=\"plotly-graph-div\"></div><script type=\"text/javascript\">require([\"plotly\"], function(Plotly) { window.PLOTLYENV=window.PLOTLYENV || {};window.PLOTLYENV.BASE_URL=\"https://plot.ly\";Plotly.newPlot(\"298cae36-e243-4ee6-847e-400d5f47ee99\", [{\"name\": \"\\u5b8c\\u6210\\u9879\\u76ee\\u603b\\u6570\", \"x\": [\"9-1\", \"9-2\", \"9-3\", \"9-4\", \"10-1\"], \"y\": [57, 79, 64, 56, 51], \"type\": \"scatter\", \"uid\": \"d2d14e27-d1b9-11e8-8ddb-a41f72875c19\"}], {\"title\": \"\\u5b8c\\u6210\\u9879\\u76ee\\u603b\\u6570\\u5468\\u8d8b\\u52bf\\u56fe\", \"xaxis\": {\"mirror\": \"all\", \"nticks\": 20, \"showgrid\": true, \"showline\": true, \"title\": \"\\u5468\", \"type\": \"category\", \"zeroline\": true}, \"yaxis\": {\"mirror\": \"all\", \"nticks\": 20, \"showgrid\": true, \"showline\": true, \"title\": \"\\u5b8c\\u6210\\u9879\\u76ee\\u603b\\u6570\", \"zeroline\": true}}, {\"showLink\": true, \"linkText\": \"Export to plot.ly\"})});</script>"
      ],
      "text/vnd.plotly.v1+html": [
       "<div id=\"298cae36-e243-4ee6-847e-400d5f47ee99\" style=\"height: 525px; width: 100%;\" class=\"plotly-graph-div\"></div><script type=\"text/javascript\">require([\"plotly\"], function(Plotly) { window.PLOTLYENV=window.PLOTLYENV || {};window.PLOTLYENV.BASE_URL=\"https://plot.ly\";Plotly.newPlot(\"298cae36-e243-4ee6-847e-400d5f47ee99\", [{\"name\": \"\\u5b8c\\u6210\\u9879\\u76ee\\u603b\\u6570\", \"x\": [\"9-1\", \"9-2\", \"9-3\", \"9-4\", \"10-1\"], \"y\": [57, 79, 64, 56, 51], \"type\": \"scatter\", \"uid\": \"d2d14e27-d1b9-11e8-8ddb-a41f72875c19\"}], {\"title\": \"\\u5b8c\\u6210\\u9879\\u76ee\\u603b\\u6570\\u5468\\u8d8b\\u52bf\\u56fe\", \"xaxis\": {\"mirror\": \"all\", \"nticks\": 20, \"showgrid\": true, \"showline\": true, \"title\": \"\\u5468\", \"type\": \"category\", \"zeroline\": true}, \"yaxis\": {\"mirror\": \"all\", \"nticks\": 20, \"showgrid\": true, \"showline\": true, \"title\": \"\\u5b8c\\u6210\\u9879\\u76ee\\u603b\\u6570\", \"zeroline\": true}}, {\"showLink\": true, \"linkText\": \"Export to plot.ly\"})});</script>"
      ]
     },
     "metadata": {},
     "output_type": "display_data"
    },
    {
     "data": {
      "application/vnd.plotly.v1+json": {
       "data": [
        {
         "name": "完成项目总数",
         "type": "scatter",
         "uid": "d2d14e28-d1b9-11e8-8ddb-a41f72875c19",
         "x": [
          9,
          10
         ],
         "y": [
          256,
          51
         ]
        }
       ],
       "layout": {
        "title": "完成项目总数月趋势图",
        "xaxis": {
         "mirror": "all",
         "nticks": 20,
         "showgrid": true,
         "showline": true,
         "title": "月",
         "type": "category",
         "zeroline": true
        },
        "yaxis": {
         "mirror": "all",
         "nticks": 20,
         "showgrid": true,
         "showline": true,
         "title": "完成项目总数",
         "zeroline": true
        }
       }
      },
      "text/html": [
       "<div id=\"e677ae34-774d-4383-9ef5-34d45c8d84c6\" style=\"height: 525px; width: 100%;\" class=\"plotly-graph-div\"></div><script type=\"text/javascript\">require([\"plotly\"], function(Plotly) { window.PLOTLYENV=window.PLOTLYENV || {};window.PLOTLYENV.BASE_URL=\"https://plot.ly\";Plotly.newPlot(\"e677ae34-774d-4383-9ef5-34d45c8d84c6\", [{\"name\": \"\\u5b8c\\u6210\\u9879\\u76ee\\u603b\\u6570\", \"x\": [9, 10], \"y\": [256, 51], \"type\": \"scatter\", \"uid\": \"d2d14e28-d1b9-11e8-8ddb-a41f72875c19\"}], {\"title\": \"\\u5b8c\\u6210\\u9879\\u76ee\\u603b\\u6570\\u6708\\u8d8b\\u52bf\\u56fe\", \"xaxis\": {\"mirror\": \"all\", \"nticks\": 20, \"showgrid\": true, \"showline\": true, \"title\": \"\\u6708\", \"type\": \"category\", \"zeroline\": true}, \"yaxis\": {\"mirror\": \"all\", \"nticks\": 20, \"showgrid\": true, \"showline\": true, \"title\": \"\\u5b8c\\u6210\\u9879\\u76ee\\u603b\\u6570\", \"zeroline\": true}}, {\"showLink\": true, \"linkText\": \"Export to plot.ly\"})});</script>"
      ],
      "text/vnd.plotly.v1+html": [
       "<div id=\"e677ae34-774d-4383-9ef5-34d45c8d84c6\" style=\"height: 525px; width: 100%;\" class=\"plotly-graph-div\"></div><script type=\"text/javascript\">require([\"plotly\"], function(Plotly) { window.PLOTLYENV=window.PLOTLYENV || {};window.PLOTLYENV.BASE_URL=\"https://plot.ly\";Plotly.newPlot(\"e677ae34-774d-4383-9ef5-34d45c8d84c6\", [{\"name\": \"\\u5b8c\\u6210\\u9879\\u76ee\\u603b\\u6570\", \"x\": [9, 10], \"y\": [256, 51], \"type\": \"scatter\", \"uid\": \"d2d14e28-d1b9-11e8-8ddb-a41f72875c19\"}], {\"title\": \"\\u5b8c\\u6210\\u9879\\u76ee\\u603b\\u6570\\u6708\\u8d8b\\u52bf\\u56fe\", \"xaxis\": {\"mirror\": \"all\", \"nticks\": 20, \"showgrid\": true, \"showline\": true, \"title\": \"\\u6708\", \"type\": \"category\", \"zeroline\": true}, \"yaxis\": {\"mirror\": \"all\", \"nticks\": 20, \"showgrid\": true, \"showline\": true, \"title\": \"\\u5b8c\\u6210\\u9879\\u76ee\\u603b\\u6570\", \"zeroline\": true}}, {\"showLink\": true, \"linkText\": \"Export to plot.ly\"})});</script>"
      ]
     },
     "metadata": {},
     "output_type": "display_data"
    }
   ],
   "source": [
    "ss = myModule.format(all_df1 ,\"日期（格式“月-周次”）\" ,['完成项目总数'])\n",
    "#ss.add_group('人员')\n",
    "#ss.get_average_by('人员')\n",
    "myModule.myPlot(myModule.sort_by_index(ss.groupby('sum'))).plot('line')\n",
    "ss = myModule.format(all_df1 ,\"month\" ,['完成项目总数'])\n",
    "#ss.add_group('人员')\n",
    "#ss.get_average_by('人员')\n",
    "myModule.myPlot(ss.groupby('sum')).plot('line','月')"
   ]
  },
  {
   "cell_type": "markdown",
   "metadata": {},
   "source": [
    "### 优秀人员"
   ]
  },
  {
   "cell_type": "markdown",
   "metadata": {},
   "source": [
    "* 总完成项目数目位于上四位分数"
   ]
  },
  {
   "cell_type": "code",
   "execution_count": 145,
   "metadata": {
    "collapsed": false
   },
   "outputs": [
    {
     "data": {
      "text/html": [
       "<div>\n",
       "<style scoped>\n",
       "    .dataframe tbody tr th:only-of-type {\n",
       "        vertical-align: middle;\n",
       "    }\n",
       "\n",
       "    .dataframe tbody tr th {\n",
       "        vertical-align: top;\n",
       "    }\n",
       "\n",
       "    .dataframe thead th {\n",
       "        text-align: right;\n",
       "    }\n",
       "</style>\n",
       "<table border=\"1\" class=\"dataframe\">\n",
       "  <thead>\n",
       "    <tr style=\"text-align: right;\">\n",
       "      <th></th>\n",
       "      <th>完成个性化数</th>\n",
       "    </tr>\n",
       "    <tr>\n",
       "      <th>人员</th>\n",
       "      <th></th>\n",
       "    </tr>\n",
       "  </thead>\n",
       "  <tbody>\n",
       "    <tr>\n",
       "      <th>赵倩</th>\n",
       "      <td>29</td>\n",
       "    </tr>\n",
       "    <tr>\n",
       "      <th>朱慧萍</th>\n",
       "      <td>20</td>\n",
       "    </tr>\n",
       "    <tr>\n",
       "      <th>冯敬岩</th>\n",
       "      <td>17</td>\n",
       "    </tr>\n",
       "    <tr>\n",
       "      <th>何胜</th>\n",
       "      <td>15</td>\n",
       "    </tr>\n",
       "  </tbody>\n",
       "</table>\n",
       "</div>"
      ],
      "text/plain": [
       "     完成个性化数\n",
       "人员         \n",
       "赵倩       29\n",
       "朱慧萍      20\n",
       "冯敬岩      17\n",
       "何胜       15"
      ]
     },
     "execution_count": 145,
     "metadata": {},
     "output_type": "execute_result"
    }
   ],
   "source": [
    "myModule.get_rank(all_df1 , '人员' ,'完成个性化数', quantile=0.8, compare='>' )"
   ]
  },
  {
   "cell_type": "markdown",
   "metadata": {},
   "source": [
    "* 近3期，总完成项目数位于上四分位数"
   ]
  },
  {
   "cell_type": "code",
   "execution_count": 169,
   "metadata": {
    "collapsed": false
   },
   "outputs": [
    {
     "data": {
      "text/html": [
       "<div>\n",
       "<style scoped>\n",
       "    .dataframe tbody tr th:only-of-type {\n",
       "        vertical-align: middle;\n",
       "    }\n",
       "\n",
       "    .dataframe tbody tr th {\n",
       "        vertical-align: top;\n",
       "    }\n",
       "\n",
       "    .dataframe thead th {\n",
       "        text-align: right;\n",
       "    }\n",
       "</style>\n",
       "<table border=\"1\" class=\"dataframe\">\n",
       "  <thead>\n",
       "    <tr style=\"text-align: right;\">\n",
       "      <th></th>\n",
       "      <th>完成项目总数</th>\n",
       "    </tr>\n",
       "    <tr>\n",
       "      <th>人员</th>\n",
       "      <th></th>\n",
       "    </tr>\n",
       "  </thead>\n",
       "  <tbody>\n",
       "    <tr>\n",
       "      <th>何胜</th>\n",
       "      <td>20</td>\n",
       "    </tr>\n",
       "    <tr>\n",
       "      <th>刘梦苑</th>\n",
       "      <td>18</td>\n",
       "    </tr>\n",
       "    <tr>\n",
       "      <th>杨宇</th>\n",
       "      <td>18</td>\n",
       "    </tr>\n",
       "    <tr>\n",
       "      <th>赵倩</th>\n",
       "      <td>17</td>\n",
       "    </tr>\n",
       "    <tr>\n",
       "      <th>王霞</th>\n",
       "      <td>16</td>\n",
       "    </tr>\n",
       "  </tbody>\n",
       "</table>\n",
       "</div>"
      ],
      "text/plain": [
       "     完成项目总数\n",
       "人员         \n",
       "何胜       20\n",
       "刘梦苑      18\n",
       "杨宇       18\n",
       "赵倩       17\n",
       "王霞       16"
      ]
     },
     "execution_count": 169,
     "metadata": {},
     "output_type": "execute_result"
    }
   ],
   "source": [
    "myModule.get_rank(all_df1 , '人员' ,'完成项目总数', 3, quantile=0.75, compare='>',sort_index=True)"
   ]
  },
  {
   "cell_type": "code",
   "execution_count": 162,
   "metadata": {
    "collapsed": false
   },
   "outputs": [
    {
     "data": {
      "text/html": [
       "<div>\n",
       "<style scoped>\n",
       "    .dataframe tbody tr th:only-of-type {\n",
       "        vertical-align: middle;\n",
       "    }\n",
       "\n",
       "    .dataframe tbody tr th {\n",
       "        vertical-align: top;\n",
       "    }\n",
       "\n",
       "    .dataframe thead th {\n",
       "        text-align: right;\n",
       "    }\n",
       "</style>\n",
       "<table border=\"1\" class=\"dataframe\">\n",
       "  <thead>\n",
       "    <tr style=\"text-align: right;\">\n",
       "      <th>日期（格式“月-周次”）</th>\n",
       "      <th>9-3</th>\n",
       "      <th>9-4</th>\n",
       "      <th>10-1</th>\n",
       "    </tr>\n",
       "    <tr>\n",
       "      <th>人员</th>\n",
       "      <th></th>\n",
       "      <th></th>\n",
       "      <th></th>\n",
       "    </tr>\n",
       "  </thead>\n",
       "  <tbody>\n",
       "    <tr>\n",
       "      <th>何胜</th>\n",
       "      <td>7.0</td>\n",
       "      <td>5.0</td>\n",
       "      <td>8.0</td>\n",
       "    </tr>\n",
       "  </tbody>\n",
       "</table>\n",
       "</div>"
      ],
      "text/plain": [
       "日期（格式“月-周次”）  9-3  9-4  10-1\n",
       "人员                          \n",
       "何胜            7.0  5.0   8.0"
      ]
     },
     "execution_count": 162,
     "metadata": {},
     "output_type": "execute_result"
    }
   ],
   "source": [
    "myModule.get_trend(all_df1 , '人员' ,'完成项目总数', 3, quantile=0.75, compare='>', sort_index=True)"
   ]
  },
  {
   "cell_type": "code",
   "execution_count": 148,
   "metadata": {
    "collapsed": false
   },
   "outputs": [
    {
     "data": {
      "text/html": [
       "<div>\n",
       "<style scoped>\n",
       "    .dataframe tbody tr th:only-of-type {\n",
       "        vertical-align: middle;\n",
       "    }\n",
       "\n",
       "    .dataframe tbody tr th {\n",
       "        vertical-align: top;\n",
       "    }\n",
       "\n",
       "    .dataframe thead th {\n",
       "        text-align: right;\n",
       "    }\n",
       "</style>\n",
       "<table border=\"1\" class=\"dataframe\">\n",
       "  <thead>\n",
       "    <tr style=\"text-align: right;\">\n",
       "      <th>日期（格式“月-周次”）</th>\n",
       "      <th>9-3</th>\n",
       "      <th>9-4</th>\n",
       "      <th>10-1</th>\n",
       "    </tr>\n",
       "    <tr>\n",
       "      <th>人员</th>\n",
       "      <th></th>\n",
       "      <th></th>\n",
       "      <th></th>\n",
       "    </tr>\n",
       "  </thead>\n",
       "  <tbody>\n",
       "    <tr>\n",
       "      <th>宋少宇</th>\n",
       "      <td>0.0</td>\n",
       "      <td>0.0</td>\n",
       "      <td>0.0</td>\n",
       "    </tr>\n",
       "    <tr>\n",
       "      <th>陈碧雯</th>\n",
       "      <td>4.0</td>\n",
       "      <td>4.0</td>\n",
       "      <td>3.0</td>\n",
       "    </tr>\n",
       "  </tbody>\n",
       "</table>\n",
       "</div>"
      ],
      "text/plain": [
       "日期（格式“月-周次”）  9-3  9-4  10-1\n",
       "人员                          \n",
       "宋少宇           0.0  0.0   0.0\n",
       "陈碧雯           4.0  4.0   3.0"
      ]
     },
     "execution_count": 148,
     "metadata": {},
     "output_type": "execute_result"
    }
   ],
   "source": [
    "myModule.get_trend(all_df1 , '人员' ,'完成项目总数', 3, quantile=0.5, compare='<',trend=True , sort_index=True)"
   ]
  },
  {
   "cell_type": "markdown",
   "metadata": {},
   "source": [
    "### 待激励人员\n",
    "* 总完成项目数目位于下四位分数 or \n",
    "* 近3期，总完成项目数位于下四分位数"
   ]
  },
  {
   "cell_type": "code",
   "execution_count": 167,
   "metadata": {
    "collapsed": false
   },
   "outputs": [
    {
     "data": {
      "text/html": [
       "<div>\n",
       "<style scoped>\n",
       "    .dataframe tbody tr th:only-of-type {\n",
       "        vertical-align: middle;\n",
       "    }\n",
       "\n",
       "    .dataframe tbody tr th {\n",
       "        vertical-align: top;\n",
       "    }\n",
       "\n",
       "    .dataframe thead th {\n",
       "        text-align: right;\n",
       "    }\n",
       "</style>\n",
       "<table border=\"1\" class=\"dataframe\">\n",
       "  <thead>\n",
       "    <tr style=\"text-align: right;\">\n",
       "      <th></th>\n",
       "      <th>完成项目总数</th>\n",
       "    </tr>\n",
       "    <tr>\n",
       "      <th>人员</th>\n",
       "      <th></th>\n",
       "    </tr>\n",
       "  </thead>\n",
       "  <tbody>\n",
       "    <tr>\n",
       "      <th>卢楠</th>\n",
       "      <td>0</td>\n",
       "    </tr>\n",
       "    <tr>\n",
       "      <th>施毓芷</th>\n",
       "      <td>0</td>\n",
       "    </tr>\n",
       "    <tr>\n",
       "      <th>李晓波</th>\n",
       "      <td>0</td>\n",
       "    </tr>\n",
       "    <tr>\n",
       "      <th>靳甜甜</th>\n",
       "      <td>0</td>\n",
       "    </tr>\n",
       "  </tbody>\n",
       "</table>\n",
       "</div>"
      ],
      "text/plain": [
       "     完成项目总数\n",
       "人员         \n",
       "卢楠        0\n",
       "施毓芷       0\n",
       "李晓波       0\n",
       "靳甜甜       0"
      ]
     },
     "execution_count": 167,
     "metadata": {},
     "output_type": "execute_result"
    }
   ],
   "source": [
    "myModule.get_rank(all_df1 , '人员' ,'完成项目总数', quantile=0.2, compare='<' )"
   ]
  },
  {
   "cell_type": "code",
   "execution_count": 168,
   "metadata": {
    "collapsed": false
   },
   "outputs": [
    {
     "data": {
      "text/html": [
       "<div>\n",
       "<style scoped>\n",
       "    .dataframe tbody tr th:only-of-type {\n",
       "        vertical-align: middle;\n",
       "    }\n",
       "\n",
       "    .dataframe tbody tr th {\n",
       "        vertical-align: top;\n",
       "    }\n",
       "\n",
       "    .dataframe thead th {\n",
       "        text-align: right;\n",
       "    }\n",
       "</style>\n",
       "<table border=\"1\" class=\"dataframe\">\n",
       "  <thead>\n",
       "    <tr style=\"text-align: right;\">\n",
       "      <th></th>\n",
       "      <th>完成项目总数</th>\n",
       "    </tr>\n",
       "    <tr>\n",
       "      <th>人员</th>\n",
       "      <th></th>\n",
       "    </tr>\n",
       "  </thead>\n",
       "  <tbody>\n",
       "    <tr>\n",
       "      <th>卢楠</th>\n",
       "      <td>0</td>\n",
       "    </tr>\n",
       "    <tr>\n",
       "      <th>宋少宇</th>\n",
       "      <td>0</td>\n",
       "    </tr>\n",
       "    <tr>\n",
       "      <th>施毓芷</th>\n",
       "      <td>0</td>\n",
       "    </tr>\n",
       "    <tr>\n",
       "      <th>李晓波</th>\n",
       "      <td>0</td>\n",
       "    </tr>\n",
       "    <tr>\n",
       "      <th>靳甜甜</th>\n",
       "      <td>0</td>\n",
       "    </tr>\n",
       "  </tbody>\n",
       "</table>\n",
       "</div>"
      ],
      "text/plain": [
       "     完成项目总数\n",
       "人员         \n",
       "卢楠        0\n",
       "宋少宇       0\n",
       "施毓芷       0\n",
       "李晓波       0\n",
       "靳甜甜       0"
      ]
     },
     "execution_count": 168,
     "metadata": {},
     "output_type": "execute_result"
    }
   ],
   "source": [
    "myModule.get_rank(all_df1 , '人员' ,'完成项目总数', 3, quantile=0.2, compare='<',sort_index=True)"
   ]
  },
  {
   "cell_type": "markdown",
   "metadata": {},
   "source": [
    "# 下期项目情况预测"
   ]
  },
  {
   "cell_type": "markdown",
   "metadata": {},
   "source": [
    "## 整体商业项目趋势图\n",
    "* 完成项目数： 本周完成的项目\n",
    "* 总在线项目： 下机正在分析项目 和 未完成个性化分析\n",
    "* 未下机项目： 未下机项目"
   ]
  },
  {
   "cell_type": "code",
   "execution_count": 151,
   "metadata": {
    "collapsed": false
   },
   "outputs": [
    {
     "data": {
      "application/vnd.plotly.v1+json": {
       "data": [
        {
         "name": "在线项目总数",
         "type": "scatter",
         "uid": "d2d14e29-d1b9-11e8-8ddb-a41f72875c19",
         "x": [
          "9-1",
          "9-2",
          "9-3",
          "9-4",
          "10-1"
         ],
         "y": [
          59,
          58,
          57,
          60,
          69
         ]
        },
        {
         "name": "完成项目总数",
         "type": "scatter",
         "uid": "d2d14e2a-d1b9-11e8-8ddb-a41f72875c19",
         "x": [
          "9-1",
          "9-2",
          "9-3",
          "9-4",
          "10-1"
         ],
         "y": [
          57,
          79,
          64,
          56,
          51
         ]
        }
       ],
       "layout": {
        "title": "在线项目总数&完成项目总数周趋势图",
        "xaxis": {
         "mirror": "all",
         "nticks": 20,
         "showgrid": true,
         "showline": true,
         "title": "周",
         "type": "category",
         "zeroline": true
        },
        "yaxis": {
         "mirror": "all",
         "nticks": 20,
         "showgrid": true,
         "showline": true,
         "title": "在线项目总数&完成项目总数",
         "zeroline": true
        }
       }
      },
      "text/html": [
       "<div id=\"c1905232-3a26-405e-986c-51b1ef05b717\" style=\"height: 525px; width: 100%;\" class=\"plotly-graph-div\"></div><script type=\"text/javascript\">require([\"plotly\"], function(Plotly) { window.PLOTLYENV=window.PLOTLYENV || {};window.PLOTLYENV.BASE_URL=\"https://plot.ly\";Plotly.newPlot(\"c1905232-3a26-405e-986c-51b1ef05b717\", [{\"name\": \"\\u5728\\u7ebf\\u9879\\u76ee\\u603b\\u6570\", \"x\": [\"9-1\", \"9-2\", \"9-3\", \"9-4\", \"10-1\"], \"y\": [59, 58, 57, 60, 69], \"type\": \"scatter\", \"uid\": \"d2d14e29-d1b9-11e8-8ddb-a41f72875c19\"}, {\"name\": \"\\u5b8c\\u6210\\u9879\\u76ee\\u603b\\u6570\", \"x\": [\"9-1\", \"9-2\", \"9-3\", \"9-4\", \"10-1\"], \"y\": [57, 79, 64, 56, 51], \"type\": \"scatter\", \"uid\": \"d2d14e2a-d1b9-11e8-8ddb-a41f72875c19\"}], {\"title\": \"\\u5728\\u7ebf\\u9879\\u76ee\\u603b\\u6570&\\u5b8c\\u6210\\u9879\\u76ee\\u603b\\u6570\\u5468\\u8d8b\\u52bf\\u56fe\", \"xaxis\": {\"mirror\": \"all\", \"nticks\": 20, \"showgrid\": true, \"showline\": true, \"title\": \"\\u5468\", \"type\": \"category\", \"zeroline\": true}, \"yaxis\": {\"mirror\": \"all\", \"nticks\": 20, \"showgrid\": true, \"showline\": true, \"title\": \"\\u5728\\u7ebf\\u9879\\u76ee\\u603b\\u6570&\\u5b8c\\u6210\\u9879\\u76ee\\u603b\\u6570\", \"zeroline\": true}}, {\"showLink\": true, \"linkText\": \"Export to plot.ly\"})});</script>"
      ],
      "text/vnd.plotly.v1+html": [
       "<div id=\"c1905232-3a26-405e-986c-51b1ef05b717\" style=\"height: 525px; width: 100%;\" class=\"plotly-graph-div\"></div><script type=\"text/javascript\">require([\"plotly\"], function(Plotly) { window.PLOTLYENV=window.PLOTLYENV || {};window.PLOTLYENV.BASE_URL=\"https://plot.ly\";Plotly.newPlot(\"c1905232-3a26-405e-986c-51b1ef05b717\", [{\"name\": \"\\u5728\\u7ebf\\u9879\\u76ee\\u603b\\u6570\", \"x\": [\"9-1\", \"9-2\", \"9-3\", \"9-4\", \"10-1\"], \"y\": [59, 58, 57, 60, 69], \"type\": \"scatter\", \"uid\": \"d2d14e29-d1b9-11e8-8ddb-a41f72875c19\"}, {\"name\": \"\\u5b8c\\u6210\\u9879\\u76ee\\u603b\\u6570\", \"x\": [\"9-1\", \"9-2\", \"9-3\", \"9-4\", \"10-1\"], \"y\": [57, 79, 64, 56, 51], \"type\": \"scatter\", \"uid\": \"d2d14e2a-d1b9-11e8-8ddb-a41f72875c19\"}], {\"title\": \"\\u5728\\u7ebf\\u9879\\u76ee\\u603b\\u6570&\\u5b8c\\u6210\\u9879\\u76ee\\u603b\\u6570\\u5468\\u8d8b\\u52bf\\u56fe\", \"xaxis\": {\"mirror\": \"all\", \"nticks\": 20, \"showgrid\": true, \"showline\": true, \"title\": \"\\u5468\", \"type\": \"category\", \"zeroline\": true}, \"yaxis\": {\"mirror\": \"all\", \"nticks\": 20, \"showgrid\": true, \"showline\": true, \"title\": \"\\u5728\\u7ebf\\u9879\\u76ee\\u603b\\u6570&\\u5b8c\\u6210\\u9879\\u76ee\\u603b\\u6570\", \"zeroline\": true}}, {\"showLink\": true, \"linkText\": \"Export to plot.ly\"})});</script>"
      ]
     },
     "metadata": {},
     "output_type": "display_data"
    }
   ],
   "source": [
    "ss = myModule.format(all_df1 ,\"日期（格式“月-周次”）\" ,['完成项目总数','在线项目总数' ])\n",
    "#ss.add_group('组别')\n",
    "#ss.get_average_by('人员')\n",
    "myModule.myPlot(myModule.sort_by_index(ss.groupby('sum'))).plot('line')\n",
    "#ss = myModule.format(all_df1 ,\"month\" ,['完成项目总数','在线项目总数'])\n",
    "#ss.add_group('组别')\n",
    "#ss.get_average_by('人员')\n",
    "#myModule.myPlot(ss.groupby('sum')).plot('line','月')"
   ]
  },
  {
   "cell_type": "markdown",
   "metadata": {},
   "source": [
    "## 总在线项目数"
   ]
  },
  {
   "cell_type": "markdown",
   "metadata": {},
   "source": [
    "### 在线项目情况"
   ]
  },
  {
   "cell_type": "code",
   "execution_count": 170,
   "metadata": {
    "collapsed": false
   },
   "outputs": [
    {
     "data": {
      "application/vnd.plotly.v1+json": {
       "data": [
        {
         "name": "在线项目总数",
         "type": "scatter",
         "uid": "62b25212-d1bb-11e8-8ddb-a41f72875c19",
         "x": [
          "9-1",
          "9-2",
          "9-3",
          "9-4",
          "10-1"
         ],
         "y": [
          59,
          58,
          57,
          60,
          69
         ]
        }
       ],
       "layout": {
        "title": "在线项目总数周趋势图",
        "xaxis": {
         "mirror": "all",
         "nticks": 20,
         "showgrid": true,
         "showline": true,
         "title": "周",
         "type": "category",
         "zeroline": true
        },
        "yaxis": {
         "mirror": "all",
         "nticks": 20,
         "showgrid": true,
         "showline": true,
         "title": "在线项目总数",
         "zeroline": true
        }
       }
      },
      "text/html": [
       "<div id=\"079ccfb8-9d22-4e5f-8ffa-3b15e010c5cc\" style=\"height: 525px; width: 100%;\" class=\"plotly-graph-div\"></div><script type=\"text/javascript\">require([\"plotly\"], function(Plotly) { window.PLOTLYENV=window.PLOTLYENV || {};window.PLOTLYENV.BASE_URL=\"https://plot.ly\";Plotly.newPlot(\"079ccfb8-9d22-4e5f-8ffa-3b15e010c5cc\", [{\"name\": \"\\u5728\\u7ebf\\u9879\\u76ee\\u603b\\u6570\", \"x\": [\"9-1\", \"9-2\", \"9-3\", \"9-4\", \"10-1\"], \"y\": [59, 58, 57, 60, 69], \"type\": \"scatter\", \"uid\": \"62b25212-d1bb-11e8-8ddb-a41f72875c19\"}], {\"title\": \"\\u5728\\u7ebf\\u9879\\u76ee\\u603b\\u6570\\u5468\\u8d8b\\u52bf\\u56fe\", \"xaxis\": {\"mirror\": \"all\", \"nticks\": 20, \"showgrid\": true, \"showline\": true, \"title\": \"\\u5468\", \"type\": \"category\", \"zeroline\": true}, \"yaxis\": {\"mirror\": \"all\", \"nticks\": 20, \"showgrid\": true, \"showline\": true, \"title\": \"\\u5728\\u7ebf\\u9879\\u76ee\\u603b\\u6570\", \"zeroline\": true}}, {\"showLink\": true, \"linkText\": \"Export to plot.ly\"})});</script>"
      ],
      "text/vnd.plotly.v1+html": [
       "<div id=\"079ccfb8-9d22-4e5f-8ffa-3b15e010c5cc\" style=\"height: 525px; width: 100%;\" class=\"plotly-graph-div\"></div><script type=\"text/javascript\">require([\"plotly\"], function(Plotly) { window.PLOTLYENV=window.PLOTLYENV || {};window.PLOTLYENV.BASE_URL=\"https://plot.ly\";Plotly.newPlot(\"079ccfb8-9d22-4e5f-8ffa-3b15e010c5cc\", [{\"name\": \"\\u5728\\u7ebf\\u9879\\u76ee\\u603b\\u6570\", \"x\": [\"9-1\", \"9-2\", \"9-3\", \"9-4\", \"10-1\"], \"y\": [59, 58, 57, 60, 69], \"type\": \"scatter\", \"uid\": \"62b25212-d1bb-11e8-8ddb-a41f72875c19\"}], {\"title\": \"\\u5728\\u7ebf\\u9879\\u76ee\\u603b\\u6570\\u5468\\u8d8b\\u52bf\\u56fe\", \"xaxis\": {\"mirror\": \"all\", \"nticks\": 20, \"showgrid\": true, \"showline\": true, \"title\": \"\\u5468\", \"type\": \"category\", \"zeroline\": true}, \"yaxis\": {\"mirror\": \"all\", \"nticks\": 20, \"showgrid\": true, \"showline\": true, \"title\": \"\\u5728\\u7ebf\\u9879\\u76ee\\u603b\\u6570\", \"zeroline\": true}}, {\"showLink\": true, \"linkText\": \"Export to plot.ly\"})});</script>"
      ]
     },
     "metadata": {},
     "output_type": "display_data"
    },
    {
     "data": {
      "application/vnd.plotly.v1+json": {
       "data": [
        {
         "name": "在线项目总数",
         "type": "scatter",
         "uid": "62b25213-d1bb-11e8-8ddb-a41f72875c19",
         "x": [
          9,
          10
         ],
         "y": [
          234,
          69
         ]
        },
        {
         "name": "完成项目总数",
         "type": "scatter",
         "uid": "62b25214-d1bb-11e8-8ddb-a41f72875c19",
         "x": [
          9,
          10
         ],
         "y": [
          256,
          51
         ]
        }
       ],
       "layout": {
        "title": "在线项目总数&完成项目总数月趋势图",
        "xaxis": {
         "mirror": "all",
         "nticks": 20,
         "showgrid": true,
         "showline": true,
         "title": "月",
         "type": "category",
         "zeroline": true
        },
        "yaxis": {
         "mirror": "all",
         "nticks": 20,
         "showgrid": true,
         "showline": true,
         "title": "在线项目总数&完成项目总数",
         "zeroline": true
        }
       }
      },
      "text/html": [
       "<div id=\"8c2b110d-fcd7-429f-94b0-fc73f9dcc831\" style=\"height: 525px; width: 100%;\" class=\"plotly-graph-div\"></div><script type=\"text/javascript\">require([\"plotly\"], function(Plotly) { window.PLOTLYENV=window.PLOTLYENV || {};window.PLOTLYENV.BASE_URL=\"https://plot.ly\";Plotly.newPlot(\"8c2b110d-fcd7-429f-94b0-fc73f9dcc831\", [{\"name\": \"\\u5728\\u7ebf\\u9879\\u76ee\\u603b\\u6570\", \"x\": [9, 10], \"y\": [234, 69], \"type\": \"scatter\", \"uid\": \"62b25213-d1bb-11e8-8ddb-a41f72875c19\"}, {\"name\": \"\\u5b8c\\u6210\\u9879\\u76ee\\u603b\\u6570\", \"x\": [9, 10], \"y\": [256, 51], \"type\": \"scatter\", \"uid\": \"62b25214-d1bb-11e8-8ddb-a41f72875c19\"}], {\"title\": \"\\u5728\\u7ebf\\u9879\\u76ee\\u603b\\u6570&\\u5b8c\\u6210\\u9879\\u76ee\\u603b\\u6570\\u6708\\u8d8b\\u52bf\\u56fe\", \"xaxis\": {\"mirror\": \"all\", \"nticks\": 20, \"showgrid\": true, \"showline\": true, \"title\": \"\\u6708\", \"type\": \"category\", \"zeroline\": true}, \"yaxis\": {\"mirror\": \"all\", \"nticks\": 20, \"showgrid\": true, \"showline\": true, \"title\": \"\\u5728\\u7ebf\\u9879\\u76ee\\u603b\\u6570&\\u5b8c\\u6210\\u9879\\u76ee\\u603b\\u6570\", \"zeroline\": true}}, {\"showLink\": true, \"linkText\": \"Export to plot.ly\"})});</script>"
      ],
      "text/vnd.plotly.v1+html": [
       "<div id=\"8c2b110d-fcd7-429f-94b0-fc73f9dcc831\" style=\"height: 525px; width: 100%;\" class=\"plotly-graph-div\"></div><script type=\"text/javascript\">require([\"plotly\"], function(Plotly) { window.PLOTLYENV=window.PLOTLYENV || {};window.PLOTLYENV.BASE_URL=\"https://plot.ly\";Plotly.newPlot(\"8c2b110d-fcd7-429f-94b0-fc73f9dcc831\", [{\"name\": \"\\u5728\\u7ebf\\u9879\\u76ee\\u603b\\u6570\", \"x\": [9, 10], \"y\": [234, 69], \"type\": \"scatter\", \"uid\": \"62b25213-d1bb-11e8-8ddb-a41f72875c19\"}, {\"name\": \"\\u5b8c\\u6210\\u9879\\u76ee\\u603b\\u6570\", \"x\": [9, 10], \"y\": [256, 51], \"type\": \"scatter\", \"uid\": \"62b25214-d1bb-11e8-8ddb-a41f72875c19\"}], {\"title\": \"\\u5728\\u7ebf\\u9879\\u76ee\\u603b\\u6570&\\u5b8c\\u6210\\u9879\\u76ee\\u603b\\u6570\\u6708\\u8d8b\\u52bf\\u56fe\", \"xaxis\": {\"mirror\": \"all\", \"nticks\": 20, \"showgrid\": true, \"showline\": true, \"title\": \"\\u6708\", \"type\": \"category\", \"zeroline\": true}, \"yaxis\": {\"mirror\": \"all\", \"nticks\": 20, \"showgrid\": true, \"showline\": true, \"title\": \"\\u5728\\u7ebf\\u9879\\u76ee\\u603b\\u6570&\\u5b8c\\u6210\\u9879\\u76ee\\u603b\\u6570\", \"zeroline\": true}}, {\"showLink\": true, \"linkText\": \"Export to plot.ly\"})});</script>"
      ]
     },
     "metadata": {},
     "output_type": "display_data"
    }
   ],
   "source": [
    "ss = myModule.format(all_df1 ,\"日期（格式“月-周次”）\" ,['在线项目总数' ])\n",
    "#ss.add_group('组别')\n",
    "#ss.get_average_by('人员')\n",
    "myModule.myPlot(myModule.sort_by_index(ss.groupby('sum'))).plot('line')\n",
    "ss = myModule.format(all_df1 ,\"month\" ,['完成项目总数','在线项目总数'])\n",
    "#ss.add_group('组别')\n",
    "#ss.get_average_by('人员')\n",
    "myModule.myPlot(ss.groupby('sum')).plot('line','月')"
   ]
  },
  {
   "cell_type": "markdown",
   "metadata": {},
   "source": [
    "### 人均在线项目情况"
   ]
  },
  {
   "cell_type": "code",
   "execution_count": 153,
   "metadata": {
    "collapsed": false
   },
   "outputs": [
    {
     "data": {
      "application/vnd.plotly.v1+json": {
       "data": [
        {
         "line": {
          "dash": "solid"
         },
         "name": "在线项目总数(分析一组)",
         "type": "scatter",
         "uid": "d2d14e2e-d1b9-11e8-8ddb-a41f72875c19",
         "x": [
          "9-1",
          "9-2",
          "9-3",
          "9-4",
          "10-1"
         ],
         "y": [
          2.25,
          2.25,
          2,
          2.75,
          5.8
         ]
        },
        {
         "line": {
          "dash": "dot"
         },
         "name": "在线项目总数(个性化组)",
         "type": "scatter",
         "uid": "d2d14e2f-d1b9-11e8-8ddb-a41f72875c19",
         "x": [
          "9-1",
          "9-2",
          "9-3",
          "9-4",
          "10-1"
         ],
         "y": [
          1.75,
          1.75,
          2.5,
          2.5,
          4.8
         ]
        },
        {
         "line": {
          "dash": "dash"
         },
         "name": "在线项目总数(分析二组)",
         "type": "scatter",
         "uid": "d2d14e30-d1b9-11e8-8ddb-a41f72875c19",
         "x": [
          "9-1",
          "9-2",
          "9-3",
          "9-4",
          "10-1"
         ],
         "y": [
          4.3,
          4.2,
          3.9,
          3.9,
          4
         ]
        }
       ],
       "layout": {
        "title": "在线项目总数周趋势图",
        "xaxis": {
         "mirror": "all",
         "nticks": 20,
         "showgrid": true,
         "showline": true,
         "title": "周",
         "type": "category",
         "zeroline": true
        },
        "yaxis": {
         "mirror": "all",
         "nticks": 20,
         "showgrid": true,
         "showline": true,
         "title": "在线项目总数",
         "zeroline": true
        }
       }
      },
      "text/html": [
       "<div id=\"864fe8f2-5392-4137-84a5-43e90829e802\" style=\"height: 525px; width: 100%;\" class=\"plotly-graph-div\"></div><script type=\"text/javascript\">require([\"plotly\"], function(Plotly) { window.PLOTLYENV=window.PLOTLYENV || {};window.PLOTLYENV.BASE_URL=\"https://plot.ly\";Plotly.newPlot(\"864fe8f2-5392-4137-84a5-43e90829e802\", [{\"line\": {\"dash\": \"solid\"}, \"name\": \"\\u5728\\u7ebf\\u9879\\u76ee\\u603b\\u6570(\\u5206\\u6790\\u4e00\\u7ec4)\", \"x\": [\"9-1\", \"9-2\", \"9-3\", \"9-4\", \"10-1\"], \"y\": [2.25, 2.25, 2.0, 2.75, 5.8], \"type\": \"scatter\", \"uid\": \"d2d14e2e-d1b9-11e8-8ddb-a41f72875c19\"}, {\"line\": {\"dash\": \"dot\"}, \"name\": \"\\u5728\\u7ebf\\u9879\\u76ee\\u603b\\u6570(\\u4e2a\\u6027\\u5316\\u7ec4)\", \"x\": [\"9-1\", \"9-2\", \"9-3\", \"9-4\", \"10-1\"], \"y\": [1.75, 1.75, 2.5, 2.5, 4.8], \"type\": \"scatter\", \"uid\": \"d2d14e2f-d1b9-11e8-8ddb-a41f72875c19\"}, {\"line\": {\"dash\": \"dash\"}, \"name\": \"\\u5728\\u7ebf\\u9879\\u76ee\\u603b\\u6570(\\u5206\\u6790\\u4e8c\\u7ec4)\", \"x\": [\"9-1\", \"9-2\", \"9-3\", \"9-4\", \"10-1\"], \"y\": [4.3, 4.2, 3.9, 3.9, 4.0], \"type\": \"scatter\", \"uid\": \"d2d14e30-d1b9-11e8-8ddb-a41f72875c19\"}], {\"title\": \"\\u5728\\u7ebf\\u9879\\u76ee\\u603b\\u6570\\u5468\\u8d8b\\u52bf\\u56fe\", \"xaxis\": {\"mirror\": \"all\", \"nticks\": 20, \"showgrid\": true, \"showline\": true, \"title\": \"\\u5468\", \"type\": \"category\", \"zeroline\": true}, \"yaxis\": {\"mirror\": \"all\", \"nticks\": 20, \"showgrid\": true, \"showline\": true, \"title\": \"\\u5728\\u7ebf\\u9879\\u76ee\\u603b\\u6570\", \"zeroline\": true}}, {\"showLink\": true, \"linkText\": \"Export to plot.ly\"})});</script>"
      ],
      "text/vnd.plotly.v1+html": [
       "<div id=\"864fe8f2-5392-4137-84a5-43e90829e802\" style=\"height: 525px; width: 100%;\" class=\"plotly-graph-div\"></div><script type=\"text/javascript\">require([\"plotly\"], function(Plotly) { window.PLOTLYENV=window.PLOTLYENV || {};window.PLOTLYENV.BASE_URL=\"https://plot.ly\";Plotly.newPlot(\"864fe8f2-5392-4137-84a5-43e90829e802\", [{\"line\": {\"dash\": \"solid\"}, \"name\": \"\\u5728\\u7ebf\\u9879\\u76ee\\u603b\\u6570(\\u5206\\u6790\\u4e00\\u7ec4)\", \"x\": [\"9-1\", \"9-2\", \"9-3\", \"9-4\", \"10-1\"], \"y\": [2.25, 2.25, 2.0, 2.75, 5.8], \"type\": \"scatter\", \"uid\": \"d2d14e2e-d1b9-11e8-8ddb-a41f72875c19\"}, {\"line\": {\"dash\": \"dot\"}, \"name\": \"\\u5728\\u7ebf\\u9879\\u76ee\\u603b\\u6570(\\u4e2a\\u6027\\u5316\\u7ec4)\", \"x\": [\"9-1\", \"9-2\", \"9-3\", \"9-4\", \"10-1\"], \"y\": [1.75, 1.75, 2.5, 2.5, 4.8], \"type\": \"scatter\", \"uid\": \"d2d14e2f-d1b9-11e8-8ddb-a41f72875c19\"}, {\"line\": {\"dash\": \"dash\"}, \"name\": \"\\u5728\\u7ebf\\u9879\\u76ee\\u603b\\u6570(\\u5206\\u6790\\u4e8c\\u7ec4)\", \"x\": [\"9-1\", \"9-2\", \"9-3\", \"9-4\", \"10-1\"], \"y\": [4.3, 4.2, 3.9, 3.9, 4.0], \"type\": \"scatter\", \"uid\": \"d2d14e30-d1b9-11e8-8ddb-a41f72875c19\"}], {\"title\": \"\\u5728\\u7ebf\\u9879\\u76ee\\u603b\\u6570\\u5468\\u8d8b\\u52bf\\u56fe\", \"xaxis\": {\"mirror\": \"all\", \"nticks\": 20, \"showgrid\": true, \"showline\": true, \"title\": \"\\u5468\", \"type\": \"category\", \"zeroline\": true}, \"yaxis\": {\"mirror\": \"all\", \"nticks\": 20, \"showgrid\": true, \"showline\": true, \"title\": \"\\u5728\\u7ebf\\u9879\\u76ee\\u603b\\u6570\", \"zeroline\": true}}, {\"showLink\": true, \"linkText\": \"Export to plot.ly\"})});</script>"
      ]
     },
     "metadata": {},
     "output_type": "display_data"
    },
    {
     "data": {
      "application/vnd.plotly.v1+json": {
       "data": [
        {
         "line": {
          "dash": "solid"
         },
         "name": "在线项目总数(分析一组)",
         "type": "scatter",
         "uid": "d2d14e31-d1b9-11e8-8ddb-a41f72875c19",
         "x": [
          9,
          10
         ],
         "y": [
          9.25,
          5.8
         ]
        },
        {
         "line": {
          "dash": "dot"
         },
         "name": "在线项目总数(个性化组)",
         "type": "scatter",
         "uid": "d2d14e32-d1b9-11e8-8ddb-a41f72875c19",
         "x": [
          9,
          10
         ],
         "y": [
          8.5,
          4.8
         ]
        },
        {
         "line": {
          "dash": "dash"
         },
         "name": "在线项目总数(分析二组)",
         "type": "scatter",
         "uid": "d2d14e33-d1b9-11e8-8ddb-a41f72875c19",
         "x": [
          9,
          10
         ],
         "y": [
          16.3,
          4
         ]
        },
        {
         "line": {
          "dash": "solid"
         },
         "name": "完成项目总数(分析一组)",
         "type": "scatter",
         "uid": "d2d14e34-d1b9-11e8-8ddb-a41f72875c19",
         "x": [
          9,
          10
         ],
         "y": [
          11.25,
          4.6
         ]
        },
        {
         "line": {
          "dash": "dot"
         },
         "name": "完成项目总数(个性化组)",
         "type": "scatter",
         "uid": "d2d14e35-d1b9-11e8-8ddb-a41f72875c19",
         "x": [
          9,
          10
         ],
         "y": [
          14.75,
          1.8
         ]
        },
        {
         "line": {
          "dash": "dash"
         },
         "name": "完成项目总数(分析二组)",
         "type": "scatter",
         "uid": "d2d14e36-d1b9-11e8-8ddb-a41f72875c19",
         "x": [
          9,
          10
         ],
         "y": [
          15.2,
          4.75
         ]
        }
       ],
       "layout": {
        "title": "在线项目总数&完成项目总数月趋势图",
        "xaxis": {
         "mirror": "all",
         "nticks": 20,
         "showgrid": true,
         "showline": true,
         "title": "月",
         "type": "category",
         "zeroline": true
        },
        "yaxis": {
         "mirror": "all",
         "nticks": 20,
         "showgrid": true,
         "showline": true,
         "title": "在线项目总数&完成项目总数",
         "zeroline": true
        }
       }
      },
      "text/html": [
       "<div id=\"edfe8621-721e-4e85-9045-de70b069ca6c\" style=\"height: 525px; width: 100%;\" class=\"plotly-graph-div\"></div><script type=\"text/javascript\">require([\"plotly\"], function(Plotly) { window.PLOTLYENV=window.PLOTLYENV || {};window.PLOTLYENV.BASE_URL=\"https://plot.ly\";Plotly.newPlot(\"edfe8621-721e-4e85-9045-de70b069ca6c\", [{\"line\": {\"dash\": \"solid\"}, \"name\": \"\\u5728\\u7ebf\\u9879\\u76ee\\u603b\\u6570(\\u5206\\u6790\\u4e00\\u7ec4)\", \"x\": [9, 10], \"y\": [9.25, 5.8], \"type\": \"scatter\", \"uid\": \"d2d14e31-d1b9-11e8-8ddb-a41f72875c19\"}, {\"line\": {\"dash\": \"dot\"}, \"name\": \"\\u5728\\u7ebf\\u9879\\u76ee\\u603b\\u6570(\\u4e2a\\u6027\\u5316\\u7ec4)\", \"x\": [9, 10], \"y\": [8.5, 4.8], \"type\": \"scatter\", \"uid\": \"d2d14e32-d1b9-11e8-8ddb-a41f72875c19\"}, {\"line\": {\"dash\": \"dash\"}, \"name\": \"\\u5728\\u7ebf\\u9879\\u76ee\\u603b\\u6570(\\u5206\\u6790\\u4e8c\\u7ec4)\", \"x\": [9, 10], \"y\": [16.3, 4.0], \"type\": \"scatter\", \"uid\": \"d2d14e33-d1b9-11e8-8ddb-a41f72875c19\"}, {\"line\": {\"dash\": \"solid\"}, \"name\": \"\\u5b8c\\u6210\\u9879\\u76ee\\u603b\\u6570(\\u5206\\u6790\\u4e00\\u7ec4)\", \"x\": [9, 10], \"y\": [11.25, 4.6], \"type\": \"scatter\", \"uid\": \"d2d14e34-d1b9-11e8-8ddb-a41f72875c19\"}, {\"line\": {\"dash\": \"dot\"}, \"name\": \"\\u5b8c\\u6210\\u9879\\u76ee\\u603b\\u6570(\\u4e2a\\u6027\\u5316\\u7ec4)\", \"x\": [9, 10], \"y\": [14.75, 1.8], \"type\": \"scatter\", \"uid\": \"d2d14e35-d1b9-11e8-8ddb-a41f72875c19\"}, {\"line\": {\"dash\": \"dash\"}, \"name\": \"\\u5b8c\\u6210\\u9879\\u76ee\\u603b\\u6570(\\u5206\\u6790\\u4e8c\\u7ec4)\", \"x\": [9, 10], \"y\": [15.2, 4.75], \"type\": \"scatter\", \"uid\": \"d2d14e36-d1b9-11e8-8ddb-a41f72875c19\"}], {\"title\": \"\\u5728\\u7ebf\\u9879\\u76ee\\u603b\\u6570&\\u5b8c\\u6210\\u9879\\u76ee\\u603b\\u6570\\u6708\\u8d8b\\u52bf\\u56fe\", \"xaxis\": {\"mirror\": \"all\", \"nticks\": 20, \"showgrid\": true, \"showline\": true, \"title\": \"\\u6708\", \"type\": \"category\", \"zeroline\": true}, \"yaxis\": {\"mirror\": \"all\", \"nticks\": 20, \"showgrid\": true, \"showline\": true, \"title\": \"\\u5728\\u7ebf\\u9879\\u76ee\\u603b\\u6570&\\u5b8c\\u6210\\u9879\\u76ee\\u603b\\u6570\", \"zeroline\": true}}, {\"showLink\": true, \"linkText\": \"Export to plot.ly\"})});</script>"
      ],
      "text/vnd.plotly.v1+html": [
       "<div id=\"edfe8621-721e-4e85-9045-de70b069ca6c\" style=\"height: 525px; width: 100%;\" class=\"plotly-graph-div\"></div><script type=\"text/javascript\">require([\"plotly\"], function(Plotly) { window.PLOTLYENV=window.PLOTLYENV || {};window.PLOTLYENV.BASE_URL=\"https://plot.ly\";Plotly.newPlot(\"edfe8621-721e-4e85-9045-de70b069ca6c\", [{\"line\": {\"dash\": \"solid\"}, \"name\": \"\\u5728\\u7ebf\\u9879\\u76ee\\u603b\\u6570(\\u5206\\u6790\\u4e00\\u7ec4)\", \"x\": [9, 10], \"y\": [9.25, 5.8], \"type\": \"scatter\", \"uid\": \"d2d14e31-d1b9-11e8-8ddb-a41f72875c19\"}, {\"line\": {\"dash\": \"dot\"}, \"name\": \"\\u5728\\u7ebf\\u9879\\u76ee\\u603b\\u6570(\\u4e2a\\u6027\\u5316\\u7ec4)\", \"x\": [9, 10], \"y\": [8.5, 4.8], \"type\": \"scatter\", \"uid\": \"d2d14e32-d1b9-11e8-8ddb-a41f72875c19\"}, {\"line\": {\"dash\": \"dash\"}, \"name\": \"\\u5728\\u7ebf\\u9879\\u76ee\\u603b\\u6570(\\u5206\\u6790\\u4e8c\\u7ec4)\", \"x\": [9, 10], \"y\": [16.3, 4.0], \"type\": \"scatter\", \"uid\": \"d2d14e33-d1b9-11e8-8ddb-a41f72875c19\"}, {\"line\": {\"dash\": \"solid\"}, \"name\": \"\\u5b8c\\u6210\\u9879\\u76ee\\u603b\\u6570(\\u5206\\u6790\\u4e00\\u7ec4)\", \"x\": [9, 10], \"y\": [11.25, 4.6], \"type\": \"scatter\", \"uid\": \"d2d14e34-d1b9-11e8-8ddb-a41f72875c19\"}, {\"line\": {\"dash\": \"dot\"}, \"name\": \"\\u5b8c\\u6210\\u9879\\u76ee\\u603b\\u6570(\\u4e2a\\u6027\\u5316\\u7ec4)\", \"x\": [9, 10], \"y\": [14.75, 1.8], \"type\": \"scatter\", \"uid\": \"d2d14e35-d1b9-11e8-8ddb-a41f72875c19\"}, {\"line\": {\"dash\": \"dash\"}, \"name\": \"\\u5b8c\\u6210\\u9879\\u76ee\\u603b\\u6570(\\u5206\\u6790\\u4e8c\\u7ec4)\", \"x\": [9, 10], \"y\": [15.2, 4.75], \"type\": \"scatter\", \"uid\": \"d2d14e36-d1b9-11e8-8ddb-a41f72875c19\"}], {\"title\": \"\\u5728\\u7ebf\\u9879\\u76ee\\u603b\\u6570&\\u5b8c\\u6210\\u9879\\u76ee\\u603b\\u6570\\u6708\\u8d8b\\u52bf\\u56fe\", \"xaxis\": {\"mirror\": \"all\", \"nticks\": 20, \"showgrid\": true, \"showline\": true, \"title\": \"\\u6708\", \"type\": \"category\", \"zeroline\": true}, \"yaxis\": {\"mirror\": \"all\", \"nticks\": 20, \"showgrid\": true, \"showline\": true, \"title\": \"\\u5728\\u7ebf\\u9879\\u76ee\\u603b\\u6570&\\u5b8c\\u6210\\u9879\\u76ee\\u603b\\u6570\", \"zeroline\": true}}, {\"showLink\": true, \"linkText\": \"Export to plot.ly\"})});</script>"
      ]
     },
     "metadata": {},
     "output_type": "display_data"
    }
   ],
   "source": [
    "ss = myModule.format(all_df1 ,\"日期（格式“月-周次”）\" ,['在线项目总数' ])\n",
    "ss.add_group('组别')\n",
    "ss.get_average_by('人员')\n",
    "myModule.myPlot(myModule.sort_by_index(ss.groupby('sum'))).plot('line')\n",
    "ss = myModule.format(all_df1 ,\"month\" ,['完成项目总数','在线项目总数'])\n",
    "ss.add_group('组别')\n",
    "ss.get_average_by('人员')\n",
    "myModule.myPlot(ss.groupby('sum')).plot('line','月')"
   ]
  },
  {
   "cell_type": "markdown",
   "metadata": {},
   "source": [
    "## 未下机商业项目数"
   ]
  },
  {
   "cell_type": "code",
   "execution_count": 154,
   "metadata": {
    "collapsed": false
   },
   "outputs": [
    {
     "data": {
      "application/vnd.plotly.v1+json": {
       "data": [
        {
         "name": "未下机项目数",
         "type": "scatter",
         "uid": "d2d14e37-d1b9-11e8-8ddb-a41f72875c19",
         "x": [
          "9-1",
          "9-2",
          "9-3",
          "9-4",
          "10-1"
         ],
         "y": [
          127,
          115,
          121,
          96,
          81
         ]
        }
       ],
       "layout": {
        "title": "未下机项目数周趋势图",
        "xaxis": {
         "mirror": "all",
         "nticks": 20,
         "showgrid": true,
         "showline": true,
         "title": "周",
         "type": "category",
         "zeroline": true
        },
        "yaxis": {
         "mirror": "all",
         "nticks": 20,
         "showgrid": true,
         "showline": true,
         "title": "未下机项目数",
         "zeroline": true
        }
       }
      },
      "text/html": [
       "<div id=\"830d9872-3d29-478f-b805-16fd94adf653\" style=\"height: 525px; width: 100%;\" class=\"plotly-graph-div\"></div><script type=\"text/javascript\">require([\"plotly\"], function(Plotly) { window.PLOTLYENV=window.PLOTLYENV || {};window.PLOTLYENV.BASE_URL=\"https://plot.ly\";Plotly.newPlot(\"830d9872-3d29-478f-b805-16fd94adf653\", [{\"name\": \"\\u672a\\u4e0b\\u673a\\u9879\\u76ee\\u6570\", \"x\": [\"9-1\", \"9-2\", \"9-3\", \"9-4\", \"10-1\"], \"y\": [127, 115, 121, 96, 81], \"type\": \"scatter\", \"uid\": \"d2d14e37-d1b9-11e8-8ddb-a41f72875c19\"}], {\"title\": \"\\u672a\\u4e0b\\u673a\\u9879\\u76ee\\u6570\\u5468\\u8d8b\\u52bf\\u56fe\", \"xaxis\": {\"mirror\": \"all\", \"nticks\": 20, \"showgrid\": true, \"showline\": true, \"title\": \"\\u5468\", \"type\": \"category\", \"zeroline\": true}, \"yaxis\": {\"mirror\": \"all\", \"nticks\": 20, \"showgrid\": true, \"showline\": true, \"title\": \"\\u672a\\u4e0b\\u673a\\u9879\\u76ee\\u6570\", \"zeroline\": true}}, {\"showLink\": true, \"linkText\": \"Export to plot.ly\"})});</script>"
      ],
      "text/vnd.plotly.v1+html": [
       "<div id=\"830d9872-3d29-478f-b805-16fd94adf653\" style=\"height: 525px; width: 100%;\" class=\"plotly-graph-div\"></div><script type=\"text/javascript\">require([\"plotly\"], function(Plotly) { window.PLOTLYENV=window.PLOTLYENV || {};window.PLOTLYENV.BASE_URL=\"https://plot.ly\";Plotly.newPlot(\"830d9872-3d29-478f-b805-16fd94adf653\", [{\"name\": \"\\u672a\\u4e0b\\u673a\\u9879\\u76ee\\u6570\", \"x\": [\"9-1\", \"9-2\", \"9-3\", \"9-4\", \"10-1\"], \"y\": [127, 115, 121, 96, 81], \"type\": \"scatter\", \"uid\": \"d2d14e37-d1b9-11e8-8ddb-a41f72875c19\"}], {\"title\": \"\\u672a\\u4e0b\\u673a\\u9879\\u76ee\\u6570\\u5468\\u8d8b\\u52bf\\u56fe\", \"xaxis\": {\"mirror\": \"all\", \"nticks\": 20, \"showgrid\": true, \"showline\": true, \"title\": \"\\u5468\", \"type\": \"category\", \"zeroline\": true}, \"yaxis\": {\"mirror\": \"all\", \"nticks\": 20, \"showgrid\": true, \"showline\": true, \"title\": \"\\u672a\\u4e0b\\u673a\\u9879\\u76ee\\u6570\", \"zeroline\": true}}, {\"showLink\": true, \"linkText\": \"Export to plot.ly\"})});</script>"
      ]
     },
     "metadata": {},
     "output_type": "display_data"
    },
    {
     "data": {
      "application/vnd.plotly.v1+json": {
       "data": [
        {
         "name": "未下机项目数",
         "type": "scatter",
         "uid": "d2d14e38-d1b9-11e8-8ddb-a41f72875c19",
         "x": [
          9,
          10
         ],
         "y": [
          459,
          81
         ]
        }
       ],
       "layout": {
        "title": "未下机项目数月趋势图",
        "xaxis": {
         "mirror": "all",
         "nticks": 20,
         "showgrid": true,
         "showline": true,
         "title": "月",
         "type": "category",
         "zeroline": true
        },
        "yaxis": {
         "mirror": "all",
         "nticks": 20,
         "showgrid": true,
         "showline": true,
         "title": "未下机项目数",
         "zeroline": true
        }
       }
      },
      "text/html": [
       "<div id=\"fb23711a-9fa3-48b7-b04e-dab1e1535e73\" style=\"height: 525px; width: 100%;\" class=\"plotly-graph-div\"></div><script type=\"text/javascript\">require([\"plotly\"], function(Plotly) { window.PLOTLYENV=window.PLOTLYENV || {};window.PLOTLYENV.BASE_URL=\"https://plot.ly\";Plotly.newPlot(\"fb23711a-9fa3-48b7-b04e-dab1e1535e73\", [{\"name\": \"\\u672a\\u4e0b\\u673a\\u9879\\u76ee\\u6570\", \"x\": [9, 10], \"y\": [459, 81], \"type\": \"scatter\", \"uid\": \"d2d14e38-d1b9-11e8-8ddb-a41f72875c19\"}], {\"title\": \"\\u672a\\u4e0b\\u673a\\u9879\\u76ee\\u6570\\u6708\\u8d8b\\u52bf\\u56fe\", \"xaxis\": {\"mirror\": \"all\", \"nticks\": 20, \"showgrid\": true, \"showline\": true, \"title\": \"\\u6708\", \"type\": \"category\", \"zeroline\": true}, \"yaxis\": {\"mirror\": \"all\", \"nticks\": 20, \"showgrid\": true, \"showline\": true, \"title\": \"\\u672a\\u4e0b\\u673a\\u9879\\u76ee\\u6570\", \"zeroline\": true}}, {\"showLink\": true, \"linkText\": \"Export to plot.ly\"})});</script>"
      ],
      "text/vnd.plotly.v1+html": [
       "<div id=\"fb23711a-9fa3-48b7-b04e-dab1e1535e73\" style=\"height: 525px; width: 100%;\" class=\"plotly-graph-div\"></div><script type=\"text/javascript\">require([\"plotly\"], function(Plotly) { window.PLOTLYENV=window.PLOTLYENV || {};window.PLOTLYENV.BASE_URL=\"https://plot.ly\";Plotly.newPlot(\"fb23711a-9fa3-48b7-b04e-dab1e1535e73\", [{\"name\": \"\\u672a\\u4e0b\\u673a\\u9879\\u76ee\\u6570\", \"x\": [9, 10], \"y\": [459, 81], \"type\": \"scatter\", \"uid\": \"d2d14e38-d1b9-11e8-8ddb-a41f72875c19\"}], {\"title\": \"\\u672a\\u4e0b\\u673a\\u9879\\u76ee\\u6570\\u6708\\u8d8b\\u52bf\\u56fe\", \"xaxis\": {\"mirror\": \"all\", \"nticks\": 20, \"showgrid\": true, \"showline\": true, \"title\": \"\\u6708\", \"type\": \"category\", \"zeroline\": true}, \"yaxis\": {\"mirror\": \"all\", \"nticks\": 20, \"showgrid\": true, \"showline\": true, \"title\": \"\\u672a\\u4e0b\\u673a\\u9879\\u76ee\\u6570\", \"zeroline\": true}}, {\"showLink\": true, \"linkText\": \"Export to plot.ly\"})});</script>"
      ]
     },
     "metadata": {},
     "output_type": "display_data"
    }
   ],
   "source": [
    "ss = myModule.format(all_df1 ,\"日期（格式“月-周次”）\" ,['未下机项目数' ])\n",
    "#ss.add_group('组别')\n",
    "#ss.get_average_by('人员')\n",
    "myModule.myPlot(myModule.sort_by_index(ss.groupby('sum'))).plot('line')\n",
    "ss = myModule.format(all_df1 ,\"month\" ,['未下机项目数' ])\n",
    "#ss.add_group('组别')\n",
    "#ss.get_average_by('人员')\n",
    "myModule.myPlot(ss.groupby('sum')).plot('line','月')"
   ]
  },
  {
   "cell_type": "markdown",
   "metadata": {},
   "source": [
    "# 项目质量情况"
   ]
  },
  {
   "cell_type": "markdown",
   "metadata": {},
   "source": [
    "## 项目周期情况"
   ]
  },
  {
   "cell_type": "markdown",
   "metadata": {},
   "source": [
    "### 延期项目数"
   ]
  },
  {
   "cell_type": "code",
   "execution_count": 155,
   "metadata": {
    "collapsed": false
   },
   "outputs": [
    {
     "data": {
      "application/vnd.plotly.v1+json": {
       "data": [
        {
         "name": "延期个性化项目数",
         "type": "scatter",
         "uid": "d2d14e39-d1b9-11e8-8ddb-a41f72875c19",
         "x": [
          "9-1",
          "9-2",
          "9-3",
          "9-4",
          "10-1"
         ],
         "y": [
          3,
          0,
          0,
          1,
          0
         ]
        },
        {
         "name": "延期商业项目数",
         "type": "scatter",
         "uid": "d2d14e3a-d1b9-11e8-8ddb-a41f72875c19",
         "x": [
          "9-1",
          "9-2",
          "9-3",
          "9-4",
          "10-1"
         ],
         "y": [
          0,
          0,
          1,
          1,
          2
         ]
        }
       ],
       "layout": {
        "title": "延期个性化项目数&延期商业项目数周趋势图",
        "xaxis": {
         "mirror": "all",
         "nticks": 20,
         "showgrid": true,
         "showline": true,
         "title": "周",
         "type": "category",
         "zeroline": true
        },
        "yaxis": {
         "mirror": "all",
         "nticks": 20,
         "showgrid": true,
         "showline": true,
         "title": "延期个性化项目数&延期商业项目数",
         "zeroline": true
        }
       }
      },
      "text/html": [
       "<div id=\"486b7833-6851-4edf-9768-e545c616457f\" style=\"height: 525px; width: 100%;\" class=\"plotly-graph-div\"></div><script type=\"text/javascript\">require([\"plotly\"], function(Plotly) { window.PLOTLYENV=window.PLOTLYENV || {};window.PLOTLYENV.BASE_URL=\"https://plot.ly\";Plotly.newPlot(\"486b7833-6851-4edf-9768-e545c616457f\", [{\"name\": \"\\u5ef6\\u671f\\u4e2a\\u6027\\u5316\\u9879\\u76ee\\u6570\", \"x\": [\"9-1\", \"9-2\", \"9-3\", \"9-4\", \"10-1\"], \"y\": [3, 0, 0, 1, 0], \"type\": \"scatter\", \"uid\": \"d2d14e39-d1b9-11e8-8ddb-a41f72875c19\"}, {\"name\": \"\\u5ef6\\u671f\\u5546\\u4e1a\\u9879\\u76ee\\u6570\", \"x\": [\"9-1\", \"9-2\", \"9-3\", \"9-4\", \"10-1\"], \"y\": [0, 0, 1, 1, 2], \"type\": \"scatter\", \"uid\": \"d2d14e3a-d1b9-11e8-8ddb-a41f72875c19\"}], {\"title\": \"\\u5ef6\\u671f\\u4e2a\\u6027\\u5316\\u9879\\u76ee\\u6570&\\u5ef6\\u671f\\u5546\\u4e1a\\u9879\\u76ee\\u6570\\u5468\\u8d8b\\u52bf\\u56fe\", \"xaxis\": {\"mirror\": \"all\", \"nticks\": 20, \"showgrid\": true, \"showline\": true, \"title\": \"\\u5468\", \"type\": \"category\", \"zeroline\": true}, \"yaxis\": {\"mirror\": \"all\", \"nticks\": 20, \"showgrid\": true, \"showline\": true, \"title\": \"\\u5ef6\\u671f\\u4e2a\\u6027\\u5316\\u9879\\u76ee\\u6570&\\u5ef6\\u671f\\u5546\\u4e1a\\u9879\\u76ee\\u6570\", \"zeroline\": true}}, {\"showLink\": true, \"linkText\": \"Export to plot.ly\"})});</script>"
      ],
      "text/vnd.plotly.v1+html": [
       "<div id=\"486b7833-6851-4edf-9768-e545c616457f\" style=\"height: 525px; width: 100%;\" class=\"plotly-graph-div\"></div><script type=\"text/javascript\">require([\"plotly\"], function(Plotly) { window.PLOTLYENV=window.PLOTLYENV || {};window.PLOTLYENV.BASE_URL=\"https://plot.ly\";Plotly.newPlot(\"486b7833-6851-4edf-9768-e545c616457f\", [{\"name\": \"\\u5ef6\\u671f\\u4e2a\\u6027\\u5316\\u9879\\u76ee\\u6570\", \"x\": [\"9-1\", \"9-2\", \"9-3\", \"9-4\", \"10-1\"], \"y\": [3, 0, 0, 1, 0], \"type\": \"scatter\", \"uid\": \"d2d14e39-d1b9-11e8-8ddb-a41f72875c19\"}, {\"name\": \"\\u5ef6\\u671f\\u5546\\u4e1a\\u9879\\u76ee\\u6570\", \"x\": [\"9-1\", \"9-2\", \"9-3\", \"9-4\", \"10-1\"], \"y\": [0, 0, 1, 1, 2], \"type\": \"scatter\", \"uid\": \"d2d14e3a-d1b9-11e8-8ddb-a41f72875c19\"}], {\"title\": \"\\u5ef6\\u671f\\u4e2a\\u6027\\u5316\\u9879\\u76ee\\u6570&\\u5ef6\\u671f\\u5546\\u4e1a\\u9879\\u76ee\\u6570\\u5468\\u8d8b\\u52bf\\u56fe\", \"xaxis\": {\"mirror\": \"all\", \"nticks\": 20, \"showgrid\": true, \"showline\": true, \"title\": \"\\u5468\", \"type\": \"category\", \"zeroline\": true}, \"yaxis\": {\"mirror\": \"all\", \"nticks\": 20, \"showgrid\": true, \"showline\": true, \"title\": \"\\u5ef6\\u671f\\u4e2a\\u6027\\u5316\\u9879\\u76ee\\u6570&\\u5ef6\\u671f\\u5546\\u4e1a\\u9879\\u76ee\\u6570\", \"zeroline\": true}}, {\"showLink\": true, \"linkText\": \"Export to plot.ly\"})});</script>"
      ]
     },
     "metadata": {},
     "output_type": "display_data"
    },
    {
     "data": {
      "application/vnd.plotly.v1+json": {
       "data": [
        {
         "name": "延期个性化项目数",
         "type": "scatter",
         "uid": "d2d14e3b-d1b9-11e8-8ddb-a41f72875c19",
         "x": [
          9,
          10
         ],
         "y": [
          4,
          0
         ]
        },
        {
         "name": "延期商业项目数",
         "type": "scatter",
         "uid": "d2d14e3c-d1b9-11e8-8ddb-a41f72875c19",
         "x": [
          9,
          10
         ],
         "y": [
          2,
          2
         ]
        }
       ],
       "layout": {
        "title": "延期个性化项目数&延期商业项目数月趋势图",
        "xaxis": {
         "mirror": "all",
         "nticks": 20,
         "showgrid": true,
         "showline": true,
         "title": "月",
         "type": "category",
         "zeroline": true
        },
        "yaxis": {
         "mirror": "all",
         "nticks": 20,
         "showgrid": true,
         "showline": true,
         "title": "延期个性化项目数&延期商业项目数",
         "zeroline": true
        }
       }
      },
      "text/html": [
       "<div id=\"fe7670c5-d0a7-4214-a4a8-6387008baf4c\" style=\"height: 525px; width: 100%;\" class=\"plotly-graph-div\"></div><script type=\"text/javascript\">require([\"plotly\"], function(Plotly) { window.PLOTLYENV=window.PLOTLYENV || {};window.PLOTLYENV.BASE_URL=\"https://plot.ly\";Plotly.newPlot(\"fe7670c5-d0a7-4214-a4a8-6387008baf4c\", [{\"name\": \"\\u5ef6\\u671f\\u4e2a\\u6027\\u5316\\u9879\\u76ee\\u6570\", \"x\": [9, 10], \"y\": [4, 0], \"type\": \"scatter\", \"uid\": \"d2d14e3b-d1b9-11e8-8ddb-a41f72875c19\"}, {\"name\": \"\\u5ef6\\u671f\\u5546\\u4e1a\\u9879\\u76ee\\u6570\", \"x\": [9, 10], \"y\": [2, 2], \"type\": \"scatter\", \"uid\": \"d2d14e3c-d1b9-11e8-8ddb-a41f72875c19\"}], {\"title\": \"\\u5ef6\\u671f\\u4e2a\\u6027\\u5316\\u9879\\u76ee\\u6570&\\u5ef6\\u671f\\u5546\\u4e1a\\u9879\\u76ee\\u6570\\u6708\\u8d8b\\u52bf\\u56fe\", \"xaxis\": {\"mirror\": \"all\", \"nticks\": 20, \"showgrid\": true, \"showline\": true, \"title\": \"\\u6708\", \"type\": \"category\", \"zeroline\": true}, \"yaxis\": {\"mirror\": \"all\", \"nticks\": 20, \"showgrid\": true, \"showline\": true, \"title\": \"\\u5ef6\\u671f\\u4e2a\\u6027\\u5316\\u9879\\u76ee\\u6570&\\u5ef6\\u671f\\u5546\\u4e1a\\u9879\\u76ee\\u6570\", \"zeroline\": true}}, {\"showLink\": true, \"linkText\": \"Export to plot.ly\"})});</script>"
      ],
      "text/vnd.plotly.v1+html": [
       "<div id=\"fe7670c5-d0a7-4214-a4a8-6387008baf4c\" style=\"height: 525px; width: 100%;\" class=\"plotly-graph-div\"></div><script type=\"text/javascript\">require([\"plotly\"], function(Plotly) { window.PLOTLYENV=window.PLOTLYENV || {};window.PLOTLYENV.BASE_URL=\"https://plot.ly\";Plotly.newPlot(\"fe7670c5-d0a7-4214-a4a8-6387008baf4c\", [{\"name\": \"\\u5ef6\\u671f\\u4e2a\\u6027\\u5316\\u9879\\u76ee\\u6570\", \"x\": [9, 10], \"y\": [4, 0], \"type\": \"scatter\", \"uid\": \"d2d14e3b-d1b9-11e8-8ddb-a41f72875c19\"}, {\"name\": \"\\u5ef6\\u671f\\u5546\\u4e1a\\u9879\\u76ee\\u6570\", \"x\": [9, 10], \"y\": [2, 2], \"type\": \"scatter\", \"uid\": \"d2d14e3c-d1b9-11e8-8ddb-a41f72875c19\"}], {\"title\": \"\\u5ef6\\u671f\\u4e2a\\u6027\\u5316\\u9879\\u76ee\\u6570&\\u5ef6\\u671f\\u5546\\u4e1a\\u9879\\u76ee\\u6570\\u6708\\u8d8b\\u52bf\\u56fe\", \"xaxis\": {\"mirror\": \"all\", \"nticks\": 20, \"showgrid\": true, \"showline\": true, \"title\": \"\\u6708\", \"type\": \"category\", \"zeroline\": true}, \"yaxis\": {\"mirror\": \"all\", \"nticks\": 20, \"showgrid\": true, \"showline\": true, \"title\": \"\\u5ef6\\u671f\\u4e2a\\u6027\\u5316\\u9879\\u76ee\\u6570&\\u5ef6\\u671f\\u5546\\u4e1a\\u9879\\u76ee\\u6570\", \"zeroline\": true}}, {\"showLink\": true, \"linkText\": \"Export to plot.ly\"})});</script>"
      ]
     },
     "metadata": {},
     "output_type": "display_data"
    }
   ],
   "source": [
    "ss = myModule.format(all_df2 ,\"日期（格式“月-周次”）\" ,['延期商业项目数','延期个性化项目数' ])\n",
    "#ss.add_group('组别')\n",
    "#ss.get_average_by('人员')\n",
    "myModule.myPlot(myModule.sort_by_index(ss.groupby('sum'))).plot('line')\n",
    "ss = myModule.format(all_df2 ,\"month\" ,['延期商业项目数','延期个性化项目数' ])\n",
    "#ss.add_group('组别')\n",
    "#ss.get_average_by('人员')\n",
    "myModule.myPlot(ss.groupby('sum')).plot('line','月')"
   ]
  },
  {
   "cell_type": "markdown",
   "metadata": {},
   "source": [
    "### 项目执行延期率"
   ]
  },
  {
   "cell_type": "code",
   "execution_count": 156,
   "metadata": {
    "collapsed": false
   },
   "outputs": [],
   "source": [
    "#data_dict = {'商业项目延期率':['延期商业项目数', '总商业项目数'], \n",
    "#             '个性化项目延期率':['延期个性化项目数', '总个性化数'],\n",
    "#             '总延期率':['总延期项目数', '总项目数']}\n",
    "#myModule.plot( all_dict, data_dict, '人员' ,  'line' , total=True ,time_list = time_list)\n",
    "#myModule.plot( all_dict, data_dict, '组别' ,  'line' ,time_list = time_list)"
   ]
  },
  {
   "cell_type": "markdown",
   "metadata": {},
   "source": [
    "## 项目过程执行情况"
   ]
  },
  {
   "cell_type": "markdown",
   "metadata": {},
   "source": [
    "### 反馈延期数"
   ]
  },
  {
   "cell_type": "code",
   "execution_count": 157,
   "metadata": {
    "collapsed": false
   },
   "outputs": [
    {
     "data": {
      "application/vnd.plotly.v1+json": {
       "data": [
        {
         "name": "24h内未完成数据反馈项目数",
         "type": "scatter",
         "uid": "d2d14e3d-d1b9-11e8-8ddb-a41f72875c19",
         "x": [
          "9-1",
          "9-2",
          "9-3",
          "9-4",
          "10-1"
         ],
         "y": [
          0,
          0,
          1,
          3,
          1
         ]
        }
       ],
       "layout": {
        "title": "24h内未完成数据反馈项目数周趋势图",
        "xaxis": {
         "mirror": "all",
         "nticks": 20,
         "showgrid": true,
         "showline": true,
         "title": "周",
         "type": "category",
         "zeroline": true
        },
        "yaxis": {
         "mirror": "all",
         "nticks": 20,
         "showgrid": true,
         "showline": true,
         "title": "24h内未完成数据反馈项目数",
         "zeroline": true
        }
       }
      },
      "text/html": [
       "<div id=\"99e33989-1dda-48a9-a4b2-97537ff277f2\" style=\"height: 525px; width: 100%;\" class=\"plotly-graph-div\"></div><script type=\"text/javascript\">require([\"plotly\"], function(Plotly) { window.PLOTLYENV=window.PLOTLYENV || {};window.PLOTLYENV.BASE_URL=\"https://plot.ly\";Plotly.newPlot(\"99e33989-1dda-48a9-a4b2-97537ff277f2\", [{\"name\": \"24h\\u5185\\u672a\\u5b8c\\u6210\\u6570\\u636e\\u53cd\\u9988\\u9879\\u76ee\\u6570\", \"x\": [\"9-1\", \"9-2\", \"9-3\", \"9-4\", \"10-1\"], \"y\": [0, 0, 1, 3, 1], \"type\": \"scatter\", \"uid\": \"d2d14e3d-d1b9-11e8-8ddb-a41f72875c19\"}], {\"title\": \"24h\\u5185\\u672a\\u5b8c\\u6210\\u6570\\u636e\\u53cd\\u9988\\u9879\\u76ee\\u6570\\u5468\\u8d8b\\u52bf\\u56fe\", \"xaxis\": {\"mirror\": \"all\", \"nticks\": 20, \"showgrid\": true, \"showline\": true, \"title\": \"\\u5468\", \"type\": \"category\", \"zeroline\": true}, \"yaxis\": {\"mirror\": \"all\", \"nticks\": 20, \"showgrid\": true, \"showline\": true, \"title\": \"24h\\u5185\\u672a\\u5b8c\\u6210\\u6570\\u636e\\u53cd\\u9988\\u9879\\u76ee\\u6570\", \"zeroline\": true}}, {\"showLink\": true, \"linkText\": \"Export to plot.ly\"})});</script>"
      ],
      "text/vnd.plotly.v1+html": [
       "<div id=\"99e33989-1dda-48a9-a4b2-97537ff277f2\" style=\"height: 525px; width: 100%;\" class=\"plotly-graph-div\"></div><script type=\"text/javascript\">require([\"plotly\"], function(Plotly) { window.PLOTLYENV=window.PLOTLYENV || {};window.PLOTLYENV.BASE_URL=\"https://plot.ly\";Plotly.newPlot(\"99e33989-1dda-48a9-a4b2-97537ff277f2\", [{\"name\": \"24h\\u5185\\u672a\\u5b8c\\u6210\\u6570\\u636e\\u53cd\\u9988\\u9879\\u76ee\\u6570\", \"x\": [\"9-1\", \"9-2\", \"9-3\", \"9-4\", \"10-1\"], \"y\": [0, 0, 1, 3, 1], \"type\": \"scatter\", \"uid\": \"d2d14e3d-d1b9-11e8-8ddb-a41f72875c19\"}], {\"title\": \"24h\\u5185\\u672a\\u5b8c\\u6210\\u6570\\u636e\\u53cd\\u9988\\u9879\\u76ee\\u6570\\u5468\\u8d8b\\u52bf\\u56fe\", \"xaxis\": {\"mirror\": \"all\", \"nticks\": 20, \"showgrid\": true, \"showline\": true, \"title\": \"\\u5468\", \"type\": \"category\", \"zeroline\": true}, \"yaxis\": {\"mirror\": \"all\", \"nticks\": 20, \"showgrid\": true, \"showline\": true, \"title\": \"24h\\u5185\\u672a\\u5b8c\\u6210\\u6570\\u636e\\u53cd\\u9988\\u9879\\u76ee\\u6570\", \"zeroline\": true}}, {\"showLink\": true, \"linkText\": \"Export to plot.ly\"})});</script>"
      ]
     },
     "metadata": {},
     "output_type": "display_data"
    },
    {
     "data": {
      "application/vnd.plotly.v1+json": {
       "data": [
        {
         "name": "24h内未完成数据反馈项目数",
         "type": "scatter",
         "uid": "d2d14e3e-d1b9-11e8-8ddb-a41f72875c19",
         "x": [
          9,
          10
         ],
         "y": [
          4,
          1
         ]
        }
       ],
       "layout": {
        "title": "24h内未完成数据反馈项目数月趋势图",
        "xaxis": {
         "mirror": "all",
         "nticks": 20,
         "showgrid": true,
         "showline": true,
         "title": "月",
         "type": "category",
         "zeroline": true
        },
        "yaxis": {
         "mirror": "all",
         "nticks": 20,
         "showgrid": true,
         "showline": true,
         "title": "24h内未完成数据反馈项目数",
         "zeroline": true
        }
       }
      },
      "text/html": [
       "<div id=\"6c8776a3-7b24-488a-92ef-9f435e888e55\" style=\"height: 525px; width: 100%;\" class=\"plotly-graph-div\"></div><script type=\"text/javascript\">require([\"plotly\"], function(Plotly) { window.PLOTLYENV=window.PLOTLYENV || {};window.PLOTLYENV.BASE_URL=\"https://plot.ly\";Plotly.newPlot(\"6c8776a3-7b24-488a-92ef-9f435e888e55\", [{\"name\": \"24h\\u5185\\u672a\\u5b8c\\u6210\\u6570\\u636e\\u53cd\\u9988\\u9879\\u76ee\\u6570\", \"x\": [9, 10], \"y\": [4, 1], \"type\": \"scatter\", \"uid\": \"d2d14e3e-d1b9-11e8-8ddb-a41f72875c19\"}], {\"title\": \"24h\\u5185\\u672a\\u5b8c\\u6210\\u6570\\u636e\\u53cd\\u9988\\u9879\\u76ee\\u6570\\u6708\\u8d8b\\u52bf\\u56fe\", \"xaxis\": {\"mirror\": \"all\", \"nticks\": 20, \"showgrid\": true, \"showline\": true, \"title\": \"\\u6708\", \"type\": \"category\", \"zeroline\": true}, \"yaxis\": {\"mirror\": \"all\", \"nticks\": 20, \"showgrid\": true, \"showline\": true, \"title\": \"24h\\u5185\\u672a\\u5b8c\\u6210\\u6570\\u636e\\u53cd\\u9988\\u9879\\u76ee\\u6570\", \"zeroline\": true}}, {\"showLink\": true, \"linkText\": \"Export to plot.ly\"})});</script>"
      ],
      "text/vnd.plotly.v1+html": [
       "<div id=\"6c8776a3-7b24-488a-92ef-9f435e888e55\" style=\"height: 525px; width: 100%;\" class=\"plotly-graph-div\"></div><script type=\"text/javascript\">require([\"plotly\"], function(Plotly) { window.PLOTLYENV=window.PLOTLYENV || {};window.PLOTLYENV.BASE_URL=\"https://plot.ly\";Plotly.newPlot(\"6c8776a3-7b24-488a-92ef-9f435e888e55\", [{\"name\": \"24h\\u5185\\u672a\\u5b8c\\u6210\\u6570\\u636e\\u53cd\\u9988\\u9879\\u76ee\\u6570\", \"x\": [9, 10], \"y\": [4, 1], \"type\": \"scatter\", \"uid\": \"d2d14e3e-d1b9-11e8-8ddb-a41f72875c19\"}], {\"title\": \"24h\\u5185\\u672a\\u5b8c\\u6210\\u6570\\u636e\\u53cd\\u9988\\u9879\\u76ee\\u6570\\u6708\\u8d8b\\u52bf\\u56fe\", \"xaxis\": {\"mirror\": \"all\", \"nticks\": 20, \"showgrid\": true, \"showline\": true, \"title\": \"\\u6708\", \"type\": \"category\", \"zeroline\": true}, \"yaxis\": {\"mirror\": \"all\", \"nticks\": 20, \"showgrid\": true, \"showline\": true, \"title\": \"24h\\u5185\\u672a\\u5b8c\\u6210\\u6570\\u636e\\u53cd\\u9988\\u9879\\u76ee\\u6570\", \"zeroline\": true}}, {\"showLink\": true, \"linkText\": \"Export to plot.ly\"})});</script>"
      ]
     },
     "metadata": {},
     "output_type": "display_data"
    }
   ],
   "source": [
    "ss = myModule.format(all_df2 ,\"日期（格式“月-周次”）\" ,['24h内未完成数据反馈项目数' ])\n",
    "#ss.add_group('组别')\n",
    "#ss.get_average_by('人员')\n",
    "myModule.myPlot(myModule.sort_by_index(ss.groupby('sum'))).plot('line')\n",
    "ss = myModule.format(all_df2 ,\"month\" ,['24h内未完成数据反馈项目数' ])\n",
    "#ss.add_group('组别')\n",
    "#ss.get_average_by('人员')\n",
    "myModule.myPlot(ss.groupby('sum')).plot('line','月')"
   ]
  },
  {
   "cell_type": "markdown",
   "metadata": {},
   "source": [
    "### 反馈延期率"
   ]
  },
  {
   "cell_type": "code",
   "execution_count": 158,
   "metadata": {
    "collapsed": false
   },
   "outputs": [
    {
     "data": {
      "application/vnd.plotly.v1+json": {
       "data": [
        {
         "name": "反馈延期率",
         "type": "scatter",
         "uid": "d2d14e3f-d1b9-11e8-8ddb-a41f72875c19",
         "x": [
          "9-1",
          "9-2",
          "9-3",
          "9-4",
          "10-1"
         ],
         "y": [
          0,
          0,
          0.03125,
          0.0967741935483871,
          0.03125
         ]
        }
       ],
       "layout": {
        "title": "反馈延期率周趋势图",
        "xaxis": {
         "mirror": "all",
         "nticks": 20,
         "showgrid": true,
         "showline": true,
         "title": "周",
         "type": "category",
         "zeroline": true
        },
        "yaxis": {
         "mirror": "all",
         "nticks": 20,
         "showgrid": true,
         "showline": true,
         "title": "反馈延期率",
         "zeroline": true
        }
       }
      },
      "text/html": [
       "<div id=\"73eb4383-f6fb-461f-9735-d3f5085824c3\" style=\"height: 525px; width: 100%;\" class=\"plotly-graph-div\"></div><script type=\"text/javascript\">require([\"plotly\"], function(Plotly) { window.PLOTLYENV=window.PLOTLYENV || {};window.PLOTLYENV.BASE_URL=\"https://plot.ly\";Plotly.newPlot(\"73eb4383-f6fb-461f-9735-d3f5085824c3\", [{\"name\": \"\\u53cd\\u9988\\u5ef6\\u671f\\u7387\", \"x\": [\"9-1\", \"9-2\", \"9-3\", \"9-4\", \"10-1\"], \"y\": [0.0, 0.0, 0.03125, 0.0967741935483871, 0.03125], \"type\": \"scatter\", \"uid\": \"d2d14e3f-d1b9-11e8-8ddb-a41f72875c19\"}], {\"title\": \"\\u53cd\\u9988\\u5ef6\\u671f\\u7387\\u5468\\u8d8b\\u52bf\\u56fe\", \"xaxis\": {\"mirror\": \"all\", \"nticks\": 20, \"showgrid\": true, \"showline\": true, \"title\": \"\\u5468\", \"type\": \"category\", \"zeroline\": true}, \"yaxis\": {\"mirror\": \"all\", \"nticks\": 20, \"showgrid\": true, \"showline\": true, \"title\": \"\\u53cd\\u9988\\u5ef6\\u671f\\u7387\", \"zeroline\": true}}, {\"showLink\": true, \"linkText\": \"Export to plot.ly\"})});</script>"
      ],
      "text/vnd.plotly.v1+html": [
       "<div id=\"73eb4383-f6fb-461f-9735-d3f5085824c3\" style=\"height: 525px; width: 100%;\" class=\"plotly-graph-div\"></div><script type=\"text/javascript\">require([\"plotly\"], function(Plotly) { window.PLOTLYENV=window.PLOTLYENV || {};window.PLOTLYENV.BASE_URL=\"https://plot.ly\";Plotly.newPlot(\"73eb4383-f6fb-461f-9735-d3f5085824c3\", [{\"name\": \"\\u53cd\\u9988\\u5ef6\\u671f\\u7387\", \"x\": [\"9-1\", \"9-2\", \"9-3\", \"9-4\", \"10-1\"], \"y\": [0.0, 0.0, 0.03125, 0.0967741935483871, 0.03125], \"type\": \"scatter\", \"uid\": \"d2d14e3f-d1b9-11e8-8ddb-a41f72875c19\"}], {\"title\": \"\\u53cd\\u9988\\u5ef6\\u671f\\u7387\\u5468\\u8d8b\\u52bf\\u56fe\", \"xaxis\": {\"mirror\": \"all\", \"nticks\": 20, \"showgrid\": true, \"showline\": true, \"title\": \"\\u5468\", \"type\": \"category\", \"zeroline\": true}, \"yaxis\": {\"mirror\": \"all\", \"nticks\": 20, \"showgrid\": true, \"showline\": true, \"title\": \"\\u53cd\\u9988\\u5ef6\\u671f\\u7387\", \"zeroline\": true}}, {\"showLink\": true, \"linkText\": \"Export to plot.ly\"})});</script>"
      ]
     },
     "metadata": {},
     "output_type": "display_data"
    }
   ],
   "source": [
    "ss = myModule.format(all_df2 ,\"日期（格式“月-周次”）\",['24h内未完成数据反馈项目数','下机项目数'])\n",
    "ss.df\n",
    "tt = ss.get_total_ratio([['反馈延期率' ,'24h内未完成数据反馈项目数' , '下机项目数','/']] )\n",
    "myModule.myPlot(myModule.sort_by_index(tt)).plot('line')\n",
    "#ss.add_group('组别')\n",
    "#ss.get_average_by('人员')\n",
    "#myModule.myPlot(ss.groupby('sum')).plot('line')\n",
    "#ss = myModule.format(all_df2 ,\"month\" ,['24h内未完成数据反馈项目数' ])\n",
    "#ss.add_group('组别')\n",
    "#ss.get_average_by('人员')\n",
    "#myModule.myPlot(ss.groupby('sum')).plot('line','月')"
   ]
  },
  {
   "cell_type": "markdown",
   "metadata": {},
   "source": [
    "## 交付延期率"
   ]
  },
  {
   "cell_type": "markdown",
   "metadata": {},
   "source": [
    "### 分析组交付延期率"
   ]
  },
  {
   "cell_type": "code",
   "execution_count": 159,
   "metadata": {
    "collapsed": false
   },
   "outputs": [
    {
     "data": {
      "application/vnd.plotly.v1+json": {
       "data": [
        {
         "name": "各组交付延期率",
         "type": "scatter",
         "uid": "d2d14e40-d1b9-11e8-8ddb-a41f72875c19",
         "x": [
          "9-1",
          "9-2",
          "9-3",
          "9-4",
          "10-1"
         ],
         "y": [
          0,
          0,
          0,
          0,
          0
         ]
        }
       ],
       "layout": {
        "title": "各组交付延期率周趋势图",
        "xaxis": {
         "mirror": "all",
         "nticks": 20,
         "showgrid": true,
         "showline": true,
         "title": "周",
         "type": "category",
         "zeroline": true
        },
        "yaxis": {
         "mirror": "all",
         "nticks": 20,
         "showgrid": true,
         "showline": true,
         "title": "各组交付延期率",
         "zeroline": true
        }
       }
      },
      "text/html": [
       "<div id=\"69ac3afb-a4b2-49f3-a97f-612540db0f00\" style=\"height: 525px; width: 100%;\" class=\"plotly-graph-div\"></div><script type=\"text/javascript\">require([\"plotly\"], function(Plotly) { window.PLOTLYENV=window.PLOTLYENV || {};window.PLOTLYENV.BASE_URL=\"https://plot.ly\";Plotly.newPlot(\"69ac3afb-a4b2-49f3-a97f-612540db0f00\", [{\"name\": \"\\u5404\\u7ec4\\u4ea4\\u4ed8\\u5ef6\\u671f\\u7387\", \"x\": [\"9-1\", \"9-2\", \"9-3\", \"9-4\", \"10-1\"], \"y\": [0.0, 0.0, 0.0, 0.0, 0.0], \"type\": \"scatter\", \"uid\": \"d2d14e40-d1b9-11e8-8ddb-a41f72875c19\"}], {\"title\": \"\\u5404\\u7ec4\\u4ea4\\u4ed8\\u5ef6\\u671f\\u7387\\u5468\\u8d8b\\u52bf\\u56fe\", \"xaxis\": {\"mirror\": \"all\", \"nticks\": 20, \"showgrid\": true, \"showline\": true, \"title\": \"\\u5468\", \"type\": \"category\", \"zeroline\": true}, \"yaxis\": {\"mirror\": \"all\", \"nticks\": 20, \"showgrid\": true, \"showline\": true, \"title\": \"\\u5404\\u7ec4\\u4ea4\\u4ed8\\u5ef6\\u671f\\u7387\", \"zeroline\": true}}, {\"showLink\": true, \"linkText\": \"Export to plot.ly\"})});</script>"
      ],
      "text/vnd.plotly.v1+html": [
       "<div id=\"69ac3afb-a4b2-49f3-a97f-612540db0f00\" style=\"height: 525px; width: 100%;\" class=\"plotly-graph-div\"></div><script type=\"text/javascript\">require([\"plotly\"], function(Plotly) { window.PLOTLYENV=window.PLOTLYENV || {};window.PLOTLYENV.BASE_URL=\"https://plot.ly\";Plotly.newPlot(\"69ac3afb-a4b2-49f3-a97f-612540db0f00\", [{\"name\": \"\\u5404\\u7ec4\\u4ea4\\u4ed8\\u5ef6\\u671f\\u7387\", \"x\": [\"9-1\", \"9-2\", \"9-3\", \"9-4\", \"10-1\"], \"y\": [0.0, 0.0, 0.0, 0.0, 0.0], \"type\": \"scatter\", \"uid\": \"d2d14e40-d1b9-11e8-8ddb-a41f72875c19\"}], {\"title\": \"\\u5404\\u7ec4\\u4ea4\\u4ed8\\u5ef6\\u671f\\u7387\\u5468\\u8d8b\\u52bf\\u56fe\", \"xaxis\": {\"mirror\": \"all\", \"nticks\": 20, \"showgrid\": true, \"showline\": true, \"title\": \"\\u5468\", \"type\": \"category\", \"zeroline\": true}, \"yaxis\": {\"mirror\": \"all\", \"nticks\": 20, \"showgrid\": true, \"showline\": true, \"title\": \"\\u5404\\u7ec4\\u4ea4\\u4ed8\\u5ef6\\u671f\\u7387\", \"zeroline\": true}}, {\"showLink\": true, \"linkText\": \"Export to plot.ly\"})});</script>"
      ]
     },
     "metadata": {},
     "output_type": "display_data"
    }
   ],
   "source": [
    "ss = myModule.format(all_df2 ,\"日期（格式“月-周次”）\" ,['24h内未完成数据交付项目数','待交付项目数' ])\n",
    "#ss.add_group('组别')\n",
    "#ss.get_average_by('人员')\n",
    "tt = ss.get_total_ratio([['各组交付延期率' ,'24h内未完成数据交付项目数','待交付项目数','/']] )\n",
    "myModule.myPlot(myModule.sort_by_index(tt)).plot('line')"
   ]
  },
  {
   "cell_type": "markdown",
   "metadata": {},
   "source": [
    "### 各组交付延期率"
   ]
  },
  {
   "cell_type": "code",
   "execution_count": 160,
   "metadata": {
    "collapsed": false
   },
   "outputs": [
    {
     "data": {
      "application/vnd.plotly.v1+json": {
       "data": [
        {
         "line": {
          "dash": "solid"
         },
         "name": "各组交付延期率(分析一组)",
         "type": "scatter",
         "uid": "d40389b0-d1b9-11e8-8ddb-a41f72875c19",
         "x": [
          "9-1",
          "9-2",
          "9-3",
          "9-4",
          "10-1"
         ],
         "y": [
          0,
          0,
          0,
          0,
          0
         ]
        },
        {
         "line": {
          "dash": "dot"
         },
         "name": "各组交付延期率(个性化组)",
         "type": "scatter",
         "uid": "d40389b1-d1b9-11e8-8ddb-a41f72875c19",
         "x": [
          "9-1",
          "9-2",
          "9-3",
          "9-4",
          "10-1"
         ],
         "y": [
          0,
          null,
          0,
          null,
          null
         ]
        },
        {
         "line": {
          "dash": "dash"
         },
         "name": "各组交付延期率(分析二组)",
         "type": "scatter",
         "uid": "d40389b2-d1b9-11e8-8ddb-a41f72875c19",
         "x": [
          "9-1",
          "9-2",
          "9-3",
          "9-4",
          "10-1"
         ],
         "y": [
          0,
          0,
          0,
          0,
          0
         ]
        }
       ],
       "layout": {
        "title": "各组交付延期率周趋势图",
        "xaxis": {
         "mirror": "all",
         "nticks": 20,
         "showgrid": true,
         "showline": true,
         "title": "周",
         "type": "category",
         "zeroline": true
        },
        "yaxis": {
         "mirror": "all",
         "nticks": 20,
         "showgrid": true,
         "showline": true,
         "title": "各组交付延期率",
         "zeroline": true
        }
       }
      },
      "text/html": [
       "<div id=\"34367712-878f-44c7-8bb1-0fcdc742d856\" style=\"height: 525px; width: 100%;\" class=\"plotly-graph-div\"></div><script type=\"text/javascript\">require([\"plotly\"], function(Plotly) { window.PLOTLYENV=window.PLOTLYENV || {};window.PLOTLYENV.BASE_URL=\"https://plot.ly\";Plotly.newPlot(\"34367712-878f-44c7-8bb1-0fcdc742d856\", [{\"line\": {\"dash\": \"solid\"}, \"name\": \"\\u5404\\u7ec4\\u4ea4\\u4ed8\\u5ef6\\u671f\\u7387(\\u5206\\u6790\\u4e00\\u7ec4)\", \"x\": [\"9-1\", \"9-2\", \"9-3\", \"9-4\", \"10-1\"], \"y\": [0.0, 0.0, 0.0, 0.0, 0.0], \"type\": \"scatter\", \"uid\": \"d40389b0-d1b9-11e8-8ddb-a41f72875c19\"}, {\"line\": {\"dash\": \"dot\"}, \"name\": \"\\u5404\\u7ec4\\u4ea4\\u4ed8\\u5ef6\\u671f\\u7387(\\u4e2a\\u6027\\u5316\\u7ec4)\", \"x\": [\"9-1\", \"9-2\", \"9-3\", \"9-4\", \"10-1\"], \"y\": [0.0, null, 0.0, null, null], \"type\": \"scatter\", \"uid\": \"d40389b1-d1b9-11e8-8ddb-a41f72875c19\"}, {\"line\": {\"dash\": \"dash\"}, \"name\": \"\\u5404\\u7ec4\\u4ea4\\u4ed8\\u5ef6\\u671f\\u7387(\\u5206\\u6790\\u4e8c\\u7ec4)\", \"x\": [\"9-1\", \"9-2\", \"9-3\", \"9-4\", \"10-1\"], \"y\": [0.0, 0.0, 0.0, 0.0, 0.0], \"type\": \"scatter\", \"uid\": \"d40389b2-d1b9-11e8-8ddb-a41f72875c19\"}], {\"title\": \"\\u5404\\u7ec4\\u4ea4\\u4ed8\\u5ef6\\u671f\\u7387\\u5468\\u8d8b\\u52bf\\u56fe\", \"xaxis\": {\"mirror\": \"all\", \"nticks\": 20, \"showgrid\": true, \"showline\": true, \"title\": \"\\u5468\", \"type\": \"category\", \"zeroline\": true}, \"yaxis\": {\"mirror\": \"all\", \"nticks\": 20, \"showgrid\": true, \"showline\": true, \"title\": \"\\u5404\\u7ec4\\u4ea4\\u4ed8\\u5ef6\\u671f\\u7387\", \"zeroline\": true}}, {\"showLink\": true, \"linkText\": \"Export to plot.ly\"})});</script>"
      ],
      "text/vnd.plotly.v1+html": [
       "<div id=\"34367712-878f-44c7-8bb1-0fcdc742d856\" style=\"height: 525px; width: 100%;\" class=\"plotly-graph-div\"></div><script type=\"text/javascript\">require([\"plotly\"], function(Plotly) { window.PLOTLYENV=window.PLOTLYENV || {};window.PLOTLYENV.BASE_URL=\"https://plot.ly\";Plotly.newPlot(\"34367712-878f-44c7-8bb1-0fcdc742d856\", [{\"line\": {\"dash\": \"solid\"}, \"name\": \"\\u5404\\u7ec4\\u4ea4\\u4ed8\\u5ef6\\u671f\\u7387(\\u5206\\u6790\\u4e00\\u7ec4)\", \"x\": [\"9-1\", \"9-2\", \"9-3\", \"9-4\", \"10-1\"], \"y\": [0.0, 0.0, 0.0, 0.0, 0.0], \"type\": \"scatter\", \"uid\": \"d40389b0-d1b9-11e8-8ddb-a41f72875c19\"}, {\"line\": {\"dash\": \"dot\"}, \"name\": \"\\u5404\\u7ec4\\u4ea4\\u4ed8\\u5ef6\\u671f\\u7387(\\u4e2a\\u6027\\u5316\\u7ec4)\", \"x\": [\"9-1\", \"9-2\", \"9-3\", \"9-4\", \"10-1\"], \"y\": [0.0, null, 0.0, null, null], \"type\": \"scatter\", \"uid\": \"d40389b1-d1b9-11e8-8ddb-a41f72875c19\"}, {\"line\": {\"dash\": \"dash\"}, \"name\": \"\\u5404\\u7ec4\\u4ea4\\u4ed8\\u5ef6\\u671f\\u7387(\\u5206\\u6790\\u4e8c\\u7ec4)\", \"x\": [\"9-1\", \"9-2\", \"9-3\", \"9-4\", \"10-1\"], \"y\": [0.0, 0.0, 0.0, 0.0, 0.0], \"type\": \"scatter\", \"uid\": \"d40389b2-d1b9-11e8-8ddb-a41f72875c19\"}], {\"title\": \"\\u5404\\u7ec4\\u4ea4\\u4ed8\\u5ef6\\u671f\\u7387\\u5468\\u8d8b\\u52bf\\u56fe\", \"xaxis\": {\"mirror\": \"all\", \"nticks\": 20, \"showgrid\": true, \"showline\": true, \"title\": \"\\u5468\", \"type\": \"category\", \"zeroline\": true}, \"yaxis\": {\"mirror\": \"all\", \"nticks\": 20, \"showgrid\": true, \"showline\": true, \"title\": \"\\u5404\\u7ec4\\u4ea4\\u4ed8\\u5ef6\\u671f\\u7387\", \"zeroline\": true}}, {\"showLink\": true, \"linkText\": \"Export to plot.ly\"})});</script>"
      ]
     },
     "metadata": {},
     "output_type": "display_data"
    }
   ],
   "source": [
    "ss = myModule.format(all_df2 ,\"日期（格式“月-周次”）\" ,['24h内未完成数据交付项目数','待交付项目数' ])\n",
    "ss.add_group('组别')\n",
    "#ss.get_average_by('人员')\n",
    "tt = ss.get_total_ratio([['各组交付延期率' ,'24h内未完成数据交付项目数','待交付项目数','/']] )\n",
    "myModule.myPlot(myModule.sort_by_index(tt)).plot('line')"
   ]
  },
  {
   "cell_type": "code",
   "execution_count": null,
   "metadata": {
    "collapsed": true
   },
   "outputs": [],
   "source": []
  }
 ],
 "metadata": {
  "hide_input": false,
  "kernelspec": {
   "display_name": "Python 3",
   "language": "python",
   "name": "python3"
  },
  "language_info": {
   "codemirror_mode": {
    "name": "ipython",
    "version": 3
   },
   "file_extension": ".py",
   "mimetype": "text/x-python",
   "name": "python",
   "nbconvert_exporter": "python",
   "pygments_lexer": "ipython3",
   "version": "3.6.0"
  },
  "toc": {
   "base_numbering": 1,
   "nav_menu": {
    "height": "247px",
    "width": "215px"
   },
   "number_sections": true,
   "sideBar": true,
   "skip_h1_title": false,
   "title_cell": "Table of Contents",
   "title_sidebar": "Contents",
   "toc_cell": false,
   "toc_position": {
    "height": "calc(100% - 180px)",
    "left": "10px",
    "top": "150px",
    "width": "245px"
   },
   "toc_section_display": true,
   "toc_window_display": true
  }
 },
 "nbformat": 4,
 "nbformat_minor": 2
}
