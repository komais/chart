{
 "cells": [
  {
   "cell_type": "markdown",
   "metadata": {},
   "source": [
    "tobedone：每组人均产能，表格的规整和简化"
   ]
  },
  {
   "cell_type": "code",
   "execution_count": 105,
   "metadata": {
    "collapsed": false
   },
   "outputs": [
    {
     "name": "stdout",
     "output_type": "stream",
     "text": [
      "The autoreload extension is already loaded. To reload it, use:\n",
      "  %reload_ext autoreload\n"
     ]
    }
   ],
   "source": [
    "%load_ext autoreload\n",
    "%autoreload 2"
   ]
  },
  {
   "cell_type": "code",
   "execution_count": 106,
   "metadata": {
    "collapsed": false,
    "scrolled": true
   },
   "outputs": [
    {
     "data": {
      "text/html": [
       "<script>requirejs.config({paths: { 'plotly': ['https://cdn.plot.ly/plotly-latest.min']},});if(!window.Plotly) {{require(['plotly'],function(plotly) {window.Plotly=plotly;});}}</script>"
      ],
      "text/vnd.plotly.v1+html": [
       "<script>requirejs.config({paths: { 'plotly': ['https://cdn.plot.ly/plotly-latest.min']},});if(!window.Plotly) {{require(['plotly'],function(plotly) {window.Plotly=plotly;});}}</script>"
      ]
     },
     "metadata": {},
     "output_type": "display_data"
    }
   ],
   "source": [
    "import sys\n",
    "sys.path.append('./')\n",
    "import myModule\n",
    "import imp\n",
    "imp.reload(myModule)\n",
    "time_list=['week']"
   ]
  },
  {
   "cell_type": "code",
   "execution_count": 107,
   "metadata": {
    "collapsed": false,
    "scrolled": true
   },
   "outputs": [],
   "source": [
    "import os\n",
    "bindir = os.path.dirname(os.getcwd())\n",
    "pathway = bindir + '/../data/Analysis/'\n",
    "all_files , title = myModule.get_title(pathway, 0)   ##给路径\n",
    "all_df1  = myModule.read_xlsx(all_files , 0 )## read all files sheet1\n",
    "all_df2  = myModule.read_xlsx(all_files , 1 )\n",
    "all_df3  = myModule.read_xlsx(all_files , 2 )"
   ]
  },
  {
   "cell_type": "code",
   "execution_count": 108,
   "metadata": {
    "collapsed": false,
    "scrolled": true
   },
   "outputs": [],
   "source": [
    "myModule.upgrade_df(all_df1, [ ['完成商业项目数',['完成流水线项目数','完成非流水线项目数','完成只分析项目数','完成联合分析项目数'],'+']])\n",
    "myModule.upgrade_df(all_df1, [ ['完成项目总数',['完成商业项目数','完成个性化数'],'+'] , \n",
    "                               ['在线项目总数',['在线标准分析项目数','在线个性化项目数'],'+']])\n",
    "#all_dict2 = myModule.read_xlsx(all_files , 1 ) ##\n",
    "#all_df1.drop([])\n",
    "#all_df1\n"
   ]
  },
  {
   "cell_type": "code",
   "execution_count": 109,
   "metadata": {
    "collapsed": false
   },
   "outputs": [
    {
     "name": "stderr",
     "output_type": "stream",
     "text": [
      "/home/jiankong/jupyter/chart/bin/chart/myModule.py:74: SettingWithCopyWarning:\n",
      "\n",
      "\n",
      "A value is trying to be set on a copy of a slice from a DataFrame\n",
      "\n",
      "See the caveats in the documentation: http://pandas.pydata.org/pandas-docs/stable/indexing.html#indexing-view-versus-copy\n",
      "\n"
     ]
    },
    {
     "data": {
      "text/html": [
       "<div>\n",
       "<style scoped>\n",
       "    .dataframe tbody tr th:only-of-type {\n",
       "        vertical-align: middle;\n",
       "    }\n",
       "\n",
       "    .dataframe tbody tr th {\n",
       "        vertical-align: top;\n",
       "    }\n",
       "\n",
       "    .dataframe thead th {\n",
       "        text-align: right;\n",
       "    }\n",
       "</style>\n",
       "<table border=\"1\" class=\"dataframe\">\n",
       "  <thead>\n",
       "    <tr style=\"text-align: right;\">\n",
       "      <th></th>\n",
       "      <th>组别</th>\n",
       "      <th>人员</th>\n",
       "      <th>日期（格式“月-周次”）</th>\n",
       "      <th>完成流水线项目数</th>\n",
       "      <th>完成非流水线项目数</th>\n",
       "      <th>完成只分析项目数</th>\n",
       "      <th>完成联合分析项目数</th>\n",
       "      <th>完成个性化数</th>\n",
       "      <th>接入个性化数</th>\n",
       "      <th>在线标准分析项目数</th>\n",
       "      <th>在线个性化项目数</th>\n",
       "      <th>未下机项目数</th>\n",
       "      <th>month</th>\n",
       "      <th>完成商业项目数</th>\n",
       "      <th>完成项目总数</th>\n",
       "      <th>在线项目总数</th>\n",
       "    </tr>\n",
       "  </thead>\n",
       "  <tbody>\n",
       "    <tr>\n",
       "      <th>0</th>\n",
       "      <td>分析一组</td>\n",
       "      <td>昶吉阳</td>\n",
       "      <td>9-4</td>\n",
       "      <td>2</td>\n",
       "      <td>4</td>\n",
       "      <td>0</td>\n",
       "      <td>0</td>\n",
       "      <td>0</td>\n",
       "      <td>0</td>\n",
       "      <td>1</td>\n",
       "      <td>4</td>\n",
       "      <td>8</td>\n",
       "      <td>9</td>\n",
       "      <td>6</td>\n",
       "      <td>6</td>\n",
       "      <td>5</td>\n",
       "    </tr>\n",
       "    <tr>\n",
       "      <th>1</th>\n",
       "      <td>分析二组</td>\n",
       "      <td>陈碧雯</td>\n",
       "      <td>9-4</td>\n",
       "      <td>3</td>\n",
       "      <td>0</td>\n",
       "      <td>0</td>\n",
       "      <td>0</td>\n",
       "      <td>1</td>\n",
       "      <td>0</td>\n",
       "      <td>2</td>\n",
       "      <td>2</td>\n",
       "      <td>7</td>\n",
       "      <td>9</td>\n",
       "      <td>3</td>\n",
       "      <td>4</td>\n",
       "      <td>4</td>\n",
       "    </tr>\n",
       "    <tr>\n",
       "      <th>2</th>\n",
       "      <td>分析一组</td>\n",
       "      <td>陈鹏燕</td>\n",
       "      <td>9-4</td>\n",
       "      <td>0</td>\n",
       "      <td>0</td>\n",
       "      <td>0</td>\n",
       "      <td>0</td>\n",
       "      <td>4</td>\n",
       "      <td>1</td>\n",
       "      <td>3</td>\n",
       "      <td>0</td>\n",
       "      <td>1</td>\n",
       "      <td>9</td>\n",
       "      <td>0</td>\n",
       "      <td>4</td>\n",
       "      <td>3</td>\n",
       "    </tr>\n",
       "    <tr>\n",
       "      <th>3</th>\n",
       "      <td>分析二组</td>\n",
       "      <td>段利强</td>\n",
       "      <td>9-4</td>\n",
       "      <td>0</td>\n",
       "      <td>0</td>\n",
       "      <td>0</td>\n",
       "      <td>0</td>\n",
       "      <td>1</td>\n",
       "      <td>0</td>\n",
       "      <td>1</td>\n",
       "      <td>0</td>\n",
       "      <td>4</td>\n",
       "      <td>9</td>\n",
       "      <td>0</td>\n",
       "      <td>1</td>\n",
       "      <td>1</td>\n",
       "    </tr>\n",
       "    <tr>\n",
       "      <th>4</th>\n",
       "      <td>个性化组</td>\n",
       "      <td>冯敬岩</td>\n",
       "      <td>9-4</td>\n",
       "      <td>0</td>\n",
       "      <td>0</td>\n",
       "      <td>0</td>\n",
       "      <td>0</td>\n",
       "      <td>2</td>\n",
       "      <td>5</td>\n",
       "      <td>0</td>\n",
       "      <td>2</td>\n",
       "      <td>0</td>\n",
       "      <td>9</td>\n",
       "      <td>0</td>\n",
       "      <td>2</td>\n",
       "      <td>2</td>\n",
       "    </tr>\n",
       "    <tr>\n",
       "      <th>5</th>\n",
       "      <td>分析二组</td>\n",
       "      <td>何胜</td>\n",
       "      <td>9-4</td>\n",
       "      <td>2</td>\n",
       "      <td>1</td>\n",
       "      <td>1</td>\n",
       "      <td>0</td>\n",
       "      <td>1</td>\n",
       "      <td>3</td>\n",
       "      <td>5</td>\n",
       "      <td>2</td>\n",
       "      <td>6</td>\n",
       "      <td>9</td>\n",
       "      <td>4</td>\n",
       "      <td>5</td>\n",
       "      <td>7</td>\n",
       "    </tr>\n",
       "    <tr>\n",
       "      <th>6</th>\n",
       "      <td>分析一组</td>\n",
       "      <td>解飞</td>\n",
       "      <td>9-4</td>\n",
       "      <td>0</td>\n",
       "      <td>0</td>\n",
       "      <td>0</td>\n",
       "      <td>0</td>\n",
       "      <td>0</td>\n",
       "      <td>2</td>\n",
       "      <td>2</td>\n",
       "      <td>1</td>\n",
       "      <td>5</td>\n",
       "      <td>9</td>\n",
       "      <td>0</td>\n",
       "      <td>0</td>\n",
       "      <td>3</td>\n",
       "    </tr>\n",
       "    <tr>\n",
       "      <th>7</th>\n",
       "      <td>个性化组</td>\n",
       "      <td>靳甜甜</td>\n",
       "      <td>9-4</td>\n",
       "      <td>0</td>\n",
       "      <td>0</td>\n",
       "      <td>0</td>\n",
       "      <td>0</td>\n",
       "      <td>0</td>\n",
       "      <td>0</td>\n",
       "      <td>0</td>\n",
       "      <td>0</td>\n",
       "      <td>0</td>\n",
       "      <td>9</td>\n",
       "      <td>0</td>\n",
       "      <td>0</td>\n",
       "      <td>0</td>\n",
       "    </tr>\n",
       "    <tr>\n",
       "      <th>8</th>\n",
       "      <td>分析二组</td>\n",
       "      <td>李晓波</td>\n",
       "      <td>9-4</td>\n",
       "      <td>0</td>\n",
       "      <td>0</td>\n",
       "      <td>0</td>\n",
       "      <td>0</td>\n",
       "      <td>0</td>\n",
       "      <td>0</td>\n",
       "      <td>0</td>\n",
       "      <td>0</td>\n",
       "      <td>0</td>\n",
       "      <td>9</td>\n",
       "      <td>0</td>\n",
       "      <td>0</td>\n",
       "      <td>0</td>\n",
       "    </tr>\n",
       "    <tr>\n",
       "      <th>9</th>\n",
       "      <td>分析二组</td>\n",
       "      <td>刘梦苑</td>\n",
       "      <td>9-4</td>\n",
       "      <td>1</td>\n",
       "      <td>0</td>\n",
       "      <td>1</td>\n",
       "      <td>0</td>\n",
       "      <td>2</td>\n",
       "      <td>1</td>\n",
       "      <td>4</td>\n",
       "      <td>0</td>\n",
       "      <td>14</td>\n",
       "      <td>9</td>\n",
       "      <td>2</td>\n",
       "      <td>4</td>\n",
       "      <td>4</td>\n",
       "    </tr>\n",
       "    <tr>\n",
       "      <th>10</th>\n",
       "      <td>分析一组</td>\n",
       "      <td>刘永强</td>\n",
       "      <td>9-4</td>\n",
       "      <td>0</td>\n",
       "      <td>0</td>\n",
       "      <td>0</td>\n",
       "      <td>0</td>\n",
       "      <td>0</td>\n",
       "      <td>1</td>\n",
       "      <td>0</td>\n",
       "      <td>0</td>\n",
       "      <td>3</td>\n",
       "      <td>9</td>\n",
       "      <td>0</td>\n",
       "      <td>0</td>\n",
       "      <td>0</td>\n",
       "    </tr>\n",
       "    <tr>\n",
       "      <th>11</th>\n",
       "      <td>分析二组</td>\n",
       "      <td>马潇</td>\n",
       "      <td>9-4</td>\n",
       "      <td>0</td>\n",
       "      <td>3</td>\n",
       "      <td>2</td>\n",
       "      <td>0</td>\n",
       "      <td>0</td>\n",
       "      <td>3</td>\n",
       "      <td>6</td>\n",
       "      <td>2</td>\n",
       "      <td>2</td>\n",
       "      <td>9</td>\n",
       "      <td>5</td>\n",
       "      <td>5</td>\n",
       "      <td>8</td>\n",
       "    </tr>\n",
       "    <tr>\n",
       "      <th>12</th>\n",
       "      <td>分析二组</td>\n",
       "      <td>宋少宇</td>\n",
       "      <td>9-4</td>\n",
       "      <td>0</td>\n",
       "      <td>0</td>\n",
       "      <td>0</td>\n",
       "      <td>0</td>\n",
       "      <td>0</td>\n",
       "      <td>0</td>\n",
       "      <td>0</td>\n",
       "      <td>0</td>\n",
       "      <td>19</td>\n",
       "      <td>9</td>\n",
       "      <td>0</td>\n",
       "      <td>0</td>\n",
       "      <td>0</td>\n",
       "    </tr>\n",
       "    <tr>\n",
       "      <th>13</th>\n",
       "      <td>分析二组</td>\n",
       "      <td>王霞</td>\n",
       "      <td>9-4</td>\n",
       "      <td>1</td>\n",
       "      <td>1</td>\n",
       "      <td>0</td>\n",
       "      <td>0</td>\n",
       "      <td>2</td>\n",
       "      <td>3</td>\n",
       "      <td>3</td>\n",
       "      <td>2</td>\n",
       "      <td>12</td>\n",
       "      <td>9</td>\n",
       "      <td>2</td>\n",
       "      <td>4</td>\n",
       "      <td>5</td>\n",
       "    </tr>\n",
       "    <tr>\n",
       "      <th>14</th>\n",
       "      <td>分析二组</td>\n",
       "      <td>闻少楠</td>\n",
       "      <td>9-4</td>\n",
       "      <td>1</td>\n",
       "      <td>1</td>\n",
       "      <td>0</td>\n",
       "      <td>0</td>\n",
       "      <td>2</td>\n",
       "      <td>2</td>\n",
       "      <td>5</td>\n",
       "      <td>1</td>\n",
       "      <td>3</td>\n",
       "      <td>9</td>\n",
       "      <td>2</td>\n",
       "      <td>4</td>\n",
       "      <td>6</td>\n",
       "    </tr>\n",
       "    <tr>\n",
       "      <th>15</th>\n",
       "      <td>分析二组</td>\n",
       "      <td>杨宇</td>\n",
       "      <td>9-4</td>\n",
       "      <td>0</td>\n",
       "      <td>4</td>\n",
       "      <td>0</td>\n",
       "      <td>0</td>\n",
       "      <td>1</td>\n",
       "      <td>2</td>\n",
       "      <td>2</td>\n",
       "      <td>2</td>\n",
       "      <td>12</td>\n",
       "      <td>9</td>\n",
       "      <td>4</td>\n",
       "      <td>5</td>\n",
       "      <td>4</td>\n",
       "    </tr>\n",
       "    <tr>\n",
       "      <th>16</th>\n",
       "      <td>个性化组</td>\n",
       "      <td>赵倩</td>\n",
       "      <td>9-4</td>\n",
       "      <td>0</td>\n",
       "      <td>0</td>\n",
       "      <td>0</td>\n",
       "      <td>0</td>\n",
       "      <td>9</td>\n",
       "      <td>6</td>\n",
       "      <td>0</td>\n",
       "      <td>1</td>\n",
       "      <td>0</td>\n",
       "      <td>9</td>\n",
       "      <td>0</td>\n",
       "      <td>9</td>\n",
       "      <td>1</td>\n",
       "    </tr>\n",
       "    <tr>\n",
       "      <th>17</th>\n",
       "      <td>个性化组</td>\n",
       "      <td>朱慧萍</td>\n",
       "      <td>9-4</td>\n",
       "      <td>0</td>\n",
       "      <td>0</td>\n",
       "      <td>0</td>\n",
       "      <td>0</td>\n",
       "      <td>3</td>\n",
       "      <td>1</td>\n",
       "      <td>0</td>\n",
       "      <td>7</td>\n",
       "      <td>0</td>\n",
       "      <td>9</td>\n",
       "      <td>0</td>\n",
       "      <td>3</td>\n",
       "      <td>7</td>\n",
       "    </tr>\n",
       "  </tbody>\n",
       "</table>\n",
       "</div>"
      ],
      "text/plain": [
       "      组别   人员 日期（格式“月-周次”）  完成流水线项目数  完成非流水线项目数  完成只分析项目数  完成联合分析项目数  完成个性化数  \\\n",
       "0   分析一组  昶吉阳          9-4         2          4         0          0       0   \n",
       "1   分析二组  陈碧雯          9-4         3          0         0          0       1   \n",
       "2   分析一组  陈鹏燕          9-4         0          0         0          0       4   \n",
       "3   分析二组  段利强          9-4         0          0         0          0       1   \n",
       "4   个性化组  冯敬岩          9-4         0          0         0          0       2   \n",
       "5   分析二组   何胜          9-4         2          1         1          0       1   \n",
       "6   分析一组   解飞          9-4         0          0         0          0       0   \n",
       "7   个性化组  靳甜甜          9-4         0          0         0          0       0   \n",
       "8   分析二组  李晓波          9-4         0          0         0          0       0   \n",
       "9   分析二组  刘梦苑          9-4         1          0         1          0       2   \n",
       "10  分析一组  刘永强          9-4         0          0         0          0       0   \n",
       "11  分析二组   马潇          9-4         0          3         2          0       0   \n",
       "12  分析二组  宋少宇          9-4         0          0         0          0       0   \n",
       "13  分析二组   王霞          9-4         1          1         0          0       2   \n",
       "14  分析二组  闻少楠          9-4         1          1         0          0       2   \n",
       "15  分析二组   杨宇          9-4         0          4         0          0       1   \n",
       "16  个性化组   赵倩          9-4         0          0         0          0       9   \n",
       "17  个性化组  朱慧萍          9-4         0          0         0          0       3   \n",
       "\n",
       "    接入个性化数  在线标准分析项目数  在线个性化项目数  未下机项目数  month  完成商业项目数  完成项目总数  在线项目总数  \n",
       "0        0          1         4       8      9        6       6       5  \n",
       "1        0          2         2       7      9        3       4       4  \n",
       "2        1          3         0       1      9        0       4       3  \n",
       "3        0          1         0       4      9        0       1       1  \n",
       "4        5          0         2       0      9        0       2       2  \n",
       "5        3          5         2       6      9        4       5       7  \n",
       "6        2          2         1       5      9        0       0       3  \n",
       "7        0          0         0       0      9        0       0       0  \n",
       "8        0          0         0       0      9        0       0       0  \n",
       "9        1          4         0      14      9        2       4       4  \n",
       "10       1          0         0       3      9        0       0       0  \n",
       "11       3          6         2       2      9        5       5       8  \n",
       "12       0          0         0      19      9        0       0       0  \n",
       "13       3          3         2      12      9        2       4       5  \n",
       "14       2          5         1       3      9        2       4       6  \n",
       "15       2          2         2      12      9        4       5       4  \n",
       "16       6          0         1       0      9        0       9       1  \n",
       "17       1          0         7       0      9        0       3       7  "
      ]
     },
     "execution_count": 109,
     "metadata": {},
     "output_type": "execute_result"
    }
   ],
   "source": [
    "myModule.upgrade_df(all_df1, [ ['完成商业项目数',['完成流水线项目数','完成非流水线项目数','完成只分析项目数','完成联合分析项目数'],'+']])\n",
    "myModule.upgrade_df(all_df1, [ ['完成项目总数',['完成商业项目数','完成个性化数'],'+'] , \n",
    "                               ['在线项目总数',['在线标准分析项目数','在线个性化项目数'],'+']])\n",
    "all_df1 = all_df1.astype({'完成商业项目数':'int','完成项目总数':'int','在线项目总数':'int'})\n",
    "#all_dict2 = myModule.read_xlsx(all_files , 1 ) ##\n",
    "#all_df1.drop([])\n",
    "all_df1.loc[all_df1['日期（格式“月-周次”）']=='9-4']"
   ]
  },
  {
   "cell_type": "markdown",
   "metadata": {},
   "source": [
    "# 人员情况"
   ]
  },
  {
   "cell_type": "markdown",
   "metadata": {},
   "source": [
    "## 分析组整体人员情况"
   ]
  },
  {
   "cell_type": "code",
   "execution_count": 110,
   "metadata": {
    "collapsed": false,
    "scrolled": true
   },
   "outputs": [
    {
     "data": {
      "application/vnd.plotly.v1+json": {
       "data": [
        {
         "name": "人员",
         "type": "bar",
         "uid": "27ccc994-d11a-11e8-8ddb-a41f72875c19",
         "x": [
          "9-1",
          "9-2",
          "9-3",
          "9-4"
         ],
         "y": [
          18,
          18,
          18,
          18
         ]
        }
       ],
       "layout": {
        "title": "人员周趋势图",
        "xaxis": {
         "mirror": "all",
         "nticks": 20,
         "showgrid": true,
         "showline": true,
         "title": "周",
         "zeroline": true
        },
        "yaxis": {
         "mirror": "all",
         "nticks": 20,
         "showgrid": true,
         "showline": true,
         "title": "人员",
         "zeroline": true
        }
       }
      },
      "text/html": [
       "<div id=\"c283cde5-d240-4509-881e-16cafd990942\" style=\"height: 525px; width: 100%;\" class=\"plotly-graph-div\"></div><script type=\"text/javascript\">require([\"plotly\"], function(Plotly) { window.PLOTLYENV=window.PLOTLYENV || {};window.PLOTLYENV.BASE_URL=\"https://plot.ly\";Plotly.newPlot(\"c283cde5-d240-4509-881e-16cafd990942\", [{\"name\": \"\\u4eba\\u5458\", \"x\": [\"9-1\", \"9-2\", \"9-3\", \"9-4\"], \"y\": [18, 18, 18, 18], \"type\": \"bar\", \"uid\": \"27ccc994-d11a-11e8-8ddb-a41f72875c19\"}], {\"title\": \"\\u4eba\\u5458\\u5468\\u8d8b\\u52bf\\u56fe\", \"xaxis\": {\"mirror\": \"all\", \"nticks\": 20, \"showgrid\": true, \"showline\": true, \"title\": \"\\u5468\", \"zeroline\": true}, \"yaxis\": {\"mirror\": \"all\", \"nticks\": 20, \"showgrid\": true, \"showline\": true, \"title\": \"\\u4eba\\u5458\", \"zeroline\": true}}, {\"showLink\": true, \"linkText\": \"Export to plot.ly\"})});</script>"
      ],
      "text/vnd.plotly.v1+html": [
       "<div id=\"c283cde5-d240-4509-881e-16cafd990942\" style=\"height: 525px; width: 100%;\" class=\"plotly-graph-div\"></div><script type=\"text/javascript\">require([\"plotly\"], function(Plotly) { window.PLOTLYENV=window.PLOTLYENV || {};window.PLOTLYENV.BASE_URL=\"https://plot.ly\";Plotly.newPlot(\"c283cde5-d240-4509-881e-16cafd990942\", [{\"name\": \"\\u4eba\\u5458\", \"x\": [\"9-1\", \"9-2\", \"9-3\", \"9-4\"], \"y\": [18, 18, 18, 18], \"type\": \"bar\", \"uid\": \"27ccc994-d11a-11e8-8ddb-a41f72875c19\"}], {\"title\": \"\\u4eba\\u5458\\u5468\\u8d8b\\u52bf\\u56fe\", \"xaxis\": {\"mirror\": \"all\", \"nticks\": 20, \"showgrid\": true, \"showline\": true, \"title\": \"\\u5468\", \"zeroline\": true}, \"yaxis\": {\"mirror\": \"all\", \"nticks\": 20, \"showgrid\": true, \"showline\": true, \"title\": \"\\u4eba\\u5458\", \"zeroline\": true}}, {\"showLink\": true, \"linkText\": \"Export to plot.ly\"})});</script>"
      ]
     },
     "metadata": {},
     "output_type": "display_data"
    }
   ],
   "source": [
    "ss = myModule.format(all_df1 ,\"日期（格式“月-周次”）\" ,['人员'])\n",
    "tt = myModule.myPlot(ss.groupby('count'))\n",
    "tt.plot('bar')"
   ]
  },
  {
   "cell_type": "code",
   "execution_count": 111,
   "metadata": {
    "collapsed": false,
    "scrolled": true
   },
   "outputs": [
    {
     "data": {
      "application/vnd.plotly.v1+json": {
       "data": [
        {
         "name": "人员",
         "type": "bar",
         "uid": "27ccc995-d11a-11e8-8ddb-a41f72875c19",
         "x": [
          9
         ],
         "y": [
          18
         ]
        }
       ],
       "layout": {
        "title": "人员月趋势图",
        "xaxis": {
         "mirror": "all",
         "nticks": 20,
         "showgrid": true,
         "showline": true,
         "title": "月",
         "zeroline": true
        },
        "yaxis": {
         "mirror": "all",
         "nticks": 20,
         "showgrid": true,
         "showline": true,
         "title": "人员",
         "zeroline": true
        }
       }
      },
      "text/html": [
       "<div id=\"51758813-ffd0-411c-8764-84c5e9942302\" style=\"height: 525px; width: 100%;\" class=\"plotly-graph-div\"></div><script type=\"text/javascript\">require([\"plotly\"], function(Plotly) { window.PLOTLYENV=window.PLOTLYENV || {};window.PLOTLYENV.BASE_URL=\"https://plot.ly\";Plotly.newPlot(\"51758813-ffd0-411c-8764-84c5e9942302\", [{\"name\": \"\\u4eba\\u5458\", \"x\": [9], \"y\": [18], \"type\": \"bar\", \"uid\": \"27ccc995-d11a-11e8-8ddb-a41f72875c19\"}], {\"title\": \"\\u4eba\\u5458\\u6708\\u8d8b\\u52bf\\u56fe\", \"xaxis\": {\"mirror\": \"all\", \"nticks\": 20, \"showgrid\": true, \"showline\": true, \"title\": \"\\u6708\", \"zeroline\": true}, \"yaxis\": {\"mirror\": \"all\", \"nticks\": 20, \"showgrid\": true, \"showline\": true, \"title\": \"\\u4eba\\u5458\", \"zeroline\": true}}, {\"showLink\": true, \"linkText\": \"Export to plot.ly\"})});</script>"
      ],
      "text/vnd.plotly.v1+html": [
       "<div id=\"51758813-ffd0-411c-8764-84c5e9942302\" style=\"height: 525px; width: 100%;\" class=\"plotly-graph-div\"></div><script type=\"text/javascript\">require([\"plotly\"], function(Plotly) { window.PLOTLYENV=window.PLOTLYENV || {};window.PLOTLYENV.BASE_URL=\"https://plot.ly\";Plotly.newPlot(\"51758813-ffd0-411c-8764-84c5e9942302\", [{\"name\": \"\\u4eba\\u5458\", \"x\": [9], \"y\": [18], \"type\": \"bar\", \"uid\": \"27ccc995-d11a-11e8-8ddb-a41f72875c19\"}], {\"title\": \"\\u4eba\\u5458\\u6708\\u8d8b\\u52bf\\u56fe\", \"xaxis\": {\"mirror\": \"all\", \"nticks\": 20, \"showgrid\": true, \"showline\": true, \"title\": \"\\u6708\", \"zeroline\": true}, \"yaxis\": {\"mirror\": \"all\", \"nticks\": 20, \"showgrid\": true, \"showline\": true, \"title\": \"\\u4eba\\u5458\", \"zeroline\": true}}, {\"showLink\": true, \"linkText\": \"Export to plot.ly\"})});</script>"
      ]
     },
     "metadata": {},
     "output_type": "display_data"
    }
   ],
   "source": [
    "ss = myModule.format(all_df1 ,\"month\" ,['人员'] )\n",
    "ss.get_average_by('日期（格式“月-周次”）')\n",
    "tt = myModule.myPlot(ss.groupby(\"count\") )# ,\"日期（格式“月-周次”）\" ,['人员'])\n",
    "tt.plot('bar',tag='月')"
   ]
  },
  {
   "cell_type": "markdown",
   "metadata": {},
   "source": [
    "## 各组人员情况"
   ]
  },
  {
   "cell_type": "code",
   "execution_count": 112,
   "metadata": {
    "collapsed": false
   },
   "outputs": [
    {
     "data": {
      "application/vnd.plotly.v1+json": {
       "data": [
        {
         "name": "人员(分析一组)",
         "type": "bar",
         "uid": "27ccc996-d11a-11e8-8ddb-a41f72875c19",
         "x": [
          "9-1",
          "9-2",
          "9-3",
          "9-4"
         ],
         "y": [
          4,
          4,
          4,
          4
         ]
        },
        {
         "name": "人员(分析二组)",
         "type": "bar",
         "uid": "27ccc997-d11a-11e8-8ddb-a41f72875c19",
         "x": [
          "9-1",
          "9-2",
          "9-3",
          "9-4"
         ],
         "y": [
          10,
          10,
          10,
          10
         ]
        },
        {
         "name": "人员(个性化组)",
         "type": "bar",
         "uid": "27ccc998-d11a-11e8-8ddb-a41f72875c19",
         "x": [
          "9-1",
          "9-2",
          "9-3",
          "9-4"
         ],
         "y": [
          4,
          4,
          4,
          4
         ]
        }
       ],
       "layout": {
        "barmode": "stack",
        "title": "人员周趋势图",
        "xaxis": {
         "mirror": "all",
         "nticks": 20,
         "showgrid": true,
         "showline": true,
         "title": "周",
         "zeroline": true
        },
        "yaxis": {
         "mirror": "all",
         "nticks": 20,
         "showgrid": true,
         "showline": true,
         "title": "人员",
         "zeroline": true
        }
       }
      },
      "text/html": [
       "<div id=\"4bd5bfa5-91a8-4e22-8157-2f270fe70e50\" style=\"height: 525px; width: 100%;\" class=\"plotly-graph-div\"></div><script type=\"text/javascript\">require([\"plotly\"], function(Plotly) { window.PLOTLYENV=window.PLOTLYENV || {};window.PLOTLYENV.BASE_URL=\"https://plot.ly\";Plotly.newPlot(\"4bd5bfa5-91a8-4e22-8157-2f270fe70e50\", [{\"name\": \"\\u4eba\\u5458(\\u5206\\u6790\\u4e00\\u7ec4)\", \"x\": [\"9-1\", \"9-2\", \"9-3\", \"9-4\"], \"y\": [4, 4, 4, 4], \"type\": \"bar\", \"uid\": \"27ccc996-d11a-11e8-8ddb-a41f72875c19\"}, {\"name\": \"\\u4eba\\u5458(\\u5206\\u6790\\u4e8c\\u7ec4)\", \"x\": [\"9-1\", \"9-2\", \"9-3\", \"9-4\"], \"y\": [10, 10, 10, 10], \"type\": \"bar\", \"uid\": \"27ccc997-d11a-11e8-8ddb-a41f72875c19\"}, {\"name\": \"\\u4eba\\u5458(\\u4e2a\\u6027\\u5316\\u7ec4)\", \"x\": [\"9-1\", \"9-2\", \"9-3\", \"9-4\"], \"y\": [4, 4, 4, 4], \"type\": \"bar\", \"uid\": \"27ccc998-d11a-11e8-8ddb-a41f72875c19\"}], {\"barmode\": \"stack\", \"title\": \"\\u4eba\\u5458\\u5468\\u8d8b\\u52bf\\u56fe\", \"xaxis\": {\"mirror\": \"all\", \"nticks\": 20, \"showgrid\": true, \"showline\": true, \"title\": \"\\u5468\", \"zeroline\": true}, \"yaxis\": {\"mirror\": \"all\", \"nticks\": 20, \"showgrid\": true, \"showline\": true, \"title\": \"\\u4eba\\u5458\", \"zeroline\": true}}, {\"showLink\": true, \"linkText\": \"Export to plot.ly\"})});</script>"
      ],
      "text/vnd.plotly.v1+html": [
       "<div id=\"4bd5bfa5-91a8-4e22-8157-2f270fe70e50\" style=\"height: 525px; width: 100%;\" class=\"plotly-graph-div\"></div><script type=\"text/javascript\">require([\"plotly\"], function(Plotly) { window.PLOTLYENV=window.PLOTLYENV || {};window.PLOTLYENV.BASE_URL=\"https://plot.ly\";Plotly.newPlot(\"4bd5bfa5-91a8-4e22-8157-2f270fe70e50\", [{\"name\": \"\\u4eba\\u5458(\\u5206\\u6790\\u4e00\\u7ec4)\", \"x\": [\"9-1\", \"9-2\", \"9-3\", \"9-4\"], \"y\": [4, 4, 4, 4], \"type\": \"bar\", \"uid\": \"27ccc996-d11a-11e8-8ddb-a41f72875c19\"}, {\"name\": \"\\u4eba\\u5458(\\u5206\\u6790\\u4e8c\\u7ec4)\", \"x\": [\"9-1\", \"9-2\", \"9-3\", \"9-4\"], \"y\": [10, 10, 10, 10], \"type\": \"bar\", \"uid\": \"27ccc997-d11a-11e8-8ddb-a41f72875c19\"}, {\"name\": \"\\u4eba\\u5458(\\u4e2a\\u6027\\u5316\\u7ec4)\", \"x\": [\"9-1\", \"9-2\", \"9-3\", \"9-4\"], \"y\": [4, 4, 4, 4], \"type\": \"bar\", \"uid\": \"27ccc998-d11a-11e8-8ddb-a41f72875c19\"}], {\"barmode\": \"stack\", \"title\": \"\\u4eba\\u5458\\u5468\\u8d8b\\u52bf\\u56fe\", \"xaxis\": {\"mirror\": \"all\", \"nticks\": 20, \"showgrid\": true, \"showline\": true, \"title\": \"\\u5468\", \"zeroline\": true}, \"yaxis\": {\"mirror\": \"all\", \"nticks\": 20, \"showgrid\": true, \"showline\": true, \"title\": \"\\u4eba\\u5458\", \"zeroline\": true}}, {\"showLink\": true, \"linkText\": \"Export to plot.ly\"})});</script>"
      ]
     },
     "metadata": {},
     "output_type": "display_data"
    }
   ],
   "source": [
    "ss = myModule.format(all_df1 ,\"日期（格式“月-周次”）\" ,['人员'])\n",
    "ss.add_group('组别')\n",
    "myModule.myPlot(ss.groupby('count')).plot('stack_bar')"
   ]
  },
  {
   "cell_type": "markdown",
   "metadata": {},
   "source": [
    "# 产能情况"
   ]
  },
  {
   "cell_type": "markdown",
   "metadata": {},
   "source": [
    "## 总完成项目数情况"
   ]
  },
  {
   "cell_type": "markdown",
   "metadata": {},
   "source": [
    "### 分析组完成项目数"
   ]
  },
  {
   "cell_type": "code",
   "execution_count": 113,
   "metadata": {
    "collapsed": false
   },
   "outputs": [
    {
     "data": {
      "application/vnd.plotly.v1+json": {
       "data": [
        {
         "name": "完成个性化数",
         "type": "bar",
         "uid": "27ccc999-d11a-11e8-8ddb-a41f72875c19",
         "x": [
          "9-1",
          "9-2",
          "9-3",
          "9-4"
         ],
         "y": [
          31,
          39,
          41,
          28
         ]
        },
        {
         "name": "完成商业项目数",
         "type": "bar",
         "uid": "27ccc99a-d11a-11e8-8ddb-a41f72875c19",
         "x": [
          "9-1",
          "9-2",
          "9-3",
          "9-4"
         ],
         "y": [
          26,
          40,
          23,
          28
         ]
        }
       ],
       "layout": {
        "barmode": "stack",
        "title": "完成个性化数&完成商业项目数周趋势图",
        "xaxis": {
         "mirror": "all",
         "nticks": 20,
         "showgrid": true,
         "showline": true,
         "title": "周",
         "zeroline": true
        },
        "yaxis": {
         "mirror": "all",
         "nticks": 20,
         "showgrid": true,
         "showline": true,
         "title": "完成个性化数&完成商业项目数",
         "zeroline": true
        }
       }
      },
      "text/html": [
       "<div id=\"1b5a5905-b176-42c7-8951-f445936077d5\" style=\"height: 525px; width: 100%;\" class=\"plotly-graph-div\"></div><script type=\"text/javascript\">require([\"plotly\"], function(Plotly) { window.PLOTLYENV=window.PLOTLYENV || {};window.PLOTLYENV.BASE_URL=\"https://plot.ly\";Plotly.newPlot(\"1b5a5905-b176-42c7-8951-f445936077d5\", [{\"name\": \"\\u5b8c\\u6210\\u4e2a\\u6027\\u5316\\u6570\", \"x\": [\"9-1\", \"9-2\", \"9-3\", \"9-4\"], \"y\": [31, 39, 41, 28], \"type\": \"bar\", \"uid\": \"27ccc999-d11a-11e8-8ddb-a41f72875c19\"}, {\"name\": \"\\u5b8c\\u6210\\u5546\\u4e1a\\u9879\\u76ee\\u6570\", \"x\": [\"9-1\", \"9-2\", \"9-3\", \"9-4\"], \"y\": [26, 40, 23, 28], \"type\": \"bar\", \"uid\": \"27ccc99a-d11a-11e8-8ddb-a41f72875c19\"}], {\"barmode\": \"stack\", \"title\": \"\\u5b8c\\u6210\\u4e2a\\u6027\\u5316\\u6570&\\u5b8c\\u6210\\u5546\\u4e1a\\u9879\\u76ee\\u6570\\u5468\\u8d8b\\u52bf\\u56fe\", \"xaxis\": {\"mirror\": \"all\", \"nticks\": 20, \"showgrid\": true, \"showline\": true, \"title\": \"\\u5468\", \"zeroline\": true}, \"yaxis\": {\"mirror\": \"all\", \"nticks\": 20, \"showgrid\": true, \"showline\": true, \"title\": \"\\u5b8c\\u6210\\u4e2a\\u6027\\u5316\\u6570&\\u5b8c\\u6210\\u5546\\u4e1a\\u9879\\u76ee\\u6570\", \"zeroline\": true}}, {\"showLink\": true, \"linkText\": \"Export to plot.ly\"})});</script>"
      ],
      "text/vnd.plotly.v1+html": [
       "<div id=\"1b5a5905-b176-42c7-8951-f445936077d5\" style=\"height: 525px; width: 100%;\" class=\"plotly-graph-div\"></div><script type=\"text/javascript\">require([\"plotly\"], function(Plotly) { window.PLOTLYENV=window.PLOTLYENV || {};window.PLOTLYENV.BASE_URL=\"https://plot.ly\";Plotly.newPlot(\"1b5a5905-b176-42c7-8951-f445936077d5\", [{\"name\": \"\\u5b8c\\u6210\\u4e2a\\u6027\\u5316\\u6570\", \"x\": [\"9-1\", \"9-2\", \"9-3\", \"9-4\"], \"y\": [31, 39, 41, 28], \"type\": \"bar\", \"uid\": \"27ccc999-d11a-11e8-8ddb-a41f72875c19\"}, {\"name\": \"\\u5b8c\\u6210\\u5546\\u4e1a\\u9879\\u76ee\\u6570\", \"x\": [\"9-1\", \"9-2\", \"9-3\", \"9-4\"], \"y\": [26, 40, 23, 28], \"type\": \"bar\", \"uid\": \"27ccc99a-d11a-11e8-8ddb-a41f72875c19\"}], {\"barmode\": \"stack\", \"title\": \"\\u5b8c\\u6210\\u4e2a\\u6027\\u5316\\u6570&\\u5b8c\\u6210\\u5546\\u4e1a\\u9879\\u76ee\\u6570\\u5468\\u8d8b\\u52bf\\u56fe\", \"xaxis\": {\"mirror\": \"all\", \"nticks\": 20, \"showgrid\": true, \"showline\": true, \"title\": \"\\u5468\", \"zeroline\": true}, \"yaxis\": {\"mirror\": \"all\", \"nticks\": 20, \"showgrid\": true, \"showline\": true, \"title\": \"\\u5b8c\\u6210\\u4e2a\\u6027\\u5316\\u6570&\\u5b8c\\u6210\\u5546\\u4e1a\\u9879\\u76ee\\u6570\", \"zeroline\": true}}, {\"showLink\": true, \"linkText\": \"Export to plot.ly\"})});</script>"
      ]
     },
     "metadata": {},
     "output_type": "display_data"
    },
    {
     "data": {
      "application/vnd.plotly.v1+json": {
       "data": [
        {
         "name": "完成个性化数",
         "type": "bar",
         "uid": "27ccc99b-d11a-11e8-8ddb-a41f72875c19",
         "x": [
          9
         ],
         "y": [
          139
         ]
        },
        {
         "name": "完成商业项目数",
         "type": "bar",
         "uid": "27ccc99c-d11a-11e8-8ddb-a41f72875c19",
         "x": [
          9
         ],
         "y": [
          117
         ]
        }
       ],
       "layout": {
        "barmode": "stack",
        "title": "完成个性化数&完成商业项目数月趋势图",
        "xaxis": {
         "mirror": "all",
         "nticks": 20,
         "showgrid": true,
         "showline": true,
         "title": "月",
         "zeroline": true
        },
        "yaxis": {
         "mirror": "all",
         "nticks": 20,
         "showgrid": true,
         "showline": true,
         "title": "完成个性化数&完成商业项目数",
         "zeroline": true
        }
       }
      },
      "text/html": [
       "<div id=\"489aab0a-14c3-4561-a1bb-c026424f691f\" style=\"height: 525px; width: 100%;\" class=\"plotly-graph-div\"></div><script type=\"text/javascript\">require([\"plotly\"], function(Plotly) { window.PLOTLYENV=window.PLOTLYENV || {};window.PLOTLYENV.BASE_URL=\"https://plot.ly\";Plotly.newPlot(\"489aab0a-14c3-4561-a1bb-c026424f691f\", [{\"name\": \"\\u5b8c\\u6210\\u4e2a\\u6027\\u5316\\u6570\", \"x\": [9], \"y\": [139], \"type\": \"bar\", \"uid\": \"27ccc99b-d11a-11e8-8ddb-a41f72875c19\"}, {\"name\": \"\\u5b8c\\u6210\\u5546\\u4e1a\\u9879\\u76ee\\u6570\", \"x\": [9], \"y\": [117], \"type\": \"bar\", \"uid\": \"27ccc99c-d11a-11e8-8ddb-a41f72875c19\"}], {\"barmode\": \"stack\", \"title\": \"\\u5b8c\\u6210\\u4e2a\\u6027\\u5316\\u6570&\\u5b8c\\u6210\\u5546\\u4e1a\\u9879\\u76ee\\u6570\\u6708\\u8d8b\\u52bf\\u56fe\", \"xaxis\": {\"mirror\": \"all\", \"nticks\": 20, \"showgrid\": true, \"showline\": true, \"title\": \"\\u6708\", \"zeroline\": true}, \"yaxis\": {\"mirror\": \"all\", \"nticks\": 20, \"showgrid\": true, \"showline\": true, \"title\": \"\\u5b8c\\u6210\\u4e2a\\u6027\\u5316\\u6570&\\u5b8c\\u6210\\u5546\\u4e1a\\u9879\\u76ee\\u6570\", \"zeroline\": true}}, {\"showLink\": true, \"linkText\": \"Export to plot.ly\"})});</script>"
      ],
      "text/vnd.plotly.v1+html": [
       "<div id=\"489aab0a-14c3-4561-a1bb-c026424f691f\" style=\"height: 525px; width: 100%;\" class=\"plotly-graph-div\"></div><script type=\"text/javascript\">require([\"plotly\"], function(Plotly) { window.PLOTLYENV=window.PLOTLYENV || {};window.PLOTLYENV.BASE_URL=\"https://plot.ly\";Plotly.newPlot(\"489aab0a-14c3-4561-a1bb-c026424f691f\", [{\"name\": \"\\u5b8c\\u6210\\u4e2a\\u6027\\u5316\\u6570\", \"x\": [9], \"y\": [139], \"type\": \"bar\", \"uid\": \"27ccc99b-d11a-11e8-8ddb-a41f72875c19\"}, {\"name\": \"\\u5b8c\\u6210\\u5546\\u4e1a\\u9879\\u76ee\\u6570\", \"x\": [9], \"y\": [117], \"type\": \"bar\", \"uid\": \"27ccc99c-d11a-11e8-8ddb-a41f72875c19\"}], {\"barmode\": \"stack\", \"title\": \"\\u5b8c\\u6210\\u4e2a\\u6027\\u5316\\u6570&\\u5b8c\\u6210\\u5546\\u4e1a\\u9879\\u76ee\\u6570\\u6708\\u8d8b\\u52bf\\u56fe\", \"xaxis\": {\"mirror\": \"all\", \"nticks\": 20, \"showgrid\": true, \"showline\": true, \"title\": \"\\u6708\", \"zeroline\": true}, \"yaxis\": {\"mirror\": \"all\", \"nticks\": 20, \"showgrid\": true, \"showline\": true, \"title\": \"\\u5b8c\\u6210\\u4e2a\\u6027\\u5316\\u6570&\\u5b8c\\u6210\\u5546\\u4e1a\\u9879\\u76ee\\u6570\", \"zeroline\": true}}, {\"showLink\": true, \"linkText\": \"Export to plot.ly\"})});</script>"
      ]
     },
     "metadata": {},
     "output_type": "display_data"
    }
   ],
   "source": [
    "ss = myModule.format(all_df1 ,\"日期（格式“月-周次”）\" ,['完成商业项目数','完成个性化数'])\n",
    "myModule.myPlot(ss.groupby('sum')).plot('stack_bar')\n",
    "ss = myModule.format(all_df1 ,\"month\" ,['完成商业项目数','完成个性化数'])\n",
    "myModule.myPlot(ss.groupby('sum')).plot('stack_bar',\"月\")"
   ]
  },
  {
   "cell_type": "markdown",
   "metadata": {},
   "source": [
    "### 项目组成情况"
   ]
  },
  {
   "cell_type": "code",
   "execution_count": 114,
   "metadata": {
    "collapsed": false,
    "scrolled": true
   },
   "outputs": [
    {
     "data": {
      "application/vnd.plotly.v1+json": {
       "data": [
        {
         "name": "完成只分析项目数",
         "type": "bar",
         "uid": "27ccc99d-d11a-11e8-8ddb-a41f72875c19",
         "x": [
          "9-1",
          "9-2",
          "9-3",
          "9-4"
         ],
         "y": [
          2,
          9,
          6,
          4
         ]
        },
        {
         "name": "完成流水线项目数",
         "type": "bar",
         "uid": "27ccc99e-d11a-11e8-8ddb-a41f72875c19",
         "x": [
          "9-1",
          "9-2",
          "9-3",
          "9-4"
         ],
         "y": [
          10,
          14,
          4,
          10
         ]
        },
        {
         "name": "完成非流水线项目数",
         "type": "bar",
         "uid": "27ccc99f-d11a-11e8-8ddb-a41f72875c19",
         "x": [
          "9-1",
          "9-2",
          "9-3",
          "9-4"
         ],
         "y": [
          10,
          14,
          10,
          14
         ]
        },
        {
         "name": "完成联合分析项目数",
         "type": "bar",
         "uid": "27ccc9a0-d11a-11e8-8ddb-a41f72875c19",
         "x": [
          "9-1",
          "9-2",
          "9-3",
          "9-4"
         ],
         "y": [
          4,
          3,
          3,
          0
         ]
        }
       ],
       "layout": {
        "barmode": "stack",
        "title": "项目组成情况",
        "xaxis": {
         "mirror": "all",
         "nticks": 20,
         "showgrid": true,
         "showline": true,
         "title": "周",
         "zeroline": true
        },
        "yaxis": {
         "mirror": "all",
         "nticks": 20,
         "showgrid": true,
         "showline": true,
         "title": "完成只分析项目数&完成流水线项目数&完成非流水线项目数&完成联合分析项目数",
         "zeroline": true
        }
       }
      },
      "text/html": [
       "<div id=\"2d4a8f0b-26eb-4371-82d0-5aa0aed54592\" style=\"height: 525px; width: 100%;\" class=\"plotly-graph-div\"></div><script type=\"text/javascript\">require([\"plotly\"], function(Plotly) { window.PLOTLYENV=window.PLOTLYENV || {};window.PLOTLYENV.BASE_URL=\"https://plot.ly\";Plotly.newPlot(\"2d4a8f0b-26eb-4371-82d0-5aa0aed54592\", [{\"name\": \"\\u5b8c\\u6210\\u53ea\\u5206\\u6790\\u9879\\u76ee\\u6570\", \"x\": [\"9-1\", \"9-2\", \"9-3\", \"9-4\"], \"y\": [2, 9, 6, 4], \"type\": \"bar\", \"uid\": \"27ccc99d-d11a-11e8-8ddb-a41f72875c19\"}, {\"name\": \"\\u5b8c\\u6210\\u6d41\\u6c34\\u7ebf\\u9879\\u76ee\\u6570\", \"x\": [\"9-1\", \"9-2\", \"9-3\", \"9-4\"], \"y\": [10, 14, 4, 10], \"type\": \"bar\", \"uid\": \"27ccc99e-d11a-11e8-8ddb-a41f72875c19\"}, {\"name\": \"\\u5b8c\\u6210\\u975e\\u6d41\\u6c34\\u7ebf\\u9879\\u76ee\\u6570\", \"x\": [\"9-1\", \"9-2\", \"9-3\", \"9-4\"], \"y\": [10, 14, 10, 14], \"type\": \"bar\", \"uid\": \"27ccc99f-d11a-11e8-8ddb-a41f72875c19\"}, {\"name\": \"\\u5b8c\\u6210\\u8054\\u5408\\u5206\\u6790\\u9879\\u76ee\\u6570\", \"x\": [\"9-1\", \"9-2\", \"9-3\", \"9-4\"], \"y\": [4, 3, 3, 0], \"type\": \"bar\", \"uid\": \"27ccc9a0-d11a-11e8-8ddb-a41f72875c19\"}], {\"barmode\": \"stack\", \"title\": \"\\u9879\\u76ee\\u7ec4\\u6210\\u60c5\\u51b5\", \"xaxis\": {\"mirror\": \"all\", \"nticks\": 20, \"showgrid\": true, \"showline\": true, \"title\": \"\\u5468\", \"zeroline\": true}, \"yaxis\": {\"mirror\": \"all\", \"nticks\": 20, \"showgrid\": true, \"showline\": true, \"title\": \"\\u5b8c\\u6210\\u53ea\\u5206\\u6790\\u9879\\u76ee\\u6570&\\u5b8c\\u6210\\u6d41\\u6c34\\u7ebf\\u9879\\u76ee\\u6570&\\u5b8c\\u6210\\u975e\\u6d41\\u6c34\\u7ebf\\u9879\\u76ee\\u6570&\\u5b8c\\u6210\\u8054\\u5408\\u5206\\u6790\\u9879\\u76ee\\u6570\", \"zeroline\": true}}, {\"showLink\": true, \"linkText\": \"Export to plot.ly\"})});</script>"
      ],
      "text/vnd.plotly.v1+html": [
       "<div id=\"2d4a8f0b-26eb-4371-82d0-5aa0aed54592\" style=\"height: 525px; width: 100%;\" class=\"plotly-graph-div\"></div><script type=\"text/javascript\">require([\"plotly\"], function(Plotly) { window.PLOTLYENV=window.PLOTLYENV || {};window.PLOTLYENV.BASE_URL=\"https://plot.ly\";Plotly.newPlot(\"2d4a8f0b-26eb-4371-82d0-5aa0aed54592\", [{\"name\": \"\\u5b8c\\u6210\\u53ea\\u5206\\u6790\\u9879\\u76ee\\u6570\", \"x\": [\"9-1\", \"9-2\", \"9-3\", \"9-4\"], \"y\": [2, 9, 6, 4], \"type\": \"bar\", \"uid\": \"27ccc99d-d11a-11e8-8ddb-a41f72875c19\"}, {\"name\": \"\\u5b8c\\u6210\\u6d41\\u6c34\\u7ebf\\u9879\\u76ee\\u6570\", \"x\": [\"9-1\", \"9-2\", \"9-3\", \"9-4\"], \"y\": [10, 14, 4, 10], \"type\": \"bar\", \"uid\": \"27ccc99e-d11a-11e8-8ddb-a41f72875c19\"}, {\"name\": \"\\u5b8c\\u6210\\u975e\\u6d41\\u6c34\\u7ebf\\u9879\\u76ee\\u6570\", \"x\": [\"9-1\", \"9-2\", \"9-3\", \"9-4\"], \"y\": [10, 14, 10, 14], \"type\": \"bar\", \"uid\": \"27ccc99f-d11a-11e8-8ddb-a41f72875c19\"}, {\"name\": \"\\u5b8c\\u6210\\u8054\\u5408\\u5206\\u6790\\u9879\\u76ee\\u6570\", \"x\": [\"9-1\", \"9-2\", \"9-3\", \"9-4\"], \"y\": [4, 3, 3, 0], \"type\": \"bar\", \"uid\": \"27ccc9a0-d11a-11e8-8ddb-a41f72875c19\"}], {\"barmode\": \"stack\", \"title\": \"\\u9879\\u76ee\\u7ec4\\u6210\\u60c5\\u51b5\", \"xaxis\": {\"mirror\": \"all\", \"nticks\": 20, \"showgrid\": true, \"showline\": true, \"title\": \"\\u5468\", \"zeroline\": true}, \"yaxis\": {\"mirror\": \"all\", \"nticks\": 20, \"showgrid\": true, \"showline\": true, \"title\": \"\\u5b8c\\u6210\\u53ea\\u5206\\u6790\\u9879\\u76ee\\u6570&\\u5b8c\\u6210\\u6d41\\u6c34\\u7ebf\\u9879\\u76ee\\u6570&\\u5b8c\\u6210\\u975e\\u6d41\\u6c34\\u7ebf\\u9879\\u76ee\\u6570&\\u5b8c\\u6210\\u8054\\u5408\\u5206\\u6790\\u9879\\u76ee\\u6570\", \"zeroline\": true}}, {\"showLink\": true, \"linkText\": \"Export to plot.ly\"})});</script>"
      ]
     },
     "metadata": {},
     "output_type": "display_data"
    },
    {
     "data": {
      "application/vnd.plotly.v1+json": {
       "data": [
        {
         "name": "完成只分析项目数",
         "type": "bar",
         "uid": "27ccc9a1-d11a-11e8-8ddb-a41f72875c19",
         "x": [
          9
         ],
         "y": [
          21
         ]
        },
        {
         "name": "完成流水线项目数",
         "type": "bar",
         "uid": "27ccc9a2-d11a-11e8-8ddb-a41f72875c19",
         "x": [
          9
         ],
         "y": [
          38
         ]
        },
        {
         "name": "完成非流水线项目数",
         "type": "bar",
         "uid": "27ccc9a3-d11a-11e8-8ddb-a41f72875c19",
         "x": [
          9
         ],
         "y": [
          48
         ]
        },
        {
         "name": "完成联合分析项目数",
         "type": "bar",
         "uid": "27ccc9a4-d11a-11e8-8ddb-a41f72875c19",
         "x": [
          9
         ],
         "y": [
          10
         ]
        }
       ],
       "layout": {
        "barmode": "stack",
        "title": "项目组成情况",
        "xaxis": {
         "mirror": "all",
         "nticks": 20,
         "showgrid": true,
         "showline": true,
         "title": "月",
         "zeroline": true
        },
        "yaxis": {
         "mirror": "all",
         "nticks": 20,
         "showgrid": true,
         "showline": true,
         "title": "完成只分析项目数&完成流水线项目数&完成非流水线项目数&完成联合分析项目数",
         "zeroline": true
        }
       }
      },
      "text/html": [
       "<div id=\"d25348f8-9929-4cf1-851f-ac9932ce50ba\" style=\"height: 525px; width: 100%;\" class=\"plotly-graph-div\"></div><script type=\"text/javascript\">require([\"plotly\"], function(Plotly) { window.PLOTLYENV=window.PLOTLYENV || {};window.PLOTLYENV.BASE_URL=\"https://plot.ly\";Plotly.newPlot(\"d25348f8-9929-4cf1-851f-ac9932ce50ba\", [{\"name\": \"\\u5b8c\\u6210\\u53ea\\u5206\\u6790\\u9879\\u76ee\\u6570\", \"x\": [9], \"y\": [21], \"type\": \"bar\", \"uid\": \"27ccc9a1-d11a-11e8-8ddb-a41f72875c19\"}, {\"name\": \"\\u5b8c\\u6210\\u6d41\\u6c34\\u7ebf\\u9879\\u76ee\\u6570\", \"x\": [9], \"y\": [38], \"type\": \"bar\", \"uid\": \"27ccc9a2-d11a-11e8-8ddb-a41f72875c19\"}, {\"name\": \"\\u5b8c\\u6210\\u975e\\u6d41\\u6c34\\u7ebf\\u9879\\u76ee\\u6570\", \"x\": [9], \"y\": [48], \"type\": \"bar\", \"uid\": \"27ccc9a3-d11a-11e8-8ddb-a41f72875c19\"}, {\"name\": \"\\u5b8c\\u6210\\u8054\\u5408\\u5206\\u6790\\u9879\\u76ee\\u6570\", \"x\": [9], \"y\": [10], \"type\": \"bar\", \"uid\": \"27ccc9a4-d11a-11e8-8ddb-a41f72875c19\"}], {\"barmode\": \"stack\", \"title\": \"\\u9879\\u76ee\\u7ec4\\u6210\\u60c5\\u51b5\", \"xaxis\": {\"mirror\": \"all\", \"nticks\": 20, \"showgrid\": true, \"showline\": true, \"title\": \"\\u6708\", \"zeroline\": true}, \"yaxis\": {\"mirror\": \"all\", \"nticks\": 20, \"showgrid\": true, \"showline\": true, \"title\": \"\\u5b8c\\u6210\\u53ea\\u5206\\u6790\\u9879\\u76ee\\u6570&\\u5b8c\\u6210\\u6d41\\u6c34\\u7ebf\\u9879\\u76ee\\u6570&\\u5b8c\\u6210\\u975e\\u6d41\\u6c34\\u7ebf\\u9879\\u76ee\\u6570&\\u5b8c\\u6210\\u8054\\u5408\\u5206\\u6790\\u9879\\u76ee\\u6570\", \"zeroline\": true}}, {\"showLink\": true, \"linkText\": \"Export to plot.ly\"})});</script>"
      ],
      "text/vnd.plotly.v1+html": [
       "<div id=\"d25348f8-9929-4cf1-851f-ac9932ce50ba\" style=\"height: 525px; width: 100%;\" class=\"plotly-graph-div\"></div><script type=\"text/javascript\">require([\"plotly\"], function(Plotly) { window.PLOTLYENV=window.PLOTLYENV || {};window.PLOTLYENV.BASE_URL=\"https://plot.ly\";Plotly.newPlot(\"d25348f8-9929-4cf1-851f-ac9932ce50ba\", [{\"name\": \"\\u5b8c\\u6210\\u53ea\\u5206\\u6790\\u9879\\u76ee\\u6570\", \"x\": [9], \"y\": [21], \"type\": \"bar\", \"uid\": \"27ccc9a1-d11a-11e8-8ddb-a41f72875c19\"}, {\"name\": \"\\u5b8c\\u6210\\u6d41\\u6c34\\u7ebf\\u9879\\u76ee\\u6570\", \"x\": [9], \"y\": [38], \"type\": \"bar\", \"uid\": \"27ccc9a2-d11a-11e8-8ddb-a41f72875c19\"}, {\"name\": \"\\u5b8c\\u6210\\u975e\\u6d41\\u6c34\\u7ebf\\u9879\\u76ee\\u6570\", \"x\": [9], \"y\": [48], \"type\": \"bar\", \"uid\": \"27ccc9a3-d11a-11e8-8ddb-a41f72875c19\"}, {\"name\": \"\\u5b8c\\u6210\\u8054\\u5408\\u5206\\u6790\\u9879\\u76ee\\u6570\", \"x\": [9], \"y\": [10], \"type\": \"bar\", \"uid\": \"27ccc9a4-d11a-11e8-8ddb-a41f72875c19\"}], {\"barmode\": \"stack\", \"title\": \"\\u9879\\u76ee\\u7ec4\\u6210\\u60c5\\u51b5\", \"xaxis\": {\"mirror\": \"all\", \"nticks\": 20, \"showgrid\": true, \"showline\": true, \"title\": \"\\u6708\", \"zeroline\": true}, \"yaxis\": {\"mirror\": \"all\", \"nticks\": 20, \"showgrid\": true, \"showline\": true, \"title\": \"\\u5b8c\\u6210\\u53ea\\u5206\\u6790\\u9879\\u76ee\\u6570&\\u5b8c\\u6210\\u6d41\\u6c34\\u7ebf\\u9879\\u76ee\\u6570&\\u5b8c\\u6210\\u975e\\u6d41\\u6c34\\u7ebf\\u9879\\u76ee\\u6570&\\u5b8c\\u6210\\u8054\\u5408\\u5206\\u6790\\u9879\\u76ee\\u6570\", \"zeroline\": true}}, {\"showLink\": true, \"linkText\": \"Export to plot.ly\"})});</script>"
      ]
     },
     "metadata": {},
     "output_type": "display_data"
    }
   ],
   "source": [
    "ss = myModule.format(all_df1 ,\"日期（格式“月-周次”）\" ,['完成流水线项目数','完成非流水线项目数','完成只分析项目数','完成联合分析项目数'])\n",
    "myModule.myPlot(ss.groupby('sum')).plot('stack_bar',fig_title='项目组成情况')\n",
    "ss = myModule.format(all_df1 ,\"month\" ,['完成流水线项目数','完成非流水线项目数','完成只分析项目数','完成联合分析项目数'])\n",
    "myModule.myPlot(ss.groupby('sum')).plot('stack_bar',\"月\",fig_title='项目组成情况')"
   ]
  },
  {
   "cell_type": "markdown",
   "metadata": {},
   "source": [
    "### 各组总完成项目趋势图"
   ]
  },
  {
   "cell_type": "code",
   "execution_count": 115,
   "metadata": {
    "collapsed": false
   },
   "outputs": [
    {
     "data": {
      "application/vnd.plotly.v1+json": {
       "data": [
        {
         "line": {
          "dash": "solid"
         },
         "name": "完成项目总数(分析一组)",
         "type": "scatter",
         "uid": "27ccc9a5-d11a-11e8-8ddb-a41f72875c19",
         "x": [
          "9-1",
          "9-2",
          "9-3",
          "9-4"
         ],
         "y": [
          2.75,
          3.75,
          2.25,
          2.5
         ]
        },
        {
         "line": {
          "dash": "dot"
         },
         "name": "完成项目总数(分析二组)",
         "type": "scatter",
         "uid": "27ccc9a6-d11a-11e8-8ddb-a41f72875c19",
         "x": [
          "9-1",
          "9-2",
          "9-3",
          "9-4"
         ],
         "y": [
          2.8,
          5,
          4.2,
          3.2
         ]
        },
        {
         "line": {
          "dash": "dash"
         },
         "name": "完成项目总数(个性化组)",
         "type": "scatter",
         "uid": "27ccc9a7-d11a-11e8-8ddb-a41f72875c19",
         "x": [
          "9-1",
          "9-2",
          "9-3",
          "9-4"
         ],
         "y": [
          4.5,
          3.5,
          3.25,
          3.5
         ]
        }
       ],
       "layout": {
        "title": "完成项目总数周趋势图",
        "xaxis": {
         "mirror": "all",
         "nticks": 20,
         "showgrid": true,
         "showline": true,
         "title": "周",
         "zeroline": true
        },
        "yaxis": {
         "mirror": "all",
         "nticks": 20,
         "showgrid": true,
         "showline": true,
         "title": "完成项目总数",
         "zeroline": true
        }
       }
      },
      "text/html": [
       "<div id=\"6d7bbbd2-e1d9-4add-8a86-f1b5a12be181\" style=\"height: 525px; width: 100%;\" class=\"plotly-graph-div\"></div><script type=\"text/javascript\">require([\"plotly\"], function(Plotly) { window.PLOTLYENV=window.PLOTLYENV || {};window.PLOTLYENV.BASE_URL=\"https://plot.ly\";Plotly.newPlot(\"6d7bbbd2-e1d9-4add-8a86-f1b5a12be181\", [{\"line\": {\"dash\": \"solid\"}, \"name\": \"\\u5b8c\\u6210\\u9879\\u76ee\\u603b\\u6570(\\u5206\\u6790\\u4e00\\u7ec4)\", \"x\": [\"9-1\", \"9-2\", \"9-3\", \"9-4\"], \"y\": [2.75, 3.75, 2.25, 2.5], \"type\": \"scatter\", \"uid\": \"27ccc9a5-d11a-11e8-8ddb-a41f72875c19\"}, {\"line\": {\"dash\": \"dot\"}, \"name\": \"\\u5b8c\\u6210\\u9879\\u76ee\\u603b\\u6570(\\u5206\\u6790\\u4e8c\\u7ec4)\", \"x\": [\"9-1\", \"9-2\", \"9-3\", \"9-4\"], \"y\": [2.8, 5.0, 4.2, 3.2], \"type\": \"scatter\", \"uid\": \"27ccc9a6-d11a-11e8-8ddb-a41f72875c19\"}, {\"line\": {\"dash\": \"dash\"}, \"name\": \"\\u5b8c\\u6210\\u9879\\u76ee\\u603b\\u6570(\\u4e2a\\u6027\\u5316\\u7ec4)\", \"x\": [\"9-1\", \"9-2\", \"9-3\", \"9-4\"], \"y\": [4.5, 3.5, 3.25, 3.5], \"type\": \"scatter\", \"uid\": \"27ccc9a7-d11a-11e8-8ddb-a41f72875c19\"}], {\"title\": \"\\u5b8c\\u6210\\u9879\\u76ee\\u603b\\u6570\\u5468\\u8d8b\\u52bf\\u56fe\", \"xaxis\": {\"mirror\": \"all\", \"nticks\": 20, \"showgrid\": true, \"showline\": true, \"title\": \"\\u5468\", \"zeroline\": true}, \"yaxis\": {\"mirror\": \"all\", \"nticks\": 20, \"showgrid\": true, \"showline\": true, \"title\": \"\\u5b8c\\u6210\\u9879\\u76ee\\u603b\\u6570\", \"zeroline\": true}}, {\"showLink\": true, \"linkText\": \"Export to plot.ly\"})});</script>"
      ],
      "text/vnd.plotly.v1+html": [
       "<div id=\"6d7bbbd2-e1d9-4add-8a86-f1b5a12be181\" style=\"height: 525px; width: 100%;\" class=\"plotly-graph-div\"></div><script type=\"text/javascript\">require([\"plotly\"], function(Plotly) { window.PLOTLYENV=window.PLOTLYENV || {};window.PLOTLYENV.BASE_URL=\"https://plot.ly\";Plotly.newPlot(\"6d7bbbd2-e1d9-4add-8a86-f1b5a12be181\", [{\"line\": {\"dash\": \"solid\"}, \"name\": \"\\u5b8c\\u6210\\u9879\\u76ee\\u603b\\u6570(\\u5206\\u6790\\u4e00\\u7ec4)\", \"x\": [\"9-1\", \"9-2\", \"9-3\", \"9-4\"], \"y\": [2.75, 3.75, 2.25, 2.5], \"type\": \"scatter\", \"uid\": \"27ccc9a5-d11a-11e8-8ddb-a41f72875c19\"}, {\"line\": {\"dash\": \"dot\"}, \"name\": \"\\u5b8c\\u6210\\u9879\\u76ee\\u603b\\u6570(\\u5206\\u6790\\u4e8c\\u7ec4)\", \"x\": [\"9-1\", \"9-2\", \"9-3\", \"9-4\"], \"y\": [2.8, 5.0, 4.2, 3.2], \"type\": \"scatter\", \"uid\": \"27ccc9a6-d11a-11e8-8ddb-a41f72875c19\"}, {\"line\": {\"dash\": \"dash\"}, \"name\": \"\\u5b8c\\u6210\\u9879\\u76ee\\u603b\\u6570(\\u4e2a\\u6027\\u5316\\u7ec4)\", \"x\": [\"9-1\", \"9-2\", \"9-3\", \"9-4\"], \"y\": [4.5, 3.5, 3.25, 3.5], \"type\": \"scatter\", \"uid\": \"27ccc9a7-d11a-11e8-8ddb-a41f72875c19\"}], {\"title\": \"\\u5b8c\\u6210\\u9879\\u76ee\\u603b\\u6570\\u5468\\u8d8b\\u52bf\\u56fe\", \"xaxis\": {\"mirror\": \"all\", \"nticks\": 20, \"showgrid\": true, \"showline\": true, \"title\": \"\\u5468\", \"zeroline\": true}, \"yaxis\": {\"mirror\": \"all\", \"nticks\": 20, \"showgrid\": true, \"showline\": true, \"title\": \"\\u5b8c\\u6210\\u9879\\u76ee\\u603b\\u6570\", \"zeroline\": true}}, {\"showLink\": true, \"linkText\": \"Export to plot.ly\"})});</script>"
      ]
     },
     "metadata": {},
     "output_type": "display_data"
    },
    {
     "data": {
      "application/vnd.plotly.v1+json": {
       "data": [
        {
         "line": {
          "dash": "solid"
         },
         "name": "完成项目总数(分析一组)",
         "type": "scatter",
         "uid": "27ccc9a8-d11a-11e8-8ddb-a41f72875c19",
         "x": [
          9
         ],
         "y": [
          11.25
         ]
        },
        {
         "line": {
          "dash": "dot"
         },
         "name": "完成项目总数(分析二组)",
         "type": "scatter",
         "uid": "27ccc9a9-d11a-11e8-8ddb-a41f72875c19",
         "x": [
          9
         ],
         "y": [
          15.2
         ]
        },
        {
         "line": {
          "dash": "dash"
         },
         "name": "完成项目总数(个性化组)",
         "type": "scatter",
         "uid": "27ccc9aa-d11a-11e8-8ddb-a41f72875c19",
         "x": [
          9
         ],
         "y": [
          14.75
         ]
        }
       ],
       "layout": {
        "title": "完成项目总数月趋势图",
        "xaxis": {
         "mirror": "all",
         "nticks": 20,
         "showgrid": true,
         "showline": true,
         "title": "月",
         "zeroline": true
        },
        "yaxis": {
         "mirror": "all",
         "nticks": 20,
         "showgrid": true,
         "showline": true,
         "title": "完成项目总数",
         "zeroline": true
        }
       }
      },
      "text/html": [
       "<div id=\"94d65f5b-a18c-4786-b8a9-8f3696ff935b\" style=\"height: 525px; width: 100%;\" class=\"plotly-graph-div\"></div><script type=\"text/javascript\">require([\"plotly\"], function(Plotly) { window.PLOTLYENV=window.PLOTLYENV || {};window.PLOTLYENV.BASE_URL=\"https://plot.ly\";Plotly.newPlot(\"94d65f5b-a18c-4786-b8a9-8f3696ff935b\", [{\"line\": {\"dash\": \"solid\"}, \"name\": \"\\u5b8c\\u6210\\u9879\\u76ee\\u603b\\u6570(\\u5206\\u6790\\u4e00\\u7ec4)\", \"x\": [9], \"y\": [11.25], \"type\": \"scatter\", \"uid\": \"27ccc9a8-d11a-11e8-8ddb-a41f72875c19\"}, {\"line\": {\"dash\": \"dot\"}, \"name\": \"\\u5b8c\\u6210\\u9879\\u76ee\\u603b\\u6570(\\u5206\\u6790\\u4e8c\\u7ec4)\", \"x\": [9], \"y\": [15.2], \"type\": \"scatter\", \"uid\": \"27ccc9a9-d11a-11e8-8ddb-a41f72875c19\"}, {\"line\": {\"dash\": \"dash\"}, \"name\": \"\\u5b8c\\u6210\\u9879\\u76ee\\u603b\\u6570(\\u4e2a\\u6027\\u5316\\u7ec4)\", \"x\": [9], \"y\": [14.75], \"type\": \"scatter\", \"uid\": \"27ccc9aa-d11a-11e8-8ddb-a41f72875c19\"}], {\"title\": \"\\u5b8c\\u6210\\u9879\\u76ee\\u603b\\u6570\\u6708\\u8d8b\\u52bf\\u56fe\", \"xaxis\": {\"mirror\": \"all\", \"nticks\": 20, \"showgrid\": true, \"showline\": true, \"title\": \"\\u6708\", \"zeroline\": true}, \"yaxis\": {\"mirror\": \"all\", \"nticks\": 20, \"showgrid\": true, \"showline\": true, \"title\": \"\\u5b8c\\u6210\\u9879\\u76ee\\u603b\\u6570\", \"zeroline\": true}}, {\"showLink\": true, \"linkText\": \"Export to plot.ly\"})});</script>"
      ],
      "text/vnd.plotly.v1+html": [
       "<div id=\"94d65f5b-a18c-4786-b8a9-8f3696ff935b\" style=\"height: 525px; width: 100%;\" class=\"plotly-graph-div\"></div><script type=\"text/javascript\">require([\"plotly\"], function(Plotly) { window.PLOTLYENV=window.PLOTLYENV || {};window.PLOTLYENV.BASE_URL=\"https://plot.ly\";Plotly.newPlot(\"94d65f5b-a18c-4786-b8a9-8f3696ff935b\", [{\"line\": {\"dash\": \"solid\"}, \"name\": \"\\u5b8c\\u6210\\u9879\\u76ee\\u603b\\u6570(\\u5206\\u6790\\u4e00\\u7ec4)\", \"x\": [9], \"y\": [11.25], \"type\": \"scatter\", \"uid\": \"27ccc9a8-d11a-11e8-8ddb-a41f72875c19\"}, {\"line\": {\"dash\": \"dot\"}, \"name\": \"\\u5b8c\\u6210\\u9879\\u76ee\\u603b\\u6570(\\u5206\\u6790\\u4e8c\\u7ec4)\", \"x\": [9], \"y\": [15.2], \"type\": \"scatter\", \"uid\": \"27ccc9a9-d11a-11e8-8ddb-a41f72875c19\"}, {\"line\": {\"dash\": \"dash\"}, \"name\": \"\\u5b8c\\u6210\\u9879\\u76ee\\u603b\\u6570(\\u4e2a\\u6027\\u5316\\u7ec4)\", \"x\": [9], \"y\": [14.75], \"type\": \"scatter\", \"uid\": \"27ccc9aa-d11a-11e8-8ddb-a41f72875c19\"}], {\"title\": \"\\u5b8c\\u6210\\u9879\\u76ee\\u603b\\u6570\\u6708\\u8d8b\\u52bf\\u56fe\", \"xaxis\": {\"mirror\": \"all\", \"nticks\": 20, \"showgrid\": true, \"showline\": true, \"title\": \"\\u6708\", \"zeroline\": true}, \"yaxis\": {\"mirror\": \"all\", \"nticks\": 20, \"showgrid\": true, \"showline\": true, \"title\": \"\\u5b8c\\u6210\\u9879\\u76ee\\u603b\\u6570\", \"zeroline\": true}}, {\"showLink\": true, \"linkText\": \"Export to plot.ly\"})});</script>"
      ]
     },
     "metadata": {},
     "output_type": "display_data"
    }
   ],
   "source": [
    "ss = myModule.format(all_df1 ,\"日期（格式“月-周次”）\" ,['完成项目总数'])\n",
    "ss.add_group('组别')\n",
    "ss.get_average_by('人员')\n",
    "ss.df\n",
    "myModule.myPlot(ss.groupby('sum')).plot('line')\n",
    "ss = myModule.format(all_df1 ,\"month\" ,['完成项目总数'])\n",
    "ss.add_group('组别')\n",
    "ss.get_average_by('人员')\n",
    "myModule.myPlot(ss.groupby('sum')).plot('line',\"月\")"
   ]
  },
  {
   "cell_type": "markdown",
   "metadata": {},
   "source": [
    "### 各组完成组成比例展示"
   ]
  },
  {
   "cell_type": "code",
   "execution_count": 116,
   "metadata": {
    "collapsed": false
   },
   "outputs": [
    {
     "data": {
      "application/vnd.plotly.v1+json": {
       "data": [
        {
         "line": {
          "dash": "solid"
         },
         "name": "完成个性化数(分析一组)",
         "type": "scatter",
         "uid": "27ccc9ab-d11a-11e8-8ddb-a41f72875c19",
         "x": [
          "9-1",
          "9-2",
          "9-3",
          "9-4"
         ],
         "y": [
          1.25,
          1,
          0.75,
          1
         ]
        },
        {
         "line": {
          "dash": "dot"
         },
         "name": "完成个性化数(分析二组)",
         "type": "scatter",
         "uid": "27ccc9ac-d11a-11e8-8ddb-a41f72875c19",
         "x": [
          "9-1",
          "9-2",
          "9-3",
          "9-4"
         ],
         "y": [
          0.8,
          2.1,
          2.5,
          1
         ]
        },
        {
         "line": {
          "dash": "dash"
         },
         "name": "完成个性化数(个性化组)",
         "type": "scatter",
         "uid": "27ccc9ad-d11a-11e8-8ddb-a41f72875c19",
         "x": [
          "9-1",
          "9-2",
          "9-3",
          "9-4"
         ],
         "y": [
          4.5,
          3.5,
          3.25,
          3.5
         ]
        },
        {
         "line": {
          "dash": "solid"
         },
         "name": "完成商业项目数(分析一组)",
         "type": "scatter",
         "uid": "27ccc9ae-d11a-11e8-8ddb-a41f72875c19",
         "x": [
          "9-1",
          "9-2",
          "9-3",
          "9-4"
         ],
         "y": [
          1.5,
          2.75,
          1.5,
          1.5
         ]
        },
        {
         "line": {
          "dash": "dot"
         },
         "name": "完成商业项目数(分析二组)",
         "type": "scatter",
         "uid": "27ccc9af-d11a-11e8-8ddb-a41f72875c19",
         "x": [
          "9-1",
          "9-2",
          "9-3",
          "9-4"
         ],
         "y": [
          2,
          2.9,
          1.7,
          2.2
         ]
        },
        {
         "line": {
          "dash": "dash"
         },
         "name": "完成商业项目数(个性化组)",
         "type": "scatter",
         "uid": "27ccc9b0-d11a-11e8-8ddb-a41f72875c19",
         "x": [
          "9-1",
          "9-2",
          "9-3",
          "9-4"
         ],
         "y": [
          0,
          0,
          0,
          0
         ]
        }
       ],
       "layout": {
        "title": "完成个性化数&完成商业项目数周趋势图",
        "xaxis": {
         "mirror": "all",
         "nticks": 20,
         "showgrid": true,
         "showline": true,
         "title": "周",
         "zeroline": true
        },
        "yaxis": {
         "mirror": "all",
         "nticks": 20,
         "showgrid": true,
         "showline": true,
         "title": "完成个性化数&完成商业项目数",
         "zeroline": true
        }
       }
      },
      "text/html": [
       "<div id=\"73fcc0aa-1a14-4fcc-a9b6-b35c0623bfe6\" style=\"height: 525px; width: 100%;\" class=\"plotly-graph-div\"></div><script type=\"text/javascript\">require([\"plotly\"], function(Plotly) { window.PLOTLYENV=window.PLOTLYENV || {};window.PLOTLYENV.BASE_URL=\"https://plot.ly\";Plotly.newPlot(\"73fcc0aa-1a14-4fcc-a9b6-b35c0623bfe6\", [{\"line\": {\"dash\": \"solid\"}, \"name\": \"\\u5b8c\\u6210\\u4e2a\\u6027\\u5316\\u6570(\\u5206\\u6790\\u4e00\\u7ec4)\", \"x\": [\"9-1\", \"9-2\", \"9-3\", \"9-4\"], \"y\": [1.25, 1.0, 0.75, 1.0], \"type\": \"scatter\", \"uid\": \"27ccc9ab-d11a-11e8-8ddb-a41f72875c19\"}, {\"line\": {\"dash\": \"dot\"}, \"name\": \"\\u5b8c\\u6210\\u4e2a\\u6027\\u5316\\u6570(\\u5206\\u6790\\u4e8c\\u7ec4)\", \"x\": [\"9-1\", \"9-2\", \"9-3\", \"9-4\"], \"y\": [0.8, 2.1, 2.5, 1.0], \"type\": \"scatter\", \"uid\": \"27ccc9ac-d11a-11e8-8ddb-a41f72875c19\"}, {\"line\": {\"dash\": \"dash\"}, \"name\": \"\\u5b8c\\u6210\\u4e2a\\u6027\\u5316\\u6570(\\u4e2a\\u6027\\u5316\\u7ec4)\", \"x\": [\"9-1\", \"9-2\", \"9-3\", \"9-4\"], \"y\": [4.5, 3.5, 3.25, 3.5], \"type\": \"scatter\", \"uid\": \"27ccc9ad-d11a-11e8-8ddb-a41f72875c19\"}, {\"line\": {\"dash\": \"solid\"}, \"name\": \"\\u5b8c\\u6210\\u5546\\u4e1a\\u9879\\u76ee\\u6570(\\u5206\\u6790\\u4e00\\u7ec4)\", \"x\": [\"9-1\", \"9-2\", \"9-3\", \"9-4\"], \"y\": [1.5, 2.75, 1.5, 1.5], \"type\": \"scatter\", \"uid\": \"27ccc9ae-d11a-11e8-8ddb-a41f72875c19\"}, {\"line\": {\"dash\": \"dot\"}, \"name\": \"\\u5b8c\\u6210\\u5546\\u4e1a\\u9879\\u76ee\\u6570(\\u5206\\u6790\\u4e8c\\u7ec4)\", \"x\": [\"9-1\", \"9-2\", \"9-3\", \"9-4\"], \"y\": [2.0, 2.9, 1.7, 2.2], \"type\": \"scatter\", \"uid\": \"27ccc9af-d11a-11e8-8ddb-a41f72875c19\"}, {\"line\": {\"dash\": \"dash\"}, \"name\": \"\\u5b8c\\u6210\\u5546\\u4e1a\\u9879\\u76ee\\u6570(\\u4e2a\\u6027\\u5316\\u7ec4)\", \"x\": [\"9-1\", \"9-2\", \"9-3\", \"9-4\"], \"y\": [0.0, 0.0, 0.0, 0.0], \"type\": \"scatter\", \"uid\": \"27ccc9b0-d11a-11e8-8ddb-a41f72875c19\"}], {\"title\": \"\\u5b8c\\u6210\\u4e2a\\u6027\\u5316\\u6570&\\u5b8c\\u6210\\u5546\\u4e1a\\u9879\\u76ee\\u6570\\u5468\\u8d8b\\u52bf\\u56fe\", \"xaxis\": {\"mirror\": \"all\", \"nticks\": 20, \"showgrid\": true, \"showline\": true, \"title\": \"\\u5468\", \"zeroline\": true}, \"yaxis\": {\"mirror\": \"all\", \"nticks\": 20, \"showgrid\": true, \"showline\": true, \"title\": \"\\u5b8c\\u6210\\u4e2a\\u6027\\u5316\\u6570&\\u5b8c\\u6210\\u5546\\u4e1a\\u9879\\u76ee\\u6570\", \"zeroline\": true}}, {\"showLink\": true, \"linkText\": \"Export to plot.ly\"})});</script>"
      ],
      "text/vnd.plotly.v1+html": [
       "<div id=\"73fcc0aa-1a14-4fcc-a9b6-b35c0623bfe6\" style=\"height: 525px; width: 100%;\" class=\"plotly-graph-div\"></div><script type=\"text/javascript\">require([\"plotly\"], function(Plotly) { window.PLOTLYENV=window.PLOTLYENV || {};window.PLOTLYENV.BASE_URL=\"https://plot.ly\";Plotly.newPlot(\"73fcc0aa-1a14-4fcc-a9b6-b35c0623bfe6\", [{\"line\": {\"dash\": \"solid\"}, \"name\": \"\\u5b8c\\u6210\\u4e2a\\u6027\\u5316\\u6570(\\u5206\\u6790\\u4e00\\u7ec4)\", \"x\": [\"9-1\", \"9-2\", \"9-3\", \"9-4\"], \"y\": [1.25, 1.0, 0.75, 1.0], \"type\": \"scatter\", \"uid\": \"27ccc9ab-d11a-11e8-8ddb-a41f72875c19\"}, {\"line\": {\"dash\": \"dot\"}, \"name\": \"\\u5b8c\\u6210\\u4e2a\\u6027\\u5316\\u6570(\\u5206\\u6790\\u4e8c\\u7ec4)\", \"x\": [\"9-1\", \"9-2\", \"9-3\", \"9-4\"], \"y\": [0.8, 2.1, 2.5, 1.0], \"type\": \"scatter\", \"uid\": \"27ccc9ac-d11a-11e8-8ddb-a41f72875c19\"}, {\"line\": {\"dash\": \"dash\"}, \"name\": \"\\u5b8c\\u6210\\u4e2a\\u6027\\u5316\\u6570(\\u4e2a\\u6027\\u5316\\u7ec4)\", \"x\": [\"9-1\", \"9-2\", \"9-3\", \"9-4\"], \"y\": [4.5, 3.5, 3.25, 3.5], \"type\": \"scatter\", \"uid\": \"27ccc9ad-d11a-11e8-8ddb-a41f72875c19\"}, {\"line\": {\"dash\": \"solid\"}, \"name\": \"\\u5b8c\\u6210\\u5546\\u4e1a\\u9879\\u76ee\\u6570(\\u5206\\u6790\\u4e00\\u7ec4)\", \"x\": [\"9-1\", \"9-2\", \"9-3\", \"9-4\"], \"y\": [1.5, 2.75, 1.5, 1.5], \"type\": \"scatter\", \"uid\": \"27ccc9ae-d11a-11e8-8ddb-a41f72875c19\"}, {\"line\": {\"dash\": \"dot\"}, \"name\": \"\\u5b8c\\u6210\\u5546\\u4e1a\\u9879\\u76ee\\u6570(\\u5206\\u6790\\u4e8c\\u7ec4)\", \"x\": [\"9-1\", \"9-2\", \"9-3\", \"9-4\"], \"y\": [2.0, 2.9, 1.7, 2.2], \"type\": \"scatter\", \"uid\": \"27ccc9af-d11a-11e8-8ddb-a41f72875c19\"}, {\"line\": {\"dash\": \"dash\"}, \"name\": \"\\u5b8c\\u6210\\u5546\\u4e1a\\u9879\\u76ee\\u6570(\\u4e2a\\u6027\\u5316\\u7ec4)\", \"x\": [\"9-1\", \"9-2\", \"9-3\", \"9-4\"], \"y\": [0.0, 0.0, 0.0, 0.0], \"type\": \"scatter\", \"uid\": \"27ccc9b0-d11a-11e8-8ddb-a41f72875c19\"}], {\"title\": \"\\u5b8c\\u6210\\u4e2a\\u6027\\u5316\\u6570&\\u5b8c\\u6210\\u5546\\u4e1a\\u9879\\u76ee\\u6570\\u5468\\u8d8b\\u52bf\\u56fe\", \"xaxis\": {\"mirror\": \"all\", \"nticks\": 20, \"showgrid\": true, \"showline\": true, \"title\": \"\\u5468\", \"zeroline\": true}, \"yaxis\": {\"mirror\": \"all\", \"nticks\": 20, \"showgrid\": true, \"showline\": true, \"title\": \"\\u5b8c\\u6210\\u4e2a\\u6027\\u5316\\u6570&\\u5b8c\\u6210\\u5546\\u4e1a\\u9879\\u76ee\\u6570\", \"zeroline\": true}}, {\"showLink\": true, \"linkText\": \"Export to plot.ly\"})});</script>"
      ]
     },
     "metadata": {},
     "output_type": "display_data"
    }
   ],
   "source": [
    "ss = myModule.format(all_df1 ,\"日期（格式“月-周次”）\" ,['完成商业项目数','完成个性化数'])\n",
    "ss.add_group('组别')\n",
    "ss.get_average_by('人员')\n",
    "myModule.myPlot(ss.groupby('sum')).plot('line')\n",
    "#ss = myModule.format(all_df1 ,\"month\" ,['完成商业项目数','完成个性化数'])\n",
    "#ss.add_group('组别')\n",
    "#myModule.myPlot(ss.groupby('sum')).plot('line',\"月\")"
   ]
  },
  {
   "cell_type": "markdown",
   "metadata": {},
   "source": [
    "## 人均完成情况"
   ]
  },
  {
   "cell_type": "markdown",
   "metadata": {},
   "source": [
    "### 分析组人均产能情况"
   ]
  },
  {
   "cell_type": "code",
   "execution_count": 117,
   "metadata": {
    "collapsed": false
   },
   "outputs": [
    {
     "data": {
      "application/vnd.plotly.v1+json": {
       "data": [
        {
         "name": "完成个性化数",
         "type": "scatter",
         "uid": "27ccc9b1-d11a-11e8-8ddb-a41f72875c19",
         "x": [
          "9-1",
          "9-2",
          "9-3",
          "9-4"
         ],
         "y": [
          1.7222222222222223,
          2.1666666666666665,
          2.2777777777777777,
          1.5555555555555556
         ]
        },
        {
         "name": "完成商业项目数",
         "type": "scatter",
         "uid": "27ccc9b2-d11a-11e8-8ddb-a41f72875c19",
         "x": [
          "9-1",
          "9-2",
          "9-3",
          "9-4"
         ],
         "y": [
          1.4444444444444444,
          2.2222222222222223,
          1.2777777777777777,
          1.5555555555555556
         ]
        },
        {
         "name": "完成项目总数",
         "type": "scatter",
         "uid": "27ccc9b3-d11a-11e8-8ddb-a41f72875c19",
         "x": [
          "9-1",
          "9-2",
          "9-3",
          "9-4"
         ],
         "y": [
          3.1666666666666665,
          4.388888888888889,
          3.5555555555555554,
          3.111111111111111
         ]
        }
       ],
       "layout": {
        "title": "完成个性化数&完成商业项目数&完成项目总数周趋势图",
        "xaxis": {
         "mirror": "all",
         "nticks": 20,
         "showgrid": true,
         "showline": true,
         "title": "周",
         "zeroline": true
        },
        "yaxis": {
         "mirror": "all",
         "nticks": 20,
         "showgrid": true,
         "showline": true,
         "title": "完成个性化数&完成商业项目数&完成项目总数",
         "zeroline": true
        }
       }
      },
      "text/html": [
       "<div id=\"8a92b625-aaa9-4642-9977-9c7a43052d42\" style=\"height: 525px; width: 100%;\" class=\"plotly-graph-div\"></div><script type=\"text/javascript\">require([\"plotly\"], function(Plotly) { window.PLOTLYENV=window.PLOTLYENV || {};window.PLOTLYENV.BASE_URL=\"https://plot.ly\";Plotly.newPlot(\"8a92b625-aaa9-4642-9977-9c7a43052d42\", [{\"name\": \"\\u5b8c\\u6210\\u4e2a\\u6027\\u5316\\u6570\", \"x\": [\"9-1\", \"9-2\", \"9-3\", \"9-4\"], \"y\": [1.7222222222222223, 2.1666666666666665, 2.2777777777777777, 1.5555555555555556], \"type\": \"scatter\", \"uid\": \"27ccc9b1-d11a-11e8-8ddb-a41f72875c19\"}, {\"name\": \"\\u5b8c\\u6210\\u5546\\u4e1a\\u9879\\u76ee\\u6570\", \"x\": [\"9-1\", \"9-2\", \"9-3\", \"9-4\"], \"y\": [1.4444444444444444, 2.2222222222222223, 1.2777777777777777, 1.5555555555555556], \"type\": \"scatter\", \"uid\": \"27ccc9b2-d11a-11e8-8ddb-a41f72875c19\"}, {\"name\": \"\\u5b8c\\u6210\\u9879\\u76ee\\u603b\\u6570\", \"x\": [\"9-1\", \"9-2\", \"9-3\", \"9-4\"], \"y\": [3.1666666666666665, 4.388888888888889, 3.5555555555555554, 3.111111111111111], \"type\": \"scatter\", \"uid\": \"27ccc9b3-d11a-11e8-8ddb-a41f72875c19\"}], {\"title\": \"\\u5b8c\\u6210\\u4e2a\\u6027\\u5316\\u6570&\\u5b8c\\u6210\\u5546\\u4e1a\\u9879\\u76ee\\u6570&\\u5b8c\\u6210\\u9879\\u76ee\\u603b\\u6570\\u5468\\u8d8b\\u52bf\\u56fe\", \"xaxis\": {\"mirror\": \"all\", \"nticks\": 20, \"showgrid\": true, \"showline\": true, \"title\": \"\\u5468\", \"zeroline\": true}, \"yaxis\": {\"mirror\": \"all\", \"nticks\": 20, \"showgrid\": true, \"showline\": true, \"title\": \"\\u5b8c\\u6210\\u4e2a\\u6027\\u5316\\u6570&\\u5b8c\\u6210\\u5546\\u4e1a\\u9879\\u76ee\\u6570&\\u5b8c\\u6210\\u9879\\u76ee\\u603b\\u6570\", \"zeroline\": true}}, {\"showLink\": true, \"linkText\": \"Export to plot.ly\"})});</script>"
      ],
      "text/vnd.plotly.v1+html": [
       "<div id=\"8a92b625-aaa9-4642-9977-9c7a43052d42\" style=\"height: 525px; width: 100%;\" class=\"plotly-graph-div\"></div><script type=\"text/javascript\">require([\"plotly\"], function(Plotly) { window.PLOTLYENV=window.PLOTLYENV || {};window.PLOTLYENV.BASE_URL=\"https://plot.ly\";Plotly.newPlot(\"8a92b625-aaa9-4642-9977-9c7a43052d42\", [{\"name\": \"\\u5b8c\\u6210\\u4e2a\\u6027\\u5316\\u6570\", \"x\": [\"9-1\", \"9-2\", \"9-3\", \"9-4\"], \"y\": [1.7222222222222223, 2.1666666666666665, 2.2777777777777777, 1.5555555555555556], \"type\": \"scatter\", \"uid\": \"27ccc9b1-d11a-11e8-8ddb-a41f72875c19\"}, {\"name\": \"\\u5b8c\\u6210\\u5546\\u4e1a\\u9879\\u76ee\\u6570\", \"x\": [\"9-1\", \"9-2\", \"9-3\", \"9-4\"], \"y\": [1.4444444444444444, 2.2222222222222223, 1.2777777777777777, 1.5555555555555556], \"type\": \"scatter\", \"uid\": \"27ccc9b2-d11a-11e8-8ddb-a41f72875c19\"}, {\"name\": \"\\u5b8c\\u6210\\u9879\\u76ee\\u603b\\u6570\", \"x\": [\"9-1\", \"9-2\", \"9-3\", \"9-4\"], \"y\": [3.1666666666666665, 4.388888888888889, 3.5555555555555554, 3.111111111111111], \"type\": \"scatter\", \"uid\": \"27ccc9b3-d11a-11e8-8ddb-a41f72875c19\"}], {\"title\": \"\\u5b8c\\u6210\\u4e2a\\u6027\\u5316\\u6570&\\u5b8c\\u6210\\u5546\\u4e1a\\u9879\\u76ee\\u6570&\\u5b8c\\u6210\\u9879\\u76ee\\u603b\\u6570\\u5468\\u8d8b\\u52bf\\u56fe\", \"xaxis\": {\"mirror\": \"all\", \"nticks\": 20, \"showgrid\": true, \"showline\": true, \"title\": \"\\u5468\", \"zeroline\": true}, \"yaxis\": {\"mirror\": \"all\", \"nticks\": 20, \"showgrid\": true, \"showline\": true, \"title\": \"\\u5b8c\\u6210\\u4e2a\\u6027\\u5316\\u6570&\\u5b8c\\u6210\\u5546\\u4e1a\\u9879\\u76ee\\u6570&\\u5b8c\\u6210\\u9879\\u76ee\\u603b\\u6570\", \"zeroline\": true}}, {\"showLink\": true, \"linkText\": \"Export to plot.ly\"})});</script>"
      ]
     },
     "metadata": {},
     "output_type": "display_data"
    }
   ],
   "source": [
    "ss = myModule.format(all_df1 ,\"日期（格式“月-周次”）\" ,['完成项目总数','完成商业项目数','完成个性化数'])\n",
    "ss.get_average_by('人员')\n",
    "myModule.myPlot(ss.groupby('sum')).df\n",
    "myModule.myPlot(ss.groupby('sum')).plot('line')\n",
    "#ss = myModule.format(all_df1 ,\"month\" ,['完成项目总数','完成商业项目数','完成个性化数'])\n",
    "#ss.get_average_by('人员')\n",
    "#myModule.myPlot(ss.groupby('sum')).plot('line')"
   ]
  },
  {
   "cell_type": "markdown",
   "metadata": {},
   "source": [
    "### 各组人均完成项目数情况"
   ]
  },
  {
   "cell_type": "code",
   "execution_count": 118,
   "metadata": {
    "collapsed": false
   },
   "outputs": [
    {
     "data": {
      "application/vnd.plotly.v1+json": {
       "data": [
        {
         "line": {
          "dash": "solid"
         },
         "name": "完成项目总数(分析一组)",
         "type": "scatter",
         "uid": "27ccc9b4-d11a-11e8-8ddb-a41f72875c19",
         "x": [
          "9-1",
          "9-2",
          "9-3",
          "9-4"
         ],
         "y": [
          2.75,
          3.75,
          2.25,
          2.5
         ]
        },
        {
         "line": {
          "dash": "dot"
         },
         "name": "完成项目总数(分析二组)",
         "type": "scatter",
         "uid": "27ccc9b5-d11a-11e8-8ddb-a41f72875c19",
         "x": [
          "9-1",
          "9-2",
          "9-3",
          "9-4"
         ],
         "y": [
          2.8,
          5,
          4.2,
          3.2
         ]
        },
        {
         "line": {
          "dash": "dash"
         },
         "name": "完成项目总数(个性化组)",
         "type": "scatter",
         "uid": "27ccc9b6-d11a-11e8-8ddb-a41f72875c19",
         "x": [
          "9-1",
          "9-2",
          "9-3",
          "9-4"
         ],
         "y": [
          4.5,
          3.5,
          3.25,
          3.5
         ]
        }
       ],
       "layout": {
        "title": "完成项目总数周趋势图",
        "xaxis": {
         "mirror": "all",
         "nticks": 20,
         "showgrid": true,
         "showline": true,
         "title": "周",
         "zeroline": true
        },
        "yaxis": {
         "mirror": "all",
         "nticks": 20,
         "showgrid": true,
         "showline": true,
         "title": "完成项目总数",
         "zeroline": true
        }
       }
      },
      "text/html": [
       "<div id=\"2b633644-1c73-458c-8740-242688f0044b\" style=\"height: 525px; width: 100%;\" class=\"plotly-graph-div\"></div><script type=\"text/javascript\">require([\"plotly\"], function(Plotly) { window.PLOTLYENV=window.PLOTLYENV || {};window.PLOTLYENV.BASE_URL=\"https://plot.ly\";Plotly.newPlot(\"2b633644-1c73-458c-8740-242688f0044b\", [{\"line\": {\"dash\": \"solid\"}, \"name\": \"\\u5b8c\\u6210\\u9879\\u76ee\\u603b\\u6570(\\u5206\\u6790\\u4e00\\u7ec4)\", \"x\": [\"9-1\", \"9-2\", \"9-3\", \"9-4\"], \"y\": [2.75, 3.75, 2.25, 2.5], \"type\": \"scatter\", \"uid\": \"27ccc9b4-d11a-11e8-8ddb-a41f72875c19\"}, {\"line\": {\"dash\": \"dot\"}, \"name\": \"\\u5b8c\\u6210\\u9879\\u76ee\\u603b\\u6570(\\u5206\\u6790\\u4e8c\\u7ec4)\", \"x\": [\"9-1\", \"9-2\", \"9-3\", \"9-4\"], \"y\": [2.8, 5.0, 4.2, 3.2], \"type\": \"scatter\", \"uid\": \"27ccc9b5-d11a-11e8-8ddb-a41f72875c19\"}, {\"line\": {\"dash\": \"dash\"}, \"name\": \"\\u5b8c\\u6210\\u9879\\u76ee\\u603b\\u6570(\\u4e2a\\u6027\\u5316\\u7ec4)\", \"x\": [\"9-1\", \"9-2\", \"9-3\", \"9-4\"], \"y\": [4.5, 3.5, 3.25, 3.5], \"type\": \"scatter\", \"uid\": \"27ccc9b6-d11a-11e8-8ddb-a41f72875c19\"}], {\"title\": \"\\u5b8c\\u6210\\u9879\\u76ee\\u603b\\u6570\\u5468\\u8d8b\\u52bf\\u56fe\", \"xaxis\": {\"mirror\": \"all\", \"nticks\": 20, \"showgrid\": true, \"showline\": true, \"title\": \"\\u5468\", \"zeroline\": true}, \"yaxis\": {\"mirror\": \"all\", \"nticks\": 20, \"showgrid\": true, \"showline\": true, \"title\": \"\\u5b8c\\u6210\\u9879\\u76ee\\u603b\\u6570\", \"zeroline\": true}}, {\"showLink\": true, \"linkText\": \"Export to plot.ly\"})});</script>"
      ],
      "text/vnd.plotly.v1+html": [
       "<div id=\"2b633644-1c73-458c-8740-242688f0044b\" style=\"height: 525px; width: 100%;\" class=\"plotly-graph-div\"></div><script type=\"text/javascript\">require([\"plotly\"], function(Plotly) { window.PLOTLYENV=window.PLOTLYENV || {};window.PLOTLYENV.BASE_URL=\"https://plot.ly\";Plotly.newPlot(\"2b633644-1c73-458c-8740-242688f0044b\", [{\"line\": {\"dash\": \"solid\"}, \"name\": \"\\u5b8c\\u6210\\u9879\\u76ee\\u603b\\u6570(\\u5206\\u6790\\u4e00\\u7ec4)\", \"x\": [\"9-1\", \"9-2\", \"9-3\", \"9-4\"], \"y\": [2.75, 3.75, 2.25, 2.5], \"type\": \"scatter\", \"uid\": \"27ccc9b4-d11a-11e8-8ddb-a41f72875c19\"}, {\"line\": {\"dash\": \"dot\"}, \"name\": \"\\u5b8c\\u6210\\u9879\\u76ee\\u603b\\u6570(\\u5206\\u6790\\u4e8c\\u7ec4)\", \"x\": [\"9-1\", \"9-2\", \"9-3\", \"9-4\"], \"y\": [2.8, 5.0, 4.2, 3.2], \"type\": \"scatter\", \"uid\": \"27ccc9b5-d11a-11e8-8ddb-a41f72875c19\"}, {\"line\": {\"dash\": \"dash\"}, \"name\": \"\\u5b8c\\u6210\\u9879\\u76ee\\u603b\\u6570(\\u4e2a\\u6027\\u5316\\u7ec4)\", \"x\": [\"9-1\", \"9-2\", \"9-3\", \"9-4\"], \"y\": [4.5, 3.5, 3.25, 3.5], \"type\": \"scatter\", \"uid\": \"27ccc9b6-d11a-11e8-8ddb-a41f72875c19\"}], {\"title\": \"\\u5b8c\\u6210\\u9879\\u76ee\\u603b\\u6570\\u5468\\u8d8b\\u52bf\\u56fe\", \"xaxis\": {\"mirror\": \"all\", \"nticks\": 20, \"showgrid\": true, \"showline\": true, \"title\": \"\\u5468\", \"zeroline\": true}, \"yaxis\": {\"mirror\": \"all\", \"nticks\": 20, \"showgrid\": true, \"showline\": true, \"title\": \"\\u5b8c\\u6210\\u9879\\u76ee\\u603b\\u6570\", \"zeroline\": true}}, {\"showLink\": true, \"linkText\": \"Export to plot.ly\"})});</script>"
      ]
     },
     "metadata": {},
     "output_type": "display_data"
    }
   ],
   "source": [
    "ss = myModule.format(all_df1 ,\"日期（格式“月-周次”）\" ,['完成项目总数'])\n",
    "ss.add_group('组别')\n",
    "ss.get_average_by('人员')\n",
    "#ss.df\n",
    "myModule.myPlot(ss.groupby('sum')).df\n",
    "myModule.myPlot(ss.groupby('sum')).plot('line')\n",
    "#ss = myModule.format(all_df1 ,\"month\" ,['完成项目总数'])\n",
    "#ss.add_group('组别')\n",
    "#ss.get_average_by('人员')\n",
    "#myModule.myPlot(ss.groupby('sum')).plot('line','月')"
   ]
  },
  {
   "cell_type": "markdown",
   "metadata": {},
   "source": [
    "## 具体人员效能情况"
   ]
  },
  {
   "cell_type": "code",
   "execution_count": 119,
   "metadata": {
    "collapsed": false
   },
   "outputs": [
    {
     "data": {
      "application/vnd.plotly.v1+json": {
       "data": [
        {
         "name": "完成项目总数",
         "type": "scatter",
         "uid": "27ccc9b7-d11a-11e8-8ddb-a41f72875c19",
         "x": [
          "9-1",
          "9-2",
          "9-3",
          "9-4"
         ],
         "y": [
          57,
          79,
          64,
          56
         ]
        }
       ],
       "layout": {
        "title": "完成项目总数周趋势图",
        "xaxis": {
         "mirror": "all",
         "nticks": 20,
         "showgrid": true,
         "showline": true,
         "title": "周",
         "zeroline": true
        },
        "yaxis": {
         "mirror": "all",
         "nticks": 20,
         "showgrid": true,
         "showline": true,
         "title": "完成项目总数",
         "zeroline": true
        }
       }
      },
      "text/html": [
       "<div id=\"cf359418-822e-46bf-8e5f-404c2b3bdb05\" style=\"height: 525px; width: 100%;\" class=\"plotly-graph-div\"></div><script type=\"text/javascript\">require([\"plotly\"], function(Plotly) { window.PLOTLYENV=window.PLOTLYENV || {};window.PLOTLYENV.BASE_URL=\"https://plot.ly\";Plotly.newPlot(\"cf359418-822e-46bf-8e5f-404c2b3bdb05\", [{\"name\": \"\\u5b8c\\u6210\\u9879\\u76ee\\u603b\\u6570\", \"x\": [\"9-1\", \"9-2\", \"9-3\", \"9-4\"], \"y\": [57, 79, 64, 56], \"type\": \"scatter\", \"uid\": \"27ccc9b7-d11a-11e8-8ddb-a41f72875c19\"}], {\"title\": \"\\u5b8c\\u6210\\u9879\\u76ee\\u603b\\u6570\\u5468\\u8d8b\\u52bf\\u56fe\", \"xaxis\": {\"mirror\": \"all\", \"nticks\": 20, \"showgrid\": true, \"showline\": true, \"title\": \"\\u5468\", \"zeroline\": true}, \"yaxis\": {\"mirror\": \"all\", \"nticks\": 20, \"showgrid\": true, \"showline\": true, \"title\": \"\\u5b8c\\u6210\\u9879\\u76ee\\u603b\\u6570\", \"zeroline\": true}}, {\"showLink\": true, \"linkText\": \"Export to plot.ly\"})});</script>"
      ],
      "text/vnd.plotly.v1+html": [
       "<div id=\"cf359418-822e-46bf-8e5f-404c2b3bdb05\" style=\"height: 525px; width: 100%;\" class=\"plotly-graph-div\"></div><script type=\"text/javascript\">require([\"plotly\"], function(Plotly) { window.PLOTLYENV=window.PLOTLYENV || {};window.PLOTLYENV.BASE_URL=\"https://plot.ly\";Plotly.newPlot(\"cf359418-822e-46bf-8e5f-404c2b3bdb05\", [{\"name\": \"\\u5b8c\\u6210\\u9879\\u76ee\\u603b\\u6570\", \"x\": [\"9-1\", \"9-2\", \"9-3\", \"9-4\"], \"y\": [57, 79, 64, 56], \"type\": \"scatter\", \"uid\": \"27ccc9b7-d11a-11e8-8ddb-a41f72875c19\"}], {\"title\": \"\\u5b8c\\u6210\\u9879\\u76ee\\u603b\\u6570\\u5468\\u8d8b\\u52bf\\u56fe\", \"xaxis\": {\"mirror\": \"all\", \"nticks\": 20, \"showgrid\": true, \"showline\": true, \"title\": \"\\u5468\", \"zeroline\": true}, \"yaxis\": {\"mirror\": \"all\", \"nticks\": 20, \"showgrid\": true, \"showline\": true, \"title\": \"\\u5b8c\\u6210\\u9879\\u76ee\\u603b\\u6570\", \"zeroline\": true}}, {\"showLink\": true, \"linkText\": \"Export to plot.ly\"})});</script>"
      ]
     },
     "metadata": {},
     "output_type": "display_data"
    },
    {
     "data": {
      "application/vnd.plotly.v1+json": {
       "data": [
        {
         "name": "完成项目总数",
         "type": "scatter",
         "uid": "27ccc9b8-d11a-11e8-8ddb-a41f72875c19",
         "x": [
          9
         ],
         "y": [
          256
         ]
        }
       ],
       "layout": {
        "title": "完成项目总数月趋势图",
        "xaxis": {
         "mirror": "all",
         "nticks": 20,
         "showgrid": true,
         "showline": true,
         "title": "月",
         "zeroline": true
        },
        "yaxis": {
         "mirror": "all",
         "nticks": 20,
         "showgrid": true,
         "showline": true,
         "title": "完成项目总数",
         "zeroline": true
        }
       }
      },
      "text/html": [
       "<div id=\"53a9142d-b8bc-4bda-bf82-80bbf11ce94b\" style=\"height: 525px; width: 100%;\" class=\"plotly-graph-div\"></div><script type=\"text/javascript\">require([\"plotly\"], function(Plotly) { window.PLOTLYENV=window.PLOTLYENV || {};window.PLOTLYENV.BASE_URL=\"https://plot.ly\";Plotly.newPlot(\"53a9142d-b8bc-4bda-bf82-80bbf11ce94b\", [{\"name\": \"\\u5b8c\\u6210\\u9879\\u76ee\\u603b\\u6570\", \"x\": [9], \"y\": [256], \"type\": \"scatter\", \"uid\": \"27ccc9b8-d11a-11e8-8ddb-a41f72875c19\"}], {\"title\": \"\\u5b8c\\u6210\\u9879\\u76ee\\u603b\\u6570\\u6708\\u8d8b\\u52bf\\u56fe\", \"xaxis\": {\"mirror\": \"all\", \"nticks\": 20, \"showgrid\": true, \"showline\": true, \"title\": \"\\u6708\", \"zeroline\": true}, \"yaxis\": {\"mirror\": \"all\", \"nticks\": 20, \"showgrid\": true, \"showline\": true, \"title\": \"\\u5b8c\\u6210\\u9879\\u76ee\\u603b\\u6570\", \"zeroline\": true}}, {\"showLink\": true, \"linkText\": \"Export to plot.ly\"})});</script>"
      ],
      "text/vnd.plotly.v1+html": [
       "<div id=\"53a9142d-b8bc-4bda-bf82-80bbf11ce94b\" style=\"height: 525px; width: 100%;\" class=\"plotly-graph-div\"></div><script type=\"text/javascript\">require([\"plotly\"], function(Plotly) { window.PLOTLYENV=window.PLOTLYENV || {};window.PLOTLYENV.BASE_URL=\"https://plot.ly\";Plotly.newPlot(\"53a9142d-b8bc-4bda-bf82-80bbf11ce94b\", [{\"name\": \"\\u5b8c\\u6210\\u9879\\u76ee\\u603b\\u6570\", \"x\": [9], \"y\": [256], \"type\": \"scatter\", \"uid\": \"27ccc9b8-d11a-11e8-8ddb-a41f72875c19\"}], {\"title\": \"\\u5b8c\\u6210\\u9879\\u76ee\\u603b\\u6570\\u6708\\u8d8b\\u52bf\\u56fe\", \"xaxis\": {\"mirror\": \"all\", \"nticks\": 20, \"showgrid\": true, \"showline\": true, \"title\": \"\\u6708\", \"zeroline\": true}, \"yaxis\": {\"mirror\": \"all\", \"nticks\": 20, \"showgrid\": true, \"showline\": true, \"title\": \"\\u5b8c\\u6210\\u9879\\u76ee\\u603b\\u6570\", \"zeroline\": true}}, {\"showLink\": true, \"linkText\": \"Export to plot.ly\"})});</script>"
      ]
     },
     "metadata": {},
     "output_type": "display_data"
    }
   ],
   "source": [
    "ss = myModule.format(all_df1 ,\"日期（格式“月-周次”）\" ,['完成项目总数'])\n",
    "#ss.add_group('人员')\n",
    "#ss.get_average_by('人员')\n",
    "myModule.myPlot(ss.groupby('sum')).plot('line')\n",
    "ss = myModule.format(all_df1 ,\"month\" ,['完成项目总数'])\n",
    "#ss.add_group('人员')\n",
    "#ss.get_average_by('人员')\n",
    "myModule.myPlot(ss.groupby('sum')).plot('line','月')"
   ]
  },
  {
   "cell_type": "markdown",
   "metadata": {},
   "source": [
    "### 优秀人员"
   ]
  },
  {
   "cell_type": "markdown",
   "metadata": {},
   "source": [
    "* 总完成项目数目位于上四位分数"
   ]
  },
  {
   "cell_type": "code",
   "execution_count": 120,
   "metadata": {
    "collapsed": false
   },
   "outputs": [
    {
     "data": {
      "text/html": [
       "<div>\n",
       "<style scoped>\n",
       "    .dataframe tbody tr th:only-of-type {\n",
       "        vertical-align: middle;\n",
       "    }\n",
       "\n",
       "    .dataframe tbody tr th {\n",
       "        vertical-align: top;\n",
       "    }\n",
       "\n",
       "    .dataframe thead th {\n",
       "        text-align: right;\n",
       "    }\n",
       "</style>\n",
       "<table border=\"1\" class=\"dataframe\">\n",
       "  <thead>\n",
       "    <tr style=\"text-align: right;\">\n",
       "      <th></th>\n",
       "      <th>完成个性化数</th>\n",
       "    </tr>\n",
       "    <tr>\n",
       "      <th>人员</th>\n",
       "      <th></th>\n",
       "    </tr>\n",
       "  </thead>\n",
       "  <tbody>\n",
       "    <tr>\n",
       "      <th>李晓波</th>\n",
       "      <td>0</td>\n",
       "    </tr>\n",
       "    <tr>\n",
       "      <th>解飞</th>\n",
       "      <td>0</td>\n",
       "    </tr>\n",
       "    <tr>\n",
       "      <th>靳甜甜</th>\n",
       "      <td>0</td>\n",
       "    </tr>\n",
       "    <tr>\n",
       "      <th>刘永强</th>\n",
       "      <td>1</td>\n",
       "    </tr>\n",
       "    <tr>\n",
       "      <th>宋少宇</th>\n",
       "      <td>1</td>\n",
       "    </tr>\n",
       "    <tr>\n",
       "      <th>昶吉阳</th>\n",
       "      <td>3</td>\n",
       "    </tr>\n",
       "    <tr>\n",
       "      <th>闻少楠</th>\n",
       "      <td>5</td>\n",
       "    </tr>\n",
       "    <tr>\n",
       "      <th>马潇</th>\n",
       "      <td>6</td>\n",
       "    </tr>\n",
       "    <tr>\n",
       "      <th>段利强</th>\n",
       "      <td>7</td>\n",
       "    </tr>\n",
       "    <tr>\n",
       "      <th>王霞</th>\n",
       "      <td>7</td>\n",
       "    </tr>\n",
       "    <tr>\n",
       "      <th>陈碧雯</th>\n",
       "      <td>8</td>\n",
       "    </tr>\n",
       "    <tr>\n",
       "      <th>刘梦苑</th>\n",
       "      <td>9</td>\n",
       "    </tr>\n",
       "    <tr>\n",
       "      <th>杨宇</th>\n",
       "      <td>9</td>\n",
       "    </tr>\n",
       "    <tr>\n",
       "      <th>何胜</th>\n",
       "      <td>12</td>\n",
       "    </tr>\n",
       "    <tr>\n",
       "      <th>陈鹏燕</th>\n",
       "      <td>12</td>\n",
       "    </tr>\n",
       "  </tbody>\n",
       "</table>\n",
       "</div>"
      ],
      "text/plain": [
       "     完成个性化数\n",
       "人员         \n",
       "李晓波       0\n",
       "解飞        0\n",
       "靳甜甜       0\n",
       "刘永强       1\n",
       "宋少宇       1\n",
       "昶吉阳       3\n",
       "闻少楠       5\n",
       "马潇        6\n",
       "段利强       7\n",
       "王霞        7\n",
       "陈碧雯       8\n",
       "刘梦苑       9\n",
       "杨宇        9\n",
       "何胜       12\n",
       "陈鹏燕      12"
      ]
     },
     "execution_count": 120,
     "metadata": {},
     "output_type": "execute_result"
    }
   ],
   "source": [
    "myModule.get_rank(all_df1 , '人员' ,'完成个性化数', quantile=0.8, compare='<' )"
   ]
  },
  {
   "cell_type": "markdown",
   "metadata": {},
   "source": [
    "* 近3期，总完成项目数位于上四分位数"
   ]
  },
  {
   "cell_type": "code",
   "execution_count": 121,
   "metadata": {
    "collapsed": false
   },
   "outputs": [
    {
     "data": {
      "text/html": [
       "<div>\n",
       "<style scoped>\n",
       "    .dataframe tbody tr th:only-of-type {\n",
       "        vertical-align: middle;\n",
       "    }\n",
       "\n",
       "    .dataframe tbody tr th {\n",
       "        vertical-align: top;\n",
       "    }\n",
       "\n",
       "    .dataframe thead th {\n",
       "        text-align: right;\n",
       "    }\n",
       "</style>\n",
       "<table border=\"1\" class=\"dataframe\">\n",
       "  <thead>\n",
       "    <tr style=\"text-align: right;\">\n",
       "      <th></th>\n",
       "      <th>完成项目总数</th>\n",
       "    </tr>\n",
       "    <tr>\n",
       "      <th>人员</th>\n",
       "      <th></th>\n",
       "    </tr>\n",
       "  </thead>\n",
       "  <tbody>\n",
       "    <tr>\n",
       "      <th>杨宇</th>\n",
       "      <td>24</td>\n",
       "    </tr>\n",
       "    <tr>\n",
       "      <th>陈碧雯</th>\n",
       "      <td>21</td>\n",
       "    </tr>\n",
       "    <tr>\n",
       "      <th>赵倩</th>\n",
       "      <td>20</td>\n",
       "    </tr>\n",
       "    <tr>\n",
       "      <th>马潇</th>\n",
       "      <td>19</td>\n",
       "    </tr>\n",
       "    <tr>\n",
       "      <th>何胜</th>\n",
       "      <td>18</td>\n",
       "    </tr>\n",
       "  </tbody>\n",
       "</table>\n",
       "</div>"
      ],
      "text/plain": [
       "     完成项目总数\n",
       "人员         \n",
       "杨宇       24\n",
       "陈碧雯      21\n",
       "赵倩       20\n",
       "马潇       19\n",
       "何胜       18"
      ]
     },
     "execution_count": 121,
     "metadata": {},
     "output_type": "execute_result"
    }
   ],
   "source": [
    "myModule.get_rank(all_df1 , '人员' ,'完成项目总数', 3, quantile=0.75, compare='>')"
   ]
  },
  {
   "cell_type": "code",
   "execution_count": 122,
   "metadata": {
    "collapsed": false
   },
   "outputs": [
    {
     "data": {
      "text/html": [
       "<div>\n",
       "<style scoped>\n",
       "    .dataframe tbody tr th:only-of-type {\n",
       "        vertical-align: middle;\n",
       "    }\n",
       "\n",
       "    .dataframe tbody tr th {\n",
       "        vertical-align: top;\n",
       "    }\n",
       "\n",
       "    .dataframe thead th {\n",
       "        text-align: right;\n",
       "    }\n",
       "</style>\n",
       "<table border=\"1\" class=\"dataframe\">\n",
       "  <thead>\n",
       "    <tr style=\"text-align: right;\">\n",
       "      <th>日期（格式“月-周次”）</th>\n",
       "      <th>9-2</th>\n",
       "      <th>9-3</th>\n",
       "      <th>9-4</th>\n",
       "    </tr>\n",
       "    <tr>\n",
       "      <th>人员</th>\n",
       "      <th></th>\n",
       "      <th></th>\n",
       "      <th></th>\n",
       "    </tr>\n",
       "  </thead>\n",
       "  <tbody>\n",
       "    <tr>\n",
       "      <th>何胜</th>\n",
       "      <td>6</td>\n",
       "      <td>7</td>\n",
       "      <td>5</td>\n",
       "    </tr>\n",
       "    <tr>\n",
       "      <th>杨宇</th>\n",
       "      <td>9</td>\n",
       "      <td>10</td>\n",
       "      <td>5</td>\n",
       "    </tr>\n",
       "    <tr>\n",
       "      <th>赵倩</th>\n",
       "      <td>6</td>\n",
       "      <td>5</td>\n",
       "      <td>9</td>\n",
       "    </tr>\n",
       "    <tr>\n",
       "      <th>马潇</th>\n",
       "      <td>7</td>\n",
       "      <td>7</td>\n",
       "      <td>5</td>\n",
       "    </tr>\n",
       "  </tbody>\n",
       "</table>\n",
       "</div>"
      ],
      "text/plain": [
       "日期（格式“月-周次”）  9-2  9-3  9-4\n",
       "人员                         \n",
       "何胜              6    7    5\n",
       "杨宇              9   10    5\n",
       "赵倩              6    5    9\n",
       "马潇              7    7    5"
      ]
     },
     "execution_count": 122,
     "metadata": {},
     "output_type": "execute_result"
    }
   ],
   "source": [
    "myModule.get_trend(all_df1 , '人员' ,'完成项目总数', 3, quantile=0.75, compare='>')"
   ]
  },
  {
   "cell_type": "code",
   "execution_count": 123,
   "metadata": {
    "collapsed": false
   },
   "outputs": [
    {
     "data": {
      "text/html": [
       "<div>\n",
       "<style scoped>\n",
       "    .dataframe tbody tr th:only-of-type {\n",
       "        vertical-align: middle;\n",
       "    }\n",
       "\n",
       "    .dataframe tbody tr th {\n",
       "        vertical-align: top;\n",
       "    }\n",
       "\n",
       "    .dataframe thead th {\n",
       "        text-align: right;\n",
       "    }\n",
       "</style>\n",
       "<table border=\"1\" class=\"dataframe\">\n",
       "  <thead>\n",
       "    <tr style=\"text-align: right;\">\n",
       "      <th>日期（格式“月-周次”）</th>\n",
       "      <th>9-2</th>\n",
       "      <th>9-3</th>\n",
       "      <th>9-4</th>\n",
       "    </tr>\n",
       "    <tr>\n",
       "      <th>人员</th>\n",
       "      <th></th>\n",
       "      <th></th>\n",
       "      <th></th>\n",
       "    </tr>\n",
       "  </thead>\n",
       "  <tbody>\n",
       "  </tbody>\n",
       "</table>\n",
       "</div>"
      ],
      "text/plain": [
       "Empty DataFrame\n",
       "Columns: [9-2, 9-3, 9-4]\n",
       "Index: []"
      ]
     },
     "execution_count": 123,
     "metadata": {},
     "output_type": "execute_result"
    }
   ],
   "source": [
    "myModule.get_trend(all_df1 , '人员' ,'完成项目总数', 3, quantile=0.5, compare='>',trend=True)"
   ]
  },
  {
   "cell_type": "markdown",
   "metadata": {},
   "source": [
    "### 待激励人员\n",
    "* 总完成项目数目位于下四位分数 or \n",
    "* 近3期，总完成项目数位于下四分位数"
   ]
  },
  {
   "cell_type": "code",
   "execution_count": 124,
   "metadata": {
    "collapsed": false
   },
   "outputs": [
    {
     "data": {
      "text/html": [
       "<div>\n",
       "<style scoped>\n",
       "    .dataframe tbody tr th:only-of-type {\n",
       "        vertical-align: middle;\n",
       "    }\n",
       "\n",
       "    .dataframe tbody tr th {\n",
       "        vertical-align: top;\n",
       "    }\n",
       "\n",
       "    .dataframe thead th {\n",
       "        text-align: right;\n",
       "    }\n",
       "</style>\n",
       "<table border=\"1\" class=\"dataframe\">\n",
       "  <thead>\n",
       "    <tr style=\"text-align: right;\">\n",
       "      <th></th>\n",
       "      <th>完成项目总数</th>\n",
       "    </tr>\n",
       "    <tr>\n",
       "      <th>人员</th>\n",
       "      <th></th>\n",
       "    </tr>\n",
       "  </thead>\n",
       "  <tbody>\n",
       "    <tr>\n",
       "      <th>李晓波</th>\n",
       "      <td>0</td>\n",
       "    </tr>\n",
       "    <tr>\n",
       "      <th>靳甜甜</th>\n",
       "      <td>0</td>\n",
       "    </tr>\n",
       "    <tr>\n",
       "      <th>刘永强</th>\n",
       "      <td>5</td>\n",
       "    </tr>\n",
       "    <tr>\n",
       "      <th>解飞</th>\n",
       "      <td>5</td>\n",
       "    </tr>\n",
       "  </tbody>\n",
       "</table>\n",
       "</div>"
      ],
      "text/plain": [
       "     完成项目总数\n",
       "人员         \n",
       "李晓波       0\n",
       "靳甜甜       0\n",
       "刘永强       5\n",
       "解飞        5"
      ]
     },
     "execution_count": 124,
     "metadata": {},
     "output_type": "execute_result"
    }
   ],
   "source": [
    "myModule.get_rank(all_df1 , '人员' ,'完成项目总数', quantile=0.2, compare='<' )"
   ]
  },
  {
   "cell_type": "code",
   "execution_count": 125,
   "metadata": {
    "collapsed": false
   },
   "outputs": [
    {
     "data": {
      "text/html": [
       "<div>\n",
       "<style scoped>\n",
       "    .dataframe tbody tr th:only-of-type {\n",
       "        vertical-align: middle;\n",
       "    }\n",
       "\n",
       "    .dataframe tbody tr th {\n",
       "        vertical-align: top;\n",
       "    }\n",
       "\n",
       "    .dataframe thead th {\n",
       "        text-align: right;\n",
       "    }\n",
       "</style>\n",
       "<table border=\"1\" class=\"dataframe\">\n",
       "  <thead>\n",
       "    <tr style=\"text-align: right;\">\n",
       "      <th></th>\n",
       "      <th>完成项目总数</th>\n",
       "    </tr>\n",
       "    <tr>\n",
       "      <th>人员</th>\n",
       "      <th></th>\n",
       "    </tr>\n",
       "  </thead>\n",
       "  <tbody>\n",
       "    <tr>\n",
       "      <th>李晓波</th>\n",
       "      <td>0</td>\n",
       "    </tr>\n",
       "    <tr>\n",
       "      <th>靳甜甜</th>\n",
       "      <td>0</td>\n",
       "    </tr>\n",
       "    <tr>\n",
       "      <th>刘永强</th>\n",
       "      <td>2</td>\n",
       "    </tr>\n",
       "    <tr>\n",
       "      <th>宋少宇</th>\n",
       "      <td>3</td>\n",
       "    </tr>\n",
       "  </tbody>\n",
       "</table>\n",
       "</div>"
      ],
      "text/plain": [
       "     完成项目总数\n",
       "人员         \n",
       "李晓波       0\n",
       "靳甜甜       0\n",
       "刘永强       2\n",
       "宋少宇       3"
      ]
     },
     "execution_count": 125,
     "metadata": {},
     "output_type": "execute_result"
    }
   ],
   "source": [
    "myModule.get_rank(all_df1 , '人员' ,'完成项目总数', 3, quantile=0.2, compare='<')"
   ]
  },
  {
   "cell_type": "markdown",
   "metadata": {},
   "source": [
    "# 下期项目情况预测"
   ]
  },
  {
   "cell_type": "markdown",
   "metadata": {},
   "source": [
    "## 整体商业项目趋势图\n",
    "* 完成项目数： 本周完成的项目\n",
    "* 总在线项目： 下机正在分析项目 和 未完成个性化分析\n",
    "* 未下机项目： 未下机项目"
   ]
  },
  {
   "cell_type": "code",
   "execution_count": 126,
   "metadata": {
    "collapsed": false
   },
   "outputs": [
    {
     "data": {
      "application/vnd.plotly.v1+json": {
       "data": [
        {
         "name": "在线项目总数",
         "type": "scatter",
         "uid": "27ccc9b9-d11a-11e8-8ddb-a41f72875c19",
         "x": [
          "9-1",
          "9-2",
          "9-3",
          "9-4"
         ],
         "y": [
          59,
          58,
          57,
          60
         ]
        },
        {
         "name": "完成项目总数",
         "type": "scatter",
         "uid": "27ccc9ba-d11a-11e8-8ddb-a41f72875c19",
         "x": [
          "9-1",
          "9-2",
          "9-3",
          "9-4"
         ],
         "y": [
          57,
          79,
          64,
          56
         ]
        }
       ],
       "layout": {
        "title": "在线项目总数&完成项目总数周趋势图",
        "xaxis": {
         "mirror": "all",
         "nticks": 20,
         "showgrid": true,
         "showline": true,
         "title": "周",
         "zeroline": true
        },
        "yaxis": {
         "mirror": "all",
         "nticks": 20,
         "showgrid": true,
         "showline": true,
         "title": "在线项目总数&完成项目总数",
         "zeroline": true
        }
       }
      },
      "text/html": [
       "<div id=\"9f8d7a94-4228-4d48-bbf1-a62dc8fcdabc\" style=\"height: 525px; width: 100%;\" class=\"plotly-graph-div\"></div><script type=\"text/javascript\">require([\"plotly\"], function(Plotly) { window.PLOTLYENV=window.PLOTLYENV || {};window.PLOTLYENV.BASE_URL=\"https://plot.ly\";Plotly.newPlot(\"9f8d7a94-4228-4d48-bbf1-a62dc8fcdabc\", [{\"name\": \"\\u5728\\u7ebf\\u9879\\u76ee\\u603b\\u6570\", \"x\": [\"9-1\", \"9-2\", \"9-3\", \"9-4\"], \"y\": [59, 58, 57, 60], \"type\": \"scatter\", \"uid\": \"27ccc9b9-d11a-11e8-8ddb-a41f72875c19\"}, {\"name\": \"\\u5b8c\\u6210\\u9879\\u76ee\\u603b\\u6570\", \"x\": [\"9-1\", \"9-2\", \"9-3\", \"9-4\"], \"y\": [57, 79, 64, 56], \"type\": \"scatter\", \"uid\": \"27ccc9ba-d11a-11e8-8ddb-a41f72875c19\"}], {\"title\": \"\\u5728\\u7ebf\\u9879\\u76ee\\u603b\\u6570&\\u5b8c\\u6210\\u9879\\u76ee\\u603b\\u6570\\u5468\\u8d8b\\u52bf\\u56fe\", \"xaxis\": {\"mirror\": \"all\", \"nticks\": 20, \"showgrid\": true, \"showline\": true, \"title\": \"\\u5468\", \"zeroline\": true}, \"yaxis\": {\"mirror\": \"all\", \"nticks\": 20, \"showgrid\": true, \"showline\": true, \"title\": \"\\u5728\\u7ebf\\u9879\\u76ee\\u603b\\u6570&\\u5b8c\\u6210\\u9879\\u76ee\\u603b\\u6570\", \"zeroline\": true}}, {\"showLink\": true, \"linkText\": \"Export to plot.ly\"})});</script>"
      ],
      "text/vnd.plotly.v1+html": [
       "<div id=\"9f8d7a94-4228-4d48-bbf1-a62dc8fcdabc\" style=\"height: 525px; width: 100%;\" class=\"plotly-graph-div\"></div><script type=\"text/javascript\">require([\"plotly\"], function(Plotly) { window.PLOTLYENV=window.PLOTLYENV || {};window.PLOTLYENV.BASE_URL=\"https://plot.ly\";Plotly.newPlot(\"9f8d7a94-4228-4d48-bbf1-a62dc8fcdabc\", [{\"name\": \"\\u5728\\u7ebf\\u9879\\u76ee\\u603b\\u6570\", \"x\": [\"9-1\", \"9-2\", \"9-3\", \"9-4\"], \"y\": [59, 58, 57, 60], \"type\": \"scatter\", \"uid\": \"27ccc9b9-d11a-11e8-8ddb-a41f72875c19\"}, {\"name\": \"\\u5b8c\\u6210\\u9879\\u76ee\\u603b\\u6570\", \"x\": [\"9-1\", \"9-2\", \"9-3\", \"9-4\"], \"y\": [57, 79, 64, 56], \"type\": \"scatter\", \"uid\": \"27ccc9ba-d11a-11e8-8ddb-a41f72875c19\"}], {\"title\": \"\\u5728\\u7ebf\\u9879\\u76ee\\u603b\\u6570&\\u5b8c\\u6210\\u9879\\u76ee\\u603b\\u6570\\u5468\\u8d8b\\u52bf\\u56fe\", \"xaxis\": {\"mirror\": \"all\", \"nticks\": 20, \"showgrid\": true, \"showline\": true, \"title\": \"\\u5468\", \"zeroline\": true}, \"yaxis\": {\"mirror\": \"all\", \"nticks\": 20, \"showgrid\": true, \"showline\": true, \"title\": \"\\u5728\\u7ebf\\u9879\\u76ee\\u603b\\u6570&\\u5b8c\\u6210\\u9879\\u76ee\\u603b\\u6570\", \"zeroline\": true}}, {\"showLink\": true, \"linkText\": \"Export to plot.ly\"})});</script>"
      ]
     },
     "metadata": {},
     "output_type": "display_data"
    }
   ],
   "source": [
    "ss = myModule.format(all_df1 ,\"日期（格式“月-周次”）\" ,['完成项目总数','在线项目总数' ])\n",
    "#ss.add_group('组别')\n",
    "#ss.get_average_by('人员')\n",
    "myModule.myPlot(ss.groupby('sum')).plot('line')\n",
    "#ss = myModule.format(all_df1 ,\"month\" ,['完成项目总数','在线项目总数'])\n",
    "#ss.add_group('组别')\n",
    "#ss.get_average_by('人员')\n",
    "#myModule.myPlot(ss.groupby('sum')).plot('line','月')"
   ]
  },
  {
   "cell_type": "markdown",
   "metadata": {},
   "source": [
    "## 总在线项目数\n",
    "* 把这个数字做到sheet1中，sheet2中尽量不留数字"
   ]
  },
  {
   "cell_type": "markdown",
   "metadata": {},
   "source": [
    "### 在线项目情况"
   ]
  },
  {
   "cell_type": "code",
   "execution_count": 131,
   "metadata": {
    "collapsed": false
   },
   "outputs": [
    {
     "data": {
      "application/vnd.plotly.v1+json": {
       "data": [
        {
         "name": "在线项目总数",
         "type": "scatter",
         "uid": "54133b3c-d11a-11e8-8ddb-a41f72875c19",
         "x": [
          "9-1",
          "9-2",
          "9-3",
          "9-4"
         ],
         "y": [
          59,
          58,
          57,
          60
         ]
        }
       ],
       "layout": {
        "title": "在线项目总数周趋势图",
        "xaxis": {
         "mirror": "all",
         "nticks": 20,
         "showgrid": true,
         "showline": true,
         "title": "周",
         "zeroline": true
        },
        "yaxis": {
         "mirror": "all",
         "nticks": 20,
         "showgrid": true,
         "showline": true,
         "title": "在线项目总数",
         "zeroline": true
        }
       }
      },
      "text/html": [
       "<div id=\"46aa34e3-cbf9-48fd-8937-6c3d6742f1b8\" style=\"height: 525px; width: 100%;\" class=\"plotly-graph-div\"></div><script type=\"text/javascript\">require([\"plotly\"], function(Plotly) { window.PLOTLYENV=window.PLOTLYENV || {};window.PLOTLYENV.BASE_URL=\"https://plot.ly\";Plotly.newPlot(\"46aa34e3-cbf9-48fd-8937-6c3d6742f1b8\", [{\"name\": \"\\u5728\\u7ebf\\u9879\\u76ee\\u603b\\u6570\", \"x\": [\"9-1\", \"9-2\", \"9-3\", \"9-4\"], \"y\": [59, 58, 57, 60], \"type\": \"scatter\", \"uid\": \"54133b3c-d11a-11e8-8ddb-a41f72875c19\"}], {\"title\": \"\\u5728\\u7ebf\\u9879\\u76ee\\u603b\\u6570\\u5468\\u8d8b\\u52bf\\u56fe\", \"xaxis\": {\"mirror\": \"all\", \"nticks\": 20, \"showgrid\": true, \"showline\": true, \"title\": \"\\u5468\", \"zeroline\": true}, \"yaxis\": {\"mirror\": \"all\", \"nticks\": 20, \"showgrid\": true, \"showline\": true, \"title\": \"\\u5728\\u7ebf\\u9879\\u76ee\\u603b\\u6570\", \"zeroline\": true}}, {\"showLink\": true, \"linkText\": \"Export to plot.ly\"})});</script>"
      ],
      "text/vnd.plotly.v1+html": [
       "<div id=\"46aa34e3-cbf9-48fd-8937-6c3d6742f1b8\" style=\"height: 525px; width: 100%;\" class=\"plotly-graph-div\"></div><script type=\"text/javascript\">require([\"plotly\"], function(Plotly) { window.PLOTLYENV=window.PLOTLYENV || {};window.PLOTLYENV.BASE_URL=\"https://plot.ly\";Plotly.newPlot(\"46aa34e3-cbf9-48fd-8937-6c3d6742f1b8\", [{\"name\": \"\\u5728\\u7ebf\\u9879\\u76ee\\u603b\\u6570\", \"x\": [\"9-1\", \"9-2\", \"9-3\", \"9-4\"], \"y\": [59, 58, 57, 60], \"type\": \"scatter\", \"uid\": \"54133b3c-d11a-11e8-8ddb-a41f72875c19\"}], {\"title\": \"\\u5728\\u7ebf\\u9879\\u76ee\\u603b\\u6570\\u5468\\u8d8b\\u52bf\\u56fe\", \"xaxis\": {\"mirror\": \"all\", \"nticks\": 20, \"showgrid\": true, \"showline\": true, \"title\": \"\\u5468\", \"zeroline\": true}, \"yaxis\": {\"mirror\": \"all\", \"nticks\": 20, \"showgrid\": true, \"showline\": true, \"title\": \"\\u5728\\u7ebf\\u9879\\u76ee\\u603b\\u6570\", \"zeroline\": true}}, {\"showLink\": true, \"linkText\": \"Export to plot.ly\"})});</script>"
      ]
     },
     "metadata": {},
     "output_type": "display_data"
    },
    {
     "data": {
      "application/vnd.plotly.v1+json": {
       "data": [
        {
         "name": "在线项目总数",
         "type": "scatter",
         "uid": "54133b3d-d11a-11e8-8ddb-a41f72875c19",
         "x": [
          9
         ],
         "y": [
          234
         ]
        },
        {
         "name": "完成项目总数",
         "type": "scatter",
         "uid": "54133b3e-d11a-11e8-8ddb-a41f72875c19",
         "x": [
          9
         ],
         "y": [
          256
         ]
        }
       ],
       "layout": {
        "title": "在线项目总数&完成项目总数月趋势图",
        "xaxis": {
         "mirror": "all",
         "nticks": 20,
         "showgrid": true,
         "showline": true,
         "title": "月",
         "zeroline": true
        },
        "yaxis": {
         "mirror": "all",
         "nticks": 20,
         "showgrid": true,
         "showline": true,
         "title": "在线项目总数&完成项目总数",
         "zeroline": true
        }
       }
      },
      "text/html": [
       "<div id=\"1cb6e28f-392b-49a1-bdf7-baa948d7a33d\" style=\"height: 525px; width: 100%;\" class=\"plotly-graph-div\"></div><script type=\"text/javascript\">require([\"plotly\"], function(Plotly) { window.PLOTLYENV=window.PLOTLYENV || {};window.PLOTLYENV.BASE_URL=\"https://plot.ly\";Plotly.newPlot(\"1cb6e28f-392b-49a1-bdf7-baa948d7a33d\", [{\"name\": \"\\u5728\\u7ebf\\u9879\\u76ee\\u603b\\u6570\", \"x\": [9], \"y\": [234], \"type\": \"scatter\", \"uid\": \"54133b3d-d11a-11e8-8ddb-a41f72875c19\"}, {\"name\": \"\\u5b8c\\u6210\\u9879\\u76ee\\u603b\\u6570\", \"x\": [9], \"y\": [256], \"type\": \"scatter\", \"uid\": \"54133b3e-d11a-11e8-8ddb-a41f72875c19\"}], {\"title\": \"\\u5728\\u7ebf\\u9879\\u76ee\\u603b\\u6570&\\u5b8c\\u6210\\u9879\\u76ee\\u603b\\u6570\\u6708\\u8d8b\\u52bf\\u56fe\", \"xaxis\": {\"mirror\": \"all\", \"nticks\": 20, \"showgrid\": true, \"showline\": true, \"title\": \"\\u6708\", \"zeroline\": true}, \"yaxis\": {\"mirror\": \"all\", \"nticks\": 20, \"showgrid\": true, \"showline\": true, \"title\": \"\\u5728\\u7ebf\\u9879\\u76ee\\u603b\\u6570&\\u5b8c\\u6210\\u9879\\u76ee\\u603b\\u6570\", \"zeroline\": true}}, {\"showLink\": true, \"linkText\": \"Export to plot.ly\"})});</script>"
      ],
      "text/vnd.plotly.v1+html": [
       "<div id=\"1cb6e28f-392b-49a1-bdf7-baa948d7a33d\" style=\"height: 525px; width: 100%;\" class=\"plotly-graph-div\"></div><script type=\"text/javascript\">require([\"plotly\"], function(Plotly) { window.PLOTLYENV=window.PLOTLYENV || {};window.PLOTLYENV.BASE_URL=\"https://plot.ly\";Plotly.newPlot(\"1cb6e28f-392b-49a1-bdf7-baa948d7a33d\", [{\"name\": \"\\u5728\\u7ebf\\u9879\\u76ee\\u603b\\u6570\", \"x\": [9], \"y\": [234], \"type\": \"scatter\", \"uid\": \"54133b3d-d11a-11e8-8ddb-a41f72875c19\"}, {\"name\": \"\\u5b8c\\u6210\\u9879\\u76ee\\u603b\\u6570\", \"x\": [9], \"y\": [256], \"type\": \"scatter\", \"uid\": \"54133b3e-d11a-11e8-8ddb-a41f72875c19\"}], {\"title\": \"\\u5728\\u7ebf\\u9879\\u76ee\\u603b\\u6570&\\u5b8c\\u6210\\u9879\\u76ee\\u603b\\u6570\\u6708\\u8d8b\\u52bf\\u56fe\", \"xaxis\": {\"mirror\": \"all\", \"nticks\": 20, \"showgrid\": true, \"showline\": true, \"title\": \"\\u6708\", \"zeroline\": true}, \"yaxis\": {\"mirror\": \"all\", \"nticks\": 20, \"showgrid\": true, \"showline\": true, \"title\": \"\\u5728\\u7ebf\\u9879\\u76ee\\u603b\\u6570&\\u5b8c\\u6210\\u9879\\u76ee\\u603b\\u6570\", \"zeroline\": true}}, {\"showLink\": true, \"linkText\": \"Export to plot.ly\"})});</script>"
      ]
     },
     "metadata": {},
     "output_type": "display_data"
    }
   ],
   "source": [
    "ss = myModule.format(all_df1 ,\"日期（格式“月-周次”）\" ,['在线项目总数' ])\n",
    "#ss.add_group('组别')\n",
    "#ss.get_average_by('人员')\n",
    "myModule.myPlot(ss.groupby('sum')).plot('line')\n",
    "ss = myModule.format(all_df1 ,\"month\" ,['完成项目总数','在线项目总数'])\n",
    "#ss.add_group('组别')\n",
    "#ss.get_average_by('人员')\n",
    "myModule.myPlot(ss.groupby('sum')).plot('line','月')"
   ]
  },
  {
   "cell_type": "markdown",
   "metadata": {},
   "source": [
    "### 人均在线项目情况"
   ]
  },
  {
   "cell_type": "code",
   "execution_count": 132,
   "metadata": {
    "collapsed": false
   },
   "outputs": [
    {
     "data": {
      "application/vnd.plotly.v1+json": {
       "data": [
        {
         "line": {
          "dash": "solid"
         },
         "name": "在线项目总数(分析一组)",
         "type": "scatter",
         "uid": "5f479e94-d11a-11e8-8ddb-a41f72875c19",
         "x": [
          "9-1",
          "9-2",
          "9-3",
          "9-4"
         ],
         "y": [
          2.25,
          2.25,
          2,
          2.75
         ]
        },
        {
         "line": {
          "dash": "dot"
         },
         "name": "在线项目总数(分析二组)",
         "type": "scatter",
         "uid": "5f479e95-d11a-11e8-8ddb-a41f72875c19",
         "x": [
          "9-1",
          "9-2",
          "9-3",
          "9-4"
         ],
         "y": [
          4.3,
          4.2,
          3.9,
          3.9
         ]
        },
        {
         "line": {
          "dash": "dash"
         },
         "name": "在线项目总数(个性化组)",
         "type": "scatter",
         "uid": "5f479e96-d11a-11e8-8ddb-a41f72875c19",
         "x": [
          "9-1",
          "9-2",
          "9-3",
          "9-4"
         ],
         "y": [
          1.75,
          1.75,
          2.5,
          2.5
         ]
        }
       ],
       "layout": {
        "title": "在线项目总数周趋势图",
        "xaxis": {
         "mirror": "all",
         "nticks": 20,
         "showgrid": true,
         "showline": true,
         "title": "周",
         "zeroline": true
        },
        "yaxis": {
         "mirror": "all",
         "nticks": 20,
         "showgrid": true,
         "showline": true,
         "title": "在线项目总数",
         "zeroline": true
        }
       }
      },
      "text/html": [
       "<div id=\"a83002cc-59fe-4d53-89ca-f93dff294f7a\" style=\"height: 525px; width: 100%;\" class=\"plotly-graph-div\"></div><script type=\"text/javascript\">require([\"plotly\"], function(Plotly) { window.PLOTLYENV=window.PLOTLYENV || {};window.PLOTLYENV.BASE_URL=\"https://plot.ly\";Plotly.newPlot(\"a83002cc-59fe-4d53-89ca-f93dff294f7a\", [{\"line\": {\"dash\": \"solid\"}, \"name\": \"\\u5728\\u7ebf\\u9879\\u76ee\\u603b\\u6570(\\u5206\\u6790\\u4e00\\u7ec4)\", \"x\": [\"9-1\", \"9-2\", \"9-3\", \"9-4\"], \"y\": [2.25, 2.25, 2.0, 2.75], \"type\": \"scatter\", \"uid\": \"5f479e94-d11a-11e8-8ddb-a41f72875c19\"}, {\"line\": {\"dash\": \"dot\"}, \"name\": \"\\u5728\\u7ebf\\u9879\\u76ee\\u603b\\u6570(\\u5206\\u6790\\u4e8c\\u7ec4)\", \"x\": [\"9-1\", \"9-2\", \"9-3\", \"9-4\"], \"y\": [4.3, 4.2, 3.9, 3.9], \"type\": \"scatter\", \"uid\": \"5f479e95-d11a-11e8-8ddb-a41f72875c19\"}, {\"line\": {\"dash\": \"dash\"}, \"name\": \"\\u5728\\u7ebf\\u9879\\u76ee\\u603b\\u6570(\\u4e2a\\u6027\\u5316\\u7ec4)\", \"x\": [\"9-1\", \"9-2\", \"9-3\", \"9-4\"], \"y\": [1.75, 1.75, 2.5, 2.5], \"type\": \"scatter\", \"uid\": \"5f479e96-d11a-11e8-8ddb-a41f72875c19\"}], {\"title\": \"\\u5728\\u7ebf\\u9879\\u76ee\\u603b\\u6570\\u5468\\u8d8b\\u52bf\\u56fe\", \"xaxis\": {\"mirror\": \"all\", \"nticks\": 20, \"showgrid\": true, \"showline\": true, \"title\": \"\\u5468\", \"zeroline\": true}, \"yaxis\": {\"mirror\": \"all\", \"nticks\": 20, \"showgrid\": true, \"showline\": true, \"title\": \"\\u5728\\u7ebf\\u9879\\u76ee\\u603b\\u6570\", \"zeroline\": true}}, {\"showLink\": true, \"linkText\": \"Export to plot.ly\"})});</script>"
      ],
      "text/vnd.plotly.v1+html": [
       "<div id=\"a83002cc-59fe-4d53-89ca-f93dff294f7a\" style=\"height: 525px; width: 100%;\" class=\"plotly-graph-div\"></div><script type=\"text/javascript\">require([\"plotly\"], function(Plotly) { window.PLOTLYENV=window.PLOTLYENV || {};window.PLOTLYENV.BASE_URL=\"https://plot.ly\";Plotly.newPlot(\"a83002cc-59fe-4d53-89ca-f93dff294f7a\", [{\"line\": {\"dash\": \"solid\"}, \"name\": \"\\u5728\\u7ebf\\u9879\\u76ee\\u603b\\u6570(\\u5206\\u6790\\u4e00\\u7ec4)\", \"x\": [\"9-1\", \"9-2\", \"9-3\", \"9-4\"], \"y\": [2.25, 2.25, 2.0, 2.75], \"type\": \"scatter\", \"uid\": \"5f479e94-d11a-11e8-8ddb-a41f72875c19\"}, {\"line\": {\"dash\": \"dot\"}, \"name\": \"\\u5728\\u7ebf\\u9879\\u76ee\\u603b\\u6570(\\u5206\\u6790\\u4e8c\\u7ec4)\", \"x\": [\"9-1\", \"9-2\", \"9-3\", \"9-4\"], \"y\": [4.3, 4.2, 3.9, 3.9], \"type\": \"scatter\", \"uid\": \"5f479e95-d11a-11e8-8ddb-a41f72875c19\"}, {\"line\": {\"dash\": \"dash\"}, \"name\": \"\\u5728\\u7ebf\\u9879\\u76ee\\u603b\\u6570(\\u4e2a\\u6027\\u5316\\u7ec4)\", \"x\": [\"9-1\", \"9-2\", \"9-3\", \"9-4\"], \"y\": [1.75, 1.75, 2.5, 2.5], \"type\": \"scatter\", \"uid\": \"5f479e96-d11a-11e8-8ddb-a41f72875c19\"}], {\"title\": \"\\u5728\\u7ebf\\u9879\\u76ee\\u603b\\u6570\\u5468\\u8d8b\\u52bf\\u56fe\", \"xaxis\": {\"mirror\": \"all\", \"nticks\": 20, \"showgrid\": true, \"showline\": true, \"title\": \"\\u5468\", \"zeroline\": true}, \"yaxis\": {\"mirror\": \"all\", \"nticks\": 20, \"showgrid\": true, \"showline\": true, \"title\": \"\\u5728\\u7ebf\\u9879\\u76ee\\u603b\\u6570\", \"zeroline\": true}}, {\"showLink\": true, \"linkText\": \"Export to plot.ly\"})});</script>"
      ]
     },
     "metadata": {},
     "output_type": "display_data"
    },
    {
     "data": {
      "application/vnd.plotly.v1+json": {
       "data": [
        {
         "line": {
          "dash": "solid"
         },
         "name": "在线项目总数(分析一组)",
         "type": "scatter",
         "uid": "5f479e97-d11a-11e8-8ddb-a41f72875c19",
         "x": [
          9
         ],
         "y": [
          9.25
         ]
        },
        {
         "line": {
          "dash": "dot"
         },
         "name": "在线项目总数(分析二组)",
         "type": "scatter",
         "uid": "5f479e98-d11a-11e8-8ddb-a41f72875c19",
         "x": [
          9
         ],
         "y": [
          16.3
         ]
        },
        {
         "line": {
          "dash": "dash"
         },
         "name": "在线项目总数(个性化组)",
         "type": "scatter",
         "uid": "5f479e99-d11a-11e8-8ddb-a41f72875c19",
         "x": [
          9
         ],
         "y": [
          8.5
         ]
        },
        {
         "line": {
          "dash": "solid"
         },
         "name": "完成项目总数(分析一组)",
         "type": "scatter",
         "uid": "5f479e9a-d11a-11e8-8ddb-a41f72875c19",
         "x": [
          9
         ],
         "y": [
          11.25
         ]
        },
        {
         "line": {
          "dash": "dot"
         },
         "name": "完成项目总数(分析二组)",
         "type": "scatter",
         "uid": "5f479e9b-d11a-11e8-8ddb-a41f72875c19",
         "x": [
          9
         ],
         "y": [
          15.2
         ]
        },
        {
         "line": {
          "dash": "dash"
         },
         "name": "完成项目总数(个性化组)",
         "type": "scatter",
         "uid": "5f479e9c-d11a-11e8-8ddb-a41f72875c19",
         "x": [
          9
         ],
         "y": [
          14.75
         ]
        }
       ],
       "layout": {
        "title": "在线项目总数&完成项目总数月趋势图",
        "xaxis": {
         "mirror": "all",
         "nticks": 20,
         "showgrid": true,
         "showline": true,
         "title": "月",
         "zeroline": true
        },
        "yaxis": {
         "mirror": "all",
         "nticks": 20,
         "showgrid": true,
         "showline": true,
         "title": "在线项目总数&完成项目总数",
         "zeroline": true
        }
       }
      },
      "text/html": [
       "<div id=\"5c260492-2cf9-4495-934a-7caaf6db9d4e\" style=\"height: 525px; width: 100%;\" class=\"plotly-graph-div\"></div><script type=\"text/javascript\">require([\"plotly\"], function(Plotly) { window.PLOTLYENV=window.PLOTLYENV || {};window.PLOTLYENV.BASE_URL=\"https://plot.ly\";Plotly.newPlot(\"5c260492-2cf9-4495-934a-7caaf6db9d4e\", [{\"line\": {\"dash\": \"solid\"}, \"name\": \"\\u5728\\u7ebf\\u9879\\u76ee\\u603b\\u6570(\\u5206\\u6790\\u4e00\\u7ec4)\", \"x\": [9], \"y\": [9.25], \"type\": \"scatter\", \"uid\": \"5f479e97-d11a-11e8-8ddb-a41f72875c19\"}, {\"line\": {\"dash\": \"dot\"}, \"name\": \"\\u5728\\u7ebf\\u9879\\u76ee\\u603b\\u6570(\\u5206\\u6790\\u4e8c\\u7ec4)\", \"x\": [9], \"y\": [16.3], \"type\": \"scatter\", \"uid\": \"5f479e98-d11a-11e8-8ddb-a41f72875c19\"}, {\"line\": {\"dash\": \"dash\"}, \"name\": \"\\u5728\\u7ebf\\u9879\\u76ee\\u603b\\u6570(\\u4e2a\\u6027\\u5316\\u7ec4)\", \"x\": [9], \"y\": [8.5], \"type\": \"scatter\", \"uid\": \"5f479e99-d11a-11e8-8ddb-a41f72875c19\"}, {\"line\": {\"dash\": \"solid\"}, \"name\": \"\\u5b8c\\u6210\\u9879\\u76ee\\u603b\\u6570(\\u5206\\u6790\\u4e00\\u7ec4)\", \"x\": [9], \"y\": [11.25], \"type\": \"scatter\", \"uid\": \"5f479e9a-d11a-11e8-8ddb-a41f72875c19\"}, {\"line\": {\"dash\": \"dot\"}, \"name\": \"\\u5b8c\\u6210\\u9879\\u76ee\\u603b\\u6570(\\u5206\\u6790\\u4e8c\\u7ec4)\", \"x\": [9], \"y\": [15.2], \"type\": \"scatter\", \"uid\": \"5f479e9b-d11a-11e8-8ddb-a41f72875c19\"}, {\"line\": {\"dash\": \"dash\"}, \"name\": \"\\u5b8c\\u6210\\u9879\\u76ee\\u603b\\u6570(\\u4e2a\\u6027\\u5316\\u7ec4)\", \"x\": [9], \"y\": [14.75], \"type\": \"scatter\", \"uid\": \"5f479e9c-d11a-11e8-8ddb-a41f72875c19\"}], {\"title\": \"\\u5728\\u7ebf\\u9879\\u76ee\\u603b\\u6570&\\u5b8c\\u6210\\u9879\\u76ee\\u603b\\u6570\\u6708\\u8d8b\\u52bf\\u56fe\", \"xaxis\": {\"mirror\": \"all\", \"nticks\": 20, \"showgrid\": true, \"showline\": true, \"title\": \"\\u6708\", \"zeroline\": true}, \"yaxis\": {\"mirror\": \"all\", \"nticks\": 20, \"showgrid\": true, \"showline\": true, \"title\": \"\\u5728\\u7ebf\\u9879\\u76ee\\u603b\\u6570&\\u5b8c\\u6210\\u9879\\u76ee\\u603b\\u6570\", \"zeroline\": true}}, {\"showLink\": true, \"linkText\": \"Export to plot.ly\"})});</script>"
      ],
      "text/vnd.plotly.v1+html": [
       "<div id=\"5c260492-2cf9-4495-934a-7caaf6db9d4e\" style=\"height: 525px; width: 100%;\" class=\"plotly-graph-div\"></div><script type=\"text/javascript\">require([\"plotly\"], function(Plotly) { window.PLOTLYENV=window.PLOTLYENV || {};window.PLOTLYENV.BASE_URL=\"https://plot.ly\";Plotly.newPlot(\"5c260492-2cf9-4495-934a-7caaf6db9d4e\", [{\"line\": {\"dash\": \"solid\"}, \"name\": \"\\u5728\\u7ebf\\u9879\\u76ee\\u603b\\u6570(\\u5206\\u6790\\u4e00\\u7ec4)\", \"x\": [9], \"y\": [9.25], \"type\": \"scatter\", \"uid\": \"5f479e97-d11a-11e8-8ddb-a41f72875c19\"}, {\"line\": {\"dash\": \"dot\"}, \"name\": \"\\u5728\\u7ebf\\u9879\\u76ee\\u603b\\u6570(\\u5206\\u6790\\u4e8c\\u7ec4)\", \"x\": [9], \"y\": [16.3], \"type\": \"scatter\", \"uid\": \"5f479e98-d11a-11e8-8ddb-a41f72875c19\"}, {\"line\": {\"dash\": \"dash\"}, \"name\": \"\\u5728\\u7ebf\\u9879\\u76ee\\u603b\\u6570(\\u4e2a\\u6027\\u5316\\u7ec4)\", \"x\": [9], \"y\": [8.5], \"type\": \"scatter\", \"uid\": \"5f479e99-d11a-11e8-8ddb-a41f72875c19\"}, {\"line\": {\"dash\": \"solid\"}, \"name\": \"\\u5b8c\\u6210\\u9879\\u76ee\\u603b\\u6570(\\u5206\\u6790\\u4e00\\u7ec4)\", \"x\": [9], \"y\": [11.25], \"type\": \"scatter\", \"uid\": \"5f479e9a-d11a-11e8-8ddb-a41f72875c19\"}, {\"line\": {\"dash\": \"dot\"}, \"name\": \"\\u5b8c\\u6210\\u9879\\u76ee\\u603b\\u6570(\\u5206\\u6790\\u4e8c\\u7ec4)\", \"x\": [9], \"y\": [15.2], \"type\": \"scatter\", \"uid\": \"5f479e9b-d11a-11e8-8ddb-a41f72875c19\"}, {\"line\": {\"dash\": \"dash\"}, \"name\": \"\\u5b8c\\u6210\\u9879\\u76ee\\u603b\\u6570(\\u4e2a\\u6027\\u5316\\u7ec4)\", \"x\": [9], \"y\": [14.75], \"type\": \"scatter\", \"uid\": \"5f479e9c-d11a-11e8-8ddb-a41f72875c19\"}], {\"title\": \"\\u5728\\u7ebf\\u9879\\u76ee\\u603b\\u6570&\\u5b8c\\u6210\\u9879\\u76ee\\u603b\\u6570\\u6708\\u8d8b\\u52bf\\u56fe\", \"xaxis\": {\"mirror\": \"all\", \"nticks\": 20, \"showgrid\": true, \"showline\": true, \"title\": \"\\u6708\", \"zeroline\": true}, \"yaxis\": {\"mirror\": \"all\", \"nticks\": 20, \"showgrid\": true, \"showline\": true, \"title\": \"\\u5728\\u7ebf\\u9879\\u76ee\\u603b\\u6570&\\u5b8c\\u6210\\u9879\\u76ee\\u603b\\u6570\", \"zeroline\": true}}, {\"showLink\": true, \"linkText\": \"Export to plot.ly\"})});</script>"
      ]
     },
     "metadata": {},
     "output_type": "display_data"
    }
   ],
   "source": [
    "ss = myModule.format(all_df1 ,\"日期（格式“月-周次”）\" ,['在线项目总数' ])\n",
    "ss.add_group('组别')\n",
    "ss.get_average_by('人员')\n",
    "myModule.myPlot(ss.groupby('sum')).plot('line')\n",
    "ss = myModule.format(all_df1 ,\"month\" ,['完成项目总数','在线项目总数'])\n",
    "ss.add_group('组别')\n",
    "ss.get_average_by('人员')\n",
    "myModule.myPlot(ss.groupby('sum')).plot('line','月')"
   ]
  },
  {
   "cell_type": "markdown",
   "metadata": {},
   "source": [
    "## 未下机商业项目数"
   ]
  },
  {
   "cell_type": "code",
   "execution_count": 133,
   "metadata": {
    "collapsed": false
   },
   "outputs": [
    {
     "data": {
      "application/vnd.plotly.v1+json": {
       "data": [
        {
         "name": "未下机项目数",
         "type": "scatter",
         "uid": "6409fb70-d11a-11e8-8ddb-a41f72875c19",
         "x": [
          "9-1",
          "9-2",
          "9-3",
          "9-4"
         ],
         "y": [
          127,
          115,
          121,
          96
         ]
        }
       ],
       "layout": {
        "title": "未下机项目数周趋势图",
        "xaxis": {
         "mirror": "all",
         "nticks": 20,
         "showgrid": true,
         "showline": true,
         "title": "周",
         "zeroline": true
        },
        "yaxis": {
         "mirror": "all",
         "nticks": 20,
         "showgrid": true,
         "showline": true,
         "title": "未下机项目数",
         "zeroline": true
        }
       }
      },
      "text/html": [
       "<div id=\"71c77ad0-e8ba-44d1-a99b-cd55d6959f20\" style=\"height: 525px; width: 100%;\" class=\"plotly-graph-div\"></div><script type=\"text/javascript\">require([\"plotly\"], function(Plotly) { window.PLOTLYENV=window.PLOTLYENV || {};window.PLOTLYENV.BASE_URL=\"https://plot.ly\";Plotly.newPlot(\"71c77ad0-e8ba-44d1-a99b-cd55d6959f20\", [{\"name\": \"\\u672a\\u4e0b\\u673a\\u9879\\u76ee\\u6570\", \"x\": [\"9-1\", \"9-2\", \"9-3\", \"9-4\"], \"y\": [127, 115, 121, 96], \"type\": \"scatter\", \"uid\": \"6409fb70-d11a-11e8-8ddb-a41f72875c19\"}], {\"title\": \"\\u672a\\u4e0b\\u673a\\u9879\\u76ee\\u6570\\u5468\\u8d8b\\u52bf\\u56fe\", \"xaxis\": {\"mirror\": \"all\", \"nticks\": 20, \"showgrid\": true, \"showline\": true, \"title\": \"\\u5468\", \"zeroline\": true}, \"yaxis\": {\"mirror\": \"all\", \"nticks\": 20, \"showgrid\": true, \"showline\": true, \"title\": \"\\u672a\\u4e0b\\u673a\\u9879\\u76ee\\u6570\", \"zeroline\": true}}, {\"showLink\": true, \"linkText\": \"Export to plot.ly\"})});</script>"
      ],
      "text/vnd.plotly.v1+html": [
       "<div id=\"71c77ad0-e8ba-44d1-a99b-cd55d6959f20\" style=\"height: 525px; width: 100%;\" class=\"plotly-graph-div\"></div><script type=\"text/javascript\">require([\"plotly\"], function(Plotly) { window.PLOTLYENV=window.PLOTLYENV || {};window.PLOTLYENV.BASE_URL=\"https://plot.ly\";Plotly.newPlot(\"71c77ad0-e8ba-44d1-a99b-cd55d6959f20\", [{\"name\": \"\\u672a\\u4e0b\\u673a\\u9879\\u76ee\\u6570\", \"x\": [\"9-1\", \"9-2\", \"9-3\", \"9-4\"], \"y\": [127, 115, 121, 96], \"type\": \"scatter\", \"uid\": \"6409fb70-d11a-11e8-8ddb-a41f72875c19\"}], {\"title\": \"\\u672a\\u4e0b\\u673a\\u9879\\u76ee\\u6570\\u5468\\u8d8b\\u52bf\\u56fe\", \"xaxis\": {\"mirror\": \"all\", \"nticks\": 20, \"showgrid\": true, \"showline\": true, \"title\": \"\\u5468\", \"zeroline\": true}, \"yaxis\": {\"mirror\": \"all\", \"nticks\": 20, \"showgrid\": true, \"showline\": true, \"title\": \"\\u672a\\u4e0b\\u673a\\u9879\\u76ee\\u6570\", \"zeroline\": true}}, {\"showLink\": true, \"linkText\": \"Export to plot.ly\"})});</script>"
      ]
     },
     "metadata": {},
     "output_type": "display_data"
    },
    {
     "data": {
      "application/vnd.plotly.v1+json": {
       "data": [
        {
         "name": "未下机项目数",
         "type": "scatter",
         "uid": "6409fb71-d11a-11e8-8ddb-a41f72875c19",
         "x": [
          9
         ],
         "y": [
          459
         ]
        }
       ],
       "layout": {
        "title": "未下机项目数月趋势图",
        "xaxis": {
         "mirror": "all",
         "nticks": 20,
         "showgrid": true,
         "showline": true,
         "title": "月",
         "zeroline": true
        },
        "yaxis": {
         "mirror": "all",
         "nticks": 20,
         "showgrid": true,
         "showline": true,
         "title": "未下机项目数",
         "zeroline": true
        }
       }
      },
      "text/html": [
       "<div id=\"2223c23b-37a7-42f3-b1a9-4679d6bab99a\" style=\"height: 525px; width: 100%;\" class=\"plotly-graph-div\"></div><script type=\"text/javascript\">require([\"plotly\"], function(Plotly) { window.PLOTLYENV=window.PLOTLYENV || {};window.PLOTLYENV.BASE_URL=\"https://plot.ly\";Plotly.newPlot(\"2223c23b-37a7-42f3-b1a9-4679d6bab99a\", [{\"name\": \"\\u672a\\u4e0b\\u673a\\u9879\\u76ee\\u6570\", \"x\": [9], \"y\": [459], \"type\": \"scatter\", \"uid\": \"6409fb71-d11a-11e8-8ddb-a41f72875c19\"}], {\"title\": \"\\u672a\\u4e0b\\u673a\\u9879\\u76ee\\u6570\\u6708\\u8d8b\\u52bf\\u56fe\", \"xaxis\": {\"mirror\": \"all\", \"nticks\": 20, \"showgrid\": true, \"showline\": true, \"title\": \"\\u6708\", \"zeroline\": true}, \"yaxis\": {\"mirror\": \"all\", \"nticks\": 20, \"showgrid\": true, \"showline\": true, \"title\": \"\\u672a\\u4e0b\\u673a\\u9879\\u76ee\\u6570\", \"zeroline\": true}}, {\"showLink\": true, \"linkText\": \"Export to plot.ly\"})});</script>"
      ],
      "text/vnd.plotly.v1+html": [
       "<div id=\"2223c23b-37a7-42f3-b1a9-4679d6bab99a\" style=\"height: 525px; width: 100%;\" class=\"plotly-graph-div\"></div><script type=\"text/javascript\">require([\"plotly\"], function(Plotly) { window.PLOTLYENV=window.PLOTLYENV || {};window.PLOTLYENV.BASE_URL=\"https://plot.ly\";Plotly.newPlot(\"2223c23b-37a7-42f3-b1a9-4679d6bab99a\", [{\"name\": \"\\u672a\\u4e0b\\u673a\\u9879\\u76ee\\u6570\", \"x\": [9], \"y\": [459], \"type\": \"scatter\", \"uid\": \"6409fb71-d11a-11e8-8ddb-a41f72875c19\"}], {\"title\": \"\\u672a\\u4e0b\\u673a\\u9879\\u76ee\\u6570\\u6708\\u8d8b\\u52bf\\u56fe\", \"xaxis\": {\"mirror\": \"all\", \"nticks\": 20, \"showgrid\": true, \"showline\": true, \"title\": \"\\u6708\", \"zeroline\": true}, \"yaxis\": {\"mirror\": \"all\", \"nticks\": 20, \"showgrid\": true, \"showline\": true, \"title\": \"\\u672a\\u4e0b\\u673a\\u9879\\u76ee\\u6570\", \"zeroline\": true}}, {\"showLink\": true, \"linkText\": \"Export to plot.ly\"})});</script>"
      ]
     },
     "metadata": {},
     "output_type": "display_data"
    }
   ],
   "source": [
    "ss = myModule.format(all_df1 ,\"日期（格式“月-周次”）\" ,['未下机项目数' ])\n",
    "#ss.add_group('组别')\n",
    "#ss.get_average_by('人员')\n",
    "myModule.myPlot(ss.groupby('sum')).plot('line')\n",
    "ss = myModule.format(all_df1 ,\"month\" ,['未下机项目数' ])\n",
    "#ss.add_group('组别')\n",
    "#ss.get_average_by('人员')\n",
    "myModule.myPlot(ss.groupby('sum')).plot('line','月')"
   ]
  },
  {
   "cell_type": "markdown",
   "metadata": {},
   "source": [
    "# 项目质量情况"
   ]
  },
  {
   "cell_type": "markdown",
   "metadata": {},
   "source": [
    "## 项目周期情况"
   ]
  },
  {
   "cell_type": "markdown",
   "metadata": {},
   "source": [
    "### 延期项目数"
   ]
  },
  {
   "cell_type": "code",
   "execution_count": 134,
   "metadata": {
    "collapsed": false
   },
   "outputs": [
    {
     "data": {
      "application/vnd.plotly.v1+json": {
       "data": [
        {
         "name": "延期个性化项目数",
         "type": "scatter",
         "uid": "67c5e152-d11a-11e8-8ddb-a41f72875c19",
         "x": [
          "9-1",
          "9-2",
          "9-3",
          "9-4"
         ],
         "y": [
          3,
          0,
          0,
          1
         ]
        },
        {
         "name": "延期商业项目数",
         "type": "scatter",
         "uid": "67c5e153-d11a-11e8-8ddb-a41f72875c19",
         "x": [
          "9-1",
          "9-2",
          "9-3",
          "9-4"
         ],
         "y": [
          0,
          0,
          1,
          1
         ]
        }
       ],
       "layout": {
        "title": "延期个性化项目数&延期商业项目数周趋势图",
        "xaxis": {
         "mirror": "all",
         "nticks": 20,
         "showgrid": true,
         "showline": true,
         "title": "周",
         "zeroline": true
        },
        "yaxis": {
         "mirror": "all",
         "nticks": 20,
         "showgrid": true,
         "showline": true,
         "title": "延期个性化项目数&延期商业项目数",
         "zeroline": true
        }
       }
      },
      "text/html": [
       "<div id=\"ffb59eee-de73-47aa-822b-47e4344bc44f\" style=\"height: 525px; width: 100%;\" class=\"plotly-graph-div\"></div><script type=\"text/javascript\">require([\"plotly\"], function(Plotly) { window.PLOTLYENV=window.PLOTLYENV || {};window.PLOTLYENV.BASE_URL=\"https://plot.ly\";Plotly.newPlot(\"ffb59eee-de73-47aa-822b-47e4344bc44f\", [{\"name\": \"\\u5ef6\\u671f\\u4e2a\\u6027\\u5316\\u9879\\u76ee\\u6570\", \"x\": [\"9-1\", \"9-2\", \"9-3\", \"9-4\"], \"y\": [3, 0, 0, 1], \"type\": \"scatter\", \"uid\": \"67c5e152-d11a-11e8-8ddb-a41f72875c19\"}, {\"name\": \"\\u5ef6\\u671f\\u5546\\u4e1a\\u9879\\u76ee\\u6570\", \"x\": [\"9-1\", \"9-2\", \"9-3\", \"9-4\"], \"y\": [0, 0, 1, 1], \"type\": \"scatter\", \"uid\": \"67c5e153-d11a-11e8-8ddb-a41f72875c19\"}], {\"title\": \"\\u5ef6\\u671f\\u4e2a\\u6027\\u5316\\u9879\\u76ee\\u6570&\\u5ef6\\u671f\\u5546\\u4e1a\\u9879\\u76ee\\u6570\\u5468\\u8d8b\\u52bf\\u56fe\", \"xaxis\": {\"mirror\": \"all\", \"nticks\": 20, \"showgrid\": true, \"showline\": true, \"title\": \"\\u5468\", \"zeroline\": true}, \"yaxis\": {\"mirror\": \"all\", \"nticks\": 20, \"showgrid\": true, \"showline\": true, \"title\": \"\\u5ef6\\u671f\\u4e2a\\u6027\\u5316\\u9879\\u76ee\\u6570&\\u5ef6\\u671f\\u5546\\u4e1a\\u9879\\u76ee\\u6570\", \"zeroline\": true}}, {\"showLink\": true, \"linkText\": \"Export to plot.ly\"})});</script>"
      ],
      "text/vnd.plotly.v1+html": [
       "<div id=\"ffb59eee-de73-47aa-822b-47e4344bc44f\" style=\"height: 525px; width: 100%;\" class=\"plotly-graph-div\"></div><script type=\"text/javascript\">require([\"plotly\"], function(Plotly) { window.PLOTLYENV=window.PLOTLYENV || {};window.PLOTLYENV.BASE_URL=\"https://plot.ly\";Plotly.newPlot(\"ffb59eee-de73-47aa-822b-47e4344bc44f\", [{\"name\": \"\\u5ef6\\u671f\\u4e2a\\u6027\\u5316\\u9879\\u76ee\\u6570\", \"x\": [\"9-1\", \"9-2\", \"9-3\", \"9-4\"], \"y\": [3, 0, 0, 1], \"type\": \"scatter\", \"uid\": \"67c5e152-d11a-11e8-8ddb-a41f72875c19\"}, {\"name\": \"\\u5ef6\\u671f\\u5546\\u4e1a\\u9879\\u76ee\\u6570\", \"x\": [\"9-1\", \"9-2\", \"9-3\", \"9-4\"], \"y\": [0, 0, 1, 1], \"type\": \"scatter\", \"uid\": \"67c5e153-d11a-11e8-8ddb-a41f72875c19\"}], {\"title\": \"\\u5ef6\\u671f\\u4e2a\\u6027\\u5316\\u9879\\u76ee\\u6570&\\u5ef6\\u671f\\u5546\\u4e1a\\u9879\\u76ee\\u6570\\u5468\\u8d8b\\u52bf\\u56fe\", \"xaxis\": {\"mirror\": \"all\", \"nticks\": 20, \"showgrid\": true, \"showline\": true, \"title\": \"\\u5468\", \"zeroline\": true}, \"yaxis\": {\"mirror\": \"all\", \"nticks\": 20, \"showgrid\": true, \"showline\": true, \"title\": \"\\u5ef6\\u671f\\u4e2a\\u6027\\u5316\\u9879\\u76ee\\u6570&\\u5ef6\\u671f\\u5546\\u4e1a\\u9879\\u76ee\\u6570\", \"zeroline\": true}}, {\"showLink\": true, \"linkText\": \"Export to plot.ly\"})});</script>"
      ]
     },
     "metadata": {},
     "output_type": "display_data"
    },
    {
     "data": {
      "application/vnd.plotly.v1+json": {
       "data": [
        {
         "name": "延期个性化项目数",
         "type": "scatter",
         "uid": "67c5e154-d11a-11e8-8ddb-a41f72875c19",
         "x": [
          9
         ],
         "y": [
          4
         ]
        },
        {
         "name": "延期商业项目数",
         "type": "scatter",
         "uid": "67c5e155-d11a-11e8-8ddb-a41f72875c19",
         "x": [
          9
         ],
         "y": [
          2
         ]
        }
       ],
       "layout": {
        "title": "延期个性化项目数&延期商业项目数月趋势图",
        "xaxis": {
         "mirror": "all",
         "nticks": 20,
         "showgrid": true,
         "showline": true,
         "title": "月",
         "zeroline": true
        },
        "yaxis": {
         "mirror": "all",
         "nticks": 20,
         "showgrid": true,
         "showline": true,
         "title": "延期个性化项目数&延期商业项目数",
         "zeroline": true
        }
       }
      },
      "text/html": [
       "<div id=\"4e8bdcfb-25cb-4c23-8671-51933e381aa5\" style=\"height: 525px; width: 100%;\" class=\"plotly-graph-div\"></div><script type=\"text/javascript\">require([\"plotly\"], function(Plotly) { window.PLOTLYENV=window.PLOTLYENV || {};window.PLOTLYENV.BASE_URL=\"https://plot.ly\";Plotly.newPlot(\"4e8bdcfb-25cb-4c23-8671-51933e381aa5\", [{\"name\": \"\\u5ef6\\u671f\\u4e2a\\u6027\\u5316\\u9879\\u76ee\\u6570\", \"x\": [9], \"y\": [4], \"type\": \"scatter\", \"uid\": \"67c5e154-d11a-11e8-8ddb-a41f72875c19\"}, {\"name\": \"\\u5ef6\\u671f\\u5546\\u4e1a\\u9879\\u76ee\\u6570\", \"x\": [9], \"y\": [2], \"type\": \"scatter\", \"uid\": \"67c5e155-d11a-11e8-8ddb-a41f72875c19\"}], {\"title\": \"\\u5ef6\\u671f\\u4e2a\\u6027\\u5316\\u9879\\u76ee\\u6570&\\u5ef6\\u671f\\u5546\\u4e1a\\u9879\\u76ee\\u6570\\u6708\\u8d8b\\u52bf\\u56fe\", \"xaxis\": {\"mirror\": \"all\", \"nticks\": 20, \"showgrid\": true, \"showline\": true, \"title\": \"\\u6708\", \"zeroline\": true}, \"yaxis\": {\"mirror\": \"all\", \"nticks\": 20, \"showgrid\": true, \"showline\": true, \"title\": \"\\u5ef6\\u671f\\u4e2a\\u6027\\u5316\\u9879\\u76ee\\u6570&\\u5ef6\\u671f\\u5546\\u4e1a\\u9879\\u76ee\\u6570\", \"zeroline\": true}}, {\"showLink\": true, \"linkText\": \"Export to plot.ly\"})});</script>"
      ],
      "text/vnd.plotly.v1+html": [
       "<div id=\"4e8bdcfb-25cb-4c23-8671-51933e381aa5\" style=\"height: 525px; width: 100%;\" class=\"plotly-graph-div\"></div><script type=\"text/javascript\">require([\"plotly\"], function(Plotly) { window.PLOTLYENV=window.PLOTLYENV || {};window.PLOTLYENV.BASE_URL=\"https://plot.ly\";Plotly.newPlot(\"4e8bdcfb-25cb-4c23-8671-51933e381aa5\", [{\"name\": \"\\u5ef6\\u671f\\u4e2a\\u6027\\u5316\\u9879\\u76ee\\u6570\", \"x\": [9], \"y\": [4], \"type\": \"scatter\", \"uid\": \"67c5e154-d11a-11e8-8ddb-a41f72875c19\"}, {\"name\": \"\\u5ef6\\u671f\\u5546\\u4e1a\\u9879\\u76ee\\u6570\", \"x\": [9], \"y\": [2], \"type\": \"scatter\", \"uid\": \"67c5e155-d11a-11e8-8ddb-a41f72875c19\"}], {\"title\": \"\\u5ef6\\u671f\\u4e2a\\u6027\\u5316\\u9879\\u76ee\\u6570&\\u5ef6\\u671f\\u5546\\u4e1a\\u9879\\u76ee\\u6570\\u6708\\u8d8b\\u52bf\\u56fe\", \"xaxis\": {\"mirror\": \"all\", \"nticks\": 20, \"showgrid\": true, \"showline\": true, \"title\": \"\\u6708\", \"zeroline\": true}, \"yaxis\": {\"mirror\": \"all\", \"nticks\": 20, \"showgrid\": true, \"showline\": true, \"title\": \"\\u5ef6\\u671f\\u4e2a\\u6027\\u5316\\u9879\\u76ee\\u6570&\\u5ef6\\u671f\\u5546\\u4e1a\\u9879\\u76ee\\u6570\", \"zeroline\": true}}, {\"showLink\": true, \"linkText\": \"Export to plot.ly\"})});</script>"
      ]
     },
     "metadata": {},
     "output_type": "display_data"
    }
   ],
   "source": [
    "ss = myModule.format(all_df2 ,\"日期（格式“月-周次”）\" ,['延期商业项目数','延期个性化项目数' ])\n",
    "#ss.add_group('组别')\n",
    "#ss.get_average_by('人员')\n",
    "myModule.myPlot(ss.groupby('sum')).plot('line')\n",
    "ss = myModule.format(all_df2 ,\"month\" ,['延期商业项目数','延期个性化项目数' ])\n",
    "#ss.add_group('组别')\n",
    "#ss.get_average_by('人员')\n",
    "myModule.myPlot(ss.groupby('sum')).plot('line','月')"
   ]
  },
  {
   "cell_type": "markdown",
   "metadata": {},
   "source": [
    "### 项目执行延期率"
   ]
  },
  {
   "cell_type": "code",
   "execution_count": 135,
   "metadata": {
    "collapsed": false
   },
   "outputs": [
    {
     "ename": "AttributeError",
     "evalue": "module 'myModule' has no attribute 'plot'",
     "output_type": "error",
     "traceback": [
      "\u001b[0;31m---------------------------------------------------------------------------\u001b[0m",
      "\u001b[0;31mAttributeError\u001b[0m                            Traceback (most recent call last)",
      "\u001b[0;32m<ipython-input-135-44b8ee2efb04>\u001b[0m in \u001b[0;36m<module>\u001b[0;34m()\u001b[0m\n\u001b[1;32m      2\u001b[0m              \u001b[0;34m'个性化项目延期率'\u001b[0m\u001b[0;34m:\u001b[0m\u001b[0;34m[\u001b[0m\u001b[0;34m'延期个性化项目数'\u001b[0m\u001b[0;34m,\u001b[0m \u001b[0;34m'总个性化数'\u001b[0m\u001b[0;34m]\u001b[0m\u001b[0;34m,\u001b[0m\u001b[0;34m\u001b[0m\u001b[0m\n\u001b[1;32m      3\u001b[0m              '总延期率':['总延期项目数', '总项目数']}\n\u001b[0;32m----> 4\u001b[0;31m \u001b[0mmyModule\u001b[0m\u001b[0;34m.\u001b[0m\u001b[0mplot\u001b[0m\u001b[0;34m(\u001b[0m \u001b[0mall_dict\u001b[0m\u001b[0;34m,\u001b[0m \u001b[0mdata_dict\u001b[0m\u001b[0;34m,\u001b[0m \u001b[0;34m'人员'\u001b[0m \u001b[0;34m,\u001b[0m  \u001b[0;34m'line'\u001b[0m \u001b[0;34m,\u001b[0m \u001b[0mtotal\u001b[0m\u001b[0;34m=\u001b[0m\u001b[0;32mTrue\u001b[0m \u001b[0;34m,\u001b[0m\u001b[0mtime_list\u001b[0m \u001b[0;34m=\u001b[0m \u001b[0mtime_list\u001b[0m\u001b[0;34m)\u001b[0m\u001b[0;34m\u001b[0m\u001b[0m\n\u001b[0m\u001b[1;32m      5\u001b[0m \u001b[0mmyModule\u001b[0m\u001b[0;34m.\u001b[0m\u001b[0mplot\u001b[0m\u001b[0;34m(\u001b[0m \u001b[0mall_dict\u001b[0m\u001b[0;34m,\u001b[0m \u001b[0mdata_dict\u001b[0m\u001b[0;34m,\u001b[0m \u001b[0;34m'组别'\u001b[0m \u001b[0;34m,\u001b[0m  \u001b[0;34m'line'\u001b[0m \u001b[0;34m,\u001b[0m\u001b[0mtime_list\u001b[0m \u001b[0;34m=\u001b[0m \u001b[0mtime_list\u001b[0m\u001b[0;34m)\u001b[0m\u001b[0;34m\u001b[0m\u001b[0m\n",
      "\u001b[0;31mAttributeError\u001b[0m: module 'myModule' has no attribute 'plot'"
     ]
    }
   ],
   "source": [
    "data_dict = {'商业项目延期率':['延期商业项目数', '总商业项目数'], \n",
    "             '个性化项目延期率':['延期个性化项目数', '总个性化数'],\n",
    "             '总延期率':['总延期项目数', '总项目数']}\n",
    "myModule.plot( all_dict, data_dict, '人员' ,  'line' , total=True ,time_list = time_list)\n",
    "myModule.plot( all_dict, data_dict, '组别' ,  'line' ,time_list = time_list)"
   ]
  },
  {
   "cell_type": "markdown",
   "metadata": {},
   "source": [
    "## 项目过程执行情况"
   ]
  },
  {
   "cell_type": "markdown",
   "metadata": {},
   "source": [
    "### 反馈延期数"
   ]
  },
  {
   "cell_type": "code",
   "execution_count": 136,
   "metadata": {
    "collapsed": false
   },
   "outputs": [
    {
     "data": {
      "application/vnd.plotly.v1+json": {
       "data": [
        {
         "name": "24h内未完成数据反馈项目数",
         "type": "scatter",
         "uid": "75ce7034-d11a-11e8-8ddb-a41f72875c19",
         "x": [
          "9-1",
          "9-2",
          "9-3",
          "9-4"
         ],
         "y": [
          0,
          0,
          1,
          3
         ]
        }
       ],
       "layout": {
        "title": "24h内未完成数据反馈项目数周趋势图",
        "xaxis": {
         "mirror": "all",
         "nticks": 20,
         "showgrid": true,
         "showline": true,
         "title": "周",
         "zeroline": true
        },
        "yaxis": {
         "mirror": "all",
         "nticks": 20,
         "showgrid": true,
         "showline": true,
         "title": "24h内未完成数据反馈项目数",
         "zeroline": true
        }
       }
      },
      "text/html": [
       "<div id=\"caa1022d-ca17-433b-88b4-9e3035186d6b\" style=\"height: 525px; width: 100%;\" class=\"plotly-graph-div\"></div><script type=\"text/javascript\">require([\"plotly\"], function(Plotly) { window.PLOTLYENV=window.PLOTLYENV || {};window.PLOTLYENV.BASE_URL=\"https://plot.ly\";Plotly.newPlot(\"caa1022d-ca17-433b-88b4-9e3035186d6b\", [{\"name\": \"24h\\u5185\\u672a\\u5b8c\\u6210\\u6570\\u636e\\u53cd\\u9988\\u9879\\u76ee\\u6570\", \"x\": [\"9-1\", \"9-2\", \"9-3\", \"9-4\"], \"y\": [0, 0, 1, 3], \"type\": \"scatter\", \"uid\": \"75ce7034-d11a-11e8-8ddb-a41f72875c19\"}], {\"title\": \"24h\\u5185\\u672a\\u5b8c\\u6210\\u6570\\u636e\\u53cd\\u9988\\u9879\\u76ee\\u6570\\u5468\\u8d8b\\u52bf\\u56fe\", \"xaxis\": {\"mirror\": \"all\", \"nticks\": 20, \"showgrid\": true, \"showline\": true, \"title\": \"\\u5468\", \"zeroline\": true}, \"yaxis\": {\"mirror\": \"all\", \"nticks\": 20, \"showgrid\": true, \"showline\": true, \"title\": \"24h\\u5185\\u672a\\u5b8c\\u6210\\u6570\\u636e\\u53cd\\u9988\\u9879\\u76ee\\u6570\", \"zeroline\": true}}, {\"showLink\": true, \"linkText\": \"Export to plot.ly\"})});</script>"
      ],
      "text/vnd.plotly.v1+html": [
       "<div id=\"caa1022d-ca17-433b-88b4-9e3035186d6b\" style=\"height: 525px; width: 100%;\" class=\"plotly-graph-div\"></div><script type=\"text/javascript\">require([\"plotly\"], function(Plotly) { window.PLOTLYENV=window.PLOTLYENV || {};window.PLOTLYENV.BASE_URL=\"https://plot.ly\";Plotly.newPlot(\"caa1022d-ca17-433b-88b4-9e3035186d6b\", [{\"name\": \"24h\\u5185\\u672a\\u5b8c\\u6210\\u6570\\u636e\\u53cd\\u9988\\u9879\\u76ee\\u6570\", \"x\": [\"9-1\", \"9-2\", \"9-3\", \"9-4\"], \"y\": [0, 0, 1, 3], \"type\": \"scatter\", \"uid\": \"75ce7034-d11a-11e8-8ddb-a41f72875c19\"}], {\"title\": \"24h\\u5185\\u672a\\u5b8c\\u6210\\u6570\\u636e\\u53cd\\u9988\\u9879\\u76ee\\u6570\\u5468\\u8d8b\\u52bf\\u56fe\", \"xaxis\": {\"mirror\": \"all\", \"nticks\": 20, \"showgrid\": true, \"showline\": true, \"title\": \"\\u5468\", \"zeroline\": true}, \"yaxis\": {\"mirror\": \"all\", \"nticks\": 20, \"showgrid\": true, \"showline\": true, \"title\": \"24h\\u5185\\u672a\\u5b8c\\u6210\\u6570\\u636e\\u53cd\\u9988\\u9879\\u76ee\\u6570\", \"zeroline\": true}}, {\"showLink\": true, \"linkText\": \"Export to plot.ly\"})});</script>"
      ]
     },
     "metadata": {},
     "output_type": "display_data"
    },
    {
     "data": {
      "application/vnd.plotly.v1+json": {
       "data": [
        {
         "name": "24h内未完成数据反馈项目数",
         "type": "scatter",
         "uid": "75ce7035-d11a-11e8-8ddb-a41f72875c19",
         "x": [
          9
         ],
         "y": [
          4
         ]
        }
       ],
       "layout": {
        "title": "24h内未完成数据反馈项目数月趋势图",
        "xaxis": {
         "mirror": "all",
         "nticks": 20,
         "showgrid": true,
         "showline": true,
         "title": "月",
         "zeroline": true
        },
        "yaxis": {
         "mirror": "all",
         "nticks": 20,
         "showgrid": true,
         "showline": true,
         "title": "24h内未完成数据反馈项目数",
         "zeroline": true
        }
       }
      },
      "text/html": [
       "<div id=\"3600fa0d-eb45-4014-96c9-e80de38149c3\" style=\"height: 525px; width: 100%;\" class=\"plotly-graph-div\"></div><script type=\"text/javascript\">require([\"plotly\"], function(Plotly) { window.PLOTLYENV=window.PLOTLYENV || {};window.PLOTLYENV.BASE_URL=\"https://plot.ly\";Plotly.newPlot(\"3600fa0d-eb45-4014-96c9-e80de38149c3\", [{\"name\": \"24h\\u5185\\u672a\\u5b8c\\u6210\\u6570\\u636e\\u53cd\\u9988\\u9879\\u76ee\\u6570\", \"x\": [9], \"y\": [4], \"type\": \"scatter\", \"uid\": \"75ce7035-d11a-11e8-8ddb-a41f72875c19\"}], {\"title\": \"24h\\u5185\\u672a\\u5b8c\\u6210\\u6570\\u636e\\u53cd\\u9988\\u9879\\u76ee\\u6570\\u6708\\u8d8b\\u52bf\\u56fe\", \"xaxis\": {\"mirror\": \"all\", \"nticks\": 20, \"showgrid\": true, \"showline\": true, \"title\": \"\\u6708\", \"zeroline\": true}, \"yaxis\": {\"mirror\": \"all\", \"nticks\": 20, \"showgrid\": true, \"showline\": true, \"title\": \"24h\\u5185\\u672a\\u5b8c\\u6210\\u6570\\u636e\\u53cd\\u9988\\u9879\\u76ee\\u6570\", \"zeroline\": true}}, {\"showLink\": true, \"linkText\": \"Export to plot.ly\"})});</script>"
      ],
      "text/vnd.plotly.v1+html": [
       "<div id=\"3600fa0d-eb45-4014-96c9-e80de38149c3\" style=\"height: 525px; width: 100%;\" class=\"plotly-graph-div\"></div><script type=\"text/javascript\">require([\"plotly\"], function(Plotly) { window.PLOTLYENV=window.PLOTLYENV || {};window.PLOTLYENV.BASE_URL=\"https://plot.ly\";Plotly.newPlot(\"3600fa0d-eb45-4014-96c9-e80de38149c3\", [{\"name\": \"24h\\u5185\\u672a\\u5b8c\\u6210\\u6570\\u636e\\u53cd\\u9988\\u9879\\u76ee\\u6570\", \"x\": [9], \"y\": [4], \"type\": \"scatter\", \"uid\": \"75ce7035-d11a-11e8-8ddb-a41f72875c19\"}], {\"title\": \"24h\\u5185\\u672a\\u5b8c\\u6210\\u6570\\u636e\\u53cd\\u9988\\u9879\\u76ee\\u6570\\u6708\\u8d8b\\u52bf\\u56fe\", \"xaxis\": {\"mirror\": \"all\", \"nticks\": 20, \"showgrid\": true, \"showline\": true, \"title\": \"\\u6708\", \"zeroline\": true}, \"yaxis\": {\"mirror\": \"all\", \"nticks\": 20, \"showgrid\": true, \"showline\": true, \"title\": \"24h\\u5185\\u672a\\u5b8c\\u6210\\u6570\\u636e\\u53cd\\u9988\\u9879\\u76ee\\u6570\", \"zeroline\": true}}, {\"showLink\": true, \"linkText\": \"Export to plot.ly\"})});</script>"
      ]
     },
     "metadata": {},
     "output_type": "display_data"
    }
   ],
   "source": [
    "ss = myModule.format(all_df2 ,\"日期（格式“月-周次”）\" ,['24h内未完成数据反馈项目数' ])\n",
    "#ss.add_group('组别')\n",
    "#ss.get_average_by('人员')\n",
    "myModule.myPlot(ss.groupby('sum')).plot('line')\n",
    "ss = myModule.format(all_df2 ,\"month\" ,['24h内未完成数据反馈项目数' ])\n",
    "#ss.add_group('组别')\n",
    "#ss.get_average_by('人员')\n",
    "myModule.myPlot(ss.groupby('sum')).plot('line','月')"
   ]
  },
  {
   "cell_type": "markdown",
   "metadata": {},
   "source": [
    "### 反馈延期率"
   ]
  },
  {
   "cell_type": "code",
   "execution_count": 137,
   "metadata": {
    "collapsed": false
   },
   "outputs": [
    {
     "data": {
      "text/html": [
       "<div>\n",
       "<style scoped>\n",
       "    .dataframe tbody tr th:only-of-type {\n",
       "        vertical-align: middle;\n",
       "    }\n",
       "\n",
       "    .dataframe tbody tr th {\n",
       "        vertical-align: top;\n",
       "    }\n",
       "\n",
       "    .dataframe thead th {\n",
       "        text-align: right;\n",
       "    }\n",
       "</style>\n",
       "<table border=\"1\" class=\"dataframe\">\n",
       "  <thead>\n",
       "    <tr style=\"text-align: right;\">\n",
       "      <th></th>\n",
       "      <th>日期（格式“月-周次”）</th>\n",
       "      <th>24h内未完成数据反馈项目数</th>\n",
       "      <th>下机项目数</th>\n",
       "    </tr>\n",
       "  </thead>\n",
       "  <tbody>\n",
       "    <tr>\n",
       "      <th>0</th>\n",
       "      <td>9-3</td>\n",
       "      <td>0</td>\n",
       "      <td>4</td>\n",
       "    </tr>\n",
       "    <tr>\n",
       "      <th>1</th>\n",
       "      <td>9-3</td>\n",
       "      <td>0</td>\n",
       "      <td>1</td>\n",
       "    </tr>\n",
       "    <tr>\n",
       "      <th>2</th>\n",
       "      <td>9-3</td>\n",
       "      <td>0</td>\n",
       "      <td>5</td>\n",
       "    </tr>\n",
       "    <tr>\n",
       "      <th>3</th>\n",
       "      <td>9-3</td>\n",
       "      <td>0</td>\n",
       "      <td>4</td>\n",
       "    </tr>\n",
       "    <tr>\n",
       "      <th>4</th>\n",
       "      <td>9-3</td>\n",
       "      <td>0</td>\n",
       "      <td>1</td>\n",
       "    </tr>\n",
       "    <tr>\n",
       "      <th>5</th>\n",
       "      <td>9-3</td>\n",
       "      <td>0</td>\n",
       "      <td>3</td>\n",
       "    </tr>\n",
       "    <tr>\n",
       "      <th>6</th>\n",
       "      <td>9-3</td>\n",
       "      <td>0</td>\n",
       "      <td>0</td>\n",
       "    </tr>\n",
       "    <tr>\n",
       "      <th>7</th>\n",
       "      <td>9-3</td>\n",
       "      <td>0</td>\n",
       "      <td>0</td>\n",
       "    </tr>\n",
       "    <tr>\n",
       "      <th>8</th>\n",
       "      <td>9-3</td>\n",
       "      <td>0</td>\n",
       "      <td>0</td>\n",
       "    </tr>\n",
       "    <tr>\n",
       "      <th>9</th>\n",
       "      <td>9-3</td>\n",
       "      <td>0</td>\n",
       "      <td>5</td>\n",
       "    </tr>\n",
       "    <tr>\n",
       "      <th>10</th>\n",
       "      <td>9-3</td>\n",
       "      <td>0</td>\n",
       "      <td>0</td>\n",
       "    </tr>\n",
       "    <tr>\n",
       "      <th>11</th>\n",
       "      <td>9-3</td>\n",
       "      <td>0</td>\n",
       "      <td>0</td>\n",
       "    </tr>\n",
       "    <tr>\n",
       "      <th>12</th>\n",
       "      <td>9-3</td>\n",
       "      <td>1</td>\n",
       "      <td>3</td>\n",
       "    </tr>\n",
       "    <tr>\n",
       "      <th>13</th>\n",
       "      <td>9-3</td>\n",
       "      <td>0</td>\n",
       "      <td>1</td>\n",
       "    </tr>\n",
       "    <tr>\n",
       "      <th>14</th>\n",
       "      <td>9-3</td>\n",
       "      <td>0</td>\n",
       "      <td>1</td>\n",
       "    </tr>\n",
       "    <tr>\n",
       "      <th>15</th>\n",
       "      <td>9-3</td>\n",
       "      <td>0</td>\n",
       "      <td>4</td>\n",
       "    </tr>\n",
       "    <tr>\n",
       "      <th>16</th>\n",
       "      <td>9-3</td>\n",
       "      <td>0</td>\n",
       "      <td>0</td>\n",
       "    </tr>\n",
       "    <tr>\n",
       "      <th>17</th>\n",
       "      <td>9-3</td>\n",
       "      <td>0</td>\n",
       "      <td>0</td>\n",
       "    </tr>\n",
       "    <tr>\n",
       "      <th>0</th>\n",
       "      <td>9-2</td>\n",
       "      <td>0</td>\n",
       "      <td>4</td>\n",
       "    </tr>\n",
       "    <tr>\n",
       "      <th>1</th>\n",
       "      <td>9-2</td>\n",
       "      <td>0</td>\n",
       "      <td>3</td>\n",
       "    </tr>\n",
       "    <tr>\n",
       "      <th>2</th>\n",
       "      <td>9-2</td>\n",
       "      <td>0</td>\n",
       "      <td>3</td>\n",
       "    </tr>\n",
       "    <tr>\n",
       "      <th>3</th>\n",
       "      <td>9-2</td>\n",
       "      <td>0</td>\n",
       "      <td>2</td>\n",
       "    </tr>\n",
       "    <tr>\n",
       "      <th>4</th>\n",
       "      <td>9-2</td>\n",
       "      <td>0</td>\n",
       "      <td>0</td>\n",
       "    </tr>\n",
       "    <tr>\n",
       "      <th>5</th>\n",
       "      <td>9-2</td>\n",
       "      <td>0</td>\n",
       "      <td>2</td>\n",
       "    </tr>\n",
       "    <tr>\n",
       "      <th>6</th>\n",
       "      <td>9-2</td>\n",
       "      <td>0</td>\n",
       "      <td>1</td>\n",
       "    </tr>\n",
       "    <tr>\n",
       "      <th>7</th>\n",
       "      <td>9-2</td>\n",
       "      <td>0</td>\n",
       "      <td>0</td>\n",
       "    </tr>\n",
       "    <tr>\n",
       "      <th>8</th>\n",
       "      <td>9-2</td>\n",
       "      <td>0</td>\n",
       "      <td>0</td>\n",
       "    </tr>\n",
       "    <tr>\n",
       "      <th>9</th>\n",
       "      <td>9-2</td>\n",
       "      <td>0</td>\n",
       "      <td>3</td>\n",
       "    </tr>\n",
       "    <tr>\n",
       "      <th>10</th>\n",
       "      <td>9-2</td>\n",
       "      <td>0</td>\n",
       "      <td>0</td>\n",
       "    </tr>\n",
       "    <tr>\n",
       "      <th>11</th>\n",
       "      <td>9-2</td>\n",
       "      <td>0</td>\n",
       "      <td>4</td>\n",
       "    </tr>\n",
       "    <tr>\n",
       "      <th>...</th>\n",
       "      <td>...</td>\n",
       "      <td>...</td>\n",
       "      <td>...</td>\n",
       "    </tr>\n",
       "    <tr>\n",
       "      <th>6</th>\n",
       "      <td>9-4</td>\n",
       "      <td>0</td>\n",
       "      <td>0</td>\n",
       "    </tr>\n",
       "    <tr>\n",
       "      <th>7</th>\n",
       "      <td>9-4</td>\n",
       "      <td>0</td>\n",
       "      <td>0</td>\n",
       "    </tr>\n",
       "    <tr>\n",
       "      <th>8</th>\n",
       "      <td>9-4</td>\n",
       "      <td>0</td>\n",
       "      <td>0</td>\n",
       "    </tr>\n",
       "    <tr>\n",
       "      <th>9</th>\n",
       "      <td>9-4</td>\n",
       "      <td>0</td>\n",
       "      <td>4</td>\n",
       "    </tr>\n",
       "    <tr>\n",
       "      <th>10</th>\n",
       "      <td>9-4</td>\n",
       "      <td>0</td>\n",
       "      <td>1</td>\n",
       "    </tr>\n",
       "    <tr>\n",
       "      <th>11</th>\n",
       "      <td>9-4</td>\n",
       "      <td>0</td>\n",
       "      <td>1</td>\n",
       "    </tr>\n",
       "    <tr>\n",
       "      <th>12</th>\n",
       "      <td>9-4</td>\n",
       "      <td>0</td>\n",
       "      <td>3</td>\n",
       "    </tr>\n",
       "    <tr>\n",
       "      <th>13</th>\n",
       "      <td>9-4</td>\n",
       "      <td>0</td>\n",
       "      <td>2</td>\n",
       "    </tr>\n",
       "    <tr>\n",
       "      <th>14</th>\n",
       "      <td>9-4</td>\n",
       "      <td>0</td>\n",
       "      <td>3</td>\n",
       "    </tr>\n",
       "    <tr>\n",
       "      <th>15</th>\n",
       "      <td>9-4</td>\n",
       "      <td>0</td>\n",
       "      <td>2</td>\n",
       "    </tr>\n",
       "    <tr>\n",
       "      <th>16</th>\n",
       "      <td>9-4</td>\n",
       "      <td>0</td>\n",
       "      <td>0</td>\n",
       "    </tr>\n",
       "    <tr>\n",
       "      <th>17</th>\n",
       "      <td>9-4</td>\n",
       "      <td>1</td>\n",
       "      <td>1</td>\n",
       "    </tr>\n",
       "    <tr>\n",
       "      <th>0</th>\n",
       "      <td>9-1</td>\n",
       "      <td>0</td>\n",
       "      <td>7</td>\n",
       "    </tr>\n",
       "    <tr>\n",
       "      <th>1</th>\n",
       "      <td>9-1</td>\n",
       "      <td>0</td>\n",
       "      <td>5</td>\n",
       "    </tr>\n",
       "    <tr>\n",
       "      <th>2</th>\n",
       "      <td>9-1</td>\n",
       "      <td>0</td>\n",
       "      <td>3</td>\n",
       "    </tr>\n",
       "    <tr>\n",
       "      <th>3</th>\n",
       "      <td>9-1</td>\n",
       "      <td>0</td>\n",
       "      <td>5</td>\n",
       "    </tr>\n",
       "    <tr>\n",
       "      <th>4</th>\n",
       "      <td>9-1</td>\n",
       "      <td>0</td>\n",
       "      <td>0</td>\n",
       "    </tr>\n",
       "    <tr>\n",
       "      <th>5</th>\n",
       "      <td>9-1</td>\n",
       "      <td>0</td>\n",
       "      <td>5</td>\n",
       "    </tr>\n",
       "    <tr>\n",
       "      <th>6</th>\n",
       "      <td>9-1</td>\n",
       "      <td>0</td>\n",
       "      <td>1</td>\n",
       "    </tr>\n",
       "    <tr>\n",
       "      <th>7</th>\n",
       "      <td>9-1</td>\n",
       "      <td>0</td>\n",
       "      <td>0</td>\n",
       "    </tr>\n",
       "    <tr>\n",
       "      <th>8</th>\n",
       "      <td>9-1</td>\n",
       "      <td>0</td>\n",
       "      <td>0</td>\n",
       "    </tr>\n",
       "    <tr>\n",
       "      <th>9</th>\n",
       "      <td>9-1</td>\n",
       "      <td>0</td>\n",
       "      <td>3</td>\n",
       "    </tr>\n",
       "    <tr>\n",
       "      <th>10</th>\n",
       "      <td>9-1</td>\n",
       "      <td>0</td>\n",
       "      <td>1</td>\n",
       "    </tr>\n",
       "    <tr>\n",
       "      <th>11</th>\n",
       "      <td>9-1</td>\n",
       "      <td>0</td>\n",
       "      <td>4</td>\n",
       "    </tr>\n",
       "    <tr>\n",
       "      <th>12</th>\n",
       "      <td>9-1</td>\n",
       "      <td>0</td>\n",
       "      <td>5</td>\n",
       "    </tr>\n",
       "    <tr>\n",
       "      <th>13</th>\n",
       "      <td>9-1</td>\n",
       "      <td>0</td>\n",
       "      <td>0</td>\n",
       "    </tr>\n",
       "    <tr>\n",
       "      <th>14</th>\n",
       "      <td>9-1</td>\n",
       "      <td>0</td>\n",
       "      <td>8</td>\n",
       "    </tr>\n",
       "    <tr>\n",
       "      <th>15</th>\n",
       "      <td>9-1</td>\n",
       "      <td>0</td>\n",
       "      <td>8</td>\n",
       "    </tr>\n",
       "    <tr>\n",
       "      <th>16</th>\n",
       "      <td>9-1</td>\n",
       "      <td>0</td>\n",
       "      <td>0</td>\n",
       "    </tr>\n",
       "    <tr>\n",
       "      <th>17</th>\n",
       "      <td>9-1</td>\n",
       "      <td>0</td>\n",
       "      <td>0</td>\n",
       "    </tr>\n",
       "  </tbody>\n",
       "</table>\n",
       "<p>72 rows × 3 columns</p>\n",
       "</div>"
      ],
      "text/plain": [
       "   日期（格式“月-周次”）  24h内未完成数据反馈项目数  下机项目数\n",
       "0           9-3               0      4\n",
       "1           9-3               0      1\n",
       "2           9-3               0      5\n",
       "3           9-3               0      4\n",
       "4           9-3               0      1\n",
       "5           9-3               0      3\n",
       "6           9-3               0      0\n",
       "7           9-3               0      0\n",
       "8           9-3               0      0\n",
       "9           9-3               0      5\n",
       "10          9-3               0      0\n",
       "11          9-3               0      0\n",
       "12          9-3               1      3\n",
       "13          9-3               0      1\n",
       "14          9-3               0      1\n",
       "15          9-3               0      4\n",
       "16          9-3               0      0\n",
       "17          9-3               0      0\n",
       "0           9-2               0      4\n",
       "1           9-2               0      3\n",
       "2           9-2               0      3\n",
       "3           9-2               0      2\n",
       "4           9-2               0      0\n",
       "5           9-2               0      2\n",
       "6           9-2               0      1\n",
       "7           9-2               0      0\n",
       "8           9-2               0      0\n",
       "9           9-2               0      3\n",
       "10          9-2               0      0\n",
       "11          9-2               0      4\n",
       "..          ...             ...    ...\n",
       "6           9-4               0      0\n",
       "7           9-4               0      0\n",
       "8           9-4               0      0\n",
       "9           9-4               0      4\n",
       "10          9-4               0      1\n",
       "11          9-4               0      1\n",
       "12          9-4               0      3\n",
       "13          9-4               0      2\n",
       "14          9-4               0      3\n",
       "15          9-4               0      2\n",
       "16          9-4               0      0\n",
       "17          9-4               1      1\n",
       "0           9-1               0      7\n",
       "1           9-1               0      5\n",
       "2           9-1               0      3\n",
       "3           9-1               0      5\n",
       "4           9-1               0      0\n",
       "5           9-1               0      5\n",
       "6           9-1               0      1\n",
       "7           9-1               0      0\n",
       "8           9-1               0      0\n",
       "9           9-1               0      3\n",
       "10          9-1               0      1\n",
       "11          9-1               0      4\n",
       "12          9-1               0      5\n",
       "13          9-1               0      0\n",
       "14          9-1               0      8\n",
       "15          9-1               0      8\n",
       "16          9-1               0      0\n",
       "17          9-1               0      0\n",
       "\n",
       "[72 rows x 3 columns]"
      ]
     },
     "execution_count": 137,
     "metadata": {},
     "output_type": "execute_result"
    }
   ],
   "source": [
    "ss = myModule.format(all_df2 ,\"日期（格式“月-周次”）\",['24h内未完成数据反馈项目数','下机项目数'])\n",
    "ss.df\n",
    "#tt = ss.get_total_ratio([['反馈延期率' ,'24h内未完成数据反馈项目数' , '下机项目数','/']] )\n",
    "#myModule.myPlot(tt).plot('line')\n",
    "#ss.add_group('组别')\n",
    "#ss.get_average_by('人员')\n",
    "#myModule.myPlot(ss.groupby('sum')).plot('line')\n",
    "#ss = myModule.format(all_df2 ,\"month\" ,['24h内未完成数据反馈项目数' ])\n",
    "#ss.add_group('组别')\n",
    "#ss.get_average_by('人员')\n",
    "#myModule.myPlot(ss.groupby('sum')).plot('line','月')"
   ]
  },
  {
   "cell_type": "markdown",
   "metadata": {},
   "source": [
    "## 交付延期率"
   ]
  },
  {
   "cell_type": "markdown",
   "metadata": {},
   "source": [
    "### 分析组交付延期率"
   ]
  },
  {
   "cell_type": "code",
   "execution_count": 138,
   "metadata": {
    "collapsed": false
   },
   "outputs": [
    {
     "data": {
      "application/vnd.plotly.v1+json": {
       "data": [
        {
         "name": "各组交付延期率",
         "type": "scatter",
         "uid": "7b991a32-d11a-11e8-8ddb-a41f72875c19",
         "x": [
          "9-1",
          "9-2",
          "9-3",
          "9-4"
         ],
         "y": [
          0,
          0,
          0,
          0
         ]
        }
       ],
       "layout": {
        "title": "各组交付延期率周趋势图",
        "xaxis": {
         "mirror": "all",
         "nticks": 20,
         "showgrid": true,
         "showline": true,
         "title": "周",
         "zeroline": true
        },
        "yaxis": {
         "mirror": "all",
         "nticks": 20,
         "showgrid": true,
         "showline": true,
         "title": "各组交付延期率",
         "zeroline": true
        }
       }
      },
      "text/html": [
       "<div id=\"a2721df1-df37-4eca-8b66-d423a2e91c56\" style=\"height: 525px; width: 100%;\" class=\"plotly-graph-div\"></div><script type=\"text/javascript\">require([\"plotly\"], function(Plotly) { window.PLOTLYENV=window.PLOTLYENV || {};window.PLOTLYENV.BASE_URL=\"https://plot.ly\";Plotly.newPlot(\"a2721df1-df37-4eca-8b66-d423a2e91c56\", [{\"name\": \"\\u5404\\u7ec4\\u4ea4\\u4ed8\\u5ef6\\u671f\\u7387\", \"x\": [\"9-1\", \"9-2\", \"9-3\", \"9-4\"], \"y\": [0.0, 0.0, 0.0, 0.0], \"type\": \"scatter\", \"uid\": \"7b991a32-d11a-11e8-8ddb-a41f72875c19\"}], {\"title\": \"\\u5404\\u7ec4\\u4ea4\\u4ed8\\u5ef6\\u671f\\u7387\\u5468\\u8d8b\\u52bf\\u56fe\", \"xaxis\": {\"mirror\": \"all\", \"nticks\": 20, \"showgrid\": true, \"showline\": true, \"title\": \"\\u5468\", \"zeroline\": true}, \"yaxis\": {\"mirror\": \"all\", \"nticks\": 20, \"showgrid\": true, \"showline\": true, \"title\": \"\\u5404\\u7ec4\\u4ea4\\u4ed8\\u5ef6\\u671f\\u7387\", \"zeroline\": true}}, {\"showLink\": true, \"linkText\": \"Export to plot.ly\"})});</script>"
      ],
      "text/vnd.plotly.v1+html": [
       "<div id=\"a2721df1-df37-4eca-8b66-d423a2e91c56\" style=\"height: 525px; width: 100%;\" class=\"plotly-graph-div\"></div><script type=\"text/javascript\">require([\"plotly\"], function(Plotly) { window.PLOTLYENV=window.PLOTLYENV || {};window.PLOTLYENV.BASE_URL=\"https://plot.ly\";Plotly.newPlot(\"a2721df1-df37-4eca-8b66-d423a2e91c56\", [{\"name\": \"\\u5404\\u7ec4\\u4ea4\\u4ed8\\u5ef6\\u671f\\u7387\", \"x\": [\"9-1\", \"9-2\", \"9-3\", \"9-4\"], \"y\": [0.0, 0.0, 0.0, 0.0], \"type\": \"scatter\", \"uid\": \"7b991a32-d11a-11e8-8ddb-a41f72875c19\"}], {\"title\": \"\\u5404\\u7ec4\\u4ea4\\u4ed8\\u5ef6\\u671f\\u7387\\u5468\\u8d8b\\u52bf\\u56fe\", \"xaxis\": {\"mirror\": \"all\", \"nticks\": 20, \"showgrid\": true, \"showline\": true, \"title\": \"\\u5468\", \"zeroline\": true}, \"yaxis\": {\"mirror\": \"all\", \"nticks\": 20, \"showgrid\": true, \"showline\": true, \"title\": \"\\u5404\\u7ec4\\u4ea4\\u4ed8\\u5ef6\\u671f\\u7387\", \"zeroline\": true}}, {\"showLink\": true, \"linkText\": \"Export to plot.ly\"})});</script>"
      ]
     },
     "metadata": {},
     "output_type": "display_data"
    }
   ],
   "source": [
    "ss = myModule.format(all_df2 ,\"日期（格式“月-周次”）\" ,['24h内未完成数据交付项目数','待交付项目数' ])\n",
    "#ss.add_group('组别')\n",
    "#ss.get_average_by('人员')\n",
    "tt = ss.get_total_ratio([['各组交付延期率' ,'24h内未完成数据交付项目数','待交付项目数','/']] )\n",
    "myModule.myPlot(tt).plot('line')"
   ]
  },
  {
   "cell_type": "markdown",
   "metadata": {},
   "source": [
    "### 各组交付延期率"
   ]
  },
  {
   "cell_type": "code",
   "execution_count": 139,
   "metadata": {
    "collapsed": false
   },
   "outputs": [
    {
     "data": {
      "application/vnd.plotly.v1+json": {
       "data": [
        {
         "line": {
          "dash": "solid"
         },
         "name": "各组交付延期率(分析一组)",
         "type": "scatter",
         "uid": "7e442c0e-d11a-11e8-8ddb-a41f72875c19",
         "x": [
          "9-1",
          "9-2",
          "9-3",
          "9-4"
         ],
         "y": [
          0,
          0,
          0,
          0
         ]
        },
        {
         "line": {
          "dash": "dot"
         },
         "name": "各组交付延期率(分析二组)",
         "type": "scatter",
         "uid": "7e442c0f-d11a-11e8-8ddb-a41f72875c19",
         "x": [
          "9-1",
          "9-2",
          "9-3",
          "9-4"
         ],
         "y": [
          0,
          0,
          0,
          0
         ]
        },
        {
         "line": {
          "dash": "dash"
         },
         "name": "各组交付延期率(个性化组)",
         "type": "scatter",
         "uid": "7e442c10-d11a-11e8-8ddb-a41f72875c19",
         "x": [
          "9-1",
          "9-2",
          "9-3",
          "9-4"
         ],
         "y": [
          0,
          null,
          0,
          null
         ]
        }
       ],
       "layout": {
        "title": "各组交付延期率周趋势图",
        "xaxis": {
         "mirror": "all",
         "nticks": 20,
         "showgrid": true,
         "showline": true,
         "title": "周",
         "zeroline": true
        },
        "yaxis": {
         "mirror": "all",
         "nticks": 20,
         "showgrid": true,
         "showline": true,
         "title": "各组交付延期率",
         "zeroline": true
        }
       }
      },
      "text/html": [
       "<div id=\"a19bffe0-1d83-44c1-a04a-9c10ad0bb760\" style=\"height: 525px; width: 100%;\" class=\"plotly-graph-div\"></div><script type=\"text/javascript\">require([\"plotly\"], function(Plotly) { window.PLOTLYENV=window.PLOTLYENV || {};window.PLOTLYENV.BASE_URL=\"https://plot.ly\";Plotly.newPlot(\"a19bffe0-1d83-44c1-a04a-9c10ad0bb760\", [{\"line\": {\"dash\": \"solid\"}, \"name\": \"\\u5404\\u7ec4\\u4ea4\\u4ed8\\u5ef6\\u671f\\u7387(\\u5206\\u6790\\u4e00\\u7ec4)\", \"x\": [\"9-1\", \"9-2\", \"9-3\", \"9-4\"], \"y\": [0.0, 0.0, 0.0, 0.0], \"type\": \"scatter\", \"uid\": \"7e442c0e-d11a-11e8-8ddb-a41f72875c19\"}, {\"line\": {\"dash\": \"dot\"}, \"name\": \"\\u5404\\u7ec4\\u4ea4\\u4ed8\\u5ef6\\u671f\\u7387(\\u5206\\u6790\\u4e8c\\u7ec4)\", \"x\": [\"9-1\", \"9-2\", \"9-3\", \"9-4\"], \"y\": [0.0, 0.0, 0.0, 0.0], \"type\": \"scatter\", \"uid\": \"7e442c0f-d11a-11e8-8ddb-a41f72875c19\"}, {\"line\": {\"dash\": \"dash\"}, \"name\": \"\\u5404\\u7ec4\\u4ea4\\u4ed8\\u5ef6\\u671f\\u7387(\\u4e2a\\u6027\\u5316\\u7ec4)\", \"x\": [\"9-1\", \"9-2\", \"9-3\", \"9-4\"], \"y\": [0.0, null, 0.0, null], \"type\": \"scatter\", \"uid\": \"7e442c10-d11a-11e8-8ddb-a41f72875c19\"}], {\"title\": \"\\u5404\\u7ec4\\u4ea4\\u4ed8\\u5ef6\\u671f\\u7387\\u5468\\u8d8b\\u52bf\\u56fe\", \"xaxis\": {\"mirror\": \"all\", \"nticks\": 20, \"showgrid\": true, \"showline\": true, \"title\": \"\\u5468\", \"zeroline\": true}, \"yaxis\": {\"mirror\": \"all\", \"nticks\": 20, \"showgrid\": true, \"showline\": true, \"title\": \"\\u5404\\u7ec4\\u4ea4\\u4ed8\\u5ef6\\u671f\\u7387\", \"zeroline\": true}}, {\"showLink\": true, \"linkText\": \"Export to plot.ly\"})});</script>"
      ],
      "text/vnd.plotly.v1+html": [
       "<div id=\"a19bffe0-1d83-44c1-a04a-9c10ad0bb760\" style=\"height: 525px; width: 100%;\" class=\"plotly-graph-div\"></div><script type=\"text/javascript\">require([\"plotly\"], function(Plotly) { window.PLOTLYENV=window.PLOTLYENV || {};window.PLOTLYENV.BASE_URL=\"https://plot.ly\";Plotly.newPlot(\"a19bffe0-1d83-44c1-a04a-9c10ad0bb760\", [{\"line\": {\"dash\": \"solid\"}, \"name\": \"\\u5404\\u7ec4\\u4ea4\\u4ed8\\u5ef6\\u671f\\u7387(\\u5206\\u6790\\u4e00\\u7ec4)\", \"x\": [\"9-1\", \"9-2\", \"9-3\", \"9-4\"], \"y\": [0.0, 0.0, 0.0, 0.0], \"type\": \"scatter\", \"uid\": \"7e442c0e-d11a-11e8-8ddb-a41f72875c19\"}, {\"line\": {\"dash\": \"dot\"}, \"name\": \"\\u5404\\u7ec4\\u4ea4\\u4ed8\\u5ef6\\u671f\\u7387(\\u5206\\u6790\\u4e8c\\u7ec4)\", \"x\": [\"9-1\", \"9-2\", \"9-3\", \"9-4\"], \"y\": [0.0, 0.0, 0.0, 0.0], \"type\": \"scatter\", \"uid\": \"7e442c0f-d11a-11e8-8ddb-a41f72875c19\"}, {\"line\": {\"dash\": \"dash\"}, \"name\": \"\\u5404\\u7ec4\\u4ea4\\u4ed8\\u5ef6\\u671f\\u7387(\\u4e2a\\u6027\\u5316\\u7ec4)\", \"x\": [\"9-1\", \"9-2\", \"9-3\", \"9-4\"], \"y\": [0.0, null, 0.0, null], \"type\": \"scatter\", \"uid\": \"7e442c10-d11a-11e8-8ddb-a41f72875c19\"}], {\"title\": \"\\u5404\\u7ec4\\u4ea4\\u4ed8\\u5ef6\\u671f\\u7387\\u5468\\u8d8b\\u52bf\\u56fe\", \"xaxis\": {\"mirror\": \"all\", \"nticks\": 20, \"showgrid\": true, \"showline\": true, \"title\": \"\\u5468\", \"zeroline\": true}, \"yaxis\": {\"mirror\": \"all\", \"nticks\": 20, \"showgrid\": true, \"showline\": true, \"title\": \"\\u5404\\u7ec4\\u4ea4\\u4ed8\\u5ef6\\u671f\\u7387\", \"zeroline\": true}}, {\"showLink\": true, \"linkText\": \"Export to plot.ly\"})});</script>"
      ]
     },
     "metadata": {},
     "output_type": "display_data"
    }
   ],
   "source": [
    "ss = myModule.format(all_df2 ,\"日期（格式“月-周次”）\" ,['24h内未完成数据交付项目数','待交付项目数' ])\n",
    "ss.add_group('组别')\n",
    "#ss.get_average_by('人员')\n",
    "tt = ss.get_total_ratio([['各组交付延期率' ,'24h内未完成数据交付项目数','待交付项目数','/']] )\n",
    "myModule.myPlot(tt).plot('line')"
   ]
  },
  {
   "cell_type": "code",
   "execution_count": null,
   "metadata": {
    "collapsed": true
   },
   "outputs": [],
   "source": []
  }
 ],
 "metadata": {
  "hide_input": false,
  "kernelspec": {
   "display_name": "Python 3",
   "language": "python",
   "name": "python3"
  },
  "language_info": {
   "codemirror_mode": {
    "name": "ipython",
    "version": 3
   },
   "file_extension": ".py",
   "mimetype": "text/x-python",
   "name": "python",
   "nbconvert_exporter": "python",
   "pygments_lexer": "ipython3",
   "version": "3.6.0"
  },
  "toc": {
   "base_numbering": 1,
   "nav_menu": {
    "height": "247px",
    "width": "215px"
   },
   "number_sections": true,
   "sideBar": true,
   "skip_h1_title": false,
   "title_cell": "Table of Contents",
   "title_sidebar": "Contents",
   "toc_cell": false,
   "toc_position": {
    "height": "calc(100% - 180px)",
    "left": "10px",
    "top": "150px",
    "width": "245px"
   },
   "toc_section_display": true,
   "toc_window_display": true
  }
 },
 "nbformat": 4,
 "nbformat_minor": 2
}
