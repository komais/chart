{
 "cells": [
  {
   "cell_type": "code",
   "execution_count": null,
   "metadata": {},
   "outputs": [],
   "source": [
    "%load_ext autoreload\n",
    "%autoreload 2"
   ]
  },
  {
   "cell_type": "code",
   "execution_count": 1,
   "metadata": {
    "hide_input": false,
    "scrolled": true
   },
   "outputs": [
    {
     "name": "stderr",
     "output_type": "stream",
     "text": [
      "/usr/lib/python3.6/importlib/_bootstrap.py:219: RuntimeWarning: numpy.dtype size changed, may indicate binary incompatibility. Expected 96, got 88\n",
      "  return f(*args, **kwds)\n",
      "/usr/lib/python3.6/importlib/_bootstrap.py:219: RuntimeWarning: numpy.dtype size changed, may indicate binary incompatibility. Expected 96, got 88\n",
      "  return f(*args, **kwds)\n"
     ]
    },
    {
     "data": {
      "text/html": [
       "<script>requirejs.config({paths: { 'plotly': ['https://cdn.plot.ly/plotly-latest.min']},});if(!window.Plotly) {{require(['plotly'],function(plotly) {window.Plotly=plotly;});}}</script>"
      ],
      "text/vnd.plotly.v1+html": [
       "<script>requirejs.config({paths: { 'plotly': ['https://cdn.plot.ly/plotly-latest.min']},});if(!window.Plotly) {{require(['plotly'],function(plotly) {window.Plotly=plotly;});}}</script>"
      ]
     },
     "metadata": {},
     "output_type": "display_data"
    }
   ],
   "source": [
    "import sys\n",
    "sys.path.append('./')\n",
    "import myModule\n",
    "import pandas as pd "
   ]
  },
  {
   "cell_type": "code",
   "execution_count": 2,
   "metadata": {},
   "outputs": [
    {
     "data": {
      "text/html": [
       "<script>requirejs.config({paths: { 'plotly': ['https://cdn.plot.ly/plotly-latest.min']},});if(!window.Plotly) {{require(['plotly'],function(plotly) {window.Plotly=plotly;});}}</script>"
      ],
      "text/vnd.plotly.v1+html": [
       "<script>requirejs.config({paths: { 'plotly': ['https://cdn.plot.ly/plotly-latest.min']},});if(!window.Plotly) {{require(['plotly'],function(plotly) {window.Plotly=plotly;});}}</script>"
      ]
     },
     "metadata": {},
     "output_type": "display_data"
    },
    {
     "data": {
      "text/plain": [
       "<module 'myModule' from '/mnt/e/jupyter/bin/chart/myModule.py'>"
      ]
     },
     "execution_count": 2,
     "metadata": {},
     "output_type": "execute_result"
    }
   ],
   "source": [
    "import imp\n",
    "imp.reload(myModule)"
   ]
  },
  {
   "cell_type": "code",
   "execution_count": 3,
   "metadata": {},
   "outputs": [],
   "source": [
    "pathway = \"/mnt/e/jupyter/data/YW/\""
   ]
  },
  {
   "cell_type": "markdown",
   "metadata": {},
   "source": [
    "# 芯片质控情况\n",
    "* 对二代芯片质控情况进行汇总分析"
   ]
  },
  {
   "cell_type": "code",
   "execution_count": 4,
   "metadata": {
    "scrolled": false
   },
   "outputs": [],
   "source": [
    "all_files , title = myModule.get_title(pathway,1 )##给路径\n",
    "all_dict = myModule.read_xlsx(all_files, 1 ) ## read all files"
   ]
  },
  {
   "cell_type": "markdown",
   "metadata": {},
   "source": [
    "## 产能"
   ]
  },
  {
   "cell_type": "markdown",
   "metadata": {},
   "source": [
    "### 芯片总数和不通过芯片数"
   ]
  },
  {
   "cell_type": "code",
   "execution_count": 5,
   "metadata": {
    "scrolled": false
   },
   "outputs": [
    {
     "data": {
      "application/vnd.plotly.v1+json": {
       "data": [
        {
         "name": "芯片总数",
         "type": "scatter",
         "uid": "d0d466c2-c18f-11e8-b108-a81e84e6c740",
         "x": [
          "8-1",
          "8-2",
          "8-3",
          "8-4",
          "8-5",
          "9-1",
          "9-2"
         ],
         "y": [
          0,
          0,
          0,
          0,
          3,
          2,
          2
         ]
        },
        {
         "name": "不通过芯片数",
         "type": "scatter",
         "uid": "d0d470f4-c18f-11e8-b108-a81e84e6c740",
         "x": [
          "8-1",
          "8-2",
          "8-3",
          "8-4",
          "8-5",
          "9-1",
          "9-2"
         ],
         "y": [
          0,
          0,
          0,
          0,
          0,
          0,
          0
         ]
        }
       ],
       "layout": {
        "title": "芯片总数&不通过芯片数周趋势图",
        "xaxis": {
         "mirror": "all",
         "nticks": 20,
         "showgrid": true,
         "showline": true,
         "title": "周",
         "zeroline": true
        },
        "yaxis": {
         "mirror": "all",
         "nticks": 20,
         "showgrid": true,
         "showline": true,
         "title": "芯片总数&不通过芯片数",
         "zeroline": true
        }
       }
      },
      "text/html": [
       "<div id=\"4bcc3d9d-4974-4455-a6f8-ddd500b70dad\" style=\"height: 525px; width: 100%;\" class=\"plotly-graph-div\"></div><script type=\"text/javascript\">require([\"plotly\"], function(Plotly) { window.PLOTLYENV=window.PLOTLYENV || {};window.PLOTLYENV.BASE_URL=\"https://plot.ly\";\n",
       "        Plotly.plot(\n",
       "            '4bcc3d9d-4974-4455-a6f8-ddd500b70dad',\n",
       "            [{\"name\": \"\\u82af\\u7247\\u603b\\u6570\", \"x\": [\"8-1\", \"8-2\", \"8-3\", \"8-4\", \"8-5\", \"9-1\", \"9-2\"], \"y\": [0.0, 0.0, 0.0, 0.0, 3.0, 2.0, 2.0], \"type\": \"scatter\", \"uid\": \"d0d466c2-c18f-11e8-b108-a81e84e6c740\"}, {\"name\": \"\\u4e0d\\u901a\\u8fc7\\u82af\\u7247\\u6570\", \"x\": [\"8-1\", \"8-2\", \"8-3\", \"8-4\", \"8-5\", \"9-1\", \"9-2\"], \"y\": [0.0, 0.0, 0.0, 0.0, 0.0, 0.0, 0.0], \"type\": \"scatter\", \"uid\": \"d0d470f4-c18f-11e8-b108-a81e84e6c740\"}],\n",
       "            {\"title\": \"\\u82af\\u7247\\u603b\\u6570&\\u4e0d\\u901a\\u8fc7\\u82af\\u7247\\u6570\\u5468\\u8d8b\\u52bf\\u56fe\", \"xaxis\": {\"mirror\": \"all\", \"nticks\": 20, \"showgrid\": true, \"showline\": true, \"title\": \"\\u5468\", \"zeroline\": true}, \"yaxis\": {\"mirror\": \"all\", \"nticks\": 20, \"showgrid\": true, \"showline\": true, \"title\": \"\\u82af\\u7247\\u603b\\u6570&\\u4e0d\\u901a\\u8fc7\\u82af\\u7247\\u6570\", \"zeroline\": true}},\n",
       "            {\"showLink\": true, \"linkText\": \"Export to plot.ly\"}\n",
       "        ).then(function () {return Plotly.addFrames('4bcc3d9d-4974-4455-a6f8-ddd500b70dad',{});}).then(function(){Plotly.animate('4bcc3d9d-4974-4455-a6f8-ddd500b70dad');})\n",
       "        });</script>"
      ],
      "text/vnd.plotly.v1+html": [
       "<div id=\"4bcc3d9d-4974-4455-a6f8-ddd500b70dad\" style=\"height: 525px; width: 100%;\" class=\"plotly-graph-div\"></div><script type=\"text/javascript\">require([\"plotly\"], function(Plotly) { window.PLOTLYENV=window.PLOTLYENV || {};window.PLOTLYENV.BASE_URL=\"https://plot.ly\";\n",
       "        Plotly.plot(\n",
       "            '4bcc3d9d-4974-4455-a6f8-ddd500b70dad',\n",
       "            [{\"name\": \"\\u82af\\u7247\\u603b\\u6570\", \"x\": [\"8-1\", \"8-2\", \"8-3\", \"8-4\", \"8-5\", \"9-1\", \"9-2\"], \"y\": [0.0, 0.0, 0.0, 0.0, 3.0, 2.0, 2.0], \"type\": \"scatter\", \"uid\": \"d0d466c2-c18f-11e8-b108-a81e84e6c740\"}, {\"name\": \"\\u4e0d\\u901a\\u8fc7\\u82af\\u7247\\u6570\", \"x\": [\"8-1\", \"8-2\", \"8-3\", \"8-4\", \"8-5\", \"9-1\", \"9-2\"], \"y\": [0.0, 0.0, 0.0, 0.0, 0.0, 0.0, 0.0], \"type\": \"scatter\", \"uid\": \"d0d470f4-c18f-11e8-b108-a81e84e6c740\"}],\n",
       "            {\"title\": \"\\u82af\\u7247\\u603b\\u6570&\\u4e0d\\u901a\\u8fc7\\u82af\\u7247\\u6570\\u5468\\u8d8b\\u52bf\\u56fe\", \"xaxis\": {\"mirror\": \"all\", \"nticks\": 20, \"showgrid\": true, \"showline\": true, \"title\": \"\\u5468\", \"zeroline\": true}, \"yaxis\": {\"mirror\": \"all\", \"nticks\": 20, \"showgrid\": true, \"showline\": true, \"title\": \"\\u82af\\u7247\\u603b\\u6570&\\u4e0d\\u901a\\u8fc7\\u82af\\u7247\\u6570\", \"zeroline\": true}},\n",
       "            {\"showLink\": true, \"linkText\": \"Export to plot.ly\"}\n",
       "        ).then(function () {return Plotly.addFrames('4bcc3d9d-4974-4455-a6f8-ddd500b70dad',{});}).then(function(){Plotly.animate('4bcc3d9d-4974-4455-a6f8-ddd500b70dad');})\n",
       "        });</script>"
      ]
     },
     "metadata": {},
     "output_type": "display_data"
    },
    {
     "data": {
      "application/vnd.plotly.v1+json": {
       "data": [
        {
         "name": "芯片总数",
         "type": "scatter",
         "uid": "d0e10e90-c18f-11e8-b108-a81e84e6c740",
         "x": [
          "8",
          "9"
         ],
         "y": [
          3,
          4
         ]
        },
        {
         "name": "不通过芯片数",
         "type": "scatter",
         "uid": "d0e11250-c18f-11e8-b108-a81e84e6c740",
         "x": [
          "8",
          "9"
         ],
         "y": [
          0,
          0
         ]
        }
       ],
       "layout": {
        "title": "芯片总数&不通过芯片数月趋势图",
        "xaxis": {
         "mirror": "all",
         "nticks": 20,
         "showgrid": true,
         "showline": true,
         "title": "月",
         "zeroline": true
        },
        "yaxis": {
         "mirror": "all",
         "nticks": 20,
         "showgrid": true,
         "showline": true,
         "title": "芯片总数&不通过芯片数",
         "zeroline": true
        }
       }
      },
      "text/html": [
       "<div id=\"65f24079-4c63-4271-9d94-ea37e4b2a906\" style=\"height: 525px; width: 100%;\" class=\"plotly-graph-div\"></div><script type=\"text/javascript\">require([\"plotly\"], function(Plotly) { window.PLOTLYENV=window.PLOTLYENV || {};window.PLOTLYENV.BASE_URL=\"https://plot.ly\";\n",
       "        Plotly.plot(\n",
       "            '65f24079-4c63-4271-9d94-ea37e4b2a906',\n",
       "            [{\"name\": \"\\u82af\\u7247\\u603b\\u6570\", \"x\": [\"8\", \"9\"], \"y\": [3.0, 4.0], \"type\": \"scatter\", \"uid\": \"d0e10e90-c18f-11e8-b108-a81e84e6c740\"}, {\"name\": \"\\u4e0d\\u901a\\u8fc7\\u82af\\u7247\\u6570\", \"x\": [\"8\", \"9\"], \"y\": [0.0, 0.0], \"type\": \"scatter\", \"uid\": \"d0e11250-c18f-11e8-b108-a81e84e6c740\"}],\n",
       "            {\"title\": \"\\u82af\\u7247\\u603b\\u6570&\\u4e0d\\u901a\\u8fc7\\u82af\\u7247\\u6570\\u6708\\u8d8b\\u52bf\\u56fe\", \"xaxis\": {\"mirror\": \"all\", \"nticks\": 20, \"showgrid\": true, \"showline\": true, \"title\": \"\\u6708\", \"zeroline\": true}, \"yaxis\": {\"mirror\": \"all\", \"nticks\": 20, \"showgrid\": true, \"showline\": true, \"title\": \"\\u82af\\u7247\\u603b\\u6570&\\u4e0d\\u901a\\u8fc7\\u82af\\u7247\\u6570\", \"zeroline\": true}},\n",
       "            {\"showLink\": true, \"linkText\": \"Export to plot.ly\"}\n",
       "        ).then(function () {return Plotly.addFrames('65f24079-4c63-4271-9d94-ea37e4b2a906',{});}).then(function(){Plotly.animate('65f24079-4c63-4271-9d94-ea37e4b2a906');})\n",
       "        });</script>"
      ],
      "text/vnd.plotly.v1+html": [
       "<div id=\"65f24079-4c63-4271-9d94-ea37e4b2a906\" style=\"height: 525px; width: 100%;\" class=\"plotly-graph-div\"></div><script type=\"text/javascript\">require([\"plotly\"], function(Plotly) { window.PLOTLYENV=window.PLOTLYENV || {};window.PLOTLYENV.BASE_URL=\"https://plot.ly\";\n",
       "        Plotly.plot(\n",
       "            '65f24079-4c63-4271-9d94-ea37e4b2a906',\n",
       "            [{\"name\": \"\\u82af\\u7247\\u603b\\u6570\", \"x\": [\"8\", \"9\"], \"y\": [3.0, 4.0], \"type\": \"scatter\", \"uid\": \"d0e10e90-c18f-11e8-b108-a81e84e6c740\"}, {\"name\": \"\\u4e0d\\u901a\\u8fc7\\u82af\\u7247\\u6570\", \"x\": [\"8\", \"9\"], \"y\": [0.0, 0.0], \"type\": \"scatter\", \"uid\": \"d0e11250-c18f-11e8-b108-a81e84e6c740\"}],\n",
       "            {\"title\": \"\\u82af\\u7247\\u603b\\u6570&\\u4e0d\\u901a\\u8fc7\\u82af\\u7247\\u6570\\u6708\\u8d8b\\u52bf\\u56fe\", \"xaxis\": {\"mirror\": \"all\", \"nticks\": 20, \"showgrid\": true, \"showline\": true, \"title\": \"\\u6708\", \"zeroline\": true}, \"yaxis\": {\"mirror\": \"all\", \"nticks\": 20, \"showgrid\": true, \"showline\": true, \"title\": \"\\u82af\\u7247\\u603b\\u6570&\\u4e0d\\u901a\\u8fc7\\u82af\\u7247\\u6570\", \"zeroline\": true}},\n",
       "            {\"showLink\": true, \"linkText\": \"Export to plot.ly\"}\n",
       "        ).then(function () {return Plotly.addFrames('65f24079-4c63-4271-9d94-ea37e4b2a906',{});}).then(function(){Plotly.animate('65f24079-4c63-4271-9d94-ea37e4b2a906');})\n",
       "        });</script>"
      ]
     },
     "metadata": {},
     "output_type": "display_data"
    }
   ],
   "source": [
    "data_dict = {'芯片总数':['芯片总数'], '不通过芯片数':['不通过芯片数']}\n",
    "myModule.plot( all_dict, data_dict, '人员', 'line', all='all')"
   ]
  },
  {
   "cell_type": "markdown",
   "metadata": {},
   "source": [
    "## 效率"
   ]
  },
  {
   "cell_type": "markdown",
   "metadata": {},
   "source": [
    "### 不合格率"
   ]
  },
  {
   "cell_type": "code",
   "execution_count": 42,
   "metadata": {
    "scrolled": false
   },
   "outputs": [
    {
     "data": {
      "application/vnd.plotly.v1+json": {
       "data": [
        {
         "name": "不合格率",
         "type": "scatter",
         "uid": "7a2f1570-c147-11e8-ac17-d89ef3991fb3",
         "x": [
          "8-1",
          "8-2",
          "8-3",
          "8-4",
          "8-5",
          "9-1",
          "9-2"
         ],
         "y": [
          null,
          null,
          null,
          null,
          0,
          0,
          0
         ]
        }
       ],
       "layout": {
        "title": "不合格率周趋势图",
        "xaxis": {
         "mirror": "all",
         "nticks": 20,
         "showgrid": true,
         "showline": true,
         "title": "周",
         "zeroline": true
        },
        "yaxis": {
         "mirror": "all",
         "nticks": 20,
         "showgrid": true,
         "showline": true,
         "title": "不合格率",
         "zeroline": true
        }
       }
      },
      "text/html": [
       "<div id=\"c7967615-57c4-4dfa-900d-b6dedf8b2d56\" style=\"height: 525px; width: 100%;\" class=\"plotly-graph-div\"></div><script type=\"text/javascript\">require([\"plotly\"], function(Plotly) { window.PLOTLYENV=window.PLOTLYENV || {};window.PLOTLYENV.BASE_URL=\"https://plot.ly\";Plotly.newPlot(\"c7967615-57c4-4dfa-900d-b6dedf8b2d56\", [{\"name\": \"\\u4e0d\\u5408\\u683c\\u7387\", \"x\": [\"8-1\", \"8-2\", \"8-3\", \"8-4\", \"8-5\", \"9-1\", \"9-2\"], \"y\": [null, null, null, null, 0.0, 0.0, 0.0], \"type\": \"scatter\", \"uid\": \"7a2f1570-c147-11e8-ac17-d89ef3991fb3\"}], {\"title\": \"\\u4e0d\\u5408\\u683c\\u7387\\u5468\\u8d8b\\u52bf\\u56fe\", \"xaxis\": {\"mirror\": \"all\", \"nticks\": 20, \"showgrid\": true, \"showline\": true, \"title\": \"\\u5468\", \"zeroline\": true}, \"yaxis\": {\"mirror\": \"all\", \"nticks\": 20, \"showgrid\": true, \"showline\": true, \"title\": \"\\u4e0d\\u5408\\u683c\\u7387\", \"zeroline\": true}}, {\"showLink\": true, \"linkText\": \"Export to plot.ly\"})});</script>"
      ],
      "text/vnd.plotly.v1+html": [
       "<div id=\"c7967615-57c4-4dfa-900d-b6dedf8b2d56\" style=\"height: 525px; width: 100%;\" class=\"plotly-graph-div\"></div><script type=\"text/javascript\">require([\"plotly\"], function(Plotly) { window.PLOTLYENV=window.PLOTLYENV || {};window.PLOTLYENV.BASE_URL=\"https://plot.ly\";Plotly.newPlot(\"c7967615-57c4-4dfa-900d-b6dedf8b2d56\", [{\"name\": \"\\u4e0d\\u5408\\u683c\\u7387\", \"x\": [\"8-1\", \"8-2\", \"8-3\", \"8-4\", \"8-5\", \"9-1\", \"9-2\"], \"y\": [null, null, null, null, 0.0, 0.0, 0.0], \"type\": \"scatter\", \"uid\": \"7a2f1570-c147-11e8-ac17-d89ef3991fb3\"}], {\"title\": \"\\u4e0d\\u5408\\u683c\\u7387\\u5468\\u8d8b\\u52bf\\u56fe\", \"xaxis\": {\"mirror\": \"all\", \"nticks\": 20, \"showgrid\": true, \"showline\": true, \"title\": \"\\u5468\", \"zeroline\": true}, \"yaxis\": {\"mirror\": \"all\", \"nticks\": 20, \"showgrid\": true, \"showline\": true, \"title\": \"\\u4e0d\\u5408\\u683c\\u7387\", \"zeroline\": true}}, {\"showLink\": true, \"linkText\": \"Export to plot.ly\"})});</script>"
      ]
     },
     "metadata": {},
     "output_type": "display_data"
    },
    {
     "data": {
      "application/vnd.plotly.v1+json": {
       "data": [
        {
         "name": "不合格率",
         "type": "scatter",
         "uid": "7a432bf4-c147-11e8-ba86-d89ef3991fb3",
         "x": [
          "8",
          "9"
         ],
         "y": [
          0,
          0
         ]
        }
       ],
       "layout": {
        "title": "不合格率月趋势图",
        "xaxis": {
         "mirror": "all",
         "nticks": 20,
         "showgrid": true,
         "showline": true,
         "title": "月",
         "zeroline": true
        },
        "yaxis": {
         "mirror": "all",
         "nticks": 20,
         "showgrid": true,
         "showline": true,
         "title": "不合格率",
         "zeroline": true
        }
       }
      },
      "text/html": [
       "<div id=\"143044b7-c3ac-44b8-b9e5-0a87f8ba1a18\" style=\"height: 525px; width: 100%;\" class=\"plotly-graph-div\"></div><script type=\"text/javascript\">require([\"plotly\"], function(Plotly) { window.PLOTLYENV=window.PLOTLYENV || {};window.PLOTLYENV.BASE_URL=\"https://plot.ly\";Plotly.newPlot(\"143044b7-c3ac-44b8-b9e5-0a87f8ba1a18\", [{\"name\": \"\\u4e0d\\u5408\\u683c\\u7387\", \"x\": [\"8\", \"9\"], \"y\": [0.0, 0.0], \"type\": \"scatter\", \"uid\": \"7a432bf4-c147-11e8-ba86-d89ef3991fb3\"}], {\"title\": \"\\u4e0d\\u5408\\u683c\\u7387\\u6708\\u8d8b\\u52bf\\u56fe\", \"xaxis\": {\"mirror\": \"all\", \"nticks\": 20, \"showgrid\": true, \"showline\": true, \"title\": \"\\u6708\", \"zeroline\": true}, \"yaxis\": {\"mirror\": \"all\", \"nticks\": 20, \"showgrid\": true, \"showline\": true, \"title\": \"\\u4e0d\\u5408\\u683c\\u7387\", \"zeroline\": true}}, {\"showLink\": true, \"linkText\": \"Export to plot.ly\"})});</script>"
      ],
      "text/vnd.plotly.v1+html": [
       "<div id=\"143044b7-c3ac-44b8-b9e5-0a87f8ba1a18\" style=\"height: 525px; width: 100%;\" class=\"plotly-graph-div\"></div><script type=\"text/javascript\">require([\"plotly\"], function(Plotly) { window.PLOTLYENV=window.PLOTLYENV || {};window.PLOTLYENV.BASE_URL=\"https://plot.ly\";Plotly.newPlot(\"143044b7-c3ac-44b8-b9e5-0a87f8ba1a18\", [{\"name\": \"\\u4e0d\\u5408\\u683c\\u7387\", \"x\": [\"8\", \"9\"], \"y\": [0.0, 0.0], \"type\": \"scatter\", \"uid\": \"7a432bf4-c147-11e8-ba86-d89ef3991fb3\"}], {\"title\": \"\\u4e0d\\u5408\\u683c\\u7387\\u6708\\u8d8b\\u52bf\\u56fe\", \"xaxis\": {\"mirror\": \"all\", \"nticks\": 20, \"showgrid\": true, \"showline\": true, \"title\": \"\\u6708\", \"zeroline\": true}, \"yaxis\": {\"mirror\": \"all\", \"nticks\": 20, \"showgrid\": true, \"showline\": true, \"title\": \"\\u4e0d\\u5408\\u683c\\u7387\", \"zeroline\": true}}, {\"showLink\": true, \"linkText\": \"Export to plot.ly\"})});</script>"
      ]
     },
     "metadata": {},
     "output_type": "display_data"
    }
   ],
   "source": [
    "data_dict = {'不合格率':['不通过芯片数', '芯片总数']}\n",
    "myModule.plot( all_dict, data_dict, '人员' ,  'line' , all='all')"
   ]
  },
  {
   "cell_type": "markdown",
   "metadata": {},
   "source": [
    "### 通过率情况"
   ]
  },
  {
   "cell_type": "code",
   "execution_count": 43,
   "metadata": {},
   "outputs": [
    {
     "data": {
      "application/vnd.plotly.v1+json": {
       "data": [
        {
         "name": "8h通过率",
         "type": "scatter",
         "uid": "7a603cf6-c147-11e8-9c18-d89ef3991fb3",
         "x": [
          "8-1",
          "8-2",
          "8-3",
          "8-4",
          "8-5",
          "9-1",
          "9-2"
         ],
         "y": [
          null,
          null,
          null,
          null,
          0,
          0,
          0
         ]
        },
        {
         "name": "24h通过率",
         "type": "scatter",
         "uid": "7a603cf7-c147-11e8-829e-d89ef3991fb3",
         "x": [
          "8-1",
          "8-2",
          "8-3",
          "8-4",
          "8-5",
          "9-1",
          "9-2"
         ],
         "y": [
          null,
          null,
          null,
          null,
          0,
          0,
          0
         ]
        },
        {
         "name": "48h通过率",
         "type": "scatter",
         "uid": "7a603cf8-c147-11e8-bdbd-d89ef3991fb3",
         "x": [
          "8-1",
          "8-2",
          "8-3",
          "8-4",
          "8-5",
          "9-1",
          "9-2"
         ],
         "y": [
          null,
          null,
          null,
          null,
          0,
          0,
          0
         ]
        }
       ],
       "layout": {
        "title": "8h通过率&24h通过率&48h通过率周趋势图",
        "xaxis": {
         "mirror": "all",
         "nticks": 20,
         "showgrid": true,
         "showline": true,
         "title": "周",
         "zeroline": true
        },
        "yaxis": {
         "mirror": "all",
         "nticks": 20,
         "showgrid": true,
         "showline": true,
         "title": "8h通过率&24h通过率&48h通过率",
         "zeroline": true
        }
       }
      },
      "text/html": [
       "<div id=\"2631e2ff-db51-460d-80fa-20f4b1faee70\" style=\"height: 525px; width: 100%;\" class=\"plotly-graph-div\"></div><script type=\"text/javascript\">require([\"plotly\"], function(Plotly) { window.PLOTLYENV=window.PLOTLYENV || {};window.PLOTLYENV.BASE_URL=\"https://plot.ly\";Plotly.newPlot(\"2631e2ff-db51-460d-80fa-20f4b1faee70\", [{\"name\": \"8h\\u901a\\u8fc7\\u7387\", \"x\": [\"8-1\", \"8-2\", \"8-3\", \"8-4\", \"8-5\", \"9-1\", \"9-2\"], \"y\": [null, null, null, null, 0.0, 0.0, 0.0], \"type\": \"scatter\", \"uid\": \"7a603cf6-c147-11e8-9c18-d89ef3991fb3\"}, {\"name\": \"24h\\u901a\\u8fc7\\u7387\", \"x\": [\"8-1\", \"8-2\", \"8-3\", \"8-4\", \"8-5\", \"9-1\", \"9-2\"], \"y\": [null, null, null, null, 0.0, 0.0, 0.0], \"type\": \"scatter\", \"uid\": \"7a603cf7-c147-11e8-829e-d89ef3991fb3\"}, {\"name\": \"48h\\u901a\\u8fc7\\u7387\", \"x\": [\"8-1\", \"8-2\", \"8-3\", \"8-4\", \"8-5\", \"9-1\", \"9-2\"], \"y\": [null, null, null, null, 0.0, 0.0, 0.0], \"type\": \"scatter\", \"uid\": \"7a603cf8-c147-11e8-bdbd-d89ef3991fb3\"}], {\"title\": \"8h\\u901a\\u8fc7\\u7387&24h\\u901a\\u8fc7\\u7387&48h\\u901a\\u8fc7\\u7387\\u5468\\u8d8b\\u52bf\\u56fe\", \"xaxis\": {\"mirror\": \"all\", \"nticks\": 20, \"showgrid\": true, \"showline\": true, \"title\": \"\\u5468\", \"zeroline\": true}, \"yaxis\": {\"mirror\": \"all\", \"nticks\": 20, \"showgrid\": true, \"showline\": true, \"title\": \"8h\\u901a\\u8fc7\\u7387&24h\\u901a\\u8fc7\\u7387&48h\\u901a\\u8fc7\\u7387\", \"zeroline\": true}}, {\"showLink\": true, \"linkText\": \"Export to plot.ly\"})});</script>"
      ],
      "text/vnd.plotly.v1+html": [
       "<div id=\"2631e2ff-db51-460d-80fa-20f4b1faee70\" style=\"height: 525px; width: 100%;\" class=\"plotly-graph-div\"></div><script type=\"text/javascript\">require([\"plotly\"], function(Plotly) { window.PLOTLYENV=window.PLOTLYENV || {};window.PLOTLYENV.BASE_URL=\"https://plot.ly\";Plotly.newPlot(\"2631e2ff-db51-460d-80fa-20f4b1faee70\", [{\"name\": \"8h\\u901a\\u8fc7\\u7387\", \"x\": [\"8-1\", \"8-2\", \"8-3\", \"8-4\", \"8-5\", \"9-1\", \"9-2\"], \"y\": [null, null, null, null, 0.0, 0.0, 0.0], \"type\": \"scatter\", \"uid\": \"7a603cf6-c147-11e8-9c18-d89ef3991fb3\"}, {\"name\": \"24h\\u901a\\u8fc7\\u7387\", \"x\": [\"8-1\", \"8-2\", \"8-3\", \"8-4\", \"8-5\", \"9-1\", \"9-2\"], \"y\": [null, null, null, null, 0.0, 0.0, 0.0], \"type\": \"scatter\", \"uid\": \"7a603cf7-c147-11e8-829e-d89ef3991fb3\"}, {\"name\": \"48h\\u901a\\u8fc7\\u7387\", \"x\": [\"8-1\", \"8-2\", \"8-3\", \"8-4\", \"8-5\", \"9-1\", \"9-2\"], \"y\": [null, null, null, null, 0.0, 0.0, 0.0], \"type\": \"scatter\", \"uid\": \"7a603cf8-c147-11e8-bdbd-d89ef3991fb3\"}], {\"title\": \"8h\\u901a\\u8fc7\\u7387&24h\\u901a\\u8fc7\\u7387&48h\\u901a\\u8fc7\\u7387\\u5468\\u8d8b\\u52bf\\u56fe\", \"xaxis\": {\"mirror\": \"all\", \"nticks\": 20, \"showgrid\": true, \"showline\": true, \"title\": \"\\u5468\", \"zeroline\": true}, \"yaxis\": {\"mirror\": \"all\", \"nticks\": 20, \"showgrid\": true, \"showline\": true, \"title\": \"8h\\u901a\\u8fc7\\u7387&24h\\u901a\\u8fc7\\u7387&48h\\u901a\\u8fc7\\u7387\", \"zeroline\": true}}, {\"showLink\": true, \"linkText\": \"Export to plot.ly\"})});</script>"
      ]
     },
     "metadata": {},
     "output_type": "display_data"
    },
    {
     "data": {
      "application/vnd.plotly.v1+json": {
       "data": [
        {
         "name": "8h通过率",
         "type": "scatter",
         "uid": "7a6abd74-c147-11e8-9ca1-d89ef3991fb3",
         "x": [
          "8",
          "9"
         ],
         "y": [
          0,
          0
         ]
        },
        {
         "name": "24h通过率",
         "type": "scatter",
         "uid": "7a6abd75-c147-11e8-9f5a-d89ef3991fb3",
         "x": [
          "8",
          "9"
         ],
         "y": [
          0,
          0
         ]
        },
        {
         "name": "48h通过率",
         "type": "scatter",
         "uid": "7a6abd76-c147-11e8-bdfc-d89ef3991fb3",
         "x": [
          "8",
          "9"
         ],
         "y": [
          0,
          0
         ]
        }
       ],
       "layout": {
        "title": "8h通过率&24h通过率&48h通过率月趋势图",
        "xaxis": {
         "mirror": "all",
         "nticks": 20,
         "showgrid": true,
         "showline": true,
         "title": "月",
         "zeroline": true
        },
        "yaxis": {
         "mirror": "all",
         "nticks": 20,
         "showgrid": true,
         "showline": true,
         "title": "8h通过率&24h通过率&48h通过率",
         "zeroline": true
        }
       }
      },
      "text/html": [
       "<div id=\"4132a081-a2f7-4375-bdbb-c4858833aedd\" style=\"height: 525px; width: 100%;\" class=\"plotly-graph-div\"></div><script type=\"text/javascript\">require([\"plotly\"], function(Plotly) { window.PLOTLYENV=window.PLOTLYENV || {};window.PLOTLYENV.BASE_URL=\"https://plot.ly\";Plotly.newPlot(\"4132a081-a2f7-4375-bdbb-c4858833aedd\", [{\"name\": \"8h\\u901a\\u8fc7\\u7387\", \"x\": [\"8\", \"9\"], \"y\": [0.0, 0.0], \"type\": \"scatter\", \"uid\": \"7a6abd74-c147-11e8-9ca1-d89ef3991fb3\"}, {\"name\": \"24h\\u901a\\u8fc7\\u7387\", \"x\": [\"8\", \"9\"], \"y\": [0.0, 0.0], \"type\": \"scatter\", \"uid\": \"7a6abd75-c147-11e8-9f5a-d89ef3991fb3\"}, {\"name\": \"48h\\u901a\\u8fc7\\u7387\", \"x\": [\"8\", \"9\"], \"y\": [0.0, 0.0], \"type\": \"scatter\", \"uid\": \"7a6abd76-c147-11e8-bdfc-d89ef3991fb3\"}], {\"title\": \"8h\\u901a\\u8fc7\\u7387&24h\\u901a\\u8fc7\\u7387&48h\\u901a\\u8fc7\\u7387\\u6708\\u8d8b\\u52bf\\u56fe\", \"xaxis\": {\"mirror\": \"all\", \"nticks\": 20, \"showgrid\": true, \"showline\": true, \"title\": \"\\u6708\", \"zeroline\": true}, \"yaxis\": {\"mirror\": \"all\", \"nticks\": 20, \"showgrid\": true, \"showline\": true, \"title\": \"8h\\u901a\\u8fc7\\u7387&24h\\u901a\\u8fc7\\u7387&48h\\u901a\\u8fc7\\u7387\", \"zeroline\": true}}, {\"showLink\": true, \"linkText\": \"Export to plot.ly\"})});</script>"
      ],
      "text/vnd.plotly.v1+html": [
       "<div id=\"4132a081-a2f7-4375-bdbb-c4858833aedd\" style=\"height: 525px; width: 100%;\" class=\"plotly-graph-div\"></div><script type=\"text/javascript\">require([\"plotly\"], function(Plotly) { window.PLOTLYENV=window.PLOTLYENV || {};window.PLOTLYENV.BASE_URL=\"https://plot.ly\";Plotly.newPlot(\"4132a081-a2f7-4375-bdbb-c4858833aedd\", [{\"name\": \"8h\\u901a\\u8fc7\\u7387\", \"x\": [\"8\", \"9\"], \"y\": [0.0, 0.0], \"type\": \"scatter\", \"uid\": \"7a6abd74-c147-11e8-9ca1-d89ef3991fb3\"}, {\"name\": \"24h\\u901a\\u8fc7\\u7387\", \"x\": [\"8\", \"9\"], \"y\": [0.0, 0.0], \"type\": \"scatter\", \"uid\": \"7a6abd75-c147-11e8-9f5a-d89ef3991fb3\"}, {\"name\": \"48h\\u901a\\u8fc7\\u7387\", \"x\": [\"8\", \"9\"], \"y\": [0.0, 0.0], \"type\": \"scatter\", \"uid\": \"7a6abd76-c147-11e8-bdfc-d89ef3991fb3\"}], {\"title\": \"8h\\u901a\\u8fc7\\u7387&24h\\u901a\\u8fc7\\u7387&48h\\u901a\\u8fc7\\u7387\\u6708\\u8d8b\\u52bf\\u56fe\", \"xaxis\": {\"mirror\": \"all\", \"nticks\": 20, \"showgrid\": true, \"showline\": true, \"title\": \"\\u6708\", \"zeroline\": true}, \"yaxis\": {\"mirror\": \"all\", \"nticks\": 20, \"showgrid\": true, \"showline\": true, \"title\": \"8h\\u901a\\u8fc7\\u7387&24h\\u901a\\u8fc7\\u7387&48h\\u901a\\u8fc7\\u7387\", \"zeroline\": true}}, {\"showLink\": true, \"linkText\": \"Export to plot.ly\"})});</script>"
      ]
     },
     "metadata": {},
     "output_type": "display_data"
    }
   ],
   "source": [
    "#data_dict = {'8h通过率':['8h通过芯片数', '芯片总数'], '24h通过率':['24h通过芯片数', '芯片总数'], \n",
    "             #'48h通过率':['48h通过芯片数', '芯片总数'], '24h通过率标线':['24h通过率标线'], '48h通过率标线':['48h通过率标线']}\n",
    "data_dict = {'8h通过率':['8h通过芯片数', '芯片总数'], '24h通过率':['24h通过芯片数', '芯片总数'], '48h通过率':['48h通过芯片数', '芯片总数']}\n",
    "myModule.plot( all_dict, data_dict, '人员' ,  'line' ,  all='all')"
   ]
  },
  {
   "cell_type": "markdown",
   "metadata": {},
   "source": [
    "### 平均通过时长\n",
    "* 平均通过时长，一次通过平均时长，非一次通过平均时长，通过时长Q80"
   ]
  },
  {
   "cell_type": "code",
   "execution_count": 44,
   "metadata": {},
   "outputs": [
    {
     "data": {
      "application/vnd.plotly.v1+json": {
       "data": [
        {
         "name": "平均通过时长",
         "type": "scatter",
         "uid": "7a884418-c147-11e8-9941-d89ef3991fb3",
         "x": [
          "8-1",
          "8-2",
          "8-3",
          "8-4",
          "8-5",
          "9-1",
          "9-2"
         ],
         "y": [
          0,
          0,
          0,
          0,
          76.3,
          36,
          0
         ]
        },
        {
         "name": "NovaS4一次通过时长",
         "type": "scatter",
         "uid": "7a884419-c147-11e8-88a5-d89ef3991fb3",
         "x": [
          "8-1",
          "8-2",
          "8-3",
          "8-4",
          "8-5",
          "9-1",
          "9-2"
         ],
         "y": [
          0,
          0,
          0,
          0,
          0,
          0,
          0
         ]
        },
        {
         "name": "非一次通过平均时长",
         "type": "scatter",
         "uid": "7a88441a-c147-11e8-a788-d89ef3991fb3",
         "x": [
          "8-1",
          "8-2",
          "8-3",
          "8-4",
          "8-5",
          "9-1",
          "9-2"
         ],
         "y": [
          0,
          0,
          0,
          0,
          76.3,
          36,
          0
         ]
        },
        {
         "name": "通过时长Q80",
         "type": "scatter",
         "uid": "7a88441b-c147-11e8-8bf6-d89ef3991fb3",
         "x": [
          "8-1",
          "8-2",
          "8-3",
          "8-4",
          "8-5",
          "9-1",
          "9-2"
         ],
         "y": [
          0,
          0,
          0,
          0,
          0,
          32,
          0
         ]
        }
       ],
       "layout": {
        "title": "平均通过时长&NovaS4一次通过时长&非一次通过平均时长&通过时长Q80周趋势图",
        "xaxis": {
         "mirror": "all",
         "nticks": 20,
         "showgrid": true,
         "showline": true,
         "title": "周",
         "zeroline": true
        },
        "yaxis": {
         "mirror": "all",
         "nticks": 20,
         "showgrid": true,
         "showline": true,
         "title": "平均通过时长&NovaS4一次通过时长&非一次通过平均时长&通过时长Q80",
         "zeroline": true
        }
       }
      },
      "text/html": [
       "<div id=\"23f4483e-3d91-4bdf-9f79-5de3db51090d\" style=\"height: 525px; width: 100%;\" class=\"plotly-graph-div\"></div><script type=\"text/javascript\">require([\"plotly\"], function(Plotly) { window.PLOTLYENV=window.PLOTLYENV || {};window.PLOTLYENV.BASE_URL=\"https://plot.ly\";Plotly.newPlot(\"23f4483e-3d91-4bdf-9f79-5de3db51090d\", [{\"name\": \"\\u5e73\\u5747\\u901a\\u8fc7\\u65f6\\u957f\", \"x\": [\"8-1\", \"8-2\", \"8-3\", \"8-4\", \"8-5\", \"9-1\", \"9-2\"], \"y\": [0.0, 0.0, 0.0, 0.0, 76.3, 36.0, 0.0], \"type\": \"scatter\", \"uid\": \"7a884418-c147-11e8-9941-d89ef3991fb3\"}, {\"name\": \"NovaS4\\u4e00\\u6b21\\u901a\\u8fc7\\u65f6\\u957f\", \"x\": [\"8-1\", \"8-2\", \"8-3\", \"8-4\", \"8-5\", \"9-1\", \"9-2\"], \"y\": [0.0, 0.0, 0.0, 0.0, 0.0, 0.0, 0.0], \"type\": \"scatter\", \"uid\": \"7a884419-c147-11e8-88a5-d89ef3991fb3\"}, {\"name\": \"\\u975e\\u4e00\\u6b21\\u901a\\u8fc7\\u5e73\\u5747\\u65f6\\u957f\", \"x\": [\"8-1\", \"8-2\", \"8-3\", \"8-4\", \"8-5\", \"9-1\", \"9-2\"], \"y\": [0.0, 0.0, 0.0, 0.0, 76.3, 36.0, 0.0], \"type\": \"scatter\", \"uid\": \"7a88441a-c147-11e8-a788-d89ef3991fb3\"}, {\"name\": \"\\u901a\\u8fc7\\u65f6\\u957fQ80\", \"x\": [\"8-1\", \"8-2\", \"8-3\", \"8-4\", \"8-5\", \"9-1\", \"9-2\"], \"y\": [0.0, 0.0, 0.0, 0.0, 0.0, 32.0, 0.0], \"type\": \"scatter\", \"uid\": \"7a88441b-c147-11e8-8bf6-d89ef3991fb3\"}], {\"title\": \"\\u5e73\\u5747\\u901a\\u8fc7\\u65f6\\u957f&NovaS4\\u4e00\\u6b21\\u901a\\u8fc7\\u65f6\\u957f&\\u975e\\u4e00\\u6b21\\u901a\\u8fc7\\u5e73\\u5747\\u65f6\\u957f&\\u901a\\u8fc7\\u65f6\\u957fQ80\\u5468\\u8d8b\\u52bf\\u56fe\", \"xaxis\": {\"mirror\": \"all\", \"nticks\": 20, \"showgrid\": true, \"showline\": true, \"title\": \"\\u5468\", \"zeroline\": true}, \"yaxis\": {\"mirror\": \"all\", \"nticks\": 20, \"showgrid\": true, \"showline\": true, \"title\": \"\\u5e73\\u5747\\u901a\\u8fc7\\u65f6\\u957f&NovaS4\\u4e00\\u6b21\\u901a\\u8fc7\\u65f6\\u957f&\\u975e\\u4e00\\u6b21\\u901a\\u8fc7\\u5e73\\u5747\\u65f6\\u957f&\\u901a\\u8fc7\\u65f6\\u957fQ80\", \"zeroline\": true}}, {\"showLink\": true, \"linkText\": \"Export to plot.ly\"})});</script>"
      ],
      "text/vnd.plotly.v1+html": [
       "<div id=\"23f4483e-3d91-4bdf-9f79-5de3db51090d\" style=\"height: 525px; width: 100%;\" class=\"plotly-graph-div\"></div><script type=\"text/javascript\">require([\"plotly\"], function(Plotly) { window.PLOTLYENV=window.PLOTLYENV || {};window.PLOTLYENV.BASE_URL=\"https://plot.ly\";Plotly.newPlot(\"23f4483e-3d91-4bdf-9f79-5de3db51090d\", [{\"name\": \"\\u5e73\\u5747\\u901a\\u8fc7\\u65f6\\u957f\", \"x\": [\"8-1\", \"8-2\", \"8-3\", \"8-4\", \"8-5\", \"9-1\", \"9-2\"], \"y\": [0.0, 0.0, 0.0, 0.0, 76.3, 36.0, 0.0], \"type\": \"scatter\", \"uid\": \"7a884418-c147-11e8-9941-d89ef3991fb3\"}, {\"name\": \"NovaS4\\u4e00\\u6b21\\u901a\\u8fc7\\u65f6\\u957f\", \"x\": [\"8-1\", \"8-2\", \"8-3\", \"8-4\", \"8-5\", \"9-1\", \"9-2\"], \"y\": [0.0, 0.0, 0.0, 0.0, 0.0, 0.0, 0.0], \"type\": \"scatter\", \"uid\": \"7a884419-c147-11e8-88a5-d89ef3991fb3\"}, {\"name\": \"\\u975e\\u4e00\\u6b21\\u901a\\u8fc7\\u5e73\\u5747\\u65f6\\u957f\", \"x\": [\"8-1\", \"8-2\", \"8-3\", \"8-4\", \"8-5\", \"9-1\", \"9-2\"], \"y\": [0.0, 0.0, 0.0, 0.0, 76.3, 36.0, 0.0], \"type\": \"scatter\", \"uid\": \"7a88441a-c147-11e8-a788-d89ef3991fb3\"}, {\"name\": \"\\u901a\\u8fc7\\u65f6\\u957fQ80\", \"x\": [\"8-1\", \"8-2\", \"8-3\", \"8-4\", \"8-5\", \"9-1\", \"9-2\"], \"y\": [0.0, 0.0, 0.0, 0.0, 0.0, 32.0, 0.0], \"type\": \"scatter\", \"uid\": \"7a88441b-c147-11e8-8bf6-d89ef3991fb3\"}], {\"title\": \"\\u5e73\\u5747\\u901a\\u8fc7\\u65f6\\u957f&NovaS4\\u4e00\\u6b21\\u901a\\u8fc7\\u65f6\\u957f&\\u975e\\u4e00\\u6b21\\u901a\\u8fc7\\u5e73\\u5747\\u65f6\\u957f&\\u901a\\u8fc7\\u65f6\\u957fQ80\\u5468\\u8d8b\\u52bf\\u56fe\", \"xaxis\": {\"mirror\": \"all\", \"nticks\": 20, \"showgrid\": true, \"showline\": true, \"title\": \"\\u5468\", \"zeroline\": true}, \"yaxis\": {\"mirror\": \"all\", \"nticks\": 20, \"showgrid\": true, \"showline\": true, \"title\": \"\\u5e73\\u5747\\u901a\\u8fc7\\u65f6\\u957f&NovaS4\\u4e00\\u6b21\\u901a\\u8fc7\\u65f6\\u957f&\\u975e\\u4e00\\u6b21\\u901a\\u8fc7\\u5e73\\u5747\\u65f6\\u957f&\\u901a\\u8fc7\\u65f6\\u957fQ80\", \"zeroline\": true}}, {\"showLink\": true, \"linkText\": \"Export to plot.ly\"})});</script>"
      ]
     },
     "metadata": {},
     "output_type": "display_data"
    },
    {
     "data": {
      "application/vnd.plotly.v1+json": {
       "data": [
        {
         "name": "平均通过时长",
         "type": "scatter",
         "uid": "7a93873e-c147-11e8-8926-d89ef3991fb3",
         "x": [
          "8",
          "9"
         ],
         "y": [
          76.3,
          36
         ]
        },
        {
         "name": "NovaS4一次通过时长",
         "type": "scatter",
         "uid": "7a93873f-c147-11e8-b269-d89ef3991fb3",
         "x": [
          "8",
          "9"
         ],
         "y": [
          0,
          0
         ]
        },
        {
         "name": "非一次通过平均时长",
         "type": "scatter",
         "uid": "7a938740-c147-11e8-9b2d-d89ef3991fb3",
         "x": [
          "8",
          "9"
         ],
         "y": [
          76.3,
          36
         ]
        },
        {
         "name": "通过时长Q80",
         "type": "scatter",
         "uid": "7a938741-c147-11e8-9522-d89ef3991fb3",
         "x": [
          "8",
          "9"
         ],
         "y": [
          0,
          32
         ]
        }
       ],
       "layout": {
        "title": "平均通过时长&NovaS4一次通过时长&非一次通过平均时长&通过时长Q80月趋势图",
        "xaxis": {
         "mirror": "all",
         "nticks": 20,
         "showgrid": true,
         "showline": true,
         "title": "月",
         "zeroline": true
        },
        "yaxis": {
         "mirror": "all",
         "nticks": 20,
         "showgrid": true,
         "showline": true,
         "title": "平均通过时长&NovaS4一次通过时长&非一次通过平均时长&通过时长Q80",
         "zeroline": true
        }
       }
      },
      "text/html": [
       "<div id=\"a95a605c-75bf-43b2-a2a7-5955c79e751e\" style=\"height: 525px; width: 100%;\" class=\"plotly-graph-div\"></div><script type=\"text/javascript\">require([\"plotly\"], function(Plotly) { window.PLOTLYENV=window.PLOTLYENV || {};window.PLOTLYENV.BASE_URL=\"https://plot.ly\";Plotly.newPlot(\"a95a605c-75bf-43b2-a2a7-5955c79e751e\", [{\"name\": \"\\u5e73\\u5747\\u901a\\u8fc7\\u65f6\\u957f\", \"x\": [\"8\", \"9\"], \"y\": [76.3, 36.0], \"type\": \"scatter\", \"uid\": \"7a93873e-c147-11e8-8926-d89ef3991fb3\"}, {\"name\": \"NovaS4\\u4e00\\u6b21\\u901a\\u8fc7\\u65f6\\u957f\", \"x\": [\"8\", \"9\"], \"y\": [0.0, 0.0], \"type\": \"scatter\", \"uid\": \"7a93873f-c147-11e8-b269-d89ef3991fb3\"}, {\"name\": \"\\u975e\\u4e00\\u6b21\\u901a\\u8fc7\\u5e73\\u5747\\u65f6\\u957f\", \"x\": [\"8\", \"9\"], \"y\": [76.3, 36.0], \"type\": \"scatter\", \"uid\": \"7a938740-c147-11e8-9b2d-d89ef3991fb3\"}, {\"name\": \"\\u901a\\u8fc7\\u65f6\\u957fQ80\", \"x\": [\"8\", \"9\"], \"y\": [0.0, 32.0], \"type\": \"scatter\", \"uid\": \"7a938741-c147-11e8-9522-d89ef3991fb3\"}], {\"title\": \"\\u5e73\\u5747\\u901a\\u8fc7\\u65f6\\u957f&NovaS4\\u4e00\\u6b21\\u901a\\u8fc7\\u65f6\\u957f&\\u975e\\u4e00\\u6b21\\u901a\\u8fc7\\u5e73\\u5747\\u65f6\\u957f&\\u901a\\u8fc7\\u65f6\\u957fQ80\\u6708\\u8d8b\\u52bf\\u56fe\", \"xaxis\": {\"mirror\": \"all\", \"nticks\": 20, \"showgrid\": true, \"showline\": true, \"title\": \"\\u6708\", \"zeroline\": true}, \"yaxis\": {\"mirror\": \"all\", \"nticks\": 20, \"showgrid\": true, \"showline\": true, \"title\": \"\\u5e73\\u5747\\u901a\\u8fc7\\u65f6\\u957f&NovaS4\\u4e00\\u6b21\\u901a\\u8fc7\\u65f6\\u957f&\\u975e\\u4e00\\u6b21\\u901a\\u8fc7\\u5e73\\u5747\\u65f6\\u957f&\\u901a\\u8fc7\\u65f6\\u957fQ80\", \"zeroline\": true}}, {\"showLink\": true, \"linkText\": \"Export to plot.ly\"})});</script>"
      ],
      "text/vnd.plotly.v1+html": [
       "<div id=\"a95a605c-75bf-43b2-a2a7-5955c79e751e\" style=\"height: 525px; width: 100%;\" class=\"plotly-graph-div\"></div><script type=\"text/javascript\">require([\"plotly\"], function(Plotly) { window.PLOTLYENV=window.PLOTLYENV || {};window.PLOTLYENV.BASE_URL=\"https://plot.ly\";Plotly.newPlot(\"a95a605c-75bf-43b2-a2a7-5955c79e751e\", [{\"name\": \"\\u5e73\\u5747\\u901a\\u8fc7\\u65f6\\u957f\", \"x\": [\"8\", \"9\"], \"y\": [76.3, 36.0], \"type\": \"scatter\", \"uid\": \"7a93873e-c147-11e8-8926-d89ef3991fb3\"}, {\"name\": \"NovaS4\\u4e00\\u6b21\\u901a\\u8fc7\\u65f6\\u957f\", \"x\": [\"8\", \"9\"], \"y\": [0.0, 0.0], \"type\": \"scatter\", \"uid\": \"7a93873f-c147-11e8-b269-d89ef3991fb3\"}, {\"name\": \"\\u975e\\u4e00\\u6b21\\u901a\\u8fc7\\u5e73\\u5747\\u65f6\\u957f\", \"x\": [\"8\", \"9\"], \"y\": [76.3, 36.0], \"type\": \"scatter\", \"uid\": \"7a938740-c147-11e8-9b2d-d89ef3991fb3\"}, {\"name\": \"\\u901a\\u8fc7\\u65f6\\u957fQ80\", \"x\": [\"8\", \"9\"], \"y\": [0.0, 32.0], \"type\": \"scatter\", \"uid\": \"7a938741-c147-11e8-9522-d89ef3991fb3\"}], {\"title\": \"\\u5e73\\u5747\\u901a\\u8fc7\\u65f6\\u957f&NovaS4\\u4e00\\u6b21\\u901a\\u8fc7\\u65f6\\u957f&\\u975e\\u4e00\\u6b21\\u901a\\u8fc7\\u5e73\\u5747\\u65f6\\u957f&\\u901a\\u8fc7\\u65f6\\u957fQ80\\u6708\\u8d8b\\u52bf\\u56fe\", \"xaxis\": {\"mirror\": \"all\", \"nticks\": 20, \"showgrid\": true, \"showline\": true, \"title\": \"\\u6708\", \"zeroline\": true}, \"yaxis\": {\"mirror\": \"all\", \"nticks\": 20, \"showgrid\": true, \"showline\": true, \"title\": \"\\u5e73\\u5747\\u901a\\u8fc7\\u65f6\\u957f&NovaS4\\u4e00\\u6b21\\u901a\\u8fc7\\u65f6\\u957f&\\u975e\\u4e00\\u6b21\\u901a\\u8fc7\\u5e73\\u5747\\u65f6\\u957f&\\u901a\\u8fc7\\u65f6\\u957fQ80\", \"zeroline\": true}}, {\"showLink\": true, \"linkText\": \"Export to plot.ly\"})});</script>"
      ]
     },
     "metadata": {},
     "output_type": "display_data"
    }
   ],
   "source": [
    "data_dict = {'平均通过时长':['平均通过时长'], 'NovaS4一次通过时长':['NovaS4一次通过时长'], \n",
    "             '非一次通过平均时长':['非一次通过平均时长'],'通过时长Q80':['通过时长Q80']}\n",
    "myModule.plot( all_dict, data_dict, '人员' ,  'line' , all='all')"
   ]
  },
  {
   "cell_type": "markdown",
   "metadata": {},
   "source": [
    "## 异常"
   ]
  },
  {
   "cell_type": "markdown",
   "metadata": {},
   "source": [
    "### 个性化拆分数"
   ]
  },
  {
   "cell_type": "code",
   "execution_count": 45,
   "metadata": {},
   "outputs": [
    {
     "data": {
      "application/vnd.plotly.v1+json": {
       "data": [
        {
         "name": "个性化拆分数",
         "type": "scatter",
         "uid": "7aaca20c-c147-11e8-b05b-d89ef3991fb3",
         "x": [
          "8-1",
          "8-2",
          "8-3",
          "8-4",
          "8-5",
          "9-1",
          "9-2"
         ],
         "y": [
          0,
          0,
          0,
          0,
          0,
          1,
          1
         ]
        }
       ],
       "layout": {
        "title": "个性化拆分数周趋势图",
        "xaxis": {
         "mirror": "all",
         "nticks": 20,
         "showgrid": true,
         "showline": true,
         "title": "周",
         "zeroline": true
        },
        "yaxis": {
         "mirror": "all",
         "nticks": 20,
         "showgrid": true,
         "showline": true,
         "title": "个性化拆分数",
         "zeroline": true
        }
       }
      },
      "text/html": [
       "<div id=\"3ce2f0eb-9815-4a81-9cd5-6c8ec40ed2ad\" style=\"height: 525px; width: 100%;\" class=\"plotly-graph-div\"></div><script type=\"text/javascript\">require([\"plotly\"], function(Plotly) { window.PLOTLYENV=window.PLOTLYENV || {};window.PLOTLYENV.BASE_URL=\"https://plot.ly\";Plotly.newPlot(\"3ce2f0eb-9815-4a81-9cd5-6c8ec40ed2ad\", [{\"name\": \"\\u4e2a\\u6027\\u5316\\u62c6\\u5206\\u6570\", \"x\": [\"8-1\", \"8-2\", \"8-3\", \"8-4\", \"8-5\", \"9-1\", \"9-2\"], \"y\": [0.0, 0.0, 0.0, 0.0, 0.0, 1.0, 1.0], \"type\": \"scatter\", \"uid\": \"7aaca20c-c147-11e8-b05b-d89ef3991fb3\"}], {\"title\": \"\\u4e2a\\u6027\\u5316\\u62c6\\u5206\\u6570\\u5468\\u8d8b\\u52bf\\u56fe\", \"xaxis\": {\"mirror\": \"all\", \"nticks\": 20, \"showgrid\": true, \"showline\": true, \"title\": \"\\u5468\", \"zeroline\": true}, \"yaxis\": {\"mirror\": \"all\", \"nticks\": 20, \"showgrid\": true, \"showline\": true, \"title\": \"\\u4e2a\\u6027\\u5316\\u62c6\\u5206\\u6570\", \"zeroline\": true}}, {\"showLink\": true, \"linkText\": \"Export to plot.ly\"})});</script>"
      ],
      "text/vnd.plotly.v1+html": [
       "<div id=\"3ce2f0eb-9815-4a81-9cd5-6c8ec40ed2ad\" style=\"height: 525px; width: 100%;\" class=\"plotly-graph-div\"></div><script type=\"text/javascript\">require([\"plotly\"], function(Plotly) { window.PLOTLYENV=window.PLOTLYENV || {};window.PLOTLYENV.BASE_URL=\"https://plot.ly\";Plotly.newPlot(\"3ce2f0eb-9815-4a81-9cd5-6c8ec40ed2ad\", [{\"name\": \"\\u4e2a\\u6027\\u5316\\u62c6\\u5206\\u6570\", \"x\": [\"8-1\", \"8-2\", \"8-3\", \"8-4\", \"8-5\", \"9-1\", \"9-2\"], \"y\": [0.0, 0.0, 0.0, 0.0, 0.0, 1.0, 1.0], \"type\": \"scatter\", \"uid\": \"7aaca20c-c147-11e8-b05b-d89ef3991fb3\"}], {\"title\": \"\\u4e2a\\u6027\\u5316\\u62c6\\u5206\\u6570\\u5468\\u8d8b\\u52bf\\u56fe\", \"xaxis\": {\"mirror\": \"all\", \"nticks\": 20, \"showgrid\": true, \"showline\": true, \"title\": \"\\u5468\", \"zeroline\": true}, \"yaxis\": {\"mirror\": \"all\", \"nticks\": 20, \"showgrid\": true, \"showline\": true, \"title\": \"\\u4e2a\\u6027\\u5316\\u62c6\\u5206\\u6570\", \"zeroline\": true}}, {\"showLink\": true, \"linkText\": \"Export to plot.ly\"})});</script>"
      ]
     },
     "metadata": {},
     "output_type": "display_data"
    },
    {
     "data": {
      "application/vnd.plotly.v1+json": {
       "data": [
        {
         "name": "个性化拆分数",
         "type": "scatter",
         "uid": "7ab3a22e-c147-11e8-9750-d89ef3991fb3",
         "x": [
          "8",
          "9"
         ],
         "y": [
          0,
          2
         ]
        }
       ],
       "layout": {
        "title": "个性化拆分数月趋势图",
        "xaxis": {
         "mirror": "all",
         "nticks": 20,
         "showgrid": true,
         "showline": true,
         "title": "月",
         "zeroline": true
        },
        "yaxis": {
         "mirror": "all",
         "nticks": 20,
         "showgrid": true,
         "showline": true,
         "title": "个性化拆分数",
         "zeroline": true
        }
       }
      },
      "text/html": [
       "<div id=\"513c36a2-b1e9-4587-b764-8e4b88211366\" style=\"height: 525px; width: 100%;\" class=\"plotly-graph-div\"></div><script type=\"text/javascript\">require([\"plotly\"], function(Plotly) { window.PLOTLYENV=window.PLOTLYENV || {};window.PLOTLYENV.BASE_URL=\"https://plot.ly\";Plotly.newPlot(\"513c36a2-b1e9-4587-b764-8e4b88211366\", [{\"name\": \"\\u4e2a\\u6027\\u5316\\u62c6\\u5206\\u6570\", \"x\": [\"8\", \"9\"], \"y\": [0.0, 2.0], \"type\": \"scatter\", \"uid\": \"7ab3a22e-c147-11e8-9750-d89ef3991fb3\"}], {\"title\": \"\\u4e2a\\u6027\\u5316\\u62c6\\u5206\\u6570\\u6708\\u8d8b\\u52bf\\u56fe\", \"xaxis\": {\"mirror\": \"all\", \"nticks\": 20, \"showgrid\": true, \"showline\": true, \"title\": \"\\u6708\", \"zeroline\": true}, \"yaxis\": {\"mirror\": \"all\", \"nticks\": 20, \"showgrid\": true, \"showline\": true, \"title\": \"\\u4e2a\\u6027\\u5316\\u62c6\\u5206\\u6570\", \"zeroline\": true}}, {\"showLink\": true, \"linkText\": \"Export to plot.ly\"})});</script>"
      ],
      "text/vnd.plotly.v1+html": [
       "<div id=\"513c36a2-b1e9-4587-b764-8e4b88211366\" style=\"height: 525px; width: 100%;\" class=\"plotly-graph-div\"></div><script type=\"text/javascript\">require([\"plotly\"], function(Plotly) { window.PLOTLYENV=window.PLOTLYENV || {};window.PLOTLYENV.BASE_URL=\"https://plot.ly\";Plotly.newPlot(\"513c36a2-b1e9-4587-b764-8e4b88211366\", [{\"name\": \"\\u4e2a\\u6027\\u5316\\u62c6\\u5206\\u6570\", \"x\": [\"8\", \"9\"], \"y\": [0.0, 2.0], \"type\": \"scatter\", \"uid\": \"7ab3a22e-c147-11e8-9750-d89ef3991fb3\"}], {\"title\": \"\\u4e2a\\u6027\\u5316\\u62c6\\u5206\\u6570\\u6708\\u8d8b\\u52bf\\u56fe\", \"xaxis\": {\"mirror\": \"all\", \"nticks\": 20, \"showgrid\": true, \"showline\": true, \"title\": \"\\u6708\", \"zeroline\": true}, \"yaxis\": {\"mirror\": \"all\", \"nticks\": 20, \"showgrid\": true, \"showline\": true, \"title\": \"\\u4e2a\\u6027\\u5316\\u62c6\\u5206\\u6570\", \"zeroline\": true}}, {\"showLink\": true, \"linkText\": \"Export to plot.ly\"})});</script>"
      ]
     },
     "metadata": {},
     "output_type": "display_data"
    }
   ],
   "source": [
    "data_dict = {'个性化拆分数':['个性化拆分数']}\n",
    "myModule.plot( all_dict, data_dict, '人员' ,  'line' , all='all')"
   ]
  },
  {
   "cell_type": "markdown",
   "metadata": {},
   "source": [
    "### 流程异常\n",
    "* 拆分流程异常数，延期处理"
   ]
  },
  {
   "cell_type": "code",
   "execution_count": 46,
   "metadata": {},
   "outputs": [
    {
     "data": {
      "application/vnd.plotly.v1+json": {
       "data": [
        {
         "name": "拆分流程异常数",
         "type": "scatter",
         "uid": "7acd810c-c147-11e8-8610-d89ef3991fb3",
         "x": [
          "8-1",
          "8-2",
          "8-3",
          "8-4",
          "8-5",
          "9-1",
          "9-2"
         ],
         "y": [
          0,
          0,
          0,
          0,
          0,
          2,
          2
         ]
        },
        {
         "name": "处理延期",
         "type": "scatter",
         "uid": "7acd810d-c147-11e8-98e9-d89ef3991fb3",
         "x": [
          "8-1",
          "8-2",
          "8-3",
          "8-4",
          "8-5",
          "9-1",
          "9-2"
         ],
         "y": [
          0,
          0,
          0,
          0,
          0,
          2,
          2
         ]
        }
       ],
       "layout": {
        "title": "拆分流程异常数&处理延期周趋势图",
        "xaxis": {
         "mirror": "all",
         "nticks": 20,
         "showgrid": true,
         "showline": true,
         "title": "周",
         "zeroline": true
        },
        "yaxis": {
         "mirror": "all",
         "nticks": 20,
         "showgrid": true,
         "showline": true,
         "title": "拆分流程异常数&处理延期",
         "zeroline": true
        }
       }
      },
      "text/html": [
       "<div id=\"cb4425dd-f968-48b4-ac7b-8a79b1e09b52\" style=\"height: 525px; width: 100%;\" class=\"plotly-graph-div\"></div><script type=\"text/javascript\">require([\"plotly\"], function(Plotly) { window.PLOTLYENV=window.PLOTLYENV || {};window.PLOTLYENV.BASE_URL=\"https://plot.ly\";Plotly.newPlot(\"cb4425dd-f968-48b4-ac7b-8a79b1e09b52\", [{\"name\": \"\\u62c6\\u5206\\u6d41\\u7a0b\\u5f02\\u5e38\\u6570\", \"x\": [\"8-1\", \"8-2\", \"8-3\", \"8-4\", \"8-5\", \"9-1\", \"9-2\"], \"y\": [0.0, 0.0, 0.0, 0.0, 0.0, 2.0, 2.0], \"type\": \"scatter\", \"uid\": \"7acd810c-c147-11e8-8610-d89ef3991fb3\"}, {\"name\": \"\\u5904\\u7406\\u5ef6\\u671f\", \"x\": [\"8-1\", \"8-2\", \"8-3\", \"8-4\", \"8-5\", \"9-1\", \"9-2\"], \"y\": [0.0, 0.0, 0.0, 0.0, 0.0, 2.0, 2.0], \"type\": \"scatter\", \"uid\": \"7acd810d-c147-11e8-98e9-d89ef3991fb3\"}], {\"title\": \"\\u62c6\\u5206\\u6d41\\u7a0b\\u5f02\\u5e38\\u6570&\\u5904\\u7406\\u5ef6\\u671f\\u5468\\u8d8b\\u52bf\\u56fe\", \"xaxis\": {\"mirror\": \"all\", \"nticks\": 20, \"showgrid\": true, \"showline\": true, \"title\": \"\\u5468\", \"zeroline\": true}, \"yaxis\": {\"mirror\": \"all\", \"nticks\": 20, \"showgrid\": true, \"showline\": true, \"title\": \"\\u62c6\\u5206\\u6d41\\u7a0b\\u5f02\\u5e38\\u6570&\\u5904\\u7406\\u5ef6\\u671f\", \"zeroline\": true}}, {\"showLink\": true, \"linkText\": \"Export to plot.ly\"})});</script>"
      ],
      "text/vnd.plotly.v1+html": [
       "<div id=\"cb4425dd-f968-48b4-ac7b-8a79b1e09b52\" style=\"height: 525px; width: 100%;\" class=\"plotly-graph-div\"></div><script type=\"text/javascript\">require([\"plotly\"], function(Plotly) { window.PLOTLYENV=window.PLOTLYENV || {};window.PLOTLYENV.BASE_URL=\"https://plot.ly\";Plotly.newPlot(\"cb4425dd-f968-48b4-ac7b-8a79b1e09b52\", [{\"name\": \"\\u62c6\\u5206\\u6d41\\u7a0b\\u5f02\\u5e38\\u6570\", \"x\": [\"8-1\", \"8-2\", \"8-3\", \"8-4\", \"8-5\", \"9-1\", \"9-2\"], \"y\": [0.0, 0.0, 0.0, 0.0, 0.0, 2.0, 2.0], \"type\": \"scatter\", \"uid\": \"7acd810c-c147-11e8-8610-d89ef3991fb3\"}, {\"name\": \"\\u5904\\u7406\\u5ef6\\u671f\", \"x\": [\"8-1\", \"8-2\", \"8-3\", \"8-4\", \"8-5\", \"9-1\", \"9-2\"], \"y\": [0.0, 0.0, 0.0, 0.0, 0.0, 2.0, 2.0], \"type\": \"scatter\", \"uid\": \"7acd810d-c147-11e8-98e9-d89ef3991fb3\"}], {\"title\": \"\\u62c6\\u5206\\u6d41\\u7a0b\\u5f02\\u5e38\\u6570&\\u5904\\u7406\\u5ef6\\u671f\\u5468\\u8d8b\\u52bf\\u56fe\", \"xaxis\": {\"mirror\": \"all\", \"nticks\": 20, \"showgrid\": true, \"showline\": true, \"title\": \"\\u5468\", \"zeroline\": true}, \"yaxis\": {\"mirror\": \"all\", \"nticks\": 20, \"showgrid\": true, \"showline\": true, \"title\": \"\\u62c6\\u5206\\u6d41\\u7a0b\\u5f02\\u5e38\\u6570&\\u5904\\u7406\\u5ef6\\u671f\", \"zeroline\": true}}, {\"showLink\": true, \"linkText\": \"Export to plot.ly\"})});</script>"
      ]
     },
     "metadata": {},
     "output_type": "display_data"
    },
    {
     "data": {
      "application/vnd.plotly.v1+json": {
       "data": [
        {
         "name": "拆分流程异常数",
         "type": "scatter",
         "uid": "7ad5e0ac-c147-11e8-bb39-d89ef3991fb3",
         "x": [
          "8",
          "9"
         ],
         "y": [
          0,
          4
         ]
        },
        {
         "name": "处理延期",
         "type": "scatter",
         "uid": "7ad5e0ad-c147-11e8-827a-d89ef3991fb3",
         "x": [
          "8",
          "9"
         ],
         "y": [
          0,
          4
         ]
        }
       ],
       "layout": {
        "title": "拆分流程异常数&处理延期月趋势图",
        "xaxis": {
         "mirror": "all",
         "nticks": 20,
         "showgrid": true,
         "showline": true,
         "title": "月",
         "zeroline": true
        },
        "yaxis": {
         "mirror": "all",
         "nticks": 20,
         "showgrid": true,
         "showline": true,
         "title": "拆分流程异常数&处理延期",
         "zeroline": true
        }
       }
      },
      "text/html": [
       "<div id=\"d98f0586-bcd7-4e92-87c7-fe3b615fbd50\" style=\"height: 525px; width: 100%;\" class=\"plotly-graph-div\"></div><script type=\"text/javascript\">require([\"plotly\"], function(Plotly) { window.PLOTLYENV=window.PLOTLYENV || {};window.PLOTLYENV.BASE_URL=\"https://plot.ly\";Plotly.newPlot(\"d98f0586-bcd7-4e92-87c7-fe3b615fbd50\", [{\"name\": \"\\u62c6\\u5206\\u6d41\\u7a0b\\u5f02\\u5e38\\u6570\", \"x\": [\"8\", \"9\"], \"y\": [0.0, 4.0], \"type\": \"scatter\", \"uid\": \"7ad5e0ac-c147-11e8-bb39-d89ef3991fb3\"}, {\"name\": \"\\u5904\\u7406\\u5ef6\\u671f\", \"x\": [\"8\", \"9\"], \"y\": [0.0, 4.0], \"type\": \"scatter\", \"uid\": \"7ad5e0ad-c147-11e8-827a-d89ef3991fb3\"}], {\"title\": \"\\u62c6\\u5206\\u6d41\\u7a0b\\u5f02\\u5e38\\u6570&\\u5904\\u7406\\u5ef6\\u671f\\u6708\\u8d8b\\u52bf\\u56fe\", \"xaxis\": {\"mirror\": \"all\", \"nticks\": 20, \"showgrid\": true, \"showline\": true, \"title\": \"\\u6708\", \"zeroline\": true}, \"yaxis\": {\"mirror\": \"all\", \"nticks\": 20, \"showgrid\": true, \"showline\": true, \"title\": \"\\u62c6\\u5206\\u6d41\\u7a0b\\u5f02\\u5e38\\u6570&\\u5904\\u7406\\u5ef6\\u671f\", \"zeroline\": true}}, {\"showLink\": true, \"linkText\": \"Export to plot.ly\"})});</script>"
      ],
      "text/vnd.plotly.v1+html": [
       "<div id=\"d98f0586-bcd7-4e92-87c7-fe3b615fbd50\" style=\"height: 525px; width: 100%;\" class=\"plotly-graph-div\"></div><script type=\"text/javascript\">require([\"plotly\"], function(Plotly) { window.PLOTLYENV=window.PLOTLYENV || {};window.PLOTLYENV.BASE_URL=\"https://plot.ly\";Plotly.newPlot(\"d98f0586-bcd7-4e92-87c7-fe3b615fbd50\", [{\"name\": \"\\u62c6\\u5206\\u6d41\\u7a0b\\u5f02\\u5e38\\u6570\", \"x\": [\"8\", \"9\"], \"y\": [0.0, 4.0], \"type\": \"scatter\", \"uid\": \"7ad5e0ac-c147-11e8-bb39-d89ef3991fb3\"}, {\"name\": \"\\u5904\\u7406\\u5ef6\\u671f\", \"x\": [\"8\", \"9\"], \"y\": [0.0, 4.0], \"type\": \"scatter\", \"uid\": \"7ad5e0ad-c147-11e8-827a-d89ef3991fb3\"}], {\"title\": \"\\u62c6\\u5206\\u6d41\\u7a0b\\u5f02\\u5e38\\u6570&\\u5904\\u7406\\u5ef6\\u671f\\u6708\\u8d8b\\u52bf\\u56fe\", \"xaxis\": {\"mirror\": \"all\", \"nticks\": 20, \"showgrid\": true, \"showline\": true, \"title\": \"\\u6708\", \"zeroline\": true}, \"yaxis\": {\"mirror\": \"all\", \"nticks\": 20, \"showgrid\": true, \"showline\": true, \"title\": \"\\u62c6\\u5206\\u6d41\\u7a0b\\u5f02\\u5e38\\u6570&\\u5904\\u7406\\u5ef6\\u671f\", \"zeroline\": true}}, {\"showLink\": true, \"linkText\": \"Export to plot.ly\"})});</script>"
      ]
     },
     "metadata": {},
     "output_type": "display_data"
    }
   ],
   "source": [
    "data_dict = {'拆分流程异常数':['拆分流程异常数'], '处理延期':['处理延期']}\n",
    "myModule.plot( all_dict, data_dict, '人员' ,  'line' , all='all')"
   ]
  },
  {
   "cell_type": "markdown",
   "metadata": {},
   "source": [
    "### 非流程异常\n",
    "* 测序异常，外来index错误，自建库index错误，lims系统错误"
   ]
  },
  {
   "cell_type": "code",
   "execution_count": 47,
   "metadata": {},
   "outputs": [
    {
     "data": {
      "application/vnd.plotly.v1+json": {
       "data": [
        {
         "name": "测序异常",
         "type": "scatter",
         "uid": "7af45002-c147-11e8-8766-d89ef3991fb3",
         "x": [
          "8-1",
          "8-2",
          "8-3",
          "8-4",
          "8-5",
          "9-1",
          "9-2"
         ],
         "y": [
          0,
          0,
          0,
          0,
          0,
          0,
          0
         ]
        },
        {
         "name": "外来Index错误",
         "type": "scatter",
         "uid": "7af477d2-c147-11e8-93f6-d89ef3991fb3",
         "x": [
          "8-1",
          "8-2",
          "8-3",
          "8-4",
          "8-5",
          "9-1",
          "9-2"
         ],
         "y": [
          0,
          0,
          0,
          0,
          0,
          0,
          0
         ]
        },
        {
         "name": "自建库Index错误",
         "type": "scatter",
         "uid": "7af477d3-c147-11e8-a5c8-d89ef3991fb3",
         "x": [
          "8-1",
          "8-2",
          "8-3",
          "8-4",
          "8-5",
          "9-1",
          "9-2"
         ],
         "y": [
          0,
          0,
          0,
          0,
          0,
          0,
          0
         ]
        },
        {
         "name": "lims系统错误",
         "type": "scatter",
         "uid": "7af477d4-c147-11e8-94d7-d89ef3991fb3",
         "x": [
          "8-1",
          "8-2",
          "8-3",
          "8-4",
          "8-5",
          "9-1",
          "9-2"
         ],
         "y": [
          0,
          0,
          0,
          0,
          0,
          0,
          0
         ]
        }
       ],
       "layout": {
        "title": "测序异常&外来Index错误&自建库Index错误&lims系统错误周趋势图",
        "xaxis": {
         "mirror": "all",
         "nticks": 20,
         "showgrid": true,
         "showline": true,
         "title": "周",
         "zeroline": true
        },
        "yaxis": {
         "mirror": "all",
         "nticks": 20,
         "showgrid": true,
         "showline": true,
         "title": "测序异常&外来Index错误&自建库Index错误&lims系统错误",
         "zeroline": true
        }
       }
      },
      "text/html": [
       "<div id=\"9612e679-b3f3-46bc-9cd5-2246fdf470c0\" style=\"height: 525px; width: 100%;\" class=\"plotly-graph-div\"></div><script type=\"text/javascript\">require([\"plotly\"], function(Plotly) { window.PLOTLYENV=window.PLOTLYENV || {};window.PLOTLYENV.BASE_URL=\"https://plot.ly\";Plotly.newPlot(\"9612e679-b3f3-46bc-9cd5-2246fdf470c0\", [{\"name\": \"\\u6d4b\\u5e8f\\u5f02\\u5e38\", \"x\": [\"8-1\", \"8-2\", \"8-3\", \"8-4\", \"8-5\", \"9-1\", \"9-2\"], \"y\": [0.0, 0.0, 0.0, 0.0, 0.0, 0.0, 0.0], \"type\": \"scatter\", \"uid\": \"7af45002-c147-11e8-8766-d89ef3991fb3\"}, {\"name\": \"\\u5916\\u6765Index\\u9519\\u8bef\", \"x\": [\"8-1\", \"8-2\", \"8-3\", \"8-4\", \"8-5\", \"9-1\", \"9-2\"], \"y\": [0.0, 0.0, 0.0, 0.0, 0.0, 0.0, 0.0], \"type\": \"scatter\", \"uid\": \"7af477d2-c147-11e8-93f6-d89ef3991fb3\"}, {\"name\": \"\\u81ea\\u5efa\\u5e93Index\\u9519\\u8bef\", \"x\": [\"8-1\", \"8-2\", \"8-3\", \"8-4\", \"8-5\", \"9-1\", \"9-2\"], \"y\": [0.0, 0.0, 0.0, 0.0, 0.0, 0.0, 0.0], \"type\": \"scatter\", \"uid\": \"7af477d3-c147-11e8-a5c8-d89ef3991fb3\"}, {\"name\": \"lims\\u7cfb\\u7edf\\u9519\\u8bef\", \"x\": [\"8-1\", \"8-2\", \"8-3\", \"8-4\", \"8-5\", \"9-1\", \"9-2\"], \"y\": [0.0, 0.0, 0.0, 0.0, 0.0, 0.0, 0.0], \"type\": \"scatter\", \"uid\": \"7af477d4-c147-11e8-94d7-d89ef3991fb3\"}], {\"title\": \"\\u6d4b\\u5e8f\\u5f02\\u5e38&\\u5916\\u6765Index\\u9519\\u8bef&\\u81ea\\u5efa\\u5e93Index\\u9519\\u8bef&lims\\u7cfb\\u7edf\\u9519\\u8bef\\u5468\\u8d8b\\u52bf\\u56fe\", \"xaxis\": {\"mirror\": \"all\", \"nticks\": 20, \"showgrid\": true, \"showline\": true, \"title\": \"\\u5468\", \"zeroline\": true}, \"yaxis\": {\"mirror\": \"all\", \"nticks\": 20, \"showgrid\": true, \"showline\": true, \"title\": \"\\u6d4b\\u5e8f\\u5f02\\u5e38&\\u5916\\u6765Index\\u9519\\u8bef&\\u81ea\\u5efa\\u5e93Index\\u9519\\u8bef&lims\\u7cfb\\u7edf\\u9519\\u8bef\", \"zeroline\": true}}, {\"showLink\": true, \"linkText\": \"Export to plot.ly\"})});</script>"
      ],
      "text/vnd.plotly.v1+html": [
       "<div id=\"9612e679-b3f3-46bc-9cd5-2246fdf470c0\" style=\"height: 525px; width: 100%;\" class=\"plotly-graph-div\"></div><script type=\"text/javascript\">require([\"plotly\"], function(Plotly) { window.PLOTLYENV=window.PLOTLYENV || {};window.PLOTLYENV.BASE_URL=\"https://plot.ly\";Plotly.newPlot(\"9612e679-b3f3-46bc-9cd5-2246fdf470c0\", [{\"name\": \"\\u6d4b\\u5e8f\\u5f02\\u5e38\", \"x\": [\"8-1\", \"8-2\", \"8-3\", \"8-4\", \"8-5\", \"9-1\", \"9-2\"], \"y\": [0.0, 0.0, 0.0, 0.0, 0.0, 0.0, 0.0], \"type\": \"scatter\", \"uid\": \"7af45002-c147-11e8-8766-d89ef3991fb3\"}, {\"name\": \"\\u5916\\u6765Index\\u9519\\u8bef\", \"x\": [\"8-1\", \"8-2\", \"8-3\", \"8-4\", \"8-5\", \"9-1\", \"9-2\"], \"y\": [0.0, 0.0, 0.0, 0.0, 0.0, 0.0, 0.0], \"type\": \"scatter\", \"uid\": \"7af477d2-c147-11e8-93f6-d89ef3991fb3\"}, {\"name\": \"\\u81ea\\u5efa\\u5e93Index\\u9519\\u8bef\", \"x\": [\"8-1\", \"8-2\", \"8-3\", \"8-4\", \"8-5\", \"9-1\", \"9-2\"], \"y\": [0.0, 0.0, 0.0, 0.0, 0.0, 0.0, 0.0], \"type\": \"scatter\", \"uid\": \"7af477d3-c147-11e8-a5c8-d89ef3991fb3\"}, {\"name\": \"lims\\u7cfb\\u7edf\\u9519\\u8bef\", \"x\": [\"8-1\", \"8-2\", \"8-3\", \"8-4\", \"8-5\", \"9-1\", \"9-2\"], \"y\": [0.0, 0.0, 0.0, 0.0, 0.0, 0.0, 0.0], \"type\": \"scatter\", \"uid\": \"7af477d4-c147-11e8-94d7-d89ef3991fb3\"}], {\"title\": \"\\u6d4b\\u5e8f\\u5f02\\u5e38&\\u5916\\u6765Index\\u9519\\u8bef&\\u81ea\\u5efa\\u5e93Index\\u9519\\u8bef&lims\\u7cfb\\u7edf\\u9519\\u8bef\\u5468\\u8d8b\\u52bf\\u56fe\", \"xaxis\": {\"mirror\": \"all\", \"nticks\": 20, \"showgrid\": true, \"showline\": true, \"title\": \"\\u5468\", \"zeroline\": true}, \"yaxis\": {\"mirror\": \"all\", \"nticks\": 20, \"showgrid\": true, \"showline\": true, \"title\": \"\\u6d4b\\u5e8f\\u5f02\\u5e38&\\u5916\\u6765Index\\u9519\\u8bef&\\u81ea\\u5efa\\u5e93Index\\u9519\\u8bef&lims\\u7cfb\\u7edf\\u9519\\u8bef\", \"zeroline\": true}}, {\"showLink\": true, \"linkText\": \"Export to plot.ly\"})});</script>"
      ]
     },
     "metadata": {},
     "output_type": "display_data"
    },
    {
     "data": {
      "application/vnd.plotly.v1+json": {
       "data": [
        {
         "name": "测序异常",
         "type": "scatter",
         "uid": "7b08b4b4-c147-11e8-8a21-d89ef3991fb3",
         "x": [
          "8",
          "9"
         ],
         "y": [
          0,
          0
         ]
        },
        {
         "name": "外来Index错误",
         "type": "scatter",
         "uid": "7b08b4b5-c147-11e8-ade6-d89ef3991fb3",
         "x": [
          "8",
          "9"
         ],
         "y": [
          0,
          0
         ]
        },
        {
         "name": "自建库Index错误",
         "type": "scatter",
         "uid": "7b08b4b6-c147-11e8-94d3-d89ef3991fb3",
         "x": [
          "8",
          "9"
         ],
         "y": [
          0,
          0
         ]
        },
        {
         "name": "lims系统错误",
         "type": "scatter",
         "uid": "7b08b4b7-c147-11e8-b673-d89ef3991fb3",
         "x": [
          "8",
          "9"
         ],
         "y": [
          0,
          0
         ]
        }
       ],
       "layout": {
        "title": "测序异常&外来Index错误&自建库Index错误&lims系统错误月趋势图",
        "xaxis": {
         "mirror": "all",
         "nticks": 20,
         "showgrid": true,
         "showline": true,
         "title": "月",
         "zeroline": true
        },
        "yaxis": {
         "mirror": "all",
         "nticks": 20,
         "showgrid": true,
         "showline": true,
         "title": "测序异常&外来Index错误&自建库Index错误&lims系统错误",
         "zeroline": true
        }
       }
      },
      "text/html": [
       "<div id=\"74c144b2-20b8-4026-b71f-8fe2c6299b4f\" style=\"height: 525px; width: 100%;\" class=\"plotly-graph-div\"></div><script type=\"text/javascript\">require([\"plotly\"], function(Plotly) { window.PLOTLYENV=window.PLOTLYENV || {};window.PLOTLYENV.BASE_URL=\"https://plot.ly\";Plotly.newPlot(\"74c144b2-20b8-4026-b71f-8fe2c6299b4f\", [{\"name\": \"\\u6d4b\\u5e8f\\u5f02\\u5e38\", \"x\": [\"8\", \"9\"], \"y\": [0.0, 0.0], \"type\": \"scatter\", \"uid\": \"7b08b4b4-c147-11e8-8a21-d89ef3991fb3\"}, {\"name\": \"\\u5916\\u6765Index\\u9519\\u8bef\", \"x\": [\"8\", \"9\"], \"y\": [0.0, 0.0], \"type\": \"scatter\", \"uid\": \"7b08b4b5-c147-11e8-ade6-d89ef3991fb3\"}, {\"name\": \"\\u81ea\\u5efa\\u5e93Index\\u9519\\u8bef\", \"x\": [\"8\", \"9\"], \"y\": [0.0, 0.0], \"type\": \"scatter\", \"uid\": \"7b08b4b6-c147-11e8-94d3-d89ef3991fb3\"}, {\"name\": \"lims\\u7cfb\\u7edf\\u9519\\u8bef\", \"x\": [\"8\", \"9\"], \"y\": [0.0, 0.0], \"type\": \"scatter\", \"uid\": \"7b08b4b7-c147-11e8-b673-d89ef3991fb3\"}], {\"title\": \"\\u6d4b\\u5e8f\\u5f02\\u5e38&\\u5916\\u6765Index\\u9519\\u8bef&\\u81ea\\u5efa\\u5e93Index\\u9519\\u8bef&lims\\u7cfb\\u7edf\\u9519\\u8bef\\u6708\\u8d8b\\u52bf\\u56fe\", \"xaxis\": {\"mirror\": \"all\", \"nticks\": 20, \"showgrid\": true, \"showline\": true, \"title\": \"\\u6708\", \"zeroline\": true}, \"yaxis\": {\"mirror\": \"all\", \"nticks\": 20, \"showgrid\": true, \"showline\": true, \"title\": \"\\u6d4b\\u5e8f\\u5f02\\u5e38&\\u5916\\u6765Index\\u9519\\u8bef&\\u81ea\\u5efa\\u5e93Index\\u9519\\u8bef&lims\\u7cfb\\u7edf\\u9519\\u8bef\", \"zeroline\": true}}, {\"showLink\": true, \"linkText\": \"Export to plot.ly\"})});</script>"
      ],
      "text/vnd.plotly.v1+html": [
       "<div id=\"74c144b2-20b8-4026-b71f-8fe2c6299b4f\" style=\"height: 525px; width: 100%;\" class=\"plotly-graph-div\"></div><script type=\"text/javascript\">require([\"plotly\"], function(Plotly) { window.PLOTLYENV=window.PLOTLYENV || {};window.PLOTLYENV.BASE_URL=\"https://plot.ly\";Plotly.newPlot(\"74c144b2-20b8-4026-b71f-8fe2c6299b4f\", [{\"name\": \"\\u6d4b\\u5e8f\\u5f02\\u5e38\", \"x\": [\"8\", \"9\"], \"y\": [0.0, 0.0], \"type\": \"scatter\", \"uid\": \"7b08b4b4-c147-11e8-8a21-d89ef3991fb3\"}, {\"name\": \"\\u5916\\u6765Index\\u9519\\u8bef\", \"x\": [\"8\", \"9\"], \"y\": [0.0, 0.0], \"type\": \"scatter\", \"uid\": \"7b08b4b5-c147-11e8-ade6-d89ef3991fb3\"}, {\"name\": \"\\u81ea\\u5efa\\u5e93Index\\u9519\\u8bef\", \"x\": [\"8\", \"9\"], \"y\": [0.0, 0.0], \"type\": \"scatter\", \"uid\": \"7b08b4b6-c147-11e8-94d3-d89ef3991fb3\"}, {\"name\": \"lims\\u7cfb\\u7edf\\u9519\\u8bef\", \"x\": [\"8\", \"9\"], \"y\": [0.0, 0.0], \"type\": \"scatter\", \"uid\": \"7b08b4b7-c147-11e8-b673-d89ef3991fb3\"}], {\"title\": \"\\u6d4b\\u5e8f\\u5f02\\u5e38&\\u5916\\u6765Index\\u9519\\u8bef&\\u81ea\\u5efa\\u5e93Index\\u9519\\u8bef&lims\\u7cfb\\u7edf\\u9519\\u8bef\\u6708\\u8d8b\\u52bf\\u56fe\", \"xaxis\": {\"mirror\": \"all\", \"nticks\": 20, \"showgrid\": true, \"showline\": true, \"title\": \"\\u6708\", \"zeroline\": true}, \"yaxis\": {\"mirror\": \"all\", \"nticks\": 20, \"showgrid\": true, \"showline\": true, \"title\": \"\\u6d4b\\u5e8f\\u5f02\\u5e38&\\u5916\\u6765Index\\u9519\\u8bef&\\u81ea\\u5efa\\u5e93Index\\u9519\\u8bef&lims\\u7cfb\\u7edf\\u9519\\u8bef\", \"zeroline\": true}}, {\"showLink\": true, \"linkText\": \"Export to plot.ly\"})});</script>"
      ]
     },
     "metadata": {},
     "output_type": "display_data"
    }
   ],
   "source": [
    "data_dict = {'测序异常':['测序异常'], '外来Index错误':['外来Index错误'], '自建库Index错误':['自建库Index错误'], \n",
    "             'lims系统错误':['lims系统错误']}\n",
    "myModule.plot( all_dict, data_dict, '人员' ,  'line' , all='all')"
   ]
  },
  {
   "cell_type": "markdown",
   "metadata": {},
   "source": [
    "# 过滤项目情况"
   ]
  },
  {
   "cell_type": "code",
   "execution_count": 48,
   "metadata": {},
   "outputs": [],
   "source": [
    "all_files , title = myModule.get_title(pathway, 0 )##给路径\n",
    "all_dict = myModule.read_xlsx(all_files, 0 ) ## read all files"
   ]
  },
  {
   "cell_type": "markdown",
   "metadata": {},
   "source": [
    "## 整体情况"
   ]
  },
  {
   "cell_type": "markdown",
   "metadata": {},
   "source": [
    "### 产能"
   ]
  },
  {
   "cell_type": "markdown",
   "metadata": {},
   "source": [
    "#### 下机批次数和下机项目数"
   ]
  },
  {
   "cell_type": "code",
   "execution_count": 49,
   "metadata": {},
   "outputs": [
    {
     "data": {
      "application/vnd.plotly.v1+json": {
       "data": [
        {
         "name": "下机批次数",
         "type": "scatter",
         "uid": "7b42132e-c147-11e8-b50b-d89ef3991fb3",
         "x": [
          "8-1",
          "8-2",
          "8-3",
          "8-4",
          "8-5",
          "9-1",
          "9-2"
         ],
         "y": [
          6,
          0,
          5,
          24,
          23,
          7,
          12
         ]
        },
        {
         "name": "下机项目数",
         "type": "scatter",
         "uid": "7b42132f-c147-11e8-8571-d89ef3991fb3",
         "x": [
          "8-1",
          "8-2",
          "8-3",
          "8-4",
          "8-5",
          "9-1",
          "9-2"
         ],
         "y": [
          6,
          0,
          5,
          20,
          21,
          6,
          12
         ]
        }
       ],
       "layout": {
        "title": "下机批次数&下机项目数周趋势图",
        "xaxis": {
         "mirror": "all",
         "nticks": 20,
         "showgrid": true,
         "showline": true,
         "title": "周",
         "zeroline": true
        },
        "yaxis": {
         "mirror": "all",
         "nticks": 20,
         "showgrid": true,
         "showline": true,
         "title": "下机批次数&下机项目数",
         "zeroline": true
        }
       }
      },
      "text/html": [
       "<div id=\"66071169-67a7-460c-bf5f-d1a9df311cff\" style=\"height: 525px; width: 100%;\" class=\"plotly-graph-div\"></div><script type=\"text/javascript\">require([\"plotly\"], function(Plotly) { window.PLOTLYENV=window.PLOTLYENV || {};window.PLOTLYENV.BASE_URL=\"https://plot.ly\";Plotly.newPlot(\"66071169-67a7-460c-bf5f-d1a9df311cff\", [{\"name\": \"\\u4e0b\\u673a\\u6279\\u6b21\\u6570\", \"x\": [\"8-1\", \"8-2\", \"8-3\", \"8-4\", \"8-5\", \"9-1\", \"9-2\"], \"y\": [6.0, 0.0, 5.0, 24.0, 23.0, 7.0, 12.0], \"type\": \"scatter\", \"uid\": \"7b42132e-c147-11e8-b50b-d89ef3991fb3\"}, {\"name\": \"\\u4e0b\\u673a\\u9879\\u76ee\\u6570\", \"x\": [\"8-1\", \"8-2\", \"8-3\", \"8-4\", \"8-5\", \"9-1\", \"9-2\"], \"y\": [6.0, 0.0, 5.0, 20.0, 21.0, 6.0, 12.0], \"type\": \"scatter\", \"uid\": \"7b42132f-c147-11e8-8571-d89ef3991fb3\"}], {\"title\": \"\\u4e0b\\u673a\\u6279\\u6b21\\u6570&\\u4e0b\\u673a\\u9879\\u76ee\\u6570\\u5468\\u8d8b\\u52bf\\u56fe\", \"xaxis\": {\"mirror\": \"all\", \"nticks\": 20, \"showgrid\": true, \"showline\": true, \"title\": \"\\u5468\", \"zeroline\": true}, \"yaxis\": {\"mirror\": \"all\", \"nticks\": 20, \"showgrid\": true, \"showline\": true, \"title\": \"\\u4e0b\\u673a\\u6279\\u6b21\\u6570&\\u4e0b\\u673a\\u9879\\u76ee\\u6570\", \"zeroline\": true}}, {\"showLink\": true, \"linkText\": \"Export to plot.ly\"})});</script>"
      ],
      "text/vnd.plotly.v1+html": [
       "<div id=\"66071169-67a7-460c-bf5f-d1a9df311cff\" style=\"height: 525px; width: 100%;\" class=\"plotly-graph-div\"></div><script type=\"text/javascript\">require([\"plotly\"], function(Plotly) { window.PLOTLYENV=window.PLOTLYENV || {};window.PLOTLYENV.BASE_URL=\"https://plot.ly\";Plotly.newPlot(\"66071169-67a7-460c-bf5f-d1a9df311cff\", [{\"name\": \"\\u4e0b\\u673a\\u6279\\u6b21\\u6570\", \"x\": [\"8-1\", \"8-2\", \"8-3\", \"8-4\", \"8-5\", \"9-1\", \"9-2\"], \"y\": [6.0, 0.0, 5.0, 24.0, 23.0, 7.0, 12.0], \"type\": \"scatter\", \"uid\": \"7b42132e-c147-11e8-b50b-d89ef3991fb3\"}, {\"name\": \"\\u4e0b\\u673a\\u9879\\u76ee\\u6570\", \"x\": [\"8-1\", \"8-2\", \"8-3\", \"8-4\", \"8-5\", \"9-1\", \"9-2\"], \"y\": [6.0, 0.0, 5.0, 20.0, 21.0, 6.0, 12.0], \"type\": \"scatter\", \"uid\": \"7b42132f-c147-11e8-8571-d89ef3991fb3\"}], {\"title\": \"\\u4e0b\\u673a\\u6279\\u6b21\\u6570&\\u4e0b\\u673a\\u9879\\u76ee\\u6570\\u5468\\u8d8b\\u52bf\\u56fe\", \"xaxis\": {\"mirror\": \"all\", \"nticks\": 20, \"showgrid\": true, \"showline\": true, \"title\": \"\\u5468\", \"zeroline\": true}, \"yaxis\": {\"mirror\": \"all\", \"nticks\": 20, \"showgrid\": true, \"showline\": true, \"title\": \"\\u4e0b\\u673a\\u6279\\u6b21\\u6570&\\u4e0b\\u673a\\u9879\\u76ee\\u6570\", \"zeroline\": true}}, {\"showLink\": true, \"linkText\": \"Export to plot.ly\"})});</script>"
      ]
     },
     "metadata": {},
     "output_type": "display_data"
    },
    {
     "data": {
      "application/vnd.plotly.v1+json": {
       "data": [
        {
         "name": "下机批次数",
         "type": "scatter",
         "uid": "7b4abfc2-c147-11e8-915c-d89ef3991fb3",
         "x": [
          "8",
          "9"
         ],
         "y": [
          58,
          19
         ]
        },
        {
         "name": "下机项目数",
         "type": "scatter",
         "uid": "7b4abfc3-c147-11e8-8b69-d89ef3991fb3",
         "x": [
          "8",
          "9"
         ],
         "y": [
          52,
          18
         ]
        }
       ],
       "layout": {
        "title": "下机批次数&下机项目数月趋势图",
        "xaxis": {
         "mirror": "all",
         "nticks": 20,
         "showgrid": true,
         "showline": true,
         "title": "月",
         "zeroline": true
        },
        "yaxis": {
         "mirror": "all",
         "nticks": 20,
         "showgrid": true,
         "showline": true,
         "title": "下机批次数&下机项目数",
         "zeroline": true
        }
       }
      },
      "text/html": [
       "<div id=\"0decc669-2a09-441a-973f-c3026b88eff2\" style=\"height: 525px; width: 100%;\" class=\"plotly-graph-div\"></div><script type=\"text/javascript\">require([\"plotly\"], function(Plotly) { window.PLOTLYENV=window.PLOTLYENV || {};window.PLOTLYENV.BASE_URL=\"https://plot.ly\";Plotly.newPlot(\"0decc669-2a09-441a-973f-c3026b88eff2\", [{\"name\": \"\\u4e0b\\u673a\\u6279\\u6b21\\u6570\", \"x\": [\"8\", \"9\"], \"y\": [58.0, 19.0], \"type\": \"scatter\", \"uid\": \"7b4abfc2-c147-11e8-915c-d89ef3991fb3\"}, {\"name\": \"\\u4e0b\\u673a\\u9879\\u76ee\\u6570\", \"x\": [\"8\", \"9\"], \"y\": [52.0, 18.0], \"type\": \"scatter\", \"uid\": \"7b4abfc3-c147-11e8-8b69-d89ef3991fb3\"}], {\"title\": \"\\u4e0b\\u673a\\u6279\\u6b21\\u6570&\\u4e0b\\u673a\\u9879\\u76ee\\u6570\\u6708\\u8d8b\\u52bf\\u56fe\", \"xaxis\": {\"mirror\": \"all\", \"nticks\": 20, \"showgrid\": true, \"showline\": true, \"title\": \"\\u6708\", \"zeroline\": true}, \"yaxis\": {\"mirror\": \"all\", \"nticks\": 20, \"showgrid\": true, \"showline\": true, \"title\": \"\\u4e0b\\u673a\\u6279\\u6b21\\u6570&\\u4e0b\\u673a\\u9879\\u76ee\\u6570\", \"zeroline\": true}}, {\"showLink\": true, \"linkText\": \"Export to plot.ly\"})});</script>"
      ],
      "text/vnd.plotly.v1+html": [
       "<div id=\"0decc669-2a09-441a-973f-c3026b88eff2\" style=\"height: 525px; width: 100%;\" class=\"plotly-graph-div\"></div><script type=\"text/javascript\">require([\"plotly\"], function(Plotly) { window.PLOTLYENV=window.PLOTLYENV || {};window.PLOTLYENV.BASE_URL=\"https://plot.ly\";Plotly.newPlot(\"0decc669-2a09-441a-973f-c3026b88eff2\", [{\"name\": \"\\u4e0b\\u673a\\u6279\\u6b21\\u6570\", \"x\": [\"8\", \"9\"], \"y\": [58.0, 19.0], \"type\": \"scatter\", \"uid\": \"7b4abfc2-c147-11e8-915c-d89ef3991fb3\"}, {\"name\": \"\\u4e0b\\u673a\\u9879\\u76ee\\u6570\", \"x\": [\"8\", \"9\"], \"y\": [52.0, 18.0], \"type\": \"scatter\", \"uid\": \"7b4abfc3-c147-11e8-8b69-d89ef3991fb3\"}], {\"title\": \"\\u4e0b\\u673a\\u6279\\u6b21\\u6570&\\u4e0b\\u673a\\u9879\\u76ee\\u6570\\u6708\\u8d8b\\u52bf\\u56fe\", \"xaxis\": {\"mirror\": \"all\", \"nticks\": 20, \"showgrid\": true, \"showline\": true, \"title\": \"\\u6708\", \"zeroline\": true}, \"yaxis\": {\"mirror\": \"all\", \"nticks\": 20, \"showgrid\": true, \"showline\": true, \"title\": \"\\u4e0b\\u673a\\u6279\\u6b21\\u6570&\\u4e0b\\u673a\\u9879\\u76ee\\u6570\", \"zeroline\": true}}, {\"showLink\": true, \"linkText\": \"Export to plot.ly\"})});</script>"
      ]
     },
     "metadata": {},
     "output_type": "display_data"
    }
   ],
   "source": [
    "data_dict = {'下机批次数':['下机批次数'],'下机项目数':['下机项目数']}\n",
    "myModule.plot( all_dict, data_dict, '人员' ,  'line', all='all' )"
   ]
  },
  {
   "cell_type": "markdown",
   "metadata": {},
   "source": [
    "#### 下机批次比"
   ]
  },
  {
   "cell_type": "code",
   "execution_count": 50,
   "metadata": {},
   "outputs": [
    {
     "data": {
      "application/vnd.plotly.v1+json": {
       "data": [
        {
         "name": "下机批次比",
         "type": "scatter",
         "uid": "7b7202f6-c147-11e8-bf40-d89ef3991fb3",
         "x": [
          "8-1",
          "8-2",
          "8-3",
          "8-4",
          "8-5",
          "9-1",
          "9-2"
         ],
         "y": [
          1,
          null,
          1,
          1.2,
          1.0952380952380953,
          1.1666666666666667,
          1
         ]
        }
       ],
       "layout": {
        "title": "下机批次比周趋势图",
        "xaxis": {
         "mirror": "all",
         "nticks": 20,
         "showgrid": true,
         "showline": true,
         "title": "周",
         "zeroline": true
        },
        "yaxis": {
         "mirror": "all",
         "nticks": 20,
         "showgrid": true,
         "showline": true,
         "title": "下机批次比",
         "zeroline": true
        }
       }
      },
      "text/html": [
       "<div id=\"a4db1e22-ddfd-4c9e-afd6-96faef933835\" style=\"height: 525px; width: 100%;\" class=\"plotly-graph-div\"></div><script type=\"text/javascript\">require([\"plotly\"], function(Plotly) { window.PLOTLYENV=window.PLOTLYENV || {};window.PLOTLYENV.BASE_URL=\"https://plot.ly\";Plotly.newPlot(\"a4db1e22-ddfd-4c9e-afd6-96faef933835\", [{\"name\": \"\\u4e0b\\u673a\\u6279\\u6b21\\u6bd4\", \"x\": [\"8-1\", \"8-2\", \"8-3\", \"8-4\", \"8-5\", \"9-1\", \"9-2\"], \"y\": [1.0, null, 1.0, 1.2, 1.0952380952380953, 1.1666666666666667, 1.0], \"type\": \"scatter\", \"uid\": \"7b7202f6-c147-11e8-bf40-d89ef3991fb3\"}], {\"title\": \"\\u4e0b\\u673a\\u6279\\u6b21\\u6bd4\\u5468\\u8d8b\\u52bf\\u56fe\", \"xaxis\": {\"mirror\": \"all\", \"nticks\": 20, \"showgrid\": true, \"showline\": true, \"title\": \"\\u5468\", \"zeroline\": true}, \"yaxis\": {\"mirror\": \"all\", \"nticks\": 20, \"showgrid\": true, \"showline\": true, \"title\": \"\\u4e0b\\u673a\\u6279\\u6b21\\u6bd4\", \"zeroline\": true}}, {\"showLink\": true, \"linkText\": \"Export to plot.ly\"})});</script>"
      ],
      "text/vnd.plotly.v1+html": [
       "<div id=\"a4db1e22-ddfd-4c9e-afd6-96faef933835\" style=\"height: 525px; width: 100%;\" class=\"plotly-graph-div\"></div><script type=\"text/javascript\">require([\"plotly\"], function(Plotly) { window.PLOTLYENV=window.PLOTLYENV || {};window.PLOTLYENV.BASE_URL=\"https://plot.ly\";Plotly.newPlot(\"a4db1e22-ddfd-4c9e-afd6-96faef933835\", [{\"name\": \"\\u4e0b\\u673a\\u6279\\u6b21\\u6bd4\", \"x\": [\"8-1\", \"8-2\", \"8-3\", \"8-4\", \"8-5\", \"9-1\", \"9-2\"], \"y\": [1.0, null, 1.0, 1.2, 1.0952380952380953, 1.1666666666666667, 1.0], \"type\": \"scatter\", \"uid\": \"7b7202f6-c147-11e8-bf40-d89ef3991fb3\"}], {\"title\": \"\\u4e0b\\u673a\\u6279\\u6b21\\u6bd4\\u5468\\u8d8b\\u52bf\\u56fe\", \"xaxis\": {\"mirror\": \"all\", \"nticks\": 20, \"showgrid\": true, \"showline\": true, \"title\": \"\\u5468\", \"zeroline\": true}, \"yaxis\": {\"mirror\": \"all\", \"nticks\": 20, \"showgrid\": true, \"showline\": true, \"title\": \"\\u4e0b\\u673a\\u6279\\u6b21\\u6bd4\", \"zeroline\": true}}, {\"showLink\": true, \"linkText\": \"Export to plot.ly\"})});</script>"
      ]
     },
     "metadata": {},
     "output_type": "display_data"
    },
    {
     "data": {
      "application/vnd.plotly.v1+json": {
       "data": [
        {
         "name": "下机批次比",
         "type": "scatter",
         "uid": "7b7afd88-c147-11e8-85dd-d89ef3991fb3",
         "x": [
          "8",
          "9"
         ],
         "y": [
          1.1153846153846154,
          1.0555555555555556
         ]
        }
       ],
       "layout": {
        "title": "下机批次比月趋势图",
        "xaxis": {
         "mirror": "all",
         "nticks": 20,
         "showgrid": true,
         "showline": true,
         "title": "月",
         "zeroline": true
        },
        "yaxis": {
         "mirror": "all",
         "nticks": 20,
         "showgrid": true,
         "showline": true,
         "title": "下机批次比",
         "zeroline": true
        }
       }
      },
      "text/html": [
       "<div id=\"d1028eb6-e90b-45da-92fc-31f478b054f6\" style=\"height: 525px; width: 100%;\" class=\"plotly-graph-div\"></div><script type=\"text/javascript\">require([\"plotly\"], function(Plotly) { window.PLOTLYENV=window.PLOTLYENV || {};window.PLOTLYENV.BASE_URL=\"https://plot.ly\";Plotly.newPlot(\"d1028eb6-e90b-45da-92fc-31f478b054f6\", [{\"name\": \"\\u4e0b\\u673a\\u6279\\u6b21\\u6bd4\", \"x\": [\"8\", \"9\"], \"y\": [1.1153846153846154, 1.0555555555555556], \"type\": \"scatter\", \"uid\": \"7b7afd88-c147-11e8-85dd-d89ef3991fb3\"}], {\"title\": \"\\u4e0b\\u673a\\u6279\\u6b21\\u6bd4\\u6708\\u8d8b\\u52bf\\u56fe\", \"xaxis\": {\"mirror\": \"all\", \"nticks\": 20, \"showgrid\": true, \"showline\": true, \"title\": \"\\u6708\", \"zeroline\": true}, \"yaxis\": {\"mirror\": \"all\", \"nticks\": 20, \"showgrid\": true, \"showline\": true, \"title\": \"\\u4e0b\\u673a\\u6279\\u6b21\\u6bd4\", \"zeroline\": true}}, {\"showLink\": true, \"linkText\": \"Export to plot.ly\"})});</script>"
      ],
      "text/vnd.plotly.v1+html": [
       "<div id=\"d1028eb6-e90b-45da-92fc-31f478b054f6\" style=\"height: 525px; width: 100%;\" class=\"plotly-graph-div\"></div><script type=\"text/javascript\">require([\"plotly\"], function(Plotly) { window.PLOTLYENV=window.PLOTLYENV || {};window.PLOTLYENV.BASE_URL=\"https://plot.ly\";Plotly.newPlot(\"d1028eb6-e90b-45da-92fc-31f478b054f6\", [{\"name\": \"\\u4e0b\\u673a\\u6279\\u6b21\\u6bd4\", \"x\": [\"8\", \"9\"], \"y\": [1.1153846153846154, 1.0555555555555556], \"type\": \"scatter\", \"uid\": \"7b7afd88-c147-11e8-85dd-d89ef3991fb3\"}], {\"title\": \"\\u4e0b\\u673a\\u6279\\u6b21\\u6bd4\\u6708\\u8d8b\\u52bf\\u56fe\", \"xaxis\": {\"mirror\": \"all\", \"nticks\": 20, \"showgrid\": true, \"showline\": true, \"title\": \"\\u6708\", \"zeroline\": true}, \"yaxis\": {\"mirror\": \"all\", \"nticks\": 20, \"showgrid\": true, \"showline\": true, \"title\": \"\\u4e0b\\u673a\\u6279\\u6b21\\u6bd4\", \"zeroline\": true}}, {\"showLink\": true, \"linkText\": \"Export to plot.ly\"})});</script>"
      ]
     },
     "metadata": {},
     "output_type": "display_data"
    }
   ],
   "source": [
    "data_dict = {'下机批次比':['下机批次数','下机项目数']}\n",
    "myModule.plot( all_dict, data_dict, '人员' ,  'line' , all='all')"
   ]
  },
  {
   "cell_type": "markdown",
   "metadata": {},
   "source": [
    "### 效率"
   ]
  },
  {
   "cell_type": "markdown",
   "metadata": {},
   "source": [
    "####  反馈及时率和数据交付及时率"
   ]
  },
  {
   "cell_type": "code",
   "execution_count": 51,
   "metadata": {},
   "outputs": [
    {
     "data": {
      "application/vnd.plotly.v1+json": {
       "data": [
        {
         "name": "反馈及时率",
         "type": "scatter",
         "uid": "7ba684c8-c147-11e8-a5c6-d89ef3991fb3",
         "x": [
          "8-1",
          "8-2",
          "8-3",
          "8-4",
          "8-5",
          "9-1",
          "9-2"
         ],
         "y": [
          1,
          null,
          0.6,
          1,
          0.8695652173913043,
          1,
          1
         ]
        },
        {
         "name": "数据及时交付率",
         "type": "scatter",
         "uid": "7ba684c9-c147-11e8-bf21-d89ef3991fb3",
         "x": [
          "8-1",
          "8-2",
          "8-3",
          "8-4",
          "8-5",
          "9-1",
          "9-2"
         ],
         "y": [
          1,
          null,
          1,
          null,
          1,
          1,
          null
         ]
        }
       ],
       "layout": {
        "title": "反馈及时率&数据及时交付率周趋势图",
        "xaxis": {
         "mirror": "all",
         "nticks": 20,
         "showgrid": true,
         "showline": true,
         "title": "周",
         "zeroline": true
        },
        "yaxis": {
         "mirror": "all",
         "nticks": 20,
         "showgrid": true,
         "showline": true,
         "title": "反馈及时率&数据及时交付率",
         "zeroline": true
        }
       }
      },
      "text/html": [
       "<div id=\"efa09df8-3731-446d-94eb-a07e8890f01e\" style=\"height: 525px; width: 100%;\" class=\"plotly-graph-div\"></div><script type=\"text/javascript\">require([\"plotly\"], function(Plotly) { window.PLOTLYENV=window.PLOTLYENV || {};window.PLOTLYENV.BASE_URL=\"https://plot.ly\";Plotly.newPlot(\"efa09df8-3731-446d-94eb-a07e8890f01e\", [{\"name\": \"\\u53cd\\u9988\\u53ca\\u65f6\\u7387\", \"x\": [\"8-1\", \"8-2\", \"8-3\", \"8-4\", \"8-5\", \"9-1\", \"9-2\"], \"y\": [1.0, null, 0.6, 1.0, 0.8695652173913043, 1.0, 1.0], \"type\": \"scatter\", \"uid\": \"7ba684c8-c147-11e8-a5c6-d89ef3991fb3\"}, {\"name\": \"\\u6570\\u636e\\u53ca\\u65f6\\u4ea4\\u4ed8\\u7387\", \"x\": [\"8-1\", \"8-2\", \"8-3\", \"8-4\", \"8-5\", \"9-1\", \"9-2\"], \"y\": [1.0, null, 1.0, null, 1.0, 1.0, null], \"type\": \"scatter\", \"uid\": \"7ba684c9-c147-11e8-bf21-d89ef3991fb3\"}], {\"title\": \"\\u53cd\\u9988\\u53ca\\u65f6\\u7387&\\u6570\\u636e\\u53ca\\u65f6\\u4ea4\\u4ed8\\u7387\\u5468\\u8d8b\\u52bf\\u56fe\", \"xaxis\": {\"mirror\": \"all\", \"nticks\": 20, \"showgrid\": true, \"showline\": true, \"title\": \"\\u5468\", \"zeroline\": true}, \"yaxis\": {\"mirror\": \"all\", \"nticks\": 20, \"showgrid\": true, \"showline\": true, \"title\": \"\\u53cd\\u9988\\u53ca\\u65f6\\u7387&\\u6570\\u636e\\u53ca\\u65f6\\u4ea4\\u4ed8\\u7387\", \"zeroline\": true}}, {\"showLink\": true, \"linkText\": \"Export to plot.ly\"})});</script>"
      ],
      "text/vnd.plotly.v1+html": [
       "<div id=\"efa09df8-3731-446d-94eb-a07e8890f01e\" style=\"height: 525px; width: 100%;\" class=\"plotly-graph-div\"></div><script type=\"text/javascript\">require([\"plotly\"], function(Plotly) { window.PLOTLYENV=window.PLOTLYENV || {};window.PLOTLYENV.BASE_URL=\"https://plot.ly\";Plotly.newPlot(\"efa09df8-3731-446d-94eb-a07e8890f01e\", [{\"name\": \"\\u53cd\\u9988\\u53ca\\u65f6\\u7387\", \"x\": [\"8-1\", \"8-2\", \"8-3\", \"8-4\", \"8-5\", \"9-1\", \"9-2\"], \"y\": [1.0, null, 0.6, 1.0, 0.8695652173913043, 1.0, 1.0], \"type\": \"scatter\", \"uid\": \"7ba684c8-c147-11e8-a5c6-d89ef3991fb3\"}, {\"name\": \"\\u6570\\u636e\\u53ca\\u65f6\\u4ea4\\u4ed8\\u7387\", \"x\": [\"8-1\", \"8-2\", \"8-3\", \"8-4\", \"8-5\", \"9-1\", \"9-2\"], \"y\": [1.0, null, 1.0, null, 1.0, 1.0, null], \"type\": \"scatter\", \"uid\": \"7ba684c9-c147-11e8-bf21-d89ef3991fb3\"}], {\"title\": \"\\u53cd\\u9988\\u53ca\\u65f6\\u7387&\\u6570\\u636e\\u53ca\\u65f6\\u4ea4\\u4ed8\\u7387\\u5468\\u8d8b\\u52bf\\u56fe\", \"xaxis\": {\"mirror\": \"all\", \"nticks\": 20, \"showgrid\": true, \"showline\": true, \"title\": \"\\u5468\", \"zeroline\": true}, \"yaxis\": {\"mirror\": \"all\", \"nticks\": 20, \"showgrid\": true, \"showline\": true, \"title\": \"\\u53cd\\u9988\\u53ca\\u65f6\\u7387&\\u6570\\u636e\\u53ca\\u65f6\\u4ea4\\u4ed8\\u7387\", \"zeroline\": true}}, {\"showLink\": true, \"linkText\": \"Export to plot.ly\"})});</script>"
      ]
     },
     "metadata": {},
     "output_type": "display_data"
    },
    {
     "data": {
      "application/vnd.plotly.v1+json": {
       "data": [
        {
         "name": "反馈及时率",
         "type": "scatter",
         "uid": "7bb0691a-c147-11e8-b8e8-d89ef3991fb3",
         "x": [
          "8",
          "9"
         ],
         "y": [
          0.9137931034482759,
          1
         ]
        },
        {
         "name": "数据及时交付率",
         "type": "scatter",
         "uid": "7bb0691b-c147-11e8-9a50-d89ef3991fb3",
         "x": [
          "8",
          "9"
         ],
         "y": [
          1,
          1
         ]
        }
       ],
       "layout": {
        "title": "反馈及时率&数据及时交付率月趋势图",
        "xaxis": {
         "mirror": "all",
         "nticks": 20,
         "showgrid": true,
         "showline": true,
         "title": "月",
         "zeroline": true
        },
        "yaxis": {
         "mirror": "all",
         "nticks": 20,
         "showgrid": true,
         "showline": true,
         "title": "反馈及时率&数据及时交付率",
         "zeroline": true
        }
       }
      },
      "text/html": [
       "<div id=\"a612e8da-efe4-4f2a-8e5a-a78db0418185\" style=\"height: 525px; width: 100%;\" class=\"plotly-graph-div\"></div><script type=\"text/javascript\">require([\"plotly\"], function(Plotly) { window.PLOTLYENV=window.PLOTLYENV || {};window.PLOTLYENV.BASE_URL=\"https://plot.ly\";Plotly.newPlot(\"a612e8da-efe4-4f2a-8e5a-a78db0418185\", [{\"name\": \"\\u53cd\\u9988\\u53ca\\u65f6\\u7387\", \"x\": [\"8\", \"9\"], \"y\": [0.9137931034482759, 1.0], \"type\": \"scatter\", \"uid\": \"7bb0691a-c147-11e8-b8e8-d89ef3991fb3\"}, {\"name\": \"\\u6570\\u636e\\u53ca\\u65f6\\u4ea4\\u4ed8\\u7387\", \"x\": [\"8\", \"9\"], \"y\": [1.0, 1.0], \"type\": \"scatter\", \"uid\": \"7bb0691b-c147-11e8-9a50-d89ef3991fb3\"}], {\"title\": \"\\u53cd\\u9988\\u53ca\\u65f6\\u7387&\\u6570\\u636e\\u53ca\\u65f6\\u4ea4\\u4ed8\\u7387\\u6708\\u8d8b\\u52bf\\u56fe\", \"xaxis\": {\"mirror\": \"all\", \"nticks\": 20, \"showgrid\": true, \"showline\": true, \"title\": \"\\u6708\", \"zeroline\": true}, \"yaxis\": {\"mirror\": \"all\", \"nticks\": 20, \"showgrid\": true, \"showline\": true, \"title\": \"\\u53cd\\u9988\\u53ca\\u65f6\\u7387&\\u6570\\u636e\\u53ca\\u65f6\\u4ea4\\u4ed8\\u7387\", \"zeroline\": true}}, {\"showLink\": true, \"linkText\": \"Export to plot.ly\"})});</script>"
      ],
      "text/vnd.plotly.v1+html": [
       "<div id=\"a612e8da-efe4-4f2a-8e5a-a78db0418185\" style=\"height: 525px; width: 100%;\" class=\"plotly-graph-div\"></div><script type=\"text/javascript\">require([\"plotly\"], function(Plotly) { window.PLOTLYENV=window.PLOTLYENV || {};window.PLOTLYENV.BASE_URL=\"https://plot.ly\";Plotly.newPlot(\"a612e8da-efe4-4f2a-8e5a-a78db0418185\", [{\"name\": \"\\u53cd\\u9988\\u53ca\\u65f6\\u7387\", \"x\": [\"8\", \"9\"], \"y\": [0.9137931034482759, 1.0], \"type\": \"scatter\", \"uid\": \"7bb0691a-c147-11e8-b8e8-d89ef3991fb3\"}, {\"name\": \"\\u6570\\u636e\\u53ca\\u65f6\\u4ea4\\u4ed8\\u7387\", \"x\": [\"8\", \"9\"], \"y\": [1.0, 1.0], \"type\": \"scatter\", \"uid\": \"7bb0691b-c147-11e8-9a50-d89ef3991fb3\"}], {\"title\": \"\\u53cd\\u9988\\u53ca\\u65f6\\u7387&\\u6570\\u636e\\u53ca\\u65f6\\u4ea4\\u4ed8\\u7387\\u6708\\u8d8b\\u52bf\\u56fe\", \"xaxis\": {\"mirror\": \"all\", \"nticks\": 20, \"showgrid\": true, \"showline\": true, \"title\": \"\\u6708\", \"zeroline\": true}, \"yaxis\": {\"mirror\": \"all\", \"nticks\": 20, \"showgrid\": true, \"showline\": true, \"title\": \"\\u53cd\\u9988\\u53ca\\u65f6\\u7387&\\u6570\\u636e\\u53ca\\u65f6\\u4ea4\\u4ed8\\u7387\", \"zeroline\": true}}, {\"showLink\": true, \"linkText\": \"Export to plot.ly\"})});</script>"
      ]
     },
     "metadata": {},
     "output_type": "display_data"
    }
   ],
   "source": [
    "data_dict = {'反馈及时率':['及时反馈数','下机批次数'], '数据及时交付率':['数据及时交付数','数据交付总数']}\n",
    "myModule.plot( all_dict, data_dict, '人员' ,  'line' , all='all')"
   ]
  },
  {
   "cell_type": "markdown",
   "metadata": {},
   "source": [
    "#### 24h拆分过滤率和48h拆分过滤率"
   ]
  },
  {
   "cell_type": "code",
   "execution_count": 52,
   "metadata": {},
   "outputs": [
    {
     "data": {
      "application/vnd.plotly.v1+json": {
       "data": [
        {
         "name": "24h拆分过滤率",
         "type": "scatter",
         "uid": "7bdf6f2c-c147-11e8-8bfe-d89ef3991fb3",
         "x": [
          "8-1",
          "8-2",
          "8-3",
          "8-4",
          "8-5",
          "9-1",
          "9-2"
         ],
         "y": [
          1,
          null,
          0.8,
          0,
          0.43478260869565216,
          0.5714285714285714,
          0
         ]
        },
        {
         "name": "48h拆分过滤率",
         "type": "scatter",
         "uid": "7bdf6f2d-c147-11e8-b21f-d89ef3991fb3",
         "x": [
          "8-1",
          "8-2",
          "8-3",
          "8-4",
          "8-5",
          "9-1",
          "9-2"
         ],
         "y": [
          1,
          null,
          0.8,
          0,
          0.782608695652174,
          1,
          0
         ]
        }
       ],
       "layout": {
        "title": "24h拆分过滤率&48h拆分过滤率周趋势图",
        "xaxis": {
         "mirror": "all",
         "nticks": 20,
         "showgrid": true,
         "showline": true,
         "title": "周",
         "zeroline": true
        },
        "yaxis": {
         "mirror": "all",
         "nticks": 20,
         "showgrid": true,
         "showline": true,
         "title": "24h拆分过滤率&48h拆分过滤率",
         "zeroline": true
        }
       }
      },
      "text/html": [
       "<div id=\"f4750132-3071-4c5c-9079-875bf3a44397\" style=\"height: 525px; width: 100%;\" class=\"plotly-graph-div\"></div><script type=\"text/javascript\">require([\"plotly\"], function(Plotly) { window.PLOTLYENV=window.PLOTLYENV || {};window.PLOTLYENV.BASE_URL=\"https://plot.ly\";Plotly.newPlot(\"f4750132-3071-4c5c-9079-875bf3a44397\", [{\"name\": \"24h\\u62c6\\u5206\\u8fc7\\u6ee4\\u7387\", \"x\": [\"8-1\", \"8-2\", \"8-3\", \"8-4\", \"8-5\", \"9-1\", \"9-2\"], \"y\": [1.0, null, 0.8, 0.0, 0.43478260869565216, 0.5714285714285714, 0.0], \"type\": \"scatter\", \"uid\": \"7bdf6f2c-c147-11e8-8bfe-d89ef3991fb3\"}, {\"name\": \"48h\\u62c6\\u5206\\u8fc7\\u6ee4\\u7387\", \"x\": [\"8-1\", \"8-2\", \"8-3\", \"8-4\", \"8-5\", \"9-1\", \"9-2\"], \"y\": [1.0, null, 0.8, 0.0, 0.782608695652174, 1.0, 0.0], \"type\": \"scatter\", \"uid\": \"7bdf6f2d-c147-11e8-b21f-d89ef3991fb3\"}], {\"title\": \"24h\\u62c6\\u5206\\u8fc7\\u6ee4\\u7387&48h\\u62c6\\u5206\\u8fc7\\u6ee4\\u7387\\u5468\\u8d8b\\u52bf\\u56fe\", \"xaxis\": {\"mirror\": \"all\", \"nticks\": 20, \"showgrid\": true, \"showline\": true, \"title\": \"\\u5468\", \"zeroline\": true}, \"yaxis\": {\"mirror\": \"all\", \"nticks\": 20, \"showgrid\": true, \"showline\": true, \"title\": \"24h\\u62c6\\u5206\\u8fc7\\u6ee4\\u7387&48h\\u62c6\\u5206\\u8fc7\\u6ee4\\u7387\", \"zeroline\": true}}, {\"showLink\": true, \"linkText\": \"Export to plot.ly\"})});</script>"
      ],
      "text/vnd.plotly.v1+html": [
       "<div id=\"f4750132-3071-4c5c-9079-875bf3a44397\" style=\"height: 525px; width: 100%;\" class=\"plotly-graph-div\"></div><script type=\"text/javascript\">require([\"plotly\"], function(Plotly) { window.PLOTLYENV=window.PLOTLYENV || {};window.PLOTLYENV.BASE_URL=\"https://plot.ly\";Plotly.newPlot(\"f4750132-3071-4c5c-9079-875bf3a44397\", [{\"name\": \"24h\\u62c6\\u5206\\u8fc7\\u6ee4\\u7387\", \"x\": [\"8-1\", \"8-2\", \"8-3\", \"8-4\", \"8-5\", \"9-1\", \"9-2\"], \"y\": [1.0, null, 0.8, 0.0, 0.43478260869565216, 0.5714285714285714, 0.0], \"type\": \"scatter\", \"uid\": \"7bdf6f2c-c147-11e8-8bfe-d89ef3991fb3\"}, {\"name\": \"48h\\u62c6\\u5206\\u8fc7\\u6ee4\\u7387\", \"x\": [\"8-1\", \"8-2\", \"8-3\", \"8-4\", \"8-5\", \"9-1\", \"9-2\"], \"y\": [1.0, null, 0.8, 0.0, 0.782608695652174, 1.0, 0.0], \"type\": \"scatter\", \"uid\": \"7bdf6f2d-c147-11e8-b21f-d89ef3991fb3\"}], {\"title\": \"24h\\u62c6\\u5206\\u8fc7\\u6ee4\\u7387&48h\\u62c6\\u5206\\u8fc7\\u6ee4\\u7387\\u5468\\u8d8b\\u52bf\\u56fe\", \"xaxis\": {\"mirror\": \"all\", \"nticks\": 20, \"showgrid\": true, \"showline\": true, \"title\": \"\\u5468\", \"zeroline\": true}, \"yaxis\": {\"mirror\": \"all\", \"nticks\": 20, \"showgrid\": true, \"showline\": true, \"title\": \"24h\\u62c6\\u5206\\u8fc7\\u6ee4\\u7387&48h\\u62c6\\u5206\\u8fc7\\u6ee4\\u7387\", \"zeroline\": true}}, {\"showLink\": true, \"linkText\": \"Export to plot.ly\"})});</script>"
      ]
     },
     "metadata": {},
     "output_type": "display_data"
    },
    {
     "data": {
      "application/vnd.plotly.v1+json": {
       "data": [
        {
         "name": "24h拆分过滤率",
         "type": "scatter",
         "uid": "7be9a036-c147-11e8-951b-d89ef3991fb3",
         "x": [
          "8",
          "9"
         ],
         "y": [
          0.3448275862068966,
          0.21052631578947367
         ]
        },
        {
         "name": "48h拆分过滤率",
         "type": "scatter",
         "uid": "7be9a037-c147-11e8-be7f-d89ef3991fb3",
         "x": [
          "8",
          "9"
         ],
         "y": [
          0.4827586206896552,
          0.3684210526315789
         ]
        }
       ],
       "layout": {
        "title": "24h拆分过滤率&48h拆分过滤率月趋势图",
        "xaxis": {
         "mirror": "all",
         "nticks": 20,
         "showgrid": true,
         "showline": true,
         "title": "月",
         "zeroline": true
        },
        "yaxis": {
         "mirror": "all",
         "nticks": 20,
         "showgrid": true,
         "showline": true,
         "title": "24h拆分过滤率&48h拆分过滤率",
         "zeroline": true
        }
       }
      },
      "text/html": [
       "<div id=\"70cb56fd-5968-4c2b-b3de-55cfd0346c3f\" style=\"height: 525px; width: 100%;\" class=\"plotly-graph-div\"></div><script type=\"text/javascript\">require([\"plotly\"], function(Plotly) { window.PLOTLYENV=window.PLOTLYENV || {};window.PLOTLYENV.BASE_URL=\"https://plot.ly\";Plotly.newPlot(\"70cb56fd-5968-4c2b-b3de-55cfd0346c3f\", [{\"name\": \"24h\\u62c6\\u5206\\u8fc7\\u6ee4\\u7387\", \"x\": [\"8\", \"9\"], \"y\": [0.3448275862068966, 0.21052631578947367], \"type\": \"scatter\", \"uid\": \"7be9a036-c147-11e8-951b-d89ef3991fb3\"}, {\"name\": \"48h\\u62c6\\u5206\\u8fc7\\u6ee4\\u7387\", \"x\": [\"8\", \"9\"], \"y\": [0.4827586206896552, 0.3684210526315789], \"type\": \"scatter\", \"uid\": \"7be9a037-c147-11e8-be7f-d89ef3991fb3\"}], {\"title\": \"24h\\u62c6\\u5206\\u8fc7\\u6ee4\\u7387&48h\\u62c6\\u5206\\u8fc7\\u6ee4\\u7387\\u6708\\u8d8b\\u52bf\\u56fe\", \"xaxis\": {\"mirror\": \"all\", \"nticks\": 20, \"showgrid\": true, \"showline\": true, \"title\": \"\\u6708\", \"zeroline\": true}, \"yaxis\": {\"mirror\": \"all\", \"nticks\": 20, \"showgrid\": true, \"showline\": true, \"title\": \"24h\\u62c6\\u5206\\u8fc7\\u6ee4\\u7387&48h\\u62c6\\u5206\\u8fc7\\u6ee4\\u7387\", \"zeroline\": true}}, {\"showLink\": true, \"linkText\": \"Export to plot.ly\"})});</script>"
      ],
      "text/vnd.plotly.v1+html": [
       "<div id=\"70cb56fd-5968-4c2b-b3de-55cfd0346c3f\" style=\"height: 525px; width: 100%;\" class=\"plotly-graph-div\"></div><script type=\"text/javascript\">require([\"plotly\"], function(Plotly) { window.PLOTLYENV=window.PLOTLYENV || {};window.PLOTLYENV.BASE_URL=\"https://plot.ly\";Plotly.newPlot(\"70cb56fd-5968-4c2b-b3de-55cfd0346c3f\", [{\"name\": \"24h\\u62c6\\u5206\\u8fc7\\u6ee4\\u7387\", \"x\": [\"8\", \"9\"], \"y\": [0.3448275862068966, 0.21052631578947367], \"type\": \"scatter\", \"uid\": \"7be9a036-c147-11e8-951b-d89ef3991fb3\"}, {\"name\": \"48h\\u62c6\\u5206\\u8fc7\\u6ee4\\u7387\", \"x\": [\"8\", \"9\"], \"y\": [0.4827586206896552, 0.3684210526315789], \"type\": \"scatter\", \"uid\": \"7be9a037-c147-11e8-be7f-d89ef3991fb3\"}], {\"title\": \"24h\\u62c6\\u5206\\u8fc7\\u6ee4\\u7387&48h\\u62c6\\u5206\\u8fc7\\u6ee4\\u7387\\u6708\\u8d8b\\u52bf\\u56fe\", \"xaxis\": {\"mirror\": \"all\", \"nticks\": 20, \"showgrid\": true, \"showline\": true, \"title\": \"\\u6708\", \"zeroline\": true}, \"yaxis\": {\"mirror\": \"all\", \"nticks\": 20, \"showgrid\": true, \"showline\": true, \"title\": \"24h\\u62c6\\u5206\\u8fc7\\u6ee4\\u7387&48h\\u62c6\\u5206\\u8fc7\\u6ee4\\u7387\", \"zeroline\": true}}, {\"showLink\": true, \"linkText\": \"Export to plot.ly\"})});</script>"
      ]
     },
     "metadata": {},
     "output_type": "display_data"
    }
   ],
   "source": [
    "data_dict = {'24h拆分过滤率':['24h完成批次数', '下机批次数'], '48h拆分过滤率':['48h完成批次数', '下机批次数']}\n",
    "myModule.plot( all_dict, data_dict, '人员' ,  'line' , all='all')"
   ]
  },
  {
   "cell_type": "markdown",
   "metadata": {},
   "source": [
    "#### 平均反馈时长"
   ]
  },
  {
   "cell_type": "code",
   "execution_count": 53,
   "metadata": {},
   "outputs": [
    {
     "data": {
      "application/vnd.plotly.v1+json": {
       "data": [
        {
         "name": "平均反馈时长",
         "type": "scatter",
         "uid": "7c0f382e-c147-11e8-9a64-d89ef3991fb3",
         "x": [
          "8-1",
          "8-2",
          "8-3",
          "8-4",
          "8-5",
          "9-1",
          "9-2"
         ],
         "y": [
          6,
          0,
          49.22,
          18.07,
          54.23,
          22.200000000000003,
          11.26
         ]
        }
       ],
       "layout": {
        "title": "平均反馈时长周趋势图",
        "xaxis": {
         "mirror": "all",
         "nticks": 20,
         "showgrid": true,
         "showline": true,
         "title": "周",
         "zeroline": true
        },
        "yaxis": {
         "mirror": "all",
         "nticks": 20,
         "showgrid": true,
         "showline": true,
         "title": "平均反馈时长",
         "zeroline": true
        }
       }
      },
      "text/html": [
       "<div id=\"16e08374-e3b9-4614-8c82-6bf878c7b695\" style=\"height: 525px; width: 100%;\" class=\"plotly-graph-div\"></div><script type=\"text/javascript\">require([\"plotly\"], function(Plotly) { window.PLOTLYENV=window.PLOTLYENV || {};window.PLOTLYENV.BASE_URL=\"https://plot.ly\";Plotly.newPlot(\"16e08374-e3b9-4614-8c82-6bf878c7b695\", [{\"name\": \"\\u5e73\\u5747\\u53cd\\u9988\\u65f6\\u957f\", \"x\": [\"8-1\", \"8-2\", \"8-3\", \"8-4\", \"8-5\", \"9-1\", \"9-2\"], \"y\": [6.0, 0.0, 49.22, 18.07, 54.23, 22.200000000000003, 11.26], \"type\": \"scatter\", \"uid\": \"7c0f382e-c147-11e8-9a64-d89ef3991fb3\"}], {\"title\": \"\\u5e73\\u5747\\u53cd\\u9988\\u65f6\\u957f\\u5468\\u8d8b\\u52bf\\u56fe\", \"xaxis\": {\"mirror\": \"all\", \"nticks\": 20, \"showgrid\": true, \"showline\": true, \"title\": \"\\u5468\", \"zeroline\": true}, \"yaxis\": {\"mirror\": \"all\", \"nticks\": 20, \"showgrid\": true, \"showline\": true, \"title\": \"\\u5e73\\u5747\\u53cd\\u9988\\u65f6\\u957f\", \"zeroline\": true}}, {\"showLink\": true, \"linkText\": \"Export to plot.ly\"})});</script>"
      ],
      "text/vnd.plotly.v1+html": [
       "<div id=\"16e08374-e3b9-4614-8c82-6bf878c7b695\" style=\"height: 525px; width: 100%;\" class=\"plotly-graph-div\"></div><script type=\"text/javascript\">require([\"plotly\"], function(Plotly) { window.PLOTLYENV=window.PLOTLYENV || {};window.PLOTLYENV.BASE_URL=\"https://plot.ly\";Plotly.newPlot(\"16e08374-e3b9-4614-8c82-6bf878c7b695\", [{\"name\": \"\\u5e73\\u5747\\u53cd\\u9988\\u65f6\\u957f\", \"x\": [\"8-1\", \"8-2\", \"8-3\", \"8-4\", \"8-5\", \"9-1\", \"9-2\"], \"y\": [6.0, 0.0, 49.22, 18.07, 54.23, 22.200000000000003, 11.26], \"type\": \"scatter\", \"uid\": \"7c0f382e-c147-11e8-9a64-d89ef3991fb3\"}], {\"title\": \"\\u5e73\\u5747\\u53cd\\u9988\\u65f6\\u957f\\u5468\\u8d8b\\u52bf\\u56fe\", \"xaxis\": {\"mirror\": \"all\", \"nticks\": 20, \"showgrid\": true, \"showline\": true, \"title\": \"\\u5468\", \"zeroline\": true}, \"yaxis\": {\"mirror\": \"all\", \"nticks\": 20, \"showgrid\": true, \"showline\": true, \"title\": \"\\u5e73\\u5747\\u53cd\\u9988\\u65f6\\u957f\", \"zeroline\": true}}, {\"showLink\": true, \"linkText\": \"Export to plot.ly\"})});</script>"
      ]
     },
     "metadata": {},
     "output_type": "display_data"
    },
    {
     "data": {
      "application/vnd.plotly.v1+json": {
       "data": [
        {
         "name": "平均反馈时长",
         "type": "scatter",
         "uid": "7c206940-c147-11e8-8121-d89ef3991fb3",
         "x": [
          "8",
          "9"
         ],
         "y": [
          127.51999999999998,
          33.46
         ]
        }
       ],
       "layout": {
        "title": "平均反馈时长月趋势图",
        "xaxis": {
         "mirror": "all",
         "nticks": 20,
         "showgrid": true,
         "showline": true,
         "title": "月",
         "zeroline": true
        },
        "yaxis": {
         "mirror": "all",
         "nticks": 20,
         "showgrid": true,
         "showline": true,
         "title": "平均反馈时长",
         "zeroline": true
        }
       }
      },
      "text/html": [
       "<div id=\"8c6eb585-a5fd-4096-b2fe-41722069bbb5\" style=\"height: 525px; width: 100%;\" class=\"plotly-graph-div\"></div><script type=\"text/javascript\">require([\"plotly\"], function(Plotly) { window.PLOTLYENV=window.PLOTLYENV || {};window.PLOTLYENV.BASE_URL=\"https://plot.ly\";Plotly.newPlot(\"8c6eb585-a5fd-4096-b2fe-41722069bbb5\", [{\"name\": \"\\u5e73\\u5747\\u53cd\\u9988\\u65f6\\u957f\", \"x\": [\"8\", \"9\"], \"y\": [127.51999999999998, 33.46], \"type\": \"scatter\", \"uid\": \"7c206940-c147-11e8-8121-d89ef3991fb3\"}], {\"title\": \"\\u5e73\\u5747\\u53cd\\u9988\\u65f6\\u957f\\u6708\\u8d8b\\u52bf\\u56fe\", \"xaxis\": {\"mirror\": \"all\", \"nticks\": 20, \"showgrid\": true, \"showline\": true, \"title\": \"\\u6708\", \"zeroline\": true}, \"yaxis\": {\"mirror\": \"all\", \"nticks\": 20, \"showgrid\": true, \"showline\": true, \"title\": \"\\u5e73\\u5747\\u53cd\\u9988\\u65f6\\u957f\", \"zeroline\": true}}, {\"showLink\": true, \"linkText\": \"Export to plot.ly\"})});</script>"
      ],
      "text/vnd.plotly.v1+html": [
       "<div id=\"8c6eb585-a5fd-4096-b2fe-41722069bbb5\" style=\"height: 525px; width: 100%;\" class=\"plotly-graph-div\"></div><script type=\"text/javascript\">require([\"plotly\"], function(Plotly) { window.PLOTLYENV=window.PLOTLYENV || {};window.PLOTLYENV.BASE_URL=\"https://plot.ly\";Plotly.newPlot(\"8c6eb585-a5fd-4096-b2fe-41722069bbb5\", [{\"name\": \"\\u5e73\\u5747\\u53cd\\u9988\\u65f6\\u957f\", \"x\": [\"8\", \"9\"], \"y\": [127.51999999999998, 33.46], \"type\": \"scatter\", \"uid\": \"7c206940-c147-11e8-8121-d89ef3991fb3\"}], {\"title\": \"\\u5e73\\u5747\\u53cd\\u9988\\u65f6\\u957f\\u6708\\u8d8b\\u52bf\\u56fe\", \"xaxis\": {\"mirror\": \"all\", \"nticks\": 20, \"showgrid\": true, \"showline\": true, \"title\": \"\\u6708\", \"zeroline\": true}, \"yaxis\": {\"mirror\": \"all\", \"nticks\": 20, \"showgrid\": true, \"showline\": true, \"title\": \"\\u5e73\\u5747\\u53cd\\u9988\\u65f6\\u957f\", \"zeroline\": true}}, {\"showLink\": true, \"linkText\": \"Export to plot.ly\"})});</script>"
      ]
     },
     "metadata": {},
     "output_type": "display_data"
    }
   ],
   "source": [
    "data_dict = {'平均反馈时长':['平均反馈时长']}\n",
    "myModule.plot( all_dict, data_dict, '人员' ,  'line' , all='all')"
   ]
  },
  {
   "cell_type": "markdown",
   "metadata": {},
   "source": [
    "### 异常"
   ]
  },
  {
   "cell_type": "markdown",
   "metadata": {},
   "source": [
    "#### 个性化过滤"
   ]
  },
  {
   "cell_type": "code",
   "execution_count": 54,
   "metadata": {},
   "outputs": [
    {
     "data": {
      "application/vnd.plotly.v1+json": {
       "data": [
        {
         "name": "个性化数",
         "type": "bar",
         "uid": "7c451764-c147-11e8-8818-d89ef3991fb3",
         "x": [
          "8-1",
          "8-2",
          "8-3",
          "8-4",
          "8-5",
          "9-1",
          "9-2"
         ],
         "y": [
          6,
          0,
          0,
          0,
          1,
          2,
          0
         ]
        }
       ],
       "layout": {
        "title": "个性化数周趋势图",
        "xaxis": {
         "mirror": "all",
         "nticks": 20,
         "showgrid": true,
         "showline": true,
         "title": "周",
         "zeroline": true
        },
        "yaxis": {
         "mirror": "all",
         "nticks": 20,
         "showgrid": true,
         "showline": true,
         "title": "个性化数",
         "zeroline": true
        }
       }
      },
      "text/html": [
       "<div id=\"c5ff734a-517e-40fe-ab77-0fe28196743b\" style=\"height: 525px; width: 100%;\" class=\"plotly-graph-div\"></div><script type=\"text/javascript\">require([\"plotly\"], function(Plotly) { window.PLOTLYENV=window.PLOTLYENV || {};window.PLOTLYENV.BASE_URL=\"https://plot.ly\";Plotly.newPlot(\"c5ff734a-517e-40fe-ab77-0fe28196743b\", [{\"name\": \"\\u4e2a\\u6027\\u5316\\u6570\", \"x\": [\"8-1\", \"8-2\", \"8-3\", \"8-4\", \"8-5\", \"9-1\", \"9-2\"], \"y\": [6.0, 0.0, 0.0, 0.0, 1.0, 2.0, 0.0], \"type\": \"bar\", \"uid\": \"7c451764-c147-11e8-8818-d89ef3991fb3\"}], {\"title\": \"\\u4e2a\\u6027\\u5316\\u6570\\u5468\\u8d8b\\u52bf\\u56fe\", \"xaxis\": {\"mirror\": \"all\", \"nticks\": 20, \"showgrid\": true, \"showline\": true, \"title\": \"\\u5468\", \"zeroline\": true}, \"yaxis\": {\"mirror\": \"all\", \"nticks\": 20, \"showgrid\": true, \"showline\": true, \"title\": \"\\u4e2a\\u6027\\u5316\\u6570\", \"zeroline\": true}}, {\"showLink\": true, \"linkText\": \"Export to plot.ly\"})});</script>"
      ],
      "text/vnd.plotly.v1+html": [
       "<div id=\"c5ff734a-517e-40fe-ab77-0fe28196743b\" style=\"height: 525px; width: 100%;\" class=\"plotly-graph-div\"></div><script type=\"text/javascript\">require([\"plotly\"], function(Plotly) { window.PLOTLYENV=window.PLOTLYENV || {};window.PLOTLYENV.BASE_URL=\"https://plot.ly\";Plotly.newPlot(\"c5ff734a-517e-40fe-ab77-0fe28196743b\", [{\"name\": \"\\u4e2a\\u6027\\u5316\\u6570\", \"x\": [\"8-1\", \"8-2\", \"8-3\", \"8-4\", \"8-5\", \"9-1\", \"9-2\"], \"y\": [6.0, 0.0, 0.0, 0.0, 1.0, 2.0, 0.0], \"type\": \"bar\", \"uid\": \"7c451764-c147-11e8-8818-d89ef3991fb3\"}], {\"title\": \"\\u4e2a\\u6027\\u5316\\u6570\\u5468\\u8d8b\\u52bf\\u56fe\", \"xaxis\": {\"mirror\": \"all\", \"nticks\": 20, \"showgrid\": true, \"showline\": true, \"title\": \"\\u5468\", \"zeroline\": true}, \"yaxis\": {\"mirror\": \"all\", \"nticks\": 20, \"showgrid\": true, \"showline\": true, \"title\": \"\\u4e2a\\u6027\\u5316\\u6570\", \"zeroline\": true}}, {\"showLink\": true, \"linkText\": \"Export to plot.ly\"})});</script>"
      ]
     },
     "metadata": {},
     "output_type": "display_data"
    },
    {
     "data": {
      "application/vnd.plotly.v1+json": {
       "data": [
        {
         "name": "个性化数",
         "type": "bar",
         "uid": "7c4c8b28-c147-11e8-813e-d89ef3991fb3",
         "x": [
          "8",
          "9"
         ],
         "y": [
          7,
          2
         ]
        }
       ],
       "layout": {
        "title": "个性化数月趋势图",
        "xaxis": {
         "mirror": "all",
         "nticks": 20,
         "showgrid": true,
         "showline": true,
         "title": "月",
         "zeroline": true
        },
        "yaxis": {
         "mirror": "all",
         "nticks": 20,
         "showgrid": true,
         "showline": true,
         "title": "个性化数",
         "zeroline": true
        }
       }
      },
      "text/html": [
       "<div id=\"600a456c-15ec-42c6-ac8f-953b7e194fb1\" style=\"height: 525px; width: 100%;\" class=\"plotly-graph-div\"></div><script type=\"text/javascript\">require([\"plotly\"], function(Plotly) { window.PLOTLYENV=window.PLOTLYENV || {};window.PLOTLYENV.BASE_URL=\"https://plot.ly\";Plotly.newPlot(\"600a456c-15ec-42c6-ac8f-953b7e194fb1\", [{\"name\": \"\\u4e2a\\u6027\\u5316\\u6570\", \"x\": [\"8\", \"9\"], \"y\": [7.0, 2.0], \"type\": \"bar\", \"uid\": \"7c4c8b28-c147-11e8-813e-d89ef3991fb3\"}], {\"title\": \"\\u4e2a\\u6027\\u5316\\u6570\\u6708\\u8d8b\\u52bf\\u56fe\", \"xaxis\": {\"mirror\": \"all\", \"nticks\": 20, \"showgrid\": true, \"showline\": true, \"title\": \"\\u6708\", \"zeroline\": true}, \"yaxis\": {\"mirror\": \"all\", \"nticks\": 20, \"showgrid\": true, \"showline\": true, \"title\": \"\\u4e2a\\u6027\\u5316\\u6570\", \"zeroline\": true}}, {\"showLink\": true, \"linkText\": \"Export to plot.ly\"})});</script>"
      ],
      "text/vnd.plotly.v1+html": [
       "<div id=\"600a456c-15ec-42c6-ac8f-953b7e194fb1\" style=\"height: 525px; width: 100%;\" class=\"plotly-graph-div\"></div><script type=\"text/javascript\">require([\"plotly\"], function(Plotly) { window.PLOTLYENV=window.PLOTLYENV || {};window.PLOTLYENV.BASE_URL=\"https://plot.ly\";Plotly.newPlot(\"600a456c-15ec-42c6-ac8f-953b7e194fb1\", [{\"name\": \"\\u4e2a\\u6027\\u5316\\u6570\", \"x\": [\"8\", \"9\"], \"y\": [7.0, 2.0], \"type\": \"bar\", \"uid\": \"7c4c8b28-c147-11e8-813e-d89ef3991fb3\"}], {\"title\": \"\\u4e2a\\u6027\\u5316\\u6570\\u6708\\u8d8b\\u52bf\\u56fe\", \"xaxis\": {\"mirror\": \"all\", \"nticks\": 20, \"showgrid\": true, \"showline\": true, \"title\": \"\\u6708\", \"zeroline\": true}, \"yaxis\": {\"mirror\": \"all\", \"nticks\": 20, \"showgrid\": true, \"showline\": true, \"title\": \"\\u4e2a\\u6027\\u5316\\u6570\", \"zeroline\": true}}, {\"showLink\": true, \"linkText\": \"Export to plot.ly\"})});</script>"
      ]
     },
     "metadata": {},
     "output_type": "display_data"
    }
   ],
   "source": [
    "data_dict = {'个性化数':['个性化数']}\n",
    "myModule.plot( all_dict, data_dict, '人员' ,  'bar' , all='all')"
   ]
  },
  {
   "cell_type": "markdown",
   "metadata": {},
   "source": [
    "#### lims异常数和下单错误数"
   ]
  },
  {
   "cell_type": "code",
   "execution_count": 55,
   "metadata": {},
   "outputs": [
    {
     "data": {
      "application/vnd.plotly.v1+json": {
       "data": [
        {
         "name": "lims异常数",
         "type": "scatter",
         "uid": "7c7b4468-c147-11e8-8a87-d89ef3991fb3",
         "x": [
          "8-1",
          "8-2",
          "8-3",
          "8-4",
          "8-5",
          "9-1",
          "9-2"
         ],
         "y": [
          6,
          0,
          0,
          0,
          0,
          0,
          0
         ]
        },
        {
         "name": "下单错误数",
         "type": "scatter",
         "uid": "7c7b4469-c147-11e8-9a66-d89ef3991fb3",
         "x": [
          "8-1",
          "8-2",
          "8-3",
          "8-4",
          "8-5",
          "9-1",
          "9-2"
         ],
         "y": [
          6,
          0,
          0,
          0,
          0,
          0,
          0
         ]
        }
       ],
       "layout": {
        "title": "lims异常数&下单错误数周趋势图",
        "xaxis": {
         "mirror": "all",
         "nticks": 20,
         "showgrid": true,
         "showline": true,
         "title": "周",
         "zeroline": true
        },
        "yaxis": {
         "mirror": "all",
         "nticks": 20,
         "showgrid": true,
         "showline": true,
         "title": "lims异常数&下单错误数",
         "zeroline": true
        }
       }
      },
      "text/html": [
       "<div id=\"7c2eeef8-a357-43bf-a665-7e43daab7cbb\" style=\"height: 525px; width: 100%;\" class=\"plotly-graph-div\"></div><script type=\"text/javascript\">require([\"plotly\"], function(Plotly) { window.PLOTLYENV=window.PLOTLYENV || {};window.PLOTLYENV.BASE_URL=\"https://plot.ly\";Plotly.newPlot(\"7c2eeef8-a357-43bf-a665-7e43daab7cbb\", [{\"name\": \"lims\\u5f02\\u5e38\\u6570\", \"x\": [\"8-1\", \"8-2\", \"8-3\", \"8-4\", \"8-5\", \"9-1\", \"9-2\"], \"y\": [6.0, 0.0, 0.0, 0.0, 0.0, 0.0, 0.0], \"type\": \"scatter\", \"uid\": \"7c7b4468-c147-11e8-8a87-d89ef3991fb3\"}, {\"name\": \"\\u4e0b\\u5355\\u9519\\u8bef\\u6570\", \"x\": [\"8-1\", \"8-2\", \"8-3\", \"8-4\", \"8-5\", \"9-1\", \"9-2\"], \"y\": [6.0, 0.0, 0.0, 0.0, 0.0, 0.0, 0.0], \"type\": \"scatter\", \"uid\": \"7c7b4469-c147-11e8-9a66-d89ef3991fb3\"}], {\"title\": \"lims\\u5f02\\u5e38\\u6570&\\u4e0b\\u5355\\u9519\\u8bef\\u6570\\u5468\\u8d8b\\u52bf\\u56fe\", \"xaxis\": {\"mirror\": \"all\", \"nticks\": 20, \"showgrid\": true, \"showline\": true, \"title\": \"\\u5468\", \"zeroline\": true}, \"yaxis\": {\"mirror\": \"all\", \"nticks\": 20, \"showgrid\": true, \"showline\": true, \"title\": \"lims\\u5f02\\u5e38\\u6570&\\u4e0b\\u5355\\u9519\\u8bef\\u6570\", \"zeroline\": true}}, {\"showLink\": true, \"linkText\": \"Export to plot.ly\"})});</script>"
      ],
      "text/vnd.plotly.v1+html": [
       "<div id=\"7c2eeef8-a357-43bf-a665-7e43daab7cbb\" style=\"height: 525px; width: 100%;\" class=\"plotly-graph-div\"></div><script type=\"text/javascript\">require([\"plotly\"], function(Plotly) { window.PLOTLYENV=window.PLOTLYENV || {};window.PLOTLYENV.BASE_URL=\"https://plot.ly\";Plotly.newPlot(\"7c2eeef8-a357-43bf-a665-7e43daab7cbb\", [{\"name\": \"lims\\u5f02\\u5e38\\u6570\", \"x\": [\"8-1\", \"8-2\", \"8-3\", \"8-4\", \"8-5\", \"9-1\", \"9-2\"], \"y\": [6.0, 0.0, 0.0, 0.0, 0.0, 0.0, 0.0], \"type\": \"scatter\", \"uid\": \"7c7b4468-c147-11e8-8a87-d89ef3991fb3\"}, {\"name\": \"\\u4e0b\\u5355\\u9519\\u8bef\\u6570\", \"x\": [\"8-1\", \"8-2\", \"8-3\", \"8-4\", \"8-5\", \"9-1\", \"9-2\"], \"y\": [6.0, 0.0, 0.0, 0.0, 0.0, 0.0, 0.0], \"type\": \"scatter\", \"uid\": \"7c7b4469-c147-11e8-9a66-d89ef3991fb3\"}], {\"title\": \"lims\\u5f02\\u5e38\\u6570&\\u4e0b\\u5355\\u9519\\u8bef\\u6570\\u5468\\u8d8b\\u52bf\\u56fe\", \"xaxis\": {\"mirror\": \"all\", \"nticks\": 20, \"showgrid\": true, \"showline\": true, \"title\": \"\\u5468\", \"zeroline\": true}, \"yaxis\": {\"mirror\": \"all\", \"nticks\": 20, \"showgrid\": true, \"showline\": true, \"title\": \"lims\\u5f02\\u5e38\\u6570&\\u4e0b\\u5355\\u9519\\u8bef\\u6570\", \"zeroline\": true}}, {\"showLink\": true, \"linkText\": \"Export to plot.ly\"})});</script>"
      ]
     },
     "metadata": {},
     "output_type": "display_data"
    },
    {
     "data": {
      "application/vnd.plotly.v1+json": {
       "data": [
        {
         "name": "lims异常数",
         "type": "scatter",
         "uid": "7c843de2-c147-11e8-a5c7-d89ef3991fb3",
         "x": [
          "8",
          "9"
         ],
         "y": [
          6,
          0
         ]
        },
        {
         "name": "下单错误数",
         "type": "scatter",
         "uid": "7c843de3-c147-11e8-aa86-d89ef3991fb3",
         "x": [
          "8",
          "9"
         ],
         "y": [
          6,
          0
         ]
        }
       ],
       "layout": {
        "title": "lims异常数&下单错误数月趋势图",
        "xaxis": {
         "mirror": "all",
         "nticks": 20,
         "showgrid": true,
         "showline": true,
         "title": "月",
         "zeroline": true
        },
        "yaxis": {
         "mirror": "all",
         "nticks": 20,
         "showgrid": true,
         "showline": true,
         "title": "lims异常数&下单错误数",
         "zeroline": true
        }
       }
      },
      "text/html": [
       "<div id=\"d80456c3-70ca-40c7-9e8f-a669105d9eaa\" style=\"height: 525px; width: 100%;\" class=\"plotly-graph-div\"></div><script type=\"text/javascript\">require([\"plotly\"], function(Plotly) { window.PLOTLYENV=window.PLOTLYENV || {};window.PLOTLYENV.BASE_URL=\"https://plot.ly\";Plotly.newPlot(\"d80456c3-70ca-40c7-9e8f-a669105d9eaa\", [{\"name\": \"lims\\u5f02\\u5e38\\u6570\", \"x\": [\"8\", \"9\"], \"y\": [6.0, 0.0], \"type\": \"scatter\", \"uid\": \"7c843de2-c147-11e8-a5c7-d89ef3991fb3\"}, {\"name\": \"\\u4e0b\\u5355\\u9519\\u8bef\\u6570\", \"x\": [\"8\", \"9\"], \"y\": [6.0, 0.0], \"type\": \"scatter\", \"uid\": \"7c843de3-c147-11e8-aa86-d89ef3991fb3\"}], {\"title\": \"lims\\u5f02\\u5e38\\u6570&\\u4e0b\\u5355\\u9519\\u8bef\\u6570\\u6708\\u8d8b\\u52bf\\u56fe\", \"xaxis\": {\"mirror\": \"all\", \"nticks\": 20, \"showgrid\": true, \"showline\": true, \"title\": \"\\u6708\", \"zeroline\": true}, \"yaxis\": {\"mirror\": \"all\", \"nticks\": 20, \"showgrid\": true, \"showline\": true, \"title\": \"lims\\u5f02\\u5e38\\u6570&\\u4e0b\\u5355\\u9519\\u8bef\\u6570\", \"zeroline\": true}}, {\"showLink\": true, \"linkText\": \"Export to plot.ly\"})});</script>"
      ],
      "text/vnd.plotly.v1+html": [
       "<div id=\"d80456c3-70ca-40c7-9e8f-a669105d9eaa\" style=\"height: 525px; width: 100%;\" class=\"plotly-graph-div\"></div><script type=\"text/javascript\">require([\"plotly\"], function(Plotly) { window.PLOTLYENV=window.PLOTLYENV || {};window.PLOTLYENV.BASE_URL=\"https://plot.ly\";Plotly.newPlot(\"d80456c3-70ca-40c7-9e8f-a669105d9eaa\", [{\"name\": \"lims\\u5f02\\u5e38\\u6570\", \"x\": [\"8\", \"9\"], \"y\": [6.0, 0.0], \"type\": \"scatter\", \"uid\": \"7c843de2-c147-11e8-a5c7-d89ef3991fb3\"}, {\"name\": \"\\u4e0b\\u5355\\u9519\\u8bef\\u6570\", \"x\": [\"8\", \"9\"], \"y\": [6.0, 0.0], \"type\": \"scatter\", \"uid\": \"7c843de3-c147-11e8-aa86-d89ef3991fb3\"}], {\"title\": \"lims\\u5f02\\u5e38\\u6570&\\u4e0b\\u5355\\u9519\\u8bef\\u6570\\u6708\\u8d8b\\u52bf\\u56fe\", \"xaxis\": {\"mirror\": \"all\", \"nticks\": 20, \"showgrid\": true, \"showline\": true, \"title\": \"\\u6708\", \"zeroline\": true}, \"yaxis\": {\"mirror\": \"all\", \"nticks\": 20, \"showgrid\": true, \"showline\": true, \"title\": \"lims\\u5f02\\u5e38\\u6570&\\u4e0b\\u5355\\u9519\\u8bef\\u6570\", \"zeroline\": true}}, {\"showLink\": true, \"linkText\": \"Export to plot.ly\"})});</script>"
      ]
     },
     "metadata": {},
     "output_type": "display_data"
    }
   ],
   "source": [
    "data_dict = {'lims异常数':['lims异常数'], '下单错误数':['下单错误数']}\n",
    "myModule.plot( all_dict, data_dict, '人员' ,  'line' , all='all')"
   ]
  },
  {
   "cell_type": "markdown",
   "metadata": {},
   "source": [
    "#### 过滤流程异常数"
   ]
  },
  {
   "cell_type": "code",
   "execution_count": 56,
   "metadata": {},
   "outputs": [
    {
     "data": {
      "application/vnd.plotly.v1+json": {
       "data": [
        {
         "name": "过滤流程异常数",
         "type": "scatter",
         "uid": "7cae1768-c147-11e8-a871-d89ef3991fb3",
         "x": [
          "8-1",
          "8-2",
          "8-3",
          "8-4",
          "8-5",
          "9-1",
          "9-2"
         ],
         "y": [
          6,
          0,
          0,
          0,
          0,
          0,
          0
         ]
        }
       ],
       "layout": {
        "title": "过滤流程异常数周趋势图",
        "xaxis": {
         "mirror": "all",
         "nticks": 20,
         "showgrid": true,
         "showline": true,
         "title": "周",
         "zeroline": true
        },
        "yaxis": {
         "mirror": "all",
         "nticks": 20,
         "showgrid": true,
         "showline": true,
         "title": "过滤流程异常数",
         "zeroline": true
        }
       }
      },
      "text/html": [
       "<div id=\"8cc4e948-1209-4e91-b373-3018f393d287\" style=\"height: 525px; width: 100%;\" class=\"plotly-graph-div\"></div><script type=\"text/javascript\">require([\"plotly\"], function(Plotly) { window.PLOTLYENV=window.PLOTLYENV || {};window.PLOTLYENV.BASE_URL=\"https://plot.ly\";Plotly.newPlot(\"8cc4e948-1209-4e91-b373-3018f393d287\", [{\"name\": \"\\u8fc7\\u6ee4\\u6d41\\u7a0b\\u5f02\\u5e38\\u6570\", \"x\": [\"8-1\", \"8-2\", \"8-3\", \"8-4\", \"8-5\", \"9-1\", \"9-2\"], \"y\": [6.0, 0.0, 0.0, 0.0, 0.0, 0.0, 0.0], \"type\": \"scatter\", \"uid\": \"7cae1768-c147-11e8-a871-d89ef3991fb3\"}], {\"title\": \"\\u8fc7\\u6ee4\\u6d41\\u7a0b\\u5f02\\u5e38\\u6570\\u5468\\u8d8b\\u52bf\\u56fe\", \"xaxis\": {\"mirror\": \"all\", \"nticks\": 20, \"showgrid\": true, \"showline\": true, \"title\": \"\\u5468\", \"zeroline\": true}, \"yaxis\": {\"mirror\": \"all\", \"nticks\": 20, \"showgrid\": true, \"showline\": true, \"title\": \"\\u8fc7\\u6ee4\\u6d41\\u7a0b\\u5f02\\u5e38\\u6570\", \"zeroline\": true}}, {\"showLink\": true, \"linkText\": \"Export to plot.ly\"})});</script>"
      ],
      "text/vnd.plotly.v1+html": [
       "<div id=\"8cc4e948-1209-4e91-b373-3018f393d287\" style=\"height: 525px; width: 100%;\" class=\"plotly-graph-div\"></div><script type=\"text/javascript\">require([\"plotly\"], function(Plotly) { window.PLOTLYENV=window.PLOTLYENV || {};window.PLOTLYENV.BASE_URL=\"https://plot.ly\";Plotly.newPlot(\"8cc4e948-1209-4e91-b373-3018f393d287\", [{\"name\": \"\\u8fc7\\u6ee4\\u6d41\\u7a0b\\u5f02\\u5e38\\u6570\", \"x\": [\"8-1\", \"8-2\", \"8-3\", \"8-4\", \"8-5\", \"9-1\", \"9-2\"], \"y\": [6.0, 0.0, 0.0, 0.0, 0.0, 0.0, 0.0], \"type\": \"scatter\", \"uid\": \"7cae1768-c147-11e8-a871-d89ef3991fb3\"}], {\"title\": \"\\u8fc7\\u6ee4\\u6d41\\u7a0b\\u5f02\\u5e38\\u6570\\u5468\\u8d8b\\u52bf\\u56fe\", \"xaxis\": {\"mirror\": \"all\", \"nticks\": 20, \"showgrid\": true, \"showline\": true, \"title\": \"\\u5468\", \"zeroline\": true}, \"yaxis\": {\"mirror\": \"all\", \"nticks\": 20, \"showgrid\": true, \"showline\": true, \"title\": \"\\u8fc7\\u6ee4\\u6d41\\u7a0b\\u5f02\\u5e38\\u6570\", \"zeroline\": true}}, {\"showLink\": true, \"linkText\": \"Export to plot.ly\"})});</script>"
      ]
     },
     "metadata": {},
     "output_type": "display_data"
    },
    {
     "data": {
      "application/vnd.plotly.v1+json": {
       "data": [
        {
         "name": "过滤流程异常数",
         "type": "scatter",
         "uid": "7cb58c6c-c147-11e8-a94a-d89ef3991fb3",
         "x": [
          "8",
          "9"
         ],
         "y": [
          6,
          0
         ]
        }
       ],
       "layout": {
        "title": "过滤流程异常数月趋势图",
        "xaxis": {
         "mirror": "all",
         "nticks": 20,
         "showgrid": true,
         "showline": true,
         "title": "月",
         "zeroline": true
        },
        "yaxis": {
         "mirror": "all",
         "nticks": 20,
         "showgrid": true,
         "showline": true,
         "title": "过滤流程异常数",
         "zeroline": true
        }
       }
      },
      "text/html": [
       "<div id=\"80da616b-0874-4082-bff7-44aac4fed0f9\" style=\"height: 525px; width: 100%;\" class=\"plotly-graph-div\"></div><script type=\"text/javascript\">require([\"plotly\"], function(Plotly) { window.PLOTLYENV=window.PLOTLYENV || {};window.PLOTLYENV.BASE_URL=\"https://plot.ly\";Plotly.newPlot(\"80da616b-0874-4082-bff7-44aac4fed0f9\", [{\"name\": \"\\u8fc7\\u6ee4\\u6d41\\u7a0b\\u5f02\\u5e38\\u6570\", \"x\": [\"8\", \"9\"], \"y\": [6.0, 0.0], \"type\": \"scatter\", \"uid\": \"7cb58c6c-c147-11e8-a94a-d89ef3991fb3\"}], {\"title\": \"\\u8fc7\\u6ee4\\u6d41\\u7a0b\\u5f02\\u5e38\\u6570\\u6708\\u8d8b\\u52bf\\u56fe\", \"xaxis\": {\"mirror\": \"all\", \"nticks\": 20, \"showgrid\": true, \"showline\": true, \"title\": \"\\u6708\", \"zeroline\": true}, \"yaxis\": {\"mirror\": \"all\", \"nticks\": 20, \"showgrid\": true, \"showline\": true, \"title\": \"\\u8fc7\\u6ee4\\u6d41\\u7a0b\\u5f02\\u5e38\\u6570\", \"zeroline\": true}}, {\"showLink\": true, \"linkText\": \"Export to plot.ly\"})});</script>"
      ],
      "text/vnd.plotly.v1+html": [
       "<div id=\"80da616b-0874-4082-bff7-44aac4fed0f9\" style=\"height: 525px; width: 100%;\" class=\"plotly-graph-div\"></div><script type=\"text/javascript\">require([\"plotly\"], function(Plotly) { window.PLOTLYENV=window.PLOTLYENV || {};window.PLOTLYENV.BASE_URL=\"https://plot.ly\";Plotly.newPlot(\"80da616b-0874-4082-bff7-44aac4fed0f9\", [{\"name\": \"\\u8fc7\\u6ee4\\u6d41\\u7a0b\\u5f02\\u5e38\\u6570\", \"x\": [\"8\", \"9\"], \"y\": [6.0, 0.0], \"type\": \"scatter\", \"uid\": \"7cb58c6c-c147-11e8-a94a-d89ef3991fb3\"}], {\"title\": \"\\u8fc7\\u6ee4\\u6d41\\u7a0b\\u5f02\\u5e38\\u6570\\u6708\\u8d8b\\u52bf\\u56fe\", \"xaxis\": {\"mirror\": \"all\", \"nticks\": 20, \"showgrid\": true, \"showline\": true, \"title\": \"\\u6708\", \"zeroline\": true}, \"yaxis\": {\"mirror\": \"all\", \"nticks\": 20, \"showgrid\": true, \"showline\": true, \"title\": \"\\u8fc7\\u6ee4\\u6d41\\u7a0b\\u5f02\\u5e38\\u6570\", \"zeroline\": true}}, {\"showLink\": true, \"linkText\": \"Export to plot.ly\"})});</script>"
      ]
     },
     "metadata": {},
     "output_type": "display_data"
    }
   ],
   "source": [
    "data_dict = {'过滤流程异常数':['过滤流程异常数']}\n",
    "myModule.plot( all_dict, data_dict, '人员' ,  'line' , all='all')"
   ]
  },
  {
   "cell_type": "markdown",
   "metadata": {},
   "source": [
    "## 个人情况"
   ]
  },
  {
   "cell_type": "markdown",
   "metadata": {},
   "source": [
    "### 产能"
   ]
  },
  {
   "cell_type": "markdown",
   "metadata": {},
   "source": [
    "#### 下机批次"
   ]
  },
  {
   "cell_type": "code",
   "execution_count": 57,
   "metadata": {},
   "outputs": [
    {
     "data": {
      "application/vnd.plotly.v1+json": {
       "data": [
        {
         "name": "车天栋_下机批次数",
         "type": "scatter",
         "uid": "7ceb93de-c147-11e8-b8b5-d89ef3991fb3",
         "x": [
          "8-1",
          "8-2",
          "8-3",
          "8-4",
          "8-5",
          "9-1",
          "9-2"
         ],
         "y": [
          1,
          0,
          0,
          2,
          3,
          0,
          3
         ]
        },
        {
         "name": "车天栋_下机项目数",
         "type": "scatter",
         "uid": "7ceb93df-c147-11e8-9e25-d89ef3991fb3",
         "x": [
          "8-1",
          "8-2",
          "8-3",
          "8-4",
          "8-5",
          "9-1",
          "9-2"
         ],
         "y": [
          1,
          0,
          0,
          2,
          3,
          0,
          3
         ]
        },
        {
         "name": "沈立群_下机批次数",
         "type": "scatter",
         "uid": "7ceb93e0-c147-11e8-963c-d89ef3991fb3",
         "x": [
          "8-1",
          "8-2",
          "8-3",
          "8-4",
          "8-5",
          "9-1",
          "9-2"
         ],
         "y": [
          1,
          0,
          1,
          5,
          8,
          3,
          2
         ]
        },
        {
         "name": "沈立群_下机项目数",
         "type": "scatter",
         "uid": "7ceb93e1-c147-11e8-b1d6-d89ef3991fb3",
         "x": [
          "8-1",
          "8-2",
          "8-3",
          "8-4",
          "8-5",
          "9-1",
          "9-2"
         ],
         "y": [
          1,
          0,
          1,
          4,
          6,
          2,
          2
         ]
        },
        {
         "name": "高剑_下机批次数",
         "type": "scatter",
         "uid": "7ceb93e2-c147-11e8-ae12-d89ef3991fb3",
         "x": [
          "8-1",
          "8-2",
          "8-3",
          "8-4",
          "8-5",
          "9-1",
          "9-2"
         ],
         "y": [
          1,
          0,
          1,
          7,
          1,
          0,
          0
         ]
        },
        {
         "name": "高剑_下机项目数",
         "type": "scatter",
         "uid": "7ceb93e3-c147-11e8-baa2-d89ef3991fb3",
         "x": [
          "8-1",
          "8-2",
          "8-3",
          "8-4",
          "8-5",
          "9-1",
          "9-2"
         ],
         "y": [
          1,
          0,
          1,
          5,
          1,
          0,
          0
         ]
        },
        {
         "name": "王传文_下机批次数",
         "type": "scatter",
         "uid": "7cebbacc-c147-11e8-bc21-d89ef3991fb3",
         "x": [
          "8-1",
          "8-2",
          "8-3",
          "8-4",
          "8-5",
          "9-1",
          "9-2"
         ],
         "y": [
          1,
          0,
          1,
          3,
          2,
          2,
          3
         ]
        },
        {
         "name": "王传文_下机项目数",
         "type": "scatter",
         "uid": "7cebbacd-c147-11e8-a4fe-d89ef3991fb3",
         "x": [
          "8-1",
          "8-2",
          "8-3",
          "8-4",
          "8-5",
          "9-1",
          "9-2"
         ],
         "y": [
          1,
          0,
          1,
          3,
          2,
          2,
          3
         ]
        },
        {
         "name": "沈恩惠_下机批次数",
         "type": "scatter",
         "uid": "7cebbace-c147-11e8-b1b7-d89ef3991fb3",
         "x": [
          "8-1",
          "8-2",
          "8-3",
          "8-4",
          "8-5",
          "9-1",
          "9-2"
         ],
         "y": [
          1,
          0,
          0,
          3,
          5,
          0,
          2
         ]
        },
        {
         "name": "沈恩惠_下机项目数",
         "type": "scatter",
         "uid": "7cebbacf-c147-11e8-9464-d89ef3991fb3",
         "x": [
          "8-1",
          "8-2",
          "8-3",
          "8-4",
          "8-5",
          "9-1",
          "9-2"
         ],
         "y": [
          1,
          0,
          0,
          3,
          5,
          0,
          2
         ]
        },
        {
         "name": "林文文_下机批次数",
         "type": "scatter",
         "uid": "7cebbad0-c147-11e8-91d5-d89ef3991fb3",
         "x": [
          "8-1",
          "8-2",
          "8-3",
          "8-4",
          "8-5",
          "9-1",
          "9-2"
         ],
         "y": [
          1,
          0,
          2,
          4,
          4,
          2,
          2
         ]
        },
        {
         "name": "林文文_下机项目数",
         "type": "scatter",
         "uid": "7cebbad1-c147-11e8-8501-d89ef3991fb3",
         "x": [
          "8-1",
          "8-2",
          "8-3",
          "8-4",
          "8-5",
          "9-1",
          "9-2"
         ],
         "y": [
          1,
          0,
          2,
          3,
          4,
          2,
          2
         ]
        }
       ],
       "layout": {
        "title": "下机批次数&下机项目数周趋势图",
        "xaxis": {
         "mirror": "all",
         "nticks": 20,
         "showgrid": true,
         "showline": true,
         "title": "周",
         "zeroline": true
        },
        "yaxis": {
         "mirror": "all",
         "nticks": 20,
         "showgrid": true,
         "showline": true,
         "title": "下机批次数&下机项目数",
         "zeroline": true
        }
       }
      },
      "text/html": [
       "<div id=\"6e76c0bd-f7da-4545-922b-c1caab0d5b31\" style=\"height: 525px; width: 100%;\" class=\"plotly-graph-div\"></div><script type=\"text/javascript\">require([\"plotly\"], function(Plotly) { window.PLOTLYENV=window.PLOTLYENV || {};window.PLOTLYENV.BASE_URL=\"https://plot.ly\";Plotly.newPlot(\"6e76c0bd-f7da-4545-922b-c1caab0d5b31\", [{\"name\": \"\\u8f66\\u5929\\u680b_\\u4e0b\\u673a\\u6279\\u6b21\\u6570\", \"x\": [\"8-1\", \"8-2\", \"8-3\", \"8-4\", \"8-5\", \"9-1\", \"9-2\"], \"y\": [1.0, 0.0, 0.0, 2.0, 3.0, 0.0, 3.0], \"type\": \"scatter\", \"uid\": \"7ceb93de-c147-11e8-b8b5-d89ef3991fb3\"}, {\"name\": \"\\u8f66\\u5929\\u680b_\\u4e0b\\u673a\\u9879\\u76ee\\u6570\", \"x\": [\"8-1\", \"8-2\", \"8-3\", \"8-4\", \"8-5\", \"9-1\", \"9-2\"], \"y\": [1.0, 0.0, 0.0, 2.0, 3.0, 0.0, 3.0], \"type\": \"scatter\", \"uid\": \"7ceb93df-c147-11e8-9e25-d89ef3991fb3\"}, {\"name\": \"\\u6c88\\u7acb\\u7fa4_\\u4e0b\\u673a\\u6279\\u6b21\\u6570\", \"x\": [\"8-1\", \"8-2\", \"8-3\", \"8-4\", \"8-5\", \"9-1\", \"9-2\"], \"y\": [1.0, 0.0, 1.0, 5.0, 8.0, 3.0, 2.0], \"type\": \"scatter\", \"uid\": \"7ceb93e0-c147-11e8-963c-d89ef3991fb3\"}, {\"name\": \"\\u6c88\\u7acb\\u7fa4_\\u4e0b\\u673a\\u9879\\u76ee\\u6570\", \"x\": [\"8-1\", \"8-2\", \"8-3\", \"8-4\", \"8-5\", \"9-1\", \"9-2\"], \"y\": [1.0, 0.0, 1.0, 4.0, 6.0, 2.0, 2.0], \"type\": \"scatter\", \"uid\": \"7ceb93e1-c147-11e8-b1d6-d89ef3991fb3\"}, {\"name\": \"\\u9ad8\\u5251_\\u4e0b\\u673a\\u6279\\u6b21\\u6570\", \"x\": [\"8-1\", \"8-2\", \"8-3\", \"8-4\", \"8-5\", \"9-1\", \"9-2\"], \"y\": [1.0, 0.0, 1.0, 7.0, 1.0, 0.0, 0.0], \"type\": \"scatter\", \"uid\": \"7ceb93e2-c147-11e8-ae12-d89ef3991fb3\"}, {\"name\": \"\\u9ad8\\u5251_\\u4e0b\\u673a\\u9879\\u76ee\\u6570\", \"x\": [\"8-1\", \"8-2\", \"8-3\", \"8-4\", \"8-5\", \"9-1\", \"9-2\"], \"y\": [1.0, 0.0, 1.0, 5.0, 1.0, 0.0, 0.0], \"type\": \"scatter\", \"uid\": \"7ceb93e3-c147-11e8-baa2-d89ef3991fb3\"}, {\"name\": \"\\u738b\\u4f20\\u6587_\\u4e0b\\u673a\\u6279\\u6b21\\u6570\", \"x\": [\"8-1\", \"8-2\", \"8-3\", \"8-4\", \"8-5\", \"9-1\", \"9-2\"], \"y\": [1.0, 0.0, 1.0, 3.0, 2.0, 2.0, 3.0], \"type\": \"scatter\", \"uid\": \"7cebbacc-c147-11e8-bc21-d89ef3991fb3\"}, {\"name\": \"\\u738b\\u4f20\\u6587_\\u4e0b\\u673a\\u9879\\u76ee\\u6570\", \"x\": [\"8-1\", \"8-2\", \"8-3\", \"8-4\", \"8-5\", \"9-1\", \"9-2\"], \"y\": [1.0, 0.0, 1.0, 3.0, 2.0, 2.0, 3.0], \"type\": \"scatter\", \"uid\": \"7cebbacd-c147-11e8-a4fe-d89ef3991fb3\"}, {\"name\": \"\\u6c88\\u6069\\u60e0_\\u4e0b\\u673a\\u6279\\u6b21\\u6570\", \"x\": [\"8-1\", \"8-2\", \"8-3\", \"8-4\", \"8-5\", \"9-1\", \"9-2\"], \"y\": [1.0, 0.0, 0.0, 3.0, 5.0, 0.0, 2.0], \"type\": \"scatter\", \"uid\": \"7cebbace-c147-11e8-b1b7-d89ef3991fb3\"}, {\"name\": \"\\u6c88\\u6069\\u60e0_\\u4e0b\\u673a\\u9879\\u76ee\\u6570\", \"x\": [\"8-1\", \"8-2\", \"8-3\", \"8-4\", \"8-5\", \"9-1\", \"9-2\"], \"y\": [1.0, 0.0, 0.0, 3.0, 5.0, 0.0, 2.0], \"type\": \"scatter\", \"uid\": \"7cebbacf-c147-11e8-9464-d89ef3991fb3\"}, {\"name\": \"\\u6797\\u6587\\u6587_\\u4e0b\\u673a\\u6279\\u6b21\\u6570\", \"x\": [\"8-1\", \"8-2\", \"8-3\", \"8-4\", \"8-5\", \"9-1\", \"9-2\"], \"y\": [1.0, 0.0, 2.0, 4.0, 4.0, 2.0, 2.0], \"type\": \"scatter\", \"uid\": \"7cebbad0-c147-11e8-91d5-d89ef3991fb3\"}, {\"name\": \"\\u6797\\u6587\\u6587_\\u4e0b\\u673a\\u9879\\u76ee\\u6570\", \"x\": [\"8-1\", \"8-2\", \"8-3\", \"8-4\", \"8-5\", \"9-1\", \"9-2\"], \"y\": [1.0, 0.0, 2.0, 3.0, 4.0, 2.0, 2.0], \"type\": \"scatter\", \"uid\": \"7cebbad1-c147-11e8-8501-d89ef3991fb3\"}], {\"title\": \"\\u4e0b\\u673a\\u6279\\u6b21\\u6570&\\u4e0b\\u673a\\u9879\\u76ee\\u6570\\u5468\\u8d8b\\u52bf\\u56fe\", \"xaxis\": {\"mirror\": \"all\", \"nticks\": 20, \"showgrid\": true, \"showline\": true, \"title\": \"\\u5468\", \"zeroline\": true}, \"yaxis\": {\"mirror\": \"all\", \"nticks\": 20, \"showgrid\": true, \"showline\": true, \"title\": \"\\u4e0b\\u673a\\u6279\\u6b21\\u6570&\\u4e0b\\u673a\\u9879\\u76ee\\u6570\", \"zeroline\": true}}, {\"showLink\": true, \"linkText\": \"Export to plot.ly\"})});</script>"
      ],
      "text/vnd.plotly.v1+html": [
       "<div id=\"6e76c0bd-f7da-4545-922b-c1caab0d5b31\" style=\"height: 525px; width: 100%;\" class=\"plotly-graph-div\"></div><script type=\"text/javascript\">require([\"plotly\"], function(Plotly) { window.PLOTLYENV=window.PLOTLYENV || {};window.PLOTLYENV.BASE_URL=\"https://plot.ly\";Plotly.newPlot(\"6e76c0bd-f7da-4545-922b-c1caab0d5b31\", [{\"name\": \"\\u8f66\\u5929\\u680b_\\u4e0b\\u673a\\u6279\\u6b21\\u6570\", \"x\": [\"8-1\", \"8-2\", \"8-3\", \"8-4\", \"8-5\", \"9-1\", \"9-2\"], \"y\": [1.0, 0.0, 0.0, 2.0, 3.0, 0.0, 3.0], \"type\": \"scatter\", \"uid\": \"7ceb93de-c147-11e8-b8b5-d89ef3991fb3\"}, {\"name\": \"\\u8f66\\u5929\\u680b_\\u4e0b\\u673a\\u9879\\u76ee\\u6570\", \"x\": [\"8-1\", \"8-2\", \"8-3\", \"8-4\", \"8-5\", \"9-1\", \"9-2\"], \"y\": [1.0, 0.0, 0.0, 2.0, 3.0, 0.0, 3.0], \"type\": \"scatter\", \"uid\": \"7ceb93df-c147-11e8-9e25-d89ef3991fb3\"}, {\"name\": \"\\u6c88\\u7acb\\u7fa4_\\u4e0b\\u673a\\u6279\\u6b21\\u6570\", \"x\": [\"8-1\", \"8-2\", \"8-3\", \"8-4\", \"8-5\", \"9-1\", \"9-2\"], \"y\": [1.0, 0.0, 1.0, 5.0, 8.0, 3.0, 2.0], \"type\": \"scatter\", \"uid\": \"7ceb93e0-c147-11e8-963c-d89ef3991fb3\"}, {\"name\": \"\\u6c88\\u7acb\\u7fa4_\\u4e0b\\u673a\\u9879\\u76ee\\u6570\", \"x\": [\"8-1\", \"8-2\", \"8-3\", \"8-4\", \"8-5\", \"9-1\", \"9-2\"], \"y\": [1.0, 0.0, 1.0, 4.0, 6.0, 2.0, 2.0], \"type\": \"scatter\", \"uid\": \"7ceb93e1-c147-11e8-b1d6-d89ef3991fb3\"}, {\"name\": \"\\u9ad8\\u5251_\\u4e0b\\u673a\\u6279\\u6b21\\u6570\", \"x\": [\"8-1\", \"8-2\", \"8-3\", \"8-4\", \"8-5\", \"9-1\", \"9-2\"], \"y\": [1.0, 0.0, 1.0, 7.0, 1.0, 0.0, 0.0], \"type\": \"scatter\", \"uid\": \"7ceb93e2-c147-11e8-ae12-d89ef3991fb3\"}, {\"name\": \"\\u9ad8\\u5251_\\u4e0b\\u673a\\u9879\\u76ee\\u6570\", \"x\": [\"8-1\", \"8-2\", \"8-3\", \"8-4\", \"8-5\", \"9-1\", \"9-2\"], \"y\": [1.0, 0.0, 1.0, 5.0, 1.0, 0.0, 0.0], \"type\": \"scatter\", \"uid\": \"7ceb93e3-c147-11e8-baa2-d89ef3991fb3\"}, {\"name\": \"\\u738b\\u4f20\\u6587_\\u4e0b\\u673a\\u6279\\u6b21\\u6570\", \"x\": [\"8-1\", \"8-2\", \"8-3\", \"8-4\", \"8-5\", \"9-1\", \"9-2\"], \"y\": [1.0, 0.0, 1.0, 3.0, 2.0, 2.0, 3.0], \"type\": \"scatter\", \"uid\": \"7cebbacc-c147-11e8-bc21-d89ef3991fb3\"}, {\"name\": \"\\u738b\\u4f20\\u6587_\\u4e0b\\u673a\\u9879\\u76ee\\u6570\", \"x\": [\"8-1\", \"8-2\", \"8-3\", \"8-4\", \"8-5\", \"9-1\", \"9-2\"], \"y\": [1.0, 0.0, 1.0, 3.0, 2.0, 2.0, 3.0], \"type\": \"scatter\", \"uid\": \"7cebbacd-c147-11e8-a4fe-d89ef3991fb3\"}, {\"name\": \"\\u6c88\\u6069\\u60e0_\\u4e0b\\u673a\\u6279\\u6b21\\u6570\", \"x\": [\"8-1\", \"8-2\", \"8-3\", \"8-4\", \"8-5\", \"9-1\", \"9-2\"], \"y\": [1.0, 0.0, 0.0, 3.0, 5.0, 0.0, 2.0], \"type\": \"scatter\", \"uid\": \"7cebbace-c147-11e8-b1b7-d89ef3991fb3\"}, {\"name\": \"\\u6c88\\u6069\\u60e0_\\u4e0b\\u673a\\u9879\\u76ee\\u6570\", \"x\": [\"8-1\", \"8-2\", \"8-3\", \"8-4\", \"8-5\", \"9-1\", \"9-2\"], \"y\": [1.0, 0.0, 0.0, 3.0, 5.0, 0.0, 2.0], \"type\": \"scatter\", \"uid\": \"7cebbacf-c147-11e8-9464-d89ef3991fb3\"}, {\"name\": \"\\u6797\\u6587\\u6587_\\u4e0b\\u673a\\u6279\\u6b21\\u6570\", \"x\": [\"8-1\", \"8-2\", \"8-3\", \"8-4\", \"8-5\", \"9-1\", \"9-2\"], \"y\": [1.0, 0.0, 2.0, 4.0, 4.0, 2.0, 2.0], \"type\": \"scatter\", \"uid\": \"7cebbad0-c147-11e8-91d5-d89ef3991fb3\"}, {\"name\": \"\\u6797\\u6587\\u6587_\\u4e0b\\u673a\\u9879\\u76ee\\u6570\", \"x\": [\"8-1\", \"8-2\", \"8-3\", \"8-4\", \"8-5\", \"9-1\", \"9-2\"], \"y\": [1.0, 0.0, 2.0, 3.0, 4.0, 2.0, 2.0], \"type\": \"scatter\", \"uid\": \"7cebbad1-c147-11e8-8501-d89ef3991fb3\"}], {\"title\": \"\\u4e0b\\u673a\\u6279\\u6b21\\u6570&\\u4e0b\\u673a\\u9879\\u76ee\\u6570\\u5468\\u8d8b\\u52bf\\u56fe\", \"xaxis\": {\"mirror\": \"all\", \"nticks\": 20, \"showgrid\": true, \"showline\": true, \"title\": \"\\u5468\", \"zeroline\": true}, \"yaxis\": {\"mirror\": \"all\", \"nticks\": 20, \"showgrid\": true, \"showline\": true, \"title\": \"\\u4e0b\\u673a\\u6279\\u6b21\\u6570&\\u4e0b\\u673a\\u9879\\u76ee\\u6570\", \"zeroline\": true}}, {\"showLink\": true, \"linkText\": \"Export to plot.ly\"})});</script>"
      ]
     },
     "metadata": {},
     "output_type": "display_data"
    },
    {
     "data": {
      "application/vnd.plotly.v1+json": {
       "data": [
        {
         "name": "车天栋_下机批次数",
         "type": "scatter",
         "uid": "7d032922-c147-11e8-a0a7-d89ef3991fb3",
         "x": [
          "8",
          "9"
         ],
         "y": [
          6,
          3
         ]
        },
        {
         "name": "车天栋_下机项目数",
         "type": "scatter",
         "uid": "7d032923-c147-11e8-90f8-d89ef3991fb3",
         "x": [
          "8",
          "9"
         ],
         "y": [
          6,
          3
         ]
        },
        {
         "name": "沈立群_下机批次数",
         "type": "scatter",
         "uid": "7d032924-c147-11e8-bd34-d89ef3991fb3",
         "x": [
          "8",
          "9"
         ],
         "y": [
          15,
          5
         ]
        },
        {
         "name": "沈立群_下机项目数",
         "type": "scatter",
         "uid": "7d032925-c147-11e8-bc48-d89ef3991fb3",
         "x": [
          "8",
          "9"
         ],
         "y": [
          12,
          4
         ]
        },
        {
         "name": "高剑_下机批次数",
         "type": "scatter",
         "uid": "7d032926-c147-11e8-9c5c-d89ef3991fb3",
         "x": [
          "8",
          "9"
         ],
         "y": [
          10,
          0
         ]
        },
        {
         "name": "高剑_下机项目数",
         "type": "scatter",
         "uid": "7d032927-c147-11e8-9d31-d89ef3991fb3",
         "x": [
          "8",
          "9"
         ],
         "y": [
          8,
          0
         ]
        },
        {
         "name": "王传文_下机批次数",
         "type": "scatter",
         "uid": "7d032928-c147-11e8-bf76-d89ef3991fb3",
         "x": [
          "8",
          "9"
         ],
         "y": [
          7,
          5
         ]
        },
        {
         "name": "王传文_下机项目数",
         "type": "scatter",
         "uid": "7d032929-c147-11e8-a6ee-d89ef3991fb3",
         "x": [
          "8",
          "9"
         ],
         "y": [
          7,
          5
         ]
        },
        {
         "name": "沈恩惠_下机批次数",
         "type": "scatter",
         "uid": "7d03292a-c147-11e8-aa1d-d89ef3991fb3",
         "x": [
          "8",
          "9"
         ],
         "y": [
          9,
          2
         ]
        },
        {
         "name": "沈恩惠_下机项目数",
         "type": "scatter",
         "uid": "7d03292b-c147-11e8-a132-d89ef3991fb3",
         "x": [
          "8",
          "9"
         ],
         "y": [
          9,
          2
         ]
        },
        {
         "name": "林文文_下机批次数",
         "type": "scatter",
         "uid": "7d03292c-c147-11e8-94d1-d89ef3991fb3",
         "x": [
          "8",
          "9"
         ],
         "y": [
          11,
          4
         ]
        },
        {
         "name": "林文文_下机项目数",
         "type": "scatter",
         "uid": "7d03292d-c147-11e8-a3be-d89ef3991fb3",
         "x": [
          "8",
          "9"
         ],
         "y": [
          10,
          4
         ]
        }
       ],
       "layout": {
        "title": "下机批次数&下机项目数月趋势图",
        "xaxis": {
         "mirror": "all",
         "nticks": 20,
         "showgrid": true,
         "showline": true,
         "title": "月",
         "zeroline": true
        },
        "yaxis": {
         "mirror": "all",
         "nticks": 20,
         "showgrid": true,
         "showline": true,
         "title": "下机批次数&下机项目数",
         "zeroline": true
        }
       }
      },
      "text/html": [
       "<div id=\"28b8ba58-d2db-4735-a01d-d4d7ca4119cb\" style=\"height: 525px; width: 100%;\" class=\"plotly-graph-div\"></div><script type=\"text/javascript\">require([\"plotly\"], function(Plotly) { window.PLOTLYENV=window.PLOTLYENV || {};window.PLOTLYENV.BASE_URL=\"https://plot.ly\";Plotly.newPlot(\"28b8ba58-d2db-4735-a01d-d4d7ca4119cb\", [{\"name\": \"\\u8f66\\u5929\\u680b_\\u4e0b\\u673a\\u6279\\u6b21\\u6570\", \"x\": [\"8\", \"9\"], \"y\": [6.0, 3.0], \"type\": \"scatter\", \"uid\": \"7d032922-c147-11e8-a0a7-d89ef3991fb3\"}, {\"name\": \"\\u8f66\\u5929\\u680b_\\u4e0b\\u673a\\u9879\\u76ee\\u6570\", \"x\": [\"8\", \"9\"], \"y\": [6.0, 3.0], \"type\": \"scatter\", \"uid\": \"7d032923-c147-11e8-90f8-d89ef3991fb3\"}, {\"name\": \"\\u6c88\\u7acb\\u7fa4_\\u4e0b\\u673a\\u6279\\u6b21\\u6570\", \"x\": [\"8\", \"9\"], \"y\": [15.0, 5.0], \"type\": \"scatter\", \"uid\": \"7d032924-c147-11e8-bd34-d89ef3991fb3\"}, {\"name\": \"\\u6c88\\u7acb\\u7fa4_\\u4e0b\\u673a\\u9879\\u76ee\\u6570\", \"x\": [\"8\", \"9\"], \"y\": [12.0, 4.0], \"type\": \"scatter\", \"uid\": \"7d032925-c147-11e8-bc48-d89ef3991fb3\"}, {\"name\": \"\\u9ad8\\u5251_\\u4e0b\\u673a\\u6279\\u6b21\\u6570\", \"x\": [\"8\", \"9\"], \"y\": [10.0, 0.0], \"type\": \"scatter\", \"uid\": \"7d032926-c147-11e8-9c5c-d89ef3991fb3\"}, {\"name\": \"\\u9ad8\\u5251_\\u4e0b\\u673a\\u9879\\u76ee\\u6570\", \"x\": [\"8\", \"9\"], \"y\": [8.0, 0.0], \"type\": \"scatter\", \"uid\": \"7d032927-c147-11e8-9d31-d89ef3991fb3\"}, {\"name\": \"\\u738b\\u4f20\\u6587_\\u4e0b\\u673a\\u6279\\u6b21\\u6570\", \"x\": [\"8\", \"9\"], \"y\": [7.0, 5.0], \"type\": \"scatter\", \"uid\": \"7d032928-c147-11e8-bf76-d89ef3991fb3\"}, {\"name\": \"\\u738b\\u4f20\\u6587_\\u4e0b\\u673a\\u9879\\u76ee\\u6570\", \"x\": [\"8\", \"9\"], \"y\": [7.0, 5.0], \"type\": \"scatter\", \"uid\": \"7d032929-c147-11e8-a6ee-d89ef3991fb3\"}, {\"name\": \"\\u6c88\\u6069\\u60e0_\\u4e0b\\u673a\\u6279\\u6b21\\u6570\", \"x\": [\"8\", \"9\"], \"y\": [9.0, 2.0], \"type\": \"scatter\", \"uid\": \"7d03292a-c147-11e8-aa1d-d89ef3991fb3\"}, {\"name\": \"\\u6c88\\u6069\\u60e0_\\u4e0b\\u673a\\u9879\\u76ee\\u6570\", \"x\": [\"8\", \"9\"], \"y\": [9.0, 2.0], \"type\": \"scatter\", \"uid\": \"7d03292b-c147-11e8-a132-d89ef3991fb3\"}, {\"name\": \"\\u6797\\u6587\\u6587_\\u4e0b\\u673a\\u6279\\u6b21\\u6570\", \"x\": [\"8\", \"9\"], \"y\": [11.0, 4.0], \"type\": \"scatter\", \"uid\": \"7d03292c-c147-11e8-94d1-d89ef3991fb3\"}, {\"name\": \"\\u6797\\u6587\\u6587_\\u4e0b\\u673a\\u9879\\u76ee\\u6570\", \"x\": [\"8\", \"9\"], \"y\": [10.0, 4.0], \"type\": \"scatter\", \"uid\": \"7d03292d-c147-11e8-a3be-d89ef3991fb3\"}], {\"title\": \"\\u4e0b\\u673a\\u6279\\u6b21\\u6570&\\u4e0b\\u673a\\u9879\\u76ee\\u6570\\u6708\\u8d8b\\u52bf\\u56fe\", \"xaxis\": {\"mirror\": \"all\", \"nticks\": 20, \"showgrid\": true, \"showline\": true, \"title\": \"\\u6708\", \"zeroline\": true}, \"yaxis\": {\"mirror\": \"all\", \"nticks\": 20, \"showgrid\": true, \"showline\": true, \"title\": \"\\u4e0b\\u673a\\u6279\\u6b21\\u6570&\\u4e0b\\u673a\\u9879\\u76ee\\u6570\", \"zeroline\": true}}, {\"showLink\": true, \"linkText\": \"Export to plot.ly\"})});</script>"
      ],
      "text/vnd.plotly.v1+html": [
       "<div id=\"28b8ba58-d2db-4735-a01d-d4d7ca4119cb\" style=\"height: 525px; width: 100%;\" class=\"plotly-graph-div\"></div><script type=\"text/javascript\">require([\"plotly\"], function(Plotly) { window.PLOTLYENV=window.PLOTLYENV || {};window.PLOTLYENV.BASE_URL=\"https://plot.ly\";Plotly.newPlot(\"28b8ba58-d2db-4735-a01d-d4d7ca4119cb\", [{\"name\": \"\\u8f66\\u5929\\u680b_\\u4e0b\\u673a\\u6279\\u6b21\\u6570\", \"x\": [\"8\", \"9\"], \"y\": [6.0, 3.0], \"type\": \"scatter\", \"uid\": \"7d032922-c147-11e8-a0a7-d89ef3991fb3\"}, {\"name\": \"\\u8f66\\u5929\\u680b_\\u4e0b\\u673a\\u9879\\u76ee\\u6570\", \"x\": [\"8\", \"9\"], \"y\": [6.0, 3.0], \"type\": \"scatter\", \"uid\": \"7d032923-c147-11e8-90f8-d89ef3991fb3\"}, {\"name\": \"\\u6c88\\u7acb\\u7fa4_\\u4e0b\\u673a\\u6279\\u6b21\\u6570\", \"x\": [\"8\", \"9\"], \"y\": [15.0, 5.0], \"type\": \"scatter\", \"uid\": \"7d032924-c147-11e8-bd34-d89ef3991fb3\"}, {\"name\": \"\\u6c88\\u7acb\\u7fa4_\\u4e0b\\u673a\\u9879\\u76ee\\u6570\", \"x\": [\"8\", \"9\"], \"y\": [12.0, 4.0], \"type\": \"scatter\", \"uid\": \"7d032925-c147-11e8-bc48-d89ef3991fb3\"}, {\"name\": \"\\u9ad8\\u5251_\\u4e0b\\u673a\\u6279\\u6b21\\u6570\", \"x\": [\"8\", \"9\"], \"y\": [10.0, 0.0], \"type\": \"scatter\", \"uid\": \"7d032926-c147-11e8-9c5c-d89ef3991fb3\"}, {\"name\": \"\\u9ad8\\u5251_\\u4e0b\\u673a\\u9879\\u76ee\\u6570\", \"x\": [\"8\", \"9\"], \"y\": [8.0, 0.0], \"type\": \"scatter\", \"uid\": \"7d032927-c147-11e8-9d31-d89ef3991fb3\"}, {\"name\": \"\\u738b\\u4f20\\u6587_\\u4e0b\\u673a\\u6279\\u6b21\\u6570\", \"x\": [\"8\", \"9\"], \"y\": [7.0, 5.0], \"type\": \"scatter\", \"uid\": \"7d032928-c147-11e8-bf76-d89ef3991fb3\"}, {\"name\": \"\\u738b\\u4f20\\u6587_\\u4e0b\\u673a\\u9879\\u76ee\\u6570\", \"x\": [\"8\", \"9\"], \"y\": [7.0, 5.0], \"type\": \"scatter\", \"uid\": \"7d032929-c147-11e8-a6ee-d89ef3991fb3\"}, {\"name\": \"\\u6c88\\u6069\\u60e0_\\u4e0b\\u673a\\u6279\\u6b21\\u6570\", \"x\": [\"8\", \"9\"], \"y\": [9.0, 2.0], \"type\": \"scatter\", \"uid\": \"7d03292a-c147-11e8-aa1d-d89ef3991fb3\"}, {\"name\": \"\\u6c88\\u6069\\u60e0_\\u4e0b\\u673a\\u9879\\u76ee\\u6570\", \"x\": [\"8\", \"9\"], \"y\": [9.0, 2.0], \"type\": \"scatter\", \"uid\": \"7d03292b-c147-11e8-a132-d89ef3991fb3\"}, {\"name\": \"\\u6797\\u6587\\u6587_\\u4e0b\\u673a\\u6279\\u6b21\\u6570\", \"x\": [\"8\", \"9\"], \"y\": [11.0, 4.0], \"type\": \"scatter\", \"uid\": \"7d03292c-c147-11e8-94d1-d89ef3991fb3\"}, {\"name\": \"\\u6797\\u6587\\u6587_\\u4e0b\\u673a\\u9879\\u76ee\\u6570\", \"x\": [\"8\", \"9\"], \"y\": [10.0, 4.0], \"type\": \"scatter\", \"uid\": \"7d03292d-c147-11e8-a3be-d89ef3991fb3\"}], {\"title\": \"\\u4e0b\\u673a\\u6279\\u6b21\\u6570&\\u4e0b\\u673a\\u9879\\u76ee\\u6570\\u6708\\u8d8b\\u52bf\\u56fe\", \"xaxis\": {\"mirror\": \"all\", \"nticks\": 20, \"showgrid\": true, \"showline\": true, \"title\": \"\\u6708\", \"zeroline\": true}, \"yaxis\": {\"mirror\": \"all\", \"nticks\": 20, \"showgrid\": true, \"showline\": true, \"title\": \"\\u4e0b\\u673a\\u6279\\u6b21\\u6570&\\u4e0b\\u673a\\u9879\\u76ee\\u6570\", \"zeroline\": true}}, {\"showLink\": true, \"linkText\": \"Export to plot.ly\"})});</script>"
      ]
     },
     "metadata": {},
     "output_type": "display_data"
    }
   ],
   "source": [
    "data_dict = {'下机批次数':['下机批次数'],'下机项目数':['下机项目数']}\n",
    "myModule.plot( all_dict, data_dict, '人员' ,  'line' )"
   ]
  },
  {
   "cell_type": "markdown",
   "metadata": {},
   "source": [
    "### 效率"
   ]
  },
  {
   "cell_type": "markdown",
   "metadata": {},
   "source": [
    "#### 反馈及时率和数据及时交付率"
   ]
  },
  {
   "cell_type": "code",
   "execution_count": 58,
   "metadata": {},
   "outputs": [
    {
     "data": {
      "application/vnd.plotly.v1+json": {
       "data": [
        {
         "name": "车天栋_反馈及时率",
         "type": "scatter",
         "uid": "7d47a56e-c147-11e8-b128-d89ef3991fb3",
         "x": [
          "8-1",
          "8-2",
          "8-3",
          "8-4",
          "8-5",
          "9-1",
          "9-2"
         ],
         "y": [
          1,
          null,
          null,
          1,
          1,
          null,
          1
         ]
        },
        {
         "name": "车天栋_数据及时交付率",
         "type": "scatter",
         "uid": "7d47a56f-c147-11e8-929d-d89ef3991fb3",
         "x": [
          "8-1",
          "8-2",
          "8-3",
          "8-4",
          "8-5",
          "9-1",
          "9-2"
         ],
         "y": [
          1,
          null,
          null,
          null,
          1,
          null,
          null
         ]
        },
        {
         "name": "沈立群_反馈及时率",
         "type": "scatter",
         "uid": "7d47a570-c147-11e8-84c3-d89ef3991fb3",
         "x": [
          "8-1",
          "8-2",
          "8-3",
          "8-4",
          "8-5",
          "9-1",
          "9-2"
         ],
         "y": [
          1,
          null,
          1,
          1,
          0.75,
          1,
          1
         ]
        },
        {
         "name": "沈立群_数据及时交付率",
         "type": "scatter",
         "uid": "7d47a571-c147-11e8-9f15-d89ef3991fb3",
         "x": [
          "8-1",
          "8-2",
          "8-3",
          "8-4",
          "8-5",
          "9-1",
          "9-2"
         ],
         "y": [
          1,
          null,
          1,
          null,
          1,
          1,
          null
         ]
        },
        {
         "name": "高剑_反馈及时率",
         "type": "scatter",
         "uid": "7d47a572-c147-11e8-bcdd-d89ef3991fb3",
         "x": [
          "8-1",
          "8-2",
          "8-3",
          "8-4",
          "8-5",
          "9-1",
          "9-2"
         ],
         "y": [
          1,
          null,
          0,
          1,
          1,
          null,
          null
         ]
        },
        {
         "name": "高剑_数据及时交付率",
         "type": "scatter",
         "uid": "7d47a573-c147-11e8-b15d-d89ef3991fb3",
         "x": [
          "8-1",
          "8-2",
          "8-3",
          "8-4",
          "8-5",
          "9-1",
          "9-2"
         ],
         "y": [
          1,
          null,
          1,
          null,
          null,
          null,
          null
         ]
        },
        {
         "name": "王传文_反馈及时率",
         "type": "scatter",
         "uid": "7d47a574-c147-11e8-8912-d89ef3991fb3",
         "x": [
          "8-1",
          "8-2",
          "8-3",
          "8-4",
          "8-5",
          "9-1",
          "9-2"
         ],
         "y": [
          1,
          null,
          1,
          1,
          1,
          1,
          1
         ]
        },
        {
         "name": "王传文_数据及时交付率",
         "type": "scatter",
         "uid": "7d47a575-c147-11e8-90d6-d89ef3991fb3",
         "x": [
          "8-1",
          "8-2",
          "8-3",
          "8-4",
          "8-5",
          "9-1",
          "9-2"
         ],
         "y": [
          1,
          null,
          1,
          null,
          null,
          1,
          null
         ]
        },
        {
         "name": "沈恩惠_反馈及时率",
         "type": "scatter",
         "uid": "7d47a576-c147-11e8-8b70-d89ef3991fb3",
         "x": [
          "8-1",
          "8-2",
          "8-3",
          "8-4",
          "8-5",
          "9-1",
          "9-2"
         ],
         "y": [
          1,
          null,
          null,
          1,
          0.8,
          null,
          1
         ]
        },
        {
         "name": "沈恩惠_数据及时交付率",
         "type": "scatter",
         "uid": "7d47a577-c147-11e8-ae6a-d89ef3991fb3",
         "x": [
          "8-1",
          "8-2",
          "8-3",
          "8-4",
          "8-5",
          "9-1",
          "9-2"
         ],
         "y": [
          1,
          null,
          null,
          null,
          1,
          null,
          null
         ]
        },
        {
         "name": "林文文_反馈及时率",
         "type": "scatter",
         "uid": "7d47a578-c147-11e8-8d8f-d89ef3991fb3",
         "x": [
          "8-1",
          "8-2",
          "8-3",
          "8-4",
          "8-5",
          "9-1",
          "9-2"
         ],
         "y": [
          1,
          null,
          0.5,
          1,
          1,
          1,
          1
         ]
        },
        {
         "name": "林文文_数据及时交付率",
         "type": "scatter",
         "uid": "7d47a579-c147-11e8-9190-d89ef3991fb3",
         "x": [
          "8-1",
          "8-2",
          "8-3",
          "8-4",
          "8-5",
          "9-1",
          "9-2"
         ],
         "y": [
          1,
          null,
          1,
          null,
          1,
          1,
          null
         ]
        }
       ],
       "layout": {
        "title": "反馈及时率&数据及时交付率周趋势图",
        "xaxis": {
         "mirror": "all",
         "nticks": 20,
         "showgrid": true,
         "showline": true,
         "title": "周",
         "zeroline": true
        },
        "yaxis": {
         "mirror": "all",
         "nticks": 20,
         "showgrid": true,
         "showline": true,
         "title": "反馈及时率&数据及时交付率",
         "zeroline": true
        }
       }
      },
      "text/html": [
       "<div id=\"f9841f91-164d-4166-ba86-a8a79727a8b8\" style=\"height: 525px; width: 100%;\" class=\"plotly-graph-div\"></div><script type=\"text/javascript\">require([\"plotly\"], function(Plotly) { window.PLOTLYENV=window.PLOTLYENV || {};window.PLOTLYENV.BASE_URL=\"https://plot.ly\";Plotly.newPlot(\"f9841f91-164d-4166-ba86-a8a79727a8b8\", [{\"name\": \"\\u8f66\\u5929\\u680b_\\u53cd\\u9988\\u53ca\\u65f6\\u7387\", \"x\": [\"8-1\", \"8-2\", \"8-3\", \"8-4\", \"8-5\", \"9-1\", \"9-2\"], \"y\": [1.0, null, null, 1.0, 1.0, null, 1.0], \"type\": \"scatter\", \"uid\": \"7d47a56e-c147-11e8-b128-d89ef3991fb3\"}, {\"name\": \"\\u8f66\\u5929\\u680b_\\u6570\\u636e\\u53ca\\u65f6\\u4ea4\\u4ed8\\u7387\", \"x\": [\"8-1\", \"8-2\", \"8-3\", \"8-4\", \"8-5\", \"9-1\", \"9-2\"], \"y\": [1.0, null, null, null, 1.0, null, null], \"type\": \"scatter\", \"uid\": \"7d47a56f-c147-11e8-929d-d89ef3991fb3\"}, {\"name\": \"\\u6c88\\u7acb\\u7fa4_\\u53cd\\u9988\\u53ca\\u65f6\\u7387\", \"x\": [\"8-1\", \"8-2\", \"8-3\", \"8-4\", \"8-5\", \"9-1\", \"9-2\"], \"y\": [1.0, null, 1.0, 1.0, 0.75, 1.0, 1.0], \"type\": \"scatter\", \"uid\": \"7d47a570-c147-11e8-84c3-d89ef3991fb3\"}, {\"name\": \"\\u6c88\\u7acb\\u7fa4_\\u6570\\u636e\\u53ca\\u65f6\\u4ea4\\u4ed8\\u7387\", \"x\": [\"8-1\", \"8-2\", \"8-3\", \"8-4\", \"8-5\", \"9-1\", \"9-2\"], \"y\": [1.0, null, 1.0, null, 1.0, 1.0, null], \"type\": \"scatter\", \"uid\": \"7d47a571-c147-11e8-9f15-d89ef3991fb3\"}, {\"name\": \"\\u9ad8\\u5251_\\u53cd\\u9988\\u53ca\\u65f6\\u7387\", \"x\": [\"8-1\", \"8-2\", \"8-3\", \"8-4\", \"8-5\", \"9-1\", \"9-2\"], \"y\": [1.0, null, 0.0, 1.0, 1.0, null, null], \"type\": \"scatter\", \"uid\": \"7d47a572-c147-11e8-bcdd-d89ef3991fb3\"}, {\"name\": \"\\u9ad8\\u5251_\\u6570\\u636e\\u53ca\\u65f6\\u4ea4\\u4ed8\\u7387\", \"x\": [\"8-1\", \"8-2\", \"8-3\", \"8-4\", \"8-5\", \"9-1\", \"9-2\"], \"y\": [1.0, null, 1.0, null, null, null, null], \"type\": \"scatter\", \"uid\": \"7d47a573-c147-11e8-b15d-d89ef3991fb3\"}, {\"name\": \"\\u738b\\u4f20\\u6587_\\u53cd\\u9988\\u53ca\\u65f6\\u7387\", \"x\": [\"8-1\", \"8-2\", \"8-3\", \"8-4\", \"8-5\", \"9-1\", \"9-2\"], \"y\": [1.0, null, 1.0, 1.0, 1.0, 1.0, 1.0], \"type\": \"scatter\", \"uid\": \"7d47a574-c147-11e8-8912-d89ef3991fb3\"}, {\"name\": \"\\u738b\\u4f20\\u6587_\\u6570\\u636e\\u53ca\\u65f6\\u4ea4\\u4ed8\\u7387\", \"x\": [\"8-1\", \"8-2\", \"8-3\", \"8-4\", \"8-5\", \"9-1\", \"9-2\"], \"y\": [1.0, null, 1.0, null, null, 1.0, null], \"type\": \"scatter\", \"uid\": \"7d47a575-c147-11e8-90d6-d89ef3991fb3\"}, {\"name\": \"\\u6c88\\u6069\\u60e0_\\u53cd\\u9988\\u53ca\\u65f6\\u7387\", \"x\": [\"8-1\", \"8-2\", \"8-3\", \"8-4\", \"8-5\", \"9-1\", \"9-2\"], \"y\": [1.0, null, null, 1.0, 0.8, null, 1.0], \"type\": \"scatter\", \"uid\": \"7d47a576-c147-11e8-8b70-d89ef3991fb3\"}, {\"name\": \"\\u6c88\\u6069\\u60e0_\\u6570\\u636e\\u53ca\\u65f6\\u4ea4\\u4ed8\\u7387\", \"x\": [\"8-1\", \"8-2\", \"8-3\", \"8-4\", \"8-5\", \"9-1\", \"9-2\"], \"y\": [1.0, null, null, null, 1.0, null, null], \"type\": \"scatter\", \"uid\": \"7d47a577-c147-11e8-ae6a-d89ef3991fb3\"}, {\"name\": \"\\u6797\\u6587\\u6587_\\u53cd\\u9988\\u53ca\\u65f6\\u7387\", \"x\": [\"8-1\", \"8-2\", \"8-3\", \"8-4\", \"8-5\", \"9-1\", \"9-2\"], \"y\": [1.0, null, 0.5, 1.0, 1.0, 1.0, 1.0], \"type\": \"scatter\", \"uid\": \"7d47a578-c147-11e8-8d8f-d89ef3991fb3\"}, {\"name\": \"\\u6797\\u6587\\u6587_\\u6570\\u636e\\u53ca\\u65f6\\u4ea4\\u4ed8\\u7387\", \"x\": [\"8-1\", \"8-2\", \"8-3\", \"8-4\", \"8-5\", \"9-1\", \"9-2\"], \"y\": [1.0, null, 1.0, null, 1.0, 1.0, null], \"type\": \"scatter\", \"uid\": \"7d47a579-c147-11e8-9190-d89ef3991fb3\"}], {\"title\": \"\\u53cd\\u9988\\u53ca\\u65f6\\u7387&\\u6570\\u636e\\u53ca\\u65f6\\u4ea4\\u4ed8\\u7387\\u5468\\u8d8b\\u52bf\\u56fe\", \"xaxis\": {\"mirror\": \"all\", \"nticks\": 20, \"showgrid\": true, \"showline\": true, \"title\": \"\\u5468\", \"zeroline\": true}, \"yaxis\": {\"mirror\": \"all\", \"nticks\": 20, \"showgrid\": true, \"showline\": true, \"title\": \"\\u53cd\\u9988\\u53ca\\u65f6\\u7387&\\u6570\\u636e\\u53ca\\u65f6\\u4ea4\\u4ed8\\u7387\", \"zeroline\": true}}, {\"showLink\": true, \"linkText\": \"Export to plot.ly\"})});</script>"
      ],
      "text/vnd.plotly.v1+html": [
       "<div id=\"f9841f91-164d-4166-ba86-a8a79727a8b8\" style=\"height: 525px; width: 100%;\" class=\"plotly-graph-div\"></div><script type=\"text/javascript\">require([\"plotly\"], function(Plotly) { window.PLOTLYENV=window.PLOTLYENV || {};window.PLOTLYENV.BASE_URL=\"https://plot.ly\";Plotly.newPlot(\"f9841f91-164d-4166-ba86-a8a79727a8b8\", [{\"name\": \"\\u8f66\\u5929\\u680b_\\u53cd\\u9988\\u53ca\\u65f6\\u7387\", \"x\": [\"8-1\", \"8-2\", \"8-3\", \"8-4\", \"8-5\", \"9-1\", \"9-2\"], \"y\": [1.0, null, null, 1.0, 1.0, null, 1.0], \"type\": \"scatter\", \"uid\": \"7d47a56e-c147-11e8-b128-d89ef3991fb3\"}, {\"name\": \"\\u8f66\\u5929\\u680b_\\u6570\\u636e\\u53ca\\u65f6\\u4ea4\\u4ed8\\u7387\", \"x\": [\"8-1\", \"8-2\", \"8-3\", \"8-4\", \"8-5\", \"9-1\", \"9-2\"], \"y\": [1.0, null, null, null, 1.0, null, null], \"type\": \"scatter\", \"uid\": \"7d47a56f-c147-11e8-929d-d89ef3991fb3\"}, {\"name\": \"\\u6c88\\u7acb\\u7fa4_\\u53cd\\u9988\\u53ca\\u65f6\\u7387\", \"x\": [\"8-1\", \"8-2\", \"8-3\", \"8-4\", \"8-5\", \"9-1\", \"9-2\"], \"y\": [1.0, null, 1.0, 1.0, 0.75, 1.0, 1.0], \"type\": \"scatter\", \"uid\": \"7d47a570-c147-11e8-84c3-d89ef3991fb3\"}, {\"name\": \"\\u6c88\\u7acb\\u7fa4_\\u6570\\u636e\\u53ca\\u65f6\\u4ea4\\u4ed8\\u7387\", \"x\": [\"8-1\", \"8-2\", \"8-3\", \"8-4\", \"8-5\", \"9-1\", \"9-2\"], \"y\": [1.0, null, 1.0, null, 1.0, 1.0, null], \"type\": \"scatter\", \"uid\": \"7d47a571-c147-11e8-9f15-d89ef3991fb3\"}, {\"name\": \"\\u9ad8\\u5251_\\u53cd\\u9988\\u53ca\\u65f6\\u7387\", \"x\": [\"8-1\", \"8-2\", \"8-3\", \"8-4\", \"8-5\", \"9-1\", \"9-2\"], \"y\": [1.0, null, 0.0, 1.0, 1.0, null, null], \"type\": \"scatter\", \"uid\": \"7d47a572-c147-11e8-bcdd-d89ef3991fb3\"}, {\"name\": \"\\u9ad8\\u5251_\\u6570\\u636e\\u53ca\\u65f6\\u4ea4\\u4ed8\\u7387\", \"x\": [\"8-1\", \"8-2\", \"8-3\", \"8-4\", \"8-5\", \"9-1\", \"9-2\"], \"y\": [1.0, null, 1.0, null, null, null, null], \"type\": \"scatter\", \"uid\": \"7d47a573-c147-11e8-b15d-d89ef3991fb3\"}, {\"name\": \"\\u738b\\u4f20\\u6587_\\u53cd\\u9988\\u53ca\\u65f6\\u7387\", \"x\": [\"8-1\", \"8-2\", \"8-3\", \"8-4\", \"8-5\", \"9-1\", \"9-2\"], \"y\": [1.0, null, 1.0, 1.0, 1.0, 1.0, 1.0], \"type\": \"scatter\", \"uid\": \"7d47a574-c147-11e8-8912-d89ef3991fb3\"}, {\"name\": \"\\u738b\\u4f20\\u6587_\\u6570\\u636e\\u53ca\\u65f6\\u4ea4\\u4ed8\\u7387\", \"x\": [\"8-1\", \"8-2\", \"8-3\", \"8-4\", \"8-5\", \"9-1\", \"9-2\"], \"y\": [1.0, null, 1.0, null, null, 1.0, null], \"type\": \"scatter\", \"uid\": \"7d47a575-c147-11e8-90d6-d89ef3991fb3\"}, {\"name\": \"\\u6c88\\u6069\\u60e0_\\u53cd\\u9988\\u53ca\\u65f6\\u7387\", \"x\": [\"8-1\", \"8-2\", \"8-3\", \"8-4\", \"8-5\", \"9-1\", \"9-2\"], \"y\": [1.0, null, null, 1.0, 0.8, null, 1.0], \"type\": \"scatter\", \"uid\": \"7d47a576-c147-11e8-8b70-d89ef3991fb3\"}, {\"name\": \"\\u6c88\\u6069\\u60e0_\\u6570\\u636e\\u53ca\\u65f6\\u4ea4\\u4ed8\\u7387\", \"x\": [\"8-1\", \"8-2\", \"8-3\", \"8-4\", \"8-5\", \"9-1\", \"9-2\"], \"y\": [1.0, null, null, null, 1.0, null, null], \"type\": \"scatter\", \"uid\": \"7d47a577-c147-11e8-ae6a-d89ef3991fb3\"}, {\"name\": \"\\u6797\\u6587\\u6587_\\u53cd\\u9988\\u53ca\\u65f6\\u7387\", \"x\": [\"8-1\", \"8-2\", \"8-3\", \"8-4\", \"8-5\", \"9-1\", \"9-2\"], \"y\": [1.0, null, 0.5, 1.0, 1.0, 1.0, 1.0], \"type\": \"scatter\", \"uid\": \"7d47a578-c147-11e8-8d8f-d89ef3991fb3\"}, {\"name\": \"\\u6797\\u6587\\u6587_\\u6570\\u636e\\u53ca\\u65f6\\u4ea4\\u4ed8\\u7387\", \"x\": [\"8-1\", \"8-2\", \"8-3\", \"8-4\", \"8-5\", \"9-1\", \"9-2\"], \"y\": [1.0, null, 1.0, null, 1.0, 1.0, null], \"type\": \"scatter\", \"uid\": \"7d47a579-c147-11e8-9190-d89ef3991fb3\"}], {\"title\": \"\\u53cd\\u9988\\u53ca\\u65f6\\u7387&\\u6570\\u636e\\u53ca\\u65f6\\u4ea4\\u4ed8\\u7387\\u5468\\u8d8b\\u52bf\\u56fe\", \"xaxis\": {\"mirror\": \"all\", \"nticks\": 20, \"showgrid\": true, \"showline\": true, \"title\": \"\\u5468\", \"zeroline\": true}, \"yaxis\": {\"mirror\": \"all\", \"nticks\": 20, \"showgrid\": true, \"showline\": true, \"title\": \"\\u53cd\\u9988\\u53ca\\u65f6\\u7387&\\u6570\\u636e\\u53ca\\u65f6\\u4ea4\\u4ed8\\u7387\", \"zeroline\": true}}, {\"showLink\": true, \"linkText\": \"Export to plot.ly\"})});</script>"
      ]
     },
     "metadata": {},
     "output_type": "display_data"
    },
    {
     "data": {
      "application/vnd.plotly.v1+json": {
       "data": [
        {
         "name": "车天栋_反馈及时率",
         "type": "scatter",
         "uid": "7d60c08a-c147-11e8-a2ea-d89ef3991fb3",
         "x": [
          "8",
          "9"
         ],
         "y": [
          1,
          1
         ]
        },
        {
         "name": "车天栋_数据及时交付率",
         "type": "scatter",
         "uid": "7d60c08b-c147-11e8-baf2-d89ef3991fb3",
         "x": [
          "8",
          "9"
         ],
         "y": [
          1,
          null
         ]
        },
        {
         "name": "沈立群_反馈及时率",
         "type": "scatter",
         "uid": "7d60c08c-c147-11e8-9920-d89ef3991fb3",
         "x": [
          "8",
          "9"
         ],
         "y": [
          0.8666666666666667,
          1
         ]
        },
        {
         "name": "沈立群_数据及时交付率",
         "type": "scatter",
         "uid": "7d60c08d-c147-11e8-9f9a-d89ef3991fb3",
         "x": [
          "8",
          "9"
         ],
         "y": [
          1,
          1
         ]
        },
        {
         "name": "高剑_反馈及时率",
         "type": "scatter",
         "uid": "7d60c08e-c147-11e8-bace-d89ef3991fb3",
         "x": [
          "8",
          "9"
         ],
         "y": [
          0.9,
          null
         ]
        },
        {
         "name": "高剑_数据及时交付率",
         "type": "scatter",
         "uid": "7d60c08f-c147-11e8-aa29-d89ef3991fb3",
         "x": [
          "8",
          "9"
         ],
         "y": [
          1,
          null
         ]
        },
        {
         "name": "王传文_反馈及时率",
         "type": "scatter",
         "uid": "7d60c090-c147-11e8-b840-d89ef3991fb3",
         "x": [
          "8",
          "9"
         ],
         "y": [
          1,
          1
         ]
        },
        {
         "name": "王传文_数据及时交付率",
         "type": "scatter",
         "uid": "7d60c091-c147-11e8-a9e5-d89ef3991fb3",
         "x": [
          "8",
          "9"
         ],
         "y": [
          1,
          1
         ]
        },
        {
         "name": "沈恩惠_反馈及时率",
         "type": "scatter",
         "uid": "7d60c092-c147-11e8-9897-d89ef3991fb3",
         "x": [
          "8",
          "9"
         ],
         "y": [
          0.8888888888888888,
          1
         ]
        },
        {
         "name": "沈恩惠_数据及时交付率",
         "type": "scatter",
         "uid": "7d60c093-c147-11e8-9ae9-d89ef3991fb3",
         "x": [
          "8",
          "9"
         ],
         "y": [
          1,
          null
         ]
        },
        {
         "name": "林文文_反馈及时率",
         "type": "scatter",
         "uid": "7d60c094-c147-11e8-b5ad-d89ef3991fb3",
         "x": [
          "8",
          "9"
         ],
         "y": [
          0.9090909090909091,
          1
         ]
        },
        {
         "name": "林文文_数据及时交付率",
         "type": "scatter",
         "uid": "7d60c095-c147-11e8-a7f2-d89ef3991fb3",
         "x": [
          "8",
          "9"
         ],
         "y": [
          1,
          1
         ]
        }
       ],
       "layout": {
        "title": "反馈及时率&数据及时交付率月趋势图",
        "xaxis": {
         "mirror": "all",
         "nticks": 20,
         "showgrid": true,
         "showline": true,
         "title": "月",
         "zeroline": true
        },
        "yaxis": {
         "mirror": "all",
         "nticks": 20,
         "showgrid": true,
         "showline": true,
         "title": "反馈及时率&数据及时交付率",
         "zeroline": true
        }
       }
      },
      "text/html": [
       "<div id=\"34425119-7ed5-49b9-8389-344b11eff5aa\" style=\"height: 525px; width: 100%;\" class=\"plotly-graph-div\"></div><script type=\"text/javascript\">require([\"plotly\"], function(Plotly) { window.PLOTLYENV=window.PLOTLYENV || {};window.PLOTLYENV.BASE_URL=\"https://plot.ly\";Plotly.newPlot(\"34425119-7ed5-49b9-8389-344b11eff5aa\", [{\"name\": \"\\u8f66\\u5929\\u680b_\\u53cd\\u9988\\u53ca\\u65f6\\u7387\", \"x\": [\"8\", \"9\"], \"y\": [1.0, 1.0], \"type\": \"scatter\", \"uid\": \"7d60c08a-c147-11e8-a2ea-d89ef3991fb3\"}, {\"name\": \"\\u8f66\\u5929\\u680b_\\u6570\\u636e\\u53ca\\u65f6\\u4ea4\\u4ed8\\u7387\", \"x\": [\"8\", \"9\"], \"y\": [1.0, null], \"type\": \"scatter\", \"uid\": \"7d60c08b-c147-11e8-baf2-d89ef3991fb3\"}, {\"name\": \"\\u6c88\\u7acb\\u7fa4_\\u53cd\\u9988\\u53ca\\u65f6\\u7387\", \"x\": [\"8\", \"9\"], \"y\": [0.8666666666666667, 1.0], \"type\": \"scatter\", \"uid\": \"7d60c08c-c147-11e8-9920-d89ef3991fb3\"}, {\"name\": \"\\u6c88\\u7acb\\u7fa4_\\u6570\\u636e\\u53ca\\u65f6\\u4ea4\\u4ed8\\u7387\", \"x\": [\"8\", \"9\"], \"y\": [1.0, 1.0], \"type\": \"scatter\", \"uid\": \"7d60c08d-c147-11e8-9f9a-d89ef3991fb3\"}, {\"name\": \"\\u9ad8\\u5251_\\u53cd\\u9988\\u53ca\\u65f6\\u7387\", \"x\": [\"8\", \"9\"], \"y\": [0.9, null], \"type\": \"scatter\", \"uid\": \"7d60c08e-c147-11e8-bace-d89ef3991fb3\"}, {\"name\": \"\\u9ad8\\u5251_\\u6570\\u636e\\u53ca\\u65f6\\u4ea4\\u4ed8\\u7387\", \"x\": [\"8\", \"9\"], \"y\": [1.0, null], \"type\": \"scatter\", \"uid\": \"7d60c08f-c147-11e8-aa29-d89ef3991fb3\"}, {\"name\": \"\\u738b\\u4f20\\u6587_\\u53cd\\u9988\\u53ca\\u65f6\\u7387\", \"x\": [\"8\", \"9\"], \"y\": [1.0, 1.0], \"type\": \"scatter\", \"uid\": \"7d60c090-c147-11e8-b840-d89ef3991fb3\"}, {\"name\": \"\\u738b\\u4f20\\u6587_\\u6570\\u636e\\u53ca\\u65f6\\u4ea4\\u4ed8\\u7387\", \"x\": [\"8\", \"9\"], \"y\": [1.0, 1.0], \"type\": \"scatter\", \"uid\": \"7d60c091-c147-11e8-a9e5-d89ef3991fb3\"}, {\"name\": \"\\u6c88\\u6069\\u60e0_\\u53cd\\u9988\\u53ca\\u65f6\\u7387\", \"x\": [\"8\", \"9\"], \"y\": [0.8888888888888888, 1.0], \"type\": \"scatter\", \"uid\": \"7d60c092-c147-11e8-9897-d89ef3991fb3\"}, {\"name\": \"\\u6c88\\u6069\\u60e0_\\u6570\\u636e\\u53ca\\u65f6\\u4ea4\\u4ed8\\u7387\", \"x\": [\"8\", \"9\"], \"y\": [1.0, null], \"type\": \"scatter\", \"uid\": \"7d60c093-c147-11e8-9ae9-d89ef3991fb3\"}, {\"name\": \"\\u6797\\u6587\\u6587_\\u53cd\\u9988\\u53ca\\u65f6\\u7387\", \"x\": [\"8\", \"9\"], \"y\": [0.9090909090909091, 1.0], \"type\": \"scatter\", \"uid\": \"7d60c094-c147-11e8-b5ad-d89ef3991fb3\"}, {\"name\": \"\\u6797\\u6587\\u6587_\\u6570\\u636e\\u53ca\\u65f6\\u4ea4\\u4ed8\\u7387\", \"x\": [\"8\", \"9\"], \"y\": [1.0, 1.0], \"type\": \"scatter\", \"uid\": \"7d60c095-c147-11e8-a7f2-d89ef3991fb3\"}], {\"title\": \"\\u53cd\\u9988\\u53ca\\u65f6\\u7387&\\u6570\\u636e\\u53ca\\u65f6\\u4ea4\\u4ed8\\u7387\\u6708\\u8d8b\\u52bf\\u56fe\", \"xaxis\": {\"mirror\": \"all\", \"nticks\": 20, \"showgrid\": true, \"showline\": true, \"title\": \"\\u6708\", \"zeroline\": true}, \"yaxis\": {\"mirror\": \"all\", \"nticks\": 20, \"showgrid\": true, \"showline\": true, \"title\": \"\\u53cd\\u9988\\u53ca\\u65f6\\u7387&\\u6570\\u636e\\u53ca\\u65f6\\u4ea4\\u4ed8\\u7387\", \"zeroline\": true}}, {\"showLink\": true, \"linkText\": \"Export to plot.ly\"})});</script>"
      ],
      "text/vnd.plotly.v1+html": [
       "<div id=\"34425119-7ed5-49b9-8389-344b11eff5aa\" style=\"height: 525px; width: 100%;\" class=\"plotly-graph-div\"></div><script type=\"text/javascript\">require([\"plotly\"], function(Plotly) { window.PLOTLYENV=window.PLOTLYENV || {};window.PLOTLYENV.BASE_URL=\"https://plot.ly\";Plotly.newPlot(\"34425119-7ed5-49b9-8389-344b11eff5aa\", [{\"name\": \"\\u8f66\\u5929\\u680b_\\u53cd\\u9988\\u53ca\\u65f6\\u7387\", \"x\": [\"8\", \"9\"], \"y\": [1.0, 1.0], \"type\": \"scatter\", \"uid\": \"7d60c08a-c147-11e8-a2ea-d89ef3991fb3\"}, {\"name\": \"\\u8f66\\u5929\\u680b_\\u6570\\u636e\\u53ca\\u65f6\\u4ea4\\u4ed8\\u7387\", \"x\": [\"8\", \"9\"], \"y\": [1.0, null], \"type\": \"scatter\", \"uid\": \"7d60c08b-c147-11e8-baf2-d89ef3991fb3\"}, {\"name\": \"\\u6c88\\u7acb\\u7fa4_\\u53cd\\u9988\\u53ca\\u65f6\\u7387\", \"x\": [\"8\", \"9\"], \"y\": [0.8666666666666667, 1.0], \"type\": \"scatter\", \"uid\": \"7d60c08c-c147-11e8-9920-d89ef3991fb3\"}, {\"name\": \"\\u6c88\\u7acb\\u7fa4_\\u6570\\u636e\\u53ca\\u65f6\\u4ea4\\u4ed8\\u7387\", \"x\": [\"8\", \"9\"], \"y\": [1.0, 1.0], \"type\": \"scatter\", \"uid\": \"7d60c08d-c147-11e8-9f9a-d89ef3991fb3\"}, {\"name\": \"\\u9ad8\\u5251_\\u53cd\\u9988\\u53ca\\u65f6\\u7387\", \"x\": [\"8\", \"9\"], \"y\": [0.9, null], \"type\": \"scatter\", \"uid\": \"7d60c08e-c147-11e8-bace-d89ef3991fb3\"}, {\"name\": \"\\u9ad8\\u5251_\\u6570\\u636e\\u53ca\\u65f6\\u4ea4\\u4ed8\\u7387\", \"x\": [\"8\", \"9\"], \"y\": [1.0, null], \"type\": \"scatter\", \"uid\": \"7d60c08f-c147-11e8-aa29-d89ef3991fb3\"}, {\"name\": \"\\u738b\\u4f20\\u6587_\\u53cd\\u9988\\u53ca\\u65f6\\u7387\", \"x\": [\"8\", \"9\"], \"y\": [1.0, 1.0], \"type\": \"scatter\", \"uid\": \"7d60c090-c147-11e8-b840-d89ef3991fb3\"}, {\"name\": \"\\u738b\\u4f20\\u6587_\\u6570\\u636e\\u53ca\\u65f6\\u4ea4\\u4ed8\\u7387\", \"x\": [\"8\", \"9\"], \"y\": [1.0, 1.0], \"type\": \"scatter\", \"uid\": \"7d60c091-c147-11e8-a9e5-d89ef3991fb3\"}, {\"name\": \"\\u6c88\\u6069\\u60e0_\\u53cd\\u9988\\u53ca\\u65f6\\u7387\", \"x\": [\"8\", \"9\"], \"y\": [0.8888888888888888, 1.0], \"type\": \"scatter\", \"uid\": \"7d60c092-c147-11e8-9897-d89ef3991fb3\"}, {\"name\": \"\\u6c88\\u6069\\u60e0_\\u6570\\u636e\\u53ca\\u65f6\\u4ea4\\u4ed8\\u7387\", \"x\": [\"8\", \"9\"], \"y\": [1.0, null], \"type\": \"scatter\", \"uid\": \"7d60c093-c147-11e8-9ae9-d89ef3991fb3\"}, {\"name\": \"\\u6797\\u6587\\u6587_\\u53cd\\u9988\\u53ca\\u65f6\\u7387\", \"x\": [\"8\", \"9\"], \"y\": [0.9090909090909091, 1.0], \"type\": \"scatter\", \"uid\": \"7d60c094-c147-11e8-b5ad-d89ef3991fb3\"}, {\"name\": \"\\u6797\\u6587\\u6587_\\u6570\\u636e\\u53ca\\u65f6\\u4ea4\\u4ed8\\u7387\", \"x\": [\"8\", \"9\"], \"y\": [1.0, 1.0], \"type\": \"scatter\", \"uid\": \"7d60c095-c147-11e8-a7f2-d89ef3991fb3\"}], {\"title\": \"\\u53cd\\u9988\\u53ca\\u65f6\\u7387&\\u6570\\u636e\\u53ca\\u65f6\\u4ea4\\u4ed8\\u7387\\u6708\\u8d8b\\u52bf\\u56fe\", \"xaxis\": {\"mirror\": \"all\", \"nticks\": 20, \"showgrid\": true, \"showline\": true, \"title\": \"\\u6708\", \"zeroline\": true}, \"yaxis\": {\"mirror\": \"all\", \"nticks\": 20, \"showgrid\": true, \"showline\": true, \"title\": \"\\u53cd\\u9988\\u53ca\\u65f6\\u7387&\\u6570\\u636e\\u53ca\\u65f6\\u4ea4\\u4ed8\\u7387\", \"zeroline\": true}}, {\"showLink\": true, \"linkText\": \"Export to plot.ly\"})});</script>"
      ]
     },
     "metadata": {},
     "output_type": "display_data"
    }
   ],
   "source": [
    "data_dict = {'反馈及时率':['及时反馈数','下机批次数'], '数据及时交付率':['数据及时交付数','数据交付总数']}\n",
    "myModule.plot( all_dict, data_dict, '人员' ,  'line' )"
   ]
  },
  {
   "cell_type": "markdown",
   "metadata": {},
   "source": [
    "#### 24h拆分过滤率和28h拆分过滤率"
   ]
  },
  {
   "cell_type": "code",
   "execution_count": 59,
   "metadata": {},
   "outputs": [
    {
     "data": {
      "application/vnd.plotly.v1+json": {
       "data": [
        {
         "name": "车天栋_24h拆分过滤率",
         "type": "scatter",
         "uid": "7da5b1b8-c147-11e8-a012-d89ef3991fb3",
         "x": [
          "8-1",
          "8-2",
          "8-3",
          "8-4",
          "8-5",
          "9-1",
          "9-2"
         ],
         "y": [
          1,
          null,
          null,
          0,
          0.6666666666666666,
          null,
          0
         ]
        },
        {
         "name": "车天栋_48h拆分过滤率",
         "type": "scatter",
         "uid": "7da5b1b9-c147-11e8-817f-d89ef3991fb3",
         "x": [
          "8-1",
          "8-2",
          "8-3",
          "8-4",
          "8-5",
          "9-1",
          "9-2"
         ],
         "y": [
          1,
          null,
          null,
          0,
          1,
          null,
          0
         ]
        },
        {
         "name": "沈立群_24h拆分过滤率",
         "type": "scatter",
         "uid": "7da5b1ba-c147-11e8-9a1a-d89ef3991fb3",
         "x": [
          "8-1",
          "8-2",
          "8-3",
          "8-4",
          "8-5",
          "9-1",
          "9-2"
         ],
         "y": [
          1,
          null,
          1,
          0,
          0.5,
          0.6666666666666666,
          0
         ]
        },
        {
         "name": "沈立群_48h拆分过滤率",
         "type": "scatter",
         "uid": "7da5b1bb-c147-11e8-8a87-d89ef3991fb3",
         "x": [
          "8-1",
          "8-2",
          "8-3",
          "8-4",
          "8-5",
          "9-1",
          "9-2"
         ],
         "y": [
          1,
          null,
          1,
          0,
          0.875,
          1,
          0
         ]
        },
        {
         "name": "高剑_24h拆分过滤率",
         "type": "scatter",
         "uid": "7da5b1bc-c147-11e8-bee1-d89ef3991fb3",
         "x": [
          "8-1",
          "8-2",
          "8-3",
          "8-4",
          "8-5",
          "9-1",
          "9-2"
         ],
         "y": [
          1,
          null,
          0,
          0,
          0,
          null,
          null
         ]
        },
        {
         "name": "高剑_48h拆分过滤率",
         "type": "scatter",
         "uid": "7da5b1bd-c147-11e8-ab5f-d89ef3991fb3",
         "x": [
          "8-1",
          "8-2",
          "8-3",
          "8-4",
          "8-5",
          "9-1",
          "9-2"
         ],
         "y": [
          1,
          null,
          0,
          0,
          0,
          null,
          null
         ]
        },
        {
         "name": "王传文_24h拆分过滤率",
         "type": "scatter",
         "uid": "7da5b1be-c147-11e8-95db-d89ef3991fb3",
         "x": [
          "8-1",
          "8-2",
          "8-3",
          "8-4",
          "8-5",
          "9-1",
          "9-2"
         ],
         "y": [
          1,
          null,
          1,
          0,
          0,
          0.5,
          0
         ]
        },
        {
         "name": "王传文_48h拆分过滤率",
         "type": "scatter",
         "uid": "7da5b1bf-c147-11e8-a222-d89ef3991fb3",
         "x": [
          "8-1",
          "8-2",
          "8-3",
          "8-4",
          "8-5",
          "9-1",
          "9-2"
         ],
         "y": [
          1,
          null,
          1,
          0,
          1,
          1,
          0
         ]
        },
        {
         "name": "沈恩惠_24h拆分过滤率",
         "type": "scatter",
         "uid": "7da5b1c0-c147-11e8-9740-d89ef3991fb3",
         "x": [
          "8-1",
          "8-2",
          "8-3",
          "8-4",
          "8-5",
          "9-1",
          "9-2"
         ],
         "y": [
          1,
          null,
          null,
          0,
          0.2,
          null,
          0
         ]
        },
        {
         "name": "沈恩惠_48h拆分过滤率",
         "type": "scatter",
         "uid": "7da5b1c1-c147-11e8-a14f-d89ef3991fb3",
         "x": [
          "8-1",
          "8-2",
          "8-3",
          "8-4",
          "8-5",
          "9-1",
          "9-2"
         ],
         "y": [
          1,
          null,
          null,
          0,
          0.6,
          null,
          0
         ]
        },
        {
         "name": "林文文_24h拆分过滤率",
         "type": "scatter",
         "uid": "7da5b1c2-c147-11e8-8f9e-d89ef3991fb3",
         "x": [
          "8-1",
          "8-2",
          "8-3",
          "8-4",
          "8-5",
          "9-1",
          "9-2"
         ],
         "y": [
          1,
          null,
          1,
          0,
          0.75,
          0.5,
          0
         ]
        },
        {
         "name": "林文文_48h拆分过滤率",
         "type": "scatter",
         "uid": "7da5b1c3-c147-11e8-bb62-d89ef3991fb3",
         "x": [
          "8-1",
          "8-2",
          "8-3",
          "8-4",
          "8-5",
          "9-1",
          "9-2"
         ],
         "y": [
          1,
          null,
          1,
          0,
          0.75,
          1,
          0
         ]
        }
       ],
       "layout": {
        "title": "24h拆分过滤率&48h拆分过滤率周趋势图",
        "xaxis": {
         "mirror": "all",
         "nticks": 20,
         "showgrid": true,
         "showline": true,
         "title": "周",
         "zeroline": true
        },
        "yaxis": {
         "mirror": "all",
         "nticks": 20,
         "showgrid": true,
         "showline": true,
         "title": "24h拆分过滤率&48h拆分过滤率",
         "zeroline": true
        }
       }
      },
      "text/html": [
       "<div id=\"52975d57-eaaa-4887-88f6-caaca00b181e\" style=\"height: 525px; width: 100%;\" class=\"plotly-graph-div\"></div><script type=\"text/javascript\">require([\"plotly\"], function(Plotly) { window.PLOTLYENV=window.PLOTLYENV || {};window.PLOTLYENV.BASE_URL=\"https://plot.ly\";Plotly.newPlot(\"52975d57-eaaa-4887-88f6-caaca00b181e\", [{\"name\": \"\\u8f66\\u5929\\u680b_24h\\u62c6\\u5206\\u8fc7\\u6ee4\\u7387\", \"x\": [\"8-1\", \"8-2\", \"8-3\", \"8-4\", \"8-5\", \"9-1\", \"9-2\"], \"y\": [1.0, null, null, 0.0, 0.6666666666666666, null, 0.0], \"type\": \"scatter\", \"uid\": \"7da5b1b8-c147-11e8-a012-d89ef3991fb3\"}, {\"name\": \"\\u8f66\\u5929\\u680b_48h\\u62c6\\u5206\\u8fc7\\u6ee4\\u7387\", \"x\": [\"8-1\", \"8-2\", \"8-3\", \"8-4\", \"8-5\", \"9-1\", \"9-2\"], \"y\": [1.0, null, null, 0.0, 1.0, null, 0.0], \"type\": \"scatter\", \"uid\": \"7da5b1b9-c147-11e8-817f-d89ef3991fb3\"}, {\"name\": \"\\u6c88\\u7acb\\u7fa4_24h\\u62c6\\u5206\\u8fc7\\u6ee4\\u7387\", \"x\": [\"8-1\", \"8-2\", \"8-3\", \"8-4\", \"8-5\", \"9-1\", \"9-2\"], \"y\": [1.0, null, 1.0, 0.0, 0.5, 0.6666666666666666, 0.0], \"type\": \"scatter\", \"uid\": \"7da5b1ba-c147-11e8-9a1a-d89ef3991fb3\"}, {\"name\": \"\\u6c88\\u7acb\\u7fa4_48h\\u62c6\\u5206\\u8fc7\\u6ee4\\u7387\", \"x\": [\"8-1\", \"8-2\", \"8-3\", \"8-4\", \"8-5\", \"9-1\", \"9-2\"], \"y\": [1.0, null, 1.0, 0.0, 0.875, 1.0, 0.0], \"type\": \"scatter\", \"uid\": \"7da5b1bb-c147-11e8-8a87-d89ef3991fb3\"}, {\"name\": \"\\u9ad8\\u5251_24h\\u62c6\\u5206\\u8fc7\\u6ee4\\u7387\", \"x\": [\"8-1\", \"8-2\", \"8-3\", \"8-4\", \"8-5\", \"9-1\", \"9-2\"], \"y\": [1.0, null, 0.0, 0.0, 0.0, null, null], \"type\": \"scatter\", \"uid\": \"7da5b1bc-c147-11e8-bee1-d89ef3991fb3\"}, {\"name\": \"\\u9ad8\\u5251_48h\\u62c6\\u5206\\u8fc7\\u6ee4\\u7387\", \"x\": [\"8-1\", \"8-2\", \"8-3\", \"8-4\", \"8-5\", \"9-1\", \"9-2\"], \"y\": [1.0, null, 0.0, 0.0, 0.0, null, null], \"type\": \"scatter\", \"uid\": \"7da5b1bd-c147-11e8-ab5f-d89ef3991fb3\"}, {\"name\": \"\\u738b\\u4f20\\u6587_24h\\u62c6\\u5206\\u8fc7\\u6ee4\\u7387\", \"x\": [\"8-1\", \"8-2\", \"8-3\", \"8-4\", \"8-5\", \"9-1\", \"9-2\"], \"y\": [1.0, null, 1.0, 0.0, 0.0, 0.5, 0.0], \"type\": \"scatter\", \"uid\": \"7da5b1be-c147-11e8-95db-d89ef3991fb3\"}, {\"name\": \"\\u738b\\u4f20\\u6587_48h\\u62c6\\u5206\\u8fc7\\u6ee4\\u7387\", \"x\": [\"8-1\", \"8-2\", \"8-3\", \"8-4\", \"8-5\", \"9-1\", \"9-2\"], \"y\": [1.0, null, 1.0, 0.0, 1.0, 1.0, 0.0], \"type\": \"scatter\", \"uid\": \"7da5b1bf-c147-11e8-a222-d89ef3991fb3\"}, {\"name\": \"\\u6c88\\u6069\\u60e0_24h\\u62c6\\u5206\\u8fc7\\u6ee4\\u7387\", \"x\": [\"8-1\", \"8-2\", \"8-3\", \"8-4\", \"8-5\", \"9-1\", \"9-2\"], \"y\": [1.0, null, null, 0.0, 0.2, null, 0.0], \"type\": \"scatter\", \"uid\": \"7da5b1c0-c147-11e8-9740-d89ef3991fb3\"}, {\"name\": \"\\u6c88\\u6069\\u60e0_48h\\u62c6\\u5206\\u8fc7\\u6ee4\\u7387\", \"x\": [\"8-1\", \"8-2\", \"8-3\", \"8-4\", \"8-5\", \"9-1\", \"9-2\"], \"y\": [1.0, null, null, 0.0, 0.6, null, 0.0], \"type\": \"scatter\", \"uid\": \"7da5b1c1-c147-11e8-a14f-d89ef3991fb3\"}, {\"name\": \"\\u6797\\u6587\\u6587_24h\\u62c6\\u5206\\u8fc7\\u6ee4\\u7387\", \"x\": [\"8-1\", \"8-2\", \"8-3\", \"8-4\", \"8-5\", \"9-1\", \"9-2\"], \"y\": [1.0, null, 1.0, 0.0, 0.75, 0.5, 0.0], \"type\": \"scatter\", \"uid\": \"7da5b1c2-c147-11e8-8f9e-d89ef3991fb3\"}, {\"name\": \"\\u6797\\u6587\\u6587_48h\\u62c6\\u5206\\u8fc7\\u6ee4\\u7387\", \"x\": [\"8-1\", \"8-2\", \"8-3\", \"8-4\", \"8-5\", \"9-1\", \"9-2\"], \"y\": [1.0, null, 1.0, 0.0, 0.75, 1.0, 0.0], \"type\": \"scatter\", \"uid\": \"7da5b1c3-c147-11e8-bb62-d89ef3991fb3\"}], {\"title\": \"24h\\u62c6\\u5206\\u8fc7\\u6ee4\\u7387&48h\\u62c6\\u5206\\u8fc7\\u6ee4\\u7387\\u5468\\u8d8b\\u52bf\\u56fe\", \"xaxis\": {\"mirror\": \"all\", \"nticks\": 20, \"showgrid\": true, \"showline\": true, \"title\": \"\\u5468\", \"zeroline\": true}, \"yaxis\": {\"mirror\": \"all\", \"nticks\": 20, \"showgrid\": true, \"showline\": true, \"title\": \"24h\\u62c6\\u5206\\u8fc7\\u6ee4\\u7387&48h\\u62c6\\u5206\\u8fc7\\u6ee4\\u7387\", \"zeroline\": true}}, {\"showLink\": true, \"linkText\": \"Export to plot.ly\"})});</script>"
      ],
      "text/vnd.plotly.v1+html": [
       "<div id=\"52975d57-eaaa-4887-88f6-caaca00b181e\" style=\"height: 525px; width: 100%;\" class=\"plotly-graph-div\"></div><script type=\"text/javascript\">require([\"plotly\"], function(Plotly) { window.PLOTLYENV=window.PLOTLYENV || {};window.PLOTLYENV.BASE_URL=\"https://plot.ly\";Plotly.newPlot(\"52975d57-eaaa-4887-88f6-caaca00b181e\", [{\"name\": \"\\u8f66\\u5929\\u680b_24h\\u62c6\\u5206\\u8fc7\\u6ee4\\u7387\", \"x\": [\"8-1\", \"8-2\", \"8-3\", \"8-4\", \"8-5\", \"9-1\", \"9-2\"], \"y\": [1.0, null, null, 0.0, 0.6666666666666666, null, 0.0], \"type\": \"scatter\", \"uid\": \"7da5b1b8-c147-11e8-a012-d89ef3991fb3\"}, {\"name\": \"\\u8f66\\u5929\\u680b_48h\\u62c6\\u5206\\u8fc7\\u6ee4\\u7387\", \"x\": [\"8-1\", \"8-2\", \"8-3\", \"8-4\", \"8-5\", \"9-1\", \"9-2\"], \"y\": [1.0, null, null, 0.0, 1.0, null, 0.0], \"type\": \"scatter\", \"uid\": \"7da5b1b9-c147-11e8-817f-d89ef3991fb3\"}, {\"name\": \"\\u6c88\\u7acb\\u7fa4_24h\\u62c6\\u5206\\u8fc7\\u6ee4\\u7387\", \"x\": [\"8-1\", \"8-2\", \"8-3\", \"8-4\", \"8-5\", \"9-1\", \"9-2\"], \"y\": [1.0, null, 1.0, 0.0, 0.5, 0.6666666666666666, 0.0], \"type\": \"scatter\", \"uid\": \"7da5b1ba-c147-11e8-9a1a-d89ef3991fb3\"}, {\"name\": \"\\u6c88\\u7acb\\u7fa4_48h\\u62c6\\u5206\\u8fc7\\u6ee4\\u7387\", \"x\": [\"8-1\", \"8-2\", \"8-3\", \"8-4\", \"8-5\", \"9-1\", \"9-2\"], \"y\": [1.0, null, 1.0, 0.0, 0.875, 1.0, 0.0], \"type\": \"scatter\", \"uid\": \"7da5b1bb-c147-11e8-8a87-d89ef3991fb3\"}, {\"name\": \"\\u9ad8\\u5251_24h\\u62c6\\u5206\\u8fc7\\u6ee4\\u7387\", \"x\": [\"8-1\", \"8-2\", \"8-3\", \"8-4\", \"8-5\", \"9-1\", \"9-2\"], \"y\": [1.0, null, 0.0, 0.0, 0.0, null, null], \"type\": \"scatter\", \"uid\": \"7da5b1bc-c147-11e8-bee1-d89ef3991fb3\"}, {\"name\": \"\\u9ad8\\u5251_48h\\u62c6\\u5206\\u8fc7\\u6ee4\\u7387\", \"x\": [\"8-1\", \"8-2\", \"8-3\", \"8-4\", \"8-5\", \"9-1\", \"9-2\"], \"y\": [1.0, null, 0.0, 0.0, 0.0, null, null], \"type\": \"scatter\", \"uid\": \"7da5b1bd-c147-11e8-ab5f-d89ef3991fb3\"}, {\"name\": \"\\u738b\\u4f20\\u6587_24h\\u62c6\\u5206\\u8fc7\\u6ee4\\u7387\", \"x\": [\"8-1\", \"8-2\", \"8-3\", \"8-4\", \"8-5\", \"9-1\", \"9-2\"], \"y\": [1.0, null, 1.0, 0.0, 0.0, 0.5, 0.0], \"type\": \"scatter\", \"uid\": \"7da5b1be-c147-11e8-95db-d89ef3991fb3\"}, {\"name\": \"\\u738b\\u4f20\\u6587_48h\\u62c6\\u5206\\u8fc7\\u6ee4\\u7387\", \"x\": [\"8-1\", \"8-2\", \"8-3\", \"8-4\", \"8-5\", \"9-1\", \"9-2\"], \"y\": [1.0, null, 1.0, 0.0, 1.0, 1.0, 0.0], \"type\": \"scatter\", \"uid\": \"7da5b1bf-c147-11e8-a222-d89ef3991fb3\"}, {\"name\": \"\\u6c88\\u6069\\u60e0_24h\\u62c6\\u5206\\u8fc7\\u6ee4\\u7387\", \"x\": [\"8-1\", \"8-2\", \"8-3\", \"8-4\", \"8-5\", \"9-1\", \"9-2\"], \"y\": [1.0, null, null, 0.0, 0.2, null, 0.0], \"type\": \"scatter\", \"uid\": \"7da5b1c0-c147-11e8-9740-d89ef3991fb3\"}, {\"name\": \"\\u6c88\\u6069\\u60e0_48h\\u62c6\\u5206\\u8fc7\\u6ee4\\u7387\", \"x\": [\"8-1\", \"8-2\", \"8-3\", \"8-4\", \"8-5\", \"9-1\", \"9-2\"], \"y\": [1.0, null, null, 0.0, 0.6, null, 0.0], \"type\": \"scatter\", \"uid\": \"7da5b1c1-c147-11e8-a14f-d89ef3991fb3\"}, {\"name\": \"\\u6797\\u6587\\u6587_24h\\u62c6\\u5206\\u8fc7\\u6ee4\\u7387\", \"x\": [\"8-1\", \"8-2\", \"8-3\", \"8-4\", \"8-5\", \"9-1\", \"9-2\"], \"y\": [1.0, null, 1.0, 0.0, 0.75, 0.5, 0.0], \"type\": \"scatter\", \"uid\": \"7da5b1c2-c147-11e8-8f9e-d89ef3991fb3\"}, {\"name\": \"\\u6797\\u6587\\u6587_48h\\u62c6\\u5206\\u8fc7\\u6ee4\\u7387\", \"x\": [\"8-1\", \"8-2\", \"8-3\", \"8-4\", \"8-5\", \"9-1\", \"9-2\"], \"y\": [1.0, null, 1.0, 0.0, 0.75, 1.0, 0.0], \"type\": \"scatter\", \"uid\": \"7da5b1c3-c147-11e8-bb62-d89ef3991fb3\"}], {\"title\": \"24h\\u62c6\\u5206\\u8fc7\\u6ee4\\u7387&48h\\u62c6\\u5206\\u8fc7\\u6ee4\\u7387\\u5468\\u8d8b\\u52bf\\u56fe\", \"xaxis\": {\"mirror\": \"all\", \"nticks\": 20, \"showgrid\": true, \"showline\": true, \"title\": \"\\u5468\", \"zeroline\": true}, \"yaxis\": {\"mirror\": \"all\", \"nticks\": 20, \"showgrid\": true, \"showline\": true, \"title\": \"24h\\u62c6\\u5206\\u8fc7\\u6ee4\\u7387&48h\\u62c6\\u5206\\u8fc7\\u6ee4\\u7387\", \"zeroline\": true}}, {\"showLink\": true, \"linkText\": \"Export to plot.ly\"})});</script>"
      ]
     },
     "metadata": {},
     "output_type": "display_data"
    },
    {
     "data": {
      "application/vnd.plotly.v1+json": {
       "data": [
        {
         "name": "车天栋_24h拆分过滤率",
         "type": "scatter",
         "uid": "7dc02b54-c147-11e8-9a52-d89ef3991fb3",
         "x": [
          "8",
          "9"
         ],
         "y": [
          0.5,
          0
         ]
        },
        {
         "name": "车天栋_48h拆分过滤率",
         "type": "scatter",
         "uid": "7dc02b55-c147-11e8-8c70-d89ef3991fb3",
         "x": [
          "8",
          "9"
         ],
         "y": [
          0.6666666666666666,
          0
         ]
        },
        {
         "name": "沈立群_24h拆分过滤率",
         "type": "scatter",
         "uid": "7dc02b56-c147-11e8-a7ff-d89ef3991fb3",
         "x": [
          "8",
          "9"
         ],
         "y": [
          0.4,
          0.4
         ]
        },
        {
         "name": "沈立群_48h拆分过滤率",
         "type": "scatter",
         "uid": "7dc02b57-c147-11e8-b752-d89ef3991fb3",
         "x": [
          "8",
          "9"
         ],
         "y": [
          0.6,
          0.6
         ]
        },
        {
         "name": "高剑_24h拆分过滤率",
         "type": "scatter",
         "uid": "7dc02b58-c147-11e8-99e3-d89ef3991fb3",
         "x": [
          "8",
          "9"
         ],
         "y": [
          0.1,
          null
         ]
        },
        {
         "name": "高剑_48h拆分过滤率",
         "type": "scatter",
         "uid": "7dc02b59-c147-11e8-8c81-d89ef3991fb3",
         "x": [
          "8",
          "9"
         ],
         "y": [
          0.1,
          null
         ]
        },
        {
         "name": "王传文_24h拆分过滤率",
         "type": "scatter",
         "uid": "7dc02b5a-c147-11e8-a352-d89ef3991fb3",
         "x": [
          "8",
          "9"
         ],
         "y": [
          0.2857142857142857,
          0.2
         ]
        },
        {
         "name": "王传文_48h拆分过滤率",
         "type": "scatter",
         "uid": "7dc02b5b-c147-11e8-b709-d89ef3991fb3",
         "x": [
          "8",
          "9"
         ],
         "y": [
          0.5714285714285714,
          0.4
         ]
        },
        {
         "name": "沈恩惠_24h拆分过滤率",
         "type": "scatter",
         "uid": "7dc02b5c-c147-11e8-b75d-d89ef3991fb3",
         "x": [
          "8",
          "9"
         ],
         "y": [
          0.2222222222222222,
          0
         ]
        },
        {
         "name": "沈恩惠_48h拆分过滤率",
         "type": "scatter",
         "uid": "7dc02b5d-c147-11e8-bb13-d89ef3991fb3",
         "x": [
          "8",
          "9"
         ],
         "y": [
          0.4444444444444444,
          0
         ]
        },
        {
         "name": "林文文_24h拆分过滤率",
         "type": "scatter",
         "uid": "7dc02b5e-c147-11e8-ae81-d89ef3991fb3",
         "x": [
          "8",
          "9"
         ],
         "y": [
          0.5454545454545454,
          0.25
         ]
        },
        {
         "name": "林文文_48h拆分过滤率",
         "type": "scatter",
         "uid": "7dc02b5f-c147-11e8-b94c-d89ef3991fb3",
         "x": [
          "8",
          "9"
         ],
         "y": [
          0.5454545454545454,
          0.5
         ]
        }
       ],
       "layout": {
        "title": "24h拆分过滤率&48h拆分过滤率月趋势图",
        "xaxis": {
         "mirror": "all",
         "nticks": 20,
         "showgrid": true,
         "showline": true,
         "title": "月",
         "zeroline": true
        },
        "yaxis": {
         "mirror": "all",
         "nticks": 20,
         "showgrid": true,
         "showline": true,
         "title": "24h拆分过滤率&48h拆分过滤率",
         "zeroline": true
        }
       }
      },
      "text/html": [
       "<div id=\"45d2ef06-49a6-4669-9f5a-a49cea5be945\" style=\"height: 525px; width: 100%;\" class=\"plotly-graph-div\"></div><script type=\"text/javascript\">require([\"plotly\"], function(Plotly) { window.PLOTLYENV=window.PLOTLYENV || {};window.PLOTLYENV.BASE_URL=\"https://plot.ly\";Plotly.newPlot(\"45d2ef06-49a6-4669-9f5a-a49cea5be945\", [{\"name\": \"\\u8f66\\u5929\\u680b_24h\\u62c6\\u5206\\u8fc7\\u6ee4\\u7387\", \"x\": [\"8\", \"9\"], \"y\": [0.5, 0.0], \"type\": \"scatter\", \"uid\": \"7dc02b54-c147-11e8-9a52-d89ef3991fb3\"}, {\"name\": \"\\u8f66\\u5929\\u680b_48h\\u62c6\\u5206\\u8fc7\\u6ee4\\u7387\", \"x\": [\"8\", \"9\"], \"y\": [0.6666666666666666, 0.0], \"type\": \"scatter\", \"uid\": \"7dc02b55-c147-11e8-8c70-d89ef3991fb3\"}, {\"name\": \"\\u6c88\\u7acb\\u7fa4_24h\\u62c6\\u5206\\u8fc7\\u6ee4\\u7387\", \"x\": [\"8\", \"9\"], \"y\": [0.4, 0.4], \"type\": \"scatter\", \"uid\": \"7dc02b56-c147-11e8-a7ff-d89ef3991fb3\"}, {\"name\": \"\\u6c88\\u7acb\\u7fa4_48h\\u62c6\\u5206\\u8fc7\\u6ee4\\u7387\", \"x\": [\"8\", \"9\"], \"y\": [0.6, 0.6], \"type\": \"scatter\", \"uid\": \"7dc02b57-c147-11e8-b752-d89ef3991fb3\"}, {\"name\": \"\\u9ad8\\u5251_24h\\u62c6\\u5206\\u8fc7\\u6ee4\\u7387\", \"x\": [\"8\", \"9\"], \"y\": [0.1, null], \"type\": \"scatter\", \"uid\": \"7dc02b58-c147-11e8-99e3-d89ef3991fb3\"}, {\"name\": \"\\u9ad8\\u5251_48h\\u62c6\\u5206\\u8fc7\\u6ee4\\u7387\", \"x\": [\"8\", \"9\"], \"y\": [0.1, null], \"type\": \"scatter\", \"uid\": \"7dc02b59-c147-11e8-8c81-d89ef3991fb3\"}, {\"name\": \"\\u738b\\u4f20\\u6587_24h\\u62c6\\u5206\\u8fc7\\u6ee4\\u7387\", \"x\": [\"8\", \"9\"], \"y\": [0.2857142857142857, 0.2], \"type\": \"scatter\", \"uid\": \"7dc02b5a-c147-11e8-a352-d89ef3991fb3\"}, {\"name\": \"\\u738b\\u4f20\\u6587_48h\\u62c6\\u5206\\u8fc7\\u6ee4\\u7387\", \"x\": [\"8\", \"9\"], \"y\": [0.5714285714285714, 0.4], \"type\": \"scatter\", \"uid\": \"7dc02b5b-c147-11e8-b709-d89ef3991fb3\"}, {\"name\": \"\\u6c88\\u6069\\u60e0_24h\\u62c6\\u5206\\u8fc7\\u6ee4\\u7387\", \"x\": [\"8\", \"9\"], \"y\": [0.2222222222222222, 0.0], \"type\": \"scatter\", \"uid\": \"7dc02b5c-c147-11e8-b75d-d89ef3991fb3\"}, {\"name\": \"\\u6c88\\u6069\\u60e0_48h\\u62c6\\u5206\\u8fc7\\u6ee4\\u7387\", \"x\": [\"8\", \"9\"], \"y\": [0.4444444444444444, 0.0], \"type\": \"scatter\", \"uid\": \"7dc02b5d-c147-11e8-bb13-d89ef3991fb3\"}, {\"name\": \"\\u6797\\u6587\\u6587_24h\\u62c6\\u5206\\u8fc7\\u6ee4\\u7387\", \"x\": [\"8\", \"9\"], \"y\": [0.5454545454545454, 0.25], \"type\": \"scatter\", \"uid\": \"7dc02b5e-c147-11e8-ae81-d89ef3991fb3\"}, {\"name\": \"\\u6797\\u6587\\u6587_48h\\u62c6\\u5206\\u8fc7\\u6ee4\\u7387\", \"x\": [\"8\", \"9\"], \"y\": [0.5454545454545454, 0.5], \"type\": \"scatter\", \"uid\": \"7dc02b5f-c147-11e8-b94c-d89ef3991fb3\"}], {\"title\": \"24h\\u62c6\\u5206\\u8fc7\\u6ee4\\u7387&48h\\u62c6\\u5206\\u8fc7\\u6ee4\\u7387\\u6708\\u8d8b\\u52bf\\u56fe\", \"xaxis\": {\"mirror\": \"all\", \"nticks\": 20, \"showgrid\": true, \"showline\": true, \"title\": \"\\u6708\", \"zeroline\": true}, \"yaxis\": {\"mirror\": \"all\", \"nticks\": 20, \"showgrid\": true, \"showline\": true, \"title\": \"24h\\u62c6\\u5206\\u8fc7\\u6ee4\\u7387&48h\\u62c6\\u5206\\u8fc7\\u6ee4\\u7387\", \"zeroline\": true}}, {\"showLink\": true, \"linkText\": \"Export to plot.ly\"})});</script>"
      ],
      "text/vnd.plotly.v1+html": [
       "<div id=\"45d2ef06-49a6-4669-9f5a-a49cea5be945\" style=\"height: 525px; width: 100%;\" class=\"plotly-graph-div\"></div><script type=\"text/javascript\">require([\"plotly\"], function(Plotly) { window.PLOTLYENV=window.PLOTLYENV || {};window.PLOTLYENV.BASE_URL=\"https://plot.ly\";Plotly.newPlot(\"45d2ef06-49a6-4669-9f5a-a49cea5be945\", [{\"name\": \"\\u8f66\\u5929\\u680b_24h\\u62c6\\u5206\\u8fc7\\u6ee4\\u7387\", \"x\": [\"8\", \"9\"], \"y\": [0.5, 0.0], \"type\": \"scatter\", \"uid\": \"7dc02b54-c147-11e8-9a52-d89ef3991fb3\"}, {\"name\": \"\\u8f66\\u5929\\u680b_48h\\u62c6\\u5206\\u8fc7\\u6ee4\\u7387\", \"x\": [\"8\", \"9\"], \"y\": [0.6666666666666666, 0.0], \"type\": \"scatter\", \"uid\": \"7dc02b55-c147-11e8-8c70-d89ef3991fb3\"}, {\"name\": \"\\u6c88\\u7acb\\u7fa4_24h\\u62c6\\u5206\\u8fc7\\u6ee4\\u7387\", \"x\": [\"8\", \"9\"], \"y\": [0.4, 0.4], \"type\": \"scatter\", \"uid\": \"7dc02b56-c147-11e8-a7ff-d89ef3991fb3\"}, {\"name\": \"\\u6c88\\u7acb\\u7fa4_48h\\u62c6\\u5206\\u8fc7\\u6ee4\\u7387\", \"x\": [\"8\", \"9\"], \"y\": [0.6, 0.6], \"type\": \"scatter\", \"uid\": \"7dc02b57-c147-11e8-b752-d89ef3991fb3\"}, {\"name\": \"\\u9ad8\\u5251_24h\\u62c6\\u5206\\u8fc7\\u6ee4\\u7387\", \"x\": [\"8\", \"9\"], \"y\": [0.1, null], \"type\": \"scatter\", \"uid\": \"7dc02b58-c147-11e8-99e3-d89ef3991fb3\"}, {\"name\": \"\\u9ad8\\u5251_48h\\u62c6\\u5206\\u8fc7\\u6ee4\\u7387\", \"x\": [\"8\", \"9\"], \"y\": [0.1, null], \"type\": \"scatter\", \"uid\": \"7dc02b59-c147-11e8-8c81-d89ef3991fb3\"}, {\"name\": \"\\u738b\\u4f20\\u6587_24h\\u62c6\\u5206\\u8fc7\\u6ee4\\u7387\", \"x\": [\"8\", \"9\"], \"y\": [0.2857142857142857, 0.2], \"type\": \"scatter\", \"uid\": \"7dc02b5a-c147-11e8-a352-d89ef3991fb3\"}, {\"name\": \"\\u738b\\u4f20\\u6587_48h\\u62c6\\u5206\\u8fc7\\u6ee4\\u7387\", \"x\": [\"8\", \"9\"], \"y\": [0.5714285714285714, 0.4], \"type\": \"scatter\", \"uid\": \"7dc02b5b-c147-11e8-b709-d89ef3991fb3\"}, {\"name\": \"\\u6c88\\u6069\\u60e0_24h\\u62c6\\u5206\\u8fc7\\u6ee4\\u7387\", \"x\": [\"8\", \"9\"], \"y\": [0.2222222222222222, 0.0], \"type\": \"scatter\", \"uid\": \"7dc02b5c-c147-11e8-b75d-d89ef3991fb3\"}, {\"name\": \"\\u6c88\\u6069\\u60e0_48h\\u62c6\\u5206\\u8fc7\\u6ee4\\u7387\", \"x\": [\"8\", \"9\"], \"y\": [0.4444444444444444, 0.0], \"type\": \"scatter\", \"uid\": \"7dc02b5d-c147-11e8-bb13-d89ef3991fb3\"}, {\"name\": \"\\u6797\\u6587\\u6587_24h\\u62c6\\u5206\\u8fc7\\u6ee4\\u7387\", \"x\": [\"8\", \"9\"], \"y\": [0.5454545454545454, 0.25], \"type\": \"scatter\", \"uid\": \"7dc02b5e-c147-11e8-ae81-d89ef3991fb3\"}, {\"name\": \"\\u6797\\u6587\\u6587_48h\\u62c6\\u5206\\u8fc7\\u6ee4\\u7387\", \"x\": [\"8\", \"9\"], \"y\": [0.5454545454545454, 0.5], \"type\": \"scatter\", \"uid\": \"7dc02b5f-c147-11e8-b94c-d89ef3991fb3\"}], {\"title\": \"24h\\u62c6\\u5206\\u8fc7\\u6ee4\\u7387&48h\\u62c6\\u5206\\u8fc7\\u6ee4\\u7387\\u6708\\u8d8b\\u52bf\\u56fe\", \"xaxis\": {\"mirror\": \"all\", \"nticks\": 20, \"showgrid\": true, \"showline\": true, \"title\": \"\\u6708\", \"zeroline\": true}, \"yaxis\": {\"mirror\": \"all\", \"nticks\": 20, \"showgrid\": true, \"showline\": true, \"title\": \"24h\\u62c6\\u5206\\u8fc7\\u6ee4\\u7387&48h\\u62c6\\u5206\\u8fc7\\u6ee4\\u7387\", \"zeroline\": true}}, {\"showLink\": true, \"linkText\": \"Export to plot.ly\"})});</script>"
      ]
     },
     "metadata": {},
     "output_type": "display_data"
    }
   ],
   "source": [
    "data_dict = {'24h拆分过滤率':['24h完成批次数', '下机批次数'], '48h拆分过滤率':['48h完成批次数', '下机批次数']}\n",
    "myModule.plot( all_dict, data_dict, '人员' ,  'line' )"
   ]
  },
  {
   "cell_type": "markdown",
   "metadata": {},
   "source": [
    "#### 平均反馈时长和反馈时长Q80"
   ]
  },
  {
   "cell_type": "code",
   "execution_count": 60,
   "metadata": {},
   "outputs": [
    {
     "data": {
      "application/vnd.plotly.v1+json": {
       "data": [
        {
         "name": "车天栋_平均反馈时长",
         "type": "scatter",
         "uid": "7e025f62-c147-11e8-8b80-d89ef3991fb3",
         "x": [
          "8-1",
          "8-2",
          "8-3",
          "8-4",
          "8-5",
          "9-1",
          "9-2"
         ],
         "y": [
          1,
          0,
          0,
          1.75,
          11.02,
          0,
          3.66
         ]
        },
        {
         "name": "车天栋_反馈时长Q80",
         "type": "scatter",
         "uid": "7e025f63-c147-11e8-b7e7-d89ef3991fb3",
         "x": [
          "8-1",
          "8-2",
          "8-3",
          "8-4",
          "8-5",
          "9-1",
          "9-2"
         ],
         "y": [
          1,
          0,
          0,
          1.56,
          11.36,
          0,
          2.14
         ]
        },
        {
         "name": "沈立群_平均反馈时长",
         "type": "scatter",
         "uid": "7e025f64-c147-11e8-a31f-d89ef3991fb3",
         "x": [
          "8-1",
          "8-2",
          "8-3",
          "8-4",
          "8-5",
          "9-1",
          "9-2"
         ],
         "y": [
          1,
          0,
          1.04,
          1.96,
          13,
          4.82,
          1.48
         ]
        },
        {
         "name": "沈立群_反馈时长Q80",
         "type": "scatter",
         "uid": "7e025f65-c147-11e8-bc61-d89ef3991fb3",
         "x": [
          "8-1",
          "8-2",
          "8-3",
          "8-4",
          "8-5",
          "9-1",
          "9-2"
         ],
         "y": [
          1,
          0,
          1.04,
          2.33,
          14.08,
          4.06,
          1.32
         ]
        },
        {
         "name": "高剑_平均反馈时长",
         "type": "scatter",
         "uid": "7e025f66-c147-11e8-80ee-d89ef3991fb3",
         "x": [
          "8-1",
          "8-2",
          "8-3",
          "8-4",
          "8-5",
          "9-1",
          "9-2"
         ],
         "y": [
          1,
          0,
          43.34,
          3.21,
          6.55,
          0,
          0
         ]
        },
        {
         "name": "高剑_反馈时长Q80",
         "type": "scatter",
         "uid": "7e025f67-c147-11e8-b039-d89ef3991fb3",
         "x": [
          "8-1",
          "8-2",
          "8-3",
          "8-4",
          "8-5",
          "9-1",
          "9-2"
         ],
         "y": [
          1,
          0,
          43.34,
          3.15,
          6.55,
          0,
          0
         ]
        },
        {
         "name": "王传文_平均反馈时长",
         "type": "scatter",
         "uid": "7e025f68-c147-11e8-ae33-d89ef3991fb3",
         "x": [
          "8-1",
          "8-2",
          "8-3",
          "8-4",
          "8-5",
          "9-1",
          "9-2"
         ],
         "y": [
          1,
          0,
          3.04,
          4.31,
          12.68,
          8.47,
          1.85
         ]
        },
        {
         "name": "王传文_反馈时长Q80",
         "type": "scatter",
         "uid": "7e025f69-c147-11e8-839c-d89ef3991fb3",
         "x": [
          "8-1",
          "8-2",
          "8-3",
          "8-4",
          "8-5",
          "9-1",
          "9-2"
         ],
         "y": [
          1,
          0,
          3.04,
          2.03,
          1.56,
          2.04,
          1.71
         ]
        },
        {
         "name": "沈恩惠_平均反馈时长",
         "type": "scatter",
         "uid": "7e025f6a-c147-11e8-8cff-d89ef3991fb3",
         "x": [
          "8-1",
          "8-2",
          "8-3",
          "8-4",
          "8-5",
          "9-1",
          "9-2"
         ],
         "y": [
          1,
          0,
          0,
          4.6,
          7.69,
          0,
          1.52
         ]
        },
        {
         "name": "沈恩惠_反馈时长Q80",
         "type": "scatter",
         "uid": "7e025f6b-c147-11e8-9b8f-d89ef3991fb3",
         "x": [
          "8-1",
          "8-2",
          "8-3",
          "8-4",
          "8-5",
          "9-1",
          "9-2"
         ],
         "y": [
          1,
          0,
          0,
          3.36,
          2.66,
          0,
          0.9
         ]
        },
        {
         "name": "林文文_平均反馈时长",
         "type": "scatter",
         "uid": "7e025f6c-c147-11e8-a60e-d89ef3991fb3",
         "x": [
          "8-1",
          "8-2",
          "8-3",
          "8-4",
          "8-5",
          "9-1",
          "9-2"
         ],
         "y": [
          1,
          0,
          1.8,
          2.24,
          3.29,
          8.91,
          2.75
         ]
        },
        {
         "name": "林文文_反馈时长Q80",
         "type": "scatter",
         "uid": "7e025f6d-c147-11e8-912d-d89ef3991fb3",
         "x": [
          "8-1",
          "8-2",
          "8-3",
          "8-4",
          "8-5",
          "9-1",
          "9-2"
         ],
         "y": [
          1,
          0,
          1.44,
          2.38,
          3.84,
          3.01,
          2.28
         ]
        }
       ],
       "layout": {
        "title": "平均反馈时长&反馈时长Q80周趋势图",
        "xaxis": {
         "mirror": "all",
         "nticks": 20,
         "showgrid": true,
         "showline": true,
         "title": "周",
         "zeroline": true
        },
        "yaxis": {
         "mirror": "all",
         "nticks": 20,
         "showgrid": true,
         "showline": true,
         "title": "平均反馈时长&反馈时长Q80",
         "zeroline": true
        }
       }
      },
      "text/html": [
       "<div id=\"be176e03-3eda-48e5-959d-a7d399ee4e8f\" style=\"height: 525px; width: 100%;\" class=\"plotly-graph-div\"></div><script type=\"text/javascript\">require([\"plotly\"], function(Plotly) { window.PLOTLYENV=window.PLOTLYENV || {};window.PLOTLYENV.BASE_URL=\"https://plot.ly\";Plotly.newPlot(\"be176e03-3eda-48e5-959d-a7d399ee4e8f\", [{\"name\": \"\\u8f66\\u5929\\u680b_\\u5e73\\u5747\\u53cd\\u9988\\u65f6\\u957f\", \"x\": [\"8-1\", \"8-2\", \"8-3\", \"8-4\", \"8-5\", \"9-1\", \"9-2\"], \"y\": [1.0, 0.0, 0.0, 1.75, 11.02, 0.0, 3.66], \"type\": \"scatter\", \"uid\": \"7e025f62-c147-11e8-8b80-d89ef3991fb3\"}, {\"name\": \"\\u8f66\\u5929\\u680b_\\u53cd\\u9988\\u65f6\\u957fQ80\", \"x\": [\"8-1\", \"8-2\", \"8-3\", \"8-4\", \"8-5\", \"9-1\", \"9-2\"], \"y\": [1.0, 0.0, 0.0, 1.56, 11.36, 0.0, 2.14], \"type\": \"scatter\", \"uid\": \"7e025f63-c147-11e8-b7e7-d89ef3991fb3\"}, {\"name\": \"\\u6c88\\u7acb\\u7fa4_\\u5e73\\u5747\\u53cd\\u9988\\u65f6\\u957f\", \"x\": [\"8-1\", \"8-2\", \"8-3\", \"8-4\", \"8-5\", \"9-1\", \"9-2\"], \"y\": [1.0, 0.0, 1.04, 1.96, 13.0, 4.82, 1.48], \"type\": \"scatter\", \"uid\": \"7e025f64-c147-11e8-a31f-d89ef3991fb3\"}, {\"name\": \"\\u6c88\\u7acb\\u7fa4_\\u53cd\\u9988\\u65f6\\u957fQ80\", \"x\": [\"8-1\", \"8-2\", \"8-3\", \"8-4\", \"8-5\", \"9-1\", \"9-2\"], \"y\": [1.0, 0.0, 1.04, 2.33, 14.08, 4.06, 1.32], \"type\": \"scatter\", \"uid\": \"7e025f65-c147-11e8-bc61-d89ef3991fb3\"}, {\"name\": \"\\u9ad8\\u5251_\\u5e73\\u5747\\u53cd\\u9988\\u65f6\\u957f\", \"x\": [\"8-1\", \"8-2\", \"8-3\", \"8-4\", \"8-5\", \"9-1\", \"9-2\"], \"y\": [1.0, 0.0, 43.34, 3.21, 6.55, 0.0, 0.0], \"type\": \"scatter\", \"uid\": \"7e025f66-c147-11e8-80ee-d89ef3991fb3\"}, {\"name\": \"\\u9ad8\\u5251_\\u53cd\\u9988\\u65f6\\u957fQ80\", \"x\": [\"8-1\", \"8-2\", \"8-3\", \"8-4\", \"8-5\", \"9-1\", \"9-2\"], \"y\": [1.0, 0.0, 43.34, 3.15, 6.55, 0.0, 0.0], \"type\": \"scatter\", \"uid\": \"7e025f67-c147-11e8-b039-d89ef3991fb3\"}, {\"name\": \"\\u738b\\u4f20\\u6587_\\u5e73\\u5747\\u53cd\\u9988\\u65f6\\u957f\", \"x\": [\"8-1\", \"8-2\", \"8-3\", \"8-4\", \"8-5\", \"9-1\", \"9-2\"], \"y\": [1.0, 0.0, 3.04, 4.31, 12.68, 8.47, 1.85], \"type\": \"scatter\", \"uid\": \"7e025f68-c147-11e8-ae33-d89ef3991fb3\"}, {\"name\": \"\\u738b\\u4f20\\u6587_\\u53cd\\u9988\\u65f6\\u957fQ80\", \"x\": [\"8-1\", \"8-2\", \"8-3\", \"8-4\", \"8-5\", \"9-1\", \"9-2\"], \"y\": [1.0, 0.0, 3.04, 2.03, 1.56, 2.04, 1.71], \"type\": \"scatter\", \"uid\": \"7e025f69-c147-11e8-839c-d89ef3991fb3\"}, {\"name\": \"\\u6c88\\u6069\\u60e0_\\u5e73\\u5747\\u53cd\\u9988\\u65f6\\u957f\", \"x\": [\"8-1\", \"8-2\", \"8-3\", \"8-4\", \"8-5\", \"9-1\", \"9-2\"], \"y\": [1.0, 0.0, 0.0, 4.6, 7.69, 0.0, 1.52], \"type\": \"scatter\", \"uid\": \"7e025f6a-c147-11e8-8cff-d89ef3991fb3\"}, {\"name\": \"\\u6c88\\u6069\\u60e0_\\u53cd\\u9988\\u65f6\\u957fQ80\", \"x\": [\"8-1\", \"8-2\", \"8-3\", \"8-4\", \"8-5\", \"9-1\", \"9-2\"], \"y\": [1.0, 0.0, 0.0, 3.36, 2.66, 0.0, 0.9], \"type\": \"scatter\", \"uid\": \"7e025f6b-c147-11e8-9b8f-d89ef3991fb3\"}, {\"name\": \"\\u6797\\u6587\\u6587_\\u5e73\\u5747\\u53cd\\u9988\\u65f6\\u957f\", \"x\": [\"8-1\", \"8-2\", \"8-3\", \"8-4\", \"8-5\", \"9-1\", \"9-2\"], \"y\": [1.0, 0.0, 1.8, 2.24, 3.29, 8.91, 2.75], \"type\": \"scatter\", \"uid\": \"7e025f6c-c147-11e8-a60e-d89ef3991fb3\"}, {\"name\": \"\\u6797\\u6587\\u6587_\\u53cd\\u9988\\u65f6\\u957fQ80\", \"x\": [\"8-1\", \"8-2\", \"8-3\", \"8-4\", \"8-5\", \"9-1\", \"9-2\"], \"y\": [1.0, 0.0, 1.44, 2.38, 3.84, 3.01, 2.28], \"type\": \"scatter\", \"uid\": \"7e025f6d-c147-11e8-912d-d89ef3991fb3\"}], {\"title\": \"\\u5e73\\u5747\\u53cd\\u9988\\u65f6\\u957f&\\u53cd\\u9988\\u65f6\\u957fQ80\\u5468\\u8d8b\\u52bf\\u56fe\", \"xaxis\": {\"mirror\": \"all\", \"nticks\": 20, \"showgrid\": true, \"showline\": true, \"title\": \"\\u5468\", \"zeroline\": true}, \"yaxis\": {\"mirror\": \"all\", \"nticks\": 20, \"showgrid\": true, \"showline\": true, \"title\": \"\\u5e73\\u5747\\u53cd\\u9988\\u65f6\\u957f&\\u53cd\\u9988\\u65f6\\u957fQ80\", \"zeroline\": true}}, {\"showLink\": true, \"linkText\": \"Export to plot.ly\"})});</script>"
      ],
      "text/vnd.plotly.v1+html": [
       "<div id=\"be176e03-3eda-48e5-959d-a7d399ee4e8f\" style=\"height: 525px; width: 100%;\" class=\"plotly-graph-div\"></div><script type=\"text/javascript\">require([\"plotly\"], function(Plotly) { window.PLOTLYENV=window.PLOTLYENV || {};window.PLOTLYENV.BASE_URL=\"https://plot.ly\";Plotly.newPlot(\"be176e03-3eda-48e5-959d-a7d399ee4e8f\", [{\"name\": \"\\u8f66\\u5929\\u680b_\\u5e73\\u5747\\u53cd\\u9988\\u65f6\\u957f\", \"x\": [\"8-1\", \"8-2\", \"8-3\", \"8-4\", \"8-5\", \"9-1\", \"9-2\"], \"y\": [1.0, 0.0, 0.0, 1.75, 11.02, 0.0, 3.66], \"type\": \"scatter\", \"uid\": \"7e025f62-c147-11e8-8b80-d89ef3991fb3\"}, {\"name\": \"\\u8f66\\u5929\\u680b_\\u53cd\\u9988\\u65f6\\u957fQ80\", \"x\": [\"8-1\", \"8-2\", \"8-3\", \"8-4\", \"8-5\", \"9-1\", \"9-2\"], \"y\": [1.0, 0.0, 0.0, 1.56, 11.36, 0.0, 2.14], \"type\": \"scatter\", \"uid\": \"7e025f63-c147-11e8-b7e7-d89ef3991fb3\"}, {\"name\": \"\\u6c88\\u7acb\\u7fa4_\\u5e73\\u5747\\u53cd\\u9988\\u65f6\\u957f\", \"x\": [\"8-1\", \"8-2\", \"8-3\", \"8-4\", \"8-5\", \"9-1\", \"9-2\"], \"y\": [1.0, 0.0, 1.04, 1.96, 13.0, 4.82, 1.48], \"type\": \"scatter\", \"uid\": \"7e025f64-c147-11e8-a31f-d89ef3991fb3\"}, {\"name\": \"\\u6c88\\u7acb\\u7fa4_\\u53cd\\u9988\\u65f6\\u957fQ80\", \"x\": [\"8-1\", \"8-2\", \"8-3\", \"8-4\", \"8-5\", \"9-1\", \"9-2\"], \"y\": [1.0, 0.0, 1.04, 2.33, 14.08, 4.06, 1.32], \"type\": \"scatter\", \"uid\": \"7e025f65-c147-11e8-bc61-d89ef3991fb3\"}, {\"name\": \"\\u9ad8\\u5251_\\u5e73\\u5747\\u53cd\\u9988\\u65f6\\u957f\", \"x\": [\"8-1\", \"8-2\", \"8-3\", \"8-4\", \"8-5\", \"9-1\", \"9-2\"], \"y\": [1.0, 0.0, 43.34, 3.21, 6.55, 0.0, 0.0], \"type\": \"scatter\", \"uid\": \"7e025f66-c147-11e8-80ee-d89ef3991fb3\"}, {\"name\": \"\\u9ad8\\u5251_\\u53cd\\u9988\\u65f6\\u957fQ80\", \"x\": [\"8-1\", \"8-2\", \"8-3\", \"8-4\", \"8-5\", \"9-1\", \"9-2\"], \"y\": [1.0, 0.0, 43.34, 3.15, 6.55, 0.0, 0.0], \"type\": \"scatter\", \"uid\": \"7e025f67-c147-11e8-b039-d89ef3991fb3\"}, {\"name\": \"\\u738b\\u4f20\\u6587_\\u5e73\\u5747\\u53cd\\u9988\\u65f6\\u957f\", \"x\": [\"8-1\", \"8-2\", \"8-3\", \"8-4\", \"8-5\", \"9-1\", \"9-2\"], \"y\": [1.0, 0.0, 3.04, 4.31, 12.68, 8.47, 1.85], \"type\": \"scatter\", \"uid\": \"7e025f68-c147-11e8-ae33-d89ef3991fb3\"}, {\"name\": \"\\u738b\\u4f20\\u6587_\\u53cd\\u9988\\u65f6\\u957fQ80\", \"x\": [\"8-1\", \"8-2\", \"8-3\", \"8-4\", \"8-5\", \"9-1\", \"9-2\"], \"y\": [1.0, 0.0, 3.04, 2.03, 1.56, 2.04, 1.71], \"type\": \"scatter\", \"uid\": \"7e025f69-c147-11e8-839c-d89ef3991fb3\"}, {\"name\": \"\\u6c88\\u6069\\u60e0_\\u5e73\\u5747\\u53cd\\u9988\\u65f6\\u957f\", \"x\": [\"8-1\", \"8-2\", \"8-3\", \"8-4\", \"8-5\", \"9-1\", \"9-2\"], \"y\": [1.0, 0.0, 0.0, 4.6, 7.69, 0.0, 1.52], \"type\": \"scatter\", \"uid\": \"7e025f6a-c147-11e8-8cff-d89ef3991fb3\"}, {\"name\": \"\\u6c88\\u6069\\u60e0_\\u53cd\\u9988\\u65f6\\u957fQ80\", \"x\": [\"8-1\", \"8-2\", \"8-3\", \"8-4\", \"8-5\", \"9-1\", \"9-2\"], \"y\": [1.0, 0.0, 0.0, 3.36, 2.66, 0.0, 0.9], \"type\": \"scatter\", \"uid\": \"7e025f6b-c147-11e8-9b8f-d89ef3991fb3\"}, {\"name\": \"\\u6797\\u6587\\u6587_\\u5e73\\u5747\\u53cd\\u9988\\u65f6\\u957f\", \"x\": [\"8-1\", \"8-2\", \"8-3\", \"8-4\", \"8-5\", \"9-1\", \"9-2\"], \"y\": [1.0, 0.0, 1.8, 2.24, 3.29, 8.91, 2.75], \"type\": \"scatter\", \"uid\": \"7e025f6c-c147-11e8-a60e-d89ef3991fb3\"}, {\"name\": \"\\u6797\\u6587\\u6587_\\u53cd\\u9988\\u65f6\\u957fQ80\", \"x\": [\"8-1\", \"8-2\", \"8-3\", \"8-4\", \"8-5\", \"9-1\", \"9-2\"], \"y\": [1.0, 0.0, 1.44, 2.38, 3.84, 3.01, 2.28], \"type\": \"scatter\", \"uid\": \"7e025f6d-c147-11e8-912d-d89ef3991fb3\"}], {\"title\": \"\\u5e73\\u5747\\u53cd\\u9988\\u65f6\\u957f&\\u53cd\\u9988\\u65f6\\u957fQ80\\u5468\\u8d8b\\u52bf\\u56fe\", \"xaxis\": {\"mirror\": \"all\", \"nticks\": 20, \"showgrid\": true, \"showline\": true, \"title\": \"\\u5468\", \"zeroline\": true}, \"yaxis\": {\"mirror\": \"all\", \"nticks\": 20, \"showgrid\": true, \"showline\": true, \"title\": \"\\u5e73\\u5747\\u53cd\\u9988\\u65f6\\u957f&\\u53cd\\u9988\\u65f6\\u957fQ80\", \"zeroline\": true}}, {\"showLink\": true, \"linkText\": \"Export to plot.ly\"})});</script>"
      ]
     },
     "metadata": {},
     "output_type": "display_data"
    },
    {
     "data": {
      "application/vnd.plotly.v1+json": {
       "data": [
        {
         "name": "车天栋_平均反馈时长",
         "type": "scatter",
         "uid": "7e197fe2-c147-11e8-a632-d89ef3991fb3",
         "x": [
          "8",
          "9"
         ],
         "y": [
          13.77,
          3.66
         ]
        },
        {
         "name": "车天栋_反馈时长Q80",
         "type": "scatter",
         "uid": "7e197fe3-c147-11e8-9562-d89ef3991fb3",
         "x": [
          "8",
          "9"
         ],
         "y": [
          13.92,
          2.14
         ]
        },
        {
         "name": "沈立群_平均反馈时长",
         "type": "scatter",
         "uid": "7e197fe4-c147-11e8-b79a-d89ef3991fb3",
         "x": [
          "8",
          "9"
         ],
         "y": [
          17,
          6.300000000000001
         ]
        },
        {
         "name": "沈立群_反馈时长Q80",
         "type": "scatter",
         "uid": "7e197fe5-c147-11e8-b666-d89ef3991fb3",
         "x": [
          "8",
          "9"
         ],
         "y": [
          18.45,
          5.38
         ]
        },
        {
         "name": "高剑_平均反馈时长",
         "type": "scatter",
         "uid": "7e197fe6-c147-11e8-8f54-d89ef3991fb3",
         "x": [
          "8",
          "9"
         ],
         "y": [
          54.1,
          0
         ]
        },
        {
         "name": "高剑_反馈时长Q80",
         "type": "scatter",
         "uid": "7e197fe7-c147-11e8-aed1-d89ef3991fb3",
         "x": [
          "8",
          "9"
         ],
         "y": [
          54.04,
          0
         ]
        },
        {
         "name": "王传文_平均反馈时长",
         "type": "scatter",
         "uid": "7e197fe8-c147-11e8-aa5d-d89ef3991fb3",
         "x": [
          "8",
          "9"
         ],
         "y": [
          21.03,
          10.32
         ]
        },
        {
         "name": "王传文_反馈时长Q80",
         "type": "scatter",
         "uid": "7e197fe9-c147-11e8-b67d-d89ef3991fb3",
         "x": [
          "8",
          "9"
         ],
         "y": [
          7.630000000000001,
          3.75
         ]
        },
        {
         "name": "沈恩惠_平均反馈时长",
         "type": "scatter",
         "uid": "7e197fea-c147-11e8-bba0-d89ef3991fb3",
         "x": [
          "8",
          "9"
         ],
         "y": [
          13.29,
          1.52
         ]
        },
        {
         "name": "沈恩惠_反馈时长Q80",
         "type": "scatter",
         "uid": "7e197feb-c147-11e8-8816-d89ef3991fb3",
         "x": [
          "8",
          "9"
         ],
         "y": [
          7.02,
          0.9
         ]
        },
        {
         "name": "林文文_平均反馈时长",
         "type": "scatter",
         "uid": "7e197fec-c147-11e8-815f-d89ef3991fb3",
         "x": [
          "8",
          "9"
         ],
         "y": [
          8.33,
          11.66
         ]
        },
        {
         "name": "林文文_反馈时长Q80",
         "type": "scatter",
         "uid": "7e197fed-c147-11e8-9f38-d89ef3991fb3",
         "x": [
          "8",
          "9"
         ],
         "y": [
          8.66,
          5.289999999999999
         ]
        }
       ],
       "layout": {
        "title": "平均反馈时长&反馈时长Q80月趋势图",
        "xaxis": {
         "mirror": "all",
         "nticks": 20,
         "showgrid": true,
         "showline": true,
         "title": "月",
         "zeroline": true
        },
        "yaxis": {
         "mirror": "all",
         "nticks": 20,
         "showgrid": true,
         "showline": true,
         "title": "平均反馈时长&反馈时长Q80",
         "zeroline": true
        }
       }
      },
      "text/html": [
       "<div id=\"3a7a58ec-c199-441f-845d-e49df03ff126\" style=\"height: 525px; width: 100%;\" class=\"plotly-graph-div\"></div><script type=\"text/javascript\">require([\"plotly\"], function(Plotly) { window.PLOTLYENV=window.PLOTLYENV || {};window.PLOTLYENV.BASE_URL=\"https://plot.ly\";Plotly.newPlot(\"3a7a58ec-c199-441f-845d-e49df03ff126\", [{\"name\": \"\\u8f66\\u5929\\u680b_\\u5e73\\u5747\\u53cd\\u9988\\u65f6\\u957f\", \"x\": [\"8\", \"9\"], \"y\": [13.77, 3.66], \"type\": \"scatter\", \"uid\": \"7e197fe2-c147-11e8-a632-d89ef3991fb3\"}, {\"name\": \"\\u8f66\\u5929\\u680b_\\u53cd\\u9988\\u65f6\\u957fQ80\", \"x\": [\"8\", \"9\"], \"y\": [13.92, 2.14], \"type\": \"scatter\", \"uid\": \"7e197fe3-c147-11e8-9562-d89ef3991fb3\"}, {\"name\": \"\\u6c88\\u7acb\\u7fa4_\\u5e73\\u5747\\u53cd\\u9988\\u65f6\\u957f\", \"x\": [\"8\", \"9\"], \"y\": [17.0, 6.300000000000001], \"type\": \"scatter\", \"uid\": \"7e197fe4-c147-11e8-b79a-d89ef3991fb3\"}, {\"name\": \"\\u6c88\\u7acb\\u7fa4_\\u53cd\\u9988\\u65f6\\u957fQ80\", \"x\": [\"8\", \"9\"], \"y\": [18.45, 5.38], \"type\": \"scatter\", \"uid\": \"7e197fe5-c147-11e8-b666-d89ef3991fb3\"}, {\"name\": \"\\u9ad8\\u5251_\\u5e73\\u5747\\u53cd\\u9988\\u65f6\\u957f\", \"x\": [\"8\", \"9\"], \"y\": [54.1, 0.0], \"type\": \"scatter\", \"uid\": \"7e197fe6-c147-11e8-8f54-d89ef3991fb3\"}, {\"name\": \"\\u9ad8\\u5251_\\u53cd\\u9988\\u65f6\\u957fQ80\", \"x\": [\"8\", \"9\"], \"y\": [54.04, 0.0], \"type\": \"scatter\", \"uid\": \"7e197fe7-c147-11e8-aed1-d89ef3991fb3\"}, {\"name\": \"\\u738b\\u4f20\\u6587_\\u5e73\\u5747\\u53cd\\u9988\\u65f6\\u957f\", \"x\": [\"8\", \"9\"], \"y\": [21.03, 10.32], \"type\": \"scatter\", \"uid\": \"7e197fe8-c147-11e8-aa5d-d89ef3991fb3\"}, {\"name\": \"\\u738b\\u4f20\\u6587_\\u53cd\\u9988\\u65f6\\u957fQ80\", \"x\": [\"8\", \"9\"], \"y\": [7.630000000000001, 3.75], \"type\": \"scatter\", \"uid\": \"7e197fe9-c147-11e8-b67d-d89ef3991fb3\"}, {\"name\": \"\\u6c88\\u6069\\u60e0_\\u5e73\\u5747\\u53cd\\u9988\\u65f6\\u957f\", \"x\": [\"8\", \"9\"], \"y\": [13.29, 1.52], \"type\": \"scatter\", \"uid\": \"7e197fea-c147-11e8-bba0-d89ef3991fb3\"}, {\"name\": \"\\u6c88\\u6069\\u60e0_\\u53cd\\u9988\\u65f6\\u957fQ80\", \"x\": [\"8\", \"9\"], \"y\": [7.02, 0.9], \"type\": \"scatter\", \"uid\": \"7e197feb-c147-11e8-8816-d89ef3991fb3\"}, {\"name\": \"\\u6797\\u6587\\u6587_\\u5e73\\u5747\\u53cd\\u9988\\u65f6\\u957f\", \"x\": [\"8\", \"9\"], \"y\": [8.33, 11.66], \"type\": \"scatter\", \"uid\": \"7e197fec-c147-11e8-815f-d89ef3991fb3\"}, {\"name\": \"\\u6797\\u6587\\u6587_\\u53cd\\u9988\\u65f6\\u957fQ80\", \"x\": [\"8\", \"9\"], \"y\": [8.66, 5.289999999999999], \"type\": \"scatter\", \"uid\": \"7e197fed-c147-11e8-9f38-d89ef3991fb3\"}], {\"title\": \"\\u5e73\\u5747\\u53cd\\u9988\\u65f6\\u957f&\\u53cd\\u9988\\u65f6\\u957fQ80\\u6708\\u8d8b\\u52bf\\u56fe\", \"xaxis\": {\"mirror\": \"all\", \"nticks\": 20, \"showgrid\": true, \"showline\": true, \"title\": \"\\u6708\", \"zeroline\": true}, \"yaxis\": {\"mirror\": \"all\", \"nticks\": 20, \"showgrid\": true, \"showline\": true, \"title\": \"\\u5e73\\u5747\\u53cd\\u9988\\u65f6\\u957f&\\u53cd\\u9988\\u65f6\\u957fQ80\", \"zeroline\": true}}, {\"showLink\": true, \"linkText\": \"Export to plot.ly\"})});</script>"
      ],
      "text/vnd.plotly.v1+html": [
       "<div id=\"3a7a58ec-c199-441f-845d-e49df03ff126\" style=\"height: 525px; width: 100%;\" class=\"plotly-graph-div\"></div><script type=\"text/javascript\">require([\"plotly\"], function(Plotly) { window.PLOTLYENV=window.PLOTLYENV || {};window.PLOTLYENV.BASE_URL=\"https://plot.ly\";Plotly.newPlot(\"3a7a58ec-c199-441f-845d-e49df03ff126\", [{\"name\": \"\\u8f66\\u5929\\u680b_\\u5e73\\u5747\\u53cd\\u9988\\u65f6\\u957f\", \"x\": [\"8\", \"9\"], \"y\": [13.77, 3.66], \"type\": \"scatter\", \"uid\": \"7e197fe2-c147-11e8-a632-d89ef3991fb3\"}, {\"name\": \"\\u8f66\\u5929\\u680b_\\u53cd\\u9988\\u65f6\\u957fQ80\", \"x\": [\"8\", \"9\"], \"y\": [13.92, 2.14], \"type\": \"scatter\", \"uid\": \"7e197fe3-c147-11e8-9562-d89ef3991fb3\"}, {\"name\": \"\\u6c88\\u7acb\\u7fa4_\\u5e73\\u5747\\u53cd\\u9988\\u65f6\\u957f\", \"x\": [\"8\", \"9\"], \"y\": [17.0, 6.300000000000001], \"type\": \"scatter\", \"uid\": \"7e197fe4-c147-11e8-b79a-d89ef3991fb3\"}, {\"name\": \"\\u6c88\\u7acb\\u7fa4_\\u53cd\\u9988\\u65f6\\u957fQ80\", \"x\": [\"8\", \"9\"], \"y\": [18.45, 5.38], \"type\": \"scatter\", \"uid\": \"7e197fe5-c147-11e8-b666-d89ef3991fb3\"}, {\"name\": \"\\u9ad8\\u5251_\\u5e73\\u5747\\u53cd\\u9988\\u65f6\\u957f\", \"x\": [\"8\", \"9\"], \"y\": [54.1, 0.0], \"type\": \"scatter\", \"uid\": \"7e197fe6-c147-11e8-8f54-d89ef3991fb3\"}, {\"name\": \"\\u9ad8\\u5251_\\u53cd\\u9988\\u65f6\\u957fQ80\", \"x\": [\"8\", \"9\"], \"y\": [54.04, 0.0], \"type\": \"scatter\", \"uid\": \"7e197fe7-c147-11e8-aed1-d89ef3991fb3\"}, {\"name\": \"\\u738b\\u4f20\\u6587_\\u5e73\\u5747\\u53cd\\u9988\\u65f6\\u957f\", \"x\": [\"8\", \"9\"], \"y\": [21.03, 10.32], \"type\": \"scatter\", \"uid\": \"7e197fe8-c147-11e8-aa5d-d89ef3991fb3\"}, {\"name\": \"\\u738b\\u4f20\\u6587_\\u53cd\\u9988\\u65f6\\u957fQ80\", \"x\": [\"8\", \"9\"], \"y\": [7.630000000000001, 3.75], \"type\": \"scatter\", \"uid\": \"7e197fe9-c147-11e8-b67d-d89ef3991fb3\"}, {\"name\": \"\\u6c88\\u6069\\u60e0_\\u5e73\\u5747\\u53cd\\u9988\\u65f6\\u957f\", \"x\": [\"8\", \"9\"], \"y\": [13.29, 1.52], \"type\": \"scatter\", \"uid\": \"7e197fea-c147-11e8-bba0-d89ef3991fb3\"}, {\"name\": \"\\u6c88\\u6069\\u60e0_\\u53cd\\u9988\\u65f6\\u957fQ80\", \"x\": [\"8\", \"9\"], \"y\": [7.02, 0.9], \"type\": \"scatter\", \"uid\": \"7e197feb-c147-11e8-8816-d89ef3991fb3\"}, {\"name\": \"\\u6797\\u6587\\u6587_\\u5e73\\u5747\\u53cd\\u9988\\u65f6\\u957f\", \"x\": [\"8\", \"9\"], \"y\": [8.33, 11.66], \"type\": \"scatter\", \"uid\": \"7e197fec-c147-11e8-815f-d89ef3991fb3\"}, {\"name\": \"\\u6797\\u6587\\u6587_\\u53cd\\u9988\\u65f6\\u957fQ80\", \"x\": [\"8\", \"9\"], \"y\": [8.66, 5.289999999999999], \"type\": \"scatter\", \"uid\": \"7e197fed-c147-11e8-9f38-d89ef3991fb3\"}], {\"title\": \"\\u5e73\\u5747\\u53cd\\u9988\\u65f6\\u957f&\\u53cd\\u9988\\u65f6\\u957fQ80\\u6708\\u8d8b\\u52bf\\u56fe\", \"xaxis\": {\"mirror\": \"all\", \"nticks\": 20, \"showgrid\": true, \"showline\": true, \"title\": \"\\u6708\", \"zeroline\": true}, \"yaxis\": {\"mirror\": \"all\", \"nticks\": 20, \"showgrid\": true, \"showline\": true, \"title\": \"\\u5e73\\u5747\\u53cd\\u9988\\u65f6\\u957f&\\u53cd\\u9988\\u65f6\\u957fQ80\", \"zeroline\": true}}, {\"showLink\": true, \"linkText\": \"Export to plot.ly\"})});</script>"
      ]
     },
     "metadata": {},
     "output_type": "display_data"
    }
   ],
   "source": [
    "data_dict = {'平均反馈时长':['平均反馈时长'], '反馈时长Q80':['反馈时长Q80']}\n",
    "myModule.plot( all_dict, data_dict, '人员' ,  'line' )"
   ]
  },
  {
   "cell_type": "markdown",
   "metadata": {},
   "source": [
    "### 异常"
   ]
  },
  {
   "cell_type": "markdown",
   "metadata": {},
   "source": [
    "#### 下机批次比"
   ]
  },
  {
   "cell_type": "code",
   "execution_count": 61,
   "metadata": {},
   "outputs": [
    {
     "data": {
      "application/vnd.plotly.v1+json": {
       "data": [
        {
         "name": "车天栋",
         "type": "scatter",
         "uid": "7e4b6b68-c147-11e8-9a28-d89ef3991fb3",
         "x": [
          "8-1",
          "8-2",
          "8-3",
          "8-4",
          "8-5",
          "9-1",
          "9-2"
         ],
         "y": [
          1,
          null,
          null,
          1,
          1,
          null,
          1
         ]
        },
        {
         "name": "沈立群",
         "type": "scatter",
         "uid": "7e4b6b69-c147-11e8-a697-d89ef3991fb3",
         "x": [
          "8-1",
          "8-2",
          "8-3",
          "8-4",
          "8-5",
          "9-1",
          "9-2"
         ],
         "y": [
          1,
          null,
          1,
          1.25,
          1.3333333333333333,
          1.5,
          1
         ]
        },
        {
         "name": "高剑",
         "type": "scatter",
         "uid": "7e4b6b6a-c147-11e8-8287-d89ef3991fb3",
         "x": [
          "8-1",
          "8-2",
          "8-3",
          "8-4",
          "8-5",
          "9-1",
          "9-2"
         ],
         "y": [
          1,
          null,
          1,
          1.4,
          1,
          null,
          null
         ]
        },
        {
         "name": "王传文",
         "type": "scatter",
         "uid": "7e4b6b6b-c147-11e8-8218-d89ef3991fb3",
         "x": [
          "8-1",
          "8-2",
          "8-3",
          "8-4",
          "8-5",
          "9-1",
          "9-2"
         ],
         "y": [
          1,
          null,
          1,
          1,
          1,
          1,
          1
         ]
        },
        {
         "name": "沈恩惠",
         "type": "scatter",
         "uid": "7e4b6b6c-c147-11e8-9f9f-d89ef3991fb3",
         "x": [
          "8-1",
          "8-2",
          "8-3",
          "8-4",
          "8-5",
          "9-1",
          "9-2"
         ],
         "y": [
          1,
          null,
          null,
          1,
          1,
          null,
          1
         ]
        },
        {
         "name": "林文文",
         "type": "scatter",
         "uid": "7e4b6b6d-c147-11e8-9557-d89ef3991fb3",
         "x": [
          "8-1",
          "8-2",
          "8-3",
          "8-4",
          "8-5",
          "9-1",
          "9-2"
         ],
         "y": [
          1,
          null,
          1,
          1.3333333333333333,
          1,
          1,
          1
         ]
        }
       ],
       "layout": {
        "title": "下机批次比周趋势图",
        "xaxis": {
         "mirror": "all",
         "nticks": 20,
         "showgrid": true,
         "showline": true,
         "title": "周",
         "zeroline": true
        },
        "yaxis": {
         "mirror": "all",
         "nticks": 20,
         "showgrid": true,
         "showline": true,
         "title": "下机批次比",
         "zeroline": true
        }
       }
      },
      "text/html": [
       "<div id=\"78077217-d929-40f8-b7ab-b5b45547f576\" style=\"height: 525px; width: 100%;\" class=\"plotly-graph-div\"></div><script type=\"text/javascript\">require([\"plotly\"], function(Plotly) { window.PLOTLYENV=window.PLOTLYENV || {};window.PLOTLYENV.BASE_URL=\"https://plot.ly\";Plotly.newPlot(\"78077217-d929-40f8-b7ab-b5b45547f576\", [{\"name\": \"\\u8f66\\u5929\\u680b\", \"x\": [\"8-1\", \"8-2\", \"8-3\", \"8-4\", \"8-5\", \"9-1\", \"9-2\"], \"y\": [1.0, null, null, 1.0, 1.0, null, 1.0], \"type\": \"scatter\", \"uid\": \"7e4b6b68-c147-11e8-9a28-d89ef3991fb3\"}, {\"name\": \"\\u6c88\\u7acb\\u7fa4\", \"x\": [\"8-1\", \"8-2\", \"8-3\", \"8-4\", \"8-5\", \"9-1\", \"9-2\"], \"y\": [1.0, null, 1.0, 1.25, 1.3333333333333333, 1.5, 1.0], \"type\": \"scatter\", \"uid\": \"7e4b6b69-c147-11e8-a697-d89ef3991fb3\"}, {\"name\": \"\\u9ad8\\u5251\", \"x\": [\"8-1\", \"8-2\", \"8-3\", \"8-4\", \"8-5\", \"9-1\", \"9-2\"], \"y\": [1.0, null, 1.0, 1.4, 1.0, null, null], \"type\": \"scatter\", \"uid\": \"7e4b6b6a-c147-11e8-8287-d89ef3991fb3\"}, {\"name\": \"\\u738b\\u4f20\\u6587\", \"x\": [\"8-1\", \"8-2\", \"8-3\", \"8-4\", \"8-5\", \"9-1\", \"9-2\"], \"y\": [1.0, null, 1.0, 1.0, 1.0, 1.0, 1.0], \"type\": \"scatter\", \"uid\": \"7e4b6b6b-c147-11e8-8218-d89ef3991fb3\"}, {\"name\": \"\\u6c88\\u6069\\u60e0\", \"x\": [\"8-1\", \"8-2\", \"8-3\", \"8-4\", \"8-5\", \"9-1\", \"9-2\"], \"y\": [1.0, null, null, 1.0, 1.0, null, 1.0], \"type\": \"scatter\", \"uid\": \"7e4b6b6c-c147-11e8-9f9f-d89ef3991fb3\"}, {\"name\": \"\\u6797\\u6587\\u6587\", \"x\": [\"8-1\", \"8-2\", \"8-3\", \"8-4\", \"8-5\", \"9-1\", \"9-2\"], \"y\": [1.0, null, 1.0, 1.3333333333333333, 1.0, 1.0, 1.0], \"type\": \"scatter\", \"uid\": \"7e4b6b6d-c147-11e8-9557-d89ef3991fb3\"}], {\"title\": \"\\u4e0b\\u673a\\u6279\\u6b21\\u6bd4\\u5468\\u8d8b\\u52bf\\u56fe\", \"xaxis\": {\"mirror\": \"all\", \"nticks\": 20, \"showgrid\": true, \"showline\": true, \"title\": \"\\u5468\", \"zeroline\": true}, \"yaxis\": {\"mirror\": \"all\", \"nticks\": 20, \"showgrid\": true, \"showline\": true, \"title\": \"\\u4e0b\\u673a\\u6279\\u6b21\\u6bd4\", \"zeroline\": true}}, {\"showLink\": true, \"linkText\": \"Export to plot.ly\"})});</script>"
      ],
      "text/vnd.plotly.v1+html": [
       "<div id=\"78077217-d929-40f8-b7ab-b5b45547f576\" style=\"height: 525px; width: 100%;\" class=\"plotly-graph-div\"></div><script type=\"text/javascript\">require([\"plotly\"], function(Plotly) { window.PLOTLYENV=window.PLOTLYENV || {};window.PLOTLYENV.BASE_URL=\"https://plot.ly\";Plotly.newPlot(\"78077217-d929-40f8-b7ab-b5b45547f576\", [{\"name\": \"\\u8f66\\u5929\\u680b\", \"x\": [\"8-1\", \"8-2\", \"8-3\", \"8-4\", \"8-5\", \"9-1\", \"9-2\"], \"y\": [1.0, null, null, 1.0, 1.0, null, 1.0], \"type\": \"scatter\", \"uid\": \"7e4b6b68-c147-11e8-9a28-d89ef3991fb3\"}, {\"name\": \"\\u6c88\\u7acb\\u7fa4\", \"x\": [\"8-1\", \"8-2\", \"8-3\", \"8-4\", \"8-5\", \"9-1\", \"9-2\"], \"y\": [1.0, null, 1.0, 1.25, 1.3333333333333333, 1.5, 1.0], \"type\": \"scatter\", \"uid\": \"7e4b6b69-c147-11e8-a697-d89ef3991fb3\"}, {\"name\": \"\\u9ad8\\u5251\", \"x\": [\"8-1\", \"8-2\", \"8-3\", \"8-4\", \"8-5\", \"9-1\", \"9-2\"], \"y\": [1.0, null, 1.0, 1.4, 1.0, null, null], \"type\": \"scatter\", \"uid\": \"7e4b6b6a-c147-11e8-8287-d89ef3991fb3\"}, {\"name\": \"\\u738b\\u4f20\\u6587\", \"x\": [\"8-1\", \"8-2\", \"8-3\", \"8-4\", \"8-5\", \"9-1\", \"9-2\"], \"y\": [1.0, null, 1.0, 1.0, 1.0, 1.0, 1.0], \"type\": \"scatter\", \"uid\": \"7e4b6b6b-c147-11e8-8218-d89ef3991fb3\"}, {\"name\": \"\\u6c88\\u6069\\u60e0\", \"x\": [\"8-1\", \"8-2\", \"8-3\", \"8-4\", \"8-5\", \"9-1\", \"9-2\"], \"y\": [1.0, null, null, 1.0, 1.0, null, 1.0], \"type\": \"scatter\", \"uid\": \"7e4b6b6c-c147-11e8-9f9f-d89ef3991fb3\"}, {\"name\": \"\\u6797\\u6587\\u6587\", \"x\": [\"8-1\", \"8-2\", \"8-3\", \"8-4\", \"8-5\", \"9-1\", \"9-2\"], \"y\": [1.0, null, 1.0, 1.3333333333333333, 1.0, 1.0, 1.0], \"type\": \"scatter\", \"uid\": \"7e4b6b6d-c147-11e8-9557-d89ef3991fb3\"}], {\"title\": \"\\u4e0b\\u673a\\u6279\\u6b21\\u6bd4\\u5468\\u8d8b\\u52bf\\u56fe\", \"xaxis\": {\"mirror\": \"all\", \"nticks\": 20, \"showgrid\": true, \"showline\": true, \"title\": \"\\u5468\", \"zeroline\": true}, \"yaxis\": {\"mirror\": \"all\", \"nticks\": 20, \"showgrid\": true, \"showline\": true, \"title\": \"\\u4e0b\\u673a\\u6279\\u6b21\\u6bd4\", \"zeroline\": true}}, {\"showLink\": true, \"linkText\": \"Export to plot.ly\"})});</script>"
      ]
     },
     "metadata": {},
     "output_type": "display_data"
    },
    {
     "data": {
      "application/vnd.plotly.v1+json": {
       "data": [
        {
         "name": "车天栋",
         "type": "scatter",
         "uid": "7e5c9c82-c147-11e8-9251-d89ef3991fb3",
         "x": [
          "8",
          "9"
         ],
         "y": [
          1,
          1
         ]
        },
        {
         "name": "沈立群",
         "type": "scatter",
         "uid": "7e5c9c83-c147-11e8-a736-d89ef3991fb3",
         "x": [
          "8",
          "9"
         ],
         "y": [
          1.25,
          1.25
         ]
        },
        {
         "name": "高剑",
         "type": "scatter",
         "uid": "7e5c9c84-c147-11e8-8430-d89ef3991fb3",
         "x": [
          "8",
          "9"
         ],
         "y": [
          1.25,
          null
         ]
        },
        {
         "name": "王传文",
         "type": "scatter",
         "uid": "7e5c9c85-c147-11e8-941c-d89ef3991fb3",
         "x": [
          "8",
          "9"
         ],
         "y": [
          1,
          1
         ]
        },
        {
         "name": "沈恩惠",
         "type": "scatter",
         "uid": "7e5c9c86-c147-11e8-a722-d89ef3991fb3",
         "x": [
          "8",
          "9"
         ],
         "y": [
          1,
          1
         ]
        },
        {
         "name": "林文文",
         "type": "scatter",
         "uid": "7e5c9c87-c147-11e8-914c-d89ef3991fb3",
         "x": [
          "8",
          "9"
         ],
         "y": [
          1.1,
          1
         ]
        }
       ],
       "layout": {
        "title": "下机批次比月趋势图",
        "xaxis": {
         "mirror": "all",
         "nticks": 20,
         "showgrid": true,
         "showline": true,
         "title": "月",
         "zeroline": true
        },
        "yaxis": {
         "mirror": "all",
         "nticks": 20,
         "showgrid": true,
         "showline": true,
         "title": "下机批次比",
         "zeroline": true
        }
       }
      },
      "text/html": [
       "<div id=\"39c65b1f-7016-4059-b854-1446ac72b6a5\" style=\"height: 525px; width: 100%;\" class=\"plotly-graph-div\"></div><script type=\"text/javascript\">require([\"plotly\"], function(Plotly) { window.PLOTLYENV=window.PLOTLYENV || {};window.PLOTLYENV.BASE_URL=\"https://plot.ly\";Plotly.newPlot(\"39c65b1f-7016-4059-b854-1446ac72b6a5\", [{\"name\": \"\\u8f66\\u5929\\u680b\", \"x\": [\"8\", \"9\"], \"y\": [1.0, 1.0], \"type\": \"scatter\", \"uid\": \"7e5c9c82-c147-11e8-9251-d89ef3991fb3\"}, {\"name\": \"\\u6c88\\u7acb\\u7fa4\", \"x\": [\"8\", \"9\"], \"y\": [1.25, 1.25], \"type\": \"scatter\", \"uid\": \"7e5c9c83-c147-11e8-a736-d89ef3991fb3\"}, {\"name\": \"\\u9ad8\\u5251\", \"x\": [\"8\", \"9\"], \"y\": [1.25, null], \"type\": \"scatter\", \"uid\": \"7e5c9c84-c147-11e8-8430-d89ef3991fb3\"}, {\"name\": \"\\u738b\\u4f20\\u6587\", \"x\": [\"8\", \"9\"], \"y\": [1.0, 1.0], \"type\": \"scatter\", \"uid\": \"7e5c9c85-c147-11e8-941c-d89ef3991fb3\"}, {\"name\": \"\\u6c88\\u6069\\u60e0\", \"x\": [\"8\", \"9\"], \"y\": [1.0, 1.0], \"type\": \"scatter\", \"uid\": \"7e5c9c86-c147-11e8-a722-d89ef3991fb3\"}, {\"name\": \"\\u6797\\u6587\\u6587\", \"x\": [\"8\", \"9\"], \"y\": [1.1, 1.0], \"type\": \"scatter\", \"uid\": \"7e5c9c87-c147-11e8-914c-d89ef3991fb3\"}], {\"title\": \"\\u4e0b\\u673a\\u6279\\u6b21\\u6bd4\\u6708\\u8d8b\\u52bf\\u56fe\", \"xaxis\": {\"mirror\": \"all\", \"nticks\": 20, \"showgrid\": true, \"showline\": true, \"title\": \"\\u6708\", \"zeroline\": true}, \"yaxis\": {\"mirror\": \"all\", \"nticks\": 20, \"showgrid\": true, \"showline\": true, \"title\": \"\\u4e0b\\u673a\\u6279\\u6b21\\u6bd4\", \"zeroline\": true}}, {\"showLink\": true, \"linkText\": \"Export to plot.ly\"})});</script>"
      ],
      "text/vnd.plotly.v1+html": [
       "<div id=\"39c65b1f-7016-4059-b854-1446ac72b6a5\" style=\"height: 525px; width: 100%;\" class=\"plotly-graph-div\"></div><script type=\"text/javascript\">require([\"plotly\"], function(Plotly) { window.PLOTLYENV=window.PLOTLYENV || {};window.PLOTLYENV.BASE_URL=\"https://plot.ly\";Plotly.newPlot(\"39c65b1f-7016-4059-b854-1446ac72b6a5\", [{\"name\": \"\\u8f66\\u5929\\u680b\", \"x\": [\"8\", \"9\"], \"y\": [1.0, 1.0], \"type\": \"scatter\", \"uid\": \"7e5c9c82-c147-11e8-9251-d89ef3991fb3\"}, {\"name\": \"\\u6c88\\u7acb\\u7fa4\", \"x\": [\"8\", \"9\"], \"y\": [1.25, 1.25], \"type\": \"scatter\", \"uid\": \"7e5c9c83-c147-11e8-a736-d89ef3991fb3\"}, {\"name\": \"\\u9ad8\\u5251\", \"x\": [\"8\", \"9\"], \"y\": [1.25, null], \"type\": \"scatter\", \"uid\": \"7e5c9c84-c147-11e8-8430-d89ef3991fb3\"}, {\"name\": \"\\u738b\\u4f20\\u6587\", \"x\": [\"8\", \"9\"], \"y\": [1.0, 1.0], \"type\": \"scatter\", \"uid\": \"7e5c9c85-c147-11e8-941c-d89ef3991fb3\"}, {\"name\": \"\\u6c88\\u6069\\u60e0\", \"x\": [\"8\", \"9\"], \"y\": [1.0, 1.0], \"type\": \"scatter\", \"uid\": \"7e5c9c86-c147-11e8-a722-d89ef3991fb3\"}, {\"name\": \"\\u6797\\u6587\\u6587\", \"x\": [\"8\", \"9\"], \"y\": [1.1, 1.0], \"type\": \"scatter\", \"uid\": \"7e5c9c87-c147-11e8-914c-d89ef3991fb3\"}], {\"title\": \"\\u4e0b\\u673a\\u6279\\u6b21\\u6bd4\\u6708\\u8d8b\\u52bf\\u56fe\", \"xaxis\": {\"mirror\": \"all\", \"nticks\": 20, \"showgrid\": true, \"showline\": true, \"title\": \"\\u6708\", \"zeroline\": true}, \"yaxis\": {\"mirror\": \"all\", \"nticks\": 20, \"showgrid\": true, \"showline\": true, \"title\": \"\\u4e0b\\u673a\\u6279\\u6b21\\u6bd4\", \"zeroline\": true}}, {\"showLink\": true, \"linkText\": \"Export to plot.ly\"})});</script>"
      ]
     },
     "metadata": {},
     "output_type": "display_data"
    }
   ],
   "source": [
    "data_dict = {'下机批次比':['下机批次数','下机项目数']}\n",
    "myModule.plot( all_dict, data_dict, '人员' ,  'line' )"
   ]
  },
  {
   "cell_type": "markdown",
   "metadata": {},
   "source": [
    "#### 个性化过滤"
   ]
  },
  {
   "cell_type": "code",
   "execution_count": 62,
   "metadata": {},
   "outputs": [
    {
     "data": {
      "application/vnd.plotly.v1+json": {
       "data": [
        {
         "name": "车天栋",
         "type": "scatter",
         "uid": "7e903470-c147-11e8-8574-d89ef3991fb3",
         "x": [
          "8-1",
          "8-2",
          "8-3",
          "8-4",
          "8-5",
          "9-1",
          "9-2"
         ],
         "y": [
          1,
          0,
          0,
          0,
          0,
          1,
          0
         ]
        },
        {
         "name": "沈立群",
         "type": "scatter",
         "uid": "7e903471-c147-11e8-8cf2-d89ef3991fb3",
         "x": [
          "8-1",
          "8-2",
          "8-3",
          "8-4",
          "8-5",
          "9-1",
          "9-2"
         ],
         "y": [
          1,
          0,
          0,
          0,
          0,
          0,
          0
         ]
        },
        {
         "name": "高剑",
         "type": "scatter",
         "uid": "7e903472-c147-11e8-a3a9-d89ef3991fb3",
         "x": [
          "8-1",
          "8-2",
          "8-3",
          "8-4",
          "8-5",
          "9-1",
          "9-2"
         ],
         "y": [
          1,
          0,
          0,
          0,
          0,
          0,
          0
         ]
        },
        {
         "name": "王传文",
         "type": "scatter",
         "uid": "7e903473-c147-11e8-b6b9-d89ef3991fb3",
         "x": [
          "8-1",
          "8-2",
          "8-3",
          "8-4",
          "8-5",
          "9-1",
          "9-2"
         ],
         "y": [
          1,
          0,
          0,
          0,
          0,
          0,
          0
         ]
        },
        {
         "name": "沈恩惠",
         "type": "scatter",
         "uid": "7e903474-c147-11e8-9f71-d89ef3991fb3",
         "x": [
          "8-1",
          "8-2",
          "8-3",
          "8-4",
          "8-5",
          "9-1",
          "9-2"
         ],
         "y": [
          1,
          0,
          0,
          0,
          0,
          1,
          0
         ]
        },
        {
         "name": "林文文",
         "type": "scatter",
         "uid": "7e903475-c147-11e8-9510-d89ef3991fb3",
         "x": [
          "8-1",
          "8-2",
          "8-3",
          "8-4",
          "8-5",
          "9-1",
          "9-2"
         ],
         "y": [
          1,
          0,
          0,
          0,
          1,
          0,
          0
         ]
        }
       ],
       "layout": {
        "title": "个性化数周趋势图",
        "xaxis": {
         "mirror": "all",
         "nticks": 20,
         "showgrid": true,
         "showline": true,
         "title": "周",
         "zeroline": true
        },
        "yaxis": {
         "mirror": "all",
         "nticks": 20,
         "showgrid": true,
         "showline": true,
         "title": "个性化数",
         "zeroline": true
        }
       }
      },
      "text/html": [
       "<div id=\"a1ef05b5-2905-49de-bac6-9715203e228d\" style=\"height: 525px; width: 100%;\" class=\"plotly-graph-div\"></div><script type=\"text/javascript\">require([\"plotly\"], function(Plotly) { window.PLOTLYENV=window.PLOTLYENV || {};window.PLOTLYENV.BASE_URL=\"https://plot.ly\";Plotly.newPlot(\"a1ef05b5-2905-49de-bac6-9715203e228d\", [{\"name\": \"\\u8f66\\u5929\\u680b\", \"x\": [\"8-1\", \"8-2\", \"8-3\", \"8-4\", \"8-5\", \"9-1\", \"9-2\"], \"y\": [1.0, 0.0, 0.0, 0.0, 0.0, 1.0, 0.0], \"type\": \"scatter\", \"uid\": \"7e903470-c147-11e8-8574-d89ef3991fb3\"}, {\"name\": \"\\u6c88\\u7acb\\u7fa4\", \"x\": [\"8-1\", \"8-2\", \"8-3\", \"8-4\", \"8-5\", \"9-1\", \"9-2\"], \"y\": [1.0, 0.0, 0.0, 0.0, 0.0, 0.0, 0.0], \"type\": \"scatter\", \"uid\": \"7e903471-c147-11e8-8cf2-d89ef3991fb3\"}, {\"name\": \"\\u9ad8\\u5251\", \"x\": [\"8-1\", \"8-2\", \"8-3\", \"8-4\", \"8-5\", \"9-1\", \"9-2\"], \"y\": [1.0, 0.0, 0.0, 0.0, 0.0, 0.0, 0.0], \"type\": \"scatter\", \"uid\": \"7e903472-c147-11e8-a3a9-d89ef3991fb3\"}, {\"name\": \"\\u738b\\u4f20\\u6587\", \"x\": [\"8-1\", \"8-2\", \"8-3\", \"8-4\", \"8-5\", \"9-1\", \"9-2\"], \"y\": [1.0, 0.0, 0.0, 0.0, 0.0, 0.0, 0.0], \"type\": \"scatter\", \"uid\": \"7e903473-c147-11e8-b6b9-d89ef3991fb3\"}, {\"name\": \"\\u6c88\\u6069\\u60e0\", \"x\": [\"8-1\", \"8-2\", \"8-3\", \"8-4\", \"8-5\", \"9-1\", \"9-2\"], \"y\": [1.0, 0.0, 0.0, 0.0, 0.0, 1.0, 0.0], \"type\": \"scatter\", \"uid\": \"7e903474-c147-11e8-9f71-d89ef3991fb3\"}, {\"name\": \"\\u6797\\u6587\\u6587\", \"x\": [\"8-1\", \"8-2\", \"8-3\", \"8-4\", \"8-5\", \"9-1\", \"9-2\"], \"y\": [1.0, 0.0, 0.0, 0.0, 1.0, 0.0, 0.0], \"type\": \"scatter\", \"uid\": \"7e903475-c147-11e8-9510-d89ef3991fb3\"}], {\"title\": \"\\u4e2a\\u6027\\u5316\\u6570\\u5468\\u8d8b\\u52bf\\u56fe\", \"xaxis\": {\"mirror\": \"all\", \"nticks\": 20, \"showgrid\": true, \"showline\": true, \"title\": \"\\u5468\", \"zeroline\": true}, \"yaxis\": {\"mirror\": \"all\", \"nticks\": 20, \"showgrid\": true, \"showline\": true, \"title\": \"\\u4e2a\\u6027\\u5316\\u6570\", \"zeroline\": true}}, {\"showLink\": true, \"linkText\": \"Export to plot.ly\"})});</script>"
      ],
      "text/vnd.plotly.v1+html": [
       "<div id=\"a1ef05b5-2905-49de-bac6-9715203e228d\" style=\"height: 525px; width: 100%;\" class=\"plotly-graph-div\"></div><script type=\"text/javascript\">require([\"plotly\"], function(Plotly) { window.PLOTLYENV=window.PLOTLYENV || {};window.PLOTLYENV.BASE_URL=\"https://plot.ly\";Plotly.newPlot(\"a1ef05b5-2905-49de-bac6-9715203e228d\", [{\"name\": \"\\u8f66\\u5929\\u680b\", \"x\": [\"8-1\", \"8-2\", \"8-3\", \"8-4\", \"8-5\", \"9-1\", \"9-2\"], \"y\": [1.0, 0.0, 0.0, 0.0, 0.0, 1.0, 0.0], \"type\": \"scatter\", \"uid\": \"7e903470-c147-11e8-8574-d89ef3991fb3\"}, {\"name\": \"\\u6c88\\u7acb\\u7fa4\", \"x\": [\"8-1\", \"8-2\", \"8-3\", \"8-4\", \"8-5\", \"9-1\", \"9-2\"], \"y\": [1.0, 0.0, 0.0, 0.0, 0.0, 0.0, 0.0], \"type\": \"scatter\", \"uid\": \"7e903471-c147-11e8-8cf2-d89ef3991fb3\"}, {\"name\": \"\\u9ad8\\u5251\", \"x\": [\"8-1\", \"8-2\", \"8-3\", \"8-4\", \"8-5\", \"9-1\", \"9-2\"], \"y\": [1.0, 0.0, 0.0, 0.0, 0.0, 0.0, 0.0], \"type\": \"scatter\", \"uid\": \"7e903472-c147-11e8-a3a9-d89ef3991fb3\"}, {\"name\": \"\\u738b\\u4f20\\u6587\", \"x\": [\"8-1\", \"8-2\", \"8-3\", \"8-4\", \"8-5\", \"9-1\", \"9-2\"], \"y\": [1.0, 0.0, 0.0, 0.0, 0.0, 0.0, 0.0], \"type\": \"scatter\", \"uid\": \"7e903473-c147-11e8-b6b9-d89ef3991fb3\"}, {\"name\": \"\\u6c88\\u6069\\u60e0\", \"x\": [\"8-1\", \"8-2\", \"8-3\", \"8-4\", \"8-5\", \"9-1\", \"9-2\"], \"y\": [1.0, 0.0, 0.0, 0.0, 0.0, 1.0, 0.0], \"type\": \"scatter\", \"uid\": \"7e903474-c147-11e8-9f71-d89ef3991fb3\"}, {\"name\": \"\\u6797\\u6587\\u6587\", \"x\": [\"8-1\", \"8-2\", \"8-3\", \"8-4\", \"8-5\", \"9-1\", \"9-2\"], \"y\": [1.0, 0.0, 0.0, 0.0, 1.0, 0.0, 0.0], \"type\": \"scatter\", \"uid\": \"7e903475-c147-11e8-9510-d89ef3991fb3\"}], {\"title\": \"\\u4e2a\\u6027\\u5316\\u6570\\u5468\\u8d8b\\u52bf\\u56fe\", \"xaxis\": {\"mirror\": \"all\", \"nticks\": 20, \"showgrid\": true, \"showline\": true, \"title\": \"\\u5468\", \"zeroline\": true}, \"yaxis\": {\"mirror\": \"all\", \"nticks\": 20, \"showgrid\": true, \"showline\": true, \"title\": \"\\u4e2a\\u6027\\u5316\\u6570\", \"zeroline\": true}}, {\"showLink\": true, \"linkText\": \"Export to plot.ly\"})});</script>"
      ]
     },
     "metadata": {},
     "output_type": "display_data"
    },
    {
     "data": {
      "application/vnd.plotly.v1+json": {
       "data": [
        {
         "name": "车天栋",
         "type": "scatter",
         "uid": "7ea07be6-c147-11e8-add8-d89ef3991fb3",
         "x": [
          "8",
          "9"
         ],
         "y": [
          1,
          1
         ]
        },
        {
         "name": "沈立群",
         "type": "scatter",
         "uid": "7ea07be7-c147-11e8-ac90-d89ef3991fb3",
         "x": [
          "8",
          "9"
         ],
         "y": [
          1,
          0
         ]
        },
        {
         "name": "高剑",
         "type": "scatter",
         "uid": "7ea07be8-c147-11e8-9d77-d89ef3991fb3",
         "x": [
          "8",
          "9"
         ],
         "y": [
          1,
          0
         ]
        },
        {
         "name": "王传文",
         "type": "scatter",
         "uid": "7ea07be9-c147-11e8-b866-d89ef3991fb3",
         "x": [
          "8",
          "9"
         ],
         "y": [
          1,
          0
         ]
        },
        {
         "name": "沈恩惠",
         "type": "scatter",
         "uid": "7ea07bea-c147-11e8-a866-d89ef3991fb3",
         "x": [
          "8",
          "9"
         ],
         "y": [
          1,
          1
         ]
        },
        {
         "name": "林文文",
         "type": "scatter",
         "uid": "7ea07beb-c147-11e8-9dd7-d89ef3991fb3",
         "x": [
          "8",
          "9"
         ],
         "y": [
          2,
          0
         ]
        }
       ],
       "layout": {
        "title": "个性化数月趋势图",
        "xaxis": {
         "mirror": "all",
         "nticks": 20,
         "showgrid": true,
         "showline": true,
         "title": "月",
         "zeroline": true
        },
        "yaxis": {
         "mirror": "all",
         "nticks": 20,
         "showgrid": true,
         "showline": true,
         "title": "个性化数",
         "zeroline": true
        }
       }
      },
      "text/html": [
       "<div id=\"aada9e4a-d563-480b-b67e-f3f60337082d\" style=\"height: 525px; width: 100%;\" class=\"plotly-graph-div\"></div><script type=\"text/javascript\">require([\"plotly\"], function(Plotly) { window.PLOTLYENV=window.PLOTLYENV || {};window.PLOTLYENV.BASE_URL=\"https://plot.ly\";Plotly.newPlot(\"aada9e4a-d563-480b-b67e-f3f60337082d\", [{\"name\": \"\\u8f66\\u5929\\u680b\", \"x\": [\"8\", \"9\"], \"y\": [1.0, 1.0], \"type\": \"scatter\", \"uid\": \"7ea07be6-c147-11e8-add8-d89ef3991fb3\"}, {\"name\": \"\\u6c88\\u7acb\\u7fa4\", \"x\": [\"8\", \"9\"], \"y\": [1.0, 0.0], \"type\": \"scatter\", \"uid\": \"7ea07be7-c147-11e8-ac90-d89ef3991fb3\"}, {\"name\": \"\\u9ad8\\u5251\", \"x\": [\"8\", \"9\"], \"y\": [1.0, 0.0], \"type\": \"scatter\", \"uid\": \"7ea07be8-c147-11e8-9d77-d89ef3991fb3\"}, {\"name\": \"\\u738b\\u4f20\\u6587\", \"x\": [\"8\", \"9\"], \"y\": [1.0, 0.0], \"type\": \"scatter\", \"uid\": \"7ea07be9-c147-11e8-b866-d89ef3991fb3\"}, {\"name\": \"\\u6c88\\u6069\\u60e0\", \"x\": [\"8\", \"9\"], \"y\": [1.0, 1.0], \"type\": \"scatter\", \"uid\": \"7ea07bea-c147-11e8-a866-d89ef3991fb3\"}, {\"name\": \"\\u6797\\u6587\\u6587\", \"x\": [\"8\", \"9\"], \"y\": [2.0, 0.0], \"type\": \"scatter\", \"uid\": \"7ea07beb-c147-11e8-9dd7-d89ef3991fb3\"}], {\"title\": \"\\u4e2a\\u6027\\u5316\\u6570\\u6708\\u8d8b\\u52bf\\u56fe\", \"xaxis\": {\"mirror\": \"all\", \"nticks\": 20, \"showgrid\": true, \"showline\": true, \"title\": \"\\u6708\", \"zeroline\": true}, \"yaxis\": {\"mirror\": \"all\", \"nticks\": 20, \"showgrid\": true, \"showline\": true, \"title\": \"\\u4e2a\\u6027\\u5316\\u6570\", \"zeroline\": true}}, {\"showLink\": true, \"linkText\": \"Export to plot.ly\"})});</script>"
      ],
      "text/vnd.plotly.v1+html": [
       "<div id=\"aada9e4a-d563-480b-b67e-f3f60337082d\" style=\"height: 525px; width: 100%;\" class=\"plotly-graph-div\"></div><script type=\"text/javascript\">require([\"plotly\"], function(Plotly) { window.PLOTLYENV=window.PLOTLYENV || {};window.PLOTLYENV.BASE_URL=\"https://plot.ly\";Plotly.newPlot(\"aada9e4a-d563-480b-b67e-f3f60337082d\", [{\"name\": \"\\u8f66\\u5929\\u680b\", \"x\": [\"8\", \"9\"], \"y\": [1.0, 1.0], \"type\": \"scatter\", \"uid\": \"7ea07be6-c147-11e8-add8-d89ef3991fb3\"}, {\"name\": \"\\u6c88\\u7acb\\u7fa4\", \"x\": [\"8\", \"9\"], \"y\": [1.0, 0.0], \"type\": \"scatter\", \"uid\": \"7ea07be7-c147-11e8-ac90-d89ef3991fb3\"}, {\"name\": \"\\u9ad8\\u5251\", \"x\": [\"8\", \"9\"], \"y\": [1.0, 0.0], \"type\": \"scatter\", \"uid\": \"7ea07be8-c147-11e8-9d77-d89ef3991fb3\"}, {\"name\": \"\\u738b\\u4f20\\u6587\", \"x\": [\"8\", \"9\"], \"y\": [1.0, 0.0], \"type\": \"scatter\", \"uid\": \"7ea07be9-c147-11e8-b866-d89ef3991fb3\"}, {\"name\": \"\\u6c88\\u6069\\u60e0\", \"x\": [\"8\", \"9\"], \"y\": [1.0, 1.0], \"type\": \"scatter\", \"uid\": \"7ea07bea-c147-11e8-a866-d89ef3991fb3\"}, {\"name\": \"\\u6797\\u6587\\u6587\", \"x\": [\"8\", \"9\"], \"y\": [2.0, 0.0], \"type\": \"scatter\", \"uid\": \"7ea07beb-c147-11e8-9dd7-d89ef3991fb3\"}], {\"title\": \"\\u4e2a\\u6027\\u5316\\u6570\\u6708\\u8d8b\\u52bf\\u56fe\", \"xaxis\": {\"mirror\": \"all\", \"nticks\": 20, \"showgrid\": true, \"showline\": true, \"title\": \"\\u6708\", \"zeroline\": true}, \"yaxis\": {\"mirror\": \"all\", \"nticks\": 20, \"showgrid\": true, \"showline\": true, \"title\": \"\\u4e2a\\u6027\\u5316\\u6570\", \"zeroline\": true}}, {\"showLink\": true, \"linkText\": \"Export to plot.ly\"})});</script>"
      ]
     },
     "metadata": {},
     "output_type": "display_data"
    }
   ],
   "source": [
    "data_dict = {'个性化数':['个性化数']}\n",
    "myModule.plot( all_dict, data_dict, '人员' ,  'line' )"
   ]
  },
  {
   "cell_type": "markdown",
   "metadata": {},
   "source": [
    "# 分析项目情况"
   ]
  },
  {
   "cell_type": "markdown",
   "metadata": {
    "collapsed": true
   },
   "source": [
    "## 整体情况"
   ]
  },
  {
   "cell_type": "markdown",
   "metadata": {},
   "source": [
    "### 完成商业项目数"
   ]
  },
  {
   "cell_type": "code",
   "execution_count": 63,
   "metadata": {
    "scrolled": false
   },
   "outputs": [],
   "source": [
    "all_files , title = myModule.get_title(pathway , 2 ) ##给路径\n",
    "all_dict = myModule.read_xlsx(all_files, 2 ) ## read all files"
   ]
  },
  {
   "cell_type": "code",
   "execution_count": 64,
   "metadata": {
    "scrolled": true
   },
   "outputs": [
    {
     "data": {
      "application/vnd.plotly.v1+json": {
       "data": [
        {
         "name": "完成商业项目数",
         "type": "bar",
         "uid": "7ed23f46-c147-11e8-a1c8-d89ef3991fb3",
         "x": [
          "8-1",
          "8-2",
          "8-3",
          "8-4",
          "8-5",
          "9-1",
          "9-2"
         ],
         "y": [
          4,
          5,
          5,
          5,
          11,
          6,
          7
         ]
        },
        {
         "name": "完成个性化数",
         "type": "bar",
         "uid": "7ed2674c-c147-11e8-ac5a-d89ef3991fb3",
         "x": [
          "8-1",
          "8-2",
          "8-3",
          "8-4",
          "8-5",
          "9-1",
          "9-2"
         ],
         "y": [
          3,
          2,
          2,
          5,
          1,
          6,
          2
         ]
        }
       ],
       "layout": {
        "title": "完成商业项目数&完成个性化数周趋势图",
        "xaxis": {
         "mirror": "all",
         "nticks": 20,
         "showgrid": true,
         "showline": true,
         "title": "周",
         "zeroline": true
        },
        "yaxis": {
         "mirror": "all",
         "nticks": 20,
         "showgrid": true,
         "showline": true,
         "title": "完成商业项目数&完成个性化数",
         "zeroline": true
        }
       }
      },
      "text/html": [
       "<div id=\"f5869fe4-7cfa-4cbb-b7db-e86d301c628d\" style=\"height: 525px; width: 100%;\" class=\"plotly-graph-div\"></div><script type=\"text/javascript\">require([\"plotly\"], function(Plotly) { window.PLOTLYENV=window.PLOTLYENV || {};window.PLOTLYENV.BASE_URL=\"https://plot.ly\";Plotly.newPlot(\"f5869fe4-7cfa-4cbb-b7db-e86d301c628d\", [{\"name\": \"\\u5b8c\\u6210\\u5546\\u4e1a\\u9879\\u76ee\\u6570\", \"x\": [\"8-1\", \"8-2\", \"8-3\", \"8-4\", \"8-5\", \"9-1\", \"9-2\"], \"y\": [4.0, 5.0, 5.0, 5.0, 11.0, 6.0, 7.0], \"type\": \"bar\", \"uid\": \"7ed23f46-c147-11e8-a1c8-d89ef3991fb3\"}, {\"name\": \"\\u5b8c\\u6210\\u4e2a\\u6027\\u5316\\u6570\", \"x\": [\"8-1\", \"8-2\", \"8-3\", \"8-4\", \"8-5\", \"9-1\", \"9-2\"], \"y\": [3.0, 2.0, 2.0, 5.0, 1.0, 6.0, 2.0], \"type\": \"bar\", \"uid\": \"7ed2674c-c147-11e8-ac5a-d89ef3991fb3\"}], {\"title\": \"\\u5b8c\\u6210\\u5546\\u4e1a\\u9879\\u76ee\\u6570&\\u5b8c\\u6210\\u4e2a\\u6027\\u5316\\u6570\\u5468\\u8d8b\\u52bf\\u56fe\", \"xaxis\": {\"mirror\": \"all\", \"nticks\": 20, \"showgrid\": true, \"showline\": true, \"title\": \"\\u5468\", \"zeroline\": true}, \"yaxis\": {\"mirror\": \"all\", \"nticks\": 20, \"showgrid\": true, \"showline\": true, \"title\": \"\\u5b8c\\u6210\\u5546\\u4e1a\\u9879\\u76ee\\u6570&\\u5b8c\\u6210\\u4e2a\\u6027\\u5316\\u6570\", \"zeroline\": true}}, {\"showLink\": true, \"linkText\": \"Export to plot.ly\"})});</script>"
      ],
      "text/vnd.plotly.v1+html": [
       "<div id=\"f5869fe4-7cfa-4cbb-b7db-e86d301c628d\" style=\"height: 525px; width: 100%;\" class=\"plotly-graph-div\"></div><script type=\"text/javascript\">require([\"plotly\"], function(Plotly) { window.PLOTLYENV=window.PLOTLYENV || {};window.PLOTLYENV.BASE_URL=\"https://plot.ly\";Plotly.newPlot(\"f5869fe4-7cfa-4cbb-b7db-e86d301c628d\", [{\"name\": \"\\u5b8c\\u6210\\u5546\\u4e1a\\u9879\\u76ee\\u6570\", \"x\": [\"8-1\", \"8-2\", \"8-3\", \"8-4\", \"8-5\", \"9-1\", \"9-2\"], \"y\": [4.0, 5.0, 5.0, 5.0, 11.0, 6.0, 7.0], \"type\": \"bar\", \"uid\": \"7ed23f46-c147-11e8-a1c8-d89ef3991fb3\"}, {\"name\": \"\\u5b8c\\u6210\\u4e2a\\u6027\\u5316\\u6570\", \"x\": [\"8-1\", \"8-2\", \"8-3\", \"8-4\", \"8-5\", \"9-1\", \"9-2\"], \"y\": [3.0, 2.0, 2.0, 5.0, 1.0, 6.0, 2.0], \"type\": \"bar\", \"uid\": \"7ed2674c-c147-11e8-ac5a-d89ef3991fb3\"}], {\"title\": \"\\u5b8c\\u6210\\u5546\\u4e1a\\u9879\\u76ee\\u6570&\\u5b8c\\u6210\\u4e2a\\u6027\\u5316\\u6570\\u5468\\u8d8b\\u52bf\\u56fe\", \"xaxis\": {\"mirror\": \"all\", \"nticks\": 20, \"showgrid\": true, \"showline\": true, \"title\": \"\\u5468\", \"zeroline\": true}, \"yaxis\": {\"mirror\": \"all\", \"nticks\": 20, \"showgrid\": true, \"showline\": true, \"title\": \"\\u5b8c\\u6210\\u5546\\u4e1a\\u9879\\u76ee\\u6570&\\u5b8c\\u6210\\u4e2a\\u6027\\u5316\\u6570\", \"zeroline\": true}}, {\"showLink\": true, \"linkText\": \"Export to plot.ly\"})});</script>"
      ]
     },
     "metadata": {},
     "output_type": "display_data"
    },
    {
     "data": {
      "application/vnd.plotly.v1+json": {
       "data": [
        {
         "name": "完成商业项目数",
         "type": "bar",
         "uid": "7eda5134-c147-11e8-a251-d89ef3991fb3",
         "x": [
          "8",
          "9"
         ],
         "y": [
          30,
          13
         ]
        },
        {
         "name": "完成个性化数",
         "type": "bar",
         "uid": "7eda5135-c147-11e8-bb79-d89ef3991fb3",
         "x": [
          "8",
          "9"
         ],
         "y": [
          13,
          8
         ]
        }
       ],
       "layout": {
        "title": "完成商业项目数&完成个性化数月趋势图",
        "xaxis": {
         "mirror": "all",
         "nticks": 20,
         "showgrid": true,
         "showline": true,
         "title": "月",
         "zeroline": true
        },
        "yaxis": {
         "mirror": "all",
         "nticks": 20,
         "showgrid": true,
         "showline": true,
         "title": "完成商业项目数&完成个性化数",
         "zeroline": true
        }
       }
      },
      "text/html": [
       "<div id=\"d7335dc8-5367-44e7-ad40-0540a0f9a2b6\" style=\"height: 525px; width: 100%;\" class=\"plotly-graph-div\"></div><script type=\"text/javascript\">require([\"plotly\"], function(Plotly) { window.PLOTLYENV=window.PLOTLYENV || {};window.PLOTLYENV.BASE_URL=\"https://plot.ly\";Plotly.newPlot(\"d7335dc8-5367-44e7-ad40-0540a0f9a2b6\", [{\"name\": \"\\u5b8c\\u6210\\u5546\\u4e1a\\u9879\\u76ee\\u6570\", \"x\": [\"8\", \"9\"], \"y\": [30.0, 13.0], \"type\": \"bar\", \"uid\": \"7eda5134-c147-11e8-a251-d89ef3991fb3\"}, {\"name\": \"\\u5b8c\\u6210\\u4e2a\\u6027\\u5316\\u6570\", \"x\": [\"8\", \"9\"], \"y\": [13.0, 8.0], \"type\": \"bar\", \"uid\": \"7eda5135-c147-11e8-bb79-d89ef3991fb3\"}], {\"title\": \"\\u5b8c\\u6210\\u5546\\u4e1a\\u9879\\u76ee\\u6570&\\u5b8c\\u6210\\u4e2a\\u6027\\u5316\\u6570\\u6708\\u8d8b\\u52bf\\u56fe\", \"xaxis\": {\"mirror\": \"all\", \"nticks\": 20, \"showgrid\": true, \"showline\": true, \"title\": \"\\u6708\", \"zeroline\": true}, \"yaxis\": {\"mirror\": \"all\", \"nticks\": 20, \"showgrid\": true, \"showline\": true, \"title\": \"\\u5b8c\\u6210\\u5546\\u4e1a\\u9879\\u76ee\\u6570&\\u5b8c\\u6210\\u4e2a\\u6027\\u5316\\u6570\", \"zeroline\": true}}, {\"showLink\": true, \"linkText\": \"Export to plot.ly\"})});</script>"
      ],
      "text/vnd.plotly.v1+html": [
       "<div id=\"d7335dc8-5367-44e7-ad40-0540a0f9a2b6\" style=\"height: 525px; width: 100%;\" class=\"plotly-graph-div\"></div><script type=\"text/javascript\">require([\"plotly\"], function(Plotly) { window.PLOTLYENV=window.PLOTLYENV || {};window.PLOTLYENV.BASE_URL=\"https://plot.ly\";Plotly.newPlot(\"d7335dc8-5367-44e7-ad40-0540a0f9a2b6\", [{\"name\": \"\\u5b8c\\u6210\\u5546\\u4e1a\\u9879\\u76ee\\u6570\", \"x\": [\"8\", \"9\"], \"y\": [30.0, 13.0], \"type\": \"bar\", \"uid\": \"7eda5134-c147-11e8-a251-d89ef3991fb3\"}, {\"name\": \"\\u5b8c\\u6210\\u4e2a\\u6027\\u5316\\u6570\", \"x\": [\"8\", \"9\"], \"y\": [13.0, 8.0], \"type\": \"bar\", \"uid\": \"7eda5135-c147-11e8-bb79-d89ef3991fb3\"}], {\"title\": \"\\u5b8c\\u6210\\u5546\\u4e1a\\u9879\\u76ee\\u6570&\\u5b8c\\u6210\\u4e2a\\u6027\\u5316\\u6570\\u6708\\u8d8b\\u52bf\\u56fe\", \"xaxis\": {\"mirror\": \"all\", \"nticks\": 20, \"showgrid\": true, \"showline\": true, \"title\": \"\\u6708\", \"zeroline\": true}, \"yaxis\": {\"mirror\": \"all\", \"nticks\": 20, \"showgrid\": true, \"showline\": true, \"title\": \"\\u5b8c\\u6210\\u5546\\u4e1a\\u9879\\u76ee\\u6570&\\u5b8c\\u6210\\u4e2a\\u6027\\u5316\\u6570\", \"zeroline\": true}}, {\"showLink\": true, \"linkText\": \"Export to plot.ly\"})});</script>"
      ]
     },
     "metadata": {},
     "output_type": "display_data"
    }
   ],
   "source": [
    "data_dict = {'完成商业项目数':['完成商业项目数'], '完成个性化数':['完成个性化数']}\n",
    "myModule.plot( all_dict, data_dict, '组别' ,  'bar' , all='all')"
   ]
  },
  {
   "cell_type": "markdown",
   "metadata": {},
   "source": [
    "### 延期项目数"
   ]
  },
  {
   "cell_type": "code",
   "execution_count": 65,
   "metadata": {
    "scrolled": true
   },
   "outputs": [
    {
     "data": {
      "application/vnd.plotly.v1+json": {
       "data": [
        {
         "name": "延期商业项目数",
         "type": "bar",
         "uid": "7f049fba-c147-11e8-9176-d89ef3991fb3",
         "x": [
          "8-1",
          "8-2",
          "8-3",
          "8-4",
          "8-5",
          "9-1",
          "9-2"
         ],
         "y": [
          0,
          0,
          0,
          0,
          0,
          0,
          2
         ]
        },
        {
         "name": "延期个性化项目数",
         "type": "bar",
         "uid": "7f049fbb-c147-11e8-9338-d89ef3991fb3",
         "x": [
          "8-1",
          "8-2",
          "8-3",
          "8-4",
          "8-5",
          "9-1",
          "9-2"
         ],
         "y": [
          0,
          0,
          0,
          0,
          0,
          0,
          0
         ]
        }
       ],
       "layout": {
        "title": "延期商业项目数&延期个性化项目数周趋势图",
        "xaxis": {
         "mirror": "all",
         "nticks": 20,
         "showgrid": true,
         "showline": true,
         "title": "周",
         "zeroline": true
        },
        "yaxis": {
         "mirror": "all",
         "nticks": 20,
         "showgrid": true,
         "showline": true,
         "title": "延期商业项目数&延期个性化项目数",
         "zeroline": true
        }
       }
      },
      "text/html": [
       "<div id=\"45c7d0e3-afc8-461a-b50c-9c9c0597a7d5\" style=\"height: 525px; width: 100%;\" class=\"plotly-graph-div\"></div><script type=\"text/javascript\">require([\"plotly\"], function(Plotly) { window.PLOTLYENV=window.PLOTLYENV || {};window.PLOTLYENV.BASE_URL=\"https://plot.ly\";Plotly.newPlot(\"45c7d0e3-afc8-461a-b50c-9c9c0597a7d5\", [{\"name\": \"\\u5ef6\\u671f\\u5546\\u4e1a\\u9879\\u76ee\\u6570\", \"x\": [\"8-1\", \"8-2\", \"8-3\", \"8-4\", \"8-5\", \"9-1\", \"9-2\"], \"y\": [0.0, 0.0, 0.0, 0.0, 0.0, 0.0, 2.0], \"type\": \"bar\", \"uid\": \"7f049fba-c147-11e8-9176-d89ef3991fb3\"}, {\"name\": \"\\u5ef6\\u671f\\u4e2a\\u6027\\u5316\\u9879\\u76ee\\u6570\", \"x\": [\"8-1\", \"8-2\", \"8-3\", \"8-4\", \"8-5\", \"9-1\", \"9-2\"], \"y\": [0.0, 0.0, 0.0, 0.0, 0.0, 0.0, 0.0], \"type\": \"bar\", \"uid\": \"7f049fbb-c147-11e8-9338-d89ef3991fb3\"}], {\"title\": \"\\u5ef6\\u671f\\u5546\\u4e1a\\u9879\\u76ee\\u6570&\\u5ef6\\u671f\\u4e2a\\u6027\\u5316\\u9879\\u76ee\\u6570\\u5468\\u8d8b\\u52bf\\u56fe\", \"xaxis\": {\"mirror\": \"all\", \"nticks\": 20, \"showgrid\": true, \"showline\": true, \"title\": \"\\u5468\", \"zeroline\": true}, \"yaxis\": {\"mirror\": \"all\", \"nticks\": 20, \"showgrid\": true, \"showline\": true, \"title\": \"\\u5ef6\\u671f\\u5546\\u4e1a\\u9879\\u76ee\\u6570&\\u5ef6\\u671f\\u4e2a\\u6027\\u5316\\u9879\\u76ee\\u6570\", \"zeroline\": true}}, {\"showLink\": true, \"linkText\": \"Export to plot.ly\"})});</script>"
      ],
      "text/vnd.plotly.v1+html": [
       "<div id=\"45c7d0e3-afc8-461a-b50c-9c9c0597a7d5\" style=\"height: 525px; width: 100%;\" class=\"plotly-graph-div\"></div><script type=\"text/javascript\">require([\"plotly\"], function(Plotly) { window.PLOTLYENV=window.PLOTLYENV || {};window.PLOTLYENV.BASE_URL=\"https://plot.ly\";Plotly.newPlot(\"45c7d0e3-afc8-461a-b50c-9c9c0597a7d5\", [{\"name\": \"\\u5ef6\\u671f\\u5546\\u4e1a\\u9879\\u76ee\\u6570\", \"x\": [\"8-1\", \"8-2\", \"8-3\", \"8-4\", \"8-5\", \"9-1\", \"9-2\"], \"y\": [0.0, 0.0, 0.0, 0.0, 0.0, 0.0, 2.0], \"type\": \"bar\", \"uid\": \"7f049fba-c147-11e8-9176-d89ef3991fb3\"}, {\"name\": \"\\u5ef6\\u671f\\u4e2a\\u6027\\u5316\\u9879\\u76ee\\u6570\", \"x\": [\"8-1\", \"8-2\", \"8-3\", \"8-4\", \"8-5\", \"9-1\", \"9-2\"], \"y\": [0.0, 0.0, 0.0, 0.0, 0.0, 0.0, 0.0], \"type\": \"bar\", \"uid\": \"7f049fbb-c147-11e8-9338-d89ef3991fb3\"}], {\"title\": \"\\u5ef6\\u671f\\u5546\\u4e1a\\u9879\\u76ee\\u6570&\\u5ef6\\u671f\\u4e2a\\u6027\\u5316\\u9879\\u76ee\\u6570\\u5468\\u8d8b\\u52bf\\u56fe\", \"xaxis\": {\"mirror\": \"all\", \"nticks\": 20, \"showgrid\": true, \"showline\": true, \"title\": \"\\u5468\", \"zeroline\": true}, \"yaxis\": {\"mirror\": \"all\", \"nticks\": 20, \"showgrid\": true, \"showline\": true, \"title\": \"\\u5ef6\\u671f\\u5546\\u4e1a\\u9879\\u76ee\\u6570&\\u5ef6\\u671f\\u4e2a\\u6027\\u5316\\u9879\\u76ee\\u6570\", \"zeroline\": true}}, {\"showLink\": true, \"linkText\": \"Export to plot.ly\"})});</script>"
      ]
     },
     "metadata": {},
     "output_type": "display_data"
    },
    {
     "data": {
      "application/vnd.plotly.v1+json": {
       "data": [
        {
         "name": "延期商业项目数",
         "type": "bar",
         "uid": "7f0de6ee-c147-11e8-ad67-d89ef3991fb3",
         "x": [
          "8",
          "9"
         ],
         "y": [
          0,
          2
         ]
        },
        {
         "name": "延期个性化项目数",
         "type": "bar",
         "uid": "7f0de6ef-c147-11e8-addc-d89ef3991fb3",
         "x": [
          "8",
          "9"
         ],
         "y": [
          0,
          0
         ]
        }
       ],
       "layout": {
        "title": "延期商业项目数&延期个性化项目数月趋势图",
        "xaxis": {
         "mirror": "all",
         "nticks": 20,
         "showgrid": true,
         "showline": true,
         "title": "月",
         "zeroline": true
        },
        "yaxis": {
         "mirror": "all",
         "nticks": 20,
         "showgrid": true,
         "showline": true,
         "title": "延期商业项目数&延期个性化项目数",
         "zeroline": true
        }
       }
      },
      "text/html": [
       "<div id=\"6d15ce34-3ce1-465f-b709-3ff5404757c6\" style=\"height: 525px; width: 100%;\" class=\"plotly-graph-div\"></div><script type=\"text/javascript\">require([\"plotly\"], function(Plotly) { window.PLOTLYENV=window.PLOTLYENV || {};window.PLOTLYENV.BASE_URL=\"https://plot.ly\";Plotly.newPlot(\"6d15ce34-3ce1-465f-b709-3ff5404757c6\", [{\"name\": \"\\u5ef6\\u671f\\u5546\\u4e1a\\u9879\\u76ee\\u6570\", \"x\": [\"8\", \"9\"], \"y\": [0.0, 2.0], \"type\": \"bar\", \"uid\": \"7f0de6ee-c147-11e8-ad67-d89ef3991fb3\"}, {\"name\": \"\\u5ef6\\u671f\\u4e2a\\u6027\\u5316\\u9879\\u76ee\\u6570\", \"x\": [\"8\", \"9\"], \"y\": [0.0, 0.0], \"type\": \"bar\", \"uid\": \"7f0de6ef-c147-11e8-addc-d89ef3991fb3\"}], {\"title\": \"\\u5ef6\\u671f\\u5546\\u4e1a\\u9879\\u76ee\\u6570&\\u5ef6\\u671f\\u4e2a\\u6027\\u5316\\u9879\\u76ee\\u6570\\u6708\\u8d8b\\u52bf\\u56fe\", \"xaxis\": {\"mirror\": \"all\", \"nticks\": 20, \"showgrid\": true, \"showline\": true, \"title\": \"\\u6708\", \"zeroline\": true}, \"yaxis\": {\"mirror\": \"all\", \"nticks\": 20, \"showgrid\": true, \"showline\": true, \"title\": \"\\u5ef6\\u671f\\u5546\\u4e1a\\u9879\\u76ee\\u6570&\\u5ef6\\u671f\\u4e2a\\u6027\\u5316\\u9879\\u76ee\\u6570\", \"zeroline\": true}}, {\"showLink\": true, \"linkText\": \"Export to plot.ly\"})});</script>"
      ],
      "text/vnd.plotly.v1+html": [
       "<div id=\"6d15ce34-3ce1-465f-b709-3ff5404757c6\" style=\"height: 525px; width: 100%;\" class=\"plotly-graph-div\"></div><script type=\"text/javascript\">require([\"plotly\"], function(Plotly) { window.PLOTLYENV=window.PLOTLYENV || {};window.PLOTLYENV.BASE_URL=\"https://plot.ly\";Plotly.newPlot(\"6d15ce34-3ce1-465f-b709-3ff5404757c6\", [{\"name\": \"\\u5ef6\\u671f\\u5546\\u4e1a\\u9879\\u76ee\\u6570\", \"x\": [\"8\", \"9\"], \"y\": [0.0, 2.0], \"type\": \"bar\", \"uid\": \"7f0de6ee-c147-11e8-ad67-d89ef3991fb3\"}, {\"name\": \"\\u5ef6\\u671f\\u4e2a\\u6027\\u5316\\u9879\\u76ee\\u6570\", \"x\": [\"8\", \"9\"], \"y\": [0.0, 0.0], \"type\": \"bar\", \"uid\": \"7f0de6ef-c147-11e8-addc-d89ef3991fb3\"}], {\"title\": \"\\u5ef6\\u671f\\u5546\\u4e1a\\u9879\\u76ee\\u6570&\\u5ef6\\u671f\\u4e2a\\u6027\\u5316\\u9879\\u76ee\\u6570\\u6708\\u8d8b\\u52bf\\u56fe\", \"xaxis\": {\"mirror\": \"all\", \"nticks\": 20, \"showgrid\": true, \"showline\": true, \"title\": \"\\u6708\", \"zeroline\": true}, \"yaxis\": {\"mirror\": \"all\", \"nticks\": 20, \"showgrid\": true, \"showline\": true, \"title\": \"\\u5ef6\\u671f\\u5546\\u4e1a\\u9879\\u76ee\\u6570&\\u5ef6\\u671f\\u4e2a\\u6027\\u5316\\u9879\\u76ee\\u6570\", \"zeroline\": true}}, {\"showLink\": true, \"linkText\": \"Export to plot.ly\"})});</script>"
      ]
     },
     "metadata": {},
     "output_type": "display_data"
    }
   ],
   "source": [
    "data_dict = {'延期商业项目数':['延期商业项目数'], '延期个性化项目数':['延期个性化项目数']}\n",
    "myModule.plot( all_dict, data_dict, '人员' ,  'bar' , all='all')"
   ]
  },
  {
   "cell_type": "markdown",
   "metadata": {},
   "source": [
    "### 反馈延期数"
   ]
  },
  {
   "cell_type": "code",
   "execution_count": 66,
   "metadata": {
    "scrolled": true
   },
   "outputs": [
    {
     "data": {
      "application/vnd.plotly.v1+json": {
       "data": [
        {
         "name": "24h内未完成数据反馈项目数",
         "type": "bar",
         "uid": "7f3db0ec-c147-11e8-a49a-d89ef3991fb3",
         "x": [
          "8-1",
          "8-2",
          "8-3",
          "8-4",
          "8-5",
          "9-1",
          "9-2"
         ],
         "y": [
          0,
          0,
          0,
          0,
          0,
          0,
          0
         ]
        },
        {
         "name": "反馈延期个性化数",
         "type": "bar",
         "uid": "7f3db0ed-c147-11e8-a139-d89ef3991fb3",
         "x": [
          "8-1",
          "8-2",
          "8-3",
          "8-4",
          "8-5",
          "9-1",
          "9-2"
         ],
         "y": [
          0,
          0,
          0,
          0,
          0,
          0,
          0
         ]
        }
       ],
       "layout": {
        "title": "24h内未完成数据反馈项目数&反馈延期个性化数周趋势图",
        "xaxis": {
         "mirror": "all",
         "nticks": 20,
         "showgrid": true,
         "showline": true,
         "title": "周",
         "zeroline": true
        },
        "yaxis": {
         "mirror": "all",
         "nticks": 20,
         "showgrid": true,
         "showline": true,
         "title": "24h内未完成数据反馈项目数&反馈延期个性化数",
         "zeroline": true
        }
       }
      },
      "text/html": [
       "<div id=\"438d032f-1b7d-4735-bdda-7b21ff23f501\" style=\"height: 525px; width: 100%;\" class=\"plotly-graph-div\"></div><script type=\"text/javascript\">require([\"plotly\"], function(Plotly) { window.PLOTLYENV=window.PLOTLYENV || {};window.PLOTLYENV.BASE_URL=\"https://plot.ly\";Plotly.newPlot(\"438d032f-1b7d-4735-bdda-7b21ff23f501\", [{\"name\": \"24h\\u5185\\u672a\\u5b8c\\u6210\\u6570\\u636e\\u53cd\\u9988\\u9879\\u76ee\\u6570\", \"x\": [\"8-1\", \"8-2\", \"8-3\", \"8-4\", \"8-5\", \"9-1\", \"9-2\"], \"y\": [0.0, 0.0, 0.0, 0.0, 0.0, 0.0, 0.0], \"type\": \"bar\", \"uid\": \"7f3db0ec-c147-11e8-a49a-d89ef3991fb3\"}, {\"name\": \"\\u53cd\\u9988\\u5ef6\\u671f\\u4e2a\\u6027\\u5316\\u6570\", \"x\": [\"8-1\", \"8-2\", \"8-3\", \"8-4\", \"8-5\", \"9-1\", \"9-2\"], \"y\": [0.0, 0.0, 0.0, 0.0, 0.0, 0.0, 0.0], \"type\": \"bar\", \"uid\": \"7f3db0ed-c147-11e8-a139-d89ef3991fb3\"}], {\"title\": \"24h\\u5185\\u672a\\u5b8c\\u6210\\u6570\\u636e\\u53cd\\u9988\\u9879\\u76ee\\u6570&\\u53cd\\u9988\\u5ef6\\u671f\\u4e2a\\u6027\\u5316\\u6570\\u5468\\u8d8b\\u52bf\\u56fe\", \"xaxis\": {\"mirror\": \"all\", \"nticks\": 20, \"showgrid\": true, \"showline\": true, \"title\": \"\\u5468\", \"zeroline\": true}, \"yaxis\": {\"mirror\": \"all\", \"nticks\": 20, \"showgrid\": true, \"showline\": true, \"title\": \"24h\\u5185\\u672a\\u5b8c\\u6210\\u6570\\u636e\\u53cd\\u9988\\u9879\\u76ee\\u6570&\\u53cd\\u9988\\u5ef6\\u671f\\u4e2a\\u6027\\u5316\\u6570\", \"zeroline\": true}}, {\"showLink\": true, \"linkText\": \"Export to plot.ly\"})});</script>"
      ],
      "text/vnd.plotly.v1+html": [
       "<div id=\"438d032f-1b7d-4735-bdda-7b21ff23f501\" style=\"height: 525px; width: 100%;\" class=\"plotly-graph-div\"></div><script type=\"text/javascript\">require([\"plotly\"], function(Plotly) { window.PLOTLYENV=window.PLOTLYENV || {};window.PLOTLYENV.BASE_URL=\"https://plot.ly\";Plotly.newPlot(\"438d032f-1b7d-4735-bdda-7b21ff23f501\", [{\"name\": \"24h\\u5185\\u672a\\u5b8c\\u6210\\u6570\\u636e\\u53cd\\u9988\\u9879\\u76ee\\u6570\", \"x\": [\"8-1\", \"8-2\", \"8-3\", \"8-4\", \"8-5\", \"9-1\", \"9-2\"], \"y\": [0.0, 0.0, 0.0, 0.0, 0.0, 0.0, 0.0], \"type\": \"bar\", \"uid\": \"7f3db0ec-c147-11e8-a49a-d89ef3991fb3\"}, {\"name\": \"\\u53cd\\u9988\\u5ef6\\u671f\\u4e2a\\u6027\\u5316\\u6570\", \"x\": [\"8-1\", \"8-2\", \"8-3\", \"8-4\", \"8-5\", \"9-1\", \"9-2\"], \"y\": [0.0, 0.0, 0.0, 0.0, 0.0, 0.0, 0.0], \"type\": \"bar\", \"uid\": \"7f3db0ed-c147-11e8-a139-d89ef3991fb3\"}], {\"title\": \"24h\\u5185\\u672a\\u5b8c\\u6210\\u6570\\u636e\\u53cd\\u9988\\u9879\\u76ee\\u6570&\\u53cd\\u9988\\u5ef6\\u671f\\u4e2a\\u6027\\u5316\\u6570\\u5468\\u8d8b\\u52bf\\u56fe\", \"xaxis\": {\"mirror\": \"all\", \"nticks\": 20, \"showgrid\": true, \"showline\": true, \"title\": \"\\u5468\", \"zeroline\": true}, \"yaxis\": {\"mirror\": \"all\", \"nticks\": 20, \"showgrid\": true, \"showline\": true, \"title\": \"24h\\u5185\\u672a\\u5b8c\\u6210\\u6570\\u636e\\u53cd\\u9988\\u9879\\u76ee\\u6570&\\u53cd\\u9988\\u5ef6\\u671f\\u4e2a\\u6027\\u5316\\u6570\", \"zeroline\": true}}, {\"showLink\": true, \"linkText\": \"Export to plot.ly\"})});</script>"
      ]
     },
     "metadata": {},
     "output_type": "display_data"
    },
    {
     "data": {
      "application/vnd.plotly.v1+json": {
       "data": [
        {
         "name": "24h内未完成数据反馈项目数",
         "type": "bar",
         "uid": "7f460ed8-c147-11e8-8383-d89ef3991fb3",
         "x": [
          "8",
          "9"
         ],
         "y": [
          0,
          0
         ]
        },
        {
         "name": "反馈延期个性化数",
         "type": "bar",
         "uid": "7f460ed9-c147-11e8-8381-d89ef3991fb3",
         "x": [
          "8",
          "9"
         ],
         "y": [
          0,
          0
         ]
        }
       ],
       "layout": {
        "title": "24h内未完成数据反馈项目数&反馈延期个性化数月趋势图",
        "xaxis": {
         "mirror": "all",
         "nticks": 20,
         "showgrid": true,
         "showline": true,
         "title": "月",
         "zeroline": true
        },
        "yaxis": {
         "mirror": "all",
         "nticks": 20,
         "showgrid": true,
         "showline": true,
         "title": "24h内未完成数据反馈项目数&反馈延期个性化数",
         "zeroline": true
        }
       }
      },
      "text/html": [
       "<div id=\"a0b40b64-1357-4cf3-b1f7-6a1f6350c722\" style=\"height: 525px; width: 100%;\" class=\"plotly-graph-div\"></div><script type=\"text/javascript\">require([\"plotly\"], function(Plotly) { window.PLOTLYENV=window.PLOTLYENV || {};window.PLOTLYENV.BASE_URL=\"https://plot.ly\";Plotly.newPlot(\"a0b40b64-1357-4cf3-b1f7-6a1f6350c722\", [{\"name\": \"24h\\u5185\\u672a\\u5b8c\\u6210\\u6570\\u636e\\u53cd\\u9988\\u9879\\u76ee\\u6570\", \"x\": [\"8\", \"9\"], \"y\": [0.0, 0.0], \"type\": \"bar\", \"uid\": \"7f460ed8-c147-11e8-8383-d89ef3991fb3\"}, {\"name\": \"\\u53cd\\u9988\\u5ef6\\u671f\\u4e2a\\u6027\\u5316\\u6570\", \"x\": [\"8\", \"9\"], \"y\": [0.0, 0.0], \"type\": \"bar\", \"uid\": \"7f460ed9-c147-11e8-8381-d89ef3991fb3\"}], {\"title\": \"24h\\u5185\\u672a\\u5b8c\\u6210\\u6570\\u636e\\u53cd\\u9988\\u9879\\u76ee\\u6570&\\u53cd\\u9988\\u5ef6\\u671f\\u4e2a\\u6027\\u5316\\u6570\\u6708\\u8d8b\\u52bf\\u56fe\", \"xaxis\": {\"mirror\": \"all\", \"nticks\": 20, \"showgrid\": true, \"showline\": true, \"title\": \"\\u6708\", \"zeroline\": true}, \"yaxis\": {\"mirror\": \"all\", \"nticks\": 20, \"showgrid\": true, \"showline\": true, \"title\": \"24h\\u5185\\u672a\\u5b8c\\u6210\\u6570\\u636e\\u53cd\\u9988\\u9879\\u76ee\\u6570&\\u53cd\\u9988\\u5ef6\\u671f\\u4e2a\\u6027\\u5316\\u6570\", \"zeroline\": true}}, {\"showLink\": true, \"linkText\": \"Export to plot.ly\"})});</script>"
      ],
      "text/vnd.plotly.v1+html": [
       "<div id=\"a0b40b64-1357-4cf3-b1f7-6a1f6350c722\" style=\"height: 525px; width: 100%;\" class=\"plotly-graph-div\"></div><script type=\"text/javascript\">require([\"plotly\"], function(Plotly) { window.PLOTLYENV=window.PLOTLYENV || {};window.PLOTLYENV.BASE_URL=\"https://plot.ly\";Plotly.newPlot(\"a0b40b64-1357-4cf3-b1f7-6a1f6350c722\", [{\"name\": \"24h\\u5185\\u672a\\u5b8c\\u6210\\u6570\\u636e\\u53cd\\u9988\\u9879\\u76ee\\u6570\", \"x\": [\"8\", \"9\"], \"y\": [0.0, 0.0], \"type\": \"bar\", \"uid\": \"7f460ed8-c147-11e8-8383-d89ef3991fb3\"}, {\"name\": \"\\u53cd\\u9988\\u5ef6\\u671f\\u4e2a\\u6027\\u5316\\u6570\", \"x\": [\"8\", \"9\"], \"y\": [0.0, 0.0], \"type\": \"bar\", \"uid\": \"7f460ed9-c147-11e8-8381-d89ef3991fb3\"}], {\"title\": \"24h\\u5185\\u672a\\u5b8c\\u6210\\u6570\\u636e\\u53cd\\u9988\\u9879\\u76ee\\u6570&\\u53cd\\u9988\\u5ef6\\u671f\\u4e2a\\u6027\\u5316\\u6570\\u6708\\u8d8b\\u52bf\\u56fe\", \"xaxis\": {\"mirror\": \"all\", \"nticks\": 20, \"showgrid\": true, \"showline\": true, \"title\": \"\\u6708\", \"zeroline\": true}, \"yaxis\": {\"mirror\": \"all\", \"nticks\": 20, \"showgrid\": true, \"showline\": true, \"title\": \"24h\\u5185\\u672a\\u5b8c\\u6210\\u6570\\u636e\\u53cd\\u9988\\u9879\\u76ee\\u6570&\\u53cd\\u9988\\u5ef6\\u671f\\u4e2a\\u6027\\u5316\\u6570\", \"zeroline\": true}}, {\"showLink\": true, \"linkText\": \"Export to plot.ly\"})});</script>"
      ]
     },
     "metadata": {},
     "output_type": "display_data"
    }
   ],
   "source": [
    "data_dict = {'24h内未完成数据反馈项目数':['24h内未完成数据反馈项目数'], '反馈延期个性化数':['反馈延期个性化数']}\n",
    "myModule.plot( all_dict, data_dict, '人员' ,  'bar' , all='all')"
   ]
  },
  {
   "cell_type": "markdown",
   "metadata": {},
   "source": [
    "### 延期率"
   ]
  },
  {
   "cell_type": "code",
   "execution_count": 67,
   "metadata": {
    "scrolled": true
   },
   "outputs": [
    {
     "data": {
      "application/vnd.plotly.v1+json": {
       "data": [
        {
         "name": "商业项目延期率",
         "type": "scatter",
         "uid": "7f701070-c147-11e8-9882-d89ef3991fb3",
         "x": [
          "8-1",
          "8-2",
          "8-3",
          "8-4",
          "8-5",
          "9-1",
          "9-2"
         ],
         "y": [
          0,
          0,
          0,
          0,
          0,
          0,
          0
         ]
        },
        {
         "name": "个性化项目延期率",
         "type": "scatter",
         "uid": "7f701071-c147-11e8-affb-d89ef3991fb3",
         "x": [
          "8-1",
          "8-2",
          "8-3",
          "8-4",
          "8-5",
          "9-1",
          "9-2"
         ],
         "y": [
          0,
          0,
          0,
          0,
          0,
          0,
          0
         ]
        },
        {
         "name": "项目总延期率",
         "type": "scatter",
         "uid": "7f701072-c147-11e8-af34-d89ef3991fb3",
         "x": [
          "8-1",
          "8-2",
          "8-3",
          "8-4",
          "8-5",
          "9-1",
          "9-2"
         ],
         "y": [
          0,
          0,
          0,
          0,
          0,
          0,
          0
         ]
        }
       ],
       "layout": {
        "title": "商业项目延期率&个性化项目延期率&项目总延期率周趋势图",
        "xaxis": {
         "mirror": "all",
         "nticks": 20,
         "showgrid": true,
         "showline": true,
         "title": "周",
         "zeroline": true
        },
        "yaxis": {
         "mirror": "all",
         "nticks": 20,
         "showgrid": true,
         "showline": true,
         "title": "商业项目延期率&个性化项目延期率&项目总延期率",
         "zeroline": true
        }
       }
      },
      "text/html": [
       "<div id=\"d976f54d-dc59-42cc-b44b-c47576214940\" style=\"height: 525px; width: 100%;\" class=\"plotly-graph-div\"></div><script type=\"text/javascript\">require([\"plotly\"], function(Plotly) { window.PLOTLYENV=window.PLOTLYENV || {};window.PLOTLYENV.BASE_URL=\"https://plot.ly\";Plotly.newPlot(\"d976f54d-dc59-42cc-b44b-c47576214940\", [{\"name\": \"\\u5546\\u4e1a\\u9879\\u76ee\\u5ef6\\u671f\\u7387\", \"x\": [\"8-1\", \"8-2\", \"8-3\", \"8-4\", \"8-5\", \"9-1\", \"9-2\"], \"y\": [0.0, 0.0, 0.0, 0.0, 0.0, 0.0, 0.0], \"type\": \"scatter\", \"uid\": \"7f701070-c147-11e8-9882-d89ef3991fb3\"}, {\"name\": \"\\u4e2a\\u6027\\u5316\\u9879\\u76ee\\u5ef6\\u671f\\u7387\", \"x\": [\"8-1\", \"8-2\", \"8-3\", \"8-4\", \"8-5\", \"9-1\", \"9-2\"], \"y\": [0.0, 0.0, 0.0, 0.0, 0.0, 0.0, 0.0], \"type\": \"scatter\", \"uid\": \"7f701071-c147-11e8-affb-d89ef3991fb3\"}, {\"name\": \"\\u9879\\u76ee\\u603b\\u5ef6\\u671f\\u7387\", \"x\": [\"8-1\", \"8-2\", \"8-3\", \"8-4\", \"8-5\", \"9-1\", \"9-2\"], \"y\": [0.0, 0.0, 0.0, 0.0, 0.0, 0.0, 0.0], \"type\": \"scatter\", \"uid\": \"7f701072-c147-11e8-af34-d89ef3991fb3\"}], {\"title\": \"\\u5546\\u4e1a\\u9879\\u76ee\\u5ef6\\u671f\\u7387&\\u4e2a\\u6027\\u5316\\u9879\\u76ee\\u5ef6\\u671f\\u7387&\\u9879\\u76ee\\u603b\\u5ef6\\u671f\\u7387\\u5468\\u8d8b\\u52bf\\u56fe\", \"xaxis\": {\"mirror\": \"all\", \"nticks\": 20, \"showgrid\": true, \"showline\": true, \"title\": \"\\u5468\", \"zeroline\": true}, \"yaxis\": {\"mirror\": \"all\", \"nticks\": 20, \"showgrid\": true, \"showline\": true, \"title\": \"\\u5546\\u4e1a\\u9879\\u76ee\\u5ef6\\u671f\\u7387&\\u4e2a\\u6027\\u5316\\u9879\\u76ee\\u5ef6\\u671f\\u7387&\\u9879\\u76ee\\u603b\\u5ef6\\u671f\\u7387\", \"zeroline\": true}}, {\"showLink\": true, \"linkText\": \"Export to plot.ly\"})});</script>"
      ],
      "text/vnd.plotly.v1+html": [
       "<div id=\"d976f54d-dc59-42cc-b44b-c47576214940\" style=\"height: 525px; width: 100%;\" class=\"plotly-graph-div\"></div><script type=\"text/javascript\">require([\"plotly\"], function(Plotly) { window.PLOTLYENV=window.PLOTLYENV || {};window.PLOTLYENV.BASE_URL=\"https://plot.ly\";Plotly.newPlot(\"d976f54d-dc59-42cc-b44b-c47576214940\", [{\"name\": \"\\u5546\\u4e1a\\u9879\\u76ee\\u5ef6\\u671f\\u7387\", \"x\": [\"8-1\", \"8-2\", \"8-3\", \"8-4\", \"8-5\", \"9-1\", \"9-2\"], \"y\": [0.0, 0.0, 0.0, 0.0, 0.0, 0.0, 0.0], \"type\": \"scatter\", \"uid\": \"7f701070-c147-11e8-9882-d89ef3991fb3\"}, {\"name\": \"\\u4e2a\\u6027\\u5316\\u9879\\u76ee\\u5ef6\\u671f\\u7387\", \"x\": [\"8-1\", \"8-2\", \"8-3\", \"8-4\", \"8-5\", \"9-1\", \"9-2\"], \"y\": [0.0, 0.0, 0.0, 0.0, 0.0, 0.0, 0.0], \"type\": \"scatter\", \"uid\": \"7f701071-c147-11e8-affb-d89ef3991fb3\"}, {\"name\": \"\\u9879\\u76ee\\u603b\\u5ef6\\u671f\\u7387\", \"x\": [\"8-1\", \"8-2\", \"8-3\", \"8-4\", \"8-5\", \"9-1\", \"9-2\"], \"y\": [0.0, 0.0, 0.0, 0.0, 0.0, 0.0, 0.0], \"type\": \"scatter\", \"uid\": \"7f701072-c147-11e8-af34-d89ef3991fb3\"}], {\"title\": \"\\u5546\\u4e1a\\u9879\\u76ee\\u5ef6\\u671f\\u7387&\\u4e2a\\u6027\\u5316\\u9879\\u76ee\\u5ef6\\u671f\\u7387&\\u9879\\u76ee\\u603b\\u5ef6\\u671f\\u7387\\u5468\\u8d8b\\u52bf\\u56fe\", \"xaxis\": {\"mirror\": \"all\", \"nticks\": 20, \"showgrid\": true, \"showline\": true, \"title\": \"\\u5468\", \"zeroline\": true}, \"yaxis\": {\"mirror\": \"all\", \"nticks\": 20, \"showgrid\": true, \"showline\": true, \"title\": \"\\u5546\\u4e1a\\u9879\\u76ee\\u5ef6\\u671f\\u7387&\\u4e2a\\u6027\\u5316\\u9879\\u76ee\\u5ef6\\u671f\\u7387&\\u9879\\u76ee\\u603b\\u5ef6\\u671f\\u7387\", \"zeroline\": true}}, {\"showLink\": true, \"linkText\": \"Export to plot.ly\"})});</script>"
      ]
     },
     "metadata": {},
     "output_type": "display_data"
    },
    {
     "data": {
      "application/vnd.plotly.v1+json": {
       "data": [
        {
         "name": "商业项目延期率",
         "type": "scatter",
         "uid": "7f79cc62-c147-11e8-a70f-d89ef3991fb3",
         "x": [
          "8",
          "9"
         ],
         "y": [
          0,
          0
         ]
        },
        {
         "name": "个性化项目延期率",
         "type": "scatter",
         "uid": "7f79cc63-c147-11e8-a8c2-d89ef3991fb3",
         "x": [
          "8",
          "9"
         ],
         "y": [
          0,
          0
         ]
        },
        {
         "name": "项目总延期率",
         "type": "scatter",
         "uid": "7f79cc64-c147-11e8-a1df-d89ef3991fb3",
         "x": [
          "8",
          "9"
         ],
         "y": [
          0,
          0
         ]
        }
       ],
       "layout": {
        "title": "商业项目延期率&个性化项目延期率&项目总延期率月趋势图",
        "xaxis": {
         "mirror": "all",
         "nticks": 20,
         "showgrid": true,
         "showline": true,
         "title": "月",
         "zeroline": true
        },
        "yaxis": {
         "mirror": "all",
         "nticks": 20,
         "showgrid": true,
         "showline": true,
         "title": "商业项目延期率&个性化项目延期率&项目总延期率",
         "zeroline": true
        }
       }
      },
      "text/html": [
       "<div id=\"c5df8b08-abe9-4c2f-ad05-74d58a1d6213\" style=\"height: 525px; width: 100%;\" class=\"plotly-graph-div\"></div><script type=\"text/javascript\">require([\"plotly\"], function(Plotly) { window.PLOTLYENV=window.PLOTLYENV || {};window.PLOTLYENV.BASE_URL=\"https://plot.ly\";Plotly.newPlot(\"c5df8b08-abe9-4c2f-ad05-74d58a1d6213\", [{\"name\": \"\\u5546\\u4e1a\\u9879\\u76ee\\u5ef6\\u671f\\u7387\", \"x\": [\"8\", \"9\"], \"y\": [0.0, 0.0], \"type\": \"scatter\", \"uid\": \"7f79cc62-c147-11e8-a70f-d89ef3991fb3\"}, {\"name\": \"\\u4e2a\\u6027\\u5316\\u9879\\u76ee\\u5ef6\\u671f\\u7387\", \"x\": [\"8\", \"9\"], \"y\": [0.0, 0.0], \"type\": \"scatter\", \"uid\": \"7f79cc63-c147-11e8-a8c2-d89ef3991fb3\"}, {\"name\": \"\\u9879\\u76ee\\u603b\\u5ef6\\u671f\\u7387\", \"x\": [\"8\", \"9\"], \"y\": [0.0, 0.0], \"type\": \"scatter\", \"uid\": \"7f79cc64-c147-11e8-a1df-d89ef3991fb3\"}], {\"title\": \"\\u5546\\u4e1a\\u9879\\u76ee\\u5ef6\\u671f\\u7387&\\u4e2a\\u6027\\u5316\\u9879\\u76ee\\u5ef6\\u671f\\u7387&\\u9879\\u76ee\\u603b\\u5ef6\\u671f\\u7387\\u6708\\u8d8b\\u52bf\\u56fe\", \"xaxis\": {\"mirror\": \"all\", \"nticks\": 20, \"showgrid\": true, \"showline\": true, \"title\": \"\\u6708\", \"zeroline\": true}, \"yaxis\": {\"mirror\": \"all\", \"nticks\": 20, \"showgrid\": true, \"showline\": true, \"title\": \"\\u5546\\u4e1a\\u9879\\u76ee\\u5ef6\\u671f\\u7387&\\u4e2a\\u6027\\u5316\\u9879\\u76ee\\u5ef6\\u671f\\u7387&\\u9879\\u76ee\\u603b\\u5ef6\\u671f\\u7387\", \"zeroline\": true}}, {\"showLink\": true, \"linkText\": \"Export to plot.ly\"})});</script>"
      ],
      "text/vnd.plotly.v1+html": [
       "<div id=\"c5df8b08-abe9-4c2f-ad05-74d58a1d6213\" style=\"height: 525px; width: 100%;\" class=\"plotly-graph-div\"></div><script type=\"text/javascript\">require([\"plotly\"], function(Plotly) { window.PLOTLYENV=window.PLOTLYENV || {};window.PLOTLYENV.BASE_URL=\"https://plot.ly\";Plotly.newPlot(\"c5df8b08-abe9-4c2f-ad05-74d58a1d6213\", [{\"name\": \"\\u5546\\u4e1a\\u9879\\u76ee\\u5ef6\\u671f\\u7387\", \"x\": [\"8\", \"9\"], \"y\": [0.0, 0.0], \"type\": \"scatter\", \"uid\": \"7f79cc62-c147-11e8-a70f-d89ef3991fb3\"}, {\"name\": \"\\u4e2a\\u6027\\u5316\\u9879\\u76ee\\u5ef6\\u671f\\u7387\", \"x\": [\"8\", \"9\"], \"y\": [0.0, 0.0], \"type\": \"scatter\", \"uid\": \"7f79cc63-c147-11e8-a8c2-d89ef3991fb3\"}, {\"name\": \"\\u9879\\u76ee\\u603b\\u5ef6\\u671f\\u7387\", \"x\": [\"8\", \"9\"], \"y\": [0.0, 0.0], \"type\": \"scatter\", \"uid\": \"7f79cc64-c147-11e8-a1df-d89ef3991fb3\"}], {\"title\": \"\\u5546\\u4e1a\\u9879\\u76ee\\u5ef6\\u671f\\u7387&\\u4e2a\\u6027\\u5316\\u9879\\u76ee\\u5ef6\\u671f\\u7387&\\u9879\\u76ee\\u603b\\u5ef6\\u671f\\u7387\\u6708\\u8d8b\\u52bf\\u56fe\", \"xaxis\": {\"mirror\": \"all\", \"nticks\": 20, \"showgrid\": true, \"showline\": true, \"title\": \"\\u6708\", \"zeroline\": true}, \"yaxis\": {\"mirror\": \"all\", \"nticks\": 20, \"showgrid\": true, \"showline\": true, \"title\": \"\\u5546\\u4e1a\\u9879\\u76ee\\u5ef6\\u671f\\u7387&\\u4e2a\\u6027\\u5316\\u9879\\u76ee\\u5ef6\\u671f\\u7387&\\u9879\\u76ee\\u603b\\u5ef6\\u671f\\u7387\", \"zeroline\": true}}, {\"showLink\": true, \"linkText\": \"Export to plot.ly\"})});</script>"
      ]
     },
     "metadata": {},
     "output_type": "display_data"
    }
   ],
   "source": [
    "data_dict = {'商业项目延期率':['商业项目延期率'],'个性化项目延期率':['个性化项目延期率'],'项目总延期率':['项目总延期率']}\n",
    "myModule.plot( all_dict, data_dict, '人员' ,  'line' , all='all')"
   ]
  },
  {
   "cell_type": "markdown",
   "metadata": {},
   "source": [
    "### 反馈延期率"
   ]
  },
  {
   "cell_type": "code",
   "execution_count": 68,
   "metadata": {
    "scrolled": true
   },
   "outputs": [
    {
     "data": {
      "application/vnd.plotly.v1+json": {
       "data": [
        {
         "name": "数据反馈延期率",
         "type": "scatter",
         "uid": "7fa2bd58-c147-11e8-a483-d89ef3991fb3",
         "x": [
          "8-1",
          "8-2",
          "8-3",
          "8-4",
          "8-5",
          "9-1",
          "9-2"
         ],
         "y": [
          0,
          0,
          0,
          0,
          0,
          0,
          0
         ]
        },
        {
         "name": "个性化反馈延期率",
         "type": "scatter",
         "uid": "7fa2bd59-c147-11e8-8e7a-d89ef3991fb3",
         "x": [
          "8-1",
          "8-2",
          "8-3",
          "8-4",
          "8-5",
          "9-1",
          "9-2"
         ],
         "y": [
          0,
          0,
          0,
          0,
          0,
          0,
          0
         ]
        }
       ],
       "layout": {
        "title": "数据反馈延期率&个性化反馈延期率周趋势图",
        "xaxis": {
         "mirror": "all",
         "nticks": 20,
         "showgrid": true,
         "showline": true,
         "title": "周",
         "zeroline": true
        },
        "yaxis": {
         "mirror": "all",
         "nticks": 20,
         "showgrid": true,
         "showline": true,
         "title": "数据反馈延期率&个性化反馈延期率",
         "zeroline": true
        }
       }
      },
      "text/html": [
       "<div id=\"a69e5e1f-9f0b-491e-a9f5-2c806404e4a7\" style=\"height: 525px; width: 100%;\" class=\"plotly-graph-div\"></div><script type=\"text/javascript\">require([\"plotly\"], function(Plotly) { window.PLOTLYENV=window.PLOTLYENV || {};window.PLOTLYENV.BASE_URL=\"https://plot.ly\";Plotly.newPlot(\"a69e5e1f-9f0b-491e-a9f5-2c806404e4a7\", [{\"name\": \"\\u6570\\u636e\\u53cd\\u9988\\u5ef6\\u671f\\u7387\", \"x\": [\"8-1\", \"8-2\", \"8-3\", \"8-4\", \"8-5\", \"9-1\", \"9-2\"], \"y\": [0.0, 0.0, 0.0, 0.0, 0.0, 0.0, 0.0], \"type\": \"scatter\", \"uid\": \"7fa2bd58-c147-11e8-a483-d89ef3991fb3\"}, {\"name\": \"\\u4e2a\\u6027\\u5316\\u53cd\\u9988\\u5ef6\\u671f\\u7387\", \"x\": [\"8-1\", \"8-2\", \"8-3\", \"8-4\", \"8-5\", \"9-1\", \"9-2\"], \"y\": [0.0, 0.0, 0.0, 0.0, 0.0, 0.0, 0.0], \"type\": \"scatter\", \"uid\": \"7fa2bd59-c147-11e8-8e7a-d89ef3991fb3\"}], {\"title\": \"\\u6570\\u636e\\u53cd\\u9988\\u5ef6\\u671f\\u7387&\\u4e2a\\u6027\\u5316\\u53cd\\u9988\\u5ef6\\u671f\\u7387\\u5468\\u8d8b\\u52bf\\u56fe\", \"xaxis\": {\"mirror\": \"all\", \"nticks\": 20, \"showgrid\": true, \"showline\": true, \"title\": \"\\u5468\", \"zeroline\": true}, \"yaxis\": {\"mirror\": \"all\", \"nticks\": 20, \"showgrid\": true, \"showline\": true, \"title\": \"\\u6570\\u636e\\u53cd\\u9988\\u5ef6\\u671f\\u7387&\\u4e2a\\u6027\\u5316\\u53cd\\u9988\\u5ef6\\u671f\\u7387\", \"zeroline\": true}}, {\"showLink\": true, \"linkText\": \"Export to plot.ly\"})});</script>"
      ],
      "text/vnd.plotly.v1+html": [
       "<div id=\"a69e5e1f-9f0b-491e-a9f5-2c806404e4a7\" style=\"height: 525px; width: 100%;\" class=\"plotly-graph-div\"></div><script type=\"text/javascript\">require([\"plotly\"], function(Plotly) { window.PLOTLYENV=window.PLOTLYENV || {};window.PLOTLYENV.BASE_URL=\"https://plot.ly\";Plotly.newPlot(\"a69e5e1f-9f0b-491e-a9f5-2c806404e4a7\", [{\"name\": \"\\u6570\\u636e\\u53cd\\u9988\\u5ef6\\u671f\\u7387\", \"x\": [\"8-1\", \"8-2\", \"8-3\", \"8-4\", \"8-5\", \"9-1\", \"9-2\"], \"y\": [0.0, 0.0, 0.0, 0.0, 0.0, 0.0, 0.0], \"type\": \"scatter\", \"uid\": \"7fa2bd58-c147-11e8-a483-d89ef3991fb3\"}, {\"name\": \"\\u4e2a\\u6027\\u5316\\u53cd\\u9988\\u5ef6\\u671f\\u7387\", \"x\": [\"8-1\", \"8-2\", \"8-3\", \"8-4\", \"8-5\", \"9-1\", \"9-2\"], \"y\": [0.0, 0.0, 0.0, 0.0, 0.0, 0.0, 0.0], \"type\": \"scatter\", \"uid\": \"7fa2bd59-c147-11e8-8e7a-d89ef3991fb3\"}], {\"title\": \"\\u6570\\u636e\\u53cd\\u9988\\u5ef6\\u671f\\u7387&\\u4e2a\\u6027\\u5316\\u53cd\\u9988\\u5ef6\\u671f\\u7387\\u5468\\u8d8b\\u52bf\\u56fe\", \"xaxis\": {\"mirror\": \"all\", \"nticks\": 20, \"showgrid\": true, \"showline\": true, \"title\": \"\\u5468\", \"zeroline\": true}, \"yaxis\": {\"mirror\": \"all\", \"nticks\": 20, \"showgrid\": true, \"showline\": true, \"title\": \"\\u6570\\u636e\\u53cd\\u9988\\u5ef6\\u671f\\u7387&\\u4e2a\\u6027\\u5316\\u53cd\\u9988\\u5ef6\\u671f\\u7387\", \"zeroline\": true}}, {\"showLink\": true, \"linkText\": \"Export to plot.ly\"})});</script>"
      ]
     },
     "metadata": {},
     "output_type": "display_data"
    },
    {
     "data": {
      "application/vnd.plotly.v1+json": {
       "data": [
        {
         "name": "数据反馈延期率",
         "type": "scatter",
         "uid": "7faaf4a4-c147-11e8-9cc5-d89ef3991fb3",
         "x": [
          "8",
          "9"
         ],
         "y": [
          0,
          0
         ]
        },
        {
         "name": "个性化反馈延期率",
         "type": "scatter",
         "uid": "7faaf4a5-c147-11e8-a481-d89ef3991fb3",
         "x": [
          "8",
          "9"
         ],
         "y": [
          0,
          0
         ]
        }
       ],
       "layout": {
        "title": "数据反馈延期率&个性化反馈延期率月趋势图",
        "xaxis": {
         "mirror": "all",
         "nticks": 20,
         "showgrid": true,
         "showline": true,
         "title": "月",
         "zeroline": true
        },
        "yaxis": {
         "mirror": "all",
         "nticks": 20,
         "showgrid": true,
         "showline": true,
         "title": "数据反馈延期率&个性化反馈延期率",
         "zeroline": true
        }
       }
      },
      "text/html": [
       "<div id=\"d1e5952c-8129-4da6-84f5-cd60a707a2a4\" style=\"height: 525px; width: 100%;\" class=\"plotly-graph-div\"></div><script type=\"text/javascript\">require([\"plotly\"], function(Plotly) { window.PLOTLYENV=window.PLOTLYENV || {};window.PLOTLYENV.BASE_URL=\"https://plot.ly\";Plotly.newPlot(\"d1e5952c-8129-4da6-84f5-cd60a707a2a4\", [{\"name\": \"\\u6570\\u636e\\u53cd\\u9988\\u5ef6\\u671f\\u7387\", \"x\": [\"8\", \"9\"], \"y\": [0.0, 0.0], \"type\": \"scatter\", \"uid\": \"7faaf4a4-c147-11e8-9cc5-d89ef3991fb3\"}, {\"name\": \"\\u4e2a\\u6027\\u5316\\u53cd\\u9988\\u5ef6\\u671f\\u7387\", \"x\": [\"8\", \"9\"], \"y\": [0.0, 0.0], \"type\": \"scatter\", \"uid\": \"7faaf4a5-c147-11e8-a481-d89ef3991fb3\"}], {\"title\": \"\\u6570\\u636e\\u53cd\\u9988\\u5ef6\\u671f\\u7387&\\u4e2a\\u6027\\u5316\\u53cd\\u9988\\u5ef6\\u671f\\u7387\\u6708\\u8d8b\\u52bf\\u56fe\", \"xaxis\": {\"mirror\": \"all\", \"nticks\": 20, \"showgrid\": true, \"showline\": true, \"title\": \"\\u6708\", \"zeroline\": true}, \"yaxis\": {\"mirror\": \"all\", \"nticks\": 20, \"showgrid\": true, \"showline\": true, \"title\": \"\\u6570\\u636e\\u53cd\\u9988\\u5ef6\\u671f\\u7387&\\u4e2a\\u6027\\u5316\\u53cd\\u9988\\u5ef6\\u671f\\u7387\", \"zeroline\": true}}, {\"showLink\": true, \"linkText\": \"Export to plot.ly\"})});</script>"
      ],
      "text/vnd.plotly.v1+html": [
       "<div id=\"d1e5952c-8129-4da6-84f5-cd60a707a2a4\" style=\"height: 525px; width: 100%;\" class=\"plotly-graph-div\"></div><script type=\"text/javascript\">require([\"plotly\"], function(Plotly) { window.PLOTLYENV=window.PLOTLYENV || {};window.PLOTLYENV.BASE_URL=\"https://plot.ly\";Plotly.newPlot(\"d1e5952c-8129-4da6-84f5-cd60a707a2a4\", [{\"name\": \"\\u6570\\u636e\\u53cd\\u9988\\u5ef6\\u671f\\u7387\", \"x\": [\"8\", \"9\"], \"y\": [0.0, 0.0], \"type\": \"scatter\", \"uid\": \"7faaf4a4-c147-11e8-9cc5-d89ef3991fb3\"}, {\"name\": \"\\u4e2a\\u6027\\u5316\\u53cd\\u9988\\u5ef6\\u671f\\u7387\", \"x\": [\"8\", \"9\"], \"y\": [0.0, 0.0], \"type\": \"scatter\", \"uid\": \"7faaf4a5-c147-11e8-a481-d89ef3991fb3\"}], {\"title\": \"\\u6570\\u636e\\u53cd\\u9988\\u5ef6\\u671f\\u7387&\\u4e2a\\u6027\\u5316\\u53cd\\u9988\\u5ef6\\u671f\\u7387\\u6708\\u8d8b\\u52bf\\u56fe\", \"xaxis\": {\"mirror\": \"all\", \"nticks\": 20, \"showgrid\": true, \"showline\": true, \"title\": \"\\u6708\", \"zeroline\": true}, \"yaxis\": {\"mirror\": \"all\", \"nticks\": 20, \"showgrid\": true, \"showline\": true, \"title\": \"\\u6570\\u636e\\u53cd\\u9988\\u5ef6\\u671f\\u7387&\\u4e2a\\u6027\\u5316\\u53cd\\u9988\\u5ef6\\u671f\\u7387\", \"zeroline\": true}}, {\"showLink\": true, \"linkText\": \"Export to plot.ly\"})});</script>"
      ]
     },
     "metadata": {},
     "output_type": "display_data"
    }
   ],
   "source": [
    "data_dict = {'数据反馈延期率':['数据反馈延期率'],'个性化反馈延期率':['个性化反馈延期率']}\n",
    "myModule.plot( all_dict, data_dict, '人员' ,  'line' , all='all')"
   ]
  },
  {
   "cell_type": "markdown",
   "metadata": {},
   "source": [
    "### 交付延期率"
   ]
  },
  {
   "cell_type": "code",
   "execution_count": 69,
   "metadata": {},
   "outputs": [
    {
     "data": {
      "application/vnd.plotly.v1+json": {
       "data": [
        {
         "name": "交付延期率",
         "type": "scatter",
         "uid": "7fd14eb6-c147-11e8-a242-d89ef3991fb3",
         "x": [
          "8-1",
          "8-2",
          "8-3",
          "8-4",
          "8-5",
          "9-1",
          "9-2"
         ],
         "y": [
          0,
          0,
          0,
          0,
          0,
          0,
          0
         ]
        }
       ],
       "layout": {
        "title": "交付延期率周趋势图",
        "xaxis": {
         "mirror": "all",
         "nticks": 20,
         "showgrid": true,
         "showline": true,
         "title": "周",
         "zeroline": true
        },
        "yaxis": {
         "mirror": "all",
         "nticks": 20,
         "showgrid": true,
         "showline": true,
         "title": "交付延期率",
         "zeroline": true
        }
       }
      },
      "text/html": [
       "<div id=\"3c01b8ea-37ec-4ba7-ade2-d3c656d49de1\" style=\"height: 525px; width: 100%;\" class=\"plotly-graph-div\"></div><script type=\"text/javascript\">require([\"plotly\"], function(Plotly) { window.PLOTLYENV=window.PLOTLYENV || {};window.PLOTLYENV.BASE_URL=\"https://plot.ly\";Plotly.newPlot(\"3c01b8ea-37ec-4ba7-ade2-d3c656d49de1\", [{\"name\": \"\\u4ea4\\u4ed8\\u5ef6\\u671f\\u7387\", \"x\": [\"8-1\", \"8-2\", \"8-3\", \"8-4\", \"8-5\", \"9-1\", \"9-2\"], \"y\": [0.0, 0.0, 0.0, 0.0, 0.0, 0.0, 0.0], \"type\": \"scatter\", \"uid\": \"7fd14eb6-c147-11e8-a242-d89ef3991fb3\"}], {\"title\": \"\\u4ea4\\u4ed8\\u5ef6\\u671f\\u7387\\u5468\\u8d8b\\u52bf\\u56fe\", \"xaxis\": {\"mirror\": \"all\", \"nticks\": 20, \"showgrid\": true, \"showline\": true, \"title\": \"\\u5468\", \"zeroline\": true}, \"yaxis\": {\"mirror\": \"all\", \"nticks\": 20, \"showgrid\": true, \"showline\": true, \"title\": \"\\u4ea4\\u4ed8\\u5ef6\\u671f\\u7387\", \"zeroline\": true}}, {\"showLink\": true, \"linkText\": \"Export to plot.ly\"})});</script>"
      ],
      "text/vnd.plotly.v1+html": [
       "<div id=\"3c01b8ea-37ec-4ba7-ade2-d3c656d49de1\" style=\"height: 525px; width: 100%;\" class=\"plotly-graph-div\"></div><script type=\"text/javascript\">require([\"plotly\"], function(Plotly) { window.PLOTLYENV=window.PLOTLYENV || {};window.PLOTLYENV.BASE_URL=\"https://plot.ly\";Plotly.newPlot(\"3c01b8ea-37ec-4ba7-ade2-d3c656d49de1\", [{\"name\": \"\\u4ea4\\u4ed8\\u5ef6\\u671f\\u7387\", \"x\": [\"8-1\", \"8-2\", \"8-3\", \"8-4\", \"8-5\", \"9-1\", \"9-2\"], \"y\": [0.0, 0.0, 0.0, 0.0, 0.0, 0.0, 0.0], \"type\": \"scatter\", \"uid\": \"7fd14eb6-c147-11e8-a242-d89ef3991fb3\"}], {\"title\": \"\\u4ea4\\u4ed8\\u5ef6\\u671f\\u7387\\u5468\\u8d8b\\u52bf\\u56fe\", \"xaxis\": {\"mirror\": \"all\", \"nticks\": 20, \"showgrid\": true, \"showline\": true, \"title\": \"\\u5468\", \"zeroline\": true}, \"yaxis\": {\"mirror\": \"all\", \"nticks\": 20, \"showgrid\": true, \"showline\": true, \"title\": \"\\u4ea4\\u4ed8\\u5ef6\\u671f\\u7387\", \"zeroline\": true}}, {\"showLink\": true, \"linkText\": \"Export to plot.ly\"})});</script>"
      ]
     },
     "metadata": {},
     "output_type": "display_data"
    },
    {
     "data": {
      "application/vnd.plotly.v1+json": {
       "data": [
        {
         "name": "交付延期率",
         "type": "scatter",
         "uid": "7fd8268c-c147-11e8-8d3e-d89ef3991fb3",
         "x": [
          "8",
          "9"
         ],
         "y": [
          0,
          0
         ]
        }
       ],
       "layout": {
        "title": "交付延期率月趋势图",
        "xaxis": {
         "mirror": "all",
         "nticks": 20,
         "showgrid": true,
         "showline": true,
         "title": "月",
         "zeroline": true
        },
        "yaxis": {
         "mirror": "all",
         "nticks": 20,
         "showgrid": true,
         "showline": true,
         "title": "交付延期率",
         "zeroline": true
        }
       }
      },
      "text/html": [
       "<div id=\"55f6a19f-c249-46aa-ac0b-45419376b053\" style=\"height: 525px; width: 100%;\" class=\"plotly-graph-div\"></div><script type=\"text/javascript\">require([\"plotly\"], function(Plotly) { window.PLOTLYENV=window.PLOTLYENV || {};window.PLOTLYENV.BASE_URL=\"https://plot.ly\";Plotly.newPlot(\"55f6a19f-c249-46aa-ac0b-45419376b053\", [{\"name\": \"\\u4ea4\\u4ed8\\u5ef6\\u671f\\u7387\", \"x\": [\"8\", \"9\"], \"y\": [0.0, 0.0], \"type\": \"scatter\", \"uid\": \"7fd8268c-c147-11e8-8d3e-d89ef3991fb3\"}], {\"title\": \"\\u4ea4\\u4ed8\\u5ef6\\u671f\\u7387\\u6708\\u8d8b\\u52bf\\u56fe\", \"xaxis\": {\"mirror\": \"all\", \"nticks\": 20, \"showgrid\": true, \"showline\": true, \"title\": \"\\u6708\", \"zeroline\": true}, \"yaxis\": {\"mirror\": \"all\", \"nticks\": 20, \"showgrid\": true, \"showline\": true, \"title\": \"\\u4ea4\\u4ed8\\u5ef6\\u671f\\u7387\", \"zeroline\": true}}, {\"showLink\": true, \"linkText\": \"Export to plot.ly\"})});</script>"
      ],
      "text/vnd.plotly.v1+html": [
       "<div id=\"55f6a19f-c249-46aa-ac0b-45419376b053\" style=\"height: 525px; width: 100%;\" class=\"plotly-graph-div\"></div><script type=\"text/javascript\">require([\"plotly\"], function(Plotly) { window.PLOTLYENV=window.PLOTLYENV || {};window.PLOTLYENV.BASE_URL=\"https://plot.ly\";Plotly.newPlot(\"55f6a19f-c249-46aa-ac0b-45419376b053\", [{\"name\": \"\\u4ea4\\u4ed8\\u5ef6\\u671f\\u7387\", \"x\": [\"8\", \"9\"], \"y\": [0.0, 0.0], \"type\": \"scatter\", \"uid\": \"7fd8268c-c147-11e8-8d3e-d89ef3991fb3\"}], {\"title\": \"\\u4ea4\\u4ed8\\u5ef6\\u671f\\u7387\\u6708\\u8d8b\\u52bf\\u56fe\", \"xaxis\": {\"mirror\": \"all\", \"nticks\": 20, \"showgrid\": true, \"showline\": true, \"title\": \"\\u6708\", \"zeroline\": true}, \"yaxis\": {\"mirror\": \"all\", \"nticks\": 20, \"showgrid\": true, \"showline\": true, \"title\": \"\\u4ea4\\u4ed8\\u5ef6\\u671f\\u7387\", \"zeroline\": true}}, {\"showLink\": true, \"linkText\": \"Export to plot.ly\"})});</script>"
      ]
     },
     "metadata": {},
     "output_type": "display_data"
    }
   ],
   "source": [
    "data_dict = {'交付延期率':['交付延期率']}\n",
    "myModule.plot( all_dict, data_dict, '人员' ,  'line' , all='all')"
   ]
  },
  {
   "cell_type": "markdown",
   "metadata": {
    "collapsed": true
   },
   "source": [
    "## 个人情况"
   ]
  },
  {
   "cell_type": "markdown",
   "metadata": {},
   "source": [
    "### 完成项目数"
   ]
  },
  {
   "cell_type": "code",
   "execution_count": 70,
   "metadata": {},
   "outputs": [
    {
     "data": {
      "application/vnd.plotly.v1+json": {
       "data": [
        {
         "name": "车天栋_完成商业项目数",
         "type": "bar",
         "uid": "802e48f4-c147-11e8-badd-d89ef3991fb3",
         "x": [
          "8-1",
          "8-2",
          "8-3",
          "8-5",
          "9-1",
          "9-2"
         ],
         "y": [
          0,
          0,
          1,
          0,
          1,
          3
         ]
        },
        {
         "name": "车天栋_完成个性化数",
         "type": "bar",
         "uid": "802e48f5-c147-11e8-aa7b-d89ef3991fb3",
         "x": [
          "8-1",
          "8-2",
          "8-3",
          "8-5",
          "9-1",
          "9-2"
         ],
         "y": [
          0,
          0,
          0,
          0,
          1,
          1
         ]
        },
        {
         "name": "沈立群_完成商业项目数",
         "type": "bar",
         "uid": "802e48f6-c147-11e8-9665-d89ef3991fb3",
         "x": [
          "8-1",
          "8-2",
          "8-3",
          "8-5",
          "9-1",
          "9-2"
         ],
         "y": [
          0,
          0,
          1,
          2,
          0,
          0
         ]
        },
        {
         "name": "沈立群_完成个性化数",
         "type": "bar",
         "uid": "802e48f7-c147-11e8-92ef-d89ef3991fb3",
         "x": [
          "8-1",
          "8-2",
          "8-3",
          "8-5",
          "9-1",
          "9-2"
         ],
         "y": [
          0,
          0,
          0,
          0,
          1,
          0
         ]
        },
        {
         "name": "高剑_完成商业项目数",
         "type": "bar",
         "uid": "802e48f8-c147-11e8-a804-d89ef3991fb3",
         "x": [
          "8-1",
          "8-2",
          "8-3",
          "8-4",
          "8-5",
          "9-1",
          "9-2"
         ],
         "y": [
          2,
          3,
          0,
          1,
          2,
          0,
          0
         ]
        },
        {
         "name": "高剑_完成个性化数",
         "type": "bar",
         "uid": "802e48f9-c147-11e8-8a5a-d89ef3991fb3",
         "x": [
          "8-1",
          "8-2",
          "8-3",
          "8-4",
          "8-5",
          "9-1",
          "9-2"
         ],
         "y": [
          1,
          2,
          2,
          2,
          0,
          1,
          0
         ]
        },
        {
         "name": "王传文_完成商业项目数",
         "type": "bar",
         "uid": "802e48fa-c147-11e8-b3bc-d89ef3991fb3",
         "x": [
          "8-1",
          "8-2",
          "8-3",
          "8-5",
          "9-1",
          "9-2"
         ],
         "y": [
          0,
          0,
          0,
          1,
          0,
          1
         ]
        },
        {
         "name": "王传文_完成个性化数",
         "type": "bar",
         "uid": "802e48fb-c147-11e8-9923-d89ef3991fb3",
         "x": [
          "8-1",
          "8-2",
          "8-3",
          "8-5",
          "9-1",
          "9-2"
         ],
         "y": [
          0,
          0,
          0,
          0,
          1,
          0
         ]
        },
        {
         "name": "沈恩惠_完成商业项目数",
         "type": "bar",
         "uid": "802e48fc-c147-11e8-8ccd-d89ef3991fb3",
         "x": [
          "8-1",
          "8-2",
          "8-3",
          "8-5",
          "9-1",
          "9-2"
         ],
         "y": [
          0,
          0,
          1,
          1,
          0,
          2
         ]
        },
        {
         "name": "沈恩惠_完成个性化数",
         "type": "bar",
         "uid": "802e48fd-c147-11e8-b7c9-d89ef3991fb3",
         "x": [
          "8-1",
          "8-2",
          "8-3",
          "8-5",
          "9-1",
          "9-2"
         ],
         "y": [
          0,
          0,
          0,
          0,
          1,
          0
         ]
        },
        {
         "name": "林文文_完成商业项目数",
         "type": "bar",
         "uid": "802e48fe-c147-11e8-a346-d89ef3991fb3",
         "x": [
          "8-1",
          "8-2",
          "8-3",
          "8-5",
          "9-1",
          "9-2"
         ],
         "y": [
          2,
          2,
          2,
          5,
          5,
          1
         ]
        },
        {
         "name": "林文文_完成个性化数",
         "type": "bar",
         "uid": "802e48ff-c147-11e8-8a8a-d89ef3991fb3",
         "x": [
          "8-1",
          "8-2",
          "8-3",
          "8-5",
          "9-1",
          "9-2"
         ],
         "y": [
          2,
          0,
          0,
          1,
          1,
          1
         ]
        },
        {
         "name": "立群_完成商业项目数",
         "type": "bar",
         "uid": "802e4900-c147-11e8-8f82-d89ef3991fb3",
         "x": [
          "8-4"
         ],
         "y": [
          0
         ]
        },
        {
         "name": "立群_完成个性化数",
         "type": "bar",
         "uid": "802e4901-c147-11e8-9d04-d89ef3991fb3",
         "x": [
          "8-4"
         ],
         "y": [
          1
         ]
        },
        {
         "name": "天栋_完成商业项目数",
         "type": "bar",
         "uid": "802e4902-c147-11e8-ab7a-d89ef3991fb3",
         "x": [
          "8-4"
         ],
         "y": [
          1
         ]
        },
        {
         "name": "天栋_完成个性化数",
         "type": "bar",
         "uid": "802e4903-c147-11e8-815a-d89ef3991fb3",
         "x": [
          "8-4"
         ],
         "y": [
          0
         ]
        },
        {
         "name": "传文_完成商业项目数",
         "type": "bar",
         "uid": "802e4904-c147-11e8-8d24-d89ef3991fb3",
         "x": [
          "8-4"
         ],
         "y": [
          1
         ]
        },
        {
         "name": "传文_完成个性化数",
         "type": "bar",
         "uid": "802e4905-c147-11e8-8238-d89ef3991fb3",
         "x": [
          "8-4"
         ],
         "y": [
          1
         ]
        },
        {
         "name": "文文_完成商业项目数",
         "type": "bar",
         "uid": "802e4906-c147-11e8-afca-d89ef3991fb3",
         "x": [
          "8-4"
         ],
         "y": [
          2
         ]
        },
        {
         "name": "文文_完成个性化数",
         "type": "bar",
         "uid": "802e4907-c147-11e8-ba72-d89ef3991fb3",
         "x": [
          "8-4"
         ],
         "y": [
          1
         ]
        },
        {
         "name": "恩惠_完成商业项目数",
         "type": "bar",
         "uid": "802e4908-c147-11e8-b42c-d89ef3991fb3",
         "x": [
          "8-4"
         ],
         "y": [
          0
         ]
        },
        {
         "name": "恩惠_完成个性化数",
         "type": "bar",
         "uid": "802e4909-c147-11e8-9747-d89ef3991fb3",
         "x": [
          "8-4"
         ],
         "y": [
          0
         ]
        }
       ],
       "layout": {
        "title": "完成商业项目数&完成个性化数周趋势图",
        "xaxis": {
         "mirror": "all",
         "nticks": 20,
         "showgrid": true,
         "showline": true,
         "title": "周",
         "zeroline": true
        },
        "yaxis": {
         "mirror": "all",
         "nticks": 20,
         "showgrid": true,
         "showline": true,
         "title": "完成商业项目数&完成个性化数",
         "zeroline": true
        }
       }
      },
      "text/html": [
       "<div id=\"2252efc8-dd3a-4fa6-be46-03310ea9ba7c\" style=\"height: 525px; width: 100%;\" class=\"plotly-graph-div\"></div><script type=\"text/javascript\">require([\"plotly\"], function(Plotly) { window.PLOTLYENV=window.PLOTLYENV || {};window.PLOTLYENV.BASE_URL=\"https://plot.ly\";Plotly.newPlot(\"2252efc8-dd3a-4fa6-be46-03310ea9ba7c\", [{\"name\": \"\\u8f66\\u5929\\u680b_\\u5b8c\\u6210\\u5546\\u4e1a\\u9879\\u76ee\\u6570\", \"x\": [\"8-1\", \"8-2\", \"8-3\", \"8-5\", \"9-1\", \"9-2\"], \"y\": [0.0, 0.0, 1.0, 0.0, 1.0, 3.0], \"type\": \"bar\", \"uid\": \"802e48f4-c147-11e8-badd-d89ef3991fb3\"}, {\"name\": \"\\u8f66\\u5929\\u680b_\\u5b8c\\u6210\\u4e2a\\u6027\\u5316\\u6570\", \"x\": [\"8-1\", \"8-2\", \"8-3\", \"8-5\", \"9-1\", \"9-2\"], \"y\": [0.0, 0.0, 0.0, 0.0, 1.0, 1.0], \"type\": \"bar\", \"uid\": \"802e48f5-c147-11e8-aa7b-d89ef3991fb3\"}, {\"name\": \"\\u6c88\\u7acb\\u7fa4_\\u5b8c\\u6210\\u5546\\u4e1a\\u9879\\u76ee\\u6570\", \"x\": [\"8-1\", \"8-2\", \"8-3\", \"8-5\", \"9-1\", \"9-2\"], \"y\": [0.0, 0.0, 1.0, 2.0, 0.0, 0.0], \"type\": \"bar\", \"uid\": \"802e48f6-c147-11e8-9665-d89ef3991fb3\"}, {\"name\": \"\\u6c88\\u7acb\\u7fa4_\\u5b8c\\u6210\\u4e2a\\u6027\\u5316\\u6570\", \"x\": [\"8-1\", \"8-2\", \"8-3\", \"8-5\", \"9-1\", \"9-2\"], \"y\": [0.0, 0.0, 0.0, 0.0, 1.0, 0.0], \"type\": \"bar\", \"uid\": \"802e48f7-c147-11e8-92ef-d89ef3991fb3\"}, {\"name\": \"\\u9ad8\\u5251_\\u5b8c\\u6210\\u5546\\u4e1a\\u9879\\u76ee\\u6570\", \"x\": [\"8-1\", \"8-2\", \"8-3\", \"8-4\", \"8-5\", \"9-1\", \"9-2\"], \"y\": [2.0, 3.0, 0.0, 1.0, 2.0, 0.0, 0.0], \"type\": \"bar\", \"uid\": \"802e48f8-c147-11e8-a804-d89ef3991fb3\"}, {\"name\": \"\\u9ad8\\u5251_\\u5b8c\\u6210\\u4e2a\\u6027\\u5316\\u6570\", \"x\": [\"8-1\", \"8-2\", \"8-3\", \"8-4\", \"8-5\", \"9-1\", \"9-2\"], \"y\": [1.0, 2.0, 2.0, 2.0, 0.0, 1.0, 0.0], \"type\": \"bar\", \"uid\": \"802e48f9-c147-11e8-8a5a-d89ef3991fb3\"}, {\"name\": \"\\u738b\\u4f20\\u6587_\\u5b8c\\u6210\\u5546\\u4e1a\\u9879\\u76ee\\u6570\", \"x\": [\"8-1\", \"8-2\", \"8-3\", \"8-5\", \"9-1\", \"9-2\"], \"y\": [0.0, 0.0, 0.0, 1.0, 0.0, 1.0], \"type\": \"bar\", \"uid\": \"802e48fa-c147-11e8-b3bc-d89ef3991fb3\"}, {\"name\": \"\\u738b\\u4f20\\u6587_\\u5b8c\\u6210\\u4e2a\\u6027\\u5316\\u6570\", \"x\": [\"8-1\", \"8-2\", \"8-3\", \"8-5\", \"9-1\", \"9-2\"], \"y\": [0.0, 0.0, 0.0, 0.0, 1.0, 0.0], \"type\": \"bar\", \"uid\": \"802e48fb-c147-11e8-9923-d89ef3991fb3\"}, {\"name\": \"\\u6c88\\u6069\\u60e0_\\u5b8c\\u6210\\u5546\\u4e1a\\u9879\\u76ee\\u6570\", \"x\": [\"8-1\", \"8-2\", \"8-3\", \"8-5\", \"9-1\", \"9-2\"], \"y\": [0.0, 0.0, 1.0, 1.0, 0.0, 2.0], \"type\": \"bar\", \"uid\": \"802e48fc-c147-11e8-8ccd-d89ef3991fb3\"}, {\"name\": \"\\u6c88\\u6069\\u60e0_\\u5b8c\\u6210\\u4e2a\\u6027\\u5316\\u6570\", \"x\": [\"8-1\", \"8-2\", \"8-3\", \"8-5\", \"9-1\", \"9-2\"], \"y\": [0.0, 0.0, 0.0, 0.0, 1.0, 0.0], \"type\": \"bar\", \"uid\": \"802e48fd-c147-11e8-b7c9-d89ef3991fb3\"}, {\"name\": \"\\u6797\\u6587\\u6587_\\u5b8c\\u6210\\u5546\\u4e1a\\u9879\\u76ee\\u6570\", \"x\": [\"8-1\", \"8-2\", \"8-3\", \"8-5\", \"9-1\", \"9-2\"], \"y\": [2.0, 2.0, 2.0, 5.0, 5.0, 1.0], \"type\": \"bar\", \"uid\": \"802e48fe-c147-11e8-a346-d89ef3991fb3\"}, {\"name\": \"\\u6797\\u6587\\u6587_\\u5b8c\\u6210\\u4e2a\\u6027\\u5316\\u6570\", \"x\": [\"8-1\", \"8-2\", \"8-3\", \"8-5\", \"9-1\", \"9-2\"], \"y\": [2.0, 0.0, 0.0, 1.0, 1.0, 1.0], \"type\": \"bar\", \"uid\": \"802e48ff-c147-11e8-8a8a-d89ef3991fb3\"}, {\"name\": \"\\u7acb\\u7fa4_\\u5b8c\\u6210\\u5546\\u4e1a\\u9879\\u76ee\\u6570\", \"x\": [\"8-4\"], \"y\": [0.0], \"type\": \"bar\", \"uid\": \"802e4900-c147-11e8-8f82-d89ef3991fb3\"}, {\"name\": \"\\u7acb\\u7fa4_\\u5b8c\\u6210\\u4e2a\\u6027\\u5316\\u6570\", \"x\": [\"8-4\"], \"y\": [1.0], \"type\": \"bar\", \"uid\": \"802e4901-c147-11e8-9d04-d89ef3991fb3\"}, {\"name\": \"\\u5929\\u680b_\\u5b8c\\u6210\\u5546\\u4e1a\\u9879\\u76ee\\u6570\", \"x\": [\"8-4\"], \"y\": [1.0], \"type\": \"bar\", \"uid\": \"802e4902-c147-11e8-ab7a-d89ef3991fb3\"}, {\"name\": \"\\u5929\\u680b_\\u5b8c\\u6210\\u4e2a\\u6027\\u5316\\u6570\", \"x\": [\"8-4\"], \"y\": [0.0], \"type\": \"bar\", \"uid\": \"802e4903-c147-11e8-815a-d89ef3991fb3\"}, {\"name\": \"\\u4f20\\u6587_\\u5b8c\\u6210\\u5546\\u4e1a\\u9879\\u76ee\\u6570\", \"x\": [\"8-4\"], \"y\": [1.0], \"type\": \"bar\", \"uid\": \"802e4904-c147-11e8-8d24-d89ef3991fb3\"}, {\"name\": \"\\u4f20\\u6587_\\u5b8c\\u6210\\u4e2a\\u6027\\u5316\\u6570\", \"x\": [\"8-4\"], \"y\": [1.0], \"type\": \"bar\", \"uid\": \"802e4905-c147-11e8-8238-d89ef3991fb3\"}, {\"name\": \"\\u6587\\u6587_\\u5b8c\\u6210\\u5546\\u4e1a\\u9879\\u76ee\\u6570\", \"x\": [\"8-4\"], \"y\": [2.0], \"type\": \"bar\", \"uid\": \"802e4906-c147-11e8-afca-d89ef3991fb3\"}, {\"name\": \"\\u6587\\u6587_\\u5b8c\\u6210\\u4e2a\\u6027\\u5316\\u6570\", \"x\": [\"8-4\"], \"y\": [1.0], \"type\": \"bar\", \"uid\": \"802e4907-c147-11e8-ba72-d89ef3991fb3\"}, {\"name\": \"\\u6069\\u60e0_\\u5b8c\\u6210\\u5546\\u4e1a\\u9879\\u76ee\\u6570\", \"x\": [\"8-4\"], \"y\": [0.0], \"type\": \"bar\", \"uid\": \"802e4908-c147-11e8-b42c-d89ef3991fb3\"}, {\"name\": \"\\u6069\\u60e0_\\u5b8c\\u6210\\u4e2a\\u6027\\u5316\\u6570\", \"x\": [\"8-4\"], \"y\": [0.0], \"type\": \"bar\", \"uid\": \"802e4909-c147-11e8-9747-d89ef3991fb3\"}], {\"title\": \"\\u5b8c\\u6210\\u5546\\u4e1a\\u9879\\u76ee\\u6570&\\u5b8c\\u6210\\u4e2a\\u6027\\u5316\\u6570\\u5468\\u8d8b\\u52bf\\u56fe\", \"xaxis\": {\"mirror\": \"all\", \"nticks\": 20, \"showgrid\": true, \"showline\": true, \"title\": \"\\u5468\", \"zeroline\": true}, \"yaxis\": {\"mirror\": \"all\", \"nticks\": 20, \"showgrid\": true, \"showline\": true, \"title\": \"\\u5b8c\\u6210\\u5546\\u4e1a\\u9879\\u76ee\\u6570&\\u5b8c\\u6210\\u4e2a\\u6027\\u5316\\u6570\", \"zeroline\": true}}, {\"showLink\": true, \"linkText\": \"Export to plot.ly\"})});</script>"
      ],
      "text/vnd.plotly.v1+html": [
       "<div id=\"2252efc8-dd3a-4fa6-be46-03310ea9ba7c\" style=\"height: 525px; width: 100%;\" class=\"plotly-graph-div\"></div><script type=\"text/javascript\">require([\"plotly\"], function(Plotly) { window.PLOTLYENV=window.PLOTLYENV || {};window.PLOTLYENV.BASE_URL=\"https://plot.ly\";Plotly.newPlot(\"2252efc8-dd3a-4fa6-be46-03310ea9ba7c\", [{\"name\": \"\\u8f66\\u5929\\u680b_\\u5b8c\\u6210\\u5546\\u4e1a\\u9879\\u76ee\\u6570\", \"x\": [\"8-1\", \"8-2\", \"8-3\", \"8-5\", \"9-1\", \"9-2\"], \"y\": [0.0, 0.0, 1.0, 0.0, 1.0, 3.0], \"type\": \"bar\", \"uid\": \"802e48f4-c147-11e8-badd-d89ef3991fb3\"}, {\"name\": \"\\u8f66\\u5929\\u680b_\\u5b8c\\u6210\\u4e2a\\u6027\\u5316\\u6570\", \"x\": [\"8-1\", \"8-2\", \"8-3\", \"8-5\", \"9-1\", \"9-2\"], \"y\": [0.0, 0.0, 0.0, 0.0, 1.0, 1.0], \"type\": \"bar\", \"uid\": \"802e48f5-c147-11e8-aa7b-d89ef3991fb3\"}, {\"name\": \"\\u6c88\\u7acb\\u7fa4_\\u5b8c\\u6210\\u5546\\u4e1a\\u9879\\u76ee\\u6570\", \"x\": [\"8-1\", \"8-2\", \"8-3\", \"8-5\", \"9-1\", \"9-2\"], \"y\": [0.0, 0.0, 1.0, 2.0, 0.0, 0.0], \"type\": \"bar\", \"uid\": \"802e48f6-c147-11e8-9665-d89ef3991fb3\"}, {\"name\": \"\\u6c88\\u7acb\\u7fa4_\\u5b8c\\u6210\\u4e2a\\u6027\\u5316\\u6570\", \"x\": [\"8-1\", \"8-2\", \"8-3\", \"8-5\", \"9-1\", \"9-2\"], \"y\": [0.0, 0.0, 0.0, 0.0, 1.0, 0.0], \"type\": \"bar\", \"uid\": \"802e48f7-c147-11e8-92ef-d89ef3991fb3\"}, {\"name\": \"\\u9ad8\\u5251_\\u5b8c\\u6210\\u5546\\u4e1a\\u9879\\u76ee\\u6570\", \"x\": [\"8-1\", \"8-2\", \"8-3\", \"8-4\", \"8-5\", \"9-1\", \"9-2\"], \"y\": [2.0, 3.0, 0.0, 1.0, 2.0, 0.0, 0.0], \"type\": \"bar\", \"uid\": \"802e48f8-c147-11e8-a804-d89ef3991fb3\"}, {\"name\": \"\\u9ad8\\u5251_\\u5b8c\\u6210\\u4e2a\\u6027\\u5316\\u6570\", \"x\": [\"8-1\", \"8-2\", \"8-3\", \"8-4\", \"8-5\", \"9-1\", \"9-2\"], \"y\": [1.0, 2.0, 2.0, 2.0, 0.0, 1.0, 0.0], \"type\": \"bar\", \"uid\": \"802e48f9-c147-11e8-8a5a-d89ef3991fb3\"}, {\"name\": \"\\u738b\\u4f20\\u6587_\\u5b8c\\u6210\\u5546\\u4e1a\\u9879\\u76ee\\u6570\", \"x\": [\"8-1\", \"8-2\", \"8-3\", \"8-5\", \"9-1\", \"9-2\"], \"y\": [0.0, 0.0, 0.0, 1.0, 0.0, 1.0], \"type\": \"bar\", \"uid\": \"802e48fa-c147-11e8-b3bc-d89ef3991fb3\"}, {\"name\": \"\\u738b\\u4f20\\u6587_\\u5b8c\\u6210\\u4e2a\\u6027\\u5316\\u6570\", \"x\": [\"8-1\", \"8-2\", \"8-3\", \"8-5\", \"9-1\", \"9-2\"], \"y\": [0.0, 0.0, 0.0, 0.0, 1.0, 0.0], \"type\": \"bar\", \"uid\": \"802e48fb-c147-11e8-9923-d89ef3991fb3\"}, {\"name\": \"\\u6c88\\u6069\\u60e0_\\u5b8c\\u6210\\u5546\\u4e1a\\u9879\\u76ee\\u6570\", \"x\": [\"8-1\", \"8-2\", \"8-3\", \"8-5\", \"9-1\", \"9-2\"], \"y\": [0.0, 0.0, 1.0, 1.0, 0.0, 2.0], \"type\": \"bar\", \"uid\": \"802e48fc-c147-11e8-8ccd-d89ef3991fb3\"}, {\"name\": \"\\u6c88\\u6069\\u60e0_\\u5b8c\\u6210\\u4e2a\\u6027\\u5316\\u6570\", \"x\": [\"8-1\", \"8-2\", \"8-3\", \"8-5\", \"9-1\", \"9-2\"], \"y\": [0.0, 0.0, 0.0, 0.0, 1.0, 0.0], \"type\": \"bar\", \"uid\": \"802e48fd-c147-11e8-b7c9-d89ef3991fb3\"}, {\"name\": \"\\u6797\\u6587\\u6587_\\u5b8c\\u6210\\u5546\\u4e1a\\u9879\\u76ee\\u6570\", \"x\": [\"8-1\", \"8-2\", \"8-3\", \"8-5\", \"9-1\", \"9-2\"], \"y\": [2.0, 2.0, 2.0, 5.0, 5.0, 1.0], \"type\": \"bar\", \"uid\": \"802e48fe-c147-11e8-a346-d89ef3991fb3\"}, {\"name\": \"\\u6797\\u6587\\u6587_\\u5b8c\\u6210\\u4e2a\\u6027\\u5316\\u6570\", \"x\": [\"8-1\", \"8-2\", \"8-3\", \"8-5\", \"9-1\", \"9-2\"], \"y\": [2.0, 0.0, 0.0, 1.0, 1.0, 1.0], \"type\": \"bar\", \"uid\": \"802e48ff-c147-11e8-8a8a-d89ef3991fb3\"}, {\"name\": \"\\u7acb\\u7fa4_\\u5b8c\\u6210\\u5546\\u4e1a\\u9879\\u76ee\\u6570\", \"x\": [\"8-4\"], \"y\": [0.0], \"type\": \"bar\", \"uid\": \"802e4900-c147-11e8-8f82-d89ef3991fb3\"}, {\"name\": \"\\u7acb\\u7fa4_\\u5b8c\\u6210\\u4e2a\\u6027\\u5316\\u6570\", \"x\": [\"8-4\"], \"y\": [1.0], \"type\": \"bar\", \"uid\": \"802e4901-c147-11e8-9d04-d89ef3991fb3\"}, {\"name\": \"\\u5929\\u680b_\\u5b8c\\u6210\\u5546\\u4e1a\\u9879\\u76ee\\u6570\", \"x\": [\"8-4\"], \"y\": [1.0], \"type\": \"bar\", \"uid\": \"802e4902-c147-11e8-ab7a-d89ef3991fb3\"}, {\"name\": \"\\u5929\\u680b_\\u5b8c\\u6210\\u4e2a\\u6027\\u5316\\u6570\", \"x\": [\"8-4\"], \"y\": [0.0], \"type\": \"bar\", \"uid\": \"802e4903-c147-11e8-815a-d89ef3991fb3\"}, {\"name\": \"\\u4f20\\u6587_\\u5b8c\\u6210\\u5546\\u4e1a\\u9879\\u76ee\\u6570\", \"x\": [\"8-4\"], \"y\": [1.0], \"type\": \"bar\", \"uid\": \"802e4904-c147-11e8-8d24-d89ef3991fb3\"}, {\"name\": \"\\u4f20\\u6587_\\u5b8c\\u6210\\u4e2a\\u6027\\u5316\\u6570\", \"x\": [\"8-4\"], \"y\": [1.0], \"type\": \"bar\", \"uid\": \"802e4905-c147-11e8-8238-d89ef3991fb3\"}, {\"name\": \"\\u6587\\u6587_\\u5b8c\\u6210\\u5546\\u4e1a\\u9879\\u76ee\\u6570\", \"x\": [\"8-4\"], \"y\": [2.0], \"type\": \"bar\", \"uid\": \"802e4906-c147-11e8-afca-d89ef3991fb3\"}, {\"name\": \"\\u6587\\u6587_\\u5b8c\\u6210\\u4e2a\\u6027\\u5316\\u6570\", \"x\": [\"8-4\"], \"y\": [1.0], \"type\": \"bar\", \"uid\": \"802e4907-c147-11e8-ba72-d89ef3991fb3\"}, {\"name\": \"\\u6069\\u60e0_\\u5b8c\\u6210\\u5546\\u4e1a\\u9879\\u76ee\\u6570\", \"x\": [\"8-4\"], \"y\": [0.0], \"type\": \"bar\", \"uid\": \"802e4908-c147-11e8-b42c-d89ef3991fb3\"}, {\"name\": \"\\u6069\\u60e0_\\u5b8c\\u6210\\u4e2a\\u6027\\u5316\\u6570\", \"x\": [\"8-4\"], \"y\": [0.0], \"type\": \"bar\", \"uid\": \"802e4909-c147-11e8-9747-d89ef3991fb3\"}], {\"title\": \"\\u5b8c\\u6210\\u5546\\u4e1a\\u9879\\u76ee\\u6570&\\u5b8c\\u6210\\u4e2a\\u6027\\u5316\\u6570\\u5468\\u8d8b\\u52bf\\u56fe\", \"xaxis\": {\"mirror\": \"all\", \"nticks\": 20, \"showgrid\": true, \"showline\": true, \"title\": \"\\u5468\", \"zeroline\": true}, \"yaxis\": {\"mirror\": \"all\", \"nticks\": 20, \"showgrid\": true, \"showline\": true, \"title\": \"\\u5b8c\\u6210\\u5546\\u4e1a\\u9879\\u76ee\\u6570&\\u5b8c\\u6210\\u4e2a\\u6027\\u5316\\u6570\", \"zeroline\": true}}, {\"showLink\": true, \"linkText\": \"Export to plot.ly\"})});</script>"
      ]
     },
     "metadata": {},
     "output_type": "display_data"
    },
    {
     "data": {
      "application/vnd.plotly.v1+json": {
       "data": [
        {
         "name": "传文_完成商业项目数",
         "type": "bar",
         "uid": "80525a14-c147-11e8-bb8b-d89ef3991fb3",
         "x": [
          "8"
         ],
         "y": [
          null
         ]
        },
        {
         "name": "传文_完成个性化数",
         "type": "bar",
         "uid": "80525a15-c147-11e8-bfd4-d89ef3991fb3",
         "x": [
          "8"
         ],
         "y": [
          null
         ]
        },
        {
         "name": "天栋_完成商业项目数",
         "type": "bar",
         "uid": "80525a16-c147-11e8-8daa-d89ef3991fb3",
         "x": [
          "8"
         ],
         "y": [
          null
         ]
        },
        {
         "name": "天栋_完成个性化数",
         "type": "bar",
         "uid": "80525a17-c147-11e8-bd36-d89ef3991fb3",
         "x": [
          "8"
         ],
         "y": [
          null
         ]
        },
        {
         "name": "恩惠_完成商业项目数",
         "type": "bar",
         "uid": "80525a18-c147-11e8-8672-d89ef3991fb3",
         "x": [
          "8"
         ],
         "y": [
          null
         ]
        },
        {
         "name": "恩惠_完成个性化数",
         "type": "bar",
         "uid": "80525a19-c147-11e8-83d1-d89ef3991fb3",
         "x": [
          "8"
         ],
         "y": [
          null
         ]
        },
        {
         "name": "文文_完成商业项目数",
         "type": "bar",
         "uid": "80525a1a-c147-11e8-9814-d89ef3991fb3",
         "x": [
          "8"
         ],
         "y": [
          null
         ]
        },
        {
         "name": "文文_完成个性化数",
         "type": "bar",
         "uid": "80525a1b-c147-11e8-b10f-d89ef3991fb3",
         "x": [
          "8"
         ],
         "y": [
          null
         ]
        },
        {
         "name": "林文文_完成商业项目数",
         "type": "bar",
         "uid": "80525a1c-c147-11e8-ab2f-d89ef3991fb3",
         "x": [
          "8",
          "9"
         ],
         "y": [
          null,
          6
         ]
        },
        {
         "name": "林文文_完成个性化数",
         "type": "bar",
         "uid": "80525a1d-c147-11e8-964a-d89ef3991fb3",
         "x": [
          "8",
          "9"
         ],
         "y": [
          null,
          2
         ]
        },
        {
         "name": "沈恩惠_完成商业项目数",
         "type": "bar",
         "uid": "80525a1e-c147-11e8-ab7b-d89ef3991fb3",
         "x": [
          "8",
          "9"
         ],
         "y": [
          null,
          2
         ]
        },
        {
         "name": "沈恩惠_完成个性化数",
         "type": "bar",
         "uid": "80525a1f-c147-11e8-a274-d89ef3991fb3",
         "x": [
          "8",
          "9"
         ],
         "y": [
          null,
          1
         ]
        },
        {
         "name": "沈立群_完成商业项目数",
         "type": "bar",
         "uid": "80525a20-c147-11e8-b558-d89ef3991fb3",
         "x": [
          "8",
          "9"
         ],
         "y": [
          null,
          0
         ]
        },
        {
         "name": "沈立群_完成个性化数",
         "type": "bar",
         "uid": "80525a21-c147-11e8-a2e6-d89ef3991fb3",
         "x": [
          "8",
          "9"
         ],
         "y": [
          null,
          1
         ]
        },
        {
         "name": "王传文_完成商业项目数",
         "type": "bar",
         "uid": "80525a22-c147-11e8-8f3d-d89ef3991fb3",
         "x": [
          "8",
          "9"
         ],
         "y": [
          null,
          1
         ]
        },
        {
         "name": "王传文_完成个性化数",
         "type": "bar",
         "uid": "80525a23-c147-11e8-ba73-d89ef3991fb3",
         "x": [
          "8",
          "9"
         ],
         "y": [
          null,
          1
         ]
        },
        {
         "name": "立群_完成商业项目数",
         "type": "bar",
         "uid": "80525a24-c147-11e8-9f86-d89ef3991fb3",
         "x": [
          "8"
         ],
         "y": [
          null
         ]
        },
        {
         "name": "立群_完成个性化数",
         "type": "bar",
         "uid": "80525a25-c147-11e8-82d0-d89ef3991fb3",
         "x": [
          "8"
         ],
         "y": [
          null
         ]
        },
        {
         "name": "车天栋_完成商业项目数",
         "type": "bar",
         "uid": "80525a26-c147-11e8-b26a-d89ef3991fb3",
         "x": [
          "8",
          "9"
         ],
         "y": [
          null,
          4
         ]
        },
        {
         "name": "车天栋_完成个性化数",
         "type": "bar",
         "uid": "80525a27-c147-11e8-aebd-d89ef3991fb3",
         "x": [
          "8",
          "9"
         ],
         "y": [
          null,
          2
         ]
        },
        {
         "name": "高剑_完成商业项目数",
         "type": "bar",
         "uid": "80525a28-c147-11e8-973e-d89ef3991fb3",
         "x": [
          "8",
          "9"
         ],
         "y": [
          8,
          0
         ]
        },
        {
         "name": "高剑_完成个性化数",
         "type": "bar",
         "uid": "80525a29-c147-11e8-bbeb-d89ef3991fb3",
         "x": [
          "8",
          "9"
         ],
         "y": [
          7,
          1
         ]
        }
       ],
       "layout": {
        "title": "完成商业项目数&完成个性化数月趋势图",
        "xaxis": {
         "mirror": "all",
         "nticks": 20,
         "showgrid": true,
         "showline": true,
         "title": "月",
         "zeroline": true
        },
        "yaxis": {
         "mirror": "all",
         "nticks": 20,
         "showgrid": true,
         "showline": true,
         "title": "完成商业项目数&完成个性化数",
         "zeroline": true
        }
       }
      },
      "text/html": [
       "<div id=\"3a5fa42c-739e-4bbd-bfd1-d7e4632d7eec\" style=\"height: 525px; width: 100%;\" class=\"plotly-graph-div\"></div><script type=\"text/javascript\">require([\"plotly\"], function(Plotly) { window.PLOTLYENV=window.PLOTLYENV || {};window.PLOTLYENV.BASE_URL=\"https://plot.ly\";Plotly.newPlot(\"3a5fa42c-739e-4bbd-bfd1-d7e4632d7eec\", [{\"name\": \"\\u4f20\\u6587_\\u5b8c\\u6210\\u5546\\u4e1a\\u9879\\u76ee\\u6570\", \"x\": [\"8\"], \"y\": [null], \"type\": \"bar\", \"uid\": \"80525a14-c147-11e8-bb8b-d89ef3991fb3\"}, {\"name\": \"\\u4f20\\u6587_\\u5b8c\\u6210\\u4e2a\\u6027\\u5316\\u6570\", \"x\": [\"8\"], \"y\": [null], \"type\": \"bar\", \"uid\": \"80525a15-c147-11e8-bfd4-d89ef3991fb3\"}, {\"name\": \"\\u5929\\u680b_\\u5b8c\\u6210\\u5546\\u4e1a\\u9879\\u76ee\\u6570\", \"x\": [\"8\"], \"y\": [null], \"type\": \"bar\", \"uid\": \"80525a16-c147-11e8-8daa-d89ef3991fb3\"}, {\"name\": \"\\u5929\\u680b_\\u5b8c\\u6210\\u4e2a\\u6027\\u5316\\u6570\", \"x\": [\"8\"], \"y\": [null], \"type\": \"bar\", \"uid\": \"80525a17-c147-11e8-bd36-d89ef3991fb3\"}, {\"name\": \"\\u6069\\u60e0_\\u5b8c\\u6210\\u5546\\u4e1a\\u9879\\u76ee\\u6570\", \"x\": [\"8\"], \"y\": [null], \"type\": \"bar\", \"uid\": \"80525a18-c147-11e8-8672-d89ef3991fb3\"}, {\"name\": \"\\u6069\\u60e0_\\u5b8c\\u6210\\u4e2a\\u6027\\u5316\\u6570\", \"x\": [\"8\"], \"y\": [null], \"type\": \"bar\", \"uid\": \"80525a19-c147-11e8-83d1-d89ef3991fb3\"}, {\"name\": \"\\u6587\\u6587_\\u5b8c\\u6210\\u5546\\u4e1a\\u9879\\u76ee\\u6570\", \"x\": [\"8\"], \"y\": [null], \"type\": \"bar\", \"uid\": \"80525a1a-c147-11e8-9814-d89ef3991fb3\"}, {\"name\": \"\\u6587\\u6587_\\u5b8c\\u6210\\u4e2a\\u6027\\u5316\\u6570\", \"x\": [\"8\"], \"y\": [null], \"type\": \"bar\", \"uid\": \"80525a1b-c147-11e8-b10f-d89ef3991fb3\"}, {\"name\": \"\\u6797\\u6587\\u6587_\\u5b8c\\u6210\\u5546\\u4e1a\\u9879\\u76ee\\u6570\", \"x\": [\"8\", \"9\"], \"y\": [null, 6.0], \"type\": \"bar\", \"uid\": \"80525a1c-c147-11e8-ab2f-d89ef3991fb3\"}, {\"name\": \"\\u6797\\u6587\\u6587_\\u5b8c\\u6210\\u4e2a\\u6027\\u5316\\u6570\", \"x\": [\"8\", \"9\"], \"y\": [null, 2.0], \"type\": \"bar\", \"uid\": \"80525a1d-c147-11e8-964a-d89ef3991fb3\"}, {\"name\": \"\\u6c88\\u6069\\u60e0_\\u5b8c\\u6210\\u5546\\u4e1a\\u9879\\u76ee\\u6570\", \"x\": [\"8\", \"9\"], \"y\": [null, 2.0], \"type\": \"bar\", \"uid\": \"80525a1e-c147-11e8-ab7b-d89ef3991fb3\"}, {\"name\": \"\\u6c88\\u6069\\u60e0_\\u5b8c\\u6210\\u4e2a\\u6027\\u5316\\u6570\", \"x\": [\"8\", \"9\"], \"y\": [null, 1.0], \"type\": \"bar\", \"uid\": \"80525a1f-c147-11e8-a274-d89ef3991fb3\"}, {\"name\": \"\\u6c88\\u7acb\\u7fa4_\\u5b8c\\u6210\\u5546\\u4e1a\\u9879\\u76ee\\u6570\", \"x\": [\"8\", \"9\"], \"y\": [null, 0.0], \"type\": \"bar\", \"uid\": \"80525a20-c147-11e8-b558-d89ef3991fb3\"}, {\"name\": \"\\u6c88\\u7acb\\u7fa4_\\u5b8c\\u6210\\u4e2a\\u6027\\u5316\\u6570\", \"x\": [\"8\", \"9\"], \"y\": [null, 1.0], \"type\": \"bar\", \"uid\": \"80525a21-c147-11e8-a2e6-d89ef3991fb3\"}, {\"name\": \"\\u738b\\u4f20\\u6587_\\u5b8c\\u6210\\u5546\\u4e1a\\u9879\\u76ee\\u6570\", \"x\": [\"8\", \"9\"], \"y\": [null, 1.0], \"type\": \"bar\", \"uid\": \"80525a22-c147-11e8-8f3d-d89ef3991fb3\"}, {\"name\": \"\\u738b\\u4f20\\u6587_\\u5b8c\\u6210\\u4e2a\\u6027\\u5316\\u6570\", \"x\": [\"8\", \"9\"], \"y\": [null, 1.0], \"type\": \"bar\", \"uid\": \"80525a23-c147-11e8-ba73-d89ef3991fb3\"}, {\"name\": \"\\u7acb\\u7fa4_\\u5b8c\\u6210\\u5546\\u4e1a\\u9879\\u76ee\\u6570\", \"x\": [\"8\"], \"y\": [null], \"type\": \"bar\", \"uid\": \"80525a24-c147-11e8-9f86-d89ef3991fb3\"}, {\"name\": \"\\u7acb\\u7fa4_\\u5b8c\\u6210\\u4e2a\\u6027\\u5316\\u6570\", \"x\": [\"8\"], \"y\": [null], \"type\": \"bar\", \"uid\": \"80525a25-c147-11e8-82d0-d89ef3991fb3\"}, {\"name\": \"\\u8f66\\u5929\\u680b_\\u5b8c\\u6210\\u5546\\u4e1a\\u9879\\u76ee\\u6570\", \"x\": [\"8\", \"9\"], \"y\": [null, 4.0], \"type\": \"bar\", \"uid\": \"80525a26-c147-11e8-b26a-d89ef3991fb3\"}, {\"name\": \"\\u8f66\\u5929\\u680b_\\u5b8c\\u6210\\u4e2a\\u6027\\u5316\\u6570\", \"x\": [\"8\", \"9\"], \"y\": [null, 2.0], \"type\": \"bar\", \"uid\": \"80525a27-c147-11e8-aebd-d89ef3991fb3\"}, {\"name\": \"\\u9ad8\\u5251_\\u5b8c\\u6210\\u5546\\u4e1a\\u9879\\u76ee\\u6570\", \"x\": [\"8\", \"9\"], \"y\": [8.0, 0.0], \"type\": \"bar\", \"uid\": \"80525a28-c147-11e8-973e-d89ef3991fb3\"}, {\"name\": \"\\u9ad8\\u5251_\\u5b8c\\u6210\\u4e2a\\u6027\\u5316\\u6570\", \"x\": [\"8\", \"9\"], \"y\": [7.0, 1.0], \"type\": \"bar\", \"uid\": \"80525a29-c147-11e8-bbeb-d89ef3991fb3\"}], {\"title\": \"\\u5b8c\\u6210\\u5546\\u4e1a\\u9879\\u76ee\\u6570&\\u5b8c\\u6210\\u4e2a\\u6027\\u5316\\u6570\\u6708\\u8d8b\\u52bf\\u56fe\", \"xaxis\": {\"mirror\": \"all\", \"nticks\": 20, \"showgrid\": true, \"showline\": true, \"title\": \"\\u6708\", \"zeroline\": true}, \"yaxis\": {\"mirror\": \"all\", \"nticks\": 20, \"showgrid\": true, \"showline\": true, \"title\": \"\\u5b8c\\u6210\\u5546\\u4e1a\\u9879\\u76ee\\u6570&\\u5b8c\\u6210\\u4e2a\\u6027\\u5316\\u6570\", \"zeroline\": true}}, {\"showLink\": true, \"linkText\": \"Export to plot.ly\"})});</script>"
      ],
      "text/vnd.plotly.v1+html": [
       "<div id=\"3a5fa42c-739e-4bbd-bfd1-d7e4632d7eec\" style=\"height: 525px; width: 100%;\" class=\"plotly-graph-div\"></div><script type=\"text/javascript\">require([\"plotly\"], function(Plotly) { window.PLOTLYENV=window.PLOTLYENV || {};window.PLOTLYENV.BASE_URL=\"https://plot.ly\";Plotly.newPlot(\"3a5fa42c-739e-4bbd-bfd1-d7e4632d7eec\", [{\"name\": \"\\u4f20\\u6587_\\u5b8c\\u6210\\u5546\\u4e1a\\u9879\\u76ee\\u6570\", \"x\": [\"8\"], \"y\": [null], \"type\": \"bar\", \"uid\": \"80525a14-c147-11e8-bb8b-d89ef3991fb3\"}, {\"name\": \"\\u4f20\\u6587_\\u5b8c\\u6210\\u4e2a\\u6027\\u5316\\u6570\", \"x\": [\"8\"], \"y\": [null], \"type\": \"bar\", \"uid\": \"80525a15-c147-11e8-bfd4-d89ef3991fb3\"}, {\"name\": \"\\u5929\\u680b_\\u5b8c\\u6210\\u5546\\u4e1a\\u9879\\u76ee\\u6570\", \"x\": [\"8\"], \"y\": [null], \"type\": \"bar\", \"uid\": \"80525a16-c147-11e8-8daa-d89ef3991fb3\"}, {\"name\": \"\\u5929\\u680b_\\u5b8c\\u6210\\u4e2a\\u6027\\u5316\\u6570\", \"x\": [\"8\"], \"y\": [null], \"type\": \"bar\", \"uid\": \"80525a17-c147-11e8-bd36-d89ef3991fb3\"}, {\"name\": \"\\u6069\\u60e0_\\u5b8c\\u6210\\u5546\\u4e1a\\u9879\\u76ee\\u6570\", \"x\": [\"8\"], \"y\": [null], \"type\": \"bar\", \"uid\": \"80525a18-c147-11e8-8672-d89ef3991fb3\"}, {\"name\": \"\\u6069\\u60e0_\\u5b8c\\u6210\\u4e2a\\u6027\\u5316\\u6570\", \"x\": [\"8\"], \"y\": [null], \"type\": \"bar\", \"uid\": \"80525a19-c147-11e8-83d1-d89ef3991fb3\"}, {\"name\": \"\\u6587\\u6587_\\u5b8c\\u6210\\u5546\\u4e1a\\u9879\\u76ee\\u6570\", \"x\": [\"8\"], \"y\": [null], \"type\": \"bar\", \"uid\": \"80525a1a-c147-11e8-9814-d89ef3991fb3\"}, {\"name\": \"\\u6587\\u6587_\\u5b8c\\u6210\\u4e2a\\u6027\\u5316\\u6570\", \"x\": [\"8\"], \"y\": [null], \"type\": \"bar\", \"uid\": \"80525a1b-c147-11e8-b10f-d89ef3991fb3\"}, {\"name\": \"\\u6797\\u6587\\u6587_\\u5b8c\\u6210\\u5546\\u4e1a\\u9879\\u76ee\\u6570\", \"x\": [\"8\", \"9\"], \"y\": [null, 6.0], \"type\": \"bar\", \"uid\": \"80525a1c-c147-11e8-ab2f-d89ef3991fb3\"}, {\"name\": \"\\u6797\\u6587\\u6587_\\u5b8c\\u6210\\u4e2a\\u6027\\u5316\\u6570\", \"x\": [\"8\", \"9\"], \"y\": [null, 2.0], \"type\": \"bar\", \"uid\": \"80525a1d-c147-11e8-964a-d89ef3991fb3\"}, {\"name\": \"\\u6c88\\u6069\\u60e0_\\u5b8c\\u6210\\u5546\\u4e1a\\u9879\\u76ee\\u6570\", \"x\": [\"8\", \"9\"], \"y\": [null, 2.0], \"type\": \"bar\", \"uid\": \"80525a1e-c147-11e8-ab7b-d89ef3991fb3\"}, {\"name\": \"\\u6c88\\u6069\\u60e0_\\u5b8c\\u6210\\u4e2a\\u6027\\u5316\\u6570\", \"x\": [\"8\", \"9\"], \"y\": [null, 1.0], \"type\": \"bar\", \"uid\": \"80525a1f-c147-11e8-a274-d89ef3991fb3\"}, {\"name\": \"\\u6c88\\u7acb\\u7fa4_\\u5b8c\\u6210\\u5546\\u4e1a\\u9879\\u76ee\\u6570\", \"x\": [\"8\", \"9\"], \"y\": [null, 0.0], \"type\": \"bar\", \"uid\": \"80525a20-c147-11e8-b558-d89ef3991fb3\"}, {\"name\": \"\\u6c88\\u7acb\\u7fa4_\\u5b8c\\u6210\\u4e2a\\u6027\\u5316\\u6570\", \"x\": [\"8\", \"9\"], \"y\": [null, 1.0], \"type\": \"bar\", \"uid\": \"80525a21-c147-11e8-a2e6-d89ef3991fb3\"}, {\"name\": \"\\u738b\\u4f20\\u6587_\\u5b8c\\u6210\\u5546\\u4e1a\\u9879\\u76ee\\u6570\", \"x\": [\"8\", \"9\"], \"y\": [null, 1.0], \"type\": \"bar\", \"uid\": \"80525a22-c147-11e8-8f3d-d89ef3991fb3\"}, {\"name\": \"\\u738b\\u4f20\\u6587_\\u5b8c\\u6210\\u4e2a\\u6027\\u5316\\u6570\", \"x\": [\"8\", \"9\"], \"y\": [null, 1.0], \"type\": \"bar\", \"uid\": \"80525a23-c147-11e8-ba73-d89ef3991fb3\"}, {\"name\": \"\\u7acb\\u7fa4_\\u5b8c\\u6210\\u5546\\u4e1a\\u9879\\u76ee\\u6570\", \"x\": [\"8\"], \"y\": [null], \"type\": \"bar\", \"uid\": \"80525a24-c147-11e8-9f86-d89ef3991fb3\"}, {\"name\": \"\\u7acb\\u7fa4_\\u5b8c\\u6210\\u4e2a\\u6027\\u5316\\u6570\", \"x\": [\"8\"], \"y\": [null], \"type\": \"bar\", \"uid\": \"80525a25-c147-11e8-82d0-d89ef3991fb3\"}, {\"name\": \"\\u8f66\\u5929\\u680b_\\u5b8c\\u6210\\u5546\\u4e1a\\u9879\\u76ee\\u6570\", \"x\": [\"8\", \"9\"], \"y\": [null, 4.0], \"type\": \"bar\", \"uid\": \"80525a26-c147-11e8-b26a-d89ef3991fb3\"}, {\"name\": \"\\u8f66\\u5929\\u680b_\\u5b8c\\u6210\\u4e2a\\u6027\\u5316\\u6570\", \"x\": [\"8\", \"9\"], \"y\": [null, 2.0], \"type\": \"bar\", \"uid\": \"80525a27-c147-11e8-aebd-d89ef3991fb3\"}, {\"name\": \"\\u9ad8\\u5251_\\u5b8c\\u6210\\u5546\\u4e1a\\u9879\\u76ee\\u6570\", \"x\": [\"8\", \"9\"], \"y\": [8.0, 0.0], \"type\": \"bar\", \"uid\": \"80525a28-c147-11e8-973e-d89ef3991fb3\"}, {\"name\": \"\\u9ad8\\u5251_\\u5b8c\\u6210\\u4e2a\\u6027\\u5316\\u6570\", \"x\": [\"8\", \"9\"], \"y\": [7.0, 1.0], \"type\": \"bar\", \"uid\": \"80525a29-c147-11e8-bbeb-d89ef3991fb3\"}], {\"title\": \"\\u5b8c\\u6210\\u5546\\u4e1a\\u9879\\u76ee\\u6570&\\u5b8c\\u6210\\u4e2a\\u6027\\u5316\\u6570\\u6708\\u8d8b\\u52bf\\u56fe\", \"xaxis\": {\"mirror\": \"all\", \"nticks\": 20, \"showgrid\": true, \"showline\": true, \"title\": \"\\u6708\", \"zeroline\": true}, \"yaxis\": {\"mirror\": \"all\", \"nticks\": 20, \"showgrid\": true, \"showline\": true, \"title\": \"\\u5b8c\\u6210\\u5546\\u4e1a\\u9879\\u76ee\\u6570&\\u5b8c\\u6210\\u4e2a\\u6027\\u5316\\u6570\", \"zeroline\": true}}, {\"showLink\": true, \"linkText\": \"Export to plot.ly\"})});</script>"
      ]
     },
     "metadata": {},
     "output_type": "display_data"
    }
   ],
   "source": [
    "data_dict = {'完成商业项目数':['完成商业项目数'], '完成个性化数':['完成个性化数']}\n",
    "myModule.plot( all_dict, data_dict, '人员' ,  'bar')"
   ]
  },
  {
   "cell_type": "markdown",
   "metadata": {},
   "source": [
    "### 延期项目数"
   ]
  },
  {
   "cell_type": "code",
   "execution_count": 71,
   "metadata": {},
   "outputs": [
    {
     "data": {
      "application/vnd.plotly.v1+json": {
       "data": [
        {
         "name": "车天栋_延期商业项目数",
         "type": "bar",
         "uid": "809aca36-c147-11e8-b71e-d89ef3991fb3",
         "x": [
          "8-1",
          "8-2",
          "8-3",
          "8-5",
          "9-1",
          "9-2"
         ],
         "y": [
          0,
          0,
          0,
          0,
          0,
          0
         ]
        },
        {
         "name": "车天栋_延期个性化项目数",
         "type": "bar",
         "uid": "809aca37-c147-11e8-8dd0-d89ef3991fb3",
         "x": [
          "8-1",
          "8-2",
          "8-3",
          "8-5",
          "9-1",
          "9-2"
         ],
         "y": [
          0,
          0,
          0,
          0,
          0,
          0
         ]
        },
        {
         "name": "沈立群_延期商业项目数",
         "type": "bar",
         "uid": "809aca38-c147-11e8-b8e7-d89ef3991fb3",
         "x": [
          "8-1",
          "8-2",
          "8-3",
          "8-5",
          "9-1",
          "9-2"
         ],
         "y": [
          0,
          0,
          0,
          0,
          0,
          0
         ]
        },
        {
         "name": "沈立群_延期个性化项目数",
         "type": "bar",
         "uid": "809aca39-c147-11e8-ba5e-d89ef3991fb3",
         "x": [
          "8-1",
          "8-2",
          "8-3",
          "8-5",
          "9-1",
          "9-2"
         ],
         "y": [
          0,
          0,
          0,
          0,
          0,
          0
         ]
        },
        {
         "name": "高剑_延期商业项目数",
         "type": "bar",
         "uid": "809aca3a-c147-11e8-93b2-d89ef3991fb3",
         "x": [
          "8-1",
          "8-2",
          "8-3",
          "8-4",
          "8-5",
          "9-1",
          "9-2"
         ],
         "y": [
          0,
          0,
          0,
          0,
          0,
          0,
          0
         ]
        },
        {
         "name": "高剑_延期个性化项目数",
         "type": "bar",
         "uid": "809aca3b-c147-11e8-98d3-d89ef3991fb3",
         "x": [
          "8-1",
          "8-2",
          "8-3",
          "8-4",
          "8-5",
          "9-1",
          "9-2"
         ],
         "y": [
          0,
          0,
          0,
          0,
          0,
          0,
          0
         ]
        },
        {
         "name": "王传文_延期商业项目数",
         "type": "bar",
         "uid": "809aca3c-c147-11e8-8ae3-d89ef3991fb3",
         "x": [
          "8-1",
          "8-2",
          "8-3",
          "8-5",
          "9-1",
          "9-2"
         ],
         "y": [
          0,
          0,
          0,
          0,
          0,
          0
         ]
        },
        {
         "name": "王传文_延期个性化项目数",
         "type": "bar",
         "uid": "809aca3d-c147-11e8-a3bb-d89ef3991fb3",
         "x": [
          "8-1",
          "8-2",
          "8-3",
          "8-5",
          "9-1",
          "9-2"
         ],
         "y": [
          0,
          0,
          0,
          0,
          0,
          0
         ]
        },
        {
         "name": "沈恩惠_延期商业项目数",
         "type": "bar",
         "uid": "809aca3e-c147-11e8-92ea-d89ef3991fb3",
         "x": [
          "8-1",
          "8-2",
          "8-3",
          "8-5",
          "9-1",
          "9-2"
         ],
         "y": [
          0,
          0,
          0,
          0,
          0,
          1
         ]
        },
        {
         "name": "沈恩惠_延期个性化项目数",
         "type": "bar",
         "uid": "809aca3f-c147-11e8-80e2-d89ef3991fb3",
         "x": [
          "8-1",
          "8-2",
          "8-3",
          "8-5",
          "9-1",
          "9-2"
         ],
         "y": [
          0,
          0,
          0,
          0,
          0,
          0
         ]
        },
        {
         "name": "林文文_延期商业项目数",
         "type": "bar",
         "uid": "809aca40-c147-11e8-bdf8-d89ef3991fb3",
         "x": [
          "8-1",
          "8-2",
          "8-3",
          "8-5",
          "9-1",
          "9-2"
         ],
         "y": [
          0,
          0,
          0,
          0,
          0,
          1
         ]
        },
        {
         "name": "林文文_延期个性化项目数",
         "type": "bar",
         "uid": "809aca41-c147-11e8-9a53-d89ef3991fb3",
         "x": [
          "8-1",
          "8-2",
          "8-3",
          "8-5",
          "9-1",
          "9-2"
         ],
         "y": [
          0,
          0,
          0,
          0,
          0,
          0
         ]
        },
        {
         "name": "立群_延期商业项目数",
         "type": "bar",
         "uid": "809aca42-c147-11e8-945a-d89ef3991fb3",
         "x": [
          "8-4"
         ],
         "y": [
          0
         ]
        },
        {
         "name": "立群_延期个性化项目数",
         "type": "bar",
         "uid": "809aca43-c147-11e8-b154-d89ef3991fb3",
         "x": [
          "8-4"
         ],
         "y": [
          0
         ]
        },
        {
         "name": "天栋_延期商业项目数",
         "type": "bar",
         "uid": "809aca44-c147-11e8-9f0c-d89ef3991fb3",
         "x": [
          "8-4"
         ],
         "y": [
          0
         ]
        },
        {
         "name": "天栋_延期个性化项目数",
         "type": "bar",
         "uid": "809aca45-c147-11e8-b3cc-d89ef3991fb3",
         "x": [
          "8-4"
         ],
         "y": [
          0
         ]
        },
        {
         "name": "传文_延期商业项目数",
         "type": "bar",
         "uid": "809aca46-c147-11e8-9cd5-d89ef3991fb3",
         "x": [
          "8-4"
         ],
         "y": [
          0
         ]
        },
        {
         "name": "传文_延期个性化项目数",
         "type": "bar",
         "uid": "809aca47-c147-11e8-a619-d89ef3991fb3",
         "x": [
          "8-4"
         ],
         "y": [
          0
         ]
        },
        {
         "name": "文文_延期商业项目数",
         "type": "bar",
         "uid": "809aca48-c147-11e8-aeaa-d89ef3991fb3",
         "x": [
          "8-4"
         ],
         "y": [
          0
         ]
        },
        {
         "name": "文文_延期个性化项目数",
         "type": "bar",
         "uid": "809aca49-c147-11e8-9738-d89ef3991fb3",
         "x": [
          "8-4"
         ],
         "y": [
          0
         ]
        },
        {
         "name": "恩惠_延期商业项目数",
         "type": "bar",
         "uid": "809aca4a-c147-11e8-b5a6-d89ef3991fb3",
         "x": [
          "8-4"
         ],
         "y": [
          0
         ]
        },
        {
         "name": "恩惠_延期个性化项目数",
         "type": "bar",
         "uid": "809aca4b-c147-11e8-b8da-d89ef3991fb3",
         "x": [
          "8-4"
         ],
         "y": [
          0
         ]
        }
       ],
       "layout": {
        "title": "延期商业项目数&延期个性化项目数周趋势图",
        "xaxis": {
         "mirror": "all",
         "nticks": 20,
         "showgrid": true,
         "showline": true,
         "title": "周",
         "zeroline": true
        },
        "yaxis": {
         "mirror": "all",
         "nticks": 20,
         "showgrid": true,
         "showline": true,
         "title": "延期商业项目数&延期个性化项目数",
         "zeroline": true
        }
       }
      },
      "text/html": [
       "<div id=\"1b07a5b6-7c8e-4a71-ae6d-04045c706283\" style=\"height: 525px; width: 100%;\" class=\"plotly-graph-div\"></div><script type=\"text/javascript\">require([\"plotly\"], function(Plotly) { window.PLOTLYENV=window.PLOTLYENV || {};window.PLOTLYENV.BASE_URL=\"https://plot.ly\";Plotly.newPlot(\"1b07a5b6-7c8e-4a71-ae6d-04045c706283\", [{\"name\": \"\\u8f66\\u5929\\u680b_\\u5ef6\\u671f\\u5546\\u4e1a\\u9879\\u76ee\\u6570\", \"x\": [\"8-1\", \"8-2\", \"8-3\", \"8-5\", \"9-1\", \"9-2\"], \"y\": [0.0, 0.0, 0.0, 0.0, 0.0, 0.0], \"type\": \"bar\", \"uid\": \"809aca36-c147-11e8-b71e-d89ef3991fb3\"}, {\"name\": \"\\u8f66\\u5929\\u680b_\\u5ef6\\u671f\\u4e2a\\u6027\\u5316\\u9879\\u76ee\\u6570\", \"x\": [\"8-1\", \"8-2\", \"8-3\", \"8-5\", \"9-1\", \"9-2\"], \"y\": [0.0, 0.0, 0.0, 0.0, 0.0, 0.0], \"type\": \"bar\", \"uid\": \"809aca37-c147-11e8-8dd0-d89ef3991fb3\"}, {\"name\": \"\\u6c88\\u7acb\\u7fa4_\\u5ef6\\u671f\\u5546\\u4e1a\\u9879\\u76ee\\u6570\", \"x\": [\"8-1\", \"8-2\", \"8-3\", \"8-5\", \"9-1\", \"9-2\"], \"y\": [0.0, 0.0, 0.0, 0.0, 0.0, 0.0], \"type\": \"bar\", \"uid\": \"809aca38-c147-11e8-b8e7-d89ef3991fb3\"}, {\"name\": \"\\u6c88\\u7acb\\u7fa4_\\u5ef6\\u671f\\u4e2a\\u6027\\u5316\\u9879\\u76ee\\u6570\", \"x\": [\"8-1\", \"8-2\", \"8-3\", \"8-5\", \"9-1\", \"9-2\"], \"y\": [0.0, 0.0, 0.0, 0.0, 0.0, 0.0], \"type\": \"bar\", \"uid\": \"809aca39-c147-11e8-ba5e-d89ef3991fb3\"}, {\"name\": \"\\u9ad8\\u5251_\\u5ef6\\u671f\\u5546\\u4e1a\\u9879\\u76ee\\u6570\", \"x\": [\"8-1\", \"8-2\", \"8-3\", \"8-4\", \"8-5\", \"9-1\", \"9-2\"], \"y\": [0.0, 0.0, 0.0, 0.0, 0.0, 0.0, 0.0], \"type\": \"bar\", \"uid\": \"809aca3a-c147-11e8-93b2-d89ef3991fb3\"}, {\"name\": \"\\u9ad8\\u5251_\\u5ef6\\u671f\\u4e2a\\u6027\\u5316\\u9879\\u76ee\\u6570\", \"x\": [\"8-1\", \"8-2\", \"8-3\", \"8-4\", \"8-5\", \"9-1\", \"9-2\"], \"y\": [0.0, 0.0, 0.0, 0.0, 0.0, 0.0, 0.0], \"type\": \"bar\", \"uid\": \"809aca3b-c147-11e8-98d3-d89ef3991fb3\"}, {\"name\": \"\\u738b\\u4f20\\u6587_\\u5ef6\\u671f\\u5546\\u4e1a\\u9879\\u76ee\\u6570\", \"x\": [\"8-1\", \"8-2\", \"8-3\", \"8-5\", \"9-1\", \"9-2\"], \"y\": [0.0, 0.0, 0.0, 0.0, 0.0, 0.0], \"type\": \"bar\", \"uid\": \"809aca3c-c147-11e8-8ae3-d89ef3991fb3\"}, {\"name\": \"\\u738b\\u4f20\\u6587_\\u5ef6\\u671f\\u4e2a\\u6027\\u5316\\u9879\\u76ee\\u6570\", \"x\": [\"8-1\", \"8-2\", \"8-3\", \"8-5\", \"9-1\", \"9-2\"], \"y\": [0.0, 0.0, 0.0, 0.0, 0.0, 0.0], \"type\": \"bar\", \"uid\": \"809aca3d-c147-11e8-a3bb-d89ef3991fb3\"}, {\"name\": \"\\u6c88\\u6069\\u60e0_\\u5ef6\\u671f\\u5546\\u4e1a\\u9879\\u76ee\\u6570\", \"x\": [\"8-1\", \"8-2\", \"8-3\", \"8-5\", \"9-1\", \"9-2\"], \"y\": [0.0, 0.0, 0.0, 0.0, 0.0, 1.0], \"type\": \"bar\", \"uid\": \"809aca3e-c147-11e8-92ea-d89ef3991fb3\"}, {\"name\": \"\\u6c88\\u6069\\u60e0_\\u5ef6\\u671f\\u4e2a\\u6027\\u5316\\u9879\\u76ee\\u6570\", \"x\": [\"8-1\", \"8-2\", \"8-3\", \"8-5\", \"9-1\", \"9-2\"], \"y\": [0.0, 0.0, 0.0, 0.0, 0.0, 0.0], \"type\": \"bar\", \"uid\": \"809aca3f-c147-11e8-80e2-d89ef3991fb3\"}, {\"name\": \"\\u6797\\u6587\\u6587_\\u5ef6\\u671f\\u5546\\u4e1a\\u9879\\u76ee\\u6570\", \"x\": [\"8-1\", \"8-2\", \"8-3\", \"8-5\", \"9-1\", \"9-2\"], \"y\": [0.0, 0.0, 0.0, 0.0, 0.0, 1.0], \"type\": \"bar\", \"uid\": \"809aca40-c147-11e8-bdf8-d89ef3991fb3\"}, {\"name\": \"\\u6797\\u6587\\u6587_\\u5ef6\\u671f\\u4e2a\\u6027\\u5316\\u9879\\u76ee\\u6570\", \"x\": [\"8-1\", \"8-2\", \"8-3\", \"8-5\", \"9-1\", \"9-2\"], \"y\": [0.0, 0.0, 0.0, 0.0, 0.0, 0.0], \"type\": \"bar\", \"uid\": \"809aca41-c147-11e8-9a53-d89ef3991fb3\"}, {\"name\": \"\\u7acb\\u7fa4_\\u5ef6\\u671f\\u5546\\u4e1a\\u9879\\u76ee\\u6570\", \"x\": [\"8-4\"], \"y\": [0.0], \"type\": \"bar\", \"uid\": \"809aca42-c147-11e8-945a-d89ef3991fb3\"}, {\"name\": \"\\u7acb\\u7fa4_\\u5ef6\\u671f\\u4e2a\\u6027\\u5316\\u9879\\u76ee\\u6570\", \"x\": [\"8-4\"], \"y\": [0.0], \"type\": \"bar\", \"uid\": \"809aca43-c147-11e8-b154-d89ef3991fb3\"}, {\"name\": \"\\u5929\\u680b_\\u5ef6\\u671f\\u5546\\u4e1a\\u9879\\u76ee\\u6570\", \"x\": [\"8-4\"], \"y\": [0.0], \"type\": \"bar\", \"uid\": \"809aca44-c147-11e8-9f0c-d89ef3991fb3\"}, {\"name\": \"\\u5929\\u680b_\\u5ef6\\u671f\\u4e2a\\u6027\\u5316\\u9879\\u76ee\\u6570\", \"x\": [\"8-4\"], \"y\": [0.0], \"type\": \"bar\", \"uid\": \"809aca45-c147-11e8-b3cc-d89ef3991fb3\"}, {\"name\": \"\\u4f20\\u6587_\\u5ef6\\u671f\\u5546\\u4e1a\\u9879\\u76ee\\u6570\", \"x\": [\"8-4\"], \"y\": [0.0], \"type\": \"bar\", \"uid\": \"809aca46-c147-11e8-9cd5-d89ef3991fb3\"}, {\"name\": \"\\u4f20\\u6587_\\u5ef6\\u671f\\u4e2a\\u6027\\u5316\\u9879\\u76ee\\u6570\", \"x\": [\"8-4\"], \"y\": [0.0], \"type\": \"bar\", \"uid\": \"809aca47-c147-11e8-a619-d89ef3991fb3\"}, {\"name\": \"\\u6587\\u6587_\\u5ef6\\u671f\\u5546\\u4e1a\\u9879\\u76ee\\u6570\", \"x\": [\"8-4\"], \"y\": [0.0], \"type\": \"bar\", \"uid\": \"809aca48-c147-11e8-aeaa-d89ef3991fb3\"}, {\"name\": \"\\u6587\\u6587_\\u5ef6\\u671f\\u4e2a\\u6027\\u5316\\u9879\\u76ee\\u6570\", \"x\": [\"8-4\"], \"y\": [0.0], \"type\": \"bar\", \"uid\": \"809aca49-c147-11e8-9738-d89ef3991fb3\"}, {\"name\": \"\\u6069\\u60e0_\\u5ef6\\u671f\\u5546\\u4e1a\\u9879\\u76ee\\u6570\", \"x\": [\"8-4\"], \"y\": [0.0], \"type\": \"bar\", \"uid\": \"809aca4a-c147-11e8-b5a6-d89ef3991fb3\"}, {\"name\": \"\\u6069\\u60e0_\\u5ef6\\u671f\\u4e2a\\u6027\\u5316\\u9879\\u76ee\\u6570\", \"x\": [\"8-4\"], \"y\": [0.0], \"type\": \"bar\", \"uid\": \"809aca4b-c147-11e8-b8da-d89ef3991fb3\"}], {\"title\": \"\\u5ef6\\u671f\\u5546\\u4e1a\\u9879\\u76ee\\u6570&\\u5ef6\\u671f\\u4e2a\\u6027\\u5316\\u9879\\u76ee\\u6570\\u5468\\u8d8b\\u52bf\\u56fe\", \"xaxis\": {\"mirror\": \"all\", \"nticks\": 20, \"showgrid\": true, \"showline\": true, \"title\": \"\\u5468\", \"zeroline\": true}, \"yaxis\": {\"mirror\": \"all\", \"nticks\": 20, \"showgrid\": true, \"showline\": true, \"title\": \"\\u5ef6\\u671f\\u5546\\u4e1a\\u9879\\u76ee\\u6570&\\u5ef6\\u671f\\u4e2a\\u6027\\u5316\\u9879\\u76ee\\u6570\", \"zeroline\": true}}, {\"showLink\": true, \"linkText\": \"Export to plot.ly\"})});</script>"
      ],
      "text/vnd.plotly.v1+html": [
       "<div id=\"1b07a5b6-7c8e-4a71-ae6d-04045c706283\" style=\"height: 525px; width: 100%;\" class=\"plotly-graph-div\"></div><script type=\"text/javascript\">require([\"plotly\"], function(Plotly) { window.PLOTLYENV=window.PLOTLYENV || {};window.PLOTLYENV.BASE_URL=\"https://plot.ly\";Plotly.newPlot(\"1b07a5b6-7c8e-4a71-ae6d-04045c706283\", [{\"name\": \"\\u8f66\\u5929\\u680b_\\u5ef6\\u671f\\u5546\\u4e1a\\u9879\\u76ee\\u6570\", \"x\": [\"8-1\", \"8-2\", \"8-3\", \"8-5\", \"9-1\", \"9-2\"], \"y\": [0.0, 0.0, 0.0, 0.0, 0.0, 0.0], \"type\": \"bar\", \"uid\": \"809aca36-c147-11e8-b71e-d89ef3991fb3\"}, {\"name\": \"\\u8f66\\u5929\\u680b_\\u5ef6\\u671f\\u4e2a\\u6027\\u5316\\u9879\\u76ee\\u6570\", \"x\": [\"8-1\", \"8-2\", \"8-3\", \"8-5\", \"9-1\", \"9-2\"], \"y\": [0.0, 0.0, 0.0, 0.0, 0.0, 0.0], \"type\": \"bar\", \"uid\": \"809aca37-c147-11e8-8dd0-d89ef3991fb3\"}, {\"name\": \"\\u6c88\\u7acb\\u7fa4_\\u5ef6\\u671f\\u5546\\u4e1a\\u9879\\u76ee\\u6570\", \"x\": [\"8-1\", \"8-2\", \"8-3\", \"8-5\", \"9-1\", \"9-2\"], \"y\": [0.0, 0.0, 0.0, 0.0, 0.0, 0.0], \"type\": \"bar\", \"uid\": \"809aca38-c147-11e8-b8e7-d89ef3991fb3\"}, {\"name\": \"\\u6c88\\u7acb\\u7fa4_\\u5ef6\\u671f\\u4e2a\\u6027\\u5316\\u9879\\u76ee\\u6570\", \"x\": [\"8-1\", \"8-2\", \"8-3\", \"8-5\", \"9-1\", \"9-2\"], \"y\": [0.0, 0.0, 0.0, 0.0, 0.0, 0.0], \"type\": \"bar\", \"uid\": \"809aca39-c147-11e8-ba5e-d89ef3991fb3\"}, {\"name\": \"\\u9ad8\\u5251_\\u5ef6\\u671f\\u5546\\u4e1a\\u9879\\u76ee\\u6570\", \"x\": [\"8-1\", \"8-2\", \"8-3\", \"8-4\", \"8-5\", \"9-1\", \"9-2\"], \"y\": [0.0, 0.0, 0.0, 0.0, 0.0, 0.0, 0.0], \"type\": \"bar\", \"uid\": \"809aca3a-c147-11e8-93b2-d89ef3991fb3\"}, {\"name\": \"\\u9ad8\\u5251_\\u5ef6\\u671f\\u4e2a\\u6027\\u5316\\u9879\\u76ee\\u6570\", \"x\": [\"8-1\", \"8-2\", \"8-3\", \"8-4\", \"8-5\", \"9-1\", \"9-2\"], \"y\": [0.0, 0.0, 0.0, 0.0, 0.0, 0.0, 0.0], \"type\": \"bar\", \"uid\": \"809aca3b-c147-11e8-98d3-d89ef3991fb3\"}, {\"name\": \"\\u738b\\u4f20\\u6587_\\u5ef6\\u671f\\u5546\\u4e1a\\u9879\\u76ee\\u6570\", \"x\": [\"8-1\", \"8-2\", \"8-3\", \"8-5\", \"9-1\", \"9-2\"], \"y\": [0.0, 0.0, 0.0, 0.0, 0.0, 0.0], \"type\": \"bar\", \"uid\": \"809aca3c-c147-11e8-8ae3-d89ef3991fb3\"}, {\"name\": \"\\u738b\\u4f20\\u6587_\\u5ef6\\u671f\\u4e2a\\u6027\\u5316\\u9879\\u76ee\\u6570\", \"x\": [\"8-1\", \"8-2\", \"8-3\", \"8-5\", \"9-1\", \"9-2\"], \"y\": [0.0, 0.0, 0.0, 0.0, 0.0, 0.0], \"type\": \"bar\", \"uid\": \"809aca3d-c147-11e8-a3bb-d89ef3991fb3\"}, {\"name\": \"\\u6c88\\u6069\\u60e0_\\u5ef6\\u671f\\u5546\\u4e1a\\u9879\\u76ee\\u6570\", \"x\": [\"8-1\", \"8-2\", \"8-3\", \"8-5\", \"9-1\", \"9-2\"], \"y\": [0.0, 0.0, 0.0, 0.0, 0.0, 1.0], \"type\": \"bar\", \"uid\": \"809aca3e-c147-11e8-92ea-d89ef3991fb3\"}, {\"name\": \"\\u6c88\\u6069\\u60e0_\\u5ef6\\u671f\\u4e2a\\u6027\\u5316\\u9879\\u76ee\\u6570\", \"x\": [\"8-1\", \"8-2\", \"8-3\", \"8-5\", \"9-1\", \"9-2\"], \"y\": [0.0, 0.0, 0.0, 0.0, 0.0, 0.0], \"type\": \"bar\", \"uid\": \"809aca3f-c147-11e8-80e2-d89ef3991fb3\"}, {\"name\": \"\\u6797\\u6587\\u6587_\\u5ef6\\u671f\\u5546\\u4e1a\\u9879\\u76ee\\u6570\", \"x\": [\"8-1\", \"8-2\", \"8-3\", \"8-5\", \"9-1\", \"9-2\"], \"y\": [0.0, 0.0, 0.0, 0.0, 0.0, 1.0], \"type\": \"bar\", \"uid\": \"809aca40-c147-11e8-bdf8-d89ef3991fb3\"}, {\"name\": \"\\u6797\\u6587\\u6587_\\u5ef6\\u671f\\u4e2a\\u6027\\u5316\\u9879\\u76ee\\u6570\", \"x\": [\"8-1\", \"8-2\", \"8-3\", \"8-5\", \"9-1\", \"9-2\"], \"y\": [0.0, 0.0, 0.0, 0.0, 0.0, 0.0], \"type\": \"bar\", \"uid\": \"809aca41-c147-11e8-9a53-d89ef3991fb3\"}, {\"name\": \"\\u7acb\\u7fa4_\\u5ef6\\u671f\\u5546\\u4e1a\\u9879\\u76ee\\u6570\", \"x\": [\"8-4\"], \"y\": [0.0], \"type\": \"bar\", \"uid\": \"809aca42-c147-11e8-945a-d89ef3991fb3\"}, {\"name\": \"\\u7acb\\u7fa4_\\u5ef6\\u671f\\u4e2a\\u6027\\u5316\\u9879\\u76ee\\u6570\", \"x\": [\"8-4\"], \"y\": [0.0], \"type\": \"bar\", \"uid\": \"809aca43-c147-11e8-b154-d89ef3991fb3\"}, {\"name\": \"\\u5929\\u680b_\\u5ef6\\u671f\\u5546\\u4e1a\\u9879\\u76ee\\u6570\", \"x\": [\"8-4\"], \"y\": [0.0], \"type\": \"bar\", \"uid\": \"809aca44-c147-11e8-9f0c-d89ef3991fb3\"}, {\"name\": \"\\u5929\\u680b_\\u5ef6\\u671f\\u4e2a\\u6027\\u5316\\u9879\\u76ee\\u6570\", \"x\": [\"8-4\"], \"y\": [0.0], \"type\": \"bar\", \"uid\": \"809aca45-c147-11e8-b3cc-d89ef3991fb3\"}, {\"name\": \"\\u4f20\\u6587_\\u5ef6\\u671f\\u5546\\u4e1a\\u9879\\u76ee\\u6570\", \"x\": [\"8-4\"], \"y\": [0.0], \"type\": \"bar\", \"uid\": \"809aca46-c147-11e8-9cd5-d89ef3991fb3\"}, {\"name\": \"\\u4f20\\u6587_\\u5ef6\\u671f\\u4e2a\\u6027\\u5316\\u9879\\u76ee\\u6570\", \"x\": [\"8-4\"], \"y\": [0.0], \"type\": \"bar\", \"uid\": \"809aca47-c147-11e8-a619-d89ef3991fb3\"}, {\"name\": \"\\u6587\\u6587_\\u5ef6\\u671f\\u5546\\u4e1a\\u9879\\u76ee\\u6570\", \"x\": [\"8-4\"], \"y\": [0.0], \"type\": \"bar\", \"uid\": \"809aca48-c147-11e8-aeaa-d89ef3991fb3\"}, {\"name\": \"\\u6587\\u6587_\\u5ef6\\u671f\\u4e2a\\u6027\\u5316\\u9879\\u76ee\\u6570\", \"x\": [\"8-4\"], \"y\": [0.0], \"type\": \"bar\", \"uid\": \"809aca49-c147-11e8-9738-d89ef3991fb3\"}, {\"name\": \"\\u6069\\u60e0_\\u5ef6\\u671f\\u5546\\u4e1a\\u9879\\u76ee\\u6570\", \"x\": [\"8-4\"], \"y\": [0.0], \"type\": \"bar\", \"uid\": \"809aca4a-c147-11e8-b5a6-d89ef3991fb3\"}, {\"name\": \"\\u6069\\u60e0_\\u5ef6\\u671f\\u4e2a\\u6027\\u5316\\u9879\\u76ee\\u6570\", \"x\": [\"8-4\"], \"y\": [0.0], \"type\": \"bar\", \"uid\": \"809aca4b-c147-11e8-b8da-d89ef3991fb3\"}], {\"title\": \"\\u5ef6\\u671f\\u5546\\u4e1a\\u9879\\u76ee\\u6570&\\u5ef6\\u671f\\u4e2a\\u6027\\u5316\\u9879\\u76ee\\u6570\\u5468\\u8d8b\\u52bf\\u56fe\", \"xaxis\": {\"mirror\": \"all\", \"nticks\": 20, \"showgrid\": true, \"showline\": true, \"title\": \"\\u5468\", \"zeroline\": true}, \"yaxis\": {\"mirror\": \"all\", \"nticks\": 20, \"showgrid\": true, \"showline\": true, \"title\": \"\\u5ef6\\u671f\\u5546\\u4e1a\\u9879\\u76ee\\u6570&\\u5ef6\\u671f\\u4e2a\\u6027\\u5316\\u9879\\u76ee\\u6570\", \"zeroline\": true}}, {\"showLink\": true, \"linkText\": \"Export to plot.ly\"})});</script>"
      ]
     },
     "metadata": {},
     "output_type": "display_data"
    },
    {
     "data": {
      "application/vnd.plotly.v1+json": {
       "data": [
        {
         "name": "传文_延期商业项目数",
         "type": "bar",
         "uid": "80c9f88c-c147-11e8-a6cc-d89ef3991fb3",
         "x": [
          "8"
         ],
         "y": [
          null
         ]
        },
        {
         "name": "传文_延期个性化项目数",
         "type": "bar",
         "uid": "80c9f88d-c147-11e8-a048-d89ef3991fb3",
         "x": [
          "8"
         ],
         "y": [
          null
         ]
        },
        {
         "name": "天栋_延期商业项目数",
         "type": "bar",
         "uid": "80c9f88e-c147-11e8-b90b-d89ef3991fb3",
         "x": [
          "8"
         ],
         "y": [
          null
         ]
        },
        {
         "name": "天栋_延期个性化项目数",
         "type": "bar",
         "uid": "80c9f88f-c147-11e8-8781-d89ef3991fb3",
         "x": [
          "8"
         ],
         "y": [
          null
         ]
        },
        {
         "name": "恩惠_延期商业项目数",
         "type": "bar",
         "uid": "80c9f890-c147-11e8-950b-d89ef3991fb3",
         "x": [
          "8"
         ],
         "y": [
          null
         ]
        },
        {
         "name": "恩惠_延期个性化项目数",
         "type": "bar",
         "uid": "80c9f891-c147-11e8-a0dd-d89ef3991fb3",
         "x": [
          "8"
         ],
         "y": [
          null
         ]
        },
        {
         "name": "文文_延期商业项目数",
         "type": "bar",
         "uid": "80c9f892-c147-11e8-a6ae-d89ef3991fb3",
         "x": [
          "8"
         ],
         "y": [
          null
         ]
        },
        {
         "name": "文文_延期个性化项目数",
         "type": "bar",
         "uid": "80c9f893-c147-11e8-9385-d89ef3991fb3",
         "x": [
          "8"
         ],
         "y": [
          null
         ]
        },
        {
         "name": "林文文_延期商业项目数",
         "type": "bar",
         "uid": "80c9f894-c147-11e8-8c75-d89ef3991fb3",
         "x": [
          "8",
          "9"
         ],
         "y": [
          null,
          1
         ]
        },
        {
         "name": "林文文_延期个性化项目数",
         "type": "bar",
         "uid": "80c9f895-c147-11e8-b1dd-d89ef3991fb3",
         "x": [
          "8",
          "9"
         ],
         "y": [
          null,
          0
         ]
        },
        {
         "name": "沈恩惠_延期商业项目数",
         "type": "bar",
         "uid": "80c9f896-c147-11e8-ad93-d89ef3991fb3",
         "x": [
          "8",
          "9"
         ],
         "y": [
          null,
          1
         ]
        },
        {
         "name": "沈恩惠_延期个性化项目数",
         "type": "bar",
         "uid": "80c9f897-c147-11e8-8fdb-d89ef3991fb3",
         "x": [
          "8",
          "9"
         ],
         "y": [
          null,
          0
         ]
        },
        {
         "name": "沈立群_延期商业项目数",
         "type": "bar",
         "uid": "80c9f898-c147-11e8-be68-d89ef3991fb3",
         "x": [
          "8",
          "9"
         ],
         "y": [
          null,
          0
         ]
        },
        {
         "name": "沈立群_延期个性化项目数",
         "type": "bar",
         "uid": "80c9f899-c147-11e8-953f-d89ef3991fb3",
         "x": [
          "8",
          "9"
         ],
         "y": [
          null,
          0
         ]
        },
        {
         "name": "王传文_延期商业项目数",
         "type": "bar",
         "uid": "80c9f89a-c147-11e8-bdd3-d89ef3991fb3",
         "x": [
          "8",
          "9"
         ],
         "y": [
          null,
          0
         ]
        },
        {
         "name": "王传文_延期个性化项目数",
         "type": "bar",
         "uid": "80c9f89b-c147-11e8-91b1-d89ef3991fb3",
         "x": [
          "8",
          "9"
         ],
         "y": [
          null,
          0
         ]
        },
        {
         "name": "立群_延期商业项目数",
         "type": "bar",
         "uid": "80c9f89c-c147-11e8-b2ce-d89ef3991fb3",
         "x": [
          "8"
         ],
         "y": [
          null
         ]
        },
        {
         "name": "立群_延期个性化项目数",
         "type": "bar",
         "uid": "80c9f89d-c147-11e8-9fcd-d89ef3991fb3",
         "x": [
          "8"
         ],
         "y": [
          null
         ]
        },
        {
         "name": "车天栋_延期商业项目数",
         "type": "bar",
         "uid": "80c9f89e-c147-11e8-a822-d89ef3991fb3",
         "x": [
          "8",
          "9"
         ],
         "y": [
          null,
          0
         ]
        },
        {
         "name": "车天栋_延期个性化项目数",
         "type": "bar",
         "uid": "80c9f89f-c147-11e8-b219-d89ef3991fb3",
         "x": [
          "8",
          "9"
         ],
         "y": [
          null,
          0
         ]
        },
        {
         "name": "高剑_延期商业项目数",
         "type": "bar",
         "uid": "80c9f8a0-c147-11e8-aa6d-d89ef3991fb3",
         "x": [
          "8",
          "9"
         ],
         "y": [
          0,
          0
         ]
        },
        {
         "name": "高剑_延期个性化项目数",
         "type": "bar",
         "uid": "80ca1f88-c147-11e8-8955-d89ef3991fb3",
         "x": [
          "8",
          "9"
         ],
         "y": [
          0,
          0
         ]
        }
       ],
       "layout": {
        "title": "延期商业项目数&延期个性化项目数月趋势图",
        "xaxis": {
         "mirror": "all",
         "nticks": 20,
         "showgrid": true,
         "showline": true,
         "title": "月",
         "zeroline": true
        },
        "yaxis": {
         "mirror": "all",
         "nticks": 20,
         "showgrid": true,
         "showline": true,
         "title": "延期商业项目数&延期个性化项目数",
         "zeroline": true
        }
       }
      },
      "text/html": [
       "<div id=\"5a68e3d9-4431-47ac-a7bf-5957154d497b\" style=\"height: 525px; width: 100%;\" class=\"plotly-graph-div\"></div><script type=\"text/javascript\">require([\"plotly\"], function(Plotly) { window.PLOTLYENV=window.PLOTLYENV || {};window.PLOTLYENV.BASE_URL=\"https://plot.ly\";Plotly.newPlot(\"5a68e3d9-4431-47ac-a7bf-5957154d497b\", [{\"name\": \"\\u4f20\\u6587_\\u5ef6\\u671f\\u5546\\u4e1a\\u9879\\u76ee\\u6570\", \"x\": [\"8\"], \"y\": [null], \"type\": \"bar\", \"uid\": \"80c9f88c-c147-11e8-a6cc-d89ef3991fb3\"}, {\"name\": \"\\u4f20\\u6587_\\u5ef6\\u671f\\u4e2a\\u6027\\u5316\\u9879\\u76ee\\u6570\", \"x\": [\"8\"], \"y\": [null], \"type\": \"bar\", \"uid\": \"80c9f88d-c147-11e8-a048-d89ef3991fb3\"}, {\"name\": \"\\u5929\\u680b_\\u5ef6\\u671f\\u5546\\u4e1a\\u9879\\u76ee\\u6570\", \"x\": [\"8\"], \"y\": [null], \"type\": \"bar\", \"uid\": \"80c9f88e-c147-11e8-b90b-d89ef3991fb3\"}, {\"name\": \"\\u5929\\u680b_\\u5ef6\\u671f\\u4e2a\\u6027\\u5316\\u9879\\u76ee\\u6570\", \"x\": [\"8\"], \"y\": [null], \"type\": \"bar\", \"uid\": \"80c9f88f-c147-11e8-8781-d89ef3991fb3\"}, {\"name\": \"\\u6069\\u60e0_\\u5ef6\\u671f\\u5546\\u4e1a\\u9879\\u76ee\\u6570\", \"x\": [\"8\"], \"y\": [null], \"type\": \"bar\", \"uid\": \"80c9f890-c147-11e8-950b-d89ef3991fb3\"}, {\"name\": \"\\u6069\\u60e0_\\u5ef6\\u671f\\u4e2a\\u6027\\u5316\\u9879\\u76ee\\u6570\", \"x\": [\"8\"], \"y\": [null], \"type\": \"bar\", \"uid\": \"80c9f891-c147-11e8-a0dd-d89ef3991fb3\"}, {\"name\": \"\\u6587\\u6587_\\u5ef6\\u671f\\u5546\\u4e1a\\u9879\\u76ee\\u6570\", \"x\": [\"8\"], \"y\": [null], \"type\": \"bar\", \"uid\": \"80c9f892-c147-11e8-a6ae-d89ef3991fb3\"}, {\"name\": \"\\u6587\\u6587_\\u5ef6\\u671f\\u4e2a\\u6027\\u5316\\u9879\\u76ee\\u6570\", \"x\": [\"8\"], \"y\": [null], \"type\": \"bar\", \"uid\": \"80c9f893-c147-11e8-9385-d89ef3991fb3\"}, {\"name\": \"\\u6797\\u6587\\u6587_\\u5ef6\\u671f\\u5546\\u4e1a\\u9879\\u76ee\\u6570\", \"x\": [\"8\", \"9\"], \"y\": [null, 1.0], \"type\": \"bar\", \"uid\": \"80c9f894-c147-11e8-8c75-d89ef3991fb3\"}, {\"name\": \"\\u6797\\u6587\\u6587_\\u5ef6\\u671f\\u4e2a\\u6027\\u5316\\u9879\\u76ee\\u6570\", \"x\": [\"8\", \"9\"], \"y\": [null, 0.0], \"type\": \"bar\", \"uid\": \"80c9f895-c147-11e8-b1dd-d89ef3991fb3\"}, {\"name\": \"\\u6c88\\u6069\\u60e0_\\u5ef6\\u671f\\u5546\\u4e1a\\u9879\\u76ee\\u6570\", \"x\": [\"8\", \"9\"], \"y\": [null, 1.0], \"type\": \"bar\", \"uid\": \"80c9f896-c147-11e8-ad93-d89ef3991fb3\"}, {\"name\": \"\\u6c88\\u6069\\u60e0_\\u5ef6\\u671f\\u4e2a\\u6027\\u5316\\u9879\\u76ee\\u6570\", \"x\": [\"8\", \"9\"], \"y\": [null, 0.0], \"type\": \"bar\", \"uid\": \"80c9f897-c147-11e8-8fdb-d89ef3991fb3\"}, {\"name\": \"\\u6c88\\u7acb\\u7fa4_\\u5ef6\\u671f\\u5546\\u4e1a\\u9879\\u76ee\\u6570\", \"x\": [\"8\", \"9\"], \"y\": [null, 0.0], \"type\": \"bar\", \"uid\": \"80c9f898-c147-11e8-be68-d89ef3991fb3\"}, {\"name\": \"\\u6c88\\u7acb\\u7fa4_\\u5ef6\\u671f\\u4e2a\\u6027\\u5316\\u9879\\u76ee\\u6570\", \"x\": [\"8\", \"9\"], \"y\": [null, 0.0], \"type\": \"bar\", \"uid\": \"80c9f899-c147-11e8-953f-d89ef3991fb3\"}, {\"name\": \"\\u738b\\u4f20\\u6587_\\u5ef6\\u671f\\u5546\\u4e1a\\u9879\\u76ee\\u6570\", \"x\": [\"8\", \"9\"], \"y\": [null, 0.0], \"type\": \"bar\", \"uid\": \"80c9f89a-c147-11e8-bdd3-d89ef3991fb3\"}, {\"name\": \"\\u738b\\u4f20\\u6587_\\u5ef6\\u671f\\u4e2a\\u6027\\u5316\\u9879\\u76ee\\u6570\", \"x\": [\"8\", \"9\"], \"y\": [null, 0.0], \"type\": \"bar\", \"uid\": \"80c9f89b-c147-11e8-91b1-d89ef3991fb3\"}, {\"name\": \"\\u7acb\\u7fa4_\\u5ef6\\u671f\\u5546\\u4e1a\\u9879\\u76ee\\u6570\", \"x\": [\"8\"], \"y\": [null], \"type\": \"bar\", \"uid\": \"80c9f89c-c147-11e8-b2ce-d89ef3991fb3\"}, {\"name\": \"\\u7acb\\u7fa4_\\u5ef6\\u671f\\u4e2a\\u6027\\u5316\\u9879\\u76ee\\u6570\", \"x\": [\"8\"], \"y\": [null], \"type\": \"bar\", \"uid\": \"80c9f89d-c147-11e8-9fcd-d89ef3991fb3\"}, {\"name\": \"\\u8f66\\u5929\\u680b_\\u5ef6\\u671f\\u5546\\u4e1a\\u9879\\u76ee\\u6570\", \"x\": [\"8\", \"9\"], \"y\": [null, 0.0], \"type\": \"bar\", \"uid\": \"80c9f89e-c147-11e8-a822-d89ef3991fb3\"}, {\"name\": \"\\u8f66\\u5929\\u680b_\\u5ef6\\u671f\\u4e2a\\u6027\\u5316\\u9879\\u76ee\\u6570\", \"x\": [\"8\", \"9\"], \"y\": [null, 0.0], \"type\": \"bar\", \"uid\": \"80c9f89f-c147-11e8-b219-d89ef3991fb3\"}, {\"name\": \"\\u9ad8\\u5251_\\u5ef6\\u671f\\u5546\\u4e1a\\u9879\\u76ee\\u6570\", \"x\": [\"8\", \"9\"], \"y\": [0.0, 0.0], \"type\": \"bar\", \"uid\": \"80c9f8a0-c147-11e8-aa6d-d89ef3991fb3\"}, {\"name\": \"\\u9ad8\\u5251_\\u5ef6\\u671f\\u4e2a\\u6027\\u5316\\u9879\\u76ee\\u6570\", \"x\": [\"8\", \"9\"], \"y\": [0.0, 0.0], \"type\": \"bar\", \"uid\": \"80ca1f88-c147-11e8-8955-d89ef3991fb3\"}], {\"title\": \"\\u5ef6\\u671f\\u5546\\u4e1a\\u9879\\u76ee\\u6570&\\u5ef6\\u671f\\u4e2a\\u6027\\u5316\\u9879\\u76ee\\u6570\\u6708\\u8d8b\\u52bf\\u56fe\", \"xaxis\": {\"mirror\": \"all\", \"nticks\": 20, \"showgrid\": true, \"showline\": true, \"title\": \"\\u6708\", \"zeroline\": true}, \"yaxis\": {\"mirror\": \"all\", \"nticks\": 20, \"showgrid\": true, \"showline\": true, \"title\": \"\\u5ef6\\u671f\\u5546\\u4e1a\\u9879\\u76ee\\u6570&\\u5ef6\\u671f\\u4e2a\\u6027\\u5316\\u9879\\u76ee\\u6570\", \"zeroline\": true}}, {\"showLink\": true, \"linkText\": \"Export to plot.ly\"})});</script>"
      ],
      "text/vnd.plotly.v1+html": [
       "<div id=\"5a68e3d9-4431-47ac-a7bf-5957154d497b\" style=\"height: 525px; width: 100%;\" class=\"plotly-graph-div\"></div><script type=\"text/javascript\">require([\"plotly\"], function(Plotly) { window.PLOTLYENV=window.PLOTLYENV || {};window.PLOTLYENV.BASE_URL=\"https://plot.ly\";Plotly.newPlot(\"5a68e3d9-4431-47ac-a7bf-5957154d497b\", [{\"name\": \"\\u4f20\\u6587_\\u5ef6\\u671f\\u5546\\u4e1a\\u9879\\u76ee\\u6570\", \"x\": [\"8\"], \"y\": [null], \"type\": \"bar\", \"uid\": \"80c9f88c-c147-11e8-a6cc-d89ef3991fb3\"}, {\"name\": \"\\u4f20\\u6587_\\u5ef6\\u671f\\u4e2a\\u6027\\u5316\\u9879\\u76ee\\u6570\", \"x\": [\"8\"], \"y\": [null], \"type\": \"bar\", \"uid\": \"80c9f88d-c147-11e8-a048-d89ef3991fb3\"}, {\"name\": \"\\u5929\\u680b_\\u5ef6\\u671f\\u5546\\u4e1a\\u9879\\u76ee\\u6570\", \"x\": [\"8\"], \"y\": [null], \"type\": \"bar\", \"uid\": \"80c9f88e-c147-11e8-b90b-d89ef3991fb3\"}, {\"name\": \"\\u5929\\u680b_\\u5ef6\\u671f\\u4e2a\\u6027\\u5316\\u9879\\u76ee\\u6570\", \"x\": [\"8\"], \"y\": [null], \"type\": \"bar\", \"uid\": \"80c9f88f-c147-11e8-8781-d89ef3991fb3\"}, {\"name\": \"\\u6069\\u60e0_\\u5ef6\\u671f\\u5546\\u4e1a\\u9879\\u76ee\\u6570\", \"x\": [\"8\"], \"y\": [null], \"type\": \"bar\", \"uid\": \"80c9f890-c147-11e8-950b-d89ef3991fb3\"}, {\"name\": \"\\u6069\\u60e0_\\u5ef6\\u671f\\u4e2a\\u6027\\u5316\\u9879\\u76ee\\u6570\", \"x\": [\"8\"], \"y\": [null], \"type\": \"bar\", \"uid\": \"80c9f891-c147-11e8-a0dd-d89ef3991fb3\"}, {\"name\": \"\\u6587\\u6587_\\u5ef6\\u671f\\u5546\\u4e1a\\u9879\\u76ee\\u6570\", \"x\": [\"8\"], \"y\": [null], \"type\": \"bar\", \"uid\": \"80c9f892-c147-11e8-a6ae-d89ef3991fb3\"}, {\"name\": \"\\u6587\\u6587_\\u5ef6\\u671f\\u4e2a\\u6027\\u5316\\u9879\\u76ee\\u6570\", \"x\": [\"8\"], \"y\": [null], \"type\": \"bar\", \"uid\": \"80c9f893-c147-11e8-9385-d89ef3991fb3\"}, {\"name\": \"\\u6797\\u6587\\u6587_\\u5ef6\\u671f\\u5546\\u4e1a\\u9879\\u76ee\\u6570\", \"x\": [\"8\", \"9\"], \"y\": [null, 1.0], \"type\": \"bar\", \"uid\": \"80c9f894-c147-11e8-8c75-d89ef3991fb3\"}, {\"name\": \"\\u6797\\u6587\\u6587_\\u5ef6\\u671f\\u4e2a\\u6027\\u5316\\u9879\\u76ee\\u6570\", \"x\": [\"8\", \"9\"], \"y\": [null, 0.0], \"type\": \"bar\", \"uid\": \"80c9f895-c147-11e8-b1dd-d89ef3991fb3\"}, {\"name\": \"\\u6c88\\u6069\\u60e0_\\u5ef6\\u671f\\u5546\\u4e1a\\u9879\\u76ee\\u6570\", \"x\": [\"8\", \"9\"], \"y\": [null, 1.0], \"type\": \"bar\", \"uid\": \"80c9f896-c147-11e8-ad93-d89ef3991fb3\"}, {\"name\": \"\\u6c88\\u6069\\u60e0_\\u5ef6\\u671f\\u4e2a\\u6027\\u5316\\u9879\\u76ee\\u6570\", \"x\": [\"8\", \"9\"], \"y\": [null, 0.0], \"type\": \"bar\", \"uid\": \"80c9f897-c147-11e8-8fdb-d89ef3991fb3\"}, {\"name\": \"\\u6c88\\u7acb\\u7fa4_\\u5ef6\\u671f\\u5546\\u4e1a\\u9879\\u76ee\\u6570\", \"x\": [\"8\", \"9\"], \"y\": [null, 0.0], \"type\": \"bar\", \"uid\": \"80c9f898-c147-11e8-be68-d89ef3991fb3\"}, {\"name\": \"\\u6c88\\u7acb\\u7fa4_\\u5ef6\\u671f\\u4e2a\\u6027\\u5316\\u9879\\u76ee\\u6570\", \"x\": [\"8\", \"9\"], \"y\": [null, 0.0], \"type\": \"bar\", \"uid\": \"80c9f899-c147-11e8-953f-d89ef3991fb3\"}, {\"name\": \"\\u738b\\u4f20\\u6587_\\u5ef6\\u671f\\u5546\\u4e1a\\u9879\\u76ee\\u6570\", \"x\": [\"8\", \"9\"], \"y\": [null, 0.0], \"type\": \"bar\", \"uid\": \"80c9f89a-c147-11e8-bdd3-d89ef3991fb3\"}, {\"name\": \"\\u738b\\u4f20\\u6587_\\u5ef6\\u671f\\u4e2a\\u6027\\u5316\\u9879\\u76ee\\u6570\", \"x\": [\"8\", \"9\"], \"y\": [null, 0.0], \"type\": \"bar\", \"uid\": \"80c9f89b-c147-11e8-91b1-d89ef3991fb3\"}, {\"name\": \"\\u7acb\\u7fa4_\\u5ef6\\u671f\\u5546\\u4e1a\\u9879\\u76ee\\u6570\", \"x\": [\"8\"], \"y\": [null], \"type\": \"bar\", \"uid\": \"80c9f89c-c147-11e8-b2ce-d89ef3991fb3\"}, {\"name\": \"\\u7acb\\u7fa4_\\u5ef6\\u671f\\u4e2a\\u6027\\u5316\\u9879\\u76ee\\u6570\", \"x\": [\"8\"], \"y\": [null], \"type\": \"bar\", \"uid\": \"80c9f89d-c147-11e8-9fcd-d89ef3991fb3\"}, {\"name\": \"\\u8f66\\u5929\\u680b_\\u5ef6\\u671f\\u5546\\u4e1a\\u9879\\u76ee\\u6570\", \"x\": [\"8\", \"9\"], \"y\": [null, 0.0], \"type\": \"bar\", \"uid\": \"80c9f89e-c147-11e8-a822-d89ef3991fb3\"}, {\"name\": \"\\u8f66\\u5929\\u680b_\\u5ef6\\u671f\\u4e2a\\u6027\\u5316\\u9879\\u76ee\\u6570\", \"x\": [\"8\", \"9\"], \"y\": [null, 0.0], \"type\": \"bar\", \"uid\": \"80c9f89f-c147-11e8-b219-d89ef3991fb3\"}, {\"name\": \"\\u9ad8\\u5251_\\u5ef6\\u671f\\u5546\\u4e1a\\u9879\\u76ee\\u6570\", \"x\": [\"8\", \"9\"], \"y\": [0.0, 0.0], \"type\": \"bar\", \"uid\": \"80c9f8a0-c147-11e8-aa6d-d89ef3991fb3\"}, {\"name\": \"\\u9ad8\\u5251_\\u5ef6\\u671f\\u4e2a\\u6027\\u5316\\u9879\\u76ee\\u6570\", \"x\": [\"8\", \"9\"], \"y\": [0.0, 0.0], \"type\": \"bar\", \"uid\": \"80ca1f88-c147-11e8-8955-d89ef3991fb3\"}], {\"title\": \"\\u5ef6\\u671f\\u5546\\u4e1a\\u9879\\u76ee\\u6570&\\u5ef6\\u671f\\u4e2a\\u6027\\u5316\\u9879\\u76ee\\u6570\\u6708\\u8d8b\\u52bf\\u56fe\", \"xaxis\": {\"mirror\": \"all\", \"nticks\": 20, \"showgrid\": true, \"showline\": true, \"title\": \"\\u6708\", \"zeroline\": true}, \"yaxis\": {\"mirror\": \"all\", \"nticks\": 20, \"showgrid\": true, \"showline\": true, \"title\": \"\\u5ef6\\u671f\\u5546\\u4e1a\\u9879\\u76ee\\u6570&\\u5ef6\\u671f\\u4e2a\\u6027\\u5316\\u9879\\u76ee\\u6570\", \"zeroline\": true}}, {\"showLink\": true, \"linkText\": \"Export to plot.ly\"})});</script>"
      ]
     },
     "metadata": {},
     "output_type": "display_data"
    }
   ],
   "source": [
    "data_dict = {'延期商业项目数':['延期商业项目数'], '延期个性化项目数':['延期个性化项目数']}\n",
    "myModule.plot( all_dict, data_dict, '人员' ,  'bar')"
   ]
  },
  {
   "cell_type": "markdown",
   "metadata": {},
   "source": [
    "### 反馈延期数"
   ]
  },
  {
   "cell_type": "code",
   "execution_count": 72,
   "metadata": {
    "scrolled": false
   },
   "outputs": [
    {
     "data": {
      "application/vnd.plotly.v1+json": {
       "data": [
        {
         "name": "车天栋_24h内未完成数据反馈项目数",
         "type": "bar",
         "uid": "8118ccc6-c147-11e8-b881-d89ef3991fb3",
         "x": [
          "8-1",
          "8-2",
          "8-3",
          "8-5",
          "9-1",
          "9-2"
         ],
         "y": [
          0,
          0,
          0,
          0,
          0,
          0
         ]
        },
        {
         "name": "车天栋_反馈延期个性化数",
         "type": "bar",
         "uid": "8118ccc7-c147-11e8-b586-d89ef3991fb3",
         "x": [
          "8-1",
          "8-2",
          "8-3",
          "8-5",
          "9-1",
          "9-2"
         ],
         "y": [
          0,
          0,
          0,
          0,
          0,
          0
         ]
        },
        {
         "name": "沈立群_24h内未完成数据反馈项目数",
         "type": "bar",
         "uid": "8118ccc8-c147-11e8-a64b-d89ef3991fb3",
         "x": [
          "8-1",
          "8-2",
          "8-3",
          "8-5",
          "9-1",
          "9-2"
         ],
         "y": [
          0,
          0,
          0,
          0,
          0,
          0
         ]
        },
        {
         "name": "沈立群_反馈延期个性化数",
         "type": "bar",
         "uid": "8118ccc9-c147-11e8-87d8-d89ef3991fb3",
         "x": [
          "8-1",
          "8-2",
          "8-3",
          "8-5",
          "9-1",
          "9-2"
         ],
         "y": [
          0,
          0,
          0,
          0,
          0,
          0
         ]
        },
        {
         "name": "高剑_24h内未完成数据反馈项目数",
         "type": "bar",
         "uid": "8118ccca-c147-11e8-a7c6-d89ef3991fb3",
         "x": [
          "8-1",
          "8-2",
          "8-3",
          "8-4",
          "8-5",
          "9-1",
          "9-2"
         ],
         "y": [
          0,
          0,
          0,
          0,
          0,
          0,
          0
         ]
        },
        {
         "name": "高剑_反馈延期个性化数",
         "type": "bar",
         "uid": "8118cccb-c147-11e8-8138-d89ef3991fb3",
         "x": [
          "8-1",
          "8-2",
          "8-3",
          "8-4",
          "8-5",
          "9-1",
          "9-2"
         ],
         "y": [
          0,
          0,
          0,
          0,
          0,
          0,
          0
         ]
        },
        {
         "name": "王传文_24h内未完成数据反馈项目数",
         "type": "bar",
         "uid": "8118cccc-c147-11e8-80b1-d89ef3991fb3",
         "x": [
          "8-1",
          "8-2",
          "8-3",
          "8-5",
          "9-1",
          "9-2"
         ],
         "y": [
          0,
          0,
          0,
          0,
          0,
          0
         ]
        },
        {
         "name": "王传文_反馈延期个性化数",
         "type": "bar",
         "uid": "8118cccd-c147-11e8-80b8-d89ef3991fb3",
         "x": [
          "8-1",
          "8-2",
          "8-3",
          "8-5",
          "9-1",
          "9-2"
         ],
         "y": [
          0,
          0,
          0,
          0,
          0,
          0
         ]
        },
        {
         "name": "沈恩惠_24h内未完成数据反馈项目数",
         "type": "bar",
         "uid": "8118ccce-c147-11e8-bc33-d89ef3991fb3",
         "x": [
          "8-1",
          "8-2",
          "8-3",
          "8-5",
          "9-1",
          "9-2"
         ],
         "y": [
          0,
          0,
          0,
          0,
          0,
          0
         ]
        },
        {
         "name": "沈恩惠_反馈延期个性化数",
         "type": "bar",
         "uid": "8118cccf-c147-11e8-bf15-d89ef3991fb3",
         "x": [
          "8-1",
          "8-2",
          "8-3",
          "8-5",
          "9-1",
          "9-2"
         ],
         "y": [
          0,
          0,
          0,
          0,
          0,
          0
         ]
        },
        {
         "name": "林文文_24h内未完成数据反馈项目数",
         "type": "bar",
         "uid": "8118ccd0-c147-11e8-86dc-d89ef3991fb3",
         "x": [
          "8-1",
          "8-2",
          "8-3",
          "8-5",
          "9-1",
          "9-2"
         ],
         "y": [
          0,
          0,
          0,
          0,
          0,
          0
         ]
        },
        {
         "name": "林文文_反馈延期个性化数",
         "type": "bar",
         "uid": "8118ccd1-c147-11e8-864f-d89ef3991fb3",
         "x": [
          "8-1",
          "8-2",
          "8-3",
          "8-5",
          "9-1",
          "9-2"
         ],
         "y": [
          0,
          0,
          0,
          0,
          0,
          0
         ]
        },
        {
         "name": "立群_24h内未完成数据反馈项目数",
         "type": "bar",
         "uid": "8118ccd2-c147-11e8-89b7-d89ef3991fb3",
         "x": [
          "8-4"
         ],
         "y": [
          0
         ]
        },
        {
         "name": "立群_反馈延期个性化数",
         "type": "bar",
         "uid": "8118ccd3-c147-11e8-b8f0-d89ef3991fb3",
         "x": [
          "8-4"
         ],
         "y": [
          0
         ]
        },
        {
         "name": "天栋_24h内未完成数据反馈项目数",
         "type": "bar",
         "uid": "8118ccd4-c147-11e8-b398-d89ef3991fb3",
         "x": [
          "8-4"
         ],
         "y": [
          0
         ]
        },
        {
         "name": "天栋_反馈延期个性化数",
         "type": "bar",
         "uid": "8118ccd5-c147-11e8-a03c-d89ef3991fb3",
         "x": [
          "8-4"
         ],
         "y": [
          0
         ]
        },
        {
         "name": "传文_24h内未完成数据反馈项目数",
         "type": "bar",
         "uid": "8118ccd6-c147-11e8-bc86-d89ef3991fb3",
         "x": [
          "8-4"
         ],
         "y": [
          0
         ]
        },
        {
         "name": "传文_反馈延期个性化数",
         "type": "bar",
         "uid": "8118ccd7-c147-11e8-b9f2-d89ef3991fb3",
         "x": [
          "8-4"
         ],
         "y": [
          0
         ]
        },
        {
         "name": "文文_24h内未完成数据反馈项目数",
         "type": "bar",
         "uid": "8118ccd8-c147-11e8-bad6-d89ef3991fb3",
         "x": [
          "8-4"
         ],
         "y": [
          0
         ]
        },
        {
         "name": "文文_反馈延期个性化数",
         "type": "bar",
         "uid": "8118ccd9-c147-11e8-aafa-d89ef3991fb3",
         "x": [
          "8-4"
         ],
         "y": [
          0
         ]
        },
        {
         "name": "恩惠_24h内未完成数据反馈项目数",
         "type": "bar",
         "uid": "8118ccda-c147-11e8-b2f4-d89ef3991fb3",
         "x": [
          "8-4"
         ],
         "y": [
          0
         ]
        },
        {
         "name": "恩惠_反馈延期个性化数",
         "type": "bar",
         "uid": "8118ccdb-c147-11e8-97ea-d89ef3991fb3",
         "x": [
          "8-4"
         ],
         "y": [
          0
         ]
        }
       ],
       "layout": {
        "title": "24h内未完成数据反馈项目数&反馈延期个性化数周趋势图",
        "xaxis": {
         "mirror": "all",
         "nticks": 20,
         "showgrid": true,
         "showline": true,
         "title": "周",
         "zeroline": true
        },
        "yaxis": {
         "mirror": "all",
         "nticks": 20,
         "showgrid": true,
         "showline": true,
         "title": "24h内未完成数据反馈项目数&反馈延期个性化数",
         "zeroline": true
        }
       }
      },
      "text/html": [
       "<div id=\"5292cc02-2252-478f-ae83-a5f07188d667\" style=\"height: 525px; width: 100%;\" class=\"plotly-graph-div\"></div><script type=\"text/javascript\">require([\"plotly\"], function(Plotly) { window.PLOTLYENV=window.PLOTLYENV || {};window.PLOTLYENV.BASE_URL=\"https://plot.ly\";Plotly.newPlot(\"5292cc02-2252-478f-ae83-a5f07188d667\", [{\"name\": \"\\u8f66\\u5929\\u680b_24h\\u5185\\u672a\\u5b8c\\u6210\\u6570\\u636e\\u53cd\\u9988\\u9879\\u76ee\\u6570\", \"x\": [\"8-1\", \"8-2\", \"8-3\", \"8-5\", \"9-1\", \"9-2\"], \"y\": [0.0, 0.0, 0.0, 0.0, 0.0, 0.0], \"type\": \"bar\", \"uid\": \"8118ccc6-c147-11e8-b881-d89ef3991fb3\"}, {\"name\": \"\\u8f66\\u5929\\u680b_\\u53cd\\u9988\\u5ef6\\u671f\\u4e2a\\u6027\\u5316\\u6570\", \"x\": [\"8-1\", \"8-2\", \"8-3\", \"8-5\", \"9-1\", \"9-2\"], \"y\": [0.0, 0.0, 0.0, 0.0, 0.0, 0.0], \"type\": \"bar\", \"uid\": \"8118ccc7-c147-11e8-b586-d89ef3991fb3\"}, {\"name\": \"\\u6c88\\u7acb\\u7fa4_24h\\u5185\\u672a\\u5b8c\\u6210\\u6570\\u636e\\u53cd\\u9988\\u9879\\u76ee\\u6570\", \"x\": [\"8-1\", \"8-2\", \"8-3\", \"8-5\", \"9-1\", \"9-2\"], \"y\": [0.0, 0.0, 0.0, 0.0, 0.0, 0.0], \"type\": \"bar\", \"uid\": \"8118ccc8-c147-11e8-a64b-d89ef3991fb3\"}, {\"name\": \"\\u6c88\\u7acb\\u7fa4_\\u53cd\\u9988\\u5ef6\\u671f\\u4e2a\\u6027\\u5316\\u6570\", \"x\": [\"8-1\", \"8-2\", \"8-3\", \"8-5\", \"9-1\", \"9-2\"], \"y\": [0.0, 0.0, 0.0, 0.0, 0.0, 0.0], \"type\": \"bar\", \"uid\": \"8118ccc9-c147-11e8-87d8-d89ef3991fb3\"}, {\"name\": \"\\u9ad8\\u5251_24h\\u5185\\u672a\\u5b8c\\u6210\\u6570\\u636e\\u53cd\\u9988\\u9879\\u76ee\\u6570\", \"x\": [\"8-1\", \"8-2\", \"8-3\", \"8-4\", \"8-5\", \"9-1\", \"9-2\"], \"y\": [0.0, 0.0, 0.0, 0.0, 0.0, 0.0, 0.0], \"type\": \"bar\", \"uid\": \"8118ccca-c147-11e8-a7c6-d89ef3991fb3\"}, {\"name\": \"\\u9ad8\\u5251_\\u53cd\\u9988\\u5ef6\\u671f\\u4e2a\\u6027\\u5316\\u6570\", \"x\": [\"8-1\", \"8-2\", \"8-3\", \"8-4\", \"8-5\", \"9-1\", \"9-2\"], \"y\": [0.0, 0.0, 0.0, 0.0, 0.0, 0.0, 0.0], \"type\": \"bar\", \"uid\": \"8118cccb-c147-11e8-8138-d89ef3991fb3\"}, {\"name\": \"\\u738b\\u4f20\\u6587_24h\\u5185\\u672a\\u5b8c\\u6210\\u6570\\u636e\\u53cd\\u9988\\u9879\\u76ee\\u6570\", \"x\": [\"8-1\", \"8-2\", \"8-3\", \"8-5\", \"9-1\", \"9-2\"], \"y\": [0.0, 0.0, 0.0, 0.0, 0.0, 0.0], \"type\": \"bar\", \"uid\": \"8118cccc-c147-11e8-80b1-d89ef3991fb3\"}, {\"name\": \"\\u738b\\u4f20\\u6587_\\u53cd\\u9988\\u5ef6\\u671f\\u4e2a\\u6027\\u5316\\u6570\", \"x\": [\"8-1\", \"8-2\", \"8-3\", \"8-5\", \"9-1\", \"9-2\"], \"y\": [0.0, 0.0, 0.0, 0.0, 0.0, 0.0], \"type\": \"bar\", \"uid\": \"8118cccd-c147-11e8-80b8-d89ef3991fb3\"}, {\"name\": \"\\u6c88\\u6069\\u60e0_24h\\u5185\\u672a\\u5b8c\\u6210\\u6570\\u636e\\u53cd\\u9988\\u9879\\u76ee\\u6570\", \"x\": [\"8-1\", \"8-2\", \"8-3\", \"8-5\", \"9-1\", \"9-2\"], \"y\": [0.0, 0.0, 0.0, 0.0, 0.0, 0.0], \"type\": \"bar\", \"uid\": \"8118ccce-c147-11e8-bc33-d89ef3991fb3\"}, {\"name\": \"\\u6c88\\u6069\\u60e0_\\u53cd\\u9988\\u5ef6\\u671f\\u4e2a\\u6027\\u5316\\u6570\", \"x\": [\"8-1\", \"8-2\", \"8-3\", \"8-5\", \"9-1\", \"9-2\"], \"y\": [0.0, 0.0, 0.0, 0.0, 0.0, 0.0], \"type\": \"bar\", \"uid\": \"8118cccf-c147-11e8-bf15-d89ef3991fb3\"}, {\"name\": \"\\u6797\\u6587\\u6587_24h\\u5185\\u672a\\u5b8c\\u6210\\u6570\\u636e\\u53cd\\u9988\\u9879\\u76ee\\u6570\", \"x\": [\"8-1\", \"8-2\", \"8-3\", \"8-5\", \"9-1\", \"9-2\"], \"y\": [0.0, 0.0, 0.0, 0.0, 0.0, 0.0], \"type\": \"bar\", \"uid\": \"8118ccd0-c147-11e8-86dc-d89ef3991fb3\"}, {\"name\": \"\\u6797\\u6587\\u6587_\\u53cd\\u9988\\u5ef6\\u671f\\u4e2a\\u6027\\u5316\\u6570\", \"x\": [\"8-1\", \"8-2\", \"8-3\", \"8-5\", \"9-1\", \"9-2\"], \"y\": [0.0, 0.0, 0.0, 0.0, 0.0, 0.0], \"type\": \"bar\", \"uid\": \"8118ccd1-c147-11e8-864f-d89ef3991fb3\"}, {\"name\": \"\\u7acb\\u7fa4_24h\\u5185\\u672a\\u5b8c\\u6210\\u6570\\u636e\\u53cd\\u9988\\u9879\\u76ee\\u6570\", \"x\": [\"8-4\"], \"y\": [0.0], \"type\": \"bar\", \"uid\": \"8118ccd2-c147-11e8-89b7-d89ef3991fb3\"}, {\"name\": \"\\u7acb\\u7fa4_\\u53cd\\u9988\\u5ef6\\u671f\\u4e2a\\u6027\\u5316\\u6570\", \"x\": [\"8-4\"], \"y\": [0.0], \"type\": \"bar\", \"uid\": \"8118ccd3-c147-11e8-b8f0-d89ef3991fb3\"}, {\"name\": \"\\u5929\\u680b_24h\\u5185\\u672a\\u5b8c\\u6210\\u6570\\u636e\\u53cd\\u9988\\u9879\\u76ee\\u6570\", \"x\": [\"8-4\"], \"y\": [0.0], \"type\": \"bar\", \"uid\": \"8118ccd4-c147-11e8-b398-d89ef3991fb3\"}, {\"name\": \"\\u5929\\u680b_\\u53cd\\u9988\\u5ef6\\u671f\\u4e2a\\u6027\\u5316\\u6570\", \"x\": [\"8-4\"], \"y\": [0.0], \"type\": \"bar\", \"uid\": \"8118ccd5-c147-11e8-a03c-d89ef3991fb3\"}, {\"name\": \"\\u4f20\\u6587_24h\\u5185\\u672a\\u5b8c\\u6210\\u6570\\u636e\\u53cd\\u9988\\u9879\\u76ee\\u6570\", \"x\": [\"8-4\"], \"y\": [0.0], \"type\": \"bar\", \"uid\": \"8118ccd6-c147-11e8-bc86-d89ef3991fb3\"}, {\"name\": \"\\u4f20\\u6587_\\u53cd\\u9988\\u5ef6\\u671f\\u4e2a\\u6027\\u5316\\u6570\", \"x\": [\"8-4\"], \"y\": [0.0], \"type\": \"bar\", \"uid\": \"8118ccd7-c147-11e8-b9f2-d89ef3991fb3\"}, {\"name\": \"\\u6587\\u6587_24h\\u5185\\u672a\\u5b8c\\u6210\\u6570\\u636e\\u53cd\\u9988\\u9879\\u76ee\\u6570\", \"x\": [\"8-4\"], \"y\": [0.0], \"type\": \"bar\", \"uid\": \"8118ccd8-c147-11e8-bad6-d89ef3991fb3\"}, {\"name\": \"\\u6587\\u6587_\\u53cd\\u9988\\u5ef6\\u671f\\u4e2a\\u6027\\u5316\\u6570\", \"x\": [\"8-4\"], \"y\": [0.0], \"type\": \"bar\", \"uid\": \"8118ccd9-c147-11e8-aafa-d89ef3991fb3\"}, {\"name\": \"\\u6069\\u60e0_24h\\u5185\\u672a\\u5b8c\\u6210\\u6570\\u636e\\u53cd\\u9988\\u9879\\u76ee\\u6570\", \"x\": [\"8-4\"], \"y\": [0.0], \"type\": \"bar\", \"uid\": \"8118ccda-c147-11e8-b2f4-d89ef3991fb3\"}, {\"name\": \"\\u6069\\u60e0_\\u53cd\\u9988\\u5ef6\\u671f\\u4e2a\\u6027\\u5316\\u6570\", \"x\": [\"8-4\"], \"y\": [0.0], \"type\": \"bar\", \"uid\": \"8118ccdb-c147-11e8-97ea-d89ef3991fb3\"}], {\"title\": \"24h\\u5185\\u672a\\u5b8c\\u6210\\u6570\\u636e\\u53cd\\u9988\\u9879\\u76ee\\u6570&\\u53cd\\u9988\\u5ef6\\u671f\\u4e2a\\u6027\\u5316\\u6570\\u5468\\u8d8b\\u52bf\\u56fe\", \"xaxis\": {\"mirror\": \"all\", \"nticks\": 20, \"showgrid\": true, \"showline\": true, \"title\": \"\\u5468\", \"zeroline\": true}, \"yaxis\": {\"mirror\": \"all\", \"nticks\": 20, \"showgrid\": true, \"showline\": true, \"title\": \"24h\\u5185\\u672a\\u5b8c\\u6210\\u6570\\u636e\\u53cd\\u9988\\u9879\\u76ee\\u6570&\\u53cd\\u9988\\u5ef6\\u671f\\u4e2a\\u6027\\u5316\\u6570\", \"zeroline\": true}}, {\"showLink\": true, \"linkText\": \"Export to plot.ly\"})});</script>"
      ],
      "text/vnd.plotly.v1+html": [
       "<div id=\"5292cc02-2252-478f-ae83-a5f07188d667\" style=\"height: 525px; width: 100%;\" class=\"plotly-graph-div\"></div><script type=\"text/javascript\">require([\"plotly\"], function(Plotly) { window.PLOTLYENV=window.PLOTLYENV || {};window.PLOTLYENV.BASE_URL=\"https://plot.ly\";Plotly.newPlot(\"5292cc02-2252-478f-ae83-a5f07188d667\", [{\"name\": \"\\u8f66\\u5929\\u680b_24h\\u5185\\u672a\\u5b8c\\u6210\\u6570\\u636e\\u53cd\\u9988\\u9879\\u76ee\\u6570\", \"x\": [\"8-1\", \"8-2\", \"8-3\", \"8-5\", \"9-1\", \"9-2\"], \"y\": [0.0, 0.0, 0.0, 0.0, 0.0, 0.0], \"type\": \"bar\", \"uid\": \"8118ccc6-c147-11e8-b881-d89ef3991fb3\"}, {\"name\": \"\\u8f66\\u5929\\u680b_\\u53cd\\u9988\\u5ef6\\u671f\\u4e2a\\u6027\\u5316\\u6570\", \"x\": [\"8-1\", \"8-2\", \"8-3\", \"8-5\", \"9-1\", \"9-2\"], \"y\": [0.0, 0.0, 0.0, 0.0, 0.0, 0.0], \"type\": \"bar\", \"uid\": \"8118ccc7-c147-11e8-b586-d89ef3991fb3\"}, {\"name\": \"\\u6c88\\u7acb\\u7fa4_24h\\u5185\\u672a\\u5b8c\\u6210\\u6570\\u636e\\u53cd\\u9988\\u9879\\u76ee\\u6570\", \"x\": [\"8-1\", \"8-2\", \"8-3\", \"8-5\", \"9-1\", \"9-2\"], \"y\": [0.0, 0.0, 0.0, 0.0, 0.0, 0.0], \"type\": \"bar\", \"uid\": \"8118ccc8-c147-11e8-a64b-d89ef3991fb3\"}, {\"name\": \"\\u6c88\\u7acb\\u7fa4_\\u53cd\\u9988\\u5ef6\\u671f\\u4e2a\\u6027\\u5316\\u6570\", \"x\": [\"8-1\", \"8-2\", \"8-3\", \"8-5\", \"9-1\", \"9-2\"], \"y\": [0.0, 0.0, 0.0, 0.0, 0.0, 0.0], \"type\": \"bar\", \"uid\": \"8118ccc9-c147-11e8-87d8-d89ef3991fb3\"}, {\"name\": \"\\u9ad8\\u5251_24h\\u5185\\u672a\\u5b8c\\u6210\\u6570\\u636e\\u53cd\\u9988\\u9879\\u76ee\\u6570\", \"x\": [\"8-1\", \"8-2\", \"8-3\", \"8-4\", \"8-5\", \"9-1\", \"9-2\"], \"y\": [0.0, 0.0, 0.0, 0.0, 0.0, 0.0, 0.0], \"type\": \"bar\", \"uid\": \"8118ccca-c147-11e8-a7c6-d89ef3991fb3\"}, {\"name\": \"\\u9ad8\\u5251_\\u53cd\\u9988\\u5ef6\\u671f\\u4e2a\\u6027\\u5316\\u6570\", \"x\": [\"8-1\", \"8-2\", \"8-3\", \"8-4\", \"8-5\", \"9-1\", \"9-2\"], \"y\": [0.0, 0.0, 0.0, 0.0, 0.0, 0.0, 0.0], \"type\": \"bar\", \"uid\": \"8118cccb-c147-11e8-8138-d89ef3991fb3\"}, {\"name\": \"\\u738b\\u4f20\\u6587_24h\\u5185\\u672a\\u5b8c\\u6210\\u6570\\u636e\\u53cd\\u9988\\u9879\\u76ee\\u6570\", \"x\": [\"8-1\", \"8-2\", \"8-3\", \"8-5\", \"9-1\", \"9-2\"], \"y\": [0.0, 0.0, 0.0, 0.0, 0.0, 0.0], \"type\": \"bar\", \"uid\": \"8118cccc-c147-11e8-80b1-d89ef3991fb3\"}, {\"name\": \"\\u738b\\u4f20\\u6587_\\u53cd\\u9988\\u5ef6\\u671f\\u4e2a\\u6027\\u5316\\u6570\", \"x\": [\"8-1\", \"8-2\", \"8-3\", \"8-5\", \"9-1\", \"9-2\"], \"y\": [0.0, 0.0, 0.0, 0.0, 0.0, 0.0], \"type\": \"bar\", \"uid\": \"8118cccd-c147-11e8-80b8-d89ef3991fb3\"}, {\"name\": \"\\u6c88\\u6069\\u60e0_24h\\u5185\\u672a\\u5b8c\\u6210\\u6570\\u636e\\u53cd\\u9988\\u9879\\u76ee\\u6570\", \"x\": [\"8-1\", \"8-2\", \"8-3\", \"8-5\", \"9-1\", \"9-2\"], \"y\": [0.0, 0.0, 0.0, 0.0, 0.0, 0.0], \"type\": \"bar\", \"uid\": \"8118ccce-c147-11e8-bc33-d89ef3991fb3\"}, {\"name\": \"\\u6c88\\u6069\\u60e0_\\u53cd\\u9988\\u5ef6\\u671f\\u4e2a\\u6027\\u5316\\u6570\", \"x\": [\"8-1\", \"8-2\", \"8-3\", \"8-5\", \"9-1\", \"9-2\"], \"y\": [0.0, 0.0, 0.0, 0.0, 0.0, 0.0], \"type\": \"bar\", \"uid\": \"8118cccf-c147-11e8-bf15-d89ef3991fb3\"}, {\"name\": \"\\u6797\\u6587\\u6587_24h\\u5185\\u672a\\u5b8c\\u6210\\u6570\\u636e\\u53cd\\u9988\\u9879\\u76ee\\u6570\", \"x\": [\"8-1\", \"8-2\", \"8-3\", \"8-5\", \"9-1\", \"9-2\"], \"y\": [0.0, 0.0, 0.0, 0.0, 0.0, 0.0], \"type\": \"bar\", \"uid\": \"8118ccd0-c147-11e8-86dc-d89ef3991fb3\"}, {\"name\": \"\\u6797\\u6587\\u6587_\\u53cd\\u9988\\u5ef6\\u671f\\u4e2a\\u6027\\u5316\\u6570\", \"x\": [\"8-1\", \"8-2\", \"8-3\", \"8-5\", \"9-1\", \"9-2\"], \"y\": [0.0, 0.0, 0.0, 0.0, 0.0, 0.0], \"type\": \"bar\", \"uid\": \"8118ccd1-c147-11e8-864f-d89ef3991fb3\"}, {\"name\": \"\\u7acb\\u7fa4_24h\\u5185\\u672a\\u5b8c\\u6210\\u6570\\u636e\\u53cd\\u9988\\u9879\\u76ee\\u6570\", \"x\": [\"8-4\"], \"y\": [0.0], \"type\": \"bar\", \"uid\": \"8118ccd2-c147-11e8-89b7-d89ef3991fb3\"}, {\"name\": \"\\u7acb\\u7fa4_\\u53cd\\u9988\\u5ef6\\u671f\\u4e2a\\u6027\\u5316\\u6570\", \"x\": [\"8-4\"], \"y\": [0.0], \"type\": \"bar\", \"uid\": \"8118ccd3-c147-11e8-b8f0-d89ef3991fb3\"}, {\"name\": \"\\u5929\\u680b_24h\\u5185\\u672a\\u5b8c\\u6210\\u6570\\u636e\\u53cd\\u9988\\u9879\\u76ee\\u6570\", \"x\": [\"8-4\"], \"y\": [0.0], \"type\": \"bar\", \"uid\": \"8118ccd4-c147-11e8-b398-d89ef3991fb3\"}, {\"name\": \"\\u5929\\u680b_\\u53cd\\u9988\\u5ef6\\u671f\\u4e2a\\u6027\\u5316\\u6570\", \"x\": [\"8-4\"], \"y\": [0.0], \"type\": \"bar\", \"uid\": \"8118ccd5-c147-11e8-a03c-d89ef3991fb3\"}, {\"name\": \"\\u4f20\\u6587_24h\\u5185\\u672a\\u5b8c\\u6210\\u6570\\u636e\\u53cd\\u9988\\u9879\\u76ee\\u6570\", \"x\": [\"8-4\"], \"y\": [0.0], \"type\": \"bar\", \"uid\": \"8118ccd6-c147-11e8-bc86-d89ef3991fb3\"}, {\"name\": \"\\u4f20\\u6587_\\u53cd\\u9988\\u5ef6\\u671f\\u4e2a\\u6027\\u5316\\u6570\", \"x\": [\"8-4\"], \"y\": [0.0], \"type\": \"bar\", \"uid\": \"8118ccd7-c147-11e8-b9f2-d89ef3991fb3\"}, {\"name\": \"\\u6587\\u6587_24h\\u5185\\u672a\\u5b8c\\u6210\\u6570\\u636e\\u53cd\\u9988\\u9879\\u76ee\\u6570\", \"x\": [\"8-4\"], \"y\": [0.0], \"type\": \"bar\", \"uid\": \"8118ccd8-c147-11e8-bad6-d89ef3991fb3\"}, {\"name\": \"\\u6587\\u6587_\\u53cd\\u9988\\u5ef6\\u671f\\u4e2a\\u6027\\u5316\\u6570\", \"x\": [\"8-4\"], \"y\": [0.0], \"type\": \"bar\", \"uid\": \"8118ccd9-c147-11e8-aafa-d89ef3991fb3\"}, {\"name\": \"\\u6069\\u60e0_24h\\u5185\\u672a\\u5b8c\\u6210\\u6570\\u636e\\u53cd\\u9988\\u9879\\u76ee\\u6570\", \"x\": [\"8-4\"], \"y\": [0.0], \"type\": \"bar\", \"uid\": \"8118ccda-c147-11e8-b2f4-d89ef3991fb3\"}, {\"name\": \"\\u6069\\u60e0_\\u53cd\\u9988\\u5ef6\\u671f\\u4e2a\\u6027\\u5316\\u6570\", \"x\": [\"8-4\"], \"y\": [0.0], \"type\": \"bar\", \"uid\": \"8118ccdb-c147-11e8-97ea-d89ef3991fb3\"}], {\"title\": \"24h\\u5185\\u672a\\u5b8c\\u6210\\u6570\\u636e\\u53cd\\u9988\\u9879\\u76ee\\u6570&\\u53cd\\u9988\\u5ef6\\u671f\\u4e2a\\u6027\\u5316\\u6570\\u5468\\u8d8b\\u52bf\\u56fe\", \"xaxis\": {\"mirror\": \"all\", \"nticks\": 20, \"showgrid\": true, \"showline\": true, \"title\": \"\\u5468\", \"zeroline\": true}, \"yaxis\": {\"mirror\": \"all\", \"nticks\": 20, \"showgrid\": true, \"showline\": true, \"title\": \"24h\\u5185\\u672a\\u5b8c\\u6210\\u6570\\u636e\\u53cd\\u9988\\u9879\\u76ee\\u6570&\\u53cd\\u9988\\u5ef6\\u671f\\u4e2a\\u6027\\u5316\\u6570\", \"zeroline\": true}}, {\"showLink\": true, \"linkText\": \"Export to plot.ly\"})});</script>"
      ]
     },
     "metadata": {},
     "output_type": "display_data"
    },
    {
     "data": {
      "application/vnd.plotly.v1+json": {
       "data": [
        {
         "name": "传文_24h内未完成数据反馈项目数",
         "type": "bar",
         "uid": "813dc694-c147-11e8-b257-d89ef3991fb3",
         "x": [
          "8"
         ],
         "y": [
          null
         ]
        },
        {
         "name": "传文_反馈延期个性化数",
         "type": "bar",
         "uid": "813dc695-c147-11e8-a763-d89ef3991fb3",
         "x": [
          "8"
         ],
         "y": [
          null
         ]
        },
        {
         "name": "天栋_24h内未完成数据反馈项目数",
         "type": "bar",
         "uid": "813dc696-c147-11e8-9858-d89ef3991fb3",
         "x": [
          "8"
         ],
         "y": [
          null
         ]
        },
        {
         "name": "天栋_反馈延期个性化数",
         "type": "bar",
         "uid": "813dc697-c147-11e8-a48b-d89ef3991fb3",
         "x": [
          "8"
         ],
         "y": [
          null
         ]
        },
        {
         "name": "恩惠_24h内未完成数据反馈项目数",
         "type": "bar",
         "uid": "813ded8a-c147-11e8-a236-d89ef3991fb3",
         "x": [
          "8"
         ],
         "y": [
          null
         ]
        },
        {
         "name": "恩惠_反馈延期个性化数",
         "type": "bar",
         "uid": "813ded8b-c147-11e8-ae09-d89ef3991fb3",
         "x": [
          "8"
         ],
         "y": [
          null
         ]
        },
        {
         "name": "文文_24h内未完成数据反馈项目数",
         "type": "bar",
         "uid": "813ded8c-c147-11e8-a393-d89ef3991fb3",
         "x": [
          "8"
         ],
         "y": [
          null
         ]
        },
        {
         "name": "文文_反馈延期个性化数",
         "type": "bar",
         "uid": "813ded8d-c147-11e8-a1cb-d89ef3991fb3",
         "x": [
          "8"
         ],
         "y": [
          null
         ]
        },
        {
         "name": "林文文_24h内未完成数据反馈项目数",
         "type": "bar",
         "uid": "813ded8e-c147-11e8-a839-d89ef3991fb3",
         "x": [
          "8",
          "9"
         ],
         "y": [
          null,
          0
         ]
        },
        {
         "name": "林文文_反馈延期个性化数",
         "type": "bar",
         "uid": "813ded8f-c147-11e8-9557-d89ef3991fb3",
         "x": [
          "8",
          "9"
         ],
         "y": [
          null,
          0
         ]
        },
        {
         "name": "沈恩惠_24h内未完成数据反馈项目数",
         "type": "bar",
         "uid": "813ded90-c147-11e8-bee4-d89ef3991fb3",
         "x": [
          "8",
          "9"
         ],
         "y": [
          null,
          0
         ]
        },
        {
         "name": "沈恩惠_反馈延期个性化数",
         "type": "bar",
         "uid": "813ded91-c147-11e8-8c5c-d89ef3991fb3",
         "x": [
          "8",
          "9"
         ],
         "y": [
          null,
          0
         ]
        },
        {
         "name": "沈立群_24h内未完成数据反馈项目数",
         "type": "bar",
         "uid": "813ded92-c147-11e8-9d64-d89ef3991fb3",
         "x": [
          "8",
          "9"
         ],
         "y": [
          null,
          0
         ]
        },
        {
         "name": "沈立群_反馈延期个性化数",
         "type": "bar",
         "uid": "813ded93-c147-11e8-8c6f-d89ef3991fb3",
         "x": [
          "8",
          "9"
         ],
         "y": [
          null,
          0
         ]
        },
        {
         "name": "王传文_24h内未完成数据反馈项目数",
         "type": "bar",
         "uid": "813ded94-c147-11e8-93a7-d89ef3991fb3",
         "x": [
          "8",
          "9"
         ],
         "y": [
          null,
          0
         ]
        },
        {
         "name": "王传文_反馈延期个性化数",
         "type": "bar",
         "uid": "813ded95-c147-11e8-8df9-d89ef3991fb3",
         "x": [
          "8",
          "9"
         ],
         "y": [
          null,
          0
         ]
        },
        {
         "name": "立群_24h内未完成数据反馈项目数",
         "type": "bar",
         "uid": "813ded96-c147-11e8-bb07-d89ef3991fb3",
         "x": [
          "8"
         ],
         "y": [
          null
         ]
        },
        {
         "name": "立群_反馈延期个性化数",
         "type": "bar",
         "uid": "813ded97-c147-11e8-9776-d89ef3991fb3",
         "x": [
          "8"
         ],
         "y": [
          null
         ]
        },
        {
         "name": "车天栋_24h内未完成数据反馈项目数",
         "type": "bar",
         "uid": "813ded98-c147-11e8-a760-d89ef3991fb3",
         "x": [
          "8",
          "9"
         ],
         "y": [
          null,
          0
         ]
        },
        {
         "name": "车天栋_反馈延期个性化数",
         "type": "bar",
         "uid": "813ded99-c147-11e8-9ba5-d89ef3991fb3",
         "x": [
          "8",
          "9"
         ],
         "y": [
          null,
          0
         ]
        },
        {
         "name": "高剑_24h内未完成数据反馈项目数",
         "type": "bar",
         "uid": "813ded9a-c147-11e8-8b7c-d89ef3991fb3",
         "x": [
          "8",
          "9"
         ],
         "y": [
          0,
          0
         ]
        },
        {
         "name": "高剑_反馈延期个性化数",
         "type": "bar",
         "uid": "813ded9b-c147-11e8-bbd5-d89ef3991fb3",
         "x": [
          "8",
          "9"
         ],
         "y": [
          0,
          0
         ]
        }
       ],
       "layout": {
        "title": "24h内未完成数据反馈项目数&反馈延期个性化数月趋势图",
        "xaxis": {
         "mirror": "all",
         "nticks": 20,
         "showgrid": true,
         "showline": true,
         "title": "月",
         "zeroline": true
        },
        "yaxis": {
         "mirror": "all",
         "nticks": 20,
         "showgrid": true,
         "showline": true,
         "title": "24h内未完成数据反馈项目数&反馈延期个性化数",
         "zeroline": true
        }
       }
      },
      "text/html": [
       "<div id=\"4a62c612-dcfb-461e-aa15-768361adf807\" style=\"height: 525px; width: 100%;\" class=\"plotly-graph-div\"></div><script type=\"text/javascript\">require([\"plotly\"], function(Plotly) { window.PLOTLYENV=window.PLOTLYENV || {};window.PLOTLYENV.BASE_URL=\"https://plot.ly\";Plotly.newPlot(\"4a62c612-dcfb-461e-aa15-768361adf807\", [{\"name\": \"\\u4f20\\u6587_24h\\u5185\\u672a\\u5b8c\\u6210\\u6570\\u636e\\u53cd\\u9988\\u9879\\u76ee\\u6570\", \"x\": [\"8\"], \"y\": [null], \"type\": \"bar\", \"uid\": \"813dc694-c147-11e8-b257-d89ef3991fb3\"}, {\"name\": \"\\u4f20\\u6587_\\u53cd\\u9988\\u5ef6\\u671f\\u4e2a\\u6027\\u5316\\u6570\", \"x\": [\"8\"], \"y\": [null], \"type\": \"bar\", \"uid\": \"813dc695-c147-11e8-a763-d89ef3991fb3\"}, {\"name\": \"\\u5929\\u680b_24h\\u5185\\u672a\\u5b8c\\u6210\\u6570\\u636e\\u53cd\\u9988\\u9879\\u76ee\\u6570\", \"x\": [\"8\"], \"y\": [null], \"type\": \"bar\", \"uid\": \"813dc696-c147-11e8-9858-d89ef3991fb3\"}, {\"name\": \"\\u5929\\u680b_\\u53cd\\u9988\\u5ef6\\u671f\\u4e2a\\u6027\\u5316\\u6570\", \"x\": [\"8\"], \"y\": [null], \"type\": \"bar\", \"uid\": \"813dc697-c147-11e8-a48b-d89ef3991fb3\"}, {\"name\": \"\\u6069\\u60e0_24h\\u5185\\u672a\\u5b8c\\u6210\\u6570\\u636e\\u53cd\\u9988\\u9879\\u76ee\\u6570\", \"x\": [\"8\"], \"y\": [null], \"type\": \"bar\", \"uid\": \"813ded8a-c147-11e8-a236-d89ef3991fb3\"}, {\"name\": \"\\u6069\\u60e0_\\u53cd\\u9988\\u5ef6\\u671f\\u4e2a\\u6027\\u5316\\u6570\", \"x\": [\"8\"], \"y\": [null], \"type\": \"bar\", \"uid\": \"813ded8b-c147-11e8-ae09-d89ef3991fb3\"}, {\"name\": \"\\u6587\\u6587_24h\\u5185\\u672a\\u5b8c\\u6210\\u6570\\u636e\\u53cd\\u9988\\u9879\\u76ee\\u6570\", \"x\": [\"8\"], \"y\": [null], \"type\": \"bar\", \"uid\": \"813ded8c-c147-11e8-a393-d89ef3991fb3\"}, {\"name\": \"\\u6587\\u6587_\\u53cd\\u9988\\u5ef6\\u671f\\u4e2a\\u6027\\u5316\\u6570\", \"x\": [\"8\"], \"y\": [null], \"type\": \"bar\", \"uid\": \"813ded8d-c147-11e8-a1cb-d89ef3991fb3\"}, {\"name\": \"\\u6797\\u6587\\u6587_24h\\u5185\\u672a\\u5b8c\\u6210\\u6570\\u636e\\u53cd\\u9988\\u9879\\u76ee\\u6570\", \"x\": [\"8\", \"9\"], \"y\": [null, 0.0], \"type\": \"bar\", \"uid\": \"813ded8e-c147-11e8-a839-d89ef3991fb3\"}, {\"name\": \"\\u6797\\u6587\\u6587_\\u53cd\\u9988\\u5ef6\\u671f\\u4e2a\\u6027\\u5316\\u6570\", \"x\": [\"8\", \"9\"], \"y\": [null, 0.0], \"type\": \"bar\", \"uid\": \"813ded8f-c147-11e8-9557-d89ef3991fb3\"}, {\"name\": \"\\u6c88\\u6069\\u60e0_24h\\u5185\\u672a\\u5b8c\\u6210\\u6570\\u636e\\u53cd\\u9988\\u9879\\u76ee\\u6570\", \"x\": [\"8\", \"9\"], \"y\": [null, 0.0], \"type\": \"bar\", \"uid\": \"813ded90-c147-11e8-bee4-d89ef3991fb3\"}, {\"name\": \"\\u6c88\\u6069\\u60e0_\\u53cd\\u9988\\u5ef6\\u671f\\u4e2a\\u6027\\u5316\\u6570\", \"x\": [\"8\", \"9\"], \"y\": [null, 0.0], \"type\": \"bar\", \"uid\": \"813ded91-c147-11e8-8c5c-d89ef3991fb3\"}, {\"name\": \"\\u6c88\\u7acb\\u7fa4_24h\\u5185\\u672a\\u5b8c\\u6210\\u6570\\u636e\\u53cd\\u9988\\u9879\\u76ee\\u6570\", \"x\": [\"8\", \"9\"], \"y\": [null, 0.0], \"type\": \"bar\", \"uid\": \"813ded92-c147-11e8-9d64-d89ef3991fb3\"}, {\"name\": \"\\u6c88\\u7acb\\u7fa4_\\u53cd\\u9988\\u5ef6\\u671f\\u4e2a\\u6027\\u5316\\u6570\", \"x\": [\"8\", \"9\"], \"y\": [null, 0.0], \"type\": \"bar\", \"uid\": \"813ded93-c147-11e8-8c6f-d89ef3991fb3\"}, {\"name\": \"\\u738b\\u4f20\\u6587_24h\\u5185\\u672a\\u5b8c\\u6210\\u6570\\u636e\\u53cd\\u9988\\u9879\\u76ee\\u6570\", \"x\": [\"8\", \"9\"], \"y\": [null, 0.0], \"type\": \"bar\", \"uid\": \"813ded94-c147-11e8-93a7-d89ef3991fb3\"}, {\"name\": \"\\u738b\\u4f20\\u6587_\\u53cd\\u9988\\u5ef6\\u671f\\u4e2a\\u6027\\u5316\\u6570\", \"x\": [\"8\", \"9\"], \"y\": [null, 0.0], \"type\": \"bar\", \"uid\": \"813ded95-c147-11e8-8df9-d89ef3991fb3\"}, {\"name\": \"\\u7acb\\u7fa4_24h\\u5185\\u672a\\u5b8c\\u6210\\u6570\\u636e\\u53cd\\u9988\\u9879\\u76ee\\u6570\", \"x\": [\"8\"], \"y\": [null], \"type\": \"bar\", \"uid\": \"813ded96-c147-11e8-bb07-d89ef3991fb3\"}, {\"name\": \"\\u7acb\\u7fa4_\\u53cd\\u9988\\u5ef6\\u671f\\u4e2a\\u6027\\u5316\\u6570\", \"x\": [\"8\"], \"y\": [null], \"type\": \"bar\", \"uid\": \"813ded97-c147-11e8-9776-d89ef3991fb3\"}, {\"name\": \"\\u8f66\\u5929\\u680b_24h\\u5185\\u672a\\u5b8c\\u6210\\u6570\\u636e\\u53cd\\u9988\\u9879\\u76ee\\u6570\", \"x\": [\"8\", \"9\"], \"y\": [null, 0.0], \"type\": \"bar\", \"uid\": \"813ded98-c147-11e8-a760-d89ef3991fb3\"}, {\"name\": \"\\u8f66\\u5929\\u680b_\\u53cd\\u9988\\u5ef6\\u671f\\u4e2a\\u6027\\u5316\\u6570\", \"x\": [\"8\", \"9\"], \"y\": [null, 0.0], \"type\": \"bar\", \"uid\": \"813ded99-c147-11e8-9ba5-d89ef3991fb3\"}, {\"name\": \"\\u9ad8\\u5251_24h\\u5185\\u672a\\u5b8c\\u6210\\u6570\\u636e\\u53cd\\u9988\\u9879\\u76ee\\u6570\", \"x\": [\"8\", \"9\"], \"y\": [0.0, 0.0], \"type\": \"bar\", \"uid\": \"813ded9a-c147-11e8-8b7c-d89ef3991fb3\"}, {\"name\": \"\\u9ad8\\u5251_\\u53cd\\u9988\\u5ef6\\u671f\\u4e2a\\u6027\\u5316\\u6570\", \"x\": [\"8\", \"9\"], \"y\": [0.0, 0.0], \"type\": \"bar\", \"uid\": \"813ded9b-c147-11e8-bbd5-d89ef3991fb3\"}], {\"title\": \"24h\\u5185\\u672a\\u5b8c\\u6210\\u6570\\u636e\\u53cd\\u9988\\u9879\\u76ee\\u6570&\\u53cd\\u9988\\u5ef6\\u671f\\u4e2a\\u6027\\u5316\\u6570\\u6708\\u8d8b\\u52bf\\u56fe\", \"xaxis\": {\"mirror\": \"all\", \"nticks\": 20, \"showgrid\": true, \"showline\": true, \"title\": \"\\u6708\", \"zeroline\": true}, \"yaxis\": {\"mirror\": \"all\", \"nticks\": 20, \"showgrid\": true, \"showline\": true, \"title\": \"24h\\u5185\\u672a\\u5b8c\\u6210\\u6570\\u636e\\u53cd\\u9988\\u9879\\u76ee\\u6570&\\u53cd\\u9988\\u5ef6\\u671f\\u4e2a\\u6027\\u5316\\u6570\", \"zeroline\": true}}, {\"showLink\": true, \"linkText\": \"Export to plot.ly\"})});</script>"
      ],
      "text/vnd.plotly.v1+html": [
       "<div id=\"4a62c612-dcfb-461e-aa15-768361adf807\" style=\"height: 525px; width: 100%;\" class=\"plotly-graph-div\"></div><script type=\"text/javascript\">require([\"plotly\"], function(Plotly) { window.PLOTLYENV=window.PLOTLYENV || {};window.PLOTLYENV.BASE_URL=\"https://plot.ly\";Plotly.newPlot(\"4a62c612-dcfb-461e-aa15-768361adf807\", [{\"name\": \"\\u4f20\\u6587_24h\\u5185\\u672a\\u5b8c\\u6210\\u6570\\u636e\\u53cd\\u9988\\u9879\\u76ee\\u6570\", \"x\": [\"8\"], \"y\": [null], \"type\": \"bar\", \"uid\": \"813dc694-c147-11e8-b257-d89ef3991fb3\"}, {\"name\": \"\\u4f20\\u6587_\\u53cd\\u9988\\u5ef6\\u671f\\u4e2a\\u6027\\u5316\\u6570\", \"x\": [\"8\"], \"y\": [null], \"type\": \"bar\", \"uid\": \"813dc695-c147-11e8-a763-d89ef3991fb3\"}, {\"name\": \"\\u5929\\u680b_24h\\u5185\\u672a\\u5b8c\\u6210\\u6570\\u636e\\u53cd\\u9988\\u9879\\u76ee\\u6570\", \"x\": [\"8\"], \"y\": [null], \"type\": \"bar\", \"uid\": \"813dc696-c147-11e8-9858-d89ef3991fb3\"}, {\"name\": \"\\u5929\\u680b_\\u53cd\\u9988\\u5ef6\\u671f\\u4e2a\\u6027\\u5316\\u6570\", \"x\": [\"8\"], \"y\": [null], \"type\": \"bar\", \"uid\": \"813dc697-c147-11e8-a48b-d89ef3991fb3\"}, {\"name\": \"\\u6069\\u60e0_24h\\u5185\\u672a\\u5b8c\\u6210\\u6570\\u636e\\u53cd\\u9988\\u9879\\u76ee\\u6570\", \"x\": [\"8\"], \"y\": [null], \"type\": \"bar\", \"uid\": \"813ded8a-c147-11e8-a236-d89ef3991fb3\"}, {\"name\": \"\\u6069\\u60e0_\\u53cd\\u9988\\u5ef6\\u671f\\u4e2a\\u6027\\u5316\\u6570\", \"x\": [\"8\"], \"y\": [null], \"type\": \"bar\", \"uid\": \"813ded8b-c147-11e8-ae09-d89ef3991fb3\"}, {\"name\": \"\\u6587\\u6587_24h\\u5185\\u672a\\u5b8c\\u6210\\u6570\\u636e\\u53cd\\u9988\\u9879\\u76ee\\u6570\", \"x\": [\"8\"], \"y\": [null], \"type\": \"bar\", \"uid\": \"813ded8c-c147-11e8-a393-d89ef3991fb3\"}, {\"name\": \"\\u6587\\u6587_\\u53cd\\u9988\\u5ef6\\u671f\\u4e2a\\u6027\\u5316\\u6570\", \"x\": [\"8\"], \"y\": [null], \"type\": \"bar\", \"uid\": \"813ded8d-c147-11e8-a1cb-d89ef3991fb3\"}, {\"name\": \"\\u6797\\u6587\\u6587_24h\\u5185\\u672a\\u5b8c\\u6210\\u6570\\u636e\\u53cd\\u9988\\u9879\\u76ee\\u6570\", \"x\": [\"8\", \"9\"], \"y\": [null, 0.0], \"type\": \"bar\", \"uid\": \"813ded8e-c147-11e8-a839-d89ef3991fb3\"}, {\"name\": \"\\u6797\\u6587\\u6587_\\u53cd\\u9988\\u5ef6\\u671f\\u4e2a\\u6027\\u5316\\u6570\", \"x\": [\"8\", \"9\"], \"y\": [null, 0.0], \"type\": \"bar\", \"uid\": \"813ded8f-c147-11e8-9557-d89ef3991fb3\"}, {\"name\": \"\\u6c88\\u6069\\u60e0_24h\\u5185\\u672a\\u5b8c\\u6210\\u6570\\u636e\\u53cd\\u9988\\u9879\\u76ee\\u6570\", \"x\": [\"8\", \"9\"], \"y\": [null, 0.0], \"type\": \"bar\", \"uid\": \"813ded90-c147-11e8-bee4-d89ef3991fb3\"}, {\"name\": \"\\u6c88\\u6069\\u60e0_\\u53cd\\u9988\\u5ef6\\u671f\\u4e2a\\u6027\\u5316\\u6570\", \"x\": [\"8\", \"9\"], \"y\": [null, 0.0], \"type\": \"bar\", \"uid\": \"813ded91-c147-11e8-8c5c-d89ef3991fb3\"}, {\"name\": \"\\u6c88\\u7acb\\u7fa4_24h\\u5185\\u672a\\u5b8c\\u6210\\u6570\\u636e\\u53cd\\u9988\\u9879\\u76ee\\u6570\", \"x\": [\"8\", \"9\"], \"y\": [null, 0.0], \"type\": \"bar\", \"uid\": \"813ded92-c147-11e8-9d64-d89ef3991fb3\"}, {\"name\": \"\\u6c88\\u7acb\\u7fa4_\\u53cd\\u9988\\u5ef6\\u671f\\u4e2a\\u6027\\u5316\\u6570\", \"x\": [\"8\", \"9\"], \"y\": [null, 0.0], \"type\": \"bar\", \"uid\": \"813ded93-c147-11e8-8c6f-d89ef3991fb3\"}, {\"name\": \"\\u738b\\u4f20\\u6587_24h\\u5185\\u672a\\u5b8c\\u6210\\u6570\\u636e\\u53cd\\u9988\\u9879\\u76ee\\u6570\", \"x\": [\"8\", \"9\"], \"y\": [null, 0.0], \"type\": \"bar\", \"uid\": \"813ded94-c147-11e8-93a7-d89ef3991fb3\"}, {\"name\": \"\\u738b\\u4f20\\u6587_\\u53cd\\u9988\\u5ef6\\u671f\\u4e2a\\u6027\\u5316\\u6570\", \"x\": [\"8\", \"9\"], \"y\": [null, 0.0], \"type\": \"bar\", \"uid\": \"813ded95-c147-11e8-8df9-d89ef3991fb3\"}, {\"name\": \"\\u7acb\\u7fa4_24h\\u5185\\u672a\\u5b8c\\u6210\\u6570\\u636e\\u53cd\\u9988\\u9879\\u76ee\\u6570\", \"x\": [\"8\"], \"y\": [null], \"type\": \"bar\", \"uid\": \"813ded96-c147-11e8-bb07-d89ef3991fb3\"}, {\"name\": \"\\u7acb\\u7fa4_\\u53cd\\u9988\\u5ef6\\u671f\\u4e2a\\u6027\\u5316\\u6570\", \"x\": [\"8\"], \"y\": [null], \"type\": \"bar\", \"uid\": \"813ded97-c147-11e8-9776-d89ef3991fb3\"}, {\"name\": \"\\u8f66\\u5929\\u680b_24h\\u5185\\u672a\\u5b8c\\u6210\\u6570\\u636e\\u53cd\\u9988\\u9879\\u76ee\\u6570\", \"x\": [\"8\", \"9\"], \"y\": [null, 0.0], \"type\": \"bar\", \"uid\": \"813ded98-c147-11e8-a760-d89ef3991fb3\"}, {\"name\": \"\\u8f66\\u5929\\u680b_\\u53cd\\u9988\\u5ef6\\u671f\\u4e2a\\u6027\\u5316\\u6570\", \"x\": [\"8\", \"9\"], \"y\": [null, 0.0], \"type\": \"bar\", \"uid\": \"813ded99-c147-11e8-9ba5-d89ef3991fb3\"}, {\"name\": \"\\u9ad8\\u5251_24h\\u5185\\u672a\\u5b8c\\u6210\\u6570\\u636e\\u53cd\\u9988\\u9879\\u76ee\\u6570\", \"x\": [\"8\", \"9\"], \"y\": [0.0, 0.0], \"type\": \"bar\", \"uid\": \"813ded9a-c147-11e8-8b7c-d89ef3991fb3\"}, {\"name\": \"\\u9ad8\\u5251_\\u53cd\\u9988\\u5ef6\\u671f\\u4e2a\\u6027\\u5316\\u6570\", \"x\": [\"8\", \"9\"], \"y\": [0.0, 0.0], \"type\": \"bar\", \"uid\": \"813ded9b-c147-11e8-bbd5-d89ef3991fb3\"}], {\"title\": \"24h\\u5185\\u672a\\u5b8c\\u6210\\u6570\\u636e\\u53cd\\u9988\\u9879\\u76ee\\u6570&\\u53cd\\u9988\\u5ef6\\u671f\\u4e2a\\u6027\\u5316\\u6570\\u6708\\u8d8b\\u52bf\\u56fe\", \"xaxis\": {\"mirror\": \"all\", \"nticks\": 20, \"showgrid\": true, \"showline\": true, \"title\": \"\\u6708\", \"zeroline\": true}, \"yaxis\": {\"mirror\": \"all\", \"nticks\": 20, \"showgrid\": true, \"showline\": true, \"title\": \"24h\\u5185\\u672a\\u5b8c\\u6210\\u6570\\u636e\\u53cd\\u9988\\u9879\\u76ee\\u6570&\\u53cd\\u9988\\u5ef6\\u671f\\u4e2a\\u6027\\u5316\\u6570\", \"zeroline\": true}}, {\"showLink\": true, \"linkText\": \"Export to plot.ly\"})});</script>"
      ]
     },
     "metadata": {},
     "output_type": "display_data"
    }
   ],
   "source": [
    "data_dict = {'24h内未完成数据反馈项目数':['24h内未完成数据反馈项目数'], '反馈延期个性化数':['反馈延期个性化数']}\n",
    "myModule.plot( all_dict, data_dict, '人员' ,  'bar')"
   ]
  }
 ],
 "metadata": {
  "celltoolbar": "Edit Metadata",
  "hide_input": false,
  "kernelspec": {
   "display_name": "Python 3",
   "language": "python",
   "name": "python3"
  },
  "language_info": {
   "codemirror_mode": {
    "name": "ipython",
    "version": 3
   },
   "file_extension": ".py",
   "mimetype": "text/x-python",
   "name": "python",
   "nbconvert_exporter": "python",
   "pygments_lexer": "ipython3",
   "version": "3.6.6"
  },
  "toc": {
   "base_numbering": 1,
   "nav_menu": {},
   "number_sections": true,
   "sideBar": true,
   "skip_h1_title": false,
   "title_cell": "Table of Contents",
   "title_sidebar": "Contents",
   "toc_cell": false,
   "toc_position": {
    "height": "513.333px",
    "left": "419px",
    "top": "110.926px",
    "width": "279px"
   },
   "toc_section_display": true,
   "toc_window_display": true
  }
 },
 "nbformat": 4,
 "nbformat_minor": 2
}
