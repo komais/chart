{
 "cells": [
  {
   "cell_type": "markdown",
   "metadata": {},
   "source": [
    "tobedone：每组人均产能，表格的规整和简化"
   ]
  },
  {
   "cell_type": "code",
   "execution_count": 75,
   "metadata": {},
   "outputs": [
    {
     "name": "stdout",
     "output_type": "stream",
     "text": [
      "The autoreload extension is already loaded. To reload it, use:\n",
      "  %reload_ext autoreload\n"
     ]
    }
   ],
   "source": [
    "%load_ext autoreload\n",
    "%autoreload 2"
   ]
  },
  {
   "cell_type": "code",
   "execution_count": 76,
   "metadata": {
    "scrolled": true
   },
   "outputs": [],
   "source": [
    "import sys\n",
    "sys.path.append('./')\n",
    "import myModule\n",
    "import imp\n",
    "#imp.reload(myModule)\n",
    "time_list=['week']"
   ]
  },
  {
   "cell_type": "code",
   "execution_count": 143,
   "metadata": {},
   "outputs": [
    {
     "data": {
      "text/html": [
       "<div>\n",
       "<style scoped>\n",
       "    .dataframe tbody tr th:only-of-type {\n",
       "        vertical-align: middle;\n",
       "    }\n",
       "\n",
       "    .dataframe tbody tr th {\n",
       "        vertical-align: top;\n",
       "    }\n",
       "\n",
       "    .dataframe thead th {\n",
       "        text-align: right;\n",
       "    }\n",
       "</style>\n",
       "<table border=\"1\" class=\"dataframe\">\n",
       "  <thead>\n",
       "    <tr style=\"text-align: right;\">\n",
       "      <th></th>\n",
       "      <th>组别</th>\n",
       "      <th>人员</th>\n",
       "      <th>日期（格式“月-周次”）</th>\n",
       "      <th>完成商业项目数</th>\n",
       "      <th>完成个性化数</th>\n",
       "      <th>延期商业项目数</th>\n",
       "      <th>延期个性化项目数</th>\n",
       "      <th>24h内未完成数据反馈项目数</th>\n",
       "      <th>反馈延期个性化数</th>\n",
       "      <th>24h内未完成数据交付项目数</th>\n",
       "      <th>下机项目数</th>\n",
       "      <th>接入个性化数</th>\n",
       "      <th>待交付项目数</th>\n",
       "      <th>总商业项目数</th>\n",
       "      <th>总个性化数</th>\n",
       "      <th>总项目数</th>\n",
       "      <th>总延期项目数</th>\n",
       "      <th>month</th>\n",
       "    </tr>\n",
       "  </thead>\n",
       "  <tbody>\n",
       "    <tr>\n",
       "      <th>0</th>\n",
       "      <td>分析二组</td>\n",
       "      <td>李晓波</td>\n",
       "      <td>8-1</td>\n",
       "      <td>0</td>\n",
       "      <td>0</td>\n",
       "      <td>0</td>\n",
       "      <td>0</td>\n",
       "      <td>0</td>\n",
       "      <td>0</td>\n",
       "      <td>0</td>\n",
       "      <td>0</td>\n",
       "      <td>0</td>\n",
       "      <td>1.0</td>\n",
       "      <td>0</td>\n",
       "      <td>0</td>\n",
       "      <td>0</td>\n",
       "      <td>0</td>\n",
       "      <td>8</td>\n",
       "    </tr>\n",
       "    <tr>\n",
       "      <th>1</th>\n",
       "      <td>分析二组</td>\n",
       "      <td>马潇</td>\n",
       "      <td>8-1</td>\n",
       "      <td>3</td>\n",
       "      <td>0</td>\n",
       "      <td>0</td>\n",
       "      <td>0</td>\n",
       "      <td>0</td>\n",
       "      <td>0</td>\n",
       "      <td>0</td>\n",
       "      <td>2</td>\n",
       "      <td>0</td>\n",
       "      <td>0.0</td>\n",
       "      <td>3</td>\n",
       "      <td>0</td>\n",
       "      <td>3</td>\n",
       "      <td>0</td>\n",
       "      <td>8</td>\n",
       "    </tr>\n",
       "    <tr>\n",
       "      <th>2</th>\n",
       "      <td>分析二组</td>\n",
       "      <td>段利强</td>\n",
       "      <td>8-1</td>\n",
       "      <td>0</td>\n",
       "      <td>2</td>\n",
       "      <td>0</td>\n",
       "      <td>0</td>\n",
       "      <td>0</td>\n",
       "      <td>0</td>\n",
       "      <td>0</td>\n",
       "      <td>2</td>\n",
       "      <td>2</td>\n",
       "      <td>1.0</td>\n",
       "      <td>0</td>\n",
       "      <td>2</td>\n",
       "      <td>2</td>\n",
       "      <td>0</td>\n",
       "      <td>8</td>\n",
       "    </tr>\n",
       "    <tr>\n",
       "      <th>3</th>\n",
       "      <td>分析二组</td>\n",
       "      <td>杨宇</td>\n",
       "      <td>8-1</td>\n",
       "      <td>1</td>\n",
       "      <td>0</td>\n",
       "      <td>0</td>\n",
       "      <td>0</td>\n",
       "      <td>0</td>\n",
       "      <td>0</td>\n",
       "      <td>0</td>\n",
       "      <td>3</td>\n",
       "      <td>0</td>\n",
       "      <td>0.0</td>\n",
       "      <td>1</td>\n",
       "      <td>0</td>\n",
       "      <td>1</td>\n",
       "      <td>0</td>\n",
       "      <td>8</td>\n",
       "    </tr>\n",
       "    <tr>\n",
       "      <th>4</th>\n",
       "      <td>分析二组</td>\n",
       "      <td>陈碧雯</td>\n",
       "      <td>8-1</td>\n",
       "      <td>1</td>\n",
       "      <td>0</td>\n",
       "      <td>0</td>\n",
       "      <td>0</td>\n",
       "      <td>0</td>\n",
       "      <td>0</td>\n",
       "      <td>0</td>\n",
       "      <td>2</td>\n",
       "      <td>0</td>\n",
       "      <td>0.0</td>\n",
       "      <td>1</td>\n",
       "      <td>0</td>\n",
       "      <td>1</td>\n",
       "      <td>0</td>\n",
       "      <td>8</td>\n",
       "    </tr>\n",
       "    <tr>\n",
       "      <th>5</th>\n",
       "      <td>分析二组</td>\n",
       "      <td>何胜</td>\n",
       "      <td>8-1</td>\n",
       "      <td>1</td>\n",
       "      <td>0</td>\n",
       "      <td>0</td>\n",
       "      <td>0</td>\n",
       "      <td>0</td>\n",
       "      <td>0</td>\n",
       "      <td>0</td>\n",
       "      <td>4</td>\n",
       "      <td>0</td>\n",
       "      <td>0.0</td>\n",
       "      <td>1</td>\n",
       "      <td>0</td>\n",
       "      <td>1</td>\n",
       "      <td>0</td>\n",
       "      <td>8</td>\n",
       "    </tr>\n",
       "    <tr>\n",
       "      <th>6</th>\n",
       "      <td>分析二组</td>\n",
       "      <td>刘梦苑</td>\n",
       "      <td>8-1</td>\n",
       "      <td>0</td>\n",
       "      <td>0</td>\n",
       "      <td>0</td>\n",
       "      <td>0</td>\n",
       "      <td>0</td>\n",
       "      <td>0</td>\n",
       "      <td>0</td>\n",
       "      <td>8</td>\n",
       "      <td>0</td>\n",
       "      <td>0.0</td>\n",
       "      <td>0</td>\n",
       "      <td>0</td>\n",
       "      <td>0</td>\n",
       "      <td>0</td>\n",
       "      <td>8</td>\n",
       "    </tr>\n",
       "    <tr>\n",
       "      <th>7</th>\n",
       "      <td>分析二组</td>\n",
       "      <td>闻少楠</td>\n",
       "      <td>8-1</td>\n",
       "      <td>2</td>\n",
       "      <td>0</td>\n",
       "      <td>0</td>\n",
       "      <td>0</td>\n",
       "      <td>1</td>\n",
       "      <td>0</td>\n",
       "      <td>0</td>\n",
       "      <td>3</td>\n",
       "      <td>0</td>\n",
       "      <td>0.0</td>\n",
       "      <td>2</td>\n",
       "      <td>0</td>\n",
       "      <td>2</td>\n",
       "      <td>0</td>\n",
       "      <td>8</td>\n",
       "    </tr>\n",
       "    <tr>\n",
       "      <th>8</th>\n",
       "      <td>分析二组</td>\n",
       "      <td>王霞</td>\n",
       "      <td>8-1</td>\n",
       "      <td>0</td>\n",
       "      <td>0</td>\n",
       "      <td>0</td>\n",
       "      <td>0</td>\n",
       "      <td>0</td>\n",
       "      <td>0</td>\n",
       "      <td>0</td>\n",
       "      <td>0</td>\n",
       "      <td>0</td>\n",
       "      <td>0.0</td>\n",
       "      <td>0</td>\n",
       "      <td>0</td>\n",
       "      <td>0</td>\n",
       "      <td>0</td>\n",
       "      <td>8</td>\n",
       "    </tr>\n",
       "    <tr>\n",
       "      <th>9</th>\n",
       "      <td>分析二组</td>\n",
       "      <td>于勇一</td>\n",
       "      <td>8-1</td>\n",
       "      <td>1</td>\n",
       "      <td>1</td>\n",
       "      <td>0</td>\n",
       "      <td>0</td>\n",
       "      <td>0</td>\n",
       "      <td>0</td>\n",
       "      <td>0</td>\n",
       "      <td>1</td>\n",
       "      <td>1</td>\n",
       "      <td>1.0</td>\n",
       "      <td>1</td>\n",
       "      <td>1</td>\n",
       "      <td>2</td>\n",
       "      <td>0</td>\n",
       "      <td>8</td>\n",
       "    </tr>\n",
       "    <tr>\n",
       "      <th>10</th>\n",
       "      <td>分析二组</td>\n",
       "      <td>宋少宇</td>\n",
       "      <td>8-1</td>\n",
       "      <td>4</td>\n",
       "      <td>3</td>\n",
       "      <td>0</td>\n",
       "      <td>0</td>\n",
       "      <td>0</td>\n",
       "      <td>0</td>\n",
       "      <td>0</td>\n",
       "      <td>7</td>\n",
       "      <td>3</td>\n",
       "      <td>2.0</td>\n",
       "      <td>4</td>\n",
       "      <td>3</td>\n",
       "      <td>7</td>\n",
       "      <td>0</td>\n",
       "      <td>8</td>\n",
       "    </tr>\n",
       "    <tr>\n",
       "      <th>11</th>\n",
       "      <td>分析一组</td>\n",
       "      <td>刘永强</td>\n",
       "      <td>8-1</td>\n",
       "      <td>0</td>\n",
       "      <td>0</td>\n",
       "      <td>0</td>\n",
       "      <td>0</td>\n",
       "      <td>0</td>\n",
       "      <td>0</td>\n",
       "      <td>0</td>\n",
       "      <td>1</td>\n",
       "      <td>0</td>\n",
       "      <td>1.0</td>\n",
       "      <td>0</td>\n",
       "      <td>0</td>\n",
       "      <td>0</td>\n",
       "      <td>0</td>\n",
       "      <td>8</td>\n",
       "    </tr>\n",
       "    <tr>\n",
       "      <th>12</th>\n",
       "      <td>分析一组</td>\n",
       "      <td>陈鹏燕</td>\n",
       "      <td>8-1</td>\n",
       "      <td>7</td>\n",
       "      <td>4</td>\n",
       "      <td>0</td>\n",
       "      <td>0</td>\n",
       "      <td>0</td>\n",
       "      <td>0</td>\n",
       "      <td>0</td>\n",
       "      <td>6</td>\n",
       "      <td>5</td>\n",
       "      <td>0.0</td>\n",
       "      <td>7</td>\n",
       "      <td>4</td>\n",
       "      <td>11</td>\n",
       "      <td>0</td>\n",
       "      <td>8</td>\n",
       "    </tr>\n",
       "    <tr>\n",
       "      <th>13</th>\n",
       "      <td>分析一组</td>\n",
       "      <td>昶吉阳</td>\n",
       "      <td>8-1</td>\n",
       "      <td>9</td>\n",
       "      <td>4</td>\n",
       "      <td>0</td>\n",
       "      <td>0</td>\n",
       "      <td>0</td>\n",
       "      <td>0</td>\n",
       "      <td>0</td>\n",
       "      <td>7</td>\n",
       "      <td>6</td>\n",
       "      <td>2.0</td>\n",
       "      <td>9</td>\n",
       "      <td>4</td>\n",
       "      <td>13</td>\n",
       "      <td>0</td>\n",
       "      <td>8</td>\n",
       "    </tr>\n",
       "    <tr>\n",
       "      <th>14</th>\n",
       "      <td>分析一组</td>\n",
       "      <td>解飞</td>\n",
       "      <td>8-1</td>\n",
       "      <td>8</td>\n",
       "      <td>1</td>\n",
       "      <td>0</td>\n",
       "      <td>0</td>\n",
       "      <td>0</td>\n",
       "      <td>0</td>\n",
       "      <td>0</td>\n",
       "      <td>8</td>\n",
       "      <td>3</td>\n",
       "      <td>1.0</td>\n",
       "      <td>8</td>\n",
       "      <td>1</td>\n",
       "      <td>9</td>\n",
       "      <td>0</td>\n",
       "      <td>8</td>\n",
       "    </tr>\n",
       "    <tr>\n",
       "      <th>15</th>\n",
       "      <td>个性化组</td>\n",
       "      <td>靳甜甜</td>\n",
       "      <td>8-1</td>\n",
       "      <td>0</td>\n",
       "      <td>0</td>\n",
       "      <td>0</td>\n",
       "      <td>0</td>\n",
       "      <td>0</td>\n",
       "      <td>0</td>\n",
       "      <td>0</td>\n",
       "      <td>0</td>\n",
       "      <td>0</td>\n",
       "      <td>0.0</td>\n",
       "      <td>0</td>\n",
       "      <td>0</td>\n",
       "      <td>0</td>\n",
       "      <td>0</td>\n",
       "      <td>8</td>\n",
       "    </tr>\n",
       "    <tr>\n",
       "      <th>16</th>\n",
       "      <td>个性化组</td>\n",
       "      <td>冯敬岩</td>\n",
       "      <td>8-1</td>\n",
       "      <td>0</td>\n",
       "      <td>2</td>\n",
       "      <td>0</td>\n",
       "      <td>0</td>\n",
       "      <td>0</td>\n",
       "      <td>0</td>\n",
       "      <td>0</td>\n",
       "      <td>0</td>\n",
       "      <td>6</td>\n",
       "      <td>0.0</td>\n",
       "      <td>0</td>\n",
       "      <td>2</td>\n",
       "      <td>2</td>\n",
       "      <td>0</td>\n",
       "      <td>8</td>\n",
       "    </tr>\n",
       "    <tr>\n",
       "      <th>17</th>\n",
       "      <td>个性化组</td>\n",
       "      <td>赵倩</td>\n",
       "      <td>8-1</td>\n",
       "      <td>0</td>\n",
       "      <td>4</td>\n",
       "      <td>0</td>\n",
       "      <td>0</td>\n",
       "      <td>0</td>\n",
       "      <td>0</td>\n",
       "      <td>0</td>\n",
       "      <td>0</td>\n",
       "      <td>8</td>\n",
       "      <td>0.0</td>\n",
       "      <td>0</td>\n",
       "      <td>4</td>\n",
       "      <td>4</td>\n",
       "      <td>0</td>\n",
       "      <td>8</td>\n",
       "    </tr>\n",
       "    <tr>\n",
       "      <th>18</th>\n",
       "      <td>个性化组</td>\n",
       "      <td>朱慧萍</td>\n",
       "      <td>8-1</td>\n",
       "      <td>1</td>\n",
       "      <td>6</td>\n",
       "      <td>0</td>\n",
       "      <td>0</td>\n",
       "      <td>0</td>\n",
       "      <td>0</td>\n",
       "      <td>0</td>\n",
       "      <td>1</td>\n",
       "      <td>6</td>\n",
       "      <td>0.0</td>\n",
       "      <td>1</td>\n",
       "      <td>6</td>\n",
       "      <td>7</td>\n",
       "      <td>0</td>\n",
       "      <td>8</td>\n",
       "    </tr>\n",
       "    <tr>\n",
       "      <th>0</th>\n",
       "      <td>分析二组</td>\n",
       "      <td>李晓波</td>\n",
       "      <td>8-2</td>\n",
       "      <td>0</td>\n",
       "      <td>0</td>\n",
       "      <td>0</td>\n",
       "      <td>0</td>\n",
       "      <td>0</td>\n",
       "      <td>0</td>\n",
       "      <td>0</td>\n",
       "      <td>0</td>\n",
       "      <td>0</td>\n",
       "      <td>0.0</td>\n",
       "      <td>0</td>\n",
       "      <td>0</td>\n",
       "      <td>0</td>\n",
       "      <td>0</td>\n",
       "      <td>8</td>\n",
       "    </tr>\n",
       "    <tr>\n",
       "      <th>1</th>\n",
       "      <td>分析二组</td>\n",
       "      <td>马潇</td>\n",
       "      <td>8-2</td>\n",
       "      <td>3</td>\n",
       "      <td>0</td>\n",
       "      <td>0</td>\n",
       "      <td>0</td>\n",
       "      <td>0</td>\n",
       "      <td>0</td>\n",
       "      <td>0</td>\n",
       "      <td>5</td>\n",
       "      <td>2</td>\n",
       "      <td>0.0</td>\n",
       "      <td>3</td>\n",
       "      <td>0</td>\n",
       "      <td>3</td>\n",
       "      <td>0</td>\n",
       "      <td>8</td>\n",
       "    </tr>\n",
       "    <tr>\n",
       "      <th>2</th>\n",
       "      <td>分析二组</td>\n",
       "      <td>段利强</td>\n",
       "      <td>8-2</td>\n",
       "      <td>0</td>\n",
       "      <td>2</td>\n",
       "      <td>0</td>\n",
       "      <td>0</td>\n",
       "      <td>0</td>\n",
       "      <td>0</td>\n",
       "      <td>0</td>\n",
       "      <td>4</td>\n",
       "      <td>0</td>\n",
       "      <td>0.0</td>\n",
       "      <td>0</td>\n",
       "      <td>2</td>\n",
       "      <td>2</td>\n",
       "      <td>0</td>\n",
       "      <td>8</td>\n",
       "    </tr>\n",
       "    <tr>\n",
       "      <th>3</th>\n",
       "      <td>分析二组</td>\n",
       "      <td>杨宇</td>\n",
       "      <td>8-2</td>\n",
       "      <td>1</td>\n",
       "      <td>0</td>\n",
       "      <td>0</td>\n",
       "      <td>0</td>\n",
       "      <td>0</td>\n",
       "      <td>0</td>\n",
       "      <td>0</td>\n",
       "      <td>5</td>\n",
       "      <td>0</td>\n",
       "      <td>0.0</td>\n",
       "      <td>1</td>\n",
       "      <td>0</td>\n",
       "      <td>1</td>\n",
       "      <td>0</td>\n",
       "      <td>8</td>\n",
       "    </tr>\n",
       "    <tr>\n",
       "      <th>4</th>\n",
       "      <td>分析二组</td>\n",
       "      <td>陈碧雯</td>\n",
       "      <td>8-2</td>\n",
       "      <td>3</td>\n",
       "      <td>0</td>\n",
       "      <td>0</td>\n",
       "      <td>0</td>\n",
       "      <td>0</td>\n",
       "      <td>0</td>\n",
       "      <td>0</td>\n",
       "      <td>3</td>\n",
       "      <td>0</td>\n",
       "      <td>1.0</td>\n",
       "      <td>3</td>\n",
       "      <td>0</td>\n",
       "      <td>3</td>\n",
       "      <td>0</td>\n",
       "      <td>8</td>\n",
       "    </tr>\n",
       "    <tr>\n",
       "      <th>5</th>\n",
       "      <td>分析二组</td>\n",
       "      <td>何胜</td>\n",
       "      <td>8-2</td>\n",
       "      <td>4</td>\n",
       "      <td>0</td>\n",
       "      <td>0</td>\n",
       "      <td>0</td>\n",
       "      <td>0</td>\n",
       "      <td>0</td>\n",
       "      <td>0</td>\n",
       "      <td>2</td>\n",
       "      <td>0</td>\n",
       "      <td>0.0</td>\n",
       "      <td>4</td>\n",
       "      <td>0</td>\n",
       "      <td>4</td>\n",
       "      <td>0</td>\n",
       "      <td>8</td>\n",
       "    </tr>\n",
       "    <tr>\n",
       "      <th>6</th>\n",
       "      <td>分析二组</td>\n",
       "      <td>刘梦苑</td>\n",
       "      <td>8-2</td>\n",
       "      <td>2</td>\n",
       "      <td>1</td>\n",
       "      <td>0</td>\n",
       "      <td>0</td>\n",
       "      <td>0</td>\n",
       "      <td>0</td>\n",
       "      <td>0</td>\n",
       "      <td>8</td>\n",
       "      <td>2</td>\n",
       "      <td>2.0</td>\n",
       "      <td>2</td>\n",
       "      <td>1</td>\n",
       "      <td>3</td>\n",
       "      <td>0</td>\n",
       "      <td>8</td>\n",
       "    </tr>\n",
       "    <tr>\n",
       "      <th>7</th>\n",
       "      <td>分析二组</td>\n",
       "      <td>闻少楠</td>\n",
       "      <td>8-2</td>\n",
       "      <td>3</td>\n",
       "      <td>0</td>\n",
       "      <td>0</td>\n",
       "      <td>0</td>\n",
       "      <td>0</td>\n",
       "      <td>0</td>\n",
       "      <td>0</td>\n",
       "      <td>0</td>\n",
       "      <td>0</td>\n",
       "      <td>0.0</td>\n",
       "      <td>3</td>\n",
       "      <td>0</td>\n",
       "      <td>3</td>\n",
       "      <td>0</td>\n",
       "      <td>8</td>\n",
       "    </tr>\n",
       "    <tr>\n",
       "      <th>8</th>\n",
       "      <td>分析二组</td>\n",
       "      <td>王霞</td>\n",
       "      <td>8-2</td>\n",
       "      <td>0</td>\n",
       "      <td>0</td>\n",
       "      <td>0</td>\n",
       "      <td>0</td>\n",
       "      <td>0</td>\n",
       "      <td>0</td>\n",
       "      <td>0</td>\n",
       "      <td>0</td>\n",
       "      <td>0</td>\n",
       "      <td>0.0</td>\n",
       "      <td>0</td>\n",
       "      <td>0</td>\n",
       "      <td>0</td>\n",
       "      <td>0</td>\n",
       "      <td>8</td>\n",
       "    </tr>\n",
       "    <tr>\n",
       "      <th>9</th>\n",
       "      <td>分析二组</td>\n",
       "      <td>宋少宇</td>\n",
       "      <td>8-2</td>\n",
       "      <td>2</td>\n",
       "      <td>5</td>\n",
       "      <td>0</td>\n",
       "      <td>0</td>\n",
       "      <td>0</td>\n",
       "      <td>0</td>\n",
       "      <td>0</td>\n",
       "      <td>10</td>\n",
       "      <td>1</td>\n",
       "      <td>0.0</td>\n",
       "      <td>2</td>\n",
       "      <td>5</td>\n",
       "      <td>7</td>\n",
       "      <td>0</td>\n",
       "      <td>8</td>\n",
       "    </tr>\n",
       "    <tr>\n",
       "      <th>10</th>\n",
       "      <td>分析一组</td>\n",
       "      <td>刘永强</td>\n",
       "      <td>8-2</td>\n",
       "      <td>0</td>\n",
       "      <td>0</td>\n",
       "      <td>0</td>\n",
       "      <td>0</td>\n",
       "      <td>0</td>\n",
       "      <td>0</td>\n",
       "      <td>0</td>\n",
       "      <td>2</td>\n",
       "      <td>0</td>\n",
       "      <td>0.0</td>\n",
       "      <td>0</td>\n",
       "      <td>0</td>\n",
       "      <td>0</td>\n",
       "      <td>0</td>\n",
       "      <td>8</td>\n",
       "    </tr>\n",
       "    <tr>\n",
       "      <th>...</th>\n",
       "      <td>...</td>\n",
       "      <td>...</td>\n",
       "      <td>...</td>\n",
       "      <td>...</td>\n",
       "      <td>...</td>\n",
       "      <td>...</td>\n",
       "      <td>...</td>\n",
       "      <td>...</td>\n",
       "      <td>...</td>\n",
       "      <td>...</td>\n",
       "      <td>...</td>\n",
       "      <td>...</td>\n",
       "      <td>...</td>\n",
       "      <td>...</td>\n",
       "      <td>...</td>\n",
       "      <td>...</td>\n",
       "      <td>...</td>\n",
       "      <td>...</td>\n",
       "    </tr>\n",
       "    <tr>\n",
       "      <th>6</th>\n",
       "      <td>分析一组</td>\n",
       "      <td>解飞</td>\n",
       "      <td>9-2</td>\n",
       "      <td>0</td>\n",
       "      <td>0</td>\n",
       "      <td>0</td>\n",
       "      <td>0</td>\n",
       "      <td>0</td>\n",
       "      <td>0</td>\n",
       "      <td>0</td>\n",
       "      <td>1</td>\n",
       "      <td>0</td>\n",
       "      <td>2.0</td>\n",
       "      <td>0</td>\n",
       "      <td>0</td>\n",
       "      <td>0</td>\n",
       "      <td>0</td>\n",
       "      <td>9</td>\n",
       "    </tr>\n",
       "    <tr>\n",
       "      <th>7</th>\n",
       "      <td>个性化组</td>\n",
       "      <td>靳甜甜</td>\n",
       "      <td>9-2</td>\n",
       "      <td>0</td>\n",
       "      <td>0</td>\n",
       "      <td>0</td>\n",
       "      <td>0</td>\n",
       "      <td>0</td>\n",
       "      <td>0</td>\n",
       "      <td>0</td>\n",
       "      <td>0</td>\n",
       "      <td>0</td>\n",
       "      <td>0.0</td>\n",
       "      <td>0</td>\n",
       "      <td>0</td>\n",
       "      <td>0</td>\n",
       "      <td>0</td>\n",
       "      <td>9</td>\n",
       "    </tr>\n",
       "    <tr>\n",
       "      <th>8</th>\n",
       "      <td>分析二组</td>\n",
       "      <td>李晓波</td>\n",
       "      <td>9-2</td>\n",
       "      <td>0</td>\n",
       "      <td>0</td>\n",
       "      <td>0</td>\n",
       "      <td>0</td>\n",
       "      <td>0</td>\n",
       "      <td>0</td>\n",
       "      <td>0</td>\n",
       "      <td>0</td>\n",
       "      <td>0</td>\n",
       "      <td>1.0</td>\n",
       "      <td>0</td>\n",
       "      <td>0</td>\n",
       "      <td>0</td>\n",
       "      <td>0</td>\n",
       "      <td>9</td>\n",
       "    </tr>\n",
       "    <tr>\n",
       "      <th>9</th>\n",
       "      <td>分析二组</td>\n",
       "      <td>刘梦苑</td>\n",
       "      <td>9-2</td>\n",
       "      <td>1</td>\n",
       "      <td>4</td>\n",
       "      <td>0</td>\n",
       "      <td>0</td>\n",
       "      <td>0</td>\n",
       "      <td>0</td>\n",
       "      <td>0</td>\n",
       "      <td>3</td>\n",
       "      <td>0</td>\n",
       "      <td>0.0</td>\n",
       "      <td>1</td>\n",
       "      <td>4</td>\n",
       "      <td>5</td>\n",
       "      <td>0</td>\n",
       "      <td>9</td>\n",
       "    </tr>\n",
       "    <tr>\n",
       "      <th>10</th>\n",
       "      <td>分析一组</td>\n",
       "      <td>刘永强</td>\n",
       "      <td>9-2</td>\n",
       "      <td>2</td>\n",
       "      <td>0</td>\n",
       "      <td>0</td>\n",
       "      <td>0</td>\n",
       "      <td>0</td>\n",
       "      <td>0</td>\n",
       "      <td>0</td>\n",
       "      <td>0</td>\n",
       "      <td>0</td>\n",
       "      <td>0.0</td>\n",
       "      <td>2</td>\n",
       "      <td>0</td>\n",
       "      <td>2</td>\n",
       "      <td>0</td>\n",
       "      <td>9</td>\n",
       "    </tr>\n",
       "    <tr>\n",
       "      <th>11</th>\n",
       "      <td>分析二组</td>\n",
       "      <td>马潇</td>\n",
       "      <td>9-2</td>\n",
       "      <td>4</td>\n",
       "      <td>3</td>\n",
       "      <td>0</td>\n",
       "      <td>0</td>\n",
       "      <td>0</td>\n",
       "      <td>0</td>\n",
       "      <td>0</td>\n",
       "      <td>4</td>\n",
       "      <td>3</td>\n",
       "      <td>0.0</td>\n",
       "      <td>4</td>\n",
       "      <td>3</td>\n",
       "      <td>7</td>\n",
       "      <td>0</td>\n",
       "      <td>9</td>\n",
       "    </tr>\n",
       "    <tr>\n",
       "      <th>12</th>\n",
       "      <td>分析二组</td>\n",
       "      <td>宋少宇</td>\n",
       "      <td>9-2</td>\n",
       "      <td>2</td>\n",
       "      <td>1</td>\n",
       "      <td>0</td>\n",
       "      <td>0</td>\n",
       "      <td>0</td>\n",
       "      <td>0</td>\n",
       "      <td>0</td>\n",
       "      <td>3</td>\n",
       "      <td>0</td>\n",
       "      <td>0.0</td>\n",
       "      <td>2</td>\n",
       "      <td>1</td>\n",
       "      <td>3</td>\n",
       "      <td>0</td>\n",
       "      <td>9</td>\n",
       "    </tr>\n",
       "    <tr>\n",
       "      <th>13</th>\n",
       "      <td>分析二组</td>\n",
       "      <td>王霞</td>\n",
       "      <td>9-2</td>\n",
       "      <td>0</td>\n",
       "      <td>2</td>\n",
       "      <td>0</td>\n",
       "      <td>0</td>\n",
       "      <td>0</td>\n",
       "      <td>0</td>\n",
       "      <td>0</td>\n",
       "      <td>2</td>\n",
       "      <td>2</td>\n",
       "      <td>0.0</td>\n",
       "      <td>0</td>\n",
       "      <td>2</td>\n",
       "      <td>2</td>\n",
       "      <td>0</td>\n",
       "      <td>9</td>\n",
       "    </tr>\n",
       "    <tr>\n",
       "      <th>14</th>\n",
       "      <td>分析二组</td>\n",
       "      <td>闻少楠</td>\n",
       "      <td>9-2</td>\n",
       "      <td>1</td>\n",
       "      <td>1</td>\n",
       "      <td>0</td>\n",
       "      <td>0</td>\n",
       "      <td>0</td>\n",
       "      <td>0</td>\n",
       "      <td>0</td>\n",
       "      <td>1</td>\n",
       "      <td>1</td>\n",
       "      <td>2.0</td>\n",
       "      <td>1</td>\n",
       "      <td>1</td>\n",
       "      <td>2</td>\n",
       "      <td>0</td>\n",
       "      <td>9</td>\n",
       "    </tr>\n",
       "    <tr>\n",
       "      <th>15</th>\n",
       "      <td>分析二组</td>\n",
       "      <td>杨宇</td>\n",
       "      <td>9-2</td>\n",
       "      <td>7</td>\n",
       "      <td>2</td>\n",
       "      <td>0</td>\n",
       "      <td>0</td>\n",
       "      <td>0</td>\n",
       "      <td>0</td>\n",
       "      <td>0</td>\n",
       "      <td>5</td>\n",
       "      <td>4</td>\n",
       "      <td>0.0</td>\n",
       "      <td>7</td>\n",
       "      <td>2</td>\n",
       "      <td>9</td>\n",
       "      <td>0</td>\n",
       "      <td>9</td>\n",
       "    </tr>\n",
       "    <tr>\n",
       "      <th>16</th>\n",
       "      <td>个性化组</td>\n",
       "      <td>赵倩</td>\n",
       "      <td>9-2</td>\n",
       "      <td>0</td>\n",
       "      <td>6</td>\n",
       "      <td>0</td>\n",
       "      <td>0</td>\n",
       "      <td>0</td>\n",
       "      <td>0</td>\n",
       "      <td>0</td>\n",
       "      <td>0</td>\n",
       "      <td>5</td>\n",
       "      <td>0.0</td>\n",
       "      <td>0</td>\n",
       "      <td>6</td>\n",
       "      <td>6</td>\n",
       "      <td>0</td>\n",
       "      <td>9</td>\n",
       "    </tr>\n",
       "    <tr>\n",
       "      <th>17</th>\n",
       "      <td>个性化组</td>\n",
       "      <td>朱慧萍</td>\n",
       "      <td>9-2</td>\n",
       "      <td>1</td>\n",
       "      <td>5</td>\n",
       "      <td>0</td>\n",
       "      <td>0</td>\n",
       "      <td>0</td>\n",
       "      <td>0</td>\n",
       "      <td>0</td>\n",
       "      <td>0</td>\n",
       "      <td>5</td>\n",
       "      <td>0.0</td>\n",
       "      <td>1</td>\n",
       "      <td>5</td>\n",
       "      <td>6</td>\n",
       "      <td>0</td>\n",
       "      <td>9</td>\n",
       "    </tr>\n",
       "    <tr>\n",
       "      <th>0</th>\n",
       "      <td>分析一组</td>\n",
       "      <td>昶吉阳</td>\n",
       "      <td>9-3</td>\n",
       "      <td>0</td>\n",
       "      <td>0</td>\n",
       "      <td>0</td>\n",
       "      <td>0</td>\n",
       "      <td>0</td>\n",
       "      <td>0</td>\n",
       "      <td>0</td>\n",
       "      <td>4</td>\n",
       "      <td>0</td>\n",
       "      <td>7.0</td>\n",
       "      <td>0</td>\n",
       "      <td>0</td>\n",
       "      <td>0</td>\n",
       "      <td>0</td>\n",
       "      <td>9</td>\n",
       "    </tr>\n",
       "    <tr>\n",
       "      <th>1</th>\n",
       "      <td>分析二组</td>\n",
       "      <td>陈碧雯</td>\n",
       "      <td>9-3</td>\n",
       "      <td>1</td>\n",
       "      <td>3</td>\n",
       "      <td>0</td>\n",
       "      <td>0</td>\n",
       "      <td>0</td>\n",
       "      <td>0</td>\n",
       "      <td>0</td>\n",
       "      <td>1</td>\n",
       "      <td>0</td>\n",
       "      <td>3.0</td>\n",
       "      <td>1</td>\n",
       "      <td>3</td>\n",
       "      <td>4</td>\n",
       "      <td>0</td>\n",
       "      <td>9</td>\n",
       "    </tr>\n",
       "    <tr>\n",
       "      <th>2</th>\n",
       "      <td>分析一组</td>\n",
       "      <td>陈鹏燕</td>\n",
       "      <td>9-3</td>\n",
       "      <td>1</td>\n",
       "      <td>3</td>\n",
       "      <td>0</td>\n",
       "      <td>0</td>\n",
       "      <td>0</td>\n",
       "      <td>0</td>\n",
       "      <td>0</td>\n",
       "      <td>5</td>\n",
       "      <td>0</td>\n",
       "      <td>9.0</td>\n",
       "      <td>1</td>\n",
       "      <td>3</td>\n",
       "      <td>4</td>\n",
       "      <td>0</td>\n",
       "      <td>9</td>\n",
       "    </tr>\n",
       "    <tr>\n",
       "      <th>3</th>\n",
       "      <td>分析二组</td>\n",
       "      <td>段利强</td>\n",
       "      <td>9-3</td>\n",
       "      <td>0</td>\n",
       "      <td>5</td>\n",
       "      <td>0</td>\n",
       "      <td>0</td>\n",
       "      <td>0</td>\n",
       "      <td>0</td>\n",
       "      <td>0</td>\n",
       "      <td>4</td>\n",
       "      <td>0</td>\n",
       "      <td>1.0</td>\n",
       "      <td>0</td>\n",
       "      <td>5</td>\n",
       "      <td>5</td>\n",
       "      <td>0</td>\n",
       "      <td>9</td>\n",
       "    </tr>\n",
       "    <tr>\n",
       "      <th>4</th>\n",
       "      <td>个性化组</td>\n",
       "      <td>冯敬岩</td>\n",
       "      <td>9-3</td>\n",
       "      <td>0</td>\n",
       "      <td>3</td>\n",
       "      <td>0</td>\n",
       "      <td>0</td>\n",
       "      <td>0</td>\n",
       "      <td>0</td>\n",
       "      <td>0</td>\n",
       "      <td>1</td>\n",
       "      <td>1</td>\n",
       "      <td>2.0</td>\n",
       "      <td>0</td>\n",
       "      <td>3</td>\n",
       "      <td>3</td>\n",
       "      <td>0</td>\n",
       "      <td>9</td>\n",
       "    </tr>\n",
       "    <tr>\n",
       "      <th>5</th>\n",
       "      <td>分析二组</td>\n",
       "      <td>何胜</td>\n",
       "      <td>9-3</td>\n",
       "      <td>4</td>\n",
       "      <td>3</td>\n",
       "      <td>0</td>\n",
       "      <td>0</td>\n",
       "      <td>0</td>\n",
       "      <td>0</td>\n",
       "      <td>0</td>\n",
       "      <td>3</td>\n",
       "      <td>3</td>\n",
       "      <td>4.0</td>\n",
       "      <td>4</td>\n",
       "      <td>3</td>\n",
       "      <td>7</td>\n",
       "      <td>0</td>\n",
       "      <td>9</td>\n",
       "    </tr>\n",
       "    <tr>\n",
       "      <th>6</th>\n",
       "      <td>分析一组</td>\n",
       "      <td>解飞</td>\n",
       "      <td>9-3</td>\n",
       "      <td>4</td>\n",
       "      <td>0</td>\n",
       "      <td>0</td>\n",
       "      <td>0</td>\n",
       "      <td>0</td>\n",
       "      <td>0</td>\n",
       "      <td>0</td>\n",
       "      <td>0</td>\n",
       "      <td>0</td>\n",
       "      <td>5.0</td>\n",
       "      <td>4</td>\n",
       "      <td>0</td>\n",
       "      <td>4</td>\n",
       "      <td>0</td>\n",
       "      <td>9</td>\n",
       "    </tr>\n",
       "    <tr>\n",
       "      <th>7</th>\n",
       "      <td>个性化组</td>\n",
       "      <td>靳甜甜</td>\n",
       "      <td>9-3</td>\n",
       "      <td>0</td>\n",
       "      <td>0</td>\n",
       "      <td>0</td>\n",
       "      <td>0</td>\n",
       "      <td>0</td>\n",
       "      <td>0</td>\n",
       "      <td>0</td>\n",
       "      <td>0</td>\n",
       "      <td>0</td>\n",
       "      <td>0.0</td>\n",
       "      <td>0</td>\n",
       "      <td>0</td>\n",
       "      <td>0</td>\n",
       "      <td>0</td>\n",
       "      <td>9</td>\n",
       "    </tr>\n",
       "    <tr>\n",
       "      <th>8</th>\n",
       "      <td>分析二组</td>\n",
       "      <td>李晓波</td>\n",
       "      <td>9-3</td>\n",
       "      <td>0</td>\n",
       "      <td>0</td>\n",
       "      <td>0</td>\n",
       "      <td>0</td>\n",
       "      <td>0</td>\n",
       "      <td>0</td>\n",
       "      <td>0</td>\n",
       "      <td>0</td>\n",
       "      <td>0</td>\n",
       "      <td>1.0</td>\n",
       "      <td>0</td>\n",
       "      <td>0</td>\n",
       "      <td>0</td>\n",
       "      <td>0</td>\n",
       "      <td>9</td>\n",
       "    </tr>\n",
       "    <tr>\n",
       "      <th>9</th>\n",
       "      <td>分析二组</td>\n",
       "      <td>刘梦苑</td>\n",
       "      <td>9-3</td>\n",
       "      <td>1</td>\n",
       "      <td>1</td>\n",
       "      <td>1</td>\n",
       "      <td>0</td>\n",
       "      <td>0</td>\n",
       "      <td>0</td>\n",
       "      <td>0</td>\n",
       "      <td>5</td>\n",
       "      <td>3</td>\n",
       "      <td>1.0</td>\n",
       "      <td>2</td>\n",
       "      <td>1</td>\n",
       "      <td>3</td>\n",
       "      <td>1</td>\n",
       "      <td>9</td>\n",
       "    </tr>\n",
       "    <tr>\n",
       "      <th>10</th>\n",
       "      <td>分析一组</td>\n",
       "      <td>刘永强</td>\n",
       "      <td>9-3</td>\n",
       "      <td>0</td>\n",
       "      <td>0</td>\n",
       "      <td>0</td>\n",
       "      <td>0</td>\n",
       "      <td>0</td>\n",
       "      <td>0</td>\n",
       "      <td>0</td>\n",
       "      <td>0</td>\n",
       "      <td>3</td>\n",
       "      <td>1.0</td>\n",
       "      <td>0</td>\n",
       "      <td>0</td>\n",
       "      <td>0</td>\n",
       "      <td>0</td>\n",
       "      <td>9</td>\n",
       "    </tr>\n",
       "    <tr>\n",
       "      <th>11</th>\n",
       "      <td>分析二组</td>\n",
       "      <td>马潇</td>\n",
       "      <td>9-3</td>\n",
       "      <td>5</td>\n",
       "      <td>2</td>\n",
       "      <td>0</td>\n",
       "      <td>0</td>\n",
       "      <td>0</td>\n",
       "      <td>0</td>\n",
       "      <td>0</td>\n",
       "      <td>0</td>\n",
       "      <td>0</td>\n",
       "      <td>3.0</td>\n",
       "      <td>5</td>\n",
       "      <td>2</td>\n",
       "      <td>7</td>\n",
       "      <td>0</td>\n",
       "      <td>9</td>\n",
       "    </tr>\n",
       "    <tr>\n",
       "      <th>12</th>\n",
       "      <td>分析二组</td>\n",
       "      <td>宋少宇</td>\n",
       "      <td>9-3</td>\n",
       "      <td>0</td>\n",
       "      <td>0</td>\n",
       "      <td>0</td>\n",
       "      <td>0</td>\n",
       "      <td>1</td>\n",
       "      <td>0</td>\n",
       "      <td>0</td>\n",
       "      <td>3</td>\n",
       "      <td>0</td>\n",
       "      <td>7.0</td>\n",
       "      <td>0</td>\n",
       "      <td>0</td>\n",
       "      <td>0</td>\n",
       "      <td>0</td>\n",
       "      <td>9</td>\n",
       "    </tr>\n",
       "    <tr>\n",
       "      <th>13</th>\n",
       "      <td>分析二组</td>\n",
       "      <td>王霞</td>\n",
       "      <td>9-3</td>\n",
       "      <td>1</td>\n",
       "      <td>3</td>\n",
       "      <td>0</td>\n",
       "      <td>0</td>\n",
       "      <td>0</td>\n",
       "      <td>0</td>\n",
       "      <td>0</td>\n",
       "      <td>1</td>\n",
       "      <td>4</td>\n",
       "      <td>1.0</td>\n",
       "      <td>1</td>\n",
       "      <td>3</td>\n",
       "      <td>4</td>\n",
       "      <td>0</td>\n",
       "      <td>9</td>\n",
       "    </tr>\n",
       "    <tr>\n",
       "      <th>14</th>\n",
       "      <td>分析二组</td>\n",
       "      <td>闻少楠</td>\n",
       "      <td>9-3</td>\n",
       "      <td>1</td>\n",
       "      <td>2</td>\n",
       "      <td>0</td>\n",
       "      <td>0</td>\n",
       "      <td>0</td>\n",
       "      <td>0</td>\n",
       "      <td>0</td>\n",
       "      <td>1</td>\n",
       "      <td>0</td>\n",
       "      <td>1.0</td>\n",
       "      <td>1</td>\n",
       "      <td>2</td>\n",
       "      <td>3</td>\n",
       "      <td>0</td>\n",
       "      <td>9</td>\n",
       "    </tr>\n",
       "    <tr>\n",
       "      <th>15</th>\n",
       "      <td>分析二组</td>\n",
       "      <td>杨宇</td>\n",
       "      <td>9-3</td>\n",
       "      <td>4</td>\n",
       "      <td>6</td>\n",
       "      <td>0</td>\n",
       "      <td>0</td>\n",
       "      <td>0</td>\n",
       "      <td>0</td>\n",
       "      <td>0</td>\n",
       "      <td>4</td>\n",
       "      <td>0</td>\n",
       "      <td>2.0</td>\n",
       "      <td>4</td>\n",
       "      <td>6</td>\n",
       "      <td>10</td>\n",
       "      <td>0</td>\n",
       "      <td>9</td>\n",
       "    </tr>\n",
       "    <tr>\n",
       "      <th>16</th>\n",
       "      <td>个性化组</td>\n",
       "      <td>赵倩</td>\n",
       "      <td>9-3</td>\n",
       "      <td>0</td>\n",
       "      <td>5</td>\n",
       "      <td>0</td>\n",
       "      <td>0</td>\n",
       "      <td>0</td>\n",
       "      <td>0</td>\n",
       "      <td>0</td>\n",
       "      <td>0</td>\n",
       "      <td>0</td>\n",
       "      <td>0.0</td>\n",
       "      <td>0</td>\n",
       "      <td>5</td>\n",
       "      <td>5</td>\n",
       "      <td>0</td>\n",
       "      <td>9</td>\n",
       "    </tr>\n",
       "    <tr>\n",
       "      <th>17</th>\n",
       "      <td>个性化组</td>\n",
       "      <td>朱慧萍</td>\n",
       "      <td>9-3</td>\n",
       "      <td>0</td>\n",
       "      <td>5</td>\n",
       "      <td>0</td>\n",
       "      <td>0</td>\n",
       "      <td>0</td>\n",
       "      <td>0</td>\n",
       "      <td>0</td>\n",
       "      <td>0</td>\n",
       "      <td>0</td>\n",
       "      <td>0.0</td>\n",
       "      <td>0</td>\n",
       "      <td>5</td>\n",
       "      <td>5</td>\n",
       "      <td>0</td>\n",
       "      <td>9</td>\n",
       "    </tr>\n",
       "  </tbody>\n",
       "</table>\n",
       "<p>127 rows × 18 columns</p>\n",
       "</div>"
      ],
      "text/plain": [
       "      组别   人员 日期（格式“月-周次”）  完成商业项目数  完成个性化数  延期商业项目数  延期个性化项目数  \\\n",
       "0   分析二组  李晓波          8-1        0       0        0         0   \n",
       "1   分析二组   马潇          8-1        3       0        0         0   \n",
       "2   分析二组  段利强          8-1        0       2        0         0   \n",
       "3   分析二组   杨宇          8-1        1       0        0         0   \n",
       "4   分析二组  陈碧雯          8-1        1       0        0         0   \n",
       "5   分析二组   何胜          8-1        1       0        0         0   \n",
       "6   分析二组  刘梦苑          8-1        0       0        0         0   \n",
       "7   分析二组  闻少楠          8-1        2       0        0         0   \n",
       "8   分析二组   王霞          8-1        0       0        0         0   \n",
       "9   分析二组  于勇一          8-1        1       1        0         0   \n",
       "10  分析二组  宋少宇          8-1        4       3        0         0   \n",
       "11  分析一组  刘永强          8-1        0       0        0         0   \n",
       "12  分析一组  陈鹏燕          8-1        7       4        0         0   \n",
       "13  分析一组  昶吉阳          8-1        9       4        0         0   \n",
       "14  分析一组   解飞          8-1        8       1        0         0   \n",
       "15  个性化组  靳甜甜          8-1        0       0        0         0   \n",
       "16  个性化组  冯敬岩          8-1        0       2        0         0   \n",
       "17  个性化组   赵倩          8-1        0       4        0         0   \n",
       "18  个性化组  朱慧萍          8-1        1       6        0         0   \n",
       "0   分析二组  李晓波          8-2        0       0        0         0   \n",
       "1   分析二组   马潇          8-2        3       0        0         0   \n",
       "2   分析二组  段利强          8-2        0       2        0         0   \n",
       "3   分析二组   杨宇          8-2        1       0        0         0   \n",
       "4   分析二组  陈碧雯          8-2        3       0        0         0   \n",
       "5   分析二组   何胜          8-2        4       0        0         0   \n",
       "6   分析二组  刘梦苑          8-2        2       1        0         0   \n",
       "7   分析二组  闻少楠          8-2        3       0        0         0   \n",
       "8   分析二组   王霞          8-2        0       0        0         0   \n",
       "9   分析二组  宋少宇          8-2        2       5        0         0   \n",
       "10  分析一组  刘永强          8-2        0       0        0         0   \n",
       "..   ...  ...          ...      ...     ...      ...       ...   \n",
       "6   分析一组   解飞          9-2        0       0        0         0   \n",
       "7   个性化组  靳甜甜          9-2        0       0        0         0   \n",
       "8   分析二组  李晓波          9-2        0       0        0         0   \n",
       "9   分析二组  刘梦苑          9-2        1       4        0         0   \n",
       "10  分析一组  刘永强          9-2        2       0        0         0   \n",
       "11  分析二组   马潇          9-2        4       3        0         0   \n",
       "12  分析二组  宋少宇          9-2        2       1        0         0   \n",
       "13  分析二组   王霞          9-2        0       2        0         0   \n",
       "14  分析二组  闻少楠          9-2        1       1        0         0   \n",
       "15  分析二组   杨宇          9-2        7       2        0         0   \n",
       "16  个性化组   赵倩          9-2        0       6        0         0   \n",
       "17  个性化组  朱慧萍          9-2        1       5        0         0   \n",
       "0   分析一组  昶吉阳          9-3        0       0        0         0   \n",
       "1   分析二组  陈碧雯          9-3        1       3        0         0   \n",
       "2   分析一组  陈鹏燕          9-3        1       3        0         0   \n",
       "3   分析二组  段利强          9-3        0       5        0         0   \n",
       "4   个性化组  冯敬岩          9-3        0       3        0         0   \n",
       "5   分析二组   何胜          9-3        4       3        0         0   \n",
       "6   分析一组   解飞          9-3        4       0        0         0   \n",
       "7   个性化组  靳甜甜          9-3        0       0        0         0   \n",
       "8   分析二组  李晓波          9-3        0       0        0         0   \n",
       "9   分析二组  刘梦苑          9-3        1       1        1         0   \n",
       "10  分析一组  刘永强          9-3        0       0        0         0   \n",
       "11  分析二组   马潇          9-3        5       2        0         0   \n",
       "12  分析二组  宋少宇          9-3        0       0        0         0   \n",
       "13  分析二组   王霞          9-3        1       3        0         0   \n",
       "14  分析二组  闻少楠          9-3        1       2        0         0   \n",
       "15  分析二组   杨宇          9-3        4       6        0         0   \n",
       "16  个性化组   赵倩          9-3        0       5        0         0   \n",
       "17  个性化组  朱慧萍          9-3        0       5        0         0   \n",
       "\n",
       "    24h内未完成数据反馈项目数  反馈延期个性化数  24h内未完成数据交付项目数  下机项目数  接入个性化数  待交付项目数  总商业项目数  \\\n",
       "0                0         0               0      0       0     1.0       0   \n",
       "1                0         0               0      2       0     0.0       3   \n",
       "2                0         0               0      2       2     1.0       0   \n",
       "3                0         0               0      3       0     0.0       1   \n",
       "4                0         0               0      2       0     0.0       1   \n",
       "5                0         0               0      4       0     0.0       1   \n",
       "6                0         0               0      8       0     0.0       0   \n",
       "7                1         0               0      3       0     0.0       2   \n",
       "8                0         0               0      0       0     0.0       0   \n",
       "9                0         0               0      1       1     1.0       1   \n",
       "10               0         0               0      7       3     2.0       4   \n",
       "11               0         0               0      1       0     1.0       0   \n",
       "12               0         0               0      6       5     0.0       7   \n",
       "13               0         0               0      7       6     2.0       9   \n",
       "14               0         0               0      8       3     1.0       8   \n",
       "15               0         0               0      0       0     0.0       0   \n",
       "16               0         0               0      0       6     0.0       0   \n",
       "17               0         0               0      0       8     0.0       0   \n",
       "18               0         0               0      1       6     0.0       1   \n",
       "0                0         0               0      0       0     0.0       0   \n",
       "1                0         0               0      5       2     0.0       3   \n",
       "2                0         0               0      4       0     0.0       0   \n",
       "3                0         0               0      5       0     0.0       1   \n",
       "4                0         0               0      3       0     1.0       3   \n",
       "5                0         0               0      2       0     0.0       4   \n",
       "6                0         0               0      8       2     2.0       2   \n",
       "7                0         0               0      0       0     0.0       3   \n",
       "8                0         0               0      0       0     0.0       0   \n",
       "9                0         0               0     10       1     0.0       2   \n",
       "10               0         0               0      2       0     0.0       0   \n",
       "..             ...       ...             ...    ...     ...     ...     ...   \n",
       "6                0         0               0      1       0     2.0       0   \n",
       "7                0         0               0      0       0     0.0       0   \n",
       "8                0         0               0      0       0     1.0       0   \n",
       "9                0         0               0      3       0     0.0       1   \n",
       "10               0         0               0      0       0     0.0       2   \n",
       "11               0         0               0      4       3     0.0       4   \n",
       "12               0         0               0      3       0     0.0       2   \n",
       "13               0         0               0      2       2     0.0       0   \n",
       "14               0         0               0      1       1     2.0       1   \n",
       "15               0         0               0      5       4     0.0       7   \n",
       "16               0         0               0      0       5     0.0       0   \n",
       "17               0         0               0      0       5     0.0       1   \n",
       "0                0         0               0      4       0     7.0       0   \n",
       "1                0         0               0      1       0     3.0       1   \n",
       "2                0         0               0      5       0     9.0       1   \n",
       "3                0         0               0      4       0     1.0       0   \n",
       "4                0         0               0      1       1     2.0       0   \n",
       "5                0         0               0      3       3     4.0       4   \n",
       "6                0         0               0      0       0     5.0       4   \n",
       "7                0         0               0      0       0     0.0       0   \n",
       "8                0         0               0      0       0     1.0       0   \n",
       "9                0         0               0      5       3     1.0       2   \n",
       "10               0         0               0      0       3     1.0       0   \n",
       "11               0         0               0      0       0     3.0       5   \n",
       "12               1         0               0      3       0     7.0       0   \n",
       "13               0         0               0      1       4     1.0       1   \n",
       "14               0         0               0      1       0     1.0       1   \n",
       "15               0         0               0      4       0     2.0       4   \n",
       "16               0         0               0      0       0     0.0       0   \n",
       "17               0         0               0      0       0     0.0       0   \n",
       "\n",
       "    总个性化数  总项目数  总延期项目数  month  \n",
       "0       0     0       0      8  \n",
       "1       0     3       0      8  \n",
       "2       2     2       0      8  \n",
       "3       0     1       0      8  \n",
       "4       0     1       0      8  \n",
       "5       0     1       0      8  \n",
       "6       0     0       0      8  \n",
       "7       0     2       0      8  \n",
       "8       0     0       0      8  \n",
       "9       1     2       0      8  \n",
       "10      3     7       0      8  \n",
       "11      0     0       0      8  \n",
       "12      4    11       0      8  \n",
       "13      4    13       0      8  \n",
       "14      1     9       0      8  \n",
       "15      0     0       0      8  \n",
       "16      2     2       0      8  \n",
       "17      4     4       0      8  \n",
       "18      6     7       0      8  \n",
       "0       0     0       0      8  \n",
       "1       0     3       0      8  \n",
       "2       2     2       0      8  \n",
       "3       0     1       0      8  \n",
       "4       0     3       0      8  \n",
       "5       0     4       0      8  \n",
       "6       1     3       0      8  \n",
       "7       0     3       0      8  \n",
       "8       0     0       0      8  \n",
       "9       5     7       0      8  \n",
       "10      0     0       0      8  \n",
       "..    ...   ...     ...    ...  \n",
       "6       0     0       0      9  \n",
       "7       0     0       0      9  \n",
       "8       0     0       0      9  \n",
       "9       4     5       0      9  \n",
       "10      0     2       0      9  \n",
       "11      3     7       0      9  \n",
       "12      1     3       0      9  \n",
       "13      2     2       0      9  \n",
       "14      1     2       0      9  \n",
       "15      2     9       0      9  \n",
       "16      6     6       0      9  \n",
       "17      5     6       0      9  \n",
       "0       0     0       0      9  \n",
       "1       3     4       0      9  \n",
       "2       3     4       0      9  \n",
       "3       5     5       0      9  \n",
       "4       3     3       0      9  \n",
       "5       3     7       0      9  \n",
       "6       0     4       0      9  \n",
       "7       0     0       0      9  \n",
       "8       0     0       0      9  \n",
       "9       1     3       1      9  \n",
       "10      0     0       0      9  \n",
       "11      2     7       0      9  \n",
       "12      0     0       0      9  \n",
       "13      3     4       0      9  \n",
       "14      2     3       0      9  \n",
       "15      6    10       0      9  \n",
       "16      5     5       0      9  \n",
       "17      5     5       0      9  \n",
       "\n",
       "[127 rows x 18 columns]"
      ]
     },
     "execution_count": 143,
     "metadata": {},
     "output_type": "execute_result"
    }
   ],
   "source": [
    "pathway = '/mnt/e/jupyter/data/Analysis/'\n",
    "all_files , title = myModule.get_title(pathway, 0)   ##给路径\n",
    "all_dict  = myModule.read_xlsx(all_files , 0 )## read all files sheet1\n",
    "all_dict2 = myModule.read_xlsx(all_files , 1 ) ##"
   ]
  },
  {
   "cell_type": "code",
   "execution_count": 141,
   "metadata": {},
   "outputs": [
    {
     "data": {
      "text/html": [
       "<div>\n",
       "<style scoped>\n",
       "    .dataframe tbody tr th:only-of-type {\n",
       "        vertical-align: middle;\n",
       "    }\n",
       "\n",
       "    .dataframe tbody tr th {\n",
       "        vertical-align: top;\n",
       "    }\n",
       "\n",
       "    .dataframe thead th {\n",
       "        text-align: right;\n",
       "    }\n",
       "</style>\n",
       "<table border=\"1\" class=\"dataframe\">\n",
       "  <thead>\n",
       "    <tr style=\"text-align: right;\">\n",
       "      <th></th>\n",
       "      <th>Name</th>\n",
       "      <th>Score1</th>\n",
       "      <th>Score2</th>\n",
       "      <th>tt</th>\n",
       "      <th>ss</th>\n",
       "    </tr>\n",
       "  </thead>\n",
       "  <tbody>\n",
       "    <tr>\n",
       "      <th>0</th>\n",
       "      <td>Alisa</td>\n",
       "      <td>62</td>\n",
       "      <td>89</td>\n",
       "      <td>5.0</td>\n",
       "      <td>67.0</td>\n",
       "    </tr>\n",
       "    <tr>\n",
       "      <th>1</th>\n",
       "      <td>Bobby</td>\n",
       "      <td>47</td>\n",
       "      <td>87</td>\n",
       "      <td>5.0</td>\n",
       "      <td>52.0</td>\n",
       "    </tr>\n",
       "    <tr>\n",
       "      <th>2</th>\n",
       "      <td>Cathrine</td>\n",
       "      <td>55</td>\n",
       "      <td>67</td>\n",
       "      <td>5.0</td>\n",
       "      <td>60.0</td>\n",
       "    </tr>\n",
       "    <tr>\n",
       "      <th>3</th>\n",
       "      <td>Madonna</td>\n",
       "      <td>74</td>\n",
       "      <td>55</td>\n",
       "      <td>5.0</td>\n",
       "      <td>79.0</td>\n",
       "    </tr>\n",
       "    <tr>\n",
       "      <th>4</th>\n",
       "      <td>Rocky</td>\n",
       "      <td>31</td>\n",
       "      <td>47</td>\n",
       "      <td>5.0</td>\n",
       "      <td>36.0</td>\n",
       "    </tr>\n",
       "    <tr>\n",
       "      <th>5</th>\n",
       "      <td>Sebastian</td>\n",
       "      <td>77</td>\n",
       "      <td>72</td>\n",
       "      <td>5.0</td>\n",
       "      <td>82.0</td>\n",
       "    </tr>\n",
       "    <tr>\n",
       "      <th>6</th>\n",
       "      <td>Jaqluine</td>\n",
       "      <td>85</td>\n",
       "      <td>76</td>\n",
       "      <td>5.0</td>\n",
       "      <td>90.0</td>\n",
       "    </tr>\n",
       "    <tr>\n",
       "      <th>7</th>\n",
       "      <td>Rahul</td>\n",
       "      <td>63</td>\n",
       "      <td>79</td>\n",
       "      <td>5.0</td>\n",
       "      <td>68.0</td>\n",
       "    </tr>\n",
       "    <tr>\n",
       "      <th>8</th>\n",
       "      <td>David</td>\n",
       "      <td>42</td>\n",
       "      <td>44</td>\n",
       "      <td>5.0</td>\n",
       "      <td>47.0</td>\n",
       "    </tr>\n",
       "    <tr>\n",
       "      <th>0</th>\n",
       "      <td>Alisa</td>\n",
       "      <td>62</td>\n",
       "      <td>89</td>\n",
       "      <td>NaN</td>\n",
       "      <td>NaN</td>\n",
       "    </tr>\n",
       "    <tr>\n",
       "      <th>1</th>\n",
       "      <td>Bobby</td>\n",
       "      <td>47</td>\n",
       "      <td>87</td>\n",
       "      <td>NaN</td>\n",
       "      <td>NaN</td>\n",
       "    </tr>\n",
       "    <tr>\n",
       "      <th>2</th>\n",
       "      <td>Cathrine</td>\n",
       "      <td>55</td>\n",
       "      <td>67</td>\n",
       "      <td>NaN</td>\n",
       "      <td>NaN</td>\n",
       "    </tr>\n",
       "    <tr>\n",
       "      <th>3</th>\n",
       "      <td>Madonna</td>\n",
       "      <td>74</td>\n",
       "      <td>55</td>\n",
       "      <td>NaN</td>\n",
       "      <td>NaN</td>\n",
       "    </tr>\n",
       "    <tr>\n",
       "      <th>4</th>\n",
       "      <td>Rocky</td>\n",
       "      <td>31</td>\n",
       "      <td>47</td>\n",
       "      <td>NaN</td>\n",
       "      <td>NaN</td>\n",
       "    </tr>\n",
       "    <tr>\n",
       "      <th>5</th>\n",
       "      <td>Sebastian</td>\n",
       "      <td>77</td>\n",
       "      <td>72</td>\n",
       "      <td>NaN</td>\n",
       "      <td>NaN</td>\n",
       "    </tr>\n",
       "    <tr>\n",
       "      <th>6</th>\n",
       "      <td>Jaqluine</td>\n",
       "      <td>85</td>\n",
       "      <td>76</td>\n",
       "      <td>NaN</td>\n",
       "      <td>NaN</td>\n",
       "    </tr>\n",
       "    <tr>\n",
       "      <th>7</th>\n",
       "      <td>Rahul</td>\n",
       "      <td>63</td>\n",
       "      <td>79</td>\n",
       "      <td>NaN</td>\n",
       "      <td>NaN</td>\n",
       "    </tr>\n",
       "    <tr>\n",
       "      <th>8</th>\n",
       "      <td>David</td>\n",
       "      <td>42</td>\n",
       "      <td>44</td>\n",
       "      <td>NaN</td>\n",
       "      <td>NaN</td>\n",
       "    </tr>\n",
       "  </tbody>\n",
       "</table>\n",
       "</div>"
      ],
      "text/plain": [
       "        Name  Score1  Score2   tt    ss\n",
       "0      Alisa      62      89  5.0  67.0\n",
       "1      Bobby      47      87  5.0  52.0\n",
       "2   Cathrine      55      67  5.0  60.0\n",
       "3    Madonna      74      55  5.0  79.0\n",
       "4      Rocky      31      47  5.0  36.0\n",
       "5  Sebastian      77      72  5.0  82.0\n",
       "6   Jaqluine      85      76  5.0  90.0\n",
       "7      Rahul      63      79  5.0  68.0\n",
       "8      David      42      44  5.0  47.0\n",
       "0      Alisa      62      89  NaN   NaN\n",
       "1      Bobby      47      87  NaN   NaN\n",
       "2   Cathrine      55      67  NaN   NaN\n",
       "3    Madonna      74      55  NaN   NaN\n",
       "4      Rocky      31      47  NaN   NaN\n",
       "5  Sebastian      77      72  NaN   NaN\n",
       "6   Jaqluine      85      76  NaN   NaN\n",
       "7      Rahul      63      79  NaN   NaN\n",
       "8      David      42      44  NaN   NaN"
      ]
     },
     "execution_count": 141,
     "metadata": {},
     "output_type": "execute_result"
    }
   ],
   "source": [
    "import pandas as pd\n",
    "d = {\n",
    "    'Name':['Alisa','Bobby','Cathrine','Madonna','Rocky','Sebastian','Jaqluine',\n",
    "   'Rahul','David'],\n",
    "   'Score1':[62,47,55,74,31,77,85,63,42],\n",
    "   'Score2':[89,87,67,55,47,72,76,79,44]}\n",
    "df1 = pd.DataFrame(d)\n",
    "df1['tt']=5\n",
    "df2 = pd.DataFrame(d)\n",
    "tt = pd.concat([df1,df2],axis=0,sort=False,join='outer')\n",
    "tt['ss'] = tt['tt']+tt['Score1']\n",
    "tt"
   ]
  },
  {
   "cell_type": "markdown",
   "metadata": {},
   "source": [
    "# 人员情况"
   ]
  },
  {
   "cell_type": "markdown",
   "metadata": {},
   "source": [
    "## 分析组整体人员情况"
   ]
  },
  {
   "cell_type": "code",
   "execution_count": 78,
   "metadata": {
    "scrolled": false
   },
   "outputs": [
    {
     "data": {
      "application/vnd.plotly.v1+json": {
       "data": [
        {
         "name": "人员",
         "type": "bar",
         "uid": "4eb0b66e-c559-11e8-97d0-a81e84e6c740",
         "x": [
          "8-1",
          "8-2",
          "8-3",
          "8-4",
          "9-1",
          "9-2",
          "9-3"
         ],
         "y": [
          19,
          18,
          18,
          18,
          18,
          18,
          18
         ]
        }
       ],
       "layout": {
        "title": "人员周趋势图",
        "xaxis": {
         "mirror": "all",
         "nticks": 20,
         "showgrid": true,
         "showline": true,
         "title": "周",
         "zeroline": true
        },
        "yaxis": {
         "mirror": "all",
         "nticks": 20,
         "showgrid": true,
         "showline": true,
         "title": "人员",
         "zeroline": true
        }
       }
      },
      "text/html": [
       "<div id=\"c743dbf8-1989-4b15-951a-3c575d41adb0\" style=\"height: 525px; width: 100%;\" class=\"plotly-graph-div\"></div><script type=\"text/javascript\">require([\"plotly\"], function(Plotly) { window.PLOTLYENV=window.PLOTLYENV || {};window.PLOTLYENV.BASE_URL=\"https://plot.ly\";Plotly.newPlot(\"c743dbf8-1989-4b15-951a-3c575d41adb0\", [{\"name\": \"\\u4eba\\u5458\", \"x\": [\"8-1\", \"8-2\", \"8-3\", \"8-4\", \"9-1\", \"9-2\", \"9-3\"], \"y\": [19.0, 18.0, 18.0, 18.0, 18.0, 18.0, 18.0], \"type\": \"bar\", \"uid\": \"4eb0b66e-c559-11e8-97d0-a81e84e6c740\"}], {\"title\": \"\\u4eba\\u5458\\u5468\\u8d8b\\u52bf\\u56fe\", \"xaxis\": {\"mirror\": \"all\", \"nticks\": 20, \"showgrid\": true, \"showline\": true, \"title\": \"\\u5468\", \"zeroline\": true}, \"yaxis\": {\"mirror\": \"all\", \"nticks\": 20, \"showgrid\": true, \"showline\": true, \"title\": \"\\u4eba\\u5458\", \"zeroline\": true}}, {\"showLink\": true, \"linkText\": \"Export to plot.ly\"})});</script>"
      ],
      "text/vnd.plotly.v1+html": [
       "<div id=\"c743dbf8-1989-4b15-951a-3c575d41adb0\" style=\"height: 525px; width: 100%;\" class=\"plotly-graph-div\"></div><script type=\"text/javascript\">require([\"plotly\"], function(Plotly) { window.PLOTLYENV=window.PLOTLYENV || {};window.PLOTLYENV.BASE_URL=\"https://plot.ly\";Plotly.newPlot(\"c743dbf8-1989-4b15-951a-3c575d41adb0\", [{\"name\": \"\\u4eba\\u5458\", \"x\": [\"8-1\", \"8-2\", \"8-3\", \"8-4\", \"9-1\", \"9-2\", \"9-3\"], \"y\": [19.0, 18.0, 18.0, 18.0, 18.0, 18.0, 18.0], \"type\": \"bar\", \"uid\": \"4eb0b66e-c559-11e8-97d0-a81e84e6c740\"}], {\"title\": \"\\u4eba\\u5458\\u5468\\u8d8b\\u52bf\\u56fe\", \"xaxis\": {\"mirror\": \"all\", \"nticks\": 20, \"showgrid\": true, \"showline\": true, \"title\": \"\\u5468\", \"zeroline\": true}, \"yaxis\": {\"mirror\": \"all\", \"nticks\": 20, \"showgrid\": true, \"showline\": true, \"title\": \"\\u4eba\\u5458\", \"zeroline\": true}}, {\"showLink\": true, \"linkText\": \"Export to plot.ly\"})});</script>"
      ]
     },
     "metadata": {},
     "output_type": "display_data"
    }
   ],
   "source": [
    "data_dict = {'人员':['人员']}\n",
    "myModule.plot( all_dict, data_dict, '组别','bar' , time_list = time_list, data_type='count' , total=True)"
   ]
  },
  {
   "cell_type": "markdown",
   "metadata": {},
   "source": [
    "## 各组人员情况"
   ]
  },
  {
   "cell_type": "code",
   "execution_count": 79,
   "metadata": {
    "scrolled": false
   },
   "outputs": [
    {
     "data": {
      "application/vnd.plotly.v1+json": {
       "data": [
        {
         "name": "个性化组",
         "type": "bar",
         "uid": "4eccf306-c559-11e8-97d0-a81e84e6c740",
         "x": [
          "8-1",
          "8-2",
          "8-3",
          "8-4",
          "9-1",
          "9-2",
          "9-3"
         ],
         "y": [
          4,
          4,
          4,
          4,
          4,
          4,
          4
         ]
        },
        {
         "name": "分析一组",
         "type": "bar",
         "uid": "4eccf63a-c559-11e8-97d0-a81e84e6c740",
         "x": [
          "8-1",
          "8-2",
          "8-3",
          "8-4",
          "9-1",
          "9-2",
          "9-3"
         ],
         "y": [
          4,
          4,
          4,
          4,
          4,
          4,
          4
         ]
        },
        {
         "name": "分析二组",
         "type": "bar",
         "uid": "4eccf892-c559-11e8-97d0-a81e84e6c740",
         "x": [
          "8-1",
          "8-2",
          "8-3",
          "8-4",
          "9-1",
          "9-2",
          "9-3"
         ],
         "y": [
          11,
          10,
          10,
          10,
          10,
          10,
          10
         ]
        }
       ],
       "layout": {
        "title": "人员周趋势图",
        "xaxis": {
         "mirror": "all",
         "nticks": 20,
         "showgrid": true,
         "showline": true,
         "title": "周",
         "zeroline": true
        },
        "yaxis": {
         "mirror": "all",
         "nticks": 20,
         "showgrid": true,
         "showline": true,
         "title": "人员",
         "zeroline": true
        }
       }
      },
      "text/html": [
       "<div id=\"ca0b47e8-3c81-42c1-a3d3-25bdfb858f34\" style=\"height: 525px; width: 100%;\" class=\"plotly-graph-div\"></div><script type=\"text/javascript\">require([\"plotly\"], function(Plotly) { window.PLOTLYENV=window.PLOTLYENV || {};window.PLOTLYENV.BASE_URL=\"https://plot.ly\";Plotly.newPlot(\"ca0b47e8-3c81-42c1-a3d3-25bdfb858f34\", [{\"name\": \"\\u4e2a\\u6027\\u5316\\u7ec4\", \"x\": [\"8-1\", \"8-2\", \"8-3\", \"8-4\", \"9-1\", \"9-2\", \"9-3\"], \"y\": [4.0, 4.0, 4.0, 4.0, 4.0, 4.0, 4.0], \"type\": \"bar\", \"uid\": \"4eccf306-c559-11e8-97d0-a81e84e6c740\"}, {\"name\": \"\\u5206\\u6790\\u4e00\\u7ec4\", \"x\": [\"8-1\", \"8-2\", \"8-3\", \"8-4\", \"9-1\", \"9-2\", \"9-3\"], \"y\": [4.0, 4.0, 4.0, 4.0, 4.0, 4.0, 4.0], \"type\": \"bar\", \"uid\": \"4eccf63a-c559-11e8-97d0-a81e84e6c740\"}, {\"name\": \"\\u5206\\u6790\\u4e8c\\u7ec4\", \"x\": [\"8-1\", \"8-2\", \"8-3\", \"8-4\", \"9-1\", \"9-2\", \"9-3\"], \"y\": [11.0, 10.0, 10.0, 10.0, 10.0, 10.0, 10.0], \"type\": \"bar\", \"uid\": \"4eccf892-c559-11e8-97d0-a81e84e6c740\"}], {\"title\": \"\\u4eba\\u5458\\u5468\\u8d8b\\u52bf\\u56fe\", \"xaxis\": {\"mirror\": \"all\", \"nticks\": 20, \"showgrid\": true, \"showline\": true, \"title\": \"\\u5468\", \"zeroline\": true}, \"yaxis\": {\"mirror\": \"all\", \"nticks\": 20, \"showgrid\": true, \"showline\": true, \"title\": \"\\u4eba\\u5458\", \"zeroline\": true}}, {\"showLink\": true, \"linkText\": \"Export to plot.ly\"})});</script>"
      ],
      "text/vnd.plotly.v1+html": [
       "<div id=\"ca0b47e8-3c81-42c1-a3d3-25bdfb858f34\" style=\"height: 525px; width: 100%;\" class=\"plotly-graph-div\"></div><script type=\"text/javascript\">require([\"plotly\"], function(Plotly) { window.PLOTLYENV=window.PLOTLYENV || {};window.PLOTLYENV.BASE_URL=\"https://plot.ly\";Plotly.newPlot(\"ca0b47e8-3c81-42c1-a3d3-25bdfb858f34\", [{\"name\": \"\\u4e2a\\u6027\\u5316\\u7ec4\", \"x\": [\"8-1\", \"8-2\", \"8-3\", \"8-4\", \"9-1\", \"9-2\", \"9-3\"], \"y\": [4.0, 4.0, 4.0, 4.0, 4.0, 4.0, 4.0], \"type\": \"bar\", \"uid\": \"4eccf306-c559-11e8-97d0-a81e84e6c740\"}, {\"name\": \"\\u5206\\u6790\\u4e00\\u7ec4\", \"x\": [\"8-1\", \"8-2\", \"8-3\", \"8-4\", \"9-1\", \"9-2\", \"9-3\"], \"y\": [4.0, 4.0, 4.0, 4.0, 4.0, 4.0, 4.0], \"type\": \"bar\", \"uid\": \"4eccf63a-c559-11e8-97d0-a81e84e6c740\"}, {\"name\": \"\\u5206\\u6790\\u4e8c\\u7ec4\", \"x\": [\"8-1\", \"8-2\", \"8-3\", \"8-4\", \"9-1\", \"9-2\", \"9-3\"], \"y\": [11.0, 10.0, 10.0, 10.0, 10.0, 10.0, 10.0], \"type\": \"bar\", \"uid\": \"4eccf892-c559-11e8-97d0-a81e84e6c740\"}], {\"title\": \"\\u4eba\\u5458\\u5468\\u8d8b\\u52bf\\u56fe\", \"xaxis\": {\"mirror\": \"all\", \"nticks\": 20, \"showgrid\": true, \"showline\": true, \"title\": \"\\u5468\", \"zeroline\": true}, \"yaxis\": {\"mirror\": \"all\", \"nticks\": 20, \"showgrid\": true, \"showline\": true, \"title\": \"\\u4eba\\u5458\", \"zeroline\": true}}, {\"showLink\": true, \"linkText\": \"Export to plot.ly\"})});</script>"
      ]
     },
     "metadata": {},
     "output_type": "display_data"
    }
   ],
   "source": [
    "data_dict = {'人员':['人员']}\n",
    "myModule.plot( all_dict, data_dict, '组别','bar' ,  time_list = time_list,data_type='count' )"
   ]
  },
  {
   "cell_type": "markdown",
   "metadata": {},
   "source": [
    "# 产能情况"
   ]
  },
  {
   "cell_type": "markdown",
   "metadata": {},
   "source": [
    "## 总完成项目数情况"
   ]
  },
  {
   "cell_type": "markdown",
   "metadata": {},
   "source": [
    "### 分析组完成项目数"
   ]
  },
  {
   "cell_type": "code",
   "execution_count": 80,
   "metadata": {
    "scrolled": false
   },
   "outputs": [
    {
     "data": {
      "application/vnd.plotly.v1+json": {
       "data": [
        {
         "name": "完成商业项目数",
         "type": "bar",
         "uid": "4eebaff8-c559-11e8-97d0-a81e84e6c740",
         "x": [
          "8-1",
          "8-2",
          "8-3",
          "8-4",
          "9-1",
          "9-2",
          "9-3"
         ],
         "y": [
          38,
          36,
          24,
          30,
          27,
          41,
          22
         ]
        },
        {
         "name": "完成个性化数",
         "type": "bar",
         "uid": "4eebb340-c559-11e8-97d0-a81e84e6c740",
         "x": [
          "8-1",
          "8-2",
          "8-3",
          "8-4",
          "9-1",
          "9-2",
          "9-3"
         ],
         "y": [
          27,
          35,
          26,
          31,
          31,
          39,
          41
         ]
        }
       ],
       "layout": {
        "barmode": "stack",
        "title": "完成商业项目数&完成个性化数周趋势图",
        "xaxis": {
         "mirror": "all",
         "nticks": 20,
         "showgrid": true,
         "showline": true,
         "title": "周",
         "zeroline": true
        },
        "yaxis": {
         "mirror": "all",
         "nticks": 20,
         "showgrid": true,
         "showline": true,
         "title": "完成商业项目数&完成个性化数",
         "zeroline": true
        }
       }
      },
      "text/html": [
       "<div id=\"a0858a39-632f-4af5-bb2c-9d9476600698\" style=\"height: 525px; width: 100%;\" class=\"plotly-graph-div\"></div><script type=\"text/javascript\">require([\"plotly\"], function(Plotly) { window.PLOTLYENV=window.PLOTLYENV || {};window.PLOTLYENV.BASE_URL=\"https://plot.ly\";Plotly.newPlot(\"a0858a39-632f-4af5-bb2c-9d9476600698\", [{\"name\": \"\\u5b8c\\u6210\\u5546\\u4e1a\\u9879\\u76ee\\u6570\", \"x\": [\"8-1\", \"8-2\", \"8-3\", \"8-4\", \"9-1\", \"9-2\", \"9-3\"], \"y\": [38.0, 36.0, 24.0, 30.0, 27.0, 41.0, 22.0], \"type\": \"bar\", \"uid\": \"4eebaff8-c559-11e8-97d0-a81e84e6c740\"}, {\"name\": \"\\u5b8c\\u6210\\u4e2a\\u6027\\u5316\\u6570\", \"x\": [\"8-1\", \"8-2\", \"8-3\", \"8-4\", \"9-1\", \"9-2\", \"9-3\"], \"y\": [27.0, 35.0, 26.0, 31.0, 31.0, 39.0, 41.0], \"type\": \"bar\", \"uid\": \"4eebb340-c559-11e8-97d0-a81e84e6c740\"}], {\"barmode\": \"stack\", \"title\": \"\\u5b8c\\u6210\\u5546\\u4e1a\\u9879\\u76ee\\u6570&\\u5b8c\\u6210\\u4e2a\\u6027\\u5316\\u6570\\u5468\\u8d8b\\u52bf\\u56fe\", \"xaxis\": {\"mirror\": \"all\", \"nticks\": 20, \"showgrid\": true, \"showline\": true, \"title\": \"\\u5468\", \"zeroline\": true}, \"yaxis\": {\"mirror\": \"all\", \"nticks\": 20, \"showgrid\": true, \"showline\": true, \"title\": \"\\u5b8c\\u6210\\u5546\\u4e1a\\u9879\\u76ee\\u6570&\\u5b8c\\u6210\\u4e2a\\u6027\\u5316\\u6570\", \"zeroline\": true}}, {\"showLink\": true, \"linkText\": \"Export to plot.ly\"})});</script>"
      ],
      "text/vnd.plotly.v1+html": [
       "<div id=\"a0858a39-632f-4af5-bb2c-9d9476600698\" style=\"height: 525px; width: 100%;\" class=\"plotly-graph-div\"></div><script type=\"text/javascript\">require([\"plotly\"], function(Plotly) { window.PLOTLYENV=window.PLOTLYENV || {};window.PLOTLYENV.BASE_URL=\"https://plot.ly\";Plotly.newPlot(\"a0858a39-632f-4af5-bb2c-9d9476600698\", [{\"name\": \"\\u5b8c\\u6210\\u5546\\u4e1a\\u9879\\u76ee\\u6570\", \"x\": [\"8-1\", \"8-2\", \"8-3\", \"8-4\", \"9-1\", \"9-2\", \"9-3\"], \"y\": [38.0, 36.0, 24.0, 30.0, 27.0, 41.0, 22.0], \"type\": \"bar\", \"uid\": \"4eebaff8-c559-11e8-97d0-a81e84e6c740\"}, {\"name\": \"\\u5b8c\\u6210\\u4e2a\\u6027\\u5316\\u6570\", \"x\": [\"8-1\", \"8-2\", \"8-3\", \"8-4\", \"9-1\", \"9-2\", \"9-3\"], \"y\": [27.0, 35.0, 26.0, 31.0, 31.0, 39.0, 41.0], \"type\": \"bar\", \"uid\": \"4eebb340-c559-11e8-97d0-a81e84e6c740\"}], {\"barmode\": \"stack\", \"title\": \"\\u5b8c\\u6210\\u5546\\u4e1a\\u9879\\u76ee\\u6570&\\u5b8c\\u6210\\u4e2a\\u6027\\u5316\\u6570\\u5468\\u8d8b\\u52bf\\u56fe\", \"xaxis\": {\"mirror\": \"all\", \"nticks\": 20, \"showgrid\": true, \"showline\": true, \"title\": \"\\u5468\", \"zeroline\": true}, \"yaxis\": {\"mirror\": \"all\", \"nticks\": 20, \"showgrid\": true, \"showline\": true, \"title\": \"\\u5b8c\\u6210\\u5546\\u4e1a\\u9879\\u76ee\\u6570&\\u5b8c\\u6210\\u4e2a\\u6027\\u5316\\u6570\", \"zeroline\": true}}, {\"showLink\": true, \"linkText\": \"Export to plot.ly\"})});</script>"
      ]
     },
     "metadata": {},
     "output_type": "display_data"
    }
   ],
   "source": [
    "data_dict = {'完成商业项目数':['完成商业项目数'],'完成个性化数':['完成个性化数']}\n",
    "myModule.plot( all_dict, data_dict, '人员','stack_bar' , time_list = time_list, total= True )\n",
    "#data_dict = {'完成商业项目数':['完成商业项目数'],'完成个性化数':['完成个性化数'],'总完成项目数':['完成个性化数','完成商业项目数','+']}\n",
    "#myModule.plot( all_dict, data_dict, '人员','line' , by_person=False,total= True )"
   ]
  },
  {
   "cell_type": "markdown",
   "metadata": {},
   "source": [
    "### 各组总完成项目趋势图"
   ]
  },
  {
   "cell_type": "code",
   "execution_count": 95,
   "metadata": {},
   "outputs": [
    {
     "data": {
      "application/vnd.plotly.v1+json": {
       "data": [
        {
         "name": "个性化组",
         "type": "scatter",
         "uid": "70e02b34-c559-11e8-97d0-a81e84e6c740",
         "x": [
          "8-1",
          "8-2",
          "8-3",
          "8-4",
          "9-1",
          "9-2",
          "9-3"
         ],
         "y": [
          13,
          17,
          9,
          18,
          18,
          15,
          13
         ]
        },
        {
         "name": "分析一组",
         "type": "scatter",
         "uid": "70e02eae-c559-11e8-97d0-a81e84e6c740",
         "x": [
          "8-1",
          "8-2",
          "8-3",
          "8-4",
          "9-1",
          "9-2",
          "9-3"
         ],
         "y": [
          33,
          28,
          20,
          14,
          12,
          15,
          8
         ]
        },
        {
         "name": "分析二组",
         "type": "scatter",
         "uid": "70e030e8-c559-11e8-97d0-a81e84e6c740",
         "x": [
          "8-1",
          "8-2",
          "8-3",
          "8-4",
          "9-1",
          "9-2",
          "9-3"
         ],
         "y": [
          19,
          26,
          21,
          29,
          28,
          50,
          42
         ]
        }
       ],
       "layout": {
        "title": "完成项目总数周趋势图",
        "xaxis": {
         "mirror": "all",
         "nticks": 20,
         "showgrid": true,
         "showline": true,
         "title": "周",
         "zeroline": true
        },
        "yaxis": {
         "mirror": "all",
         "nticks": 20,
         "showgrid": true,
         "showline": true,
         "title": "完成项目总数",
         "zeroline": true
        }
       }
      },
      "text/html": [
       "<div id=\"7776dd2b-8862-45ce-bb3c-8c4494bce40d\" style=\"height: 525px; width: 100%;\" class=\"plotly-graph-div\"></div><script type=\"text/javascript\">require([\"plotly\"], function(Plotly) { window.PLOTLYENV=window.PLOTLYENV || {};window.PLOTLYENV.BASE_URL=\"https://plot.ly\";Plotly.newPlot(\"7776dd2b-8862-45ce-bb3c-8c4494bce40d\", [{\"name\": \"\\u4e2a\\u6027\\u5316\\u7ec4\", \"x\": [\"8-1\", \"8-2\", \"8-3\", \"8-4\", \"9-1\", \"9-2\", \"9-3\"], \"y\": [13.0, 17.0, 9.0, 18.0, 18.0, 15.0, 13.0], \"type\": \"scatter\", \"uid\": \"70e02b34-c559-11e8-97d0-a81e84e6c740\"}, {\"name\": \"\\u5206\\u6790\\u4e00\\u7ec4\", \"x\": [\"8-1\", \"8-2\", \"8-3\", \"8-4\", \"9-1\", \"9-2\", \"9-3\"], \"y\": [33.0, 28.0, 20.0, 14.0, 12.0, 15.0, 8.0], \"type\": \"scatter\", \"uid\": \"70e02eae-c559-11e8-97d0-a81e84e6c740\"}, {\"name\": \"\\u5206\\u6790\\u4e8c\\u7ec4\", \"x\": [\"8-1\", \"8-2\", \"8-3\", \"8-4\", \"9-1\", \"9-2\", \"9-3\"], \"y\": [19.0, 26.0, 21.0, 29.0, 28.0, 50.0, 42.0], \"type\": \"scatter\", \"uid\": \"70e030e8-c559-11e8-97d0-a81e84e6c740\"}], {\"title\": \"\\u5b8c\\u6210\\u9879\\u76ee\\u603b\\u6570\\u5468\\u8d8b\\u52bf\\u56fe\", \"xaxis\": {\"mirror\": \"all\", \"nticks\": 20, \"showgrid\": true, \"showline\": true, \"title\": \"\\u5468\", \"zeroline\": true}, \"yaxis\": {\"mirror\": \"all\", \"nticks\": 20, \"showgrid\": true, \"showline\": true, \"title\": \"\\u5b8c\\u6210\\u9879\\u76ee\\u603b\\u6570\", \"zeroline\": true}}, {\"showLink\": true, \"linkText\": \"Export to plot.ly\"})});</script>"
      ],
      "text/vnd.plotly.v1+html": [
       "<div id=\"7776dd2b-8862-45ce-bb3c-8c4494bce40d\" style=\"height: 525px; width: 100%;\" class=\"plotly-graph-div\"></div><script type=\"text/javascript\">require([\"plotly\"], function(Plotly) { window.PLOTLYENV=window.PLOTLYENV || {};window.PLOTLYENV.BASE_URL=\"https://plot.ly\";Plotly.newPlot(\"7776dd2b-8862-45ce-bb3c-8c4494bce40d\", [{\"name\": \"\\u4e2a\\u6027\\u5316\\u7ec4\", \"x\": [\"8-1\", \"8-2\", \"8-3\", \"8-4\", \"9-1\", \"9-2\", \"9-3\"], \"y\": [13.0, 17.0, 9.0, 18.0, 18.0, 15.0, 13.0], \"type\": \"scatter\", \"uid\": \"70e02b34-c559-11e8-97d0-a81e84e6c740\"}, {\"name\": \"\\u5206\\u6790\\u4e00\\u7ec4\", \"x\": [\"8-1\", \"8-2\", \"8-3\", \"8-4\", \"9-1\", \"9-2\", \"9-3\"], \"y\": [33.0, 28.0, 20.0, 14.0, 12.0, 15.0, 8.0], \"type\": \"scatter\", \"uid\": \"70e02eae-c559-11e8-97d0-a81e84e6c740\"}, {\"name\": \"\\u5206\\u6790\\u4e8c\\u7ec4\", \"x\": [\"8-1\", \"8-2\", \"8-3\", \"8-4\", \"9-1\", \"9-2\", \"9-3\"], \"y\": [19.0, 26.0, 21.0, 29.0, 28.0, 50.0, 42.0], \"type\": \"scatter\", \"uid\": \"70e030e8-c559-11e8-97d0-a81e84e6c740\"}], {\"title\": \"\\u5b8c\\u6210\\u9879\\u76ee\\u603b\\u6570\\u5468\\u8d8b\\u52bf\\u56fe\", \"xaxis\": {\"mirror\": \"all\", \"nticks\": 20, \"showgrid\": true, \"showline\": true, \"title\": \"\\u5468\", \"zeroline\": true}, \"yaxis\": {\"mirror\": \"all\", \"nticks\": 20, \"showgrid\": true, \"showline\": true, \"title\": \"\\u5b8c\\u6210\\u9879\\u76ee\\u603b\\u6570\", \"zeroline\": true}}, {\"showLink\": true, \"linkText\": \"Export to plot.ly\"})});</script>"
      ]
     },
     "metadata": {},
     "output_type": "display_data"
    }
   ],
   "source": [
    "#data_dict = {'完成商业项目数':['完成商业项目数'],'完成个性化数':['完成个性化数'],'完成项目总数':['完成商业项目数','完成个性化数','+']}\n",
    "#myModule.plot( all_dict, data_dict, '组别','line')\n",
    "data_dict = {'完成项目总数':['完成商业项目数','完成个性化数','+']}\n",
    "myModule.plot( all_dict, data_dict, '组别','line',time_list = time_list)"
   ]
  },
  {
   "cell_type": "markdown",
   "metadata": {},
   "source": [
    "### 各组完成组成比例展示"
   ]
  },
  {
   "cell_type": "code",
   "execution_count": 82,
   "metadata": {},
   "outputs": [
    {
     "data": {
      "application/vnd.plotly.v1+json": {
       "data": [
        {
         "name": "个性化组_完成商业项目数",
         "type": "scatter",
         "uid": "4f3178bc-c559-11e8-97d0-a81e84e6c740",
         "x": [
          "8-1",
          "8-2",
          "8-3",
          "8-4",
          "9-1",
          "9-2",
          "9-3"
         ],
         "y": [
          1,
          0,
          0,
          0,
          0,
          1,
          0
         ]
        },
        {
         "name": "个性化组_完成个性化数",
         "type": "scatter",
         "uid": "4f317c40-c559-11e8-97d0-a81e84e6c740",
         "x": [
          "8-1",
          "8-2",
          "8-3",
          "8-4",
          "9-1",
          "9-2",
          "9-3"
         ],
         "y": [
          12,
          17,
          9,
          18,
          18,
          14,
          13
         ]
        },
        {
         "name": "分析一组_完成商业项目数",
         "type": "scatter",
         "uid": "4f317fd8-c559-11e8-97d0-a81e84e6c740",
         "x": [
          "8-1",
          "8-2",
          "8-3",
          "8-4",
          "9-1",
          "9-2",
          "9-3"
         ],
         "y": [
          24,
          18,
          10,
          10,
          7,
          11,
          5
         ]
        },
        {
         "name": "分析一组_完成个性化数",
         "type": "scatter",
         "uid": "4f3181ea-c559-11e8-97d0-a81e84e6c740",
         "x": [
          "8-1",
          "8-2",
          "8-3",
          "8-4",
          "9-1",
          "9-2",
          "9-3"
         ],
         "y": [
          9,
          10,
          10,
          4,
          5,
          4,
          3
         ]
        },
        {
         "name": "分析二组_完成商业项目数",
         "type": "scatter",
         "uid": "4f3183d4-c559-11e8-97d0-a81e84e6c740",
         "x": [
          "8-1",
          "8-2",
          "8-3",
          "8-4",
          "9-1",
          "9-2",
          "9-3"
         ],
         "y": [
          13,
          18,
          14,
          20,
          20,
          29,
          17
         ]
        },
        {
         "name": "分析二组_完成个性化数",
         "type": "scatter",
         "uid": "4f3185b4-c559-11e8-97d0-a81e84e6c740",
         "x": [
          "8-1",
          "8-2",
          "8-3",
          "8-4",
          "9-1",
          "9-2",
          "9-3"
         ],
         "y": [
          6,
          8,
          7,
          9,
          8,
          21,
          25
         ]
        }
       ],
       "layout": {
        "title": "完成商业项目数&完成个性化数周趋势图",
        "xaxis": {
         "mirror": "all",
         "nticks": 20,
         "showgrid": true,
         "showline": true,
         "title": "周",
         "zeroline": true
        },
        "yaxis": {
         "mirror": "all",
         "nticks": 20,
         "showgrid": true,
         "showline": true,
         "title": "完成商业项目数&完成个性化数",
         "zeroline": true
        }
       }
      },
      "text/html": [
       "<div id=\"b431e034-6dc4-4e94-8d73-bf99ebc7ba71\" style=\"height: 525px; width: 100%;\" class=\"plotly-graph-div\"></div><script type=\"text/javascript\">require([\"plotly\"], function(Plotly) { window.PLOTLYENV=window.PLOTLYENV || {};window.PLOTLYENV.BASE_URL=\"https://plot.ly\";Plotly.newPlot(\"b431e034-6dc4-4e94-8d73-bf99ebc7ba71\", [{\"name\": \"\\u4e2a\\u6027\\u5316\\u7ec4_\\u5b8c\\u6210\\u5546\\u4e1a\\u9879\\u76ee\\u6570\", \"x\": [\"8-1\", \"8-2\", \"8-3\", \"8-4\", \"9-1\", \"9-2\", \"9-3\"], \"y\": [1.0, 0.0, 0.0, 0.0, 0.0, 1.0, 0.0], \"type\": \"scatter\", \"uid\": \"4f3178bc-c559-11e8-97d0-a81e84e6c740\"}, {\"name\": \"\\u4e2a\\u6027\\u5316\\u7ec4_\\u5b8c\\u6210\\u4e2a\\u6027\\u5316\\u6570\", \"x\": [\"8-1\", \"8-2\", \"8-3\", \"8-4\", \"9-1\", \"9-2\", \"9-3\"], \"y\": [12.0, 17.0, 9.0, 18.0, 18.0, 14.0, 13.0], \"type\": \"scatter\", \"uid\": \"4f317c40-c559-11e8-97d0-a81e84e6c740\"}, {\"name\": \"\\u5206\\u6790\\u4e00\\u7ec4_\\u5b8c\\u6210\\u5546\\u4e1a\\u9879\\u76ee\\u6570\", \"x\": [\"8-1\", \"8-2\", \"8-3\", \"8-4\", \"9-1\", \"9-2\", \"9-3\"], \"y\": [24.0, 18.0, 10.0, 10.0, 7.0, 11.0, 5.0], \"type\": \"scatter\", \"uid\": \"4f317fd8-c559-11e8-97d0-a81e84e6c740\"}, {\"name\": \"\\u5206\\u6790\\u4e00\\u7ec4_\\u5b8c\\u6210\\u4e2a\\u6027\\u5316\\u6570\", \"x\": [\"8-1\", \"8-2\", \"8-3\", \"8-4\", \"9-1\", \"9-2\", \"9-3\"], \"y\": [9.0, 10.0, 10.0, 4.0, 5.0, 4.0, 3.0], \"type\": \"scatter\", \"uid\": \"4f3181ea-c559-11e8-97d0-a81e84e6c740\"}, {\"name\": \"\\u5206\\u6790\\u4e8c\\u7ec4_\\u5b8c\\u6210\\u5546\\u4e1a\\u9879\\u76ee\\u6570\", \"x\": [\"8-1\", \"8-2\", \"8-3\", \"8-4\", \"9-1\", \"9-2\", \"9-3\"], \"y\": [13.0, 18.0, 14.0, 20.0, 20.0, 29.0, 17.0], \"type\": \"scatter\", \"uid\": \"4f3183d4-c559-11e8-97d0-a81e84e6c740\"}, {\"name\": \"\\u5206\\u6790\\u4e8c\\u7ec4_\\u5b8c\\u6210\\u4e2a\\u6027\\u5316\\u6570\", \"x\": [\"8-1\", \"8-2\", \"8-3\", \"8-4\", \"9-1\", \"9-2\", \"9-3\"], \"y\": [6.0, 8.0, 7.0, 9.0, 8.0, 21.0, 25.0], \"type\": \"scatter\", \"uid\": \"4f3185b4-c559-11e8-97d0-a81e84e6c740\"}], {\"title\": \"\\u5b8c\\u6210\\u5546\\u4e1a\\u9879\\u76ee\\u6570&\\u5b8c\\u6210\\u4e2a\\u6027\\u5316\\u6570\\u5468\\u8d8b\\u52bf\\u56fe\", \"xaxis\": {\"mirror\": \"all\", \"nticks\": 20, \"showgrid\": true, \"showline\": true, \"title\": \"\\u5468\", \"zeroline\": true}, \"yaxis\": {\"mirror\": \"all\", \"nticks\": 20, \"showgrid\": true, \"showline\": true, \"title\": \"\\u5b8c\\u6210\\u5546\\u4e1a\\u9879\\u76ee\\u6570&\\u5b8c\\u6210\\u4e2a\\u6027\\u5316\\u6570\", \"zeroline\": true}}, {\"showLink\": true, \"linkText\": \"Export to plot.ly\"})});</script>"
      ],
      "text/vnd.plotly.v1+html": [
       "<div id=\"b431e034-6dc4-4e94-8d73-bf99ebc7ba71\" style=\"height: 525px; width: 100%;\" class=\"plotly-graph-div\"></div><script type=\"text/javascript\">require([\"plotly\"], function(Plotly) { window.PLOTLYENV=window.PLOTLYENV || {};window.PLOTLYENV.BASE_URL=\"https://plot.ly\";Plotly.newPlot(\"b431e034-6dc4-4e94-8d73-bf99ebc7ba71\", [{\"name\": \"\\u4e2a\\u6027\\u5316\\u7ec4_\\u5b8c\\u6210\\u5546\\u4e1a\\u9879\\u76ee\\u6570\", \"x\": [\"8-1\", \"8-2\", \"8-3\", \"8-4\", \"9-1\", \"9-2\", \"9-3\"], \"y\": [1.0, 0.0, 0.0, 0.0, 0.0, 1.0, 0.0], \"type\": \"scatter\", \"uid\": \"4f3178bc-c559-11e8-97d0-a81e84e6c740\"}, {\"name\": \"\\u4e2a\\u6027\\u5316\\u7ec4_\\u5b8c\\u6210\\u4e2a\\u6027\\u5316\\u6570\", \"x\": [\"8-1\", \"8-2\", \"8-3\", \"8-4\", \"9-1\", \"9-2\", \"9-3\"], \"y\": [12.0, 17.0, 9.0, 18.0, 18.0, 14.0, 13.0], \"type\": \"scatter\", \"uid\": \"4f317c40-c559-11e8-97d0-a81e84e6c740\"}, {\"name\": \"\\u5206\\u6790\\u4e00\\u7ec4_\\u5b8c\\u6210\\u5546\\u4e1a\\u9879\\u76ee\\u6570\", \"x\": [\"8-1\", \"8-2\", \"8-3\", \"8-4\", \"9-1\", \"9-2\", \"9-3\"], \"y\": [24.0, 18.0, 10.0, 10.0, 7.0, 11.0, 5.0], \"type\": \"scatter\", \"uid\": \"4f317fd8-c559-11e8-97d0-a81e84e6c740\"}, {\"name\": \"\\u5206\\u6790\\u4e00\\u7ec4_\\u5b8c\\u6210\\u4e2a\\u6027\\u5316\\u6570\", \"x\": [\"8-1\", \"8-2\", \"8-3\", \"8-4\", \"9-1\", \"9-2\", \"9-3\"], \"y\": [9.0, 10.0, 10.0, 4.0, 5.0, 4.0, 3.0], \"type\": \"scatter\", \"uid\": \"4f3181ea-c559-11e8-97d0-a81e84e6c740\"}, {\"name\": \"\\u5206\\u6790\\u4e8c\\u7ec4_\\u5b8c\\u6210\\u5546\\u4e1a\\u9879\\u76ee\\u6570\", \"x\": [\"8-1\", \"8-2\", \"8-3\", \"8-4\", \"9-1\", \"9-2\", \"9-3\"], \"y\": [13.0, 18.0, 14.0, 20.0, 20.0, 29.0, 17.0], \"type\": \"scatter\", \"uid\": \"4f3183d4-c559-11e8-97d0-a81e84e6c740\"}, {\"name\": \"\\u5206\\u6790\\u4e8c\\u7ec4_\\u5b8c\\u6210\\u4e2a\\u6027\\u5316\\u6570\", \"x\": [\"8-1\", \"8-2\", \"8-3\", \"8-4\", \"9-1\", \"9-2\", \"9-3\"], \"y\": [6.0, 8.0, 7.0, 9.0, 8.0, 21.0, 25.0], \"type\": \"scatter\", \"uid\": \"4f3185b4-c559-11e8-97d0-a81e84e6c740\"}], {\"title\": \"\\u5b8c\\u6210\\u5546\\u4e1a\\u9879\\u76ee\\u6570&\\u5b8c\\u6210\\u4e2a\\u6027\\u5316\\u6570\\u5468\\u8d8b\\u52bf\\u56fe\", \"xaxis\": {\"mirror\": \"all\", \"nticks\": 20, \"showgrid\": true, \"showline\": true, \"title\": \"\\u5468\", \"zeroline\": true}, \"yaxis\": {\"mirror\": \"all\", \"nticks\": 20, \"showgrid\": true, \"showline\": true, \"title\": \"\\u5b8c\\u6210\\u5546\\u4e1a\\u9879\\u76ee\\u6570&\\u5b8c\\u6210\\u4e2a\\u6027\\u5316\\u6570\", \"zeroline\": true}}, {\"showLink\": true, \"linkText\": \"Export to plot.ly\"})});</script>"
      ]
     },
     "metadata": {},
     "output_type": "display_data"
    }
   ],
   "source": [
    "data_dict = {'完成商业项目数':['完成商业项目数'],'完成个性化数':['完成个性化数'],}\n",
    "myModule.plot( all_dict, data_dict, '组别','line',time_list = time_list)"
   ]
  },
  {
   "cell_type": "markdown",
   "metadata": {},
   "source": [
    "## 人均完成情况"
   ]
  },
  {
   "cell_type": "markdown",
   "metadata": {},
   "source": [
    "### 分析组人均产能情况"
   ]
  },
  {
   "cell_type": "code",
   "execution_count": 83,
   "metadata": {
    "scrolled": false
   },
   "outputs": [
    {
     "data": {
      "application/vnd.plotly.v1+json": {
       "data": [
        {
         "name": "完成商业项目数",
         "type": "scatter",
         "uid": "4f50d7fc-c559-11e8-97d0-a81e84e6c740",
         "x": [
          "8-1",
          "8-2",
          "8-3",
          "8-4",
          "9-1",
          "9-2",
          "9-3"
         ],
         "y": [
          2,
          2,
          1.3333333333333333,
          1.6666666666666667,
          1.5,
          2.2777777777777777,
          1.2222222222222223
         ]
        },
        {
         "name": "完成个性化数",
         "type": "scatter",
         "uid": "4f50db3a-c559-11e8-97d0-a81e84e6c740",
         "x": [
          "8-1",
          "8-2",
          "8-3",
          "8-4",
          "9-1",
          "9-2",
          "9-3"
         ],
         "y": [
          1.4210526315789473,
          1.9444444444444444,
          1.4444444444444444,
          1.7222222222222223,
          1.7222222222222223,
          2.1666666666666665,
          2.2777777777777777
         ]
        },
        {
         "name": "总完成项目数",
         "type": "scatter",
         "uid": "4f50dda6-c559-11e8-97d0-a81e84e6c740",
         "x": [
          "8-1",
          "8-2",
          "8-3",
          "8-4",
          "9-1",
          "9-2",
          "9-3"
         ],
         "y": [
          3.4210526315789473,
          3.9444444444444446,
          2.7777777777777777,
          3.3888888888888893,
          3.2222222222222223,
          4.444444444444445,
          3.5
         ]
        }
       ],
       "layout": {
        "title": "完成商业项目数&完成个性化数&总完成项目数周趋势图",
        "xaxis": {
         "mirror": "all",
         "nticks": 20,
         "showgrid": true,
         "showline": true,
         "title": "周",
         "zeroline": true
        },
        "yaxis": {
         "mirror": "all",
         "nticks": 20,
         "showgrid": true,
         "showline": true,
         "title": "完成商业项目数&完成个性化数&总完成项目数",
         "zeroline": true
        }
       }
      },
      "text/html": [
       "<div id=\"af349265-bf27-4218-aa89-59a500c3f32c\" style=\"height: 525px; width: 100%;\" class=\"plotly-graph-div\"></div><script type=\"text/javascript\">require([\"plotly\"], function(Plotly) { window.PLOTLYENV=window.PLOTLYENV || {};window.PLOTLYENV.BASE_URL=\"https://plot.ly\";Plotly.newPlot(\"af349265-bf27-4218-aa89-59a500c3f32c\", [{\"name\": \"\\u5b8c\\u6210\\u5546\\u4e1a\\u9879\\u76ee\\u6570\", \"x\": [\"8-1\", \"8-2\", \"8-3\", \"8-4\", \"9-1\", \"9-2\", \"9-3\"], \"y\": [2.0, 2.0, 1.3333333333333333, 1.6666666666666667, 1.5, 2.2777777777777777, 1.2222222222222223], \"type\": \"scatter\", \"uid\": \"4f50d7fc-c559-11e8-97d0-a81e84e6c740\"}, {\"name\": \"\\u5b8c\\u6210\\u4e2a\\u6027\\u5316\\u6570\", \"x\": [\"8-1\", \"8-2\", \"8-3\", \"8-4\", \"9-1\", \"9-2\", \"9-3\"], \"y\": [1.4210526315789473, 1.9444444444444444, 1.4444444444444444, 1.7222222222222223, 1.7222222222222223, 2.1666666666666665, 2.2777777777777777], \"type\": \"scatter\", \"uid\": \"4f50db3a-c559-11e8-97d0-a81e84e6c740\"}, {\"name\": \"\\u603b\\u5b8c\\u6210\\u9879\\u76ee\\u6570\", \"x\": [\"8-1\", \"8-2\", \"8-3\", \"8-4\", \"9-1\", \"9-2\", \"9-3\"], \"y\": [3.4210526315789473, 3.9444444444444446, 2.7777777777777777, 3.3888888888888893, 3.2222222222222223, 4.444444444444445, 3.5], \"type\": \"scatter\", \"uid\": \"4f50dda6-c559-11e8-97d0-a81e84e6c740\"}], {\"title\": \"\\u5b8c\\u6210\\u5546\\u4e1a\\u9879\\u76ee\\u6570&\\u5b8c\\u6210\\u4e2a\\u6027\\u5316\\u6570&\\u603b\\u5b8c\\u6210\\u9879\\u76ee\\u6570\\u5468\\u8d8b\\u52bf\\u56fe\", \"xaxis\": {\"mirror\": \"all\", \"nticks\": 20, \"showgrid\": true, \"showline\": true, \"title\": \"\\u5468\", \"zeroline\": true}, \"yaxis\": {\"mirror\": \"all\", \"nticks\": 20, \"showgrid\": true, \"showline\": true, \"title\": \"\\u5b8c\\u6210\\u5546\\u4e1a\\u9879\\u76ee\\u6570&\\u5b8c\\u6210\\u4e2a\\u6027\\u5316\\u6570&\\u603b\\u5b8c\\u6210\\u9879\\u76ee\\u6570\", \"zeroline\": true}}, {\"showLink\": true, \"linkText\": \"Export to plot.ly\"})});</script>"
      ],
      "text/vnd.plotly.v1+html": [
       "<div id=\"af349265-bf27-4218-aa89-59a500c3f32c\" style=\"height: 525px; width: 100%;\" class=\"plotly-graph-div\"></div><script type=\"text/javascript\">require([\"plotly\"], function(Plotly) { window.PLOTLYENV=window.PLOTLYENV || {};window.PLOTLYENV.BASE_URL=\"https://plot.ly\";Plotly.newPlot(\"af349265-bf27-4218-aa89-59a500c3f32c\", [{\"name\": \"\\u5b8c\\u6210\\u5546\\u4e1a\\u9879\\u76ee\\u6570\", \"x\": [\"8-1\", \"8-2\", \"8-3\", \"8-4\", \"9-1\", \"9-2\", \"9-3\"], \"y\": [2.0, 2.0, 1.3333333333333333, 1.6666666666666667, 1.5, 2.2777777777777777, 1.2222222222222223], \"type\": \"scatter\", \"uid\": \"4f50d7fc-c559-11e8-97d0-a81e84e6c740\"}, {\"name\": \"\\u5b8c\\u6210\\u4e2a\\u6027\\u5316\\u6570\", \"x\": [\"8-1\", \"8-2\", \"8-3\", \"8-4\", \"9-1\", \"9-2\", \"9-3\"], \"y\": [1.4210526315789473, 1.9444444444444444, 1.4444444444444444, 1.7222222222222223, 1.7222222222222223, 2.1666666666666665, 2.2777777777777777], \"type\": \"scatter\", \"uid\": \"4f50db3a-c559-11e8-97d0-a81e84e6c740\"}, {\"name\": \"\\u603b\\u5b8c\\u6210\\u9879\\u76ee\\u6570\", \"x\": [\"8-1\", \"8-2\", \"8-3\", \"8-4\", \"9-1\", \"9-2\", \"9-3\"], \"y\": [3.4210526315789473, 3.9444444444444446, 2.7777777777777777, 3.3888888888888893, 3.2222222222222223, 4.444444444444445, 3.5], \"type\": \"scatter\", \"uid\": \"4f50dda6-c559-11e8-97d0-a81e84e6c740\"}], {\"title\": \"\\u5b8c\\u6210\\u5546\\u4e1a\\u9879\\u76ee\\u6570&\\u5b8c\\u6210\\u4e2a\\u6027\\u5316\\u6570&\\u603b\\u5b8c\\u6210\\u9879\\u76ee\\u6570\\u5468\\u8d8b\\u52bf\\u56fe\", \"xaxis\": {\"mirror\": \"all\", \"nticks\": 20, \"showgrid\": true, \"showline\": true, \"title\": \"\\u5468\", \"zeroline\": true}, \"yaxis\": {\"mirror\": \"all\", \"nticks\": 20, \"showgrid\": true, \"showline\": true, \"title\": \"\\u5b8c\\u6210\\u5546\\u4e1a\\u9879\\u76ee\\u6570&\\u5b8c\\u6210\\u4e2a\\u6027\\u5316\\u6570&\\u603b\\u5b8c\\u6210\\u9879\\u76ee\\u6570\", \"zeroline\": true}}, {\"showLink\": true, \"linkText\": \"Export to plot.ly\"})});</script>"
      ]
     },
     "metadata": {},
     "output_type": "display_data"
    }
   ],
   "source": [
    "data_dict = {'完成商业项目数':['完成商业项目数'],'完成个性化数':['完成个性化数'],\n",
    "             '总完成项目数':['完成个性化数','完成商业项目数','+']}\n",
    "myModule.plot( all_dict, data_dict, '人员','line' , by_person=True,total= True,time_list = time_list )"
   ]
  },
  {
   "cell_type": "markdown",
   "metadata": {},
   "source": [
    "### 各组人均完成项目数情况"
   ]
  },
  {
   "cell_type": "code",
   "execution_count": 98,
   "metadata": {},
   "outputs": [
    {
     "data": {
      "text/html": [
       "<script>requirejs.config({paths: { 'plotly': ['https://cdn.plot.ly/plotly-latest.min']},});if(!window.Plotly) {{require(['plotly'],function(plotly) {window.Plotly=plotly;});}}</script>"
      ],
      "text/vnd.plotly.v1+html": [
       "<script>requirejs.config({paths: { 'plotly': ['https://cdn.plot.ly/plotly-latest.min']},});if(!window.Plotly) {{require(['plotly'],function(plotly) {window.Plotly=plotly;});}}</script>"
      ]
     },
     "metadata": {},
     "output_type": "display_data"
    },
    {
     "data": {
      "application/vnd.plotly.v1+json": {
       "data": [
        {
         "name": "个性化组",
         "type": "scatter",
         "uid": "024dd2c2-c55c-11e8-97d0-a81e84e6c740",
         "x": [
          "8-1",
          "8-2",
          "8-3",
          "8-4",
          "9-1",
          "9-2",
          "9-3"
         ],
         "y": [
          3.25,
          4.25,
          2.25,
          4.5,
          4.5,
          3.75,
          3.25
         ]
        },
        {
         "name": "分析一组",
         "type": "scatter",
         "uid": "024dd8e4-c55c-11e8-97d0-a81e84e6c740",
         "x": [
          "8-1",
          "8-2",
          "8-3",
          "8-4",
          "9-1",
          "9-2",
          "9-3"
         ],
         "y": [
          8.25,
          7,
          5,
          3.5,
          3,
          3.75,
          2
         ]
        },
        {
         "name": "分析二组",
         "type": "scatter",
         "uid": "024ddc22-c55c-11e8-97d0-a81e84e6c740",
         "x": [
          "8-1",
          "8-2",
          "8-3",
          "8-4",
          "9-1",
          "9-2",
          "9-3"
         ],
         "y": [
          1.7272727272727273,
          2.6,
          2.0999999999999996,
          2.9,
          2.8,
          5,
          4.2
         ]
        }
       ],
       "layout": {
        "title": "完成项目总数周趋势图",
        "xaxis": {
         "mirror": "all",
         "nticks": 20,
         "showgrid": true,
         "showline": true,
         "title": "周",
         "zeroline": true
        },
        "yaxis": {
         "mirror": "all",
         "nticks": 20,
         "showgrid": true,
         "showline": true,
         "title": "完成项目总数",
         "zeroline": true
        }
       }
      },
      "text/html": [
       "<div id=\"3d35738d-7778-49f5-8798-ca8e0c2a6b94\" style=\"height: 525px; width: 100%;\" class=\"plotly-graph-div\"></div><script type=\"text/javascript\">require([\"plotly\"], function(Plotly) { window.PLOTLYENV=window.PLOTLYENV || {};window.PLOTLYENV.BASE_URL=\"https://plot.ly\";Plotly.newPlot(\"3d35738d-7778-49f5-8798-ca8e0c2a6b94\", [{\"name\": \"\\u4e2a\\u6027\\u5316\\u7ec4\", \"x\": [\"8-1\", \"8-2\", \"8-3\", \"8-4\", \"9-1\", \"9-2\", \"9-3\"], \"y\": [3.25, 4.25, 2.25, 4.5, 4.5, 3.75, 3.25], \"type\": \"scatter\", \"uid\": \"024dd2c2-c55c-11e8-97d0-a81e84e6c740\"}, {\"name\": \"\\u5206\\u6790\\u4e00\\u7ec4\", \"x\": [\"8-1\", \"8-2\", \"8-3\", \"8-4\", \"9-1\", \"9-2\", \"9-3\"], \"y\": [8.25, 7.0, 5.0, 3.5, 3.0, 3.75, 2.0], \"type\": \"scatter\", \"uid\": \"024dd8e4-c55c-11e8-97d0-a81e84e6c740\"}, {\"name\": \"\\u5206\\u6790\\u4e8c\\u7ec4\", \"x\": [\"8-1\", \"8-2\", \"8-3\", \"8-4\", \"9-1\", \"9-2\", \"9-3\"], \"y\": [1.7272727272727273, 2.6, 2.0999999999999996, 2.9, 2.8, 5.0, 4.2], \"type\": \"scatter\", \"uid\": \"024ddc22-c55c-11e8-97d0-a81e84e6c740\"}], {\"title\": \"\\u5b8c\\u6210\\u9879\\u76ee\\u603b\\u6570\\u5468\\u8d8b\\u52bf\\u56fe\", \"xaxis\": {\"mirror\": \"all\", \"nticks\": 20, \"showgrid\": true, \"showline\": true, \"title\": \"\\u5468\", \"zeroline\": true}, \"yaxis\": {\"mirror\": \"all\", \"nticks\": 20, \"showgrid\": true, \"showline\": true, \"title\": \"\\u5b8c\\u6210\\u9879\\u76ee\\u603b\\u6570\", \"zeroline\": true}}, {\"showLink\": true, \"linkText\": \"Export to plot.ly\"})});</script>"
      ],
      "text/vnd.plotly.v1+html": [
       "<div id=\"3d35738d-7778-49f5-8798-ca8e0c2a6b94\" style=\"height: 525px; width: 100%;\" class=\"plotly-graph-div\"></div><script type=\"text/javascript\">require([\"plotly\"], function(Plotly) { window.PLOTLYENV=window.PLOTLYENV || {};window.PLOTLYENV.BASE_URL=\"https://plot.ly\";Plotly.newPlot(\"3d35738d-7778-49f5-8798-ca8e0c2a6b94\", [{\"name\": \"\\u4e2a\\u6027\\u5316\\u7ec4\", \"x\": [\"8-1\", \"8-2\", \"8-3\", \"8-4\", \"9-1\", \"9-2\", \"9-3\"], \"y\": [3.25, 4.25, 2.25, 4.5, 4.5, 3.75, 3.25], \"type\": \"scatter\", \"uid\": \"024dd2c2-c55c-11e8-97d0-a81e84e6c740\"}, {\"name\": \"\\u5206\\u6790\\u4e00\\u7ec4\", \"x\": [\"8-1\", \"8-2\", \"8-3\", \"8-4\", \"9-1\", \"9-2\", \"9-3\"], \"y\": [8.25, 7.0, 5.0, 3.5, 3.0, 3.75, 2.0], \"type\": \"scatter\", \"uid\": \"024dd8e4-c55c-11e8-97d0-a81e84e6c740\"}, {\"name\": \"\\u5206\\u6790\\u4e8c\\u7ec4\", \"x\": [\"8-1\", \"8-2\", \"8-3\", \"8-4\", \"9-1\", \"9-2\", \"9-3\"], \"y\": [1.7272727272727273, 2.6, 2.0999999999999996, 2.9, 2.8, 5.0, 4.2], \"type\": \"scatter\", \"uid\": \"024ddc22-c55c-11e8-97d0-a81e84e6c740\"}], {\"title\": \"\\u5b8c\\u6210\\u9879\\u76ee\\u603b\\u6570\\u5468\\u8d8b\\u52bf\\u56fe\", \"xaxis\": {\"mirror\": \"all\", \"nticks\": 20, \"showgrid\": true, \"showline\": true, \"title\": \"\\u5468\", \"zeroline\": true}, \"yaxis\": {\"mirror\": \"all\", \"nticks\": 20, \"showgrid\": true, \"showline\": true, \"title\": \"\\u5b8c\\u6210\\u9879\\u76ee\\u603b\\u6570\", \"zeroline\": true}}, {\"showLink\": true, \"linkText\": \"Export to plot.ly\"})});</script>"
      ]
     },
     "metadata": {},
     "output_type": "display_data"
    }
   ],
   "source": [
    "data_dict = {'完成项目总数':['完成商业项目数','完成个性化数','+']}\n",
    "myModule.plot( all_dict, data_dict, '组别','line',by_person=True ,time_list = time_list )"
   ]
  },
  {
   "cell_type": "markdown",
   "metadata": {},
   "source": [
    "## 具体人员效能情况"
   ]
  },
  {
   "cell_type": "markdown",
   "metadata": {},
   "source": [
    "### 优秀人员\n",
    "* 总完成项目数目位于上四位分数 or \n",
    "* 近3期，总完成项目数位于上四分位数"
   ]
  },
  {
   "cell_type": "code",
   "execution_count": 111,
   "metadata": {},
   "outputs": [
    {
     "data": {
      "text/plain": [
       "x          8-1\n",
       "完成个性化数       1\n",
       "完成商业项目数      1\n",
       "dtype: object"
      ]
     },
     "execution_count": 111,
     "metadata": {},
     "output_type": "execute_result"
    }
   ],
   "source": [
    "data_dict = {'完成项目总数':['完成商业项目数','完成个性化数','+']}\n",
    "s = myModule.filter_person(all_dict , data_dict, '人员')\n",
    "s['于勇一'].sum()"
   ]
  },
  {
   "cell_type": "markdown",
   "metadata": {},
   "source": [
    "### 待激励人员\n",
    "* 总完成项目数目位于下四位分数 or \n",
    "* 近3期，总完成项目数位于下四分位数"
   ]
  },
  {
   "cell_type": "markdown",
   "metadata": {},
   "source": [
    "# 下期项目情况预测"
   ]
  },
  {
   "cell_type": "markdown",
   "metadata": {},
   "source": [
    "## 整体商业项目趋势图\n",
    "* 完成项目数： 本周完成的项目\n",
    "* 总在线项目： 下机正在分析项目 和 未完成个性化分析\n",
    "* 未下机项目： 未下机项目"
   ]
  },
  {
   "cell_type": "code",
   "execution_count": 85,
   "metadata": {},
   "outputs": [
    {
     "data": {
      "application/vnd.plotly.v1+json": {
       "data": [
        {
         "name": "总完成项目数",
         "type": "scatter",
         "uid": "4f93e5ce-c559-11e8-97d0-a81e84e6c740",
         "x": [
          "8-1",
          "8-2",
          "8-3",
          "8-4",
          "9-1",
          "9-2",
          "9-3"
         ],
         "y": [
          65,
          71,
          50,
          61,
          58,
          80,
          63
         ]
        },
        {
         "name": "总在线项目数",
         "type": "scatter",
         "uid": "4f93f26c-c559-11e8-97d0-a81e84e6c740",
         "x": [
          "8-1",
          "8-2",
          "8-3",
          "8-4",
          "9-1",
          "9-2",
          "9-3"
         ],
         "y": [
          95,
          89,
          74,
          91,
          89,
          65,
          46
         ]
        }
       ],
       "layout": {
        "title": "总完成项目数&总在线项目数周趋势图",
        "xaxis": {
         "mirror": "all",
         "nticks": 20,
         "showgrid": true,
         "showline": true,
         "title": "周",
         "zeroline": true
        },
        "yaxis": {
         "mirror": "all",
         "nticks": 20,
         "showgrid": true,
         "showline": true,
         "title": "总完成项目数&总在线项目数",
         "zeroline": true
        }
       }
      },
      "text/html": [
       "<div id=\"471b4cd8-691e-4d5b-95a4-828f18a4f5e9\" style=\"height: 525px; width: 100%;\" class=\"plotly-graph-div\"></div><script type=\"text/javascript\">require([\"plotly\"], function(Plotly) { window.PLOTLYENV=window.PLOTLYENV || {};window.PLOTLYENV.BASE_URL=\"https://plot.ly\";Plotly.newPlot(\"471b4cd8-691e-4d5b-95a4-828f18a4f5e9\", [{\"name\": \"\\u603b\\u5b8c\\u6210\\u9879\\u76ee\\u6570\", \"x\": [\"8-1\", \"8-2\", \"8-3\", \"8-4\", \"9-1\", \"9-2\", \"9-3\"], \"y\": [65.0, 71.0, 50.0, 61.0, 58.0, 80.0, 63.0], \"type\": \"scatter\", \"uid\": \"4f93e5ce-c559-11e8-97d0-a81e84e6c740\"}, {\"name\": \"\\u603b\\u5728\\u7ebf\\u9879\\u76ee\\u6570\", \"x\": [\"8-1\", \"8-2\", \"8-3\", \"8-4\", \"9-1\", \"9-2\", \"9-3\"], \"y\": [95.0, 89.0, 74.0, 91.0, 89.0, 65.0, 46.0], \"type\": \"scatter\", \"uid\": \"4f93f26c-c559-11e8-97d0-a81e84e6c740\"}], {\"title\": \"\\u603b\\u5b8c\\u6210\\u9879\\u76ee\\u6570&\\u603b\\u5728\\u7ebf\\u9879\\u76ee\\u6570\\u5468\\u8d8b\\u52bf\\u56fe\", \"xaxis\": {\"mirror\": \"all\", \"nticks\": 20, \"showgrid\": true, \"showline\": true, \"title\": \"\\u5468\", \"zeroline\": true}, \"yaxis\": {\"mirror\": \"all\", \"nticks\": 20, \"showgrid\": true, \"showline\": true, \"title\": \"\\u603b\\u5b8c\\u6210\\u9879\\u76ee\\u6570&\\u603b\\u5728\\u7ebf\\u9879\\u76ee\\u6570\", \"zeroline\": true}}, {\"showLink\": true, \"linkText\": \"Export to plot.ly\"})});</script>"
      ],
      "text/vnd.plotly.v1+html": [
       "<div id=\"471b4cd8-691e-4d5b-95a4-828f18a4f5e9\" style=\"height: 525px; width: 100%;\" class=\"plotly-graph-div\"></div><script type=\"text/javascript\">require([\"plotly\"], function(Plotly) { window.PLOTLYENV=window.PLOTLYENV || {};window.PLOTLYENV.BASE_URL=\"https://plot.ly\";Plotly.newPlot(\"471b4cd8-691e-4d5b-95a4-828f18a4f5e9\", [{\"name\": \"\\u603b\\u5b8c\\u6210\\u9879\\u76ee\\u6570\", \"x\": [\"8-1\", \"8-2\", \"8-3\", \"8-4\", \"9-1\", \"9-2\", \"9-3\"], \"y\": [65.0, 71.0, 50.0, 61.0, 58.0, 80.0, 63.0], \"type\": \"scatter\", \"uid\": \"4f93e5ce-c559-11e8-97d0-a81e84e6c740\"}, {\"name\": \"\\u603b\\u5728\\u7ebf\\u9879\\u76ee\\u6570\", \"x\": [\"8-1\", \"8-2\", \"8-3\", \"8-4\", \"9-1\", \"9-2\", \"9-3\"], \"y\": [95.0, 89.0, 74.0, 91.0, 89.0, 65.0, 46.0], \"type\": \"scatter\", \"uid\": \"4f93f26c-c559-11e8-97d0-a81e84e6c740\"}], {\"title\": \"\\u603b\\u5b8c\\u6210\\u9879\\u76ee\\u6570&\\u603b\\u5728\\u7ebf\\u9879\\u76ee\\u6570\\u5468\\u8d8b\\u52bf\\u56fe\", \"xaxis\": {\"mirror\": \"all\", \"nticks\": 20, \"showgrid\": true, \"showline\": true, \"title\": \"\\u5468\", \"zeroline\": true}, \"yaxis\": {\"mirror\": \"all\", \"nticks\": 20, \"showgrid\": true, \"showline\": true, \"title\": \"\\u603b\\u5b8c\\u6210\\u9879\\u76ee\\u6570&\\u603b\\u5728\\u7ebf\\u9879\\u76ee\\u6570\", \"zeroline\": true}}, {\"showLink\": true, \"linkText\": \"Export to plot.ly\"})});</script>"
      ]
     },
     "metadata": {},
     "output_type": "display_data"
    }
   ],
   "source": [
    "data_dict = {'总完成项目数':['完成个性化数','完成商业项目数','+'] ,'总在线项目数':['下机项目数','接入个性化数','+']}\n",
    "myModule.plot( all_dict, data_dict, '人员','line' , time_list = time_list, by_person=False,total= True )"
   ]
  },
  {
   "cell_type": "markdown",
   "metadata": {},
   "source": [
    "## 总在线项目数\n",
    "* 把这个数字做到sheet1中，sheet2中尽量不留数字"
   ]
  },
  {
   "cell_type": "markdown",
   "metadata": {},
   "source": [
    "### 在线项目情况"
   ]
  },
  {
   "cell_type": "code",
   "execution_count": 86,
   "metadata": {},
   "outputs": [
    {
     "data": {
      "application/vnd.plotly.v1+json": {
       "data": [
        {
         "name": "在线标准分析项目数",
         "type": "scatter",
         "uid": "4fb527f2-c559-11e8-97d0-a81e84e6c740",
         "x": [
          "8-1",
          "8-2",
          "8-3",
          "8-4",
          "9-1",
          "9-2",
          "9-3"
         ],
         "y": [
          29,
          41,
          40,
          41,
          36,
          33,
          40
         ]
        },
        {
         "name": "在线个性化数",
         "type": "scatter",
         "uid": "4fb52bc6-c559-11e8-97d0-a81e84e6c740",
         "x": [
          "8-1",
          "8-2",
          "8-3",
          "8-4",
          "9-1",
          "9-2",
          "9-3"
         ],
         "y": [
          31,
          26,
          31,
          34,
          28,
          18,
          18
         ]
        },
        {
         "name": "总在线项目数",
         "type": "scatter",
         "uid": "4fb52e32-c559-11e8-97d0-a81e84e6c740",
         "x": [
          "8-1",
          "8-2",
          "8-3",
          "8-4",
          "9-1",
          "9-2",
          "9-3"
         ],
         "y": [
          60,
          67,
          71,
          75,
          64,
          51,
          58
         ]
        }
       ],
       "layout": {
        "title": "在线标准分析项目数&在线个性化数&总在线项目数周趋势图",
        "xaxis": {
         "mirror": "all",
         "nticks": 20,
         "showgrid": true,
         "showline": true,
         "title": "周",
         "zeroline": true
        },
        "yaxis": {
         "mirror": "all",
         "nticks": 20,
         "showgrid": true,
         "showline": true,
         "title": "在线标准分析项目数&在线个性化数&总在线项目数",
         "zeroline": true
        }
       }
      },
      "text/html": [
       "<div id=\"613f1124-dfbd-4690-8352-c14cdb489ec0\" style=\"height: 525px; width: 100%;\" class=\"plotly-graph-div\"></div><script type=\"text/javascript\">require([\"plotly\"], function(Plotly) { window.PLOTLYENV=window.PLOTLYENV || {};window.PLOTLYENV.BASE_URL=\"https://plot.ly\";Plotly.newPlot(\"613f1124-dfbd-4690-8352-c14cdb489ec0\", [{\"name\": \"\\u5728\\u7ebf\\u6807\\u51c6\\u5206\\u6790\\u9879\\u76ee\\u6570\", \"x\": [\"8-1\", \"8-2\", \"8-3\", \"8-4\", \"9-1\", \"9-2\", \"9-3\"], \"y\": [29.0, 41.0, 40.0, 41.0, 36.0, 33.0, 40.0], \"type\": \"scatter\", \"uid\": \"4fb527f2-c559-11e8-97d0-a81e84e6c740\"}, {\"name\": \"\\u5728\\u7ebf\\u4e2a\\u6027\\u5316\\u6570\", \"x\": [\"8-1\", \"8-2\", \"8-3\", \"8-4\", \"9-1\", \"9-2\", \"9-3\"], \"y\": [31.0, 26.0, 31.0, 34.0, 28.0, 18.0, 18.0], \"type\": \"scatter\", \"uid\": \"4fb52bc6-c559-11e8-97d0-a81e84e6c740\"}, {\"name\": \"\\u603b\\u5728\\u7ebf\\u9879\\u76ee\\u6570\", \"x\": [\"8-1\", \"8-2\", \"8-3\", \"8-4\", \"9-1\", \"9-2\", \"9-3\"], \"y\": [60.0, 67.0, 71.0, 75.0, 64.0, 51.0, 58.0], \"type\": \"scatter\", \"uid\": \"4fb52e32-c559-11e8-97d0-a81e84e6c740\"}], {\"title\": \"\\u5728\\u7ebf\\u6807\\u51c6\\u5206\\u6790\\u9879\\u76ee\\u6570&\\u5728\\u7ebf\\u4e2a\\u6027\\u5316\\u6570&\\u603b\\u5728\\u7ebf\\u9879\\u76ee\\u6570\\u5468\\u8d8b\\u52bf\\u56fe\", \"xaxis\": {\"mirror\": \"all\", \"nticks\": 20, \"showgrid\": true, \"showline\": true, \"title\": \"\\u5468\", \"zeroline\": true}, \"yaxis\": {\"mirror\": \"all\", \"nticks\": 20, \"showgrid\": true, \"showline\": true, \"title\": \"\\u5728\\u7ebf\\u6807\\u51c6\\u5206\\u6790\\u9879\\u76ee\\u6570&\\u5728\\u7ebf\\u4e2a\\u6027\\u5316\\u6570&\\u603b\\u5728\\u7ebf\\u9879\\u76ee\\u6570\", \"zeroline\": true}}, {\"showLink\": true, \"linkText\": \"Export to plot.ly\"})});</script>"
      ],
      "text/vnd.plotly.v1+html": [
       "<div id=\"613f1124-dfbd-4690-8352-c14cdb489ec0\" style=\"height: 525px; width: 100%;\" class=\"plotly-graph-div\"></div><script type=\"text/javascript\">require([\"plotly\"], function(Plotly) { window.PLOTLYENV=window.PLOTLYENV || {};window.PLOTLYENV.BASE_URL=\"https://plot.ly\";Plotly.newPlot(\"613f1124-dfbd-4690-8352-c14cdb489ec0\", [{\"name\": \"\\u5728\\u7ebf\\u6807\\u51c6\\u5206\\u6790\\u9879\\u76ee\\u6570\", \"x\": [\"8-1\", \"8-2\", \"8-3\", \"8-4\", \"9-1\", \"9-2\", \"9-3\"], \"y\": [29.0, 41.0, 40.0, 41.0, 36.0, 33.0, 40.0], \"type\": \"scatter\", \"uid\": \"4fb527f2-c559-11e8-97d0-a81e84e6c740\"}, {\"name\": \"\\u5728\\u7ebf\\u4e2a\\u6027\\u5316\\u6570\", \"x\": [\"8-1\", \"8-2\", \"8-3\", \"8-4\", \"9-1\", \"9-2\", \"9-3\"], \"y\": [31.0, 26.0, 31.0, 34.0, 28.0, 18.0, 18.0], \"type\": \"scatter\", \"uid\": \"4fb52bc6-c559-11e8-97d0-a81e84e6c740\"}, {\"name\": \"\\u603b\\u5728\\u7ebf\\u9879\\u76ee\\u6570\", \"x\": [\"8-1\", \"8-2\", \"8-3\", \"8-4\", \"9-1\", \"9-2\", \"9-3\"], \"y\": [60.0, 67.0, 71.0, 75.0, 64.0, 51.0, 58.0], \"type\": \"scatter\", \"uid\": \"4fb52e32-c559-11e8-97d0-a81e84e6c740\"}], {\"title\": \"\\u5728\\u7ebf\\u6807\\u51c6\\u5206\\u6790\\u9879\\u76ee\\u6570&\\u5728\\u7ebf\\u4e2a\\u6027\\u5316\\u6570&\\u603b\\u5728\\u7ebf\\u9879\\u76ee\\u6570\\u5468\\u8d8b\\u52bf\\u56fe\", \"xaxis\": {\"mirror\": \"all\", \"nticks\": 20, \"showgrid\": true, \"showline\": true, \"title\": \"\\u5468\", \"zeroline\": true}, \"yaxis\": {\"mirror\": \"all\", \"nticks\": 20, \"showgrid\": true, \"showline\": true, \"title\": \"\\u5728\\u7ebf\\u6807\\u51c6\\u5206\\u6790\\u9879\\u76ee\\u6570&\\u5728\\u7ebf\\u4e2a\\u6027\\u5316\\u6570&\\u603b\\u5728\\u7ebf\\u9879\\u76ee\\u6570\", \"zeroline\": true}}, {\"showLink\": true, \"linkText\": \"Export to plot.ly\"})});</script>"
      ]
     },
     "metadata": {},
     "output_type": "display_data"
    }
   ],
   "source": [
    "data_dict = {'在线标准分析项目数':['在线标准分析项目数'],'在线个性化数':['在线个性化数'],\n",
    "             '总在线项目数':['在线标准分析项目数','在线个性化数','+']}\n",
    "myModule.plot( all_dict2, data_dict, '人员','line' , time_list = time_list,total=True)"
   ]
  },
  {
   "cell_type": "markdown",
   "metadata": {},
   "source": [
    "### 人均在线项目情况"
   ]
  },
  {
   "cell_type": "code",
   "execution_count": 87,
   "metadata": {},
   "outputs": [
    {
     "data": {
      "application/vnd.plotly.v1+json": {
       "data": [
        {
         "name": "在线标准分析项目数",
         "type": "scatter",
         "uid": "4fdf2d90-c559-11e8-97d0-a81e84e6c740",
         "x": [
          "8-1",
          "8-2",
          "8-3",
          "8-4",
          "9-1",
          "9-2",
          "9-3"
         ],
         "y": [
          29,
          41,
          40,
          41,
          36,
          33,
          40
         ]
        },
        {
         "name": "在线个性化数",
         "type": "scatter",
         "uid": "4fdf361e-c559-11e8-97d0-a81e84e6c740",
         "x": [
          "8-1",
          "8-2",
          "8-3",
          "8-4",
          "9-1",
          "9-2",
          "9-3"
         ],
         "y": [
          31,
          26,
          31,
          34,
          28,
          18,
          18
         ]
        },
        {
         "name": "总在线项目数",
         "type": "scatter",
         "uid": "4fdf3c18-c559-11e8-97d0-a81e84e6c740",
         "x": [
          "8-1",
          "8-2",
          "8-3",
          "8-4",
          "9-1",
          "9-2",
          "9-3"
         ],
         "y": [
          60,
          67,
          71,
          75,
          64,
          51,
          58
         ]
        }
       ],
       "layout": {
        "title": "在线标准分析项目数&在线个性化数&总在线项目数周趋势图",
        "xaxis": {
         "mirror": "all",
         "nticks": 20,
         "showgrid": true,
         "showline": true,
         "title": "周",
         "zeroline": true
        },
        "yaxis": {
         "mirror": "all",
         "nticks": 20,
         "showgrid": true,
         "showline": true,
         "title": "在线标准分析项目数&在线个性化数&总在线项目数",
         "zeroline": true
        }
       }
      },
      "text/html": [
       "<div id=\"7fd6b38e-fdd4-4dfe-99a1-49044840cb56\" style=\"height: 525px; width: 100%;\" class=\"plotly-graph-div\"></div><script type=\"text/javascript\">require([\"plotly\"], function(Plotly) { window.PLOTLYENV=window.PLOTLYENV || {};window.PLOTLYENV.BASE_URL=\"https://plot.ly\";Plotly.newPlot(\"7fd6b38e-fdd4-4dfe-99a1-49044840cb56\", [{\"name\": \"\\u5728\\u7ebf\\u6807\\u51c6\\u5206\\u6790\\u9879\\u76ee\\u6570\", \"x\": [\"8-1\", \"8-2\", \"8-3\", \"8-4\", \"9-1\", \"9-2\", \"9-3\"], \"y\": [29.0, 41.0, 40.0, 41.0, 36.0, 33.0, 40.0], \"type\": \"scatter\", \"uid\": \"4fdf2d90-c559-11e8-97d0-a81e84e6c740\"}, {\"name\": \"\\u5728\\u7ebf\\u4e2a\\u6027\\u5316\\u6570\", \"x\": [\"8-1\", \"8-2\", \"8-3\", \"8-4\", \"9-1\", \"9-2\", \"9-3\"], \"y\": [31.0, 26.0, 31.0, 34.0, 28.0, 18.0, 18.0], \"type\": \"scatter\", \"uid\": \"4fdf361e-c559-11e8-97d0-a81e84e6c740\"}, {\"name\": \"\\u603b\\u5728\\u7ebf\\u9879\\u76ee\\u6570\", \"x\": [\"8-1\", \"8-2\", \"8-3\", \"8-4\", \"9-1\", \"9-2\", \"9-3\"], \"y\": [60.0, 67.0, 71.0, 75.0, 64.0, 51.0, 58.0], \"type\": \"scatter\", \"uid\": \"4fdf3c18-c559-11e8-97d0-a81e84e6c740\"}], {\"title\": \"\\u5728\\u7ebf\\u6807\\u51c6\\u5206\\u6790\\u9879\\u76ee\\u6570&\\u5728\\u7ebf\\u4e2a\\u6027\\u5316\\u6570&\\u603b\\u5728\\u7ebf\\u9879\\u76ee\\u6570\\u5468\\u8d8b\\u52bf\\u56fe\", \"xaxis\": {\"mirror\": \"all\", \"nticks\": 20, \"showgrid\": true, \"showline\": true, \"title\": \"\\u5468\", \"zeroline\": true}, \"yaxis\": {\"mirror\": \"all\", \"nticks\": 20, \"showgrid\": true, \"showline\": true, \"title\": \"\\u5728\\u7ebf\\u6807\\u51c6\\u5206\\u6790\\u9879\\u76ee\\u6570&\\u5728\\u7ebf\\u4e2a\\u6027\\u5316\\u6570&\\u603b\\u5728\\u7ebf\\u9879\\u76ee\\u6570\", \"zeroline\": true}}, {\"showLink\": true, \"linkText\": \"Export to plot.ly\"})});</script>"
      ],
      "text/vnd.plotly.v1+html": [
       "<div id=\"7fd6b38e-fdd4-4dfe-99a1-49044840cb56\" style=\"height: 525px; width: 100%;\" class=\"plotly-graph-div\"></div><script type=\"text/javascript\">require([\"plotly\"], function(Plotly) { window.PLOTLYENV=window.PLOTLYENV || {};window.PLOTLYENV.BASE_URL=\"https://plot.ly\";Plotly.newPlot(\"7fd6b38e-fdd4-4dfe-99a1-49044840cb56\", [{\"name\": \"\\u5728\\u7ebf\\u6807\\u51c6\\u5206\\u6790\\u9879\\u76ee\\u6570\", \"x\": [\"8-1\", \"8-2\", \"8-3\", \"8-4\", \"9-1\", \"9-2\", \"9-3\"], \"y\": [29.0, 41.0, 40.0, 41.0, 36.0, 33.0, 40.0], \"type\": \"scatter\", \"uid\": \"4fdf2d90-c559-11e8-97d0-a81e84e6c740\"}, {\"name\": \"\\u5728\\u7ebf\\u4e2a\\u6027\\u5316\\u6570\", \"x\": [\"8-1\", \"8-2\", \"8-3\", \"8-4\", \"9-1\", \"9-2\", \"9-3\"], \"y\": [31.0, 26.0, 31.0, 34.0, 28.0, 18.0, 18.0], \"type\": \"scatter\", \"uid\": \"4fdf361e-c559-11e8-97d0-a81e84e6c740\"}, {\"name\": \"\\u603b\\u5728\\u7ebf\\u9879\\u76ee\\u6570\", \"x\": [\"8-1\", \"8-2\", \"8-3\", \"8-4\", \"9-1\", \"9-2\", \"9-3\"], \"y\": [60.0, 67.0, 71.0, 75.0, 64.0, 51.0, 58.0], \"type\": \"scatter\", \"uid\": \"4fdf3c18-c559-11e8-97d0-a81e84e6c740\"}], {\"title\": \"\\u5728\\u7ebf\\u6807\\u51c6\\u5206\\u6790\\u9879\\u76ee\\u6570&\\u5728\\u7ebf\\u4e2a\\u6027\\u5316\\u6570&\\u603b\\u5728\\u7ebf\\u9879\\u76ee\\u6570\\u5468\\u8d8b\\u52bf\\u56fe\", \"xaxis\": {\"mirror\": \"all\", \"nticks\": 20, \"showgrid\": true, \"showline\": true, \"title\": \"\\u5468\", \"zeroline\": true}, \"yaxis\": {\"mirror\": \"all\", \"nticks\": 20, \"showgrid\": true, \"showline\": true, \"title\": \"\\u5728\\u7ebf\\u6807\\u51c6\\u5206\\u6790\\u9879\\u76ee\\u6570&\\u5728\\u7ebf\\u4e2a\\u6027\\u5316\\u6570&\\u603b\\u5728\\u7ebf\\u9879\\u76ee\\u6570\", \"zeroline\": true}}, {\"showLink\": true, \"linkText\": \"Export to plot.ly\"})});</script>"
      ]
     },
     "metadata": {},
     "output_type": "display_data"
    }
   ],
   "source": [
    "data_dict = {'在线标准分析项目数':['在线标准分析项目数'],'在线个性化数':['在线个性化数'],\n",
    "             '总在线项目数':['在线标准分析项目数','在线个性化数','+']}\n",
    "myModule.plot( all_dict2, data_dict, '组别','line' , time_list = time_list,total=True ,by_person=True)"
   ]
  },
  {
   "cell_type": "markdown",
   "metadata": {},
   "source": [
    "## 未下机商业项目数"
   ]
  },
  {
   "cell_type": "code",
   "execution_count": 88,
   "metadata": {},
   "outputs": [
    {
     "data": {
      "application/vnd.plotly.v1+json": {
       "data": [
        {
         "name": "未下机项目数",
         "type": "scatter",
         "uid": "4ffdfea0-c559-11e8-97d0-a81e84e6c740",
         "x": [
          "8-1",
          "8-2",
          "8-3",
          "8-4",
          "9-1",
          "9-2",
          "9-3"
         ],
         "y": [
          113,
          127,
          144,
          154,
          130,
          115,
          121
         ]
        }
       ],
       "layout": {
        "title": "未下机项目数周趋势图",
        "xaxis": {
         "mirror": "all",
         "nticks": 20,
         "showgrid": true,
         "showline": true,
         "title": "周",
         "zeroline": true
        },
        "yaxis": {
         "mirror": "all",
         "nticks": 20,
         "showgrid": true,
         "showline": true,
         "title": "未下机项目数",
         "zeroline": true
        }
       }
      },
      "text/html": [
       "<div id=\"b2be9da1-c46f-49d2-be10-c0708634eb2b\" style=\"height: 525px; width: 100%;\" class=\"plotly-graph-div\"></div><script type=\"text/javascript\">require([\"plotly\"], function(Plotly) { window.PLOTLYENV=window.PLOTLYENV || {};window.PLOTLYENV.BASE_URL=\"https://plot.ly\";Plotly.newPlot(\"b2be9da1-c46f-49d2-be10-c0708634eb2b\", [{\"name\": \"\\u672a\\u4e0b\\u673a\\u9879\\u76ee\\u6570\", \"x\": [\"8-1\", \"8-2\", \"8-3\", \"8-4\", \"9-1\", \"9-2\", \"9-3\"], \"y\": [113.0, 127.0, 144.0, 154.0, 130.0, 115.0, 121.0], \"type\": \"scatter\", \"uid\": \"4ffdfea0-c559-11e8-97d0-a81e84e6c740\"}], {\"title\": \"\\u672a\\u4e0b\\u673a\\u9879\\u76ee\\u6570\\u5468\\u8d8b\\u52bf\\u56fe\", \"xaxis\": {\"mirror\": \"all\", \"nticks\": 20, \"showgrid\": true, \"showline\": true, \"title\": \"\\u5468\", \"zeroline\": true}, \"yaxis\": {\"mirror\": \"all\", \"nticks\": 20, \"showgrid\": true, \"showline\": true, \"title\": \"\\u672a\\u4e0b\\u673a\\u9879\\u76ee\\u6570\", \"zeroline\": true}}, {\"showLink\": true, \"linkText\": \"Export to plot.ly\"})});</script>"
      ],
      "text/vnd.plotly.v1+html": [
       "<div id=\"b2be9da1-c46f-49d2-be10-c0708634eb2b\" style=\"height: 525px; width: 100%;\" class=\"plotly-graph-div\"></div><script type=\"text/javascript\">require([\"plotly\"], function(Plotly) { window.PLOTLYENV=window.PLOTLYENV || {};window.PLOTLYENV.BASE_URL=\"https://plot.ly\";Plotly.newPlot(\"b2be9da1-c46f-49d2-be10-c0708634eb2b\", [{\"name\": \"\\u672a\\u4e0b\\u673a\\u9879\\u76ee\\u6570\", \"x\": [\"8-1\", \"8-2\", \"8-3\", \"8-4\", \"9-1\", \"9-2\", \"9-3\"], \"y\": [113.0, 127.0, 144.0, 154.0, 130.0, 115.0, 121.0], \"type\": \"scatter\", \"uid\": \"4ffdfea0-c559-11e8-97d0-a81e84e6c740\"}], {\"title\": \"\\u672a\\u4e0b\\u673a\\u9879\\u76ee\\u6570\\u5468\\u8d8b\\u52bf\\u56fe\", \"xaxis\": {\"mirror\": \"all\", \"nticks\": 20, \"showgrid\": true, \"showline\": true, \"title\": \"\\u5468\", \"zeroline\": true}, \"yaxis\": {\"mirror\": \"all\", \"nticks\": 20, \"showgrid\": true, \"showline\": true, \"title\": \"\\u672a\\u4e0b\\u673a\\u9879\\u76ee\\u6570\", \"zeroline\": true}}, {\"showLink\": true, \"linkText\": \"Export to plot.ly\"})});</script>"
      ]
     },
     "metadata": {},
     "output_type": "display_data"
    }
   ],
   "source": [
    "data_dict = {'未下机项目数':['未下机项目数']}\n",
    "myModule.plot( all_dict2, data_dict, '人员','line' ,time_list = time_list, total=True)"
   ]
  },
  {
   "cell_type": "markdown",
   "metadata": {},
   "source": [
    "# 项目质量情况"
   ]
  },
  {
   "cell_type": "markdown",
   "metadata": {},
   "source": [
    "## 项目周期情况"
   ]
  },
  {
   "cell_type": "markdown",
   "metadata": {},
   "source": [
    "### 延期项目数"
   ]
  },
  {
   "cell_type": "code",
   "execution_count": 89,
   "metadata": {},
   "outputs": [
    {
     "data": {
      "application/vnd.plotly.v1+json": {
       "data": [
        {
         "name": "延期商业项目数",
         "type": "bar",
         "uid": "501ebc62-c559-11e8-97d0-a81e84e6c740",
         "x": [
          "8-1",
          "8-2",
          "8-3",
          "8-4",
          "9-1",
          "9-2",
          "9-3"
         ],
         "y": [
          0,
          0,
          1,
          1,
          0,
          0,
          1
         ]
        },
        {
         "name": "延期个性化项目数",
         "type": "bar",
         "uid": "501ebfb4-c559-11e8-97d0-a81e84e6c740",
         "x": [
          "8-1",
          "8-2",
          "8-3",
          "8-4",
          "9-1",
          "9-2",
          "9-3"
         ],
         "y": [
          0,
          1,
          2,
          2,
          3,
          0,
          0
         ]
        }
       ],
       "layout": {
        "barmode": "stack",
        "title": "延期商业项目数&延期个性化项目数周趋势图",
        "xaxis": {
         "mirror": "all",
         "nticks": 20,
         "showgrid": true,
         "showline": true,
         "title": "周",
         "zeroline": true
        },
        "yaxis": {
         "mirror": "all",
         "nticks": 20,
         "showgrid": true,
         "showline": true,
         "title": "延期商业项目数&延期个性化项目数",
         "zeroline": true
        }
       }
      },
      "text/html": [
       "<div id=\"412ad5de-0c25-4685-83c7-0bda7600a8fe\" style=\"height: 525px; width: 100%;\" class=\"plotly-graph-div\"></div><script type=\"text/javascript\">require([\"plotly\"], function(Plotly) { window.PLOTLYENV=window.PLOTLYENV || {};window.PLOTLYENV.BASE_URL=\"https://plot.ly\";Plotly.newPlot(\"412ad5de-0c25-4685-83c7-0bda7600a8fe\", [{\"name\": \"\\u5ef6\\u671f\\u5546\\u4e1a\\u9879\\u76ee\\u6570\", \"x\": [\"8-1\", \"8-2\", \"8-3\", \"8-4\", \"9-1\", \"9-2\", \"9-3\"], \"y\": [0.0, 0.0, 1.0, 1.0, 0.0, 0.0, 1.0], \"type\": \"bar\", \"uid\": \"501ebc62-c559-11e8-97d0-a81e84e6c740\"}, {\"name\": \"\\u5ef6\\u671f\\u4e2a\\u6027\\u5316\\u9879\\u76ee\\u6570\", \"x\": [\"8-1\", \"8-2\", \"8-3\", \"8-4\", \"9-1\", \"9-2\", \"9-3\"], \"y\": [0.0, 1.0, 2.0, 2.0, 3.0, 0.0, 0.0], \"type\": \"bar\", \"uid\": \"501ebfb4-c559-11e8-97d0-a81e84e6c740\"}], {\"barmode\": \"stack\", \"title\": \"\\u5ef6\\u671f\\u5546\\u4e1a\\u9879\\u76ee\\u6570&\\u5ef6\\u671f\\u4e2a\\u6027\\u5316\\u9879\\u76ee\\u6570\\u5468\\u8d8b\\u52bf\\u56fe\", \"xaxis\": {\"mirror\": \"all\", \"nticks\": 20, \"showgrid\": true, \"showline\": true, \"title\": \"\\u5468\", \"zeroline\": true}, \"yaxis\": {\"mirror\": \"all\", \"nticks\": 20, \"showgrid\": true, \"showline\": true, \"title\": \"\\u5ef6\\u671f\\u5546\\u4e1a\\u9879\\u76ee\\u6570&\\u5ef6\\u671f\\u4e2a\\u6027\\u5316\\u9879\\u76ee\\u6570\", \"zeroline\": true}}, {\"showLink\": true, \"linkText\": \"Export to plot.ly\"})});</script>"
      ],
      "text/vnd.plotly.v1+html": [
       "<div id=\"412ad5de-0c25-4685-83c7-0bda7600a8fe\" style=\"height: 525px; width: 100%;\" class=\"plotly-graph-div\"></div><script type=\"text/javascript\">require([\"plotly\"], function(Plotly) { window.PLOTLYENV=window.PLOTLYENV || {};window.PLOTLYENV.BASE_URL=\"https://plot.ly\";Plotly.newPlot(\"412ad5de-0c25-4685-83c7-0bda7600a8fe\", [{\"name\": \"\\u5ef6\\u671f\\u5546\\u4e1a\\u9879\\u76ee\\u6570\", \"x\": [\"8-1\", \"8-2\", \"8-3\", \"8-4\", \"9-1\", \"9-2\", \"9-3\"], \"y\": [0.0, 0.0, 1.0, 1.0, 0.0, 0.0, 1.0], \"type\": \"bar\", \"uid\": \"501ebc62-c559-11e8-97d0-a81e84e6c740\"}, {\"name\": \"\\u5ef6\\u671f\\u4e2a\\u6027\\u5316\\u9879\\u76ee\\u6570\", \"x\": [\"8-1\", \"8-2\", \"8-3\", \"8-4\", \"9-1\", \"9-2\", \"9-3\"], \"y\": [0.0, 1.0, 2.0, 2.0, 3.0, 0.0, 0.0], \"type\": \"bar\", \"uid\": \"501ebfb4-c559-11e8-97d0-a81e84e6c740\"}], {\"barmode\": \"stack\", \"title\": \"\\u5ef6\\u671f\\u5546\\u4e1a\\u9879\\u76ee\\u6570&\\u5ef6\\u671f\\u4e2a\\u6027\\u5316\\u9879\\u76ee\\u6570\\u5468\\u8d8b\\u52bf\\u56fe\", \"xaxis\": {\"mirror\": \"all\", \"nticks\": 20, \"showgrid\": true, \"showline\": true, \"title\": \"\\u5468\", \"zeroline\": true}, \"yaxis\": {\"mirror\": \"all\", \"nticks\": 20, \"showgrid\": true, \"showline\": true, \"title\": \"\\u5ef6\\u671f\\u5546\\u4e1a\\u9879\\u76ee\\u6570&\\u5ef6\\u671f\\u4e2a\\u6027\\u5316\\u9879\\u76ee\\u6570\", \"zeroline\": true}}, {\"showLink\": true, \"linkText\": \"Export to plot.ly\"})});</script>"
      ]
     },
     "metadata": {},
     "output_type": "display_data"
    },
    {
     "data": {
      "application/vnd.plotly.v1+json": {
       "data": [
        {
         "name": "个性化组_延期商业项目数",
         "type": "bar",
         "uid": "5041f812-c559-11e8-97d0-a81e84e6c740",
         "x": [
          "8-1",
          "8-2",
          "8-3",
          "8-4",
          "9-1",
          "9-2",
          "9-3"
         ],
         "y": [
          0,
          0,
          0,
          0,
          0,
          0,
          0
         ]
        },
        {
         "name": "个性化组_延期个性化项目数",
         "type": "bar",
         "uid": "5041feac-c559-11e8-97d0-a81e84e6c740",
         "x": [
          "8-1",
          "8-2",
          "8-3",
          "8-4",
          "9-1",
          "9-2",
          "9-3"
         ],
         "y": [
          0,
          1,
          2,
          0,
          2,
          0,
          0
         ]
        },
        {
         "name": "分析一组_延期商业项目数",
         "type": "bar",
         "uid": "50420258-c559-11e8-97d0-a81e84e6c740",
         "x": [
          "8-1",
          "8-2",
          "8-3",
          "8-4",
          "9-1",
          "9-2",
          "9-3"
         ],
         "y": [
          0,
          0,
          0,
          0,
          0,
          0,
          0
         ]
        },
        {
         "name": "分析一组_延期个性化项目数",
         "type": "bar",
         "uid": "5042085c-c559-11e8-97d0-a81e84e6c740",
         "x": [
          "8-1",
          "8-2",
          "8-3",
          "8-4",
          "9-1",
          "9-2",
          "9-3"
         ],
         "y": [
          0,
          0,
          0,
          0,
          0,
          0,
          0
         ]
        },
        {
         "name": "分析二组_延期商业项目数",
         "type": "bar",
         "uid": "50421054-c559-11e8-97d0-a81e84e6c740",
         "x": [
          "8-1",
          "8-2",
          "8-3",
          "8-4",
          "9-1",
          "9-2",
          "9-3"
         ],
         "y": [
          0,
          0,
          1,
          1,
          0,
          0,
          1
         ]
        },
        {
         "name": "分析二组_延期个性化项目数",
         "type": "bar",
         "uid": "50421856-c559-11e8-97d0-a81e84e6c740",
         "x": [
          "8-1",
          "8-2",
          "8-3",
          "8-4",
          "9-1",
          "9-2",
          "9-3"
         ],
         "y": [
          0,
          0,
          0,
          2,
          1,
          0,
          0
         ]
        }
       ],
       "layout": {
        "barmode": "stack",
        "title": "延期商业项目数&延期个性化项目数周趋势图",
        "xaxis": {
         "mirror": "all",
         "nticks": 20,
         "showgrid": true,
         "showline": true,
         "title": "周",
         "zeroline": true
        },
        "yaxis": {
         "mirror": "all",
         "nticks": 20,
         "showgrid": true,
         "showline": true,
         "title": "延期商业项目数&延期个性化项目数",
         "zeroline": true
        }
       }
      },
      "text/html": [
       "<div id=\"b13561db-9f65-4a47-94fd-7ed72c5dd11e\" style=\"height: 525px; width: 100%;\" class=\"plotly-graph-div\"></div><script type=\"text/javascript\">require([\"plotly\"], function(Plotly) { window.PLOTLYENV=window.PLOTLYENV || {};window.PLOTLYENV.BASE_URL=\"https://plot.ly\";Plotly.newPlot(\"b13561db-9f65-4a47-94fd-7ed72c5dd11e\", [{\"name\": \"\\u4e2a\\u6027\\u5316\\u7ec4_\\u5ef6\\u671f\\u5546\\u4e1a\\u9879\\u76ee\\u6570\", \"x\": [\"8-1\", \"8-2\", \"8-3\", \"8-4\", \"9-1\", \"9-2\", \"9-3\"], \"y\": [0.0, 0.0, 0.0, 0.0, 0.0, 0.0, 0.0], \"type\": \"bar\", \"uid\": \"5041f812-c559-11e8-97d0-a81e84e6c740\"}, {\"name\": \"\\u4e2a\\u6027\\u5316\\u7ec4_\\u5ef6\\u671f\\u4e2a\\u6027\\u5316\\u9879\\u76ee\\u6570\", \"x\": [\"8-1\", \"8-2\", \"8-3\", \"8-4\", \"9-1\", \"9-2\", \"9-3\"], \"y\": [0.0, 1.0, 2.0, 0.0, 2.0, 0.0, 0.0], \"type\": \"bar\", \"uid\": \"5041feac-c559-11e8-97d0-a81e84e6c740\"}, {\"name\": \"\\u5206\\u6790\\u4e00\\u7ec4_\\u5ef6\\u671f\\u5546\\u4e1a\\u9879\\u76ee\\u6570\", \"x\": [\"8-1\", \"8-2\", \"8-3\", \"8-4\", \"9-1\", \"9-2\", \"9-3\"], \"y\": [0.0, 0.0, 0.0, 0.0, 0.0, 0.0, 0.0], \"type\": \"bar\", \"uid\": \"50420258-c559-11e8-97d0-a81e84e6c740\"}, {\"name\": \"\\u5206\\u6790\\u4e00\\u7ec4_\\u5ef6\\u671f\\u4e2a\\u6027\\u5316\\u9879\\u76ee\\u6570\", \"x\": [\"8-1\", \"8-2\", \"8-3\", \"8-4\", \"9-1\", \"9-2\", \"9-3\"], \"y\": [0.0, 0.0, 0.0, 0.0, 0.0, 0.0, 0.0], \"type\": \"bar\", \"uid\": \"5042085c-c559-11e8-97d0-a81e84e6c740\"}, {\"name\": \"\\u5206\\u6790\\u4e8c\\u7ec4_\\u5ef6\\u671f\\u5546\\u4e1a\\u9879\\u76ee\\u6570\", \"x\": [\"8-1\", \"8-2\", \"8-3\", \"8-4\", \"9-1\", \"9-2\", \"9-3\"], \"y\": [0.0, 0.0, 1.0, 1.0, 0.0, 0.0, 1.0], \"type\": \"bar\", \"uid\": \"50421054-c559-11e8-97d0-a81e84e6c740\"}, {\"name\": \"\\u5206\\u6790\\u4e8c\\u7ec4_\\u5ef6\\u671f\\u4e2a\\u6027\\u5316\\u9879\\u76ee\\u6570\", \"x\": [\"8-1\", \"8-2\", \"8-3\", \"8-4\", \"9-1\", \"9-2\", \"9-3\"], \"y\": [0.0, 0.0, 0.0, 2.0, 1.0, 0.0, 0.0], \"type\": \"bar\", \"uid\": \"50421856-c559-11e8-97d0-a81e84e6c740\"}], {\"barmode\": \"stack\", \"title\": \"\\u5ef6\\u671f\\u5546\\u4e1a\\u9879\\u76ee\\u6570&\\u5ef6\\u671f\\u4e2a\\u6027\\u5316\\u9879\\u76ee\\u6570\\u5468\\u8d8b\\u52bf\\u56fe\", \"xaxis\": {\"mirror\": \"all\", \"nticks\": 20, \"showgrid\": true, \"showline\": true, \"title\": \"\\u5468\", \"zeroline\": true}, \"yaxis\": {\"mirror\": \"all\", \"nticks\": 20, \"showgrid\": true, \"showline\": true, \"title\": \"\\u5ef6\\u671f\\u5546\\u4e1a\\u9879\\u76ee\\u6570&\\u5ef6\\u671f\\u4e2a\\u6027\\u5316\\u9879\\u76ee\\u6570\", \"zeroline\": true}}, {\"showLink\": true, \"linkText\": \"Export to plot.ly\"})});</script>"
      ],
      "text/vnd.plotly.v1+html": [
       "<div id=\"b13561db-9f65-4a47-94fd-7ed72c5dd11e\" style=\"height: 525px; width: 100%;\" class=\"plotly-graph-div\"></div><script type=\"text/javascript\">require([\"plotly\"], function(Plotly) { window.PLOTLYENV=window.PLOTLYENV || {};window.PLOTLYENV.BASE_URL=\"https://plot.ly\";Plotly.newPlot(\"b13561db-9f65-4a47-94fd-7ed72c5dd11e\", [{\"name\": \"\\u4e2a\\u6027\\u5316\\u7ec4_\\u5ef6\\u671f\\u5546\\u4e1a\\u9879\\u76ee\\u6570\", \"x\": [\"8-1\", \"8-2\", \"8-3\", \"8-4\", \"9-1\", \"9-2\", \"9-3\"], \"y\": [0.0, 0.0, 0.0, 0.0, 0.0, 0.0, 0.0], \"type\": \"bar\", \"uid\": \"5041f812-c559-11e8-97d0-a81e84e6c740\"}, {\"name\": \"\\u4e2a\\u6027\\u5316\\u7ec4_\\u5ef6\\u671f\\u4e2a\\u6027\\u5316\\u9879\\u76ee\\u6570\", \"x\": [\"8-1\", \"8-2\", \"8-3\", \"8-4\", \"9-1\", \"9-2\", \"9-3\"], \"y\": [0.0, 1.0, 2.0, 0.0, 2.0, 0.0, 0.0], \"type\": \"bar\", \"uid\": \"5041feac-c559-11e8-97d0-a81e84e6c740\"}, {\"name\": \"\\u5206\\u6790\\u4e00\\u7ec4_\\u5ef6\\u671f\\u5546\\u4e1a\\u9879\\u76ee\\u6570\", \"x\": [\"8-1\", \"8-2\", \"8-3\", \"8-4\", \"9-1\", \"9-2\", \"9-3\"], \"y\": [0.0, 0.0, 0.0, 0.0, 0.0, 0.0, 0.0], \"type\": \"bar\", \"uid\": \"50420258-c559-11e8-97d0-a81e84e6c740\"}, {\"name\": \"\\u5206\\u6790\\u4e00\\u7ec4_\\u5ef6\\u671f\\u4e2a\\u6027\\u5316\\u9879\\u76ee\\u6570\", \"x\": [\"8-1\", \"8-2\", \"8-3\", \"8-4\", \"9-1\", \"9-2\", \"9-3\"], \"y\": [0.0, 0.0, 0.0, 0.0, 0.0, 0.0, 0.0], \"type\": \"bar\", \"uid\": \"5042085c-c559-11e8-97d0-a81e84e6c740\"}, {\"name\": \"\\u5206\\u6790\\u4e8c\\u7ec4_\\u5ef6\\u671f\\u5546\\u4e1a\\u9879\\u76ee\\u6570\", \"x\": [\"8-1\", \"8-2\", \"8-3\", \"8-4\", \"9-1\", \"9-2\", \"9-3\"], \"y\": [0.0, 0.0, 1.0, 1.0, 0.0, 0.0, 1.0], \"type\": \"bar\", \"uid\": \"50421054-c559-11e8-97d0-a81e84e6c740\"}, {\"name\": \"\\u5206\\u6790\\u4e8c\\u7ec4_\\u5ef6\\u671f\\u4e2a\\u6027\\u5316\\u9879\\u76ee\\u6570\", \"x\": [\"8-1\", \"8-2\", \"8-3\", \"8-4\", \"9-1\", \"9-2\", \"9-3\"], \"y\": [0.0, 0.0, 0.0, 2.0, 1.0, 0.0, 0.0], \"type\": \"bar\", \"uid\": \"50421856-c559-11e8-97d0-a81e84e6c740\"}], {\"barmode\": \"stack\", \"title\": \"\\u5ef6\\u671f\\u5546\\u4e1a\\u9879\\u76ee\\u6570&\\u5ef6\\u671f\\u4e2a\\u6027\\u5316\\u9879\\u76ee\\u6570\\u5468\\u8d8b\\u52bf\\u56fe\", \"xaxis\": {\"mirror\": \"all\", \"nticks\": 20, \"showgrid\": true, \"showline\": true, \"title\": \"\\u5468\", \"zeroline\": true}, \"yaxis\": {\"mirror\": \"all\", \"nticks\": 20, \"showgrid\": true, \"showline\": true, \"title\": \"\\u5ef6\\u671f\\u5546\\u4e1a\\u9879\\u76ee\\u6570&\\u5ef6\\u671f\\u4e2a\\u6027\\u5316\\u9879\\u76ee\\u6570\", \"zeroline\": true}}, {\"showLink\": true, \"linkText\": \"Export to plot.ly\"})});</script>"
      ]
     },
     "metadata": {},
     "output_type": "display_data"
    }
   ],
   "source": [
    "data_dict = {'延期商业项目数':['延期商业项目数'],'延期个性化项目数':['延期个性化项目数']}\n",
    "myModule.plot( all_dict, data_dict, '人员','stack_bar' , total=True, time_list = time_list)\n",
    "myModule.plot( all_dict, data_dict, '组别','stack_bar' ,time_list = time_list)"
   ]
  },
  {
   "cell_type": "markdown",
   "metadata": {},
   "source": [
    "### 项目执行延期率"
   ]
  },
  {
   "cell_type": "code",
   "execution_count": 90,
   "metadata": {},
   "outputs": [
    {
     "data": {
      "application/vnd.plotly.v1+json": {
       "data": [
        {
         "name": "商业项目延期率",
         "type": "scatter",
         "uid": "506a87a0-c559-11e8-97d0-a81e84e6c740",
         "x": [
          "8-1",
          "8-2",
          "8-3",
          "8-4",
          "9-1",
          "9-2",
          "9-3"
         ],
         "y": [
          0,
          0,
          0.04,
          0.03225806451612903,
          0,
          0,
          0.043478260869565216
         ]
        },
        {
         "name": "个性化项目延期率",
         "type": "scatter",
         "uid": "506a8c0a-c559-11e8-97d0-a81e84e6c740",
         "x": [
          "8-1",
          "8-2",
          "8-3",
          "8-4",
          "9-1",
          "9-2",
          "9-3"
         ],
         "y": [
          0,
          0.027777777777777776,
          0.07142857142857142,
          0.06060606060606061,
          0.08823529411764706,
          0,
          0
         ]
        },
        {
         "name": "总延期率",
         "type": "scatter",
         "uid": "506a8e9e-c559-11e8-97d0-a81e84e6c740",
         "x": [
          "8-1",
          "8-2",
          "8-3",
          "8-4",
          "9-1",
          "9-2",
          "9-3"
         ],
         "y": [
          0,
          0.013888888888888888,
          0.05660377358490566,
          0.046875,
          0.04918032786885246,
          0,
          0.015625
         ]
        }
       ],
       "layout": {
        "title": "商业项目延期率&个性化项目延期率&总延期率周趋势图",
        "xaxis": {
         "mirror": "all",
         "nticks": 20,
         "showgrid": true,
         "showline": true,
         "title": "周",
         "zeroline": true
        },
        "yaxis": {
         "mirror": "all",
         "nticks": 20,
         "showgrid": true,
         "showline": true,
         "title": "商业项目延期率&个性化项目延期率&总延期率",
         "zeroline": true
        }
       }
      },
      "text/html": [
       "<div id=\"e606b6bd-34fc-4a00-9815-7854d4620626\" style=\"height: 525px; width: 100%;\" class=\"plotly-graph-div\"></div><script type=\"text/javascript\">require([\"plotly\"], function(Plotly) { window.PLOTLYENV=window.PLOTLYENV || {};window.PLOTLYENV.BASE_URL=\"https://plot.ly\";Plotly.newPlot(\"e606b6bd-34fc-4a00-9815-7854d4620626\", [{\"name\": \"\\u5546\\u4e1a\\u9879\\u76ee\\u5ef6\\u671f\\u7387\", \"x\": [\"8-1\", \"8-2\", \"8-3\", \"8-4\", \"9-1\", \"9-2\", \"9-3\"], \"y\": [0.0, 0.0, 0.04, 0.03225806451612903, 0.0, 0.0, 0.043478260869565216], \"type\": \"scatter\", \"uid\": \"506a87a0-c559-11e8-97d0-a81e84e6c740\"}, {\"name\": \"\\u4e2a\\u6027\\u5316\\u9879\\u76ee\\u5ef6\\u671f\\u7387\", \"x\": [\"8-1\", \"8-2\", \"8-3\", \"8-4\", \"9-1\", \"9-2\", \"9-3\"], \"y\": [0.0, 0.027777777777777776, 0.07142857142857142, 0.06060606060606061, 0.08823529411764706, 0.0, 0.0], \"type\": \"scatter\", \"uid\": \"506a8c0a-c559-11e8-97d0-a81e84e6c740\"}, {\"name\": \"\\u603b\\u5ef6\\u671f\\u7387\", \"x\": [\"8-1\", \"8-2\", \"8-3\", \"8-4\", \"9-1\", \"9-2\", \"9-3\"], \"y\": [0.0, 0.013888888888888888, 0.05660377358490566, 0.046875, 0.04918032786885246, 0.0, 0.015625], \"type\": \"scatter\", \"uid\": \"506a8e9e-c559-11e8-97d0-a81e84e6c740\"}], {\"title\": \"\\u5546\\u4e1a\\u9879\\u76ee\\u5ef6\\u671f\\u7387&\\u4e2a\\u6027\\u5316\\u9879\\u76ee\\u5ef6\\u671f\\u7387&\\u603b\\u5ef6\\u671f\\u7387\\u5468\\u8d8b\\u52bf\\u56fe\", \"xaxis\": {\"mirror\": \"all\", \"nticks\": 20, \"showgrid\": true, \"showline\": true, \"title\": \"\\u5468\", \"zeroline\": true}, \"yaxis\": {\"mirror\": \"all\", \"nticks\": 20, \"showgrid\": true, \"showline\": true, \"title\": \"\\u5546\\u4e1a\\u9879\\u76ee\\u5ef6\\u671f\\u7387&\\u4e2a\\u6027\\u5316\\u9879\\u76ee\\u5ef6\\u671f\\u7387&\\u603b\\u5ef6\\u671f\\u7387\", \"zeroline\": true}}, {\"showLink\": true, \"linkText\": \"Export to plot.ly\"})});</script>"
      ],
      "text/vnd.plotly.v1+html": [
       "<div id=\"e606b6bd-34fc-4a00-9815-7854d4620626\" style=\"height: 525px; width: 100%;\" class=\"plotly-graph-div\"></div><script type=\"text/javascript\">require([\"plotly\"], function(Plotly) { window.PLOTLYENV=window.PLOTLYENV || {};window.PLOTLYENV.BASE_URL=\"https://plot.ly\";Plotly.newPlot(\"e606b6bd-34fc-4a00-9815-7854d4620626\", [{\"name\": \"\\u5546\\u4e1a\\u9879\\u76ee\\u5ef6\\u671f\\u7387\", \"x\": [\"8-1\", \"8-2\", \"8-3\", \"8-4\", \"9-1\", \"9-2\", \"9-3\"], \"y\": [0.0, 0.0, 0.04, 0.03225806451612903, 0.0, 0.0, 0.043478260869565216], \"type\": \"scatter\", \"uid\": \"506a87a0-c559-11e8-97d0-a81e84e6c740\"}, {\"name\": \"\\u4e2a\\u6027\\u5316\\u9879\\u76ee\\u5ef6\\u671f\\u7387\", \"x\": [\"8-1\", \"8-2\", \"8-3\", \"8-4\", \"9-1\", \"9-2\", \"9-3\"], \"y\": [0.0, 0.027777777777777776, 0.07142857142857142, 0.06060606060606061, 0.08823529411764706, 0.0, 0.0], \"type\": \"scatter\", \"uid\": \"506a8c0a-c559-11e8-97d0-a81e84e6c740\"}, {\"name\": \"\\u603b\\u5ef6\\u671f\\u7387\", \"x\": [\"8-1\", \"8-2\", \"8-3\", \"8-4\", \"9-1\", \"9-2\", \"9-3\"], \"y\": [0.0, 0.013888888888888888, 0.05660377358490566, 0.046875, 0.04918032786885246, 0.0, 0.015625], \"type\": \"scatter\", \"uid\": \"506a8e9e-c559-11e8-97d0-a81e84e6c740\"}], {\"title\": \"\\u5546\\u4e1a\\u9879\\u76ee\\u5ef6\\u671f\\u7387&\\u4e2a\\u6027\\u5316\\u9879\\u76ee\\u5ef6\\u671f\\u7387&\\u603b\\u5ef6\\u671f\\u7387\\u5468\\u8d8b\\u52bf\\u56fe\", \"xaxis\": {\"mirror\": \"all\", \"nticks\": 20, \"showgrid\": true, \"showline\": true, \"title\": \"\\u5468\", \"zeroline\": true}, \"yaxis\": {\"mirror\": \"all\", \"nticks\": 20, \"showgrid\": true, \"showline\": true, \"title\": \"\\u5546\\u4e1a\\u9879\\u76ee\\u5ef6\\u671f\\u7387&\\u4e2a\\u6027\\u5316\\u9879\\u76ee\\u5ef6\\u671f\\u7387&\\u603b\\u5ef6\\u671f\\u7387\", \"zeroline\": true}}, {\"showLink\": true, \"linkText\": \"Export to plot.ly\"})});</script>"
      ]
     },
     "metadata": {},
     "output_type": "display_data"
    },
    {
     "data": {
      "application/vnd.plotly.v1+json": {
       "data": [
        {
         "name": "个性化组_商业项目延期率",
         "type": "scatter",
         "uid": "5090ab92-c559-11e8-97d0-a81e84e6c740",
         "x": [
          "8-1",
          "8-2",
          "8-3",
          "8-4",
          "9-1",
          "9-2",
          "9-3"
         ],
         "y": [
          0,
          null,
          null,
          null,
          null,
          0,
          null
         ]
        },
        {
         "name": "个性化组_个性化项目延期率",
         "type": "scatter",
         "uid": "5090aed0-c559-11e8-97d0-a81e84e6c740",
         "x": [
          "8-1",
          "8-2",
          "8-3",
          "8-4",
          "9-1",
          "9-2",
          "9-3"
         ],
         "y": [
          0,
          0.05555555555555555,
          0.18181818181818182,
          0,
          0.1,
          0,
          0
         ]
        },
        {
         "name": "个性化组_总延期率",
         "type": "scatter",
         "uid": "5090b132-c559-11e8-97d0-a81e84e6c740",
         "x": [
          "8-1",
          "8-2",
          "8-3",
          "8-4",
          "9-1",
          "9-2",
          "9-3"
         ],
         "y": [
          0,
          0.05555555555555555,
          0.18181818181818182,
          0,
          0.1,
          0,
          0
         ]
        },
        {
         "name": "分析一组_商业项目延期率",
         "type": "scatter",
         "uid": "5090b34e-c559-11e8-97d0-a81e84e6c740",
         "x": [
          "8-1",
          "8-2",
          "8-3",
          "8-4",
          "9-1",
          "9-2",
          "9-3"
         ],
         "y": [
          0,
          0,
          0,
          0,
          0,
          0,
          0
         ]
        },
        {
         "name": "分析一组_个性化项目延期率",
         "type": "scatter",
         "uid": "5090b54c-c559-11e8-97d0-a81e84e6c740",
         "x": [
          "8-1",
          "8-2",
          "8-3",
          "8-4",
          "9-1",
          "9-2",
          "9-3"
         ],
         "y": [
          0,
          0,
          0,
          0,
          0,
          0,
          0
         ]
        },
        {
         "name": "分析一组_总延期率",
         "type": "scatter",
         "uid": "5090b74a-c559-11e8-97d0-a81e84e6c740",
         "x": [
          "8-1",
          "8-2",
          "8-3",
          "8-4",
          "9-1",
          "9-2",
          "9-3"
         ],
         "y": [
          0,
          0,
          0,
          0,
          0,
          0,
          0
         ]
        },
        {
         "name": "分析二组_商业项目延期率",
         "type": "scatter",
         "uid": "5090b93e-c559-11e8-97d0-a81e84e6c740",
         "x": [
          "8-1",
          "8-2",
          "8-3",
          "8-4",
          "9-1",
          "9-2",
          "9-3"
         ],
         "y": [
          0,
          0,
          0.06666666666666667,
          0.047619047619047616,
          0,
          0,
          0.05555555555555555
         ]
        },
        {
         "name": "分析二组_个性化项目延期率",
         "type": "scatter",
         "uid": "5090bb32-c559-11e8-97d0-a81e84e6c740",
         "x": [
          "8-1",
          "8-2",
          "8-3",
          "8-4",
          "9-1",
          "9-2",
          "9-3"
         ],
         "y": [
          0,
          0,
          0,
          0.18181818181818182,
          0.1111111111111111,
          0,
          0
         ]
        },
        {
         "name": "分析二组_总延期率",
         "type": "scatter",
         "uid": "5090bd30-c559-11e8-97d0-a81e84e6c740",
         "x": [
          "8-1",
          "8-2",
          "8-3",
          "8-4",
          "9-1",
          "9-2",
          "9-3"
         ],
         "y": [
          0,
          0,
          0.045454545454545456,
          0.09375,
          0.034482758620689655,
          0,
          0.023255813953488372
         ]
        }
       ],
       "layout": {
        "title": "商业项目延期率&个性化项目延期率&总延期率周趋势图",
        "xaxis": {
         "mirror": "all",
         "nticks": 20,
         "showgrid": true,
         "showline": true,
         "title": "周",
         "zeroline": true
        },
        "yaxis": {
         "mirror": "all",
         "nticks": 20,
         "showgrid": true,
         "showline": true,
         "title": "商业项目延期率&个性化项目延期率&总延期率",
         "zeroline": true
        }
       }
      },
      "text/html": [
       "<div id=\"7f9f1b0d-1575-4690-b46a-1c357640fd0e\" style=\"height: 525px; width: 100%;\" class=\"plotly-graph-div\"></div><script type=\"text/javascript\">require([\"plotly\"], function(Plotly) { window.PLOTLYENV=window.PLOTLYENV || {};window.PLOTLYENV.BASE_URL=\"https://plot.ly\";Plotly.newPlot(\"7f9f1b0d-1575-4690-b46a-1c357640fd0e\", [{\"name\": \"\\u4e2a\\u6027\\u5316\\u7ec4_\\u5546\\u4e1a\\u9879\\u76ee\\u5ef6\\u671f\\u7387\", \"x\": [\"8-1\", \"8-2\", \"8-3\", \"8-4\", \"9-1\", \"9-2\", \"9-3\"], \"y\": [0.0, null, null, null, null, 0.0, null], \"type\": \"scatter\", \"uid\": \"5090ab92-c559-11e8-97d0-a81e84e6c740\"}, {\"name\": \"\\u4e2a\\u6027\\u5316\\u7ec4_\\u4e2a\\u6027\\u5316\\u9879\\u76ee\\u5ef6\\u671f\\u7387\", \"x\": [\"8-1\", \"8-2\", \"8-3\", \"8-4\", \"9-1\", \"9-2\", \"9-3\"], \"y\": [0.0, 0.05555555555555555, 0.18181818181818182, 0.0, 0.1, 0.0, 0.0], \"type\": \"scatter\", \"uid\": \"5090aed0-c559-11e8-97d0-a81e84e6c740\"}, {\"name\": \"\\u4e2a\\u6027\\u5316\\u7ec4_\\u603b\\u5ef6\\u671f\\u7387\", \"x\": [\"8-1\", \"8-2\", \"8-3\", \"8-4\", \"9-1\", \"9-2\", \"9-3\"], \"y\": [0.0, 0.05555555555555555, 0.18181818181818182, 0.0, 0.1, 0.0, 0.0], \"type\": \"scatter\", \"uid\": \"5090b132-c559-11e8-97d0-a81e84e6c740\"}, {\"name\": \"\\u5206\\u6790\\u4e00\\u7ec4_\\u5546\\u4e1a\\u9879\\u76ee\\u5ef6\\u671f\\u7387\", \"x\": [\"8-1\", \"8-2\", \"8-3\", \"8-4\", \"9-1\", \"9-2\", \"9-3\"], \"y\": [0.0, 0.0, 0.0, 0.0, 0.0, 0.0, 0.0], \"type\": \"scatter\", \"uid\": \"5090b34e-c559-11e8-97d0-a81e84e6c740\"}, {\"name\": \"\\u5206\\u6790\\u4e00\\u7ec4_\\u4e2a\\u6027\\u5316\\u9879\\u76ee\\u5ef6\\u671f\\u7387\", \"x\": [\"8-1\", \"8-2\", \"8-3\", \"8-4\", \"9-1\", \"9-2\", \"9-3\"], \"y\": [0.0, 0.0, 0.0, 0.0, 0.0, 0.0, 0.0], \"type\": \"scatter\", \"uid\": \"5090b54c-c559-11e8-97d0-a81e84e6c740\"}, {\"name\": \"\\u5206\\u6790\\u4e00\\u7ec4_\\u603b\\u5ef6\\u671f\\u7387\", \"x\": [\"8-1\", \"8-2\", \"8-3\", \"8-4\", \"9-1\", \"9-2\", \"9-3\"], \"y\": [0.0, 0.0, 0.0, 0.0, 0.0, 0.0, 0.0], \"type\": \"scatter\", \"uid\": \"5090b74a-c559-11e8-97d0-a81e84e6c740\"}, {\"name\": \"\\u5206\\u6790\\u4e8c\\u7ec4_\\u5546\\u4e1a\\u9879\\u76ee\\u5ef6\\u671f\\u7387\", \"x\": [\"8-1\", \"8-2\", \"8-3\", \"8-4\", \"9-1\", \"9-2\", \"9-3\"], \"y\": [0.0, 0.0, 0.06666666666666667, 0.047619047619047616, 0.0, 0.0, 0.05555555555555555], \"type\": \"scatter\", \"uid\": \"5090b93e-c559-11e8-97d0-a81e84e6c740\"}, {\"name\": \"\\u5206\\u6790\\u4e8c\\u7ec4_\\u4e2a\\u6027\\u5316\\u9879\\u76ee\\u5ef6\\u671f\\u7387\", \"x\": [\"8-1\", \"8-2\", \"8-3\", \"8-4\", \"9-1\", \"9-2\", \"9-3\"], \"y\": [0.0, 0.0, 0.0, 0.18181818181818182, 0.1111111111111111, 0.0, 0.0], \"type\": \"scatter\", \"uid\": \"5090bb32-c559-11e8-97d0-a81e84e6c740\"}, {\"name\": \"\\u5206\\u6790\\u4e8c\\u7ec4_\\u603b\\u5ef6\\u671f\\u7387\", \"x\": [\"8-1\", \"8-2\", \"8-3\", \"8-4\", \"9-1\", \"9-2\", \"9-3\"], \"y\": [0.0, 0.0, 0.045454545454545456, 0.09375, 0.034482758620689655, 0.0, 0.023255813953488372], \"type\": \"scatter\", \"uid\": \"5090bd30-c559-11e8-97d0-a81e84e6c740\"}], {\"title\": \"\\u5546\\u4e1a\\u9879\\u76ee\\u5ef6\\u671f\\u7387&\\u4e2a\\u6027\\u5316\\u9879\\u76ee\\u5ef6\\u671f\\u7387&\\u603b\\u5ef6\\u671f\\u7387\\u5468\\u8d8b\\u52bf\\u56fe\", \"xaxis\": {\"mirror\": \"all\", \"nticks\": 20, \"showgrid\": true, \"showline\": true, \"title\": \"\\u5468\", \"zeroline\": true}, \"yaxis\": {\"mirror\": \"all\", \"nticks\": 20, \"showgrid\": true, \"showline\": true, \"title\": \"\\u5546\\u4e1a\\u9879\\u76ee\\u5ef6\\u671f\\u7387&\\u4e2a\\u6027\\u5316\\u9879\\u76ee\\u5ef6\\u671f\\u7387&\\u603b\\u5ef6\\u671f\\u7387\", \"zeroline\": true}}, {\"showLink\": true, \"linkText\": \"Export to plot.ly\"})});</script>"
      ],
      "text/vnd.plotly.v1+html": [
       "<div id=\"7f9f1b0d-1575-4690-b46a-1c357640fd0e\" style=\"height: 525px; width: 100%;\" class=\"plotly-graph-div\"></div><script type=\"text/javascript\">require([\"plotly\"], function(Plotly) { window.PLOTLYENV=window.PLOTLYENV || {};window.PLOTLYENV.BASE_URL=\"https://plot.ly\";Plotly.newPlot(\"7f9f1b0d-1575-4690-b46a-1c357640fd0e\", [{\"name\": \"\\u4e2a\\u6027\\u5316\\u7ec4_\\u5546\\u4e1a\\u9879\\u76ee\\u5ef6\\u671f\\u7387\", \"x\": [\"8-1\", \"8-2\", \"8-3\", \"8-4\", \"9-1\", \"9-2\", \"9-3\"], \"y\": [0.0, null, null, null, null, 0.0, null], \"type\": \"scatter\", \"uid\": \"5090ab92-c559-11e8-97d0-a81e84e6c740\"}, {\"name\": \"\\u4e2a\\u6027\\u5316\\u7ec4_\\u4e2a\\u6027\\u5316\\u9879\\u76ee\\u5ef6\\u671f\\u7387\", \"x\": [\"8-1\", \"8-2\", \"8-3\", \"8-4\", \"9-1\", \"9-2\", \"9-3\"], \"y\": [0.0, 0.05555555555555555, 0.18181818181818182, 0.0, 0.1, 0.0, 0.0], \"type\": \"scatter\", \"uid\": \"5090aed0-c559-11e8-97d0-a81e84e6c740\"}, {\"name\": \"\\u4e2a\\u6027\\u5316\\u7ec4_\\u603b\\u5ef6\\u671f\\u7387\", \"x\": [\"8-1\", \"8-2\", \"8-3\", \"8-4\", \"9-1\", \"9-2\", \"9-3\"], \"y\": [0.0, 0.05555555555555555, 0.18181818181818182, 0.0, 0.1, 0.0, 0.0], \"type\": \"scatter\", \"uid\": \"5090b132-c559-11e8-97d0-a81e84e6c740\"}, {\"name\": \"\\u5206\\u6790\\u4e00\\u7ec4_\\u5546\\u4e1a\\u9879\\u76ee\\u5ef6\\u671f\\u7387\", \"x\": [\"8-1\", \"8-2\", \"8-3\", \"8-4\", \"9-1\", \"9-2\", \"9-3\"], \"y\": [0.0, 0.0, 0.0, 0.0, 0.0, 0.0, 0.0], \"type\": \"scatter\", \"uid\": \"5090b34e-c559-11e8-97d0-a81e84e6c740\"}, {\"name\": \"\\u5206\\u6790\\u4e00\\u7ec4_\\u4e2a\\u6027\\u5316\\u9879\\u76ee\\u5ef6\\u671f\\u7387\", \"x\": [\"8-1\", \"8-2\", \"8-3\", \"8-4\", \"9-1\", \"9-2\", \"9-3\"], \"y\": [0.0, 0.0, 0.0, 0.0, 0.0, 0.0, 0.0], \"type\": \"scatter\", \"uid\": \"5090b54c-c559-11e8-97d0-a81e84e6c740\"}, {\"name\": \"\\u5206\\u6790\\u4e00\\u7ec4_\\u603b\\u5ef6\\u671f\\u7387\", \"x\": [\"8-1\", \"8-2\", \"8-3\", \"8-4\", \"9-1\", \"9-2\", \"9-3\"], \"y\": [0.0, 0.0, 0.0, 0.0, 0.0, 0.0, 0.0], \"type\": \"scatter\", \"uid\": \"5090b74a-c559-11e8-97d0-a81e84e6c740\"}, {\"name\": \"\\u5206\\u6790\\u4e8c\\u7ec4_\\u5546\\u4e1a\\u9879\\u76ee\\u5ef6\\u671f\\u7387\", \"x\": [\"8-1\", \"8-2\", \"8-3\", \"8-4\", \"9-1\", \"9-2\", \"9-3\"], \"y\": [0.0, 0.0, 0.06666666666666667, 0.047619047619047616, 0.0, 0.0, 0.05555555555555555], \"type\": \"scatter\", \"uid\": \"5090b93e-c559-11e8-97d0-a81e84e6c740\"}, {\"name\": \"\\u5206\\u6790\\u4e8c\\u7ec4_\\u4e2a\\u6027\\u5316\\u9879\\u76ee\\u5ef6\\u671f\\u7387\", \"x\": [\"8-1\", \"8-2\", \"8-3\", \"8-4\", \"9-1\", \"9-2\", \"9-3\"], \"y\": [0.0, 0.0, 0.0, 0.18181818181818182, 0.1111111111111111, 0.0, 0.0], \"type\": \"scatter\", \"uid\": \"5090bb32-c559-11e8-97d0-a81e84e6c740\"}, {\"name\": \"\\u5206\\u6790\\u4e8c\\u7ec4_\\u603b\\u5ef6\\u671f\\u7387\", \"x\": [\"8-1\", \"8-2\", \"8-3\", \"8-4\", \"9-1\", \"9-2\", \"9-3\"], \"y\": [0.0, 0.0, 0.045454545454545456, 0.09375, 0.034482758620689655, 0.0, 0.023255813953488372], \"type\": \"scatter\", \"uid\": \"5090bd30-c559-11e8-97d0-a81e84e6c740\"}], {\"title\": \"\\u5546\\u4e1a\\u9879\\u76ee\\u5ef6\\u671f\\u7387&\\u4e2a\\u6027\\u5316\\u9879\\u76ee\\u5ef6\\u671f\\u7387&\\u603b\\u5ef6\\u671f\\u7387\\u5468\\u8d8b\\u52bf\\u56fe\", \"xaxis\": {\"mirror\": \"all\", \"nticks\": 20, \"showgrid\": true, \"showline\": true, \"title\": \"\\u5468\", \"zeroline\": true}, \"yaxis\": {\"mirror\": \"all\", \"nticks\": 20, \"showgrid\": true, \"showline\": true, \"title\": \"\\u5546\\u4e1a\\u9879\\u76ee\\u5ef6\\u671f\\u7387&\\u4e2a\\u6027\\u5316\\u9879\\u76ee\\u5ef6\\u671f\\u7387&\\u603b\\u5ef6\\u671f\\u7387\", \"zeroline\": true}}, {\"showLink\": true, \"linkText\": \"Export to plot.ly\"})});</script>"
      ]
     },
     "metadata": {},
     "output_type": "display_data"
    }
   ],
   "source": [
    "data_dict = {'商业项目延期率':['延期商业项目数', '总商业项目数'], \n",
    "             '个性化项目延期率':['延期个性化项目数', '总个性化数'],\n",
    "             '总延期率':['总延期项目数', '总项目数']}\n",
    "myModule.plot( all_dict, data_dict, '人员' ,  'line' , total=True ,time_list = time_list)\n",
    "myModule.plot( all_dict, data_dict, '组别' ,  'line' ,time_list = time_list)"
   ]
  },
  {
   "cell_type": "markdown",
   "metadata": {},
   "source": [
    "## 项目过程执行情况"
   ]
  },
  {
   "cell_type": "markdown",
   "metadata": {},
   "source": [
    "### 反馈延期数"
   ]
  },
  {
   "cell_type": "code",
   "execution_count": 91,
   "metadata": {},
   "outputs": [
    {
     "data": {
      "application/vnd.plotly.v1+json": {
       "data": [
        {
         "name": "24h内未完成数据反馈项目数",
         "type": "bar",
         "uid": "50b557f8-c559-11e8-97d0-a81e84e6c740",
         "x": [
          "8-1",
          "8-2",
          "8-3",
          "8-4",
          "9-1",
          "9-2",
          "9-3"
         ],
         "y": [
          1,
          0,
          0,
          1,
          0,
          0,
          1
         ]
        },
        {
         "name": "反馈延期个性化数",
         "type": "bar",
         "uid": "50b55e74-c559-11e8-97d0-a81e84e6c740",
         "x": [
          "8-1",
          "8-2",
          "8-3",
          "8-4",
          "9-1",
          "9-2",
          "9-3"
         ],
         "y": [
          0,
          1,
          0,
          1,
          2,
          0,
          0
         ]
        }
       ],
       "layout": {
        "barmode": "stack",
        "title": "24h内未完成数据反馈项目数&反馈延期个性化数周趋势图",
        "xaxis": {
         "mirror": "all",
         "nticks": 20,
         "showgrid": true,
         "showline": true,
         "title": "周",
         "zeroline": true
        },
        "yaxis": {
         "mirror": "all",
         "nticks": 20,
         "showgrid": true,
         "showline": true,
         "title": "24h内未完成数据反馈项目数&反馈延期个性化数",
         "zeroline": true
        }
       }
      },
      "text/html": [
       "<div id=\"b53d1004-123b-4d9b-881e-da3711f546c6\" style=\"height: 525px; width: 100%;\" class=\"plotly-graph-div\"></div><script type=\"text/javascript\">require([\"plotly\"], function(Plotly) { window.PLOTLYENV=window.PLOTLYENV || {};window.PLOTLYENV.BASE_URL=\"https://plot.ly\";Plotly.newPlot(\"b53d1004-123b-4d9b-881e-da3711f546c6\", [{\"name\": \"24h\\u5185\\u672a\\u5b8c\\u6210\\u6570\\u636e\\u53cd\\u9988\\u9879\\u76ee\\u6570\", \"x\": [\"8-1\", \"8-2\", \"8-3\", \"8-4\", \"9-1\", \"9-2\", \"9-3\"], \"y\": [1.0, 0.0, 0.0, 1.0, 0.0, 0.0, 1.0], \"type\": \"bar\", \"uid\": \"50b557f8-c559-11e8-97d0-a81e84e6c740\"}, {\"name\": \"\\u53cd\\u9988\\u5ef6\\u671f\\u4e2a\\u6027\\u5316\\u6570\", \"x\": [\"8-1\", \"8-2\", \"8-3\", \"8-4\", \"9-1\", \"9-2\", \"9-3\"], \"y\": [0.0, 1.0, 0.0, 1.0, 2.0, 0.0, 0.0], \"type\": \"bar\", \"uid\": \"50b55e74-c559-11e8-97d0-a81e84e6c740\"}], {\"barmode\": \"stack\", \"title\": \"24h\\u5185\\u672a\\u5b8c\\u6210\\u6570\\u636e\\u53cd\\u9988\\u9879\\u76ee\\u6570&\\u53cd\\u9988\\u5ef6\\u671f\\u4e2a\\u6027\\u5316\\u6570\\u5468\\u8d8b\\u52bf\\u56fe\", \"xaxis\": {\"mirror\": \"all\", \"nticks\": 20, \"showgrid\": true, \"showline\": true, \"title\": \"\\u5468\", \"zeroline\": true}, \"yaxis\": {\"mirror\": \"all\", \"nticks\": 20, \"showgrid\": true, \"showline\": true, \"title\": \"24h\\u5185\\u672a\\u5b8c\\u6210\\u6570\\u636e\\u53cd\\u9988\\u9879\\u76ee\\u6570&\\u53cd\\u9988\\u5ef6\\u671f\\u4e2a\\u6027\\u5316\\u6570\", \"zeroline\": true}}, {\"showLink\": true, \"linkText\": \"Export to plot.ly\"})});</script>"
      ],
      "text/vnd.plotly.v1+html": [
       "<div id=\"b53d1004-123b-4d9b-881e-da3711f546c6\" style=\"height: 525px; width: 100%;\" class=\"plotly-graph-div\"></div><script type=\"text/javascript\">require([\"plotly\"], function(Plotly) { window.PLOTLYENV=window.PLOTLYENV || {};window.PLOTLYENV.BASE_URL=\"https://plot.ly\";Plotly.newPlot(\"b53d1004-123b-4d9b-881e-da3711f546c6\", [{\"name\": \"24h\\u5185\\u672a\\u5b8c\\u6210\\u6570\\u636e\\u53cd\\u9988\\u9879\\u76ee\\u6570\", \"x\": [\"8-1\", \"8-2\", \"8-3\", \"8-4\", \"9-1\", \"9-2\", \"9-3\"], \"y\": [1.0, 0.0, 0.0, 1.0, 0.0, 0.0, 1.0], \"type\": \"bar\", \"uid\": \"50b557f8-c559-11e8-97d0-a81e84e6c740\"}, {\"name\": \"\\u53cd\\u9988\\u5ef6\\u671f\\u4e2a\\u6027\\u5316\\u6570\", \"x\": [\"8-1\", \"8-2\", \"8-3\", \"8-4\", \"9-1\", \"9-2\", \"9-3\"], \"y\": [0.0, 1.0, 0.0, 1.0, 2.0, 0.0, 0.0], \"type\": \"bar\", \"uid\": \"50b55e74-c559-11e8-97d0-a81e84e6c740\"}], {\"barmode\": \"stack\", \"title\": \"24h\\u5185\\u672a\\u5b8c\\u6210\\u6570\\u636e\\u53cd\\u9988\\u9879\\u76ee\\u6570&\\u53cd\\u9988\\u5ef6\\u671f\\u4e2a\\u6027\\u5316\\u6570\\u5468\\u8d8b\\u52bf\\u56fe\", \"xaxis\": {\"mirror\": \"all\", \"nticks\": 20, \"showgrid\": true, \"showline\": true, \"title\": \"\\u5468\", \"zeroline\": true}, \"yaxis\": {\"mirror\": \"all\", \"nticks\": 20, \"showgrid\": true, \"showline\": true, \"title\": \"24h\\u5185\\u672a\\u5b8c\\u6210\\u6570\\u636e\\u53cd\\u9988\\u9879\\u76ee\\u6570&\\u53cd\\u9988\\u5ef6\\u671f\\u4e2a\\u6027\\u5316\\u6570\", \"zeroline\": true}}, {\"showLink\": true, \"linkText\": \"Export to plot.ly\"})});</script>"
      ]
     },
     "metadata": {},
     "output_type": "display_data"
    },
    {
     "data": {
      "application/vnd.plotly.v1+json": {
       "data": [
        {
         "name": "个性化组_24h内未完成数据反馈项目数",
         "type": "bar",
         "uid": "50d0e054-c559-11e8-97d0-a81e84e6c740",
         "x": [
          "8-1",
          "8-2",
          "8-3",
          "8-4",
          "9-1",
          "9-2",
          "9-3"
         ],
         "y": [
          0,
          0,
          0,
          0,
          0,
          0,
          0
         ]
        },
        {
         "name": "个性化组_反馈延期个性化数",
         "type": "bar",
         "uid": "50d0e3b0-c559-11e8-97d0-a81e84e6c740",
         "x": [
          "8-1",
          "8-2",
          "8-3",
          "8-4",
          "9-1",
          "9-2",
          "9-3"
         ],
         "y": [
          0,
          1,
          0,
          0,
          0,
          0,
          0
         ]
        },
        {
         "name": "分析一组_24h内未完成数据反馈项目数",
         "type": "bar",
         "uid": "50d0e5fe-c559-11e8-97d0-a81e84e6c740",
         "x": [
          "8-1",
          "8-2",
          "8-3",
          "8-4",
          "9-1",
          "9-2",
          "9-3"
         ],
         "y": [
          0,
          0,
          0,
          0,
          0,
          0,
          0
         ]
        },
        {
         "name": "分析一组_反馈延期个性化数",
         "type": "bar",
         "uid": "50d0e810-c559-11e8-97d0-a81e84e6c740",
         "x": [
          "8-1",
          "8-2",
          "8-3",
          "8-4",
          "9-1",
          "9-2",
          "9-3"
         ],
         "y": [
          0,
          0,
          0,
          1,
          2,
          0,
          0
         ]
        },
        {
         "name": "分析二组_24h内未完成数据反馈项目数",
         "type": "bar",
         "uid": "50d0ea0e-c559-11e8-97d0-a81e84e6c740",
         "x": [
          "8-1",
          "8-2",
          "8-3",
          "8-4",
          "9-1",
          "9-2",
          "9-3"
         ],
         "y": [
          1,
          0,
          0,
          1,
          0,
          0,
          1
         ]
        },
        {
         "name": "分析二组_反馈延期个性化数",
         "type": "bar",
         "uid": "50d0ebf8-c559-11e8-97d0-a81e84e6c740",
         "x": [
          "8-1",
          "8-2",
          "8-3",
          "8-4",
          "9-1",
          "9-2",
          "9-3"
         ],
         "y": [
          0,
          0,
          0,
          0,
          0,
          0,
          0
         ]
        }
       ],
       "layout": {
        "barmode": "stack",
        "title": "24h内未完成数据反馈项目数&反馈延期个性化数周趋势图",
        "xaxis": {
         "mirror": "all",
         "nticks": 20,
         "showgrid": true,
         "showline": true,
         "title": "周",
         "zeroline": true
        },
        "yaxis": {
         "mirror": "all",
         "nticks": 20,
         "showgrid": true,
         "showline": true,
         "title": "24h内未完成数据反馈项目数&反馈延期个性化数",
         "zeroline": true
        }
       }
      },
      "text/html": [
       "<div id=\"7eab652d-1724-4ff0-ac1b-96d6a95157ae\" style=\"height: 525px; width: 100%;\" class=\"plotly-graph-div\"></div><script type=\"text/javascript\">require([\"plotly\"], function(Plotly) { window.PLOTLYENV=window.PLOTLYENV || {};window.PLOTLYENV.BASE_URL=\"https://plot.ly\";Plotly.newPlot(\"7eab652d-1724-4ff0-ac1b-96d6a95157ae\", [{\"name\": \"\\u4e2a\\u6027\\u5316\\u7ec4_24h\\u5185\\u672a\\u5b8c\\u6210\\u6570\\u636e\\u53cd\\u9988\\u9879\\u76ee\\u6570\", \"x\": [\"8-1\", \"8-2\", \"8-3\", \"8-4\", \"9-1\", \"9-2\", \"9-3\"], \"y\": [0.0, 0.0, 0.0, 0.0, 0.0, 0.0, 0.0], \"type\": \"bar\", \"uid\": \"50d0e054-c559-11e8-97d0-a81e84e6c740\"}, {\"name\": \"\\u4e2a\\u6027\\u5316\\u7ec4_\\u53cd\\u9988\\u5ef6\\u671f\\u4e2a\\u6027\\u5316\\u6570\", \"x\": [\"8-1\", \"8-2\", \"8-3\", \"8-4\", \"9-1\", \"9-2\", \"9-3\"], \"y\": [0.0, 1.0, 0.0, 0.0, 0.0, 0.0, 0.0], \"type\": \"bar\", \"uid\": \"50d0e3b0-c559-11e8-97d0-a81e84e6c740\"}, {\"name\": \"\\u5206\\u6790\\u4e00\\u7ec4_24h\\u5185\\u672a\\u5b8c\\u6210\\u6570\\u636e\\u53cd\\u9988\\u9879\\u76ee\\u6570\", \"x\": [\"8-1\", \"8-2\", \"8-3\", \"8-4\", \"9-1\", \"9-2\", \"9-3\"], \"y\": [0.0, 0.0, 0.0, 0.0, 0.0, 0.0, 0.0], \"type\": \"bar\", \"uid\": \"50d0e5fe-c559-11e8-97d0-a81e84e6c740\"}, {\"name\": \"\\u5206\\u6790\\u4e00\\u7ec4_\\u53cd\\u9988\\u5ef6\\u671f\\u4e2a\\u6027\\u5316\\u6570\", \"x\": [\"8-1\", \"8-2\", \"8-3\", \"8-4\", \"9-1\", \"9-2\", \"9-3\"], \"y\": [0.0, 0.0, 0.0, 1.0, 2.0, 0.0, 0.0], \"type\": \"bar\", \"uid\": \"50d0e810-c559-11e8-97d0-a81e84e6c740\"}, {\"name\": \"\\u5206\\u6790\\u4e8c\\u7ec4_24h\\u5185\\u672a\\u5b8c\\u6210\\u6570\\u636e\\u53cd\\u9988\\u9879\\u76ee\\u6570\", \"x\": [\"8-1\", \"8-2\", \"8-3\", \"8-4\", \"9-1\", \"9-2\", \"9-3\"], \"y\": [1.0, 0.0, 0.0, 1.0, 0.0, 0.0, 1.0], \"type\": \"bar\", \"uid\": \"50d0ea0e-c559-11e8-97d0-a81e84e6c740\"}, {\"name\": \"\\u5206\\u6790\\u4e8c\\u7ec4_\\u53cd\\u9988\\u5ef6\\u671f\\u4e2a\\u6027\\u5316\\u6570\", \"x\": [\"8-1\", \"8-2\", \"8-3\", \"8-4\", \"9-1\", \"9-2\", \"9-3\"], \"y\": [0.0, 0.0, 0.0, 0.0, 0.0, 0.0, 0.0], \"type\": \"bar\", \"uid\": \"50d0ebf8-c559-11e8-97d0-a81e84e6c740\"}], {\"barmode\": \"stack\", \"title\": \"24h\\u5185\\u672a\\u5b8c\\u6210\\u6570\\u636e\\u53cd\\u9988\\u9879\\u76ee\\u6570&\\u53cd\\u9988\\u5ef6\\u671f\\u4e2a\\u6027\\u5316\\u6570\\u5468\\u8d8b\\u52bf\\u56fe\", \"xaxis\": {\"mirror\": \"all\", \"nticks\": 20, \"showgrid\": true, \"showline\": true, \"title\": \"\\u5468\", \"zeroline\": true}, \"yaxis\": {\"mirror\": \"all\", \"nticks\": 20, \"showgrid\": true, \"showline\": true, \"title\": \"24h\\u5185\\u672a\\u5b8c\\u6210\\u6570\\u636e\\u53cd\\u9988\\u9879\\u76ee\\u6570&\\u53cd\\u9988\\u5ef6\\u671f\\u4e2a\\u6027\\u5316\\u6570\", \"zeroline\": true}}, {\"showLink\": true, \"linkText\": \"Export to plot.ly\"})});</script>"
      ],
      "text/vnd.plotly.v1+html": [
       "<div id=\"7eab652d-1724-4ff0-ac1b-96d6a95157ae\" style=\"height: 525px; width: 100%;\" class=\"plotly-graph-div\"></div><script type=\"text/javascript\">require([\"plotly\"], function(Plotly) { window.PLOTLYENV=window.PLOTLYENV || {};window.PLOTLYENV.BASE_URL=\"https://plot.ly\";Plotly.newPlot(\"7eab652d-1724-4ff0-ac1b-96d6a95157ae\", [{\"name\": \"\\u4e2a\\u6027\\u5316\\u7ec4_24h\\u5185\\u672a\\u5b8c\\u6210\\u6570\\u636e\\u53cd\\u9988\\u9879\\u76ee\\u6570\", \"x\": [\"8-1\", \"8-2\", \"8-3\", \"8-4\", \"9-1\", \"9-2\", \"9-3\"], \"y\": [0.0, 0.0, 0.0, 0.0, 0.0, 0.0, 0.0], \"type\": \"bar\", \"uid\": \"50d0e054-c559-11e8-97d0-a81e84e6c740\"}, {\"name\": \"\\u4e2a\\u6027\\u5316\\u7ec4_\\u53cd\\u9988\\u5ef6\\u671f\\u4e2a\\u6027\\u5316\\u6570\", \"x\": [\"8-1\", \"8-2\", \"8-3\", \"8-4\", \"9-1\", \"9-2\", \"9-3\"], \"y\": [0.0, 1.0, 0.0, 0.0, 0.0, 0.0, 0.0], \"type\": \"bar\", \"uid\": \"50d0e3b0-c559-11e8-97d0-a81e84e6c740\"}, {\"name\": \"\\u5206\\u6790\\u4e00\\u7ec4_24h\\u5185\\u672a\\u5b8c\\u6210\\u6570\\u636e\\u53cd\\u9988\\u9879\\u76ee\\u6570\", \"x\": [\"8-1\", \"8-2\", \"8-3\", \"8-4\", \"9-1\", \"9-2\", \"9-3\"], \"y\": [0.0, 0.0, 0.0, 0.0, 0.0, 0.0, 0.0], \"type\": \"bar\", \"uid\": \"50d0e5fe-c559-11e8-97d0-a81e84e6c740\"}, {\"name\": \"\\u5206\\u6790\\u4e00\\u7ec4_\\u53cd\\u9988\\u5ef6\\u671f\\u4e2a\\u6027\\u5316\\u6570\", \"x\": [\"8-1\", \"8-2\", \"8-3\", \"8-4\", \"9-1\", \"9-2\", \"9-3\"], \"y\": [0.0, 0.0, 0.0, 1.0, 2.0, 0.0, 0.0], \"type\": \"bar\", \"uid\": \"50d0e810-c559-11e8-97d0-a81e84e6c740\"}, {\"name\": \"\\u5206\\u6790\\u4e8c\\u7ec4_24h\\u5185\\u672a\\u5b8c\\u6210\\u6570\\u636e\\u53cd\\u9988\\u9879\\u76ee\\u6570\", \"x\": [\"8-1\", \"8-2\", \"8-3\", \"8-4\", \"9-1\", \"9-2\", \"9-3\"], \"y\": [1.0, 0.0, 0.0, 1.0, 0.0, 0.0, 1.0], \"type\": \"bar\", \"uid\": \"50d0ea0e-c559-11e8-97d0-a81e84e6c740\"}, {\"name\": \"\\u5206\\u6790\\u4e8c\\u7ec4_\\u53cd\\u9988\\u5ef6\\u671f\\u4e2a\\u6027\\u5316\\u6570\", \"x\": [\"8-1\", \"8-2\", \"8-3\", \"8-4\", \"9-1\", \"9-2\", \"9-3\"], \"y\": [0.0, 0.0, 0.0, 0.0, 0.0, 0.0, 0.0], \"type\": \"bar\", \"uid\": \"50d0ebf8-c559-11e8-97d0-a81e84e6c740\"}], {\"barmode\": \"stack\", \"title\": \"24h\\u5185\\u672a\\u5b8c\\u6210\\u6570\\u636e\\u53cd\\u9988\\u9879\\u76ee\\u6570&\\u53cd\\u9988\\u5ef6\\u671f\\u4e2a\\u6027\\u5316\\u6570\\u5468\\u8d8b\\u52bf\\u56fe\", \"xaxis\": {\"mirror\": \"all\", \"nticks\": 20, \"showgrid\": true, \"showline\": true, \"title\": \"\\u5468\", \"zeroline\": true}, \"yaxis\": {\"mirror\": \"all\", \"nticks\": 20, \"showgrid\": true, \"showline\": true, \"title\": \"24h\\u5185\\u672a\\u5b8c\\u6210\\u6570\\u636e\\u53cd\\u9988\\u9879\\u76ee\\u6570&\\u53cd\\u9988\\u5ef6\\u671f\\u4e2a\\u6027\\u5316\\u6570\", \"zeroline\": true}}, {\"showLink\": true, \"linkText\": \"Export to plot.ly\"})});</script>"
      ]
     },
     "metadata": {},
     "output_type": "display_data"
    }
   ],
   "source": [
    "data_dict = {'24h内未完成数据反馈项目数':['24h内未完成数据反馈项目数'],\n",
    "             '反馈延期个性化数':['反馈延期个性化数']}\n",
    "myModule.plot( all_dict, data_dict, '人员','stack_bar' , total=True ,time_list = time_list)\n",
    "myModule.plot( all_dict, data_dict, '组别','stack_bar' , time_list = time_list)"
   ]
  },
  {
   "cell_type": "markdown",
   "metadata": {},
   "source": [
    "### 反馈延期率"
   ]
  },
  {
   "cell_type": "code",
   "execution_count": 92,
   "metadata": {},
   "outputs": [
    {
     "data": {
      "application/vnd.plotly.v1+json": {
       "data": [
        {
         "name": "数据反馈延期率",
         "type": "scatter",
         "uid": "50f06ea6-c559-11e8-97d0-a81e84e6c740",
         "x": [
          "8-1",
          "8-2",
          "8-3",
          "8-4",
          "9-1",
          "9-2",
          "9-3"
         ],
         "y": [
          0.01818181818181818,
          0,
          0,
          0.022222222222222223,
          0,
          0,
          0.03125
         ]
        },
        {
         "name": "个性化反馈延期率",
         "type": "scatter",
         "uid": "50f07202-c559-11e8-97d0-a81e84e6c740",
         "x": [
          "8-1",
          "8-2",
          "8-3",
          "8-4",
          "9-1",
          "9-2",
          "9-3"
         ],
         "y": [
          0,
          0.03333333333333333,
          0,
          0.021739130434782608,
          0.058823529411764705,
          0,
          0
         ]
        }
       ],
       "layout": {
        "title": "数据反馈延期率&个性化反馈延期率周趋势图",
        "xaxis": {
         "mirror": "all",
         "nticks": 20,
         "showgrid": true,
         "showline": true,
         "title": "周",
         "zeroline": true
        },
        "yaxis": {
         "mirror": "all",
         "nticks": 20,
         "showgrid": true,
         "showline": true,
         "title": "数据反馈延期率&个性化反馈延期率",
         "zeroline": true
        }
       }
      },
      "text/html": [
       "<div id=\"c2f0be23-97da-4ffe-8a0c-41da45412a59\" style=\"height: 525px; width: 100%;\" class=\"plotly-graph-div\"></div><script type=\"text/javascript\">require([\"plotly\"], function(Plotly) { window.PLOTLYENV=window.PLOTLYENV || {};window.PLOTLYENV.BASE_URL=\"https://plot.ly\";Plotly.newPlot(\"c2f0be23-97da-4ffe-8a0c-41da45412a59\", [{\"name\": \"\\u6570\\u636e\\u53cd\\u9988\\u5ef6\\u671f\\u7387\", \"x\": [\"8-1\", \"8-2\", \"8-3\", \"8-4\", \"9-1\", \"9-2\", \"9-3\"], \"y\": [0.01818181818181818, 0.0, 0.0, 0.022222222222222223, 0.0, 0.0, 0.03125], \"type\": \"scatter\", \"uid\": \"50f06ea6-c559-11e8-97d0-a81e84e6c740\"}, {\"name\": \"\\u4e2a\\u6027\\u5316\\u53cd\\u9988\\u5ef6\\u671f\\u7387\", \"x\": [\"8-1\", \"8-2\", \"8-3\", \"8-4\", \"9-1\", \"9-2\", \"9-3\"], \"y\": [0.0, 0.03333333333333333, 0.0, 0.021739130434782608, 0.058823529411764705, 0.0, 0.0], \"type\": \"scatter\", \"uid\": \"50f07202-c559-11e8-97d0-a81e84e6c740\"}], {\"title\": \"\\u6570\\u636e\\u53cd\\u9988\\u5ef6\\u671f\\u7387&\\u4e2a\\u6027\\u5316\\u53cd\\u9988\\u5ef6\\u671f\\u7387\\u5468\\u8d8b\\u52bf\\u56fe\", \"xaxis\": {\"mirror\": \"all\", \"nticks\": 20, \"showgrid\": true, \"showline\": true, \"title\": \"\\u5468\", \"zeroline\": true}, \"yaxis\": {\"mirror\": \"all\", \"nticks\": 20, \"showgrid\": true, \"showline\": true, \"title\": \"\\u6570\\u636e\\u53cd\\u9988\\u5ef6\\u671f\\u7387&\\u4e2a\\u6027\\u5316\\u53cd\\u9988\\u5ef6\\u671f\\u7387\", \"zeroline\": true}}, {\"showLink\": true, \"linkText\": \"Export to plot.ly\"})});</script>"
      ],
      "text/vnd.plotly.v1+html": [
       "<div id=\"c2f0be23-97da-4ffe-8a0c-41da45412a59\" style=\"height: 525px; width: 100%;\" class=\"plotly-graph-div\"></div><script type=\"text/javascript\">require([\"plotly\"], function(Plotly) { window.PLOTLYENV=window.PLOTLYENV || {};window.PLOTLYENV.BASE_URL=\"https://plot.ly\";Plotly.newPlot(\"c2f0be23-97da-4ffe-8a0c-41da45412a59\", [{\"name\": \"\\u6570\\u636e\\u53cd\\u9988\\u5ef6\\u671f\\u7387\", \"x\": [\"8-1\", \"8-2\", \"8-3\", \"8-4\", \"9-1\", \"9-2\", \"9-3\"], \"y\": [0.01818181818181818, 0.0, 0.0, 0.022222222222222223, 0.0, 0.0, 0.03125], \"type\": \"scatter\", \"uid\": \"50f06ea6-c559-11e8-97d0-a81e84e6c740\"}, {\"name\": \"\\u4e2a\\u6027\\u5316\\u53cd\\u9988\\u5ef6\\u671f\\u7387\", \"x\": [\"8-1\", \"8-2\", \"8-3\", \"8-4\", \"9-1\", \"9-2\", \"9-3\"], \"y\": [0.0, 0.03333333333333333, 0.0, 0.021739130434782608, 0.058823529411764705, 0.0, 0.0], \"type\": \"scatter\", \"uid\": \"50f07202-c559-11e8-97d0-a81e84e6c740\"}], {\"title\": \"\\u6570\\u636e\\u53cd\\u9988\\u5ef6\\u671f\\u7387&\\u4e2a\\u6027\\u5316\\u53cd\\u9988\\u5ef6\\u671f\\u7387\\u5468\\u8d8b\\u52bf\\u56fe\", \"xaxis\": {\"mirror\": \"all\", \"nticks\": 20, \"showgrid\": true, \"showline\": true, \"title\": \"\\u5468\", \"zeroline\": true}, \"yaxis\": {\"mirror\": \"all\", \"nticks\": 20, \"showgrid\": true, \"showline\": true, \"title\": \"\\u6570\\u636e\\u53cd\\u9988\\u5ef6\\u671f\\u7387&\\u4e2a\\u6027\\u5316\\u53cd\\u9988\\u5ef6\\u671f\\u7387\", \"zeroline\": true}}, {\"showLink\": true, \"linkText\": \"Export to plot.ly\"})});</script>"
      ]
     },
     "metadata": {},
     "output_type": "display_data"
    }
   ],
   "source": [
    "data_dict = {'数据反馈延期率':['24h内未完成数据反馈项目数', '下机项目数'], '个性化反馈延期率':['反馈延期个性化数', '接入个性化数']}\n",
    "myModule.plot( all_dict, data_dict, '人员' ,  'line' , total=True,time_list = time_list)"
   ]
  },
  {
   "cell_type": "markdown",
   "metadata": {},
   "source": [
    "## 交付延期率"
   ]
  },
  {
   "cell_type": "markdown",
   "metadata": {},
   "source": [
    "### 分析组交付延期率"
   ]
  },
  {
   "cell_type": "code",
   "execution_count": 93,
   "metadata": {},
   "outputs": [
    {
     "data": {
      "application/vnd.plotly.v1+json": {
       "data": [
        {
         "name": "交付延期率",
         "type": "scatter",
         "uid": "510c99e6-c559-11e8-97d0-a81e84e6c740",
         "x": [
          "8-1",
          "8-2",
          "8-3",
          "8-4",
          "9-1",
          "9-2",
          "9-3"
         ],
         "y": [
          0,
          0,
          0,
          0,
          0,
          0,
          0
         ]
        }
       ],
       "layout": {
        "title": "交付延期率周趋势图",
        "xaxis": {
         "mirror": "all",
         "nticks": 20,
         "showgrid": true,
         "showline": true,
         "title": "周",
         "zeroline": true
        },
        "yaxis": {
         "mirror": "all",
         "nticks": 20,
         "showgrid": true,
         "showline": true,
         "title": "交付延期率",
         "zeroline": true
        }
       }
      },
      "text/html": [
       "<div id=\"454d2e73-681a-493c-93ae-a338e538ca9a\" style=\"height: 525px; width: 100%;\" class=\"plotly-graph-div\"></div><script type=\"text/javascript\">require([\"plotly\"], function(Plotly) { window.PLOTLYENV=window.PLOTLYENV || {};window.PLOTLYENV.BASE_URL=\"https://plot.ly\";Plotly.newPlot(\"454d2e73-681a-493c-93ae-a338e538ca9a\", [{\"name\": \"\\u4ea4\\u4ed8\\u5ef6\\u671f\\u7387\", \"x\": [\"8-1\", \"8-2\", \"8-3\", \"8-4\", \"9-1\", \"9-2\", \"9-3\"], \"y\": [0.0, 0.0, 0.0, 0.0, 0.0, 0.0, 0.0], \"type\": \"scatter\", \"uid\": \"510c99e6-c559-11e8-97d0-a81e84e6c740\"}], {\"title\": \"\\u4ea4\\u4ed8\\u5ef6\\u671f\\u7387\\u5468\\u8d8b\\u52bf\\u56fe\", \"xaxis\": {\"mirror\": \"all\", \"nticks\": 20, \"showgrid\": true, \"showline\": true, \"title\": \"\\u5468\", \"zeroline\": true}, \"yaxis\": {\"mirror\": \"all\", \"nticks\": 20, \"showgrid\": true, \"showline\": true, \"title\": \"\\u4ea4\\u4ed8\\u5ef6\\u671f\\u7387\", \"zeroline\": true}}, {\"showLink\": true, \"linkText\": \"Export to plot.ly\"})});</script>"
      ],
      "text/vnd.plotly.v1+html": [
       "<div id=\"454d2e73-681a-493c-93ae-a338e538ca9a\" style=\"height: 525px; width: 100%;\" class=\"plotly-graph-div\"></div><script type=\"text/javascript\">require([\"plotly\"], function(Plotly) { window.PLOTLYENV=window.PLOTLYENV || {};window.PLOTLYENV.BASE_URL=\"https://plot.ly\";Plotly.newPlot(\"454d2e73-681a-493c-93ae-a338e538ca9a\", [{\"name\": \"\\u4ea4\\u4ed8\\u5ef6\\u671f\\u7387\", \"x\": [\"8-1\", \"8-2\", \"8-3\", \"8-4\", \"9-1\", \"9-2\", \"9-3\"], \"y\": [0.0, 0.0, 0.0, 0.0, 0.0, 0.0, 0.0], \"type\": \"scatter\", \"uid\": \"510c99e6-c559-11e8-97d0-a81e84e6c740\"}], {\"title\": \"\\u4ea4\\u4ed8\\u5ef6\\u671f\\u7387\\u5468\\u8d8b\\u52bf\\u56fe\", \"xaxis\": {\"mirror\": \"all\", \"nticks\": 20, \"showgrid\": true, \"showline\": true, \"title\": \"\\u5468\", \"zeroline\": true}, \"yaxis\": {\"mirror\": \"all\", \"nticks\": 20, \"showgrid\": true, \"showline\": true, \"title\": \"\\u4ea4\\u4ed8\\u5ef6\\u671f\\u7387\", \"zeroline\": true}}, {\"showLink\": true, \"linkText\": \"Export to plot.ly\"})});</script>"
      ]
     },
     "metadata": {},
     "output_type": "display_data"
    }
   ],
   "source": [
    "data_dict = {'交付延期率':['24h内未完成数据交付项目数', '待交付项目数']}\n",
    "myModule.plot( all_dict, data_dict, '人员' ,  'line' , total=True,time_list = time_list)"
   ]
  },
  {
   "cell_type": "markdown",
   "metadata": {},
   "source": [
    "### 各组交付延期率"
   ]
  },
  {
   "cell_type": "code",
   "execution_count": 94,
   "metadata": {},
   "outputs": [
    {
     "data": {
      "application/vnd.plotly.v1+json": {
       "data": [
        {
         "name": "个性化组",
         "type": "scatter",
         "uid": "51334a46-c559-11e8-97d0-a81e84e6c740",
         "x": [
          "8-1",
          "8-2",
          "8-3",
          "8-4",
          "9-1",
          "9-2",
          "9-3"
         ],
         "y": [
          null,
          null,
          null,
          null,
          null,
          null,
          0
         ]
        },
        {
         "name": "分析一组",
         "type": "scatter",
         "uid": "51334dde-c559-11e8-97d0-a81e84e6c740",
         "x": [
          "8-1",
          "8-2",
          "8-3",
          "8-4",
          "9-1",
          "9-2",
          "9-3"
         ],
         "y": [
          0,
          0,
          0,
          0,
          0,
          0,
          0
         ]
        },
        {
         "name": "分析二组",
         "type": "scatter",
         "uid": "51335036-c559-11e8-97d0-a81e84e6c740",
         "x": [
          "8-1",
          "8-2",
          "8-3",
          "8-4",
          "9-1",
          "9-2",
          "9-3"
         ],
         "y": [
          0,
          0,
          0,
          0,
          0,
          0,
          0
         ]
        }
       ],
       "layout": {
        "title": "交付延期率周趋势图",
        "xaxis": {
         "mirror": "all",
         "nticks": 20,
         "showgrid": true,
         "showline": true,
         "title": "周",
         "zeroline": true
        },
        "yaxis": {
         "mirror": "all",
         "nticks": 20,
         "showgrid": true,
         "showline": true,
         "title": "交付延期率",
         "zeroline": true
        }
       }
      },
      "text/html": [
       "<div id=\"563b52e1-34c0-41bf-8033-7323a90a3387\" style=\"height: 525px; width: 100%;\" class=\"plotly-graph-div\"></div><script type=\"text/javascript\">require([\"plotly\"], function(Plotly) { window.PLOTLYENV=window.PLOTLYENV || {};window.PLOTLYENV.BASE_URL=\"https://plot.ly\";Plotly.newPlot(\"563b52e1-34c0-41bf-8033-7323a90a3387\", [{\"name\": \"\\u4e2a\\u6027\\u5316\\u7ec4\", \"x\": [\"8-1\", \"8-2\", \"8-3\", \"8-4\", \"9-1\", \"9-2\", \"9-3\"], \"y\": [null, null, null, null, null, null, 0.0], \"type\": \"scatter\", \"uid\": \"51334a46-c559-11e8-97d0-a81e84e6c740\"}, {\"name\": \"\\u5206\\u6790\\u4e00\\u7ec4\", \"x\": [\"8-1\", \"8-2\", \"8-3\", \"8-4\", \"9-1\", \"9-2\", \"9-3\"], \"y\": [0.0, 0.0, 0.0, 0.0, 0.0, 0.0, 0.0], \"type\": \"scatter\", \"uid\": \"51334dde-c559-11e8-97d0-a81e84e6c740\"}, {\"name\": \"\\u5206\\u6790\\u4e8c\\u7ec4\", \"x\": [\"8-1\", \"8-2\", \"8-3\", \"8-4\", \"9-1\", \"9-2\", \"9-3\"], \"y\": [0.0, 0.0, 0.0, 0.0, 0.0, 0.0, 0.0], \"type\": \"scatter\", \"uid\": \"51335036-c559-11e8-97d0-a81e84e6c740\"}], {\"title\": \"\\u4ea4\\u4ed8\\u5ef6\\u671f\\u7387\\u5468\\u8d8b\\u52bf\\u56fe\", \"xaxis\": {\"mirror\": \"all\", \"nticks\": 20, \"showgrid\": true, \"showline\": true, \"title\": \"\\u5468\", \"zeroline\": true}, \"yaxis\": {\"mirror\": \"all\", \"nticks\": 20, \"showgrid\": true, \"showline\": true, \"title\": \"\\u4ea4\\u4ed8\\u5ef6\\u671f\\u7387\", \"zeroline\": true}}, {\"showLink\": true, \"linkText\": \"Export to plot.ly\"})});</script>"
      ],
      "text/vnd.plotly.v1+html": [
       "<div id=\"563b52e1-34c0-41bf-8033-7323a90a3387\" style=\"height: 525px; width: 100%;\" class=\"plotly-graph-div\"></div><script type=\"text/javascript\">require([\"plotly\"], function(Plotly) { window.PLOTLYENV=window.PLOTLYENV || {};window.PLOTLYENV.BASE_URL=\"https://plot.ly\";Plotly.newPlot(\"563b52e1-34c0-41bf-8033-7323a90a3387\", [{\"name\": \"\\u4e2a\\u6027\\u5316\\u7ec4\", \"x\": [\"8-1\", \"8-2\", \"8-3\", \"8-4\", \"9-1\", \"9-2\", \"9-3\"], \"y\": [null, null, null, null, null, null, 0.0], \"type\": \"scatter\", \"uid\": \"51334a46-c559-11e8-97d0-a81e84e6c740\"}, {\"name\": \"\\u5206\\u6790\\u4e00\\u7ec4\", \"x\": [\"8-1\", \"8-2\", \"8-3\", \"8-4\", \"9-1\", \"9-2\", \"9-3\"], \"y\": [0.0, 0.0, 0.0, 0.0, 0.0, 0.0, 0.0], \"type\": \"scatter\", \"uid\": \"51334dde-c559-11e8-97d0-a81e84e6c740\"}, {\"name\": \"\\u5206\\u6790\\u4e8c\\u7ec4\", \"x\": [\"8-1\", \"8-2\", \"8-3\", \"8-4\", \"9-1\", \"9-2\", \"9-3\"], \"y\": [0.0, 0.0, 0.0, 0.0, 0.0, 0.0, 0.0], \"type\": \"scatter\", \"uid\": \"51335036-c559-11e8-97d0-a81e84e6c740\"}], {\"title\": \"\\u4ea4\\u4ed8\\u5ef6\\u671f\\u7387\\u5468\\u8d8b\\u52bf\\u56fe\", \"xaxis\": {\"mirror\": \"all\", \"nticks\": 20, \"showgrid\": true, \"showline\": true, \"title\": \"\\u5468\", \"zeroline\": true}, \"yaxis\": {\"mirror\": \"all\", \"nticks\": 20, \"showgrid\": true, \"showline\": true, \"title\": \"\\u4ea4\\u4ed8\\u5ef6\\u671f\\u7387\", \"zeroline\": true}}, {\"showLink\": true, \"linkText\": \"Export to plot.ly\"})});</script>"
      ]
     },
     "metadata": {},
     "output_type": "display_data"
    }
   ],
   "source": [
    "data_dict = {'交付延期率':['24h内未完成数据交付项目数', '待交付项目数']}\n",
    "myModule.plot( all_dict, data_dict, '组别' ,  'line' , time_list = time_list)"
   ]
  }
 ],
 "metadata": {
  "hide_input": false,
  "kernelspec": {
   "display_name": "Python 3",
   "language": "python",
   "name": "python3"
  },
  "language_info": {
   "codemirror_mode": {
    "name": "ipython",
    "version": 3
   },
   "file_extension": ".py",
   "mimetype": "text/x-python",
   "name": "python",
   "nbconvert_exporter": "python",
   "pygments_lexer": "ipython3",
   "version": "3.6.6"
  },
  "toc": {
   "base_numbering": 1,
   "nav_menu": {
    "height": "247px",
    "width": "215px"
   },
   "number_sections": true,
   "sideBar": true,
   "skip_h1_title": false,
   "title_cell": "Table of Contents",
   "title_sidebar": "Contents",
   "toc_cell": false,
   "toc_position": {
    "height": "calc(100% - 180px)",
    "left": "10px",
    "top": "150px",
    "width": "270.5px"
   },
   "toc_section_display": true,
   "toc_window_display": true
  },
  "widgets": {
   "application/vnd.jupyter.widget-state+json": {
    "state": {},
    "version_major": 2,
    "version_minor": 0
   }
  }
 },
 "nbformat": 4,
 "nbformat_minor": 2
}
