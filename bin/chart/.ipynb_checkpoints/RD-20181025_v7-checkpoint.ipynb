{
 "cells": [
  {
   "cell_type": "code",
   "execution_count": 30,
   "metadata": {
    "collapsed": false,
    "hide_input": false
   },
   "outputs": [
    {
     "name": "stdout",
     "output_type": "stream",
     "text": [
      "The autoreload extension is already loaded. To reload it, use:\n",
      "  %reload_ext autoreload\n"
     ]
    }
   ],
   "source": [
    "%load_ext autoreload\n",
    "%autoreload 2\n",
    "import sys\n",
    "sys.path.append('./')\n",
    "import myModule as myModule"
   ]
  },
  {
   "cell_type": "code",
   "execution_count": 31,
   "metadata": {
    "collapsed": false
   },
   "outputs": [
    {
     "data": {
      "text/html": [
       "<script>requirejs.config({paths: { 'plotly': ['https://cdn.plot.ly/plotly-latest.min']},});if(!window.Plotly) {{require(['plotly'],function(plotly) {window.Plotly=plotly;});}}</script>"
      ],
      "text/vnd.plotly.v1+html": [
       "<script>requirejs.config({paths: { 'plotly': ['https://cdn.plot.ly/plotly-latest.min']},});if(!window.Plotly) {{require(['plotly'],function(plotly) {window.Plotly=plotly;});}}</script>"
      ]
     },
     "metadata": {},
     "output_type": "display_data"
    },
    {
     "data": {
      "text/plain": [
       "<module 'myModule' from '/home/jiankong/jupyter/chart/bin/chart/myModule.py'>"
      ]
     },
     "execution_count": 31,
     "metadata": {},
     "output_type": "execute_result"
    }
   ],
   "source": [
    "import imp\n",
    "imp.reload(myModule)"
   ]
  },
  {
   "cell_type": "markdown",
   "metadata": {},
   "source": [
    "# 研发组人员情况"
   ]
  },
  {
   "cell_type": "code",
   "execution_count": 52,
   "metadata": {
    "collapsed": false
   },
   "outputs": [
    {
     "name": "stdout",
     "output_type": "stream",
     "text": [
      "['../../data/RD/仪表盘-研发组-10-4.xlsx', '../../data/RD/仪表盘-研发组-10-2.xlsx', '../../data/RD/仪表盘-研发组-10-3.xlsx']\n",
      "    负责人       组别    日期  总下单数  完成下单数  应交高质量报告数  提交高质量报告数  延期项目数  暂停项目数  内部沟通  \\\n",
      "0   冯敬岩      分析组  10-4     1      0         0         0      0      0   0.0   \n",
      "1    刘江  生物学DNA组  10-4     6      6         0         0      2      0   0.0   \n",
      "2   陈鹏燕  生物学DNA组  10-4     4      4         0         0      1      0   0.0   \n",
      "3    马潇  生物学DNA组  10-4     7      7         0         0      0      0   0.0   \n",
      "4   杨伟飞  生物学DNA组  10-4     5      3         0         0      1      0   0.0   \n",
      "5    任雪  生物学DNA组  10-4     3      2         1         1      2      0   0.0   \n",
      "6    占伟  生物学DNA组  10-4     6      4         0         0      3      0   0.0   \n",
      "7   于勇一  生物学DNA组  10-4     4      4         0         0      0      0   0.0   \n",
      "8   林文文    义乌生信组  10-4     1      1         0         0      0      0   0.0   \n",
      "9   车天栋    义乌生信组  10-4     1      1         1         1      0      0   0.0   \n",
      "10  沈恩惠    义乌生信组  10-4     2      2         1         0      0      0   0.0   \n",
      "11  路慧萍   蛋白和医学组  10-4     8      8         0         0      0      0   0.0   \n",
      "12  封彦杰   蛋白和医学组  10-4     6      5         0         0      1      0   0.0   \n",
      "13  苏彦勋   蛋白和医学组  10-4     7      7         0         0      0      0   0.0   \n",
      "14  李庆原   蛋白和医学组  10-4     4      4         0         0      0      0   1.0   \n",
      "15   于慧   蛋白和医学组  10-4     8      8         0         0      0      0   0.0   \n",
      "16   周杨   蛋白和医学组  10-4     7      7         0         0      0      0   2.0   \n",
      "17   孟昊   蛋白和医学组  10-4     7      7         0         0      0      0   0.0   \n",
      "18  李华云   蛋白和医学组  10-4     6      4         0         0      2      0   0.0   \n",
      "19   王红       QC  10-4     1      1         0         0      0      0   0.0   \n",
      "20   张悦       QC  10-4     1      0         0         0      1      0   0.0   \n",
      "21   冷雪       QC  10-4     1      1         0         0      0      0   0.0   \n",
      "22  涂成芳       QC  10-4     1      1         0         0      0      0   0.0   \n",
      "23   屈昂       QC  10-4     1      1         0         0      0      0   0.0   \n",
      "24  昶吉阳    转录调控组  10-4     4      4         0         0      0      0   0.0   \n",
      "25  张守伟    转录调控组  10-4     4      3         0         0      0      0   0.0   \n",
      "26   赵玥    转录调控组  10-4     5      4         0         0      0      0   0.0   \n",
      "27  谢德健    转录调控组  10-4     4      4         0         0      0      0   0.0   \n",
      "28  范旭宁    转录调控组  10-4     4      4         0         0      0      0   0.0   \n",
      "29  姚盟成    转录调控组  10-4     4      4         0         0      0      0   4.0   \n",
      "..  ...      ...   ...   ...    ...       ...       ...    ...    ...   ...   \n",
      "13   冷雪       QC  10-2     2      2         0         0      0      0   NaN   \n",
      "14  范旭宁    转录调控组  10-2     5      2         0         0      0      0   NaN   \n",
      "15   赵玥    转录调控组  10-2     4      4         0         0      0      0   NaN   \n",
      "16  张守伟    转录调控组  10-2     3      2         0         0      0      0   NaN   \n",
      "17  段利强    转录调控组  10-2     3      1         0         0      0      0   NaN   \n",
      "18  韩少怀    转录调控组  10-2     4      4         0         0      0      0   NaN   \n",
      "19  谢德健    转录调控组  10-2     4      3         2         0      0      0   NaN   \n",
      "20  姚盟成    转录调控组  10-2     4      0         1         0      0      0   NaN   \n",
      "0   刘三阳  生物学DNA组  10-3     1      0         1         0      0      0   0.0   \n",
      "1    刘江  生物学DNA组  10-3     6      6         0         0      2      0   0.0   \n",
      "2   杨伟飞  生物学DNA组  10-3     4      4         1         0      0      0   0.0   \n",
      "3   于勇一  生物学DNA组  10-3     5      5         0         0      0      0   0.0   \n",
      "4    马潇  生物学DNA组  10-3     8      6         0         0      0      0   0.0   \n",
      "5   陈鹏燕  生物学DNA组  10-3     5      4         0         0      1      0   0.0   \n",
      "6    任雪  生物学DNA组  10-3     4      3         0         0      1      0   0.0   \n",
      "7    占伟  生物学DNA组  10-3     9      9         0         0      0      0   0.0   \n",
      "8   苏彦勋   蛋白和医学组  10-3     7      7         0         0      0      0   0.0   \n",
      "9   封彦杰   蛋白和医学组  10-3     6      6         0         0      0      0   0.0   \n",
      "10   于慧   蛋白和医学组  10-3     6      5         0         0      0      0   0.0   \n",
      "11   孟昊   蛋白和医学组  10-3     7      7         0         0      0      0   0.0   \n",
      "12  李庆原   蛋白和医学组  10-3     5      4         0         0      1      0   0.0   \n",
      "13  路慧萍   蛋白和医学组  10-3     6      6         0         0      0      0   0.0   \n",
      "14   周杨   蛋白和医学组  10-3     3      0         0         0      0      0   0.0   \n",
      "15  谢德健    转录调控组  10-3     3      2         0         0      0      0   0.0   \n",
      "16  张守伟    转录调控组  10-3     3      3         0         0      0      0   0.0   \n",
      "17   赵玥    转录调控组  10-3     6      6         2         0      0      0   0.0   \n",
      "18  姚盟成    转录调控组  10-3     3      2         0         0      0      0   0.0   \n",
      "19  韩少怀    转录调控组  10-3     5      5         0         0      0      0   0.0   \n",
      "20  范旭宁    转录调控组  10-3     3      3         1         0      0      0   0.0   \n",
      "21  昶吉阳    转录调控组  10-3     1      0         0         0      0      0   0.0   \n",
      "\n",
      "    市场支持   出差  禅道bug  month  \n",
      "0    0.0  0.0    0.0     10  \n",
      "1    0.0  0.0    0.0     10  \n",
      "2    0.0  0.0    0.0     10  \n",
      "3    0.0  1.0    0.0     10  \n",
      "4    0.0  0.0    0.0     10  \n",
      "5    0.0  0.0    0.0     10  \n",
      "6    0.0  0.0    0.0     10  \n",
      "7    0.0  0.0    0.0     10  \n",
      "8    0.0  0.0    0.0     10  \n",
      "9    0.0  0.0    0.0     10  \n",
      "10   0.0  0.0    0.0     10  \n",
      "11   0.0  0.0    0.0     10  \n",
      "12   0.0  0.0    0.0     10  \n",
      "13   0.0  1.0    0.0     10  \n",
      "14   0.0  0.0    0.0     10  \n",
      "15   0.0  0.0    0.0     10  \n",
      "16   0.0  0.0    0.0     10  \n",
      "17   0.0  0.0    0.0     10  \n",
      "18   0.0  0.0    0.0     10  \n",
      "19   0.0  0.0    0.0     10  \n",
      "20   0.0  0.0    0.0     10  \n",
      "21   0.0  0.0    0.0     10  \n",
      "22   0.0  0.0    0.0     10  \n",
      "23   0.0  0.0    0.0     10  \n",
      "24   0.0  0.0    0.0     10  \n",
      "25   0.0  0.0    0.0     10  \n",
      "26   0.0  0.0    0.0     10  \n",
      "27   0.0  0.0    0.0     10  \n",
      "28   0.0  0.0    0.0     10  \n",
      "29   0.0  0.0    1.0     10  \n",
      "..   ...  ...    ...    ...  \n",
      "13   NaN  NaN    NaN     10  \n",
      "14   NaN  NaN    NaN     10  \n",
      "15   NaN  NaN    NaN     10  \n",
      "16   NaN  NaN    NaN     10  \n",
      "17   NaN  NaN    NaN     10  \n",
      "18   NaN  NaN    NaN     10  \n",
      "19   NaN  NaN    NaN     10  \n",
      "20   NaN  NaN    NaN     10  \n",
      "0    0.0  0.0    0.0     10  \n",
      "1    1.0  1.0    0.0     10  \n",
      "2    1.0  1.0    0.0     10  \n",
      "3    0.0  0.0    0.0     10  \n",
      "4    0.0  0.0    0.0     10  \n",
      "5    0.0  0.0    0.0     10  \n",
      "6    1.0  1.0    0.0     10  \n",
      "7    1.0  0.0    0.0     10  \n",
      "8    0.0  0.0    0.0     10  \n",
      "9    0.0  0.0    0.0     10  \n",
      "10   0.0  0.0    0.0     10  \n",
      "11   0.0  0.0    0.0     10  \n",
      "12   0.0  0.0    0.0     10  \n",
      "13   0.0  0.0    0.0     10  \n",
      "14   0.0  0.0    0.0     10  \n",
      "15   0.0  0.0    0.0     10  \n",
      "16   0.0  0.0    0.0     10  \n",
      "17   0.0  0.0    0.0     10  \n",
      "18   1.0  1.0    1.0     10  \n",
      "19   0.0  0.0    0.0     10  \n",
      "20   0.0  0.0    0.0     10  \n",
      "21   0.0  0.0    0.0     10  \n",
      "\n",
      "[74 rows x 14 columns]\n"
     ]
    }
   ],
   "source": [
    "#路径末尾不能包含斜线\n",
    "pathway = \"../../data/RD/\"\n",
    "all_files , title = myModule.get_title(pathway , 0)##给路径\n",
    "all_files = [f for f in all_files if \"-9-\" not in f and \"-8-\" not in f]\n",
    "print(all_files)\n",
    "all_dict = myModule.read_xlsx(all_files, 0 ) ## 读取所有文件的sheet1\n",
    "print(all_dict)"
   ]
  },
  {
   "cell_type": "markdown",
   "metadata": {
    "hide_input": true
   },
   "source": [
    "## 整体情况"
   ]
  },
  {
   "cell_type": "markdown",
   "metadata": {},
   "source": [
    "### 下单整体情况"
   ]
  },
  {
   "cell_type": "markdown",
   "metadata": {},
   "source": [
    "\n",
    "#### 总下单数和完成下单数\n"
   ]
  },
  {
   "cell_type": "code",
   "execution_count": 33,
   "metadata": {
    "collapsed": false
   },
   "outputs": [
    {
     "data": {
      "application/vnd.plotly.v1+json": {
       "data": [
        {
         "name": "总下单数",
         "type": "scatter",
         "uid": "55a91cb2-dbfd-11e8-8ddb-a41f72875c19",
         "x": [
          "10-2",
          "10-3",
          "10-4"
         ],
         "y": [
          110,
          106,
          127
         ]
        },
        {
         "name": "完成下单数",
         "type": "scatter",
         "uid": "55a91cb3-dbfd-11e8-8ddb-a41f72875c19",
         "x": [
          "10-2",
          "10-3",
          "10-4"
         ],
         "y": [
          87,
          93,
          115
         ]
        }
       ],
       "layout": {
        "title": "总下单数&完成下单数周趋势图",
        "xaxis": {
         "mirror": "all",
         "nticks": 20,
         "showgrid": true,
         "showline": true,
         "title": "周",
         "type": "category",
         "zeroline": true
        },
        "yaxis": {
         "mirror": "all",
         "nticks": 20,
         "showgrid": true,
         "showline": true,
         "title": "总下单数&完成下单数",
         "zeroline": true
        }
       }
      },
      "text/html": [
       "<div id=\"e366d09e-702e-4986-8e35-766a40309d39\" style=\"height: 525px; width: 100%;\" class=\"plotly-graph-div\"></div><script type=\"text/javascript\">require([\"plotly\"], function(Plotly) { window.PLOTLYENV=window.PLOTLYENV || {};window.PLOTLYENV.BASE_URL=\"https://plot.ly\";Plotly.newPlot(\"e366d09e-702e-4986-8e35-766a40309d39\", [{\"name\": \"\\u603b\\u4e0b\\u5355\\u6570\", \"x\": [\"10-2\", \"10-3\", \"10-4\"], \"y\": [110, 106, 127], \"type\": \"scatter\", \"uid\": \"55a91cb2-dbfd-11e8-8ddb-a41f72875c19\"}, {\"name\": \"\\u5b8c\\u6210\\u4e0b\\u5355\\u6570\", \"x\": [\"10-2\", \"10-3\", \"10-4\"], \"y\": [87, 93, 115], \"type\": \"scatter\", \"uid\": \"55a91cb3-dbfd-11e8-8ddb-a41f72875c19\"}], {\"title\": \"\\u603b\\u4e0b\\u5355\\u6570&\\u5b8c\\u6210\\u4e0b\\u5355\\u6570\\u5468\\u8d8b\\u52bf\\u56fe\", \"xaxis\": {\"mirror\": \"all\", \"nticks\": 20, \"showgrid\": true, \"showline\": true, \"title\": \"\\u5468\", \"type\": \"category\", \"zeroline\": true}, \"yaxis\": {\"mirror\": \"all\", \"nticks\": 20, \"showgrid\": true, \"showline\": true, \"title\": \"\\u603b\\u4e0b\\u5355\\u6570&\\u5b8c\\u6210\\u4e0b\\u5355\\u6570\", \"zeroline\": true}}, {\"showLink\": true, \"linkText\": \"Export to plot.ly\"})});</script>"
      ],
      "text/vnd.plotly.v1+html": [
       "<div id=\"e366d09e-702e-4986-8e35-766a40309d39\" style=\"height: 525px; width: 100%;\" class=\"plotly-graph-div\"></div><script type=\"text/javascript\">require([\"plotly\"], function(Plotly) { window.PLOTLYENV=window.PLOTLYENV || {};window.PLOTLYENV.BASE_URL=\"https://plot.ly\";Plotly.newPlot(\"e366d09e-702e-4986-8e35-766a40309d39\", [{\"name\": \"\\u603b\\u4e0b\\u5355\\u6570\", \"x\": [\"10-2\", \"10-3\", \"10-4\"], \"y\": [110, 106, 127], \"type\": \"scatter\", \"uid\": \"55a91cb2-dbfd-11e8-8ddb-a41f72875c19\"}, {\"name\": \"\\u5b8c\\u6210\\u4e0b\\u5355\\u6570\", \"x\": [\"10-2\", \"10-3\", \"10-4\"], \"y\": [87, 93, 115], \"type\": \"scatter\", \"uid\": \"55a91cb3-dbfd-11e8-8ddb-a41f72875c19\"}], {\"title\": \"\\u603b\\u4e0b\\u5355\\u6570&\\u5b8c\\u6210\\u4e0b\\u5355\\u6570\\u5468\\u8d8b\\u52bf\\u56fe\", \"xaxis\": {\"mirror\": \"all\", \"nticks\": 20, \"showgrid\": true, \"showline\": true, \"title\": \"\\u5468\", \"type\": \"category\", \"zeroline\": true}, \"yaxis\": {\"mirror\": \"all\", \"nticks\": 20, \"showgrid\": true, \"showline\": true, \"title\": \"\\u603b\\u4e0b\\u5355\\u6570&\\u5b8c\\u6210\\u4e0b\\u5355\\u6570\", \"zeroline\": true}}, {\"showLink\": true, \"linkText\": \"Export to plot.ly\"})});</script>"
      ]
     },
     "metadata": {},
     "output_type": "display_data"
    }
   ],
   "source": [
    "##myModule.format(数据矩阵 ,区分依据,横坐标（例如日期、负责人）,需要统计的列名（例如总下单数）)\n",
    "#例如：\n",
    "#ss=myModule.format(all_dict ,\"日期\" ,['负责人'])\n",
    "#tt.plot('line')\n",
    "ss=myModule.format(all_dict ,\"日期\" ,['总下单数','完成下单数'])\n",
    "tt = myModule.myPlot(ss.groupby('sum'))\n",
    "tt.plot('line')"
   ]
  },
  {
   "cell_type": "markdown",
   "metadata": {
    "hide_input": true
   },
   "source": [
    "### 高质量报告整体情况"
   ]
  },
  {
   "cell_type": "markdown",
   "metadata": {},
   "source": [
    "#### 应交高质量报告数和提交高质量报告数"
   ]
  },
  {
   "cell_type": "code",
   "execution_count": 34,
   "metadata": {
    "collapsed": false
   },
   "outputs": [
    {
     "data": {
      "application/vnd.plotly.v1+json": {
       "data": [
        {
         "name": "应交高质量报告数",
         "type": "scatter",
         "uid": "55a91cb4-dbfd-11e8-8ddb-a41f72875c19",
         "x": [
          "10-2",
          "10-3",
          "10-4"
         ],
         "y": [
          12,
          5,
          3
         ]
        },
        {
         "name": "提交高质量报告数",
         "type": "scatter",
         "uid": "55a91cb5-dbfd-11e8-8ddb-a41f72875c19",
         "x": [
          "10-2",
          "10-3",
          "10-4"
         ],
         "y": [
          1,
          0,
          2
         ]
        }
       ],
       "layout": {
        "title": "应交高质量报告数&提交高质量报告数周趋势图",
        "xaxis": {
         "mirror": "all",
         "nticks": 20,
         "showgrid": true,
         "showline": true,
         "title": "周",
         "type": "category",
         "zeroline": true
        },
        "yaxis": {
         "mirror": "all",
         "nticks": 20,
         "showgrid": true,
         "showline": true,
         "title": "应交高质量报告数&提交高质量报告数",
         "zeroline": true
        }
       }
      },
      "text/html": [
       "<div id=\"9897acd5-9c15-44b6-bacc-35c7dab95285\" style=\"height: 525px; width: 100%;\" class=\"plotly-graph-div\"></div><script type=\"text/javascript\">require([\"plotly\"], function(Plotly) { window.PLOTLYENV=window.PLOTLYENV || {};window.PLOTLYENV.BASE_URL=\"https://plot.ly\";Plotly.newPlot(\"9897acd5-9c15-44b6-bacc-35c7dab95285\", [{\"name\": \"\\u5e94\\u4ea4\\u9ad8\\u8d28\\u91cf\\u62a5\\u544a\\u6570\", \"x\": [\"10-2\", \"10-3\", \"10-4\"], \"y\": [12, 5, 3], \"type\": \"scatter\", \"uid\": \"55a91cb4-dbfd-11e8-8ddb-a41f72875c19\"}, {\"name\": \"\\u63d0\\u4ea4\\u9ad8\\u8d28\\u91cf\\u62a5\\u544a\\u6570\", \"x\": [\"10-2\", \"10-3\", \"10-4\"], \"y\": [1, 0, 2], \"type\": \"scatter\", \"uid\": \"55a91cb5-dbfd-11e8-8ddb-a41f72875c19\"}], {\"title\": \"\\u5e94\\u4ea4\\u9ad8\\u8d28\\u91cf\\u62a5\\u544a\\u6570&\\u63d0\\u4ea4\\u9ad8\\u8d28\\u91cf\\u62a5\\u544a\\u6570\\u5468\\u8d8b\\u52bf\\u56fe\", \"xaxis\": {\"mirror\": \"all\", \"nticks\": 20, \"showgrid\": true, \"showline\": true, \"title\": \"\\u5468\", \"type\": \"category\", \"zeroline\": true}, \"yaxis\": {\"mirror\": \"all\", \"nticks\": 20, \"showgrid\": true, \"showline\": true, \"title\": \"\\u5e94\\u4ea4\\u9ad8\\u8d28\\u91cf\\u62a5\\u544a\\u6570&\\u63d0\\u4ea4\\u9ad8\\u8d28\\u91cf\\u62a5\\u544a\\u6570\", \"zeroline\": true}}, {\"showLink\": true, \"linkText\": \"Export to plot.ly\"})});</script>"
      ],
      "text/vnd.plotly.v1+html": [
       "<div id=\"9897acd5-9c15-44b6-bacc-35c7dab95285\" style=\"height: 525px; width: 100%;\" class=\"plotly-graph-div\"></div><script type=\"text/javascript\">require([\"plotly\"], function(Plotly) { window.PLOTLYENV=window.PLOTLYENV || {};window.PLOTLYENV.BASE_URL=\"https://plot.ly\";Plotly.newPlot(\"9897acd5-9c15-44b6-bacc-35c7dab95285\", [{\"name\": \"\\u5e94\\u4ea4\\u9ad8\\u8d28\\u91cf\\u62a5\\u544a\\u6570\", \"x\": [\"10-2\", \"10-3\", \"10-4\"], \"y\": [12, 5, 3], \"type\": \"scatter\", \"uid\": \"55a91cb4-dbfd-11e8-8ddb-a41f72875c19\"}, {\"name\": \"\\u63d0\\u4ea4\\u9ad8\\u8d28\\u91cf\\u62a5\\u544a\\u6570\", \"x\": [\"10-2\", \"10-3\", \"10-4\"], \"y\": [1, 0, 2], \"type\": \"scatter\", \"uid\": \"55a91cb5-dbfd-11e8-8ddb-a41f72875c19\"}], {\"title\": \"\\u5e94\\u4ea4\\u9ad8\\u8d28\\u91cf\\u62a5\\u544a\\u6570&\\u63d0\\u4ea4\\u9ad8\\u8d28\\u91cf\\u62a5\\u544a\\u6570\\u5468\\u8d8b\\u52bf\\u56fe\", \"xaxis\": {\"mirror\": \"all\", \"nticks\": 20, \"showgrid\": true, \"showline\": true, \"title\": \"\\u5468\", \"type\": \"category\", \"zeroline\": true}, \"yaxis\": {\"mirror\": \"all\", \"nticks\": 20, \"showgrid\": true, \"showline\": true, \"title\": \"\\u5e94\\u4ea4\\u9ad8\\u8d28\\u91cf\\u62a5\\u544a\\u6570&\\u63d0\\u4ea4\\u9ad8\\u8d28\\u91cf\\u62a5\\u544a\\u6570\", \"zeroline\": true}}, {\"showLink\": true, \"linkText\": \"Export to plot.ly\"})});</script>"
      ]
     },
     "metadata": {},
     "output_type": "display_data"
    }
   ],
   "source": [
    "ss=myModule.format(all_dict ,\"日期\" ,['应交高质量报告数','提交高质量报告数'])\n",
    "tt = myModule.myPlot(ss.groupby('sum'))\n",
    "tt.plot('line')"
   ]
  },
  {
   "cell_type": "markdown",
   "metadata": {
    "hide_input": true
   },
   "source": [
    "### 甘特图整体情况"
   ]
  },
  {
   "cell_type": "markdown",
   "metadata": {},
   "source": [
    "#### 延期项目数和暂停项目数"
   ]
  },
  {
   "cell_type": "code",
   "execution_count": 35,
   "metadata": {
    "collapsed": false
   },
   "outputs": [
    {
     "data": {
      "application/vnd.plotly.v1+json": {
       "data": [
        {
         "name": "延期项目数",
         "type": "scatter",
         "uid": "55a91cb6-dbfd-11e8-8ddb-a41f72875c19",
         "x": [
          "10-2",
          "10-3",
          "10-4"
         ],
         "y": [
          2,
          5,
          13
         ]
        },
        {
         "name": "暂停项目数",
         "type": "scatter",
         "uid": "55a91cb7-dbfd-11e8-8ddb-a41f72875c19",
         "x": [
          "10-2",
          "10-3",
          "10-4"
         ],
         "y": [
          0,
          0,
          0
         ]
        }
       ],
       "layout": {
        "title": "延期项目数&暂停项目数周趋势图",
        "xaxis": {
         "mirror": "all",
         "nticks": 20,
         "showgrid": true,
         "showline": true,
         "title": "周",
         "type": "category",
         "zeroline": true
        },
        "yaxis": {
         "mirror": "all",
         "nticks": 20,
         "showgrid": true,
         "showline": true,
         "title": "延期项目数&暂停项目数",
         "zeroline": true
        }
       }
      },
      "text/html": [
       "<div id=\"c79d0dbc-36aa-4b72-aeda-63d1a5e9be9b\" style=\"height: 525px; width: 100%;\" class=\"plotly-graph-div\"></div><script type=\"text/javascript\">require([\"plotly\"], function(Plotly) { window.PLOTLYENV=window.PLOTLYENV || {};window.PLOTLYENV.BASE_URL=\"https://plot.ly\";Plotly.newPlot(\"c79d0dbc-36aa-4b72-aeda-63d1a5e9be9b\", [{\"name\": \"\\u5ef6\\u671f\\u9879\\u76ee\\u6570\", \"x\": [\"10-2\", \"10-3\", \"10-4\"], \"y\": [2, 5, 13], \"type\": \"scatter\", \"uid\": \"55a91cb6-dbfd-11e8-8ddb-a41f72875c19\"}, {\"name\": \"\\u6682\\u505c\\u9879\\u76ee\\u6570\", \"x\": [\"10-2\", \"10-3\", \"10-4\"], \"y\": [0, 0, 0], \"type\": \"scatter\", \"uid\": \"55a91cb7-dbfd-11e8-8ddb-a41f72875c19\"}], {\"title\": \"\\u5ef6\\u671f\\u9879\\u76ee\\u6570&\\u6682\\u505c\\u9879\\u76ee\\u6570\\u5468\\u8d8b\\u52bf\\u56fe\", \"xaxis\": {\"mirror\": \"all\", \"nticks\": 20, \"showgrid\": true, \"showline\": true, \"title\": \"\\u5468\", \"type\": \"category\", \"zeroline\": true}, \"yaxis\": {\"mirror\": \"all\", \"nticks\": 20, \"showgrid\": true, \"showline\": true, \"title\": \"\\u5ef6\\u671f\\u9879\\u76ee\\u6570&\\u6682\\u505c\\u9879\\u76ee\\u6570\", \"zeroline\": true}}, {\"showLink\": true, \"linkText\": \"Export to plot.ly\"})});</script>"
      ],
      "text/vnd.plotly.v1+html": [
       "<div id=\"c79d0dbc-36aa-4b72-aeda-63d1a5e9be9b\" style=\"height: 525px; width: 100%;\" class=\"plotly-graph-div\"></div><script type=\"text/javascript\">require([\"plotly\"], function(Plotly) { window.PLOTLYENV=window.PLOTLYENV || {};window.PLOTLYENV.BASE_URL=\"https://plot.ly\";Plotly.newPlot(\"c79d0dbc-36aa-4b72-aeda-63d1a5e9be9b\", [{\"name\": \"\\u5ef6\\u671f\\u9879\\u76ee\\u6570\", \"x\": [\"10-2\", \"10-3\", \"10-4\"], \"y\": [2, 5, 13], \"type\": \"scatter\", \"uid\": \"55a91cb6-dbfd-11e8-8ddb-a41f72875c19\"}, {\"name\": \"\\u6682\\u505c\\u9879\\u76ee\\u6570\", \"x\": [\"10-2\", \"10-3\", \"10-4\"], \"y\": [0, 0, 0], \"type\": \"scatter\", \"uid\": \"55a91cb7-dbfd-11e8-8ddb-a41f72875c19\"}], {\"title\": \"\\u5ef6\\u671f\\u9879\\u76ee\\u6570&\\u6682\\u505c\\u9879\\u76ee\\u6570\\u5468\\u8d8b\\u52bf\\u56fe\", \"xaxis\": {\"mirror\": \"all\", \"nticks\": 20, \"showgrid\": true, \"showline\": true, \"title\": \"\\u5468\", \"type\": \"category\", \"zeroline\": true}, \"yaxis\": {\"mirror\": \"all\", \"nticks\": 20, \"showgrid\": true, \"showline\": true, \"title\": \"\\u5ef6\\u671f\\u9879\\u76ee\\u6570&\\u6682\\u505c\\u9879\\u76ee\\u6570\", \"zeroline\": true}}, {\"showLink\": true, \"linkText\": \"Export to plot.ly\"})});</script>"
      ]
     },
     "metadata": {},
     "output_type": "display_data"
    }
   ],
   "source": [
    "ss=myModule.format(all_dict ,\"日期\" ,[ '延期项目数', '暂停项目数'])\n",
    "tt = myModule.myPlot(ss.groupby('sum'))\n",
    "tt.plot('line')"
   ]
  },
  {
   "cell_type": "markdown",
   "metadata": {
    "hide_input": true
   },
   "source": [
    "### 个人成长指数整体情况"
   ]
  },
  {
   "cell_type": "markdown",
   "metadata": {},
   "source": [
    "#### 内部沟通、市场支持、出差和禅道bug"
   ]
  },
  {
   "cell_type": "code",
   "execution_count": 36,
   "metadata": {
    "collapsed": false
   },
   "outputs": [
    {
     "data": {
      "application/vnd.plotly.v1+json": {
       "data": [
        {
         "name": "禅道bug",
         "type": "scatter",
         "uid": "55a91cb8-dbfd-11e8-8ddb-a41f72875c19",
         "x": [
          "10-2",
          "10-3",
          "10-4"
         ],
         "y": [
          0,
          1,
          1
         ]
        },
        {
         "name": "内部沟通",
         "type": "scatter",
         "uid": "55a91cb9-dbfd-11e8-8ddb-a41f72875c19",
         "x": [
          "10-2",
          "10-3",
          "10-4"
         ],
         "y": [
          0,
          0,
          7
         ]
        },
        {
         "name": "市场支持",
         "type": "scatter",
         "uid": "55a91cba-dbfd-11e8-8ddb-a41f72875c19",
         "x": [
          "10-2",
          "10-3",
          "10-4"
         ],
         "y": [
          0,
          5,
          0
         ]
        },
        {
         "name": "出差",
         "type": "scatter",
         "uid": "55a91cbb-dbfd-11e8-8ddb-a41f72875c19",
         "x": [
          "10-2",
          "10-3",
          "10-4"
         ],
         "y": [
          0,
          4,
          2
         ]
        }
       ],
       "layout": {
        "title": "禅道bug&内部沟通&市场支持&出差周趋势图",
        "xaxis": {
         "mirror": "all",
         "nticks": 20,
         "showgrid": true,
         "showline": true,
         "title": "周",
         "type": "category",
         "zeroline": true
        },
        "yaxis": {
         "mirror": "all",
         "nticks": 20,
         "showgrid": true,
         "showline": true,
         "title": "禅道bug&内部沟通&市场支持&出差",
         "zeroline": true
        }
       }
      },
      "text/html": [
       "<div id=\"f5851775-84ef-45cd-8bbc-8652f97bc855\" style=\"height: 525px; width: 100%;\" class=\"plotly-graph-div\"></div><script type=\"text/javascript\">require([\"plotly\"], function(Plotly) { window.PLOTLYENV=window.PLOTLYENV || {};window.PLOTLYENV.BASE_URL=\"https://plot.ly\";Plotly.newPlot(\"f5851775-84ef-45cd-8bbc-8652f97bc855\", [{\"name\": \"\\u7985\\u9053bug\", \"x\": [\"10-2\", \"10-3\", \"10-4\"], \"y\": [0.0, 1.0, 1.0], \"type\": \"scatter\", \"uid\": \"55a91cb8-dbfd-11e8-8ddb-a41f72875c19\"}, {\"name\": \"\\u5185\\u90e8\\u6c9f\\u901a\", \"x\": [\"10-2\", \"10-3\", \"10-4\"], \"y\": [0.0, 0.0, 7.0], \"type\": \"scatter\", \"uid\": \"55a91cb9-dbfd-11e8-8ddb-a41f72875c19\"}, {\"name\": \"\\u5e02\\u573a\\u652f\\u6301\", \"x\": [\"10-2\", \"10-3\", \"10-4\"], \"y\": [0.0, 5.0, 0.0], \"type\": \"scatter\", \"uid\": \"55a91cba-dbfd-11e8-8ddb-a41f72875c19\"}, {\"name\": \"\\u51fa\\u5dee\", \"x\": [\"10-2\", \"10-3\", \"10-4\"], \"y\": [0.0, 4.0, 2.0], \"type\": \"scatter\", \"uid\": \"55a91cbb-dbfd-11e8-8ddb-a41f72875c19\"}], {\"title\": \"\\u7985\\u9053bug&\\u5185\\u90e8\\u6c9f\\u901a&\\u5e02\\u573a\\u652f\\u6301&\\u51fa\\u5dee\\u5468\\u8d8b\\u52bf\\u56fe\", \"xaxis\": {\"mirror\": \"all\", \"nticks\": 20, \"showgrid\": true, \"showline\": true, \"title\": \"\\u5468\", \"type\": \"category\", \"zeroline\": true}, \"yaxis\": {\"mirror\": \"all\", \"nticks\": 20, \"showgrid\": true, \"showline\": true, \"title\": \"\\u7985\\u9053bug&\\u5185\\u90e8\\u6c9f\\u901a&\\u5e02\\u573a\\u652f\\u6301&\\u51fa\\u5dee\", \"zeroline\": true}}, {\"showLink\": true, \"linkText\": \"Export to plot.ly\"})});</script>"
      ],
      "text/vnd.plotly.v1+html": [
       "<div id=\"f5851775-84ef-45cd-8bbc-8652f97bc855\" style=\"height: 525px; width: 100%;\" class=\"plotly-graph-div\"></div><script type=\"text/javascript\">require([\"plotly\"], function(Plotly) { window.PLOTLYENV=window.PLOTLYENV || {};window.PLOTLYENV.BASE_URL=\"https://plot.ly\";Plotly.newPlot(\"f5851775-84ef-45cd-8bbc-8652f97bc855\", [{\"name\": \"\\u7985\\u9053bug\", \"x\": [\"10-2\", \"10-3\", \"10-4\"], \"y\": [0.0, 1.0, 1.0], \"type\": \"scatter\", \"uid\": \"55a91cb8-dbfd-11e8-8ddb-a41f72875c19\"}, {\"name\": \"\\u5185\\u90e8\\u6c9f\\u901a\", \"x\": [\"10-2\", \"10-3\", \"10-4\"], \"y\": [0.0, 0.0, 7.0], \"type\": \"scatter\", \"uid\": \"55a91cb9-dbfd-11e8-8ddb-a41f72875c19\"}, {\"name\": \"\\u5e02\\u573a\\u652f\\u6301\", \"x\": [\"10-2\", \"10-3\", \"10-4\"], \"y\": [0.0, 5.0, 0.0], \"type\": \"scatter\", \"uid\": \"55a91cba-dbfd-11e8-8ddb-a41f72875c19\"}, {\"name\": \"\\u51fa\\u5dee\", \"x\": [\"10-2\", \"10-3\", \"10-4\"], \"y\": [0.0, 4.0, 2.0], \"type\": \"scatter\", \"uid\": \"55a91cbb-dbfd-11e8-8ddb-a41f72875c19\"}], {\"title\": \"\\u7985\\u9053bug&\\u5185\\u90e8\\u6c9f\\u901a&\\u5e02\\u573a\\u652f\\u6301&\\u51fa\\u5dee\\u5468\\u8d8b\\u52bf\\u56fe\", \"xaxis\": {\"mirror\": \"all\", \"nticks\": 20, \"showgrid\": true, \"showline\": true, \"title\": \"\\u5468\", \"type\": \"category\", \"zeroline\": true}, \"yaxis\": {\"mirror\": \"all\", \"nticks\": 20, \"showgrid\": true, \"showline\": true, \"title\": \"\\u7985\\u9053bug&\\u5185\\u90e8\\u6c9f\\u901a&\\u5e02\\u573a\\u652f\\u6301&\\u51fa\\u5dee\", \"zeroline\": true}}, {\"showLink\": true, \"linkText\": \"Export to plot.ly\"})});</script>"
      ]
     },
     "metadata": {},
     "output_type": "display_data"
    }
   ],
   "source": [
    "ss=myModule.format(all_dict ,\"日期\" ,['内部沟通','市场支持', '出差', '禅道bug'])\n",
    "tt = myModule.myPlot(ss.groupby('sum'))\n",
    "tt.plot('line')"
   ]
  },
  {
   "cell_type": "markdown",
   "metadata": {
    "hide_input": true
   },
   "source": [
    "## 各组情况"
   ]
  },
  {
   "cell_type": "markdown",
   "metadata": {},
   "source": [
    "### 各组下单情况"
   ]
  },
  {
   "cell_type": "markdown",
   "metadata": {},
   "source": [
    "\n",
    "#### 各组总下单数和完成下单数\n"
   ]
  },
  {
   "cell_type": "code",
   "execution_count": 37,
   "metadata": {
    "collapsed": false
   },
   "outputs": [
    {
     "data": {
      "application/vnd.plotly.v1+json": {
       "data": [
        {
         "line": {
          "dash": "solid"
         },
         "name": "总下单数(蛋白和医学组)",
         "type": "scatter",
         "uid": "55a91cbc-dbfd-11e8-8ddb-a41f72875c19",
         "x": [
          "10-2",
          "10-3",
          "10-4"
         ],
         "y": [
          37,
          40,
          53
         ]
        },
        {
         "line": {
          "dash": "dot"
         },
         "name": "总下单数(义乌生信组)",
         "type": "scatter",
         "uid": "55a91cbd-dbfd-11e8-8ddb-a41f72875c19",
         "x": [
          "10-2",
          "10-3",
          "10-4"
         ],
         "y": [
          null,
          null,
          4
         ]
        },
        {
         "line": {
          "dash": "dash"
         },
         "name": "总下单数(分析组)",
         "type": "scatter",
         "uid": "55a91cbe-dbfd-11e8-8ddb-a41f72875c19",
         "x": [
          "10-2",
          "10-3",
          "10-4"
         ],
         "y": [
          null,
          null,
          1
         ]
        },
        {
         "line": {
          "dash": "longdash"
         },
         "name": "总下单数(QC)",
         "type": "scatter",
         "uid": "55a91cbf-dbfd-11e8-8ddb-a41f72875c19",
         "x": [
          "10-2",
          "10-3",
          "10-4"
         ],
         "y": [
          3,
          null,
          5
         ]
        },
        {
         "line": {
          "dash": "dashdot"
         },
         "name": "总下单数(生物学DNA组)",
         "type": "scatter",
         "uid": "55a91cc0-dbfd-11e8-8ddb-a41f72875c19",
         "x": [
          "10-2",
          "10-3",
          "10-4"
         ],
         "y": [
          43,
          42,
          35
         ]
        },
        {
         "line": {
          "dash": "longdashdot"
         },
         "name": "总下单数(转录调控组)",
         "type": "scatter",
         "uid": "55a91cc1-dbfd-11e8-8ddb-a41f72875c19",
         "x": [
          "10-2",
          "10-3",
          "10-4"
         ],
         "y": [
          27,
          24,
          29
         ]
        },
        {
         "line": {
          "dash": "solid"
         },
         "name": "完成下单数(蛋白和医学组)",
         "type": "scatter",
         "uid": "55a91cc2-dbfd-11e8-8ddb-a41f72875c19",
         "x": [
          "10-2",
          "10-3",
          "10-4"
         ],
         "y": [
          37,
          35,
          50
         ]
        },
        {
         "line": {
          "dash": "dot"
         },
         "name": "完成下单数(义乌生信组)",
         "type": "scatter",
         "uid": "55a91cc3-dbfd-11e8-8ddb-a41f72875c19",
         "x": [
          "10-2",
          "10-3",
          "10-4"
         ],
         "y": [
          null,
          null,
          4
         ]
        },
        {
         "line": {
          "dash": "dash"
         },
         "name": "完成下单数(分析组)",
         "type": "scatter",
         "uid": "55a91cc4-dbfd-11e8-8ddb-a41f72875c19",
         "x": [
          "10-2",
          "10-3",
          "10-4"
         ],
         "y": [
          null,
          null,
          0
         ]
        },
        {
         "line": {
          "dash": "longdash"
         },
         "name": "完成下单数(QC)",
         "type": "scatter",
         "uid": "55a91cc5-dbfd-11e8-8ddb-a41f72875c19",
         "x": [
          "10-2",
          "10-3",
          "10-4"
         ],
         "y": [
          3,
          null,
          4
         ]
        },
        {
         "line": {
          "dash": "dashdot"
         },
         "name": "完成下单数(生物学DNA组)",
         "type": "scatter",
         "uid": "55a91cc6-dbfd-11e8-8ddb-a41f72875c19",
         "x": [
          "10-2",
          "10-3",
          "10-4"
         ],
         "y": [
          31,
          37,
          30
         ]
        },
        {
         "line": {
          "dash": "longdashdot"
         },
         "name": "完成下单数(转录调控组)",
         "type": "scatter",
         "uid": "55a91cc7-dbfd-11e8-8ddb-a41f72875c19",
         "x": [
          "10-2",
          "10-3",
          "10-4"
         ],
         "y": [
          16,
          21,
          27
         ]
        }
       ],
       "layout": {
        "title": "总下单数&完成下单数周趋势图",
        "xaxis": {
         "mirror": "all",
         "nticks": 20,
         "showgrid": true,
         "showline": true,
         "title": "周",
         "type": "category",
         "zeroline": true
        },
        "yaxis": {
         "mirror": "all",
         "nticks": 20,
         "showgrid": true,
         "showline": true,
         "title": "总下单数&完成下单数",
         "zeroline": true
        }
       }
      },
      "text/html": [
       "<div id=\"48f1468d-d255-4d96-b023-e09ea117e893\" style=\"height: 525px; width: 100%;\" class=\"plotly-graph-div\"></div><script type=\"text/javascript\">require([\"plotly\"], function(Plotly) { window.PLOTLYENV=window.PLOTLYENV || {};window.PLOTLYENV.BASE_URL=\"https://plot.ly\";Plotly.newPlot(\"48f1468d-d255-4d96-b023-e09ea117e893\", [{\"line\": {\"dash\": \"solid\"}, \"name\": \"\\u603b\\u4e0b\\u5355\\u6570(\\u86cb\\u767d\\u548c\\u533b\\u5b66\\u7ec4)\", \"x\": [\"10-2\", \"10-3\", \"10-4\"], \"y\": [37.0, 40.0, 53.0], \"type\": \"scatter\", \"uid\": \"55a91cbc-dbfd-11e8-8ddb-a41f72875c19\"}, {\"line\": {\"dash\": \"dot\"}, \"name\": \"\\u603b\\u4e0b\\u5355\\u6570(\\u4e49\\u4e4c\\u751f\\u4fe1\\u7ec4)\", \"x\": [\"10-2\", \"10-3\", \"10-4\"], \"y\": [null, null, 4.0], \"type\": \"scatter\", \"uid\": \"55a91cbd-dbfd-11e8-8ddb-a41f72875c19\"}, {\"line\": {\"dash\": \"dash\"}, \"name\": \"\\u603b\\u4e0b\\u5355\\u6570(\\u5206\\u6790\\u7ec4)\", \"x\": [\"10-2\", \"10-3\", \"10-4\"], \"y\": [null, null, 1.0], \"type\": \"scatter\", \"uid\": \"55a91cbe-dbfd-11e8-8ddb-a41f72875c19\"}, {\"line\": {\"dash\": \"longdash\"}, \"name\": \"\\u603b\\u4e0b\\u5355\\u6570(QC)\", \"x\": [\"10-2\", \"10-3\", \"10-4\"], \"y\": [3.0, null, 5.0], \"type\": \"scatter\", \"uid\": \"55a91cbf-dbfd-11e8-8ddb-a41f72875c19\"}, {\"line\": {\"dash\": \"dashdot\"}, \"name\": \"\\u603b\\u4e0b\\u5355\\u6570(\\u751f\\u7269\\u5b66DNA\\u7ec4)\", \"x\": [\"10-2\", \"10-3\", \"10-4\"], \"y\": [43.0, 42.0, 35.0], \"type\": \"scatter\", \"uid\": \"55a91cc0-dbfd-11e8-8ddb-a41f72875c19\"}, {\"line\": {\"dash\": \"longdashdot\"}, \"name\": \"\\u603b\\u4e0b\\u5355\\u6570(\\u8f6c\\u5f55\\u8c03\\u63a7\\u7ec4)\", \"x\": [\"10-2\", \"10-3\", \"10-4\"], \"y\": [27.0, 24.0, 29.0], \"type\": \"scatter\", \"uid\": \"55a91cc1-dbfd-11e8-8ddb-a41f72875c19\"}, {\"line\": {\"dash\": \"solid\"}, \"name\": \"\\u5b8c\\u6210\\u4e0b\\u5355\\u6570(\\u86cb\\u767d\\u548c\\u533b\\u5b66\\u7ec4)\", \"x\": [\"10-2\", \"10-3\", \"10-4\"], \"y\": [37.0, 35.0, 50.0], \"type\": \"scatter\", \"uid\": \"55a91cc2-dbfd-11e8-8ddb-a41f72875c19\"}, {\"line\": {\"dash\": \"dot\"}, \"name\": \"\\u5b8c\\u6210\\u4e0b\\u5355\\u6570(\\u4e49\\u4e4c\\u751f\\u4fe1\\u7ec4)\", \"x\": [\"10-2\", \"10-3\", \"10-4\"], \"y\": [null, null, 4.0], \"type\": \"scatter\", \"uid\": \"55a91cc3-dbfd-11e8-8ddb-a41f72875c19\"}, {\"line\": {\"dash\": \"dash\"}, \"name\": \"\\u5b8c\\u6210\\u4e0b\\u5355\\u6570(\\u5206\\u6790\\u7ec4)\", \"x\": [\"10-2\", \"10-3\", \"10-4\"], \"y\": [null, null, 0.0], \"type\": \"scatter\", \"uid\": \"55a91cc4-dbfd-11e8-8ddb-a41f72875c19\"}, {\"line\": {\"dash\": \"longdash\"}, \"name\": \"\\u5b8c\\u6210\\u4e0b\\u5355\\u6570(QC)\", \"x\": [\"10-2\", \"10-3\", \"10-4\"], \"y\": [3.0, null, 4.0], \"type\": \"scatter\", \"uid\": \"55a91cc5-dbfd-11e8-8ddb-a41f72875c19\"}, {\"line\": {\"dash\": \"dashdot\"}, \"name\": \"\\u5b8c\\u6210\\u4e0b\\u5355\\u6570(\\u751f\\u7269\\u5b66DNA\\u7ec4)\", \"x\": [\"10-2\", \"10-3\", \"10-4\"], \"y\": [31.0, 37.0, 30.0], \"type\": \"scatter\", \"uid\": \"55a91cc6-dbfd-11e8-8ddb-a41f72875c19\"}, {\"line\": {\"dash\": \"longdashdot\"}, \"name\": \"\\u5b8c\\u6210\\u4e0b\\u5355\\u6570(\\u8f6c\\u5f55\\u8c03\\u63a7\\u7ec4)\", \"x\": [\"10-2\", \"10-3\", \"10-4\"], \"y\": [16.0, 21.0, 27.0], \"type\": \"scatter\", \"uid\": \"55a91cc7-dbfd-11e8-8ddb-a41f72875c19\"}], {\"title\": \"\\u603b\\u4e0b\\u5355\\u6570&\\u5b8c\\u6210\\u4e0b\\u5355\\u6570\\u5468\\u8d8b\\u52bf\\u56fe\", \"xaxis\": {\"mirror\": \"all\", \"nticks\": 20, \"showgrid\": true, \"showline\": true, \"title\": \"\\u5468\", \"type\": \"category\", \"zeroline\": true}, \"yaxis\": {\"mirror\": \"all\", \"nticks\": 20, \"showgrid\": true, \"showline\": true, \"title\": \"\\u603b\\u4e0b\\u5355\\u6570&\\u5b8c\\u6210\\u4e0b\\u5355\\u6570\", \"zeroline\": true}}, {\"showLink\": true, \"linkText\": \"Export to plot.ly\"})});</script>"
      ],
      "text/vnd.plotly.v1+html": [
       "<div id=\"48f1468d-d255-4d96-b023-e09ea117e893\" style=\"height: 525px; width: 100%;\" class=\"plotly-graph-div\"></div><script type=\"text/javascript\">require([\"plotly\"], function(Plotly) { window.PLOTLYENV=window.PLOTLYENV || {};window.PLOTLYENV.BASE_URL=\"https://plot.ly\";Plotly.newPlot(\"48f1468d-d255-4d96-b023-e09ea117e893\", [{\"line\": {\"dash\": \"solid\"}, \"name\": \"\\u603b\\u4e0b\\u5355\\u6570(\\u86cb\\u767d\\u548c\\u533b\\u5b66\\u7ec4)\", \"x\": [\"10-2\", \"10-3\", \"10-4\"], \"y\": [37.0, 40.0, 53.0], \"type\": \"scatter\", \"uid\": \"55a91cbc-dbfd-11e8-8ddb-a41f72875c19\"}, {\"line\": {\"dash\": \"dot\"}, \"name\": \"\\u603b\\u4e0b\\u5355\\u6570(\\u4e49\\u4e4c\\u751f\\u4fe1\\u7ec4)\", \"x\": [\"10-2\", \"10-3\", \"10-4\"], \"y\": [null, null, 4.0], \"type\": \"scatter\", \"uid\": \"55a91cbd-dbfd-11e8-8ddb-a41f72875c19\"}, {\"line\": {\"dash\": \"dash\"}, \"name\": \"\\u603b\\u4e0b\\u5355\\u6570(\\u5206\\u6790\\u7ec4)\", \"x\": [\"10-2\", \"10-3\", \"10-4\"], \"y\": [null, null, 1.0], \"type\": \"scatter\", \"uid\": \"55a91cbe-dbfd-11e8-8ddb-a41f72875c19\"}, {\"line\": {\"dash\": \"longdash\"}, \"name\": \"\\u603b\\u4e0b\\u5355\\u6570(QC)\", \"x\": [\"10-2\", \"10-3\", \"10-4\"], \"y\": [3.0, null, 5.0], \"type\": \"scatter\", \"uid\": \"55a91cbf-dbfd-11e8-8ddb-a41f72875c19\"}, {\"line\": {\"dash\": \"dashdot\"}, \"name\": \"\\u603b\\u4e0b\\u5355\\u6570(\\u751f\\u7269\\u5b66DNA\\u7ec4)\", \"x\": [\"10-2\", \"10-3\", \"10-4\"], \"y\": [43.0, 42.0, 35.0], \"type\": \"scatter\", \"uid\": \"55a91cc0-dbfd-11e8-8ddb-a41f72875c19\"}, {\"line\": {\"dash\": \"longdashdot\"}, \"name\": \"\\u603b\\u4e0b\\u5355\\u6570(\\u8f6c\\u5f55\\u8c03\\u63a7\\u7ec4)\", \"x\": [\"10-2\", \"10-3\", \"10-4\"], \"y\": [27.0, 24.0, 29.0], \"type\": \"scatter\", \"uid\": \"55a91cc1-dbfd-11e8-8ddb-a41f72875c19\"}, {\"line\": {\"dash\": \"solid\"}, \"name\": \"\\u5b8c\\u6210\\u4e0b\\u5355\\u6570(\\u86cb\\u767d\\u548c\\u533b\\u5b66\\u7ec4)\", \"x\": [\"10-2\", \"10-3\", \"10-4\"], \"y\": [37.0, 35.0, 50.0], \"type\": \"scatter\", \"uid\": \"55a91cc2-dbfd-11e8-8ddb-a41f72875c19\"}, {\"line\": {\"dash\": \"dot\"}, \"name\": \"\\u5b8c\\u6210\\u4e0b\\u5355\\u6570(\\u4e49\\u4e4c\\u751f\\u4fe1\\u7ec4)\", \"x\": [\"10-2\", \"10-3\", \"10-4\"], \"y\": [null, null, 4.0], \"type\": \"scatter\", \"uid\": \"55a91cc3-dbfd-11e8-8ddb-a41f72875c19\"}, {\"line\": {\"dash\": \"dash\"}, \"name\": \"\\u5b8c\\u6210\\u4e0b\\u5355\\u6570(\\u5206\\u6790\\u7ec4)\", \"x\": [\"10-2\", \"10-3\", \"10-4\"], \"y\": [null, null, 0.0], \"type\": \"scatter\", \"uid\": \"55a91cc4-dbfd-11e8-8ddb-a41f72875c19\"}, {\"line\": {\"dash\": \"longdash\"}, \"name\": \"\\u5b8c\\u6210\\u4e0b\\u5355\\u6570(QC)\", \"x\": [\"10-2\", \"10-3\", \"10-4\"], \"y\": [3.0, null, 4.0], \"type\": \"scatter\", \"uid\": \"55a91cc5-dbfd-11e8-8ddb-a41f72875c19\"}, {\"line\": {\"dash\": \"dashdot\"}, \"name\": \"\\u5b8c\\u6210\\u4e0b\\u5355\\u6570(\\u751f\\u7269\\u5b66DNA\\u7ec4)\", \"x\": [\"10-2\", \"10-3\", \"10-4\"], \"y\": [31.0, 37.0, 30.0], \"type\": \"scatter\", \"uid\": \"55a91cc6-dbfd-11e8-8ddb-a41f72875c19\"}, {\"line\": {\"dash\": \"longdashdot\"}, \"name\": \"\\u5b8c\\u6210\\u4e0b\\u5355\\u6570(\\u8f6c\\u5f55\\u8c03\\u63a7\\u7ec4)\", \"x\": [\"10-2\", \"10-3\", \"10-4\"], \"y\": [16.0, 21.0, 27.0], \"type\": \"scatter\", \"uid\": \"55a91cc7-dbfd-11e8-8ddb-a41f72875c19\"}], {\"title\": \"\\u603b\\u4e0b\\u5355\\u6570&\\u5b8c\\u6210\\u4e0b\\u5355\\u6570\\u5468\\u8d8b\\u52bf\\u56fe\", \"xaxis\": {\"mirror\": \"all\", \"nticks\": 20, \"showgrid\": true, \"showline\": true, \"title\": \"\\u5468\", \"type\": \"category\", \"zeroline\": true}, \"yaxis\": {\"mirror\": \"all\", \"nticks\": 20, \"showgrid\": true, \"showline\": true, \"title\": \"\\u603b\\u4e0b\\u5355\\u6570&\\u5b8c\\u6210\\u4e0b\\u5355\\u6570\", \"zeroline\": true}}, {\"showLink\": true, \"linkText\": \"Export to plot.ly\"})});</script>"
      ]
     },
     "metadata": {},
     "output_type": "display_data"
    }
   ],
   "source": [
    "ss=myModule.format(all_dict ,\"日期\" ,['总下单数', '完成下单数'])\n",
    "ss.add_group('组别')\n",
    "tt = myModule.myPlot(ss.groupby('sum'))\n",
    "tt.plot('line')"
   ]
  },
  {
   "cell_type": "markdown",
   "metadata": {
    "hide_input": true
   },
   "source": [
    "### 各组高质量报告"
   ]
  },
  {
   "cell_type": "markdown",
   "metadata": {},
   "source": [
    "#### 各组应交高质量报告数和提交高质量报告数"
   ]
  },
  {
   "cell_type": "code",
   "execution_count": 38,
   "metadata": {
    "collapsed": false
   },
   "outputs": [
    {
     "data": {
      "application/vnd.plotly.v1+json": {
       "data": [
        {
         "line": {
          "dash": "solid"
         },
         "name": "应交高质量报告数(蛋白和医学组)",
         "type": "scatter",
         "uid": "55a91cc8-dbfd-11e8-8ddb-a41f72875c19",
         "x": [
          "10-2",
          "10-3",
          "10-4"
         ],
         "y": [
          3,
          0,
          0
         ]
        },
        {
         "line": {
          "dash": "dot"
         },
         "name": "应交高质量报告数(义乌生信组)",
         "type": "scatter",
         "uid": "55a91cc9-dbfd-11e8-8ddb-a41f72875c19",
         "x": [
          "10-2",
          "10-3",
          "10-4"
         ],
         "y": [
          null,
          null,
          2
         ]
        },
        {
         "line": {
          "dash": "dash"
         },
         "name": "应交高质量报告数(分析组)",
         "type": "scatter",
         "uid": "55a91cca-dbfd-11e8-8ddb-a41f72875c19",
         "x": [
          "10-2",
          "10-3",
          "10-4"
         ],
         "y": [
          null,
          null,
          0
         ]
        },
        {
         "line": {
          "dash": "longdash"
         },
         "name": "应交高质量报告数(QC)",
         "type": "scatter",
         "uid": "55a91ccb-dbfd-11e8-8ddb-a41f72875c19",
         "x": [
          "10-2",
          "10-3",
          "10-4"
         ],
         "y": [
          0,
          null,
          0
         ]
        },
        {
         "line": {
          "dash": "dashdot"
         },
         "name": "应交高质量报告数(生物学DNA组)",
         "type": "scatter",
         "uid": "55a91ccc-dbfd-11e8-8ddb-a41f72875c19",
         "x": [
          "10-2",
          "10-3",
          "10-4"
         ],
         "y": [
          6,
          2,
          1
         ]
        },
        {
         "line": {
          "dash": "longdashdot"
         },
         "name": "应交高质量报告数(转录调控组)",
         "type": "scatter",
         "uid": "55a91ccd-dbfd-11e8-8ddb-a41f72875c19",
         "x": [
          "10-2",
          "10-3",
          "10-4"
         ],
         "y": [
          3,
          3,
          0
         ]
        },
        {
         "line": {
          "dash": "solid"
         },
         "name": "提交高质量报告数(蛋白和医学组)",
         "type": "scatter",
         "uid": "55a91cce-dbfd-11e8-8ddb-a41f72875c19",
         "x": [
          "10-2",
          "10-3",
          "10-4"
         ],
         "y": [
          1,
          0,
          0
         ]
        },
        {
         "line": {
          "dash": "dot"
         },
         "name": "提交高质量报告数(义乌生信组)",
         "type": "scatter",
         "uid": "55a91ccf-dbfd-11e8-8ddb-a41f72875c19",
         "x": [
          "10-2",
          "10-3",
          "10-4"
         ],
         "y": [
          null,
          null,
          1
         ]
        },
        {
         "line": {
          "dash": "dash"
         },
         "name": "提交高质量报告数(分析组)",
         "type": "scatter",
         "uid": "55a91cd0-dbfd-11e8-8ddb-a41f72875c19",
         "x": [
          "10-2",
          "10-3",
          "10-4"
         ],
         "y": [
          null,
          null,
          0
         ]
        },
        {
         "line": {
          "dash": "longdash"
         },
         "name": "提交高质量报告数(QC)",
         "type": "scatter",
         "uid": "55a91cd1-dbfd-11e8-8ddb-a41f72875c19",
         "x": [
          "10-2",
          "10-3",
          "10-4"
         ],
         "y": [
          0,
          null,
          0
         ]
        },
        {
         "line": {
          "dash": "dashdot"
         },
         "name": "提交高质量报告数(生物学DNA组)",
         "type": "scatter",
         "uid": "55a91cd2-dbfd-11e8-8ddb-a41f72875c19",
         "x": [
          "10-2",
          "10-3",
          "10-4"
         ],
         "y": [
          0,
          0,
          1
         ]
        },
        {
         "line": {
          "dash": "longdashdot"
         },
         "name": "提交高质量报告数(转录调控组)",
         "type": "scatter",
         "uid": "55a91cd3-dbfd-11e8-8ddb-a41f72875c19",
         "x": [
          "10-2",
          "10-3",
          "10-4"
         ],
         "y": [
          0,
          0,
          0
         ]
        }
       ],
       "layout": {
        "title": "应交高质量报告数&提交高质量报告数周趋势图",
        "xaxis": {
         "mirror": "all",
         "nticks": 20,
         "showgrid": true,
         "showline": true,
         "title": "周",
         "type": "category",
         "zeroline": true
        },
        "yaxis": {
         "mirror": "all",
         "nticks": 20,
         "showgrid": true,
         "showline": true,
         "title": "应交高质量报告数&提交高质量报告数",
         "zeroline": true
        }
       }
      },
      "text/html": [
       "<div id=\"30e8e5cb-3876-4372-834f-153e3ea46be6\" style=\"height: 525px; width: 100%;\" class=\"plotly-graph-div\"></div><script type=\"text/javascript\">require([\"plotly\"], function(Plotly) { window.PLOTLYENV=window.PLOTLYENV || {};window.PLOTLYENV.BASE_URL=\"https://plot.ly\";Plotly.newPlot(\"30e8e5cb-3876-4372-834f-153e3ea46be6\", [{\"line\": {\"dash\": \"solid\"}, \"name\": \"\\u5e94\\u4ea4\\u9ad8\\u8d28\\u91cf\\u62a5\\u544a\\u6570(\\u86cb\\u767d\\u548c\\u533b\\u5b66\\u7ec4)\", \"x\": [\"10-2\", \"10-3\", \"10-4\"], \"y\": [3.0, 0.0, 0.0], \"type\": \"scatter\", \"uid\": \"55a91cc8-dbfd-11e8-8ddb-a41f72875c19\"}, {\"line\": {\"dash\": \"dot\"}, \"name\": \"\\u5e94\\u4ea4\\u9ad8\\u8d28\\u91cf\\u62a5\\u544a\\u6570(\\u4e49\\u4e4c\\u751f\\u4fe1\\u7ec4)\", \"x\": [\"10-2\", \"10-3\", \"10-4\"], \"y\": [null, null, 2.0], \"type\": \"scatter\", \"uid\": \"55a91cc9-dbfd-11e8-8ddb-a41f72875c19\"}, {\"line\": {\"dash\": \"dash\"}, \"name\": \"\\u5e94\\u4ea4\\u9ad8\\u8d28\\u91cf\\u62a5\\u544a\\u6570(\\u5206\\u6790\\u7ec4)\", \"x\": [\"10-2\", \"10-3\", \"10-4\"], \"y\": [null, null, 0.0], \"type\": \"scatter\", \"uid\": \"55a91cca-dbfd-11e8-8ddb-a41f72875c19\"}, {\"line\": {\"dash\": \"longdash\"}, \"name\": \"\\u5e94\\u4ea4\\u9ad8\\u8d28\\u91cf\\u62a5\\u544a\\u6570(QC)\", \"x\": [\"10-2\", \"10-3\", \"10-4\"], \"y\": [0.0, null, 0.0], \"type\": \"scatter\", \"uid\": \"55a91ccb-dbfd-11e8-8ddb-a41f72875c19\"}, {\"line\": {\"dash\": \"dashdot\"}, \"name\": \"\\u5e94\\u4ea4\\u9ad8\\u8d28\\u91cf\\u62a5\\u544a\\u6570(\\u751f\\u7269\\u5b66DNA\\u7ec4)\", \"x\": [\"10-2\", \"10-3\", \"10-4\"], \"y\": [6.0, 2.0, 1.0], \"type\": \"scatter\", \"uid\": \"55a91ccc-dbfd-11e8-8ddb-a41f72875c19\"}, {\"line\": {\"dash\": \"longdashdot\"}, \"name\": \"\\u5e94\\u4ea4\\u9ad8\\u8d28\\u91cf\\u62a5\\u544a\\u6570(\\u8f6c\\u5f55\\u8c03\\u63a7\\u7ec4)\", \"x\": [\"10-2\", \"10-3\", \"10-4\"], \"y\": [3.0, 3.0, 0.0], \"type\": \"scatter\", \"uid\": \"55a91ccd-dbfd-11e8-8ddb-a41f72875c19\"}, {\"line\": {\"dash\": \"solid\"}, \"name\": \"\\u63d0\\u4ea4\\u9ad8\\u8d28\\u91cf\\u62a5\\u544a\\u6570(\\u86cb\\u767d\\u548c\\u533b\\u5b66\\u7ec4)\", \"x\": [\"10-2\", \"10-3\", \"10-4\"], \"y\": [1.0, 0.0, 0.0], \"type\": \"scatter\", \"uid\": \"55a91cce-dbfd-11e8-8ddb-a41f72875c19\"}, {\"line\": {\"dash\": \"dot\"}, \"name\": \"\\u63d0\\u4ea4\\u9ad8\\u8d28\\u91cf\\u62a5\\u544a\\u6570(\\u4e49\\u4e4c\\u751f\\u4fe1\\u7ec4)\", \"x\": [\"10-2\", \"10-3\", \"10-4\"], \"y\": [null, null, 1.0], \"type\": \"scatter\", \"uid\": \"55a91ccf-dbfd-11e8-8ddb-a41f72875c19\"}, {\"line\": {\"dash\": \"dash\"}, \"name\": \"\\u63d0\\u4ea4\\u9ad8\\u8d28\\u91cf\\u62a5\\u544a\\u6570(\\u5206\\u6790\\u7ec4)\", \"x\": [\"10-2\", \"10-3\", \"10-4\"], \"y\": [null, null, 0.0], \"type\": \"scatter\", \"uid\": \"55a91cd0-dbfd-11e8-8ddb-a41f72875c19\"}, {\"line\": {\"dash\": \"longdash\"}, \"name\": \"\\u63d0\\u4ea4\\u9ad8\\u8d28\\u91cf\\u62a5\\u544a\\u6570(QC)\", \"x\": [\"10-2\", \"10-3\", \"10-4\"], \"y\": [0.0, null, 0.0], \"type\": \"scatter\", \"uid\": \"55a91cd1-dbfd-11e8-8ddb-a41f72875c19\"}, {\"line\": {\"dash\": \"dashdot\"}, \"name\": \"\\u63d0\\u4ea4\\u9ad8\\u8d28\\u91cf\\u62a5\\u544a\\u6570(\\u751f\\u7269\\u5b66DNA\\u7ec4)\", \"x\": [\"10-2\", \"10-3\", \"10-4\"], \"y\": [0.0, 0.0, 1.0], \"type\": \"scatter\", \"uid\": \"55a91cd2-dbfd-11e8-8ddb-a41f72875c19\"}, {\"line\": {\"dash\": \"longdashdot\"}, \"name\": \"\\u63d0\\u4ea4\\u9ad8\\u8d28\\u91cf\\u62a5\\u544a\\u6570(\\u8f6c\\u5f55\\u8c03\\u63a7\\u7ec4)\", \"x\": [\"10-2\", \"10-3\", \"10-4\"], \"y\": [0.0, 0.0, 0.0], \"type\": \"scatter\", \"uid\": \"55a91cd3-dbfd-11e8-8ddb-a41f72875c19\"}], {\"title\": \"\\u5e94\\u4ea4\\u9ad8\\u8d28\\u91cf\\u62a5\\u544a\\u6570&\\u63d0\\u4ea4\\u9ad8\\u8d28\\u91cf\\u62a5\\u544a\\u6570\\u5468\\u8d8b\\u52bf\\u56fe\", \"xaxis\": {\"mirror\": \"all\", \"nticks\": 20, \"showgrid\": true, \"showline\": true, \"title\": \"\\u5468\", \"type\": \"category\", \"zeroline\": true}, \"yaxis\": {\"mirror\": \"all\", \"nticks\": 20, \"showgrid\": true, \"showline\": true, \"title\": \"\\u5e94\\u4ea4\\u9ad8\\u8d28\\u91cf\\u62a5\\u544a\\u6570&\\u63d0\\u4ea4\\u9ad8\\u8d28\\u91cf\\u62a5\\u544a\\u6570\", \"zeroline\": true}}, {\"showLink\": true, \"linkText\": \"Export to plot.ly\"})});</script>"
      ],
      "text/vnd.plotly.v1+html": [
       "<div id=\"30e8e5cb-3876-4372-834f-153e3ea46be6\" style=\"height: 525px; width: 100%;\" class=\"plotly-graph-div\"></div><script type=\"text/javascript\">require([\"plotly\"], function(Plotly) { window.PLOTLYENV=window.PLOTLYENV || {};window.PLOTLYENV.BASE_URL=\"https://plot.ly\";Plotly.newPlot(\"30e8e5cb-3876-4372-834f-153e3ea46be6\", [{\"line\": {\"dash\": \"solid\"}, \"name\": \"\\u5e94\\u4ea4\\u9ad8\\u8d28\\u91cf\\u62a5\\u544a\\u6570(\\u86cb\\u767d\\u548c\\u533b\\u5b66\\u7ec4)\", \"x\": [\"10-2\", \"10-3\", \"10-4\"], \"y\": [3.0, 0.0, 0.0], \"type\": \"scatter\", \"uid\": \"55a91cc8-dbfd-11e8-8ddb-a41f72875c19\"}, {\"line\": {\"dash\": \"dot\"}, \"name\": \"\\u5e94\\u4ea4\\u9ad8\\u8d28\\u91cf\\u62a5\\u544a\\u6570(\\u4e49\\u4e4c\\u751f\\u4fe1\\u7ec4)\", \"x\": [\"10-2\", \"10-3\", \"10-4\"], \"y\": [null, null, 2.0], \"type\": \"scatter\", \"uid\": \"55a91cc9-dbfd-11e8-8ddb-a41f72875c19\"}, {\"line\": {\"dash\": \"dash\"}, \"name\": \"\\u5e94\\u4ea4\\u9ad8\\u8d28\\u91cf\\u62a5\\u544a\\u6570(\\u5206\\u6790\\u7ec4)\", \"x\": [\"10-2\", \"10-3\", \"10-4\"], \"y\": [null, null, 0.0], \"type\": \"scatter\", \"uid\": \"55a91cca-dbfd-11e8-8ddb-a41f72875c19\"}, {\"line\": {\"dash\": \"longdash\"}, \"name\": \"\\u5e94\\u4ea4\\u9ad8\\u8d28\\u91cf\\u62a5\\u544a\\u6570(QC)\", \"x\": [\"10-2\", \"10-3\", \"10-4\"], \"y\": [0.0, null, 0.0], \"type\": \"scatter\", \"uid\": \"55a91ccb-dbfd-11e8-8ddb-a41f72875c19\"}, {\"line\": {\"dash\": \"dashdot\"}, \"name\": \"\\u5e94\\u4ea4\\u9ad8\\u8d28\\u91cf\\u62a5\\u544a\\u6570(\\u751f\\u7269\\u5b66DNA\\u7ec4)\", \"x\": [\"10-2\", \"10-3\", \"10-4\"], \"y\": [6.0, 2.0, 1.0], \"type\": \"scatter\", \"uid\": \"55a91ccc-dbfd-11e8-8ddb-a41f72875c19\"}, {\"line\": {\"dash\": \"longdashdot\"}, \"name\": \"\\u5e94\\u4ea4\\u9ad8\\u8d28\\u91cf\\u62a5\\u544a\\u6570(\\u8f6c\\u5f55\\u8c03\\u63a7\\u7ec4)\", \"x\": [\"10-2\", \"10-3\", \"10-4\"], \"y\": [3.0, 3.0, 0.0], \"type\": \"scatter\", \"uid\": \"55a91ccd-dbfd-11e8-8ddb-a41f72875c19\"}, {\"line\": {\"dash\": \"solid\"}, \"name\": \"\\u63d0\\u4ea4\\u9ad8\\u8d28\\u91cf\\u62a5\\u544a\\u6570(\\u86cb\\u767d\\u548c\\u533b\\u5b66\\u7ec4)\", \"x\": [\"10-2\", \"10-3\", \"10-4\"], \"y\": [1.0, 0.0, 0.0], \"type\": \"scatter\", \"uid\": \"55a91cce-dbfd-11e8-8ddb-a41f72875c19\"}, {\"line\": {\"dash\": \"dot\"}, \"name\": \"\\u63d0\\u4ea4\\u9ad8\\u8d28\\u91cf\\u62a5\\u544a\\u6570(\\u4e49\\u4e4c\\u751f\\u4fe1\\u7ec4)\", \"x\": [\"10-2\", \"10-3\", \"10-4\"], \"y\": [null, null, 1.0], \"type\": \"scatter\", \"uid\": \"55a91ccf-dbfd-11e8-8ddb-a41f72875c19\"}, {\"line\": {\"dash\": \"dash\"}, \"name\": \"\\u63d0\\u4ea4\\u9ad8\\u8d28\\u91cf\\u62a5\\u544a\\u6570(\\u5206\\u6790\\u7ec4)\", \"x\": [\"10-2\", \"10-3\", \"10-4\"], \"y\": [null, null, 0.0], \"type\": \"scatter\", \"uid\": \"55a91cd0-dbfd-11e8-8ddb-a41f72875c19\"}, {\"line\": {\"dash\": \"longdash\"}, \"name\": \"\\u63d0\\u4ea4\\u9ad8\\u8d28\\u91cf\\u62a5\\u544a\\u6570(QC)\", \"x\": [\"10-2\", \"10-3\", \"10-4\"], \"y\": [0.0, null, 0.0], \"type\": \"scatter\", \"uid\": \"55a91cd1-dbfd-11e8-8ddb-a41f72875c19\"}, {\"line\": {\"dash\": \"dashdot\"}, \"name\": \"\\u63d0\\u4ea4\\u9ad8\\u8d28\\u91cf\\u62a5\\u544a\\u6570(\\u751f\\u7269\\u5b66DNA\\u7ec4)\", \"x\": [\"10-2\", \"10-3\", \"10-4\"], \"y\": [0.0, 0.0, 1.0], \"type\": \"scatter\", \"uid\": \"55a91cd2-dbfd-11e8-8ddb-a41f72875c19\"}, {\"line\": {\"dash\": \"longdashdot\"}, \"name\": \"\\u63d0\\u4ea4\\u9ad8\\u8d28\\u91cf\\u62a5\\u544a\\u6570(\\u8f6c\\u5f55\\u8c03\\u63a7\\u7ec4)\", \"x\": [\"10-2\", \"10-3\", \"10-4\"], \"y\": [0.0, 0.0, 0.0], \"type\": \"scatter\", \"uid\": \"55a91cd3-dbfd-11e8-8ddb-a41f72875c19\"}], {\"title\": \"\\u5e94\\u4ea4\\u9ad8\\u8d28\\u91cf\\u62a5\\u544a\\u6570&\\u63d0\\u4ea4\\u9ad8\\u8d28\\u91cf\\u62a5\\u544a\\u6570\\u5468\\u8d8b\\u52bf\\u56fe\", \"xaxis\": {\"mirror\": \"all\", \"nticks\": 20, \"showgrid\": true, \"showline\": true, \"title\": \"\\u5468\", \"type\": \"category\", \"zeroline\": true}, \"yaxis\": {\"mirror\": \"all\", \"nticks\": 20, \"showgrid\": true, \"showline\": true, \"title\": \"\\u5e94\\u4ea4\\u9ad8\\u8d28\\u91cf\\u62a5\\u544a\\u6570&\\u63d0\\u4ea4\\u9ad8\\u8d28\\u91cf\\u62a5\\u544a\\u6570\", \"zeroline\": true}}, {\"showLink\": true, \"linkText\": \"Export to plot.ly\"})});</script>"
      ]
     },
     "metadata": {},
     "output_type": "display_data"
    }
   ],
   "source": [
    "ss=myModule.format(all_dict ,\"日期\" ,['应交高质量报告数', '提交高质量报告数'])\n",
    "ss.add_group('组别')\n",
    "tt = myModule.myPlot(ss.groupby('sum'))\n",
    "tt.plot('line')"
   ]
  },
  {
   "cell_type": "markdown",
   "metadata": {
    "hide_input": true
   },
   "source": [
    "### 各组甘特图情况"
   ]
  },
  {
   "cell_type": "markdown",
   "metadata": {},
   "source": [
    "#### 各组延期项目数和暂停项目数"
   ]
  },
  {
   "cell_type": "code",
   "execution_count": 39,
   "metadata": {
    "collapsed": false
   },
   "outputs": [
    {
     "data": {
      "application/vnd.plotly.v1+json": {
       "data": [
        {
         "line": {
          "dash": "solid"
         },
         "name": "延期项目数(蛋白和医学组)",
         "type": "scatter",
         "uid": "55a91cd4-dbfd-11e8-8ddb-a41f72875c19",
         "x": [
          "10-2",
          "10-3",
          "10-4"
         ],
         "y": [
          0,
          1,
          3
         ]
        },
        {
         "line": {
          "dash": "dot"
         },
         "name": "延期项目数(义乌生信组)",
         "type": "scatter",
         "uid": "55a91cd5-dbfd-11e8-8ddb-a41f72875c19",
         "x": [
          "10-2",
          "10-3",
          "10-4"
         ],
         "y": [
          null,
          null,
          0
         ]
        },
        {
         "line": {
          "dash": "dash"
         },
         "name": "延期项目数(分析组)",
         "type": "scatter",
         "uid": "55a91cd6-dbfd-11e8-8ddb-a41f72875c19",
         "x": [
          "10-2",
          "10-3",
          "10-4"
         ],
         "y": [
          null,
          null,
          0
         ]
        },
        {
         "line": {
          "dash": "longdash"
         },
         "name": "延期项目数(QC)",
         "type": "scatter",
         "uid": "55a91cd7-dbfd-11e8-8ddb-a41f72875c19",
         "x": [
          "10-2",
          "10-3",
          "10-4"
         ],
         "y": [
          0,
          null,
          1
         ]
        },
        {
         "line": {
          "dash": "dashdot"
         },
         "name": "延期项目数(生物学DNA组)",
         "type": "scatter",
         "uid": "55a91cd8-dbfd-11e8-8ddb-a41f72875c19",
         "x": [
          "10-2",
          "10-3",
          "10-4"
         ],
         "y": [
          2,
          4,
          9
         ]
        },
        {
         "line": {
          "dash": "longdashdot"
         },
         "name": "延期项目数(转录调控组)",
         "type": "scatter",
         "uid": "55a91cd9-dbfd-11e8-8ddb-a41f72875c19",
         "x": [
          "10-2",
          "10-3",
          "10-4"
         ],
         "y": [
          0,
          0,
          0
         ]
        },
        {
         "line": {
          "dash": "solid"
         },
         "name": "暂停项目数(蛋白和医学组)",
         "type": "scatter",
         "uid": "55a91cda-dbfd-11e8-8ddb-a41f72875c19",
         "x": [
          "10-2",
          "10-3",
          "10-4"
         ],
         "y": [
          0,
          0,
          0
         ]
        },
        {
         "line": {
          "dash": "dot"
         },
         "name": "暂停项目数(义乌生信组)",
         "type": "scatter",
         "uid": "55a91cdb-dbfd-11e8-8ddb-a41f72875c19",
         "x": [
          "10-2",
          "10-3",
          "10-4"
         ],
         "y": [
          null,
          null,
          0
         ]
        },
        {
         "line": {
          "dash": "dash"
         },
         "name": "暂停项目数(分析组)",
         "type": "scatter",
         "uid": "55a91cdc-dbfd-11e8-8ddb-a41f72875c19",
         "x": [
          "10-2",
          "10-3",
          "10-4"
         ],
         "y": [
          null,
          null,
          0
         ]
        },
        {
         "line": {
          "dash": "longdash"
         },
         "name": "暂停项目数(QC)",
         "type": "scatter",
         "uid": "55a91cdd-dbfd-11e8-8ddb-a41f72875c19",
         "x": [
          "10-2",
          "10-3",
          "10-4"
         ],
         "y": [
          0,
          null,
          0
         ]
        },
        {
         "line": {
          "dash": "dashdot"
         },
         "name": "暂停项目数(生物学DNA组)",
         "type": "scatter",
         "uid": "55a91cde-dbfd-11e8-8ddb-a41f72875c19",
         "x": [
          "10-2",
          "10-3",
          "10-4"
         ],
         "y": [
          0,
          0,
          0
         ]
        },
        {
         "line": {
          "dash": "longdashdot"
         },
         "name": "暂停项目数(转录调控组)",
         "type": "scatter",
         "uid": "55a91cdf-dbfd-11e8-8ddb-a41f72875c19",
         "x": [
          "10-2",
          "10-3",
          "10-4"
         ],
         "y": [
          0,
          0,
          0
         ]
        }
       ],
       "layout": {
        "title": "延期项目数&暂停项目数周趋势图",
        "xaxis": {
         "mirror": "all",
         "nticks": 20,
         "showgrid": true,
         "showline": true,
         "title": "周",
         "type": "category",
         "zeroline": true
        },
        "yaxis": {
         "mirror": "all",
         "nticks": 20,
         "showgrid": true,
         "showline": true,
         "title": "延期项目数&暂停项目数",
         "zeroline": true
        }
       }
      },
      "text/html": [
       "<div id=\"1eba9fe2-ec57-4501-889f-9b9ca0135374\" style=\"height: 525px; width: 100%;\" class=\"plotly-graph-div\"></div><script type=\"text/javascript\">require([\"plotly\"], function(Plotly) { window.PLOTLYENV=window.PLOTLYENV || {};window.PLOTLYENV.BASE_URL=\"https://plot.ly\";Plotly.newPlot(\"1eba9fe2-ec57-4501-889f-9b9ca0135374\", [{\"line\": {\"dash\": \"solid\"}, \"name\": \"\\u5ef6\\u671f\\u9879\\u76ee\\u6570(\\u86cb\\u767d\\u548c\\u533b\\u5b66\\u7ec4)\", \"x\": [\"10-2\", \"10-3\", \"10-4\"], \"y\": [0.0, 1.0, 3.0], \"type\": \"scatter\", \"uid\": \"55a91cd4-dbfd-11e8-8ddb-a41f72875c19\"}, {\"line\": {\"dash\": \"dot\"}, \"name\": \"\\u5ef6\\u671f\\u9879\\u76ee\\u6570(\\u4e49\\u4e4c\\u751f\\u4fe1\\u7ec4)\", \"x\": [\"10-2\", \"10-3\", \"10-4\"], \"y\": [null, null, 0.0], \"type\": \"scatter\", \"uid\": \"55a91cd5-dbfd-11e8-8ddb-a41f72875c19\"}, {\"line\": {\"dash\": \"dash\"}, \"name\": \"\\u5ef6\\u671f\\u9879\\u76ee\\u6570(\\u5206\\u6790\\u7ec4)\", \"x\": [\"10-2\", \"10-3\", \"10-4\"], \"y\": [null, null, 0.0], \"type\": \"scatter\", \"uid\": \"55a91cd6-dbfd-11e8-8ddb-a41f72875c19\"}, {\"line\": {\"dash\": \"longdash\"}, \"name\": \"\\u5ef6\\u671f\\u9879\\u76ee\\u6570(QC)\", \"x\": [\"10-2\", \"10-3\", \"10-4\"], \"y\": [0.0, null, 1.0], \"type\": \"scatter\", \"uid\": \"55a91cd7-dbfd-11e8-8ddb-a41f72875c19\"}, {\"line\": {\"dash\": \"dashdot\"}, \"name\": \"\\u5ef6\\u671f\\u9879\\u76ee\\u6570(\\u751f\\u7269\\u5b66DNA\\u7ec4)\", \"x\": [\"10-2\", \"10-3\", \"10-4\"], \"y\": [2.0, 4.0, 9.0], \"type\": \"scatter\", \"uid\": \"55a91cd8-dbfd-11e8-8ddb-a41f72875c19\"}, {\"line\": {\"dash\": \"longdashdot\"}, \"name\": \"\\u5ef6\\u671f\\u9879\\u76ee\\u6570(\\u8f6c\\u5f55\\u8c03\\u63a7\\u7ec4)\", \"x\": [\"10-2\", \"10-3\", \"10-4\"], \"y\": [0.0, 0.0, 0.0], \"type\": \"scatter\", \"uid\": \"55a91cd9-dbfd-11e8-8ddb-a41f72875c19\"}, {\"line\": {\"dash\": \"solid\"}, \"name\": \"\\u6682\\u505c\\u9879\\u76ee\\u6570(\\u86cb\\u767d\\u548c\\u533b\\u5b66\\u7ec4)\", \"x\": [\"10-2\", \"10-3\", \"10-4\"], \"y\": [0.0, 0.0, 0.0], \"type\": \"scatter\", \"uid\": \"55a91cda-dbfd-11e8-8ddb-a41f72875c19\"}, {\"line\": {\"dash\": \"dot\"}, \"name\": \"\\u6682\\u505c\\u9879\\u76ee\\u6570(\\u4e49\\u4e4c\\u751f\\u4fe1\\u7ec4)\", \"x\": [\"10-2\", \"10-3\", \"10-4\"], \"y\": [null, null, 0.0], \"type\": \"scatter\", \"uid\": \"55a91cdb-dbfd-11e8-8ddb-a41f72875c19\"}, {\"line\": {\"dash\": \"dash\"}, \"name\": \"\\u6682\\u505c\\u9879\\u76ee\\u6570(\\u5206\\u6790\\u7ec4)\", \"x\": [\"10-2\", \"10-3\", \"10-4\"], \"y\": [null, null, 0.0], \"type\": \"scatter\", \"uid\": \"55a91cdc-dbfd-11e8-8ddb-a41f72875c19\"}, {\"line\": {\"dash\": \"longdash\"}, \"name\": \"\\u6682\\u505c\\u9879\\u76ee\\u6570(QC)\", \"x\": [\"10-2\", \"10-3\", \"10-4\"], \"y\": [0.0, null, 0.0], \"type\": \"scatter\", \"uid\": \"55a91cdd-dbfd-11e8-8ddb-a41f72875c19\"}, {\"line\": {\"dash\": \"dashdot\"}, \"name\": \"\\u6682\\u505c\\u9879\\u76ee\\u6570(\\u751f\\u7269\\u5b66DNA\\u7ec4)\", \"x\": [\"10-2\", \"10-3\", \"10-4\"], \"y\": [0.0, 0.0, 0.0], \"type\": \"scatter\", \"uid\": \"55a91cde-dbfd-11e8-8ddb-a41f72875c19\"}, {\"line\": {\"dash\": \"longdashdot\"}, \"name\": \"\\u6682\\u505c\\u9879\\u76ee\\u6570(\\u8f6c\\u5f55\\u8c03\\u63a7\\u7ec4)\", \"x\": [\"10-2\", \"10-3\", \"10-4\"], \"y\": [0.0, 0.0, 0.0], \"type\": \"scatter\", \"uid\": \"55a91cdf-dbfd-11e8-8ddb-a41f72875c19\"}], {\"title\": \"\\u5ef6\\u671f\\u9879\\u76ee\\u6570&\\u6682\\u505c\\u9879\\u76ee\\u6570\\u5468\\u8d8b\\u52bf\\u56fe\", \"xaxis\": {\"mirror\": \"all\", \"nticks\": 20, \"showgrid\": true, \"showline\": true, \"title\": \"\\u5468\", \"type\": \"category\", \"zeroline\": true}, \"yaxis\": {\"mirror\": \"all\", \"nticks\": 20, \"showgrid\": true, \"showline\": true, \"title\": \"\\u5ef6\\u671f\\u9879\\u76ee\\u6570&\\u6682\\u505c\\u9879\\u76ee\\u6570\", \"zeroline\": true}}, {\"showLink\": true, \"linkText\": \"Export to plot.ly\"})});</script>"
      ],
      "text/vnd.plotly.v1+html": [
       "<div id=\"1eba9fe2-ec57-4501-889f-9b9ca0135374\" style=\"height: 525px; width: 100%;\" class=\"plotly-graph-div\"></div><script type=\"text/javascript\">require([\"plotly\"], function(Plotly) { window.PLOTLYENV=window.PLOTLYENV || {};window.PLOTLYENV.BASE_URL=\"https://plot.ly\";Plotly.newPlot(\"1eba9fe2-ec57-4501-889f-9b9ca0135374\", [{\"line\": {\"dash\": \"solid\"}, \"name\": \"\\u5ef6\\u671f\\u9879\\u76ee\\u6570(\\u86cb\\u767d\\u548c\\u533b\\u5b66\\u7ec4)\", \"x\": [\"10-2\", \"10-3\", \"10-4\"], \"y\": [0.0, 1.0, 3.0], \"type\": \"scatter\", \"uid\": \"55a91cd4-dbfd-11e8-8ddb-a41f72875c19\"}, {\"line\": {\"dash\": \"dot\"}, \"name\": \"\\u5ef6\\u671f\\u9879\\u76ee\\u6570(\\u4e49\\u4e4c\\u751f\\u4fe1\\u7ec4)\", \"x\": [\"10-2\", \"10-3\", \"10-4\"], \"y\": [null, null, 0.0], \"type\": \"scatter\", \"uid\": \"55a91cd5-dbfd-11e8-8ddb-a41f72875c19\"}, {\"line\": {\"dash\": \"dash\"}, \"name\": \"\\u5ef6\\u671f\\u9879\\u76ee\\u6570(\\u5206\\u6790\\u7ec4)\", \"x\": [\"10-2\", \"10-3\", \"10-4\"], \"y\": [null, null, 0.0], \"type\": \"scatter\", \"uid\": \"55a91cd6-dbfd-11e8-8ddb-a41f72875c19\"}, {\"line\": {\"dash\": \"longdash\"}, \"name\": \"\\u5ef6\\u671f\\u9879\\u76ee\\u6570(QC)\", \"x\": [\"10-2\", \"10-3\", \"10-4\"], \"y\": [0.0, null, 1.0], \"type\": \"scatter\", \"uid\": \"55a91cd7-dbfd-11e8-8ddb-a41f72875c19\"}, {\"line\": {\"dash\": \"dashdot\"}, \"name\": \"\\u5ef6\\u671f\\u9879\\u76ee\\u6570(\\u751f\\u7269\\u5b66DNA\\u7ec4)\", \"x\": [\"10-2\", \"10-3\", \"10-4\"], \"y\": [2.0, 4.0, 9.0], \"type\": \"scatter\", \"uid\": \"55a91cd8-dbfd-11e8-8ddb-a41f72875c19\"}, {\"line\": {\"dash\": \"longdashdot\"}, \"name\": \"\\u5ef6\\u671f\\u9879\\u76ee\\u6570(\\u8f6c\\u5f55\\u8c03\\u63a7\\u7ec4)\", \"x\": [\"10-2\", \"10-3\", \"10-4\"], \"y\": [0.0, 0.0, 0.0], \"type\": \"scatter\", \"uid\": \"55a91cd9-dbfd-11e8-8ddb-a41f72875c19\"}, {\"line\": {\"dash\": \"solid\"}, \"name\": \"\\u6682\\u505c\\u9879\\u76ee\\u6570(\\u86cb\\u767d\\u548c\\u533b\\u5b66\\u7ec4)\", \"x\": [\"10-2\", \"10-3\", \"10-4\"], \"y\": [0.0, 0.0, 0.0], \"type\": \"scatter\", \"uid\": \"55a91cda-dbfd-11e8-8ddb-a41f72875c19\"}, {\"line\": {\"dash\": \"dot\"}, \"name\": \"\\u6682\\u505c\\u9879\\u76ee\\u6570(\\u4e49\\u4e4c\\u751f\\u4fe1\\u7ec4)\", \"x\": [\"10-2\", \"10-3\", \"10-4\"], \"y\": [null, null, 0.0], \"type\": \"scatter\", \"uid\": \"55a91cdb-dbfd-11e8-8ddb-a41f72875c19\"}, {\"line\": {\"dash\": \"dash\"}, \"name\": \"\\u6682\\u505c\\u9879\\u76ee\\u6570(\\u5206\\u6790\\u7ec4)\", \"x\": [\"10-2\", \"10-3\", \"10-4\"], \"y\": [null, null, 0.0], \"type\": \"scatter\", \"uid\": \"55a91cdc-dbfd-11e8-8ddb-a41f72875c19\"}, {\"line\": {\"dash\": \"longdash\"}, \"name\": \"\\u6682\\u505c\\u9879\\u76ee\\u6570(QC)\", \"x\": [\"10-2\", \"10-3\", \"10-4\"], \"y\": [0.0, null, 0.0], \"type\": \"scatter\", \"uid\": \"55a91cdd-dbfd-11e8-8ddb-a41f72875c19\"}, {\"line\": {\"dash\": \"dashdot\"}, \"name\": \"\\u6682\\u505c\\u9879\\u76ee\\u6570(\\u751f\\u7269\\u5b66DNA\\u7ec4)\", \"x\": [\"10-2\", \"10-3\", \"10-4\"], \"y\": [0.0, 0.0, 0.0], \"type\": \"scatter\", \"uid\": \"55a91cde-dbfd-11e8-8ddb-a41f72875c19\"}, {\"line\": {\"dash\": \"longdashdot\"}, \"name\": \"\\u6682\\u505c\\u9879\\u76ee\\u6570(\\u8f6c\\u5f55\\u8c03\\u63a7\\u7ec4)\", \"x\": [\"10-2\", \"10-3\", \"10-4\"], \"y\": [0.0, 0.0, 0.0], \"type\": \"scatter\", \"uid\": \"55a91cdf-dbfd-11e8-8ddb-a41f72875c19\"}], {\"title\": \"\\u5ef6\\u671f\\u9879\\u76ee\\u6570&\\u6682\\u505c\\u9879\\u76ee\\u6570\\u5468\\u8d8b\\u52bf\\u56fe\", \"xaxis\": {\"mirror\": \"all\", \"nticks\": 20, \"showgrid\": true, \"showline\": true, \"title\": \"\\u5468\", \"type\": \"category\", \"zeroline\": true}, \"yaxis\": {\"mirror\": \"all\", \"nticks\": 20, \"showgrid\": true, \"showline\": true, \"title\": \"\\u5ef6\\u671f\\u9879\\u76ee\\u6570&\\u6682\\u505c\\u9879\\u76ee\\u6570\", \"zeroline\": true}}, {\"showLink\": true, \"linkText\": \"Export to plot.ly\"})});</script>"
      ]
     },
     "metadata": {},
     "output_type": "display_data"
    }
   ],
   "source": [
    "ss=myModule.format(all_dict ,\"日期\" ,['延期项目数', '暂停项目数'])\n",
    "ss.add_group('组别')\n",
    "tt = myModule.myPlot(ss.groupby('sum'))\n",
    "tt.plot('line')"
   ]
  },
  {
   "cell_type": "markdown",
   "metadata": {
    "hide_input": true
   },
   "source": [
    "### 各组成长指数"
   ]
  },
  {
   "cell_type": "markdown",
   "metadata": {},
   "source": [
    "#### 各组内部沟通、市场支持、出差和禅道bug"
   ]
  },
  {
   "cell_type": "code",
   "execution_count": 40,
   "metadata": {
    "collapsed": false
   },
   "outputs": [
    {
     "data": {
      "application/vnd.plotly.v1+json": {
       "data": [
        {
         "line": {
          "dash": "solid"
         },
         "name": "禅道bug(蛋白和医学组)",
         "type": "scatter",
         "uid": "55a91ce0-dbfd-11e8-8ddb-a41f72875c19",
         "x": [
          "10-2",
          "10-3",
          "10-4"
         ],
         "y": [
          0,
          0,
          0
         ]
        },
        {
         "line": {
          "dash": "dot"
         },
         "name": "禅道bug(义乌生信组)",
         "type": "scatter",
         "uid": "55a91ce1-dbfd-11e8-8ddb-a41f72875c19",
         "x": [
          "10-2",
          "10-3",
          "10-4"
         ],
         "y": [
          null,
          null,
          0
         ]
        },
        {
         "line": {
          "dash": "dash"
         },
         "name": "禅道bug(分析组)",
         "type": "scatter",
         "uid": "55a91ce2-dbfd-11e8-8ddb-a41f72875c19",
         "x": [
          "10-2",
          "10-3",
          "10-4"
         ],
         "y": [
          null,
          null,
          0
         ]
        },
        {
         "line": {
          "dash": "longdash"
         },
         "name": "禅道bug(QC)",
         "type": "scatter",
         "uid": "55a91ce3-dbfd-11e8-8ddb-a41f72875c19",
         "x": [
          "10-2",
          "10-3",
          "10-4"
         ],
         "y": [
          0,
          null,
          0
         ]
        },
        {
         "line": {
          "dash": "dashdot"
         },
         "name": "禅道bug(生物学DNA组)",
         "type": "scatter",
         "uid": "55a91ce4-dbfd-11e8-8ddb-a41f72875c19",
         "x": [
          "10-2",
          "10-3",
          "10-4"
         ],
         "y": [
          0,
          0,
          0
         ]
        },
        {
         "line": {
          "dash": "longdashdot"
         },
         "name": "禅道bug(转录调控组)",
         "type": "scatter",
         "uid": "55a91ce5-dbfd-11e8-8ddb-a41f72875c19",
         "x": [
          "10-2",
          "10-3",
          "10-4"
         ],
         "y": [
          0,
          1,
          1
         ]
        },
        {
         "line": {
          "dash": "solid"
         },
         "name": "内部沟通(蛋白和医学组)",
         "type": "scatter",
         "uid": "55a91ce6-dbfd-11e8-8ddb-a41f72875c19",
         "x": [
          "10-2",
          "10-3",
          "10-4"
         ],
         "y": [
          0,
          0,
          3
         ]
        },
        {
         "line": {
          "dash": "dot"
         },
         "name": "内部沟通(义乌生信组)",
         "type": "scatter",
         "uid": "55a91ce7-dbfd-11e8-8ddb-a41f72875c19",
         "x": [
          "10-2",
          "10-3",
          "10-4"
         ],
         "y": [
          null,
          null,
          0
         ]
        },
        {
         "line": {
          "dash": "dash"
         },
         "name": "内部沟通(分析组)",
         "type": "scatter",
         "uid": "55a91ce8-dbfd-11e8-8ddb-a41f72875c19",
         "x": [
          "10-2",
          "10-3",
          "10-4"
         ],
         "y": [
          null,
          null,
          0
         ]
        },
        {
         "line": {
          "dash": "longdash"
         },
         "name": "内部沟通(QC)",
         "type": "scatter",
         "uid": "55a91ce9-dbfd-11e8-8ddb-a41f72875c19",
         "x": [
          "10-2",
          "10-3",
          "10-4"
         ],
         "y": [
          0,
          null,
          0
         ]
        },
        {
         "line": {
          "dash": "dashdot"
         },
         "name": "内部沟通(生物学DNA组)",
         "type": "scatter",
         "uid": "55a91cea-dbfd-11e8-8ddb-a41f72875c19",
         "x": [
          "10-2",
          "10-3",
          "10-4"
         ],
         "y": [
          0,
          0,
          0
         ]
        },
        {
         "line": {
          "dash": "longdashdot"
         },
         "name": "内部沟通(转录调控组)",
         "type": "scatter",
         "uid": "55a91ceb-dbfd-11e8-8ddb-a41f72875c19",
         "x": [
          "10-2",
          "10-3",
          "10-4"
         ],
         "y": [
          0,
          0,
          4
         ]
        },
        {
         "line": {
          "dash": "solid"
         },
         "name": "市场支持(蛋白和医学组)",
         "type": "scatter",
         "uid": "55a91cec-dbfd-11e8-8ddb-a41f72875c19",
         "x": [
          "10-2",
          "10-3",
          "10-4"
         ],
         "y": [
          0,
          0,
          0
         ]
        },
        {
         "line": {
          "dash": "dot"
         },
         "name": "市场支持(义乌生信组)",
         "type": "scatter",
         "uid": "55a91ced-dbfd-11e8-8ddb-a41f72875c19",
         "x": [
          "10-2",
          "10-3",
          "10-4"
         ],
         "y": [
          null,
          null,
          0
         ]
        },
        {
         "line": {
          "dash": "dash"
         },
         "name": "市场支持(分析组)",
         "type": "scatter",
         "uid": "55a91cee-dbfd-11e8-8ddb-a41f72875c19",
         "x": [
          "10-2",
          "10-3",
          "10-4"
         ],
         "y": [
          null,
          null,
          0
         ]
        },
        {
         "line": {
          "dash": "longdash"
         },
         "name": "市场支持(QC)",
         "type": "scatter",
         "uid": "55a91cef-dbfd-11e8-8ddb-a41f72875c19",
         "x": [
          "10-2",
          "10-3",
          "10-4"
         ],
         "y": [
          0,
          null,
          0
         ]
        },
        {
         "line": {
          "dash": "dashdot"
         },
         "name": "市场支持(生物学DNA组)",
         "type": "scatter",
         "uid": "55a91cf0-dbfd-11e8-8ddb-a41f72875c19",
         "x": [
          "10-2",
          "10-3",
          "10-4"
         ],
         "y": [
          0,
          4,
          0
         ]
        },
        {
         "line": {
          "dash": "longdashdot"
         },
         "name": "市场支持(转录调控组)",
         "type": "scatter",
         "uid": "55a91cf1-dbfd-11e8-8ddb-a41f72875c19",
         "x": [
          "10-2",
          "10-3",
          "10-4"
         ],
         "y": [
          0,
          1,
          0
         ]
        },
        {
         "line": {
          "dash": "solid"
         },
         "name": "出差(蛋白和医学组)",
         "type": "scatter",
         "uid": "55a91cf2-dbfd-11e8-8ddb-a41f72875c19",
         "x": [
          "10-2",
          "10-3",
          "10-4"
         ],
         "y": [
          0,
          0,
          1
         ]
        },
        {
         "line": {
          "dash": "dot"
         },
         "name": "出差(义乌生信组)",
         "type": "scatter",
         "uid": "55a91cf3-dbfd-11e8-8ddb-a41f72875c19",
         "x": [
          "10-2",
          "10-3",
          "10-4"
         ],
         "y": [
          null,
          null,
          0
         ]
        },
        {
         "line": {
          "dash": "dash"
         },
         "name": "出差(分析组)",
         "type": "scatter",
         "uid": "55a91cf4-dbfd-11e8-8ddb-a41f72875c19",
         "x": [
          "10-2",
          "10-3",
          "10-4"
         ],
         "y": [
          null,
          null,
          0
         ]
        },
        {
         "line": {
          "dash": "longdash"
         },
         "name": "出差(QC)",
         "type": "scatter",
         "uid": "55a91cf5-dbfd-11e8-8ddb-a41f72875c19",
         "x": [
          "10-2",
          "10-3",
          "10-4"
         ],
         "y": [
          0,
          null,
          0
         ]
        },
        {
         "line": {
          "dash": "dashdot"
         },
         "name": "出差(生物学DNA组)",
         "type": "scatter",
         "uid": "55a91cf6-dbfd-11e8-8ddb-a41f72875c19",
         "x": [
          "10-2",
          "10-3",
          "10-4"
         ],
         "y": [
          0,
          3,
          1
         ]
        },
        {
         "line": {
          "dash": "longdashdot"
         },
         "name": "出差(转录调控组)",
         "type": "scatter",
         "uid": "55a91cf7-dbfd-11e8-8ddb-a41f72875c19",
         "x": [
          "10-2",
          "10-3",
          "10-4"
         ],
         "y": [
          0,
          1,
          0
         ]
        }
       ],
       "layout": {
        "title": "禅道bug&内部沟通&市场支持&出差周趋势图",
        "xaxis": {
         "mirror": "all",
         "nticks": 20,
         "showgrid": true,
         "showline": true,
         "title": "周",
         "type": "category",
         "zeroline": true
        },
        "yaxis": {
         "mirror": "all",
         "nticks": 20,
         "showgrid": true,
         "showline": true,
         "title": "禅道bug&内部沟通&市场支持&出差",
         "zeroline": true
        }
       }
      },
      "text/html": [
       "<div id=\"9d8e755b-5ab0-4cbb-8ead-c0322a038e38\" style=\"height: 525px; width: 100%;\" class=\"plotly-graph-div\"></div><script type=\"text/javascript\">require([\"plotly\"], function(Plotly) { window.PLOTLYENV=window.PLOTLYENV || {};window.PLOTLYENV.BASE_URL=\"https://plot.ly\";Plotly.newPlot(\"9d8e755b-5ab0-4cbb-8ead-c0322a038e38\", [{\"line\": {\"dash\": \"solid\"}, \"name\": \"\\u7985\\u9053bug(\\u86cb\\u767d\\u548c\\u533b\\u5b66\\u7ec4)\", \"x\": [\"10-2\", \"10-3\", \"10-4\"], \"y\": [0.0, 0.0, 0.0], \"type\": \"scatter\", \"uid\": \"55a91ce0-dbfd-11e8-8ddb-a41f72875c19\"}, {\"line\": {\"dash\": \"dot\"}, \"name\": \"\\u7985\\u9053bug(\\u4e49\\u4e4c\\u751f\\u4fe1\\u7ec4)\", \"x\": [\"10-2\", \"10-3\", \"10-4\"], \"y\": [null, null, 0.0], \"type\": \"scatter\", \"uid\": \"55a91ce1-dbfd-11e8-8ddb-a41f72875c19\"}, {\"line\": {\"dash\": \"dash\"}, \"name\": \"\\u7985\\u9053bug(\\u5206\\u6790\\u7ec4)\", \"x\": [\"10-2\", \"10-3\", \"10-4\"], \"y\": [null, null, 0.0], \"type\": \"scatter\", \"uid\": \"55a91ce2-dbfd-11e8-8ddb-a41f72875c19\"}, {\"line\": {\"dash\": \"longdash\"}, \"name\": \"\\u7985\\u9053bug(QC)\", \"x\": [\"10-2\", \"10-3\", \"10-4\"], \"y\": [0.0, null, 0.0], \"type\": \"scatter\", \"uid\": \"55a91ce3-dbfd-11e8-8ddb-a41f72875c19\"}, {\"line\": {\"dash\": \"dashdot\"}, \"name\": \"\\u7985\\u9053bug(\\u751f\\u7269\\u5b66DNA\\u7ec4)\", \"x\": [\"10-2\", \"10-3\", \"10-4\"], \"y\": [0.0, 0.0, 0.0], \"type\": \"scatter\", \"uid\": \"55a91ce4-dbfd-11e8-8ddb-a41f72875c19\"}, {\"line\": {\"dash\": \"longdashdot\"}, \"name\": \"\\u7985\\u9053bug(\\u8f6c\\u5f55\\u8c03\\u63a7\\u7ec4)\", \"x\": [\"10-2\", \"10-3\", \"10-4\"], \"y\": [0.0, 1.0, 1.0], \"type\": \"scatter\", \"uid\": \"55a91ce5-dbfd-11e8-8ddb-a41f72875c19\"}, {\"line\": {\"dash\": \"solid\"}, \"name\": \"\\u5185\\u90e8\\u6c9f\\u901a(\\u86cb\\u767d\\u548c\\u533b\\u5b66\\u7ec4)\", \"x\": [\"10-2\", \"10-3\", \"10-4\"], \"y\": [0.0, 0.0, 3.0], \"type\": \"scatter\", \"uid\": \"55a91ce6-dbfd-11e8-8ddb-a41f72875c19\"}, {\"line\": {\"dash\": \"dot\"}, \"name\": \"\\u5185\\u90e8\\u6c9f\\u901a(\\u4e49\\u4e4c\\u751f\\u4fe1\\u7ec4)\", \"x\": [\"10-2\", \"10-3\", \"10-4\"], \"y\": [null, null, 0.0], \"type\": \"scatter\", \"uid\": \"55a91ce7-dbfd-11e8-8ddb-a41f72875c19\"}, {\"line\": {\"dash\": \"dash\"}, \"name\": \"\\u5185\\u90e8\\u6c9f\\u901a(\\u5206\\u6790\\u7ec4)\", \"x\": [\"10-2\", \"10-3\", \"10-4\"], \"y\": [null, null, 0.0], \"type\": \"scatter\", \"uid\": \"55a91ce8-dbfd-11e8-8ddb-a41f72875c19\"}, {\"line\": {\"dash\": \"longdash\"}, \"name\": \"\\u5185\\u90e8\\u6c9f\\u901a(QC)\", \"x\": [\"10-2\", \"10-3\", \"10-4\"], \"y\": [0.0, null, 0.0], \"type\": \"scatter\", \"uid\": \"55a91ce9-dbfd-11e8-8ddb-a41f72875c19\"}, {\"line\": {\"dash\": \"dashdot\"}, \"name\": \"\\u5185\\u90e8\\u6c9f\\u901a(\\u751f\\u7269\\u5b66DNA\\u7ec4)\", \"x\": [\"10-2\", \"10-3\", \"10-4\"], \"y\": [0.0, 0.0, 0.0], \"type\": \"scatter\", \"uid\": \"55a91cea-dbfd-11e8-8ddb-a41f72875c19\"}, {\"line\": {\"dash\": \"longdashdot\"}, \"name\": \"\\u5185\\u90e8\\u6c9f\\u901a(\\u8f6c\\u5f55\\u8c03\\u63a7\\u7ec4)\", \"x\": [\"10-2\", \"10-3\", \"10-4\"], \"y\": [0.0, 0.0, 4.0], \"type\": \"scatter\", \"uid\": \"55a91ceb-dbfd-11e8-8ddb-a41f72875c19\"}, {\"line\": {\"dash\": \"solid\"}, \"name\": \"\\u5e02\\u573a\\u652f\\u6301(\\u86cb\\u767d\\u548c\\u533b\\u5b66\\u7ec4)\", \"x\": [\"10-2\", \"10-3\", \"10-4\"], \"y\": [0.0, 0.0, 0.0], \"type\": \"scatter\", \"uid\": \"55a91cec-dbfd-11e8-8ddb-a41f72875c19\"}, {\"line\": {\"dash\": \"dot\"}, \"name\": \"\\u5e02\\u573a\\u652f\\u6301(\\u4e49\\u4e4c\\u751f\\u4fe1\\u7ec4)\", \"x\": [\"10-2\", \"10-3\", \"10-4\"], \"y\": [null, null, 0.0], \"type\": \"scatter\", \"uid\": \"55a91ced-dbfd-11e8-8ddb-a41f72875c19\"}, {\"line\": {\"dash\": \"dash\"}, \"name\": \"\\u5e02\\u573a\\u652f\\u6301(\\u5206\\u6790\\u7ec4)\", \"x\": [\"10-2\", \"10-3\", \"10-4\"], \"y\": [null, null, 0.0], \"type\": \"scatter\", \"uid\": \"55a91cee-dbfd-11e8-8ddb-a41f72875c19\"}, {\"line\": {\"dash\": \"longdash\"}, \"name\": \"\\u5e02\\u573a\\u652f\\u6301(QC)\", \"x\": [\"10-2\", \"10-3\", \"10-4\"], \"y\": [0.0, null, 0.0], \"type\": \"scatter\", \"uid\": \"55a91cef-dbfd-11e8-8ddb-a41f72875c19\"}, {\"line\": {\"dash\": \"dashdot\"}, \"name\": \"\\u5e02\\u573a\\u652f\\u6301(\\u751f\\u7269\\u5b66DNA\\u7ec4)\", \"x\": [\"10-2\", \"10-3\", \"10-4\"], \"y\": [0.0, 4.0, 0.0], \"type\": \"scatter\", \"uid\": \"55a91cf0-dbfd-11e8-8ddb-a41f72875c19\"}, {\"line\": {\"dash\": \"longdashdot\"}, \"name\": \"\\u5e02\\u573a\\u652f\\u6301(\\u8f6c\\u5f55\\u8c03\\u63a7\\u7ec4)\", \"x\": [\"10-2\", \"10-3\", \"10-4\"], \"y\": [0.0, 1.0, 0.0], \"type\": \"scatter\", \"uid\": \"55a91cf1-dbfd-11e8-8ddb-a41f72875c19\"}, {\"line\": {\"dash\": \"solid\"}, \"name\": \"\\u51fa\\u5dee(\\u86cb\\u767d\\u548c\\u533b\\u5b66\\u7ec4)\", \"x\": [\"10-2\", \"10-3\", \"10-4\"], \"y\": [0.0, 0.0, 1.0], \"type\": \"scatter\", \"uid\": \"55a91cf2-dbfd-11e8-8ddb-a41f72875c19\"}, {\"line\": {\"dash\": \"dot\"}, \"name\": \"\\u51fa\\u5dee(\\u4e49\\u4e4c\\u751f\\u4fe1\\u7ec4)\", \"x\": [\"10-2\", \"10-3\", \"10-4\"], \"y\": [null, null, 0.0], \"type\": \"scatter\", \"uid\": \"55a91cf3-dbfd-11e8-8ddb-a41f72875c19\"}, {\"line\": {\"dash\": \"dash\"}, \"name\": \"\\u51fa\\u5dee(\\u5206\\u6790\\u7ec4)\", \"x\": [\"10-2\", \"10-3\", \"10-4\"], \"y\": [null, null, 0.0], \"type\": \"scatter\", \"uid\": \"55a91cf4-dbfd-11e8-8ddb-a41f72875c19\"}, {\"line\": {\"dash\": \"longdash\"}, \"name\": \"\\u51fa\\u5dee(QC)\", \"x\": [\"10-2\", \"10-3\", \"10-4\"], \"y\": [0.0, null, 0.0], \"type\": \"scatter\", \"uid\": \"55a91cf5-dbfd-11e8-8ddb-a41f72875c19\"}, {\"line\": {\"dash\": \"dashdot\"}, \"name\": \"\\u51fa\\u5dee(\\u751f\\u7269\\u5b66DNA\\u7ec4)\", \"x\": [\"10-2\", \"10-3\", \"10-4\"], \"y\": [0.0, 3.0, 1.0], \"type\": \"scatter\", \"uid\": \"55a91cf6-dbfd-11e8-8ddb-a41f72875c19\"}, {\"line\": {\"dash\": \"longdashdot\"}, \"name\": \"\\u51fa\\u5dee(\\u8f6c\\u5f55\\u8c03\\u63a7\\u7ec4)\", \"x\": [\"10-2\", \"10-3\", \"10-4\"], \"y\": [0.0, 1.0, 0.0], \"type\": \"scatter\", \"uid\": \"55a91cf7-dbfd-11e8-8ddb-a41f72875c19\"}], {\"title\": \"\\u7985\\u9053bug&\\u5185\\u90e8\\u6c9f\\u901a&\\u5e02\\u573a\\u652f\\u6301&\\u51fa\\u5dee\\u5468\\u8d8b\\u52bf\\u56fe\", \"xaxis\": {\"mirror\": \"all\", \"nticks\": 20, \"showgrid\": true, \"showline\": true, \"title\": \"\\u5468\", \"type\": \"category\", \"zeroline\": true}, \"yaxis\": {\"mirror\": \"all\", \"nticks\": 20, \"showgrid\": true, \"showline\": true, \"title\": \"\\u7985\\u9053bug&\\u5185\\u90e8\\u6c9f\\u901a&\\u5e02\\u573a\\u652f\\u6301&\\u51fa\\u5dee\", \"zeroline\": true}}, {\"showLink\": true, \"linkText\": \"Export to plot.ly\"})});</script>"
      ],
      "text/vnd.plotly.v1+html": [
       "<div id=\"9d8e755b-5ab0-4cbb-8ead-c0322a038e38\" style=\"height: 525px; width: 100%;\" class=\"plotly-graph-div\"></div><script type=\"text/javascript\">require([\"plotly\"], function(Plotly) { window.PLOTLYENV=window.PLOTLYENV || {};window.PLOTLYENV.BASE_URL=\"https://plot.ly\";Plotly.newPlot(\"9d8e755b-5ab0-4cbb-8ead-c0322a038e38\", [{\"line\": {\"dash\": \"solid\"}, \"name\": \"\\u7985\\u9053bug(\\u86cb\\u767d\\u548c\\u533b\\u5b66\\u7ec4)\", \"x\": [\"10-2\", \"10-3\", \"10-4\"], \"y\": [0.0, 0.0, 0.0], \"type\": \"scatter\", \"uid\": \"55a91ce0-dbfd-11e8-8ddb-a41f72875c19\"}, {\"line\": {\"dash\": \"dot\"}, \"name\": \"\\u7985\\u9053bug(\\u4e49\\u4e4c\\u751f\\u4fe1\\u7ec4)\", \"x\": [\"10-2\", \"10-3\", \"10-4\"], \"y\": [null, null, 0.0], \"type\": \"scatter\", \"uid\": \"55a91ce1-dbfd-11e8-8ddb-a41f72875c19\"}, {\"line\": {\"dash\": \"dash\"}, \"name\": \"\\u7985\\u9053bug(\\u5206\\u6790\\u7ec4)\", \"x\": [\"10-2\", \"10-3\", \"10-4\"], \"y\": [null, null, 0.0], \"type\": \"scatter\", \"uid\": \"55a91ce2-dbfd-11e8-8ddb-a41f72875c19\"}, {\"line\": {\"dash\": \"longdash\"}, \"name\": \"\\u7985\\u9053bug(QC)\", \"x\": [\"10-2\", \"10-3\", \"10-4\"], \"y\": [0.0, null, 0.0], \"type\": \"scatter\", \"uid\": \"55a91ce3-dbfd-11e8-8ddb-a41f72875c19\"}, {\"line\": {\"dash\": \"dashdot\"}, \"name\": \"\\u7985\\u9053bug(\\u751f\\u7269\\u5b66DNA\\u7ec4)\", \"x\": [\"10-2\", \"10-3\", \"10-4\"], \"y\": [0.0, 0.0, 0.0], \"type\": \"scatter\", \"uid\": \"55a91ce4-dbfd-11e8-8ddb-a41f72875c19\"}, {\"line\": {\"dash\": \"longdashdot\"}, \"name\": \"\\u7985\\u9053bug(\\u8f6c\\u5f55\\u8c03\\u63a7\\u7ec4)\", \"x\": [\"10-2\", \"10-3\", \"10-4\"], \"y\": [0.0, 1.0, 1.0], \"type\": \"scatter\", \"uid\": \"55a91ce5-dbfd-11e8-8ddb-a41f72875c19\"}, {\"line\": {\"dash\": \"solid\"}, \"name\": \"\\u5185\\u90e8\\u6c9f\\u901a(\\u86cb\\u767d\\u548c\\u533b\\u5b66\\u7ec4)\", \"x\": [\"10-2\", \"10-3\", \"10-4\"], \"y\": [0.0, 0.0, 3.0], \"type\": \"scatter\", \"uid\": \"55a91ce6-dbfd-11e8-8ddb-a41f72875c19\"}, {\"line\": {\"dash\": \"dot\"}, \"name\": \"\\u5185\\u90e8\\u6c9f\\u901a(\\u4e49\\u4e4c\\u751f\\u4fe1\\u7ec4)\", \"x\": [\"10-2\", \"10-3\", \"10-4\"], \"y\": [null, null, 0.0], \"type\": \"scatter\", \"uid\": \"55a91ce7-dbfd-11e8-8ddb-a41f72875c19\"}, {\"line\": {\"dash\": \"dash\"}, \"name\": \"\\u5185\\u90e8\\u6c9f\\u901a(\\u5206\\u6790\\u7ec4)\", \"x\": [\"10-2\", \"10-3\", \"10-4\"], \"y\": [null, null, 0.0], \"type\": \"scatter\", \"uid\": \"55a91ce8-dbfd-11e8-8ddb-a41f72875c19\"}, {\"line\": {\"dash\": \"longdash\"}, \"name\": \"\\u5185\\u90e8\\u6c9f\\u901a(QC)\", \"x\": [\"10-2\", \"10-3\", \"10-4\"], \"y\": [0.0, null, 0.0], \"type\": \"scatter\", \"uid\": \"55a91ce9-dbfd-11e8-8ddb-a41f72875c19\"}, {\"line\": {\"dash\": \"dashdot\"}, \"name\": \"\\u5185\\u90e8\\u6c9f\\u901a(\\u751f\\u7269\\u5b66DNA\\u7ec4)\", \"x\": [\"10-2\", \"10-3\", \"10-4\"], \"y\": [0.0, 0.0, 0.0], \"type\": \"scatter\", \"uid\": \"55a91cea-dbfd-11e8-8ddb-a41f72875c19\"}, {\"line\": {\"dash\": \"longdashdot\"}, \"name\": \"\\u5185\\u90e8\\u6c9f\\u901a(\\u8f6c\\u5f55\\u8c03\\u63a7\\u7ec4)\", \"x\": [\"10-2\", \"10-3\", \"10-4\"], \"y\": [0.0, 0.0, 4.0], \"type\": \"scatter\", \"uid\": \"55a91ceb-dbfd-11e8-8ddb-a41f72875c19\"}, {\"line\": {\"dash\": \"solid\"}, \"name\": \"\\u5e02\\u573a\\u652f\\u6301(\\u86cb\\u767d\\u548c\\u533b\\u5b66\\u7ec4)\", \"x\": [\"10-2\", \"10-3\", \"10-4\"], \"y\": [0.0, 0.0, 0.0], \"type\": \"scatter\", \"uid\": \"55a91cec-dbfd-11e8-8ddb-a41f72875c19\"}, {\"line\": {\"dash\": \"dot\"}, \"name\": \"\\u5e02\\u573a\\u652f\\u6301(\\u4e49\\u4e4c\\u751f\\u4fe1\\u7ec4)\", \"x\": [\"10-2\", \"10-3\", \"10-4\"], \"y\": [null, null, 0.0], \"type\": \"scatter\", \"uid\": \"55a91ced-dbfd-11e8-8ddb-a41f72875c19\"}, {\"line\": {\"dash\": \"dash\"}, \"name\": \"\\u5e02\\u573a\\u652f\\u6301(\\u5206\\u6790\\u7ec4)\", \"x\": [\"10-2\", \"10-3\", \"10-4\"], \"y\": [null, null, 0.0], \"type\": \"scatter\", \"uid\": \"55a91cee-dbfd-11e8-8ddb-a41f72875c19\"}, {\"line\": {\"dash\": \"longdash\"}, \"name\": \"\\u5e02\\u573a\\u652f\\u6301(QC)\", \"x\": [\"10-2\", \"10-3\", \"10-4\"], \"y\": [0.0, null, 0.0], \"type\": \"scatter\", \"uid\": \"55a91cef-dbfd-11e8-8ddb-a41f72875c19\"}, {\"line\": {\"dash\": \"dashdot\"}, \"name\": \"\\u5e02\\u573a\\u652f\\u6301(\\u751f\\u7269\\u5b66DNA\\u7ec4)\", \"x\": [\"10-2\", \"10-3\", \"10-4\"], \"y\": [0.0, 4.0, 0.0], \"type\": \"scatter\", \"uid\": \"55a91cf0-dbfd-11e8-8ddb-a41f72875c19\"}, {\"line\": {\"dash\": \"longdashdot\"}, \"name\": \"\\u5e02\\u573a\\u652f\\u6301(\\u8f6c\\u5f55\\u8c03\\u63a7\\u7ec4)\", \"x\": [\"10-2\", \"10-3\", \"10-4\"], \"y\": [0.0, 1.0, 0.0], \"type\": \"scatter\", \"uid\": \"55a91cf1-dbfd-11e8-8ddb-a41f72875c19\"}, {\"line\": {\"dash\": \"solid\"}, \"name\": \"\\u51fa\\u5dee(\\u86cb\\u767d\\u548c\\u533b\\u5b66\\u7ec4)\", \"x\": [\"10-2\", \"10-3\", \"10-4\"], \"y\": [0.0, 0.0, 1.0], \"type\": \"scatter\", \"uid\": \"55a91cf2-dbfd-11e8-8ddb-a41f72875c19\"}, {\"line\": {\"dash\": \"dot\"}, \"name\": \"\\u51fa\\u5dee(\\u4e49\\u4e4c\\u751f\\u4fe1\\u7ec4)\", \"x\": [\"10-2\", \"10-3\", \"10-4\"], \"y\": [null, null, 0.0], \"type\": \"scatter\", \"uid\": \"55a91cf3-dbfd-11e8-8ddb-a41f72875c19\"}, {\"line\": {\"dash\": \"dash\"}, \"name\": \"\\u51fa\\u5dee(\\u5206\\u6790\\u7ec4)\", \"x\": [\"10-2\", \"10-3\", \"10-4\"], \"y\": [null, null, 0.0], \"type\": \"scatter\", \"uid\": \"55a91cf4-dbfd-11e8-8ddb-a41f72875c19\"}, {\"line\": {\"dash\": \"longdash\"}, \"name\": \"\\u51fa\\u5dee(QC)\", \"x\": [\"10-2\", \"10-3\", \"10-4\"], \"y\": [0.0, null, 0.0], \"type\": \"scatter\", \"uid\": \"55a91cf5-dbfd-11e8-8ddb-a41f72875c19\"}, {\"line\": {\"dash\": \"dashdot\"}, \"name\": \"\\u51fa\\u5dee(\\u751f\\u7269\\u5b66DNA\\u7ec4)\", \"x\": [\"10-2\", \"10-3\", \"10-4\"], \"y\": [0.0, 3.0, 1.0], \"type\": \"scatter\", \"uid\": \"55a91cf6-dbfd-11e8-8ddb-a41f72875c19\"}, {\"line\": {\"dash\": \"longdashdot\"}, \"name\": \"\\u51fa\\u5dee(\\u8f6c\\u5f55\\u8c03\\u63a7\\u7ec4)\", \"x\": [\"10-2\", \"10-3\", \"10-4\"], \"y\": [0.0, 1.0, 0.0], \"type\": \"scatter\", \"uid\": \"55a91cf7-dbfd-11e8-8ddb-a41f72875c19\"}], {\"title\": \"\\u7985\\u9053bug&\\u5185\\u90e8\\u6c9f\\u901a&\\u5e02\\u573a\\u652f\\u6301&\\u51fa\\u5dee\\u5468\\u8d8b\\u52bf\\u56fe\", \"xaxis\": {\"mirror\": \"all\", \"nticks\": 20, \"showgrid\": true, \"showline\": true, \"title\": \"\\u5468\", \"type\": \"category\", \"zeroline\": true}, \"yaxis\": {\"mirror\": \"all\", \"nticks\": 20, \"showgrid\": true, \"showline\": true, \"title\": \"\\u7985\\u9053bug&\\u5185\\u90e8\\u6c9f\\u901a&\\u5e02\\u573a\\u652f\\u6301&\\u51fa\\u5dee\", \"zeroline\": true}}, {\"showLink\": true, \"linkText\": \"Export to plot.ly\"})});</script>"
      ]
     },
     "metadata": {},
     "output_type": "display_data"
    }
   ],
   "source": [
    "ss=myModule.format(all_dict ,\"日期\" ,['内部沟通','市场支持', '出差', '禅道bug'])\n",
    "ss.add_group('组别')\n",
    "tt = myModule.myPlot(ss.groupby('sum'))\n",
    "tt.plot('line')"
   ]
  },
  {
   "cell_type": "markdown",
   "metadata": {
    "hide_input": true
   },
   "source": [
    "## 个人情况"
   ]
  },
  {
   "cell_type": "markdown",
   "metadata": {},
   "source": [
    "### 个人下单情况"
   ]
  },
  {
   "cell_type": "markdown",
   "metadata": {},
   "source": [
    "\n",
    "#### 个人总下单数和完成下单数\n"
   ]
  },
  {
   "cell_type": "code",
   "execution_count": 53,
   "metadata": {
    "collapsed": false
   },
   "outputs": [
    {
     "data": {
      "application/vnd.plotly.v1+json": {
       "data": [
        {
         "line": {
          "dash": "solid"
         },
         "name": "总下单数(赵玥)",
         "type": "scatter",
         "uid": "bfe4c5cc-dbfd-11e8-8ddb-a41f72875c19",
         "x": [
          "10-2",
          "10-3",
          "10-4"
         ],
         "y": [
          4,
          6,
          5
         ]
        },
        {
         "line": {
          "dash": "dot"
         },
         "name": "总下单数(于勇一)",
         "type": "scatter",
         "uid": "bfe4c5cd-dbfd-11e8-8ddb-a41f72875c19",
         "x": [
          "10-2",
          "10-3",
          "10-4"
         ],
         "y": [
          7,
          5,
          4
         ]
        },
        {
         "line": {
          "dash": "dash"
         },
         "name": "总下单数(张守伟)",
         "type": "scatter",
         "uid": "bfe4c5ce-dbfd-11e8-8ddb-a41f72875c19",
         "x": [
          "10-2",
          "10-3",
          "10-4"
         ],
         "y": [
          3,
          3,
          4
         ]
        },
        {
         "line": {
          "dash": "longdash"
         },
         "name": "总下单数(冯敬岩)",
         "type": "scatter",
         "uid": "bfe4c5cf-dbfd-11e8-8ddb-a41f72875c19",
         "x": [
          "10-2",
          "10-3",
          "10-4"
         ],
         "y": [
          null,
          null,
          1
         ]
        },
        {
         "line": {
          "dash": "dashdot"
         },
         "name": "总下单数(路慧萍)",
         "type": "scatter",
         "uid": "bfe4c5d0-dbfd-11e8-8ddb-a41f72875c19",
         "x": [
          "10-2",
          "10-3",
          "10-4"
         ],
         "y": [
          5,
          6,
          8
         ]
        },
        {
         "line": {
          "dash": "longdashdot"
         },
         "name": "总下单数(陈鹏燕)",
         "type": "scatter",
         "uid": "bfe4c5d1-dbfd-11e8-8ddb-a41f72875c19",
         "x": [
          "10-2",
          "10-3",
          "10-4"
         ],
         "y": [
          null,
          5,
          4
         ]
        },
        {
         "line": {
          "dash": "solid"
         },
         "name": "总下单数(马潇)",
         "type": "scatter",
         "uid": "bfe4c5d2-dbfd-11e8-8ddb-a41f72875c19",
         "x": [
          "10-2",
          "10-3",
          "10-4"
         ],
         "y": [
          9,
          8,
          7
         ]
        },
        {
         "line": {
          "dash": "dot"
         },
         "name": "总下单数(车天栋)",
         "type": "scatter",
         "uid": "bfe4c5d3-dbfd-11e8-8ddb-a41f72875c19",
         "x": [
          "10-2",
          "10-3",
          "10-4"
         ],
         "y": [
          null,
          null,
          1
         ]
        },
        {
         "line": {
          "dash": "dash"
         },
         "name": "总下单数(沈恩惠)",
         "type": "scatter",
         "uid": "bfe4c5d4-dbfd-11e8-8ddb-a41f72875c19",
         "x": [
          "10-2",
          "10-3",
          "10-4"
         ],
         "y": [
          null,
          null,
          2
         ]
        },
        {
         "line": {
          "dash": "longdash"
         },
         "name": "总下单数(孟昊)",
         "type": "scatter",
         "uid": "bfe4c5d5-dbfd-11e8-8ddb-a41f72875c19",
         "x": [
          "10-2",
          "10-3",
          "10-4"
         ],
         "y": [
          7,
          7,
          7
         ]
        },
        {
         "line": {
          "dash": "dashdot"
         },
         "name": "总下单数(于慧)",
         "type": "scatter",
         "uid": "bfe4c5d6-dbfd-11e8-8ddb-a41f72875c19",
         "x": [
          "10-2",
          "10-3",
          "10-4"
         ],
         "y": [
          6,
          6,
          8
         ]
        },
        {
         "line": {
          "dash": "longdashdot"
         },
         "name": "总下单数(屈昂)",
         "type": "scatter",
         "uid": "bfe4c5d7-dbfd-11e8-8ddb-a41f72875c19",
         "x": [
          "10-2",
          "10-3",
          "10-4"
         ],
         "y": [
          1,
          null,
          1
         ]
        },
        {
         "line": {
          "dash": "solid"
         },
         "name": "总下单数(冷雪)",
         "type": "scatter",
         "uid": "bfe4c5d8-dbfd-11e8-8ddb-a41f72875c19",
         "x": [
          "10-2",
          "10-3",
          "10-4"
         ],
         "y": [
          2,
          null,
          1
         ]
        },
        {
         "line": {
          "dash": "dot"
         },
         "name": "总下单数(韩少怀)",
         "type": "scatter",
         "uid": "bfe4c5d9-dbfd-11e8-8ddb-a41f72875c19",
         "x": [
          "10-2",
          "10-3",
          "10-4"
         ],
         "y": [
          4,
          5,
          4
         ]
        },
        {
         "line": {
          "dash": "dash"
         },
         "name": "总下单数(涂成芳)",
         "type": "scatter",
         "uid": "bfe4c5da-dbfd-11e8-8ddb-a41f72875c19",
         "x": [
          "10-2",
          "10-3",
          "10-4"
         ],
         "y": [
          null,
          null,
          1
         ]
        },
        {
         "line": {
          "dash": "longdash"
         },
         "name": "总下单数(张悦)",
         "type": "scatter",
         "uid": "bfe4c5db-dbfd-11e8-8ddb-a41f72875c19",
         "x": [
          "10-2",
          "10-3",
          "10-4"
         ],
         "y": [
          null,
          null,
          1
         ]
        },
        {
         "line": {
          "dash": "dashdot"
         },
         "name": "总下单数(李华云)",
         "type": "scatter",
         "uid": "bfe4c5dc-dbfd-11e8-8ddb-a41f72875c19",
         "x": [
          "10-2",
          "10-3",
          "10-4"
         ],
         "y": [
          null,
          null,
          6
         ]
        },
        {
         "line": {
          "dash": "longdashdot"
         },
         "name": "总下单数(范旭宁)",
         "type": "scatter",
         "uid": "bfe4c5dd-dbfd-11e8-8ddb-a41f72875c19",
         "x": [
          "10-2",
          "10-3",
          "10-4"
         ],
         "y": [
          5,
          3,
          4
         ]
        },
        {
         "line": {
          "dash": "solid"
         },
         "name": "总下单数(段利强)",
         "type": "scatter",
         "uid": "bfe4c5de-dbfd-11e8-8ddb-a41f72875c19",
         "x": [
          "10-2",
          "10-3",
          "10-4"
         ],
         "y": [
          3,
          null,
          null
         ]
        },
        {
         "line": {
          "dash": "dot"
         },
         "name": "总下单数(姚盟成)",
         "type": "scatter",
         "uid": "bfe4c5df-dbfd-11e8-8ddb-a41f72875c19",
         "x": [
          "10-2",
          "10-3",
          "10-4"
         ],
         "y": [
          4,
          3,
          4
         ]
        },
        {
         "line": {
          "dash": "dash"
         },
         "name": "总下单数(杨伟飞)",
         "type": "scatter",
         "uid": "bfe4c5e0-dbfd-11e8-8ddb-a41f72875c19",
         "x": [
          "10-2",
          "10-3",
          "10-4"
         ],
         "y": [
          4,
          4,
          5
         ]
        },
        {
         "line": {
          "dash": "longdash"
         },
         "name": "总下单数(刘江)",
         "type": "scatter",
         "uid": "bfe4c5e1-dbfd-11e8-8ddb-a41f72875c19",
         "x": [
          "10-2",
          "10-3",
          "10-4"
         ],
         "y": [
          7,
          6,
          6
         ]
        },
        {
         "line": {
          "dash": "dashdot"
         },
         "name": "总下单数(苏彦勋)",
         "type": "scatter",
         "uid": "bfe4c5e2-dbfd-11e8-8ddb-a41f72875c19",
         "x": [
          "10-2",
          "10-3",
          "10-4"
         ],
         "y": [
          null,
          7,
          7
         ]
        },
        {
         "line": {
          "dash": "longdashdot"
         },
         "name": "总下单数(周杨)",
         "type": "scatter",
         "uid": "bfe4c5e3-dbfd-11e8-8ddb-a41f72875c19",
         "x": [
          "10-2",
          "10-3",
          "10-4"
         ],
         "y": [
          6,
          3,
          7
         ]
        },
        {
         "line": {
          "dash": "solid"
         },
         "name": "总下单数(占伟)",
         "type": "scatter",
         "uid": "bfe4c5e4-dbfd-11e8-8ddb-a41f72875c19",
         "x": [
          "10-2",
          "10-3",
          "10-4"
         ],
         "y": [
          9,
          9,
          6
         ]
        },
        {
         "line": {
          "dash": "dot"
         },
         "name": "总下单数(封彦杰)",
         "type": "scatter",
         "uid": "bfe4c5e5-dbfd-11e8-8ddb-a41f72875c19",
         "x": [
          "10-2",
          "10-3",
          "10-4"
         ],
         "y": [
          7,
          6,
          6
         ]
        },
        {
         "line": {
          "dash": "dash"
         },
         "name": "总下单数(刘三阳)",
         "type": "scatter",
         "uid": "bfe4c5e6-dbfd-11e8-8ddb-a41f72875c19",
         "x": [
          "10-2",
          "10-3",
          "10-4"
         ],
         "y": [
          null,
          1,
          null
         ]
        },
        {
         "line": {
          "dash": "longdash"
         },
         "name": "总下单数(昶吉阳)",
         "type": "scatter",
         "uid": "bfe4c5e7-dbfd-11e8-8ddb-a41f72875c19",
         "x": [
          "10-2",
          "10-3",
          "10-4"
         ],
         "y": [
          null,
          1,
          4
         ]
        },
        {
         "line": {
          "dash": "dashdot"
         },
         "name": "总下单数(任雪)",
         "type": "scatter",
         "uid": "bfe4c5e8-dbfd-11e8-8ddb-a41f72875c19",
         "x": [
          "10-2",
          "10-3",
          "10-4"
         ],
         "y": [
          7,
          4,
          3
         ]
        },
        {
         "line": {
          "dash": "longdashdot"
         },
         "name": "总下单数(李庆原)",
         "type": "scatter",
         "uid": "bfe4c5e9-dbfd-11e8-8ddb-a41f72875c19",
         "x": [
          "10-2",
          "10-3",
          "10-4"
         ],
         "y": [
          6,
          5,
          4
         ]
        },
        {
         "line": {
          "dash": "solid"
         },
         "name": "总下单数(谢德健)",
         "type": "scatter",
         "uid": "bfe4c5ea-dbfd-11e8-8ddb-a41f72875c19",
         "x": [
          "10-2",
          "10-3",
          "10-4"
         ],
         "y": [
          4,
          3,
          4
         ]
        },
        {
         "line": {
          "dash": "dot"
         },
         "name": "总下单数(林文文)",
         "type": "scatter",
         "uid": "bfe4c5eb-dbfd-11e8-8ddb-a41f72875c19",
         "x": [
          "10-2",
          "10-3",
          "10-4"
         ],
         "y": [
          null,
          null,
          1
         ]
        },
        {
         "line": {
          "dash": "dash"
         },
         "name": "总下单数(王红)",
         "type": "scatter",
         "uid": "bfe4c5ec-dbfd-11e8-8ddb-a41f72875c19",
         "x": [
          "10-2",
          "10-3",
          "10-4"
         ],
         "y": [
          null,
          null,
          1
         ]
        },
        {
         "line": {
          "dash": "solid"
         },
         "name": "完成下单数(赵玥)",
         "type": "scatter",
         "uid": "bfe4c5ed-dbfd-11e8-8ddb-a41f72875c19",
         "x": [
          "10-2",
          "10-3",
          "10-4"
         ],
         "y": [
          4,
          6,
          4
         ]
        },
        {
         "line": {
          "dash": "dot"
         },
         "name": "完成下单数(于勇一)",
         "type": "scatter",
         "uid": "bfe4c5ee-dbfd-11e8-8ddb-a41f72875c19",
         "x": [
          "10-2",
          "10-3",
          "10-4"
         ],
         "y": [
          5,
          5,
          4
         ]
        },
        {
         "line": {
          "dash": "dash"
         },
         "name": "完成下单数(张守伟)",
         "type": "scatter",
         "uid": "bfe4c5ef-dbfd-11e8-8ddb-a41f72875c19",
         "x": [
          "10-2",
          "10-3",
          "10-4"
         ],
         "y": [
          2,
          3,
          3
         ]
        },
        {
         "line": {
          "dash": "longdash"
         },
         "name": "完成下单数(冯敬岩)",
         "type": "scatter",
         "uid": "bfe4c5f0-dbfd-11e8-8ddb-a41f72875c19",
         "x": [
          "10-2",
          "10-3",
          "10-4"
         ],
         "y": [
          null,
          null,
          0
         ]
        },
        {
         "line": {
          "dash": "dashdot"
         },
         "name": "完成下单数(路慧萍)",
         "type": "scatter",
         "uid": "bfe4c5f1-dbfd-11e8-8ddb-a41f72875c19",
         "x": [
          "10-2",
          "10-3",
          "10-4"
         ],
         "y": [
          5,
          6,
          8
         ]
        },
        {
         "line": {
          "dash": "longdashdot"
         },
         "name": "完成下单数(陈鹏燕)",
         "type": "scatter",
         "uid": "bfe4c5f2-dbfd-11e8-8ddb-a41f72875c19",
         "x": [
          "10-2",
          "10-3",
          "10-4"
         ],
         "y": [
          null,
          4,
          4
         ]
        },
        {
         "line": {
          "dash": "solid"
         },
         "name": "完成下单数(马潇)",
         "type": "scatter",
         "uid": "bfe4c5f3-dbfd-11e8-8ddb-a41f72875c19",
         "x": [
          "10-2",
          "10-3",
          "10-4"
         ],
         "y": [
          8,
          6,
          7
         ]
        },
        {
         "line": {
          "dash": "dot"
         },
         "name": "完成下单数(车天栋)",
         "type": "scatter",
         "uid": "bfe4c5f4-dbfd-11e8-8ddb-a41f72875c19",
         "x": [
          "10-2",
          "10-3",
          "10-4"
         ],
         "y": [
          null,
          null,
          1
         ]
        },
        {
         "line": {
          "dash": "dash"
         },
         "name": "完成下单数(沈恩惠)",
         "type": "scatter",
         "uid": "bfe4c5f5-dbfd-11e8-8ddb-a41f72875c19",
         "x": [
          "10-2",
          "10-3",
          "10-4"
         ],
         "y": [
          null,
          null,
          2
         ]
        },
        {
         "line": {
          "dash": "longdash"
         },
         "name": "完成下单数(孟昊)",
         "type": "scatter",
         "uid": "bfe4c5f6-dbfd-11e8-8ddb-a41f72875c19",
         "x": [
          "10-2",
          "10-3",
          "10-4"
         ],
         "y": [
          7,
          7,
          7
         ]
        },
        {
         "line": {
          "dash": "dashdot"
         },
         "name": "完成下单数(于慧)",
         "type": "scatter",
         "uid": "bfe4c5f7-dbfd-11e8-8ddb-a41f72875c19",
         "x": [
          "10-2",
          "10-3",
          "10-4"
         ],
         "y": [
          6,
          5,
          8
         ]
        },
        {
         "line": {
          "dash": "longdashdot"
         },
         "name": "完成下单数(屈昂)",
         "type": "scatter",
         "uid": "bfe4c5f8-dbfd-11e8-8ddb-a41f72875c19",
         "x": [
          "10-2",
          "10-3",
          "10-4"
         ],
         "y": [
          1,
          null,
          1
         ]
        },
        {
         "line": {
          "dash": "solid"
         },
         "name": "完成下单数(冷雪)",
         "type": "scatter",
         "uid": "bfe4c5f9-dbfd-11e8-8ddb-a41f72875c19",
         "x": [
          "10-2",
          "10-3",
          "10-4"
         ],
         "y": [
          2,
          null,
          1
         ]
        },
        {
         "line": {
          "dash": "dot"
         },
         "name": "完成下单数(韩少怀)",
         "type": "scatter",
         "uid": "bfe4c5fa-dbfd-11e8-8ddb-a41f72875c19",
         "x": [
          "10-2",
          "10-3",
          "10-4"
         ],
         "y": [
          4,
          5,
          4
         ]
        },
        {
         "line": {
          "dash": "dash"
         },
         "name": "完成下单数(涂成芳)",
         "type": "scatter",
         "uid": "bfe4c5fb-dbfd-11e8-8ddb-a41f72875c19",
         "x": [
          "10-2",
          "10-3",
          "10-4"
         ],
         "y": [
          null,
          null,
          1
         ]
        },
        {
         "line": {
          "dash": "longdash"
         },
         "name": "完成下单数(张悦)",
         "type": "scatter",
         "uid": "bfe4c5fc-dbfd-11e8-8ddb-a41f72875c19",
         "x": [
          "10-2",
          "10-3",
          "10-4"
         ],
         "y": [
          null,
          null,
          0
         ]
        },
        {
         "line": {
          "dash": "dashdot"
         },
         "name": "完成下单数(李华云)",
         "type": "scatter",
         "uid": "bfe4c5fd-dbfd-11e8-8ddb-a41f72875c19",
         "x": [
          "10-2",
          "10-3",
          "10-4"
         ],
         "y": [
          null,
          null,
          4
         ]
        },
        {
         "line": {
          "dash": "longdashdot"
         },
         "name": "完成下单数(范旭宁)",
         "type": "scatter",
         "uid": "bfe4c5fe-dbfd-11e8-8ddb-a41f72875c19",
         "x": [
          "10-2",
          "10-3",
          "10-4"
         ],
         "y": [
          2,
          3,
          4
         ]
        },
        {
         "line": {
          "dash": "solid"
         },
         "name": "完成下单数(段利强)",
         "type": "scatter",
         "uid": "bfe4c5ff-dbfd-11e8-8ddb-a41f72875c19",
         "x": [
          "10-2",
          "10-3",
          "10-4"
         ],
         "y": [
          1,
          null,
          null
         ]
        },
        {
         "line": {
          "dash": "dot"
         },
         "name": "完成下单数(姚盟成)",
         "type": "scatter",
         "uid": "bfe4c600-dbfd-11e8-8ddb-a41f72875c19",
         "x": [
          "10-2",
          "10-3",
          "10-4"
         ],
         "y": [
          0,
          2,
          4
         ]
        },
        {
         "line": {
          "dash": "dash"
         },
         "name": "完成下单数(杨伟飞)",
         "type": "scatter",
         "uid": "bfe4c601-dbfd-11e8-8ddb-a41f72875c19",
         "x": [
          "10-2",
          "10-3",
          "10-4"
         ],
         "y": [
          1,
          4,
          3
         ]
        },
        {
         "line": {
          "dash": "longdash"
         },
         "name": "完成下单数(刘江)",
         "type": "scatter",
         "uid": "bfe4c602-dbfd-11e8-8ddb-a41f72875c19",
         "x": [
          "10-2",
          "10-3",
          "10-4"
         ],
         "y": [
          4,
          6,
          6
         ]
        },
        {
         "line": {
          "dash": "dashdot"
         },
         "name": "完成下单数(苏彦勋)",
         "type": "scatter",
         "uid": "bfe4c603-dbfd-11e8-8ddb-a41f72875c19",
         "x": [
          "10-2",
          "10-3",
          "10-4"
         ],
         "y": [
          null,
          7,
          7
         ]
        },
        {
         "line": {
          "dash": "longdashdot"
         },
         "name": "完成下单数(周杨)",
         "type": "scatter",
         "uid": "bfe4c604-dbfd-11e8-8ddb-a41f72875c19",
         "x": [
          "10-2",
          "10-3",
          "10-4"
         ],
         "y": [
          6,
          0,
          7
         ]
        },
        {
         "line": {
          "dash": "solid"
         },
         "name": "完成下单数(占伟)",
         "type": "scatter",
         "uid": "bfe4c605-dbfd-11e8-8ddb-a41f72875c19",
         "x": [
          "10-2",
          "10-3",
          "10-4"
         ],
         "y": [
          7,
          9,
          4
         ]
        },
        {
         "line": {
          "dash": "dot"
         },
         "name": "完成下单数(封彦杰)",
         "type": "scatter",
         "uid": "bfe4c606-dbfd-11e8-8ddb-a41f72875c19",
         "x": [
          "10-2",
          "10-3",
          "10-4"
         ],
         "y": [
          7,
          6,
          5
         ]
        },
        {
         "line": {
          "dash": "dash"
         },
         "name": "完成下单数(刘三阳)",
         "type": "scatter",
         "uid": "bfe4c607-dbfd-11e8-8ddb-a41f72875c19",
         "x": [
          "10-2",
          "10-3",
          "10-4"
         ],
         "y": [
          null,
          0,
          null
         ]
        },
        {
         "line": {
          "dash": "longdash"
         },
         "name": "完成下单数(昶吉阳)",
         "type": "scatter",
         "uid": "bfe4c608-dbfd-11e8-8ddb-a41f72875c19",
         "x": [
          "10-2",
          "10-3",
          "10-4"
         ],
         "y": [
          null,
          0,
          4
         ]
        },
        {
         "line": {
          "dash": "dashdot"
         },
         "name": "完成下单数(任雪)",
         "type": "scatter",
         "uid": "bfe4c609-dbfd-11e8-8ddb-a41f72875c19",
         "x": [
          "10-2",
          "10-3",
          "10-4"
         ],
         "y": [
          6,
          3,
          2
         ]
        },
        {
         "line": {
          "dash": "longdashdot"
         },
         "name": "完成下单数(李庆原)",
         "type": "scatter",
         "uid": "bfe4c60a-dbfd-11e8-8ddb-a41f72875c19",
         "x": [
          "10-2",
          "10-3",
          "10-4"
         ],
         "y": [
          6,
          4,
          4
         ]
        },
        {
         "line": {
          "dash": "solid"
         },
         "name": "完成下单数(谢德健)",
         "type": "scatter",
         "uid": "bfe4c60b-dbfd-11e8-8ddb-a41f72875c19",
         "x": [
          "10-2",
          "10-3",
          "10-4"
         ],
         "y": [
          3,
          2,
          4
         ]
        },
        {
         "line": {
          "dash": "dot"
         },
         "name": "完成下单数(林文文)",
         "type": "scatter",
         "uid": "bfe4c60c-dbfd-11e8-8ddb-a41f72875c19",
         "x": [
          "10-2",
          "10-3",
          "10-4"
         ],
         "y": [
          null,
          null,
          1
         ]
        },
        {
         "line": {
          "dash": "dash"
         },
         "name": "完成下单数(王红)",
         "type": "scatter",
         "uid": "bfe4c60d-dbfd-11e8-8ddb-a41f72875c19",
         "x": [
          "10-2",
          "10-3",
          "10-4"
         ],
         "y": [
          null,
          null,
          1
         ]
        }
       ],
       "layout": {
        "title": "总下单数&完成下单数周趋势图",
        "xaxis": {
         "mirror": "all",
         "nticks": 20,
         "showgrid": true,
         "showline": true,
         "title": "周",
         "type": "category",
         "zeroline": true
        },
        "yaxis": {
         "mirror": "all",
         "nticks": 20,
         "showgrid": true,
         "showline": true,
         "title": "总下单数&完成下单数",
         "zeroline": true
        }
       }
      },
      "text/html": [
       "<div id=\"cad0abdd-6224-4cd0-9c6d-937b931622a2\" style=\"height: 525px; width: 100%;\" class=\"plotly-graph-div\"></div><script type=\"text/javascript\">require([\"plotly\"], function(Plotly) { window.PLOTLYENV=window.PLOTLYENV || {};window.PLOTLYENV.BASE_URL=\"https://plot.ly\";Plotly.newPlot(\"cad0abdd-6224-4cd0-9c6d-937b931622a2\", [{\"line\": {\"dash\": \"solid\"}, \"name\": \"\\u603b\\u4e0b\\u5355\\u6570(\\u8d75\\u73a5)\", \"x\": [\"10-2\", \"10-3\", \"10-4\"], \"y\": [4.0, 6.0, 5.0], \"type\": \"scatter\", \"uid\": \"bfe4c5cc-dbfd-11e8-8ddb-a41f72875c19\"}, {\"line\": {\"dash\": \"dot\"}, \"name\": \"\\u603b\\u4e0b\\u5355\\u6570(\\u4e8e\\u52c7\\u4e00)\", \"x\": [\"10-2\", \"10-3\", \"10-4\"], \"y\": [7.0, 5.0, 4.0], \"type\": \"scatter\", \"uid\": \"bfe4c5cd-dbfd-11e8-8ddb-a41f72875c19\"}, {\"line\": {\"dash\": \"dash\"}, \"name\": \"\\u603b\\u4e0b\\u5355\\u6570(\\u5f20\\u5b88\\u4f1f)\", \"x\": [\"10-2\", \"10-3\", \"10-4\"], \"y\": [3.0, 3.0, 4.0], \"type\": \"scatter\", \"uid\": \"bfe4c5ce-dbfd-11e8-8ddb-a41f72875c19\"}, {\"line\": {\"dash\": \"longdash\"}, \"name\": \"\\u603b\\u4e0b\\u5355\\u6570(\\u51af\\u656c\\u5ca9)\", \"x\": [\"10-2\", \"10-3\", \"10-4\"], \"y\": [null, null, 1.0], \"type\": \"scatter\", \"uid\": \"bfe4c5cf-dbfd-11e8-8ddb-a41f72875c19\"}, {\"line\": {\"dash\": \"dashdot\"}, \"name\": \"\\u603b\\u4e0b\\u5355\\u6570(\\u8def\\u6167\\u840d)\", \"x\": [\"10-2\", \"10-3\", \"10-4\"], \"y\": [5.0, 6.0, 8.0], \"type\": \"scatter\", \"uid\": \"bfe4c5d0-dbfd-11e8-8ddb-a41f72875c19\"}, {\"line\": {\"dash\": \"longdashdot\"}, \"name\": \"\\u603b\\u4e0b\\u5355\\u6570(\\u9648\\u9e4f\\u71d5)\", \"x\": [\"10-2\", \"10-3\", \"10-4\"], \"y\": [null, 5.0, 4.0], \"type\": \"scatter\", \"uid\": \"bfe4c5d1-dbfd-11e8-8ddb-a41f72875c19\"}, {\"line\": {\"dash\": \"solid\"}, \"name\": \"\\u603b\\u4e0b\\u5355\\u6570(\\u9a6c\\u6f47)\", \"x\": [\"10-2\", \"10-3\", \"10-4\"], \"y\": [9.0, 8.0, 7.0], \"type\": \"scatter\", \"uid\": \"bfe4c5d2-dbfd-11e8-8ddb-a41f72875c19\"}, {\"line\": {\"dash\": \"dot\"}, \"name\": \"\\u603b\\u4e0b\\u5355\\u6570(\\u8f66\\u5929\\u680b)\", \"x\": [\"10-2\", \"10-3\", \"10-4\"], \"y\": [null, null, 1.0], \"type\": \"scatter\", \"uid\": \"bfe4c5d3-dbfd-11e8-8ddb-a41f72875c19\"}, {\"line\": {\"dash\": \"dash\"}, \"name\": \"\\u603b\\u4e0b\\u5355\\u6570(\\u6c88\\u6069\\u60e0)\", \"x\": [\"10-2\", \"10-3\", \"10-4\"], \"y\": [null, null, 2.0], \"type\": \"scatter\", \"uid\": \"bfe4c5d4-dbfd-11e8-8ddb-a41f72875c19\"}, {\"line\": {\"dash\": \"longdash\"}, \"name\": \"\\u603b\\u4e0b\\u5355\\u6570(\\u5b5f\\u660a)\", \"x\": [\"10-2\", \"10-3\", \"10-4\"], \"y\": [7.0, 7.0, 7.0], \"type\": \"scatter\", \"uid\": \"bfe4c5d5-dbfd-11e8-8ddb-a41f72875c19\"}, {\"line\": {\"dash\": \"dashdot\"}, \"name\": \"\\u603b\\u4e0b\\u5355\\u6570(\\u4e8e\\u6167)\", \"x\": [\"10-2\", \"10-3\", \"10-4\"], \"y\": [6.0, 6.0, 8.0], \"type\": \"scatter\", \"uid\": \"bfe4c5d6-dbfd-11e8-8ddb-a41f72875c19\"}, {\"line\": {\"dash\": \"longdashdot\"}, \"name\": \"\\u603b\\u4e0b\\u5355\\u6570(\\u5c48\\u6602)\", \"x\": [\"10-2\", \"10-3\", \"10-4\"], \"y\": [1.0, null, 1.0], \"type\": \"scatter\", \"uid\": \"bfe4c5d7-dbfd-11e8-8ddb-a41f72875c19\"}, {\"line\": {\"dash\": \"solid\"}, \"name\": \"\\u603b\\u4e0b\\u5355\\u6570(\\u51b7\\u96ea)\", \"x\": [\"10-2\", \"10-3\", \"10-4\"], \"y\": [2.0, null, 1.0], \"type\": \"scatter\", \"uid\": \"bfe4c5d8-dbfd-11e8-8ddb-a41f72875c19\"}, {\"line\": {\"dash\": \"dot\"}, \"name\": \"\\u603b\\u4e0b\\u5355\\u6570(\\u97e9\\u5c11\\u6000)\", \"x\": [\"10-2\", \"10-3\", \"10-4\"], \"y\": [4.0, 5.0, 4.0], \"type\": \"scatter\", \"uid\": \"bfe4c5d9-dbfd-11e8-8ddb-a41f72875c19\"}, {\"line\": {\"dash\": \"dash\"}, \"name\": \"\\u603b\\u4e0b\\u5355\\u6570(\\u6d82\\u6210\\u82b3)\", \"x\": [\"10-2\", \"10-3\", \"10-4\"], \"y\": [null, null, 1.0], \"type\": \"scatter\", \"uid\": \"bfe4c5da-dbfd-11e8-8ddb-a41f72875c19\"}, {\"line\": {\"dash\": \"longdash\"}, \"name\": \"\\u603b\\u4e0b\\u5355\\u6570(\\u5f20\\u60a6)\", \"x\": [\"10-2\", \"10-3\", \"10-4\"], \"y\": [null, null, 1.0], \"type\": \"scatter\", \"uid\": \"bfe4c5db-dbfd-11e8-8ddb-a41f72875c19\"}, {\"line\": {\"dash\": \"dashdot\"}, \"name\": \"\\u603b\\u4e0b\\u5355\\u6570(\\u674e\\u534e\\u4e91)\", \"x\": [\"10-2\", \"10-3\", \"10-4\"], \"y\": [null, null, 6.0], \"type\": \"scatter\", \"uid\": \"bfe4c5dc-dbfd-11e8-8ddb-a41f72875c19\"}, {\"line\": {\"dash\": \"longdashdot\"}, \"name\": \"\\u603b\\u4e0b\\u5355\\u6570(\\u8303\\u65ed\\u5b81)\", \"x\": [\"10-2\", \"10-3\", \"10-4\"], \"y\": [5.0, 3.0, 4.0], \"type\": \"scatter\", \"uid\": \"bfe4c5dd-dbfd-11e8-8ddb-a41f72875c19\"}, {\"line\": {\"dash\": \"solid\"}, \"name\": \"\\u603b\\u4e0b\\u5355\\u6570(\\u6bb5\\u5229\\u5f3a)\", \"x\": [\"10-2\", \"10-3\", \"10-4\"], \"y\": [3.0, null, null], \"type\": \"scatter\", \"uid\": \"bfe4c5de-dbfd-11e8-8ddb-a41f72875c19\"}, {\"line\": {\"dash\": \"dot\"}, \"name\": \"\\u603b\\u4e0b\\u5355\\u6570(\\u59da\\u76df\\u6210)\", \"x\": [\"10-2\", \"10-3\", \"10-4\"], \"y\": [4.0, 3.0, 4.0], \"type\": \"scatter\", \"uid\": \"bfe4c5df-dbfd-11e8-8ddb-a41f72875c19\"}, {\"line\": {\"dash\": \"dash\"}, \"name\": \"\\u603b\\u4e0b\\u5355\\u6570(\\u6768\\u4f1f\\u98de)\", \"x\": [\"10-2\", \"10-3\", \"10-4\"], \"y\": [4.0, 4.0, 5.0], \"type\": \"scatter\", \"uid\": \"bfe4c5e0-dbfd-11e8-8ddb-a41f72875c19\"}, {\"line\": {\"dash\": \"longdash\"}, \"name\": \"\\u603b\\u4e0b\\u5355\\u6570(\\u5218\\u6c5f)\", \"x\": [\"10-2\", \"10-3\", \"10-4\"], \"y\": [7.0, 6.0, 6.0], \"type\": \"scatter\", \"uid\": \"bfe4c5e1-dbfd-11e8-8ddb-a41f72875c19\"}, {\"line\": {\"dash\": \"dashdot\"}, \"name\": \"\\u603b\\u4e0b\\u5355\\u6570(\\u82cf\\u5f66\\u52cb)\", \"x\": [\"10-2\", \"10-3\", \"10-4\"], \"y\": [null, 7.0, 7.0], \"type\": \"scatter\", \"uid\": \"bfe4c5e2-dbfd-11e8-8ddb-a41f72875c19\"}, {\"line\": {\"dash\": \"longdashdot\"}, \"name\": \"\\u603b\\u4e0b\\u5355\\u6570(\\u5468\\u6768)\", \"x\": [\"10-2\", \"10-3\", \"10-4\"], \"y\": [6.0, 3.0, 7.0], \"type\": \"scatter\", \"uid\": \"bfe4c5e3-dbfd-11e8-8ddb-a41f72875c19\"}, {\"line\": {\"dash\": \"solid\"}, \"name\": \"\\u603b\\u4e0b\\u5355\\u6570(\\u5360\\u4f1f)\", \"x\": [\"10-2\", \"10-3\", \"10-4\"], \"y\": [9.0, 9.0, 6.0], \"type\": \"scatter\", \"uid\": \"bfe4c5e4-dbfd-11e8-8ddb-a41f72875c19\"}, {\"line\": {\"dash\": \"dot\"}, \"name\": \"\\u603b\\u4e0b\\u5355\\u6570(\\u5c01\\u5f66\\u6770)\", \"x\": [\"10-2\", \"10-3\", \"10-4\"], \"y\": [7.0, 6.0, 6.0], \"type\": \"scatter\", \"uid\": \"bfe4c5e5-dbfd-11e8-8ddb-a41f72875c19\"}, {\"line\": {\"dash\": \"dash\"}, \"name\": \"\\u603b\\u4e0b\\u5355\\u6570(\\u5218\\u4e09\\u9633)\", \"x\": [\"10-2\", \"10-3\", \"10-4\"], \"y\": [null, 1.0, null], \"type\": \"scatter\", \"uid\": \"bfe4c5e6-dbfd-11e8-8ddb-a41f72875c19\"}, {\"line\": {\"dash\": \"longdash\"}, \"name\": \"\\u603b\\u4e0b\\u5355\\u6570(\\u6636\\u5409\\u9633)\", \"x\": [\"10-2\", \"10-3\", \"10-4\"], \"y\": [null, 1.0, 4.0], \"type\": \"scatter\", \"uid\": \"bfe4c5e7-dbfd-11e8-8ddb-a41f72875c19\"}, {\"line\": {\"dash\": \"dashdot\"}, \"name\": \"\\u603b\\u4e0b\\u5355\\u6570(\\u4efb\\u96ea)\", \"x\": [\"10-2\", \"10-3\", \"10-4\"], \"y\": [7.0, 4.0, 3.0], \"type\": \"scatter\", \"uid\": \"bfe4c5e8-dbfd-11e8-8ddb-a41f72875c19\"}, {\"line\": {\"dash\": \"longdashdot\"}, \"name\": \"\\u603b\\u4e0b\\u5355\\u6570(\\u674e\\u5e86\\u539f)\", \"x\": [\"10-2\", \"10-3\", \"10-4\"], \"y\": [6.0, 5.0, 4.0], \"type\": \"scatter\", \"uid\": \"bfe4c5e9-dbfd-11e8-8ddb-a41f72875c19\"}, {\"line\": {\"dash\": \"solid\"}, \"name\": \"\\u603b\\u4e0b\\u5355\\u6570(\\u8c22\\u5fb7\\u5065)\", \"x\": [\"10-2\", \"10-3\", \"10-4\"], \"y\": [4.0, 3.0, 4.0], \"type\": \"scatter\", \"uid\": \"bfe4c5ea-dbfd-11e8-8ddb-a41f72875c19\"}, {\"line\": {\"dash\": \"dot\"}, \"name\": \"\\u603b\\u4e0b\\u5355\\u6570(\\u6797\\u6587\\u6587)\", \"x\": [\"10-2\", \"10-3\", \"10-4\"], \"y\": [null, null, 1.0], \"type\": \"scatter\", \"uid\": \"bfe4c5eb-dbfd-11e8-8ddb-a41f72875c19\"}, {\"line\": {\"dash\": \"dash\"}, \"name\": \"\\u603b\\u4e0b\\u5355\\u6570(\\u738b\\u7ea2)\", \"x\": [\"10-2\", \"10-3\", \"10-4\"], \"y\": [null, null, 1.0], \"type\": \"scatter\", \"uid\": \"bfe4c5ec-dbfd-11e8-8ddb-a41f72875c19\"}, {\"line\": {\"dash\": \"solid\"}, \"name\": \"\\u5b8c\\u6210\\u4e0b\\u5355\\u6570(\\u8d75\\u73a5)\", \"x\": [\"10-2\", \"10-3\", \"10-4\"], \"y\": [4.0, 6.0, 4.0], \"type\": \"scatter\", \"uid\": \"bfe4c5ed-dbfd-11e8-8ddb-a41f72875c19\"}, {\"line\": {\"dash\": \"dot\"}, \"name\": \"\\u5b8c\\u6210\\u4e0b\\u5355\\u6570(\\u4e8e\\u52c7\\u4e00)\", \"x\": [\"10-2\", \"10-3\", \"10-4\"], \"y\": [5.0, 5.0, 4.0], \"type\": \"scatter\", \"uid\": \"bfe4c5ee-dbfd-11e8-8ddb-a41f72875c19\"}, {\"line\": {\"dash\": \"dash\"}, \"name\": \"\\u5b8c\\u6210\\u4e0b\\u5355\\u6570(\\u5f20\\u5b88\\u4f1f)\", \"x\": [\"10-2\", \"10-3\", \"10-4\"], \"y\": [2.0, 3.0, 3.0], \"type\": \"scatter\", \"uid\": \"bfe4c5ef-dbfd-11e8-8ddb-a41f72875c19\"}, {\"line\": {\"dash\": \"longdash\"}, \"name\": \"\\u5b8c\\u6210\\u4e0b\\u5355\\u6570(\\u51af\\u656c\\u5ca9)\", \"x\": [\"10-2\", \"10-3\", \"10-4\"], \"y\": [null, null, 0.0], \"type\": \"scatter\", \"uid\": \"bfe4c5f0-dbfd-11e8-8ddb-a41f72875c19\"}, {\"line\": {\"dash\": \"dashdot\"}, \"name\": \"\\u5b8c\\u6210\\u4e0b\\u5355\\u6570(\\u8def\\u6167\\u840d)\", \"x\": [\"10-2\", \"10-3\", \"10-4\"], \"y\": [5.0, 6.0, 8.0], \"type\": \"scatter\", \"uid\": \"bfe4c5f1-dbfd-11e8-8ddb-a41f72875c19\"}, {\"line\": {\"dash\": \"longdashdot\"}, \"name\": \"\\u5b8c\\u6210\\u4e0b\\u5355\\u6570(\\u9648\\u9e4f\\u71d5)\", \"x\": [\"10-2\", \"10-3\", \"10-4\"], \"y\": [null, 4.0, 4.0], \"type\": \"scatter\", \"uid\": \"bfe4c5f2-dbfd-11e8-8ddb-a41f72875c19\"}, {\"line\": {\"dash\": \"solid\"}, \"name\": \"\\u5b8c\\u6210\\u4e0b\\u5355\\u6570(\\u9a6c\\u6f47)\", \"x\": [\"10-2\", \"10-3\", \"10-4\"], \"y\": [8.0, 6.0, 7.0], \"type\": \"scatter\", \"uid\": \"bfe4c5f3-dbfd-11e8-8ddb-a41f72875c19\"}, {\"line\": {\"dash\": \"dot\"}, \"name\": \"\\u5b8c\\u6210\\u4e0b\\u5355\\u6570(\\u8f66\\u5929\\u680b)\", \"x\": [\"10-2\", \"10-3\", \"10-4\"], \"y\": [null, null, 1.0], \"type\": \"scatter\", \"uid\": \"bfe4c5f4-dbfd-11e8-8ddb-a41f72875c19\"}, {\"line\": {\"dash\": \"dash\"}, \"name\": \"\\u5b8c\\u6210\\u4e0b\\u5355\\u6570(\\u6c88\\u6069\\u60e0)\", \"x\": [\"10-2\", \"10-3\", \"10-4\"], \"y\": [null, null, 2.0], \"type\": \"scatter\", \"uid\": \"bfe4c5f5-dbfd-11e8-8ddb-a41f72875c19\"}, {\"line\": {\"dash\": \"longdash\"}, \"name\": \"\\u5b8c\\u6210\\u4e0b\\u5355\\u6570(\\u5b5f\\u660a)\", \"x\": [\"10-2\", \"10-3\", \"10-4\"], \"y\": [7.0, 7.0, 7.0], \"type\": \"scatter\", \"uid\": \"bfe4c5f6-dbfd-11e8-8ddb-a41f72875c19\"}, {\"line\": {\"dash\": \"dashdot\"}, \"name\": \"\\u5b8c\\u6210\\u4e0b\\u5355\\u6570(\\u4e8e\\u6167)\", \"x\": [\"10-2\", \"10-3\", \"10-4\"], \"y\": [6.0, 5.0, 8.0], \"type\": \"scatter\", \"uid\": \"bfe4c5f7-dbfd-11e8-8ddb-a41f72875c19\"}, {\"line\": {\"dash\": \"longdashdot\"}, \"name\": \"\\u5b8c\\u6210\\u4e0b\\u5355\\u6570(\\u5c48\\u6602)\", \"x\": [\"10-2\", \"10-3\", \"10-4\"], \"y\": [1.0, null, 1.0], \"type\": \"scatter\", \"uid\": \"bfe4c5f8-dbfd-11e8-8ddb-a41f72875c19\"}, {\"line\": {\"dash\": \"solid\"}, \"name\": \"\\u5b8c\\u6210\\u4e0b\\u5355\\u6570(\\u51b7\\u96ea)\", \"x\": [\"10-2\", \"10-3\", \"10-4\"], \"y\": [2.0, null, 1.0], \"type\": \"scatter\", \"uid\": \"bfe4c5f9-dbfd-11e8-8ddb-a41f72875c19\"}, {\"line\": {\"dash\": \"dot\"}, \"name\": \"\\u5b8c\\u6210\\u4e0b\\u5355\\u6570(\\u97e9\\u5c11\\u6000)\", \"x\": [\"10-2\", \"10-3\", \"10-4\"], \"y\": [4.0, 5.0, 4.0], \"type\": \"scatter\", \"uid\": \"bfe4c5fa-dbfd-11e8-8ddb-a41f72875c19\"}, {\"line\": {\"dash\": \"dash\"}, \"name\": \"\\u5b8c\\u6210\\u4e0b\\u5355\\u6570(\\u6d82\\u6210\\u82b3)\", \"x\": [\"10-2\", \"10-3\", \"10-4\"], \"y\": [null, null, 1.0], \"type\": \"scatter\", \"uid\": \"bfe4c5fb-dbfd-11e8-8ddb-a41f72875c19\"}, {\"line\": {\"dash\": \"longdash\"}, \"name\": \"\\u5b8c\\u6210\\u4e0b\\u5355\\u6570(\\u5f20\\u60a6)\", \"x\": [\"10-2\", \"10-3\", \"10-4\"], \"y\": [null, null, 0.0], \"type\": \"scatter\", \"uid\": \"bfe4c5fc-dbfd-11e8-8ddb-a41f72875c19\"}, {\"line\": {\"dash\": \"dashdot\"}, \"name\": \"\\u5b8c\\u6210\\u4e0b\\u5355\\u6570(\\u674e\\u534e\\u4e91)\", \"x\": [\"10-2\", \"10-3\", \"10-4\"], \"y\": [null, null, 4.0], \"type\": \"scatter\", \"uid\": \"bfe4c5fd-dbfd-11e8-8ddb-a41f72875c19\"}, {\"line\": {\"dash\": \"longdashdot\"}, \"name\": \"\\u5b8c\\u6210\\u4e0b\\u5355\\u6570(\\u8303\\u65ed\\u5b81)\", \"x\": [\"10-2\", \"10-3\", \"10-4\"], \"y\": [2.0, 3.0, 4.0], \"type\": \"scatter\", \"uid\": \"bfe4c5fe-dbfd-11e8-8ddb-a41f72875c19\"}, {\"line\": {\"dash\": \"solid\"}, \"name\": \"\\u5b8c\\u6210\\u4e0b\\u5355\\u6570(\\u6bb5\\u5229\\u5f3a)\", \"x\": [\"10-2\", \"10-3\", \"10-4\"], \"y\": [1.0, null, null], \"type\": \"scatter\", \"uid\": \"bfe4c5ff-dbfd-11e8-8ddb-a41f72875c19\"}, {\"line\": {\"dash\": \"dot\"}, \"name\": \"\\u5b8c\\u6210\\u4e0b\\u5355\\u6570(\\u59da\\u76df\\u6210)\", \"x\": [\"10-2\", \"10-3\", \"10-4\"], \"y\": [0.0, 2.0, 4.0], \"type\": \"scatter\", \"uid\": \"bfe4c600-dbfd-11e8-8ddb-a41f72875c19\"}, {\"line\": {\"dash\": \"dash\"}, \"name\": \"\\u5b8c\\u6210\\u4e0b\\u5355\\u6570(\\u6768\\u4f1f\\u98de)\", \"x\": [\"10-2\", \"10-3\", \"10-4\"], \"y\": [1.0, 4.0, 3.0], \"type\": \"scatter\", \"uid\": \"bfe4c601-dbfd-11e8-8ddb-a41f72875c19\"}, {\"line\": {\"dash\": \"longdash\"}, \"name\": \"\\u5b8c\\u6210\\u4e0b\\u5355\\u6570(\\u5218\\u6c5f)\", \"x\": [\"10-2\", \"10-3\", \"10-4\"], \"y\": [4.0, 6.0, 6.0], \"type\": \"scatter\", \"uid\": \"bfe4c602-dbfd-11e8-8ddb-a41f72875c19\"}, {\"line\": {\"dash\": \"dashdot\"}, \"name\": \"\\u5b8c\\u6210\\u4e0b\\u5355\\u6570(\\u82cf\\u5f66\\u52cb)\", \"x\": [\"10-2\", \"10-3\", \"10-4\"], \"y\": [null, 7.0, 7.0], \"type\": \"scatter\", \"uid\": \"bfe4c603-dbfd-11e8-8ddb-a41f72875c19\"}, {\"line\": {\"dash\": \"longdashdot\"}, \"name\": \"\\u5b8c\\u6210\\u4e0b\\u5355\\u6570(\\u5468\\u6768)\", \"x\": [\"10-2\", \"10-3\", \"10-4\"], \"y\": [6.0, 0.0, 7.0], \"type\": \"scatter\", \"uid\": \"bfe4c604-dbfd-11e8-8ddb-a41f72875c19\"}, {\"line\": {\"dash\": \"solid\"}, \"name\": \"\\u5b8c\\u6210\\u4e0b\\u5355\\u6570(\\u5360\\u4f1f)\", \"x\": [\"10-2\", \"10-3\", \"10-4\"], \"y\": [7.0, 9.0, 4.0], \"type\": \"scatter\", \"uid\": \"bfe4c605-dbfd-11e8-8ddb-a41f72875c19\"}, {\"line\": {\"dash\": \"dot\"}, \"name\": \"\\u5b8c\\u6210\\u4e0b\\u5355\\u6570(\\u5c01\\u5f66\\u6770)\", \"x\": [\"10-2\", \"10-3\", \"10-4\"], \"y\": [7.0, 6.0, 5.0], \"type\": \"scatter\", \"uid\": \"bfe4c606-dbfd-11e8-8ddb-a41f72875c19\"}, {\"line\": {\"dash\": \"dash\"}, \"name\": \"\\u5b8c\\u6210\\u4e0b\\u5355\\u6570(\\u5218\\u4e09\\u9633)\", \"x\": [\"10-2\", \"10-3\", \"10-4\"], \"y\": [null, 0.0, null], \"type\": \"scatter\", \"uid\": \"bfe4c607-dbfd-11e8-8ddb-a41f72875c19\"}, {\"line\": {\"dash\": \"longdash\"}, \"name\": \"\\u5b8c\\u6210\\u4e0b\\u5355\\u6570(\\u6636\\u5409\\u9633)\", \"x\": [\"10-2\", \"10-3\", \"10-4\"], \"y\": [null, 0.0, 4.0], \"type\": \"scatter\", \"uid\": \"bfe4c608-dbfd-11e8-8ddb-a41f72875c19\"}, {\"line\": {\"dash\": \"dashdot\"}, \"name\": \"\\u5b8c\\u6210\\u4e0b\\u5355\\u6570(\\u4efb\\u96ea)\", \"x\": [\"10-2\", \"10-3\", \"10-4\"], \"y\": [6.0, 3.0, 2.0], \"type\": \"scatter\", \"uid\": \"bfe4c609-dbfd-11e8-8ddb-a41f72875c19\"}, {\"line\": {\"dash\": \"longdashdot\"}, \"name\": \"\\u5b8c\\u6210\\u4e0b\\u5355\\u6570(\\u674e\\u5e86\\u539f)\", \"x\": [\"10-2\", \"10-3\", \"10-4\"], \"y\": [6.0, 4.0, 4.0], \"type\": \"scatter\", \"uid\": \"bfe4c60a-dbfd-11e8-8ddb-a41f72875c19\"}, {\"line\": {\"dash\": \"solid\"}, \"name\": \"\\u5b8c\\u6210\\u4e0b\\u5355\\u6570(\\u8c22\\u5fb7\\u5065)\", \"x\": [\"10-2\", \"10-3\", \"10-4\"], \"y\": [3.0, 2.0, 4.0], \"type\": \"scatter\", \"uid\": \"bfe4c60b-dbfd-11e8-8ddb-a41f72875c19\"}, {\"line\": {\"dash\": \"dot\"}, \"name\": \"\\u5b8c\\u6210\\u4e0b\\u5355\\u6570(\\u6797\\u6587\\u6587)\", \"x\": [\"10-2\", \"10-3\", \"10-4\"], \"y\": [null, null, 1.0], \"type\": \"scatter\", \"uid\": \"bfe4c60c-dbfd-11e8-8ddb-a41f72875c19\"}, {\"line\": {\"dash\": \"dash\"}, \"name\": \"\\u5b8c\\u6210\\u4e0b\\u5355\\u6570(\\u738b\\u7ea2)\", \"x\": [\"10-2\", \"10-3\", \"10-4\"], \"y\": [null, null, 1.0], \"type\": \"scatter\", \"uid\": \"bfe4c60d-dbfd-11e8-8ddb-a41f72875c19\"}], {\"title\": \"\\u603b\\u4e0b\\u5355\\u6570&\\u5b8c\\u6210\\u4e0b\\u5355\\u6570\\u5468\\u8d8b\\u52bf\\u56fe\", \"xaxis\": {\"mirror\": \"all\", \"nticks\": 20, \"showgrid\": true, \"showline\": true, \"title\": \"\\u5468\", \"type\": \"category\", \"zeroline\": true}, \"yaxis\": {\"mirror\": \"all\", \"nticks\": 20, \"showgrid\": true, \"showline\": true, \"title\": \"\\u603b\\u4e0b\\u5355\\u6570&\\u5b8c\\u6210\\u4e0b\\u5355\\u6570\", \"zeroline\": true}}, {\"showLink\": true, \"linkText\": \"Export to plot.ly\"})});</script>"
      ],
      "text/vnd.plotly.v1+html": [
       "<div id=\"cad0abdd-6224-4cd0-9c6d-937b931622a2\" style=\"height: 525px; width: 100%;\" class=\"plotly-graph-div\"></div><script type=\"text/javascript\">require([\"plotly\"], function(Plotly) { window.PLOTLYENV=window.PLOTLYENV || {};window.PLOTLYENV.BASE_URL=\"https://plot.ly\";Plotly.newPlot(\"cad0abdd-6224-4cd0-9c6d-937b931622a2\", [{\"line\": {\"dash\": \"solid\"}, \"name\": \"\\u603b\\u4e0b\\u5355\\u6570(\\u8d75\\u73a5)\", \"x\": [\"10-2\", \"10-3\", \"10-4\"], \"y\": [4.0, 6.0, 5.0], \"type\": \"scatter\", \"uid\": \"bfe4c5cc-dbfd-11e8-8ddb-a41f72875c19\"}, {\"line\": {\"dash\": \"dot\"}, \"name\": \"\\u603b\\u4e0b\\u5355\\u6570(\\u4e8e\\u52c7\\u4e00)\", \"x\": [\"10-2\", \"10-3\", \"10-4\"], \"y\": [7.0, 5.0, 4.0], \"type\": \"scatter\", \"uid\": \"bfe4c5cd-dbfd-11e8-8ddb-a41f72875c19\"}, {\"line\": {\"dash\": \"dash\"}, \"name\": \"\\u603b\\u4e0b\\u5355\\u6570(\\u5f20\\u5b88\\u4f1f)\", \"x\": [\"10-2\", \"10-3\", \"10-4\"], \"y\": [3.0, 3.0, 4.0], \"type\": \"scatter\", \"uid\": \"bfe4c5ce-dbfd-11e8-8ddb-a41f72875c19\"}, {\"line\": {\"dash\": \"longdash\"}, \"name\": \"\\u603b\\u4e0b\\u5355\\u6570(\\u51af\\u656c\\u5ca9)\", \"x\": [\"10-2\", \"10-3\", \"10-4\"], \"y\": [null, null, 1.0], \"type\": \"scatter\", \"uid\": \"bfe4c5cf-dbfd-11e8-8ddb-a41f72875c19\"}, {\"line\": {\"dash\": \"dashdot\"}, \"name\": \"\\u603b\\u4e0b\\u5355\\u6570(\\u8def\\u6167\\u840d)\", \"x\": [\"10-2\", \"10-3\", \"10-4\"], \"y\": [5.0, 6.0, 8.0], \"type\": \"scatter\", \"uid\": \"bfe4c5d0-dbfd-11e8-8ddb-a41f72875c19\"}, {\"line\": {\"dash\": \"longdashdot\"}, \"name\": \"\\u603b\\u4e0b\\u5355\\u6570(\\u9648\\u9e4f\\u71d5)\", \"x\": [\"10-2\", \"10-3\", \"10-4\"], \"y\": [null, 5.0, 4.0], \"type\": \"scatter\", \"uid\": \"bfe4c5d1-dbfd-11e8-8ddb-a41f72875c19\"}, {\"line\": {\"dash\": \"solid\"}, \"name\": \"\\u603b\\u4e0b\\u5355\\u6570(\\u9a6c\\u6f47)\", \"x\": [\"10-2\", \"10-3\", \"10-4\"], \"y\": [9.0, 8.0, 7.0], \"type\": \"scatter\", \"uid\": \"bfe4c5d2-dbfd-11e8-8ddb-a41f72875c19\"}, {\"line\": {\"dash\": \"dot\"}, \"name\": \"\\u603b\\u4e0b\\u5355\\u6570(\\u8f66\\u5929\\u680b)\", \"x\": [\"10-2\", \"10-3\", \"10-4\"], \"y\": [null, null, 1.0], \"type\": \"scatter\", \"uid\": \"bfe4c5d3-dbfd-11e8-8ddb-a41f72875c19\"}, {\"line\": {\"dash\": \"dash\"}, \"name\": \"\\u603b\\u4e0b\\u5355\\u6570(\\u6c88\\u6069\\u60e0)\", \"x\": [\"10-2\", \"10-3\", \"10-4\"], \"y\": [null, null, 2.0], \"type\": \"scatter\", \"uid\": \"bfe4c5d4-dbfd-11e8-8ddb-a41f72875c19\"}, {\"line\": {\"dash\": \"longdash\"}, \"name\": \"\\u603b\\u4e0b\\u5355\\u6570(\\u5b5f\\u660a)\", \"x\": [\"10-2\", \"10-3\", \"10-4\"], \"y\": [7.0, 7.0, 7.0], \"type\": \"scatter\", \"uid\": \"bfe4c5d5-dbfd-11e8-8ddb-a41f72875c19\"}, {\"line\": {\"dash\": \"dashdot\"}, \"name\": \"\\u603b\\u4e0b\\u5355\\u6570(\\u4e8e\\u6167)\", \"x\": [\"10-2\", \"10-3\", \"10-4\"], \"y\": [6.0, 6.0, 8.0], \"type\": \"scatter\", \"uid\": \"bfe4c5d6-dbfd-11e8-8ddb-a41f72875c19\"}, {\"line\": {\"dash\": \"longdashdot\"}, \"name\": \"\\u603b\\u4e0b\\u5355\\u6570(\\u5c48\\u6602)\", \"x\": [\"10-2\", \"10-3\", \"10-4\"], \"y\": [1.0, null, 1.0], \"type\": \"scatter\", \"uid\": \"bfe4c5d7-dbfd-11e8-8ddb-a41f72875c19\"}, {\"line\": {\"dash\": \"solid\"}, \"name\": \"\\u603b\\u4e0b\\u5355\\u6570(\\u51b7\\u96ea)\", \"x\": [\"10-2\", \"10-3\", \"10-4\"], \"y\": [2.0, null, 1.0], \"type\": \"scatter\", \"uid\": \"bfe4c5d8-dbfd-11e8-8ddb-a41f72875c19\"}, {\"line\": {\"dash\": \"dot\"}, \"name\": \"\\u603b\\u4e0b\\u5355\\u6570(\\u97e9\\u5c11\\u6000)\", \"x\": [\"10-2\", \"10-3\", \"10-4\"], \"y\": [4.0, 5.0, 4.0], \"type\": \"scatter\", \"uid\": \"bfe4c5d9-dbfd-11e8-8ddb-a41f72875c19\"}, {\"line\": {\"dash\": \"dash\"}, \"name\": \"\\u603b\\u4e0b\\u5355\\u6570(\\u6d82\\u6210\\u82b3)\", \"x\": [\"10-2\", \"10-3\", \"10-4\"], \"y\": [null, null, 1.0], \"type\": \"scatter\", \"uid\": \"bfe4c5da-dbfd-11e8-8ddb-a41f72875c19\"}, {\"line\": {\"dash\": \"longdash\"}, \"name\": \"\\u603b\\u4e0b\\u5355\\u6570(\\u5f20\\u60a6)\", \"x\": [\"10-2\", \"10-3\", \"10-4\"], \"y\": [null, null, 1.0], \"type\": \"scatter\", \"uid\": \"bfe4c5db-dbfd-11e8-8ddb-a41f72875c19\"}, {\"line\": {\"dash\": \"dashdot\"}, \"name\": \"\\u603b\\u4e0b\\u5355\\u6570(\\u674e\\u534e\\u4e91)\", \"x\": [\"10-2\", \"10-3\", \"10-4\"], \"y\": [null, null, 6.0], \"type\": \"scatter\", \"uid\": \"bfe4c5dc-dbfd-11e8-8ddb-a41f72875c19\"}, {\"line\": {\"dash\": \"longdashdot\"}, \"name\": \"\\u603b\\u4e0b\\u5355\\u6570(\\u8303\\u65ed\\u5b81)\", \"x\": [\"10-2\", \"10-3\", \"10-4\"], \"y\": [5.0, 3.0, 4.0], \"type\": \"scatter\", \"uid\": \"bfe4c5dd-dbfd-11e8-8ddb-a41f72875c19\"}, {\"line\": {\"dash\": \"solid\"}, \"name\": \"\\u603b\\u4e0b\\u5355\\u6570(\\u6bb5\\u5229\\u5f3a)\", \"x\": [\"10-2\", \"10-3\", \"10-4\"], \"y\": [3.0, null, null], \"type\": \"scatter\", \"uid\": \"bfe4c5de-dbfd-11e8-8ddb-a41f72875c19\"}, {\"line\": {\"dash\": \"dot\"}, \"name\": \"\\u603b\\u4e0b\\u5355\\u6570(\\u59da\\u76df\\u6210)\", \"x\": [\"10-2\", \"10-3\", \"10-4\"], \"y\": [4.0, 3.0, 4.0], \"type\": \"scatter\", \"uid\": \"bfe4c5df-dbfd-11e8-8ddb-a41f72875c19\"}, {\"line\": {\"dash\": \"dash\"}, \"name\": \"\\u603b\\u4e0b\\u5355\\u6570(\\u6768\\u4f1f\\u98de)\", \"x\": [\"10-2\", \"10-3\", \"10-4\"], \"y\": [4.0, 4.0, 5.0], \"type\": \"scatter\", \"uid\": \"bfe4c5e0-dbfd-11e8-8ddb-a41f72875c19\"}, {\"line\": {\"dash\": \"longdash\"}, \"name\": \"\\u603b\\u4e0b\\u5355\\u6570(\\u5218\\u6c5f)\", \"x\": [\"10-2\", \"10-3\", \"10-4\"], \"y\": [7.0, 6.0, 6.0], \"type\": \"scatter\", \"uid\": \"bfe4c5e1-dbfd-11e8-8ddb-a41f72875c19\"}, {\"line\": {\"dash\": \"dashdot\"}, \"name\": \"\\u603b\\u4e0b\\u5355\\u6570(\\u82cf\\u5f66\\u52cb)\", \"x\": [\"10-2\", \"10-3\", \"10-4\"], \"y\": [null, 7.0, 7.0], \"type\": \"scatter\", \"uid\": \"bfe4c5e2-dbfd-11e8-8ddb-a41f72875c19\"}, {\"line\": {\"dash\": \"longdashdot\"}, \"name\": \"\\u603b\\u4e0b\\u5355\\u6570(\\u5468\\u6768)\", \"x\": [\"10-2\", \"10-3\", \"10-4\"], \"y\": [6.0, 3.0, 7.0], \"type\": \"scatter\", \"uid\": \"bfe4c5e3-dbfd-11e8-8ddb-a41f72875c19\"}, {\"line\": {\"dash\": \"solid\"}, \"name\": \"\\u603b\\u4e0b\\u5355\\u6570(\\u5360\\u4f1f)\", \"x\": [\"10-2\", \"10-3\", \"10-4\"], \"y\": [9.0, 9.0, 6.0], \"type\": \"scatter\", \"uid\": \"bfe4c5e4-dbfd-11e8-8ddb-a41f72875c19\"}, {\"line\": {\"dash\": \"dot\"}, \"name\": \"\\u603b\\u4e0b\\u5355\\u6570(\\u5c01\\u5f66\\u6770)\", \"x\": [\"10-2\", \"10-3\", \"10-4\"], \"y\": [7.0, 6.0, 6.0], \"type\": \"scatter\", \"uid\": \"bfe4c5e5-dbfd-11e8-8ddb-a41f72875c19\"}, {\"line\": {\"dash\": \"dash\"}, \"name\": \"\\u603b\\u4e0b\\u5355\\u6570(\\u5218\\u4e09\\u9633)\", \"x\": [\"10-2\", \"10-3\", \"10-4\"], \"y\": [null, 1.0, null], \"type\": \"scatter\", \"uid\": \"bfe4c5e6-dbfd-11e8-8ddb-a41f72875c19\"}, {\"line\": {\"dash\": \"longdash\"}, \"name\": \"\\u603b\\u4e0b\\u5355\\u6570(\\u6636\\u5409\\u9633)\", \"x\": [\"10-2\", \"10-3\", \"10-4\"], \"y\": [null, 1.0, 4.0], \"type\": \"scatter\", \"uid\": \"bfe4c5e7-dbfd-11e8-8ddb-a41f72875c19\"}, {\"line\": {\"dash\": \"dashdot\"}, \"name\": \"\\u603b\\u4e0b\\u5355\\u6570(\\u4efb\\u96ea)\", \"x\": [\"10-2\", \"10-3\", \"10-4\"], \"y\": [7.0, 4.0, 3.0], \"type\": \"scatter\", \"uid\": \"bfe4c5e8-dbfd-11e8-8ddb-a41f72875c19\"}, {\"line\": {\"dash\": \"longdashdot\"}, \"name\": \"\\u603b\\u4e0b\\u5355\\u6570(\\u674e\\u5e86\\u539f)\", \"x\": [\"10-2\", \"10-3\", \"10-4\"], \"y\": [6.0, 5.0, 4.0], \"type\": \"scatter\", \"uid\": \"bfe4c5e9-dbfd-11e8-8ddb-a41f72875c19\"}, {\"line\": {\"dash\": \"solid\"}, \"name\": \"\\u603b\\u4e0b\\u5355\\u6570(\\u8c22\\u5fb7\\u5065)\", \"x\": [\"10-2\", \"10-3\", \"10-4\"], \"y\": [4.0, 3.0, 4.0], \"type\": \"scatter\", \"uid\": \"bfe4c5ea-dbfd-11e8-8ddb-a41f72875c19\"}, {\"line\": {\"dash\": \"dot\"}, \"name\": \"\\u603b\\u4e0b\\u5355\\u6570(\\u6797\\u6587\\u6587)\", \"x\": [\"10-2\", \"10-3\", \"10-4\"], \"y\": [null, null, 1.0], \"type\": \"scatter\", \"uid\": \"bfe4c5eb-dbfd-11e8-8ddb-a41f72875c19\"}, {\"line\": {\"dash\": \"dash\"}, \"name\": \"\\u603b\\u4e0b\\u5355\\u6570(\\u738b\\u7ea2)\", \"x\": [\"10-2\", \"10-3\", \"10-4\"], \"y\": [null, null, 1.0], \"type\": \"scatter\", \"uid\": \"bfe4c5ec-dbfd-11e8-8ddb-a41f72875c19\"}, {\"line\": {\"dash\": \"solid\"}, \"name\": \"\\u5b8c\\u6210\\u4e0b\\u5355\\u6570(\\u8d75\\u73a5)\", \"x\": [\"10-2\", \"10-3\", \"10-4\"], \"y\": [4.0, 6.0, 4.0], \"type\": \"scatter\", \"uid\": \"bfe4c5ed-dbfd-11e8-8ddb-a41f72875c19\"}, {\"line\": {\"dash\": \"dot\"}, \"name\": \"\\u5b8c\\u6210\\u4e0b\\u5355\\u6570(\\u4e8e\\u52c7\\u4e00)\", \"x\": [\"10-2\", \"10-3\", \"10-4\"], \"y\": [5.0, 5.0, 4.0], \"type\": \"scatter\", \"uid\": \"bfe4c5ee-dbfd-11e8-8ddb-a41f72875c19\"}, {\"line\": {\"dash\": \"dash\"}, \"name\": \"\\u5b8c\\u6210\\u4e0b\\u5355\\u6570(\\u5f20\\u5b88\\u4f1f)\", \"x\": [\"10-2\", \"10-3\", \"10-4\"], \"y\": [2.0, 3.0, 3.0], \"type\": \"scatter\", \"uid\": \"bfe4c5ef-dbfd-11e8-8ddb-a41f72875c19\"}, {\"line\": {\"dash\": \"longdash\"}, \"name\": \"\\u5b8c\\u6210\\u4e0b\\u5355\\u6570(\\u51af\\u656c\\u5ca9)\", \"x\": [\"10-2\", \"10-3\", \"10-4\"], \"y\": [null, null, 0.0], \"type\": \"scatter\", \"uid\": \"bfe4c5f0-dbfd-11e8-8ddb-a41f72875c19\"}, {\"line\": {\"dash\": \"dashdot\"}, \"name\": \"\\u5b8c\\u6210\\u4e0b\\u5355\\u6570(\\u8def\\u6167\\u840d)\", \"x\": [\"10-2\", \"10-3\", \"10-4\"], \"y\": [5.0, 6.0, 8.0], \"type\": \"scatter\", \"uid\": \"bfe4c5f1-dbfd-11e8-8ddb-a41f72875c19\"}, {\"line\": {\"dash\": \"longdashdot\"}, \"name\": \"\\u5b8c\\u6210\\u4e0b\\u5355\\u6570(\\u9648\\u9e4f\\u71d5)\", \"x\": [\"10-2\", \"10-3\", \"10-4\"], \"y\": [null, 4.0, 4.0], \"type\": \"scatter\", \"uid\": \"bfe4c5f2-dbfd-11e8-8ddb-a41f72875c19\"}, {\"line\": {\"dash\": \"solid\"}, \"name\": \"\\u5b8c\\u6210\\u4e0b\\u5355\\u6570(\\u9a6c\\u6f47)\", \"x\": [\"10-2\", \"10-3\", \"10-4\"], \"y\": [8.0, 6.0, 7.0], \"type\": \"scatter\", \"uid\": \"bfe4c5f3-dbfd-11e8-8ddb-a41f72875c19\"}, {\"line\": {\"dash\": \"dot\"}, \"name\": \"\\u5b8c\\u6210\\u4e0b\\u5355\\u6570(\\u8f66\\u5929\\u680b)\", \"x\": [\"10-2\", \"10-3\", \"10-4\"], \"y\": [null, null, 1.0], \"type\": \"scatter\", \"uid\": \"bfe4c5f4-dbfd-11e8-8ddb-a41f72875c19\"}, {\"line\": {\"dash\": \"dash\"}, \"name\": \"\\u5b8c\\u6210\\u4e0b\\u5355\\u6570(\\u6c88\\u6069\\u60e0)\", \"x\": [\"10-2\", \"10-3\", \"10-4\"], \"y\": [null, null, 2.0], \"type\": \"scatter\", \"uid\": \"bfe4c5f5-dbfd-11e8-8ddb-a41f72875c19\"}, {\"line\": {\"dash\": \"longdash\"}, \"name\": \"\\u5b8c\\u6210\\u4e0b\\u5355\\u6570(\\u5b5f\\u660a)\", \"x\": [\"10-2\", \"10-3\", \"10-4\"], \"y\": [7.0, 7.0, 7.0], \"type\": \"scatter\", \"uid\": \"bfe4c5f6-dbfd-11e8-8ddb-a41f72875c19\"}, {\"line\": {\"dash\": \"dashdot\"}, \"name\": \"\\u5b8c\\u6210\\u4e0b\\u5355\\u6570(\\u4e8e\\u6167)\", \"x\": [\"10-2\", \"10-3\", \"10-4\"], \"y\": [6.0, 5.0, 8.0], \"type\": \"scatter\", \"uid\": \"bfe4c5f7-dbfd-11e8-8ddb-a41f72875c19\"}, {\"line\": {\"dash\": \"longdashdot\"}, \"name\": \"\\u5b8c\\u6210\\u4e0b\\u5355\\u6570(\\u5c48\\u6602)\", \"x\": [\"10-2\", \"10-3\", \"10-4\"], \"y\": [1.0, null, 1.0], \"type\": \"scatter\", \"uid\": \"bfe4c5f8-dbfd-11e8-8ddb-a41f72875c19\"}, {\"line\": {\"dash\": \"solid\"}, \"name\": \"\\u5b8c\\u6210\\u4e0b\\u5355\\u6570(\\u51b7\\u96ea)\", \"x\": [\"10-2\", \"10-3\", \"10-4\"], \"y\": [2.0, null, 1.0], \"type\": \"scatter\", \"uid\": \"bfe4c5f9-dbfd-11e8-8ddb-a41f72875c19\"}, {\"line\": {\"dash\": \"dot\"}, \"name\": \"\\u5b8c\\u6210\\u4e0b\\u5355\\u6570(\\u97e9\\u5c11\\u6000)\", \"x\": [\"10-2\", \"10-3\", \"10-4\"], \"y\": [4.0, 5.0, 4.0], \"type\": \"scatter\", \"uid\": \"bfe4c5fa-dbfd-11e8-8ddb-a41f72875c19\"}, {\"line\": {\"dash\": \"dash\"}, \"name\": \"\\u5b8c\\u6210\\u4e0b\\u5355\\u6570(\\u6d82\\u6210\\u82b3)\", \"x\": [\"10-2\", \"10-3\", \"10-4\"], \"y\": [null, null, 1.0], \"type\": \"scatter\", \"uid\": \"bfe4c5fb-dbfd-11e8-8ddb-a41f72875c19\"}, {\"line\": {\"dash\": \"longdash\"}, \"name\": \"\\u5b8c\\u6210\\u4e0b\\u5355\\u6570(\\u5f20\\u60a6)\", \"x\": [\"10-2\", \"10-3\", \"10-4\"], \"y\": [null, null, 0.0], \"type\": \"scatter\", \"uid\": \"bfe4c5fc-dbfd-11e8-8ddb-a41f72875c19\"}, {\"line\": {\"dash\": \"dashdot\"}, \"name\": \"\\u5b8c\\u6210\\u4e0b\\u5355\\u6570(\\u674e\\u534e\\u4e91)\", \"x\": [\"10-2\", \"10-3\", \"10-4\"], \"y\": [null, null, 4.0], \"type\": \"scatter\", \"uid\": \"bfe4c5fd-dbfd-11e8-8ddb-a41f72875c19\"}, {\"line\": {\"dash\": \"longdashdot\"}, \"name\": \"\\u5b8c\\u6210\\u4e0b\\u5355\\u6570(\\u8303\\u65ed\\u5b81)\", \"x\": [\"10-2\", \"10-3\", \"10-4\"], \"y\": [2.0, 3.0, 4.0], \"type\": \"scatter\", \"uid\": \"bfe4c5fe-dbfd-11e8-8ddb-a41f72875c19\"}, {\"line\": {\"dash\": \"solid\"}, \"name\": \"\\u5b8c\\u6210\\u4e0b\\u5355\\u6570(\\u6bb5\\u5229\\u5f3a)\", \"x\": [\"10-2\", \"10-3\", \"10-4\"], \"y\": [1.0, null, null], \"type\": \"scatter\", \"uid\": \"bfe4c5ff-dbfd-11e8-8ddb-a41f72875c19\"}, {\"line\": {\"dash\": \"dot\"}, \"name\": \"\\u5b8c\\u6210\\u4e0b\\u5355\\u6570(\\u59da\\u76df\\u6210)\", \"x\": [\"10-2\", \"10-3\", \"10-4\"], \"y\": [0.0, 2.0, 4.0], \"type\": \"scatter\", \"uid\": \"bfe4c600-dbfd-11e8-8ddb-a41f72875c19\"}, {\"line\": {\"dash\": \"dash\"}, \"name\": \"\\u5b8c\\u6210\\u4e0b\\u5355\\u6570(\\u6768\\u4f1f\\u98de)\", \"x\": [\"10-2\", \"10-3\", \"10-4\"], \"y\": [1.0, 4.0, 3.0], \"type\": \"scatter\", \"uid\": \"bfe4c601-dbfd-11e8-8ddb-a41f72875c19\"}, {\"line\": {\"dash\": \"longdash\"}, \"name\": \"\\u5b8c\\u6210\\u4e0b\\u5355\\u6570(\\u5218\\u6c5f)\", \"x\": [\"10-2\", \"10-3\", \"10-4\"], \"y\": [4.0, 6.0, 6.0], \"type\": \"scatter\", \"uid\": \"bfe4c602-dbfd-11e8-8ddb-a41f72875c19\"}, {\"line\": {\"dash\": \"dashdot\"}, \"name\": \"\\u5b8c\\u6210\\u4e0b\\u5355\\u6570(\\u82cf\\u5f66\\u52cb)\", \"x\": [\"10-2\", \"10-3\", \"10-4\"], \"y\": [null, 7.0, 7.0], \"type\": \"scatter\", \"uid\": \"bfe4c603-dbfd-11e8-8ddb-a41f72875c19\"}, {\"line\": {\"dash\": \"longdashdot\"}, \"name\": \"\\u5b8c\\u6210\\u4e0b\\u5355\\u6570(\\u5468\\u6768)\", \"x\": [\"10-2\", \"10-3\", \"10-4\"], \"y\": [6.0, 0.0, 7.0], \"type\": \"scatter\", \"uid\": \"bfe4c604-dbfd-11e8-8ddb-a41f72875c19\"}, {\"line\": {\"dash\": \"solid\"}, \"name\": \"\\u5b8c\\u6210\\u4e0b\\u5355\\u6570(\\u5360\\u4f1f)\", \"x\": [\"10-2\", \"10-3\", \"10-4\"], \"y\": [7.0, 9.0, 4.0], \"type\": \"scatter\", \"uid\": \"bfe4c605-dbfd-11e8-8ddb-a41f72875c19\"}, {\"line\": {\"dash\": \"dot\"}, \"name\": \"\\u5b8c\\u6210\\u4e0b\\u5355\\u6570(\\u5c01\\u5f66\\u6770)\", \"x\": [\"10-2\", \"10-3\", \"10-4\"], \"y\": [7.0, 6.0, 5.0], \"type\": \"scatter\", \"uid\": \"bfe4c606-dbfd-11e8-8ddb-a41f72875c19\"}, {\"line\": {\"dash\": \"dash\"}, \"name\": \"\\u5b8c\\u6210\\u4e0b\\u5355\\u6570(\\u5218\\u4e09\\u9633)\", \"x\": [\"10-2\", \"10-3\", \"10-4\"], \"y\": [null, 0.0, null], \"type\": \"scatter\", \"uid\": \"bfe4c607-dbfd-11e8-8ddb-a41f72875c19\"}, {\"line\": {\"dash\": \"longdash\"}, \"name\": \"\\u5b8c\\u6210\\u4e0b\\u5355\\u6570(\\u6636\\u5409\\u9633)\", \"x\": [\"10-2\", \"10-3\", \"10-4\"], \"y\": [null, 0.0, 4.0], \"type\": \"scatter\", \"uid\": \"bfe4c608-dbfd-11e8-8ddb-a41f72875c19\"}, {\"line\": {\"dash\": \"dashdot\"}, \"name\": \"\\u5b8c\\u6210\\u4e0b\\u5355\\u6570(\\u4efb\\u96ea)\", \"x\": [\"10-2\", \"10-3\", \"10-4\"], \"y\": [6.0, 3.0, 2.0], \"type\": \"scatter\", \"uid\": \"bfe4c609-dbfd-11e8-8ddb-a41f72875c19\"}, {\"line\": {\"dash\": \"longdashdot\"}, \"name\": \"\\u5b8c\\u6210\\u4e0b\\u5355\\u6570(\\u674e\\u5e86\\u539f)\", \"x\": [\"10-2\", \"10-3\", \"10-4\"], \"y\": [6.0, 4.0, 4.0], \"type\": \"scatter\", \"uid\": \"bfe4c60a-dbfd-11e8-8ddb-a41f72875c19\"}, {\"line\": {\"dash\": \"solid\"}, \"name\": \"\\u5b8c\\u6210\\u4e0b\\u5355\\u6570(\\u8c22\\u5fb7\\u5065)\", \"x\": [\"10-2\", \"10-3\", \"10-4\"], \"y\": [3.0, 2.0, 4.0], \"type\": \"scatter\", \"uid\": \"bfe4c60b-dbfd-11e8-8ddb-a41f72875c19\"}, {\"line\": {\"dash\": \"dot\"}, \"name\": \"\\u5b8c\\u6210\\u4e0b\\u5355\\u6570(\\u6797\\u6587\\u6587)\", \"x\": [\"10-2\", \"10-3\", \"10-4\"], \"y\": [null, null, 1.0], \"type\": \"scatter\", \"uid\": \"bfe4c60c-dbfd-11e8-8ddb-a41f72875c19\"}, {\"line\": {\"dash\": \"dash\"}, \"name\": \"\\u5b8c\\u6210\\u4e0b\\u5355\\u6570(\\u738b\\u7ea2)\", \"x\": [\"10-2\", \"10-3\", \"10-4\"], \"y\": [null, null, 1.0], \"type\": \"scatter\", \"uid\": \"bfe4c60d-dbfd-11e8-8ddb-a41f72875c19\"}], {\"title\": \"\\u603b\\u4e0b\\u5355\\u6570&\\u5b8c\\u6210\\u4e0b\\u5355\\u6570\\u5468\\u8d8b\\u52bf\\u56fe\", \"xaxis\": {\"mirror\": \"all\", \"nticks\": 20, \"showgrid\": true, \"showline\": true, \"title\": \"\\u5468\", \"type\": \"category\", \"zeroline\": true}, \"yaxis\": {\"mirror\": \"all\", \"nticks\": 20, \"showgrid\": true, \"showline\": true, \"title\": \"\\u603b\\u4e0b\\u5355\\u6570&\\u5b8c\\u6210\\u4e0b\\u5355\\u6570\", \"zeroline\": true}}, {\"showLink\": true, \"linkText\": \"Export to plot.ly\"})});</script>"
      ]
     },
     "metadata": {},
     "output_type": "display_data"
    }
   ],
   "source": [
    "ss=myModule.format(all_dict ,\"日期\" ,['总下单数', '完成下单数'])\n",
    "ss.add_group('负责人')\n",
    "tt = myModule.myPlot(ss.groupby('sum'))\n",
    "tt.plot('line')"
   ]
  },
  {
   "cell_type": "markdown",
   "metadata": {},
   "source": [
    "### 个人高质量报告"
   ]
  },
  {
   "cell_type": "markdown",
   "metadata": {},
   "source": [
    "#### 个人应交高质量报告数和提交高质量报告数"
   ]
  },
  {
   "cell_type": "code",
   "execution_count": 55,
   "metadata": {
    "collapsed": false
   },
   "outputs": [
    {
     "data": {
      "application/vnd.plotly.v1+json": {
       "data": [
        {
         "line": {
          "dash": "solid"
         },
         "name": "应交高质量报告数(赵玥)",
         "type": "scatter",
         "uid": "c67389fa-dbfd-11e8-8ddb-a41f72875c19",
         "x": [
          "10-2",
          "10-3",
          "10-4"
         ],
         "y": [
          0,
          2,
          0
         ]
        },
        {
         "line": {
          "dash": "dot"
         },
         "name": "应交高质量报告数(于勇一)",
         "type": "scatter",
         "uid": "c67389fb-dbfd-11e8-8ddb-a41f72875c19",
         "x": [
          "10-2",
          "10-3",
          "10-4"
         ],
         "y": [
          1,
          0,
          0
         ]
        },
        {
         "line": {
          "dash": "dash"
         },
         "name": "应交高质量报告数(张守伟)",
         "type": "scatter",
         "uid": "c67389fc-dbfd-11e8-8ddb-a41f72875c19",
         "x": [
          "10-2",
          "10-3",
          "10-4"
         ],
         "y": [
          0,
          0,
          0
         ]
        },
        {
         "line": {
          "dash": "longdash"
         },
         "name": "应交高质量报告数(冯敬岩)",
         "type": "scatter",
         "uid": "c67389fd-dbfd-11e8-8ddb-a41f72875c19",
         "x": [
          "10-2",
          "10-3",
          "10-4"
         ],
         "y": [
          null,
          null,
          0
         ]
        },
        {
         "line": {
          "dash": "dashdot"
         },
         "name": "应交高质量报告数(路慧萍)",
         "type": "scatter",
         "uid": "c67389fe-dbfd-11e8-8ddb-a41f72875c19",
         "x": [
          "10-2",
          "10-3",
          "10-4"
         ],
         "y": [
          0,
          0,
          0
         ]
        },
        {
         "line": {
          "dash": "longdashdot"
         },
         "name": "应交高质量报告数(陈鹏燕)",
         "type": "scatter",
         "uid": "c67389ff-dbfd-11e8-8ddb-a41f72875c19",
         "x": [
          "10-2",
          "10-3",
          "10-4"
         ],
         "y": [
          null,
          0,
          0
         ]
        },
        {
         "line": {
          "dash": "solid"
         },
         "name": "应交高质量报告数(马潇)",
         "type": "scatter",
         "uid": "c6738a00-dbfd-11e8-8ddb-a41f72875c19",
         "x": [
          "10-2",
          "10-3",
          "10-4"
         ],
         "y": [
          0,
          0,
          0
         ]
        },
        {
         "line": {
          "dash": "dot"
         },
         "name": "应交高质量报告数(车天栋)",
         "type": "scatter",
         "uid": "c6738a01-dbfd-11e8-8ddb-a41f72875c19",
         "x": [
          "10-2",
          "10-3",
          "10-4"
         ],
         "y": [
          null,
          null,
          1
         ]
        },
        {
         "line": {
          "dash": "dash"
         },
         "name": "应交高质量报告数(沈恩惠)",
         "type": "scatter",
         "uid": "c6738a02-dbfd-11e8-8ddb-a41f72875c19",
         "x": [
          "10-2",
          "10-3",
          "10-4"
         ],
         "y": [
          null,
          null,
          1
         ]
        },
        {
         "line": {
          "dash": "longdash"
         },
         "name": "应交高质量报告数(孟昊)",
         "type": "scatter",
         "uid": "c6738a03-dbfd-11e8-8ddb-a41f72875c19",
         "x": [
          "10-2",
          "10-3",
          "10-4"
         ],
         "y": [
          1,
          0,
          0
         ]
        },
        {
         "line": {
          "dash": "dashdot"
         },
         "name": "应交高质量报告数(于慧)",
         "type": "scatter",
         "uid": "c6738a04-dbfd-11e8-8ddb-a41f72875c19",
         "x": [
          "10-2",
          "10-3",
          "10-4"
         ],
         "y": [
          1,
          0,
          0
         ]
        },
        {
         "line": {
          "dash": "longdashdot"
         },
         "name": "应交高质量报告数(屈昂)",
         "type": "scatter",
         "uid": "c6738a05-dbfd-11e8-8ddb-a41f72875c19",
         "x": [
          "10-2",
          "10-3",
          "10-4"
         ],
         "y": [
          0,
          null,
          0
         ]
        },
        {
         "line": {
          "dash": "solid"
         },
         "name": "应交高质量报告数(冷雪)",
         "type": "scatter",
         "uid": "c6738a06-dbfd-11e8-8ddb-a41f72875c19",
         "x": [
          "10-2",
          "10-3",
          "10-4"
         ],
         "y": [
          0,
          null,
          0
         ]
        },
        {
         "line": {
          "dash": "dot"
         },
         "name": "应交高质量报告数(韩少怀)",
         "type": "scatter",
         "uid": "c6738a07-dbfd-11e8-8ddb-a41f72875c19",
         "x": [
          "10-2",
          "10-3",
          "10-4"
         ],
         "y": [
          0,
          0,
          0
         ]
        },
        {
         "line": {
          "dash": "dash"
         },
         "name": "应交高质量报告数(涂成芳)",
         "type": "scatter",
         "uid": "c6738a08-dbfd-11e8-8ddb-a41f72875c19",
         "x": [
          "10-2",
          "10-3",
          "10-4"
         ],
         "y": [
          null,
          null,
          0
         ]
        },
        {
         "line": {
          "dash": "longdash"
         },
         "name": "应交高质量报告数(张悦)",
         "type": "scatter",
         "uid": "c6738a09-dbfd-11e8-8ddb-a41f72875c19",
         "x": [
          "10-2",
          "10-3",
          "10-4"
         ],
         "y": [
          null,
          null,
          0
         ]
        },
        {
         "line": {
          "dash": "dashdot"
         },
         "name": "应交高质量报告数(李华云)",
         "type": "scatter",
         "uid": "c6738a0a-dbfd-11e8-8ddb-a41f72875c19",
         "x": [
          "10-2",
          "10-3",
          "10-4"
         ],
         "y": [
          null,
          null,
          0
         ]
        },
        {
         "line": {
          "dash": "longdashdot"
         },
         "name": "应交高质量报告数(范旭宁)",
         "type": "scatter",
         "uid": "c6738a0b-dbfd-11e8-8ddb-a41f72875c19",
         "x": [
          "10-2",
          "10-3",
          "10-4"
         ],
         "y": [
          0,
          1,
          0
         ]
        },
        {
         "line": {
          "dash": "solid"
         },
         "name": "应交高质量报告数(段利强)",
         "type": "scatter",
         "uid": "c6738a0c-dbfd-11e8-8ddb-a41f72875c19",
         "x": [
          "10-2",
          "10-3",
          "10-4"
         ],
         "y": [
          0,
          null,
          null
         ]
        },
        {
         "line": {
          "dash": "dot"
         },
         "name": "应交高质量报告数(姚盟成)",
         "type": "scatter",
         "uid": "c6738a0d-dbfd-11e8-8ddb-a41f72875c19",
         "x": [
          "10-2",
          "10-3",
          "10-4"
         ],
         "y": [
          1,
          0,
          0
         ]
        },
        {
         "line": {
          "dash": "dash"
         },
         "name": "应交高质量报告数(杨伟飞)",
         "type": "scatter",
         "uid": "c6738a0e-dbfd-11e8-8ddb-a41f72875c19",
         "x": [
          "10-2",
          "10-3",
          "10-4"
         ],
         "y": [
          1,
          1,
          0
         ]
        },
        {
         "line": {
          "dash": "longdash"
         },
         "name": "应交高质量报告数(刘江)",
         "type": "scatter",
         "uid": "c6738a0f-dbfd-11e8-8ddb-a41f72875c19",
         "x": [
          "10-2",
          "10-3",
          "10-4"
         ],
         "y": [
          2,
          0,
          0
         ]
        },
        {
         "line": {
          "dash": "dashdot"
         },
         "name": "应交高质量报告数(苏彦勋)",
         "type": "scatter",
         "uid": "c6738a10-dbfd-11e8-8ddb-a41f72875c19",
         "x": [
          "10-2",
          "10-3",
          "10-4"
         ],
         "y": [
          null,
          0,
          0
         ]
        },
        {
         "line": {
          "dash": "longdashdot"
         },
         "name": "应交高质量报告数(周杨)",
         "type": "scatter",
         "uid": "c6738a11-dbfd-11e8-8ddb-a41f72875c19",
         "x": [
          "10-2",
          "10-3",
          "10-4"
         ],
         "y": [
          1,
          0,
          0
         ]
        },
        {
         "line": {
          "dash": "solid"
         },
         "name": "应交高质量报告数(占伟)",
         "type": "scatter",
         "uid": "c6738a12-dbfd-11e8-8ddb-a41f72875c19",
         "x": [
          "10-2",
          "10-3",
          "10-4"
         ],
         "y": [
          0,
          0,
          0
         ]
        },
        {
         "line": {
          "dash": "dot"
         },
         "name": "应交高质量报告数(封彦杰)",
         "type": "scatter",
         "uid": "c6738a13-dbfd-11e8-8ddb-a41f72875c19",
         "x": [
          "10-2",
          "10-3",
          "10-4"
         ],
         "y": [
          0,
          0,
          0
         ]
        },
        {
         "line": {
          "dash": "dash"
         },
         "name": "应交高质量报告数(刘三阳)",
         "type": "scatter",
         "uid": "c6738a14-dbfd-11e8-8ddb-a41f72875c19",
         "x": [
          "10-2",
          "10-3",
          "10-4"
         ],
         "y": [
          null,
          1,
          null
         ]
        },
        {
         "line": {
          "dash": "longdash"
         },
         "name": "应交高质量报告数(昶吉阳)",
         "type": "scatter",
         "uid": "c6738a15-dbfd-11e8-8ddb-a41f72875c19",
         "x": [
          "10-2",
          "10-3",
          "10-4"
         ],
         "y": [
          null,
          0,
          0
         ]
        },
        {
         "line": {
          "dash": "dashdot"
         },
         "name": "应交高质量报告数(任雪)",
         "type": "scatter",
         "uid": "c6738a16-dbfd-11e8-8ddb-a41f72875c19",
         "x": [
          "10-2",
          "10-3",
          "10-4"
         ],
         "y": [
          2,
          0,
          1
         ]
        },
        {
         "line": {
          "dash": "longdashdot"
         },
         "name": "应交高质量报告数(李庆原)",
         "type": "scatter",
         "uid": "c6738a17-dbfd-11e8-8ddb-a41f72875c19",
         "x": [
          "10-2",
          "10-3",
          "10-4"
         ],
         "y": [
          0,
          0,
          0
         ]
        },
        {
         "line": {
          "dash": "solid"
         },
         "name": "应交高质量报告数(谢德健)",
         "type": "scatter",
         "uid": "c6738a18-dbfd-11e8-8ddb-a41f72875c19",
         "x": [
          "10-2",
          "10-3",
          "10-4"
         ],
         "y": [
          2,
          0,
          0
         ]
        },
        {
         "line": {
          "dash": "dot"
         },
         "name": "应交高质量报告数(林文文)",
         "type": "scatter",
         "uid": "c6738a19-dbfd-11e8-8ddb-a41f72875c19",
         "x": [
          "10-2",
          "10-3",
          "10-4"
         ],
         "y": [
          null,
          null,
          0
         ]
        },
        {
         "line": {
          "dash": "dash"
         },
         "name": "应交高质量报告数(王红)",
         "type": "scatter",
         "uid": "c6738a1a-dbfd-11e8-8ddb-a41f72875c19",
         "x": [
          "10-2",
          "10-3",
          "10-4"
         ],
         "y": [
          null,
          null,
          0
         ]
        },
        {
         "line": {
          "dash": "solid"
         },
         "name": "提交高质量报告数(赵玥)",
         "type": "scatter",
         "uid": "c6738a1b-dbfd-11e8-8ddb-a41f72875c19",
         "x": [
          "10-2",
          "10-3",
          "10-4"
         ],
         "y": [
          0,
          0,
          0
         ]
        },
        {
         "line": {
          "dash": "dot"
         },
         "name": "提交高质量报告数(于勇一)",
         "type": "scatter",
         "uid": "c6738a1c-dbfd-11e8-8ddb-a41f72875c19",
         "x": [
          "10-2",
          "10-3",
          "10-4"
         ],
         "y": [
          0,
          0,
          0
         ]
        },
        {
         "line": {
          "dash": "dash"
         },
         "name": "提交高质量报告数(张守伟)",
         "type": "scatter",
         "uid": "c6738a1d-dbfd-11e8-8ddb-a41f72875c19",
         "x": [
          "10-2",
          "10-3",
          "10-4"
         ],
         "y": [
          0,
          0,
          0
         ]
        },
        {
         "line": {
          "dash": "longdash"
         },
         "name": "提交高质量报告数(冯敬岩)",
         "type": "scatter",
         "uid": "c6738a1e-dbfd-11e8-8ddb-a41f72875c19",
         "x": [
          "10-2",
          "10-3",
          "10-4"
         ],
         "y": [
          null,
          null,
          0
         ]
        },
        {
         "line": {
          "dash": "dashdot"
         },
         "name": "提交高质量报告数(路慧萍)",
         "type": "scatter",
         "uid": "c6738a1f-dbfd-11e8-8ddb-a41f72875c19",
         "x": [
          "10-2",
          "10-3",
          "10-4"
         ],
         "y": [
          0,
          0,
          0
         ]
        },
        {
         "line": {
          "dash": "longdashdot"
         },
         "name": "提交高质量报告数(陈鹏燕)",
         "type": "scatter",
         "uid": "c6738a20-dbfd-11e8-8ddb-a41f72875c19",
         "x": [
          "10-2",
          "10-3",
          "10-4"
         ],
         "y": [
          null,
          0,
          0
         ]
        },
        {
         "line": {
          "dash": "solid"
         },
         "name": "提交高质量报告数(马潇)",
         "type": "scatter",
         "uid": "c6738a21-dbfd-11e8-8ddb-a41f72875c19",
         "x": [
          "10-2",
          "10-3",
          "10-4"
         ],
         "y": [
          0,
          0,
          0
         ]
        },
        {
         "line": {
          "dash": "dot"
         },
         "name": "提交高质量报告数(车天栋)",
         "type": "scatter",
         "uid": "c6738a22-dbfd-11e8-8ddb-a41f72875c19",
         "x": [
          "10-2",
          "10-3",
          "10-4"
         ],
         "y": [
          null,
          null,
          1
         ]
        },
        {
         "line": {
          "dash": "dash"
         },
         "name": "提交高质量报告数(沈恩惠)",
         "type": "scatter",
         "uid": "c6738a23-dbfd-11e8-8ddb-a41f72875c19",
         "x": [
          "10-2",
          "10-3",
          "10-4"
         ],
         "y": [
          null,
          null,
          0
         ]
        },
        {
         "line": {
          "dash": "longdash"
         },
         "name": "提交高质量报告数(孟昊)",
         "type": "scatter",
         "uid": "c6738a24-dbfd-11e8-8ddb-a41f72875c19",
         "x": [
          "10-2",
          "10-3",
          "10-4"
         ],
         "y": [
          0,
          0,
          0
         ]
        },
        {
         "line": {
          "dash": "dashdot"
         },
         "name": "提交高质量报告数(于慧)",
         "type": "scatter",
         "uid": "c6738a25-dbfd-11e8-8ddb-a41f72875c19",
         "x": [
          "10-2",
          "10-3",
          "10-4"
         ],
         "y": [
          1,
          0,
          0
         ]
        },
        {
         "line": {
          "dash": "longdashdot"
         },
         "name": "提交高质量报告数(屈昂)",
         "type": "scatter",
         "uid": "c6738a26-dbfd-11e8-8ddb-a41f72875c19",
         "x": [
          "10-2",
          "10-3",
          "10-4"
         ],
         "y": [
          0,
          null,
          0
         ]
        },
        {
         "line": {
          "dash": "solid"
         },
         "name": "提交高质量报告数(冷雪)",
         "type": "scatter",
         "uid": "c6738a27-dbfd-11e8-8ddb-a41f72875c19",
         "x": [
          "10-2",
          "10-3",
          "10-4"
         ],
         "y": [
          0,
          null,
          0
         ]
        },
        {
         "line": {
          "dash": "dot"
         },
         "name": "提交高质量报告数(韩少怀)",
         "type": "scatter",
         "uid": "c6738a28-dbfd-11e8-8ddb-a41f72875c19",
         "x": [
          "10-2",
          "10-3",
          "10-4"
         ],
         "y": [
          0,
          0,
          0
         ]
        },
        {
         "line": {
          "dash": "dash"
         },
         "name": "提交高质量报告数(涂成芳)",
         "type": "scatter",
         "uid": "c6738a29-dbfd-11e8-8ddb-a41f72875c19",
         "x": [
          "10-2",
          "10-3",
          "10-4"
         ],
         "y": [
          null,
          null,
          0
         ]
        },
        {
         "line": {
          "dash": "longdash"
         },
         "name": "提交高质量报告数(张悦)",
         "type": "scatter",
         "uid": "c6738a2a-dbfd-11e8-8ddb-a41f72875c19",
         "x": [
          "10-2",
          "10-3",
          "10-4"
         ],
         "y": [
          null,
          null,
          0
         ]
        },
        {
         "line": {
          "dash": "dashdot"
         },
         "name": "提交高质量报告数(李华云)",
         "type": "scatter",
         "uid": "c6738a2b-dbfd-11e8-8ddb-a41f72875c19",
         "x": [
          "10-2",
          "10-3",
          "10-4"
         ],
         "y": [
          null,
          null,
          0
         ]
        },
        {
         "line": {
          "dash": "longdashdot"
         },
         "name": "提交高质量报告数(范旭宁)",
         "type": "scatter",
         "uid": "c6738a2c-dbfd-11e8-8ddb-a41f72875c19",
         "x": [
          "10-2",
          "10-3",
          "10-4"
         ],
         "y": [
          0,
          0,
          0
         ]
        },
        {
         "line": {
          "dash": "solid"
         },
         "name": "提交高质量报告数(段利强)",
         "type": "scatter",
         "uid": "c6738a2d-dbfd-11e8-8ddb-a41f72875c19",
         "x": [
          "10-2",
          "10-3",
          "10-4"
         ],
         "y": [
          0,
          null,
          null
         ]
        },
        {
         "line": {
          "dash": "dot"
         },
         "name": "提交高质量报告数(姚盟成)",
         "type": "scatter",
         "uid": "c6738a2e-dbfd-11e8-8ddb-a41f72875c19",
         "x": [
          "10-2",
          "10-3",
          "10-4"
         ],
         "y": [
          0,
          0,
          0
         ]
        },
        {
         "line": {
          "dash": "dash"
         },
         "name": "提交高质量报告数(杨伟飞)",
         "type": "scatter",
         "uid": "c6738a2f-dbfd-11e8-8ddb-a41f72875c19",
         "x": [
          "10-2",
          "10-3",
          "10-4"
         ],
         "y": [
          0,
          0,
          0
         ]
        },
        {
         "line": {
          "dash": "longdash"
         },
         "name": "提交高质量报告数(刘江)",
         "type": "scatter",
         "uid": "c6738a30-dbfd-11e8-8ddb-a41f72875c19",
         "x": [
          "10-2",
          "10-3",
          "10-4"
         ],
         "y": [
          0,
          0,
          0
         ]
        },
        {
         "line": {
          "dash": "dashdot"
         },
         "name": "提交高质量报告数(苏彦勋)",
         "type": "scatter",
         "uid": "c6738a31-dbfd-11e8-8ddb-a41f72875c19",
         "x": [
          "10-2",
          "10-3",
          "10-4"
         ],
         "y": [
          null,
          0,
          0
         ]
        },
        {
         "line": {
          "dash": "longdashdot"
         },
         "name": "提交高质量报告数(周杨)",
         "type": "scatter",
         "uid": "c6738a32-dbfd-11e8-8ddb-a41f72875c19",
         "x": [
          "10-2",
          "10-3",
          "10-4"
         ],
         "y": [
          0,
          0,
          0
         ]
        },
        {
         "line": {
          "dash": "solid"
         },
         "name": "提交高质量报告数(占伟)",
         "type": "scatter",
         "uid": "c6738a33-dbfd-11e8-8ddb-a41f72875c19",
         "x": [
          "10-2",
          "10-3",
          "10-4"
         ],
         "y": [
          0,
          0,
          0
         ]
        },
        {
         "line": {
          "dash": "dot"
         },
         "name": "提交高质量报告数(封彦杰)",
         "type": "scatter",
         "uid": "c6738a34-dbfd-11e8-8ddb-a41f72875c19",
         "x": [
          "10-2",
          "10-3",
          "10-4"
         ],
         "y": [
          0,
          0,
          0
         ]
        },
        {
         "line": {
          "dash": "dash"
         },
         "name": "提交高质量报告数(刘三阳)",
         "type": "scatter",
         "uid": "c6738a35-dbfd-11e8-8ddb-a41f72875c19",
         "x": [
          "10-2",
          "10-3",
          "10-4"
         ],
         "y": [
          null,
          0,
          null
         ]
        },
        {
         "line": {
          "dash": "longdash"
         },
         "name": "提交高质量报告数(昶吉阳)",
         "type": "scatter",
         "uid": "c6738a36-dbfd-11e8-8ddb-a41f72875c19",
         "x": [
          "10-2",
          "10-3",
          "10-4"
         ],
         "y": [
          null,
          0,
          0
         ]
        },
        {
         "line": {
          "dash": "dashdot"
         },
         "name": "提交高质量报告数(任雪)",
         "type": "scatter",
         "uid": "c6738a37-dbfd-11e8-8ddb-a41f72875c19",
         "x": [
          "10-2",
          "10-3",
          "10-4"
         ],
         "y": [
          0,
          0,
          1
         ]
        },
        {
         "line": {
          "dash": "longdashdot"
         },
         "name": "提交高质量报告数(李庆原)",
         "type": "scatter",
         "uid": "c6738a38-dbfd-11e8-8ddb-a41f72875c19",
         "x": [
          "10-2",
          "10-3",
          "10-4"
         ],
         "y": [
          0,
          0,
          0
         ]
        },
        {
         "line": {
          "dash": "solid"
         },
         "name": "提交高质量报告数(谢德健)",
         "type": "scatter",
         "uid": "c6738a39-dbfd-11e8-8ddb-a41f72875c19",
         "x": [
          "10-2",
          "10-3",
          "10-4"
         ],
         "y": [
          0,
          0,
          0
         ]
        },
        {
         "line": {
          "dash": "dot"
         },
         "name": "提交高质量报告数(林文文)",
         "type": "scatter",
         "uid": "c6738a3a-dbfd-11e8-8ddb-a41f72875c19",
         "x": [
          "10-2",
          "10-3",
          "10-4"
         ],
         "y": [
          null,
          null,
          0
         ]
        },
        {
         "line": {
          "dash": "dash"
         },
         "name": "提交高质量报告数(王红)",
         "type": "scatter",
         "uid": "c6738a3b-dbfd-11e8-8ddb-a41f72875c19",
         "x": [
          "10-2",
          "10-3",
          "10-4"
         ],
         "y": [
          null,
          null,
          0
         ]
        }
       ],
       "layout": {
        "title": "应交高质量报告数&提交高质量报告数周趋势图",
        "xaxis": {
         "mirror": "all",
         "nticks": 20,
         "showgrid": true,
         "showline": true,
         "title": "周",
         "type": "category",
         "zeroline": true
        },
        "yaxis": {
         "mirror": "all",
         "nticks": 20,
         "showgrid": true,
         "showline": true,
         "title": "应交高质量报告数&提交高质量报告数",
         "zeroline": true
        }
       }
      },
      "text/html": [
       "<div id=\"86a7d1e5-d542-46f7-8f4a-1c046f8d1387\" style=\"height: 525px; width: 100%;\" class=\"plotly-graph-div\"></div><script type=\"text/javascript\">require([\"plotly\"], function(Plotly) { window.PLOTLYENV=window.PLOTLYENV || {};window.PLOTLYENV.BASE_URL=\"https://plot.ly\";Plotly.newPlot(\"86a7d1e5-d542-46f7-8f4a-1c046f8d1387\", [{\"line\": {\"dash\": \"solid\"}, \"name\": \"\\u5e94\\u4ea4\\u9ad8\\u8d28\\u91cf\\u62a5\\u544a\\u6570(\\u8d75\\u73a5)\", \"x\": [\"10-2\", \"10-3\", \"10-4\"], \"y\": [0.0, 2.0, 0.0], \"type\": \"scatter\", \"uid\": \"c67389fa-dbfd-11e8-8ddb-a41f72875c19\"}, {\"line\": {\"dash\": \"dot\"}, \"name\": \"\\u5e94\\u4ea4\\u9ad8\\u8d28\\u91cf\\u62a5\\u544a\\u6570(\\u4e8e\\u52c7\\u4e00)\", \"x\": [\"10-2\", \"10-3\", \"10-4\"], \"y\": [1.0, 0.0, 0.0], \"type\": \"scatter\", \"uid\": \"c67389fb-dbfd-11e8-8ddb-a41f72875c19\"}, {\"line\": {\"dash\": \"dash\"}, \"name\": \"\\u5e94\\u4ea4\\u9ad8\\u8d28\\u91cf\\u62a5\\u544a\\u6570(\\u5f20\\u5b88\\u4f1f)\", \"x\": [\"10-2\", \"10-3\", \"10-4\"], \"y\": [0.0, 0.0, 0.0], \"type\": \"scatter\", \"uid\": \"c67389fc-dbfd-11e8-8ddb-a41f72875c19\"}, {\"line\": {\"dash\": \"longdash\"}, \"name\": \"\\u5e94\\u4ea4\\u9ad8\\u8d28\\u91cf\\u62a5\\u544a\\u6570(\\u51af\\u656c\\u5ca9)\", \"x\": [\"10-2\", \"10-3\", \"10-4\"], \"y\": [null, null, 0.0], \"type\": \"scatter\", \"uid\": \"c67389fd-dbfd-11e8-8ddb-a41f72875c19\"}, {\"line\": {\"dash\": \"dashdot\"}, \"name\": \"\\u5e94\\u4ea4\\u9ad8\\u8d28\\u91cf\\u62a5\\u544a\\u6570(\\u8def\\u6167\\u840d)\", \"x\": [\"10-2\", \"10-3\", \"10-4\"], \"y\": [0.0, 0.0, 0.0], \"type\": \"scatter\", \"uid\": \"c67389fe-dbfd-11e8-8ddb-a41f72875c19\"}, {\"line\": {\"dash\": \"longdashdot\"}, \"name\": \"\\u5e94\\u4ea4\\u9ad8\\u8d28\\u91cf\\u62a5\\u544a\\u6570(\\u9648\\u9e4f\\u71d5)\", \"x\": [\"10-2\", \"10-3\", \"10-4\"], \"y\": [null, 0.0, 0.0], \"type\": \"scatter\", \"uid\": \"c67389ff-dbfd-11e8-8ddb-a41f72875c19\"}, {\"line\": {\"dash\": \"solid\"}, \"name\": \"\\u5e94\\u4ea4\\u9ad8\\u8d28\\u91cf\\u62a5\\u544a\\u6570(\\u9a6c\\u6f47)\", \"x\": [\"10-2\", \"10-3\", \"10-4\"], \"y\": [0.0, 0.0, 0.0], \"type\": \"scatter\", \"uid\": \"c6738a00-dbfd-11e8-8ddb-a41f72875c19\"}, {\"line\": {\"dash\": \"dot\"}, \"name\": \"\\u5e94\\u4ea4\\u9ad8\\u8d28\\u91cf\\u62a5\\u544a\\u6570(\\u8f66\\u5929\\u680b)\", \"x\": [\"10-2\", \"10-3\", \"10-4\"], \"y\": [null, null, 1.0], \"type\": \"scatter\", \"uid\": \"c6738a01-dbfd-11e8-8ddb-a41f72875c19\"}, {\"line\": {\"dash\": \"dash\"}, \"name\": \"\\u5e94\\u4ea4\\u9ad8\\u8d28\\u91cf\\u62a5\\u544a\\u6570(\\u6c88\\u6069\\u60e0)\", \"x\": [\"10-2\", \"10-3\", \"10-4\"], \"y\": [null, null, 1.0], \"type\": \"scatter\", \"uid\": \"c6738a02-dbfd-11e8-8ddb-a41f72875c19\"}, {\"line\": {\"dash\": \"longdash\"}, \"name\": \"\\u5e94\\u4ea4\\u9ad8\\u8d28\\u91cf\\u62a5\\u544a\\u6570(\\u5b5f\\u660a)\", \"x\": [\"10-2\", \"10-3\", \"10-4\"], \"y\": [1.0, 0.0, 0.0], \"type\": \"scatter\", \"uid\": \"c6738a03-dbfd-11e8-8ddb-a41f72875c19\"}, {\"line\": {\"dash\": \"dashdot\"}, \"name\": \"\\u5e94\\u4ea4\\u9ad8\\u8d28\\u91cf\\u62a5\\u544a\\u6570(\\u4e8e\\u6167)\", \"x\": [\"10-2\", \"10-3\", \"10-4\"], \"y\": [1.0, 0.0, 0.0], \"type\": \"scatter\", \"uid\": \"c6738a04-dbfd-11e8-8ddb-a41f72875c19\"}, {\"line\": {\"dash\": \"longdashdot\"}, \"name\": \"\\u5e94\\u4ea4\\u9ad8\\u8d28\\u91cf\\u62a5\\u544a\\u6570(\\u5c48\\u6602)\", \"x\": [\"10-2\", \"10-3\", \"10-4\"], \"y\": [0.0, null, 0.0], \"type\": \"scatter\", \"uid\": \"c6738a05-dbfd-11e8-8ddb-a41f72875c19\"}, {\"line\": {\"dash\": \"solid\"}, \"name\": \"\\u5e94\\u4ea4\\u9ad8\\u8d28\\u91cf\\u62a5\\u544a\\u6570(\\u51b7\\u96ea)\", \"x\": [\"10-2\", \"10-3\", \"10-4\"], \"y\": [0.0, null, 0.0], \"type\": \"scatter\", \"uid\": \"c6738a06-dbfd-11e8-8ddb-a41f72875c19\"}, {\"line\": {\"dash\": \"dot\"}, \"name\": \"\\u5e94\\u4ea4\\u9ad8\\u8d28\\u91cf\\u62a5\\u544a\\u6570(\\u97e9\\u5c11\\u6000)\", \"x\": [\"10-2\", \"10-3\", \"10-4\"], \"y\": [0.0, 0.0, 0.0], \"type\": \"scatter\", \"uid\": \"c6738a07-dbfd-11e8-8ddb-a41f72875c19\"}, {\"line\": {\"dash\": \"dash\"}, \"name\": \"\\u5e94\\u4ea4\\u9ad8\\u8d28\\u91cf\\u62a5\\u544a\\u6570(\\u6d82\\u6210\\u82b3)\", \"x\": [\"10-2\", \"10-3\", \"10-4\"], \"y\": [null, null, 0.0], \"type\": \"scatter\", \"uid\": \"c6738a08-dbfd-11e8-8ddb-a41f72875c19\"}, {\"line\": {\"dash\": \"longdash\"}, \"name\": \"\\u5e94\\u4ea4\\u9ad8\\u8d28\\u91cf\\u62a5\\u544a\\u6570(\\u5f20\\u60a6)\", \"x\": [\"10-2\", \"10-3\", \"10-4\"], \"y\": [null, null, 0.0], \"type\": \"scatter\", \"uid\": \"c6738a09-dbfd-11e8-8ddb-a41f72875c19\"}, {\"line\": {\"dash\": \"dashdot\"}, \"name\": \"\\u5e94\\u4ea4\\u9ad8\\u8d28\\u91cf\\u62a5\\u544a\\u6570(\\u674e\\u534e\\u4e91)\", \"x\": [\"10-2\", \"10-3\", \"10-4\"], \"y\": [null, null, 0.0], \"type\": \"scatter\", \"uid\": \"c6738a0a-dbfd-11e8-8ddb-a41f72875c19\"}, {\"line\": {\"dash\": \"longdashdot\"}, \"name\": \"\\u5e94\\u4ea4\\u9ad8\\u8d28\\u91cf\\u62a5\\u544a\\u6570(\\u8303\\u65ed\\u5b81)\", \"x\": [\"10-2\", \"10-3\", \"10-4\"], \"y\": [0.0, 1.0, 0.0], \"type\": \"scatter\", \"uid\": \"c6738a0b-dbfd-11e8-8ddb-a41f72875c19\"}, {\"line\": {\"dash\": \"solid\"}, \"name\": \"\\u5e94\\u4ea4\\u9ad8\\u8d28\\u91cf\\u62a5\\u544a\\u6570(\\u6bb5\\u5229\\u5f3a)\", \"x\": [\"10-2\", \"10-3\", \"10-4\"], \"y\": [0.0, null, null], \"type\": \"scatter\", \"uid\": \"c6738a0c-dbfd-11e8-8ddb-a41f72875c19\"}, {\"line\": {\"dash\": \"dot\"}, \"name\": \"\\u5e94\\u4ea4\\u9ad8\\u8d28\\u91cf\\u62a5\\u544a\\u6570(\\u59da\\u76df\\u6210)\", \"x\": [\"10-2\", \"10-3\", \"10-4\"], \"y\": [1.0, 0.0, 0.0], \"type\": \"scatter\", \"uid\": \"c6738a0d-dbfd-11e8-8ddb-a41f72875c19\"}, {\"line\": {\"dash\": \"dash\"}, \"name\": \"\\u5e94\\u4ea4\\u9ad8\\u8d28\\u91cf\\u62a5\\u544a\\u6570(\\u6768\\u4f1f\\u98de)\", \"x\": [\"10-2\", \"10-3\", \"10-4\"], \"y\": [1.0, 1.0, 0.0], \"type\": \"scatter\", \"uid\": \"c6738a0e-dbfd-11e8-8ddb-a41f72875c19\"}, {\"line\": {\"dash\": \"longdash\"}, \"name\": \"\\u5e94\\u4ea4\\u9ad8\\u8d28\\u91cf\\u62a5\\u544a\\u6570(\\u5218\\u6c5f)\", \"x\": [\"10-2\", \"10-3\", \"10-4\"], \"y\": [2.0, 0.0, 0.0], \"type\": \"scatter\", \"uid\": \"c6738a0f-dbfd-11e8-8ddb-a41f72875c19\"}, {\"line\": {\"dash\": \"dashdot\"}, \"name\": \"\\u5e94\\u4ea4\\u9ad8\\u8d28\\u91cf\\u62a5\\u544a\\u6570(\\u82cf\\u5f66\\u52cb)\", \"x\": [\"10-2\", \"10-3\", \"10-4\"], \"y\": [null, 0.0, 0.0], \"type\": \"scatter\", \"uid\": \"c6738a10-dbfd-11e8-8ddb-a41f72875c19\"}, {\"line\": {\"dash\": \"longdashdot\"}, \"name\": \"\\u5e94\\u4ea4\\u9ad8\\u8d28\\u91cf\\u62a5\\u544a\\u6570(\\u5468\\u6768)\", \"x\": [\"10-2\", \"10-3\", \"10-4\"], \"y\": [1.0, 0.0, 0.0], \"type\": \"scatter\", \"uid\": \"c6738a11-dbfd-11e8-8ddb-a41f72875c19\"}, {\"line\": {\"dash\": \"solid\"}, \"name\": \"\\u5e94\\u4ea4\\u9ad8\\u8d28\\u91cf\\u62a5\\u544a\\u6570(\\u5360\\u4f1f)\", \"x\": [\"10-2\", \"10-3\", \"10-4\"], \"y\": [0.0, 0.0, 0.0], \"type\": \"scatter\", \"uid\": \"c6738a12-dbfd-11e8-8ddb-a41f72875c19\"}, {\"line\": {\"dash\": \"dot\"}, \"name\": \"\\u5e94\\u4ea4\\u9ad8\\u8d28\\u91cf\\u62a5\\u544a\\u6570(\\u5c01\\u5f66\\u6770)\", \"x\": [\"10-2\", \"10-3\", \"10-4\"], \"y\": [0.0, 0.0, 0.0], \"type\": \"scatter\", \"uid\": \"c6738a13-dbfd-11e8-8ddb-a41f72875c19\"}, {\"line\": {\"dash\": \"dash\"}, \"name\": \"\\u5e94\\u4ea4\\u9ad8\\u8d28\\u91cf\\u62a5\\u544a\\u6570(\\u5218\\u4e09\\u9633)\", \"x\": [\"10-2\", \"10-3\", \"10-4\"], \"y\": [null, 1.0, null], \"type\": \"scatter\", \"uid\": \"c6738a14-dbfd-11e8-8ddb-a41f72875c19\"}, {\"line\": {\"dash\": \"longdash\"}, \"name\": \"\\u5e94\\u4ea4\\u9ad8\\u8d28\\u91cf\\u62a5\\u544a\\u6570(\\u6636\\u5409\\u9633)\", \"x\": [\"10-2\", \"10-3\", \"10-4\"], \"y\": [null, 0.0, 0.0], \"type\": \"scatter\", \"uid\": \"c6738a15-dbfd-11e8-8ddb-a41f72875c19\"}, {\"line\": {\"dash\": \"dashdot\"}, \"name\": \"\\u5e94\\u4ea4\\u9ad8\\u8d28\\u91cf\\u62a5\\u544a\\u6570(\\u4efb\\u96ea)\", \"x\": [\"10-2\", \"10-3\", \"10-4\"], \"y\": [2.0, 0.0, 1.0], \"type\": \"scatter\", \"uid\": \"c6738a16-dbfd-11e8-8ddb-a41f72875c19\"}, {\"line\": {\"dash\": \"longdashdot\"}, \"name\": \"\\u5e94\\u4ea4\\u9ad8\\u8d28\\u91cf\\u62a5\\u544a\\u6570(\\u674e\\u5e86\\u539f)\", \"x\": [\"10-2\", \"10-3\", \"10-4\"], \"y\": [0.0, 0.0, 0.0], \"type\": \"scatter\", \"uid\": \"c6738a17-dbfd-11e8-8ddb-a41f72875c19\"}, {\"line\": {\"dash\": \"solid\"}, \"name\": \"\\u5e94\\u4ea4\\u9ad8\\u8d28\\u91cf\\u62a5\\u544a\\u6570(\\u8c22\\u5fb7\\u5065)\", \"x\": [\"10-2\", \"10-3\", \"10-4\"], \"y\": [2.0, 0.0, 0.0], \"type\": \"scatter\", \"uid\": \"c6738a18-dbfd-11e8-8ddb-a41f72875c19\"}, {\"line\": {\"dash\": \"dot\"}, \"name\": \"\\u5e94\\u4ea4\\u9ad8\\u8d28\\u91cf\\u62a5\\u544a\\u6570(\\u6797\\u6587\\u6587)\", \"x\": [\"10-2\", \"10-3\", \"10-4\"], \"y\": [null, null, 0.0], \"type\": \"scatter\", \"uid\": \"c6738a19-dbfd-11e8-8ddb-a41f72875c19\"}, {\"line\": {\"dash\": \"dash\"}, \"name\": \"\\u5e94\\u4ea4\\u9ad8\\u8d28\\u91cf\\u62a5\\u544a\\u6570(\\u738b\\u7ea2)\", \"x\": [\"10-2\", \"10-3\", \"10-4\"], \"y\": [null, null, 0.0], \"type\": \"scatter\", \"uid\": \"c6738a1a-dbfd-11e8-8ddb-a41f72875c19\"}, {\"line\": {\"dash\": \"solid\"}, \"name\": \"\\u63d0\\u4ea4\\u9ad8\\u8d28\\u91cf\\u62a5\\u544a\\u6570(\\u8d75\\u73a5)\", \"x\": [\"10-2\", \"10-3\", \"10-4\"], \"y\": [0.0, 0.0, 0.0], \"type\": \"scatter\", \"uid\": \"c6738a1b-dbfd-11e8-8ddb-a41f72875c19\"}, {\"line\": {\"dash\": \"dot\"}, \"name\": \"\\u63d0\\u4ea4\\u9ad8\\u8d28\\u91cf\\u62a5\\u544a\\u6570(\\u4e8e\\u52c7\\u4e00)\", \"x\": [\"10-2\", \"10-3\", \"10-4\"], \"y\": [0.0, 0.0, 0.0], \"type\": \"scatter\", \"uid\": \"c6738a1c-dbfd-11e8-8ddb-a41f72875c19\"}, {\"line\": {\"dash\": \"dash\"}, \"name\": \"\\u63d0\\u4ea4\\u9ad8\\u8d28\\u91cf\\u62a5\\u544a\\u6570(\\u5f20\\u5b88\\u4f1f)\", \"x\": [\"10-2\", \"10-3\", \"10-4\"], \"y\": [0.0, 0.0, 0.0], \"type\": \"scatter\", \"uid\": \"c6738a1d-dbfd-11e8-8ddb-a41f72875c19\"}, {\"line\": {\"dash\": \"longdash\"}, \"name\": \"\\u63d0\\u4ea4\\u9ad8\\u8d28\\u91cf\\u62a5\\u544a\\u6570(\\u51af\\u656c\\u5ca9)\", \"x\": [\"10-2\", \"10-3\", \"10-4\"], \"y\": [null, null, 0.0], \"type\": \"scatter\", \"uid\": \"c6738a1e-dbfd-11e8-8ddb-a41f72875c19\"}, {\"line\": {\"dash\": \"dashdot\"}, \"name\": \"\\u63d0\\u4ea4\\u9ad8\\u8d28\\u91cf\\u62a5\\u544a\\u6570(\\u8def\\u6167\\u840d)\", \"x\": [\"10-2\", \"10-3\", \"10-4\"], \"y\": [0.0, 0.0, 0.0], \"type\": \"scatter\", \"uid\": \"c6738a1f-dbfd-11e8-8ddb-a41f72875c19\"}, {\"line\": {\"dash\": \"longdashdot\"}, \"name\": \"\\u63d0\\u4ea4\\u9ad8\\u8d28\\u91cf\\u62a5\\u544a\\u6570(\\u9648\\u9e4f\\u71d5)\", \"x\": [\"10-2\", \"10-3\", \"10-4\"], \"y\": [null, 0.0, 0.0], \"type\": \"scatter\", \"uid\": \"c6738a20-dbfd-11e8-8ddb-a41f72875c19\"}, {\"line\": {\"dash\": \"solid\"}, \"name\": \"\\u63d0\\u4ea4\\u9ad8\\u8d28\\u91cf\\u62a5\\u544a\\u6570(\\u9a6c\\u6f47)\", \"x\": [\"10-2\", \"10-3\", \"10-4\"], \"y\": [0.0, 0.0, 0.0], \"type\": \"scatter\", \"uid\": \"c6738a21-dbfd-11e8-8ddb-a41f72875c19\"}, {\"line\": {\"dash\": \"dot\"}, \"name\": \"\\u63d0\\u4ea4\\u9ad8\\u8d28\\u91cf\\u62a5\\u544a\\u6570(\\u8f66\\u5929\\u680b)\", \"x\": [\"10-2\", \"10-3\", \"10-4\"], \"y\": [null, null, 1.0], \"type\": \"scatter\", \"uid\": \"c6738a22-dbfd-11e8-8ddb-a41f72875c19\"}, {\"line\": {\"dash\": \"dash\"}, \"name\": \"\\u63d0\\u4ea4\\u9ad8\\u8d28\\u91cf\\u62a5\\u544a\\u6570(\\u6c88\\u6069\\u60e0)\", \"x\": [\"10-2\", \"10-3\", \"10-4\"], \"y\": [null, null, 0.0], \"type\": \"scatter\", \"uid\": \"c6738a23-dbfd-11e8-8ddb-a41f72875c19\"}, {\"line\": {\"dash\": \"longdash\"}, \"name\": \"\\u63d0\\u4ea4\\u9ad8\\u8d28\\u91cf\\u62a5\\u544a\\u6570(\\u5b5f\\u660a)\", \"x\": [\"10-2\", \"10-3\", \"10-4\"], \"y\": [0.0, 0.0, 0.0], \"type\": \"scatter\", \"uid\": \"c6738a24-dbfd-11e8-8ddb-a41f72875c19\"}, {\"line\": {\"dash\": \"dashdot\"}, \"name\": \"\\u63d0\\u4ea4\\u9ad8\\u8d28\\u91cf\\u62a5\\u544a\\u6570(\\u4e8e\\u6167)\", \"x\": [\"10-2\", \"10-3\", \"10-4\"], \"y\": [1.0, 0.0, 0.0], \"type\": \"scatter\", \"uid\": \"c6738a25-dbfd-11e8-8ddb-a41f72875c19\"}, {\"line\": {\"dash\": \"longdashdot\"}, \"name\": \"\\u63d0\\u4ea4\\u9ad8\\u8d28\\u91cf\\u62a5\\u544a\\u6570(\\u5c48\\u6602)\", \"x\": [\"10-2\", \"10-3\", \"10-4\"], \"y\": [0.0, null, 0.0], \"type\": \"scatter\", \"uid\": \"c6738a26-dbfd-11e8-8ddb-a41f72875c19\"}, {\"line\": {\"dash\": \"solid\"}, \"name\": \"\\u63d0\\u4ea4\\u9ad8\\u8d28\\u91cf\\u62a5\\u544a\\u6570(\\u51b7\\u96ea)\", \"x\": [\"10-2\", \"10-3\", \"10-4\"], \"y\": [0.0, null, 0.0], \"type\": \"scatter\", \"uid\": \"c6738a27-dbfd-11e8-8ddb-a41f72875c19\"}, {\"line\": {\"dash\": \"dot\"}, \"name\": \"\\u63d0\\u4ea4\\u9ad8\\u8d28\\u91cf\\u62a5\\u544a\\u6570(\\u97e9\\u5c11\\u6000)\", \"x\": [\"10-2\", \"10-3\", \"10-4\"], \"y\": [0.0, 0.0, 0.0], \"type\": \"scatter\", \"uid\": \"c6738a28-dbfd-11e8-8ddb-a41f72875c19\"}, {\"line\": {\"dash\": \"dash\"}, \"name\": \"\\u63d0\\u4ea4\\u9ad8\\u8d28\\u91cf\\u62a5\\u544a\\u6570(\\u6d82\\u6210\\u82b3)\", \"x\": [\"10-2\", \"10-3\", \"10-4\"], \"y\": [null, null, 0.0], \"type\": \"scatter\", \"uid\": \"c6738a29-dbfd-11e8-8ddb-a41f72875c19\"}, {\"line\": {\"dash\": \"longdash\"}, \"name\": \"\\u63d0\\u4ea4\\u9ad8\\u8d28\\u91cf\\u62a5\\u544a\\u6570(\\u5f20\\u60a6)\", \"x\": [\"10-2\", \"10-3\", \"10-4\"], \"y\": [null, null, 0.0], \"type\": \"scatter\", \"uid\": \"c6738a2a-dbfd-11e8-8ddb-a41f72875c19\"}, {\"line\": {\"dash\": \"dashdot\"}, \"name\": \"\\u63d0\\u4ea4\\u9ad8\\u8d28\\u91cf\\u62a5\\u544a\\u6570(\\u674e\\u534e\\u4e91)\", \"x\": [\"10-2\", \"10-3\", \"10-4\"], \"y\": [null, null, 0.0], \"type\": \"scatter\", \"uid\": \"c6738a2b-dbfd-11e8-8ddb-a41f72875c19\"}, {\"line\": {\"dash\": \"longdashdot\"}, \"name\": \"\\u63d0\\u4ea4\\u9ad8\\u8d28\\u91cf\\u62a5\\u544a\\u6570(\\u8303\\u65ed\\u5b81)\", \"x\": [\"10-2\", \"10-3\", \"10-4\"], \"y\": [0.0, 0.0, 0.0], \"type\": \"scatter\", \"uid\": \"c6738a2c-dbfd-11e8-8ddb-a41f72875c19\"}, {\"line\": {\"dash\": \"solid\"}, \"name\": \"\\u63d0\\u4ea4\\u9ad8\\u8d28\\u91cf\\u62a5\\u544a\\u6570(\\u6bb5\\u5229\\u5f3a)\", \"x\": [\"10-2\", \"10-3\", \"10-4\"], \"y\": [0.0, null, null], \"type\": \"scatter\", \"uid\": \"c6738a2d-dbfd-11e8-8ddb-a41f72875c19\"}, {\"line\": {\"dash\": \"dot\"}, \"name\": \"\\u63d0\\u4ea4\\u9ad8\\u8d28\\u91cf\\u62a5\\u544a\\u6570(\\u59da\\u76df\\u6210)\", \"x\": [\"10-2\", \"10-3\", \"10-4\"], \"y\": [0.0, 0.0, 0.0], \"type\": \"scatter\", \"uid\": \"c6738a2e-dbfd-11e8-8ddb-a41f72875c19\"}, {\"line\": {\"dash\": \"dash\"}, \"name\": \"\\u63d0\\u4ea4\\u9ad8\\u8d28\\u91cf\\u62a5\\u544a\\u6570(\\u6768\\u4f1f\\u98de)\", \"x\": [\"10-2\", \"10-3\", \"10-4\"], \"y\": [0.0, 0.0, 0.0], \"type\": \"scatter\", \"uid\": \"c6738a2f-dbfd-11e8-8ddb-a41f72875c19\"}, {\"line\": {\"dash\": \"longdash\"}, \"name\": \"\\u63d0\\u4ea4\\u9ad8\\u8d28\\u91cf\\u62a5\\u544a\\u6570(\\u5218\\u6c5f)\", \"x\": [\"10-2\", \"10-3\", \"10-4\"], \"y\": [0.0, 0.0, 0.0], \"type\": \"scatter\", \"uid\": \"c6738a30-dbfd-11e8-8ddb-a41f72875c19\"}, {\"line\": {\"dash\": \"dashdot\"}, \"name\": \"\\u63d0\\u4ea4\\u9ad8\\u8d28\\u91cf\\u62a5\\u544a\\u6570(\\u82cf\\u5f66\\u52cb)\", \"x\": [\"10-2\", \"10-3\", \"10-4\"], \"y\": [null, 0.0, 0.0], \"type\": \"scatter\", \"uid\": \"c6738a31-dbfd-11e8-8ddb-a41f72875c19\"}, {\"line\": {\"dash\": \"longdashdot\"}, \"name\": \"\\u63d0\\u4ea4\\u9ad8\\u8d28\\u91cf\\u62a5\\u544a\\u6570(\\u5468\\u6768)\", \"x\": [\"10-2\", \"10-3\", \"10-4\"], \"y\": [0.0, 0.0, 0.0], \"type\": \"scatter\", \"uid\": \"c6738a32-dbfd-11e8-8ddb-a41f72875c19\"}, {\"line\": {\"dash\": \"solid\"}, \"name\": \"\\u63d0\\u4ea4\\u9ad8\\u8d28\\u91cf\\u62a5\\u544a\\u6570(\\u5360\\u4f1f)\", \"x\": [\"10-2\", \"10-3\", \"10-4\"], \"y\": [0.0, 0.0, 0.0], \"type\": \"scatter\", \"uid\": \"c6738a33-dbfd-11e8-8ddb-a41f72875c19\"}, {\"line\": {\"dash\": \"dot\"}, \"name\": \"\\u63d0\\u4ea4\\u9ad8\\u8d28\\u91cf\\u62a5\\u544a\\u6570(\\u5c01\\u5f66\\u6770)\", \"x\": [\"10-2\", \"10-3\", \"10-4\"], \"y\": [0.0, 0.0, 0.0], \"type\": \"scatter\", \"uid\": \"c6738a34-dbfd-11e8-8ddb-a41f72875c19\"}, {\"line\": {\"dash\": \"dash\"}, \"name\": \"\\u63d0\\u4ea4\\u9ad8\\u8d28\\u91cf\\u62a5\\u544a\\u6570(\\u5218\\u4e09\\u9633)\", \"x\": [\"10-2\", \"10-3\", \"10-4\"], \"y\": [null, 0.0, null], \"type\": \"scatter\", \"uid\": \"c6738a35-dbfd-11e8-8ddb-a41f72875c19\"}, {\"line\": {\"dash\": \"longdash\"}, \"name\": \"\\u63d0\\u4ea4\\u9ad8\\u8d28\\u91cf\\u62a5\\u544a\\u6570(\\u6636\\u5409\\u9633)\", \"x\": [\"10-2\", \"10-3\", \"10-4\"], \"y\": [null, 0.0, 0.0], \"type\": \"scatter\", \"uid\": \"c6738a36-dbfd-11e8-8ddb-a41f72875c19\"}, {\"line\": {\"dash\": \"dashdot\"}, \"name\": \"\\u63d0\\u4ea4\\u9ad8\\u8d28\\u91cf\\u62a5\\u544a\\u6570(\\u4efb\\u96ea)\", \"x\": [\"10-2\", \"10-3\", \"10-4\"], \"y\": [0.0, 0.0, 1.0], \"type\": \"scatter\", \"uid\": \"c6738a37-dbfd-11e8-8ddb-a41f72875c19\"}, {\"line\": {\"dash\": \"longdashdot\"}, \"name\": \"\\u63d0\\u4ea4\\u9ad8\\u8d28\\u91cf\\u62a5\\u544a\\u6570(\\u674e\\u5e86\\u539f)\", \"x\": [\"10-2\", \"10-3\", \"10-4\"], \"y\": [0.0, 0.0, 0.0], \"type\": \"scatter\", \"uid\": \"c6738a38-dbfd-11e8-8ddb-a41f72875c19\"}, {\"line\": {\"dash\": \"solid\"}, \"name\": \"\\u63d0\\u4ea4\\u9ad8\\u8d28\\u91cf\\u62a5\\u544a\\u6570(\\u8c22\\u5fb7\\u5065)\", \"x\": [\"10-2\", \"10-3\", \"10-4\"], \"y\": [0.0, 0.0, 0.0], \"type\": \"scatter\", \"uid\": \"c6738a39-dbfd-11e8-8ddb-a41f72875c19\"}, {\"line\": {\"dash\": \"dot\"}, \"name\": \"\\u63d0\\u4ea4\\u9ad8\\u8d28\\u91cf\\u62a5\\u544a\\u6570(\\u6797\\u6587\\u6587)\", \"x\": [\"10-2\", \"10-3\", \"10-4\"], \"y\": [null, null, 0.0], \"type\": \"scatter\", \"uid\": \"c6738a3a-dbfd-11e8-8ddb-a41f72875c19\"}, {\"line\": {\"dash\": \"dash\"}, \"name\": \"\\u63d0\\u4ea4\\u9ad8\\u8d28\\u91cf\\u62a5\\u544a\\u6570(\\u738b\\u7ea2)\", \"x\": [\"10-2\", \"10-3\", \"10-4\"], \"y\": [null, null, 0.0], \"type\": \"scatter\", \"uid\": \"c6738a3b-dbfd-11e8-8ddb-a41f72875c19\"}], {\"title\": \"\\u5e94\\u4ea4\\u9ad8\\u8d28\\u91cf\\u62a5\\u544a\\u6570&\\u63d0\\u4ea4\\u9ad8\\u8d28\\u91cf\\u62a5\\u544a\\u6570\\u5468\\u8d8b\\u52bf\\u56fe\", \"xaxis\": {\"mirror\": \"all\", \"nticks\": 20, \"showgrid\": true, \"showline\": true, \"title\": \"\\u5468\", \"type\": \"category\", \"zeroline\": true}, \"yaxis\": {\"mirror\": \"all\", \"nticks\": 20, \"showgrid\": true, \"showline\": true, \"title\": \"\\u5e94\\u4ea4\\u9ad8\\u8d28\\u91cf\\u62a5\\u544a\\u6570&\\u63d0\\u4ea4\\u9ad8\\u8d28\\u91cf\\u62a5\\u544a\\u6570\", \"zeroline\": true}}, {\"showLink\": true, \"linkText\": \"Export to plot.ly\"})});</script>"
      ],
      "text/vnd.plotly.v1+html": [
       "<div id=\"86a7d1e5-d542-46f7-8f4a-1c046f8d1387\" style=\"height: 525px; width: 100%;\" class=\"plotly-graph-div\"></div><script type=\"text/javascript\">require([\"plotly\"], function(Plotly) { window.PLOTLYENV=window.PLOTLYENV || {};window.PLOTLYENV.BASE_URL=\"https://plot.ly\";Plotly.newPlot(\"86a7d1e5-d542-46f7-8f4a-1c046f8d1387\", [{\"line\": {\"dash\": \"solid\"}, \"name\": \"\\u5e94\\u4ea4\\u9ad8\\u8d28\\u91cf\\u62a5\\u544a\\u6570(\\u8d75\\u73a5)\", \"x\": [\"10-2\", \"10-3\", \"10-4\"], \"y\": [0.0, 2.0, 0.0], \"type\": \"scatter\", \"uid\": \"c67389fa-dbfd-11e8-8ddb-a41f72875c19\"}, {\"line\": {\"dash\": \"dot\"}, \"name\": \"\\u5e94\\u4ea4\\u9ad8\\u8d28\\u91cf\\u62a5\\u544a\\u6570(\\u4e8e\\u52c7\\u4e00)\", \"x\": [\"10-2\", \"10-3\", \"10-4\"], \"y\": [1.0, 0.0, 0.0], \"type\": \"scatter\", \"uid\": \"c67389fb-dbfd-11e8-8ddb-a41f72875c19\"}, {\"line\": {\"dash\": \"dash\"}, \"name\": \"\\u5e94\\u4ea4\\u9ad8\\u8d28\\u91cf\\u62a5\\u544a\\u6570(\\u5f20\\u5b88\\u4f1f)\", \"x\": [\"10-2\", \"10-3\", \"10-4\"], \"y\": [0.0, 0.0, 0.0], \"type\": \"scatter\", \"uid\": \"c67389fc-dbfd-11e8-8ddb-a41f72875c19\"}, {\"line\": {\"dash\": \"longdash\"}, \"name\": \"\\u5e94\\u4ea4\\u9ad8\\u8d28\\u91cf\\u62a5\\u544a\\u6570(\\u51af\\u656c\\u5ca9)\", \"x\": [\"10-2\", \"10-3\", \"10-4\"], \"y\": [null, null, 0.0], \"type\": \"scatter\", \"uid\": \"c67389fd-dbfd-11e8-8ddb-a41f72875c19\"}, {\"line\": {\"dash\": \"dashdot\"}, \"name\": \"\\u5e94\\u4ea4\\u9ad8\\u8d28\\u91cf\\u62a5\\u544a\\u6570(\\u8def\\u6167\\u840d)\", \"x\": [\"10-2\", \"10-3\", \"10-4\"], \"y\": [0.0, 0.0, 0.0], \"type\": \"scatter\", \"uid\": \"c67389fe-dbfd-11e8-8ddb-a41f72875c19\"}, {\"line\": {\"dash\": \"longdashdot\"}, \"name\": \"\\u5e94\\u4ea4\\u9ad8\\u8d28\\u91cf\\u62a5\\u544a\\u6570(\\u9648\\u9e4f\\u71d5)\", \"x\": [\"10-2\", \"10-3\", \"10-4\"], \"y\": [null, 0.0, 0.0], \"type\": \"scatter\", \"uid\": \"c67389ff-dbfd-11e8-8ddb-a41f72875c19\"}, {\"line\": {\"dash\": \"solid\"}, \"name\": \"\\u5e94\\u4ea4\\u9ad8\\u8d28\\u91cf\\u62a5\\u544a\\u6570(\\u9a6c\\u6f47)\", \"x\": [\"10-2\", \"10-3\", \"10-4\"], \"y\": [0.0, 0.0, 0.0], \"type\": \"scatter\", \"uid\": \"c6738a00-dbfd-11e8-8ddb-a41f72875c19\"}, {\"line\": {\"dash\": \"dot\"}, \"name\": \"\\u5e94\\u4ea4\\u9ad8\\u8d28\\u91cf\\u62a5\\u544a\\u6570(\\u8f66\\u5929\\u680b)\", \"x\": [\"10-2\", \"10-3\", \"10-4\"], \"y\": [null, null, 1.0], \"type\": \"scatter\", \"uid\": \"c6738a01-dbfd-11e8-8ddb-a41f72875c19\"}, {\"line\": {\"dash\": \"dash\"}, \"name\": \"\\u5e94\\u4ea4\\u9ad8\\u8d28\\u91cf\\u62a5\\u544a\\u6570(\\u6c88\\u6069\\u60e0)\", \"x\": [\"10-2\", \"10-3\", \"10-4\"], \"y\": [null, null, 1.0], \"type\": \"scatter\", \"uid\": \"c6738a02-dbfd-11e8-8ddb-a41f72875c19\"}, {\"line\": {\"dash\": \"longdash\"}, \"name\": \"\\u5e94\\u4ea4\\u9ad8\\u8d28\\u91cf\\u62a5\\u544a\\u6570(\\u5b5f\\u660a)\", \"x\": [\"10-2\", \"10-3\", \"10-4\"], \"y\": [1.0, 0.0, 0.0], \"type\": \"scatter\", \"uid\": \"c6738a03-dbfd-11e8-8ddb-a41f72875c19\"}, {\"line\": {\"dash\": \"dashdot\"}, \"name\": \"\\u5e94\\u4ea4\\u9ad8\\u8d28\\u91cf\\u62a5\\u544a\\u6570(\\u4e8e\\u6167)\", \"x\": [\"10-2\", \"10-3\", \"10-4\"], \"y\": [1.0, 0.0, 0.0], \"type\": \"scatter\", \"uid\": \"c6738a04-dbfd-11e8-8ddb-a41f72875c19\"}, {\"line\": {\"dash\": \"longdashdot\"}, \"name\": \"\\u5e94\\u4ea4\\u9ad8\\u8d28\\u91cf\\u62a5\\u544a\\u6570(\\u5c48\\u6602)\", \"x\": [\"10-2\", \"10-3\", \"10-4\"], \"y\": [0.0, null, 0.0], \"type\": \"scatter\", \"uid\": \"c6738a05-dbfd-11e8-8ddb-a41f72875c19\"}, {\"line\": {\"dash\": \"solid\"}, \"name\": \"\\u5e94\\u4ea4\\u9ad8\\u8d28\\u91cf\\u62a5\\u544a\\u6570(\\u51b7\\u96ea)\", \"x\": [\"10-2\", \"10-3\", \"10-4\"], \"y\": [0.0, null, 0.0], \"type\": \"scatter\", \"uid\": \"c6738a06-dbfd-11e8-8ddb-a41f72875c19\"}, {\"line\": {\"dash\": \"dot\"}, \"name\": \"\\u5e94\\u4ea4\\u9ad8\\u8d28\\u91cf\\u62a5\\u544a\\u6570(\\u97e9\\u5c11\\u6000)\", \"x\": [\"10-2\", \"10-3\", \"10-4\"], \"y\": [0.0, 0.0, 0.0], \"type\": \"scatter\", \"uid\": \"c6738a07-dbfd-11e8-8ddb-a41f72875c19\"}, {\"line\": {\"dash\": \"dash\"}, \"name\": \"\\u5e94\\u4ea4\\u9ad8\\u8d28\\u91cf\\u62a5\\u544a\\u6570(\\u6d82\\u6210\\u82b3)\", \"x\": [\"10-2\", \"10-3\", \"10-4\"], \"y\": [null, null, 0.0], \"type\": \"scatter\", \"uid\": \"c6738a08-dbfd-11e8-8ddb-a41f72875c19\"}, {\"line\": {\"dash\": \"longdash\"}, \"name\": \"\\u5e94\\u4ea4\\u9ad8\\u8d28\\u91cf\\u62a5\\u544a\\u6570(\\u5f20\\u60a6)\", \"x\": [\"10-2\", \"10-3\", \"10-4\"], \"y\": [null, null, 0.0], \"type\": \"scatter\", \"uid\": \"c6738a09-dbfd-11e8-8ddb-a41f72875c19\"}, {\"line\": {\"dash\": \"dashdot\"}, \"name\": \"\\u5e94\\u4ea4\\u9ad8\\u8d28\\u91cf\\u62a5\\u544a\\u6570(\\u674e\\u534e\\u4e91)\", \"x\": [\"10-2\", \"10-3\", \"10-4\"], \"y\": [null, null, 0.0], \"type\": \"scatter\", \"uid\": \"c6738a0a-dbfd-11e8-8ddb-a41f72875c19\"}, {\"line\": {\"dash\": \"longdashdot\"}, \"name\": \"\\u5e94\\u4ea4\\u9ad8\\u8d28\\u91cf\\u62a5\\u544a\\u6570(\\u8303\\u65ed\\u5b81)\", \"x\": [\"10-2\", \"10-3\", \"10-4\"], \"y\": [0.0, 1.0, 0.0], \"type\": \"scatter\", \"uid\": \"c6738a0b-dbfd-11e8-8ddb-a41f72875c19\"}, {\"line\": {\"dash\": \"solid\"}, \"name\": \"\\u5e94\\u4ea4\\u9ad8\\u8d28\\u91cf\\u62a5\\u544a\\u6570(\\u6bb5\\u5229\\u5f3a)\", \"x\": [\"10-2\", \"10-3\", \"10-4\"], \"y\": [0.0, null, null], \"type\": \"scatter\", \"uid\": \"c6738a0c-dbfd-11e8-8ddb-a41f72875c19\"}, {\"line\": {\"dash\": \"dot\"}, \"name\": \"\\u5e94\\u4ea4\\u9ad8\\u8d28\\u91cf\\u62a5\\u544a\\u6570(\\u59da\\u76df\\u6210)\", \"x\": [\"10-2\", \"10-3\", \"10-4\"], \"y\": [1.0, 0.0, 0.0], \"type\": \"scatter\", \"uid\": \"c6738a0d-dbfd-11e8-8ddb-a41f72875c19\"}, {\"line\": {\"dash\": \"dash\"}, \"name\": \"\\u5e94\\u4ea4\\u9ad8\\u8d28\\u91cf\\u62a5\\u544a\\u6570(\\u6768\\u4f1f\\u98de)\", \"x\": [\"10-2\", \"10-3\", \"10-4\"], \"y\": [1.0, 1.0, 0.0], \"type\": \"scatter\", \"uid\": \"c6738a0e-dbfd-11e8-8ddb-a41f72875c19\"}, {\"line\": {\"dash\": \"longdash\"}, \"name\": \"\\u5e94\\u4ea4\\u9ad8\\u8d28\\u91cf\\u62a5\\u544a\\u6570(\\u5218\\u6c5f)\", \"x\": [\"10-2\", \"10-3\", \"10-4\"], \"y\": [2.0, 0.0, 0.0], \"type\": \"scatter\", \"uid\": \"c6738a0f-dbfd-11e8-8ddb-a41f72875c19\"}, {\"line\": {\"dash\": \"dashdot\"}, \"name\": \"\\u5e94\\u4ea4\\u9ad8\\u8d28\\u91cf\\u62a5\\u544a\\u6570(\\u82cf\\u5f66\\u52cb)\", \"x\": [\"10-2\", \"10-3\", \"10-4\"], \"y\": [null, 0.0, 0.0], \"type\": \"scatter\", \"uid\": \"c6738a10-dbfd-11e8-8ddb-a41f72875c19\"}, {\"line\": {\"dash\": \"longdashdot\"}, \"name\": \"\\u5e94\\u4ea4\\u9ad8\\u8d28\\u91cf\\u62a5\\u544a\\u6570(\\u5468\\u6768)\", \"x\": [\"10-2\", \"10-3\", \"10-4\"], \"y\": [1.0, 0.0, 0.0], \"type\": \"scatter\", \"uid\": \"c6738a11-dbfd-11e8-8ddb-a41f72875c19\"}, {\"line\": {\"dash\": \"solid\"}, \"name\": \"\\u5e94\\u4ea4\\u9ad8\\u8d28\\u91cf\\u62a5\\u544a\\u6570(\\u5360\\u4f1f)\", \"x\": [\"10-2\", \"10-3\", \"10-4\"], \"y\": [0.0, 0.0, 0.0], \"type\": \"scatter\", \"uid\": \"c6738a12-dbfd-11e8-8ddb-a41f72875c19\"}, {\"line\": {\"dash\": \"dot\"}, \"name\": \"\\u5e94\\u4ea4\\u9ad8\\u8d28\\u91cf\\u62a5\\u544a\\u6570(\\u5c01\\u5f66\\u6770)\", \"x\": [\"10-2\", \"10-3\", \"10-4\"], \"y\": [0.0, 0.0, 0.0], \"type\": \"scatter\", \"uid\": \"c6738a13-dbfd-11e8-8ddb-a41f72875c19\"}, {\"line\": {\"dash\": \"dash\"}, \"name\": \"\\u5e94\\u4ea4\\u9ad8\\u8d28\\u91cf\\u62a5\\u544a\\u6570(\\u5218\\u4e09\\u9633)\", \"x\": [\"10-2\", \"10-3\", \"10-4\"], \"y\": [null, 1.0, null], \"type\": \"scatter\", \"uid\": \"c6738a14-dbfd-11e8-8ddb-a41f72875c19\"}, {\"line\": {\"dash\": \"longdash\"}, \"name\": \"\\u5e94\\u4ea4\\u9ad8\\u8d28\\u91cf\\u62a5\\u544a\\u6570(\\u6636\\u5409\\u9633)\", \"x\": [\"10-2\", \"10-3\", \"10-4\"], \"y\": [null, 0.0, 0.0], \"type\": \"scatter\", \"uid\": \"c6738a15-dbfd-11e8-8ddb-a41f72875c19\"}, {\"line\": {\"dash\": \"dashdot\"}, \"name\": \"\\u5e94\\u4ea4\\u9ad8\\u8d28\\u91cf\\u62a5\\u544a\\u6570(\\u4efb\\u96ea)\", \"x\": [\"10-2\", \"10-3\", \"10-4\"], \"y\": [2.0, 0.0, 1.0], \"type\": \"scatter\", \"uid\": \"c6738a16-dbfd-11e8-8ddb-a41f72875c19\"}, {\"line\": {\"dash\": \"longdashdot\"}, \"name\": \"\\u5e94\\u4ea4\\u9ad8\\u8d28\\u91cf\\u62a5\\u544a\\u6570(\\u674e\\u5e86\\u539f)\", \"x\": [\"10-2\", \"10-3\", \"10-4\"], \"y\": [0.0, 0.0, 0.0], \"type\": \"scatter\", \"uid\": \"c6738a17-dbfd-11e8-8ddb-a41f72875c19\"}, {\"line\": {\"dash\": \"solid\"}, \"name\": \"\\u5e94\\u4ea4\\u9ad8\\u8d28\\u91cf\\u62a5\\u544a\\u6570(\\u8c22\\u5fb7\\u5065)\", \"x\": [\"10-2\", \"10-3\", \"10-4\"], \"y\": [2.0, 0.0, 0.0], \"type\": \"scatter\", \"uid\": \"c6738a18-dbfd-11e8-8ddb-a41f72875c19\"}, {\"line\": {\"dash\": \"dot\"}, \"name\": \"\\u5e94\\u4ea4\\u9ad8\\u8d28\\u91cf\\u62a5\\u544a\\u6570(\\u6797\\u6587\\u6587)\", \"x\": [\"10-2\", \"10-3\", \"10-4\"], \"y\": [null, null, 0.0], \"type\": \"scatter\", \"uid\": \"c6738a19-dbfd-11e8-8ddb-a41f72875c19\"}, {\"line\": {\"dash\": \"dash\"}, \"name\": \"\\u5e94\\u4ea4\\u9ad8\\u8d28\\u91cf\\u62a5\\u544a\\u6570(\\u738b\\u7ea2)\", \"x\": [\"10-2\", \"10-3\", \"10-4\"], \"y\": [null, null, 0.0], \"type\": \"scatter\", \"uid\": \"c6738a1a-dbfd-11e8-8ddb-a41f72875c19\"}, {\"line\": {\"dash\": \"solid\"}, \"name\": \"\\u63d0\\u4ea4\\u9ad8\\u8d28\\u91cf\\u62a5\\u544a\\u6570(\\u8d75\\u73a5)\", \"x\": [\"10-2\", \"10-3\", \"10-4\"], \"y\": [0.0, 0.0, 0.0], \"type\": \"scatter\", \"uid\": \"c6738a1b-dbfd-11e8-8ddb-a41f72875c19\"}, {\"line\": {\"dash\": \"dot\"}, \"name\": \"\\u63d0\\u4ea4\\u9ad8\\u8d28\\u91cf\\u62a5\\u544a\\u6570(\\u4e8e\\u52c7\\u4e00)\", \"x\": [\"10-2\", \"10-3\", \"10-4\"], \"y\": [0.0, 0.0, 0.0], \"type\": \"scatter\", \"uid\": \"c6738a1c-dbfd-11e8-8ddb-a41f72875c19\"}, {\"line\": {\"dash\": \"dash\"}, \"name\": \"\\u63d0\\u4ea4\\u9ad8\\u8d28\\u91cf\\u62a5\\u544a\\u6570(\\u5f20\\u5b88\\u4f1f)\", \"x\": [\"10-2\", \"10-3\", \"10-4\"], \"y\": [0.0, 0.0, 0.0], \"type\": \"scatter\", \"uid\": \"c6738a1d-dbfd-11e8-8ddb-a41f72875c19\"}, {\"line\": {\"dash\": \"longdash\"}, \"name\": \"\\u63d0\\u4ea4\\u9ad8\\u8d28\\u91cf\\u62a5\\u544a\\u6570(\\u51af\\u656c\\u5ca9)\", \"x\": [\"10-2\", \"10-3\", \"10-4\"], \"y\": [null, null, 0.0], \"type\": \"scatter\", \"uid\": \"c6738a1e-dbfd-11e8-8ddb-a41f72875c19\"}, {\"line\": {\"dash\": \"dashdot\"}, \"name\": \"\\u63d0\\u4ea4\\u9ad8\\u8d28\\u91cf\\u62a5\\u544a\\u6570(\\u8def\\u6167\\u840d)\", \"x\": [\"10-2\", \"10-3\", \"10-4\"], \"y\": [0.0, 0.0, 0.0], \"type\": \"scatter\", \"uid\": \"c6738a1f-dbfd-11e8-8ddb-a41f72875c19\"}, {\"line\": {\"dash\": \"longdashdot\"}, \"name\": \"\\u63d0\\u4ea4\\u9ad8\\u8d28\\u91cf\\u62a5\\u544a\\u6570(\\u9648\\u9e4f\\u71d5)\", \"x\": [\"10-2\", \"10-3\", \"10-4\"], \"y\": [null, 0.0, 0.0], \"type\": \"scatter\", \"uid\": \"c6738a20-dbfd-11e8-8ddb-a41f72875c19\"}, {\"line\": {\"dash\": \"solid\"}, \"name\": \"\\u63d0\\u4ea4\\u9ad8\\u8d28\\u91cf\\u62a5\\u544a\\u6570(\\u9a6c\\u6f47)\", \"x\": [\"10-2\", \"10-3\", \"10-4\"], \"y\": [0.0, 0.0, 0.0], \"type\": \"scatter\", \"uid\": \"c6738a21-dbfd-11e8-8ddb-a41f72875c19\"}, {\"line\": {\"dash\": \"dot\"}, \"name\": \"\\u63d0\\u4ea4\\u9ad8\\u8d28\\u91cf\\u62a5\\u544a\\u6570(\\u8f66\\u5929\\u680b)\", \"x\": [\"10-2\", \"10-3\", \"10-4\"], \"y\": [null, null, 1.0], \"type\": \"scatter\", \"uid\": \"c6738a22-dbfd-11e8-8ddb-a41f72875c19\"}, {\"line\": {\"dash\": \"dash\"}, \"name\": \"\\u63d0\\u4ea4\\u9ad8\\u8d28\\u91cf\\u62a5\\u544a\\u6570(\\u6c88\\u6069\\u60e0)\", \"x\": [\"10-2\", \"10-3\", \"10-4\"], \"y\": [null, null, 0.0], \"type\": \"scatter\", \"uid\": \"c6738a23-dbfd-11e8-8ddb-a41f72875c19\"}, {\"line\": {\"dash\": \"longdash\"}, \"name\": \"\\u63d0\\u4ea4\\u9ad8\\u8d28\\u91cf\\u62a5\\u544a\\u6570(\\u5b5f\\u660a)\", \"x\": [\"10-2\", \"10-3\", \"10-4\"], \"y\": [0.0, 0.0, 0.0], \"type\": \"scatter\", \"uid\": \"c6738a24-dbfd-11e8-8ddb-a41f72875c19\"}, {\"line\": {\"dash\": \"dashdot\"}, \"name\": \"\\u63d0\\u4ea4\\u9ad8\\u8d28\\u91cf\\u62a5\\u544a\\u6570(\\u4e8e\\u6167)\", \"x\": [\"10-2\", \"10-3\", \"10-4\"], \"y\": [1.0, 0.0, 0.0], \"type\": \"scatter\", \"uid\": \"c6738a25-dbfd-11e8-8ddb-a41f72875c19\"}, {\"line\": {\"dash\": \"longdashdot\"}, \"name\": \"\\u63d0\\u4ea4\\u9ad8\\u8d28\\u91cf\\u62a5\\u544a\\u6570(\\u5c48\\u6602)\", \"x\": [\"10-2\", \"10-3\", \"10-4\"], \"y\": [0.0, null, 0.0], \"type\": \"scatter\", \"uid\": \"c6738a26-dbfd-11e8-8ddb-a41f72875c19\"}, {\"line\": {\"dash\": \"solid\"}, \"name\": \"\\u63d0\\u4ea4\\u9ad8\\u8d28\\u91cf\\u62a5\\u544a\\u6570(\\u51b7\\u96ea)\", \"x\": [\"10-2\", \"10-3\", \"10-4\"], \"y\": [0.0, null, 0.0], \"type\": \"scatter\", \"uid\": \"c6738a27-dbfd-11e8-8ddb-a41f72875c19\"}, {\"line\": {\"dash\": \"dot\"}, \"name\": \"\\u63d0\\u4ea4\\u9ad8\\u8d28\\u91cf\\u62a5\\u544a\\u6570(\\u97e9\\u5c11\\u6000)\", \"x\": [\"10-2\", \"10-3\", \"10-4\"], \"y\": [0.0, 0.0, 0.0], \"type\": \"scatter\", \"uid\": \"c6738a28-dbfd-11e8-8ddb-a41f72875c19\"}, {\"line\": {\"dash\": \"dash\"}, \"name\": \"\\u63d0\\u4ea4\\u9ad8\\u8d28\\u91cf\\u62a5\\u544a\\u6570(\\u6d82\\u6210\\u82b3)\", \"x\": [\"10-2\", \"10-3\", \"10-4\"], \"y\": [null, null, 0.0], \"type\": \"scatter\", \"uid\": \"c6738a29-dbfd-11e8-8ddb-a41f72875c19\"}, {\"line\": {\"dash\": \"longdash\"}, \"name\": \"\\u63d0\\u4ea4\\u9ad8\\u8d28\\u91cf\\u62a5\\u544a\\u6570(\\u5f20\\u60a6)\", \"x\": [\"10-2\", \"10-3\", \"10-4\"], \"y\": [null, null, 0.0], \"type\": \"scatter\", \"uid\": \"c6738a2a-dbfd-11e8-8ddb-a41f72875c19\"}, {\"line\": {\"dash\": \"dashdot\"}, \"name\": \"\\u63d0\\u4ea4\\u9ad8\\u8d28\\u91cf\\u62a5\\u544a\\u6570(\\u674e\\u534e\\u4e91)\", \"x\": [\"10-2\", \"10-3\", \"10-4\"], \"y\": [null, null, 0.0], \"type\": \"scatter\", \"uid\": \"c6738a2b-dbfd-11e8-8ddb-a41f72875c19\"}, {\"line\": {\"dash\": \"longdashdot\"}, \"name\": \"\\u63d0\\u4ea4\\u9ad8\\u8d28\\u91cf\\u62a5\\u544a\\u6570(\\u8303\\u65ed\\u5b81)\", \"x\": [\"10-2\", \"10-3\", \"10-4\"], \"y\": [0.0, 0.0, 0.0], \"type\": \"scatter\", \"uid\": \"c6738a2c-dbfd-11e8-8ddb-a41f72875c19\"}, {\"line\": {\"dash\": \"solid\"}, \"name\": \"\\u63d0\\u4ea4\\u9ad8\\u8d28\\u91cf\\u62a5\\u544a\\u6570(\\u6bb5\\u5229\\u5f3a)\", \"x\": [\"10-2\", \"10-3\", \"10-4\"], \"y\": [0.0, null, null], \"type\": \"scatter\", \"uid\": \"c6738a2d-dbfd-11e8-8ddb-a41f72875c19\"}, {\"line\": {\"dash\": \"dot\"}, \"name\": \"\\u63d0\\u4ea4\\u9ad8\\u8d28\\u91cf\\u62a5\\u544a\\u6570(\\u59da\\u76df\\u6210)\", \"x\": [\"10-2\", \"10-3\", \"10-4\"], \"y\": [0.0, 0.0, 0.0], \"type\": \"scatter\", \"uid\": \"c6738a2e-dbfd-11e8-8ddb-a41f72875c19\"}, {\"line\": {\"dash\": \"dash\"}, \"name\": \"\\u63d0\\u4ea4\\u9ad8\\u8d28\\u91cf\\u62a5\\u544a\\u6570(\\u6768\\u4f1f\\u98de)\", \"x\": [\"10-2\", \"10-3\", \"10-4\"], \"y\": [0.0, 0.0, 0.0], \"type\": \"scatter\", \"uid\": \"c6738a2f-dbfd-11e8-8ddb-a41f72875c19\"}, {\"line\": {\"dash\": \"longdash\"}, \"name\": \"\\u63d0\\u4ea4\\u9ad8\\u8d28\\u91cf\\u62a5\\u544a\\u6570(\\u5218\\u6c5f)\", \"x\": [\"10-2\", \"10-3\", \"10-4\"], \"y\": [0.0, 0.0, 0.0], \"type\": \"scatter\", \"uid\": \"c6738a30-dbfd-11e8-8ddb-a41f72875c19\"}, {\"line\": {\"dash\": \"dashdot\"}, \"name\": \"\\u63d0\\u4ea4\\u9ad8\\u8d28\\u91cf\\u62a5\\u544a\\u6570(\\u82cf\\u5f66\\u52cb)\", \"x\": [\"10-2\", \"10-3\", \"10-4\"], \"y\": [null, 0.0, 0.0], \"type\": \"scatter\", \"uid\": \"c6738a31-dbfd-11e8-8ddb-a41f72875c19\"}, {\"line\": {\"dash\": \"longdashdot\"}, \"name\": \"\\u63d0\\u4ea4\\u9ad8\\u8d28\\u91cf\\u62a5\\u544a\\u6570(\\u5468\\u6768)\", \"x\": [\"10-2\", \"10-3\", \"10-4\"], \"y\": [0.0, 0.0, 0.0], \"type\": \"scatter\", \"uid\": \"c6738a32-dbfd-11e8-8ddb-a41f72875c19\"}, {\"line\": {\"dash\": \"solid\"}, \"name\": \"\\u63d0\\u4ea4\\u9ad8\\u8d28\\u91cf\\u62a5\\u544a\\u6570(\\u5360\\u4f1f)\", \"x\": [\"10-2\", \"10-3\", \"10-4\"], \"y\": [0.0, 0.0, 0.0], \"type\": \"scatter\", \"uid\": \"c6738a33-dbfd-11e8-8ddb-a41f72875c19\"}, {\"line\": {\"dash\": \"dot\"}, \"name\": \"\\u63d0\\u4ea4\\u9ad8\\u8d28\\u91cf\\u62a5\\u544a\\u6570(\\u5c01\\u5f66\\u6770)\", \"x\": [\"10-2\", \"10-3\", \"10-4\"], \"y\": [0.0, 0.0, 0.0], \"type\": \"scatter\", \"uid\": \"c6738a34-dbfd-11e8-8ddb-a41f72875c19\"}, {\"line\": {\"dash\": \"dash\"}, \"name\": \"\\u63d0\\u4ea4\\u9ad8\\u8d28\\u91cf\\u62a5\\u544a\\u6570(\\u5218\\u4e09\\u9633)\", \"x\": [\"10-2\", \"10-3\", \"10-4\"], \"y\": [null, 0.0, null], \"type\": \"scatter\", \"uid\": \"c6738a35-dbfd-11e8-8ddb-a41f72875c19\"}, {\"line\": {\"dash\": \"longdash\"}, \"name\": \"\\u63d0\\u4ea4\\u9ad8\\u8d28\\u91cf\\u62a5\\u544a\\u6570(\\u6636\\u5409\\u9633)\", \"x\": [\"10-2\", \"10-3\", \"10-4\"], \"y\": [null, 0.0, 0.0], \"type\": \"scatter\", \"uid\": \"c6738a36-dbfd-11e8-8ddb-a41f72875c19\"}, {\"line\": {\"dash\": \"dashdot\"}, \"name\": \"\\u63d0\\u4ea4\\u9ad8\\u8d28\\u91cf\\u62a5\\u544a\\u6570(\\u4efb\\u96ea)\", \"x\": [\"10-2\", \"10-3\", \"10-4\"], \"y\": [0.0, 0.0, 1.0], \"type\": \"scatter\", \"uid\": \"c6738a37-dbfd-11e8-8ddb-a41f72875c19\"}, {\"line\": {\"dash\": \"longdashdot\"}, \"name\": \"\\u63d0\\u4ea4\\u9ad8\\u8d28\\u91cf\\u62a5\\u544a\\u6570(\\u674e\\u5e86\\u539f)\", \"x\": [\"10-2\", \"10-3\", \"10-4\"], \"y\": [0.0, 0.0, 0.0], \"type\": \"scatter\", \"uid\": \"c6738a38-dbfd-11e8-8ddb-a41f72875c19\"}, {\"line\": {\"dash\": \"solid\"}, \"name\": \"\\u63d0\\u4ea4\\u9ad8\\u8d28\\u91cf\\u62a5\\u544a\\u6570(\\u8c22\\u5fb7\\u5065)\", \"x\": [\"10-2\", \"10-3\", \"10-4\"], \"y\": [0.0, 0.0, 0.0], \"type\": \"scatter\", \"uid\": \"c6738a39-dbfd-11e8-8ddb-a41f72875c19\"}, {\"line\": {\"dash\": \"dot\"}, \"name\": \"\\u63d0\\u4ea4\\u9ad8\\u8d28\\u91cf\\u62a5\\u544a\\u6570(\\u6797\\u6587\\u6587)\", \"x\": [\"10-2\", \"10-3\", \"10-4\"], \"y\": [null, null, 0.0], \"type\": \"scatter\", \"uid\": \"c6738a3a-dbfd-11e8-8ddb-a41f72875c19\"}, {\"line\": {\"dash\": \"dash\"}, \"name\": \"\\u63d0\\u4ea4\\u9ad8\\u8d28\\u91cf\\u62a5\\u544a\\u6570(\\u738b\\u7ea2)\", \"x\": [\"10-2\", \"10-3\", \"10-4\"], \"y\": [null, null, 0.0], \"type\": \"scatter\", \"uid\": \"c6738a3b-dbfd-11e8-8ddb-a41f72875c19\"}], {\"title\": \"\\u5e94\\u4ea4\\u9ad8\\u8d28\\u91cf\\u62a5\\u544a\\u6570&\\u63d0\\u4ea4\\u9ad8\\u8d28\\u91cf\\u62a5\\u544a\\u6570\\u5468\\u8d8b\\u52bf\\u56fe\", \"xaxis\": {\"mirror\": \"all\", \"nticks\": 20, \"showgrid\": true, \"showline\": true, \"title\": \"\\u5468\", \"type\": \"category\", \"zeroline\": true}, \"yaxis\": {\"mirror\": \"all\", \"nticks\": 20, \"showgrid\": true, \"showline\": true, \"title\": \"\\u5e94\\u4ea4\\u9ad8\\u8d28\\u91cf\\u62a5\\u544a\\u6570&\\u63d0\\u4ea4\\u9ad8\\u8d28\\u91cf\\u62a5\\u544a\\u6570\", \"zeroline\": true}}, {\"showLink\": true, \"linkText\": \"Export to plot.ly\"})});</script>"
      ]
     },
     "metadata": {},
     "output_type": "display_data"
    }
   ],
   "source": [
    "ss=myModule.format(all_dict ,\"日期\" ,['应交高质量报告数', '提交高质量报告数'])\n",
    "ss.add_group('负责人')\n",
    "tt = myModule.myPlot(ss.groupby('sum'))\n",
    "tt.plot('line')"
   ]
  },
  {
   "cell_type": "markdown",
   "metadata": {},
   "source": [
    "### 个人甘特图情况"
   ]
  },
  {
   "cell_type": "markdown",
   "metadata": {},
   "source": [
    "#### 个人延期项目数和暂停项目数"
   ]
  },
  {
   "cell_type": "code",
   "execution_count": 56,
   "metadata": {
    "collapsed": false
   },
   "outputs": [
    {
     "data": {
      "application/vnd.plotly.v1+json": {
       "data": [
        {
         "line": {
          "dash": "solid"
         },
         "name": "延期项目数(赵玥)",
         "type": "scatter",
         "uid": "c6738a3c-dbfd-11e8-8ddb-a41f72875c19",
         "x": [
          "10-2",
          "10-3",
          "10-4"
         ],
         "y": [
          0,
          0,
          0
         ]
        },
        {
         "line": {
          "dash": "dot"
         },
         "name": "延期项目数(于勇一)",
         "type": "scatter",
         "uid": "c6738a3d-dbfd-11e8-8ddb-a41f72875c19",
         "x": [
          "10-2",
          "10-3",
          "10-4"
         ],
         "y": [
          0,
          0,
          0
         ]
        },
        {
         "line": {
          "dash": "dash"
         },
         "name": "延期项目数(张守伟)",
         "type": "scatter",
         "uid": "c6738a3e-dbfd-11e8-8ddb-a41f72875c19",
         "x": [
          "10-2",
          "10-3",
          "10-4"
         ],
         "y": [
          0,
          0,
          0
         ]
        },
        {
         "line": {
          "dash": "longdash"
         },
         "name": "延期项目数(冯敬岩)",
         "type": "scatter",
         "uid": "c6738a3f-dbfd-11e8-8ddb-a41f72875c19",
         "x": [
          "10-2",
          "10-3",
          "10-4"
         ],
         "y": [
          null,
          null,
          0
         ]
        },
        {
         "line": {
          "dash": "dashdot"
         },
         "name": "延期项目数(路慧萍)",
         "type": "scatter",
         "uid": "c6738a40-dbfd-11e8-8ddb-a41f72875c19",
         "x": [
          "10-2",
          "10-3",
          "10-4"
         ],
         "y": [
          0,
          0,
          0
         ]
        },
        {
         "line": {
          "dash": "longdashdot"
         },
         "name": "延期项目数(陈鹏燕)",
         "type": "scatter",
         "uid": "c6738a41-dbfd-11e8-8ddb-a41f72875c19",
         "x": [
          "10-2",
          "10-3",
          "10-4"
         ],
         "y": [
          null,
          1,
          1
         ]
        },
        {
         "line": {
          "dash": "solid"
         },
         "name": "延期项目数(马潇)",
         "type": "scatter",
         "uid": "c6738a42-dbfd-11e8-8ddb-a41f72875c19",
         "x": [
          "10-2",
          "10-3",
          "10-4"
         ],
         "y": [
          0,
          0,
          0
         ]
        },
        {
         "line": {
          "dash": "dot"
         },
         "name": "延期项目数(车天栋)",
         "type": "scatter",
         "uid": "c6738a43-dbfd-11e8-8ddb-a41f72875c19",
         "x": [
          "10-2",
          "10-3",
          "10-4"
         ],
         "y": [
          null,
          null,
          0
         ]
        },
        {
         "line": {
          "dash": "dash"
         },
         "name": "延期项目数(沈恩惠)",
         "type": "scatter",
         "uid": "c6738a44-dbfd-11e8-8ddb-a41f72875c19",
         "x": [
          "10-2",
          "10-3",
          "10-4"
         ],
         "y": [
          null,
          null,
          0
         ]
        },
        {
         "line": {
          "dash": "longdash"
         },
         "name": "延期项目数(孟昊)",
         "type": "scatter",
         "uid": "c6738a45-dbfd-11e8-8ddb-a41f72875c19",
         "x": [
          "10-2",
          "10-3",
          "10-4"
         ],
         "y": [
          0,
          0,
          0
         ]
        },
        {
         "line": {
          "dash": "dashdot"
         },
         "name": "延期项目数(于慧)",
         "type": "scatter",
         "uid": "c6738a46-dbfd-11e8-8ddb-a41f72875c19",
         "x": [
          "10-2",
          "10-3",
          "10-4"
         ],
         "y": [
          0,
          0,
          0
         ]
        },
        {
         "line": {
          "dash": "longdashdot"
         },
         "name": "延期项目数(屈昂)",
         "type": "scatter",
         "uid": "c6738a47-dbfd-11e8-8ddb-a41f72875c19",
         "x": [
          "10-2",
          "10-3",
          "10-4"
         ],
         "y": [
          0,
          null,
          0
         ]
        },
        {
         "line": {
          "dash": "solid"
         },
         "name": "延期项目数(冷雪)",
         "type": "scatter",
         "uid": "c6738a48-dbfd-11e8-8ddb-a41f72875c19",
         "x": [
          "10-2",
          "10-3",
          "10-4"
         ],
         "y": [
          0,
          null,
          0
         ]
        },
        {
         "line": {
          "dash": "dot"
         },
         "name": "延期项目数(韩少怀)",
         "type": "scatter",
         "uid": "c6738a49-dbfd-11e8-8ddb-a41f72875c19",
         "x": [
          "10-2",
          "10-3",
          "10-4"
         ],
         "y": [
          0,
          0,
          0
         ]
        },
        {
         "line": {
          "dash": "dash"
         },
         "name": "延期项目数(涂成芳)",
         "type": "scatter",
         "uid": "c6738a4a-dbfd-11e8-8ddb-a41f72875c19",
         "x": [
          "10-2",
          "10-3",
          "10-4"
         ],
         "y": [
          null,
          null,
          0
         ]
        },
        {
         "line": {
          "dash": "longdash"
         },
         "name": "延期项目数(张悦)",
         "type": "scatter",
         "uid": "c6738a4b-dbfd-11e8-8ddb-a41f72875c19",
         "x": [
          "10-2",
          "10-3",
          "10-4"
         ],
         "y": [
          null,
          null,
          1
         ]
        },
        {
         "line": {
          "dash": "dashdot"
         },
         "name": "延期项目数(李华云)",
         "type": "scatter",
         "uid": "c6738a4c-dbfd-11e8-8ddb-a41f72875c19",
         "x": [
          "10-2",
          "10-3",
          "10-4"
         ],
         "y": [
          null,
          null,
          2
         ]
        },
        {
         "line": {
          "dash": "longdashdot"
         },
         "name": "延期项目数(范旭宁)",
         "type": "scatter",
         "uid": "c6738a4d-dbfd-11e8-8ddb-a41f72875c19",
         "x": [
          "10-2",
          "10-3",
          "10-4"
         ],
         "y": [
          0,
          0,
          0
         ]
        },
        {
         "line": {
          "dash": "solid"
         },
         "name": "延期项目数(段利强)",
         "type": "scatter",
         "uid": "c6738a4e-dbfd-11e8-8ddb-a41f72875c19",
         "x": [
          "10-2",
          "10-3",
          "10-4"
         ],
         "y": [
          0,
          null,
          null
         ]
        },
        {
         "line": {
          "dash": "dot"
         },
         "name": "延期项目数(姚盟成)",
         "type": "scatter",
         "uid": "c6738a4f-dbfd-11e8-8ddb-a41f72875c19",
         "x": [
          "10-2",
          "10-3",
          "10-4"
         ],
         "y": [
          0,
          0,
          0
         ]
        },
        {
         "line": {
          "dash": "dash"
         },
         "name": "延期项目数(杨伟飞)",
         "type": "scatter",
         "uid": "c6738a50-dbfd-11e8-8ddb-a41f72875c19",
         "x": [
          "10-2",
          "10-3",
          "10-4"
         ],
         "y": [
          0,
          0,
          1
         ]
        },
        {
         "line": {
          "dash": "longdash"
         },
         "name": "延期项目数(刘江)",
         "type": "scatter",
         "uid": "c6738a51-dbfd-11e8-8ddb-a41f72875c19",
         "x": [
          "10-2",
          "10-3",
          "10-4"
         ],
         "y": [
          2,
          2,
          2
         ]
        },
        {
         "line": {
          "dash": "dashdot"
         },
         "name": "延期项目数(苏彦勋)",
         "type": "scatter",
         "uid": "c6738a52-dbfd-11e8-8ddb-a41f72875c19",
         "x": [
          "10-2",
          "10-3",
          "10-4"
         ],
         "y": [
          null,
          0,
          0
         ]
        },
        {
         "line": {
          "dash": "longdashdot"
         },
         "name": "延期项目数(周杨)",
         "type": "scatter",
         "uid": "c6738a53-dbfd-11e8-8ddb-a41f72875c19",
         "x": [
          "10-2",
          "10-3",
          "10-4"
         ],
         "y": [
          0,
          0,
          0
         ]
        },
        {
         "line": {
          "dash": "solid"
         },
         "name": "延期项目数(占伟)",
         "type": "scatter",
         "uid": "c6738a54-dbfd-11e8-8ddb-a41f72875c19",
         "x": [
          "10-2",
          "10-3",
          "10-4"
         ],
         "y": [
          0,
          0,
          3
         ]
        },
        {
         "line": {
          "dash": "dot"
         },
         "name": "延期项目数(封彦杰)",
         "type": "scatter",
         "uid": "c6738a55-dbfd-11e8-8ddb-a41f72875c19",
         "x": [
          "10-2",
          "10-3",
          "10-4"
         ],
         "y": [
          0,
          0,
          1
         ]
        },
        {
         "line": {
          "dash": "dash"
         },
         "name": "延期项目数(刘三阳)",
         "type": "scatter",
         "uid": "c6738a56-dbfd-11e8-8ddb-a41f72875c19",
         "x": [
          "10-2",
          "10-3",
          "10-4"
         ],
         "y": [
          null,
          0,
          null
         ]
        },
        {
         "line": {
          "dash": "longdash"
         },
         "name": "延期项目数(昶吉阳)",
         "type": "scatter",
         "uid": "c6738a57-dbfd-11e8-8ddb-a41f72875c19",
         "x": [
          "10-2",
          "10-3",
          "10-4"
         ],
         "y": [
          null,
          0,
          0
         ]
        },
        {
         "line": {
          "dash": "dashdot"
         },
         "name": "延期项目数(任雪)",
         "type": "scatter",
         "uid": "c6738a58-dbfd-11e8-8ddb-a41f72875c19",
         "x": [
          "10-2",
          "10-3",
          "10-4"
         ],
         "y": [
          0,
          1,
          2
         ]
        },
        {
         "line": {
          "dash": "longdashdot"
         },
         "name": "延期项目数(李庆原)",
         "type": "scatter",
         "uid": "c6738a59-dbfd-11e8-8ddb-a41f72875c19",
         "x": [
          "10-2",
          "10-3",
          "10-4"
         ],
         "y": [
          0,
          1,
          0
         ]
        },
        {
         "line": {
          "dash": "solid"
         },
         "name": "延期项目数(谢德健)",
         "type": "scatter",
         "uid": "c6738a5a-dbfd-11e8-8ddb-a41f72875c19",
         "x": [
          "10-2",
          "10-3",
          "10-4"
         ],
         "y": [
          0,
          0,
          0
         ]
        },
        {
         "line": {
          "dash": "dot"
         },
         "name": "延期项目数(林文文)",
         "type": "scatter",
         "uid": "c6738a5b-dbfd-11e8-8ddb-a41f72875c19",
         "x": [
          "10-2",
          "10-3",
          "10-4"
         ],
         "y": [
          null,
          null,
          0
         ]
        },
        {
         "line": {
          "dash": "dash"
         },
         "name": "延期项目数(王红)",
         "type": "scatter",
         "uid": "c6738a5c-dbfd-11e8-8ddb-a41f72875c19",
         "x": [
          "10-2",
          "10-3",
          "10-4"
         ],
         "y": [
          null,
          null,
          0
         ]
        },
        {
         "line": {
          "dash": "solid"
         },
         "name": "暂停项目数(赵玥)",
         "type": "scatter",
         "uid": "c6738a5d-dbfd-11e8-8ddb-a41f72875c19",
         "x": [
          "10-2",
          "10-3",
          "10-4"
         ],
         "y": [
          0,
          0,
          0
         ]
        },
        {
         "line": {
          "dash": "dot"
         },
         "name": "暂停项目数(于勇一)",
         "type": "scatter",
         "uid": "c6738a5e-dbfd-11e8-8ddb-a41f72875c19",
         "x": [
          "10-2",
          "10-3",
          "10-4"
         ],
         "y": [
          0,
          0,
          0
         ]
        },
        {
         "line": {
          "dash": "dash"
         },
         "name": "暂停项目数(张守伟)",
         "type": "scatter",
         "uid": "c6738a5f-dbfd-11e8-8ddb-a41f72875c19",
         "x": [
          "10-2",
          "10-3",
          "10-4"
         ],
         "y": [
          0,
          0,
          0
         ]
        },
        {
         "line": {
          "dash": "longdash"
         },
         "name": "暂停项目数(冯敬岩)",
         "type": "scatter",
         "uid": "c6738a60-dbfd-11e8-8ddb-a41f72875c19",
         "x": [
          "10-2",
          "10-3",
          "10-4"
         ],
         "y": [
          null,
          null,
          0
         ]
        },
        {
         "line": {
          "dash": "dashdot"
         },
         "name": "暂停项目数(路慧萍)",
         "type": "scatter",
         "uid": "c6738a61-dbfd-11e8-8ddb-a41f72875c19",
         "x": [
          "10-2",
          "10-3",
          "10-4"
         ],
         "y": [
          0,
          0,
          0
         ]
        },
        {
         "line": {
          "dash": "longdashdot"
         },
         "name": "暂停项目数(陈鹏燕)",
         "type": "scatter",
         "uid": "c6738a62-dbfd-11e8-8ddb-a41f72875c19",
         "x": [
          "10-2",
          "10-3",
          "10-4"
         ],
         "y": [
          null,
          0,
          0
         ]
        },
        {
         "line": {
          "dash": "solid"
         },
         "name": "暂停项目数(马潇)",
         "type": "scatter",
         "uid": "c6738a63-dbfd-11e8-8ddb-a41f72875c19",
         "x": [
          "10-2",
          "10-3",
          "10-4"
         ],
         "y": [
          0,
          0,
          0
         ]
        },
        {
         "line": {
          "dash": "dot"
         },
         "name": "暂停项目数(车天栋)",
         "type": "scatter",
         "uid": "c6738a64-dbfd-11e8-8ddb-a41f72875c19",
         "x": [
          "10-2",
          "10-3",
          "10-4"
         ],
         "y": [
          null,
          null,
          0
         ]
        },
        {
         "line": {
          "dash": "dash"
         },
         "name": "暂停项目数(沈恩惠)",
         "type": "scatter",
         "uid": "c6738a65-dbfd-11e8-8ddb-a41f72875c19",
         "x": [
          "10-2",
          "10-3",
          "10-4"
         ],
         "y": [
          null,
          null,
          0
         ]
        },
        {
         "line": {
          "dash": "longdash"
         },
         "name": "暂停项目数(孟昊)",
         "type": "scatter",
         "uid": "c6738a66-dbfd-11e8-8ddb-a41f72875c19",
         "x": [
          "10-2",
          "10-3",
          "10-4"
         ],
         "y": [
          0,
          0,
          0
         ]
        },
        {
         "line": {
          "dash": "dashdot"
         },
         "name": "暂停项目数(于慧)",
         "type": "scatter",
         "uid": "c6738a67-dbfd-11e8-8ddb-a41f72875c19",
         "x": [
          "10-2",
          "10-3",
          "10-4"
         ],
         "y": [
          0,
          0,
          0
         ]
        },
        {
         "line": {
          "dash": "longdashdot"
         },
         "name": "暂停项目数(屈昂)",
         "type": "scatter",
         "uid": "c6738a68-dbfd-11e8-8ddb-a41f72875c19",
         "x": [
          "10-2",
          "10-3",
          "10-4"
         ],
         "y": [
          0,
          null,
          0
         ]
        },
        {
         "line": {
          "dash": "solid"
         },
         "name": "暂停项目数(冷雪)",
         "type": "scatter",
         "uid": "c6738a69-dbfd-11e8-8ddb-a41f72875c19",
         "x": [
          "10-2",
          "10-3",
          "10-4"
         ],
         "y": [
          0,
          null,
          0
         ]
        },
        {
         "line": {
          "dash": "dot"
         },
         "name": "暂停项目数(韩少怀)",
         "type": "scatter",
         "uid": "c6738a6a-dbfd-11e8-8ddb-a41f72875c19",
         "x": [
          "10-2",
          "10-3",
          "10-4"
         ],
         "y": [
          0,
          0,
          0
         ]
        },
        {
         "line": {
          "dash": "dash"
         },
         "name": "暂停项目数(涂成芳)",
         "type": "scatter",
         "uid": "c6738a6b-dbfd-11e8-8ddb-a41f72875c19",
         "x": [
          "10-2",
          "10-3",
          "10-4"
         ],
         "y": [
          null,
          null,
          0
         ]
        },
        {
         "line": {
          "dash": "longdash"
         },
         "name": "暂停项目数(张悦)",
         "type": "scatter",
         "uid": "c6738a6c-dbfd-11e8-8ddb-a41f72875c19",
         "x": [
          "10-2",
          "10-3",
          "10-4"
         ],
         "y": [
          null,
          null,
          0
         ]
        },
        {
         "line": {
          "dash": "dashdot"
         },
         "name": "暂停项目数(李华云)",
         "type": "scatter",
         "uid": "c6738a6d-dbfd-11e8-8ddb-a41f72875c19",
         "x": [
          "10-2",
          "10-3",
          "10-4"
         ],
         "y": [
          null,
          null,
          0
         ]
        },
        {
         "line": {
          "dash": "longdashdot"
         },
         "name": "暂停项目数(范旭宁)",
         "type": "scatter",
         "uid": "c6738a6e-dbfd-11e8-8ddb-a41f72875c19",
         "x": [
          "10-2",
          "10-3",
          "10-4"
         ],
         "y": [
          0,
          0,
          0
         ]
        },
        {
         "line": {
          "dash": "solid"
         },
         "name": "暂停项目数(段利强)",
         "type": "scatter",
         "uid": "c6738a6f-dbfd-11e8-8ddb-a41f72875c19",
         "x": [
          "10-2",
          "10-3",
          "10-4"
         ],
         "y": [
          0,
          null,
          null
         ]
        },
        {
         "line": {
          "dash": "dot"
         },
         "name": "暂停项目数(姚盟成)",
         "type": "scatter",
         "uid": "c6738a70-dbfd-11e8-8ddb-a41f72875c19",
         "x": [
          "10-2",
          "10-3",
          "10-4"
         ],
         "y": [
          0,
          0,
          0
         ]
        },
        {
         "line": {
          "dash": "dash"
         },
         "name": "暂停项目数(杨伟飞)",
         "type": "scatter",
         "uid": "c6738a71-dbfd-11e8-8ddb-a41f72875c19",
         "x": [
          "10-2",
          "10-3",
          "10-4"
         ],
         "y": [
          0,
          0,
          0
         ]
        },
        {
         "line": {
          "dash": "longdash"
         },
         "name": "暂停项目数(刘江)",
         "type": "scatter",
         "uid": "c6738a72-dbfd-11e8-8ddb-a41f72875c19",
         "x": [
          "10-2",
          "10-3",
          "10-4"
         ],
         "y": [
          0,
          0,
          0
         ]
        },
        {
         "line": {
          "dash": "dashdot"
         },
         "name": "暂停项目数(苏彦勋)",
         "type": "scatter",
         "uid": "c6738a73-dbfd-11e8-8ddb-a41f72875c19",
         "x": [
          "10-2",
          "10-3",
          "10-4"
         ],
         "y": [
          null,
          0,
          0
         ]
        },
        {
         "line": {
          "dash": "longdashdot"
         },
         "name": "暂停项目数(周杨)",
         "type": "scatter",
         "uid": "c6738a74-dbfd-11e8-8ddb-a41f72875c19",
         "x": [
          "10-2",
          "10-3",
          "10-4"
         ],
         "y": [
          0,
          0,
          0
         ]
        },
        {
         "line": {
          "dash": "solid"
         },
         "name": "暂停项目数(占伟)",
         "type": "scatter",
         "uid": "c6738a75-dbfd-11e8-8ddb-a41f72875c19",
         "x": [
          "10-2",
          "10-3",
          "10-4"
         ],
         "y": [
          0,
          0,
          0
         ]
        },
        {
         "line": {
          "dash": "dot"
         },
         "name": "暂停项目数(封彦杰)",
         "type": "scatter",
         "uid": "c6738a76-dbfd-11e8-8ddb-a41f72875c19",
         "x": [
          "10-2",
          "10-3",
          "10-4"
         ],
         "y": [
          0,
          0,
          0
         ]
        },
        {
         "line": {
          "dash": "dash"
         },
         "name": "暂停项目数(刘三阳)",
         "type": "scatter",
         "uid": "c6738a77-dbfd-11e8-8ddb-a41f72875c19",
         "x": [
          "10-2",
          "10-3",
          "10-4"
         ],
         "y": [
          null,
          0,
          null
         ]
        },
        {
         "line": {
          "dash": "longdash"
         },
         "name": "暂停项目数(昶吉阳)",
         "type": "scatter",
         "uid": "c6738a78-dbfd-11e8-8ddb-a41f72875c19",
         "x": [
          "10-2",
          "10-3",
          "10-4"
         ],
         "y": [
          null,
          0,
          0
         ]
        },
        {
         "line": {
          "dash": "dashdot"
         },
         "name": "暂停项目数(任雪)",
         "type": "scatter",
         "uid": "c6738a79-dbfd-11e8-8ddb-a41f72875c19",
         "x": [
          "10-2",
          "10-3",
          "10-4"
         ],
         "y": [
          0,
          0,
          0
         ]
        },
        {
         "line": {
          "dash": "longdashdot"
         },
         "name": "暂停项目数(李庆原)",
         "type": "scatter",
         "uid": "c6738a7a-dbfd-11e8-8ddb-a41f72875c19",
         "x": [
          "10-2",
          "10-3",
          "10-4"
         ],
         "y": [
          0,
          0,
          0
         ]
        },
        {
         "line": {
          "dash": "solid"
         },
         "name": "暂停项目数(谢德健)",
         "type": "scatter",
         "uid": "c6738a7b-dbfd-11e8-8ddb-a41f72875c19",
         "x": [
          "10-2",
          "10-3",
          "10-4"
         ],
         "y": [
          0,
          0,
          0
         ]
        },
        {
         "line": {
          "dash": "dot"
         },
         "name": "暂停项目数(林文文)",
         "type": "scatter",
         "uid": "c6738a7c-dbfd-11e8-8ddb-a41f72875c19",
         "x": [
          "10-2",
          "10-3",
          "10-4"
         ],
         "y": [
          null,
          null,
          0
         ]
        },
        {
         "line": {
          "dash": "dash"
         },
         "name": "暂停项目数(王红)",
         "type": "scatter",
         "uid": "c6738a7d-dbfd-11e8-8ddb-a41f72875c19",
         "x": [
          "10-2",
          "10-3",
          "10-4"
         ],
         "y": [
          null,
          null,
          0
         ]
        }
       ],
       "layout": {
        "title": "延期项目数&暂停项目数周趋势图",
        "xaxis": {
         "mirror": "all",
         "nticks": 20,
         "showgrid": true,
         "showline": true,
         "title": "周",
         "type": "category",
         "zeroline": true
        },
        "yaxis": {
         "mirror": "all",
         "nticks": 20,
         "showgrid": true,
         "showline": true,
         "title": "延期项目数&暂停项目数",
         "zeroline": true
        }
       }
      },
      "text/html": [
       "<div id=\"f88226c7-44e2-4f9f-8670-e34525658c89\" style=\"height: 525px; width: 100%;\" class=\"plotly-graph-div\"></div><script type=\"text/javascript\">require([\"plotly\"], function(Plotly) { window.PLOTLYENV=window.PLOTLYENV || {};window.PLOTLYENV.BASE_URL=\"https://plot.ly\";Plotly.newPlot(\"f88226c7-44e2-4f9f-8670-e34525658c89\", [{\"line\": {\"dash\": \"solid\"}, \"name\": \"\\u5ef6\\u671f\\u9879\\u76ee\\u6570(\\u8d75\\u73a5)\", \"x\": [\"10-2\", \"10-3\", \"10-4\"], \"y\": [0.0, 0.0, 0.0], \"type\": \"scatter\", \"uid\": \"c6738a3c-dbfd-11e8-8ddb-a41f72875c19\"}, {\"line\": {\"dash\": \"dot\"}, \"name\": \"\\u5ef6\\u671f\\u9879\\u76ee\\u6570(\\u4e8e\\u52c7\\u4e00)\", \"x\": [\"10-2\", \"10-3\", \"10-4\"], \"y\": [0.0, 0.0, 0.0], \"type\": \"scatter\", \"uid\": \"c6738a3d-dbfd-11e8-8ddb-a41f72875c19\"}, {\"line\": {\"dash\": \"dash\"}, \"name\": \"\\u5ef6\\u671f\\u9879\\u76ee\\u6570(\\u5f20\\u5b88\\u4f1f)\", \"x\": [\"10-2\", \"10-3\", \"10-4\"], \"y\": [0.0, 0.0, 0.0], \"type\": \"scatter\", \"uid\": \"c6738a3e-dbfd-11e8-8ddb-a41f72875c19\"}, {\"line\": {\"dash\": \"longdash\"}, \"name\": \"\\u5ef6\\u671f\\u9879\\u76ee\\u6570(\\u51af\\u656c\\u5ca9)\", \"x\": [\"10-2\", \"10-3\", \"10-4\"], \"y\": [null, null, 0.0], \"type\": \"scatter\", \"uid\": \"c6738a3f-dbfd-11e8-8ddb-a41f72875c19\"}, {\"line\": {\"dash\": \"dashdot\"}, \"name\": \"\\u5ef6\\u671f\\u9879\\u76ee\\u6570(\\u8def\\u6167\\u840d)\", \"x\": [\"10-2\", \"10-3\", \"10-4\"], \"y\": [0.0, 0.0, 0.0], \"type\": \"scatter\", \"uid\": \"c6738a40-dbfd-11e8-8ddb-a41f72875c19\"}, {\"line\": {\"dash\": \"longdashdot\"}, \"name\": \"\\u5ef6\\u671f\\u9879\\u76ee\\u6570(\\u9648\\u9e4f\\u71d5)\", \"x\": [\"10-2\", \"10-3\", \"10-4\"], \"y\": [null, 1.0, 1.0], \"type\": \"scatter\", \"uid\": \"c6738a41-dbfd-11e8-8ddb-a41f72875c19\"}, {\"line\": {\"dash\": \"solid\"}, \"name\": \"\\u5ef6\\u671f\\u9879\\u76ee\\u6570(\\u9a6c\\u6f47)\", \"x\": [\"10-2\", \"10-3\", \"10-4\"], \"y\": [0.0, 0.0, 0.0], \"type\": \"scatter\", \"uid\": \"c6738a42-dbfd-11e8-8ddb-a41f72875c19\"}, {\"line\": {\"dash\": \"dot\"}, \"name\": \"\\u5ef6\\u671f\\u9879\\u76ee\\u6570(\\u8f66\\u5929\\u680b)\", \"x\": [\"10-2\", \"10-3\", \"10-4\"], \"y\": [null, null, 0.0], \"type\": \"scatter\", \"uid\": \"c6738a43-dbfd-11e8-8ddb-a41f72875c19\"}, {\"line\": {\"dash\": \"dash\"}, \"name\": \"\\u5ef6\\u671f\\u9879\\u76ee\\u6570(\\u6c88\\u6069\\u60e0)\", \"x\": [\"10-2\", \"10-3\", \"10-4\"], \"y\": [null, null, 0.0], \"type\": \"scatter\", \"uid\": \"c6738a44-dbfd-11e8-8ddb-a41f72875c19\"}, {\"line\": {\"dash\": \"longdash\"}, \"name\": \"\\u5ef6\\u671f\\u9879\\u76ee\\u6570(\\u5b5f\\u660a)\", \"x\": [\"10-2\", \"10-3\", \"10-4\"], \"y\": [0.0, 0.0, 0.0], \"type\": \"scatter\", \"uid\": \"c6738a45-dbfd-11e8-8ddb-a41f72875c19\"}, {\"line\": {\"dash\": \"dashdot\"}, \"name\": \"\\u5ef6\\u671f\\u9879\\u76ee\\u6570(\\u4e8e\\u6167)\", \"x\": [\"10-2\", \"10-3\", \"10-4\"], \"y\": [0.0, 0.0, 0.0], \"type\": \"scatter\", \"uid\": \"c6738a46-dbfd-11e8-8ddb-a41f72875c19\"}, {\"line\": {\"dash\": \"longdashdot\"}, \"name\": \"\\u5ef6\\u671f\\u9879\\u76ee\\u6570(\\u5c48\\u6602)\", \"x\": [\"10-2\", \"10-3\", \"10-4\"], \"y\": [0.0, null, 0.0], \"type\": \"scatter\", \"uid\": \"c6738a47-dbfd-11e8-8ddb-a41f72875c19\"}, {\"line\": {\"dash\": \"solid\"}, \"name\": \"\\u5ef6\\u671f\\u9879\\u76ee\\u6570(\\u51b7\\u96ea)\", \"x\": [\"10-2\", \"10-3\", \"10-4\"], \"y\": [0.0, null, 0.0], \"type\": \"scatter\", \"uid\": \"c6738a48-dbfd-11e8-8ddb-a41f72875c19\"}, {\"line\": {\"dash\": \"dot\"}, \"name\": \"\\u5ef6\\u671f\\u9879\\u76ee\\u6570(\\u97e9\\u5c11\\u6000)\", \"x\": [\"10-2\", \"10-3\", \"10-4\"], \"y\": [0.0, 0.0, 0.0], \"type\": \"scatter\", \"uid\": \"c6738a49-dbfd-11e8-8ddb-a41f72875c19\"}, {\"line\": {\"dash\": \"dash\"}, \"name\": \"\\u5ef6\\u671f\\u9879\\u76ee\\u6570(\\u6d82\\u6210\\u82b3)\", \"x\": [\"10-2\", \"10-3\", \"10-4\"], \"y\": [null, null, 0.0], \"type\": \"scatter\", \"uid\": \"c6738a4a-dbfd-11e8-8ddb-a41f72875c19\"}, {\"line\": {\"dash\": \"longdash\"}, \"name\": \"\\u5ef6\\u671f\\u9879\\u76ee\\u6570(\\u5f20\\u60a6)\", \"x\": [\"10-2\", \"10-3\", \"10-4\"], \"y\": [null, null, 1.0], \"type\": \"scatter\", \"uid\": \"c6738a4b-dbfd-11e8-8ddb-a41f72875c19\"}, {\"line\": {\"dash\": \"dashdot\"}, \"name\": \"\\u5ef6\\u671f\\u9879\\u76ee\\u6570(\\u674e\\u534e\\u4e91)\", \"x\": [\"10-2\", \"10-3\", \"10-4\"], \"y\": [null, null, 2.0], \"type\": \"scatter\", \"uid\": \"c6738a4c-dbfd-11e8-8ddb-a41f72875c19\"}, {\"line\": {\"dash\": \"longdashdot\"}, \"name\": \"\\u5ef6\\u671f\\u9879\\u76ee\\u6570(\\u8303\\u65ed\\u5b81)\", \"x\": [\"10-2\", \"10-3\", \"10-4\"], \"y\": [0.0, 0.0, 0.0], \"type\": \"scatter\", \"uid\": \"c6738a4d-dbfd-11e8-8ddb-a41f72875c19\"}, {\"line\": {\"dash\": \"solid\"}, \"name\": \"\\u5ef6\\u671f\\u9879\\u76ee\\u6570(\\u6bb5\\u5229\\u5f3a)\", \"x\": [\"10-2\", \"10-3\", \"10-4\"], \"y\": [0.0, null, null], \"type\": \"scatter\", \"uid\": \"c6738a4e-dbfd-11e8-8ddb-a41f72875c19\"}, {\"line\": {\"dash\": \"dot\"}, \"name\": \"\\u5ef6\\u671f\\u9879\\u76ee\\u6570(\\u59da\\u76df\\u6210)\", \"x\": [\"10-2\", \"10-3\", \"10-4\"], \"y\": [0.0, 0.0, 0.0], \"type\": \"scatter\", \"uid\": \"c6738a4f-dbfd-11e8-8ddb-a41f72875c19\"}, {\"line\": {\"dash\": \"dash\"}, \"name\": \"\\u5ef6\\u671f\\u9879\\u76ee\\u6570(\\u6768\\u4f1f\\u98de)\", \"x\": [\"10-2\", \"10-3\", \"10-4\"], \"y\": [0.0, 0.0, 1.0], \"type\": \"scatter\", \"uid\": \"c6738a50-dbfd-11e8-8ddb-a41f72875c19\"}, {\"line\": {\"dash\": \"longdash\"}, \"name\": \"\\u5ef6\\u671f\\u9879\\u76ee\\u6570(\\u5218\\u6c5f)\", \"x\": [\"10-2\", \"10-3\", \"10-4\"], \"y\": [2.0, 2.0, 2.0], \"type\": \"scatter\", \"uid\": \"c6738a51-dbfd-11e8-8ddb-a41f72875c19\"}, {\"line\": {\"dash\": \"dashdot\"}, \"name\": \"\\u5ef6\\u671f\\u9879\\u76ee\\u6570(\\u82cf\\u5f66\\u52cb)\", \"x\": [\"10-2\", \"10-3\", \"10-4\"], \"y\": [null, 0.0, 0.0], \"type\": \"scatter\", \"uid\": \"c6738a52-dbfd-11e8-8ddb-a41f72875c19\"}, {\"line\": {\"dash\": \"longdashdot\"}, \"name\": \"\\u5ef6\\u671f\\u9879\\u76ee\\u6570(\\u5468\\u6768)\", \"x\": [\"10-2\", \"10-3\", \"10-4\"], \"y\": [0.0, 0.0, 0.0], \"type\": \"scatter\", \"uid\": \"c6738a53-dbfd-11e8-8ddb-a41f72875c19\"}, {\"line\": {\"dash\": \"solid\"}, \"name\": \"\\u5ef6\\u671f\\u9879\\u76ee\\u6570(\\u5360\\u4f1f)\", \"x\": [\"10-2\", \"10-3\", \"10-4\"], \"y\": [0.0, 0.0, 3.0], \"type\": \"scatter\", \"uid\": \"c6738a54-dbfd-11e8-8ddb-a41f72875c19\"}, {\"line\": {\"dash\": \"dot\"}, \"name\": \"\\u5ef6\\u671f\\u9879\\u76ee\\u6570(\\u5c01\\u5f66\\u6770)\", \"x\": [\"10-2\", \"10-3\", \"10-4\"], \"y\": [0.0, 0.0, 1.0], \"type\": \"scatter\", \"uid\": \"c6738a55-dbfd-11e8-8ddb-a41f72875c19\"}, {\"line\": {\"dash\": \"dash\"}, \"name\": \"\\u5ef6\\u671f\\u9879\\u76ee\\u6570(\\u5218\\u4e09\\u9633)\", \"x\": [\"10-2\", \"10-3\", \"10-4\"], \"y\": [null, 0.0, null], \"type\": \"scatter\", \"uid\": \"c6738a56-dbfd-11e8-8ddb-a41f72875c19\"}, {\"line\": {\"dash\": \"longdash\"}, \"name\": \"\\u5ef6\\u671f\\u9879\\u76ee\\u6570(\\u6636\\u5409\\u9633)\", \"x\": [\"10-2\", \"10-3\", \"10-4\"], \"y\": [null, 0.0, 0.0], \"type\": \"scatter\", \"uid\": \"c6738a57-dbfd-11e8-8ddb-a41f72875c19\"}, {\"line\": {\"dash\": \"dashdot\"}, \"name\": \"\\u5ef6\\u671f\\u9879\\u76ee\\u6570(\\u4efb\\u96ea)\", \"x\": [\"10-2\", \"10-3\", \"10-4\"], \"y\": [0.0, 1.0, 2.0], \"type\": \"scatter\", \"uid\": \"c6738a58-dbfd-11e8-8ddb-a41f72875c19\"}, {\"line\": {\"dash\": \"longdashdot\"}, \"name\": \"\\u5ef6\\u671f\\u9879\\u76ee\\u6570(\\u674e\\u5e86\\u539f)\", \"x\": [\"10-2\", \"10-3\", \"10-4\"], \"y\": [0.0, 1.0, 0.0], \"type\": \"scatter\", \"uid\": \"c6738a59-dbfd-11e8-8ddb-a41f72875c19\"}, {\"line\": {\"dash\": \"solid\"}, \"name\": \"\\u5ef6\\u671f\\u9879\\u76ee\\u6570(\\u8c22\\u5fb7\\u5065)\", \"x\": [\"10-2\", \"10-3\", \"10-4\"], \"y\": [0.0, 0.0, 0.0], \"type\": \"scatter\", \"uid\": \"c6738a5a-dbfd-11e8-8ddb-a41f72875c19\"}, {\"line\": {\"dash\": \"dot\"}, \"name\": \"\\u5ef6\\u671f\\u9879\\u76ee\\u6570(\\u6797\\u6587\\u6587)\", \"x\": [\"10-2\", \"10-3\", \"10-4\"], \"y\": [null, null, 0.0], \"type\": \"scatter\", \"uid\": \"c6738a5b-dbfd-11e8-8ddb-a41f72875c19\"}, {\"line\": {\"dash\": \"dash\"}, \"name\": \"\\u5ef6\\u671f\\u9879\\u76ee\\u6570(\\u738b\\u7ea2)\", \"x\": [\"10-2\", \"10-3\", \"10-4\"], \"y\": [null, null, 0.0], \"type\": \"scatter\", \"uid\": \"c6738a5c-dbfd-11e8-8ddb-a41f72875c19\"}, {\"line\": {\"dash\": \"solid\"}, \"name\": \"\\u6682\\u505c\\u9879\\u76ee\\u6570(\\u8d75\\u73a5)\", \"x\": [\"10-2\", \"10-3\", \"10-4\"], \"y\": [0.0, 0.0, 0.0], \"type\": \"scatter\", \"uid\": \"c6738a5d-dbfd-11e8-8ddb-a41f72875c19\"}, {\"line\": {\"dash\": \"dot\"}, \"name\": \"\\u6682\\u505c\\u9879\\u76ee\\u6570(\\u4e8e\\u52c7\\u4e00)\", \"x\": [\"10-2\", \"10-3\", \"10-4\"], \"y\": [0.0, 0.0, 0.0], \"type\": \"scatter\", \"uid\": \"c6738a5e-dbfd-11e8-8ddb-a41f72875c19\"}, {\"line\": {\"dash\": \"dash\"}, \"name\": \"\\u6682\\u505c\\u9879\\u76ee\\u6570(\\u5f20\\u5b88\\u4f1f)\", \"x\": [\"10-2\", \"10-3\", \"10-4\"], \"y\": [0.0, 0.0, 0.0], \"type\": \"scatter\", \"uid\": \"c6738a5f-dbfd-11e8-8ddb-a41f72875c19\"}, {\"line\": {\"dash\": \"longdash\"}, \"name\": \"\\u6682\\u505c\\u9879\\u76ee\\u6570(\\u51af\\u656c\\u5ca9)\", \"x\": [\"10-2\", \"10-3\", \"10-4\"], \"y\": [null, null, 0.0], \"type\": \"scatter\", \"uid\": \"c6738a60-dbfd-11e8-8ddb-a41f72875c19\"}, {\"line\": {\"dash\": \"dashdot\"}, \"name\": \"\\u6682\\u505c\\u9879\\u76ee\\u6570(\\u8def\\u6167\\u840d)\", \"x\": [\"10-2\", \"10-3\", \"10-4\"], \"y\": [0.0, 0.0, 0.0], \"type\": \"scatter\", \"uid\": \"c6738a61-dbfd-11e8-8ddb-a41f72875c19\"}, {\"line\": {\"dash\": \"longdashdot\"}, \"name\": \"\\u6682\\u505c\\u9879\\u76ee\\u6570(\\u9648\\u9e4f\\u71d5)\", \"x\": [\"10-2\", \"10-3\", \"10-4\"], \"y\": [null, 0.0, 0.0], \"type\": \"scatter\", \"uid\": \"c6738a62-dbfd-11e8-8ddb-a41f72875c19\"}, {\"line\": {\"dash\": \"solid\"}, \"name\": \"\\u6682\\u505c\\u9879\\u76ee\\u6570(\\u9a6c\\u6f47)\", \"x\": [\"10-2\", \"10-3\", \"10-4\"], \"y\": [0.0, 0.0, 0.0], \"type\": \"scatter\", \"uid\": \"c6738a63-dbfd-11e8-8ddb-a41f72875c19\"}, {\"line\": {\"dash\": \"dot\"}, \"name\": \"\\u6682\\u505c\\u9879\\u76ee\\u6570(\\u8f66\\u5929\\u680b)\", \"x\": [\"10-2\", \"10-3\", \"10-4\"], \"y\": [null, null, 0.0], \"type\": \"scatter\", \"uid\": \"c6738a64-dbfd-11e8-8ddb-a41f72875c19\"}, {\"line\": {\"dash\": \"dash\"}, \"name\": \"\\u6682\\u505c\\u9879\\u76ee\\u6570(\\u6c88\\u6069\\u60e0)\", \"x\": [\"10-2\", \"10-3\", \"10-4\"], \"y\": [null, null, 0.0], \"type\": \"scatter\", \"uid\": \"c6738a65-dbfd-11e8-8ddb-a41f72875c19\"}, {\"line\": {\"dash\": \"longdash\"}, \"name\": \"\\u6682\\u505c\\u9879\\u76ee\\u6570(\\u5b5f\\u660a)\", \"x\": [\"10-2\", \"10-3\", \"10-4\"], \"y\": [0.0, 0.0, 0.0], \"type\": \"scatter\", \"uid\": \"c6738a66-dbfd-11e8-8ddb-a41f72875c19\"}, {\"line\": {\"dash\": \"dashdot\"}, \"name\": \"\\u6682\\u505c\\u9879\\u76ee\\u6570(\\u4e8e\\u6167)\", \"x\": [\"10-2\", \"10-3\", \"10-4\"], \"y\": [0.0, 0.0, 0.0], \"type\": \"scatter\", \"uid\": \"c6738a67-dbfd-11e8-8ddb-a41f72875c19\"}, {\"line\": {\"dash\": \"longdashdot\"}, \"name\": \"\\u6682\\u505c\\u9879\\u76ee\\u6570(\\u5c48\\u6602)\", \"x\": [\"10-2\", \"10-3\", \"10-4\"], \"y\": [0.0, null, 0.0], \"type\": \"scatter\", \"uid\": \"c6738a68-dbfd-11e8-8ddb-a41f72875c19\"}, {\"line\": {\"dash\": \"solid\"}, \"name\": \"\\u6682\\u505c\\u9879\\u76ee\\u6570(\\u51b7\\u96ea)\", \"x\": [\"10-2\", \"10-3\", \"10-4\"], \"y\": [0.0, null, 0.0], \"type\": \"scatter\", \"uid\": \"c6738a69-dbfd-11e8-8ddb-a41f72875c19\"}, {\"line\": {\"dash\": \"dot\"}, \"name\": \"\\u6682\\u505c\\u9879\\u76ee\\u6570(\\u97e9\\u5c11\\u6000)\", \"x\": [\"10-2\", \"10-3\", \"10-4\"], \"y\": [0.0, 0.0, 0.0], \"type\": \"scatter\", \"uid\": \"c6738a6a-dbfd-11e8-8ddb-a41f72875c19\"}, {\"line\": {\"dash\": \"dash\"}, \"name\": \"\\u6682\\u505c\\u9879\\u76ee\\u6570(\\u6d82\\u6210\\u82b3)\", \"x\": [\"10-2\", \"10-3\", \"10-4\"], \"y\": [null, null, 0.0], \"type\": \"scatter\", \"uid\": \"c6738a6b-dbfd-11e8-8ddb-a41f72875c19\"}, {\"line\": {\"dash\": \"longdash\"}, \"name\": \"\\u6682\\u505c\\u9879\\u76ee\\u6570(\\u5f20\\u60a6)\", \"x\": [\"10-2\", \"10-3\", \"10-4\"], \"y\": [null, null, 0.0], \"type\": \"scatter\", \"uid\": \"c6738a6c-dbfd-11e8-8ddb-a41f72875c19\"}, {\"line\": {\"dash\": \"dashdot\"}, \"name\": \"\\u6682\\u505c\\u9879\\u76ee\\u6570(\\u674e\\u534e\\u4e91)\", \"x\": [\"10-2\", \"10-3\", \"10-4\"], \"y\": [null, null, 0.0], \"type\": \"scatter\", \"uid\": \"c6738a6d-dbfd-11e8-8ddb-a41f72875c19\"}, {\"line\": {\"dash\": \"longdashdot\"}, \"name\": \"\\u6682\\u505c\\u9879\\u76ee\\u6570(\\u8303\\u65ed\\u5b81)\", \"x\": [\"10-2\", \"10-3\", \"10-4\"], \"y\": [0.0, 0.0, 0.0], \"type\": \"scatter\", \"uid\": \"c6738a6e-dbfd-11e8-8ddb-a41f72875c19\"}, {\"line\": {\"dash\": \"solid\"}, \"name\": \"\\u6682\\u505c\\u9879\\u76ee\\u6570(\\u6bb5\\u5229\\u5f3a)\", \"x\": [\"10-2\", \"10-3\", \"10-4\"], \"y\": [0.0, null, null], \"type\": \"scatter\", \"uid\": \"c6738a6f-dbfd-11e8-8ddb-a41f72875c19\"}, {\"line\": {\"dash\": \"dot\"}, \"name\": \"\\u6682\\u505c\\u9879\\u76ee\\u6570(\\u59da\\u76df\\u6210)\", \"x\": [\"10-2\", \"10-3\", \"10-4\"], \"y\": [0.0, 0.0, 0.0], \"type\": \"scatter\", \"uid\": \"c6738a70-dbfd-11e8-8ddb-a41f72875c19\"}, {\"line\": {\"dash\": \"dash\"}, \"name\": \"\\u6682\\u505c\\u9879\\u76ee\\u6570(\\u6768\\u4f1f\\u98de)\", \"x\": [\"10-2\", \"10-3\", \"10-4\"], \"y\": [0.0, 0.0, 0.0], \"type\": \"scatter\", \"uid\": \"c6738a71-dbfd-11e8-8ddb-a41f72875c19\"}, {\"line\": {\"dash\": \"longdash\"}, \"name\": \"\\u6682\\u505c\\u9879\\u76ee\\u6570(\\u5218\\u6c5f)\", \"x\": [\"10-2\", \"10-3\", \"10-4\"], \"y\": [0.0, 0.0, 0.0], \"type\": \"scatter\", \"uid\": \"c6738a72-dbfd-11e8-8ddb-a41f72875c19\"}, {\"line\": {\"dash\": \"dashdot\"}, \"name\": \"\\u6682\\u505c\\u9879\\u76ee\\u6570(\\u82cf\\u5f66\\u52cb)\", \"x\": [\"10-2\", \"10-3\", \"10-4\"], \"y\": [null, 0.0, 0.0], \"type\": \"scatter\", \"uid\": \"c6738a73-dbfd-11e8-8ddb-a41f72875c19\"}, {\"line\": {\"dash\": \"longdashdot\"}, \"name\": \"\\u6682\\u505c\\u9879\\u76ee\\u6570(\\u5468\\u6768)\", \"x\": [\"10-2\", \"10-3\", \"10-4\"], \"y\": [0.0, 0.0, 0.0], \"type\": \"scatter\", \"uid\": \"c6738a74-dbfd-11e8-8ddb-a41f72875c19\"}, {\"line\": {\"dash\": \"solid\"}, \"name\": \"\\u6682\\u505c\\u9879\\u76ee\\u6570(\\u5360\\u4f1f)\", \"x\": [\"10-2\", \"10-3\", \"10-4\"], \"y\": [0.0, 0.0, 0.0], \"type\": \"scatter\", \"uid\": \"c6738a75-dbfd-11e8-8ddb-a41f72875c19\"}, {\"line\": {\"dash\": \"dot\"}, \"name\": \"\\u6682\\u505c\\u9879\\u76ee\\u6570(\\u5c01\\u5f66\\u6770)\", \"x\": [\"10-2\", \"10-3\", \"10-4\"], \"y\": [0.0, 0.0, 0.0], \"type\": \"scatter\", \"uid\": \"c6738a76-dbfd-11e8-8ddb-a41f72875c19\"}, {\"line\": {\"dash\": \"dash\"}, \"name\": \"\\u6682\\u505c\\u9879\\u76ee\\u6570(\\u5218\\u4e09\\u9633)\", \"x\": [\"10-2\", \"10-3\", \"10-4\"], \"y\": [null, 0.0, null], \"type\": \"scatter\", \"uid\": \"c6738a77-dbfd-11e8-8ddb-a41f72875c19\"}, {\"line\": {\"dash\": \"longdash\"}, \"name\": \"\\u6682\\u505c\\u9879\\u76ee\\u6570(\\u6636\\u5409\\u9633)\", \"x\": [\"10-2\", \"10-3\", \"10-4\"], \"y\": [null, 0.0, 0.0], \"type\": \"scatter\", \"uid\": \"c6738a78-dbfd-11e8-8ddb-a41f72875c19\"}, {\"line\": {\"dash\": \"dashdot\"}, \"name\": \"\\u6682\\u505c\\u9879\\u76ee\\u6570(\\u4efb\\u96ea)\", \"x\": [\"10-2\", \"10-3\", \"10-4\"], \"y\": [0.0, 0.0, 0.0], \"type\": \"scatter\", \"uid\": \"c6738a79-dbfd-11e8-8ddb-a41f72875c19\"}, {\"line\": {\"dash\": \"longdashdot\"}, \"name\": \"\\u6682\\u505c\\u9879\\u76ee\\u6570(\\u674e\\u5e86\\u539f)\", \"x\": [\"10-2\", \"10-3\", \"10-4\"], \"y\": [0.0, 0.0, 0.0], \"type\": \"scatter\", \"uid\": \"c6738a7a-dbfd-11e8-8ddb-a41f72875c19\"}, {\"line\": {\"dash\": \"solid\"}, \"name\": \"\\u6682\\u505c\\u9879\\u76ee\\u6570(\\u8c22\\u5fb7\\u5065)\", \"x\": [\"10-2\", \"10-3\", \"10-4\"], \"y\": [0.0, 0.0, 0.0], \"type\": \"scatter\", \"uid\": \"c6738a7b-dbfd-11e8-8ddb-a41f72875c19\"}, {\"line\": {\"dash\": \"dot\"}, \"name\": \"\\u6682\\u505c\\u9879\\u76ee\\u6570(\\u6797\\u6587\\u6587)\", \"x\": [\"10-2\", \"10-3\", \"10-4\"], \"y\": [null, null, 0.0], \"type\": \"scatter\", \"uid\": \"c6738a7c-dbfd-11e8-8ddb-a41f72875c19\"}, {\"line\": {\"dash\": \"dash\"}, \"name\": \"\\u6682\\u505c\\u9879\\u76ee\\u6570(\\u738b\\u7ea2)\", \"x\": [\"10-2\", \"10-3\", \"10-4\"], \"y\": [null, null, 0.0], \"type\": \"scatter\", \"uid\": \"c6738a7d-dbfd-11e8-8ddb-a41f72875c19\"}], {\"title\": \"\\u5ef6\\u671f\\u9879\\u76ee\\u6570&\\u6682\\u505c\\u9879\\u76ee\\u6570\\u5468\\u8d8b\\u52bf\\u56fe\", \"xaxis\": {\"mirror\": \"all\", \"nticks\": 20, \"showgrid\": true, \"showline\": true, \"title\": \"\\u5468\", \"type\": \"category\", \"zeroline\": true}, \"yaxis\": {\"mirror\": \"all\", \"nticks\": 20, \"showgrid\": true, \"showline\": true, \"title\": \"\\u5ef6\\u671f\\u9879\\u76ee\\u6570&\\u6682\\u505c\\u9879\\u76ee\\u6570\", \"zeroline\": true}}, {\"showLink\": true, \"linkText\": \"Export to plot.ly\"})});</script>"
      ],
      "text/vnd.plotly.v1+html": [
       "<div id=\"f88226c7-44e2-4f9f-8670-e34525658c89\" style=\"height: 525px; width: 100%;\" class=\"plotly-graph-div\"></div><script type=\"text/javascript\">require([\"plotly\"], function(Plotly) { window.PLOTLYENV=window.PLOTLYENV || {};window.PLOTLYENV.BASE_URL=\"https://plot.ly\";Plotly.newPlot(\"f88226c7-44e2-4f9f-8670-e34525658c89\", [{\"line\": {\"dash\": \"solid\"}, \"name\": \"\\u5ef6\\u671f\\u9879\\u76ee\\u6570(\\u8d75\\u73a5)\", \"x\": [\"10-2\", \"10-3\", \"10-4\"], \"y\": [0.0, 0.0, 0.0], \"type\": \"scatter\", \"uid\": \"c6738a3c-dbfd-11e8-8ddb-a41f72875c19\"}, {\"line\": {\"dash\": \"dot\"}, \"name\": \"\\u5ef6\\u671f\\u9879\\u76ee\\u6570(\\u4e8e\\u52c7\\u4e00)\", \"x\": [\"10-2\", \"10-3\", \"10-4\"], \"y\": [0.0, 0.0, 0.0], \"type\": \"scatter\", \"uid\": \"c6738a3d-dbfd-11e8-8ddb-a41f72875c19\"}, {\"line\": {\"dash\": \"dash\"}, \"name\": \"\\u5ef6\\u671f\\u9879\\u76ee\\u6570(\\u5f20\\u5b88\\u4f1f)\", \"x\": [\"10-2\", \"10-3\", \"10-4\"], \"y\": [0.0, 0.0, 0.0], \"type\": \"scatter\", \"uid\": \"c6738a3e-dbfd-11e8-8ddb-a41f72875c19\"}, {\"line\": {\"dash\": \"longdash\"}, \"name\": \"\\u5ef6\\u671f\\u9879\\u76ee\\u6570(\\u51af\\u656c\\u5ca9)\", \"x\": [\"10-2\", \"10-3\", \"10-4\"], \"y\": [null, null, 0.0], \"type\": \"scatter\", \"uid\": \"c6738a3f-dbfd-11e8-8ddb-a41f72875c19\"}, {\"line\": {\"dash\": \"dashdot\"}, \"name\": \"\\u5ef6\\u671f\\u9879\\u76ee\\u6570(\\u8def\\u6167\\u840d)\", \"x\": [\"10-2\", \"10-3\", \"10-4\"], \"y\": [0.0, 0.0, 0.0], \"type\": \"scatter\", \"uid\": \"c6738a40-dbfd-11e8-8ddb-a41f72875c19\"}, {\"line\": {\"dash\": \"longdashdot\"}, \"name\": \"\\u5ef6\\u671f\\u9879\\u76ee\\u6570(\\u9648\\u9e4f\\u71d5)\", \"x\": [\"10-2\", \"10-3\", \"10-4\"], \"y\": [null, 1.0, 1.0], \"type\": \"scatter\", \"uid\": \"c6738a41-dbfd-11e8-8ddb-a41f72875c19\"}, {\"line\": {\"dash\": \"solid\"}, \"name\": \"\\u5ef6\\u671f\\u9879\\u76ee\\u6570(\\u9a6c\\u6f47)\", \"x\": [\"10-2\", \"10-3\", \"10-4\"], \"y\": [0.0, 0.0, 0.0], \"type\": \"scatter\", \"uid\": \"c6738a42-dbfd-11e8-8ddb-a41f72875c19\"}, {\"line\": {\"dash\": \"dot\"}, \"name\": \"\\u5ef6\\u671f\\u9879\\u76ee\\u6570(\\u8f66\\u5929\\u680b)\", \"x\": [\"10-2\", \"10-3\", \"10-4\"], \"y\": [null, null, 0.0], \"type\": \"scatter\", \"uid\": \"c6738a43-dbfd-11e8-8ddb-a41f72875c19\"}, {\"line\": {\"dash\": \"dash\"}, \"name\": \"\\u5ef6\\u671f\\u9879\\u76ee\\u6570(\\u6c88\\u6069\\u60e0)\", \"x\": [\"10-2\", \"10-3\", \"10-4\"], \"y\": [null, null, 0.0], \"type\": \"scatter\", \"uid\": \"c6738a44-dbfd-11e8-8ddb-a41f72875c19\"}, {\"line\": {\"dash\": \"longdash\"}, \"name\": \"\\u5ef6\\u671f\\u9879\\u76ee\\u6570(\\u5b5f\\u660a)\", \"x\": [\"10-2\", \"10-3\", \"10-4\"], \"y\": [0.0, 0.0, 0.0], \"type\": \"scatter\", \"uid\": \"c6738a45-dbfd-11e8-8ddb-a41f72875c19\"}, {\"line\": {\"dash\": \"dashdot\"}, \"name\": \"\\u5ef6\\u671f\\u9879\\u76ee\\u6570(\\u4e8e\\u6167)\", \"x\": [\"10-2\", \"10-3\", \"10-4\"], \"y\": [0.0, 0.0, 0.0], \"type\": \"scatter\", \"uid\": \"c6738a46-dbfd-11e8-8ddb-a41f72875c19\"}, {\"line\": {\"dash\": \"longdashdot\"}, \"name\": \"\\u5ef6\\u671f\\u9879\\u76ee\\u6570(\\u5c48\\u6602)\", \"x\": [\"10-2\", \"10-3\", \"10-4\"], \"y\": [0.0, null, 0.0], \"type\": \"scatter\", \"uid\": \"c6738a47-dbfd-11e8-8ddb-a41f72875c19\"}, {\"line\": {\"dash\": \"solid\"}, \"name\": \"\\u5ef6\\u671f\\u9879\\u76ee\\u6570(\\u51b7\\u96ea)\", \"x\": [\"10-2\", \"10-3\", \"10-4\"], \"y\": [0.0, null, 0.0], \"type\": \"scatter\", \"uid\": \"c6738a48-dbfd-11e8-8ddb-a41f72875c19\"}, {\"line\": {\"dash\": \"dot\"}, \"name\": \"\\u5ef6\\u671f\\u9879\\u76ee\\u6570(\\u97e9\\u5c11\\u6000)\", \"x\": [\"10-2\", \"10-3\", \"10-4\"], \"y\": [0.0, 0.0, 0.0], \"type\": \"scatter\", \"uid\": \"c6738a49-dbfd-11e8-8ddb-a41f72875c19\"}, {\"line\": {\"dash\": \"dash\"}, \"name\": \"\\u5ef6\\u671f\\u9879\\u76ee\\u6570(\\u6d82\\u6210\\u82b3)\", \"x\": [\"10-2\", \"10-3\", \"10-4\"], \"y\": [null, null, 0.0], \"type\": \"scatter\", \"uid\": \"c6738a4a-dbfd-11e8-8ddb-a41f72875c19\"}, {\"line\": {\"dash\": \"longdash\"}, \"name\": \"\\u5ef6\\u671f\\u9879\\u76ee\\u6570(\\u5f20\\u60a6)\", \"x\": [\"10-2\", \"10-3\", \"10-4\"], \"y\": [null, null, 1.0], \"type\": \"scatter\", \"uid\": \"c6738a4b-dbfd-11e8-8ddb-a41f72875c19\"}, {\"line\": {\"dash\": \"dashdot\"}, \"name\": \"\\u5ef6\\u671f\\u9879\\u76ee\\u6570(\\u674e\\u534e\\u4e91)\", \"x\": [\"10-2\", \"10-3\", \"10-4\"], \"y\": [null, null, 2.0], \"type\": \"scatter\", \"uid\": \"c6738a4c-dbfd-11e8-8ddb-a41f72875c19\"}, {\"line\": {\"dash\": \"longdashdot\"}, \"name\": \"\\u5ef6\\u671f\\u9879\\u76ee\\u6570(\\u8303\\u65ed\\u5b81)\", \"x\": [\"10-2\", \"10-3\", \"10-4\"], \"y\": [0.0, 0.0, 0.0], \"type\": \"scatter\", \"uid\": \"c6738a4d-dbfd-11e8-8ddb-a41f72875c19\"}, {\"line\": {\"dash\": \"solid\"}, \"name\": \"\\u5ef6\\u671f\\u9879\\u76ee\\u6570(\\u6bb5\\u5229\\u5f3a)\", \"x\": [\"10-2\", \"10-3\", \"10-4\"], \"y\": [0.0, null, null], \"type\": \"scatter\", \"uid\": \"c6738a4e-dbfd-11e8-8ddb-a41f72875c19\"}, {\"line\": {\"dash\": \"dot\"}, \"name\": \"\\u5ef6\\u671f\\u9879\\u76ee\\u6570(\\u59da\\u76df\\u6210)\", \"x\": [\"10-2\", \"10-3\", \"10-4\"], \"y\": [0.0, 0.0, 0.0], \"type\": \"scatter\", \"uid\": \"c6738a4f-dbfd-11e8-8ddb-a41f72875c19\"}, {\"line\": {\"dash\": \"dash\"}, \"name\": \"\\u5ef6\\u671f\\u9879\\u76ee\\u6570(\\u6768\\u4f1f\\u98de)\", \"x\": [\"10-2\", \"10-3\", \"10-4\"], \"y\": [0.0, 0.0, 1.0], \"type\": \"scatter\", \"uid\": \"c6738a50-dbfd-11e8-8ddb-a41f72875c19\"}, {\"line\": {\"dash\": \"longdash\"}, \"name\": \"\\u5ef6\\u671f\\u9879\\u76ee\\u6570(\\u5218\\u6c5f)\", \"x\": [\"10-2\", \"10-3\", \"10-4\"], \"y\": [2.0, 2.0, 2.0], \"type\": \"scatter\", \"uid\": \"c6738a51-dbfd-11e8-8ddb-a41f72875c19\"}, {\"line\": {\"dash\": \"dashdot\"}, \"name\": \"\\u5ef6\\u671f\\u9879\\u76ee\\u6570(\\u82cf\\u5f66\\u52cb)\", \"x\": [\"10-2\", \"10-3\", \"10-4\"], \"y\": [null, 0.0, 0.0], \"type\": \"scatter\", \"uid\": \"c6738a52-dbfd-11e8-8ddb-a41f72875c19\"}, {\"line\": {\"dash\": \"longdashdot\"}, \"name\": \"\\u5ef6\\u671f\\u9879\\u76ee\\u6570(\\u5468\\u6768)\", \"x\": [\"10-2\", \"10-3\", \"10-4\"], \"y\": [0.0, 0.0, 0.0], \"type\": \"scatter\", \"uid\": \"c6738a53-dbfd-11e8-8ddb-a41f72875c19\"}, {\"line\": {\"dash\": \"solid\"}, \"name\": \"\\u5ef6\\u671f\\u9879\\u76ee\\u6570(\\u5360\\u4f1f)\", \"x\": [\"10-2\", \"10-3\", \"10-4\"], \"y\": [0.0, 0.0, 3.0], \"type\": \"scatter\", \"uid\": \"c6738a54-dbfd-11e8-8ddb-a41f72875c19\"}, {\"line\": {\"dash\": \"dot\"}, \"name\": \"\\u5ef6\\u671f\\u9879\\u76ee\\u6570(\\u5c01\\u5f66\\u6770)\", \"x\": [\"10-2\", \"10-3\", \"10-4\"], \"y\": [0.0, 0.0, 1.0], \"type\": \"scatter\", \"uid\": \"c6738a55-dbfd-11e8-8ddb-a41f72875c19\"}, {\"line\": {\"dash\": \"dash\"}, \"name\": \"\\u5ef6\\u671f\\u9879\\u76ee\\u6570(\\u5218\\u4e09\\u9633)\", \"x\": [\"10-2\", \"10-3\", \"10-4\"], \"y\": [null, 0.0, null], \"type\": \"scatter\", \"uid\": \"c6738a56-dbfd-11e8-8ddb-a41f72875c19\"}, {\"line\": {\"dash\": \"longdash\"}, \"name\": \"\\u5ef6\\u671f\\u9879\\u76ee\\u6570(\\u6636\\u5409\\u9633)\", \"x\": [\"10-2\", \"10-3\", \"10-4\"], \"y\": [null, 0.0, 0.0], \"type\": \"scatter\", \"uid\": \"c6738a57-dbfd-11e8-8ddb-a41f72875c19\"}, {\"line\": {\"dash\": \"dashdot\"}, \"name\": \"\\u5ef6\\u671f\\u9879\\u76ee\\u6570(\\u4efb\\u96ea)\", \"x\": [\"10-2\", \"10-3\", \"10-4\"], \"y\": [0.0, 1.0, 2.0], \"type\": \"scatter\", \"uid\": \"c6738a58-dbfd-11e8-8ddb-a41f72875c19\"}, {\"line\": {\"dash\": \"longdashdot\"}, \"name\": \"\\u5ef6\\u671f\\u9879\\u76ee\\u6570(\\u674e\\u5e86\\u539f)\", \"x\": [\"10-2\", \"10-3\", \"10-4\"], \"y\": [0.0, 1.0, 0.0], \"type\": \"scatter\", \"uid\": \"c6738a59-dbfd-11e8-8ddb-a41f72875c19\"}, {\"line\": {\"dash\": \"solid\"}, \"name\": \"\\u5ef6\\u671f\\u9879\\u76ee\\u6570(\\u8c22\\u5fb7\\u5065)\", \"x\": [\"10-2\", \"10-3\", \"10-4\"], \"y\": [0.0, 0.0, 0.0], \"type\": \"scatter\", \"uid\": \"c6738a5a-dbfd-11e8-8ddb-a41f72875c19\"}, {\"line\": {\"dash\": \"dot\"}, \"name\": \"\\u5ef6\\u671f\\u9879\\u76ee\\u6570(\\u6797\\u6587\\u6587)\", \"x\": [\"10-2\", \"10-3\", \"10-4\"], \"y\": [null, null, 0.0], \"type\": \"scatter\", \"uid\": \"c6738a5b-dbfd-11e8-8ddb-a41f72875c19\"}, {\"line\": {\"dash\": \"dash\"}, \"name\": \"\\u5ef6\\u671f\\u9879\\u76ee\\u6570(\\u738b\\u7ea2)\", \"x\": [\"10-2\", \"10-3\", \"10-4\"], \"y\": [null, null, 0.0], \"type\": \"scatter\", \"uid\": \"c6738a5c-dbfd-11e8-8ddb-a41f72875c19\"}, {\"line\": {\"dash\": \"solid\"}, \"name\": \"\\u6682\\u505c\\u9879\\u76ee\\u6570(\\u8d75\\u73a5)\", \"x\": [\"10-2\", \"10-3\", \"10-4\"], \"y\": [0.0, 0.0, 0.0], \"type\": \"scatter\", \"uid\": \"c6738a5d-dbfd-11e8-8ddb-a41f72875c19\"}, {\"line\": {\"dash\": \"dot\"}, \"name\": \"\\u6682\\u505c\\u9879\\u76ee\\u6570(\\u4e8e\\u52c7\\u4e00)\", \"x\": [\"10-2\", \"10-3\", \"10-4\"], \"y\": [0.0, 0.0, 0.0], \"type\": \"scatter\", \"uid\": \"c6738a5e-dbfd-11e8-8ddb-a41f72875c19\"}, {\"line\": {\"dash\": \"dash\"}, \"name\": \"\\u6682\\u505c\\u9879\\u76ee\\u6570(\\u5f20\\u5b88\\u4f1f)\", \"x\": [\"10-2\", \"10-3\", \"10-4\"], \"y\": [0.0, 0.0, 0.0], \"type\": \"scatter\", \"uid\": \"c6738a5f-dbfd-11e8-8ddb-a41f72875c19\"}, {\"line\": {\"dash\": \"longdash\"}, \"name\": \"\\u6682\\u505c\\u9879\\u76ee\\u6570(\\u51af\\u656c\\u5ca9)\", \"x\": [\"10-2\", \"10-3\", \"10-4\"], \"y\": [null, null, 0.0], \"type\": \"scatter\", \"uid\": \"c6738a60-dbfd-11e8-8ddb-a41f72875c19\"}, {\"line\": {\"dash\": \"dashdot\"}, \"name\": \"\\u6682\\u505c\\u9879\\u76ee\\u6570(\\u8def\\u6167\\u840d)\", \"x\": [\"10-2\", \"10-3\", \"10-4\"], \"y\": [0.0, 0.0, 0.0], \"type\": \"scatter\", \"uid\": \"c6738a61-dbfd-11e8-8ddb-a41f72875c19\"}, {\"line\": {\"dash\": \"longdashdot\"}, \"name\": \"\\u6682\\u505c\\u9879\\u76ee\\u6570(\\u9648\\u9e4f\\u71d5)\", \"x\": [\"10-2\", \"10-3\", \"10-4\"], \"y\": [null, 0.0, 0.0], \"type\": \"scatter\", \"uid\": \"c6738a62-dbfd-11e8-8ddb-a41f72875c19\"}, {\"line\": {\"dash\": \"solid\"}, \"name\": \"\\u6682\\u505c\\u9879\\u76ee\\u6570(\\u9a6c\\u6f47)\", \"x\": [\"10-2\", \"10-3\", \"10-4\"], \"y\": [0.0, 0.0, 0.0], \"type\": \"scatter\", \"uid\": \"c6738a63-dbfd-11e8-8ddb-a41f72875c19\"}, {\"line\": {\"dash\": \"dot\"}, \"name\": \"\\u6682\\u505c\\u9879\\u76ee\\u6570(\\u8f66\\u5929\\u680b)\", \"x\": [\"10-2\", \"10-3\", \"10-4\"], \"y\": [null, null, 0.0], \"type\": \"scatter\", \"uid\": \"c6738a64-dbfd-11e8-8ddb-a41f72875c19\"}, {\"line\": {\"dash\": \"dash\"}, \"name\": \"\\u6682\\u505c\\u9879\\u76ee\\u6570(\\u6c88\\u6069\\u60e0)\", \"x\": [\"10-2\", \"10-3\", \"10-4\"], \"y\": [null, null, 0.0], \"type\": \"scatter\", \"uid\": \"c6738a65-dbfd-11e8-8ddb-a41f72875c19\"}, {\"line\": {\"dash\": \"longdash\"}, \"name\": \"\\u6682\\u505c\\u9879\\u76ee\\u6570(\\u5b5f\\u660a)\", \"x\": [\"10-2\", \"10-3\", \"10-4\"], \"y\": [0.0, 0.0, 0.0], \"type\": \"scatter\", \"uid\": \"c6738a66-dbfd-11e8-8ddb-a41f72875c19\"}, {\"line\": {\"dash\": \"dashdot\"}, \"name\": \"\\u6682\\u505c\\u9879\\u76ee\\u6570(\\u4e8e\\u6167)\", \"x\": [\"10-2\", \"10-3\", \"10-4\"], \"y\": [0.0, 0.0, 0.0], \"type\": \"scatter\", \"uid\": \"c6738a67-dbfd-11e8-8ddb-a41f72875c19\"}, {\"line\": {\"dash\": \"longdashdot\"}, \"name\": \"\\u6682\\u505c\\u9879\\u76ee\\u6570(\\u5c48\\u6602)\", \"x\": [\"10-2\", \"10-3\", \"10-4\"], \"y\": [0.0, null, 0.0], \"type\": \"scatter\", \"uid\": \"c6738a68-dbfd-11e8-8ddb-a41f72875c19\"}, {\"line\": {\"dash\": \"solid\"}, \"name\": \"\\u6682\\u505c\\u9879\\u76ee\\u6570(\\u51b7\\u96ea)\", \"x\": [\"10-2\", \"10-3\", \"10-4\"], \"y\": [0.0, null, 0.0], \"type\": \"scatter\", \"uid\": \"c6738a69-dbfd-11e8-8ddb-a41f72875c19\"}, {\"line\": {\"dash\": \"dot\"}, \"name\": \"\\u6682\\u505c\\u9879\\u76ee\\u6570(\\u97e9\\u5c11\\u6000)\", \"x\": [\"10-2\", \"10-3\", \"10-4\"], \"y\": [0.0, 0.0, 0.0], \"type\": \"scatter\", \"uid\": \"c6738a6a-dbfd-11e8-8ddb-a41f72875c19\"}, {\"line\": {\"dash\": \"dash\"}, \"name\": \"\\u6682\\u505c\\u9879\\u76ee\\u6570(\\u6d82\\u6210\\u82b3)\", \"x\": [\"10-2\", \"10-3\", \"10-4\"], \"y\": [null, null, 0.0], \"type\": \"scatter\", \"uid\": \"c6738a6b-dbfd-11e8-8ddb-a41f72875c19\"}, {\"line\": {\"dash\": \"longdash\"}, \"name\": \"\\u6682\\u505c\\u9879\\u76ee\\u6570(\\u5f20\\u60a6)\", \"x\": [\"10-2\", \"10-3\", \"10-4\"], \"y\": [null, null, 0.0], \"type\": \"scatter\", \"uid\": \"c6738a6c-dbfd-11e8-8ddb-a41f72875c19\"}, {\"line\": {\"dash\": \"dashdot\"}, \"name\": \"\\u6682\\u505c\\u9879\\u76ee\\u6570(\\u674e\\u534e\\u4e91)\", \"x\": [\"10-2\", \"10-3\", \"10-4\"], \"y\": [null, null, 0.0], \"type\": \"scatter\", \"uid\": \"c6738a6d-dbfd-11e8-8ddb-a41f72875c19\"}, {\"line\": {\"dash\": \"longdashdot\"}, \"name\": \"\\u6682\\u505c\\u9879\\u76ee\\u6570(\\u8303\\u65ed\\u5b81)\", \"x\": [\"10-2\", \"10-3\", \"10-4\"], \"y\": [0.0, 0.0, 0.0], \"type\": \"scatter\", \"uid\": \"c6738a6e-dbfd-11e8-8ddb-a41f72875c19\"}, {\"line\": {\"dash\": \"solid\"}, \"name\": \"\\u6682\\u505c\\u9879\\u76ee\\u6570(\\u6bb5\\u5229\\u5f3a)\", \"x\": [\"10-2\", \"10-3\", \"10-4\"], \"y\": [0.0, null, null], \"type\": \"scatter\", \"uid\": \"c6738a6f-dbfd-11e8-8ddb-a41f72875c19\"}, {\"line\": {\"dash\": \"dot\"}, \"name\": \"\\u6682\\u505c\\u9879\\u76ee\\u6570(\\u59da\\u76df\\u6210)\", \"x\": [\"10-2\", \"10-3\", \"10-4\"], \"y\": [0.0, 0.0, 0.0], \"type\": \"scatter\", \"uid\": \"c6738a70-dbfd-11e8-8ddb-a41f72875c19\"}, {\"line\": {\"dash\": \"dash\"}, \"name\": \"\\u6682\\u505c\\u9879\\u76ee\\u6570(\\u6768\\u4f1f\\u98de)\", \"x\": [\"10-2\", \"10-3\", \"10-4\"], \"y\": [0.0, 0.0, 0.0], \"type\": \"scatter\", \"uid\": \"c6738a71-dbfd-11e8-8ddb-a41f72875c19\"}, {\"line\": {\"dash\": \"longdash\"}, \"name\": \"\\u6682\\u505c\\u9879\\u76ee\\u6570(\\u5218\\u6c5f)\", \"x\": [\"10-2\", \"10-3\", \"10-4\"], \"y\": [0.0, 0.0, 0.0], \"type\": \"scatter\", \"uid\": \"c6738a72-dbfd-11e8-8ddb-a41f72875c19\"}, {\"line\": {\"dash\": \"dashdot\"}, \"name\": \"\\u6682\\u505c\\u9879\\u76ee\\u6570(\\u82cf\\u5f66\\u52cb)\", \"x\": [\"10-2\", \"10-3\", \"10-4\"], \"y\": [null, 0.0, 0.0], \"type\": \"scatter\", \"uid\": \"c6738a73-dbfd-11e8-8ddb-a41f72875c19\"}, {\"line\": {\"dash\": \"longdashdot\"}, \"name\": \"\\u6682\\u505c\\u9879\\u76ee\\u6570(\\u5468\\u6768)\", \"x\": [\"10-2\", \"10-3\", \"10-4\"], \"y\": [0.0, 0.0, 0.0], \"type\": \"scatter\", \"uid\": \"c6738a74-dbfd-11e8-8ddb-a41f72875c19\"}, {\"line\": {\"dash\": \"solid\"}, \"name\": \"\\u6682\\u505c\\u9879\\u76ee\\u6570(\\u5360\\u4f1f)\", \"x\": [\"10-2\", \"10-3\", \"10-4\"], \"y\": [0.0, 0.0, 0.0], \"type\": \"scatter\", \"uid\": \"c6738a75-dbfd-11e8-8ddb-a41f72875c19\"}, {\"line\": {\"dash\": \"dot\"}, \"name\": \"\\u6682\\u505c\\u9879\\u76ee\\u6570(\\u5c01\\u5f66\\u6770)\", \"x\": [\"10-2\", \"10-3\", \"10-4\"], \"y\": [0.0, 0.0, 0.0], \"type\": \"scatter\", \"uid\": \"c6738a76-dbfd-11e8-8ddb-a41f72875c19\"}, {\"line\": {\"dash\": \"dash\"}, \"name\": \"\\u6682\\u505c\\u9879\\u76ee\\u6570(\\u5218\\u4e09\\u9633)\", \"x\": [\"10-2\", \"10-3\", \"10-4\"], \"y\": [null, 0.0, null], \"type\": \"scatter\", \"uid\": \"c6738a77-dbfd-11e8-8ddb-a41f72875c19\"}, {\"line\": {\"dash\": \"longdash\"}, \"name\": \"\\u6682\\u505c\\u9879\\u76ee\\u6570(\\u6636\\u5409\\u9633)\", \"x\": [\"10-2\", \"10-3\", \"10-4\"], \"y\": [null, 0.0, 0.0], \"type\": \"scatter\", \"uid\": \"c6738a78-dbfd-11e8-8ddb-a41f72875c19\"}, {\"line\": {\"dash\": \"dashdot\"}, \"name\": \"\\u6682\\u505c\\u9879\\u76ee\\u6570(\\u4efb\\u96ea)\", \"x\": [\"10-2\", \"10-3\", \"10-4\"], \"y\": [0.0, 0.0, 0.0], \"type\": \"scatter\", \"uid\": \"c6738a79-dbfd-11e8-8ddb-a41f72875c19\"}, {\"line\": {\"dash\": \"longdashdot\"}, \"name\": \"\\u6682\\u505c\\u9879\\u76ee\\u6570(\\u674e\\u5e86\\u539f)\", \"x\": [\"10-2\", \"10-3\", \"10-4\"], \"y\": [0.0, 0.0, 0.0], \"type\": \"scatter\", \"uid\": \"c6738a7a-dbfd-11e8-8ddb-a41f72875c19\"}, {\"line\": {\"dash\": \"solid\"}, \"name\": \"\\u6682\\u505c\\u9879\\u76ee\\u6570(\\u8c22\\u5fb7\\u5065)\", \"x\": [\"10-2\", \"10-3\", \"10-4\"], \"y\": [0.0, 0.0, 0.0], \"type\": \"scatter\", \"uid\": \"c6738a7b-dbfd-11e8-8ddb-a41f72875c19\"}, {\"line\": {\"dash\": \"dot\"}, \"name\": \"\\u6682\\u505c\\u9879\\u76ee\\u6570(\\u6797\\u6587\\u6587)\", \"x\": [\"10-2\", \"10-3\", \"10-4\"], \"y\": [null, null, 0.0], \"type\": \"scatter\", \"uid\": \"c6738a7c-dbfd-11e8-8ddb-a41f72875c19\"}, {\"line\": {\"dash\": \"dash\"}, \"name\": \"\\u6682\\u505c\\u9879\\u76ee\\u6570(\\u738b\\u7ea2)\", \"x\": [\"10-2\", \"10-3\", \"10-4\"], \"y\": [null, null, 0.0], \"type\": \"scatter\", \"uid\": \"c6738a7d-dbfd-11e8-8ddb-a41f72875c19\"}], {\"title\": \"\\u5ef6\\u671f\\u9879\\u76ee\\u6570&\\u6682\\u505c\\u9879\\u76ee\\u6570\\u5468\\u8d8b\\u52bf\\u56fe\", \"xaxis\": {\"mirror\": \"all\", \"nticks\": 20, \"showgrid\": true, \"showline\": true, \"title\": \"\\u5468\", \"type\": \"category\", \"zeroline\": true}, \"yaxis\": {\"mirror\": \"all\", \"nticks\": 20, \"showgrid\": true, \"showline\": true, \"title\": \"\\u5ef6\\u671f\\u9879\\u76ee\\u6570&\\u6682\\u505c\\u9879\\u76ee\\u6570\", \"zeroline\": true}}, {\"showLink\": true, \"linkText\": \"Export to plot.ly\"})});</script>"
      ]
     },
     "metadata": {},
     "output_type": "display_data"
    }
   ],
   "source": [
    "ss=myModule.format(all_dict ,\"日期\" ,['延期项目数', '暂停项目数'])\n",
    "ss.add_group('负责人')\n",
    "tt = myModule.myPlot(ss.groupby('sum'))\n",
    "tt.plot('line')"
   ]
  },
  {
   "cell_type": "markdown",
   "metadata": {
    "hide_input": true
   },
   "source": [
    "### 个人成长指数"
   ]
  },
  {
   "cell_type": "markdown",
   "metadata": {},
   "source": [
    "#### 个人内部沟通、市场支持、出差、禅道bug"
   ]
  },
  {
   "cell_type": "code",
   "execution_count": 57,
   "metadata": {
    "collapsed": false,
    "scrolled": true
   },
   "outputs": [
    {
     "data": {
      "application/vnd.plotly.v1+json": {
       "data": [
        {
         "line": {
          "dash": "solid"
         },
         "name": "禅道bug(赵玥)",
         "type": "scatter",
         "uid": "c79d3542-dbfd-11e8-8ddb-a41f72875c19",
         "x": [
          "10-2",
          "10-3",
          "10-4"
         ],
         "y": [
          0,
          0,
          0
         ]
        },
        {
         "line": {
          "dash": "dot"
         },
         "name": "禅道bug(于勇一)",
         "type": "scatter",
         "uid": "c79d3543-dbfd-11e8-8ddb-a41f72875c19",
         "x": [
          "10-2",
          "10-3",
          "10-4"
         ],
         "y": [
          0,
          0,
          0
         ]
        },
        {
         "line": {
          "dash": "dash"
         },
         "name": "禅道bug(张守伟)",
         "type": "scatter",
         "uid": "c79d3544-dbfd-11e8-8ddb-a41f72875c19",
         "x": [
          "10-2",
          "10-3",
          "10-4"
         ],
         "y": [
          0,
          0,
          0
         ]
        },
        {
         "line": {
          "dash": "longdash"
         },
         "name": "禅道bug(冯敬岩)",
         "type": "scatter",
         "uid": "c79d3545-dbfd-11e8-8ddb-a41f72875c19",
         "x": [
          "10-2",
          "10-3",
          "10-4"
         ],
         "y": [
          null,
          null,
          0
         ]
        },
        {
         "line": {
          "dash": "dashdot"
         },
         "name": "禅道bug(路慧萍)",
         "type": "scatter",
         "uid": "c79d3546-dbfd-11e8-8ddb-a41f72875c19",
         "x": [
          "10-2",
          "10-3",
          "10-4"
         ],
         "y": [
          0,
          0,
          0
         ]
        },
        {
         "line": {
          "dash": "longdashdot"
         },
         "name": "禅道bug(陈鹏燕)",
         "type": "scatter",
         "uid": "c79d3547-dbfd-11e8-8ddb-a41f72875c19",
         "x": [
          "10-2",
          "10-3",
          "10-4"
         ],
         "y": [
          null,
          0,
          0
         ]
        },
        {
         "line": {
          "dash": "solid"
         },
         "name": "禅道bug(马潇)",
         "type": "scatter",
         "uid": "c79d3548-dbfd-11e8-8ddb-a41f72875c19",
         "x": [
          "10-2",
          "10-3",
          "10-4"
         ],
         "y": [
          0,
          0,
          0
         ]
        },
        {
         "line": {
          "dash": "dot"
         },
         "name": "禅道bug(车天栋)",
         "type": "scatter",
         "uid": "c79d3549-dbfd-11e8-8ddb-a41f72875c19",
         "x": [
          "10-2",
          "10-3",
          "10-4"
         ],
         "y": [
          null,
          null,
          0
         ]
        },
        {
         "line": {
          "dash": "dash"
         },
         "name": "禅道bug(沈恩惠)",
         "type": "scatter",
         "uid": "c79d354a-dbfd-11e8-8ddb-a41f72875c19",
         "x": [
          "10-2",
          "10-3",
          "10-4"
         ],
         "y": [
          null,
          null,
          0
         ]
        },
        {
         "line": {
          "dash": "longdash"
         },
         "name": "禅道bug(孟昊)",
         "type": "scatter",
         "uid": "c79d354b-dbfd-11e8-8ddb-a41f72875c19",
         "x": [
          "10-2",
          "10-3",
          "10-4"
         ],
         "y": [
          0,
          0,
          0
         ]
        },
        {
         "line": {
          "dash": "dashdot"
         },
         "name": "禅道bug(于慧)",
         "type": "scatter",
         "uid": "c79d354c-dbfd-11e8-8ddb-a41f72875c19",
         "x": [
          "10-2",
          "10-3",
          "10-4"
         ],
         "y": [
          0,
          0,
          0
         ]
        },
        {
         "line": {
          "dash": "longdashdot"
         },
         "name": "禅道bug(屈昂)",
         "type": "scatter",
         "uid": "c79d354d-dbfd-11e8-8ddb-a41f72875c19",
         "x": [
          "10-2",
          "10-3",
          "10-4"
         ],
         "y": [
          0,
          null,
          0
         ]
        },
        {
         "line": {
          "dash": "solid"
         },
         "name": "禅道bug(冷雪)",
         "type": "scatter",
         "uid": "c79d354e-dbfd-11e8-8ddb-a41f72875c19",
         "x": [
          "10-2",
          "10-3",
          "10-4"
         ],
         "y": [
          0,
          null,
          0
         ]
        },
        {
         "line": {
          "dash": "dot"
         },
         "name": "禅道bug(韩少怀)",
         "type": "scatter",
         "uid": "c79d354f-dbfd-11e8-8ddb-a41f72875c19",
         "x": [
          "10-2",
          "10-3",
          "10-4"
         ],
         "y": [
          0,
          0,
          0
         ]
        },
        {
         "line": {
          "dash": "dash"
         },
         "name": "禅道bug(涂成芳)",
         "type": "scatter",
         "uid": "c79d3550-dbfd-11e8-8ddb-a41f72875c19",
         "x": [
          "10-2",
          "10-3",
          "10-4"
         ],
         "y": [
          null,
          null,
          0
         ]
        },
        {
         "line": {
          "dash": "longdash"
         },
         "name": "禅道bug(张悦)",
         "type": "scatter",
         "uid": "c79d3551-dbfd-11e8-8ddb-a41f72875c19",
         "x": [
          "10-2",
          "10-3",
          "10-4"
         ],
         "y": [
          null,
          null,
          0
         ]
        },
        {
         "line": {
          "dash": "dashdot"
         },
         "name": "禅道bug(李华云)",
         "type": "scatter",
         "uid": "c79d3552-dbfd-11e8-8ddb-a41f72875c19",
         "x": [
          "10-2",
          "10-3",
          "10-4"
         ],
         "y": [
          null,
          null,
          0
         ]
        },
        {
         "line": {
          "dash": "longdashdot"
         },
         "name": "禅道bug(范旭宁)",
         "type": "scatter",
         "uid": "c79d3553-dbfd-11e8-8ddb-a41f72875c19",
         "x": [
          "10-2",
          "10-3",
          "10-4"
         ],
         "y": [
          0,
          0,
          0
         ]
        },
        {
         "line": {
          "dash": "solid"
         },
         "name": "禅道bug(段利强)",
         "type": "scatter",
         "uid": "c79d3554-dbfd-11e8-8ddb-a41f72875c19",
         "x": [
          "10-2",
          "10-3",
          "10-4"
         ],
         "y": [
          0,
          null,
          null
         ]
        },
        {
         "line": {
          "dash": "dot"
         },
         "name": "禅道bug(姚盟成)",
         "type": "scatter",
         "uid": "c79d3555-dbfd-11e8-8ddb-a41f72875c19",
         "x": [
          "10-2",
          "10-3",
          "10-4"
         ],
         "y": [
          0,
          1,
          1
         ]
        },
        {
         "line": {
          "dash": "dash"
         },
         "name": "禅道bug(杨伟飞)",
         "type": "scatter",
         "uid": "c79d3556-dbfd-11e8-8ddb-a41f72875c19",
         "x": [
          "10-2",
          "10-3",
          "10-4"
         ],
         "y": [
          0,
          0,
          0
         ]
        },
        {
         "line": {
          "dash": "longdash"
         },
         "name": "禅道bug(刘江)",
         "type": "scatter",
         "uid": "c79d3557-dbfd-11e8-8ddb-a41f72875c19",
         "x": [
          "10-2",
          "10-3",
          "10-4"
         ],
         "y": [
          0,
          0,
          0
         ]
        },
        {
         "line": {
          "dash": "dashdot"
         },
         "name": "禅道bug(苏彦勋)",
         "type": "scatter",
         "uid": "c79d3558-dbfd-11e8-8ddb-a41f72875c19",
         "x": [
          "10-2",
          "10-3",
          "10-4"
         ],
         "y": [
          null,
          0,
          0
         ]
        },
        {
         "line": {
          "dash": "longdashdot"
         },
         "name": "禅道bug(周杨)",
         "type": "scatter",
         "uid": "c79d3559-dbfd-11e8-8ddb-a41f72875c19",
         "x": [
          "10-2",
          "10-3",
          "10-4"
         ],
         "y": [
          0,
          0,
          0
         ]
        },
        {
         "line": {
          "dash": "solid"
         },
         "name": "禅道bug(占伟)",
         "type": "scatter",
         "uid": "c79d355a-dbfd-11e8-8ddb-a41f72875c19",
         "x": [
          "10-2",
          "10-3",
          "10-4"
         ],
         "y": [
          0,
          0,
          0
         ]
        },
        {
         "line": {
          "dash": "dot"
         },
         "name": "禅道bug(封彦杰)",
         "type": "scatter",
         "uid": "c79d355b-dbfd-11e8-8ddb-a41f72875c19",
         "x": [
          "10-2",
          "10-3",
          "10-4"
         ],
         "y": [
          0,
          0,
          0
         ]
        },
        {
         "line": {
          "dash": "dash"
         },
         "name": "禅道bug(刘三阳)",
         "type": "scatter",
         "uid": "c79d355c-dbfd-11e8-8ddb-a41f72875c19",
         "x": [
          "10-2",
          "10-3",
          "10-4"
         ],
         "y": [
          null,
          0,
          null
         ]
        },
        {
         "line": {
          "dash": "longdash"
         },
         "name": "禅道bug(昶吉阳)",
         "type": "scatter",
         "uid": "c79d355d-dbfd-11e8-8ddb-a41f72875c19",
         "x": [
          "10-2",
          "10-3",
          "10-4"
         ],
         "y": [
          null,
          0,
          0
         ]
        },
        {
         "line": {
          "dash": "dashdot"
         },
         "name": "禅道bug(任雪)",
         "type": "scatter",
         "uid": "c79d355e-dbfd-11e8-8ddb-a41f72875c19",
         "x": [
          "10-2",
          "10-3",
          "10-4"
         ],
         "y": [
          0,
          0,
          0
         ]
        },
        {
         "line": {
          "dash": "longdashdot"
         },
         "name": "禅道bug(李庆原)",
         "type": "scatter",
         "uid": "c79d355f-dbfd-11e8-8ddb-a41f72875c19",
         "x": [
          "10-2",
          "10-3",
          "10-4"
         ],
         "y": [
          0,
          0,
          0
         ]
        },
        {
         "line": {
          "dash": "solid"
         },
         "name": "禅道bug(谢德健)",
         "type": "scatter",
         "uid": "c79d3560-dbfd-11e8-8ddb-a41f72875c19",
         "x": [
          "10-2",
          "10-3",
          "10-4"
         ],
         "y": [
          0,
          0,
          0
         ]
        },
        {
         "line": {
          "dash": "dot"
         },
         "name": "禅道bug(林文文)",
         "type": "scatter",
         "uid": "c79d3561-dbfd-11e8-8ddb-a41f72875c19",
         "x": [
          "10-2",
          "10-3",
          "10-4"
         ],
         "y": [
          null,
          null,
          0
         ]
        },
        {
         "line": {
          "dash": "dash"
         },
         "name": "禅道bug(王红)",
         "type": "scatter",
         "uid": "c79d3562-dbfd-11e8-8ddb-a41f72875c19",
         "x": [
          "10-2",
          "10-3",
          "10-4"
         ],
         "y": [
          null,
          null,
          0
         ]
        },
        {
         "line": {
          "dash": "solid"
         },
         "name": "内部沟通(赵玥)",
         "type": "scatter",
         "uid": "c79d3563-dbfd-11e8-8ddb-a41f72875c19",
         "x": [
          "10-2",
          "10-3",
          "10-4"
         ],
         "y": [
          0,
          0,
          0
         ]
        },
        {
         "line": {
          "dash": "dot"
         },
         "name": "内部沟通(于勇一)",
         "type": "scatter",
         "uid": "c79d3564-dbfd-11e8-8ddb-a41f72875c19",
         "x": [
          "10-2",
          "10-3",
          "10-4"
         ],
         "y": [
          0,
          0,
          0
         ]
        },
        {
         "line": {
          "dash": "dash"
         },
         "name": "内部沟通(张守伟)",
         "type": "scatter",
         "uid": "c79d3565-dbfd-11e8-8ddb-a41f72875c19",
         "x": [
          "10-2",
          "10-3",
          "10-4"
         ],
         "y": [
          0,
          0,
          0
         ]
        },
        {
         "line": {
          "dash": "longdash"
         },
         "name": "内部沟通(冯敬岩)",
         "type": "scatter",
         "uid": "c79d3566-dbfd-11e8-8ddb-a41f72875c19",
         "x": [
          "10-2",
          "10-3",
          "10-4"
         ],
         "y": [
          null,
          null,
          0
         ]
        },
        {
         "line": {
          "dash": "dashdot"
         },
         "name": "内部沟通(路慧萍)",
         "type": "scatter",
         "uid": "c79d3567-dbfd-11e8-8ddb-a41f72875c19",
         "x": [
          "10-2",
          "10-3",
          "10-4"
         ],
         "y": [
          0,
          0,
          0
         ]
        },
        {
         "line": {
          "dash": "longdashdot"
         },
         "name": "内部沟通(陈鹏燕)",
         "type": "scatter",
         "uid": "c79d3568-dbfd-11e8-8ddb-a41f72875c19",
         "x": [
          "10-2",
          "10-3",
          "10-4"
         ],
         "y": [
          null,
          0,
          0
         ]
        },
        {
         "line": {
          "dash": "solid"
         },
         "name": "内部沟通(马潇)",
         "type": "scatter",
         "uid": "c79d3569-dbfd-11e8-8ddb-a41f72875c19",
         "x": [
          "10-2",
          "10-3",
          "10-4"
         ],
         "y": [
          0,
          0,
          0
         ]
        },
        {
         "line": {
          "dash": "dot"
         },
         "name": "内部沟通(车天栋)",
         "type": "scatter",
         "uid": "c79d356a-dbfd-11e8-8ddb-a41f72875c19",
         "x": [
          "10-2",
          "10-3",
          "10-4"
         ],
         "y": [
          null,
          null,
          0
         ]
        },
        {
         "line": {
          "dash": "dash"
         },
         "name": "内部沟通(沈恩惠)",
         "type": "scatter",
         "uid": "c79d356b-dbfd-11e8-8ddb-a41f72875c19",
         "x": [
          "10-2",
          "10-3",
          "10-4"
         ],
         "y": [
          null,
          null,
          0
         ]
        },
        {
         "line": {
          "dash": "longdash"
         },
         "name": "内部沟通(孟昊)",
         "type": "scatter",
         "uid": "c79d356c-dbfd-11e8-8ddb-a41f72875c19",
         "x": [
          "10-2",
          "10-3",
          "10-4"
         ],
         "y": [
          0,
          0,
          0
         ]
        },
        {
         "line": {
          "dash": "dashdot"
         },
         "name": "内部沟通(于慧)",
         "type": "scatter",
         "uid": "c79d356d-dbfd-11e8-8ddb-a41f72875c19",
         "x": [
          "10-2",
          "10-3",
          "10-4"
         ],
         "y": [
          0,
          0,
          0
         ]
        },
        {
         "line": {
          "dash": "longdashdot"
         },
         "name": "内部沟通(屈昂)",
         "type": "scatter",
         "uid": "c79d356e-dbfd-11e8-8ddb-a41f72875c19",
         "x": [
          "10-2",
          "10-3",
          "10-4"
         ],
         "y": [
          0,
          null,
          0
         ]
        },
        {
         "line": {
          "dash": "solid"
         },
         "name": "内部沟通(冷雪)",
         "type": "scatter",
         "uid": "c79d356f-dbfd-11e8-8ddb-a41f72875c19",
         "x": [
          "10-2",
          "10-3",
          "10-4"
         ],
         "y": [
          0,
          null,
          0
         ]
        },
        {
         "line": {
          "dash": "dot"
         },
         "name": "内部沟通(韩少怀)",
         "type": "scatter",
         "uid": "c79d3570-dbfd-11e8-8ddb-a41f72875c19",
         "x": [
          "10-2",
          "10-3",
          "10-4"
         ],
         "y": [
          0,
          0,
          0
         ]
        },
        {
         "line": {
          "dash": "dash"
         },
         "name": "内部沟通(涂成芳)",
         "type": "scatter",
         "uid": "c79d3571-dbfd-11e8-8ddb-a41f72875c19",
         "x": [
          "10-2",
          "10-3",
          "10-4"
         ],
         "y": [
          null,
          null,
          0
         ]
        },
        {
         "line": {
          "dash": "longdash"
         },
         "name": "内部沟通(张悦)",
         "type": "scatter",
         "uid": "c79d3572-dbfd-11e8-8ddb-a41f72875c19",
         "x": [
          "10-2",
          "10-3",
          "10-4"
         ],
         "y": [
          null,
          null,
          0
         ]
        },
        {
         "line": {
          "dash": "dashdot"
         },
         "name": "内部沟通(李华云)",
         "type": "scatter",
         "uid": "c79d3573-dbfd-11e8-8ddb-a41f72875c19",
         "x": [
          "10-2",
          "10-3",
          "10-4"
         ],
         "y": [
          null,
          null,
          0
         ]
        },
        {
         "line": {
          "dash": "longdashdot"
         },
         "name": "内部沟通(范旭宁)",
         "type": "scatter",
         "uid": "c79d3574-dbfd-11e8-8ddb-a41f72875c19",
         "x": [
          "10-2",
          "10-3",
          "10-4"
         ],
         "y": [
          0,
          0,
          0
         ]
        },
        {
         "line": {
          "dash": "solid"
         },
         "name": "内部沟通(段利强)",
         "type": "scatter",
         "uid": "c79d3575-dbfd-11e8-8ddb-a41f72875c19",
         "x": [
          "10-2",
          "10-3",
          "10-4"
         ],
         "y": [
          0,
          null,
          null
         ]
        },
        {
         "line": {
          "dash": "dot"
         },
         "name": "内部沟通(姚盟成)",
         "type": "scatter",
         "uid": "c79d3576-dbfd-11e8-8ddb-a41f72875c19",
         "x": [
          "10-2",
          "10-3",
          "10-4"
         ],
         "y": [
          0,
          0,
          4
         ]
        },
        {
         "line": {
          "dash": "dash"
         },
         "name": "内部沟通(杨伟飞)",
         "type": "scatter",
         "uid": "c79d3577-dbfd-11e8-8ddb-a41f72875c19",
         "x": [
          "10-2",
          "10-3",
          "10-4"
         ],
         "y": [
          0,
          0,
          0
         ]
        },
        {
         "line": {
          "dash": "longdash"
         },
         "name": "内部沟通(刘江)",
         "type": "scatter",
         "uid": "c79d3578-dbfd-11e8-8ddb-a41f72875c19",
         "x": [
          "10-2",
          "10-3",
          "10-4"
         ],
         "y": [
          0,
          0,
          0
         ]
        },
        {
         "line": {
          "dash": "dashdot"
         },
         "name": "内部沟通(苏彦勋)",
         "type": "scatter",
         "uid": "c79d3579-dbfd-11e8-8ddb-a41f72875c19",
         "x": [
          "10-2",
          "10-3",
          "10-4"
         ],
         "y": [
          null,
          0,
          0
         ]
        },
        {
         "line": {
          "dash": "longdashdot"
         },
         "name": "内部沟通(周杨)",
         "type": "scatter",
         "uid": "c79d357a-dbfd-11e8-8ddb-a41f72875c19",
         "x": [
          "10-2",
          "10-3",
          "10-4"
         ],
         "y": [
          0,
          0,
          2
         ]
        },
        {
         "line": {
          "dash": "solid"
         },
         "name": "内部沟通(占伟)",
         "type": "scatter",
         "uid": "c79d357b-dbfd-11e8-8ddb-a41f72875c19",
         "x": [
          "10-2",
          "10-3",
          "10-4"
         ],
         "y": [
          0,
          0,
          0
         ]
        },
        {
         "line": {
          "dash": "dot"
         },
         "name": "内部沟通(封彦杰)",
         "type": "scatter",
         "uid": "c79d357c-dbfd-11e8-8ddb-a41f72875c19",
         "x": [
          "10-2",
          "10-3",
          "10-4"
         ],
         "y": [
          0,
          0,
          0
         ]
        },
        {
         "line": {
          "dash": "dash"
         },
         "name": "内部沟通(刘三阳)",
         "type": "scatter",
         "uid": "c79d357d-dbfd-11e8-8ddb-a41f72875c19",
         "x": [
          "10-2",
          "10-3",
          "10-4"
         ],
         "y": [
          null,
          0,
          null
         ]
        },
        {
         "line": {
          "dash": "longdash"
         },
         "name": "内部沟通(昶吉阳)",
         "type": "scatter",
         "uid": "c79d357e-dbfd-11e8-8ddb-a41f72875c19",
         "x": [
          "10-2",
          "10-3",
          "10-4"
         ],
         "y": [
          null,
          0,
          0
         ]
        },
        {
         "line": {
          "dash": "dashdot"
         },
         "name": "内部沟通(任雪)",
         "type": "scatter",
         "uid": "c79d357f-dbfd-11e8-8ddb-a41f72875c19",
         "x": [
          "10-2",
          "10-3",
          "10-4"
         ],
         "y": [
          0,
          0,
          0
         ]
        },
        {
         "line": {
          "dash": "longdashdot"
         },
         "name": "内部沟通(李庆原)",
         "type": "scatter",
         "uid": "c79d3580-dbfd-11e8-8ddb-a41f72875c19",
         "x": [
          "10-2",
          "10-3",
          "10-4"
         ],
         "y": [
          0,
          0,
          1
         ]
        },
        {
         "line": {
          "dash": "solid"
         },
         "name": "内部沟通(谢德健)",
         "type": "scatter",
         "uid": "c79d3581-dbfd-11e8-8ddb-a41f72875c19",
         "x": [
          "10-2",
          "10-3",
          "10-4"
         ],
         "y": [
          0,
          0,
          0
         ]
        },
        {
         "line": {
          "dash": "dot"
         },
         "name": "内部沟通(林文文)",
         "type": "scatter",
         "uid": "c79d3582-dbfd-11e8-8ddb-a41f72875c19",
         "x": [
          "10-2",
          "10-3",
          "10-4"
         ],
         "y": [
          null,
          null,
          0
         ]
        },
        {
         "line": {
          "dash": "dash"
         },
         "name": "内部沟通(王红)",
         "type": "scatter",
         "uid": "c79d3583-dbfd-11e8-8ddb-a41f72875c19",
         "x": [
          "10-2",
          "10-3",
          "10-4"
         ],
         "y": [
          null,
          null,
          0
         ]
        },
        {
         "line": {
          "dash": "solid"
         },
         "name": "市场支持(赵玥)",
         "type": "scatter",
         "uid": "c79d3584-dbfd-11e8-8ddb-a41f72875c19",
         "x": [
          "10-2",
          "10-3",
          "10-4"
         ],
         "y": [
          0,
          0,
          0
         ]
        },
        {
         "line": {
          "dash": "dot"
         },
         "name": "市场支持(于勇一)",
         "type": "scatter",
         "uid": "c79d3585-dbfd-11e8-8ddb-a41f72875c19",
         "x": [
          "10-2",
          "10-3",
          "10-4"
         ],
         "y": [
          0,
          0,
          0
         ]
        },
        {
         "line": {
          "dash": "dash"
         },
         "name": "市场支持(张守伟)",
         "type": "scatter",
         "uid": "c79d3586-dbfd-11e8-8ddb-a41f72875c19",
         "x": [
          "10-2",
          "10-3",
          "10-4"
         ],
         "y": [
          0,
          0,
          0
         ]
        },
        {
         "line": {
          "dash": "longdash"
         },
         "name": "市场支持(冯敬岩)",
         "type": "scatter",
         "uid": "c79d3587-dbfd-11e8-8ddb-a41f72875c19",
         "x": [
          "10-2",
          "10-3",
          "10-4"
         ],
         "y": [
          null,
          null,
          0
         ]
        },
        {
         "line": {
          "dash": "dashdot"
         },
         "name": "市场支持(路慧萍)",
         "type": "scatter",
         "uid": "c79d3588-dbfd-11e8-8ddb-a41f72875c19",
         "x": [
          "10-2",
          "10-3",
          "10-4"
         ],
         "y": [
          0,
          0,
          0
         ]
        },
        {
         "line": {
          "dash": "longdashdot"
         },
         "name": "市场支持(陈鹏燕)",
         "type": "scatter",
         "uid": "c79d3589-dbfd-11e8-8ddb-a41f72875c19",
         "x": [
          "10-2",
          "10-3",
          "10-4"
         ],
         "y": [
          null,
          0,
          0
         ]
        },
        {
         "line": {
          "dash": "solid"
         },
         "name": "市场支持(马潇)",
         "type": "scatter",
         "uid": "c79d358a-dbfd-11e8-8ddb-a41f72875c19",
         "x": [
          "10-2",
          "10-3",
          "10-4"
         ],
         "y": [
          0,
          0,
          0
         ]
        },
        {
         "line": {
          "dash": "dot"
         },
         "name": "市场支持(车天栋)",
         "type": "scatter",
         "uid": "c79d358b-dbfd-11e8-8ddb-a41f72875c19",
         "x": [
          "10-2",
          "10-3",
          "10-4"
         ],
         "y": [
          null,
          null,
          0
         ]
        },
        {
         "line": {
          "dash": "dash"
         },
         "name": "市场支持(沈恩惠)",
         "type": "scatter",
         "uid": "c79d358c-dbfd-11e8-8ddb-a41f72875c19",
         "x": [
          "10-2",
          "10-3",
          "10-4"
         ],
         "y": [
          null,
          null,
          0
         ]
        },
        {
         "line": {
          "dash": "longdash"
         },
         "name": "市场支持(孟昊)",
         "type": "scatter",
         "uid": "c79d358d-dbfd-11e8-8ddb-a41f72875c19",
         "x": [
          "10-2",
          "10-3",
          "10-4"
         ],
         "y": [
          0,
          0,
          0
         ]
        },
        {
         "line": {
          "dash": "dashdot"
         },
         "name": "市场支持(于慧)",
         "type": "scatter",
         "uid": "c79d358e-dbfd-11e8-8ddb-a41f72875c19",
         "x": [
          "10-2",
          "10-3",
          "10-4"
         ],
         "y": [
          0,
          0,
          0
         ]
        },
        {
         "line": {
          "dash": "longdashdot"
         },
         "name": "市场支持(屈昂)",
         "type": "scatter",
         "uid": "c79d358f-dbfd-11e8-8ddb-a41f72875c19",
         "x": [
          "10-2",
          "10-3",
          "10-4"
         ],
         "y": [
          0,
          null,
          0
         ]
        },
        {
         "line": {
          "dash": "solid"
         },
         "name": "市场支持(冷雪)",
         "type": "scatter",
         "uid": "c79d3590-dbfd-11e8-8ddb-a41f72875c19",
         "x": [
          "10-2",
          "10-3",
          "10-4"
         ],
         "y": [
          0,
          null,
          0
         ]
        },
        {
         "line": {
          "dash": "dot"
         },
         "name": "市场支持(韩少怀)",
         "type": "scatter",
         "uid": "c79d3591-dbfd-11e8-8ddb-a41f72875c19",
         "x": [
          "10-2",
          "10-3",
          "10-4"
         ],
         "y": [
          0,
          0,
          0
         ]
        },
        {
         "line": {
          "dash": "dash"
         },
         "name": "市场支持(涂成芳)",
         "type": "scatter",
         "uid": "c79d3592-dbfd-11e8-8ddb-a41f72875c19",
         "x": [
          "10-2",
          "10-3",
          "10-4"
         ],
         "y": [
          null,
          null,
          0
         ]
        },
        {
         "line": {
          "dash": "longdash"
         },
         "name": "市场支持(张悦)",
         "type": "scatter",
         "uid": "c79d3593-dbfd-11e8-8ddb-a41f72875c19",
         "x": [
          "10-2",
          "10-3",
          "10-4"
         ],
         "y": [
          null,
          null,
          0
         ]
        },
        {
         "line": {
          "dash": "dashdot"
         },
         "name": "市场支持(李华云)",
         "type": "scatter",
         "uid": "c79d3594-dbfd-11e8-8ddb-a41f72875c19",
         "x": [
          "10-2",
          "10-3",
          "10-4"
         ],
         "y": [
          null,
          null,
          0
         ]
        },
        {
         "line": {
          "dash": "longdashdot"
         },
         "name": "市场支持(范旭宁)",
         "type": "scatter",
         "uid": "c79d3595-dbfd-11e8-8ddb-a41f72875c19",
         "x": [
          "10-2",
          "10-3",
          "10-4"
         ],
         "y": [
          0,
          0,
          0
         ]
        },
        {
         "line": {
          "dash": "solid"
         },
         "name": "市场支持(段利强)",
         "type": "scatter",
         "uid": "c79d3596-dbfd-11e8-8ddb-a41f72875c19",
         "x": [
          "10-2",
          "10-3",
          "10-4"
         ],
         "y": [
          0,
          null,
          null
         ]
        },
        {
         "line": {
          "dash": "dot"
         },
         "name": "市场支持(姚盟成)",
         "type": "scatter",
         "uid": "c79d3597-dbfd-11e8-8ddb-a41f72875c19",
         "x": [
          "10-2",
          "10-3",
          "10-4"
         ],
         "y": [
          0,
          1,
          0
         ]
        },
        {
         "line": {
          "dash": "dash"
         },
         "name": "市场支持(杨伟飞)",
         "type": "scatter",
         "uid": "c79d3598-dbfd-11e8-8ddb-a41f72875c19",
         "x": [
          "10-2",
          "10-3",
          "10-4"
         ],
         "y": [
          0,
          1,
          0
         ]
        },
        {
         "line": {
          "dash": "longdash"
         },
         "name": "市场支持(刘江)",
         "type": "scatter",
         "uid": "c79d3599-dbfd-11e8-8ddb-a41f72875c19",
         "x": [
          "10-2",
          "10-3",
          "10-4"
         ],
         "y": [
          0,
          1,
          0
         ]
        },
        {
         "line": {
          "dash": "dashdot"
         },
         "name": "市场支持(苏彦勋)",
         "type": "scatter",
         "uid": "c79d359a-dbfd-11e8-8ddb-a41f72875c19",
         "x": [
          "10-2",
          "10-3",
          "10-4"
         ],
         "y": [
          null,
          0,
          0
         ]
        },
        {
         "line": {
          "dash": "longdashdot"
         },
         "name": "市场支持(周杨)",
         "type": "scatter",
         "uid": "c79d359b-dbfd-11e8-8ddb-a41f72875c19",
         "x": [
          "10-2",
          "10-3",
          "10-4"
         ],
         "y": [
          0,
          0,
          0
         ]
        },
        {
         "line": {
          "dash": "solid"
         },
         "name": "市场支持(占伟)",
         "type": "scatter",
         "uid": "c79d359c-dbfd-11e8-8ddb-a41f72875c19",
         "x": [
          "10-2",
          "10-3",
          "10-4"
         ],
         "y": [
          0,
          1,
          0
         ]
        },
        {
         "line": {
          "dash": "dot"
         },
         "name": "市场支持(封彦杰)",
         "type": "scatter",
         "uid": "c79d359d-dbfd-11e8-8ddb-a41f72875c19",
         "x": [
          "10-2",
          "10-3",
          "10-4"
         ],
         "y": [
          0,
          0,
          0
         ]
        },
        {
         "line": {
          "dash": "dash"
         },
         "name": "市场支持(刘三阳)",
         "type": "scatter",
         "uid": "c79d359e-dbfd-11e8-8ddb-a41f72875c19",
         "x": [
          "10-2",
          "10-3",
          "10-4"
         ],
         "y": [
          null,
          0,
          null
         ]
        },
        {
         "line": {
          "dash": "longdash"
         },
         "name": "市场支持(昶吉阳)",
         "type": "scatter",
         "uid": "c79d359f-dbfd-11e8-8ddb-a41f72875c19",
         "x": [
          "10-2",
          "10-3",
          "10-4"
         ],
         "y": [
          null,
          0,
          0
         ]
        },
        {
         "line": {
          "dash": "dashdot"
         },
         "name": "市场支持(任雪)",
         "type": "scatter",
         "uid": "c79d35a0-dbfd-11e8-8ddb-a41f72875c19",
         "x": [
          "10-2",
          "10-3",
          "10-4"
         ],
         "y": [
          0,
          1,
          0
         ]
        },
        {
         "line": {
          "dash": "longdashdot"
         },
         "name": "市场支持(李庆原)",
         "type": "scatter",
         "uid": "c79d35a1-dbfd-11e8-8ddb-a41f72875c19",
         "x": [
          "10-2",
          "10-3",
          "10-4"
         ],
         "y": [
          0,
          0,
          0
         ]
        },
        {
         "line": {
          "dash": "solid"
         },
         "name": "市场支持(谢德健)",
         "type": "scatter",
         "uid": "c79d35a2-dbfd-11e8-8ddb-a41f72875c19",
         "x": [
          "10-2",
          "10-3",
          "10-4"
         ],
         "y": [
          0,
          0,
          0
         ]
        },
        {
         "line": {
          "dash": "dot"
         },
         "name": "市场支持(林文文)",
         "type": "scatter",
         "uid": "c79d35a3-dbfd-11e8-8ddb-a41f72875c19",
         "x": [
          "10-2",
          "10-3",
          "10-4"
         ],
         "y": [
          null,
          null,
          0
         ]
        },
        {
         "line": {
          "dash": "dash"
         },
         "name": "市场支持(王红)",
         "type": "scatter",
         "uid": "c79d35a4-dbfd-11e8-8ddb-a41f72875c19",
         "x": [
          "10-2",
          "10-3",
          "10-4"
         ],
         "y": [
          null,
          null,
          0
         ]
        },
        {
         "line": {
          "dash": "solid"
         },
         "name": "出差(赵玥)",
         "type": "scatter",
         "uid": "c79d35a5-dbfd-11e8-8ddb-a41f72875c19",
         "x": [
          "10-2",
          "10-3",
          "10-4"
         ],
         "y": [
          0,
          0,
          0
         ]
        },
        {
         "line": {
          "dash": "dot"
         },
         "name": "出差(于勇一)",
         "type": "scatter",
         "uid": "c79d35a6-dbfd-11e8-8ddb-a41f72875c19",
         "x": [
          "10-2",
          "10-3",
          "10-4"
         ],
         "y": [
          0,
          0,
          0
         ]
        },
        {
         "line": {
          "dash": "dash"
         },
         "name": "出差(张守伟)",
         "type": "scatter",
         "uid": "c79d35a7-dbfd-11e8-8ddb-a41f72875c19",
         "x": [
          "10-2",
          "10-3",
          "10-4"
         ],
         "y": [
          0,
          0,
          0
         ]
        },
        {
         "line": {
          "dash": "longdash"
         },
         "name": "出差(冯敬岩)",
         "type": "scatter",
         "uid": "c79d35a8-dbfd-11e8-8ddb-a41f72875c19",
         "x": [
          "10-2",
          "10-3",
          "10-4"
         ],
         "y": [
          null,
          null,
          0
         ]
        },
        {
         "line": {
          "dash": "dashdot"
         },
         "name": "出差(路慧萍)",
         "type": "scatter",
         "uid": "c79d35a9-dbfd-11e8-8ddb-a41f72875c19",
         "x": [
          "10-2",
          "10-3",
          "10-4"
         ],
         "y": [
          0,
          0,
          0
         ]
        },
        {
         "line": {
          "dash": "longdashdot"
         },
         "name": "出差(陈鹏燕)",
         "type": "scatter",
         "uid": "c79d35aa-dbfd-11e8-8ddb-a41f72875c19",
         "x": [
          "10-2",
          "10-3",
          "10-4"
         ],
         "y": [
          null,
          0,
          0
         ]
        },
        {
         "line": {
          "dash": "solid"
         },
         "name": "出差(马潇)",
         "type": "scatter",
         "uid": "c79d35ab-dbfd-11e8-8ddb-a41f72875c19",
         "x": [
          "10-2",
          "10-3",
          "10-4"
         ],
         "y": [
          0,
          0,
          1
         ]
        },
        {
         "line": {
          "dash": "dot"
         },
         "name": "出差(车天栋)",
         "type": "scatter",
         "uid": "c79d35ac-dbfd-11e8-8ddb-a41f72875c19",
         "x": [
          "10-2",
          "10-3",
          "10-4"
         ],
         "y": [
          null,
          null,
          0
         ]
        },
        {
         "line": {
          "dash": "dash"
         },
         "name": "出差(沈恩惠)",
         "type": "scatter",
         "uid": "c79d35ad-dbfd-11e8-8ddb-a41f72875c19",
         "x": [
          "10-2",
          "10-3",
          "10-4"
         ],
         "y": [
          null,
          null,
          0
         ]
        },
        {
         "line": {
          "dash": "longdash"
         },
         "name": "出差(孟昊)",
         "type": "scatter",
         "uid": "c79d35ae-dbfd-11e8-8ddb-a41f72875c19",
         "x": [
          "10-2",
          "10-3",
          "10-4"
         ],
         "y": [
          0,
          0,
          0
         ]
        },
        {
         "line": {
          "dash": "dashdot"
         },
         "name": "出差(于慧)",
         "type": "scatter",
         "uid": "c79d35af-dbfd-11e8-8ddb-a41f72875c19",
         "x": [
          "10-2",
          "10-3",
          "10-4"
         ],
         "y": [
          0,
          0,
          0
         ]
        },
        {
         "line": {
          "dash": "longdashdot"
         },
         "name": "出差(屈昂)",
         "type": "scatter",
         "uid": "c79d35b0-dbfd-11e8-8ddb-a41f72875c19",
         "x": [
          "10-2",
          "10-3",
          "10-4"
         ],
         "y": [
          0,
          null,
          0
         ]
        },
        {
         "line": {
          "dash": "solid"
         },
         "name": "出差(冷雪)",
         "type": "scatter",
         "uid": "c79d35b1-dbfd-11e8-8ddb-a41f72875c19",
         "x": [
          "10-2",
          "10-3",
          "10-4"
         ],
         "y": [
          0,
          null,
          0
         ]
        },
        {
         "line": {
          "dash": "dot"
         },
         "name": "出差(韩少怀)",
         "type": "scatter",
         "uid": "c79d35b2-dbfd-11e8-8ddb-a41f72875c19",
         "x": [
          "10-2",
          "10-3",
          "10-4"
         ],
         "y": [
          0,
          0,
          0
         ]
        },
        {
         "line": {
          "dash": "dash"
         },
         "name": "出差(涂成芳)",
         "type": "scatter",
         "uid": "c79d35b3-dbfd-11e8-8ddb-a41f72875c19",
         "x": [
          "10-2",
          "10-3",
          "10-4"
         ],
         "y": [
          null,
          null,
          0
         ]
        },
        {
         "line": {
          "dash": "longdash"
         },
         "name": "出差(张悦)",
         "type": "scatter",
         "uid": "c79d35b4-dbfd-11e8-8ddb-a41f72875c19",
         "x": [
          "10-2",
          "10-3",
          "10-4"
         ],
         "y": [
          null,
          null,
          0
         ]
        },
        {
         "line": {
          "dash": "dashdot"
         },
         "name": "出差(李华云)",
         "type": "scatter",
         "uid": "c79d35b5-dbfd-11e8-8ddb-a41f72875c19",
         "x": [
          "10-2",
          "10-3",
          "10-4"
         ],
         "y": [
          null,
          null,
          0
         ]
        },
        {
         "line": {
          "dash": "longdashdot"
         },
         "name": "出差(范旭宁)",
         "type": "scatter",
         "uid": "c79d35b6-dbfd-11e8-8ddb-a41f72875c19",
         "x": [
          "10-2",
          "10-3",
          "10-4"
         ],
         "y": [
          0,
          0,
          0
         ]
        },
        {
         "line": {
          "dash": "solid"
         },
         "name": "出差(段利强)",
         "type": "scatter",
         "uid": "c79d35b7-dbfd-11e8-8ddb-a41f72875c19",
         "x": [
          "10-2",
          "10-3",
          "10-4"
         ],
         "y": [
          0,
          null,
          null
         ]
        },
        {
         "line": {
          "dash": "dot"
         },
         "name": "出差(姚盟成)",
         "type": "scatter",
         "uid": "c79d35b8-dbfd-11e8-8ddb-a41f72875c19",
         "x": [
          "10-2",
          "10-3",
          "10-4"
         ],
         "y": [
          0,
          1,
          0
         ]
        },
        {
         "line": {
          "dash": "dash"
         },
         "name": "出差(杨伟飞)",
         "type": "scatter",
         "uid": "c79d35b9-dbfd-11e8-8ddb-a41f72875c19",
         "x": [
          "10-2",
          "10-3",
          "10-4"
         ],
         "y": [
          0,
          1,
          0
         ]
        },
        {
         "line": {
          "dash": "longdash"
         },
         "name": "出差(刘江)",
         "type": "scatter",
         "uid": "c79d35ba-dbfd-11e8-8ddb-a41f72875c19",
         "x": [
          "10-2",
          "10-3",
          "10-4"
         ],
         "y": [
          0,
          1,
          0
         ]
        },
        {
         "line": {
          "dash": "dashdot"
         },
         "name": "出差(苏彦勋)",
         "type": "scatter",
         "uid": "c79d35bb-dbfd-11e8-8ddb-a41f72875c19",
         "x": [
          "10-2",
          "10-3",
          "10-4"
         ],
         "y": [
          null,
          0,
          1
         ]
        },
        {
         "line": {
          "dash": "longdashdot"
         },
         "name": "出差(周杨)",
         "type": "scatter",
         "uid": "c79d35bc-dbfd-11e8-8ddb-a41f72875c19",
         "x": [
          "10-2",
          "10-3",
          "10-4"
         ],
         "y": [
          0,
          0,
          0
         ]
        },
        {
         "line": {
          "dash": "solid"
         },
         "name": "出差(占伟)",
         "type": "scatter",
         "uid": "c79d35bd-dbfd-11e8-8ddb-a41f72875c19",
         "x": [
          "10-2",
          "10-3",
          "10-4"
         ],
         "y": [
          0,
          0,
          0
         ]
        },
        {
         "line": {
          "dash": "dot"
         },
         "name": "出差(封彦杰)",
         "type": "scatter",
         "uid": "c79d35be-dbfd-11e8-8ddb-a41f72875c19",
         "x": [
          "10-2",
          "10-3",
          "10-4"
         ],
         "y": [
          0,
          0,
          0
         ]
        },
        {
         "line": {
          "dash": "dash"
         },
         "name": "出差(刘三阳)",
         "type": "scatter",
         "uid": "c79d35bf-dbfd-11e8-8ddb-a41f72875c19",
         "x": [
          "10-2",
          "10-3",
          "10-4"
         ],
         "y": [
          null,
          0,
          null
         ]
        },
        {
         "line": {
          "dash": "longdash"
         },
         "name": "出差(昶吉阳)",
         "type": "scatter",
         "uid": "c79d35c0-dbfd-11e8-8ddb-a41f72875c19",
         "x": [
          "10-2",
          "10-3",
          "10-4"
         ],
         "y": [
          null,
          0,
          0
         ]
        },
        {
         "line": {
          "dash": "dashdot"
         },
         "name": "出差(任雪)",
         "type": "scatter",
         "uid": "c79d35c1-dbfd-11e8-8ddb-a41f72875c19",
         "x": [
          "10-2",
          "10-3",
          "10-4"
         ],
         "y": [
          0,
          1,
          0
         ]
        },
        {
         "line": {
          "dash": "longdashdot"
         },
         "name": "出差(李庆原)",
         "type": "scatter",
         "uid": "c79d35c2-dbfd-11e8-8ddb-a41f72875c19",
         "x": [
          "10-2",
          "10-3",
          "10-4"
         ],
         "y": [
          0,
          0,
          0
         ]
        },
        {
         "line": {
          "dash": "solid"
         },
         "name": "出差(谢德健)",
         "type": "scatter",
         "uid": "c79d35c3-dbfd-11e8-8ddb-a41f72875c19",
         "x": [
          "10-2",
          "10-3",
          "10-4"
         ],
         "y": [
          0,
          0,
          0
         ]
        },
        {
         "line": {
          "dash": "dot"
         },
         "name": "出差(林文文)",
         "type": "scatter",
         "uid": "c79d35c4-dbfd-11e8-8ddb-a41f72875c19",
         "x": [
          "10-2",
          "10-3",
          "10-4"
         ],
         "y": [
          null,
          null,
          0
         ]
        },
        {
         "line": {
          "dash": "dash"
         },
         "name": "出差(王红)",
         "type": "scatter",
         "uid": "c79d35c5-dbfd-11e8-8ddb-a41f72875c19",
         "x": [
          "10-2",
          "10-3",
          "10-4"
         ],
         "y": [
          null,
          null,
          0
         ]
        }
       ],
       "layout": {
        "title": "禅道bug&内部沟通&市场支持&出差周趋势图",
        "xaxis": {
         "mirror": "all",
         "nticks": 20,
         "showgrid": true,
         "showline": true,
         "title": "周",
         "type": "category",
         "zeroline": true
        },
        "yaxis": {
         "mirror": "all",
         "nticks": 20,
         "showgrid": true,
         "showline": true,
         "title": "禅道bug&内部沟通&市场支持&出差",
         "zeroline": true
        }
       }
      },
      "text/html": [
       "<div id=\"bc0dd5ad-c9df-4f8e-94fb-e46868c6153d\" style=\"height: 525px; width: 100%;\" class=\"plotly-graph-div\"></div><script type=\"text/javascript\">require([\"plotly\"], function(Plotly) { window.PLOTLYENV=window.PLOTLYENV || {};window.PLOTLYENV.BASE_URL=\"https://plot.ly\";Plotly.newPlot(\"bc0dd5ad-c9df-4f8e-94fb-e46868c6153d\", [{\"line\": {\"dash\": \"solid\"}, \"name\": \"\\u7985\\u9053bug(\\u8d75\\u73a5)\", \"x\": [\"10-2\", \"10-3\", \"10-4\"], \"y\": [0.0, 0.0, 0.0], \"type\": \"scatter\", \"uid\": \"c79d3542-dbfd-11e8-8ddb-a41f72875c19\"}, {\"line\": {\"dash\": \"dot\"}, \"name\": \"\\u7985\\u9053bug(\\u4e8e\\u52c7\\u4e00)\", \"x\": [\"10-2\", \"10-3\", \"10-4\"], \"y\": [0.0, 0.0, 0.0], \"type\": \"scatter\", \"uid\": \"c79d3543-dbfd-11e8-8ddb-a41f72875c19\"}, {\"line\": {\"dash\": \"dash\"}, \"name\": \"\\u7985\\u9053bug(\\u5f20\\u5b88\\u4f1f)\", \"x\": [\"10-2\", \"10-3\", \"10-4\"], \"y\": [0.0, 0.0, 0.0], \"type\": \"scatter\", \"uid\": \"c79d3544-dbfd-11e8-8ddb-a41f72875c19\"}, {\"line\": {\"dash\": \"longdash\"}, \"name\": \"\\u7985\\u9053bug(\\u51af\\u656c\\u5ca9)\", \"x\": [\"10-2\", \"10-3\", \"10-4\"], \"y\": [null, null, 0.0], \"type\": \"scatter\", \"uid\": \"c79d3545-dbfd-11e8-8ddb-a41f72875c19\"}, {\"line\": {\"dash\": \"dashdot\"}, \"name\": \"\\u7985\\u9053bug(\\u8def\\u6167\\u840d)\", \"x\": [\"10-2\", \"10-3\", \"10-4\"], \"y\": [0.0, 0.0, 0.0], \"type\": \"scatter\", \"uid\": \"c79d3546-dbfd-11e8-8ddb-a41f72875c19\"}, {\"line\": {\"dash\": \"longdashdot\"}, \"name\": \"\\u7985\\u9053bug(\\u9648\\u9e4f\\u71d5)\", \"x\": [\"10-2\", \"10-3\", \"10-4\"], \"y\": [null, 0.0, 0.0], \"type\": \"scatter\", \"uid\": \"c79d3547-dbfd-11e8-8ddb-a41f72875c19\"}, {\"line\": {\"dash\": \"solid\"}, \"name\": \"\\u7985\\u9053bug(\\u9a6c\\u6f47)\", \"x\": [\"10-2\", \"10-3\", \"10-4\"], \"y\": [0.0, 0.0, 0.0], \"type\": \"scatter\", \"uid\": \"c79d3548-dbfd-11e8-8ddb-a41f72875c19\"}, {\"line\": {\"dash\": \"dot\"}, \"name\": \"\\u7985\\u9053bug(\\u8f66\\u5929\\u680b)\", \"x\": [\"10-2\", \"10-3\", \"10-4\"], \"y\": [null, null, 0.0], \"type\": \"scatter\", \"uid\": \"c79d3549-dbfd-11e8-8ddb-a41f72875c19\"}, {\"line\": {\"dash\": \"dash\"}, \"name\": \"\\u7985\\u9053bug(\\u6c88\\u6069\\u60e0)\", \"x\": [\"10-2\", \"10-3\", \"10-4\"], \"y\": [null, null, 0.0], \"type\": \"scatter\", \"uid\": \"c79d354a-dbfd-11e8-8ddb-a41f72875c19\"}, {\"line\": {\"dash\": \"longdash\"}, \"name\": \"\\u7985\\u9053bug(\\u5b5f\\u660a)\", \"x\": [\"10-2\", \"10-3\", \"10-4\"], \"y\": [0.0, 0.0, 0.0], \"type\": \"scatter\", \"uid\": \"c79d354b-dbfd-11e8-8ddb-a41f72875c19\"}, {\"line\": {\"dash\": \"dashdot\"}, \"name\": \"\\u7985\\u9053bug(\\u4e8e\\u6167)\", \"x\": [\"10-2\", \"10-3\", \"10-4\"], \"y\": [0.0, 0.0, 0.0], \"type\": \"scatter\", \"uid\": \"c79d354c-dbfd-11e8-8ddb-a41f72875c19\"}, {\"line\": {\"dash\": \"longdashdot\"}, \"name\": \"\\u7985\\u9053bug(\\u5c48\\u6602)\", \"x\": [\"10-2\", \"10-3\", \"10-4\"], \"y\": [0.0, null, 0.0], \"type\": \"scatter\", \"uid\": \"c79d354d-dbfd-11e8-8ddb-a41f72875c19\"}, {\"line\": {\"dash\": \"solid\"}, \"name\": \"\\u7985\\u9053bug(\\u51b7\\u96ea)\", \"x\": [\"10-2\", \"10-3\", \"10-4\"], \"y\": [0.0, null, 0.0], \"type\": \"scatter\", \"uid\": \"c79d354e-dbfd-11e8-8ddb-a41f72875c19\"}, {\"line\": {\"dash\": \"dot\"}, \"name\": \"\\u7985\\u9053bug(\\u97e9\\u5c11\\u6000)\", \"x\": [\"10-2\", \"10-3\", \"10-4\"], \"y\": [0.0, 0.0, 0.0], \"type\": \"scatter\", \"uid\": \"c79d354f-dbfd-11e8-8ddb-a41f72875c19\"}, {\"line\": {\"dash\": \"dash\"}, \"name\": \"\\u7985\\u9053bug(\\u6d82\\u6210\\u82b3)\", \"x\": [\"10-2\", \"10-3\", \"10-4\"], \"y\": [null, null, 0.0], \"type\": \"scatter\", \"uid\": \"c79d3550-dbfd-11e8-8ddb-a41f72875c19\"}, {\"line\": {\"dash\": \"longdash\"}, \"name\": \"\\u7985\\u9053bug(\\u5f20\\u60a6)\", \"x\": [\"10-2\", \"10-3\", \"10-4\"], \"y\": [null, null, 0.0], \"type\": \"scatter\", \"uid\": \"c79d3551-dbfd-11e8-8ddb-a41f72875c19\"}, {\"line\": {\"dash\": \"dashdot\"}, \"name\": \"\\u7985\\u9053bug(\\u674e\\u534e\\u4e91)\", \"x\": [\"10-2\", \"10-3\", \"10-4\"], \"y\": [null, null, 0.0], \"type\": \"scatter\", \"uid\": \"c79d3552-dbfd-11e8-8ddb-a41f72875c19\"}, {\"line\": {\"dash\": \"longdashdot\"}, \"name\": \"\\u7985\\u9053bug(\\u8303\\u65ed\\u5b81)\", \"x\": [\"10-2\", \"10-3\", \"10-4\"], \"y\": [0.0, 0.0, 0.0], \"type\": \"scatter\", \"uid\": \"c79d3553-dbfd-11e8-8ddb-a41f72875c19\"}, {\"line\": {\"dash\": \"solid\"}, \"name\": \"\\u7985\\u9053bug(\\u6bb5\\u5229\\u5f3a)\", \"x\": [\"10-2\", \"10-3\", \"10-4\"], \"y\": [0.0, null, null], \"type\": \"scatter\", \"uid\": \"c79d3554-dbfd-11e8-8ddb-a41f72875c19\"}, {\"line\": {\"dash\": \"dot\"}, \"name\": \"\\u7985\\u9053bug(\\u59da\\u76df\\u6210)\", \"x\": [\"10-2\", \"10-3\", \"10-4\"], \"y\": [0.0, 1.0, 1.0], \"type\": \"scatter\", \"uid\": \"c79d3555-dbfd-11e8-8ddb-a41f72875c19\"}, {\"line\": {\"dash\": \"dash\"}, \"name\": \"\\u7985\\u9053bug(\\u6768\\u4f1f\\u98de)\", \"x\": [\"10-2\", \"10-3\", \"10-4\"], \"y\": [0.0, 0.0, 0.0], \"type\": \"scatter\", \"uid\": \"c79d3556-dbfd-11e8-8ddb-a41f72875c19\"}, {\"line\": {\"dash\": \"longdash\"}, \"name\": \"\\u7985\\u9053bug(\\u5218\\u6c5f)\", \"x\": [\"10-2\", \"10-3\", \"10-4\"], \"y\": [0.0, 0.0, 0.0], \"type\": \"scatter\", \"uid\": \"c79d3557-dbfd-11e8-8ddb-a41f72875c19\"}, {\"line\": {\"dash\": \"dashdot\"}, \"name\": \"\\u7985\\u9053bug(\\u82cf\\u5f66\\u52cb)\", \"x\": [\"10-2\", \"10-3\", \"10-4\"], \"y\": [null, 0.0, 0.0], \"type\": \"scatter\", \"uid\": \"c79d3558-dbfd-11e8-8ddb-a41f72875c19\"}, {\"line\": {\"dash\": \"longdashdot\"}, \"name\": \"\\u7985\\u9053bug(\\u5468\\u6768)\", \"x\": [\"10-2\", \"10-3\", \"10-4\"], \"y\": [0.0, 0.0, 0.0], \"type\": \"scatter\", \"uid\": \"c79d3559-dbfd-11e8-8ddb-a41f72875c19\"}, {\"line\": {\"dash\": \"solid\"}, \"name\": \"\\u7985\\u9053bug(\\u5360\\u4f1f)\", \"x\": [\"10-2\", \"10-3\", \"10-4\"], \"y\": [0.0, 0.0, 0.0], \"type\": \"scatter\", \"uid\": \"c79d355a-dbfd-11e8-8ddb-a41f72875c19\"}, {\"line\": {\"dash\": \"dot\"}, \"name\": \"\\u7985\\u9053bug(\\u5c01\\u5f66\\u6770)\", \"x\": [\"10-2\", \"10-3\", \"10-4\"], \"y\": [0.0, 0.0, 0.0], \"type\": \"scatter\", \"uid\": \"c79d355b-dbfd-11e8-8ddb-a41f72875c19\"}, {\"line\": {\"dash\": \"dash\"}, \"name\": \"\\u7985\\u9053bug(\\u5218\\u4e09\\u9633)\", \"x\": [\"10-2\", \"10-3\", \"10-4\"], \"y\": [null, 0.0, null], \"type\": \"scatter\", \"uid\": \"c79d355c-dbfd-11e8-8ddb-a41f72875c19\"}, {\"line\": {\"dash\": \"longdash\"}, \"name\": \"\\u7985\\u9053bug(\\u6636\\u5409\\u9633)\", \"x\": [\"10-2\", \"10-3\", \"10-4\"], \"y\": [null, 0.0, 0.0], \"type\": \"scatter\", \"uid\": \"c79d355d-dbfd-11e8-8ddb-a41f72875c19\"}, {\"line\": {\"dash\": \"dashdot\"}, \"name\": \"\\u7985\\u9053bug(\\u4efb\\u96ea)\", \"x\": [\"10-2\", \"10-3\", \"10-4\"], \"y\": [0.0, 0.0, 0.0], \"type\": \"scatter\", \"uid\": \"c79d355e-dbfd-11e8-8ddb-a41f72875c19\"}, {\"line\": {\"dash\": \"longdashdot\"}, \"name\": \"\\u7985\\u9053bug(\\u674e\\u5e86\\u539f)\", \"x\": [\"10-2\", \"10-3\", \"10-4\"], \"y\": [0.0, 0.0, 0.0], \"type\": \"scatter\", \"uid\": \"c79d355f-dbfd-11e8-8ddb-a41f72875c19\"}, {\"line\": {\"dash\": \"solid\"}, \"name\": \"\\u7985\\u9053bug(\\u8c22\\u5fb7\\u5065)\", \"x\": [\"10-2\", \"10-3\", \"10-4\"], \"y\": [0.0, 0.0, 0.0], \"type\": \"scatter\", \"uid\": \"c79d3560-dbfd-11e8-8ddb-a41f72875c19\"}, {\"line\": {\"dash\": \"dot\"}, \"name\": \"\\u7985\\u9053bug(\\u6797\\u6587\\u6587)\", \"x\": [\"10-2\", \"10-3\", \"10-4\"], \"y\": [null, null, 0.0], \"type\": \"scatter\", \"uid\": \"c79d3561-dbfd-11e8-8ddb-a41f72875c19\"}, {\"line\": {\"dash\": \"dash\"}, \"name\": \"\\u7985\\u9053bug(\\u738b\\u7ea2)\", \"x\": [\"10-2\", \"10-3\", \"10-4\"], \"y\": [null, null, 0.0], \"type\": \"scatter\", \"uid\": \"c79d3562-dbfd-11e8-8ddb-a41f72875c19\"}, {\"line\": {\"dash\": \"solid\"}, \"name\": \"\\u5185\\u90e8\\u6c9f\\u901a(\\u8d75\\u73a5)\", \"x\": [\"10-2\", \"10-3\", \"10-4\"], \"y\": [0.0, 0.0, 0.0], \"type\": \"scatter\", \"uid\": \"c79d3563-dbfd-11e8-8ddb-a41f72875c19\"}, {\"line\": {\"dash\": \"dot\"}, \"name\": \"\\u5185\\u90e8\\u6c9f\\u901a(\\u4e8e\\u52c7\\u4e00)\", \"x\": [\"10-2\", \"10-3\", \"10-4\"], \"y\": [0.0, 0.0, 0.0], \"type\": \"scatter\", \"uid\": \"c79d3564-dbfd-11e8-8ddb-a41f72875c19\"}, {\"line\": {\"dash\": \"dash\"}, \"name\": \"\\u5185\\u90e8\\u6c9f\\u901a(\\u5f20\\u5b88\\u4f1f)\", \"x\": [\"10-2\", \"10-3\", \"10-4\"], \"y\": [0.0, 0.0, 0.0], \"type\": \"scatter\", \"uid\": \"c79d3565-dbfd-11e8-8ddb-a41f72875c19\"}, {\"line\": {\"dash\": \"longdash\"}, \"name\": \"\\u5185\\u90e8\\u6c9f\\u901a(\\u51af\\u656c\\u5ca9)\", \"x\": [\"10-2\", \"10-3\", \"10-4\"], \"y\": [null, null, 0.0], \"type\": \"scatter\", \"uid\": \"c79d3566-dbfd-11e8-8ddb-a41f72875c19\"}, {\"line\": {\"dash\": \"dashdot\"}, \"name\": \"\\u5185\\u90e8\\u6c9f\\u901a(\\u8def\\u6167\\u840d)\", \"x\": [\"10-2\", \"10-3\", \"10-4\"], \"y\": [0.0, 0.0, 0.0], \"type\": \"scatter\", \"uid\": \"c79d3567-dbfd-11e8-8ddb-a41f72875c19\"}, {\"line\": {\"dash\": \"longdashdot\"}, \"name\": \"\\u5185\\u90e8\\u6c9f\\u901a(\\u9648\\u9e4f\\u71d5)\", \"x\": [\"10-2\", \"10-3\", \"10-4\"], \"y\": [null, 0.0, 0.0], \"type\": \"scatter\", \"uid\": \"c79d3568-dbfd-11e8-8ddb-a41f72875c19\"}, {\"line\": {\"dash\": \"solid\"}, \"name\": \"\\u5185\\u90e8\\u6c9f\\u901a(\\u9a6c\\u6f47)\", \"x\": [\"10-2\", \"10-3\", \"10-4\"], \"y\": [0.0, 0.0, 0.0], \"type\": \"scatter\", \"uid\": \"c79d3569-dbfd-11e8-8ddb-a41f72875c19\"}, {\"line\": {\"dash\": \"dot\"}, \"name\": \"\\u5185\\u90e8\\u6c9f\\u901a(\\u8f66\\u5929\\u680b)\", \"x\": [\"10-2\", \"10-3\", \"10-4\"], \"y\": [null, null, 0.0], \"type\": \"scatter\", \"uid\": \"c79d356a-dbfd-11e8-8ddb-a41f72875c19\"}, {\"line\": {\"dash\": \"dash\"}, \"name\": \"\\u5185\\u90e8\\u6c9f\\u901a(\\u6c88\\u6069\\u60e0)\", \"x\": [\"10-2\", \"10-3\", \"10-4\"], \"y\": [null, null, 0.0], \"type\": \"scatter\", \"uid\": \"c79d356b-dbfd-11e8-8ddb-a41f72875c19\"}, {\"line\": {\"dash\": \"longdash\"}, \"name\": \"\\u5185\\u90e8\\u6c9f\\u901a(\\u5b5f\\u660a)\", \"x\": [\"10-2\", \"10-3\", \"10-4\"], \"y\": [0.0, 0.0, 0.0], \"type\": \"scatter\", \"uid\": \"c79d356c-dbfd-11e8-8ddb-a41f72875c19\"}, {\"line\": {\"dash\": \"dashdot\"}, \"name\": \"\\u5185\\u90e8\\u6c9f\\u901a(\\u4e8e\\u6167)\", \"x\": [\"10-2\", \"10-3\", \"10-4\"], \"y\": [0.0, 0.0, 0.0], \"type\": \"scatter\", \"uid\": \"c79d356d-dbfd-11e8-8ddb-a41f72875c19\"}, {\"line\": {\"dash\": \"longdashdot\"}, \"name\": \"\\u5185\\u90e8\\u6c9f\\u901a(\\u5c48\\u6602)\", \"x\": [\"10-2\", \"10-3\", \"10-4\"], \"y\": [0.0, null, 0.0], \"type\": \"scatter\", \"uid\": \"c79d356e-dbfd-11e8-8ddb-a41f72875c19\"}, {\"line\": {\"dash\": \"solid\"}, \"name\": \"\\u5185\\u90e8\\u6c9f\\u901a(\\u51b7\\u96ea)\", \"x\": [\"10-2\", \"10-3\", \"10-4\"], \"y\": [0.0, null, 0.0], \"type\": \"scatter\", \"uid\": \"c79d356f-dbfd-11e8-8ddb-a41f72875c19\"}, {\"line\": {\"dash\": \"dot\"}, \"name\": \"\\u5185\\u90e8\\u6c9f\\u901a(\\u97e9\\u5c11\\u6000)\", \"x\": [\"10-2\", \"10-3\", \"10-4\"], \"y\": [0.0, 0.0, 0.0], \"type\": \"scatter\", \"uid\": \"c79d3570-dbfd-11e8-8ddb-a41f72875c19\"}, {\"line\": {\"dash\": \"dash\"}, \"name\": \"\\u5185\\u90e8\\u6c9f\\u901a(\\u6d82\\u6210\\u82b3)\", \"x\": [\"10-2\", \"10-3\", \"10-4\"], \"y\": [null, null, 0.0], \"type\": \"scatter\", \"uid\": \"c79d3571-dbfd-11e8-8ddb-a41f72875c19\"}, {\"line\": {\"dash\": \"longdash\"}, \"name\": \"\\u5185\\u90e8\\u6c9f\\u901a(\\u5f20\\u60a6)\", \"x\": [\"10-2\", \"10-3\", \"10-4\"], \"y\": [null, null, 0.0], \"type\": \"scatter\", \"uid\": \"c79d3572-dbfd-11e8-8ddb-a41f72875c19\"}, {\"line\": {\"dash\": \"dashdot\"}, \"name\": \"\\u5185\\u90e8\\u6c9f\\u901a(\\u674e\\u534e\\u4e91)\", \"x\": [\"10-2\", \"10-3\", \"10-4\"], \"y\": [null, null, 0.0], \"type\": \"scatter\", \"uid\": \"c79d3573-dbfd-11e8-8ddb-a41f72875c19\"}, {\"line\": {\"dash\": \"longdashdot\"}, \"name\": \"\\u5185\\u90e8\\u6c9f\\u901a(\\u8303\\u65ed\\u5b81)\", \"x\": [\"10-2\", \"10-3\", \"10-4\"], \"y\": [0.0, 0.0, 0.0], \"type\": \"scatter\", \"uid\": \"c79d3574-dbfd-11e8-8ddb-a41f72875c19\"}, {\"line\": {\"dash\": \"solid\"}, \"name\": \"\\u5185\\u90e8\\u6c9f\\u901a(\\u6bb5\\u5229\\u5f3a)\", \"x\": [\"10-2\", \"10-3\", \"10-4\"], \"y\": [0.0, null, null], \"type\": \"scatter\", \"uid\": \"c79d3575-dbfd-11e8-8ddb-a41f72875c19\"}, {\"line\": {\"dash\": \"dot\"}, \"name\": \"\\u5185\\u90e8\\u6c9f\\u901a(\\u59da\\u76df\\u6210)\", \"x\": [\"10-2\", \"10-3\", \"10-4\"], \"y\": [0.0, 0.0, 4.0], \"type\": \"scatter\", \"uid\": \"c79d3576-dbfd-11e8-8ddb-a41f72875c19\"}, {\"line\": {\"dash\": \"dash\"}, \"name\": \"\\u5185\\u90e8\\u6c9f\\u901a(\\u6768\\u4f1f\\u98de)\", \"x\": [\"10-2\", \"10-3\", \"10-4\"], \"y\": [0.0, 0.0, 0.0], \"type\": \"scatter\", \"uid\": \"c79d3577-dbfd-11e8-8ddb-a41f72875c19\"}, {\"line\": {\"dash\": \"longdash\"}, \"name\": \"\\u5185\\u90e8\\u6c9f\\u901a(\\u5218\\u6c5f)\", \"x\": [\"10-2\", \"10-3\", \"10-4\"], \"y\": [0.0, 0.0, 0.0], \"type\": \"scatter\", \"uid\": \"c79d3578-dbfd-11e8-8ddb-a41f72875c19\"}, {\"line\": {\"dash\": \"dashdot\"}, \"name\": \"\\u5185\\u90e8\\u6c9f\\u901a(\\u82cf\\u5f66\\u52cb)\", \"x\": [\"10-2\", \"10-3\", \"10-4\"], \"y\": [null, 0.0, 0.0], \"type\": \"scatter\", \"uid\": \"c79d3579-dbfd-11e8-8ddb-a41f72875c19\"}, {\"line\": {\"dash\": \"longdashdot\"}, \"name\": \"\\u5185\\u90e8\\u6c9f\\u901a(\\u5468\\u6768)\", \"x\": [\"10-2\", \"10-3\", \"10-4\"], \"y\": [0.0, 0.0, 2.0], \"type\": \"scatter\", \"uid\": \"c79d357a-dbfd-11e8-8ddb-a41f72875c19\"}, {\"line\": {\"dash\": \"solid\"}, \"name\": \"\\u5185\\u90e8\\u6c9f\\u901a(\\u5360\\u4f1f)\", \"x\": [\"10-2\", \"10-3\", \"10-4\"], \"y\": [0.0, 0.0, 0.0], \"type\": \"scatter\", \"uid\": \"c79d357b-dbfd-11e8-8ddb-a41f72875c19\"}, {\"line\": {\"dash\": \"dot\"}, \"name\": \"\\u5185\\u90e8\\u6c9f\\u901a(\\u5c01\\u5f66\\u6770)\", \"x\": [\"10-2\", \"10-3\", \"10-4\"], \"y\": [0.0, 0.0, 0.0], \"type\": \"scatter\", \"uid\": \"c79d357c-dbfd-11e8-8ddb-a41f72875c19\"}, {\"line\": {\"dash\": \"dash\"}, \"name\": \"\\u5185\\u90e8\\u6c9f\\u901a(\\u5218\\u4e09\\u9633)\", \"x\": [\"10-2\", \"10-3\", \"10-4\"], \"y\": [null, 0.0, null], \"type\": \"scatter\", \"uid\": \"c79d357d-dbfd-11e8-8ddb-a41f72875c19\"}, {\"line\": {\"dash\": \"longdash\"}, \"name\": \"\\u5185\\u90e8\\u6c9f\\u901a(\\u6636\\u5409\\u9633)\", \"x\": [\"10-2\", \"10-3\", \"10-4\"], \"y\": [null, 0.0, 0.0], \"type\": \"scatter\", \"uid\": \"c79d357e-dbfd-11e8-8ddb-a41f72875c19\"}, {\"line\": {\"dash\": \"dashdot\"}, \"name\": \"\\u5185\\u90e8\\u6c9f\\u901a(\\u4efb\\u96ea)\", \"x\": [\"10-2\", \"10-3\", \"10-4\"], \"y\": [0.0, 0.0, 0.0], \"type\": \"scatter\", \"uid\": \"c79d357f-dbfd-11e8-8ddb-a41f72875c19\"}, {\"line\": {\"dash\": \"longdashdot\"}, \"name\": \"\\u5185\\u90e8\\u6c9f\\u901a(\\u674e\\u5e86\\u539f)\", \"x\": [\"10-2\", \"10-3\", \"10-4\"], \"y\": [0.0, 0.0, 1.0], \"type\": \"scatter\", \"uid\": \"c79d3580-dbfd-11e8-8ddb-a41f72875c19\"}, {\"line\": {\"dash\": \"solid\"}, \"name\": \"\\u5185\\u90e8\\u6c9f\\u901a(\\u8c22\\u5fb7\\u5065)\", \"x\": [\"10-2\", \"10-3\", \"10-4\"], \"y\": [0.0, 0.0, 0.0], \"type\": \"scatter\", \"uid\": \"c79d3581-dbfd-11e8-8ddb-a41f72875c19\"}, {\"line\": {\"dash\": \"dot\"}, \"name\": \"\\u5185\\u90e8\\u6c9f\\u901a(\\u6797\\u6587\\u6587)\", \"x\": [\"10-2\", \"10-3\", \"10-4\"], \"y\": [null, null, 0.0], \"type\": \"scatter\", \"uid\": \"c79d3582-dbfd-11e8-8ddb-a41f72875c19\"}, {\"line\": {\"dash\": \"dash\"}, \"name\": \"\\u5185\\u90e8\\u6c9f\\u901a(\\u738b\\u7ea2)\", \"x\": [\"10-2\", \"10-3\", \"10-4\"], \"y\": [null, null, 0.0], \"type\": \"scatter\", \"uid\": \"c79d3583-dbfd-11e8-8ddb-a41f72875c19\"}, {\"line\": {\"dash\": \"solid\"}, \"name\": \"\\u5e02\\u573a\\u652f\\u6301(\\u8d75\\u73a5)\", \"x\": [\"10-2\", \"10-3\", \"10-4\"], \"y\": [0.0, 0.0, 0.0], \"type\": \"scatter\", \"uid\": \"c79d3584-dbfd-11e8-8ddb-a41f72875c19\"}, {\"line\": {\"dash\": \"dot\"}, \"name\": \"\\u5e02\\u573a\\u652f\\u6301(\\u4e8e\\u52c7\\u4e00)\", \"x\": [\"10-2\", \"10-3\", \"10-4\"], \"y\": [0.0, 0.0, 0.0], \"type\": \"scatter\", \"uid\": \"c79d3585-dbfd-11e8-8ddb-a41f72875c19\"}, {\"line\": {\"dash\": \"dash\"}, \"name\": \"\\u5e02\\u573a\\u652f\\u6301(\\u5f20\\u5b88\\u4f1f)\", \"x\": [\"10-2\", \"10-3\", \"10-4\"], \"y\": [0.0, 0.0, 0.0], \"type\": \"scatter\", \"uid\": \"c79d3586-dbfd-11e8-8ddb-a41f72875c19\"}, {\"line\": {\"dash\": \"longdash\"}, \"name\": \"\\u5e02\\u573a\\u652f\\u6301(\\u51af\\u656c\\u5ca9)\", \"x\": [\"10-2\", \"10-3\", \"10-4\"], \"y\": [null, null, 0.0], \"type\": \"scatter\", \"uid\": \"c79d3587-dbfd-11e8-8ddb-a41f72875c19\"}, {\"line\": {\"dash\": \"dashdot\"}, \"name\": \"\\u5e02\\u573a\\u652f\\u6301(\\u8def\\u6167\\u840d)\", \"x\": [\"10-2\", \"10-3\", \"10-4\"], \"y\": [0.0, 0.0, 0.0], \"type\": \"scatter\", \"uid\": \"c79d3588-dbfd-11e8-8ddb-a41f72875c19\"}, {\"line\": {\"dash\": \"longdashdot\"}, \"name\": \"\\u5e02\\u573a\\u652f\\u6301(\\u9648\\u9e4f\\u71d5)\", \"x\": [\"10-2\", \"10-3\", \"10-4\"], \"y\": [null, 0.0, 0.0], \"type\": \"scatter\", \"uid\": \"c79d3589-dbfd-11e8-8ddb-a41f72875c19\"}, {\"line\": {\"dash\": \"solid\"}, \"name\": \"\\u5e02\\u573a\\u652f\\u6301(\\u9a6c\\u6f47)\", \"x\": [\"10-2\", \"10-3\", \"10-4\"], \"y\": [0.0, 0.0, 0.0], \"type\": \"scatter\", \"uid\": \"c79d358a-dbfd-11e8-8ddb-a41f72875c19\"}, {\"line\": {\"dash\": \"dot\"}, \"name\": \"\\u5e02\\u573a\\u652f\\u6301(\\u8f66\\u5929\\u680b)\", \"x\": [\"10-2\", \"10-3\", \"10-4\"], \"y\": [null, null, 0.0], \"type\": \"scatter\", \"uid\": \"c79d358b-dbfd-11e8-8ddb-a41f72875c19\"}, {\"line\": {\"dash\": \"dash\"}, \"name\": \"\\u5e02\\u573a\\u652f\\u6301(\\u6c88\\u6069\\u60e0)\", \"x\": [\"10-2\", \"10-3\", \"10-4\"], \"y\": [null, null, 0.0], \"type\": \"scatter\", \"uid\": \"c79d358c-dbfd-11e8-8ddb-a41f72875c19\"}, {\"line\": {\"dash\": \"longdash\"}, \"name\": \"\\u5e02\\u573a\\u652f\\u6301(\\u5b5f\\u660a)\", \"x\": [\"10-2\", \"10-3\", \"10-4\"], \"y\": [0.0, 0.0, 0.0], \"type\": \"scatter\", \"uid\": \"c79d358d-dbfd-11e8-8ddb-a41f72875c19\"}, {\"line\": {\"dash\": \"dashdot\"}, \"name\": \"\\u5e02\\u573a\\u652f\\u6301(\\u4e8e\\u6167)\", \"x\": [\"10-2\", \"10-3\", \"10-4\"], \"y\": [0.0, 0.0, 0.0], \"type\": \"scatter\", \"uid\": \"c79d358e-dbfd-11e8-8ddb-a41f72875c19\"}, {\"line\": {\"dash\": \"longdashdot\"}, \"name\": \"\\u5e02\\u573a\\u652f\\u6301(\\u5c48\\u6602)\", \"x\": [\"10-2\", \"10-3\", \"10-4\"], \"y\": [0.0, null, 0.0], \"type\": \"scatter\", \"uid\": \"c79d358f-dbfd-11e8-8ddb-a41f72875c19\"}, {\"line\": {\"dash\": \"solid\"}, \"name\": \"\\u5e02\\u573a\\u652f\\u6301(\\u51b7\\u96ea)\", \"x\": [\"10-2\", \"10-3\", \"10-4\"], \"y\": [0.0, null, 0.0], \"type\": \"scatter\", \"uid\": \"c79d3590-dbfd-11e8-8ddb-a41f72875c19\"}, {\"line\": {\"dash\": \"dot\"}, \"name\": \"\\u5e02\\u573a\\u652f\\u6301(\\u97e9\\u5c11\\u6000)\", \"x\": [\"10-2\", \"10-3\", \"10-4\"], \"y\": [0.0, 0.0, 0.0], \"type\": \"scatter\", \"uid\": \"c79d3591-dbfd-11e8-8ddb-a41f72875c19\"}, {\"line\": {\"dash\": \"dash\"}, \"name\": \"\\u5e02\\u573a\\u652f\\u6301(\\u6d82\\u6210\\u82b3)\", \"x\": [\"10-2\", \"10-3\", \"10-4\"], \"y\": [null, null, 0.0], \"type\": \"scatter\", \"uid\": \"c79d3592-dbfd-11e8-8ddb-a41f72875c19\"}, {\"line\": {\"dash\": \"longdash\"}, \"name\": \"\\u5e02\\u573a\\u652f\\u6301(\\u5f20\\u60a6)\", \"x\": [\"10-2\", \"10-3\", \"10-4\"], \"y\": [null, null, 0.0], \"type\": \"scatter\", \"uid\": \"c79d3593-dbfd-11e8-8ddb-a41f72875c19\"}, {\"line\": {\"dash\": \"dashdot\"}, \"name\": \"\\u5e02\\u573a\\u652f\\u6301(\\u674e\\u534e\\u4e91)\", \"x\": [\"10-2\", \"10-3\", \"10-4\"], \"y\": [null, null, 0.0], \"type\": \"scatter\", \"uid\": \"c79d3594-dbfd-11e8-8ddb-a41f72875c19\"}, {\"line\": {\"dash\": \"longdashdot\"}, \"name\": \"\\u5e02\\u573a\\u652f\\u6301(\\u8303\\u65ed\\u5b81)\", \"x\": [\"10-2\", \"10-3\", \"10-4\"], \"y\": [0.0, 0.0, 0.0], \"type\": \"scatter\", \"uid\": \"c79d3595-dbfd-11e8-8ddb-a41f72875c19\"}, {\"line\": {\"dash\": \"solid\"}, \"name\": \"\\u5e02\\u573a\\u652f\\u6301(\\u6bb5\\u5229\\u5f3a)\", \"x\": [\"10-2\", \"10-3\", \"10-4\"], \"y\": [0.0, null, null], \"type\": \"scatter\", \"uid\": \"c79d3596-dbfd-11e8-8ddb-a41f72875c19\"}, {\"line\": {\"dash\": \"dot\"}, \"name\": \"\\u5e02\\u573a\\u652f\\u6301(\\u59da\\u76df\\u6210)\", \"x\": [\"10-2\", \"10-3\", \"10-4\"], \"y\": [0.0, 1.0, 0.0], \"type\": \"scatter\", \"uid\": \"c79d3597-dbfd-11e8-8ddb-a41f72875c19\"}, {\"line\": {\"dash\": \"dash\"}, \"name\": \"\\u5e02\\u573a\\u652f\\u6301(\\u6768\\u4f1f\\u98de)\", \"x\": [\"10-2\", \"10-3\", \"10-4\"], \"y\": [0.0, 1.0, 0.0], \"type\": \"scatter\", \"uid\": \"c79d3598-dbfd-11e8-8ddb-a41f72875c19\"}, {\"line\": {\"dash\": \"longdash\"}, \"name\": \"\\u5e02\\u573a\\u652f\\u6301(\\u5218\\u6c5f)\", \"x\": [\"10-2\", \"10-3\", \"10-4\"], \"y\": [0.0, 1.0, 0.0], \"type\": \"scatter\", \"uid\": \"c79d3599-dbfd-11e8-8ddb-a41f72875c19\"}, {\"line\": {\"dash\": \"dashdot\"}, \"name\": \"\\u5e02\\u573a\\u652f\\u6301(\\u82cf\\u5f66\\u52cb)\", \"x\": [\"10-2\", \"10-3\", \"10-4\"], \"y\": [null, 0.0, 0.0], \"type\": \"scatter\", \"uid\": \"c79d359a-dbfd-11e8-8ddb-a41f72875c19\"}, {\"line\": {\"dash\": \"longdashdot\"}, \"name\": \"\\u5e02\\u573a\\u652f\\u6301(\\u5468\\u6768)\", \"x\": [\"10-2\", \"10-3\", \"10-4\"], \"y\": [0.0, 0.0, 0.0], \"type\": \"scatter\", \"uid\": \"c79d359b-dbfd-11e8-8ddb-a41f72875c19\"}, {\"line\": {\"dash\": \"solid\"}, \"name\": \"\\u5e02\\u573a\\u652f\\u6301(\\u5360\\u4f1f)\", \"x\": [\"10-2\", \"10-3\", \"10-4\"], \"y\": [0.0, 1.0, 0.0], \"type\": \"scatter\", \"uid\": \"c79d359c-dbfd-11e8-8ddb-a41f72875c19\"}, {\"line\": {\"dash\": \"dot\"}, \"name\": \"\\u5e02\\u573a\\u652f\\u6301(\\u5c01\\u5f66\\u6770)\", \"x\": [\"10-2\", \"10-3\", \"10-4\"], \"y\": [0.0, 0.0, 0.0], \"type\": \"scatter\", \"uid\": \"c79d359d-dbfd-11e8-8ddb-a41f72875c19\"}, {\"line\": {\"dash\": \"dash\"}, \"name\": \"\\u5e02\\u573a\\u652f\\u6301(\\u5218\\u4e09\\u9633)\", \"x\": [\"10-2\", \"10-3\", \"10-4\"], \"y\": [null, 0.0, null], \"type\": \"scatter\", \"uid\": \"c79d359e-dbfd-11e8-8ddb-a41f72875c19\"}, {\"line\": {\"dash\": \"longdash\"}, \"name\": \"\\u5e02\\u573a\\u652f\\u6301(\\u6636\\u5409\\u9633)\", \"x\": [\"10-2\", \"10-3\", \"10-4\"], \"y\": [null, 0.0, 0.0], \"type\": \"scatter\", \"uid\": \"c79d359f-dbfd-11e8-8ddb-a41f72875c19\"}, {\"line\": {\"dash\": \"dashdot\"}, \"name\": \"\\u5e02\\u573a\\u652f\\u6301(\\u4efb\\u96ea)\", \"x\": [\"10-2\", \"10-3\", \"10-4\"], \"y\": [0.0, 1.0, 0.0], \"type\": \"scatter\", \"uid\": \"c79d35a0-dbfd-11e8-8ddb-a41f72875c19\"}, {\"line\": {\"dash\": \"longdashdot\"}, \"name\": \"\\u5e02\\u573a\\u652f\\u6301(\\u674e\\u5e86\\u539f)\", \"x\": [\"10-2\", \"10-3\", \"10-4\"], \"y\": [0.0, 0.0, 0.0], \"type\": \"scatter\", \"uid\": \"c79d35a1-dbfd-11e8-8ddb-a41f72875c19\"}, {\"line\": {\"dash\": \"solid\"}, \"name\": \"\\u5e02\\u573a\\u652f\\u6301(\\u8c22\\u5fb7\\u5065)\", \"x\": [\"10-2\", \"10-3\", \"10-4\"], \"y\": [0.0, 0.0, 0.0], \"type\": \"scatter\", \"uid\": \"c79d35a2-dbfd-11e8-8ddb-a41f72875c19\"}, {\"line\": {\"dash\": \"dot\"}, \"name\": \"\\u5e02\\u573a\\u652f\\u6301(\\u6797\\u6587\\u6587)\", \"x\": [\"10-2\", \"10-3\", \"10-4\"], \"y\": [null, null, 0.0], \"type\": \"scatter\", \"uid\": \"c79d35a3-dbfd-11e8-8ddb-a41f72875c19\"}, {\"line\": {\"dash\": \"dash\"}, \"name\": \"\\u5e02\\u573a\\u652f\\u6301(\\u738b\\u7ea2)\", \"x\": [\"10-2\", \"10-3\", \"10-4\"], \"y\": [null, null, 0.0], \"type\": \"scatter\", \"uid\": \"c79d35a4-dbfd-11e8-8ddb-a41f72875c19\"}, {\"line\": {\"dash\": \"solid\"}, \"name\": \"\\u51fa\\u5dee(\\u8d75\\u73a5)\", \"x\": [\"10-2\", \"10-3\", \"10-4\"], \"y\": [0.0, 0.0, 0.0], \"type\": \"scatter\", \"uid\": \"c79d35a5-dbfd-11e8-8ddb-a41f72875c19\"}, {\"line\": {\"dash\": \"dot\"}, \"name\": \"\\u51fa\\u5dee(\\u4e8e\\u52c7\\u4e00)\", \"x\": [\"10-2\", \"10-3\", \"10-4\"], \"y\": [0.0, 0.0, 0.0], \"type\": \"scatter\", \"uid\": \"c79d35a6-dbfd-11e8-8ddb-a41f72875c19\"}, {\"line\": {\"dash\": \"dash\"}, \"name\": \"\\u51fa\\u5dee(\\u5f20\\u5b88\\u4f1f)\", \"x\": [\"10-2\", \"10-3\", \"10-4\"], \"y\": [0.0, 0.0, 0.0], \"type\": \"scatter\", \"uid\": \"c79d35a7-dbfd-11e8-8ddb-a41f72875c19\"}, {\"line\": {\"dash\": \"longdash\"}, \"name\": \"\\u51fa\\u5dee(\\u51af\\u656c\\u5ca9)\", \"x\": [\"10-2\", \"10-3\", \"10-4\"], \"y\": [null, null, 0.0], \"type\": \"scatter\", \"uid\": \"c79d35a8-dbfd-11e8-8ddb-a41f72875c19\"}, {\"line\": {\"dash\": \"dashdot\"}, \"name\": \"\\u51fa\\u5dee(\\u8def\\u6167\\u840d)\", \"x\": [\"10-2\", \"10-3\", \"10-4\"], \"y\": [0.0, 0.0, 0.0], \"type\": \"scatter\", \"uid\": \"c79d35a9-dbfd-11e8-8ddb-a41f72875c19\"}, {\"line\": {\"dash\": \"longdashdot\"}, \"name\": \"\\u51fa\\u5dee(\\u9648\\u9e4f\\u71d5)\", \"x\": [\"10-2\", \"10-3\", \"10-4\"], \"y\": [null, 0.0, 0.0], \"type\": \"scatter\", \"uid\": \"c79d35aa-dbfd-11e8-8ddb-a41f72875c19\"}, {\"line\": {\"dash\": \"solid\"}, \"name\": \"\\u51fa\\u5dee(\\u9a6c\\u6f47)\", \"x\": [\"10-2\", \"10-3\", \"10-4\"], \"y\": [0.0, 0.0, 1.0], \"type\": \"scatter\", \"uid\": \"c79d35ab-dbfd-11e8-8ddb-a41f72875c19\"}, {\"line\": {\"dash\": \"dot\"}, \"name\": \"\\u51fa\\u5dee(\\u8f66\\u5929\\u680b)\", \"x\": [\"10-2\", \"10-3\", \"10-4\"], \"y\": [null, null, 0.0], \"type\": \"scatter\", \"uid\": \"c79d35ac-dbfd-11e8-8ddb-a41f72875c19\"}, {\"line\": {\"dash\": \"dash\"}, \"name\": \"\\u51fa\\u5dee(\\u6c88\\u6069\\u60e0)\", \"x\": [\"10-2\", \"10-3\", \"10-4\"], \"y\": [null, null, 0.0], \"type\": \"scatter\", \"uid\": \"c79d35ad-dbfd-11e8-8ddb-a41f72875c19\"}, {\"line\": {\"dash\": \"longdash\"}, \"name\": \"\\u51fa\\u5dee(\\u5b5f\\u660a)\", \"x\": [\"10-2\", \"10-3\", \"10-4\"], \"y\": [0.0, 0.0, 0.0], \"type\": \"scatter\", \"uid\": \"c79d35ae-dbfd-11e8-8ddb-a41f72875c19\"}, {\"line\": {\"dash\": \"dashdot\"}, \"name\": \"\\u51fa\\u5dee(\\u4e8e\\u6167)\", \"x\": [\"10-2\", \"10-3\", \"10-4\"], \"y\": [0.0, 0.0, 0.0], \"type\": \"scatter\", \"uid\": \"c79d35af-dbfd-11e8-8ddb-a41f72875c19\"}, {\"line\": {\"dash\": \"longdashdot\"}, \"name\": \"\\u51fa\\u5dee(\\u5c48\\u6602)\", \"x\": [\"10-2\", \"10-3\", \"10-4\"], \"y\": [0.0, null, 0.0], \"type\": \"scatter\", \"uid\": \"c79d35b0-dbfd-11e8-8ddb-a41f72875c19\"}, {\"line\": {\"dash\": \"solid\"}, \"name\": \"\\u51fa\\u5dee(\\u51b7\\u96ea)\", \"x\": [\"10-2\", \"10-3\", \"10-4\"], \"y\": [0.0, null, 0.0], \"type\": \"scatter\", \"uid\": \"c79d35b1-dbfd-11e8-8ddb-a41f72875c19\"}, {\"line\": {\"dash\": \"dot\"}, \"name\": \"\\u51fa\\u5dee(\\u97e9\\u5c11\\u6000)\", \"x\": [\"10-2\", \"10-3\", \"10-4\"], \"y\": [0.0, 0.0, 0.0], \"type\": \"scatter\", \"uid\": \"c79d35b2-dbfd-11e8-8ddb-a41f72875c19\"}, {\"line\": {\"dash\": \"dash\"}, \"name\": \"\\u51fa\\u5dee(\\u6d82\\u6210\\u82b3)\", \"x\": [\"10-2\", \"10-3\", \"10-4\"], \"y\": [null, null, 0.0], \"type\": \"scatter\", \"uid\": \"c79d35b3-dbfd-11e8-8ddb-a41f72875c19\"}, {\"line\": {\"dash\": \"longdash\"}, \"name\": \"\\u51fa\\u5dee(\\u5f20\\u60a6)\", \"x\": [\"10-2\", \"10-3\", \"10-4\"], \"y\": [null, null, 0.0], \"type\": \"scatter\", \"uid\": \"c79d35b4-dbfd-11e8-8ddb-a41f72875c19\"}, {\"line\": {\"dash\": \"dashdot\"}, \"name\": \"\\u51fa\\u5dee(\\u674e\\u534e\\u4e91)\", \"x\": [\"10-2\", \"10-3\", \"10-4\"], \"y\": [null, null, 0.0], \"type\": \"scatter\", \"uid\": \"c79d35b5-dbfd-11e8-8ddb-a41f72875c19\"}, {\"line\": {\"dash\": \"longdashdot\"}, \"name\": \"\\u51fa\\u5dee(\\u8303\\u65ed\\u5b81)\", \"x\": [\"10-2\", \"10-3\", \"10-4\"], \"y\": [0.0, 0.0, 0.0], \"type\": \"scatter\", \"uid\": \"c79d35b6-dbfd-11e8-8ddb-a41f72875c19\"}, {\"line\": {\"dash\": \"solid\"}, \"name\": \"\\u51fa\\u5dee(\\u6bb5\\u5229\\u5f3a)\", \"x\": [\"10-2\", \"10-3\", \"10-4\"], \"y\": [0.0, null, null], \"type\": \"scatter\", \"uid\": \"c79d35b7-dbfd-11e8-8ddb-a41f72875c19\"}, {\"line\": {\"dash\": \"dot\"}, \"name\": \"\\u51fa\\u5dee(\\u59da\\u76df\\u6210)\", \"x\": [\"10-2\", \"10-3\", \"10-4\"], \"y\": [0.0, 1.0, 0.0], \"type\": \"scatter\", \"uid\": \"c79d35b8-dbfd-11e8-8ddb-a41f72875c19\"}, {\"line\": {\"dash\": \"dash\"}, \"name\": \"\\u51fa\\u5dee(\\u6768\\u4f1f\\u98de)\", \"x\": [\"10-2\", \"10-3\", \"10-4\"], \"y\": [0.0, 1.0, 0.0], \"type\": \"scatter\", \"uid\": \"c79d35b9-dbfd-11e8-8ddb-a41f72875c19\"}, {\"line\": {\"dash\": \"longdash\"}, \"name\": \"\\u51fa\\u5dee(\\u5218\\u6c5f)\", \"x\": [\"10-2\", \"10-3\", \"10-4\"], \"y\": [0.0, 1.0, 0.0], \"type\": \"scatter\", \"uid\": \"c79d35ba-dbfd-11e8-8ddb-a41f72875c19\"}, {\"line\": {\"dash\": \"dashdot\"}, \"name\": \"\\u51fa\\u5dee(\\u82cf\\u5f66\\u52cb)\", \"x\": [\"10-2\", \"10-3\", \"10-4\"], \"y\": [null, 0.0, 1.0], \"type\": \"scatter\", \"uid\": \"c79d35bb-dbfd-11e8-8ddb-a41f72875c19\"}, {\"line\": {\"dash\": \"longdashdot\"}, \"name\": \"\\u51fa\\u5dee(\\u5468\\u6768)\", \"x\": [\"10-2\", \"10-3\", \"10-4\"], \"y\": [0.0, 0.0, 0.0], \"type\": \"scatter\", \"uid\": \"c79d35bc-dbfd-11e8-8ddb-a41f72875c19\"}, {\"line\": {\"dash\": \"solid\"}, \"name\": \"\\u51fa\\u5dee(\\u5360\\u4f1f)\", \"x\": [\"10-2\", \"10-3\", \"10-4\"], \"y\": [0.0, 0.0, 0.0], \"type\": \"scatter\", \"uid\": \"c79d35bd-dbfd-11e8-8ddb-a41f72875c19\"}, {\"line\": {\"dash\": \"dot\"}, \"name\": \"\\u51fa\\u5dee(\\u5c01\\u5f66\\u6770)\", \"x\": [\"10-2\", \"10-3\", \"10-4\"], \"y\": [0.0, 0.0, 0.0], \"type\": \"scatter\", \"uid\": \"c79d35be-dbfd-11e8-8ddb-a41f72875c19\"}, {\"line\": {\"dash\": \"dash\"}, \"name\": \"\\u51fa\\u5dee(\\u5218\\u4e09\\u9633)\", \"x\": [\"10-2\", \"10-3\", \"10-4\"], \"y\": [null, 0.0, null], \"type\": \"scatter\", \"uid\": \"c79d35bf-dbfd-11e8-8ddb-a41f72875c19\"}, {\"line\": {\"dash\": \"longdash\"}, \"name\": \"\\u51fa\\u5dee(\\u6636\\u5409\\u9633)\", \"x\": [\"10-2\", \"10-3\", \"10-4\"], \"y\": [null, 0.0, 0.0], \"type\": \"scatter\", \"uid\": \"c79d35c0-dbfd-11e8-8ddb-a41f72875c19\"}, {\"line\": {\"dash\": \"dashdot\"}, \"name\": \"\\u51fa\\u5dee(\\u4efb\\u96ea)\", \"x\": [\"10-2\", \"10-3\", \"10-4\"], \"y\": [0.0, 1.0, 0.0], \"type\": \"scatter\", \"uid\": \"c79d35c1-dbfd-11e8-8ddb-a41f72875c19\"}, {\"line\": {\"dash\": \"longdashdot\"}, \"name\": \"\\u51fa\\u5dee(\\u674e\\u5e86\\u539f)\", \"x\": [\"10-2\", \"10-3\", \"10-4\"], \"y\": [0.0, 0.0, 0.0], \"type\": \"scatter\", \"uid\": \"c79d35c2-dbfd-11e8-8ddb-a41f72875c19\"}, {\"line\": {\"dash\": \"solid\"}, \"name\": \"\\u51fa\\u5dee(\\u8c22\\u5fb7\\u5065)\", \"x\": [\"10-2\", \"10-3\", \"10-4\"], \"y\": [0.0, 0.0, 0.0], \"type\": \"scatter\", \"uid\": \"c79d35c3-dbfd-11e8-8ddb-a41f72875c19\"}, {\"line\": {\"dash\": \"dot\"}, \"name\": \"\\u51fa\\u5dee(\\u6797\\u6587\\u6587)\", \"x\": [\"10-2\", \"10-3\", \"10-4\"], \"y\": [null, null, 0.0], \"type\": \"scatter\", \"uid\": \"c79d35c4-dbfd-11e8-8ddb-a41f72875c19\"}, {\"line\": {\"dash\": \"dash\"}, \"name\": \"\\u51fa\\u5dee(\\u738b\\u7ea2)\", \"x\": [\"10-2\", \"10-3\", \"10-4\"], \"y\": [null, null, 0.0], \"type\": \"scatter\", \"uid\": \"c79d35c5-dbfd-11e8-8ddb-a41f72875c19\"}], {\"title\": \"\\u7985\\u9053bug&\\u5185\\u90e8\\u6c9f\\u901a&\\u5e02\\u573a\\u652f\\u6301&\\u51fa\\u5dee\\u5468\\u8d8b\\u52bf\\u56fe\", \"xaxis\": {\"mirror\": \"all\", \"nticks\": 20, \"showgrid\": true, \"showline\": true, \"title\": \"\\u5468\", \"type\": \"category\", \"zeroline\": true}, \"yaxis\": {\"mirror\": \"all\", \"nticks\": 20, \"showgrid\": true, \"showline\": true, \"title\": \"\\u7985\\u9053bug&\\u5185\\u90e8\\u6c9f\\u901a&\\u5e02\\u573a\\u652f\\u6301&\\u51fa\\u5dee\", \"zeroline\": true}}, {\"showLink\": true, \"linkText\": \"Export to plot.ly\"})});</script>"
      ],
      "text/vnd.plotly.v1+html": [
       "<div id=\"bc0dd5ad-c9df-4f8e-94fb-e46868c6153d\" style=\"height: 525px; width: 100%;\" class=\"plotly-graph-div\"></div><script type=\"text/javascript\">require([\"plotly\"], function(Plotly) { window.PLOTLYENV=window.PLOTLYENV || {};window.PLOTLYENV.BASE_URL=\"https://plot.ly\";Plotly.newPlot(\"bc0dd5ad-c9df-4f8e-94fb-e46868c6153d\", [{\"line\": {\"dash\": \"solid\"}, \"name\": \"\\u7985\\u9053bug(\\u8d75\\u73a5)\", \"x\": [\"10-2\", \"10-3\", \"10-4\"], \"y\": [0.0, 0.0, 0.0], \"type\": \"scatter\", \"uid\": \"c79d3542-dbfd-11e8-8ddb-a41f72875c19\"}, {\"line\": {\"dash\": \"dot\"}, \"name\": \"\\u7985\\u9053bug(\\u4e8e\\u52c7\\u4e00)\", \"x\": [\"10-2\", \"10-3\", \"10-4\"], \"y\": [0.0, 0.0, 0.0], \"type\": \"scatter\", \"uid\": \"c79d3543-dbfd-11e8-8ddb-a41f72875c19\"}, {\"line\": {\"dash\": \"dash\"}, \"name\": \"\\u7985\\u9053bug(\\u5f20\\u5b88\\u4f1f)\", \"x\": [\"10-2\", \"10-3\", \"10-4\"], \"y\": [0.0, 0.0, 0.0], \"type\": \"scatter\", \"uid\": \"c79d3544-dbfd-11e8-8ddb-a41f72875c19\"}, {\"line\": {\"dash\": \"longdash\"}, \"name\": \"\\u7985\\u9053bug(\\u51af\\u656c\\u5ca9)\", \"x\": [\"10-2\", \"10-3\", \"10-4\"], \"y\": [null, null, 0.0], \"type\": \"scatter\", \"uid\": \"c79d3545-dbfd-11e8-8ddb-a41f72875c19\"}, {\"line\": {\"dash\": \"dashdot\"}, \"name\": \"\\u7985\\u9053bug(\\u8def\\u6167\\u840d)\", \"x\": [\"10-2\", \"10-3\", \"10-4\"], \"y\": [0.0, 0.0, 0.0], \"type\": \"scatter\", \"uid\": \"c79d3546-dbfd-11e8-8ddb-a41f72875c19\"}, {\"line\": {\"dash\": \"longdashdot\"}, \"name\": \"\\u7985\\u9053bug(\\u9648\\u9e4f\\u71d5)\", \"x\": [\"10-2\", \"10-3\", \"10-4\"], \"y\": [null, 0.0, 0.0], \"type\": \"scatter\", \"uid\": \"c79d3547-dbfd-11e8-8ddb-a41f72875c19\"}, {\"line\": {\"dash\": \"solid\"}, \"name\": \"\\u7985\\u9053bug(\\u9a6c\\u6f47)\", \"x\": [\"10-2\", \"10-3\", \"10-4\"], \"y\": [0.0, 0.0, 0.0], \"type\": \"scatter\", \"uid\": \"c79d3548-dbfd-11e8-8ddb-a41f72875c19\"}, {\"line\": {\"dash\": \"dot\"}, \"name\": \"\\u7985\\u9053bug(\\u8f66\\u5929\\u680b)\", \"x\": [\"10-2\", \"10-3\", \"10-4\"], \"y\": [null, null, 0.0], \"type\": \"scatter\", \"uid\": \"c79d3549-dbfd-11e8-8ddb-a41f72875c19\"}, {\"line\": {\"dash\": \"dash\"}, \"name\": \"\\u7985\\u9053bug(\\u6c88\\u6069\\u60e0)\", \"x\": [\"10-2\", \"10-3\", \"10-4\"], \"y\": [null, null, 0.0], \"type\": \"scatter\", \"uid\": \"c79d354a-dbfd-11e8-8ddb-a41f72875c19\"}, {\"line\": {\"dash\": \"longdash\"}, \"name\": \"\\u7985\\u9053bug(\\u5b5f\\u660a)\", \"x\": [\"10-2\", \"10-3\", \"10-4\"], \"y\": [0.0, 0.0, 0.0], \"type\": \"scatter\", \"uid\": \"c79d354b-dbfd-11e8-8ddb-a41f72875c19\"}, {\"line\": {\"dash\": \"dashdot\"}, \"name\": \"\\u7985\\u9053bug(\\u4e8e\\u6167)\", \"x\": [\"10-2\", \"10-3\", \"10-4\"], \"y\": [0.0, 0.0, 0.0], \"type\": \"scatter\", \"uid\": \"c79d354c-dbfd-11e8-8ddb-a41f72875c19\"}, {\"line\": {\"dash\": \"longdashdot\"}, \"name\": \"\\u7985\\u9053bug(\\u5c48\\u6602)\", \"x\": [\"10-2\", \"10-3\", \"10-4\"], \"y\": [0.0, null, 0.0], \"type\": \"scatter\", \"uid\": \"c79d354d-dbfd-11e8-8ddb-a41f72875c19\"}, {\"line\": {\"dash\": \"solid\"}, \"name\": \"\\u7985\\u9053bug(\\u51b7\\u96ea)\", \"x\": [\"10-2\", \"10-3\", \"10-4\"], \"y\": [0.0, null, 0.0], \"type\": \"scatter\", \"uid\": \"c79d354e-dbfd-11e8-8ddb-a41f72875c19\"}, {\"line\": {\"dash\": \"dot\"}, \"name\": \"\\u7985\\u9053bug(\\u97e9\\u5c11\\u6000)\", \"x\": [\"10-2\", \"10-3\", \"10-4\"], \"y\": [0.0, 0.0, 0.0], \"type\": \"scatter\", \"uid\": \"c79d354f-dbfd-11e8-8ddb-a41f72875c19\"}, {\"line\": {\"dash\": \"dash\"}, \"name\": \"\\u7985\\u9053bug(\\u6d82\\u6210\\u82b3)\", \"x\": [\"10-2\", \"10-3\", \"10-4\"], \"y\": [null, null, 0.0], \"type\": \"scatter\", \"uid\": \"c79d3550-dbfd-11e8-8ddb-a41f72875c19\"}, {\"line\": {\"dash\": \"longdash\"}, \"name\": \"\\u7985\\u9053bug(\\u5f20\\u60a6)\", \"x\": [\"10-2\", \"10-3\", \"10-4\"], \"y\": [null, null, 0.0], \"type\": \"scatter\", \"uid\": \"c79d3551-dbfd-11e8-8ddb-a41f72875c19\"}, {\"line\": {\"dash\": \"dashdot\"}, \"name\": \"\\u7985\\u9053bug(\\u674e\\u534e\\u4e91)\", \"x\": [\"10-2\", \"10-3\", \"10-4\"], \"y\": [null, null, 0.0], \"type\": \"scatter\", \"uid\": \"c79d3552-dbfd-11e8-8ddb-a41f72875c19\"}, {\"line\": {\"dash\": \"longdashdot\"}, \"name\": \"\\u7985\\u9053bug(\\u8303\\u65ed\\u5b81)\", \"x\": [\"10-2\", \"10-3\", \"10-4\"], \"y\": [0.0, 0.0, 0.0], \"type\": \"scatter\", \"uid\": \"c79d3553-dbfd-11e8-8ddb-a41f72875c19\"}, {\"line\": {\"dash\": \"solid\"}, \"name\": \"\\u7985\\u9053bug(\\u6bb5\\u5229\\u5f3a)\", \"x\": [\"10-2\", \"10-3\", \"10-4\"], \"y\": [0.0, null, null], \"type\": \"scatter\", \"uid\": \"c79d3554-dbfd-11e8-8ddb-a41f72875c19\"}, {\"line\": {\"dash\": \"dot\"}, \"name\": \"\\u7985\\u9053bug(\\u59da\\u76df\\u6210)\", \"x\": [\"10-2\", \"10-3\", \"10-4\"], \"y\": [0.0, 1.0, 1.0], \"type\": \"scatter\", \"uid\": \"c79d3555-dbfd-11e8-8ddb-a41f72875c19\"}, {\"line\": {\"dash\": \"dash\"}, \"name\": \"\\u7985\\u9053bug(\\u6768\\u4f1f\\u98de)\", \"x\": [\"10-2\", \"10-3\", \"10-4\"], \"y\": [0.0, 0.0, 0.0], \"type\": \"scatter\", \"uid\": \"c79d3556-dbfd-11e8-8ddb-a41f72875c19\"}, {\"line\": {\"dash\": \"longdash\"}, \"name\": \"\\u7985\\u9053bug(\\u5218\\u6c5f)\", \"x\": [\"10-2\", \"10-3\", \"10-4\"], \"y\": [0.0, 0.0, 0.0], \"type\": \"scatter\", \"uid\": \"c79d3557-dbfd-11e8-8ddb-a41f72875c19\"}, {\"line\": {\"dash\": \"dashdot\"}, \"name\": \"\\u7985\\u9053bug(\\u82cf\\u5f66\\u52cb)\", \"x\": [\"10-2\", \"10-3\", \"10-4\"], \"y\": [null, 0.0, 0.0], \"type\": \"scatter\", \"uid\": \"c79d3558-dbfd-11e8-8ddb-a41f72875c19\"}, {\"line\": {\"dash\": \"longdashdot\"}, \"name\": \"\\u7985\\u9053bug(\\u5468\\u6768)\", \"x\": [\"10-2\", \"10-3\", \"10-4\"], \"y\": [0.0, 0.0, 0.0], \"type\": \"scatter\", \"uid\": \"c79d3559-dbfd-11e8-8ddb-a41f72875c19\"}, {\"line\": {\"dash\": \"solid\"}, \"name\": \"\\u7985\\u9053bug(\\u5360\\u4f1f)\", \"x\": [\"10-2\", \"10-3\", \"10-4\"], \"y\": [0.0, 0.0, 0.0], \"type\": \"scatter\", \"uid\": \"c79d355a-dbfd-11e8-8ddb-a41f72875c19\"}, {\"line\": {\"dash\": \"dot\"}, \"name\": \"\\u7985\\u9053bug(\\u5c01\\u5f66\\u6770)\", \"x\": [\"10-2\", \"10-3\", \"10-4\"], \"y\": [0.0, 0.0, 0.0], \"type\": \"scatter\", \"uid\": \"c79d355b-dbfd-11e8-8ddb-a41f72875c19\"}, {\"line\": {\"dash\": \"dash\"}, \"name\": \"\\u7985\\u9053bug(\\u5218\\u4e09\\u9633)\", \"x\": [\"10-2\", \"10-3\", \"10-4\"], \"y\": [null, 0.0, null], \"type\": \"scatter\", \"uid\": \"c79d355c-dbfd-11e8-8ddb-a41f72875c19\"}, {\"line\": {\"dash\": \"longdash\"}, \"name\": \"\\u7985\\u9053bug(\\u6636\\u5409\\u9633)\", \"x\": [\"10-2\", \"10-3\", \"10-4\"], \"y\": [null, 0.0, 0.0], \"type\": \"scatter\", \"uid\": \"c79d355d-dbfd-11e8-8ddb-a41f72875c19\"}, {\"line\": {\"dash\": \"dashdot\"}, \"name\": \"\\u7985\\u9053bug(\\u4efb\\u96ea)\", \"x\": [\"10-2\", \"10-3\", \"10-4\"], \"y\": [0.0, 0.0, 0.0], \"type\": \"scatter\", \"uid\": \"c79d355e-dbfd-11e8-8ddb-a41f72875c19\"}, {\"line\": {\"dash\": \"longdashdot\"}, \"name\": \"\\u7985\\u9053bug(\\u674e\\u5e86\\u539f)\", \"x\": [\"10-2\", \"10-3\", \"10-4\"], \"y\": [0.0, 0.0, 0.0], \"type\": \"scatter\", \"uid\": \"c79d355f-dbfd-11e8-8ddb-a41f72875c19\"}, {\"line\": {\"dash\": \"solid\"}, \"name\": \"\\u7985\\u9053bug(\\u8c22\\u5fb7\\u5065)\", \"x\": [\"10-2\", \"10-3\", \"10-4\"], \"y\": [0.0, 0.0, 0.0], \"type\": \"scatter\", \"uid\": \"c79d3560-dbfd-11e8-8ddb-a41f72875c19\"}, {\"line\": {\"dash\": \"dot\"}, \"name\": \"\\u7985\\u9053bug(\\u6797\\u6587\\u6587)\", \"x\": [\"10-2\", \"10-3\", \"10-4\"], \"y\": [null, null, 0.0], \"type\": \"scatter\", \"uid\": \"c79d3561-dbfd-11e8-8ddb-a41f72875c19\"}, {\"line\": {\"dash\": \"dash\"}, \"name\": \"\\u7985\\u9053bug(\\u738b\\u7ea2)\", \"x\": [\"10-2\", \"10-3\", \"10-4\"], \"y\": [null, null, 0.0], \"type\": \"scatter\", \"uid\": \"c79d3562-dbfd-11e8-8ddb-a41f72875c19\"}, {\"line\": {\"dash\": \"solid\"}, \"name\": \"\\u5185\\u90e8\\u6c9f\\u901a(\\u8d75\\u73a5)\", \"x\": [\"10-2\", \"10-3\", \"10-4\"], \"y\": [0.0, 0.0, 0.0], \"type\": \"scatter\", \"uid\": \"c79d3563-dbfd-11e8-8ddb-a41f72875c19\"}, {\"line\": {\"dash\": \"dot\"}, \"name\": \"\\u5185\\u90e8\\u6c9f\\u901a(\\u4e8e\\u52c7\\u4e00)\", \"x\": [\"10-2\", \"10-3\", \"10-4\"], \"y\": [0.0, 0.0, 0.0], \"type\": \"scatter\", \"uid\": \"c79d3564-dbfd-11e8-8ddb-a41f72875c19\"}, {\"line\": {\"dash\": \"dash\"}, \"name\": \"\\u5185\\u90e8\\u6c9f\\u901a(\\u5f20\\u5b88\\u4f1f)\", \"x\": [\"10-2\", \"10-3\", \"10-4\"], \"y\": [0.0, 0.0, 0.0], \"type\": \"scatter\", \"uid\": \"c79d3565-dbfd-11e8-8ddb-a41f72875c19\"}, {\"line\": {\"dash\": \"longdash\"}, \"name\": \"\\u5185\\u90e8\\u6c9f\\u901a(\\u51af\\u656c\\u5ca9)\", \"x\": [\"10-2\", \"10-3\", \"10-4\"], \"y\": [null, null, 0.0], \"type\": \"scatter\", \"uid\": \"c79d3566-dbfd-11e8-8ddb-a41f72875c19\"}, {\"line\": {\"dash\": \"dashdot\"}, \"name\": \"\\u5185\\u90e8\\u6c9f\\u901a(\\u8def\\u6167\\u840d)\", \"x\": [\"10-2\", \"10-3\", \"10-4\"], \"y\": [0.0, 0.0, 0.0], \"type\": \"scatter\", \"uid\": \"c79d3567-dbfd-11e8-8ddb-a41f72875c19\"}, {\"line\": {\"dash\": \"longdashdot\"}, \"name\": \"\\u5185\\u90e8\\u6c9f\\u901a(\\u9648\\u9e4f\\u71d5)\", \"x\": [\"10-2\", \"10-3\", \"10-4\"], \"y\": [null, 0.0, 0.0], \"type\": \"scatter\", \"uid\": \"c79d3568-dbfd-11e8-8ddb-a41f72875c19\"}, {\"line\": {\"dash\": \"solid\"}, \"name\": \"\\u5185\\u90e8\\u6c9f\\u901a(\\u9a6c\\u6f47)\", \"x\": [\"10-2\", \"10-3\", \"10-4\"], \"y\": [0.0, 0.0, 0.0], \"type\": \"scatter\", \"uid\": \"c79d3569-dbfd-11e8-8ddb-a41f72875c19\"}, {\"line\": {\"dash\": \"dot\"}, \"name\": \"\\u5185\\u90e8\\u6c9f\\u901a(\\u8f66\\u5929\\u680b)\", \"x\": [\"10-2\", \"10-3\", \"10-4\"], \"y\": [null, null, 0.0], \"type\": \"scatter\", \"uid\": \"c79d356a-dbfd-11e8-8ddb-a41f72875c19\"}, {\"line\": {\"dash\": \"dash\"}, \"name\": \"\\u5185\\u90e8\\u6c9f\\u901a(\\u6c88\\u6069\\u60e0)\", \"x\": [\"10-2\", \"10-3\", \"10-4\"], \"y\": [null, null, 0.0], \"type\": \"scatter\", \"uid\": \"c79d356b-dbfd-11e8-8ddb-a41f72875c19\"}, {\"line\": {\"dash\": \"longdash\"}, \"name\": \"\\u5185\\u90e8\\u6c9f\\u901a(\\u5b5f\\u660a)\", \"x\": [\"10-2\", \"10-3\", \"10-4\"], \"y\": [0.0, 0.0, 0.0], \"type\": \"scatter\", \"uid\": \"c79d356c-dbfd-11e8-8ddb-a41f72875c19\"}, {\"line\": {\"dash\": \"dashdot\"}, \"name\": \"\\u5185\\u90e8\\u6c9f\\u901a(\\u4e8e\\u6167)\", \"x\": [\"10-2\", \"10-3\", \"10-4\"], \"y\": [0.0, 0.0, 0.0], \"type\": \"scatter\", \"uid\": \"c79d356d-dbfd-11e8-8ddb-a41f72875c19\"}, {\"line\": {\"dash\": \"longdashdot\"}, \"name\": \"\\u5185\\u90e8\\u6c9f\\u901a(\\u5c48\\u6602)\", \"x\": [\"10-2\", \"10-3\", \"10-4\"], \"y\": [0.0, null, 0.0], \"type\": \"scatter\", \"uid\": \"c79d356e-dbfd-11e8-8ddb-a41f72875c19\"}, {\"line\": {\"dash\": \"solid\"}, \"name\": \"\\u5185\\u90e8\\u6c9f\\u901a(\\u51b7\\u96ea)\", \"x\": [\"10-2\", \"10-3\", \"10-4\"], \"y\": [0.0, null, 0.0], \"type\": \"scatter\", \"uid\": \"c79d356f-dbfd-11e8-8ddb-a41f72875c19\"}, {\"line\": {\"dash\": \"dot\"}, \"name\": \"\\u5185\\u90e8\\u6c9f\\u901a(\\u97e9\\u5c11\\u6000)\", \"x\": [\"10-2\", \"10-3\", \"10-4\"], \"y\": [0.0, 0.0, 0.0], \"type\": \"scatter\", \"uid\": \"c79d3570-dbfd-11e8-8ddb-a41f72875c19\"}, {\"line\": {\"dash\": \"dash\"}, \"name\": \"\\u5185\\u90e8\\u6c9f\\u901a(\\u6d82\\u6210\\u82b3)\", \"x\": [\"10-2\", \"10-3\", \"10-4\"], \"y\": [null, null, 0.0], \"type\": \"scatter\", \"uid\": \"c79d3571-dbfd-11e8-8ddb-a41f72875c19\"}, {\"line\": {\"dash\": \"longdash\"}, \"name\": \"\\u5185\\u90e8\\u6c9f\\u901a(\\u5f20\\u60a6)\", \"x\": [\"10-2\", \"10-3\", \"10-4\"], \"y\": [null, null, 0.0], \"type\": \"scatter\", \"uid\": \"c79d3572-dbfd-11e8-8ddb-a41f72875c19\"}, {\"line\": {\"dash\": \"dashdot\"}, \"name\": \"\\u5185\\u90e8\\u6c9f\\u901a(\\u674e\\u534e\\u4e91)\", \"x\": [\"10-2\", \"10-3\", \"10-4\"], \"y\": [null, null, 0.0], \"type\": \"scatter\", \"uid\": \"c79d3573-dbfd-11e8-8ddb-a41f72875c19\"}, {\"line\": {\"dash\": \"longdashdot\"}, \"name\": \"\\u5185\\u90e8\\u6c9f\\u901a(\\u8303\\u65ed\\u5b81)\", \"x\": [\"10-2\", \"10-3\", \"10-4\"], \"y\": [0.0, 0.0, 0.0], \"type\": \"scatter\", \"uid\": \"c79d3574-dbfd-11e8-8ddb-a41f72875c19\"}, {\"line\": {\"dash\": \"solid\"}, \"name\": \"\\u5185\\u90e8\\u6c9f\\u901a(\\u6bb5\\u5229\\u5f3a)\", \"x\": [\"10-2\", \"10-3\", \"10-4\"], \"y\": [0.0, null, null], \"type\": \"scatter\", \"uid\": \"c79d3575-dbfd-11e8-8ddb-a41f72875c19\"}, {\"line\": {\"dash\": \"dot\"}, \"name\": \"\\u5185\\u90e8\\u6c9f\\u901a(\\u59da\\u76df\\u6210)\", \"x\": [\"10-2\", \"10-3\", \"10-4\"], \"y\": [0.0, 0.0, 4.0], \"type\": \"scatter\", \"uid\": \"c79d3576-dbfd-11e8-8ddb-a41f72875c19\"}, {\"line\": {\"dash\": \"dash\"}, \"name\": \"\\u5185\\u90e8\\u6c9f\\u901a(\\u6768\\u4f1f\\u98de)\", \"x\": [\"10-2\", \"10-3\", \"10-4\"], \"y\": [0.0, 0.0, 0.0], \"type\": \"scatter\", \"uid\": \"c79d3577-dbfd-11e8-8ddb-a41f72875c19\"}, {\"line\": {\"dash\": \"longdash\"}, \"name\": \"\\u5185\\u90e8\\u6c9f\\u901a(\\u5218\\u6c5f)\", \"x\": [\"10-2\", \"10-3\", \"10-4\"], \"y\": [0.0, 0.0, 0.0], \"type\": \"scatter\", \"uid\": \"c79d3578-dbfd-11e8-8ddb-a41f72875c19\"}, {\"line\": {\"dash\": \"dashdot\"}, \"name\": \"\\u5185\\u90e8\\u6c9f\\u901a(\\u82cf\\u5f66\\u52cb)\", \"x\": [\"10-2\", \"10-3\", \"10-4\"], \"y\": [null, 0.0, 0.0], \"type\": \"scatter\", \"uid\": \"c79d3579-dbfd-11e8-8ddb-a41f72875c19\"}, {\"line\": {\"dash\": \"longdashdot\"}, \"name\": \"\\u5185\\u90e8\\u6c9f\\u901a(\\u5468\\u6768)\", \"x\": [\"10-2\", \"10-3\", \"10-4\"], \"y\": [0.0, 0.0, 2.0], \"type\": \"scatter\", \"uid\": \"c79d357a-dbfd-11e8-8ddb-a41f72875c19\"}, {\"line\": {\"dash\": \"solid\"}, \"name\": \"\\u5185\\u90e8\\u6c9f\\u901a(\\u5360\\u4f1f)\", \"x\": [\"10-2\", \"10-3\", \"10-4\"], \"y\": [0.0, 0.0, 0.0], \"type\": \"scatter\", \"uid\": \"c79d357b-dbfd-11e8-8ddb-a41f72875c19\"}, {\"line\": {\"dash\": \"dot\"}, \"name\": \"\\u5185\\u90e8\\u6c9f\\u901a(\\u5c01\\u5f66\\u6770)\", \"x\": [\"10-2\", \"10-3\", \"10-4\"], \"y\": [0.0, 0.0, 0.0], \"type\": \"scatter\", \"uid\": \"c79d357c-dbfd-11e8-8ddb-a41f72875c19\"}, {\"line\": {\"dash\": \"dash\"}, \"name\": \"\\u5185\\u90e8\\u6c9f\\u901a(\\u5218\\u4e09\\u9633)\", \"x\": [\"10-2\", \"10-3\", \"10-4\"], \"y\": [null, 0.0, null], \"type\": \"scatter\", \"uid\": \"c79d357d-dbfd-11e8-8ddb-a41f72875c19\"}, {\"line\": {\"dash\": \"longdash\"}, \"name\": \"\\u5185\\u90e8\\u6c9f\\u901a(\\u6636\\u5409\\u9633)\", \"x\": [\"10-2\", \"10-3\", \"10-4\"], \"y\": [null, 0.0, 0.0], \"type\": \"scatter\", \"uid\": \"c79d357e-dbfd-11e8-8ddb-a41f72875c19\"}, {\"line\": {\"dash\": \"dashdot\"}, \"name\": \"\\u5185\\u90e8\\u6c9f\\u901a(\\u4efb\\u96ea)\", \"x\": [\"10-2\", \"10-3\", \"10-4\"], \"y\": [0.0, 0.0, 0.0], \"type\": \"scatter\", \"uid\": \"c79d357f-dbfd-11e8-8ddb-a41f72875c19\"}, {\"line\": {\"dash\": \"longdashdot\"}, \"name\": \"\\u5185\\u90e8\\u6c9f\\u901a(\\u674e\\u5e86\\u539f)\", \"x\": [\"10-2\", \"10-3\", \"10-4\"], \"y\": [0.0, 0.0, 1.0], \"type\": \"scatter\", \"uid\": \"c79d3580-dbfd-11e8-8ddb-a41f72875c19\"}, {\"line\": {\"dash\": \"solid\"}, \"name\": \"\\u5185\\u90e8\\u6c9f\\u901a(\\u8c22\\u5fb7\\u5065)\", \"x\": [\"10-2\", \"10-3\", \"10-4\"], \"y\": [0.0, 0.0, 0.0], \"type\": \"scatter\", \"uid\": \"c79d3581-dbfd-11e8-8ddb-a41f72875c19\"}, {\"line\": {\"dash\": \"dot\"}, \"name\": \"\\u5185\\u90e8\\u6c9f\\u901a(\\u6797\\u6587\\u6587)\", \"x\": [\"10-2\", \"10-3\", \"10-4\"], \"y\": [null, null, 0.0], \"type\": \"scatter\", \"uid\": \"c79d3582-dbfd-11e8-8ddb-a41f72875c19\"}, {\"line\": {\"dash\": \"dash\"}, \"name\": \"\\u5185\\u90e8\\u6c9f\\u901a(\\u738b\\u7ea2)\", \"x\": [\"10-2\", \"10-3\", \"10-4\"], \"y\": [null, null, 0.0], \"type\": \"scatter\", \"uid\": \"c79d3583-dbfd-11e8-8ddb-a41f72875c19\"}, {\"line\": {\"dash\": \"solid\"}, \"name\": \"\\u5e02\\u573a\\u652f\\u6301(\\u8d75\\u73a5)\", \"x\": [\"10-2\", \"10-3\", \"10-4\"], \"y\": [0.0, 0.0, 0.0], \"type\": \"scatter\", \"uid\": \"c79d3584-dbfd-11e8-8ddb-a41f72875c19\"}, {\"line\": {\"dash\": \"dot\"}, \"name\": \"\\u5e02\\u573a\\u652f\\u6301(\\u4e8e\\u52c7\\u4e00)\", \"x\": [\"10-2\", \"10-3\", \"10-4\"], \"y\": [0.0, 0.0, 0.0], \"type\": \"scatter\", \"uid\": \"c79d3585-dbfd-11e8-8ddb-a41f72875c19\"}, {\"line\": {\"dash\": \"dash\"}, \"name\": \"\\u5e02\\u573a\\u652f\\u6301(\\u5f20\\u5b88\\u4f1f)\", \"x\": [\"10-2\", \"10-3\", \"10-4\"], \"y\": [0.0, 0.0, 0.0], \"type\": \"scatter\", \"uid\": \"c79d3586-dbfd-11e8-8ddb-a41f72875c19\"}, {\"line\": {\"dash\": \"longdash\"}, \"name\": \"\\u5e02\\u573a\\u652f\\u6301(\\u51af\\u656c\\u5ca9)\", \"x\": [\"10-2\", \"10-3\", \"10-4\"], \"y\": [null, null, 0.0], \"type\": \"scatter\", \"uid\": \"c79d3587-dbfd-11e8-8ddb-a41f72875c19\"}, {\"line\": {\"dash\": \"dashdot\"}, \"name\": \"\\u5e02\\u573a\\u652f\\u6301(\\u8def\\u6167\\u840d)\", \"x\": [\"10-2\", \"10-3\", \"10-4\"], \"y\": [0.0, 0.0, 0.0], \"type\": \"scatter\", \"uid\": \"c79d3588-dbfd-11e8-8ddb-a41f72875c19\"}, {\"line\": {\"dash\": \"longdashdot\"}, \"name\": \"\\u5e02\\u573a\\u652f\\u6301(\\u9648\\u9e4f\\u71d5)\", \"x\": [\"10-2\", \"10-3\", \"10-4\"], \"y\": [null, 0.0, 0.0], \"type\": \"scatter\", \"uid\": \"c79d3589-dbfd-11e8-8ddb-a41f72875c19\"}, {\"line\": {\"dash\": \"solid\"}, \"name\": \"\\u5e02\\u573a\\u652f\\u6301(\\u9a6c\\u6f47)\", \"x\": [\"10-2\", \"10-3\", \"10-4\"], \"y\": [0.0, 0.0, 0.0], \"type\": \"scatter\", \"uid\": \"c79d358a-dbfd-11e8-8ddb-a41f72875c19\"}, {\"line\": {\"dash\": \"dot\"}, \"name\": \"\\u5e02\\u573a\\u652f\\u6301(\\u8f66\\u5929\\u680b)\", \"x\": [\"10-2\", \"10-3\", \"10-4\"], \"y\": [null, null, 0.0], \"type\": \"scatter\", \"uid\": \"c79d358b-dbfd-11e8-8ddb-a41f72875c19\"}, {\"line\": {\"dash\": \"dash\"}, \"name\": \"\\u5e02\\u573a\\u652f\\u6301(\\u6c88\\u6069\\u60e0)\", \"x\": [\"10-2\", \"10-3\", \"10-4\"], \"y\": [null, null, 0.0], \"type\": \"scatter\", \"uid\": \"c79d358c-dbfd-11e8-8ddb-a41f72875c19\"}, {\"line\": {\"dash\": \"longdash\"}, \"name\": \"\\u5e02\\u573a\\u652f\\u6301(\\u5b5f\\u660a)\", \"x\": [\"10-2\", \"10-3\", \"10-4\"], \"y\": [0.0, 0.0, 0.0], \"type\": \"scatter\", \"uid\": \"c79d358d-dbfd-11e8-8ddb-a41f72875c19\"}, {\"line\": {\"dash\": \"dashdot\"}, \"name\": \"\\u5e02\\u573a\\u652f\\u6301(\\u4e8e\\u6167)\", \"x\": [\"10-2\", \"10-3\", \"10-4\"], \"y\": [0.0, 0.0, 0.0], \"type\": \"scatter\", \"uid\": \"c79d358e-dbfd-11e8-8ddb-a41f72875c19\"}, {\"line\": {\"dash\": \"longdashdot\"}, \"name\": \"\\u5e02\\u573a\\u652f\\u6301(\\u5c48\\u6602)\", \"x\": [\"10-2\", \"10-3\", \"10-4\"], \"y\": [0.0, null, 0.0], \"type\": \"scatter\", \"uid\": \"c79d358f-dbfd-11e8-8ddb-a41f72875c19\"}, {\"line\": {\"dash\": \"solid\"}, \"name\": \"\\u5e02\\u573a\\u652f\\u6301(\\u51b7\\u96ea)\", \"x\": [\"10-2\", \"10-3\", \"10-4\"], \"y\": [0.0, null, 0.0], \"type\": \"scatter\", \"uid\": \"c79d3590-dbfd-11e8-8ddb-a41f72875c19\"}, {\"line\": {\"dash\": \"dot\"}, \"name\": \"\\u5e02\\u573a\\u652f\\u6301(\\u97e9\\u5c11\\u6000)\", \"x\": [\"10-2\", \"10-3\", \"10-4\"], \"y\": [0.0, 0.0, 0.0], \"type\": \"scatter\", \"uid\": \"c79d3591-dbfd-11e8-8ddb-a41f72875c19\"}, {\"line\": {\"dash\": \"dash\"}, \"name\": \"\\u5e02\\u573a\\u652f\\u6301(\\u6d82\\u6210\\u82b3)\", \"x\": [\"10-2\", \"10-3\", \"10-4\"], \"y\": [null, null, 0.0], \"type\": \"scatter\", \"uid\": \"c79d3592-dbfd-11e8-8ddb-a41f72875c19\"}, {\"line\": {\"dash\": \"longdash\"}, \"name\": \"\\u5e02\\u573a\\u652f\\u6301(\\u5f20\\u60a6)\", \"x\": [\"10-2\", \"10-3\", \"10-4\"], \"y\": [null, null, 0.0], \"type\": \"scatter\", \"uid\": \"c79d3593-dbfd-11e8-8ddb-a41f72875c19\"}, {\"line\": {\"dash\": \"dashdot\"}, \"name\": \"\\u5e02\\u573a\\u652f\\u6301(\\u674e\\u534e\\u4e91)\", \"x\": [\"10-2\", \"10-3\", \"10-4\"], \"y\": [null, null, 0.0], \"type\": \"scatter\", \"uid\": \"c79d3594-dbfd-11e8-8ddb-a41f72875c19\"}, {\"line\": {\"dash\": \"longdashdot\"}, \"name\": \"\\u5e02\\u573a\\u652f\\u6301(\\u8303\\u65ed\\u5b81)\", \"x\": [\"10-2\", \"10-3\", \"10-4\"], \"y\": [0.0, 0.0, 0.0], \"type\": \"scatter\", \"uid\": \"c79d3595-dbfd-11e8-8ddb-a41f72875c19\"}, {\"line\": {\"dash\": \"solid\"}, \"name\": \"\\u5e02\\u573a\\u652f\\u6301(\\u6bb5\\u5229\\u5f3a)\", \"x\": [\"10-2\", \"10-3\", \"10-4\"], \"y\": [0.0, null, null], \"type\": \"scatter\", \"uid\": \"c79d3596-dbfd-11e8-8ddb-a41f72875c19\"}, {\"line\": {\"dash\": \"dot\"}, \"name\": \"\\u5e02\\u573a\\u652f\\u6301(\\u59da\\u76df\\u6210)\", \"x\": [\"10-2\", \"10-3\", \"10-4\"], \"y\": [0.0, 1.0, 0.0], \"type\": \"scatter\", \"uid\": \"c79d3597-dbfd-11e8-8ddb-a41f72875c19\"}, {\"line\": {\"dash\": \"dash\"}, \"name\": \"\\u5e02\\u573a\\u652f\\u6301(\\u6768\\u4f1f\\u98de)\", \"x\": [\"10-2\", \"10-3\", \"10-4\"], \"y\": [0.0, 1.0, 0.0], \"type\": \"scatter\", \"uid\": \"c79d3598-dbfd-11e8-8ddb-a41f72875c19\"}, {\"line\": {\"dash\": \"longdash\"}, \"name\": \"\\u5e02\\u573a\\u652f\\u6301(\\u5218\\u6c5f)\", \"x\": [\"10-2\", \"10-3\", \"10-4\"], \"y\": [0.0, 1.0, 0.0], \"type\": \"scatter\", \"uid\": \"c79d3599-dbfd-11e8-8ddb-a41f72875c19\"}, {\"line\": {\"dash\": \"dashdot\"}, \"name\": \"\\u5e02\\u573a\\u652f\\u6301(\\u82cf\\u5f66\\u52cb)\", \"x\": [\"10-2\", \"10-3\", \"10-4\"], \"y\": [null, 0.0, 0.0], \"type\": \"scatter\", \"uid\": \"c79d359a-dbfd-11e8-8ddb-a41f72875c19\"}, {\"line\": {\"dash\": \"longdashdot\"}, \"name\": \"\\u5e02\\u573a\\u652f\\u6301(\\u5468\\u6768)\", \"x\": [\"10-2\", \"10-3\", \"10-4\"], \"y\": [0.0, 0.0, 0.0], \"type\": \"scatter\", \"uid\": \"c79d359b-dbfd-11e8-8ddb-a41f72875c19\"}, {\"line\": {\"dash\": \"solid\"}, \"name\": \"\\u5e02\\u573a\\u652f\\u6301(\\u5360\\u4f1f)\", \"x\": [\"10-2\", \"10-3\", \"10-4\"], \"y\": [0.0, 1.0, 0.0], \"type\": \"scatter\", \"uid\": \"c79d359c-dbfd-11e8-8ddb-a41f72875c19\"}, {\"line\": {\"dash\": \"dot\"}, \"name\": \"\\u5e02\\u573a\\u652f\\u6301(\\u5c01\\u5f66\\u6770)\", \"x\": [\"10-2\", \"10-3\", \"10-4\"], \"y\": [0.0, 0.0, 0.0], \"type\": \"scatter\", \"uid\": \"c79d359d-dbfd-11e8-8ddb-a41f72875c19\"}, {\"line\": {\"dash\": \"dash\"}, \"name\": \"\\u5e02\\u573a\\u652f\\u6301(\\u5218\\u4e09\\u9633)\", \"x\": [\"10-2\", \"10-3\", \"10-4\"], \"y\": [null, 0.0, null], \"type\": \"scatter\", \"uid\": \"c79d359e-dbfd-11e8-8ddb-a41f72875c19\"}, {\"line\": {\"dash\": \"longdash\"}, \"name\": \"\\u5e02\\u573a\\u652f\\u6301(\\u6636\\u5409\\u9633)\", \"x\": [\"10-2\", \"10-3\", \"10-4\"], \"y\": [null, 0.0, 0.0], \"type\": \"scatter\", \"uid\": \"c79d359f-dbfd-11e8-8ddb-a41f72875c19\"}, {\"line\": {\"dash\": \"dashdot\"}, \"name\": \"\\u5e02\\u573a\\u652f\\u6301(\\u4efb\\u96ea)\", \"x\": [\"10-2\", \"10-3\", \"10-4\"], \"y\": [0.0, 1.0, 0.0], \"type\": \"scatter\", \"uid\": \"c79d35a0-dbfd-11e8-8ddb-a41f72875c19\"}, {\"line\": {\"dash\": \"longdashdot\"}, \"name\": \"\\u5e02\\u573a\\u652f\\u6301(\\u674e\\u5e86\\u539f)\", \"x\": [\"10-2\", \"10-3\", \"10-4\"], \"y\": [0.0, 0.0, 0.0], \"type\": \"scatter\", \"uid\": \"c79d35a1-dbfd-11e8-8ddb-a41f72875c19\"}, {\"line\": {\"dash\": \"solid\"}, \"name\": \"\\u5e02\\u573a\\u652f\\u6301(\\u8c22\\u5fb7\\u5065)\", \"x\": [\"10-2\", \"10-3\", \"10-4\"], \"y\": [0.0, 0.0, 0.0], \"type\": \"scatter\", \"uid\": \"c79d35a2-dbfd-11e8-8ddb-a41f72875c19\"}, {\"line\": {\"dash\": \"dot\"}, \"name\": \"\\u5e02\\u573a\\u652f\\u6301(\\u6797\\u6587\\u6587)\", \"x\": [\"10-2\", \"10-3\", \"10-4\"], \"y\": [null, null, 0.0], \"type\": \"scatter\", \"uid\": \"c79d35a3-dbfd-11e8-8ddb-a41f72875c19\"}, {\"line\": {\"dash\": \"dash\"}, \"name\": \"\\u5e02\\u573a\\u652f\\u6301(\\u738b\\u7ea2)\", \"x\": [\"10-2\", \"10-3\", \"10-4\"], \"y\": [null, null, 0.0], \"type\": \"scatter\", \"uid\": \"c79d35a4-dbfd-11e8-8ddb-a41f72875c19\"}, {\"line\": {\"dash\": \"solid\"}, \"name\": \"\\u51fa\\u5dee(\\u8d75\\u73a5)\", \"x\": [\"10-2\", \"10-3\", \"10-4\"], \"y\": [0.0, 0.0, 0.0], \"type\": \"scatter\", \"uid\": \"c79d35a5-dbfd-11e8-8ddb-a41f72875c19\"}, {\"line\": {\"dash\": \"dot\"}, \"name\": \"\\u51fa\\u5dee(\\u4e8e\\u52c7\\u4e00)\", \"x\": [\"10-2\", \"10-3\", \"10-4\"], \"y\": [0.0, 0.0, 0.0], \"type\": \"scatter\", \"uid\": \"c79d35a6-dbfd-11e8-8ddb-a41f72875c19\"}, {\"line\": {\"dash\": \"dash\"}, \"name\": \"\\u51fa\\u5dee(\\u5f20\\u5b88\\u4f1f)\", \"x\": [\"10-2\", \"10-3\", \"10-4\"], \"y\": [0.0, 0.0, 0.0], \"type\": \"scatter\", \"uid\": \"c79d35a7-dbfd-11e8-8ddb-a41f72875c19\"}, {\"line\": {\"dash\": \"longdash\"}, \"name\": \"\\u51fa\\u5dee(\\u51af\\u656c\\u5ca9)\", \"x\": [\"10-2\", \"10-3\", \"10-4\"], \"y\": [null, null, 0.0], \"type\": \"scatter\", \"uid\": \"c79d35a8-dbfd-11e8-8ddb-a41f72875c19\"}, {\"line\": {\"dash\": \"dashdot\"}, \"name\": \"\\u51fa\\u5dee(\\u8def\\u6167\\u840d)\", \"x\": [\"10-2\", \"10-3\", \"10-4\"], \"y\": [0.0, 0.0, 0.0], \"type\": \"scatter\", \"uid\": \"c79d35a9-dbfd-11e8-8ddb-a41f72875c19\"}, {\"line\": {\"dash\": \"longdashdot\"}, \"name\": \"\\u51fa\\u5dee(\\u9648\\u9e4f\\u71d5)\", \"x\": [\"10-2\", \"10-3\", \"10-4\"], \"y\": [null, 0.0, 0.0], \"type\": \"scatter\", \"uid\": \"c79d35aa-dbfd-11e8-8ddb-a41f72875c19\"}, {\"line\": {\"dash\": \"solid\"}, \"name\": \"\\u51fa\\u5dee(\\u9a6c\\u6f47)\", \"x\": [\"10-2\", \"10-3\", \"10-4\"], \"y\": [0.0, 0.0, 1.0], \"type\": \"scatter\", \"uid\": \"c79d35ab-dbfd-11e8-8ddb-a41f72875c19\"}, {\"line\": {\"dash\": \"dot\"}, \"name\": \"\\u51fa\\u5dee(\\u8f66\\u5929\\u680b)\", \"x\": [\"10-2\", \"10-3\", \"10-4\"], \"y\": [null, null, 0.0], \"type\": \"scatter\", \"uid\": \"c79d35ac-dbfd-11e8-8ddb-a41f72875c19\"}, {\"line\": {\"dash\": \"dash\"}, \"name\": \"\\u51fa\\u5dee(\\u6c88\\u6069\\u60e0)\", \"x\": [\"10-2\", \"10-3\", \"10-4\"], \"y\": [null, null, 0.0], \"type\": \"scatter\", \"uid\": \"c79d35ad-dbfd-11e8-8ddb-a41f72875c19\"}, {\"line\": {\"dash\": \"longdash\"}, \"name\": \"\\u51fa\\u5dee(\\u5b5f\\u660a)\", \"x\": [\"10-2\", \"10-3\", \"10-4\"], \"y\": [0.0, 0.0, 0.0], \"type\": \"scatter\", \"uid\": \"c79d35ae-dbfd-11e8-8ddb-a41f72875c19\"}, {\"line\": {\"dash\": \"dashdot\"}, \"name\": \"\\u51fa\\u5dee(\\u4e8e\\u6167)\", \"x\": [\"10-2\", \"10-3\", \"10-4\"], \"y\": [0.0, 0.0, 0.0], \"type\": \"scatter\", \"uid\": \"c79d35af-dbfd-11e8-8ddb-a41f72875c19\"}, {\"line\": {\"dash\": \"longdashdot\"}, \"name\": \"\\u51fa\\u5dee(\\u5c48\\u6602)\", \"x\": [\"10-2\", \"10-3\", \"10-4\"], \"y\": [0.0, null, 0.0], \"type\": \"scatter\", \"uid\": \"c79d35b0-dbfd-11e8-8ddb-a41f72875c19\"}, {\"line\": {\"dash\": \"solid\"}, \"name\": \"\\u51fa\\u5dee(\\u51b7\\u96ea)\", \"x\": [\"10-2\", \"10-3\", \"10-4\"], \"y\": [0.0, null, 0.0], \"type\": \"scatter\", \"uid\": \"c79d35b1-dbfd-11e8-8ddb-a41f72875c19\"}, {\"line\": {\"dash\": \"dot\"}, \"name\": \"\\u51fa\\u5dee(\\u97e9\\u5c11\\u6000)\", \"x\": [\"10-2\", \"10-3\", \"10-4\"], \"y\": [0.0, 0.0, 0.0], \"type\": \"scatter\", \"uid\": \"c79d35b2-dbfd-11e8-8ddb-a41f72875c19\"}, {\"line\": {\"dash\": \"dash\"}, \"name\": \"\\u51fa\\u5dee(\\u6d82\\u6210\\u82b3)\", \"x\": [\"10-2\", \"10-3\", \"10-4\"], \"y\": [null, null, 0.0], \"type\": \"scatter\", \"uid\": \"c79d35b3-dbfd-11e8-8ddb-a41f72875c19\"}, {\"line\": {\"dash\": \"longdash\"}, \"name\": \"\\u51fa\\u5dee(\\u5f20\\u60a6)\", \"x\": [\"10-2\", \"10-3\", \"10-4\"], \"y\": [null, null, 0.0], \"type\": \"scatter\", \"uid\": \"c79d35b4-dbfd-11e8-8ddb-a41f72875c19\"}, {\"line\": {\"dash\": \"dashdot\"}, \"name\": \"\\u51fa\\u5dee(\\u674e\\u534e\\u4e91)\", \"x\": [\"10-2\", \"10-3\", \"10-4\"], \"y\": [null, null, 0.0], \"type\": \"scatter\", \"uid\": \"c79d35b5-dbfd-11e8-8ddb-a41f72875c19\"}, {\"line\": {\"dash\": \"longdashdot\"}, \"name\": \"\\u51fa\\u5dee(\\u8303\\u65ed\\u5b81)\", \"x\": [\"10-2\", \"10-3\", \"10-4\"], \"y\": [0.0, 0.0, 0.0], \"type\": \"scatter\", \"uid\": \"c79d35b6-dbfd-11e8-8ddb-a41f72875c19\"}, {\"line\": {\"dash\": \"solid\"}, \"name\": \"\\u51fa\\u5dee(\\u6bb5\\u5229\\u5f3a)\", \"x\": [\"10-2\", \"10-3\", \"10-4\"], \"y\": [0.0, null, null], \"type\": \"scatter\", \"uid\": \"c79d35b7-dbfd-11e8-8ddb-a41f72875c19\"}, {\"line\": {\"dash\": \"dot\"}, \"name\": \"\\u51fa\\u5dee(\\u59da\\u76df\\u6210)\", \"x\": [\"10-2\", \"10-3\", \"10-4\"], \"y\": [0.0, 1.0, 0.0], \"type\": \"scatter\", \"uid\": \"c79d35b8-dbfd-11e8-8ddb-a41f72875c19\"}, {\"line\": {\"dash\": \"dash\"}, \"name\": \"\\u51fa\\u5dee(\\u6768\\u4f1f\\u98de)\", \"x\": [\"10-2\", \"10-3\", \"10-4\"], \"y\": [0.0, 1.0, 0.0], \"type\": \"scatter\", \"uid\": \"c79d35b9-dbfd-11e8-8ddb-a41f72875c19\"}, {\"line\": {\"dash\": \"longdash\"}, \"name\": \"\\u51fa\\u5dee(\\u5218\\u6c5f)\", \"x\": [\"10-2\", \"10-3\", \"10-4\"], \"y\": [0.0, 1.0, 0.0], \"type\": \"scatter\", \"uid\": \"c79d35ba-dbfd-11e8-8ddb-a41f72875c19\"}, {\"line\": {\"dash\": \"dashdot\"}, \"name\": \"\\u51fa\\u5dee(\\u82cf\\u5f66\\u52cb)\", \"x\": [\"10-2\", \"10-3\", \"10-4\"], \"y\": [null, 0.0, 1.0], \"type\": \"scatter\", \"uid\": \"c79d35bb-dbfd-11e8-8ddb-a41f72875c19\"}, {\"line\": {\"dash\": \"longdashdot\"}, \"name\": \"\\u51fa\\u5dee(\\u5468\\u6768)\", \"x\": [\"10-2\", \"10-3\", \"10-4\"], \"y\": [0.0, 0.0, 0.0], \"type\": \"scatter\", \"uid\": \"c79d35bc-dbfd-11e8-8ddb-a41f72875c19\"}, {\"line\": {\"dash\": \"solid\"}, \"name\": \"\\u51fa\\u5dee(\\u5360\\u4f1f)\", \"x\": [\"10-2\", \"10-3\", \"10-4\"], \"y\": [0.0, 0.0, 0.0], \"type\": \"scatter\", \"uid\": \"c79d35bd-dbfd-11e8-8ddb-a41f72875c19\"}, {\"line\": {\"dash\": \"dot\"}, \"name\": \"\\u51fa\\u5dee(\\u5c01\\u5f66\\u6770)\", \"x\": [\"10-2\", \"10-3\", \"10-4\"], \"y\": [0.0, 0.0, 0.0], \"type\": \"scatter\", \"uid\": \"c79d35be-dbfd-11e8-8ddb-a41f72875c19\"}, {\"line\": {\"dash\": \"dash\"}, \"name\": \"\\u51fa\\u5dee(\\u5218\\u4e09\\u9633)\", \"x\": [\"10-2\", \"10-3\", \"10-4\"], \"y\": [null, 0.0, null], \"type\": \"scatter\", \"uid\": \"c79d35bf-dbfd-11e8-8ddb-a41f72875c19\"}, {\"line\": {\"dash\": \"longdash\"}, \"name\": \"\\u51fa\\u5dee(\\u6636\\u5409\\u9633)\", \"x\": [\"10-2\", \"10-3\", \"10-4\"], \"y\": [null, 0.0, 0.0], \"type\": \"scatter\", \"uid\": \"c79d35c0-dbfd-11e8-8ddb-a41f72875c19\"}, {\"line\": {\"dash\": \"dashdot\"}, \"name\": \"\\u51fa\\u5dee(\\u4efb\\u96ea)\", \"x\": [\"10-2\", \"10-3\", \"10-4\"], \"y\": [0.0, 1.0, 0.0], \"type\": \"scatter\", \"uid\": \"c79d35c1-dbfd-11e8-8ddb-a41f72875c19\"}, {\"line\": {\"dash\": \"longdashdot\"}, \"name\": \"\\u51fa\\u5dee(\\u674e\\u5e86\\u539f)\", \"x\": [\"10-2\", \"10-3\", \"10-4\"], \"y\": [0.0, 0.0, 0.0], \"type\": \"scatter\", \"uid\": \"c79d35c2-dbfd-11e8-8ddb-a41f72875c19\"}, {\"line\": {\"dash\": \"solid\"}, \"name\": \"\\u51fa\\u5dee(\\u8c22\\u5fb7\\u5065)\", \"x\": [\"10-2\", \"10-3\", \"10-4\"], \"y\": [0.0, 0.0, 0.0], \"type\": \"scatter\", \"uid\": \"c79d35c3-dbfd-11e8-8ddb-a41f72875c19\"}, {\"line\": {\"dash\": \"dot\"}, \"name\": \"\\u51fa\\u5dee(\\u6797\\u6587\\u6587)\", \"x\": [\"10-2\", \"10-3\", \"10-4\"], \"y\": [null, null, 0.0], \"type\": \"scatter\", \"uid\": \"c79d35c4-dbfd-11e8-8ddb-a41f72875c19\"}, {\"line\": {\"dash\": \"dash\"}, \"name\": \"\\u51fa\\u5dee(\\u738b\\u7ea2)\", \"x\": [\"10-2\", \"10-3\", \"10-4\"], \"y\": [null, null, 0.0], \"type\": \"scatter\", \"uid\": \"c79d35c5-dbfd-11e8-8ddb-a41f72875c19\"}], {\"title\": \"\\u7985\\u9053bug&\\u5185\\u90e8\\u6c9f\\u901a&\\u5e02\\u573a\\u652f\\u6301&\\u51fa\\u5dee\\u5468\\u8d8b\\u52bf\\u56fe\", \"xaxis\": {\"mirror\": \"all\", \"nticks\": 20, \"showgrid\": true, \"showline\": true, \"title\": \"\\u5468\", \"type\": \"category\", \"zeroline\": true}, \"yaxis\": {\"mirror\": \"all\", \"nticks\": 20, \"showgrid\": true, \"showline\": true, \"title\": \"\\u7985\\u9053bug&\\u5185\\u90e8\\u6c9f\\u901a&\\u5e02\\u573a\\u652f\\u6301&\\u51fa\\u5dee\", \"zeroline\": true}}, {\"showLink\": true, \"linkText\": \"Export to plot.ly\"})});</script>"
      ]
     },
     "metadata": {},
     "output_type": "display_data"
    }
   ],
   "source": [
    "ss=myModule.format(all_dict ,\"日期\" ,['内部沟通','市场支持', '出差', '禅道bug'])\n",
    "ss.add_group('负责人')\n",
    "tt = myModule.myPlot(ss.groupby('sum'))\n",
    "tt.plot('line')"
   ]
  }
 ],
 "metadata": {
  "celltoolbar": "Raw Cell Format",
  "hide_input": false,
  "kernelspec": {
   "display_name": "Python 3",
   "language": "python",
   "name": "python3"
  },
  "language_info": {
   "codemirror_mode": {
    "name": "ipython",
    "version": 3
   },
   "file_extension": ".py",
   "mimetype": "text/x-python",
   "name": "python",
   "nbconvert_exporter": "python",
   "pygments_lexer": "ipython3",
   "version": "3.6.0"
  },
  "toc": {
   "base_numbering": 1,
   "nav_menu": {},
   "number_sections": true,
   "sideBar": true,
   "skip_h1_title": false,
   "title_cell": "Table of Contents",
   "title_sidebar": "Contents",
   "toc_cell": false,
   "toc_position": {
    "height": "513px",
    "left": "32px",
    "top": "107px",
    "width": "271px"
   },
   "toc_section_display": true,
   "toc_window_display": true
  }
 },
 "nbformat": 4,
 "nbformat_minor": 2
}
