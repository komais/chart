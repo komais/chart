{
 "cells": [
  {
   "cell_type": "code",
   "execution_count": 141,
   "metadata": {
    "collapsed": false,
    "hide_input": false
   },
   "outputs": [
    {
     "name": "stdout",
     "output_type": "stream",
     "text": [
      "The autoreload extension is already loaded. To reload it, use:\n",
      "  %reload_ext autoreload\n"
     ]
    }
   ],
   "source": [
    "%load_ext autoreload\n",
    "%autoreload 2\n",
    "import sys\n",
    "sys.path.append('./')\n",
    "import myModule\n",
    "import pandas as pd "
   ]
  },
  {
   "cell_type": "code",
   "execution_count": 142,
   "metadata": {
    "collapsed": false
   },
   "outputs": [
    {
     "data": {
      "text/html": [
       "<script>requirejs.config({paths: { 'plotly': ['https://cdn.plot.ly/plotly-latest.min']},});if(!window.Plotly) {{require(['plotly'],function(plotly) {window.Plotly=plotly;});}}</script>"
      ],
      "text/vnd.plotly.v1+html": [
       "<script>requirejs.config({paths: { 'plotly': ['https://cdn.plot.ly/plotly-latest.min']},});if(!window.Plotly) {{require(['plotly'],function(plotly) {window.Plotly=plotly;});}}</script>"
      ]
     },
     "metadata": {},
     "output_type": "display_data"
    },
    {
     "data": {
      "text/plain": [
       "<module 'myModule' from '/home/jiankong/jupyter/chart/bin/chart/myModule.py'>"
      ]
     },
     "execution_count": 142,
     "metadata": {},
     "output_type": "execute_result"
    }
   ],
   "source": [
    "import imp\n",
    "imp.reload(myModule)"
   ]
  },
  {
   "cell_type": "code",
   "execution_count": 143,
   "metadata": {
    "collapsed": false
   },
   "outputs": [],
   "source": [
    "import os\n",
    "bindir = os.path.dirname(os.getcwd())\n",
    "pathway = bindir + '/../data/QC/'\n",
    "all_files , title = myModule.get_title(pathway , 0)##给路径\n",
    "all_df1 = myModule.read_xlsx(all_files, 0 ) ## read all files\n",
    "#data_dict = {'下机批次比':['下机批次数','下机项目数']}\n",
    "\n",
    "all_df2 = myModule.read_xlsx(all_files , 1 )\n"
   ]
  },
  {
   "cell_type": "code",
   "execution_count": 144,
   "metadata": {
    "collapsed": false
   },
   "outputs": [],
   "source": [
    "#myModule.upgrade_df(all_df1, [ ['下机批次比','下机批次数','下机项目数','/'] ])\n",
    "#all_df1[['下机批次比','下机批次数','下机项目数']]"
   ]
  },
  {
   "cell_type": "markdown",
   "metadata": {},
   "source": [
    "# QC分析组整体情况"
   ]
  },
  {
   "cell_type": "markdown",
   "metadata": {},
   "source": [
    "## 整体人员情况"
   ]
  },
  {
   "cell_type": "code",
   "execution_count": 145,
   "metadata": {
    "collapsed": false
   },
   "outputs": [
    {
     "data": {
      "application/vnd.plotly.v1+json": {
       "data": [
        {
         "name": "人员",
         "type": "bar",
         "uid": "d935c076-e625-11e8-8ddb-a41f72875c19",
         "x": [
          "8-1",
          "8-2",
          "8-3",
          "8-4",
          "8-5",
          "9-1",
          "9-2",
          "9-3",
          "9-4",
          "10-2",
          "10-3",
          "10-4",
          "10-5",
          "11-1"
         ],
         "y": [
          4,
          4,
          4,
          4,
          4,
          4,
          3,
          2,
          2,
          2,
          2,
          2,
          8,
          8
         ]
        }
       ],
       "layout": {
        "title": "人员周趋势图",
        "xaxis": {
         "mirror": "all",
         "nticks": 20,
         "showgrid": true,
         "showline": true,
         "title": "周",
         "type": "category",
         "zeroline": true
        },
        "yaxis": {
         "mirror": "all",
         "nticks": 20,
         "showgrid": true,
         "showline": true,
         "title": "人员",
         "zeroline": true
        }
       }
      },
      "text/html": [
       "<div id=\"1f7bd31f-7c55-492a-bc54-14a1971ca140\" style=\"height: 525px; width: 100%;\" class=\"plotly-graph-div\"></div><script type=\"text/javascript\">require([\"plotly\"], function(Plotly) { window.PLOTLYENV=window.PLOTLYENV || {};window.PLOTLYENV.BASE_URL=\"https://plot.ly\";Plotly.newPlot(\"1f7bd31f-7c55-492a-bc54-14a1971ca140\", [{\"name\": \"\\u4eba\\u5458\", \"x\": [\"8-1\", \"8-2\", \"8-3\", \"8-4\", \"8-5\", \"9-1\", \"9-2\", \"9-3\", \"9-4\", \"10-2\", \"10-3\", \"10-4\", \"10-5\", \"11-1\"], \"y\": [4, 4, 4, 4, 4, 4, 3, 2, 2, 2, 2, 2, 8, 8], \"type\": \"bar\", \"uid\": \"d935c076-e625-11e8-8ddb-a41f72875c19\"}], {\"title\": \"\\u4eba\\u5458\\u5468\\u8d8b\\u52bf\\u56fe\", \"xaxis\": {\"mirror\": \"all\", \"nticks\": 20, \"showgrid\": true, \"showline\": true, \"title\": \"\\u5468\", \"type\": \"category\", \"zeroline\": true}, \"yaxis\": {\"mirror\": \"all\", \"nticks\": 20, \"showgrid\": true, \"showline\": true, \"title\": \"\\u4eba\\u5458\", \"zeroline\": true}}, {\"showLink\": true, \"linkText\": \"Export to plot.ly\"})});</script>"
      ],
      "text/vnd.plotly.v1+html": [
       "<div id=\"1f7bd31f-7c55-492a-bc54-14a1971ca140\" style=\"height: 525px; width: 100%;\" class=\"plotly-graph-div\"></div><script type=\"text/javascript\">require([\"plotly\"], function(Plotly) { window.PLOTLYENV=window.PLOTLYENV || {};window.PLOTLYENV.BASE_URL=\"https://plot.ly\";Plotly.newPlot(\"1f7bd31f-7c55-492a-bc54-14a1971ca140\", [{\"name\": \"\\u4eba\\u5458\", \"x\": [\"8-1\", \"8-2\", \"8-3\", \"8-4\", \"8-5\", \"9-1\", \"9-2\", \"9-3\", \"9-4\", \"10-2\", \"10-3\", \"10-4\", \"10-5\", \"11-1\"], \"y\": [4, 4, 4, 4, 4, 4, 3, 2, 2, 2, 2, 2, 8, 8], \"type\": \"bar\", \"uid\": \"d935c076-e625-11e8-8ddb-a41f72875c19\"}], {\"title\": \"\\u4eba\\u5458\\u5468\\u8d8b\\u52bf\\u56fe\", \"xaxis\": {\"mirror\": \"all\", \"nticks\": 20, \"showgrid\": true, \"showline\": true, \"title\": \"\\u5468\", \"type\": \"category\", \"zeroline\": true}, \"yaxis\": {\"mirror\": \"all\", \"nticks\": 20, \"showgrid\": true, \"showline\": true, \"title\": \"\\u4eba\\u5458\", \"zeroline\": true}}, {\"showLink\": true, \"linkText\": \"Export to plot.ly\"})});</script>"
      ]
     },
     "metadata": {},
     "output_type": "display_data"
    },
    {
     "data": {
      "application/vnd.plotly.v1+json": {
       "data": [
        {
         "name": "人员",
         "type": "bar",
         "uid": "d935c077-e625-11e8-8ddb-a41f72875c19",
         "x": [
          8,
          9,
          10,
          11
         ],
         "y": [
          4,
          2.75,
          3.5,
          8
         ]
        }
       ],
       "layout": {
        "title": "人员月趋势图",
        "xaxis": {
         "mirror": "all",
         "nticks": 20,
         "showgrid": true,
         "showline": true,
         "title": "月",
         "type": "category",
         "zeroline": true
        },
        "yaxis": {
         "mirror": "all",
         "nticks": 20,
         "showgrid": true,
         "showline": true,
         "title": "人员",
         "zeroline": true
        }
       }
      },
      "text/html": [
       "<div id=\"e50fa31a-c1ed-4a4b-814a-b1434da26a25\" style=\"height: 525px; width: 100%;\" class=\"plotly-graph-div\"></div><script type=\"text/javascript\">require([\"plotly\"], function(Plotly) { window.PLOTLYENV=window.PLOTLYENV || {};window.PLOTLYENV.BASE_URL=\"https://plot.ly\";Plotly.newPlot(\"e50fa31a-c1ed-4a4b-814a-b1434da26a25\", [{\"name\": \"\\u4eba\\u5458\", \"x\": [8, 9, 10, 11], \"y\": [4.0, 2.75, 3.5, 8.0], \"type\": \"bar\", \"uid\": \"d935c077-e625-11e8-8ddb-a41f72875c19\"}], {\"title\": \"\\u4eba\\u5458\\u6708\\u8d8b\\u52bf\\u56fe\", \"xaxis\": {\"mirror\": \"all\", \"nticks\": 20, \"showgrid\": true, \"showline\": true, \"title\": \"\\u6708\", \"type\": \"category\", \"zeroline\": true}, \"yaxis\": {\"mirror\": \"all\", \"nticks\": 20, \"showgrid\": true, \"showline\": true, \"title\": \"\\u4eba\\u5458\", \"zeroline\": true}}, {\"showLink\": true, \"linkText\": \"Export to plot.ly\"})});</script>"
      ],
      "text/vnd.plotly.v1+html": [
       "<div id=\"e50fa31a-c1ed-4a4b-814a-b1434da26a25\" style=\"height: 525px; width: 100%;\" class=\"plotly-graph-div\"></div><script type=\"text/javascript\">require([\"plotly\"], function(Plotly) { window.PLOTLYENV=window.PLOTLYENV || {};window.PLOTLYENV.BASE_URL=\"https://plot.ly\";Plotly.newPlot(\"e50fa31a-c1ed-4a4b-814a-b1434da26a25\", [{\"name\": \"\\u4eba\\u5458\", \"x\": [8, 9, 10, 11], \"y\": [4.0, 2.75, 3.5, 8.0], \"type\": \"bar\", \"uid\": \"d935c077-e625-11e8-8ddb-a41f72875c19\"}], {\"title\": \"\\u4eba\\u5458\\u6708\\u8d8b\\u52bf\\u56fe\", \"xaxis\": {\"mirror\": \"all\", \"nticks\": 20, \"showgrid\": true, \"showline\": true, \"title\": \"\\u6708\", \"type\": \"category\", \"zeroline\": true}, \"yaxis\": {\"mirror\": \"all\", \"nticks\": 20, \"showgrid\": true, \"showline\": true, \"title\": \"\\u4eba\\u5458\", \"zeroline\": true}}, {\"showLink\": true, \"linkText\": \"Export to plot.ly\"})});</script>"
      ]
     },
     "metadata": {},
     "output_type": "display_data"
    },
    {
     "data": {
      "application/vnd.plotly.v1+json": {
       "data": [
        {
         "name": "人员(北京组)",
         "type": "bar",
         "uid": "d935c078-e625-11e8-8ddb-a41f72875c19",
         "x": [
          "8-1",
          "8-2",
          "8-3",
          "8-4",
          "8-5",
          "9-1",
          "9-2",
          "9-3",
          "9-4",
          "10-2",
          "10-3",
          "10-4",
          "10-5",
          "11-1"
         ],
         "y": [
          4,
          4,
          4,
          4,
          4,
          4,
          3,
          2,
          2,
          2,
          2,
          2,
          2,
          2
         ]
        },
        {
         "name": "人员(义乌组)",
         "type": "bar",
         "uid": "d935c079-e625-11e8-8ddb-a41f72875c19",
         "x": [
          "8-1",
          "8-2",
          "8-3",
          "8-4",
          "8-5",
          "9-1",
          "9-2",
          "9-3",
          "9-4",
          "10-2",
          "10-3",
          "10-4",
          "10-5",
          "11-1"
         ],
         "y": [
          null,
          null,
          null,
          null,
          null,
          null,
          null,
          null,
          null,
          null,
          null,
          null,
          6,
          6
         ]
        }
       ],
       "layout": {
        "barmode": "stack",
        "title": "人员周趋势图",
        "xaxis": {
         "mirror": "all",
         "nticks": 20,
         "showgrid": true,
         "showline": true,
         "title": "周",
         "type": "category",
         "zeroline": true
        },
        "yaxis": {
         "mirror": "all",
         "nticks": 20,
         "showgrid": true,
         "showline": true,
         "title": "人员",
         "zeroline": true
        }
       }
      },
      "text/html": [
       "<div id=\"057ed1d1-77f3-4448-a532-e181a7f00b12\" style=\"height: 525px; width: 100%;\" class=\"plotly-graph-div\"></div><script type=\"text/javascript\">require([\"plotly\"], function(Plotly) { window.PLOTLYENV=window.PLOTLYENV || {};window.PLOTLYENV.BASE_URL=\"https://plot.ly\";Plotly.newPlot(\"057ed1d1-77f3-4448-a532-e181a7f00b12\", [{\"name\": \"\\u4eba\\u5458(\\u5317\\u4eac\\u7ec4)\", \"x\": [\"8-1\", \"8-2\", \"8-3\", \"8-4\", \"8-5\", \"9-1\", \"9-2\", \"9-3\", \"9-4\", \"10-2\", \"10-3\", \"10-4\", \"10-5\", \"11-1\"], \"y\": [4.0, 4.0, 4.0, 4.0, 4.0, 4.0, 3.0, 2.0, 2.0, 2.0, 2.0, 2.0, 2.0, 2.0], \"type\": \"bar\", \"uid\": \"d935c078-e625-11e8-8ddb-a41f72875c19\"}, {\"name\": \"\\u4eba\\u5458(\\u4e49\\u4e4c\\u7ec4)\", \"x\": [\"8-1\", \"8-2\", \"8-3\", \"8-4\", \"8-5\", \"9-1\", \"9-2\", \"9-3\", \"9-4\", \"10-2\", \"10-3\", \"10-4\", \"10-5\", \"11-1\"], \"y\": [null, null, null, null, null, null, null, null, null, null, null, null, 6.0, 6.0], \"type\": \"bar\", \"uid\": \"d935c079-e625-11e8-8ddb-a41f72875c19\"}], {\"barmode\": \"stack\", \"title\": \"\\u4eba\\u5458\\u5468\\u8d8b\\u52bf\\u56fe\", \"xaxis\": {\"mirror\": \"all\", \"nticks\": 20, \"showgrid\": true, \"showline\": true, \"title\": \"\\u5468\", \"type\": \"category\", \"zeroline\": true}, \"yaxis\": {\"mirror\": \"all\", \"nticks\": 20, \"showgrid\": true, \"showline\": true, \"title\": \"\\u4eba\\u5458\", \"zeroline\": true}}, {\"showLink\": true, \"linkText\": \"Export to plot.ly\"})});</script>"
      ],
      "text/vnd.plotly.v1+html": [
       "<div id=\"057ed1d1-77f3-4448-a532-e181a7f00b12\" style=\"height: 525px; width: 100%;\" class=\"plotly-graph-div\"></div><script type=\"text/javascript\">require([\"plotly\"], function(Plotly) { window.PLOTLYENV=window.PLOTLYENV || {};window.PLOTLYENV.BASE_URL=\"https://plot.ly\";Plotly.newPlot(\"057ed1d1-77f3-4448-a532-e181a7f00b12\", [{\"name\": \"\\u4eba\\u5458(\\u5317\\u4eac\\u7ec4)\", \"x\": [\"8-1\", \"8-2\", \"8-3\", \"8-4\", \"8-5\", \"9-1\", \"9-2\", \"9-3\", \"9-4\", \"10-2\", \"10-3\", \"10-4\", \"10-5\", \"11-1\"], \"y\": [4.0, 4.0, 4.0, 4.0, 4.0, 4.0, 3.0, 2.0, 2.0, 2.0, 2.0, 2.0, 2.0, 2.0], \"type\": \"bar\", \"uid\": \"d935c078-e625-11e8-8ddb-a41f72875c19\"}, {\"name\": \"\\u4eba\\u5458(\\u4e49\\u4e4c\\u7ec4)\", \"x\": [\"8-1\", \"8-2\", \"8-3\", \"8-4\", \"8-5\", \"9-1\", \"9-2\", \"9-3\", \"9-4\", \"10-2\", \"10-3\", \"10-4\", \"10-5\", \"11-1\"], \"y\": [null, null, null, null, null, null, null, null, null, null, null, null, 6.0, 6.0], \"type\": \"bar\", \"uid\": \"d935c079-e625-11e8-8ddb-a41f72875c19\"}], {\"barmode\": \"stack\", \"title\": \"\\u4eba\\u5458\\u5468\\u8d8b\\u52bf\\u56fe\", \"xaxis\": {\"mirror\": \"all\", \"nticks\": 20, \"showgrid\": true, \"showline\": true, \"title\": \"\\u5468\", \"type\": \"category\", \"zeroline\": true}, \"yaxis\": {\"mirror\": \"all\", \"nticks\": 20, \"showgrid\": true, \"showline\": true, \"title\": \"\\u4eba\\u5458\", \"zeroline\": true}}, {\"showLink\": true, \"linkText\": \"Export to plot.ly\"})});</script>"
      ]
     },
     "metadata": {},
     "output_type": "display_data"
    }
   ],
   "source": [
    "ss = myModule.format(all_df1 ,\"日期（格式“月-周次”）\" ,['人员'])\n",
    "tt = myModule.myPlot(myModule.sort_by_index(ss.groupby('count')))\n",
    "tt.plot('bar')\n",
    "\n",
    "ss = myModule.format(all_df1 ,\"month\" ,['人员'] )\n",
    "ss.get_average_by('日期（格式“月-周次”）')\n",
    "tt = myModule.myPlot(ss.groupby(\"count\"))# ,\"日期（格式“月-周次”）\" ,['人员'])\n",
    "tt.plot('bar',tag='月')\n",
    "\n",
    "ss = myModule.format(all_df1 ,\"日期（格式“月-周次”）\" ,['人员'])\n",
    "ss.add_group('组别')\n",
    "myModule.myPlot(myModule.sort_by_index(ss.groupby('count'))).plot('stack_bar')"
   ]
  },
  {
   "cell_type": "markdown",
   "metadata": {
    "hide_input": true
   },
   "source": [
    "## 过滤项目整体情况"
   ]
  },
  {
   "cell_type": "markdown",
   "metadata": {},
   "source": [
    "### 产能"
   ]
  },
  {
   "cell_type": "markdown",
   "metadata": {},
   "source": [
    "\n",
    "#### 下机批次数和下机项目数\n"
   ]
  },
  {
   "cell_type": "code",
   "execution_count": 146,
   "metadata": {
    "collapsed": false
   },
   "outputs": [
    {
     "data": {
      "application/vnd.plotly.v1+json": {
       "data": [
        {
         "name": "下机批次数",
         "type": "scatter",
         "uid": "d935c07a-e625-11e8-8ddb-a41f72875c19",
         "x": [
          "8-1",
          "8-2",
          "8-3",
          "8-4",
          "8-5",
          "9-1",
          "9-2",
          "9-3",
          "9-4",
          "10-2",
          "10-3",
          "10-4",
          "10-5",
          "11-1"
         ],
         "y": [
          118,
          181,
          165,
          161,
          100,
          199,
          124,
          136,
          176,
          70,
          132,
          137,
          159,
          156
         ]
        },
        {
         "name": "下机项目数",
         "type": "scatter",
         "uid": "d935c07b-e625-11e8-8ddb-a41f72875c19",
         "x": [
          "8-1",
          "8-2",
          "8-3",
          "8-4",
          "8-5",
          "9-1",
          "9-2",
          "9-3",
          "9-4",
          "10-2",
          "10-3",
          "10-4",
          "10-5",
          "11-1"
         ],
         "y": [
          94,
          146,
          135,
          136,
          85,
          174,
          103,
          122,
          153,
          66,
          110,
          124,
          136,
          133
         ]
        }
       ],
       "layout": {
        "title": "下机批次数&下机项目数周趋势图",
        "xaxis": {
         "mirror": "all",
         "nticks": 20,
         "showgrid": true,
         "showline": true,
         "title": "周",
         "type": "category",
         "zeroline": true
        },
        "yaxis": {
         "mirror": "all",
         "nticks": 20,
         "showgrid": true,
         "showline": true,
         "title": "下机批次数&下机项目数",
         "zeroline": true
        }
       }
      },
      "text/html": [
       "<div id=\"5d25106a-5ad5-400f-acc4-3f62e73f246c\" style=\"height: 525px; width: 100%;\" class=\"plotly-graph-div\"></div><script type=\"text/javascript\">require([\"plotly\"], function(Plotly) { window.PLOTLYENV=window.PLOTLYENV || {};window.PLOTLYENV.BASE_URL=\"https://plot.ly\";Plotly.newPlot(\"5d25106a-5ad5-400f-acc4-3f62e73f246c\", [{\"name\": \"\\u4e0b\\u673a\\u6279\\u6b21\\u6570\", \"x\": [\"8-1\", \"8-2\", \"8-3\", \"8-4\", \"8-5\", \"9-1\", \"9-2\", \"9-3\", \"9-4\", \"10-2\", \"10-3\", \"10-4\", \"10-5\", \"11-1\"], \"y\": [118, 181, 165, 161, 100, 199, 124, 136, 176, 70, 132, 137, 159, 156], \"type\": \"scatter\", \"uid\": \"d935c07a-e625-11e8-8ddb-a41f72875c19\"}, {\"name\": \"\\u4e0b\\u673a\\u9879\\u76ee\\u6570\", \"x\": [\"8-1\", \"8-2\", \"8-3\", \"8-4\", \"8-5\", \"9-1\", \"9-2\", \"9-3\", \"9-4\", \"10-2\", \"10-3\", \"10-4\", \"10-5\", \"11-1\"], \"y\": [94, 146, 135, 136, 85, 174, 103, 122, 153, 66, 110, 124, 136, 133], \"type\": \"scatter\", \"uid\": \"d935c07b-e625-11e8-8ddb-a41f72875c19\"}], {\"title\": \"\\u4e0b\\u673a\\u6279\\u6b21\\u6570&\\u4e0b\\u673a\\u9879\\u76ee\\u6570\\u5468\\u8d8b\\u52bf\\u56fe\", \"xaxis\": {\"mirror\": \"all\", \"nticks\": 20, \"showgrid\": true, \"showline\": true, \"title\": \"\\u5468\", \"type\": \"category\", \"zeroline\": true}, \"yaxis\": {\"mirror\": \"all\", \"nticks\": 20, \"showgrid\": true, \"showline\": true, \"title\": \"\\u4e0b\\u673a\\u6279\\u6b21\\u6570&\\u4e0b\\u673a\\u9879\\u76ee\\u6570\", \"zeroline\": true}}, {\"showLink\": true, \"linkText\": \"Export to plot.ly\"})});</script>"
      ],
      "text/vnd.plotly.v1+html": [
       "<div id=\"5d25106a-5ad5-400f-acc4-3f62e73f246c\" style=\"height: 525px; width: 100%;\" class=\"plotly-graph-div\"></div><script type=\"text/javascript\">require([\"plotly\"], function(Plotly) { window.PLOTLYENV=window.PLOTLYENV || {};window.PLOTLYENV.BASE_URL=\"https://plot.ly\";Plotly.newPlot(\"5d25106a-5ad5-400f-acc4-3f62e73f246c\", [{\"name\": \"\\u4e0b\\u673a\\u6279\\u6b21\\u6570\", \"x\": [\"8-1\", \"8-2\", \"8-3\", \"8-4\", \"8-5\", \"9-1\", \"9-2\", \"9-3\", \"9-4\", \"10-2\", \"10-3\", \"10-4\", \"10-5\", \"11-1\"], \"y\": [118, 181, 165, 161, 100, 199, 124, 136, 176, 70, 132, 137, 159, 156], \"type\": \"scatter\", \"uid\": \"d935c07a-e625-11e8-8ddb-a41f72875c19\"}, {\"name\": \"\\u4e0b\\u673a\\u9879\\u76ee\\u6570\", \"x\": [\"8-1\", \"8-2\", \"8-3\", \"8-4\", \"8-5\", \"9-1\", \"9-2\", \"9-3\", \"9-4\", \"10-2\", \"10-3\", \"10-4\", \"10-5\", \"11-1\"], \"y\": [94, 146, 135, 136, 85, 174, 103, 122, 153, 66, 110, 124, 136, 133], \"type\": \"scatter\", \"uid\": \"d935c07b-e625-11e8-8ddb-a41f72875c19\"}], {\"title\": \"\\u4e0b\\u673a\\u6279\\u6b21\\u6570&\\u4e0b\\u673a\\u9879\\u76ee\\u6570\\u5468\\u8d8b\\u52bf\\u56fe\", \"xaxis\": {\"mirror\": \"all\", \"nticks\": 20, \"showgrid\": true, \"showline\": true, \"title\": \"\\u5468\", \"type\": \"category\", \"zeroline\": true}, \"yaxis\": {\"mirror\": \"all\", \"nticks\": 20, \"showgrid\": true, \"showline\": true, \"title\": \"\\u4e0b\\u673a\\u6279\\u6b21\\u6570&\\u4e0b\\u673a\\u9879\\u76ee\\u6570\", \"zeroline\": true}}, {\"showLink\": true, \"linkText\": \"Export to plot.ly\"})});</script>"
      ]
     },
     "metadata": {},
     "output_type": "display_data"
    },
    {
     "data": {
      "application/vnd.plotly.v1+json": {
       "data": [
        {
         "line": {
          "dash": "solid"
         },
         "name": "下机批次数(北京组)",
         "type": "scatter",
         "uid": "d935c07c-e625-11e8-8ddb-a41f72875c19",
         "x": [
          "8-1",
          "8-2",
          "8-3",
          "8-4",
          "8-5",
          "9-1",
          "9-2",
          "9-3",
          "9-4",
          "10-2",
          "10-3",
          "10-4",
          "10-5",
          "11-1"
         ],
         "y": [
          118,
          181,
          165,
          161,
          100,
          199,
          124,
          136,
          176,
          70,
          132,
          137,
          133,
          130
         ]
        },
        {
         "line": {
          "dash": "dot"
         },
         "name": "下机批次数(义乌组)",
         "type": "scatter",
         "uid": "d935c07d-e625-11e8-8ddb-a41f72875c19",
         "x": [
          "8-1",
          "8-2",
          "8-3",
          "8-4",
          "8-5",
          "9-1",
          "9-2",
          "9-3",
          "9-4",
          "10-2",
          "10-3",
          "10-4",
          "10-5",
          "11-1"
         ],
         "y": [
          null,
          null,
          null,
          null,
          null,
          null,
          null,
          null,
          null,
          null,
          null,
          null,
          26,
          26
         ]
        },
        {
         "line": {
          "dash": "solid"
         },
         "name": "下机项目数(北京组)",
         "type": "scatter",
         "uid": "d935c07e-e625-11e8-8ddb-a41f72875c19",
         "x": [
          "8-1",
          "8-2",
          "8-3",
          "8-4",
          "8-5",
          "9-1",
          "9-2",
          "9-3",
          "9-4",
          "10-2",
          "10-3",
          "10-4",
          "10-5",
          "11-1"
         ],
         "y": [
          94,
          146,
          135,
          136,
          85,
          174,
          103,
          122,
          153,
          66,
          110,
          124,
          110,
          107
         ]
        },
        {
         "line": {
          "dash": "dot"
         },
         "name": "下机项目数(义乌组)",
         "type": "scatter",
         "uid": "d935c07f-e625-11e8-8ddb-a41f72875c19",
         "x": [
          "8-1",
          "8-2",
          "8-3",
          "8-4",
          "8-5",
          "9-1",
          "9-2",
          "9-3",
          "9-4",
          "10-2",
          "10-3",
          "10-4",
          "10-5",
          "11-1"
         ],
         "y": [
          null,
          null,
          null,
          null,
          null,
          null,
          null,
          null,
          null,
          null,
          null,
          null,
          26,
          26
         ]
        }
       ],
       "layout": {
        "title": "下机批次数&下机项目数周趋势图",
        "xaxis": {
         "mirror": "all",
         "nticks": 20,
         "showgrid": true,
         "showline": true,
         "title": "周",
         "type": "category",
         "zeroline": true
        },
        "yaxis": {
         "mirror": "all",
         "nticks": 20,
         "showgrid": true,
         "showline": true,
         "title": "下机批次数&下机项目数",
         "zeroline": true
        }
       }
      },
      "text/html": [
       "<div id=\"61ed83ae-0fdc-4977-9f1c-4059c7dd8c88\" style=\"height: 525px; width: 100%;\" class=\"plotly-graph-div\"></div><script type=\"text/javascript\">require([\"plotly\"], function(Plotly) { window.PLOTLYENV=window.PLOTLYENV || {};window.PLOTLYENV.BASE_URL=\"https://plot.ly\";Plotly.newPlot(\"61ed83ae-0fdc-4977-9f1c-4059c7dd8c88\", [{\"line\": {\"dash\": \"solid\"}, \"name\": \"\\u4e0b\\u673a\\u6279\\u6b21\\u6570(\\u5317\\u4eac\\u7ec4)\", \"x\": [\"8-1\", \"8-2\", \"8-3\", \"8-4\", \"8-5\", \"9-1\", \"9-2\", \"9-3\", \"9-4\", \"10-2\", \"10-3\", \"10-4\", \"10-5\", \"11-1\"], \"y\": [118.0, 181.0, 165.0, 161.0, 100.0, 199.0, 124.0, 136.0, 176.0, 70.0, 132.0, 137.0, 133.0, 130.0], \"type\": \"scatter\", \"uid\": \"d935c07c-e625-11e8-8ddb-a41f72875c19\"}, {\"line\": {\"dash\": \"dot\"}, \"name\": \"\\u4e0b\\u673a\\u6279\\u6b21\\u6570(\\u4e49\\u4e4c\\u7ec4)\", \"x\": [\"8-1\", \"8-2\", \"8-3\", \"8-4\", \"8-5\", \"9-1\", \"9-2\", \"9-3\", \"9-4\", \"10-2\", \"10-3\", \"10-4\", \"10-5\", \"11-1\"], \"y\": [null, null, null, null, null, null, null, null, null, null, null, null, 26.0, 26.0], \"type\": \"scatter\", \"uid\": \"d935c07d-e625-11e8-8ddb-a41f72875c19\"}, {\"line\": {\"dash\": \"solid\"}, \"name\": \"\\u4e0b\\u673a\\u9879\\u76ee\\u6570(\\u5317\\u4eac\\u7ec4)\", \"x\": [\"8-1\", \"8-2\", \"8-3\", \"8-4\", \"8-5\", \"9-1\", \"9-2\", \"9-3\", \"9-4\", \"10-2\", \"10-3\", \"10-4\", \"10-5\", \"11-1\"], \"y\": [94.0, 146.0, 135.0, 136.0, 85.0, 174.0, 103.0, 122.0, 153.0, 66.0, 110.0, 124.0, 110.0, 107.0], \"type\": \"scatter\", \"uid\": \"d935c07e-e625-11e8-8ddb-a41f72875c19\"}, {\"line\": {\"dash\": \"dot\"}, \"name\": \"\\u4e0b\\u673a\\u9879\\u76ee\\u6570(\\u4e49\\u4e4c\\u7ec4)\", \"x\": [\"8-1\", \"8-2\", \"8-3\", \"8-4\", \"8-5\", \"9-1\", \"9-2\", \"9-3\", \"9-4\", \"10-2\", \"10-3\", \"10-4\", \"10-5\", \"11-1\"], \"y\": [null, null, null, null, null, null, null, null, null, null, null, null, 26.0, 26.0], \"type\": \"scatter\", \"uid\": \"d935c07f-e625-11e8-8ddb-a41f72875c19\"}], {\"title\": \"\\u4e0b\\u673a\\u6279\\u6b21\\u6570&\\u4e0b\\u673a\\u9879\\u76ee\\u6570\\u5468\\u8d8b\\u52bf\\u56fe\", \"xaxis\": {\"mirror\": \"all\", \"nticks\": 20, \"showgrid\": true, \"showline\": true, \"title\": \"\\u5468\", \"type\": \"category\", \"zeroline\": true}, \"yaxis\": {\"mirror\": \"all\", \"nticks\": 20, \"showgrid\": true, \"showline\": true, \"title\": \"\\u4e0b\\u673a\\u6279\\u6b21\\u6570&\\u4e0b\\u673a\\u9879\\u76ee\\u6570\", \"zeroline\": true}}, {\"showLink\": true, \"linkText\": \"Export to plot.ly\"})});</script>"
      ],
      "text/vnd.plotly.v1+html": [
       "<div id=\"61ed83ae-0fdc-4977-9f1c-4059c7dd8c88\" style=\"height: 525px; width: 100%;\" class=\"plotly-graph-div\"></div><script type=\"text/javascript\">require([\"plotly\"], function(Plotly) { window.PLOTLYENV=window.PLOTLYENV || {};window.PLOTLYENV.BASE_URL=\"https://plot.ly\";Plotly.newPlot(\"61ed83ae-0fdc-4977-9f1c-4059c7dd8c88\", [{\"line\": {\"dash\": \"solid\"}, \"name\": \"\\u4e0b\\u673a\\u6279\\u6b21\\u6570(\\u5317\\u4eac\\u7ec4)\", \"x\": [\"8-1\", \"8-2\", \"8-3\", \"8-4\", \"8-5\", \"9-1\", \"9-2\", \"9-3\", \"9-4\", \"10-2\", \"10-3\", \"10-4\", \"10-5\", \"11-1\"], \"y\": [118.0, 181.0, 165.0, 161.0, 100.0, 199.0, 124.0, 136.0, 176.0, 70.0, 132.0, 137.0, 133.0, 130.0], \"type\": \"scatter\", \"uid\": \"d935c07c-e625-11e8-8ddb-a41f72875c19\"}, {\"line\": {\"dash\": \"dot\"}, \"name\": \"\\u4e0b\\u673a\\u6279\\u6b21\\u6570(\\u4e49\\u4e4c\\u7ec4)\", \"x\": [\"8-1\", \"8-2\", \"8-3\", \"8-4\", \"8-5\", \"9-1\", \"9-2\", \"9-3\", \"9-4\", \"10-2\", \"10-3\", \"10-4\", \"10-5\", \"11-1\"], \"y\": [null, null, null, null, null, null, null, null, null, null, null, null, 26.0, 26.0], \"type\": \"scatter\", \"uid\": \"d935c07d-e625-11e8-8ddb-a41f72875c19\"}, {\"line\": {\"dash\": \"solid\"}, \"name\": \"\\u4e0b\\u673a\\u9879\\u76ee\\u6570(\\u5317\\u4eac\\u7ec4)\", \"x\": [\"8-1\", \"8-2\", \"8-3\", \"8-4\", \"8-5\", \"9-1\", \"9-2\", \"9-3\", \"9-4\", \"10-2\", \"10-3\", \"10-4\", \"10-5\", \"11-1\"], \"y\": [94.0, 146.0, 135.0, 136.0, 85.0, 174.0, 103.0, 122.0, 153.0, 66.0, 110.0, 124.0, 110.0, 107.0], \"type\": \"scatter\", \"uid\": \"d935c07e-e625-11e8-8ddb-a41f72875c19\"}, {\"line\": {\"dash\": \"dot\"}, \"name\": \"\\u4e0b\\u673a\\u9879\\u76ee\\u6570(\\u4e49\\u4e4c\\u7ec4)\", \"x\": [\"8-1\", \"8-2\", \"8-3\", \"8-4\", \"8-5\", \"9-1\", \"9-2\", \"9-3\", \"9-4\", \"10-2\", \"10-3\", \"10-4\", \"10-5\", \"11-1\"], \"y\": [null, null, null, null, null, null, null, null, null, null, null, null, 26.0, 26.0], \"type\": \"scatter\", \"uid\": \"d935c07f-e625-11e8-8ddb-a41f72875c19\"}], {\"title\": \"\\u4e0b\\u673a\\u6279\\u6b21\\u6570&\\u4e0b\\u673a\\u9879\\u76ee\\u6570\\u5468\\u8d8b\\u52bf\\u56fe\", \"xaxis\": {\"mirror\": \"all\", \"nticks\": 20, \"showgrid\": true, \"showline\": true, \"title\": \"\\u5468\", \"type\": \"category\", \"zeroline\": true}, \"yaxis\": {\"mirror\": \"all\", \"nticks\": 20, \"showgrid\": true, \"showline\": true, \"title\": \"\\u4e0b\\u673a\\u6279\\u6b21\\u6570&\\u4e0b\\u673a\\u9879\\u76ee\\u6570\", \"zeroline\": true}}, {\"showLink\": true, \"linkText\": \"Export to plot.ly\"})});</script>"
      ]
     },
     "metadata": {},
     "output_type": "display_data"
    }
   ],
   "source": [
    "ss = myModule.format(all_df1 ,\"日期（格式“月-周次”）\" ,['下机批次数','下机项目数'])\n",
    "myModule.myPlot(myModule.sort_by_index(ss.groupby('sum'))).plot('line')\n",
    "\n",
    "ss = myModule.format(all_df1 ,\"日期（格式“月-周次”）\" ,['下机批次数','下机项目数'])\n",
    "ss.add_group('组别')\n",
    "myModule.myPlot(myModule.sort_by_index(ss.groupby('sum'))).plot('line')"
   ]
  },
  {
   "cell_type": "code",
   "execution_count": 147,
   "metadata": {
    "collapsed": false
   },
   "outputs": [
    {
     "data": {
      "application/vnd.plotly.v1+json": {
       "data": [
        {
         "name": "下机批次数",
         "type": "scatter",
         "uid": "d935c080-e625-11e8-8ddb-a41f72875c19",
         "x": [
          8,
          9,
          10,
          11
         ],
         "y": [
          725,
          635,
          498,
          156
         ]
        },
        {
         "name": "下机项目数",
         "type": "scatter",
         "uid": "d935c081-e625-11e8-8ddb-a41f72875c19",
         "x": [
          8,
          9,
          10,
          11
         ],
         "y": [
          596,
          552,
          436,
          133
         ]
        }
       ],
       "layout": {
        "title": "下机批次数&下机项目数月趋势图",
        "xaxis": {
         "mirror": "all",
         "nticks": 20,
         "showgrid": true,
         "showline": true,
         "title": "月",
         "type": "category",
         "zeroline": true
        },
        "yaxis": {
         "mirror": "all",
         "nticks": 20,
         "showgrid": true,
         "showline": true,
         "title": "下机批次数&下机项目数",
         "zeroline": true
        }
       }
      },
      "text/html": [
       "<div id=\"36169c18-ed0f-48df-875e-3effcfdf26c2\" style=\"height: 525px; width: 100%;\" class=\"plotly-graph-div\"></div><script type=\"text/javascript\">require([\"plotly\"], function(Plotly) { window.PLOTLYENV=window.PLOTLYENV || {};window.PLOTLYENV.BASE_URL=\"https://plot.ly\";Plotly.newPlot(\"36169c18-ed0f-48df-875e-3effcfdf26c2\", [{\"name\": \"\\u4e0b\\u673a\\u6279\\u6b21\\u6570\", \"x\": [8, 9, 10, 11], \"y\": [725, 635, 498, 156], \"type\": \"scatter\", \"uid\": \"d935c080-e625-11e8-8ddb-a41f72875c19\"}, {\"name\": \"\\u4e0b\\u673a\\u9879\\u76ee\\u6570\", \"x\": [8, 9, 10, 11], \"y\": [596, 552, 436, 133], \"type\": \"scatter\", \"uid\": \"d935c081-e625-11e8-8ddb-a41f72875c19\"}], {\"title\": \"\\u4e0b\\u673a\\u6279\\u6b21\\u6570&\\u4e0b\\u673a\\u9879\\u76ee\\u6570\\u6708\\u8d8b\\u52bf\\u56fe\", \"xaxis\": {\"mirror\": \"all\", \"nticks\": 20, \"showgrid\": true, \"showline\": true, \"title\": \"\\u6708\", \"type\": \"category\", \"zeroline\": true}, \"yaxis\": {\"mirror\": \"all\", \"nticks\": 20, \"showgrid\": true, \"showline\": true, \"title\": \"\\u4e0b\\u673a\\u6279\\u6b21\\u6570&\\u4e0b\\u673a\\u9879\\u76ee\\u6570\", \"zeroline\": true}}, {\"showLink\": true, \"linkText\": \"Export to plot.ly\"})});</script>"
      ],
      "text/vnd.plotly.v1+html": [
       "<div id=\"36169c18-ed0f-48df-875e-3effcfdf26c2\" style=\"height: 525px; width: 100%;\" class=\"plotly-graph-div\"></div><script type=\"text/javascript\">require([\"plotly\"], function(Plotly) { window.PLOTLYENV=window.PLOTLYENV || {};window.PLOTLYENV.BASE_URL=\"https://plot.ly\";Plotly.newPlot(\"36169c18-ed0f-48df-875e-3effcfdf26c2\", [{\"name\": \"\\u4e0b\\u673a\\u6279\\u6b21\\u6570\", \"x\": [8, 9, 10, 11], \"y\": [725, 635, 498, 156], \"type\": \"scatter\", \"uid\": \"d935c080-e625-11e8-8ddb-a41f72875c19\"}, {\"name\": \"\\u4e0b\\u673a\\u9879\\u76ee\\u6570\", \"x\": [8, 9, 10, 11], \"y\": [596, 552, 436, 133], \"type\": \"scatter\", \"uid\": \"d935c081-e625-11e8-8ddb-a41f72875c19\"}], {\"title\": \"\\u4e0b\\u673a\\u6279\\u6b21\\u6570&\\u4e0b\\u673a\\u9879\\u76ee\\u6570\\u6708\\u8d8b\\u52bf\\u56fe\", \"xaxis\": {\"mirror\": \"all\", \"nticks\": 20, \"showgrid\": true, \"showline\": true, \"title\": \"\\u6708\", \"type\": \"category\", \"zeroline\": true}, \"yaxis\": {\"mirror\": \"all\", \"nticks\": 20, \"showgrid\": true, \"showline\": true, \"title\": \"\\u4e0b\\u673a\\u6279\\u6b21\\u6570&\\u4e0b\\u673a\\u9879\\u76ee\\u6570\", \"zeroline\": true}}, {\"showLink\": true, \"linkText\": \"Export to plot.ly\"})});</script>"
      ]
     },
     "metadata": {},
     "output_type": "display_data"
    },
    {
     "data": {
      "application/vnd.plotly.v1+json": {
       "data": [
        {
         "line": {
          "dash": "solid"
         },
         "name": "下机批次数(北京组)",
         "type": "scatter",
         "uid": "d935c082-e625-11e8-8ddb-a41f72875c19",
         "x": [
          8,
          9,
          10,
          11
         ],
         "y": [
          725,
          635,
          472,
          130
         ]
        },
        {
         "line": {
          "dash": "dot"
         },
         "name": "下机批次数(义乌组)",
         "type": "scatter",
         "uid": "d935c083-e625-11e8-8ddb-a41f72875c19",
         "x": [
          8,
          9,
          10,
          11
         ],
         "y": [
          null,
          null,
          26,
          26
         ]
        },
        {
         "line": {
          "dash": "solid"
         },
         "name": "下机项目数(北京组)",
         "type": "scatter",
         "uid": "d935c084-e625-11e8-8ddb-a41f72875c19",
         "x": [
          8,
          9,
          10,
          11
         ],
         "y": [
          596,
          552,
          410,
          107
         ]
        },
        {
         "line": {
          "dash": "dot"
         },
         "name": "下机项目数(义乌组)",
         "type": "scatter",
         "uid": "d935c085-e625-11e8-8ddb-a41f72875c19",
         "x": [
          8,
          9,
          10,
          11
         ],
         "y": [
          null,
          null,
          26,
          26
         ]
        }
       ],
       "layout": {
        "title": "下机批次数&下机项目数月趋势图",
        "xaxis": {
         "mirror": "all",
         "nticks": 20,
         "showgrid": true,
         "showline": true,
         "title": "月",
         "type": "category",
         "zeroline": true
        },
        "yaxis": {
         "mirror": "all",
         "nticks": 20,
         "showgrid": true,
         "showline": true,
         "title": "下机批次数&下机项目数",
         "zeroline": true
        }
       }
      },
      "text/html": [
       "<div id=\"0571e3b1-7398-4380-82ca-ff0173fd2d20\" style=\"height: 525px; width: 100%;\" class=\"plotly-graph-div\"></div><script type=\"text/javascript\">require([\"plotly\"], function(Plotly) { window.PLOTLYENV=window.PLOTLYENV || {};window.PLOTLYENV.BASE_URL=\"https://plot.ly\";Plotly.newPlot(\"0571e3b1-7398-4380-82ca-ff0173fd2d20\", [{\"line\": {\"dash\": \"solid\"}, \"name\": \"\\u4e0b\\u673a\\u6279\\u6b21\\u6570(\\u5317\\u4eac\\u7ec4)\", \"x\": [8, 9, 10, 11], \"y\": [725.0, 635.0, 472.0, 130.0], \"type\": \"scatter\", \"uid\": \"d935c082-e625-11e8-8ddb-a41f72875c19\"}, {\"line\": {\"dash\": \"dot\"}, \"name\": \"\\u4e0b\\u673a\\u6279\\u6b21\\u6570(\\u4e49\\u4e4c\\u7ec4)\", \"x\": [8, 9, 10, 11], \"y\": [null, null, 26.0, 26.0], \"type\": \"scatter\", \"uid\": \"d935c083-e625-11e8-8ddb-a41f72875c19\"}, {\"line\": {\"dash\": \"solid\"}, \"name\": \"\\u4e0b\\u673a\\u9879\\u76ee\\u6570(\\u5317\\u4eac\\u7ec4)\", \"x\": [8, 9, 10, 11], \"y\": [596.0, 552.0, 410.0, 107.0], \"type\": \"scatter\", \"uid\": \"d935c084-e625-11e8-8ddb-a41f72875c19\"}, {\"line\": {\"dash\": \"dot\"}, \"name\": \"\\u4e0b\\u673a\\u9879\\u76ee\\u6570(\\u4e49\\u4e4c\\u7ec4)\", \"x\": [8, 9, 10, 11], \"y\": [null, null, 26.0, 26.0], \"type\": \"scatter\", \"uid\": \"d935c085-e625-11e8-8ddb-a41f72875c19\"}], {\"title\": \"\\u4e0b\\u673a\\u6279\\u6b21\\u6570&\\u4e0b\\u673a\\u9879\\u76ee\\u6570\\u6708\\u8d8b\\u52bf\\u56fe\", \"xaxis\": {\"mirror\": \"all\", \"nticks\": 20, \"showgrid\": true, \"showline\": true, \"title\": \"\\u6708\", \"type\": \"category\", \"zeroline\": true}, \"yaxis\": {\"mirror\": \"all\", \"nticks\": 20, \"showgrid\": true, \"showline\": true, \"title\": \"\\u4e0b\\u673a\\u6279\\u6b21\\u6570&\\u4e0b\\u673a\\u9879\\u76ee\\u6570\", \"zeroline\": true}}, {\"showLink\": true, \"linkText\": \"Export to plot.ly\"})});</script>"
      ],
      "text/vnd.plotly.v1+html": [
       "<div id=\"0571e3b1-7398-4380-82ca-ff0173fd2d20\" style=\"height: 525px; width: 100%;\" class=\"plotly-graph-div\"></div><script type=\"text/javascript\">require([\"plotly\"], function(Plotly) { window.PLOTLYENV=window.PLOTLYENV || {};window.PLOTLYENV.BASE_URL=\"https://plot.ly\";Plotly.newPlot(\"0571e3b1-7398-4380-82ca-ff0173fd2d20\", [{\"line\": {\"dash\": \"solid\"}, \"name\": \"\\u4e0b\\u673a\\u6279\\u6b21\\u6570(\\u5317\\u4eac\\u7ec4)\", \"x\": [8, 9, 10, 11], \"y\": [725.0, 635.0, 472.0, 130.0], \"type\": \"scatter\", \"uid\": \"d935c082-e625-11e8-8ddb-a41f72875c19\"}, {\"line\": {\"dash\": \"dot\"}, \"name\": \"\\u4e0b\\u673a\\u6279\\u6b21\\u6570(\\u4e49\\u4e4c\\u7ec4)\", \"x\": [8, 9, 10, 11], \"y\": [null, null, 26.0, 26.0], \"type\": \"scatter\", \"uid\": \"d935c083-e625-11e8-8ddb-a41f72875c19\"}, {\"line\": {\"dash\": \"solid\"}, \"name\": \"\\u4e0b\\u673a\\u9879\\u76ee\\u6570(\\u5317\\u4eac\\u7ec4)\", \"x\": [8, 9, 10, 11], \"y\": [596.0, 552.0, 410.0, 107.0], \"type\": \"scatter\", \"uid\": \"d935c084-e625-11e8-8ddb-a41f72875c19\"}, {\"line\": {\"dash\": \"dot\"}, \"name\": \"\\u4e0b\\u673a\\u9879\\u76ee\\u6570(\\u4e49\\u4e4c\\u7ec4)\", \"x\": [8, 9, 10, 11], \"y\": [null, null, 26.0, 26.0], \"type\": \"scatter\", \"uid\": \"d935c085-e625-11e8-8ddb-a41f72875c19\"}], {\"title\": \"\\u4e0b\\u673a\\u6279\\u6b21\\u6570&\\u4e0b\\u673a\\u9879\\u76ee\\u6570\\u6708\\u8d8b\\u52bf\\u56fe\", \"xaxis\": {\"mirror\": \"all\", \"nticks\": 20, \"showgrid\": true, \"showline\": true, \"title\": \"\\u6708\", \"type\": \"category\", \"zeroline\": true}, \"yaxis\": {\"mirror\": \"all\", \"nticks\": 20, \"showgrid\": true, \"showline\": true, \"title\": \"\\u4e0b\\u673a\\u6279\\u6b21\\u6570&\\u4e0b\\u673a\\u9879\\u76ee\\u6570\", \"zeroline\": true}}, {\"showLink\": true, \"linkText\": \"Export to plot.ly\"})});</script>"
      ]
     },
     "metadata": {},
     "output_type": "display_data"
    }
   ],
   "source": [
    "\n",
    "ss = myModule.format(all_df1 ,\"month\" ,['下机批次数','下机项目数'])\n",
    "myModule.myPlot(ss.groupby('sum')).plot('line',\"月\")\n",
    "\n",
    "\n",
    "ss = myModule.format(all_df1 ,\"month\" ,['下机批次数','下机项目数'])\n",
    "ss.add_group(\"组别\")\n",
    "myModule.myPlot(ss.groupby('sum')).plot('line',\"月\")"
   ]
  },
  {
   "cell_type": "markdown",
   "metadata": {},
   "source": [
    "#### 下机批次比"
   ]
  },
  {
   "cell_type": "code",
   "execution_count": 148,
   "metadata": {
    "collapsed": false,
    "scrolled": false
   },
   "outputs": [
    {
     "data": {
      "application/vnd.plotly.v1+json": {
       "data": [
        {
         "name": "下机批次比",
         "type": "scatter",
         "uid": "d935c086-e625-11e8-8ddb-a41f72875c19",
         "x": [
          "8-1",
          "8-2",
          "8-3",
          "8-4",
          "8-5",
          "9-1",
          "9-2",
          "9-3",
          "9-4",
          "10-2",
          "10-3",
          "10-4",
          "10-5",
          "11-1"
         ],
         "y": [
          1.2553191489361701,
          1.2397260273972603,
          1.2222222222222223,
          1.1838235294117647,
          1.1764705882352942,
          1.1436781609195403,
          1.203883495145631,
          1.1147540983606556,
          1.1503267973856208,
          1.0606060606060606,
          1.2,
          1.1048387096774193,
          1.1691176470588236,
          1.1729323308270676
         ]
        }
       ],
       "layout": {
        "title": "下机批次比周趋势图",
        "xaxis": {
         "mirror": "all",
         "nticks": 20,
         "showgrid": true,
         "showline": true,
         "title": "周",
         "type": "category",
         "zeroline": true
        },
        "yaxis": {
         "mirror": "all",
         "nticks": 20,
         "showgrid": true,
         "showline": true,
         "title": "下机批次比",
         "zeroline": true
        }
       }
      },
      "text/html": [
       "<div id=\"39ac8da0-4b7b-4c99-88de-a7bc7bb758ae\" style=\"height: 525px; width: 100%;\" class=\"plotly-graph-div\"></div><script type=\"text/javascript\">require([\"plotly\"], function(Plotly) { window.PLOTLYENV=window.PLOTLYENV || {};window.PLOTLYENV.BASE_URL=\"https://plot.ly\";Plotly.newPlot(\"39ac8da0-4b7b-4c99-88de-a7bc7bb758ae\", [{\"name\": \"\\u4e0b\\u673a\\u6279\\u6b21\\u6bd4\", \"x\": [\"8-1\", \"8-2\", \"8-3\", \"8-4\", \"8-5\", \"9-1\", \"9-2\", \"9-3\", \"9-4\", \"10-2\", \"10-3\", \"10-4\", \"10-5\", \"11-1\"], \"y\": [1.2553191489361701, 1.2397260273972603, 1.2222222222222223, 1.1838235294117647, 1.1764705882352942, 1.1436781609195403, 1.203883495145631, 1.1147540983606556, 1.1503267973856208, 1.0606060606060606, 1.2, 1.1048387096774193, 1.1691176470588236, 1.1729323308270676], \"type\": \"scatter\", \"uid\": \"d935c086-e625-11e8-8ddb-a41f72875c19\"}], {\"title\": \"\\u4e0b\\u673a\\u6279\\u6b21\\u6bd4\\u5468\\u8d8b\\u52bf\\u56fe\", \"xaxis\": {\"mirror\": \"all\", \"nticks\": 20, \"showgrid\": true, \"showline\": true, \"title\": \"\\u5468\", \"type\": \"category\", \"zeroline\": true}, \"yaxis\": {\"mirror\": \"all\", \"nticks\": 20, \"showgrid\": true, \"showline\": true, \"title\": \"\\u4e0b\\u673a\\u6279\\u6b21\\u6bd4\", \"zeroline\": true}}, {\"showLink\": true, \"linkText\": \"Export to plot.ly\"})});</script>"
      ],
      "text/vnd.plotly.v1+html": [
       "<div id=\"39ac8da0-4b7b-4c99-88de-a7bc7bb758ae\" style=\"height: 525px; width: 100%;\" class=\"plotly-graph-div\"></div><script type=\"text/javascript\">require([\"plotly\"], function(Plotly) { window.PLOTLYENV=window.PLOTLYENV || {};window.PLOTLYENV.BASE_URL=\"https://plot.ly\";Plotly.newPlot(\"39ac8da0-4b7b-4c99-88de-a7bc7bb758ae\", [{\"name\": \"\\u4e0b\\u673a\\u6279\\u6b21\\u6bd4\", \"x\": [\"8-1\", \"8-2\", \"8-3\", \"8-4\", \"8-5\", \"9-1\", \"9-2\", \"9-3\", \"9-4\", \"10-2\", \"10-3\", \"10-4\", \"10-5\", \"11-1\"], \"y\": [1.2553191489361701, 1.2397260273972603, 1.2222222222222223, 1.1838235294117647, 1.1764705882352942, 1.1436781609195403, 1.203883495145631, 1.1147540983606556, 1.1503267973856208, 1.0606060606060606, 1.2, 1.1048387096774193, 1.1691176470588236, 1.1729323308270676], \"type\": \"scatter\", \"uid\": \"d935c086-e625-11e8-8ddb-a41f72875c19\"}], {\"title\": \"\\u4e0b\\u673a\\u6279\\u6b21\\u6bd4\\u5468\\u8d8b\\u52bf\\u56fe\", \"xaxis\": {\"mirror\": \"all\", \"nticks\": 20, \"showgrid\": true, \"showline\": true, \"title\": \"\\u5468\", \"type\": \"category\", \"zeroline\": true}, \"yaxis\": {\"mirror\": \"all\", \"nticks\": 20, \"showgrid\": true, \"showline\": true, \"title\": \"\\u4e0b\\u673a\\u6279\\u6b21\\u6bd4\", \"zeroline\": true}}, {\"showLink\": true, \"linkText\": \"Export to plot.ly\"})});</script>"
      ]
     },
     "metadata": {},
     "output_type": "display_data"
    },
    {
     "data": {
      "application/vnd.plotly.v1+json": {
       "data": [
        {
         "line": {
          "dash": "solid"
         },
         "name": "下机批次比(北京组)",
         "type": "scatter",
         "uid": "d935c087-e625-11e8-8ddb-a41f72875c19",
         "x": [
          "8-1",
          "8-2",
          "8-3",
          "8-4",
          "8-5",
          "9-1",
          "9-2",
          "9-3",
          "9-4",
          "10-2",
          "10-3",
          "10-4",
          "10-5",
          "11-1"
         ],
         "y": [
          1.2553191489361701,
          1.2397260273972603,
          1.2222222222222223,
          1.1838235294117647,
          1.1764705882352942,
          1.1436781609195403,
          1.203883495145631,
          1.1147540983606556,
          1.1503267973856208,
          1.0606060606060606,
          1.2,
          1.1048387096774193,
          1.209090909090909,
          1.2149532710280373
         ]
        },
        {
         "line": {
          "dash": "dot"
         },
         "name": "下机批次比(义乌组)",
         "type": "scatter",
         "uid": "d935c088-e625-11e8-8ddb-a41f72875c19",
         "x": [
          "8-1",
          "8-2",
          "8-3",
          "8-4",
          "8-5",
          "9-1",
          "9-2",
          "9-3",
          "9-4",
          "10-2",
          "10-3",
          "10-4",
          "10-5",
          "11-1"
         ],
         "y": [
          null,
          null,
          null,
          null,
          null,
          null,
          null,
          null,
          null,
          null,
          null,
          null,
          1,
          1
         ]
        }
       ],
       "layout": {
        "title": "下机批次比周趋势图",
        "xaxis": {
         "mirror": "all",
         "nticks": 20,
         "showgrid": true,
         "showline": true,
         "title": "周",
         "type": "category",
         "zeroline": true
        },
        "yaxis": {
         "mirror": "all",
         "nticks": 20,
         "showgrid": true,
         "showline": true,
         "title": "下机批次比",
         "zeroline": true
        }
       }
      },
      "text/html": [
       "<div id=\"b9d44a85-196d-42ee-8b83-b728a768e3e0\" style=\"height: 525px; width: 100%;\" class=\"plotly-graph-div\"></div><script type=\"text/javascript\">require([\"plotly\"], function(Plotly) { window.PLOTLYENV=window.PLOTLYENV || {};window.PLOTLYENV.BASE_URL=\"https://plot.ly\";Plotly.newPlot(\"b9d44a85-196d-42ee-8b83-b728a768e3e0\", [{\"line\": {\"dash\": \"solid\"}, \"name\": \"\\u4e0b\\u673a\\u6279\\u6b21\\u6bd4(\\u5317\\u4eac\\u7ec4)\", \"x\": [\"8-1\", \"8-2\", \"8-3\", \"8-4\", \"8-5\", \"9-1\", \"9-2\", \"9-3\", \"9-4\", \"10-2\", \"10-3\", \"10-4\", \"10-5\", \"11-1\"], \"y\": [1.2553191489361701, 1.2397260273972603, 1.2222222222222223, 1.1838235294117647, 1.1764705882352942, 1.1436781609195403, 1.203883495145631, 1.1147540983606556, 1.1503267973856208, 1.0606060606060606, 1.2, 1.1048387096774193, 1.209090909090909, 1.2149532710280373], \"type\": \"scatter\", \"uid\": \"d935c087-e625-11e8-8ddb-a41f72875c19\"}, {\"line\": {\"dash\": \"dot\"}, \"name\": \"\\u4e0b\\u673a\\u6279\\u6b21\\u6bd4(\\u4e49\\u4e4c\\u7ec4)\", \"x\": [\"8-1\", \"8-2\", \"8-3\", \"8-4\", \"8-5\", \"9-1\", \"9-2\", \"9-3\", \"9-4\", \"10-2\", \"10-3\", \"10-4\", \"10-5\", \"11-1\"], \"y\": [null, null, null, null, null, null, null, null, null, null, null, null, 1.0, 1.0], \"type\": \"scatter\", \"uid\": \"d935c088-e625-11e8-8ddb-a41f72875c19\"}], {\"title\": \"\\u4e0b\\u673a\\u6279\\u6b21\\u6bd4\\u5468\\u8d8b\\u52bf\\u56fe\", \"xaxis\": {\"mirror\": \"all\", \"nticks\": 20, \"showgrid\": true, \"showline\": true, \"title\": \"\\u5468\", \"type\": \"category\", \"zeroline\": true}, \"yaxis\": {\"mirror\": \"all\", \"nticks\": 20, \"showgrid\": true, \"showline\": true, \"title\": \"\\u4e0b\\u673a\\u6279\\u6b21\\u6bd4\", \"zeroline\": true}}, {\"showLink\": true, \"linkText\": \"Export to plot.ly\"})});</script>"
      ],
      "text/vnd.plotly.v1+html": [
       "<div id=\"b9d44a85-196d-42ee-8b83-b728a768e3e0\" style=\"height: 525px; width: 100%;\" class=\"plotly-graph-div\"></div><script type=\"text/javascript\">require([\"plotly\"], function(Plotly) { window.PLOTLYENV=window.PLOTLYENV || {};window.PLOTLYENV.BASE_URL=\"https://plot.ly\";Plotly.newPlot(\"b9d44a85-196d-42ee-8b83-b728a768e3e0\", [{\"line\": {\"dash\": \"solid\"}, \"name\": \"\\u4e0b\\u673a\\u6279\\u6b21\\u6bd4(\\u5317\\u4eac\\u7ec4)\", \"x\": [\"8-1\", \"8-2\", \"8-3\", \"8-4\", \"8-5\", \"9-1\", \"9-2\", \"9-3\", \"9-4\", \"10-2\", \"10-3\", \"10-4\", \"10-5\", \"11-1\"], \"y\": [1.2553191489361701, 1.2397260273972603, 1.2222222222222223, 1.1838235294117647, 1.1764705882352942, 1.1436781609195403, 1.203883495145631, 1.1147540983606556, 1.1503267973856208, 1.0606060606060606, 1.2, 1.1048387096774193, 1.209090909090909, 1.2149532710280373], \"type\": \"scatter\", \"uid\": \"d935c087-e625-11e8-8ddb-a41f72875c19\"}, {\"line\": {\"dash\": \"dot\"}, \"name\": \"\\u4e0b\\u673a\\u6279\\u6b21\\u6bd4(\\u4e49\\u4e4c\\u7ec4)\", \"x\": [\"8-1\", \"8-2\", \"8-3\", \"8-4\", \"8-5\", \"9-1\", \"9-2\", \"9-3\", \"9-4\", \"10-2\", \"10-3\", \"10-4\", \"10-5\", \"11-1\"], \"y\": [null, null, null, null, null, null, null, null, null, null, null, null, 1.0, 1.0], \"type\": \"scatter\", \"uid\": \"d935c088-e625-11e8-8ddb-a41f72875c19\"}], {\"title\": \"\\u4e0b\\u673a\\u6279\\u6b21\\u6bd4\\u5468\\u8d8b\\u52bf\\u56fe\", \"xaxis\": {\"mirror\": \"all\", \"nticks\": 20, \"showgrid\": true, \"showline\": true, \"title\": \"\\u5468\", \"type\": \"category\", \"zeroline\": true}, \"yaxis\": {\"mirror\": \"all\", \"nticks\": 20, \"showgrid\": true, \"showline\": true, \"title\": \"\\u4e0b\\u673a\\u6279\\u6b21\\u6bd4\", \"zeroline\": true}}, {\"showLink\": true, \"linkText\": \"Export to plot.ly\"})});</script>"
      ]
     },
     "metadata": {},
     "output_type": "display_data"
    }
   ],
   "source": [
    "ss = myModule.format(all_df1 ,\"日期（格式“月-周次”）\" ,['下机批次数','下机项目数'])\n",
    "tt = ss.get_total_ratio([['下机批次比' ,'下机批次数' , '下机项目数','/']] )\n",
    "myModule.myPlot(myModule.sort_by_index(tt)).plot('line')\n",
    "\n",
    "ss = myModule.format(all_df1 ,\"日期（格式“月-周次”）\" ,['下机批次数','下机项目数'])\n",
    "ss.add_group(\"组别\")\n",
    "tt = ss.get_total_ratio([['下机批次比' ,'下机批次数' , '下机项目数','/']] )\n",
    "myModule.myPlot(myModule.sort_by_index(tt)).plot('line')\n"
   ]
  },
  {
   "cell_type": "code",
   "execution_count": 149,
   "metadata": {
    "collapsed": false
   },
   "outputs": [
    {
     "data": {
      "application/vnd.plotly.v1+json": {
       "data": [
        {
         "name": "下机批次比",
         "type": "scatter",
         "uid": "d935c089-e625-11e8-8ddb-a41f72875c19",
         "x": [
          8,
          9,
          10,
          11
         ],
         "y": [
          1.2164429530201342,
          1.1503623188405796,
          1.1422018348623852,
          1.1729323308270676
         ]
        }
       ],
       "layout": {
        "title": "下机批次比月趋势图",
        "xaxis": {
         "mirror": "all",
         "nticks": 20,
         "showgrid": true,
         "showline": true,
         "title": "月",
         "type": "category",
         "zeroline": true
        },
        "yaxis": {
         "mirror": "all",
         "nticks": 20,
         "showgrid": true,
         "showline": true,
         "title": "下机批次比",
         "zeroline": true
        }
       }
      },
      "text/html": [
       "<div id=\"9d07b5bb-e7cf-4462-9895-7edfcc01d143\" style=\"height: 525px; width: 100%;\" class=\"plotly-graph-div\"></div><script type=\"text/javascript\">require([\"plotly\"], function(Plotly) { window.PLOTLYENV=window.PLOTLYENV || {};window.PLOTLYENV.BASE_URL=\"https://plot.ly\";Plotly.newPlot(\"9d07b5bb-e7cf-4462-9895-7edfcc01d143\", [{\"name\": \"\\u4e0b\\u673a\\u6279\\u6b21\\u6bd4\", \"x\": [8, 9, 10, 11], \"y\": [1.2164429530201342, 1.1503623188405796, 1.1422018348623852, 1.1729323308270676], \"type\": \"scatter\", \"uid\": \"d935c089-e625-11e8-8ddb-a41f72875c19\"}], {\"title\": \"\\u4e0b\\u673a\\u6279\\u6b21\\u6bd4\\u6708\\u8d8b\\u52bf\\u56fe\", \"xaxis\": {\"mirror\": \"all\", \"nticks\": 20, \"showgrid\": true, \"showline\": true, \"title\": \"\\u6708\", \"type\": \"category\", \"zeroline\": true}, \"yaxis\": {\"mirror\": \"all\", \"nticks\": 20, \"showgrid\": true, \"showline\": true, \"title\": \"\\u4e0b\\u673a\\u6279\\u6b21\\u6bd4\", \"zeroline\": true}}, {\"showLink\": true, \"linkText\": \"Export to plot.ly\"})});</script>"
      ],
      "text/vnd.plotly.v1+html": [
       "<div id=\"9d07b5bb-e7cf-4462-9895-7edfcc01d143\" style=\"height: 525px; width: 100%;\" class=\"plotly-graph-div\"></div><script type=\"text/javascript\">require([\"plotly\"], function(Plotly) { window.PLOTLYENV=window.PLOTLYENV || {};window.PLOTLYENV.BASE_URL=\"https://plot.ly\";Plotly.newPlot(\"9d07b5bb-e7cf-4462-9895-7edfcc01d143\", [{\"name\": \"\\u4e0b\\u673a\\u6279\\u6b21\\u6bd4\", \"x\": [8, 9, 10, 11], \"y\": [1.2164429530201342, 1.1503623188405796, 1.1422018348623852, 1.1729323308270676], \"type\": \"scatter\", \"uid\": \"d935c089-e625-11e8-8ddb-a41f72875c19\"}], {\"title\": \"\\u4e0b\\u673a\\u6279\\u6b21\\u6bd4\\u6708\\u8d8b\\u52bf\\u56fe\", \"xaxis\": {\"mirror\": \"all\", \"nticks\": 20, \"showgrid\": true, \"showline\": true, \"title\": \"\\u6708\", \"type\": \"category\", \"zeroline\": true}, \"yaxis\": {\"mirror\": \"all\", \"nticks\": 20, \"showgrid\": true, \"showline\": true, \"title\": \"\\u4e0b\\u673a\\u6279\\u6b21\\u6bd4\", \"zeroline\": true}}, {\"showLink\": true, \"linkText\": \"Export to plot.ly\"})});</script>"
      ]
     },
     "metadata": {},
     "output_type": "display_data"
    },
    {
     "data": {
      "application/vnd.plotly.v1+json": {
       "data": [
        {
         "line": {
          "dash": "solid"
         },
         "name": "下机批次比(北京组)",
         "type": "scatter",
         "uid": "d935c08a-e625-11e8-8ddb-a41f72875c19",
         "x": [
          8,
          9,
          10,
          11
         ],
         "y": [
          1.2164429530201342,
          1.1503623188405796,
          1.1512195121951219,
          1.2149532710280373
         ]
        },
        {
         "line": {
          "dash": "dot"
         },
         "name": "下机批次比(义乌组)",
         "type": "scatter",
         "uid": "d935c08b-e625-11e8-8ddb-a41f72875c19",
         "x": [
          8,
          9,
          10,
          11
         ],
         "y": [
          null,
          null,
          1,
          1
         ]
        }
       ],
       "layout": {
        "title": "下机批次比月趋势图",
        "xaxis": {
         "mirror": "all",
         "nticks": 20,
         "showgrid": true,
         "showline": true,
         "title": "月",
         "type": "category",
         "zeroline": true
        },
        "yaxis": {
         "mirror": "all",
         "nticks": 20,
         "showgrid": true,
         "showline": true,
         "title": "下机批次比",
         "zeroline": true
        }
       }
      },
      "text/html": [
       "<div id=\"8bdba1c7-0567-46e1-b43b-c00e938fc399\" style=\"height: 525px; width: 100%;\" class=\"plotly-graph-div\"></div><script type=\"text/javascript\">require([\"plotly\"], function(Plotly) { window.PLOTLYENV=window.PLOTLYENV || {};window.PLOTLYENV.BASE_URL=\"https://plot.ly\";Plotly.newPlot(\"8bdba1c7-0567-46e1-b43b-c00e938fc399\", [{\"line\": {\"dash\": \"solid\"}, \"name\": \"\\u4e0b\\u673a\\u6279\\u6b21\\u6bd4(\\u5317\\u4eac\\u7ec4)\", \"x\": [8, 9, 10, 11], \"y\": [1.2164429530201342, 1.1503623188405796, 1.1512195121951219, 1.2149532710280373], \"type\": \"scatter\", \"uid\": \"d935c08a-e625-11e8-8ddb-a41f72875c19\"}, {\"line\": {\"dash\": \"dot\"}, \"name\": \"\\u4e0b\\u673a\\u6279\\u6b21\\u6bd4(\\u4e49\\u4e4c\\u7ec4)\", \"x\": [8, 9, 10, 11], \"y\": [null, null, 1.0, 1.0], \"type\": \"scatter\", \"uid\": \"d935c08b-e625-11e8-8ddb-a41f72875c19\"}], {\"title\": \"\\u4e0b\\u673a\\u6279\\u6b21\\u6bd4\\u6708\\u8d8b\\u52bf\\u56fe\", \"xaxis\": {\"mirror\": \"all\", \"nticks\": 20, \"showgrid\": true, \"showline\": true, \"title\": \"\\u6708\", \"type\": \"category\", \"zeroline\": true}, \"yaxis\": {\"mirror\": \"all\", \"nticks\": 20, \"showgrid\": true, \"showline\": true, \"title\": \"\\u4e0b\\u673a\\u6279\\u6b21\\u6bd4\", \"zeroline\": true}}, {\"showLink\": true, \"linkText\": \"Export to plot.ly\"})});</script>"
      ],
      "text/vnd.plotly.v1+html": [
       "<div id=\"8bdba1c7-0567-46e1-b43b-c00e938fc399\" style=\"height: 525px; width: 100%;\" class=\"plotly-graph-div\"></div><script type=\"text/javascript\">require([\"plotly\"], function(Plotly) { window.PLOTLYENV=window.PLOTLYENV || {};window.PLOTLYENV.BASE_URL=\"https://plot.ly\";Plotly.newPlot(\"8bdba1c7-0567-46e1-b43b-c00e938fc399\", [{\"line\": {\"dash\": \"solid\"}, \"name\": \"\\u4e0b\\u673a\\u6279\\u6b21\\u6bd4(\\u5317\\u4eac\\u7ec4)\", \"x\": [8, 9, 10, 11], \"y\": [1.2164429530201342, 1.1503623188405796, 1.1512195121951219, 1.2149532710280373], \"type\": \"scatter\", \"uid\": \"d935c08a-e625-11e8-8ddb-a41f72875c19\"}, {\"line\": {\"dash\": \"dot\"}, \"name\": \"\\u4e0b\\u673a\\u6279\\u6b21\\u6bd4(\\u4e49\\u4e4c\\u7ec4)\", \"x\": [8, 9, 10, 11], \"y\": [null, null, 1.0, 1.0], \"type\": \"scatter\", \"uid\": \"d935c08b-e625-11e8-8ddb-a41f72875c19\"}], {\"title\": \"\\u4e0b\\u673a\\u6279\\u6b21\\u6bd4\\u6708\\u8d8b\\u52bf\\u56fe\", \"xaxis\": {\"mirror\": \"all\", \"nticks\": 20, \"showgrid\": true, \"showline\": true, \"title\": \"\\u6708\", \"type\": \"category\", \"zeroline\": true}, \"yaxis\": {\"mirror\": \"all\", \"nticks\": 20, \"showgrid\": true, \"showline\": true, \"title\": \"\\u4e0b\\u673a\\u6279\\u6b21\\u6bd4\", \"zeroline\": true}}, {\"showLink\": true, \"linkText\": \"Export to plot.ly\"})});</script>"
      ]
     },
     "metadata": {},
     "output_type": "display_data"
    }
   ],
   "source": [
    "ss = myModule.format(all_df1 ,\"month\" ,['下机批次数','下机项目数'])\n",
    "tt = ss.get_total_ratio([['下机批次比' ,'下机批次数' , '下机项目数','/']] )\n",
    "myModule.myPlot(tt).plot('line',\"月\")\n",
    "\n",
    "ss = myModule.format(all_df1 ,\"month\" ,['下机批次数','下机项目数'])\n",
    "ss.add_group(\"组别\")\n",
    "tt = ss.get_total_ratio([['下机批次比' ,'下机批次数' , '下机项目数','/']] )\n",
    "myModule.myPlot(tt).plot('line',\"月\")"
   ]
  },
  {
   "cell_type": "markdown",
   "metadata": {
    "hide_input": true
   },
   "source": [
    "### 效率"
   ]
  },
  {
   "cell_type": "markdown",
   "metadata": {
    "collapsed": true
   },
   "source": [
    "#### 反馈及时率和数据交付及时率"
   ]
  },
  {
   "cell_type": "code",
   "execution_count": 150,
   "metadata": {
    "collapsed": false,
    "scrolled": false
   },
   "outputs": [
    {
     "data": {
      "application/vnd.plotly.v1+json": {
       "data": [
        {
         "name": "反馈及时率",
         "type": "scatter",
         "uid": "d935c08c-e625-11e8-8ddb-a41f72875c19",
         "x": [
          "8-1",
          "8-2",
          "8-3",
          "8-4",
          "8-5",
          "9-1",
          "9-2",
          "9-3",
          "9-4",
          "10-2",
          "10-3",
          "10-4",
          "10-5",
          "11-1"
         ],
         "y": [
          0.9661016949152542,
          0.9668508287292817,
          0.9878787878787879,
          0.968944099378882,
          0.93,
          0.9849246231155779,
          0.9274193548387096,
          1,
          0.9943181818181818,
          1,
          0.9772727272727273,
          0.948905109489051,
          1,
          0.9743589743589743
         ]
        },
        {
         "name": "数据及时交付率",
         "type": "scatter",
         "uid": "d935c08d-e625-11e8-8ddb-a41f72875c19",
         "x": [
          "8-1",
          "8-2",
          "8-3",
          "8-4",
          "8-5",
          "9-1",
          "9-2",
          "9-3",
          "9-4",
          "10-2",
          "10-3",
          "10-4",
          "10-5",
          "11-1"
         ],
         "y": [
          1,
          1,
          1,
          1,
          1,
          1,
          1,
          1,
          1,
          1,
          1,
          1,
          0.993006993006993,
          1
         ]
        }
       ],
       "layout": {
        "title": "反馈及时率&数据及时交付率周趋势图",
        "xaxis": {
         "mirror": "all",
         "nticks": 20,
         "showgrid": true,
         "showline": true,
         "title": "周",
         "type": "category",
         "zeroline": true
        },
        "yaxis": {
         "mirror": "all",
         "nticks": 20,
         "showgrid": true,
         "showline": true,
         "title": "反馈及时率&数据及时交付率",
         "zeroline": true
        }
       }
      },
      "text/html": [
       "<div id=\"e7120654-d00a-4055-addf-2ad24d462d07\" style=\"height: 525px; width: 100%;\" class=\"plotly-graph-div\"></div><script type=\"text/javascript\">require([\"plotly\"], function(Plotly) { window.PLOTLYENV=window.PLOTLYENV || {};window.PLOTLYENV.BASE_URL=\"https://plot.ly\";Plotly.newPlot(\"e7120654-d00a-4055-addf-2ad24d462d07\", [{\"name\": \"\\u53cd\\u9988\\u53ca\\u65f6\\u7387\", \"x\": [\"8-1\", \"8-2\", \"8-3\", \"8-4\", \"8-5\", \"9-1\", \"9-2\", \"9-3\", \"9-4\", \"10-2\", \"10-3\", \"10-4\", \"10-5\", \"11-1\"], \"y\": [0.9661016949152542, 0.9668508287292817, 0.9878787878787879, 0.968944099378882, 0.93, 0.9849246231155779, 0.9274193548387096, 1.0, 0.9943181818181818, 1.0, 0.9772727272727273, 0.948905109489051, 1.0, 0.9743589743589743], \"type\": \"scatter\", \"uid\": \"d935c08c-e625-11e8-8ddb-a41f72875c19\"}, {\"name\": \"\\u6570\\u636e\\u53ca\\u65f6\\u4ea4\\u4ed8\\u7387\", \"x\": [\"8-1\", \"8-2\", \"8-3\", \"8-4\", \"8-5\", \"9-1\", \"9-2\", \"9-3\", \"9-4\", \"10-2\", \"10-3\", \"10-4\", \"10-5\", \"11-1\"], \"y\": [1.0, 1.0, 1.0, 1.0, 1.0, 1.0, 1.0, 1.0, 1.0, 1.0, 1.0, 1.0, 0.993006993006993, 1.0], \"type\": \"scatter\", \"uid\": \"d935c08d-e625-11e8-8ddb-a41f72875c19\"}], {\"title\": \"\\u53cd\\u9988\\u53ca\\u65f6\\u7387&\\u6570\\u636e\\u53ca\\u65f6\\u4ea4\\u4ed8\\u7387\\u5468\\u8d8b\\u52bf\\u56fe\", \"xaxis\": {\"mirror\": \"all\", \"nticks\": 20, \"showgrid\": true, \"showline\": true, \"title\": \"\\u5468\", \"type\": \"category\", \"zeroline\": true}, \"yaxis\": {\"mirror\": \"all\", \"nticks\": 20, \"showgrid\": true, \"showline\": true, \"title\": \"\\u53cd\\u9988\\u53ca\\u65f6\\u7387&\\u6570\\u636e\\u53ca\\u65f6\\u4ea4\\u4ed8\\u7387\", \"zeroline\": true}}, {\"showLink\": true, \"linkText\": \"Export to plot.ly\"})});</script>"
      ],
      "text/vnd.plotly.v1+html": [
       "<div id=\"e7120654-d00a-4055-addf-2ad24d462d07\" style=\"height: 525px; width: 100%;\" class=\"plotly-graph-div\"></div><script type=\"text/javascript\">require([\"plotly\"], function(Plotly) { window.PLOTLYENV=window.PLOTLYENV || {};window.PLOTLYENV.BASE_URL=\"https://plot.ly\";Plotly.newPlot(\"e7120654-d00a-4055-addf-2ad24d462d07\", [{\"name\": \"\\u53cd\\u9988\\u53ca\\u65f6\\u7387\", \"x\": [\"8-1\", \"8-2\", \"8-3\", \"8-4\", \"8-5\", \"9-1\", \"9-2\", \"9-3\", \"9-4\", \"10-2\", \"10-3\", \"10-4\", \"10-5\", \"11-1\"], \"y\": [0.9661016949152542, 0.9668508287292817, 0.9878787878787879, 0.968944099378882, 0.93, 0.9849246231155779, 0.9274193548387096, 1.0, 0.9943181818181818, 1.0, 0.9772727272727273, 0.948905109489051, 1.0, 0.9743589743589743], \"type\": \"scatter\", \"uid\": \"d935c08c-e625-11e8-8ddb-a41f72875c19\"}, {\"name\": \"\\u6570\\u636e\\u53ca\\u65f6\\u4ea4\\u4ed8\\u7387\", \"x\": [\"8-1\", \"8-2\", \"8-3\", \"8-4\", \"8-5\", \"9-1\", \"9-2\", \"9-3\", \"9-4\", \"10-2\", \"10-3\", \"10-4\", \"10-5\", \"11-1\"], \"y\": [1.0, 1.0, 1.0, 1.0, 1.0, 1.0, 1.0, 1.0, 1.0, 1.0, 1.0, 1.0, 0.993006993006993, 1.0], \"type\": \"scatter\", \"uid\": \"d935c08d-e625-11e8-8ddb-a41f72875c19\"}], {\"title\": \"\\u53cd\\u9988\\u53ca\\u65f6\\u7387&\\u6570\\u636e\\u53ca\\u65f6\\u4ea4\\u4ed8\\u7387\\u5468\\u8d8b\\u52bf\\u56fe\", \"xaxis\": {\"mirror\": \"all\", \"nticks\": 20, \"showgrid\": true, \"showline\": true, \"title\": \"\\u5468\", \"type\": \"category\", \"zeroline\": true}, \"yaxis\": {\"mirror\": \"all\", \"nticks\": 20, \"showgrid\": true, \"showline\": true, \"title\": \"\\u53cd\\u9988\\u53ca\\u65f6\\u7387&\\u6570\\u636e\\u53ca\\u65f6\\u4ea4\\u4ed8\\u7387\", \"zeroline\": true}}, {\"showLink\": true, \"linkText\": \"Export to plot.ly\"})});</script>"
      ]
     },
     "metadata": {},
     "output_type": "display_data"
    },
    {
     "data": {
      "application/vnd.plotly.v1+json": {
       "data": [
        {
         "line": {
          "dash": "solid"
         },
         "name": "反馈及时率(北京组)",
         "type": "scatter",
         "uid": "d935c08e-e625-11e8-8ddb-a41f72875c19",
         "x": [
          "8-1",
          "8-2",
          "8-3",
          "8-4",
          "8-5",
          "9-1",
          "9-2",
          "9-3",
          "9-4",
          "10-2",
          "10-3",
          "10-4",
          "10-5",
          "11-1"
         ],
         "y": [
          0.9661016949152542,
          0.9668508287292817,
          0.9878787878787879,
          0.968944099378882,
          0.93,
          0.9849246231155779,
          0.9274193548387096,
          1,
          0.9943181818181818,
          1,
          0.9772727272727273,
          0.948905109489051,
          1,
          0.9692307692307692
         ]
        },
        {
         "line": {
          "dash": "dot"
         },
         "name": "反馈及时率(义乌组)",
         "type": "scatter",
         "uid": "d935c08f-e625-11e8-8ddb-a41f72875c19",
         "x": [
          "8-1",
          "8-2",
          "8-3",
          "8-4",
          "8-5",
          "9-1",
          "9-2",
          "9-3",
          "9-4",
          "10-2",
          "10-3",
          "10-4",
          "10-5",
          "11-1"
         ],
         "y": [
          null,
          null,
          null,
          null,
          null,
          null,
          null,
          null,
          null,
          null,
          null,
          null,
          1,
          1
         ]
        },
        {
         "line": {
          "dash": "solid"
         },
         "name": "数据及时交付率(北京组)",
         "type": "scatter",
         "uid": "d935c090-e625-11e8-8ddb-a41f72875c19",
         "x": [
          "8-1",
          "8-2",
          "8-3",
          "8-4",
          "8-5",
          "9-1",
          "9-2",
          "9-3",
          "9-4",
          "10-2",
          "10-3",
          "10-4",
          "10-5",
          "11-1"
         ],
         "y": [
          1,
          1,
          1,
          1,
          1,
          1,
          1,
          1,
          1,
          1,
          1,
          1,
          1,
          1
         ]
        },
        {
         "line": {
          "dash": "dot"
         },
         "name": "数据及时交付率(义乌组)",
         "type": "scatter",
         "uid": "d935c091-e625-11e8-8ddb-a41f72875c19",
         "x": [
          "8-1",
          "8-2",
          "8-3",
          "8-4",
          "8-5",
          "9-1",
          "9-2",
          "9-3",
          "9-4",
          "10-2",
          "10-3",
          "10-4",
          "10-5",
          "11-1"
         ],
         "y": [
          null,
          null,
          null,
          null,
          null,
          null,
          null,
          null,
          null,
          null,
          null,
          null,
          0.9545454545454546,
          1
         ]
        }
       ],
       "layout": {
        "title": "反馈及时率&数据及时交付率周趋势图",
        "xaxis": {
         "mirror": "all",
         "nticks": 20,
         "showgrid": true,
         "showline": true,
         "title": "周",
         "type": "category",
         "zeroline": true
        },
        "yaxis": {
         "mirror": "all",
         "nticks": 20,
         "showgrid": true,
         "showline": true,
         "title": "反馈及时率&数据及时交付率",
         "zeroline": true
        }
       }
      },
      "text/html": [
       "<div id=\"31f910fc-e2cf-4886-a28a-dabdba924ded\" style=\"height: 525px; width: 100%;\" class=\"plotly-graph-div\"></div><script type=\"text/javascript\">require([\"plotly\"], function(Plotly) { window.PLOTLYENV=window.PLOTLYENV || {};window.PLOTLYENV.BASE_URL=\"https://plot.ly\";Plotly.newPlot(\"31f910fc-e2cf-4886-a28a-dabdba924ded\", [{\"line\": {\"dash\": \"solid\"}, \"name\": \"\\u53cd\\u9988\\u53ca\\u65f6\\u7387(\\u5317\\u4eac\\u7ec4)\", \"x\": [\"8-1\", \"8-2\", \"8-3\", \"8-4\", \"8-5\", \"9-1\", \"9-2\", \"9-3\", \"9-4\", \"10-2\", \"10-3\", \"10-4\", \"10-5\", \"11-1\"], \"y\": [0.9661016949152542, 0.9668508287292817, 0.9878787878787879, 0.968944099378882, 0.93, 0.9849246231155779, 0.9274193548387096, 1.0, 0.9943181818181818, 1.0, 0.9772727272727273, 0.948905109489051, 1.0, 0.9692307692307692], \"type\": \"scatter\", \"uid\": \"d935c08e-e625-11e8-8ddb-a41f72875c19\"}, {\"line\": {\"dash\": \"dot\"}, \"name\": \"\\u53cd\\u9988\\u53ca\\u65f6\\u7387(\\u4e49\\u4e4c\\u7ec4)\", \"x\": [\"8-1\", \"8-2\", \"8-3\", \"8-4\", \"8-5\", \"9-1\", \"9-2\", \"9-3\", \"9-4\", \"10-2\", \"10-3\", \"10-4\", \"10-5\", \"11-1\"], \"y\": [null, null, null, null, null, null, null, null, null, null, null, null, 1.0, 1.0], \"type\": \"scatter\", \"uid\": \"d935c08f-e625-11e8-8ddb-a41f72875c19\"}, {\"line\": {\"dash\": \"solid\"}, \"name\": \"\\u6570\\u636e\\u53ca\\u65f6\\u4ea4\\u4ed8\\u7387(\\u5317\\u4eac\\u7ec4)\", \"x\": [\"8-1\", \"8-2\", \"8-3\", \"8-4\", \"8-5\", \"9-1\", \"9-2\", \"9-3\", \"9-4\", \"10-2\", \"10-3\", \"10-4\", \"10-5\", \"11-1\"], \"y\": [1.0, 1.0, 1.0, 1.0, 1.0, 1.0, 1.0, 1.0, 1.0, 1.0, 1.0, 1.0, 1.0, 1.0], \"type\": \"scatter\", \"uid\": \"d935c090-e625-11e8-8ddb-a41f72875c19\"}, {\"line\": {\"dash\": \"dot\"}, \"name\": \"\\u6570\\u636e\\u53ca\\u65f6\\u4ea4\\u4ed8\\u7387(\\u4e49\\u4e4c\\u7ec4)\", \"x\": [\"8-1\", \"8-2\", \"8-3\", \"8-4\", \"8-5\", \"9-1\", \"9-2\", \"9-3\", \"9-4\", \"10-2\", \"10-3\", \"10-4\", \"10-5\", \"11-1\"], \"y\": [null, null, null, null, null, null, null, null, null, null, null, null, 0.9545454545454546, 1.0], \"type\": \"scatter\", \"uid\": \"d935c091-e625-11e8-8ddb-a41f72875c19\"}], {\"title\": \"\\u53cd\\u9988\\u53ca\\u65f6\\u7387&\\u6570\\u636e\\u53ca\\u65f6\\u4ea4\\u4ed8\\u7387\\u5468\\u8d8b\\u52bf\\u56fe\", \"xaxis\": {\"mirror\": \"all\", \"nticks\": 20, \"showgrid\": true, \"showline\": true, \"title\": \"\\u5468\", \"type\": \"category\", \"zeroline\": true}, \"yaxis\": {\"mirror\": \"all\", \"nticks\": 20, \"showgrid\": true, \"showline\": true, \"title\": \"\\u53cd\\u9988\\u53ca\\u65f6\\u7387&\\u6570\\u636e\\u53ca\\u65f6\\u4ea4\\u4ed8\\u7387\", \"zeroline\": true}}, {\"showLink\": true, \"linkText\": \"Export to plot.ly\"})});</script>"
      ],
      "text/vnd.plotly.v1+html": [
       "<div id=\"31f910fc-e2cf-4886-a28a-dabdba924ded\" style=\"height: 525px; width: 100%;\" class=\"plotly-graph-div\"></div><script type=\"text/javascript\">require([\"plotly\"], function(Plotly) { window.PLOTLYENV=window.PLOTLYENV || {};window.PLOTLYENV.BASE_URL=\"https://plot.ly\";Plotly.newPlot(\"31f910fc-e2cf-4886-a28a-dabdba924ded\", [{\"line\": {\"dash\": \"solid\"}, \"name\": \"\\u53cd\\u9988\\u53ca\\u65f6\\u7387(\\u5317\\u4eac\\u7ec4)\", \"x\": [\"8-1\", \"8-2\", \"8-3\", \"8-4\", \"8-5\", \"9-1\", \"9-2\", \"9-3\", \"9-4\", \"10-2\", \"10-3\", \"10-4\", \"10-5\", \"11-1\"], \"y\": [0.9661016949152542, 0.9668508287292817, 0.9878787878787879, 0.968944099378882, 0.93, 0.9849246231155779, 0.9274193548387096, 1.0, 0.9943181818181818, 1.0, 0.9772727272727273, 0.948905109489051, 1.0, 0.9692307692307692], \"type\": \"scatter\", \"uid\": \"d935c08e-e625-11e8-8ddb-a41f72875c19\"}, {\"line\": {\"dash\": \"dot\"}, \"name\": \"\\u53cd\\u9988\\u53ca\\u65f6\\u7387(\\u4e49\\u4e4c\\u7ec4)\", \"x\": [\"8-1\", \"8-2\", \"8-3\", \"8-4\", \"8-5\", \"9-1\", \"9-2\", \"9-3\", \"9-4\", \"10-2\", \"10-3\", \"10-4\", \"10-5\", \"11-1\"], \"y\": [null, null, null, null, null, null, null, null, null, null, null, null, 1.0, 1.0], \"type\": \"scatter\", \"uid\": \"d935c08f-e625-11e8-8ddb-a41f72875c19\"}, {\"line\": {\"dash\": \"solid\"}, \"name\": \"\\u6570\\u636e\\u53ca\\u65f6\\u4ea4\\u4ed8\\u7387(\\u5317\\u4eac\\u7ec4)\", \"x\": [\"8-1\", \"8-2\", \"8-3\", \"8-4\", \"8-5\", \"9-1\", \"9-2\", \"9-3\", \"9-4\", \"10-2\", \"10-3\", \"10-4\", \"10-5\", \"11-1\"], \"y\": [1.0, 1.0, 1.0, 1.0, 1.0, 1.0, 1.0, 1.0, 1.0, 1.0, 1.0, 1.0, 1.0, 1.0], \"type\": \"scatter\", \"uid\": \"d935c090-e625-11e8-8ddb-a41f72875c19\"}, {\"line\": {\"dash\": \"dot\"}, \"name\": \"\\u6570\\u636e\\u53ca\\u65f6\\u4ea4\\u4ed8\\u7387(\\u4e49\\u4e4c\\u7ec4)\", \"x\": [\"8-1\", \"8-2\", \"8-3\", \"8-4\", \"8-5\", \"9-1\", \"9-2\", \"9-3\", \"9-4\", \"10-2\", \"10-3\", \"10-4\", \"10-5\", \"11-1\"], \"y\": [null, null, null, null, null, null, null, null, null, null, null, null, 0.9545454545454546, 1.0], \"type\": \"scatter\", \"uid\": \"d935c091-e625-11e8-8ddb-a41f72875c19\"}], {\"title\": \"\\u53cd\\u9988\\u53ca\\u65f6\\u7387&\\u6570\\u636e\\u53ca\\u65f6\\u4ea4\\u4ed8\\u7387\\u5468\\u8d8b\\u52bf\\u56fe\", \"xaxis\": {\"mirror\": \"all\", \"nticks\": 20, \"showgrid\": true, \"showline\": true, \"title\": \"\\u5468\", \"type\": \"category\", \"zeroline\": true}, \"yaxis\": {\"mirror\": \"all\", \"nticks\": 20, \"showgrid\": true, \"showline\": true, \"title\": \"\\u53cd\\u9988\\u53ca\\u65f6\\u7387&\\u6570\\u636e\\u53ca\\u65f6\\u4ea4\\u4ed8\\u7387\", \"zeroline\": true}}, {\"showLink\": true, \"linkText\": \"Export to plot.ly\"})});</script>"
      ]
     },
     "metadata": {},
     "output_type": "display_data"
    }
   ],
   "source": [
    "ss = myModule.format(all_df1 ,\"日期（格式“月-周次”）\" ,['及时反馈数','下机批次数','数据及时交付数','数据交付总数'])\n",
    "tt = ss.get_total_ratio([['反馈及时率' ,'及时反馈数' , '下机批次数','/'], \n",
    "                    ['数据及时交付率','数据及时交付数','数据交付总数','/']])\n",
    "myModule.myPlot(myModule.sort_by_index(tt)).plot('line')\n",
    "\n",
    "ss = myModule.format(all_df1 ,\"日期（格式“月-周次”）\" ,['及时反馈数','下机批次数','数据及时交付数','数据交付总数'])\n",
    "ss.add_group(\"组别\")\n",
    "tt = ss.get_total_ratio([['反馈及时率' ,'及时反馈数' , '下机批次数','/'], \n",
    "                    ['数据及时交付率','数据及时交付数','数据交付总数','/']])\n",
    "myModule.myPlot(myModule.sort_by_index(tt)).plot('line')"
   ]
  },
  {
   "cell_type": "code",
   "execution_count": 151,
   "metadata": {
    "collapsed": false
   },
   "outputs": [
    {
     "data": {
      "application/vnd.plotly.v1+json": {
       "data": [
        {
         "name": "反馈及时率",
         "type": "scatter",
         "uid": "d935c092-e625-11e8-8ddb-a41f72875c19",
         "x": [
          8,
          9,
          10,
          11
         ],
         "y": [
          0.9668965517241379,
          0.9795275590551181,
          0.9799196787148594,
          0.9743589743589743
         ]
        },
        {
         "name": "数据及时交付率",
         "type": "scatter",
         "uid": "d935c093-e625-11e8-8ddb-a41f72875c19",
         "x": [
          8,
          9,
          10,
          11
         ],
         "y": [
          1,
          1,
          0.9979423868312757,
          1
         ]
        }
       ],
       "layout": {
        "title": "反馈及时率&数据及时交付率月趋势图",
        "xaxis": {
         "mirror": "all",
         "nticks": 20,
         "showgrid": true,
         "showline": true,
         "title": "月",
         "type": "category",
         "zeroline": true
        },
        "yaxis": {
         "mirror": "all",
         "nticks": 20,
         "showgrid": true,
         "showline": true,
         "title": "反馈及时率&数据及时交付率",
         "zeroline": true
        }
       }
      },
      "text/html": [
       "<div id=\"69d52509-9e72-4777-b146-61f3a1dc0363\" style=\"height: 525px; width: 100%;\" class=\"plotly-graph-div\"></div><script type=\"text/javascript\">require([\"plotly\"], function(Plotly) { window.PLOTLYENV=window.PLOTLYENV || {};window.PLOTLYENV.BASE_URL=\"https://plot.ly\";Plotly.newPlot(\"69d52509-9e72-4777-b146-61f3a1dc0363\", [{\"name\": \"\\u53cd\\u9988\\u53ca\\u65f6\\u7387\", \"x\": [8, 9, 10, 11], \"y\": [0.9668965517241379, 0.9795275590551181, 0.9799196787148594, 0.9743589743589743], \"type\": \"scatter\", \"uid\": \"d935c092-e625-11e8-8ddb-a41f72875c19\"}, {\"name\": \"\\u6570\\u636e\\u53ca\\u65f6\\u4ea4\\u4ed8\\u7387\", \"x\": [8, 9, 10, 11], \"y\": [1.0, 1.0, 0.9979423868312757, 1.0], \"type\": \"scatter\", \"uid\": \"d935c093-e625-11e8-8ddb-a41f72875c19\"}], {\"title\": \"\\u53cd\\u9988\\u53ca\\u65f6\\u7387&\\u6570\\u636e\\u53ca\\u65f6\\u4ea4\\u4ed8\\u7387\\u6708\\u8d8b\\u52bf\\u56fe\", \"xaxis\": {\"mirror\": \"all\", \"nticks\": 20, \"showgrid\": true, \"showline\": true, \"title\": \"\\u6708\", \"type\": \"category\", \"zeroline\": true}, \"yaxis\": {\"mirror\": \"all\", \"nticks\": 20, \"showgrid\": true, \"showline\": true, \"title\": \"\\u53cd\\u9988\\u53ca\\u65f6\\u7387&\\u6570\\u636e\\u53ca\\u65f6\\u4ea4\\u4ed8\\u7387\", \"zeroline\": true}}, {\"showLink\": true, \"linkText\": \"Export to plot.ly\"})});</script>"
      ],
      "text/vnd.plotly.v1+html": [
       "<div id=\"69d52509-9e72-4777-b146-61f3a1dc0363\" style=\"height: 525px; width: 100%;\" class=\"plotly-graph-div\"></div><script type=\"text/javascript\">require([\"plotly\"], function(Plotly) { window.PLOTLYENV=window.PLOTLYENV || {};window.PLOTLYENV.BASE_URL=\"https://plot.ly\";Plotly.newPlot(\"69d52509-9e72-4777-b146-61f3a1dc0363\", [{\"name\": \"\\u53cd\\u9988\\u53ca\\u65f6\\u7387\", \"x\": [8, 9, 10, 11], \"y\": [0.9668965517241379, 0.9795275590551181, 0.9799196787148594, 0.9743589743589743], \"type\": \"scatter\", \"uid\": \"d935c092-e625-11e8-8ddb-a41f72875c19\"}, {\"name\": \"\\u6570\\u636e\\u53ca\\u65f6\\u4ea4\\u4ed8\\u7387\", \"x\": [8, 9, 10, 11], \"y\": [1.0, 1.0, 0.9979423868312757, 1.0], \"type\": \"scatter\", \"uid\": \"d935c093-e625-11e8-8ddb-a41f72875c19\"}], {\"title\": \"\\u53cd\\u9988\\u53ca\\u65f6\\u7387&\\u6570\\u636e\\u53ca\\u65f6\\u4ea4\\u4ed8\\u7387\\u6708\\u8d8b\\u52bf\\u56fe\", \"xaxis\": {\"mirror\": \"all\", \"nticks\": 20, \"showgrid\": true, \"showline\": true, \"title\": \"\\u6708\", \"type\": \"category\", \"zeroline\": true}, \"yaxis\": {\"mirror\": \"all\", \"nticks\": 20, \"showgrid\": true, \"showline\": true, \"title\": \"\\u53cd\\u9988\\u53ca\\u65f6\\u7387&\\u6570\\u636e\\u53ca\\u65f6\\u4ea4\\u4ed8\\u7387\", \"zeroline\": true}}, {\"showLink\": true, \"linkText\": \"Export to plot.ly\"})});</script>"
      ]
     },
     "metadata": {},
     "output_type": "display_data"
    },
    {
     "data": {
      "application/vnd.plotly.v1+json": {
       "data": [
        {
         "line": {
          "dash": "solid"
         },
         "name": "反馈及时率(北京组)",
         "type": "scatter",
         "uid": "da000ad4-e625-11e8-8ddb-a41f72875c19",
         "x": [
          8,
          9,
          10,
          11
         ],
         "y": [
          0.9668965517241379,
          0.9795275590551181,
          0.9788135593220338,
          0.9692307692307692
         ]
        },
        {
         "line": {
          "dash": "dot"
         },
         "name": "反馈及时率(义乌组)",
         "type": "scatter",
         "uid": "da000ad5-e625-11e8-8ddb-a41f72875c19",
         "x": [
          8,
          9,
          10,
          11
         ],
         "y": [
          null,
          null,
          1,
          1
         ]
        },
        {
         "line": {
          "dash": "solid"
         },
         "name": "数据及时交付率(北京组)",
         "type": "scatter",
         "uid": "da000ad6-e625-11e8-8ddb-a41f72875c19",
         "x": [
          8,
          9,
          10,
          11
         ],
         "y": [
          1,
          1,
          1,
          1
         ]
        },
        {
         "line": {
          "dash": "dot"
         },
         "name": "数据及时交付率(义乌组)",
         "type": "scatter",
         "uid": "da000ad7-e625-11e8-8ddb-a41f72875c19",
         "x": [
          8,
          9,
          10,
          11
         ],
         "y": [
          null,
          null,
          0.9545454545454546,
          1
         ]
        }
       ],
       "layout": {
        "title": "反馈及时率&数据及时交付率月趋势图",
        "xaxis": {
         "mirror": "all",
         "nticks": 20,
         "showgrid": true,
         "showline": true,
         "title": "月",
         "type": "category",
         "zeroline": true
        },
        "yaxis": {
         "mirror": "all",
         "nticks": 20,
         "showgrid": true,
         "showline": true,
         "title": "反馈及时率&数据及时交付率",
         "zeroline": true
        }
       }
      },
      "text/html": [
       "<div id=\"adc42070-f9f1-42fc-b14b-7d09d5d1d75d\" style=\"height: 525px; width: 100%;\" class=\"plotly-graph-div\"></div><script type=\"text/javascript\">require([\"plotly\"], function(Plotly) { window.PLOTLYENV=window.PLOTLYENV || {};window.PLOTLYENV.BASE_URL=\"https://plot.ly\";Plotly.newPlot(\"adc42070-f9f1-42fc-b14b-7d09d5d1d75d\", [{\"line\": {\"dash\": \"solid\"}, \"name\": \"\\u53cd\\u9988\\u53ca\\u65f6\\u7387(\\u5317\\u4eac\\u7ec4)\", \"x\": [8, 9, 10, 11], \"y\": [0.9668965517241379, 0.9795275590551181, 0.9788135593220338, 0.9692307692307692], \"type\": \"scatter\", \"uid\": \"da000ad4-e625-11e8-8ddb-a41f72875c19\"}, {\"line\": {\"dash\": \"dot\"}, \"name\": \"\\u53cd\\u9988\\u53ca\\u65f6\\u7387(\\u4e49\\u4e4c\\u7ec4)\", \"x\": [8, 9, 10, 11], \"y\": [null, null, 1.0, 1.0], \"type\": \"scatter\", \"uid\": \"da000ad5-e625-11e8-8ddb-a41f72875c19\"}, {\"line\": {\"dash\": \"solid\"}, \"name\": \"\\u6570\\u636e\\u53ca\\u65f6\\u4ea4\\u4ed8\\u7387(\\u5317\\u4eac\\u7ec4)\", \"x\": [8, 9, 10, 11], \"y\": [1.0, 1.0, 1.0, 1.0], \"type\": \"scatter\", \"uid\": \"da000ad6-e625-11e8-8ddb-a41f72875c19\"}, {\"line\": {\"dash\": \"dot\"}, \"name\": \"\\u6570\\u636e\\u53ca\\u65f6\\u4ea4\\u4ed8\\u7387(\\u4e49\\u4e4c\\u7ec4)\", \"x\": [8, 9, 10, 11], \"y\": [null, null, 0.9545454545454546, 1.0], \"type\": \"scatter\", \"uid\": \"da000ad7-e625-11e8-8ddb-a41f72875c19\"}], {\"title\": \"\\u53cd\\u9988\\u53ca\\u65f6\\u7387&\\u6570\\u636e\\u53ca\\u65f6\\u4ea4\\u4ed8\\u7387\\u6708\\u8d8b\\u52bf\\u56fe\", \"xaxis\": {\"mirror\": \"all\", \"nticks\": 20, \"showgrid\": true, \"showline\": true, \"title\": \"\\u6708\", \"type\": \"category\", \"zeroline\": true}, \"yaxis\": {\"mirror\": \"all\", \"nticks\": 20, \"showgrid\": true, \"showline\": true, \"title\": \"\\u53cd\\u9988\\u53ca\\u65f6\\u7387&\\u6570\\u636e\\u53ca\\u65f6\\u4ea4\\u4ed8\\u7387\", \"zeroline\": true}}, {\"showLink\": true, \"linkText\": \"Export to plot.ly\"})});</script>"
      ],
      "text/vnd.plotly.v1+html": [
       "<div id=\"adc42070-f9f1-42fc-b14b-7d09d5d1d75d\" style=\"height: 525px; width: 100%;\" class=\"plotly-graph-div\"></div><script type=\"text/javascript\">require([\"plotly\"], function(Plotly) { window.PLOTLYENV=window.PLOTLYENV || {};window.PLOTLYENV.BASE_URL=\"https://plot.ly\";Plotly.newPlot(\"adc42070-f9f1-42fc-b14b-7d09d5d1d75d\", [{\"line\": {\"dash\": \"solid\"}, \"name\": \"\\u53cd\\u9988\\u53ca\\u65f6\\u7387(\\u5317\\u4eac\\u7ec4)\", \"x\": [8, 9, 10, 11], \"y\": [0.9668965517241379, 0.9795275590551181, 0.9788135593220338, 0.9692307692307692], \"type\": \"scatter\", \"uid\": \"da000ad4-e625-11e8-8ddb-a41f72875c19\"}, {\"line\": {\"dash\": \"dot\"}, \"name\": \"\\u53cd\\u9988\\u53ca\\u65f6\\u7387(\\u4e49\\u4e4c\\u7ec4)\", \"x\": [8, 9, 10, 11], \"y\": [null, null, 1.0, 1.0], \"type\": \"scatter\", \"uid\": \"da000ad5-e625-11e8-8ddb-a41f72875c19\"}, {\"line\": {\"dash\": \"solid\"}, \"name\": \"\\u6570\\u636e\\u53ca\\u65f6\\u4ea4\\u4ed8\\u7387(\\u5317\\u4eac\\u7ec4)\", \"x\": [8, 9, 10, 11], \"y\": [1.0, 1.0, 1.0, 1.0], \"type\": \"scatter\", \"uid\": \"da000ad6-e625-11e8-8ddb-a41f72875c19\"}, {\"line\": {\"dash\": \"dot\"}, \"name\": \"\\u6570\\u636e\\u53ca\\u65f6\\u4ea4\\u4ed8\\u7387(\\u4e49\\u4e4c\\u7ec4)\", \"x\": [8, 9, 10, 11], \"y\": [null, null, 0.9545454545454546, 1.0], \"type\": \"scatter\", \"uid\": \"da000ad7-e625-11e8-8ddb-a41f72875c19\"}], {\"title\": \"\\u53cd\\u9988\\u53ca\\u65f6\\u7387&\\u6570\\u636e\\u53ca\\u65f6\\u4ea4\\u4ed8\\u7387\\u6708\\u8d8b\\u52bf\\u56fe\", \"xaxis\": {\"mirror\": \"all\", \"nticks\": 20, \"showgrid\": true, \"showline\": true, \"title\": \"\\u6708\", \"type\": \"category\", \"zeroline\": true}, \"yaxis\": {\"mirror\": \"all\", \"nticks\": 20, \"showgrid\": true, \"showline\": true, \"title\": \"\\u53cd\\u9988\\u53ca\\u65f6\\u7387&\\u6570\\u636e\\u53ca\\u65f6\\u4ea4\\u4ed8\\u7387\", \"zeroline\": true}}, {\"showLink\": true, \"linkText\": \"Export to plot.ly\"})});</script>"
      ]
     },
     "metadata": {},
     "output_type": "display_data"
    }
   ],
   "source": [
    "ss = myModule.format(all_df1 ,\"month\" ,['及时反馈数','下机批次数','数据及时交付数','数据交付总数'])\n",
    "tt = ss.get_total_ratio([['反馈及时率' ,'及时反馈数' , '下机批次数','/'], \n",
    "                    ['数据及时交付率','数据及时交付数','数据交付总数','/']])\n",
    "myModule.myPlot(tt).plot('line',\"月\")\n",
    "\n",
    "ss = myModule.format(all_df1 ,\"month\" ,['及时反馈数','下机批次数','数据及时交付数','数据交付总数'])\n",
    "ss.add_group('组别')\n",
    "tt = ss.get_total_ratio([['反馈及时率' ,'及时反馈数' , '下机批次数','/'], \n",
    "                    ['数据及时交付率','数据及时交付数','数据交付总数','/']])\n",
    "myModule.myPlot(tt).plot('line',\"月\")"
   ]
  },
  {
   "cell_type": "markdown",
   "metadata": {},
   "source": [
    "#### 24h拆分过滤率和48h拆分过滤率"
   ]
  },
  {
   "cell_type": "code",
   "execution_count": 152,
   "metadata": {
    "collapsed": false
   },
   "outputs": [],
   "source": [
    "#ss = myModule.format(all_df1 ,\"日期（格式“月-周次”）\" ,['24h完成批次数', '下机批次数','48h完成批次数'])\n",
    "#tt = ss.get_total_ratio([['24h拆分过滤率' ,'24h完成批次数', '下机批次数','/'], \n",
    "                    #['48h拆分过滤率','48h完成批次数', '下机批次数','/']])\n",
    "#myModule.myPlot(myModule.sort_by_index(tt)).plot('line')\n",
    "\n",
    "#ss = myModule.format(all_df1 ,\"month\" ,['24h完成批次数', '下机批次数','48h完成批次数'])\n",
    "#tt = ss.get_total_ratio([['24h拆分过滤率' ,'24h完成批次数', '下机批次数','/'], \n",
    "                   # ['48h拆分过滤率','48h完成批次数', '下机批次数','/']])\n",
    "#myModule.myPlot(tt).plot('line',\"月\")"
   ]
  },
  {
   "cell_type": "markdown",
   "metadata": {},
   "source": [
    "#### 平均反馈时长"
   ]
  },
  {
   "cell_type": "code",
   "execution_count": 153,
   "metadata": {
    "collapsed": false
   },
   "outputs": [
    {
     "data": {
      "application/vnd.plotly.v1+json": {
       "data": [
        {
         "name": "平均反馈时长",
         "type": "scatter",
         "uid": "da000ad8-e625-11e8-8ddb-a41f72875c19",
         "x": [
          "8-1",
          "8-2",
          "8-3",
          "8-4",
          "8-5",
          "9-1",
          "9-2",
          "9-3",
          "9-4",
          "10-2",
          "10-3",
          "10-4",
          "10-5",
          "11-1"
         ],
         "y": [
          6.4072881355932205,
          4.446298342541437,
          5.337454545454546,
          4.985962732919255,
          6.498000000000001,
          9.664371859296482,
          7.4699193548387095,
          3.604632352941177,
          3.2088068181818183,
          2.7965714285714283,
          4.1249242424242425,
          4.655182481751825,
          3.173207547169812,
          5.4305128205128215
         ]
        }
       ],
       "layout": {
        "title": "平均反馈时长周趋势图",
        "xaxis": {
         "mirror": "all",
         "nticks": 20,
         "showgrid": true,
         "showline": true,
         "title": "周",
         "type": "category",
         "zeroline": true
        },
        "yaxis": {
         "mirror": "all",
         "nticks": 20,
         "showgrid": true,
         "showline": true,
         "title": "平均反馈时长",
         "zeroline": true
        }
       }
      },
      "text/html": [
       "<div id=\"eb42d423-4ef2-4a47-a06e-4db1036c90ee\" style=\"height: 525px; width: 100%;\" class=\"plotly-graph-div\"></div><script type=\"text/javascript\">require([\"plotly\"], function(Plotly) { window.PLOTLYENV=window.PLOTLYENV || {};window.PLOTLYENV.BASE_URL=\"https://plot.ly\";Plotly.newPlot(\"eb42d423-4ef2-4a47-a06e-4db1036c90ee\", [{\"name\": \"\\u5e73\\u5747\\u53cd\\u9988\\u65f6\\u957f\", \"x\": [\"8-1\", \"8-2\", \"8-3\", \"8-4\", \"8-5\", \"9-1\", \"9-2\", \"9-3\", \"9-4\", \"10-2\", \"10-3\", \"10-4\", \"10-5\", \"11-1\"], \"y\": [6.4072881355932205, 4.446298342541437, 5.337454545454546, 4.985962732919255, 6.498000000000001, 9.664371859296482, 7.4699193548387095, 3.604632352941177, 3.2088068181818183, 2.7965714285714283, 4.1249242424242425, 4.655182481751825, 3.173207547169812, 5.4305128205128215], \"type\": \"scatter\", \"uid\": \"da000ad8-e625-11e8-8ddb-a41f72875c19\"}], {\"title\": \"\\u5e73\\u5747\\u53cd\\u9988\\u65f6\\u957f\\u5468\\u8d8b\\u52bf\\u56fe\", \"xaxis\": {\"mirror\": \"all\", \"nticks\": 20, \"showgrid\": true, \"showline\": true, \"title\": \"\\u5468\", \"type\": \"category\", \"zeroline\": true}, \"yaxis\": {\"mirror\": \"all\", \"nticks\": 20, \"showgrid\": true, \"showline\": true, \"title\": \"\\u5e73\\u5747\\u53cd\\u9988\\u65f6\\u957f\", \"zeroline\": true}}, {\"showLink\": true, \"linkText\": \"Export to plot.ly\"})});</script>"
      ],
      "text/vnd.plotly.v1+html": [
       "<div id=\"eb42d423-4ef2-4a47-a06e-4db1036c90ee\" style=\"height: 525px; width: 100%;\" class=\"plotly-graph-div\"></div><script type=\"text/javascript\">require([\"plotly\"], function(Plotly) { window.PLOTLYENV=window.PLOTLYENV || {};window.PLOTLYENV.BASE_URL=\"https://plot.ly\";Plotly.newPlot(\"eb42d423-4ef2-4a47-a06e-4db1036c90ee\", [{\"name\": \"\\u5e73\\u5747\\u53cd\\u9988\\u65f6\\u957f\", \"x\": [\"8-1\", \"8-2\", \"8-3\", \"8-4\", \"8-5\", \"9-1\", \"9-2\", \"9-3\", \"9-4\", \"10-2\", \"10-3\", \"10-4\", \"10-5\", \"11-1\"], \"y\": [6.4072881355932205, 4.446298342541437, 5.337454545454546, 4.985962732919255, 6.498000000000001, 9.664371859296482, 7.4699193548387095, 3.604632352941177, 3.2088068181818183, 2.7965714285714283, 4.1249242424242425, 4.655182481751825, 3.173207547169812, 5.4305128205128215], \"type\": \"scatter\", \"uid\": \"da000ad8-e625-11e8-8ddb-a41f72875c19\"}], {\"title\": \"\\u5e73\\u5747\\u53cd\\u9988\\u65f6\\u957f\\u5468\\u8d8b\\u52bf\\u56fe\", \"xaxis\": {\"mirror\": \"all\", \"nticks\": 20, \"showgrid\": true, \"showline\": true, \"title\": \"\\u5468\", \"type\": \"category\", \"zeroline\": true}, \"yaxis\": {\"mirror\": \"all\", \"nticks\": 20, \"showgrid\": true, \"showline\": true, \"title\": \"\\u5e73\\u5747\\u53cd\\u9988\\u65f6\\u957f\", \"zeroline\": true}}, {\"showLink\": true, \"linkText\": \"Export to plot.ly\"})});</script>"
      ]
     },
     "metadata": {},
     "output_type": "display_data"
    },
    {
     "data": {
      "application/vnd.plotly.v1+json": {
       "data": [
        {
         "line": {
          "dash": "solid"
         },
         "name": "平均反馈时长(北京组)",
         "type": "scatter",
         "uid": "da000ad9-e625-11e8-8ddb-a41f72875c19",
         "x": [
          "8-1",
          "8-2",
          "8-3",
          "8-4",
          "8-5",
          "9-1",
          "9-2",
          "9-3",
          "9-4",
          "10-2",
          "10-3",
          "10-4",
          "10-5",
          "11-1"
         ],
         "y": [
          6.4072881355932205,
          4.446298342541437,
          5.337454545454546,
          4.985962732919255,
          6.498000000000001,
          9.664371859296482,
          7.4699193548387095,
          3.604632352941177,
          3.2088068181818183,
          2.7965714285714283,
          4.1249242424242425,
          4.655182481751825,
          3.4737593984962407,
          5.115461538461538
         ]
        },
        {
         "line": {
          "dash": "dot"
         },
         "name": "平均反馈时长(义乌组)",
         "type": "scatter",
         "uid": "da000ada-e625-11e8-8ddb-a41f72875c19",
         "x": [
          "8-1",
          "8-2",
          "8-3",
          "8-4",
          "8-5",
          "9-1",
          "9-2",
          "9-3",
          "9-4",
          "10-2",
          "10-3",
          "10-4",
          "10-5",
          "11-1"
         ],
         "y": [
          null,
          null,
          null,
          null,
          null,
          null,
          null,
          null,
          null,
          null,
          null,
          null,
          1.6357692307692309,
          7.00576923076923
         ]
        }
       ],
       "layout": {
        "title": "平均反馈时长周趋势图",
        "xaxis": {
         "mirror": "all",
         "nticks": 20,
         "showgrid": true,
         "showline": true,
         "title": "周",
         "type": "category",
         "zeroline": true
        },
        "yaxis": {
         "mirror": "all",
         "nticks": 20,
         "showgrid": true,
         "showline": true,
         "title": "平均反馈时长",
         "zeroline": true
        }
       }
      },
      "text/html": [
       "<div id=\"146153c4-4611-466b-861b-67b9a63dc501\" style=\"height: 525px; width: 100%;\" class=\"plotly-graph-div\"></div><script type=\"text/javascript\">require([\"plotly\"], function(Plotly) { window.PLOTLYENV=window.PLOTLYENV || {};window.PLOTLYENV.BASE_URL=\"https://plot.ly\";Plotly.newPlot(\"146153c4-4611-466b-861b-67b9a63dc501\", [{\"line\": {\"dash\": \"solid\"}, \"name\": \"\\u5e73\\u5747\\u53cd\\u9988\\u65f6\\u957f(\\u5317\\u4eac\\u7ec4)\", \"x\": [\"8-1\", \"8-2\", \"8-3\", \"8-4\", \"8-5\", \"9-1\", \"9-2\", \"9-3\", \"9-4\", \"10-2\", \"10-3\", \"10-4\", \"10-5\", \"11-1\"], \"y\": [6.4072881355932205, 4.446298342541437, 5.337454545454546, 4.985962732919255, 6.498000000000001, 9.664371859296482, 7.4699193548387095, 3.604632352941177, 3.2088068181818183, 2.7965714285714283, 4.1249242424242425, 4.655182481751825, 3.4737593984962407, 5.115461538461538], \"type\": \"scatter\", \"uid\": \"da000ad9-e625-11e8-8ddb-a41f72875c19\"}, {\"line\": {\"dash\": \"dot\"}, \"name\": \"\\u5e73\\u5747\\u53cd\\u9988\\u65f6\\u957f(\\u4e49\\u4e4c\\u7ec4)\", \"x\": [\"8-1\", \"8-2\", \"8-3\", \"8-4\", \"8-5\", \"9-1\", \"9-2\", \"9-3\", \"9-4\", \"10-2\", \"10-3\", \"10-4\", \"10-5\", \"11-1\"], \"y\": [null, null, null, null, null, null, null, null, null, null, null, null, 1.6357692307692309, 7.00576923076923], \"type\": \"scatter\", \"uid\": \"da000ada-e625-11e8-8ddb-a41f72875c19\"}], {\"title\": \"\\u5e73\\u5747\\u53cd\\u9988\\u65f6\\u957f\\u5468\\u8d8b\\u52bf\\u56fe\", \"xaxis\": {\"mirror\": \"all\", \"nticks\": 20, \"showgrid\": true, \"showline\": true, \"title\": \"\\u5468\", \"type\": \"category\", \"zeroline\": true}, \"yaxis\": {\"mirror\": \"all\", \"nticks\": 20, \"showgrid\": true, \"showline\": true, \"title\": \"\\u5e73\\u5747\\u53cd\\u9988\\u65f6\\u957f\", \"zeroline\": true}}, {\"showLink\": true, \"linkText\": \"Export to plot.ly\"})});</script>"
      ],
      "text/vnd.plotly.v1+html": [
       "<div id=\"146153c4-4611-466b-861b-67b9a63dc501\" style=\"height: 525px; width: 100%;\" class=\"plotly-graph-div\"></div><script type=\"text/javascript\">require([\"plotly\"], function(Plotly) { window.PLOTLYENV=window.PLOTLYENV || {};window.PLOTLYENV.BASE_URL=\"https://plot.ly\";Plotly.newPlot(\"146153c4-4611-466b-861b-67b9a63dc501\", [{\"line\": {\"dash\": \"solid\"}, \"name\": \"\\u5e73\\u5747\\u53cd\\u9988\\u65f6\\u957f(\\u5317\\u4eac\\u7ec4)\", \"x\": [\"8-1\", \"8-2\", \"8-3\", \"8-4\", \"8-5\", \"9-1\", \"9-2\", \"9-3\", \"9-4\", \"10-2\", \"10-3\", \"10-4\", \"10-5\", \"11-1\"], \"y\": [6.4072881355932205, 4.446298342541437, 5.337454545454546, 4.985962732919255, 6.498000000000001, 9.664371859296482, 7.4699193548387095, 3.604632352941177, 3.2088068181818183, 2.7965714285714283, 4.1249242424242425, 4.655182481751825, 3.4737593984962407, 5.115461538461538], \"type\": \"scatter\", \"uid\": \"da000ad9-e625-11e8-8ddb-a41f72875c19\"}, {\"line\": {\"dash\": \"dot\"}, \"name\": \"\\u5e73\\u5747\\u53cd\\u9988\\u65f6\\u957f(\\u4e49\\u4e4c\\u7ec4)\", \"x\": [\"8-1\", \"8-2\", \"8-3\", \"8-4\", \"8-5\", \"9-1\", \"9-2\", \"9-3\", \"9-4\", \"10-2\", \"10-3\", \"10-4\", \"10-5\", \"11-1\"], \"y\": [null, null, null, null, null, null, null, null, null, null, null, null, 1.6357692307692309, 7.00576923076923], \"type\": \"scatter\", \"uid\": \"da000ada-e625-11e8-8ddb-a41f72875c19\"}], {\"title\": \"\\u5e73\\u5747\\u53cd\\u9988\\u65f6\\u957f\\u5468\\u8d8b\\u52bf\\u56fe\", \"xaxis\": {\"mirror\": \"all\", \"nticks\": 20, \"showgrid\": true, \"showline\": true, \"title\": \"\\u5468\", \"type\": \"category\", \"zeroline\": true}, \"yaxis\": {\"mirror\": \"all\", \"nticks\": 20, \"showgrid\": true, \"showline\": true, \"title\": \"\\u5e73\\u5747\\u53cd\\u9988\\u65f6\\u957f\", \"zeroline\": true}}, {\"showLink\": true, \"linkText\": \"Export to plot.ly\"})});</script>"
      ]
     },
     "metadata": {},
     "output_type": "display_data"
    }
   ],
   "source": [
    "ss = myModule.format(all_df1 ,\"日期（格式“月-周次”）\" ,['反馈总时长','下机批次数'])\n",
    "tt = ss.get_total_ratio([['平均反馈时长','反馈总时长','下机批次数','/']] )\n",
    "myModule.myPlot(myModule.sort_by_index(tt)).plot('line')\n",
    "\n",
    "ss = myModule.format(all_df1 ,\"日期（格式“月-周次”）\" ,['反馈总时长','下机批次数'])\n",
    "ss.add_group('组别')\n",
    "tt = ss.get_total_ratio([['平均反馈时长','反馈总时长','下机批次数','/']] )\n",
    "myModule.myPlot(myModule.sort_by_index(tt)).plot('line')"
   ]
  },
  {
   "cell_type": "code",
   "execution_count": 154,
   "metadata": {
    "collapsed": false
   },
   "outputs": [
    {
     "data": {
      "application/vnd.plotly.v1+json": {
       "data": [
        {
         "name": "平均反馈时长",
         "type": "scatter",
         "uid": "da000adb-e625-11e8-8ddb-a41f72875c19",
         "x": [
          8,
          9,
          10,
          11
         ],
         "y": [
          5.371117241379311,
          6.148755905511811,
          3.780220883534137,
          5.4305128205128215
         ]
        }
       ],
       "layout": {
        "title": "平均反馈时长月趋势图",
        "xaxis": {
         "mirror": "all",
         "nticks": 20,
         "showgrid": true,
         "showline": true,
         "title": "月",
         "type": "category",
         "zeroline": true
        },
        "yaxis": {
         "mirror": "all",
         "nticks": 20,
         "showgrid": true,
         "showline": true,
         "title": "平均反馈时长",
         "zeroline": true
        }
       }
      },
      "text/html": [
       "<div id=\"1a5faa7f-918b-4b73-a4c9-80d0093591f2\" style=\"height: 525px; width: 100%;\" class=\"plotly-graph-div\"></div><script type=\"text/javascript\">require([\"plotly\"], function(Plotly) { window.PLOTLYENV=window.PLOTLYENV || {};window.PLOTLYENV.BASE_URL=\"https://plot.ly\";Plotly.newPlot(\"1a5faa7f-918b-4b73-a4c9-80d0093591f2\", [{\"name\": \"\\u5e73\\u5747\\u53cd\\u9988\\u65f6\\u957f\", \"x\": [8, 9, 10, 11], \"y\": [5.371117241379311, 6.148755905511811, 3.780220883534137, 5.4305128205128215], \"type\": \"scatter\", \"uid\": \"da000adb-e625-11e8-8ddb-a41f72875c19\"}], {\"title\": \"\\u5e73\\u5747\\u53cd\\u9988\\u65f6\\u957f\\u6708\\u8d8b\\u52bf\\u56fe\", \"xaxis\": {\"mirror\": \"all\", \"nticks\": 20, \"showgrid\": true, \"showline\": true, \"title\": \"\\u6708\", \"type\": \"category\", \"zeroline\": true}, \"yaxis\": {\"mirror\": \"all\", \"nticks\": 20, \"showgrid\": true, \"showline\": true, \"title\": \"\\u5e73\\u5747\\u53cd\\u9988\\u65f6\\u957f\", \"zeroline\": true}}, {\"showLink\": true, \"linkText\": \"Export to plot.ly\"})});</script>"
      ],
      "text/vnd.plotly.v1+html": [
       "<div id=\"1a5faa7f-918b-4b73-a4c9-80d0093591f2\" style=\"height: 525px; width: 100%;\" class=\"plotly-graph-div\"></div><script type=\"text/javascript\">require([\"plotly\"], function(Plotly) { window.PLOTLYENV=window.PLOTLYENV || {};window.PLOTLYENV.BASE_URL=\"https://plot.ly\";Plotly.newPlot(\"1a5faa7f-918b-4b73-a4c9-80d0093591f2\", [{\"name\": \"\\u5e73\\u5747\\u53cd\\u9988\\u65f6\\u957f\", \"x\": [8, 9, 10, 11], \"y\": [5.371117241379311, 6.148755905511811, 3.780220883534137, 5.4305128205128215], \"type\": \"scatter\", \"uid\": \"da000adb-e625-11e8-8ddb-a41f72875c19\"}], {\"title\": \"\\u5e73\\u5747\\u53cd\\u9988\\u65f6\\u957f\\u6708\\u8d8b\\u52bf\\u56fe\", \"xaxis\": {\"mirror\": \"all\", \"nticks\": 20, \"showgrid\": true, \"showline\": true, \"title\": \"\\u6708\", \"type\": \"category\", \"zeroline\": true}, \"yaxis\": {\"mirror\": \"all\", \"nticks\": 20, \"showgrid\": true, \"showline\": true, \"title\": \"\\u5e73\\u5747\\u53cd\\u9988\\u65f6\\u957f\", \"zeroline\": true}}, {\"showLink\": true, \"linkText\": \"Export to plot.ly\"})});</script>"
      ]
     },
     "metadata": {},
     "output_type": "display_data"
    },
    {
     "data": {
      "application/vnd.plotly.v1+json": {
       "data": [
        {
         "line": {
          "dash": "solid"
         },
         "name": "平均反馈时长(北京组)",
         "type": "scatter",
         "uid": "da000adc-e625-11e8-8ddb-a41f72875c19",
         "x": [
          8,
          9,
          10,
          11
         ],
         "y": [
          5.371117241379311,
          6.148755905511811,
          3.8983474576271187,
          5.115461538461538
         ]
        },
        {
         "line": {
          "dash": "dot"
         },
         "name": "平均反馈时长(义乌组)",
         "type": "scatter",
         "uid": "da000add-e625-11e8-8ddb-a41f72875c19",
         "x": [
          8,
          9,
          10,
          11
         ],
         "y": [
          null,
          null,
          1.6357692307692309,
          7.00576923076923
         ]
        }
       ],
       "layout": {
        "title": "平均反馈时长周趋势图",
        "xaxis": {
         "mirror": "all",
         "nticks": 20,
         "showgrid": true,
         "showline": true,
         "title": "周",
         "type": "category",
         "zeroline": true
        },
        "yaxis": {
         "mirror": "all",
         "nticks": 20,
         "showgrid": true,
         "showline": true,
         "title": "平均反馈时长",
         "zeroline": true
        }
       }
      },
      "text/html": [
       "<div id=\"5bfc557c-4795-4638-99ec-e4dcb67c1006\" style=\"height: 525px; width: 100%;\" class=\"plotly-graph-div\"></div><script type=\"text/javascript\">require([\"plotly\"], function(Plotly) { window.PLOTLYENV=window.PLOTLYENV || {};window.PLOTLYENV.BASE_URL=\"https://plot.ly\";Plotly.newPlot(\"5bfc557c-4795-4638-99ec-e4dcb67c1006\", [{\"line\": {\"dash\": \"solid\"}, \"name\": \"\\u5e73\\u5747\\u53cd\\u9988\\u65f6\\u957f(\\u5317\\u4eac\\u7ec4)\", \"x\": [8, 9, 10, 11], \"y\": [5.371117241379311, 6.148755905511811, 3.8983474576271187, 5.115461538461538], \"type\": \"scatter\", \"uid\": \"da000adc-e625-11e8-8ddb-a41f72875c19\"}, {\"line\": {\"dash\": \"dot\"}, \"name\": \"\\u5e73\\u5747\\u53cd\\u9988\\u65f6\\u957f(\\u4e49\\u4e4c\\u7ec4)\", \"x\": [8, 9, 10, 11], \"y\": [null, null, 1.6357692307692309, 7.00576923076923], \"type\": \"scatter\", \"uid\": \"da000add-e625-11e8-8ddb-a41f72875c19\"}], {\"title\": \"\\u5e73\\u5747\\u53cd\\u9988\\u65f6\\u957f\\u5468\\u8d8b\\u52bf\\u56fe\", \"xaxis\": {\"mirror\": \"all\", \"nticks\": 20, \"showgrid\": true, \"showline\": true, \"title\": \"\\u5468\", \"type\": \"category\", \"zeroline\": true}, \"yaxis\": {\"mirror\": \"all\", \"nticks\": 20, \"showgrid\": true, \"showline\": true, \"title\": \"\\u5e73\\u5747\\u53cd\\u9988\\u65f6\\u957f\", \"zeroline\": true}}, {\"showLink\": true, \"linkText\": \"Export to plot.ly\"})});</script>"
      ],
      "text/vnd.plotly.v1+html": [
       "<div id=\"5bfc557c-4795-4638-99ec-e4dcb67c1006\" style=\"height: 525px; width: 100%;\" class=\"plotly-graph-div\"></div><script type=\"text/javascript\">require([\"plotly\"], function(Plotly) { window.PLOTLYENV=window.PLOTLYENV || {};window.PLOTLYENV.BASE_URL=\"https://plot.ly\";Plotly.newPlot(\"5bfc557c-4795-4638-99ec-e4dcb67c1006\", [{\"line\": {\"dash\": \"solid\"}, \"name\": \"\\u5e73\\u5747\\u53cd\\u9988\\u65f6\\u957f(\\u5317\\u4eac\\u7ec4)\", \"x\": [8, 9, 10, 11], \"y\": [5.371117241379311, 6.148755905511811, 3.8983474576271187, 5.115461538461538], \"type\": \"scatter\", \"uid\": \"da000adc-e625-11e8-8ddb-a41f72875c19\"}, {\"line\": {\"dash\": \"dot\"}, \"name\": \"\\u5e73\\u5747\\u53cd\\u9988\\u65f6\\u957f(\\u4e49\\u4e4c\\u7ec4)\", \"x\": [8, 9, 10, 11], \"y\": [null, null, 1.6357692307692309, 7.00576923076923], \"type\": \"scatter\", \"uid\": \"da000add-e625-11e8-8ddb-a41f72875c19\"}], {\"title\": \"\\u5e73\\u5747\\u53cd\\u9988\\u65f6\\u957f\\u5468\\u8d8b\\u52bf\\u56fe\", \"xaxis\": {\"mirror\": \"all\", \"nticks\": 20, \"showgrid\": true, \"showline\": true, \"title\": \"\\u5468\", \"type\": \"category\", \"zeroline\": true}, \"yaxis\": {\"mirror\": \"all\", \"nticks\": 20, \"showgrid\": true, \"showline\": true, \"title\": \"\\u5e73\\u5747\\u53cd\\u9988\\u65f6\\u957f\", \"zeroline\": true}}, {\"showLink\": true, \"linkText\": \"Export to plot.ly\"})});</script>"
      ]
     },
     "metadata": {},
     "output_type": "display_data"
    }
   ],
   "source": [
    "ss = myModule.format(all_df1 ,\"month\" ,['反馈总时长','下机批次数'])\n",
    "tt = ss.get_total_ratio([['平均反馈时长','反馈总时长','下机批次数','/']] )\n",
    "myModule.myPlot(tt).plot('line',\"月\")\n",
    "\n",
    "\n",
    "ss = myModule.format(all_df1 ,\"month\" ,['反馈总时长','下机批次数'])\n",
    "ss.add_group('组别')\n",
    "tt = ss.get_total_ratio([['平均反馈时长','反馈总时长','下机批次数','/']] )\n",
    "myModule.myPlot(tt).plot('line')"
   ]
  },
  {
   "cell_type": "markdown",
   "metadata": {},
   "source": [
    "### 异常"
   ]
  },
  {
   "cell_type": "markdown",
   "metadata": {},
   "source": [
    "#### 个性化拆分"
   ]
  },
  {
   "cell_type": "code",
   "execution_count": 155,
   "metadata": {
    "collapsed": false
   },
   "outputs": [
    {
     "data": {
      "application/vnd.plotly.v1+json": {
       "data": [
        {
         "name": "个性化数",
         "type": "scatter",
         "uid": "da000ade-e625-11e8-8ddb-a41f72875c19",
         "x": [
          "8-1",
          "8-2",
          "8-3",
          "8-4",
          "8-5",
          "9-1",
          "9-2",
          "9-3",
          "9-4",
          "10-2",
          "10-3",
          "10-4",
          "10-5",
          "11-1"
         ],
         "y": [
          0,
          0,
          0,
          0,
          0,
          0,
          0,
          1,
          3,
          2,
          1,
          2,
          6,
          6
         ]
        }
       ],
       "layout": {
        "title": "个性化数周趋势图",
        "xaxis": {
         "mirror": "all",
         "nticks": 20,
         "showgrid": true,
         "showline": true,
         "title": "周",
         "type": "category",
         "zeroline": true
        },
        "yaxis": {
         "mirror": "all",
         "nticks": 20,
         "showgrid": true,
         "showline": true,
         "title": "个性化数",
         "zeroline": true
        }
       }
      },
      "text/html": [
       "<div id=\"4261f2f3-7083-44db-9671-8cd8db55584c\" style=\"height: 525px; width: 100%;\" class=\"plotly-graph-div\"></div><script type=\"text/javascript\">require([\"plotly\"], function(Plotly) { window.PLOTLYENV=window.PLOTLYENV || {};window.PLOTLYENV.BASE_URL=\"https://plot.ly\";Plotly.newPlot(\"4261f2f3-7083-44db-9671-8cd8db55584c\", [{\"name\": \"\\u4e2a\\u6027\\u5316\\u6570\", \"x\": [\"8-1\", \"8-2\", \"8-3\", \"8-4\", \"8-5\", \"9-1\", \"9-2\", \"9-3\", \"9-4\", \"10-2\", \"10-3\", \"10-4\", \"10-5\", \"11-1\"], \"y\": [0, 0, 0, 0, 0, 0, 0, 1, 3, 2, 1, 2, 6, 6], \"type\": \"scatter\", \"uid\": \"da000ade-e625-11e8-8ddb-a41f72875c19\"}], {\"title\": \"\\u4e2a\\u6027\\u5316\\u6570\\u5468\\u8d8b\\u52bf\\u56fe\", \"xaxis\": {\"mirror\": \"all\", \"nticks\": 20, \"showgrid\": true, \"showline\": true, \"title\": \"\\u5468\", \"type\": \"category\", \"zeroline\": true}, \"yaxis\": {\"mirror\": \"all\", \"nticks\": 20, \"showgrid\": true, \"showline\": true, \"title\": \"\\u4e2a\\u6027\\u5316\\u6570\", \"zeroline\": true}}, {\"showLink\": true, \"linkText\": \"Export to plot.ly\"})});</script>"
      ],
      "text/vnd.plotly.v1+html": [
       "<div id=\"4261f2f3-7083-44db-9671-8cd8db55584c\" style=\"height: 525px; width: 100%;\" class=\"plotly-graph-div\"></div><script type=\"text/javascript\">require([\"plotly\"], function(Plotly) { window.PLOTLYENV=window.PLOTLYENV || {};window.PLOTLYENV.BASE_URL=\"https://plot.ly\";Plotly.newPlot(\"4261f2f3-7083-44db-9671-8cd8db55584c\", [{\"name\": \"\\u4e2a\\u6027\\u5316\\u6570\", \"x\": [\"8-1\", \"8-2\", \"8-3\", \"8-4\", \"8-5\", \"9-1\", \"9-2\", \"9-3\", \"9-4\", \"10-2\", \"10-3\", \"10-4\", \"10-5\", \"11-1\"], \"y\": [0, 0, 0, 0, 0, 0, 0, 1, 3, 2, 1, 2, 6, 6], \"type\": \"scatter\", \"uid\": \"da000ade-e625-11e8-8ddb-a41f72875c19\"}], {\"title\": \"\\u4e2a\\u6027\\u5316\\u6570\\u5468\\u8d8b\\u52bf\\u56fe\", \"xaxis\": {\"mirror\": \"all\", \"nticks\": 20, \"showgrid\": true, \"showline\": true, \"title\": \"\\u5468\", \"type\": \"category\", \"zeroline\": true}, \"yaxis\": {\"mirror\": \"all\", \"nticks\": 20, \"showgrid\": true, \"showline\": true, \"title\": \"\\u4e2a\\u6027\\u5316\\u6570\", \"zeroline\": true}}, {\"showLink\": true, \"linkText\": \"Export to plot.ly\"})});</script>"
      ]
     },
     "metadata": {},
     "output_type": "display_data"
    },
    {
     "data": {
      "application/vnd.plotly.v1+json": {
       "data": [
        {
         "name": "个性化数",
         "type": "scatter",
         "uid": "da000adf-e625-11e8-8ddb-a41f72875c19",
         "x": [
          8,
          9,
          10,
          11
         ],
         "y": [
          0,
          4,
          11,
          6
         ]
        }
       ],
       "layout": {
        "title": "个性化数月趋势图",
        "xaxis": {
         "mirror": "all",
         "nticks": 20,
         "showgrid": true,
         "showline": true,
         "title": "月",
         "type": "category",
         "zeroline": true
        },
        "yaxis": {
         "mirror": "all",
         "nticks": 20,
         "showgrid": true,
         "showline": true,
         "title": "个性化数",
         "zeroline": true
        }
       }
      },
      "text/html": [
       "<div id=\"d31e8708-4821-4239-aaa1-bbcaf5a276cf\" style=\"height: 525px; width: 100%;\" class=\"plotly-graph-div\"></div><script type=\"text/javascript\">require([\"plotly\"], function(Plotly) { window.PLOTLYENV=window.PLOTLYENV || {};window.PLOTLYENV.BASE_URL=\"https://plot.ly\";Plotly.newPlot(\"d31e8708-4821-4239-aaa1-bbcaf5a276cf\", [{\"name\": \"\\u4e2a\\u6027\\u5316\\u6570\", \"x\": [8, 9, 10, 11], \"y\": [0, 4, 11, 6], \"type\": \"scatter\", \"uid\": \"da000adf-e625-11e8-8ddb-a41f72875c19\"}], {\"title\": \"\\u4e2a\\u6027\\u5316\\u6570\\u6708\\u8d8b\\u52bf\\u56fe\", \"xaxis\": {\"mirror\": \"all\", \"nticks\": 20, \"showgrid\": true, \"showline\": true, \"title\": \"\\u6708\", \"type\": \"category\", \"zeroline\": true}, \"yaxis\": {\"mirror\": \"all\", \"nticks\": 20, \"showgrid\": true, \"showline\": true, \"title\": \"\\u4e2a\\u6027\\u5316\\u6570\", \"zeroline\": true}}, {\"showLink\": true, \"linkText\": \"Export to plot.ly\"})});</script>"
      ],
      "text/vnd.plotly.v1+html": [
       "<div id=\"d31e8708-4821-4239-aaa1-bbcaf5a276cf\" style=\"height: 525px; width: 100%;\" class=\"plotly-graph-div\"></div><script type=\"text/javascript\">require([\"plotly\"], function(Plotly) { window.PLOTLYENV=window.PLOTLYENV || {};window.PLOTLYENV.BASE_URL=\"https://plot.ly\";Plotly.newPlot(\"d31e8708-4821-4239-aaa1-bbcaf5a276cf\", [{\"name\": \"\\u4e2a\\u6027\\u5316\\u6570\", \"x\": [8, 9, 10, 11], \"y\": [0, 4, 11, 6], \"type\": \"scatter\", \"uid\": \"da000adf-e625-11e8-8ddb-a41f72875c19\"}], {\"title\": \"\\u4e2a\\u6027\\u5316\\u6570\\u6708\\u8d8b\\u52bf\\u56fe\", \"xaxis\": {\"mirror\": \"all\", \"nticks\": 20, \"showgrid\": true, \"showline\": true, \"title\": \"\\u6708\", \"type\": \"category\", \"zeroline\": true}, \"yaxis\": {\"mirror\": \"all\", \"nticks\": 20, \"showgrid\": true, \"showline\": true, \"title\": \"\\u4e2a\\u6027\\u5316\\u6570\", \"zeroline\": true}}, {\"showLink\": true, \"linkText\": \"Export to plot.ly\"})});</script>"
      ]
     },
     "metadata": {},
     "output_type": "display_data"
    }
   ],
   "source": [
    "ss = myModule.format(all_df1 ,\"日期（格式“月-周次”）\" ,['个性化数'])\n",
    "myModule.myPlot(myModule.sort_by_index(ss.groupby('sum'))).plot('line')\n",
    "\n",
    "ss = myModule.format(all_df1 ,\"month\" ,['个性化数'])\n",
    "myModule.myPlot(ss.groupby('sum')).plot('line','月')"
   ]
  },
  {
   "cell_type": "markdown",
   "metadata": {},
   "source": [
    "#### lims异常数和下单错误数"
   ]
  },
  {
   "cell_type": "code",
   "execution_count": 156,
   "metadata": {
    "collapsed": false
   },
   "outputs": [
    {
     "data": {
      "application/vnd.plotly.v1+json": {
       "data": [
        {
         "name": "下单错误数",
         "type": "scatter",
         "uid": "da000ae0-e625-11e8-8ddb-a41f72875c19",
         "x": [
          "8-1",
          "8-2",
          "8-3",
          "8-4",
          "8-5",
          "9-1",
          "9-2",
          "9-3",
          "9-4",
          "10-2",
          "10-3",
          "10-4",
          "10-5",
          "11-1"
         ],
         "y": [
          1,
          0,
          6,
          1,
          1,
          1,
          1,
          0,
          0,
          0,
          0,
          2,
          0,
          0
         ]
        },
        {
         "name": "lims异常数",
         "type": "scatter",
         "uid": "da000ae1-e625-11e8-8ddb-a41f72875c19",
         "x": [
          "8-1",
          "8-2",
          "8-3",
          "8-4",
          "8-5",
          "9-1",
          "9-2",
          "9-3",
          "9-4",
          "10-2",
          "10-3",
          "10-4",
          "10-5",
          "11-1"
         ],
         "y": [
          2,
          2,
          2,
          1,
          2,
          1,
          0,
          0,
          1,
          1,
          1,
          2,
          0,
          0
         ]
        }
       ],
       "layout": {
        "title": "下单错误数&lims异常数周趋势图",
        "xaxis": {
         "mirror": "all",
         "nticks": 20,
         "showgrid": true,
         "showline": true,
         "title": "周",
         "type": "category",
         "zeroline": true
        },
        "yaxis": {
         "mirror": "all",
         "nticks": 20,
         "showgrid": true,
         "showline": true,
         "title": "下单错误数&lims异常数",
         "zeroline": true
        }
       }
      },
      "text/html": [
       "<div id=\"f82cef31-4d8c-44eb-8961-e0a36c5139fb\" style=\"height: 525px; width: 100%;\" class=\"plotly-graph-div\"></div><script type=\"text/javascript\">require([\"plotly\"], function(Plotly) { window.PLOTLYENV=window.PLOTLYENV || {};window.PLOTLYENV.BASE_URL=\"https://plot.ly\";Plotly.newPlot(\"f82cef31-4d8c-44eb-8961-e0a36c5139fb\", [{\"name\": \"\\u4e0b\\u5355\\u9519\\u8bef\\u6570\", \"x\": [\"8-1\", \"8-2\", \"8-3\", \"8-4\", \"8-5\", \"9-1\", \"9-2\", \"9-3\", \"9-4\", \"10-2\", \"10-3\", \"10-4\", \"10-5\", \"11-1\"], \"y\": [1, 0, 6, 1, 1, 1, 1, 0, 0, 0, 0, 2, 0, 0], \"type\": \"scatter\", \"uid\": \"da000ae0-e625-11e8-8ddb-a41f72875c19\"}, {\"name\": \"lims\\u5f02\\u5e38\\u6570\", \"x\": [\"8-1\", \"8-2\", \"8-3\", \"8-4\", \"8-5\", \"9-1\", \"9-2\", \"9-3\", \"9-4\", \"10-2\", \"10-3\", \"10-4\", \"10-5\", \"11-1\"], \"y\": [2, 2, 2, 1, 2, 1, 0, 0, 1, 1, 1, 2, 0, 0], \"type\": \"scatter\", \"uid\": \"da000ae1-e625-11e8-8ddb-a41f72875c19\"}], {\"title\": \"\\u4e0b\\u5355\\u9519\\u8bef\\u6570&lims\\u5f02\\u5e38\\u6570\\u5468\\u8d8b\\u52bf\\u56fe\", \"xaxis\": {\"mirror\": \"all\", \"nticks\": 20, \"showgrid\": true, \"showline\": true, \"title\": \"\\u5468\", \"type\": \"category\", \"zeroline\": true}, \"yaxis\": {\"mirror\": \"all\", \"nticks\": 20, \"showgrid\": true, \"showline\": true, \"title\": \"\\u4e0b\\u5355\\u9519\\u8bef\\u6570&lims\\u5f02\\u5e38\\u6570\", \"zeroline\": true}}, {\"showLink\": true, \"linkText\": \"Export to plot.ly\"})});</script>"
      ],
      "text/vnd.plotly.v1+html": [
       "<div id=\"f82cef31-4d8c-44eb-8961-e0a36c5139fb\" style=\"height: 525px; width: 100%;\" class=\"plotly-graph-div\"></div><script type=\"text/javascript\">require([\"plotly\"], function(Plotly) { window.PLOTLYENV=window.PLOTLYENV || {};window.PLOTLYENV.BASE_URL=\"https://plot.ly\";Plotly.newPlot(\"f82cef31-4d8c-44eb-8961-e0a36c5139fb\", [{\"name\": \"\\u4e0b\\u5355\\u9519\\u8bef\\u6570\", \"x\": [\"8-1\", \"8-2\", \"8-3\", \"8-4\", \"8-5\", \"9-1\", \"9-2\", \"9-3\", \"9-4\", \"10-2\", \"10-3\", \"10-4\", \"10-5\", \"11-1\"], \"y\": [1, 0, 6, 1, 1, 1, 1, 0, 0, 0, 0, 2, 0, 0], \"type\": \"scatter\", \"uid\": \"da000ae0-e625-11e8-8ddb-a41f72875c19\"}, {\"name\": \"lims\\u5f02\\u5e38\\u6570\", \"x\": [\"8-1\", \"8-2\", \"8-3\", \"8-4\", \"8-5\", \"9-1\", \"9-2\", \"9-3\", \"9-4\", \"10-2\", \"10-3\", \"10-4\", \"10-5\", \"11-1\"], \"y\": [2, 2, 2, 1, 2, 1, 0, 0, 1, 1, 1, 2, 0, 0], \"type\": \"scatter\", \"uid\": \"da000ae1-e625-11e8-8ddb-a41f72875c19\"}], {\"title\": \"\\u4e0b\\u5355\\u9519\\u8bef\\u6570&lims\\u5f02\\u5e38\\u6570\\u5468\\u8d8b\\u52bf\\u56fe\", \"xaxis\": {\"mirror\": \"all\", \"nticks\": 20, \"showgrid\": true, \"showline\": true, \"title\": \"\\u5468\", \"type\": \"category\", \"zeroline\": true}, \"yaxis\": {\"mirror\": \"all\", \"nticks\": 20, \"showgrid\": true, \"showline\": true, \"title\": \"\\u4e0b\\u5355\\u9519\\u8bef\\u6570&lims\\u5f02\\u5e38\\u6570\", \"zeroline\": true}}, {\"showLink\": true, \"linkText\": \"Export to plot.ly\"})});</script>"
      ]
     },
     "metadata": {},
     "output_type": "display_data"
    },
    {
     "data": {
      "application/vnd.plotly.v1+json": {
       "data": [
        {
         "name": "下单错误数",
         "type": "scatter",
         "uid": "da000ae2-e625-11e8-8ddb-a41f72875c19",
         "x": [
          8,
          9,
          10,
          11
         ],
         "y": [
          9,
          2,
          2,
          0
         ]
        },
        {
         "name": "lims异常数",
         "type": "scatter",
         "uid": "da000ae3-e625-11e8-8ddb-a41f72875c19",
         "x": [
          8,
          9,
          10,
          11
         ],
         "y": [
          9,
          2,
          4,
          0
         ]
        }
       ],
       "layout": {
        "title": "下单错误数&lims异常数月趋势图",
        "xaxis": {
         "mirror": "all",
         "nticks": 20,
         "showgrid": true,
         "showline": true,
         "title": "月",
         "type": "category",
         "zeroline": true
        },
        "yaxis": {
         "mirror": "all",
         "nticks": 20,
         "showgrid": true,
         "showline": true,
         "title": "下单错误数&lims异常数",
         "zeroline": true
        }
       }
      },
      "text/html": [
       "<div id=\"639da50d-c598-4a5c-a542-9c2c1c5b8f89\" style=\"height: 525px; width: 100%;\" class=\"plotly-graph-div\"></div><script type=\"text/javascript\">require([\"plotly\"], function(Plotly) { window.PLOTLYENV=window.PLOTLYENV || {};window.PLOTLYENV.BASE_URL=\"https://plot.ly\";Plotly.newPlot(\"639da50d-c598-4a5c-a542-9c2c1c5b8f89\", [{\"name\": \"\\u4e0b\\u5355\\u9519\\u8bef\\u6570\", \"x\": [8, 9, 10, 11], \"y\": [9, 2, 2, 0], \"type\": \"scatter\", \"uid\": \"da000ae2-e625-11e8-8ddb-a41f72875c19\"}, {\"name\": \"lims\\u5f02\\u5e38\\u6570\", \"x\": [8, 9, 10, 11], \"y\": [9, 2, 4, 0], \"type\": \"scatter\", \"uid\": \"da000ae3-e625-11e8-8ddb-a41f72875c19\"}], {\"title\": \"\\u4e0b\\u5355\\u9519\\u8bef\\u6570&lims\\u5f02\\u5e38\\u6570\\u6708\\u8d8b\\u52bf\\u56fe\", \"xaxis\": {\"mirror\": \"all\", \"nticks\": 20, \"showgrid\": true, \"showline\": true, \"title\": \"\\u6708\", \"type\": \"category\", \"zeroline\": true}, \"yaxis\": {\"mirror\": \"all\", \"nticks\": 20, \"showgrid\": true, \"showline\": true, \"title\": \"\\u4e0b\\u5355\\u9519\\u8bef\\u6570&lims\\u5f02\\u5e38\\u6570\", \"zeroline\": true}}, {\"showLink\": true, \"linkText\": \"Export to plot.ly\"})});</script>"
      ],
      "text/vnd.plotly.v1+html": [
       "<div id=\"639da50d-c598-4a5c-a542-9c2c1c5b8f89\" style=\"height: 525px; width: 100%;\" class=\"plotly-graph-div\"></div><script type=\"text/javascript\">require([\"plotly\"], function(Plotly) { window.PLOTLYENV=window.PLOTLYENV || {};window.PLOTLYENV.BASE_URL=\"https://plot.ly\";Plotly.newPlot(\"639da50d-c598-4a5c-a542-9c2c1c5b8f89\", [{\"name\": \"\\u4e0b\\u5355\\u9519\\u8bef\\u6570\", \"x\": [8, 9, 10, 11], \"y\": [9, 2, 2, 0], \"type\": \"scatter\", \"uid\": \"da000ae2-e625-11e8-8ddb-a41f72875c19\"}, {\"name\": \"lims\\u5f02\\u5e38\\u6570\", \"x\": [8, 9, 10, 11], \"y\": [9, 2, 4, 0], \"type\": \"scatter\", \"uid\": \"da000ae3-e625-11e8-8ddb-a41f72875c19\"}], {\"title\": \"\\u4e0b\\u5355\\u9519\\u8bef\\u6570&lims\\u5f02\\u5e38\\u6570\\u6708\\u8d8b\\u52bf\\u56fe\", \"xaxis\": {\"mirror\": \"all\", \"nticks\": 20, \"showgrid\": true, \"showline\": true, \"title\": \"\\u6708\", \"type\": \"category\", \"zeroline\": true}, \"yaxis\": {\"mirror\": \"all\", \"nticks\": 20, \"showgrid\": true, \"showline\": true, \"title\": \"\\u4e0b\\u5355\\u9519\\u8bef\\u6570&lims\\u5f02\\u5e38\\u6570\", \"zeroline\": true}}, {\"showLink\": true, \"linkText\": \"Export to plot.ly\"})});</script>"
      ]
     },
     "metadata": {},
     "output_type": "display_data"
    },
    {
     "data": {
      "application/vnd.plotly.v1+json": {
       "data": [
        {
         "line": {
          "dash": "solid"
         },
         "name": "下单错误数(北京组)",
         "type": "scatter",
         "uid": "da000ae4-e625-11e8-8ddb-a41f72875c19",
         "x": [
          8,
          9,
          10,
          11
         ],
         "y": [
          9,
          2,
          2,
          0
         ]
        },
        {
         "line": {
          "dash": "dot"
         },
         "name": "下单错误数(义乌组)",
         "type": "scatter",
         "uid": "da000ae5-e625-11e8-8ddb-a41f72875c19",
         "x": [
          8,
          9,
          10,
          11
         ],
         "y": [
          null,
          null,
          0,
          0
         ]
        },
        {
         "line": {
          "dash": "solid"
         },
         "name": "lims异常数(北京组)",
         "type": "scatter",
         "uid": "da000ae6-e625-11e8-8ddb-a41f72875c19",
         "x": [
          8,
          9,
          10,
          11
         ],
         "y": [
          9,
          2,
          4,
          0
         ]
        },
        {
         "line": {
          "dash": "dot"
         },
         "name": "lims异常数(义乌组)",
         "type": "scatter",
         "uid": "da000ae7-e625-11e8-8ddb-a41f72875c19",
         "x": [
          8,
          9,
          10,
          11
         ],
         "y": [
          null,
          null,
          0,
          0
         ]
        }
       ],
       "layout": {
        "title": "下单错误数&lims异常数月趋势图",
        "xaxis": {
         "mirror": "all",
         "nticks": 20,
         "showgrid": true,
         "showline": true,
         "title": "月",
         "type": "category",
         "zeroline": true
        },
        "yaxis": {
         "mirror": "all",
         "nticks": 20,
         "showgrid": true,
         "showline": true,
         "title": "下单错误数&lims异常数",
         "zeroline": true
        }
       }
      },
      "text/html": [
       "<div id=\"d9443313-8a1a-47ce-b739-d68783a55457\" style=\"height: 525px; width: 100%;\" class=\"plotly-graph-div\"></div><script type=\"text/javascript\">require([\"plotly\"], function(Plotly) { window.PLOTLYENV=window.PLOTLYENV || {};window.PLOTLYENV.BASE_URL=\"https://plot.ly\";Plotly.newPlot(\"d9443313-8a1a-47ce-b739-d68783a55457\", [{\"line\": {\"dash\": \"solid\"}, \"name\": \"\\u4e0b\\u5355\\u9519\\u8bef\\u6570(\\u5317\\u4eac\\u7ec4)\", \"x\": [8, 9, 10, 11], \"y\": [9.0, 2.0, 2.0, 0.0], \"type\": \"scatter\", \"uid\": \"da000ae4-e625-11e8-8ddb-a41f72875c19\"}, {\"line\": {\"dash\": \"dot\"}, \"name\": \"\\u4e0b\\u5355\\u9519\\u8bef\\u6570(\\u4e49\\u4e4c\\u7ec4)\", \"x\": [8, 9, 10, 11], \"y\": [null, null, 0.0, 0.0], \"type\": \"scatter\", \"uid\": \"da000ae5-e625-11e8-8ddb-a41f72875c19\"}, {\"line\": {\"dash\": \"solid\"}, \"name\": \"lims\\u5f02\\u5e38\\u6570(\\u5317\\u4eac\\u7ec4)\", \"x\": [8, 9, 10, 11], \"y\": [9.0, 2.0, 4.0, 0.0], \"type\": \"scatter\", \"uid\": \"da000ae6-e625-11e8-8ddb-a41f72875c19\"}, {\"line\": {\"dash\": \"dot\"}, \"name\": \"lims\\u5f02\\u5e38\\u6570(\\u4e49\\u4e4c\\u7ec4)\", \"x\": [8, 9, 10, 11], \"y\": [null, null, 0.0, 0.0], \"type\": \"scatter\", \"uid\": \"da000ae7-e625-11e8-8ddb-a41f72875c19\"}], {\"title\": \"\\u4e0b\\u5355\\u9519\\u8bef\\u6570&lims\\u5f02\\u5e38\\u6570\\u6708\\u8d8b\\u52bf\\u56fe\", \"xaxis\": {\"mirror\": \"all\", \"nticks\": 20, \"showgrid\": true, \"showline\": true, \"title\": \"\\u6708\", \"type\": \"category\", \"zeroline\": true}, \"yaxis\": {\"mirror\": \"all\", \"nticks\": 20, \"showgrid\": true, \"showline\": true, \"title\": \"\\u4e0b\\u5355\\u9519\\u8bef\\u6570&lims\\u5f02\\u5e38\\u6570\", \"zeroline\": true}}, {\"showLink\": true, \"linkText\": \"Export to plot.ly\"})});</script>"
      ],
      "text/vnd.plotly.v1+html": [
       "<div id=\"d9443313-8a1a-47ce-b739-d68783a55457\" style=\"height: 525px; width: 100%;\" class=\"plotly-graph-div\"></div><script type=\"text/javascript\">require([\"plotly\"], function(Plotly) { window.PLOTLYENV=window.PLOTLYENV || {};window.PLOTLYENV.BASE_URL=\"https://plot.ly\";Plotly.newPlot(\"d9443313-8a1a-47ce-b739-d68783a55457\", [{\"line\": {\"dash\": \"solid\"}, \"name\": \"\\u4e0b\\u5355\\u9519\\u8bef\\u6570(\\u5317\\u4eac\\u7ec4)\", \"x\": [8, 9, 10, 11], \"y\": [9.0, 2.0, 2.0, 0.0], \"type\": \"scatter\", \"uid\": \"da000ae4-e625-11e8-8ddb-a41f72875c19\"}, {\"line\": {\"dash\": \"dot\"}, \"name\": \"\\u4e0b\\u5355\\u9519\\u8bef\\u6570(\\u4e49\\u4e4c\\u7ec4)\", \"x\": [8, 9, 10, 11], \"y\": [null, null, 0.0, 0.0], \"type\": \"scatter\", \"uid\": \"da000ae5-e625-11e8-8ddb-a41f72875c19\"}, {\"line\": {\"dash\": \"solid\"}, \"name\": \"lims\\u5f02\\u5e38\\u6570(\\u5317\\u4eac\\u7ec4)\", \"x\": [8, 9, 10, 11], \"y\": [9.0, 2.0, 4.0, 0.0], \"type\": \"scatter\", \"uid\": \"da000ae6-e625-11e8-8ddb-a41f72875c19\"}, {\"line\": {\"dash\": \"dot\"}, \"name\": \"lims\\u5f02\\u5e38\\u6570(\\u4e49\\u4e4c\\u7ec4)\", \"x\": [8, 9, 10, 11], \"y\": [null, null, 0.0, 0.0], \"type\": \"scatter\", \"uid\": \"da000ae7-e625-11e8-8ddb-a41f72875c19\"}], {\"title\": \"\\u4e0b\\u5355\\u9519\\u8bef\\u6570&lims\\u5f02\\u5e38\\u6570\\u6708\\u8d8b\\u52bf\\u56fe\", \"xaxis\": {\"mirror\": \"all\", \"nticks\": 20, \"showgrid\": true, \"showline\": true, \"title\": \"\\u6708\", \"type\": \"category\", \"zeroline\": true}, \"yaxis\": {\"mirror\": \"all\", \"nticks\": 20, \"showgrid\": true, \"showline\": true, \"title\": \"\\u4e0b\\u5355\\u9519\\u8bef\\u6570&lims\\u5f02\\u5e38\\u6570\", \"zeroline\": true}}, {\"showLink\": true, \"linkText\": \"Export to plot.ly\"})});</script>"
      ]
     },
     "metadata": {},
     "output_type": "display_data"
    }
   ],
   "source": [
    "ss = myModule.format(all_df1 ,\"日期（格式“月-周次”）\" ,['lims异常数' , '下单错误数'])\n",
    "myModule.myPlot(myModule.sort_by_index(ss.groupby('sum'))).plot('line')\n",
    "\n",
    "ss = myModule.format(all_df1 ,\"month\" ,['lims异常数' , '下单错误数'])\n",
    "myModule.myPlot(ss.groupby('sum')).plot('line','月')\n",
    "\n",
    "ss = myModule.format(all_df1 ,\"month\" ,['lims异常数' , '下单错误数'])\n",
    "ss.add_group('组别')\n",
    "myModule.myPlot(ss.groupby('sum')).plot('line','月')"
   ]
  },
  {
   "cell_type": "markdown",
   "metadata": {},
   "source": [
    "#### 过滤流程异常数"
   ]
  },
  {
   "cell_type": "code",
   "execution_count": 157,
   "metadata": {
    "collapsed": false
   },
   "outputs": [
    {
     "data": {
      "application/vnd.plotly.v1+json": {
       "data": [
        {
         "name": "过滤流程异常数",
         "type": "scatter",
         "uid": "da000ae8-e625-11e8-8ddb-a41f72875c19",
         "x": [
          "8-1",
          "8-2",
          "8-3",
          "8-4",
          "8-5",
          "9-1",
          "9-2",
          "9-3",
          "9-4",
          "10-2",
          "10-3",
          "10-4",
          "10-5",
          "11-1"
         ],
         "y": [
          0,
          1,
          0,
          0,
          2,
          1,
          0,
          0,
          0,
          0,
          0,
          0,
          0,
          9
         ]
        }
       ],
       "layout": {
        "title": "过滤流程异常数周趋势图",
        "xaxis": {
         "mirror": "all",
         "nticks": 20,
         "showgrid": true,
         "showline": true,
         "title": "周",
         "type": "category",
         "zeroline": true
        },
        "yaxis": {
         "mirror": "all",
         "nticks": 20,
         "showgrid": true,
         "showline": true,
         "title": "过滤流程异常数",
         "zeroline": true
        }
       }
      },
      "text/html": [
       "<div id=\"b8eb8b19-4517-4bfb-944d-c346d11854b8\" style=\"height: 525px; width: 100%;\" class=\"plotly-graph-div\"></div><script type=\"text/javascript\">require([\"plotly\"], function(Plotly) { window.PLOTLYENV=window.PLOTLYENV || {};window.PLOTLYENV.BASE_URL=\"https://plot.ly\";Plotly.newPlot(\"b8eb8b19-4517-4bfb-944d-c346d11854b8\", [{\"name\": \"\\u8fc7\\u6ee4\\u6d41\\u7a0b\\u5f02\\u5e38\\u6570\", \"x\": [\"8-1\", \"8-2\", \"8-3\", \"8-4\", \"8-5\", \"9-1\", \"9-2\", \"9-3\", \"9-4\", \"10-2\", \"10-3\", \"10-4\", \"10-5\", \"11-1\"], \"y\": [0, 1, 0, 0, 2, 1, 0, 0, 0, 0, 0, 0, 0, 9], \"type\": \"scatter\", \"uid\": \"da000ae8-e625-11e8-8ddb-a41f72875c19\"}], {\"title\": \"\\u8fc7\\u6ee4\\u6d41\\u7a0b\\u5f02\\u5e38\\u6570\\u5468\\u8d8b\\u52bf\\u56fe\", \"xaxis\": {\"mirror\": \"all\", \"nticks\": 20, \"showgrid\": true, \"showline\": true, \"title\": \"\\u5468\", \"type\": \"category\", \"zeroline\": true}, \"yaxis\": {\"mirror\": \"all\", \"nticks\": 20, \"showgrid\": true, \"showline\": true, \"title\": \"\\u8fc7\\u6ee4\\u6d41\\u7a0b\\u5f02\\u5e38\\u6570\", \"zeroline\": true}}, {\"showLink\": true, \"linkText\": \"Export to plot.ly\"})});</script>"
      ],
      "text/vnd.plotly.v1+html": [
       "<div id=\"b8eb8b19-4517-4bfb-944d-c346d11854b8\" style=\"height: 525px; width: 100%;\" class=\"plotly-graph-div\"></div><script type=\"text/javascript\">require([\"plotly\"], function(Plotly) { window.PLOTLYENV=window.PLOTLYENV || {};window.PLOTLYENV.BASE_URL=\"https://plot.ly\";Plotly.newPlot(\"b8eb8b19-4517-4bfb-944d-c346d11854b8\", [{\"name\": \"\\u8fc7\\u6ee4\\u6d41\\u7a0b\\u5f02\\u5e38\\u6570\", \"x\": [\"8-1\", \"8-2\", \"8-3\", \"8-4\", \"8-5\", \"9-1\", \"9-2\", \"9-3\", \"9-4\", \"10-2\", \"10-3\", \"10-4\", \"10-5\", \"11-1\"], \"y\": [0, 1, 0, 0, 2, 1, 0, 0, 0, 0, 0, 0, 0, 9], \"type\": \"scatter\", \"uid\": \"da000ae8-e625-11e8-8ddb-a41f72875c19\"}], {\"title\": \"\\u8fc7\\u6ee4\\u6d41\\u7a0b\\u5f02\\u5e38\\u6570\\u5468\\u8d8b\\u52bf\\u56fe\", \"xaxis\": {\"mirror\": \"all\", \"nticks\": 20, \"showgrid\": true, \"showline\": true, \"title\": \"\\u5468\", \"type\": \"category\", \"zeroline\": true}, \"yaxis\": {\"mirror\": \"all\", \"nticks\": 20, \"showgrid\": true, \"showline\": true, \"title\": \"\\u8fc7\\u6ee4\\u6d41\\u7a0b\\u5f02\\u5e38\\u6570\", \"zeroline\": true}}, {\"showLink\": true, \"linkText\": \"Export to plot.ly\"})});</script>"
      ]
     },
     "metadata": {},
     "output_type": "display_data"
    },
    {
     "data": {
      "application/vnd.plotly.v1+json": {
       "data": [
        {
         "name": "过滤流程异常数",
         "type": "scatter",
         "uid": "da000ae9-e625-11e8-8ddb-a41f72875c19",
         "x": [
          8,
          9,
          10,
          11
         ],
         "y": [
          3,
          1,
          0,
          9
         ]
        }
       ],
       "layout": {
        "title": "过滤流程异常数月趋势图",
        "xaxis": {
         "mirror": "all",
         "nticks": 20,
         "showgrid": true,
         "showline": true,
         "title": "月",
         "type": "category",
         "zeroline": true
        },
        "yaxis": {
         "mirror": "all",
         "nticks": 20,
         "showgrid": true,
         "showline": true,
         "title": "过滤流程异常数",
         "zeroline": true
        }
       }
      },
      "text/html": [
       "<div id=\"83aea01b-08da-4361-893b-d2a29f0b7671\" style=\"height: 525px; width: 100%;\" class=\"plotly-graph-div\"></div><script type=\"text/javascript\">require([\"plotly\"], function(Plotly) { window.PLOTLYENV=window.PLOTLYENV || {};window.PLOTLYENV.BASE_URL=\"https://plot.ly\";Plotly.newPlot(\"83aea01b-08da-4361-893b-d2a29f0b7671\", [{\"name\": \"\\u8fc7\\u6ee4\\u6d41\\u7a0b\\u5f02\\u5e38\\u6570\", \"x\": [8, 9, 10, 11], \"y\": [3, 1, 0, 9], \"type\": \"scatter\", \"uid\": \"da000ae9-e625-11e8-8ddb-a41f72875c19\"}], {\"title\": \"\\u8fc7\\u6ee4\\u6d41\\u7a0b\\u5f02\\u5e38\\u6570\\u6708\\u8d8b\\u52bf\\u56fe\", \"xaxis\": {\"mirror\": \"all\", \"nticks\": 20, \"showgrid\": true, \"showline\": true, \"title\": \"\\u6708\", \"type\": \"category\", \"zeroline\": true}, \"yaxis\": {\"mirror\": \"all\", \"nticks\": 20, \"showgrid\": true, \"showline\": true, \"title\": \"\\u8fc7\\u6ee4\\u6d41\\u7a0b\\u5f02\\u5e38\\u6570\", \"zeroline\": true}}, {\"showLink\": true, \"linkText\": \"Export to plot.ly\"})});</script>"
      ],
      "text/vnd.plotly.v1+html": [
       "<div id=\"83aea01b-08da-4361-893b-d2a29f0b7671\" style=\"height: 525px; width: 100%;\" class=\"plotly-graph-div\"></div><script type=\"text/javascript\">require([\"plotly\"], function(Plotly) { window.PLOTLYENV=window.PLOTLYENV || {};window.PLOTLYENV.BASE_URL=\"https://plot.ly\";Plotly.newPlot(\"83aea01b-08da-4361-893b-d2a29f0b7671\", [{\"name\": \"\\u8fc7\\u6ee4\\u6d41\\u7a0b\\u5f02\\u5e38\\u6570\", \"x\": [8, 9, 10, 11], \"y\": [3, 1, 0, 9], \"type\": \"scatter\", \"uid\": \"da000ae9-e625-11e8-8ddb-a41f72875c19\"}], {\"title\": \"\\u8fc7\\u6ee4\\u6d41\\u7a0b\\u5f02\\u5e38\\u6570\\u6708\\u8d8b\\u52bf\\u56fe\", \"xaxis\": {\"mirror\": \"all\", \"nticks\": 20, \"showgrid\": true, \"showline\": true, \"title\": \"\\u6708\", \"type\": \"category\", \"zeroline\": true}, \"yaxis\": {\"mirror\": \"all\", \"nticks\": 20, \"showgrid\": true, \"showline\": true, \"title\": \"\\u8fc7\\u6ee4\\u6d41\\u7a0b\\u5f02\\u5e38\\u6570\", \"zeroline\": true}}, {\"showLink\": true, \"linkText\": \"Export to plot.ly\"})});</script>"
      ]
     },
     "metadata": {},
     "output_type": "display_data"
    }
   ],
   "source": [
    "ss = myModule.format(all_df1 ,\"日期（格式“月-周次”）\" ,['过滤流程异常数'])\n",
    "myModule.myPlot(myModule.sort_by_index(ss.groupby('sum'))).plot('line')\n",
    "\n",
    "ss = myModule.format(all_df1 ,\"month\" ,['过滤流程异常数'])\n",
    "myModule.myPlot(ss.groupby('sum')).plot('line','月')"
   ]
  },
  {
   "cell_type": "markdown",
   "metadata": {},
   "source": [
    "## 芯片拆分整体情况"
   ]
  },
  {
   "cell_type": "markdown",
   "metadata": {},
   "source": [
    "### 产能"
   ]
  },
  {
   "cell_type": "markdown",
   "metadata": {},
   "source": [
    "#### 芯片总数和不通过芯片数"
   ]
  },
  {
   "cell_type": "code",
   "execution_count": 209,
   "metadata": {
    "collapsed": false,
    "scrolled": true
   },
   "outputs": [
    {
     "data": {
      "application/vnd.plotly.v1+json": {
       "data": [
        {
         "name": "nova不通过芯片数",
         "type": "scatter",
         "uid": "da6ac6ca-e626-11e8-8ddb-a41f72875c19",
         "x": [
          "8-1",
          "8-2",
          "8-3",
          "8-4",
          "8-5",
          "9-1",
          "9-2",
          "9-3",
          "9-4",
          "10-2",
          "10-3",
          "10-4",
          "10-5",
          "11-1"
         ],
         "y": [
          0,
          0,
          0,
          0,
          0,
          0,
          0,
          0,
          0,
          0,
          0,
          0,
          0,
          1
         ]
        },
        {
         "name": "xten芯片总数",
         "type": "scatter",
         "uid": "da6ac6cb-e626-11e8-8ddb-a41f72875c19",
         "x": [
          "8-1",
          "8-2",
          "8-3",
          "8-4",
          "8-5",
          "9-1",
          "9-2",
          "9-3",
          "9-4",
          "10-2",
          "10-3",
          "10-4",
          "10-5",
          "11-1"
         ],
         "y": [
          0,
          0,
          0,
          0,
          0,
          0,
          0,
          0,
          0,
          0,
          0,
          0,
          0,
          19
         ]
        },
        {
         "name": "不通过芯片数",
         "type": "scatter",
         "uid": "da6ac6cc-e626-11e8-8ddb-a41f72875c19",
         "x": [
          "8-1",
          "8-2",
          "8-3",
          "8-4",
          "8-5",
          "9-1",
          "9-2",
          "9-3",
          "9-4",
          "10-2",
          "10-3",
          "10-4",
          "10-5",
          "11-1"
         ],
         "y": [
          13,
          22,
          20,
          14,
          14,
          15,
          8,
          20,
          18,
          16,
          15,
          16,
          21,
          9
         ]
        },
        {
         "name": "xten不通过芯片数",
         "type": "scatter",
         "uid": "da6ac6cd-e626-11e8-8ddb-a41f72875c19",
         "x": [
          "8-1",
          "8-2",
          "8-3",
          "8-4",
          "8-5",
          "9-1",
          "9-2",
          "9-3",
          "9-4",
          "10-2",
          "10-3",
          "10-4",
          "10-5",
          "11-1"
         ],
         "y": [
          0,
          0,
          0,
          0,
          0,
          0,
          0,
          0,
          0,
          0,
          0,
          0,
          0,
          8
         ]
        },
        {
         "name": "芯片总数",
         "type": "scatter",
         "uid": "da6ac6ce-e626-11e8-8ddb-a41f72875c19",
         "x": [
          "8-1",
          "8-2",
          "8-3",
          "8-4",
          "8-5",
          "9-1",
          "9-2",
          "9-3",
          "9-4",
          "10-2",
          "10-3",
          "10-4",
          "10-5",
          "11-1"
         ],
         "y": [
          27,
          37,
          29,
          33,
          22,
          29,
          26,
          29,
          25,
          29,
          30,
          26,
          35,
          22
         ]
        },
        {
         "name": "nova芯片总数",
         "type": "scatter",
         "uid": "da6ac6cf-e626-11e8-8ddb-a41f72875c19",
         "x": [
          "8-1",
          "8-2",
          "8-3",
          "8-4",
          "8-5",
          "9-1",
          "9-2",
          "9-3",
          "9-4",
          "10-2",
          "10-3",
          "10-4",
          "10-5",
          "11-1"
         ],
         "y": [
          0,
          0,
          0,
          0,
          0,
          0,
          0,
          0,
          0,
          0,
          0,
          0,
          0,
          1
         ]
        }
       ],
       "layout": {
        "title": "nova不通过芯片数&xten芯片总数&不通过芯片数&xten不通过芯片数&芯片总数&nova芯片总数周趋势图",
        "xaxis": {
         "mirror": "all",
         "nticks": 20,
         "showgrid": true,
         "showline": true,
         "title": "周",
         "type": "category",
         "zeroline": true
        },
        "yaxis": {
         "mirror": "all",
         "nticks": 20,
         "showgrid": true,
         "showline": true,
         "title": "nova不通过芯片数&xten芯片总数&不通过芯片数&xten不通过芯片数&芯片总数&nova芯片总数",
         "zeroline": true
        }
       }
      },
      "text/html": [
       "<div id=\"f839e66a-0ecb-491a-840d-78e501975413\" style=\"height: 525px; width: 100%;\" class=\"plotly-graph-div\"></div><script type=\"text/javascript\">require([\"plotly\"], function(Plotly) { window.PLOTLYENV=window.PLOTLYENV || {};window.PLOTLYENV.BASE_URL=\"https://plot.ly\";Plotly.newPlot(\"f839e66a-0ecb-491a-840d-78e501975413\", [{\"name\": \"nova\\u4e0d\\u901a\\u8fc7\\u82af\\u7247\\u6570\", \"x\": [\"8-1\", \"8-2\", \"8-3\", \"8-4\", \"8-5\", \"9-1\", \"9-2\", \"9-3\", \"9-4\", \"10-2\", \"10-3\", \"10-4\", \"10-5\", \"11-1\"], \"y\": [0.0, 0.0, 0.0, 0.0, 0.0, 0.0, 0.0, 0.0, 0.0, 0.0, 0.0, 0.0, 0.0, 1.0], \"type\": \"scatter\", \"uid\": \"da6ac6ca-e626-11e8-8ddb-a41f72875c19\"}, {\"name\": \"xten\\u82af\\u7247\\u603b\\u6570\", \"x\": [\"8-1\", \"8-2\", \"8-3\", \"8-4\", \"8-5\", \"9-1\", \"9-2\", \"9-3\", \"9-4\", \"10-2\", \"10-3\", \"10-4\", \"10-5\", \"11-1\"], \"y\": [0.0, 0.0, 0.0, 0.0, 0.0, 0.0, 0.0, 0.0, 0.0, 0.0, 0.0, 0.0, 0.0, 19.0], \"type\": \"scatter\", \"uid\": \"da6ac6cb-e626-11e8-8ddb-a41f72875c19\"}, {\"name\": \"\\u4e0d\\u901a\\u8fc7\\u82af\\u7247\\u6570\", \"x\": [\"8-1\", \"8-2\", \"8-3\", \"8-4\", \"8-5\", \"9-1\", \"9-2\", \"9-3\", \"9-4\", \"10-2\", \"10-3\", \"10-4\", \"10-5\", \"11-1\"], \"y\": [13, 22, 20, 14, 14, 15, 8, 20, 18, 16, 15, 16, 21, 9], \"type\": \"scatter\", \"uid\": \"da6ac6cc-e626-11e8-8ddb-a41f72875c19\"}, {\"name\": \"xten\\u4e0d\\u901a\\u8fc7\\u82af\\u7247\\u6570\", \"x\": [\"8-1\", \"8-2\", \"8-3\", \"8-4\", \"8-5\", \"9-1\", \"9-2\", \"9-3\", \"9-4\", \"10-2\", \"10-3\", \"10-4\", \"10-5\", \"11-1\"], \"y\": [0.0, 0.0, 0.0, 0.0, 0.0, 0.0, 0.0, 0.0, 0.0, 0.0, 0.0, 0.0, 0.0, 8.0], \"type\": \"scatter\", \"uid\": \"da6ac6cd-e626-11e8-8ddb-a41f72875c19\"}, {\"name\": \"\\u82af\\u7247\\u603b\\u6570\", \"x\": [\"8-1\", \"8-2\", \"8-3\", \"8-4\", \"8-5\", \"9-1\", \"9-2\", \"9-3\", \"9-4\", \"10-2\", \"10-3\", \"10-4\", \"10-5\", \"11-1\"], \"y\": [27, 37, 29, 33, 22, 29, 26, 29, 25, 29, 30, 26, 35, 22], \"type\": \"scatter\", \"uid\": \"da6ac6ce-e626-11e8-8ddb-a41f72875c19\"}, {\"name\": \"nova\\u82af\\u7247\\u603b\\u6570\", \"x\": [\"8-1\", \"8-2\", \"8-3\", \"8-4\", \"8-5\", \"9-1\", \"9-2\", \"9-3\", \"9-4\", \"10-2\", \"10-3\", \"10-4\", \"10-5\", \"11-1\"], \"y\": [0.0, 0.0, 0.0, 0.0, 0.0, 0.0, 0.0, 0.0, 0.0, 0.0, 0.0, 0.0, 0.0, 1.0], \"type\": \"scatter\", \"uid\": \"da6ac6cf-e626-11e8-8ddb-a41f72875c19\"}], {\"title\": \"nova\\u4e0d\\u901a\\u8fc7\\u82af\\u7247\\u6570&xten\\u82af\\u7247\\u603b\\u6570&\\u4e0d\\u901a\\u8fc7\\u82af\\u7247\\u6570&xten\\u4e0d\\u901a\\u8fc7\\u82af\\u7247\\u6570&\\u82af\\u7247\\u603b\\u6570&nova\\u82af\\u7247\\u603b\\u6570\\u5468\\u8d8b\\u52bf\\u56fe\", \"xaxis\": {\"mirror\": \"all\", \"nticks\": 20, \"showgrid\": true, \"showline\": true, \"title\": \"\\u5468\", \"type\": \"category\", \"zeroline\": true}, \"yaxis\": {\"mirror\": \"all\", \"nticks\": 20, \"showgrid\": true, \"showline\": true, \"title\": \"nova\\u4e0d\\u901a\\u8fc7\\u82af\\u7247\\u6570&xten\\u82af\\u7247\\u603b\\u6570&\\u4e0d\\u901a\\u8fc7\\u82af\\u7247\\u6570&xten\\u4e0d\\u901a\\u8fc7\\u82af\\u7247\\u6570&\\u82af\\u7247\\u603b\\u6570&nova\\u82af\\u7247\\u603b\\u6570\", \"zeroline\": true}}, {\"showLink\": true, \"linkText\": \"Export to plot.ly\"})});</script>"
      ],
      "text/vnd.plotly.v1+html": [
       "<div id=\"f839e66a-0ecb-491a-840d-78e501975413\" style=\"height: 525px; width: 100%;\" class=\"plotly-graph-div\"></div><script type=\"text/javascript\">require([\"plotly\"], function(Plotly) { window.PLOTLYENV=window.PLOTLYENV || {};window.PLOTLYENV.BASE_URL=\"https://plot.ly\";Plotly.newPlot(\"f839e66a-0ecb-491a-840d-78e501975413\", [{\"name\": \"nova\\u4e0d\\u901a\\u8fc7\\u82af\\u7247\\u6570\", \"x\": [\"8-1\", \"8-2\", \"8-3\", \"8-4\", \"8-5\", \"9-1\", \"9-2\", \"9-3\", \"9-4\", \"10-2\", \"10-3\", \"10-4\", \"10-5\", \"11-1\"], \"y\": [0.0, 0.0, 0.0, 0.0, 0.0, 0.0, 0.0, 0.0, 0.0, 0.0, 0.0, 0.0, 0.0, 1.0], \"type\": \"scatter\", \"uid\": \"da6ac6ca-e626-11e8-8ddb-a41f72875c19\"}, {\"name\": \"xten\\u82af\\u7247\\u603b\\u6570\", \"x\": [\"8-1\", \"8-2\", \"8-3\", \"8-4\", \"8-5\", \"9-1\", \"9-2\", \"9-3\", \"9-4\", \"10-2\", \"10-3\", \"10-4\", \"10-5\", \"11-1\"], \"y\": [0.0, 0.0, 0.0, 0.0, 0.0, 0.0, 0.0, 0.0, 0.0, 0.0, 0.0, 0.0, 0.0, 19.0], \"type\": \"scatter\", \"uid\": \"da6ac6cb-e626-11e8-8ddb-a41f72875c19\"}, {\"name\": \"\\u4e0d\\u901a\\u8fc7\\u82af\\u7247\\u6570\", \"x\": [\"8-1\", \"8-2\", \"8-3\", \"8-4\", \"8-5\", \"9-1\", \"9-2\", \"9-3\", \"9-4\", \"10-2\", \"10-3\", \"10-4\", \"10-5\", \"11-1\"], \"y\": [13, 22, 20, 14, 14, 15, 8, 20, 18, 16, 15, 16, 21, 9], \"type\": \"scatter\", \"uid\": \"da6ac6cc-e626-11e8-8ddb-a41f72875c19\"}, {\"name\": \"xten\\u4e0d\\u901a\\u8fc7\\u82af\\u7247\\u6570\", \"x\": [\"8-1\", \"8-2\", \"8-3\", \"8-4\", \"8-5\", \"9-1\", \"9-2\", \"9-3\", \"9-4\", \"10-2\", \"10-3\", \"10-4\", \"10-5\", \"11-1\"], \"y\": [0.0, 0.0, 0.0, 0.0, 0.0, 0.0, 0.0, 0.0, 0.0, 0.0, 0.0, 0.0, 0.0, 8.0], \"type\": \"scatter\", \"uid\": \"da6ac6cd-e626-11e8-8ddb-a41f72875c19\"}, {\"name\": \"\\u82af\\u7247\\u603b\\u6570\", \"x\": [\"8-1\", \"8-2\", \"8-3\", \"8-4\", \"8-5\", \"9-1\", \"9-2\", \"9-3\", \"9-4\", \"10-2\", \"10-3\", \"10-4\", \"10-5\", \"11-1\"], \"y\": [27, 37, 29, 33, 22, 29, 26, 29, 25, 29, 30, 26, 35, 22], \"type\": \"scatter\", \"uid\": \"da6ac6ce-e626-11e8-8ddb-a41f72875c19\"}, {\"name\": \"nova\\u82af\\u7247\\u603b\\u6570\", \"x\": [\"8-1\", \"8-2\", \"8-3\", \"8-4\", \"8-5\", \"9-1\", \"9-2\", \"9-3\", \"9-4\", \"10-2\", \"10-3\", \"10-4\", \"10-5\", \"11-1\"], \"y\": [0.0, 0.0, 0.0, 0.0, 0.0, 0.0, 0.0, 0.0, 0.0, 0.0, 0.0, 0.0, 0.0, 1.0], \"type\": \"scatter\", \"uid\": \"da6ac6cf-e626-11e8-8ddb-a41f72875c19\"}], {\"title\": \"nova\\u4e0d\\u901a\\u8fc7\\u82af\\u7247\\u6570&xten\\u82af\\u7247\\u603b\\u6570&\\u4e0d\\u901a\\u8fc7\\u82af\\u7247\\u6570&xten\\u4e0d\\u901a\\u8fc7\\u82af\\u7247\\u6570&\\u82af\\u7247\\u603b\\u6570&nova\\u82af\\u7247\\u603b\\u6570\\u5468\\u8d8b\\u52bf\\u56fe\", \"xaxis\": {\"mirror\": \"all\", \"nticks\": 20, \"showgrid\": true, \"showline\": true, \"title\": \"\\u5468\", \"type\": \"category\", \"zeroline\": true}, \"yaxis\": {\"mirror\": \"all\", \"nticks\": 20, \"showgrid\": true, \"showline\": true, \"title\": \"nova\\u4e0d\\u901a\\u8fc7\\u82af\\u7247\\u6570&xten\\u82af\\u7247\\u603b\\u6570&\\u4e0d\\u901a\\u8fc7\\u82af\\u7247\\u6570&xten\\u4e0d\\u901a\\u8fc7\\u82af\\u7247\\u6570&\\u82af\\u7247\\u603b\\u6570&nova\\u82af\\u7247\\u603b\\u6570\", \"zeroline\": true}}, {\"showLink\": true, \"linkText\": \"Export to plot.ly\"})});</script>"
      ]
     },
     "metadata": {},
     "output_type": "display_data"
    },
    {
     "data": {
      "application/vnd.plotly.v1+json": {
       "data": [
        {
         "line": {
          "dash": "solid"
         },
         "name": "不通过芯片数(北京组)",
         "type": "scatter",
         "uid": "da6ac6d0-e626-11e8-8ddb-a41f72875c19",
         "x": [
          "8-1",
          "8-2",
          "8-3",
          "8-4",
          "8-5",
          "9-1",
          "9-2",
          "9-3",
          "9-4",
          "10-2",
          "10-3",
          "10-4",
          "10-5",
          "11-1"
         ],
         "y": [
          13,
          22,
          20,
          14,
          14,
          15,
          8,
          20,
          18,
          16,
          15,
          16,
          20,
          9
         ]
        },
        {
         "line": {
          "dash": "dot"
         },
         "name": "不通过芯片数(义乌组)",
         "type": "scatter",
         "uid": "da6ac6d1-e626-11e8-8ddb-a41f72875c19",
         "x": [
          "8-1",
          "8-2",
          "8-3",
          "8-4",
          "8-5",
          "9-1",
          "9-2",
          "9-3",
          "9-4",
          "10-2",
          "10-3",
          "10-4",
          "10-5",
          "11-1"
         ],
         "y": [
          null,
          null,
          null,
          null,
          null,
          null,
          null,
          null,
          null,
          null,
          null,
          null,
          1,
          null
         ]
        },
        {
         "line": {
          "dash": "solid"
         },
         "name": "芯片总数(北京组)",
         "type": "scatter",
         "uid": "da6ac6d2-e626-11e8-8ddb-a41f72875c19",
         "x": [
          "8-1",
          "8-2",
          "8-3",
          "8-4",
          "8-5",
          "9-1",
          "9-2",
          "9-3",
          "9-4",
          "10-2",
          "10-3",
          "10-4",
          "10-5",
          "11-1"
         ],
         "y": [
          27,
          37,
          29,
          33,
          22,
          29,
          26,
          29,
          25,
          29,
          30,
          26,
          34,
          22
         ]
        },
        {
         "line": {
          "dash": "dot"
         },
         "name": "芯片总数(义乌组)",
         "type": "scatter",
         "uid": "da6ac6d3-e626-11e8-8ddb-a41f72875c19",
         "x": [
          "8-1",
          "8-2",
          "8-3",
          "8-4",
          "8-5",
          "9-1",
          "9-2",
          "9-3",
          "9-4",
          "10-2",
          "10-3",
          "10-4",
          "10-5",
          "11-1"
         ],
         "y": [
          null,
          null,
          null,
          null,
          null,
          null,
          null,
          null,
          null,
          null,
          null,
          null,
          1,
          null
         ]
        }
       ],
       "layout": {
        "title": "不通过芯片数&芯片总数周趋势图",
        "xaxis": {
         "mirror": "all",
         "nticks": 20,
         "showgrid": true,
         "showline": true,
         "title": "周",
         "type": "category",
         "zeroline": true
        },
        "yaxis": {
         "mirror": "all",
         "nticks": 20,
         "showgrid": true,
         "showline": true,
         "title": "不通过芯片数&芯片总数",
         "zeroline": true
        }
       }
      },
      "text/html": [
       "<div id=\"2f1adab1-5ff3-4d9f-9d64-b092ed6b971b\" style=\"height: 525px; width: 100%;\" class=\"plotly-graph-div\"></div><script type=\"text/javascript\">require([\"plotly\"], function(Plotly) { window.PLOTLYENV=window.PLOTLYENV || {};window.PLOTLYENV.BASE_URL=\"https://plot.ly\";Plotly.newPlot(\"2f1adab1-5ff3-4d9f-9d64-b092ed6b971b\", [{\"line\": {\"dash\": \"solid\"}, \"name\": \"\\u4e0d\\u901a\\u8fc7\\u82af\\u7247\\u6570(\\u5317\\u4eac\\u7ec4)\", \"x\": [\"8-1\", \"8-2\", \"8-3\", \"8-4\", \"8-5\", \"9-1\", \"9-2\", \"9-3\", \"9-4\", \"10-2\", \"10-3\", \"10-4\", \"10-5\", \"11-1\"], \"y\": [13.0, 22.0, 20.0, 14.0, 14.0, 15.0, 8.0, 20.0, 18.0, 16.0, 15.0, 16.0, 20.0, 9.0], \"type\": \"scatter\", \"uid\": \"da6ac6d0-e626-11e8-8ddb-a41f72875c19\"}, {\"line\": {\"dash\": \"dot\"}, \"name\": \"\\u4e0d\\u901a\\u8fc7\\u82af\\u7247\\u6570(\\u4e49\\u4e4c\\u7ec4)\", \"x\": [\"8-1\", \"8-2\", \"8-3\", \"8-4\", \"8-5\", \"9-1\", \"9-2\", \"9-3\", \"9-4\", \"10-2\", \"10-3\", \"10-4\", \"10-5\", \"11-1\"], \"y\": [null, null, null, null, null, null, null, null, null, null, null, null, 1.0, null], \"type\": \"scatter\", \"uid\": \"da6ac6d1-e626-11e8-8ddb-a41f72875c19\"}, {\"line\": {\"dash\": \"solid\"}, \"name\": \"\\u82af\\u7247\\u603b\\u6570(\\u5317\\u4eac\\u7ec4)\", \"x\": [\"8-1\", \"8-2\", \"8-3\", \"8-4\", \"8-5\", \"9-1\", \"9-2\", \"9-3\", \"9-4\", \"10-2\", \"10-3\", \"10-4\", \"10-5\", \"11-1\"], \"y\": [27.0, 37.0, 29.0, 33.0, 22.0, 29.0, 26.0, 29.0, 25.0, 29.0, 30.0, 26.0, 34.0, 22.0], \"type\": \"scatter\", \"uid\": \"da6ac6d2-e626-11e8-8ddb-a41f72875c19\"}, {\"line\": {\"dash\": \"dot\"}, \"name\": \"\\u82af\\u7247\\u603b\\u6570(\\u4e49\\u4e4c\\u7ec4)\", \"x\": [\"8-1\", \"8-2\", \"8-3\", \"8-4\", \"8-5\", \"9-1\", \"9-2\", \"9-3\", \"9-4\", \"10-2\", \"10-3\", \"10-4\", \"10-5\", \"11-1\"], \"y\": [null, null, null, null, null, null, null, null, null, null, null, null, 1.0, null], \"type\": \"scatter\", \"uid\": \"da6ac6d3-e626-11e8-8ddb-a41f72875c19\"}], {\"title\": \"\\u4e0d\\u901a\\u8fc7\\u82af\\u7247\\u6570&\\u82af\\u7247\\u603b\\u6570\\u5468\\u8d8b\\u52bf\\u56fe\", \"xaxis\": {\"mirror\": \"all\", \"nticks\": 20, \"showgrid\": true, \"showline\": true, \"title\": \"\\u5468\", \"type\": \"category\", \"zeroline\": true}, \"yaxis\": {\"mirror\": \"all\", \"nticks\": 20, \"showgrid\": true, \"showline\": true, \"title\": \"\\u4e0d\\u901a\\u8fc7\\u82af\\u7247\\u6570&\\u82af\\u7247\\u603b\\u6570\", \"zeroline\": true}}, {\"showLink\": true, \"linkText\": \"Export to plot.ly\"})});</script>"
      ],
      "text/vnd.plotly.v1+html": [
       "<div id=\"2f1adab1-5ff3-4d9f-9d64-b092ed6b971b\" style=\"height: 525px; width: 100%;\" class=\"plotly-graph-div\"></div><script type=\"text/javascript\">require([\"plotly\"], function(Plotly) { window.PLOTLYENV=window.PLOTLYENV || {};window.PLOTLYENV.BASE_URL=\"https://plot.ly\";Plotly.newPlot(\"2f1adab1-5ff3-4d9f-9d64-b092ed6b971b\", [{\"line\": {\"dash\": \"solid\"}, \"name\": \"\\u4e0d\\u901a\\u8fc7\\u82af\\u7247\\u6570(\\u5317\\u4eac\\u7ec4)\", \"x\": [\"8-1\", \"8-2\", \"8-3\", \"8-4\", \"8-5\", \"9-1\", \"9-2\", \"9-3\", \"9-4\", \"10-2\", \"10-3\", \"10-4\", \"10-5\", \"11-1\"], \"y\": [13.0, 22.0, 20.0, 14.0, 14.0, 15.0, 8.0, 20.0, 18.0, 16.0, 15.0, 16.0, 20.0, 9.0], \"type\": \"scatter\", \"uid\": \"da6ac6d0-e626-11e8-8ddb-a41f72875c19\"}, {\"line\": {\"dash\": \"dot\"}, \"name\": \"\\u4e0d\\u901a\\u8fc7\\u82af\\u7247\\u6570(\\u4e49\\u4e4c\\u7ec4)\", \"x\": [\"8-1\", \"8-2\", \"8-3\", \"8-4\", \"8-5\", \"9-1\", \"9-2\", \"9-3\", \"9-4\", \"10-2\", \"10-3\", \"10-4\", \"10-5\", \"11-1\"], \"y\": [null, null, null, null, null, null, null, null, null, null, null, null, 1.0, null], \"type\": \"scatter\", \"uid\": \"da6ac6d1-e626-11e8-8ddb-a41f72875c19\"}, {\"line\": {\"dash\": \"solid\"}, \"name\": \"\\u82af\\u7247\\u603b\\u6570(\\u5317\\u4eac\\u7ec4)\", \"x\": [\"8-1\", \"8-2\", \"8-3\", \"8-4\", \"8-5\", \"9-1\", \"9-2\", \"9-3\", \"9-4\", \"10-2\", \"10-3\", \"10-4\", \"10-5\", \"11-1\"], \"y\": [27.0, 37.0, 29.0, 33.0, 22.0, 29.0, 26.0, 29.0, 25.0, 29.0, 30.0, 26.0, 34.0, 22.0], \"type\": \"scatter\", \"uid\": \"da6ac6d2-e626-11e8-8ddb-a41f72875c19\"}, {\"line\": {\"dash\": \"dot\"}, \"name\": \"\\u82af\\u7247\\u603b\\u6570(\\u4e49\\u4e4c\\u7ec4)\", \"x\": [\"8-1\", \"8-2\", \"8-3\", \"8-4\", \"8-5\", \"9-1\", \"9-2\", \"9-3\", \"9-4\", \"10-2\", \"10-3\", \"10-4\", \"10-5\", \"11-1\"], \"y\": [null, null, null, null, null, null, null, null, null, null, null, null, 1.0, null], \"type\": \"scatter\", \"uid\": \"da6ac6d3-e626-11e8-8ddb-a41f72875c19\"}], {\"title\": \"\\u4e0d\\u901a\\u8fc7\\u82af\\u7247\\u6570&\\u82af\\u7247\\u603b\\u6570\\u5468\\u8d8b\\u52bf\\u56fe\", \"xaxis\": {\"mirror\": \"all\", \"nticks\": 20, \"showgrid\": true, \"showline\": true, \"title\": \"\\u5468\", \"type\": \"category\", \"zeroline\": true}, \"yaxis\": {\"mirror\": \"all\", \"nticks\": 20, \"showgrid\": true, \"showline\": true, \"title\": \"\\u4e0d\\u901a\\u8fc7\\u82af\\u7247\\u6570&\\u82af\\u7247\\u603b\\u6570\", \"zeroline\": true}}, {\"showLink\": true, \"linkText\": \"Export to plot.ly\"})});</script>"
      ]
     },
     "metadata": {},
     "output_type": "display_data"
    }
   ],
   "source": [
    "plot_head_list=[\"芯片总数\" ,'不通过芯片数',\"xten芯片总数\" ,\"xten不通过芯片数\",\"nova芯片总数\",\"nova不通过芯片数\"]\n",
    "ss = myModule.format(all_df2 ,\"日期（格式“月-周次”）\" ,plot_head_list)\n",
    "myModule.myPlot(myModule.sort_by_index(ss.groupby('sum'))).plot('line')\n",
    "\n",
    "ss = myModule.format(all_df2 ,\"日期（格式“月-周次”）\" ,plot_head_list)\n",
    "ss.add_group(\"组别\")\n",
    "myModule.myPlot(myModule.sort_by_index(ss.groupby('sum'))).plot('line')"
   ]
  },
  {
   "cell_type": "code",
   "execution_count": 159,
   "metadata": {
    "collapsed": false
   },
   "outputs": [
    {
     "data": {
      "application/vnd.plotly.v1+json": {
       "data": [
        {
         "name": "不通过芯片数",
         "type": "scatter",
         "uid": "da000af0-e625-11e8-8ddb-a41f72875c19",
         "x": [
          8,
          9,
          10,
          11
         ],
         "y": [
          83,
          61,
          68,
          10
         ]
        },
        {
         "name": "芯片总数",
         "type": "scatter",
         "uid": "da000af1-e625-11e8-8ddb-a41f72875c19",
         "x": [
          8,
          9,
          10,
          11
         ],
         "y": [
          148,
          109,
          120,
          24
         ]
        }
       ],
       "layout": {
        "title": "不通过芯片数&芯片总数月趋势图",
        "xaxis": {
         "mirror": "all",
         "nticks": 20,
         "showgrid": true,
         "showline": true,
         "title": "月",
         "type": "category",
         "zeroline": true
        },
        "yaxis": {
         "mirror": "all",
         "nticks": 20,
         "showgrid": true,
         "showline": true,
         "title": "不通过芯片数&芯片总数",
         "zeroline": true
        }
       }
      },
      "text/html": [
       "<div id=\"6472c50f-7d5b-47a4-a425-dcf08f67b459\" style=\"height: 525px; width: 100%;\" class=\"plotly-graph-div\"></div><script type=\"text/javascript\">require([\"plotly\"], function(Plotly) { window.PLOTLYENV=window.PLOTLYENV || {};window.PLOTLYENV.BASE_URL=\"https://plot.ly\";Plotly.newPlot(\"6472c50f-7d5b-47a4-a425-dcf08f67b459\", [{\"name\": \"\\u4e0d\\u901a\\u8fc7\\u82af\\u7247\\u6570\", \"x\": [8, 9, 10, 11], \"y\": [83, 61, 68, 10], \"type\": \"scatter\", \"uid\": \"da000af0-e625-11e8-8ddb-a41f72875c19\"}, {\"name\": \"\\u82af\\u7247\\u603b\\u6570\", \"x\": [8, 9, 10, 11], \"y\": [148, 109, 120, 24], \"type\": \"scatter\", \"uid\": \"da000af1-e625-11e8-8ddb-a41f72875c19\"}], {\"title\": \"\\u4e0d\\u901a\\u8fc7\\u82af\\u7247\\u6570&\\u82af\\u7247\\u603b\\u6570\\u6708\\u8d8b\\u52bf\\u56fe\", \"xaxis\": {\"mirror\": \"all\", \"nticks\": 20, \"showgrid\": true, \"showline\": true, \"title\": \"\\u6708\", \"type\": \"category\", \"zeroline\": true}, \"yaxis\": {\"mirror\": \"all\", \"nticks\": 20, \"showgrid\": true, \"showline\": true, \"title\": \"\\u4e0d\\u901a\\u8fc7\\u82af\\u7247\\u6570&\\u82af\\u7247\\u603b\\u6570\", \"zeroline\": true}}, {\"showLink\": true, \"linkText\": \"Export to plot.ly\"})});</script>"
      ],
      "text/vnd.plotly.v1+html": [
       "<div id=\"6472c50f-7d5b-47a4-a425-dcf08f67b459\" style=\"height: 525px; width: 100%;\" class=\"plotly-graph-div\"></div><script type=\"text/javascript\">require([\"plotly\"], function(Plotly) { window.PLOTLYENV=window.PLOTLYENV || {};window.PLOTLYENV.BASE_URL=\"https://plot.ly\";Plotly.newPlot(\"6472c50f-7d5b-47a4-a425-dcf08f67b459\", [{\"name\": \"\\u4e0d\\u901a\\u8fc7\\u82af\\u7247\\u6570\", \"x\": [8, 9, 10, 11], \"y\": [83, 61, 68, 10], \"type\": \"scatter\", \"uid\": \"da000af0-e625-11e8-8ddb-a41f72875c19\"}, {\"name\": \"\\u82af\\u7247\\u603b\\u6570\", \"x\": [8, 9, 10, 11], \"y\": [148, 109, 120, 24], \"type\": \"scatter\", \"uid\": \"da000af1-e625-11e8-8ddb-a41f72875c19\"}], {\"title\": \"\\u4e0d\\u901a\\u8fc7\\u82af\\u7247\\u6570&\\u82af\\u7247\\u603b\\u6570\\u6708\\u8d8b\\u52bf\\u56fe\", \"xaxis\": {\"mirror\": \"all\", \"nticks\": 20, \"showgrid\": true, \"showline\": true, \"title\": \"\\u6708\", \"type\": \"category\", \"zeroline\": true}, \"yaxis\": {\"mirror\": \"all\", \"nticks\": 20, \"showgrid\": true, \"showline\": true, \"title\": \"\\u4e0d\\u901a\\u8fc7\\u82af\\u7247\\u6570&\\u82af\\u7247\\u603b\\u6570\", \"zeroline\": true}}, {\"showLink\": true, \"linkText\": \"Export to plot.ly\"})});</script>"
      ]
     },
     "metadata": {},
     "output_type": "display_data"
    },
    {
     "data": {
      "application/vnd.plotly.v1+json": {
       "data": [
        {
         "line": {
          "dash": "solid"
         },
         "name": "不通过芯片数(北京组)",
         "type": "scatter",
         "uid": "da000af2-e625-11e8-8ddb-a41f72875c19",
         "x": [
          8,
          9,
          10,
          11
         ],
         "y": [
          83,
          61,
          67,
          9
         ]
        },
        {
         "line": {
          "dash": "dot"
         },
         "name": "不通过芯片数(义乌组)",
         "type": "scatter",
         "uid": "da000af3-e625-11e8-8ddb-a41f72875c19",
         "x": [
          8,
          9,
          10,
          11
         ],
         "y": [
          null,
          null,
          1,
          1
         ]
        },
        {
         "line": {
          "dash": "solid"
         },
         "name": "芯片总数(北京组)",
         "type": "scatter",
         "uid": "da000af4-e625-11e8-8ddb-a41f72875c19",
         "x": [
          8,
          9,
          10,
          11
         ],
         "y": [
          148,
          109,
          119,
          22
         ]
        },
        {
         "line": {
          "dash": "dot"
         },
         "name": "芯片总数(义乌组)",
         "type": "scatter",
         "uid": "da000af5-e625-11e8-8ddb-a41f72875c19",
         "x": [
          8,
          9,
          10,
          11
         ],
         "y": [
          null,
          null,
          1,
          2
         ]
        }
       ],
       "layout": {
        "title": "不通过芯片数&芯片总数月趋势图",
        "xaxis": {
         "mirror": "all",
         "nticks": 20,
         "showgrid": true,
         "showline": true,
         "title": "月",
         "type": "category",
         "zeroline": true
        },
        "yaxis": {
         "mirror": "all",
         "nticks": 20,
         "showgrid": true,
         "showline": true,
         "title": "不通过芯片数&芯片总数",
         "zeroline": true
        }
       }
      },
      "text/html": [
       "<div id=\"4c3c7bd3-748f-4c01-923c-dc02e32e872f\" style=\"height: 525px; width: 100%;\" class=\"plotly-graph-div\"></div><script type=\"text/javascript\">require([\"plotly\"], function(Plotly) { window.PLOTLYENV=window.PLOTLYENV || {};window.PLOTLYENV.BASE_URL=\"https://plot.ly\";Plotly.newPlot(\"4c3c7bd3-748f-4c01-923c-dc02e32e872f\", [{\"line\": {\"dash\": \"solid\"}, \"name\": \"\\u4e0d\\u901a\\u8fc7\\u82af\\u7247\\u6570(\\u5317\\u4eac\\u7ec4)\", \"x\": [8, 9, 10, 11], \"y\": [83.0, 61.0, 67.0, 9.0], \"type\": \"scatter\", \"uid\": \"da000af2-e625-11e8-8ddb-a41f72875c19\"}, {\"line\": {\"dash\": \"dot\"}, \"name\": \"\\u4e0d\\u901a\\u8fc7\\u82af\\u7247\\u6570(\\u4e49\\u4e4c\\u7ec4)\", \"x\": [8, 9, 10, 11], \"y\": [null, null, 1.0, 1.0], \"type\": \"scatter\", \"uid\": \"da000af3-e625-11e8-8ddb-a41f72875c19\"}, {\"line\": {\"dash\": \"solid\"}, \"name\": \"\\u82af\\u7247\\u603b\\u6570(\\u5317\\u4eac\\u7ec4)\", \"x\": [8, 9, 10, 11], \"y\": [148.0, 109.0, 119.0, 22.0], \"type\": \"scatter\", \"uid\": \"da000af4-e625-11e8-8ddb-a41f72875c19\"}, {\"line\": {\"dash\": \"dot\"}, \"name\": \"\\u82af\\u7247\\u603b\\u6570(\\u4e49\\u4e4c\\u7ec4)\", \"x\": [8, 9, 10, 11], \"y\": [null, null, 1.0, 2.0], \"type\": \"scatter\", \"uid\": \"da000af5-e625-11e8-8ddb-a41f72875c19\"}], {\"title\": \"\\u4e0d\\u901a\\u8fc7\\u82af\\u7247\\u6570&\\u82af\\u7247\\u603b\\u6570\\u6708\\u8d8b\\u52bf\\u56fe\", \"xaxis\": {\"mirror\": \"all\", \"nticks\": 20, \"showgrid\": true, \"showline\": true, \"title\": \"\\u6708\", \"type\": \"category\", \"zeroline\": true}, \"yaxis\": {\"mirror\": \"all\", \"nticks\": 20, \"showgrid\": true, \"showline\": true, \"title\": \"\\u4e0d\\u901a\\u8fc7\\u82af\\u7247\\u6570&\\u82af\\u7247\\u603b\\u6570\", \"zeroline\": true}}, {\"showLink\": true, \"linkText\": \"Export to plot.ly\"})});</script>"
      ],
      "text/vnd.plotly.v1+html": [
       "<div id=\"4c3c7bd3-748f-4c01-923c-dc02e32e872f\" style=\"height: 525px; width: 100%;\" class=\"plotly-graph-div\"></div><script type=\"text/javascript\">require([\"plotly\"], function(Plotly) { window.PLOTLYENV=window.PLOTLYENV || {};window.PLOTLYENV.BASE_URL=\"https://plot.ly\";Plotly.newPlot(\"4c3c7bd3-748f-4c01-923c-dc02e32e872f\", [{\"line\": {\"dash\": \"solid\"}, \"name\": \"\\u4e0d\\u901a\\u8fc7\\u82af\\u7247\\u6570(\\u5317\\u4eac\\u7ec4)\", \"x\": [8, 9, 10, 11], \"y\": [83.0, 61.0, 67.0, 9.0], \"type\": \"scatter\", \"uid\": \"da000af2-e625-11e8-8ddb-a41f72875c19\"}, {\"line\": {\"dash\": \"dot\"}, \"name\": \"\\u4e0d\\u901a\\u8fc7\\u82af\\u7247\\u6570(\\u4e49\\u4e4c\\u7ec4)\", \"x\": [8, 9, 10, 11], \"y\": [null, null, 1.0, 1.0], \"type\": \"scatter\", \"uid\": \"da000af3-e625-11e8-8ddb-a41f72875c19\"}, {\"line\": {\"dash\": \"solid\"}, \"name\": \"\\u82af\\u7247\\u603b\\u6570(\\u5317\\u4eac\\u7ec4)\", \"x\": [8, 9, 10, 11], \"y\": [148.0, 109.0, 119.0, 22.0], \"type\": \"scatter\", \"uid\": \"da000af4-e625-11e8-8ddb-a41f72875c19\"}, {\"line\": {\"dash\": \"dot\"}, \"name\": \"\\u82af\\u7247\\u603b\\u6570(\\u4e49\\u4e4c\\u7ec4)\", \"x\": [8, 9, 10, 11], \"y\": [null, null, 1.0, 2.0], \"type\": \"scatter\", \"uid\": \"da000af5-e625-11e8-8ddb-a41f72875c19\"}], {\"title\": \"\\u4e0d\\u901a\\u8fc7\\u82af\\u7247\\u6570&\\u82af\\u7247\\u603b\\u6570\\u6708\\u8d8b\\u52bf\\u56fe\", \"xaxis\": {\"mirror\": \"all\", \"nticks\": 20, \"showgrid\": true, \"showline\": true, \"title\": \"\\u6708\", \"type\": \"category\", \"zeroline\": true}, \"yaxis\": {\"mirror\": \"all\", \"nticks\": 20, \"showgrid\": true, \"showline\": true, \"title\": \"\\u4e0d\\u901a\\u8fc7\\u82af\\u7247\\u6570&\\u82af\\u7247\\u603b\\u6570\", \"zeroline\": true}}, {\"showLink\": true, \"linkText\": \"Export to plot.ly\"})});</script>"
      ]
     },
     "metadata": {},
     "output_type": "display_data"
    }
   ],
   "source": [
    "ss = myModule.format(all_df2 ,\"month\" ,['芯片总数' ,'不通过芯片数'])\n",
    "myModule.myPlot(ss.groupby('sum')).plot('line','月')\n",
    "\n",
    "ss = myModule.format(all_df2 ,\"month\" ,['芯片总数' ,'不通过芯片数'])\n",
    "ss.add_group(\"组别\")\n",
    "myModule.myPlot(ss.groupby('sum')).plot('line','月')\n"
   ]
  },
  {
   "cell_type": "markdown",
   "metadata": {},
   "source": [
    "### 效率"
   ]
  },
  {
   "cell_type": "markdown",
   "metadata": {},
   "source": [
    "#### 不合格率"
   ]
  },
  {
   "cell_type": "code",
   "execution_count": 160,
   "metadata": {
    "collapsed": false
   },
   "outputs": [
    {
     "data": {
      "application/vnd.plotly.v1+json": {
       "data": [
        {
         "name": "不合格率",
         "type": "scatter",
         "uid": "da000af6-e625-11e8-8ddb-a41f72875c19",
         "x": [
          "8-1",
          "8-2",
          "8-3",
          "8-4",
          "8-5",
          "9-1",
          "9-2",
          "9-3",
          "9-4",
          "10-2",
          "10-3",
          "10-4",
          "10-5",
          "11-1"
         ],
         "y": [
          0.48148148148148145,
          0.5945945945945946,
          0.6896551724137931,
          0.42424242424242425,
          0.6363636363636364,
          0.5172413793103449,
          0.3076923076923077,
          0.6896551724137931,
          0.72,
          0.5517241379310345,
          0.5,
          0.6153846153846154,
          0.6,
          0.4166666666666667
         ]
        }
       ],
       "layout": {
        "title": "不合格率周趋势图",
        "xaxis": {
         "mirror": "all",
         "nticks": 20,
         "showgrid": true,
         "showline": true,
         "title": "周",
         "type": "category",
         "zeroline": true
        },
        "yaxis": {
         "mirror": "all",
         "nticks": 20,
         "showgrid": true,
         "showline": true,
         "title": "不合格率",
         "zeroline": true
        }
       }
      },
      "text/html": [
       "<div id=\"2f4729a4-1ec3-43ec-b401-d70a539a30de\" style=\"height: 525px; width: 100%;\" class=\"plotly-graph-div\"></div><script type=\"text/javascript\">require([\"plotly\"], function(Plotly) { window.PLOTLYENV=window.PLOTLYENV || {};window.PLOTLYENV.BASE_URL=\"https://plot.ly\";Plotly.newPlot(\"2f4729a4-1ec3-43ec-b401-d70a539a30de\", [{\"name\": \"\\u4e0d\\u5408\\u683c\\u7387\", \"x\": [\"8-1\", \"8-2\", \"8-3\", \"8-4\", \"8-5\", \"9-1\", \"9-2\", \"9-3\", \"9-4\", \"10-2\", \"10-3\", \"10-4\", \"10-5\", \"11-1\"], \"y\": [0.48148148148148145, 0.5945945945945946, 0.6896551724137931, 0.42424242424242425, 0.6363636363636364, 0.5172413793103449, 0.3076923076923077, 0.6896551724137931, 0.72, 0.5517241379310345, 0.5, 0.6153846153846154, 0.6, 0.4166666666666667], \"type\": \"scatter\", \"uid\": \"da000af6-e625-11e8-8ddb-a41f72875c19\"}], {\"title\": \"\\u4e0d\\u5408\\u683c\\u7387\\u5468\\u8d8b\\u52bf\\u56fe\", \"xaxis\": {\"mirror\": \"all\", \"nticks\": 20, \"showgrid\": true, \"showline\": true, \"title\": \"\\u5468\", \"type\": \"category\", \"zeroline\": true}, \"yaxis\": {\"mirror\": \"all\", \"nticks\": 20, \"showgrid\": true, \"showline\": true, \"title\": \"\\u4e0d\\u5408\\u683c\\u7387\", \"zeroline\": true}}, {\"showLink\": true, \"linkText\": \"Export to plot.ly\"})});</script>"
      ],
      "text/vnd.plotly.v1+html": [
       "<div id=\"2f4729a4-1ec3-43ec-b401-d70a539a30de\" style=\"height: 525px; width: 100%;\" class=\"plotly-graph-div\"></div><script type=\"text/javascript\">require([\"plotly\"], function(Plotly) { window.PLOTLYENV=window.PLOTLYENV || {};window.PLOTLYENV.BASE_URL=\"https://plot.ly\";Plotly.newPlot(\"2f4729a4-1ec3-43ec-b401-d70a539a30de\", [{\"name\": \"\\u4e0d\\u5408\\u683c\\u7387\", \"x\": [\"8-1\", \"8-2\", \"8-3\", \"8-4\", \"8-5\", \"9-1\", \"9-2\", \"9-3\", \"9-4\", \"10-2\", \"10-3\", \"10-4\", \"10-5\", \"11-1\"], \"y\": [0.48148148148148145, 0.5945945945945946, 0.6896551724137931, 0.42424242424242425, 0.6363636363636364, 0.5172413793103449, 0.3076923076923077, 0.6896551724137931, 0.72, 0.5517241379310345, 0.5, 0.6153846153846154, 0.6, 0.4166666666666667], \"type\": \"scatter\", \"uid\": \"da000af6-e625-11e8-8ddb-a41f72875c19\"}], {\"title\": \"\\u4e0d\\u5408\\u683c\\u7387\\u5468\\u8d8b\\u52bf\\u56fe\", \"xaxis\": {\"mirror\": \"all\", \"nticks\": 20, \"showgrid\": true, \"showline\": true, \"title\": \"\\u5468\", \"type\": \"category\", \"zeroline\": true}, \"yaxis\": {\"mirror\": \"all\", \"nticks\": 20, \"showgrid\": true, \"showline\": true, \"title\": \"\\u4e0d\\u5408\\u683c\\u7387\", \"zeroline\": true}}, {\"showLink\": true, \"linkText\": \"Export to plot.ly\"})});</script>"
      ]
     },
     "metadata": {},
     "output_type": "display_data"
    },
    {
     "data": {
      "application/vnd.plotly.v1+json": {
       "data": [
        {
         "line": {
          "dash": "solid"
         },
         "name": "不合格率(北京组)",
         "type": "scatter",
         "uid": "da000af7-e625-11e8-8ddb-a41f72875c19",
         "x": [
          "8-1",
          "8-2",
          "8-3",
          "8-4",
          "8-5",
          "9-1",
          "9-2",
          "9-3",
          "9-4",
          "10-2",
          "10-3",
          "10-4",
          "10-5",
          "11-1"
         ],
         "y": [
          0.48148148148148145,
          0.5945945945945946,
          0.6896551724137931,
          0.42424242424242425,
          0.6363636363636364,
          0.5172413793103449,
          0.3076923076923077,
          0.6896551724137931,
          0.72,
          0.5517241379310345,
          0.5,
          0.6153846153846154,
          0.5882352941176471,
          0.4090909090909091
         ]
        },
        {
         "line": {
          "dash": "dot"
         },
         "name": "不合格率(义乌组)",
         "type": "scatter",
         "uid": "da000af8-e625-11e8-8ddb-a41f72875c19",
         "x": [
          "8-1",
          "8-2",
          "8-3",
          "8-4",
          "8-5",
          "9-1",
          "9-2",
          "9-3",
          "9-4",
          "10-2",
          "10-3",
          "10-4",
          "10-5",
          "11-1"
         ],
         "y": [
          null,
          null,
          null,
          null,
          null,
          null,
          null,
          null,
          null,
          null,
          null,
          null,
          1,
          0.5
         ]
        }
       ],
       "layout": {
        "title": "不合格率周趋势图",
        "xaxis": {
         "mirror": "all",
         "nticks": 20,
         "showgrid": true,
         "showline": true,
         "title": "周",
         "type": "category",
         "zeroline": true
        },
        "yaxis": {
         "mirror": "all",
         "nticks": 20,
         "showgrid": true,
         "showline": true,
         "title": "不合格率",
         "zeroline": true
        }
       }
      },
      "text/html": [
       "<div id=\"a5cc9285-30f5-4742-a748-fba4d95dfbc1\" style=\"height: 525px; width: 100%;\" class=\"plotly-graph-div\"></div><script type=\"text/javascript\">require([\"plotly\"], function(Plotly) { window.PLOTLYENV=window.PLOTLYENV || {};window.PLOTLYENV.BASE_URL=\"https://plot.ly\";Plotly.newPlot(\"a5cc9285-30f5-4742-a748-fba4d95dfbc1\", [{\"line\": {\"dash\": \"solid\"}, \"name\": \"\\u4e0d\\u5408\\u683c\\u7387(\\u5317\\u4eac\\u7ec4)\", \"x\": [\"8-1\", \"8-2\", \"8-3\", \"8-4\", \"8-5\", \"9-1\", \"9-2\", \"9-3\", \"9-4\", \"10-2\", \"10-3\", \"10-4\", \"10-5\", \"11-1\"], \"y\": [0.48148148148148145, 0.5945945945945946, 0.6896551724137931, 0.42424242424242425, 0.6363636363636364, 0.5172413793103449, 0.3076923076923077, 0.6896551724137931, 0.72, 0.5517241379310345, 0.5, 0.6153846153846154, 0.5882352941176471, 0.4090909090909091], \"type\": \"scatter\", \"uid\": \"da000af7-e625-11e8-8ddb-a41f72875c19\"}, {\"line\": {\"dash\": \"dot\"}, \"name\": \"\\u4e0d\\u5408\\u683c\\u7387(\\u4e49\\u4e4c\\u7ec4)\", \"x\": [\"8-1\", \"8-2\", \"8-3\", \"8-4\", \"8-5\", \"9-1\", \"9-2\", \"9-3\", \"9-4\", \"10-2\", \"10-3\", \"10-4\", \"10-5\", \"11-1\"], \"y\": [null, null, null, null, null, null, null, null, null, null, null, null, 1.0, 0.5], \"type\": \"scatter\", \"uid\": \"da000af8-e625-11e8-8ddb-a41f72875c19\"}], {\"title\": \"\\u4e0d\\u5408\\u683c\\u7387\\u5468\\u8d8b\\u52bf\\u56fe\", \"xaxis\": {\"mirror\": \"all\", \"nticks\": 20, \"showgrid\": true, \"showline\": true, \"title\": \"\\u5468\", \"type\": \"category\", \"zeroline\": true}, \"yaxis\": {\"mirror\": \"all\", \"nticks\": 20, \"showgrid\": true, \"showline\": true, \"title\": \"\\u4e0d\\u5408\\u683c\\u7387\", \"zeroline\": true}}, {\"showLink\": true, \"linkText\": \"Export to plot.ly\"})});</script>"
      ],
      "text/vnd.plotly.v1+html": [
       "<div id=\"a5cc9285-30f5-4742-a748-fba4d95dfbc1\" style=\"height: 525px; width: 100%;\" class=\"plotly-graph-div\"></div><script type=\"text/javascript\">require([\"plotly\"], function(Plotly) { window.PLOTLYENV=window.PLOTLYENV || {};window.PLOTLYENV.BASE_URL=\"https://plot.ly\";Plotly.newPlot(\"a5cc9285-30f5-4742-a748-fba4d95dfbc1\", [{\"line\": {\"dash\": \"solid\"}, \"name\": \"\\u4e0d\\u5408\\u683c\\u7387(\\u5317\\u4eac\\u7ec4)\", \"x\": [\"8-1\", \"8-2\", \"8-3\", \"8-4\", \"8-5\", \"9-1\", \"9-2\", \"9-3\", \"9-4\", \"10-2\", \"10-3\", \"10-4\", \"10-5\", \"11-1\"], \"y\": [0.48148148148148145, 0.5945945945945946, 0.6896551724137931, 0.42424242424242425, 0.6363636363636364, 0.5172413793103449, 0.3076923076923077, 0.6896551724137931, 0.72, 0.5517241379310345, 0.5, 0.6153846153846154, 0.5882352941176471, 0.4090909090909091], \"type\": \"scatter\", \"uid\": \"da000af7-e625-11e8-8ddb-a41f72875c19\"}, {\"line\": {\"dash\": \"dot\"}, \"name\": \"\\u4e0d\\u5408\\u683c\\u7387(\\u4e49\\u4e4c\\u7ec4)\", \"x\": [\"8-1\", \"8-2\", \"8-3\", \"8-4\", \"8-5\", \"9-1\", \"9-2\", \"9-3\", \"9-4\", \"10-2\", \"10-3\", \"10-4\", \"10-5\", \"11-1\"], \"y\": [null, null, null, null, null, null, null, null, null, null, null, null, 1.0, 0.5], \"type\": \"scatter\", \"uid\": \"da000af8-e625-11e8-8ddb-a41f72875c19\"}], {\"title\": \"\\u4e0d\\u5408\\u683c\\u7387\\u5468\\u8d8b\\u52bf\\u56fe\", \"xaxis\": {\"mirror\": \"all\", \"nticks\": 20, \"showgrid\": true, \"showline\": true, \"title\": \"\\u5468\", \"type\": \"category\", \"zeroline\": true}, \"yaxis\": {\"mirror\": \"all\", \"nticks\": 20, \"showgrid\": true, \"showline\": true, \"title\": \"\\u4e0d\\u5408\\u683c\\u7387\", \"zeroline\": true}}, {\"showLink\": true, \"linkText\": \"Export to plot.ly\"})});</script>"
      ]
     },
     "metadata": {},
     "output_type": "display_data"
    }
   ],
   "source": [
    "ss = myModule.format(all_df2 ,\"日期（格式“月-周次”）\" ,['不通过芯片数', '芯片总数'])\n",
    "tt = ss.get_total_ratio([['不合格率','不通过芯片数','芯片总数','/']])\n",
    "myModule.myPlot(myModule.sort_by_index(tt)).plot('line')\n",
    "\n",
    "ss = myModule.format(all_df2 ,\"日期（格式“月-周次”）\" ,['不通过芯片数', '芯片总数'])\n",
    "ss.add_group(\"组别\")\n",
    "tt = ss.get_total_ratio([['不合格率','不通过芯片数','芯片总数','/']])\n",
    "myModule.myPlot(myModule.sort_by_index(tt)).plot('line')"
   ]
  },
  {
   "cell_type": "code",
   "execution_count": 161,
   "metadata": {
    "collapsed": false
   },
   "outputs": [
    {
     "data": {
      "application/vnd.plotly.v1+json": {
       "data": [
        {
         "name": "不合格率",
         "type": "scatter",
         "uid": "da000af9-e625-11e8-8ddb-a41f72875c19",
         "x": [
          8,
          9,
          10,
          11
         ],
         "y": [
          0.5608108108108109,
          0.5596330275229358,
          0.5666666666666667,
          0.4166666666666667
         ]
        }
       ],
       "layout": {
        "title": "不合格率月趋势图",
        "xaxis": {
         "mirror": "all",
         "nticks": 20,
         "showgrid": true,
         "showline": true,
         "title": "月",
         "type": "category",
         "zeroline": true
        },
        "yaxis": {
         "mirror": "all",
         "nticks": 20,
         "showgrid": true,
         "showline": true,
         "title": "不合格率",
         "zeroline": true
        }
       }
      },
      "text/html": [
       "<div id=\"f49bb8c7-c9ba-4ab4-b35f-be25dd280903\" style=\"height: 525px; width: 100%;\" class=\"plotly-graph-div\"></div><script type=\"text/javascript\">require([\"plotly\"], function(Plotly) { window.PLOTLYENV=window.PLOTLYENV || {};window.PLOTLYENV.BASE_URL=\"https://plot.ly\";Plotly.newPlot(\"f49bb8c7-c9ba-4ab4-b35f-be25dd280903\", [{\"name\": \"\\u4e0d\\u5408\\u683c\\u7387\", \"x\": [8, 9, 10, 11], \"y\": [0.5608108108108109, 0.5596330275229358, 0.5666666666666667, 0.4166666666666667], \"type\": \"scatter\", \"uid\": \"da000af9-e625-11e8-8ddb-a41f72875c19\"}], {\"title\": \"\\u4e0d\\u5408\\u683c\\u7387\\u6708\\u8d8b\\u52bf\\u56fe\", \"xaxis\": {\"mirror\": \"all\", \"nticks\": 20, \"showgrid\": true, \"showline\": true, \"title\": \"\\u6708\", \"type\": \"category\", \"zeroline\": true}, \"yaxis\": {\"mirror\": \"all\", \"nticks\": 20, \"showgrid\": true, \"showline\": true, \"title\": \"\\u4e0d\\u5408\\u683c\\u7387\", \"zeroline\": true}}, {\"showLink\": true, \"linkText\": \"Export to plot.ly\"})});</script>"
      ],
      "text/vnd.plotly.v1+html": [
       "<div id=\"f49bb8c7-c9ba-4ab4-b35f-be25dd280903\" style=\"height: 525px; width: 100%;\" class=\"plotly-graph-div\"></div><script type=\"text/javascript\">require([\"plotly\"], function(Plotly) { window.PLOTLYENV=window.PLOTLYENV || {};window.PLOTLYENV.BASE_URL=\"https://plot.ly\";Plotly.newPlot(\"f49bb8c7-c9ba-4ab4-b35f-be25dd280903\", [{\"name\": \"\\u4e0d\\u5408\\u683c\\u7387\", \"x\": [8, 9, 10, 11], \"y\": [0.5608108108108109, 0.5596330275229358, 0.5666666666666667, 0.4166666666666667], \"type\": \"scatter\", \"uid\": \"da000af9-e625-11e8-8ddb-a41f72875c19\"}], {\"title\": \"\\u4e0d\\u5408\\u683c\\u7387\\u6708\\u8d8b\\u52bf\\u56fe\", \"xaxis\": {\"mirror\": \"all\", \"nticks\": 20, \"showgrid\": true, \"showline\": true, \"title\": \"\\u6708\", \"type\": \"category\", \"zeroline\": true}, \"yaxis\": {\"mirror\": \"all\", \"nticks\": 20, \"showgrid\": true, \"showline\": true, \"title\": \"\\u4e0d\\u5408\\u683c\\u7387\", \"zeroline\": true}}, {\"showLink\": true, \"linkText\": \"Export to plot.ly\"})});</script>"
      ]
     },
     "metadata": {},
     "output_type": "display_data"
    },
    {
     "data": {
      "application/vnd.plotly.v1+json": {
       "data": [
        {
         "line": {
          "dash": "solid"
         },
         "name": "不合格率(北京组)",
         "type": "scatter",
         "uid": "da000afa-e625-11e8-8ddb-a41f72875c19",
         "x": [
          8,
          9,
          10,
          11
         ],
         "y": [
          0.5608108108108109,
          0.5596330275229358,
          0.5630252100840336,
          0.4090909090909091
         ]
        },
        {
         "line": {
          "dash": "dot"
         },
         "name": "不合格率(义乌组)",
         "type": "scatter",
         "uid": "da000afb-e625-11e8-8ddb-a41f72875c19",
         "x": [
          8,
          9,
          10,
          11
         ],
         "y": [
          null,
          null,
          1,
          0.5
         ]
        }
       ],
       "layout": {
        "title": "不合格率月趋势图",
        "xaxis": {
         "mirror": "all",
         "nticks": 20,
         "showgrid": true,
         "showline": true,
         "title": "月",
         "type": "category",
         "zeroline": true
        },
        "yaxis": {
         "mirror": "all",
         "nticks": 20,
         "showgrid": true,
         "showline": true,
         "title": "不合格率",
         "zeroline": true
        }
       }
      },
      "text/html": [
       "<div id=\"169adbf3-7482-4569-bfe1-cbb8f030b491\" style=\"height: 525px; width: 100%;\" class=\"plotly-graph-div\"></div><script type=\"text/javascript\">require([\"plotly\"], function(Plotly) { window.PLOTLYENV=window.PLOTLYENV || {};window.PLOTLYENV.BASE_URL=\"https://plot.ly\";Plotly.newPlot(\"169adbf3-7482-4569-bfe1-cbb8f030b491\", [{\"line\": {\"dash\": \"solid\"}, \"name\": \"\\u4e0d\\u5408\\u683c\\u7387(\\u5317\\u4eac\\u7ec4)\", \"x\": [8, 9, 10, 11], \"y\": [0.5608108108108109, 0.5596330275229358, 0.5630252100840336, 0.4090909090909091], \"type\": \"scatter\", \"uid\": \"da000afa-e625-11e8-8ddb-a41f72875c19\"}, {\"line\": {\"dash\": \"dot\"}, \"name\": \"\\u4e0d\\u5408\\u683c\\u7387(\\u4e49\\u4e4c\\u7ec4)\", \"x\": [8, 9, 10, 11], \"y\": [null, null, 1.0, 0.5], \"type\": \"scatter\", \"uid\": \"da000afb-e625-11e8-8ddb-a41f72875c19\"}], {\"title\": \"\\u4e0d\\u5408\\u683c\\u7387\\u6708\\u8d8b\\u52bf\\u56fe\", \"xaxis\": {\"mirror\": \"all\", \"nticks\": 20, \"showgrid\": true, \"showline\": true, \"title\": \"\\u6708\", \"type\": \"category\", \"zeroline\": true}, \"yaxis\": {\"mirror\": \"all\", \"nticks\": 20, \"showgrid\": true, \"showline\": true, \"title\": \"\\u4e0d\\u5408\\u683c\\u7387\", \"zeroline\": true}}, {\"showLink\": true, \"linkText\": \"Export to plot.ly\"})});</script>"
      ],
      "text/vnd.plotly.v1+html": [
       "<div id=\"169adbf3-7482-4569-bfe1-cbb8f030b491\" style=\"height: 525px; width: 100%;\" class=\"plotly-graph-div\"></div><script type=\"text/javascript\">require([\"plotly\"], function(Plotly) { window.PLOTLYENV=window.PLOTLYENV || {};window.PLOTLYENV.BASE_URL=\"https://plot.ly\";Plotly.newPlot(\"169adbf3-7482-4569-bfe1-cbb8f030b491\", [{\"line\": {\"dash\": \"solid\"}, \"name\": \"\\u4e0d\\u5408\\u683c\\u7387(\\u5317\\u4eac\\u7ec4)\", \"x\": [8, 9, 10, 11], \"y\": [0.5608108108108109, 0.5596330275229358, 0.5630252100840336, 0.4090909090909091], \"type\": \"scatter\", \"uid\": \"da000afa-e625-11e8-8ddb-a41f72875c19\"}, {\"line\": {\"dash\": \"dot\"}, \"name\": \"\\u4e0d\\u5408\\u683c\\u7387(\\u4e49\\u4e4c\\u7ec4)\", \"x\": [8, 9, 10, 11], \"y\": [null, null, 1.0, 0.5], \"type\": \"scatter\", \"uid\": \"da000afb-e625-11e8-8ddb-a41f72875c19\"}], {\"title\": \"\\u4e0d\\u5408\\u683c\\u7387\\u6708\\u8d8b\\u52bf\\u56fe\", \"xaxis\": {\"mirror\": \"all\", \"nticks\": 20, \"showgrid\": true, \"showline\": true, \"title\": \"\\u6708\", \"type\": \"category\", \"zeroline\": true}, \"yaxis\": {\"mirror\": \"all\", \"nticks\": 20, \"showgrid\": true, \"showline\": true, \"title\": \"\\u4e0d\\u5408\\u683c\\u7387\", \"zeroline\": true}}, {\"showLink\": true, \"linkText\": \"Export to plot.ly\"})});</script>"
      ]
     },
     "metadata": {},
     "output_type": "display_data"
    }
   ],
   "source": [
    "ss = myModule.format(all_df2 ,\"month\" ,['不通过芯片数', '芯片总数'])\n",
    "tt = ss.get_total_ratio([['不合格率','不通过芯片数','芯片总数','/']])\n",
    "myModule.myPlot(tt).plot('line','月')\n",
    "\n",
    "ss = myModule.format(all_df2 ,\"month\" ,['不通过芯片数', '芯片总数'])\n",
    "ss.add_group(\"组别\")\n",
    "tt = ss.get_total_ratio([['不合格率','不通过芯片数','芯片总数','/']])\n",
    "myModule.myPlot(tt).plot('line','月')"
   ]
  },
  {
   "cell_type": "markdown",
   "metadata": {},
   "source": [
    "#### 通过率情况"
   ]
  },
  {
   "cell_type": "code",
   "execution_count": 162,
   "metadata": {
    "collapsed": false
   },
   "outputs": [
    {
     "data": {
      "application/vnd.plotly.v1+json": {
       "data": [
        {
         "name": "48h通过率",
         "type": "scatter",
         "uid": "da000afc-e625-11e8-8ddb-a41f72875c19",
         "x": [
          "8-1",
          "8-2",
          "8-3",
          "8-4",
          "8-5",
          "9-1",
          "9-2",
          "9-3",
          "9-4",
          "10-2",
          "10-3",
          "10-4",
          "10-5",
          "11-1"
         ],
         "y": [
          0.8518518518518519,
          0.7567567567567568,
          0.896551724137931,
          0.9393939393939394,
          0.8636363636363636,
          0.896551724137931,
          0.8461538461538461,
          0.6896551724137931,
          0.76,
          0.9655172413793104,
          0.9666666666666667,
          0.8076923076923077,
          0.6857142857142857,
          0.8333333333333334
         ]
        },
        {
         "name": "8h通过率",
         "type": "scatter",
         "uid": "da000afd-e625-11e8-8ddb-a41f72875c19",
         "x": [
          "8-1",
          "8-2",
          "8-3",
          "8-4",
          "8-5",
          "9-1",
          "9-2",
          "9-3",
          "9-4",
          "10-2",
          "10-3",
          "10-4",
          "10-5",
          "11-1"
         ],
         "y": [
          0.3333333333333333,
          0.40540540540540543,
          0.5517241379310345,
          0.6060606060606061,
          0.5,
          0.6206896551724138,
          0.6538461538461539,
          0.4827586206896552,
          0.36,
          0.4482758620689655,
          0.5666666666666667,
          0.5384615384615384,
          0.3142857142857143,
          0.5
         ]
        },
        {
         "name": "24h通过率",
         "type": "scatter",
         "uid": "da000afe-e625-11e8-8ddb-a41f72875c19",
         "x": [
          "8-1",
          "8-2",
          "8-3",
          "8-4",
          "8-5",
          "9-1",
          "9-2",
          "9-3",
          "9-4",
          "10-2",
          "10-3",
          "10-4",
          "10-5",
          "11-1"
         ],
         "y": [
          0.6296296296296297,
          0.5135135135135135,
          0.7586206896551724,
          0.8484848484848485,
          0.7272727272727273,
          0.7931034482758621,
          0.6923076923076923,
          0.6551724137931034,
          0.72,
          0.6896551724137931,
          0.8333333333333334,
          0.6538461538461539,
          0.4857142857142857,
          0.6666666666666666
         ]
        }
       ],
       "layout": {
        "title": "48h通过率&8h通过率&24h通过率周趋势图",
        "xaxis": {
         "mirror": "all",
         "nticks": 20,
         "showgrid": true,
         "showline": true,
         "title": "周",
         "type": "category",
         "zeroline": true
        },
        "yaxis": {
         "mirror": "all",
         "nticks": 20,
         "showgrid": true,
         "showline": true,
         "title": "48h通过率&8h通过率&24h通过率",
         "zeroline": true
        }
       }
      },
      "text/html": [
       "<div id=\"e72ae54c-77b7-462b-8562-65a135ac1347\" style=\"height: 525px; width: 100%;\" class=\"plotly-graph-div\"></div><script type=\"text/javascript\">require([\"plotly\"], function(Plotly) { window.PLOTLYENV=window.PLOTLYENV || {};window.PLOTLYENV.BASE_URL=\"https://plot.ly\";Plotly.newPlot(\"e72ae54c-77b7-462b-8562-65a135ac1347\", [{\"name\": \"48h\\u901a\\u8fc7\\u7387\", \"x\": [\"8-1\", \"8-2\", \"8-3\", \"8-4\", \"8-5\", \"9-1\", \"9-2\", \"9-3\", \"9-4\", \"10-2\", \"10-3\", \"10-4\", \"10-5\", \"11-1\"], \"y\": [0.8518518518518519, 0.7567567567567568, 0.896551724137931, 0.9393939393939394, 0.8636363636363636, 0.896551724137931, 0.8461538461538461, 0.6896551724137931, 0.76, 0.9655172413793104, 0.9666666666666667, 0.8076923076923077, 0.6857142857142857, 0.8333333333333334], \"type\": \"scatter\", \"uid\": \"da000afc-e625-11e8-8ddb-a41f72875c19\"}, {\"name\": \"8h\\u901a\\u8fc7\\u7387\", \"x\": [\"8-1\", \"8-2\", \"8-3\", \"8-4\", \"8-5\", \"9-1\", \"9-2\", \"9-3\", \"9-4\", \"10-2\", \"10-3\", \"10-4\", \"10-5\", \"11-1\"], \"y\": [0.3333333333333333, 0.40540540540540543, 0.5517241379310345, 0.6060606060606061, 0.5, 0.6206896551724138, 0.6538461538461539, 0.4827586206896552, 0.36, 0.4482758620689655, 0.5666666666666667, 0.5384615384615384, 0.3142857142857143, 0.5], \"type\": \"scatter\", \"uid\": \"da000afd-e625-11e8-8ddb-a41f72875c19\"}, {\"name\": \"24h\\u901a\\u8fc7\\u7387\", \"x\": [\"8-1\", \"8-2\", \"8-3\", \"8-4\", \"8-5\", \"9-1\", \"9-2\", \"9-3\", \"9-4\", \"10-2\", \"10-3\", \"10-4\", \"10-5\", \"11-1\"], \"y\": [0.6296296296296297, 0.5135135135135135, 0.7586206896551724, 0.8484848484848485, 0.7272727272727273, 0.7931034482758621, 0.6923076923076923, 0.6551724137931034, 0.72, 0.6896551724137931, 0.8333333333333334, 0.6538461538461539, 0.4857142857142857, 0.6666666666666666], \"type\": \"scatter\", \"uid\": \"da000afe-e625-11e8-8ddb-a41f72875c19\"}], {\"title\": \"48h\\u901a\\u8fc7\\u7387&8h\\u901a\\u8fc7\\u7387&24h\\u901a\\u8fc7\\u7387\\u5468\\u8d8b\\u52bf\\u56fe\", \"xaxis\": {\"mirror\": \"all\", \"nticks\": 20, \"showgrid\": true, \"showline\": true, \"title\": \"\\u5468\", \"type\": \"category\", \"zeroline\": true}, \"yaxis\": {\"mirror\": \"all\", \"nticks\": 20, \"showgrid\": true, \"showline\": true, \"title\": \"48h\\u901a\\u8fc7\\u7387&8h\\u901a\\u8fc7\\u7387&24h\\u901a\\u8fc7\\u7387\", \"zeroline\": true}}, {\"showLink\": true, \"linkText\": \"Export to plot.ly\"})});</script>"
      ],
      "text/vnd.plotly.v1+html": [
       "<div id=\"e72ae54c-77b7-462b-8562-65a135ac1347\" style=\"height: 525px; width: 100%;\" class=\"plotly-graph-div\"></div><script type=\"text/javascript\">require([\"plotly\"], function(Plotly) { window.PLOTLYENV=window.PLOTLYENV || {};window.PLOTLYENV.BASE_URL=\"https://plot.ly\";Plotly.newPlot(\"e72ae54c-77b7-462b-8562-65a135ac1347\", [{\"name\": \"48h\\u901a\\u8fc7\\u7387\", \"x\": [\"8-1\", \"8-2\", \"8-3\", \"8-4\", \"8-5\", \"9-1\", \"9-2\", \"9-3\", \"9-4\", \"10-2\", \"10-3\", \"10-4\", \"10-5\", \"11-1\"], \"y\": [0.8518518518518519, 0.7567567567567568, 0.896551724137931, 0.9393939393939394, 0.8636363636363636, 0.896551724137931, 0.8461538461538461, 0.6896551724137931, 0.76, 0.9655172413793104, 0.9666666666666667, 0.8076923076923077, 0.6857142857142857, 0.8333333333333334], \"type\": \"scatter\", \"uid\": \"da000afc-e625-11e8-8ddb-a41f72875c19\"}, {\"name\": \"8h\\u901a\\u8fc7\\u7387\", \"x\": [\"8-1\", \"8-2\", \"8-3\", \"8-4\", \"8-5\", \"9-1\", \"9-2\", \"9-3\", \"9-4\", \"10-2\", \"10-3\", \"10-4\", \"10-5\", \"11-1\"], \"y\": [0.3333333333333333, 0.40540540540540543, 0.5517241379310345, 0.6060606060606061, 0.5, 0.6206896551724138, 0.6538461538461539, 0.4827586206896552, 0.36, 0.4482758620689655, 0.5666666666666667, 0.5384615384615384, 0.3142857142857143, 0.5], \"type\": \"scatter\", \"uid\": \"da000afd-e625-11e8-8ddb-a41f72875c19\"}, {\"name\": \"24h\\u901a\\u8fc7\\u7387\", \"x\": [\"8-1\", \"8-2\", \"8-3\", \"8-4\", \"8-5\", \"9-1\", \"9-2\", \"9-3\", \"9-4\", \"10-2\", \"10-3\", \"10-4\", \"10-5\", \"11-1\"], \"y\": [0.6296296296296297, 0.5135135135135135, 0.7586206896551724, 0.8484848484848485, 0.7272727272727273, 0.7931034482758621, 0.6923076923076923, 0.6551724137931034, 0.72, 0.6896551724137931, 0.8333333333333334, 0.6538461538461539, 0.4857142857142857, 0.6666666666666666], \"type\": \"scatter\", \"uid\": \"da000afe-e625-11e8-8ddb-a41f72875c19\"}], {\"title\": \"48h\\u901a\\u8fc7\\u7387&8h\\u901a\\u8fc7\\u7387&24h\\u901a\\u8fc7\\u7387\\u5468\\u8d8b\\u52bf\\u56fe\", \"xaxis\": {\"mirror\": \"all\", \"nticks\": 20, \"showgrid\": true, \"showline\": true, \"title\": \"\\u5468\", \"type\": \"category\", \"zeroline\": true}, \"yaxis\": {\"mirror\": \"all\", \"nticks\": 20, \"showgrid\": true, \"showline\": true, \"title\": \"48h\\u901a\\u8fc7\\u7387&8h\\u901a\\u8fc7\\u7387&24h\\u901a\\u8fc7\\u7387\", \"zeroline\": true}}, {\"showLink\": true, \"linkText\": \"Export to plot.ly\"})});</script>"
      ]
     },
     "metadata": {},
     "output_type": "display_data"
    },
    {
     "data": {
      "application/vnd.plotly.v1+json": {
       "data": [
        {
         "name": "48h通过率",
         "type": "scatter",
         "uid": "db3837aa-e625-11e8-8ddb-a41f72875c19",
         "x": [
          8,
          9,
          10,
          11
         ],
         "y": [
          0.8581081081081081,
          0.7981651376146789,
          0.85,
          0.8333333333333334
         ]
        },
        {
         "name": "8h通过率",
         "type": "scatter",
         "uid": "db3837ab-e625-11e8-8ddb-a41f72875c19",
         "x": [
          8,
          9,
          10,
          11
         ],
         "y": [
          0.4797297297297297,
          0.5321100917431193,
          0.4583333333333333,
          0.5
         ]
        },
        {
         "name": "24h通过率",
         "type": "scatter",
         "uid": "db3837ac-e625-11e8-8ddb-a41f72875c19",
         "x": [
          8,
          9,
          10,
          11
         ],
         "y": [
          0.6891891891891891,
          0.7155963302752294,
          0.6583333333333333,
          0.6666666666666666
         ]
        }
       ],
       "layout": {
        "title": "48h通过率&8h通过率&24h通过率月趋势图",
        "xaxis": {
         "mirror": "all",
         "nticks": 20,
         "showgrid": true,
         "showline": true,
         "title": "月",
         "type": "category",
         "zeroline": true
        },
        "yaxis": {
         "mirror": "all",
         "nticks": 20,
         "showgrid": true,
         "showline": true,
         "title": "48h通过率&8h通过率&24h通过率",
         "zeroline": true
        }
       }
      },
      "text/html": [
       "<div id=\"b71dca95-f02e-4aa7-ad9e-1b01845d2a2d\" style=\"height: 525px; width: 100%;\" class=\"plotly-graph-div\"></div><script type=\"text/javascript\">require([\"plotly\"], function(Plotly) { window.PLOTLYENV=window.PLOTLYENV || {};window.PLOTLYENV.BASE_URL=\"https://plot.ly\";Plotly.newPlot(\"b71dca95-f02e-4aa7-ad9e-1b01845d2a2d\", [{\"name\": \"48h\\u901a\\u8fc7\\u7387\", \"x\": [8, 9, 10, 11], \"y\": [0.8581081081081081, 0.7981651376146789, 0.85, 0.8333333333333334], \"type\": \"scatter\", \"uid\": \"db3837aa-e625-11e8-8ddb-a41f72875c19\"}, {\"name\": \"8h\\u901a\\u8fc7\\u7387\", \"x\": [8, 9, 10, 11], \"y\": [0.4797297297297297, 0.5321100917431193, 0.4583333333333333, 0.5], \"type\": \"scatter\", \"uid\": \"db3837ab-e625-11e8-8ddb-a41f72875c19\"}, {\"name\": \"24h\\u901a\\u8fc7\\u7387\", \"x\": [8, 9, 10, 11], \"y\": [0.6891891891891891, 0.7155963302752294, 0.6583333333333333, 0.6666666666666666], \"type\": \"scatter\", \"uid\": \"db3837ac-e625-11e8-8ddb-a41f72875c19\"}], {\"title\": \"48h\\u901a\\u8fc7\\u7387&8h\\u901a\\u8fc7\\u7387&24h\\u901a\\u8fc7\\u7387\\u6708\\u8d8b\\u52bf\\u56fe\", \"xaxis\": {\"mirror\": \"all\", \"nticks\": 20, \"showgrid\": true, \"showline\": true, \"title\": \"\\u6708\", \"type\": \"category\", \"zeroline\": true}, \"yaxis\": {\"mirror\": \"all\", \"nticks\": 20, \"showgrid\": true, \"showline\": true, \"title\": \"48h\\u901a\\u8fc7\\u7387&8h\\u901a\\u8fc7\\u7387&24h\\u901a\\u8fc7\\u7387\", \"zeroline\": true}}, {\"showLink\": true, \"linkText\": \"Export to plot.ly\"})});</script>"
      ],
      "text/vnd.plotly.v1+html": [
       "<div id=\"b71dca95-f02e-4aa7-ad9e-1b01845d2a2d\" style=\"height: 525px; width: 100%;\" class=\"plotly-graph-div\"></div><script type=\"text/javascript\">require([\"plotly\"], function(Plotly) { window.PLOTLYENV=window.PLOTLYENV || {};window.PLOTLYENV.BASE_URL=\"https://plot.ly\";Plotly.newPlot(\"b71dca95-f02e-4aa7-ad9e-1b01845d2a2d\", [{\"name\": \"48h\\u901a\\u8fc7\\u7387\", \"x\": [8, 9, 10, 11], \"y\": [0.8581081081081081, 0.7981651376146789, 0.85, 0.8333333333333334], \"type\": \"scatter\", \"uid\": \"db3837aa-e625-11e8-8ddb-a41f72875c19\"}, {\"name\": \"8h\\u901a\\u8fc7\\u7387\", \"x\": [8, 9, 10, 11], \"y\": [0.4797297297297297, 0.5321100917431193, 0.4583333333333333, 0.5], \"type\": \"scatter\", \"uid\": \"db3837ab-e625-11e8-8ddb-a41f72875c19\"}, {\"name\": \"24h\\u901a\\u8fc7\\u7387\", \"x\": [8, 9, 10, 11], \"y\": [0.6891891891891891, 0.7155963302752294, 0.6583333333333333, 0.6666666666666666], \"type\": \"scatter\", \"uid\": \"db3837ac-e625-11e8-8ddb-a41f72875c19\"}], {\"title\": \"48h\\u901a\\u8fc7\\u7387&8h\\u901a\\u8fc7\\u7387&24h\\u901a\\u8fc7\\u7387\\u6708\\u8d8b\\u52bf\\u56fe\", \"xaxis\": {\"mirror\": \"all\", \"nticks\": 20, \"showgrid\": true, \"showline\": true, \"title\": \"\\u6708\", \"type\": \"category\", \"zeroline\": true}, \"yaxis\": {\"mirror\": \"all\", \"nticks\": 20, \"showgrid\": true, \"showline\": true, \"title\": \"48h\\u901a\\u8fc7\\u7387&8h\\u901a\\u8fc7\\u7387&24h\\u901a\\u8fc7\\u7387\", \"zeroline\": true}}, {\"showLink\": true, \"linkText\": \"Export to plot.ly\"})});</script>"
      ]
     },
     "metadata": {},
     "output_type": "display_data"
    }
   ],
   "source": [
    "ss = myModule.format(all_df2 ,\"日期（格式“月-周次”）\" ,['8h通过芯片数', '芯片总数','24h通过芯片数','48h通过芯片数'])\n",
    "tt = ss.get_total_ratio([['8h通过率','8h通过芯片数','芯片总数','/'],\n",
    "                         ['24h通过率','24h通过芯片数','芯片总数','/'],\n",
    "                        ['48h通过率','48h通过芯片数','芯片总数','/'],])\n",
    "myModule.myPlot(myModule.sort_by_index(tt)).plot('line')\n",
    "\n",
    "ss = myModule.format(all_df2 ,\"month\" ,['8h通过芯片数', '芯片总数','24h通过芯片数','48h通过芯片数'])\n",
    "tt = ss.get_total_ratio([['8h通过率','8h通过芯片数','芯片总数','/'],\n",
    "                         ['24h通过率','24h通过芯片数','芯片总数','/'],\n",
    "                        ['48h通过率','48h通过芯片数','芯片总数','/'],])\n",
    "myModule.myPlot(tt).plot('line','月')"
   ]
  },
  {
   "cell_type": "markdown",
   "metadata": {},
   "source": [
    "#### 平均通过时长，一次通过平均时长，非一次通过平均时长，通过时长Q80"
   ]
  },
  {
   "cell_type": "code",
   "execution_count": 163,
   "metadata": {
    "collapsed": false,
    "scrolled": false
   },
   "outputs": [
    {
     "data": {
      "application/vnd.plotly.v1+json": {
       "data": [
        {
         "name": "非一次通过平均时长",
         "type": "scatter",
         "uid": "db3837ad-e625-11e8-8ddb-a41f72875c19",
         "x": [
          "8-1",
          "8-2",
          "8-3",
          "8-4",
          "8-5",
          "9-1",
          "9-2",
          "9-3",
          "9-4",
          "10-2",
          "10-3",
          "10-4",
          "10-5",
          "11-1"
         ],
         "y": [
          30.81,
          50.36,
          22.7,
          20.81,
          35.65,
          24.46,
          37.75,
          53.68,
          34.52,
          26.49,
          23.02,
          29.53,
          157.17,
          128.97
         ]
        },
        {
         "name": "一次通过平均时长",
         "type": "scatter",
         "uid": "db3837ae-e625-11e8-8ddb-a41f72875c19",
         "x": [
          "8-1",
          "8-2",
          "8-3",
          "8-4",
          "8-5",
          "9-1",
          "9-2",
          "9-3",
          "9-4",
          "10-2",
          "10-3",
          "10-4",
          "10-5",
          "11-1"
         ],
         "y": [
          11.95,
          6.68,
          3.81,
          5.41,
          3.11,
          5.07,
          6.43,
          4.81,
          4.68,
          4.25,
          3.71,
          4.23,
          3.35,
          9.25
         ]
        },
        {
         "name": "通过时长Q80",
         "type": "scatter",
         "uid": "db3837af-e625-11e8-8ddb-a41f72875c19",
         "x": [
          "8-1",
          "8-2",
          "8-3",
          "8-4",
          "8-5",
          "9-1",
          "9-2",
          "9-3",
          "9-4",
          "10-2",
          "10-3",
          "10-4",
          "10-5",
          "11-1"
         ],
         "y": [
          35.07,
          59.13,
          33.87,
          27.27,
          29.73,
          24.2,
          31.5,
          64.5,
          50.73,
          25.83,
          22.47,
          31.62,
          173.17000000000002,
          110.49
         ]
        },
        {
         "name": "平均通过时长",
         "type": "scatter",
         "uid": "db3837b0-e625-11e8-8ddb-a41f72875c19",
         "x": [
          "8-1",
          "8-2",
          "8-3",
          "8-4",
          "8-5",
          "9-1",
          "9-2",
          "9-3",
          "9-4",
          "10-2",
          "10-3",
          "10-4",
          "10-5",
          "11-1"
         ],
         "y": [
          21.03,
          32.65,
          16.84,
          10.54,
          23.82,
          15.1,
          22.28,
          38.57,
          26.16,
          16.62,
          13.39,
          19.8,
          134.1,
          64.95
         ]
        }
       ],
       "layout": {
        "title": "非一次通过平均时长&一次通过平均时长&通过时长Q80&平均通过时长周趋势图",
        "xaxis": {
         "mirror": "all",
         "nticks": 20,
         "showgrid": true,
         "showline": true,
         "title": "周",
         "type": "category",
         "zeroline": true
        },
        "yaxis": {
         "mirror": "all",
         "nticks": 20,
         "showgrid": true,
         "showline": true,
         "title": "非一次通过平均时长&一次通过平均时长&通过时长Q80&平均通过时长",
         "zeroline": true
        }
       }
      },
      "text/html": [
       "<div id=\"aaf6e843-dc6e-4d3e-85a9-f582dff23817\" style=\"height: 525px; width: 100%;\" class=\"plotly-graph-div\"></div><script type=\"text/javascript\">require([\"plotly\"], function(Plotly) { window.PLOTLYENV=window.PLOTLYENV || {};window.PLOTLYENV.BASE_URL=\"https://plot.ly\";Plotly.newPlot(\"aaf6e843-dc6e-4d3e-85a9-f582dff23817\", [{\"name\": \"\\u975e\\u4e00\\u6b21\\u901a\\u8fc7\\u5e73\\u5747\\u65f6\\u957f\", \"x\": [\"8-1\", \"8-2\", \"8-3\", \"8-4\", \"8-5\", \"9-1\", \"9-2\", \"9-3\", \"9-4\", \"10-2\", \"10-3\", \"10-4\", \"10-5\", \"11-1\"], \"y\": [30.81, 50.36, 22.7, 20.81, 35.65, 24.46, 37.75, 53.68, 34.52, 26.49, 23.02, 29.53, 157.17, 128.97], \"type\": \"scatter\", \"uid\": \"db3837ad-e625-11e8-8ddb-a41f72875c19\"}, {\"name\": \"\\u4e00\\u6b21\\u901a\\u8fc7\\u5e73\\u5747\\u65f6\\u957f\", \"x\": [\"8-1\", \"8-2\", \"8-3\", \"8-4\", \"8-5\", \"9-1\", \"9-2\", \"9-3\", \"9-4\", \"10-2\", \"10-3\", \"10-4\", \"10-5\", \"11-1\"], \"y\": [11.95, 6.68, 3.81, 5.41, 3.11, 5.07, 6.43, 4.81, 4.68, 4.25, 3.71, 4.23, 3.35, 9.25], \"type\": \"scatter\", \"uid\": \"db3837ae-e625-11e8-8ddb-a41f72875c19\"}, {\"name\": \"\\u901a\\u8fc7\\u65f6\\u957fQ80\", \"x\": [\"8-1\", \"8-2\", \"8-3\", \"8-4\", \"8-5\", \"9-1\", \"9-2\", \"9-3\", \"9-4\", \"10-2\", \"10-3\", \"10-4\", \"10-5\", \"11-1\"], \"y\": [35.07, 59.13, 33.87, 27.27, 29.73, 24.2, 31.5, 64.5, 50.73, 25.83, 22.47, 31.62, 173.17000000000002, 110.49], \"type\": \"scatter\", \"uid\": \"db3837af-e625-11e8-8ddb-a41f72875c19\"}, {\"name\": \"\\u5e73\\u5747\\u901a\\u8fc7\\u65f6\\u957f\", \"x\": [\"8-1\", \"8-2\", \"8-3\", \"8-4\", \"8-5\", \"9-1\", \"9-2\", \"9-3\", \"9-4\", \"10-2\", \"10-3\", \"10-4\", \"10-5\", \"11-1\"], \"y\": [21.03, 32.65, 16.84, 10.54, 23.82, 15.1, 22.28, 38.57, 26.16, 16.62, 13.39, 19.8, 134.1, 64.95], \"type\": \"scatter\", \"uid\": \"db3837b0-e625-11e8-8ddb-a41f72875c19\"}], {\"title\": \"\\u975e\\u4e00\\u6b21\\u901a\\u8fc7\\u5e73\\u5747\\u65f6\\u957f&\\u4e00\\u6b21\\u901a\\u8fc7\\u5e73\\u5747\\u65f6\\u957f&\\u901a\\u8fc7\\u65f6\\u957fQ80&\\u5e73\\u5747\\u901a\\u8fc7\\u65f6\\u957f\\u5468\\u8d8b\\u52bf\\u56fe\", \"xaxis\": {\"mirror\": \"all\", \"nticks\": 20, \"showgrid\": true, \"showline\": true, \"title\": \"\\u5468\", \"type\": \"category\", \"zeroline\": true}, \"yaxis\": {\"mirror\": \"all\", \"nticks\": 20, \"showgrid\": true, \"showline\": true, \"title\": \"\\u975e\\u4e00\\u6b21\\u901a\\u8fc7\\u5e73\\u5747\\u65f6\\u957f&\\u4e00\\u6b21\\u901a\\u8fc7\\u5e73\\u5747\\u65f6\\u957f&\\u901a\\u8fc7\\u65f6\\u957fQ80&\\u5e73\\u5747\\u901a\\u8fc7\\u65f6\\u957f\", \"zeroline\": true}}, {\"showLink\": true, \"linkText\": \"Export to plot.ly\"})});</script>"
      ],
      "text/vnd.plotly.v1+html": [
       "<div id=\"aaf6e843-dc6e-4d3e-85a9-f582dff23817\" style=\"height: 525px; width: 100%;\" class=\"plotly-graph-div\"></div><script type=\"text/javascript\">require([\"plotly\"], function(Plotly) { window.PLOTLYENV=window.PLOTLYENV || {};window.PLOTLYENV.BASE_URL=\"https://plot.ly\";Plotly.newPlot(\"aaf6e843-dc6e-4d3e-85a9-f582dff23817\", [{\"name\": \"\\u975e\\u4e00\\u6b21\\u901a\\u8fc7\\u5e73\\u5747\\u65f6\\u957f\", \"x\": [\"8-1\", \"8-2\", \"8-3\", \"8-4\", \"8-5\", \"9-1\", \"9-2\", \"9-3\", \"9-4\", \"10-2\", \"10-3\", \"10-4\", \"10-5\", \"11-1\"], \"y\": [30.81, 50.36, 22.7, 20.81, 35.65, 24.46, 37.75, 53.68, 34.52, 26.49, 23.02, 29.53, 157.17, 128.97], \"type\": \"scatter\", \"uid\": \"db3837ad-e625-11e8-8ddb-a41f72875c19\"}, {\"name\": \"\\u4e00\\u6b21\\u901a\\u8fc7\\u5e73\\u5747\\u65f6\\u957f\", \"x\": [\"8-1\", \"8-2\", \"8-3\", \"8-4\", \"8-5\", \"9-1\", \"9-2\", \"9-3\", \"9-4\", \"10-2\", \"10-3\", \"10-4\", \"10-5\", \"11-1\"], \"y\": [11.95, 6.68, 3.81, 5.41, 3.11, 5.07, 6.43, 4.81, 4.68, 4.25, 3.71, 4.23, 3.35, 9.25], \"type\": \"scatter\", \"uid\": \"db3837ae-e625-11e8-8ddb-a41f72875c19\"}, {\"name\": \"\\u901a\\u8fc7\\u65f6\\u957fQ80\", \"x\": [\"8-1\", \"8-2\", \"8-3\", \"8-4\", \"8-5\", \"9-1\", \"9-2\", \"9-3\", \"9-4\", \"10-2\", \"10-3\", \"10-4\", \"10-5\", \"11-1\"], \"y\": [35.07, 59.13, 33.87, 27.27, 29.73, 24.2, 31.5, 64.5, 50.73, 25.83, 22.47, 31.62, 173.17000000000002, 110.49], \"type\": \"scatter\", \"uid\": \"db3837af-e625-11e8-8ddb-a41f72875c19\"}, {\"name\": \"\\u5e73\\u5747\\u901a\\u8fc7\\u65f6\\u957f\", \"x\": [\"8-1\", \"8-2\", \"8-3\", \"8-4\", \"8-5\", \"9-1\", \"9-2\", \"9-3\", \"9-4\", \"10-2\", \"10-3\", \"10-4\", \"10-5\", \"11-1\"], \"y\": [21.03, 32.65, 16.84, 10.54, 23.82, 15.1, 22.28, 38.57, 26.16, 16.62, 13.39, 19.8, 134.1, 64.95], \"type\": \"scatter\", \"uid\": \"db3837b0-e625-11e8-8ddb-a41f72875c19\"}], {\"title\": \"\\u975e\\u4e00\\u6b21\\u901a\\u8fc7\\u5e73\\u5747\\u65f6\\u957f&\\u4e00\\u6b21\\u901a\\u8fc7\\u5e73\\u5747\\u65f6\\u957f&\\u901a\\u8fc7\\u65f6\\u957fQ80&\\u5e73\\u5747\\u901a\\u8fc7\\u65f6\\u957f\\u5468\\u8d8b\\u52bf\\u56fe\", \"xaxis\": {\"mirror\": \"all\", \"nticks\": 20, \"showgrid\": true, \"showline\": true, \"title\": \"\\u5468\", \"type\": \"category\", \"zeroline\": true}, \"yaxis\": {\"mirror\": \"all\", \"nticks\": 20, \"showgrid\": true, \"showline\": true, \"title\": \"\\u975e\\u4e00\\u6b21\\u901a\\u8fc7\\u5e73\\u5747\\u65f6\\u957f&\\u4e00\\u6b21\\u901a\\u8fc7\\u5e73\\u5747\\u65f6\\u957f&\\u901a\\u8fc7\\u65f6\\u957fQ80&\\u5e73\\u5747\\u901a\\u8fc7\\u65f6\\u957f\", \"zeroline\": true}}, {\"showLink\": true, \"linkText\": \"Export to plot.ly\"})});</script>"
      ]
     },
     "metadata": {},
     "output_type": "display_data"
    },
    {
     "data": {
      "application/vnd.plotly.v1+json": {
       "data": [
        {
         "line": {
          "dash": "solid"
         },
         "name": "非一次通过平均时长(北京组)",
         "type": "scatter",
         "uid": "db3837b1-e625-11e8-8ddb-a41f72875c19",
         "x": [
          "8-1",
          "8-2",
          "8-3",
          "8-4",
          "8-5",
          "9-1",
          "9-2",
          "9-3",
          "9-4",
          "10-2",
          "10-3",
          "10-4",
          "10-5",
          "11-1"
         ],
         "y": [
          30.81,
          50.36,
          22.7,
          20.81,
          35.65,
          24.46,
          37.75,
          53.68,
          34.52,
          26.49,
          23.02,
          29.53,
          61.87,
          51.15
         ]
        },
        {
         "line": {
          "dash": "dot"
         },
         "name": "非一次通过平均时长(义乌组)",
         "type": "scatter",
         "uid": "db3837b2-e625-11e8-8ddb-a41f72875c19",
         "x": [
          "8-1",
          "8-2",
          "8-3",
          "8-4",
          "8-5",
          "9-1",
          "9-2",
          "9-3",
          "9-4",
          "10-2",
          "10-3",
          "10-4",
          "10-5",
          "11-1"
         ],
         "y": [
          null,
          null,
          null,
          null,
          null,
          null,
          null,
          null,
          null,
          null,
          null,
          null,
          95.3,
          77.82
         ]
        },
        {
         "line": {
          "dash": "solid"
         },
         "name": "一次通过平均时长(北京组)",
         "type": "scatter",
         "uid": "db3837b3-e625-11e8-8ddb-a41f72875c19",
         "x": [
          "8-1",
          "8-2",
          "8-3",
          "8-4",
          "8-5",
          "9-1",
          "9-2",
          "9-3",
          "9-4",
          "10-2",
          "10-3",
          "10-4",
          "10-5",
          "11-1"
         ],
         "y": [
          11.95,
          6.68,
          3.81,
          5.41,
          3.11,
          5.07,
          6.43,
          4.81,
          4.68,
          4.25,
          3.71,
          4.23,
          3.35,
          4.75
         ]
        },
        {
         "line": {
          "dash": "dot"
         },
         "name": "一次通过平均时长(义乌组)",
         "type": "scatter",
         "uid": "db3837b4-e625-11e8-8ddb-a41f72875c19",
         "x": [
          "8-1",
          "8-2",
          "8-3",
          "8-4",
          "8-5",
          "9-1",
          "9-2",
          "9-3",
          "9-4",
          "10-2",
          "10-3",
          "10-4",
          "10-5",
          "11-1"
         ],
         "y": [
          null,
          null,
          null,
          null,
          null,
          null,
          null,
          null,
          null,
          null,
          null,
          null,
          0,
          4.5
         ]
        },
        {
         "line": {
          "dash": "solid"
         },
         "name": "通过时长Q80(北京组)",
         "type": "scatter",
         "uid": "db3837b5-e625-11e8-8ddb-a41f72875c19",
         "x": [
          "8-1",
          "8-2",
          "8-3",
          "8-4",
          "8-5",
          "9-1",
          "9-2",
          "9-3",
          "9-4",
          "10-2",
          "10-3",
          "10-4",
          "10-5",
          "11-1"
         ],
         "y": [
          35.07,
          59.13,
          33.87,
          27.27,
          29.73,
          24.2,
          31.5,
          64.5,
          50.73,
          25.83,
          22.47,
          31.62,
          77.87,
          32.67
         ]
        },
        {
         "line": {
          "dash": "dot"
         },
         "name": "通过时长Q80(义乌组)",
         "type": "scatter",
         "uid": "db3837b6-e625-11e8-8ddb-a41f72875c19",
         "x": [
          "8-1",
          "8-2",
          "8-3",
          "8-4",
          "8-5",
          "9-1",
          "9-2",
          "9-3",
          "9-4",
          "10-2",
          "10-3",
          "10-4",
          "10-5",
          "11-1"
         ],
         "y": [
          null,
          null,
          null,
          null,
          null,
          null,
          null,
          null,
          null,
          null,
          null,
          null,
          95.3,
          77.82
         ]
        },
        {
         "line": {
          "dash": "solid"
         },
         "name": "平均通过时长(北京组)",
         "type": "scatter",
         "uid": "db3837b7-e625-11e8-8ddb-a41f72875c19",
         "x": [
          "8-1",
          "8-2",
          "8-3",
          "8-4",
          "8-5",
          "9-1",
          "9-2",
          "9-3",
          "9-4",
          "10-2",
          "10-3",
          "10-4",
          "10-5",
          "11-1"
         ],
         "y": [
          21.03,
          32.65,
          16.84,
          10.54,
          23.82,
          15.1,
          22.28,
          38.57,
          26.16,
          16.62,
          13.39,
          19.8,
          38.8,
          23.73
         ]
        },
        {
         "line": {
          "dash": "dot"
         },
         "name": "平均通过时长(义乌组)",
         "type": "scatter",
         "uid": "db3837b8-e625-11e8-8ddb-a41f72875c19",
         "x": [
          "8-1",
          "8-2",
          "8-3",
          "8-4",
          "8-5",
          "9-1",
          "9-2",
          "9-3",
          "9-4",
          "10-2",
          "10-3",
          "10-4",
          "10-5",
          "11-1"
         ],
         "y": [
          null,
          null,
          null,
          null,
          null,
          null,
          null,
          null,
          null,
          null,
          null,
          null,
          95.3,
          41.22
         ]
        }
       ],
       "layout": {
        "title": "非一次通过平均时长&一次通过平均时长&通过时长Q80&平均通过时长周趋势图",
        "xaxis": {
         "mirror": "all",
         "nticks": 20,
         "showgrid": true,
         "showline": true,
         "title": "周",
         "type": "category",
         "zeroline": true
        },
        "yaxis": {
         "mirror": "all",
         "nticks": 20,
         "showgrid": true,
         "showline": true,
         "title": "非一次通过平均时长&一次通过平均时长&通过时长Q80&平均通过时长",
         "zeroline": true
        }
       }
      },
      "text/html": [
       "<div id=\"fac57a1c-fb7f-49e7-951f-341b8ef3949c\" style=\"height: 525px; width: 100%;\" class=\"plotly-graph-div\"></div><script type=\"text/javascript\">require([\"plotly\"], function(Plotly) { window.PLOTLYENV=window.PLOTLYENV || {};window.PLOTLYENV.BASE_URL=\"https://plot.ly\";Plotly.newPlot(\"fac57a1c-fb7f-49e7-951f-341b8ef3949c\", [{\"line\": {\"dash\": \"solid\"}, \"name\": \"\\u975e\\u4e00\\u6b21\\u901a\\u8fc7\\u5e73\\u5747\\u65f6\\u957f(\\u5317\\u4eac\\u7ec4)\", \"x\": [\"8-1\", \"8-2\", \"8-3\", \"8-4\", \"8-5\", \"9-1\", \"9-2\", \"9-3\", \"9-4\", \"10-2\", \"10-3\", \"10-4\", \"10-5\", \"11-1\"], \"y\": [30.81, 50.36, 22.7, 20.81, 35.65, 24.46, 37.75, 53.68, 34.52, 26.49, 23.02, 29.53, 61.87, 51.15], \"type\": \"scatter\", \"uid\": \"db3837b1-e625-11e8-8ddb-a41f72875c19\"}, {\"line\": {\"dash\": \"dot\"}, \"name\": \"\\u975e\\u4e00\\u6b21\\u901a\\u8fc7\\u5e73\\u5747\\u65f6\\u957f(\\u4e49\\u4e4c\\u7ec4)\", \"x\": [\"8-1\", \"8-2\", \"8-3\", \"8-4\", \"8-5\", \"9-1\", \"9-2\", \"9-3\", \"9-4\", \"10-2\", \"10-3\", \"10-4\", \"10-5\", \"11-1\"], \"y\": [null, null, null, null, null, null, null, null, null, null, null, null, 95.3, 77.82], \"type\": \"scatter\", \"uid\": \"db3837b2-e625-11e8-8ddb-a41f72875c19\"}, {\"line\": {\"dash\": \"solid\"}, \"name\": \"\\u4e00\\u6b21\\u901a\\u8fc7\\u5e73\\u5747\\u65f6\\u957f(\\u5317\\u4eac\\u7ec4)\", \"x\": [\"8-1\", \"8-2\", \"8-3\", \"8-4\", \"8-5\", \"9-1\", \"9-2\", \"9-3\", \"9-4\", \"10-2\", \"10-3\", \"10-4\", \"10-5\", \"11-1\"], \"y\": [11.95, 6.68, 3.81, 5.41, 3.11, 5.07, 6.43, 4.81, 4.68, 4.25, 3.71, 4.23, 3.35, 4.75], \"type\": \"scatter\", \"uid\": \"db3837b3-e625-11e8-8ddb-a41f72875c19\"}, {\"line\": {\"dash\": \"dot\"}, \"name\": \"\\u4e00\\u6b21\\u901a\\u8fc7\\u5e73\\u5747\\u65f6\\u957f(\\u4e49\\u4e4c\\u7ec4)\", \"x\": [\"8-1\", \"8-2\", \"8-3\", \"8-4\", \"8-5\", \"9-1\", \"9-2\", \"9-3\", \"9-4\", \"10-2\", \"10-3\", \"10-4\", \"10-5\", \"11-1\"], \"y\": [null, null, null, null, null, null, null, null, null, null, null, null, 0.0, 4.5], \"type\": \"scatter\", \"uid\": \"db3837b4-e625-11e8-8ddb-a41f72875c19\"}, {\"line\": {\"dash\": \"solid\"}, \"name\": \"\\u901a\\u8fc7\\u65f6\\u957fQ80(\\u5317\\u4eac\\u7ec4)\", \"x\": [\"8-1\", \"8-2\", \"8-3\", \"8-4\", \"8-5\", \"9-1\", \"9-2\", \"9-3\", \"9-4\", \"10-2\", \"10-3\", \"10-4\", \"10-5\", \"11-1\"], \"y\": [35.07, 59.13, 33.87, 27.27, 29.73, 24.2, 31.5, 64.5, 50.73, 25.83, 22.47, 31.62, 77.87, 32.67], \"type\": \"scatter\", \"uid\": \"db3837b5-e625-11e8-8ddb-a41f72875c19\"}, {\"line\": {\"dash\": \"dot\"}, \"name\": \"\\u901a\\u8fc7\\u65f6\\u957fQ80(\\u4e49\\u4e4c\\u7ec4)\", \"x\": [\"8-1\", \"8-2\", \"8-3\", \"8-4\", \"8-5\", \"9-1\", \"9-2\", \"9-3\", \"9-4\", \"10-2\", \"10-3\", \"10-4\", \"10-5\", \"11-1\"], \"y\": [null, null, null, null, null, null, null, null, null, null, null, null, 95.3, 77.82], \"type\": \"scatter\", \"uid\": \"db3837b6-e625-11e8-8ddb-a41f72875c19\"}, {\"line\": {\"dash\": \"solid\"}, \"name\": \"\\u5e73\\u5747\\u901a\\u8fc7\\u65f6\\u957f(\\u5317\\u4eac\\u7ec4)\", \"x\": [\"8-1\", \"8-2\", \"8-3\", \"8-4\", \"8-5\", \"9-1\", \"9-2\", \"9-3\", \"9-4\", \"10-2\", \"10-3\", \"10-4\", \"10-5\", \"11-1\"], \"y\": [21.03, 32.65, 16.84, 10.54, 23.82, 15.1, 22.28, 38.57, 26.16, 16.62, 13.39, 19.8, 38.8, 23.73], \"type\": \"scatter\", \"uid\": \"db3837b7-e625-11e8-8ddb-a41f72875c19\"}, {\"line\": {\"dash\": \"dot\"}, \"name\": \"\\u5e73\\u5747\\u901a\\u8fc7\\u65f6\\u957f(\\u4e49\\u4e4c\\u7ec4)\", \"x\": [\"8-1\", \"8-2\", \"8-3\", \"8-4\", \"8-5\", \"9-1\", \"9-2\", \"9-3\", \"9-4\", \"10-2\", \"10-3\", \"10-4\", \"10-5\", \"11-1\"], \"y\": [null, null, null, null, null, null, null, null, null, null, null, null, 95.3, 41.22], \"type\": \"scatter\", \"uid\": \"db3837b8-e625-11e8-8ddb-a41f72875c19\"}], {\"title\": \"\\u975e\\u4e00\\u6b21\\u901a\\u8fc7\\u5e73\\u5747\\u65f6\\u957f&\\u4e00\\u6b21\\u901a\\u8fc7\\u5e73\\u5747\\u65f6\\u957f&\\u901a\\u8fc7\\u65f6\\u957fQ80&\\u5e73\\u5747\\u901a\\u8fc7\\u65f6\\u957f\\u5468\\u8d8b\\u52bf\\u56fe\", \"xaxis\": {\"mirror\": \"all\", \"nticks\": 20, \"showgrid\": true, \"showline\": true, \"title\": \"\\u5468\", \"type\": \"category\", \"zeroline\": true}, \"yaxis\": {\"mirror\": \"all\", \"nticks\": 20, \"showgrid\": true, \"showline\": true, \"title\": \"\\u975e\\u4e00\\u6b21\\u901a\\u8fc7\\u5e73\\u5747\\u65f6\\u957f&\\u4e00\\u6b21\\u901a\\u8fc7\\u5e73\\u5747\\u65f6\\u957f&\\u901a\\u8fc7\\u65f6\\u957fQ80&\\u5e73\\u5747\\u901a\\u8fc7\\u65f6\\u957f\", \"zeroline\": true}}, {\"showLink\": true, \"linkText\": \"Export to plot.ly\"})});</script>"
      ],
      "text/vnd.plotly.v1+html": [
       "<div id=\"fac57a1c-fb7f-49e7-951f-341b8ef3949c\" style=\"height: 525px; width: 100%;\" class=\"plotly-graph-div\"></div><script type=\"text/javascript\">require([\"plotly\"], function(Plotly) { window.PLOTLYENV=window.PLOTLYENV || {};window.PLOTLYENV.BASE_URL=\"https://plot.ly\";Plotly.newPlot(\"fac57a1c-fb7f-49e7-951f-341b8ef3949c\", [{\"line\": {\"dash\": \"solid\"}, \"name\": \"\\u975e\\u4e00\\u6b21\\u901a\\u8fc7\\u5e73\\u5747\\u65f6\\u957f(\\u5317\\u4eac\\u7ec4)\", \"x\": [\"8-1\", \"8-2\", \"8-3\", \"8-4\", \"8-5\", \"9-1\", \"9-2\", \"9-3\", \"9-4\", \"10-2\", \"10-3\", \"10-4\", \"10-5\", \"11-1\"], \"y\": [30.81, 50.36, 22.7, 20.81, 35.65, 24.46, 37.75, 53.68, 34.52, 26.49, 23.02, 29.53, 61.87, 51.15], \"type\": \"scatter\", \"uid\": \"db3837b1-e625-11e8-8ddb-a41f72875c19\"}, {\"line\": {\"dash\": \"dot\"}, \"name\": \"\\u975e\\u4e00\\u6b21\\u901a\\u8fc7\\u5e73\\u5747\\u65f6\\u957f(\\u4e49\\u4e4c\\u7ec4)\", \"x\": [\"8-1\", \"8-2\", \"8-3\", \"8-4\", \"8-5\", \"9-1\", \"9-2\", \"9-3\", \"9-4\", \"10-2\", \"10-3\", \"10-4\", \"10-5\", \"11-1\"], \"y\": [null, null, null, null, null, null, null, null, null, null, null, null, 95.3, 77.82], \"type\": \"scatter\", \"uid\": \"db3837b2-e625-11e8-8ddb-a41f72875c19\"}, {\"line\": {\"dash\": \"solid\"}, \"name\": \"\\u4e00\\u6b21\\u901a\\u8fc7\\u5e73\\u5747\\u65f6\\u957f(\\u5317\\u4eac\\u7ec4)\", \"x\": [\"8-1\", \"8-2\", \"8-3\", \"8-4\", \"8-5\", \"9-1\", \"9-2\", \"9-3\", \"9-4\", \"10-2\", \"10-3\", \"10-4\", \"10-5\", \"11-1\"], \"y\": [11.95, 6.68, 3.81, 5.41, 3.11, 5.07, 6.43, 4.81, 4.68, 4.25, 3.71, 4.23, 3.35, 4.75], \"type\": \"scatter\", \"uid\": \"db3837b3-e625-11e8-8ddb-a41f72875c19\"}, {\"line\": {\"dash\": \"dot\"}, \"name\": \"\\u4e00\\u6b21\\u901a\\u8fc7\\u5e73\\u5747\\u65f6\\u957f(\\u4e49\\u4e4c\\u7ec4)\", \"x\": [\"8-1\", \"8-2\", \"8-3\", \"8-4\", \"8-5\", \"9-1\", \"9-2\", \"9-3\", \"9-4\", \"10-2\", \"10-3\", \"10-4\", \"10-5\", \"11-1\"], \"y\": [null, null, null, null, null, null, null, null, null, null, null, null, 0.0, 4.5], \"type\": \"scatter\", \"uid\": \"db3837b4-e625-11e8-8ddb-a41f72875c19\"}, {\"line\": {\"dash\": \"solid\"}, \"name\": \"\\u901a\\u8fc7\\u65f6\\u957fQ80(\\u5317\\u4eac\\u7ec4)\", \"x\": [\"8-1\", \"8-2\", \"8-3\", \"8-4\", \"8-5\", \"9-1\", \"9-2\", \"9-3\", \"9-4\", \"10-2\", \"10-3\", \"10-4\", \"10-5\", \"11-1\"], \"y\": [35.07, 59.13, 33.87, 27.27, 29.73, 24.2, 31.5, 64.5, 50.73, 25.83, 22.47, 31.62, 77.87, 32.67], \"type\": \"scatter\", \"uid\": \"db3837b5-e625-11e8-8ddb-a41f72875c19\"}, {\"line\": {\"dash\": \"dot\"}, \"name\": \"\\u901a\\u8fc7\\u65f6\\u957fQ80(\\u4e49\\u4e4c\\u7ec4)\", \"x\": [\"8-1\", \"8-2\", \"8-3\", \"8-4\", \"8-5\", \"9-1\", \"9-2\", \"9-3\", \"9-4\", \"10-2\", \"10-3\", \"10-4\", \"10-5\", \"11-1\"], \"y\": [null, null, null, null, null, null, null, null, null, null, null, null, 95.3, 77.82], \"type\": \"scatter\", \"uid\": \"db3837b6-e625-11e8-8ddb-a41f72875c19\"}, {\"line\": {\"dash\": \"solid\"}, \"name\": \"\\u5e73\\u5747\\u901a\\u8fc7\\u65f6\\u957f(\\u5317\\u4eac\\u7ec4)\", \"x\": [\"8-1\", \"8-2\", \"8-3\", \"8-4\", \"8-5\", \"9-1\", \"9-2\", \"9-3\", \"9-4\", \"10-2\", \"10-3\", \"10-4\", \"10-5\", \"11-1\"], \"y\": [21.03, 32.65, 16.84, 10.54, 23.82, 15.1, 22.28, 38.57, 26.16, 16.62, 13.39, 19.8, 38.8, 23.73], \"type\": \"scatter\", \"uid\": \"db3837b7-e625-11e8-8ddb-a41f72875c19\"}, {\"line\": {\"dash\": \"dot\"}, \"name\": \"\\u5e73\\u5747\\u901a\\u8fc7\\u65f6\\u957f(\\u4e49\\u4e4c\\u7ec4)\", \"x\": [\"8-1\", \"8-2\", \"8-3\", \"8-4\", \"8-5\", \"9-1\", \"9-2\", \"9-3\", \"9-4\", \"10-2\", \"10-3\", \"10-4\", \"10-5\", \"11-1\"], \"y\": [null, null, null, null, null, null, null, null, null, null, null, null, 95.3, 41.22], \"type\": \"scatter\", \"uid\": \"db3837b8-e625-11e8-8ddb-a41f72875c19\"}], {\"title\": \"\\u975e\\u4e00\\u6b21\\u901a\\u8fc7\\u5e73\\u5747\\u65f6\\u957f&\\u4e00\\u6b21\\u901a\\u8fc7\\u5e73\\u5747\\u65f6\\u957f&\\u901a\\u8fc7\\u65f6\\u957fQ80&\\u5e73\\u5747\\u901a\\u8fc7\\u65f6\\u957f\\u5468\\u8d8b\\u52bf\\u56fe\", \"xaxis\": {\"mirror\": \"all\", \"nticks\": 20, \"showgrid\": true, \"showline\": true, \"title\": \"\\u5468\", \"type\": \"category\", \"zeroline\": true}, \"yaxis\": {\"mirror\": \"all\", \"nticks\": 20, \"showgrid\": true, \"showline\": true, \"title\": \"\\u975e\\u4e00\\u6b21\\u901a\\u8fc7\\u5e73\\u5747\\u65f6\\u957f&\\u4e00\\u6b21\\u901a\\u8fc7\\u5e73\\u5747\\u65f6\\u957f&\\u901a\\u8fc7\\u65f6\\u957fQ80&\\u5e73\\u5747\\u901a\\u8fc7\\u65f6\\u957f\", \"zeroline\": true}}, {\"showLink\": true, \"linkText\": \"Export to plot.ly\"})});</script>"
      ]
     },
     "metadata": {},
     "output_type": "display_data"
    }
   ],
   "source": [
    "ss = myModule.format(all_df2 ,\"日期（格式“月-周次”）\" ,['平均通过时长', '一次通过平均时长','非一次通过平均时长','通过时长Q80' ])\n",
    "myModule.myPlot(myModule.sort_by_index(ss.groupby('sum'))).plot('line')\n",
    "\n",
    "ss = myModule.format(all_df2 ,\"日期（格式“月-周次”）\" ,['平均通过时长', '一次通过平均时长','非一次通过平均时长','通过时长Q80' ])\n",
    "ss.add_group(\"组别\")\n",
    "myModule.myPlot(myModule.sort_by_index(ss.groupby('sum'))).plot('line')"
   ]
  },
  {
   "cell_type": "code",
   "execution_count": 164,
   "metadata": {
    "collapsed": false
   },
   "outputs": [
    {
     "data": {
      "application/vnd.plotly.v1+json": {
       "data": [
        {
         "name": "非一次通过平均时长",
         "type": "scatter",
         "uid": "db3837b9-e625-11e8-8ddb-a41f72875c19",
         "x": [
          8,
          9,
          10,
          11
         ],
         "y": [
          32.065999999999995,
          37.6025,
          47.242000000000004,
          64.485
         ]
        },
        {
         "name": "一次通过平均时长",
         "type": "scatter",
         "uid": "db3837ba-e625-11e8-8ddb-a41f72875c19",
         "x": [
          8,
          9,
          10,
          11
         ],
         "y": [
          6.192,
          5.2475,
          3.1079999999999997,
          4.625
         ]
        },
        {
         "name": "通过时长Q80",
         "type": "scatter",
         "uid": "db3837bb-e625-11e8-8ddb-a41f72875c19",
         "x": [
          8,
          9,
          10,
          11
         ],
         "y": [
          37.013999999999996,
          42.7325,
          50.618,
          55.245
         ]
        },
        {
         "name": "平均通过时长",
         "type": "scatter",
         "uid": "db3837bc-e625-11e8-8ddb-a41f72875c19",
         "x": [
          8,
          9,
          10,
          11
         ],
         "y": [
          20.976,
          25.5275,
          36.782000000000004,
          32.475
         ]
        }
       ],
       "layout": {
        "title": "非一次通过平均时长&一次通过平均时长&通过时长Q80&平均通过时长月趋势图",
        "xaxis": {
         "mirror": "all",
         "nticks": 20,
         "showgrid": true,
         "showline": true,
         "title": "月",
         "type": "category",
         "zeroline": true
        },
        "yaxis": {
         "mirror": "all",
         "nticks": 20,
         "showgrid": true,
         "showline": true,
         "title": "非一次通过平均时长&一次通过平均时长&通过时长Q80&平均通过时长",
         "zeroline": true
        }
       }
      },
      "text/html": [
       "<div id=\"77714ae5-9f58-4176-b2a7-9f7a41631e12\" style=\"height: 525px; width: 100%;\" class=\"plotly-graph-div\"></div><script type=\"text/javascript\">require([\"plotly\"], function(Plotly) { window.PLOTLYENV=window.PLOTLYENV || {};window.PLOTLYENV.BASE_URL=\"https://plot.ly\";Plotly.newPlot(\"77714ae5-9f58-4176-b2a7-9f7a41631e12\", [{\"name\": \"\\u975e\\u4e00\\u6b21\\u901a\\u8fc7\\u5e73\\u5747\\u65f6\\u957f\", \"x\": [8, 9, 10, 11], \"y\": [32.065999999999995, 37.6025, 47.242000000000004, 64.485], \"type\": \"scatter\", \"uid\": \"db3837b9-e625-11e8-8ddb-a41f72875c19\"}, {\"name\": \"\\u4e00\\u6b21\\u901a\\u8fc7\\u5e73\\u5747\\u65f6\\u957f\", \"x\": [8, 9, 10, 11], \"y\": [6.192, 5.2475, 3.1079999999999997, 4.625], \"type\": \"scatter\", \"uid\": \"db3837ba-e625-11e8-8ddb-a41f72875c19\"}, {\"name\": \"\\u901a\\u8fc7\\u65f6\\u957fQ80\", \"x\": [8, 9, 10, 11], \"y\": [37.013999999999996, 42.7325, 50.618, 55.245], \"type\": \"scatter\", \"uid\": \"db3837bb-e625-11e8-8ddb-a41f72875c19\"}, {\"name\": \"\\u5e73\\u5747\\u901a\\u8fc7\\u65f6\\u957f\", \"x\": [8, 9, 10, 11], \"y\": [20.976, 25.5275, 36.782000000000004, 32.475], \"type\": \"scatter\", \"uid\": \"db3837bc-e625-11e8-8ddb-a41f72875c19\"}], {\"title\": \"\\u975e\\u4e00\\u6b21\\u901a\\u8fc7\\u5e73\\u5747\\u65f6\\u957f&\\u4e00\\u6b21\\u901a\\u8fc7\\u5e73\\u5747\\u65f6\\u957f&\\u901a\\u8fc7\\u65f6\\u957fQ80&\\u5e73\\u5747\\u901a\\u8fc7\\u65f6\\u957f\\u6708\\u8d8b\\u52bf\\u56fe\", \"xaxis\": {\"mirror\": \"all\", \"nticks\": 20, \"showgrid\": true, \"showline\": true, \"title\": \"\\u6708\", \"type\": \"category\", \"zeroline\": true}, \"yaxis\": {\"mirror\": \"all\", \"nticks\": 20, \"showgrid\": true, \"showline\": true, \"title\": \"\\u975e\\u4e00\\u6b21\\u901a\\u8fc7\\u5e73\\u5747\\u65f6\\u957f&\\u4e00\\u6b21\\u901a\\u8fc7\\u5e73\\u5747\\u65f6\\u957f&\\u901a\\u8fc7\\u65f6\\u957fQ80&\\u5e73\\u5747\\u901a\\u8fc7\\u65f6\\u957f\", \"zeroline\": true}}, {\"showLink\": true, \"linkText\": \"Export to plot.ly\"})});</script>"
      ],
      "text/vnd.plotly.v1+html": [
       "<div id=\"77714ae5-9f58-4176-b2a7-9f7a41631e12\" style=\"height: 525px; width: 100%;\" class=\"plotly-graph-div\"></div><script type=\"text/javascript\">require([\"plotly\"], function(Plotly) { window.PLOTLYENV=window.PLOTLYENV || {};window.PLOTLYENV.BASE_URL=\"https://plot.ly\";Plotly.newPlot(\"77714ae5-9f58-4176-b2a7-9f7a41631e12\", [{\"name\": \"\\u975e\\u4e00\\u6b21\\u901a\\u8fc7\\u5e73\\u5747\\u65f6\\u957f\", \"x\": [8, 9, 10, 11], \"y\": [32.065999999999995, 37.6025, 47.242000000000004, 64.485], \"type\": \"scatter\", \"uid\": \"db3837b9-e625-11e8-8ddb-a41f72875c19\"}, {\"name\": \"\\u4e00\\u6b21\\u901a\\u8fc7\\u5e73\\u5747\\u65f6\\u957f\", \"x\": [8, 9, 10, 11], \"y\": [6.192, 5.2475, 3.1079999999999997, 4.625], \"type\": \"scatter\", \"uid\": \"db3837ba-e625-11e8-8ddb-a41f72875c19\"}, {\"name\": \"\\u901a\\u8fc7\\u65f6\\u957fQ80\", \"x\": [8, 9, 10, 11], \"y\": [37.013999999999996, 42.7325, 50.618, 55.245], \"type\": \"scatter\", \"uid\": \"db3837bb-e625-11e8-8ddb-a41f72875c19\"}, {\"name\": \"\\u5e73\\u5747\\u901a\\u8fc7\\u65f6\\u957f\", \"x\": [8, 9, 10, 11], \"y\": [20.976, 25.5275, 36.782000000000004, 32.475], \"type\": \"scatter\", \"uid\": \"db3837bc-e625-11e8-8ddb-a41f72875c19\"}], {\"title\": \"\\u975e\\u4e00\\u6b21\\u901a\\u8fc7\\u5e73\\u5747\\u65f6\\u957f&\\u4e00\\u6b21\\u901a\\u8fc7\\u5e73\\u5747\\u65f6\\u957f&\\u901a\\u8fc7\\u65f6\\u957fQ80&\\u5e73\\u5747\\u901a\\u8fc7\\u65f6\\u957f\\u6708\\u8d8b\\u52bf\\u56fe\", \"xaxis\": {\"mirror\": \"all\", \"nticks\": 20, \"showgrid\": true, \"showline\": true, \"title\": \"\\u6708\", \"type\": \"category\", \"zeroline\": true}, \"yaxis\": {\"mirror\": \"all\", \"nticks\": 20, \"showgrid\": true, \"showline\": true, \"title\": \"\\u975e\\u4e00\\u6b21\\u901a\\u8fc7\\u5e73\\u5747\\u65f6\\u957f&\\u4e00\\u6b21\\u901a\\u8fc7\\u5e73\\u5747\\u65f6\\u957f&\\u901a\\u8fc7\\u65f6\\u957fQ80&\\u5e73\\u5747\\u901a\\u8fc7\\u65f6\\u957f\", \"zeroline\": true}}, {\"showLink\": true, \"linkText\": \"Export to plot.ly\"})});</script>"
      ]
     },
     "metadata": {},
     "output_type": "display_data"
    },
    {
     "data": {
      "application/vnd.plotly.v1+json": {
       "data": [
        {
         "line": {
          "dash": "solid"
         },
         "name": "非一次通过平均时长(北京组)",
         "type": "scatter",
         "uid": "db3837bd-e625-11e8-8ddb-a41f72875c19",
         "x": [
          8,
          9,
          10,
          11
         ],
         "y": [
          32.065999999999995,
          37.6025,
          35.2275,
          51.15
         ]
        },
        {
         "line": {
          "dash": "dot"
         },
         "name": "非一次通过平均时长(义乌组)",
         "type": "scatter",
         "uid": "db3837be-e625-11e8-8ddb-a41f72875c19",
         "x": [
          8,
          9,
          10,
          11
         ],
         "y": [
          null,
          null,
          95.3,
          77.82
         ]
        },
        {
         "line": {
          "dash": "solid"
         },
         "name": "一次通过平均时长(北京组)",
         "type": "scatter",
         "uid": "db3837bf-e625-11e8-8ddb-a41f72875c19",
         "x": [
          8,
          9,
          10,
          11
         ],
         "y": [
          6.192,
          5.2475,
          3.885,
          4.75
         ]
        },
        {
         "line": {
          "dash": "dot"
         },
         "name": "一次通过平均时长(义乌组)",
         "type": "scatter",
         "uid": "db3837c0-e625-11e8-8ddb-a41f72875c19",
         "x": [
          8,
          9,
          10,
          11
         ],
         "y": [
          null,
          null,
          0,
          4.5
         ]
        },
        {
         "line": {
          "dash": "solid"
         },
         "name": "通过时长Q80(北京组)",
         "type": "scatter",
         "uid": "db3837c1-e625-11e8-8ddb-a41f72875c19",
         "x": [
          8,
          9,
          10,
          11
         ],
         "y": [
          37.013999999999996,
          42.7325,
          39.4475,
          32.67
         ]
        },
        {
         "line": {
          "dash": "dot"
         },
         "name": "通过时长Q80(义乌组)",
         "type": "scatter",
         "uid": "db3837c2-e625-11e8-8ddb-a41f72875c19",
         "x": [
          8,
          9,
          10,
          11
         ],
         "y": [
          null,
          null,
          95.3,
          77.82
         ]
        },
        {
         "line": {
          "dash": "solid"
         },
         "name": "平均通过时长(北京组)",
         "type": "scatter",
         "uid": "db3837c3-e625-11e8-8ddb-a41f72875c19",
         "x": [
          8,
          9,
          10,
          11
         ],
         "y": [
          20.976,
          25.5275,
          22.1525,
          23.73
         ]
        },
        {
         "line": {
          "dash": "dot"
         },
         "name": "平均通过时长(义乌组)",
         "type": "scatter",
         "uid": "db3837c4-e625-11e8-8ddb-a41f72875c19",
         "x": [
          8,
          9,
          10,
          11
         ],
         "y": [
          null,
          null,
          95.3,
          41.22
         ]
        }
       ],
       "layout": {
        "title": "非一次通过平均时长&一次通过平均时长&通过时长Q80&平均通过时长月趋势图",
        "xaxis": {
         "mirror": "all",
         "nticks": 20,
         "showgrid": true,
         "showline": true,
         "title": "月",
         "type": "category",
         "zeroline": true
        },
        "yaxis": {
         "mirror": "all",
         "nticks": 20,
         "showgrid": true,
         "showline": true,
         "title": "非一次通过平均时长&一次通过平均时长&通过时长Q80&平均通过时长",
         "zeroline": true
        }
       }
      },
      "text/html": [
       "<div id=\"a52668d1-cdc5-43d2-9626-c510f213099b\" style=\"height: 525px; width: 100%;\" class=\"plotly-graph-div\"></div><script type=\"text/javascript\">require([\"plotly\"], function(Plotly) { window.PLOTLYENV=window.PLOTLYENV || {};window.PLOTLYENV.BASE_URL=\"https://plot.ly\";Plotly.newPlot(\"a52668d1-cdc5-43d2-9626-c510f213099b\", [{\"line\": {\"dash\": \"solid\"}, \"name\": \"\\u975e\\u4e00\\u6b21\\u901a\\u8fc7\\u5e73\\u5747\\u65f6\\u957f(\\u5317\\u4eac\\u7ec4)\", \"x\": [8, 9, 10, 11], \"y\": [32.065999999999995, 37.6025, 35.2275, 51.15], \"type\": \"scatter\", \"uid\": \"db3837bd-e625-11e8-8ddb-a41f72875c19\"}, {\"line\": {\"dash\": \"dot\"}, \"name\": \"\\u975e\\u4e00\\u6b21\\u901a\\u8fc7\\u5e73\\u5747\\u65f6\\u957f(\\u4e49\\u4e4c\\u7ec4)\", \"x\": [8, 9, 10, 11], \"y\": [null, null, 95.3, 77.82], \"type\": \"scatter\", \"uid\": \"db3837be-e625-11e8-8ddb-a41f72875c19\"}, {\"line\": {\"dash\": \"solid\"}, \"name\": \"\\u4e00\\u6b21\\u901a\\u8fc7\\u5e73\\u5747\\u65f6\\u957f(\\u5317\\u4eac\\u7ec4)\", \"x\": [8, 9, 10, 11], \"y\": [6.192, 5.2475, 3.885, 4.75], \"type\": \"scatter\", \"uid\": \"db3837bf-e625-11e8-8ddb-a41f72875c19\"}, {\"line\": {\"dash\": \"dot\"}, \"name\": \"\\u4e00\\u6b21\\u901a\\u8fc7\\u5e73\\u5747\\u65f6\\u957f(\\u4e49\\u4e4c\\u7ec4)\", \"x\": [8, 9, 10, 11], \"y\": [null, null, 0.0, 4.5], \"type\": \"scatter\", \"uid\": \"db3837c0-e625-11e8-8ddb-a41f72875c19\"}, {\"line\": {\"dash\": \"solid\"}, \"name\": \"\\u901a\\u8fc7\\u65f6\\u957fQ80(\\u5317\\u4eac\\u7ec4)\", \"x\": [8, 9, 10, 11], \"y\": [37.013999999999996, 42.7325, 39.4475, 32.67], \"type\": \"scatter\", \"uid\": \"db3837c1-e625-11e8-8ddb-a41f72875c19\"}, {\"line\": {\"dash\": \"dot\"}, \"name\": \"\\u901a\\u8fc7\\u65f6\\u957fQ80(\\u4e49\\u4e4c\\u7ec4)\", \"x\": [8, 9, 10, 11], \"y\": [null, null, 95.3, 77.82], \"type\": \"scatter\", \"uid\": \"db3837c2-e625-11e8-8ddb-a41f72875c19\"}, {\"line\": {\"dash\": \"solid\"}, \"name\": \"\\u5e73\\u5747\\u901a\\u8fc7\\u65f6\\u957f(\\u5317\\u4eac\\u7ec4)\", \"x\": [8, 9, 10, 11], \"y\": [20.976, 25.5275, 22.1525, 23.73], \"type\": \"scatter\", \"uid\": \"db3837c3-e625-11e8-8ddb-a41f72875c19\"}, {\"line\": {\"dash\": \"dot\"}, \"name\": \"\\u5e73\\u5747\\u901a\\u8fc7\\u65f6\\u957f(\\u4e49\\u4e4c\\u7ec4)\", \"x\": [8, 9, 10, 11], \"y\": [null, null, 95.3, 41.22], \"type\": \"scatter\", \"uid\": \"db3837c4-e625-11e8-8ddb-a41f72875c19\"}], {\"title\": \"\\u975e\\u4e00\\u6b21\\u901a\\u8fc7\\u5e73\\u5747\\u65f6\\u957f&\\u4e00\\u6b21\\u901a\\u8fc7\\u5e73\\u5747\\u65f6\\u957f&\\u901a\\u8fc7\\u65f6\\u957fQ80&\\u5e73\\u5747\\u901a\\u8fc7\\u65f6\\u957f\\u6708\\u8d8b\\u52bf\\u56fe\", \"xaxis\": {\"mirror\": \"all\", \"nticks\": 20, \"showgrid\": true, \"showline\": true, \"title\": \"\\u6708\", \"type\": \"category\", \"zeroline\": true}, \"yaxis\": {\"mirror\": \"all\", \"nticks\": 20, \"showgrid\": true, \"showline\": true, \"title\": \"\\u975e\\u4e00\\u6b21\\u901a\\u8fc7\\u5e73\\u5747\\u65f6\\u957f&\\u4e00\\u6b21\\u901a\\u8fc7\\u5e73\\u5747\\u65f6\\u957f&\\u901a\\u8fc7\\u65f6\\u957fQ80&\\u5e73\\u5747\\u901a\\u8fc7\\u65f6\\u957f\", \"zeroline\": true}}, {\"showLink\": true, \"linkText\": \"Export to plot.ly\"})});</script>"
      ],
      "text/vnd.plotly.v1+html": [
       "<div id=\"a52668d1-cdc5-43d2-9626-c510f213099b\" style=\"height: 525px; width: 100%;\" class=\"plotly-graph-div\"></div><script type=\"text/javascript\">require([\"plotly\"], function(Plotly) { window.PLOTLYENV=window.PLOTLYENV || {};window.PLOTLYENV.BASE_URL=\"https://plot.ly\";Plotly.newPlot(\"a52668d1-cdc5-43d2-9626-c510f213099b\", [{\"line\": {\"dash\": \"solid\"}, \"name\": \"\\u975e\\u4e00\\u6b21\\u901a\\u8fc7\\u5e73\\u5747\\u65f6\\u957f(\\u5317\\u4eac\\u7ec4)\", \"x\": [8, 9, 10, 11], \"y\": [32.065999999999995, 37.6025, 35.2275, 51.15], \"type\": \"scatter\", \"uid\": \"db3837bd-e625-11e8-8ddb-a41f72875c19\"}, {\"line\": {\"dash\": \"dot\"}, \"name\": \"\\u975e\\u4e00\\u6b21\\u901a\\u8fc7\\u5e73\\u5747\\u65f6\\u957f(\\u4e49\\u4e4c\\u7ec4)\", \"x\": [8, 9, 10, 11], \"y\": [null, null, 95.3, 77.82], \"type\": \"scatter\", \"uid\": \"db3837be-e625-11e8-8ddb-a41f72875c19\"}, {\"line\": {\"dash\": \"solid\"}, \"name\": \"\\u4e00\\u6b21\\u901a\\u8fc7\\u5e73\\u5747\\u65f6\\u957f(\\u5317\\u4eac\\u7ec4)\", \"x\": [8, 9, 10, 11], \"y\": [6.192, 5.2475, 3.885, 4.75], \"type\": \"scatter\", \"uid\": \"db3837bf-e625-11e8-8ddb-a41f72875c19\"}, {\"line\": {\"dash\": \"dot\"}, \"name\": \"\\u4e00\\u6b21\\u901a\\u8fc7\\u5e73\\u5747\\u65f6\\u957f(\\u4e49\\u4e4c\\u7ec4)\", \"x\": [8, 9, 10, 11], \"y\": [null, null, 0.0, 4.5], \"type\": \"scatter\", \"uid\": \"db3837c0-e625-11e8-8ddb-a41f72875c19\"}, {\"line\": {\"dash\": \"solid\"}, \"name\": \"\\u901a\\u8fc7\\u65f6\\u957fQ80(\\u5317\\u4eac\\u7ec4)\", \"x\": [8, 9, 10, 11], \"y\": [37.013999999999996, 42.7325, 39.4475, 32.67], \"type\": \"scatter\", \"uid\": \"db3837c1-e625-11e8-8ddb-a41f72875c19\"}, {\"line\": {\"dash\": \"dot\"}, \"name\": \"\\u901a\\u8fc7\\u65f6\\u957fQ80(\\u4e49\\u4e4c\\u7ec4)\", \"x\": [8, 9, 10, 11], \"y\": [null, null, 95.3, 77.82], \"type\": \"scatter\", \"uid\": \"db3837c2-e625-11e8-8ddb-a41f72875c19\"}, {\"line\": {\"dash\": \"solid\"}, \"name\": \"\\u5e73\\u5747\\u901a\\u8fc7\\u65f6\\u957f(\\u5317\\u4eac\\u7ec4)\", \"x\": [8, 9, 10, 11], \"y\": [20.976, 25.5275, 22.1525, 23.73], \"type\": \"scatter\", \"uid\": \"db3837c3-e625-11e8-8ddb-a41f72875c19\"}, {\"line\": {\"dash\": \"dot\"}, \"name\": \"\\u5e73\\u5747\\u901a\\u8fc7\\u65f6\\u957f(\\u4e49\\u4e4c\\u7ec4)\", \"x\": [8, 9, 10, 11], \"y\": [null, null, 95.3, 41.22], \"type\": \"scatter\", \"uid\": \"db3837c4-e625-11e8-8ddb-a41f72875c19\"}], {\"title\": \"\\u975e\\u4e00\\u6b21\\u901a\\u8fc7\\u5e73\\u5747\\u65f6\\u957f&\\u4e00\\u6b21\\u901a\\u8fc7\\u5e73\\u5747\\u65f6\\u957f&\\u901a\\u8fc7\\u65f6\\u957fQ80&\\u5e73\\u5747\\u901a\\u8fc7\\u65f6\\u957f\\u6708\\u8d8b\\u52bf\\u56fe\", \"xaxis\": {\"mirror\": \"all\", \"nticks\": 20, \"showgrid\": true, \"showline\": true, \"title\": \"\\u6708\", \"type\": \"category\", \"zeroline\": true}, \"yaxis\": {\"mirror\": \"all\", \"nticks\": 20, \"showgrid\": true, \"showline\": true, \"title\": \"\\u975e\\u4e00\\u6b21\\u901a\\u8fc7\\u5e73\\u5747\\u65f6\\u957f&\\u4e00\\u6b21\\u901a\\u8fc7\\u5e73\\u5747\\u65f6\\u957f&\\u901a\\u8fc7\\u65f6\\u957fQ80&\\u5e73\\u5747\\u901a\\u8fc7\\u65f6\\u957f\", \"zeroline\": true}}, {\"showLink\": true, \"linkText\": \"Export to plot.ly\"})});</script>"
      ]
     },
     "metadata": {},
     "output_type": "display_data"
    }
   ],
   "source": [
    "ss = myModule.format(all_df2 ,\"month\" ,['平均通过时长', '一次通过平均时长','非一次通过平均时长','通过时长Q80' ])\n",
    "myModule.myPlot(ss.groupby('mean')).plot('line','月')\n",
    "\n",
    "ss = myModule.format(all_df2 ,\"month\" ,['平均通过时长', '一次通过平均时长','非一次通过平均时长','通过时长Q80' ])\n",
    "ss.add_group(\"组别\")\n",
    "myModule.myPlot(ss.groupby('mean')).plot('line','月')"
   ]
  },
  {
   "cell_type": "markdown",
   "metadata": {},
   "source": [
    "### 重点关注！：一次通过平均时长，xten一次通过时长，NovaS4一次通过时长"
   ]
  },
  {
   "cell_type": "code",
   "execution_count": 165,
   "metadata": {
    "collapsed": false
   },
   "outputs": [
    {
     "data": {
      "application/vnd.plotly.v1+json": {
       "data": [
        {
         "name": "xten一次通过时长",
         "type": "scatter",
         "uid": "db3837c5-e625-11e8-8ddb-a41f72875c19",
         "x": [
          "8-1",
          "8-2",
          "8-3",
          "8-4",
          "8-5",
          "9-1",
          "9-2",
          "9-3",
          "9-4",
          "10-2",
          "10-3",
          "10-4",
          "10-5",
          "11-1"
         ],
         "y": [
          5.74,
          6.69,
          3.34,
          3.78,
          2.97,
          3.58,
          4.77,
          3.37,
          4.08,
          4.25,
          3.42,
          3.35,
          4.4,
          3.09
         ]
        },
        {
         "name": "NovaS4一次通过时长",
         "type": "scatter",
         "uid": "db3837c6-e625-11e8-8ddb-a41f72875c19",
         "x": [
          "8-1",
          "8-2",
          "8-3",
          "8-4",
          "8-5",
          "9-1",
          "9-2",
          "9-3",
          "9-4",
          "10-2",
          "10-3",
          "10-4",
          "10-5",
          "11-1"
         ],
         "y": [
          13.29,
          4.73,
          10.54,
          10.54,
          0,
          14.88,
          9.9,
          0,
          0,
          4.66,
          5.87,
          8.25,
          7.3,
          11.92
         ]
        },
        {
         "name": "一次通过平均时长",
         "type": "scatter",
         "uid": "db3837c7-e625-11e8-8ddb-a41f72875c19",
         "x": [
          "8-1",
          "8-2",
          "8-3",
          "8-4",
          "8-5",
          "9-1",
          "9-2",
          "9-3",
          "9-4",
          "10-2",
          "10-3",
          "10-4",
          "10-5",
          "11-1"
         ],
         "y": [
          11.95,
          6.68,
          3.81,
          5.41,
          3.11,
          5.07,
          6.43,
          4.81,
          4.68,
          4.25,
          3.71,
          4.23,
          3.35,
          9.25
         ]
        }
       ],
       "layout": {
        "title": "xten一次通过时长&NovaS4一次通过时长&一次通过平均时长周趋势图",
        "xaxis": {
         "mirror": "all",
         "nticks": 20,
         "showgrid": true,
         "showline": true,
         "title": "周",
         "type": "category",
         "zeroline": true
        },
        "yaxis": {
         "mirror": "all",
         "nticks": 20,
         "showgrid": true,
         "showline": true,
         "title": "xten一次通过时长&NovaS4一次通过时长&一次通过平均时长",
         "zeroline": true
        }
       }
      },
      "text/html": [
       "<div id=\"001f9a02-54ed-485f-b485-c3442e800c1f\" style=\"height: 525px; width: 100%;\" class=\"plotly-graph-div\"></div><script type=\"text/javascript\">require([\"plotly\"], function(Plotly) { window.PLOTLYENV=window.PLOTLYENV || {};window.PLOTLYENV.BASE_URL=\"https://plot.ly\";Plotly.newPlot(\"001f9a02-54ed-485f-b485-c3442e800c1f\", [{\"name\": \"xten\\u4e00\\u6b21\\u901a\\u8fc7\\u65f6\\u957f\", \"x\": [\"8-1\", \"8-2\", \"8-3\", \"8-4\", \"8-5\", \"9-1\", \"9-2\", \"9-3\", \"9-4\", \"10-2\", \"10-3\", \"10-4\", \"10-5\", \"11-1\"], \"y\": [5.74, 6.69, 3.34, 3.78, 2.97, 3.58, 4.77, 3.37, 4.08, 4.25, 3.42, 3.35, 4.4, 3.09], \"type\": \"scatter\", \"uid\": \"db3837c5-e625-11e8-8ddb-a41f72875c19\"}, {\"name\": \"NovaS4\\u4e00\\u6b21\\u901a\\u8fc7\\u65f6\\u957f\", \"x\": [\"8-1\", \"8-2\", \"8-3\", \"8-4\", \"8-5\", \"9-1\", \"9-2\", \"9-3\", \"9-4\", \"10-2\", \"10-3\", \"10-4\", \"10-5\", \"11-1\"], \"y\": [13.29, 4.73, 10.54, 10.54, 0.0, 14.88, 9.9, 0.0, 0.0, 4.66, 5.87, 8.25, 7.3, 11.92], \"type\": \"scatter\", \"uid\": \"db3837c6-e625-11e8-8ddb-a41f72875c19\"}, {\"name\": \"\\u4e00\\u6b21\\u901a\\u8fc7\\u5e73\\u5747\\u65f6\\u957f\", \"x\": [\"8-1\", \"8-2\", \"8-3\", \"8-4\", \"8-5\", \"9-1\", \"9-2\", \"9-3\", \"9-4\", \"10-2\", \"10-3\", \"10-4\", \"10-5\", \"11-1\"], \"y\": [11.95, 6.68, 3.81, 5.41, 3.11, 5.07, 6.43, 4.81, 4.68, 4.25, 3.71, 4.23, 3.35, 9.25], \"type\": \"scatter\", \"uid\": \"db3837c7-e625-11e8-8ddb-a41f72875c19\"}], {\"title\": \"xten\\u4e00\\u6b21\\u901a\\u8fc7\\u65f6\\u957f&NovaS4\\u4e00\\u6b21\\u901a\\u8fc7\\u65f6\\u957f&\\u4e00\\u6b21\\u901a\\u8fc7\\u5e73\\u5747\\u65f6\\u957f\\u5468\\u8d8b\\u52bf\\u56fe\", \"xaxis\": {\"mirror\": \"all\", \"nticks\": 20, \"showgrid\": true, \"showline\": true, \"title\": \"\\u5468\", \"type\": \"category\", \"zeroline\": true}, \"yaxis\": {\"mirror\": \"all\", \"nticks\": 20, \"showgrid\": true, \"showline\": true, \"title\": \"xten\\u4e00\\u6b21\\u901a\\u8fc7\\u65f6\\u957f&NovaS4\\u4e00\\u6b21\\u901a\\u8fc7\\u65f6\\u957f&\\u4e00\\u6b21\\u901a\\u8fc7\\u5e73\\u5747\\u65f6\\u957f\", \"zeroline\": true}}, {\"showLink\": true, \"linkText\": \"Export to plot.ly\"})});</script>"
      ],
      "text/vnd.plotly.v1+html": [
       "<div id=\"001f9a02-54ed-485f-b485-c3442e800c1f\" style=\"height: 525px; width: 100%;\" class=\"plotly-graph-div\"></div><script type=\"text/javascript\">require([\"plotly\"], function(Plotly) { window.PLOTLYENV=window.PLOTLYENV || {};window.PLOTLYENV.BASE_URL=\"https://plot.ly\";Plotly.newPlot(\"001f9a02-54ed-485f-b485-c3442e800c1f\", [{\"name\": \"xten\\u4e00\\u6b21\\u901a\\u8fc7\\u65f6\\u957f\", \"x\": [\"8-1\", \"8-2\", \"8-3\", \"8-4\", \"8-5\", \"9-1\", \"9-2\", \"9-3\", \"9-4\", \"10-2\", \"10-3\", \"10-4\", \"10-5\", \"11-1\"], \"y\": [5.74, 6.69, 3.34, 3.78, 2.97, 3.58, 4.77, 3.37, 4.08, 4.25, 3.42, 3.35, 4.4, 3.09], \"type\": \"scatter\", \"uid\": \"db3837c5-e625-11e8-8ddb-a41f72875c19\"}, {\"name\": \"NovaS4\\u4e00\\u6b21\\u901a\\u8fc7\\u65f6\\u957f\", \"x\": [\"8-1\", \"8-2\", \"8-3\", \"8-4\", \"8-5\", \"9-1\", \"9-2\", \"9-3\", \"9-4\", \"10-2\", \"10-3\", \"10-4\", \"10-5\", \"11-1\"], \"y\": [13.29, 4.73, 10.54, 10.54, 0.0, 14.88, 9.9, 0.0, 0.0, 4.66, 5.87, 8.25, 7.3, 11.92], \"type\": \"scatter\", \"uid\": \"db3837c6-e625-11e8-8ddb-a41f72875c19\"}, {\"name\": \"\\u4e00\\u6b21\\u901a\\u8fc7\\u5e73\\u5747\\u65f6\\u957f\", \"x\": [\"8-1\", \"8-2\", \"8-3\", \"8-4\", \"8-5\", \"9-1\", \"9-2\", \"9-3\", \"9-4\", \"10-2\", \"10-3\", \"10-4\", \"10-5\", \"11-1\"], \"y\": [11.95, 6.68, 3.81, 5.41, 3.11, 5.07, 6.43, 4.81, 4.68, 4.25, 3.71, 4.23, 3.35, 9.25], \"type\": \"scatter\", \"uid\": \"db3837c7-e625-11e8-8ddb-a41f72875c19\"}], {\"title\": \"xten\\u4e00\\u6b21\\u901a\\u8fc7\\u65f6\\u957f&NovaS4\\u4e00\\u6b21\\u901a\\u8fc7\\u65f6\\u957f&\\u4e00\\u6b21\\u901a\\u8fc7\\u5e73\\u5747\\u65f6\\u957f\\u5468\\u8d8b\\u52bf\\u56fe\", \"xaxis\": {\"mirror\": \"all\", \"nticks\": 20, \"showgrid\": true, \"showline\": true, \"title\": \"\\u5468\", \"type\": \"category\", \"zeroline\": true}, \"yaxis\": {\"mirror\": \"all\", \"nticks\": 20, \"showgrid\": true, \"showline\": true, \"title\": \"xten\\u4e00\\u6b21\\u901a\\u8fc7\\u65f6\\u957f&NovaS4\\u4e00\\u6b21\\u901a\\u8fc7\\u65f6\\u957f&\\u4e00\\u6b21\\u901a\\u8fc7\\u5e73\\u5747\\u65f6\\u957f\", \"zeroline\": true}}, {\"showLink\": true, \"linkText\": \"Export to plot.ly\"})});</script>"
      ]
     },
     "metadata": {},
     "output_type": "display_data"
    },
    {
     "data": {
      "application/vnd.plotly.v1+json": {
       "data": [
        {
         "line": {
          "dash": "solid"
         },
         "name": "xten一次通过时长(北京组)",
         "type": "scatter",
         "uid": "db3837c8-e625-11e8-8ddb-a41f72875c19",
         "x": [
          "8-1",
          "8-2",
          "8-3",
          "8-4",
          "8-5",
          "9-1",
          "9-2",
          "9-3",
          "9-4",
          "10-2",
          "10-3",
          "10-4",
          "10-5",
          "11-1"
         ],
         "y": [
          5.74,
          6.69,
          3.34,
          3.78,
          2.97,
          3.58,
          4.77,
          3.37,
          4.08,
          4.25,
          3.42,
          3.35,
          4.4,
          3.09
         ]
        },
        {
         "line": {
          "dash": "dot"
         },
         "name": "xten一次通过时长(义乌组)",
         "type": "scatter",
         "uid": "db3837c9-e625-11e8-8ddb-a41f72875c19",
         "x": [
          "8-1",
          "8-2",
          "8-3",
          "8-4",
          "8-5",
          "9-1",
          "9-2",
          "9-3",
          "9-4",
          "10-2",
          "10-3",
          "10-4",
          "10-5",
          "11-1"
         ],
         "y": [
          null,
          null,
          null,
          null,
          null,
          null,
          null,
          null,
          null,
          null,
          null,
          null,
          0,
          0
         ]
        },
        {
         "line": {
          "dash": "solid"
         },
         "name": "NovaS4一次通过时长(北京组)",
         "type": "scatter",
         "uid": "db3837ca-e625-11e8-8ddb-a41f72875c19",
         "x": [
          "8-1",
          "8-2",
          "8-3",
          "8-4",
          "8-5",
          "9-1",
          "9-2",
          "9-3",
          "9-4",
          "10-2",
          "10-3",
          "10-4",
          "10-5",
          "11-1"
         ],
         "y": [
          13.29,
          4.73,
          10.54,
          10.54,
          0,
          14.88,
          9.9,
          0,
          0,
          4.66,
          5.87,
          8.25,
          7.3,
          7.3
         ]
        },
        {
         "line": {
          "dash": "dot"
         },
         "name": "NovaS4一次通过时长(义乌组)",
         "type": "scatter",
         "uid": "db3837cb-e625-11e8-8ddb-a41f72875c19",
         "x": [
          "8-1",
          "8-2",
          "8-3",
          "8-4",
          "8-5",
          "9-1",
          "9-2",
          "9-3",
          "9-4",
          "10-2",
          "10-3",
          "10-4",
          "10-5",
          "11-1"
         ],
         "y": [
          null,
          null,
          null,
          null,
          null,
          null,
          null,
          null,
          null,
          null,
          null,
          null,
          0,
          4.62
         ]
        },
        {
         "line": {
          "dash": "solid"
         },
         "name": "一次通过平均时长(北京组)",
         "type": "scatter",
         "uid": "db3837cc-e625-11e8-8ddb-a41f72875c19",
         "x": [
          "8-1",
          "8-2",
          "8-3",
          "8-4",
          "8-5",
          "9-1",
          "9-2",
          "9-3",
          "9-4",
          "10-2",
          "10-3",
          "10-4",
          "10-5",
          "11-1"
         ],
         "y": [
          11.95,
          6.68,
          3.81,
          5.41,
          3.11,
          5.07,
          6.43,
          4.81,
          4.68,
          4.25,
          3.71,
          4.23,
          3.35,
          4.75
         ]
        },
        {
         "line": {
          "dash": "dot"
         },
         "name": "一次通过平均时长(义乌组)",
         "type": "scatter",
         "uid": "db3837cd-e625-11e8-8ddb-a41f72875c19",
         "x": [
          "8-1",
          "8-2",
          "8-3",
          "8-4",
          "8-5",
          "9-1",
          "9-2",
          "9-3",
          "9-4",
          "10-2",
          "10-3",
          "10-4",
          "10-5",
          "11-1"
         ],
         "y": [
          null,
          null,
          null,
          null,
          null,
          null,
          null,
          null,
          null,
          null,
          null,
          null,
          0,
          4.5
         ]
        }
       ],
       "layout": {
        "title": "xten一次通过时长&NovaS4一次通过时长&一次通过平均时长周趋势图",
        "xaxis": {
         "mirror": "all",
         "nticks": 20,
         "showgrid": true,
         "showline": true,
         "title": "周",
         "type": "category",
         "zeroline": true
        },
        "yaxis": {
         "mirror": "all",
         "nticks": 20,
         "showgrid": true,
         "showline": true,
         "title": "xten一次通过时长&NovaS4一次通过时长&一次通过平均时长",
         "zeroline": true
        }
       }
      },
      "text/html": [
       "<div id=\"ef2e6110-e193-4e20-8da9-acaf084fcba7\" style=\"height: 525px; width: 100%;\" class=\"plotly-graph-div\"></div><script type=\"text/javascript\">require([\"plotly\"], function(Plotly) { window.PLOTLYENV=window.PLOTLYENV || {};window.PLOTLYENV.BASE_URL=\"https://plot.ly\";Plotly.newPlot(\"ef2e6110-e193-4e20-8da9-acaf084fcba7\", [{\"line\": {\"dash\": \"solid\"}, \"name\": \"xten\\u4e00\\u6b21\\u901a\\u8fc7\\u65f6\\u957f(\\u5317\\u4eac\\u7ec4)\", \"x\": [\"8-1\", \"8-2\", \"8-3\", \"8-4\", \"8-5\", \"9-1\", \"9-2\", \"9-3\", \"9-4\", \"10-2\", \"10-3\", \"10-4\", \"10-5\", \"11-1\"], \"y\": [5.74, 6.69, 3.34, 3.78, 2.97, 3.58, 4.77, 3.37, 4.08, 4.25, 3.42, 3.35, 4.4, 3.09], \"type\": \"scatter\", \"uid\": \"db3837c8-e625-11e8-8ddb-a41f72875c19\"}, {\"line\": {\"dash\": \"dot\"}, \"name\": \"xten\\u4e00\\u6b21\\u901a\\u8fc7\\u65f6\\u957f(\\u4e49\\u4e4c\\u7ec4)\", \"x\": [\"8-1\", \"8-2\", \"8-3\", \"8-4\", \"8-5\", \"9-1\", \"9-2\", \"9-3\", \"9-4\", \"10-2\", \"10-3\", \"10-4\", \"10-5\", \"11-1\"], \"y\": [null, null, null, null, null, null, null, null, null, null, null, null, 0.0, 0.0], \"type\": \"scatter\", \"uid\": \"db3837c9-e625-11e8-8ddb-a41f72875c19\"}, {\"line\": {\"dash\": \"solid\"}, \"name\": \"NovaS4\\u4e00\\u6b21\\u901a\\u8fc7\\u65f6\\u957f(\\u5317\\u4eac\\u7ec4)\", \"x\": [\"8-1\", \"8-2\", \"8-3\", \"8-4\", \"8-5\", \"9-1\", \"9-2\", \"9-3\", \"9-4\", \"10-2\", \"10-3\", \"10-4\", \"10-5\", \"11-1\"], \"y\": [13.29, 4.73, 10.54, 10.54, 0.0, 14.88, 9.9, 0.0, 0.0, 4.66, 5.87, 8.25, 7.3, 7.3], \"type\": \"scatter\", \"uid\": \"db3837ca-e625-11e8-8ddb-a41f72875c19\"}, {\"line\": {\"dash\": \"dot\"}, \"name\": \"NovaS4\\u4e00\\u6b21\\u901a\\u8fc7\\u65f6\\u957f(\\u4e49\\u4e4c\\u7ec4)\", \"x\": [\"8-1\", \"8-2\", \"8-3\", \"8-4\", \"8-5\", \"9-1\", \"9-2\", \"9-3\", \"9-4\", \"10-2\", \"10-3\", \"10-4\", \"10-5\", \"11-1\"], \"y\": [null, null, null, null, null, null, null, null, null, null, null, null, 0.0, 4.62], \"type\": \"scatter\", \"uid\": \"db3837cb-e625-11e8-8ddb-a41f72875c19\"}, {\"line\": {\"dash\": \"solid\"}, \"name\": \"\\u4e00\\u6b21\\u901a\\u8fc7\\u5e73\\u5747\\u65f6\\u957f(\\u5317\\u4eac\\u7ec4)\", \"x\": [\"8-1\", \"8-2\", \"8-3\", \"8-4\", \"8-5\", \"9-1\", \"9-2\", \"9-3\", \"9-4\", \"10-2\", \"10-3\", \"10-4\", \"10-5\", \"11-1\"], \"y\": [11.95, 6.68, 3.81, 5.41, 3.11, 5.07, 6.43, 4.81, 4.68, 4.25, 3.71, 4.23, 3.35, 4.75], \"type\": \"scatter\", \"uid\": \"db3837cc-e625-11e8-8ddb-a41f72875c19\"}, {\"line\": {\"dash\": \"dot\"}, \"name\": \"\\u4e00\\u6b21\\u901a\\u8fc7\\u5e73\\u5747\\u65f6\\u957f(\\u4e49\\u4e4c\\u7ec4)\", \"x\": [\"8-1\", \"8-2\", \"8-3\", \"8-4\", \"8-5\", \"9-1\", \"9-2\", \"9-3\", \"9-4\", \"10-2\", \"10-3\", \"10-4\", \"10-5\", \"11-1\"], \"y\": [null, null, null, null, null, null, null, null, null, null, null, null, 0.0, 4.5], \"type\": \"scatter\", \"uid\": \"db3837cd-e625-11e8-8ddb-a41f72875c19\"}], {\"title\": \"xten\\u4e00\\u6b21\\u901a\\u8fc7\\u65f6\\u957f&NovaS4\\u4e00\\u6b21\\u901a\\u8fc7\\u65f6\\u957f&\\u4e00\\u6b21\\u901a\\u8fc7\\u5e73\\u5747\\u65f6\\u957f\\u5468\\u8d8b\\u52bf\\u56fe\", \"xaxis\": {\"mirror\": \"all\", \"nticks\": 20, \"showgrid\": true, \"showline\": true, \"title\": \"\\u5468\", \"type\": \"category\", \"zeroline\": true}, \"yaxis\": {\"mirror\": \"all\", \"nticks\": 20, \"showgrid\": true, \"showline\": true, \"title\": \"xten\\u4e00\\u6b21\\u901a\\u8fc7\\u65f6\\u957f&NovaS4\\u4e00\\u6b21\\u901a\\u8fc7\\u65f6\\u957f&\\u4e00\\u6b21\\u901a\\u8fc7\\u5e73\\u5747\\u65f6\\u957f\", \"zeroline\": true}}, {\"showLink\": true, \"linkText\": \"Export to plot.ly\"})});</script>"
      ],
      "text/vnd.plotly.v1+html": [
       "<div id=\"ef2e6110-e193-4e20-8da9-acaf084fcba7\" style=\"height: 525px; width: 100%;\" class=\"plotly-graph-div\"></div><script type=\"text/javascript\">require([\"plotly\"], function(Plotly) { window.PLOTLYENV=window.PLOTLYENV || {};window.PLOTLYENV.BASE_URL=\"https://plot.ly\";Plotly.newPlot(\"ef2e6110-e193-4e20-8da9-acaf084fcba7\", [{\"line\": {\"dash\": \"solid\"}, \"name\": \"xten\\u4e00\\u6b21\\u901a\\u8fc7\\u65f6\\u957f(\\u5317\\u4eac\\u7ec4)\", \"x\": [\"8-1\", \"8-2\", \"8-3\", \"8-4\", \"8-5\", \"9-1\", \"9-2\", \"9-3\", \"9-4\", \"10-2\", \"10-3\", \"10-4\", \"10-5\", \"11-1\"], \"y\": [5.74, 6.69, 3.34, 3.78, 2.97, 3.58, 4.77, 3.37, 4.08, 4.25, 3.42, 3.35, 4.4, 3.09], \"type\": \"scatter\", \"uid\": \"db3837c8-e625-11e8-8ddb-a41f72875c19\"}, {\"line\": {\"dash\": \"dot\"}, \"name\": \"xten\\u4e00\\u6b21\\u901a\\u8fc7\\u65f6\\u957f(\\u4e49\\u4e4c\\u7ec4)\", \"x\": [\"8-1\", \"8-2\", \"8-3\", \"8-4\", \"8-5\", \"9-1\", \"9-2\", \"9-3\", \"9-4\", \"10-2\", \"10-3\", \"10-4\", \"10-5\", \"11-1\"], \"y\": [null, null, null, null, null, null, null, null, null, null, null, null, 0.0, 0.0], \"type\": \"scatter\", \"uid\": \"db3837c9-e625-11e8-8ddb-a41f72875c19\"}, {\"line\": {\"dash\": \"solid\"}, \"name\": \"NovaS4\\u4e00\\u6b21\\u901a\\u8fc7\\u65f6\\u957f(\\u5317\\u4eac\\u7ec4)\", \"x\": [\"8-1\", \"8-2\", \"8-3\", \"8-4\", \"8-5\", \"9-1\", \"9-2\", \"9-3\", \"9-4\", \"10-2\", \"10-3\", \"10-4\", \"10-5\", \"11-1\"], \"y\": [13.29, 4.73, 10.54, 10.54, 0.0, 14.88, 9.9, 0.0, 0.0, 4.66, 5.87, 8.25, 7.3, 7.3], \"type\": \"scatter\", \"uid\": \"db3837ca-e625-11e8-8ddb-a41f72875c19\"}, {\"line\": {\"dash\": \"dot\"}, \"name\": \"NovaS4\\u4e00\\u6b21\\u901a\\u8fc7\\u65f6\\u957f(\\u4e49\\u4e4c\\u7ec4)\", \"x\": [\"8-1\", \"8-2\", \"8-3\", \"8-4\", \"8-5\", \"9-1\", \"9-2\", \"9-3\", \"9-4\", \"10-2\", \"10-3\", \"10-4\", \"10-5\", \"11-1\"], \"y\": [null, null, null, null, null, null, null, null, null, null, null, null, 0.0, 4.62], \"type\": \"scatter\", \"uid\": \"db3837cb-e625-11e8-8ddb-a41f72875c19\"}, {\"line\": {\"dash\": \"solid\"}, \"name\": \"\\u4e00\\u6b21\\u901a\\u8fc7\\u5e73\\u5747\\u65f6\\u957f(\\u5317\\u4eac\\u7ec4)\", \"x\": [\"8-1\", \"8-2\", \"8-3\", \"8-4\", \"8-5\", \"9-1\", \"9-2\", \"9-3\", \"9-4\", \"10-2\", \"10-3\", \"10-4\", \"10-5\", \"11-1\"], \"y\": [11.95, 6.68, 3.81, 5.41, 3.11, 5.07, 6.43, 4.81, 4.68, 4.25, 3.71, 4.23, 3.35, 4.75], \"type\": \"scatter\", \"uid\": \"db3837cc-e625-11e8-8ddb-a41f72875c19\"}, {\"line\": {\"dash\": \"dot\"}, \"name\": \"\\u4e00\\u6b21\\u901a\\u8fc7\\u5e73\\u5747\\u65f6\\u957f(\\u4e49\\u4e4c\\u7ec4)\", \"x\": [\"8-1\", \"8-2\", \"8-3\", \"8-4\", \"8-5\", \"9-1\", \"9-2\", \"9-3\", \"9-4\", \"10-2\", \"10-3\", \"10-4\", \"10-5\", \"11-1\"], \"y\": [null, null, null, null, null, null, null, null, null, null, null, null, 0.0, 4.5], \"type\": \"scatter\", \"uid\": \"db3837cd-e625-11e8-8ddb-a41f72875c19\"}], {\"title\": \"xten\\u4e00\\u6b21\\u901a\\u8fc7\\u65f6\\u957f&NovaS4\\u4e00\\u6b21\\u901a\\u8fc7\\u65f6\\u957f&\\u4e00\\u6b21\\u901a\\u8fc7\\u5e73\\u5747\\u65f6\\u957f\\u5468\\u8d8b\\u52bf\\u56fe\", \"xaxis\": {\"mirror\": \"all\", \"nticks\": 20, \"showgrid\": true, \"showline\": true, \"title\": \"\\u5468\", \"type\": \"category\", \"zeroline\": true}, \"yaxis\": {\"mirror\": \"all\", \"nticks\": 20, \"showgrid\": true, \"showline\": true, \"title\": \"xten\\u4e00\\u6b21\\u901a\\u8fc7\\u65f6\\u957f&NovaS4\\u4e00\\u6b21\\u901a\\u8fc7\\u65f6\\u957f&\\u4e00\\u6b21\\u901a\\u8fc7\\u5e73\\u5747\\u65f6\\u957f\", \"zeroline\": true}}, {\"showLink\": true, \"linkText\": \"Export to plot.ly\"})});</script>"
      ]
     },
     "metadata": {},
     "output_type": "display_data"
    }
   ],
   "source": [
    "ss = myModule.format(all_df2 ,\"日期（格式“月-周次”）\" ,[ '一次通过平均时长','xten一次通过时长','NovaS4一次通过时长' ])\n",
    "myModule.myPlot(myModule.sort_by_index(ss.groupby('sum'))).plot('line')\n",
    "\n",
    "ss = myModule.format(all_df2 ,\"日期（格式“月-周次”）\" ,[ '一次通过平均时长','xten一次通过时长','NovaS4一次通过时长' ])\n",
    "ss.add_group(\"组别\")\n",
    "myModule.myPlot(myModule.sort_by_index(ss.groupby('sum'))).plot('line')"
   ]
  },
  {
   "cell_type": "code",
   "execution_count": 166,
   "metadata": {
    "collapsed": false
   },
   "outputs": [
    {
     "data": {
      "application/vnd.plotly.v1+json": {
       "data": [
        {
         "name": "xten一次通过时长",
         "type": "scatter",
         "uid": "db3837ce-e625-11e8-8ddb-a41f72875c19",
         "x": [
          8,
          9,
          10,
          11
         ],
         "y": [
          4.504,
          3.95,
          3.084,
          1.545
         ]
        },
        {
         "name": "NovaS4一次通过时长",
         "type": "scatter",
         "uid": "db3837cf-e625-11e8-8ddb-a41f72875c19",
         "x": [
          8,
          9,
          10,
          11
         ],
         "y": [
          7.8199999999999985,
          6.195,
          5.216,
          5.96
         ]
        },
        {
         "name": "一次通过平均时长",
         "type": "scatter",
         "uid": "db3837d0-e625-11e8-8ddb-a41f72875c19",
         "x": [
          8,
          9,
          10,
          11
         ],
         "y": [
          6.192,
          5.2475,
          3.1079999999999997,
          4.625
         ]
        }
       ],
       "layout": {
        "title": "xten一次通过时长&NovaS4一次通过时长&一次通过平均时长月趋势图",
        "xaxis": {
         "mirror": "all",
         "nticks": 20,
         "showgrid": true,
         "showline": true,
         "title": "月",
         "type": "category",
         "zeroline": true
        },
        "yaxis": {
         "mirror": "all",
         "nticks": 20,
         "showgrid": true,
         "showline": true,
         "title": "xten一次通过时长&NovaS4一次通过时长&一次通过平均时长",
         "zeroline": true
        }
       }
      },
      "text/html": [
       "<div id=\"e27bea0c-fcd5-4ab3-86a8-ac5a3809d7c6\" style=\"height: 525px; width: 100%;\" class=\"plotly-graph-div\"></div><script type=\"text/javascript\">require([\"plotly\"], function(Plotly) { window.PLOTLYENV=window.PLOTLYENV || {};window.PLOTLYENV.BASE_URL=\"https://plot.ly\";Plotly.newPlot(\"e27bea0c-fcd5-4ab3-86a8-ac5a3809d7c6\", [{\"name\": \"xten\\u4e00\\u6b21\\u901a\\u8fc7\\u65f6\\u957f\", \"x\": [8, 9, 10, 11], \"y\": [4.504, 3.95, 3.084, 1.545], \"type\": \"scatter\", \"uid\": \"db3837ce-e625-11e8-8ddb-a41f72875c19\"}, {\"name\": \"NovaS4\\u4e00\\u6b21\\u901a\\u8fc7\\u65f6\\u957f\", \"x\": [8, 9, 10, 11], \"y\": [7.8199999999999985, 6.195, 5.216, 5.96], \"type\": \"scatter\", \"uid\": \"db3837cf-e625-11e8-8ddb-a41f72875c19\"}, {\"name\": \"\\u4e00\\u6b21\\u901a\\u8fc7\\u5e73\\u5747\\u65f6\\u957f\", \"x\": [8, 9, 10, 11], \"y\": [6.192, 5.2475, 3.1079999999999997, 4.625], \"type\": \"scatter\", \"uid\": \"db3837d0-e625-11e8-8ddb-a41f72875c19\"}], {\"title\": \"xten\\u4e00\\u6b21\\u901a\\u8fc7\\u65f6\\u957f&NovaS4\\u4e00\\u6b21\\u901a\\u8fc7\\u65f6\\u957f&\\u4e00\\u6b21\\u901a\\u8fc7\\u5e73\\u5747\\u65f6\\u957f\\u6708\\u8d8b\\u52bf\\u56fe\", \"xaxis\": {\"mirror\": \"all\", \"nticks\": 20, \"showgrid\": true, \"showline\": true, \"title\": \"\\u6708\", \"type\": \"category\", \"zeroline\": true}, \"yaxis\": {\"mirror\": \"all\", \"nticks\": 20, \"showgrid\": true, \"showline\": true, \"title\": \"xten\\u4e00\\u6b21\\u901a\\u8fc7\\u65f6\\u957f&NovaS4\\u4e00\\u6b21\\u901a\\u8fc7\\u65f6\\u957f&\\u4e00\\u6b21\\u901a\\u8fc7\\u5e73\\u5747\\u65f6\\u957f\", \"zeroline\": true}}, {\"showLink\": true, \"linkText\": \"Export to plot.ly\"})});</script>"
      ],
      "text/vnd.plotly.v1+html": [
       "<div id=\"e27bea0c-fcd5-4ab3-86a8-ac5a3809d7c6\" style=\"height: 525px; width: 100%;\" class=\"plotly-graph-div\"></div><script type=\"text/javascript\">require([\"plotly\"], function(Plotly) { window.PLOTLYENV=window.PLOTLYENV || {};window.PLOTLYENV.BASE_URL=\"https://plot.ly\";Plotly.newPlot(\"e27bea0c-fcd5-4ab3-86a8-ac5a3809d7c6\", [{\"name\": \"xten\\u4e00\\u6b21\\u901a\\u8fc7\\u65f6\\u957f\", \"x\": [8, 9, 10, 11], \"y\": [4.504, 3.95, 3.084, 1.545], \"type\": \"scatter\", \"uid\": \"db3837ce-e625-11e8-8ddb-a41f72875c19\"}, {\"name\": \"NovaS4\\u4e00\\u6b21\\u901a\\u8fc7\\u65f6\\u957f\", \"x\": [8, 9, 10, 11], \"y\": [7.8199999999999985, 6.195, 5.216, 5.96], \"type\": \"scatter\", \"uid\": \"db3837cf-e625-11e8-8ddb-a41f72875c19\"}, {\"name\": \"\\u4e00\\u6b21\\u901a\\u8fc7\\u5e73\\u5747\\u65f6\\u957f\", \"x\": [8, 9, 10, 11], \"y\": [6.192, 5.2475, 3.1079999999999997, 4.625], \"type\": \"scatter\", \"uid\": \"db3837d0-e625-11e8-8ddb-a41f72875c19\"}], {\"title\": \"xten\\u4e00\\u6b21\\u901a\\u8fc7\\u65f6\\u957f&NovaS4\\u4e00\\u6b21\\u901a\\u8fc7\\u65f6\\u957f&\\u4e00\\u6b21\\u901a\\u8fc7\\u5e73\\u5747\\u65f6\\u957f\\u6708\\u8d8b\\u52bf\\u56fe\", \"xaxis\": {\"mirror\": \"all\", \"nticks\": 20, \"showgrid\": true, \"showline\": true, \"title\": \"\\u6708\", \"type\": \"category\", \"zeroline\": true}, \"yaxis\": {\"mirror\": \"all\", \"nticks\": 20, \"showgrid\": true, \"showline\": true, \"title\": \"xten\\u4e00\\u6b21\\u901a\\u8fc7\\u65f6\\u957f&NovaS4\\u4e00\\u6b21\\u901a\\u8fc7\\u65f6\\u957f&\\u4e00\\u6b21\\u901a\\u8fc7\\u5e73\\u5747\\u65f6\\u957f\", \"zeroline\": true}}, {\"showLink\": true, \"linkText\": \"Export to plot.ly\"})});</script>"
      ]
     },
     "metadata": {},
     "output_type": "display_data"
    },
    {
     "data": {
      "application/vnd.plotly.v1+json": {
       "data": [
        {
         "line": {
          "dash": "solid"
         },
         "name": "xten一次通过时长(北京组)",
         "type": "scatter",
         "uid": "db3837d1-e625-11e8-8ddb-a41f72875c19",
         "x": [
          8,
          9,
          10,
          11
         ],
         "y": [
          4.504,
          3.95,
          3.855,
          3.09
         ]
        },
        {
         "line": {
          "dash": "dot"
         },
         "name": "xten一次通过时长(义乌组)",
         "type": "scatter",
         "uid": "db3837d2-e625-11e8-8ddb-a41f72875c19",
         "x": [
          8,
          9,
          10,
          11
         ],
         "y": [
          null,
          null,
          0,
          0
         ]
        },
        {
         "line": {
          "dash": "solid"
         },
         "name": "NovaS4一次通过时长(北京组)",
         "type": "scatter",
         "uid": "db3837d3-e625-11e8-8ddb-a41f72875c19",
         "x": [
          8,
          9,
          10,
          11
         ],
         "y": [
          7.8199999999999985,
          6.195,
          6.5200000000000005,
          7.3
         ]
        },
        {
         "line": {
          "dash": "dot"
         },
         "name": "NovaS4一次通过时长(义乌组)",
         "type": "scatter",
         "uid": "db3837d4-e625-11e8-8ddb-a41f72875c19",
         "x": [
          8,
          9,
          10,
          11
         ],
         "y": [
          null,
          null,
          0,
          4.62
         ]
        },
        {
         "line": {
          "dash": "solid"
         },
         "name": "一次通过平均时长(北京组)",
         "type": "scatter",
         "uid": "db3837d5-e625-11e8-8ddb-a41f72875c19",
         "x": [
          8,
          9,
          10,
          11
         ],
         "y": [
          6.192,
          5.2475,
          3.885,
          4.75
         ]
        },
        {
         "line": {
          "dash": "dot"
         },
         "name": "一次通过平均时长(义乌组)",
         "type": "scatter",
         "uid": "db3837d6-e625-11e8-8ddb-a41f72875c19",
         "x": [
          8,
          9,
          10,
          11
         ],
         "y": [
          null,
          null,
          0,
          4.5
         ]
        }
       ],
       "layout": {
        "title": "xten一次通过时长&NovaS4一次通过时长&一次通过平均时长月趋势图",
        "xaxis": {
         "mirror": "all",
         "nticks": 20,
         "showgrid": true,
         "showline": true,
         "title": "月",
         "type": "category",
         "zeroline": true
        },
        "yaxis": {
         "mirror": "all",
         "nticks": 20,
         "showgrid": true,
         "showline": true,
         "title": "xten一次通过时长&NovaS4一次通过时长&一次通过平均时长",
         "zeroline": true
        }
       }
      },
      "text/html": [
       "<div id=\"155e5ef9-9026-4830-ba82-0b042225c185\" style=\"height: 525px; width: 100%;\" class=\"plotly-graph-div\"></div><script type=\"text/javascript\">require([\"plotly\"], function(Plotly) { window.PLOTLYENV=window.PLOTLYENV || {};window.PLOTLYENV.BASE_URL=\"https://plot.ly\";Plotly.newPlot(\"155e5ef9-9026-4830-ba82-0b042225c185\", [{\"line\": {\"dash\": \"solid\"}, \"name\": \"xten\\u4e00\\u6b21\\u901a\\u8fc7\\u65f6\\u957f(\\u5317\\u4eac\\u7ec4)\", \"x\": [8, 9, 10, 11], \"y\": [4.504, 3.95, 3.855, 3.09], \"type\": \"scatter\", \"uid\": \"db3837d1-e625-11e8-8ddb-a41f72875c19\"}, {\"line\": {\"dash\": \"dot\"}, \"name\": \"xten\\u4e00\\u6b21\\u901a\\u8fc7\\u65f6\\u957f(\\u4e49\\u4e4c\\u7ec4)\", \"x\": [8, 9, 10, 11], \"y\": [null, null, 0.0, 0.0], \"type\": \"scatter\", \"uid\": \"db3837d2-e625-11e8-8ddb-a41f72875c19\"}, {\"line\": {\"dash\": \"solid\"}, \"name\": \"NovaS4\\u4e00\\u6b21\\u901a\\u8fc7\\u65f6\\u957f(\\u5317\\u4eac\\u7ec4)\", \"x\": [8, 9, 10, 11], \"y\": [7.8199999999999985, 6.195, 6.5200000000000005, 7.3], \"type\": \"scatter\", \"uid\": \"db3837d3-e625-11e8-8ddb-a41f72875c19\"}, {\"line\": {\"dash\": \"dot\"}, \"name\": \"NovaS4\\u4e00\\u6b21\\u901a\\u8fc7\\u65f6\\u957f(\\u4e49\\u4e4c\\u7ec4)\", \"x\": [8, 9, 10, 11], \"y\": [null, null, 0.0, 4.62], \"type\": \"scatter\", \"uid\": \"db3837d4-e625-11e8-8ddb-a41f72875c19\"}, {\"line\": {\"dash\": \"solid\"}, \"name\": \"\\u4e00\\u6b21\\u901a\\u8fc7\\u5e73\\u5747\\u65f6\\u957f(\\u5317\\u4eac\\u7ec4)\", \"x\": [8, 9, 10, 11], \"y\": [6.192, 5.2475, 3.885, 4.75], \"type\": \"scatter\", \"uid\": \"db3837d5-e625-11e8-8ddb-a41f72875c19\"}, {\"line\": {\"dash\": \"dot\"}, \"name\": \"\\u4e00\\u6b21\\u901a\\u8fc7\\u5e73\\u5747\\u65f6\\u957f(\\u4e49\\u4e4c\\u7ec4)\", \"x\": [8, 9, 10, 11], \"y\": [null, null, 0.0, 4.5], \"type\": \"scatter\", \"uid\": \"db3837d6-e625-11e8-8ddb-a41f72875c19\"}], {\"title\": \"xten\\u4e00\\u6b21\\u901a\\u8fc7\\u65f6\\u957f&NovaS4\\u4e00\\u6b21\\u901a\\u8fc7\\u65f6\\u957f&\\u4e00\\u6b21\\u901a\\u8fc7\\u5e73\\u5747\\u65f6\\u957f\\u6708\\u8d8b\\u52bf\\u56fe\", \"xaxis\": {\"mirror\": \"all\", \"nticks\": 20, \"showgrid\": true, \"showline\": true, \"title\": \"\\u6708\", \"type\": \"category\", \"zeroline\": true}, \"yaxis\": {\"mirror\": \"all\", \"nticks\": 20, \"showgrid\": true, \"showline\": true, \"title\": \"xten\\u4e00\\u6b21\\u901a\\u8fc7\\u65f6\\u957f&NovaS4\\u4e00\\u6b21\\u901a\\u8fc7\\u65f6\\u957f&\\u4e00\\u6b21\\u901a\\u8fc7\\u5e73\\u5747\\u65f6\\u957f\", \"zeroline\": true}}, {\"showLink\": true, \"linkText\": \"Export to plot.ly\"})});</script>"
      ],
      "text/vnd.plotly.v1+html": [
       "<div id=\"155e5ef9-9026-4830-ba82-0b042225c185\" style=\"height: 525px; width: 100%;\" class=\"plotly-graph-div\"></div><script type=\"text/javascript\">require([\"plotly\"], function(Plotly) { window.PLOTLYENV=window.PLOTLYENV || {};window.PLOTLYENV.BASE_URL=\"https://plot.ly\";Plotly.newPlot(\"155e5ef9-9026-4830-ba82-0b042225c185\", [{\"line\": {\"dash\": \"solid\"}, \"name\": \"xten\\u4e00\\u6b21\\u901a\\u8fc7\\u65f6\\u957f(\\u5317\\u4eac\\u7ec4)\", \"x\": [8, 9, 10, 11], \"y\": [4.504, 3.95, 3.855, 3.09], \"type\": \"scatter\", \"uid\": \"db3837d1-e625-11e8-8ddb-a41f72875c19\"}, {\"line\": {\"dash\": \"dot\"}, \"name\": \"xten\\u4e00\\u6b21\\u901a\\u8fc7\\u65f6\\u957f(\\u4e49\\u4e4c\\u7ec4)\", \"x\": [8, 9, 10, 11], \"y\": [null, null, 0.0, 0.0], \"type\": \"scatter\", \"uid\": \"db3837d2-e625-11e8-8ddb-a41f72875c19\"}, {\"line\": {\"dash\": \"solid\"}, \"name\": \"NovaS4\\u4e00\\u6b21\\u901a\\u8fc7\\u65f6\\u957f(\\u5317\\u4eac\\u7ec4)\", \"x\": [8, 9, 10, 11], \"y\": [7.8199999999999985, 6.195, 6.5200000000000005, 7.3], \"type\": \"scatter\", \"uid\": \"db3837d3-e625-11e8-8ddb-a41f72875c19\"}, {\"line\": {\"dash\": \"dot\"}, \"name\": \"NovaS4\\u4e00\\u6b21\\u901a\\u8fc7\\u65f6\\u957f(\\u4e49\\u4e4c\\u7ec4)\", \"x\": [8, 9, 10, 11], \"y\": [null, null, 0.0, 4.62], \"type\": \"scatter\", \"uid\": \"db3837d4-e625-11e8-8ddb-a41f72875c19\"}, {\"line\": {\"dash\": \"solid\"}, \"name\": \"\\u4e00\\u6b21\\u901a\\u8fc7\\u5e73\\u5747\\u65f6\\u957f(\\u5317\\u4eac\\u7ec4)\", \"x\": [8, 9, 10, 11], \"y\": [6.192, 5.2475, 3.885, 4.75], \"type\": \"scatter\", \"uid\": \"db3837d5-e625-11e8-8ddb-a41f72875c19\"}, {\"line\": {\"dash\": \"dot\"}, \"name\": \"\\u4e00\\u6b21\\u901a\\u8fc7\\u5e73\\u5747\\u65f6\\u957f(\\u4e49\\u4e4c\\u7ec4)\", \"x\": [8, 9, 10, 11], \"y\": [null, null, 0.0, 4.5], \"type\": \"scatter\", \"uid\": \"db3837d6-e625-11e8-8ddb-a41f72875c19\"}], {\"title\": \"xten\\u4e00\\u6b21\\u901a\\u8fc7\\u65f6\\u957f&NovaS4\\u4e00\\u6b21\\u901a\\u8fc7\\u65f6\\u957f&\\u4e00\\u6b21\\u901a\\u8fc7\\u5e73\\u5747\\u65f6\\u957f\\u6708\\u8d8b\\u52bf\\u56fe\", \"xaxis\": {\"mirror\": \"all\", \"nticks\": 20, \"showgrid\": true, \"showline\": true, \"title\": \"\\u6708\", \"type\": \"category\", \"zeroline\": true}, \"yaxis\": {\"mirror\": \"all\", \"nticks\": 20, \"showgrid\": true, \"showline\": true, \"title\": \"xten\\u4e00\\u6b21\\u901a\\u8fc7\\u65f6\\u957f&NovaS4\\u4e00\\u6b21\\u901a\\u8fc7\\u65f6\\u957f&\\u4e00\\u6b21\\u901a\\u8fc7\\u5e73\\u5747\\u65f6\\u957f\", \"zeroline\": true}}, {\"showLink\": true, \"linkText\": \"Export to plot.ly\"})});</script>"
      ]
     },
     "metadata": {},
     "output_type": "display_data"
    }
   ],
   "source": [
    "ss = myModule.format(all_df2 ,\"month\" ,[ '一次通过平均时长','xten一次通过时长','NovaS4一次通过时长' ])\n",
    "myModule.myPlot(ss.groupby('mean')).plot('line','月')\n",
    "\n",
    "ss = myModule.format(all_df2 ,\"month\" ,[ '一次通过平均时长','xten一次通过时长','NovaS4一次通过时长' ])\n",
    "ss.add_group(\"组别\")\n",
    "myModule.myPlot(ss.groupby('mean')).plot('line','月')"
   ]
  },
  {
   "cell_type": "markdown",
   "metadata": {},
   "source": [
    "### 异常"
   ]
  },
  {
   "cell_type": "markdown",
   "metadata": {},
   "source": [
    "####  测序异常，外来index错误，自建库index错误，lims系统错误，个性化拆分数"
   ]
  },
  {
   "cell_type": "code",
   "execution_count": 167,
   "metadata": {
    "collapsed": false
   },
   "outputs": [
    {
     "data": {
      "application/vnd.plotly.v1+json": {
       "data": [
        {
         "name": "lims系统错误",
         "type": "scatter",
         "uid": "db3837d7-e625-11e8-8ddb-a41f72875c19",
         "x": [
          "8-1",
          "8-2",
          "8-3",
          "8-4",
          "8-5",
          "9-1",
          "9-2",
          "9-3",
          "9-4",
          "10-2",
          "10-3",
          "10-4",
          "10-5",
          "11-1"
         ],
         "y": [
          2,
          3,
          0,
          0,
          1,
          0,
          0,
          3,
          0,
          0,
          0,
          2,
          4,
          0
         ]
        },
        {
         "name": "外来Index错误",
         "type": "scatter",
         "uid": "db3837d8-e625-11e8-8ddb-a41f72875c19",
         "x": [
          "8-1",
          "8-2",
          "8-3",
          "8-4",
          "8-5",
          "9-1",
          "9-2",
          "9-3",
          "9-4",
          "10-2",
          "10-3",
          "10-4",
          "10-5",
          "11-1"
         ],
         "y": [
          2,
          8,
          4,
          4,
          2,
          8,
          3,
          11,
          12,
          8,
          5,
          9,
          14,
          8
         ]
        },
        {
         "name": "个性化拆分数",
         "type": "scatter",
         "uid": "db3837d9-e625-11e8-8ddb-a41f72875c19",
         "x": [
          "8-1",
          "8-2",
          "8-3",
          "8-4",
          "8-5",
          "9-1",
          "9-2",
          "9-3",
          "9-4",
          "10-2",
          "10-3",
          "10-4",
          "10-5",
          "11-1"
         ],
         "y": [
          3,
          1,
          0,
          2,
          3,
          1,
          0,
          1,
          2,
          4,
          2,
          2,
          0,
          2
         ]
        },
        {
         "name": "自建库Index错误",
         "type": "scatter",
         "uid": "db3837da-e625-11e8-8ddb-a41f72875c19",
         "x": [
          "8-1",
          "8-2",
          "8-3",
          "8-4",
          "8-5",
          "9-1",
          "9-2",
          "9-3",
          "9-4",
          "10-2",
          "10-3",
          "10-4",
          "10-5",
          "11-1"
         ],
         "y": [
          0,
          2,
          0,
          2,
          2,
          1,
          0,
          0,
          0,
          1,
          2,
          0,
          0,
          0
         ]
        },
        {
         "name": "测序异常",
         "type": "scatter",
         "uid": "db3837db-e625-11e8-8ddb-a41f72875c19",
         "x": [
          "8-1",
          "8-2",
          "8-3",
          "8-4",
          "8-5",
          "9-1",
          "9-2",
          "9-3",
          "9-4",
          "10-2",
          "10-3",
          "10-4",
          "10-5",
          "11-1"
         ],
         "y": [
          10,
          17,
          19,
          12,
          11,
          10,
          6,
          10,
          13,
          10,
          11,
          12,
          11,
          5
         ]
        }
       ],
       "layout": {
        "title": "lims系统错误&外来Index错误&个性化拆分数&自建库Index错误&测序异常周趋势图",
        "xaxis": {
         "mirror": "all",
         "nticks": 20,
         "showgrid": true,
         "showline": true,
         "title": "周",
         "type": "category",
         "zeroline": true
        },
        "yaxis": {
         "mirror": "all",
         "nticks": 20,
         "showgrid": true,
         "showline": true,
         "title": "lims系统错误&外来Index错误&个性化拆分数&自建库Index错误&测序异常",
         "zeroline": true
        }
       }
      },
      "text/html": [
       "<div id=\"74c38f55-2d45-4225-8e25-34af2a7c3e06\" style=\"height: 525px; width: 100%;\" class=\"plotly-graph-div\"></div><script type=\"text/javascript\">require([\"plotly\"], function(Plotly) { window.PLOTLYENV=window.PLOTLYENV || {};window.PLOTLYENV.BASE_URL=\"https://plot.ly\";Plotly.newPlot(\"74c38f55-2d45-4225-8e25-34af2a7c3e06\", [{\"name\": \"lims\\u7cfb\\u7edf\\u9519\\u8bef\", \"x\": [\"8-1\", \"8-2\", \"8-3\", \"8-4\", \"8-5\", \"9-1\", \"9-2\", \"9-3\", \"9-4\", \"10-2\", \"10-3\", \"10-4\", \"10-5\", \"11-1\"], \"y\": [2, 3, 0, 0, 1, 0, 0, 3, 0, 0, 0, 2, 4, 0], \"type\": \"scatter\", \"uid\": \"db3837d7-e625-11e8-8ddb-a41f72875c19\"}, {\"name\": \"\\u5916\\u6765Index\\u9519\\u8bef\", \"x\": [\"8-1\", \"8-2\", \"8-3\", \"8-4\", \"8-5\", \"9-1\", \"9-2\", \"9-3\", \"9-4\", \"10-2\", \"10-3\", \"10-4\", \"10-5\", \"11-1\"], \"y\": [2, 8, 4, 4, 2, 8, 3, 11, 12, 8, 5, 9, 14, 8], \"type\": \"scatter\", \"uid\": \"db3837d8-e625-11e8-8ddb-a41f72875c19\"}, {\"name\": \"\\u4e2a\\u6027\\u5316\\u62c6\\u5206\\u6570\", \"x\": [\"8-1\", \"8-2\", \"8-3\", \"8-4\", \"8-5\", \"9-1\", \"9-2\", \"9-3\", \"9-4\", \"10-2\", \"10-3\", \"10-4\", \"10-5\", \"11-1\"], \"y\": [3, 1, 0, 2, 3, 1, 0, 1, 2, 4, 2, 2, 0, 2], \"type\": \"scatter\", \"uid\": \"db3837d9-e625-11e8-8ddb-a41f72875c19\"}, {\"name\": \"\\u81ea\\u5efa\\u5e93Index\\u9519\\u8bef\", \"x\": [\"8-1\", \"8-2\", \"8-3\", \"8-4\", \"8-5\", \"9-1\", \"9-2\", \"9-3\", \"9-4\", \"10-2\", \"10-3\", \"10-4\", \"10-5\", \"11-1\"], \"y\": [0, 2, 0, 2, 2, 1, 0, 0, 0, 1, 2, 0, 0, 0], \"type\": \"scatter\", \"uid\": \"db3837da-e625-11e8-8ddb-a41f72875c19\"}, {\"name\": \"\\u6d4b\\u5e8f\\u5f02\\u5e38\", \"x\": [\"8-1\", \"8-2\", \"8-3\", \"8-4\", \"8-5\", \"9-1\", \"9-2\", \"9-3\", \"9-4\", \"10-2\", \"10-3\", \"10-4\", \"10-5\", \"11-1\"], \"y\": [10, 17, 19, 12, 11, 10, 6, 10, 13, 10, 11, 12, 11, 5], \"type\": \"scatter\", \"uid\": \"db3837db-e625-11e8-8ddb-a41f72875c19\"}], {\"title\": \"lims\\u7cfb\\u7edf\\u9519\\u8bef&\\u5916\\u6765Index\\u9519\\u8bef&\\u4e2a\\u6027\\u5316\\u62c6\\u5206\\u6570&\\u81ea\\u5efa\\u5e93Index\\u9519\\u8bef&\\u6d4b\\u5e8f\\u5f02\\u5e38\\u5468\\u8d8b\\u52bf\\u56fe\", \"xaxis\": {\"mirror\": \"all\", \"nticks\": 20, \"showgrid\": true, \"showline\": true, \"title\": \"\\u5468\", \"type\": \"category\", \"zeroline\": true}, \"yaxis\": {\"mirror\": \"all\", \"nticks\": 20, \"showgrid\": true, \"showline\": true, \"title\": \"lims\\u7cfb\\u7edf\\u9519\\u8bef&\\u5916\\u6765Index\\u9519\\u8bef&\\u4e2a\\u6027\\u5316\\u62c6\\u5206\\u6570&\\u81ea\\u5efa\\u5e93Index\\u9519\\u8bef&\\u6d4b\\u5e8f\\u5f02\\u5e38\", \"zeroline\": true}}, {\"showLink\": true, \"linkText\": \"Export to plot.ly\"})});</script>"
      ],
      "text/vnd.plotly.v1+html": [
       "<div id=\"74c38f55-2d45-4225-8e25-34af2a7c3e06\" style=\"height: 525px; width: 100%;\" class=\"plotly-graph-div\"></div><script type=\"text/javascript\">require([\"plotly\"], function(Plotly) { window.PLOTLYENV=window.PLOTLYENV || {};window.PLOTLYENV.BASE_URL=\"https://plot.ly\";Plotly.newPlot(\"74c38f55-2d45-4225-8e25-34af2a7c3e06\", [{\"name\": \"lims\\u7cfb\\u7edf\\u9519\\u8bef\", \"x\": [\"8-1\", \"8-2\", \"8-3\", \"8-4\", \"8-5\", \"9-1\", \"9-2\", \"9-3\", \"9-4\", \"10-2\", \"10-3\", \"10-4\", \"10-5\", \"11-1\"], \"y\": [2, 3, 0, 0, 1, 0, 0, 3, 0, 0, 0, 2, 4, 0], \"type\": \"scatter\", \"uid\": \"db3837d7-e625-11e8-8ddb-a41f72875c19\"}, {\"name\": \"\\u5916\\u6765Index\\u9519\\u8bef\", \"x\": [\"8-1\", \"8-2\", \"8-3\", \"8-4\", \"8-5\", \"9-1\", \"9-2\", \"9-3\", \"9-4\", \"10-2\", \"10-3\", \"10-4\", \"10-5\", \"11-1\"], \"y\": [2, 8, 4, 4, 2, 8, 3, 11, 12, 8, 5, 9, 14, 8], \"type\": \"scatter\", \"uid\": \"db3837d8-e625-11e8-8ddb-a41f72875c19\"}, {\"name\": \"\\u4e2a\\u6027\\u5316\\u62c6\\u5206\\u6570\", \"x\": [\"8-1\", \"8-2\", \"8-3\", \"8-4\", \"8-5\", \"9-1\", \"9-2\", \"9-3\", \"9-4\", \"10-2\", \"10-3\", \"10-4\", \"10-5\", \"11-1\"], \"y\": [3, 1, 0, 2, 3, 1, 0, 1, 2, 4, 2, 2, 0, 2], \"type\": \"scatter\", \"uid\": \"db3837d9-e625-11e8-8ddb-a41f72875c19\"}, {\"name\": \"\\u81ea\\u5efa\\u5e93Index\\u9519\\u8bef\", \"x\": [\"8-1\", \"8-2\", \"8-3\", \"8-4\", \"8-5\", \"9-1\", \"9-2\", \"9-3\", \"9-4\", \"10-2\", \"10-3\", \"10-4\", \"10-5\", \"11-1\"], \"y\": [0, 2, 0, 2, 2, 1, 0, 0, 0, 1, 2, 0, 0, 0], \"type\": \"scatter\", \"uid\": \"db3837da-e625-11e8-8ddb-a41f72875c19\"}, {\"name\": \"\\u6d4b\\u5e8f\\u5f02\\u5e38\", \"x\": [\"8-1\", \"8-2\", \"8-3\", \"8-4\", \"8-5\", \"9-1\", \"9-2\", \"9-3\", \"9-4\", \"10-2\", \"10-3\", \"10-4\", \"10-5\", \"11-1\"], \"y\": [10, 17, 19, 12, 11, 10, 6, 10, 13, 10, 11, 12, 11, 5], \"type\": \"scatter\", \"uid\": \"db3837db-e625-11e8-8ddb-a41f72875c19\"}], {\"title\": \"lims\\u7cfb\\u7edf\\u9519\\u8bef&\\u5916\\u6765Index\\u9519\\u8bef&\\u4e2a\\u6027\\u5316\\u62c6\\u5206\\u6570&\\u81ea\\u5efa\\u5e93Index\\u9519\\u8bef&\\u6d4b\\u5e8f\\u5f02\\u5e38\\u5468\\u8d8b\\u52bf\\u56fe\", \"xaxis\": {\"mirror\": \"all\", \"nticks\": 20, \"showgrid\": true, \"showline\": true, \"title\": \"\\u5468\", \"type\": \"category\", \"zeroline\": true}, \"yaxis\": {\"mirror\": \"all\", \"nticks\": 20, \"showgrid\": true, \"showline\": true, \"title\": \"lims\\u7cfb\\u7edf\\u9519\\u8bef&\\u5916\\u6765Index\\u9519\\u8bef&\\u4e2a\\u6027\\u5316\\u62c6\\u5206\\u6570&\\u81ea\\u5efa\\u5e93Index\\u9519\\u8bef&\\u6d4b\\u5e8f\\u5f02\\u5e38\", \"zeroline\": true}}, {\"showLink\": true, \"linkText\": \"Export to plot.ly\"})});</script>"
      ]
     },
     "metadata": {},
     "output_type": "display_data"
    },
    {
     "data": {
      "application/vnd.plotly.v1+json": {
       "data": [
        {
         "name": "lims系统错误",
         "type": "scatter",
         "uid": "db3837dc-e625-11e8-8ddb-a41f72875c19",
         "x": [
          8,
          9,
          10,
          11
         ],
         "y": [
          6,
          3,
          6,
          0
         ]
        },
        {
         "name": "外来Index错误",
         "type": "scatter",
         "uid": "db3837dd-e625-11e8-8ddb-a41f72875c19",
         "x": [
          8,
          9,
          10,
          11
         ],
         "y": [
          20,
          34,
          36,
          8
         ]
        },
        {
         "name": "个性化拆分数",
         "type": "scatter",
         "uid": "db3837de-e625-11e8-8ddb-a41f72875c19",
         "x": [
          8,
          9,
          10,
          11
         ],
         "y": [
          9,
          4,
          8,
          2
         ]
        },
        {
         "name": "自建库Index错误",
         "type": "scatter",
         "uid": "db3837df-e625-11e8-8ddb-a41f72875c19",
         "x": [
          8,
          9,
          10,
          11
         ],
         "y": [
          6,
          1,
          3,
          0
         ]
        },
        {
         "name": "测序异常",
         "type": "scatter",
         "uid": "db3837e0-e625-11e8-8ddb-a41f72875c19",
         "x": [
          8,
          9,
          10,
          11
         ],
         "y": [
          69,
          39,
          44,
          5
         ]
        }
       ],
       "layout": {
        "title": "lims系统错误&外来Index错误&个性化拆分数&自建库Index错误&测序异常月趋势图",
        "xaxis": {
         "mirror": "all",
         "nticks": 20,
         "showgrid": true,
         "showline": true,
         "title": "月",
         "type": "category",
         "zeroline": true
        },
        "yaxis": {
         "mirror": "all",
         "nticks": 20,
         "showgrid": true,
         "showline": true,
         "title": "lims系统错误&外来Index错误&个性化拆分数&自建库Index错误&测序异常",
         "zeroline": true
        }
       }
      },
      "text/html": [
       "<div id=\"2a813d6a-f077-4e29-83d8-3b099018dab3\" style=\"height: 525px; width: 100%;\" class=\"plotly-graph-div\"></div><script type=\"text/javascript\">require([\"plotly\"], function(Plotly) { window.PLOTLYENV=window.PLOTLYENV || {};window.PLOTLYENV.BASE_URL=\"https://plot.ly\";Plotly.newPlot(\"2a813d6a-f077-4e29-83d8-3b099018dab3\", [{\"name\": \"lims\\u7cfb\\u7edf\\u9519\\u8bef\", \"x\": [8, 9, 10, 11], \"y\": [6, 3, 6, 0], \"type\": \"scatter\", \"uid\": \"db3837dc-e625-11e8-8ddb-a41f72875c19\"}, {\"name\": \"\\u5916\\u6765Index\\u9519\\u8bef\", \"x\": [8, 9, 10, 11], \"y\": [20, 34, 36, 8], \"type\": \"scatter\", \"uid\": \"db3837dd-e625-11e8-8ddb-a41f72875c19\"}, {\"name\": \"\\u4e2a\\u6027\\u5316\\u62c6\\u5206\\u6570\", \"x\": [8, 9, 10, 11], \"y\": [9, 4, 8, 2], \"type\": \"scatter\", \"uid\": \"db3837de-e625-11e8-8ddb-a41f72875c19\"}, {\"name\": \"\\u81ea\\u5efa\\u5e93Index\\u9519\\u8bef\", \"x\": [8, 9, 10, 11], \"y\": [6, 1, 3, 0], \"type\": \"scatter\", \"uid\": \"db3837df-e625-11e8-8ddb-a41f72875c19\"}, {\"name\": \"\\u6d4b\\u5e8f\\u5f02\\u5e38\", \"x\": [8, 9, 10, 11], \"y\": [69, 39, 44, 5], \"type\": \"scatter\", \"uid\": \"db3837e0-e625-11e8-8ddb-a41f72875c19\"}], {\"title\": \"lims\\u7cfb\\u7edf\\u9519\\u8bef&\\u5916\\u6765Index\\u9519\\u8bef&\\u4e2a\\u6027\\u5316\\u62c6\\u5206\\u6570&\\u81ea\\u5efa\\u5e93Index\\u9519\\u8bef&\\u6d4b\\u5e8f\\u5f02\\u5e38\\u6708\\u8d8b\\u52bf\\u56fe\", \"xaxis\": {\"mirror\": \"all\", \"nticks\": 20, \"showgrid\": true, \"showline\": true, \"title\": \"\\u6708\", \"type\": \"category\", \"zeroline\": true}, \"yaxis\": {\"mirror\": \"all\", \"nticks\": 20, \"showgrid\": true, \"showline\": true, \"title\": \"lims\\u7cfb\\u7edf\\u9519\\u8bef&\\u5916\\u6765Index\\u9519\\u8bef&\\u4e2a\\u6027\\u5316\\u62c6\\u5206\\u6570&\\u81ea\\u5efa\\u5e93Index\\u9519\\u8bef&\\u6d4b\\u5e8f\\u5f02\\u5e38\", \"zeroline\": true}}, {\"showLink\": true, \"linkText\": \"Export to plot.ly\"})});</script>"
      ],
      "text/vnd.plotly.v1+html": [
       "<div id=\"2a813d6a-f077-4e29-83d8-3b099018dab3\" style=\"height: 525px; width: 100%;\" class=\"plotly-graph-div\"></div><script type=\"text/javascript\">require([\"plotly\"], function(Plotly) { window.PLOTLYENV=window.PLOTLYENV || {};window.PLOTLYENV.BASE_URL=\"https://plot.ly\";Plotly.newPlot(\"2a813d6a-f077-4e29-83d8-3b099018dab3\", [{\"name\": \"lims\\u7cfb\\u7edf\\u9519\\u8bef\", \"x\": [8, 9, 10, 11], \"y\": [6, 3, 6, 0], \"type\": \"scatter\", \"uid\": \"db3837dc-e625-11e8-8ddb-a41f72875c19\"}, {\"name\": \"\\u5916\\u6765Index\\u9519\\u8bef\", \"x\": [8, 9, 10, 11], \"y\": [20, 34, 36, 8], \"type\": \"scatter\", \"uid\": \"db3837dd-e625-11e8-8ddb-a41f72875c19\"}, {\"name\": \"\\u4e2a\\u6027\\u5316\\u62c6\\u5206\\u6570\", \"x\": [8, 9, 10, 11], \"y\": [9, 4, 8, 2], \"type\": \"scatter\", \"uid\": \"db3837de-e625-11e8-8ddb-a41f72875c19\"}, {\"name\": \"\\u81ea\\u5efa\\u5e93Index\\u9519\\u8bef\", \"x\": [8, 9, 10, 11], \"y\": [6, 1, 3, 0], \"type\": \"scatter\", \"uid\": \"db3837df-e625-11e8-8ddb-a41f72875c19\"}, {\"name\": \"\\u6d4b\\u5e8f\\u5f02\\u5e38\", \"x\": [8, 9, 10, 11], \"y\": [69, 39, 44, 5], \"type\": \"scatter\", \"uid\": \"db3837e0-e625-11e8-8ddb-a41f72875c19\"}], {\"title\": \"lims\\u7cfb\\u7edf\\u9519\\u8bef&\\u5916\\u6765Index\\u9519\\u8bef&\\u4e2a\\u6027\\u5316\\u62c6\\u5206\\u6570&\\u81ea\\u5efa\\u5e93Index\\u9519\\u8bef&\\u6d4b\\u5e8f\\u5f02\\u5e38\\u6708\\u8d8b\\u52bf\\u56fe\", \"xaxis\": {\"mirror\": \"all\", \"nticks\": 20, \"showgrid\": true, \"showline\": true, \"title\": \"\\u6708\", \"type\": \"category\", \"zeroline\": true}, \"yaxis\": {\"mirror\": \"all\", \"nticks\": 20, \"showgrid\": true, \"showline\": true, \"title\": \"lims\\u7cfb\\u7edf\\u9519\\u8bef&\\u5916\\u6765Index\\u9519\\u8bef&\\u4e2a\\u6027\\u5316\\u62c6\\u5206\\u6570&\\u81ea\\u5efa\\u5e93Index\\u9519\\u8bef&\\u6d4b\\u5e8f\\u5f02\\u5e38\", \"zeroline\": true}}, {\"showLink\": true, \"linkText\": \"Export to plot.ly\"})});</script>"
      ]
     },
     "metadata": {},
     "output_type": "display_data"
    }
   ],
   "source": [
    "in_list = ['测序异常', '外来Index错误' , '自建库Index错误' ,'lims系统错误', '个性化拆分数' ]\n",
    "ss = myModule.format(all_df2 ,\"日期（格式“月-周次”）\" ,in_list)\n",
    "myModule.myPlot(myModule.sort_by_index(ss.groupby('sum'))).plot('line')\n",
    "\n",
    "ss = myModule.format(all_df2 ,\"month\" ,in_list)\n",
    "myModule.myPlot(ss.groupby('sum')).plot('line','月')"
   ]
  },
  {
   "cell_type": "markdown",
   "metadata": {},
   "source": [
    "#### 拆分流程异常数，延期处理"
   ]
  },
  {
   "cell_type": "code",
   "execution_count": 168,
   "metadata": {
    "collapsed": false
   },
   "outputs": [
    {
     "data": {
      "application/vnd.plotly.v1+json": {
       "data": [
        {
         "name": "拆分流程异常数",
         "type": "scatter",
         "uid": "db3837e1-e625-11e8-8ddb-a41f72875c19",
         "x": [
          "8-1",
          "8-2",
          "8-3",
          "8-4",
          "8-5",
          "9-1",
          "9-2",
          "9-3",
          "9-4",
          "10-2",
          "10-3",
          "10-4",
          "10-5",
          "11-1"
         ],
         "y": [
          2,
          0,
          1,
          0,
          4,
          2,
          0,
          0,
          0,
          0,
          0,
          0,
          0,
          0
         ]
        },
        {
         "name": "处理延期",
         "type": "scatter",
         "uid": "db3837e2-e625-11e8-8ddb-a41f72875c19",
         "x": [
          "8-1",
          "8-2",
          "8-3",
          "8-4",
          "8-5",
          "9-1",
          "9-2",
          "9-3",
          "9-4",
          "10-2",
          "10-3",
          "10-4",
          "10-5",
          "11-1"
         ],
         "y": [
          0,
          0,
          0,
          0,
          0,
          0,
          0,
          0,
          1,
          2,
          0,
          0,
          1,
          0
         ]
        }
       ],
       "layout": {
        "title": "拆分流程异常数&处理延期周趋势图",
        "xaxis": {
         "mirror": "all",
         "nticks": 20,
         "showgrid": true,
         "showline": true,
         "title": "周",
         "type": "category",
         "zeroline": true
        },
        "yaxis": {
         "mirror": "all",
         "nticks": 20,
         "showgrid": true,
         "showline": true,
         "title": "拆分流程异常数&处理延期",
         "zeroline": true
        }
       }
      },
      "text/html": [
       "<div id=\"67dc77a8-4984-4352-9d7f-ba1dfd0fc30f\" style=\"height: 525px; width: 100%;\" class=\"plotly-graph-div\"></div><script type=\"text/javascript\">require([\"plotly\"], function(Plotly) { window.PLOTLYENV=window.PLOTLYENV || {};window.PLOTLYENV.BASE_URL=\"https://plot.ly\";Plotly.newPlot(\"67dc77a8-4984-4352-9d7f-ba1dfd0fc30f\", [{\"name\": \"\\u62c6\\u5206\\u6d41\\u7a0b\\u5f02\\u5e38\\u6570\", \"x\": [\"8-1\", \"8-2\", \"8-3\", \"8-4\", \"8-5\", \"9-1\", \"9-2\", \"9-3\", \"9-4\", \"10-2\", \"10-3\", \"10-4\", \"10-5\", \"11-1\"], \"y\": [2, 0, 1, 0, 4, 2, 0, 0, 0, 0, 0, 0, 0, 0], \"type\": \"scatter\", \"uid\": \"db3837e1-e625-11e8-8ddb-a41f72875c19\"}, {\"name\": \"\\u5904\\u7406\\u5ef6\\u671f\", \"x\": [\"8-1\", \"8-2\", \"8-3\", \"8-4\", \"8-5\", \"9-1\", \"9-2\", \"9-3\", \"9-4\", \"10-2\", \"10-3\", \"10-4\", \"10-5\", \"11-1\"], \"y\": [0, 0, 0, 0, 0, 0, 0, 0, 1, 2, 0, 0, 1, 0], \"type\": \"scatter\", \"uid\": \"db3837e2-e625-11e8-8ddb-a41f72875c19\"}], {\"title\": \"\\u62c6\\u5206\\u6d41\\u7a0b\\u5f02\\u5e38\\u6570&\\u5904\\u7406\\u5ef6\\u671f\\u5468\\u8d8b\\u52bf\\u56fe\", \"xaxis\": {\"mirror\": \"all\", \"nticks\": 20, \"showgrid\": true, \"showline\": true, \"title\": \"\\u5468\", \"type\": \"category\", \"zeroline\": true}, \"yaxis\": {\"mirror\": \"all\", \"nticks\": 20, \"showgrid\": true, \"showline\": true, \"title\": \"\\u62c6\\u5206\\u6d41\\u7a0b\\u5f02\\u5e38\\u6570&\\u5904\\u7406\\u5ef6\\u671f\", \"zeroline\": true}}, {\"showLink\": true, \"linkText\": \"Export to plot.ly\"})});</script>"
      ],
      "text/vnd.plotly.v1+html": [
       "<div id=\"67dc77a8-4984-4352-9d7f-ba1dfd0fc30f\" style=\"height: 525px; width: 100%;\" class=\"plotly-graph-div\"></div><script type=\"text/javascript\">require([\"plotly\"], function(Plotly) { window.PLOTLYENV=window.PLOTLYENV || {};window.PLOTLYENV.BASE_URL=\"https://plot.ly\";Plotly.newPlot(\"67dc77a8-4984-4352-9d7f-ba1dfd0fc30f\", [{\"name\": \"\\u62c6\\u5206\\u6d41\\u7a0b\\u5f02\\u5e38\\u6570\", \"x\": [\"8-1\", \"8-2\", \"8-3\", \"8-4\", \"8-5\", \"9-1\", \"9-2\", \"9-3\", \"9-4\", \"10-2\", \"10-3\", \"10-4\", \"10-5\", \"11-1\"], \"y\": [2, 0, 1, 0, 4, 2, 0, 0, 0, 0, 0, 0, 0, 0], \"type\": \"scatter\", \"uid\": \"db3837e1-e625-11e8-8ddb-a41f72875c19\"}, {\"name\": \"\\u5904\\u7406\\u5ef6\\u671f\", \"x\": [\"8-1\", \"8-2\", \"8-3\", \"8-4\", \"8-5\", \"9-1\", \"9-2\", \"9-3\", \"9-4\", \"10-2\", \"10-3\", \"10-4\", \"10-5\", \"11-1\"], \"y\": [0, 0, 0, 0, 0, 0, 0, 0, 1, 2, 0, 0, 1, 0], \"type\": \"scatter\", \"uid\": \"db3837e2-e625-11e8-8ddb-a41f72875c19\"}], {\"title\": \"\\u62c6\\u5206\\u6d41\\u7a0b\\u5f02\\u5e38\\u6570&\\u5904\\u7406\\u5ef6\\u671f\\u5468\\u8d8b\\u52bf\\u56fe\", \"xaxis\": {\"mirror\": \"all\", \"nticks\": 20, \"showgrid\": true, \"showline\": true, \"title\": \"\\u5468\", \"type\": \"category\", \"zeroline\": true}, \"yaxis\": {\"mirror\": \"all\", \"nticks\": 20, \"showgrid\": true, \"showline\": true, \"title\": \"\\u62c6\\u5206\\u6d41\\u7a0b\\u5f02\\u5e38\\u6570&\\u5904\\u7406\\u5ef6\\u671f\", \"zeroline\": true}}, {\"showLink\": true, \"linkText\": \"Export to plot.ly\"})});</script>"
      ]
     },
     "metadata": {},
     "output_type": "display_data"
    },
    {
     "data": {
      "application/vnd.plotly.v1+json": {
       "data": [
        {
         "name": "拆分流程异常数",
         "type": "scatter",
         "uid": "db3837e3-e625-11e8-8ddb-a41f72875c19",
         "x": [
          8,
          9,
          10,
          11
         ],
         "y": [
          1.4,
          0.5,
          0,
          0
         ]
        },
        {
         "name": "处理延期",
         "type": "scatter",
         "uid": "db3837e4-e625-11e8-8ddb-a41f72875c19",
         "x": [
          8,
          9,
          10,
          11
         ],
         "y": [
          0,
          0.25,
          0.6,
          0
         ]
        }
       ],
       "layout": {
        "title": "拆分流程异常数&处理延期月趋势图",
        "xaxis": {
         "mirror": "all",
         "nticks": 20,
         "showgrid": true,
         "showline": true,
         "title": "月",
         "type": "category",
         "zeroline": true
        },
        "yaxis": {
         "mirror": "all",
         "nticks": 20,
         "showgrid": true,
         "showline": true,
         "title": "拆分流程异常数&处理延期",
         "zeroline": true
        }
       }
      },
      "text/html": [
       "<div id=\"c5400b04-551c-4734-becc-3f41f8fbeb76\" style=\"height: 525px; width: 100%;\" class=\"plotly-graph-div\"></div><script type=\"text/javascript\">require([\"plotly\"], function(Plotly) { window.PLOTLYENV=window.PLOTLYENV || {};window.PLOTLYENV.BASE_URL=\"https://plot.ly\";Plotly.newPlot(\"c5400b04-551c-4734-becc-3f41f8fbeb76\", [{\"name\": \"\\u62c6\\u5206\\u6d41\\u7a0b\\u5f02\\u5e38\\u6570\", \"x\": [8, 9, 10, 11], \"y\": [1.4, 0.5, 0.0, 0.0], \"type\": \"scatter\", \"uid\": \"db3837e3-e625-11e8-8ddb-a41f72875c19\"}, {\"name\": \"\\u5904\\u7406\\u5ef6\\u671f\", \"x\": [8, 9, 10, 11], \"y\": [0.0, 0.25, 0.6, 0.0], \"type\": \"scatter\", \"uid\": \"db3837e4-e625-11e8-8ddb-a41f72875c19\"}], {\"title\": \"\\u62c6\\u5206\\u6d41\\u7a0b\\u5f02\\u5e38\\u6570&\\u5904\\u7406\\u5ef6\\u671f\\u6708\\u8d8b\\u52bf\\u56fe\", \"xaxis\": {\"mirror\": \"all\", \"nticks\": 20, \"showgrid\": true, \"showline\": true, \"title\": \"\\u6708\", \"type\": \"category\", \"zeroline\": true}, \"yaxis\": {\"mirror\": \"all\", \"nticks\": 20, \"showgrid\": true, \"showline\": true, \"title\": \"\\u62c6\\u5206\\u6d41\\u7a0b\\u5f02\\u5e38\\u6570&\\u5904\\u7406\\u5ef6\\u671f\", \"zeroline\": true}}, {\"showLink\": true, \"linkText\": \"Export to plot.ly\"})});</script>"
      ],
      "text/vnd.plotly.v1+html": [
       "<div id=\"c5400b04-551c-4734-becc-3f41f8fbeb76\" style=\"height: 525px; width: 100%;\" class=\"plotly-graph-div\"></div><script type=\"text/javascript\">require([\"plotly\"], function(Plotly) { window.PLOTLYENV=window.PLOTLYENV || {};window.PLOTLYENV.BASE_URL=\"https://plot.ly\";Plotly.newPlot(\"c5400b04-551c-4734-becc-3f41f8fbeb76\", [{\"name\": \"\\u62c6\\u5206\\u6d41\\u7a0b\\u5f02\\u5e38\\u6570\", \"x\": [8, 9, 10, 11], \"y\": [1.4, 0.5, 0.0, 0.0], \"type\": \"scatter\", \"uid\": \"db3837e3-e625-11e8-8ddb-a41f72875c19\"}, {\"name\": \"\\u5904\\u7406\\u5ef6\\u671f\", \"x\": [8, 9, 10, 11], \"y\": [0.0, 0.25, 0.6, 0.0], \"type\": \"scatter\", \"uid\": \"db3837e4-e625-11e8-8ddb-a41f72875c19\"}], {\"title\": \"\\u62c6\\u5206\\u6d41\\u7a0b\\u5f02\\u5e38\\u6570&\\u5904\\u7406\\u5ef6\\u671f\\u6708\\u8d8b\\u52bf\\u56fe\", \"xaxis\": {\"mirror\": \"all\", \"nticks\": 20, \"showgrid\": true, \"showline\": true, \"title\": \"\\u6708\", \"type\": \"category\", \"zeroline\": true}, \"yaxis\": {\"mirror\": \"all\", \"nticks\": 20, \"showgrid\": true, \"showline\": true, \"title\": \"\\u62c6\\u5206\\u6d41\\u7a0b\\u5f02\\u5e38\\u6570&\\u5904\\u7406\\u5ef6\\u671f\", \"zeroline\": true}}, {\"showLink\": true, \"linkText\": \"Export to plot.ly\"})});</script>"
      ]
     },
     "metadata": {},
     "output_type": "display_data"
    }
   ],
   "source": [
    "in_list = ['拆分流程异常数','处理延期' ]\n",
    "ss = myModule.format(all_df2 ,\"日期（格式“月-周次”）\" ,in_list)\n",
    "myModule.myPlot(myModule.sort_by_index(ss.groupby('sum'))).plot('line')\n",
    "\n",
    "ss = myModule.format(all_df2 ,\"month\" ,in_list)\n",
    "myModule.myPlot(ss.groupby('mean')).plot('line','月')"
   ]
  },
  {
   "cell_type": "code",
   "execution_count": 169,
   "metadata": {
    "collapsed": true
   },
   "outputs": [],
   "source": [
    "all_files , title = myModule.get_title(pathway , 0 ) ##给路径\n",
    "all_dict = myModule.read_xlsx(all_files, 0 ) ## read all files"
   ]
  },
  {
   "cell_type": "markdown",
   "metadata": {},
   "source": [
    "# 过滤项目个人情况"
   ]
  },
  {
   "cell_type": "markdown",
   "metadata": {},
   "source": [
    "## 产能"
   ]
  },
  {
   "cell_type": "markdown",
   "metadata": {},
   "source": [
    "### 下机批次"
   ]
  },
  {
   "cell_type": "code",
   "execution_count": 170,
   "metadata": {
    "collapsed": false
   },
   "outputs": [
    {
     "data": {
      "application/vnd.plotly.v1+json": {
       "data": [
        {
         "line": {
          "dash": "solid"
         },
         "name": "下机批次数(卢楠)",
         "type": "scatter",
         "uid": "db3837e5-e625-11e8-8ddb-a41f72875c19",
         "x": [
          "8-1",
          "8-2",
          "8-3",
          "8-4",
          "8-5",
          "9-1",
          "9-2",
          "9-3",
          "9-4",
          "10-2",
          "10-3",
          "10-4",
          "10-5",
          "11-1"
         ],
         "y": [
          36,
          47,
          23,
          13,
          3,
          2,
          3,
          null,
          null,
          null,
          null,
          null,
          null,
          null
         ]
        },
        {
         "line": {
          "dash": "dot"
         },
         "name": "下机批次数(王传文)",
         "type": "scatter",
         "uid": "db3837e6-e625-11e8-8ddb-a41f72875c19",
         "x": [
          "8-1",
          "8-2",
          "8-3",
          "8-4",
          "8-5",
          "9-1",
          "9-2",
          "9-3",
          "9-4",
          "10-2",
          "10-3",
          "10-4",
          "10-5",
          "11-1"
         ],
         "y": [
          null,
          null,
          null,
          null,
          null,
          null,
          null,
          null,
          null,
          null,
          null,
          null,
          5,
          5
         ]
        },
        {
         "line": {
          "dash": "dash"
         },
         "name": "下机批次数(冷雪)",
         "type": "scatter",
         "uid": "db3837e7-e625-11e8-8ddb-a41f72875c19",
         "x": [
          "8-1",
          "8-2",
          "8-3",
          "8-4",
          "8-5",
          "9-1",
          "9-2",
          "9-3",
          "9-4",
          "10-2",
          "10-3",
          "10-4",
          "10-5",
          "11-1"
         ],
         "y": [
          38,
          58,
          66,
          28,
          5,
          58,
          76,
          115,
          159,
          69,
          129,
          137,
          132,
          128
         ]
        },
        {
         "line": {
          "dash": "longdash"
         },
         "name": "下机批次数(林文文)",
         "type": "scatter",
         "uid": "db3837e8-e625-11e8-8ddb-a41f72875c19",
         "x": [
          "8-1",
          "8-2",
          "8-3",
          "8-4",
          "8-5",
          "9-1",
          "9-2",
          "9-3",
          "9-4",
          "10-2",
          "10-3",
          "10-4",
          "10-5",
          "11-1"
         ],
         "y": [
          null,
          null,
          null,
          null,
          null,
          null,
          null,
          null,
          null,
          null,
          null,
          null,
          6,
          6
         ]
        },
        {
         "line": {
          "dash": "dashdot"
         },
         "name": "下机批次数(高剑)",
         "type": "scatter",
         "uid": "db3837e9-e625-11e8-8ddb-a41f72875c19",
         "x": [
          "8-1",
          "8-2",
          "8-3",
          "8-4",
          "8-5",
          "9-1",
          "9-2",
          "9-3",
          "9-4",
          "10-2",
          "10-3",
          "10-4",
          "10-5",
          "11-1"
         ],
         "y": [
          null,
          null,
          null,
          null,
          null,
          null,
          null,
          null,
          null,
          null,
          null,
          null,
          4,
          4
         ]
        },
        {
         "line": {
          "dash": "longdashdot"
         },
         "name": "下机批次数(屈昂)",
         "type": "scatter",
         "uid": "db3837ea-e625-11e8-8ddb-a41f72875c19",
         "x": [
          "8-1",
          "8-2",
          "8-3",
          "8-4",
          "8-5",
          "9-1",
          "9-2",
          "9-3",
          "9-4",
          "10-2",
          "10-3",
          "10-4",
          "10-5",
          "11-1"
         ],
         "y": [
          42,
          74,
          75,
          119,
          85,
          135,
          45,
          21,
          17,
          1,
          3,
          0,
          1,
          2
         ]
        },
        {
         "line": {
          "dash": "solid"
         },
         "name": "下机批次数(沈恩惠)",
         "type": "scatter",
         "uid": "db3837eb-e625-11e8-8ddb-a41f72875c19",
         "x": [
          "8-1",
          "8-2",
          "8-3",
          "8-4",
          "8-5",
          "9-1",
          "9-2",
          "9-3",
          "9-4",
          "10-2",
          "10-3",
          "10-4",
          "10-5",
          "11-1"
         ],
         "y": [
          null,
          null,
          null,
          null,
          null,
          null,
          null,
          null,
          null,
          null,
          null,
          null,
          5,
          5
         ]
        },
        {
         "line": {
          "dash": "dot"
         },
         "name": "下机批次数(张悦)",
         "type": "scatter",
         "uid": "db3837ec-e625-11e8-8ddb-a41f72875c19",
         "x": [
          "8-1",
          "8-2",
          "8-3",
          "8-4",
          "8-5",
          "9-1",
          "9-2",
          "9-3",
          "9-4",
          "10-2",
          "10-3",
          "10-4",
          "10-5",
          "11-1"
         ],
         "y": [
          2,
          2,
          1,
          1,
          7,
          4,
          null,
          null,
          null,
          null,
          null,
          null,
          null,
          null
         ]
        },
        {
         "line": {
          "dash": "dash"
         },
         "name": "下机批次数(车天栋)",
         "type": "scatter",
         "uid": "db3837ed-e625-11e8-8ddb-a41f72875c19",
         "x": [
          "8-1",
          "8-2",
          "8-3",
          "8-4",
          "8-5",
          "9-1",
          "9-2",
          "9-3",
          "9-4",
          "10-2",
          "10-3",
          "10-4",
          "10-5",
          "11-1"
         ],
         "y": [
          null,
          null,
          null,
          null,
          null,
          null,
          null,
          null,
          null,
          null,
          null,
          null,
          2,
          2
         ]
        },
        {
         "line": {
          "dash": "longdash"
         },
         "name": "下机批次数(沈立群)",
         "type": "scatter",
         "uid": "db3837ee-e625-11e8-8ddb-a41f72875c19",
         "x": [
          "8-1",
          "8-2",
          "8-3",
          "8-4",
          "8-5",
          "9-1",
          "9-2",
          "9-3",
          "9-4",
          "10-2",
          "10-3",
          "10-4",
          "10-5",
          "11-1"
         ],
         "y": [
          null,
          null,
          null,
          null,
          null,
          null,
          null,
          null,
          null,
          null,
          null,
          null,
          4,
          4
         ]
        },
        {
         "line": {
          "dash": "solid"
         },
         "name": "下机项目数(卢楠)",
         "type": "scatter",
         "uid": "db3837ef-e625-11e8-8ddb-a41f72875c19",
         "x": [
          "8-1",
          "8-2",
          "8-3",
          "8-4",
          "8-5",
          "9-1",
          "9-2",
          "9-3",
          "9-4",
          "10-2",
          "10-3",
          "10-4",
          "10-5",
          "11-1"
         ],
         "y": [
          26,
          34,
          21,
          13,
          2,
          1,
          2,
          null,
          null,
          null,
          null,
          null,
          null,
          null
         ]
        },
        {
         "line": {
          "dash": "dot"
         },
         "name": "下机项目数(王传文)",
         "type": "scatter",
         "uid": "db3837f0-e625-11e8-8ddb-a41f72875c19",
         "x": [
          "8-1",
          "8-2",
          "8-3",
          "8-4",
          "8-5",
          "9-1",
          "9-2",
          "9-3",
          "9-4",
          "10-2",
          "10-3",
          "10-4",
          "10-5",
          "11-1"
         ],
         "y": [
          null,
          null,
          null,
          null,
          null,
          null,
          null,
          null,
          null,
          null,
          null,
          null,
          5,
          5
         ]
        },
        {
         "line": {
          "dash": "dash"
         },
         "name": "下机项目数(冷雪)",
         "type": "scatter",
         "uid": "db3837f1-e625-11e8-8ddb-a41f72875c19",
         "x": [
          "8-1",
          "8-2",
          "8-3",
          "8-4",
          "8-5",
          "9-1",
          "9-2",
          "9-3",
          "9-4",
          "10-2",
          "10-3",
          "10-4",
          "10-5",
          "11-1"
         ],
         "y": [
          31,
          49,
          51,
          26,
          2,
          54,
          63,
          103,
          138,
          65,
          107,
          124,
          109,
          105
         ]
        },
        {
         "line": {
          "dash": "longdash"
         },
         "name": "下机项目数(林文文)",
         "type": "scatter",
         "uid": "db3837f2-e625-11e8-8ddb-a41f72875c19",
         "x": [
          "8-1",
          "8-2",
          "8-3",
          "8-4",
          "8-5",
          "9-1",
          "9-2",
          "9-3",
          "9-4",
          "10-2",
          "10-3",
          "10-4",
          "10-5",
          "11-1"
         ],
         "y": [
          null,
          null,
          null,
          null,
          null,
          null,
          null,
          null,
          null,
          null,
          null,
          null,
          6,
          6
         ]
        },
        {
         "line": {
          "dash": "dashdot"
         },
         "name": "下机项目数(高剑)",
         "type": "scatter",
         "uid": "db3837f3-e625-11e8-8ddb-a41f72875c19",
         "x": [
          "8-1",
          "8-2",
          "8-3",
          "8-4",
          "8-5",
          "9-1",
          "9-2",
          "9-3",
          "9-4",
          "10-2",
          "10-3",
          "10-4",
          "10-5",
          "11-1"
         ],
         "y": [
          null,
          null,
          null,
          null,
          null,
          null,
          null,
          null,
          null,
          null,
          null,
          null,
          4,
          4
         ]
        },
        {
         "line": {
          "dash": "longdashdot"
         },
         "name": "下机项目数(屈昂)",
         "type": "scatter",
         "uid": "db3837f4-e625-11e8-8ddb-a41f72875c19",
         "x": [
          "8-1",
          "8-2",
          "8-3",
          "8-4",
          "8-5",
          "9-1",
          "9-2",
          "9-3",
          "9-4",
          "10-2",
          "10-3",
          "10-4",
          "10-5",
          "11-1"
         ],
         "y": [
          36,
          62,
          62,
          96,
          76,
          117,
          38,
          19,
          15,
          1,
          3,
          0,
          1,
          2
         ]
        },
        {
         "line": {
          "dash": "solid"
         },
         "name": "下机项目数(沈恩惠)",
         "type": "scatter",
         "uid": "db3837f5-e625-11e8-8ddb-a41f72875c19",
         "x": [
          "8-1",
          "8-2",
          "8-3",
          "8-4",
          "8-5",
          "9-1",
          "9-2",
          "9-3",
          "9-4",
          "10-2",
          "10-3",
          "10-4",
          "10-5",
          "11-1"
         ],
         "y": [
          null,
          null,
          null,
          null,
          null,
          null,
          null,
          null,
          null,
          null,
          null,
          null,
          5,
          5
         ]
        },
        {
         "line": {
          "dash": "dot"
         },
         "name": "下机项目数(张悦)",
         "type": "scatter",
         "uid": "db3837f6-e625-11e8-8ddb-a41f72875c19",
         "x": [
          "8-1",
          "8-2",
          "8-3",
          "8-4",
          "8-5",
          "9-1",
          "9-2",
          "9-3",
          "9-4",
          "10-2",
          "10-3",
          "10-4",
          "10-5",
          "11-1"
         ],
         "y": [
          1,
          1,
          1,
          1,
          5,
          2,
          null,
          null,
          null,
          null,
          null,
          null,
          null,
          null
         ]
        },
        {
         "line": {
          "dash": "dash"
         },
         "name": "下机项目数(车天栋)",
         "type": "scatter",
         "uid": "db3837f7-e625-11e8-8ddb-a41f72875c19",
         "x": [
          "8-1",
          "8-2",
          "8-3",
          "8-4",
          "8-5",
          "9-1",
          "9-2",
          "9-3",
          "9-4",
          "10-2",
          "10-3",
          "10-4",
          "10-5",
          "11-1"
         ],
         "y": [
          null,
          null,
          null,
          null,
          null,
          null,
          null,
          null,
          null,
          null,
          null,
          null,
          2,
          2
         ]
        },
        {
         "line": {
          "dash": "longdash"
         },
         "name": "下机项目数(沈立群)",
         "type": "scatter",
         "uid": "db3837f8-e625-11e8-8ddb-a41f72875c19",
         "x": [
          "8-1",
          "8-2",
          "8-3",
          "8-4",
          "8-5",
          "9-1",
          "9-2",
          "9-3",
          "9-4",
          "10-2",
          "10-3",
          "10-4",
          "10-5",
          "11-1"
         ],
         "y": [
          null,
          null,
          null,
          null,
          null,
          null,
          null,
          null,
          null,
          null,
          null,
          null,
          4,
          4
         ]
        }
       ],
       "layout": {
        "title": "下机批次数&下机项目数周趋势图",
        "xaxis": {
         "mirror": "all",
         "nticks": 20,
         "showgrid": true,
         "showline": true,
         "title": "周",
         "type": "category",
         "zeroline": true
        },
        "yaxis": {
         "mirror": "all",
         "nticks": 20,
         "showgrid": true,
         "showline": true,
         "title": "下机批次数&下机项目数",
         "zeroline": true
        }
       }
      },
      "text/html": [
       "<div id=\"ed86434f-36e7-4e44-8d63-290a22fd5c69\" style=\"height: 525px; width: 100%;\" class=\"plotly-graph-div\"></div><script type=\"text/javascript\">require([\"plotly\"], function(Plotly) { window.PLOTLYENV=window.PLOTLYENV || {};window.PLOTLYENV.BASE_URL=\"https://plot.ly\";Plotly.newPlot(\"ed86434f-36e7-4e44-8d63-290a22fd5c69\", [{\"line\": {\"dash\": \"solid\"}, \"name\": \"\\u4e0b\\u673a\\u6279\\u6b21\\u6570(\\u5362\\u6960)\", \"x\": [\"8-1\", \"8-2\", \"8-3\", \"8-4\", \"8-5\", \"9-1\", \"9-2\", \"9-3\", \"9-4\", \"10-2\", \"10-3\", \"10-4\", \"10-5\", \"11-1\"], \"y\": [36.0, 47.0, 23.0, 13.0, 3.0, 2.0, 3.0, null, null, null, null, null, null, null], \"type\": \"scatter\", \"uid\": \"db3837e5-e625-11e8-8ddb-a41f72875c19\"}, {\"line\": {\"dash\": \"dot\"}, \"name\": \"\\u4e0b\\u673a\\u6279\\u6b21\\u6570(\\u738b\\u4f20\\u6587)\", \"x\": [\"8-1\", \"8-2\", \"8-3\", \"8-4\", \"8-5\", \"9-1\", \"9-2\", \"9-3\", \"9-4\", \"10-2\", \"10-3\", \"10-4\", \"10-5\", \"11-1\"], \"y\": [null, null, null, null, null, null, null, null, null, null, null, null, 5.0, 5.0], \"type\": \"scatter\", \"uid\": \"db3837e6-e625-11e8-8ddb-a41f72875c19\"}, {\"line\": {\"dash\": \"dash\"}, \"name\": \"\\u4e0b\\u673a\\u6279\\u6b21\\u6570(\\u51b7\\u96ea)\", \"x\": [\"8-1\", \"8-2\", \"8-3\", \"8-4\", \"8-5\", \"9-1\", \"9-2\", \"9-3\", \"9-4\", \"10-2\", \"10-3\", \"10-4\", \"10-5\", \"11-1\"], \"y\": [38.0, 58.0, 66.0, 28.0, 5.0, 58.0, 76.0, 115.0, 159.0, 69.0, 129.0, 137.0, 132.0, 128.0], \"type\": \"scatter\", \"uid\": \"db3837e7-e625-11e8-8ddb-a41f72875c19\"}, {\"line\": {\"dash\": \"longdash\"}, \"name\": \"\\u4e0b\\u673a\\u6279\\u6b21\\u6570(\\u6797\\u6587\\u6587)\", \"x\": [\"8-1\", \"8-2\", \"8-3\", \"8-4\", \"8-5\", \"9-1\", \"9-2\", \"9-3\", \"9-4\", \"10-2\", \"10-3\", \"10-4\", \"10-5\", \"11-1\"], \"y\": [null, null, null, null, null, null, null, null, null, null, null, null, 6.0, 6.0], \"type\": \"scatter\", \"uid\": \"db3837e8-e625-11e8-8ddb-a41f72875c19\"}, {\"line\": {\"dash\": \"dashdot\"}, \"name\": \"\\u4e0b\\u673a\\u6279\\u6b21\\u6570(\\u9ad8\\u5251)\", \"x\": [\"8-1\", \"8-2\", \"8-3\", \"8-4\", \"8-5\", \"9-1\", \"9-2\", \"9-3\", \"9-4\", \"10-2\", \"10-3\", \"10-4\", \"10-5\", \"11-1\"], \"y\": [null, null, null, null, null, null, null, null, null, null, null, null, 4.0, 4.0], \"type\": \"scatter\", \"uid\": \"db3837e9-e625-11e8-8ddb-a41f72875c19\"}, {\"line\": {\"dash\": \"longdashdot\"}, \"name\": \"\\u4e0b\\u673a\\u6279\\u6b21\\u6570(\\u5c48\\u6602)\", \"x\": [\"8-1\", \"8-2\", \"8-3\", \"8-4\", \"8-5\", \"9-1\", \"9-2\", \"9-3\", \"9-4\", \"10-2\", \"10-3\", \"10-4\", \"10-5\", \"11-1\"], \"y\": [42.0, 74.0, 75.0, 119.0, 85.0, 135.0, 45.0, 21.0, 17.0, 1.0, 3.0, 0.0, 1.0, 2.0], \"type\": \"scatter\", \"uid\": \"db3837ea-e625-11e8-8ddb-a41f72875c19\"}, {\"line\": {\"dash\": \"solid\"}, \"name\": \"\\u4e0b\\u673a\\u6279\\u6b21\\u6570(\\u6c88\\u6069\\u60e0)\", \"x\": [\"8-1\", \"8-2\", \"8-3\", \"8-4\", \"8-5\", \"9-1\", \"9-2\", \"9-3\", \"9-4\", \"10-2\", \"10-3\", \"10-4\", \"10-5\", \"11-1\"], \"y\": [null, null, null, null, null, null, null, null, null, null, null, null, 5.0, 5.0], \"type\": \"scatter\", \"uid\": \"db3837eb-e625-11e8-8ddb-a41f72875c19\"}, {\"line\": {\"dash\": \"dot\"}, \"name\": \"\\u4e0b\\u673a\\u6279\\u6b21\\u6570(\\u5f20\\u60a6)\", \"x\": [\"8-1\", \"8-2\", \"8-3\", \"8-4\", \"8-5\", \"9-1\", \"9-2\", \"9-3\", \"9-4\", \"10-2\", \"10-3\", \"10-4\", \"10-5\", \"11-1\"], \"y\": [2.0, 2.0, 1.0, 1.0, 7.0, 4.0, null, null, null, null, null, null, null, null], \"type\": \"scatter\", \"uid\": \"db3837ec-e625-11e8-8ddb-a41f72875c19\"}, {\"line\": {\"dash\": \"dash\"}, \"name\": \"\\u4e0b\\u673a\\u6279\\u6b21\\u6570(\\u8f66\\u5929\\u680b)\", \"x\": [\"8-1\", \"8-2\", \"8-3\", \"8-4\", \"8-5\", \"9-1\", \"9-2\", \"9-3\", \"9-4\", \"10-2\", \"10-3\", \"10-4\", \"10-5\", \"11-1\"], \"y\": [null, null, null, null, null, null, null, null, null, null, null, null, 2.0, 2.0], \"type\": \"scatter\", \"uid\": \"db3837ed-e625-11e8-8ddb-a41f72875c19\"}, {\"line\": {\"dash\": \"longdash\"}, \"name\": \"\\u4e0b\\u673a\\u6279\\u6b21\\u6570(\\u6c88\\u7acb\\u7fa4)\", \"x\": [\"8-1\", \"8-2\", \"8-3\", \"8-4\", \"8-5\", \"9-1\", \"9-2\", \"9-3\", \"9-4\", \"10-2\", \"10-3\", \"10-4\", \"10-5\", \"11-1\"], \"y\": [null, null, null, null, null, null, null, null, null, null, null, null, 4.0, 4.0], \"type\": \"scatter\", \"uid\": \"db3837ee-e625-11e8-8ddb-a41f72875c19\"}, {\"line\": {\"dash\": \"solid\"}, \"name\": \"\\u4e0b\\u673a\\u9879\\u76ee\\u6570(\\u5362\\u6960)\", \"x\": [\"8-1\", \"8-2\", \"8-3\", \"8-4\", \"8-5\", \"9-1\", \"9-2\", \"9-3\", \"9-4\", \"10-2\", \"10-3\", \"10-4\", \"10-5\", \"11-1\"], \"y\": [26.0, 34.0, 21.0, 13.0, 2.0, 1.0, 2.0, null, null, null, null, null, null, null], \"type\": \"scatter\", \"uid\": \"db3837ef-e625-11e8-8ddb-a41f72875c19\"}, {\"line\": {\"dash\": \"dot\"}, \"name\": \"\\u4e0b\\u673a\\u9879\\u76ee\\u6570(\\u738b\\u4f20\\u6587)\", \"x\": [\"8-1\", \"8-2\", \"8-3\", \"8-4\", \"8-5\", \"9-1\", \"9-2\", \"9-3\", \"9-4\", \"10-2\", \"10-3\", \"10-4\", \"10-5\", \"11-1\"], \"y\": [null, null, null, null, null, null, null, null, null, null, null, null, 5.0, 5.0], \"type\": \"scatter\", \"uid\": \"db3837f0-e625-11e8-8ddb-a41f72875c19\"}, {\"line\": {\"dash\": \"dash\"}, \"name\": \"\\u4e0b\\u673a\\u9879\\u76ee\\u6570(\\u51b7\\u96ea)\", \"x\": [\"8-1\", \"8-2\", \"8-3\", \"8-4\", \"8-5\", \"9-1\", \"9-2\", \"9-3\", \"9-4\", \"10-2\", \"10-3\", \"10-4\", \"10-5\", \"11-1\"], \"y\": [31.0, 49.0, 51.0, 26.0, 2.0, 54.0, 63.0, 103.0, 138.0, 65.0, 107.0, 124.0, 109.0, 105.0], \"type\": \"scatter\", \"uid\": \"db3837f1-e625-11e8-8ddb-a41f72875c19\"}, {\"line\": {\"dash\": \"longdash\"}, \"name\": \"\\u4e0b\\u673a\\u9879\\u76ee\\u6570(\\u6797\\u6587\\u6587)\", \"x\": [\"8-1\", \"8-2\", \"8-3\", \"8-4\", \"8-5\", \"9-1\", \"9-2\", \"9-3\", \"9-4\", \"10-2\", \"10-3\", \"10-4\", \"10-5\", \"11-1\"], \"y\": [null, null, null, null, null, null, null, null, null, null, null, null, 6.0, 6.0], \"type\": \"scatter\", \"uid\": \"db3837f2-e625-11e8-8ddb-a41f72875c19\"}, {\"line\": {\"dash\": \"dashdot\"}, \"name\": \"\\u4e0b\\u673a\\u9879\\u76ee\\u6570(\\u9ad8\\u5251)\", \"x\": [\"8-1\", \"8-2\", \"8-3\", \"8-4\", \"8-5\", \"9-1\", \"9-2\", \"9-3\", \"9-4\", \"10-2\", \"10-3\", \"10-4\", \"10-5\", \"11-1\"], \"y\": [null, null, null, null, null, null, null, null, null, null, null, null, 4.0, 4.0], \"type\": \"scatter\", \"uid\": \"db3837f3-e625-11e8-8ddb-a41f72875c19\"}, {\"line\": {\"dash\": \"longdashdot\"}, \"name\": \"\\u4e0b\\u673a\\u9879\\u76ee\\u6570(\\u5c48\\u6602)\", \"x\": [\"8-1\", \"8-2\", \"8-3\", \"8-4\", \"8-5\", \"9-1\", \"9-2\", \"9-3\", \"9-4\", \"10-2\", \"10-3\", \"10-4\", \"10-5\", \"11-1\"], \"y\": [36.0, 62.0, 62.0, 96.0, 76.0, 117.0, 38.0, 19.0, 15.0, 1.0, 3.0, 0.0, 1.0, 2.0], \"type\": \"scatter\", \"uid\": \"db3837f4-e625-11e8-8ddb-a41f72875c19\"}, {\"line\": {\"dash\": \"solid\"}, \"name\": \"\\u4e0b\\u673a\\u9879\\u76ee\\u6570(\\u6c88\\u6069\\u60e0)\", \"x\": [\"8-1\", \"8-2\", \"8-3\", \"8-4\", \"8-5\", \"9-1\", \"9-2\", \"9-3\", \"9-4\", \"10-2\", \"10-3\", \"10-4\", \"10-5\", \"11-1\"], \"y\": [null, null, null, null, null, null, null, null, null, null, null, null, 5.0, 5.0], \"type\": \"scatter\", \"uid\": \"db3837f5-e625-11e8-8ddb-a41f72875c19\"}, {\"line\": {\"dash\": \"dot\"}, \"name\": \"\\u4e0b\\u673a\\u9879\\u76ee\\u6570(\\u5f20\\u60a6)\", \"x\": [\"8-1\", \"8-2\", \"8-3\", \"8-4\", \"8-5\", \"9-1\", \"9-2\", \"9-3\", \"9-4\", \"10-2\", \"10-3\", \"10-4\", \"10-5\", \"11-1\"], \"y\": [1.0, 1.0, 1.0, 1.0, 5.0, 2.0, null, null, null, null, null, null, null, null], \"type\": \"scatter\", \"uid\": \"db3837f6-e625-11e8-8ddb-a41f72875c19\"}, {\"line\": {\"dash\": \"dash\"}, \"name\": \"\\u4e0b\\u673a\\u9879\\u76ee\\u6570(\\u8f66\\u5929\\u680b)\", \"x\": [\"8-1\", \"8-2\", \"8-3\", \"8-4\", \"8-5\", \"9-1\", \"9-2\", \"9-3\", \"9-4\", \"10-2\", \"10-3\", \"10-4\", \"10-5\", \"11-1\"], \"y\": [null, null, null, null, null, null, null, null, null, null, null, null, 2.0, 2.0], \"type\": \"scatter\", \"uid\": \"db3837f7-e625-11e8-8ddb-a41f72875c19\"}, {\"line\": {\"dash\": \"longdash\"}, \"name\": \"\\u4e0b\\u673a\\u9879\\u76ee\\u6570(\\u6c88\\u7acb\\u7fa4)\", \"x\": [\"8-1\", \"8-2\", \"8-3\", \"8-4\", \"8-5\", \"9-1\", \"9-2\", \"9-3\", \"9-4\", \"10-2\", \"10-3\", \"10-4\", \"10-5\", \"11-1\"], \"y\": [null, null, null, null, null, null, null, null, null, null, null, null, 4.0, 4.0], \"type\": \"scatter\", \"uid\": \"db3837f8-e625-11e8-8ddb-a41f72875c19\"}], {\"title\": \"\\u4e0b\\u673a\\u6279\\u6b21\\u6570&\\u4e0b\\u673a\\u9879\\u76ee\\u6570\\u5468\\u8d8b\\u52bf\\u56fe\", \"xaxis\": {\"mirror\": \"all\", \"nticks\": 20, \"showgrid\": true, \"showline\": true, \"title\": \"\\u5468\", \"type\": \"category\", \"zeroline\": true}, \"yaxis\": {\"mirror\": \"all\", \"nticks\": 20, \"showgrid\": true, \"showline\": true, \"title\": \"\\u4e0b\\u673a\\u6279\\u6b21\\u6570&\\u4e0b\\u673a\\u9879\\u76ee\\u6570\", \"zeroline\": true}}, {\"showLink\": true, \"linkText\": \"Export to plot.ly\"})});</script>"
      ],
      "text/vnd.plotly.v1+html": [
       "<div id=\"ed86434f-36e7-4e44-8d63-290a22fd5c69\" style=\"height: 525px; width: 100%;\" class=\"plotly-graph-div\"></div><script type=\"text/javascript\">require([\"plotly\"], function(Plotly) { window.PLOTLYENV=window.PLOTLYENV || {};window.PLOTLYENV.BASE_URL=\"https://plot.ly\";Plotly.newPlot(\"ed86434f-36e7-4e44-8d63-290a22fd5c69\", [{\"line\": {\"dash\": \"solid\"}, \"name\": \"\\u4e0b\\u673a\\u6279\\u6b21\\u6570(\\u5362\\u6960)\", \"x\": [\"8-1\", \"8-2\", \"8-3\", \"8-4\", \"8-5\", \"9-1\", \"9-2\", \"9-3\", \"9-4\", \"10-2\", \"10-3\", \"10-4\", \"10-5\", \"11-1\"], \"y\": [36.0, 47.0, 23.0, 13.0, 3.0, 2.0, 3.0, null, null, null, null, null, null, null], \"type\": \"scatter\", \"uid\": \"db3837e5-e625-11e8-8ddb-a41f72875c19\"}, {\"line\": {\"dash\": \"dot\"}, \"name\": \"\\u4e0b\\u673a\\u6279\\u6b21\\u6570(\\u738b\\u4f20\\u6587)\", \"x\": [\"8-1\", \"8-2\", \"8-3\", \"8-4\", \"8-5\", \"9-1\", \"9-2\", \"9-3\", \"9-4\", \"10-2\", \"10-3\", \"10-4\", \"10-5\", \"11-1\"], \"y\": [null, null, null, null, null, null, null, null, null, null, null, null, 5.0, 5.0], \"type\": \"scatter\", \"uid\": \"db3837e6-e625-11e8-8ddb-a41f72875c19\"}, {\"line\": {\"dash\": \"dash\"}, \"name\": \"\\u4e0b\\u673a\\u6279\\u6b21\\u6570(\\u51b7\\u96ea)\", \"x\": [\"8-1\", \"8-2\", \"8-3\", \"8-4\", \"8-5\", \"9-1\", \"9-2\", \"9-3\", \"9-4\", \"10-2\", \"10-3\", \"10-4\", \"10-5\", \"11-1\"], \"y\": [38.0, 58.0, 66.0, 28.0, 5.0, 58.0, 76.0, 115.0, 159.0, 69.0, 129.0, 137.0, 132.0, 128.0], \"type\": \"scatter\", \"uid\": \"db3837e7-e625-11e8-8ddb-a41f72875c19\"}, {\"line\": {\"dash\": \"longdash\"}, \"name\": \"\\u4e0b\\u673a\\u6279\\u6b21\\u6570(\\u6797\\u6587\\u6587)\", \"x\": [\"8-1\", \"8-2\", \"8-3\", \"8-4\", \"8-5\", \"9-1\", \"9-2\", \"9-3\", \"9-4\", \"10-2\", \"10-3\", \"10-4\", \"10-5\", \"11-1\"], \"y\": [null, null, null, null, null, null, null, null, null, null, null, null, 6.0, 6.0], \"type\": \"scatter\", \"uid\": \"db3837e8-e625-11e8-8ddb-a41f72875c19\"}, {\"line\": {\"dash\": \"dashdot\"}, \"name\": \"\\u4e0b\\u673a\\u6279\\u6b21\\u6570(\\u9ad8\\u5251)\", \"x\": [\"8-1\", \"8-2\", \"8-3\", \"8-4\", \"8-5\", \"9-1\", \"9-2\", \"9-3\", \"9-4\", \"10-2\", \"10-3\", \"10-4\", \"10-5\", \"11-1\"], \"y\": [null, null, null, null, null, null, null, null, null, null, null, null, 4.0, 4.0], \"type\": \"scatter\", \"uid\": \"db3837e9-e625-11e8-8ddb-a41f72875c19\"}, {\"line\": {\"dash\": \"longdashdot\"}, \"name\": \"\\u4e0b\\u673a\\u6279\\u6b21\\u6570(\\u5c48\\u6602)\", \"x\": [\"8-1\", \"8-2\", \"8-3\", \"8-4\", \"8-5\", \"9-1\", \"9-2\", \"9-3\", \"9-4\", \"10-2\", \"10-3\", \"10-4\", \"10-5\", \"11-1\"], \"y\": [42.0, 74.0, 75.0, 119.0, 85.0, 135.0, 45.0, 21.0, 17.0, 1.0, 3.0, 0.0, 1.0, 2.0], \"type\": \"scatter\", \"uid\": \"db3837ea-e625-11e8-8ddb-a41f72875c19\"}, {\"line\": {\"dash\": \"solid\"}, \"name\": \"\\u4e0b\\u673a\\u6279\\u6b21\\u6570(\\u6c88\\u6069\\u60e0)\", \"x\": [\"8-1\", \"8-2\", \"8-3\", \"8-4\", \"8-5\", \"9-1\", \"9-2\", \"9-3\", \"9-4\", \"10-2\", \"10-3\", \"10-4\", \"10-5\", \"11-1\"], \"y\": [null, null, null, null, null, null, null, null, null, null, null, null, 5.0, 5.0], \"type\": \"scatter\", \"uid\": \"db3837eb-e625-11e8-8ddb-a41f72875c19\"}, {\"line\": {\"dash\": \"dot\"}, \"name\": \"\\u4e0b\\u673a\\u6279\\u6b21\\u6570(\\u5f20\\u60a6)\", \"x\": [\"8-1\", \"8-2\", \"8-3\", \"8-4\", \"8-5\", \"9-1\", \"9-2\", \"9-3\", \"9-4\", \"10-2\", \"10-3\", \"10-4\", \"10-5\", \"11-1\"], \"y\": [2.0, 2.0, 1.0, 1.0, 7.0, 4.0, null, null, null, null, null, null, null, null], \"type\": \"scatter\", \"uid\": \"db3837ec-e625-11e8-8ddb-a41f72875c19\"}, {\"line\": {\"dash\": \"dash\"}, \"name\": \"\\u4e0b\\u673a\\u6279\\u6b21\\u6570(\\u8f66\\u5929\\u680b)\", \"x\": [\"8-1\", \"8-2\", \"8-3\", \"8-4\", \"8-5\", \"9-1\", \"9-2\", \"9-3\", \"9-4\", \"10-2\", \"10-3\", \"10-4\", \"10-5\", \"11-1\"], \"y\": [null, null, null, null, null, null, null, null, null, null, null, null, 2.0, 2.0], \"type\": \"scatter\", \"uid\": \"db3837ed-e625-11e8-8ddb-a41f72875c19\"}, {\"line\": {\"dash\": \"longdash\"}, \"name\": \"\\u4e0b\\u673a\\u6279\\u6b21\\u6570(\\u6c88\\u7acb\\u7fa4)\", \"x\": [\"8-1\", \"8-2\", \"8-3\", \"8-4\", \"8-5\", \"9-1\", \"9-2\", \"9-3\", \"9-4\", \"10-2\", \"10-3\", \"10-4\", \"10-5\", \"11-1\"], \"y\": [null, null, null, null, null, null, null, null, null, null, null, null, 4.0, 4.0], \"type\": \"scatter\", \"uid\": \"db3837ee-e625-11e8-8ddb-a41f72875c19\"}, {\"line\": {\"dash\": \"solid\"}, \"name\": \"\\u4e0b\\u673a\\u9879\\u76ee\\u6570(\\u5362\\u6960)\", \"x\": [\"8-1\", \"8-2\", \"8-3\", \"8-4\", \"8-5\", \"9-1\", \"9-2\", \"9-3\", \"9-4\", \"10-2\", \"10-3\", \"10-4\", \"10-5\", \"11-1\"], \"y\": [26.0, 34.0, 21.0, 13.0, 2.0, 1.0, 2.0, null, null, null, null, null, null, null], \"type\": \"scatter\", \"uid\": \"db3837ef-e625-11e8-8ddb-a41f72875c19\"}, {\"line\": {\"dash\": \"dot\"}, \"name\": \"\\u4e0b\\u673a\\u9879\\u76ee\\u6570(\\u738b\\u4f20\\u6587)\", \"x\": [\"8-1\", \"8-2\", \"8-3\", \"8-4\", \"8-5\", \"9-1\", \"9-2\", \"9-3\", \"9-4\", \"10-2\", \"10-3\", \"10-4\", \"10-5\", \"11-1\"], \"y\": [null, null, null, null, null, null, null, null, null, null, null, null, 5.0, 5.0], \"type\": \"scatter\", \"uid\": \"db3837f0-e625-11e8-8ddb-a41f72875c19\"}, {\"line\": {\"dash\": \"dash\"}, \"name\": \"\\u4e0b\\u673a\\u9879\\u76ee\\u6570(\\u51b7\\u96ea)\", \"x\": [\"8-1\", \"8-2\", \"8-3\", \"8-4\", \"8-5\", \"9-1\", \"9-2\", \"9-3\", \"9-4\", \"10-2\", \"10-3\", \"10-4\", \"10-5\", \"11-1\"], \"y\": [31.0, 49.0, 51.0, 26.0, 2.0, 54.0, 63.0, 103.0, 138.0, 65.0, 107.0, 124.0, 109.0, 105.0], \"type\": \"scatter\", \"uid\": \"db3837f1-e625-11e8-8ddb-a41f72875c19\"}, {\"line\": {\"dash\": \"longdash\"}, \"name\": \"\\u4e0b\\u673a\\u9879\\u76ee\\u6570(\\u6797\\u6587\\u6587)\", \"x\": [\"8-1\", \"8-2\", \"8-3\", \"8-4\", \"8-5\", \"9-1\", \"9-2\", \"9-3\", \"9-4\", \"10-2\", \"10-3\", \"10-4\", \"10-5\", \"11-1\"], \"y\": [null, null, null, null, null, null, null, null, null, null, null, null, 6.0, 6.0], \"type\": \"scatter\", \"uid\": \"db3837f2-e625-11e8-8ddb-a41f72875c19\"}, {\"line\": {\"dash\": \"dashdot\"}, \"name\": \"\\u4e0b\\u673a\\u9879\\u76ee\\u6570(\\u9ad8\\u5251)\", \"x\": [\"8-1\", \"8-2\", \"8-3\", \"8-4\", \"8-5\", \"9-1\", \"9-2\", \"9-3\", \"9-4\", \"10-2\", \"10-3\", \"10-4\", \"10-5\", \"11-1\"], \"y\": [null, null, null, null, null, null, null, null, null, null, null, null, 4.0, 4.0], \"type\": \"scatter\", \"uid\": \"db3837f3-e625-11e8-8ddb-a41f72875c19\"}, {\"line\": {\"dash\": \"longdashdot\"}, \"name\": \"\\u4e0b\\u673a\\u9879\\u76ee\\u6570(\\u5c48\\u6602)\", \"x\": [\"8-1\", \"8-2\", \"8-3\", \"8-4\", \"8-5\", \"9-1\", \"9-2\", \"9-3\", \"9-4\", \"10-2\", \"10-3\", \"10-4\", \"10-5\", \"11-1\"], \"y\": [36.0, 62.0, 62.0, 96.0, 76.0, 117.0, 38.0, 19.0, 15.0, 1.0, 3.0, 0.0, 1.0, 2.0], \"type\": \"scatter\", \"uid\": \"db3837f4-e625-11e8-8ddb-a41f72875c19\"}, {\"line\": {\"dash\": \"solid\"}, \"name\": \"\\u4e0b\\u673a\\u9879\\u76ee\\u6570(\\u6c88\\u6069\\u60e0)\", \"x\": [\"8-1\", \"8-2\", \"8-3\", \"8-4\", \"8-5\", \"9-1\", \"9-2\", \"9-3\", \"9-4\", \"10-2\", \"10-3\", \"10-4\", \"10-5\", \"11-1\"], \"y\": [null, null, null, null, null, null, null, null, null, null, null, null, 5.0, 5.0], \"type\": \"scatter\", \"uid\": \"db3837f5-e625-11e8-8ddb-a41f72875c19\"}, {\"line\": {\"dash\": \"dot\"}, \"name\": \"\\u4e0b\\u673a\\u9879\\u76ee\\u6570(\\u5f20\\u60a6)\", \"x\": [\"8-1\", \"8-2\", \"8-3\", \"8-4\", \"8-5\", \"9-1\", \"9-2\", \"9-3\", \"9-4\", \"10-2\", \"10-3\", \"10-4\", \"10-5\", \"11-1\"], \"y\": [1.0, 1.0, 1.0, 1.0, 5.0, 2.0, null, null, null, null, null, null, null, null], \"type\": \"scatter\", \"uid\": \"db3837f6-e625-11e8-8ddb-a41f72875c19\"}, {\"line\": {\"dash\": \"dash\"}, \"name\": \"\\u4e0b\\u673a\\u9879\\u76ee\\u6570(\\u8f66\\u5929\\u680b)\", \"x\": [\"8-1\", \"8-2\", \"8-3\", \"8-4\", \"8-5\", \"9-1\", \"9-2\", \"9-3\", \"9-4\", \"10-2\", \"10-3\", \"10-4\", \"10-5\", \"11-1\"], \"y\": [null, null, null, null, null, null, null, null, null, null, null, null, 2.0, 2.0], \"type\": \"scatter\", \"uid\": \"db3837f7-e625-11e8-8ddb-a41f72875c19\"}, {\"line\": {\"dash\": \"longdash\"}, \"name\": \"\\u4e0b\\u673a\\u9879\\u76ee\\u6570(\\u6c88\\u7acb\\u7fa4)\", \"x\": [\"8-1\", \"8-2\", \"8-3\", \"8-4\", \"8-5\", \"9-1\", \"9-2\", \"9-3\", \"9-4\", \"10-2\", \"10-3\", \"10-4\", \"10-5\", \"11-1\"], \"y\": [null, null, null, null, null, null, null, null, null, null, null, null, 4.0, 4.0], \"type\": \"scatter\", \"uid\": \"db3837f8-e625-11e8-8ddb-a41f72875c19\"}], {\"title\": \"\\u4e0b\\u673a\\u6279\\u6b21\\u6570&\\u4e0b\\u673a\\u9879\\u76ee\\u6570\\u5468\\u8d8b\\u52bf\\u56fe\", \"xaxis\": {\"mirror\": \"all\", \"nticks\": 20, \"showgrid\": true, \"showline\": true, \"title\": \"\\u5468\", \"type\": \"category\", \"zeroline\": true}, \"yaxis\": {\"mirror\": \"all\", \"nticks\": 20, \"showgrid\": true, \"showline\": true, \"title\": \"\\u4e0b\\u673a\\u6279\\u6b21\\u6570&\\u4e0b\\u673a\\u9879\\u76ee\\u6570\", \"zeroline\": true}}, {\"showLink\": true, \"linkText\": \"Export to plot.ly\"})});</script>"
      ]
     },
     "metadata": {},
     "output_type": "display_data"
    },
    {
     "data": {
      "application/vnd.plotly.v1+json": {
       "data": [
        {
         "line": {
          "dash": "solid"
         },
         "name": "下机批次数(卢楠)",
         "type": "scatter",
         "uid": "dc72a0ce-e625-11e8-8ddb-a41f72875c19",
         "x": [
          8,
          9,
          10,
          11
         ],
         "y": [
          122,
          5,
          null,
          null
         ]
        },
        {
         "line": {
          "dash": "dot"
         },
         "name": "下机批次数(王传文)",
         "type": "scatter",
         "uid": "dc72a0cf-e625-11e8-8ddb-a41f72875c19",
         "x": [
          8,
          9,
          10,
          11
         ],
         "y": [
          null,
          null,
          5,
          5
         ]
        },
        {
         "line": {
          "dash": "dash"
         },
         "name": "下机批次数(冷雪)",
         "type": "scatter",
         "uid": "dc72a0d0-e625-11e8-8ddb-a41f72875c19",
         "x": [
          8,
          9,
          10,
          11
         ],
         "y": [
          195,
          408,
          467,
          128
         ]
        },
        {
         "line": {
          "dash": "longdash"
         },
         "name": "下机批次数(林文文)",
         "type": "scatter",
         "uid": "dc72a0d1-e625-11e8-8ddb-a41f72875c19",
         "x": [
          8,
          9,
          10,
          11
         ],
         "y": [
          null,
          null,
          6,
          6
         ]
        },
        {
         "line": {
          "dash": "dashdot"
         },
         "name": "下机批次数(高剑)",
         "type": "scatter",
         "uid": "dc72a0d2-e625-11e8-8ddb-a41f72875c19",
         "x": [
          8,
          9,
          10,
          11
         ],
         "y": [
          null,
          null,
          4,
          4
         ]
        },
        {
         "line": {
          "dash": "longdashdot"
         },
         "name": "下机批次数(屈昂)",
         "type": "scatter",
         "uid": "dc72a0d3-e625-11e8-8ddb-a41f72875c19",
         "x": [
          8,
          9,
          10,
          11
         ],
         "y": [
          395,
          218,
          5,
          2
         ]
        },
        {
         "line": {
          "dash": "solid"
         },
         "name": "下机批次数(沈恩惠)",
         "type": "scatter",
         "uid": "dc72a0d4-e625-11e8-8ddb-a41f72875c19",
         "x": [
          8,
          9,
          10,
          11
         ],
         "y": [
          null,
          null,
          5,
          5
         ]
        },
        {
         "line": {
          "dash": "dot"
         },
         "name": "下机批次数(张悦)",
         "type": "scatter",
         "uid": "dc72a0d5-e625-11e8-8ddb-a41f72875c19",
         "x": [
          8,
          9,
          10,
          11
         ],
         "y": [
          13,
          4,
          null,
          null
         ]
        },
        {
         "line": {
          "dash": "dash"
         },
         "name": "下机批次数(车天栋)",
         "type": "scatter",
         "uid": "dc72a0d6-e625-11e8-8ddb-a41f72875c19",
         "x": [
          8,
          9,
          10,
          11
         ],
         "y": [
          null,
          null,
          2,
          2
         ]
        },
        {
         "line": {
          "dash": "longdash"
         },
         "name": "下机批次数(沈立群)",
         "type": "scatter",
         "uid": "dc72a0d7-e625-11e8-8ddb-a41f72875c19",
         "x": [
          8,
          9,
          10,
          11
         ],
         "y": [
          null,
          null,
          4,
          4
         ]
        },
        {
         "line": {
          "dash": "solid"
         },
         "name": "下机项目数(卢楠)",
         "type": "scatter",
         "uid": "dc72a0d8-e625-11e8-8ddb-a41f72875c19",
         "x": [
          8,
          9,
          10,
          11
         ],
         "y": [
          96,
          3,
          null,
          null
         ]
        },
        {
         "line": {
          "dash": "dot"
         },
         "name": "下机项目数(王传文)",
         "type": "scatter",
         "uid": "dc72a0d9-e625-11e8-8ddb-a41f72875c19",
         "x": [
          8,
          9,
          10,
          11
         ],
         "y": [
          null,
          null,
          5,
          5
         ]
        },
        {
         "line": {
          "dash": "dash"
         },
         "name": "下机项目数(冷雪)",
         "type": "scatter",
         "uid": "dc72a0da-e625-11e8-8ddb-a41f72875c19",
         "x": [
          8,
          9,
          10,
          11
         ],
         "y": [
          159,
          358,
          405,
          105
         ]
        },
        {
         "line": {
          "dash": "longdash"
         },
         "name": "下机项目数(林文文)",
         "type": "scatter",
         "uid": "dc72a0db-e625-11e8-8ddb-a41f72875c19",
         "x": [
          8,
          9,
          10,
          11
         ],
         "y": [
          null,
          null,
          6,
          6
         ]
        },
        {
         "line": {
          "dash": "dashdot"
         },
         "name": "下机项目数(高剑)",
         "type": "scatter",
         "uid": "dc72a0dc-e625-11e8-8ddb-a41f72875c19",
         "x": [
          8,
          9,
          10,
          11
         ],
         "y": [
          null,
          null,
          4,
          4
         ]
        },
        {
         "line": {
          "dash": "longdashdot"
         },
         "name": "下机项目数(屈昂)",
         "type": "scatter",
         "uid": "dc72a0dd-e625-11e8-8ddb-a41f72875c19",
         "x": [
          8,
          9,
          10,
          11
         ],
         "y": [
          332,
          189,
          5,
          2
         ]
        },
        {
         "line": {
          "dash": "solid"
         },
         "name": "下机项目数(沈恩惠)",
         "type": "scatter",
         "uid": "dc72a0de-e625-11e8-8ddb-a41f72875c19",
         "x": [
          8,
          9,
          10,
          11
         ],
         "y": [
          null,
          null,
          5,
          5
         ]
        },
        {
         "line": {
          "dash": "dot"
         },
         "name": "下机项目数(张悦)",
         "type": "scatter",
         "uid": "dc72a0df-e625-11e8-8ddb-a41f72875c19",
         "x": [
          8,
          9,
          10,
          11
         ],
         "y": [
          9,
          2,
          null,
          null
         ]
        },
        {
         "line": {
          "dash": "dash"
         },
         "name": "下机项目数(车天栋)",
         "type": "scatter",
         "uid": "dc72a0e0-e625-11e8-8ddb-a41f72875c19",
         "x": [
          8,
          9,
          10,
          11
         ],
         "y": [
          null,
          null,
          2,
          2
         ]
        },
        {
         "line": {
          "dash": "longdash"
         },
         "name": "下机项目数(沈立群)",
         "type": "scatter",
         "uid": "dc72a0e1-e625-11e8-8ddb-a41f72875c19",
         "x": [
          8,
          9,
          10,
          11
         ],
         "y": [
          null,
          null,
          4,
          4
         ]
        }
       ],
       "layout": {
        "title": "下机批次数&下机项目数月趋势图",
        "xaxis": {
         "mirror": "all",
         "nticks": 20,
         "showgrid": true,
         "showline": true,
         "title": "月",
         "type": "category",
         "zeroline": true
        },
        "yaxis": {
         "mirror": "all",
         "nticks": 20,
         "showgrid": true,
         "showline": true,
         "title": "下机批次数&下机项目数",
         "zeroline": true
        }
       }
      },
      "text/html": [
       "<div id=\"03e69773-5c85-468b-a119-8dcf05065993\" style=\"height: 525px; width: 100%;\" class=\"plotly-graph-div\"></div><script type=\"text/javascript\">require([\"plotly\"], function(Plotly) { window.PLOTLYENV=window.PLOTLYENV || {};window.PLOTLYENV.BASE_URL=\"https://plot.ly\";Plotly.newPlot(\"03e69773-5c85-468b-a119-8dcf05065993\", [{\"line\": {\"dash\": \"solid\"}, \"name\": \"\\u4e0b\\u673a\\u6279\\u6b21\\u6570(\\u5362\\u6960)\", \"x\": [8, 9, 10, 11], \"y\": [122.0, 5.0, null, null], \"type\": \"scatter\", \"uid\": \"dc72a0ce-e625-11e8-8ddb-a41f72875c19\"}, {\"line\": {\"dash\": \"dot\"}, \"name\": \"\\u4e0b\\u673a\\u6279\\u6b21\\u6570(\\u738b\\u4f20\\u6587)\", \"x\": [8, 9, 10, 11], \"y\": [null, null, 5.0, 5.0], \"type\": \"scatter\", \"uid\": \"dc72a0cf-e625-11e8-8ddb-a41f72875c19\"}, {\"line\": {\"dash\": \"dash\"}, \"name\": \"\\u4e0b\\u673a\\u6279\\u6b21\\u6570(\\u51b7\\u96ea)\", \"x\": [8, 9, 10, 11], \"y\": [195.0, 408.0, 467.0, 128.0], \"type\": \"scatter\", \"uid\": \"dc72a0d0-e625-11e8-8ddb-a41f72875c19\"}, {\"line\": {\"dash\": \"longdash\"}, \"name\": \"\\u4e0b\\u673a\\u6279\\u6b21\\u6570(\\u6797\\u6587\\u6587)\", \"x\": [8, 9, 10, 11], \"y\": [null, null, 6.0, 6.0], \"type\": \"scatter\", \"uid\": \"dc72a0d1-e625-11e8-8ddb-a41f72875c19\"}, {\"line\": {\"dash\": \"dashdot\"}, \"name\": \"\\u4e0b\\u673a\\u6279\\u6b21\\u6570(\\u9ad8\\u5251)\", \"x\": [8, 9, 10, 11], \"y\": [null, null, 4.0, 4.0], \"type\": \"scatter\", \"uid\": \"dc72a0d2-e625-11e8-8ddb-a41f72875c19\"}, {\"line\": {\"dash\": \"longdashdot\"}, \"name\": \"\\u4e0b\\u673a\\u6279\\u6b21\\u6570(\\u5c48\\u6602)\", \"x\": [8, 9, 10, 11], \"y\": [395.0, 218.0, 5.0, 2.0], \"type\": \"scatter\", \"uid\": \"dc72a0d3-e625-11e8-8ddb-a41f72875c19\"}, {\"line\": {\"dash\": \"solid\"}, \"name\": \"\\u4e0b\\u673a\\u6279\\u6b21\\u6570(\\u6c88\\u6069\\u60e0)\", \"x\": [8, 9, 10, 11], \"y\": [null, null, 5.0, 5.0], \"type\": \"scatter\", \"uid\": \"dc72a0d4-e625-11e8-8ddb-a41f72875c19\"}, {\"line\": {\"dash\": \"dot\"}, \"name\": \"\\u4e0b\\u673a\\u6279\\u6b21\\u6570(\\u5f20\\u60a6)\", \"x\": [8, 9, 10, 11], \"y\": [13.0, 4.0, null, null], \"type\": \"scatter\", \"uid\": \"dc72a0d5-e625-11e8-8ddb-a41f72875c19\"}, {\"line\": {\"dash\": \"dash\"}, \"name\": \"\\u4e0b\\u673a\\u6279\\u6b21\\u6570(\\u8f66\\u5929\\u680b)\", \"x\": [8, 9, 10, 11], \"y\": [null, null, 2.0, 2.0], \"type\": \"scatter\", \"uid\": \"dc72a0d6-e625-11e8-8ddb-a41f72875c19\"}, {\"line\": {\"dash\": \"longdash\"}, \"name\": \"\\u4e0b\\u673a\\u6279\\u6b21\\u6570(\\u6c88\\u7acb\\u7fa4)\", \"x\": [8, 9, 10, 11], \"y\": [null, null, 4.0, 4.0], \"type\": \"scatter\", \"uid\": \"dc72a0d7-e625-11e8-8ddb-a41f72875c19\"}, {\"line\": {\"dash\": \"solid\"}, \"name\": \"\\u4e0b\\u673a\\u9879\\u76ee\\u6570(\\u5362\\u6960)\", \"x\": [8, 9, 10, 11], \"y\": [96.0, 3.0, null, null], \"type\": \"scatter\", \"uid\": \"dc72a0d8-e625-11e8-8ddb-a41f72875c19\"}, {\"line\": {\"dash\": \"dot\"}, \"name\": \"\\u4e0b\\u673a\\u9879\\u76ee\\u6570(\\u738b\\u4f20\\u6587)\", \"x\": [8, 9, 10, 11], \"y\": [null, null, 5.0, 5.0], \"type\": \"scatter\", \"uid\": \"dc72a0d9-e625-11e8-8ddb-a41f72875c19\"}, {\"line\": {\"dash\": \"dash\"}, \"name\": \"\\u4e0b\\u673a\\u9879\\u76ee\\u6570(\\u51b7\\u96ea)\", \"x\": [8, 9, 10, 11], \"y\": [159.0, 358.0, 405.0, 105.0], \"type\": \"scatter\", \"uid\": \"dc72a0da-e625-11e8-8ddb-a41f72875c19\"}, {\"line\": {\"dash\": \"longdash\"}, \"name\": \"\\u4e0b\\u673a\\u9879\\u76ee\\u6570(\\u6797\\u6587\\u6587)\", \"x\": [8, 9, 10, 11], \"y\": [null, null, 6.0, 6.0], \"type\": \"scatter\", \"uid\": \"dc72a0db-e625-11e8-8ddb-a41f72875c19\"}, {\"line\": {\"dash\": \"dashdot\"}, \"name\": \"\\u4e0b\\u673a\\u9879\\u76ee\\u6570(\\u9ad8\\u5251)\", \"x\": [8, 9, 10, 11], \"y\": [null, null, 4.0, 4.0], \"type\": \"scatter\", \"uid\": \"dc72a0dc-e625-11e8-8ddb-a41f72875c19\"}, {\"line\": {\"dash\": \"longdashdot\"}, \"name\": \"\\u4e0b\\u673a\\u9879\\u76ee\\u6570(\\u5c48\\u6602)\", \"x\": [8, 9, 10, 11], \"y\": [332.0, 189.0, 5.0, 2.0], \"type\": \"scatter\", \"uid\": \"dc72a0dd-e625-11e8-8ddb-a41f72875c19\"}, {\"line\": {\"dash\": \"solid\"}, \"name\": \"\\u4e0b\\u673a\\u9879\\u76ee\\u6570(\\u6c88\\u6069\\u60e0)\", \"x\": [8, 9, 10, 11], \"y\": [null, null, 5.0, 5.0], \"type\": \"scatter\", \"uid\": \"dc72a0de-e625-11e8-8ddb-a41f72875c19\"}, {\"line\": {\"dash\": \"dot\"}, \"name\": \"\\u4e0b\\u673a\\u9879\\u76ee\\u6570(\\u5f20\\u60a6)\", \"x\": [8, 9, 10, 11], \"y\": [9.0, 2.0, null, null], \"type\": \"scatter\", \"uid\": \"dc72a0df-e625-11e8-8ddb-a41f72875c19\"}, {\"line\": {\"dash\": \"dash\"}, \"name\": \"\\u4e0b\\u673a\\u9879\\u76ee\\u6570(\\u8f66\\u5929\\u680b)\", \"x\": [8, 9, 10, 11], \"y\": [null, null, 2.0, 2.0], \"type\": \"scatter\", \"uid\": \"dc72a0e0-e625-11e8-8ddb-a41f72875c19\"}, {\"line\": {\"dash\": \"longdash\"}, \"name\": \"\\u4e0b\\u673a\\u9879\\u76ee\\u6570(\\u6c88\\u7acb\\u7fa4)\", \"x\": [8, 9, 10, 11], \"y\": [null, null, 4.0, 4.0], \"type\": \"scatter\", \"uid\": \"dc72a0e1-e625-11e8-8ddb-a41f72875c19\"}], {\"title\": \"\\u4e0b\\u673a\\u6279\\u6b21\\u6570&\\u4e0b\\u673a\\u9879\\u76ee\\u6570\\u6708\\u8d8b\\u52bf\\u56fe\", \"xaxis\": {\"mirror\": \"all\", \"nticks\": 20, \"showgrid\": true, \"showline\": true, \"title\": \"\\u6708\", \"type\": \"category\", \"zeroline\": true}, \"yaxis\": {\"mirror\": \"all\", \"nticks\": 20, \"showgrid\": true, \"showline\": true, \"title\": \"\\u4e0b\\u673a\\u6279\\u6b21\\u6570&\\u4e0b\\u673a\\u9879\\u76ee\\u6570\", \"zeroline\": true}}, {\"showLink\": true, \"linkText\": \"Export to plot.ly\"})});</script>"
      ],
      "text/vnd.plotly.v1+html": [
       "<div id=\"03e69773-5c85-468b-a119-8dcf05065993\" style=\"height: 525px; width: 100%;\" class=\"plotly-graph-div\"></div><script type=\"text/javascript\">require([\"plotly\"], function(Plotly) { window.PLOTLYENV=window.PLOTLYENV || {};window.PLOTLYENV.BASE_URL=\"https://plot.ly\";Plotly.newPlot(\"03e69773-5c85-468b-a119-8dcf05065993\", [{\"line\": {\"dash\": \"solid\"}, \"name\": \"\\u4e0b\\u673a\\u6279\\u6b21\\u6570(\\u5362\\u6960)\", \"x\": [8, 9, 10, 11], \"y\": [122.0, 5.0, null, null], \"type\": \"scatter\", \"uid\": \"dc72a0ce-e625-11e8-8ddb-a41f72875c19\"}, {\"line\": {\"dash\": \"dot\"}, \"name\": \"\\u4e0b\\u673a\\u6279\\u6b21\\u6570(\\u738b\\u4f20\\u6587)\", \"x\": [8, 9, 10, 11], \"y\": [null, null, 5.0, 5.0], \"type\": \"scatter\", \"uid\": \"dc72a0cf-e625-11e8-8ddb-a41f72875c19\"}, {\"line\": {\"dash\": \"dash\"}, \"name\": \"\\u4e0b\\u673a\\u6279\\u6b21\\u6570(\\u51b7\\u96ea)\", \"x\": [8, 9, 10, 11], \"y\": [195.0, 408.0, 467.0, 128.0], \"type\": \"scatter\", \"uid\": \"dc72a0d0-e625-11e8-8ddb-a41f72875c19\"}, {\"line\": {\"dash\": \"longdash\"}, \"name\": \"\\u4e0b\\u673a\\u6279\\u6b21\\u6570(\\u6797\\u6587\\u6587)\", \"x\": [8, 9, 10, 11], \"y\": [null, null, 6.0, 6.0], \"type\": \"scatter\", \"uid\": \"dc72a0d1-e625-11e8-8ddb-a41f72875c19\"}, {\"line\": {\"dash\": \"dashdot\"}, \"name\": \"\\u4e0b\\u673a\\u6279\\u6b21\\u6570(\\u9ad8\\u5251)\", \"x\": [8, 9, 10, 11], \"y\": [null, null, 4.0, 4.0], \"type\": \"scatter\", \"uid\": \"dc72a0d2-e625-11e8-8ddb-a41f72875c19\"}, {\"line\": {\"dash\": \"longdashdot\"}, \"name\": \"\\u4e0b\\u673a\\u6279\\u6b21\\u6570(\\u5c48\\u6602)\", \"x\": [8, 9, 10, 11], \"y\": [395.0, 218.0, 5.0, 2.0], \"type\": \"scatter\", \"uid\": \"dc72a0d3-e625-11e8-8ddb-a41f72875c19\"}, {\"line\": {\"dash\": \"solid\"}, \"name\": \"\\u4e0b\\u673a\\u6279\\u6b21\\u6570(\\u6c88\\u6069\\u60e0)\", \"x\": [8, 9, 10, 11], \"y\": [null, null, 5.0, 5.0], \"type\": \"scatter\", \"uid\": \"dc72a0d4-e625-11e8-8ddb-a41f72875c19\"}, {\"line\": {\"dash\": \"dot\"}, \"name\": \"\\u4e0b\\u673a\\u6279\\u6b21\\u6570(\\u5f20\\u60a6)\", \"x\": [8, 9, 10, 11], \"y\": [13.0, 4.0, null, null], \"type\": \"scatter\", \"uid\": \"dc72a0d5-e625-11e8-8ddb-a41f72875c19\"}, {\"line\": {\"dash\": \"dash\"}, \"name\": \"\\u4e0b\\u673a\\u6279\\u6b21\\u6570(\\u8f66\\u5929\\u680b)\", \"x\": [8, 9, 10, 11], \"y\": [null, null, 2.0, 2.0], \"type\": \"scatter\", \"uid\": \"dc72a0d6-e625-11e8-8ddb-a41f72875c19\"}, {\"line\": {\"dash\": \"longdash\"}, \"name\": \"\\u4e0b\\u673a\\u6279\\u6b21\\u6570(\\u6c88\\u7acb\\u7fa4)\", \"x\": [8, 9, 10, 11], \"y\": [null, null, 4.0, 4.0], \"type\": \"scatter\", \"uid\": \"dc72a0d7-e625-11e8-8ddb-a41f72875c19\"}, {\"line\": {\"dash\": \"solid\"}, \"name\": \"\\u4e0b\\u673a\\u9879\\u76ee\\u6570(\\u5362\\u6960)\", \"x\": [8, 9, 10, 11], \"y\": [96.0, 3.0, null, null], \"type\": \"scatter\", \"uid\": \"dc72a0d8-e625-11e8-8ddb-a41f72875c19\"}, {\"line\": {\"dash\": \"dot\"}, \"name\": \"\\u4e0b\\u673a\\u9879\\u76ee\\u6570(\\u738b\\u4f20\\u6587)\", \"x\": [8, 9, 10, 11], \"y\": [null, null, 5.0, 5.0], \"type\": \"scatter\", \"uid\": \"dc72a0d9-e625-11e8-8ddb-a41f72875c19\"}, {\"line\": {\"dash\": \"dash\"}, \"name\": \"\\u4e0b\\u673a\\u9879\\u76ee\\u6570(\\u51b7\\u96ea)\", \"x\": [8, 9, 10, 11], \"y\": [159.0, 358.0, 405.0, 105.0], \"type\": \"scatter\", \"uid\": \"dc72a0da-e625-11e8-8ddb-a41f72875c19\"}, {\"line\": {\"dash\": \"longdash\"}, \"name\": \"\\u4e0b\\u673a\\u9879\\u76ee\\u6570(\\u6797\\u6587\\u6587)\", \"x\": [8, 9, 10, 11], \"y\": [null, null, 6.0, 6.0], \"type\": \"scatter\", \"uid\": \"dc72a0db-e625-11e8-8ddb-a41f72875c19\"}, {\"line\": {\"dash\": \"dashdot\"}, \"name\": \"\\u4e0b\\u673a\\u9879\\u76ee\\u6570(\\u9ad8\\u5251)\", \"x\": [8, 9, 10, 11], \"y\": [null, null, 4.0, 4.0], \"type\": \"scatter\", \"uid\": \"dc72a0dc-e625-11e8-8ddb-a41f72875c19\"}, {\"line\": {\"dash\": \"longdashdot\"}, \"name\": \"\\u4e0b\\u673a\\u9879\\u76ee\\u6570(\\u5c48\\u6602)\", \"x\": [8, 9, 10, 11], \"y\": [332.0, 189.0, 5.0, 2.0], \"type\": \"scatter\", \"uid\": \"dc72a0dd-e625-11e8-8ddb-a41f72875c19\"}, {\"line\": {\"dash\": \"solid\"}, \"name\": \"\\u4e0b\\u673a\\u9879\\u76ee\\u6570(\\u6c88\\u6069\\u60e0)\", \"x\": [8, 9, 10, 11], \"y\": [null, null, 5.0, 5.0], \"type\": \"scatter\", \"uid\": \"dc72a0de-e625-11e8-8ddb-a41f72875c19\"}, {\"line\": {\"dash\": \"dot\"}, \"name\": \"\\u4e0b\\u673a\\u9879\\u76ee\\u6570(\\u5f20\\u60a6)\", \"x\": [8, 9, 10, 11], \"y\": [9.0, 2.0, null, null], \"type\": \"scatter\", \"uid\": \"dc72a0df-e625-11e8-8ddb-a41f72875c19\"}, {\"line\": {\"dash\": \"dash\"}, \"name\": \"\\u4e0b\\u673a\\u9879\\u76ee\\u6570(\\u8f66\\u5929\\u680b)\", \"x\": [8, 9, 10, 11], \"y\": [null, null, 2.0, 2.0], \"type\": \"scatter\", \"uid\": \"dc72a0e0-e625-11e8-8ddb-a41f72875c19\"}, {\"line\": {\"dash\": \"longdash\"}, \"name\": \"\\u4e0b\\u673a\\u9879\\u76ee\\u6570(\\u6c88\\u7acb\\u7fa4)\", \"x\": [8, 9, 10, 11], \"y\": [null, null, 4.0, 4.0], \"type\": \"scatter\", \"uid\": \"dc72a0e1-e625-11e8-8ddb-a41f72875c19\"}], {\"title\": \"\\u4e0b\\u673a\\u6279\\u6b21\\u6570&\\u4e0b\\u673a\\u9879\\u76ee\\u6570\\u6708\\u8d8b\\u52bf\\u56fe\", \"xaxis\": {\"mirror\": \"all\", \"nticks\": 20, \"showgrid\": true, \"showline\": true, \"title\": \"\\u6708\", \"type\": \"category\", \"zeroline\": true}, \"yaxis\": {\"mirror\": \"all\", \"nticks\": 20, \"showgrid\": true, \"showline\": true, \"title\": \"\\u4e0b\\u673a\\u6279\\u6b21\\u6570&\\u4e0b\\u673a\\u9879\\u76ee\\u6570\", \"zeroline\": true}}, {\"showLink\": true, \"linkText\": \"Export to plot.ly\"})});</script>"
      ]
     },
     "metadata": {},
     "output_type": "display_data"
    }
   ],
   "source": [
    "in_list = ['下机批次数' ,'下机项目数' ]\n",
    "ss = myModule.format(all_df1 ,\"日期（格式“月-周次”）\" ,in_list)\n",
    "ss.add_group('人员')\n",
    "myModule.myPlot(myModule.sort_by_index(ss.groupby('sum'))).plot('line')\n",
    "\n",
    "ss = myModule.format(all_df1 ,\"month\" ,in_list)\n",
    "ss.add_group('人员')\n",
    "myModule.myPlot(ss.groupby('sum')).plot('line','月')"
   ]
  },
  {
   "cell_type": "markdown",
   "metadata": {},
   "source": [
    "## 效率"
   ]
  },
  {
   "cell_type": "markdown",
   "metadata": {},
   "source": [
    "### 反馈及时率和数据及时交付率"
   ]
  },
  {
   "cell_type": "code",
   "execution_count": 171,
   "metadata": {
    "collapsed": false
   },
   "outputs": [
    {
     "data": {
      "application/vnd.plotly.v1+json": {
       "data": [
        {
         "line": {
          "dash": "solid"
         },
         "name": "反馈及时率(卢楠)",
         "type": "scatter",
         "uid": "dc72a0e2-e625-11e8-8ddb-a41f72875c19",
         "x": [
          "8-1",
          "8-2",
          "8-3",
          "8-4",
          "8-5",
          "9-1",
          "9-2",
          "9-3",
          "9-4",
          "10-2",
          "10-3",
          "10-4",
          "10-5",
          "11-1"
         ],
         "y": [
          1,
          0.9574468085106383,
          0.9565217391304348,
          1,
          1,
          1,
          1,
          null,
          null,
          null,
          null,
          null,
          null,
          null
         ]
        },
        {
         "line": {
          "dash": "dot"
         },
         "name": "反馈及时率(王传文)",
         "type": "scatter",
         "uid": "dc72a0e3-e625-11e8-8ddb-a41f72875c19",
         "x": [
          "8-1",
          "8-2",
          "8-3",
          "8-4",
          "8-5",
          "9-1",
          "9-2",
          "9-3",
          "9-4",
          "10-2",
          "10-3",
          "10-4",
          "10-5",
          "11-1"
         ],
         "y": [
          null,
          null,
          null,
          null,
          null,
          null,
          null,
          null,
          null,
          null,
          null,
          null,
          1,
          1
         ]
        },
        {
         "line": {
          "dash": "dash"
         },
         "name": "反馈及时率(冷雪)",
         "type": "scatter",
         "uid": "dc72a0e4-e625-11e8-8ddb-a41f72875c19",
         "x": [
          "8-1",
          "8-2",
          "8-3",
          "8-4",
          "8-5",
          "9-1",
          "9-2",
          "9-3",
          "9-4",
          "10-2",
          "10-3",
          "10-4",
          "10-5",
          "11-1"
         ],
         "y": [
          0.9210526315789473,
          0.9655172413793104,
          1,
          1,
          1,
          0.9827586206896551,
          0.8947368421052632,
          1,
          0.9937106918238994,
          1,
          0.9767441860465116,
          0.948905109489051,
          1,
          0.96875
         ]
        },
        {
         "line": {
          "dash": "longdash"
         },
         "name": "反馈及时率(林文文)",
         "type": "scatter",
         "uid": "dc72a0e5-e625-11e8-8ddb-a41f72875c19",
         "x": [
          "8-1",
          "8-2",
          "8-3",
          "8-4",
          "8-5",
          "9-1",
          "9-2",
          "9-3",
          "9-4",
          "10-2",
          "10-3",
          "10-4",
          "10-5",
          "11-1"
         ],
         "y": [
          null,
          null,
          null,
          null,
          null,
          null,
          null,
          null,
          null,
          null,
          null,
          null,
          1,
          1
         ]
        },
        {
         "line": {
          "dash": "dashdot"
         },
         "name": "反馈及时率(高剑)",
         "type": "scatter",
         "uid": "dc72a0e6-e625-11e8-8ddb-a41f72875c19",
         "x": [
          "8-1",
          "8-2",
          "8-3",
          "8-4",
          "8-5",
          "9-1",
          "9-2",
          "9-3",
          "9-4",
          "10-2",
          "10-3",
          "10-4",
          "10-5",
          "11-1"
         ],
         "y": [
          null,
          null,
          null,
          null,
          null,
          null,
          null,
          null,
          null,
          null,
          null,
          null,
          1,
          1
         ]
        },
        {
         "line": {
          "dash": "longdashdot"
         },
         "name": "反馈及时率(屈昂)",
         "type": "scatter",
         "uid": "dc72a0e7-e625-11e8-8ddb-a41f72875c19",
         "x": [
          "8-1",
          "8-2",
          "8-3",
          "8-4",
          "8-5",
          "9-1",
          "9-2",
          "9-3",
          "9-4",
          "10-2",
          "10-3",
          "10-4",
          "10-5",
          "11-1"
         ],
         "y": [
          0.9761904761904762,
          0.972972972972973,
          0.9866666666666667,
          0.957983193277311,
          0.9176470588235294,
          0.9851851851851852,
          0.9777777777777777,
          1,
          1,
          1,
          1,
          null,
          1,
          1
         ]
        },
        {
         "line": {
          "dash": "solid"
         },
         "name": "反馈及时率(沈恩惠)",
         "type": "scatter",
         "uid": "dc72a0e8-e625-11e8-8ddb-a41f72875c19",
         "x": [
          "8-1",
          "8-2",
          "8-3",
          "8-4",
          "8-5",
          "9-1",
          "9-2",
          "9-3",
          "9-4",
          "10-2",
          "10-3",
          "10-4",
          "10-5",
          "11-1"
         ],
         "y": [
          null,
          null,
          null,
          null,
          null,
          null,
          null,
          null,
          null,
          null,
          null,
          null,
          1,
          1
         ]
        },
        {
         "line": {
          "dash": "dot"
         },
         "name": "反馈及时率(张悦)",
         "type": "scatter",
         "uid": "dc72a0e9-e625-11e8-8ddb-a41f72875c19",
         "x": [
          "8-1",
          "8-2",
          "8-3",
          "8-4",
          "8-5",
          "9-1",
          "9-2",
          "9-3",
          "9-4",
          "10-2",
          "10-3",
          "10-4",
          "10-5",
          "11-1"
         ],
         "y": [
          1,
          1,
          1,
          1,
          1,
          1,
          null,
          null,
          null,
          null,
          null,
          null,
          null,
          null
         ]
        },
        {
         "line": {
          "dash": "dash"
         },
         "name": "反馈及时率(车天栋)",
         "type": "scatter",
         "uid": "dc72a0ea-e625-11e8-8ddb-a41f72875c19",
         "x": [
          "8-1",
          "8-2",
          "8-3",
          "8-4",
          "8-5",
          "9-1",
          "9-2",
          "9-3",
          "9-4",
          "10-2",
          "10-3",
          "10-4",
          "10-5",
          "11-1"
         ],
         "y": [
          null,
          null,
          null,
          null,
          null,
          null,
          null,
          null,
          null,
          null,
          null,
          null,
          1,
          1
         ]
        },
        {
         "line": {
          "dash": "longdash"
         },
         "name": "反馈及时率(沈立群)",
         "type": "scatter",
         "uid": "dc72a0eb-e625-11e8-8ddb-a41f72875c19",
         "x": [
          "8-1",
          "8-2",
          "8-3",
          "8-4",
          "8-5",
          "9-1",
          "9-2",
          "9-3",
          "9-4",
          "10-2",
          "10-3",
          "10-4",
          "10-5",
          "11-1"
         ],
         "y": [
          null,
          null,
          null,
          null,
          null,
          null,
          null,
          null,
          null,
          null,
          null,
          null,
          1,
          1
         ]
        },
        {
         "line": {
          "dash": "solid"
         },
         "name": "数据及时交付率(卢楠)",
         "type": "scatter",
         "uid": "dc72a0ec-e625-11e8-8ddb-a41f72875c19",
         "x": [
          "8-1",
          "8-2",
          "8-3",
          "8-4",
          "8-5",
          "9-1",
          "9-2",
          "9-3",
          "9-4",
          "10-2",
          "10-3",
          "10-4",
          "10-5",
          "11-1"
         ],
         "y": [
          1,
          1,
          1,
          1,
          1,
          1,
          1,
          null,
          null,
          null,
          null,
          null,
          null,
          null
         ]
        },
        {
         "line": {
          "dash": "dot"
         },
         "name": "数据及时交付率(王传文)",
         "type": "scatter",
         "uid": "dc72a0ed-e625-11e8-8ddb-a41f72875c19",
         "x": [
          "8-1",
          "8-2",
          "8-3",
          "8-4",
          "8-5",
          "9-1",
          "9-2",
          "9-3",
          "9-4",
          "10-2",
          "10-3",
          "10-4",
          "10-5",
          "11-1"
         ],
         "y": [
          null,
          null,
          null,
          null,
          null,
          null,
          null,
          null,
          null,
          null,
          null,
          null,
          0.8571428571428571,
          1
         ]
        },
        {
         "line": {
          "dash": "dash"
         },
         "name": "数据及时交付率(冷雪)",
         "type": "scatter",
         "uid": "dc72a0ee-e625-11e8-8ddb-a41f72875c19",
         "x": [
          "8-1",
          "8-2",
          "8-3",
          "8-4",
          "8-5",
          "9-1",
          "9-2",
          "9-3",
          "9-4",
          "10-2",
          "10-3",
          "10-4",
          "10-5",
          "11-1"
         ],
         "y": [
          1,
          1,
          1,
          1,
          1,
          1,
          1,
          1,
          1,
          1,
          1,
          1,
          1,
          1
         ]
        },
        {
         "line": {
          "dash": "longdash"
         },
         "name": "数据及时交付率(林文文)",
         "type": "scatter",
         "uid": "dc72a0ef-e625-11e8-8ddb-a41f72875c19",
         "x": [
          "8-1",
          "8-2",
          "8-3",
          "8-4",
          "8-5",
          "9-1",
          "9-2",
          "9-3",
          "9-4",
          "10-2",
          "10-3",
          "10-4",
          "10-5",
          "11-1"
         ],
         "y": [
          null,
          null,
          null,
          null,
          null,
          null,
          null,
          null,
          null,
          null,
          null,
          null,
          1,
          1
         ]
        },
        {
         "line": {
          "dash": "dashdot"
         },
         "name": "数据及时交付率(高剑)",
         "type": "scatter",
         "uid": "dc72a0f0-e625-11e8-8ddb-a41f72875c19",
         "x": [
          "8-1",
          "8-2",
          "8-3",
          "8-4",
          "8-5",
          "9-1",
          "9-2",
          "9-3",
          "9-4",
          "10-2",
          "10-3",
          "10-4",
          "10-5",
          "11-1"
         ],
         "y": [
          null,
          null,
          null,
          null,
          null,
          null,
          null,
          null,
          null,
          null,
          null,
          null,
          null,
          1
         ]
        },
        {
         "line": {
          "dash": "longdashdot"
         },
         "name": "数据及时交付率(屈昂)",
         "type": "scatter",
         "uid": "dc72a0f1-e625-11e8-8ddb-a41f72875c19",
         "x": [
          "8-1",
          "8-2",
          "8-3",
          "8-4",
          "8-5",
          "9-1",
          "9-2",
          "9-3",
          "9-4",
          "10-2",
          "10-3",
          "10-4",
          "10-5",
          "11-1"
         ],
         "y": [
          1,
          1,
          1,
          1,
          1,
          1,
          1,
          1,
          1,
          1,
          1,
          1,
          1,
          1
         ]
        },
        {
         "line": {
          "dash": "solid"
         },
         "name": "数据及时交付率(沈恩惠)",
         "type": "scatter",
         "uid": "dc72a0f2-e625-11e8-8ddb-a41f72875c19",
         "x": [
          "8-1",
          "8-2",
          "8-3",
          "8-4",
          "8-5",
          "9-1",
          "9-2",
          "9-3",
          "9-4",
          "10-2",
          "10-3",
          "10-4",
          "10-5",
          "11-1"
         ],
         "y": [
          null,
          null,
          null,
          null,
          null,
          null,
          null,
          null,
          null,
          null,
          null,
          null,
          1,
          1
         ]
        },
        {
         "line": {
          "dash": "dot"
         },
         "name": "数据及时交付率(张悦)",
         "type": "scatter",
         "uid": "dc72a0f3-e625-11e8-8ddb-a41f72875c19",
         "x": [
          "8-1",
          "8-2",
          "8-3",
          "8-4",
          "8-5",
          "9-1",
          "9-2",
          "9-3",
          "9-4",
          "10-2",
          "10-3",
          "10-4",
          "10-5",
          "11-1"
         ],
         "y": [
          1,
          1,
          1,
          1,
          1,
          1,
          null,
          null,
          null,
          null,
          null,
          null,
          null,
          null
         ]
        },
        {
         "line": {
          "dash": "dash"
         },
         "name": "数据及时交付率(车天栋)",
         "type": "scatter",
         "uid": "dc72a0f4-e625-11e8-8ddb-a41f72875c19",
         "x": [
          "8-1",
          "8-2",
          "8-3",
          "8-4",
          "8-5",
          "9-1",
          "9-2",
          "9-3",
          "9-4",
          "10-2",
          "10-3",
          "10-4",
          "10-5",
          "11-1"
         ],
         "y": [
          null,
          null,
          null,
          null,
          null,
          null,
          null,
          null,
          null,
          null,
          null,
          null,
          1,
          1
         ]
        },
        {
         "line": {
          "dash": "longdash"
         },
         "name": "数据及时交付率(沈立群)",
         "type": "scatter",
         "uid": "dc72a0f5-e625-11e8-8ddb-a41f72875c19",
         "x": [
          "8-1",
          "8-2",
          "8-3",
          "8-4",
          "8-5",
          "9-1",
          "9-2",
          "9-3",
          "9-4",
          "10-2",
          "10-3",
          "10-4",
          "10-5",
          "11-1"
         ],
         "y": [
          null,
          null,
          null,
          null,
          null,
          null,
          null,
          null,
          null,
          null,
          null,
          null,
          1,
          1
         ]
        }
       ],
       "layout": {
        "title": "反馈及时率&数据及时交付率周趋势图",
        "xaxis": {
         "mirror": "all",
         "nticks": 20,
         "showgrid": true,
         "showline": true,
         "title": "周",
         "type": "category",
         "zeroline": true
        },
        "yaxis": {
         "mirror": "all",
         "nticks": 20,
         "showgrid": true,
         "showline": true,
         "title": "反馈及时率&数据及时交付率",
         "zeroline": true
        }
       }
      },
      "text/html": [
       "<div id=\"39f58617-f047-4ef9-93e4-ead9ba9b504f\" style=\"height: 525px; width: 100%;\" class=\"plotly-graph-div\"></div><script type=\"text/javascript\">require([\"plotly\"], function(Plotly) { window.PLOTLYENV=window.PLOTLYENV || {};window.PLOTLYENV.BASE_URL=\"https://plot.ly\";Plotly.newPlot(\"39f58617-f047-4ef9-93e4-ead9ba9b504f\", [{\"line\": {\"dash\": \"solid\"}, \"name\": \"\\u53cd\\u9988\\u53ca\\u65f6\\u7387(\\u5362\\u6960)\", \"x\": [\"8-1\", \"8-2\", \"8-3\", \"8-4\", \"8-5\", \"9-1\", \"9-2\", \"9-3\", \"9-4\", \"10-2\", \"10-3\", \"10-4\", \"10-5\", \"11-1\"], \"y\": [1.0, 0.9574468085106383, 0.9565217391304348, 1.0, 1.0, 1.0, 1.0, null, null, null, null, null, null, null], \"type\": \"scatter\", \"uid\": \"dc72a0e2-e625-11e8-8ddb-a41f72875c19\"}, {\"line\": {\"dash\": \"dot\"}, \"name\": \"\\u53cd\\u9988\\u53ca\\u65f6\\u7387(\\u738b\\u4f20\\u6587)\", \"x\": [\"8-1\", \"8-2\", \"8-3\", \"8-4\", \"8-5\", \"9-1\", \"9-2\", \"9-3\", \"9-4\", \"10-2\", \"10-3\", \"10-4\", \"10-5\", \"11-1\"], \"y\": [null, null, null, null, null, null, null, null, null, null, null, null, 1.0, 1.0], \"type\": \"scatter\", \"uid\": \"dc72a0e3-e625-11e8-8ddb-a41f72875c19\"}, {\"line\": {\"dash\": \"dash\"}, \"name\": \"\\u53cd\\u9988\\u53ca\\u65f6\\u7387(\\u51b7\\u96ea)\", \"x\": [\"8-1\", \"8-2\", \"8-3\", \"8-4\", \"8-5\", \"9-1\", \"9-2\", \"9-3\", \"9-4\", \"10-2\", \"10-3\", \"10-4\", \"10-5\", \"11-1\"], \"y\": [0.9210526315789473, 0.9655172413793104, 1.0, 1.0, 1.0, 0.9827586206896551, 0.8947368421052632, 1.0, 0.9937106918238994, 1.0, 0.9767441860465116, 0.948905109489051, 1.0, 0.96875], \"type\": \"scatter\", \"uid\": \"dc72a0e4-e625-11e8-8ddb-a41f72875c19\"}, {\"line\": {\"dash\": \"longdash\"}, \"name\": \"\\u53cd\\u9988\\u53ca\\u65f6\\u7387(\\u6797\\u6587\\u6587)\", \"x\": [\"8-1\", \"8-2\", \"8-3\", \"8-4\", \"8-5\", \"9-1\", \"9-2\", \"9-3\", \"9-4\", \"10-2\", \"10-3\", \"10-4\", \"10-5\", \"11-1\"], \"y\": [null, null, null, null, null, null, null, null, null, null, null, null, 1.0, 1.0], \"type\": \"scatter\", \"uid\": \"dc72a0e5-e625-11e8-8ddb-a41f72875c19\"}, {\"line\": {\"dash\": \"dashdot\"}, \"name\": \"\\u53cd\\u9988\\u53ca\\u65f6\\u7387(\\u9ad8\\u5251)\", \"x\": [\"8-1\", \"8-2\", \"8-3\", \"8-4\", \"8-5\", \"9-1\", \"9-2\", \"9-3\", \"9-4\", \"10-2\", \"10-3\", \"10-4\", \"10-5\", \"11-1\"], \"y\": [null, null, null, null, null, null, null, null, null, null, null, null, 1.0, 1.0], \"type\": \"scatter\", \"uid\": \"dc72a0e6-e625-11e8-8ddb-a41f72875c19\"}, {\"line\": {\"dash\": \"longdashdot\"}, \"name\": \"\\u53cd\\u9988\\u53ca\\u65f6\\u7387(\\u5c48\\u6602)\", \"x\": [\"8-1\", \"8-2\", \"8-3\", \"8-4\", \"8-5\", \"9-1\", \"9-2\", \"9-3\", \"9-4\", \"10-2\", \"10-3\", \"10-4\", \"10-5\", \"11-1\"], \"y\": [0.9761904761904762, 0.972972972972973, 0.9866666666666667, 0.957983193277311, 0.9176470588235294, 0.9851851851851852, 0.9777777777777777, 1.0, 1.0, 1.0, 1.0, null, 1.0, 1.0], \"type\": \"scatter\", \"uid\": \"dc72a0e7-e625-11e8-8ddb-a41f72875c19\"}, {\"line\": {\"dash\": \"solid\"}, \"name\": \"\\u53cd\\u9988\\u53ca\\u65f6\\u7387(\\u6c88\\u6069\\u60e0)\", \"x\": [\"8-1\", \"8-2\", \"8-3\", \"8-4\", \"8-5\", \"9-1\", \"9-2\", \"9-3\", \"9-4\", \"10-2\", \"10-3\", \"10-4\", \"10-5\", \"11-1\"], \"y\": [null, null, null, null, null, null, null, null, null, null, null, null, 1.0, 1.0], \"type\": \"scatter\", \"uid\": \"dc72a0e8-e625-11e8-8ddb-a41f72875c19\"}, {\"line\": {\"dash\": \"dot\"}, \"name\": \"\\u53cd\\u9988\\u53ca\\u65f6\\u7387(\\u5f20\\u60a6)\", \"x\": [\"8-1\", \"8-2\", \"8-3\", \"8-4\", \"8-5\", \"9-1\", \"9-2\", \"9-3\", \"9-4\", \"10-2\", \"10-3\", \"10-4\", \"10-5\", \"11-1\"], \"y\": [1.0, 1.0, 1.0, 1.0, 1.0, 1.0, null, null, null, null, null, null, null, null], \"type\": \"scatter\", \"uid\": \"dc72a0e9-e625-11e8-8ddb-a41f72875c19\"}, {\"line\": {\"dash\": \"dash\"}, \"name\": \"\\u53cd\\u9988\\u53ca\\u65f6\\u7387(\\u8f66\\u5929\\u680b)\", \"x\": [\"8-1\", \"8-2\", \"8-3\", \"8-4\", \"8-5\", \"9-1\", \"9-2\", \"9-3\", \"9-4\", \"10-2\", \"10-3\", \"10-4\", \"10-5\", \"11-1\"], \"y\": [null, null, null, null, null, null, null, null, null, null, null, null, 1.0, 1.0], \"type\": \"scatter\", \"uid\": \"dc72a0ea-e625-11e8-8ddb-a41f72875c19\"}, {\"line\": {\"dash\": \"longdash\"}, \"name\": \"\\u53cd\\u9988\\u53ca\\u65f6\\u7387(\\u6c88\\u7acb\\u7fa4)\", \"x\": [\"8-1\", \"8-2\", \"8-3\", \"8-4\", \"8-5\", \"9-1\", \"9-2\", \"9-3\", \"9-4\", \"10-2\", \"10-3\", \"10-4\", \"10-5\", \"11-1\"], \"y\": [null, null, null, null, null, null, null, null, null, null, null, null, 1.0, 1.0], \"type\": \"scatter\", \"uid\": \"dc72a0eb-e625-11e8-8ddb-a41f72875c19\"}, {\"line\": {\"dash\": \"solid\"}, \"name\": \"\\u6570\\u636e\\u53ca\\u65f6\\u4ea4\\u4ed8\\u7387(\\u5362\\u6960)\", \"x\": [\"8-1\", \"8-2\", \"8-3\", \"8-4\", \"8-5\", \"9-1\", \"9-2\", \"9-3\", \"9-4\", \"10-2\", \"10-3\", \"10-4\", \"10-5\", \"11-1\"], \"y\": [1.0, 1.0, 1.0, 1.0, 1.0, 1.0, 1.0, null, null, null, null, null, null, null], \"type\": \"scatter\", \"uid\": \"dc72a0ec-e625-11e8-8ddb-a41f72875c19\"}, {\"line\": {\"dash\": \"dot\"}, \"name\": \"\\u6570\\u636e\\u53ca\\u65f6\\u4ea4\\u4ed8\\u7387(\\u738b\\u4f20\\u6587)\", \"x\": [\"8-1\", \"8-2\", \"8-3\", \"8-4\", \"8-5\", \"9-1\", \"9-2\", \"9-3\", \"9-4\", \"10-2\", \"10-3\", \"10-4\", \"10-5\", \"11-1\"], \"y\": [null, null, null, null, null, null, null, null, null, null, null, null, 0.8571428571428571, 1.0], \"type\": \"scatter\", \"uid\": \"dc72a0ed-e625-11e8-8ddb-a41f72875c19\"}, {\"line\": {\"dash\": \"dash\"}, \"name\": \"\\u6570\\u636e\\u53ca\\u65f6\\u4ea4\\u4ed8\\u7387(\\u51b7\\u96ea)\", \"x\": [\"8-1\", \"8-2\", \"8-3\", \"8-4\", \"8-5\", \"9-1\", \"9-2\", \"9-3\", \"9-4\", \"10-2\", \"10-3\", \"10-4\", \"10-5\", \"11-1\"], \"y\": [1.0, 1.0, 1.0, 1.0, 1.0, 1.0, 1.0, 1.0, 1.0, 1.0, 1.0, 1.0, 1.0, 1.0], \"type\": \"scatter\", \"uid\": \"dc72a0ee-e625-11e8-8ddb-a41f72875c19\"}, {\"line\": {\"dash\": \"longdash\"}, \"name\": \"\\u6570\\u636e\\u53ca\\u65f6\\u4ea4\\u4ed8\\u7387(\\u6797\\u6587\\u6587)\", \"x\": [\"8-1\", \"8-2\", \"8-3\", \"8-4\", \"8-5\", \"9-1\", \"9-2\", \"9-3\", \"9-4\", \"10-2\", \"10-3\", \"10-4\", \"10-5\", \"11-1\"], \"y\": [null, null, null, null, null, null, null, null, null, null, null, null, 1.0, 1.0], \"type\": \"scatter\", \"uid\": \"dc72a0ef-e625-11e8-8ddb-a41f72875c19\"}, {\"line\": {\"dash\": \"dashdot\"}, \"name\": \"\\u6570\\u636e\\u53ca\\u65f6\\u4ea4\\u4ed8\\u7387(\\u9ad8\\u5251)\", \"x\": [\"8-1\", \"8-2\", \"8-3\", \"8-4\", \"8-5\", \"9-1\", \"9-2\", \"9-3\", \"9-4\", \"10-2\", \"10-3\", \"10-4\", \"10-5\", \"11-1\"], \"y\": [null, null, null, null, null, null, null, null, null, null, null, null, null, 1.0], \"type\": \"scatter\", \"uid\": \"dc72a0f0-e625-11e8-8ddb-a41f72875c19\"}, {\"line\": {\"dash\": \"longdashdot\"}, \"name\": \"\\u6570\\u636e\\u53ca\\u65f6\\u4ea4\\u4ed8\\u7387(\\u5c48\\u6602)\", \"x\": [\"8-1\", \"8-2\", \"8-3\", \"8-4\", \"8-5\", \"9-1\", \"9-2\", \"9-3\", \"9-4\", \"10-2\", \"10-3\", \"10-4\", \"10-5\", \"11-1\"], \"y\": [1.0, 1.0, 1.0, 1.0, 1.0, 1.0, 1.0, 1.0, 1.0, 1.0, 1.0, 1.0, 1.0, 1.0], \"type\": \"scatter\", \"uid\": \"dc72a0f1-e625-11e8-8ddb-a41f72875c19\"}, {\"line\": {\"dash\": \"solid\"}, \"name\": \"\\u6570\\u636e\\u53ca\\u65f6\\u4ea4\\u4ed8\\u7387(\\u6c88\\u6069\\u60e0)\", \"x\": [\"8-1\", \"8-2\", \"8-3\", \"8-4\", \"8-5\", \"9-1\", \"9-2\", \"9-3\", \"9-4\", \"10-2\", \"10-3\", \"10-4\", \"10-5\", \"11-1\"], \"y\": [null, null, null, null, null, null, null, null, null, null, null, null, 1.0, 1.0], \"type\": \"scatter\", \"uid\": \"dc72a0f2-e625-11e8-8ddb-a41f72875c19\"}, {\"line\": {\"dash\": \"dot\"}, \"name\": \"\\u6570\\u636e\\u53ca\\u65f6\\u4ea4\\u4ed8\\u7387(\\u5f20\\u60a6)\", \"x\": [\"8-1\", \"8-2\", \"8-3\", \"8-4\", \"8-5\", \"9-1\", \"9-2\", \"9-3\", \"9-4\", \"10-2\", \"10-3\", \"10-4\", \"10-5\", \"11-1\"], \"y\": [1.0, 1.0, 1.0, 1.0, 1.0, 1.0, null, null, null, null, null, null, null, null], \"type\": \"scatter\", \"uid\": \"dc72a0f3-e625-11e8-8ddb-a41f72875c19\"}, {\"line\": {\"dash\": \"dash\"}, \"name\": \"\\u6570\\u636e\\u53ca\\u65f6\\u4ea4\\u4ed8\\u7387(\\u8f66\\u5929\\u680b)\", \"x\": [\"8-1\", \"8-2\", \"8-3\", \"8-4\", \"8-5\", \"9-1\", \"9-2\", \"9-3\", \"9-4\", \"10-2\", \"10-3\", \"10-4\", \"10-5\", \"11-1\"], \"y\": [null, null, null, null, null, null, null, null, null, null, null, null, 1.0, 1.0], \"type\": \"scatter\", \"uid\": \"dc72a0f4-e625-11e8-8ddb-a41f72875c19\"}, {\"line\": {\"dash\": \"longdash\"}, \"name\": \"\\u6570\\u636e\\u53ca\\u65f6\\u4ea4\\u4ed8\\u7387(\\u6c88\\u7acb\\u7fa4)\", \"x\": [\"8-1\", \"8-2\", \"8-3\", \"8-4\", \"8-5\", \"9-1\", \"9-2\", \"9-3\", \"9-4\", \"10-2\", \"10-3\", \"10-4\", \"10-5\", \"11-1\"], \"y\": [null, null, null, null, null, null, null, null, null, null, null, null, 1.0, 1.0], \"type\": \"scatter\", \"uid\": \"dc72a0f5-e625-11e8-8ddb-a41f72875c19\"}], {\"title\": \"\\u53cd\\u9988\\u53ca\\u65f6\\u7387&\\u6570\\u636e\\u53ca\\u65f6\\u4ea4\\u4ed8\\u7387\\u5468\\u8d8b\\u52bf\\u56fe\", \"xaxis\": {\"mirror\": \"all\", \"nticks\": 20, \"showgrid\": true, \"showline\": true, \"title\": \"\\u5468\", \"type\": \"category\", \"zeroline\": true}, \"yaxis\": {\"mirror\": \"all\", \"nticks\": 20, \"showgrid\": true, \"showline\": true, \"title\": \"\\u53cd\\u9988\\u53ca\\u65f6\\u7387&\\u6570\\u636e\\u53ca\\u65f6\\u4ea4\\u4ed8\\u7387\", \"zeroline\": true}}, {\"showLink\": true, \"linkText\": \"Export to plot.ly\"})});</script>"
      ],
      "text/vnd.plotly.v1+html": [
       "<div id=\"39f58617-f047-4ef9-93e4-ead9ba9b504f\" style=\"height: 525px; width: 100%;\" class=\"plotly-graph-div\"></div><script type=\"text/javascript\">require([\"plotly\"], function(Plotly) { window.PLOTLYENV=window.PLOTLYENV || {};window.PLOTLYENV.BASE_URL=\"https://plot.ly\";Plotly.newPlot(\"39f58617-f047-4ef9-93e4-ead9ba9b504f\", [{\"line\": {\"dash\": \"solid\"}, \"name\": \"\\u53cd\\u9988\\u53ca\\u65f6\\u7387(\\u5362\\u6960)\", \"x\": [\"8-1\", \"8-2\", \"8-3\", \"8-4\", \"8-5\", \"9-1\", \"9-2\", \"9-3\", \"9-4\", \"10-2\", \"10-3\", \"10-4\", \"10-5\", \"11-1\"], \"y\": [1.0, 0.9574468085106383, 0.9565217391304348, 1.0, 1.0, 1.0, 1.0, null, null, null, null, null, null, null], \"type\": \"scatter\", \"uid\": \"dc72a0e2-e625-11e8-8ddb-a41f72875c19\"}, {\"line\": {\"dash\": \"dot\"}, \"name\": \"\\u53cd\\u9988\\u53ca\\u65f6\\u7387(\\u738b\\u4f20\\u6587)\", \"x\": [\"8-1\", \"8-2\", \"8-3\", \"8-4\", \"8-5\", \"9-1\", \"9-2\", \"9-3\", \"9-4\", \"10-2\", \"10-3\", \"10-4\", \"10-5\", \"11-1\"], \"y\": [null, null, null, null, null, null, null, null, null, null, null, null, 1.0, 1.0], \"type\": \"scatter\", \"uid\": \"dc72a0e3-e625-11e8-8ddb-a41f72875c19\"}, {\"line\": {\"dash\": \"dash\"}, \"name\": \"\\u53cd\\u9988\\u53ca\\u65f6\\u7387(\\u51b7\\u96ea)\", \"x\": [\"8-1\", \"8-2\", \"8-3\", \"8-4\", \"8-5\", \"9-1\", \"9-2\", \"9-3\", \"9-4\", \"10-2\", \"10-3\", \"10-4\", \"10-5\", \"11-1\"], \"y\": [0.9210526315789473, 0.9655172413793104, 1.0, 1.0, 1.0, 0.9827586206896551, 0.8947368421052632, 1.0, 0.9937106918238994, 1.0, 0.9767441860465116, 0.948905109489051, 1.0, 0.96875], \"type\": \"scatter\", \"uid\": \"dc72a0e4-e625-11e8-8ddb-a41f72875c19\"}, {\"line\": {\"dash\": \"longdash\"}, \"name\": \"\\u53cd\\u9988\\u53ca\\u65f6\\u7387(\\u6797\\u6587\\u6587)\", \"x\": [\"8-1\", \"8-2\", \"8-3\", \"8-4\", \"8-5\", \"9-1\", \"9-2\", \"9-3\", \"9-4\", \"10-2\", \"10-3\", \"10-4\", \"10-5\", \"11-1\"], \"y\": [null, null, null, null, null, null, null, null, null, null, null, null, 1.0, 1.0], \"type\": \"scatter\", \"uid\": \"dc72a0e5-e625-11e8-8ddb-a41f72875c19\"}, {\"line\": {\"dash\": \"dashdot\"}, \"name\": \"\\u53cd\\u9988\\u53ca\\u65f6\\u7387(\\u9ad8\\u5251)\", \"x\": [\"8-1\", \"8-2\", \"8-3\", \"8-4\", \"8-5\", \"9-1\", \"9-2\", \"9-3\", \"9-4\", \"10-2\", \"10-3\", \"10-4\", \"10-5\", \"11-1\"], \"y\": [null, null, null, null, null, null, null, null, null, null, null, null, 1.0, 1.0], \"type\": \"scatter\", \"uid\": \"dc72a0e6-e625-11e8-8ddb-a41f72875c19\"}, {\"line\": {\"dash\": \"longdashdot\"}, \"name\": \"\\u53cd\\u9988\\u53ca\\u65f6\\u7387(\\u5c48\\u6602)\", \"x\": [\"8-1\", \"8-2\", \"8-3\", \"8-4\", \"8-5\", \"9-1\", \"9-2\", \"9-3\", \"9-4\", \"10-2\", \"10-3\", \"10-4\", \"10-5\", \"11-1\"], \"y\": [0.9761904761904762, 0.972972972972973, 0.9866666666666667, 0.957983193277311, 0.9176470588235294, 0.9851851851851852, 0.9777777777777777, 1.0, 1.0, 1.0, 1.0, null, 1.0, 1.0], \"type\": \"scatter\", \"uid\": \"dc72a0e7-e625-11e8-8ddb-a41f72875c19\"}, {\"line\": {\"dash\": \"solid\"}, \"name\": \"\\u53cd\\u9988\\u53ca\\u65f6\\u7387(\\u6c88\\u6069\\u60e0)\", \"x\": [\"8-1\", \"8-2\", \"8-3\", \"8-4\", \"8-5\", \"9-1\", \"9-2\", \"9-3\", \"9-4\", \"10-2\", \"10-3\", \"10-4\", \"10-5\", \"11-1\"], \"y\": [null, null, null, null, null, null, null, null, null, null, null, null, 1.0, 1.0], \"type\": \"scatter\", \"uid\": \"dc72a0e8-e625-11e8-8ddb-a41f72875c19\"}, {\"line\": {\"dash\": \"dot\"}, \"name\": \"\\u53cd\\u9988\\u53ca\\u65f6\\u7387(\\u5f20\\u60a6)\", \"x\": [\"8-1\", \"8-2\", \"8-3\", \"8-4\", \"8-5\", \"9-1\", \"9-2\", \"9-3\", \"9-4\", \"10-2\", \"10-3\", \"10-4\", \"10-5\", \"11-1\"], \"y\": [1.0, 1.0, 1.0, 1.0, 1.0, 1.0, null, null, null, null, null, null, null, null], \"type\": \"scatter\", \"uid\": \"dc72a0e9-e625-11e8-8ddb-a41f72875c19\"}, {\"line\": {\"dash\": \"dash\"}, \"name\": \"\\u53cd\\u9988\\u53ca\\u65f6\\u7387(\\u8f66\\u5929\\u680b)\", \"x\": [\"8-1\", \"8-2\", \"8-3\", \"8-4\", \"8-5\", \"9-1\", \"9-2\", \"9-3\", \"9-4\", \"10-2\", \"10-3\", \"10-4\", \"10-5\", \"11-1\"], \"y\": [null, null, null, null, null, null, null, null, null, null, null, null, 1.0, 1.0], \"type\": \"scatter\", \"uid\": \"dc72a0ea-e625-11e8-8ddb-a41f72875c19\"}, {\"line\": {\"dash\": \"longdash\"}, \"name\": \"\\u53cd\\u9988\\u53ca\\u65f6\\u7387(\\u6c88\\u7acb\\u7fa4)\", \"x\": [\"8-1\", \"8-2\", \"8-3\", \"8-4\", \"8-5\", \"9-1\", \"9-2\", \"9-3\", \"9-4\", \"10-2\", \"10-3\", \"10-4\", \"10-5\", \"11-1\"], \"y\": [null, null, null, null, null, null, null, null, null, null, null, null, 1.0, 1.0], \"type\": \"scatter\", \"uid\": \"dc72a0eb-e625-11e8-8ddb-a41f72875c19\"}, {\"line\": {\"dash\": \"solid\"}, \"name\": \"\\u6570\\u636e\\u53ca\\u65f6\\u4ea4\\u4ed8\\u7387(\\u5362\\u6960)\", \"x\": [\"8-1\", \"8-2\", \"8-3\", \"8-4\", \"8-5\", \"9-1\", \"9-2\", \"9-3\", \"9-4\", \"10-2\", \"10-3\", \"10-4\", \"10-5\", \"11-1\"], \"y\": [1.0, 1.0, 1.0, 1.0, 1.0, 1.0, 1.0, null, null, null, null, null, null, null], \"type\": \"scatter\", \"uid\": \"dc72a0ec-e625-11e8-8ddb-a41f72875c19\"}, {\"line\": {\"dash\": \"dot\"}, \"name\": \"\\u6570\\u636e\\u53ca\\u65f6\\u4ea4\\u4ed8\\u7387(\\u738b\\u4f20\\u6587)\", \"x\": [\"8-1\", \"8-2\", \"8-3\", \"8-4\", \"8-5\", \"9-1\", \"9-2\", \"9-3\", \"9-4\", \"10-2\", \"10-3\", \"10-4\", \"10-5\", \"11-1\"], \"y\": [null, null, null, null, null, null, null, null, null, null, null, null, 0.8571428571428571, 1.0], \"type\": \"scatter\", \"uid\": \"dc72a0ed-e625-11e8-8ddb-a41f72875c19\"}, {\"line\": {\"dash\": \"dash\"}, \"name\": \"\\u6570\\u636e\\u53ca\\u65f6\\u4ea4\\u4ed8\\u7387(\\u51b7\\u96ea)\", \"x\": [\"8-1\", \"8-2\", \"8-3\", \"8-4\", \"8-5\", \"9-1\", \"9-2\", \"9-3\", \"9-4\", \"10-2\", \"10-3\", \"10-4\", \"10-5\", \"11-1\"], \"y\": [1.0, 1.0, 1.0, 1.0, 1.0, 1.0, 1.0, 1.0, 1.0, 1.0, 1.0, 1.0, 1.0, 1.0], \"type\": \"scatter\", \"uid\": \"dc72a0ee-e625-11e8-8ddb-a41f72875c19\"}, {\"line\": {\"dash\": \"longdash\"}, \"name\": \"\\u6570\\u636e\\u53ca\\u65f6\\u4ea4\\u4ed8\\u7387(\\u6797\\u6587\\u6587)\", \"x\": [\"8-1\", \"8-2\", \"8-3\", \"8-4\", \"8-5\", \"9-1\", \"9-2\", \"9-3\", \"9-4\", \"10-2\", \"10-3\", \"10-4\", \"10-5\", \"11-1\"], \"y\": [null, null, null, null, null, null, null, null, null, null, null, null, 1.0, 1.0], \"type\": \"scatter\", \"uid\": \"dc72a0ef-e625-11e8-8ddb-a41f72875c19\"}, {\"line\": {\"dash\": \"dashdot\"}, \"name\": \"\\u6570\\u636e\\u53ca\\u65f6\\u4ea4\\u4ed8\\u7387(\\u9ad8\\u5251)\", \"x\": [\"8-1\", \"8-2\", \"8-3\", \"8-4\", \"8-5\", \"9-1\", \"9-2\", \"9-3\", \"9-4\", \"10-2\", \"10-3\", \"10-4\", \"10-5\", \"11-1\"], \"y\": [null, null, null, null, null, null, null, null, null, null, null, null, null, 1.0], \"type\": \"scatter\", \"uid\": \"dc72a0f0-e625-11e8-8ddb-a41f72875c19\"}, {\"line\": {\"dash\": \"longdashdot\"}, \"name\": \"\\u6570\\u636e\\u53ca\\u65f6\\u4ea4\\u4ed8\\u7387(\\u5c48\\u6602)\", \"x\": [\"8-1\", \"8-2\", \"8-3\", \"8-4\", \"8-5\", \"9-1\", \"9-2\", \"9-3\", \"9-4\", \"10-2\", \"10-3\", \"10-4\", \"10-5\", \"11-1\"], \"y\": [1.0, 1.0, 1.0, 1.0, 1.0, 1.0, 1.0, 1.0, 1.0, 1.0, 1.0, 1.0, 1.0, 1.0], \"type\": \"scatter\", \"uid\": \"dc72a0f1-e625-11e8-8ddb-a41f72875c19\"}, {\"line\": {\"dash\": \"solid\"}, \"name\": \"\\u6570\\u636e\\u53ca\\u65f6\\u4ea4\\u4ed8\\u7387(\\u6c88\\u6069\\u60e0)\", \"x\": [\"8-1\", \"8-2\", \"8-3\", \"8-4\", \"8-5\", \"9-1\", \"9-2\", \"9-3\", \"9-4\", \"10-2\", \"10-3\", \"10-4\", \"10-5\", \"11-1\"], \"y\": [null, null, null, null, null, null, null, null, null, null, null, null, 1.0, 1.0], \"type\": \"scatter\", \"uid\": \"dc72a0f2-e625-11e8-8ddb-a41f72875c19\"}, {\"line\": {\"dash\": \"dot\"}, \"name\": \"\\u6570\\u636e\\u53ca\\u65f6\\u4ea4\\u4ed8\\u7387(\\u5f20\\u60a6)\", \"x\": [\"8-1\", \"8-2\", \"8-3\", \"8-4\", \"8-5\", \"9-1\", \"9-2\", \"9-3\", \"9-4\", \"10-2\", \"10-3\", \"10-4\", \"10-5\", \"11-1\"], \"y\": [1.0, 1.0, 1.0, 1.0, 1.0, 1.0, null, null, null, null, null, null, null, null], \"type\": \"scatter\", \"uid\": \"dc72a0f3-e625-11e8-8ddb-a41f72875c19\"}, {\"line\": {\"dash\": \"dash\"}, \"name\": \"\\u6570\\u636e\\u53ca\\u65f6\\u4ea4\\u4ed8\\u7387(\\u8f66\\u5929\\u680b)\", \"x\": [\"8-1\", \"8-2\", \"8-3\", \"8-4\", \"8-5\", \"9-1\", \"9-2\", \"9-3\", \"9-4\", \"10-2\", \"10-3\", \"10-4\", \"10-5\", \"11-1\"], \"y\": [null, null, null, null, null, null, null, null, null, null, null, null, 1.0, 1.0], \"type\": \"scatter\", \"uid\": \"dc72a0f4-e625-11e8-8ddb-a41f72875c19\"}, {\"line\": {\"dash\": \"longdash\"}, \"name\": \"\\u6570\\u636e\\u53ca\\u65f6\\u4ea4\\u4ed8\\u7387(\\u6c88\\u7acb\\u7fa4)\", \"x\": [\"8-1\", \"8-2\", \"8-3\", \"8-4\", \"8-5\", \"9-1\", \"9-2\", \"9-3\", \"9-4\", \"10-2\", \"10-3\", \"10-4\", \"10-5\", \"11-1\"], \"y\": [null, null, null, null, null, null, null, null, null, null, null, null, 1.0, 1.0], \"type\": \"scatter\", \"uid\": \"dc72a0f5-e625-11e8-8ddb-a41f72875c19\"}], {\"title\": \"\\u53cd\\u9988\\u53ca\\u65f6\\u7387&\\u6570\\u636e\\u53ca\\u65f6\\u4ea4\\u4ed8\\u7387\\u5468\\u8d8b\\u52bf\\u56fe\", \"xaxis\": {\"mirror\": \"all\", \"nticks\": 20, \"showgrid\": true, \"showline\": true, \"title\": \"\\u5468\", \"type\": \"category\", \"zeroline\": true}, \"yaxis\": {\"mirror\": \"all\", \"nticks\": 20, \"showgrid\": true, \"showline\": true, \"title\": \"\\u53cd\\u9988\\u53ca\\u65f6\\u7387&\\u6570\\u636e\\u53ca\\u65f6\\u4ea4\\u4ed8\\u7387\", \"zeroline\": true}}, {\"showLink\": true, \"linkText\": \"Export to plot.ly\"})});</script>"
      ]
     },
     "metadata": {},
     "output_type": "display_data"
    },
    {
     "data": {
      "application/vnd.plotly.v1+json": {
       "data": [
        {
         "line": {
          "dash": "solid"
         },
         "name": "反馈及时率(卢楠)",
         "type": "scatter",
         "uid": "dc72a0f6-e625-11e8-8ddb-a41f72875c19",
         "x": [
          8,
          9,
          10,
          11
         ],
         "y": [
          0.9754098360655737,
          1,
          null,
          null
         ]
        },
        {
         "line": {
          "dash": "dot"
         },
         "name": "反馈及时率(王传文)",
         "type": "scatter",
         "uid": "dc72a0f7-e625-11e8-8ddb-a41f72875c19",
         "x": [
          8,
          9,
          10,
          11
         ],
         "y": [
          null,
          null,
          1,
          1
         ]
        },
        {
         "line": {
          "dash": "dash"
         },
         "name": "反馈及时率(冷雪)",
         "type": "scatter",
         "uid": "dc72a0f8-e625-11e8-8ddb-a41f72875c19",
         "x": [
          8,
          9,
          10,
          11
         ],
         "y": [
          0.9743589743589743,
          0.9754901960784313,
          0.9785867237687366,
          0.96875
         ]
        },
        {
         "line": {
          "dash": "longdash"
         },
         "name": "反馈及时率(林文文)",
         "type": "scatter",
         "uid": "dc72a0f9-e625-11e8-8ddb-a41f72875c19",
         "x": [
          8,
          9,
          10,
          11
         ],
         "y": [
          null,
          null,
          1,
          1
         ]
        },
        {
         "line": {
          "dash": "dashdot"
         },
         "name": "反馈及时率(高剑)",
         "type": "scatter",
         "uid": "dc72a0fa-e625-11e8-8ddb-a41f72875c19",
         "x": [
          8,
          9,
          10,
          11
         ],
         "y": [
          null,
          null,
          1,
          1
         ]
        },
        {
         "line": {
          "dash": "longdashdot"
         },
         "name": "反馈及时率(屈昂)",
         "type": "scatter",
         "uid": "dc72a0fb-e625-11e8-8ddb-a41f72875c19",
         "x": [
          8,
          9,
          10,
          11
         ],
         "y": [
          0.959493670886076,
          0.9862385321100917,
          1,
          1
         ]
        },
        {
         "line": {
          "dash": "solid"
         },
         "name": "反馈及时率(沈恩惠)",
         "type": "scatter",
         "uid": "dc72a0fc-e625-11e8-8ddb-a41f72875c19",
         "x": [
          8,
          9,
          10,
          11
         ],
         "y": [
          null,
          null,
          1,
          1
         ]
        },
        {
         "line": {
          "dash": "dot"
         },
         "name": "反馈及时率(张悦)",
         "type": "scatter",
         "uid": "dc72a0fd-e625-11e8-8ddb-a41f72875c19",
         "x": [
          8,
          9,
          10,
          11
         ],
         "y": [
          1,
          1,
          null,
          null
         ]
        },
        {
         "line": {
          "dash": "dash"
         },
         "name": "反馈及时率(车天栋)",
         "type": "scatter",
         "uid": "dc72a0fe-e625-11e8-8ddb-a41f72875c19",
         "x": [
          8,
          9,
          10,
          11
         ],
         "y": [
          null,
          null,
          1,
          1
         ]
        },
        {
         "line": {
          "dash": "longdash"
         },
         "name": "反馈及时率(沈立群)",
         "type": "scatter",
         "uid": "dc72a0ff-e625-11e8-8ddb-a41f72875c19",
         "x": [
          8,
          9,
          10,
          11
         ],
         "y": [
          null,
          null,
          1,
          1
         ]
        },
        {
         "line": {
          "dash": "solid"
         },
         "name": "数据及时交付率(卢楠)",
         "type": "scatter",
         "uid": "dc72a100-e625-11e8-8ddb-a41f72875c19",
         "x": [
          8,
          9,
          10,
          11
         ],
         "y": [
          1,
          1,
          null,
          null
         ]
        },
        {
         "line": {
          "dash": "dot"
         },
         "name": "数据及时交付率(王传文)",
         "type": "scatter",
         "uid": "dc72a101-e625-11e8-8ddb-a41f72875c19",
         "x": [
          8,
          9,
          10,
          11
         ],
         "y": [
          null,
          null,
          0.8571428571428571,
          1
         ]
        },
        {
         "line": {
          "dash": "dash"
         },
         "name": "数据及时交付率(冷雪)",
         "type": "scatter",
         "uid": "dc72a102-e625-11e8-8ddb-a41f72875c19",
         "x": [
          8,
          9,
          10,
          11
         ],
         "y": [
          1,
          1,
          1,
          1
         ]
        },
        {
         "line": {
          "dash": "longdash"
         },
         "name": "数据及时交付率(林文文)",
         "type": "scatter",
         "uid": "dc72a103-e625-11e8-8ddb-a41f72875c19",
         "x": [
          8,
          9,
          10,
          11
         ],
         "y": [
          null,
          null,
          1,
          1
         ]
        },
        {
         "line": {
          "dash": "dashdot"
         },
         "name": "数据及时交付率(高剑)",
         "type": "scatter",
         "uid": "dc72a104-e625-11e8-8ddb-a41f72875c19",
         "x": [
          8,
          9,
          10,
          11
         ],
         "y": [
          null,
          null,
          null,
          1
         ]
        },
        {
         "line": {
          "dash": "longdashdot"
         },
         "name": "数据及时交付率(屈昂)",
         "type": "scatter",
         "uid": "dc72a105-e625-11e8-8ddb-a41f72875c19",
         "x": [
          8,
          9,
          10,
          11
         ],
         "y": [
          1,
          1,
          1,
          1
         ]
        },
        {
         "line": {
          "dash": "solid"
         },
         "name": "数据及时交付率(沈恩惠)",
         "type": "scatter",
         "uid": "dc72a106-e625-11e8-8ddb-a41f72875c19",
         "x": [
          8,
          9,
          10,
          11
         ],
         "y": [
          null,
          null,
          1,
          1
         ]
        },
        {
         "line": {
          "dash": "dot"
         },
         "name": "数据及时交付率(张悦)",
         "type": "scatter",
         "uid": "dc72a107-e625-11e8-8ddb-a41f72875c19",
         "x": [
          8,
          9,
          10,
          11
         ],
         "y": [
          1,
          1,
          null,
          null
         ]
        },
        {
         "line": {
          "dash": "dash"
         },
         "name": "数据及时交付率(车天栋)",
         "type": "scatter",
         "uid": "dc72a108-e625-11e8-8ddb-a41f72875c19",
         "x": [
          8,
          9,
          10,
          11
         ],
         "y": [
          null,
          null,
          1,
          1
         ]
        },
        {
         "line": {
          "dash": "longdash"
         },
         "name": "数据及时交付率(沈立群)",
         "type": "scatter",
         "uid": "dc72a109-e625-11e8-8ddb-a41f72875c19",
         "x": [
          8,
          9,
          10,
          11
         ],
         "y": [
          null,
          null,
          1,
          1
         ]
        }
       ],
       "layout": {
        "title": "反馈及时率&数据及时交付率月趋势图",
        "xaxis": {
         "mirror": "all",
         "nticks": 20,
         "showgrid": true,
         "showline": true,
         "title": "月",
         "type": "category",
         "zeroline": true
        },
        "yaxis": {
         "mirror": "all",
         "nticks": 20,
         "showgrid": true,
         "showline": true,
         "title": "反馈及时率&数据及时交付率",
         "zeroline": true
        }
       }
      },
      "text/html": [
       "<div id=\"0ea66286-7bb2-4cfc-b549-8325b05f4dbf\" style=\"height: 525px; width: 100%;\" class=\"plotly-graph-div\"></div><script type=\"text/javascript\">require([\"plotly\"], function(Plotly) { window.PLOTLYENV=window.PLOTLYENV || {};window.PLOTLYENV.BASE_URL=\"https://plot.ly\";Plotly.newPlot(\"0ea66286-7bb2-4cfc-b549-8325b05f4dbf\", [{\"line\": {\"dash\": \"solid\"}, \"name\": \"\\u53cd\\u9988\\u53ca\\u65f6\\u7387(\\u5362\\u6960)\", \"x\": [8, 9, 10, 11], \"y\": [0.9754098360655737, 1.0, null, null], \"type\": \"scatter\", \"uid\": \"dc72a0f6-e625-11e8-8ddb-a41f72875c19\"}, {\"line\": {\"dash\": \"dot\"}, \"name\": \"\\u53cd\\u9988\\u53ca\\u65f6\\u7387(\\u738b\\u4f20\\u6587)\", \"x\": [8, 9, 10, 11], \"y\": [null, null, 1.0, 1.0], \"type\": \"scatter\", \"uid\": \"dc72a0f7-e625-11e8-8ddb-a41f72875c19\"}, {\"line\": {\"dash\": \"dash\"}, \"name\": \"\\u53cd\\u9988\\u53ca\\u65f6\\u7387(\\u51b7\\u96ea)\", \"x\": [8, 9, 10, 11], \"y\": [0.9743589743589743, 0.9754901960784313, 0.9785867237687366, 0.96875], \"type\": \"scatter\", \"uid\": \"dc72a0f8-e625-11e8-8ddb-a41f72875c19\"}, {\"line\": {\"dash\": \"longdash\"}, \"name\": \"\\u53cd\\u9988\\u53ca\\u65f6\\u7387(\\u6797\\u6587\\u6587)\", \"x\": [8, 9, 10, 11], \"y\": [null, null, 1.0, 1.0], \"type\": \"scatter\", \"uid\": \"dc72a0f9-e625-11e8-8ddb-a41f72875c19\"}, {\"line\": {\"dash\": \"dashdot\"}, \"name\": \"\\u53cd\\u9988\\u53ca\\u65f6\\u7387(\\u9ad8\\u5251)\", \"x\": [8, 9, 10, 11], \"y\": [null, null, 1.0, 1.0], \"type\": \"scatter\", \"uid\": \"dc72a0fa-e625-11e8-8ddb-a41f72875c19\"}, {\"line\": {\"dash\": \"longdashdot\"}, \"name\": \"\\u53cd\\u9988\\u53ca\\u65f6\\u7387(\\u5c48\\u6602)\", \"x\": [8, 9, 10, 11], \"y\": [0.959493670886076, 0.9862385321100917, 1.0, 1.0], \"type\": \"scatter\", \"uid\": \"dc72a0fb-e625-11e8-8ddb-a41f72875c19\"}, {\"line\": {\"dash\": \"solid\"}, \"name\": \"\\u53cd\\u9988\\u53ca\\u65f6\\u7387(\\u6c88\\u6069\\u60e0)\", \"x\": [8, 9, 10, 11], \"y\": [null, null, 1.0, 1.0], \"type\": \"scatter\", \"uid\": \"dc72a0fc-e625-11e8-8ddb-a41f72875c19\"}, {\"line\": {\"dash\": \"dot\"}, \"name\": \"\\u53cd\\u9988\\u53ca\\u65f6\\u7387(\\u5f20\\u60a6)\", \"x\": [8, 9, 10, 11], \"y\": [1.0, 1.0, null, null], \"type\": \"scatter\", \"uid\": \"dc72a0fd-e625-11e8-8ddb-a41f72875c19\"}, {\"line\": {\"dash\": \"dash\"}, \"name\": \"\\u53cd\\u9988\\u53ca\\u65f6\\u7387(\\u8f66\\u5929\\u680b)\", \"x\": [8, 9, 10, 11], \"y\": [null, null, 1.0, 1.0], \"type\": \"scatter\", \"uid\": \"dc72a0fe-e625-11e8-8ddb-a41f72875c19\"}, {\"line\": {\"dash\": \"longdash\"}, \"name\": \"\\u53cd\\u9988\\u53ca\\u65f6\\u7387(\\u6c88\\u7acb\\u7fa4)\", \"x\": [8, 9, 10, 11], \"y\": [null, null, 1.0, 1.0], \"type\": \"scatter\", \"uid\": \"dc72a0ff-e625-11e8-8ddb-a41f72875c19\"}, {\"line\": {\"dash\": \"solid\"}, \"name\": \"\\u6570\\u636e\\u53ca\\u65f6\\u4ea4\\u4ed8\\u7387(\\u5362\\u6960)\", \"x\": [8, 9, 10, 11], \"y\": [1.0, 1.0, null, null], \"type\": \"scatter\", \"uid\": \"dc72a100-e625-11e8-8ddb-a41f72875c19\"}, {\"line\": {\"dash\": \"dot\"}, \"name\": \"\\u6570\\u636e\\u53ca\\u65f6\\u4ea4\\u4ed8\\u7387(\\u738b\\u4f20\\u6587)\", \"x\": [8, 9, 10, 11], \"y\": [null, null, 0.8571428571428571, 1.0], \"type\": \"scatter\", \"uid\": \"dc72a101-e625-11e8-8ddb-a41f72875c19\"}, {\"line\": {\"dash\": \"dash\"}, \"name\": \"\\u6570\\u636e\\u53ca\\u65f6\\u4ea4\\u4ed8\\u7387(\\u51b7\\u96ea)\", \"x\": [8, 9, 10, 11], \"y\": [1.0, 1.0, 1.0, 1.0], \"type\": \"scatter\", \"uid\": \"dc72a102-e625-11e8-8ddb-a41f72875c19\"}, {\"line\": {\"dash\": \"longdash\"}, \"name\": \"\\u6570\\u636e\\u53ca\\u65f6\\u4ea4\\u4ed8\\u7387(\\u6797\\u6587\\u6587)\", \"x\": [8, 9, 10, 11], \"y\": [null, null, 1.0, 1.0], \"type\": \"scatter\", \"uid\": \"dc72a103-e625-11e8-8ddb-a41f72875c19\"}, {\"line\": {\"dash\": \"dashdot\"}, \"name\": \"\\u6570\\u636e\\u53ca\\u65f6\\u4ea4\\u4ed8\\u7387(\\u9ad8\\u5251)\", \"x\": [8, 9, 10, 11], \"y\": [null, null, null, 1.0], \"type\": \"scatter\", \"uid\": \"dc72a104-e625-11e8-8ddb-a41f72875c19\"}, {\"line\": {\"dash\": \"longdashdot\"}, \"name\": \"\\u6570\\u636e\\u53ca\\u65f6\\u4ea4\\u4ed8\\u7387(\\u5c48\\u6602)\", \"x\": [8, 9, 10, 11], \"y\": [1.0, 1.0, 1.0, 1.0], \"type\": \"scatter\", \"uid\": \"dc72a105-e625-11e8-8ddb-a41f72875c19\"}, {\"line\": {\"dash\": \"solid\"}, \"name\": \"\\u6570\\u636e\\u53ca\\u65f6\\u4ea4\\u4ed8\\u7387(\\u6c88\\u6069\\u60e0)\", \"x\": [8, 9, 10, 11], \"y\": [null, null, 1.0, 1.0], \"type\": \"scatter\", \"uid\": \"dc72a106-e625-11e8-8ddb-a41f72875c19\"}, {\"line\": {\"dash\": \"dot\"}, \"name\": \"\\u6570\\u636e\\u53ca\\u65f6\\u4ea4\\u4ed8\\u7387(\\u5f20\\u60a6)\", \"x\": [8, 9, 10, 11], \"y\": [1.0, 1.0, null, null], \"type\": \"scatter\", \"uid\": \"dc72a107-e625-11e8-8ddb-a41f72875c19\"}, {\"line\": {\"dash\": \"dash\"}, \"name\": \"\\u6570\\u636e\\u53ca\\u65f6\\u4ea4\\u4ed8\\u7387(\\u8f66\\u5929\\u680b)\", \"x\": [8, 9, 10, 11], \"y\": [null, null, 1.0, 1.0], \"type\": \"scatter\", \"uid\": \"dc72a108-e625-11e8-8ddb-a41f72875c19\"}, {\"line\": {\"dash\": \"longdash\"}, \"name\": \"\\u6570\\u636e\\u53ca\\u65f6\\u4ea4\\u4ed8\\u7387(\\u6c88\\u7acb\\u7fa4)\", \"x\": [8, 9, 10, 11], \"y\": [null, null, 1.0, 1.0], \"type\": \"scatter\", \"uid\": \"dc72a109-e625-11e8-8ddb-a41f72875c19\"}], {\"title\": \"\\u53cd\\u9988\\u53ca\\u65f6\\u7387&\\u6570\\u636e\\u53ca\\u65f6\\u4ea4\\u4ed8\\u7387\\u6708\\u8d8b\\u52bf\\u56fe\", \"xaxis\": {\"mirror\": \"all\", \"nticks\": 20, \"showgrid\": true, \"showline\": true, \"title\": \"\\u6708\", \"type\": \"category\", \"zeroline\": true}, \"yaxis\": {\"mirror\": \"all\", \"nticks\": 20, \"showgrid\": true, \"showline\": true, \"title\": \"\\u53cd\\u9988\\u53ca\\u65f6\\u7387&\\u6570\\u636e\\u53ca\\u65f6\\u4ea4\\u4ed8\\u7387\", \"zeroline\": true}}, {\"showLink\": true, \"linkText\": \"Export to plot.ly\"})});</script>"
      ],
      "text/vnd.plotly.v1+html": [
       "<div id=\"0ea66286-7bb2-4cfc-b549-8325b05f4dbf\" style=\"height: 525px; width: 100%;\" class=\"plotly-graph-div\"></div><script type=\"text/javascript\">require([\"plotly\"], function(Plotly) { window.PLOTLYENV=window.PLOTLYENV || {};window.PLOTLYENV.BASE_URL=\"https://plot.ly\";Plotly.newPlot(\"0ea66286-7bb2-4cfc-b549-8325b05f4dbf\", [{\"line\": {\"dash\": \"solid\"}, \"name\": \"\\u53cd\\u9988\\u53ca\\u65f6\\u7387(\\u5362\\u6960)\", \"x\": [8, 9, 10, 11], \"y\": [0.9754098360655737, 1.0, null, null], \"type\": \"scatter\", \"uid\": \"dc72a0f6-e625-11e8-8ddb-a41f72875c19\"}, {\"line\": {\"dash\": \"dot\"}, \"name\": \"\\u53cd\\u9988\\u53ca\\u65f6\\u7387(\\u738b\\u4f20\\u6587)\", \"x\": [8, 9, 10, 11], \"y\": [null, null, 1.0, 1.0], \"type\": \"scatter\", \"uid\": \"dc72a0f7-e625-11e8-8ddb-a41f72875c19\"}, {\"line\": {\"dash\": \"dash\"}, \"name\": \"\\u53cd\\u9988\\u53ca\\u65f6\\u7387(\\u51b7\\u96ea)\", \"x\": [8, 9, 10, 11], \"y\": [0.9743589743589743, 0.9754901960784313, 0.9785867237687366, 0.96875], \"type\": \"scatter\", \"uid\": \"dc72a0f8-e625-11e8-8ddb-a41f72875c19\"}, {\"line\": {\"dash\": \"longdash\"}, \"name\": \"\\u53cd\\u9988\\u53ca\\u65f6\\u7387(\\u6797\\u6587\\u6587)\", \"x\": [8, 9, 10, 11], \"y\": [null, null, 1.0, 1.0], \"type\": \"scatter\", \"uid\": \"dc72a0f9-e625-11e8-8ddb-a41f72875c19\"}, {\"line\": {\"dash\": \"dashdot\"}, \"name\": \"\\u53cd\\u9988\\u53ca\\u65f6\\u7387(\\u9ad8\\u5251)\", \"x\": [8, 9, 10, 11], \"y\": [null, null, 1.0, 1.0], \"type\": \"scatter\", \"uid\": \"dc72a0fa-e625-11e8-8ddb-a41f72875c19\"}, {\"line\": {\"dash\": \"longdashdot\"}, \"name\": \"\\u53cd\\u9988\\u53ca\\u65f6\\u7387(\\u5c48\\u6602)\", \"x\": [8, 9, 10, 11], \"y\": [0.959493670886076, 0.9862385321100917, 1.0, 1.0], \"type\": \"scatter\", \"uid\": \"dc72a0fb-e625-11e8-8ddb-a41f72875c19\"}, {\"line\": {\"dash\": \"solid\"}, \"name\": \"\\u53cd\\u9988\\u53ca\\u65f6\\u7387(\\u6c88\\u6069\\u60e0)\", \"x\": [8, 9, 10, 11], \"y\": [null, null, 1.0, 1.0], \"type\": \"scatter\", \"uid\": \"dc72a0fc-e625-11e8-8ddb-a41f72875c19\"}, {\"line\": {\"dash\": \"dot\"}, \"name\": \"\\u53cd\\u9988\\u53ca\\u65f6\\u7387(\\u5f20\\u60a6)\", \"x\": [8, 9, 10, 11], \"y\": [1.0, 1.0, null, null], \"type\": \"scatter\", \"uid\": \"dc72a0fd-e625-11e8-8ddb-a41f72875c19\"}, {\"line\": {\"dash\": \"dash\"}, \"name\": \"\\u53cd\\u9988\\u53ca\\u65f6\\u7387(\\u8f66\\u5929\\u680b)\", \"x\": [8, 9, 10, 11], \"y\": [null, null, 1.0, 1.0], \"type\": \"scatter\", \"uid\": \"dc72a0fe-e625-11e8-8ddb-a41f72875c19\"}, {\"line\": {\"dash\": \"longdash\"}, \"name\": \"\\u53cd\\u9988\\u53ca\\u65f6\\u7387(\\u6c88\\u7acb\\u7fa4)\", \"x\": [8, 9, 10, 11], \"y\": [null, null, 1.0, 1.0], \"type\": \"scatter\", \"uid\": \"dc72a0ff-e625-11e8-8ddb-a41f72875c19\"}, {\"line\": {\"dash\": \"solid\"}, \"name\": \"\\u6570\\u636e\\u53ca\\u65f6\\u4ea4\\u4ed8\\u7387(\\u5362\\u6960)\", \"x\": [8, 9, 10, 11], \"y\": [1.0, 1.0, null, null], \"type\": \"scatter\", \"uid\": \"dc72a100-e625-11e8-8ddb-a41f72875c19\"}, {\"line\": {\"dash\": \"dot\"}, \"name\": \"\\u6570\\u636e\\u53ca\\u65f6\\u4ea4\\u4ed8\\u7387(\\u738b\\u4f20\\u6587)\", \"x\": [8, 9, 10, 11], \"y\": [null, null, 0.8571428571428571, 1.0], \"type\": \"scatter\", \"uid\": \"dc72a101-e625-11e8-8ddb-a41f72875c19\"}, {\"line\": {\"dash\": \"dash\"}, \"name\": \"\\u6570\\u636e\\u53ca\\u65f6\\u4ea4\\u4ed8\\u7387(\\u51b7\\u96ea)\", \"x\": [8, 9, 10, 11], \"y\": [1.0, 1.0, 1.0, 1.0], \"type\": \"scatter\", \"uid\": \"dc72a102-e625-11e8-8ddb-a41f72875c19\"}, {\"line\": {\"dash\": \"longdash\"}, \"name\": \"\\u6570\\u636e\\u53ca\\u65f6\\u4ea4\\u4ed8\\u7387(\\u6797\\u6587\\u6587)\", \"x\": [8, 9, 10, 11], \"y\": [null, null, 1.0, 1.0], \"type\": \"scatter\", \"uid\": \"dc72a103-e625-11e8-8ddb-a41f72875c19\"}, {\"line\": {\"dash\": \"dashdot\"}, \"name\": \"\\u6570\\u636e\\u53ca\\u65f6\\u4ea4\\u4ed8\\u7387(\\u9ad8\\u5251)\", \"x\": [8, 9, 10, 11], \"y\": [null, null, null, 1.0], \"type\": \"scatter\", \"uid\": \"dc72a104-e625-11e8-8ddb-a41f72875c19\"}, {\"line\": {\"dash\": \"longdashdot\"}, \"name\": \"\\u6570\\u636e\\u53ca\\u65f6\\u4ea4\\u4ed8\\u7387(\\u5c48\\u6602)\", \"x\": [8, 9, 10, 11], \"y\": [1.0, 1.0, 1.0, 1.0], \"type\": \"scatter\", \"uid\": \"dc72a105-e625-11e8-8ddb-a41f72875c19\"}, {\"line\": {\"dash\": \"solid\"}, \"name\": \"\\u6570\\u636e\\u53ca\\u65f6\\u4ea4\\u4ed8\\u7387(\\u6c88\\u6069\\u60e0)\", \"x\": [8, 9, 10, 11], \"y\": [null, null, 1.0, 1.0], \"type\": \"scatter\", \"uid\": \"dc72a106-e625-11e8-8ddb-a41f72875c19\"}, {\"line\": {\"dash\": \"dot\"}, \"name\": \"\\u6570\\u636e\\u53ca\\u65f6\\u4ea4\\u4ed8\\u7387(\\u5f20\\u60a6)\", \"x\": [8, 9, 10, 11], \"y\": [1.0, 1.0, null, null], \"type\": \"scatter\", \"uid\": \"dc72a107-e625-11e8-8ddb-a41f72875c19\"}, {\"line\": {\"dash\": \"dash\"}, \"name\": \"\\u6570\\u636e\\u53ca\\u65f6\\u4ea4\\u4ed8\\u7387(\\u8f66\\u5929\\u680b)\", \"x\": [8, 9, 10, 11], \"y\": [null, null, 1.0, 1.0], \"type\": \"scatter\", \"uid\": \"dc72a108-e625-11e8-8ddb-a41f72875c19\"}, {\"line\": {\"dash\": \"longdash\"}, \"name\": \"\\u6570\\u636e\\u53ca\\u65f6\\u4ea4\\u4ed8\\u7387(\\u6c88\\u7acb\\u7fa4)\", \"x\": [8, 9, 10, 11], \"y\": [null, null, 1.0, 1.0], \"type\": \"scatter\", \"uid\": \"dc72a109-e625-11e8-8ddb-a41f72875c19\"}], {\"title\": \"\\u53cd\\u9988\\u53ca\\u65f6\\u7387&\\u6570\\u636e\\u53ca\\u65f6\\u4ea4\\u4ed8\\u7387\\u6708\\u8d8b\\u52bf\\u56fe\", \"xaxis\": {\"mirror\": \"all\", \"nticks\": 20, \"showgrid\": true, \"showline\": true, \"title\": \"\\u6708\", \"type\": \"category\", \"zeroline\": true}, \"yaxis\": {\"mirror\": \"all\", \"nticks\": 20, \"showgrid\": true, \"showline\": true, \"title\": \"\\u53cd\\u9988\\u53ca\\u65f6\\u7387&\\u6570\\u636e\\u53ca\\u65f6\\u4ea4\\u4ed8\\u7387\", \"zeroline\": true}}, {\"showLink\": true, \"linkText\": \"Export to plot.ly\"})});</script>"
      ]
     },
     "metadata": {},
     "output_type": "display_data"
    }
   ],
   "source": [
    "ss = myModule.format(all_df1 ,\"日期（格式“月-周次”）\" ,['及时反馈数','下机批次数','数据及时交付数','数据交付总数'])\n",
    "ss.add_group('人员')\n",
    "tt = ss.get_total_ratio([['反馈及时率','及时反馈数','下机批次数','/'],\n",
    "                       ['数据及时交付率','数据及时交付数','数据交付总数','/']])\n",
    "myModule.myPlot(myModule.sort_by_index(tt)).plot('line')\n",
    "\n",
    "ss = myModule.format(all_df1 ,\"month\" ,['及时反馈数','下机批次数','数据及时交付数','数据交付总数'])\n",
    "ss.add_group('人员')\n",
    "tt = ss.get_total_ratio([['反馈及时率','及时反馈数','下机批次数','/'],\n",
    "                       ['数据及时交付率','数据及时交付数','数据交付总数','/']])\n",
    "myModule.myPlot(tt).plot('line','月')"
   ]
  },
  {
   "cell_type": "markdown",
   "metadata": {},
   "source": [
    "### 平均反馈时长和反馈时长Q80"
   ]
  },
  {
   "cell_type": "code",
   "execution_count": 172,
   "metadata": {
    "collapsed": false
   },
   "outputs": [
    {
     "data": {
      "application/vnd.plotly.v1+json": {
       "data": [
        {
         "line": {
          "dash": "solid"
         },
         "name": "平均反馈时长(卢楠)",
         "type": "scatter",
         "uid": "dc72a10a-e625-11e8-8ddb-a41f72875c19",
         "x": [
          "8-1",
          "8-2",
          "8-3",
          "8-4",
          "8-5",
          "9-1",
          "9-2",
          "9-3",
          "9-4",
          "10-2",
          "10-3",
          "10-4",
          "10-5",
          "11-1"
         ],
         "y": [
          5.77,
          5,
          8.6,
          5.199999999999999,
          1.7300000000000002,
          7.2,
          14.409999999999998,
          null,
          null,
          null,
          null,
          null,
          null,
          null
         ]
        },
        {
         "line": {
          "dash": "dot"
         },
         "name": "平均反馈时长(王传文)",
         "type": "scatter",
         "uid": "dc72a10b-e625-11e8-8ddb-a41f72875c19",
         "x": [
          "8-1",
          "8-2",
          "8-3",
          "8-4",
          "8-5",
          "9-1",
          "9-2",
          "9-3",
          "9-4",
          "10-2",
          "10-3",
          "10-4",
          "10-5",
          "11-1"
         ],
         "y": [
          null,
          null,
          null,
          null,
          null,
          null,
          null,
          null,
          null,
          null,
          null,
          null,
          1.688,
          8.44
         ]
        },
        {
         "line": {
          "dash": "dash"
         },
         "name": "平均反馈时长(冷雪)",
         "type": "scatter",
         "uid": "dc72a10c-e625-11e8-8ddb-a41f72875c19",
         "x": [
          "8-1",
          "8-2",
          "8-3",
          "8-4",
          "8-5",
          "9-1",
          "9-2",
          "9-3",
          "9-4",
          "10-2",
          "10-3",
          "10-4",
          "10-5",
          "11-1"
         ],
         "y": [
          7.090000000000001,
          3.9827586206896552,
          4.95,
          3.38,
          3.69,
          9.81,
          7.658947368421053,
          3.6,
          3.2600000000000002,
          2.78,
          4.016976744186047,
          4.655182481751825,
          3.381287878787879,
          4.98515625
         ]
        },
        {
         "line": {
          "dash": "longdash"
         },
         "name": "平均反馈时长(林文文)",
         "type": "scatter",
         "uid": "dc72a10d-e625-11e8-8ddb-a41f72875c19",
         "x": [
          "8-1",
          "8-2",
          "8-3",
          "8-4",
          "8-5",
          "9-1",
          "9-2",
          "9-3",
          "9-4",
          "10-2",
          "10-3",
          "10-4",
          "10-5",
          "11-1"
         ],
         "y": [
          null,
          null,
          null,
          null,
          null,
          null,
          null,
          null,
          null,
          null,
          null,
          null,
          0.745,
          4.47
         ]
        },
        {
         "line": {
          "dash": "dashdot"
         },
         "name": "平均反馈时长(高剑)",
         "type": "scatter",
         "uid": "dc72a10e-e625-11e8-8ddb-a41f72875c19",
         "x": [
          "8-1",
          "8-2",
          "8-3",
          "8-4",
          "8-5",
          "9-1",
          "9-2",
          "9-3",
          "9-4",
          "10-2",
          "10-3",
          "10-4",
          "10-5",
          "11-1"
         ],
         "y": [
          null,
          null,
          null,
          null,
          null,
          null,
          null,
          null,
          null,
          null,
          null,
          null,
          0.895,
          3.58
         ]
        },
        {
         "line": {
          "dash": "longdashdot"
         },
         "name": "平均反馈时长(屈昂)",
         "type": "scatter",
         "uid": "dc72a10f-e625-11e8-8ddb-a41f72875c19",
         "x": [
          "8-1",
          "8-2",
          "8-3",
          "8-4",
          "8-5",
          "9-1",
          "9-2",
          "9-3",
          "9-4",
          "10-2",
          "10-3",
          "10-4",
          "10-5",
          "11-1"
         ],
         "y": [
          5.95,
          4.49,
          4.5,
          5.37,
          7.139294117647059,
          9.77,
          6.688,
          3.6300000000000003,
          2.73,
          3.94,
          8.766666666666667,
          null,
          15.68,
          13.455
         ]
        },
        {
         "line": {
          "dash": "solid"
         },
         "name": "平均反馈时长(沈恩惠)",
         "type": "scatter",
         "uid": "dc72a110-e625-11e8-8ddb-a41f72875c19",
         "x": [
          "8-1",
          "8-2",
          "8-3",
          "8-4",
          "8-5",
          "9-1",
          "9-2",
          "9-3",
          "9-4",
          "10-2",
          "10-3",
          "10-4",
          "10-5",
          "11-1"
         ],
         "y": [
          null,
          null,
          null,
          null,
          null,
          null,
          null,
          null,
          null,
          null,
          null,
          null,
          2.194,
          10.97
         ]
        },
        {
         "line": {
          "dash": "dot"
         },
         "name": "平均反馈时长(张悦)",
         "type": "scatter",
         "uid": "dc72a111-e625-11e8-8ddb-a41f72875c19",
         "x": [
          "8-1",
          "8-2",
          "8-3",
          "8-4",
          "8-5",
          "9-1",
          "9-2",
          "9-3",
          "9-4",
          "10-2",
          "10-3",
          "10-4",
          "10-5",
          "11-1"
         ],
         "y": [
          14.51,
          3.26,
          18.68,
          1.47,
          2.7600000000000002,
          5.22,
          null,
          null,
          null,
          null,
          null,
          null,
          null,
          null
         ]
        },
        {
         "line": {
          "dash": "dash"
         },
         "name": "平均反馈时长(车天栋)",
         "type": "scatter",
         "uid": "dc72a112-e625-11e8-8ddb-a41f72875c19",
         "x": [
          "8-1",
          "8-2",
          "8-3",
          "8-4",
          "8-5",
          "9-1",
          "9-2",
          "9-3",
          "9-4",
          "10-2",
          "10-3",
          "10-4",
          "10-5",
          "11-1"
         ],
         "y": [
          null,
          null,
          null,
          null,
          null,
          null,
          null,
          null,
          null,
          null,
          null,
          null,
          4.08,
          8.16
         ]
        },
        {
         "line": {
          "dash": "longdash"
         },
         "name": "平均反馈时长(沈立群)",
         "type": "scatter",
         "uid": "dc72a113-e625-11e8-8ddb-a41f72875c19",
         "x": [
          "8-1",
          "8-2",
          "8-3",
          "8-4",
          "8-5",
          "9-1",
          "9-2",
          "9-3",
          "9-4",
          "10-2",
          "10-3",
          "10-4",
          "10-5",
          "11-1"
         ],
         "y": [
          null,
          null,
          null,
          null,
          null,
          null,
          null,
          null,
          null,
          null,
          null,
          null,
          1.7275,
          6.91
         ]
        },
        {
         "line": {
          "dash": "solid"
         },
         "name": "反馈时长Q80(卢楠)",
         "type": "scatter",
         "uid": "dc72a114-e625-11e8-8ddb-a41f72875c19",
         "x": [
          "8-1",
          "8-2",
          "8-3",
          "8-4",
          "8-5",
          "9-1",
          "9-2",
          "9-3",
          "9-4",
          "10-2",
          "10-3",
          "10-4",
          "10-5",
          "11-1"
         ],
         "y": [
          7.58,
          4.61,
          18.53,
          5.89,
          1.85,
          2.18,
          15.12,
          null,
          null,
          null,
          null,
          null,
          null,
          null
         ]
        },
        {
         "line": {
          "dash": "dot"
         },
         "name": "反馈时长Q80(王传文)",
         "type": "scatter",
         "uid": "dc72a115-e625-11e8-8ddb-a41f72875c19",
         "x": [
          "8-1",
          "8-2",
          "8-3",
          "8-4",
          "8-5",
          "9-1",
          "9-2",
          "9-3",
          "9-4",
          "10-2",
          "10-3",
          "10-4",
          "10-5",
          "11-1"
         ],
         "y": [
          null,
          null,
          null,
          null,
          null,
          null,
          null,
          null,
          null,
          null,
          null,
          null,
          14.27,
          14.27
         ]
        },
        {
         "line": {
          "dash": "dash"
         },
         "name": "反馈时长Q80(冷雪)",
         "type": "scatter",
         "uid": "dc72a116-e625-11e8-8ddb-a41f72875c19",
         "x": [
          "8-1",
          "8-2",
          "8-3",
          "8-4",
          "8-5",
          "9-1",
          "9-2",
          "9-3",
          "9-4",
          "10-2",
          "10-3",
          "10-4",
          "10-5",
          "11-1"
         ],
         "y": [
          7.59,
          4.66,
          5.63,
          3.23,
          6.49,
          13.99,
          10.5,
          3.83,
          3.99,
          4,
          4.79,
          6.28,
          5.13,
          6.52
         ]
        },
        {
         "line": {
          "dash": "longdash"
         },
         "name": "反馈时长Q80(林文文)",
         "type": "scatter",
         "uid": "dc72a117-e625-11e8-8ddb-a41f72875c19",
         "x": [
          "8-1",
          "8-2",
          "8-3",
          "8-4",
          "8-5",
          "9-1",
          "9-2",
          "9-3",
          "9-4",
          "10-2",
          "10-3",
          "10-4",
          "10-5",
          "11-1"
         ],
         "y": [
          null,
          null,
          null,
          null,
          null,
          null,
          null,
          null,
          null,
          null,
          null,
          null,
          7.02,
          7.02
         ]
        },
        {
         "line": {
          "dash": "dashdot"
         },
         "name": "反馈时长Q80(高剑)",
         "type": "scatter",
         "uid": "dc72a118-e625-11e8-8ddb-a41f72875c19",
         "x": [
          "8-1",
          "8-2",
          "8-3",
          "8-4",
          "8-5",
          "9-1",
          "9-2",
          "9-3",
          "9-4",
          "10-2",
          "10-3",
          "10-4",
          "10-5",
          "11-1"
         ],
         "y": [
          null,
          null,
          null,
          null,
          null,
          null,
          null,
          null,
          null,
          null,
          null,
          null,
          4.66,
          4.66
         ]
        },
        {
         "line": {
          "dash": "longdashdot"
         },
         "name": "反馈时长Q80(屈昂)",
         "type": "scatter",
         "uid": "dc72a119-e625-11e8-8ddb-a41f72875c19",
         "x": [
          "8-1",
          "8-2",
          "8-3",
          "8-4",
          "8-5",
          "9-1",
          "9-2",
          "9-3",
          "9-4",
          "10-2",
          "10-3",
          "10-4",
          "10-5",
          "11-1"
         ],
         "y": [
          5.79,
          5.35,
          5.31,
          5.19,
          11.12,
          16,
          9.89,
          3.92,
          2.71,
          3.94,
          10.47,
          0,
          15.68,
          6.92
         ]
        },
        {
         "line": {
          "dash": "solid"
         },
         "name": "反馈时长Q80(沈恩惠)",
         "type": "scatter",
         "uid": "dc72a11a-e625-11e8-8ddb-a41f72875c19",
         "x": [
          "8-1",
          "8-2",
          "8-3",
          "8-4",
          "8-5",
          "9-1",
          "9-2",
          "9-3",
          "9-4",
          "10-2",
          "10-3",
          "10-4",
          "10-5",
          "11-1"
         ],
         "y": [
          null,
          null,
          null,
          null,
          null,
          null,
          null,
          null,
          null,
          null,
          null,
          null,
          16.53,
          16.53
         ]
        },
        {
         "line": {
          "dash": "dot"
         },
         "name": "反馈时长Q80(张悦)",
         "type": "scatter",
         "uid": "dc72a11b-e625-11e8-8ddb-a41f72875c19",
         "x": [
          "8-1",
          "8-2",
          "8-3",
          "8-4",
          "8-5",
          "9-1",
          "9-2",
          "9-3",
          "9-4",
          "10-2",
          "10-3",
          "10-4",
          "10-5",
          "11-1"
         ],
         "y": [
          5.54,
          2.28,
          18.68,
          1.47,
          2.11,
          3.31,
          null,
          null,
          null,
          null,
          null,
          null,
          null,
          null
         ]
        },
        {
         "line": {
          "dash": "dash"
         },
         "name": "反馈时长Q80(车天栋)",
         "type": "scatter",
         "uid": "dc72a11c-e625-11e8-8ddb-a41f72875c19",
         "x": [
          "8-1",
          "8-2",
          "8-3",
          "8-4",
          "8-5",
          "9-1",
          "9-2",
          "9-3",
          "9-4",
          "10-2",
          "10-3",
          "10-4",
          "10-5",
          "11-1"
         ],
         "y": [
          null,
          null,
          null,
          null,
          null,
          null,
          null,
          null,
          null,
          null,
          null,
          null,
          8.32,
          8.32
         ]
        },
        {
         "line": {
          "dash": "longdash"
         },
         "name": "反馈时长Q80(沈立群)",
         "type": "scatter",
         "uid": "dc72a11d-e625-11e8-8ddb-a41f72875c19",
         "x": [
          "8-1",
          "8-2",
          "8-3",
          "8-4",
          "8-5",
          "9-1",
          "9-2",
          "9-3",
          "9-4",
          "10-2",
          "10-3",
          "10-4",
          "10-5",
          "11-1"
         ],
         "y": [
          null,
          null,
          null,
          null,
          null,
          null,
          null,
          null,
          null,
          null,
          null,
          null,
          9.69,
          9.69
         ]
        }
       ],
       "layout": {
        "title": "平均反馈时长&反馈时长Q80周趋势图",
        "xaxis": {
         "mirror": "all",
         "nticks": 20,
         "showgrid": true,
         "showline": true,
         "title": "周",
         "type": "category",
         "zeroline": true
        },
        "yaxis": {
         "mirror": "all",
         "nticks": 20,
         "showgrid": true,
         "showline": true,
         "title": "平均反馈时长&反馈时长Q80",
         "zeroline": true
        }
       }
      },
      "text/html": [
       "<div id=\"4df35d4a-2c4c-42cd-984a-7c132a0d82c9\" style=\"height: 525px; width: 100%;\" class=\"plotly-graph-div\"></div><script type=\"text/javascript\">require([\"plotly\"], function(Plotly) { window.PLOTLYENV=window.PLOTLYENV || {};window.PLOTLYENV.BASE_URL=\"https://plot.ly\";Plotly.newPlot(\"4df35d4a-2c4c-42cd-984a-7c132a0d82c9\", [{\"line\": {\"dash\": \"solid\"}, \"name\": \"\\u5e73\\u5747\\u53cd\\u9988\\u65f6\\u957f(\\u5362\\u6960)\", \"x\": [\"8-1\", \"8-2\", \"8-3\", \"8-4\", \"8-5\", \"9-1\", \"9-2\", \"9-3\", \"9-4\", \"10-2\", \"10-3\", \"10-4\", \"10-5\", \"11-1\"], \"y\": [5.77, 5.0, 8.6, 5.199999999999999, 1.7300000000000002, 7.2, 14.409999999999998, null, null, null, null, null, null, null], \"type\": \"scatter\", \"uid\": \"dc72a10a-e625-11e8-8ddb-a41f72875c19\"}, {\"line\": {\"dash\": \"dot\"}, \"name\": \"\\u5e73\\u5747\\u53cd\\u9988\\u65f6\\u957f(\\u738b\\u4f20\\u6587)\", \"x\": [\"8-1\", \"8-2\", \"8-3\", \"8-4\", \"8-5\", \"9-1\", \"9-2\", \"9-3\", \"9-4\", \"10-2\", \"10-3\", \"10-4\", \"10-5\", \"11-1\"], \"y\": [null, null, null, null, null, null, null, null, null, null, null, null, 1.688, 8.44], \"type\": \"scatter\", \"uid\": \"dc72a10b-e625-11e8-8ddb-a41f72875c19\"}, {\"line\": {\"dash\": \"dash\"}, \"name\": \"\\u5e73\\u5747\\u53cd\\u9988\\u65f6\\u957f(\\u51b7\\u96ea)\", \"x\": [\"8-1\", \"8-2\", \"8-3\", \"8-4\", \"8-5\", \"9-1\", \"9-2\", \"9-3\", \"9-4\", \"10-2\", \"10-3\", \"10-4\", \"10-5\", \"11-1\"], \"y\": [7.090000000000001, 3.9827586206896552, 4.95, 3.38, 3.69, 9.81, 7.658947368421053, 3.6, 3.2600000000000002, 2.78, 4.016976744186047, 4.655182481751825, 3.381287878787879, 4.98515625], \"type\": \"scatter\", \"uid\": \"dc72a10c-e625-11e8-8ddb-a41f72875c19\"}, {\"line\": {\"dash\": \"longdash\"}, \"name\": \"\\u5e73\\u5747\\u53cd\\u9988\\u65f6\\u957f(\\u6797\\u6587\\u6587)\", \"x\": [\"8-1\", \"8-2\", \"8-3\", \"8-4\", \"8-5\", \"9-1\", \"9-2\", \"9-3\", \"9-4\", \"10-2\", \"10-3\", \"10-4\", \"10-5\", \"11-1\"], \"y\": [null, null, null, null, null, null, null, null, null, null, null, null, 0.745, 4.47], \"type\": \"scatter\", \"uid\": \"dc72a10d-e625-11e8-8ddb-a41f72875c19\"}, {\"line\": {\"dash\": \"dashdot\"}, \"name\": \"\\u5e73\\u5747\\u53cd\\u9988\\u65f6\\u957f(\\u9ad8\\u5251)\", \"x\": [\"8-1\", \"8-2\", \"8-3\", \"8-4\", \"8-5\", \"9-1\", \"9-2\", \"9-3\", \"9-4\", \"10-2\", \"10-3\", \"10-4\", \"10-5\", \"11-1\"], \"y\": [null, null, null, null, null, null, null, null, null, null, null, null, 0.895, 3.58], \"type\": \"scatter\", \"uid\": \"dc72a10e-e625-11e8-8ddb-a41f72875c19\"}, {\"line\": {\"dash\": \"longdashdot\"}, \"name\": \"\\u5e73\\u5747\\u53cd\\u9988\\u65f6\\u957f(\\u5c48\\u6602)\", \"x\": [\"8-1\", \"8-2\", \"8-3\", \"8-4\", \"8-5\", \"9-1\", \"9-2\", \"9-3\", \"9-4\", \"10-2\", \"10-3\", \"10-4\", \"10-5\", \"11-1\"], \"y\": [5.95, 4.49, 4.5, 5.37, 7.139294117647059, 9.77, 6.688, 3.6300000000000003, 2.73, 3.94, 8.766666666666667, null, 15.68, 13.455], \"type\": \"scatter\", \"uid\": \"dc72a10f-e625-11e8-8ddb-a41f72875c19\"}, {\"line\": {\"dash\": \"solid\"}, \"name\": \"\\u5e73\\u5747\\u53cd\\u9988\\u65f6\\u957f(\\u6c88\\u6069\\u60e0)\", \"x\": [\"8-1\", \"8-2\", \"8-3\", \"8-4\", \"8-5\", \"9-1\", \"9-2\", \"9-3\", \"9-4\", \"10-2\", \"10-3\", \"10-4\", \"10-5\", \"11-1\"], \"y\": [null, null, null, null, null, null, null, null, null, null, null, null, 2.194, 10.97], \"type\": \"scatter\", \"uid\": \"dc72a110-e625-11e8-8ddb-a41f72875c19\"}, {\"line\": {\"dash\": \"dot\"}, \"name\": \"\\u5e73\\u5747\\u53cd\\u9988\\u65f6\\u957f(\\u5f20\\u60a6)\", \"x\": [\"8-1\", \"8-2\", \"8-3\", \"8-4\", \"8-5\", \"9-1\", \"9-2\", \"9-3\", \"9-4\", \"10-2\", \"10-3\", \"10-4\", \"10-5\", \"11-1\"], \"y\": [14.51, 3.26, 18.68, 1.47, 2.7600000000000002, 5.22, null, null, null, null, null, null, null, null], \"type\": \"scatter\", \"uid\": \"dc72a111-e625-11e8-8ddb-a41f72875c19\"}, {\"line\": {\"dash\": \"dash\"}, \"name\": \"\\u5e73\\u5747\\u53cd\\u9988\\u65f6\\u957f(\\u8f66\\u5929\\u680b)\", \"x\": [\"8-1\", \"8-2\", \"8-3\", \"8-4\", \"8-5\", \"9-1\", \"9-2\", \"9-3\", \"9-4\", \"10-2\", \"10-3\", \"10-4\", \"10-5\", \"11-1\"], \"y\": [null, null, null, null, null, null, null, null, null, null, null, null, 4.08, 8.16], \"type\": \"scatter\", \"uid\": \"dc72a112-e625-11e8-8ddb-a41f72875c19\"}, {\"line\": {\"dash\": \"longdash\"}, \"name\": \"\\u5e73\\u5747\\u53cd\\u9988\\u65f6\\u957f(\\u6c88\\u7acb\\u7fa4)\", \"x\": [\"8-1\", \"8-2\", \"8-3\", \"8-4\", \"8-5\", \"9-1\", \"9-2\", \"9-3\", \"9-4\", \"10-2\", \"10-3\", \"10-4\", \"10-5\", \"11-1\"], \"y\": [null, null, null, null, null, null, null, null, null, null, null, null, 1.7275, 6.91], \"type\": \"scatter\", \"uid\": \"dc72a113-e625-11e8-8ddb-a41f72875c19\"}, {\"line\": {\"dash\": \"solid\"}, \"name\": \"\\u53cd\\u9988\\u65f6\\u957fQ80(\\u5362\\u6960)\", \"x\": [\"8-1\", \"8-2\", \"8-3\", \"8-4\", \"8-5\", \"9-1\", \"9-2\", \"9-3\", \"9-4\", \"10-2\", \"10-3\", \"10-4\", \"10-5\", \"11-1\"], \"y\": [7.58, 4.61, 18.53, 5.89, 1.85, 2.18, 15.12, null, null, null, null, null, null, null], \"type\": \"scatter\", \"uid\": \"dc72a114-e625-11e8-8ddb-a41f72875c19\"}, {\"line\": {\"dash\": \"dot\"}, \"name\": \"\\u53cd\\u9988\\u65f6\\u957fQ80(\\u738b\\u4f20\\u6587)\", \"x\": [\"8-1\", \"8-2\", \"8-3\", \"8-4\", \"8-5\", \"9-1\", \"9-2\", \"9-3\", \"9-4\", \"10-2\", \"10-3\", \"10-4\", \"10-5\", \"11-1\"], \"y\": [null, null, null, null, null, null, null, null, null, null, null, null, 14.27, 14.27], \"type\": \"scatter\", \"uid\": \"dc72a115-e625-11e8-8ddb-a41f72875c19\"}, {\"line\": {\"dash\": \"dash\"}, \"name\": \"\\u53cd\\u9988\\u65f6\\u957fQ80(\\u51b7\\u96ea)\", \"x\": [\"8-1\", \"8-2\", \"8-3\", \"8-4\", \"8-5\", \"9-1\", \"9-2\", \"9-3\", \"9-4\", \"10-2\", \"10-3\", \"10-4\", \"10-5\", \"11-1\"], \"y\": [7.59, 4.66, 5.63, 3.23, 6.49, 13.99, 10.5, 3.83, 3.99, 4.0, 4.79, 6.28, 5.13, 6.52], \"type\": \"scatter\", \"uid\": \"dc72a116-e625-11e8-8ddb-a41f72875c19\"}, {\"line\": {\"dash\": \"longdash\"}, \"name\": \"\\u53cd\\u9988\\u65f6\\u957fQ80(\\u6797\\u6587\\u6587)\", \"x\": [\"8-1\", \"8-2\", \"8-3\", \"8-4\", \"8-5\", \"9-1\", \"9-2\", \"9-3\", \"9-4\", \"10-2\", \"10-3\", \"10-4\", \"10-5\", \"11-1\"], \"y\": [null, null, null, null, null, null, null, null, null, null, null, null, 7.02, 7.02], \"type\": \"scatter\", \"uid\": \"dc72a117-e625-11e8-8ddb-a41f72875c19\"}, {\"line\": {\"dash\": \"dashdot\"}, \"name\": \"\\u53cd\\u9988\\u65f6\\u957fQ80(\\u9ad8\\u5251)\", \"x\": [\"8-1\", \"8-2\", \"8-3\", \"8-4\", \"8-5\", \"9-1\", \"9-2\", \"9-3\", \"9-4\", \"10-2\", \"10-3\", \"10-4\", \"10-5\", \"11-1\"], \"y\": [null, null, null, null, null, null, null, null, null, null, null, null, 4.66, 4.66], \"type\": \"scatter\", \"uid\": \"dc72a118-e625-11e8-8ddb-a41f72875c19\"}, {\"line\": {\"dash\": \"longdashdot\"}, \"name\": \"\\u53cd\\u9988\\u65f6\\u957fQ80(\\u5c48\\u6602)\", \"x\": [\"8-1\", \"8-2\", \"8-3\", \"8-4\", \"8-5\", \"9-1\", \"9-2\", \"9-3\", \"9-4\", \"10-2\", \"10-3\", \"10-4\", \"10-5\", \"11-1\"], \"y\": [5.79, 5.35, 5.31, 5.19, 11.12, 16.0, 9.89, 3.92, 2.71, 3.94, 10.47, 0.0, 15.68, 6.92], \"type\": \"scatter\", \"uid\": \"dc72a119-e625-11e8-8ddb-a41f72875c19\"}, {\"line\": {\"dash\": \"solid\"}, \"name\": \"\\u53cd\\u9988\\u65f6\\u957fQ80(\\u6c88\\u6069\\u60e0)\", \"x\": [\"8-1\", \"8-2\", \"8-3\", \"8-4\", \"8-5\", \"9-1\", \"9-2\", \"9-3\", \"9-4\", \"10-2\", \"10-3\", \"10-4\", \"10-5\", \"11-1\"], \"y\": [null, null, null, null, null, null, null, null, null, null, null, null, 16.53, 16.53], \"type\": \"scatter\", \"uid\": \"dc72a11a-e625-11e8-8ddb-a41f72875c19\"}, {\"line\": {\"dash\": \"dot\"}, \"name\": \"\\u53cd\\u9988\\u65f6\\u957fQ80(\\u5f20\\u60a6)\", \"x\": [\"8-1\", \"8-2\", \"8-3\", \"8-4\", \"8-5\", \"9-1\", \"9-2\", \"9-3\", \"9-4\", \"10-2\", \"10-3\", \"10-4\", \"10-5\", \"11-1\"], \"y\": [5.54, 2.28, 18.68, 1.47, 2.11, 3.31, null, null, null, null, null, null, null, null], \"type\": \"scatter\", \"uid\": \"dc72a11b-e625-11e8-8ddb-a41f72875c19\"}, {\"line\": {\"dash\": \"dash\"}, \"name\": \"\\u53cd\\u9988\\u65f6\\u957fQ80(\\u8f66\\u5929\\u680b)\", \"x\": [\"8-1\", \"8-2\", \"8-3\", \"8-4\", \"8-5\", \"9-1\", \"9-2\", \"9-3\", \"9-4\", \"10-2\", \"10-3\", \"10-4\", \"10-5\", \"11-1\"], \"y\": [null, null, null, null, null, null, null, null, null, null, null, null, 8.32, 8.32], \"type\": \"scatter\", \"uid\": \"dc72a11c-e625-11e8-8ddb-a41f72875c19\"}, {\"line\": {\"dash\": \"longdash\"}, \"name\": \"\\u53cd\\u9988\\u65f6\\u957fQ80(\\u6c88\\u7acb\\u7fa4)\", \"x\": [\"8-1\", \"8-2\", \"8-3\", \"8-4\", \"8-5\", \"9-1\", \"9-2\", \"9-3\", \"9-4\", \"10-2\", \"10-3\", \"10-4\", \"10-5\", \"11-1\"], \"y\": [null, null, null, null, null, null, null, null, null, null, null, null, 9.69, 9.69], \"type\": \"scatter\", \"uid\": \"dc72a11d-e625-11e8-8ddb-a41f72875c19\"}], {\"title\": \"\\u5e73\\u5747\\u53cd\\u9988\\u65f6\\u957f&\\u53cd\\u9988\\u65f6\\u957fQ80\\u5468\\u8d8b\\u52bf\\u56fe\", \"xaxis\": {\"mirror\": \"all\", \"nticks\": 20, \"showgrid\": true, \"showline\": true, \"title\": \"\\u5468\", \"type\": \"category\", \"zeroline\": true}, \"yaxis\": {\"mirror\": \"all\", \"nticks\": 20, \"showgrid\": true, \"showline\": true, \"title\": \"\\u5e73\\u5747\\u53cd\\u9988\\u65f6\\u957f&\\u53cd\\u9988\\u65f6\\u957fQ80\", \"zeroline\": true}}, {\"showLink\": true, \"linkText\": \"Export to plot.ly\"})});</script>"
      ],
      "text/vnd.plotly.v1+html": [
       "<div id=\"4df35d4a-2c4c-42cd-984a-7c132a0d82c9\" style=\"height: 525px; width: 100%;\" class=\"plotly-graph-div\"></div><script type=\"text/javascript\">require([\"plotly\"], function(Plotly) { window.PLOTLYENV=window.PLOTLYENV || {};window.PLOTLYENV.BASE_URL=\"https://plot.ly\";Plotly.newPlot(\"4df35d4a-2c4c-42cd-984a-7c132a0d82c9\", [{\"line\": {\"dash\": \"solid\"}, \"name\": \"\\u5e73\\u5747\\u53cd\\u9988\\u65f6\\u957f(\\u5362\\u6960)\", \"x\": [\"8-1\", \"8-2\", \"8-3\", \"8-4\", \"8-5\", \"9-1\", \"9-2\", \"9-3\", \"9-4\", \"10-2\", \"10-3\", \"10-4\", \"10-5\", \"11-1\"], \"y\": [5.77, 5.0, 8.6, 5.199999999999999, 1.7300000000000002, 7.2, 14.409999999999998, null, null, null, null, null, null, null], \"type\": \"scatter\", \"uid\": \"dc72a10a-e625-11e8-8ddb-a41f72875c19\"}, {\"line\": {\"dash\": \"dot\"}, \"name\": \"\\u5e73\\u5747\\u53cd\\u9988\\u65f6\\u957f(\\u738b\\u4f20\\u6587)\", \"x\": [\"8-1\", \"8-2\", \"8-3\", \"8-4\", \"8-5\", \"9-1\", \"9-2\", \"9-3\", \"9-4\", \"10-2\", \"10-3\", \"10-4\", \"10-5\", \"11-1\"], \"y\": [null, null, null, null, null, null, null, null, null, null, null, null, 1.688, 8.44], \"type\": \"scatter\", \"uid\": \"dc72a10b-e625-11e8-8ddb-a41f72875c19\"}, {\"line\": {\"dash\": \"dash\"}, \"name\": \"\\u5e73\\u5747\\u53cd\\u9988\\u65f6\\u957f(\\u51b7\\u96ea)\", \"x\": [\"8-1\", \"8-2\", \"8-3\", \"8-4\", \"8-5\", \"9-1\", \"9-2\", \"9-3\", \"9-4\", \"10-2\", \"10-3\", \"10-4\", \"10-5\", \"11-1\"], \"y\": [7.090000000000001, 3.9827586206896552, 4.95, 3.38, 3.69, 9.81, 7.658947368421053, 3.6, 3.2600000000000002, 2.78, 4.016976744186047, 4.655182481751825, 3.381287878787879, 4.98515625], \"type\": \"scatter\", \"uid\": \"dc72a10c-e625-11e8-8ddb-a41f72875c19\"}, {\"line\": {\"dash\": \"longdash\"}, \"name\": \"\\u5e73\\u5747\\u53cd\\u9988\\u65f6\\u957f(\\u6797\\u6587\\u6587)\", \"x\": [\"8-1\", \"8-2\", \"8-3\", \"8-4\", \"8-5\", \"9-1\", \"9-2\", \"9-3\", \"9-4\", \"10-2\", \"10-3\", \"10-4\", \"10-5\", \"11-1\"], \"y\": [null, null, null, null, null, null, null, null, null, null, null, null, 0.745, 4.47], \"type\": \"scatter\", \"uid\": \"dc72a10d-e625-11e8-8ddb-a41f72875c19\"}, {\"line\": {\"dash\": \"dashdot\"}, \"name\": \"\\u5e73\\u5747\\u53cd\\u9988\\u65f6\\u957f(\\u9ad8\\u5251)\", \"x\": [\"8-1\", \"8-2\", \"8-3\", \"8-4\", \"8-5\", \"9-1\", \"9-2\", \"9-3\", \"9-4\", \"10-2\", \"10-3\", \"10-4\", \"10-5\", \"11-1\"], \"y\": [null, null, null, null, null, null, null, null, null, null, null, null, 0.895, 3.58], \"type\": \"scatter\", \"uid\": \"dc72a10e-e625-11e8-8ddb-a41f72875c19\"}, {\"line\": {\"dash\": \"longdashdot\"}, \"name\": \"\\u5e73\\u5747\\u53cd\\u9988\\u65f6\\u957f(\\u5c48\\u6602)\", \"x\": [\"8-1\", \"8-2\", \"8-3\", \"8-4\", \"8-5\", \"9-1\", \"9-2\", \"9-3\", \"9-4\", \"10-2\", \"10-3\", \"10-4\", \"10-5\", \"11-1\"], \"y\": [5.95, 4.49, 4.5, 5.37, 7.139294117647059, 9.77, 6.688, 3.6300000000000003, 2.73, 3.94, 8.766666666666667, null, 15.68, 13.455], \"type\": \"scatter\", \"uid\": \"dc72a10f-e625-11e8-8ddb-a41f72875c19\"}, {\"line\": {\"dash\": \"solid\"}, \"name\": \"\\u5e73\\u5747\\u53cd\\u9988\\u65f6\\u957f(\\u6c88\\u6069\\u60e0)\", \"x\": [\"8-1\", \"8-2\", \"8-3\", \"8-4\", \"8-5\", \"9-1\", \"9-2\", \"9-3\", \"9-4\", \"10-2\", \"10-3\", \"10-4\", \"10-5\", \"11-1\"], \"y\": [null, null, null, null, null, null, null, null, null, null, null, null, 2.194, 10.97], \"type\": \"scatter\", \"uid\": \"dc72a110-e625-11e8-8ddb-a41f72875c19\"}, {\"line\": {\"dash\": \"dot\"}, \"name\": \"\\u5e73\\u5747\\u53cd\\u9988\\u65f6\\u957f(\\u5f20\\u60a6)\", \"x\": [\"8-1\", \"8-2\", \"8-3\", \"8-4\", \"8-5\", \"9-1\", \"9-2\", \"9-3\", \"9-4\", \"10-2\", \"10-3\", \"10-4\", \"10-5\", \"11-1\"], \"y\": [14.51, 3.26, 18.68, 1.47, 2.7600000000000002, 5.22, null, null, null, null, null, null, null, null], \"type\": \"scatter\", \"uid\": \"dc72a111-e625-11e8-8ddb-a41f72875c19\"}, {\"line\": {\"dash\": \"dash\"}, \"name\": \"\\u5e73\\u5747\\u53cd\\u9988\\u65f6\\u957f(\\u8f66\\u5929\\u680b)\", \"x\": [\"8-1\", \"8-2\", \"8-3\", \"8-4\", \"8-5\", \"9-1\", \"9-2\", \"9-3\", \"9-4\", \"10-2\", \"10-3\", \"10-4\", \"10-5\", \"11-1\"], \"y\": [null, null, null, null, null, null, null, null, null, null, null, null, 4.08, 8.16], \"type\": \"scatter\", \"uid\": \"dc72a112-e625-11e8-8ddb-a41f72875c19\"}, {\"line\": {\"dash\": \"longdash\"}, \"name\": \"\\u5e73\\u5747\\u53cd\\u9988\\u65f6\\u957f(\\u6c88\\u7acb\\u7fa4)\", \"x\": [\"8-1\", \"8-2\", \"8-3\", \"8-4\", \"8-5\", \"9-1\", \"9-2\", \"9-3\", \"9-4\", \"10-2\", \"10-3\", \"10-4\", \"10-5\", \"11-1\"], \"y\": [null, null, null, null, null, null, null, null, null, null, null, null, 1.7275, 6.91], \"type\": \"scatter\", \"uid\": \"dc72a113-e625-11e8-8ddb-a41f72875c19\"}, {\"line\": {\"dash\": \"solid\"}, \"name\": \"\\u53cd\\u9988\\u65f6\\u957fQ80(\\u5362\\u6960)\", \"x\": [\"8-1\", \"8-2\", \"8-3\", \"8-4\", \"8-5\", \"9-1\", \"9-2\", \"9-3\", \"9-4\", \"10-2\", \"10-3\", \"10-4\", \"10-5\", \"11-1\"], \"y\": [7.58, 4.61, 18.53, 5.89, 1.85, 2.18, 15.12, null, null, null, null, null, null, null], \"type\": \"scatter\", \"uid\": \"dc72a114-e625-11e8-8ddb-a41f72875c19\"}, {\"line\": {\"dash\": \"dot\"}, \"name\": \"\\u53cd\\u9988\\u65f6\\u957fQ80(\\u738b\\u4f20\\u6587)\", \"x\": [\"8-1\", \"8-2\", \"8-3\", \"8-4\", \"8-5\", \"9-1\", \"9-2\", \"9-3\", \"9-4\", \"10-2\", \"10-3\", \"10-4\", \"10-5\", \"11-1\"], \"y\": [null, null, null, null, null, null, null, null, null, null, null, null, 14.27, 14.27], \"type\": \"scatter\", \"uid\": \"dc72a115-e625-11e8-8ddb-a41f72875c19\"}, {\"line\": {\"dash\": \"dash\"}, \"name\": \"\\u53cd\\u9988\\u65f6\\u957fQ80(\\u51b7\\u96ea)\", \"x\": [\"8-1\", \"8-2\", \"8-3\", \"8-4\", \"8-5\", \"9-1\", \"9-2\", \"9-3\", \"9-4\", \"10-2\", \"10-3\", \"10-4\", \"10-5\", \"11-1\"], \"y\": [7.59, 4.66, 5.63, 3.23, 6.49, 13.99, 10.5, 3.83, 3.99, 4.0, 4.79, 6.28, 5.13, 6.52], \"type\": \"scatter\", \"uid\": \"dc72a116-e625-11e8-8ddb-a41f72875c19\"}, {\"line\": {\"dash\": \"longdash\"}, \"name\": \"\\u53cd\\u9988\\u65f6\\u957fQ80(\\u6797\\u6587\\u6587)\", \"x\": [\"8-1\", \"8-2\", \"8-3\", \"8-4\", \"8-5\", \"9-1\", \"9-2\", \"9-3\", \"9-4\", \"10-2\", \"10-3\", \"10-4\", \"10-5\", \"11-1\"], \"y\": [null, null, null, null, null, null, null, null, null, null, null, null, 7.02, 7.02], \"type\": \"scatter\", \"uid\": \"dc72a117-e625-11e8-8ddb-a41f72875c19\"}, {\"line\": {\"dash\": \"dashdot\"}, \"name\": \"\\u53cd\\u9988\\u65f6\\u957fQ80(\\u9ad8\\u5251)\", \"x\": [\"8-1\", \"8-2\", \"8-3\", \"8-4\", \"8-5\", \"9-1\", \"9-2\", \"9-3\", \"9-4\", \"10-2\", \"10-3\", \"10-4\", \"10-5\", \"11-1\"], \"y\": [null, null, null, null, null, null, null, null, null, null, null, null, 4.66, 4.66], \"type\": \"scatter\", \"uid\": \"dc72a118-e625-11e8-8ddb-a41f72875c19\"}, {\"line\": {\"dash\": \"longdashdot\"}, \"name\": \"\\u53cd\\u9988\\u65f6\\u957fQ80(\\u5c48\\u6602)\", \"x\": [\"8-1\", \"8-2\", \"8-3\", \"8-4\", \"8-5\", \"9-1\", \"9-2\", \"9-3\", \"9-4\", \"10-2\", \"10-3\", \"10-4\", \"10-5\", \"11-1\"], \"y\": [5.79, 5.35, 5.31, 5.19, 11.12, 16.0, 9.89, 3.92, 2.71, 3.94, 10.47, 0.0, 15.68, 6.92], \"type\": \"scatter\", \"uid\": \"dc72a119-e625-11e8-8ddb-a41f72875c19\"}, {\"line\": {\"dash\": \"solid\"}, \"name\": \"\\u53cd\\u9988\\u65f6\\u957fQ80(\\u6c88\\u6069\\u60e0)\", \"x\": [\"8-1\", \"8-2\", \"8-3\", \"8-4\", \"8-5\", \"9-1\", \"9-2\", \"9-3\", \"9-4\", \"10-2\", \"10-3\", \"10-4\", \"10-5\", \"11-1\"], \"y\": [null, null, null, null, null, null, null, null, null, null, null, null, 16.53, 16.53], \"type\": \"scatter\", \"uid\": \"dc72a11a-e625-11e8-8ddb-a41f72875c19\"}, {\"line\": {\"dash\": \"dot\"}, \"name\": \"\\u53cd\\u9988\\u65f6\\u957fQ80(\\u5f20\\u60a6)\", \"x\": [\"8-1\", \"8-2\", \"8-3\", \"8-4\", \"8-5\", \"9-1\", \"9-2\", \"9-3\", \"9-4\", \"10-2\", \"10-3\", \"10-4\", \"10-5\", \"11-1\"], \"y\": [5.54, 2.28, 18.68, 1.47, 2.11, 3.31, null, null, null, null, null, null, null, null], \"type\": \"scatter\", \"uid\": \"dc72a11b-e625-11e8-8ddb-a41f72875c19\"}, {\"line\": {\"dash\": \"dash\"}, \"name\": \"\\u53cd\\u9988\\u65f6\\u957fQ80(\\u8f66\\u5929\\u680b)\", \"x\": [\"8-1\", \"8-2\", \"8-3\", \"8-4\", \"8-5\", \"9-1\", \"9-2\", \"9-3\", \"9-4\", \"10-2\", \"10-3\", \"10-4\", \"10-5\", \"11-1\"], \"y\": [null, null, null, null, null, null, null, null, null, null, null, null, 8.32, 8.32], \"type\": \"scatter\", \"uid\": \"dc72a11c-e625-11e8-8ddb-a41f72875c19\"}, {\"line\": {\"dash\": \"longdash\"}, \"name\": \"\\u53cd\\u9988\\u65f6\\u957fQ80(\\u6c88\\u7acb\\u7fa4)\", \"x\": [\"8-1\", \"8-2\", \"8-3\", \"8-4\", \"8-5\", \"9-1\", \"9-2\", \"9-3\", \"9-4\", \"10-2\", \"10-3\", \"10-4\", \"10-5\", \"11-1\"], \"y\": [null, null, null, null, null, null, null, null, null, null, null, null, 9.69, 9.69], \"type\": \"scatter\", \"uid\": \"dc72a11d-e625-11e8-8ddb-a41f72875c19\"}], {\"title\": \"\\u5e73\\u5747\\u53cd\\u9988\\u65f6\\u957f&\\u53cd\\u9988\\u65f6\\u957fQ80\\u5468\\u8d8b\\u52bf\\u56fe\", \"xaxis\": {\"mirror\": \"all\", \"nticks\": 20, \"showgrid\": true, \"showline\": true, \"title\": \"\\u5468\", \"type\": \"category\", \"zeroline\": true}, \"yaxis\": {\"mirror\": \"all\", \"nticks\": 20, \"showgrid\": true, \"showline\": true, \"title\": \"\\u5e73\\u5747\\u53cd\\u9988\\u65f6\\u957f&\\u53cd\\u9988\\u65f6\\u957fQ80\", \"zeroline\": true}}, {\"showLink\": true, \"linkText\": \"Export to plot.ly\"})});</script>"
      ]
     },
     "metadata": {},
     "output_type": "display_data"
    },
    {
     "data": {
      "application/vnd.plotly.v1+json": {
       "data": [
        {
         "line": {
          "dash": "solid"
         },
         "name": "平均反馈时长(卢楠)",
         "type": "scatter",
         "uid": "dc72a11e-e625-11e8-8ddb-a41f72875c19",
         "x": [
          8,
          9,
          10,
          11
         ],
         "y": [
          5.846803278688524,
          11.526,
          null,
          null
         ]
        },
        {
         "line": {
          "dash": "dot"
         },
         "name": "平均反馈时长(王传文)",
         "type": "scatter",
         "uid": "dc72a11f-e625-11e8-8ddb-a41f72875c19",
         "x": [
          8,
          9,
          10,
          11
         ],
         "y": [
          null,
          null,
          1.688,
          8.44
         ]
        },
        {
         "line": {
          "dash": "dash"
         },
         "name": "平均反馈时长(冷雪)",
         "type": "scatter",
         "uid": "dc72a120-e625-11e8-8ddb-a41f72875c19",
         "x": [
          8,
          9,
          10,
          11
         ],
         "y": [
          4.821589743589744,
          5.106372549019608,
          3.8417558886509635,
          4.98515625
         ]
        },
        {
         "line": {
          "dash": "longdash"
         },
         "name": "平均反馈时长(林文文)",
         "type": "scatter",
         "uid": "dc72a121-e625-11e8-8ddb-a41f72875c19",
         "x": [
          8,
          9,
          10,
          11
         ],
         "y": [
          null,
          null,
          0.745,
          4.47
         ]
        },
        {
         "line": {
          "dash": "dashdot"
         },
         "name": "平均反馈时长(高剑)",
         "type": "scatter",
         "uid": "dc72a122-e625-11e8-8ddb-a41f72875c19",
         "x": [
          8,
          9,
          10,
          11
         ],
         "y": [
          null,
          null,
          0.895,
          3.58
         ]
        },
        {
         "line": {
          "dash": "longdashdot"
         },
         "name": "平均反馈时长(屈昂)",
         "type": "scatter",
         "uid": "dc72a123-e625-11e8-8ddb-a41f72875c19",
         "x": [
          8,
          9,
          10,
          11
         ],
         "y": [
          5.482354430379746,
          7.993348623853212,
          9.184000000000001,
          13.455
         ]
        },
        {
         "line": {
          "dash": "solid"
         },
         "name": "平均反馈时长(沈恩惠)",
         "type": "scatter",
         "uid": "dc72a124-e625-11e8-8ddb-a41f72875c19",
         "x": [
          8,
          9,
          10,
          11
         ],
         "y": [
          null,
          null,
          2.194,
          10.97
         ]
        },
        {
         "line": {
          "dash": "dot"
         },
         "name": "平均反馈时长(张悦)",
         "type": "scatter",
         "uid": "dc72a125-e625-11e8-8ddb-a41f72875c19",
         "x": [
          8,
          9,
          10,
          11
         ],
         "y": [
          5.7700000000000005,
          5.22,
          null,
          null
         ]
        },
        {
         "line": {
          "dash": "dash"
         },
         "name": "平均反馈时长(车天栋)",
         "type": "scatter",
         "uid": "dc72a126-e625-11e8-8ddb-a41f72875c19",
         "x": [
          8,
          9,
          10,
          11
         ],
         "y": [
          null,
          null,
          4.08,
          8.16
         ]
        },
        {
         "line": {
          "dash": "longdash"
         },
         "name": "平均反馈时长(沈立群)",
         "type": "scatter",
         "uid": "dc72a127-e625-11e8-8ddb-a41f72875c19",
         "x": [
          8,
          9,
          10,
          11
         ],
         "y": [
          null,
          null,
          1.7275,
          6.91
         ]
        },
        {
         "line": {
          "dash": "solid"
         },
         "name": "反馈时长Q80(卢楠)",
         "type": "scatter",
         "uid": "dc72a128-e625-11e8-8ddb-a41f72875c19",
         "x": [
          8,
          9,
          10,
          11
         ],
         "y": [
          38.46,
          17.3,
          null,
          null
         ]
        },
        {
         "line": {
          "dash": "dot"
         },
         "name": "反馈时长Q80(王传文)",
         "type": "scatter",
         "uid": "dc72a129-e625-11e8-8ddb-a41f72875c19",
         "x": [
          8,
          9,
          10,
          11
         ],
         "y": [
          null,
          null,
          14.27,
          14.27
         ]
        },
        {
         "line": {
          "dash": "dash"
         },
         "name": "反馈时长Q80(冷雪)",
         "type": "scatter",
         "uid": "dc72a12a-e625-11e8-8ddb-a41f72875c19",
         "x": [
          8,
          9,
          10,
          11
         ],
         "y": [
          27.599999999999998,
          32.31,
          20.2,
          6.52
         ]
        },
        {
         "line": {
          "dash": "longdash"
         },
         "name": "反馈时长Q80(林文文)",
         "type": "scatter",
         "uid": "dc72a12b-e625-11e8-8ddb-a41f72875c19",
         "x": [
          8,
          9,
          10,
          11
         ],
         "y": [
          null,
          null,
          7.02,
          7.02
         ]
        },
        {
         "line": {
          "dash": "dashdot"
         },
         "name": "反馈时长Q80(高剑)",
         "type": "scatter",
         "uid": "dc72a12c-e625-11e8-8ddb-a41f72875c19",
         "x": [
          8,
          9,
          10,
          11
         ],
         "y": [
          null,
          null,
          4.66,
          4.66
         ]
        },
        {
         "line": {
          "dash": "longdashdot"
         },
         "name": "反馈时长Q80(屈昂)",
         "type": "scatter",
         "uid": "dc72a12d-e625-11e8-8ddb-a41f72875c19",
         "x": [
          8,
          9,
          10,
          11
         ],
         "y": [
          32.76,
          32.52,
          30.090000000000003,
          6.92
         ]
        },
        {
         "line": {
          "dash": "solid"
         },
         "name": "反馈时长Q80(沈恩惠)",
         "type": "scatter",
         "uid": "dc72a12e-e625-11e8-8ddb-a41f72875c19",
         "x": [
          8,
          9,
          10,
          11
         ],
         "y": [
          null,
          null,
          16.53,
          16.53
         ]
        },
        {
         "line": {
          "dash": "dot"
         },
         "name": "反馈时长Q80(张悦)",
         "type": "scatter",
         "uid": "dc72a12f-e625-11e8-8ddb-a41f72875c19",
         "x": [
          8,
          9,
          10,
          11
         ],
         "y": [
          30.08,
          3.31,
          null,
          null
         ]
        },
        {
         "line": {
          "dash": "dash"
         },
         "name": "反馈时长Q80(车天栋)",
         "type": "scatter",
         "uid": "dc72a130-e625-11e8-8ddb-a41f72875c19",
         "x": [
          8,
          9,
          10,
          11
         ],
         "y": [
          null,
          null,
          8.32,
          8.32
         ]
        },
        {
         "line": {
          "dash": "longdash"
         },
         "name": "反馈时长Q80(沈立群)",
         "type": "scatter",
         "uid": "dc72a131-e625-11e8-8ddb-a41f72875c19",
         "x": [
          8,
          9,
          10,
          11
         ],
         "y": [
          null,
          null,
          9.69,
          9.69
         ]
        }
       ],
       "layout": {
        "title": "平均反馈时长&反馈时长Q80月趋势图",
        "xaxis": {
         "mirror": "all",
         "nticks": 20,
         "showgrid": true,
         "showline": true,
         "title": "月",
         "type": "category",
         "zeroline": true
        },
        "yaxis": {
         "mirror": "all",
         "nticks": 20,
         "showgrid": true,
         "showline": true,
         "title": "平均反馈时长&反馈时长Q80",
         "zeroline": true
        }
       }
      },
      "text/html": [
       "<div id=\"c70fdbb6-d72f-4a86-bbd1-3596a7c6d302\" style=\"height: 525px; width: 100%;\" class=\"plotly-graph-div\"></div><script type=\"text/javascript\">require([\"plotly\"], function(Plotly) { window.PLOTLYENV=window.PLOTLYENV || {};window.PLOTLYENV.BASE_URL=\"https://plot.ly\";Plotly.newPlot(\"c70fdbb6-d72f-4a86-bbd1-3596a7c6d302\", [{\"line\": {\"dash\": \"solid\"}, \"name\": \"\\u5e73\\u5747\\u53cd\\u9988\\u65f6\\u957f(\\u5362\\u6960)\", \"x\": [8, 9, 10, 11], \"y\": [5.846803278688524, 11.526, null, null], \"type\": \"scatter\", \"uid\": \"dc72a11e-e625-11e8-8ddb-a41f72875c19\"}, {\"line\": {\"dash\": \"dot\"}, \"name\": \"\\u5e73\\u5747\\u53cd\\u9988\\u65f6\\u957f(\\u738b\\u4f20\\u6587)\", \"x\": [8, 9, 10, 11], \"y\": [null, null, 1.688, 8.44], \"type\": \"scatter\", \"uid\": \"dc72a11f-e625-11e8-8ddb-a41f72875c19\"}, {\"line\": {\"dash\": \"dash\"}, \"name\": \"\\u5e73\\u5747\\u53cd\\u9988\\u65f6\\u957f(\\u51b7\\u96ea)\", \"x\": [8, 9, 10, 11], \"y\": [4.821589743589744, 5.106372549019608, 3.8417558886509635, 4.98515625], \"type\": \"scatter\", \"uid\": \"dc72a120-e625-11e8-8ddb-a41f72875c19\"}, {\"line\": {\"dash\": \"longdash\"}, \"name\": \"\\u5e73\\u5747\\u53cd\\u9988\\u65f6\\u957f(\\u6797\\u6587\\u6587)\", \"x\": [8, 9, 10, 11], \"y\": [null, null, 0.745, 4.47], \"type\": \"scatter\", \"uid\": \"dc72a121-e625-11e8-8ddb-a41f72875c19\"}, {\"line\": {\"dash\": \"dashdot\"}, \"name\": \"\\u5e73\\u5747\\u53cd\\u9988\\u65f6\\u957f(\\u9ad8\\u5251)\", \"x\": [8, 9, 10, 11], \"y\": [null, null, 0.895, 3.58], \"type\": \"scatter\", \"uid\": \"dc72a122-e625-11e8-8ddb-a41f72875c19\"}, {\"line\": {\"dash\": \"longdashdot\"}, \"name\": \"\\u5e73\\u5747\\u53cd\\u9988\\u65f6\\u957f(\\u5c48\\u6602)\", \"x\": [8, 9, 10, 11], \"y\": [5.482354430379746, 7.993348623853212, 9.184000000000001, 13.455], \"type\": \"scatter\", \"uid\": \"dc72a123-e625-11e8-8ddb-a41f72875c19\"}, {\"line\": {\"dash\": \"solid\"}, \"name\": \"\\u5e73\\u5747\\u53cd\\u9988\\u65f6\\u957f(\\u6c88\\u6069\\u60e0)\", \"x\": [8, 9, 10, 11], \"y\": [null, null, 2.194, 10.97], \"type\": \"scatter\", \"uid\": \"dc72a124-e625-11e8-8ddb-a41f72875c19\"}, {\"line\": {\"dash\": \"dot\"}, \"name\": \"\\u5e73\\u5747\\u53cd\\u9988\\u65f6\\u957f(\\u5f20\\u60a6)\", \"x\": [8, 9, 10, 11], \"y\": [5.7700000000000005, 5.22, null, null], \"type\": \"scatter\", \"uid\": \"dc72a125-e625-11e8-8ddb-a41f72875c19\"}, {\"line\": {\"dash\": \"dash\"}, \"name\": \"\\u5e73\\u5747\\u53cd\\u9988\\u65f6\\u957f(\\u8f66\\u5929\\u680b)\", \"x\": [8, 9, 10, 11], \"y\": [null, null, 4.08, 8.16], \"type\": \"scatter\", \"uid\": \"dc72a126-e625-11e8-8ddb-a41f72875c19\"}, {\"line\": {\"dash\": \"longdash\"}, \"name\": \"\\u5e73\\u5747\\u53cd\\u9988\\u65f6\\u957f(\\u6c88\\u7acb\\u7fa4)\", \"x\": [8, 9, 10, 11], \"y\": [null, null, 1.7275, 6.91], \"type\": \"scatter\", \"uid\": \"dc72a127-e625-11e8-8ddb-a41f72875c19\"}, {\"line\": {\"dash\": \"solid\"}, \"name\": \"\\u53cd\\u9988\\u65f6\\u957fQ80(\\u5362\\u6960)\", \"x\": [8, 9, 10, 11], \"y\": [38.46, 17.3, null, null], \"type\": \"scatter\", \"uid\": \"dc72a128-e625-11e8-8ddb-a41f72875c19\"}, {\"line\": {\"dash\": \"dot\"}, \"name\": \"\\u53cd\\u9988\\u65f6\\u957fQ80(\\u738b\\u4f20\\u6587)\", \"x\": [8, 9, 10, 11], \"y\": [null, null, 14.27, 14.27], \"type\": \"scatter\", \"uid\": \"dc72a129-e625-11e8-8ddb-a41f72875c19\"}, {\"line\": {\"dash\": \"dash\"}, \"name\": \"\\u53cd\\u9988\\u65f6\\u957fQ80(\\u51b7\\u96ea)\", \"x\": [8, 9, 10, 11], \"y\": [27.599999999999998, 32.31, 20.2, 6.52], \"type\": \"scatter\", \"uid\": \"dc72a12a-e625-11e8-8ddb-a41f72875c19\"}, {\"line\": {\"dash\": \"longdash\"}, \"name\": \"\\u53cd\\u9988\\u65f6\\u957fQ80(\\u6797\\u6587\\u6587)\", \"x\": [8, 9, 10, 11], \"y\": [null, null, 7.02, 7.02], \"type\": \"scatter\", \"uid\": \"dc72a12b-e625-11e8-8ddb-a41f72875c19\"}, {\"line\": {\"dash\": \"dashdot\"}, \"name\": \"\\u53cd\\u9988\\u65f6\\u957fQ80(\\u9ad8\\u5251)\", \"x\": [8, 9, 10, 11], \"y\": [null, null, 4.66, 4.66], \"type\": \"scatter\", \"uid\": \"dc72a12c-e625-11e8-8ddb-a41f72875c19\"}, {\"line\": {\"dash\": \"longdashdot\"}, \"name\": \"\\u53cd\\u9988\\u65f6\\u957fQ80(\\u5c48\\u6602)\", \"x\": [8, 9, 10, 11], \"y\": [32.76, 32.52, 30.090000000000003, 6.92], \"type\": \"scatter\", \"uid\": \"dc72a12d-e625-11e8-8ddb-a41f72875c19\"}, {\"line\": {\"dash\": \"solid\"}, \"name\": \"\\u53cd\\u9988\\u65f6\\u957fQ80(\\u6c88\\u6069\\u60e0)\", \"x\": [8, 9, 10, 11], \"y\": [null, null, 16.53, 16.53], \"type\": \"scatter\", \"uid\": \"dc72a12e-e625-11e8-8ddb-a41f72875c19\"}, {\"line\": {\"dash\": \"dot\"}, \"name\": \"\\u53cd\\u9988\\u65f6\\u957fQ80(\\u5f20\\u60a6)\", \"x\": [8, 9, 10, 11], \"y\": [30.08, 3.31, null, null], \"type\": \"scatter\", \"uid\": \"dc72a12f-e625-11e8-8ddb-a41f72875c19\"}, {\"line\": {\"dash\": \"dash\"}, \"name\": \"\\u53cd\\u9988\\u65f6\\u957fQ80(\\u8f66\\u5929\\u680b)\", \"x\": [8, 9, 10, 11], \"y\": [null, null, 8.32, 8.32], \"type\": \"scatter\", \"uid\": \"dc72a130-e625-11e8-8ddb-a41f72875c19\"}, {\"line\": {\"dash\": \"longdash\"}, \"name\": \"\\u53cd\\u9988\\u65f6\\u957fQ80(\\u6c88\\u7acb\\u7fa4)\", \"x\": [8, 9, 10, 11], \"y\": [null, null, 9.69, 9.69], \"type\": \"scatter\", \"uid\": \"dc72a131-e625-11e8-8ddb-a41f72875c19\"}], {\"title\": \"\\u5e73\\u5747\\u53cd\\u9988\\u65f6\\u957f&\\u53cd\\u9988\\u65f6\\u957fQ80\\u6708\\u8d8b\\u52bf\\u56fe\", \"xaxis\": {\"mirror\": \"all\", \"nticks\": 20, \"showgrid\": true, \"showline\": true, \"title\": \"\\u6708\", \"type\": \"category\", \"zeroline\": true}, \"yaxis\": {\"mirror\": \"all\", \"nticks\": 20, \"showgrid\": true, \"showline\": true, \"title\": \"\\u5e73\\u5747\\u53cd\\u9988\\u65f6\\u957f&\\u53cd\\u9988\\u65f6\\u957fQ80\", \"zeroline\": true}}, {\"showLink\": true, \"linkText\": \"Export to plot.ly\"})});</script>"
      ],
      "text/vnd.plotly.v1+html": [
       "<div id=\"c70fdbb6-d72f-4a86-bbd1-3596a7c6d302\" style=\"height: 525px; width: 100%;\" class=\"plotly-graph-div\"></div><script type=\"text/javascript\">require([\"plotly\"], function(Plotly) { window.PLOTLYENV=window.PLOTLYENV || {};window.PLOTLYENV.BASE_URL=\"https://plot.ly\";Plotly.newPlot(\"c70fdbb6-d72f-4a86-bbd1-3596a7c6d302\", [{\"line\": {\"dash\": \"solid\"}, \"name\": \"\\u5e73\\u5747\\u53cd\\u9988\\u65f6\\u957f(\\u5362\\u6960)\", \"x\": [8, 9, 10, 11], \"y\": [5.846803278688524, 11.526, null, null], \"type\": \"scatter\", \"uid\": \"dc72a11e-e625-11e8-8ddb-a41f72875c19\"}, {\"line\": {\"dash\": \"dot\"}, \"name\": \"\\u5e73\\u5747\\u53cd\\u9988\\u65f6\\u957f(\\u738b\\u4f20\\u6587)\", \"x\": [8, 9, 10, 11], \"y\": [null, null, 1.688, 8.44], \"type\": \"scatter\", \"uid\": \"dc72a11f-e625-11e8-8ddb-a41f72875c19\"}, {\"line\": {\"dash\": \"dash\"}, \"name\": \"\\u5e73\\u5747\\u53cd\\u9988\\u65f6\\u957f(\\u51b7\\u96ea)\", \"x\": [8, 9, 10, 11], \"y\": [4.821589743589744, 5.106372549019608, 3.8417558886509635, 4.98515625], \"type\": \"scatter\", \"uid\": \"dc72a120-e625-11e8-8ddb-a41f72875c19\"}, {\"line\": {\"dash\": \"longdash\"}, \"name\": \"\\u5e73\\u5747\\u53cd\\u9988\\u65f6\\u957f(\\u6797\\u6587\\u6587)\", \"x\": [8, 9, 10, 11], \"y\": [null, null, 0.745, 4.47], \"type\": \"scatter\", \"uid\": \"dc72a121-e625-11e8-8ddb-a41f72875c19\"}, {\"line\": {\"dash\": \"dashdot\"}, \"name\": \"\\u5e73\\u5747\\u53cd\\u9988\\u65f6\\u957f(\\u9ad8\\u5251)\", \"x\": [8, 9, 10, 11], \"y\": [null, null, 0.895, 3.58], \"type\": \"scatter\", \"uid\": \"dc72a122-e625-11e8-8ddb-a41f72875c19\"}, {\"line\": {\"dash\": \"longdashdot\"}, \"name\": \"\\u5e73\\u5747\\u53cd\\u9988\\u65f6\\u957f(\\u5c48\\u6602)\", \"x\": [8, 9, 10, 11], \"y\": [5.482354430379746, 7.993348623853212, 9.184000000000001, 13.455], \"type\": \"scatter\", \"uid\": \"dc72a123-e625-11e8-8ddb-a41f72875c19\"}, {\"line\": {\"dash\": \"solid\"}, \"name\": \"\\u5e73\\u5747\\u53cd\\u9988\\u65f6\\u957f(\\u6c88\\u6069\\u60e0)\", \"x\": [8, 9, 10, 11], \"y\": [null, null, 2.194, 10.97], \"type\": \"scatter\", \"uid\": \"dc72a124-e625-11e8-8ddb-a41f72875c19\"}, {\"line\": {\"dash\": \"dot\"}, \"name\": \"\\u5e73\\u5747\\u53cd\\u9988\\u65f6\\u957f(\\u5f20\\u60a6)\", \"x\": [8, 9, 10, 11], \"y\": [5.7700000000000005, 5.22, null, null], \"type\": \"scatter\", \"uid\": \"dc72a125-e625-11e8-8ddb-a41f72875c19\"}, {\"line\": {\"dash\": \"dash\"}, \"name\": \"\\u5e73\\u5747\\u53cd\\u9988\\u65f6\\u957f(\\u8f66\\u5929\\u680b)\", \"x\": [8, 9, 10, 11], \"y\": [null, null, 4.08, 8.16], \"type\": \"scatter\", \"uid\": \"dc72a126-e625-11e8-8ddb-a41f72875c19\"}, {\"line\": {\"dash\": \"longdash\"}, \"name\": \"\\u5e73\\u5747\\u53cd\\u9988\\u65f6\\u957f(\\u6c88\\u7acb\\u7fa4)\", \"x\": [8, 9, 10, 11], \"y\": [null, null, 1.7275, 6.91], \"type\": \"scatter\", \"uid\": \"dc72a127-e625-11e8-8ddb-a41f72875c19\"}, {\"line\": {\"dash\": \"solid\"}, \"name\": \"\\u53cd\\u9988\\u65f6\\u957fQ80(\\u5362\\u6960)\", \"x\": [8, 9, 10, 11], \"y\": [38.46, 17.3, null, null], \"type\": \"scatter\", \"uid\": \"dc72a128-e625-11e8-8ddb-a41f72875c19\"}, {\"line\": {\"dash\": \"dot\"}, \"name\": \"\\u53cd\\u9988\\u65f6\\u957fQ80(\\u738b\\u4f20\\u6587)\", \"x\": [8, 9, 10, 11], \"y\": [null, null, 14.27, 14.27], \"type\": \"scatter\", \"uid\": \"dc72a129-e625-11e8-8ddb-a41f72875c19\"}, {\"line\": {\"dash\": \"dash\"}, \"name\": \"\\u53cd\\u9988\\u65f6\\u957fQ80(\\u51b7\\u96ea)\", \"x\": [8, 9, 10, 11], \"y\": [27.599999999999998, 32.31, 20.2, 6.52], \"type\": \"scatter\", \"uid\": \"dc72a12a-e625-11e8-8ddb-a41f72875c19\"}, {\"line\": {\"dash\": \"longdash\"}, \"name\": \"\\u53cd\\u9988\\u65f6\\u957fQ80(\\u6797\\u6587\\u6587)\", \"x\": [8, 9, 10, 11], \"y\": [null, null, 7.02, 7.02], \"type\": \"scatter\", \"uid\": \"dc72a12b-e625-11e8-8ddb-a41f72875c19\"}, {\"line\": {\"dash\": \"dashdot\"}, \"name\": \"\\u53cd\\u9988\\u65f6\\u957fQ80(\\u9ad8\\u5251)\", \"x\": [8, 9, 10, 11], \"y\": [null, null, 4.66, 4.66], \"type\": \"scatter\", \"uid\": \"dc72a12c-e625-11e8-8ddb-a41f72875c19\"}, {\"line\": {\"dash\": \"longdashdot\"}, \"name\": \"\\u53cd\\u9988\\u65f6\\u957fQ80(\\u5c48\\u6602)\", \"x\": [8, 9, 10, 11], \"y\": [32.76, 32.52, 30.090000000000003, 6.92], \"type\": \"scatter\", \"uid\": \"dc72a12d-e625-11e8-8ddb-a41f72875c19\"}, {\"line\": {\"dash\": \"solid\"}, \"name\": \"\\u53cd\\u9988\\u65f6\\u957fQ80(\\u6c88\\u6069\\u60e0)\", \"x\": [8, 9, 10, 11], \"y\": [null, null, 16.53, 16.53], \"type\": \"scatter\", \"uid\": \"dc72a12e-e625-11e8-8ddb-a41f72875c19\"}, {\"line\": {\"dash\": \"dot\"}, \"name\": \"\\u53cd\\u9988\\u65f6\\u957fQ80(\\u5f20\\u60a6)\", \"x\": [8, 9, 10, 11], \"y\": [30.08, 3.31, null, null], \"type\": \"scatter\", \"uid\": \"dc72a12f-e625-11e8-8ddb-a41f72875c19\"}, {\"line\": {\"dash\": \"dash\"}, \"name\": \"\\u53cd\\u9988\\u65f6\\u957fQ80(\\u8f66\\u5929\\u680b)\", \"x\": [8, 9, 10, 11], \"y\": [null, null, 8.32, 8.32], \"type\": \"scatter\", \"uid\": \"dc72a130-e625-11e8-8ddb-a41f72875c19\"}, {\"line\": {\"dash\": \"longdash\"}, \"name\": \"\\u53cd\\u9988\\u65f6\\u957fQ80(\\u6c88\\u7acb\\u7fa4)\", \"x\": [8, 9, 10, 11], \"y\": [null, null, 9.69, 9.69], \"type\": \"scatter\", \"uid\": \"dc72a131-e625-11e8-8ddb-a41f72875c19\"}], {\"title\": \"\\u5e73\\u5747\\u53cd\\u9988\\u65f6\\u957f&\\u53cd\\u9988\\u65f6\\u957fQ80\\u6708\\u8d8b\\u52bf\\u56fe\", \"xaxis\": {\"mirror\": \"all\", \"nticks\": 20, \"showgrid\": true, \"showline\": true, \"title\": \"\\u6708\", \"type\": \"category\", \"zeroline\": true}, \"yaxis\": {\"mirror\": \"all\", \"nticks\": 20, \"showgrid\": true, \"showline\": true, \"title\": \"\\u5e73\\u5747\\u53cd\\u9988\\u65f6\\u957f&\\u53cd\\u9988\\u65f6\\u957fQ80\", \"zeroline\": true}}, {\"showLink\": true, \"linkText\": \"Export to plot.ly\"})});</script>"
      ]
     },
     "metadata": {},
     "output_type": "display_data"
    }
   ],
   "source": [
    "ss = myModule.format(all_df1 ,\"日期（格式“月-周次”）\" ,['反馈总时长','下机批次数','反馈时长Q80'])\n",
    "ss.add_group('人员')\n",
    "tt = ss.get_total_ratio([['平均反馈时长','反馈总时长','下机批次数','/']] , ['反馈时长Q80'])\n",
    "myModule.myPlot(myModule.sort_by_index(tt)).plot('line')\n",
    "\n",
    "ss = myModule.format(all_df1 ,\"month\" ,['反馈总时长','下机批次数','反馈时长Q80'])\n",
    "ss.add_group('人员')\n",
    "tt = ss.get_total_ratio([['平均反馈时长','反馈总时长','下机批次数','/']] , ['反馈时长Q80'])\n",
    "myModule.myPlot(tt).plot('line','月')"
   ]
  },
  {
   "cell_type": "code",
   "execution_count": null,
   "metadata": {
    "collapsed": true
   },
   "outputs": [],
   "source": []
  }
 ],
 "metadata": {
  "celltoolbar": "Raw Cell Format",
  "hide_input": false,
  "kernelspec": {
   "display_name": "Python 3",
   "language": "python",
   "name": "python3"
  },
  "language_info": {
   "codemirror_mode": {
    "name": "ipython",
    "version": 3
   },
   "file_extension": ".py",
   "mimetype": "text/x-python",
   "name": "python",
   "nbconvert_exporter": "python",
   "pygments_lexer": "ipython3",
   "version": "3.6.0"
  },
  "toc": {
   "base_numbering": 1,
   "nav_menu": {},
   "number_sections": true,
   "sideBar": true,
   "skip_h1_title": false,
   "title_cell": "Table of Contents",
   "title_sidebar": "Contents",
   "toc_cell": false,
   "toc_position": {
    "height": "513.333px",
    "left": "419px",
    "top": "110.926px",
    "width": "225px"
   },
   "toc_section_display": true,
   "toc_window_display": true
  }
 },
 "nbformat": 4,
 "nbformat_minor": 2
}
